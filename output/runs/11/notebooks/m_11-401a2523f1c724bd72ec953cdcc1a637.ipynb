{
 "cells": [
  {
   "cell_type": "code",
   "execution_count": 1,
   "id": "f159f837-637b-42ba-96b5-ec9a68c44524",
   "metadata": {
    "execution": {
     "iopub.execute_input": "2025-07-28T10:29:11.724604Z",
     "iopub.status.busy": "2025-07-28T10:29:11.724259Z",
     "iopub.status.idle": "2025-07-28T10:29:11.734591Z",
     "shell.execute_reply": "2025-07-28T10:29:11.733642Z"
    },
    "papermill": {
     "duration": 0.023238,
     "end_time": "2025-07-28T10:29:11.735981",
     "exception": false,
     "start_time": "2025-07-28T10:29:11.712743",
     "status": "completed"
    },
    "tags": []
   },
   "outputs": [
    {
     "name": "stdout",
     "output_type": "stream",
     "text": [
      "/dss/dsshome1/0C/ra93lal2/cma/CMA_Fairness_v2\n"
     ]
    },
    {
     "name": "stderr",
     "output_type": "stream",
     "text": [
      "/dss/dsshome1/0C/ra93lal2/.local/share/virtualenvs/CMA_Fairness_v2-3j10GkSs/lib/python3.10/site-packages/IPython/core/magics/osm.py:393: UserWarning: This is now an optional IPython functionality, using bookmarks requires you to install the `pickleshare` library.\n",
      "  bkms = self.shell.db.get('bookmarks', {})\n",
      "/dss/dsshome1/0C/ra93lal2/.local/share/virtualenvs/CMA_Fairness_v2-3j10GkSs/lib/python3.10/site-packages/IPython/core/magics/osm.py:417: UserWarning: This is now an optional IPython functionality, setting dhist requires you to install the `pickleshare` library.\n",
      "  self.shell.db['dhist'] = compress_dhist(dhist)[-100:]\n"
     ]
    }
   ],
   "source": [
    "%cd ~/cma/CMA_Fairness_v2"
   ]
  },
  {
   "cell_type": "markdown",
   "id": "de2603b9",
   "metadata": {
    "papermill": {
     "duration": 0.009679,
     "end_time": "2025-07-28T10:29:11.755999",
     "exception": false,
     "start_time": "2025-07-28T10:29:11.746320",
     "status": "completed"
    },
    "tags": []
   },
   "source": [
    "The following cell holds the definition of our parameters, these values can be overriden by rendering the with e.g. the following command:\n",
    "\n",
    "papermill -p alpha 0.2 -p ratio 0.3 universe_analysis.ipynb output/test_run.ipynb"
   ]
  },
  {
   "cell_type": "code",
   "execution_count": 2,
   "id": "a80968a0-40bb-4fa9-85ef-2d5eefb01975",
   "metadata": {
    "execution": {
     "iopub.execute_input": "2025-07-28T10:29:11.781576Z",
     "iopub.status.busy": "2025-07-28T10:29:11.780731Z",
     "iopub.status.idle": "2025-07-28T10:29:11.785912Z",
     "shell.execute_reply": "2025-07-28T10:29:11.785206Z"
    },
    "papermill": {
     "duration": 0.01785,
     "end_time": "2025-07-28T10:29:11.787194",
     "exception": false,
     "start_time": "2025-07-28T10:29:11.769344",
     "status": "completed"
    },
    "tags": []
   },
   "outputs": [
    {
     "name": "stdout",
     "output_type": "stream",
     "text": [
      "Current working directory: /dss/dsshome1/0C/ra93lal2/cma/CMA_Fairness_v2\n"
     ]
    }
   ],
   "source": [
    "import os\n",
    "print(\"Current working directory:\", os.getcwd())"
   ]
  },
  {
   "cell_type": "code",
   "execution_count": 3,
   "id": "2dce4c03",
   "metadata": {
    "execution": {
     "iopub.execute_input": "2025-07-28T10:29:11.808755Z",
     "iopub.status.busy": "2025-07-28T10:29:11.808221Z",
     "iopub.status.idle": "2025-07-28T10:29:11.813046Z",
     "shell.execute_reply": "2025-07-28T10:29:11.812384Z"
    },
    "papermill": {
     "duration": 0.016536,
     "end_time": "2025-07-28T10:29:11.814225",
     "exception": false,
     "start_time": "2025-07-28T10:29:11.797689",
     "status": "completed"
    },
    "tags": [
     "parameters"
    ]
   },
   "outputs": [],
   "source": [
    "run_no = 0\n",
    "universe_id = \"test\"\n",
    "universe = {\n",
    "    \"training_size\": \"2014\", # \"25k\", \"5k\", \"1k\", \"2014\"\n",
    "    \"scale\": \"scale\", # \"scale\", \"do-not-scale\",\n",
    "    #\"stratify_split\": \"target\", # \"none\", \"target\", \"protected-attribute\", \"both\",\n",
    "    \"model\": \"elasticnet\", # \"logreg\", \"penalized_logreg\", \"rf\", \"gbm\", \"elasticnet\"\n",
    "    \"cutoff\": [\"quantile_0.15\", \"quantile_0.30\"],\n",
    "    \"exclude_features\": \"age\", # \"none\", \"nationality\", \"sex\", \"nationality-sex\", \"age\"\n",
    "    \"exclude_subgroups\": \"keep-all\", # \"keep-all\", \"drop-non-german\"\n",
    "    #\"training_sample\": \"restricted\", # \"restricted\", \"full\"\n",
    "    \"eval_fairness_grouping\": [\"majority-minority\", \"nationality-all\"]\n",
    "}\n",
    "\n",
    "output_dir=\"./output\"\n",
    "seed=0"
   ]
  },
  {
   "cell_type": "code",
   "execution_count": 4,
   "id": "06952112",
   "metadata": {
    "execution": {
     "iopub.execute_input": "2025-07-28T10:29:11.843179Z",
     "iopub.status.busy": "2025-07-28T10:29:11.842608Z",
     "iopub.status.idle": "2025-07-28T10:29:11.847106Z",
     "shell.execute_reply": "2025-07-28T10:29:11.846378Z"
    },
    "papermill": {
     "duration": 0.017218,
     "end_time": "2025-07-28T10:29:11.848492",
     "exception": false,
     "start_time": "2025-07-28T10:29:11.831274",
     "status": "completed"
    },
    "tags": [
     "injected-parameters"
    ]
   },
   "outputs": [],
   "source": [
    "# Parameters\n",
    "universe_id = \"401a2523f1c724bd72ec953cdcc1a637\"\n",
    "run_no = \"11\"\n",
    "universe = \"{\\\"cutoff\\\": [\\\"quantile_0.1\\\", \\\"quantile_0.25\\\"], \\\"eval_fairness_grouping\\\": [\\\"majority-minority\\\", \\\"nationality-all\\\"], \\\"exclude_features\\\": \\\"age\\\", \\\"exclude_subgroups\\\": \\\"keep-all\\\", \\\"model\\\": \\\"penalized_logreg\\\", \\\"scale\\\": \\\"scale\\\", \\\"training_size\\\": \\\"5k\\\"}\"\n",
    "output_dir = \"output\"\n",
    "seed = \"2023\"\n"
   ]
  },
  {
   "cell_type": "code",
   "execution_count": 5,
   "id": "1650acaf",
   "metadata": {
    "execution": {
     "iopub.execute_input": "2025-07-28T10:29:11.870891Z",
     "iopub.status.busy": "2025-07-28T10:29:11.870245Z",
     "iopub.status.idle": "2025-07-28T10:29:11.874479Z",
     "shell.execute_reply": "2025-07-28T10:29:11.873832Z"
    },
    "papermill": {
     "duration": 0.016619,
     "end_time": "2025-07-28T10:29:11.875737",
     "exception": false,
     "start_time": "2025-07-28T10:29:11.859118",
     "status": "completed"
    },
    "tags": []
   },
   "outputs": [],
   "source": [
    "import json\n",
    "# Parse universe into dict if it is passed as a string\n",
    "if isinstance(universe, str):\n",
    "    universe = json.loads(universe)"
   ]
  },
  {
   "cell_type": "code",
   "execution_count": 6,
   "id": "16620c48",
   "metadata": {
    "execution": {
     "iopub.execute_input": "2025-07-28T10:29:11.901742Z",
     "iopub.status.busy": "2025-07-28T10:29:11.901155Z",
     "iopub.status.idle": "2025-07-28T10:29:11.929888Z",
     "shell.execute_reply": "2025-07-28T10:29:11.929158Z"
    },
    "papermill": {
     "duration": 0.041819,
     "end_time": "2025-07-28T10:29:11.931226",
     "exception": false,
     "start_time": "2025-07-28T10:29:11.889407",
     "status": "completed"
    },
    "tags": []
   },
   "outputs": [],
   "source": [
    "# Auto-reload the custom package\n",
    "%load_ext autoreload\n",
    "%autoreload 1\n",
    "%aimport fairness_multiverse"
   ]
  },
  {
   "cell_type": "code",
   "execution_count": 7,
   "id": "01c5c9f3",
   "metadata": {
    "execution": {
     "iopub.execute_input": "2025-07-28T10:29:11.961646Z",
     "iopub.status.busy": "2025-07-28T10:29:11.961230Z",
     "iopub.status.idle": "2025-07-28T10:29:13.917117Z",
     "shell.execute_reply": "2025-07-28T10:29:13.916277Z"
    },
    "papermill": {
     "duration": 1.972015,
     "end_time": "2025-07-28T10:29:13.918739",
     "exception": false,
     "start_time": "2025-07-28T10:29:11.946724",
     "status": "completed"
    },
    "tags": []
   },
   "outputs": [],
   "source": [
    "from fairness_multiverse.universe import UniverseAnalysis\n",
    "\n",
    "universe_analysis = UniverseAnalysis(\n",
    "    run_no = run_no,\n",
    "    universe_id = universe_id,\n",
    "    universe = universe,\n",
    "    output_dir=output_dir,\n",
    ")"
   ]
  },
  {
   "cell_type": "code",
   "execution_count": 8,
   "id": "106241f5",
   "metadata": {
    "execution": {
     "iopub.execute_input": "2025-07-28T10:29:13.942301Z",
     "iopub.status.busy": "2025-07-28T10:29:13.941921Z",
     "iopub.status.idle": "2025-07-28T10:29:13.947888Z",
     "shell.execute_reply": "2025-07-28T10:29:13.946781Z"
    },
    "papermill": {
     "duration": 0.019412,
     "end_time": "2025-07-28T10:29:13.949372",
     "exception": false,
     "start_time": "2025-07-28T10:29:13.929960",
     "status": "completed"
    },
    "tags": []
   },
   "outputs": [
    {
     "name": "stdout",
     "output_type": "stream",
     "text": [
      "Using Seed: 2023\n"
     ]
    }
   ],
   "source": [
    "import numpy as np\n",
    "parsed_seed = int(seed)\n",
    "np.random.seed(parsed_seed)\n",
    "print(f\"Using Seed: {parsed_seed}\")"
   ]
  },
  {
   "cell_type": "markdown",
   "id": "e0ebdc57",
   "metadata": {
    "papermill": {
     "duration": 0.010751,
     "end_time": "2025-07-28T10:29:13.971785",
     "exception": false,
     "start_time": "2025-07-28T10:29:13.961034",
     "status": "completed"
    },
    "tags": []
   },
   "source": [
    "# Loading Data"
   ]
  },
  {
   "cell_type": "markdown",
   "id": "681925a3",
   "metadata": {
    "papermill": {
     "duration": 0.011071,
     "end_time": "2025-07-28T10:29:13.993641",
     "exception": false,
     "start_time": "2025-07-28T10:29:13.982570",
     "status": "completed"
    },
    "tags": []
   },
   "source": [
    "Load siab_train, siab_test, siab_calib and/or \n",
    "load siab_train_features, siab_train_labels"
   ]
  },
  {
   "cell_type": "code",
   "execution_count": 9,
   "id": "f0496b8a",
   "metadata": {
    "execution": {
     "iopub.execute_input": "2025-07-28T10:29:14.016661Z",
     "iopub.status.busy": "2025-07-28T10:29:14.015831Z",
     "iopub.status.idle": "2025-07-28T10:29:26.330297Z",
     "shell.execute_reply": "2025-07-28T10:29:26.327153Z"
    },
    "papermill": {
     "duration": 12.327632,
     "end_time": "2025-07-28T10:29:26.331897",
     "exception": false,
     "start_time": "2025-07-28T10:29:14.004265",
     "status": "completed"
    },
    "tags": []
   },
   "outputs": [
    {
     "name": "stdout",
     "output_type": "stream",
     "text": [
      "Loading SIAB data from cache: data/siab_cached.csv.gz\n"
     ]
    },
    {
     "name": "stdout",
     "output_type": "stream",
     "text": [
      "(643690, 164)\n"
     ]
    }
   ],
   "source": [
    "from pathlib import Path\n",
    "import pandas as pd\n",
    "\n",
    "# File paths\n",
    "raw_file = Path(\"data/raw/siab.csv\")\n",
    "cache_file = Path(\"data/siab_cached.csv.gz\")\n",
    "\n",
    "# Ensure cache directory exists\n",
    "cache_file.parent.mkdir(parents=True, exist_ok=True)\n",
    "\n",
    "# Load with simple caching\n",
    "if cache_file.exists():\n",
    "    print(f\"Loading SIAB data from cache: {cache_file}\")\n",
    "    siab = pd.read_csv(cache_file, compression='gzip')\n",
    "else:\n",
    "    print(f\"Cache not found. Reading raw SIAB data: {raw_file}\")\n",
    "    siab = pd.read_csv(raw_file)\n",
    "    siab.to_csv(cache_file, index=False, compression='gzip')\n",
    "    print(f\"Cached SIAB data to: {cache_file}\")\n",
    "\n",
    "# Now use `siab` DataFrame as needed\n",
    "print(siab.shape)"
   ]
  },
  {
   "cell_type": "code",
   "execution_count": 10,
   "id": "db0ca512-5f53-4dba-abdb-a2888bca41ba",
   "metadata": {
    "execution": {
     "iopub.execute_input": "2025-07-28T10:29:26.357414Z",
     "iopub.status.busy": "2025-07-28T10:29:26.357024Z",
     "iopub.status.idle": "2025-07-28T10:29:26.362182Z",
     "shell.execute_reply": "2025-07-28T10:29:26.361294Z"
    },
    "papermill": {
     "duration": 0.01839,
     "end_time": "2025-07-28T10:29:26.363503",
     "exception": false,
     "start_time": "2025-07-28T10:29:26.345113",
     "status": "completed"
    },
    "tags": []
   },
   "outputs": [],
   "source": [
    "#siab"
   ]
  },
  {
   "cell_type": "code",
   "execution_count": 11,
   "id": "a0edb063",
   "metadata": {
    "execution": {
     "iopub.execute_input": "2025-07-28T10:29:26.386681Z",
     "iopub.status.busy": "2025-07-28T10:29:26.385988Z",
     "iopub.status.idle": "2025-07-28T10:29:26.390479Z",
     "shell.execute_reply": "2025-07-28T10:29:26.389754Z"
    },
    "papermill": {
     "duration": 0.017194,
     "end_time": "2025-07-28T10:29:26.391830",
     "exception": false,
     "start_time": "2025-07-28T10:29:26.374636",
     "status": "completed"
    },
    "tags": []
   },
   "outputs": [],
   "source": [
    "#import pandas as pd\n",
    "#\n",
    "#X_train = pd.read_csv(\"./data/X_train.csv\")\n",
    "#y_train = pd.read_csv(\"./data/y_train.csv\")"
   ]
  },
  {
   "cell_type": "code",
   "execution_count": 12,
   "id": "63d08085",
   "metadata": {
    "execution": {
     "iopub.execute_input": "2025-07-28T10:29:26.414186Z",
     "iopub.status.busy": "2025-07-28T10:29:26.413626Z",
     "iopub.status.idle": "2025-07-28T10:29:26.417969Z",
     "shell.execute_reply": "2025-07-28T10:29:26.417282Z"
    },
    "papermill": {
     "duration": 0.017029,
     "end_time": "2025-07-28T10:29:26.419459",
     "exception": false,
     "start_time": "2025-07-28T10:29:26.402430",
     "status": "completed"
    },
    "tags": []
   },
   "outputs": [],
   "source": [
    "#X_test = pd.read_csv(\"./data/X_test.csv\")\n",
    "#y_true = pd.read_csv(\"./data/y_test.csv\")"
   ]
  },
  {
   "cell_type": "code",
   "execution_count": 13,
   "id": "98a8d0fa-1d3d-4ed8-bb2c-281470e24add",
   "metadata": {
    "execution": {
     "iopub.execute_input": "2025-07-28T10:29:26.442787Z",
     "iopub.status.busy": "2025-07-28T10:29:26.441904Z",
     "iopub.status.idle": "2025-07-28T10:29:26.446492Z",
     "shell.execute_reply": "2025-07-28T10:29:26.445802Z"
    },
    "papermill": {
     "duration": 0.017317,
     "end_time": "2025-07-28T10:29:26.447799",
     "exception": false,
     "start_time": "2025-07-28T10:29:26.430482",
     "status": "completed"
    },
    "tags": []
   },
   "outputs": [],
   "source": [
    "# Calibration data for conformal\n",
    "#X_calib = pd.read_csv(\"./data/X_calib.csv\")\n",
    "#y_calib = pd.read_csv(\"./data/y_calib.csv\")"
   ]
  },
  {
   "cell_type": "markdown",
   "id": "9901737e-04df-44f0-9100-f5ad144ed040",
   "metadata": {
    "papermill": {
     "duration": 0.019488,
     "end_time": "2025-07-28T10:29:26.478317",
     "exception": false,
     "start_time": "2025-07-28T10:29:26.458829",
     "status": "completed"
    },
    "tags": []
   },
   "source": [
    "# Splitting Data and Setting Training Data Size"
   ]
  },
  {
   "cell_type": "code",
   "execution_count": 14,
   "id": "acbc8f7d-8fc8-4e86-8c59-5dcb0f58384b",
   "metadata": {
    "execution": {
     "iopub.execute_input": "2025-07-28T10:29:26.522466Z",
     "iopub.status.busy": "2025-07-28T10:29:26.522071Z",
     "iopub.status.idle": "2025-07-28T10:29:26.529491Z",
     "shell.execute_reply": "2025-07-28T10:29:26.528386Z"
    },
    "papermill": {
     "duration": 0.03092,
     "end_time": "2025-07-28T10:29:26.531164",
     "exception": false,
     "start_time": "2025-07-28T10:29:26.500244",
     "status": "completed"
    },
    "tags": []
   },
   "outputs": [],
   "source": [
    "def sample_by_year(df, training_size, random_state=42):\n",
    "    if training_size == \"2014\":\n",
    "        return df[df[\"year\"] == 2014].reset_index(drop=True)\n",
    "    \n",
    "    size_map = {\n",
    "        \"25k\": 5000,\n",
    "        \"5k\": 1000,\n",
    "        \"1k\": 200\n",
    "    }\n",
    "\n",
    "    if training_size not in size_map:\n",
    "        return df.reset_index(drop=True)  # use all data\n",
    "\n",
    "    n_per_year = size_map[training_size]\n",
    "    grouped = df.groupby(\"year\")\n",
    "    sampled = grouped.apply(lambda x: x.sample(n=min(n_per_year, len(x)), random_state=random_state))\n",
    "    return sampled.reset_index(drop=True)"
   ]
  },
  {
   "cell_type": "code",
   "execution_count": 15,
   "id": "6d931f52-beaf-43ff-9e78-9d44a448d54e",
   "metadata": {
    "execution": {
     "iopub.execute_input": "2025-07-28T10:29:26.570665Z",
     "iopub.status.busy": "2025-07-28T10:29:26.570124Z",
     "iopub.status.idle": "2025-07-28T10:29:27.205374Z",
     "shell.execute_reply": "2025-07-28T10:29:27.204416Z"
    },
    "papermill": {
     "duration": 0.657163,
     "end_time": "2025-07-28T10:29:27.207301",
     "exception": false,
     "start_time": "2025-07-28T10:29:26.550138",
     "status": "completed"
    },
    "tags": []
   },
   "outputs": [],
   "source": [
    "siab_s = sample_by_year(siab, universe[\"training_size\"])"
   ]
  },
  {
   "cell_type": "code",
   "execution_count": 16,
   "id": "5db0a40e-a4e2-4920-be85-b12ae061d70d",
   "metadata": {
    "execution": {
     "iopub.execute_input": "2025-07-28T10:29:27.246967Z",
     "iopub.status.busy": "2025-07-28T10:29:27.246414Z",
     "iopub.status.idle": "2025-07-28T10:29:27.260369Z",
     "shell.execute_reply": "2025-07-28T10:29:27.259314Z"
    },
    "papermill": {
     "duration": 0.035409,
     "end_time": "2025-07-28T10:29:27.262211",
     "exception": false,
     "start_time": "2025-07-28T10:29:27.226802",
     "status": "completed"
    },
    "tags": []
   },
   "outputs": [
    {
     "data": {
      "text/plain": [
       "year\n",
       "2010    1000\n",
       "2011    1000\n",
       "2012    1000\n",
       "2013    1000\n",
       "2014    1000\n",
       "2015    1000\n",
       "2016    1000\n",
       "dtype: int64"
      ]
     },
     "metadata": {},
     "output_type": "display_data"
    }
   ],
   "source": [
    "display(siab_s.groupby(\"year\").size())"
   ]
  },
  {
   "cell_type": "code",
   "execution_count": 17,
   "id": "a561edb4-d032-42cb-8256-22eac1111c64",
   "metadata": {
    "execution": {
     "iopub.execute_input": "2025-07-28T10:29:27.308476Z",
     "iopub.status.busy": "2025-07-28T10:29:27.307791Z",
     "iopub.status.idle": "2025-07-28T10:29:27.561666Z",
     "shell.execute_reply": "2025-07-28T10:29:27.560679Z"
    },
    "papermill": {
     "duration": 0.279059,
     "end_time": "2025-07-28T10:29:27.563843",
     "exception": false,
     "start_time": "2025-07-28T10:29:27.284784",
     "status": "completed"
    },
    "tags": []
   },
   "outputs": [],
   "source": [
    "siab_train = siab_s[siab_s.year < 2015]\n",
    "siab_calib = siab[siab.year == 2015]\n",
    "siab_test = siab[siab.year == 2016]"
   ]
  },
  {
   "cell_type": "code",
   "execution_count": 18,
   "id": "472de16f-c3db-4916-846b-1f0de9cf1746",
   "metadata": {
    "execution": {
     "iopub.execute_input": "2025-07-28T10:29:27.608845Z",
     "iopub.status.busy": "2025-07-28T10:29:27.608148Z",
     "iopub.status.idle": "2025-07-28T10:29:27.616471Z",
     "shell.execute_reply": "2025-07-28T10:29:27.615309Z"
    },
    "papermill": {
     "duration": 0.031579,
     "end_time": "2025-07-28T10:29:27.618348",
     "exception": false,
     "start_time": "2025-07-28T10:29:27.586769",
     "status": "completed"
    },
    "tags": []
   },
   "outputs": [],
   "source": [
    "X_train = siab_train.iloc[:,4:164]\n",
    "y_train = siab_train.iloc[:, [3]]"
   ]
  },
  {
   "cell_type": "code",
   "execution_count": 19,
   "id": "828c96af-f43a-4ed6-ba47-8ac73a47d56c",
   "metadata": {
    "execution": {
     "iopub.execute_input": "2025-07-28T10:29:27.664191Z",
     "iopub.status.busy": "2025-07-28T10:29:27.663699Z",
     "iopub.status.idle": "2025-07-28T10:29:27.714269Z",
     "shell.execute_reply": "2025-07-28T10:29:27.713257Z"
    },
    "papermill": {
     "duration": 0.074782,
     "end_time": "2025-07-28T10:29:27.716136",
     "exception": false,
     "start_time": "2025-07-28T10:29:27.641354",
     "status": "completed"
    },
    "tags": []
   },
   "outputs": [],
   "source": [
    "X_calib = siab_calib.iloc[:,4:164]\n",
    "y_calib = siab_calib.iloc[:, [3]]"
   ]
  },
  {
   "cell_type": "code",
   "execution_count": 20,
   "id": "c34be9c3-6bd6-476e-acd3-845840e303be",
   "metadata": {
    "execution": {
     "iopub.execute_input": "2025-07-28T10:29:27.740376Z",
     "iopub.status.busy": "2025-07-28T10:29:27.739946Z",
     "iopub.status.idle": "2025-07-28T10:29:27.792107Z",
     "shell.execute_reply": "2025-07-28T10:29:27.790965Z"
    },
    "papermill": {
     "duration": 0.065816,
     "end_time": "2025-07-28T10:29:27.794098",
     "exception": false,
     "start_time": "2025-07-28T10:29:27.728282",
     "status": "completed"
    },
    "tags": []
   },
   "outputs": [],
   "source": [
    "X_test = siab_test.iloc[:,4:164]\n",
    "y_true = siab_test.iloc[:, [3]]"
   ]
  },
  {
   "cell_type": "code",
   "execution_count": 21,
   "id": "e6c733c5",
   "metadata": {
    "execution": {
     "iopub.execute_input": "2025-07-28T10:29:27.841530Z",
     "iopub.status.busy": "2025-07-28T10:29:27.840882Z",
     "iopub.status.idle": "2025-07-28T10:29:27.936751Z",
     "shell.execute_reply": "2025-07-28T10:29:27.935681Z"
    },
    "papermill": {
     "duration": 0.121641,
     "end_time": "2025-07-28T10:29:27.938698",
     "exception": false,
     "start_time": "2025-07-28T10:29:27.817057",
     "status": "completed"
    },
    "tags": []
   },
   "outputs": [],
   "source": [
    "# Auxiliary data needed downstream in the pipeline\n",
    "\n",
    "org_train = X_train.copy()\n",
    "org_test = X_test.copy()\n",
    "org_calib = X_calib.copy()"
   ]
  },
  {
   "cell_type": "markdown",
   "id": "0a4a1b33",
   "metadata": {
    "papermill": {
     "duration": 0.021157,
     "end_time": "2025-07-28T10:29:27.982544",
     "exception": false,
     "start_time": "2025-07-28T10:29:27.961387",
     "status": "completed"
    },
    "tags": []
   },
   "source": [
    "# Preprocessing Data"
   ]
  },
  {
   "cell_type": "code",
   "execution_count": 22,
   "id": "ca879031",
   "metadata": {
    "execution": {
     "iopub.execute_input": "2025-07-28T10:29:28.025487Z",
     "iopub.status.busy": "2025-07-28T10:29:28.024750Z",
     "iopub.status.idle": "2025-07-28T10:29:28.031657Z",
     "shell.execute_reply": "2025-07-28T10:29:28.030706Z"
    },
    "papermill": {
     "duration": 0.030361,
     "end_time": "2025-07-28T10:29:28.033427",
     "exception": false,
     "start_time": "2025-07-28T10:29:28.003066",
     "status": "completed"
    },
    "tags": []
   },
   "outputs": [],
   "source": [
    "# EXCLUDE PROTECTED FEATURES\n",
    "# ----------------------\n",
    "# \"exclude_features\": \"none\", # \"nationality\", \"sex\", \"nationality-sex\"\n",
    "\n",
    "excluded_features = universe[\"exclude_features\"].split(\"-\") # split, e.g.: \"nationality-sex\" -> [\"nationality\", \"sex\"]\n",
    "excluded_features_dictionary = {\n",
    "    \"nationality\": [\"maxdeutsch1\", \"maxdeutsch.Missing.\"],\n",
    "    \"sex\": [\"frau1\"],\n",
    "    \"age\": [\"age\"],\n",
    "}\n"
   ]
  },
  {
   "cell_type": "code",
   "execution_count": 23,
   "id": "b745ac60",
   "metadata": {
    "execution": {
     "iopub.execute_input": "2025-07-28T10:29:28.076122Z",
     "iopub.status.busy": "2025-07-28T10:29:28.075483Z",
     "iopub.status.idle": "2025-07-28T10:29:28.081322Z",
     "shell.execute_reply": "2025-07-28T10:29:28.080431Z"
    },
    "papermill": {
     "duration": 0.02876,
     "end_time": "2025-07-28T10:29:28.082933",
     "exception": false,
     "start_time": "2025-07-28T10:29:28.054173",
     "status": "completed"
    },
    "tags": []
   },
   "outputs": [],
   "source": [
    "# Code nice names to column names\n",
    "\n",
    "excluded_features_columns = [\n",
    "    excluded_features_dictionary[f] for f in excluded_features if len(f) > 0 and f != \"none\"\n",
    "]"
   ]
  },
  {
   "cell_type": "code",
   "execution_count": 24,
   "id": "f84f73a2",
   "metadata": {
    "execution": {
     "iopub.execute_input": "2025-07-28T10:29:28.127217Z",
     "iopub.status.busy": "2025-07-28T10:29:28.126508Z",
     "iopub.status.idle": "2025-07-28T10:29:28.133237Z",
     "shell.execute_reply": "2025-07-28T10:29:28.132239Z"
    },
    "papermill": {
     "duration": 0.030406,
     "end_time": "2025-07-28T10:29:28.134949",
     "exception": false,
     "start_time": "2025-07-28T10:29:28.104543",
     "status": "completed"
    },
    "tags": []
   },
   "outputs": [],
   "source": [
    "from utils import flatten_once\n",
    "\n",
    "excluded_features_columns = flatten_once(excluded_features_columns)"
   ]
  },
  {
   "cell_type": "code",
   "execution_count": 25,
   "id": "884dea22",
   "metadata": {
    "execution": {
     "iopub.execute_input": "2025-07-28T10:29:28.178051Z",
     "iopub.status.busy": "2025-07-28T10:29:28.177700Z",
     "iopub.status.idle": "2025-07-28T10:29:28.186235Z",
     "shell.execute_reply": "2025-07-28T10:29:28.185333Z"
    },
    "papermill": {
     "duration": 0.03239,
     "end_time": "2025-07-28T10:29:28.188143",
     "exception": false,
     "start_time": "2025-07-28T10:29:28.155753",
     "status": "completed"
    },
    "tags": []
   },
   "outputs": [
    {
     "name": "stdout",
     "output_type": "stream",
     "text": [
      "Dropping features: ['age']\n"
     ]
    }
   ],
   "source": [
    "if len(excluded_features_columns) > 0:\n",
    "    print(f\"Dropping features: {excluded_features_columns}\")\n",
    "    X_train.drop(excluded_features_columns, axis=1, inplace=True)"
   ]
  },
  {
   "cell_type": "code",
   "execution_count": 26,
   "id": "95ab8b16",
   "metadata": {
    "execution": {
     "iopub.execute_input": "2025-07-28T10:29:28.234021Z",
     "iopub.status.busy": "2025-07-28T10:29:28.233357Z",
     "iopub.status.idle": "2025-07-28T10:29:28.307749Z",
     "shell.execute_reply": "2025-07-28T10:29:28.306833Z"
    },
    "papermill": {
     "duration": 0.098958,
     "end_time": "2025-07-28T10:29:28.309323",
     "exception": false,
     "start_time": "2025-07-28T10:29:28.210365",
     "status": "completed"
    },
    "tags": []
   },
   "outputs": [
    {
     "name": "stdout",
     "output_type": "stream",
     "text": [
      "Dropping features: ['age']\n"
     ]
    }
   ],
   "source": [
    "if len(excluded_features_columns) > 0:\n",
    "    print(f\"Dropping features: {excluded_features_columns}\")\n",
    "    X_test.drop(excluded_features_columns, axis=1, inplace=True)"
   ]
  },
  {
   "cell_type": "code",
   "execution_count": 27,
   "id": "1853aaf5-fb9f-46cb-a2b5-8ea4ae2237e4",
   "metadata": {
    "execution": {
     "iopub.execute_input": "2025-07-28T10:29:28.356703Z",
     "iopub.status.busy": "2025-07-28T10:29:28.356190Z",
     "iopub.status.idle": "2025-07-28T10:29:28.408312Z",
     "shell.execute_reply": "2025-07-28T10:29:28.407274Z"
    },
    "papermill": {
     "duration": 0.078779,
     "end_time": "2025-07-28T10:29:28.410220",
     "exception": false,
     "start_time": "2025-07-28T10:29:28.331441",
     "status": "completed"
    },
    "tags": []
   },
   "outputs": [
    {
     "name": "stdout",
     "output_type": "stream",
     "text": [
      "Dropping features: ['age']\n"
     ]
    }
   ],
   "source": [
    "if len(excluded_features_columns) > 0:\n",
    "    print(f\"Dropping features: {excluded_features_columns}\")\n",
    "    X_calib.drop(excluded_features_columns, axis=1, inplace=True)"
   ]
  },
  {
   "cell_type": "code",
   "execution_count": 28,
   "id": "6727d079-03e5-481e-9d38-292a90b7a0a8",
   "metadata": {
    "execution": {
     "iopub.execute_input": "2025-07-28T10:29:28.449100Z",
     "iopub.status.busy": "2025-07-28T10:29:28.448738Z",
     "iopub.status.idle": "2025-07-28T10:29:28.453225Z",
     "shell.execute_reply": "2025-07-28T10:29:28.452180Z"
    },
    "papermill": {
     "duration": 0.020909,
     "end_time": "2025-07-28T10:29:28.454979",
     "exception": false,
     "start_time": "2025-07-28T10:29:28.434070",
     "status": "completed"
    },
    "tags": []
   },
   "outputs": [],
   "source": [
    "# SPLIT & STRATIFY DATA\n",
    "# ----------------------"
   ]
  },
  {
   "cell_type": "code",
   "execution_count": 29,
   "id": "76c4dc6d",
   "metadata": {
    "execution": {
     "iopub.execute_input": "2025-07-28T10:29:28.503729Z",
     "iopub.status.busy": "2025-07-28T10:29:28.502828Z",
     "iopub.status.idle": "2025-07-28T10:29:28.508921Z",
     "shell.execute_reply": "2025-07-28T10:29:28.507803Z"
    },
    "papermill": {
     "duration": 0.031778,
     "end_time": "2025-07-28T10:29:28.510676",
     "exception": false,
     "start_time": "2025-07-28T10:29:28.478898",
     "status": "completed"
    },
    "tags": []
   },
   "outputs": [],
   "source": [
    "# EXCLUDE CERTAIN SUBGROUPS\n",
    "# ----------------------\n",
    "\n",
    "mode = universe.get(\"exclude_subgroups\", \"keep-all\") \n",
    "# Fetches the exclude_subgroups setting from the universe dict.\n",
    "# Defaults to \"keep-all\" if the key is missing."
   ]
  },
  {
   "cell_type": "code",
   "execution_count": 30,
   "id": "21994072",
   "metadata": {
    "execution": {
     "iopub.execute_input": "2025-07-28T10:29:28.557418Z",
     "iopub.status.busy": "2025-07-28T10:29:28.556572Z",
     "iopub.status.idle": "2025-07-28T10:29:28.563835Z",
     "shell.execute_reply": "2025-07-28T10:29:28.562768Z"
    },
    "papermill": {
     "duration": 0.031883,
     "end_time": "2025-07-28T10:29:28.565562",
     "exception": false,
     "start_time": "2025-07-28T10:29:28.533679",
     "status": "completed"
    },
    "tags": []
   },
   "outputs": [],
   "source": [
    "if mode == \"keep-all\":\n",
    "    keep_mask = pd.Series(True, index=org_train.index)\n",
    "\n",
    "# org_train contains the original feature columns from features_org (in Simson)\n",
    "# features_org contains unprocessed features, for me X_train at beginning ???\n",
    "# For keep-all, creates a boolean Series (keep_mask) of all True, so no rows are removed.\n",
    "\n",
    "elif mode == \"drop-non-german\":\n",
    "    keep_mask = org_train[\"maxdeutsch1\"] == 1 # ??? what about missing values?\n",
    "\n",
    "else:\n",
    "    raise ValueError(f\"Unsupported mode for exclude_subgroups: {mode}\")\n"
   ]
  },
  {
   "cell_type": "code",
   "execution_count": 31,
   "id": "71651440",
   "metadata": {
    "execution": {
     "iopub.execute_input": "2025-07-28T10:29:28.612368Z",
     "iopub.status.busy": "2025-07-28T10:29:28.611408Z",
     "iopub.status.idle": "2025-07-28T10:29:28.618703Z",
     "shell.execute_reply": "2025-07-28T10:29:28.617710Z"
    },
    "papermill": {
     "duration": 0.031734,
     "end_time": "2025-07-28T10:29:28.620422",
     "exception": false,
     "start_time": "2025-07-28T10:29:28.588688",
     "status": "completed"
    },
    "tags": []
   },
   "outputs": [],
   "source": [
    "n_drop = (~keep_mask).sum() # Calculates how many rows are set to be dropped\n",
    "if n_drop > 0:\n",
    "    pct = n_drop / len(keep_mask) * 100\n",
    "    print(f\"Dropping {n_drop} rows ({pct:.2f}%) where mode='{mode}'\")"
   ]
  },
  {
   "cell_type": "code",
   "execution_count": 32,
   "id": "5fb8eee5",
   "metadata": {
    "execution": {
     "iopub.execute_input": "2025-07-28T10:29:28.667765Z",
     "iopub.status.busy": "2025-07-28T10:29:28.667198Z",
     "iopub.status.idle": "2025-07-28T10:29:28.675606Z",
     "shell.execute_reply": "2025-07-28T10:29:28.674452Z"
    },
    "papermill": {
     "duration": 0.034863,
     "end_time": "2025-07-28T10:29:28.677634",
     "exception": false,
     "start_time": "2025-07-28T10:29:28.642771",
     "status": "completed"
    },
    "tags": []
   },
   "outputs": [],
   "source": [
    "X_train = X_train[keep_mask]"
   ]
  },
  {
   "cell_type": "code",
   "execution_count": 33,
   "id": "b202bb3a",
   "metadata": {
    "execution": {
     "iopub.execute_input": "2025-07-28T10:29:28.724499Z",
     "iopub.status.busy": "2025-07-28T10:29:28.723450Z",
     "iopub.status.idle": "2025-07-28T10:29:28.730343Z",
     "shell.execute_reply": "2025-07-28T10:29:28.729369Z"
    },
    "papermill": {
     "duration": 0.031353,
     "end_time": "2025-07-28T10:29:28.731979",
     "exception": false,
     "start_time": "2025-07-28T10:29:28.700626",
     "status": "completed"
    },
    "tags": []
   },
   "outputs": [],
   "source": [
    "y_train = y_train[keep_mask]"
   ]
  },
  {
   "cell_type": "markdown",
   "id": "493e2ac3",
   "metadata": {
    "papermill": {
     "duration": 0.023554,
     "end_time": "2025-07-28T10:29:28.778607",
     "exception": false,
     "start_time": "2025-07-28T10:29:28.755053",
     "status": "completed"
    },
    "tags": []
   },
   "source": [
    "# Model Training"
   ]
  },
  {
   "cell_type": "code",
   "execution_count": 34,
   "id": "679e1268",
   "metadata": {
    "execution": {
     "iopub.execute_input": "2025-07-28T10:29:28.827633Z",
     "iopub.status.busy": "2025-07-28T10:29:28.826612Z",
     "iopub.status.idle": "2025-07-28T10:29:28.933468Z",
     "shell.execute_reply": "2025-07-28T10:29:28.932213Z"
    },
    "papermill": {
     "duration": 0.133719,
     "end_time": "2025-07-28T10:29:28.935614",
     "exception": false,
     "start_time": "2025-07-28T10:29:28.801895",
     "status": "completed"
    },
    "tags": []
   },
   "outputs": [],
   "source": [
    "from sklearn.linear_model import LogisticRegression\n",
    "from sklearn.ensemble import GradientBoostingClassifier, RandomForestClassifier\n",
    "\n",
    "if (universe[\"model\"] == \"logreg\"):\n",
    "    model = LogisticRegression() #penalty=\"none\") #, solver=\"newton-cg\", max_iter=1) # include random_state=19 ?\n",
    "elif (universe[\"model\"] == \"penalized_logreg\"):\n",
    "    model = LogisticRegression(penalty=\"l2\", C=1.0) #, solver=\"newton-cg\", max_iter=1)\n",
    "elif (universe[\"model\"] == \"rf\"):\n",
    "    model = RandomForestClassifier(n_estimators=100, n_jobs=-1)\n",
    "elif (universe[\"model\"] == \"gbm\"):\n",
    "    model = GradientBoostingClassifier()\n",
    "elif (universe[\"model\"] == \"elasticnet\"):\n",
    "    model = LogisticRegression(penalty = 'elasticnet', solver = 'saga', l1_ratio = 0.5, max_iter=5000) # which solver to use?\n",
    "else:\n",
    "    raise \"Unsupported universe.model\""
   ]
  },
  {
   "cell_type": "code",
   "execution_count": 35,
   "id": "0cc8f744",
   "metadata": {
    "execution": {
     "iopub.execute_input": "2025-07-28T10:29:28.983829Z",
     "iopub.status.busy": "2025-07-28T10:29:28.983172Z",
     "iopub.status.idle": "2025-07-28T10:29:28.989856Z",
     "shell.execute_reply": "2025-07-28T10:29:28.988931Z"
    },
    "papermill": {
     "duration": 0.032186,
     "end_time": "2025-07-28T10:29:28.991342",
     "exception": false,
     "start_time": "2025-07-28T10:29:28.959156",
     "status": "completed"
    },
    "tags": []
   },
   "outputs": [],
   "source": [
    "import numpy as np\n",
    "from sklearn.pipeline import Pipeline\n",
    "from sklearn.preprocessing import StandardScaler\n",
    "\n",
    "model = Pipeline([\n",
    "    #(\"continuous_processor\", continuous_processor),\n",
    "    #(\"categorical_preprocessor\", categorical_preprocessor),\n",
    "    (\"scale\", StandardScaler() if universe[\"scale\"] == \"scale\" else None), \n",
    "    (\"model\", model),\n",
    "])"
   ]
  },
  {
   "cell_type": "code",
   "execution_count": 36,
   "id": "9442c04d",
   "metadata": {
    "execution": {
     "iopub.execute_input": "2025-07-28T10:29:29.034063Z",
     "iopub.status.busy": "2025-07-28T10:29:29.033650Z",
     "iopub.status.idle": "2025-07-28T10:29:29.196950Z",
     "shell.execute_reply": "2025-07-28T10:29:29.196001Z"
    },
    "papermill": {
     "duration": 0.186635,
     "end_time": "2025-07-28T10:29:29.198621",
     "exception": false,
     "start_time": "2025-07-28T10:29:29.011986",
     "status": "completed"
    },
    "tags": []
   },
   "outputs": [
    {
     "name": "stderr",
     "output_type": "stream",
     "text": [
      "/dss/dsshome1/0C/ra93lal2/.local/share/virtualenvs/CMA_Fairness_v2-3j10GkSs/lib/python3.10/site-packages/sklearn/linear_model/_logistic.py:444: ConvergenceWarning: lbfgs failed to converge (status=1):\n",
      "STOP: TOTAL NO. of ITERATIONS REACHED LIMIT.\n",
      "\n",
      "Increase the number of iterations (max_iter) or scale the data as shown in:\n",
      "    https://scikit-learn.org/stable/modules/preprocessing.html\n",
      "Please also refer to the documentation for alternative solver options:\n",
      "    https://scikit-learn.org/stable/modules/linear_model.html#logistic-regression\n",
      "  n_iter_i = _check_optimize_result(\n"
     ]
    },
    {
     "data": {
      "text/html": [
       "<style>#sk-container-id-1 {color: black;background-color: white;}#sk-container-id-1 pre{padding: 0;}#sk-container-id-1 div.sk-toggleable {background-color: white;}#sk-container-id-1 label.sk-toggleable__label {cursor: pointer;display: block;width: 100%;margin-bottom: 0;padding: 0.3em;box-sizing: border-box;text-align: center;}#sk-container-id-1 label.sk-toggleable__label-arrow:before {content: \"▸\";float: left;margin-right: 0.25em;color: #696969;}#sk-container-id-1 label.sk-toggleable__label-arrow:hover:before {color: black;}#sk-container-id-1 div.sk-estimator:hover label.sk-toggleable__label-arrow:before {color: black;}#sk-container-id-1 div.sk-toggleable__content {max-height: 0;max-width: 0;overflow: hidden;text-align: left;background-color: #f0f8ff;}#sk-container-id-1 div.sk-toggleable__content pre {margin: 0.2em;color: black;border-radius: 0.25em;background-color: #f0f8ff;}#sk-container-id-1 input.sk-toggleable__control:checked~div.sk-toggleable__content {max-height: 200px;max-width: 100%;overflow: auto;}#sk-container-id-1 input.sk-toggleable__control:checked~label.sk-toggleable__label-arrow:before {content: \"▾\";}#sk-container-id-1 div.sk-estimator input.sk-toggleable__control:checked~label.sk-toggleable__label {background-color: #d4ebff;}#sk-container-id-1 div.sk-label input.sk-toggleable__control:checked~label.sk-toggleable__label {background-color: #d4ebff;}#sk-container-id-1 input.sk-hidden--visually {border: 0;clip: rect(1px 1px 1px 1px);clip: rect(1px, 1px, 1px, 1px);height: 1px;margin: -1px;overflow: hidden;padding: 0;position: absolute;width: 1px;}#sk-container-id-1 div.sk-estimator {font-family: monospace;background-color: #f0f8ff;border: 1px dotted black;border-radius: 0.25em;box-sizing: border-box;margin-bottom: 0.5em;}#sk-container-id-1 div.sk-estimator:hover {background-color: #d4ebff;}#sk-container-id-1 div.sk-parallel-item::after {content: \"\";width: 100%;border-bottom: 1px solid gray;flex-grow: 1;}#sk-container-id-1 div.sk-label:hover label.sk-toggleable__label {background-color: #d4ebff;}#sk-container-id-1 div.sk-serial::before {content: \"\";position: absolute;border-left: 1px solid gray;box-sizing: border-box;top: 0;bottom: 0;left: 50%;z-index: 0;}#sk-container-id-1 div.sk-serial {display: flex;flex-direction: column;align-items: center;background-color: white;padding-right: 0.2em;padding-left: 0.2em;position: relative;}#sk-container-id-1 div.sk-item {position: relative;z-index: 1;}#sk-container-id-1 div.sk-parallel {display: flex;align-items: stretch;justify-content: center;background-color: white;position: relative;}#sk-container-id-1 div.sk-item::before, #sk-container-id-1 div.sk-parallel-item::before {content: \"\";position: absolute;border-left: 1px solid gray;box-sizing: border-box;top: 0;bottom: 0;left: 50%;z-index: -1;}#sk-container-id-1 div.sk-parallel-item {display: flex;flex-direction: column;z-index: 1;position: relative;background-color: white;}#sk-container-id-1 div.sk-parallel-item:first-child::after {align-self: flex-end;width: 50%;}#sk-container-id-1 div.sk-parallel-item:last-child::after {align-self: flex-start;width: 50%;}#sk-container-id-1 div.sk-parallel-item:only-child::after {width: 0;}#sk-container-id-1 div.sk-dashed-wrapped {border: 1px dashed gray;margin: 0 0.4em 0.5em 0.4em;box-sizing: border-box;padding-bottom: 0.4em;background-color: white;}#sk-container-id-1 div.sk-label label {font-family: monospace;font-weight: bold;display: inline-block;line-height: 1.2em;}#sk-container-id-1 div.sk-label-container {text-align: center;}#sk-container-id-1 div.sk-container {/* jupyter's `normalize.less` sets `[hidden] { display: none; }` but bootstrap.min.css set `[hidden] { display: none !important; }` so we also need the `!important` here to be able to override the default hidden behavior on the sphinx rendered scikit-learn.org. See: https://github.com/scikit-learn/scikit-learn/issues/21755 */display: inline-block !important;position: relative;}#sk-container-id-1 div.sk-text-repr-fallback {display: none;}</style><div id=\"sk-container-id-1\" class=\"sk-top-container\"><div class=\"sk-text-repr-fallback\"><pre>Pipeline(steps=[(&#x27;scale&#x27;, StandardScaler()), (&#x27;model&#x27;, LogisticRegression())])</pre><b>In a Jupyter environment, please rerun this cell to show the HTML representation or trust the notebook. <br />On GitHub, the HTML representation is unable to render, please try loading this page with nbviewer.org.</b></div><div class=\"sk-container\" hidden><div class=\"sk-item sk-dashed-wrapped\"><div class=\"sk-label-container\"><div class=\"sk-label sk-toggleable\"><input class=\"sk-toggleable__control sk-hidden--visually\" id=\"sk-estimator-id-1\" type=\"checkbox\" ><label for=\"sk-estimator-id-1\" class=\"sk-toggleable__label sk-toggleable__label-arrow\">Pipeline</label><div class=\"sk-toggleable__content\"><pre>Pipeline(steps=[(&#x27;scale&#x27;, StandardScaler()), (&#x27;model&#x27;, LogisticRegression())])</pre></div></div></div><div class=\"sk-serial\"><div class=\"sk-item\"><div class=\"sk-estimator sk-toggleable\"><input class=\"sk-toggleable__control sk-hidden--visually\" id=\"sk-estimator-id-2\" type=\"checkbox\" ><label for=\"sk-estimator-id-2\" class=\"sk-toggleable__label sk-toggleable__label-arrow\">StandardScaler</label><div class=\"sk-toggleable__content\"><pre>StandardScaler()</pre></div></div></div><div class=\"sk-item\"><div class=\"sk-estimator sk-toggleable\"><input class=\"sk-toggleable__control sk-hidden--visually\" id=\"sk-estimator-id-3\" type=\"checkbox\" ><label for=\"sk-estimator-id-3\" class=\"sk-toggleable__label sk-toggleable__label-arrow\">LogisticRegression</label><div class=\"sk-toggleable__content\"><pre>LogisticRegression()</pre></div></div></div></div></div></div></div>"
      ],
      "text/plain": [
       "Pipeline(steps=[('scale', StandardScaler()), ('model', LogisticRegression())])"
      ]
     },
     "execution_count": 36,
     "metadata": {},
     "output_type": "execute_result"
    }
   ],
   "source": [
    "model.fit(X_train, y_train.values.ravel())"
   ]
  },
  {
   "cell_type": "code",
   "execution_count": 37,
   "id": "af59f8c0",
   "metadata": {
    "execution": {
     "iopub.execute_input": "2025-07-28T10:29:29.243254Z",
     "iopub.status.busy": "2025-07-28T10:29:29.242329Z",
     "iopub.status.idle": "2025-07-28T10:29:29.248327Z",
     "shell.execute_reply": "2025-07-28T10:29:29.247337Z"
    },
    "papermill": {
     "duration": 0.030032,
     "end_time": "2025-07-28T10:29:29.250094",
     "exception": false,
     "start_time": "2025-07-28T10:29:29.220062",
     "status": "completed"
    },
    "tags": []
   },
   "outputs": [],
   "source": [
    "from fairness_multiverse.universe import predict_w_threshold"
   ]
  },
  {
   "cell_type": "code",
   "execution_count": 38,
   "id": "a7cf2e16",
   "metadata": {
    "execution": {
     "iopub.execute_input": "2025-07-28T10:29:29.303252Z",
     "iopub.status.busy": "2025-07-28T10:29:29.302318Z",
     "iopub.status.idle": "2025-07-28T10:29:29.496663Z",
     "shell.execute_reply": "2025-07-28T10:29:29.495662Z"
    },
    "papermill": {
     "duration": 0.223417,
     "end_time": "2025-07-28T10:29:29.498970",
     "exception": false,
     "start_time": "2025-07-28T10:29:29.275553",
     "status": "completed"
    },
    "tags": []
   },
   "outputs": [
    {
     "data": {
      "text/plain": [
       "0.8503511314234756"
      ]
     },
     "execution_count": 38,
     "metadata": {},
     "output_type": "execute_result"
    }
   ],
   "source": [
    "probs_test = model.predict_proba(X_test)\n",
    "\n",
    "'''\n",
    "Below code returns a boolean array (or binary 0/1 array depending on how it’s used) where each element \n",
    "is True if the probability of class 1 is greater than or equal to the threshold, and False otherwise.\n",
    "'''\n",
    "y_pred_default = predict_w_threshold(probs_test, 0.5)\n",
    "\n",
    "from sklearn.metrics import accuracy_score\n",
    "\n",
    "# Naive prediction\n",
    "accuracy_score(y_true = y_true, y_pred = y_pred_default)"
   ]
  },
  {
   "cell_type": "code",
   "execution_count": 39,
   "id": "081964c3",
   "metadata": {
    "execution": {
     "iopub.execute_input": "2025-07-28T10:29:29.552512Z",
     "iopub.status.busy": "2025-07-28T10:29:29.551772Z",
     "iopub.status.idle": "2025-07-28T10:29:29.731393Z",
     "shell.execute_reply": "2025-07-28T10:29:29.730318Z"
    },
    "papermill": {
     "duration": 0.208258,
     "end_time": "2025-07-28T10:29:29.733710",
     "exception": false,
     "start_time": "2025-07-28T10:29:29.525452",
     "status": "completed"
    },
    "tags": []
   },
   "outputs": [
    {
     "data": {
      "text/plain": [
       "array([0, 0, 0, ..., 0, 0, 0])"
      ]
     },
     "execution_count": 39,
     "metadata": {},
     "output_type": "execute_result"
    }
   ],
   "source": [
    "model.predict(X_test)"
   ]
  },
  {
   "cell_type": "markdown",
   "id": "56c9705b",
   "metadata": {
    "papermill": {
     "duration": 0.025789,
     "end_time": "2025-07-28T10:29:29.785954",
     "exception": false,
     "start_time": "2025-07-28T10:29:29.760165",
     "status": "completed"
    },
    "tags": []
   },
   "source": [
    "# Conformal Prediction"
   ]
  },
  {
   "cell_type": "code",
   "execution_count": 40,
   "id": "160ec6ff",
   "metadata": {
    "execution": {
     "iopub.execute_input": "2025-07-28T10:29:29.838943Z",
     "iopub.status.busy": "2025-07-28T10:29:29.838246Z",
     "iopub.status.idle": "2025-07-28T10:29:29.843894Z",
     "shell.execute_reply": "2025-07-28T10:29:29.842855Z"
    },
    "papermill": {
     "duration": 0.034292,
     "end_time": "2025-07-28T10:29:29.845697",
     "exception": false,
     "start_time": "2025-07-28T10:29:29.811405",
     "status": "completed"
    },
    "tags": []
   },
   "outputs": [],
   "source": [
    "# Miscoverage level for conformal prediction (10% allowed error rate => 90% target coverage)\n",
    "alpha = 0.1"
   ]
  },
  {
   "cell_type": "code",
   "execution_count": 41,
   "id": "eadf4555-3dd3-440e-8e35-f82a4ad9f855",
   "metadata": {
    "execution": {
     "iopub.execute_input": "2025-07-28T10:29:29.900095Z",
     "iopub.status.busy": "2025-07-28T10:29:29.899363Z",
     "iopub.status.idle": "2025-07-28T10:29:30.073932Z",
     "shell.execute_reply": "2025-07-28T10:29:30.072849Z"
    },
    "papermill": {
     "duration": 0.204184,
     "end_time": "2025-07-28T10:29:30.076106",
     "exception": false,
     "start_time": "2025-07-28T10:29:29.871922",
     "status": "completed"
    },
    "tags": []
   },
   "outputs": [],
   "source": [
    "probs_calib = model.predict_proba(X_calib)"
   ]
  },
  {
   "cell_type": "code",
   "execution_count": 42,
   "id": "2ed93547-6d5d-4983-9b36-1ecb300da49a",
   "metadata": {
    "execution": {
     "iopub.execute_input": "2025-07-28T10:29:30.131226Z",
     "iopub.status.busy": "2025-07-28T10:29:30.130552Z",
     "iopub.status.idle": "2025-07-28T10:29:30.137092Z",
     "shell.execute_reply": "2025-07-28T10:29:30.136071Z"
    },
    "papermill": {
     "duration": 0.036077,
     "end_time": "2025-07-28T10:29:30.138949",
     "exception": false,
     "start_time": "2025-07-28T10:29:30.102872",
     "status": "completed"
    },
    "tags": []
   },
   "outputs": [],
   "source": [
    "y_calib = y_calib.values.ravel().astype(int)"
   ]
  },
  {
   "cell_type": "code",
   "execution_count": 43,
   "id": "65d1320d-f588-4b38-9072-62af1ae97f7d",
   "metadata": {
    "execution": {
     "iopub.execute_input": "2025-07-28T10:29:30.194285Z",
     "iopub.status.busy": "2025-07-28T10:29:30.193604Z",
     "iopub.status.idle": "2025-07-28T10:29:30.201394Z",
     "shell.execute_reply": "2025-07-28T10:29:30.200469Z"
    },
    "papermill": {
     "duration": 0.037187,
     "end_time": "2025-07-28T10:29:30.202980",
     "exception": false,
     "start_time": "2025-07-28T10:29:30.165793",
     "status": "completed"
    },
    "tags": []
   },
   "outputs": [],
   "source": [
    "from fairness_multiverse.conformal import compute_nc_scores\n",
    "\n",
    "# Compute nonconformity scores on calibration set (1 - probability of true class)\n",
    "nc_scores = compute_nc_scores(probs_calib, y_calib)"
   ]
  },
  {
   "cell_type": "code",
   "execution_count": 44,
   "id": "df3b8ca3-53b7-43d5-9667-7c85da7aeda2",
   "metadata": {
    "execution": {
     "iopub.execute_input": "2025-07-28T10:29:30.248764Z",
     "iopub.status.busy": "2025-07-28T10:29:30.247913Z",
     "iopub.status.idle": "2025-07-28T10:29:30.254772Z",
     "shell.execute_reply": "2025-07-28T10:29:30.253759Z"
    },
    "papermill": {
     "duration": 0.031536,
     "end_time": "2025-07-28T10:29:30.256548",
     "exception": false,
     "start_time": "2025-07-28T10:29:30.225012",
     "status": "completed"
    },
    "tags": []
   },
   "outputs": [],
   "source": [
    "from fairness_multiverse.conformal import find_threshold\n",
    "\n",
    "# Find conformal threshold q_hat for the given alpha (split conformal method)\n",
    "q_hat = find_threshold(nc_scores, alpha)"
   ]
  },
  {
   "cell_type": "code",
   "execution_count": 45,
   "id": "4d29e6c1-0ef6-4aa4-b8fe-4fe79b0d033a",
   "metadata": {
    "execution": {
     "iopub.execute_input": "2025-07-28T10:29:30.312970Z",
     "iopub.status.busy": "2025-07-28T10:29:30.312280Z",
     "iopub.status.idle": "2025-07-28T10:29:30.320745Z",
     "shell.execute_reply": "2025-07-28T10:29:30.319758Z"
    },
    "papermill": {
     "duration": 0.038213,
     "end_time": "2025-07-28T10:29:30.322229",
     "exception": false,
     "start_time": "2025-07-28T10:29:30.284016",
     "status": "completed"
    },
    "tags": []
   },
   "outputs": [
    {
     "data": {
      "text/plain": [
       "0.6882557560489129"
      ]
     },
     "execution_count": 45,
     "metadata": {},
     "output_type": "execute_result"
    }
   ],
   "source": [
    "q_hat"
   ]
  },
  {
   "cell_type": "code",
   "execution_count": 46,
   "id": "92460794-cdac-4be2-ba28-f28c0515a6fb",
   "metadata": {
    "execution": {
     "iopub.execute_input": "2025-07-28T10:29:30.368022Z",
     "iopub.status.busy": "2025-07-28T10:29:30.367359Z",
     "iopub.status.idle": "2025-07-28T10:29:30.979780Z",
     "shell.execute_reply": "2025-07-28T10:29:30.979018Z"
    },
    "papermill": {
     "duration": 0.63728,
     "end_time": "2025-07-28T10:29:30.981570",
     "exception": false,
     "start_time": "2025-07-28T10:29:30.344290",
     "status": "completed"
    },
    "tags": []
   },
   "outputs": [],
   "source": [
    "from fairness_multiverse.conformal import predict_conformal_sets\n",
    "\n",
    "# Generate prediction sets for each test example\n",
    "pred_sets = predict_conformal_sets(model, X_test, q_hat)"
   ]
  },
  {
   "cell_type": "code",
   "execution_count": 47,
   "id": "d90c9a65-e6db-4f5d-80cd-e68fb7e46829",
   "metadata": {
    "execution": {
     "iopub.execute_input": "2025-07-28T10:29:31.028068Z",
     "iopub.status.busy": "2025-07-28T10:29:31.027530Z",
     "iopub.status.idle": "2025-07-28T10:29:31.033841Z",
     "shell.execute_reply": "2025-07-28T10:29:31.032994Z"
    },
    "papermill": {
     "duration": 0.031209,
     "end_time": "2025-07-28T10:29:31.035579",
     "exception": false,
     "start_time": "2025-07-28T10:29:31.004370",
     "status": "completed"
    },
    "tags": []
   },
   "outputs": [],
   "source": [
    "y_true = y_true.squeeze()"
   ]
  },
  {
   "cell_type": "code",
   "execution_count": 48,
   "id": "3a58a54a-1e68-46b9-927a-df01f18aebc8",
   "metadata": {
    "execution": {
     "iopub.execute_input": "2025-07-28T10:29:31.083156Z",
     "iopub.status.busy": "2025-07-28T10:29:31.082478Z",
     "iopub.status.idle": "2025-07-28T10:29:32.008048Z",
     "shell.execute_reply": "2025-07-28T10:29:32.006998Z"
    },
    "papermill": {
     "duration": 0.95161,
     "end_time": "2025-07-28T10:29:32.009864",
     "exception": false,
     "start_time": "2025-07-28T10:29:31.058254",
     "status": "completed"
    },
    "tags": []
   },
   "outputs": [],
   "source": [
    "from fairness_multiverse.conformal import evaluate_sets\n",
    "\n",
    "# Evaluate coverage and average set size on test data\n",
    "metrics = evaluate_sets(pred_sets, y_true)"
   ]
  },
  {
   "cell_type": "markdown",
   "id": "2b569c12-9aaa-4c88-98c9-bbcd0cf3ebb8",
   "metadata": {
    "papermill": {
     "duration": 0.023276,
     "end_time": "2025-07-28T10:29:32.056819",
     "exception": false,
     "start_time": "2025-07-28T10:29:32.033543",
     "status": "completed"
    },
    "tags": []
   },
   "source": [
    "# CP Metrics"
   ]
  },
  {
   "cell_type": "code",
   "execution_count": 49,
   "id": "5ce0a5cb-201f-45a0-ade5-94c7f0bd6095",
   "metadata": {
    "execution": {
     "iopub.execute_input": "2025-07-28T10:29:32.102979Z",
     "iopub.status.busy": "2025-07-28T10:29:32.102418Z",
     "iopub.status.idle": "2025-07-28T10:29:32.110140Z",
     "shell.execute_reply": "2025-07-28T10:29:32.109239Z"
    },
    "papermill": {
     "duration": 0.032542,
     "end_time": "2025-07-28T10:29:32.111814",
     "exception": false,
     "start_time": "2025-07-28T10:29:32.079272",
     "status": "completed"
    },
    "tags": []
   },
   "outputs": [
    {
     "data": {
      "text/plain": [
       "{'coverage': 0.910723442202653, 'avg_size': 1.149804926986958}"
      ]
     },
     "execution_count": 49,
     "metadata": {},
     "output_type": "execute_result"
    }
   ],
   "source": [
    "metrics"
   ]
  },
  {
   "cell_type": "code",
   "execution_count": 50,
   "id": "9b9a838d-31c9-430b-ae14-12baee460d17",
   "metadata": {
    "execution": {
     "iopub.execute_input": "2025-07-28T10:29:32.159027Z",
     "iopub.status.busy": "2025-07-28T10:29:32.158493Z",
     "iopub.status.idle": "2025-07-28T10:29:32.165033Z",
     "shell.execute_reply": "2025-07-28T10:29:32.164021Z"
    },
    "papermill": {
     "duration": 0.031716,
     "end_time": "2025-07-28T10:29:32.166676",
     "exception": false,
     "start_time": "2025-07-28T10:29:32.134960",
     "status": "completed"
    },
    "tags": []
   },
   "outputs": [],
   "source": [
    "example_universe = universe.copy()\n",
    "universe_training_size = example_universe.get(\"training_size\")\n",
    "universe_scale = example_universe.get(\"scale\")\n",
    "universe_model = example_universe.get(\"model\")\n",
    "universe_exclude_features = example_universe.get(\"exclude_features\")\n",
    "universe_exclude_subgroups = example_universe.get(\"exclude_subgroups\")"
   ]
  },
  {
   "cell_type": "code",
   "execution_count": 51,
   "id": "f4b6a8ac-9dc0-4245-8a91-5b3b5999c4f9",
   "metadata": {
    "execution": {
     "iopub.execute_input": "2025-07-28T10:29:32.214328Z",
     "iopub.status.busy": "2025-07-28T10:29:32.213494Z",
     "iopub.status.idle": "2025-07-28T10:29:32.220001Z",
     "shell.execute_reply": "2025-07-28T10:29:32.219158Z"
    },
    "papermill": {
     "duration": 0.031784,
     "end_time": "2025-07-28T10:29:32.221527",
     "exception": false,
     "start_time": "2025-07-28T10:29:32.189743",
     "status": "completed"
    },
    "tags": []
   },
   "outputs": [],
   "source": [
    "cp_metrics_dict = {\n",
    "    \"universe_id\": [universe_id],\n",
    "    \"universe_training_size\": [universe_training_size],\n",
    "    \"universe_scale\": [universe_scale],\n",
    "    \"universe_model\": [universe_model],\n",
    "    \"universe_exclude_features\": [universe_exclude_features],\n",
    "    \"universe_exclude_subgroups\": [universe_exclude_subgroups],\n",
    "    \"q_hat\": [q_hat],\n",
    "    \"coverage\": [metrics[\"coverage\"]],\n",
    "    \"avg_size\": [metrics[\"avg_size\"]],\n",
    "}"
   ]
  },
  {
   "cell_type": "code",
   "execution_count": 52,
   "id": "908acbb1-0371-4915-85ca-3fa520d2efe2",
   "metadata": {
    "execution": {
     "iopub.execute_input": "2025-07-28T10:29:32.269714Z",
     "iopub.status.busy": "2025-07-28T10:29:32.269016Z",
     "iopub.status.idle": "2025-07-28T10:29:32.276709Z",
     "shell.execute_reply": "2025-07-28T10:29:32.275797Z"
    },
    "papermill": {
     "duration": 0.032991,
     "end_time": "2025-07-28T10:29:32.278221",
     "exception": false,
     "start_time": "2025-07-28T10:29:32.245230",
     "status": "completed"
    },
    "tags": []
   },
   "outputs": [
    {
     "data": {
      "text/plain": [
       "{'universe_id': ['401a2523f1c724bd72ec953cdcc1a637'],\n",
       " 'universe_training_size': ['5k'],\n",
       " 'universe_scale': ['scale'],\n",
       " 'universe_model': ['penalized_logreg'],\n",
       " 'universe_exclude_features': ['age'],\n",
       " 'universe_exclude_subgroups': ['keep-all'],\n",
       " 'q_hat': [0.6882557560489129],\n",
       " 'coverage': [0.910723442202653],\n",
       " 'avg_size': [1.149804926986958]}"
      ]
     },
     "execution_count": 52,
     "metadata": {},
     "output_type": "execute_result"
    }
   ],
   "source": [
    "cp_metrics_dict"
   ]
  },
  {
   "cell_type": "code",
   "execution_count": 53,
   "id": "33007efc-14e9-4ec6-97ac-56a455c82265",
   "metadata": {
    "execution": {
     "iopub.execute_input": "2025-07-28T10:29:32.327083Z",
     "iopub.status.busy": "2025-07-28T10:29:32.326391Z",
     "iopub.status.idle": "2025-07-28T10:29:32.332410Z",
     "shell.execute_reply": "2025-07-28T10:29:32.331502Z"
    },
    "papermill": {
     "duration": 0.03263,
     "end_time": "2025-07-28T10:29:32.334227",
     "exception": false,
     "start_time": "2025-07-28T10:29:32.301597",
     "status": "completed"
    },
    "tags": []
   },
   "outputs": [],
   "source": [
    "cp_metrics_df = pd.DataFrame(cp_metrics_dict)"
   ]
  },
  {
   "cell_type": "code",
   "execution_count": 54,
   "id": "db12611b-57b2-4910-b9d0-355adfd6e7bf",
   "metadata": {
    "execution": {
     "iopub.execute_input": "2025-07-28T10:29:32.383266Z",
     "iopub.status.busy": "2025-07-28T10:29:32.382684Z",
     "iopub.status.idle": "2025-07-28T10:29:32.401557Z",
     "shell.execute_reply": "2025-07-28T10:29:32.400576Z"
    },
    "papermill": {
     "duration": 0.045997,
     "end_time": "2025-07-28T10:29:32.403374",
     "exception": false,
     "start_time": "2025-07-28T10:29:32.357377",
     "status": "completed"
    },
    "tags": []
   },
   "outputs": [
    {
     "data": {
      "text/html": [
       "<div>\n",
       "<style scoped>\n",
       "    .dataframe tbody tr th:only-of-type {\n",
       "        vertical-align: middle;\n",
       "    }\n",
       "\n",
       "    .dataframe tbody tr th {\n",
       "        vertical-align: top;\n",
       "    }\n",
       "\n",
       "    .dataframe thead th {\n",
       "        text-align: right;\n",
       "    }\n",
       "</style>\n",
       "<table border=\"1\" class=\"dataframe\">\n",
       "  <thead>\n",
       "    <tr style=\"text-align: right;\">\n",
       "      <th></th>\n",
       "      <th>universe_id</th>\n",
       "      <th>universe_training_size</th>\n",
       "      <th>universe_scale</th>\n",
       "      <th>universe_model</th>\n",
       "      <th>universe_exclude_features</th>\n",
       "      <th>universe_exclude_subgroups</th>\n",
       "      <th>q_hat</th>\n",
       "      <th>coverage</th>\n",
       "      <th>avg_size</th>\n",
       "    </tr>\n",
       "  </thead>\n",
       "  <tbody>\n",
       "    <tr>\n",
       "      <th>0</th>\n",
       "      <td>401a2523f1c724bd72ec953cdcc1a637</td>\n",
       "      <td>5k</td>\n",
       "      <td>scale</td>\n",
       "      <td>penalized_logreg</td>\n",
       "      <td>age</td>\n",
       "      <td>keep-all</td>\n",
       "      <td>0.688256</td>\n",
       "      <td>0.910723</td>\n",
       "      <td>1.149805</td>\n",
       "    </tr>\n",
       "  </tbody>\n",
       "</table>\n",
       "</div>"
      ],
      "text/plain": [
       "                        universe_id universe_training_size universe_scale  \\\n",
       "0  401a2523f1c724bd72ec953cdcc1a637                     5k          scale   \n",
       "\n",
       "     universe_model universe_exclude_features universe_exclude_subgroups  \\\n",
       "0  penalized_logreg                       age                   keep-all   \n",
       "\n",
       "      q_hat  coverage  avg_size  \n",
       "0  0.688256  0.910723  1.149805  "
      ]
     },
     "execution_count": 54,
     "metadata": {},
     "output_type": "execute_result"
    }
   ],
   "source": [
    "cp_metrics_df"
   ]
  },
  {
   "cell_type": "code",
   "execution_count": 55,
   "id": "b7fbde55-a0a1-47e4-9af6-fe4a17fa8c61",
   "metadata": {
    "execution": {
     "iopub.execute_input": "2025-07-28T10:29:32.457535Z",
     "iopub.status.busy": "2025-07-28T10:29:32.456795Z",
     "iopub.status.idle": "2025-07-28T10:29:32.462489Z",
     "shell.execute_reply": "2025-07-28T10:29:32.461544Z"
    },
    "papermill": {
     "duration": 0.034064,
     "end_time": "2025-07-28T10:29:32.464196",
     "exception": false,
     "start_time": "2025-07-28T10:29:32.430132",
     "status": "completed"
    },
    "tags": []
   },
   "outputs": [],
   "source": [
    "# Conditional Coverage & looking at subgroups"
   ]
  },
  {
   "cell_type": "code",
   "execution_count": 56,
   "id": "027ae886-68dd-4141-96c7-805a5450e1ef",
   "metadata": {
    "execution": {
     "iopub.execute_input": "2025-07-28T10:29:32.519063Z",
     "iopub.status.busy": "2025-07-28T10:29:32.518355Z",
     "iopub.status.idle": "2025-07-28T10:29:32.784556Z",
     "shell.execute_reply": "2025-07-28T10:29:32.783574Z"
    },
    "papermill": {
     "duration": 0.295318,
     "end_time": "2025-07-28T10:29:32.786774",
     "exception": false,
     "start_time": "2025-07-28T10:29:32.491456",
     "status": "completed"
    },
    "tags": []
   },
   "outputs": [],
   "source": [
    "from fairness_multiverse.conformal import build_cp_groups\n",
    "\n",
    "cp_groups_df = build_cp_groups(pred_sets, y_true, X_test.index, org_test)\n",
    "#needs universe_id and setting"
   ]
  },
  {
   "cell_type": "code",
   "execution_count": 57,
   "id": "01d5802c-663a-4d1f-9d69-e036faaffbf7",
   "metadata": {
    "execution": {
     "iopub.execute_input": "2025-07-28T10:29:32.840434Z",
     "iopub.status.busy": "2025-07-28T10:29:32.839751Z",
     "iopub.status.idle": "2025-07-28T10:29:32.844820Z",
     "shell.execute_reply": "2025-07-28T10:29:32.843751Z"
    },
    "papermill": {
     "duration": 0.034025,
     "end_time": "2025-07-28T10:29:32.846602",
     "exception": false,
     "start_time": "2025-07-28T10:29:32.812577",
     "status": "completed"
    },
    "tags": []
   },
   "outputs": [],
   "source": [
    "#delete\n",
    "#cp_groups_df"
   ]
  },
  {
   "cell_type": "code",
   "execution_count": 58,
   "id": "fa424af1-d1eb-443d-b717-2d279ada8408",
   "metadata": {
    "execution": {
     "iopub.execute_input": "2025-07-28T10:29:32.899901Z",
     "iopub.status.busy": "2025-07-28T10:29:32.899239Z",
     "iopub.status.idle": "2025-07-28T10:29:32.904410Z",
     "shell.execute_reply": "2025-07-28T10:29:32.903323Z"
    },
    "papermill": {
     "duration": 0.033702,
     "end_time": "2025-07-28T10:29:32.906157",
     "exception": false,
     "start_time": "2025-07-28T10:29:32.872455",
     "status": "completed"
    },
    "tags": []
   },
   "outputs": [],
   "source": [
    "#delete\n",
    "#percentage = (cp_groups_df['nongerman_female'] == 1).mean() * 100\n",
    "#print(percentage)\n"
   ]
  },
  {
   "cell_type": "code",
   "execution_count": 59,
   "id": "6cbdab96-b2b2-45af-ad54-d0516db2e28d",
   "metadata": {
    "execution": {
     "iopub.execute_input": "2025-07-28T10:29:32.959546Z",
     "iopub.status.busy": "2025-07-28T10:29:32.958897Z",
     "iopub.status.idle": "2025-07-28T10:29:34.579006Z",
     "shell.execute_reply": "2025-07-28T10:29:34.578002Z"
    },
    "papermill": {
     "duration": 1.648473,
     "end_time": "2025-07-28T10:29:34.581070",
     "exception": false,
     "start_time": "2025-07-28T10:29:32.932597",
     "status": "completed"
    },
    "tags": []
   },
   "outputs": [],
   "source": [
    "# Define covered = 1 if true_label is in the predicted set\n",
    "cp_groups_df['covered'] = cp_groups_df.apply(\n",
    "    lambda r: int(r['true_label'] in r['pred_set']),\n",
    "    axis=1\n",
    ")"
   ]
  },
  {
   "cell_type": "code",
   "execution_count": 60,
   "id": "338ff529-1a6b-4b87-a931-8e4788d52aad",
   "metadata": {
    "execution": {
     "iopub.execute_input": "2025-07-28T10:29:34.635860Z",
     "iopub.status.busy": "2025-07-28T10:29:34.635177Z",
     "iopub.status.idle": "2025-07-28T10:29:34.640403Z",
     "shell.execute_reply": "2025-07-28T10:29:34.639341Z"
    },
    "papermill": {
     "duration": 0.034054,
     "end_time": "2025-07-28T10:29:34.642209",
     "exception": false,
     "start_time": "2025-07-28T10:29:34.608155",
     "status": "completed"
    },
    "tags": []
   },
   "outputs": [],
   "source": [
    "#cp_groups_df"
   ]
  },
  {
   "cell_type": "code",
   "execution_count": 61,
   "id": "90032e27-66df-4540-9169-4e89cfbaa758",
   "metadata": {
    "execution": {
     "iopub.execute_input": "2025-07-28T10:29:34.692516Z",
     "iopub.status.busy": "2025-07-28T10:29:34.691992Z",
     "iopub.status.idle": "2025-07-28T10:29:34.703405Z",
     "shell.execute_reply": "2025-07-28T10:29:34.702559Z"
    },
    "papermill": {
     "duration": 0.038611,
     "end_time": "2025-07-28T10:29:34.705017",
     "exception": false,
     "start_time": "2025-07-28T10:29:34.666406",
     "status": "completed"
    },
    "tags": []
   },
   "outputs": [],
   "source": [
    "subgroups = ['frau1','nongerman','nongerman_male','nongerman_female']\n",
    "\n",
    "# Conditional coverage for subgroup==1\n",
    "cond_coverage = {\n",
    "    g: cp_groups_df.loc[cp_groups_df[g]==1, 'covered'].mean()\n",
    "    for g in subgroups\n",
    "}"
   ]
  },
  {
   "cell_type": "code",
   "execution_count": 62,
   "id": "1e348fb1-b9c3-45bc-ba23-f016827a7e0d",
   "metadata": {
    "execution": {
     "iopub.execute_input": "2025-07-28T10:29:34.754288Z",
     "iopub.status.busy": "2025-07-28T10:29:34.753614Z",
     "iopub.status.idle": "2025-07-28T10:29:34.761015Z",
     "shell.execute_reply": "2025-07-28T10:29:34.760015Z"
    },
    "papermill": {
     "duration": 0.033641,
     "end_time": "2025-07-28T10:29:34.762450",
     "exception": false,
     "start_time": "2025-07-28T10:29:34.728809",
     "status": "completed"
    },
    "tags": []
   },
   "outputs": [
    {
     "data": {
      "text/plain": [
       "{'frau1': 0.9081816956463136,\n",
       " 'nongerman': 0.9092797395160838,\n",
       " 'nongerman_male': 0.9259659551472575,\n",
       " 'nongerman_female': 0.8816691505216095}"
      ]
     },
     "execution_count": 62,
     "metadata": {},
     "output_type": "execute_result"
    }
   ],
   "source": [
    "cond_coverage"
   ]
  },
  {
   "cell_type": "code",
   "execution_count": 63,
   "id": "f5093324-c3dd-4d63-bc4c-8d945e5c8bbb",
   "metadata": {
    "execution": {
     "iopub.execute_input": "2025-07-28T10:29:34.813140Z",
     "iopub.status.busy": "2025-07-28T10:29:34.812712Z",
     "iopub.status.idle": "2025-07-28T10:29:34.820118Z",
     "shell.execute_reply": "2025-07-28T10:29:34.818879Z"
    },
    "papermill": {
     "duration": 0.034132,
     "end_time": "2025-07-28T10:29:34.821707",
     "exception": false,
     "start_time": "2025-07-28T10:29:34.787575",
     "status": "completed"
    },
    "tags": []
   },
   "outputs": [],
   "source": [
    "for subgroup, cov in cond_coverage.items():\n",
    "    cp_metrics_df[f\"cov_{subgroup}\"] = cov"
   ]
  },
  {
   "cell_type": "code",
   "execution_count": 64,
   "id": "6e872e10-dbe5-49e8-b554-5030c98ff75d",
   "metadata": {
    "execution": {
     "iopub.execute_input": "2025-07-28T10:29:34.876019Z",
     "iopub.status.busy": "2025-07-28T10:29:34.875412Z",
     "iopub.status.idle": "2025-07-28T10:29:34.894547Z",
     "shell.execute_reply": "2025-07-28T10:29:34.893584Z"
    },
    "papermill": {
     "duration": 0.057317,
     "end_time": "2025-07-28T10:29:34.904401",
     "exception": false,
     "start_time": "2025-07-28T10:29:34.847084",
     "status": "completed"
    },
    "tags": []
   },
   "outputs": [
    {
     "data": {
      "text/html": [
       "<div>\n",
       "<style scoped>\n",
       "    .dataframe tbody tr th:only-of-type {\n",
       "        vertical-align: middle;\n",
       "    }\n",
       "\n",
       "    .dataframe tbody tr th {\n",
       "        vertical-align: top;\n",
       "    }\n",
       "\n",
       "    .dataframe thead th {\n",
       "        text-align: right;\n",
       "    }\n",
       "</style>\n",
       "<table border=\"1\" class=\"dataframe\">\n",
       "  <thead>\n",
       "    <tr style=\"text-align: right;\">\n",
       "      <th></th>\n",
       "      <th>universe_id</th>\n",
       "      <th>universe_training_size</th>\n",
       "      <th>universe_scale</th>\n",
       "      <th>universe_model</th>\n",
       "      <th>universe_exclude_features</th>\n",
       "      <th>universe_exclude_subgroups</th>\n",
       "      <th>q_hat</th>\n",
       "      <th>coverage</th>\n",
       "      <th>avg_size</th>\n",
       "      <th>cov_frau1</th>\n",
       "      <th>cov_nongerman</th>\n",
       "      <th>cov_nongerman_male</th>\n",
       "      <th>cov_nongerman_female</th>\n",
       "    </tr>\n",
       "  </thead>\n",
       "  <tbody>\n",
       "    <tr>\n",
       "      <th>0</th>\n",
       "      <td>401a2523f1c724bd72ec953cdcc1a637</td>\n",
       "      <td>5k</td>\n",
       "      <td>scale</td>\n",
       "      <td>penalized_logreg</td>\n",
       "      <td>age</td>\n",
       "      <td>keep-all</td>\n",
       "      <td>0.688256</td>\n",
       "      <td>0.910723</td>\n",
       "      <td>1.149805</td>\n",
       "      <td>0.908182</td>\n",
       "      <td>0.90928</td>\n",
       "      <td>0.925966</td>\n",
       "      <td>0.881669</td>\n",
       "    </tr>\n",
       "  </tbody>\n",
       "</table>\n",
       "</div>"
      ],
      "text/plain": [
       "                        universe_id universe_training_size universe_scale  \\\n",
       "0  401a2523f1c724bd72ec953cdcc1a637                     5k          scale   \n",
       "\n",
       "     universe_model universe_exclude_features universe_exclude_subgroups  \\\n",
       "0  penalized_logreg                       age                   keep-all   \n",
       "\n",
       "      q_hat  coverage  avg_size  cov_frau1  cov_nongerman  cov_nongerman_male  \\\n",
       "0  0.688256  0.910723  1.149805   0.908182        0.90928            0.925966   \n",
       "\n",
       "   cov_nongerman_female  \n",
       "0              0.881669  "
      ]
     },
     "execution_count": 64,
     "metadata": {},
     "output_type": "execute_result"
    }
   ],
   "source": [
    "cp_metrics_df"
   ]
  },
  {
   "cell_type": "markdown",
   "id": "33774451",
   "metadata": {
    "papermill": {
     "duration": 0.024829,
     "end_time": "2025-07-28T10:29:34.954023",
     "exception": false,
     "start_time": "2025-07-28T10:29:34.929194",
     "status": "completed"
    },
    "tags": []
   },
   "source": [
    "# (Fairness) Metrics"
   ]
  },
  {
   "cell_type": "code",
   "execution_count": 65,
   "id": "debc5d62",
   "metadata": {
    "execution": {
     "iopub.execute_input": "2025-07-28T10:29:35.005255Z",
     "iopub.status.busy": "2025-07-28T10:29:35.004706Z",
     "iopub.status.idle": "2025-07-28T10:29:35.026553Z",
     "shell.execute_reply": "2025-07-28T10:29:35.025655Z"
    },
    "papermill": {
     "duration": 0.049794,
     "end_time": "2025-07-28T10:29:35.028325",
     "exception": false,
     "start_time": "2025-07-28T10:29:34.978531",
     "status": "completed"
    },
    "tags": []
   },
   "outputs": [],
   "source": [
    "# do I need to include maxdeutsch1.missing?\n",
    "\n",
    "import numpy as np\n",
    "\n",
    "colname_to_bin = \"maxdeutsch1\"\n",
    "majority_value = org_train[colname_to_bin].mode()[0]\n",
    "\n",
    "org_test[\"majmin\"] = np.where(org_test[colname_to_bin] == majority_value, \"majority\", \"minority\")"
   ]
  },
  {
   "cell_type": "code",
   "execution_count": 66,
   "id": "06a50de5",
   "metadata": {
    "execution": {
     "iopub.execute_input": "2025-07-28T10:29:35.079410Z",
     "iopub.status.busy": "2025-07-28T10:29:35.078643Z",
     "iopub.status.idle": "2025-07-28T10:29:38.152801Z",
     "shell.execute_reply": "2025-07-28T10:29:38.151842Z"
    },
    "papermill": {
     "duration": 3.101341,
     "end_time": "2025-07-28T10:29:38.154756",
     "exception": false,
     "start_time": "2025-07-28T10:29:35.053415",
     "status": "completed"
    },
    "tags": []
   },
   "outputs": [],
   "source": [
    "example_universe = universe.copy()\n",
    "example_universe[\"cutoff\"] = example_universe[\"cutoff\"][0]\n",
    "example_universe[\"eval_fairness_grouping\"] = example_universe[\"eval_fairness_grouping\"][0]\n",
    "fairness_dict, metric_frame = universe_analysis.compute_metrics(\n",
    "    example_universe,\n",
    "    y_pred_prob=probs_test,\n",
    "    y_test=y_true,\n",
    "    org_test=org_test,\n",
    ")"
   ]
  },
  {
   "cell_type": "markdown",
   "id": "f95d4e02",
   "metadata": {
    "papermill": {
     "duration": 0.024228,
     "end_time": "2025-07-28T10:29:38.204236",
     "exception": false,
     "start_time": "2025-07-28T10:29:38.180008",
     "status": "completed"
    },
    "tags": []
   },
   "source": [
    "# Overall"
   ]
  },
  {
   "cell_type": "markdown",
   "id": "bdee4871",
   "metadata": {
    "papermill": {
     "duration": 0.024528,
     "end_time": "2025-07-28T10:29:38.253201",
     "exception": false,
     "start_time": "2025-07-28T10:29:38.228673",
     "status": "completed"
    },
    "tags": []
   },
   "source": [
    "Fairness\n",
    "Main fairness target: Equalized Odds. Seems to be a better fit than equal opportunity, since we're not only interested in Y = 1. Seems to be a better fit than demographic parity, since we also care about accuracy, not just equal distribution of preds.\n",
    "\n",
    "Pick column for computation of fairness metrics\n",
    "\n",
    "Performance\n",
    "Overall performance measures, most interesting in relation to the measures split by group below"
   ]
  },
  {
   "cell_type": "code",
   "execution_count": 67,
   "id": "c4e067c6",
   "metadata": {
    "execution": {
     "iopub.execute_input": "2025-07-28T10:29:38.303509Z",
     "iopub.status.busy": "2025-07-28T10:29:38.302825Z",
     "iopub.status.idle": "2025-07-28T10:29:38.311553Z",
     "shell.execute_reply": "2025-07-28T10:29:38.310665Z"
    },
    "papermill": {
     "duration": 0.035861,
     "end_time": "2025-07-28T10:29:38.313148",
     "exception": false,
     "start_time": "2025-07-28T10:29:38.277287",
     "status": "completed"
    },
    "tags": []
   },
   "outputs": [
    {
     "data": {
      "text/plain": [
       "accuracy                   0.223219\n",
       "balanced accuracy          0.546044\n",
       "f1                         0.244582\n",
       "precision                  0.139722\n",
       "false positive rate        0.888187\n",
       "false negative rate        0.019725\n",
       "selection rate             0.900000\n",
       "count                  89710.000000\n",
       "dtype: float64"
      ]
     },
     "execution_count": 67,
     "metadata": {},
     "output_type": "execute_result"
    }
   ],
   "source": [
    "metric_frame.overall"
   ]
  },
  {
   "cell_type": "markdown",
   "id": "e968fe9d",
   "metadata": {
    "papermill": {
     "duration": 0.024448,
     "end_time": "2025-07-28T10:29:38.362802",
     "exception": false,
     "start_time": "2025-07-28T10:29:38.338354",
     "status": "completed"
    },
    "tags": []
   },
   "source": [
    "By Group"
   ]
  },
  {
   "cell_type": "code",
   "execution_count": 68,
   "id": "ec325bce",
   "metadata": {
    "execution": {
     "iopub.execute_input": "2025-07-28T10:29:38.414192Z",
     "iopub.status.busy": "2025-07-28T10:29:38.413487Z",
     "iopub.status.idle": "2025-07-28T10:29:38.429636Z",
     "shell.execute_reply": "2025-07-28T10:29:38.428660Z"
    },
    "papermill": {
     "duration": 0.043619,
     "end_time": "2025-07-28T10:29:38.431212",
     "exception": false,
     "start_time": "2025-07-28T10:29:38.387593",
     "status": "completed"
    },
    "tags": []
   },
   "outputs": [
    {
     "data": {
      "text/html": [
       "<div>\n",
       "<style scoped>\n",
       "    .dataframe tbody tr th:only-of-type {\n",
       "        vertical-align: middle;\n",
       "    }\n",
       "\n",
       "    .dataframe tbody tr th {\n",
       "        vertical-align: top;\n",
       "    }\n",
       "\n",
       "    .dataframe thead th {\n",
       "        text-align: right;\n",
       "    }\n",
       "</style>\n",
       "<table border=\"1\" class=\"dataframe\">\n",
       "  <thead>\n",
       "    <tr style=\"text-align: right;\">\n",
       "      <th></th>\n",
       "      <th>accuracy</th>\n",
       "      <th>balanced accuracy</th>\n",
       "      <th>f1</th>\n",
       "      <th>precision</th>\n",
       "      <th>false positive rate</th>\n",
       "      <th>false negative rate</th>\n",
       "      <th>selection rate</th>\n",
       "      <th>count</th>\n",
       "    </tr>\n",
       "    <tr>\n",
       "      <th>majmin</th>\n",
       "      <th></th>\n",
       "      <th></th>\n",
       "      <th></th>\n",
       "      <th></th>\n",
       "      <th></th>\n",
       "      <th></th>\n",
       "      <th></th>\n",
       "      <th></th>\n",
       "    </tr>\n",
       "  </thead>\n",
       "  <tbody>\n",
       "    <tr>\n",
       "      <th>majority</th>\n",
       "      <td>0.24408</td>\n",
       "      <td>0.555635</td>\n",
       "      <td>0.255012</td>\n",
       "      <td>0.146597</td>\n",
       "      <td>0.867833</td>\n",
       "      <td>0.020897</td>\n",
       "      <td>0.882536</td>\n",
       "      <td>69170.0</td>\n",
       "    </tr>\n",
       "    <tr>\n",
       "      <th>minority</th>\n",
       "      <td>0.15297</td>\n",
       "      <td>0.514686</td>\n",
       "      <td>0.211404</td>\n",
       "      <td>0.118412</td>\n",
       "      <td>0.955426</td>\n",
       "      <td>0.015203</td>\n",
       "      <td>0.958812</td>\n",
       "      <td>20540.0</td>\n",
       "    </tr>\n",
       "  </tbody>\n",
       "</table>\n",
       "</div>"
      ],
      "text/plain": [
       "          accuracy  balanced accuracy        f1  precision  \\\n",
       "majmin                                                       \n",
       "majority   0.24408           0.555635  0.255012   0.146597   \n",
       "minority   0.15297           0.514686  0.211404   0.118412   \n",
       "\n",
       "          false positive rate  false negative rate  selection rate    count  \n",
       "majmin                                                                       \n",
       "majority             0.867833             0.020897        0.882536  69170.0  \n",
       "minority             0.955426             0.015203        0.958812  20540.0  "
      ]
     },
     "execution_count": 68,
     "metadata": {},
     "output_type": "execute_result"
    }
   ],
   "source": [
    "metric_frame.by_group"
   ]
  },
  {
   "cell_type": "code",
   "execution_count": 69,
   "id": "a9ddbe63",
   "metadata": {
    "execution": {
     "iopub.execute_input": "2025-07-28T10:29:38.483462Z",
     "iopub.status.busy": "2025-07-28T10:29:38.482767Z",
     "iopub.status.idle": "2025-07-28T10:29:40.901560Z",
     "shell.execute_reply": "2025-07-28T10:29:40.900592Z"
    },
    "papermill": {
     "duration": 2.446922,
     "end_time": "2025-07-28T10:29:40.903720",
     "exception": false,
     "start_time": "2025-07-28T10:29:38.456798",
     "status": "completed"
    },
    "tags": []
   },
   "outputs": [
    {
     "data": {
      "text/plain": [
       "array([[<Axes: title={'center': 'accuracy'}, xlabel='majmin'>,\n",
       "        <Axes: title={'center': 'balanced accuracy'}, xlabel='majmin'>,\n",
       "        <Axes: title={'center': 'f1'}, xlabel='majmin'>],\n",
       "       [<Axes: title={'center': 'precision'}, xlabel='majmin'>,\n",
       "        <Axes: title={'center': 'false positive rate'}, xlabel='majmin'>,\n",
       "        <Axes: title={'center': 'false negative rate'}, xlabel='majmin'>],\n",
       "       [<Axes: title={'center': 'selection rate'}, xlabel='majmin'>,\n",
       "        <Axes: title={'center': 'count'}, xlabel='majmin'>,\n",
       "        <Axes: xlabel='majmin'>]], dtype=object)"
      ]
     },
     "execution_count": 69,
     "metadata": {},
     "output_type": "execute_result"
    },
    {
     "data": {
      "image/png": "[encoded data removed]",
      "text/plain": [
       "<Figure size 1200x800 with 9 Axes>"
      ]
     },
     "metadata": {},
     "output_type": "display_data"
    }
   ],
   "source": [
    "# In a graphic\n",
    "metric_frame.by_group.plot.bar(\n",
    "    subplots=True,\n",
    "    layout=[3, 3],\n",
    "    legend=False,\n",
    "    figsize=[12, 8],\n",
    "    title=\"Show all metrics\",\n",
    ")"
   ]
  },
  {
   "cell_type": "markdown",
   "id": "f57a0bac",
   "metadata": {
    "papermill": {
     "duration": 0.03961,
     "end_time": "2025-07-28T10:29:40.983907",
     "exception": false,
     "start_time": "2025-07-28T10:29:40.944297",
     "status": "completed"
    },
    "tags": []
   },
   "source": [
    "# Final Output"
   ]
  },
  {
   "cell_type": "code",
   "execution_count": 70,
   "id": "96d280a3",
   "metadata": {
    "execution": {
     "iopub.execute_input": "2025-07-28T10:29:41.066719Z",
     "iopub.status.busy": "2025-07-28T10:29:41.065655Z",
     "iopub.status.idle": "2025-07-28T10:29:41.074715Z",
     "shell.execute_reply": "2025-07-28T10:29:41.073528Z"
    },
    "papermill": {
     "duration": 0.052492,
     "end_time": "2025-07-28T10:29:41.076861",
     "exception": false,
     "start_time": "2025-07-28T10:29:41.024369",
     "status": "completed"
    },
    "tags": []
   },
   "outputs": [
    {
     "data": {
      "text/plain": [
       "4"
      ]
     },
     "execution_count": 70,
     "metadata": {},
     "output_type": "execute_result"
    }
   ],
   "source": [
    "sub_universes = universe_analysis.generate_sub_universes()\n",
    "len(sub_universes)"
   ]
  },
  {
   "cell_type": "code",
   "execution_count": 71,
   "id": "92adf7ba",
   "metadata": {
    "execution": {
     "iopub.execute_input": "2025-07-28T10:29:41.159800Z",
     "iopub.status.busy": "2025-07-28T10:29:41.159400Z",
     "iopub.status.idle": "2025-07-28T10:29:41.166269Z",
     "shell.execute_reply": "2025-07-28T10:29:41.165052Z"
    },
    "papermill": {
     "duration": 0.051295,
     "end_time": "2025-07-28T10:29:41.168457",
     "exception": false,
     "start_time": "2025-07-28T10:29:41.117162",
     "status": "completed"
    },
    "tags": []
   },
   "outputs": [],
   "source": [
    "def filter_sub_universe_data(sub_universe, org_test):\n",
    "    # Keep all rows — no filtering\n",
    "    keep_rows_mask = np.ones(org_test.shape[0], dtype=bool)\n",
    "\n",
    "    print(f\"[INFO] Keeping all rows: {keep_rows_mask.sum()} rows retained.\")\n",
    "    return keep_rows_mask"
   ]
  },
  {
   "cell_type": "code",
   "execution_count": 72,
   "id": "4a759155",
   "metadata": {
    "execution": {
     "iopub.execute_input": "2025-07-28T10:29:41.251215Z",
     "iopub.status.busy": "2025-07-28T10:29:41.250115Z",
     "iopub.status.idle": "2025-07-28T10:29:52.621405Z",
     "shell.execute_reply": "2025-07-28T10:29:52.620223Z"
    },
    "papermill": {
     "duration": 11.414776,
     "end_time": "2025-07-28T10:29:52.623253",
     "exception": false,
     "start_time": "2025-07-28T10:29:41.208477",
     "status": "completed"
    },
    "tags": []
   },
   "outputs": [
    {
     "name": "stdout",
     "output_type": "stream",
     "text": [
      "Stopping execution_time clock.\n",
      "[INFO] Keeping all rows: 89710 rows retained.\n"
     ]
    },
    {
     "name": "stdout",
     "output_type": "stream",
     "text": [
      "[INFO] Keeping all rows: 89710 rows retained.\n"
     ]
    },
    {
     "name": "stdout",
     "output_type": "stream",
     "text": [
      "[INFO] Keeping all rows: 89710 rows retained.\n"
     ]
    },
    {
     "name": "stdout",
     "output_type": "stream",
     "text": [
      "[INFO] Keeping all rows: 89710 rows retained.\n"
     ]
    },
    {
     "data": {
      "text/html": [
       "<div>\n",
       "<style scoped>\n",
       "    .dataframe tbody tr th:only-of-type {\n",
       "        vertical-align: middle;\n",
       "    }\n",
       "\n",
       "    .dataframe tbody tr th {\n",
       "        vertical-align: top;\n",
       "    }\n",
       "\n",
       "    .dataframe thead th {\n",
       "        text-align: right;\n",
       "    }\n",
       "</style>\n",
       "<table border=\"1\" class=\"dataframe\">\n",
       "  <thead>\n",
       "    <tr style=\"text-align: right;\">\n",
       "      <th></th>\n",
       "      <th>run_no</th>\n",
       "      <th>universe_id</th>\n",
       "      <th>universe_settings</th>\n",
       "      <th>execution_time</th>\n",
       "      <th>test_size_n</th>\n",
       "      <th>test_size_frac</th>\n",
       "      <th>fair_main_equalized_odds_difference</th>\n",
       "      <th>fair_main_equalized_odds_ratio</th>\n",
       "      <th>fair_main_demographic_parity_difference</th>\n",
       "      <th>fair_main_demographic_parity_ratio</th>\n",
       "      <th>...</th>\n",
       "      <th>perf_grp_precision_0</th>\n",
       "      <th>perf_grp_precision_1</th>\n",
       "      <th>perf_grp_false positive rate_0</th>\n",
       "      <th>perf_grp_false positive rate_1</th>\n",
       "      <th>perf_grp_false negative rate_0</th>\n",
       "      <th>perf_grp_false negative rate_1</th>\n",
       "      <th>perf_grp_selection rate_0</th>\n",
       "      <th>perf_grp_selection rate_1</th>\n",
       "      <th>perf_grp_count_0</th>\n",
       "      <th>perf_grp_count_1</th>\n",
       "    </tr>\n",
       "  </thead>\n",
       "  <tbody>\n",
       "    <tr>\n",
       "      <th>0</th>\n",
       "      <td>11</td>\n",
       "      <td>401a2523f1c724bd72ec953cdcc1a637</td>\n",
       "      <td>{\"cutoff\": \"quantile_0.1\", \"eval_fairness_grou...</td>\n",
       "      <td>27.373656</td>\n",
       "      <td>89710</td>\n",
       "      <td>1.0</td>\n",
       "      <td>0.087593</td>\n",
       "      <td>0.908320</td>\n",
       "      <td>0.076276</td>\n",
       "      <td>0.920447</td>\n",
       "      <td>...</td>\n",
       "      <td>NaN</td>\n",
       "      <td>NaN</td>\n",
       "      <td>NaN</td>\n",
       "      <td>NaN</td>\n",
       "      <td>NaN</td>\n",
       "      <td>NaN</td>\n",
       "      <td>NaN</td>\n",
       "      <td>NaN</td>\n",
       "      <td>NaN</td>\n",
       "      <td>NaN</td>\n",
       "    </tr>\n",
       "    <tr>\n",
       "      <th>0</th>\n",
       "      <td>11</td>\n",
       "      <td>401a2523f1c724bd72ec953cdcc1a637</td>\n",
       "      <td>{\"cutoff\": \"quantile_0.1\", \"eval_fairness_grou...</td>\n",
       "      <td>27.373656</td>\n",
       "      <td>89710</td>\n",
       "      <td>1.0</td>\n",
       "      <td>0.087593</td>\n",
       "      <td>0.908320</td>\n",
       "      <td>0.076276</td>\n",
       "      <td>0.920447</td>\n",
       "      <td>...</td>\n",
       "      <td>0.118412</td>\n",
       "      <td>0.146597</td>\n",
       "      <td>0.955426</td>\n",
       "      <td>0.867833</td>\n",
       "      <td>0.015203</td>\n",
       "      <td>0.020897</td>\n",
       "      <td>0.958812</td>\n",
       "      <td>0.882536</td>\n",
       "      <td>20540.0</td>\n",
       "      <td>69170.0</td>\n",
       "    </tr>\n",
       "    <tr>\n",
       "      <th>0</th>\n",
       "      <td>11</td>\n",
       "      <td>401a2523f1c724bd72ec953cdcc1a637</td>\n",
       "      <td>{\"cutoff\": \"quantile_0.25\", \"eval_fairness_gro...</td>\n",
       "      <td>27.373656</td>\n",
       "      <td>89710</td>\n",
       "      <td>1.0</td>\n",
       "      <td>0.185790</td>\n",
       "      <td>0.785545</td>\n",
       "      <td>0.163168</td>\n",
       "      <td>0.813694</td>\n",
       "      <td>...</td>\n",
       "      <td>NaN</td>\n",
       "      <td>NaN</td>\n",
       "      <td>NaN</td>\n",
       "      <td>NaN</td>\n",
       "      <td>NaN</td>\n",
       "      <td>NaN</td>\n",
       "      <td>NaN</td>\n",
       "      <td>NaN</td>\n",
       "      <td>NaN</td>\n",
       "      <td>NaN</td>\n",
       "    </tr>\n",
       "    <tr>\n",
       "      <th>0</th>\n",
       "      <td>11</td>\n",
       "      <td>401a2523f1c724bd72ec953cdcc1a637</td>\n",
       "      <td>{\"cutoff\": \"quantile_0.25\", \"eval_fairness_gro...</td>\n",
       "      <td>27.373656</td>\n",
       "      <td>89710</td>\n",
       "      <td>1.0</td>\n",
       "      <td>0.185790</td>\n",
       "      <td>0.785545</td>\n",
       "      <td>0.163168</td>\n",
       "      <td>0.813694</td>\n",
       "      <td>...</td>\n",
       "      <td>0.124854</td>\n",
       "      <td>0.171221</td>\n",
       "      <td>0.866333</td>\n",
       "      <td>0.680543</td>\n",
       "      <td>0.051520</td>\n",
       "      <td>0.076586</td>\n",
       "      <td>0.875803</td>\n",
       "      <td>0.712636</td>\n",
       "      <td>20540.0</td>\n",
       "      <td>69170.0</td>\n",
       "    </tr>\n",
       "  </tbody>\n",
       "</table>\n",
       "<p>4 rows × 50 columns</p>\n",
       "</div>"
      ],
      "text/plain": [
       "  run_no                       universe_id  \\\n",
       "0     11  401a2523f1c724bd72ec953cdcc1a637   \n",
       "0     11  401a2523f1c724bd72ec953cdcc1a637   \n",
       "0     11  401a2523f1c724bd72ec953cdcc1a637   \n",
       "0     11  401a2523f1c724bd72ec953cdcc1a637   \n",
       "\n",
       "                                   universe_settings  execution_time  \\\n",
       "0  {\"cutoff\": \"quantile_0.1\", \"eval_fairness_grou...       27.373656   \n",
       "0  {\"cutoff\": \"quantile_0.1\", \"eval_fairness_grou...       27.373656   \n",
       "0  {\"cutoff\": \"quantile_0.25\", \"eval_fairness_gro...       27.373656   \n",
       "0  {\"cutoff\": \"quantile_0.25\", \"eval_fairness_gro...       27.373656   \n",
       "\n",
       "   test_size_n  test_size_frac  fair_main_equalized_odds_difference  \\\n",
       "0        89710             1.0                             0.087593   \n",
       "0        89710             1.0                             0.087593   \n",
       "0        89710             1.0                             0.185790   \n",
       "0        89710             1.0                             0.185790   \n",
       "\n",
       "   fair_main_equalized_odds_ratio  fair_main_demographic_parity_difference  \\\n",
       "0                        0.908320                                 0.076276   \n",
       "0                        0.908320                                 0.076276   \n",
       "0                        0.785545                                 0.163168   \n",
       "0                        0.785545                                 0.163168   \n",
       "\n",
       "   fair_main_demographic_parity_ratio  ...  perf_grp_precision_0  \\\n",
       "0                            0.920447  ...                   NaN   \n",
       "0                            0.920447  ...              0.118412   \n",
       "0                            0.813694  ...                   NaN   \n",
       "0                            0.813694  ...              0.124854   \n",
       "\n",
       "   perf_grp_precision_1  perf_grp_false positive rate_0  \\\n",
       "0                   NaN                             NaN   \n",
       "0              0.146597                        0.955426   \n",
       "0                   NaN                             NaN   \n",
       "0              0.171221                        0.866333   \n",
       "\n",
       "   perf_grp_false positive rate_1  perf_grp_false negative rate_0  \\\n",
       "0                             NaN                             NaN   \n",
       "0                        0.867833                        0.015203   \n",
       "0                             NaN                             NaN   \n",
       "0                        0.680543                        0.051520   \n",
       "\n",
       "   perf_grp_false negative rate_1  perf_grp_selection rate_0  \\\n",
       "0                             NaN                        NaN   \n",
       "0                        0.020897                   0.958812   \n",
       "0                             NaN                        NaN   \n",
       "0                        0.076586                   0.875803   \n",
       "\n",
       "   perf_grp_selection rate_1  perf_grp_count_0  perf_grp_count_1  \n",
       "0                        NaN               NaN               NaN  \n",
       "0                   0.882536           20540.0           69170.0  \n",
       "0                        NaN               NaN               NaN  \n",
       "0                   0.712636           20540.0           69170.0  \n",
       "\n",
       "[4 rows x 50 columns]"
      ]
     },
     "execution_count": 72,
     "metadata": {},
     "output_type": "execute_result"
    }
   ],
   "source": [
    "final_output = universe_analysis.generate_final_output(\n",
    "    y_pred_prob=probs_test,\n",
    "    y_test=y_true,\n",
    "    org_test=org_test,\n",
    "    filter_data=filter_sub_universe_data,\n",
    "    cp_metrics_df=cp_metrics_df,\n",
    "    save=True,\n",
    ")\n",
    "final_output"
   ]
  },
  {
   "cell_type": "code",
   "execution_count": null,
   "id": "721ff514-cb11-46f8-b6fc-50392f74b5cb",
   "metadata": {
    "papermill": {
     "duration": 0.029951,
     "end_time": "2025-07-28T10:29:52.688699",
     "exception": false,
     "start_time": "2025-07-28T10:29:52.658748",
     "status": "completed"
    },
    "tags": []
   },
   "outputs": [],
   "source": []
  }
 ],
 "metadata": {
  "celltoolbar": "Tags",
  "kernelspec": {
   "display_name": "Python (CMA Fairness)",
   "language": "python",
   "name": "cma_fair_env"
  },
  "language_info": {
   "codemirror_mode": {
    "name": "ipython",
    "version": 3
   },
   "file_extension": ".py",
   "mimetype": "text/x-python",
   "name": "python",
   "nbconvert_exporter": "python",
   "pygments_lexer": "ipython3",
   "version": "3.10.12"
  },
  "papermill": {
   "default_parameters": {},
   "duration": 43.065748,
   "end_time": "2025-07-28T10:29:53.641035",
   "environment_variables": {},
   "exception": null,
   "input_path": "universe_analysis.ipynb",
   "output_path": "output/runs/11/notebooks/m_11-401a2523f1c724bd72ec953cdcc1a637.ipynb",
   "parameters": {
    "output_dir": "output",
    "run_no": "11",
    "seed": "2023",
    "universe": "{\"cutoff\": [\"quantile_0.1\", \"quantile_0.25\"], \"eval_fairness_grouping\": [\"majority-minority\", \"nationality-all\"], \"exclude_features\": \"age\", \"exclude_subgroups\": \"keep-all\", \"model\": \"penalized_logreg\", \"scale\": \"scale\", \"training_size\": \"5k\"}",
    "universe_id": "401a2523f1c724bd72ec953cdcc1a637"
   },
   "start_time": "2025-07-28T10:29:10.575287",
   "version": "2.6.0"
  }
 },
 "nbformat": 4,
 "nbformat_minor": 5
}