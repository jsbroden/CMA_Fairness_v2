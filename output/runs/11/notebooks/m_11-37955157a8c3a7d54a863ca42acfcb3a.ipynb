{
 "cells": [
  {
   "cell_type": "code",
   "execution_count": 1,
   "id": "f159f837-637b-42ba-96b5-ec9a68c44524",
   "metadata": {
    "execution": {
     "iopub.execute_input": "2025-07-28T10:55:27.434151Z",
     "iopub.status.busy": "2025-07-28T10:55:27.433180Z",
     "iopub.status.idle": "2025-07-28T10:55:27.447681Z",
     "shell.execute_reply": "2025-07-28T10:55:27.446749Z"
    },
    "papermill": {
     "duration": 0.045214,
     "end_time": "2025-07-28T10:55:27.449549",
     "exception": false,
     "start_time": "2025-07-28T10:55:27.404335",
     "status": "completed"
    },
    "tags": []
   },
   "outputs": [
    {
     "name": "stdout",
     "output_type": "stream",
     "text": [
      "/dss/dsshome1/0C/ra93lal2/cma/CMA_Fairness_v2\n"
     ]
    },
    {
     "name": "stderr",
     "output_type": "stream",
     "text": [
      "/dss/dsshome1/0C/ra93lal2/.local/share/virtualenvs/CMA_Fairness_v2-3j10GkSs/lib/python3.10/site-packages/IPython/core/magics/osm.py:393: UserWarning: This is now an optional IPython functionality, using bookmarks requires you to install the `pickleshare` library.\n",
      "  bkms = self.shell.db.get('bookmarks', {})\n",
      "/dss/dsshome1/0C/ra93lal2/.local/share/virtualenvs/CMA_Fairness_v2-3j10GkSs/lib/python3.10/site-packages/IPython/core/magics/osm.py:417: UserWarning: This is now an optional IPython functionality, setting dhist requires you to install the `pickleshare` library.\n",
      "  self.shell.db['dhist'] = compress_dhist(dhist)[-100:]\n"
     ]
    }
   ],
   "source": [
    "%cd ~/cma/CMA_Fairness_v2"
   ]
  },
  {
   "cell_type": "markdown",
   "id": "de2603b9",
   "metadata": {
    "papermill": {
     "duration": 0.018953,
     "end_time": "2025-07-28T10:55:27.488706",
     "exception": false,
     "start_time": "2025-07-28T10:55:27.469753",
     "status": "completed"
    },
    "tags": []
   },
   "source": [
    "The following cell holds the definition of our parameters, these values can be overriden by rendering the with e.g. the following command:\n",
    "\n",
    "papermill -p alpha 0.2 -p ratio 0.3 universe_analysis.ipynb output/test_run.ipynb"
   ]
  },
  {
   "cell_type": "code",
   "execution_count": 2,
   "id": "a80968a0-40bb-4fa9-85ef-2d5eefb01975",
   "metadata": {
    "execution": {
     "iopub.execute_input": "2025-07-28T10:55:27.528620Z",
     "iopub.status.busy": "2025-07-28T10:55:27.527926Z",
     "iopub.status.idle": "2025-07-28T10:55:27.533895Z",
     "shell.execute_reply": "2025-07-28T10:55:27.532899Z"
    },
    "papermill": {
     "duration": 0.028371,
     "end_time": "2025-07-28T10:55:27.535554",
     "exception": false,
     "start_time": "2025-07-28T10:55:27.507183",
     "status": "completed"
    },
    "tags": []
   },
   "outputs": [
    {
     "name": "stdout",
     "output_type": "stream",
     "text": [
      "Current working directory: /dss/dsshome1/0C/ra93lal2/cma/CMA_Fairness_v2\n"
     ]
    }
   ],
   "source": [
    "import os\n",
    "print(\"Current working directory:\", os.getcwd())"
   ]
  },
  {
   "cell_type": "code",
   "execution_count": 3,
   "id": "2dce4c03",
   "metadata": {
    "execution": {
     "iopub.execute_input": "2025-07-28T10:55:27.578008Z",
     "iopub.status.busy": "2025-07-28T10:55:27.577312Z",
     "iopub.status.idle": "2025-07-28T10:55:27.583945Z",
     "shell.execute_reply": "2025-07-28T10:55:27.582916Z"
    },
    "papermill": {
     "duration": 0.030541,
     "end_time": "2025-07-28T10:55:27.585739",
     "exception": false,
     "start_time": "2025-07-28T10:55:27.555198",
     "status": "completed"
    },
    "tags": [
     "parameters"
    ]
   },
   "outputs": [],
   "source": [
    "run_no = 0\n",
    "universe_id = \"test\"\n",
    "universe = {\n",
    "    \"training_size\": \"2014\", # \"25k\", \"5k\", \"1k\", \"2014\"\n",
    "    \"scale\": \"scale\", # \"scale\", \"do-not-scale\",\n",
    "    #\"stratify_split\": \"target\", # \"none\", \"target\", \"protected-attribute\", \"both\",\n",
    "    \"model\": \"elasticnet\", # \"logreg\", \"penalized_logreg\", \"rf\", \"gbm\", \"elasticnet\"\n",
    "    \"cutoff\": [\"quantile_0.15\", \"quantile_0.30\"],\n",
    "    \"exclude_features\": \"age\", # \"none\", \"nationality\", \"sex\", \"nationality-sex\", \"age\"\n",
    "    \"exclude_subgroups\": \"keep-all\", # \"keep-all\", \"drop-non-german\"\n",
    "    \"eval_fairness_grouping\": [\"majority-minority\", \"nationality-all\"]\n",
    "}\n",
    "\n",
    "output_dir=\"./output\"\n",
    "seed=0"
   ]
  },
  {
   "cell_type": "code",
   "execution_count": 4,
   "id": "0817c290",
   "metadata": {
    "execution": {
     "iopub.execute_input": "2025-07-28T10:55:27.626454Z",
     "iopub.status.busy": "2025-07-28T10:55:27.625615Z",
     "iopub.status.idle": "2025-07-28T10:55:27.631222Z",
     "shell.execute_reply": "2025-07-28T10:55:27.630329Z"
    },
    "papermill": {
     "duration": 0.026852,
     "end_time": "2025-07-28T10:55:27.632748",
     "exception": false,
     "start_time": "2025-07-28T10:55:27.605896",
     "status": "completed"
    },
    "tags": [
     "injected-parameters"
    ]
   },
   "outputs": [],
   "source": [
    "# Parameters\n",
    "universe_id = \"37955157a8c3a7d54a863ca42acfcb3a\"\n",
    "run_no = \"11\"\n",
    "universe = \"{\\\"cutoff\\\": [\\\"quantile_0.1\\\", \\\"quantile_0.25\\\"], \\\"eval_fairness_grouping\\\": [\\\"majority-minority\\\", \\\"nationality-all\\\"], \\\"exclude_features\\\": \\\"nationality\\\", \\\"exclude_subgroups\\\": \\\"keep-all\\\", \\\"model\\\": \\\"rf\\\", \\\"scale\\\": \\\"scale\\\", \\\"training_size\\\": \\\"2014\\\"}\"\n",
    "output_dir = \"output\"\n",
    "seed = \"2023\"\n"
   ]
  },
  {
   "cell_type": "code",
   "execution_count": 5,
   "id": "1650acaf",
   "metadata": {
    "execution": {
     "iopub.execute_input": "2025-07-28T10:55:27.672624Z",
     "iopub.status.busy": "2025-07-28T10:55:27.671905Z",
     "iopub.status.idle": "2025-07-28T10:55:27.677260Z",
     "shell.execute_reply": "2025-07-28T10:55:27.676235Z"
    },
    "papermill": {
     "duration": 0.027623,
     "end_time": "2025-07-28T10:55:27.678818",
     "exception": false,
     "start_time": "2025-07-28T10:55:27.651195",
     "status": "completed"
    },
    "tags": []
   },
   "outputs": [],
   "source": [
    "import json\n",
    "# Parse universe into dict if it is passed as a string\n",
    "if isinstance(universe, str):\n",
    "    universe = json.loads(universe)"
   ]
  },
  {
   "cell_type": "code",
   "execution_count": 6,
   "id": "16620c48",
   "metadata": {
    "execution": {
     "iopub.execute_input": "2025-07-28T10:55:27.735131Z",
     "iopub.status.busy": "2025-07-28T10:55:27.734633Z",
     "iopub.status.idle": "2025-07-28T10:55:27.782560Z",
     "shell.execute_reply": "2025-07-28T10:55:27.781552Z"
    },
    "papermill": {
     "duration": 0.071604,
     "end_time": "2025-07-28T10:55:27.784675",
     "exception": false,
     "start_time": "2025-07-28T10:55:27.713071",
     "status": "completed"
    },
    "tags": []
   },
   "outputs": [],
   "source": [
    "# Auto-reload the custom package\n",
    "%load_ext autoreload\n",
    "%autoreload 1\n",
    "%aimport fairness_multiverse"
   ]
  },
  {
   "cell_type": "code",
   "execution_count": 7,
   "id": "01c5c9f3",
   "metadata": {
    "execution": {
     "iopub.execute_input": "2025-07-28T10:55:27.847245Z",
     "iopub.status.busy": "2025-07-28T10:55:27.846495Z",
     "iopub.status.idle": "2025-07-28T10:55:29.965166Z",
     "shell.execute_reply": "2025-07-28T10:55:29.964155Z"
    },
    "papermill": {
     "duration": 2.161482,
     "end_time": "2025-07-28T10:55:29.967260",
     "exception": false,
     "start_time": "2025-07-28T10:55:27.805778",
     "status": "completed"
    },
    "tags": []
   },
   "outputs": [],
   "source": [
    "from fairness_multiverse.universe import UniverseAnalysis\n",
    "\n",
    "universe_analysis = UniverseAnalysis(\n",
    "    run_no = run_no,\n",
    "    universe_id = universe_id,\n",
    "    universe = universe,\n",
    "    output_dir=output_dir,\n",
    ")"
   ]
  },
  {
   "cell_type": "code",
   "execution_count": 8,
   "id": "106241f5",
   "metadata": {
    "execution": {
     "iopub.execute_input": "2025-07-28T10:55:30.011338Z",
     "iopub.status.busy": "2025-07-28T10:55:30.010810Z",
     "iopub.status.idle": "2025-07-28T10:55:30.018207Z",
     "shell.execute_reply": "2025-07-28T10:55:30.017177Z"
    },
    "papermill": {
     "duration": 0.030028,
     "end_time": "2025-07-28T10:55:30.019842",
     "exception": false,
     "start_time": "2025-07-28T10:55:29.989814",
     "status": "completed"
    },
    "tags": []
   },
   "outputs": [
    {
     "name": "stdout",
     "output_type": "stream",
     "text": [
      "Using Seed: 2023\n"
     ]
    }
   ],
   "source": [
    "import numpy as np\n",
    "parsed_seed = int(seed)\n",
    "np.random.seed(parsed_seed)\n",
    "print(f\"Using Seed: {parsed_seed}\")"
   ]
  },
  {
   "cell_type": "markdown",
   "id": "e0ebdc57",
   "metadata": {
    "papermill": {
     "duration": 0.019389,
     "end_time": "2025-07-28T10:55:30.058936",
     "exception": false,
     "start_time": "2025-07-28T10:55:30.039547",
     "status": "completed"
    },
    "tags": []
   },
   "source": [
    "# Loading Data"
   ]
  },
  {
   "cell_type": "markdown",
   "id": "681925a3",
   "metadata": {
    "papermill": {
     "duration": 0.018942,
     "end_time": "2025-07-28T10:55:30.096731",
     "exception": false,
     "start_time": "2025-07-28T10:55:30.077789",
     "status": "completed"
    },
    "tags": []
   },
   "source": [
    "Load siab_train, siab_test, siab_calib and/or \n",
    "load siab_train_features, siab_train_labels"
   ]
  },
  {
   "cell_type": "code",
   "execution_count": 9,
   "id": "f0496b8a",
   "metadata": {
    "execution": {
     "iopub.execute_input": "2025-07-28T10:55:30.139014Z",
     "iopub.status.busy": "2025-07-28T10:55:30.138487Z",
     "iopub.status.idle": "2025-07-28T10:55:50.273533Z",
     "shell.execute_reply": "2025-07-28T10:55:50.272126Z"
    },
    "papermill": {
     "duration": 20.15873,
     "end_time": "2025-07-28T10:55:50.275676",
     "exception": false,
     "start_time": "2025-07-28T10:55:30.116946",
     "status": "completed"
    },
    "tags": []
   },
   "outputs": [
    {
     "name": "stdout",
     "output_type": "stream",
     "text": [
      "Loading SIAB data from cache: data/siab_cached.csv.gz\n"
     ]
    },
    {
     "name": "stdout",
     "output_type": "stream",
     "text": [
      "(643690, 164)\n"
     ]
    }
   ],
   "source": [
    "from pathlib import Path\n",
    "import pandas as pd\n",
    "\n",
    "# File paths\n",
    "raw_file = Path(\"data/raw/siab.csv\")\n",
    "cache_file = Path(\"data/siab_cached.csv.gz\")\n",
    "\n",
    "# Ensure cache directory exists\n",
    "cache_file.parent.mkdir(parents=True, exist_ok=True)\n",
    "\n",
    "# Load with simple caching\n",
    "if cache_file.exists():\n",
    "    print(f\"Loading SIAB data from cache: {cache_file}\")\n",
    "    siab = pd.read_csv(cache_file, compression='gzip')\n",
    "else:\n",
    "    print(f\"Cache not found. Reading raw SIAB data: {raw_file}\")\n",
    "    siab = pd.read_csv(raw_file)\n",
    "    siab.to_csv(cache_file, index=False, compression='gzip')\n",
    "    print(f\"Cached SIAB data to: {cache_file}\")\n",
    "\n",
    "# Now use `siab` DataFrame as needed\n",
    "print(siab.shape)"
   ]
  },
  {
   "cell_type": "code",
   "execution_count": 10,
   "id": "db0ca512-5f53-4dba-abdb-a2888bca41ba",
   "metadata": {
    "execution": {
     "iopub.execute_input": "2025-07-28T10:55:50.419487Z",
     "iopub.status.busy": "2025-07-28T10:55:50.418448Z",
     "iopub.status.idle": "2025-07-28T10:55:50.425335Z",
     "shell.execute_reply": "2025-07-28T10:55:50.424290Z"
    },
    "papermill": {
     "duration": 0.085297,
     "end_time": "2025-07-28T10:55:50.428529",
     "exception": false,
     "start_time": "2025-07-28T10:55:50.343232",
     "status": "completed"
    },
    "tags": []
   },
   "outputs": [],
   "source": [
    "#siab"
   ]
  },
  {
   "cell_type": "code",
   "execution_count": 11,
   "id": "a0edb063",
   "metadata": {
    "execution": {
     "iopub.execute_input": "2025-07-28T10:55:50.539997Z",
     "iopub.status.busy": "2025-07-28T10:55:50.539576Z",
     "iopub.status.idle": "2025-07-28T10:55:50.546130Z",
     "shell.execute_reply": "2025-07-28T10:55:50.545171Z"
    },
    "papermill": {
     "duration": 0.070976,
     "end_time": "2025-07-28T10:55:50.548599",
     "exception": false,
     "start_time": "2025-07-28T10:55:50.477623",
     "status": "completed"
    },
    "tags": []
   },
   "outputs": [],
   "source": [
    "#import pandas as pd\n",
    "#\n",
    "#X_train = pd.read_csv(\"./data/X_train.csv\")\n",
    "#y_train = pd.read_csv(\"./data/y_train.csv\")"
   ]
  },
  {
   "cell_type": "code",
   "execution_count": 12,
   "id": "63d08085",
   "metadata": {
    "execution": {
     "iopub.execute_input": "2025-07-28T10:55:50.641012Z",
     "iopub.status.busy": "2025-07-28T10:55:50.640539Z",
     "iopub.status.idle": "2025-07-28T10:55:50.646638Z",
     "shell.execute_reply": "2025-07-28T10:55:50.645596Z"
    },
    "papermill": {
     "duration": 0.050968,
     "end_time": "2025-07-28T10:55:50.649665",
     "exception": false,
     "start_time": "2025-07-28T10:55:50.598697",
     "status": "completed"
    },
    "tags": []
   },
   "outputs": [],
   "source": [
    "#X_test = pd.read_csv(\"./data/X_test.csv\")\n",
    "#y_true = pd.read_csv(\"./data/y_test.csv\")"
   ]
  },
  {
   "cell_type": "code",
   "execution_count": 13,
   "id": "98a8d0fa-1d3d-4ed8-bb2c-281470e24add",
   "metadata": {
    "execution": {
     "iopub.execute_input": "2025-07-28T10:55:50.738495Z",
     "iopub.status.busy": "2025-07-28T10:55:50.738008Z",
     "iopub.status.idle": "2025-07-28T10:55:50.743976Z",
     "shell.execute_reply": "2025-07-28T10:55:50.742729Z"
    },
    "papermill": {
     "duration": 0.048566,
     "end_time": "2025-07-28T10:55:50.747277",
     "exception": false,
     "start_time": "2025-07-28T10:55:50.698711",
     "status": "completed"
    },
    "tags": []
   },
   "outputs": [],
   "source": [
    "# Calibration data for conformal\n",
    "#X_calib = pd.read_csv(\"./data/X_calib.csv\")\n",
    "#y_calib = pd.read_csv(\"./data/y_calib.csv\")"
   ]
  },
  {
   "cell_type": "markdown",
   "id": "9901737e-04df-44f0-9100-f5ad144ed040",
   "metadata": {
    "papermill": {
     "duration": 0.03799,
     "end_time": "2025-07-28T10:55:50.839419",
     "exception": false,
     "start_time": "2025-07-28T10:55:50.801429",
     "status": "completed"
    },
    "tags": []
   },
   "source": [
    "# Splitting Data and Setting Training Data Size"
   ]
  },
  {
   "cell_type": "code",
   "execution_count": 14,
   "id": "acbc8f7d-8fc8-4e86-8c59-5dcb0f58384b",
   "metadata": {
    "execution": {
     "iopub.execute_input": "2025-07-28T10:55:50.938461Z",
     "iopub.status.busy": "2025-07-28T10:55:50.937991Z",
     "iopub.status.idle": "2025-07-28T10:55:50.947539Z",
     "shell.execute_reply": "2025-07-28T10:55:50.946308Z"
    },
    "papermill": {
     "duration": 0.056762,
     "end_time": "2025-07-28T10:55:50.949421",
     "exception": false,
     "start_time": "2025-07-28T10:55:50.892659",
     "status": "completed"
    },
    "tags": []
   },
   "outputs": [],
   "source": [
    "def sample_by_year(df, training_size, random_state=42):\n",
    "    if training_size == \"2014\":\n",
    "        return df[df[\"year\"] == 2014].reset_index(drop=True)\n",
    "    \n",
    "    size_map = {\n",
    "        \"25k\": 5000,\n",
    "        \"5k\": 1000,\n",
    "        \"1k\": 200\n",
    "    }\n",
    "\n",
    "    if training_size not in size_map:\n",
    "        return df.reset_index(drop=True)  # use all data\n",
    "\n",
    "    n_per_year = size_map[training_size]\n",
    "    grouped = df.groupby(\"year\")\n",
    "    sampled = grouped.apply(lambda x: x.sample(n=min(n_per_year, len(x)), random_state=random_state))\n",
    "    return sampled.reset_index(drop=True)"
   ]
  },
  {
   "cell_type": "code",
   "execution_count": 15,
   "id": "6d931f52-beaf-43ff-9e78-9d44a448d54e",
   "metadata": {
    "execution": {
     "iopub.execute_input": "2025-07-28T10:55:51.038652Z",
     "iopub.status.busy": "2025-07-28T10:55:51.038190Z",
     "iopub.status.idle": "2025-07-28T10:55:51.205388Z",
     "shell.execute_reply": "2025-07-28T10:55:51.204144Z"
    },
    "papermill": {
     "duration": 0.22044,
     "end_time": "2025-07-28T10:55:51.207436",
     "exception": false,
     "start_time": "2025-07-28T10:55:50.986996",
     "status": "completed"
    },
    "tags": []
   },
   "outputs": [],
   "source": [
    "siab_s = sample_by_year(siab, universe[\"training_size\"])"
   ]
  },
  {
   "cell_type": "code",
   "execution_count": 16,
   "id": "5db0a40e-a4e2-4920-be85-b12ae061d70d",
   "metadata": {
    "execution": {
     "iopub.execute_input": "2025-07-28T10:55:51.299170Z",
     "iopub.status.busy": "2025-07-28T10:55:51.298648Z",
     "iopub.status.idle": "2025-07-28T10:55:51.329480Z",
     "shell.execute_reply": "2025-07-28T10:55:51.328443Z"
    },
    "papermill": {
     "duration": 0.0853,
     "end_time": "2025-07-28T10:55:51.331314",
     "exception": false,
     "start_time": "2025-07-28T10:55:51.246014",
     "status": "completed"
    },
    "tags": []
   },
   "outputs": [
    {
     "data": {
      "text/plain": [
       "year\n",
       "2014    87158\n",
       "dtype: int64"
      ]
     },
     "metadata": {},
     "output_type": "display_data"
    }
   ],
   "source": [
    "display(siab_s.groupby(\"year\").size())"
   ]
  },
  {
   "cell_type": "code",
   "execution_count": 17,
   "id": "a561edb4-d032-42cb-8256-22eac1111c64",
   "metadata": {
    "execution": {
     "iopub.execute_input": "2025-07-28T10:55:51.418607Z",
     "iopub.status.busy": "2025-07-28T10:55:51.418155Z",
     "iopub.status.idle": "2025-07-28T10:55:51.741373Z",
     "shell.execute_reply": "2025-07-28T10:55:51.740109Z"
    },
    "papermill": {
     "duration": 0.373015,
     "end_time": "2025-07-28T10:55:51.743490",
     "exception": false,
     "start_time": "2025-07-28T10:55:51.370475",
     "status": "completed"
    },
    "tags": []
   },
   "outputs": [],
   "source": [
    "siab_train = siab_s[siab_s.year < 2015]\n",
    "siab_calib = siab[siab.year == 2015]\n",
    "siab_test = siab[siab.year == 2016]"
   ]
  },
  {
   "cell_type": "code",
   "execution_count": 18,
   "id": "472de16f-c3db-4916-846b-1f0de9cf1746",
   "metadata": {
    "execution": {
     "iopub.execute_input": "2025-07-28T10:55:51.828065Z",
     "iopub.status.busy": "2025-07-28T10:55:51.827646Z",
     "iopub.status.idle": "2025-07-28T10:55:51.929509Z",
     "shell.execute_reply": "2025-07-28T10:55:51.928326Z"
    },
    "papermill": {
     "duration": 0.150994,
     "end_time": "2025-07-28T10:55:51.931494",
     "exception": false,
     "start_time": "2025-07-28T10:55:51.780500",
     "status": "completed"
    },
    "tags": []
   },
   "outputs": [],
   "source": [
    "X_train = siab_train.iloc[:,4:164]\n",
    "y_train = siab_train.iloc[:, [3]]"
   ]
  },
  {
   "cell_type": "code",
   "execution_count": 19,
   "id": "828c96af-f43a-4ed6-ba47-8ac73a47d56c",
   "metadata": {
    "execution": {
     "iopub.execute_input": "2025-07-28T10:55:52.006682Z",
     "iopub.status.busy": "2025-07-28T10:55:52.006286Z",
     "iopub.status.idle": "2025-07-28T10:55:52.066934Z",
     "shell.execute_reply": "2025-07-28T10:55:52.065813Z"
    },
    "papermill": {
     "duration": 0.101054,
     "end_time": "2025-07-28T10:55:52.069233",
     "exception": false,
     "start_time": "2025-07-28T10:55:51.968179",
     "status": "completed"
    },
    "tags": []
   },
   "outputs": [],
   "source": [
    "X_calib = siab_calib.iloc[:,4:164]\n",
    "y_calib = siab_calib.iloc[:, [3]]"
   ]
  },
  {
   "cell_type": "code",
   "execution_count": 20,
   "id": "c34be9c3-6bd6-476e-acd3-845840e303be",
   "metadata": {
    "execution": {
     "iopub.execute_input": "2025-07-28T10:55:52.113097Z",
     "iopub.status.busy": "2025-07-28T10:55:52.112714Z",
     "iopub.status.idle": "2025-07-28T10:55:52.167032Z",
     "shell.execute_reply": "2025-07-28T10:55:52.165893Z"
    },
    "papermill": {
     "duration": 0.07827,
     "end_time": "2025-07-28T10:55:52.169476",
     "exception": false,
     "start_time": "2025-07-28T10:55:52.091206",
     "status": "completed"
    },
    "tags": []
   },
   "outputs": [],
   "source": [
    "X_test = siab_test.iloc[:,4:164]\n",
    "y_true = siab_test.iloc[:, [3]]"
   ]
  },
  {
   "cell_type": "code",
   "execution_count": 21,
   "id": "e6c733c5",
   "metadata": {
    "execution": {
     "iopub.execute_input": "2025-07-28T10:55:52.212922Z",
     "iopub.status.busy": "2025-07-28T10:55:52.212540Z",
     "iopub.status.idle": "2025-07-28T10:55:52.689245Z",
     "shell.execute_reply": "2025-07-28T10:55:52.688103Z"
    },
    "papermill": {
     "duration": 0.500262,
     "end_time": "2025-07-28T10:55:52.691440",
     "exception": false,
     "start_time": "2025-07-28T10:55:52.191178",
     "status": "completed"
    },
    "tags": []
   },
   "outputs": [],
   "source": [
    "# Auxiliary data needed downstream in the pipeline\n",
    "\n",
    "org_train = X_train.copy()\n",
    "org_test = X_test.copy()\n",
    "org_calib = X_calib.copy()"
   ]
  },
  {
   "cell_type": "markdown",
   "id": "0a4a1b33",
   "metadata": {
    "papermill": {
     "duration": 0.043954,
     "end_time": "2025-07-28T10:55:52.796529",
     "exception": false,
     "start_time": "2025-07-28T10:55:52.752575",
     "status": "completed"
    },
    "tags": []
   },
   "source": [
    "# Preprocessing Data"
   ]
  },
  {
   "cell_type": "code",
   "execution_count": 22,
   "id": "ca879031",
   "metadata": {
    "execution": {
     "iopub.execute_input": "2025-07-28T10:55:52.909497Z",
     "iopub.status.busy": "2025-07-28T10:55:52.909073Z",
     "iopub.status.idle": "2025-07-28T10:55:52.916465Z",
     "shell.execute_reply": "2025-07-28T10:55:52.915381Z"
    },
    "papermill": {
     "duration": 0.069759,
     "end_time": "2025-07-28T10:55:52.918382",
     "exception": false,
     "start_time": "2025-07-28T10:55:52.848623",
     "status": "completed"
    },
    "tags": []
   },
   "outputs": [],
   "source": [
    "# EXCLUDE PROTECTED FEATURES\n",
    "# ----------------------\n",
    "# \"exclude_features\": \"none\", # \"nationality\", \"sex\", \"nationality-sex\"\n",
    "\n",
    "excluded_features = universe[\"exclude_features\"].split(\"-\") # split, e.g.: \"nationality-sex\" -> [\"nationality\", \"sex\"]\n",
    "excluded_features_dictionary = {\n",
    "    \"nationality\": [\"maxdeutsch1\", \"maxdeutsch.Missing.\"],\n",
    "    \"sex\": [\"frau1\"],\n",
    "    \"age\": [\"age\"],\n",
    "}\n"
   ]
  },
  {
   "cell_type": "code",
   "execution_count": 23,
   "id": "b745ac60",
   "metadata": {
    "execution": {
     "iopub.execute_input": "2025-07-28T10:55:53.041116Z",
     "iopub.status.busy": "2025-07-28T10:55:53.040642Z",
     "iopub.status.idle": "2025-07-28T10:55:53.046833Z",
     "shell.execute_reply": "2025-07-28T10:55:53.045680Z"
    },
    "papermill": {
     "duration": 0.060422,
     "end_time": "2025-07-28T10:55:53.049094",
     "exception": false,
     "start_time": "2025-07-28T10:55:52.988672",
     "status": "completed"
    },
    "tags": []
   },
   "outputs": [],
   "source": [
    "# Code nice names to column names\n",
    "\n",
    "excluded_features_columns = [\n",
    "    excluded_features_dictionary[f] for f in excluded_features if len(f) > 0 and f != \"none\"\n",
    "]"
   ]
  },
  {
   "cell_type": "code",
   "execution_count": 24,
   "id": "f84f73a2",
   "metadata": {
    "execution": {
     "iopub.execute_input": "2025-07-28T10:55:53.237184Z",
     "iopub.status.busy": "2025-07-28T10:55:53.236765Z",
     "iopub.status.idle": "2025-07-28T10:55:53.245315Z",
     "shell.execute_reply": "2025-07-28T10:55:53.244156Z"
    },
    "papermill": {
     "duration": 0.087463,
     "end_time": "2025-07-28T10:55:53.247716",
     "exception": false,
     "start_time": "2025-07-28T10:55:53.160253",
     "status": "completed"
    },
    "tags": []
   },
   "outputs": [],
   "source": [
    "from utils import flatten_once\n",
    "\n",
    "excluded_features_columns = flatten_once(excluded_features_columns)"
   ]
  },
  {
   "cell_type": "code",
   "execution_count": 25,
   "id": "884dea22",
   "metadata": {
    "execution": {
     "iopub.execute_input": "2025-07-28T10:55:53.406460Z",
     "iopub.status.busy": "2025-07-28T10:55:53.406034Z",
     "iopub.status.idle": "2025-07-28T10:55:53.556512Z",
     "shell.execute_reply": "2025-07-28T10:55:53.555338Z"
    },
    "papermill": {
     "duration": 0.220981,
     "end_time": "2025-07-28T10:55:53.558136",
     "exception": false,
     "start_time": "2025-07-28T10:55:53.337155",
     "status": "completed"
    },
    "tags": []
   },
   "outputs": [
    {
     "name": "stdout",
     "output_type": "stream",
     "text": [
      "Dropping features: ['maxdeutsch1', 'maxdeutsch.Missing.']\n"
     ]
    }
   ],
   "source": [
    "if len(excluded_features_columns) > 0:\n",
    "    print(f\"Dropping features: {excluded_features_columns}\")\n",
    "    X_train.drop(excluded_features_columns, axis=1, inplace=True)"
   ]
  },
  {
   "cell_type": "code",
   "execution_count": 26,
   "id": "95ab8b16",
   "metadata": {
    "execution": {
     "iopub.execute_input": "2025-07-28T10:55:53.659298Z",
     "iopub.status.busy": "2025-07-28T10:55:53.658853Z",
     "iopub.status.idle": "2025-07-28T10:55:53.756484Z",
     "shell.execute_reply": "2025-07-28T10:55:53.755082Z"
    },
    "papermill": {
     "duration": 0.147282,
     "end_time": "2025-07-28T10:55:53.758330",
     "exception": false,
     "start_time": "2025-07-28T10:55:53.611048",
     "status": "completed"
    },
    "tags": []
   },
   "outputs": [
    {
     "name": "stdout",
     "output_type": "stream",
     "text": [
      "Dropping features: ['maxdeutsch1', 'maxdeutsch.Missing.']\n"
     ]
    }
   ],
   "source": [
    "if len(excluded_features_columns) > 0:\n",
    "    print(f\"Dropping features: {excluded_features_columns}\")\n",
    "    X_test.drop(excluded_features_columns, axis=1, inplace=True)"
   ]
  },
  {
   "cell_type": "code",
   "execution_count": 27,
   "id": "1853aaf5-fb9f-46cb-a2b5-8ea4ae2237e4",
   "metadata": {
    "execution": {
     "iopub.execute_input": "2025-07-28T10:55:53.800331Z",
     "iopub.status.busy": "2025-07-28T10:55:53.799878Z",
     "iopub.status.idle": "2025-07-28T10:55:53.856021Z",
     "shell.execute_reply": "2025-07-28T10:55:53.855101Z"
    },
    "papermill": {
     "duration": 0.079959,
     "end_time": "2025-07-28T10:55:53.858120",
     "exception": false,
     "start_time": "2025-07-28T10:55:53.778161",
     "status": "completed"
    },
    "tags": []
   },
   "outputs": [
    {
     "name": "stdout",
     "output_type": "stream",
     "text": [
      "Dropping features: ['maxdeutsch1', 'maxdeutsch.Missing.']\n"
     ]
    }
   ],
   "source": [
    "if len(excluded_features_columns) > 0:\n",
    "    print(f\"Dropping features: {excluded_features_columns}\")\n",
    "    X_calib.drop(excluded_features_columns, axis=1, inplace=True)"
   ]
  },
  {
   "cell_type": "code",
   "execution_count": 28,
   "id": "6727d079-03e5-481e-9d38-292a90b7a0a8",
   "metadata": {
    "execution": {
     "iopub.execute_input": "2025-07-28T10:55:53.903334Z",
     "iopub.status.busy": "2025-07-28T10:55:53.902935Z",
     "iopub.status.idle": "2025-07-28T10:55:53.908441Z",
     "shell.execute_reply": "2025-07-28T10:55:53.907378Z"
    },
    "papermill": {
     "duration": 0.032158,
     "end_time": "2025-07-28T10:55:53.911593",
     "exception": false,
     "start_time": "2025-07-28T10:55:53.879435",
     "status": "completed"
    },
    "tags": []
   },
   "outputs": [],
   "source": [
    "# SPLIT & STRATIFY DATA\n",
    "# ----------------------"
   ]
  },
  {
   "cell_type": "code",
   "execution_count": 29,
   "id": "76c4dc6d",
   "metadata": {
    "execution": {
     "iopub.execute_input": "2025-07-28T10:55:53.982198Z",
     "iopub.status.busy": "2025-07-28T10:55:53.981796Z",
     "iopub.status.idle": "2025-07-28T10:55:53.988392Z",
     "shell.execute_reply": "2025-07-28T10:55:53.987226Z"
    },
    "papermill": {
     "duration": 0.054648,
     "end_time": "2025-07-28T10:55:53.990449",
     "exception": false,
     "start_time": "2025-07-28T10:55:53.935801",
     "status": "completed"
    },
    "tags": []
   },
   "outputs": [],
   "source": [
    "# EXCLUDE CERTAIN SUBGROUPS\n",
    "# ----------------------\n",
    "\n",
    "mode = universe.get(\"exclude_subgroups\", \"keep-all\") \n",
    "# Fetches the exclude_subgroups setting from the universe dict.\n",
    "# Defaults to \"keep-all\" if the key is missing."
   ]
  },
  {
   "cell_type": "code",
   "execution_count": 30,
   "id": "21994072",
   "metadata": {
    "execution": {
     "iopub.execute_input": "2025-07-28T10:55:54.037219Z",
     "iopub.status.busy": "2025-07-28T10:55:54.036830Z",
     "iopub.status.idle": "2025-07-28T10:55:54.044401Z",
     "shell.execute_reply": "2025-07-28T10:55:54.043200Z"
    },
    "papermill": {
     "duration": 0.034415,
     "end_time": "2025-07-28T10:55:54.047377",
     "exception": false,
     "start_time": "2025-07-28T10:55:54.012962",
     "status": "completed"
    },
    "tags": []
   },
   "outputs": [],
   "source": [
    "if mode == \"keep-all\":\n",
    "    keep_mask = pd.Series(True, index=org_train.index)\n",
    "\n",
    "# org_train contains the original feature columns from features_org (in Simson)\n",
    "# features_org contains unprocessed features, for me X_train at beginning ???\n",
    "# For keep-all, creates a boolean Series (keep_mask) of all True, so no rows are removed.\n",
    "\n",
    "elif mode == \"drop-non-german\":\n",
    "    keep_mask = org_train[\"maxdeutsch1\"] == 1 # ??? what about missing values?\n",
    "\n",
    "else:\n",
    "    raise ValueError(f\"Unsupported mode for exclude_subgroups: {mode}\")\n"
   ]
  },
  {
   "cell_type": "code",
   "execution_count": 31,
   "id": "71651440",
   "metadata": {
    "execution": {
     "iopub.execute_input": "2025-07-28T10:55:54.093710Z",
     "iopub.status.busy": "2025-07-28T10:55:54.093243Z",
     "iopub.status.idle": "2025-07-28T10:55:54.100320Z",
     "shell.execute_reply": "2025-07-28T10:55:54.099169Z"
    },
    "papermill": {
     "duration": 0.034028,
     "end_time": "2025-07-28T10:55:54.103345",
     "exception": false,
     "start_time": "2025-07-28T10:55:54.069317",
     "status": "completed"
    },
    "tags": []
   },
   "outputs": [],
   "source": [
    "n_drop = (~keep_mask).sum() # Calculates how many rows are set to be dropped\n",
    "if n_drop > 0:\n",
    "    pct = n_drop / len(keep_mask) * 100\n",
    "    print(f\"Dropping {n_drop} rows ({pct:.2f}%) where mode='{mode}'\")"
   ]
  },
  {
   "cell_type": "code",
   "execution_count": 32,
   "id": "5fb8eee5",
   "metadata": {
    "execution": {
     "iopub.execute_input": "2025-07-28T10:55:54.148680Z",
     "iopub.status.busy": "2025-07-28T10:55:54.148273Z",
     "iopub.status.idle": "2025-07-28T10:55:54.211577Z",
     "shell.execute_reply": "2025-07-28T10:55:54.210647Z"
    },
    "papermill": {
     "duration": 0.088335,
     "end_time": "2025-07-28T10:55:54.213854",
     "exception": false,
     "start_time": "2025-07-28T10:55:54.125519",
     "status": "completed"
    },
    "tags": []
   },
   "outputs": [],
   "source": [
    "X_train = X_train[keep_mask]"
   ]
  },
  {
   "cell_type": "code",
   "execution_count": 33,
   "id": "b202bb3a",
   "metadata": {
    "execution": {
     "iopub.execute_input": "2025-07-28T10:55:54.259388Z",
     "iopub.status.busy": "2025-07-28T10:55:54.258965Z",
     "iopub.status.idle": "2025-07-28T10:55:54.267756Z",
     "shell.execute_reply": "2025-07-28T10:55:54.266660Z"
    },
    "papermill": {
     "duration": 0.034401,
     "end_time": "2025-07-28T10:55:54.270914",
     "exception": false,
     "start_time": "2025-07-28T10:55:54.236513",
     "status": "completed"
    },
    "tags": []
   },
   "outputs": [],
   "source": [
    "y_train = y_train[keep_mask]"
   ]
  },
  {
   "cell_type": "markdown",
   "id": "493e2ac3",
   "metadata": {
    "papermill": {
     "duration": 0.022176,
     "end_time": "2025-07-28T10:55:54.315615",
     "exception": false,
     "start_time": "2025-07-28T10:55:54.293439",
     "status": "completed"
    },
    "tags": []
   },
   "source": [
    "# Model Training"
   ]
  },
  {
   "cell_type": "code",
   "execution_count": 34,
   "id": "679e1268",
   "metadata": {
    "execution": {
     "iopub.execute_input": "2025-07-28T10:55:54.360912Z",
     "iopub.status.busy": "2025-07-28T10:55:54.360511Z",
     "iopub.status.idle": "2025-07-28T10:55:54.473118Z",
     "shell.execute_reply": "2025-07-28T10:55:54.472106Z"
    },
    "papermill": {
     "duration": 0.137903,
     "end_time": "2025-07-28T10:55:54.475763",
     "exception": false,
     "start_time": "2025-07-28T10:55:54.337860",
     "status": "completed"
    },
    "tags": []
   },
   "outputs": [],
   "source": [
    "from sklearn.linear_model import LogisticRegression\n",
    "from sklearn.ensemble import GradientBoostingClassifier, RandomForestClassifier\n",
    "\n",
    "if (universe[\"model\"] == \"logreg\"):\n",
    "    model = LogisticRegression() #penalty=\"none\") #, solver=\"newton-cg\", max_iter=1) # include random_state=19 ?\n",
    "elif (universe[\"model\"] == \"penalized_logreg\"):\n",
    "    model = LogisticRegression(penalty=\"l2\", C=1.0) #, solver=\"newton-cg\", max_iter=1)\n",
    "elif (universe[\"model\"] == \"rf\"):\n",
    "    model = RandomForestClassifier(n_estimators=100, n_jobs=-1)\n",
    "elif (universe[\"model\"] == \"gbm\"):\n",
    "    model = GradientBoostingClassifier()\n",
    "elif (universe[\"model\"] == \"elasticnet\"):\n",
    "    model = LogisticRegression(penalty = 'elasticnet', solver = 'saga', l1_ratio = 0.5, max_iter=5000) # which solver to use?\n",
    "else:\n",
    "    raise \"Unsupported universe.model\""
   ]
  },
  {
   "cell_type": "code",
   "execution_count": 35,
   "id": "0cc8f744",
   "metadata": {
    "execution": {
     "iopub.execute_input": "2025-07-28T10:55:54.602835Z",
     "iopub.status.busy": "2025-07-28T10:55:54.602405Z",
     "iopub.status.idle": "2025-07-28T10:55:54.610158Z",
     "shell.execute_reply": "2025-07-28T10:55:54.609192Z"
    },
    "papermill": {
     "duration": 0.114372,
     "end_time": "2025-07-28T10:55:54.612748",
     "exception": false,
     "start_time": "2025-07-28T10:55:54.498376",
     "status": "completed"
    },
    "tags": []
   },
   "outputs": [],
   "source": [
    "import numpy as np\n",
    "from sklearn.pipeline import Pipeline\n",
    "from sklearn.preprocessing import StandardScaler\n",
    "\n",
    "model = Pipeline([\n",
    "    #(\"continuous_processor\", continuous_processor),\n",
    "    #(\"categorical_preprocessor\", categorical_preprocessor),\n",
    "    (\"scale\", StandardScaler() if universe[\"scale\"] == \"scale\" else None), \n",
    "    (\"model\", model),\n",
    "])"
   ]
  },
  {
   "cell_type": "code",
   "execution_count": 36,
   "id": "9442c04d",
   "metadata": {
    "execution": {
     "iopub.execute_input": "2025-07-28T10:55:54.781755Z",
     "iopub.status.busy": "2025-07-28T10:55:54.781331Z",
     "iopub.status.idle": "2025-07-28T10:56:10.500779Z",
     "shell.execute_reply": "2025-07-28T10:56:10.499466Z"
    },
    "papermill": {
     "duration": 15.783877,
     "end_time": "2025-07-28T10:56:10.502936",
     "exception": false,
     "start_time": "2025-07-28T10:55:54.719059",
     "status": "completed"
    },
    "tags": []
   },
   "outputs": [
    {
     "data": {
      "text/html": [
       "<style>#sk-container-id-1 {color: black;background-color: white;}#sk-container-id-1 pre{padding: 0;}#sk-container-id-1 div.sk-toggleable {background-color: white;}#sk-container-id-1 label.sk-toggleable__label {cursor: pointer;display: block;width: 100%;margin-bottom: 0;padding: 0.3em;box-sizing: border-box;text-align: center;}#sk-container-id-1 label.sk-toggleable__label-arrow:before {content: \"▸\";float: left;margin-right: 0.25em;color: #696969;}#sk-container-id-1 label.sk-toggleable__label-arrow:hover:before {color: black;}#sk-container-id-1 div.sk-estimator:hover label.sk-toggleable__label-arrow:before {color: black;}#sk-container-id-1 div.sk-toggleable__content {max-height: 0;max-width: 0;overflow: hidden;text-align: left;background-color: #f0f8ff;}#sk-container-id-1 div.sk-toggleable__content pre {margin: 0.2em;color: black;border-radius: 0.25em;background-color: #f0f8ff;}#sk-container-id-1 input.sk-toggleable__control:checked~div.sk-toggleable__content {max-height: 200px;max-width: 100%;overflow: auto;}#sk-container-id-1 input.sk-toggleable__control:checked~label.sk-toggleable__label-arrow:before {content: \"▾\";}#sk-container-id-1 div.sk-estimator input.sk-toggleable__control:checked~label.sk-toggleable__label {background-color: #d4ebff;}#sk-container-id-1 div.sk-label input.sk-toggleable__control:checked~label.sk-toggleable__label {background-color: #d4ebff;}#sk-container-id-1 input.sk-hidden--visually {border: 0;clip: rect(1px 1px 1px 1px);clip: rect(1px, 1px, 1px, 1px);height: 1px;margin: -1px;overflow: hidden;padding: 0;position: absolute;width: 1px;}#sk-container-id-1 div.sk-estimator {font-family: monospace;background-color: #f0f8ff;border: 1px dotted black;border-radius: 0.25em;box-sizing: border-box;margin-bottom: 0.5em;}#sk-container-id-1 div.sk-estimator:hover {background-color: #d4ebff;}#sk-container-id-1 div.sk-parallel-item::after {content: \"\";width: 100%;border-bottom: 1px solid gray;flex-grow: 1;}#sk-container-id-1 div.sk-label:hover label.sk-toggleable__label {background-color: #d4ebff;}#sk-container-id-1 div.sk-serial::before {content: \"\";position: absolute;border-left: 1px solid gray;box-sizing: border-box;top: 0;bottom: 0;left: 50%;z-index: 0;}#sk-container-id-1 div.sk-serial {display: flex;flex-direction: column;align-items: center;background-color: white;padding-right: 0.2em;padding-left: 0.2em;position: relative;}#sk-container-id-1 div.sk-item {position: relative;z-index: 1;}#sk-container-id-1 div.sk-parallel {display: flex;align-items: stretch;justify-content: center;background-color: white;position: relative;}#sk-container-id-1 div.sk-item::before, #sk-container-id-1 div.sk-parallel-item::before {content: \"\";position: absolute;border-left: 1px solid gray;box-sizing: border-box;top: 0;bottom: 0;left: 50%;z-index: -1;}#sk-container-id-1 div.sk-parallel-item {display: flex;flex-direction: column;z-index: 1;position: relative;background-color: white;}#sk-container-id-1 div.sk-parallel-item:first-child::after {align-self: flex-end;width: 50%;}#sk-container-id-1 div.sk-parallel-item:last-child::after {align-self: flex-start;width: 50%;}#sk-container-id-1 div.sk-parallel-item:only-child::after {width: 0;}#sk-container-id-1 div.sk-dashed-wrapped {border: 1px dashed gray;margin: 0 0.4em 0.5em 0.4em;box-sizing: border-box;padding-bottom: 0.4em;background-color: white;}#sk-container-id-1 div.sk-label label {font-family: monospace;font-weight: bold;display: inline-block;line-height: 1.2em;}#sk-container-id-1 div.sk-label-container {text-align: center;}#sk-container-id-1 div.sk-container {/* jupyter's `normalize.less` sets `[hidden] { display: none; }` but bootstrap.min.css set `[hidden] { display: none !important; }` so we also need the `!important` here to be able to override the default hidden behavior on the sphinx rendered scikit-learn.org. See: https://github.com/scikit-learn/scikit-learn/issues/21755 */display: inline-block !important;position: relative;}#sk-container-id-1 div.sk-text-repr-fallback {display: none;}</style><div id=\"sk-container-id-1\" class=\"sk-top-container\"><div class=\"sk-text-repr-fallback\"><pre>Pipeline(steps=[(&#x27;scale&#x27;, StandardScaler()),\n",
       "                (&#x27;model&#x27;, RandomForestClassifier(n_jobs=-1))])</pre><b>In a Jupyter environment, please rerun this cell to show the HTML representation or trust the notebook. <br />On GitHub, the HTML representation is unable to render, please try loading this page with nbviewer.org.</b></div><div class=\"sk-container\" hidden><div class=\"sk-item sk-dashed-wrapped\"><div class=\"sk-label-container\"><div class=\"sk-label sk-toggleable\"><input class=\"sk-toggleable__control sk-hidden--visually\" id=\"sk-estimator-id-1\" type=\"checkbox\" ><label for=\"sk-estimator-id-1\" class=\"sk-toggleable__label sk-toggleable__label-arrow\">Pipeline</label><div class=\"sk-toggleable__content\"><pre>Pipeline(steps=[(&#x27;scale&#x27;, StandardScaler()),\n",
       "                (&#x27;model&#x27;, RandomForestClassifier(n_jobs=-1))])</pre></div></div></div><div class=\"sk-serial\"><div class=\"sk-item\"><div class=\"sk-estimator sk-toggleable\"><input class=\"sk-toggleable__control sk-hidden--visually\" id=\"sk-estimator-id-2\" type=\"checkbox\" ><label for=\"sk-estimator-id-2\" class=\"sk-toggleable__label sk-toggleable__label-arrow\">StandardScaler</label><div class=\"sk-toggleable__content\"><pre>StandardScaler()</pre></div></div></div><div class=\"sk-item\"><div class=\"sk-estimator sk-toggleable\"><input class=\"sk-toggleable__control sk-hidden--visually\" id=\"sk-estimator-id-3\" type=\"checkbox\" ><label for=\"sk-estimator-id-3\" class=\"sk-toggleable__label sk-toggleable__label-arrow\">RandomForestClassifier</label><div class=\"sk-toggleable__content\"><pre>RandomForestClassifier(n_jobs=-1)</pre></div></div></div></div></div></div></div>"
      ],
      "text/plain": [
       "Pipeline(steps=[('scale', StandardScaler()),\n",
       "                ('model', RandomForestClassifier(n_jobs=-1))])"
      ]
     },
     "execution_count": 36,
     "metadata": {},
     "output_type": "execute_result"
    }
   ],
   "source": [
    "model.fit(X_train, y_train.values.ravel())"
   ]
  },
  {
   "cell_type": "code",
   "execution_count": 37,
   "id": "af59f8c0",
   "metadata": {
    "execution": {
     "iopub.execute_input": "2025-07-28T10:56:10.546133Z",
     "iopub.status.busy": "2025-07-28T10:56:10.545733Z",
     "iopub.status.idle": "2025-07-28T10:56:10.550626Z",
     "shell.execute_reply": "2025-07-28T10:56:10.549762Z"
    },
    "papermill": {
     "duration": 0.022171,
     "end_time": "2025-07-28T10:56:10.551955",
     "exception": false,
     "start_time": "2025-07-28T10:56:10.529784",
     "status": "completed"
    },
    "tags": []
   },
   "outputs": [],
   "source": [
    "from fairness_multiverse.universe import predict_w_threshold"
   ]
  },
  {
   "cell_type": "code",
   "execution_count": 38,
   "id": "a7cf2e16",
   "metadata": {
    "execution": {
     "iopub.execute_input": "2025-07-28T10:56:10.602105Z",
     "iopub.status.busy": "2025-07-28T10:56:10.601668Z",
     "iopub.status.idle": "2025-07-28T10:56:11.968661Z",
     "shell.execute_reply": "2025-07-28T10:56:11.967478Z"
    },
    "papermill": {
     "duration": 1.396029,
     "end_time": "2025-07-28T10:56:11.971022",
     "exception": false,
     "start_time": "2025-07-28T10:56:10.574993",
     "status": "completed"
    },
    "tags": []
   },
   "outputs": [
    {
     "data": {
      "text/plain": [
       "0.8656114145580203"
      ]
     },
     "execution_count": 38,
     "metadata": {},
     "output_type": "execute_result"
    }
   ],
   "source": [
    "probs_test = model.predict_proba(X_test)\n",
    "\n",
    "'''\n",
    "Below code returns a boolean array (or binary 0/1 array depending on how it’s used) where each element \n",
    "is True if the probability of class 1 is greater than or equal to the threshold, and False otherwise.\n",
    "'''\n",
    "y_pred_default = predict_w_threshold(probs_test, 0.5)\n",
    "\n",
    "from sklearn.metrics import accuracy_score\n",
    "\n",
    "# Naive prediction\n",
    "accuracy_score(y_true = y_true, y_pred = y_pred_default)"
   ]
  },
  {
   "cell_type": "code",
   "execution_count": 39,
   "id": "081964c3",
   "metadata": {
    "execution": {
     "iopub.execute_input": "2025-07-28T10:56:12.037885Z",
     "iopub.status.busy": "2025-07-28T10:56:12.036663Z",
     "iopub.status.idle": "2025-07-28T10:56:13.652264Z",
     "shell.execute_reply": "2025-07-28T10:56:13.651184Z"
    },
    "papermill": {
     "duration": 1.654116,
     "end_time": "2025-07-28T10:56:13.654066",
     "exception": false,
     "start_time": "2025-07-28T10:56:11.999950",
     "status": "completed"
    },
    "tags": []
   },
   "outputs": [
    {
     "data": {
      "text/plain": [
       "array([0, 0, 0, ..., 0, 0, 0])"
      ]
     },
     "execution_count": 39,
     "metadata": {},
     "output_type": "execute_result"
    }
   ],
   "source": [
    "model.predict(X_test)"
   ]
  },
  {
   "cell_type": "markdown",
   "id": "56c9705b",
   "metadata": {
    "papermill": {
     "duration": 0.057919,
     "end_time": "2025-07-28T10:56:13.754159",
     "exception": false,
     "start_time": "2025-07-28T10:56:13.696240",
     "status": "completed"
    },
    "tags": []
   },
   "source": [
    "# Conformal Prediction"
   ]
  },
  {
   "cell_type": "code",
   "execution_count": 40,
   "id": "160ec6ff",
   "metadata": {
    "execution": {
     "iopub.execute_input": "2025-07-28T10:56:13.846144Z",
     "iopub.status.busy": "2025-07-28T10:56:13.845669Z",
     "iopub.status.idle": "2025-07-28T10:56:13.851998Z",
     "shell.execute_reply": "2025-07-28T10:56:13.850961Z"
    },
    "papermill": {
     "duration": 0.07082,
     "end_time": "2025-07-28T10:56:13.859658",
     "exception": false,
     "start_time": "2025-07-28T10:56:13.788838",
     "status": "completed"
    },
    "tags": []
   },
   "outputs": [],
   "source": [
    "# Miscoverage level for conformal prediction (10% allowed error rate => 90% target coverage)\n",
    "alpha = 0.1"
   ]
  },
  {
   "cell_type": "code",
   "execution_count": 41,
   "id": "eadf4555-3dd3-440e-8e35-f82a4ad9f855",
   "metadata": {
    "execution": {
     "iopub.execute_input": "2025-07-28T10:56:13.959974Z",
     "iopub.status.busy": "2025-07-28T10:56:13.959515Z",
     "iopub.status.idle": "2025-07-28T10:56:16.426701Z",
     "shell.execute_reply": "2025-07-28T10:56:16.425590Z"
    },
    "papermill": {
     "duration": 2.512496,
     "end_time": "2025-07-28T10:56:16.428883",
     "exception": false,
     "start_time": "2025-07-28T10:56:13.916387",
     "status": "completed"
    },
    "tags": []
   },
   "outputs": [],
   "source": [
    "probs_calib = model.predict_proba(X_calib)"
   ]
  },
  {
   "cell_type": "code",
   "execution_count": 42,
   "id": "2ed93547-6d5d-4983-9b36-1ecb300da49a",
   "metadata": {
    "execution": {
     "iopub.execute_input": "2025-07-28T10:56:16.534669Z",
     "iopub.status.busy": "2025-07-28T10:56:16.534267Z",
     "iopub.status.idle": "2025-07-28T10:56:16.540930Z",
     "shell.execute_reply": "2025-07-28T10:56:16.539694Z"
    },
    "papermill": {
     "duration": 0.063808,
     "end_time": "2025-07-28T10:56:16.542640",
     "exception": false,
     "start_time": "2025-07-28T10:56:16.478832",
     "status": "completed"
    },
    "tags": []
   },
   "outputs": [],
   "source": [
    "y_calib = y_calib.values.ravel().astype(int)"
   ]
  },
  {
   "cell_type": "code",
   "execution_count": 43,
   "id": "65d1320d-f588-4b38-9072-62af1ae97f7d",
   "metadata": {
    "execution": {
     "iopub.execute_input": "2025-07-28T10:56:16.645652Z",
     "iopub.status.busy": "2025-07-28T10:56:16.645234Z",
     "iopub.status.idle": "2025-07-28T10:56:16.654657Z",
     "shell.execute_reply": "2025-07-28T10:56:16.653666Z"
    },
    "papermill": {
     "duration": 0.052774,
     "end_time": "2025-07-28T10:56:16.657059",
     "exception": false,
     "start_time": "2025-07-28T10:56:16.604285",
     "status": "completed"
    },
    "tags": []
   },
   "outputs": [],
   "source": [
    "from fairness_multiverse.conformal import compute_nc_scores\n",
    "\n",
    "# Compute nonconformity scores on calibration set (1 - probability of true class)\n",
    "nc_scores = compute_nc_scores(probs_calib, y_calib)"
   ]
  },
  {
   "cell_type": "code",
   "execution_count": 44,
   "id": "df3b8ca3-53b7-43d5-9667-7c85da7aeda2",
   "metadata": {
    "execution": {
     "iopub.execute_input": "2025-07-28T10:56:16.770627Z",
     "iopub.status.busy": "2025-07-28T10:56:16.770239Z",
     "iopub.status.idle": "2025-07-28T10:56:16.777609Z",
     "shell.execute_reply": "2025-07-28T10:56:16.776582Z"
    },
    "papermill": {
     "duration": 0.070935,
     "end_time": "2025-07-28T10:56:16.779621",
     "exception": false,
     "start_time": "2025-07-28T10:56:16.708686",
     "status": "completed"
    },
    "tags": []
   },
   "outputs": [],
   "source": [
    "from fairness_multiverse.conformal import find_threshold\n",
    "\n",
    "# Find conformal threshold q_hat for the given alpha (split conformal method)\n",
    "q_hat = find_threshold(nc_scores, alpha)"
   ]
  },
  {
   "cell_type": "code",
   "execution_count": 45,
   "id": "4d29e6c1-0ef6-4aa4-b8fe-4fe79b0d033a",
   "metadata": {
    "execution": {
     "iopub.execute_input": "2025-07-28T10:56:16.852613Z",
     "iopub.status.busy": "2025-07-28T10:56:16.851896Z",
     "iopub.status.idle": "2025-07-28T10:56:16.869240Z",
     "shell.execute_reply": "2025-07-28T10:56:16.868298Z"
    },
    "papermill": {
     "duration": 0.059702,
     "end_time": "2025-07-28T10:56:16.886663",
     "exception": false,
     "start_time": "2025-07-28T10:56:16.826961",
     "status": "completed"
    },
    "tags": []
   },
   "outputs": [
    {
     "data": {
      "text/plain": [
       "0.6599999999999999"
      ]
     },
     "execution_count": 45,
     "metadata": {},
     "output_type": "execute_result"
    }
   ],
   "source": [
    "q_hat"
   ]
  },
  {
   "cell_type": "code",
   "execution_count": 46,
   "id": "92460794-cdac-4be2-ba28-f28c0515a6fb",
   "metadata": {
    "execution": {
     "iopub.execute_input": "2025-07-28T10:56:16.936793Z",
     "iopub.status.busy": "2025-07-28T10:56:16.936303Z",
     "iopub.status.idle": "2025-07-28T10:56:21.598076Z",
     "shell.execute_reply": "2025-07-28T10:56:21.596917Z"
    },
    "papermill": {
     "duration": 4.689286,
     "end_time": "2025-07-28T10:56:21.600085",
     "exception": false,
     "start_time": "2025-07-28T10:56:16.910799",
     "status": "completed"
    },
    "tags": []
   },
   "outputs": [],
   "source": [
    "from fairness_multiverse.conformal import predict_conformal_sets\n",
    "\n",
    "# Generate prediction sets for each test example\n",
    "pred_sets = predict_conformal_sets(model, X_test, q_hat)"
   ]
  },
  {
   "cell_type": "code",
   "execution_count": 47,
   "id": "d90c9a65-e6db-4f5d-80cd-e68fb7e46829",
   "metadata": {
    "execution": {
     "iopub.execute_input": "2025-07-28T10:56:21.689461Z",
     "iopub.status.busy": "2025-07-28T10:56:21.689035Z",
     "iopub.status.idle": "2025-07-28T10:56:21.696460Z",
     "shell.execute_reply": "2025-07-28T10:56:21.695185Z"
    },
    "papermill": {
     "duration": 0.067997,
     "end_time": "2025-07-28T10:56:21.698605",
     "exception": false,
     "start_time": "2025-07-28T10:56:21.630608",
     "status": "completed"
    },
    "tags": []
   },
   "outputs": [],
   "source": [
    "y_true = y_true.squeeze()"
   ]
  },
  {
   "cell_type": "code",
   "execution_count": 48,
   "id": "3a58a54a-1e68-46b9-927a-df01f18aebc8",
   "metadata": {
    "execution": {
     "iopub.execute_input": "2025-07-28T10:56:21.809830Z",
     "iopub.status.busy": "2025-07-28T10:56:21.809385Z",
     "iopub.status.idle": "2025-07-28T10:56:23.874666Z",
     "shell.execute_reply": "2025-07-28T10:56:23.873434Z"
    },
    "papermill": {
     "duration": 2.119626,
     "end_time": "2025-07-28T10:56:23.877020",
     "exception": false,
     "start_time": "2025-07-28T10:56:21.757394",
     "status": "completed"
    },
    "tags": []
   },
   "outputs": [],
   "source": [
    "from fairness_multiverse.conformal import evaluate_sets\n",
    "\n",
    "# Evaluate coverage and average set size on test data\n",
    "metrics = evaluate_sets(pred_sets, y_true)"
   ]
  },
  {
   "cell_type": "markdown",
   "id": "2b569c12-9aaa-4c88-98c9-bbcd0cf3ebb8",
   "metadata": {
    "papermill": {
     "duration": 0.05229,
     "end_time": "2025-07-28T10:56:23.988972",
     "exception": false,
     "start_time": "2025-07-28T10:56:23.936682",
     "status": "completed"
    },
    "tags": []
   },
   "source": [
    "# CP Metrics"
   ]
  },
  {
   "cell_type": "code",
   "execution_count": 49,
   "id": "5ce0a5cb-201f-45a0-ade5-94c7f0bd6095",
   "metadata": {
    "execution": {
     "iopub.execute_input": "2025-07-28T10:56:24.060580Z",
     "iopub.status.busy": "2025-07-28T10:56:24.059614Z",
     "iopub.status.idle": "2025-07-28T10:56:24.067831Z",
     "shell.execute_reply": "2025-07-28T10:56:24.066462Z"
    },
    "papermill": {
     "duration": 0.03917,
     "end_time": "2025-07-28T10:56:24.072771",
     "exception": false,
     "start_time": "2025-07-28T10:56:24.033601",
     "status": "completed"
    },
    "tags": []
   },
   "outputs": [
    {
     "data": {
      "text/plain": [
       "{'coverage': 0.9164864563593802, 'avg_size': 1.1442760004458812}"
      ]
     },
     "execution_count": 49,
     "metadata": {},
     "output_type": "execute_result"
    }
   ],
   "source": [
    "metrics"
   ]
  },
  {
   "cell_type": "code",
   "execution_count": 50,
   "id": "9b9a838d-31c9-430b-ae14-12baee460d17",
   "metadata": {
    "execution": {
     "iopub.execute_input": "2025-07-28T10:56:24.125398Z",
     "iopub.status.busy": "2025-07-28T10:56:24.124996Z",
     "iopub.status.idle": "2025-07-28T10:56:24.132751Z",
     "shell.execute_reply": "2025-07-28T10:56:24.131377Z"
    },
    "papermill": {
     "duration": 0.03847,
     "end_time": "2025-07-28T10:56:24.136632",
     "exception": false,
     "start_time": "2025-07-28T10:56:24.098162",
     "status": "completed"
    },
    "tags": []
   },
   "outputs": [],
   "source": [
    "example_universe = universe.copy()\n",
    "universe_training_size = example_universe.get(\"training_size\")\n",
    "universe_scale = example_universe.get(\"scale\")\n",
    "universe_model = example_universe.get(\"model\")\n",
    "universe_exclude_features = example_universe.get(\"exclude_features\")\n",
    "universe_exclude_subgroups = example_universe.get(\"exclude_subgroups\")"
   ]
  },
  {
   "cell_type": "code",
   "execution_count": 51,
   "id": "f4b6a8ac-9dc0-4245-8a91-5b3b5999c4f9",
   "metadata": {
    "execution": {
     "iopub.execute_input": "2025-07-28T10:56:24.227054Z",
     "iopub.status.busy": "2025-07-28T10:56:24.226558Z",
     "iopub.status.idle": "2025-07-28T10:56:24.236094Z",
     "shell.execute_reply": "2025-07-28T10:56:24.234891Z"
    },
    "papermill": {
     "duration": 0.075668,
     "end_time": "2025-07-28T10:56:24.238399",
     "exception": false,
     "start_time": "2025-07-28T10:56:24.162731",
     "status": "completed"
    },
    "tags": []
   },
   "outputs": [],
   "source": [
    "cp_metrics_dict = {\n",
    "    \"universe_id\": [universe_id],\n",
    "    \"universe_training_size\": [universe_training_size],\n",
    "    \"universe_scale\": [universe_scale],\n",
    "    \"universe_model\": [universe_model],\n",
    "    \"universe_exclude_features\": [universe_exclude_features],\n",
    "    \"universe_exclude_subgroups\": [universe_exclude_subgroups],\n",
    "    \"q_hat\": [q_hat],\n",
    "    \"coverage\": [metrics[\"coverage\"]],\n",
    "    \"avg_size\": [metrics[\"avg_size\"]],\n",
    "}"
   ]
  },
  {
   "cell_type": "code",
   "execution_count": 52,
   "id": "908acbb1-0371-4915-85ca-3fa520d2efe2",
   "metadata": {
    "execution": {
     "iopub.execute_input": "2025-07-28T10:56:24.307407Z",
     "iopub.status.busy": "2025-07-28T10:56:24.306923Z",
     "iopub.status.idle": "2025-07-28T10:56:24.317638Z",
     "shell.execute_reply": "2025-07-28T10:56:24.316595Z"
    },
    "papermill": {
     "duration": 0.054316,
     "end_time": "2025-07-28T10:56:24.319717",
     "exception": false,
     "start_time": "2025-07-28T10:56:24.265401",
     "status": "completed"
    },
    "tags": []
   },
   "outputs": [
    {
     "data": {
      "text/plain": [
       "{'universe_id': ['37955157a8c3a7d54a863ca42acfcb3a'],\n",
       " 'universe_training_size': ['2014'],\n",
       " 'universe_scale': ['scale'],\n",
       " 'universe_model': ['rf'],\n",
       " 'universe_exclude_features': ['nationality'],\n",
       " 'universe_exclude_subgroups': ['keep-all'],\n",
       " 'q_hat': [0.6599999999999999],\n",
       " 'coverage': [0.9164864563593802],\n",
       " 'avg_size': [1.1442760004458812]}"
      ]
     },
     "execution_count": 52,
     "metadata": {},
     "output_type": "execute_result"
    }
   ],
   "source": [
    "cp_metrics_dict"
   ]
  },
  {
   "cell_type": "code",
   "execution_count": 53,
   "id": "33007efc-14e9-4ec6-97ac-56a455c82265",
   "metadata": {
    "execution": {
     "iopub.execute_input": "2025-07-28T10:56:24.430743Z",
     "iopub.status.busy": "2025-07-28T10:56:24.430316Z",
     "iopub.status.idle": "2025-07-28T10:56:24.437258Z",
     "shell.execute_reply": "2025-07-28T10:56:24.436193Z"
    },
    "papermill": {
     "duration": 0.058617,
     "end_time": "2025-07-28T10:56:24.439007",
     "exception": false,
     "start_time": "2025-07-28T10:56:24.380390",
     "status": "completed"
    },
    "tags": []
   },
   "outputs": [],
   "source": [
    "cp_metrics_df = pd.DataFrame(cp_metrics_dict)"
   ]
  },
  {
   "cell_type": "code",
   "execution_count": 54,
   "id": "db12611b-57b2-4910-b9d0-355adfd6e7bf",
   "metadata": {
    "execution": {
     "iopub.execute_input": "2025-07-28T10:56:24.554763Z",
     "iopub.status.busy": "2025-07-28T10:56:24.554305Z",
     "iopub.status.idle": "2025-07-28T10:56:24.594063Z",
     "shell.execute_reply": "2025-07-28T10:56:24.593090Z"
    },
    "papermill": {
     "duration": 0.097488,
     "end_time": "2025-07-28T10:56:24.596337",
     "exception": false,
     "start_time": "2025-07-28T10:56:24.498849",
     "status": "completed"
    },
    "tags": []
   },
   "outputs": [
    {
     "data": {
      "text/html": [
       "<div>\n",
       "<style scoped>\n",
       "    .dataframe tbody tr th:only-of-type {\n",
       "        vertical-align: middle;\n",
       "    }\n",
       "\n",
       "    .dataframe tbody tr th {\n",
       "        vertical-align: top;\n",
       "    }\n",
       "\n",
       "    .dataframe thead th {\n",
       "        text-align: right;\n",
       "    }\n",
       "</style>\n",
       "<table border=\"1\" class=\"dataframe\">\n",
       "  <thead>\n",
       "    <tr style=\"text-align: right;\">\n",
       "      <th></th>\n",
       "      <th>universe_id</th>\n",
       "      <th>universe_training_size</th>\n",
       "      <th>universe_scale</th>\n",
       "      <th>universe_model</th>\n",
       "      <th>universe_exclude_features</th>\n",
       "      <th>universe_exclude_subgroups</th>\n",
       "      <th>q_hat</th>\n",
       "      <th>coverage</th>\n",
       "      <th>avg_size</th>\n",
       "    </tr>\n",
       "  </thead>\n",
       "  <tbody>\n",
       "    <tr>\n",
       "      <th>0</th>\n",
       "      <td>37955157a8c3a7d54a863ca42acfcb3a</td>\n",
       "      <td>2014</td>\n",
       "      <td>scale</td>\n",
       "      <td>rf</td>\n",
       "      <td>nationality</td>\n",
       "      <td>keep-all</td>\n",
       "      <td>0.66</td>\n",
       "      <td>0.916486</td>\n",
       "      <td>1.144276</td>\n",
       "    </tr>\n",
       "  </tbody>\n",
       "</table>\n",
       "</div>"
      ],
      "text/plain": [
       "                        universe_id universe_training_size universe_scale  \\\n",
       "0  37955157a8c3a7d54a863ca42acfcb3a                   2014          scale   \n",
       "\n",
       "  universe_model universe_exclude_features universe_exclude_subgroups  q_hat  \\\n",
       "0             rf               nationality                   keep-all   0.66   \n",
       "\n",
       "   coverage  avg_size  \n",
       "0  0.916486  1.144276  "
      ]
     },
     "execution_count": 54,
     "metadata": {},
     "output_type": "execute_result"
    }
   ],
   "source": [
    "cp_metrics_df"
   ]
  },
  {
   "cell_type": "code",
   "execution_count": 55,
   "id": "b7fbde55-a0a1-47e4-9af6-fe4a17fa8c61",
   "metadata": {
    "execution": {
     "iopub.execute_input": "2025-07-28T10:56:24.712495Z",
     "iopub.status.busy": "2025-07-28T10:56:24.712088Z",
     "iopub.status.idle": "2025-07-28T10:56:24.717782Z",
     "shell.execute_reply": "2025-07-28T10:56:24.716852Z"
    },
    "papermill": {
     "duration": 0.069221,
     "end_time": "2025-07-28T10:56:24.719667",
     "exception": false,
     "start_time": "2025-07-28T10:56:24.650446",
     "status": "completed"
    },
    "tags": []
   },
   "outputs": [],
   "source": [
    "# Conditional Coverage & looking at subgroups"
   ]
  },
  {
   "cell_type": "code",
   "execution_count": 56,
   "id": "027ae886-68dd-4141-96c7-805a5450e1ef",
   "metadata": {
    "execution": {
     "iopub.execute_input": "2025-07-28T10:56:24.858674Z",
     "iopub.status.busy": "2025-07-28T10:56:24.858158Z",
     "iopub.status.idle": "2025-07-28T10:56:25.419399Z",
     "shell.execute_reply": "2025-07-28T10:56:25.418372Z"
    },
    "papermill": {
     "duration": 0.626541,
     "end_time": "2025-07-28T10:56:25.421593",
     "exception": false,
     "start_time": "2025-07-28T10:56:24.795052",
     "status": "completed"
    },
    "tags": []
   },
   "outputs": [],
   "source": [
    "from fairness_multiverse.conformal import build_cp_groups\n",
    "\n",
    "cp_groups_df = build_cp_groups(pred_sets, y_true, X_test.index, org_test)\n",
    "#needs universe_id and setting"
   ]
  },
  {
   "cell_type": "code",
   "execution_count": 57,
   "id": "01d5802c-663a-4d1f-9d69-e036faaffbf7",
   "metadata": {
    "execution": {
     "iopub.execute_input": "2025-07-28T10:56:25.479945Z",
     "iopub.status.busy": "2025-07-28T10:56:25.479464Z",
     "iopub.status.idle": "2025-07-28T10:56:25.485562Z",
     "shell.execute_reply": "2025-07-28T10:56:25.484455Z"
    },
    "papermill": {
     "duration": 0.038807,
     "end_time": "2025-07-28T10:56:25.488899",
     "exception": false,
     "start_time": "2025-07-28T10:56:25.450092",
     "status": "completed"
    },
    "tags": []
   },
   "outputs": [],
   "source": [
    "#delete\n",
    "#cp_groups_df"
   ]
  },
  {
   "cell_type": "code",
   "execution_count": 58,
   "id": "fa424af1-d1eb-443d-b717-2d279ada8408",
   "metadata": {
    "execution": {
     "iopub.execute_input": "2025-07-28T10:56:25.611137Z",
     "iopub.status.busy": "2025-07-28T10:56:25.610701Z",
     "iopub.status.idle": "2025-07-28T10:56:25.618325Z",
     "shell.execute_reply": "2025-07-28T10:56:25.617133Z"
    },
    "papermill": {
     "duration": 0.063877,
     "end_time": "2025-07-28T10:56:25.620576",
     "exception": false,
     "start_time": "2025-07-28T10:56:25.556699",
     "status": "completed"
    },
    "tags": []
   },
   "outputs": [],
   "source": [
    "#delete\n",
    "#percentage = (cp_groups_df['nongerman_female'] == 1).mean() * 100\n",
    "#print(percentage)\n"
   ]
  },
  {
   "cell_type": "code",
   "execution_count": 59,
   "id": "6cbdab96-b2b2-45af-ad54-d0516db2e28d",
   "metadata": {
    "execution": {
     "iopub.execute_input": "2025-07-28T10:56:25.743315Z",
     "iopub.status.busy": "2025-07-28T10:56:25.742849Z",
     "iopub.status.idle": "2025-07-28T10:56:29.139908Z",
     "shell.execute_reply": "2025-07-28T10:56:29.138830Z"
    },
    "papermill": {
     "duration": 3.457429,
     "end_time": "2025-07-28T10:56:29.142167",
     "exception": false,
     "start_time": "2025-07-28T10:56:25.684738",
     "status": "completed"
    },
    "tags": []
   },
   "outputs": [],
   "source": [
    "# Define covered = 1 if true_label is in the predicted set\n",
    "cp_groups_df['covered'] = cp_groups_df.apply(\n",
    "    lambda r: int(r['true_label'] in r['pred_set']),\n",
    "    axis=1\n",
    ")"
   ]
  },
  {
   "cell_type": "code",
   "execution_count": 60,
   "id": "338ff529-1a6b-4b87-a931-8e4788d52aad",
   "metadata": {
    "execution": {
     "iopub.execute_input": "2025-07-28T10:56:29.197836Z",
     "iopub.status.busy": "2025-07-28T10:56:29.197404Z",
     "iopub.status.idle": "2025-07-28T10:56:29.203133Z",
     "shell.execute_reply": "2025-07-28T10:56:29.201935Z"
    },
    "papermill": {
     "duration": 0.03719,
     "end_time": "2025-07-28T10:56:29.206649",
     "exception": false,
     "start_time": "2025-07-28T10:56:29.169459",
     "status": "completed"
    },
    "tags": []
   },
   "outputs": [],
   "source": [
    "#cp_groups_df"
   ]
  },
  {
   "cell_type": "code",
   "execution_count": 61,
   "id": "90032e27-66df-4540-9169-4e89cfbaa758",
   "metadata": {
    "execution": {
     "iopub.execute_input": "2025-07-28T10:56:29.326688Z",
     "iopub.status.busy": "2025-07-28T10:56:29.326205Z",
     "iopub.status.idle": "2025-07-28T10:56:29.341514Z",
     "shell.execute_reply": "2025-07-28T10:56:29.340279Z"
    },
    "papermill": {
     "duration": 0.078689,
     "end_time": "2025-07-28T10:56:29.344352",
     "exception": false,
     "start_time": "2025-07-28T10:56:29.265663",
     "status": "completed"
    },
    "tags": []
   },
   "outputs": [],
   "source": [
    "subgroups = ['frau1','nongerman','nongerman_male','nongerman_female']\n",
    "\n",
    "# Conditional coverage for subgroup==1\n",
    "cond_coverage = {\n",
    "    g: cp_groups_df.loc[cp_groups_df[g]==1, 'covered'].mean()\n",
    "    for g in subgroups\n",
    "}"
   ]
  },
  {
   "cell_type": "code",
   "execution_count": 62,
   "id": "1e348fb1-b9c3-45bc-ba23-f016827a7e0d",
   "metadata": {
    "execution": {
     "iopub.execute_input": "2025-07-28T10:56:29.458599Z",
     "iopub.status.busy": "2025-07-28T10:56:29.458196Z",
     "iopub.status.idle": "2025-07-28T10:56:29.468226Z",
     "shell.execute_reply": "2025-07-28T10:56:29.467185Z"
    },
    "papermill": {
     "duration": 0.065769,
     "end_time": "2025-07-28T10:56:29.471652",
     "exception": false,
     "start_time": "2025-07-28T10:56:29.405883",
     "status": "completed"
    },
    "tags": []
   },
   "outputs": [
    {
     "data": {
      "text/plain": [
       "{'frau1': 0.9173203935840409,\n",
       " 'nongerman': 0.914500645595913,\n",
       " 'nongerman_male': 0.927316941367198,\n",
       " 'nongerman_female': 0.8932935916542474}"
      ]
     },
     "execution_count": 62,
     "metadata": {},
     "output_type": "execute_result"
    }
   ],
   "source": [
    "cond_coverage"
   ]
  },
  {
   "cell_type": "code",
   "execution_count": 63,
   "id": "f5093324-c3dd-4d63-bc4c-8d945e5c8bbb",
   "metadata": {
    "execution": {
     "iopub.execute_input": "2025-07-28T10:56:29.610500Z",
     "iopub.status.busy": "2025-07-28T10:56:29.610059Z",
     "iopub.status.idle": "2025-07-28T10:56:29.619954Z",
     "shell.execute_reply": "2025-07-28T10:56:29.618795Z"
    },
    "papermill": {
     "duration": 0.072941,
     "end_time": "2025-07-28T10:56:29.622675",
     "exception": false,
     "start_time": "2025-07-28T10:56:29.549734",
     "status": "completed"
    },
    "tags": []
   },
   "outputs": [],
   "source": [
    "for subgroup, cov in cond_coverage.items():\n",
    "    cp_metrics_df[f\"cov_{subgroup}\"] = cov"
   ]
  },
  {
   "cell_type": "code",
   "execution_count": 64,
   "id": "6e872e10-dbe5-49e8-b554-5030c98ff75d",
   "metadata": {
    "execution": {
     "iopub.execute_input": "2025-07-28T10:56:29.703605Z",
     "iopub.status.busy": "2025-07-28T10:56:29.702608Z",
     "iopub.status.idle": "2025-07-28T10:56:29.729148Z",
     "shell.execute_reply": "2025-07-28T10:56:29.728103Z"
    },
    "papermill": {
     "duration": 0.057871,
     "end_time": "2025-07-28T10:56:29.731256",
     "exception": false,
     "start_time": "2025-07-28T10:56:29.673385",
     "status": "completed"
    },
    "tags": []
   },
   "outputs": [
    {
     "data": {
      "text/html": [
       "<div>\n",
       "<style scoped>\n",
       "    .dataframe tbody tr th:only-of-type {\n",
       "        vertical-align: middle;\n",
       "    }\n",
       "\n",
       "    .dataframe tbody tr th {\n",
       "        vertical-align: top;\n",
       "    }\n",
       "\n",
       "    .dataframe thead th {\n",
       "        text-align: right;\n",
       "    }\n",
       "</style>\n",
       "<table border=\"1\" class=\"dataframe\">\n",
       "  <thead>\n",
       "    <tr style=\"text-align: right;\">\n",
       "      <th></th>\n",
       "      <th>universe_id</th>\n",
       "      <th>universe_training_size</th>\n",
       "      <th>universe_scale</th>\n",
       "      <th>universe_model</th>\n",
       "      <th>universe_exclude_features</th>\n",
       "      <th>universe_exclude_subgroups</th>\n",
       "      <th>q_hat</th>\n",
       "      <th>coverage</th>\n",
       "      <th>avg_size</th>\n",
       "      <th>cov_frau1</th>\n",
       "      <th>cov_nongerman</th>\n",
       "      <th>cov_nongerman_male</th>\n",
       "      <th>cov_nongerman_female</th>\n",
       "    </tr>\n",
       "  </thead>\n",
       "  <tbody>\n",
       "    <tr>\n",
       "      <th>0</th>\n",
       "      <td>37955157a8c3a7d54a863ca42acfcb3a</td>\n",
       "      <td>2014</td>\n",
       "      <td>scale</td>\n",
       "      <td>rf</td>\n",
       "      <td>nationality</td>\n",
       "      <td>keep-all</td>\n",
       "      <td>0.66</td>\n",
       "      <td>0.916486</td>\n",
       "      <td>1.144276</td>\n",
       "      <td>0.91732</td>\n",
       "      <td>0.914501</td>\n",
       "      <td>0.927317</td>\n",
       "      <td>0.893294</td>\n",
       "    </tr>\n",
       "  </tbody>\n",
       "</table>\n",
       "</div>"
      ],
      "text/plain": [
       "                        universe_id universe_training_size universe_scale  \\\n",
       "0  37955157a8c3a7d54a863ca42acfcb3a                   2014          scale   \n",
       "\n",
       "  universe_model universe_exclude_features universe_exclude_subgroups  q_hat  \\\n",
       "0             rf               nationality                   keep-all   0.66   \n",
       "\n",
       "   coverage  avg_size  cov_frau1  cov_nongerman  cov_nongerman_male  \\\n",
       "0  0.916486  1.144276    0.91732       0.914501            0.927317   \n",
       "\n",
       "   cov_nongerman_female  \n",
       "0              0.893294  "
      ]
     },
     "execution_count": 64,
     "metadata": {},
     "output_type": "execute_result"
    }
   ],
   "source": [
    "cp_metrics_df"
   ]
  },
  {
   "cell_type": "markdown",
   "id": "33774451",
   "metadata": {
    "papermill": {
     "duration": 0.059729,
     "end_time": "2025-07-28T10:56:29.821531",
     "exception": false,
     "start_time": "2025-07-28T10:56:29.761802",
     "status": "completed"
    },
    "tags": []
   },
   "source": [
    "# (Fairness) Metrics"
   ]
  },
  {
   "cell_type": "code",
   "execution_count": 65,
   "id": "debc5d62",
   "metadata": {
    "execution": {
     "iopub.execute_input": "2025-07-28T10:56:29.936427Z",
     "iopub.status.busy": "2025-07-28T10:56:29.935965Z",
     "iopub.status.idle": "2025-07-28T10:56:29.968075Z",
     "shell.execute_reply": "2025-07-28T10:56:29.966838Z"
    },
    "papermill": {
     "duration": 0.095269,
     "end_time": "2025-07-28T10:56:29.970393",
     "exception": false,
     "start_time": "2025-07-28T10:56:29.875124",
     "status": "completed"
    },
    "tags": []
   },
   "outputs": [],
   "source": [
    "# do I need to include maxdeutsch1.missing?\n",
    "\n",
    "import numpy as np\n",
    "\n",
    "colname_to_bin = \"maxdeutsch1\"\n",
    "majority_value = org_train[colname_to_bin].mode()[0]\n",
    "\n",
    "org_test[\"majmin\"] = np.where(org_test[colname_to_bin] == majority_value, \"majority\", \"minority\")"
   ]
  },
  {
   "cell_type": "code",
   "execution_count": 66,
   "id": "06a50de5",
   "metadata": {
    "execution": {
     "iopub.execute_input": "2025-07-28T10:56:30.071104Z",
     "iopub.status.busy": "2025-07-28T10:56:30.070635Z",
     "iopub.status.idle": "2025-07-28T10:56:35.117797Z",
     "shell.execute_reply": "2025-07-28T10:56:35.116151Z"
    },
    "papermill": {
     "duration": 5.107125,
     "end_time": "2025-07-28T10:56:35.119878",
     "exception": false,
     "start_time": "2025-07-28T10:56:30.012753",
     "status": "completed"
    },
    "tags": []
   },
   "outputs": [],
   "source": [
    "example_universe = universe.copy()\n",
    "example_universe[\"cutoff\"] = example_universe[\"cutoff\"][0]\n",
    "example_universe[\"eval_fairness_grouping\"] = example_universe[\"eval_fairness_grouping\"][0]\n",
    "fairness_dict, metric_frame = universe_analysis.compute_metrics(\n",
    "    example_universe,\n",
    "    y_pred_prob=probs_test,\n",
    "    y_test=y_true,\n",
    "    org_test=org_test,\n",
    ")"
   ]
  },
  {
   "cell_type": "markdown",
   "id": "f95d4e02",
   "metadata": {
    "papermill": {
     "duration": 0.045473,
     "end_time": "2025-07-28T10:56:35.240156",
     "exception": false,
     "start_time": "2025-07-28T10:56:35.194683",
     "status": "completed"
    },
    "tags": []
   },
   "source": [
    "# Overall"
   ]
  },
  {
   "cell_type": "markdown",
   "id": "bdee4871",
   "metadata": {
    "papermill": {
     "duration": 0.086326,
     "end_time": "2025-07-28T10:56:35.420557",
     "exception": false,
     "start_time": "2025-07-28T10:56:35.334231",
     "status": "completed"
    },
    "tags": []
   },
   "source": [
    "Fairness\n",
    "Main fairness target: Equalized Odds. Seems to be a better fit than equal opportunity, since we're not only interested in Y = 1. Seems to be a better fit than demographic parity, since we also care about accuracy, not just equal distribution of preds.\n",
    "\n",
    "Pick column for computation of fairness metrics\n",
    "\n",
    "Performance\n",
    "Overall performance measures, most interesting in relation to the measures split by group below"
   ]
  },
  {
   "cell_type": "code",
   "execution_count": 67,
   "id": "c4e067c6",
   "metadata": {
    "execution": {
     "iopub.execute_input": "2025-07-28T10:56:35.490806Z",
     "iopub.status.busy": "2025-07-28T10:56:35.489679Z",
     "iopub.status.idle": "2025-07-28T10:56:35.499626Z",
     "shell.execute_reply": "2025-07-28T10:56:35.498662Z"
    },
    "papermill": {
     "duration": 0.041513,
     "end_time": "2025-07-28T10:56:35.503953",
     "exception": false,
     "start_time": "2025-07-28T10:56:35.462440",
     "status": "completed"
    },
    "tags": []
   },
   "outputs": [
    {
     "data": {
      "text/plain": [
       "accuracy                   0.208606\n",
       "balanced accuracy          0.535809\n",
       "f1                         0.240343\n",
       "precision                  0.137047\n",
       "false positive rate        0.904312\n",
       "false negative rate        0.024070\n",
       "selection rate             0.913499\n",
       "count                  89710.000000\n",
       "dtype: float64"
      ]
     },
     "execution_count": 67,
     "metadata": {},
     "output_type": "execute_result"
    }
   ],
   "source": [
    "metric_frame.overall"
   ]
  },
  {
   "cell_type": "markdown",
   "id": "e968fe9d",
   "metadata": {
    "papermill": {
     "duration": 0.041182,
     "end_time": "2025-07-28T10:56:35.571895",
     "exception": false,
     "start_time": "2025-07-28T10:56:35.530713",
     "status": "completed"
    },
    "tags": []
   },
   "source": [
    "By Group"
   ]
  },
  {
   "cell_type": "code",
   "execution_count": 68,
   "id": "ec325bce",
   "metadata": {
    "execution": {
     "iopub.execute_input": "2025-07-28T10:56:35.666849Z",
     "iopub.status.busy": "2025-07-28T10:56:35.666404Z",
     "iopub.status.idle": "2025-07-28T10:56:35.686304Z",
     "shell.execute_reply": "2025-07-28T10:56:35.685379Z"
    },
    "papermill": {
     "duration": 0.072399,
     "end_time": "2025-07-28T10:56:35.688012",
     "exception": false,
     "start_time": "2025-07-28T10:56:35.615613",
     "status": "completed"
    },
    "tags": []
   },
   "outputs": [
    {
     "data": {
      "text/html": [
       "<div>\n",
       "<style scoped>\n",
       "    .dataframe tbody tr th:only-of-type {\n",
       "        vertical-align: middle;\n",
       "    }\n",
       "\n",
       "    .dataframe tbody tr th {\n",
       "        vertical-align: top;\n",
       "    }\n",
       "\n",
       "    .dataframe thead th {\n",
       "        text-align: right;\n",
       "    }\n",
       "</style>\n",
       "<table border=\"1\" class=\"dataframe\">\n",
       "  <thead>\n",
       "    <tr style=\"text-align: right;\">\n",
       "      <th></th>\n",
       "      <th>accuracy</th>\n",
       "      <th>balanced accuracy</th>\n",
       "      <th>f1</th>\n",
       "      <th>precision</th>\n",
       "      <th>false positive rate</th>\n",
       "      <th>false negative rate</th>\n",
       "      <th>selection rate</th>\n",
       "      <th>count</th>\n",
       "    </tr>\n",
       "    <tr>\n",
       "      <th>majmin</th>\n",
       "      <th></th>\n",
       "      <th></th>\n",
       "      <th></th>\n",
       "      <th></th>\n",
       "      <th></th>\n",
       "      <th></th>\n",
       "      <th></th>\n",
       "      <th></th>\n",
       "    </tr>\n",
       "  </thead>\n",
       "  <tbody>\n",
       "    <tr>\n",
       "      <th>majority</th>\n",
       "      <td>0.197383</td>\n",
       "      <td>0.533601</td>\n",
       "      <td>0.245949</td>\n",
       "      <td>0.140405</td>\n",
       "      <td>0.923388</td>\n",
       "      <td>0.009409</td>\n",
       "      <td>0.932268</td>\n",
       "      <td>69170.0</td>\n",
       "    </tr>\n",
       "    <tr>\n",
       "      <th>minority</th>\n",
       "      <td>0.246397</td>\n",
       "      <td>0.539023</td>\n",
       "      <td>0.219533</td>\n",
       "      <td>0.124649</td>\n",
       "      <td>0.841294</td>\n",
       "      <td>0.080659</td>\n",
       "      <td>0.850292</td>\n",
       "      <td>20540.0</td>\n",
       "    </tr>\n",
       "  </tbody>\n",
       "</table>\n",
       "</div>"
      ],
      "text/plain": [
       "          accuracy  balanced accuracy        f1  precision  \\\n",
       "majmin                                                       \n",
       "majority  0.197383           0.533601  0.245949   0.140405   \n",
       "minority  0.246397           0.539023  0.219533   0.124649   \n",
       "\n",
       "          false positive rate  false negative rate  selection rate    count  \n",
       "majmin                                                                       \n",
       "majority             0.923388             0.009409        0.932268  69170.0  \n",
       "minority             0.841294             0.080659        0.850292  20540.0  "
      ]
     },
     "execution_count": 68,
     "metadata": {},
     "output_type": "execute_result"
    }
   ],
   "source": [
    "metric_frame.by_group"
   ]
  },
  {
   "cell_type": "code",
   "execution_count": 69,
   "id": "a9ddbe63",
   "metadata": {
    "execution": {
     "iopub.execute_input": "2025-07-28T10:56:35.761806Z",
     "iopub.status.busy": "2025-07-28T10:56:35.761344Z",
     "iopub.status.idle": "2025-07-28T10:56:39.082977Z",
     "shell.execute_reply": "2025-07-28T10:56:39.081933Z"
    },
    "papermill": {
     "duration": 3.351994,
     "end_time": "2025-07-28T10:56:39.084785",
     "exception": false,
     "start_time": "2025-07-28T10:56:35.732791",
     "status": "completed"
    },
    "tags": []
   },
   "outputs": [
    {
     "data": {
      "text/plain": [
       "array([[<Axes: title={'center': 'accuracy'}, xlabel='majmin'>,\n",
       "        <Axes: title={'center': 'balanced accuracy'}, xlabel='majmin'>,\n",
       "        <Axes: title={'center': 'f1'}, xlabel='majmin'>],\n",
       "       [<Axes: title={'center': 'precision'}, xlabel='majmin'>,\n",
       "        <Axes: title={'center': 'false positive rate'}, xlabel='majmin'>,\n",
       "        <Axes: title={'center': 'false negative rate'}, xlabel='majmin'>],\n",
       "       [<Axes: title={'center': 'selection rate'}, xlabel='majmin'>,\n",
       "        <Axes: title={'center': 'count'}, xlabel='majmin'>,\n",
       "        <Axes: xlabel='majmin'>]], dtype=object)"
      ]
     },
     "execution_count": 69,
     "metadata": {},
     "output_type": "execute_result"
    },
    {
     "data": {
      "image/png": "[encoded data removed]",
      "text/plain": [
       "<Figure size 1200x800 with 9 Axes>"
      ]
     },
     "metadata": {},
     "output_type": "display_data"
    }
   ],
   "source": [
    "# In a graphic\n",
    "metric_frame.by_group.plot.bar(\n",
    "    subplots=True,\n",
    "    layout=[3, 3],\n",
    "    legend=False,\n",
    "    figsize=[12, 8],\n",
    "    title=\"Show all metrics\",\n",
    ")"
   ]
  },
  {
   "cell_type": "markdown",
   "id": "f57a0bac",
   "metadata": {
    "papermill": {
     "duration": 0.029584,
     "end_time": "2025-07-28T10:56:39.148569",
     "exception": false,
     "start_time": "2025-07-28T10:56:39.118985",
     "status": "completed"
    },
    "tags": []
   },
   "source": [
    "# Final Output"
   ]
  },
  {
   "cell_type": "code",
   "execution_count": 70,
   "id": "96d280a3",
   "metadata": {
    "execution": {
     "iopub.execute_input": "2025-07-28T10:56:39.212734Z",
     "iopub.status.busy": "2025-07-28T10:56:39.211995Z",
     "iopub.status.idle": "2025-07-28T10:56:39.221624Z",
     "shell.execute_reply": "2025-07-28T10:56:39.220464Z"
    },
    "papermill": {
     "duration": 0.045234,
     "end_time": "2025-07-28T10:56:39.223455",
     "exception": false,
     "start_time": "2025-07-28T10:56:39.178221",
     "status": "completed"
    },
    "tags": []
   },
   "outputs": [
    {
     "data": {
      "text/plain": [
       "4"
      ]
     },
     "execution_count": 70,
     "metadata": {},
     "output_type": "execute_result"
    }
   ],
   "source": [
    "sub_universes = universe_analysis.generate_sub_universes()\n",
    "len(sub_universes)"
   ]
  },
  {
   "cell_type": "code",
   "execution_count": 71,
   "id": "92adf7ba",
   "metadata": {
    "execution": {
     "iopub.execute_input": "2025-07-28T10:56:39.285333Z",
     "iopub.status.busy": "2025-07-28T10:56:39.284185Z",
     "iopub.status.idle": "2025-07-28T10:56:39.290895Z",
     "shell.execute_reply": "2025-07-28T10:56:39.289832Z"
    },
    "papermill": {
     "duration": 0.039623,
     "end_time": "2025-07-28T10:56:39.293145",
     "exception": false,
     "start_time": "2025-07-28T10:56:39.253522",
     "status": "completed"
    },
    "tags": []
   },
   "outputs": [],
   "source": [
    "def filter_sub_universe_data(sub_universe, org_test):\n",
    "    # Keep all rows — no filtering\n",
    "    keep_rows_mask = np.ones(org_test.shape[0], dtype=bool)\n",
    "\n",
    "    print(f\"[INFO] Keeping all rows: {keep_rows_mask.sum()} rows retained.\")\n",
    "    return keep_rows_mask"
   ]
  },
  {
   "cell_type": "code",
   "execution_count": 72,
   "id": "4a759155",
   "metadata": {
    "execution": {
     "iopub.execute_input": "2025-07-28T10:56:39.353713Z",
     "iopub.status.busy": "2025-07-28T10:56:39.353215Z",
     "iopub.status.idle": "2025-07-28T10:56:52.856272Z",
     "shell.execute_reply": "2025-07-28T10:56:52.855092Z"
    },
    "papermill": {
     "duration": 13.53431,
     "end_time": "2025-07-28T10:56:52.858495",
     "exception": false,
     "start_time": "2025-07-28T10:56:39.324185",
     "status": "completed"
    },
    "tags": []
   },
   "outputs": [
    {
     "name": "stdout",
     "output_type": "stream",
     "text": [
      "Stopping execution_time clock.\n",
      "[INFO] Keeping all rows: 89710 rows retained.\n"
     ]
    },
    {
     "name": "stdout",
     "output_type": "stream",
     "text": [
      "[INFO] Keeping all rows: 89710 rows retained.\n"
     ]
    },
    {
     "name": "stdout",
     "output_type": "stream",
     "text": [
      "[INFO] Keeping all rows: 89710 rows retained.\n"
     ]
    },
    {
     "name": "stdout",
     "output_type": "stream",
     "text": [
      "[INFO] Keeping all rows: 89710 rows retained.\n"
     ]
    },
    {
     "data": {
      "text/html": [
       "<div>\n",
       "<style scoped>\n",
       "    .dataframe tbody tr th:only-of-type {\n",
       "        vertical-align: middle;\n",
       "    }\n",
       "\n",
       "    .dataframe tbody tr th {\n",
       "        vertical-align: top;\n",
       "    }\n",
       "\n",
       "    .dataframe thead th {\n",
       "        text-align: right;\n",
       "    }\n",
       "</style>\n",
       "<table border=\"1\" class=\"dataframe\">\n",
       "  <thead>\n",
       "    <tr style=\"text-align: right;\">\n",
       "      <th></th>\n",
       "      <th>run_no</th>\n",
       "      <th>universe_id</th>\n",
       "      <th>universe_settings</th>\n",
       "      <th>execution_time</th>\n",
       "      <th>test_size_n</th>\n",
       "      <th>test_size_frac</th>\n",
       "      <th>fair_main_equalized_odds_difference</th>\n",
       "      <th>fair_main_equalized_odds_ratio</th>\n",
       "      <th>fair_main_demographic_parity_difference</th>\n",
       "      <th>fair_main_demographic_parity_ratio</th>\n",
       "      <th>...</th>\n",
       "      <th>perf_grp_precision_0</th>\n",
       "      <th>perf_grp_precision_1</th>\n",
       "      <th>perf_grp_false positive rate_0</th>\n",
       "      <th>perf_grp_false positive rate_1</th>\n",
       "      <th>perf_grp_false negative rate_0</th>\n",
       "      <th>perf_grp_false negative rate_1</th>\n",
       "      <th>perf_grp_selection rate_0</th>\n",
       "      <th>perf_grp_selection rate_1</th>\n",
       "      <th>perf_grp_count_0</th>\n",
       "      <th>perf_grp_count_1</th>\n",
       "    </tr>\n",
       "  </thead>\n",
       "  <tbody>\n",
       "    <tr>\n",
       "      <th>0</th>\n",
       "      <td>11</td>\n",
       "      <td>37955157a8c3a7d54a863ca42acfcb3a</td>\n",
       "      <td>{\"cutoff\": \"quantile_0.1\", \"eval_fairness_grou...</td>\n",
       "      <td>69.453856</td>\n",
       "      <td>89710</td>\n",
       "      <td>1.0</td>\n",
       "      <td>0.082094</td>\n",
       "      <td>0.911095</td>\n",
       "      <td>0.081976</td>\n",
       "      <td>0.912068</td>\n",
       "      <td>...</td>\n",
       "      <td>NaN</td>\n",
       "      <td>NaN</td>\n",
       "      <td>NaN</td>\n",
       "      <td>NaN</td>\n",
       "      <td>NaN</td>\n",
       "      <td>NaN</td>\n",
       "      <td>NaN</td>\n",
       "      <td>NaN</td>\n",
       "      <td>NaN</td>\n",
       "      <td>NaN</td>\n",
       "    </tr>\n",
       "    <tr>\n",
       "      <th>0</th>\n",
       "      <td>11</td>\n",
       "      <td>37955157a8c3a7d54a863ca42acfcb3a</td>\n",
       "      <td>{\"cutoff\": \"quantile_0.1\", \"eval_fairness_grou...</td>\n",
       "      <td>69.453856</td>\n",
       "      <td>89710</td>\n",
       "      <td>1.0</td>\n",
       "      <td>0.082094</td>\n",
       "      <td>0.911095</td>\n",
       "      <td>0.081976</td>\n",
       "      <td>0.912068</td>\n",
       "      <td>...</td>\n",
       "      <td>0.124649</td>\n",
       "      <td>0.140405</td>\n",
       "      <td>0.841294</td>\n",
       "      <td>0.923388</td>\n",
       "      <td>0.080659</td>\n",
       "      <td>0.009409</td>\n",
       "      <td>0.850292</td>\n",
       "      <td>0.932268</td>\n",
       "      <td>20540.0</td>\n",
       "      <td>69170.0</td>\n",
       "    </tr>\n",
       "    <tr>\n",
       "      <th>0</th>\n",
       "      <td>11</td>\n",
       "      <td>37955157a8c3a7d54a863ca42acfcb3a</td>\n",
       "      <td>{\"cutoff\": \"quantile_0.25\", \"eval_fairness_gro...</td>\n",
       "      <td>69.453856</td>\n",
       "      <td>89710</td>\n",
       "      <td>1.0</td>\n",
       "      <td>0.110500</td>\n",
       "      <td>0.884509</td>\n",
       "      <td>0.091951</td>\n",
       "      <td>0.882073</td>\n",
       "      <td>...</td>\n",
       "      <td>NaN</td>\n",
       "      <td>NaN</td>\n",
       "      <td>NaN</td>\n",
       "      <td>NaN</td>\n",
       "      <td>NaN</td>\n",
       "      <td>NaN</td>\n",
       "      <td>NaN</td>\n",
       "      <td>NaN</td>\n",
       "      <td>NaN</td>\n",
       "      <td>NaN</td>\n",
       "    </tr>\n",
       "    <tr>\n",
       "      <th>0</th>\n",
       "      <td>11</td>\n",
       "      <td>37955157a8c3a7d54a863ca42acfcb3a</td>\n",
       "      <td>{\"cutoff\": \"quantile_0.25\", \"eval_fairness_gro...</td>\n",
       "      <td>69.453856</td>\n",
       "      <td>89710</td>\n",
       "      <td>1.0</td>\n",
       "      <td>0.110500</td>\n",
       "      <td>0.884509</td>\n",
       "      <td>0.091951</td>\n",
       "      <td>0.882073</td>\n",
       "      <td>...</td>\n",
       "      <td>0.141856</td>\n",
       "      <td>0.162143</td>\n",
       "      <td>0.667125</td>\n",
       "      <td>0.752774</td>\n",
       "      <td>0.153716</td>\n",
       "      <td>0.043217</td>\n",
       "      <td>0.687780</td>\n",
       "      <td>0.779731</td>\n",
       "      <td>20540.0</td>\n",
       "      <td>69170.0</td>\n",
       "    </tr>\n",
       "  </tbody>\n",
       "</table>\n",
       "<p>4 rows × 50 columns</p>\n",
       "</div>"
      ],
      "text/plain": [
       "  run_no                       universe_id  \\\n",
       "0     11  37955157a8c3a7d54a863ca42acfcb3a   \n",
       "0     11  37955157a8c3a7d54a863ca42acfcb3a   \n",
       "0     11  37955157a8c3a7d54a863ca42acfcb3a   \n",
       "0     11  37955157a8c3a7d54a863ca42acfcb3a   \n",
       "\n",
       "                                   universe_settings  execution_time  \\\n",
       "0  {\"cutoff\": \"quantile_0.1\", \"eval_fairness_grou...       69.453856   \n",
       "0  {\"cutoff\": \"quantile_0.1\", \"eval_fairness_grou...       69.453856   \n",
       "0  {\"cutoff\": \"quantile_0.25\", \"eval_fairness_gro...       69.453856   \n",
       "0  {\"cutoff\": \"quantile_0.25\", \"eval_fairness_gro...       69.453856   \n",
       "\n",
       "   test_size_n  test_size_frac  fair_main_equalized_odds_difference  \\\n",
       "0        89710             1.0                             0.082094   \n",
       "0        89710             1.0                             0.082094   \n",
       "0        89710             1.0                             0.110500   \n",
       "0        89710             1.0                             0.110500   \n",
       "\n",
       "   fair_main_equalized_odds_ratio  fair_main_demographic_parity_difference  \\\n",
       "0                        0.911095                                 0.081976   \n",
       "0                        0.911095                                 0.081976   \n",
       "0                        0.884509                                 0.091951   \n",
       "0                        0.884509                                 0.091951   \n",
       "\n",
       "   fair_main_demographic_parity_ratio  ...  perf_grp_precision_0  \\\n",
       "0                            0.912068  ...                   NaN   \n",
       "0                            0.912068  ...              0.124649   \n",
       "0                            0.882073  ...                   NaN   \n",
       "0                            0.882073  ...              0.141856   \n",
       "\n",
       "   perf_grp_precision_1  perf_grp_false positive rate_0  \\\n",
       "0                   NaN                             NaN   \n",
       "0              0.140405                        0.841294   \n",
       "0                   NaN                             NaN   \n",
       "0              0.162143                        0.667125   \n",
       "\n",
       "   perf_grp_false positive rate_1  perf_grp_false negative rate_0  \\\n",
       "0                             NaN                             NaN   \n",
       "0                        0.923388                        0.080659   \n",
       "0                             NaN                             NaN   \n",
       "0                        0.752774                        0.153716   \n",
       "\n",
       "   perf_grp_false negative rate_1  perf_grp_selection rate_0  \\\n",
       "0                             NaN                        NaN   \n",
       "0                        0.009409                   0.850292   \n",
       "0                             NaN                        NaN   \n",
       "0                        0.043217                   0.687780   \n",
       "\n",
       "   perf_grp_selection rate_1  perf_grp_count_0  perf_grp_count_1  \n",
       "0                        NaN               NaN               NaN  \n",
       "0                   0.932268           20540.0           69170.0  \n",
       "0                        NaN               NaN               NaN  \n",
       "0                   0.779731           20540.0           69170.0  \n",
       "\n",
       "[4 rows x 50 columns]"
      ]
     },
     "execution_count": 72,
     "metadata": {},
     "output_type": "execute_result"
    }
   ],
   "source": [
    "final_output = universe_analysis.generate_final_output(\n",
    "    y_pred_prob=probs_test,\n",
    "    y_test=y_true,\n",
    "    org_test=org_test,\n",
    "    filter_data=filter_sub_universe_data,\n",
    "    cp_metrics_df=cp_metrics_df,\n",
    "    save=True,\n",
    ")\n",
    "final_output"
   ]
  },
  {
   "cell_type": "code",
   "execution_count": null,
   "id": "721ff514-cb11-46f8-b6fc-50392f74b5cb",
   "metadata": {
    "papermill": {
     "duration": 0.083538,
     "end_time": "2025-07-28T10:56:52.962724",
     "exception": false,
     "start_time": "2025-07-28T10:56:52.879186",
     "status": "completed"
    },
    "tags": []
   },
   "outputs": [],
   "source": []
  }
 ],
 "metadata": {
  "celltoolbar": "Tags",
  "kernelspec": {
   "display_name": "Python (CMA Fairness)",
   "language": "python",
   "name": "cma_fair_env"
  },
  "language_info": {
   "codemirror_mode": {
    "name": "ipython",
    "version": 3
   },
   "file_extension": ".py",
   "mimetype": "text/x-python",
   "name": "python",
   "nbconvert_exporter": "python",
   "pygments_lexer": "ipython3",
   "version": "3.10.12"
  },
  "papermill": {
   "default_parameters": {},
   "duration": 88.106524,
   "end_time": "2025-07-28T10:56:54.310532",
   "environment_variables": {},
   "exception": null,
   "input_path": "universe_analysis.ipynb",
   "output_path": "output/runs/11/notebooks/m_11-37955157a8c3a7d54a863ca42acfcb3a.ipynb",
   "parameters": {
    "output_dir": "output",
    "run_no": "11",
    "seed": "2023",
    "universe": "{\"cutoff\": [\"quantile_0.1\", \"quantile_0.25\"], \"eval_fairness_grouping\": [\"majority-minority\", \"nationality-all\"], \"exclude_features\": \"nationality\", \"exclude_subgroups\": \"keep-all\", \"model\": \"rf\", \"scale\": \"scale\", \"training_size\": \"2014\"}",
    "universe_id": "37955157a8c3a7d54a863ca42acfcb3a"
   },
   "start_time": "2025-07-28T10:55:26.204008",
   "version": "2.6.0"
  }
 },
 "nbformat": 4,
 "nbformat_minor": 5
}