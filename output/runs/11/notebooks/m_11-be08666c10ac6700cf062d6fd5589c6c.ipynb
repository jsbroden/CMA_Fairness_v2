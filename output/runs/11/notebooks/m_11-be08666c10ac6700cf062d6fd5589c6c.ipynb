{
 "cells": [
  {
   "cell_type": "code",
   "execution_count": 1,
   "id": "f159f837-637b-42ba-96b5-ec9a68c44524",
   "metadata": {
    "execution": {
     "iopub.execute_input": "2025-07-28T10:37:11.912575Z",
     "iopub.status.busy": "2025-07-28T10:37:11.911836Z",
     "iopub.status.idle": "2025-07-28T10:37:11.927276Z",
     "shell.execute_reply": "2025-07-28T10:37:11.926015Z"
    },
    "papermill": {
     "duration": 0.038587,
     "end_time": "2025-07-28T10:37:11.929234",
     "exception": false,
     "start_time": "2025-07-28T10:37:11.890647",
     "status": "completed"
    },
    "tags": []
   },
   "outputs": [
    {
     "name": "stdout",
     "output_type": "stream",
     "text": [
      "/dss/dsshome1/0C/ra93lal2/cma/CMA_Fairness_v2\n"
     ]
    },
    {
     "name": "stderr",
     "output_type": "stream",
     "text": [
      "/dss/dsshome1/0C/ra93lal2/.local/share/virtualenvs/CMA_Fairness_v2-3j10GkSs/lib/python3.10/site-packages/IPython/core/magics/osm.py:393: UserWarning: This is now an optional IPython functionality, using bookmarks requires you to install the `pickleshare` library.\n",
      "  bkms = self.shell.db.get('bookmarks', {})\n",
      "/dss/dsshome1/0C/ra93lal2/.local/share/virtualenvs/CMA_Fairness_v2-3j10GkSs/lib/python3.10/site-packages/IPython/core/magics/osm.py:417: UserWarning: This is now an optional IPython functionality, setting dhist requires you to install the `pickleshare` library.\n",
      "  self.shell.db['dhist'] = compress_dhist(dhist)[-100:]\n"
     ]
    }
   ],
   "source": [
    "%cd ~/cma/CMA_Fairness_v2"
   ]
  },
  {
   "cell_type": "markdown",
   "id": "de2603b9",
   "metadata": {
    "papermill": {
     "duration": 0.019433,
     "end_time": "2025-07-28T10:37:11.968778",
     "exception": false,
     "start_time": "2025-07-28T10:37:11.949345",
     "status": "completed"
    },
    "tags": []
   },
   "source": [
    "The following cell holds the definition of our parameters, these values can be overriden by rendering the with e.g. the following command:\n",
    "\n",
    "papermill -p alpha 0.2 -p ratio 0.3 universe_analysis.ipynb output/test_run.ipynb"
   ]
  },
  {
   "cell_type": "code",
   "execution_count": 2,
   "id": "a80968a0-40bb-4fa9-85ef-2d5eefb01975",
   "metadata": {
    "execution": {
     "iopub.execute_input": "2025-07-28T10:37:12.007830Z",
     "iopub.status.busy": "2025-07-28T10:37:12.007347Z",
     "iopub.status.idle": "2025-07-28T10:37:12.013321Z",
     "shell.execute_reply": "2025-07-28T10:37:12.012077Z"
    },
    "papermill": {
     "duration": 0.028146,
     "end_time": "2025-07-28T10:37:12.015485",
     "exception": false,
     "start_time": "2025-07-28T10:37:11.987339",
     "status": "completed"
    },
    "tags": []
   },
   "outputs": [
    {
     "name": "stdout",
     "output_type": "stream",
     "text": [
      "Current working directory: /dss/dsshome1/0C/ra93lal2/cma/CMA_Fairness_v2\n"
     ]
    }
   ],
   "source": [
    "import os\n",
    "print(\"Current working directory:\", os.getcwd())"
   ]
  },
  {
   "cell_type": "code",
   "execution_count": 3,
   "id": "2dce4c03",
   "metadata": {
    "execution": {
     "iopub.execute_input": "2025-07-28T10:37:12.058068Z",
     "iopub.status.busy": "2025-07-28T10:37:12.057663Z",
     "iopub.status.idle": "2025-07-28T10:37:12.063767Z",
     "shell.execute_reply": "2025-07-28T10:37:12.062807Z"
    },
    "papermill": {
     "duration": 0.030755,
     "end_time": "2025-07-28T10:37:12.066278",
     "exception": false,
     "start_time": "2025-07-28T10:37:12.035523",
     "status": "completed"
    },
    "tags": [
     "parameters"
    ]
   },
   "outputs": [],
   "source": [
    "run_no = 0\n",
    "universe_id = \"test\"\n",
    "universe = {\n",
    "    \"training_size\": \"2014\", # \"25k\", \"5k\", \"1k\", \"2014\"\n",
    "    \"scale\": \"scale\", # \"scale\", \"do-not-scale\",\n",
    "    #\"stratify_split\": \"target\", # \"none\", \"target\", \"protected-attribute\", \"both\",\n",
    "    \"model\": \"elasticnet\", # \"logreg\", \"penalized_logreg\", \"rf\", \"gbm\", \"elasticnet\"\n",
    "    \"cutoff\": [\"quantile_0.15\", \"quantile_0.30\"],\n",
    "    \"exclude_features\": \"age\", # \"none\", \"nationality\", \"sex\", \"nationality-sex\", \"age\"\n",
    "    \"exclude_subgroups\": \"keep-all\", # \"keep-all\", \"drop-non-german\"\n",
    "    \"eval_fairness_grouping\": [\"majority-minority\", \"nationality-all\"]\n",
    "}\n",
    "\n",
    "output_dir=\"./output\"\n",
    "seed=0"
   ]
  },
  {
   "cell_type": "code",
   "execution_count": 4,
   "id": "d3a0faae",
   "metadata": {
    "execution": {
     "iopub.execute_input": "2025-07-28T10:37:12.109773Z",
     "iopub.status.busy": "2025-07-28T10:37:12.108838Z",
     "iopub.status.idle": "2025-07-28T10:37:12.114840Z",
     "shell.execute_reply": "2025-07-28T10:37:12.113916Z"
    },
    "papermill": {
     "duration": 0.031044,
     "end_time": "2025-07-28T10:37:12.116831",
     "exception": false,
     "start_time": "2025-07-28T10:37:12.085787",
     "status": "completed"
    },
    "tags": [
     "injected-parameters"
    ]
   },
   "outputs": [],
   "source": [
    "# Parameters\n",
    "universe_id = \"be08666c10ac6700cf062d6fd5589c6c\"\n",
    "run_no = \"11\"\n",
    "universe = \"{\\\"cutoff\\\": [\\\"quantile_0.1\\\", \\\"quantile_0.25\\\"], \\\"eval_fairness_grouping\\\": [\\\"majority-minority\\\", \\\"nationality-all\\\"], \\\"exclude_features\\\": \\\"nationality-sex\\\", \\\"exclude_subgroups\\\": \\\"keep-all\\\", \\\"model\\\": \\\"rf\\\", \\\"scale\\\": \\\"do-not-scale\\\", \\\"training_size\\\": \\\"5k\\\"}\"\n",
    "output_dir = \"output\"\n",
    "seed = \"2023\"\n"
   ]
  },
  {
   "cell_type": "code",
   "execution_count": 5,
   "id": "1650acaf",
   "metadata": {
    "execution": {
     "iopub.execute_input": "2025-07-28T10:37:12.158874Z",
     "iopub.status.busy": "2025-07-28T10:37:12.158362Z",
     "iopub.status.idle": "2025-07-28T10:37:12.163489Z",
     "shell.execute_reply": "2025-07-28T10:37:12.162618Z"
    },
    "papermill": {
     "duration": 0.027686,
     "end_time": "2025-07-28T10:37:12.165058",
     "exception": false,
     "start_time": "2025-07-28T10:37:12.137372",
     "status": "completed"
    },
    "tags": []
   },
   "outputs": [],
   "source": [
    "import json\n",
    "# Parse universe into dict if it is passed as a string\n",
    "if isinstance(universe, str):\n",
    "    universe = json.loads(universe)"
   ]
  },
  {
   "cell_type": "code",
   "execution_count": 6,
   "id": "16620c48",
   "metadata": {
    "execution": {
     "iopub.execute_input": "2025-07-28T10:37:12.204795Z",
     "iopub.status.busy": "2025-07-28T10:37:12.204370Z",
     "iopub.status.idle": "2025-07-28T10:37:12.251634Z",
     "shell.execute_reply": "2025-07-28T10:37:12.250630Z"
    },
    "papermill": {
     "duration": 0.068781,
     "end_time": "2025-07-28T10:37:12.253469",
     "exception": false,
     "start_time": "2025-07-28T10:37:12.184688",
     "status": "completed"
    },
    "tags": []
   },
   "outputs": [],
   "source": [
    "# Auto-reload the custom package\n",
    "%load_ext autoreload\n",
    "%autoreload 1\n",
    "%aimport fairness_multiverse"
   ]
  },
  {
   "cell_type": "code",
   "execution_count": 7,
   "id": "01c5c9f3",
   "metadata": {
    "execution": {
     "iopub.execute_input": "2025-07-28T10:37:12.292670Z",
     "iopub.status.busy": "2025-07-28T10:37:12.292153Z",
     "iopub.status.idle": "2025-07-28T10:37:14.410274Z",
     "shell.execute_reply": "2025-07-28T10:37:14.409228Z"
    },
    "papermill": {
     "duration": 2.139566,
     "end_time": "2025-07-28T10:37:14.412399",
     "exception": false,
     "start_time": "2025-07-28T10:37:12.272833",
     "status": "completed"
    },
    "tags": []
   },
   "outputs": [],
   "source": [
    "from fairness_multiverse.universe import UniverseAnalysis\n",
    "\n",
    "universe_analysis = UniverseAnalysis(\n",
    "    run_no = run_no,\n",
    "    universe_id = universe_id,\n",
    "    universe = universe,\n",
    "    output_dir=output_dir,\n",
    ")"
   ]
  },
  {
   "cell_type": "code",
   "execution_count": 8,
   "id": "106241f5",
   "metadata": {
    "execution": {
     "iopub.execute_input": "2025-07-28T10:37:14.455206Z",
     "iopub.status.busy": "2025-07-28T10:37:14.454256Z",
     "iopub.status.idle": "2025-07-28T10:37:14.461418Z",
     "shell.execute_reply": "2025-07-28T10:37:14.460291Z"
    },
    "papermill": {
     "duration": 0.029978,
     "end_time": "2025-07-28T10:37:14.462985",
     "exception": false,
     "start_time": "2025-07-28T10:37:14.433007",
     "status": "completed"
    },
    "tags": []
   },
   "outputs": [
    {
     "name": "stdout",
     "output_type": "stream",
     "text": [
      "Using Seed: 2023\n"
     ]
    }
   ],
   "source": [
    "import numpy as np\n",
    "parsed_seed = int(seed)\n",
    "np.random.seed(parsed_seed)\n",
    "print(f\"Using Seed: {parsed_seed}\")"
   ]
  },
  {
   "cell_type": "markdown",
   "id": "e0ebdc57",
   "metadata": {
    "papermill": {
     "duration": 0.020182,
     "end_time": "2025-07-28T10:37:14.503960",
     "exception": false,
     "start_time": "2025-07-28T10:37:14.483778",
     "status": "completed"
    },
    "tags": []
   },
   "source": [
    "# Loading Data"
   ]
  },
  {
   "cell_type": "markdown",
   "id": "681925a3",
   "metadata": {
    "papermill": {
     "duration": 0.019387,
     "end_time": "2025-07-28T10:37:14.542819",
     "exception": false,
     "start_time": "2025-07-28T10:37:14.523432",
     "status": "completed"
    },
    "tags": []
   },
   "source": [
    "Load siab_train, siab_test, siab_calib and/or \n",
    "load siab_train_features, siab_train_labels"
   ]
  },
  {
   "cell_type": "code",
   "execution_count": 9,
   "id": "f0496b8a",
   "metadata": {
    "execution": {
     "iopub.execute_input": "2025-07-28T10:37:14.586317Z",
     "iopub.status.busy": "2025-07-28T10:37:14.585052Z",
     "iopub.status.idle": "2025-07-28T10:37:29.738831Z",
     "shell.execute_reply": "2025-07-28T10:37:29.737310Z"
    },
    "papermill": {
     "duration": 15.178435,
     "end_time": "2025-07-28T10:37:29.741742",
     "exception": false,
     "start_time": "2025-07-28T10:37:14.563307",
     "status": "completed"
    },
    "tags": []
   },
   "outputs": [
    {
     "name": "stdout",
     "output_type": "stream",
     "text": [
      "Loading SIAB data from cache: data/siab_cached.csv.gz\n"
     ]
    },
    {
     "name": "stdout",
     "output_type": "stream",
     "text": [
      "(643690, 164)\n"
     ]
    }
   ],
   "source": [
    "from pathlib import Path\n",
    "import pandas as pd\n",
    "\n",
    "# File paths\n",
    "raw_file = Path(\"data/raw/siab.csv\")\n",
    "cache_file = Path(\"data/siab_cached.csv.gz\")\n",
    "\n",
    "# Ensure cache directory exists\n",
    "cache_file.parent.mkdir(parents=True, exist_ok=True)\n",
    "\n",
    "# Load with simple caching\n",
    "if cache_file.exists():\n",
    "    print(f\"Loading SIAB data from cache: {cache_file}\")\n",
    "    siab = pd.read_csv(cache_file, compression='gzip')\n",
    "else:\n",
    "    print(f\"Cache not found. Reading raw SIAB data: {raw_file}\")\n",
    "    siab = pd.read_csv(raw_file)\n",
    "    siab.to_csv(cache_file, index=False, compression='gzip')\n",
    "    print(f\"Cached SIAB data to: {cache_file}\")\n",
    "\n",
    "# Now use `siab` DataFrame as needed\n",
    "print(siab.shape)"
   ]
  },
  {
   "cell_type": "code",
   "execution_count": 10,
   "id": "db0ca512-5f53-4dba-abdb-a2888bca41ba",
   "metadata": {
    "execution": {
     "iopub.execute_input": "2025-07-28T10:37:29.835036Z",
     "iopub.status.busy": "2025-07-28T10:37:29.834490Z",
     "iopub.status.idle": "2025-07-28T10:37:29.842487Z",
     "shell.execute_reply": "2025-07-28T10:37:29.840983Z"
    },
    "papermill": {
     "duration": 0.08073,
     "end_time": "2025-07-28T10:37:29.853594",
     "exception": false,
     "start_time": "2025-07-28T10:37:29.772864",
     "status": "completed"
    },
    "tags": []
   },
   "outputs": [],
   "source": [
    "#siab"
   ]
  },
  {
   "cell_type": "code",
   "execution_count": 11,
   "id": "a0edb063",
   "metadata": {
    "execution": {
     "iopub.execute_input": "2025-07-28T10:37:29.961865Z",
     "iopub.status.busy": "2025-07-28T10:37:29.961241Z",
     "iopub.status.idle": "2025-07-28T10:37:29.967701Z",
     "shell.execute_reply": "2025-07-28T10:37:29.966446Z"
    },
    "papermill": {
     "duration": 0.045059,
     "end_time": "2025-07-28T10:37:29.981948",
     "exception": false,
     "start_time": "2025-07-28T10:37:29.936889",
     "status": "completed"
    },
    "tags": []
   },
   "outputs": [],
   "source": [
    "#import pandas as pd\n",
    "#\n",
    "#X_train = pd.read_csv(\"./data/X_train.csv\")\n",
    "#y_train = pd.read_csv(\"./data/y_train.csv\")"
   ]
  },
  {
   "cell_type": "code",
   "execution_count": 12,
   "id": "63d08085",
   "metadata": {
    "execution": {
     "iopub.execute_input": "2025-07-28T10:37:30.046441Z",
     "iopub.status.busy": "2025-07-28T10:37:30.045872Z",
     "iopub.status.idle": "2025-07-28T10:37:30.051933Z",
     "shell.execute_reply": "2025-07-28T10:37:30.050878Z"
    },
    "papermill": {
     "duration": 0.035541,
     "end_time": "2025-07-28T10:37:30.055180",
     "exception": false,
     "start_time": "2025-07-28T10:37:30.019639",
     "status": "completed"
    },
    "tags": []
   },
   "outputs": [],
   "source": [
    "#X_test = pd.read_csv(\"./data/X_test.csv\")\n",
    "#y_true = pd.read_csv(\"./data/y_test.csv\")"
   ]
  },
  {
   "cell_type": "code",
   "execution_count": 13,
   "id": "98a8d0fa-1d3d-4ed8-bb2c-281470e24add",
   "metadata": {
    "execution": {
     "iopub.execute_input": "2025-07-28T10:37:30.103795Z",
     "iopub.status.busy": "2025-07-28T10:37:30.103256Z",
     "iopub.status.idle": "2025-07-28T10:37:30.110466Z",
     "shell.execute_reply": "2025-07-28T10:37:30.109133Z"
    },
    "papermill": {
     "duration": 0.033376,
     "end_time": "2025-07-28T10:37:30.114423",
     "exception": false,
     "start_time": "2025-07-28T10:37:30.081047",
     "status": "completed"
    },
    "tags": []
   },
   "outputs": [],
   "source": [
    "# Calibration data for conformal\n",
    "#X_calib = pd.read_csv(\"./data/X_calib.csv\")\n",
    "#y_calib = pd.read_csv(\"./data/y_calib.csv\")"
   ]
  },
  {
   "cell_type": "markdown",
   "id": "9901737e-04df-44f0-9100-f5ad144ed040",
   "metadata": {
    "papermill": {
     "duration": 0.029371,
     "end_time": "2025-07-28T10:37:30.181760",
     "exception": false,
     "start_time": "2025-07-28T10:37:30.152389",
     "status": "completed"
    },
    "tags": []
   },
   "source": [
    "# Splitting Data and Setting Training Data Size"
   ]
  },
  {
   "cell_type": "code",
   "execution_count": 14,
   "id": "acbc8f7d-8fc8-4e86-8c59-5dcb0f58384b",
   "metadata": {
    "execution": {
     "iopub.execute_input": "2025-07-28T10:37:30.234021Z",
     "iopub.status.busy": "2025-07-28T10:37:30.233516Z",
     "iopub.status.idle": "2025-07-28T10:37:30.243308Z",
     "shell.execute_reply": "2025-07-28T10:37:30.242032Z"
    },
    "papermill": {
     "duration": 0.036357,
     "end_time": "2025-07-28T10:37:30.246772",
     "exception": false,
     "start_time": "2025-07-28T10:37:30.210415",
     "status": "completed"
    },
    "tags": []
   },
   "outputs": [],
   "source": [
    "def sample_by_year(df, training_size, random_state=42):\n",
    "    if training_size == \"2014\":\n",
    "        return df[df[\"year\"] == 2014].reset_index(drop=True)\n",
    "    \n",
    "    size_map = {\n",
    "        \"25k\": 5000,\n",
    "        \"5k\": 1000,\n",
    "        \"1k\": 200\n",
    "    }\n",
    "\n",
    "    if training_size not in size_map:\n",
    "        return df.reset_index(drop=True)  # use all data\n",
    "\n",
    "    n_per_year = size_map[training_size]\n",
    "    grouped = df.groupby(\"year\")\n",
    "    sampled = grouped.apply(lambda x: x.sample(n=min(n_per_year, len(x)), random_state=random_state))\n",
    "    return sampled.reset_index(drop=True)"
   ]
  },
  {
   "cell_type": "code",
   "execution_count": 15,
   "id": "6d931f52-beaf-43ff-9e78-9d44a448d54e",
   "metadata": {
    "execution": {
     "iopub.execute_input": "2025-07-28T10:37:30.295185Z",
     "iopub.status.busy": "2025-07-28T10:37:30.294451Z",
     "iopub.status.idle": "2025-07-28T10:37:31.030532Z",
     "shell.execute_reply": "2025-07-28T10:37:31.029506Z"
    },
    "papermill": {
     "duration": 0.764044,
     "end_time": "2025-07-28T10:37:31.035588",
     "exception": false,
     "start_time": "2025-07-28T10:37:30.271544",
     "status": "completed"
    },
    "tags": []
   },
   "outputs": [],
   "source": [
    "siab_s = sample_by_year(siab, universe[\"training_size\"])"
   ]
  },
  {
   "cell_type": "code",
   "execution_count": 16,
   "id": "5db0a40e-a4e2-4920-be85-b12ae061d70d",
   "metadata": {
    "execution": {
     "iopub.execute_input": "2025-07-28T10:37:31.137471Z",
     "iopub.status.busy": "2025-07-28T10:37:31.136432Z",
     "iopub.status.idle": "2025-07-28T10:37:31.152411Z",
     "shell.execute_reply": "2025-07-28T10:37:31.151274Z"
    },
    "papermill": {
     "duration": 0.057671,
     "end_time": "2025-07-28T10:37:31.158204",
     "exception": false,
     "start_time": "2025-07-28T10:37:31.100533",
     "status": "completed"
    },
    "tags": []
   },
   "outputs": [
    {
     "data": {
      "text/plain": [
       "year\n",
       "2010    1000\n",
       "2011    1000\n",
       "2012    1000\n",
       "2013    1000\n",
       "2014    1000\n",
       "2015    1000\n",
       "2016    1000\n",
       "dtype: int64"
      ]
     },
     "metadata": {},
     "output_type": "display_data"
    }
   ],
   "source": [
    "display(siab_s.groupby(\"year\").size())"
   ]
  },
  {
   "cell_type": "code",
   "execution_count": 17,
   "id": "a561edb4-d032-42cb-8256-22eac1111c64",
   "metadata": {
    "execution": {
     "iopub.execute_input": "2025-07-28T10:37:31.236844Z",
     "iopub.status.busy": "2025-07-28T10:37:31.236427Z",
     "iopub.status.idle": "2025-07-28T10:37:31.531314Z",
     "shell.execute_reply": "2025-07-28T10:37:31.530267Z"
    },
    "papermill": {
     "duration": 0.316412,
     "end_time": "2025-07-28T10:37:31.533243",
     "exception": false,
     "start_time": "2025-07-28T10:37:31.216831",
     "status": "completed"
    },
    "tags": []
   },
   "outputs": [],
   "source": [
    "siab_train = siab_s[siab_s.year < 2015]\n",
    "siab_calib = siab[siab.year == 2015]\n",
    "siab_test = siab[siab.year == 2016]"
   ]
  },
  {
   "cell_type": "code",
   "execution_count": 18,
   "id": "472de16f-c3db-4916-846b-1f0de9cf1746",
   "metadata": {
    "execution": {
     "iopub.execute_input": "2025-07-28T10:37:31.593567Z",
     "iopub.status.busy": "2025-07-28T10:37:31.593005Z",
     "iopub.status.idle": "2025-07-28T10:37:31.601743Z",
     "shell.execute_reply": "2025-07-28T10:37:31.600597Z"
    },
    "papermill": {
     "duration": 0.033168,
     "end_time": "2025-07-28T10:37:31.603466",
     "exception": false,
     "start_time": "2025-07-28T10:37:31.570298",
     "status": "completed"
    },
    "tags": []
   },
   "outputs": [],
   "source": [
    "X_train = siab_train.iloc[:,4:164]\n",
    "y_train = siab_train.iloc[:, [3]]"
   ]
  },
  {
   "cell_type": "code",
   "execution_count": 19,
   "id": "828c96af-f43a-4ed6-ba47-8ac73a47d56c",
   "metadata": {
    "execution": {
     "iopub.execute_input": "2025-07-28T10:37:31.648626Z",
     "iopub.status.busy": "2025-07-28T10:37:31.647445Z",
     "iopub.status.idle": "2025-07-28T10:37:31.701350Z",
     "shell.execute_reply": "2025-07-28T10:37:31.700161Z"
    },
    "papermill": {
     "duration": 0.078859,
     "end_time": "2025-07-28T10:37:31.703282",
     "exception": false,
     "start_time": "2025-07-28T10:37:31.624423",
     "status": "completed"
    },
    "tags": []
   },
   "outputs": [],
   "source": [
    "X_calib = siab_calib.iloc[:,4:164]\n",
    "y_calib = siab_calib.iloc[:, [3]]"
   ]
  },
  {
   "cell_type": "code",
   "execution_count": 20,
   "id": "c34be9c3-6bd6-476e-acd3-845840e303be",
   "metadata": {
    "execution": {
     "iopub.execute_input": "2025-07-28T10:37:31.738613Z",
     "iopub.status.busy": "2025-07-28T10:37:31.738026Z",
     "iopub.status.idle": "2025-07-28T10:37:31.828155Z",
     "shell.execute_reply": "2025-07-28T10:37:31.827125Z"
    },
    "papermill": {
     "duration": 0.104567,
     "end_time": "2025-07-28T10:37:31.829957",
     "exception": false,
     "start_time": "2025-07-28T10:37:31.725390",
     "status": "completed"
    },
    "tags": []
   },
   "outputs": [],
   "source": [
    "X_test = siab_test.iloc[:,4:164]\n",
    "y_true = siab_test.iloc[:, [3]]"
   ]
  },
  {
   "cell_type": "code",
   "execution_count": 21,
   "id": "e6c733c5",
   "metadata": {
    "execution": {
     "iopub.execute_input": "2025-07-28T10:37:31.916757Z",
     "iopub.status.busy": "2025-07-28T10:37:31.916241Z",
     "iopub.status.idle": "2025-07-28T10:37:32.022762Z",
     "shell.execute_reply": "2025-07-28T10:37:32.021768Z"
    },
    "papermill": {
     "duration": 0.157416,
     "end_time": "2025-07-28T10:37:32.024751",
     "exception": false,
     "start_time": "2025-07-28T10:37:31.867335",
     "status": "completed"
    },
    "tags": []
   },
   "outputs": [],
   "source": [
    "# Auxiliary data needed downstream in the pipeline\n",
    "\n",
    "org_train = X_train.copy()\n",
    "org_test = X_test.copy()\n",
    "org_calib = X_calib.copy()"
   ]
  },
  {
   "cell_type": "markdown",
   "id": "0a4a1b33",
   "metadata": {
    "papermill": {
     "duration": 0.022325,
     "end_time": "2025-07-28T10:37:32.068023",
     "exception": false,
     "start_time": "2025-07-28T10:37:32.045698",
     "status": "completed"
    },
    "tags": []
   },
   "source": [
    "# Preprocessing Data"
   ]
  },
  {
   "cell_type": "code",
   "execution_count": 22,
   "id": "ca879031",
   "metadata": {
    "execution": {
     "iopub.execute_input": "2025-07-28T10:37:32.113519Z",
     "iopub.status.busy": "2025-07-28T10:37:32.112798Z",
     "iopub.status.idle": "2025-07-28T10:37:32.119976Z",
     "shell.execute_reply": "2025-07-28T10:37:32.118925Z"
    },
    "papermill": {
     "duration": 0.034617,
     "end_time": "2025-07-28T10:37:32.124688",
     "exception": false,
     "start_time": "2025-07-28T10:37:32.090071",
     "status": "completed"
    },
    "tags": []
   },
   "outputs": [],
   "source": [
    "# EXCLUDE PROTECTED FEATURES\n",
    "# ----------------------\n",
    "# \"exclude_features\": \"none\", # \"nationality\", \"sex\", \"nationality-sex\"\n",
    "\n",
    "excluded_features = universe[\"exclude_features\"].split(\"-\") # split, e.g.: \"nationality-sex\" -> [\"nationality\", \"sex\"]\n",
    "excluded_features_dictionary = {\n",
    "    \"nationality\": [\"maxdeutsch1\", \"maxdeutsch.Missing.\"],\n",
    "    \"sex\": [\"frau1\"],\n",
    "    \"age\": [\"age\"],\n",
    "}\n"
   ]
  },
  {
   "cell_type": "code",
   "execution_count": 23,
   "id": "b745ac60",
   "metadata": {
    "execution": {
     "iopub.execute_input": "2025-07-28T10:37:32.184805Z",
     "iopub.status.busy": "2025-07-28T10:37:32.184310Z",
     "iopub.status.idle": "2025-07-28T10:37:32.190668Z",
     "shell.execute_reply": "2025-07-28T10:37:32.189718Z"
    },
    "papermill": {
     "duration": 0.03233,
     "end_time": "2025-07-28T10:37:32.192276",
     "exception": false,
     "start_time": "2025-07-28T10:37:32.159946",
     "status": "completed"
    },
    "tags": []
   },
   "outputs": [],
   "source": [
    "# Code nice names to column names\n",
    "\n",
    "excluded_features_columns = [\n",
    "    excluded_features_dictionary[f] for f in excluded_features if len(f) > 0 and f != \"none\"\n",
    "]"
   ]
  },
  {
   "cell_type": "code",
   "execution_count": 24,
   "id": "f84f73a2",
   "metadata": {
    "execution": {
     "iopub.execute_input": "2025-07-28T10:37:32.241972Z",
     "iopub.status.busy": "2025-07-28T10:37:32.241525Z",
     "iopub.status.idle": "2025-07-28T10:37:32.248478Z",
     "shell.execute_reply": "2025-07-28T10:37:32.247465Z"
    },
    "papermill": {
     "duration": 0.031054,
     "end_time": "2025-07-28T10:37:32.250556",
     "exception": false,
     "start_time": "2025-07-28T10:37:32.219502",
     "status": "completed"
    },
    "tags": []
   },
   "outputs": [],
   "source": [
    "from utils import flatten_once\n",
    "\n",
    "excluded_features_columns = flatten_once(excluded_features_columns)"
   ]
  },
  {
   "cell_type": "code",
   "execution_count": 25,
   "id": "884dea22",
   "metadata": {
    "execution": {
     "iopub.execute_input": "2025-07-28T10:37:32.304846Z",
     "iopub.status.busy": "2025-07-28T10:37:32.304310Z",
     "iopub.status.idle": "2025-07-28T10:37:32.314375Z",
     "shell.execute_reply": "2025-07-28T10:37:32.313410Z"
    },
    "papermill": {
     "duration": 0.045008,
     "end_time": "2025-07-28T10:37:32.318710",
     "exception": false,
     "start_time": "2025-07-28T10:37:32.273702",
     "status": "completed"
    },
    "tags": []
   },
   "outputs": [
    {
     "name": "stdout",
     "output_type": "stream",
     "text": [
      "Dropping features: ['maxdeutsch1', 'maxdeutsch.Missing.', 'frau1']\n"
     ]
    }
   ],
   "source": [
    "if len(excluded_features_columns) > 0:\n",
    "    print(f\"Dropping features: {excluded_features_columns}\")\n",
    "    X_train.drop(excluded_features_columns, axis=1, inplace=True)"
   ]
  },
  {
   "cell_type": "code",
   "execution_count": 26,
   "id": "95ab8b16",
   "metadata": {
    "execution": {
     "iopub.execute_input": "2025-07-28T10:37:32.364524Z",
     "iopub.status.busy": "2025-07-28T10:37:32.364006Z",
     "iopub.status.idle": "2025-07-28T10:37:32.423952Z",
     "shell.execute_reply": "2025-07-28T10:37:32.422883Z"
    },
    "papermill": {
     "duration": 0.082381,
     "end_time": "2025-07-28T10:37:32.426086",
     "exception": false,
     "start_time": "2025-07-28T10:37:32.343705",
     "status": "completed"
    },
    "tags": []
   },
   "outputs": [
    {
     "name": "stdout",
     "output_type": "stream",
     "text": [
      "Dropping features: ['maxdeutsch1', 'maxdeutsch.Missing.', 'frau1']\n"
     ]
    }
   ],
   "source": [
    "if len(excluded_features_columns) > 0:\n",
    "    print(f\"Dropping features: {excluded_features_columns}\")\n",
    "    X_test.drop(excluded_features_columns, axis=1, inplace=True)"
   ]
  },
  {
   "cell_type": "code",
   "execution_count": 27,
   "id": "1853aaf5-fb9f-46cb-a2b5-8ea4ae2237e4",
   "metadata": {
    "execution": {
     "iopub.execute_input": "2025-07-28T10:37:32.473239Z",
     "iopub.status.busy": "2025-07-28T10:37:32.472290Z",
     "iopub.status.idle": "2025-07-28T10:37:32.525170Z",
     "shell.execute_reply": "2025-07-28T10:37:32.524115Z"
    },
    "papermill": {
     "duration": 0.078631,
     "end_time": "2025-07-28T10:37:32.526911",
     "exception": false,
     "start_time": "2025-07-28T10:37:32.448280",
     "status": "completed"
    },
    "tags": []
   },
   "outputs": [
    {
     "name": "stdout",
     "output_type": "stream",
     "text": [
      "Dropping features: ['maxdeutsch1', 'maxdeutsch.Missing.', 'frau1']\n"
     ]
    }
   ],
   "source": [
    "if len(excluded_features_columns) > 0:\n",
    "    print(f\"Dropping features: {excluded_features_columns}\")\n",
    "    X_calib.drop(excluded_features_columns, axis=1, inplace=True)"
   ]
  },
  {
   "cell_type": "code",
   "execution_count": 28,
   "id": "6727d079-03e5-481e-9d38-292a90b7a0a8",
   "metadata": {
    "execution": {
     "iopub.execute_input": "2025-07-28T10:37:32.573489Z",
     "iopub.status.busy": "2025-07-28T10:37:32.572745Z",
     "iopub.status.idle": "2025-07-28T10:37:32.577697Z",
     "shell.execute_reply": "2025-07-28T10:37:32.576780Z"
    },
    "papermill": {
     "duration": 0.029701,
     "end_time": "2025-07-28T10:37:32.579325",
     "exception": false,
     "start_time": "2025-07-28T10:37:32.549624",
     "status": "completed"
    },
    "tags": []
   },
   "outputs": [],
   "source": [
    "# SPLIT & STRATIFY DATA\n",
    "# ----------------------"
   ]
  },
  {
   "cell_type": "code",
   "execution_count": 29,
   "id": "76c4dc6d",
   "metadata": {
    "execution": {
     "iopub.execute_input": "2025-07-28T10:37:32.622059Z",
     "iopub.status.busy": "2025-07-28T10:37:32.621528Z",
     "iopub.status.idle": "2025-07-28T10:37:32.627397Z",
     "shell.execute_reply": "2025-07-28T10:37:32.626295Z"
    },
    "papermill": {
     "duration": 0.027479,
     "end_time": "2025-07-28T10:37:32.629095",
     "exception": false,
     "start_time": "2025-07-28T10:37:32.601616",
     "status": "completed"
    },
    "tags": []
   },
   "outputs": [],
   "source": [
    "# EXCLUDE CERTAIN SUBGROUPS\n",
    "# ----------------------\n",
    "\n",
    "mode = universe.get(\"exclude_subgroups\", \"keep-all\") \n",
    "# Fetches the exclude_subgroups setting from the universe dict.\n",
    "# Defaults to \"keep-all\" if the key is missing."
   ]
  },
  {
   "cell_type": "code",
   "execution_count": 30,
   "id": "21994072",
   "metadata": {
    "execution": {
     "iopub.execute_input": "2025-07-28T10:37:32.678630Z",
     "iopub.status.busy": "2025-07-28T10:37:32.677694Z",
     "iopub.status.idle": "2025-07-28T10:37:32.683969Z",
     "shell.execute_reply": "2025-07-28T10:37:32.683256Z"
    },
    "papermill": {
     "duration": 0.032271,
     "end_time": "2025-07-28T10:37:32.685259",
     "exception": false,
     "start_time": "2025-07-28T10:37:32.652988",
     "status": "completed"
    },
    "tags": []
   },
   "outputs": [],
   "source": [
    "if mode == \"keep-all\":\n",
    "    keep_mask = pd.Series(True, index=org_train.index)\n",
    "\n",
    "# org_train contains the original feature columns from features_org (in Simson)\n",
    "# features_org contains unprocessed features, for me X_train at beginning ???\n",
    "# For keep-all, creates a boolean Series (keep_mask) of all True, so no rows are removed.\n",
    "\n",
    "elif mode == \"drop-non-german\":\n",
    "    keep_mask = org_train[\"maxdeutsch1\"] == 1 # ??? what about missing values?\n",
    "\n",
    "else:\n",
    "    raise ValueError(f\"Unsupported mode for exclude_subgroups: {mode}\")\n"
   ]
  },
  {
   "cell_type": "code",
   "execution_count": 31,
   "id": "71651440",
   "metadata": {
    "execution": {
     "iopub.execute_input": "2025-07-28T10:37:32.729228Z",
     "iopub.status.busy": "2025-07-28T10:37:32.728821Z",
     "iopub.status.idle": "2025-07-28T10:37:32.736718Z",
     "shell.execute_reply": "2025-07-28T10:37:32.735677Z"
    },
    "papermill": {
     "duration": 0.033178,
     "end_time": "2025-07-28T10:37:32.739321",
     "exception": false,
     "start_time": "2025-07-28T10:37:32.706143",
     "status": "completed"
    },
    "tags": []
   },
   "outputs": [],
   "source": [
    "n_drop = (~keep_mask).sum() # Calculates how many rows are set to be dropped\n",
    "if n_drop > 0:\n",
    "    pct = n_drop / len(keep_mask) * 100\n",
    "    print(f\"Dropping {n_drop} rows ({pct:.2f}%) where mode='{mode}'\")"
   ]
  },
  {
   "cell_type": "code",
   "execution_count": 32,
   "id": "5fb8eee5",
   "metadata": {
    "execution": {
     "iopub.execute_input": "2025-07-28T10:37:32.782619Z",
     "iopub.status.busy": "2025-07-28T10:37:32.782084Z",
     "iopub.status.idle": "2025-07-28T10:37:32.790305Z",
     "shell.execute_reply": "2025-07-28T10:37:32.789164Z"
    },
    "papermill": {
     "duration": 0.032217,
     "end_time": "2025-07-28T10:37:32.792549",
     "exception": false,
     "start_time": "2025-07-28T10:37:32.760332",
     "status": "completed"
    },
    "tags": []
   },
   "outputs": [],
   "source": [
    "X_train = X_train[keep_mask]"
   ]
  },
  {
   "cell_type": "code",
   "execution_count": 33,
   "id": "b202bb3a",
   "metadata": {
    "execution": {
     "iopub.execute_input": "2025-07-28T10:37:32.839357Z",
     "iopub.status.busy": "2025-07-28T10:37:32.838963Z",
     "iopub.status.idle": "2025-07-28T10:37:32.845230Z",
     "shell.execute_reply": "2025-07-28T10:37:32.844190Z"
    },
    "papermill": {
     "duration": 0.032064,
     "end_time": "2025-07-28T10:37:32.847848",
     "exception": false,
     "start_time": "2025-07-28T10:37:32.815784",
     "status": "completed"
    },
    "tags": []
   },
   "outputs": [],
   "source": [
    "y_train = y_train[keep_mask]"
   ]
  },
  {
   "cell_type": "markdown",
   "id": "493e2ac3",
   "metadata": {
    "papermill": {
     "duration": 0.021169,
     "end_time": "2025-07-28T10:37:32.891874",
     "exception": false,
     "start_time": "2025-07-28T10:37:32.870705",
     "status": "completed"
    },
    "tags": []
   },
   "source": [
    "# Model Training"
   ]
  },
  {
   "cell_type": "code",
   "execution_count": 34,
   "id": "679e1268",
   "metadata": {
    "execution": {
     "iopub.execute_input": "2025-07-28T10:37:32.938587Z",
     "iopub.status.busy": "2025-07-28T10:37:32.938178Z",
     "iopub.status.idle": "2025-07-28T10:37:33.068882Z",
     "shell.execute_reply": "2025-07-28T10:37:33.067798Z"
    },
    "papermill": {
     "duration": 0.156156,
     "end_time": "2025-07-28T10:37:33.071051",
     "exception": false,
     "start_time": "2025-07-28T10:37:32.914895",
     "status": "completed"
    },
    "tags": []
   },
   "outputs": [],
   "source": [
    "from sklearn.linear_model import LogisticRegression\n",
    "from sklearn.ensemble import GradientBoostingClassifier, RandomForestClassifier\n",
    "\n",
    "if (universe[\"model\"] == \"logreg\"):\n",
    "    model = LogisticRegression() #penalty=\"none\") #, solver=\"newton-cg\", max_iter=1) # include random_state=19 ?\n",
    "elif (universe[\"model\"] == \"penalized_logreg\"):\n",
    "    model = LogisticRegression(penalty=\"l2\", C=1.0) #, solver=\"newton-cg\", max_iter=1)\n",
    "elif (universe[\"model\"] == \"rf\"):\n",
    "    model = RandomForestClassifier(n_estimators=100, n_jobs=-1)\n",
    "elif (universe[\"model\"] == \"gbm\"):\n",
    "    model = GradientBoostingClassifier()\n",
    "elif (universe[\"model\"] == \"elasticnet\"):\n",
    "    model = LogisticRegression(penalty = 'elasticnet', solver = 'saga', l1_ratio = 0.5, max_iter=5000) # which solver to use?\n",
    "else:\n",
    "    raise \"Unsupported universe.model\""
   ]
  },
  {
   "cell_type": "code",
   "execution_count": 35,
   "id": "0cc8f744",
   "metadata": {
    "execution": {
     "iopub.execute_input": "2025-07-28T10:37:33.129294Z",
     "iopub.status.busy": "2025-07-28T10:37:33.128768Z",
     "iopub.status.idle": "2025-07-28T10:37:33.142009Z",
     "shell.execute_reply": "2025-07-28T10:37:33.141027Z"
    },
    "papermill": {
     "duration": 0.051806,
     "end_time": "2025-07-28T10:37:33.147512",
     "exception": false,
     "start_time": "2025-07-28T10:37:33.095706",
     "status": "completed"
    },
    "tags": []
   },
   "outputs": [],
   "source": [
    "import numpy as np\n",
    "from sklearn.pipeline import Pipeline\n",
    "from sklearn.preprocessing import StandardScaler\n",
    "\n",
    "model = Pipeline([\n",
    "    #(\"continuous_processor\", continuous_processor),\n",
    "    #(\"categorical_preprocessor\", categorical_preprocessor),\n",
    "    (\"scale\", StandardScaler() if universe[\"scale\"] == \"scale\" else None), \n",
    "    (\"model\", model),\n",
    "])"
   ]
  },
  {
   "cell_type": "code",
   "execution_count": 36,
   "id": "9442c04d",
   "metadata": {
    "execution": {
     "iopub.execute_input": "2025-07-28T10:37:33.193322Z",
     "iopub.status.busy": "2025-07-28T10:37:33.192904Z",
     "iopub.status.idle": "2025-07-28T10:37:34.377854Z",
     "shell.execute_reply": "2025-07-28T10:37:34.376909Z"
    },
    "papermill": {
     "duration": 1.210422,
     "end_time": "2025-07-28T10:37:34.379747",
     "exception": false,
     "start_time": "2025-07-28T10:37:33.169325",
     "status": "completed"
    },
    "tags": []
   },
   "outputs": [
    {
     "data": {
      "text/html": [
       "<style>#sk-container-id-1 {color: black;background-color: white;}#sk-container-id-1 pre{padding: 0;}#sk-container-id-1 div.sk-toggleable {background-color: white;}#sk-container-id-1 label.sk-toggleable__label {cursor: pointer;display: block;width: 100%;margin-bottom: 0;padding: 0.3em;box-sizing: border-box;text-align: center;}#sk-container-id-1 label.sk-toggleable__label-arrow:before {content: \"▸\";float: left;margin-right: 0.25em;color: #696969;}#sk-container-id-1 label.sk-toggleable__label-arrow:hover:before {color: black;}#sk-container-id-1 div.sk-estimator:hover label.sk-toggleable__label-arrow:before {color: black;}#sk-container-id-1 div.sk-toggleable__content {max-height: 0;max-width: 0;overflow: hidden;text-align: left;background-color: #f0f8ff;}#sk-container-id-1 div.sk-toggleable__content pre {margin: 0.2em;color: black;border-radius: 0.25em;background-color: #f0f8ff;}#sk-container-id-1 input.sk-toggleable__control:checked~div.sk-toggleable__content {max-height: 200px;max-width: 100%;overflow: auto;}#sk-container-id-1 input.sk-toggleable__control:checked~label.sk-toggleable__label-arrow:before {content: \"▾\";}#sk-container-id-1 div.sk-estimator input.sk-toggleable__control:checked~label.sk-toggleable__label {background-color: #d4ebff;}#sk-container-id-1 div.sk-label input.sk-toggleable__control:checked~label.sk-toggleable__label {background-color: #d4ebff;}#sk-container-id-1 input.sk-hidden--visually {border: 0;clip: rect(1px 1px 1px 1px);clip: rect(1px, 1px, 1px, 1px);height: 1px;margin: -1px;overflow: hidden;padding: 0;position: absolute;width: 1px;}#sk-container-id-1 div.sk-estimator {font-family: monospace;background-color: #f0f8ff;border: 1px dotted black;border-radius: 0.25em;box-sizing: border-box;margin-bottom: 0.5em;}#sk-container-id-1 div.sk-estimator:hover {background-color: #d4ebff;}#sk-container-id-1 div.sk-parallel-item::after {content: \"\";width: 100%;border-bottom: 1px solid gray;flex-grow: 1;}#sk-container-id-1 div.sk-label:hover label.sk-toggleable__label {background-color: #d4ebff;}#sk-container-id-1 div.sk-serial::before {content: \"\";position: absolute;border-left: 1px solid gray;box-sizing: border-box;top: 0;bottom: 0;left: 50%;z-index: 0;}#sk-container-id-1 div.sk-serial {display: flex;flex-direction: column;align-items: center;background-color: white;padding-right: 0.2em;padding-left: 0.2em;position: relative;}#sk-container-id-1 div.sk-item {position: relative;z-index: 1;}#sk-container-id-1 div.sk-parallel {display: flex;align-items: stretch;justify-content: center;background-color: white;position: relative;}#sk-container-id-1 div.sk-item::before, #sk-container-id-1 div.sk-parallel-item::before {content: \"\";position: absolute;border-left: 1px solid gray;box-sizing: border-box;top: 0;bottom: 0;left: 50%;z-index: -1;}#sk-container-id-1 div.sk-parallel-item {display: flex;flex-direction: column;z-index: 1;position: relative;background-color: white;}#sk-container-id-1 div.sk-parallel-item:first-child::after {align-self: flex-end;width: 50%;}#sk-container-id-1 div.sk-parallel-item:last-child::after {align-self: flex-start;width: 50%;}#sk-container-id-1 div.sk-parallel-item:only-child::after {width: 0;}#sk-container-id-1 div.sk-dashed-wrapped {border: 1px dashed gray;margin: 0 0.4em 0.5em 0.4em;box-sizing: border-box;padding-bottom: 0.4em;background-color: white;}#sk-container-id-1 div.sk-label label {font-family: monospace;font-weight: bold;display: inline-block;line-height: 1.2em;}#sk-container-id-1 div.sk-label-container {text-align: center;}#sk-container-id-1 div.sk-container {/* jupyter's `normalize.less` sets `[hidden] { display: none; }` but bootstrap.min.css set `[hidden] { display: none !important; }` so we also need the `!important` here to be able to override the default hidden behavior on the sphinx rendered scikit-learn.org. See: https://github.com/scikit-learn/scikit-learn/issues/21755 */display: inline-block !important;position: relative;}#sk-container-id-1 div.sk-text-repr-fallback {display: none;}</style><div id=\"sk-container-id-1\" class=\"sk-top-container\"><div class=\"sk-text-repr-fallback\"><pre>Pipeline(steps=[(&#x27;scale&#x27;, None), (&#x27;model&#x27;, RandomForestClassifier(n_jobs=-1))])</pre><b>In a Jupyter environment, please rerun this cell to show the HTML representation or trust the notebook. <br />On GitHub, the HTML representation is unable to render, please try loading this page with nbviewer.org.</b></div><div class=\"sk-container\" hidden><div class=\"sk-item sk-dashed-wrapped\"><div class=\"sk-label-container\"><div class=\"sk-label sk-toggleable\"><input class=\"sk-toggleable__control sk-hidden--visually\" id=\"sk-estimator-id-1\" type=\"checkbox\" ><label for=\"sk-estimator-id-1\" class=\"sk-toggleable__label sk-toggleable__label-arrow\">Pipeline</label><div class=\"sk-toggleable__content\"><pre>Pipeline(steps=[(&#x27;scale&#x27;, None), (&#x27;model&#x27;, RandomForestClassifier(n_jobs=-1))])</pre></div></div></div><div class=\"sk-serial\"><div class=\"sk-item\"><div class=\"sk-estimator sk-toggleable\"><input class=\"sk-toggleable__control sk-hidden--visually\" id=\"sk-estimator-id-2\" type=\"checkbox\" ><label for=\"sk-estimator-id-2\" class=\"sk-toggleable__label sk-toggleable__label-arrow\">None</label><div class=\"sk-toggleable__content\"><pre>None</pre></div></div></div><div class=\"sk-item\"><div class=\"sk-estimator sk-toggleable\"><input class=\"sk-toggleable__control sk-hidden--visually\" id=\"sk-estimator-id-3\" type=\"checkbox\" ><label for=\"sk-estimator-id-3\" class=\"sk-toggleable__label sk-toggleable__label-arrow\">RandomForestClassifier</label><div class=\"sk-toggleable__content\"><pre>RandomForestClassifier(n_jobs=-1)</pre></div></div></div></div></div></div></div>"
      ],
      "text/plain": [
       "Pipeline(steps=[('scale', None), ('model', RandomForestClassifier(n_jobs=-1))])"
      ]
     },
     "execution_count": 36,
     "metadata": {},
     "output_type": "execute_result"
    }
   ],
   "source": [
    "model.fit(X_train, y_train.values.ravel())"
   ]
  },
  {
   "cell_type": "code",
   "execution_count": 37,
   "id": "af59f8c0",
   "metadata": {
    "execution": {
     "iopub.execute_input": "2025-07-28T10:37:34.433651Z",
     "iopub.status.busy": "2025-07-28T10:37:34.432674Z",
     "iopub.status.idle": "2025-07-28T10:37:34.438684Z",
     "shell.execute_reply": "2025-07-28T10:37:34.437794Z"
    },
    "papermill": {
     "duration": 0.039221,
     "end_time": "2025-07-28T10:37:34.440373",
     "exception": false,
     "start_time": "2025-07-28T10:37:34.401152",
     "status": "completed"
    },
    "tags": []
   },
   "outputs": [],
   "source": [
    "from fairness_multiverse.universe import predict_w_threshold"
   ]
  },
  {
   "cell_type": "code",
   "execution_count": 38,
   "id": "a7cf2e16",
   "metadata": {
    "execution": {
     "iopub.execute_input": "2025-07-28T10:37:34.495722Z",
     "iopub.status.busy": "2025-07-28T10:37:34.494645Z",
     "iopub.status.idle": "2025-07-28T10:37:35.581188Z",
     "shell.execute_reply": "2025-07-28T10:37:35.579974Z"
    },
    "papermill": {
     "duration": 1.108054,
     "end_time": "2025-07-28T10:37:35.583079",
     "exception": false,
     "start_time": "2025-07-28T10:37:34.475025",
     "status": "completed"
    },
    "tags": []
   },
   "outputs": [
    {
     "data": {
      "text/plain": [
       "0.8665923531378887"
      ]
     },
     "execution_count": 38,
     "metadata": {},
     "output_type": "execute_result"
    }
   ],
   "source": [
    "probs_test = model.predict_proba(X_test)\n",
    "\n",
    "'''\n",
    "Below code returns a boolean array (or binary 0/1 array depending on how it’s used) where each element \n",
    "is True if the probability of class 1 is greater than or equal to the threshold, and False otherwise.\n",
    "'''\n",
    "y_pred_default = predict_w_threshold(probs_test, 0.5)\n",
    "\n",
    "from sklearn.metrics import accuracy_score\n",
    "\n",
    "# Naive prediction\n",
    "accuracy_score(y_true = y_true, y_pred = y_pred_default)"
   ]
  },
  {
   "cell_type": "code",
   "execution_count": 39,
   "id": "081964c3",
   "metadata": {
    "execution": {
     "iopub.execute_input": "2025-07-28T10:37:35.635115Z",
     "iopub.status.busy": "2025-07-28T10:37:35.634559Z",
     "iopub.status.idle": "2025-07-28T10:37:36.541421Z",
     "shell.execute_reply": "2025-07-28T10:37:36.540410Z"
    },
    "papermill": {
     "duration": 0.935996,
     "end_time": "2025-07-28T10:37:36.542973",
     "exception": false,
     "start_time": "2025-07-28T10:37:35.606977",
     "status": "completed"
    },
    "tags": []
   },
   "outputs": [
    {
     "data": {
      "text/plain": [
       "array([0, 0, 0, ..., 0, 0, 0])"
      ]
     },
     "execution_count": 39,
     "metadata": {},
     "output_type": "execute_result"
    }
   ],
   "source": [
    "model.predict(X_test)"
   ]
  },
  {
   "cell_type": "markdown",
   "id": "56c9705b",
   "metadata": {
    "papermill": {
     "duration": 0.026488,
     "end_time": "2025-07-28T10:37:36.601451",
     "exception": false,
     "start_time": "2025-07-28T10:37:36.574963",
     "status": "completed"
    },
    "tags": []
   },
   "source": [
    "# Conformal Prediction"
   ]
  },
  {
   "cell_type": "code",
   "execution_count": 40,
   "id": "160ec6ff",
   "metadata": {
    "execution": {
     "iopub.execute_input": "2025-07-28T10:37:36.647662Z",
     "iopub.status.busy": "2025-07-28T10:37:36.647233Z",
     "iopub.status.idle": "2025-07-28T10:37:36.653309Z",
     "shell.execute_reply": "2025-07-28T10:37:36.652384Z"
    },
    "papermill": {
     "duration": 0.035156,
     "end_time": "2025-07-28T10:37:36.662885",
     "exception": false,
     "start_time": "2025-07-28T10:37:36.627729",
     "status": "completed"
    },
    "tags": []
   },
   "outputs": [],
   "source": [
    "# Miscoverage level for conformal prediction (10% allowed error rate => 90% target coverage)\n",
    "alpha = 0.1"
   ]
  },
  {
   "cell_type": "code",
   "execution_count": 41,
   "id": "eadf4555-3dd3-440e-8e35-f82a4ad9f855",
   "metadata": {
    "execution": {
     "iopub.execute_input": "2025-07-28T10:37:36.745145Z",
     "iopub.status.busy": "2025-07-28T10:37:36.744627Z",
     "iopub.status.idle": "2025-07-28T10:37:37.548751Z",
     "shell.execute_reply": "2025-07-28T10:37:37.544673Z"
    },
    "papermill": {
     "duration": 0.853451,
     "end_time": "2025-07-28T10:37:37.550994",
     "exception": false,
     "start_time": "2025-07-28T10:37:36.697543",
     "status": "completed"
    },
    "tags": []
   },
   "outputs": [],
   "source": [
    "probs_calib = model.predict_proba(X_calib)"
   ]
  },
  {
   "cell_type": "code",
   "execution_count": 42,
   "id": "2ed93547-6d5d-4983-9b36-1ecb300da49a",
   "metadata": {
    "execution": {
     "iopub.execute_input": "2025-07-28T10:37:37.650938Z",
     "iopub.status.busy": "2025-07-28T10:37:37.650510Z",
     "iopub.status.idle": "2025-07-28T10:37:37.658192Z",
     "shell.execute_reply": "2025-07-28T10:37:37.657113Z"
    },
    "papermill": {
     "duration": 0.059027,
     "end_time": "2025-07-28T10:37:37.660228",
     "exception": false,
     "start_time": "2025-07-28T10:37:37.601201",
     "status": "completed"
    },
    "tags": []
   },
   "outputs": [],
   "source": [
    "y_calib = y_calib.values.ravel().astype(int)"
   ]
  },
  {
   "cell_type": "code",
   "execution_count": 43,
   "id": "65d1320d-f588-4b38-9072-62af1ae97f7d",
   "metadata": {
    "execution": {
     "iopub.execute_input": "2025-07-28T10:37:37.744448Z",
     "iopub.status.busy": "2025-07-28T10:37:37.743973Z",
     "iopub.status.idle": "2025-07-28T10:37:37.751934Z",
     "shell.execute_reply": "2025-07-28T10:37:37.750887Z"
    },
    "papermill": {
     "duration": 0.038651,
     "end_time": "2025-07-28T10:37:37.755367",
     "exception": false,
     "start_time": "2025-07-28T10:37:37.716716",
     "status": "completed"
    },
    "tags": []
   },
   "outputs": [],
   "source": [
    "from fairness_multiverse.conformal import compute_nc_scores\n",
    "\n",
    "# Compute nonconformity scores on calibration set (1 - probability of true class)\n",
    "nc_scores = compute_nc_scores(probs_calib, y_calib)"
   ]
  },
  {
   "cell_type": "code",
   "execution_count": 44,
   "id": "df3b8ca3-53b7-43d5-9667-7c85da7aeda2",
   "metadata": {
    "execution": {
     "iopub.execute_input": "2025-07-28T10:37:37.806057Z",
     "iopub.status.busy": "2025-07-28T10:37:37.805649Z",
     "iopub.status.idle": "2025-07-28T10:37:37.812962Z",
     "shell.execute_reply": "2025-07-28T10:37:37.811998Z"
    },
    "papermill": {
     "duration": 0.036115,
     "end_time": "2025-07-28T10:37:37.816554",
     "exception": false,
     "start_time": "2025-07-28T10:37:37.780439",
     "status": "completed"
    },
    "tags": []
   },
   "outputs": [],
   "source": [
    "from fairness_multiverse.conformal import find_threshold\n",
    "\n",
    "# Find conformal threshold q_hat for the given alpha (split conformal method)\n",
    "q_hat = find_threshold(nc_scores, alpha)"
   ]
  },
  {
   "cell_type": "code",
   "execution_count": 45,
   "id": "4d29e6c1-0ef6-4aa4-b8fe-4fe79b0d033a",
   "metadata": {
    "execution": {
     "iopub.execute_input": "2025-07-28T10:37:37.878059Z",
     "iopub.status.busy": "2025-07-28T10:37:37.877569Z",
     "iopub.status.idle": "2025-07-28T10:37:37.886245Z",
     "shell.execute_reply": "2025-07-28T10:37:37.885246Z"
    },
    "papermill": {
     "duration": 0.040629,
     "end_time": "2025-07-28T10:37:37.889287",
     "exception": false,
     "start_time": "2025-07-28T10:37:37.848658",
     "status": "completed"
    },
    "tags": []
   },
   "outputs": [
    {
     "data": {
      "text/plain": [
       "0.6699999999999999"
      ]
     },
     "execution_count": 45,
     "metadata": {},
     "output_type": "execute_result"
    }
   ],
   "source": [
    "q_hat"
   ]
  },
  {
   "cell_type": "code",
   "execution_count": 46,
   "id": "92460794-cdac-4be2-ba28-f28c0515a6fb",
   "metadata": {
    "execution": {
     "iopub.execute_input": "2025-07-28T10:37:37.946514Z",
     "iopub.status.busy": "2025-07-28T10:37:37.946045Z",
     "iopub.status.idle": "2025-07-28T10:37:39.351727Z",
     "shell.execute_reply": "2025-07-28T10:37:39.350967Z"
    },
    "papermill": {
     "duration": 1.435095,
     "end_time": "2025-07-28T10:37:39.353234",
     "exception": false,
     "start_time": "2025-07-28T10:37:37.918139",
     "status": "completed"
    },
    "tags": []
   },
   "outputs": [],
   "source": [
    "from fairness_multiverse.conformal import predict_conformal_sets\n",
    "\n",
    "# Generate prediction sets for each test example\n",
    "pred_sets = predict_conformal_sets(model, X_test, q_hat)"
   ]
  },
  {
   "cell_type": "code",
   "execution_count": 47,
   "id": "d90c9a65-e6db-4f5d-80cd-e68fb7e46829",
   "metadata": {
    "execution": {
     "iopub.execute_input": "2025-07-28T10:37:39.379614Z",
     "iopub.status.busy": "2025-07-28T10:37:39.379277Z",
     "iopub.status.idle": "2025-07-28T10:37:39.383649Z",
     "shell.execute_reply": "2025-07-28T10:37:39.382906Z"
    },
    "papermill": {
     "duration": 0.018934,
     "end_time": "2025-07-28T10:37:39.385032",
     "exception": false,
     "start_time": "2025-07-28T10:37:39.366098",
     "status": "completed"
    },
    "tags": []
   },
   "outputs": [],
   "source": [
    "y_true = y_true.squeeze()"
   ]
  },
  {
   "cell_type": "code",
   "execution_count": 48,
   "id": "3a58a54a-1e68-46b9-927a-df01f18aebc8",
   "metadata": {
    "execution": {
     "iopub.execute_input": "2025-07-28T10:37:39.411564Z",
     "iopub.status.busy": "2025-07-28T10:37:39.410861Z",
     "iopub.status.idle": "2025-07-28T10:37:40.074559Z",
     "shell.execute_reply": "2025-07-28T10:37:40.073793Z"
    },
    "papermill": {
     "duration": 0.678121,
     "end_time": "2025-07-28T10:37:40.075983",
     "exception": false,
     "start_time": "2025-07-28T10:37:39.397862",
     "status": "completed"
    },
    "tags": []
   },
   "outputs": [],
   "source": [
    "from fairness_multiverse.conformal import evaluate_sets\n",
    "\n",
    "# Evaluate coverage and average set size on test data\n",
    "metrics = evaluate_sets(pred_sets, y_true)"
   ]
  },
  {
   "cell_type": "markdown",
   "id": "2b569c12-9aaa-4c88-98c9-bbcd0cf3ebb8",
   "metadata": {
    "papermill": {
     "duration": 0.012248,
     "end_time": "2025-07-28T10:37:40.101255",
     "exception": false,
     "start_time": "2025-07-28T10:37:40.089007",
     "status": "completed"
    },
    "tags": []
   },
   "source": [
    "# CP Metrics"
   ]
  },
  {
   "cell_type": "code",
   "execution_count": 49,
   "id": "5ce0a5cb-201f-45a0-ade5-94c7f0bd6095",
   "metadata": {
    "execution": {
     "iopub.execute_input": "2025-07-28T10:37:40.132523Z",
     "iopub.status.busy": "2025-07-28T10:37:40.131974Z",
     "iopub.status.idle": "2025-07-28T10:37:40.143917Z",
     "shell.execute_reply": "2025-07-28T10:37:40.142733Z"
    },
    "papermill": {
     "duration": 0.031972,
     "end_time": "2025-07-28T10:37:40.145446",
     "exception": false,
     "start_time": "2025-07-28T10:37:40.113474",
     "status": "completed"
    },
    "tags": []
   },
   "outputs": [
    {
     "data": {
      "text/plain": [
       "{'coverage': 0.9143239326719429, 'avg_size': 1.1482331958533052}"
      ]
     },
     "execution_count": 49,
     "metadata": {},
     "output_type": "execute_result"
    }
   ],
   "source": [
    "metrics"
   ]
  },
  {
   "cell_type": "code",
   "execution_count": 50,
   "id": "9b9a838d-31c9-430b-ae14-12baee460d17",
   "metadata": {
    "execution": {
     "iopub.execute_input": "2025-07-28T10:37:40.173592Z",
     "iopub.status.busy": "2025-07-28T10:37:40.172938Z",
     "iopub.status.idle": "2025-07-28T10:37:40.179542Z",
     "shell.execute_reply": "2025-07-28T10:37:40.178851Z"
    },
    "papermill": {
     "duration": 0.022146,
     "end_time": "2025-07-28T10:37:40.181079",
     "exception": false,
     "start_time": "2025-07-28T10:37:40.158933",
     "status": "completed"
    },
    "tags": []
   },
   "outputs": [],
   "source": [
    "example_universe = universe.copy()\n",
    "universe_training_size = example_universe.get(\"training_size\")\n",
    "universe_scale = example_universe.get(\"scale\")\n",
    "universe_model = example_universe.get(\"model\")\n",
    "universe_exclude_features = example_universe.get(\"exclude_features\")\n",
    "universe_exclude_subgroups = example_universe.get(\"exclude_subgroups\")"
   ]
  },
  {
   "cell_type": "code",
   "execution_count": 51,
   "id": "f4b6a8ac-9dc0-4245-8a91-5b3b5999c4f9",
   "metadata": {
    "execution": {
     "iopub.execute_input": "2025-07-28T10:37:40.208666Z",
     "iopub.status.busy": "2025-07-28T10:37:40.207856Z",
     "iopub.status.idle": "2025-07-28T10:37:40.213204Z",
     "shell.execute_reply": "2025-07-28T10:37:40.212510Z"
    },
    "papermill": {
     "duration": 0.020133,
     "end_time": "2025-07-28T10:37:40.214566",
     "exception": false,
     "start_time": "2025-07-28T10:37:40.194433",
     "status": "completed"
    },
    "tags": []
   },
   "outputs": [],
   "source": [
    "cp_metrics_dict = {\n",
    "    \"universe_id\": [universe_id],\n",
    "    \"universe_training_size\": [universe_training_size],\n",
    "    \"universe_scale\": [universe_scale],\n",
    "    \"universe_model\": [universe_model],\n",
    "    \"universe_exclude_features\": [universe_exclude_features],\n",
    "    \"universe_exclude_subgroups\": [universe_exclude_subgroups],\n",
    "    \"q_hat\": [q_hat],\n",
    "    \"coverage\": [metrics[\"coverage\"]],\n",
    "    \"avg_size\": [metrics[\"avg_size\"]],\n",
    "}"
   ]
  },
  {
   "cell_type": "code",
   "execution_count": 52,
   "id": "908acbb1-0371-4915-85ca-3fa520d2efe2",
   "metadata": {
    "execution": {
     "iopub.execute_input": "2025-07-28T10:37:40.246468Z",
     "iopub.status.busy": "2025-07-28T10:37:40.246093Z",
     "iopub.status.idle": "2025-07-28T10:37:40.252729Z",
     "shell.execute_reply": "2025-07-28T10:37:40.251923Z"
    },
    "papermill": {
     "duration": 0.021821,
     "end_time": "2025-07-28T10:37:40.254037",
     "exception": false,
     "start_time": "2025-07-28T10:37:40.232216",
     "status": "completed"
    },
    "tags": []
   },
   "outputs": [
    {
     "data": {
      "text/plain": [
       "{'universe_id': ['be08666c10ac6700cf062d6fd5589c6c'],\n",
       " 'universe_training_size': ['5k'],\n",
       " 'universe_scale': ['do-not-scale'],\n",
       " 'universe_model': ['rf'],\n",
       " 'universe_exclude_features': ['nationality-sex'],\n",
       " 'universe_exclude_subgroups': ['keep-all'],\n",
       " 'q_hat': [0.6699999999999999],\n",
       " 'coverage': [0.9143239326719429],\n",
       " 'avg_size': [1.1482331958533052]}"
      ]
     },
     "execution_count": 52,
     "metadata": {},
     "output_type": "execute_result"
    }
   ],
   "source": [
    "cp_metrics_dict"
   ]
  },
  {
   "cell_type": "code",
   "execution_count": 53,
   "id": "33007efc-14e9-4ec6-97ac-56a455c82265",
   "metadata": {
    "execution": {
     "iopub.execute_input": "2025-07-28T10:37:40.282310Z",
     "iopub.status.busy": "2025-07-28T10:37:40.281896Z",
     "iopub.status.idle": "2025-07-28T10:37:40.288137Z",
     "shell.execute_reply": "2025-07-28T10:37:40.287348Z"
    },
    "papermill": {
     "duration": 0.022316,
     "end_time": "2025-07-28T10:37:40.289535",
     "exception": false,
     "start_time": "2025-07-28T10:37:40.267219",
     "status": "completed"
    },
    "tags": []
   },
   "outputs": [],
   "source": [
    "cp_metrics_df = pd.DataFrame(cp_metrics_dict)"
   ]
  },
  {
   "cell_type": "code",
   "execution_count": 54,
   "id": "db12611b-57b2-4910-b9d0-355adfd6e7bf",
   "metadata": {
    "execution": {
     "iopub.execute_input": "2025-07-28T10:37:40.317833Z",
     "iopub.status.busy": "2025-07-28T10:37:40.317292Z",
     "iopub.status.idle": "2025-07-28T10:37:40.331243Z",
     "shell.execute_reply": "2025-07-28T10:37:40.330539Z"
    },
    "papermill": {
     "duration": 0.029311,
     "end_time": "2025-07-28T10:37:40.332607",
     "exception": false,
     "start_time": "2025-07-28T10:37:40.303296",
     "status": "completed"
    },
    "tags": []
   },
   "outputs": [
    {
     "data": {
      "text/html": [
       "<div>\n",
       "<style scoped>\n",
       "    .dataframe tbody tr th:only-of-type {\n",
       "        vertical-align: middle;\n",
       "    }\n",
       "\n",
       "    .dataframe tbody tr th {\n",
       "        vertical-align: top;\n",
       "    }\n",
       "\n",
       "    .dataframe thead th {\n",
       "        text-align: right;\n",
       "    }\n",
       "</style>\n",
       "<table border=\"1\" class=\"dataframe\">\n",
       "  <thead>\n",
       "    <tr style=\"text-align: right;\">\n",
       "      <th></th>\n",
       "      <th>universe_id</th>\n",
       "      <th>universe_training_size</th>\n",
       "      <th>universe_scale</th>\n",
       "      <th>universe_model</th>\n",
       "      <th>universe_exclude_features</th>\n",
       "      <th>universe_exclude_subgroups</th>\n",
       "      <th>q_hat</th>\n",
       "      <th>coverage</th>\n",
       "      <th>avg_size</th>\n",
       "    </tr>\n",
       "  </thead>\n",
       "  <tbody>\n",
       "    <tr>\n",
       "      <th>0</th>\n",
       "      <td>be08666c10ac6700cf062d6fd5589c6c</td>\n",
       "      <td>5k</td>\n",
       "      <td>do-not-scale</td>\n",
       "      <td>rf</td>\n",
       "      <td>nationality-sex</td>\n",
       "      <td>keep-all</td>\n",
       "      <td>0.67</td>\n",
       "      <td>0.914324</td>\n",
       "      <td>1.148233</td>\n",
       "    </tr>\n",
       "  </tbody>\n",
       "</table>\n",
       "</div>"
      ],
      "text/plain": [
       "                        universe_id universe_training_size universe_scale  \\\n",
       "0  be08666c10ac6700cf062d6fd5589c6c                     5k   do-not-scale   \n",
       "\n",
       "  universe_model universe_exclude_features universe_exclude_subgroups  q_hat  \\\n",
       "0             rf           nationality-sex                   keep-all   0.67   \n",
       "\n",
       "   coverage  avg_size  \n",
       "0  0.914324  1.148233  "
      ]
     },
     "execution_count": 54,
     "metadata": {},
     "output_type": "execute_result"
    }
   ],
   "source": [
    "cp_metrics_df"
   ]
  },
  {
   "cell_type": "code",
   "execution_count": 55,
   "id": "b7fbde55-a0a1-47e4-9af6-fe4a17fa8c61",
   "metadata": {
    "execution": {
     "iopub.execute_input": "2025-07-28T10:37:40.364401Z",
     "iopub.status.busy": "2025-07-28T10:37:40.363658Z",
     "iopub.status.idle": "2025-07-28T10:37:40.368214Z",
     "shell.execute_reply": "2025-07-28T10:37:40.367494Z"
    },
    "papermill": {
     "duration": 0.019745,
     "end_time": "2025-07-28T10:37:40.369517",
     "exception": false,
     "start_time": "2025-07-28T10:37:40.349772",
     "status": "completed"
    },
    "tags": []
   },
   "outputs": [],
   "source": [
    "# Conditional Coverage & looking at subgroups"
   ]
  },
  {
   "cell_type": "code",
   "execution_count": 56,
   "id": "027ae886-68dd-4141-96c7-805a5450e1ef",
   "metadata": {
    "execution": {
     "iopub.execute_input": "2025-07-28T10:37:40.397715Z",
     "iopub.status.busy": "2025-07-28T10:37:40.397158Z",
     "iopub.status.idle": "2025-07-28T10:37:40.601735Z",
     "shell.execute_reply": "2025-07-28T10:37:40.600896Z"
    },
    "papermill": {
     "duration": 0.220324,
     "end_time": "2025-07-28T10:37:40.603267",
     "exception": false,
     "start_time": "2025-07-28T10:37:40.382943",
     "status": "completed"
    },
    "tags": []
   },
   "outputs": [],
   "source": [
    "from fairness_multiverse.conformal import build_cp_groups\n",
    "\n",
    "cp_groups_df = build_cp_groups(pred_sets, y_true, X_test.index, org_test)\n",
    "#needs universe_id and setting"
   ]
  },
  {
   "cell_type": "code",
   "execution_count": 57,
   "id": "01d5802c-663a-4d1f-9d69-e036faaffbf7",
   "metadata": {
    "execution": {
     "iopub.execute_input": "2025-07-28T10:37:40.631835Z",
     "iopub.status.busy": "2025-07-28T10:37:40.630990Z",
     "iopub.status.idle": "2025-07-28T10:37:40.635259Z",
     "shell.execute_reply": "2025-07-28T10:37:40.634599Z"
    },
    "papermill": {
     "duration": 0.01943,
     "end_time": "2025-07-28T10:37:40.636621",
     "exception": false,
     "start_time": "2025-07-28T10:37:40.617191",
     "status": "completed"
    },
    "tags": []
   },
   "outputs": [],
   "source": [
    "#delete\n",
    "#cp_groups_df"
   ]
  },
  {
   "cell_type": "code",
   "execution_count": 58,
   "id": "fa424af1-d1eb-443d-b717-2d279ada8408",
   "metadata": {
    "execution": {
     "iopub.execute_input": "2025-07-28T10:37:40.685535Z",
     "iopub.status.busy": "2025-07-28T10:37:40.685045Z",
     "iopub.status.idle": "2025-07-28T10:37:40.690239Z",
     "shell.execute_reply": "2025-07-28T10:37:40.689258Z"
    },
    "papermill": {
     "duration": 0.032956,
     "end_time": "2025-07-28T10:37:40.692223",
     "exception": false,
     "start_time": "2025-07-28T10:37:40.659267",
     "status": "completed"
    },
    "tags": []
   },
   "outputs": [],
   "source": [
    "#delete\n",
    "#percentage = (cp_groups_df['nongerman_female'] == 1).mean() * 100\n",
    "#print(percentage)\n"
   ]
  },
  {
   "cell_type": "code",
   "execution_count": 59,
   "id": "6cbdab96-b2b2-45af-ad54-d0516db2e28d",
   "metadata": {
    "execution": {
     "iopub.execute_input": "2025-07-28T10:37:40.749026Z",
     "iopub.status.busy": "2025-07-28T10:37:40.748015Z",
     "iopub.status.idle": "2025-07-28T10:37:42.539448Z",
     "shell.execute_reply": "2025-07-28T10:37:42.538295Z"
    },
    "papermill": {
     "duration": 1.822889,
     "end_time": "2025-07-28T10:37:42.542232",
     "exception": false,
     "start_time": "2025-07-28T10:37:40.719343",
     "status": "completed"
    },
    "tags": []
   },
   "outputs": [],
   "source": [
    "# Define covered = 1 if true_label is in the predicted set\n",
    "cp_groups_df['covered'] = cp_groups_df.apply(\n",
    "    lambda r: int(r['true_label'] in r['pred_set']),\n",
    "    axis=1\n",
    ")"
   ]
  },
  {
   "cell_type": "code",
   "execution_count": 60,
   "id": "338ff529-1a6b-4b87-a931-8e4788d52aad",
   "metadata": {
    "execution": {
     "iopub.execute_input": "2025-07-28T10:37:42.619277Z",
     "iopub.status.busy": "2025-07-28T10:37:42.618454Z",
     "iopub.status.idle": "2025-07-28T10:37:42.625444Z",
     "shell.execute_reply": "2025-07-28T10:37:42.624167Z"
    },
    "papermill": {
     "duration": 0.047867,
     "end_time": "2025-07-28T10:37:42.628289",
     "exception": false,
     "start_time": "2025-07-28T10:37:42.580422",
     "status": "completed"
    },
    "tags": []
   },
   "outputs": [],
   "source": [
    "#cp_groups_df"
   ]
  },
  {
   "cell_type": "code",
   "execution_count": 61,
   "id": "90032e27-66df-4540-9169-4e89cfbaa758",
   "metadata": {
    "execution": {
     "iopub.execute_input": "2025-07-28T10:37:42.706412Z",
     "iopub.status.busy": "2025-07-28T10:37:42.705811Z",
     "iopub.status.idle": "2025-07-28T10:37:42.719041Z",
     "shell.execute_reply": "2025-07-28T10:37:42.717794Z"
    },
    "papermill": {
     "duration": 0.054783,
     "end_time": "2025-07-28T10:37:42.721473",
     "exception": false,
     "start_time": "2025-07-28T10:37:42.666690",
     "status": "completed"
    },
    "tags": []
   },
   "outputs": [],
   "source": [
    "subgroups = ['frau1','nongerman','nongerman_male','nongerman_female']\n",
    "\n",
    "# Conditional coverage for subgroup==1\n",
    "cond_coverage = {\n",
    "    g: cp_groups_df.loc[cp_groups_df[g]==1, 'covered'].mean()\n",
    "    for g in subgroups\n",
    "}"
   ]
  },
  {
   "cell_type": "code",
   "execution_count": 62,
   "id": "1e348fb1-b9c3-45bc-ba23-f016827a7e0d",
   "metadata": {
    "execution": {
     "iopub.execute_input": "2025-07-28T10:37:42.778510Z",
     "iopub.status.busy": "2025-07-28T10:37:42.777419Z",
     "iopub.status.idle": "2025-07-28T10:37:42.787793Z",
     "shell.execute_reply": "2025-07-28T10:37:42.786363Z"
    },
    "papermill": {
     "duration": 0.039502,
     "end_time": "2025-07-28T10:37:42.789624",
     "exception": false,
     "start_time": "2025-07-28T10:37:42.750122",
     "status": "completed"
    },
    "tags": []
   },
   "outputs": [
    {
     "data": {
      "text/plain": [
       "{'frau1': 0.9114705485914544,\n",
       " 'nongerman': 0.9122550945938359,\n",
       " 'nongerman_male': 0.9263262181392417,\n",
       " 'nongerman_female': 0.8889716840536512}"
      ]
     },
     "execution_count": 62,
     "metadata": {},
     "output_type": "execute_result"
    }
   ],
   "source": [
    "cond_coverage"
   ]
  },
  {
   "cell_type": "code",
   "execution_count": 63,
   "id": "f5093324-c3dd-4d63-bc4c-8d945e5c8bbb",
   "metadata": {
    "execution": {
     "iopub.execute_input": "2025-07-28T10:37:42.840474Z",
     "iopub.status.busy": "2025-07-28T10:37:42.840002Z",
     "iopub.status.idle": "2025-07-28T10:37:42.848015Z",
     "shell.execute_reply": "2025-07-28T10:37:42.846966Z"
    },
    "papermill": {
     "duration": 0.036001,
     "end_time": "2025-07-28T10:37:42.849930",
     "exception": false,
     "start_time": "2025-07-28T10:37:42.813929",
     "status": "completed"
    },
    "tags": []
   },
   "outputs": [],
   "source": [
    "for subgroup, cov in cond_coverage.items():\n",
    "    cp_metrics_df[f\"cov_{subgroup}\"] = cov"
   ]
  },
  {
   "cell_type": "code",
   "execution_count": 64,
   "id": "6e872e10-dbe5-49e8-b554-5030c98ff75d",
   "metadata": {
    "execution": {
     "iopub.execute_input": "2025-07-28T10:37:42.893469Z",
     "iopub.status.busy": "2025-07-28T10:37:42.893070Z",
     "iopub.status.idle": "2025-07-28T10:37:42.908170Z",
     "shell.execute_reply": "2025-07-28T10:37:42.907118Z"
    },
    "papermill": {
     "duration": 0.032397,
     "end_time": "2025-07-28T10:37:42.909638",
     "exception": false,
     "start_time": "2025-07-28T10:37:42.877241",
     "status": "completed"
    },
    "tags": []
   },
   "outputs": [
    {
     "data": {
      "text/html": [
       "<div>\n",
       "<style scoped>\n",
       "    .dataframe tbody tr th:only-of-type {\n",
       "        vertical-align: middle;\n",
       "    }\n",
       "\n",
       "    .dataframe tbody tr th {\n",
       "        vertical-align: top;\n",
       "    }\n",
       "\n",
       "    .dataframe thead th {\n",
       "        text-align: right;\n",
       "    }\n",
       "</style>\n",
       "<table border=\"1\" class=\"dataframe\">\n",
       "  <thead>\n",
       "    <tr style=\"text-align: right;\">\n",
       "      <th></th>\n",
       "      <th>universe_id</th>\n",
       "      <th>universe_training_size</th>\n",
       "      <th>universe_scale</th>\n",
       "      <th>universe_model</th>\n",
       "      <th>universe_exclude_features</th>\n",
       "      <th>universe_exclude_subgroups</th>\n",
       "      <th>q_hat</th>\n",
       "      <th>coverage</th>\n",
       "      <th>avg_size</th>\n",
       "      <th>cov_frau1</th>\n",
       "      <th>cov_nongerman</th>\n",
       "      <th>cov_nongerman_male</th>\n",
       "      <th>cov_nongerman_female</th>\n",
       "    </tr>\n",
       "  </thead>\n",
       "  <tbody>\n",
       "    <tr>\n",
       "      <th>0</th>\n",
       "      <td>be08666c10ac6700cf062d6fd5589c6c</td>\n",
       "      <td>5k</td>\n",
       "      <td>do-not-scale</td>\n",
       "      <td>rf</td>\n",
       "      <td>nationality-sex</td>\n",
       "      <td>keep-all</td>\n",
       "      <td>0.67</td>\n",
       "      <td>0.914324</td>\n",
       "      <td>1.148233</td>\n",
       "      <td>0.911471</td>\n",
       "      <td>0.912255</td>\n",
       "      <td>0.926326</td>\n",
       "      <td>0.888972</td>\n",
       "    </tr>\n",
       "  </tbody>\n",
       "</table>\n",
       "</div>"
      ],
      "text/plain": [
       "                        universe_id universe_training_size universe_scale  \\\n",
       "0  be08666c10ac6700cf062d6fd5589c6c                     5k   do-not-scale   \n",
       "\n",
       "  universe_model universe_exclude_features universe_exclude_subgroups  q_hat  \\\n",
       "0             rf           nationality-sex                   keep-all   0.67   \n",
       "\n",
       "   coverage  avg_size  cov_frau1  cov_nongerman  cov_nongerman_male  \\\n",
       "0  0.914324  1.148233   0.911471       0.912255            0.926326   \n",
       "\n",
       "   cov_nongerman_female  \n",
       "0              0.888972  "
      ]
     },
     "execution_count": 64,
     "metadata": {},
     "output_type": "execute_result"
    }
   ],
   "source": [
    "cp_metrics_df"
   ]
  },
  {
   "cell_type": "markdown",
   "id": "33774451",
   "metadata": {
    "papermill": {
     "duration": 0.016576,
     "end_time": "2025-07-28T10:37:42.940468",
     "exception": false,
     "start_time": "2025-07-28T10:37:42.923892",
     "status": "completed"
    },
    "tags": []
   },
   "source": [
    "# (Fairness) Metrics"
   ]
  },
  {
   "cell_type": "code",
   "execution_count": 65,
   "id": "debc5d62",
   "metadata": {
    "execution": {
     "iopub.execute_input": "2025-07-28T10:37:42.971808Z",
     "iopub.status.busy": "2025-07-28T10:37:42.971253Z",
     "iopub.status.idle": "2025-07-28T10:37:42.986175Z",
     "shell.execute_reply": "2025-07-28T10:37:42.985462Z"
    },
    "papermill": {
     "duration": 0.030678,
     "end_time": "2025-07-28T10:37:42.987610",
     "exception": false,
     "start_time": "2025-07-28T10:37:42.956932",
     "status": "completed"
    },
    "tags": []
   },
   "outputs": [],
   "source": [
    "# do I need to include maxdeutsch1.missing?\n",
    "\n",
    "import numpy as np\n",
    "\n",
    "colname_to_bin = \"maxdeutsch1\"\n",
    "majority_value = org_train[colname_to_bin].mode()[0]\n",
    "\n",
    "org_test[\"majmin\"] = np.where(org_test[colname_to_bin] == majority_value, \"majority\", \"minority\")"
   ]
  },
  {
   "cell_type": "code",
   "execution_count": 66,
   "id": "06a50de5",
   "metadata": {
    "execution": {
     "iopub.execute_input": "2025-07-28T10:37:43.021767Z",
     "iopub.status.busy": "2025-07-28T10:37:43.021308Z",
     "iopub.status.idle": "2025-07-28T10:37:46.052233Z",
     "shell.execute_reply": "2025-07-28T10:37:46.051307Z"
    },
    "papermill": {
     "duration": 3.052347,
     "end_time": "2025-07-28T10:37:46.054267",
     "exception": false,
     "start_time": "2025-07-28T10:37:43.001920",
     "status": "completed"
    },
    "tags": []
   },
   "outputs": [],
   "source": [
    "example_universe = universe.copy()\n",
    "example_universe[\"cutoff\"] = example_universe[\"cutoff\"][0]\n",
    "example_universe[\"eval_fairness_grouping\"] = example_universe[\"eval_fairness_grouping\"][0]\n",
    "fairness_dict, metric_frame = universe_analysis.compute_metrics(\n",
    "    example_universe,\n",
    "    y_pred_prob=probs_test,\n",
    "    y_test=y_true,\n",
    "    org_test=org_test,\n",
    ")"
   ]
  },
  {
   "cell_type": "markdown",
   "id": "f95d4e02",
   "metadata": {
    "papermill": {
     "duration": 0.036614,
     "end_time": "2025-07-28T10:37:46.116315",
     "exception": false,
     "start_time": "2025-07-28T10:37:46.079701",
     "status": "completed"
    },
    "tags": []
   },
   "source": [
    "# Overall"
   ]
  },
  {
   "cell_type": "markdown",
   "id": "bdee4871",
   "metadata": {
    "papermill": {
     "duration": 0.026989,
     "end_time": "2025-07-28T10:37:46.169353",
     "exception": false,
     "start_time": "2025-07-28T10:37:46.142364",
     "status": "completed"
    },
    "tags": []
   },
   "source": [
    "Fairness\n",
    "Main fairness target: Equalized Odds. Seems to be a better fit than equal opportunity, since we're not only interested in Y = 1. Seems to be a better fit than demographic parity, since we also care about accuracy, not just equal distribution of preds.\n",
    "\n",
    "Pick column for computation of fairness metrics\n",
    "\n",
    "Performance\n",
    "Overall performance measures, most interesting in relation to the measures split by group below"
   ]
  },
  {
   "cell_type": "code",
   "execution_count": 67,
   "id": "c4e067c6",
   "metadata": {
    "execution": {
     "iopub.execute_input": "2025-07-28T10:37:46.224185Z",
     "iopub.status.busy": "2025-07-28T10:37:46.223635Z",
     "iopub.status.idle": "2025-07-28T10:37:46.232006Z",
     "shell.execute_reply": "2025-07-28T10:37:46.231068Z"
    },
    "papermill": {
     "duration": 0.042038,
     "end_time": "2025-07-28T10:37:46.237213",
     "exception": false,
     "start_time": "2025-07-28T10:37:46.195175",
     "status": "completed"
    },
    "tags": []
   },
   "outputs": [
    {
     "data": {
      "text/plain": [
       "accuracy                   0.204882\n",
       "balanced accuracy          0.534192\n",
       "f1                         0.239714\n",
       "precision                  0.136614\n",
       "false positive rate        0.908762\n",
       "false negative rate        0.022854\n",
       "selection rate             0.917534\n",
       "count                  89710.000000\n",
       "dtype: float64"
      ]
     },
     "execution_count": 67,
     "metadata": {},
     "output_type": "execute_result"
    }
   ],
   "source": [
    "metric_frame.overall"
   ]
  },
  {
   "cell_type": "markdown",
   "id": "e968fe9d",
   "metadata": {
    "papermill": {
     "duration": 0.039622,
     "end_time": "2025-07-28T10:37:46.302339",
     "exception": false,
     "start_time": "2025-07-28T10:37:46.262717",
     "status": "completed"
    },
    "tags": []
   },
   "source": [
    "By Group"
   ]
  },
  {
   "cell_type": "code",
   "execution_count": 68,
   "id": "ec325bce",
   "metadata": {
    "execution": {
     "iopub.execute_input": "2025-07-28T10:37:46.358935Z",
     "iopub.status.busy": "2025-07-28T10:37:46.358454Z",
     "iopub.status.idle": "2025-07-28T10:37:46.375342Z",
     "shell.execute_reply": "2025-07-28T10:37:46.374341Z"
    },
    "papermill": {
     "duration": 0.055444,
     "end_time": "2025-07-28T10:37:46.383398",
     "exception": false,
     "start_time": "2025-07-28T10:37:46.327954",
     "status": "completed"
    },
    "tags": []
   },
   "outputs": [
    {
     "data": {
      "text/html": [
       "<div>\n",
       "<style scoped>\n",
       "    .dataframe tbody tr th:only-of-type {\n",
       "        vertical-align: middle;\n",
       "    }\n",
       "\n",
       "    .dataframe tbody tr th {\n",
       "        vertical-align: top;\n",
       "    }\n",
       "\n",
       "    .dataframe thead th {\n",
       "        text-align: right;\n",
       "    }\n",
       "</style>\n",
       "<table border=\"1\" class=\"dataframe\">\n",
       "  <thead>\n",
       "    <tr style=\"text-align: right;\">\n",
       "      <th></th>\n",
       "      <th>accuracy</th>\n",
       "      <th>balanced accuracy</th>\n",
       "      <th>f1</th>\n",
       "      <th>precision</th>\n",
       "      <th>false positive rate</th>\n",
       "      <th>false negative rate</th>\n",
       "      <th>selection rate</th>\n",
       "      <th>count</th>\n",
       "    </tr>\n",
       "    <tr>\n",
       "      <th>majmin</th>\n",
       "      <th></th>\n",
       "      <th></th>\n",
       "      <th></th>\n",
       "      <th></th>\n",
       "      <th></th>\n",
       "      <th></th>\n",
       "      <th></th>\n",
       "      <th></th>\n",
       "    </tr>\n",
       "  </thead>\n",
       "  <tbody>\n",
       "    <tr>\n",
       "      <th>majority</th>\n",
       "      <td>0.196776</td>\n",
       "      <td>0.533483</td>\n",
       "      <td>0.245911</td>\n",
       "      <td>0.140369</td>\n",
       "      <td>0.924171</td>\n",
       "      <td>0.008862</td>\n",
       "      <td>0.933020</td>\n",
       "      <td>69170.0</td>\n",
       "    </tr>\n",
       "    <tr>\n",
       "      <th>minority</th>\n",
       "      <td>0.232181</td>\n",
       "      <td>0.532642</td>\n",
       "      <td>0.217048</td>\n",
       "      <td>0.122982</td>\n",
       "      <td>0.857858</td>\n",
       "      <td>0.076858</td>\n",
       "      <td>0.865385</td>\n",
       "      <td>20540.0</td>\n",
       "    </tr>\n",
       "  </tbody>\n",
       "</table>\n",
       "</div>"
      ],
      "text/plain": [
       "          accuracy  balanced accuracy        f1  precision  \\\n",
       "majmin                                                       \n",
       "majority  0.196776           0.533483  0.245911   0.140369   \n",
       "minority  0.232181           0.532642  0.217048   0.122982   \n",
       "\n",
       "          false positive rate  false negative rate  selection rate    count  \n",
       "majmin                                                                       \n",
       "majority             0.924171             0.008862        0.933020  69170.0  \n",
       "minority             0.857858             0.076858        0.865385  20540.0  "
      ]
     },
     "execution_count": 68,
     "metadata": {},
     "output_type": "execute_result"
    }
   ],
   "source": [
    "metric_frame.by_group"
   ]
  },
  {
   "cell_type": "code",
   "execution_count": 69,
   "id": "a9ddbe63",
   "metadata": {
    "execution": {
     "iopub.execute_input": "2025-07-28T10:37:46.442381Z",
     "iopub.status.busy": "2025-07-28T10:37:46.441974Z",
     "iopub.status.idle": "2025-07-28T10:37:49.269837Z",
     "shell.execute_reply": "2025-07-28T10:37:49.268452Z"
    },
    "papermill": {
     "duration": 2.861502,
     "end_time": "2025-07-28T10:37:49.272877",
     "exception": false,
     "start_time": "2025-07-28T10:37:46.411375",
     "status": "completed"
    },
    "tags": []
   },
   "outputs": [
    {
     "data": {
      "text/plain": [
       "array([[<Axes: title={'center': 'accuracy'}, xlabel='majmin'>,\n",
       "        <Axes: title={'center': 'balanced accuracy'}, xlabel='majmin'>,\n",
       "        <Axes: title={'center': 'f1'}, xlabel='majmin'>],\n",
       "       [<Axes: title={'center': 'precision'}, xlabel='majmin'>,\n",
       "        <Axes: title={'center': 'false positive rate'}, xlabel='majmin'>,\n",
       "        <Axes: title={'center': 'false negative rate'}, xlabel='majmin'>],\n",
       "       [<Axes: title={'center': 'selection rate'}, xlabel='majmin'>,\n",
       "        <Axes: title={'center': 'count'}, xlabel='majmin'>,\n",
       "        <Axes: xlabel='majmin'>]], dtype=object)"
      ]
     },
     "execution_count": 69,
     "metadata": {},
     "output_type": "execute_result"
    },
    {
     "data": {
      "image/png": "[encoded data removed]",
      "text/plain": [
       "<Figure size 1200x800 with 9 Axes>"
      ]
     },
     "metadata": {},
     "output_type": "display_data"
    }
   ],
   "source": [
    "# In a graphic\n",
    "metric_frame.by_group.plot.bar(\n",
    "    subplots=True,\n",
    "    layout=[3, 3],\n",
    "    legend=False,\n",
    "    figsize=[12, 8],\n",
    "    title=\"Show all metrics\",\n",
    ")"
   ]
  },
  {
   "cell_type": "markdown",
   "id": "f57a0bac",
   "metadata": {
    "papermill": {
     "duration": 0.041377,
     "end_time": "2025-07-28T10:37:49.357805",
     "exception": false,
     "start_time": "2025-07-28T10:37:49.316428",
     "status": "completed"
    },
    "tags": []
   },
   "source": [
    "# Final Output"
   ]
  },
  {
   "cell_type": "code",
   "execution_count": 70,
   "id": "96d280a3",
   "metadata": {
    "execution": {
     "iopub.execute_input": "2025-07-28T10:37:49.597374Z",
     "iopub.status.busy": "2025-07-28T10:37:49.596471Z",
     "iopub.status.idle": "2025-07-28T10:37:49.607891Z",
     "shell.execute_reply": "2025-07-28T10:37:49.606723Z"
    },
    "papermill": {
     "duration": 0.089522,
     "end_time": "2025-07-28T10:37:49.609725",
     "exception": false,
     "start_time": "2025-07-28T10:37:49.520203",
     "status": "completed"
    },
    "tags": []
   },
   "outputs": [
    {
     "data": {
      "text/plain": [
       "4"
      ]
     },
     "execution_count": 70,
     "metadata": {},
     "output_type": "execute_result"
    }
   ],
   "source": [
    "sub_universes = universe_analysis.generate_sub_universes()\n",
    "len(sub_universes)"
   ]
  },
  {
   "cell_type": "code",
   "execution_count": 71,
   "id": "92adf7ba",
   "metadata": {
    "execution": {
     "iopub.execute_input": "2025-07-28T10:37:49.670228Z",
     "iopub.status.busy": "2025-07-28T10:37:49.669797Z",
     "iopub.status.idle": "2025-07-28T10:37:49.676796Z",
     "shell.execute_reply": "2025-07-28T10:37:49.675647Z"
    },
    "papermill": {
     "duration": 0.04003,
     "end_time": "2025-07-28T10:37:49.679186",
     "exception": false,
     "start_time": "2025-07-28T10:37:49.639156",
     "status": "completed"
    },
    "tags": []
   },
   "outputs": [],
   "source": [
    "def filter_sub_universe_data(sub_universe, org_test):\n",
    "    # Keep all rows — no filtering\n",
    "    keep_rows_mask = np.ones(org_test.shape[0], dtype=bool)\n",
    "\n",
    "    print(f\"[INFO] Keeping all rows: {keep_rows_mask.sum()} rows retained.\")\n",
    "    return keep_rows_mask"
   ]
  },
  {
   "cell_type": "code",
   "execution_count": 72,
   "id": "4a759155",
   "metadata": {
    "execution": {
     "iopub.execute_input": "2025-07-28T10:37:49.742081Z",
     "iopub.status.busy": "2025-07-28T10:37:49.741652Z",
     "iopub.status.idle": "2025-07-28T10:38:01.545291Z",
     "shell.execute_reply": "2025-07-28T10:38:01.544156Z"
    },
    "papermill": {
     "duration": 11.836663,
     "end_time": "2025-07-28T10:38:01.547268",
     "exception": false,
     "start_time": "2025-07-28T10:37:49.710605",
     "status": "completed"
    },
    "tags": []
   },
   "outputs": [
    {
     "name": "stdout",
     "output_type": "stream",
     "text": [
      "Stopping execution_time clock.\n",
      "[INFO] Keeping all rows: 89710 rows retained.\n"
     ]
    },
    {
     "name": "stdout",
     "output_type": "stream",
     "text": [
      "[INFO] Keeping all rows: 89710 rows retained.\n"
     ]
    },
    {
     "name": "stdout",
     "output_type": "stream",
     "text": [
      "[INFO] Keeping all rows: 89710 rows retained.\n"
     ]
    },
    {
     "name": "stdout",
     "output_type": "stream",
     "text": [
      "[INFO] Keeping all rows: 89710 rows retained.\n"
     ]
    },
    {
     "data": {
      "text/html": [
       "<div>\n",
       "<style scoped>\n",
       "    .dataframe tbody tr th:only-of-type {\n",
       "        vertical-align: middle;\n",
       "    }\n",
       "\n",
       "    .dataframe tbody tr th {\n",
       "        vertical-align: top;\n",
       "    }\n",
       "\n",
       "    .dataframe thead th {\n",
       "        text-align: right;\n",
       "    }\n",
       "</style>\n",
       "<table border=\"1\" class=\"dataframe\">\n",
       "  <thead>\n",
       "    <tr style=\"text-align: right;\">\n",
       "      <th></th>\n",
       "      <th>run_no</th>\n",
       "      <th>universe_id</th>\n",
       "      <th>universe_settings</th>\n",
       "      <th>execution_time</th>\n",
       "      <th>test_size_n</th>\n",
       "      <th>test_size_frac</th>\n",
       "      <th>fair_main_equalized_odds_difference</th>\n",
       "      <th>fair_main_equalized_odds_ratio</th>\n",
       "      <th>fair_main_demographic_parity_difference</th>\n",
       "      <th>fair_main_demographic_parity_ratio</th>\n",
       "      <th>...</th>\n",
       "      <th>perf_grp_precision_0</th>\n",
       "      <th>perf_grp_precision_1</th>\n",
       "      <th>perf_grp_false positive rate_0</th>\n",
       "      <th>perf_grp_false positive rate_1</th>\n",
       "      <th>perf_grp_false negative rate_0</th>\n",
       "      <th>perf_grp_false negative rate_1</th>\n",
       "      <th>perf_grp_selection rate_0</th>\n",
       "      <th>perf_grp_selection rate_1</th>\n",
       "      <th>perf_grp_count_0</th>\n",
       "      <th>perf_grp_count_1</th>\n",
       "    </tr>\n",
       "  </thead>\n",
       "  <tbody>\n",
       "    <tr>\n",
       "      <th>0</th>\n",
       "      <td>11</td>\n",
       "      <td>be08666c10ac6700cf062d6fd5589c6c</td>\n",
       "      <td>{\"cutoff\": \"quantile_0.1\", \"eval_fairness_grou...</td>\n",
       "      <td>35.397273</td>\n",
       "      <td>89710</td>\n",
       "      <td>1.0</td>\n",
       "      <td>0.067996</td>\n",
       "      <td>0.928246</td>\n",
       "      <td>0.067635</td>\n",
       "      <td>0.927509</td>\n",
       "      <td>...</td>\n",
       "      <td>NaN</td>\n",
       "      <td>NaN</td>\n",
       "      <td>NaN</td>\n",
       "      <td>NaN</td>\n",
       "      <td>NaN</td>\n",
       "      <td>NaN</td>\n",
       "      <td>NaN</td>\n",
       "      <td>NaN</td>\n",
       "      <td>NaN</td>\n",
       "      <td>NaN</td>\n",
       "    </tr>\n",
       "    <tr>\n",
       "      <th>0</th>\n",
       "      <td>11</td>\n",
       "      <td>be08666c10ac6700cf062d6fd5589c6c</td>\n",
       "      <td>{\"cutoff\": \"quantile_0.1\", \"eval_fairness_grou...</td>\n",
       "      <td>35.397273</td>\n",
       "      <td>89710</td>\n",
       "      <td>1.0</td>\n",
       "      <td>0.067996</td>\n",
       "      <td>0.928246</td>\n",
       "      <td>0.067635</td>\n",
       "      <td>0.927509</td>\n",
       "      <td>...</td>\n",
       "      <td>0.122982</td>\n",
       "      <td>0.140369</td>\n",
       "      <td>0.857858</td>\n",
       "      <td>0.924171</td>\n",
       "      <td>0.076858</td>\n",
       "      <td>0.008862</td>\n",
       "      <td>0.865385</td>\n",
       "      <td>0.933020</td>\n",
       "      <td>20540.0</td>\n",
       "      <td>69170.0</td>\n",
       "    </tr>\n",
       "    <tr>\n",
       "      <th>0</th>\n",
       "      <td>11</td>\n",
       "      <td>be08666c10ac6700cf062d6fd5589c6c</td>\n",
       "      <td>{\"cutoff\": \"quantile_0.25\", \"eval_fairness_gro...</td>\n",
       "      <td>35.397273</td>\n",
       "      <td>89710</td>\n",
       "      <td>1.0</td>\n",
       "      <td>0.125341</td>\n",
       "      <td>0.869236</td>\n",
       "      <td>0.075578</td>\n",
       "      <td>0.904176</td>\n",
       "      <td>...</td>\n",
       "      <td>NaN</td>\n",
       "      <td>NaN</td>\n",
       "      <td>NaN</td>\n",
       "      <td>NaN</td>\n",
       "      <td>NaN</td>\n",
       "      <td>NaN</td>\n",
       "      <td>NaN</td>\n",
       "      <td>NaN</td>\n",
       "      <td>NaN</td>\n",
       "      <td>NaN</td>\n",
       "    </tr>\n",
       "    <tr>\n",
       "      <th>0</th>\n",
       "      <td>11</td>\n",
       "      <td>be08666c10ac6700cf062d6fd5589c6c</td>\n",
       "      <td>{\"cutoff\": \"quantile_0.25\", \"eval_fairness_gro...</td>\n",
       "      <td>35.397273</td>\n",
       "      <td>89710</td>\n",
       "      <td>1.0</td>\n",
       "      <td>0.125341</td>\n",
       "      <td>0.869236</td>\n",
       "      <td>0.075578</td>\n",
       "      <td>0.904176</td>\n",
       "      <td>...</td>\n",
       "      <td>0.134694</td>\n",
       "      <td>0.160587</td>\n",
       "      <td>0.697502</td>\n",
       "      <td>0.762869</td>\n",
       "      <td>0.166807</td>\n",
       "      <td>0.041466</td>\n",
       "      <td>0.713145</td>\n",
       "      <td>0.788723</td>\n",
       "      <td>20540.0</td>\n",
       "      <td>69170.0</td>\n",
       "    </tr>\n",
       "  </tbody>\n",
       "</table>\n",
       "<p>4 rows × 50 columns</p>\n",
       "</div>"
      ],
      "text/plain": [
       "  run_no                       universe_id  \\\n",
       "0     11  be08666c10ac6700cf062d6fd5589c6c   \n",
       "0     11  be08666c10ac6700cf062d6fd5589c6c   \n",
       "0     11  be08666c10ac6700cf062d6fd5589c6c   \n",
       "0     11  be08666c10ac6700cf062d6fd5589c6c   \n",
       "\n",
       "                                   universe_settings  execution_time  \\\n",
       "0  {\"cutoff\": \"quantile_0.1\", \"eval_fairness_grou...       35.397273   \n",
       "0  {\"cutoff\": \"quantile_0.1\", \"eval_fairness_grou...       35.397273   \n",
       "0  {\"cutoff\": \"quantile_0.25\", \"eval_fairness_gro...       35.397273   \n",
       "0  {\"cutoff\": \"quantile_0.25\", \"eval_fairness_gro...       35.397273   \n",
       "\n",
       "   test_size_n  test_size_frac  fair_main_equalized_odds_difference  \\\n",
       "0        89710             1.0                             0.067996   \n",
       "0        89710             1.0                             0.067996   \n",
       "0        89710             1.0                             0.125341   \n",
       "0        89710             1.0                             0.125341   \n",
       "\n",
       "   fair_main_equalized_odds_ratio  fair_main_demographic_parity_difference  \\\n",
       "0                        0.928246                                 0.067635   \n",
       "0                        0.928246                                 0.067635   \n",
       "0                        0.869236                                 0.075578   \n",
       "0                        0.869236                                 0.075578   \n",
       "\n",
       "   fair_main_demographic_parity_ratio  ...  perf_grp_precision_0  \\\n",
       "0                            0.927509  ...                   NaN   \n",
       "0                            0.927509  ...              0.122982   \n",
       "0                            0.904176  ...                   NaN   \n",
       "0                            0.904176  ...              0.134694   \n",
       "\n",
       "   perf_grp_precision_1  perf_grp_false positive rate_0  \\\n",
       "0                   NaN                             NaN   \n",
       "0              0.140369                        0.857858   \n",
       "0                   NaN                             NaN   \n",
       "0              0.160587                        0.697502   \n",
       "\n",
       "   perf_grp_false positive rate_1  perf_grp_false negative rate_0  \\\n",
       "0                             NaN                             NaN   \n",
       "0                        0.924171                        0.076858   \n",
       "0                             NaN                             NaN   \n",
       "0                        0.762869                        0.166807   \n",
       "\n",
       "   perf_grp_false negative rate_1  perf_grp_selection rate_0  \\\n",
       "0                             NaN                        NaN   \n",
       "0                        0.008862                   0.865385   \n",
       "0                             NaN                        NaN   \n",
       "0                        0.041466                   0.713145   \n",
       "\n",
       "   perf_grp_selection rate_1  perf_grp_count_0  perf_grp_count_1  \n",
       "0                        NaN               NaN               NaN  \n",
       "0                   0.933020           20540.0           69170.0  \n",
       "0                        NaN               NaN               NaN  \n",
       "0                   0.788723           20540.0           69170.0  \n",
       "\n",
       "[4 rows x 50 columns]"
      ]
     },
     "execution_count": 72,
     "metadata": {},
     "output_type": "execute_result"
    }
   ],
   "source": [
    "final_output = universe_analysis.generate_final_output(\n",
    "    y_pred_prob=probs_test,\n",
    "    y_test=y_true,\n",
    "    org_test=org_test,\n",
    "    filter_data=filter_sub_universe_data,\n",
    "    cp_metrics_df=cp_metrics_df,\n",
    "    save=True,\n",
    ")\n",
    "final_output"
   ]
  },
  {
   "cell_type": "code",
   "execution_count": null,
   "id": "721ff514-cb11-46f8-b6fc-50392f74b5cb",
   "metadata": {
    "papermill": {
     "duration": 0.02986,
     "end_time": "2025-07-28T10:38:01.610081",
     "exception": false,
     "start_time": "2025-07-28T10:38:01.580221",
     "status": "completed"
    },
    "tags": []
   },
   "outputs": [],
   "source": []
  }
 ],
 "metadata": {
  "celltoolbar": "Tags",
  "kernelspec": {
   "display_name": "Python (CMA Fairness)",
   "language": "python",
   "name": "cma_fair_env"
  },
  "language_info": {
   "codemirror_mode": {
    "name": "ipython",
    "version": 3
   },
   "file_extension": ".py",
   "mimetype": "text/x-python",
   "name": "python",
   "nbconvert_exporter": "python",
   "pygments_lexer": "ipython3",
   "version": "3.10.12"
  },
  "papermill": {
   "default_parameters": {},
   "duration": 51.730666,
   "end_time": "2025-07-28T10:38:02.460433",
   "environment_variables": {},
   "exception": null,
   "input_path": "universe_analysis.ipynb",
   "output_path": "output/runs/11/notebooks/m_11-be08666c10ac6700cf062d6fd5589c6c.ipynb",
   "parameters": {
    "output_dir": "output",
    "run_no": "11",
    "seed": "2023",
    "universe": "{\"cutoff\": [\"quantile_0.1\", \"quantile_0.25\"], \"eval_fairness_grouping\": [\"majority-minority\", \"nationality-all\"], \"exclude_features\": \"nationality-sex\", \"exclude_subgroups\": \"keep-all\", \"model\": \"rf\", \"scale\": \"do-not-scale\", \"training_size\": \"5k\"}",
    "universe_id": "be08666c10ac6700cf062d6fd5589c6c"
   },
   "start_time": "2025-07-28T10:37:10.729767",
   "version": "2.6.0"
  }
 },
 "nbformat": 4,
 "nbformat_minor": 5
}