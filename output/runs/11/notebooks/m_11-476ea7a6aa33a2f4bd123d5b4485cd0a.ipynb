{
 "cells": [
  {
   "cell_type": "code",
   "execution_count": 1,
   "id": "f159f837-637b-42ba-96b5-ec9a68c44524",
   "metadata": {
    "execution": {
     "iopub.execute_input": "2025-07-28T11:01:34.754056Z",
     "iopub.status.busy": "2025-07-28T11:01:34.753603Z",
     "iopub.status.idle": "2025-07-28T11:01:34.768820Z",
     "shell.execute_reply": "2025-07-28T11:01:34.767751Z"
    },
    "papermill": {
     "duration": 0.036148,
     "end_time": "2025-07-28T11:01:34.770515",
     "exception": false,
     "start_time": "2025-07-28T11:01:34.734367",
     "status": "completed"
    },
    "tags": []
   },
   "outputs": [
    {
     "name": "stdout",
     "output_type": "stream",
     "text": [
      "/dss/dsshome1/0C/ra93lal2/cma/CMA_Fairness_v2\n"
     ]
    },
    {
     "name": "stderr",
     "output_type": "stream",
     "text": [
      "/dss/dsshome1/0C/ra93lal2/.local/share/virtualenvs/CMA_Fairness_v2-3j10GkSs/lib/python3.10/site-packages/IPython/core/magics/osm.py:393: UserWarning: This is now an optional IPython functionality, using bookmarks requires you to install the `pickleshare` library.\n",
      "  bkms = self.shell.db.get('bookmarks', {})\n",
      "/dss/dsshome1/0C/ra93lal2/.local/share/virtualenvs/CMA_Fairness_v2-3j10GkSs/lib/python3.10/site-packages/IPython/core/magics/osm.py:417: UserWarning: This is now an optional IPython functionality, setting dhist requires you to install the `pickleshare` library.\n",
      "  self.shell.db['dhist'] = compress_dhist(dhist)[-100:]\n"
     ]
    }
   ],
   "source": [
    "%cd ~/cma/CMA_Fairness_v2"
   ]
  },
  {
   "cell_type": "markdown",
   "id": "de2603b9",
   "metadata": {
    "papermill": {
     "duration": 0.019927,
     "end_time": "2025-07-28T11:01:34.810581",
     "exception": false,
     "start_time": "2025-07-28T11:01:34.790654",
     "status": "completed"
    },
    "tags": []
   },
   "source": [
    "The following cell holds the definition of our parameters, these values can be overriden by rendering the with e.g. the following command:\n",
    "\n",
    "papermill -p alpha 0.2 -p ratio 0.3 universe_analysis.ipynb output/test_run.ipynb"
   ]
  },
  {
   "cell_type": "code",
   "execution_count": 2,
   "id": "a80968a0-40bb-4fa9-85ef-2d5eefb01975",
   "metadata": {
    "execution": {
     "iopub.execute_input": "2025-07-28T11:01:34.852664Z",
     "iopub.status.busy": "2025-07-28T11:01:34.852014Z",
     "iopub.status.idle": "2025-07-28T11:01:34.857805Z",
     "shell.execute_reply": "2025-07-28T11:01:34.856965Z"
    },
    "papermill": {
     "duration": 0.028911,
     "end_time": "2025-07-28T11:01:34.859521",
     "exception": false,
     "start_time": "2025-07-28T11:01:34.830610",
     "status": "completed"
    },
    "tags": []
   },
   "outputs": [
    {
     "name": "stdout",
     "output_type": "stream",
     "text": [
      "Current working directory: /dss/dsshome1/0C/ra93lal2/cma/CMA_Fairness_v2\n"
     ]
    }
   ],
   "source": [
    "import os\n",
    "print(\"Current working directory:\", os.getcwd())"
   ]
  },
  {
   "cell_type": "code",
   "execution_count": 3,
   "id": "2dce4c03",
   "metadata": {
    "execution": {
     "iopub.execute_input": "2025-07-28T11:01:34.903743Z",
     "iopub.status.busy": "2025-07-28T11:01:34.903021Z",
     "iopub.status.idle": "2025-07-28T11:01:34.909264Z",
     "shell.execute_reply": "2025-07-28T11:01:34.908278Z"
    },
    "papermill": {
     "duration": 0.030106,
     "end_time": "2025-07-28T11:01:34.910963",
     "exception": false,
     "start_time": "2025-07-28T11:01:34.880857",
     "status": "completed"
    },
    "tags": [
     "parameters"
    ]
   },
   "outputs": [],
   "source": [
    "run_no = 0\n",
    "universe_id = \"test\"\n",
    "universe = {\n",
    "    \"training_size\": \"2014\", # \"25k\", \"5k\", \"1k\", \"2014\"\n",
    "    \"scale\": \"scale\", # \"scale\", \"do-not-scale\",\n",
    "    #\"stratify_split\": \"target\", # \"none\", \"target\", \"protected-attribute\", \"both\",\n",
    "    \"model\": \"elasticnet\", # \"logreg\", \"penalized_logreg\", \"rf\", \"gbm\", \"elasticnet\"\n",
    "    \"cutoff\": [\"quantile_0.15\", \"quantile_0.30\"],\n",
    "    \"exclude_features\": \"age\", # \"none\", \"nationality\", \"sex\", \"nationality-sex\", \"age\"\n",
    "    \"exclude_subgroups\": \"keep-all\", # \"keep-all\", \"drop-non-german\"\n",
    "    \"eval_fairness_grouping\": [\"majority-minority\", \"nationality-all\"]\n",
    "}\n",
    "\n",
    "output_dir=\"./output\"\n",
    "seed=0"
   ]
  },
  {
   "cell_type": "code",
   "execution_count": 4,
   "id": "8725556c",
   "metadata": {
    "execution": {
     "iopub.execute_input": "2025-07-28T11:01:34.954194Z",
     "iopub.status.busy": "2025-07-28T11:01:34.953483Z",
     "iopub.status.idle": "2025-07-28T11:01:34.958831Z",
     "shell.execute_reply": "2025-07-28T11:01:34.957803Z"
    },
    "papermill": {
     "duration": 0.0297,
     "end_time": "2025-07-28T11:01:34.960687",
     "exception": false,
     "start_time": "2025-07-28T11:01:34.930987",
     "status": "completed"
    },
    "tags": [
     "injected-parameters"
    ]
   },
   "outputs": [],
   "source": [
    "# Parameters\n",
    "universe_id = \"476ea7a6aa33a2f4bd123d5b4485cd0a\"\n",
    "run_no = \"11\"\n",
    "universe = \"{\\\"cutoff\\\": [\\\"quantile_0.1\\\", \\\"quantile_0.25\\\"], \\\"eval_fairness_grouping\\\": [\\\"majority-minority\\\", \\\"nationality-all\\\"], \\\"exclude_features\\\": \\\"sex\\\", \\\"exclude_subgroups\\\": \\\"keep-all\\\", \\\"model\\\": \\\"elasticnet\\\", \\\"scale\\\": \\\"scale\\\", \\\"training_size\\\": \\\"2014\\\"}\"\n",
    "output_dir = \"output\"\n",
    "seed = \"2023\"\n"
   ]
  },
  {
   "cell_type": "code",
   "execution_count": 5,
   "id": "1650acaf",
   "metadata": {
    "execution": {
     "iopub.execute_input": "2025-07-28T11:01:35.003997Z",
     "iopub.status.busy": "2025-07-28T11:01:35.003325Z",
     "iopub.status.idle": "2025-07-28T11:01:35.008791Z",
     "shell.execute_reply": "2025-07-28T11:01:35.007689Z"
    },
    "papermill": {
     "duration": 0.029605,
     "end_time": "2025-07-28T11:01:35.010495",
     "exception": false,
     "start_time": "2025-07-28T11:01:34.980890",
     "status": "completed"
    },
    "tags": []
   },
   "outputs": [],
   "source": [
    "import json\n",
    "# Parse universe into dict if it is passed as a string\n",
    "if isinstance(universe, str):\n",
    "    universe = json.loads(universe)"
   ]
  },
  {
   "cell_type": "code",
   "execution_count": 6,
   "id": "16620c48",
   "metadata": {
    "execution": {
     "iopub.execute_input": "2025-07-28T11:01:35.056128Z",
     "iopub.status.busy": "2025-07-28T11:01:35.055477Z",
     "iopub.status.idle": "2025-07-28T11:01:35.104005Z",
     "shell.execute_reply": "2025-07-28T11:01:35.103038Z"
    },
    "papermill": {
     "duration": 0.073585,
     "end_time": "2025-07-28T11:01:35.106019",
     "exception": false,
     "start_time": "2025-07-28T11:01:35.032434",
     "status": "completed"
    },
    "tags": []
   },
   "outputs": [],
   "source": [
    "# Auto-reload the custom package\n",
    "%load_ext autoreload\n",
    "%autoreload 1\n",
    "%aimport fairness_multiverse"
   ]
  },
  {
   "cell_type": "code",
   "execution_count": 7,
   "id": "01c5c9f3",
   "metadata": {
    "execution": {
     "iopub.execute_input": "2025-07-28T11:01:35.144807Z",
     "iopub.status.busy": "2025-07-28T11:01:35.144325Z",
     "iopub.status.idle": "2025-07-28T11:01:37.261782Z",
     "shell.execute_reply": "2025-07-28T11:01:37.260617Z"
    },
    "papermill": {
     "duration": 2.139052,
     "end_time": "2025-07-28T11:01:37.263707",
     "exception": false,
     "start_time": "2025-07-28T11:01:35.124655",
     "status": "completed"
    },
    "tags": []
   },
   "outputs": [],
   "source": [
    "from fairness_multiverse.universe import UniverseAnalysis\n",
    "\n",
    "universe_analysis = UniverseAnalysis(\n",
    "    run_no = run_no,\n",
    "    universe_id = universe_id,\n",
    "    universe = universe,\n",
    "    output_dir=output_dir,\n",
    ")"
   ]
  },
  {
   "cell_type": "code",
   "execution_count": 8,
   "id": "106241f5",
   "metadata": {
    "execution": {
     "iopub.execute_input": "2025-07-28T11:01:37.302026Z",
     "iopub.status.busy": "2025-07-28T11:01:37.301505Z",
     "iopub.status.idle": "2025-07-28T11:01:37.308715Z",
     "shell.execute_reply": "2025-07-28T11:01:37.307768Z"
    },
    "papermill": {
     "duration": 0.027845,
     "end_time": "2025-07-28T11:01:37.310357",
     "exception": false,
     "start_time": "2025-07-28T11:01:37.282512",
     "status": "completed"
    },
    "tags": []
   },
   "outputs": [
    {
     "name": "stdout",
     "output_type": "stream",
     "text": [
      "Using Seed: 2023\n"
     ]
    }
   ],
   "source": [
    "import numpy as np\n",
    "parsed_seed = int(seed)\n",
    "np.random.seed(parsed_seed)\n",
    "print(f\"Using Seed: {parsed_seed}\")"
   ]
  },
  {
   "cell_type": "markdown",
   "id": "e0ebdc57",
   "metadata": {
    "papermill": {
     "duration": 0.017938,
     "end_time": "2025-07-28T11:01:37.346913",
     "exception": false,
     "start_time": "2025-07-28T11:01:37.328975",
     "status": "completed"
    },
    "tags": []
   },
   "source": [
    "# Loading Data"
   ]
  },
  {
   "cell_type": "markdown",
   "id": "681925a3",
   "metadata": {
    "papermill": {
     "duration": 0.017847,
     "end_time": "2025-07-28T11:01:37.382816",
     "exception": false,
     "start_time": "2025-07-28T11:01:37.364969",
     "status": "completed"
    },
    "tags": []
   },
   "source": [
    "Load siab_train, siab_test, siab_calib and/or \n",
    "load siab_train_features, siab_train_labels"
   ]
  },
  {
   "cell_type": "code",
   "execution_count": 9,
   "id": "f0496b8a",
   "metadata": {
    "execution": {
     "iopub.execute_input": "2025-07-28T11:01:37.421510Z",
     "iopub.status.busy": "2025-07-28T11:01:37.420937Z",
     "iopub.status.idle": "2025-07-28T11:01:50.711380Z",
     "shell.execute_reply": "2025-07-28T11:01:50.708985Z"
    },
    "papermill": {
     "duration": 13.31203,
     "end_time": "2025-07-28T11:01:50.713209",
     "exception": false,
     "start_time": "2025-07-28T11:01:37.401179",
     "status": "completed"
    },
    "tags": []
   },
   "outputs": [
    {
     "name": "stdout",
     "output_type": "stream",
     "text": [
      "Loading SIAB data from cache: data/siab_cached.csv.gz\n"
     ]
    },
    {
     "name": "stdout",
     "output_type": "stream",
     "text": [
      "(643690, 164)\n"
     ]
    }
   ],
   "source": [
    "from pathlib import Path\n",
    "import pandas as pd\n",
    "\n",
    "# File paths\n",
    "raw_file = Path(\"data/raw/siab.csv\")\n",
    "cache_file = Path(\"data/siab_cached.csv.gz\")\n",
    "\n",
    "# Ensure cache directory exists\n",
    "cache_file.parent.mkdir(parents=True, exist_ok=True)\n",
    "\n",
    "# Load with simple caching\n",
    "if cache_file.exists():\n",
    "    print(f\"Loading SIAB data from cache: {cache_file}\")\n",
    "    siab = pd.read_csv(cache_file, compression='gzip')\n",
    "else:\n",
    "    print(f\"Cache not found. Reading raw SIAB data: {raw_file}\")\n",
    "    siab = pd.read_csv(raw_file)\n",
    "    siab.to_csv(cache_file, index=False, compression='gzip')\n",
    "    print(f\"Cached SIAB data to: {cache_file}\")\n",
    "\n",
    "# Now use `siab` DataFrame as needed\n",
    "print(siab.shape)"
   ]
  },
  {
   "cell_type": "code",
   "execution_count": 10,
   "id": "db0ca512-5f53-4dba-abdb-a2888bca41ba",
   "metadata": {
    "execution": {
     "iopub.execute_input": "2025-07-28T11:01:50.758508Z",
     "iopub.status.busy": "2025-07-28T11:01:50.758005Z",
     "iopub.status.idle": "2025-07-28T11:01:50.763924Z",
     "shell.execute_reply": "2025-07-28T11:01:50.762976Z"
    },
    "papermill": {
     "duration": 0.029112,
     "end_time": "2025-07-28T11:01:50.765641",
     "exception": false,
     "start_time": "2025-07-28T11:01:50.736529",
     "status": "completed"
    },
    "tags": []
   },
   "outputs": [],
   "source": [
    "#siab"
   ]
  },
  {
   "cell_type": "code",
   "execution_count": 11,
   "id": "a0edb063",
   "metadata": {
    "execution": {
     "iopub.execute_input": "2025-07-28T11:01:50.808295Z",
     "iopub.status.busy": "2025-07-28T11:01:50.807637Z",
     "iopub.status.idle": "2025-07-28T11:01:50.812722Z",
     "shell.execute_reply": "2025-07-28T11:01:50.811644Z"
    },
    "papermill": {
     "duration": 0.028557,
     "end_time": "2025-07-28T11:01:50.814559",
     "exception": false,
     "start_time": "2025-07-28T11:01:50.786002",
     "status": "completed"
    },
    "tags": []
   },
   "outputs": [],
   "source": [
    "#import pandas as pd\n",
    "#\n",
    "#X_train = pd.read_csv(\"./data/X_train.csv\")\n",
    "#y_train = pd.read_csv(\"./data/y_train.csv\")"
   ]
  },
  {
   "cell_type": "code",
   "execution_count": 12,
   "id": "63d08085",
   "metadata": {
    "execution": {
     "iopub.execute_input": "2025-07-28T11:01:50.860681Z",
     "iopub.status.busy": "2025-07-28T11:01:50.859795Z",
     "iopub.status.idle": "2025-07-28T11:01:50.865527Z",
     "shell.execute_reply": "2025-07-28T11:01:50.864321Z"
    },
    "papermill": {
     "duration": 0.030761,
     "end_time": "2025-07-28T11:01:50.867352",
     "exception": false,
     "start_time": "2025-07-28T11:01:50.836591",
     "status": "completed"
    },
    "tags": []
   },
   "outputs": [],
   "source": [
    "#X_test = pd.read_csv(\"./data/X_test.csv\")\n",
    "#y_true = pd.read_csv(\"./data/y_test.csv\")"
   ]
  },
  {
   "cell_type": "code",
   "execution_count": 13,
   "id": "98a8d0fa-1d3d-4ed8-bb2c-281470e24add",
   "metadata": {
    "execution": {
     "iopub.execute_input": "2025-07-28T11:01:50.909968Z",
     "iopub.status.busy": "2025-07-28T11:01:50.909110Z",
     "iopub.status.idle": "2025-07-28T11:01:50.914229Z",
     "shell.execute_reply": "2025-07-28T11:01:50.913295Z"
    },
    "papermill": {
     "duration": 0.02857,
     "end_time": "2025-07-28T11:01:50.916401",
     "exception": false,
     "start_time": "2025-07-28T11:01:50.887831",
     "status": "completed"
    },
    "tags": []
   },
   "outputs": [],
   "source": [
    "# Calibration data for conformal\n",
    "#X_calib = pd.read_csv(\"./data/X_calib.csv\")\n",
    "#y_calib = pd.read_csv(\"./data/y_calib.csv\")"
   ]
  },
  {
   "cell_type": "markdown",
   "id": "9901737e-04df-44f0-9100-f5ad144ed040",
   "metadata": {
    "papermill": {
     "duration": 0.021613,
     "end_time": "2025-07-28T11:01:50.958810",
     "exception": false,
     "start_time": "2025-07-28T11:01:50.937197",
     "status": "completed"
    },
    "tags": []
   },
   "source": [
    "# Splitting Data and Setting Training Data Size"
   ]
  },
  {
   "cell_type": "code",
   "execution_count": 14,
   "id": "acbc8f7d-8fc8-4e86-8c59-5dcb0f58384b",
   "metadata": {
    "execution": {
     "iopub.execute_input": "2025-07-28T11:01:51.003394Z",
     "iopub.status.busy": "2025-07-28T11:01:51.002859Z",
     "iopub.status.idle": "2025-07-28T11:01:51.011838Z",
     "shell.execute_reply": "2025-07-28T11:01:51.010842Z"
    },
    "papermill": {
     "duration": 0.033041,
     "end_time": "2025-07-28T11:01:51.013616",
     "exception": false,
     "start_time": "2025-07-28T11:01:50.980575",
     "status": "completed"
    },
    "tags": []
   },
   "outputs": [],
   "source": [
    "def sample_by_year(df, training_size, random_state=42):\n",
    "    if training_size == \"2014\":\n",
    "        return df[df[\"year\"] == 2014].reset_index(drop=True)\n",
    "    \n",
    "    size_map = {\n",
    "        \"25k\": 5000,\n",
    "        \"5k\": 1000,\n",
    "        \"1k\": 200\n",
    "    }\n",
    "\n",
    "    if training_size not in size_map:\n",
    "        return df.reset_index(drop=True)  # use all data\n",
    "\n",
    "    n_per_year = size_map[training_size]\n",
    "    grouped = df.groupby(\"year\")\n",
    "    sampled = grouped.apply(lambda x: x.sample(n=min(n_per_year, len(x)), random_state=random_state))\n",
    "    return sampled.reset_index(drop=True)"
   ]
  },
  {
   "cell_type": "code",
   "execution_count": 15,
   "id": "6d931f52-beaf-43ff-9e78-9d44a448d54e",
   "metadata": {
    "execution": {
     "iopub.execute_input": "2025-07-28T11:01:51.059073Z",
     "iopub.status.busy": "2025-07-28T11:01:51.058372Z",
     "iopub.status.idle": "2025-07-28T11:01:51.197642Z",
     "shell.execute_reply": "2025-07-28T11:01:51.196581Z"
    },
    "papermill": {
     "duration": 0.164717,
     "end_time": "2025-07-28T11:01:51.199913",
     "exception": false,
     "start_time": "2025-07-28T11:01:51.035196",
     "status": "completed"
    },
    "tags": []
   },
   "outputs": [],
   "source": [
    "siab_s = sample_by_year(siab, universe[\"training_size\"])"
   ]
  },
  {
   "cell_type": "code",
   "execution_count": 16,
   "id": "5db0a40e-a4e2-4920-be85-b12ae061d70d",
   "metadata": {
    "execution": {
     "iopub.execute_input": "2025-07-28T11:01:51.243795Z",
     "iopub.status.busy": "2025-07-28T11:01:51.242969Z",
     "iopub.status.idle": "2025-07-28T11:01:51.259655Z",
     "shell.execute_reply": "2025-07-28T11:01:51.258615Z"
    },
    "papermill": {
     "duration": 0.039591,
     "end_time": "2025-07-28T11:01:51.261350",
     "exception": false,
     "start_time": "2025-07-28T11:01:51.221759",
     "status": "completed"
    },
    "tags": []
   },
   "outputs": [
    {
     "data": {
      "text/plain": [
       "year\n",
       "2014    87158\n",
       "dtype: int64"
      ]
     },
     "metadata": {},
     "output_type": "display_data"
    }
   ],
   "source": [
    "display(siab_s.groupby(\"year\").size())"
   ]
  },
  {
   "cell_type": "code",
   "execution_count": 17,
   "id": "a561edb4-d032-42cb-8256-22eac1111c64",
   "metadata": {
    "execution": {
     "iopub.execute_input": "2025-07-28T11:01:51.307617Z",
     "iopub.status.busy": "2025-07-28T11:01:51.306936Z",
     "iopub.status.idle": "2025-07-28T11:01:51.606216Z",
     "shell.execute_reply": "2025-07-28T11:01:51.605194Z"
    },
    "papermill": {
     "duration": 0.324721,
     "end_time": "2025-07-28T11:01:51.608191",
     "exception": false,
     "start_time": "2025-07-28T11:01:51.283470",
     "status": "completed"
    },
    "tags": []
   },
   "outputs": [],
   "source": [
    "siab_train = siab_s[siab_s.year < 2015]\n",
    "siab_calib = siab[siab.year == 2015]\n",
    "siab_test = siab[siab.year == 2016]"
   ]
  },
  {
   "cell_type": "code",
   "execution_count": 18,
   "id": "472de16f-c3db-4916-846b-1f0de9cf1746",
   "metadata": {
    "execution": {
     "iopub.execute_input": "2025-07-28T11:01:51.653851Z",
     "iopub.status.busy": "2025-07-28T11:01:51.653187Z",
     "iopub.status.idle": "2025-07-28T11:01:51.707495Z",
     "shell.execute_reply": "2025-07-28T11:01:51.706378Z"
    },
    "papermill": {
     "duration": 0.079795,
     "end_time": "2025-07-28T11:01:51.709499",
     "exception": false,
     "start_time": "2025-07-28T11:01:51.629704",
     "status": "completed"
    },
    "tags": []
   },
   "outputs": [],
   "source": [
    "X_train = siab_train.iloc[:,4:164]\n",
    "y_train = siab_train.iloc[:, [3]]"
   ]
  },
  {
   "cell_type": "code",
   "execution_count": 19,
   "id": "828c96af-f43a-4ed6-ba47-8ac73a47d56c",
   "metadata": {
    "execution": {
     "iopub.execute_input": "2025-07-28T11:01:51.755947Z",
     "iopub.status.busy": "2025-07-28T11:01:51.754923Z",
     "iopub.status.idle": "2025-07-28T11:01:51.815161Z",
     "shell.execute_reply": "2025-07-28T11:01:51.814071Z"
    },
    "papermill": {
     "duration": 0.085598,
     "end_time": "2025-07-28T11:01:51.817256",
     "exception": false,
     "start_time": "2025-07-28T11:01:51.731658",
     "status": "completed"
    },
    "tags": []
   },
   "outputs": [],
   "source": [
    "X_calib = siab_calib.iloc[:,4:164]\n",
    "y_calib = siab_calib.iloc[:, [3]]"
   ]
  },
  {
   "cell_type": "code",
   "execution_count": 20,
   "id": "c34be9c3-6bd6-476e-acd3-845840e303be",
   "metadata": {
    "execution": {
     "iopub.execute_input": "2025-07-28T11:01:51.864703Z",
     "iopub.status.busy": "2025-07-28T11:01:51.864042Z",
     "iopub.status.idle": "2025-07-28T11:01:51.918837Z",
     "shell.execute_reply": "2025-07-28T11:01:51.917723Z"
    },
    "papermill": {
     "duration": 0.08081,
     "end_time": "2025-07-28T11:01:51.921174",
     "exception": false,
     "start_time": "2025-07-28T11:01:51.840364",
     "status": "completed"
    },
    "tags": []
   },
   "outputs": [],
   "source": [
    "X_test = siab_test.iloc[:,4:164]\n",
    "y_true = siab_test.iloc[:, [3]]"
   ]
  },
  {
   "cell_type": "code",
   "execution_count": 21,
   "id": "e6c733c5",
   "metadata": {
    "execution": {
     "iopub.execute_input": "2025-07-28T11:01:51.967225Z",
     "iopub.status.busy": "2025-07-28T11:01:51.966682Z",
     "iopub.status.idle": "2025-07-28T11:01:52.109926Z",
     "shell.execute_reply": "2025-07-28T11:01:52.108825Z"
    },
    "papermill": {
     "duration": 0.168434,
     "end_time": "2025-07-28T11:01:52.112322",
     "exception": false,
     "start_time": "2025-07-28T11:01:51.943888",
     "status": "completed"
    },
    "tags": []
   },
   "outputs": [],
   "source": [
    "# Auxiliary data needed downstream in the pipeline\n",
    "\n",
    "org_train = X_train.copy()\n",
    "org_test = X_test.copy()\n",
    "org_calib = X_calib.copy()"
   ]
  },
  {
   "cell_type": "markdown",
   "id": "0a4a1b33",
   "metadata": {
    "papermill": {
     "duration": 0.021217,
     "end_time": "2025-07-28T11:01:52.155748",
     "exception": false,
     "start_time": "2025-07-28T11:01:52.134531",
     "status": "completed"
    },
    "tags": []
   },
   "source": [
    "# Preprocessing Data"
   ]
  },
  {
   "cell_type": "code",
   "execution_count": 22,
   "id": "ca879031",
   "metadata": {
    "execution": {
     "iopub.execute_input": "2025-07-28T11:01:52.201744Z",
     "iopub.status.busy": "2025-07-28T11:01:52.201118Z",
     "iopub.status.idle": "2025-07-28T11:01:52.207580Z",
     "shell.execute_reply": "2025-07-28T11:01:52.206683Z"
    },
    "papermill": {
     "duration": 0.030955,
     "end_time": "2025-07-28T11:01:52.209208",
     "exception": false,
     "start_time": "2025-07-28T11:01:52.178253",
     "status": "completed"
    },
    "tags": []
   },
   "outputs": [],
   "source": [
    "# EXCLUDE PROTECTED FEATURES\n",
    "# ----------------------\n",
    "# \"exclude_features\": \"none\", # \"nationality\", \"sex\", \"nationality-sex\"\n",
    "\n",
    "excluded_features = universe[\"exclude_features\"].split(\"-\") # split, e.g.: \"nationality-sex\" -> [\"nationality\", \"sex\"]\n",
    "excluded_features_dictionary = {\n",
    "    \"nationality\": [\"maxdeutsch1\", \"maxdeutsch.Missing.\"],\n",
    "    \"sex\": [\"frau1\"],\n",
    "    \"age\": [\"age\"],\n",
    "}\n"
   ]
  },
  {
   "cell_type": "code",
   "execution_count": 23,
   "id": "b745ac60",
   "metadata": {
    "execution": {
     "iopub.execute_input": "2025-07-28T11:01:52.256551Z",
     "iopub.status.busy": "2025-07-28T11:01:52.255800Z",
     "iopub.status.idle": "2025-07-28T11:01:52.261845Z",
     "shell.execute_reply": "2025-07-28T11:01:52.260861Z"
    },
    "papermill": {
     "duration": 0.032095,
     "end_time": "2025-07-28T11:01:52.263680",
     "exception": false,
     "start_time": "2025-07-28T11:01:52.231585",
     "status": "completed"
    },
    "tags": []
   },
   "outputs": [],
   "source": [
    "# Code nice names to column names\n",
    "\n",
    "excluded_features_columns = [\n",
    "    excluded_features_dictionary[f] for f in excluded_features if len(f) > 0 and f != \"none\"\n",
    "]"
   ]
  },
  {
   "cell_type": "code",
   "execution_count": 24,
   "id": "f84f73a2",
   "metadata": {
    "execution": {
     "iopub.execute_input": "2025-07-28T11:01:52.311515Z",
     "iopub.status.busy": "2025-07-28T11:01:52.310805Z",
     "iopub.status.idle": "2025-07-28T11:01:52.318156Z",
     "shell.execute_reply": "2025-07-28T11:01:52.317230Z"
    },
    "papermill": {
     "duration": 0.03314,
     "end_time": "2025-07-28T11:01:52.319761",
     "exception": false,
     "start_time": "2025-07-28T11:01:52.286621",
     "status": "completed"
    },
    "tags": []
   },
   "outputs": [],
   "source": [
    "from utils import flatten_once\n",
    "\n",
    "excluded_features_columns = flatten_once(excluded_features_columns)"
   ]
  },
  {
   "cell_type": "code",
   "execution_count": 25,
   "id": "884dea22",
   "metadata": {
    "execution": {
     "iopub.execute_input": "2025-07-28T11:01:52.366700Z",
     "iopub.status.busy": "2025-07-28T11:01:52.365804Z",
     "iopub.status.idle": "2025-07-28T11:01:52.419339Z",
     "shell.execute_reply": "2025-07-28T11:01:52.418183Z"
    },
    "papermill": {
     "duration": 0.079823,
     "end_time": "2025-07-28T11:01:52.421299",
     "exception": false,
     "start_time": "2025-07-28T11:01:52.341476",
     "status": "completed"
    },
    "tags": []
   },
   "outputs": [
    {
     "name": "stdout",
     "output_type": "stream",
     "text": [
      "Dropping features: ['frau1']\n"
     ]
    }
   ],
   "source": [
    "if len(excluded_features_columns) > 0:\n",
    "    print(f\"Dropping features: {excluded_features_columns}\")\n",
    "    X_train.drop(excluded_features_columns, axis=1, inplace=True)"
   ]
  },
  {
   "cell_type": "code",
   "execution_count": 26,
   "id": "95ab8b16",
   "metadata": {
    "execution": {
     "iopub.execute_input": "2025-07-28T11:01:52.467042Z",
     "iopub.status.busy": "2025-07-28T11:01:52.466445Z",
     "iopub.status.idle": "2025-07-28T11:01:52.520888Z",
     "shell.execute_reply": "2025-07-28T11:01:52.519891Z"
    },
    "papermill": {
     "duration": 0.079036,
     "end_time": "2025-07-28T11:01:52.522885",
     "exception": false,
     "start_time": "2025-07-28T11:01:52.443849",
     "status": "completed"
    },
    "tags": []
   },
   "outputs": [
    {
     "name": "stdout",
     "output_type": "stream",
     "text": [
      "Dropping features: ['frau1']\n"
     ]
    }
   ],
   "source": [
    "if len(excluded_features_columns) > 0:\n",
    "    print(f\"Dropping features: {excluded_features_columns}\")\n",
    "    X_test.drop(excluded_features_columns, axis=1, inplace=True)"
   ]
  },
  {
   "cell_type": "code",
   "execution_count": 27,
   "id": "1853aaf5-fb9f-46cb-a2b5-8ea4ae2237e4",
   "metadata": {
    "execution": {
     "iopub.execute_input": "2025-07-28T11:01:52.566999Z",
     "iopub.status.busy": "2025-07-28T11:01:52.566283Z",
     "iopub.status.idle": "2025-07-28T11:01:52.621868Z",
     "shell.execute_reply": "2025-07-28T11:01:52.620669Z"
    },
    "papermill": {
     "duration": 0.079962,
     "end_time": "2025-07-28T11:01:52.624770",
     "exception": false,
     "start_time": "2025-07-28T11:01:52.544808",
     "status": "completed"
    },
    "tags": []
   },
   "outputs": [
    {
     "name": "stdout",
     "output_type": "stream",
     "text": [
      "Dropping features: ['frau1']\n"
     ]
    }
   ],
   "source": [
    "if len(excluded_features_columns) > 0:\n",
    "    print(f\"Dropping features: {excluded_features_columns}\")\n",
    "    X_calib.drop(excluded_features_columns, axis=1, inplace=True)"
   ]
  },
  {
   "cell_type": "code",
   "execution_count": 28,
   "id": "6727d079-03e5-481e-9d38-292a90b7a0a8",
   "metadata": {
    "execution": {
     "iopub.execute_input": "2025-07-28T11:01:52.671624Z",
     "iopub.status.busy": "2025-07-28T11:01:52.670774Z",
     "iopub.status.idle": "2025-07-28T11:01:52.676108Z",
     "shell.execute_reply": "2025-07-28T11:01:52.675162Z"
    },
    "papermill": {
     "duration": 0.030425,
     "end_time": "2025-07-28T11:01:52.678097",
     "exception": false,
     "start_time": "2025-07-28T11:01:52.647672",
     "status": "completed"
    },
    "tags": []
   },
   "outputs": [],
   "source": [
    "# SPLIT & STRATIFY DATA\n",
    "# ----------------------"
   ]
  },
  {
   "cell_type": "code",
   "execution_count": 29,
   "id": "76c4dc6d",
   "metadata": {
    "execution": {
     "iopub.execute_input": "2025-07-28T11:01:52.725280Z",
     "iopub.status.busy": "2025-07-28T11:01:52.724423Z",
     "iopub.status.idle": "2025-07-28T11:01:52.730724Z",
     "shell.execute_reply": "2025-07-28T11:01:52.729637Z"
    },
    "papermill": {
     "duration": 0.032176,
     "end_time": "2025-07-28T11:01:52.732649",
     "exception": false,
     "start_time": "2025-07-28T11:01:52.700473",
     "status": "completed"
    },
    "tags": []
   },
   "outputs": [],
   "source": [
    "# EXCLUDE CERTAIN SUBGROUPS\n",
    "# ----------------------\n",
    "\n",
    "mode = universe.get(\"exclude_subgroups\", \"keep-all\") \n",
    "# Fetches the exclude_subgroups setting from the universe dict.\n",
    "# Defaults to \"keep-all\" if the key is missing."
   ]
  },
  {
   "cell_type": "code",
   "execution_count": 30,
   "id": "21994072",
   "metadata": {
    "execution": {
     "iopub.execute_input": "2025-07-28T11:01:52.791964Z",
     "iopub.status.busy": "2025-07-28T11:01:52.791382Z",
     "iopub.status.idle": "2025-07-28T11:01:52.800011Z",
     "shell.execute_reply": "2025-07-28T11:01:52.798800Z"
    },
    "papermill": {
     "duration": 0.043462,
     "end_time": "2025-07-28T11:01:52.802528",
     "exception": false,
     "start_time": "2025-07-28T11:01:52.759066",
     "status": "completed"
    },
    "tags": []
   },
   "outputs": [],
   "source": [
    "if mode == \"keep-all\":\n",
    "    keep_mask = pd.Series(True, index=org_train.index)\n",
    "\n",
    "# org_train contains the original feature columns from features_org (in Simson)\n",
    "# features_org contains unprocessed features, for me X_train at beginning ???\n",
    "# For keep-all, creates a boolean Series (keep_mask) of all True, so no rows are removed.\n",
    "\n",
    "elif mode == \"drop-non-german\":\n",
    "    keep_mask = org_train[\"maxdeutsch1\"] == 1 # ??? what about missing values?\n",
    "\n",
    "else:\n",
    "    raise ValueError(f\"Unsupported mode for exclude_subgroups: {mode}\")\n"
   ]
  },
  {
   "cell_type": "code",
   "execution_count": 31,
   "id": "71651440",
   "metadata": {
    "execution": {
     "iopub.execute_input": "2025-07-28T11:01:52.848095Z",
     "iopub.status.busy": "2025-07-28T11:01:52.847142Z",
     "iopub.status.idle": "2025-07-28T11:01:52.854135Z",
     "shell.execute_reply": "2025-07-28T11:01:52.853189Z"
    },
    "papermill": {
     "duration": 0.03041,
     "end_time": "2025-07-28T11:01:52.855915",
     "exception": false,
     "start_time": "2025-07-28T11:01:52.825505",
     "status": "completed"
    },
    "tags": []
   },
   "outputs": [],
   "source": [
    "n_drop = (~keep_mask).sum() # Calculates how many rows are set to be dropped\n",
    "if n_drop > 0:\n",
    "    pct = n_drop / len(keep_mask) * 100\n",
    "    print(f\"Dropping {n_drop} rows ({pct:.2f}%) where mode='{mode}'\")"
   ]
  },
  {
   "cell_type": "code",
   "execution_count": 32,
   "id": "5fb8eee5",
   "metadata": {
    "execution": {
     "iopub.execute_input": "2025-07-28T11:01:52.905631Z",
     "iopub.status.busy": "2025-07-28T11:01:52.904914Z",
     "iopub.status.idle": "2025-07-28T11:01:52.967701Z",
     "shell.execute_reply": "2025-07-28T11:01:52.966657Z"
    },
    "papermill": {
     "duration": 0.089093,
     "end_time": "2025-07-28T11:01:52.969751",
     "exception": false,
     "start_time": "2025-07-28T11:01:52.880658",
     "status": "completed"
    },
    "tags": []
   },
   "outputs": [],
   "source": [
    "X_train = X_train[keep_mask]"
   ]
  },
  {
   "cell_type": "code",
   "execution_count": 33,
   "id": "b202bb3a",
   "metadata": {
    "execution": {
     "iopub.execute_input": "2025-07-28T11:01:53.018255Z",
     "iopub.status.busy": "2025-07-28T11:01:53.017351Z",
     "iopub.status.idle": "2025-07-28T11:01:53.026045Z",
     "shell.execute_reply": "2025-07-28T11:01:53.025086Z"
    },
    "papermill": {
     "duration": 0.033725,
     "end_time": "2025-07-28T11:01:53.027672",
     "exception": false,
     "start_time": "2025-07-28T11:01:52.993947",
     "status": "completed"
    },
    "tags": []
   },
   "outputs": [],
   "source": [
    "y_train = y_train[keep_mask]"
   ]
  },
  {
   "cell_type": "markdown",
   "id": "493e2ac3",
   "metadata": {
    "papermill": {
     "duration": 0.021927,
     "end_time": "2025-07-28T11:01:53.070553",
     "exception": false,
     "start_time": "2025-07-28T11:01:53.048626",
     "status": "completed"
    },
    "tags": []
   },
   "source": [
    "# Model Training"
   ]
  },
  {
   "cell_type": "code",
   "execution_count": 34,
   "id": "679e1268",
   "metadata": {
    "execution": {
     "iopub.execute_input": "2025-07-28T11:01:53.115368Z",
     "iopub.status.busy": "2025-07-28T11:01:53.114572Z",
     "iopub.status.idle": "2025-07-28T11:01:53.228457Z",
     "shell.execute_reply": "2025-07-28T11:01:53.227447Z"
    },
    "papermill": {
     "duration": 0.139024,
     "end_time": "2025-07-28T11:01:53.230618",
     "exception": false,
     "start_time": "2025-07-28T11:01:53.091594",
     "status": "completed"
    },
    "tags": []
   },
   "outputs": [],
   "source": [
    "from sklearn.linear_model import LogisticRegression\n",
    "from sklearn.ensemble import GradientBoostingClassifier, RandomForestClassifier\n",
    "\n",
    "if (universe[\"model\"] == \"logreg\"):\n",
    "    model = LogisticRegression() #penalty=\"none\") #, solver=\"newton-cg\", max_iter=1) # include random_state=19 ?\n",
    "elif (universe[\"model\"] == \"penalized_logreg\"):\n",
    "    model = LogisticRegression(penalty=\"l2\", C=1.0) #, solver=\"newton-cg\", max_iter=1)\n",
    "elif (universe[\"model\"] == \"rf\"):\n",
    "    model = RandomForestClassifier(n_estimators=100, n_jobs=-1)\n",
    "elif (universe[\"model\"] == \"gbm\"):\n",
    "    model = GradientBoostingClassifier()\n",
    "elif (universe[\"model\"] == \"elasticnet\"):\n",
    "    model = LogisticRegression(penalty = 'elasticnet', solver = 'saga', l1_ratio = 0.5, max_iter=5000) # which solver to use?\n",
    "else:\n",
    "    raise \"Unsupported universe.model\""
   ]
  },
  {
   "cell_type": "code",
   "execution_count": 35,
   "id": "0cc8f744",
   "metadata": {
    "execution": {
     "iopub.execute_input": "2025-07-28T11:01:53.275526Z",
     "iopub.status.busy": "2025-07-28T11:01:53.274847Z",
     "iopub.status.idle": "2025-07-28T11:01:53.281860Z",
     "shell.execute_reply": "2025-07-28T11:01:53.280796Z"
    },
    "papermill": {
     "duration": 0.030737,
     "end_time": "2025-07-28T11:01:53.283683",
     "exception": false,
     "start_time": "2025-07-28T11:01:53.252946",
     "status": "completed"
    },
    "tags": []
   },
   "outputs": [],
   "source": [
    "import numpy as np\n",
    "from sklearn.pipeline import Pipeline\n",
    "from sklearn.preprocessing import StandardScaler\n",
    "\n",
    "model = Pipeline([\n",
    "    #(\"continuous_processor\", continuous_processor),\n",
    "    #(\"categorical_preprocessor\", categorical_preprocessor),\n",
    "    (\"scale\", StandardScaler() if universe[\"scale\"] == \"scale\" else None), \n",
    "    (\"model\", model),\n",
    "])"
   ]
  },
  {
   "cell_type": "code",
   "execution_count": 36,
   "id": "9442c04d",
   "metadata": {
    "execution": {
     "iopub.execute_input": "2025-07-28T11:01:53.330757Z",
     "iopub.status.busy": "2025-07-28T11:01:53.329774Z",
     "iopub.status.idle": "2025-07-28T11:02:27.542552Z",
     "shell.execute_reply": "2025-07-28T11:02:27.541143Z"
    },
    "papermill": {
     "duration": 34.245906,
     "end_time": "2025-07-28T11:02:27.552948",
     "exception": false,
     "start_time": "2025-07-28T11:01:53.307042",
     "status": "completed"
    },
    "tags": []
   },
   "outputs": [
    {
     "data": {
      "text/html": [
       "<style>#sk-container-id-1 {color: black;background-color: white;}#sk-container-id-1 pre{padding: 0;}#sk-container-id-1 div.sk-toggleable {background-color: white;}#sk-container-id-1 label.sk-toggleable__label {cursor: pointer;display: block;width: 100%;margin-bottom: 0;padding: 0.3em;box-sizing: border-box;text-align: center;}#sk-container-id-1 label.sk-toggleable__label-arrow:before {content: \"▸\";float: left;margin-right: 0.25em;color: #696969;}#sk-container-id-1 label.sk-toggleable__label-arrow:hover:before {color: black;}#sk-container-id-1 div.sk-estimator:hover label.sk-toggleable__label-arrow:before {color: black;}#sk-container-id-1 div.sk-toggleable__content {max-height: 0;max-width: 0;overflow: hidden;text-align: left;background-color: #f0f8ff;}#sk-container-id-1 div.sk-toggleable__content pre {margin: 0.2em;color: black;border-radius: 0.25em;background-color: #f0f8ff;}#sk-container-id-1 input.sk-toggleable__control:checked~div.sk-toggleable__content {max-height: 200px;max-width: 100%;overflow: auto;}#sk-container-id-1 input.sk-toggleable__control:checked~label.sk-toggleable__label-arrow:before {content: \"▾\";}#sk-container-id-1 div.sk-estimator input.sk-toggleable__control:checked~label.sk-toggleable__label {background-color: #d4ebff;}#sk-container-id-1 div.sk-label input.sk-toggleable__control:checked~label.sk-toggleable__label {background-color: #d4ebff;}#sk-container-id-1 input.sk-hidden--visually {border: 0;clip: rect(1px 1px 1px 1px);clip: rect(1px, 1px, 1px, 1px);height: 1px;margin: -1px;overflow: hidden;padding: 0;position: absolute;width: 1px;}#sk-container-id-1 div.sk-estimator {font-family: monospace;background-color: #f0f8ff;border: 1px dotted black;border-radius: 0.25em;box-sizing: border-box;margin-bottom: 0.5em;}#sk-container-id-1 div.sk-estimator:hover {background-color: #d4ebff;}#sk-container-id-1 div.sk-parallel-item::after {content: \"\";width: 100%;border-bottom: 1px solid gray;flex-grow: 1;}#sk-container-id-1 div.sk-label:hover label.sk-toggleable__label {background-color: #d4ebff;}#sk-container-id-1 div.sk-serial::before {content: \"\";position: absolute;border-left: 1px solid gray;box-sizing: border-box;top: 0;bottom: 0;left: 50%;z-index: 0;}#sk-container-id-1 div.sk-serial {display: flex;flex-direction: column;align-items: center;background-color: white;padding-right: 0.2em;padding-left: 0.2em;position: relative;}#sk-container-id-1 div.sk-item {position: relative;z-index: 1;}#sk-container-id-1 div.sk-parallel {display: flex;align-items: stretch;justify-content: center;background-color: white;position: relative;}#sk-container-id-1 div.sk-item::before, #sk-container-id-1 div.sk-parallel-item::before {content: \"\";position: absolute;border-left: 1px solid gray;box-sizing: border-box;top: 0;bottom: 0;left: 50%;z-index: -1;}#sk-container-id-1 div.sk-parallel-item {display: flex;flex-direction: column;z-index: 1;position: relative;background-color: white;}#sk-container-id-1 div.sk-parallel-item:first-child::after {align-self: flex-end;width: 50%;}#sk-container-id-1 div.sk-parallel-item:last-child::after {align-self: flex-start;width: 50%;}#sk-container-id-1 div.sk-parallel-item:only-child::after {width: 0;}#sk-container-id-1 div.sk-dashed-wrapped {border: 1px dashed gray;margin: 0 0.4em 0.5em 0.4em;box-sizing: border-box;padding-bottom: 0.4em;background-color: white;}#sk-container-id-1 div.sk-label label {font-family: monospace;font-weight: bold;display: inline-block;line-height: 1.2em;}#sk-container-id-1 div.sk-label-container {text-align: center;}#sk-container-id-1 div.sk-container {/* jupyter's `normalize.less` sets `[hidden] { display: none; }` but bootstrap.min.css set `[hidden] { display: none !important; }` so we also need the `!important` here to be able to override the default hidden behavior on the sphinx rendered scikit-learn.org. See: https://github.com/scikit-learn/scikit-learn/issues/21755 */display: inline-block !important;position: relative;}#sk-container-id-1 div.sk-text-repr-fallback {display: none;}</style><div id=\"sk-container-id-1\" class=\"sk-top-container\"><div class=\"sk-text-repr-fallback\"><pre>Pipeline(steps=[(&#x27;scale&#x27;, StandardScaler()),\n",
       "                (&#x27;model&#x27;,\n",
       "                 LogisticRegression(l1_ratio=0.5, max_iter=5000,\n",
       "                                    penalty=&#x27;elasticnet&#x27;, solver=&#x27;saga&#x27;))])</pre><b>In a Jupyter environment, please rerun this cell to show the HTML representation or trust the notebook. <br />On GitHub, the HTML representation is unable to render, please try loading this page with nbviewer.org.</b></div><div class=\"sk-container\" hidden><div class=\"sk-item sk-dashed-wrapped\"><div class=\"sk-label-container\"><div class=\"sk-label sk-toggleable\"><input class=\"sk-toggleable__control sk-hidden--visually\" id=\"sk-estimator-id-1\" type=\"checkbox\" ><label for=\"sk-estimator-id-1\" class=\"sk-toggleable__label sk-toggleable__label-arrow\">Pipeline</label><div class=\"sk-toggleable__content\"><pre>Pipeline(steps=[(&#x27;scale&#x27;, StandardScaler()),\n",
       "                (&#x27;model&#x27;,\n",
       "                 LogisticRegression(l1_ratio=0.5, max_iter=5000,\n",
       "                                    penalty=&#x27;elasticnet&#x27;, solver=&#x27;saga&#x27;))])</pre></div></div></div><div class=\"sk-serial\"><div class=\"sk-item\"><div class=\"sk-estimator sk-toggleable\"><input class=\"sk-toggleable__control sk-hidden--visually\" id=\"sk-estimator-id-2\" type=\"checkbox\" ><label for=\"sk-estimator-id-2\" class=\"sk-toggleable__label sk-toggleable__label-arrow\">StandardScaler</label><div class=\"sk-toggleable__content\"><pre>StandardScaler()</pre></div></div></div><div class=\"sk-item\"><div class=\"sk-estimator sk-toggleable\"><input class=\"sk-toggleable__control sk-hidden--visually\" id=\"sk-estimator-id-3\" type=\"checkbox\" ><label for=\"sk-estimator-id-3\" class=\"sk-toggleable__label sk-toggleable__label-arrow\">LogisticRegression</label><div class=\"sk-toggleable__content\"><pre>LogisticRegression(l1_ratio=0.5, max_iter=5000, penalty=&#x27;elasticnet&#x27;,\n",
       "                   solver=&#x27;saga&#x27;)</pre></div></div></div></div></div></div></div>"
      ],
      "text/plain": [
       "Pipeline(steps=[('scale', StandardScaler()),\n",
       "                ('model',\n",
       "                 LogisticRegression(l1_ratio=0.5, max_iter=5000,\n",
       "                                    penalty='elasticnet', solver='saga'))])"
      ]
     },
     "execution_count": 36,
     "metadata": {},
     "output_type": "execute_result"
    }
   ],
   "source": [
    "model.fit(X_train, y_train.values.ravel())"
   ]
  },
  {
   "cell_type": "code",
   "execution_count": 37,
   "id": "af59f8c0",
   "metadata": {
    "execution": {
     "iopub.execute_input": "2025-07-28T11:02:27.598732Z",
     "iopub.status.busy": "2025-07-28T11:02:27.597798Z",
     "iopub.status.idle": "2025-07-28T11:02:27.604841Z",
     "shell.execute_reply": "2025-07-28T11:02:27.603858Z"
    },
    "papermill": {
     "duration": 0.031865,
     "end_time": "2025-07-28T11:02:27.606480",
     "exception": false,
     "start_time": "2025-07-28T11:02:27.574615",
     "status": "completed"
    },
    "tags": []
   },
   "outputs": [],
   "source": [
    "from fairness_multiverse.universe import predict_w_threshold"
   ]
  },
  {
   "cell_type": "code",
   "execution_count": 38,
   "id": "a7cf2e16",
   "metadata": {
    "execution": {
     "iopub.execute_input": "2025-07-28T11:02:27.652779Z",
     "iopub.status.busy": "2025-07-28T11:02:27.651849Z",
     "iopub.status.idle": "2025-07-28T11:02:27.872054Z",
     "shell.execute_reply": "2025-07-28T11:02:27.871131Z"
    },
    "papermill": {
     "duration": 0.245323,
     "end_time": "2025-07-28T11:02:27.873724",
     "exception": false,
     "start_time": "2025-07-28T11:02:27.628401",
     "status": "completed"
    },
    "tags": []
   },
   "outputs": [
    {
     "data": {
      "text/plain": [
       "0.8666815293724223"
      ]
     },
     "execution_count": 38,
     "metadata": {},
     "output_type": "execute_result"
    }
   ],
   "source": [
    "probs_test = model.predict_proba(X_test)\n",
    "\n",
    "'''\n",
    "Below code returns a boolean array (or binary 0/1 array depending on how it’s used) where each element \n",
    "is True if the probability of class 1 is greater than or equal to the threshold, and False otherwise.\n",
    "'''\n",
    "y_pred_default = predict_w_threshold(probs_test, 0.5)\n",
    "\n",
    "from sklearn.metrics import accuracy_score\n",
    "\n",
    "# Naive prediction\n",
    "accuracy_score(y_true = y_true, y_pred = y_pred_default)"
   ]
  },
  {
   "cell_type": "code",
   "execution_count": 39,
   "id": "081964c3",
   "metadata": {
    "execution": {
     "iopub.execute_input": "2025-07-28T11:02:27.919162Z",
     "iopub.status.busy": "2025-07-28T11:02:27.918645Z",
     "iopub.status.idle": "2025-07-28T11:02:28.101892Z",
     "shell.execute_reply": "2025-07-28T11:02:28.100564Z"
    },
    "papermill": {
     "duration": 0.207654,
     "end_time": "2025-07-28T11:02:28.103478",
     "exception": false,
     "start_time": "2025-07-28T11:02:27.895824",
     "status": "completed"
    },
    "tags": []
   },
   "outputs": [
    {
     "data": {
      "text/plain": [
       "array([0, 0, 0, ..., 0, 0, 0])"
      ]
     },
     "execution_count": 39,
     "metadata": {},
     "output_type": "execute_result"
    }
   ],
   "source": [
    "model.predict(X_test)"
   ]
  },
  {
   "cell_type": "markdown",
   "id": "56c9705b",
   "metadata": {
    "papermill": {
     "duration": 0.02172,
     "end_time": "2025-07-28T11:02:28.147383",
     "exception": false,
     "start_time": "2025-07-28T11:02:28.125663",
     "status": "completed"
    },
    "tags": []
   },
   "source": [
    "# Conformal Prediction"
   ]
  },
  {
   "cell_type": "code",
   "execution_count": 40,
   "id": "160ec6ff",
   "metadata": {
    "execution": {
     "iopub.execute_input": "2025-07-28T11:02:28.193429Z",
     "iopub.status.busy": "2025-07-28T11:02:28.192260Z",
     "iopub.status.idle": "2025-07-28T11:02:28.198854Z",
     "shell.execute_reply": "2025-07-28T11:02:28.197624Z"
    },
    "papermill": {
     "duration": 0.031627,
     "end_time": "2025-07-28T11:02:28.200656",
     "exception": false,
     "start_time": "2025-07-28T11:02:28.169029",
     "status": "completed"
    },
    "tags": []
   },
   "outputs": [],
   "source": [
    "# Miscoverage level for conformal prediction (10% allowed error rate => 90% target coverage)\n",
    "alpha = 0.1"
   ]
  },
  {
   "cell_type": "code",
   "execution_count": 41,
   "id": "eadf4555-3dd3-440e-8e35-f82a4ad9f855",
   "metadata": {
    "execution": {
     "iopub.execute_input": "2025-07-28T11:02:28.246454Z",
     "iopub.status.busy": "2025-07-28T11:02:28.245734Z",
     "iopub.status.idle": "2025-07-28T11:02:28.450353Z",
     "shell.execute_reply": "2025-07-28T11:02:28.449260Z"
    },
    "papermill": {
     "duration": 0.229638,
     "end_time": "2025-07-28T11:02:28.452259",
     "exception": false,
     "start_time": "2025-07-28T11:02:28.222621",
     "status": "completed"
    },
    "tags": []
   },
   "outputs": [],
   "source": [
    "probs_calib = model.predict_proba(X_calib)"
   ]
  },
  {
   "cell_type": "code",
   "execution_count": 42,
   "id": "2ed93547-6d5d-4983-9b36-1ecb300da49a",
   "metadata": {
    "execution": {
     "iopub.execute_input": "2025-07-28T11:02:28.498158Z",
     "iopub.status.busy": "2025-07-28T11:02:28.497656Z",
     "iopub.status.idle": "2025-07-28T11:02:28.504257Z",
     "shell.execute_reply": "2025-07-28T11:02:28.503333Z"
    },
    "papermill": {
     "duration": 0.031756,
     "end_time": "2025-07-28T11:02:28.506163",
     "exception": false,
     "start_time": "2025-07-28T11:02:28.474407",
     "status": "completed"
    },
    "tags": []
   },
   "outputs": [],
   "source": [
    "y_calib = y_calib.values.ravel().astype(int)"
   ]
  },
  {
   "cell_type": "code",
   "execution_count": 43,
   "id": "65d1320d-f588-4b38-9072-62af1ae97f7d",
   "metadata": {
    "execution": {
     "iopub.execute_input": "2025-07-28T11:02:28.552172Z",
     "iopub.status.busy": "2025-07-28T11:02:28.551668Z",
     "iopub.status.idle": "2025-07-28T11:02:28.558768Z",
     "shell.execute_reply": "2025-07-28T11:02:28.557875Z"
    },
    "papermill": {
     "duration": 0.031841,
     "end_time": "2025-07-28T11:02:28.560320",
     "exception": false,
     "start_time": "2025-07-28T11:02:28.528479",
     "status": "completed"
    },
    "tags": []
   },
   "outputs": [],
   "source": [
    "from fairness_multiverse.conformal import compute_nc_scores\n",
    "\n",
    "# Compute nonconformity scores on calibration set (1 - probability of true class)\n",
    "nc_scores = compute_nc_scores(probs_calib, y_calib)"
   ]
  },
  {
   "cell_type": "code",
   "execution_count": 44,
   "id": "df3b8ca3-53b7-43d5-9667-7c85da7aeda2",
   "metadata": {
    "execution": {
     "iopub.execute_input": "2025-07-28T11:02:28.605995Z",
     "iopub.status.busy": "2025-07-28T11:02:28.605521Z",
     "iopub.status.idle": "2025-07-28T11:02:28.612095Z",
     "shell.execute_reply": "2025-07-28T11:02:28.611137Z"
    },
    "papermill": {
     "duration": 0.031686,
     "end_time": "2025-07-28T11:02:28.613771",
     "exception": false,
     "start_time": "2025-07-28T11:02:28.582085",
     "status": "completed"
    },
    "tags": []
   },
   "outputs": [],
   "source": [
    "from fairness_multiverse.conformal import find_threshold\n",
    "\n",
    "# Find conformal threshold q_hat for the given alpha (split conformal method)\n",
    "q_hat = find_threshold(nc_scores, alpha)"
   ]
  },
  {
   "cell_type": "code",
   "execution_count": 45,
   "id": "4d29e6c1-0ef6-4aa4-b8fe-4fe79b0d033a",
   "metadata": {
    "execution": {
     "iopub.execute_input": "2025-07-28T11:02:28.659750Z",
     "iopub.status.busy": "2025-07-28T11:02:28.658787Z",
     "iopub.status.idle": "2025-07-28T11:02:28.666345Z",
     "shell.execute_reply": "2025-07-28T11:02:28.665344Z"
    },
    "papermill": {
     "duration": 0.031875,
     "end_time": "2025-07-28T11:02:28.667975",
     "exception": false,
     "start_time": "2025-07-28T11:02:28.636100",
     "status": "completed"
    },
    "tags": []
   },
   "outputs": [
    {
     "data": {
      "text/plain": [
       "0.6728657275433815"
      ]
     },
     "execution_count": 45,
     "metadata": {},
     "output_type": "execute_result"
    }
   ],
   "source": [
    "q_hat"
   ]
  },
  {
   "cell_type": "code",
   "execution_count": 46,
   "id": "92460794-cdac-4be2-ba28-f28c0515a6fb",
   "metadata": {
    "execution": {
     "iopub.execute_input": "2025-07-28T11:02:28.715047Z",
     "iopub.status.busy": "2025-07-28T11:02:28.714587Z",
     "iopub.status.idle": "2025-07-28T11:02:29.617285Z",
     "shell.execute_reply": "2025-07-28T11:02:29.616353Z"
    },
    "papermill": {
     "duration": 0.928418,
     "end_time": "2025-07-28T11:02:29.619177",
     "exception": false,
     "start_time": "2025-07-28T11:02:28.690759",
     "status": "completed"
    },
    "tags": []
   },
   "outputs": [],
   "source": [
    "from fairness_multiverse.conformal import predict_conformal_sets\n",
    "\n",
    "# Generate prediction sets for each test example\n",
    "pred_sets = predict_conformal_sets(model, X_test, q_hat)"
   ]
  },
  {
   "cell_type": "code",
   "execution_count": 47,
   "id": "d90c9a65-e6db-4f5d-80cd-e68fb7e46829",
   "metadata": {
    "execution": {
     "iopub.execute_input": "2025-07-28T11:02:29.666448Z",
     "iopub.status.busy": "2025-07-28T11:02:29.665925Z",
     "iopub.status.idle": "2025-07-28T11:02:29.671674Z",
     "shell.execute_reply": "2025-07-28T11:02:29.670775Z"
    },
    "papermill": {
     "duration": 0.03117,
     "end_time": "2025-07-28T11:02:29.673265",
     "exception": false,
     "start_time": "2025-07-28T11:02:29.642095",
     "status": "completed"
    },
    "tags": []
   },
   "outputs": [],
   "source": [
    "y_true = y_true.squeeze()"
   ]
  },
  {
   "cell_type": "code",
   "execution_count": 48,
   "id": "3a58a54a-1e68-46b9-927a-df01f18aebc8",
   "metadata": {
    "execution": {
     "iopub.execute_input": "2025-07-28T11:02:29.720648Z",
     "iopub.status.busy": "2025-07-28T11:02:29.719883Z",
     "iopub.status.idle": "2025-07-28T11:02:30.646541Z",
     "shell.execute_reply": "2025-07-28T11:02:30.645635Z"
    },
    "papermill": {
     "duration": 0.95248,
     "end_time": "2025-07-28T11:02:30.648436",
     "exception": false,
     "start_time": "2025-07-28T11:02:29.695956",
     "status": "completed"
    },
    "tags": []
   },
   "outputs": [],
   "source": [
    "from fairness_multiverse.conformal import evaluate_sets\n",
    "\n",
    "# Evaluate coverage and average set size on test data\n",
    "metrics = evaluate_sets(pred_sets, y_true)"
   ]
  },
  {
   "cell_type": "markdown",
   "id": "2b569c12-9aaa-4c88-98c9-bbcd0cf3ebb8",
   "metadata": {
    "papermill": {
     "duration": 0.02184,
     "end_time": "2025-07-28T11:02:30.692889",
     "exception": false,
     "start_time": "2025-07-28T11:02:30.671049",
     "status": "completed"
    },
    "tags": []
   },
   "source": [
    "# CP Metrics"
   ]
  },
  {
   "cell_type": "code",
   "execution_count": 49,
   "id": "5ce0a5cb-201f-45a0-ade5-94c7f0bd6095",
   "metadata": {
    "execution": {
     "iopub.execute_input": "2025-07-28T11:02:30.738484Z",
     "iopub.status.busy": "2025-07-28T11:02:30.737745Z",
     "iopub.status.idle": "2025-07-28T11:02:30.745129Z",
     "shell.execute_reply": "2025-07-28T11:02:30.744246Z"
    },
    "papermill": {
     "duration": 0.032058,
     "end_time": "2025-07-28T11:02:30.746750",
     "exception": false,
     "start_time": "2025-07-28T11:02:30.714692",
     "status": "completed"
    },
    "tags": []
   },
   "outputs": [
    {
     "data": {
      "text/plain": [
       "{'coverage': 0.9124958198640063, 'avg_size': 1.1208226507635715}"
      ]
     },
     "execution_count": 49,
     "metadata": {},
     "output_type": "execute_result"
    }
   ],
   "source": [
    "metrics"
   ]
  },
  {
   "cell_type": "code",
   "execution_count": 50,
   "id": "9b9a838d-31c9-430b-ae14-12baee460d17",
   "metadata": {
    "execution": {
     "iopub.execute_input": "2025-07-28T11:02:30.793711Z",
     "iopub.status.busy": "2025-07-28T11:02:30.793035Z",
     "iopub.status.idle": "2025-07-28T11:02:30.799510Z",
     "shell.execute_reply": "2025-07-28T11:02:30.798609Z"
    },
    "papermill": {
     "duration": 0.0314,
     "end_time": "2025-07-28T11:02:30.801026",
     "exception": false,
     "start_time": "2025-07-28T11:02:30.769626",
     "status": "completed"
    },
    "tags": []
   },
   "outputs": [],
   "source": [
    "example_universe = universe.copy()\n",
    "universe_training_size = example_universe.get(\"training_size\")\n",
    "universe_scale = example_universe.get(\"scale\")\n",
    "universe_model = example_universe.get(\"model\")\n",
    "universe_exclude_features = example_universe.get(\"exclude_features\")\n",
    "universe_exclude_subgroups = example_universe.get(\"exclude_subgroups\")"
   ]
  },
  {
   "cell_type": "code",
   "execution_count": 51,
   "id": "f4b6a8ac-9dc0-4245-8a91-5b3b5999c4f9",
   "metadata": {
    "execution": {
     "iopub.execute_input": "2025-07-28T11:02:30.848126Z",
     "iopub.status.busy": "2025-07-28T11:02:30.847419Z",
     "iopub.status.idle": "2025-07-28T11:02:30.853974Z",
     "shell.execute_reply": "2025-07-28T11:02:30.853124Z"
    },
    "papermill": {
     "duration": 0.031838,
     "end_time": "2025-07-28T11:02:30.855531",
     "exception": false,
     "start_time": "2025-07-28T11:02:30.823693",
     "status": "completed"
    },
    "tags": []
   },
   "outputs": [],
   "source": [
    "cp_metrics_dict = {\n",
    "    \"universe_id\": [universe_id],\n",
    "    \"universe_training_size\": [universe_training_size],\n",
    "    \"universe_scale\": [universe_scale],\n",
    "    \"universe_model\": [universe_model],\n",
    "    \"universe_exclude_features\": [universe_exclude_features],\n",
    "    \"universe_exclude_subgroups\": [universe_exclude_subgroups],\n",
    "    \"q_hat\": [q_hat],\n",
    "    \"coverage\": [metrics[\"coverage\"]],\n",
    "    \"avg_size\": [metrics[\"avg_size\"]],\n",
    "}"
   ]
  },
  {
   "cell_type": "code",
   "execution_count": 52,
   "id": "908acbb1-0371-4915-85ca-3fa520d2efe2",
   "metadata": {
    "execution": {
     "iopub.execute_input": "2025-07-28T11:02:30.902727Z",
     "iopub.status.busy": "2025-07-28T11:02:30.902043Z",
     "iopub.status.idle": "2025-07-28T11:02:30.909763Z",
     "shell.execute_reply": "2025-07-28T11:02:30.908849Z"
    },
    "papermill": {
     "duration": 0.032861,
     "end_time": "2025-07-28T11:02:30.911256",
     "exception": false,
     "start_time": "2025-07-28T11:02:30.878395",
     "status": "completed"
    },
    "tags": []
   },
   "outputs": [
    {
     "data": {
      "text/plain": [
       "{'universe_id': ['476ea7a6aa33a2f4bd123d5b4485cd0a'],\n",
       " 'universe_training_size': ['2014'],\n",
       " 'universe_scale': ['scale'],\n",
       " 'universe_model': ['elasticnet'],\n",
       " 'universe_exclude_features': ['sex'],\n",
       " 'universe_exclude_subgroups': ['keep-all'],\n",
       " 'q_hat': [0.6728657275433815],\n",
       " 'coverage': [0.9124958198640063],\n",
       " 'avg_size': [1.1208226507635715]}"
      ]
     },
     "execution_count": 52,
     "metadata": {},
     "output_type": "execute_result"
    }
   ],
   "source": [
    "cp_metrics_dict"
   ]
  },
  {
   "cell_type": "code",
   "execution_count": 53,
   "id": "33007efc-14e9-4ec6-97ac-56a455c82265",
   "metadata": {
    "execution": {
     "iopub.execute_input": "2025-07-28T11:02:30.959115Z",
     "iopub.status.busy": "2025-07-28T11:02:30.958426Z",
     "iopub.status.idle": "2025-07-28T11:02:30.965079Z",
     "shell.execute_reply": "2025-07-28T11:02:30.964081Z"
    },
    "papermill": {
     "duration": 0.03245,
     "end_time": "2025-07-28T11:02:30.966708",
     "exception": false,
     "start_time": "2025-07-28T11:02:30.934258",
     "status": "completed"
    },
    "tags": []
   },
   "outputs": [],
   "source": [
    "cp_metrics_df = pd.DataFrame(cp_metrics_dict)"
   ]
  },
  {
   "cell_type": "code",
   "execution_count": 54,
   "id": "db12611b-57b2-4910-b9d0-355adfd6e7bf",
   "metadata": {
    "execution": {
     "iopub.execute_input": "2025-07-28T11:02:31.014393Z",
     "iopub.status.busy": "2025-07-28T11:02:31.013717Z",
     "iopub.status.idle": "2025-07-28T11:02:31.031428Z",
     "shell.execute_reply": "2025-07-28T11:02:31.030582Z"
    },
    "papermill": {
     "duration": 0.043353,
     "end_time": "2025-07-28T11:02:31.033046",
     "exception": false,
     "start_time": "2025-07-28T11:02:30.989693",
     "status": "completed"
    },
    "tags": []
   },
   "outputs": [
    {
     "data": {
      "text/html": [
       "<div>\n",
       "<style scoped>\n",
       "    .dataframe tbody tr th:only-of-type {\n",
       "        vertical-align: middle;\n",
       "    }\n",
       "\n",
       "    .dataframe tbody tr th {\n",
       "        vertical-align: top;\n",
       "    }\n",
       "\n",
       "    .dataframe thead th {\n",
       "        text-align: right;\n",
       "    }\n",
       "</style>\n",
       "<table border=\"1\" class=\"dataframe\">\n",
       "  <thead>\n",
       "    <tr style=\"text-align: right;\">\n",
       "      <th></th>\n",
       "      <th>universe_id</th>\n",
       "      <th>universe_training_size</th>\n",
       "      <th>universe_scale</th>\n",
       "      <th>universe_model</th>\n",
       "      <th>universe_exclude_features</th>\n",
       "      <th>universe_exclude_subgroups</th>\n",
       "      <th>q_hat</th>\n",
       "      <th>coverage</th>\n",
       "      <th>avg_size</th>\n",
       "    </tr>\n",
       "  </thead>\n",
       "  <tbody>\n",
       "    <tr>\n",
       "      <th>0</th>\n",
       "      <td>476ea7a6aa33a2f4bd123d5b4485cd0a</td>\n",
       "      <td>2014</td>\n",
       "      <td>scale</td>\n",
       "      <td>elasticnet</td>\n",
       "      <td>sex</td>\n",
       "      <td>keep-all</td>\n",
       "      <td>0.672866</td>\n",
       "      <td>0.912496</td>\n",
       "      <td>1.120823</td>\n",
       "    </tr>\n",
       "  </tbody>\n",
       "</table>\n",
       "</div>"
      ],
      "text/plain": [
       "                        universe_id universe_training_size universe_scale  \\\n",
       "0  476ea7a6aa33a2f4bd123d5b4485cd0a                   2014          scale   \n",
       "\n",
       "  universe_model universe_exclude_features universe_exclude_subgroups  \\\n",
       "0     elasticnet                       sex                   keep-all   \n",
       "\n",
       "      q_hat  coverage  avg_size  \n",
       "0  0.672866  0.912496  1.120823  "
      ]
     },
     "execution_count": 54,
     "metadata": {},
     "output_type": "execute_result"
    }
   ],
   "source": [
    "cp_metrics_df"
   ]
  },
  {
   "cell_type": "code",
   "execution_count": 55,
   "id": "b7fbde55-a0a1-47e4-9af6-fe4a17fa8c61",
   "metadata": {
    "execution": {
     "iopub.execute_input": "2025-07-28T11:02:31.081610Z",
     "iopub.status.busy": "2025-07-28T11:02:31.080965Z",
     "iopub.status.idle": "2025-07-28T11:02:31.086141Z",
     "shell.execute_reply": "2025-07-28T11:02:31.085270Z"
    },
    "papermill": {
     "duration": 0.031056,
     "end_time": "2025-07-28T11:02:31.087742",
     "exception": false,
     "start_time": "2025-07-28T11:02:31.056686",
     "status": "completed"
    },
    "tags": []
   },
   "outputs": [],
   "source": [
    "# Conditional Coverage & looking at subgroups"
   ]
  },
  {
   "cell_type": "code",
   "execution_count": 56,
   "id": "027ae886-68dd-4141-96c7-805a5450e1ef",
   "metadata": {
    "execution": {
     "iopub.execute_input": "2025-07-28T11:02:31.136739Z",
     "iopub.status.busy": "2025-07-28T11:02:31.135990Z",
     "iopub.status.idle": "2025-07-28T11:02:31.399608Z",
     "shell.execute_reply": "2025-07-28T11:02:31.398720Z"
    },
    "papermill": {
     "duration": 0.290292,
     "end_time": "2025-07-28T11:02:31.401556",
     "exception": false,
     "start_time": "2025-07-28T11:02:31.111264",
     "status": "completed"
    },
    "tags": []
   },
   "outputs": [],
   "source": [
    "from fairness_multiverse.conformal import build_cp_groups\n",
    "\n",
    "cp_groups_df = build_cp_groups(pred_sets, y_true, X_test.index, org_test)\n",
    "#needs universe_id and setting"
   ]
  },
  {
   "cell_type": "code",
   "execution_count": 57,
   "id": "01d5802c-663a-4d1f-9d69-e036faaffbf7",
   "metadata": {
    "execution": {
     "iopub.execute_input": "2025-07-28T11:02:31.450259Z",
     "iopub.status.busy": "2025-07-28T11:02:31.449611Z",
     "iopub.status.idle": "2025-07-28T11:02:31.454696Z",
     "shell.execute_reply": "2025-07-28T11:02:31.453773Z"
    },
    "papermill": {
     "duration": 0.030755,
     "end_time": "2025-07-28T11:02:31.456262",
     "exception": false,
     "start_time": "2025-07-28T11:02:31.425507",
     "status": "completed"
    },
    "tags": []
   },
   "outputs": [],
   "source": [
    "#delete\n",
    "#cp_groups_df"
   ]
  },
  {
   "cell_type": "code",
   "execution_count": 58,
   "id": "fa424af1-d1eb-443d-b717-2d279ada8408",
   "metadata": {
    "execution": {
     "iopub.execute_input": "2025-07-28T11:02:31.504005Z",
     "iopub.status.busy": "2025-07-28T11:02:31.503315Z",
     "iopub.status.idle": "2025-07-28T11:02:31.508400Z",
     "shell.execute_reply": "2025-07-28T11:02:31.507528Z"
    },
    "papermill": {
     "duration": 0.030425,
     "end_time": "2025-07-28T11:02:31.509897",
     "exception": false,
     "start_time": "2025-07-28T11:02:31.479472",
     "status": "completed"
    },
    "tags": []
   },
   "outputs": [],
   "source": [
    "#delete\n",
    "#percentage = (cp_groups_df['nongerman_female'] == 1).mean() * 100\n",
    "#print(percentage)\n"
   ]
  },
  {
   "cell_type": "code",
   "execution_count": 59,
   "id": "6cbdab96-b2b2-45af-ad54-d0516db2e28d",
   "metadata": {
    "execution": {
     "iopub.execute_input": "2025-07-28T11:02:31.558449Z",
     "iopub.status.busy": "2025-07-28T11:02:31.557771Z",
     "iopub.status.idle": "2025-07-28T11:02:33.259803Z",
     "shell.execute_reply": "2025-07-28T11:02:33.258764Z"
    },
    "papermill": {
     "duration": 1.728638,
     "end_time": "2025-07-28T11:02:33.261852",
     "exception": false,
     "start_time": "2025-07-28T11:02:31.533214",
     "status": "completed"
    },
    "tags": []
   },
   "outputs": [],
   "source": [
    "# Define covered = 1 if true_label is in the predicted set\n",
    "cp_groups_df['covered'] = cp_groups_df.apply(\n",
    "    lambda r: int(r['true_label'] in r['pred_set']),\n",
    "    axis=1\n",
    ")"
   ]
  },
  {
   "cell_type": "code",
   "execution_count": 60,
   "id": "338ff529-1a6b-4b87-a931-8e4788d52aad",
   "metadata": {
    "execution": {
     "iopub.execute_input": "2025-07-28T11:02:33.310430Z",
     "iopub.status.busy": "2025-07-28T11:02:33.309727Z",
     "iopub.status.idle": "2025-07-28T11:02:33.315909Z",
     "shell.execute_reply": "2025-07-28T11:02:33.315077Z"
    },
    "papermill": {
     "duration": 0.032026,
     "end_time": "2025-07-28T11:02:33.317668",
     "exception": false,
     "start_time": "2025-07-28T11:02:33.285642",
     "status": "completed"
    },
    "tags": []
   },
   "outputs": [],
   "source": [
    "#cp_groups_df"
   ]
  },
  {
   "cell_type": "code",
   "execution_count": 61,
   "id": "90032e27-66df-4540-9169-4e89cfbaa758",
   "metadata": {
    "execution": {
     "iopub.execute_input": "2025-07-28T11:02:33.366175Z",
     "iopub.status.busy": "2025-07-28T11:02:33.365464Z",
     "iopub.status.idle": "2025-07-28T11:02:33.377945Z",
     "shell.execute_reply": "2025-07-28T11:02:33.377097Z"
    },
    "papermill": {
     "duration": 0.038588,
     "end_time": "2025-07-28T11:02:33.379510",
     "exception": false,
     "start_time": "2025-07-28T11:02:33.340922",
     "status": "completed"
    },
    "tags": []
   },
   "outputs": [],
   "source": [
    "subgroups = ['frau1','nongerman','nongerman_male','nongerman_female']\n",
    "\n",
    "# Conditional coverage for subgroup==1\n",
    "cond_coverage = {\n",
    "    g: cp_groups_df.loc[cp_groups_df[g]==1, 'covered'].mean()\n",
    "    for g in subgroups\n",
    "}"
   ]
  },
  {
   "cell_type": "code",
   "execution_count": 62,
   "id": "1e348fb1-b9c3-45bc-ba23-f016827a7e0d",
   "metadata": {
    "execution": {
     "iopub.execute_input": "2025-07-28T11:02:33.428400Z",
     "iopub.status.busy": "2025-07-28T11:02:33.427651Z",
     "iopub.status.idle": "2025-07-28T11:02:33.435185Z",
     "shell.execute_reply": "2025-07-28T11:02:33.434298Z"
    },
    "papermill": {
     "duration": 0.033786,
     "end_time": "2025-07-28T11:02:33.436842",
     "exception": false,
     "start_time": "2025-07-28T11:02:33.403056",
     "status": "completed"
    },
    "tags": []
   },
   "outputs": [
    {
     "data": {
      "text/plain": [
       "{'frau1': 0.9132228063081278,\n",
       " 'nongerman': 0.9110200415426936,\n",
       " 'nongerman_male': 0.9255156264072774,\n",
       " 'nongerman_female': 0.8870342771982116}"
      ]
     },
     "execution_count": 62,
     "metadata": {},
     "output_type": "execute_result"
    }
   ],
   "source": [
    "cond_coverage"
   ]
  },
  {
   "cell_type": "code",
   "execution_count": 63,
   "id": "f5093324-c3dd-4d63-bc4c-8d945e5c8bbb",
   "metadata": {
    "execution": {
     "iopub.execute_input": "2025-07-28T11:02:33.485844Z",
     "iopub.status.busy": "2025-07-28T11:02:33.485150Z",
     "iopub.status.idle": "2025-07-28T11:02:33.492575Z",
     "shell.execute_reply": "2025-07-28T11:02:33.491684Z"
    },
    "papermill": {
     "duration": 0.033661,
     "end_time": "2025-07-28T11:02:33.494206",
     "exception": false,
     "start_time": "2025-07-28T11:02:33.460545",
     "status": "completed"
    },
    "tags": []
   },
   "outputs": [],
   "source": [
    "for subgroup, cov in cond_coverage.items():\n",
    "    cp_metrics_df[f\"cov_{subgroup}\"] = cov"
   ]
  },
  {
   "cell_type": "code",
   "execution_count": 64,
   "id": "6e872e10-dbe5-49e8-b554-5030c98ff75d",
   "metadata": {
    "execution": {
     "iopub.execute_input": "2025-07-28T11:02:33.543739Z",
     "iopub.status.busy": "2025-07-28T11:02:33.543078Z",
     "iopub.status.idle": "2025-07-28T11:02:33.561782Z",
     "shell.execute_reply": "2025-07-28T11:02:33.560863Z"
    },
    "papermill": {
     "duration": 0.044991,
     "end_time": "2025-07-28T11:02:33.563322",
     "exception": false,
     "start_time": "2025-07-28T11:02:33.518331",
     "status": "completed"
    },
    "tags": []
   },
   "outputs": [
    {
     "data": {
      "text/html": [
       "<div>\n",
       "<style scoped>\n",
       "    .dataframe tbody tr th:only-of-type {\n",
       "        vertical-align: middle;\n",
       "    }\n",
       "\n",
       "    .dataframe tbody tr th {\n",
       "        vertical-align: top;\n",
       "    }\n",
       "\n",
       "    .dataframe thead th {\n",
       "        text-align: right;\n",
       "    }\n",
       "</style>\n",
       "<table border=\"1\" class=\"dataframe\">\n",
       "  <thead>\n",
       "    <tr style=\"text-align: right;\">\n",
       "      <th></th>\n",
       "      <th>universe_id</th>\n",
       "      <th>universe_training_size</th>\n",
       "      <th>universe_scale</th>\n",
       "      <th>universe_model</th>\n",
       "      <th>universe_exclude_features</th>\n",
       "      <th>universe_exclude_subgroups</th>\n",
       "      <th>q_hat</th>\n",
       "      <th>coverage</th>\n",
       "      <th>avg_size</th>\n",
       "      <th>cov_frau1</th>\n",
       "      <th>cov_nongerman</th>\n",
       "      <th>cov_nongerman_male</th>\n",
       "      <th>cov_nongerman_female</th>\n",
       "    </tr>\n",
       "  </thead>\n",
       "  <tbody>\n",
       "    <tr>\n",
       "      <th>0</th>\n",
       "      <td>476ea7a6aa33a2f4bd123d5b4485cd0a</td>\n",
       "      <td>2014</td>\n",
       "      <td>scale</td>\n",
       "      <td>elasticnet</td>\n",
       "      <td>sex</td>\n",
       "      <td>keep-all</td>\n",
       "      <td>0.672866</td>\n",
       "      <td>0.912496</td>\n",
       "      <td>1.120823</td>\n",
       "      <td>0.913223</td>\n",
       "      <td>0.91102</td>\n",
       "      <td>0.925516</td>\n",
       "      <td>0.887034</td>\n",
       "    </tr>\n",
       "  </tbody>\n",
       "</table>\n",
       "</div>"
      ],
      "text/plain": [
       "                        universe_id universe_training_size universe_scale  \\\n",
       "0  476ea7a6aa33a2f4bd123d5b4485cd0a                   2014          scale   \n",
       "\n",
       "  universe_model universe_exclude_features universe_exclude_subgroups  \\\n",
       "0     elasticnet                       sex                   keep-all   \n",
       "\n",
       "      q_hat  coverage  avg_size  cov_frau1  cov_nongerman  cov_nongerman_male  \\\n",
       "0  0.672866  0.912496  1.120823   0.913223        0.91102            0.925516   \n",
       "\n",
       "   cov_nongerman_female  \n",
       "0              0.887034  "
      ]
     },
     "execution_count": 64,
     "metadata": {},
     "output_type": "execute_result"
    }
   ],
   "source": [
    "cp_metrics_df"
   ]
  },
  {
   "cell_type": "markdown",
   "id": "33774451",
   "metadata": {
    "papermill": {
     "duration": 0.023622,
     "end_time": "2025-07-28T11:02:33.611208",
     "exception": false,
     "start_time": "2025-07-28T11:02:33.587586",
     "status": "completed"
    },
    "tags": []
   },
   "source": [
    "# (Fairness) Metrics"
   ]
  },
  {
   "cell_type": "code",
   "execution_count": 65,
   "id": "debc5d62",
   "metadata": {
    "execution": {
     "iopub.execute_input": "2025-07-28T11:02:33.661023Z",
     "iopub.status.busy": "2025-07-28T11:02:33.660362Z",
     "iopub.status.idle": "2025-07-28T11:02:33.687282Z",
     "shell.execute_reply": "2025-07-28T11:02:33.686393Z"
    },
    "papermill": {
     "duration": 0.053875,
     "end_time": "2025-07-28T11:02:33.689085",
     "exception": false,
     "start_time": "2025-07-28T11:02:33.635210",
     "status": "completed"
    },
    "tags": []
   },
   "outputs": [],
   "source": [
    "# do I need to include maxdeutsch1.missing?\n",
    "\n",
    "import numpy as np\n",
    "\n",
    "colname_to_bin = \"maxdeutsch1\"\n",
    "majority_value = org_train[colname_to_bin].mode()[0]\n",
    "\n",
    "org_test[\"majmin\"] = np.where(org_test[colname_to_bin] == majority_value, \"majority\", \"minority\")"
   ]
  },
  {
   "cell_type": "code",
   "execution_count": 66,
   "id": "06a50de5",
   "metadata": {
    "execution": {
     "iopub.execute_input": "2025-07-28T11:02:33.739662Z",
     "iopub.status.busy": "2025-07-28T11:02:33.738990Z",
     "iopub.status.idle": "2025-07-28T11:02:36.801927Z",
     "shell.execute_reply": "2025-07-28T11:02:36.801068Z"
    },
    "papermill": {
     "duration": 3.09002,
     "end_time": "2025-07-28T11:02:36.803763",
     "exception": false,
     "start_time": "2025-07-28T11:02:33.713743",
     "status": "completed"
    },
    "tags": []
   },
   "outputs": [],
   "source": [
    "example_universe = universe.copy()\n",
    "example_universe[\"cutoff\"] = example_universe[\"cutoff\"][0]\n",
    "example_universe[\"eval_fairness_grouping\"] = example_universe[\"eval_fairness_grouping\"][0]\n",
    "fairness_dict, metric_frame = universe_analysis.compute_metrics(\n",
    "    example_universe,\n",
    "    y_pred_prob=probs_test,\n",
    "    y_test=y_true,\n",
    "    org_test=org_test,\n",
    ")"
   ]
  },
  {
   "cell_type": "markdown",
   "id": "f95d4e02",
   "metadata": {
    "papermill": {
     "duration": 0.024188,
     "end_time": "2025-07-28T11:02:36.853208",
     "exception": false,
     "start_time": "2025-07-28T11:02:36.829020",
     "status": "completed"
    },
    "tags": []
   },
   "source": [
    "# Overall"
   ]
  },
  {
   "cell_type": "markdown",
   "id": "bdee4871",
   "metadata": {
    "papermill": {
     "duration": 0.026459,
     "end_time": "2025-07-28T11:02:36.903769",
     "exception": false,
     "start_time": "2025-07-28T11:02:36.877310",
     "status": "completed"
    },
    "tags": []
   },
   "source": [
    "Fairness\n",
    "Main fairness target: Equalized Odds. Seems to be a better fit than equal opportunity, since we're not only interested in Y = 1. Seems to be a better fit than demographic parity, since we also care about accuracy, not just equal distribution of preds.\n",
    "\n",
    "Pick column for computation of fairness metrics\n",
    "\n",
    "Performance\n",
    "Overall performance measures, most interesting in relation to the measures split by group below"
   ]
  },
  {
   "cell_type": "code",
   "execution_count": 67,
   "id": "c4e067c6",
   "metadata": {
    "execution": {
     "iopub.execute_input": "2025-07-28T11:02:36.953077Z",
     "iopub.status.busy": "2025-07-28T11:02:36.952595Z",
     "iopub.status.idle": "2025-07-28T11:02:36.960904Z",
     "shell.execute_reply": "2025-07-28T11:02:36.960061Z"
    },
    "papermill": {
     "duration": 0.035061,
     "end_time": "2025-07-28T11:02:36.962571",
     "exception": false,
     "start_time": "2025-07-28T11:02:36.927510",
     "status": "completed"
    },
    "tags": []
   },
   "outputs": [
    {
     "data": {
      "text/plain": [
       "accuracy                   0.225828\n",
       "balanced accuracy          0.551875\n",
       "f1                         0.247119\n",
       "precision                  0.141171\n",
       "false positive rate        0.886691\n",
       "false negative rate        0.009559\n",
       "selection rate             0.900000\n",
       "count                  89710.000000\n",
       "dtype: float64"
      ]
     },
     "execution_count": 67,
     "metadata": {},
     "output_type": "execute_result"
    }
   ],
   "source": [
    "metric_frame.overall"
   ]
  },
  {
   "cell_type": "markdown",
   "id": "e968fe9d",
   "metadata": {
    "papermill": {
     "duration": 0.024582,
     "end_time": "2025-07-28T11:02:37.012178",
     "exception": false,
     "start_time": "2025-07-28T11:02:36.987596",
     "status": "completed"
    },
    "tags": []
   },
   "source": [
    "By Group"
   ]
  },
  {
   "cell_type": "code",
   "execution_count": 68,
   "id": "ec325bce",
   "metadata": {
    "execution": {
     "iopub.execute_input": "2025-07-28T11:02:37.062838Z",
     "iopub.status.busy": "2025-07-28T11:02:37.062343Z",
     "iopub.status.idle": "2025-07-28T11:02:37.077983Z",
     "shell.execute_reply": "2025-07-28T11:02:37.077137Z"
    },
    "papermill": {
     "duration": 0.042821,
     "end_time": "2025-07-28T11:02:37.079484",
     "exception": false,
     "start_time": "2025-07-28T11:02:37.036663",
     "status": "completed"
    },
    "tags": []
   },
   "outputs": [
    {
     "data": {
      "text/html": [
       "<div>\n",
       "<style scoped>\n",
       "    .dataframe tbody tr th:only-of-type {\n",
       "        vertical-align: middle;\n",
       "    }\n",
       "\n",
       "    .dataframe tbody tr th {\n",
       "        vertical-align: top;\n",
       "    }\n",
       "\n",
       "    .dataframe thead th {\n",
       "        text-align: right;\n",
       "    }\n",
       "</style>\n",
       "<table border=\"1\" class=\"dataframe\">\n",
       "  <thead>\n",
       "    <tr style=\"text-align: right;\">\n",
       "      <th></th>\n",
       "      <th>accuracy</th>\n",
       "      <th>balanced accuracy</th>\n",
       "      <th>f1</th>\n",
       "      <th>precision</th>\n",
       "      <th>false positive rate</th>\n",
       "      <th>false negative rate</th>\n",
       "      <th>selection rate</th>\n",
       "      <th>count</th>\n",
       "    </tr>\n",
       "    <tr>\n",
       "      <th>majmin</th>\n",
       "      <th></th>\n",
       "      <th></th>\n",
       "      <th></th>\n",
       "      <th></th>\n",
       "      <th></th>\n",
       "      <th></th>\n",
       "      <th></th>\n",
       "      <th></th>\n",
       "    </tr>\n",
       "  </thead>\n",
       "  <tbody>\n",
       "    <tr>\n",
       "      <th>majority</th>\n",
       "      <td>0.247795</td>\n",
       "      <td>0.562089</td>\n",
       "      <td>0.257923</td>\n",
       "      <td>0.148293</td>\n",
       "      <td>0.865101</td>\n",
       "      <td>0.010722</td>\n",
       "      <td>0.881509</td>\n",
       "      <td>69170.0</td>\n",
       "    </tr>\n",
       "    <tr>\n",
       "      <th>minority</th>\n",
       "      <td>0.151850</td>\n",
       "      <td>0.518460</td>\n",
       "      <td>0.212895</td>\n",
       "      <td>0.119201</td>\n",
       "      <td>0.958012</td>\n",
       "      <td>0.005068</td>\n",
       "      <td>0.962269</td>\n",
       "      <td>20540.0</td>\n",
       "    </tr>\n",
       "  </tbody>\n",
       "</table>\n",
       "</div>"
      ],
      "text/plain": [
       "          accuracy  balanced accuracy        f1  precision  \\\n",
       "majmin                                                       \n",
       "majority  0.247795           0.562089  0.257923   0.148293   \n",
       "minority  0.151850           0.518460  0.212895   0.119201   \n",
       "\n",
       "          false positive rate  false negative rate  selection rate    count  \n",
       "majmin                                                                       \n",
       "majority             0.865101             0.010722        0.881509  69170.0  \n",
       "minority             0.958012             0.005068        0.962269  20540.0  "
      ]
     },
     "execution_count": 68,
     "metadata": {},
     "output_type": "execute_result"
    }
   ],
   "source": [
    "metric_frame.by_group"
   ]
  },
  {
   "cell_type": "code",
   "execution_count": 69,
   "id": "a9ddbe63",
   "metadata": {
    "execution": {
     "iopub.execute_input": "2025-07-28T11:02:37.134296Z",
     "iopub.status.busy": "2025-07-28T11:02:37.133606Z",
     "iopub.status.idle": "2025-07-28T11:02:39.546420Z",
     "shell.execute_reply": "2025-07-28T11:02:39.545497Z"
    },
    "papermill": {
     "duration": 2.44192,
     "end_time": "2025-07-28T11:02:39.548233",
     "exception": false,
     "start_time": "2025-07-28T11:02:37.106313",
     "status": "completed"
    },
    "tags": []
   },
   "outputs": [
    {
     "data": {
      "text/plain": [
       "array([[<Axes: title={'center': 'accuracy'}, xlabel='majmin'>,\n",
       "        <Axes: title={'center': 'balanced accuracy'}, xlabel='majmin'>,\n",
       "        <Axes: title={'center': 'f1'}, xlabel='majmin'>],\n",
       "       [<Axes: title={'center': 'precision'}, xlabel='majmin'>,\n",
       "        <Axes: title={'center': 'false positive rate'}, xlabel='majmin'>,\n",
       "        <Axes: title={'center': 'false negative rate'}, xlabel='majmin'>],\n",
       "       [<Axes: title={'center': 'selection rate'}, xlabel='majmin'>,\n",
       "        <Axes: title={'center': 'count'}, xlabel='majmin'>,\n",
       "        <Axes: xlabel='majmin'>]], dtype=object)"
      ]
     },
     "execution_count": 69,
     "metadata": {},
     "output_type": "execute_result"
    },
    {
     "data": {
      "image/png": "[encoded data removed]",
      "text/plain": [
       "<Figure size 1200x800 with 9 Axes>"
      ]
     },
     "metadata": {},
     "output_type": "display_data"
    }
   ],
   "source": [
    "# In a graphic\n",
    "metric_frame.by_group.plot.bar(\n",
    "    subplots=True,\n",
    "    layout=[3, 3],\n",
    "    legend=False,\n",
    "    figsize=[12, 8],\n",
    "    title=\"Show all metrics\",\n",
    ")"
   ]
  },
  {
   "cell_type": "markdown",
   "id": "f57a0bac",
   "metadata": {
    "papermill": {
     "duration": 0.027966,
     "end_time": "2025-07-28T11:02:39.607281",
     "exception": false,
     "start_time": "2025-07-28T11:02:39.579315",
     "status": "completed"
    },
    "tags": []
   },
   "source": [
    "# Final Output"
   ]
  },
  {
   "cell_type": "code",
   "execution_count": 70,
   "id": "96d280a3",
   "metadata": {
    "execution": {
     "iopub.execute_input": "2025-07-28T11:02:39.666271Z",
     "iopub.status.busy": "2025-07-28T11:02:39.665620Z",
     "iopub.status.idle": "2025-07-28T11:02:39.674200Z",
     "shell.execute_reply": "2025-07-28T11:02:39.673228Z"
    },
    "papermill": {
     "duration": 0.039795,
     "end_time": "2025-07-28T11:02:39.675791",
     "exception": false,
     "start_time": "2025-07-28T11:02:39.635996",
     "status": "completed"
    },
    "tags": []
   },
   "outputs": [
    {
     "data": {
      "text/plain": [
       "4"
      ]
     },
     "execution_count": 70,
     "metadata": {},
     "output_type": "execute_result"
    }
   ],
   "source": [
    "sub_universes = universe_analysis.generate_sub_universes()\n",
    "len(sub_universes)"
   ]
  },
  {
   "cell_type": "code",
   "execution_count": 71,
   "id": "92adf7ba",
   "metadata": {
    "execution": {
     "iopub.execute_input": "2025-07-28T11:02:39.736381Z",
     "iopub.status.busy": "2025-07-28T11:02:39.735661Z",
     "iopub.status.idle": "2025-07-28T11:02:39.742186Z",
     "shell.execute_reply": "2025-07-28T11:02:39.741239Z"
    },
    "papermill": {
     "duration": 0.038319,
     "end_time": "2025-07-28T11:02:39.743779",
     "exception": false,
     "start_time": "2025-07-28T11:02:39.705460",
     "status": "completed"
    },
    "tags": []
   },
   "outputs": [],
   "source": [
    "def filter_sub_universe_data(sub_universe, org_test):\n",
    "    # Keep all rows — no filtering\n",
    "    keep_rows_mask = np.ones(org_test.shape[0], dtype=bool)\n",
    "\n",
    "    print(f\"[INFO] Keeping all rows: {keep_rows_mask.sum()} rows retained.\")\n",
    "    return keep_rows_mask"
   ]
  },
  {
   "cell_type": "code",
   "execution_count": 72,
   "id": "4a759155",
   "metadata": {
    "execution": {
     "iopub.execute_input": "2025-07-28T11:02:39.803871Z",
     "iopub.status.busy": "2025-07-28T11:02:39.803140Z",
     "iopub.status.idle": "2025-07-28T11:02:51.522022Z",
     "shell.execute_reply": "2025-07-28T11:02:51.520922Z"
    },
    "papermill": {
     "duration": 11.750374,
     "end_time": "2025-07-28T11:02:51.523764",
     "exception": false,
     "start_time": "2025-07-28T11:02:39.773390",
     "status": "completed"
    },
    "tags": []
   },
   "outputs": [
    {
     "name": "stdout",
     "output_type": "stream",
     "text": [
      "Stopping execution_time clock.\n",
      "[INFO] Keeping all rows: 89710 rows retained.\n"
     ]
    },
    {
     "name": "stdout",
     "output_type": "stream",
     "text": [
      "[INFO] Keeping all rows: 89710 rows retained.\n"
     ]
    },
    {
     "name": "stdout",
     "output_type": "stream",
     "text": [
      "[INFO] Keeping all rows: 89710 rows retained.\n"
     ]
    },
    {
     "name": "stdout",
     "output_type": "stream",
     "text": [
      "[INFO] Keeping all rows: 89710 rows retained.\n"
     ]
    },
    {
     "data": {
      "text/html": [
       "<div>\n",
       "<style scoped>\n",
       "    .dataframe tbody tr th:only-of-type {\n",
       "        vertical-align: middle;\n",
       "    }\n",
       "\n",
       "    .dataframe tbody tr th {\n",
       "        vertical-align: top;\n",
       "    }\n",
       "\n",
       "    .dataframe thead th {\n",
       "        text-align: right;\n",
       "    }\n",
       "</style>\n",
       "<table border=\"1\" class=\"dataframe\">\n",
       "  <thead>\n",
       "    <tr style=\"text-align: right;\">\n",
       "      <th></th>\n",
       "      <th>run_no</th>\n",
       "      <th>universe_id</th>\n",
       "      <th>universe_settings</th>\n",
       "      <th>execution_time</th>\n",
       "      <th>test_size_n</th>\n",
       "      <th>test_size_frac</th>\n",
       "      <th>fair_main_equalized_odds_difference</th>\n",
       "      <th>fair_main_equalized_odds_ratio</th>\n",
       "      <th>fair_main_demographic_parity_difference</th>\n",
       "      <th>fair_main_demographic_parity_ratio</th>\n",
       "      <th>...</th>\n",
       "      <th>perf_grp_precision_0</th>\n",
       "      <th>perf_grp_precision_1</th>\n",
       "      <th>perf_grp_false positive rate_0</th>\n",
       "      <th>perf_grp_false positive rate_1</th>\n",
       "      <th>perf_grp_false negative rate_0</th>\n",
       "      <th>perf_grp_false negative rate_1</th>\n",
       "      <th>perf_grp_selection rate_0</th>\n",
       "      <th>perf_grp_selection rate_1</th>\n",
       "      <th>perf_grp_count_0</th>\n",
       "      <th>perf_grp_count_1</th>\n",
       "    </tr>\n",
       "  </thead>\n",
       "  <tbody>\n",
       "    <tr>\n",
       "      <th>0</th>\n",
       "      <td>11</td>\n",
       "      <td>476ea7a6aa33a2f4bd123d5b4485cd0a</td>\n",
       "      <td>{\"cutoff\": \"quantile_0.1\", \"eval_fairness_grou...</td>\n",
       "      <td>62.60316</td>\n",
       "      <td>89710</td>\n",
       "      <td>1.0</td>\n",
       "      <td>0.092912</td>\n",
       "      <td>0.903016</td>\n",
       "      <td>0.080759</td>\n",
       "      <td>0.916074</td>\n",
       "      <td>...</td>\n",
       "      <td>NaN</td>\n",
       "      <td>NaN</td>\n",
       "      <td>NaN</td>\n",
       "      <td>NaN</td>\n",
       "      <td>NaN</td>\n",
       "      <td>NaN</td>\n",
       "      <td>NaN</td>\n",
       "      <td>NaN</td>\n",
       "      <td>NaN</td>\n",
       "      <td>NaN</td>\n",
       "    </tr>\n",
       "    <tr>\n",
       "      <th>0</th>\n",
       "      <td>11</td>\n",
       "      <td>476ea7a6aa33a2f4bd123d5b4485cd0a</td>\n",
       "      <td>{\"cutoff\": \"quantile_0.1\", \"eval_fairness_grou...</td>\n",
       "      <td>62.60316</td>\n",
       "      <td>89710</td>\n",
       "      <td>1.0</td>\n",
       "      <td>0.092912</td>\n",
       "      <td>0.903016</td>\n",
       "      <td>0.080759</td>\n",
       "      <td>0.916074</td>\n",
       "      <td>...</td>\n",
       "      <td>0.119201</td>\n",
       "      <td>0.148293</td>\n",
       "      <td>0.958012</td>\n",
       "      <td>0.865101</td>\n",
       "      <td>0.005068</td>\n",
       "      <td>0.010722</td>\n",
       "      <td>0.962269</td>\n",
       "      <td>0.881509</td>\n",
       "      <td>20540.0</td>\n",
       "      <td>69170.0</td>\n",
       "    </tr>\n",
       "    <tr>\n",
       "      <th>0</th>\n",
       "      <td>11</td>\n",
       "      <td>476ea7a6aa33a2f4bd123d5b4485cd0a</td>\n",
       "      <td>{\"cutoff\": \"quantile_0.25\", \"eval_fairness_gro...</td>\n",
       "      <td>62.60316</td>\n",
       "      <td>89710</td>\n",
       "      <td>1.0</td>\n",
       "      <td>0.158681</td>\n",
       "      <td>0.811496</td>\n",
       "      <td>0.137216</td>\n",
       "      <td>0.839662</td>\n",
       "      <td>...</td>\n",
       "      <td>NaN</td>\n",
       "      <td>NaN</td>\n",
       "      <td>NaN</td>\n",
       "      <td>NaN</td>\n",
       "      <td>NaN</td>\n",
       "      <td>NaN</td>\n",
       "      <td>NaN</td>\n",
       "      <td>NaN</td>\n",
       "      <td>NaN</td>\n",
       "      <td>NaN</td>\n",
       "    </tr>\n",
       "    <tr>\n",
       "      <th>0</th>\n",
       "      <td>11</td>\n",
       "      <td>476ea7a6aa33a2f4bd123d5b4485cd0a</td>\n",
       "      <td>{\"cutoff\": \"quantile_0.25\", \"eval_fairness_gro...</td>\n",
       "      <td>62.60316</td>\n",
       "      <td>89710</td>\n",
       "      <td>1.0</td>\n",
       "      <td>0.158681</td>\n",
       "      <td>0.811496</td>\n",
       "      <td>0.137216</td>\n",
       "      <td>0.839662</td>\n",
       "      <td>...</td>\n",
       "      <td>0.129764</td>\n",
       "      <td>0.174976</td>\n",
       "      <td>0.841790</td>\n",
       "      <td>0.683108</td>\n",
       "      <td>0.036740</td>\n",
       "      <td>0.048468</td>\n",
       "      <td>0.855794</td>\n",
       "      <td>0.718577</td>\n",
       "      <td>20540.0</td>\n",
       "      <td>69170.0</td>\n",
       "    </tr>\n",
       "  </tbody>\n",
       "</table>\n",
       "<p>4 rows × 50 columns</p>\n",
       "</div>"
      ],
      "text/plain": [
       "  run_no                       universe_id  \\\n",
       "0     11  476ea7a6aa33a2f4bd123d5b4485cd0a   \n",
       "0     11  476ea7a6aa33a2f4bd123d5b4485cd0a   \n",
       "0     11  476ea7a6aa33a2f4bd123d5b4485cd0a   \n",
       "0     11  476ea7a6aa33a2f4bd123d5b4485cd0a   \n",
       "\n",
       "                                   universe_settings  execution_time  \\\n",
       "0  {\"cutoff\": \"quantile_0.1\", \"eval_fairness_grou...        62.60316   \n",
       "0  {\"cutoff\": \"quantile_0.1\", \"eval_fairness_grou...        62.60316   \n",
       "0  {\"cutoff\": \"quantile_0.25\", \"eval_fairness_gro...        62.60316   \n",
       "0  {\"cutoff\": \"quantile_0.25\", \"eval_fairness_gro...        62.60316   \n",
       "\n",
       "   test_size_n  test_size_frac  fair_main_equalized_odds_difference  \\\n",
       "0        89710             1.0                             0.092912   \n",
       "0        89710             1.0                             0.092912   \n",
       "0        89710             1.0                             0.158681   \n",
       "0        89710             1.0                             0.158681   \n",
       "\n",
       "   fair_main_equalized_odds_ratio  fair_main_demographic_parity_difference  \\\n",
       "0                        0.903016                                 0.080759   \n",
       "0                        0.903016                                 0.080759   \n",
       "0                        0.811496                                 0.137216   \n",
       "0                        0.811496                                 0.137216   \n",
       "\n",
       "   fair_main_demographic_parity_ratio  ...  perf_grp_precision_0  \\\n",
       "0                            0.916074  ...                   NaN   \n",
       "0                            0.916074  ...              0.119201   \n",
       "0                            0.839662  ...                   NaN   \n",
       "0                            0.839662  ...              0.129764   \n",
       "\n",
       "   perf_grp_precision_1  perf_grp_false positive rate_0  \\\n",
       "0                   NaN                             NaN   \n",
       "0              0.148293                        0.958012   \n",
       "0                   NaN                             NaN   \n",
       "0              0.174976                        0.841790   \n",
       "\n",
       "   perf_grp_false positive rate_1  perf_grp_false negative rate_0  \\\n",
       "0                             NaN                             NaN   \n",
       "0                        0.865101                        0.005068   \n",
       "0                             NaN                             NaN   \n",
       "0                        0.683108                        0.036740   \n",
       "\n",
       "   perf_grp_false negative rate_1  perf_grp_selection rate_0  \\\n",
       "0                             NaN                        NaN   \n",
       "0                        0.010722                   0.962269   \n",
       "0                             NaN                        NaN   \n",
       "0                        0.048468                   0.855794   \n",
       "\n",
       "   perf_grp_selection rate_1  perf_grp_count_0  perf_grp_count_1  \n",
       "0                        NaN               NaN               NaN  \n",
       "0                   0.881509           20540.0           69170.0  \n",
       "0                        NaN               NaN               NaN  \n",
       "0                   0.718577           20540.0           69170.0  \n",
       "\n",
       "[4 rows x 50 columns]"
      ]
     },
     "execution_count": 72,
     "metadata": {},
     "output_type": "execute_result"
    }
   ],
   "source": [
    "final_output = universe_analysis.generate_final_output(\n",
    "    y_pred_prob=probs_test,\n",
    "    y_test=y_true,\n",
    "    org_test=org_test,\n",
    "    filter_data=filter_sub_universe_data,\n",
    "    cp_metrics_df=cp_metrics_df,\n",
    "    save=True,\n",
    ")\n",
    "final_output"
   ]
  },
  {
   "cell_type": "code",
   "execution_count": null,
   "id": "721ff514-cb11-46f8-b6fc-50392f74b5cb",
   "metadata": {
    "papermill": {
     "duration": 0.02793,
     "end_time": "2025-07-28T11:02:51.582628",
     "exception": false,
     "start_time": "2025-07-28T11:02:51.554698",
     "status": "completed"
    },
    "tags": []
   },
   "outputs": [],
   "source": []
  }
 ],
 "metadata": {
  "celltoolbar": "Tags",
  "kernelspec": {
   "display_name": "Python (CMA Fairness)",
   "language": "python",
   "name": "cma_fair_env"
  },
  "language_info": {
   "codemirror_mode": {
    "name": "ipython",
    "version": 3
   },
   "file_extension": ".py",
   "mimetype": "text/x-python",
   "name": "python",
   "nbconvert_exporter": "python",
   "pygments_lexer": "ipython3",
   "version": "3.10.12"
  },
  "papermill": {
   "default_parameters": {},
   "duration": 78.62049,
   "end_time": "2025-07-28T11:02:52.430579",
   "environment_variables": {},
   "exception": null,
   "input_path": "universe_analysis.ipynb",
   "output_path": "output/runs/11/notebooks/m_11-476ea7a6aa33a2f4bd123d5b4485cd0a.ipynb",
   "parameters": {
    "output_dir": "output",
    "run_no": "11",
    "seed": "2023",
    "universe": "{\"cutoff\": [\"quantile_0.1\", \"quantile_0.25\"], \"eval_fairness_grouping\": [\"majority-minority\", \"nationality-all\"], \"exclude_features\": \"sex\", \"exclude_subgroups\": \"keep-all\", \"model\": \"elasticnet\", \"scale\": \"scale\", \"training_size\": \"2014\"}",
    "universe_id": "476ea7a6aa33a2f4bd123d5b4485cd0a"
   },
   "start_time": "2025-07-28T11:01:33.810089",
   "version": "2.6.0"
  }
 },
 "nbformat": 4,
 "nbformat_minor": 5
}