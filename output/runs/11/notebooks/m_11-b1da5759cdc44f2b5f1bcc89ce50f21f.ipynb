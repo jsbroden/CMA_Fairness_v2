{
 "cells": [
  {
   "cell_type": "code",
   "execution_count": 1,
   "id": "f159f837-637b-42ba-96b5-ec9a68c44524",
   "metadata": {
    "execution": {
     "iopub.execute_input": "2025-07-28T10:51:28.173177Z",
     "iopub.status.busy": "2025-07-28T10:51:28.172412Z",
     "iopub.status.idle": "2025-07-28T10:51:28.189228Z",
     "shell.execute_reply": "2025-07-28T10:51:28.188166Z"
    },
    "papermill": {
     "duration": 0.032727,
     "end_time": "2025-07-28T10:51:28.191465",
     "exception": false,
     "start_time": "2025-07-28T10:51:28.158738",
     "status": "completed"
    },
    "tags": []
   },
   "outputs": [
    {
     "name": "stdout",
     "output_type": "stream",
     "text": [
      "/dss/dsshome1/0C/ra93lal2/cma/CMA_Fairness_v2\n"
     ]
    },
    {
     "name": "stderr",
     "output_type": "stream",
     "text": [
      "/dss/dsshome1/0C/ra93lal2/.local/share/virtualenvs/CMA_Fairness_v2-3j10GkSs/lib/python3.10/site-packages/IPython/core/magics/osm.py:393: UserWarning: This is now an optional IPython functionality, using bookmarks requires you to install the `pickleshare` library.\n",
      "  bkms = self.shell.db.get('bookmarks', {})\n",
      "/dss/dsshome1/0C/ra93lal2/.local/share/virtualenvs/CMA_Fairness_v2-3j10GkSs/lib/python3.10/site-packages/IPython/core/magics/osm.py:417: UserWarning: This is now an optional IPython functionality, setting dhist requires you to install the `pickleshare` library.\n",
      "  self.shell.db['dhist'] = compress_dhist(dhist)[-100:]\n"
     ]
    }
   ],
   "source": [
    "%cd ~/cma/CMA_Fairness_v2"
   ]
  },
  {
   "cell_type": "markdown",
   "id": "de2603b9",
   "metadata": {
    "papermill": {
     "duration": 0.023358,
     "end_time": "2025-07-28T10:51:28.237651",
     "exception": false,
     "start_time": "2025-07-28T10:51:28.214293",
     "status": "completed"
    },
    "tags": []
   },
   "source": [
    "The following cell holds the definition of our parameters, these values can be overriden by rendering the with e.g. the following command:\n",
    "\n",
    "papermill -p alpha 0.2 -p ratio 0.3 universe_analysis.ipynb output/test_run.ipynb"
   ]
  },
  {
   "cell_type": "code",
   "execution_count": 2,
   "id": "a80968a0-40bb-4fa9-85ef-2d5eefb01975",
   "metadata": {
    "execution": {
     "iopub.execute_input": "2025-07-28T10:51:28.283417Z",
     "iopub.status.busy": "2025-07-28T10:51:28.282683Z",
     "iopub.status.idle": "2025-07-28T10:51:28.289262Z",
     "shell.execute_reply": "2025-07-28T10:51:28.288150Z"
    },
    "papermill": {
     "duration": 0.031247,
     "end_time": "2025-07-28T10:51:28.290909",
     "exception": false,
     "start_time": "2025-07-28T10:51:28.259662",
     "status": "completed"
    },
    "tags": []
   },
   "outputs": [
    {
     "name": "stdout",
     "output_type": "stream",
     "text": [
      "Current working directory: /dss/dsshome1/0C/ra93lal2/cma/CMA_Fairness_v2\n"
     ]
    }
   ],
   "source": [
    "import os\n",
    "print(\"Current working directory:\", os.getcwd())"
   ]
  },
  {
   "cell_type": "code",
   "execution_count": 3,
   "id": "2dce4c03",
   "metadata": {
    "execution": {
     "iopub.execute_input": "2025-07-28T10:51:28.333243Z",
     "iopub.status.busy": "2025-07-28T10:51:28.332387Z",
     "iopub.status.idle": "2025-07-28T10:51:28.339716Z",
     "shell.execute_reply": "2025-07-28T10:51:28.338626Z"
    },
    "papermill": {
     "duration": 0.029903,
     "end_time": "2025-07-28T10:51:28.341457",
     "exception": false,
     "start_time": "2025-07-28T10:51:28.311554",
     "status": "completed"
    },
    "tags": [
     "parameters"
    ]
   },
   "outputs": [],
   "source": [
    "run_no = 0\n",
    "universe_id = \"test\"\n",
    "universe = {\n",
    "    \"training_size\": \"2014\", # \"25k\", \"5k\", \"1k\", \"2014\"\n",
    "    \"scale\": \"scale\", # \"scale\", \"do-not-scale\",\n",
    "    #\"stratify_split\": \"target\", # \"none\", \"target\", \"protected-attribute\", \"both\",\n",
    "    \"model\": \"elasticnet\", # \"logreg\", \"penalized_logreg\", \"rf\", \"gbm\", \"elasticnet\"\n",
    "    \"cutoff\": [\"quantile_0.15\", \"quantile_0.30\"],\n",
    "    \"exclude_features\": \"age\", # \"none\", \"nationality\", \"sex\", \"nationality-sex\", \"age\"\n",
    "    \"exclude_subgroups\": \"keep-all\", # \"keep-all\", \"drop-non-german\"\n",
    "    \"eval_fairness_grouping\": [\"majority-minority\", \"nationality-all\"]\n",
    "}\n",
    "\n",
    "output_dir=\"./output\"\n",
    "seed=0"
   ]
  },
  {
   "cell_type": "code",
   "execution_count": 4,
   "id": "a13d5771",
   "metadata": {
    "execution": {
     "iopub.execute_input": "2025-07-28T10:51:28.382118Z",
     "iopub.status.busy": "2025-07-28T10:51:28.381263Z",
     "iopub.status.idle": "2025-07-28T10:51:28.387091Z",
     "shell.execute_reply": "2025-07-28T10:51:28.386001Z"
    },
    "papermill": {
     "duration": 0.028111,
     "end_time": "2025-07-28T10:51:28.388791",
     "exception": false,
     "start_time": "2025-07-28T10:51:28.360680",
     "status": "completed"
    },
    "tags": [
     "injected-parameters"
    ]
   },
   "outputs": [],
   "source": [
    "# Parameters\n",
    "universe_id = \"b1da5759cdc44f2b5f1bcc89ce50f21f\"\n",
    "run_no = \"11\"\n",
    "universe = \"{\\\"cutoff\\\": [\\\"quantile_0.1\\\", \\\"quantile_0.25\\\"], \\\"eval_fairness_grouping\\\": [\\\"majority-minority\\\", \\\"nationality-all\\\"], \\\"exclude_features\\\": \\\"none\\\", \\\"exclude_subgroups\\\": \\\"keep-all\\\", \\\"model\\\": \\\"elasticnet\\\", \\\"scale\\\": \\\"do-not-scale\\\", \\\"training_size\\\": \\\"1k\\\"}\"\n",
    "output_dir = \"output\"\n",
    "seed = \"2023\"\n"
   ]
  },
  {
   "cell_type": "code",
   "execution_count": 5,
   "id": "1650acaf",
   "metadata": {
    "execution": {
     "iopub.execute_input": "2025-07-28T10:51:28.429308Z",
     "iopub.status.busy": "2025-07-28T10:51:28.428566Z",
     "iopub.status.idle": "2025-07-28T10:51:28.434255Z",
     "shell.execute_reply": "2025-07-28T10:51:28.433019Z"
    },
    "papermill": {
     "duration": 0.02845,
     "end_time": "2025-07-28T10:51:28.437140",
     "exception": false,
     "start_time": "2025-07-28T10:51:28.408690",
     "status": "completed"
    },
    "tags": []
   },
   "outputs": [],
   "source": [
    "import json\n",
    "# Parse universe into dict if it is passed as a string\n",
    "if isinstance(universe, str):\n",
    "    universe = json.loads(universe)"
   ]
  },
  {
   "cell_type": "code",
   "execution_count": 6,
   "id": "16620c48",
   "metadata": {
    "execution": {
     "iopub.execute_input": "2025-07-28T10:51:28.480844Z",
     "iopub.status.busy": "2025-07-28T10:51:28.479866Z",
     "iopub.status.idle": "2025-07-28T10:51:28.528264Z",
     "shell.execute_reply": "2025-07-28T10:51:28.527399Z"
    },
    "papermill": {
     "duration": 0.071587,
     "end_time": "2025-07-28T10:51:28.530209",
     "exception": false,
     "start_time": "2025-07-28T10:51:28.458622",
     "status": "completed"
    },
    "tags": []
   },
   "outputs": [],
   "source": [
    "# Auto-reload the custom package\n",
    "%load_ext autoreload\n",
    "%autoreload 1\n",
    "%aimport fairness_multiverse"
   ]
  },
  {
   "cell_type": "code",
   "execution_count": 7,
   "id": "01c5c9f3",
   "metadata": {
    "execution": {
     "iopub.execute_input": "2025-07-28T10:51:28.573144Z",
     "iopub.status.busy": "2025-07-28T10:51:28.572405Z",
     "iopub.status.idle": "2025-07-28T10:51:30.447003Z",
     "shell.execute_reply": "2025-07-28T10:51:30.446150Z"
    },
    "papermill": {
     "duration": 1.898788,
     "end_time": "2025-07-28T10:51:30.448953",
     "exception": false,
     "start_time": "2025-07-28T10:51:28.550165",
     "status": "completed"
    },
    "tags": []
   },
   "outputs": [],
   "source": [
    "from fairness_multiverse.universe import UniverseAnalysis\n",
    "\n",
    "universe_analysis = UniverseAnalysis(\n",
    "    run_no = run_no,\n",
    "    universe_id = universe_id,\n",
    "    universe = universe,\n",
    "    output_dir=output_dir,\n",
    ")"
   ]
  },
  {
   "cell_type": "code",
   "execution_count": 8,
   "id": "106241f5",
   "metadata": {
    "execution": {
     "iopub.execute_input": "2025-07-28T10:51:30.473053Z",
     "iopub.status.busy": "2025-07-28T10:51:30.472669Z",
     "iopub.status.idle": "2025-07-28T10:51:30.479639Z",
     "shell.execute_reply": "2025-07-28T10:51:30.478836Z"
    },
    "papermill": {
     "duration": 0.021094,
     "end_time": "2025-07-28T10:51:30.481069",
     "exception": false,
     "start_time": "2025-07-28T10:51:30.459975",
     "status": "completed"
    },
    "tags": []
   },
   "outputs": [
    {
     "name": "stdout",
     "output_type": "stream",
     "text": [
      "Using Seed: 2023\n"
     ]
    }
   ],
   "source": [
    "import numpy as np\n",
    "parsed_seed = int(seed)\n",
    "np.random.seed(parsed_seed)\n",
    "print(f\"Using Seed: {parsed_seed}\")"
   ]
  },
  {
   "cell_type": "markdown",
   "id": "e0ebdc57",
   "metadata": {
    "papermill": {
     "duration": 0.010794,
     "end_time": "2025-07-28T10:51:30.503452",
     "exception": false,
     "start_time": "2025-07-28T10:51:30.492658",
     "status": "completed"
    },
    "tags": []
   },
   "source": [
    "# Loading Data"
   ]
  },
  {
   "cell_type": "markdown",
   "id": "681925a3",
   "metadata": {
    "papermill": {
     "duration": 0.011015,
     "end_time": "2025-07-28T10:51:30.525444",
     "exception": false,
     "start_time": "2025-07-28T10:51:30.514429",
     "status": "completed"
    },
    "tags": []
   },
   "source": [
    "Load siab_train, siab_test, siab_calib and/or \n",
    "load siab_train_features, siab_train_labels"
   ]
  },
  {
   "cell_type": "code",
   "execution_count": 9,
   "id": "f0496b8a",
   "metadata": {
    "execution": {
     "iopub.execute_input": "2025-07-28T10:51:30.549179Z",
     "iopub.status.busy": "2025-07-28T10:51:30.548655Z",
     "iopub.status.idle": "2025-07-28T10:51:43.241616Z",
     "shell.execute_reply": "2025-07-28T10:51:43.240421Z"
    },
    "papermill": {
     "duration": 12.706844,
     "end_time": "2025-07-28T10:51:43.243385",
     "exception": false,
     "start_time": "2025-07-28T10:51:30.536541",
     "status": "completed"
    },
    "tags": []
   },
   "outputs": [
    {
     "name": "stdout",
     "output_type": "stream",
     "text": [
      "Loading SIAB data from cache: data/siab_cached.csv.gz\n"
     ]
    },
    {
     "name": "stdout",
     "output_type": "stream",
     "text": [
      "(643690, 164)\n"
     ]
    }
   ],
   "source": [
    "from pathlib import Path\n",
    "import pandas as pd\n",
    "\n",
    "# File paths\n",
    "raw_file = Path(\"data/raw/siab.csv\")\n",
    "cache_file = Path(\"data/siab_cached.csv.gz\")\n",
    "\n",
    "# Ensure cache directory exists\n",
    "cache_file.parent.mkdir(parents=True, exist_ok=True)\n",
    "\n",
    "# Load with simple caching\n",
    "if cache_file.exists():\n",
    "    print(f\"Loading SIAB data from cache: {cache_file}\")\n",
    "    siab = pd.read_csv(cache_file, compression='gzip')\n",
    "else:\n",
    "    print(f\"Cache not found. Reading raw SIAB data: {raw_file}\")\n",
    "    siab = pd.read_csv(raw_file)\n",
    "    siab.to_csv(cache_file, index=False, compression='gzip')\n",
    "    print(f\"Cached SIAB data to: {cache_file}\")\n",
    "\n",
    "# Now use `siab` DataFrame as needed\n",
    "print(siab.shape)"
   ]
  },
  {
   "cell_type": "code",
   "execution_count": 10,
   "id": "db0ca512-5f53-4dba-abdb-a2888bca41ba",
   "metadata": {
    "execution": {
     "iopub.execute_input": "2025-07-28T10:51:43.302849Z",
     "iopub.status.busy": "2025-07-28T10:51:43.302266Z",
     "iopub.status.idle": "2025-07-28T10:51:43.308589Z",
     "shell.execute_reply": "2025-07-28T10:51:43.307254Z"
    },
    "papermill": {
     "duration": 0.020848,
     "end_time": "2025-07-28T10:51:43.310540",
     "exception": false,
     "start_time": "2025-07-28T10:51:43.289692",
     "status": "completed"
    },
    "tags": []
   },
   "outputs": [],
   "source": [
    "#siab"
   ]
  },
  {
   "cell_type": "code",
   "execution_count": 11,
   "id": "a0edb063",
   "metadata": {
    "execution": {
     "iopub.execute_input": "2025-07-28T10:51:43.354450Z",
     "iopub.status.busy": "2025-07-28T10:51:43.353361Z",
     "iopub.status.idle": "2025-07-28T10:51:43.359696Z",
     "shell.execute_reply": "2025-07-28T10:51:43.358546Z"
    },
    "papermill": {
     "duration": 0.029637,
     "end_time": "2025-07-28T10:51:43.361514",
     "exception": false,
     "start_time": "2025-07-28T10:51:43.331877",
     "status": "completed"
    },
    "tags": []
   },
   "outputs": [],
   "source": [
    "#import pandas as pd\n",
    "#\n",
    "#X_train = pd.read_csv(\"./data/X_train.csv\")\n",
    "#y_train = pd.read_csv(\"./data/y_train.csv\")"
   ]
  },
  {
   "cell_type": "code",
   "execution_count": 12,
   "id": "63d08085",
   "metadata": {
    "execution": {
     "iopub.execute_input": "2025-07-28T10:51:43.404650Z",
     "iopub.status.busy": "2025-07-28T10:51:43.403906Z",
     "iopub.status.idle": "2025-07-28T10:51:43.409010Z",
     "shell.execute_reply": "2025-07-28T10:51:43.407994Z"
    },
    "papermill": {
     "duration": 0.02819,
     "end_time": "2025-07-28T10:51:43.410630",
     "exception": false,
     "start_time": "2025-07-28T10:51:43.382440",
     "status": "completed"
    },
    "tags": []
   },
   "outputs": [],
   "source": [
    "#X_test = pd.read_csv(\"./data/X_test.csv\")\n",
    "#y_true = pd.read_csv(\"./data/y_test.csv\")"
   ]
  },
  {
   "cell_type": "code",
   "execution_count": 13,
   "id": "98a8d0fa-1d3d-4ed8-bb2c-281470e24add",
   "metadata": {
    "execution": {
     "iopub.execute_input": "2025-07-28T10:51:43.454342Z",
     "iopub.status.busy": "2025-07-28T10:51:43.453392Z",
     "iopub.status.idle": "2025-07-28T10:51:43.459304Z",
     "shell.execute_reply": "2025-07-28T10:51:43.458424Z"
    },
    "papermill": {
     "duration": 0.029175,
     "end_time": "2025-07-28T10:51:43.460980",
     "exception": false,
     "start_time": "2025-07-28T10:51:43.431805",
     "status": "completed"
    },
    "tags": []
   },
   "outputs": [],
   "source": [
    "# Calibration data for conformal\n",
    "#X_calib = pd.read_csv(\"./data/X_calib.csv\")\n",
    "#y_calib = pd.read_csv(\"./data/y_calib.csv\")"
   ]
  },
  {
   "cell_type": "markdown",
   "id": "9901737e-04df-44f0-9100-f5ad144ed040",
   "metadata": {
    "papermill": {
     "duration": 0.020473,
     "end_time": "2025-07-28T10:51:43.501900",
     "exception": false,
     "start_time": "2025-07-28T10:51:43.481427",
     "status": "completed"
    },
    "tags": []
   },
   "source": [
    "# Splitting Data and Setting Training Data Size"
   ]
  },
  {
   "cell_type": "code",
   "execution_count": 14,
   "id": "acbc8f7d-8fc8-4e86-8c59-5dcb0f58384b",
   "metadata": {
    "execution": {
     "iopub.execute_input": "2025-07-28T10:51:43.543504Z",
     "iopub.status.busy": "2025-07-28T10:51:43.542963Z",
     "iopub.status.idle": "2025-07-28T10:51:43.553077Z",
     "shell.execute_reply": "2025-07-28T10:51:43.551908Z"
    },
    "papermill": {
     "duration": 0.032943,
     "end_time": "2025-07-28T10:51:43.554886",
     "exception": false,
     "start_time": "2025-07-28T10:51:43.521943",
     "status": "completed"
    },
    "tags": []
   },
   "outputs": [],
   "source": [
    "def sample_by_year(df, training_size, random_state=42):\n",
    "    if training_size == \"2014\":\n",
    "        return df[df[\"year\"] == 2014].reset_index(drop=True)\n",
    "    \n",
    "    size_map = {\n",
    "        \"25k\": 5000,\n",
    "        \"5k\": 1000,\n",
    "        \"1k\": 200\n",
    "    }\n",
    "\n",
    "    if training_size not in size_map:\n",
    "        return df.reset_index(drop=True)  # use all data\n",
    "\n",
    "    n_per_year = size_map[training_size]\n",
    "    grouped = df.groupby(\"year\")\n",
    "    sampled = grouped.apply(lambda x: x.sample(n=min(n_per_year, len(x)), random_state=random_state))\n",
    "    return sampled.reset_index(drop=True)"
   ]
  },
  {
   "cell_type": "code",
   "execution_count": 15,
   "id": "6d931f52-beaf-43ff-9e78-9d44a448d54e",
   "metadata": {
    "execution": {
     "iopub.execute_input": "2025-07-28T10:51:43.597237Z",
     "iopub.status.busy": "2025-07-28T10:51:43.596778Z",
     "iopub.status.idle": "2025-07-28T10:51:44.307192Z",
     "shell.execute_reply": "2025-07-28T10:51:44.306173Z"
    },
    "papermill": {
     "duration": 0.734188,
     "end_time": "2025-07-28T10:51:44.309321",
     "exception": false,
     "start_time": "2025-07-28T10:51:43.575133",
     "status": "completed"
    },
    "tags": []
   },
   "outputs": [],
   "source": [
    "siab_s = sample_by_year(siab, universe[\"training_size\"])"
   ]
  },
  {
   "cell_type": "code",
   "execution_count": 16,
   "id": "5db0a40e-a4e2-4920-be85-b12ae061d70d",
   "metadata": {
    "execution": {
     "iopub.execute_input": "2025-07-28T10:51:44.352076Z",
     "iopub.status.busy": "2025-07-28T10:51:44.351554Z",
     "iopub.status.idle": "2025-07-28T10:51:44.366588Z",
     "shell.execute_reply": "2025-07-28T10:51:44.365500Z"
    },
    "papermill": {
     "duration": 0.038312,
     "end_time": "2025-07-28T10:51:44.368397",
     "exception": false,
     "start_time": "2025-07-28T10:51:44.330085",
     "status": "completed"
    },
    "tags": []
   },
   "outputs": [
    {
     "data": {
      "text/plain": [
       "year\n",
       "2010    200\n",
       "2011    200\n",
       "2012    200\n",
       "2013    200\n",
       "2014    200\n",
       "2015    200\n",
       "2016    200\n",
       "dtype: int64"
      ]
     },
     "metadata": {},
     "output_type": "display_data"
    }
   ],
   "source": [
    "display(siab_s.groupby(\"year\").size())"
   ]
  },
  {
   "cell_type": "code",
   "execution_count": 17,
   "id": "a561edb4-d032-42cb-8256-22eac1111c64",
   "metadata": {
    "execution": {
     "iopub.execute_input": "2025-07-28T10:51:44.412968Z",
     "iopub.status.busy": "2025-07-28T10:51:44.412152Z",
     "iopub.status.idle": "2025-07-28T10:51:44.706545Z",
     "shell.execute_reply": "2025-07-28T10:51:44.705519Z"
    },
    "papermill": {
     "duration": 0.318939,
     "end_time": "2025-07-28T10:51:44.708467",
     "exception": false,
     "start_time": "2025-07-28T10:51:44.389528",
     "status": "completed"
    },
    "tags": []
   },
   "outputs": [],
   "source": [
    "siab_train = siab_s[siab_s.year < 2015]\n",
    "siab_calib = siab[siab.year == 2015]\n",
    "siab_test = siab[siab.year == 2016]"
   ]
  },
  {
   "cell_type": "code",
   "execution_count": 18,
   "id": "472de16f-c3db-4916-846b-1f0de9cf1746",
   "metadata": {
    "execution": {
     "iopub.execute_input": "2025-07-28T10:51:44.752923Z",
     "iopub.status.busy": "2025-07-28T10:51:44.752223Z",
     "iopub.status.idle": "2025-07-28T10:51:44.759060Z",
     "shell.execute_reply": "2025-07-28T10:51:44.758030Z"
    },
    "papermill": {
     "duration": 0.030315,
     "end_time": "2025-07-28T10:51:44.760645",
     "exception": false,
     "start_time": "2025-07-28T10:51:44.730330",
     "status": "completed"
    },
    "tags": []
   },
   "outputs": [],
   "source": [
    "X_train = siab_train.iloc[:,4:164]\n",
    "y_train = siab_train.iloc[:, [3]]"
   ]
  },
  {
   "cell_type": "code",
   "execution_count": 19,
   "id": "828c96af-f43a-4ed6-ba47-8ac73a47d56c",
   "metadata": {
    "execution": {
     "iopub.execute_input": "2025-07-28T10:51:44.803456Z",
     "iopub.status.busy": "2025-07-28T10:51:44.802517Z",
     "iopub.status.idle": "2025-07-28T10:51:44.862600Z",
     "shell.execute_reply": "2025-07-28T10:51:44.861450Z"
    },
    "papermill": {
     "duration": 0.082649,
     "end_time": "2025-07-28T10:51:44.864449",
     "exception": false,
     "start_time": "2025-07-28T10:51:44.781800",
     "status": "completed"
    },
    "tags": []
   },
   "outputs": [],
   "source": [
    "X_calib = siab_calib.iloc[:,4:164]\n",
    "y_calib = siab_calib.iloc[:, [3]]"
   ]
  },
  {
   "cell_type": "code",
   "execution_count": 20,
   "id": "c34be9c3-6bd6-476e-acd3-845840e303be",
   "metadata": {
    "execution": {
     "iopub.execute_input": "2025-07-28T10:51:44.922703Z",
     "iopub.status.busy": "2025-07-28T10:51:44.922040Z",
     "iopub.status.idle": "2025-07-28T10:51:44.986556Z",
     "shell.execute_reply": "2025-07-28T10:51:44.985255Z"
    },
    "papermill": {
     "duration": 0.102583,
     "end_time": "2025-07-28T10:51:44.989908",
     "exception": false,
     "start_time": "2025-07-28T10:51:44.887325",
     "status": "completed"
    },
    "tags": []
   },
   "outputs": [],
   "source": [
    "X_test = siab_test.iloc[:,4:164]\n",
    "y_true = siab_test.iloc[:, [3]]"
   ]
  },
  {
   "cell_type": "code",
   "execution_count": 21,
   "id": "e6c733c5",
   "metadata": {
    "execution": {
     "iopub.execute_input": "2025-07-28T10:51:45.047779Z",
     "iopub.status.busy": "2025-07-28T10:51:45.047230Z",
     "iopub.status.idle": "2025-07-28T10:51:45.177319Z",
     "shell.execute_reply": "2025-07-28T10:51:45.176234Z"
    },
    "papermill": {
     "duration": 0.161118,
     "end_time": "2025-07-28T10:51:45.179302",
     "exception": false,
     "start_time": "2025-07-28T10:51:45.018184",
     "status": "completed"
    },
    "tags": []
   },
   "outputs": [],
   "source": [
    "# Auxiliary data needed downstream in the pipeline\n",
    "\n",
    "org_train = X_train.copy()\n",
    "org_test = X_test.copy()\n",
    "org_calib = X_calib.copy()"
   ]
  },
  {
   "cell_type": "markdown",
   "id": "0a4a1b33",
   "metadata": {
    "papermill": {
     "duration": 0.02134,
     "end_time": "2025-07-28T10:51:45.222616",
     "exception": false,
     "start_time": "2025-07-28T10:51:45.201276",
     "status": "completed"
    },
    "tags": []
   },
   "source": [
    "# Preprocessing Data"
   ]
  },
  {
   "cell_type": "code",
   "execution_count": 22,
   "id": "ca879031",
   "metadata": {
    "execution": {
     "iopub.execute_input": "2025-07-28T10:51:45.266991Z",
     "iopub.status.busy": "2025-07-28T10:51:45.266095Z",
     "iopub.status.idle": "2025-07-28T10:51:45.272925Z",
     "shell.execute_reply": "2025-07-28T10:51:45.271847Z"
    },
    "papermill": {
     "duration": 0.031398,
     "end_time": "2025-07-28T10:51:45.274525",
     "exception": false,
     "start_time": "2025-07-28T10:51:45.243127",
     "status": "completed"
    },
    "tags": []
   },
   "outputs": [],
   "source": [
    "# EXCLUDE PROTECTED FEATURES\n",
    "# ----------------------\n",
    "# \"exclude_features\": \"none\", # \"nationality\", \"sex\", \"nationality-sex\"\n",
    "\n",
    "excluded_features = universe[\"exclude_features\"].split(\"-\") # split, e.g.: \"nationality-sex\" -> [\"nationality\", \"sex\"]\n",
    "excluded_features_dictionary = {\n",
    "    \"nationality\": [\"maxdeutsch1\", \"maxdeutsch.Missing.\"],\n",
    "    \"sex\": [\"frau1\"],\n",
    "    \"age\": [\"age\"],\n",
    "}\n"
   ]
  },
  {
   "cell_type": "code",
   "execution_count": 23,
   "id": "b745ac60",
   "metadata": {
    "execution": {
     "iopub.execute_input": "2025-07-28T10:51:45.319511Z",
     "iopub.status.busy": "2025-07-28T10:51:45.318804Z",
     "iopub.status.idle": "2025-07-28T10:51:45.325803Z",
     "shell.execute_reply": "2025-07-28T10:51:45.324786Z"
    },
    "papermill": {
     "duration": 0.033071,
     "end_time": "2025-07-28T10:51:45.328943",
     "exception": false,
     "start_time": "2025-07-28T10:51:45.295872",
     "status": "completed"
    },
    "tags": []
   },
   "outputs": [],
   "source": [
    "# Code nice names to column names\n",
    "\n",
    "excluded_features_columns = [\n",
    "    excluded_features_dictionary[f] for f in excluded_features if len(f) > 0 and f != \"none\"\n",
    "]"
   ]
  },
  {
   "cell_type": "code",
   "execution_count": 24,
   "id": "f84f73a2",
   "metadata": {
    "execution": {
     "iopub.execute_input": "2025-07-28T10:51:45.358641Z",
     "iopub.status.busy": "2025-07-28T10:51:45.358110Z",
     "iopub.status.idle": "2025-07-28T10:51:45.364764Z",
     "shell.execute_reply": "2025-07-28T10:51:45.363806Z"
    },
    "papermill": {
     "duration": 0.024279,
     "end_time": "2025-07-28T10:51:45.366362",
     "exception": false,
     "start_time": "2025-07-28T10:51:45.342083",
     "status": "completed"
    },
    "tags": []
   },
   "outputs": [],
   "source": [
    "from utils import flatten_once\n",
    "\n",
    "excluded_features_columns = flatten_once(excluded_features_columns)"
   ]
  },
  {
   "cell_type": "code",
   "execution_count": 25,
   "id": "884dea22",
   "metadata": {
    "execution": {
     "iopub.execute_input": "2025-07-28T10:51:45.413412Z",
     "iopub.status.busy": "2025-07-28T10:51:45.412548Z",
     "iopub.status.idle": "2025-07-28T10:51:45.418907Z",
     "shell.execute_reply": "2025-07-28T10:51:45.417948Z"
    },
    "papermill": {
     "duration": 0.031773,
     "end_time": "2025-07-28T10:51:45.420617",
     "exception": false,
     "start_time": "2025-07-28T10:51:45.388844",
     "status": "completed"
    },
    "tags": []
   },
   "outputs": [],
   "source": [
    "if len(excluded_features_columns) > 0:\n",
    "    print(f\"Dropping features: {excluded_features_columns}\")\n",
    "    X_train.drop(excluded_features_columns, axis=1, inplace=True)"
   ]
  },
  {
   "cell_type": "code",
   "execution_count": 26,
   "id": "95ab8b16",
   "metadata": {
    "execution": {
     "iopub.execute_input": "2025-07-28T10:51:45.451544Z",
     "iopub.status.busy": "2025-07-28T10:51:45.451113Z",
     "iopub.status.idle": "2025-07-28T10:51:45.457525Z",
     "shell.execute_reply": "2025-07-28T10:51:45.456506Z"
    },
    "papermill": {
     "duration": 0.020645,
     "end_time": "2025-07-28T10:51:45.459203",
     "exception": false,
     "start_time": "2025-07-28T10:51:45.438558",
     "status": "completed"
    },
    "tags": []
   },
   "outputs": [],
   "source": [
    "if len(excluded_features_columns) > 0:\n",
    "    print(f\"Dropping features: {excluded_features_columns}\")\n",
    "    X_test.drop(excluded_features_columns, axis=1, inplace=True)"
   ]
  },
  {
   "cell_type": "code",
   "execution_count": 27,
   "id": "1853aaf5-fb9f-46cb-a2b5-8ea4ae2237e4",
   "metadata": {
    "execution": {
     "iopub.execute_input": "2025-07-28T10:51:45.503728Z",
     "iopub.status.busy": "2025-07-28T10:51:45.503149Z",
     "iopub.status.idle": "2025-07-28T10:51:45.509595Z",
     "shell.execute_reply": "2025-07-28T10:51:45.508546Z"
    },
    "papermill": {
     "duration": 0.029112,
     "end_time": "2025-07-28T10:51:45.511377",
     "exception": false,
     "start_time": "2025-07-28T10:51:45.482265",
     "status": "completed"
    },
    "tags": []
   },
   "outputs": [],
   "source": [
    "if len(excluded_features_columns) > 0:\n",
    "    print(f\"Dropping features: {excluded_features_columns}\")\n",
    "    X_calib.drop(excluded_features_columns, axis=1, inplace=True)"
   ]
  },
  {
   "cell_type": "code",
   "execution_count": 28,
   "id": "6727d079-03e5-481e-9d38-292a90b7a0a8",
   "metadata": {
    "execution": {
     "iopub.execute_input": "2025-07-28T10:51:45.557547Z",
     "iopub.status.busy": "2025-07-28T10:51:45.557195Z",
     "iopub.status.idle": "2025-07-28T10:51:45.561680Z",
     "shell.execute_reply": "2025-07-28T10:51:45.560837Z"
    },
    "papermill": {
     "duration": 0.02859,
     "end_time": "2025-07-28T10:51:45.562954",
     "exception": false,
     "start_time": "2025-07-28T10:51:45.534364",
     "status": "completed"
    },
    "tags": []
   },
   "outputs": [],
   "source": [
    "# SPLIT & STRATIFY DATA\n",
    "# ----------------------"
   ]
  },
  {
   "cell_type": "code",
   "execution_count": 29,
   "id": "76c4dc6d",
   "metadata": {
    "execution": {
     "iopub.execute_input": "2025-07-28T10:51:45.588707Z",
     "iopub.status.busy": "2025-07-28T10:51:45.587993Z",
     "iopub.status.idle": "2025-07-28T10:51:45.593105Z",
     "shell.execute_reply": "2025-07-28T10:51:45.592272Z"
    },
    "papermill": {
     "duration": 0.019367,
     "end_time": "2025-07-28T10:51:45.594392",
     "exception": false,
     "start_time": "2025-07-28T10:51:45.575025",
     "status": "completed"
    },
    "tags": []
   },
   "outputs": [],
   "source": [
    "# EXCLUDE CERTAIN SUBGROUPS\n",
    "# ----------------------\n",
    "\n",
    "mode = universe.get(\"exclude_subgroups\", \"keep-all\") \n",
    "# Fetches the exclude_subgroups setting from the universe dict.\n",
    "# Defaults to \"keep-all\" if the key is missing."
   ]
  },
  {
   "cell_type": "code",
   "execution_count": 30,
   "id": "21994072",
   "metadata": {
    "execution": {
     "iopub.execute_input": "2025-07-28T10:51:45.620357Z",
     "iopub.status.busy": "2025-07-28T10:51:45.619819Z",
     "iopub.status.idle": "2025-07-28T10:51:45.625368Z",
     "shell.execute_reply": "2025-07-28T10:51:45.624556Z"
    },
    "papermill": {
     "duration": 0.020711,
     "end_time": "2025-07-28T10:51:45.626954",
     "exception": false,
     "start_time": "2025-07-28T10:51:45.606243",
     "status": "completed"
    },
    "tags": []
   },
   "outputs": [],
   "source": [
    "if mode == \"keep-all\":\n",
    "    keep_mask = pd.Series(True, index=org_train.index)\n",
    "\n",
    "# org_train contains the original feature columns from features_org (in Simson)\n",
    "# features_org contains unprocessed features, for me X_train at beginning ???\n",
    "# For keep-all, creates a boolean Series (keep_mask) of all True, so no rows are removed.\n",
    "\n",
    "elif mode == \"drop-non-german\":\n",
    "    keep_mask = org_train[\"maxdeutsch1\"] == 1 # ??? what about missing values?\n",
    "\n",
    "else:\n",
    "    raise ValueError(f\"Unsupported mode for exclude_subgroups: {mode}\")\n"
   ]
  },
  {
   "cell_type": "code",
   "execution_count": 31,
   "id": "71651440",
   "metadata": {
    "execution": {
     "iopub.execute_input": "2025-07-28T10:51:45.671101Z",
     "iopub.status.busy": "2025-07-28T10:51:45.670551Z",
     "iopub.status.idle": "2025-07-28T10:51:45.676054Z",
     "shell.execute_reply": "2025-07-28T10:51:45.675277Z"
    },
    "papermill": {
     "duration": 0.029052,
     "end_time": "2025-07-28T10:51:45.677337",
     "exception": false,
     "start_time": "2025-07-28T10:51:45.648285",
     "status": "completed"
    },
    "tags": []
   },
   "outputs": [],
   "source": [
    "n_drop = (~keep_mask).sum() # Calculates how many rows are set to be dropped\n",
    "if n_drop > 0:\n",
    "    pct = n_drop / len(keep_mask) * 100\n",
    "    print(f\"Dropping {n_drop} rows ({pct:.2f}%) where mode='{mode}'\")"
   ]
  },
  {
   "cell_type": "code",
   "execution_count": 32,
   "id": "5fb8eee5",
   "metadata": {
    "execution": {
     "iopub.execute_input": "2025-07-28T10:51:45.704012Z",
     "iopub.status.busy": "2025-07-28T10:51:45.703446Z",
     "iopub.status.idle": "2025-07-28T10:51:45.709759Z",
     "shell.execute_reply": "2025-07-28T10:51:45.708756Z"
    },
    "papermill": {
     "duration": 0.021889,
     "end_time": "2025-07-28T10:51:45.711534",
     "exception": false,
     "start_time": "2025-07-28T10:51:45.689645",
     "status": "completed"
    },
    "tags": []
   },
   "outputs": [],
   "source": [
    "X_train = X_train[keep_mask]"
   ]
  },
  {
   "cell_type": "code",
   "execution_count": 33,
   "id": "b202bb3a",
   "metadata": {
    "execution": {
     "iopub.execute_input": "2025-07-28T10:51:45.759996Z",
     "iopub.status.busy": "2025-07-28T10:51:45.759431Z",
     "iopub.status.idle": "2025-07-28T10:51:45.766083Z",
     "shell.execute_reply": "2025-07-28T10:51:45.765158Z"
    },
    "papermill": {
     "duration": 0.031793,
     "end_time": "2025-07-28T10:51:45.767775",
     "exception": false,
     "start_time": "2025-07-28T10:51:45.735982",
     "status": "completed"
    },
    "tags": []
   },
   "outputs": [],
   "source": [
    "y_train = y_train[keep_mask]"
   ]
  },
  {
   "cell_type": "markdown",
   "id": "493e2ac3",
   "metadata": {
    "papermill": {
     "duration": 0.021936,
     "end_time": "2025-07-28T10:51:45.812497",
     "exception": false,
     "start_time": "2025-07-28T10:51:45.790561",
     "status": "completed"
    },
    "tags": []
   },
   "source": [
    "# Model Training"
   ]
  },
  {
   "cell_type": "code",
   "execution_count": 34,
   "id": "679e1268",
   "metadata": {
    "execution": {
     "iopub.execute_input": "2025-07-28T10:51:45.866389Z",
     "iopub.status.busy": "2025-07-28T10:51:45.865541Z",
     "iopub.status.idle": "2025-07-28T10:51:45.957075Z",
     "shell.execute_reply": "2025-07-28T10:51:45.956276Z"
    },
    "papermill": {
     "duration": 0.12481,
     "end_time": "2025-07-28T10:51:45.958636",
     "exception": false,
     "start_time": "2025-07-28T10:51:45.833826",
     "status": "completed"
    },
    "tags": []
   },
   "outputs": [],
   "source": [
    "from sklearn.linear_model import LogisticRegression\n",
    "from sklearn.ensemble import GradientBoostingClassifier, RandomForestClassifier\n",
    "\n",
    "if (universe[\"model\"] == \"logreg\"):\n",
    "    model = LogisticRegression() #penalty=\"none\") #, solver=\"newton-cg\", max_iter=1) # include random_state=19 ?\n",
    "elif (universe[\"model\"] == \"penalized_logreg\"):\n",
    "    model = LogisticRegression(penalty=\"l2\", C=1.0) #, solver=\"newton-cg\", max_iter=1)\n",
    "elif (universe[\"model\"] == \"rf\"):\n",
    "    model = RandomForestClassifier(n_estimators=100, n_jobs=-1)\n",
    "elif (universe[\"model\"] == \"gbm\"):\n",
    "    model = GradientBoostingClassifier()\n",
    "elif (universe[\"model\"] == \"elasticnet\"):\n",
    "    model = LogisticRegression(penalty = 'elasticnet', solver = 'saga', l1_ratio = 0.5, max_iter=5000) # which solver to use?\n",
    "else:\n",
    "    raise \"Unsupported universe.model\""
   ]
  },
  {
   "cell_type": "code",
   "execution_count": 35,
   "id": "0cc8f744",
   "metadata": {
    "execution": {
     "iopub.execute_input": "2025-07-28T10:51:45.984126Z",
     "iopub.status.busy": "2025-07-28T10:51:45.983337Z",
     "iopub.status.idle": "2025-07-28T10:51:45.989350Z",
     "shell.execute_reply": "2025-07-28T10:51:45.988354Z"
    },
    "papermill": {
     "duration": 0.020749,
     "end_time": "2025-07-28T10:51:45.991045",
     "exception": false,
     "start_time": "2025-07-28T10:51:45.970296",
     "status": "completed"
    },
    "tags": []
   },
   "outputs": [],
   "source": [
    "import numpy as np\n",
    "from sklearn.pipeline import Pipeline\n",
    "from sklearn.preprocessing import StandardScaler\n",
    "\n",
    "model = Pipeline([\n",
    "    #(\"continuous_processor\", continuous_processor),\n",
    "    #(\"categorical_preprocessor\", categorical_preprocessor),\n",
    "    (\"scale\", StandardScaler() if universe[\"scale\"] == \"scale\" else None), \n",
    "    (\"model\", model),\n",
    "])"
   ]
  },
  {
   "cell_type": "code",
   "execution_count": 36,
   "id": "9442c04d",
   "metadata": {
    "execution": {
     "iopub.execute_input": "2025-07-28T10:51:46.038991Z",
     "iopub.status.busy": "2025-07-28T10:51:46.038481Z",
     "iopub.status.idle": "2025-07-28T10:52:04.507102Z",
     "shell.execute_reply": "2025-07-28T10:52:04.506199Z"
    },
    "papermill": {
     "duration": 18.493691,
     "end_time": "2025-07-28T10:52:04.508558",
     "exception": false,
     "start_time": "2025-07-28T10:51:46.014867",
     "status": "completed"
    },
    "tags": []
   },
   "outputs": [
    {
     "name": "stderr",
     "output_type": "stream",
     "text": [
      "/dss/dsshome1/0C/ra93lal2/.local/share/virtualenvs/CMA_Fairness_v2-3j10GkSs/lib/python3.10/site-packages/sklearn/linear_model/_sag.py:350: ConvergenceWarning: The max_iter was reached which means the coef_ did not converge\n",
      "  warnings.warn(\n"
     ]
    },
    {
     "data": {
      "text/html": [
       "<style>#sk-container-id-1 {color: black;background-color: white;}#sk-container-id-1 pre{padding: 0;}#sk-container-id-1 div.sk-toggleable {background-color: white;}#sk-container-id-1 label.sk-toggleable__label {cursor: pointer;display: block;width: 100%;margin-bottom: 0;padding: 0.3em;box-sizing: border-box;text-align: center;}#sk-container-id-1 label.sk-toggleable__label-arrow:before {content: \"▸\";float: left;margin-right: 0.25em;color: #696969;}#sk-container-id-1 label.sk-toggleable__label-arrow:hover:before {color: black;}#sk-container-id-1 div.sk-estimator:hover label.sk-toggleable__label-arrow:before {color: black;}#sk-container-id-1 div.sk-toggleable__content {max-height: 0;max-width: 0;overflow: hidden;text-align: left;background-color: #f0f8ff;}#sk-container-id-1 div.sk-toggleable__content pre {margin: 0.2em;color: black;border-radius: 0.25em;background-color: #f0f8ff;}#sk-container-id-1 input.sk-toggleable__control:checked~div.sk-toggleable__content {max-height: 200px;max-width: 100%;overflow: auto;}#sk-container-id-1 input.sk-toggleable__control:checked~label.sk-toggleable__label-arrow:before {content: \"▾\";}#sk-container-id-1 div.sk-estimator input.sk-toggleable__control:checked~label.sk-toggleable__label {background-color: #d4ebff;}#sk-container-id-1 div.sk-label input.sk-toggleable__control:checked~label.sk-toggleable__label {background-color: #d4ebff;}#sk-container-id-1 input.sk-hidden--visually {border: 0;clip: rect(1px 1px 1px 1px);clip: rect(1px, 1px, 1px, 1px);height: 1px;margin: -1px;overflow: hidden;padding: 0;position: absolute;width: 1px;}#sk-container-id-1 div.sk-estimator {font-family: monospace;background-color: #f0f8ff;border: 1px dotted black;border-radius: 0.25em;box-sizing: border-box;margin-bottom: 0.5em;}#sk-container-id-1 div.sk-estimator:hover {background-color: #d4ebff;}#sk-container-id-1 div.sk-parallel-item::after {content: \"\";width: 100%;border-bottom: 1px solid gray;flex-grow: 1;}#sk-container-id-1 div.sk-label:hover label.sk-toggleable__label {background-color: #d4ebff;}#sk-container-id-1 div.sk-serial::before {content: \"\";position: absolute;border-left: 1px solid gray;box-sizing: border-box;top: 0;bottom: 0;left: 50%;z-index: 0;}#sk-container-id-1 div.sk-serial {display: flex;flex-direction: column;align-items: center;background-color: white;padding-right: 0.2em;padding-left: 0.2em;position: relative;}#sk-container-id-1 div.sk-item {position: relative;z-index: 1;}#sk-container-id-1 div.sk-parallel {display: flex;align-items: stretch;justify-content: center;background-color: white;position: relative;}#sk-container-id-1 div.sk-item::before, #sk-container-id-1 div.sk-parallel-item::before {content: \"\";position: absolute;border-left: 1px solid gray;box-sizing: border-box;top: 0;bottom: 0;left: 50%;z-index: -1;}#sk-container-id-1 div.sk-parallel-item {display: flex;flex-direction: column;z-index: 1;position: relative;background-color: white;}#sk-container-id-1 div.sk-parallel-item:first-child::after {align-self: flex-end;width: 50%;}#sk-container-id-1 div.sk-parallel-item:last-child::after {align-self: flex-start;width: 50%;}#sk-container-id-1 div.sk-parallel-item:only-child::after {width: 0;}#sk-container-id-1 div.sk-dashed-wrapped {border: 1px dashed gray;margin: 0 0.4em 0.5em 0.4em;box-sizing: border-box;padding-bottom: 0.4em;background-color: white;}#sk-container-id-1 div.sk-label label {font-family: monospace;font-weight: bold;display: inline-block;line-height: 1.2em;}#sk-container-id-1 div.sk-label-container {text-align: center;}#sk-container-id-1 div.sk-container {/* jupyter's `normalize.less` sets `[hidden] { display: none; }` but bootstrap.min.css set `[hidden] { display: none !important; }` so we also need the `!important` here to be able to override the default hidden behavior on the sphinx rendered scikit-learn.org. See: https://github.com/scikit-learn/scikit-learn/issues/21755 */display: inline-block !important;position: relative;}#sk-container-id-1 div.sk-text-repr-fallback {display: none;}</style><div id=\"sk-container-id-1\" class=\"sk-top-container\"><div class=\"sk-text-repr-fallback\"><pre>Pipeline(steps=[(&#x27;scale&#x27;, None),\n",
       "                (&#x27;model&#x27;,\n",
       "                 LogisticRegression(l1_ratio=0.5, max_iter=5000,\n",
       "                                    penalty=&#x27;elasticnet&#x27;, solver=&#x27;saga&#x27;))])</pre><b>In a Jupyter environment, please rerun this cell to show the HTML representation or trust the notebook. <br />On GitHub, the HTML representation is unable to render, please try loading this page with nbviewer.org.</b></div><div class=\"sk-container\" hidden><div class=\"sk-item sk-dashed-wrapped\"><div class=\"sk-label-container\"><div class=\"sk-label sk-toggleable\"><input class=\"sk-toggleable__control sk-hidden--visually\" id=\"sk-estimator-id-1\" type=\"checkbox\" ><label for=\"sk-estimator-id-1\" class=\"sk-toggleable__label sk-toggleable__label-arrow\">Pipeline</label><div class=\"sk-toggleable__content\"><pre>Pipeline(steps=[(&#x27;scale&#x27;, None),\n",
       "                (&#x27;model&#x27;,\n",
       "                 LogisticRegression(l1_ratio=0.5, max_iter=5000,\n",
       "                                    penalty=&#x27;elasticnet&#x27;, solver=&#x27;saga&#x27;))])</pre></div></div></div><div class=\"sk-serial\"><div class=\"sk-item\"><div class=\"sk-estimator sk-toggleable\"><input class=\"sk-toggleable__control sk-hidden--visually\" id=\"sk-estimator-id-2\" type=\"checkbox\" ><label for=\"sk-estimator-id-2\" class=\"sk-toggleable__label sk-toggleable__label-arrow\">None</label><div class=\"sk-toggleable__content\"><pre>None</pre></div></div></div><div class=\"sk-item\"><div class=\"sk-estimator sk-toggleable\"><input class=\"sk-toggleable__control sk-hidden--visually\" id=\"sk-estimator-id-3\" type=\"checkbox\" ><label for=\"sk-estimator-id-3\" class=\"sk-toggleable__label sk-toggleable__label-arrow\">LogisticRegression</label><div class=\"sk-toggleable__content\"><pre>LogisticRegression(l1_ratio=0.5, max_iter=5000, penalty=&#x27;elasticnet&#x27;,\n",
       "                   solver=&#x27;saga&#x27;)</pre></div></div></div></div></div></div></div>"
      ],
      "text/plain": [
       "Pipeline(steps=[('scale', None),\n",
       "                ('model',\n",
       "                 LogisticRegression(l1_ratio=0.5, max_iter=5000,\n",
       "                                    penalty='elasticnet', solver='saga'))])"
      ]
     },
     "execution_count": 36,
     "metadata": {},
     "output_type": "execute_result"
    }
   ],
   "source": [
    "model.fit(X_train, y_train.values.ravel())"
   ]
  },
  {
   "cell_type": "code",
   "execution_count": 37,
   "id": "af59f8c0",
   "metadata": {
    "execution": {
     "iopub.execute_input": "2025-07-28T10:52:04.536498Z",
     "iopub.status.busy": "2025-07-28T10:52:04.536123Z",
     "iopub.status.idle": "2025-07-28T10:52:04.540754Z",
     "shell.execute_reply": "2025-07-28T10:52:04.540073Z"
    },
    "papermill": {
     "duration": 0.018913,
     "end_time": "2025-07-28T10:52:04.542327",
     "exception": false,
     "start_time": "2025-07-28T10:52:04.523414",
     "status": "completed"
    },
    "tags": []
   },
   "outputs": [],
   "source": [
    "from fairness_multiverse.universe import predict_w_threshold"
   ]
  },
  {
   "cell_type": "code",
   "execution_count": 38,
   "id": "a7cf2e16",
   "metadata": {
    "execution": {
     "iopub.execute_input": "2025-07-28T10:52:04.567261Z",
     "iopub.status.busy": "2025-07-28T10:52:04.566553Z",
     "iopub.status.idle": "2025-07-28T10:52:04.659868Z",
     "shell.execute_reply": "2025-07-28T10:52:04.658898Z"
    },
    "papermill": {
     "duration": 0.107179,
     "end_time": "2025-07-28T10:52:04.661412",
     "exception": false,
     "start_time": "2025-07-28T10:52:04.554233",
     "status": "completed"
    },
    "tags": []
   },
   "outputs": [
    {
     "data": {
      "text/plain": [
       "0.8623899230854977"
      ]
     },
     "execution_count": 38,
     "metadata": {},
     "output_type": "execute_result"
    }
   ],
   "source": [
    "probs_test = model.predict_proba(X_test)\n",
    "\n",
    "'''\n",
    "Below code returns a boolean array (or binary 0/1 array depending on how it’s used) where each element \n",
    "is True if the probability of class 1 is greater than or equal to the threshold, and False otherwise.\n",
    "'''\n",
    "y_pred_default = predict_w_threshold(probs_test, 0.5)\n",
    "\n",
    "from sklearn.metrics import accuracy_score\n",
    "\n",
    "# Naive prediction\n",
    "accuracy_score(y_true = y_true, y_pred = y_pred_default)"
   ]
  },
  {
   "cell_type": "code",
   "execution_count": 39,
   "id": "081964c3",
   "metadata": {
    "execution": {
     "iopub.execute_input": "2025-07-28T10:52:04.687387Z",
     "iopub.status.busy": "2025-07-28T10:52:04.686725Z",
     "iopub.status.idle": "2025-07-28T10:52:04.766997Z",
     "shell.execute_reply": "2025-07-28T10:52:04.766084Z"
    },
    "papermill": {
     "duration": 0.09458,
     "end_time": "2025-07-28T10:52:04.768503",
     "exception": false,
     "start_time": "2025-07-28T10:52:04.673923",
     "status": "completed"
    },
    "tags": []
   },
   "outputs": [
    {
     "data": {
      "text/plain": [
       "array([0, 0, 0, ..., 0, 0, 0])"
      ]
     },
     "execution_count": 39,
     "metadata": {},
     "output_type": "execute_result"
    }
   ],
   "source": [
    "model.predict(X_test)"
   ]
  },
  {
   "cell_type": "markdown",
   "id": "56c9705b",
   "metadata": {
    "papermill": {
     "duration": 0.011866,
     "end_time": "2025-07-28T10:52:04.792899",
     "exception": false,
     "start_time": "2025-07-28T10:52:04.781033",
     "status": "completed"
    },
    "tags": []
   },
   "source": [
    "# Conformal Prediction"
   ]
  },
  {
   "cell_type": "code",
   "execution_count": 40,
   "id": "160ec6ff",
   "metadata": {
    "execution": {
     "iopub.execute_input": "2025-07-28T10:52:04.818436Z",
     "iopub.status.busy": "2025-07-28T10:52:04.817674Z",
     "iopub.status.idle": "2025-07-28T10:52:04.822573Z",
     "shell.execute_reply": "2025-07-28T10:52:04.821781Z"
    },
    "papermill": {
     "duration": 0.019199,
     "end_time": "2025-07-28T10:52:04.824072",
     "exception": false,
     "start_time": "2025-07-28T10:52:04.804873",
     "status": "completed"
    },
    "tags": []
   },
   "outputs": [],
   "source": [
    "# Miscoverage level for conformal prediction (10% allowed error rate => 90% target coverage)\n",
    "alpha = 0.1"
   ]
  },
  {
   "cell_type": "code",
   "execution_count": 41,
   "id": "eadf4555-3dd3-440e-8e35-f82a4ad9f855",
   "metadata": {
    "execution": {
     "iopub.execute_input": "2025-07-28T10:52:04.849402Z",
     "iopub.status.busy": "2025-07-28T10:52:04.848983Z",
     "iopub.status.idle": "2025-07-28T10:52:04.926253Z",
     "shell.execute_reply": "2025-07-28T10:52:04.925391Z"
    },
    "papermill": {
     "duration": 0.091469,
     "end_time": "2025-07-28T10:52:04.927883",
     "exception": false,
     "start_time": "2025-07-28T10:52:04.836414",
     "status": "completed"
    },
    "tags": []
   },
   "outputs": [],
   "source": [
    "probs_calib = model.predict_proba(X_calib)"
   ]
  },
  {
   "cell_type": "code",
   "execution_count": 42,
   "id": "2ed93547-6d5d-4983-9b36-1ecb300da49a",
   "metadata": {
    "execution": {
     "iopub.execute_input": "2025-07-28T10:52:04.953831Z",
     "iopub.status.busy": "2025-07-28T10:52:04.953321Z",
     "iopub.status.idle": "2025-07-28T10:52:04.958720Z",
     "shell.execute_reply": "2025-07-28T10:52:04.958003Z"
    },
    "papermill": {
     "duration": 0.019543,
     "end_time": "2025-07-28T10:52:04.960152",
     "exception": false,
     "start_time": "2025-07-28T10:52:04.940609",
     "status": "completed"
    },
    "tags": []
   },
   "outputs": [],
   "source": [
    "y_calib = y_calib.values.ravel().astype(int)"
   ]
  },
  {
   "cell_type": "code",
   "execution_count": 43,
   "id": "65d1320d-f588-4b38-9072-62af1ae97f7d",
   "metadata": {
    "execution": {
     "iopub.execute_input": "2025-07-28T10:52:04.986311Z",
     "iopub.status.busy": "2025-07-28T10:52:04.985603Z",
     "iopub.status.idle": "2025-07-28T10:52:04.991763Z",
     "shell.execute_reply": "2025-07-28T10:52:04.990986Z"
    },
    "papermill": {
     "duration": 0.020142,
     "end_time": "2025-07-28T10:52:04.993179",
     "exception": false,
     "start_time": "2025-07-28T10:52:04.973037",
     "status": "completed"
    },
    "tags": []
   },
   "outputs": [],
   "source": [
    "from fairness_multiverse.conformal import compute_nc_scores\n",
    "\n",
    "# Compute nonconformity scores on calibration set (1 - probability of true class)\n",
    "nc_scores = compute_nc_scores(probs_calib, y_calib)"
   ]
  },
  {
   "cell_type": "code",
   "execution_count": 44,
   "id": "df3b8ca3-53b7-43d5-9667-7c85da7aeda2",
   "metadata": {
    "execution": {
     "iopub.execute_input": "2025-07-28T10:52:05.018719Z",
     "iopub.status.busy": "2025-07-28T10:52:05.018204Z",
     "iopub.status.idle": "2025-07-28T10:52:05.024225Z",
     "shell.execute_reply": "2025-07-28T10:52:05.023506Z"
    },
    "papermill": {
     "duration": 0.020242,
     "end_time": "2025-07-28T10:52:05.025694",
     "exception": false,
     "start_time": "2025-07-28T10:52:05.005452",
     "status": "completed"
    },
    "tags": []
   },
   "outputs": [],
   "source": [
    "from fairness_multiverse.conformal import find_threshold\n",
    "\n",
    "# Find conformal threshold q_hat for the given alpha (split conformal method)\n",
    "q_hat = find_threshold(nc_scores, alpha)"
   ]
  },
  {
   "cell_type": "code",
   "execution_count": 45,
   "id": "4d29e6c1-0ef6-4aa4-b8fe-4fe79b0d033a",
   "metadata": {
    "execution": {
     "iopub.execute_input": "2025-07-28T10:52:05.051859Z",
     "iopub.status.busy": "2025-07-28T10:52:05.051304Z",
     "iopub.status.idle": "2025-07-28T10:52:05.057334Z",
     "shell.execute_reply": "2025-07-28T10:52:05.056560Z"
    },
    "papermill": {
     "duration": 0.020341,
     "end_time": "2025-07-28T10:52:05.058679",
     "exception": false,
     "start_time": "2025-07-28T10:52:05.038338",
     "status": "completed"
    },
    "tags": []
   },
   "outputs": [
    {
     "data": {
      "text/plain": [
       "0.6915569082063335"
      ]
     },
     "execution_count": 45,
     "metadata": {},
     "output_type": "execute_result"
    }
   ],
   "source": [
    "q_hat"
   ]
  },
  {
   "cell_type": "code",
   "execution_count": 46,
   "id": "92460794-cdac-4be2-ba28-f28c0515a6fb",
   "metadata": {
    "execution": {
     "iopub.execute_input": "2025-07-28T10:52:05.084609Z",
     "iopub.status.busy": "2025-07-28T10:52:05.084022Z",
     "iopub.status.idle": "2025-07-28T10:52:05.611585Z",
     "shell.execute_reply": "2025-07-28T10:52:05.610807Z"
    },
    "papermill": {
     "duration": 0.541979,
     "end_time": "2025-07-28T10:52:05.613154",
     "exception": false,
     "start_time": "2025-07-28T10:52:05.071175",
     "status": "completed"
    },
    "tags": []
   },
   "outputs": [],
   "source": [
    "from fairness_multiverse.conformal import predict_conformal_sets\n",
    "\n",
    "# Generate prediction sets for each test example\n",
    "pred_sets = predict_conformal_sets(model, X_test, q_hat)"
   ]
  },
  {
   "cell_type": "code",
   "execution_count": 47,
   "id": "d90c9a65-e6db-4f5d-80cd-e68fb7e46829",
   "metadata": {
    "execution": {
     "iopub.execute_input": "2025-07-28T10:52:05.639668Z",
     "iopub.status.busy": "2025-07-28T10:52:05.639342Z",
     "iopub.status.idle": "2025-07-28T10:52:05.643774Z",
     "shell.execute_reply": "2025-07-28T10:52:05.642894Z"
    },
    "papermill": {
     "duration": 0.019003,
     "end_time": "2025-07-28T10:52:05.645239",
     "exception": false,
     "start_time": "2025-07-28T10:52:05.626236",
     "status": "completed"
    },
    "tags": []
   },
   "outputs": [],
   "source": [
    "y_true = y_true.squeeze()"
   ]
  },
  {
   "cell_type": "code",
   "execution_count": 48,
   "id": "3a58a54a-1e68-46b9-927a-df01f18aebc8",
   "metadata": {
    "execution": {
     "iopub.execute_input": "2025-07-28T10:52:05.671393Z",
     "iopub.status.busy": "2025-07-28T10:52:05.670926Z",
     "iopub.status.idle": "2025-07-28T10:52:06.197978Z",
     "shell.execute_reply": "2025-07-28T10:52:06.197187Z"
    },
    "papermill": {
     "duration": 0.541733,
     "end_time": "2025-07-28T10:52:06.199554",
     "exception": false,
     "start_time": "2025-07-28T10:52:05.657821",
     "status": "completed"
    },
    "tags": []
   },
   "outputs": [],
   "source": [
    "from fairness_multiverse.conformal import evaluate_sets\n",
    "\n",
    "# Evaluate coverage and average set size on test data\n",
    "metrics = evaluate_sets(pred_sets, y_true)"
   ]
  },
  {
   "cell_type": "markdown",
   "id": "2b569c12-9aaa-4c88-98c9-bbcd0cf3ebb8",
   "metadata": {
    "papermill": {
     "duration": 0.012163,
     "end_time": "2025-07-28T10:52:06.227017",
     "exception": false,
     "start_time": "2025-07-28T10:52:06.214854",
     "status": "completed"
    },
    "tags": []
   },
   "source": [
    "# CP Metrics"
   ]
  },
  {
   "cell_type": "code",
   "execution_count": 49,
   "id": "5ce0a5cb-201f-45a0-ade5-94c7f0bd6095",
   "metadata": {
    "execution": {
     "iopub.execute_input": "2025-07-28T10:52:06.257682Z",
     "iopub.status.busy": "2025-07-28T10:52:06.256831Z",
     "iopub.status.idle": "2025-07-28T10:52:06.267070Z",
     "shell.execute_reply": "2025-07-28T10:52:06.266140Z"
    },
    "papermill": {
     "duration": 0.029825,
     "end_time": "2025-07-28T10:52:06.269030",
     "exception": false,
     "start_time": "2025-07-28T10:52:06.239205",
     "status": "completed"
    },
    "tags": []
   },
   "outputs": [
    {
     "data": {
      "text/plain": [
       "{'coverage': 0.9118715862222717, 'avg_size': 1.2339984394158956}"
      ]
     },
     "execution_count": 49,
     "metadata": {},
     "output_type": "execute_result"
    }
   ],
   "source": [
    "metrics"
   ]
  },
  {
   "cell_type": "code",
   "execution_count": 50,
   "id": "9b9a838d-31c9-430b-ae14-12baee460d17",
   "metadata": {
    "execution": {
     "iopub.execute_input": "2025-07-28T10:52:06.318231Z",
     "iopub.status.busy": "2025-07-28T10:52:06.317612Z",
     "iopub.status.idle": "2025-07-28T10:52:06.323744Z",
     "shell.execute_reply": "2025-07-28T10:52:06.322825Z"
    },
    "papermill": {
     "duration": 0.034048,
     "end_time": "2025-07-28T10:52:06.325603",
     "exception": false,
     "start_time": "2025-07-28T10:52:06.291555",
     "status": "completed"
    },
    "tags": []
   },
   "outputs": [],
   "source": [
    "example_universe = universe.copy()\n",
    "universe_training_size = example_universe.get(\"training_size\")\n",
    "universe_scale = example_universe.get(\"scale\")\n",
    "universe_model = example_universe.get(\"model\")\n",
    "universe_exclude_features = example_universe.get(\"exclude_features\")\n",
    "universe_exclude_subgroups = example_universe.get(\"exclude_subgroups\")"
   ]
  },
  {
   "cell_type": "code",
   "execution_count": 51,
   "id": "f4b6a8ac-9dc0-4245-8a91-5b3b5999c4f9",
   "metadata": {
    "execution": {
     "iopub.execute_input": "2025-07-28T10:52:06.374954Z",
     "iopub.status.busy": "2025-07-28T10:52:06.373953Z",
     "iopub.status.idle": "2025-07-28T10:52:06.388403Z",
     "shell.execute_reply": "2025-07-28T10:52:06.379820Z"
    },
    "papermill": {
     "duration": 0.039941,
     "end_time": "2025-07-28T10:52:06.389787",
     "exception": false,
     "start_time": "2025-07-28T10:52:06.349846",
     "status": "completed"
    },
    "tags": []
   },
   "outputs": [],
   "source": [
    "cp_metrics_dict = {\n",
    "    \"universe_id\": [universe_id],\n",
    "    \"universe_training_size\": [universe_training_size],\n",
    "    \"universe_scale\": [universe_scale],\n",
    "    \"universe_model\": [universe_model],\n",
    "    \"universe_exclude_features\": [universe_exclude_features],\n",
    "    \"universe_exclude_subgroups\": [universe_exclude_subgroups],\n",
    "    \"q_hat\": [q_hat],\n",
    "    \"coverage\": [metrics[\"coverage\"]],\n",
    "    \"avg_size\": [metrics[\"avg_size\"]],\n",
    "}"
   ]
  },
  {
   "cell_type": "code",
   "execution_count": 52,
   "id": "908acbb1-0371-4915-85ca-3fa520d2efe2",
   "metadata": {
    "execution": {
     "iopub.execute_input": "2025-07-28T10:52:06.442863Z",
     "iopub.status.busy": "2025-07-28T10:52:06.442165Z",
     "iopub.status.idle": "2025-07-28T10:52:06.450176Z",
     "shell.execute_reply": "2025-07-28T10:52:06.449236Z"
    },
    "papermill": {
     "duration": 0.037106,
     "end_time": "2025-07-28T10:52:06.452252",
     "exception": false,
     "start_time": "2025-07-28T10:52:06.415146",
     "status": "completed"
    },
    "tags": []
   },
   "outputs": [
    {
     "data": {
      "text/plain": [
       "{'universe_id': ['b1da5759cdc44f2b5f1bcc89ce50f21f'],\n",
       " 'universe_training_size': ['1k'],\n",
       " 'universe_scale': ['do-not-scale'],\n",
       " 'universe_model': ['elasticnet'],\n",
       " 'universe_exclude_features': ['none'],\n",
       " 'universe_exclude_subgroups': ['keep-all'],\n",
       " 'q_hat': [0.6915569082063335],\n",
       " 'coverage': [0.9118715862222717],\n",
       " 'avg_size': [1.2339984394158956]}"
      ]
     },
     "execution_count": 52,
     "metadata": {},
     "output_type": "execute_result"
    }
   ],
   "source": [
    "cp_metrics_dict"
   ]
  },
  {
   "cell_type": "code",
   "execution_count": 53,
   "id": "33007efc-14e9-4ec6-97ac-56a455c82265",
   "metadata": {
    "execution": {
     "iopub.execute_input": "2025-07-28T10:52:06.504574Z",
     "iopub.status.busy": "2025-07-28T10:52:06.503638Z",
     "iopub.status.idle": "2025-07-28T10:52:06.510383Z",
     "shell.execute_reply": "2025-07-28T10:52:06.509417Z"
    },
    "papermill": {
     "duration": 0.034447,
     "end_time": "2025-07-28T10:52:06.512144",
     "exception": false,
     "start_time": "2025-07-28T10:52:06.477697",
     "status": "completed"
    },
    "tags": []
   },
   "outputs": [],
   "source": [
    "cp_metrics_df = pd.DataFrame(cp_metrics_dict)"
   ]
  },
  {
   "cell_type": "code",
   "execution_count": 54,
   "id": "db12611b-57b2-4910-b9d0-355adfd6e7bf",
   "metadata": {
    "execution": {
     "iopub.execute_input": "2025-07-28T10:52:06.562526Z",
     "iopub.status.busy": "2025-07-28T10:52:06.561348Z",
     "iopub.status.idle": "2025-07-28T10:52:06.579932Z",
     "shell.execute_reply": "2025-07-28T10:52:06.579098Z"
    },
    "papermill": {
     "duration": 0.045282,
     "end_time": "2025-07-28T10:52:06.581511",
     "exception": false,
     "start_time": "2025-07-28T10:52:06.536229",
     "status": "completed"
    },
    "tags": []
   },
   "outputs": [
    {
     "data": {
      "text/html": [
       "<div>\n",
       "<style scoped>\n",
       "    .dataframe tbody tr th:only-of-type {\n",
       "        vertical-align: middle;\n",
       "    }\n",
       "\n",
       "    .dataframe tbody tr th {\n",
       "        vertical-align: top;\n",
       "    }\n",
       "\n",
       "    .dataframe thead th {\n",
       "        text-align: right;\n",
       "    }\n",
       "</style>\n",
       "<table border=\"1\" class=\"dataframe\">\n",
       "  <thead>\n",
       "    <tr style=\"text-align: right;\">\n",
       "      <th></th>\n",
       "      <th>universe_id</th>\n",
       "      <th>universe_training_size</th>\n",
       "      <th>universe_scale</th>\n",
       "      <th>universe_model</th>\n",
       "      <th>universe_exclude_features</th>\n",
       "      <th>universe_exclude_subgroups</th>\n",
       "      <th>q_hat</th>\n",
       "      <th>coverage</th>\n",
       "      <th>avg_size</th>\n",
       "    </tr>\n",
       "  </thead>\n",
       "  <tbody>\n",
       "    <tr>\n",
       "      <th>0</th>\n",
       "      <td>b1da5759cdc44f2b5f1bcc89ce50f21f</td>\n",
       "      <td>1k</td>\n",
       "      <td>do-not-scale</td>\n",
       "      <td>elasticnet</td>\n",
       "      <td>none</td>\n",
       "      <td>keep-all</td>\n",
       "      <td>0.691557</td>\n",
       "      <td>0.911872</td>\n",
       "      <td>1.233998</td>\n",
       "    </tr>\n",
       "  </tbody>\n",
       "</table>\n",
       "</div>"
      ],
      "text/plain": [
       "                        universe_id universe_training_size universe_scale  \\\n",
       "0  b1da5759cdc44f2b5f1bcc89ce50f21f                     1k   do-not-scale   \n",
       "\n",
       "  universe_model universe_exclude_features universe_exclude_subgroups  \\\n",
       "0     elasticnet                      none                   keep-all   \n",
       "\n",
       "      q_hat  coverage  avg_size  \n",
       "0  0.691557  0.911872  1.233998  "
      ]
     },
     "execution_count": 54,
     "metadata": {},
     "output_type": "execute_result"
    }
   ],
   "source": [
    "cp_metrics_df"
   ]
  },
  {
   "cell_type": "code",
   "execution_count": 55,
   "id": "b7fbde55-a0a1-47e4-9af6-fe4a17fa8c61",
   "metadata": {
    "execution": {
     "iopub.execute_input": "2025-07-28T10:52:06.632991Z",
     "iopub.status.busy": "2025-07-28T10:52:06.631912Z",
     "iopub.status.idle": "2025-07-28T10:52:06.637607Z",
     "shell.execute_reply": "2025-07-28T10:52:06.636673Z"
    },
    "papermill": {
     "duration": 0.032787,
     "end_time": "2025-07-28T10:52:06.639265",
     "exception": false,
     "start_time": "2025-07-28T10:52:06.606478",
     "status": "completed"
    },
    "tags": []
   },
   "outputs": [],
   "source": [
    "# Conditional Coverage & looking at subgroups"
   ]
  },
  {
   "cell_type": "code",
   "execution_count": 56,
   "id": "027ae886-68dd-4141-96c7-805a5450e1ef",
   "metadata": {
    "execution": {
     "iopub.execute_input": "2025-07-28T10:52:06.689397Z",
     "iopub.status.busy": "2025-07-28T10:52:06.688358Z",
     "iopub.status.idle": "2025-07-28T10:52:06.987176Z",
     "shell.execute_reply": "2025-07-28T10:52:06.986188Z"
    },
    "papermill": {
     "duration": 0.325566,
     "end_time": "2025-07-28T10:52:06.989139",
     "exception": false,
     "start_time": "2025-07-28T10:52:06.663573",
     "status": "completed"
    },
    "tags": []
   },
   "outputs": [],
   "source": [
    "from fairness_multiverse.conformal import build_cp_groups\n",
    "\n",
    "cp_groups_df = build_cp_groups(pred_sets, y_true, X_test.index, org_test)\n",
    "#needs universe_id and setting"
   ]
  },
  {
   "cell_type": "code",
   "execution_count": 57,
   "id": "01d5802c-663a-4d1f-9d69-e036faaffbf7",
   "metadata": {
    "execution": {
     "iopub.execute_input": "2025-07-28T10:52:07.038813Z",
     "iopub.status.busy": "2025-07-28T10:52:07.038123Z",
     "iopub.status.idle": "2025-07-28T10:52:07.043135Z",
     "shell.execute_reply": "2025-07-28T10:52:07.042218Z"
    },
    "papermill": {
     "duration": 0.031287,
     "end_time": "2025-07-28T10:52:07.044730",
     "exception": false,
     "start_time": "2025-07-28T10:52:07.013443",
     "status": "completed"
    },
    "tags": []
   },
   "outputs": [],
   "source": [
    "#delete\n",
    "#cp_groups_df"
   ]
  },
  {
   "cell_type": "code",
   "execution_count": 58,
   "id": "fa424af1-d1eb-443d-b717-2d279ada8408",
   "metadata": {
    "execution": {
     "iopub.execute_input": "2025-07-28T10:52:07.093495Z",
     "iopub.status.busy": "2025-07-28T10:52:07.092747Z",
     "iopub.status.idle": "2025-07-28T10:52:07.098119Z",
     "shell.execute_reply": "2025-07-28T10:52:07.097171Z"
    },
    "papermill": {
     "duration": 0.031452,
     "end_time": "2025-07-28T10:52:07.099760",
     "exception": false,
     "start_time": "2025-07-28T10:52:07.068308",
     "status": "completed"
    },
    "tags": []
   },
   "outputs": [],
   "source": [
    "#delete\n",
    "#percentage = (cp_groups_df['nongerman_female'] == 1).mean() * 100\n",
    "#print(percentage)\n"
   ]
  },
  {
   "cell_type": "code",
   "execution_count": 59,
   "id": "6cbdab96-b2b2-45af-ad54-d0516db2e28d",
   "metadata": {
    "execution": {
     "iopub.execute_input": "2025-07-28T10:52:07.148570Z",
     "iopub.status.busy": "2025-07-28T10:52:07.147908Z",
     "iopub.status.idle": "2025-07-28T10:52:08.670360Z",
     "shell.execute_reply": "2025-07-28T10:52:08.669240Z"
    },
    "papermill": {
     "duration": 1.548693,
     "end_time": "2025-07-28T10:52:08.672354",
     "exception": false,
     "start_time": "2025-07-28T10:52:07.123661",
     "status": "completed"
    },
    "tags": []
   },
   "outputs": [],
   "source": [
    "# Define covered = 1 if true_label is in the predicted set\n",
    "cp_groups_df['covered'] = cp_groups_df.apply(\n",
    "    lambda r: int(r['true_label'] in r['pred_set']),\n",
    "    axis=1\n",
    ")"
   ]
  },
  {
   "cell_type": "code",
   "execution_count": 60,
   "id": "338ff529-1a6b-4b87-a931-8e4788d52aad",
   "metadata": {
    "execution": {
     "iopub.execute_input": "2025-07-28T10:52:08.737864Z",
     "iopub.status.busy": "2025-07-28T10:52:08.737329Z",
     "iopub.status.idle": "2025-07-28T10:52:08.743093Z",
     "shell.execute_reply": "2025-07-28T10:52:08.742134Z"
    },
    "papermill": {
     "duration": 0.033354,
     "end_time": "2025-07-28T10:52:08.744737",
     "exception": false,
     "start_time": "2025-07-28T10:52:08.711383",
     "status": "completed"
    },
    "tags": []
   },
   "outputs": [],
   "source": [
    "#cp_groups_df"
   ]
  },
  {
   "cell_type": "code",
   "execution_count": 61,
   "id": "90032e27-66df-4540-9169-4e89cfbaa758",
   "metadata": {
    "execution": {
     "iopub.execute_input": "2025-07-28T10:52:08.795032Z",
     "iopub.status.busy": "2025-07-28T10:52:08.794437Z",
     "iopub.status.idle": "2025-07-28T10:52:08.807833Z",
     "shell.execute_reply": "2025-07-28T10:52:08.806899Z"
    },
    "papermill": {
     "duration": 0.040292,
     "end_time": "2025-07-28T10:52:08.809604",
     "exception": false,
     "start_time": "2025-07-28T10:52:08.769312",
     "status": "completed"
    },
    "tags": []
   },
   "outputs": [],
   "source": [
    "subgroups = ['frau1','nongerman','nongerman_male','nongerman_female']\n",
    "\n",
    "# Conditional coverage for subgroup==1\n",
    "cond_coverage = {\n",
    "    g: cp_groups_df.loc[cp_groups_df[g]==1, 'covered'].mean()\n",
    "    for g in subgroups\n",
    "}"
   ]
  },
  {
   "cell_type": "code",
   "execution_count": 62,
   "id": "1e348fb1-b9c3-45bc-ba23-f016827a7e0d",
   "metadata": {
    "execution": {
     "iopub.execute_input": "2025-07-28T10:52:08.860355Z",
     "iopub.status.busy": "2025-07-28T10:52:08.859455Z",
     "iopub.status.idle": "2025-07-28T10:52:08.867543Z",
     "shell.execute_reply": "2025-07-28T10:52:08.866547Z"
    },
    "papermill": {
     "duration": 0.034861,
     "end_time": "2025-07-28T10:52:08.869365",
     "exception": false,
     "start_time": "2025-07-28T10:52:08.834504",
     "status": "completed"
    },
    "tags": []
   },
   "outputs": [
    {
     "data": {
      "text/plain": [
       "{'frau1': 0.9096643752527295,\n",
       " 'nongerman': 0.9389210127435019,\n",
       " 'nongerman_male': 0.9509141673421597,\n",
       " 'nongerman_female': 0.9190760059612518}"
      ]
     },
     "execution_count": 62,
     "metadata": {},
     "output_type": "execute_result"
    }
   ],
   "source": [
    "cond_coverage"
   ]
  },
  {
   "cell_type": "code",
   "execution_count": 63,
   "id": "f5093324-c3dd-4d63-bc4c-8d945e5c8bbb",
   "metadata": {
    "execution": {
     "iopub.execute_input": "2025-07-28T10:52:08.919379Z",
     "iopub.status.busy": "2025-07-28T10:52:08.918567Z",
     "iopub.status.idle": "2025-07-28T10:52:08.926337Z",
     "shell.execute_reply": "2025-07-28T10:52:08.925333Z"
    },
    "papermill": {
     "duration": 0.034396,
     "end_time": "2025-07-28T10:52:08.927936",
     "exception": false,
     "start_time": "2025-07-28T10:52:08.893540",
     "status": "completed"
    },
    "tags": []
   },
   "outputs": [],
   "source": [
    "for subgroup, cov in cond_coverage.items():\n",
    "    cp_metrics_df[f\"cov_{subgroup}\"] = cov"
   ]
  },
  {
   "cell_type": "code",
   "execution_count": 64,
   "id": "6e872e10-dbe5-49e8-b554-5030c98ff75d",
   "metadata": {
    "execution": {
     "iopub.execute_input": "2025-07-28T10:52:08.977837Z",
     "iopub.status.busy": "2025-07-28T10:52:08.976964Z",
     "iopub.status.idle": "2025-07-28T10:52:08.996892Z",
     "shell.execute_reply": "2025-07-28T10:52:08.995833Z"
    },
    "papermill": {
     "duration": 0.046621,
     "end_time": "2025-07-28T10:52:08.998683",
     "exception": false,
     "start_time": "2025-07-28T10:52:08.952062",
     "status": "completed"
    },
    "tags": []
   },
   "outputs": [
    {
     "data": {
      "text/html": [
       "<div>\n",
       "<style scoped>\n",
       "    .dataframe tbody tr th:only-of-type {\n",
       "        vertical-align: middle;\n",
       "    }\n",
       "\n",
       "    .dataframe tbody tr th {\n",
       "        vertical-align: top;\n",
       "    }\n",
       "\n",
       "    .dataframe thead th {\n",
       "        text-align: right;\n",
       "    }\n",
       "</style>\n",
       "<table border=\"1\" class=\"dataframe\">\n",
       "  <thead>\n",
       "    <tr style=\"text-align: right;\">\n",
       "      <th></th>\n",
       "      <th>universe_id</th>\n",
       "      <th>universe_training_size</th>\n",
       "      <th>universe_scale</th>\n",
       "      <th>universe_model</th>\n",
       "      <th>universe_exclude_features</th>\n",
       "      <th>universe_exclude_subgroups</th>\n",
       "      <th>q_hat</th>\n",
       "      <th>coverage</th>\n",
       "      <th>avg_size</th>\n",
       "      <th>cov_frau1</th>\n",
       "      <th>cov_nongerman</th>\n",
       "      <th>cov_nongerman_male</th>\n",
       "      <th>cov_nongerman_female</th>\n",
       "    </tr>\n",
       "  </thead>\n",
       "  <tbody>\n",
       "    <tr>\n",
       "      <th>0</th>\n",
       "      <td>b1da5759cdc44f2b5f1bcc89ce50f21f</td>\n",
       "      <td>1k</td>\n",
       "      <td>do-not-scale</td>\n",
       "      <td>elasticnet</td>\n",
       "      <td>none</td>\n",
       "      <td>keep-all</td>\n",
       "      <td>0.691557</td>\n",
       "      <td>0.911872</td>\n",
       "      <td>1.233998</td>\n",
       "      <td>0.909664</td>\n",
       "      <td>0.938921</td>\n",
       "      <td>0.950914</td>\n",
       "      <td>0.919076</td>\n",
       "    </tr>\n",
       "  </tbody>\n",
       "</table>\n",
       "</div>"
      ],
      "text/plain": [
       "                        universe_id universe_training_size universe_scale  \\\n",
       "0  b1da5759cdc44f2b5f1bcc89ce50f21f                     1k   do-not-scale   \n",
       "\n",
       "  universe_model universe_exclude_features universe_exclude_subgroups  \\\n",
       "0     elasticnet                      none                   keep-all   \n",
       "\n",
       "      q_hat  coverage  avg_size  cov_frau1  cov_nongerman  cov_nongerman_male  \\\n",
       "0  0.691557  0.911872  1.233998   0.909664       0.938921            0.950914   \n",
       "\n",
       "   cov_nongerman_female  \n",
       "0              0.919076  "
      ]
     },
     "execution_count": 64,
     "metadata": {},
     "output_type": "execute_result"
    }
   ],
   "source": [
    "cp_metrics_df"
   ]
  },
  {
   "cell_type": "markdown",
   "id": "33774451",
   "metadata": {
    "papermill": {
     "duration": 0.034731,
     "end_time": "2025-07-28T10:52:09.065536",
     "exception": false,
     "start_time": "2025-07-28T10:52:09.030805",
     "status": "completed"
    },
    "tags": []
   },
   "source": [
    "# (Fairness) Metrics"
   ]
  },
  {
   "cell_type": "code",
   "execution_count": 65,
   "id": "debc5d62",
   "metadata": {
    "execution": {
     "iopub.execute_input": "2025-07-28T10:52:09.119069Z",
     "iopub.status.busy": "2025-07-28T10:52:09.118565Z",
     "iopub.status.idle": "2025-07-28T10:52:09.142645Z",
     "shell.execute_reply": "2025-07-28T10:52:09.141269Z"
    },
    "papermill": {
     "duration": 0.051276,
     "end_time": "2025-07-28T10:52:09.144273",
     "exception": false,
     "start_time": "2025-07-28T10:52:09.092997",
     "status": "completed"
    },
    "tags": []
   },
   "outputs": [],
   "source": [
    "# do I need to include maxdeutsch1.missing?\n",
    "\n",
    "import numpy as np\n",
    "\n",
    "colname_to_bin = \"maxdeutsch1\"\n",
    "majority_value = org_train[colname_to_bin].mode()[0]\n",
    "\n",
    "org_test[\"majmin\"] = np.where(org_test[colname_to_bin] == majority_value, \"majority\", \"minority\")"
   ]
  },
  {
   "cell_type": "code",
   "execution_count": 66,
   "id": "06a50de5",
   "metadata": {
    "execution": {
     "iopub.execute_input": "2025-07-28T10:52:09.195477Z",
     "iopub.status.busy": "2025-07-28T10:52:09.194550Z",
     "iopub.status.idle": "2025-07-28T10:52:11.852436Z",
     "shell.execute_reply": "2025-07-28T10:52:11.851379Z"
    },
    "papermill": {
     "duration": 2.685478,
     "end_time": "2025-07-28T10:52:11.854475",
     "exception": false,
     "start_time": "2025-07-28T10:52:09.168997",
     "status": "completed"
    },
    "tags": []
   },
   "outputs": [],
   "source": [
    "example_universe = universe.copy()\n",
    "example_universe[\"cutoff\"] = example_universe[\"cutoff\"][0]\n",
    "example_universe[\"eval_fairness_grouping\"] = example_universe[\"eval_fairness_grouping\"][0]\n",
    "fairness_dict, metric_frame = universe_analysis.compute_metrics(\n",
    "    example_universe,\n",
    "    y_pred_prob=probs_test,\n",
    "    y_test=y_true,\n",
    "    org_test=org_test,\n",
    ")"
   ]
  },
  {
   "cell_type": "markdown",
   "id": "f95d4e02",
   "metadata": {
    "papermill": {
     "duration": 0.025633,
     "end_time": "2025-07-28T10:52:11.923901",
     "exception": false,
     "start_time": "2025-07-28T10:52:11.898268",
     "status": "completed"
    },
    "tags": []
   },
   "source": [
    "# Overall"
   ]
  },
  {
   "cell_type": "markdown",
   "id": "bdee4871",
   "metadata": {
    "papermill": {
     "duration": 0.025496,
     "end_time": "2025-07-28T10:52:11.974978",
     "exception": false,
     "start_time": "2025-07-28T10:52:11.949482",
     "status": "completed"
    },
    "tags": []
   },
   "source": [
    "Fairness\n",
    "Main fairness target: Equalized Odds. Seems to be a better fit than equal opportunity, since we're not only interested in Y = 1. Seems to be a better fit than demographic parity, since we also care about accuracy, not just equal distribution of preds.\n",
    "\n",
    "Pick column for computation of fairness metrics\n",
    "\n",
    "Performance\n",
    "Overall performance measures, most interesting in relation to the measures split by group below"
   ]
  },
  {
   "cell_type": "code",
   "execution_count": 67,
   "id": "c4e067c6",
   "metadata": {
    "execution": {
     "iopub.execute_input": "2025-07-28T10:52:12.030322Z",
     "iopub.status.busy": "2025-07-28T10:52:12.029538Z",
     "iopub.status.idle": "2025-07-28T10:52:12.039637Z",
     "shell.execute_reply": "2025-07-28T10:52:12.038481Z"
    },
    "papermill": {
     "duration": 0.040706,
     "end_time": "2025-07-28T10:52:12.041725",
     "exception": false,
     "start_time": "2025-07-28T10:52:12.001019",
     "status": "completed"
    },
    "tags": []
   },
   "outputs": [
    {
     "data": {
      "text/plain": [
       "accuracy                   0.214792\n",
       "balanced accuracy          0.527204\n",
       "f1                         0.236387\n",
       "precision                  0.135040\n",
       "false positive rate        0.893021\n",
       "false negative rate        0.052572\n",
       "selection rate             0.900000\n",
       "count                  89710.000000\n",
       "dtype: float64"
      ]
     },
     "execution_count": 67,
     "metadata": {},
     "output_type": "execute_result"
    }
   ],
   "source": [
    "metric_frame.overall"
   ]
  },
  {
   "cell_type": "markdown",
   "id": "e968fe9d",
   "metadata": {
    "papermill": {
     "duration": 0.038413,
     "end_time": "2025-07-28T10:52:12.118314",
     "exception": false,
     "start_time": "2025-07-28T10:52:12.079901",
     "status": "completed"
    },
    "tags": []
   },
   "source": [
    "By Group"
   ]
  },
  {
   "cell_type": "code",
   "execution_count": 68,
   "id": "ec325bce",
   "metadata": {
    "execution": {
     "iopub.execute_input": "2025-07-28T10:52:12.191337Z",
     "iopub.status.busy": "2025-07-28T10:52:12.190550Z",
     "iopub.status.idle": "2025-07-28T10:52:12.209358Z",
     "shell.execute_reply": "2025-07-28T10:52:12.208292Z"
    },
    "papermill": {
     "duration": 0.055967,
     "end_time": "2025-07-28T10:52:12.211372",
     "exception": false,
     "start_time": "2025-07-28T10:52:12.155405",
     "status": "completed"
    },
    "tags": []
   },
   "outputs": [
    {
     "data": {
      "text/html": [
       "<div>\n",
       "<style scoped>\n",
       "    .dataframe tbody tr th:only-of-type {\n",
       "        vertical-align: middle;\n",
       "    }\n",
       "\n",
       "    .dataframe tbody tr th {\n",
       "        vertical-align: top;\n",
       "    }\n",
       "\n",
       "    .dataframe thead th {\n",
       "        text-align: right;\n",
       "    }\n",
       "</style>\n",
       "<table border=\"1\" class=\"dataframe\">\n",
       "  <thead>\n",
       "    <tr style=\"text-align: right;\">\n",
       "      <th></th>\n",
       "      <th>accuracy</th>\n",
       "      <th>balanced accuracy</th>\n",
       "      <th>f1</th>\n",
       "      <th>precision</th>\n",
       "      <th>false positive rate</th>\n",
       "      <th>false negative rate</th>\n",
       "      <th>selection rate</th>\n",
       "      <th>count</th>\n",
       "    </tr>\n",
       "    <tr>\n",
       "      <th>majmin</th>\n",
       "      <th></th>\n",
       "      <th></th>\n",
       "      <th></th>\n",
       "      <th></th>\n",
       "      <th></th>\n",
       "      <th></th>\n",
       "      <th></th>\n",
       "      <th></th>\n",
       "    </tr>\n",
       "  </thead>\n",
       "  <tbody>\n",
       "    <tr>\n",
       "      <th>majority</th>\n",
       "      <td>0.236345</td>\n",
       "      <td>0.533974</td>\n",
       "      <td>0.245163</td>\n",
       "      <td>0.140997</td>\n",
       "      <td>0.870565</td>\n",
       "      <td>0.061488</td>\n",
       "      <td>0.879543</td>\n",
       "      <td>69170.0</td>\n",
       "    </tr>\n",
       "    <tr>\n",
       "      <th>minority</th>\n",
       "      <td>0.142210</td>\n",
       "      <td>0.507319</td>\n",
       "      <td>0.208810</td>\n",
       "      <td>0.116828</td>\n",
       "      <td>0.967202</td>\n",
       "      <td>0.018159</td>\n",
       "      <td>0.968890</td>\n",
       "      <td>20540.0</td>\n",
       "    </tr>\n",
       "  </tbody>\n",
       "</table>\n",
       "</div>"
      ],
      "text/plain": [
       "          accuracy  balanced accuracy        f1  precision  \\\n",
       "majmin                                                       \n",
       "majority  0.236345           0.533974  0.245163   0.140997   \n",
       "minority  0.142210           0.507319  0.208810   0.116828   \n",
       "\n",
       "          false positive rate  false negative rate  selection rate    count  \n",
       "majmin                                                                       \n",
       "majority             0.870565             0.061488        0.879543  69170.0  \n",
       "minority             0.967202             0.018159        0.968890  20540.0  "
      ]
     },
     "execution_count": 68,
     "metadata": {},
     "output_type": "execute_result"
    }
   ],
   "source": [
    "metric_frame.by_group"
   ]
  },
  {
   "cell_type": "code",
   "execution_count": 69,
   "id": "a9ddbe63",
   "metadata": {
    "execution": {
     "iopub.execute_input": "2025-07-28T10:52:12.267911Z",
     "iopub.status.busy": "2025-07-28T10:52:12.267292Z",
     "iopub.status.idle": "2025-07-28T10:52:14.547154Z",
     "shell.execute_reply": "2025-07-28T10:52:14.546278Z"
    },
    "papermill": {
     "duration": 2.310071,
     "end_time": "2025-07-28T10:52:14.548969",
     "exception": false,
     "start_time": "2025-07-28T10:52:12.238898",
     "status": "completed"
    },
    "tags": []
   },
   "outputs": [
    {
     "data": {
      "text/plain": [
       "array([[<Axes: title={'center': 'accuracy'}, xlabel='majmin'>,\n",
       "        <Axes: title={'center': 'balanced accuracy'}, xlabel='majmin'>,\n",
       "        <Axes: title={'center': 'f1'}, xlabel='majmin'>],\n",
       "       [<Axes: title={'center': 'precision'}, xlabel='majmin'>,\n",
       "        <Axes: title={'center': 'false positive rate'}, xlabel='majmin'>,\n",
       "        <Axes: title={'center': 'false negative rate'}, xlabel='majmin'>],\n",
       "       [<Axes: title={'center': 'selection rate'}, xlabel='majmin'>,\n",
       "        <Axes: title={'center': 'count'}, xlabel='majmin'>,\n",
       "        <Axes: xlabel='majmin'>]], dtype=object)"
      ]
     },
     "execution_count": 69,
     "metadata": {},
     "output_type": "execute_result"
    },
    {
     "data": {
      "image/png": "[encoded data removed]",
      "text/plain": [
       "<Figure size 1200x800 with 9 Axes>"
      ]
     },
     "metadata": {},
     "output_type": "display_data"
    }
   ],
   "source": [
    "# In a graphic\n",
    "metric_frame.by_group.plot.bar(\n",
    "    subplots=True,\n",
    "    layout=[3, 3],\n",
    "    legend=False,\n",
    "    figsize=[12, 8],\n",
    "    title=\"Show all metrics\",\n",
    ")"
   ]
  },
  {
   "cell_type": "markdown",
   "id": "f57a0bac",
   "metadata": {
    "papermill": {
     "duration": 0.027787,
     "end_time": "2025-07-28T10:52:14.609260",
     "exception": false,
     "start_time": "2025-07-28T10:52:14.581473",
     "status": "completed"
    },
    "tags": []
   },
   "source": [
    "# Final Output"
   ]
  },
  {
   "cell_type": "code",
   "execution_count": 70,
   "id": "96d280a3",
   "metadata": {
    "execution": {
     "iopub.execute_input": "2025-07-28T10:52:14.669283Z",
     "iopub.status.busy": "2025-07-28T10:52:14.668213Z",
     "iopub.status.idle": "2025-07-28T10:52:14.677462Z",
     "shell.execute_reply": "2025-07-28T10:52:14.676466Z"
    },
    "papermill": {
     "duration": 0.040595,
     "end_time": "2025-07-28T10:52:14.679219",
     "exception": false,
     "start_time": "2025-07-28T10:52:14.638624",
     "status": "completed"
    },
    "tags": []
   },
   "outputs": [
    {
     "data": {
      "text/plain": [
       "4"
      ]
     },
     "execution_count": 70,
     "metadata": {},
     "output_type": "execute_result"
    }
   ],
   "source": [
    "sub_universes = universe_analysis.generate_sub_universes()\n",
    "len(sub_universes)"
   ]
  },
  {
   "cell_type": "code",
   "execution_count": 71,
   "id": "92adf7ba",
   "metadata": {
    "execution": {
     "iopub.execute_input": "2025-07-28T10:52:14.739498Z",
     "iopub.status.busy": "2025-07-28T10:52:14.738973Z",
     "iopub.status.idle": "2025-07-28T10:52:14.745049Z",
     "shell.execute_reply": "2025-07-28T10:52:14.744006Z"
    },
    "papermill": {
     "duration": 0.037606,
     "end_time": "2025-07-28T10:52:14.746880",
     "exception": false,
     "start_time": "2025-07-28T10:52:14.709274",
     "status": "completed"
    },
    "tags": []
   },
   "outputs": [],
   "source": [
    "def filter_sub_universe_data(sub_universe, org_test):\n",
    "    # Keep all rows — no filtering\n",
    "    keep_rows_mask = np.ones(org_test.shape[0], dtype=bool)\n",
    "\n",
    "    print(f\"[INFO] Keeping all rows: {keep_rows_mask.sum()} rows retained.\")\n",
    "    return keep_rows_mask"
   ]
  },
  {
   "cell_type": "code",
   "execution_count": 72,
   "id": "4a759155",
   "metadata": {
    "execution": {
     "iopub.execute_input": "2025-07-28T10:52:14.807974Z",
     "iopub.status.busy": "2025-07-28T10:52:14.807439Z",
     "iopub.status.idle": "2025-07-28T10:52:23.127706Z",
     "shell.execute_reply": "2025-07-28T10:52:23.126535Z"
    },
    "papermill": {
     "duration": 8.352688,
     "end_time": "2025-07-28T10:52:23.130041",
     "exception": false,
     "start_time": "2025-07-28T10:52:14.777353",
     "status": "completed"
    },
    "tags": []
   },
   "outputs": [
    {
     "name": "stdout",
     "output_type": "stream",
     "text": [
      "Stopping execution_time clock.\n",
      "[INFO] Keeping all rows: 89710 rows retained.\n"
     ]
    },
    {
     "name": "stdout",
     "output_type": "stream",
     "text": [
      "[INFO] Keeping all rows: 89710 rows retained.\n"
     ]
    },
    {
     "name": "stdout",
     "output_type": "stream",
     "text": [
      "[INFO] Keeping all rows: 89710 rows retained.\n"
     ]
    },
    {
     "name": "stdout",
     "output_type": "stream",
     "text": [
      "[INFO] Keeping all rows: 89710 rows retained.\n"
     ]
    },
    {
     "data": {
      "text/html": [
       "<div>\n",
       "<style scoped>\n",
       "    .dataframe tbody tr th:only-of-type {\n",
       "        vertical-align: middle;\n",
       "    }\n",
       "\n",
       "    .dataframe tbody tr th {\n",
       "        vertical-align: top;\n",
       "    }\n",
       "\n",
       "    .dataframe thead th {\n",
       "        text-align: right;\n",
       "    }\n",
       "</style>\n",
       "<table border=\"1\" class=\"dataframe\">\n",
       "  <thead>\n",
       "    <tr style=\"text-align: right;\">\n",
       "      <th></th>\n",
       "      <th>run_no</th>\n",
       "      <th>universe_id</th>\n",
       "      <th>universe_settings</th>\n",
       "      <th>execution_time</th>\n",
       "      <th>test_size_n</th>\n",
       "      <th>test_size_frac</th>\n",
       "      <th>fair_main_equalized_odds_difference</th>\n",
       "      <th>fair_main_equalized_odds_ratio</th>\n",
       "      <th>fair_main_demographic_parity_difference</th>\n",
       "      <th>fair_main_demographic_parity_ratio</th>\n",
       "      <th>...</th>\n",
       "      <th>perf_grp_precision_0</th>\n",
       "      <th>perf_grp_precision_1</th>\n",
       "      <th>perf_grp_false positive rate_0</th>\n",
       "      <th>perf_grp_false positive rate_1</th>\n",
       "      <th>perf_grp_false negative rate_0</th>\n",
       "      <th>perf_grp_false negative rate_1</th>\n",
       "      <th>perf_grp_selection rate_0</th>\n",
       "      <th>perf_grp_selection rate_1</th>\n",
       "      <th>perf_grp_count_0</th>\n",
       "      <th>perf_grp_count_1</th>\n",
       "    </tr>\n",
       "  </thead>\n",
       "  <tbody>\n",
       "    <tr>\n",
       "      <th>0</th>\n",
       "      <td>11</td>\n",
       "      <td>b1da5759cdc44f2b5f1bcc89ce50f21f</td>\n",
       "      <td>{\"cutoff\": \"quantile_0.1\", \"eval_fairness_grou...</td>\n",
       "      <td>44.401146</td>\n",
       "      <td>89710</td>\n",
       "      <td>1.0</td>\n",
       "      <td>0.096638</td>\n",
       "      <td>0.900085</td>\n",
       "      <td>0.089347</td>\n",
       "      <td>0.907784</td>\n",
       "      <td>...</td>\n",
       "      <td>NaN</td>\n",
       "      <td>NaN</td>\n",
       "      <td>NaN</td>\n",
       "      <td>NaN</td>\n",
       "      <td>NaN</td>\n",
       "      <td>NaN</td>\n",
       "      <td>NaN</td>\n",
       "      <td>NaN</td>\n",
       "      <td>NaN</td>\n",
       "      <td>NaN</td>\n",
       "    </tr>\n",
       "    <tr>\n",
       "      <th>0</th>\n",
       "      <td>11</td>\n",
       "      <td>b1da5759cdc44f2b5f1bcc89ce50f21f</td>\n",
       "      <td>{\"cutoff\": \"quantile_0.1\", \"eval_fairness_grou...</td>\n",
       "      <td>44.401146</td>\n",
       "      <td>89710</td>\n",
       "      <td>1.0</td>\n",
       "      <td>0.096638</td>\n",
       "      <td>0.900085</td>\n",
       "      <td>0.089347</td>\n",
       "      <td>0.907784</td>\n",
       "      <td>...</td>\n",
       "      <td>0.116828</td>\n",
       "      <td>0.140997</td>\n",
       "      <td>0.967202</td>\n",
       "      <td>0.870565</td>\n",
       "      <td>0.018159</td>\n",
       "      <td>0.061488</td>\n",
       "      <td>0.968890</td>\n",
       "      <td>0.879543</td>\n",
       "      <td>20540.0</td>\n",
       "      <td>69170.0</td>\n",
       "    </tr>\n",
       "    <tr>\n",
       "      <th>0</th>\n",
       "      <td>11</td>\n",
       "      <td>b1da5759cdc44f2b5f1bcc89ce50f21f</td>\n",
       "      <td>{\"cutoff\": \"quantile_0.25\", \"eval_fairness_gro...</td>\n",
       "      <td>44.401146</td>\n",
       "      <td>89710</td>\n",
       "      <td>1.0</td>\n",
       "      <td>0.224523</td>\n",
       "      <td>0.752004</td>\n",
       "      <td>0.207557</td>\n",
       "      <td>0.771923</td>\n",
       "      <td>...</td>\n",
       "      <td>NaN</td>\n",
       "      <td>NaN</td>\n",
       "      <td>NaN</td>\n",
       "      <td>NaN</td>\n",
       "      <td>NaN</td>\n",
       "      <td>NaN</td>\n",
       "      <td>NaN</td>\n",
       "      <td>NaN</td>\n",
       "      <td>NaN</td>\n",
       "      <td>NaN</td>\n",
       "    </tr>\n",
       "    <tr>\n",
       "      <th>0</th>\n",
       "      <td>11</td>\n",
       "      <td>b1da5759cdc44f2b5f1bcc89ce50f21f</td>\n",
       "      <td>{\"cutoff\": \"quantile_0.25\", \"eval_fairness_gro...</td>\n",
       "      <td>44.401146</td>\n",
       "      <td>89710</td>\n",
       "      <td>1.0</td>\n",
       "      <td>0.224523</td>\n",
       "      <td>0.752004</td>\n",
       "      <td>0.207557</td>\n",
       "      <td>0.771923</td>\n",
       "      <td>...</td>\n",
       "      <td>0.119837</td>\n",
       "      <td>0.158880</td>\n",
       "      <td>0.905349</td>\n",
       "      <td>0.680826</td>\n",
       "      <td>0.054054</td>\n",
       "      <td>0.155361</td>\n",
       "      <td>0.910029</td>\n",
       "      <td>0.702472</td>\n",
       "      <td>20540.0</td>\n",
       "      <td>69170.0</td>\n",
       "    </tr>\n",
       "  </tbody>\n",
       "</table>\n",
       "<p>4 rows × 50 columns</p>\n",
       "</div>"
      ],
      "text/plain": [
       "  run_no                       universe_id  \\\n",
       "0     11  b1da5759cdc44f2b5f1bcc89ce50f21f   \n",
       "0     11  b1da5759cdc44f2b5f1bcc89ce50f21f   \n",
       "0     11  b1da5759cdc44f2b5f1bcc89ce50f21f   \n",
       "0     11  b1da5759cdc44f2b5f1bcc89ce50f21f   \n",
       "\n",
       "                                   universe_settings  execution_time  \\\n",
       "0  {\"cutoff\": \"quantile_0.1\", \"eval_fairness_grou...       44.401146   \n",
       "0  {\"cutoff\": \"quantile_0.1\", \"eval_fairness_grou...       44.401146   \n",
       "0  {\"cutoff\": \"quantile_0.25\", \"eval_fairness_gro...       44.401146   \n",
       "0  {\"cutoff\": \"quantile_0.25\", \"eval_fairness_gro...       44.401146   \n",
       "\n",
       "   test_size_n  test_size_frac  fair_main_equalized_odds_difference  \\\n",
       "0        89710             1.0                             0.096638   \n",
       "0        89710             1.0                             0.096638   \n",
       "0        89710             1.0                             0.224523   \n",
       "0        89710             1.0                             0.224523   \n",
       "\n",
       "   fair_main_equalized_odds_ratio  fair_main_demographic_parity_difference  \\\n",
       "0                        0.900085                                 0.089347   \n",
       "0                        0.900085                                 0.089347   \n",
       "0                        0.752004                                 0.207557   \n",
       "0                        0.752004                                 0.207557   \n",
       "\n",
       "   fair_main_demographic_parity_ratio  ...  perf_grp_precision_0  \\\n",
       "0                            0.907784  ...                   NaN   \n",
       "0                            0.907784  ...              0.116828   \n",
       "0                            0.771923  ...                   NaN   \n",
       "0                            0.771923  ...              0.119837   \n",
       "\n",
       "   perf_grp_precision_1  perf_grp_false positive rate_0  \\\n",
       "0                   NaN                             NaN   \n",
       "0              0.140997                        0.967202   \n",
       "0                   NaN                             NaN   \n",
       "0              0.158880                        0.905349   \n",
       "\n",
       "   perf_grp_false positive rate_1  perf_grp_false negative rate_0  \\\n",
       "0                             NaN                             NaN   \n",
       "0                        0.870565                        0.018159   \n",
       "0                             NaN                             NaN   \n",
       "0                        0.680826                        0.054054   \n",
       "\n",
       "   perf_grp_false negative rate_1  perf_grp_selection rate_0  \\\n",
       "0                             NaN                        NaN   \n",
       "0                        0.061488                   0.968890   \n",
       "0                             NaN                        NaN   \n",
       "0                        0.155361                   0.910029   \n",
       "\n",
       "   perf_grp_selection rate_1  perf_grp_count_0  perf_grp_count_1  \n",
       "0                        NaN               NaN               NaN  \n",
       "0                   0.879543           20540.0           69170.0  \n",
       "0                        NaN               NaN               NaN  \n",
       "0                   0.702472           20540.0           69170.0  \n",
       "\n",
       "[4 rows x 50 columns]"
      ]
     },
     "execution_count": 72,
     "metadata": {},
     "output_type": "execute_result"
    }
   ],
   "source": [
    "final_output = universe_analysis.generate_final_output(\n",
    "    y_pred_prob=probs_test,\n",
    "    y_test=y_true,\n",
    "    org_test=org_test,\n",
    "    filter_data=filter_sub_universe_data,\n",
    "    cp_metrics_df=cp_metrics_df,\n",
    "    save=True,\n",
    ")\n",
    "final_output"
   ]
  },
  {
   "cell_type": "code",
   "execution_count": null,
   "id": "721ff514-cb11-46f8-b6fc-50392f74b5cb",
   "metadata": {
    "papermill": {
     "duration": 0.031649,
     "end_time": "2025-07-28T10:52:24.173638",
     "exception": false,
     "start_time": "2025-07-28T10:52:24.141989",
     "status": "completed"
    },
    "tags": []
   },
   "outputs": [],
   "source": []
  }
 ],
 "metadata": {
  "celltoolbar": "Tags",
  "kernelspec": {
   "display_name": "Python (CMA Fairness)",
   "language": "python",
   "name": "cma_fair_env"
  },
  "language_info": {
   "codemirror_mode": {
    "name": "ipython",
    "version": 3
   },
   "file_extension": ".py",
   "mimetype": "text/x-python",
   "name": "python",
   "nbconvert_exporter": "python",
   "pygments_lexer": "ipython3",
   "version": "3.10.12"
  },
  "papermill": {
   "default_parameters": {},
   "duration": 59.787632,
   "end_time": "2025-07-28T10:52:26.820413",
   "environment_variables": {},
   "exception": null,
   "input_path": "universe_analysis.ipynb",
   "output_path": "output/runs/11/notebooks/m_11-b1da5759cdc44f2b5f1bcc89ce50f21f.ipynb",
   "parameters": {
    "output_dir": "output",
    "run_no": "11",
    "seed": "2023",
    "universe": "{\"cutoff\": [\"quantile_0.1\", \"quantile_0.25\"], \"eval_fairness_grouping\": [\"majority-minority\", \"nationality-all\"], \"exclude_features\": \"none\", \"exclude_subgroups\": \"keep-all\", \"model\": \"elasticnet\", \"scale\": \"do-not-scale\", \"training_size\": \"1k\"}",
    "universe_id": "b1da5759cdc44f2b5f1bcc89ce50f21f"
   },
   "start_time": "2025-07-28T10:51:27.032781",
   "version": "2.6.0"
  }
 },
 "nbformat": 4,
 "nbformat_minor": 5
}