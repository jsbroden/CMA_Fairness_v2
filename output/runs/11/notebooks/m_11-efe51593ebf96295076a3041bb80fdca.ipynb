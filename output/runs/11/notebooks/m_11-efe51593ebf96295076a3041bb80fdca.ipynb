{
 "cells": [
  {
   "cell_type": "code",
   "execution_count": 1,
   "id": "f159f837-637b-42ba-96b5-ec9a68c44524",
   "metadata": {
    "execution": {
     "iopub.execute_input": "2025-07-28T10:50:58.232599Z",
     "iopub.status.busy": "2025-07-28T10:50:58.231116Z",
     "iopub.status.idle": "2025-07-28T10:50:58.252118Z",
     "shell.execute_reply": "2025-07-28T10:50:58.250617Z"
    },
    "papermill": {
     "duration": 0.055343,
     "end_time": "2025-07-28T10:50:58.254558",
     "exception": false,
     "start_time": "2025-07-28T10:50:58.199215",
     "status": "completed"
    },
    "tags": []
   },
   "outputs": [
    {
     "name": "stdout",
     "output_type": "stream",
     "text": [
      "/dss/dsshome1/0C/ra93lal2/cma/CMA_Fairness_v2\n"
     ]
    },
    {
     "name": "stderr",
     "output_type": "stream",
     "text": [
      "/dss/dsshome1/0C/ra93lal2/.local/share/virtualenvs/CMA_Fairness_v2-3j10GkSs/lib/python3.10/site-packages/IPython/core/magics/osm.py:393: UserWarning: This is now an optional IPython functionality, using bookmarks requires you to install the `pickleshare` library.\n",
      "  bkms = self.shell.db.get('bookmarks', {})\n",
      "/dss/dsshome1/0C/ra93lal2/.local/share/virtualenvs/CMA_Fairness_v2-3j10GkSs/lib/python3.10/site-packages/IPython/core/magics/osm.py:417: UserWarning: This is now an optional IPython functionality, setting dhist requires you to install the `pickleshare` library.\n",
      "  self.shell.db['dhist'] = compress_dhist(dhist)[-100:]\n"
     ]
    }
   ],
   "source": [
    "%cd ~/cma/CMA_Fairness_v2"
   ]
  },
  {
   "cell_type": "markdown",
   "id": "de2603b9",
   "metadata": {
    "papermill": {
     "duration": 0.026586,
     "end_time": "2025-07-28T10:50:58.308586",
     "exception": false,
     "start_time": "2025-07-28T10:50:58.282000",
     "status": "completed"
    },
    "tags": []
   },
   "source": [
    "The following cell holds the definition of our parameters, these values can be overriden by rendering the with e.g. the following command:\n",
    "\n",
    "papermill -p alpha 0.2 -p ratio 0.3 universe_analysis.ipynb output/test_run.ipynb"
   ]
  },
  {
   "cell_type": "code",
   "execution_count": 2,
   "id": "a80968a0-40bb-4fa9-85ef-2d5eefb01975",
   "metadata": {
    "execution": {
     "iopub.execute_input": "2025-07-28T10:50:58.364169Z",
     "iopub.status.busy": "2025-07-28T10:50:58.363538Z",
     "iopub.status.idle": "2025-07-28T10:50:58.370240Z",
     "shell.execute_reply": "2025-07-28T10:50:58.369008Z"
    },
    "papermill": {
     "duration": 0.037255,
     "end_time": "2025-07-28T10:50:58.372648",
     "exception": false,
     "start_time": "2025-07-28T10:50:58.335393",
     "status": "completed"
    },
    "tags": []
   },
   "outputs": [
    {
     "name": "stdout",
     "output_type": "stream",
     "text": [
      "Current working directory: /dss/dsshome1/0C/ra93lal2/cma/CMA_Fairness_v2\n"
     ]
    }
   ],
   "source": [
    "import os\n",
    "print(\"Current working directory:\", os.getcwd())"
   ]
  },
  {
   "cell_type": "code",
   "execution_count": 3,
   "id": "2dce4c03",
   "metadata": {
    "execution": {
     "iopub.execute_input": "2025-07-28T10:50:58.430041Z",
     "iopub.status.busy": "2025-07-28T10:50:58.429495Z",
     "iopub.status.idle": "2025-07-28T10:50:58.436302Z",
     "shell.execute_reply": "2025-07-28T10:50:58.435033Z"
    },
    "papermill": {
     "duration": 0.038055,
     "end_time": "2025-07-28T10:50:58.438529",
     "exception": false,
     "start_time": "2025-07-28T10:50:58.400474",
     "status": "completed"
    },
    "tags": [
     "parameters"
    ]
   },
   "outputs": [],
   "source": [
    "run_no = 0\n",
    "universe_id = \"test\"\n",
    "universe = {\n",
    "    \"training_size\": \"2014\", # \"25k\", \"5k\", \"1k\", \"2014\"\n",
    "    \"scale\": \"scale\", # \"scale\", \"do-not-scale\",\n",
    "    #\"stratify_split\": \"target\", # \"none\", \"target\", \"protected-attribute\", \"both\",\n",
    "    \"model\": \"elasticnet\", # \"logreg\", \"penalized_logreg\", \"rf\", \"gbm\", \"elasticnet\"\n",
    "    \"cutoff\": [\"quantile_0.15\", \"quantile_0.30\"],\n",
    "    \"exclude_features\": \"age\", # \"none\", \"nationality\", \"sex\", \"nationality-sex\", \"age\"\n",
    "    \"exclude_subgroups\": \"keep-all\", # \"keep-all\", \"drop-non-german\"\n",
    "    \"eval_fairness_grouping\": [\"majority-minority\", \"nationality-all\"]\n",
    "}\n",
    "\n",
    "output_dir=\"./output\"\n",
    "seed=0"
   ]
  },
  {
   "cell_type": "code",
   "execution_count": 4,
   "id": "191348fd",
   "metadata": {
    "execution": {
     "iopub.execute_input": "2025-07-28T10:50:58.495955Z",
     "iopub.status.busy": "2025-07-28T10:50:58.495198Z",
     "iopub.status.idle": "2025-07-28T10:50:58.500972Z",
     "shell.execute_reply": "2025-07-28T10:50:58.499898Z"
    },
    "papermill": {
     "duration": 0.036502,
     "end_time": "2025-07-28T10:50:58.503034",
     "exception": false,
     "start_time": "2025-07-28T10:50:58.466532",
     "status": "completed"
    },
    "tags": [
     "injected-parameters"
    ]
   },
   "outputs": [],
   "source": [
    "# Parameters\n",
    "universe_id = \"efe51593ebf96295076a3041bb80fdca\"\n",
    "run_no = \"11\"\n",
    "universe = \"{\\\"cutoff\\\": [\\\"quantile_0.1\\\", \\\"quantile_0.25\\\"], \\\"eval_fairness_grouping\\\": [\\\"majority-minority\\\", \\\"nationality-all\\\"], \\\"exclude_features\\\": \\\"sex\\\", \\\"exclude_subgroups\\\": \\\"drop-non-german\\\", \\\"model\\\": \\\"gbm\\\", \\\"scale\\\": \\\"do-not-scale\\\", \\\"training_size\\\": \\\"1k\\\"}\"\n",
    "output_dir = \"output\"\n",
    "seed = \"2023\"\n"
   ]
  },
  {
   "cell_type": "code",
   "execution_count": 5,
   "id": "1650acaf",
   "metadata": {
    "execution": {
     "iopub.execute_input": "2025-07-28T10:50:58.561193Z",
     "iopub.status.busy": "2025-07-28T10:50:58.559605Z",
     "iopub.status.idle": "2025-07-28T10:50:58.566633Z",
     "shell.execute_reply": "2025-07-28T10:50:58.565383Z"
    },
    "papermill": {
     "duration": 0.037857,
     "end_time": "2025-07-28T10:50:58.568800",
     "exception": false,
     "start_time": "2025-07-28T10:50:58.530943",
     "status": "completed"
    },
    "tags": []
   },
   "outputs": [],
   "source": [
    "import json\n",
    "# Parse universe into dict if it is passed as a string\n",
    "if isinstance(universe, str):\n",
    "    universe = json.loads(universe)"
   ]
  },
  {
   "cell_type": "code",
   "execution_count": 6,
   "id": "16620c48",
   "metadata": {
    "execution": {
     "iopub.execute_input": "2025-07-28T10:50:58.614938Z",
     "iopub.status.busy": "2025-07-28T10:50:58.614220Z",
     "iopub.status.idle": "2025-07-28T10:50:58.671794Z",
     "shell.execute_reply": "2025-07-28T10:50:58.670709Z"
    },
    "papermill": {
     "duration": 0.083803,
     "end_time": "2025-07-28T10:50:58.673861",
     "exception": false,
     "start_time": "2025-07-28T10:50:58.590058",
     "status": "completed"
    },
    "tags": []
   },
   "outputs": [],
   "source": [
    "# Auto-reload the custom package\n",
    "%load_ext autoreload\n",
    "%autoreload 1\n",
    "%aimport fairness_multiverse"
   ]
  },
  {
   "cell_type": "code",
   "execution_count": 7,
   "id": "01c5c9f3",
   "metadata": {
    "execution": {
     "iopub.execute_input": "2025-07-28T10:50:58.715543Z",
     "iopub.status.busy": "2025-07-28T10:50:58.714965Z",
     "iopub.status.idle": "2025-07-28T10:51:00.791640Z",
     "shell.execute_reply": "2025-07-28T10:51:00.790555Z"
    },
    "papermill": {
     "duration": 2.098539,
     "end_time": "2025-07-28T10:51:00.793881",
     "exception": false,
     "start_time": "2025-07-28T10:50:58.695342",
     "status": "completed"
    },
    "tags": []
   },
   "outputs": [],
   "source": [
    "from fairness_multiverse.universe import UniverseAnalysis\n",
    "\n",
    "universe_analysis = UniverseAnalysis(\n",
    "    run_no = run_no,\n",
    "    universe_id = universe_id,\n",
    "    universe = universe,\n",
    "    output_dir=output_dir,\n",
    ")"
   ]
  },
  {
   "cell_type": "code",
   "execution_count": 8,
   "id": "106241f5",
   "metadata": {
    "execution": {
     "iopub.execute_input": "2025-07-28T10:51:00.841109Z",
     "iopub.status.busy": "2025-07-28T10:51:00.840412Z",
     "iopub.status.idle": "2025-07-28T10:51:00.847706Z",
     "shell.execute_reply": "2025-07-28T10:51:00.846632Z"
    },
    "papermill": {
     "duration": 0.032525,
     "end_time": "2025-07-28T10:51:00.849410",
     "exception": false,
     "start_time": "2025-07-28T10:51:00.816885",
     "status": "completed"
    },
    "tags": []
   },
   "outputs": [
    {
     "name": "stdout",
     "output_type": "stream",
     "text": [
      "Using Seed: 2023\n"
     ]
    }
   ],
   "source": [
    "import numpy as np\n",
    "parsed_seed = int(seed)\n",
    "np.random.seed(parsed_seed)\n",
    "print(f\"Using Seed: {parsed_seed}\")"
   ]
  },
  {
   "cell_type": "markdown",
   "id": "e0ebdc57",
   "metadata": {
    "papermill": {
     "duration": 0.018845,
     "end_time": "2025-07-28T10:51:00.888264",
     "exception": false,
     "start_time": "2025-07-28T10:51:00.869419",
     "status": "completed"
    },
    "tags": []
   },
   "source": [
    "# Loading Data"
   ]
  },
  {
   "cell_type": "markdown",
   "id": "681925a3",
   "metadata": {
    "papermill": {
     "duration": 0.019438,
     "end_time": "2025-07-28T10:51:00.926949",
     "exception": false,
     "start_time": "2025-07-28T10:51:00.907511",
     "status": "completed"
    },
    "tags": []
   },
   "source": [
    "Load siab_train, siab_test, siab_calib and/or \n",
    "load siab_train_features, siab_train_labels"
   ]
  },
  {
   "cell_type": "code",
   "execution_count": 9,
   "id": "f0496b8a",
   "metadata": {
    "execution": {
     "iopub.execute_input": "2025-07-28T10:51:00.968121Z",
     "iopub.status.busy": "2025-07-28T10:51:00.967390Z",
     "iopub.status.idle": "2025-07-28T10:51:13.069379Z",
     "shell.execute_reply": "2025-07-28T10:51:13.067954Z"
    },
    "papermill": {
     "duration": 12.124987,
     "end_time": "2025-07-28T10:51:13.071415",
     "exception": false,
     "start_time": "2025-07-28T10:51:00.946428",
     "status": "completed"
    },
    "tags": []
   },
   "outputs": [
    {
     "name": "stdout",
     "output_type": "stream",
     "text": [
      "Loading SIAB data from cache: data/siab_cached.csv.gz\n"
     ]
    },
    {
     "name": "stdout",
     "output_type": "stream",
     "text": [
      "(643690, 164)\n"
     ]
    }
   ],
   "source": [
    "from pathlib import Path\n",
    "import pandas as pd\n",
    "\n",
    "# File paths\n",
    "raw_file = Path(\"data/raw/siab.csv\")\n",
    "cache_file = Path(\"data/siab_cached.csv.gz\")\n",
    "\n",
    "# Ensure cache directory exists\n",
    "cache_file.parent.mkdir(parents=True, exist_ok=True)\n",
    "\n",
    "# Load with simple caching\n",
    "if cache_file.exists():\n",
    "    print(f\"Loading SIAB data from cache: {cache_file}\")\n",
    "    siab = pd.read_csv(cache_file, compression='gzip')\n",
    "else:\n",
    "    print(f\"Cache not found. Reading raw SIAB data: {raw_file}\")\n",
    "    siab = pd.read_csv(raw_file)\n",
    "    siab.to_csv(cache_file, index=False, compression='gzip')\n",
    "    print(f\"Cached SIAB data to: {cache_file}\")\n",
    "\n",
    "# Now use `siab` DataFrame as needed\n",
    "print(siab.shape)"
   ]
  },
  {
   "cell_type": "code",
   "execution_count": 10,
   "id": "db0ca512-5f53-4dba-abdb-a2888bca41ba",
   "metadata": {
    "execution": {
     "iopub.execute_input": "2025-07-28T10:51:13.120373Z",
     "iopub.status.busy": "2025-07-28T10:51:13.119401Z",
     "iopub.status.idle": "2025-07-28T10:51:13.125544Z",
     "shell.execute_reply": "2025-07-28T10:51:13.124547Z"
    },
    "papermill": {
     "duration": 0.031291,
     "end_time": "2025-07-28T10:51:13.127455",
     "exception": false,
     "start_time": "2025-07-28T10:51:13.096164",
     "status": "completed"
    },
    "tags": []
   },
   "outputs": [],
   "source": [
    "#siab"
   ]
  },
  {
   "cell_type": "code",
   "execution_count": 11,
   "id": "a0edb063",
   "metadata": {
    "execution": {
     "iopub.execute_input": "2025-07-28T10:51:13.178136Z",
     "iopub.status.busy": "2025-07-28T10:51:13.177843Z",
     "iopub.status.idle": "2025-07-28T10:51:13.184196Z",
     "shell.execute_reply": "2025-07-28T10:51:13.183037Z"
    },
    "papermill": {
     "duration": 0.032747,
     "end_time": "2025-07-28T10:51:13.186045",
     "exception": false,
     "start_time": "2025-07-28T10:51:13.153298",
     "status": "completed"
    },
    "tags": []
   },
   "outputs": [],
   "source": [
    "#import pandas as pd\n",
    "#\n",
    "#X_train = pd.read_csv(\"./data/X_train.csv\")\n",
    "#y_train = pd.read_csv(\"./data/y_train.csv\")"
   ]
  },
  {
   "cell_type": "code",
   "execution_count": 12,
   "id": "63d08085",
   "metadata": {
    "execution": {
     "iopub.execute_input": "2025-07-28T10:51:13.233369Z",
     "iopub.status.busy": "2025-07-28T10:51:13.232378Z",
     "iopub.status.idle": "2025-07-28T10:51:13.238006Z",
     "shell.execute_reply": "2025-07-28T10:51:13.236913Z"
    },
    "papermill": {
     "duration": 0.032666,
     "end_time": "2025-07-28T10:51:13.239998",
     "exception": false,
     "start_time": "2025-07-28T10:51:13.207332",
     "status": "completed"
    },
    "tags": []
   },
   "outputs": [],
   "source": [
    "#X_test = pd.read_csv(\"./data/X_test.csv\")\n",
    "#y_true = pd.read_csv(\"./data/y_test.csv\")"
   ]
  },
  {
   "cell_type": "code",
   "execution_count": 13,
   "id": "98a8d0fa-1d3d-4ed8-bb2c-281470e24add",
   "metadata": {
    "execution": {
     "iopub.execute_input": "2025-07-28T10:51:13.289446Z",
     "iopub.status.busy": "2025-07-28T10:51:13.288538Z",
     "iopub.status.idle": "2025-07-28T10:51:13.294416Z",
     "shell.execute_reply": "2025-07-28T10:51:13.293276Z"
    },
    "papermill": {
     "duration": 0.030712,
     "end_time": "2025-07-28T10:51:13.296309",
     "exception": false,
     "start_time": "2025-07-28T10:51:13.265597",
     "status": "completed"
    },
    "tags": []
   },
   "outputs": [],
   "source": [
    "# Calibration data for conformal\n",
    "#X_calib = pd.read_csv(\"./data/X_calib.csv\")\n",
    "#y_calib = pd.read_csv(\"./data/y_calib.csv\")"
   ]
  },
  {
   "cell_type": "markdown",
   "id": "9901737e-04df-44f0-9100-f5ad144ed040",
   "metadata": {
    "papermill": {
     "duration": 0.021154,
     "end_time": "2025-07-28T10:51:13.339707",
     "exception": false,
     "start_time": "2025-07-28T10:51:13.318553",
     "status": "completed"
    },
    "tags": []
   },
   "source": [
    "# Splitting Data and Setting Training Data Size"
   ]
  },
  {
   "cell_type": "code",
   "execution_count": 14,
   "id": "acbc8f7d-8fc8-4e86-8c59-5dcb0f58384b",
   "metadata": {
    "execution": {
     "iopub.execute_input": "2025-07-28T10:51:13.386689Z",
     "iopub.status.busy": "2025-07-28T10:51:13.386177Z",
     "iopub.status.idle": "2025-07-28T10:51:13.395912Z",
     "shell.execute_reply": "2025-07-28T10:51:13.394678Z"
    },
    "papermill": {
     "duration": 0.035497,
     "end_time": "2025-07-28T10:51:13.397971",
     "exception": false,
     "start_time": "2025-07-28T10:51:13.362474",
     "status": "completed"
    },
    "tags": []
   },
   "outputs": [],
   "source": [
    "def sample_by_year(df, training_size, random_state=42):\n",
    "    if training_size == \"2014\":\n",
    "        return df[df[\"year\"] == 2014].reset_index(drop=True)\n",
    "    \n",
    "    size_map = {\n",
    "        \"25k\": 5000,\n",
    "        \"5k\": 1000,\n",
    "        \"1k\": 200\n",
    "    }\n",
    "\n",
    "    if training_size not in size_map:\n",
    "        return df.reset_index(drop=True)  # use all data\n",
    "\n",
    "    n_per_year = size_map[training_size]\n",
    "    grouped = df.groupby(\"year\")\n",
    "    sampled = grouped.apply(lambda x: x.sample(n=min(n_per_year, len(x)), random_state=random_state))\n",
    "    return sampled.reset_index(drop=True)"
   ]
  },
  {
   "cell_type": "code",
   "execution_count": 15,
   "id": "6d931f52-beaf-43ff-9e78-9d44a448d54e",
   "metadata": {
    "execution": {
     "iopub.execute_input": "2025-07-28T10:51:13.444970Z",
     "iopub.status.busy": "2025-07-28T10:51:13.444185Z",
     "iopub.status.idle": "2025-07-28T10:51:14.182758Z",
     "shell.execute_reply": "2025-07-28T10:51:14.181682Z"
    },
    "papermill": {
     "duration": 0.763887,
     "end_time": "2025-07-28T10:51:14.184968",
     "exception": false,
     "start_time": "2025-07-28T10:51:13.421081",
     "status": "completed"
    },
    "tags": []
   },
   "outputs": [],
   "source": [
    "siab_s = sample_by_year(siab, universe[\"training_size\"])"
   ]
  },
  {
   "cell_type": "code",
   "execution_count": 16,
   "id": "5db0a40e-a4e2-4920-be85-b12ae061d70d",
   "metadata": {
    "execution": {
     "iopub.execute_input": "2025-07-28T10:51:14.235818Z",
     "iopub.status.busy": "2025-07-28T10:51:14.234878Z",
     "iopub.status.idle": "2025-07-28T10:51:14.250611Z",
     "shell.execute_reply": "2025-07-28T10:51:14.249465Z"
    },
    "papermill": {
     "duration": 0.043706,
     "end_time": "2025-07-28T10:51:14.252919",
     "exception": false,
     "start_time": "2025-07-28T10:51:14.209213",
     "status": "completed"
    },
    "tags": []
   },
   "outputs": [
    {
     "data": {
      "text/plain": [
       "year\n",
       "2010    200\n",
       "2011    200\n",
       "2012    200\n",
       "2013    200\n",
       "2014    200\n",
       "2015    200\n",
       "2016    200\n",
       "dtype: int64"
      ]
     },
     "metadata": {},
     "output_type": "display_data"
    }
   ],
   "source": [
    "display(siab_s.groupby(\"year\").size())"
   ]
  },
  {
   "cell_type": "code",
   "execution_count": 17,
   "id": "a561edb4-d032-42cb-8256-22eac1111c64",
   "metadata": {
    "execution": {
     "iopub.execute_input": "2025-07-28T10:51:14.304485Z",
     "iopub.status.busy": "2025-07-28T10:51:14.303704Z",
     "iopub.status.idle": "2025-07-28T10:51:14.598374Z",
     "shell.execute_reply": "2025-07-28T10:51:14.597306Z"
    },
    "papermill": {
     "duration": 0.322551,
     "end_time": "2025-07-28T10:51:14.600607",
     "exception": false,
     "start_time": "2025-07-28T10:51:14.278056",
     "status": "completed"
    },
    "tags": []
   },
   "outputs": [],
   "source": [
    "siab_train = siab_s[siab_s.year < 2015]\n",
    "siab_calib = siab[siab.year == 2015]\n",
    "siab_test = siab[siab.year == 2016]"
   ]
  },
  {
   "cell_type": "code",
   "execution_count": 18,
   "id": "472de16f-c3db-4916-846b-1f0de9cf1746",
   "metadata": {
    "execution": {
     "iopub.execute_input": "2025-07-28T10:51:14.647403Z",
     "iopub.status.busy": "2025-07-28T10:51:14.646851Z",
     "iopub.status.idle": "2025-07-28T10:51:14.655264Z",
     "shell.execute_reply": "2025-07-28T10:51:14.654275Z"
    },
    "papermill": {
     "duration": 0.031506,
     "end_time": "2025-07-28T10:51:14.656928",
     "exception": false,
     "start_time": "2025-07-28T10:51:14.625422",
     "status": "completed"
    },
    "tags": []
   },
   "outputs": [],
   "source": [
    "X_train = siab_train.iloc[:,4:164]\n",
    "y_train = siab_train.iloc[:, [3]]"
   ]
  },
  {
   "cell_type": "code",
   "execution_count": 19,
   "id": "828c96af-f43a-4ed6-ba47-8ac73a47d56c",
   "metadata": {
    "execution": {
     "iopub.execute_input": "2025-07-28T10:51:14.699277Z",
     "iopub.status.busy": "2025-07-28T10:51:14.698356Z",
     "iopub.status.idle": "2025-07-28T10:51:14.755108Z",
     "shell.execute_reply": "2025-07-28T10:51:14.753917Z"
    },
    "papermill": {
     "duration": 0.080477,
     "end_time": "2025-07-28T10:51:14.757199",
     "exception": false,
     "start_time": "2025-07-28T10:51:14.676722",
     "status": "completed"
    },
    "tags": []
   },
   "outputs": [],
   "source": [
    "X_calib = siab_calib.iloc[:,4:164]\n",
    "y_calib = siab_calib.iloc[:, [3]]"
   ]
  },
  {
   "cell_type": "code",
   "execution_count": 20,
   "id": "c34be9c3-6bd6-476e-acd3-845840e303be",
   "metadata": {
    "execution": {
     "iopub.execute_input": "2025-07-28T10:51:14.804767Z",
     "iopub.status.busy": "2025-07-28T10:51:14.803973Z",
     "iopub.status.idle": "2025-07-28T10:51:14.861281Z",
     "shell.execute_reply": "2025-07-28T10:51:14.860104Z"
    },
    "papermill": {
     "duration": 0.084775,
     "end_time": "2025-07-28T10:51:14.863623",
     "exception": false,
     "start_time": "2025-07-28T10:51:14.778848",
     "status": "completed"
    },
    "tags": []
   },
   "outputs": [],
   "source": [
    "X_test = siab_test.iloc[:,4:164]\n",
    "y_true = siab_test.iloc[:, [3]]"
   ]
  },
  {
   "cell_type": "code",
   "execution_count": 21,
   "id": "e6c733c5",
   "metadata": {
    "execution": {
     "iopub.execute_input": "2025-07-28T10:51:14.930781Z",
     "iopub.status.busy": "2025-07-28T10:51:14.929953Z",
     "iopub.status.idle": "2025-07-28T10:51:15.034256Z",
     "shell.execute_reply": "2025-07-28T10:51:15.033315Z"
    },
    "papermill": {
     "duration": 0.14758,
     "end_time": "2025-07-28T10:51:15.036390",
     "exception": false,
     "start_time": "2025-07-28T10:51:14.888810",
     "status": "completed"
    },
    "tags": []
   },
   "outputs": [],
   "source": [
    "# Auxiliary data needed downstream in the pipeline\n",
    "\n",
    "org_train = X_train.copy()\n",
    "org_test = X_test.copy()\n",
    "org_calib = X_calib.copy()"
   ]
  },
  {
   "cell_type": "markdown",
   "id": "0a4a1b33",
   "metadata": {
    "papermill": {
     "duration": 0.020657,
     "end_time": "2025-07-28T10:51:15.078122",
     "exception": false,
     "start_time": "2025-07-28T10:51:15.057465",
     "status": "completed"
    },
    "tags": []
   },
   "source": [
    "# Preprocessing Data"
   ]
  },
  {
   "cell_type": "code",
   "execution_count": 22,
   "id": "ca879031",
   "metadata": {
    "execution": {
     "iopub.execute_input": "2025-07-28T10:51:15.123027Z",
     "iopub.status.busy": "2025-07-28T10:51:15.122486Z",
     "iopub.status.idle": "2025-07-28T10:51:15.129109Z",
     "shell.execute_reply": "2025-07-28T10:51:15.128202Z"
    },
    "papermill": {
     "duration": 0.032654,
     "end_time": "2025-07-28T10:51:15.130758",
     "exception": false,
     "start_time": "2025-07-28T10:51:15.098104",
     "status": "completed"
    },
    "tags": []
   },
   "outputs": [],
   "source": [
    "# EXCLUDE PROTECTED FEATURES\n",
    "# ----------------------\n",
    "# \"exclude_features\": \"none\", # \"nationality\", \"sex\", \"nationality-sex\"\n",
    "\n",
    "excluded_features = universe[\"exclude_features\"].split(\"-\") # split, e.g.: \"nationality-sex\" -> [\"nationality\", \"sex\"]\n",
    "excluded_features_dictionary = {\n",
    "    \"nationality\": [\"maxdeutsch1\", \"maxdeutsch.Missing.\"],\n",
    "    \"sex\": [\"frau1\"],\n",
    "    \"age\": [\"age\"],\n",
    "}\n"
   ]
  },
  {
   "cell_type": "code",
   "execution_count": 23,
   "id": "b745ac60",
   "metadata": {
    "execution": {
     "iopub.execute_input": "2025-07-28T10:51:15.173794Z",
     "iopub.status.busy": "2025-07-28T10:51:15.173316Z",
     "iopub.status.idle": "2025-07-28T10:51:15.189102Z",
     "shell.execute_reply": "2025-07-28T10:51:15.188082Z"
    },
    "papermill": {
     "duration": 0.039894,
     "end_time": "2025-07-28T10:51:15.191006",
     "exception": false,
     "start_time": "2025-07-28T10:51:15.151112",
     "status": "completed"
    },
    "tags": []
   },
   "outputs": [],
   "source": [
    "# Code nice names to column names\n",
    "\n",
    "excluded_features_columns = [\n",
    "    excluded_features_dictionary[f] for f in excluded_features if len(f) > 0 and f != \"none\"\n",
    "]"
   ]
  },
  {
   "cell_type": "code",
   "execution_count": 24,
   "id": "f84f73a2",
   "metadata": {
    "execution": {
     "iopub.execute_input": "2025-07-28T10:51:15.234007Z",
     "iopub.status.busy": "2025-07-28T10:51:15.233371Z",
     "iopub.status.idle": "2025-07-28T10:51:15.240462Z",
     "shell.execute_reply": "2025-07-28T10:51:15.239474Z"
    },
    "papermill": {
     "duration": 0.030916,
     "end_time": "2025-07-28T10:51:15.242618",
     "exception": false,
     "start_time": "2025-07-28T10:51:15.211702",
     "status": "completed"
    },
    "tags": []
   },
   "outputs": [],
   "source": [
    "from utils import flatten_once\n",
    "\n",
    "excluded_features_columns = flatten_once(excluded_features_columns)"
   ]
  },
  {
   "cell_type": "code",
   "execution_count": 25,
   "id": "884dea22",
   "metadata": {
    "execution": {
     "iopub.execute_input": "2025-07-28T10:51:15.287461Z",
     "iopub.status.busy": "2025-07-28T10:51:15.287002Z",
     "iopub.status.idle": "2025-07-28T10:51:15.295812Z",
     "shell.execute_reply": "2025-07-28T10:51:15.294643Z"
    },
    "papermill": {
     "duration": 0.032509,
     "end_time": "2025-07-28T10:51:15.297541",
     "exception": false,
     "start_time": "2025-07-28T10:51:15.265032",
     "status": "completed"
    },
    "tags": []
   },
   "outputs": [
    {
     "name": "stdout",
     "output_type": "stream",
     "text": [
      "Dropping features: ['frau1']\n"
     ]
    }
   ],
   "source": [
    "if len(excluded_features_columns) > 0:\n",
    "    print(f\"Dropping features: {excluded_features_columns}\")\n",
    "    X_train.drop(excluded_features_columns, axis=1, inplace=True)"
   ]
  },
  {
   "cell_type": "code",
   "execution_count": 26,
   "id": "95ab8b16",
   "metadata": {
    "execution": {
     "iopub.execute_input": "2025-07-28T10:51:15.343563Z",
     "iopub.status.busy": "2025-07-28T10:51:15.343086Z",
     "iopub.status.idle": "2025-07-28T10:51:15.396784Z",
     "shell.execute_reply": "2025-07-28T10:51:15.395547Z"
    },
    "papermill": {
     "duration": 0.0778,
     "end_time": "2025-07-28T10:51:15.398504",
     "exception": false,
     "start_time": "2025-07-28T10:51:15.320704",
     "status": "completed"
    },
    "tags": []
   },
   "outputs": [
    {
     "name": "stdout",
     "output_type": "stream",
     "text": [
      "Dropping features: ['frau1']\n"
     ]
    }
   ],
   "source": [
    "if len(excluded_features_columns) > 0:\n",
    "    print(f\"Dropping features: {excluded_features_columns}\")\n",
    "    X_test.drop(excluded_features_columns, axis=1, inplace=True)"
   ]
  },
  {
   "cell_type": "code",
   "execution_count": 27,
   "id": "1853aaf5-fb9f-46cb-a2b5-8ea4ae2237e4",
   "metadata": {
    "execution": {
     "iopub.execute_input": "2025-07-28T10:51:15.444147Z",
     "iopub.status.busy": "2025-07-28T10:51:15.443598Z",
     "iopub.status.idle": "2025-07-28T10:51:15.500789Z",
     "shell.execute_reply": "2025-07-28T10:51:15.499706Z"
    },
    "papermill": {
     "duration": 0.082453,
     "end_time": "2025-07-28T10:51:15.502600",
     "exception": false,
     "start_time": "2025-07-28T10:51:15.420147",
     "status": "completed"
    },
    "tags": []
   },
   "outputs": [
    {
     "name": "stdout",
     "output_type": "stream",
     "text": [
      "Dropping features: ['frau1']\n"
     ]
    }
   ],
   "source": [
    "if len(excluded_features_columns) > 0:\n",
    "    print(f\"Dropping features: {excluded_features_columns}\")\n",
    "    X_calib.drop(excluded_features_columns, axis=1, inplace=True)"
   ]
  },
  {
   "cell_type": "code",
   "execution_count": 28,
   "id": "6727d079-03e5-481e-9d38-292a90b7a0a8",
   "metadata": {
    "execution": {
     "iopub.execute_input": "2025-07-28T10:51:15.549990Z",
     "iopub.status.busy": "2025-07-28T10:51:15.549051Z",
     "iopub.status.idle": "2025-07-28T10:51:15.554129Z",
     "shell.execute_reply": "2025-07-28T10:51:15.553133Z"
    },
    "papermill": {
     "duration": 0.029748,
     "end_time": "2025-07-28T10:51:15.555801",
     "exception": false,
     "start_time": "2025-07-28T10:51:15.526053",
     "status": "completed"
    },
    "tags": []
   },
   "outputs": [],
   "source": [
    "# SPLIT & STRATIFY DATA\n",
    "# ----------------------"
   ]
  },
  {
   "cell_type": "code",
   "execution_count": 29,
   "id": "76c4dc6d",
   "metadata": {
    "execution": {
     "iopub.execute_input": "2025-07-28T10:51:15.601269Z",
     "iopub.status.busy": "2025-07-28T10:51:15.600698Z",
     "iopub.status.idle": "2025-07-28T10:51:15.606722Z",
     "shell.execute_reply": "2025-07-28T10:51:15.605843Z"
    },
    "papermill": {
     "duration": 0.030002,
     "end_time": "2025-07-28T10:51:15.608408",
     "exception": false,
     "start_time": "2025-07-28T10:51:15.578406",
     "status": "completed"
    },
    "tags": []
   },
   "outputs": [],
   "source": [
    "# EXCLUDE CERTAIN SUBGROUPS\n",
    "# ----------------------\n",
    "\n",
    "mode = universe.get(\"exclude_subgroups\", \"keep-all\") \n",
    "# Fetches the exclude_subgroups setting from the universe dict.\n",
    "# Defaults to \"keep-all\" if the key is missing."
   ]
  },
  {
   "cell_type": "code",
   "execution_count": 30,
   "id": "21994072",
   "metadata": {
    "execution": {
     "iopub.execute_input": "2025-07-28T10:51:15.653712Z",
     "iopub.status.busy": "2025-07-28T10:51:15.652089Z",
     "iopub.status.idle": "2025-07-28T10:51:15.660632Z",
     "shell.execute_reply": "2025-07-28T10:51:15.659639Z"
    },
    "papermill": {
     "duration": 0.032565,
     "end_time": "2025-07-28T10:51:15.662327",
     "exception": false,
     "start_time": "2025-07-28T10:51:15.629762",
     "status": "completed"
    },
    "tags": []
   },
   "outputs": [],
   "source": [
    "if mode == \"keep-all\":\n",
    "    keep_mask = pd.Series(True, index=org_train.index)\n",
    "\n",
    "# org_train contains the original feature columns from features_org (in Simson)\n",
    "# features_org contains unprocessed features, for me X_train at beginning ???\n",
    "# For keep-all, creates a boolean Series (keep_mask) of all True, so no rows are removed.\n",
    "\n",
    "elif mode == \"drop-non-german\":\n",
    "    keep_mask = org_train[\"maxdeutsch1\"] == 1 # ??? what about missing values?\n",
    "\n",
    "else:\n",
    "    raise ValueError(f\"Unsupported mode for exclude_subgroups: {mode}\")\n"
   ]
  },
  {
   "cell_type": "code",
   "execution_count": 31,
   "id": "71651440",
   "metadata": {
    "execution": {
     "iopub.execute_input": "2025-07-28T10:51:15.707141Z",
     "iopub.status.busy": "2025-07-28T10:51:15.706417Z",
     "iopub.status.idle": "2025-07-28T10:51:15.714561Z",
     "shell.execute_reply": "2025-07-28T10:51:15.713580Z"
    },
    "papermill": {
     "duration": 0.031056,
     "end_time": "2025-07-28T10:51:15.716376",
     "exception": false,
     "start_time": "2025-07-28T10:51:15.685320",
     "status": "completed"
    },
    "tags": []
   },
   "outputs": [
    {
     "name": "stdout",
     "output_type": "stream",
     "text": [
      "Dropping 131 rows (13.10%) where mode='drop-non-german'\n"
     ]
    }
   ],
   "source": [
    "n_drop = (~keep_mask).sum() # Calculates how many rows are set to be dropped\n",
    "if n_drop > 0:\n",
    "    pct = n_drop / len(keep_mask) * 100\n",
    "    print(f\"Dropping {n_drop} rows ({pct:.2f}%) where mode='{mode}'\")"
   ]
  },
  {
   "cell_type": "code",
   "execution_count": 32,
   "id": "5fb8eee5",
   "metadata": {
    "execution": {
     "iopub.execute_input": "2025-07-28T10:51:15.761994Z",
     "iopub.status.busy": "2025-07-28T10:51:15.761116Z",
     "iopub.status.idle": "2025-07-28T10:51:15.767584Z",
     "shell.execute_reply": "2025-07-28T10:51:15.766642Z"
    },
    "papermill": {
     "duration": 0.029585,
     "end_time": "2025-07-28T10:51:15.769269",
     "exception": false,
     "start_time": "2025-07-28T10:51:15.739684",
     "status": "completed"
    },
    "tags": []
   },
   "outputs": [],
   "source": [
    "X_train = X_train[keep_mask]"
   ]
  },
  {
   "cell_type": "code",
   "execution_count": 33,
   "id": "b202bb3a",
   "metadata": {
    "execution": {
     "iopub.execute_input": "2025-07-28T10:51:15.815832Z",
     "iopub.status.busy": "2025-07-28T10:51:15.814972Z",
     "iopub.status.idle": "2025-07-28T10:51:15.822227Z",
     "shell.execute_reply": "2025-07-28T10:51:15.821224Z"
    },
    "papermill": {
     "duration": 0.032052,
     "end_time": "2025-07-28T10:51:15.823882",
     "exception": false,
     "start_time": "2025-07-28T10:51:15.791830",
     "status": "completed"
    },
    "tags": []
   },
   "outputs": [],
   "source": [
    "y_train = y_train[keep_mask]"
   ]
  },
  {
   "cell_type": "markdown",
   "id": "493e2ac3",
   "metadata": {
    "papermill": {
     "duration": 0.020496,
     "end_time": "2025-07-28T10:51:15.867024",
     "exception": false,
     "start_time": "2025-07-28T10:51:15.846528",
     "status": "completed"
    },
    "tags": []
   },
   "source": [
    "# Model Training"
   ]
  },
  {
   "cell_type": "code",
   "execution_count": 34,
   "id": "679e1268",
   "metadata": {
    "execution": {
     "iopub.execute_input": "2025-07-28T10:51:15.911286Z",
     "iopub.status.busy": "2025-07-28T10:51:15.910621Z",
     "iopub.status.idle": "2025-07-28T10:51:16.034738Z",
     "shell.execute_reply": "2025-07-28T10:51:16.033595Z"
    },
    "papermill": {
     "duration": 0.148852,
     "end_time": "2025-07-28T10:51:16.036683",
     "exception": false,
     "start_time": "2025-07-28T10:51:15.887831",
     "status": "completed"
    },
    "tags": []
   },
   "outputs": [],
   "source": [
    "from sklearn.linear_model import LogisticRegression\n",
    "from sklearn.ensemble import GradientBoostingClassifier, RandomForestClassifier\n",
    "\n",
    "if (universe[\"model\"] == \"logreg\"):\n",
    "    model = LogisticRegression() #penalty=\"none\") #, solver=\"newton-cg\", max_iter=1) # include random_state=19 ?\n",
    "elif (universe[\"model\"] == \"penalized_logreg\"):\n",
    "    model = LogisticRegression(penalty=\"l2\", C=1.0) #, solver=\"newton-cg\", max_iter=1)\n",
    "elif (universe[\"model\"] == \"rf\"):\n",
    "    model = RandomForestClassifier(n_estimators=100, n_jobs=-1)\n",
    "elif (universe[\"model\"] == \"gbm\"):\n",
    "    model = GradientBoostingClassifier()\n",
    "elif (universe[\"model\"] == \"elasticnet\"):\n",
    "    model = LogisticRegression(penalty = 'elasticnet', solver = 'saga', l1_ratio = 0.5, max_iter=5000) # which solver to use?\n",
    "else:\n",
    "    raise \"Unsupported universe.model\""
   ]
  },
  {
   "cell_type": "code",
   "execution_count": 35,
   "id": "0cc8f744",
   "metadata": {
    "execution": {
     "iopub.execute_input": "2025-07-28T10:51:16.085733Z",
     "iopub.status.busy": "2025-07-28T10:51:16.085039Z",
     "iopub.status.idle": "2025-07-28T10:51:16.091741Z",
     "shell.execute_reply": "2025-07-28T10:51:16.090832Z"
    },
    "papermill": {
     "duration": 0.030325,
     "end_time": "2025-07-28T10:51:16.093353",
     "exception": false,
     "start_time": "2025-07-28T10:51:16.063028",
     "status": "completed"
    },
    "tags": []
   },
   "outputs": [],
   "source": [
    "import numpy as np\n",
    "from sklearn.pipeline import Pipeline\n",
    "from sklearn.preprocessing import StandardScaler\n",
    "\n",
    "model = Pipeline([\n",
    "    #(\"continuous_processor\", continuous_processor),\n",
    "    #(\"categorical_preprocessor\", categorical_preprocessor),\n",
    "    (\"scale\", StandardScaler() if universe[\"scale\"] == \"scale\" else None), \n",
    "    (\"model\", model),\n",
    "])"
   ]
  },
  {
   "cell_type": "code",
   "execution_count": 36,
   "id": "9442c04d",
   "metadata": {
    "execution": {
     "iopub.execute_input": "2025-07-28T10:51:16.137779Z",
     "iopub.status.busy": "2025-07-28T10:51:16.137118Z",
     "iopub.status.idle": "2025-07-28T10:51:17.139221Z",
     "shell.execute_reply": "2025-07-28T10:51:17.138284Z"
    },
    "papermill": {
     "duration": 1.026328,
     "end_time": "2025-07-28T10:51:17.141375",
     "exception": false,
     "start_time": "2025-07-28T10:51:16.115047",
     "status": "completed"
    },
    "tags": []
   },
   "outputs": [
    {
     "data": {
      "text/html": [
       "<style>#sk-container-id-1 {color: black;background-color: white;}#sk-container-id-1 pre{padding: 0;}#sk-container-id-1 div.sk-toggleable {background-color: white;}#sk-container-id-1 label.sk-toggleable__label {cursor: pointer;display: block;width: 100%;margin-bottom: 0;padding: 0.3em;box-sizing: border-box;text-align: center;}#sk-container-id-1 label.sk-toggleable__label-arrow:before {content: \"▸\";float: left;margin-right: 0.25em;color: #696969;}#sk-container-id-1 label.sk-toggleable__label-arrow:hover:before {color: black;}#sk-container-id-1 div.sk-estimator:hover label.sk-toggleable__label-arrow:before {color: black;}#sk-container-id-1 div.sk-toggleable__content {max-height: 0;max-width: 0;overflow: hidden;text-align: left;background-color: #f0f8ff;}#sk-container-id-1 div.sk-toggleable__content pre {margin: 0.2em;color: black;border-radius: 0.25em;background-color: #f0f8ff;}#sk-container-id-1 input.sk-toggleable__control:checked~div.sk-toggleable__content {max-height: 200px;max-width: 100%;overflow: auto;}#sk-container-id-1 input.sk-toggleable__control:checked~label.sk-toggleable__label-arrow:before {content: \"▾\";}#sk-container-id-1 div.sk-estimator input.sk-toggleable__control:checked~label.sk-toggleable__label {background-color: #d4ebff;}#sk-container-id-1 div.sk-label input.sk-toggleable__control:checked~label.sk-toggleable__label {background-color: #d4ebff;}#sk-container-id-1 input.sk-hidden--visually {border: 0;clip: rect(1px 1px 1px 1px);clip: rect(1px, 1px, 1px, 1px);height: 1px;margin: -1px;overflow: hidden;padding: 0;position: absolute;width: 1px;}#sk-container-id-1 div.sk-estimator {font-family: monospace;background-color: #f0f8ff;border: 1px dotted black;border-radius: 0.25em;box-sizing: border-box;margin-bottom: 0.5em;}#sk-container-id-1 div.sk-estimator:hover {background-color: #d4ebff;}#sk-container-id-1 div.sk-parallel-item::after {content: \"\";width: 100%;border-bottom: 1px solid gray;flex-grow: 1;}#sk-container-id-1 div.sk-label:hover label.sk-toggleable__label {background-color: #d4ebff;}#sk-container-id-1 div.sk-serial::before {content: \"\";position: absolute;border-left: 1px solid gray;box-sizing: border-box;top: 0;bottom: 0;left: 50%;z-index: 0;}#sk-container-id-1 div.sk-serial {display: flex;flex-direction: column;align-items: center;background-color: white;padding-right: 0.2em;padding-left: 0.2em;position: relative;}#sk-container-id-1 div.sk-item {position: relative;z-index: 1;}#sk-container-id-1 div.sk-parallel {display: flex;align-items: stretch;justify-content: center;background-color: white;position: relative;}#sk-container-id-1 div.sk-item::before, #sk-container-id-1 div.sk-parallel-item::before {content: \"\";position: absolute;border-left: 1px solid gray;box-sizing: border-box;top: 0;bottom: 0;left: 50%;z-index: -1;}#sk-container-id-1 div.sk-parallel-item {display: flex;flex-direction: column;z-index: 1;position: relative;background-color: white;}#sk-container-id-1 div.sk-parallel-item:first-child::after {align-self: flex-end;width: 50%;}#sk-container-id-1 div.sk-parallel-item:last-child::after {align-self: flex-start;width: 50%;}#sk-container-id-1 div.sk-parallel-item:only-child::after {width: 0;}#sk-container-id-1 div.sk-dashed-wrapped {border: 1px dashed gray;margin: 0 0.4em 0.5em 0.4em;box-sizing: border-box;padding-bottom: 0.4em;background-color: white;}#sk-container-id-1 div.sk-label label {font-family: monospace;font-weight: bold;display: inline-block;line-height: 1.2em;}#sk-container-id-1 div.sk-label-container {text-align: center;}#sk-container-id-1 div.sk-container {/* jupyter's `normalize.less` sets `[hidden] { display: none; }` but bootstrap.min.css set `[hidden] { display: none !important; }` so we also need the `!important` here to be able to override the default hidden behavior on the sphinx rendered scikit-learn.org. See: https://github.com/scikit-learn/scikit-learn/issues/21755 */display: inline-block !important;position: relative;}#sk-container-id-1 div.sk-text-repr-fallback {display: none;}</style><div id=\"sk-container-id-1\" class=\"sk-top-container\"><div class=\"sk-text-repr-fallback\"><pre>Pipeline(steps=[(&#x27;scale&#x27;, None), (&#x27;model&#x27;, GradientBoostingClassifier())])</pre><b>In a Jupyter environment, please rerun this cell to show the HTML representation or trust the notebook. <br />On GitHub, the HTML representation is unable to render, please try loading this page with nbviewer.org.</b></div><div class=\"sk-container\" hidden><div class=\"sk-item sk-dashed-wrapped\"><div class=\"sk-label-container\"><div class=\"sk-label sk-toggleable\"><input class=\"sk-toggleable__control sk-hidden--visually\" id=\"sk-estimator-id-1\" type=\"checkbox\" ><label for=\"sk-estimator-id-1\" class=\"sk-toggleable__label sk-toggleable__label-arrow\">Pipeline</label><div class=\"sk-toggleable__content\"><pre>Pipeline(steps=[(&#x27;scale&#x27;, None), (&#x27;model&#x27;, GradientBoostingClassifier())])</pre></div></div></div><div class=\"sk-serial\"><div class=\"sk-item\"><div class=\"sk-estimator sk-toggleable\"><input class=\"sk-toggleable__control sk-hidden--visually\" id=\"sk-estimator-id-2\" type=\"checkbox\" ><label for=\"sk-estimator-id-2\" class=\"sk-toggleable__label sk-toggleable__label-arrow\">None</label><div class=\"sk-toggleable__content\"><pre>None</pre></div></div></div><div class=\"sk-item\"><div class=\"sk-estimator sk-toggleable\"><input class=\"sk-toggleable__control sk-hidden--visually\" id=\"sk-estimator-id-3\" type=\"checkbox\" ><label for=\"sk-estimator-id-3\" class=\"sk-toggleable__label sk-toggleable__label-arrow\">GradientBoostingClassifier</label><div class=\"sk-toggleable__content\"><pre>GradientBoostingClassifier()</pre></div></div></div></div></div></div></div>"
      ],
      "text/plain": [
       "Pipeline(steps=[('scale', None), ('model', GradientBoostingClassifier())])"
      ]
     },
     "execution_count": 36,
     "metadata": {},
     "output_type": "execute_result"
    }
   ],
   "source": [
    "model.fit(X_train, y_train.values.ravel())"
   ]
  },
  {
   "cell_type": "code",
   "execution_count": 37,
   "id": "af59f8c0",
   "metadata": {
    "execution": {
     "iopub.execute_input": "2025-07-28T10:51:17.187240Z",
     "iopub.status.busy": "2025-07-28T10:51:17.186749Z",
     "iopub.status.idle": "2025-07-28T10:51:17.192584Z",
     "shell.execute_reply": "2025-07-28T10:51:17.191675Z"
    },
    "papermill": {
     "duration": 0.0311,
     "end_time": "2025-07-28T10:51:17.194241",
     "exception": false,
     "start_time": "2025-07-28T10:51:17.163141",
     "status": "completed"
    },
    "tags": []
   },
   "outputs": [],
   "source": [
    "from fairness_multiverse.universe import predict_w_threshold"
   ]
  },
  {
   "cell_type": "code",
   "execution_count": 38,
   "id": "a7cf2e16",
   "metadata": {
    "execution": {
     "iopub.execute_input": "2025-07-28T10:51:17.240088Z",
     "iopub.status.busy": "2025-07-28T10:51:17.239548Z",
     "iopub.status.idle": "2025-07-28T10:51:17.950766Z",
     "shell.execute_reply": "2025-07-28T10:51:17.949858Z"
    },
    "papermill": {
     "duration": 0.735294,
     "end_time": "2025-07-28T10:51:17.952517",
     "exception": false,
     "start_time": "2025-07-28T10:51:17.217223",
     "status": "completed"
    },
    "tags": []
   },
   "outputs": [
    {
     "data": {
      "text/plain": [
       "0.8251588451677628"
      ]
     },
     "execution_count": 38,
     "metadata": {},
     "output_type": "execute_result"
    }
   ],
   "source": [
    "probs_test = model.predict_proba(X_test)\n",
    "\n",
    "'''\n",
    "Below code returns a boolean array (or binary 0/1 array depending on how it’s used) where each element \n",
    "is True if the probability of class 1 is greater than or equal to the threshold, and False otherwise.\n",
    "'''\n",
    "y_pred_default = predict_w_threshold(probs_test, 0.5)\n",
    "\n",
    "from sklearn.metrics import accuracy_score\n",
    "\n",
    "# Naive prediction\n",
    "accuracy_score(y_true = y_true, y_pred = y_pred_default)"
   ]
  },
  {
   "cell_type": "code",
   "execution_count": 39,
   "id": "081964c3",
   "metadata": {
    "execution": {
     "iopub.execute_input": "2025-07-28T10:51:18.001792Z",
     "iopub.status.busy": "2025-07-28T10:51:18.000889Z",
     "iopub.status.idle": "2025-07-28T10:51:18.699905Z",
     "shell.execute_reply": "2025-07-28T10:51:18.698915Z"
    },
    "papermill": {
     "duration": 0.725927,
     "end_time": "2025-07-28T10:51:18.701670",
     "exception": false,
     "start_time": "2025-07-28T10:51:17.975743",
     "status": "completed"
    },
    "tags": []
   },
   "outputs": [
    {
     "data": {
      "text/plain": [
       "array([0, 0, 0, ..., 1, 0, 0])"
      ]
     },
     "execution_count": 39,
     "metadata": {},
     "output_type": "execute_result"
    }
   ],
   "source": [
    "model.predict(X_test)"
   ]
  },
  {
   "cell_type": "markdown",
   "id": "56c9705b",
   "metadata": {
    "papermill": {
     "duration": 0.022391,
     "end_time": "2025-07-28T10:51:18.748398",
     "exception": false,
     "start_time": "2025-07-28T10:51:18.726007",
     "status": "completed"
    },
    "tags": []
   },
   "source": [
    "# Conformal Prediction"
   ]
  },
  {
   "cell_type": "code",
   "execution_count": 40,
   "id": "160ec6ff",
   "metadata": {
    "execution": {
     "iopub.execute_input": "2025-07-28T10:51:18.795014Z",
     "iopub.status.busy": "2025-07-28T10:51:18.794021Z",
     "iopub.status.idle": "2025-07-28T10:51:18.799800Z",
     "shell.execute_reply": "2025-07-28T10:51:18.798706Z"
    },
    "papermill": {
     "duration": 0.031344,
     "end_time": "2025-07-28T10:51:18.801612",
     "exception": false,
     "start_time": "2025-07-28T10:51:18.770268",
     "status": "completed"
    },
    "tags": []
   },
   "outputs": [],
   "source": [
    "# Miscoverage level for conformal prediction (10% allowed error rate => 90% target coverage)\n",
    "alpha = 0.1"
   ]
  },
  {
   "cell_type": "code",
   "execution_count": 41,
   "id": "eadf4555-3dd3-440e-8e35-f82a4ad9f855",
   "metadata": {
    "execution": {
     "iopub.execute_input": "2025-07-28T10:51:18.851444Z",
     "iopub.status.busy": "2025-07-28T10:51:18.850915Z",
     "iopub.status.idle": "2025-07-28T10:51:19.311531Z",
     "shell.execute_reply": "2025-07-28T10:51:19.310544Z"
    },
    "papermill": {
     "duration": 0.489768,
     "end_time": "2025-07-28T10:51:19.313625",
     "exception": false,
     "start_time": "2025-07-28T10:51:18.823857",
     "status": "completed"
    },
    "tags": []
   },
   "outputs": [],
   "source": [
    "probs_calib = model.predict_proba(X_calib)"
   ]
  },
  {
   "cell_type": "code",
   "execution_count": 42,
   "id": "2ed93547-6d5d-4983-9b36-1ecb300da49a",
   "metadata": {
    "execution": {
     "iopub.execute_input": "2025-07-28T10:51:19.362002Z",
     "iopub.status.busy": "2025-07-28T10:51:19.361470Z",
     "iopub.status.idle": "2025-07-28T10:51:19.367605Z",
     "shell.execute_reply": "2025-07-28T10:51:19.366673Z"
    },
    "papermill": {
     "duration": 0.032081,
     "end_time": "2025-07-28T10:51:19.369634",
     "exception": false,
     "start_time": "2025-07-28T10:51:19.337553",
     "status": "completed"
    },
    "tags": []
   },
   "outputs": [],
   "source": [
    "y_calib = y_calib.values.ravel().astype(int)"
   ]
  },
  {
   "cell_type": "code",
   "execution_count": 43,
   "id": "65d1320d-f588-4b38-9072-62af1ae97f7d",
   "metadata": {
    "execution": {
     "iopub.execute_input": "2025-07-28T10:51:19.419817Z",
     "iopub.status.busy": "2025-07-28T10:51:19.419111Z",
     "iopub.status.idle": "2025-07-28T10:51:19.426867Z",
     "shell.execute_reply": "2025-07-28T10:51:19.425868Z"
    },
    "papermill": {
     "duration": 0.034227,
     "end_time": "2025-07-28T10:51:19.428726",
     "exception": false,
     "start_time": "2025-07-28T10:51:19.394499",
     "status": "completed"
    },
    "tags": []
   },
   "outputs": [],
   "source": [
    "from fairness_multiverse.conformal import compute_nc_scores\n",
    "\n",
    "# Compute nonconformity scores on calibration set (1 - probability of true class)\n",
    "nc_scores = compute_nc_scores(probs_calib, y_calib)"
   ]
  },
  {
   "cell_type": "code",
   "execution_count": 44,
   "id": "df3b8ca3-53b7-43d5-9667-7c85da7aeda2",
   "metadata": {
    "execution": {
     "iopub.execute_input": "2025-07-28T10:51:19.477722Z",
     "iopub.status.busy": "2025-07-28T10:51:19.477001Z",
     "iopub.status.idle": "2025-07-28T10:51:19.484193Z",
     "shell.execute_reply": "2025-07-28T10:51:19.483277Z"
    },
    "papermill": {
     "duration": 0.034229,
     "end_time": "2025-07-28T10:51:19.486019",
     "exception": false,
     "start_time": "2025-07-28T10:51:19.451790",
     "status": "completed"
    },
    "tags": []
   },
   "outputs": [],
   "source": [
    "from fairness_multiverse.conformal import find_threshold\n",
    "\n",
    "# Find conformal threshold q_hat for the given alpha (split conformal method)\n",
    "q_hat = find_threshold(nc_scores, alpha)"
   ]
  },
  {
   "cell_type": "code",
   "execution_count": 45,
   "id": "4d29e6c1-0ef6-4aa4-b8fe-4fe79b0d033a",
   "metadata": {
    "execution": {
     "iopub.execute_input": "2025-07-28T10:51:19.534914Z",
     "iopub.status.busy": "2025-07-28T10:51:19.534179Z",
     "iopub.status.idle": "2025-07-28T10:51:19.541612Z",
     "shell.execute_reply": "2025-07-28T10:51:19.540623Z"
    },
    "papermill": {
     "duration": 0.03405,
     "end_time": "2025-07-28T10:51:19.543060",
     "exception": false,
     "start_time": "2025-07-28T10:51:19.509010",
     "status": "completed"
    },
    "tags": []
   },
   "outputs": [
    {
     "data": {
      "text/plain": [
       "0.7862141719179068"
      ]
     },
     "execution_count": 45,
     "metadata": {},
     "output_type": "execute_result"
    }
   ],
   "source": [
    "q_hat"
   ]
  },
  {
   "cell_type": "code",
   "execution_count": 46,
   "id": "92460794-cdac-4be2-ba28-f28c0515a6fb",
   "metadata": {
    "execution": {
     "iopub.execute_input": "2025-07-28T10:51:19.589617Z",
     "iopub.status.busy": "2025-07-28T10:51:19.588776Z",
     "iopub.status.idle": "2025-07-28T10:51:20.969652Z",
     "shell.execute_reply": "2025-07-28T10:51:20.968758Z"
    },
    "papermill": {
     "duration": 1.406132,
     "end_time": "2025-07-28T10:51:20.971626",
     "exception": false,
     "start_time": "2025-07-28T10:51:19.565494",
     "status": "completed"
    },
    "tags": []
   },
   "outputs": [],
   "source": [
    "from fairness_multiverse.conformal import predict_conformal_sets\n",
    "\n",
    "# Generate prediction sets for each test example\n",
    "pred_sets = predict_conformal_sets(model, X_test, q_hat)"
   ]
  },
  {
   "cell_type": "code",
   "execution_count": 47,
   "id": "d90c9a65-e6db-4f5d-80cd-e68fb7e46829",
   "metadata": {
    "execution": {
     "iopub.execute_input": "2025-07-28T10:51:21.018402Z",
     "iopub.status.busy": "2025-07-28T10:51:21.017922Z",
     "iopub.status.idle": "2025-07-28T10:51:21.025015Z",
     "shell.execute_reply": "2025-07-28T10:51:21.024063Z"
    },
    "papermill": {
     "duration": 0.032102,
     "end_time": "2025-07-28T10:51:21.026790",
     "exception": false,
     "start_time": "2025-07-28T10:51:20.994688",
     "status": "completed"
    },
    "tags": []
   },
   "outputs": [],
   "source": [
    "y_true = y_true.squeeze()"
   ]
  },
  {
   "cell_type": "code",
   "execution_count": 48,
   "id": "3a58a54a-1e68-46b9-927a-df01f18aebc8",
   "metadata": {
    "execution": {
     "iopub.execute_input": "2025-07-28T10:51:21.073463Z",
     "iopub.status.busy": "2025-07-28T10:51:21.072717Z",
     "iopub.status.idle": "2025-07-28T10:51:22.077504Z",
     "shell.execute_reply": "2025-07-28T10:51:22.076745Z"
    },
    "papermill": {
     "duration": 1.029097,
     "end_time": "2025-07-28T10:51:22.078858",
     "exception": false,
     "start_time": "2025-07-28T10:51:21.049761",
     "status": "completed"
    },
    "tags": []
   },
   "outputs": [],
   "source": [
    "from fairness_multiverse.conformal import evaluate_sets\n",
    "\n",
    "# Evaluate coverage and average set size on test data\n",
    "metrics = evaluate_sets(pred_sets, y_true)"
   ]
  },
  {
   "cell_type": "markdown",
   "id": "2b569c12-9aaa-4c88-98c9-bbcd0cf3ebb8",
   "metadata": {
    "papermill": {
     "duration": 0.012132,
     "end_time": "2025-07-28T10:51:22.104121",
     "exception": false,
     "start_time": "2025-07-28T10:51:22.091989",
     "status": "completed"
    },
    "tags": []
   },
   "source": [
    "# CP Metrics"
   ]
  },
  {
   "cell_type": "code",
   "execution_count": 49,
   "id": "5ce0a5cb-201f-45a0-ade5-94c7f0bd6095",
   "metadata": {
    "execution": {
     "iopub.execute_input": "2025-07-28T10:51:22.155363Z",
     "iopub.status.busy": "2025-07-28T10:51:22.154385Z",
     "iopub.status.idle": "2025-07-28T10:51:22.162254Z",
     "shell.execute_reply": "2025-07-28T10:51:22.161195Z"
    },
    "papermill": {
     "duration": 0.035701,
     "end_time": "2025-07-28T10:51:22.163956",
     "exception": false,
     "start_time": "2025-07-28T10:51:22.128255",
     "status": "completed"
    },
    "tags": []
   },
   "outputs": [
    {
     "data": {
      "text/plain": [
       "{'coverage': 0.9077248913164642, 'avg_size': 1.202285141009921}"
      ]
     },
     "execution_count": 49,
     "metadata": {},
     "output_type": "execute_result"
    }
   ],
   "source": [
    "metrics"
   ]
  },
  {
   "cell_type": "code",
   "execution_count": 50,
   "id": "9b9a838d-31c9-430b-ae14-12baee460d17",
   "metadata": {
    "execution": {
     "iopub.execute_input": "2025-07-28T10:51:22.217491Z",
     "iopub.status.busy": "2025-07-28T10:51:22.216798Z",
     "iopub.status.idle": "2025-07-28T10:51:22.223732Z",
     "shell.execute_reply": "2025-07-28T10:51:22.222723Z"
    },
    "papermill": {
     "duration": 0.034645,
     "end_time": "2025-07-28T10:51:22.225352",
     "exception": false,
     "start_time": "2025-07-28T10:51:22.190707",
     "status": "completed"
    },
    "tags": []
   },
   "outputs": [],
   "source": [
    "example_universe = universe.copy()\n",
    "universe_training_size = example_universe.get(\"training_size\")\n",
    "universe_scale = example_universe.get(\"scale\")\n",
    "universe_model = example_universe.get(\"model\")\n",
    "universe_exclude_features = example_universe.get(\"exclude_features\")\n",
    "universe_exclude_subgroups = example_universe.get(\"exclude_subgroups\")"
   ]
  },
  {
   "cell_type": "code",
   "execution_count": 51,
   "id": "f4b6a8ac-9dc0-4245-8a91-5b3b5999c4f9",
   "metadata": {
    "execution": {
     "iopub.execute_input": "2025-07-28T10:51:22.281220Z",
     "iopub.status.busy": "2025-07-28T10:51:22.280376Z",
     "iopub.status.idle": "2025-07-28T10:51:22.286904Z",
     "shell.execute_reply": "2025-07-28T10:51:22.286014Z"
    },
    "papermill": {
     "duration": 0.038001,
     "end_time": "2025-07-28T10:51:22.288673",
     "exception": false,
     "start_time": "2025-07-28T10:51:22.250672",
     "status": "completed"
    },
    "tags": []
   },
   "outputs": [],
   "source": [
    "cp_metrics_dict = {\n",
    "    \"universe_id\": [universe_id],\n",
    "    \"universe_training_size\": [universe_training_size],\n",
    "    \"universe_scale\": [universe_scale],\n",
    "    \"universe_model\": [universe_model],\n",
    "    \"universe_exclude_features\": [universe_exclude_features],\n",
    "    \"universe_exclude_subgroups\": [universe_exclude_subgroups],\n",
    "    \"q_hat\": [q_hat],\n",
    "    \"coverage\": [metrics[\"coverage\"]],\n",
    "    \"avg_size\": [metrics[\"avg_size\"]],\n",
    "}"
   ]
  },
  {
   "cell_type": "code",
   "execution_count": 52,
   "id": "908acbb1-0371-4915-85ca-3fa520d2efe2",
   "metadata": {
    "execution": {
     "iopub.execute_input": "2025-07-28T10:51:22.341218Z",
     "iopub.status.busy": "2025-07-28T10:51:22.340174Z",
     "iopub.status.idle": "2025-07-28T10:51:22.349202Z",
     "shell.execute_reply": "2025-07-28T10:51:22.347908Z"
    },
    "papermill": {
     "duration": 0.037644,
     "end_time": "2025-07-28T10:51:22.351764",
     "exception": false,
     "start_time": "2025-07-28T10:51:22.314120",
     "status": "completed"
    },
    "tags": []
   },
   "outputs": [
    {
     "data": {
      "text/plain": [
       "{'universe_id': ['efe51593ebf96295076a3041bb80fdca'],\n",
       " 'universe_training_size': ['1k'],\n",
       " 'universe_scale': ['do-not-scale'],\n",
       " 'universe_model': ['gbm'],\n",
       " 'universe_exclude_features': ['sex'],\n",
       " 'universe_exclude_subgroups': ['drop-non-german'],\n",
       " 'q_hat': [0.7862141719179068],\n",
       " 'coverage': [0.9077248913164642],\n",
       " 'avg_size': [1.202285141009921]}"
      ]
     },
     "execution_count": 52,
     "metadata": {},
     "output_type": "execute_result"
    }
   ],
   "source": [
    "cp_metrics_dict"
   ]
  },
  {
   "cell_type": "code",
   "execution_count": 53,
   "id": "33007efc-14e9-4ec6-97ac-56a455c82265",
   "metadata": {
    "execution": {
     "iopub.execute_input": "2025-07-28T10:51:22.398313Z",
     "iopub.status.busy": "2025-07-28T10:51:22.397944Z",
     "iopub.status.idle": "2025-07-28T10:51:22.403855Z",
     "shell.execute_reply": "2025-07-28T10:51:22.402902Z"
    },
    "papermill": {
     "duration": 0.024168,
     "end_time": "2025-07-28T10:51:22.405711",
     "exception": false,
     "start_time": "2025-07-28T10:51:22.381543",
     "status": "completed"
    },
    "tags": []
   },
   "outputs": [],
   "source": [
    "cp_metrics_df = pd.DataFrame(cp_metrics_dict)"
   ]
  },
  {
   "cell_type": "code",
   "execution_count": 54,
   "id": "db12611b-57b2-4910-b9d0-355adfd6e7bf",
   "metadata": {
    "execution": {
     "iopub.execute_input": "2025-07-28T10:51:22.459153Z",
     "iopub.status.busy": "2025-07-28T10:51:22.458432Z",
     "iopub.status.idle": "2025-07-28T10:51:22.478866Z",
     "shell.execute_reply": "2025-07-28T10:51:22.477782Z"
    },
    "papermill": {
     "duration": 0.048427,
     "end_time": "2025-07-28T10:51:22.480491",
     "exception": false,
     "start_time": "2025-07-28T10:51:22.432064",
     "status": "completed"
    },
    "tags": []
   },
   "outputs": [
    {
     "data": {
      "text/html": [
       "<div>\n",
       "<style scoped>\n",
       "    .dataframe tbody tr th:only-of-type {\n",
       "        vertical-align: middle;\n",
       "    }\n",
       "\n",
       "    .dataframe tbody tr th {\n",
       "        vertical-align: top;\n",
       "    }\n",
       "\n",
       "    .dataframe thead th {\n",
       "        text-align: right;\n",
       "    }\n",
       "</style>\n",
       "<table border=\"1\" class=\"dataframe\">\n",
       "  <thead>\n",
       "    <tr style=\"text-align: right;\">\n",
       "      <th></th>\n",
       "      <th>universe_id</th>\n",
       "      <th>universe_training_size</th>\n",
       "      <th>universe_scale</th>\n",
       "      <th>universe_model</th>\n",
       "      <th>universe_exclude_features</th>\n",
       "      <th>universe_exclude_subgroups</th>\n",
       "      <th>q_hat</th>\n",
       "      <th>coverage</th>\n",
       "      <th>avg_size</th>\n",
       "    </tr>\n",
       "  </thead>\n",
       "  <tbody>\n",
       "    <tr>\n",
       "      <th>0</th>\n",
       "      <td>efe51593ebf96295076a3041bb80fdca</td>\n",
       "      <td>1k</td>\n",
       "      <td>do-not-scale</td>\n",
       "      <td>gbm</td>\n",
       "      <td>sex</td>\n",
       "      <td>drop-non-german</td>\n",
       "      <td>0.786214</td>\n",
       "      <td>0.907725</td>\n",
       "      <td>1.202285</td>\n",
       "    </tr>\n",
       "  </tbody>\n",
       "</table>\n",
       "</div>"
      ],
      "text/plain": [
       "                        universe_id universe_training_size universe_scale  \\\n",
       "0  efe51593ebf96295076a3041bb80fdca                     1k   do-not-scale   \n",
       "\n",
       "  universe_model universe_exclude_features universe_exclude_subgroups  \\\n",
       "0            gbm                       sex            drop-non-german   \n",
       "\n",
       "      q_hat  coverage  avg_size  \n",
       "0  0.786214  0.907725  1.202285  "
      ]
     },
     "execution_count": 54,
     "metadata": {},
     "output_type": "execute_result"
    }
   ],
   "source": [
    "cp_metrics_df"
   ]
  },
  {
   "cell_type": "code",
   "execution_count": 55,
   "id": "b7fbde55-a0a1-47e4-9af6-fe4a17fa8c61",
   "metadata": {
    "execution": {
     "iopub.execute_input": "2025-07-28T10:51:22.531538Z",
     "iopub.status.busy": "2025-07-28T10:51:22.531084Z",
     "iopub.status.idle": "2025-07-28T10:51:22.536468Z",
     "shell.execute_reply": "2025-07-28T10:51:22.535440Z"
    },
    "papermill": {
     "duration": 0.034186,
     "end_time": "2025-07-28T10:51:22.538080",
     "exception": false,
     "start_time": "2025-07-28T10:51:22.503894",
     "status": "completed"
    },
    "tags": []
   },
   "outputs": [],
   "source": [
    "# Conditional Coverage & looking at subgroups"
   ]
  },
  {
   "cell_type": "code",
   "execution_count": 56,
   "id": "027ae886-68dd-4141-96c7-805a5450e1ef",
   "metadata": {
    "execution": {
     "iopub.execute_input": "2025-07-28T10:51:22.588466Z",
     "iopub.status.busy": "2025-07-28T10:51:22.587879Z",
     "iopub.status.idle": "2025-07-28T10:51:22.860896Z",
     "shell.execute_reply": "2025-07-28T10:51:22.859869Z"
    },
    "papermill": {
     "duration": 0.301174,
     "end_time": "2025-07-28T10:51:22.863001",
     "exception": false,
     "start_time": "2025-07-28T10:51:22.561827",
     "status": "completed"
    },
    "tags": []
   },
   "outputs": [],
   "source": [
    "from fairness_multiverse.conformal import build_cp_groups\n",
    "\n",
    "cp_groups_df = build_cp_groups(pred_sets, y_true, X_test.index, org_test)\n",
    "#needs universe_id and setting"
   ]
  },
  {
   "cell_type": "code",
   "execution_count": 57,
   "id": "01d5802c-663a-4d1f-9d69-e036faaffbf7",
   "metadata": {
    "execution": {
     "iopub.execute_input": "2025-07-28T10:51:22.912412Z",
     "iopub.status.busy": "2025-07-28T10:51:22.911690Z",
     "iopub.status.idle": "2025-07-28T10:51:22.917011Z",
     "shell.execute_reply": "2025-07-28T10:51:22.916073Z"
    },
    "papermill": {
     "duration": 0.031699,
     "end_time": "2025-07-28T10:51:22.918707",
     "exception": false,
     "start_time": "2025-07-28T10:51:22.887008",
     "status": "completed"
    },
    "tags": []
   },
   "outputs": [],
   "source": [
    "#delete\n",
    "#cp_groups_df"
   ]
  },
  {
   "cell_type": "code",
   "execution_count": 58,
   "id": "fa424af1-d1eb-443d-b717-2d279ada8408",
   "metadata": {
    "execution": {
     "iopub.execute_input": "2025-07-28T10:51:22.967991Z",
     "iopub.status.busy": "2025-07-28T10:51:22.967282Z",
     "iopub.status.idle": "2025-07-28T10:51:22.972852Z",
     "shell.execute_reply": "2025-07-28T10:51:22.971870Z"
    },
    "papermill": {
     "duration": 0.031744,
     "end_time": "2025-07-28T10:51:22.974462",
     "exception": false,
     "start_time": "2025-07-28T10:51:22.942718",
     "status": "completed"
    },
    "tags": []
   },
   "outputs": [],
   "source": [
    "#delete\n",
    "#percentage = (cp_groups_df['nongerman_female'] == 1).mean() * 100\n",
    "#print(percentage)\n"
   ]
  },
  {
   "cell_type": "code",
   "execution_count": 59,
   "id": "6cbdab96-b2b2-45af-ad54-d0516db2e28d",
   "metadata": {
    "execution": {
     "iopub.execute_input": "2025-07-28T10:51:23.025134Z",
     "iopub.status.busy": "2025-07-28T10:51:23.024489Z",
     "iopub.status.idle": "2025-07-28T10:51:24.741677Z",
     "shell.execute_reply": "2025-07-28T10:51:24.740776Z"
    },
    "papermill": {
     "duration": 1.743404,
     "end_time": "2025-07-28T10:51:24.743647",
     "exception": false,
     "start_time": "2025-07-28T10:51:23.000243",
     "status": "completed"
    },
    "tags": []
   },
   "outputs": [],
   "source": [
    "# Define covered = 1 if true_label is in the predicted set\n",
    "cp_groups_df['covered'] = cp_groups_df.apply(\n",
    "    lambda r: int(r['true_label'] in r['pred_set']),\n",
    "    axis=1\n",
    ")"
   ]
  },
  {
   "cell_type": "code",
   "execution_count": 60,
   "id": "338ff529-1a6b-4b87-a931-8e4788d52aad",
   "metadata": {
    "execution": {
     "iopub.execute_input": "2025-07-28T10:51:24.795367Z",
     "iopub.status.busy": "2025-07-28T10:51:24.794655Z",
     "iopub.status.idle": "2025-07-28T10:51:24.800136Z",
     "shell.execute_reply": "2025-07-28T10:51:24.799150Z"
    },
    "papermill": {
     "duration": 0.031944,
     "end_time": "2025-07-28T10:51:24.801866",
     "exception": false,
     "start_time": "2025-07-28T10:51:24.769922",
     "status": "completed"
    },
    "tags": []
   },
   "outputs": [],
   "source": [
    "#cp_groups_df"
   ]
  },
  {
   "cell_type": "code",
   "execution_count": 61,
   "id": "90032e27-66df-4540-9169-4e89cfbaa758",
   "metadata": {
    "execution": {
     "iopub.execute_input": "2025-07-28T10:51:24.853590Z",
     "iopub.status.busy": "2025-07-28T10:51:24.852871Z",
     "iopub.status.idle": "2025-07-28T10:51:24.865051Z",
     "shell.execute_reply": "2025-07-28T10:51:24.864089Z"
    },
    "papermill": {
     "duration": 0.039097,
     "end_time": "2025-07-28T10:51:24.866808",
     "exception": false,
     "start_time": "2025-07-28T10:51:24.827711",
     "status": "completed"
    },
    "tags": []
   },
   "outputs": [],
   "source": [
    "subgroups = ['frau1','nongerman','nongerman_male','nongerman_female']\n",
    "\n",
    "# Conditional coverage for subgroup==1\n",
    "cond_coverage = {\n",
    "    g: cp_groups_df.loc[cp_groups_df[g]==1, 'covered'].mean()\n",
    "    for g in subgroups\n",
    "}"
   ]
  },
  {
   "cell_type": "code",
   "execution_count": 62,
   "id": "1e348fb1-b9c3-45bc-ba23-f016827a7e0d",
   "metadata": {
    "execution": {
     "iopub.execute_input": "2025-07-28T10:51:24.918484Z",
     "iopub.status.busy": "2025-07-28T10:51:24.917785Z",
     "iopub.status.idle": "2025-07-28T10:51:24.925751Z",
     "shell.execute_reply": "2025-07-28T10:51:24.924685Z"
    },
    "papermill": {
     "duration": 0.035121,
     "end_time": "2025-07-28T10:51:24.927407",
     "exception": false,
     "start_time": "2025-07-28T10:51:24.892286",
     "status": "completed"
    },
    "tags": []
   },
   "outputs": [
    {
     "data": {
      "text/plain": [
       "{'frau1': 0.9063485644965629,\n",
       " 'nongerman': 0.9065850783135913,\n",
       " 'nongerman_male': 0.9236242456993605,\n",
       " 'nongerman_female': 0.8783904619970194}"
      ]
     },
     "execution_count": 62,
     "metadata": {},
     "output_type": "execute_result"
    }
   ],
   "source": [
    "cond_coverage"
   ]
  },
  {
   "cell_type": "code",
   "execution_count": 63,
   "id": "f5093324-c3dd-4d63-bc4c-8d945e5c8bbb",
   "metadata": {
    "execution": {
     "iopub.execute_input": "2025-07-28T10:51:24.980916Z",
     "iopub.status.busy": "2025-07-28T10:51:24.980395Z",
     "iopub.status.idle": "2025-07-28T10:51:24.987822Z",
     "shell.execute_reply": "2025-07-28T10:51:24.986808Z"
    },
    "papermill": {
     "duration": 0.034401,
     "end_time": "2025-07-28T10:51:24.989564",
     "exception": false,
     "start_time": "2025-07-28T10:51:24.955163",
     "status": "completed"
    },
    "tags": []
   },
   "outputs": [],
   "source": [
    "for subgroup, cov in cond_coverage.items():\n",
    "    cp_metrics_df[f\"cov_{subgroup}\"] = cov"
   ]
  },
  {
   "cell_type": "code",
   "execution_count": 64,
   "id": "6e872e10-dbe5-49e8-b554-5030c98ff75d",
   "metadata": {
    "execution": {
     "iopub.execute_input": "2025-07-28T10:51:25.042037Z",
     "iopub.status.busy": "2025-07-28T10:51:25.041357Z",
     "iopub.status.idle": "2025-07-28T10:51:25.060622Z",
     "shell.execute_reply": "2025-07-28T10:51:25.059480Z"
    },
    "papermill": {
     "duration": 0.051955,
     "end_time": "2025-07-28T10:51:25.066852",
     "exception": false,
     "start_time": "2025-07-28T10:51:25.014897",
     "status": "completed"
    },
    "tags": []
   },
   "outputs": [
    {
     "data": {
      "text/html": [
       "<div>\n",
       "<style scoped>\n",
       "    .dataframe tbody tr th:only-of-type {\n",
       "        vertical-align: middle;\n",
       "    }\n",
       "\n",
       "    .dataframe tbody tr th {\n",
       "        vertical-align: top;\n",
       "    }\n",
       "\n",
       "    .dataframe thead th {\n",
       "        text-align: right;\n",
       "    }\n",
       "</style>\n",
       "<table border=\"1\" class=\"dataframe\">\n",
       "  <thead>\n",
       "    <tr style=\"text-align: right;\">\n",
       "      <th></th>\n",
       "      <th>universe_id</th>\n",
       "      <th>universe_training_size</th>\n",
       "      <th>universe_scale</th>\n",
       "      <th>universe_model</th>\n",
       "      <th>universe_exclude_features</th>\n",
       "      <th>universe_exclude_subgroups</th>\n",
       "      <th>q_hat</th>\n",
       "      <th>coverage</th>\n",
       "      <th>avg_size</th>\n",
       "      <th>cov_frau1</th>\n",
       "      <th>cov_nongerman</th>\n",
       "      <th>cov_nongerman_male</th>\n",
       "      <th>cov_nongerman_female</th>\n",
       "    </tr>\n",
       "  </thead>\n",
       "  <tbody>\n",
       "    <tr>\n",
       "      <th>0</th>\n",
       "      <td>efe51593ebf96295076a3041bb80fdca</td>\n",
       "      <td>1k</td>\n",
       "      <td>do-not-scale</td>\n",
       "      <td>gbm</td>\n",
       "      <td>sex</td>\n",
       "      <td>drop-non-german</td>\n",
       "      <td>0.786214</td>\n",
       "      <td>0.907725</td>\n",
       "      <td>1.202285</td>\n",
       "      <td>0.906349</td>\n",
       "      <td>0.906585</td>\n",
       "      <td>0.923624</td>\n",
       "      <td>0.87839</td>\n",
       "    </tr>\n",
       "  </tbody>\n",
       "</table>\n",
       "</div>"
      ],
      "text/plain": [
       "                        universe_id universe_training_size universe_scale  \\\n",
       "0  efe51593ebf96295076a3041bb80fdca                     1k   do-not-scale   \n",
       "\n",
       "  universe_model universe_exclude_features universe_exclude_subgroups  \\\n",
       "0            gbm                       sex            drop-non-german   \n",
       "\n",
       "      q_hat  coverage  avg_size  cov_frau1  cov_nongerman  cov_nongerman_male  \\\n",
       "0  0.786214  0.907725  1.202285   0.906349       0.906585            0.923624   \n",
       "\n",
       "   cov_nongerman_female  \n",
       "0               0.87839  "
      ]
     },
     "execution_count": 64,
     "metadata": {},
     "output_type": "execute_result"
    }
   ],
   "source": [
    "cp_metrics_df"
   ]
  },
  {
   "cell_type": "markdown",
   "id": "33774451",
   "metadata": {
    "papermill": {
     "duration": 0.028767,
     "end_time": "2025-07-28T10:51:25.124761",
     "exception": false,
     "start_time": "2025-07-28T10:51:25.095994",
     "status": "completed"
    },
    "tags": []
   },
   "source": [
    "# (Fairness) Metrics"
   ]
  },
  {
   "cell_type": "code",
   "execution_count": 65,
   "id": "debc5d62",
   "metadata": {
    "execution": {
     "iopub.execute_input": "2025-07-28T10:51:25.183799Z",
     "iopub.status.busy": "2025-07-28T10:51:25.183323Z",
     "iopub.status.idle": "2025-07-28T10:51:25.205001Z",
     "shell.execute_reply": "2025-07-28T10:51:25.203821Z"
    },
    "papermill": {
     "duration": 0.053826,
     "end_time": "2025-07-28T10:51:25.207107",
     "exception": false,
     "start_time": "2025-07-28T10:51:25.153281",
     "status": "completed"
    },
    "tags": []
   },
   "outputs": [],
   "source": [
    "# do I need to include maxdeutsch1.missing?\n",
    "\n",
    "import numpy as np\n",
    "\n",
    "colname_to_bin = \"maxdeutsch1\"\n",
    "majority_value = org_train[colname_to_bin].mode()[0]\n",
    "\n",
    "org_test[\"majmin\"] = np.where(org_test[colname_to_bin] == majority_value, \"majority\", \"minority\")"
   ]
  },
  {
   "cell_type": "code",
   "execution_count": 66,
   "id": "06a50de5",
   "metadata": {
    "execution": {
     "iopub.execute_input": "2025-07-28T10:51:25.266130Z",
     "iopub.status.busy": "2025-07-28T10:51:25.265457Z",
     "iopub.status.idle": "2025-07-28T10:51:28.269645Z",
     "shell.execute_reply": "2025-07-28T10:51:28.268688Z"
    },
    "papermill": {
     "duration": 3.035697,
     "end_time": "2025-07-28T10:51:28.271482",
     "exception": false,
     "start_time": "2025-07-28T10:51:25.235785",
     "status": "completed"
    },
    "tags": []
   },
   "outputs": [],
   "source": [
    "example_universe = universe.copy()\n",
    "example_universe[\"cutoff\"] = example_universe[\"cutoff\"][0]\n",
    "example_universe[\"eval_fairness_grouping\"] = example_universe[\"eval_fairness_grouping\"][0]\n",
    "fairness_dict, metric_frame = universe_analysis.compute_metrics(\n",
    "    example_universe,\n",
    "    y_pred_prob=probs_test,\n",
    "    y_test=y_true,\n",
    "    org_test=org_test,\n",
    ")"
   ]
  },
  {
   "cell_type": "markdown",
   "id": "f95d4e02",
   "metadata": {
    "papermill": {
     "duration": 0.025786,
     "end_time": "2025-07-28T10:51:28.326311",
     "exception": false,
     "start_time": "2025-07-28T10:51:28.300525",
     "status": "completed"
    },
    "tags": []
   },
   "source": [
    "# Overall"
   ]
  },
  {
   "cell_type": "markdown",
   "id": "bdee4871",
   "metadata": {
    "papermill": {
     "duration": 0.02513,
     "end_time": "2025-07-28T10:51:28.376850",
     "exception": false,
     "start_time": "2025-07-28T10:51:28.351720",
     "status": "completed"
    },
    "tags": []
   },
   "source": [
    "Fairness\n",
    "Main fairness target: Equalized Odds. Seems to be a better fit than equal opportunity, since we're not only interested in Y = 1. Seems to be a better fit than demographic parity, since we also care about accuracy, not just equal distribution of preds.\n",
    "\n",
    "Pick column for computation of fairness metrics\n",
    "\n",
    "Performance\n",
    "Overall performance measures, most interesting in relation to the measures split by group below"
   ]
  },
  {
   "cell_type": "code",
   "execution_count": 67,
   "id": "c4e067c6",
   "metadata": {
    "execution": {
     "iopub.execute_input": "2025-07-28T10:51:28.429776Z",
     "iopub.status.busy": "2025-07-28T10:51:28.429158Z",
     "iopub.status.idle": "2025-07-28T10:51:28.438164Z",
     "shell.execute_reply": "2025-07-28T10:51:28.437202Z"
    },
    "papermill": {
     "duration": 0.037195,
     "end_time": "2025-07-28T10:51:28.439786",
     "exception": false,
     "start_time": "2025-07-28T10:51:28.402591",
     "status": "completed"
    },
    "tags": []
   },
   "outputs": [
    {
     "data": {
      "text/plain": [
       "accuracy                   0.222684\n",
       "balanced accuracy          0.544848\n",
       "f1                         0.244062\n",
       "precision                  0.139425\n",
       "false positive rate        0.888494\n",
       "false negative rate        0.021811\n",
       "selection rate             0.900000\n",
       "count                  89710.000000\n",
       "dtype: float64"
      ]
     },
     "execution_count": 67,
     "metadata": {},
     "output_type": "execute_result"
    }
   ],
   "source": [
    "metric_frame.overall"
   ]
  },
  {
   "cell_type": "markdown",
   "id": "e968fe9d",
   "metadata": {
    "papermill": {
     "duration": 0.025788,
     "end_time": "2025-07-28T10:51:28.492601",
     "exception": false,
     "start_time": "2025-07-28T10:51:28.466813",
     "status": "completed"
    },
    "tags": []
   },
   "source": [
    "By Group"
   ]
  },
  {
   "cell_type": "code",
   "execution_count": 68,
   "id": "ec325bce",
   "metadata": {
    "execution": {
     "iopub.execute_input": "2025-07-28T10:51:28.545465Z",
     "iopub.status.busy": "2025-07-28T10:51:28.544994Z",
     "iopub.status.idle": "2025-07-28T10:51:28.564172Z",
     "shell.execute_reply": "2025-07-28T10:51:28.562964Z"
    },
    "papermill": {
     "duration": 0.047459,
     "end_time": "2025-07-28T10:51:28.565821",
     "exception": false,
     "start_time": "2025-07-28T10:51:28.518362",
     "status": "completed"
    },
    "tags": []
   },
   "outputs": [
    {
     "data": {
      "text/html": [
       "<div>\n",
       "<style scoped>\n",
       "    .dataframe tbody tr th:only-of-type {\n",
       "        vertical-align: middle;\n",
       "    }\n",
       "\n",
       "    .dataframe tbody tr th {\n",
       "        vertical-align: top;\n",
       "    }\n",
       "\n",
       "    .dataframe thead th {\n",
       "        text-align: right;\n",
       "    }\n",
       "</style>\n",
       "<table border=\"1\" class=\"dataframe\">\n",
       "  <thead>\n",
       "    <tr style=\"text-align: right;\">\n",
       "      <th></th>\n",
       "      <th>accuracy</th>\n",
       "      <th>balanced accuracy</th>\n",
       "      <th>f1</th>\n",
       "      <th>precision</th>\n",
       "      <th>false positive rate</th>\n",
       "      <th>false negative rate</th>\n",
       "      <th>selection rate</th>\n",
       "      <th>count</th>\n",
       "    </tr>\n",
       "    <tr>\n",
       "      <th>majmin</th>\n",
       "      <th></th>\n",
       "      <th></th>\n",
       "      <th></th>\n",
       "      <th></th>\n",
       "      <th></th>\n",
       "      <th></th>\n",
       "      <th></th>\n",
       "      <th></th>\n",
       "    </tr>\n",
       "  </thead>\n",
       "  <tbody>\n",
       "    <tr>\n",
       "      <th>majority</th>\n",
       "      <td>0.239670</td>\n",
       "      <td>0.551657</td>\n",
       "      <td>0.253252</td>\n",
       "      <td>0.145510</td>\n",
       "      <td>0.872397</td>\n",
       "      <td>0.024289</td>\n",
       "      <td>0.886049</td>\n",
       "      <td>69170.0</td>\n",
       "    </tr>\n",
       "    <tr>\n",
       "      <th>minority</th>\n",
       "      <td>0.165482</td>\n",
       "      <td>0.523042</td>\n",
       "      <td>0.214400</td>\n",
       "      <td>0.120251</td>\n",
       "      <td>0.941669</td>\n",
       "      <td>0.012247</td>\n",
       "      <td>0.946981</td>\n",
       "      <td>20540.0</td>\n",
       "    </tr>\n",
       "  </tbody>\n",
       "</table>\n",
       "</div>"
      ],
      "text/plain": [
       "          accuracy  balanced accuracy        f1  precision  \\\n",
       "majmin                                                       \n",
       "majority  0.239670           0.551657  0.253252   0.145510   \n",
       "minority  0.165482           0.523042  0.214400   0.120251   \n",
       "\n",
       "          false positive rate  false negative rate  selection rate    count  \n",
       "majmin                                                                       \n",
       "majority             0.872397             0.024289        0.886049  69170.0  \n",
       "minority             0.941669             0.012247        0.946981  20540.0  "
      ]
     },
     "execution_count": 68,
     "metadata": {},
     "output_type": "execute_result"
    }
   ],
   "source": [
    "metric_frame.by_group"
   ]
  },
  {
   "cell_type": "code",
   "execution_count": 69,
   "id": "a9ddbe63",
   "metadata": {
    "execution": {
     "iopub.execute_input": "2025-07-28T10:51:28.621692Z",
     "iopub.status.busy": "2025-07-28T10:51:28.620776Z",
     "iopub.status.idle": "2025-07-28T10:51:31.219011Z",
     "shell.execute_reply": "2025-07-28T10:51:31.217977Z"
    },
    "papermill": {
     "duration": 2.627431,
     "end_time": "2025-07-28T10:51:31.220833",
     "exception": false,
     "start_time": "2025-07-28T10:51:28.593402",
     "status": "completed"
    },
    "tags": []
   },
   "outputs": [
    {
     "data": {
      "text/plain": [
       "array([[<Axes: title={'center': 'accuracy'}, xlabel='majmin'>,\n",
       "        <Axes: title={'center': 'balanced accuracy'}, xlabel='majmin'>,\n",
       "        <Axes: title={'center': 'f1'}, xlabel='majmin'>],\n",
       "       [<Axes: title={'center': 'precision'}, xlabel='majmin'>,\n",
       "        <Axes: title={'center': 'false positive rate'}, xlabel='majmin'>,\n",
       "        <Axes: title={'center': 'false negative rate'}, xlabel='majmin'>],\n",
       "       [<Axes: title={'center': 'selection rate'}, xlabel='majmin'>,\n",
       "        <Axes: title={'center': 'count'}, xlabel='majmin'>,\n",
       "        <Axes: xlabel='majmin'>]], dtype=object)"
      ]
     },
     "execution_count": 69,
     "metadata": {},
     "output_type": "execute_result"
    },
    {
     "data": {
      "image/png": "[encoded data removed]",
      "text/plain": [
       "<Figure size 1200x800 with 9 Axes>"
      ]
     },
     "metadata": {},
     "output_type": "display_data"
    }
   ],
   "source": [
    "# In a graphic\n",
    "metric_frame.by_group.plot.bar(\n",
    "    subplots=True,\n",
    "    layout=[3, 3],\n",
    "    legend=False,\n",
    "    figsize=[12, 8],\n",
    "    title=\"Show all metrics\",\n",
    ")"
   ]
  },
  {
   "cell_type": "markdown",
   "id": "f57a0bac",
   "metadata": {
    "papermill": {
     "duration": 0.031338,
     "end_time": "2025-07-28T10:51:31.288069",
     "exception": false,
     "start_time": "2025-07-28T10:51:31.256731",
     "status": "completed"
    },
    "tags": []
   },
   "source": [
    "# Final Output"
   ]
  },
  {
   "cell_type": "code",
   "execution_count": 70,
   "id": "96d280a3",
   "metadata": {
    "execution": {
     "iopub.execute_input": "2025-07-28T10:51:31.352989Z",
     "iopub.status.busy": "2025-07-28T10:51:31.352375Z",
     "iopub.status.idle": "2025-07-28T10:51:31.361530Z",
     "shell.execute_reply": "2025-07-28T10:51:31.360630Z"
    },
    "papermill": {
     "duration": 0.044878,
     "end_time": "2025-07-28T10:51:31.363143",
     "exception": false,
     "start_time": "2025-07-28T10:51:31.318265",
     "status": "completed"
    },
    "tags": []
   },
   "outputs": [
    {
     "data": {
      "text/plain": [
       "4"
      ]
     },
     "execution_count": 70,
     "metadata": {},
     "output_type": "execute_result"
    }
   ],
   "source": [
    "sub_universes = universe_analysis.generate_sub_universes()\n",
    "len(sub_universes)"
   ]
  },
  {
   "cell_type": "code",
   "execution_count": 71,
   "id": "92adf7ba",
   "metadata": {
    "execution": {
     "iopub.execute_input": "2025-07-28T10:51:31.421887Z",
     "iopub.status.busy": "2025-07-28T10:51:31.421433Z",
     "iopub.status.idle": "2025-07-28T10:51:31.427889Z",
     "shell.execute_reply": "2025-07-28T10:51:31.426899Z"
    },
    "papermill": {
     "duration": 0.046333,
     "end_time": "2025-07-28T10:51:31.437342",
     "exception": false,
     "start_time": "2025-07-28T10:51:31.391009",
     "status": "completed"
    },
    "tags": []
   },
   "outputs": [],
   "source": [
    "def filter_sub_universe_data(sub_universe, org_test):\n",
    "    # Keep all rows — no filtering\n",
    "    keep_rows_mask = np.ones(org_test.shape[0], dtype=bool)\n",
    "\n",
    "    print(f\"[INFO] Keeping all rows: {keep_rows_mask.sum()} rows retained.\")\n",
    "    return keep_rows_mask"
   ]
  },
  {
   "cell_type": "code",
   "execution_count": 72,
   "id": "4a759155",
   "metadata": {
    "execution": {
     "iopub.execute_input": "2025-07-28T10:51:31.498944Z",
     "iopub.status.busy": "2025-07-28T10:51:31.498403Z",
     "iopub.status.idle": "2025-07-28T10:51:42.960835Z",
     "shell.execute_reply": "2025-07-28T10:51:42.959620Z"
    },
    "papermill": {
     "duration": 11.495345,
     "end_time": "2025-07-28T10:51:42.963613",
     "exception": false,
     "start_time": "2025-07-28T10:51:31.468268",
     "status": "completed"
    },
    "tags": []
   },
   "outputs": [
    {
     "name": "stdout",
     "output_type": "stream",
     "text": [
      "Stopping execution_time clock.\n",
      "[INFO] Keeping all rows: 89710 rows retained.\n"
     ]
    },
    {
     "name": "stdout",
     "output_type": "stream",
     "text": [
      "[INFO] Keeping all rows: 89710 rows retained.\n"
     ]
    },
    {
     "name": "stdout",
     "output_type": "stream",
     "text": [
      "[INFO] Keeping all rows: 89710 rows retained.\n"
     ]
    },
    {
     "name": "stdout",
     "output_type": "stream",
     "text": [
      "[INFO] Keeping all rows: 89710 rows retained.\n"
     ]
    },
    {
     "data": {
      "text/html": [
       "<div>\n",
       "<style scoped>\n",
       "    .dataframe tbody tr th:only-of-type {\n",
       "        vertical-align: middle;\n",
       "    }\n",
       "\n",
       "    .dataframe tbody tr th {\n",
       "        vertical-align: top;\n",
       "    }\n",
       "\n",
       "    .dataframe thead th {\n",
       "        text-align: right;\n",
       "    }\n",
       "</style>\n",
       "<table border=\"1\" class=\"dataframe\">\n",
       "  <thead>\n",
       "    <tr style=\"text-align: right;\">\n",
       "      <th></th>\n",
       "      <th>run_no</th>\n",
       "      <th>universe_id</th>\n",
       "      <th>universe_settings</th>\n",
       "      <th>execution_time</th>\n",
       "      <th>test_size_n</th>\n",
       "      <th>test_size_frac</th>\n",
       "      <th>fair_main_equalized_odds_difference</th>\n",
       "      <th>fair_main_equalized_odds_ratio</th>\n",
       "      <th>fair_main_demographic_parity_difference</th>\n",
       "      <th>fair_main_demographic_parity_ratio</th>\n",
       "      <th>...</th>\n",
       "      <th>perf_grp_precision_0</th>\n",
       "      <th>perf_grp_precision_1</th>\n",
       "      <th>perf_grp_false positive rate_0</th>\n",
       "      <th>perf_grp_false positive rate_1</th>\n",
       "      <th>perf_grp_false negative rate_0</th>\n",
       "      <th>perf_grp_false negative rate_1</th>\n",
       "      <th>perf_grp_selection rate_0</th>\n",
       "      <th>perf_grp_selection rate_1</th>\n",
       "      <th>perf_grp_count_0</th>\n",
       "      <th>perf_grp_count_1</th>\n",
       "    </tr>\n",
       "  </thead>\n",
       "  <tbody>\n",
       "    <tr>\n",
       "      <th>0</th>\n",
       "      <td>11</td>\n",
       "      <td>efe51593ebf96295076a3041bb80fdca</td>\n",
       "      <td>{\"cutoff\": \"quantile_0.1\", \"eval_fairness_grou...</td>\n",
       "      <td>30.771699</td>\n",
       "      <td>89710</td>\n",
       "      <td>1.0</td>\n",
       "      <td>0.069271</td>\n",
       "      <td>0.926438</td>\n",
       "      <td>0.060933</td>\n",
       "      <td>0.935656</td>\n",
       "      <td>...</td>\n",
       "      <td>NaN</td>\n",
       "      <td>NaN</td>\n",
       "      <td>NaN</td>\n",
       "      <td>NaN</td>\n",
       "      <td>NaN</td>\n",
       "      <td>NaN</td>\n",
       "      <td>NaN</td>\n",
       "      <td>NaN</td>\n",
       "      <td>NaN</td>\n",
       "      <td>NaN</td>\n",
       "    </tr>\n",
       "    <tr>\n",
       "      <th>0</th>\n",
       "      <td>11</td>\n",
       "      <td>efe51593ebf96295076a3041bb80fdca</td>\n",
       "      <td>{\"cutoff\": \"quantile_0.1\", \"eval_fairness_grou...</td>\n",
       "      <td>30.771699</td>\n",
       "      <td>89710</td>\n",
       "      <td>1.0</td>\n",
       "      <td>0.069271</td>\n",
       "      <td>0.926438</td>\n",
       "      <td>0.060933</td>\n",
       "      <td>0.935656</td>\n",
       "      <td>...</td>\n",
       "      <td>0.120251</td>\n",
       "      <td>0.145510</td>\n",
       "      <td>0.941669</td>\n",
       "      <td>0.872397</td>\n",
       "      <td>0.012247</td>\n",
       "      <td>0.024289</td>\n",
       "      <td>0.946981</td>\n",
       "      <td>0.886049</td>\n",
       "      <td>20540.0</td>\n",
       "      <td>69170.0</td>\n",
       "    </tr>\n",
       "    <tr>\n",
       "      <th>0</th>\n",
       "      <td>11</td>\n",
       "      <td>efe51593ebf96295076a3041bb80fdca</td>\n",
       "      <td>{\"cutoff\": \"quantile_0.25\", \"eval_fairness_gro...</td>\n",
       "      <td>30.771699</td>\n",
       "      <td>89710</td>\n",
       "      <td>1.0</td>\n",
       "      <td>0.150093</td>\n",
       "      <td>0.821253</td>\n",
       "      <td>0.133918</td>\n",
       "      <td>0.843051</td>\n",
       "      <td>...</td>\n",
       "      <td>NaN</td>\n",
       "      <td>NaN</td>\n",
       "      <td>NaN</td>\n",
       "      <td>NaN</td>\n",
       "      <td>NaN</td>\n",
       "      <td>NaN</td>\n",
       "      <td>NaN</td>\n",
       "      <td>NaN</td>\n",
       "      <td>NaN</td>\n",
       "      <td>NaN</td>\n",
       "    </tr>\n",
       "    <tr>\n",
       "      <th>0</th>\n",
       "      <td>11</td>\n",
       "      <td>efe51593ebf96295076a3041bb80fdca</td>\n",
       "      <td>{\"cutoff\": \"quantile_0.25\", \"eval_fairness_gro...</td>\n",
       "      <td>30.771699</td>\n",
       "      <td>89710</td>\n",
       "      <td>1.0</td>\n",
       "      <td>0.150093</td>\n",
       "      <td>0.821253</td>\n",
       "      <td>0.133918</td>\n",
       "      <td>0.843051</td>\n",
       "      <td>...</td>\n",
       "      <td>0.129351</td>\n",
       "      <td>0.168017</td>\n",
       "      <td>0.839698</td>\n",
       "      <td>0.689605</td>\n",
       "      <td>0.042652</td>\n",
       "      <td>0.085339</td>\n",
       "      <td>0.853262</td>\n",
       "      <td>0.719344</td>\n",
       "      <td>20540.0</td>\n",
       "      <td>69170.0</td>\n",
       "    </tr>\n",
       "  </tbody>\n",
       "</table>\n",
       "<p>4 rows × 50 columns</p>\n",
       "</div>"
      ],
      "text/plain": [
       "  run_no                       universe_id  \\\n",
       "0     11  efe51593ebf96295076a3041bb80fdca   \n",
       "0     11  efe51593ebf96295076a3041bb80fdca   \n",
       "0     11  efe51593ebf96295076a3041bb80fdca   \n",
       "0     11  efe51593ebf96295076a3041bb80fdca   \n",
       "\n",
       "                                   universe_settings  execution_time  \\\n",
       "0  {\"cutoff\": \"quantile_0.1\", \"eval_fairness_grou...       30.771699   \n",
       "0  {\"cutoff\": \"quantile_0.1\", \"eval_fairness_grou...       30.771699   \n",
       "0  {\"cutoff\": \"quantile_0.25\", \"eval_fairness_gro...       30.771699   \n",
       "0  {\"cutoff\": \"quantile_0.25\", \"eval_fairness_gro...       30.771699   \n",
       "\n",
       "   test_size_n  test_size_frac  fair_main_equalized_odds_difference  \\\n",
       "0        89710             1.0                             0.069271   \n",
       "0        89710             1.0                             0.069271   \n",
       "0        89710             1.0                             0.150093   \n",
       "0        89710             1.0                             0.150093   \n",
       "\n",
       "   fair_main_equalized_odds_ratio  fair_main_demographic_parity_difference  \\\n",
       "0                        0.926438                                 0.060933   \n",
       "0                        0.926438                                 0.060933   \n",
       "0                        0.821253                                 0.133918   \n",
       "0                        0.821253                                 0.133918   \n",
       "\n",
       "   fair_main_demographic_parity_ratio  ...  perf_grp_precision_0  \\\n",
       "0                            0.935656  ...                   NaN   \n",
       "0                            0.935656  ...              0.120251   \n",
       "0                            0.843051  ...                   NaN   \n",
       "0                            0.843051  ...              0.129351   \n",
       "\n",
       "   perf_grp_precision_1  perf_grp_false positive rate_0  \\\n",
       "0                   NaN                             NaN   \n",
       "0              0.145510                        0.941669   \n",
       "0                   NaN                             NaN   \n",
       "0              0.168017                        0.839698   \n",
       "\n",
       "   perf_grp_false positive rate_1  perf_grp_false negative rate_0  \\\n",
       "0                             NaN                             NaN   \n",
       "0                        0.872397                        0.012247   \n",
       "0                             NaN                             NaN   \n",
       "0                        0.689605                        0.042652   \n",
       "\n",
       "   perf_grp_false negative rate_1  perf_grp_selection rate_0  \\\n",
       "0                             NaN                        NaN   \n",
       "0                        0.024289                   0.946981   \n",
       "0                             NaN                        NaN   \n",
       "0                        0.085339                   0.853262   \n",
       "\n",
       "   perf_grp_selection rate_1  perf_grp_count_0  perf_grp_count_1  \n",
       "0                        NaN               NaN               NaN  \n",
       "0                   0.886049           20540.0           69170.0  \n",
       "0                        NaN               NaN               NaN  \n",
       "0                   0.719344           20540.0           69170.0  \n",
       "\n",
       "[4 rows x 50 columns]"
      ]
     },
     "execution_count": 72,
     "metadata": {},
     "output_type": "execute_result"
    }
   ],
   "source": [
    "final_output = universe_analysis.generate_final_output(\n",
    "    y_pred_prob=probs_test,\n",
    "    y_test=y_true,\n",
    "    org_test=org_test,\n",
    "    filter_data=filter_sub_universe_data,\n",
    "    cp_metrics_df=cp_metrics_df,\n",
    "    save=True,\n",
    ")\n",
    "final_output"
   ]
  },
  {
   "cell_type": "code",
   "execution_count": null,
   "id": "721ff514-cb11-46f8-b6fc-50392f74b5cb",
   "metadata": {
    "papermill": {
     "duration": 0.043853,
     "end_time": "2025-07-28T10:51:43.054095",
     "exception": false,
     "start_time": "2025-07-28T10:51:43.010242",
     "status": "completed"
    },
    "tags": []
   },
   "outputs": [],
   "source": []
  }
 ],
 "metadata": {
  "celltoolbar": "Tags",
  "kernelspec": {
   "display_name": "Python (CMA Fairness)",
   "language": "python",
   "name": "cma_fair_env"
  },
  "language_info": {
   "codemirror_mode": {
    "name": "ipython",
    "version": 3
   },
   "file_extension": ".py",
   "mimetype": "text/x-python",
   "name": "python",
   "nbconvert_exporter": "python",
   "pygments_lexer": "ipython3",
   "version": "3.10.12"
  },
  "papermill": {
   "default_parameters": {},
   "duration": 47.335964,
   "end_time": "2025-07-28T10:51:44.324385",
   "environment_variables": {},
   "exception": null,
   "input_path": "universe_analysis.ipynb",
   "output_path": "output/runs/11/notebooks/m_11-efe51593ebf96295076a3041bb80fdca.ipynb",
   "parameters": {
    "output_dir": "output",
    "run_no": "11",
    "seed": "2023",
    "universe": "{\"cutoff\": [\"quantile_0.1\", \"quantile_0.25\"], \"eval_fairness_grouping\": [\"majority-minority\", \"nationality-all\"], \"exclude_features\": \"sex\", \"exclude_subgroups\": \"drop-non-german\", \"model\": \"gbm\", \"scale\": \"do-not-scale\", \"training_size\": \"1k\"}",
    "universe_id": "efe51593ebf96295076a3041bb80fdca"
   },
   "start_time": "2025-07-28T10:50:56.988421",
   "version": "2.6.0"
  }
 },
 "nbformat": 4,
 "nbformat_minor": 5
}