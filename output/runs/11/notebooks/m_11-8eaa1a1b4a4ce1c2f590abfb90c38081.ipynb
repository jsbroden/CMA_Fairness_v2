{
 "cells": [
  {
   "cell_type": "code",
   "execution_count": 1,
   "id": "f159f837-637b-42ba-96b5-ec9a68c44524",
   "metadata": {
    "execution": {
     "iopub.execute_input": "2025-07-28T11:03:47.533082Z",
     "iopub.status.busy": "2025-07-28T11:03:47.532556Z",
     "iopub.status.idle": "2025-07-28T11:03:47.549106Z",
     "shell.execute_reply": "2025-07-28T11:03:47.547828Z"
    },
    "papermill": {
     "duration": 0.040783,
     "end_time": "2025-07-28T11:03:47.551051",
     "exception": false,
     "start_time": "2025-07-28T11:03:47.510268",
     "status": "completed"
    },
    "tags": []
   },
   "outputs": [
    {
     "name": "stdout",
     "output_type": "stream",
     "text": [
      "/dss/dsshome1/0C/ra93lal2/cma/CMA_Fairness_v2\n"
     ]
    },
    {
     "name": "stderr",
     "output_type": "stream",
     "text": [
      "/dss/dsshome1/0C/ra93lal2/.local/share/virtualenvs/CMA_Fairness_v2-3j10GkSs/lib/python3.10/site-packages/IPython/core/magics/osm.py:393: UserWarning: This is now an optional IPython functionality, using bookmarks requires you to install the `pickleshare` library.\n",
      "  bkms = self.shell.db.get('bookmarks', {})\n",
      "/dss/dsshome1/0C/ra93lal2/.local/share/virtualenvs/CMA_Fairness_v2-3j10GkSs/lib/python3.10/site-packages/IPython/core/magics/osm.py:417: UserWarning: This is now an optional IPython functionality, setting dhist requires you to install the `pickleshare` library.\n",
      "  self.shell.db['dhist'] = compress_dhist(dhist)[-100:]\n"
     ]
    }
   ],
   "source": [
    "%cd ~/cma/CMA_Fairness_v2"
   ]
  },
  {
   "cell_type": "markdown",
   "id": "de2603b9",
   "metadata": {
    "papermill": {
     "duration": 0.020807,
     "end_time": "2025-07-28T11:03:47.592500",
     "exception": false,
     "start_time": "2025-07-28T11:03:47.571693",
     "status": "completed"
    },
    "tags": []
   },
   "source": [
    "The following cell holds the definition of our parameters, these values can be overriden by rendering the with e.g. the following command:\n",
    "\n",
    "papermill -p alpha 0.2 -p ratio 0.3 universe_analysis.ipynb output/test_run.ipynb"
   ]
  },
  {
   "cell_type": "code",
   "execution_count": 2,
   "id": "a80968a0-40bb-4fa9-85ef-2d5eefb01975",
   "metadata": {
    "execution": {
     "iopub.execute_input": "2025-07-28T11:03:47.635884Z",
     "iopub.status.busy": "2025-07-28T11:03:47.634996Z",
     "iopub.status.idle": "2025-07-28T11:03:47.641564Z",
     "shell.execute_reply": "2025-07-28T11:03:47.640468Z"
    },
    "papermill": {
     "duration": 0.030355,
     "end_time": "2025-07-28T11:03:47.643448",
     "exception": false,
     "start_time": "2025-07-28T11:03:47.613093",
     "status": "completed"
    },
    "tags": []
   },
   "outputs": [
    {
     "name": "stdout",
     "output_type": "stream",
     "text": [
      "Current working directory: /dss/dsshome1/0C/ra93lal2/cma/CMA_Fairness_v2\n"
     ]
    }
   ],
   "source": [
    "import os\n",
    "print(\"Current working directory:\", os.getcwd())"
   ]
  },
  {
   "cell_type": "code",
   "execution_count": 3,
   "id": "2dce4c03",
   "metadata": {
    "execution": {
     "iopub.execute_input": "2025-07-28T11:03:47.686299Z",
     "iopub.status.busy": "2025-07-28T11:03:47.685672Z",
     "iopub.status.idle": "2025-07-28T11:03:47.693000Z",
     "shell.execute_reply": "2025-07-28T11:03:47.691679Z"
    },
    "papermill": {
     "duration": 0.03087,
     "end_time": "2025-07-28T11:03:47.694781",
     "exception": false,
     "start_time": "2025-07-28T11:03:47.663911",
     "status": "completed"
    },
    "tags": [
     "parameters"
    ]
   },
   "outputs": [],
   "source": [
    "run_no = 0\n",
    "universe_id = \"test\"\n",
    "universe = {\n",
    "    \"training_size\": \"2014\", # \"25k\", \"5k\", \"1k\", \"2014\"\n",
    "    \"scale\": \"scale\", # \"scale\", \"do-not-scale\",\n",
    "    #\"stratify_split\": \"target\", # \"none\", \"target\", \"protected-attribute\", \"both\",\n",
    "    \"model\": \"elasticnet\", # \"logreg\", \"penalized_logreg\", \"rf\", \"gbm\", \"elasticnet\"\n",
    "    \"cutoff\": [\"quantile_0.15\", \"quantile_0.30\"],\n",
    "    \"exclude_features\": \"age\", # \"none\", \"nationality\", \"sex\", \"nationality-sex\", \"age\"\n",
    "    \"exclude_subgroups\": \"keep-all\", # \"keep-all\", \"drop-non-german\"\n",
    "    \"eval_fairness_grouping\": [\"majority-minority\", \"nationality-all\"]\n",
    "}\n",
    "\n",
    "output_dir=\"./output\"\n",
    "seed=0"
   ]
  },
  {
   "cell_type": "code",
   "execution_count": 4,
   "id": "c78ad3ed",
   "metadata": {
    "execution": {
     "iopub.execute_input": "2025-07-28T11:03:47.737626Z",
     "iopub.status.busy": "2025-07-28T11:03:47.736786Z",
     "iopub.status.idle": "2025-07-28T11:03:47.753298Z",
     "shell.execute_reply": "2025-07-28T11:03:47.752125Z"
    },
    "papermill": {
     "duration": 0.04042,
     "end_time": "2025-07-28T11:03:47.755212",
     "exception": false,
     "start_time": "2025-07-28T11:03:47.714792",
     "status": "completed"
    },
    "tags": [
     "injected-parameters"
    ]
   },
   "outputs": [],
   "source": [
    "# Parameters\n",
    "universe_id = \"8eaa1a1b4a4ce1c2f590abfb90c38081\"\n",
    "run_no = \"11\"\n",
    "universe = \"{\\\"cutoff\\\": [\\\"quantile_0.1\\\", \\\"quantile_0.25\\\"], \\\"eval_fairness_grouping\\\": [\\\"majority-minority\\\", \\\"nationality-all\\\"], \\\"exclude_features\\\": \\\"age\\\", \\\"exclude_subgroups\\\": \\\"drop-non-german\\\", \\\"model\\\": \\\"logreg\\\", \\\"scale\\\": \\\"do-not-scale\\\", \\\"training_size\\\": \\\"2014\\\"}\"\n",
    "output_dir = \"output\"\n",
    "seed = \"2023\"\n"
   ]
  },
  {
   "cell_type": "code",
   "execution_count": 5,
   "id": "1650acaf",
   "metadata": {
    "execution": {
     "iopub.execute_input": "2025-07-28T11:03:47.798516Z",
     "iopub.status.busy": "2025-07-28T11:03:47.797485Z",
     "iopub.status.idle": "2025-07-28T11:03:47.804757Z",
     "shell.execute_reply": "2025-07-28T11:03:47.803409Z"
    },
    "papermill": {
     "duration": 0.030247,
     "end_time": "2025-07-28T11:03:47.806803",
     "exception": false,
     "start_time": "2025-07-28T11:03:47.776556",
     "status": "completed"
    },
    "tags": []
   },
   "outputs": [],
   "source": [
    "import json\n",
    "# Parse universe into dict if it is passed as a string\n",
    "if isinstance(universe, str):\n",
    "    universe = json.loads(universe)"
   ]
  },
  {
   "cell_type": "code",
   "execution_count": 6,
   "id": "16620c48",
   "metadata": {
    "execution": {
     "iopub.execute_input": "2025-07-28T11:03:47.852134Z",
     "iopub.status.busy": "2025-07-28T11:03:47.851493Z",
     "iopub.status.idle": "2025-07-28T11:03:47.906496Z",
     "shell.execute_reply": "2025-07-28T11:03:47.905748Z"
    },
    "papermill": {
     "duration": 0.078982,
     "end_time": "2025-07-28T11:03:47.908472",
     "exception": false,
     "start_time": "2025-07-28T11:03:47.829490",
     "status": "completed"
    },
    "tags": []
   },
   "outputs": [],
   "source": [
    "# Auto-reload the custom package\n",
    "%load_ext autoreload\n",
    "%autoreload 1\n",
    "%aimport fairness_multiverse"
   ]
  },
  {
   "cell_type": "code",
   "execution_count": 7,
   "id": "01c5c9f3",
   "metadata": {
    "execution": {
     "iopub.execute_input": "2025-07-28T11:03:47.942588Z",
     "iopub.status.busy": "2025-07-28T11:03:47.942043Z",
     "iopub.status.idle": "2025-07-28T11:03:49.960613Z",
     "shell.execute_reply": "2025-07-28T11:03:49.959487Z"
    },
    "papermill": {
     "duration": 2.034349,
     "end_time": "2025-07-28T11:03:49.962828",
     "exception": false,
     "start_time": "2025-07-28T11:03:47.928479",
     "status": "completed"
    },
    "tags": []
   },
   "outputs": [],
   "source": [
    "from fairness_multiverse.universe import UniverseAnalysis\n",
    "\n",
    "universe_analysis = UniverseAnalysis(\n",
    "    run_no = run_no,\n",
    "    universe_id = universe_id,\n",
    "    universe = universe,\n",
    "    output_dir=output_dir,\n",
    ")"
   ]
  },
  {
   "cell_type": "code",
   "execution_count": 8,
   "id": "106241f5",
   "metadata": {
    "execution": {
     "iopub.execute_input": "2025-07-28T11:03:50.009890Z",
     "iopub.status.busy": "2025-07-28T11:03:50.009373Z",
     "iopub.status.idle": "2025-07-28T11:03:50.016236Z",
     "shell.execute_reply": "2025-07-28T11:03:50.015248Z"
    },
    "papermill": {
     "duration": 0.029136,
     "end_time": "2025-07-28T11:03:50.018031",
     "exception": false,
     "start_time": "2025-07-28T11:03:49.988895",
     "status": "completed"
    },
    "tags": []
   },
   "outputs": [
    {
     "name": "stdout",
     "output_type": "stream",
     "text": [
      "Using Seed: 2023\n"
     ]
    }
   ],
   "source": [
    "import numpy as np\n",
    "parsed_seed = int(seed)\n",
    "np.random.seed(parsed_seed)\n",
    "print(f\"Using Seed: {parsed_seed}\")"
   ]
  },
  {
   "cell_type": "markdown",
   "id": "e0ebdc57",
   "metadata": {
    "papermill": {
     "duration": 0.020901,
     "end_time": "2025-07-28T11:03:50.059053",
     "exception": false,
     "start_time": "2025-07-28T11:03:50.038152",
     "status": "completed"
    },
    "tags": []
   },
   "source": [
    "# Loading Data"
   ]
  },
  {
   "cell_type": "markdown",
   "id": "681925a3",
   "metadata": {
    "papermill": {
     "duration": 0.020259,
     "end_time": "2025-07-28T11:03:50.099715",
     "exception": false,
     "start_time": "2025-07-28T11:03:50.079456",
     "status": "completed"
    },
    "tags": []
   },
   "source": [
    "Load siab_train, siab_test, siab_calib and/or \n",
    "load siab_train_features, siab_train_labels"
   ]
  },
  {
   "cell_type": "code",
   "execution_count": 9,
   "id": "f0496b8a",
   "metadata": {
    "execution": {
     "iopub.execute_input": "2025-07-28T11:03:50.142323Z",
     "iopub.status.busy": "2025-07-28T11:03:50.141398Z",
     "iopub.status.idle": "2025-07-28T11:04:03.122688Z",
     "shell.execute_reply": "2025-07-28T11:04:03.121515Z"
    },
    "papermill": {
     "duration": 13.004155,
     "end_time": "2025-07-28T11:04:03.124505",
     "exception": false,
     "start_time": "2025-07-28T11:03:50.120350",
     "status": "completed"
    },
    "tags": []
   },
   "outputs": [
    {
     "name": "stdout",
     "output_type": "stream",
     "text": [
      "Loading SIAB data from cache: data/siab_cached.csv.gz\n"
     ]
    },
    {
     "name": "stdout",
     "output_type": "stream",
     "text": [
      "(643690, 164)\n"
     ]
    }
   ],
   "source": [
    "from pathlib import Path\n",
    "import pandas as pd\n",
    "\n",
    "# File paths\n",
    "raw_file = Path(\"data/raw/siab.csv\")\n",
    "cache_file = Path(\"data/siab_cached.csv.gz\")\n",
    "\n",
    "# Ensure cache directory exists\n",
    "cache_file.parent.mkdir(parents=True, exist_ok=True)\n",
    "\n",
    "# Load with simple caching\n",
    "if cache_file.exists():\n",
    "    print(f\"Loading SIAB data from cache: {cache_file}\")\n",
    "    siab = pd.read_csv(cache_file, compression='gzip')\n",
    "else:\n",
    "    print(f\"Cache not found. Reading raw SIAB data: {raw_file}\")\n",
    "    siab = pd.read_csv(raw_file)\n",
    "    siab.to_csv(cache_file, index=False, compression='gzip')\n",
    "    print(f\"Cached SIAB data to: {cache_file}\")\n",
    "\n",
    "# Now use `siab` DataFrame as needed\n",
    "print(siab.shape)"
   ]
  },
  {
   "cell_type": "code",
   "execution_count": 10,
   "id": "db0ca512-5f53-4dba-abdb-a2888bca41ba",
   "metadata": {
    "execution": {
     "iopub.execute_input": "2025-07-28T11:04:03.170706Z",
     "iopub.status.busy": "2025-07-28T11:04:03.170300Z",
     "iopub.status.idle": "2025-07-28T11:04:03.175668Z",
     "shell.execute_reply": "2025-07-28T11:04:03.174940Z"
    },
    "papermill": {
     "duration": 0.029502,
     "end_time": "2025-07-28T11:04:03.177093",
     "exception": false,
     "start_time": "2025-07-28T11:04:03.147591",
     "status": "completed"
    },
    "tags": []
   },
   "outputs": [],
   "source": [
    "#siab"
   ]
  },
  {
   "cell_type": "code",
   "execution_count": 11,
   "id": "a0edb063",
   "metadata": {
    "execution": {
     "iopub.execute_input": "2025-07-28T11:04:03.215610Z",
     "iopub.status.busy": "2025-07-28T11:04:03.214727Z",
     "iopub.status.idle": "2025-07-28T11:04:03.219913Z",
     "shell.execute_reply": "2025-07-28T11:04:03.218945Z"
    },
    "papermill": {
     "duration": 0.026702,
     "end_time": "2025-07-28T11:04:03.221601",
     "exception": false,
     "start_time": "2025-07-28T11:04:03.194899",
     "status": "completed"
    },
    "tags": []
   },
   "outputs": [],
   "source": [
    "#import pandas as pd\n",
    "#\n",
    "#X_train = pd.read_csv(\"./data/X_train.csv\")\n",
    "#y_train = pd.read_csv(\"./data/y_train.csv\")"
   ]
  },
  {
   "cell_type": "code",
   "execution_count": 12,
   "id": "63d08085",
   "metadata": {
    "execution": {
     "iopub.execute_input": "2025-07-28T11:04:03.267504Z",
     "iopub.status.busy": "2025-07-28T11:04:03.267019Z",
     "iopub.status.idle": "2025-07-28T11:04:03.273033Z",
     "shell.execute_reply": "2025-07-28T11:04:03.271881Z"
    },
    "papermill": {
     "duration": 0.030926,
     "end_time": "2025-07-28T11:04:03.274729",
     "exception": false,
     "start_time": "2025-07-28T11:04:03.243803",
     "status": "completed"
    },
    "tags": []
   },
   "outputs": [],
   "source": [
    "#X_test = pd.read_csv(\"./data/X_test.csv\")\n",
    "#y_true = pd.read_csv(\"./data/y_test.csv\")"
   ]
  },
  {
   "cell_type": "code",
   "execution_count": 13,
   "id": "98a8d0fa-1d3d-4ed8-bb2c-281470e24add",
   "metadata": {
    "execution": {
     "iopub.execute_input": "2025-07-28T11:04:03.318554Z",
     "iopub.status.busy": "2025-07-28T11:04:03.317824Z",
     "iopub.status.idle": "2025-07-28T11:04:03.324460Z",
     "shell.execute_reply": "2025-07-28T11:04:03.323269Z"
    },
    "papermill": {
     "duration": 0.030302,
     "end_time": "2025-07-28T11:04:03.326717",
     "exception": false,
     "start_time": "2025-07-28T11:04:03.296415",
     "status": "completed"
    },
    "tags": []
   },
   "outputs": [],
   "source": [
    "# Calibration data for conformal\n",
    "#X_calib = pd.read_csv(\"./data/X_calib.csv\")\n",
    "#y_calib = pd.read_csv(\"./data/y_calib.csv\")"
   ]
  },
  {
   "cell_type": "markdown",
   "id": "9901737e-04df-44f0-9100-f5ad144ed040",
   "metadata": {
    "papermill": {
     "duration": 0.025538,
     "end_time": "2025-07-28T11:04:03.376462",
     "exception": false,
     "start_time": "2025-07-28T11:04:03.350924",
     "status": "completed"
    },
    "tags": []
   },
   "source": [
    "# Splitting Data and Setting Training Data Size"
   ]
  },
  {
   "cell_type": "code",
   "execution_count": 14,
   "id": "acbc8f7d-8fc8-4e86-8c59-5dcb0f58384b",
   "metadata": {
    "execution": {
     "iopub.execute_input": "2025-07-28T11:04:03.430935Z",
     "iopub.status.busy": "2025-07-28T11:04:03.430520Z",
     "iopub.status.idle": "2025-07-28T11:04:03.439257Z",
     "shell.execute_reply": "2025-07-28T11:04:03.438094Z"
    },
    "papermill": {
     "duration": 0.038299,
     "end_time": "2025-07-28T11:04:03.441469",
     "exception": false,
     "start_time": "2025-07-28T11:04:03.403170",
     "status": "completed"
    },
    "tags": []
   },
   "outputs": [],
   "source": [
    "def sample_by_year(df, training_size, random_state=42):\n",
    "    if training_size == \"2014\":\n",
    "        return df[df[\"year\"] == 2014].reset_index(drop=True)\n",
    "    \n",
    "    size_map = {\n",
    "        \"25k\": 5000,\n",
    "        \"5k\": 1000,\n",
    "        \"1k\": 200\n",
    "    }\n",
    "\n",
    "    if training_size not in size_map:\n",
    "        return df.reset_index(drop=True)  # use all data\n",
    "\n",
    "    n_per_year = size_map[training_size]\n",
    "    grouped = df.groupby(\"year\")\n",
    "    sampled = grouped.apply(lambda x: x.sample(n=min(n_per_year, len(x)), random_state=random_state))\n",
    "    return sampled.reset_index(drop=True)"
   ]
  },
  {
   "cell_type": "code",
   "execution_count": 15,
   "id": "6d931f52-beaf-43ff-9e78-9d44a448d54e",
   "metadata": {
    "execution": {
     "iopub.execute_input": "2025-07-28T11:04:03.494691Z",
     "iopub.status.busy": "2025-07-28T11:04:03.494233Z",
     "iopub.status.idle": "2025-07-28T11:04:03.689453Z",
     "shell.execute_reply": "2025-07-28T11:04:03.688643Z"
    },
    "papermill": {
     "duration": 0.223233,
     "end_time": "2025-07-28T11:04:03.691193",
     "exception": false,
     "start_time": "2025-07-28T11:04:03.467960",
     "status": "completed"
    },
    "tags": []
   },
   "outputs": [],
   "source": [
    "siab_s = sample_by_year(siab, universe[\"training_size\"])"
   ]
  },
  {
   "cell_type": "code",
   "execution_count": 16,
   "id": "5db0a40e-a4e2-4920-be85-b12ae061d70d",
   "metadata": {
    "execution": {
     "iopub.execute_input": "2025-07-28T11:04:03.740016Z",
     "iopub.status.busy": "2025-07-28T11:04:03.739478Z",
     "iopub.status.idle": "2025-07-28T11:04:03.752632Z",
     "shell.execute_reply": "2025-07-28T11:04:03.751639Z"
    },
    "papermill": {
     "duration": 0.027487,
     "end_time": "2025-07-28T11:04:03.754320",
     "exception": false,
     "start_time": "2025-07-28T11:04:03.726833",
     "status": "completed"
    },
    "tags": []
   },
   "outputs": [
    {
     "data": {
      "text/plain": [
       "year\n",
       "2014    87158\n",
       "dtype: int64"
      ]
     },
     "metadata": {},
     "output_type": "display_data"
    }
   ],
   "source": [
    "display(siab_s.groupby(\"year\").size())"
   ]
  },
  {
   "cell_type": "code",
   "execution_count": 17,
   "id": "a561edb4-d032-42cb-8256-22eac1111c64",
   "metadata": {
    "execution": {
     "iopub.execute_input": "2025-07-28T11:04:03.778915Z",
     "iopub.status.busy": "2025-07-28T11:04:03.778376Z",
     "iopub.status.idle": "2025-07-28T11:04:04.069387Z",
     "shell.execute_reply": "2025-07-28T11:04:04.068231Z"
    },
    "papermill": {
     "duration": 0.305369,
     "end_time": "2025-07-28T11:04:04.071072",
     "exception": false,
     "start_time": "2025-07-28T11:04:03.765703",
     "status": "completed"
    },
    "tags": []
   },
   "outputs": [],
   "source": [
    "siab_train = siab_s[siab_s.year < 2015]\n",
    "siab_calib = siab[siab.year == 2015]\n",
    "siab_test = siab[siab.year == 2016]"
   ]
  },
  {
   "cell_type": "code",
   "execution_count": 18,
   "id": "472de16f-c3db-4916-846b-1f0de9cf1746",
   "metadata": {
    "execution": {
     "iopub.execute_input": "2025-07-28T11:04:04.096107Z",
     "iopub.status.busy": "2025-07-28T11:04:04.095212Z",
     "iopub.status.idle": "2025-07-28T11:04:04.156739Z",
     "shell.execute_reply": "2025-07-28T11:04:04.155397Z"
    },
    "papermill": {
     "duration": 0.076129,
     "end_time": "2025-07-28T11:04:04.158827",
     "exception": false,
     "start_time": "2025-07-28T11:04:04.082698",
     "status": "completed"
    },
    "tags": []
   },
   "outputs": [],
   "source": [
    "X_train = siab_train.iloc[:,4:164]\n",
    "y_train = siab_train.iloc[:, [3]]"
   ]
  },
  {
   "cell_type": "code",
   "execution_count": 19,
   "id": "828c96af-f43a-4ed6-ba47-8ac73a47d56c",
   "metadata": {
    "execution": {
     "iopub.execute_input": "2025-07-28T11:04:04.207822Z",
     "iopub.status.busy": "2025-07-28T11:04:04.206808Z",
     "iopub.status.idle": "2025-07-28T11:04:04.264430Z",
     "shell.execute_reply": "2025-07-28T11:04:04.263087Z"
    },
    "papermill": {
     "duration": 0.084676,
     "end_time": "2025-07-28T11:04:04.266779",
     "exception": false,
     "start_time": "2025-07-28T11:04:04.182103",
     "status": "completed"
    },
    "tags": []
   },
   "outputs": [],
   "source": [
    "X_calib = siab_calib.iloc[:,4:164]\n",
    "y_calib = siab_calib.iloc[:, [3]]"
   ]
  },
  {
   "cell_type": "code",
   "execution_count": 20,
   "id": "c34be9c3-6bd6-476e-acd3-845840e303be",
   "metadata": {
    "execution": {
     "iopub.execute_input": "2025-07-28T11:04:04.320895Z",
     "iopub.status.busy": "2025-07-28T11:04:04.320320Z",
     "iopub.status.idle": "2025-07-28T11:04:04.377732Z",
     "shell.execute_reply": "2025-07-28T11:04:04.376350Z"
    },
    "papermill": {
     "duration": 0.087813,
     "end_time": "2025-07-28T11:04:04.380006",
     "exception": false,
     "start_time": "2025-07-28T11:04:04.292193",
     "status": "completed"
    },
    "tags": []
   },
   "outputs": [],
   "source": [
    "X_test = siab_test.iloc[:,4:164]\n",
    "y_true = siab_test.iloc[:, [3]]"
   ]
  },
  {
   "cell_type": "code",
   "execution_count": 21,
   "id": "e6c733c5",
   "metadata": {
    "execution": {
     "iopub.execute_input": "2025-07-28T11:04:04.436282Z",
     "iopub.status.busy": "2025-07-28T11:04:04.435444Z",
     "iopub.status.idle": "2025-07-28T11:04:04.582520Z",
     "shell.execute_reply": "2025-07-28T11:04:04.581334Z"
    },
    "papermill": {
     "duration": 0.177801,
     "end_time": "2025-07-28T11:04:04.585025",
     "exception": false,
     "start_time": "2025-07-28T11:04:04.407224",
     "status": "completed"
    },
    "tags": []
   },
   "outputs": [],
   "source": [
    "# Auxiliary data needed downstream in the pipeline\n",
    "\n",
    "org_train = X_train.copy()\n",
    "org_test = X_test.copy()\n",
    "org_calib = X_calib.copy()"
   ]
  },
  {
   "cell_type": "markdown",
   "id": "0a4a1b33",
   "metadata": {
    "papermill": {
     "duration": 0.026084,
     "end_time": "2025-07-28T11:04:04.636712",
     "exception": false,
     "start_time": "2025-07-28T11:04:04.610628",
     "status": "completed"
    },
    "tags": []
   },
   "source": [
    "# Preprocessing Data"
   ]
  },
  {
   "cell_type": "code",
   "execution_count": 22,
   "id": "ca879031",
   "metadata": {
    "execution": {
     "iopub.execute_input": "2025-07-28T11:04:04.690042Z",
     "iopub.status.busy": "2025-07-28T11:04:04.689479Z",
     "iopub.status.idle": "2025-07-28T11:04:04.697434Z",
     "shell.execute_reply": "2025-07-28T11:04:04.696323Z"
    },
    "papermill": {
     "duration": 0.036002,
     "end_time": "2025-07-28T11:04:04.699227",
     "exception": false,
     "start_time": "2025-07-28T11:04:04.663225",
     "status": "completed"
    },
    "tags": []
   },
   "outputs": [],
   "source": [
    "# EXCLUDE PROTECTED FEATURES\n",
    "# ----------------------\n",
    "# \"exclude_features\": \"none\", # \"nationality\", \"sex\", \"nationality-sex\"\n",
    "\n",
    "excluded_features = universe[\"exclude_features\"].split(\"-\") # split, e.g.: \"nationality-sex\" -> [\"nationality\", \"sex\"]\n",
    "excluded_features_dictionary = {\n",
    "    \"nationality\": [\"maxdeutsch1\", \"maxdeutsch.Missing.\"],\n",
    "    \"sex\": [\"frau1\"],\n",
    "    \"age\": [\"age\"],\n",
    "}\n"
   ]
  },
  {
   "cell_type": "code",
   "execution_count": 23,
   "id": "b745ac60",
   "metadata": {
    "execution": {
     "iopub.execute_input": "2025-07-28T11:04:04.747543Z",
     "iopub.status.busy": "2025-07-28T11:04:04.746549Z",
     "iopub.status.idle": "2025-07-28T11:04:04.752893Z",
     "shell.execute_reply": "2025-07-28T11:04:04.751892Z"
    },
    "papermill": {
     "duration": 0.032543,
     "end_time": "2025-07-28T11:04:04.754957",
     "exception": false,
     "start_time": "2025-07-28T11:04:04.722414",
     "status": "completed"
    },
    "tags": []
   },
   "outputs": [],
   "source": [
    "# Code nice names to column names\n",
    "\n",
    "excluded_features_columns = [\n",
    "    excluded_features_dictionary[f] for f in excluded_features if len(f) > 0 and f != \"none\"\n",
    "]"
   ]
  },
  {
   "cell_type": "code",
   "execution_count": 24,
   "id": "f84f73a2",
   "metadata": {
    "execution": {
     "iopub.execute_input": "2025-07-28T11:04:04.810005Z",
     "iopub.status.busy": "2025-07-28T11:04:04.809184Z",
     "iopub.status.idle": "2025-07-28T11:04:04.817475Z",
     "shell.execute_reply": "2025-07-28T11:04:04.816387Z"
    },
    "papermill": {
     "duration": 0.036803,
     "end_time": "2025-07-28T11:04:04.819300",
     "exception": false,
     "start_time": "2025-07-28T11:04:04.782497",
     "status": "completed"
    },
    "tags": []
   },
   "outputs": [],
   "source": [
    "from utils import flatten_once\n",
    "\n",
    "excluded_features_columns = flatten_once(excluded_features_columns)"
   ]
  },
  {
   "cell_type": "code",
   "execution_count": 25,
   "id": "884dea22",
   "metadata": {
    "execution": {
     "iopub.execute_input": "2025-07-28T11:04:04.865553Z",
     "iopub.status.busy": "2025-07-28T11:04:04.864833Z",
     "iopub.status.idle": "2025-07-28T11:04:04.930055Z",
     "shell.execute_reply": "2025-07-28T11:04:04.929088Z"
    },
    "papermill": {
     "duration": 0.090446,
     "end_time": "2025-07-28T11:04:04.932075",
     "exception": false,
     "start_time": "2025-07-28T11:04:04.841629",
     "status": "completed"
    },
    "tags": []
   },
   "outputs": [
    {
     "name": "stdout",
     "output_type": "stream",
     "text": [
      "Dropping features: ['age']\n"
     ]
    }
   ],
   "source": [
    "if len(excluded_features_columns) > 0:\n",
    "    print(f\"Dropping features: {excluded_features_columns}\")\n",
    "    X_train.drop(excluded_features_columns, axis=1, inplace=True)"
   ]
  },
  {
   "cell_type": "code",
   "execution_count": 26,
   "id": "95ab8b16",
   "metadata": {
    "execution": {
     "iopub.execute_input": "2025-07-28T11:04:04.979472Z",
     "iopub.status.busy": "2025-07-28T11:04:04.978793Z",
     "iopub.status.idle": "2025-07-28T11:04:05.047014Z",
     "shell.execute_reply": "2025-07-28T11:04:05.045926Z"
    },
    "papermill": {
     "duration": 0.0951,
     "end_time": "2025-07-28T11:04:05.050232",
     "exception": false,
     "start_time": "2025-07-28T11:04:04.955132",
     "status": "completed"
    },
    "tags": []
   },
   "outputs": [
    {
     "name": "stdout",
     "output_type": "stream",
     "text": [
      "Dropping features: ['age']\n"
     ]
    }
   ],
   "source": [
    "if len(excluded_features_columns) > 0:\n",
    "    print(f\"Dropping features: {excluded_features_columns}\")\n",
    "    X_test.drop(excluded_features_columns, axis=1, inplace=True)"
   ]
  },
  {
   "cell_type": "code",
   "execution_count": 27,
   "id": "1853aaf5-fb9f-46cb-a2b5-8ea4ae2237e4",
   "metadata": {
    "execution": {
     "iopub.execute_input": "2025-07-28T11:04:05.097943Z",
     "iopub.status.busy": "2025-07-28T11:04:05.097190Z",
     "iopub.status.idle": "2025-07-28T11:04:05.162691Z",
     "shell.execute_reply": "2025-07-28T11:04:05.161538Z"
    },
    "papermill": {
     "duration": 0.091207,
     "end_time": "2025-07-28T11:04:05.164769",
     "exception": false,
     "start_time": "2025-07-28T11:04:05.073562",
     "status": "completed"
    },
    "tags": []
   },
   "outputs": [
    {
     "name": "stdout",
     "output_type": "stream",
     "text": [
      "Dropping features: ['age']\n"
     ]
    }
   ],
   "source": [
    "if len(excluded_features_columns) > 0:\n",
    "    print(f\"Dropping features: {excluded_features_columns}\")\n",
    "    X_calib.drop(excluded_features_columns, axis=1, inplace=True)"
   ]
  },
  {
   "cell_type": "code",
   "execution_count": 28,
   "id": "6727d079-03e5-481e-9d38-292a90b7a0a8",
   "metadata": {
    "execution": {
     "iopub.execute_input": "2025-07-28T11:04:05.213170Z",
     "iopub.status.busy": "2025-07-28T11:04:05.212507Z",
     "iopub.status.idle": "2025-07-28T11:04:05.218226Z",
     "shell.execute_reply": "2025-07-28T11:04:05.217091Z"
    },
    "papermill": {
     "duration": 0.031508,
     "end_time": "2025-07-28T11:04:05.220087",
     "exception": false,
     "start_time": "2025-07-28T11:04:05.188579",
     "status": "completed"
    },
    "tags": []
   },
   "outputs": [],
   "source": [
    "# SPLIT & STRATIFY DATA\n",
    "# ----------------------"
   ]
  },
  {
   "cell_type": "code",
   "execution_count": 29,
   "id": "76c4dc6d",
   "metadata": {
    "execution": {
     "iopub.execute_input": "2025-07-28T11:04:05.268672Z",
     "iopub.status.busy": "2025-07-28T11:04:05.267617Z",
     "iopub.status.idle": "2025-07-28T11:04:05.273964Z",
     "shell.execute_reply": "2025-07-28T11:04:05.272869Z"
    },
    "papermill": {
     "duration": 0.033129,
     "end_time": "2025-07-28T11:04:05.276104",
     "exception": false,
     "start_time": "2025-07-28T11:04:05.242975",
     "status": "completed"
    },
    "tags": []
   },
   "outputs": [],
   "source": [
    "# EXCLUDE CERTAIN SUBGROUPS\n",
    "# ----------------------\n",
    "\n",
    "mode = universe.get(\"exclude_subgroups\", \"keep-all\") \n",
    "# Fetches the exclude_subgroups setting from the universe dict.\n",
    "# Defaults to \"keep-all\" if the key is missing."
   ]
  },
  {
   "cell_type": "code",
   "execution_count": 30,
   "id": "21994072",
   "metadata": {
    "execution": {
     "iopub.execute_input": "2025-07-28T11:04:05.335435Z",
     "iopub.status.busy": "2025-07-28T11:04:05.334745Z",
     "iopub.status.idle": "2025-07-28T11:04:05.343677Z",
     "shell.execute_reply": "2025-07-28T11:04:05.342606Z"
    },
    "papermill": {
     "duration": 0.041185,
     "end_time": "2025-07-28T11:04:05.346077",
     "exception": false,
     "start_time": "2025-07-28T11:04:05.304892",
     "status": "completed"
    },
    "tags": []
   },
   "outputs": [],
   "source": [
    "if mode == \"keep-all\":\n",
    "    keep_mask = pd.Series(True, index=org_train.index)\n",
    "\n",
    "# org_train contains the original feature columns from features_org (in Simson)\n",
    "# features_org contains unprocessed features, for me X_train at beginning ???\n",
    "# For keep-all, creates a boolean Series (keep_mask) of all True, so no rows are removed.\n",
    "\n",
    "elif mode == \"drop-non-german\":\n",
    "    keep_mask = org_train[\"maxdeutsch1\"] == 1 # ??? what about missing values?\n",
    "\n",
    "else:\n",
    "    raise ValueError(f\"Unsupported mode for exclude_subgroups: {mode}\")\n"
   ]
  },
  {
   "cell_type": "code",
   "execution_count": 31,
   "id": "71651440",
   "metadata": {
    "execution": {
     "iopub.execute_input": "2025-07-28T11:04:05.404489Z",
     "iopub.status.busy": "2025-07-28T11:04:05.403432Z",
     "iopub.status.idle": "2025-07-28T11:04:05.412255Z",
     "shell.execute_reply": "2025-07-28T11:04:05.410984Z"
    },
    "papermill": {
     "duration": 0.04078,
     "end_time": "2025-07-28T11:04:05.414499",
     "exception": false,
     "start_time": "2025-07-28T11:04:05.373719",
     "status": "completed"
    },
    "tags": []
   },
   "outputs": [
    {
     "name": "stdout",
     "output_type": "stream",
     "text": [
      "Dropping 12995 rows (14.91%) where mode='drop-non-german'\n"
     ]
    }
   ],
   "source": [
    "n_drop = (~keep_mask).sum() # Calculates how many rows are set to be dropped\n",
    "if n_drop > 0:\n",
    "    pct = n_drop / len(keep_mask) * 100\n",
    "    print(f\"Dropping {n_drop} rows ({pct:.2f}%) where mode='{mode}'\")"
   ]
  },
  {
   "cell_type": "code",
   "execution_count": 32,
   "id": "5fb8eee5",
   "metadata": {
    "execution": {
     "iopub.execute_input": "2025-07-28T11:04:05.473071Z",
     "iopub.status.busy": "2025-07-28T11:04:05.471948Z",
     "iopub.status.idle": "2025-07-28T11:04:05.531634Z",
     "shell.execute_reply": "2025-07-28T11:04:05.530544Z"
    },
    "papermill": {
     "duration": 0.091826,
     "end_time": "2025-07-28T11:04:05.534134",
     "exception": false,
     "start_time": "2025-07-28T11:04:05.442308",
     "status": "completed"
    },
    "tags": []
   },
   "outputs": [],
   "source": [
    "X_train = X_train[keep_mask]"
   ]
  },
  {
   "cell_type": "code",
   "execution_count": 33,
   "id": "b202bb3a",
   "metadata": {
    "execution": {
     "iopub.execute_input": "2025-07-28T11:04:05.592984Z",
     "iopub.status.busy": "2025-07-28T11:04:05.592106Z",
     "iopub.status.idle": "2025-07-28T11:04:05.600274Z",
     "shell.execute_reply": "2025-07-28T11:04:05.599160Z"
    },
    "papermill": {
     "duration": 0.039443,
     "end_time": "2025-07-28T11:04:05.602573",
     "exception": false,
     "start_time": "2025-07-28T11:04:05.563130",
     "status": "completed"
    },
    "tags": []
   },
   "outputs": [],
   "source": [
    "y_train = y_train[keep_mask]"
   ]
  },
  {
   "cell_type": "markdown",
   "id": "493e2ac3",
   "metadata": {
    "papermill": {
     "duration": 0.027941,
     "end_time": "2025-07-28T11:04:05.658599",
     "exception": false,
     "start_time": "2025-07-28T11:04:05.630658",
     "status": "completed"
    },
    "tags": []
   },
   "source": [
    "# Model Training"
   ]
  },
  {
   "cell_type": "code",
   "execution_count": 34,
   "id": "679e1268",
   "metadata": {
    "execution": {
     "iopub.execute_input": "2025-07-28T11:04:05.713802Z",
     "iopub.status.busy": "2025-07-28T11:04:05.713070Z",
     "iopub.status.idle": "2025-07-28T11:04:05.829425Z",
     "shell.execute_reply": "2025-07-28T11:04:05.828307Z"
    },
    "papermill": {
     "duration": 0.147106,
     "end_time": "2025-07-28T11:04:05.831922",
     "exception": false,
     "start_time": "2025-07-28T11:04:05.684816",
     "status": "completed"
    },
    "tags": []
   },
   "outputs": [],
   "source": [
    "from sklearn.linear_model import LogisticRegression\n",
    "from sklearn.ensemble import GradientBoostingClassifier, RandomForestClassifier\n",
    "\n",
    "if (universe[\"model\"] == \"logreg\"):\n",
    "    model = LogisticRegression() #penalty=\"none\") #, solver=\"newton-cg\", max_iter=1) # include random_state=19 ?\n",
    "elif (universe[\"model\"] == \"penalized_logreg\"):\n",
    "    model = LogisticRegression(penalty=\"l2\", C=1.0) #, solver=\"newton-cg\", max_iter=1)\n",
    "elif (universe[\"model\"] == \"rf\"):\n",
    "    model = RandomForestClassifier(n_estimators=100, n_jobs=-1)\n",
    "elif (universe[\"model\"] == \"gbm\"):\n",
    "    model = GradientBoostingClassifier()\n",
    "elif (universe[\"model\"] == \"elasticnet\"):\n",
    "    model = LogisticRegression(penalty = 'elasticnet', solver = 'saga', l1_ratio = 0.5, max_iter=5000) # which solver to use?\n",
    "else:\n",
    "    raise \"Unsupported universe.model\""
   ]
  },
  {
   "cell_type": "code",
   "execution_count": 35,
   "id": "0cc8f744",
   "metadata": {
    "execution": {
     "iopub.execute_input": "2025-07-28T11:04:05.888681Z",
     "iopub.status.busy": "2025-07-28T11:04:05.887860Z",
     "iopub.status.idle": "2025-07-28T11:04:05.895292Z",
     "shell.execute_reply": "2025-07-28T11:04:05.894169Z"
    },
    "papermill": {
     "duration": 0.038044,
     "end_time": "2025-07-28T11:04:05.897413",
     "exception": false,
     "start_time": "2025-07-28T11:04:05.859369",
     "status": "completed"
    },
    "tags": []
   },
   "outputs": [],
   "source": [
    "import numpy as np\n",
    "from sklearn.pipeline import Pipeline\n",
    "from sklearn.preprocessing import StandardScaler\n",
    "\n",
    "model = Pipeline([\n",
    "    #(\"continuous_processor\", continuous_processor),\n",
    "    #(\"categorical_preprocessor\", categorical_preprocessor),\n",
    "    (\"scale\", StandardScaler() if universe[\"scale\"] == \"scale\" else None), \n",
    "    (\"model\", model),\n",
    "])"
   ]
  },
  {
   "cell_type": "code",
   "execution_count": 36,
   "id": "9442c04d",
   "metadata": {
    "execution": {
     "iopub.execute_input": "2025-07-28T11:04:05.954814Z",
     "iopub.status.busy": "2025-07-28T11:04:05.953835Z",
     "iopub.status.idle": "2025-07-28T11:04:09.730056Z",
     "shell.execute_reply": "2025-07-28T11:04:09.729067Z"
    },
    "papermill": {
     "duration": 3.806688,
     "end_time": "2025-07-28T11:04:09.731746",
     "exception": false,
     "start_time": "2025-07-28T11:04:05.925058",
     "status": "completed"
    },
    "tags": []
   },
   "outputs": [
    {
     "name": "stderr",
     "output_type": "stream",
     "text": [
      "/dss/dsshome1/0C/ra93lal2/.local/share/virtualenvs/CMA_Fairness_v2-3j10GkSs/lib/python3.10/site-packages/sklearn/linear_model/_logistic.py:444: ConvergenceWarning: lbfgs failed to converge (status=1):\n",
      "STOP: TOTAL NO. of ITERATIONS REACHED LIMIT.\n",
      "\n",
      "Increase the number of iterations (max_iter) or scale the data as shown in:\n",
      "    https://scikit-learn.org/stable/modules/preprocessing.html\n",
      "Please also refer to the documentation for alternative solver options:\n",
      "    https://scikit-learn.org/stable/modules/linear_model.html#logistic-regression\n",
      "  n_iter_i = _check_optimize_result(\n"
     ]
    },
    {
     "data": {
      "text/html": [
       "<style>#sk-container-id-1 {color: black;background-color: white;}#sk-container-id-1 pre{padding: 0;}#sk-container-id-1 div.sk-toggleable {background-color: white;}#sk-container-id-1 label.sk-toggleable__label {cursor: pointer;display: block;width: 100%;margin-bottom: 0;padding: 0.3em;box-sizing: border-box;text-align: center;}#sk-container-id-1 label.sk-toggleable__label-arrow:before {content: \"▸\";float: left;margin-right: 0.25em;color: #696969;}#sk-container-id-1 label.sk-toggleable__label-arrow:hover:before {color: black;}#sk-container-id-1 div.sk-estimator:hover label.sk-toggleable__label-arrow:before {color: black;}#sk-container-id-1 div.sk-toggleable__content {max-height: 0;max-width: 0;overflow: hidden;text-align: left;background-color: #f0f8ff;}#sk-container-id-1 div.sk-toggleable__content pre {margin: 0.2em;color: black;border-radius: 0.25em;background-color: #f0f8ff;}#sk-container-id-1 input.sk-toggleable__control:checked~div.sk-toggleable__content {max-height: 200px;max-width: 100%;overflow: auto;}#sk-container-id-1 input.sk-toggleable__control:checked~label.sk-toggleable__label-arrow:before {content: \"▾\";}#sk-container-id-1 div.sk-estimator input.sk-toggleable__control:checked~label.sk-toggleable__label {background-color: #d4ebff;}#sk-container-id-1 div.sk-label input.sk-toggleable__control:checked~label.sk-toggleable__label {background-color: #d4ebff;}#sk-container-id-1 input.sk-hidden--visually {border: 0;clip: rect(1px 1px 1px 1px);clip: rect(1px, 1px, 1px, 1px);height: 1px;margin: -1px;overflow: hidden;padding: 0;position: absolute;width: 1px;}#sk-container-id-1 div.sk-estimator {font-family: monospace;background-color: #f0f8ff;border: 1px dotted black;border-radius: 0.25em;box-sizing: border-box;margin-bottom: 0.5em;}#sk-container-id-1 div.sk-estimator:hover {background-color: #d4ebff;}#sk-container-id-1 div.sk-parallel-item::after {content: \"\";width: 100%;border-bottom: 1px solid gray;flex-grow: 1;}#sk-container-id-1 div.sk-label:hover label.sk-toggleable__label {background-color: #d4ebff;}#sk-container-id-1 div.sk-serial::before {content: \"\";position: absolute;border-left: 1px solid gray;box-sizing: border-box;top: 0;bottom: 0;left: 50%;z-index: 0;}#sk-container-id-1 div.sk-serial {display: flex;flex-direction: column;align-items: center;background-color: white;padding-right: 0.2em;padding-left: 0.2em;position: relative;}#sk-container-id-1 div.sk-item {position: relative;z-index: 1;}#sk-container-id-1 div.sk-parallel {display: flex;align-items: stretch;justify-content: center;background-color: white;position: relative;}#sk-container-id-1 div.sk-item::before, #sk-container-id-1 div.sk-parallel-item::before {content: \"\";position: absolute;border-left: 1px solid gray;box-sizing: border-box;top: 0;bottom: 0;left: 50%;z-index: -1;}#sk-container-id-1 div.sk-parallel-item {display: flex;flex-direction: column;z-index: 1;position: relative;background-color: white;}#sk-container-id-1 div.sk-parallel-item:first-child::after {align-self: flex-end;width: 50%;}#sk-container-id-1 div.sk-parallel-item:last-child::after {align-self: flex-start;width: 50%;}#sk-container-id-1 div.sk-parallel-item:only-child::after {width: 0;}#sk-container-id-1 div.sk-dashed-wrapped {border: 1px dashed gray;margin: 0 0.4em 0.5em 0.4em;box-sizing: border-box;padding-bottom: 0.4em;background-color: white;}#sk-container-id-1 div.sk-label label {font-family: monospace;font-weight: bold;display: inline-block;line-height: 1.2em;}#sk-container-id-1 div.sk-label-container {text-align: center;}#sk-container-id-1 div.sk-container {/* jupyter's `normalize.less` sets `[hidden] { display: none; }` but bootstrap.min.css set `[hidden] { display: none !important; }` so we also need the `!important` here to be able to override the default hidden behavior on the sphinx rendered scikit-learn.org. See: https://github.com/scikit-learn/scikit-learn/issues/21755 */display: inline-block !important;position: relative;}#sk-container-id-1 div.sk-text-repr-fallback {display: none;}</style><div id=\"sk-container-id-1\" class=\"sk-top-container\"><div class=\"sk-text-repr-fallback\"><pre>Pipeline(steps=[(&#x27;scale&#x27;, None), (&#x27;model&#x27;, LogisticRegression())])</pre><b>In a Jupyter environment, please rerun this cell to show the HTML representation or trust the notebook. <br />On GitHub, the HTML representation is unable to render, please try loading this page with nbviewer.org.</b></div><div class=\"sk-container\" hidden><div class=\"sk-item sk-dashed-wrapped\"><div class=\"sk-label-container\"><div class=\"sk-label sk-toggleable\"><input class=\"sk-toggleable__control sk-hidden--visually\" id=\"sk-estimator-id-1\" type=\"checkbox\" ><label for=\"sk-estimator-id-1\" class=\"sk-toggleable__label sk-toggleable__label-arrow\">Pipeline</label><div class=\"sk-toggleable__content\"><pre>Pipeline(steps=[(&#x27;scale&#x27;, None), (&#x27;model&#x27;, LogisticRegression())])</pre></div></div></div><div class=\"sk-serial\"><div class=\"sk-item\"><div class=\"sk-estimator sk-toggleable\"><input class=\"sk-toggleable__control sk-hidden--visually\" id=\"sk-estimator-id-2\" type=\"checkbox\" ><label for=\"sk-estimator-id-2\" class=\"sk-toggleable__label sk-toggleable__label-arrow\">None</label><div class=\"sk-toggleable__content\"><pre>None</pre></div></div></div><div class=\"sk-item\"><div class=\"sk-estimator sk-toggleable\"><input class=\"sk-toggleable__control sk-hidden--visually\" id=\"sk-estimator-id-3\" type=\"checkbox\" ><label for=\"sk-estimator-id-3\" class=\"sk-toggleable__label sk-toggleable__label-arrow\">LogisticRegression</label><div class=\"sk-toggleable__content\"><pre>LogisticRegression()</pre></div></div></div></div></div></div></div>"
      ],
      "text/plain": [
       "Pipeline(steps=[('scale', None), ('model', LogisticRegression())])"
      ]
     },
     "execution_count": 36,
     "metadata": {},
     "output_type": "execute_result"
    }
   ],
   "source": [
    "model.fit(X_train, y_train.values.ravel())"
   ]
  },
  {
   "cell_type": "code",
   "execution_count": 37,
   "id": "af59f8c0",
   "metadata": {
    "execution": {
     "iopub.execute_input": "2025-07-28T11:04:09.781285Z",
     "iopub.status.busy": "2025-07-28T11:04:09.780546Z",
     "iopub.status.idle": "2025-07-28T11:04:09.787092Z",
     "shell.execute_reply": "2025-07-28T11:04:09.785973Z"
    },
    "papermill": {
     "duration": 0.033015,
     "end_time": "2025-07-28T11:04:09.788961",
     "exception": false,
     "start_time": "2025-07-28T11:04:09.755946",
     "status": "completed"
    },
    "tags": []
   },
   "outputs": [],
   "source": [
    "from fairness_multiverse.universe import predict_w_threshold"
   ]
  },
  {
   "cell_type": "code",
   "execution_count": 38,
   "id": "a7cf2e16",
   "metadata": {
    "execution": {
     "iopub.execute_input": "2025-07-28T11:04:09.839045Z",
     "iopub.status.busy": "2025-07-28T11:04:09.838311Z",
     "iopub.status.idle": "2025-07-28T11:04:09.943946Z",
     "shell.execute_reply": "2025-07-28T11:04:09.942938Z"
    },
    "papermill": {
     "duration": 0.132659,
     "end_time": "2025-07-28T11:04:09.945972",
     "exception": false,
     "start_time": "2025-07-28T11:04:09.813313",
     "status": "completed"
    },
    "tags": []
   },
   "outputs": [
    {
     "data": {
      "text/plain": [
       "0.864162300746851"
      ]
     },
     "execution_count": 38,
     "metadata": {},
     "output_type": "execute_result"
    }
   ],
   "source": [
    "probs_test = model.predict_proba(X_test)\n",
    "\n",
    "'''\n",
    "Below code returns a boolean array (or binary 0/1 array depending on how it’s used) where each element \n",
    "is True if the probability of class 1 is greater than or equal to the threshold, and False otherwise.\n",
    "'''\n",
    "y_pred_default = predict_w_threshold(probs_test, 0.5)\n",
    "\n",
    "from sklearn.metrics import accuracy_score\n",
    "\n",
    "# Naive prediction\n",
    "accuracy_score(y_true = y_true, y_pred = y_pred_default)"
   ]
  },
  {
   "cell_type": "code",
   "execution_count": 39,
   "id": "081964c3",
   "metadata": {
    "execution": {
     "iopub.execute_input": "2025-07-28T11:04:09.998444Z",
     "iopub.status.busy": "2025-07-28T11:04:09.997763Z",
     "iopub.status.idle": "2025-07-28T11:04:10.086828Z",
     "shell.execute_reply": "2025-07-28T11:04:10.085855Z"
    },
    "papermill": {
     "duration": 0.117227,
     "end_time": "2025-07-28T11:04:10.088792",
     "exception": false,
     "start_time": "2025-07-28T11:04:09.971565",
     "status": "completed"
    },
    "tags": []
   },
   "outputs": [
    {
     "data": {
      "text/plain": [
       "array([0, 0, 0, ..., 0, 0, 0])"
      ]
     },
     "execution_count": 39,
     "metadata": {},
     "output_type": "execute_result"
    }
   ],
   "source": [
    "model.predict(X_test)"
   ]
  },
  {
   "cell_type": "markdown",
   "id": "56c9705b",
   "metadata": {
    "papermill": {
     "duration": 0.024599,
     "end_time": "2025-07-28T11:04:10.138945",
     "exception": false,
     "start_time": "2025-07-28T11:04:10.114346",
     "status": "completed"
    },
    "tags": []
   },
   "source": [
    "# Conformal Prediction"
   ]
  },
  {
   "cell_type": "code",
   "execution_count": 40,
   "id": "160ec6ff",
   "metadata": {
    "execution": {
     "iopub.execute_input": "2025-07-28T11:04:10.191482Z",
     "iopub.status.busy": "2025-07-28T11:04:10.190751Z",
     "iopub.status.idle": "2025-07-28T11:04:10.196577Z",
     "shell.execute_reply": "2025-07-28T11:04:10.195244Z"
    },
    "papermill": {
     "duration": 0.034162,
     "end_time": "2025-07-28T11:04:10.198415",
     "exception": false,
     "start_time": "2025-07-28T11:04:10.164253",
     "status": "completed"
    },
    "tags": []
   },
   "outputs": [],
   "source": [
    "# Miscoverage level for conformal prediction (10% allowed error rate => 90% target coverage)\n",
    "alpha = 0.1"
   ]
  },
  {
   "cell_type": "code",
   "execution_count": 41,
   "id": "eadf4555-3dd3-440e-8e35-f82a4ad9f855",
   "metadata": {
    "execution": {
     "iopub.execute_input": "2025-07-28T11:04:10.251527Z",
     "iopub.status.busy": "2025-07-28T11:04:10.250759Z",
     "iopub.status.idle": "2025-07-28T11:04:10.332069Z",
     "shell.execute_reply": "2025-07-28T11:04:10.331175Z"
    },
    "papermill": {
     "duration": 0.109776,
     "end_time": "2025-07-28T11:04:10.334043",
     "exception": false,
     "start_time": "2025-07-28T11:04:10.224267",
     "status": "completed"
    },
    "tags": []
   },
   "outputs": [],
   "source": [
    "probs_calib = model.predict_proba(X_calib)"
   ]
  },
  {
   "cell_type": "code",
   "execution_count": 42,
   "id": "2ed93547-6d5d-4983-9b36-1ecb300da49a",
   "metadata": {
    "execution": {
     "iopub.execute_input": "2025-07-28T11:04:10.364466Z",
     "iopub.status.busy": "2025-07-28T11:04:10.364103Z",
     "iopub.status.idle": "2025-07-28T11:04:10.369206Z",
     "shell.execute_reply": "2025-07-28T11:04:10.368444Z"
    },
    "papermill": {
     "duration": 0.019678,
     "end_time": "2025-07-28T11:04:10.370656",
     "exception": false,
     "start_time": "2025-07-28T11:04:10.350978",
     "status": "completed"
    },
    "tags": []
   },
   "outputs": [],
   "source": [
    "y_calib = y_calib.values.ravel().astype(int)"
   ]
  },
  {
   "cell_type": "code",
   "execution_count": 43,
   "id": "65d1320d-f588-4b38-9072-62af1ae97f7d",
   "metadata": {
    "execution": {
     "iopub.execute_input": "2025-07-28T11:04:10.397069Z",
     "iopub.status.busy": "2025-07-28T11:04:10.396329Z",
     "iopub.status.idle": "2025-07-28T11:04:10.402684Z",
     "shell.execute_reply": "2025-07-28T11:04:10.401897Z"
    },
    "papermill": {
     "duration": 0.020693,
     "end_time": "2025-07-28T11:04:10.404130",
     "exception": false,
     "start_time": "2025-07-28T11:04:10.383437",
     "status": "completed"
    },
    "tags": []
   },
   "outputs": [],
   "source": [
    "from fairness_multiverse.conformal import compute_nc_scores\n",
    "\n",
    "# Compute nonconformity scores on calibration set (1 - probability of true class)\n",
    "nc_scores = compute_nc_scores(probs_calib, y_calib)"
   ]
  },
  {
   "cell_type": "code",
   "execution_count": 44,
   "id": "df3b8ca3-53b7-43d5-9667-7c85da7aeda2",
   "metadata": {
    "execution": {
     "iopub.execute_input": "2025-07-28T11:04:10.435148Z",
     "iopub.status.busy": "2025-07-28T11:04:10.434680Z",
     "iopub.status.idle": "2025-07-28T11:04:10.440535Z",
     "shell.execute_reply": "2025-07-28T11:04:10.439640Z"
    },
    "papermill": {
     "duration": 0.021678,
     "end_time": "2025-07-28T11:04:10.441917",
     "exception": false,
     "start_time": "2025-07-28T11:04:10.420239",
     "status": "completed"
    },
    "tags": []
   },
   "outputs": [],
   "source": [
    "from fairness_multiverse.conformal import find_threshold\n",
    "\n",
    "# Find conformal threshold q_hat for the given alpha (split conformal method)\n",
    "q_hat = find_threshold(nc_scores, alpha)"
   ]
  },
  {
   "cell_type": "code",
   "execution_count": 45,
   "id": "4d29e6c1-0ef6-4aa4-b8fe-4fe79b0d033a",
   "metadata": {
    "execution": {
     "iopub.execute_input": "2025-07-28T11:04:10.468748Z",
     "iopub.status.busy": "2025-07-28T11:04:10.468303Z",
     "iopub.status.idle": "2025-07-28T11:04:10.474585Z",
     "shell.execute_reply": "2025-07-28T11:04:10.473588Z"
    },
    "papermill": {
     "duration": 0.021081,
     "end_time": "2025-07-28T11:04:10.476379",
     "exception": false,
     "start_time": "2025-07-28T11:04:10.455298",
     "status": "completed"
    },
    "tags": []
   },
   "outputs": [
    {
     "data": {
      "text/plain": [
       "0.6442674157928743"
      ]
     },
     "execution_count": 45,
     "metadata": {},
     "output_type": "execute_result"
    }
   ],
   "source": [
    "q_hat"
   ]
  },
  {
   "cell_type": "code",
   "execution_count": 46,
   "id": "92460794-cdac-4be2-ba28-f28c0515a6fb",
   "metadata": {
    "execution": {
     "iopub.execute_input": "2025-07-28T11:04:10.526447Z",
     "iopub.status.busy": "2025-07-28T11:04:10.525948Z",
     "iopub.status.idle": "2025-07-28T11:04:11.158616Z",
     "shell.execute_reply": "2025-07-28T11:04:11.157623Z"
    },
    "papermill": {
     "duration": 0.659659,
     "end_time": "2025-07-28T11:04:11.160610",
     "exception": false,
     "start_time": "2025-07-28T11:04:10.500951",
     "status": "completed"
    },
    "tags": []
   },
   "outputs": [],
   "source": [
    "from fairness_multiverse.conformal import predict_conformal_sets\n",
    "\n",
    "# Generate prediction sets for each test example\n",
    "pred_sets = predict_conformal_sets(model, X_test, q_hat)"
   ]
  },
  {
   "cell_type": "code",
   "execution_count": 47,
   "id": "d90c9a65-e6db-4f5d-80cd-e68fb7e46829",
   "metadata": {
    "execution": {
     "iopub.execute_input": "2025-07-28T11:04:11.213823Z",
     "iopub.status.busy": "2025-07-28T11:04:11.211494Z",
     "iopub.status.idle": "2025-07-28T11:04:11.218543Z",
     "shell.execute_reply": "2025-07-28T11:04:11.217485Z"
    },
    "papermill": {
     "duration": 0.033664,
     "end_time": "2025-07-28T11:04:11.220483",
     "exception": false,
     "start_time": "2025-07-28T11:04:11.186819",
     "status": "completed"
    },
    "tags": []
   },
   "outputs": [],
   "source": [
    "y_true = y_true.squeeze()"
   ]
  },
  {
   "cell_type": "code",
   "execution_count": 48,
   "id": "3a58a54a-1e68-46b9-927a-df01f18aebc8",
   "metadata": {
    "execution": {
     "iopub.execute_input": "2025-07-28T11:04:11.271117Z",
     "iopub.status.busy": "2025-07-28T11:04:11.270192Z",
     "iopub.status.idle": "2025-07-28T11:04:12.400412Z",
     "shell.execute_reply": "2025-07-28T11:04:12.399304Z"
    },
    "papermill": {
     "duration": 1.157229,
     "end_time": "2025-07-28T11:04:12.402663",
     "exception": false,
     "start_time": "2025-07-28T11:04:11.245434",
     "status": "completed"
    },
    "tags": []
   },
   "outputs": [],
   "source": [
    "from fairness_multiverse.conformal import evaluate_sets\n",
    "\n",
    "# Evaluate coverage and average set size on test data\n",
    "metrics = evaluate_sets(pred_sets, y_true)"
   ]
  },
  {
   "cell_type": "markdown",
   "id": "2b569c12-9aaa-4c88-98c9-bbcd0cf3ebb8",
   "metadata": {
    "papermill": {
     "duration": 0.027172,
     "end_time": "2025-07-28T11:04:12.457606",
     "exception": false,
     "start_time": "2025-07-28T11:04:12.430434",
     "status": "completed"
    },
    "tags": []
   },
   "source": [
    "# CP Metrics"
   ]
  },
  {
   "cell_type": "code",
   "execution_count": 49,
   "id": "5ce0a5cb-201f-45a0-ade5-94c7f0bd6095",
   "metadata": {
    "execution": {
     "iopub.execute_input": "2025-07-28T11:04:12.514378Z",
     "iopub.status.busy": "2025-07-28T11:04:12.513812Z",
     "iopub.status.idle": "2025-07-28T11:04:12.521853Z",
     "shell.execute_reply": "2025-07-28T11:04:12.520704Z"
    },
    "papermill": {
     "duration": 0.039097,
     "end_time": "2025-07-28T11:04:12.523665",
     "exception": false,
     "start_time": "2025-07-28T11:04:12.484568",
     "status": "completed"
    },
    "tags": []
   },
   "outputs": [
    {
     "data": {
      "text/plain": [
       "{'coverage': 0.9132315237989076, 'avg_size': 1.253650652101215}"
      ]
     },
     "execution_count": 49,
     "metadata": {},
     "output_type": "execute_result"
    }
   ],
   "source": [
    "metrics"
   ]
  },
  {
   "cell_type": "code",
   "execution_count": 50,
   "id": "9b9a838d-31c9-430b-ae14-12baee460d17",
   "metadata": {
    "execution": {
     "iopub.execute_input": "2025-07-28T11:04:12.576592Z",
     "iopub.status.busy": "2025-07-28T11:04:12.575620Z",
     "iopub.status.idle": "2025-07-28T11:04:12.582763Z",
     "shell.execute_reply": "2025-07-28T11:04:12.581826Z"
    },
    "papermill": {
     "duration": 0.036057,
     "end_time": "2025-07-28T11:04:12.584777",
     "exception": false,
     "start_time": "2025-07-28T11:04:12.548720",
     "status": "completed"
    },
    "tags": []
   },
   "outputs": [],
   "source": [
    "example_universe = universe.copy()\n",
    "universe_training_size = example_universe.get(\"training_size\")\n",
    "universe_scale = example_universe.get(\"scale\")\n",
    "universe_model = example_universe.get(\"model\")\n",
    "universe_exclude_features = example_universe.get(\"exclude_features\")\n",
    "universe_exclude_subgroups = example_universe.get(\"exclude_subgroups\")"
   ]
  },
  {
   "cell_type": "code",
   "execution_count": 51,
   "id": "f4b6a8ac-9dc0-4245-8a91-5b3b5999c4f9",
   "metadata": {
    "execution": {
     "iopub.execute_input": "2025-07-28T11:04:12.642600Z",
     "iopub.status.busy": "2025-07-28T11:04:12.641915Z",
     "iopub.status.idle": "2025-07-28T11:04:12.648922Z",
     "shell.execute_reply": "2025-07-28T11:04:12.647668Z"
    },
    "papermill": {
     "duration": 0.037676,
     "end_time": "2025-07-28T11:04:12.650779",
     "exception": false,
     "start_time": "2025-07-28T11:04:12.613103",
     "status": "completed"
    },
    "tags": []
   },
   "outputs": [],
   "source": [
    "cp_metrics_dict = {\n",
    "    \"universe_id\": [universe_id],\n",
    "    \"universe_training_size\": [universe_training_size],\n",
    "    \"universe_scale\": [universe_scale],\n",
    "    \"universe_model\": [universe_model],\n",
    "    \"universe_exclude_features\": [universe_exclude_features],\n",
    "    \"universe_exclude_subgroups\": [universe_exclude_subgroups],\n",
    "    \"q_hat\": [q_hat],\n",
    "    \"coverage\": [metrics[\"coverage\"]],\n",
    "    \"avg_size\": [metrics[\"avg_size\"]],\n",
    "}"
   ]
  },
  {
   "cell_type": "code",
   "execution_count": 52,
   "id": "908acbb1-0371-4915-85ca-3fa520d2efe2",
   "metadata": {
    "execution": {
     "iopub.execute_input": "2025-07-28T11:04:12.709052Z",
     "iopub.status.busy": "2025-07-28T11:04:12.707970Z",
     "iopub.status.idle": "2025-07-28T11:04:12.717541Z",
     "shell.execute_reply": "2025-07-28T11:04:12.716427Z"
    },
    "papermill": {
     "duration": 0.040653,
     "end_time": "2025-07-28T11:04:12.719410",
     "exception": false,
     "start_time": "2025-07-28T11:04:12.678757",
     "status": "completed"
    },
    "tags": []
   },
   "outputs": [
    {
     "data": {
      "text/plain": [
       "{'universe_id': ['8eaa1a1b4a4ce1c2f590abfb90c38081'],\n",
       " 'universe_training_size': ['2014'],\n",
       " 'universe_scale': ['do-not-scale'],\n",
       " 'universe_model': ['logreg'],\n",
       " 'universe_exclude_features': ['age'],\n",
       " 'universe_exclude_subgroups': ['drop-non-german'],\n",
       " 'q_hat': [0.6442674157928743],\n",
       " 'coverage': [0.9132315237989076],\n",
       " 'avg_size': [1.253650652101215]}"
      ]
     },
     "execution_count": 52,
     "metadata": {},
     "output_type": "execute_result"
    }
   ],
   "source": [
    "cp_metrics_dict"
   ]
  },
  {
   "cell_type": "code",
   "execution_count": 53,
   "id": "33007efc-14e9-4ec6-97ac-56a455c82265",
   "metadata": {
    "execution": {
     "iopub.execute_input": "2025-07-28T11:04:12.778087Z",
     "iopub.status.busy": "2025-07-28T11:04:12.777388Z",
     "iopub.status.idle": "2025-07-28T11:04:12.784374Z",
     "shell.execute_reply": "2025-07-28T11:04:12.783330Z"
    },
    "papermill": {
     "duration": 0.038298,
     "end_time": "2025-07-28T11:04:12.786245",
     "exception": false,
     "start_time": "2025-07-28T11:04:12.747947",
     "status": "completed"
    },
    "tags": []
   },
   "outputs": [],
   "source": [
    "cp_metrics_df = pd.DataFrame(cp_metrics_dict)"
   ]
  },
  {
   "cell_type": "code",
   "execution_count": 54,
   "id": "db12611b-57b2-4910-b9d0-355adfd6e7bf",
   "metadata": {
    "execution": {
     "iopub.execute_input": "2025-07-28T11:04:12.844552Z",
     "iopub.status.busy": "2025-07-28T11:04:12.843846Z",
     "iopub.status.idle": "2025-07-28T11:04:12.864013Z",
     "shell.execute_reply": "2025-07-28T11:04:12.862761Z"
    },
    "papermill": {
     "duration": 0.051106,
     "end_time": "2025-07-28T11:04:12.865865",
     "exception": false,
     "start_time": "2025-07-28T11:04:12.814759",
     "status": "completed"
    },
    "tags": []
   },
   "outputs": [
    {
     "data": {
      "text/html": [
       "<div>\n",
       "<style scoped>\n",
       "    .dataframe tbody tr th:only-of-type {\n",
       "        vertical-align: middle;\n",
       "    }\n",
       "\n",
       "    .dataframe tbody tr th {\n",
       "        vertical-align: top;\n",
       "    }\n",
       "\n",
       "    .dataframe thead th {\n",
       "        text-align: right;\n",
       "    }\n",
       "</style>\n",
       "<table border=\"1\" class=\"dataframe\">\n",
       "  <thead>\n",
       "    <tr style=\"text-align: right;\">\n",
       "      <th></th>\n",
       "      <th>universe_id</th>\n",
       "      <th>universe_training_size</th>\n",
       "      <th>universe_scale</th>\n",
       "      <th>universe_model</th>\n",
       "      <th>universe_exclude_features</th>\n",
       "      <th>universe_exclude_subgroups</th>\n",
       "      <th>q_hat</th>\n",
       "      <th>coverage</th>\n",
       "      <th>avg_size</th>\n",
       "    </tr>\n",
       "  </thead>\n",
       "  <tbody>\n",
       "    <tr>\n",
       "      <th>0</th>\n",
       "      <td>8eaa1a1b4a4ce1c2f590abfb90c38081</td>\n",
       "      <td>2014</td>\n",
       "      <td>do-not-scale</td>\n",
       "      <td>logreg</td>\n",
       "      <td>age</td>\n",
       "      <td>drop-non-german</td>\n",
       "      <td>0.644267</td>\n",
       "      <td>0.913232</td>\n",
       "      <td>1.253651</td>\n",
       "    </tr>\n",
       "  </tbody>\n",
       "</table>\n",
       "</div>"
      ],
      "text/plain": [
       "                        universe_id universe_training_size universe_scale  \\\n",
       "0  8eaa1a1b4a4ce1c2f590abfb90c38081                   2014   do-not-scale   \n",
       "\n",
       "  universe_model universe_exclude_features universe_exclude_subgroups  \\\n",
       "0         logreg                       age            drop-non-german   \n",
       "\n",
       "      q_hat  coverage  avg_size  \n",
       "0  0.644267  0.913232  1.253651  "
      ]
     },
     "execution_count": 54,
     "metadata": {},
     "output_type": "execute_result"
    }
   ],
   "source": [
    "cp_metrics_df"
   ]
  },
  {
   "cell_type": "code",
   "execution_count": 55,
   "id": "b7fbde55-a0a1-47e4-9af6-fe4a17fa8c61",
   "metadata": {
    "execution": {
     "iopub.execute_input": "2025-07-28T11:04:12.941448Z",
     "iopub.status.busy": "2025-07-28T11:04:12.940856Z",
     "iopub.status.idle": "2025-07-28T11:04:12.945969Z",
     "shell.execute_reply": "2025-07-28T11:04:12.945212Z"
    },
    "papermill": {
     "duration": 0.052829,
     "end_time": "2025-07-28T11:04:12.947401",
     "exception": false,
     "start_time": "2025-07-28T11:04:12.894572",
     "status": "completed"
    },
    "tags": []
   },
   "outputs": [],
   "source": [
    "# Conditional Coverage & looking at subgroups"
   ]
  },
  {
   "cell_type": "code",
   "execution_count": 56,
   "id": "027ae886-68dd-4141-96c7-805a5450e1ef",
   "metadata": {
    "execution": {
     "iopub.execute_input": "2025-07-28T11:04:12.976243Z",
     "iopub.status.busy": "2025-07-28T11:04:12.975660Z",
     "iopub.status.idle": "2025-07-28T11:04:13.245287Z",
     "shell.execute_reply": "2025-07-28T11:04:13.244117Z"
    },
    "papermill": {
     "duration": 0.285229,
     "end_time": "2025-07-28T11:04:13.247066",
     "exception": false,
     "start_time": "2025-07-28T11:04:12.961837",
     "status": "completed"
    },
    "tags": []
   },
   "outputs": [],
   "source": [
    "from fairness_multiverse.conformal import build_cp_groups\n",
    "\n",
    "cp_groups_df = build_cp_groups(pred_sets, y_true, X_test.index, org_test)\n",
    "#needs universe_id and setting"
   ]
  },
  {
   "cell_type": "code",
   "execution_count": 57,
   "id": "01d5802c-663a-4d1f-9d69-e036faaffbf7",
   "metadata": {
    "execution": {
     "iopub.execute_input": "2025-07-28T11:04:13.305073Z",
     "iopub.status.busy": "2025-07-28T11:04:13.304618Z",
     "iopub.status.idle": "2025-07-28T11:04:13.309584Z",
     "shell.execute_reply": "2025-07-28T11:04:13.308805Z"
    },
    "papermill": {
     "duration": 0.033931,
     "end_time": "2025-07-28T11:04:13.311132",
     "exception": false,
     "start_time": "2025-07-28T11:04:13.277201",
     "status": "completed"
    },
    "tags": []
   },
   "outputs": [],
   "source": [
    "#delete\n",
    "#cp_groups_df"
   ]
  },
  {
   "cell_type": "code",
   "execution_count": 58,
   "id": "fa424af1-d1eb-443d-b717-2d279ada8408",
   "metadata": {
    "execution": {
     "iopub.execute_input": "2025-07-28T11:04:13.355135Z",
     "iopub.status.busy": "2025-07-28T11:04:13.354723Z",
     "iopub.status.idle": "2025-07-28T11:04:13.359752Z",
     "shell.execute_reply": "2025-07-28T11:04:13.358781Z"
    },
    "papermill": {
     "duration": 0.025088,
     "end_time": "2025-07-28T11:04:13.361431",
     "exception": false,
     "start_time": "2025-07-28T11:04:13.336343",
     "status": "completed"
    },
    "tags": []
   },
   "outputs": [],
   "source": [
    "#delete\n",
    "#percentage = (cp_groups_df['nongerman_female'] == 1).mean() * 100\n",
    "#print(percentage)\n"
   ]
  },
  {
   "cell_type": "code",
   "execution_count": 59,
   "id": "6cbdab96-b2b2-45af-ad54-d0516db2e28d",
   "metadata": {
    "execution": {
     "iopub.execute_input": "2025-07-28T11:04:13.419091Z",
     "iopub.status.busy": "2025-07-28T11:04:13.418107Z",
     "iopub.status.idle": "2025-07-28T11:04:15.139498Z",
     "shell.execute_reply": "2025-07-28T11:04:15.138546Z"
    },
    "papermill": {
     "duration": 1.752304,
     "end_time": "2025-07-28T11:04:15.141606",
     "exception": false,
     "start_time": "2025-07-28T11:04:13.389302",
     "status": "completed"
    },
    "tags": []
   },
   "outputs": [],
   "source": [
    "# Define covered = 1 if true_label is in the predicted set\n",
    "cp_groups_df['covered'] = cp_groups_df.apply(\n",
    "    lambda r: int(r['true_label'] in r['pred_set']),\n",
    "    axis=1\n",
    ")"
   ]
  },
  {
   "cell_type": "code",
   "execution_count": 60,
   "id": "338ff529-1a6b-4b87-a931-8e4788d52aad",
   "metadata": {
    "execution": {
     "iopub.execute_input": "2025-07-28T11:04:15.193249Z",
     "iopub.status.busy": "2025-07-28T11:04:15.192758Z",
     "iopub.status.idle": "2025-07-28T11:04:15.198894Z",
     "shell.execute_reply": "2025-07-28T11:04:15.197762Z"
    },
    "papermill": {
     "duration": 0.032785,
     "end_time": "2025-07-28T11:04:15.200541",
     "exception": false,
     "start_time": "2025-07-28T11:04:15.167756",
     "status": "completed"
    },
    "tags": []
   },
   "outputs": [],
   "source": [
    "#cp_groups_df"
   ]
  },
  {
   "cell_type": "code",
   "execution_count": 61,
   "id": "90032e27-66df-4540-9169-4e89cfbaa758",
   "metadata": {
    "execution": {
     "iopub.execute_input": "2025-07-28T11:04:15.252182Z",
     "iopub.status.busy": "2025-07-28T11:04:15.251669Z",
     "iopub.status.idle": "2025-07-28T11:04:15.266807Z",
     "shell.execute_reply": "2025-07-28T11:04:15.265823Z"
    },
    "papermill": {
     "duration": 0.042963,
     "end_time": "2025-07-28T11:04:15.268495",
     "exception": false,
     "start_time": "2025-07-28T11:04:15.225532",
     "status": "completed"
    },
    "tags": []
   },
   "outputs": [],
   "source": [
    "subgroups = ['frau1','nongerman','nongerman_male','nongerman_female']\n",
    "\n",
    "# Conditional coverage for subgroup==1\n",
    "cond_coverage = {\n",
    "    g: cp_groups_df.loc[cp_groups_df[g]==1, 'covered'].mean()\n",
    "    for g in subgroups\n",
    "}"
   ]
  },
  {
   "cell_type": "code",
   "execution_count": 62,
   "id": "1e348fb1-b9c3-45bc-ba23-f016827a7e0d",
   "metadata": {
    "execution": {
     "iopub.execute_input": "2025-07-28T11:04:15.320154Z",
     "iopub.status.busy": "2025-07-28T11:04:15.319431Z",
     "iopub.status.idle": "2025-07-28T11:04:15.327762Z",
     "shell.execute_reply": "2025-07-28T11:04:15.326633Z"
    },
    "papermill": {
     "duration": 0.035354,
     "end_time": "2025-07-28T11:04:15.329577",
     "exception": false,
     "start_time": "2025-07-28T11:04:15.294223",
     "status": "completed"
    },
    "tags": []
   },
   "outputs": [
    {
     "data": {
      "text/plain": [
       "{'frau1': 0.9137080469065911,\n",
       " 'nongerman': 0.9622747431651041,\n",
       " 'nongerman_male': 0.968567053949383,\n",
       " 'nongerman_female': 0.9518628912071535}"
      ]
     },
     "execution_count": 62,
     "metadata": {},
     "output_type": "execute_result"
    }
   ],
   "source": [
    "cond_coverage"
   ]
  },
  {
   "cell_type": "code",
   "execution_count": 63,
   "id": "f5093324-c3dd-4d63-bc4c-8d945e5c8bbb",
   "metadata": {
    "execution": {
     "iopub.execute_input": "2025-07-28T11:04:15.383677Z",
     "iopub.status.busy": "2025-07-28T11:04:15.383149Z",
     "iopub.status.idle": "2025-07-28T11:04:15.393038Z",
     "shell.execute_reply": "2025-07-28T11:04:15.391931Z"
    },
    "papermill": {
     "duration": 0.038454,
     "end_time": "2025-07-28T11:04:15.394741",
     "exception": false,
     "start_time": "2025-07-28T11:04:15.356287",
     "status": "completed"
    },
    "tags": []
   },
   "outputs": [],
   "source": [
    "for subgroup, cov in cond_coverage.items():\n",
    "    cp_metrics_df[f\"cov_{subgroup}\"] = cov"
   ]
  },
  {
   "cell_type": "code",
   "execution_count": 64,
   "id": "6e872e10-dbe5-49e8-b554-5030c98ff75d",
   "metadata": {
    "execution": {
     "iopub.execute_input": "2025-07-28T11:04:15.448730Z",
     "iopub.status.busy": "2025-07-28T11:04:15.448006Z",
     "iopub.status.idle": "2025-07-28T11:04:15.468933Z",
     "shell.execute_reply": "2025-07-28T11:04:15.467843Z"
    },
    "papermill": {
     "duration": 0.049987,
     "end_time": "2025-07-28T11:04:15.470706",
     "exception": false,
     "start_time": "2025-07-28T11:04:15.420719",
     "status": "completed"
    },
    "tags": []
   },
   "outputs": [
    {
     "data": {
      "text/html": [
       "<div>\n",
       "<style scoped>\n",
       "    .dataframe tbody tr th:only-of-type {\n",
       "        vertical-align: middle;\n",
       "    }\n",
       "\n",
       "    .dataframe tbody tr th {\n",
       "        vertical-align: top;\n",
       "    }\n",
       "\n",
       "    .dataframe thead th {\n",
       "        text-align: right;\n",
       "    }\n",
       "</style>\n",
       "<table border=\"1\" class=\"dataframe\">\n",
       "  <thead>\n",
       "    <tr style=\"text-align: right;\">\n",
       "      <th></th>\n",
       "      <th>universe_id</th>\n",
       "      <th>universe_training_size</th>\n",
       "      <th>universe_scale</th>\n",
       "      <th>universe_model</th>\n",
       "      <th>universe_exclude_features</th>\n",
       "      <th>universe_exclude_subgroups</th>\n",
       "      <th>q_hat</th>\n",
       "      <th>coverage</th>\n",
       "      <th>avg_size</th>\n",
       "      <th>cov_frau1</th>\n",
       "      <th>cov_nongerman</th>\n",
       "      <th>cov_nongerman_male</th>\n",
       "      <th>cov_nongerman_female</th>\n",
       "    </tr>\n",
       "  </thead>\n",
       "  <tbody>\n",
       "    <tr>\n",
       "      <th>0</th>\n",
       "      <td>8eaa1a1b4a4ce1c2f590abfb90c38081</td>\n",
       "      <td>2014</td>\n",
       "      <td>do-not-scale</td>\n",
       "      <td>logreg</td>\n",
       "      <td>age</td>\n",
       "      <td>drop-non-german</td>\n",
       "      <td>0.644267</td>\n",
       "      <td>0.913232</td>\n",
       "      <td>1.253651</td>\n",
       "      <td>0.913708</td>\n",
       "      <td>0.962275</td>\n",
       "      <td>0.968567</td>\n",
       "      <td>0.951863</td>\n",
       "    </tr>\n",
       "  </tbody>\n",
       "</table>\n",
       "</div>"
      ],
      "text/plain": [
       "                        universe_id universe_training_size universe_scale  \\\n",
       "0  8eaa1a1b4a4ce1c2f590abfb90c38081                   2014   do-not-scale   \n",
       "\n",
       "  universe_model universe_exclude_features universe_exclude_subgroups  \\\n",
       "0         logreg                       age            drop-non-german   \n",
       "\n",
       "      q_hat  coverage  avg_size  cov_frau1  cov_nongerman  cov_nongerman_male  \\\n",
       "0  0.644267  0.913232  1.253651   0.913708       0.962275            0.968567   \n",
       "\n",
       "   cov_nongerman_female  \n",
       "0              0.951863  "
      ]
     },
     "execution_count": 64,
     "metadata": {},
     "output_type": "execute_result"
    }
   ],
   "source": [
    "cp_metrics_df"
   ]
  },
  {
   "cell_type": "markdown",
   "id": "33774451",
   "metadata": {
    "papermill": {
     "duration": 0.026929,
     "end_time": "2025-07-28T11:04:15.524895",
     "exception": false,
     "start_time": "2025-07-28T11:04:15.497966",
     "status": "completed"
    },
    "tags": []
   },
   "source": [
    "# (Fairness) Metrics"
   ]
  },
  {
   "cell_type": "code",
   "execution_count": 65,
   "id": "debc5d62",
   "metadata": {
    "execution": {
     "iopub.execute_input": "2025-07-28T11:04:15.579752Z",
     "iopub.status.busy": "2025-07-28T11:04:15.578768Z",
     "iopub.status.idle": "2025-07-28T11:04:15.603914Z",
     "shell.execute_reply": "2025-07-28T11:04:15.602632Z"
    },
    "papermill": {
     "duration": 0.055084,
     "end_time": "2025-07-28T11:04:15.605964",
     "exception": false,
     "start_time": "2025-07-28T11:04:15.550880",
     "status": "completed"
    },
    "tags": []
   },
   "outputs": [],
   "source": [
    "# do I need to include maxdeutsch1.missing?\n",
    "\n",
    "import numpy as np\n",
    "\n",
    "colname_to_bin = \"maxdeutsch1\"\n",
    "majority_value = org_train[colname_to_bin].mode()[0]\n",
    "\n",
    "org_test[\"majmin\"] = np.where(org_test[colname_to_bin] == majority_value, \"majority\", \"minority\")"
   ]
  },
  {
   "cell_type": "code",
   "execution_count": 66,
   "id": "06a50de5",
   "metadata": {
    "execution": {
     "iopub.execute_input": "2025-07-28T11:04:15.660880Z",
     "iopub.status.busy": "2025-07-28T11:04:15.660375Z",
     "iopub.status.idle": "2025-07-28T11:04:18.691410Z",
     "shell.execute_reply": "2025-07-28T11:04:18.690432Z"
    },
    "papermill": {
     "duration": 3.060344,
     "end_time": "2025-07-28T11:04:18.693624",
     "exception": false,
     "start_time": "2025-07-28T11:04:15.633280",
     "status": "completed"
    },
    "tags": []
   },
   "outputs": [],
   "source": [
    "example_universe = universe.copy()\n",
    "example_universe[\"cutoff\"] = example_universe[\"cutoff\"][0]\n",
    "example_universe[\"eval_fairness_grouping\"] = example_universe[\"eval_fairness_grouping\"][0]\n",
    "fairness_dict, metric_frame = universe_analysis.compute_metrics(\n",
    "    example_universe,\n",
    "    y_pred_prob=probs_test,\n",
    "    y_test=y_true,\n",
    "    org_test=org_test,\n",
    ")"
   ]
  },
  {
   "cell_type": "markdown",
   "id": "f95d4e02",
   "metadata": {
    "papermill": {
     "duration": 0.027472,
     "end_time": "2025-07-28T11:04:18.749640",
     "exception": false,
     "start_time": "2025-07-28T11:04:18.722168",
     "status": "completed"
    },
    "tags": []
   },
   "source": [
    "# Overall"
   ]
  },
  {
   "cell_type": "markdown",
   "id": "bdee4871",
   "metadata": {
    "papermill": {
     "duration": 0.027529,
     "end_time": "2025-07-28T11:04:18.805510",
     "exception": false,
     "start_time": "2025-07-28T11:04:18.777981",
     "status": "completed"
    },
    "tags": []
   },
   "source": [
    "Fairness\n",
    "Main fairness target: Equalized Odds. Seems to be a better fit than equal opportunity, since we're not only interested in Y = 1. Seems to be a better fit than demographic parity, since we also care about accuracy, not just equal distribution of preds.\n",
    "\n",
    "Pick column for computation of fairness metrics\n",
    "\n",
    "Performance\n",
    "Overall performance measures, most interesting in relation to the measures split by group below"
   ]
  },
  {
   "cell_type": "code",
   "execution_count": 67,
   "id": "c4e067c6",
   "metadata": {
    "execution": {
     "iopub.execute_input": "2025-07-28T11:04:18.863783Z",
     "iopub.status.busy": "2025-07-28T11:04:18.862768Z",
     "iopub.status.idle": "2025-07-28T11:04:18.872167Z",
     "shell.execute_reply": "2025-07-28T11:04:18.871167Z"
    },
    "papermill": {
     "duration": 0.040712,
     "end_time": "2025-07-28T11:04:18.873968",
     "exception": false,
     "start_time": "2025-07-28T11:04:18.833256",
     "status": "completed"
    },
    "tags": []
   },
   "outputs": [
    {
     "data": {
      "text/plain": [
       "accuracy                   0.217690\n",
       "balanced accuracy          0.533683\n",
       "f1                         0.239206\n",
       "precision                  0.136650\n",
       "false positive rate        0.891358\n",
       "false negative rate        0.041276\n",
       "selection rate             0.900000\n",
       "count                  89710.000000\n",
       "dtype: float64"
      ]
     },
     "execution_count": 67,
     "metadata": {},
     "output_type": "execute_result"
    }
   ],
   "source": [
    "metric_frame.overall"
   ]
  },
  {
   "cell_type": "markdown",
   "id": "e968fe9d",
   "metadata": {
    "papermill": {
     "duration": 0.0284,
     "end_time": "2025-07-28T11:04:18.929750",
     "exception": false,
     "start_time": "2025-07-28T11:04:18.901350",
     "status": "completed"
    },
    "tags": []
   },
   "source": [
    "By Group"
   ]
  },
  {
   "cell_type": "code",
   "execution_count": 68,
   "id": "ec325bce",
   "metadata": {
    "execution": {
     "iopub.execute_input": "2025-07-28T11:04:18.987681Z",
     "iopub.status.busy": "2025-07-28T11:04:18.987048Z",
     "iopub.status.idle": "2025-07-28T11:04:19.007185Z",
     "shell.execute_reply": "2025-07-28T11:04:19.006049Z"
    },
    "papermill": {
     "duration": 0.051703,
     "end_time": "2025-07-28T11:04:19.009206",
     "exception": false,
     "start_time": "2025-07-28T11:04:18.957503",
     "status": "completed"
    },
    "tags": []
   },
   "outputs": [
    {
     "data": {
      "text/html": [
       "<div>\n",
       "<style scoped>\n",
       "    .dataframe tbody tr th:only-of-type {\n",
       "        vertical-align: middle;\n",
       "    }\n",
       "\n",
       "    .dataframe tbody tr th {\n",
       "        vertical-align: top;\n",
       "    }\n",
       "\n",
       "    .dataframe thead th {\n",
       "        text-align: right;\n",
       "    }\n",
       "</style>\n",
       "<table border=\"1\" class=\"dataframe\">\n",
       "  <thead>\n",
       "    <tr style=\"text-align: right;\">\n",
       "      <th></th>\n",
       "      <th>accuracy</th>\n",
       "      <th>balanced accuracy</th>\n",
       "      <th>f1</th>\n",
       "      <th>precision</th>\n",
       "      <th>false positive rate</th>\n",
       "      <th>false negative rate</th>\n",
       "      <th>selection rate</th>\n",
       "      <th>count</th>\n",
       "    </tr>\n",
       "    <tr>\n",
       "      <th>majmin</th>\n",
       "      <th></th>\n",
       "      <th></th>\n",
       "      <th></th>\n",
       "      <th></th>\n",
       "      <th></th>\n",
       "      <th></th>\n",
       "      <th></th>\n",
       "      <th></th>\n",
       "    </tr>\n",
       "  </thead>\n",
       "  <tbody>\n",
       "    <tr>\n",
       "      <th>majority</th>\n",
       "      <td>0.240278</td>\n",
       "      <td>0.541665</td>\n",
       "      <td>0.248642</td>\n",
       "      <td>0.143010</td>\n",
       "      <td>0.867983</td>\n",
       "      <td>0.048687</td>\n",
       "      <td>0.878994</td>\n",
       "      <td>69170.0</td>\n",
       "    </tr>\n",
       "    <tr>\n",
       "      <th>minority</th>\n",
       "      <td>0.141626</td>\n",
       "      <td>0.509377</td>\n",
       "      <td>0.209620</td>\n",
       "      <td>0.117258</td>\n",
       "      <td>0.968578</td>\n",
       "      <td>0.012669</td>\n",
       "      <td>0.970740</td>\n",
       "      <td>20540.0</td>\n",
       "    </tr>\n",
       "  </tbody>\n",
       "</table>\n",
       "</div>"
      ],
      "text/plain": [
       "          accuracy  balanced accuracy        f1  precision  \\\n",
       "majmin                                                       \n",
       "majority  0.240278           0.541665  0.248642   0.143010   \n",
       "minority  0.141626           0.509377  0.209620   0.117258   \n",
       "\n",
       "          false positive rate  false negative rate  selection rate    count  \n",
       "majmin                                                                       \n",
       "majority             0.867983             0.048687        0.878994  69170.0  \n",
       "minority             0.968578             0.012669        0.970740  20540.0  "
      ]
     },
     "execution_count": 68,
     "metadata": {},
     "output_type": "execute_result"
    }
   ],
   "source": [
    "metric_frame.by_group"
   ]
  },
  {
   "cell_type": "code",
   "execution_count": 69,
   "id": "a9ddbe63",
   "metadata": {
    "execution": {
     "iopub.execute_input": "2025-07-28T11:04:19.068643Z",
     "iopub.status.busy": "2025-07-28T11:04:19.067795Z",
     "iopub.status.idle": "2025-07-28T11:04:21.815410Z",
     "shell.execute_reply": "2025-07-28T11:04:21.814327Z"
    },
    "papermill": {
     "duration": 2.77926,
     "end_time": "2025-07-28T11:04:21.817326",
     "exception": false,
     "start_time": "2025-07-28T11:04:19.038066",
     "status": "completed"
    },
    "tags": []
   },
   "outputs": [
    {
     "data": {
      "text/plain": [
       "array([[<Axes: title={'center': 'accuracy'}, xlabel='majmin'>,\n",
       "        <Axes: title={'center': 'balanced accuracy'}, xlabel='majmin'>,\n",
       "        <Axes: title={'center': 'f1'}, xlabel='majmin'>],\n",
       "       [<Axes: title={'center': 'precision'}, xlabel='majmin'>,\n",
       "        <Axes: title={'center': 'false positive rate'}, xlabel='majmin'>,\n",
       "        <Axes: title={'center': 'false negative rate'}, xlabel='majmin'>],\n",
       "       [<Axes: title={'center': 'selection rate'}, xlabel='majmin'>,\n",
       "        <Axes: title={'center': 'count'}, xlabel='majmin'>,\n",
       "        <Axes: xlabel='majmin'>]], dtype=object)"
      ]
     },
     "execution_count": 69,
     "metadata": {},
     "output_type": "execute_result"
    },
    {
     "data": {
      "image/png": "[encoded data removed]",
      "text/plain": [
       "<Figure size 1200x800 with 9 Axes>"
      ]
     },
     "metadata": {},
     "output_type": "display_data"
    }
   ],
   "source": [
    "# In a graphic\n",
    "metric_frame.by_group.plot.bar(\n",
    "    subplots=True,\n",
    "    layout=[3, 3],\n",
    "    legend=False,\n",
    "    figsize=[12, 8],\n",
    "    title=\"Show all metrics\",\n",
    ")"
   ]
  },
  {
   "cell_type": "markdown",
   "id": "f57a0bac",
   "metadata": {
    "papermill": {
     "duration": 0.029078,
     "end_time": "2025-07-28T11:04:21.878417",
     "exception": false,
     "start_time": "2025-07-28T11:04:21.849339",
     "status": "completed"
    },
    "tags": []
   },
   "source": [
    "# Final Output"
   ]
  },
  {
   "cell_type": "code",
   "execution_count": 70,
   "id": "96d280a3",
   "metadata": {
    "execution": {
     "iopub.execute_input": "2025-07-28T11:04:21.940322Z",
     "iopub.status.busy": "2025-07-28T11:04:21.939458Z",
     "iopub.status.idle": "2025-07-28T11:04:21.948081Z",
     "shell.execute_reply": "2025-07-28T11:04:21.947064Z"
    },
    "papermill": {
     "duration": 0.041863,
     "end_time": "2025-07-28T11:04:21.949830",
     "exception": false,
     "start_time": "2025-07-28T11:04:21.907967",
     "status": "completed"
    },
    "tags": []
   },
   "outputs": [
    {
     "data": {
      "text/plain": [
       "4"
      ]
     },
     "execution_count": 70,
     "metadata": {},
     "output_type": "execute_result"
    }
   ],
   "source": [
    "sub_universes = universe_analysis.generate_sub_universes()\n",
    "len(sub_universes)"
   ]
  },
  {
   "cell_type": "code",
   "execution_count": 71,
   "id": "92adf7ba",
   "metadata": {
    "execution": {
     "iopub.execute_input": "2025-07-28T11:04:22.012580Z",
     "iopub.status.busy": "2025-07-28T11:04:22.011675Z",
     "iopub.status.idle": "2025-07-28T11:04:22.018700Z",
     "shell.execute_reply": "2025-07-28T11:04:22.017660Z"
    },
    "papermill": {
     "duration": 0.04025,
     "end_time": "2025-07-28T11:04:22.020496",
     "exception": false,
     "start_time": "2025-07-28T11:04:21.980246",
     "status": "completed"
    },
    "tags": []
   },
   "outputs": [],
   "source": [
    "def filter_sub_universe_data(sub_universe, org_test):\n",
    "    # Keep all rows — no filtering\n",
    "    keep_rows_mask = np.ones(org_test.shape[0], dtype=bool)\n",
    "\n",
    "    print(f\"[INFO] Keeping all rows: {keep_rows_mask.sum()} rows retained.\")\n",
    "    return keep_rows_mask"
   ]
  },
  {
   "cell_type": "code",
   "execution_count": 72,
   "id": "4a759155",
   "metadata": {
    "execution": {
     "iopub.execute_input": "2025-07-28T11:04:22.083619Z",
     "iopub.status.busy": "2025-07-28T11:04:22.082631Z",
     "iopub.status.idle": "2025-07-28T11:04:33.163503Z",
     "shell.execute_reply": "2025-07-28T11:04:33.162579Z"
    },
    "papermill": {
     "duration": 11.114205,
     "end_time": "2025-07-28T11:04:33.165010",
     "exception": false,
     "start_time": "2025-07-28T11:04:22.050805",
     "status": "completed"
    },
    "tags": []
   },
   "outputs": [
    {
     "name": "stdout",
     "output_type": "stream",
     "text": [
      "Stopping execution_time clock.\n",
      "[INFO] Keeping all rows: 89710 rows retained.\n"
     ]
    },
    {
     "name": "stdout",
     "output_type": "stream",
     "text": [
      "[INFO] Keeping all rows: 89710 rows retained.\n"
     ]
    },
    {
     "name": "stdout",
     "output_type": "stream",
     "text": [
      "[INFO] Keeping all rows: 89710 rows retained.\n"
     ]
    },
    {
     "name": "stdout",
     "output_type": "stream",
     "text": [
      "[INFO] Keeping all rows: 89710 rows retained.\n"
     ]
    },
    {
     "data": {
      "text/html": [
       "<div>\n",
       "<style scoped>\n",
       "    .dataframe tbody tr th:only-of-type {\n",
       "        vertical-align: middle;\n",
       "    }\n",
       "\n",
       "    .dataframe tbody tr th {\n",
       "        vertical-align: top;\n",
       "    }\n",
       "\n",
       "    .dataframe thead th {\n",
       "        text-align: right;\n",
       "    }\n",
       "</style>\n",
       "<table border=\"1\" class=\"dataframe\">\n",
       "  <thead>\n",
       "    <tr style=\"text-align: right;\">\n",
       "      <th></th>\n",
       "      <th>run_no</th>\n",
       "      <th>universe_id</th>\n",
       "      <th>universe_settings</th>\n",
       "      <th>execution_time</th>\n",
       "      <th>test_size_n</th>\n",
       "      <th>test_size_frac</th>\n",
       "      <th>fair_main_equalized_odds_difference</th>\n",
       "      <th>fair_main_equalized_odds_ratio</th>\n",
       "      <th>fair_main_demographic_parity_difference</th>\n",
       "      <th>fair_main_demographic_parity_ratio</th>\n",
       "      <th>...</th>\n",
       "      <th>perf_grp_precision_0</th>\n",
       "      <th>perf_grp_precision_1</th>\n",
       "      <th>perf_grp_false positive rate_0</th>\n",
       "      <th>perf_grp_false positive rate_1</th>\n",
       "      <th>perf_grp_false negative rate_0</th>\n",
       "      <th>perf_grp_false negative rate_1</th>\n",
       "      <th>perf_grp_selection rate_0</th>\n",
       "      <th>perf_grp_selection rate_1</th>\n",
       "      <th>perf_grp_count_0</th>\n",
       "      <th>perf_grp_count_1</th>\n",
       "    </tr>\n",
       "  </thead>\n",
       "  <tbody>\n",
       "    <tr>\n",
       "      <th>0</th>\n",
       "      <td>11</td>\n",
       "      <td>8eaa1a1b4a4ce1c2f590abfb90c38081</td>\n",
       "      <td>{\"cutoff\": \"quantile_0.1\", \"eval_fairness_grou...</td>\n",
       "      <td>32.189336</td>\n",
       "      <td>89710</td>\n",
       "      <td>1.0</td>\n",
       "      <td>0.100595</td>\n",
       "      <td>0.896141</td>\n",
       "      <td>0.091746</td>\n",
       "      <td>0.905488</td>\n",
       "      <td>...</td>\n",
       "      <td>NaN</td>\n",
       "      <td>NaN</td>\n",
       "      <td>NaN</td>\n",
       "      <td>NaN</td>\n",
       "      <td>NaN</td>\n",
       "      <td>NaN</td>\n",
       "      <td>NaN</td>\n",
       "      <td>NaN</td>\n",
       "      <td>NaN</td>\n",
       "      <td>NaN</td>\n",
       "    </tr>\n",
       "    <tr>\n",
       "      <th>0</th>\n",
       "      <td>11</td>\n",
       "      <td>8eaa1a1b4a4ce1c2f590abfb90c38081</td>\n",
       "      <td>{\"cutoff\": \"quantile_0.1\", \"eval_fairness_grou...</td>\n",
       "      <td>32.189336</td>\n",
       "      <td>89710</td>\n",
       "      <td>1.0</td>\n",
       "      <td>0.100595</td>\n",
       "      <td>0.896141</td>\n",
       "      <td>0.091746</td>\n",
       "      <td>0.905488</td>\n",
       "      <td>...</td>\n",
       "      <td>0.117258</td>\n",
       "      <td>0.143010</td>\n",
       "      <td>0.968578</td>\n",
       "      <td>0.867983</td>\n",
       "      <td>0.012669</td>\n",
       "      <td>0.048687</td>\n",
       "      <td>0.97074</td>\n",
       "      <td>0.878994</td>\n",
       "      <td>20540.0</td>\n",
       "      <td>69170.0</td>\n",
       "    </tr>\n",
       "    <tr>\n",
       "      <th>0</th>\n",
       "      <td>11</td>\n",
       "      <td>8eaa1a1b4a4ce1c2f590abfb90c38081</td>\n",
       "      <td>{\"cutoff\": \"quantile_0.25\", \"eval_fairness_gro...</td>\n",
       "      <td>32.189336</td>\n",
       "      <td>89710</td>\n",
       "      <td>1.0</td>\n",
       "      <td>0.236654</td>\n",
       "      <td>0.741107</td>\n",
       "      <td>0.218102</td>\n",
       "      <td>0.762458</td>\n",
       "      <td>...</td>\n",
       "      <td>NaN</td>\n",
       "      <td>NaN</td>\n",
       "      <td>NaN</td>\n",
       "      <td>NaN</td>\n",
       "      <td>NaN</td>\n",
       "      <td>NaN</td>\n",
       "      <td>NaN</td>\n",
       "      <td>NaN</td>\n",
       "      <td>NaN</td>\n",
       "      <td>NaN</td>\n",
       "    </tr>\n",
       "    <tr>\n",
       "      <th>0</th>\n",
       "      <td>11</td>\n",
       "      <td>8eaa1a1b4a4ce1c2f590abfb90c38081</td>\n",
       "      <td>{\"cutoff\": \"quantile_0.25\", \"eval_fairness_gro...</td>\n",
       "      <td>32.189336</td>\n",
       "      <td>89710</td>\n",
       "      <td>1.0</td>\n",
       "      <td>0.236654</td>\n",
       "      <td>0.741107</td>\n",
       "      <td>0.218102</td>\n",
       "      <td>0.762458</td>\n",
       "      <td>...</td>\n",
       "      <td>0.119200</td>\n",
       "      <td>0.160172</td>\n",
       "      <td>0.914099</td>\n",
       "      <td>0.677445</td>\n",
       "      <td>0.050676</td>\n",
       "      <td>0.151422</td>\n",
       "      <td>0.91816</td>\n",
       "      <td>0.700058</td>\n",
       "      <td>20540.0</td>\n",
       "      <td>69170.0</td>\n",
       "    </tr>\n",
       "  </tbody>\n",
       "</table>\n",
       "<p>4 rows × 50 columns</p>\n",
       "</div>"
      ],
      "text/plain": [
       "  run_no                       universe_id  \\\n",
       "0     11  8eaa1a1b4a4ce1c2f590abfb90c38081   \n",
       "0     11  8eaa1a1b4a4ce1c2f590abfb90c38081   \n",
       "0     11  8eaa1a1b4a4ce1c2f590abfb90c38081   \n",
       "0     11  8eaa1a1b4a4ce1c2f590abfb90c38081   \n",
       "\n",
       "                                   universe_settings  execution_time  \\\n",
       "0  {\"cutoff\": \"quantile_0.1\", \"eval_fairness_grou...       32.189336   \n",
       "0  {\"cutoff\": \"quantile_0.1\", \"eval_fairness_grou...       32.189336   \n",
       "0  {\"cutoff\": \"quantile_0.25\", \"eval_fairness_gro...       32.189336   \n",
       "0  {\"cutoff\": \"quantile_0.25\", \"eval_fairness_gro...       32.189336   \n",
       "\n",
       "   test_size_n  test_size_frac  fair_main_equalized_odds_difference  \\\n",
       "0        89710             1.0                             0.100595   \n",
       "0        89710             1.0                             0.100595   \n",
       "0        89710             1.0                             0.236654   \n",
       "0        89710             1.0                             0.236654   \n",
       "\n",
       "   fair_main_equalized_odds_ratio  fair_main_demographic_parity_difference  \\\n",
       "0                        0.896141                                 0.091746   \n",
       "0                        0.896141                                 0.091746   \n",
       "0                        0.741107                                 0.218102   \n",
       "0                        0.741107                                 0.218102   \n",
       "\n",
       "   fair_main_demographic_parity_ratio  ...  perf_grp_precision_0  \\\n",
       "0                            0.905488  ...                   NaN   \n",
       "0                            0.905488  ...              0.117258   \n",
       "0                            0.762458  ...                   NaN   \n",
       "0                            0.762458  ...              0.119200   \n",
       "\n",
       "   perf_grp_precision_1  perf_grp_false positive rate_0  \\\n",
       "0                   NaN                             NaN   \n",
       "0              0.143010                        0.968578   \n",
       "0                   NaN                             NaN   \n",
       "0              0.160172                        0.914099   \n",
       "\n",
       "   perf_grp_false positive rate_1  perf_grp_false negative rate_0  \\\n",
       "0                             NaN                             NaN   \n",
       "0                        0.867983                        0.012669   \n",
       "0                             NaN                             NaN   \n",
       "0                        0.677445                        0.050676   \n",
       "\n",
       "   perf_grp_false negative rate_1  perf_grp_selection rate_0  \\\n",
       "0                             NaN                        NaN   \n",
       "0                        0.048687                    0.97074   \n",
       "0                             NaN                        NaN   \n",
       "0                        0.151422                    0.91816   \n",
       "\n",
       "   perf_grp_selection rate_1  perf_grp_count_0  perf_grp_count_1  \n",
       "0                        NaN               NaN               NaN  \n",
       "0                   0.878994           20540.0           69170.0  \n",
       "0                        NaN               NaN               NaN  \n",
       "0                   0.700058           20540.0           69170.0  \n",
       "\n",
       "[4 rows x 50 columns]"
      ]
     },
     "execution_count": 72,
     "metadata": {},
     "output_type": "execute_result"
    }
   ],
   "source": [
    "final_output = universe_analysis.generate_final_output(\n",
    "    y_pred_prob=probs_test,\n",
    "    y_test=y_true,\n",
    "    org_test=org_test,\n",
    "    filter_data=filter_sub_universe_data,\n",
    "    cp_metrics_df=cp_metrics_df,\n",
    "    save=True,\n",
    ")\n",
    "final_output"
   ]
  },
  {
   "cell_type": "code",
   "execution_count": null,
   "id": "721ff514-cb11-46f8-b6fc-50392f74b5cb",
   "metadata": {
    "papermill": {
     "duration": 0.036582,
     "end_time": "2025-07-28T11:04:33.220469",
     "exception": false,
     "start_time": "2025-07-28T11:04:33.183887",
     "status": "completed"
    },
    "tags": []
   },
   "outputs": [],
   "source": []
  }
 ],
 "metadata": {
  "celltoolbar": "Tags",
  "kernelspec": {
   "display_name": "Python (CMA Fairness)",
   "language": "python",
   "name": "cma_fair_env"
  },
  "language_info": {
   "codemirror_mode": {
    "name": "ipython",
    "version": 3
   },
   "file_extension": ".py",
   "mimetype": "text/x-python",
   "name": "python",
   "nbconvert_exporter": "python",
   "pygments_lexer": "ipython3",
   "version": "3.10.12"
  },
  "papermill": {
   "default_parameters": {},
   "duration": 47.80773,
   "end_time": "2025-07-28T11:04:34.062217",
   "environment_variables": {},
   "exception": null,
   "input_path": "universe_analysis.ipynb",
   "output_path": "output/runs/11/notebooks/m_11-8eaa1a1b4a4ce1c2f590abfb90c38081.ipynb",
   "parameters": {
    "output_dir": "output",
    "run_no": "11",
    "seed": "2023",
    "universe": "{\"cutoff\": [\"quantile_0.1\", \"quantile_0.25\"], \"eval_fairness_grouping\": [\"majority-minority\", \"nationality-all\"], \"exclude_features\": \"age\", \"exclude_subgroups\": \"drop-non-german\", \"model\": \"logreg\", \"scale\": \"do-not-scale\", \"training_size\": \"2014\"}",
    "universe_id": "8eaa1a1b4a4ce1c2f590abfb90c38081"
   },
   "start_time": "2025-07-28T11:03:46.254487",
   "version": "2.6.0"
  }
 },
 "nbformat": 4,
 "nbformat_minor": 5
}