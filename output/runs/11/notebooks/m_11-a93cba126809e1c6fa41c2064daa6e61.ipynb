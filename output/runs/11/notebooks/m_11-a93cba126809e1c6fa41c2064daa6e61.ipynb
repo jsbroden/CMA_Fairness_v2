{
 "cells": [
  {
   "cell_type": "code",
   "execution_count": 1,
   "id": "f159f837-637b-42ba-96b5-ec9a68c44524",
   "metadata": {
    "execution": {
     "iopub.execute_input": "2025-07-28T11:07:12.154147Z",
     "iopub.status.busy": "2025-07-28T11:07:12.153496Z",
     "iopub.status.idle": "2025-07-28T11:07:12.163573Z",
     "shell.execute_reply": "2025-07-28T11:07:12.162687Z"
    },
    "papermill": {
     "duration": 0.023844,
     "end_time": "2025-07-28T11:07:12.165573",
     "exception": false,
     "start_time": "2025-07-28T11:07:12.141729",
     "status": "completed"
    },
    "tags": []
   },
   "outputs": [
    {
     "name": "stdout",
     "output_type": "stream",
     "text": [
      "/dss/dsshome1/0C/ra93lal2/cma/CMA_Fairness_v2\n"
     ]
    },
    {
     "name": "stderr",
     "output_type": "stream",
     "text": [
      "/dss/dsshome1/0C/ra93lal2/.local/share/virtualenvs/CMA_Fairness_v2-3j10GkSs/lib/python3.10/site-packages/IPython/core/magics/osm.py:393: UserWarning: This is now an optional IPython functionality, using bookmarks requires you to install the `pickleshare` library.\n",
      "  bkms = self.shell.db.get('bookmarks', {})\n",
      "/dss/dsshome1/0C/ra93lal2/.local/share/virtualenvs/CMA_Fairness_v2-3j10GkSs/lib/python3.10/site-packages/IPython/core/magics/osm.py:417: UserWarning: This is now an optional IPython functionality, setting dhist requires you to install the `pickleshare` library.\n",
      "  self.shell.db['dhist'] = compress_dhist(dhist)[-100:]\n"
     ]
    }
   ],
   "source": [
    "%cd ~/cma/CMA_Fairness_v2"
   ]
  },
  {
   "cell_type": "markdown",
   "id": "de2603b9",
   "metadata": {
    "papermill": {
     "duration": 0.010061,
     "end_time": "2025-07-28T11:07:12.186305",
     "exception": false,
     "start_time": "2025-07-28T11:07:12.176244",
     "status": "completed"
    },
    "tags": []
   },
   "source": [
    "The following cell holds the definition of our parameters, these values can be overriden by rendering the with e.g. the following command:\n",
    "\n",
    "papermill -p alpha 0.2 -p ratio 0.3 universe_analysis.ipynb output/test_run.ipynb"
   ]
  },
  {
   "cell_type": "code",
   "execution_count": 2,
   "id": "a80968a0-40bb-4fa9-85ef-2d5eefb01975",
   "metadata": {
    "execution": {
     "iopub.execute_input": "2025-07-28T11:07:12.239598Z",
     "iopub.status.busy": "2025-07-28T11:07:12.239056Z",
     "iopub.status.idle": "2025-07-28T11:07:12.244416Z",
     "shell.execute_reply": "2025-07-28T11:07:12.243651Z"
    },
    "papermill": {
     "duration": 0.049124,
     "end_time": "2025-07-28T11:07:12.245811",
     "exception": false,
     "start_time": "2025-07-28T11:07:12.196687",
     "status": "completed"
    },
    "tags": []
   },
   "outputs": [
    {
     "name": "stdout",
     "output_type": "stream",
     "text": [
      "Current working directory: /dss/dsshome1/0C/ra93lal2/cma/CMA_Fairness_v2\n"
     ]
    }
   ],
   "source": [
    "import os\n",
    "print(\"Current working directory:\", os.getcwd())"
   ]
  },
  {
   "cell_type": "code",
   "execution_count": 3,
   "id": "2dce4c03",
   "metadata": {
    "execution": {
     "iopub.execute_input": "2025-07-28T11:07:12.267484Z",
     "iopub.status.busy": "2025-07-28T11:07:12.266681Z",
     "iopub.status.idle": "2025-07-28T11:07:12.275811Z",
     "shell.execute_reply": "2025-07-28T11:07:12.274774Z"
    },
    "papermill": {
     "duration": 0.024587,
     "end_time": "2025-07-28T11:07:12.280699",
     "exception": false,
     "start_time": "2025-07-28T11:07:12.256112",
     "status": "completed"
    },
    "tags": [
     "parameters"
    ]
   },
   "outputs": [],
   "source": [
    "run_no = 0\n",
    "universe_id = \"test\"\n",
    "universe = {\n",
    "    \"training_size\": \"2014\", # \"25k\", \"5k\", \"1k\", \"2014\"\n",
    "    \"scale\": \"scale\", # \"scale\", \"do-not-scale\",\n",
    "    #\"stratify_split\": \"target\", # \"none\", \"target\", \"protected-attribute\", \"both\",\n",
    "    \"model\": \"elasticnet\", # \"logreg\", \"penalized_logreg\", \"rf\", \"gbm\", \"elasticnet\"\n",
    "    \"cutoff\": [\"quantile_0.15\", \"quantile_0.30\"],\n",
    "    \"exclude_features\": \"age\", # \"none\", \"nationality\", \"sex\", \"nationality-sex\", \"age\"\n",
    "    \"exclude_subgroups\": \"keep-all\", # \"keep-all\", \"drop-non-german\"\n",
    "    \"eval_fairness_grouping\": [\"majority-minority\", \"nationality-all\"]\n",
    "}\n",
    "\n",
    "output_dir=\"./output\"\n",
    "seed=0"
   ]
  },
  {
   "cell_type": "code",
   "execution_count": 4,
   "id": "21222360",
   "metadata": {
    "execution": {
     "iopub.execute_input": "2025-07-28T11:07:12.330140Z",
     "iopub.status.busy": "2025-07-28T11:07:12.329683Z",
     "iopub.status.idle": "2025-07-28T11:07:12.336023Z",
     "shell.execute_reply": "2025-07-28T11:07:12.334737Z"
    },
    "papermill": {
     "duration": 0.031873,
     "end_time": "2025-07-28T11:07:12.337920",
     "exception": false,
     "start_time": "2025-07-28T11:07:12.306047",
     "status": "completed"
    },
    "tags": [
     "injected-parameters"
    ]
   },
   "outputs": [],
   "source": [
    "# Parameters\n",
    "universe_id = \"a93cba126809e1c6fa41c2064daa6e61\"\n",
    "run_no = \"11\"\n",
    "universe = \"{\\\"cutoff\\\": [\\\"quantile_0.1\\\", \\\"quantile_0.25\\\"], \\\"eval_fairness_grouping\\\": [\\\"majority-minority\\\", \\\"nationality-all\\\"], \\\"exclude_features\\\": \\\"none\\\", \\\"exclude_subgroups\\\": \\\"drop-non-german\\\", \\\"model\\\": \\\"gbm\\\", \\\"scale\\\": \\\"do-not-scale\\\", \\\"training_size\\\": \\\"2014\\\"}\"\n",
    "output_dir = \"output\"\n",
    "seed = \"2023\"\n"
   ]
  },
  {
   "cell_type": "code",
   "execution_count": 5,
   "id": "1650acaf",
   "metadata": {
    "execution": {
     "iopub.execute_input": "2025-07-28T11:07:12.379914Z",
     "iopub.status.busy": "2025-07-28T11:07:12.379494Z",
     "iopub.status.idle": "2025-07-28T11:07:12.384931Z",
     "shell.execute_reply": "2025-07-28T11:07:12.383921Z"
    },
    "papermill": {
     "duration": 0.029903,
     "end_time": "2025-07-28T11:07:12.387942",
     "exception": false,
     "start_time": "2025-07-28T11:07:12.358039",
     "status": "completed"
    },
    "tags": []
   },
   "outputs": [],
   "source": [
    "import json\n",
    "# Parse universe into dict if it is passed as a string\n",
    "if isinstance(universe, str):\n",
    "    universe = json.loads(universe)"
   ]
  },
  {
   "cell_type": "code",
   "execution_count": 6,
   "id": "16620c48",
   "metadata": {
    "execution": {
     "iopub.execute_input": "2025-07-28T11:07:12.445856Z",
     "iopub.status.busy": "2025-07-28T11:07:12.445438Z",
     "iopub.status.idle": "2025-07-28T11:07:12.494202Z",
     "shell.execute_reply": "2025-07-28T11:07:12.493142Z"
    },
    "papermill": {
     "duration": 0.087196,
     "end_time": "2025-07-28T11:07:12.496514",
     "exception": false,
     "start_time": "2025-07-28T11:07:12.409318",
     "status": "completed"
    },
    "tags": []
   },
   "outputs": [],
   "source": [
    "# Auto-reload the custom package\n",
    "%load_ext autoreload\n",
    "%autoreload 1\n",
    "%aimport fairness_multiverse"
   ]
  },
  {
   "cell_type": "code",
   "execution_count": 7,
   "id": "01c5c9f3",
   "metadata": {
    "execution": {
     "iopub.execute_input": "2025-07-28T11:07:12.555842Z",
     "iopub.status.busy": "2025-07-28T11:07:12.555430Z",
     "iopub.status.idle": "2025-07-28T11:07:17.018578Z",
     "shell.execute_reply": "2025-07-28T11:07:17.017534Z"
    },
    "papermill": {
     "duration": 4.502546,
     "end_time": "2025-07-28T11:07:17.020429",
     "exception": false,
     "start_time": "2025-07-28T11:07:12.517883",
     "status": "completed"
    },
    "tags": []
   },
   "outputs": [],
   "source": [
    "from fairness_multiverse.universe import UniverseAnalysis\n",
    "\n",
    "universe_analysis = UniverseAnalysis(\n",
    "    run_no = run_no,\n",
    "    universe_id = universe_id,\n",
    "    universe = universe,\n",
    "    output_dir=output_dir,\n",
    ")"
   ]
  },
  {
   "cell_type": "code",
   "execution_count": 8,
   "id": "106241f5",
   "metadata": {
    "execution": {
     "iopub.execute_input": "2025-07-28T11:07:17.112128Z",
     "iopub.status.busy": "2025-07-28T11:07:17.110998Z",
     "iopub.status.idle": "2025-07-28T11:07:17.118519Z",
     "shell.execute_reply": "2025-07-28T11:07:17.117476Z"
    },
    "papermill": {
     "duration": 0.047553,
     "end_time": "2025-07-28T11:07:17.120106",
     "exception": false,
     "start_time": "2025-07-28T11:07:17.072553",
     "status": "completed"
    },
    "tags": []
   },
   "outputs": [
    {
     "name": "stdout",
     "output_type": "stream",
     "text": [
      "Using Seed: 2023\n"
     ]
    }
   ],
   "source": [
    "import numpy as np\n",
    "parsed_seed = int(seed)\n",
    "np.random.seed(parsed_seed)\n",
    "print(f\"Using Seed: {parsed_seed}\")"
   ]
  },
  {
   "cell_type": "markdown",
   "id": "e0ebdc57",
   "metadata": {
    "papermill": {
     "duration": 0.035495,
     "end_time": "2025-07-28T11:07:17.198075",
     "exception": false,
     "start_time": "2025-07-28T11:07:17.162580",
     "status": "completed"
    },
    "tags": []
   },
   "source": [
    "# Loading Data"
   ]
  },
  {
   "cell_type": "markdown",
   "id": "681925a3",
   "metadata": {
    "papermill": {
     "duration": 0.047622,
     "end_time": "2025-07-28T11:07:17.280893",
     "exception": false,
     "start_time": "2025-07-28T11:07:17.233271",
     "status": "completed"
    },
    "tags": []
   },
   "source": [
    "Load siab_train, siab_test, siab_calib and/or \n",
    "load siab_train_features, siab_train_labels"
   ]
  },
  {
   "cell_type": "code",
   "execution_count": 9,
   "id": "f0496b8a",
   "metadata": {
    "execution": {
     "iopub.execute_input": "2025-07-28T11:07:17.354975Z",
     "iopub.status.busy": "2025-07-28T11:07:17.354560Z",
     "iopub.status.idle": "2025-07-28T11:07:34.917463Z",
     "shell.execute_reply": "2025-07-28T11:07:34.916109Z"
    },
    "papermill": {
     "duration": 17.601709,
     "end_time": "2025-07-28T11:07:34.919462",
     "exception": false,
     "start_time": "2025-07-28T11:07:17.317753",
     "status": "completed"
    },
    "tags": []
   },
   "outputs": [
    {
     "name": "stdout",
     "output_type": "stream",
     "text": [
      "Loading SIAB data from cache: data/siab_cached.csv.gz\n"
     ]
    },
    {
     "name": "stdout",
     "output_type": "stream",
     "text": [
      "(643690, 164)\n"
     ]
    }
   ],
   "source": [
    "from pathlib import Path\n",
    "import pandas as pd\n",
    "\n",
    "# File paths\n",
    "raw_file = Path(\"data/raw/siab.csv\")\n",
    "cache_file = Path(\"data/siab_cached.csv.gz\")\n",
    "\n",
    "# Ensure cache directory exists\n",
    "cache_file.parent.mkdir(parents=True, exist_ok=True)\n",
    "\n",
    "# Load with simple caching\n",
    "if cache_file.exists():\n",
    "    print(f\"Loading SIAB data from cache: {cache_file}\")\n",
    "    siab = pd.read_csv(cache_file, compression='gzip')\n",
    "else:\n",
    "    print(f\"Cache not found. Reading raw SIAB data: {raw_file}\")\n",
    "    siab = pd.read_csv(raw_file)\n",
    "    siab.to_csv(cache_file, index=False, compression='gzip')\n",
    "    print(f\"Cached SIAB data to: {cache_file}\")\n",
    "\n",
    "# Now use `siab` DataFrame as needed\n",
    "print(siab.shape)"
   ]
  },
  {
   "cell_type": "code",
   "execution_count": 10,
   "id": "db0ca512-5f53-4dba-abdb-a2888bca41ba",
   "metadata": {
    "execution": {
     "iopub.execute_input": "2025-07-28T11:07:35.048922Z",
     "iopub.status.busy": "2025-07-28T11:07:35.046889Z",
     "iopub.status.idle": "2025-07-28T11:07:35.055359Z",
     "shell.execute_reply": "2025-07-28T11:07:35.054365Z"
    },
    "papermill": {
     "duration": 0.081004,
     "end_time": "2025-07-28T11:07:35.057310",
     "exception": false,
     "start_time": "2025-07-28T11:07:34.976306",
     "status": "completed"
    },
    "tags": []
   },
   "outputs": [],
   "source": [
    "#siab"
   ]
  },
  {
   "cell_type": "code",
   "execution_count": 11,
   "id": "a0edb063",
   "metadata": {
    "execution": {
     "iopub.execute_input": "2025-07-28T11:07:35.146843Z",
     "iopub.status.busy": "2025-07-28T11:07:35.146415Z",
     "iopub.status.idle": "2025-07-28T11:07:35.153341Z",
     "shell.execute_reply": "2025-07-28T11:07:35.152302Z"
    },
    "papermill": {
     "duration": 0.052776,
     "end_time": "2025-07-28T11:07:35.155502",
     "exception": false,
     "start_time": "2025-07-28T11:07:35.102726",
     "status": "completed"
    },
    "tags": []
   },
   "outputs": [],
   "source": [
    "#import pandas as pd\n",
    "#\n",
    "#X_train = pd.read_csv(\"./data/X_train.csv\")\n",
    "#y_train = pd.read_csv(\"./data/y_train.csv\")"
   ]
  },
  {
   "cell_type": "code",
   "execution_count": 12,
   "id": "63d08085",
   "metadata": {
    "execution": {
     "iopub.execute_input": "2025-07-28T11:07:35.235666Z",
     "iopub.status.busy": "2025-07-28T11:07:35.235165Z",
     "iopub.status.idle": "2025-07-28T11:07:35.240573Z",
     "shell.execute_reply": "2025-07-28T11:07:35.239586Z"
    },
    "papermill": {
     "duration": 0.047619,
     "end_time": "2025-07-28T11:07:35.244203",
     "exception": false,
     "start_time": "2025-07-28T11:07:35.196584",
     "status": "completed"
    },
    "tags": []
   },
   "outputs": [],
   "source": [
    "#X_test = pd.read_csv(\"./data/X_test.csv\")\n",
    "#y_true = pd.read_csv(\"./data/y_test.csv\")"
   ]
  },
  {
   "cell_type": "code",
   "execution_count": 13,
   "id": "98a8d0fa-1d3d-4ed8-bb2c-281470e24add",
   "metadata": {
    "execution": {
     "iopub.execute_input": "2025-07-28T11:07:35.350847Z",
     "iopub.status.busy": "2025-07-28T11:07:35.350390Z",
     "iopub.status.idle": "2025-07-28T11:07:35.356836Z",
     "shell.execute_reply": "2025-07-28T11:07:35.355898Z"
    },
    "papermill": {
     "duration": 0.05826,
     "end_time": "2025-07-28T11:07:35.358736",
     "exception": false,
     "start_time": "2025-07-28T11:07:35.300476",
     "status": "completed"
    },
    "tags": []
   },
   "outputs": [],
   "source": [
    "# Calibration data for conformal\n",
    "#X_calib = pd.read_csv(\"./data/X_calib.csv\")\n",
    "#y_calib = pd.read_csv(\"./data/y_calib.csv\")"
   ]
  },
  {
   "cell_type": "markdown",
   "id": "9901737e-04df-44f0-9100-f5ad144ed040",
   "metadata": {
    "papermill": {
     "duration": 0.037513,
     "end_time": "2025-07-28T11:07:35.453765",
     "exception": false,
     "start_time": "2025-07-28T11:07:35.416252",
     "status": "completed"
    },
    "tags": []
   },
   "source": [
    "# Splitting Data and Setting Training Data Size"
   ]
  },
  {
   "cell_type": "code",
   "execution_count": 14,
   "id": "acbc8f7d-8fc8-4e86-8c59-5dcb0f58384b",
   "metadata": {
    "execution": {
     "iopub.execute_input": "2025-07-28T11:07:35.552597Z",
     "iopub.status.busy": "2025-07-28T11:07:35.552116Z",
     "iopub.status.idle": "2025-07-28T11:07:35.561097Z",
     "shell.execute_reply": "2025-07-28T11:07:35.560024Z"
    },
    "papermill": {
     "duration": 0.060357,
     "end_time": "2025-07-28T11:07:35.564542",
     "exception": false,
     "start_time": "2025-07-28T11:07:35.504185",
     "status": "completed"
    },
    "tags": []
   },
   "outputs": [],
   "source": [
    "def sample_by_year(df, training_size, random_state=42):\n",
    "    if training_size == \"2014\":\n",
    "        return df[df[\"year\"] == 2014].reset_index(drop=True)\n",
    "    \n",
    "    size_map = {\n",
    "        \"25k\": 5000,\n",
    "        \"5k\": 1000,\n",
    "        \"1k\": 200\n",
    "    }\n",
    "\n",
    "    if training_size not in size_map:\n",
    "        return df.reset_index(drop=True)  # use all data\n",
    "\n",
    "    n_per_year = size_map[training_size]\n",
    "    grouped = df.groupby(\"year\")\n",
    "    sampled = grouped.apply(lambda x: x.sample(n=min(n_per_year, len(x)), random_state=random_state))\n",
    "    return sampled.reset_index(drop=True)"
   ]
  },
  {
   "cell_type": "code",
   "execution_count": 15,
   "id": "6d931f52-beaf-43ff-9e78-9d44a448d54e",
   "metadata": {
    "execution": {
     "iopub.execute_input": "2025-07-28T11:07:35.656438Z",
     "iopub.status.busy": "2025-07-28T11:07:35.655949Z",
     "iopub.status.idle": "2025-07-28T11:07:36.113193Z",
     "shell.execute_reply": "2025-07-28T11:07:36.112088Z"
    },
    "papermill": {
     "duration": 0.498241,
     "end_time": "2025-07-28T11:07:36.115451",
     "exception": false,
     "start_time": "2025-07-28T11:07:35.617210",
     "status": "completed"
    },
    "tags": []
   },
   "outputs": [],
   "source": [
    "siab_s = sample_by_year(siab, universe[\"training_size\"])"
   ]
  },
  {
   "cell_type": "code",
   "execution_count": 16,
   "id": "5db0a40e-a4e2-4920-be85-b12ae061d70d",
   "metadata": {
    "execution": {
     "iopub.execute_input": "2025-07-28T11:07:36.191920Z",
     "iopub.status.busy": "2025-07-28T11:07:36.191488Z",
     "iopub.status.idle": "2025-07-28T11:07:36.226286Z",
     "shell.execute_reply": "2025-07-28T11:07:36.225233Z"
    },
    "papermill": {
     "duration": 0.075897,
     "end_time": "2025-07-28T11:07:36.228538",
     "exception": false,
     "start_time": "2025-07-28T11:07:36.152641",
     "status": "completed"
    },
    "tags": []
   },
   "outputs": [
    {
     "data": {
      "text/plain": [
       "year\n",
       "2014    87158\n",
       "dtype: int64"
      ]
     },
     "metadata": {},
     "output_type": "display_data"
    }
   ],
   "source": [
    "display(siab_s.groupby(\"year\").size())"
   ]
  },
  {
   "cell_type": "code",
   "execution_count": 17,
   "id": "a561edb4-d032-42cb-8256-22eac1111c64",
   "metadata": {
    "execution": {
     "iopub.execute_input": "2025-07-28T11:07:36.326372Z",
     "iopub.status.busy": "2025-07-28T11:07:36.325946Z",
     "iopub.status.idle": "2025-07-28T11:07:37.075435Z",
     "shell.execute_reply": "2025-07-28T11:07:37.074282Z"
    },
    "papermill": {
     "duration": 0.811159,
     "end_time": "2025-07-28T11:07:37.077566",
     "exception": false,
     "start_time": "2025-07-28T11:07:36.266407",
     "status": "completed"
    },
    "tags": []
   },
   "outputs": [],
   "source": [
    "siab_train = siab_s[siab_s.year < 2015]\n",
    "siab_calib = siab[siab.year == 2015]\n",
    "siab_test = siab[siab.year == 2016]"
   ]
  },
  {
   "cell_type": "code",
   "execution_count": 18,
   "id": "472de16f-c3db-4916-846b-1f0de9cf1746",
   "metadata": {
    "execution": {
     "iopub.execute_input": "2025-07-28T11:07:37.188507Z",
     "iopub.status.busy": "2025-07-28T11:07:37.186792Z",
     "iopub.status.idle": "2025-07-28T11:07:37.286103Z",
     "shell.execute_reply": "2025-07-28T11:07:37.284882Z"
    },
    "papermill": {
     "duration": 0.152274,
     "end_time": "2025-07-28T11:07:37.288434",
     "exception": false,
     "start_time": "2025-07-28T11:07:37.136160",
     "status": "completed"
    },
    "tags": []
   },
   "outputs": [],
   "source": [
    "X_train = siab_train.iloc[:,4:164]\n",
    "y_train = siab_train.iloc[:, [3]]"
   ]
  },
  {
   "cell_type": "code",
   "execution_count": 19,
   "id": "828c96af-f43a-4ed6-ba47-8ac73a47d56c",
   "metadata": {
    "execution": {
     "iopub.execute_input": "2025-07-28T11:07:37.376833Z",
     "iopub.status.busy": "2025-07-28T11:07:37.376411Z",
     "iopub.status.idle": "2025-07-28T11:07:37.483886Z",
     "shell.execute_reply": "2025-07-28T11:07:37.482766Z"
    },
    "papermill": {
     "duration": 0.150227,
     "end_time": "2025-07-28T11:07:37.486576",
     "exception": false,
     "start_time": "2025-07-28T11:07:37.336349",
     "status": "completed"
    },
    "tags": []
   },
   "outputs": [],
   "source": [
    "X_calib = siab_calib.iloc[:,4:164]\n",
    "y_calib = siab_calib.iloc[:, [3]]"
   ]
  },
  {
   "cell_type": "code",
   "execution_count": 20,
   "id": "c34be9c3-6bd6-476e-acd3-845840e303be",
   "metadata": {
    "execution": {
     "iopub.execute_input": "2025-07-28T11:07:37.572433Z",
     "iopub.status.busy": "2025-07-28T11:07:37.571938Z",
     "iopub.status.idle": "2025-07-28T11:07:37.650650Z",
     "shell.execute_reply": "2025-07-28T11:07:37.649450Z"
    },
    "papermill": {
     "duration": 0.120767,
     "end_time": "2025-07-28T11:07:37.653092",
     "exception": false,
     "start_time": "2025-07-28T11:07:37.532325",
     "status": "completed"
    },
    "tags": []
   },
   "outputs": [],
   "source": [
    "X_test = siab_test.iloc[:,4:164]\n",
    "y_true = siab_test.iloc[:, [3]]"
   ]
  },
  {
   "cell_type": "code",
   "execution_count": 21,
   "id": "e6c733c5",
   "metadata": {
    "execution": {
     "iopub.execute_input": "2025-07-28T11:07:37.778920Z",
     "iopub.status.busy": "2025-07-28T11:07:37.778457Z",
     "iopub.status.idle": "2025-07-28T11:07:38.098565Z",
     "shell.execute_reply": "2025-07-28T11:07:38.097420Z"
    },
    "papermill": {
     "duration": 0.383928,
     "end_time": "2025-07-28T11:07:38.100680",
     "exception": false,
     "start_time": "2025-07-28T11:07:37.716752",
     "status": "completed"
    },
    "tags": []
   },
   "outputs": [],
   "source": [
    "# Auxiliary data needed downstream in the pipeline\n",
    "\n",
    "org_train = X_train.copy()\n",
    "org_test = X_test.copy()\n",
    "org_calib = X_calib.copy()"
   ]
  },
  {
   "cell_type": "markdown",
   "id": "0a4a1b33",
   "metadata": {
    "papermill": {
     "duration": 0.046369,
     "end_time": "2025-07-28T11:07:38.184783",
     "exception": false,
     "start_time": "2025-07-28T11:07:38.138414",
     "status": "completed"
    },
    "tags": []
   },
   "source": [
    "# Preprocessing Data"
   ]
  },
  {
   "cell_type": "code",
   "execution_count": 22,
   "id": "ca879031",
   "metadata": {
    "execution": {
     "iopub.execute_input": "2025-07-28T11:07:38.277778Z",
     "iopub.status.busy": "2025-07-28T11:07:38.277339Z",
     "iopub.status.idle": "2025-07-28T11:07:38.285431Z",
     "shell.execute_reply": "2025-07-28T11:07:38.284227Z"
    },
    "papermill": {
     "duration": 0.05103,
     "end_time": "2025-07-28T11:07:38.287733",
     "exception": false,
     "start_time": "2025-07-28T11:07:38.236703",
     "status": "completed"
    },
    "tags": []
   },
   "outputs": [],
   "source": [
    "# EXCLUDE PROTECTED FEATURES\n",
    "# ----------------------\n",
    "# \"exclude_features\": \"none\", # \"nationality\", \"sex\", \"nationality-sex\"\n",
    "\n",
    "excluded_features = universe[\"exclude_features\"].split(\"-\") # split, e.g.: \"nationality-sex\" -> [\"nationality\", \"sex\"]\n",
    "excluded_features_dictionary = {\n",
    "    \"nationality\": [\"maxdeutsch1\", \"maxdeutsch.Missing.\"],\n",
    "    \"sex\": [\"frau1\"],\n",
    "    \"age\": [\"age\"],\n",
    "}\n"
   ]
  },
  {
   "cell_type": "code",
   "execution_count": 23,
   "id": "b745ac60",
   "metadata": {
    "execution": {
     "iopub.execute_input": "2025-07-28T11:07:38.371112Z",
     "iopub.status.busy": "2025-07-28T11:07:38.370647Z",
     "iopub.status.idle": "2025-07-28T11:07:38.378408Z",
     "shell.execute_reply": "2025-07-28T11:07:38.377492Z"
    },
    "papermill": {
     "duration": 0.055738,
     "end_time": "2025-07-28T11:07:38.380100",
     "exception": false,
     "start_time": "2025-07-28T11:07:38.324362",
     "status": "completed"
    },
    "tags": []
   },
   "outputs": [],
   "source": [
    "# Code nice names to column names\n",
    "\n",
    "excluded_features_columns = [\n",
    "    excluded_features_dictionary[f] for f in excluded_features if len(f) > 0 and f != \"none\"\n",
    "]"
   ]
  },
  {
   "cell_type": "code",
   "execution_count": 24,
   "id": "f84f73a2",
   "metadata": {
    "execution": {
     "iopub.execute_input": "2025-07-28T11:07:38.442754Z",
     "iopub.status.busy": "2025-07-28T11:07:38.442311Z",
     "iopub.status.idle": "2025-07-28T11:07:38.449327Z",
     "shell.execute_reply": "2025-07-28T11:07:38.448276Z"
    },
    "papermill": {
     "duration": 0.033895,
     "end_time": "2025-07-28T11:07:38.452621",
     "exception": false,
     "start_time": "2025-07-28T11:07:38.418726",
     "status": "completed"
    },
    "tags": []
   },
   "outputs": [],
   "source": [
    "from utils import flatten_once\n",
    "\n",
    "excluded_features_columns = flatten_once(excluded_features_columns)"
   ]
  },
  {
   "cell_type": "code",
   "execution_count": 25,
   "id": "884dea22",
   "metadata": {
    "execution": {
     "iopub.execute_input": "2025-07-28T11:07:38.498086Z",
     "iopub.status.busy": "2025-07-28T11:07:38.497658Z",
     "iopub.status.idle": "2025-07-28T11:07:38.504075Z",
     "shell.execute_reply": "2025-07-28T11:07:38.503097Z"
    },
    "papermill": {
     "duration": 0.032689,
     "end_time": "2025-07-28T11:07:38.507557",
     "exception": false,
     "start_time": "2025-07-28T11:07:38.474868",
     "status": "completed"
    },
    "tags": []
   },
   "outputs": [],
   "source": [
    "if len(excluded_features_columns) > 0:\n",
    "    print(f\"Dropping features: {excluded_features_columns}\")\n",
    "    X_train.drop(excluded_features_columns, axis=1, inplace=True)"
   ]
  },
  {
   "cell_type": "code",
   "execution_count": 26,
   "id": "95ab8b16",
   "metadata": {
    "execution": {
     "iopub.execute_input": "2025-07-28T11:07:38.553981Z",
     "iopub.status.busy": "2025-07-28T11:07:38.553581Z",
     "iopub.status.idle": "2025-07-28T11:07:38.559885Z",
     "shell.execute_reply": "2025-07-28T11:07:38.558764Z"
    },
    "papermill": {
     "duration": 0.032412,
     "end_time": "2025-07-28T11:07:38.563099",
     "exception": false,
     "start_time": "2025-07-28T11:07:38.530687",
     "status": "completed"
    },
    "tags": []
   },
   "outputs": [],
   "source": [
    "if len(excluded_features_columns) > 0:\n",
    "    print(f\"Dropping features: {excluded_features_columns}\")\n",
    "    X_test.drop(excluded_features_columns, axis=1, inplace=True)"
   ]
  },
  {
   "cell_type": "code",
   "execution_count": 27,
   "id": "1853aaf5-fb9f-46cb-a2b5-8ea4ae2237e4",
   "metadata": {
    "execution": {
     "iopub.execute_input": "2025-07-28T11:07:38.614905Z",
     "iopub.status.busy": "2025-07-28T11:07:38.614494Z",
     "iopub.status.idle": "2025-07-28T11:07:38.620719Z",
     "shell.execute_reply": "2025-07-28T11:07:38.619734Z"
    },
    "papermill": {
     "duration": 0.037962,
     "end_time": "2025-07-28T11:07:38.623720",
     "exception": false,
     "start_time": "2025-07-28T11:07:38.585758",
     "status": "completed"
    },
    "tags": []
   },
   "outputs": [],
   "source": [
    "if len(excluded_features_columns) > 0:\n",
    "    print(f\"Dropping features: {excluded_features_columns}\")\n",
    "    X_calib.drop(excluded_features_columns, axis=1, inplace=True)"
   ]
  },
  {
   "cell_type": "code",
   "execution_count": 28,
   "id": "6727d079-03e5-481e-9d38-292a90b7a0a8",
   "metadata": {
    "execution": {
     "iopub.execute_input": "2025-07-28T11:07:38.698111Z",
     "iopub.status.busy": "2025-07-28T11:07:38.697671Z",
     "iopub.status.idle": "2025-07-28T11:07:38.703224Z",
     "shell.execute_reply": "2025-07-28T11:07:38.702123Z"
    },
    "papermill": {
     "duration": 0.033113,
     "end_time": "2025-07-28T11:07:38.706763",
     "exception": false,
     "start_time": "2025-07-28T11:07:38.673650",
     "status": "completed"
    },
    "tags": []
   },
   "outputs": [],
   "source": [
    "# SPLIT & STRATIFY DATA\n",
    "# ----------------------"
   ]
  },
  {
   "cell_type": "code",
   "execution_count": 29,
   "id": "76c4dc6d",
   "metadata": {
    "execution": {
     "iopub.execute_input": "2025-07-28T11:07:38.753480Z",
     "iopub.status.busy": "2025-07-28T11:07:38.753065Z",
     "iopub.status.idle": "2025-07-28T11:07:38.759120Z",
     "shell.execute_reply": "2025-07-28T11:07:38.758071Z"
    },
    "papermill": {
     "duration": 0.032431,
     "end_time": "2025-07-28T11:07:38.762526",
     "exception": false,
     "start_time": "2025-07-28T11:07:38.730095",
     "status": "completed"
    },
    "tags": []
   },
   "outputs": [],
   "source": [
    "# EXCLUDE CERTAIN SUBGROUPS\n",
    "# ----------------------\n",
    "\n",
    "mode = universe.get(\"exclude_subgroups\", \"keep-all\") \n",
    "# Fetches the exclude_subgroups setting from the universe dict.\n",
    "# Defaults to \"keep-all\" if the key is missing."
   ]
  },
  {
   "cell_type": "code",
   "execution_count": 30,
   "id": "21994072",
   "metadata": {
    "execution": {
     "iopub.execute_input": "2025-07-28T11:07:38.810632Z",
     "iopub.status.busy": "2025-07-28T11:07:38.810132Z",
     "iopub.status.idle": "2025-07-28T11:07:38.819417Z",
     "shell.execute_reply": "2025-07-28T11:07:38.818334Z"
    },
    "papermill": {
     "duration": 0.035387,
     "end_time": "2025-07-28T11:07:38.821405",
     "exception": false,
     "start_time": "2025-07-28T11:07:38.786018",
     "status": "completed"
    },
    "tags": []
   },
   "outputs": [],
   "source": [
    "if mode == \"keep-all\":\n",
    "    keep_mask = pd.Series(True, index=org_train.index)\n",
    "\n",
    "# org_train contains the original feature columns from features_org (in Simson)\n",
    "# features_org contains unprocessed features, for me X_train at beginning ???\n",
    "# For keep-all, creates a boolean Series (keep_mask) of all True, so no rows are removed.\n",
    "\n",
    "elif mode == \"drop-non-german\":\n",
    "    keep_mask = org_train[\"maxdeutsch1\"] == 1 # ??? what about missing values?\n",
    "\n",
    "else:\n",
    "    raise ValueError(f\"Unsupported mode for exclude_subgroups: {mode}\")\n"
   ]
  },
  {
   "cell_type": "code",
   "execution_count": 31,
   "id": "71651440",
   "metadata": {
    "execution": {
     "iopub.execute_input": "2025-07-28T11:07:38.891691Z",
     "iopub.status.busy": "2025-07-28T11:07:38.891183Z",
     "iopub.status.idle": "2025-07-28T11:07:38.899483Z",
     "shell.execute_reply": "2025-07-28T11:07:38.898433Z"
    },
    "papermill": {
     "duration": 0.035556,
     "end_time": "2025-07-28T11:07:38.901601",
     "exception": false,
     "start_time": "2025-07-28T11:07:38.866045",
     "status": "completed"
    },
    "tags": []
   },
   "outputs": [
    {
     "name": "stdout",
     "output_type": "stream",
     "text": [
      "Dropping 12995 rows (14.91%) where mode='drop-non-german'\n"
     ]
    }
   ],
   "source": [
    "n_drop = (~keep_mask).sum() # Calculates how many rows are set to be dropped\n",
    "if n_drop > 0:\n",
    "    pct = n_drop / len(keep_mask) * 100\n",
    "    print(f\"Dropping {n_drop} rows ({pct:.2f}%) where mode='{mode}'\")"
   ]
  },
  {
   "cell_type": "code",
   "execution_count": 32,
   "id": "5fb8eee5",
   "metadata": {
    "execution": {
     "iopub.execute_input": "2025-07-28T11:07:38.952655Z",
     "iopub.status.busy": "2025-07-28T11:07:38.952167Z",
     "iopub.status.idle": "2025-07-28T11:07:39.010223Z",
     "shell.execute_reply": "2025-07-28T11:07:39.009336Z"
    },
    "papermill": {
     "duration": 0.086095,
     "end_time": "2025-07-28T11:07:39.012092",
     "exception": false,
     "start_time": "2025-07-28T11:07:38.925997",
     "status": "completed"
    },
    "tags": []
   },
   "outputs": [],
   "source": [
    "X_train = X_train[keep_mask]"
   ]
  },
  {
   "cell_type": "code",
   "execution_count": 33,
   "id": "b202bb3a",
   "metadata": {
    "execution": {
     "iopub.execute_input": "2025-07-28T11:07:39.040706Z",
     "iopub.status.busy": "2025-07-28T11:07:39.040103Z",
     "iopub.status.idle": "2025-07-28T11:07:39.046491Z",
     "shell.execute_reply": "2025-07-28T11:07:39.045725Z"
    },
    "papermill": {
     "duration": 0.021435,
     "end_time": "2025-07-28T11:07:39.047950",
     "exception": false,
     "start_time": "2025-07-28T11:07:39.026515",
     "status": "completed"
    },
    "tags": []
   },
   "outputs": [],
   "source": [
    "y_train = y_train[keep_mask]"
   ]
  },
  {
   "cell_type": "markdown",
   "id": "493e2ac3",
   "metadata": {
    "papermill": {
     "duration": 0.011274,
     "end_time": "2025-07-28T11:07:39.071753",
     "exception": false,
     "start_time": "2025-07-28T11:07:39.060479",
     "status": "completed"
    },
    "tags": []
   },
   "source": [
    "# Model Training"
   ]
  },
  {
   "cell_type": "code",
   "execution_count": 34,
   "id": "679e1268",
   "metadata": {
    "execution": {
     "iopub.execute_input": "2025-07-28T11:07:39.103683Z",
     "iopub.status.busy": "2025-07-28T11:07:39.103050Z",
     "iopub.status.idle": "2025-07-28T11:07:39.203532Z",
     "shell.execute_reply": "2025-07-28T11:07:39.202478Z"
    },
    "papermill": {
     "duration": 0.117848,
     "end_time": "2025-07-28T11:07:39.205465",
     "exception": false,
     "start_time": "2025-07-28T11:07:39.087617",
     "status": "completed"
    },
    "tags": []
   },
   "outputs": [],
   "source": [
    "from sklearn.linear_model import LogisticRegression\n",
    "from sklearn.ensemble import GradientBoostingClassifier, RandomForestClassifier\n",
    "\n",
    "if (universe[\"model\"] == \"logreg\"):\n",
    "    model = LogisticRegression() #penalty=\"none\") #, solver=\"newton-cg\", max_iter=1) # include random_state=19 ?\n",
    "elif (universe[\"model\"] == \"penalized_logreg\"):\n",
    "    model = LogisticRegression(penalty=\"l2\", C=1.0) #, solver=\"newton-cg\", max_iter=1)\n",
    "elif (universe[\"model\"] == \"rf\"):\n",
    "    model = RandomForestClassifier(n_estimators=100, n_jobs=-1)\n",
    "elif (universe[\"model\"] == \"gbm\"):\n",
    "    model = GradientBoostingClassifier()\n",
    "elif (universe[\"model\"] == \"elasticnet\"):\n",
    "    model = LogisticRegression(penalty = 'elasticnet', solver = 'saga', l1_ratio = 0.5, max_iter=5000) # which solver to use?\n",
    "else:\n",
    "    raise \"Unsupported universe.model\""
   ]
  },
  {
   "cell_type": "code",
   "execution_count": 35,
   "id": "0cc8f744",
   "metadata": {
    "execution": {
     "iopub.execute_input": "2025-07-28T11:07:39.253394Z",
     "iopub.status.busy": "2025-07-28T11:07:39.251895Z",
     "iopub.status.idle": "2025-07-28T11:07:39.259992Z",
     "shell.execute_reply": "2025-07-28T11:07:39.258979Z"
    },
    "papermill": {
     "duration": 0.034903,
     "end_time": "2025-07-28T11:07:39.261794",
     "exception": false,
     "start_time": "2025-07-28T11:07:39.226891",
     "status": "completed"
    },
    "tags": []
   },
   "outputs": [],
   "source": [
    "import numpy as np\n",
    "from sklearn.pipeline import Pipeline\n",
    "from sklearn.preprocessing import StandardScaler\n",
    "\n",
    "model = Pipeline([\n",
    "    #(\"continuous_processor\", continuous_processor),\n",
    "    #(\"categorical_preprocessor\", categorical_preprocessor),\n",
    "    (\"scale\", StandardScaler() if universe[\"scale\"] == \"scale\" else None), \n",
    "    (\"model\", model),\n",
    "])"
   ]
  },
  {
   "cell_type": "code",
   "execution_count": 36,
   "id": "9442c04d",
   "metadata": {
    "execution": {
     "iopub.execute_input": "2025-07-28T11:07:39.309860Z",
     "iopub.status.busy": "2025-07-28T11:07:39.309085Z",
     "iopub.status.idle": "2025-07-28T11:09:22.616686Z",
     "shell.execute_reply": "2025-07-28T11:09:22.603050Z"
    },
    "papermill": {
     "duration": 103.344373,
     "end_time": "2025-07-28T11:09:22.628264",
     "exception": false,
     "start_time": "2025-07-28T11:07:39.283891",
     "status": "completed"
    },
    "tags": []
   },
   "outputs": [
    {
     "data": {
      "text/html": [
       "<style>#sk-container-id-1 {color: black;background-color: white;}#sk-container-id-1 pre{padding: 0;}#sk-container-id-1 div.sk-toggleable {background-color: white;}#sk-container-id-1 label.sk-toggleable__label {cursor: pointer;display: block;width: 100%;margin-bottom: 0;padding: 0.3em;box-sizing: border-box;text-align: center;}#sk-container-id-1 label.sk-toggleable__label-arrow:before {content: \"▸\";float: left;margin-right: 0.25em;color: #696969;}#sk-container-id-1 label.sk-toggleable__label-arrow:hover:before {color: black;}#sk-container-id-1 div.sk-estimator:hover label.sk-toggleable__label-arrow:before {color: black;}#sk-container-id-1 div.sk-toggleable__content {max-height: 0;max-width: 0;overflow: hidden;text-align: left;background-color: #f0f8ff;}#sk-container-id-1 div.sk-toggleable__content pre {margin: 0.2em;color: black;border-radius: 0.25em;background-color: #f0f8ff;}#sk-container-id-1 input.sk-toggleable__control:checked~div.sk-toggleable__content {max-height: 200px;max-width: 100%;overflow: auto;}#sk-container-id-1 input.sk-toggleable__control:checked~label.sk-toggleable__label-arrow:before {content: \"▾\";}#sk-container-id-1 div.sk-estimator input.sk-toggleable__control:checked~label.sk-toggleable__label {background-color: #d4ebff;}#sk-container-id-1 div.sk-label input.sk-toggleable__control:checked~label.sk-toggleable__label {background-color: #d4ebff;}#sk-container-id-1 input.sk-hidden--visually {border: 0;clip: rect(1px 1px 1px 1px);clip: rect(1px, 1px, 1px, 1px);height: 1px;margin: -1px;overflow: hidden;padding: 0;position: absolute;width: 1px;}#sk-container-id-1 div.sk-estimator {font-family: monospace;background-color: #f0f8ff;border: 1px dotted black;border-radius: 0.25em;box-sizing: border-box;margin-bottom: 0.5em;}#sk-container-id-1 div.sk-estimator:hover {background-color: #d4ebff;}#sk-container-id-1 div.sk-parallel-item::after {content: \"\";width: 100%;border-bottom: 1px solid gray;flex-grow: 1;}#sk-container-id-1 div.sk-label:hover label.sk-toggleable__label {background-color: #d4ebff;}#sk-container-id-1 div.sk-serial::before {content: \"\";position: absolute;border-left: 1px solid gray;box-sizing: border-box;top: 0;bottom: 0;left: 50%;z-index: 0;}#sk-container-id-1 div.sk-serial {display: flex;flex-direction: column;align-items: center;background-color: white;padding-right: 0.2em;padding-left: 0.2em;position: relative;}#sk-container-id-1 div.sk-item {position: relative;z-index: 1;}#sk-container-id-1 div.sk-parallel {display: flex;align-items: stretch;justify-content: center;background-color: white;position: relative;}#sk-container-id-1 div.sk-item::before, #sk-container-id-1 div.sk-parallel-item::before {content: \"\";position: absolute;border-left: 1px solid gray;box-sizing: border-box;top: 0;bottom: 0;left: 50%;z-index: -1;}#sk-container-id-1 div.sk-parallel-item {display: flex;flex-direction: column;z-index: 1;position: relative;background-color: white;}#sk-container-id-1 div.sk-parallel-item:first-child::after {align-self: flex-end;width: 50%;}#sk-container-id-1 div.sk-parallel-item:last-child::after {align-self: flex-start;width: 50%;}#sk-container-id-1 div.sk-parallel-item:only-child::after {width: 0;}#sk-container-id-1 div.sk-dashed-wrapped {border: 1px dashed gray;margin: 0 0.4em 0.5em 0.4em;box-sizing: border-box;padding-bottom: 0.4em;background-color: white;}#sk-container-id-1 div.sk-label label {font-family: monospace;font-weight: bold;display: inline-block;line-height: 1.2em;}#sk-container-id-1 div.sk-label-container {text-align: center;}#sk-container-id-1 div.sk-container {/* jupyter's `normalize.less` sets `[hidden] { display: none; }` but bootstrap.min.css set `[hidden] { display: none !important; }` so we also need the `!important` here to be able to override the default hidden behavior on the sphinx rendered scikit-learn.org. See: https://github.com/scikit-learn/scikit-learn/issues/21755 */display: inline-block !important;position: relative;}#sk-container-id-1 div.sk-text-repr-fallback {display: none;}</style><div id=\"sk-container-id-1\" class=\"sk-top-container\"><div class=\"sk-text-repr-fallback\"><pre>Pipeline(steps=[(&#x27;scale&#x27;, None), (&#x27;model&#x27;, GradientBoostingClassifier())])</pre><b>In a Jupyter environment, please rerun this cell to show the HTML representation or trust the notebook. <br />On GitHub, the HTML representation is unable to render, please try loading this page with nbviewer.org.</b></div><div class=\"sk-container\" hidden><div class=\"sk-item sk-dashed-wrapped\"><div class=\"sk-label-container\"><div class=\"sk-label sk-toggleable\"><input class=\"sk-toggleable__control sk-hidden--visually\" id=\"sk-estimator-id-1\" type=\"checkbox\" ><label for=\"sk-estimator-id-1\" class=\"sk-toggleable__label sk-toggleable__label-arrow\">Pipeline</label><div class=\"sk-toggleable__content\"><pre>Pipeline(steps=[(&#x27;scale&#x27;, None), (&#x27;model&#x27;, GradientBoostingClassifier())])</pre></div></div></div><div class=\"sk-serial\"><div class=\"sk-item\"><div class=\"sk-estimator sk-toggleable\"><input class=\"sk-toggleable__control sk-hidden--visually\" id=\"sk-estimator-id-2\" type=\"checkbox\" ><label for=\"sk-estimator-id-2\" class=\"sk-toggleable__label sk-toggleable__label-arrow\">None</label><div class=\"sk-toggleable__content\"><pre>None</pre></div></div></div><div class=\"sk-item\"><div class=\"sk-estimator sk-toggleable\"><input class=\"sk-toggleable__control sk-hidden--visually\" id=\"sk-estimator-id-3\" type=\"checkbox\" ><label for=\"sk-estimator-id-3\" class=\"sk-toggleable__label sk-toggleable__label-arrow\">GradientBoostingClassifier</label><div class=\"sk-toggleable__content\"><pre>GradientBoostingClassifier()</pre></div></div></div></div></div></div></div>"
      ],
      "text/plain": [
       "Pipeline(steps=[('scale', None), ('model', GradientBoostingClassifier())])"
      ]
     },
     "execution_count": 36,
     "metadata": {},
     "output_type": "execute_result"
    }
   ],
   "source": [
    "model.fit(X_train, y_train.values.ravel())"
   ]
  },
  {
   "cell_type": "code",
   "execution_count": 37,
   "id": "af59f8c0",
   "metadata": {
    "execution": {
     "iopub.execute_input": "2025-07-28T11:09:22.677597Z",
     "iopub.status.busy": "2025-07-28T11:09:22.676824Z",
     "iopub.status.idle": "2025-07-28T11:09:22.683321Z",
     "shell.execute_reply": "2025-07-28T11:09:22.682205Z"
    },
    "papermill": {
     "duration": 0.033091,
     "end_time": "2025-07-28T11:09:22.685072",
     "exception": false,
     "start_time": "2025-07-28T11:09:22.651981",
     "status": "completed"
    },
    "tags": []
   },
   "outputs": [],
   "source": [
    "from fairness_multiverse.universe import predict_w_threshold"
   ]
  },
  {
   "cell_type": "code",
   "execution_count": 38,
   "id": "a7cf2e16",
   "metadata": {
    "execution": {
     "iopub.execute_input": "2025-07-28T11:09:22.734599Z",
     "iopub.status.busy": "2025-07-28T11:09:22.733600Z",
     "iopub.status.idle": "2025-07-28T11:09:23.495651Z",
     "shell.execute_reply": "2025-07-28T11:09:23.494642Z"
    },
    "papermill": {
     "duration": 0.789077,
     "end_time": "2025-07-28T11:09:23.498024",
     "exception": false,
     "start_time": "2025-07-28T11:09:22.708947",
     "status": "completed"
    },
    "tags": []
   },
   "outputs": [
    {
     "data": {
      "text/plain": [
       "0.8717311336528815"
      ]
     },
     "execution_count": 38,
     "metadata": {},
     "output_type": "execute_result"
    }
   ],
   "source": [
    "probs_test = model.predict_proba(X_test)\n",
    "\n",
    "'''\n",
    "Below code returns a boolean array (or binary 0/1 array depending on how it’s used) where each element \n",
    "is True if the probability of class 1 is greater than or equal to the threshold, and False otherwise.\n",
    "'''\n",
    "y_pred_default = predict_w_threshold(probs_test, 0.5)\n",
    "\n",
    "from sklearn.metrics import accuracy_score\n",
    "\n",
    "# Naive prediction\n",
    "accuracy_score(y_true = y_true, y_pred = y_pred_default)"
   ]
  },
  {
   "cell_type": "code",
   "execution_count": 39,
   "id": "081964c3",
   "metadata": {
    "execution": {
     "iopub.execute_input": "2025-07-28T11:09:23.550091Z",
     "iopub.status.busy": "2025-07-28T11:09:23.549316Z",
     "iopub.status.idle": "2025-07-28T11:09:24.256530Z",
     "shell.execute_reply": "2025-07-28T11:09:24.255417Z"
    },
    "papermill": {
     "duration": 0.735117,
     "end_time": "2025-07-28T11:09:24.258703",
     "exception": false,
     "start_time": "2025-07-28T11:09:23.523586",
     "status": "completed"
    },
    "tags": []
   },
   "outputs": [
    {
     "data": {
      "text/plain": [
       "array([0, 0, 0, ..., 0, 0, 0])"
      ]
     },
     "execution_count": 39,
     "metadata": {},
     "output_type": "execute_result"
    }
   ],
   "source": [
    "model.predict(X_test)"
   ]
  },
  {
   "cell_type": "markdown",
   "id": "56c9705b",
   "metadata": {
    "papermill": {
     "duration": 0.024467,
     "end_time": "2025-07-28T11:09:24.307394",
     "exception": false,
     "start_time": "2025-07-28T11:09:24.282927",
     "status": "completed"
    },
    "tags": []
   },
   "source": [
    "# Conformal Prediction"
   ]
  },
  {
   "cell_type": "code",
   "execution_count": 40,
   "id": "160ec6ff",
   "metadata": {
    "execution": {
     "iopub.execute_input": "2025-07-28T11:09:24.356823Z",
     "iopub.status.busy": "2025-07-28T11:09:24.355955Z",
     "iopub.status.idle": "2025-07-28T11:09:24.361688Z",
     "shell.execute_reply": "2025-07-28T11:09:24.360664Z"
    },
    "papermill": {
     "duration": 0.03272,
     "end_time": "2025-07-28T11:09:24.363444",
     "exception": false,
     "start_time": "2025-07-28T11:09:24.330724",
     "status": "completed"
    },
    "tags": []
   },
   "outputs": [],
   "source": [
    "# Miscoverage level for conformal prediction (10% allowed error rate => 90% target coverage)\n",
    "alpha = 0.1"
   ]
  },
  {
   "cell_type": "code",
   "execution_count": 41,
   "id": "eadf4555-3dd3-440e-8e35-f82a4ad9f855",
   "metadata": {
    "execution": {
     "iopub.execute_input": "2025-07-28T11:09:24.416206Z",
     "iopub.status.busy": "2025-07-28T11:09:24.415407Z",
     "iopub.status.idle": "2025-07-28T11:09:25.103454Z",
     "shell.execute_reply": "2025-07-28T11:09:25.102415Z"
    },
    "papermill": {
     "duration": 0.717367,
     "end_time": "2025-07-28T11:09:25.105630",
     "exception": false,
     "start_time": "2025-07-28T11:09:24.388263",
     "status": "completed"
    },
    "tags": []
   },
   "outputs": [],
   "source": [
    "probs_calib = model.predict_proba(X_calib)"
   ]
  },
  {
   "cell_type": "code",
   "execution_count": 42,
   "id": "2ed93547-6d5d-4983-9b36-1ecb300da49a",
   "metadata": {
    "execution": {
     "iopub.execute_input": "2025-07-28T11:09:25.155728Z",
     "iopub.status.busy": "2025-07-28T11:09:25.155015Z",
     "iopub.status.idle": "2025-07-28T11:09:25.161179Z",
     "shell.execute_reply": "2025-07-28T11:09:25.160063Z"
    },
    "papermill": {
     "duration": 0.032666,
     "end_time": "2025-07-28T11:09:25.162822",
     "exception": false,
     "start_time": "2025-07-28T11:09:25.130156",
     "status": "completed"
    },
    "tags": []
   },
   "outputs": [],
   "source": [
    "y_calib = y_calib.values.ravel().astype(int)"
   ]
  },
  {
   "cell_type": "code",
   "execution_count": 43,
   "id": "65d1320d-f588-4b38-9072-62af1ae97f7d",
   "metadata": {
    "execution": {
     "iopub.execute_input": "2025-07-28T11:09:25.212797Z",
     "iopub.status.busy": "2025-07-28T11:09:25.211973Z",
     "iopub.status.idle": "2025-07-28T11:09:25.220472Z",
     "shell.execute_reply": "2025-07-28T11:09:25.219448Z"
    },
    "papermill": {
     "duration": 0.035711,
     "end_time": "2025-07-28T11:09:25.222334",
     "exception": false,
     "start_time": "2025-07-28T11:09:25.186623",
     "status": "completed"
    },
    "tags": []
   },
   "outputs": [],
   "source": [
    "from fairness_multiverse.conformal import compute_nc_scores\n",
    "\n",
    "# Compute nonconformity scores on calibration set (1 - probability of true class)\n",
    "nc_scores = compute_nc_scores(probs_calib, y_calib)"
   ]
  },
  {
   "cell_type": "code",
   "execution_count": 44,
   "id": "df3b8ca3-53b7-43d5-9667-7c85da7aeda2",
   "metadata": {
    "execution": {
     "iopub.execute_input": "2025-07-28T11:09:25.273489Z",
     "iopub.status.busy": "2025-07-28T11:09:25.272677Z",
     "iopub.status.idle": "2025-07-28T11:09:25.280255Z",
     "shell.execute_reply": "2025-07-28T11:09:25.279249Z"
    },
    "papermill": {
     "duration": 0.035388,
     "end_time": "2025-07-28T11:09:25.282154",
     "exception": false,
     "start_time": "2025-07-28T11:09:25.246766",
     "status": "completed"
    },
    "tags": []
   },
   "outputs": [],
   "source": [
    "from fairness_multiverse.conformal import find_threshold\n",
    "\n",
    "# Find conformal threshold q_hat for the given alpha (split conformal method)\n",
    "q_hat = find_threshold(nc_scores, alpha)"
   ]
  },
  {
   "cell_type": "code",
   "execution_count": 45,
   "id": "4d29e6c1-0ef6-4aa4-b8fe-4fe79b0d033a",
   "metadata": {
    "execution": {
     "iopub.execute_input": "2025-07-28T11:09:25.334357Z",
     "iopub.status.busy": "2025-07-28T11:09:25.333670Z",
     "iopub.status.idle": "2025-07-28T11:09:25.341824Z",
     "shell.execute_reply": "2025-07-28T11:09:25.340968Z"
    },
    "papermill": {
     "duration": 0.035532,
     "end_time": "2025-07-28T11:09:25.343411",
     "exception": false,
     "start_time": "2025-07-28T11:09:25.307879",
     "status": "completed"
    },
    "tags": []
   },
   "outputs": [
    {
     "data": {
      "text/plain": [
       "0.6647254173725851"
      ]
     },
     "execution_count": 45,
     "metadata": {},
     "output_type": "execute_result"
    }
   ],
   "source": [
    "q_hat"
   ]
  },
  {
   "cell_type": "code",
   "execution_count": 46,
   "id": "92460794-cdac-4be2-ba28-f28c0515a6fb",
   "metadata": {
    "execution": {
     "iopub.execute_input": "2025-07-28T11:09:25.395272Z",
     "iopub.status.busy": "2025-07-28T11:09:25.394529Z",
     "iopub.status.idle": "2025-07-28T11:09:26.857968Z",
     "shell.execute_reply": "2025-07-28T11:09:26.856954Z"
    },
    "papermill": {
     "duration": 1.491036,
     "end_time": "2025-07-28T11:09:26.860079",
     "exception": false,
     "start_time": "2025-07-28T11:09:25.369043",
     "status": "completed"
    },
    "tags": []
   },
   "outputs": [],
   "source": [
    "from fairness_multiverse.conformal import predict_conformal_sets\n",
    "\n",
    "# Generate prediction sets for each test example\n",
    "pred_sets = predict_conformal_sets(model, X_test, q_hat)"
   ]
  },
  {
   "cell_type": "code",
   "execution_count": 47,
   "id": "d90c9a65-e6db-4f5d-80cd-e68fb7e46829",
   "metadata": {
    "execution": {
     "iopub.execute_input": "2025-07-28T11:09:26.914519Z",
     "iopub.status.busy": "2025-07-28T11:09:26.913759Z",
     "iopub.status.idle": "2025-07-28T11:09:26.919700Z",
     "shell.execute_reply": "2025-07-28T11:09:26.918653Z"
    },
    "papermill": {
     "duration": 0.034909,
     "end_time": "2025-07-28T11:09:26.921614",
     "exception": false,
     "start_time": "2025-07-28T11:09:26.886705",
     "status": "completed"
    },
    "tags": []
   },
   "outputs": [],
   "source": [
    "y_true = y_true.squeeze()"
   ]
  },
  {
   "cell_type": "code",
   "execution_count": 48,
   "id": "3a58a54a-1e68-46b9-927a-df01f18aebc8",
   "metadata": {
    "execution": {
     "iopub.execute_input": "2025-07-28T11:09:26.973058Z",
     "iopub.status.busy": "2025-07-28T11:09:26.972277Z",
     "iopub.status.idle": "2025-07-28T11:09:28.061887Z",
     "shell.execute_reply": "2025-07-28T11:09:28.060873Z"
    },
    "papermill": {
     "duration": 1.118215,
     "end_time": "2025-07-28T11:09:28.063983",
     "exception": false,
     "start_time": "2025-07-28T11:09:26.945768",
     "status": "completed"
    },
    "tags": []
   },
   "outputs": [],
   "source": [
    "from fairness_multiverse.conformal import evaluate_sets\n",
    "\n",
    "# Evaluate coverage and average set size on test data\n",
    "metrics = evaluate_sets(pred_sets, y_true)"
   ]
  },
  {
   "cell_type": "markdown",
   "id": "2b569c12-9aaa-4c88-98c9-bbcd0cf3ebb8",
   "metadata": {
    "papermill": {
     "duration": 0.025005,
     "end_time": "2025-07-28T11:09:28.114010",
     "exception": false,
     "start_time": "2025-07-28T11:09:28.089005",
     "status": "completed"
    },
    "tags": []
   },
   "source": [
    "# CP Metrics"
   ]
  },
  {
   "cell_type": "code",
   "execution_count": 49,
   "id": "5ce0a5cb-201f-45a0-ade5-94c7f0bd6095",
   "metadata": {
    "execution": {
     "iopub.execute_input": "2025-07-28T11:09:28.166017Z",
     "iopub.status.busy": "2025-07-28T11:09:28.165346Z",
     "iopub.status.idle": "2025-07-28T11:09:28.173308Z",
     "shell.execute_reply": "2025-07-28T11:09:28.172259Z"
    },
    "papermill": {
     "duration": 0.035946,
     "end_time": "2025-07-28T11:09:28.175124",
     "exception": false,
     "start_time": "2025-07-28T11:09:28.139178",
     "status": "completed"
    },
    "tags": []
   },
   "outputs": [
    {
     "data": {
      "text/plain": [
       "{'coverage': 0.9110690001114703, 'avg_size': 1.1080035670493813}"
      ]
     },
     "execution_count": 49,
     "metadata": {},
     "output_type": "execute_result"
    }
   ],
   "source": [
    "metrics"
   ]
  },
  {
   "cell_type": "code",
   "execution_count": 50,
   "id": "9b9a838d-31c9-430b-ae14-12baee460d17",
   "metadata": {
    "execution": {
     "iopub.execute_input": "2025-07-28T11:09:28.227047Z",
     "iopub.status.busy": "2025-07-28T11:09:28.226319Z",
     "iopub.status.idle": "2025-07-28T11:09:28.233594Z",
     "shell.execute_reply": "2025-07-28T11:09:28.232424Z"
    },
    "papermill": {
     "duration": 0.034699,
     "end_time": "2025-07-28T11:09:28.235361",
     "exception": false,
     "start_time": "2025-07-28T11:09:28.200662",
     "status": "completed"
    },
    "tags": []
   },
   "outputs": [],
   "source": [
    "example_universe = universe.copy()\n",
    "universe_training_size = example_universe.get(\"training_size\")\n",
    "universe_scale = example_universe.get(\"scale\")\n",
    "universe_model = example_universe.get(\"model\")\n",
    "universe_exclude_features = example_universe.get(\"exclude_features\")\n",
    "universe_exclude_subgroups = example_universe.get(\"exclude_subgroups\")"
   ]
  },
  {
   "cell_type": "code",
   "execution_count": 51,
   "id": "f4b6a8ac-9dc0-4245-8a91-5b3b5999c4f9",
   "metadata": {
    "execution": {
     "iopub.execute_input": "2025-07-28T11:09:28.287409Z",
     "iopub.status.busy": "2025-07-28T11:09:28.286707Z",
     "iopub.status.idle": "2025-07-28T11:09:28.293796Z",
     "shell.execute_reply": "2025-07-28T11:09:28.292786Z"
    },
    "papermill": {
     "duration": 0.034849,
     "end_time": "2025-07-28T11:09:28.295588",
     "exception": false,
     "start_time": "2025-07-28T11:09:28.260739",
     "status": "completed"
    },
    "tags": []
   },
   "outputs": [],
   "source": [
    "cp_metrics_dict = {\n",
    "    \"universe_id\": [universe_id],\n",
    "    \"universe_training_size\": [universe_training_size],\n",
    "    \"universe_scale\": [universe_scale],\n",
    "    \"universe_model\": [universe_model],\n",
    "    \"universe_exclude_features\": [universe_exclude_features],\n",
    "    \"universe_exclude_subgroups\": [universe_exclude_subgroups],\n",
    "    \"q_hat\": [q_hat],\n",
    "    \"coverage\": [metrics[\"coverage\"]],\n",
    "    \"avg_size\": [metrics[\"avg_size\"]],\n",
    "}"
   ]
  },
  {
   "cell_type": "code",
   "execution_count": 52,
   "id": "908acbb1-0371-4915-85ca-3fa520d2efe2",
   "metadata": {
    "execution": {
     "iopub.execute_input": "2025-07-28T11:09:28.347374Z",
     "iopub.status.busy": "2025-07-28T11:09:28.346659Z",
     "iopub.status.idle": "2025-07-28T11:09:28.355499Z",
     "shell.execute_reply": "2025-07-28T11:09:28.354562Z"
    },
    "papermill": {
     "duration": 0.036743,
     "end_time": "2025-07-28T11:09:28.357368",
     "exception": false,
     "start_time": "2025-07-28T11:09:28.320625",
     "status": "completed"
    },
    "tags": []
   },
   "outputs": [
    {
     "data": {
      "text/plain": [
       "{'universe_id': ['a93cba126809e1c6fa41c2064daa6e61'],\n",
       " 'universe_training_size': ['2014'],\n",
       " 'universe_scale': ['do-not-scale'],\n",
       " 'universe_model': ['gbm'],\n",
       " 'universe_exclude_features': ['none'],\n",
       " 'universe_exclude_subgroups': ['drop-non-german'],\n",
       " 'q_hat': [0.6647254173725851],\n",
       " 'coverage': [0.9110690001114703],\n",
       " 'avg_size': [1.1080035670493813]}"
      ]
     },
     "execution_count": 52,
     "metadata": {},
     "output_type": "execute_result"
    }
   ],
   "source": [
    "cp_metrics_dict"
   ]
  },
  {
   "cell_type": "code",
   "execution_count": 53,
   "id": "33007efc-14e9-4ec6-97ac-56a455c82265",
   "metadata": {
    "execution": {
     "iopub.execute_input": "2025-07-28T11:09:28.412502Z",
     "iopub.status.busy": "2025-07-28T11:09:28.411719Z",
     "iopub.status.idle": "2025-07-28T11:09:28.418679Z",
     "shell.execute_reply": "2025-07-28T11:09:28.417601Z"
    },
    "papermill": {
     "duration": 0.036334,
     "end_time": "2025-07-28T11:09:28.420492",
     "exception": false,
     "start_time": "2025-07-28T11:09:28.384158",
     "status": "completed"
    },
    "tags": []
   },
   "outputs": [],
   "source": [
    "cp_metrics_df = pd.DataFrame(cp_metrics_dict)"
   ]
  },
  {
   "cell_type": "code",
   "execution_count": 54,
   "id": "db12611b-57b2-4910-b9d0-355adfd6e7bf",
   "metadata": {
    "execution": {
     "iopub.execute_input": "2025-07-28T11:09:28.474694Z",
     "iopub.status.busy": "2025-07-28T11:09:28.473803Z",
     "iopub.status.idle": "2025-07-28T11:09:28.493586Z",
     "shell.execute_reply": "2025-07-28T11:09:28.492492Z"
    },
    "papermill": {
     "duration": 0.049125,
     "end_time": "2025-07-28T11:09:28.495495",
     "exception": false,
     "start_time": "2025-07-28T11:09:28.446370",
     "status": "completed"
    },
    "tags": []
   },
   "outputs": [
    {
     "data": {
      "text/html": [
       "<div>\n",
       "<style scoped>\n",
       "    .dataframe tbody tr th:only-of-type {\n",
       "        vertical-align: middle;\n",
       "    }\n",
       "\n",
       "    .dataframe tbody tr th {\n",
       "        vertical-align: top;\n",
       "    }\n",
       "\n",
       "    .dataframe thead th {\n",
       "        text-align: right;\n",
       "    }\n",
       "</style>\n",
       "<table border=\"1\" class=\"dataframe\">\n",
       "  <thead>\n",
       "    <tr style=\"text-align: right;\">\n",
       "      <th></th>\n",
       "      <th>universe_id</th>\n",
       "      <th>universe_training_size</th>\n",
       "      <th>universe_scale</th>\n",
       "      <th>universe_model</th>\n",
       "      <th>universe_exclude_features</th>\n",
       "      <th>universe_exclude_subgroups</th>\n",
       "      <th>q_hat</th>\n",
       "      <th>coverage</th>\n",
       "      <th>avg_size</th>\n",
       "    </tr>\n",
       "  </thead>\n",
       "  <tbody>\n",
       "    <tr>\n",
       "      <th>0</th>\n",
       "      <td>a93cba126809e1c6fa41c2064daa6e61</td>\n",
       "      <td>2014</td>\n",
       "      <td>do-not-scale</td>\n",
       "      <td>gbm</td>\n",
       "      <td>none</td>\n",
       "      <td>drop-non-german</td>\n",
       "      <td>0.664725</td>\n",
       "      <td>0.911069</td>\n",
       "      <td>1.108004</td>\n",
       "    </tr>\n",
       "  </tbody>\n",
       "</table>\n",
       "</div>"
      ],
      "text/plain": [
       "                        universe_id universe_training_size universe_scale  \\\n",
       "0  a93cba126809e1c6fa41c2064daa6e61                   2014   do-not-scale   \n",
       "\n",
       "  universe_model universe_exclude_features universe_exclude_subgroups  \\\n",
       "0            gbm                      none            drop-non-german   \n",
       "\n",
       "      q_hat  coverage  avg_size  \n",
       "0  0.664725  0.911069  1.108004  "
      ]
     },
     "execution_count": 54,
     "metadata": {},
     "output_type": "execute_result"
    }
   ],
   "source": [
    "cp_metrics_df"
   ]
  },
  {
   "cell_type": "code",
   "execution_count": 55,
   "id": "b7fbde55-a0a1-47e4-9af6-fe4a17fa8c61",
   "metadata": {
    "execution": {
     "iopub.execute_input": "2025-07-28T11:09:28.550717Z",
     "iopub.status.busy": "2025-07-28T11:09:28.549982Z",
     "iopub.status.idle": "2025-07-28T11:09:28.556181Z",
     "shell.execute_reply": "2025-07-28T11:09:28.555235Z"
    },
    "papermill": {
     "duration": 0.035889,
     "end_time": "2025-07-28T11:09:28.557897",
     "exception": false,
     "start_time": "2025-07-28T11:09:28.522008",
     "status": "completed"
    },
    "tags": []
   },
   "outputs": [],
   "source": [
    "# Conditional Coverage & looking at subgroups"
   ]
  },
  {
   "cell_type": "code",
   "execution_count": 56,
   "id": "027ae886-68dd-4141-96c7-805a5450e1ef",
   "metadata": {
    "execution": {
     "iopub.execute_input": "2025-07-28T11:09:28.613745Z",
     "iopub.status.busy": "2025-07-28T11:09:28.613108Z",
     "iopub.status.idle": "2025-07-28T11:09:28.910837Z",
     "shell.execute_reply": "2025-07-28T11:09:28.909708Z"
    },
    "papermill": {
     "duration": 0.328687,
     "end_time": "2025-07-28T11:09:28.912945",
     "exception": false,
     "start_time": "2025-07-28T11:09:28.584258",
     "status": "completed"
    },
    "tags": []
   },
   "outputs": [],
   "source": [
    "from fairness_multiverse.conformal import build_cp_groups\n",
    "\n",
    "cp_groups_df = build_cp_groups(pred_sets, y_true, X_test.index, org_test)\n",
    "#needs universe_id and setting"
   ]
  },
  {
   "cell_type": "code",
   "execution_count": 57,
   "id": "01d5802c-663a-4d1f-9d69-e036faaffbf7",
   "metadata": {
    "execution": {
     "iopub.execute_input": "2025-07-28T11:09:28.966716Z",
     "iopub.status.busy": "2025-07-28T11:09:28.965722Z",
     "iopub.status.idle": "2025-07-28T11:09:28.971199Z",
     "shell.execute_reply": "2025-07-28T11:09:28.970278Z"
    },
    "papermill": {
     "duration": 0.034461,
     "end_time": "2025-07-28T11:09:28.973051",
     "exception": false,
     "start_time": "2025-07-28T11:09:28.938590",
     "status": "completed"
    },
    "tags": []
   },
   "outputs": [],
   "source": [
    "#delete\n",
    "#cp_groups_df"
   ]
  },
  {
   "cell_type": "code",
   "execution_count": 58,
   "id": "fa424af1-d1eb-443d-b717-2d279ada8408",
   "metadata": {
    "execution": {
     "iopub.execute_input": "2025-07-28T11:09:29.030024Z",
     "iopub.status.busy": "2025-07-28T11:09:29.029079Z",
     "iopub.status.idle": "2025-07-28T11:09:29.035070Z",
     "shell.execute_reply": "2025-07-28T11:09:29.034005Z"
    },
    "papermill": {
     "duration": 0.036374,
     "end_time": "2025-07-28T11:09:29.036907",
     "exception": false,
     "start_time": "2025-07-28T11:09:29.000533",
     "status": "completed"
    },
    "tags": []
   },
   "outputs": [],
   "source": [
    "#delete\n",
    "#percentage = (cp_groups_df['nongerman_female'] == 1).mean() * 100\n",
    "#print(percentage)\n"
   ]
  },
  {
   "cell_type": "code",
   "execution_count": 59,
   "id": "6cbdab96-b2b2-45af-ad54-d0516db2e28d",
   "metadata": {
    "execution": {
     "iopub.execute_input": "2025-07-28T11:09:29.091720Z",
     "iopub.status.busy": "2025-07-28T11:09:29.090745Z",
     "iopub.status.idle": "2025-07-28T11:09:30.666200Z",
     "shell.execute_reply": "2025-07-28T11:09:30.665408Z"
    },
    "papermill": {
     "duration": 1.604283,
     "end_time": "2025-07-28T11:09:30.667735",
     "exception": false,
     "start_time": "2025-07-28T11:09:29.063452",
     "status": "completed"
    },
    "tags": []
   },
   "outputs": [],
   "source": [
    "# Define covered = 1 if true_label is in the predicted set\n",
    "cp_groups_df['covered'] = cp_groups_df.apply(\n",
    "    lambda r: int(r['true_label'] in r['pred_set']),\n",
    "    axis=1\n",
    ")"
   ]
  },
  {
   "cell_type": "code",
   "execution_count": 60,
   "id": "338ff529-1a6b-4b87-a931-8e4788d52aad",
   "metadata": {
    "execution": {
     "iopub.execute_input": "2025-07-28T11:09:30.697468Z",
     "iopub.status.busy": "2025-07-28T11:09:30.696946Z",
     "iopub.status.idle": "2025-07-28T11:09:30.701797Z",
     "shell.execute_reply": "2025-07-28T11:09:30.700938Z"
    },
    "papermill": {
     "duration": 0.021327,
     "end_time": "2025-07-28T11:09:30.703251",
     "exception": false,
     "start_time": "2025-07-28T11:09:30.681924",
     "status": "completed"
    },
    "tags": []
   },
   "outputs": [],
   "source": [
    "#cp_groups_df"
   ]
  },
  {
   "cell_type": "code",
   "execution_count": 61,
   "id": "90032e27-66df-4540-9169-4e89cfbaa758",
   "metadata": {
    "execution": {
     "iopub.execute_input": "2025-07-28T11:09:30.733465Z",
     "iopub.status.busy": "2025-07-28T11:09:30.732902Z",
     "iopub.status.idle": "2025-07-28T11:09:30.742933Z",
     "shell.execute_reply": "2025-07-28T11:09:30.742113Z"
    },
    "papermill": {
     "duration": 0.026804,
     "end_time": "2025-07-28T11:09:30.744651",
     "exception": false,
     "start_time": "2025-07-28T11:09:30.717847",
     "status": "completed"
    },
    "tags": []
   },
   "outputs": [],
   "source": [
    "subgroups = ['frau1','nongerman','nongerman_male','nongerman_female']\n",
    "\n",
    "# Conditional coverage for subgroup==1\n",
    "cond_coverage = {\n",
    "    g: cp_groups_df.loc[cp_groups_df[g]==1, 'covered'].mean()\n",
    "    for g in subgroups\n",
    "}"
   ]
  },
  {
   "cell_type": "code",
   "execution_count": 62,
   "id": "1e348fb1-b9c3-45bc-ba23-f016827a7e0d",
   "metadata": {
    "execution": {
     "iopub.execute_input": "2025-07-28T11:09:30.774930Z",
     "iopub.status.busy": "2025-07-28T11:09:30.774370Z",
     "iopub.status.idle": "2025-07-28T11:09:30.781243Z",
     "shell.execute_reply": "2025-07-28T11:09:30.780365Z"
    },
    "papermill": {
     "duration": 0.023483,
     "end_time": "2025-07-28T11:09:30.782761",
     "exception": false,
     "start_time": "2025-07-28T11:09:30.759278",
     "status": "completed"
    },
    "tags": []
   },
   "outputs": [
    {
     "data": {
      "text/plain": [
       "{'frau1': 0.9118210001347891,\n",
       " 'nongerman': 0.9080446864649413,\n",
       " 'nongerman_male': 0.9236242456993605,\n",
       " 'nongerman_female': 0.8822652757078987}"
      ]
     },
     "execution_count": 62,
     "metadata": {},
     "output_type": "execute_result"
    }
   ],
   "source": [
    "cond_coverage"
   ]
  },
  {
   "cell_type": "code",
   "execution_count": 63,
   "id": "f5093324-c3dd-4d63-bc4c-8d945e5c8bbb",
   "metadata": {
    "execution": {
     "iopub.execute_input": "2025-07-28T11:09:30.813372Z",
     "iopub.status.busy": "2025-07-28T11:09:30.812829Z",
     "iopub.status.idle": "2025-07-28T11:09:30.819727Z",
     "shell.execute_reply": "2025-07-28T11:09:30.818867Z"
    },
    "papermill": {
     "duration": 0.02355,
     "end_time": "2025-07-28T11:09:30.821153",
     "exception": false,
     "start_time": "2025-07-28T11:09:30.797603",
     "status": "completed"
    },
    "tags": []
   },
   "outputs": [],
   "source": [
    "for subgroup, cov in cond_coverage.items():\n",
    "    cp_metrics_df[f\"cov_{subgroup}\"] = cov"
   ]
  },
  {
   "cell_type": "code",
   "execution_count": 64,
   "id": "6e872e10-dbe5-49e8-b554-5030c98ff75d",
   "metadata": {
    "execution": {
     "iopub.execute_input": "2025-07-28T11:09:30.852231Z",
     "iopub.status.busy": "2025-07-28T11:09:30.851697Z",
     "iopub.status.idle": "2025-07-28T11:09:30.866524Z",
     "shell.execute_reply": "2025-07-28T11:09:30.865466Z"
    },
    "papermill": {
     "duration": 0.031963,
     "end_time": "2025-07-28T11:09:30.867939",
     "exception": false,
     "start_time": "2025-07-28T11:09:30.835976",
     "status": "completed"
    },
    "tags": []
   },
   "outputs": [
    {
     "data": {
      "text/html": [
       "<div>\n",
       "<style scoped>\n",
       "    .dataframe tbody tr th:only-of-type {\n",
       "        vertical-align: middle;\n",
       "    }\n",
       "\n",
       "    .dataframe tbody tr th {\n",
       "        vertical-align: top;\n",
       "    }\n",
       "\n",
       "    .dataframe thead th {\n",
       "        text-align: right;\n",
       "    }\n",
       "</style>\n",
       "<table border=\"1\" class=\"dataframe\">\n",
       "  <thead>\n",
       "    <tr style=\"text-align: right;\">\n",
       "      <th></th>\n",
       "      <th>universe_id</th>\n",
       "      <th>universe_training_size</th>\n",
       "      <th>universe_scale</th>\n",
       "      <th>universe_model</th>\n",
       "      <th>universe_exclude_features</th>\n",
       "      <th>universe_exclude_subgroups</th>\n",
       "      <th>q_hat</th>\n",
       "      <th>coverage</th>\n",
       "      <th>avg_size</th>\n",
       "      <th>cov_frau1</th>\n",
       "      <th>cov_nongerman</th>\n",
       "      <th>cov_nongerman_male</th>\n",
       "      <th>cov_nongerman_female</th>\n",
       "    </tr>\n",
       "  </thead>\n",
       "  <tbody>\n",
       "    <tr>\n",
       "      <th>0</th>\n",
       "      <td>a93cba126809e1c6fa41c2064daa6e61</td>\n",
       "      <td>2014</td>\n",
       "      <td>do-not-scale</td>\n",
       "      <td>gbm</td>\n",
       "      <td>none</td>\n",
       "      <td>drop-non-german</td>\n",
       "      <td>0.664725</td>\n",
       "      <td>0.911069</td>\n",
       "      <td>1.108004</td>\n",
       "      <td>0.911821</td>\n",
       "      <td>0.908045</td>\n",
       "      <td>0.923624</td>\n",
       "      <td>0.882265</td>\n",
       "    </tr>\n",
       "  </tbody>\n",
       "</table>\n",
       "</div>"
      ],
      "text/plain": [
       "                        universe_id universe_training_size universe_scale  \\\n",
       "0  a93cba126809e1c6fa41c2064daa6e61                   2014   do-not-scale   \n",
       "\n",
       "  universe_model universe_exclude_features universe_exclude_subgroups  \\\n",
       "0            gbm                      none            drop-non-german   \n",
       "\n",
       "      q_hat  coverage  avg_size  cov_frau1  cov_nongerman  cov_nongerman_male  \\\n",
       "0  0.664725  0.911069  1.108004   0.911821       0.908045            0.923624   \n",
       "\n",
       "   cov_nongerman_female  \n",
       "0              0.882265  "
      ]
     },
     "execution_count": 64,
     "metadata": {},
     "output_type": "execute_result"
    }
   ],
   "source": [
    "cp_metrics_df"
   ]
  },
  {
   "cell_type": "markdown",
   "id": "33774451",
   "metadata": {
    "papermill": {
     "duration": 0.014159,
     "end_time": "2025-07-28T11:09:30.896911",
     "exception": false,
     "start_time": "2025-07-28T11:09:30.882752",
     "status": "completed"
    },
    "tags": []
   },
   "source": [
    "# (Fairness) Metrics"
   ]
  },
  {
   "cell_type": "code",
   "execution_count": 65,
   "id": "debc5d62",
   "metadata": {
    "execution": {
     "iopub.execute_input": "2025-07-28T11:09:30.926866Z",
     "iopub.status.busy": "2025-07-28T11:09:30.926300Z",
     "iopub.status.idle": "2025-07-28T11:09:30.941870Z",
     "shell.execute_reply": "2025-07-28T11:09:30.941006Z"
    },
    "papermill": {
     "duration": 0.032452,
     "end_time": "2025-07-28T11:09:30.943525",
     "exception": false,
     "start_time": "2025-07-28T11:09:30.911073",
     "status": "completed"
    },
    "tags": []
   },
   "outputs": [],
   "source": [
    "# do I need to include maxdeutsch1.missing?\n",
    "\n",
    "import numpy as np\n",
    "\n",
    "colname_to_bin = \"maxdeutsch1\"\n",
    "majority_value = org_train[colname_to_bin].mode()[0]\n",
    "\n",
    "org_test[\"majmin\"] = np.where(org_test[colname_to_bin] == majority_value, \"majority\", \"minority\")"
   ]
  },
  {
   "cell_type": "code",
   "execution_count": 66,
   "id": "06a50de5",
   "metadata": {
    "execution": {
     "iopub.execute_input": "2025-07-28T11:09:30.974287Z",
     "iopub.status.busy": "2025-07-28T11:09:30.973760Z",
     "iopub.status.idle": "2025-07-28T11:09:33.077886Z",
     "shell.execute_reply": "2025-07-28T11:09:33.076867Z"
    },
    "papermill": {
     "duration": 2.12166,
     "end_time": "2025-07-28T11:09:33.079959",
     "exception": false,
     "start_time": "2025-07-28T11:09:30.958299",
     "status": "completed"
    },
    "tags": []
   },
   "outputs": [],
   "source": [
    "example_universe = universe.copy()\n",
    "example_universe[\"cutoff\"] = example_universe[\"cutoff\"][0]\n",
    "example_universe[\"eval_fairness_grouping\"] = example_universe[\"eval_fairness_grouping\"][0]\n",
    "fairness_dict, metric_frame = universe_analysis.compute_metrics(\n",
    "    example_universe,\n",
    "    y_pred_prob=probs_test,\n",
    "    y_test=y_true,\n",
    "    org_test=org_test,\n",
    ")"
   ]
  },
  {
   "cell_type": "markdown",
   "id": "f95d4e02",
   "metadata": {
    "papermill": {
     "duration": 0.028537,
     "end_time": "2025-07-28T11:09:33.138124",
     "exception": false,
     "start_time": "2025-07-28T11:09:33.109587",
     "status": "completed"
    },
    "tags": []
   },
   "source": [
    "# Overall"
   ]
  },
  {
   "cell_type": "markdown",
   "id": "bdee4871",
   "metadata": {
    "papermill": {
     "duration": 0.028101,
     "end_time": "2025-07-28T11:09:33.193773",
     "exception": false,
     "start_time": "2025-07-28T11:09:33.165672",
     "status": "completed"
    },
    "tags": []
   },
   "source": [
    "Fairness\n",
    "Main fairness target: Equalized Odds. Seems to be a better fit than equal opportunity, since we're not only interested in Y = 1. Seems to be a better fit than demographic parity, since we also care about accuracy, not just equal distribution of preds.\n",
    "\n",
    "Pick column for computation of fairness metrics\n",
    "\n",
    "Performance\n",
    "Overall performance measures, most interesting in relation to the measures split by group below"
   ]
  },
  {
   "cell_type": "code",
   "execution_count": 67,
   "id": "c4e067c6",
   "metadata": {
    "execution": {
     "iopub.execute_input": "2025-07-28T11:09:33.252674Z",
     "iopub.status.busy": "2025-07-28T11:09:33.251908Z",
     "iopub.status.idle": "2025-07-28T11:09:33.261761Z",
     "shell.execute_reply": "2025-07-28T11:09:33.260818Z"
    },
    "papermill": {
     "duration": 0.041267,
     "end_time": "2025-07-28T11:09:33.263661",
     "exception": false,
     "start_time": "2025-07-28T11:09:33.222394",
     "status": "completed"
    },
    "tags": []
   },
   "outputs": [
    {
     "data": {
      "text/plain": [
       "accuracy                   0.225137\n",
       "balanced accuracy          0.550330\n",
       "f1                         0.246447\n",
       "precision                  0.140787\n",
       "false positive rate        0.887087\n",
       "false negative rate        0.012252\n",
       "selection rate             0.900000\n",
       "count                  89710.000000\n",
       "dtype: float64"
      ]
     },
     "execution_count": 67,
     "metadata": {},
     "output_type": "execute_result"
    }
   ],
   "source": [
    "metric_frame.overall"
   ]
  },
  {
   "cell_type": "markdown",
   "id": "e968fe9d",
   "metadata": {
    "papermill": {
     "duration": 0.027568,
     "end_time": "2025-07-28T11:09:33.318954",
     "exception": false,
     "start_time": "2025-07-28T11:09:33.291386",
     "status": "completed"
    },
    "tags": []
   },
   "source": [
    "By Group"
   ]
  },
  {
   "cell_type": "code",
   "execution_count": 68,
   "id": "ec325bce",
   "metadata": {
    "execution": {
     "iopub.execute_input": "2025-07-28T11:09:33.379324Z",
     "iopub.status.busy": "2025-07-28T11:09:33.378814Z",
     "iopub.status.idle": "2025-07-28T11:09:33.396908Z",
     "shell.execute_reply": "2025-07-28T11:09:33.395720Z"
    },
    "papermill": {
     "duration": 0.052011,
     "end_time": "2025-07-28T11:09:33.398810",
     "exception": false,
     "start_time": "2025-07-28T11:09:33.346799",
     "status": "completed"
    },
    "tags": []
   },
   "outputs": [
    {
     "data": {
      "text/html": [
       "<div>\n",
       "<style scoped>\n",
       "    .dataframe tbody tr th:only-of-type {\n",
       "        vertical-align: middle;\n",
       "    }\n",
       "\n",
       "    .dataframe tbody tr th {\n",
       "        vertical-align: top;\n",
       "    }\n",
       "\n",
       "    .dataframe thead th {\n",
       "        text-align: right;\n",
       "    }\n",
       "</style>\n",
       "<table border=\"1\" class=\"dataframe\">\n",
       "  <thead>\n",
       "    <tr style=\"text-align: right;\">\n",
       "      <th></th>\n",
       "      <th>accuracy</th>\n",
       "      <th>balanced accuracy</th>\n",
       "      <th>f1</th>\n",
       "      <th>precision</th>\n",
       "      <th>false positive rate</th>\n",
       "      <th>false negative rate</th>\n",
       "      <th>selection rate</th>\n",
       "      <th>count</th>\n",
       "    </tr>\n",
       "    <tr>\n",
       "      <th>majmin</th>\n",
       "      <th></th>\n",
       "      <th></th>\n",
       "      <th></th>\n",
       "      <th></th>\n",
       "      <th></th>\n",
       "      <th></th>\n",
       "      <th></th>\n",
       "      <th></th>\n",
       "    </tr>\n",
       "  </thead>\n",
       "  <tbody>\n",
       "    <tr>\n",
       "      <th>majority</th>\n",
       "      <td>0.245554</td>\n",
       "      <td>0.559638</td>\n",
       "      <td>0.256825</td>\n",
       "      <td>0.147628</td>\n",
       "      <td>0.867266</td>\n",
       "      <td>0.013457</td>\n",
       "      <td>0.883027</td>\n",
       "      <td>69170.0</td>\n",
       "    </tr>\n",
       "    <tr>\n",
       "      <th>minority</th>\n",
       "      <td>0.156378</td>\n",
       "      <td>0.519917</td>\n",
       "      <td>0.213365</td>\n",
       "      <td>0.119532</td>\n",
       "      <td>0.952564</td>\n",
       "      <td>0.007601</td>\n",
       "      <td>0.957157</td>\n",
       "      <td>20540.0</td>\n",
       "    </tr>\n",
       "  </tbody>\n",
       "</table>\n",
       "</div>"
      ],
      "text/plain": [
       "          accuracy  balanced accuracy        f1  precision  \\\n",
       "majmin                                                       \n",
       "majority  0.245554           0.559638  0.256825   0.147628   \n",
       "minority  0.156378           0.519917  0.213365   0.119532   \n",
       "\n",
       "          false positive rate  false negative rate  selection rate    count  \n",
       "majmin                                                                       \n",
       "majority             0.867266             0.013457        0.883027  69170.0  \n",
       "minority             0.952564             0.007601        0.957157  20540.0  "
      ]
     },
     "execution_count": 68,
     "metadata": {},
     "output_type": "execute_result"
    }
   ],
   "source": [
    "metric_frame.by_group"
   ]
  },
  {
   "cell_type": "code",
   "execution_count": 69,
   "id": "a9ddbe63",
   "metadata": {
    "execution": {
     "iopub.execute_input": "2025-07-28T11:09:33.461959Z",
     "iopub.status.busy": "2025-07-28T11:09:33.461426Z",
     "iopub.status.idle": "2025-07-28T11:09:35.643324Z",
     "shell.execute_reply": "2025-07-28T11:09:35.642191Z"
    },
    "papermill": {
     "duration": 2.215748,
     "end_time": "2025-07-28T11:09:35.645558",
     "exception": false,
     "start_time": "2025-07-28T11:09:33.429810",
     "status": "completed"
    },
    "tags": []
   },
   "outputs": [
    {
     "data": {
      "text/plain": [
       "array([[<Axes: title={'center': 'accuracy'}, xlabel='majmin'>,\n",
       "        <Axes: title={'center': 'balanced accuracy'}, xlabel='majmin'>,\n",
       "        <Axes: title={'center': 'f1'}, xlabel='majmin'>],\n",
       "       [<Axes: title={'center': 'precision'}, xlabel='majmin'>,\n",
       "        <Axes: title={'center': 'false positive rate'}, xlabel='majmin'>,\n",
       "        <Axes: title={'center': 'false negative rate'}, xlabel='majmin'>],\n",
       "       [<Axes: title={'center': 'selection rate'}, xlabel='majmin'>,\n",
       "        <Axes: title={'center': 'count'}, xlabel='majmin'>,\n",
       "        <Axes: xlabel='majmin'>]], dtype=object)"
      ]
     },
     "execution_count": 69,
     "metadata": {},
     "output_type": "execute_result"
    },
    {
     "data": {
      "image/png": "[encoded data removed]",
      "text/plain": [
       "<Figure size 1200x800 with 9 Axes>"
      ]
     },
     "metadata": {},
     "output_type": "display_data"
    }
   ],
   "source": [
    "# In a graphic\n",
    "metric_frame.by_group.plot.bar(\n",
    "    subplots=True,\n",
    "    layout=[3, 3],\n",
    "    legend=False,\n",
    "    figsize=[12, 8],\n",
    "    title=\"Show all metrics\",\n",
    ")"
   ]
  },
  {
   "cell_type": "markdown",
   "id": "f57a0bac",
   "metadata": {
    "papermill": {
     "duration": 0.028972,
     "end_time": "2025-07-28T11:09:35.703593",
     "exception": false,
     "start_time": "2025-07-28T11:09:35.674621",
     "status": "completed"
    },
    "tags": []
   },
   "source": [
    "# Final Output"
   ]
  },
  {
   "cell_type": "code",
   "execution_count": 70,
   "id": "96d280a3",
   "metadata": {
    "execution": {
     "iopub.execute_input": "2025-07-28T11:09:35.766214Z",
     "iopub.status.busy": "2025-07-28T11:09:35.765441Z",
     "iopub.status.idle": "2025-07-28T11:09:35.774538Z",
     "shell.execute_reply": "2025-07-28T11:09:35.773555Z"
    },
    "papermill": {
     "duration": 0.042559,
     "end_time": "2025-07-28T11:09:35.776233",
     "exception": false,
     "start_time": "2025-07-28T11:09:35.733674",
     "status": "completed"
    },
    "tags": []
   },
   "outputs": [
    {
     "data": {
      "text/plain": [
       "4"
      ]
     },
     "execution_count": 70,
     "metadata": {},
     "output_type": "execute_result"
    }
   ],
   "source": [
    "sub_universes = universe_analysis.generate_sub_universes()\n",
    "len(sub_universes)"
   ]
  },
  {
   "cell_type": "code",
   "execution_count": 71,
   "id": "92adf7ba",
   "metadata": {
    "execution": {
     "iopub.execute_input": "2025-07-28T11:09:35.839164Z",
     "iopub.status.busy": "2025-07-28T11:09:35.838270Z",
     "iopub.status.idle": "2025-07-28T11:09:35.845514Z",
     "shell.execute_reply": "2025-07-28T11:09:35.844552Z"
    },
    "papermill": {
     "duration": 0.04069,
     "end_time": "2025-07-28T11:09:35.847296",
     "exception": false,
     "start_time": "2025-07-28T11:09:35.806606",
     "status": "completed"
    },
    "tags": []
   },
   "outputs": [],
   "source": [
    "def filter_sub_universe_data(sub_universe, org_test):\n",
    "    # Keep all rows — no filtering\n",
    "    keep_rows_mask = np.ones(org_test.shape[0], dtype=bool)\n",
    "\n",
    "    print(f\"[INFO] Keeping all rows: {keep_rows_mask.sum()} rows retained.\")\n",
    "    return keep_rows_mask"
   ]
  },
  {
   "cell_type": "code",
   "execution_count": 72,
   "id": "4a759155",
   "metadata": {
    "execution": {
     "iopub.execute_input": "2025-07-28T11:09:35.913533Z",
     "iopub.status.busy": "2025-07-28T11:09:35.912801Z",
     "iopub.status.idle": "2025-07-28T11:09:44.896560Z",
     "shell.execute_reply": "2025-07-28T11:09:44.895454Z"
    },
    "papermill": {
     "duration": 9.018563,
     "end_time": "2025-07-28T11:09:44.898324",
     "exception": false,
     "start_time": "2025-07-28T11:09:35.879761",
     "status": "completed"
    },
    "tags": []
   },
   "outputs": [
    {
     "name": "stdout",
     "output_type": "stream",
     "text": [
      "Stopping execution_time clock.\n",
      "[INFO] Keeping all rows: 89710 rows retained.\n"
     ]
    },
    {
     "name": "stdout",
     "output_type": "stream",
     "text": [
      "[INFO] Keeping all rows: 89710 rows retained.\n"
     ]
    },
    {
     "name": "stdout",
     "output_type": "stream",
     "text": [
      "[INFO] Keeping all rows: 89710 rows retained.\n"
     ]
    },
    {
     "name": "stdout",
     "output_type": "stream",
     "text": [
      "[INFO] Keeping all rows: 89710 rows retained.\n"
     ]
    },
    {
     "data": {
      "text/html": [
       "<div>\n",
       "<style scoped>\n",
       "    .dataframe tbody tr th:only-of-type {\n",
       "        vertical-align: middle;\n",
       "    }\n",
       "\n",
       "    .dataframe tbody tr th {\n",
       "        vertical-align: top;\n",
       "    }\n",
       "\n",
       "    .dataframe thead th {\n",
       "        text-align: right;\n",
       "    }\n",
       "</style>\n",
       "<table border=\"1\" class=\"dataframe\">\n",
       "  <thead>\n",
       "    <tr style=\"text-align: right;\">\n",
       "      <th></th>\n",
       "      <th>run_no</th>\n",
       "      <th>universe_id</th>\n",
       "      <th>universe_settings</th>\n",
       "      <th>execution_time</th>\n",
       "      <th>test_size_n</th>\n",
       "      <th>test_size_frac</th>\n",
       "      <th>fair_main_equalized_odds_difference</th>\n",
       "      <th>fair_main_equalized_odds_ratio</th>\n",
       "      <th>fair_main_demographic_parity_difference</th>\n",
       "      <th>fair_main_demographic_parity_ratio</th>\n",
       "      <th>...</th>\n",
       "      <th>perf_grp_precision_0</th>\n",
       "      <th>perf_grp_precision_1</th>\n",
       "      <th>perf_grp_false positive rate_0</th>\n",
       "      <th>perf_grp_false positive rate_1</th>\n",
       "      <th>perf_grp_false negative rate_0</th>\n",
       "      <th>perf_grp_false negative rate_1</th>\n",
       "      <th>perf_grp_selection rate_0</th>\n",
       "      <th>perf_grp_selection rate_1</th>\n",
       "      <th>perf_grp_count_0</th>\n",
       "      <th>perf_grp_count_1</th>\n",
       "    </tr>\n",
       "  </thead>\n",
       "  <tbody>\n",
       "    <tr>\n",
       "      <th>0</th>\n",
       "      <td>11</td>\n",
       "      <td>a93cba126809e1c6fa41c2064daa6e61</td>\n",
       "      <td>{\"cutoff\": \"quantile_0.1\", \"eval_fairness_grou...</td>\n",
       "      <td>139.020191</td>\n",
       "      <td>89710</td>\n",
       "      <td>1.0</td>\n",
       "      <td>0.085298</td>\n",
       "      <td>0.910454</td>\n",
       "      <td>0.074129</td>\n",
       "      <td>0.922552</td>\n",
       "      <td>...</td>\n",
       "      <td>NaN</td>\n",
       "      <td>NaN</td>\n",
       "      <td>NaN</td>\n",
       "      <td>NaN</td>\n",
       "      <td>NaN</td>\n",
       "      <td>NaN</td>\n",
       "      <td>NaN</td>\n",
       "      <td>NaN</td>\n",
       "      <td>NaN</td>\n",
       "      <td>NaN</td>\n",
       "    </tr>\n",
       "    <tr>\n",
       "      <th>0</th>\n",
       "      <td>11</td>\n",
       "      <td>a93cba126809e1c6fa41c2064daa6e61</td>\n",
       "      <td>{\"cutoff\": \"quantile_0.1\", \"eval_fairness_grou...</td>\n",
       "      <td>139.020191</td>\n",
       "      <td>89710</td>\n",
       "      <td>1.0</td>\n",
       "      <td>0.085298</td>\n",
       "      <td>0.910454</td>\n",
       "      <td>0.074129</td>\n",
       "      <td>0.922552</td>\n",
       "      <td>...</td>\n",
       "      <td>0.119532</td>\n",
       "      <td>0.147628</td>\n",
       "      <td>0.952564</td>\n",
       "      <td>0.867266</td>\n",
       "      <td>0.007601</td>\n",
       "      <td>0.013457</td>\n",
       "      <td>0.957157</td>\n",
       "      <td>0.883027</td>\n",
       "      <td>20540.0</td>\n",
       "      <td>69170.0</td>\n",
       "    </tr>\n",
       "    <tr>\n",
       "      <th>0</th>\n",
       "      <td>11</td>\n",
       "      <td>a93cba126809e1c6fa41c2064daa6e61</td>\n",
       "      <td>{\"cutoff\": \"quantile_0.25\", \"eval_fairness_gro...</td>\n",
       "      <td>139.020191</td>\n",
       "      <td>89710</td>\n",
       "      <td>1.0</td>\n",
       "      <td>0.080012</td>\n",
       "      <td>0.897687</td>\n",
       "      <td>0.064097</td>\n",
       "      <td>0.919820</td>\n",
       "      <td>...</td>\n",
       "      <td>NaN</td>\n",
       "      <td>NaN</td>\n",
       "      <td>NaN</td>\n",
       "      <td>NaN</td>\n",
       "      <td>NaN</td>\n",
       "      <td>NaN</td>\n",
       "      <td>NaN</td>\n",
       "      <td>NaN</td>\n",
       "      <td>NaN</td>\n",
       "      <td>NaN</td>\n",
       "    </tr>\n",
       "    <tr>\n",
       "      <th>0</th>\n",
       "      <td>11</td>\n",
       "      <td>a93cba126809e1c6fa41c2064daa6e61</td>\n",
       "      <td>{\"cutoff\": \"quantile_0.25\", \"eval_fairness_gro...</td>\n",
       "      <td>139.020191</td>\n",
       "      <td>89710</td>\n",
       "      <td>1.0</td>\n",
       "      <td>0.080012</td>\n",
       "      <td>0.897687</td>\n",
       "      <td>0.064097</td>\n",
       "      <td>0.919820</td>\n",
       "      <td>...</td>\n",
       "      <td>0.134531</td>\n",
       "      <td>0.171444</td>\n",
       "      <td>0.782027</td>\n",
       "      <td>0.702016</td>\n",
       "      <td>0.067145</td>\n",
       "      <td>0.045952</td>\n",
       "      <td>0.799416</td>\n",
       "      <td>0.735319</td>\n",
       "      <td>20540.0</td>\n",
       "      <td>69170.0</td>\n",
       "    </tr>\n",
       "  </tbody>\n",
       "</table>\n",
       "<p>4 rows × 50 columns</p>\n",
       "</div>"
      ],
      "text/plain": [
       "  run_no                       universe_id  \\\n",
       "0     11  a93cba126809e1c6fa41c2064daa6e61   \n",
       "0     11  a93cba126809e1c6fa41c2064daa6e61   \n",
       "0     11  a93cba126809e1c6fa41c2064daa6e61   \n",
       "0     11  a93cba126809e1c6fa41c2064daa6e61   \n",
       "\n",
       "                                   universe_settings  execution_time  \\\n",
       "0  {\"cutoff\": \"quantile_0.1\", \"eval_fairness_grou...      139.020191   \n",
       "0  {\"cutoff\": \"quantile_0.1\", \"eval_fairness_grou...      139.020191   \n",
       "0  {\"cutoff\": \"quantile_0.25\", \"eval_fairness_gro...      139.020191   \n",
       "0  {\"cutoff\": \"quantile_0.25\", \"eval_fairness_gro...      139.020191   \n",
       "\n",
       "   test_size_n  test_size_frac  fair_main_equalized_odds_difference  \\\n",
       "0        89710             1.0                             0.085298   \n",
       "0        89710             1.0                             0.085298   \n",
       "0        89710             1.0                             0.080012   \n",
       "0        89710             1.0                             0.080012   \n",
       "\n",
       "   fair_main_equalized_odds_ratio  fair_main_demographic_parity_difference  \\\n",
       "0                        0.910454                                 0.074129   \n",
       "0                        0.910454                                 0.074129   \n",
       "0                        0.897687                                 0.064097   \n",
       "0                        0.897687                                 0.064097   \n",
       "\n",
       "   fair_main_demographic_parity_ratio  ...  perf_grp_precision_0  \\\n",
       "0                            0.922552  ...                   NaN   \n",
       "0                            0.922552  ...              0.119532   \n",
       "0                            0.919820  ...                   NaN   \n",
       "0                            0.919820  ...              0.134531   \n",
       "\n",
       "   perf_grp_precision_1  perf_grp_false positive rate_0  \\\n",
       "0                   NaN                             NaN   \n",
       "0              0.147628                        0.952564   \n",
       "0                   NaN                             NaN   \n",
       "0              0.171444                        0.782027   \n",
       "\n",
       "   perf_grp_false positive rate_1  perf_grp_false negative rate_0  \\\n",
       "0                             NaN                             NaN   \n",
       "0                        0.867266                        0.007601   \n",
       "0                             NaN                             NaN   \n",
       "0                        0.702016                        0.067145   \n",
       "\n",
       "   perf_grp_false negative rate_1  perf_grp_selection rate_0  \\\n",
       "0                             NaN                        NaN   \n",
       "0                        0.013457                   0.957157   \n",
       "0                             NaN                        NaN   \n",
       "0                        0.045952                   0.799416   \n",
       "\n",
       "   perf_grp_selection rate_1  perf_grp_count_0  perf_grp_count_1  \n",
       "0                        NaN               NaN               NaN  \n",
       "0                   0.883027           20540.0           69170.0  \n",
       "0                        NaN               NaN               NaN  \n",
       "0                   0.735319           20540.0           69170.0  \n",
       "\n",
       "[4 rows x 50 columns]"
      ]
     },
     "execution_count": 72,
     "metadata": {},
     "output_type": "execute_result"
    }
   ],
   "source": [
    "final_output = universe_analysis.generate_final_output(\n",
    "    y_pred_prob=probs_test,\n",
    "    y_test=y_true,\n",
    "    org_test=org_test,\n",
    "    filter_data=filter_sub_universe_data,\n",
    "    cp_metrics_df=cp_metrics_df,\n",
    "    save=True,\n",
    ")\n",
    "final_output"
   ]
  },
  {
   "cell_type": "code",
   "execution_count": null,
   "id": "721ff514-cb11-46f8-b6fc-50392f74b5cb",
   "metadata": {
    "papermill": {
     "duration": 0.03043,
     "end_time": "2025-07-28T11:09:44.964220",
     "exception": false,
     "start_time": "2025-07-28T11:09:44.933790",
     "status": "completed"
    },
    "tags": []
   },
   "outputs": [],
   "source": []
  }
 ],
 "metadata": {
  "celltoolbar": "Tags",
  "kernelspec": {
   "display_name": "Python (CMA Fairness)",
   "language": "python",
   "name": "cma_fair_env"
  },
  "language_info": {
   "codemirror_mode": {
    "name": "ipython",
    "version": 3
   },
   "file_extension": ".py",
   "mimetype": "text/x-python",
   "name": "python",
   "nbconvert_exporter": "python",
   "pygments_lexer": "ipython3",
   "version": "3.10.12"
  },
  "papermill": {
   "default_parameters": {},
   "duration": 155.014018,
   "end_time": "2025-07-28T11:09:45.816269",
   "environment_variables": {},
   "exception": null,
   "input_path": "universe_analysis.ipynb",
   "output_path": "output/runs/11/notebooks/m_11-a93cba126809e1c6fa41c2064daa6e61.ipynb",
   "parameters": {
    "output_dir": "output",
    "run_no": "11",
    "seed": "2023",
    "universe": "{\"cutoff\": [\"quantile_0.1\", \"quantile_0.25\"], \"eval_fairness_grouping\": [\"majority-minority\", \"nationality-all\"], \"exclude_features\": \"none\", \"exclude_subgroups\": \"drop-non-german\", \"model\": \"gbm\", \"scale\": \"do-not-scale\", \"training_size\": \"2014\"}",
    "universe_id": "a93cba126809e1c6fa41c2064daa6e61"
   },
   "start_time": "2025-07-28T11:07:10.802251",
   "version": "2.6.0"
  }
 },
 "nbformat": 4,
 "nbformat_minor": 5
}