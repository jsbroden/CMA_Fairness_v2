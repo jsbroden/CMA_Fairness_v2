{
 "cells": [
  {
   "cell_type": "code",
   "execution_count": 1,
   "id": "f159f837-637b-42ba-96b5-ec9a68c44524",
   "metadata": {
    "execution": {
     "iopub.execute_input": "2025-07-28T11:10:13.508978Z",
     "iopub.status.busy": "2025-07-28T11:10:13.508081Z",
     "iopub.status.idle": "2025-07-28T11:10:13.522115Z",
     "shell.execute_reply": "2025-07-28T11:10:13.521156Z"
    },
    "papermill": {
     "duration": 0.035864,
     "end_time": "2025-07-28T11:10:13.523789",
     "exception": false,
     "start_time": "2025-07-28T11:10:13.487925",
     "status": "completed"
    },
    "tags": []
   },
   "outputs": [
    {
     "name": "stdout",
     "output_type": "stream",
     "text": [
      "/dss/dsshome1/0C/ra93lal2/cma/CMA_Fairness_v2\n"
     ]
    },
    {
     "name": "stderr",
     "output_type": "stream",
     "text": [
      "/dss/dsshome1/0C/ra93lal2/.local/share/virtualenvs/CMA_Fairness_v2-3j10GkSs/lib/python3.10/site-packages/IPython/core/magics/osm.py:393: UserWarning: This is now an optional IPython functionality, using bookmarks requires you to install the `pickleshare` library.\n",
      "  bkms = self.shell.db.get('bookmarks', {})\n",
      "/dss/dsshome1/0C/ra93lal2/.local/share/virtualenvs/CMA_Fairness_v2-3j10GkSs/lib/python3.10/site-packages/IPython/core/magics/osm.py:417: UserWarning: This is now an optional IPython functionality, setting dhist requires you to install the `pickleshare` library.\n",
      "  self.shell.db['dhist'] = compress_dhist(dhist)[-100:]\n"
     ]
    }
   ],
   "source": [
    "%cd ~/cma/CMA_Fairness_v2"
   ]
  },
  {
   "cell_type": "markdown",
   "id": "de2603b9",
   "metadata": {
    "papermill": {
     "duration": 0.017514,
     "end_time": "2025-07-28T11:10:13.560666",
     "exception": false,
     "start_time": "2025-07-28T11:10:13.543152",
     "status": "completed"
    },
    "tags": []
   },
   "source": [
    "The following cell holds the definition of our parameters, these values can be overriden by rendering the with e.g. the following command:\n",
    "\n",
    "papermill -p alpha 0.2 -p ratio 0.3 universe_analysis.ipynb output/test_run.ipynb"
   ]
  },
  {
   "cell_type": "code",
   "execution_count": 2,
   "id": "a80968a0-40bb-4fa9-85ef-2d5eefb01975",
   "metadata": {
    "execution": {
     "iopub.execute_input": "2025-07-28T11:10:13.598959Z",
     "iopub.status.busy": "2025-07-28T11:10:13.598396Z",
     "iopub.status.idle": "2025-07-28T11:10:13.604252Z",
     "shell.execute_reply": "2025-07-28T11:10:13.603319Z"
    },
    "papermill": {
     "duration": 0.026815,
     "end_time": "2025-07-28T11:10:13.605764",
     "exception": false,
     "start_time": "2025-07-28T11:10:13.578949",
     "status": "completed"
    },
    "tags": []
   },
   "outputs": [
    {
     "name": "stdout",
     "output_type": "stream",
     "text": [
      "Current working directory: /dss/dsshome1/0C/ra93lal2/cma/CMA_Fairness_v2\n"
     ]
    }
   ],
   "source": [
    "import os\n",
    "print(\"Current working directory:\", os.getcwd())"
   ]
  },
  {
   "cell_type": "code",
   "execution_count": 3,
   "id": "2dce4c03",
   "metadata": {
    "execution": {
     "iopub.execute_input": "2025-07-28T11:10:13.644214Z",
     "iopub.status.busy": "2025-07-28T11:10:13.643692Z",
     "iopub.status.idle": "2025-07-28T11:10:13.650063Z",
     "shell.execute_reply": "2025-07-28T11:10:13.649061Z"
    },
    "papermill": {
     "duration": 0.027481,
     "end_time": "2025-07-28T11:10:13.651872",
     "exception": false,
     "start_time": "2025-07-28T11:10:13.624391",
     "status": "completed"
    },
    "tags": [
     "parameters"
    ]
   },
   "outputs": [],
   "source": [
    "run_no = 0\n",
    "universe_id = \"test\"\n",
    "universe = {\n",
    "    \"training_size\": \"2014\", # \"25k\", \"5k\", \"1k\", \"2014\"\n",
    "    \"scale\": \"scale\", # \"scale\", \"do-not-scale\",\n",
    "    #\"stratify_split\": \"target\", # \"none\", \"target\", \"protected-attribute\", \"both\",\n",
    "    \"model\": \"elasticnet\", # \"logreg\", \"penalized_logreg\", \"rf\", \"gbm\", \"elasticnet\"\n",
    "    \"cutoff\": [\"quantile_0.15\", \"quantile_0.30\"],\n",
    "    \"exclude_features\": \"age\", # \"none\", \"nationality\", \"sex\", \"nationality-sex\", \"age\"\n",
    "    \"exclude_subgroups\": \"keep-all\", # \"keep-all\", \"drop-non-german\"\n",
    "    \"eval_fairness_grouping\": [\"majority-minority\", \"nationality-all\"]\n",
    "}\n",
    "\n",
    "output_dir=\"./output\"\n",
    "seed=0"
   ]
  },
  {
   "cell_type": "code",
   "execution_count": 4,
   "id": "94d8e2d9",
   "metadata": {
    "execution": {
     "iopub.execute_input": "2025-07-28T11:10:13.698766Z",
     "iopub.status.busy": "2025-07-28T11:10:13.698001Z",
     "iopub.status.idle": "2025-07-28T11:10:13.703867Z",
     "shell.execute_reply": "2025-07-28T11:10:13.702841Z"
    },
    "papermill": {
     "duration": 0.031295,
     "end_time": "2025-07-28T11:10:13.705833",
     "exception": false,
     "start_time": "2025-07-28T11:10:13.674538",
     "status": "completed"
    },
    "tags": [
     "injected-parameters"
    ]
   },
   "outputs": [],
   "source": [
    "# Parameters\n",
    "universe_id = \"b701d7a5d46fa72b253b8ab632d27c5f\"\n",
    "run_no = \"11\"\n",
    "universe = \"{\\\"cutoff\\\": [\\\"quantile_0.1\\\", \\\"quantile_0.25\\\"], \\\"eval_fairness_grouping\\\": [\\\"majority-minority\\\", \\\"nationality-all\\\"], \\\"exclude_features\\\": \\\"none\\\", \\\"exclude_subgroups\\\": \\\"drop-non-german\\\", \\\"model\\\": \\\"elasticnet\\\", \\\"scale\\\": \\\"do-not-scale\\\", \\\"training_size\\\": \\\"2014\\\"}\"\n",
    "output_dir = \"output\"\n",
    "seed = \"2023\"\n"
   ]
  },
  {
   "cell_type": "code",
   "execution_count": 5,
   "id": "1650acaf",
   "metadata": {
    "execution": {
     "iopub.execute_input": "2025-07-28T11:10:13.761766Z",
     "iopub.status.busy": "2025-07-28T11:10:13.760781Z",
     "iopub.status.idle": "2025-07-28T11:10:13.766819Z",
     "shell.execute_reply": "2025-07-28T11:10:13.765811Z"
    },
    "papermill": {
     "duration": 0.035939,
     "end_time": "2025-07-28T11:10:13.768654",
     "exception": false,
     "start_time": "2025-07-28T11:10:13.732715",
     "status": "completed"
    },
    "tags": []
   },
   "outputs": [],
   "source": [
    "import json\n",
    "# Parse universe into dict if it is passed as a string\n",
    "if isinstance(universe, str):\n",
    "    universe = json.loads(universe)"
   ]
  },
  {
   "cell_type": "code",
   "execution_count": 6,
   "id": "16620c48",
   "metadata": {
    "execution": {
     "iopub.execute_input": "2025-07-28T11:10:13.809439Z",
     "iopub.status.busy": "2025-07-28T11:10:13.808576Z",
     "iopub.status.idle": "2025-07-28T11:10:13.856768Z",
     "shell.execute_reply": "2025-07-28T11:10:13.855764Z"
    },
    "papermill": {
     "duration": 0.070466,
     "end_time": "2025-07-28T11:10:13.858799",
     "exception": false,
     "start_time": "2025-07-28T11:10:13.788333",
     "status": "completed"
    },
    "tags": []
   },
   "outputs": [],
   "source": [
    "# Auto-reload the custom package\n",
    "%load_ext autoreload\n",
    "%autoreload 1\n",
    "%aimport fairness_multiverse"
   ]
  },
  {
   "cell_type": "code",
   "execution_count": 7,
   "id": "01c5c9f3",
   "metadata": {
    "execution": {
     "iopub.execute_input": "2025-07-28T11:10:13.899042Z",
     "iopub.status.busy": "2025-07-28T11:10:13.898141Z",
     "iopub.status.idle": "2025-07-28T11:10:15.633716Z",
     "shell.execute_reply": "2025-07-28T11:10:15.632343Z"
    },
    "papermill": {
     "duration": 1.758596,
     "end_time": "2025-07-28T11:10:15.636467",
     "exception": false,
     "start_time": "2025-07-28T11:10:13.877871",
     "status": "completed"
    },
    "tags": []
   },
   "outputs": [],
   "source": [
    "from fairness_multiverse.universe import UniverseAnalysis\n",
    "\n",
    "universe_analysis = UniverseAnalysis(\n",
    "    run_no = run_no,\n",
    "    universe_id = universe_id,\n",
    "    universe = universe,\n",
    "    output_dir=output_dir,\n",
    ")"
   ]
  },
  {
   "cell_type": "code",
   "execution_count": 8,
   "id": "106241f5",
   "metadata": {
    "execution": {
     "iopub.execute_input": "2025-07-28T11:10:15.693885Z",
     "iopub.status.busy": "2025-07-28T11:10:15.692948Z",
     "iopub.status.idle": "2025-07-28T11:10:15.702164Z",
     "shell.execute_reply": "2025-07-28T11:10:15.700563Z"
    },
    "papermill": {
     "duration": 0.044735,
     "end_time": "2025-07-28T11:10:15.705076",
     "exception": false,
     "start_time": "2025-07-28T11:10:15.660341",
     "status": "completed"
    },
    "tags": []
   },
   "outputs": [
    {
     "name": "stdout",
     "output_type": "stream",
     "text": [
      "Using Seed: 2023\n"
     ]
    }
   ],
   "source": [
    "import numpy as np\n",
    "parsed_seed = int(seed)\n",
    "np.random.seed(parsed_seed)\n",
    "print(f\"Using Seed: {parsed_seed}\")"
   ]
  },
  {
   "cell_type": "markdown",
   "id": "e0ebdc57",
   "metadata": {
    "papermill": {
     "duration": 0.030499,
     "end_time": "2025-07-28T11:10:15.766375",
     "exception": false,
     "start_time": "2025-07-28T11:10:15.735876",
     "status": "completed"
    },
    "tags": []
   },
   "source": [
    "# Loading Data"
   ]
  },
  {
   "cell_type": "markdown",
   "id": "681925a3",
   "metadata": {
    "papermill": {
     "duration": 0.029779,
     "end_time": "2025-07-28T11:10:15.826036",
     "exception": false,
     "start_time": "2025-07-28T11:10:15.796257",
     "status": "completed"
    },
    "tags": []
   },
   "source": [
    "Load siab_train, siab_test, siab_calib and/or \n",
    "load siab_train_features, siab_train_labels"
   ]
  },
  {
   "cell_type": "code",
   "execution_count": 9,
   "id": "f0496b8a",
   "metadata": {
    "execution": {
     "iopub.execute_input": "2025-07-28T11:10:15.887305Z",
     "iopub.status.busy": "2025-07-28T11:10:15.886907Z",
     "iopub.status.idle": "2025-07-28T11:10:29.317341Z",
     "shell.execute_reply": "2025-07-28T11:10:29.315947Z"
    },
    "papermill": {
     "duration": 13.463529,
     "end_time": "2025-07-28T11:10:29.319245",
     "exception": false,
     "start_time": "2025-07-28T11:10:15.855716",
     "status": "completed"
    },
    "tags": []
   },
   "outputs": [
    {
     "name": "stdout",
     "output_type": "stream",
     "text": [
      "Loading SIAB data from cache: data/siab_cached.csv.gz\n"
     ]
    },
    {
     "name": "stdout",
     "output_type": "stream",
     "text": [
      "(643690, 164)\n"
     ]
    }
   ],
   "source": [
    "from pathlib import Path\n",
    "import pandas as pd\n",
    "\n",
    "# File paths\n",
    "raw_file = Path(\"data/raw/siab.csv\")\n",
    "cache_file = Path(\"data/siab_cached.csv.gz\")\n",
    "\n",
    "# Ensure cache directory exists\n",
    "cache_file.parent.mkdir(parents=True, exist_ok=True)\n",
    "\n",
    "# Load with simple caching\n",
    "if cache_file.exists():\n",
    "    print(f\"Loading SIAB data from cache: {cache_file}\")\n",
    "    siab = pd.read_csv(cache_file, compression='gzip')\n",
    "else:\n",
    "    print(f\"Cache not found. Reading raw SIAB data: {raw_file}\")\n",
    "    siab = pd.read_csv(raw_file)\n",
    "    siab.to_csv(cache_file, index=False, compression='gzip')\n",
    "    print(f\"Cached SIAB data to: {cache_file}\")\n",
    "\n",
    "# Now use `siab` DataFrame as needed\n",
    "print(siab.shape)"
   ]
  },
  {
   "cell_type": "code",
   "execution_count": 10,
   "id": "db0ca512-5f53-4dba-abdb-a2888bca41ba",
   "metadata": {
    "execution": {
     "iopub.execute_input": "2025-07-28T11:10:29.366147Z",
     "iopub.status.busy": "2025-07-28T11:10:29.365357Z",
     "iopub.status.idle": "2025-07-28T11:10:29.372043Z",
     "shell.execute_reply": "2025-07-28T11:10:29.371032Z"
    },
    "papermill": {
     "duration": 0.031176,
     "end_time": "2025-07-28T11:10:29.373876",
     "exception": false,
     "start_time": "2025-07-28T11:10:29.342700",
     "status": "completed"
    },
    "tags": []
   },
   "outputs": [],
   "source": [
    "#siab"
   ]
  },
  {
   "cell_type": "code",
   "execution_count": 11,
   "id": "a0edb063",
   "metadata": {
    "execution": {
     "iopub.execute_input": "2025-07-28T11:10:29.418066Z",
     "iopub.status.busy": "2025-07-28T11:10:29.417328Z",
     "iopub.status.idle": "2025-07-28T11:10:29.422953Z",
     "shell.execute_reply": "2025-07-28T11:10:29.421955Z"
    },
    "papermill": {
     "duration": 0.029441,
     "end_time": "2025-07-28T11:10:29.424623",
     "exception": false,
     "start_time": "2025-07-28T11:10:29.395182",
     "status": "completed"
    },
    "tags": []
   },
   "outputs": [],
   "source": [
    "#import pandas as pd\n",
    "#\n",
    "#X_train = pd.read_csv(\"./data/X_train.csv\")\n",
    "#y_train = pd.read_csv(\"./data/y_train.csv\")"
   ]
  },
  {
   "cell_type": "code",
   "execution_count": 12,
   "id": "63d08085",
   "metadata": {
    "execution": {
     "iopub.execute_input": "2025-07-28T11:10:29.469798Z",
     "iopub.status.busy": "2025-07-28T11:10:29.469054Z",
     "iopub.status.idle": "2025-07-28T11:10:29.474514Z",
     "shell.execute_reply": "2025-07-28T11:10:29.473517Z"
    },
    "papermill": {
     "duration": 0.030335,
     "end_time": "2025-07-28T11:10:29.476192",
     "exception": false,
     "start_time": "2025-07-28T11:10:29.445857",
     "status": "completed"
    },
    "tags": []
   },
   "outputs": [],
   "source": [
    "#X_test = pd.read_csv(\"./data/X_test.csv\")\n",
    "#y_true = pd.read_csv(\"./data/y_test.csv\")"
   ]
  },
  {
   "cell_type": "code",
   "execution_count": 13,
   "id": "98a8d0fa-1d3d-4ed8-bb2c-281470e24add",
   "metadata": {
    "execution": {
     "iopub.execute_input": "2025-07-28T11:10:29.520575Z",
     "iopub.status.busy": "2025-07-28T11:10:29.519736Z",
     "iopub.status.idle": "2025-07-28T11:10:29.525450Z",
     "shell.execute_reply": "2025-07-28T11:10:29.524425Z"
    },
    "papermill": {
     "duration": 0.029802,
     "end_time": "2025-07-28T11:10:29.527224",
     "exception": false,
     "start_time": "2025-07-28T11:10:29.497422",
     "status": "completed"
    },
    "tags": []
   },
   "outputs": [],
   "source": [
    "# Calibration data for conformal\n",
    "#X_calib = pd.read_csv(\"./data/X_calib.csv\")\n",
    "#y_calib = pd.read_csv(\"./data/y_calib.csv\")"
   ]
  },
  {
   "cell_type": "markdown",
   "id": "9901737e-04df-44f0-9100-f5ad144ed040",
   "metadata": {
    "papermill": {
     "duration": 0.02113,
     "end_time": "2025-07-28T11:10:29.569565",
     "exception": false,
     "start_time": "2025-07-28T11:10:29.548435",
     "status": "completed"
    },
    "tags": []
   },
   "source": [
    "# Splitting Data and Setting Training Data Size"
   ]
  },
  {
   "cell_type": "code",
   "execution_count": 14,
   "id": "acbc8f7d-8fc8-4e86-8c59-5dcb0f58384b",
   "metadata": {
    "execution": {
     "iopub.execute_input": "2025-07-28T11:10:29.613802Z",
     "iopub.status.busy": "2025-07-28T11:10:29.613052Z",
     "iopub.status.idle": "2025-07-28T11:10:29.621901Z",
     "shell.execute_reply": "2025-07-28T11:10:29.620967Z"
    },
    "papermill": {
     "duration": 0.033292,
     "end_time": "2025-07-28T11:10:29.623565",
     "exception": false,
     "start_time": "2025-07-28T11:10:29.590273",
     "status": "completed"
    },
    "tags": []
   },
   "outputs": [],
   "source": [
    "def sample_by_year(df, training_size, random_state=42):\n",
    "    if training_size == \"2014\":\n",
    "        return df[df[\"year\"] == 2014].reset_index(drop=True)\n",
    "    \n",
    "    size_map = {\n",
    "        \"25k\": 5000,\n",
    "        \"5k\": 1000,\n",
    "        \"1k\": 200\n",
    "    }\n",
    "\n",
    "    if training_size not in size_map:\n",
    "        return df.reset_index(drop=True)  # use all data\n",
    "\n",
    "    n_per_year = size_map[training_size]\n",
    "    grouped = df.groupby(\"year\")\n",
    "    sampled = grouped.apply(lambda x: x.sample(n=min(n_per_year, len(x)), random_state=random_state))\n",
    "    return sampled.reset_index(drop=True)"
   ]
  },
  {
   "cell_type": "code",
   "execution_count": 15,
   "id": "6d931f52-beaf-43ff-9e78-9d44a448d54e",
   "metadata": {
    "execution": {
     "iopub.execute_input": "2025-07-28T11:10:29.667736Z",
     "iopub.status.busy": "2025-07-28T11:10:29.666957Z",
     "iopub.status.idle": "2025-07-28T11:10:29.860651Z",
     "shell.execute_reply": "2025-07-28T11:10:29.859498Z"
    },
    "papermill": {
     "duration": 0.217523,
     "end_time": "2025-07-28T11:10:29.862649",
     "exception": false,
     "start_time": "2025-07-28T11:10:29.645126",
     "status": "completed"
    },
    "tags": []
   },
   "outputs": [],
   "source": [
    "siab_s = sample_by_year(siab, universe[\"training_size\"])"
   ]
  },
  {
   "cell_type": "code",
   "execution_count": 16,
   "id": "5db0a40e-a4e2-4920-be85-b12ae061d70d",
   "metadata": {
    "execution": {
     "iopub.execute_input": "2025-07-28T11:10:29.907858Z",
     "iopub.status.busy": "2025-07-28T11:10:29.907091Z",
     "iopub.status.idle": "2025-07-28T11:10:29.924508Z",
     "shell.execute_reply": "2025-07-28T11:10:29.923474Z"
    },
    "papermill": {
     "duration": 0.042575,
     "end_time": "2025-07-28T11:10:29.926439",
     "exception": false,
     "start_time": "2025-07-28T11:10:29.883864",
     "status": "completed"
    },
    "tags": []
   },
   "outputs": [
    {
     "data": {
      "text/plain": [
       "year\n",
       "2014    87158\n",
       "dtype: int64"
      ]
     },
     "metadata": {},
     "output_type": "display_data"
    }
   ],
   "source": [
    "display(siab_s.groupby(\"year\").size())"
   ]
  },
  {
   "cell_type": "code",
   "execution_count": 17,
   "id": "a561edb4-d032-42cb-8256-22eac1111c64",
   "metadata": {
    "execution": {
     "iopub.execute_input": "2025-07-28T11:10:29.973092Z",
     "iopub.status.busy": "2025-07-28T11:10:29.972112Z",
     "iopub.status.idle": "2025-07-28T11:10:30.320829Z",
     "shell.execute_reply": "2025-07-28T11:10:30.319796Z"
    },
    "papermill": {
     "duration": 0.374243,
     "end_time": "2025-07-28T11:10:30.323048",
     "exception": false,
     "start_time": "2025-07-28T11:10:29.948805",
     "status": "completed"
    },
    "tags": []
   },
   "outputs": [],
   "source": [
    "siab_train = siab_s[siab_s.year < 2015]\n",
    "siab_calib = siab[siab.year == 2015]\n",
    "siab_test = siab[siab.year == 2016]"
   ]
  },
  {
   "cell_type": "code",
   "execution_count": 18,
   "id": "472de16f-c3db-4916-846b-1f0de9cf1746",
   "metadata": {
    "execution": {
     "iopub.execute_input": "2025-07-28T11:10:30.370390Z",
     "iopub.status.busy": "2025-07-28T11:10:30.369959Z",
     "iopub.status.idle": "2025-07-28T11:10:30.430896Z",
     "shell.execute_reply": "2025-07-28T11:10:30.429780Z"
    },
    "papermill": {
     "duration": 0.08664,
     "end_time": "2025-07-28T11:10:30.432755",
     "exception": false,
     "start_time": "2025-07-28T11:10:30.346115",
     "status": "completed"
    },
    "tags": []
   },
   "outputs": [],
   "source": [
    "X_train = siab_train.iloc[:,4:164]\n",
    "y_train = siab_train.iloc[:, [3]]"
   ]
  },
  {
   "cell_type": "code",
   "execution_count": 19,
   "id": "828c96af-f43a-4ed6-ba47-8ac73a47d56c",
   "metadata": {
    "execution": {
     "iopub.execute_input": "2025-07-28T11:10:30.480476Z",
     "iopub.status.busy": "2025-07-28T11:10:30.479658Z",
     "iopub.status.idle": "2025-07-28T11:10:30.536724Z",
     "shell.execute_reply": "2025-07-28T11:10:30.535498Z"
    },
    "papermill": {
     "duration": 0.08284,
     "end_time": "2025-07-28T11:10:30.538414",
     "exception": false,
     "start_time": "2025-07-28T11:10:30.455574",
     "status": "completed"
    },
    "tags": []
   },
   "outputs": [],
   "source": [
    "X_calib = siab_calib.iloc[:,4:164]\n",
    "y_calib = siab_calib.iloc[:, [3]]"
   ]
  },
  {
   "cell_type": "code",
   "execution_count": 20,
   "id": "c34be9c3-6bd6-476e-acd3-845840e303be",
   "metadata": {
    "execution": {
     "iopub.execute_input": "2025-07-28T11:10:30.585545Z",
     "iopub.status.busy": "2025-07-28T11:10:30.584565Z",
     "iopub.status.idle": "2025-07-28T11:10:30.644990Z",
     "shell.execute_reply": "2025-07-28T11:10:30.643758Z"
    },
    "papermill": {
     "duration": 0.08548,
     "end_time": "2025-07-28T11:10:30.646794",
     "exception": false,
     "start_time": "2025-07-28T11:10:30.561314",
     "status": "completed"
    },
    "tags": []
   },
   "outputs": [],
   "source": [
    "X_test = siab_test.iloc[:,4:164]\n",
    "y_true = siab_test.iloc[:, [3]]"
   ]
  },
  {
   "cell_type": "code",
   "execution_count": 21,
   "id": "e6c733c5",
   "metadata": {
    "execution": {
     "iopub.execute_input": "2025-07-28T11:10:30.693152Z",
     "iopub.status.busy": "2025-07-28T11:10:30.692323Z",
     "iopub.status.idle": "2025-07-28T11:10:30.841393Z",
     "shell.execute_reply": "2025-07-28T11:10:30.840354Z"
    },
    "papermill": {
     "duration": 0.17416,
     "end_time": "2025-07-28T11:10:30.843671",
     "exception": false,
     "start_time": "2025-07-28T11:10:30.669511",
     "status": "completed"
    },
    "tags": []
   },
   "outputs": [],
   "source": [
    "# Auxiliary data needed downstream in the pipeline\n",
    "\n",
    "org_train = X_train.copy()\n",
    "org_test = X_test.copy()\n",
    "org_calib = X_calib.copy()"
   ]
  },
  {
   "cell_type": "markdown",
   "id": "0a4a1b33",
   "metadata": {
    "papermill": {
     "duration": 0.024771,
     "end_time": "2025-07-28T11:10:30.890946",
     "exception": false,
     "start_time": "2025-07-28T11:10:30.866175",
     "status": "completed"
    },
    "tags": []
   },
   "source": [
    "# Preprocessing Data"
   ]
  },
  {
   "cell_type": "code",
   "execution_count": 22,
   "id": "ca879031",
   "metadata": {
    "execution": {
     "iopub.execute_input": "2025-07-28T11:10:30.936953Z",
     "iopub.status.busy": "2025-07-28T11:10:30.936153Z",
     "iopub.status.idle": "2025-07-28T11:10:30.942664Z",
     "shell.execute_reply": "2025-07-28T11:10:30.941623Z"
    },
    "papermill": {
     "duration": 0.03119,
     "end_time": "2025-07-28T11:10:30.944547",
     "exception": false,
     "start_time": "2025-07-28T11:10:30.913357",
     "status": "completed"
    },
    "tags": []
   },
   "outputs": [],
   "source": [
    "# EXCLUDE PROTECTED FEATURES\n",
    "# ----------------------\n",
    "# \"exclude_features\": \"none\", # \"nationality\", \"sex\", \"nationality-sex\"\n",
    "\n",
    "excluded_features = universe[\"exclude_features\"].split(\"-\") # split, e.g.: \"nationality-sex\" -> [\"nationality\", \"sex\"]\n",
    "excluded_features_dictionary = {\n",
    "    \"nationality\": [\"maxdeutsch1\", \"maxdeutsch.Missing.\"],\n",
    "    \"sex\": [\"frau1\"],\n",
    "    \"age\": [\"age\"],\n",
    "}\n"
   ]
  },
  {
   "cell_type": "code",
   "execution_count": 23,
   "id": "b745ac60",
   "metadata": {
    "execution": {
     "iopub.execute_input": "2025-07-28T11:10:30.993031Z",
     "iopub.status.busy": "2025-07-28T11:10:30.992227Z",
     "iopub.status.idle": "2025-07-28T11:10:30.999086Z",
     "shell.execute_reply": "2025-07-28T11:10:30.997986Z"
    },
    "papermill": {
     "duration": 0.032249,
     "end_time": "2025-07-28T11:10:31.001046",
     "exception": false,
     "start_time": "2025-07-28T11:10:30.968797",
     "status": "completed"
    },
    "tags": []
   },
   "outputs": [],
   "source": [
    "# Code nice names to column names\n",
    "\n",
    "excluded_features_columns = [\n",
    "    excluded_features_dictionary[f] for f in excluded_features if len(f) > 0 and f != \"none\"\n",
    "]"
   ]
  },
  {
   "cell_type": "code",
   "execution_count": 24,
   "id": "f84f73a2",
   "metadata": {
    "execution": {
     "iopub.execute_input": "2025-07-28T11:10:31.048794Z",
     "iopub.status.busy": "2025-07-28T11:10:31.047931Z",
     "iopub.status.idle": "2025-07-28T11:10:31.055280Z",
     "shell.execute_reply": "2025-07-28T11:10:31.054254Z"
    },
    "papermill": {
     "duration": 0.032818,
     "end_time": "2025-07-28T11:10:31.057224",
     "exception": false,
     "start_time": "2025-07-28T11:10:31.024406",
     "status": "completed"
    },
    "tags": []
   },
   "outputs": [],
   "source": [
    "from utils import flatten_once\n",
    "\n",
    "excluded_features_columns = flatten_once(excluded_features_columns)"
   ]
  },
  {
   "cell_type": "code",
   "execution_count": 25,
   "id": "884dea22",
   "metadata": {
    "execution": {
     "iopub.execute_input": "2025-07-28T11:10:31.104917Z",
     "iopub.status.busy": "2025-07-28T11:10:31.104176Z",
     "iopub.status.idle": "2025-07-28T11:10:31.111019Z",
     "shell.execute_reply": "2025-07-28T11:10:31.109985Z"
    },
    "papermill": {
     "duration": 0.03238,
     "end_time": "2025-07-28T11:10:31.113040",
     "exception": false,
     "start_time": "2025-07-28T11:10:31.080660",
     "status": "completed"
    },
    "tags": []
   },
   "outputs": [],
   "source": [
    "if len(excluded_features_columns) > 0:\n",
    "    print(f\"Dropping features: {excluded_features_columns}\")\n",
    "    X_train.drop(excluded_features_columns, axis=1, inplace=True)"
   ]
  },
  {
   "cell_type": "code",
   "execution_count": 26,
   "id": "95ab8b16",
   "metadata": {
    "execution": {
     "iopub.execute_input": "2025-07-28T11:10:31.160315Z",
     "iopub.status.busy": "2025-07-28T11:10:31.159549Z",
     "iopub.status.idle": "2025-07-28T11:10:31.165579Z",
     "shell.execute_reply": "2025-07-28T11:10:31.164511Z"
    },
    "papermill": {
     "duration": 0.031568,
     "end_time": "2025-07-28T11:10:31.167360",
     "exception": false,
     "start_time": "2025-07-28T11:10:31.135792",
     "status": "completed"
    },
    "tags": []
   },
   "outputs": [],
   "source": [
    "if len(excluded_features_columns) > 0:\n",
    "    print(f\"Dropping features: {excluded_features_columns}\")\n",
    "    X_test.drop(excluded_features_columns, axis=1, inplace=True)"
   ]
  },
  {
   "cell_type": "code",
   "execution_count": 27,
   "id": "1853aaf5-fb9f-46cb-a2b5-8ea4ae2237e4",
   "metadata": {
    "execution": {
     "iopub.execute_input": "2025-07-28T11:10:31.214526Z",
     "iopub.status.busy": "2025-07-28T11:10:31.213784Z",
     "iopub.status.idle": "2025-07-28T11:10:31.220253Z",
     "shell.execute_reply": "2025-07-28T11:10:31.219221Z"
    },
    "papermill": {
     "duration": 0.031419,
     "end_time": "2025-07-28T11:10:31.221925",
     "exception": false,
     "start_time": "2025-07-28T11:10:31.190506",
     "status": "completed"
    },
    "tags": []
   },
   "outputs": [],
   "source": [
    "if len(excluded_features_columns) > 0:\n",
    "    print(f\"Dropping features: {excluded_features_columns}\")\n",
    "    X_calib.drop(excluded_features_columns, axis=1, inplace=True)"
   ]
  },
  {
   "cell_type": "code",
   "execution_count": 28,
   "id": "6727d079-03e5-481e-9d38-292a90b7a0a8",
   "metadata": {
    "execution": {
     "iopub.execute_input": "2025-07-28T11:10:31.269764Z",
     "iopub.status.busy": "2025-07-28T11:10:31.269049Z",
     "iopub.status.idle": "2025-07-28T11:10:31.274734Z",
     "shell.execute_reply": "2025-07-28T11:10:31.273820Z"
    },
    "papermill": {
     "duration": 0.031042,
     "end_time": "2025-07-28T11:10:31.276702",
     "exception": false,
     "start_time": "2025-07-28T11:10:31.245660",
     "status": "completed"
    },
    "tags": []
   },
   "outputs": [],
   "source": [
    "# SPLIT & STRATIFY DATA\n",
    "# ----------------------"
   ]
  },
  {
   "cell_type": "code",
   "execution_count": 29,
   "id": "76c4dc6d",
   "metadata": {
    "execution": {
     "iopub.execute_input": "2025-07-28T11:10:31.324667Z",
     "iopub.status.busy": "2025-07-28T11:10:31.323859Z",
     "iopub.status.idle": "2025-07-28T11:10:31.329950Z",
     "shell.execute_reply": "2025-07-28T11:10:31.328815Z"
    },
    "papermill": {
     "duration": 0.031281,
     "end_time": "2025-07-28T11:10:31.331806",
     "exception": false,
     "start_time": "2025-07-28T11:10:31.300525",
     "status": "completed"
    },
    "tags": []
   },
   "outputs": [],
   "source": [
    "# EXCLUDE CERTAIN SUBGROUPS\n",
    "# ----------------------\n",
    "\n",
    "mode = universe.get(\"exclude_subgroups\", \"keep-all\") \n",
    "# Fetches the exclude_subgroups setting from the universe dict.\n",
    "# Defaults to \"keep-all\" if the key is missing."
   ]
  },
  {
   "cell_type": "code",
   "execution_count": 30,
   "id": "21994072",
   "metadata": {
    "execution": {
     "iopub.execute_input": "2025-07-28T11:10:31.380338Z",
     "iopub.status.busy": "2025-07-28T11:10:31.379539Z",
     "iopub.status.idle": "2025-07-28T11:10:31.387793Z",
     "shell.execute_reply": "2025-07-28T11:10:31.386751Z"
    },
    "papermill": {
     "duration": 0.034571,
     "end_time": "2025-07-28T11:10:31.389745",
     "exception": false,
     "start_time": "2025-07-28T11:10:31.355174",
     "status": "completed"
    },
    "tags": []
   },
   "outputs": [],
   "source": [
    "if mode == \"keep-all\":\n",
    "    keep_mask = pd.Series(True, index=org_train.index)\n",
    "\n",
    "# org_train contains the original feature columns from features_org (in Simson)\n",
    "# features_org contains unprocessed features, for me X_train at beginning ???\n",
    "# For keep-all, creates a boolean Series (keep_mask) of all True, so no rows are removed.\n",
    "\n",
    "elif mode == \"drop-non-german\":\n",
    "    keep_mask = org_train[\"maxdeutsch1\"] == 1 # ??? what about missing values?\n",
    "\n",
    "else:\n",
    "    raise ValueError(f\"Unsupported mode for exclude_subgroups: {mode}\")\n"
   ]
  },
  {
   "cell_type": "code",
   "execution_count": 31,
   "id": "71651440",
   "metadata": {
    "execution": {
     "iopub.execute_input": "2025-07-28T11:10:31.438290Z",
     "iopub.status.busy": "2025-07-28T11:10:31.437560Z",
     "iopub.status.idle": "2025-07-28T11:10:31.446125Z",
     "shell.execute_reply": "2025-07-28T11:10:31.445066Z"
    },
    "papermill": {
     "duration": 0.034098,
     "end_time": "2025-07-28T11:10:31.447998",
     "exception": false,
     "start_time": "2025-07-28T11:10:31.413900",
     "status": "completed"
    },
    "tags": []
   },
   "outputs": [
    {
     "name": "stdout",
     "output_type": "stream",
     "text": [
      "Dropping 12995 rows (14.91%) where mode='drop-non-german'\n"
     ]
    }
   ],
   "source": [
    "n_drop = (~keep_mask).sum() # Calculates how many rows are set to be dropped\n",
    "if n_drop > 0:\n",
    "    pct = n_drop / len(keep_mask) * 100\n",
    "    print(f\"Dropping {n_drop} rows ({pct:.2f}%) where mode='{mode}'\")"
   ]
  },
  {
   "cell_type": "code",
   "execution_count": 32,
   "id": "5fb8eee5",
   "metadata": {
    "execution": {
     "iopub.execute_input": "2025-07-28T11:10:31.495839Z",
     "iopub.status.busy": "2025-07-28T11:10:31.495127Z",
     "iopub.status.idle": "2025-07-28T11:10:31.557914Z",
     "shell.execute_reply": "2025-07-28T11:10:31.556842Z"
    },
    "papermill": {
     "duration": 0.089039,
     "end_time": "2025-07-28T11:10:31.560245",
     "exception": false,
     "start_time": "2025-07-28T11:10:31.471206",
     "status": "completed"
    },
    "tags": []
   },
   "outputs": [],
   "source": [
    "X_train = X_train[keep_mask]"
   ]
  },
  {
   "cell_type": "code",
   "execution_count": 33,
   "id": "b202bb3a",
   "metadata": {
    "execution": {
     "iopub.execute_input": "2025-07-28T11:10:31.608888Z",
     "iopub.status.busy": "2025-07-28T11:10:31.608100Z",
     "iopub.status.idle": "2025-07-28T11:10:31.617170Z",
     "shell.execute_reply": "2025-07-28T11:10:31.615977Z"
    },
    "papermill": {
     "duration": 0.035006,
     "end_time": "2025-07-28T11:10:31.618978",
     "exception": false,
     "start_time": "2025-07-28T11:10:31.583972",
     "status": "completed"
    },
    "tags": []
   },
   "outputs": [],
   "source": [
    "y_train = y_train[keep_mask]"
   ]
  },
  {
   "cell_type": "markdown",
   "id": "493e2ac3",
   "metadata": {
    "papermill": {
     "duration": 0.022878,
     "end_time": "2025-07-28T11:10:31.665015",
     "exception": false,
     "start_time": "2025-07-28T11:10:31.642137",
     "status": "completed"
    },
    "tags": []
   },
   "source": [
    "# Model Training"
   ]
  },
  {
   "cell_type": "code",
   "execution_count": 34,
   "id": "679e1268",
   "metadata": {
    "execution": {
     "iopub.execute_input": "2025-07-28T11:10:31.712552Z",
     "iopub.status.busy": "2025-07-28T11:10:31.711698Z",
     "iopub.status.idle": "2025-07-28T11:10:31.826654Z",
     "shell.execute_reply": "2025-07-28T11:10:31.825624Z"
    },
    "papermill": {
     "duration": 0.140827,
     "end_time": "2025-07-28T11:10:31.828889",
     "exception": false,
     "start_time": "2025-07-28T11:10:31.688062",
     "status": "completed"
    },
    "tags": []
   },
   "outputs": [],
   "source": [
    "from sklearn.linear_model import LogisticRegression\n",
    "from sklearn.ensemble import GradientBoostingClassifier, RandomForestClassifier\n",
    "\n",
    "if (universe[\"model\"] == \"logreg\"):\n",
    "    model = LogisticRegression() #penalty=\"none\") #, solver=\"newton-cg\", max_iter=1) # include random_state=19 ?\n",
    "elif (universe[\"model\"] == \"penalized_logreg\"):\n",
    "    model = LogisticRegression(penalty=\"l2\", C=1.0) #, solver=\"newton-cg\", max_iter=1)\n",
    "elif (universe[\"model\"] == \"rf\"):\n",
    "    model = RandomForestClassifier(n_estimators=100, n_jobs=-1)\n",
    "elif (universe[\"model\"] == \"gbm\"):\n",
    "    model = GradientBoostingClassifier()\n",
    "elif (universe[\"model\"] == \"elasticnet\"):\n",
    "    model = LogisticRegression(penalty = 'elasticnet', solver = 'saga', l1_ratio = 0.5, max_iter=5000) # which solver to use?\n",
    "else:\n",
    "    raise \"Unsupported universe.model\""
   ]
  },
  {
   "cell_type": "code",
   "execution_count": 35,
   "id": "0cc8f744",
   "metadata": {
    "execution": {
     "iopub.execute_input": "2025-07-28T11:10:31.876911Z",
     "iopub.status.busy": "2025-07-28T11:10:31.875882Z",
     "iopub.status.idle": "2025-07-28T11:10:31.883084Z",
     "shell.execute_reply": "2025-07-28T11:10:31.882085Z"
    },
    "papermill": {
     "duration": 0.032828,
     "end_time": "2025-07-28T11:10:31.884874",
     "exception": false,
     "start_time": "2025-07-28T11:10:31.852046",
     "status": "completed"
    },
    "tags": []
   },
   "outputs": [],
   "source": [
    "import numpy as np\n",
    "from sklearn.pipeline import Pipeline\n",
    "from sklearn.preprocessing import StandardScaler\n",
    "\n",
    "model = Pipeline([\n",
    "    #(\"continuous_processor\", continuous_processor),\n",
    "    #(\"categorical_preprocessor\", categorical_preprocessor),\n",
    "    (\"scale\", StandardScaler() if universe[\"scale\"] == \"scale\" else None), \n",
    "    (\"model\", model),\n",
    "])"
   ]
  },
  {
   "cell_type": "code",
   "execution_count": 36,
   "id": "9442c04d",
   "metadata": {
    "execution": {
     "iopub.execute_input": "2025-07-28T11:10:31.933140Z",
     "iopub.status.busy": "2025-07-28T11:10:31.932334Z",
     "iopub.status.idle": "2025-07-28T11:17:37.810256Z",
     "shell.execute_reply": "2025-07-28T11:17:37.808963Z"
    },
    "papermill": {
     "duration": 425.917018,
     "end_time": "2025-07-28T11:17:37.825822",
     "exception": false,
     "start_time": "2025-07-28T11:10:31.908804",
     "status": "completed"
    },
    "tags": []
   },
   "outputs": [
    {
     "data": {
      "text/html": [
       "<style>#sk-container-id-1 {color: black;background-color: white;}#sk-container-id-1 pre{padding: 0;}#sk-container-id-1 div.sk-toggleable {background-color: white;}#sk-container-id-1 label.sk-toggleable__label {cursor: pointer;display: block;width: 100%;margin-bottom: 0;padding: 0.3em;box-sizing: border-box;text-align: center;}#sk-container-id-1 label.sk-toggleable__label-arrow:before {content: \"▸\";float: left;margin-right: 0.25em;color: #696969;}#sk-container-id-1 label.sk-toggleable__label-arrow:hover:before {color: black;}#sk-container-id-1 div.sk-estimator:hover label.sk-toggleable__label-arrow:before {color: black;}#sk-container-id-1 div.sk-toggleable__content {max-height: 0;max-width: 0;overflow: hidden;text-align: left;background-color: #f0f8ff;}#sk-container-id-1 div.sk-toggleable__content pre {margin: 0.2em;color: black;border-radius: 0.25em;background-color: #f0f8ff;}#sk-container-id-1 input.sk-toggleable__control:checked~div.sk-toggleable__content {max-height: 200px;max-width: 100%;overflow: auto;}#sk-container-id-1 input.sk-toggleable__control:checked~label.sk-toggleable__label-arrow:before {content: \"▾\";}#sk-container-id-1 div.sk-estimator input.sk-toggleable__control:checked~label.sk-toggleable__label {background-color: #d4ebff;}#sk-container-id-1 div.sk-label input.sk-toggleable__control:checked~label.sk-toggleable__label {background-color: #d4ebff;}#sk-container-id-1 input.sk-hidden--visually {border: 0;clip: rect(1px 1px 1px 1px);clip: rect(1px, 1px, 1px, 1px);height: 1px;margin: -1px;overflow: hidden;padding: 0;position: absolute;width: 1px;}#sk-container-id-1 div.sk-estimator {font-family: monospace;background-color: #f0f8ff;border: 1px dotted black;border-radius: 0.25em;box-sizing: border-box;margin-bottom: 0.5em;}#sk-container-id-1 div.sk-estimator:hover {background-color: #d4ebff;}#sk-container-id-1 div.sk-parallel-item::after {content: \"\";width: 100%;border-bottom: 1px solid gray;flex-grow: 1;}#sk-container-id-1 div.sk-label:hover label.sk-toggleable__label {background-color: #d4ebff;}#sk-container-id-1 div.sk-serial::before {content: \"\";position: absolute;border-left: 1px solid gray;box-sizing: border-box;top: 0;bottom: 0;left: 50%;z-index: 0;}#sk-container-id-1 div.sk-serial {display: flex;flex-direction: column;align-items: center;background-color: white;padding-right: 0.2em;padding-left: 0.2em;position: relative;}#sk-container-id-1 div.sk-item {position: relative;z-index: 1;}#sk-container-id-1 div.sk-parallel {display: flex;align-items: stretch;justify-content: center;background-color: white;position: relative;}#sk-container-id-1 div.sk-item::before, #sk-container-id-1 div.sk-parallel-item::before {content: \"\";position: absolute;border-left: 1px solid gray;box-sizing: border-box;top: 0;bottom: 0;left: 50%;z-index: -1;}#sk-container-id-1 div.sk-parallel-item {display: flex;flex-direction: column;z-index: 1;position: relative;background-color: white;}#sk-container-id-1 div.sk-parallel-item:first-child::after {align-self: flex-end;width: 50%;}#sk-container-id-1 div.sk-parallel-item:last-child::after {align-self: flex-start;width: 50%;}#sk-container-id-1 div.sk-parallel-item:only-child::after {width: 0;}#sk-container-id-1 div.sk-dashed-wrapped {border: 1px dashed gray;margin: 0 0.4em 0.5em 0.4em;box-sizing: border-box;padding-bottom: 0.4em;background-color: white;}#sk-container-id-1 div.sk-label label {font-family: monospace;font-weight: bold;display: inline-block;line-height: 1.2em;}#sk-container-id-1 div.sk-label-container {text-align: center;}#sk-container-id-1 div.sk-container {/* jupyter's `normalize.less` sets `[hidden] { display: none; }` but bootstrap.min.css set `[hidden] { display: none !important; }` so we also need the `!important` here to be able to override the default hidden behavior on the sphinx rendered scikit-learn.org. See: https://github.com/scikit-learn/scikit-learn/issues/21755 */display: inline-block !important;position: relative;}#sk-container-id-1 div.sk-text-repr-fallback {display: none;}</style><div id=\"sk-container-id-1\" class=\"sk-top-container\"><div class=\"sk-text-repr-fallback\"><pre>Pipeline(steps=[(&#x27;scale&#x27;, None),\n",
       "                (&#x27;model&#x27;,\n",
       "                 LogisticRegression(l1_ratio=0.5, max_iter=5000,\n",
       "                                    penalty=&#x27;elasticnet&#x27;, solver=&#x27;saga&#x27;))])</pre><b>In a Jupyter environment, please rerun this cell to show the HTML representation or trust the notebook. <br />On GitHub, the HTML representation is unable to render, please try loading this page with nbviewer.org.</b></div><div class=\"sk-container\" hidden><div class=\"sk-item sk-dashed-wrapped\"><div class=\"sk-label-container\"><div class=\"sk-label sk-toggleable\"><input class=\"sk-toggleable__control sk-hidden--visually\" id=\"sk-estimator-id-1\" type=\"checkbox\" ><label for=\"sk-estimator-id-1\" class=\"sk-toggleable__label sk-toggleable__label-arrow\">Pipeline</label><div class=\"sk-toggleable__content\"><pre>Pipeline(steps=[(&#x27;scale&#x27;, None),\n",
       "                (&#x27;model&#x27;,\n",
       "                 LogisticRegression(l1_ratio=0.5, max_iter=5000,\n",
       "                                    penalty=&#x27;elasticnet&#x27;, solver=&#x27;saga&#x27;))])</pre></div></div></div><div class=\"sk-serial\"><div class=\"sk-item\"><div class=\"sk-estimator sk-toggleable\"><input class=\"sk-toggleable__control sk-hidden--visually\" id=\"sk-estimator-id-2\" type=\"checkbox\" ><label for=\"sk-estimator-id-2\" class=\"sk-toggleable__label sk-toggleable__label-arrow\">None</label><div class=\"sk-toggleable__content\"><pre>None</pre></div></div></div><div class=\"sk-item\"><div class=\"sk-estimator sk-toggleable\"><input class=\"sk-toggleable__control sk-hidden--visually\" id=\"sk-estimator-id-3\" type=\"checkbox\" ><label for=\"sk-estimator-id-3\" class=\"sk-toggleable__label sk-toggleable__label-arrow\">LogisticRegression</label><div class=\"sk-toggleable__content\"><pre>LogisticRegression(l1_ratio=0.5, max_iter=5000, penalty=&#x27;elasticnet&#x27;,\n",
       "                   solver=&#x27;saga&#x27;)</pre></div></div></div></div></div></div></div>"
      ],
      "text/plain": [
       "Pipeline(steps=[('scale', None),\n",
       "                ('model',\n",
       "                 LogisticRegression(l1_ratio=0.5, max_iter=5000,\n",
       "                                    penalty='elasticnet', solver='saga'))])"
      ]
     },
     "execution_count": 36,
     "metadata": {},
     "output_type": "execute_result"
    }
   ],
   "source": [
    "model.fit(X_train, y_train.values.ravel())"
   ]
  },
  {
   "cell_type": "code",
   "execution_count": 37,
   "id": "af59f8c0",
   "metadata": {
    "execution": {
     "iopub.execute_input": "2025-07-28T11:17:37.850642Z",
     "iopub.status.busy": "2025-07-28T11:17:37.850115Z",
     "iopub.status.idle": "2025-07-28T11:17:37.855000Z",
     "shell.execute_reply": "2025-07-28T11:17:37.854222Z"
    },
    "papermill": {
     "duration": 0.018708,
     "end_time": "2025-07-28T11:17:37.856490",
     "exception": false,
     "start_time": "2025-07-28T11:17:37.837782",
     "status": "completed"
    },
    "tags": []
   },
   "outputs": [],
   "source": [
    "from fairness_multiverse.universe import predict_w_threshold"
   ]
  },
  {
   "cell_type": "code",
   "execution_count": 38,
   "id": "a7cf2e16",
   "metadata": {
    "execution": {
     "iopub.execute_input": "2025-07-28T11:17:37.881482Z",
     "iopub.status.busy": "2025-07-28T11:17:37.880742Z",
     "iopub.status.idle": "2025-07-28T11:17:37.972604Z",
     "shell.execute_reply": "2025-07-28T11:17:37.971727Z"
    },
    "papermill": {
     "duration": 0.105511,
     "end_time": "2025-07-28T11:17:37.974025",
     "exception": false,
     "start_time": "2025-07-28T11:17:37.868514",
     "status": "completed"
    },
    "tags": []
   },
   "outputs": [
    {
     "data": {
      "text/plain": [
       "0.8598595474306098"
      ]
     },
     "execution_count": 38,
     "metadata": {},
     "output_type": "execute_result"
    }
   ],
   "source": [
    "probs_test = model.predict_proba(X_test)\n",
    "\n",
    "'''\n",
    "Below code returns a boolean array (or binary 0/1 array depending on how it’s used) where each element \n",
    "is True if the probability of class 1 is greater than or equal to the threshold, and False otherwise.\n",
    "'''\n",
    "y_pred_default = predict_w_threshold(probs_test, 0.5)\n",
    "\n",
    "from sklearn.metrics import accuracy_score\n",
    "\n",
    "# Naive prediction\n",
    "accuracy_score(y_true = y_true, y_pred = y_pred_default)"
   ]
  },
  {
   "cell_type": "code",
   "execution_count": 39,
   "id": "081964c3",
   "metadata": {
    "execution": {
     "iopub.execute_input": "2025-07-28T11:17:37.999712Z",
     "iopub.status.busy": "2025-07-28T11:17:37.999158Z",
     "iopub.status.idle": "2025-07-28T11:17:38.076599Z",
     "shell.execute_reply": "2025-07-28T11:17:38.075719Z"
    },
    "papermill": {
     "duration": 0.09138,
     "end_time": "2025-07-28T11:17:38.077977",
     "exception": false,
     "start_time": "2025-07-28T11:17:37.986597",
     "status": "completed"
    },
    "tags": []
   },
   "outputs": [
    {
     "data": {
      "text/plain": [
       "array([0, 0, 0, ..., 0, 0, 0])"
      ]
     },
     "execution_count": 39,
     "metadata": {},
     "output_type": "execute_result"
    }
   ],
   "source": [
    "model.predict(X_test)"
   ]
  },
  {
   "cell_type": "markdown",
   "id": "56c9705b",
   "metadata": {
    "papermill": {
     "duration": 0.011807,
     "end_time": "2025-07-28T11:17:38.102737",
     "exception": false,
     "start_time": "2025-07-28T11:17:38.090930",
     "status": "completed"
    },
    "tags": []
   },
   "source": [
    "# Conformal Prediction"
   ]
  },
  {
   "cell_type": "code",
   "execution_count": 40,
   "id": "160ec6ff",
   "metadata": {
    "execution": {
     "iopub.execute_input": "2025-07-28T11:17:38.127441Z",
     "iopub.status.busy": "2025-07-28T11:17:38.126897Z",
     "iopub.status.idle": "2025-07-28T11:17:38.131711Z",
     "shell.execute_reply": "2025-07-28T11:17:38.130890Z"
    },
    "papermill": {
     "duration": 0.019004,
     "end_time": "2025-07-28T11:17:38.133184",
     "exception": false,
     "start_time": "2025-07-28T11:17:38.114180",
     "status": "completed"
    },
    "tags": []
   },
   "outputs": [],
   "source": [
    "# Miscoverage level for conformal prediction (10% allowed error rate => 90% target coverage)\n",
    "alpha = 0.1"
   ]
  },
  {
   "cell_type": "code",
   "execution_count": 41,
   "id": "eadf4555-3dd3-440e-8e35-f82a4ad9f855",
   "metadata": {
    "execution": {
     "iopub.execute_input": "2025-07-28T11:17:38.158161Z",
     "iopub.status.busy": "2025-07-28T11:17:38.157848Z",
     "iopub.status.idle": "2025-07-28T11:17:38.236634Z",
     "shell.execute_reply": "2025-07-28T11:17:38.235804Z"
    },
    "papermill": {
     "duration": 0.092772,
     "end_time": "2025-07-28T11:17:38.238192",
     "exception": false,
     "start_time": "2025-07-28T11:17:38.145420",
     "status": "completed"
    },
    "tags": []
   },
   "outputs": [],
   "source": [
    "probs_calib = model.predict_proba(X_calib)"
   ]
  },
  {
   "cell_type": "code",
   "execution_count": 42,
   "id": "2ed93547-6d5d-4983-9b36-1ecb300da49a",
   "metadata": {
    "execution": {
     "iopub.execute_input": "2025-07-28T11:17:38.263967Z",
     "iopub.status.busy": "2025-07-28T11:17:38.263495Z",
     "iopub.status.idle": "2025-07-28T11:17:38.269098Z",
     "shell.execute_reply": "2025-07-28T11:17:38.268356Z"
    },
    "papermill": {
     "duration": 0.019604,
     "end_time": "2025-07-28T11:17:38.270390",
     "exception": false,
     "start_time": "2025-07-28T11:17:38.250786",
     "status": "completed"
    },
    "tags": []
   },
   "outputs": [],
   "source": [
    "y_calib = y_calib.values.ravel().astype(int)"
   ]
  },
  {
   "cell_type": "code",
   "execution_count": 43,
   "id": "65d1320d-f588-4b38-9072-62af1ae97f7d",
   "metadata": {
    "execution": {
     "iopub.execute_input": "2025-07-28T11:17:38.296131Z",
     "iopub.status.busy": "2025-07-28T11:17:38.295786Z",
     "iopub.status.idle": "2025-07-28T11:17:38.301980Z",
     "shell.execute_reply": "2025-07-28T11:17:38.301222Z"
    },
    "papermill": {
     "duration": 0.020547,
     "end_time": "2025-07-28T11:17:38.303435",
     "exception": false,
     "start_time": "2025-07-28T11:17:38.282888",
     "status": "completed"
    },
    "tags": []
   },
   "outputs": [],
   "source": [
    "from fairness_multiverse.conformal import compute_nc_scores\n",
    "\n",
    "# Compute nonconformity scores on calibration set (1 - probability of true class)\n",
    "nc_scores = compute_nc_scores(probs_calib, y_calib)"
   ]
  },
  {
   "cell_type": "code",
   "execution_count": 44,
   "id": "df3b8ca3-53b7-43d5-9667-7c85da7aeda2",
   "metadata": {
    "execution": {
     "iopub.execute_input": "2025-07-28T11:17:38.329521Z",
     "iopub.status.busy": "2025-07-28T11:17:38.329206Z",
     "iopub.status.idle": "2025-07-28T11:17:38.335001Z",
     "shell.execute_reply": "2025-07-28T11:17:38.334276Z"
    },
    "papermill": {
     "duration": 0.020354,
     "end_time": "2025-07-28T11:17:38.336376",
     "exception": false,
     "start_time": "2025-07-28T11:17:38.316022",
     "status": "completed"
    },
    "tags": []
   },
   "outputs": [],
   "source": [
    "from fairness_multiverse.conformal import find_threshold\n",
    "\n",
    "# Find conformal threshold q_hat for the given alpha (split conformal method)\n",
    "q_hat = find_threshold(nc_scores, alpha)"
   ]
  },
  {
   "cell_type": "code",
   "execution_count": 45,
   "id": "4d29e6c1-0ef6-4aa4-b8fe-4fe79b0d033a",
   "metadata": {
    "execution": {
     "iopub.execute_input": "2025-07-28T11:17:38.361967Z",
     "iopub.status.busy": "2025-07-28T11:17:38.361315Z",
     "iopub.status.idle": "2025-07-28T11:17:38.367504Z",
     "shell.execute_reply": "2025-07-28T11:17:38.366798Z"
    },
    "papermill": {
     "duration": 0.020067,
     "end_time": "2025-07-28T11:17:38.368940",
     "exception": false,
     "start_time": "2025-07-28T11:17:38.348873",
     "status": "completed"
    },
    "tags": []
   },
   "outputs": [
    {
     "data": {
      "text/plain": [
       "0.6889984013844324"
      ]
     },
     "execution_count": 45,
     "metadata": {},
     "output_type": "execute_result"
    }
   ],
   "source": [
    "q_hat"
   ]
  },
  {
   "cell_type": "code",
   "execution_count": 46,
   "id": "92460794-cdac-4be2-ba28-f28c0515a6fb",
   "metadata": {
    "execution": {
     "iopub.execute_input": "2025-07-28T11:17:38.394355Z",
     "iopub.status.busy": "2025-07-28T11:17:38.393905Z",
     "iopub.status.idle": "2025-07-28T11:17:38.894181Z",
     "shell.execute_reply": "2025-07-28T11:17:38.893439Z"
    },
    "papermill": {
     "duration": 0.514409,
     "end_time": "2025-07-28T11:17:38.895739",
     "exception": false,
     "start_time": "2025-07-28T11:17:38.381330",
     "status": "completed"
    },
    "tags": []
   },
   "outputs": [],
   "source": [
    "from fairness_multiverse.conformal import predict_conformal_sets\n",
    "\n",
    "# Generate prediction sets for each test example\n",
    "pred_sets = predict_conformal_sets(model, X_test, q_hat)"
   ]
  },
  {
   "cell_type": "code",
   "execution_count": 47,
   "id": "d90c9a65-e6db-4f5d-80cd-e68fb7e46829",
   "metadata": {
    "execution": {
     "iopub.execute_input": "2025-07-28T11:17:38.921984Z",
     "iopub.status.busy": "2025-07-28T11:17:38.921483Z",
     "iopub.status.idle": "2025-07-28T11:17:38.926211Z",
     "shell.execute_reply": "2025-07-28T11:17:38.925413Z"
    },
    "papermill": {
     "duration": 0.019121,
     "end_time": "2025-07-28T11:17:38.927631",
     "exception": false,
     "start_time": "2025-07-28T11:17:38.908510",
     "status": "completed"
    },
    "tags": []
   },
   "outputs": [],
   "source": [
    "y_true = y_true.squeeze()"
   ]
  },
  {
   "cell_type": "code",
   "execution_count": 48,
   "id": "3a58a54a-1e68-46b9-927a-df01f18aebc8",
   "metadata": {
    "execution": {
     "iopub.execute_input": "2025-07-28T11:17:38.954328Z",
     "iopub.status.busy": "2025-07-28T11:17:38.953639Z",
     "iopub.status.idle": "2025-07-28T11:17:39.459418Z",
     "shell.execute_reply": "2025-07-28T11:17:39.458605Z"
    },
    "papermill": {
     "duration": 0.520118,
     "end_time": "2025-07-28T11:17:39.461000",
     "exception": false,
     "start_time": "2025-07-28T11:17:38.940882",
     "status": "completed"
    },
    "tags": []
   },
   "outputs": [],
   "source": [
    "from fairness_multiverse.conformal import evaluate_sets\n",
    "\n",
    "# Evaluate coverage and average set size on test data\n",
    "metrics = evaluate_sets(pred_sets, y_true)"
   ]
  },
  {
   "cell_type": "markdown",
   "id": "2b569c12-9aaa-4c88-98c9-bbcd0cf3ebb8",
   "metadata": {
    "papermill": {
     "duration": 0.012,
     "end_time": "2025-07-28T11:17:39.485954",
     "exception": false,
     "start_time": "2025-07-28T11:17:39.473954",
     "status": "completed"
    },
    "tags": []
   },
   "source": [
    "# CP Metrics"
   ]
  },
  {
   "cell_type": "code",
   "execution_count": 49,
   "id": "5ce0a5cb-201f-45a0-ade5-94c7f0bd6095",
   "metadata": {
    "execution": {
     "iopub.execute_input": "2025-07-28T11:17:39.512227Z",
     "iopub.status.busy": "2025-07-28T11:17:39.511493Z",
     "iopub.status.idle": "2025-07-28T11:17:39.517865Z",
     "shell.execute_reply": "2025-07-28T11:17:39.517124Z"
    },
    "papermill": {
     "duration": 0.020974,
     "end_time": "2025-07-28T11:17:39.519166",
     "exception": false,
     "start_time": "2025-07-28T11:17:39.498192",
     "status": "completed"
    },
    "tags": []
   },
   "outputs": [
    {
     "data": {
      "text/plain": [
       "{'coverage': 0.9114479991082377, 'avg_size': 1.1319808271095753}"
      ]
     },
     "execution_count": 49,
     "metadata": {},
     "output_type": "execute_result"
    }
   ],
   "source": [
    "metrics"
   ]
  },
  {
   "cell_type": "code",
   "execution_count": 50,
   "id": "9b9a838d-31c9-430b-ae14-12baee460d17",
   "metadata": {
    "execution": {
     "iopub.execute_input": "2025-07-28T11:17:39.546083Z",
     "iopub.status.busy": "2025-07-28T11:17:39.545413Z",
     "iopub.status.idle": "2025-07-28T11:17:39.550682Z",
     "shell.execute_reply": "2025-07-28T11:17:39.550012Z"
    },
    "papermill": {
     "duration": 0.019915,
     "end_time": "2025-07-28T11:17:39.551995",
     "exception": false,
     "start_time": "2025-07-28T11:17:39.532080",
     "status": "completed"
    },
    "tags": []
   },
   "outputs": [],
   "source": [
    "example_universe = universe.copy()\n",
    "universe_training_size = example_universe.get(\"training_size\")\n",
    "universe_scale = example_universe.get(\"scale\")\n",
    "universe_model = example_universe.get(\"model\")\n",
    "universe_exclude_features = example_universe.get(\"exclude_features\")\n",
    "universe_exclude_subgroups = example_universe.get(\"exclude_subgroups\")"
   ]
  },
  {
   "cell_type": "code",
   "execution_count": 51,
   "id": "f4b6a8ac-9dc0-4245-8a91-5b3b5999c4f9",
   "metadata": {
    "execution": {
     "iopub.execute_input": "2025-07-28T11:17:39.578476Z",
     "iopub.status.busy": "2025-07-28T11:17:39.578084Z",
     "iopub.status.idle": "2025-07-28T11:17:39.582922Z",
     "shell.execute_reply": "2025-07-28T11:17:39.582081Z"
    },
    "papermill": {
     "duration": 0.019101,
     "end_time": "2025-07-28T11:17:39.584335",
     "exception": false,
     "start_time": "2025-07-28T11:17:39.565234",
     "status": "completed"
    },
    "tags": []
   },
   "outputs": [],
   "source": [
    "cp_metrics_dict = {\n",
    "    \"universe_id\": [universe_id],\n",
    "    \"universe_training_size\": [universe_training_size],\n",
    "    \"universe_scale\": [universe_scale],\n",
    "    \"universe_model\": [universe_model],\n",
    "    \"universe_exclude_features\": [universe_exclude_features],\n",
    "    \"universe_exclude_subgroups\": [universe_exclude_subgroups],\n",
    "    \"q_hat\": [q_hat],\n",
    "    \"coverage\": [metrics[\"coverage\"]],\n",
    "    \"avg_size\": [metrics[\"avg_size\"]],\n",
    "}"
   ]
  },
  {
   "cell_type": "code",
   "execution_count": 52,
   "id": "908acbb1-0371-4915-85ca-3fa520d2efe2",
   "metadata": {
    "execution": {
     "iopub.execute_input": "2025-07-28T11:17:39.611456Z",
     "iopub.status.busy": "2025-07-28T11:17:39.610675Z",
     "iopub.status.idle": "2025-07-28T11:17:39.617106Z",
     "shell.execute_reply": "2025-07-28T11:17:39.616297Z"
    },
    "papermill": {
     "duration": 0.020874,
     "end_time": "2025-07-28T11:17:39.618393",
     "exception": false,
     "start_time": "2025-07-28T11:17:39.597519",
     "status": "completed"
    },
    "tags": []
   },
   "outputs": [
    {
     "data": {
      "text/plain": [
       "{'universe_id': ['b701d7a5d46fa72b253b8ab632d27c5f'],\n",
       " 'universe_training_size': ['2014'],\n",
       " 'universe_scale': ['do-not-scale'],\n",
       " 'universe_model': ['elasticnet'],\n",
       " 'universe_exclude_features': ['none'],\n",
       " 'universe_exclude_subgroups': ['drop-non-german'],\n",
       " 'q_hat': [0.6889984013844324],\n",
       " 'coverage': [0.9114479991082377],\n",
       " 'avg_size': [1.1319808271095753]}"
      ]
     },
     "execution_count": 52,
     "metadata": {},
     "output_type": "execute_result"
    }
   ],
   "source": [
    "cp_metrics_dict"
   ]
  },
  {
   "cell_type": "code",
   "execution_count": 53,
   "id": "33007efc-14e9-4ec6-97ac-56a455c82265",
   "metadata": {
    "execution": {
     "iopub.execute_input": "2025-07-28T11:17:39.645043Z",
     "iopub.status.busy": "2025-07-28T11:17:39.644355Z",
     "iopub.status.idle": "2025-07-28T11:17:39.649956Z",
     "shell.execute_reply": "2025-07-28T11:17:39.649124Z"
    },
    "papermill": {
     "duration": 0.01999,
     "end_time": "2025-07-28T11:17:39.651338",
     "exception": false,
     "start_time": "2025-07-28T11:17:39.631348",
     "status": "completed"
    },
    "tags": []
   },
   "outputs": [],
   "source": [
    "cp_metrics_df = pd.DataFrame(cp_metrics_dict)"
   ]
  },
  {
   "cell_type": "code",
   "execution_count": 54,
   "id": "db12611b-57b2-4910-b9d0-355adfd6e7bf",
   "metadata": {
    "execution": {
     "iopub.execute_input": "2025-07-28T11:17:39.678017Z",
     "iopub.status.busy": "2025-07-28T11:17:39.677318Z",
     "iopub.status.idle": "2025-07-28T11:17:39.691190Z",
     "shell.execute_reply": "2025-07-28T11:17:39.690412Z"
    },
    "papermill": {
     "duration": 0.028488,
     "end_time": "2025-07-28T11:17:39.692641",
     "exception": false,
     "start_time": "2025-07-28T11:17:39.664153",
     "status": "completed"
    },
    "tags": []
   },
   "outputs": [
    {
     "data": {
      "text/html": [
       "<div>\n",
       "<style scoped>\n",
       "    .dataframe tbody tr th:only-of-type {\n",
       "        vertical-align: middle;\n",
       "    }\n",
       "\n",
       "    .dataframe tbody tr th {\n",
       "        vertical-align: top;\n",
       "    }\n",
       "\n",
       "    .dataframe thead th {\n",
       "        text-align: right;\n",
       "    }\n",
       "</style>\n",
       "<table border=\"1\" class=\"dataframe\">\n",
       "  <thead>\n",
       "    <tr style=\"text-align: right;\">\n",
       "      <th></th>\n",
       "      <th>universe_id</th>\n",
       "      <th>universe_training_size</th>\n",
       "      <th>universe_scale</th>\n",
       "      <th>universe_model</th>\n",
       "      <th>universe_exclude_features</th>\n",
       "      <th>universe_exclude_subgroups</th>\n",
       "      <th>q_hat</th>\n",
       "      <th>coverage</th>\n",
       "      <th>avg_size</th>\n",
       "    </tr>\n",
       "  </thead>\n",
       "  <tbody>\n",
       "    <tr>\n",
       "      <th>0</th>\n",
       "      <td>b701d7a5d46fa72b253b8ab632d27c5f</td>\n",
       "      <td>2014</td>\n",
       "      <td>do-not-scale</td>\n",
       "      <td>elasticnet</td>\n",
       "      <td>none</td>\n",
       "      <td>drop-non-german</td>\n",
       "      <td>0.688998</td>\n",
       "      <td>0.911448</td>\n",
       "      <td>1.131981</td>\n",
       "    </tr>\n",
       "  </tbody>\n",
       "</table>\n",
       "</div>"
      ],
      "text/plain": [
       "                        universe_id universe_training_size universe_scale  \\\n",
       "0  b701d7a5d46fa72b253b8ab632d27c5f                   2014   do-not-scale   \n",
       "\n",
       "  universe_model universe_exclude_features universe_exclude_subgroups  \\\n",
       "0     elasticnet                      none            drop-non-german   \n",
       "\n",
       "      q_hat  coverage  avg_size  \n",
       "0  0.688998  0.911448  1.131981  "
      ]
     },
     "execution_count": 54,
     "metadata": {},
     "output_type": "execute_result"
    }
   ],
   "source": [
    "cp_metrics_df"
   ]
  },
  {
   "cell_type": "code",
   "execution_count": 55,
   "id": "b7fbde55-a0a1-47e4-9af6-fe4a17fa8c61",
   "metadata": {
    "execution": {
     "iopub.execute_input": "2025-07-28T11:17:39.719457Z",
     "iopub.status.busy": "2025-07-28T11:17:39.718982Z",
     "iopub.status.idle": "2025-07-28T11:17:39.723284Z",
     "shell.execute_reply": "2025-07-28T11:17:39.722549Z"
    },
    "papermill": {
     "duration": 0.019136,
     "end_time": "2025-07-28T11:17:39.724700",
     "exception": false,
     "start_time": "2025-07-28T11:17:39.705564",
     "status": "completed"
    },
    "tags": []
   },
   "outputs": [],
   "source": [
    "# Conditional Coverage & looking at subgroups"
   ]
  },
  {
   "cell_type": "code",
   "execution_count": 56,
   "id": "027ae886-68dd-4141-96c7-805a5450e1ef",
   "metadata": {
    "execution": {
     "iopub.execute_input": "2025-07-28T11:17:39.751878Z",
     "iopub.status.busy": "2025-07-28T11:17:39.751216Z",
     "iopub.status.idle": "2025-07-28T11:17:39.935022Z",
     "shell.execute_reply": "2025-07-28T11:17:39.934237Z"
    },
    "papermill": {
     "duration": 0.198792,
     "end_time": "2025-07-28T11:17:39.936611",
     "exception": false,
     "start_time": "2025-07-28T11:17:39.737819",
     "status": "completed"
    },
    "tags": []
   },
   "outputs": [],
   "source": [
    "from fairness_multiverse.conformal import build_cp_groups\n",
    "\n",
    "cp_groups_df = build_cp_groups(pred_sets, y_true, X_test.index, org_test)\n",
    "#needs universe_id and setting"
   ]
  },
  {
   "cell_type": "code",
   "execution_count": 57,
   "id": "01d5802c-663a-4d1f-9d69-e036faaffbf7",
   "metadata": {
    "execution": {
     "iopub.execute_input": "2025-07-28T11:17:39.963852Z",
     "iopub.status.busy": "2025-07-28T11:17:39.963490Z",
     "iopub.status.idle": "2025-07-28T11:17:39.967631Z",
     "shell.execute_reply": "2025-07-28T11:17:39.966728Z"
    },
    "papermill": {
     "duration": 0.019017,
     "end_time": "2025-07-28T11:17:39.969121",
     "exception": false,
     "start_time": "2025-07-28T11:17:39.950104",
     "status": "completed"
    },
    "tags": []
   },
   "outputs": [],
   "source": [
    "#delete\n",
    "#cp_groups_df"
   ]
  },
  {
   "cell_type": "code",
   "execution_count": 58,
   "id": "fa424af1-d1eb-443d-b717-2d279ada8408",
   "metadata": {
    "execution": {
     "iopub.execute_input": "2025-07-28T11:17:39.997489Z",
     "iopub.status.busy": "2025-07-28T11:17:39.996688Z",
     "iopub.status.idle": "2025-07-28T11:17:40.001155Z",
     "shell.execute_reply": "2025-07-28T11:17:40.000399Z"
    },
    "papermill": {
     "duration": 0.019897,
     "end_time": "2025-07-28T11:17:40.002537",
     "exception": false,
     "start_time": "2025-07-28T11:17:39.982640",
     "status": "completed"
    },
    "tags": []
   },
   "outputs": [],
   "source": [
    "#delete\n",
    "#percentage = (cp_groups_df['nongerman_female'] == 1).mean() * 100\n",
    "#print(percentage)\n"
   ]
  },
  {
   "cell_type": "code",
   "execution_count": 59,
   "id": "6cbdab96-b2b2-45af-ad54-d0516db2e28d",
   "metadata": {
    "execution": {
     "iopub.execute_input": "2025-07-28T11:17:40.030883Z",
     "iopub.status.busy": "2025-07-28T11:17:40.030209Z",
     "iopub.status.idle": "2025-07-28T11:17:40.966671Z",
     "shell.execute_reply": "2025-07-28T11:17:40.965839Z"
    },
    "papermill": {
     "duration": 0.951631,
     "end_time": "2025-07-28T11:17:40.968253",
     "exception": false,
     "start_time": "2025-07-28T11:17:40.016622",
     "status": "completed"
    },
    "tags": []
   },
   "outputs": [],
   "source": [
    "# Define covered = 1 if true_label is in the predicted set\n",
    "cp_groups_df['covered'] = cp_groups_df.apply(\n",
    "    lambda r: int(r['true_label'] in r['pred_set']),\n",
    "    axis=1\n",
    ")"
   ]
  },
  {
   "cell_type": "code",
   "execution_count": 60,
   "id": "338ff529-1a6b-4b87-a931-8e4788d52aad",
   "metadata": {
    "execution": {
     "iopub.execute_input": "2025-07-28T11:17:40.996265Z",
     "iopub.status.busy": "2025-07-28T11:17:40.995697Z",
     "iopub.status.idle": "2025-07-28T11:17:41.000342Z",
     "shell.execute_reply": "2025-07-28T11:17:40.999639Z"
    },
    "papermill": {
     "duration": 0.019836,
     "end_time": "2025-07-28T11:17:41.001721",
     "exception": false,
     "start_time": "2025-07-28T11:17:40.981885",
     "status": "completed"
    },
    "tags": []
   },
   "outputs": [],
   "source": [
    "#cp_groups_df"
   ]
  },
  {
   "cell_type": "code",
   "execution_count": 61,
   "id": "90032e27-66df-4540-9169-4e89cfbaa758",
   "metadata": {
    "execution": {
     "iopub.execute_input": "2025-07-28T11:17:41.029847Z",
     "iopub.status.busy": "2025-07-28T11:17:41.029303Z",
     "iopub.status.idle": "2025-07-28T11:17:41.038862Z",
     "shell.execute_reply": "2025-07-28T11:17:41.038067Z"
    },
    "papermill": {
     "duration": 0.024724,
     "end_time": "2025-07-28T11:17:41.040344",
     "exception": false,
     "start_time": "2025-07-28T11:17:41.015620",
     "status": "completed"
    },
    "tags": []
   },
   "outputs": [],
   "source": [
    "subgroups = ['frau1','nongerman','nongerman_male','nongerman_female']\n",
    "\n",
    "# Conditional coverage for subgroup==1\n",
    "cond_coverage = {\n",
    "    g: cp_groups_df.loc[cp_groups_df[g]==1, 'covered'].mean()\n",
    "    for g in subgroups\n",
    "}"
   ]
  },
  {
   "cell_type": "code",
   "execution_count": 62,
   "id": "1e348fb1-b9c3-45bc-ba23-f016827a7e0d",
   "metadata": {
    "execution": {
     "iopub.execute_input": "2025-07-28T11:17:41.068201Z",
     "iopub.status.busy": "2025-07-28T11:17:41.067470Z",
     "iopub.status.idle": "2025-07-28T11:17:41.073944Z",
     "shell.execute_reply": "2025-07-28T11:17:41.073213Z"
    },
    "papermill": {
     "duration": 0.021331,
     "end_time": "2025-07-28T11:17:41.075263",
     "exception": false,
     "start_time": "2025-07-28T11:17:41.053932",
     "status": "completed"
    },
    "tags": []
   },
   "outputs": [
    {
     "data": {
      "text/plain": [
       "{'frau1': 0.9104731095835018,\n",
       " 'nongerman': 0.9069219109639027,\n",
       " 'nongerman_male': 0.9228136539673962,\n",
       " 'nongerman_female': 0.8806259314456035}"
      ]
     },
     "execution_count": 62,
     "metadata": {},
     "output_type": "execute_result"
    }
   ],
   "source": [
    "cond_coverage"
   ]
  },
  {
   "cell_type": "code",
   "execution_count": 63,
   "id": "f5093324-c3dd-4d63-bc4c-8d945e5c8bbb",
   "metadata": {
    "execution": {
     "iopub.execute_input": "2025-07-28T11:17:41.103850Z",
     "iopub.status.busy": "2025-07-28T11:17:41.103315Z",
     "iopub.status.idle": "2025-07-28T11:17:41.109785Z",
     "shell.execute_reply": "2025-07-28T11:17:41.109108Z"
    },
    "papermill": {
     "duration": 0.02169,
     "end_time": "2025-07-28T11:17:41.111072",
     "exception": false,
     "start_time": "2025-07-28T11:17:41.089382",
     "status": "completed"
    },
    "tags": []
   },
   "outputs": [],
   "source": [
    "for subgroup, cov in cond_coverage.items():\n",
    "    cp_metrics_df[f\"cov_{subgroup}\"] = cov"
   ]
  },
  {
   "cell_type": "code",
   "execution_count": 64,
   "id": "6e872e10-dbe5-49e8-b554-5030c98ff75d",
   "metadata": {
    "execution": {
     "iopub.execute_input": "2025-07-28T11:17:41.139011Z",
     "iopub.status.busy": "2025-07-28T11:17:41.138497Z",
     "iopub.status.idle": "2025-07-28T11:17:41.152463Z",
     "shell.execute_reply": "2025-07-28T11:17:41.151493Z"
    },
    "papermill": {
     "duration": 0.02911,
     "end_time": "2025-07-28T11:17:41.153936",
     "exception": false,
     "start_time": "2025-07-28T11:17:41.124826",
     "status": "completed"
    },
    "tags": []
   },
   "outputs": [
    {
     "data": {
      "text/html": [
       "<div>\n",
       "<style scoped>\n",
       "    .dataframe tbody tr th:only-of-type {\n",
       "        vertical-align: middle;\n",
       "    }\n",
       "\n",
       "    .dataframe tbody tr th {\n",
       "        vertical-align: top;\n",
       "    }\n",
       "\n",
       "    .dataframe thead th {\n",
       "        text-align: right;\n",
       "    }\n",
       "</style>\n",
       "<table border=\"1\" class=\"dataframe\">\n",
       "  <thead>\n",
       "    <tr style=\"text-align: right;\">\n",
       "      <th></th>\n",
       "      <th>universe_id</th>\n",
       "      <th>universe_training_size</th>\n",
       "      <th>universe_scale</th>\n",
       "      <th>universe_model</th>\n",
       "      <th>universe_exclude_features</th>\n",
       "      <th>universe_exclude_subgroups</th>\n",
       "      <th>q_hat</th>\n",
       "      <th>coverage</th>\n",
       "      <th>avg_size</th>\n",
       "      <th>cov_frau1</th>\n",
       "      <th>cov_nongerman</th>\n",
       "      <th>cov_nongerman_male</th>\n",
       "      <th>cov_nongerman_female</th>\n",
       "    </tr>\n",
       "  </thead>\n",
       "  <tbody>\n",
       "    <tr>\n",
       "      <th>0</th>\n",
       "      <td>b701d7a5d46fa72b253b8ab632d27c5f</td>\n",
       "      <td>2014</td>\n",
       "      <td>do-not-scale</td>\n",
       "      <td>elasticnet</td>\n",
       "      <td>none</td>\n",
       "      <td>drop-non-german</td>\n",
       "      <td>0.688998</td>\n",
       "      <td>0.911448</td>\n",
       "      <td>1.131981</td>\n",
       "      <td>0.910473</td>\n",
       "      <td>0.906922</td>\n",
       "      <td>0.922814</td>\n",
       "      <td>0.880626</td>\n",
       "    </tr>\n",
       "  </tbody>\n",
       "</table>\n",
       "</div>"
      ],
      "text/plain": [
       "                        universe_id universe_training_size universe_scale  \\\n",
       "0  b701d7a5d46fa72b253b8ab632d27c5f                   2014   do-not-scale   \n",
       "\n",
       "  universe_model universe_exclude_features universe_exclude_subgroups  \\\n",
       "0     elasticnet                      none            drop-non-german   \n",
       "\n",
       "      q_hat  coverage  avg_size  cov_frau1  cov_nongerman  cov_nongerman_male  \\\n",
       "0  0.688998  0.911448  1.131981   0.910473       0.906922            0.922814   \n",
       "\n",
       "   cov_nongerman_female  \n",
       "0              0.880626  "
      ]
     },
     "execution_count": 64,
     "metadata": {},
     "output_type": "execute_result"
    }
   ],
   "source": [
    "cp_metrics_df"
   ]
  },
  {
   "cell_type": "markdown",
   "id": "33774451",
   "metadata": {
    "papermill": {
     "duration": 0.013414,
     "end_time": "2025-07-28T11:17:41.181284",
     "exception": false,
     "start_time": "2025-07-28T11:17:41.167870",
     "status": "completed"
    },
    "tags": []
   },
   "source": [
    "# (Fairness) Metrics"
   ]
  },
  {
   "cell_type": "code",
   "execution_count": 65,
   "id": "debc5d62",
   "metadata": {
    "execution": {
     "iopub.execute_input": "2025-07-28T11:17:41.209560Z",
     "iopub.status.busy": "2025-07-28T11:17:41.209061Z",
     "iopub.status.idle": "2025-07-28T11:17:41.224577Z",
     "shell.execute_reply": "2025-07-28T11:17:41.223827Z"
    },
    "papermill": {
     "duration": 0.031466,
     "end_time": "2025-07-28T11:17:41.225885",
     "exception": false,
     "start_time": "2025-07-28T11:17:41.194419",
     "status": "completed"
    },
    "tags": []
   },
   "outputs": [],
   "source": [
    "# do I need to include maxdeutsch1.missing?\n",
    "\n",
    "import numpy as np\n",
    "\n",
    "colname_to_bin = \"maxdeutsch1\"\n",
    "majority_value = org_train[colname_to_bin].mode()[0]\n",
    "\n",
    "org_test[\"majmin\"] = np.where(org_test[colname_to_bin] == majority_value, \"majority\", \"minority\")"
   ]
  },
  {
   "cell_type": "code",
   "execution_count": 66,
   "id": "06a50de5",
   "metadata": {
    "execution": {
     "iopub.execute_input": "2025-07-28T11:17:41.254188Z",
     "iopub.status.busy": "2025-07-28T11:17:41.253806Z",
     "iopub.status.idle": "2025-07-28T11:17:42.813824Z",
     "shell.execute_reply": "2025-07-28T11:17:42.813001Z"
    },
    "papermill": {
     "duration": 1.575533,
     "end_time": "2025-07-28T11:17:42.815281",
     "exception": false,
     "start_time": "2025-07-28T11:17:41.239748",
     "status": "completed"
    },
    "tags": []
   },
   "outputs": [],
   "source": [
    "example_universe = universe.copy()\n",
    "example_universe[\"cutoff\"] = example_universe[\"cutoff\"][0]\n",
    "example_universe[\"eval_fairness_grouping\"] = example_universe[\"eval_fairness_grouping\"][0]\n",
    "fairness_dict, metric_frame = universe_analysis.compute_metrics(\n",
    "    example_universe,\n",
    "    y_pred_prob=probs_test,\n",
    "    y_test=y_true,\n",
    "    org_test=org_test,\n",
    ")"
   ]
  },
  {
   "cell_type": "markdown",
   "id": "f95d4e02",
   "metadata": {
    "papermill": {
     "duration": 0.013047,
     "end_time": "2025-07-28T11:17:42.844842",
     "exception": false,
     "start_time": "2025-07-28T11:17:42.831795",
     "status": "completed"
    },
    "tags": []
   },
   "source": [
    "# Overall"
   ]
  },
  {
   "cell_type": "markdown",
   "id": "bdee4871",
   "metadata": {
    "papermill": {
     "duration": 0.013181,
     "end_time": "2025-07-28T11:17:42.871447",
     "exception": false,
     "start_time": "2025-07-28T11:17:42.858266",
     "status": "completed"
    },
    "tags": []
   },
   "source": [
    "Fairness\n",
    "Main fairness target: Equalized Odds. Seems to be a better fit than equal opportunity, since we're not only interested in Y = 1. Seems to be a better fit than demographic parity, since we also care about accuracy, not just equal distribution of preds.\n",
    "\n",
    "Pick column for computation of fairness metrics\n",
    "\n",
    "Performance\n",
    "Overall performance measures, most interesting in relation to the measures split by group below"
   ]
  },
  {
   "cell_type": "code",
   "execution_count": 67,
   "id": "c4e067c6",
   "metadata": {
    "execution": {
     "iopub.execute_input": "2025-07-28T11:17:42.899048Z",
     "iopub.status.busy": "2025-07-28T11:17:42.898503Z",
     "iopub.status.idle": "2025-07-28T11:17:42.906118Z",
     "shell.execute_reply": "2025-07-28T11:17:42.905376Z"
    },
    "papermill": {
     "duration": 0.022961,
     "end_time": "2025-07-28T11:17:42.907484",
     "exception": false,
     "start_time": "2025-07-28T11:17:42.884523",
     "status": "completed"
    },
    "tags": []
   },
   "outputs": [
    {
     "data": {
      "text/plain": [
       "accuracy                   0.221436\n",
       "balanced accuracy          0.542056\n",
       "f1                         0.242848\n",
       "precision                  0.138731\n",
       "false positive rate        0.889210\n",
       "false negative rate        0.026677\n",
       "selection rate             0.900000\n",
       "count                  89710.000000\n",
       "dtype: float64"
      ]
     },
     "execution_count": 67,
     "metadata": {},
     "output_type": "execute_result"
    }
   ],
   "source": [
    "metric_frame.overall"
   ]
  },
  {
   "cell_type": "markdown",
   "id": "e968fe9d",
   "metadata": {
    "papermill": {
     "duration": 0.013095,
     "end_time": "2025-07-28T11:17:42.934384",
     "exception": false,
     "start_time": "2025-07-28T11:17:42.921289",
     "status": "completed"
    },
    "tags": []
   },
   "source": [
    "By Group"
   ]
  },
  {
   "cell_type": "code",
   "execution_count": 68,
   "id": "ec325bce",
   "metadata": {
    "execution": {
     "iopub.execute_input": "2025-07-28T11:17:42.962357Z",
     "iopub.status.busy": "2025-07-28T11:17:42.961861Z",
     "iopub.status.idle": "2025-07-28T11:17:42.974750Z",
     "shell.execute_reply": "2025-07-28T11:17:42.974032Z"
    },
    "papermill": {
     "duration": 0.028459,
     "end_time": "2025-07-28T11:17:42.976139",
     "exception": false,
     "start_time": "2025-07-28T11:17:42.947680",
     "status": "completed"
    },
    "tags": []
   },
   "outputs": [
    {
     "data": {
      "text/html": [
       "<div>\n",
       "<style scoped>\n",
       "    .dataframe tbody tr th:only-of-type {\n",
       "        vertical-align: middle;\n",
       "    }\n",
       "\n",
       "    .dataframe tbody tr th {\n",
       "        vertical-align: top;\n",
       "    }\n",
       "\n",
       "    .dataframe thead th {\n",
       "        text-align: right;\n",
       "    }\n",
       "</style>\n",
       "<table border=\"1\" class=\"dataframe\">\n",
       "  <thead>\n",
       "    <tr style=\"text-align: right;\">\n",
       "      <th></th>\n",
       "      <th>accuracy</th>\n",
       "      <th>balanced accuracy</th>\n",
       "      <th>f1</th>\n",
       "      <th>precision</th>\n",
       "      <th>false positive rate</th>\n",
       "      <th>false negative rate</th>\n",
       "      <th>selection rate</th>\n",
       "      <th>count</th>\n",
       "    </tr>\n",
       "    <tr>\n",
       "      <th>majmin</th>\n",
       "      <th></th>\n",
       "      <th></th>\n",
       "      <th></th>\n",
       "      <th></th>\n",
       "      <th></th>\n",
       "      <th></th>\n",
       "      <th></th>\n",
       "      <th></th>\n",
       "    </tr>\n",
       "  </thead>\n",
       "  <tbody>\n",
       "    <tr>\n",
       "      <th>majority</th>\n",
       "      <td>0.243502</td>\n",
       "      <td>0.551499</td>\n",
       "      <td>0.253122</td>\n",
       "      <td>0.145549</td>\n",
       "      <td>0.867133</td>\n",
       "      <td>0.029869</td>\n",
       "      <td>0.880743</td>\n",
       "      <td>69170.0</td>\n",
       "    </tr>\n",
       "    <tr>\n",
       "      <th>minority</th>\n",
       "      <td>0.147128</td>\n",
       "      <td>0.511751</td>\n",
       "      <td>0.210403</td>\n",
       "      <td>0.117772</td>\n",
       "      <td>0.962140</td>\n",
       "      <td>0.014358</td>\n",
       "      <td>0.964849</td>\n",
       "      <td>20540.0</td>\n",
       "    </tr>\n",
       "  </tbody>\n",
       "</table>\n",
       "</div>"
      ],
      "text/plain": [
       "          accuracy  balanced accuracy        f1  precision  \\\n",
       "majmin                                                       \n",
       "majority  0.243502           0.551499  0.253122   0.145549   \n",
       "minority  0.147128           0.511751  0.210403   0.117772   \n",
       "\n",
       "          false positive rate  false negative rate  selection rate    count  \n",
       "majmin                                                                       \n",
       "majority             0.867133             0.029869        0.880743  69170.0  \n",
       "minority             0.962140             0.014358        0.964849  20540.0  "
      ]
     },
     "execution_count": 68,
     "metadata": {},
     "output_type": "execute_result"
    }
   ],
   "source": [
    "metric_frame.by_group"
   ]
  },
  {
   "cell_type": "code",
   "execution_count": 69,
   "id": "a9ddbe63",
   "metadata": {
    "execution": {
     "iopub.execute_input": "2025-07-28T11:17:43.005873Z",
     "iopub.status.busy": "2025-07-28T11:17:43.005382Z",
     "iopub.status.idle": "2025-07-28T11:17:44.629452Z",
     "shell.execute_reply": "2025-07-28T11:17:44.628675Z"
    },
    "papermill": {
     "duration": 1.639993,
     "end_time": "2025-07-28T11:17:44.630668",
     "exception": false,
     "start_time": "2025-07-28T11:17:42.990675",
     "status": "completed"
    },
    "tags": []
   },
   "outputs": [
    {
     "data": {
      "text/plain": [
       "array([[<Axes: title={'center': 'accuracy'}, xlabel='majmin'>,\n",
       "        <Axes: title={'center': 'balanced accuracy'}, xlabel='majmin'>,\n",
       "        <Axes: title={'center': 'f1'}, xlabel='majmin'>],\n",
       "       [<Axes: title={'center': 'precision'}, xlabel='majmin'>,\n",
       "        <Axes: title={'center': 'false positive rate'}, xlabel='majmin'>,\n",
       "        <Axes: title={'center': 'false negative rate'}, xlabel='majmin'>],\n",
       "       [<Axes: title={'center': 'selection rate'}, xlabel='majmin'>,\n",
       "        <Axes: title={'center': 'count'}, xlabel='majmin'>,\n",
       "        <Axes: xlabel='majmin'>]], dtype=object)"
      ]
     },
     "execution_count": 69,
     "metadata": {},
     "output_type": "execute_result"
    },
    {
     "data": {
      "image/png": "[encoded data removed]",
      "text/plain": [
       "<Figure size 1200x800 with 9 Axes>"
      ]
     },
     "metadata": {},
     "output_type": "display_data"
    }
   ],
   "source": [
    "# In a graphic\n",
    "metric_frame.by_group.plot.bar(\n",
    "    subplots=True,\n",
    "    layout=[3, 3],\n",
    "    legend=False,\n",
    "    figsize=[12, 8],\n",
    "    title=\"Show all metrics\",\n",
    ")"
   ]
  },
  {
   "cell_type": "markdown",
   "id": "f57a0bac",
   "metadata": {
    "papermill": {
     "duration": 0.014402,
     "end_time": "2025-07-28T11:17:44.660491",
     "exception": false,
     "start_time": "2025-07-28T11:17:44.646089",
     "status": "completed"
    },
    "tags": []
   },
   "source": [
    "# Final Output"
   ]
  },
  {
   "cell_type": "code",
   "execution_count": 70,
   "id": "96d280a3",
   "metadata": {
    "execution": {
     "iopub.execute_input": "2025-07-28T11:17:44.691077Z",
     "iopub.status.busy": "2025-07-28T11:17:44.690394Z",
     "iopub.status.idle": "2025-07-28T11:17:44.697881Z",
     "shell.execute_reply": "2025-07-28T11:17:44.697171Z"
    },
    "papermill": {
     "duration": 0.024328,
     "end_time": "2025-07-28T11:17:44.699293",
     "exception": false,
     "start_time": "2025-07-28T11:17:44.674965",
     "status": "completed"
    },
    "tags": []
   },
   "outputs": [
    {
     "data": {
      "text/plain": [
       "4"
      ]
     },
     "execution_count": 70,
     "metadata": {},
     "output_type": "execute_result"
    }
   ],
   "source": [
    "sub_universes = universe_analysis.generate_sub_universes()\n",
    "len(sub_universes)"
   ]
  },
  {
   "cell_type": "code",
   "execution_count": 71,
   "id": "92adf7ba",
   "metadata": {
    "execution": {
     "iopub.execute_input": "2025-07-28T11:17:44.730716Z",
     "iopub.status.busy": "2025-07-28T11:17:44.730241Z",
     "iopub.status.idle": "2025-07-28T11:17:44.735195Z",
     "shell.execute_reply": "2025-07-28T11:17:44.734526Z"
    },
    "papermill": {
     "duration": 0.021839,
     "end_time": "2025-07-28T11:17:44.736631",
     "exception": false,
     "start_time": "2025-07-28T11:17:44.714792",
     "status": "completed"
    },
    "tags": []
   },
   "outputs": [],
   "source": [
    "def filter_sub_universe_data(sub_universe, org_test):\n",
    "    # Keep all rows — no filtering\n",
    "    keep_rows_mask = np.ones(org_test.shape[0], dtype=bool)\n",
    "\n",
    "    print(f\"[INFO] Keeping all rows: {keep_rows_mask.sum()} rows retained.\")\n",
    "    return keep_rows_mask"
   ]
  },
  {
   "cell_type": "code",
   "execution_count": 72,
   "id": "4a759155",
   "metadata": {
    "execution": {
     "iopub.execute_input": "2025-07-28T11:17:44.767725Z",
     "iopub.status.busy": "2025-07-28T11:17:44.767255Z",
     "iopub.status.idle": "2025-07-28T11:17:50.818988Z",
     "shell.execute_reply": "2025-07-28T11:17:50.818071Z"
    },
    "papermill": {
     "duration": 6.068548,
     "end_time": "2025-07-28T11:17:50.820521",
     "exception": false,
     "start_time": "2025-07-28T11:17:44.751973",
     "status": "completed"
    },
    "tags": []
   },
   "outputs": [
    {
     "name": "stdout",
     "output_type": "stream",
     "text": [
      "Stopping execution_time clock.\n",
      "[INFO] Keeping all rows: 89710 rows retained.\n"
     ]
    },
    {
     "name": "stdout",
     "output_type": "stream",
     "text": [
      "[INFO] Keeping all rows: 89710 rows retained.\n"
     ]
    },
    {
     "name": "stdout",
     "output_type": "stream",
     "text": [
      "[INFO] Keeping all rows: 89710 rows retained.\n"
     ]
    },
    {
     "name": "stdout",
     "output_type": "stream",
     "text": [
      "[INFO] Keeping all rows: 89710 rows retained.\n"
     ]
    },
    {
     "data": {
      "text/html": [
       "<div>\n",
       "<style scoped>\n",
       "    .dataframe tbody tr th:only-of-type {\n",
       "        vertical-align: middle;\n",
       "    }\n",
       "\n",
       "    .dataframe tbody tr th {\n",
       "        vertical-align: top;\n",
       "    }\n",
       "\n",
       "    .dataframe thead th {\n",
       "        text-align: right;\n",
       "    }\n",
       "</style>\n",
       "<table border=\"1\" class=\"dataframe\">\n",
       "  <thead>\n",
       "    <tr style=\"text-align: right;\">\n",
       "      <th></th>\n",
       "      <th>run_no</th>\n",
       "      <th>universe_id</th>\n",
       "      <th>universe_settings</th>\n",
       "      <th>execution_time</th>\n",
       "      <th>test_size_n</th>\n",
       "      <th>test_size_frac</th>\n",
       "      <th>fair_main_equalized_odds_difference</th>\n",
       "      <th>fair_main_equalized_odds_ratio</th>\n",
       "      <th>fair_main_demographic_parity_difference</th>\n",
       "      <th>fair_main_demographic_parity_ratio</th>\n",
       "      <th>...</th>\n",
       "      <th>perf_grp_precision_0</th>\n",
       "      <th>perf_grp_precision_1</th>\n",
       "      <th>perf_grp_false positive rate_0</th>\n",
       "      <th>perf_grp_false positive rate_1</th>\n",
       "      <th>perf_grp_false negative rate_0</th>\n",
       "      <th>perf_grp_false negative rate_1</th>\n",
       "      <th>perf_grp_selection rate_0</th>\n",
       "      <th>perf_grp_selection rate_1</th>\n",
       "      <th>perf_grp_count_0</th>\n",
       "      <th>perf_grp_count_1</th>\n",
       "    </tr>\n",
       "  </thead>\n",
       "  <tbody>\n",
       "    <tr>\n",
       "      <th>0</th>\n",
       "      <td>11</td>\n",
       "      <td>b701d7a5d46fa72b253b8ab632d27c5f</td>\n",
       "      <td>{\"cutoff\": \"quantile_0.1\", \"eval_fairness_grou...</td>\n",
       "      <td>449.198829</td>\n",
       "      <td>89710</td>\n",
       "      <td>1.0</td>\n",
       "      <td>0.095006</td>\n",
       "      <td>0.901255</td>\n",
       "      <td>0.084106</td>\n",
       "      <td>0.912830</td>\n",
       "      <td>...</td>\n",
       "      <td>NaN</td>\n",
       "      <td>NaN</td>\n",
       "      <td>NaN</td>\n",
       "      <td>NaN</td>\n",
       "      <td>NaN</td>\n",
       "      <td>NaN</td>\n",
       "      <td>NaN</td>\n",
       "      <td>NaN</td>\n",
       "      <td>NaN</td>\n",
       "      <td>NaN</td>\n",
       "    </tr>\n",
       "    <tr>\n",
       "      <th>0</th>\n",
       "      <td>11</td>\n",
       "      <td>b701d7a5d46fa72b253b8ab632d27c5f</td>\n",
       "      <td>{\"cutoff\": \"quantile_0.1\", \"eval_fairness_grou...</td>\n",
       "      <td>449.198829</td>\n",
       "      <td>89710</td>\n",
       "      <td>1.0</td>\n",
       "      <td>0.095006</td>\n",
       "      <td>0.901255</td>\n",
       "      <td>0.084106</td>\n",
       "      <td>0.912830</td>\n",
       "      <td>...</td>\n",
       "      <td>0.117772</td>\n",
       "      <td>0.145549</td>\n",
       "      <td>0.962140</td>\n",
       "      <td>0.867133</td>\n",
       "      <td>0.014358</td>\n",
       "      <td>0.029869</td>\n",
       "      <td>0.964849</td>\n",
       "      <td>0.880743</td>\n",
       "      <td>20540.0</td>\n",
       "      <td>69170.0</td>\n",
       "    </tr>\n",
       "    <tr>\n",
       "      <th>0</th>\n",
       "      <td>11</td>\n",
       "      <td>b701d7a5d46fa72b253b8ab632d27c5f</td>\n",
       "      <td>{\"cutoff\": \"quantile_0.25\", \"eval_fairness_gro...</td>\n",
       "      <td>449.198829</td>\n",
       "      <td>89710</td>\n",
       "      <td>1.0</td>\n",
       "      <td>0.181437</td>\n",
       "      <td>0.790556</td>\n",
       "      <td>0.157738</td>\n",
       "      <td>0.819029</td>\n",
       "      <td>...</td>\n",
       "      <td>NaN</td>\n",
       "      <td>NaN</td>\n",
       "      <td>NaN</td>\n",
       "      <td>NaN</td>\n",
       "      <td>NaN</td>\n",
       "      <td>NaN</td>\n",
       "      <td>NaN</td>\n",
       "      <td>NaN</td>\n",
       "      <td>NaN</td>\n",
       "      <td>NaN</td>\n",
       "    </tr>\n",
       "    <tr>\n",
       "      <th>0</th>\n",
       "      <td>11</td>\n",
       "      <td>b701d7a5d46fa72b253b8ab632d27c5f</td>\n",
       "      <td>{\"cutoff\": \"quantile_0.25\", \"eval_fairness_gro...</td>\n",
       "      <td>449.198829</td>\n",
       "      <td>89710</td>\n",
       "      <td>1.0</td>\n",
       "      <td>0.181437</td>\n",
       "      <td>0.790556</td>\n",
       "      <td>0.157738</td>\n",
       "      <td>0.819029</td>\n",
       "      <td>...</td>\n",
       "      <td>0.120706</td>\n",
       "      <td>0.167440</td>\n",
       "      <td>0.866278</td>\n",
       "      <td>0.684841</td>\n",
       "      <td>0.087416</td>\n",
       "      <td>0.095405</td>\n",
       "      <td>0.871616</td>\n",
       "      <td>0.713879</td>\n",
       "      <td>20540.0</td>\n",
       "      <td>69170.0</td>\n",
       "    </tr>\n",
       "  </tbody>\n",
       "</table>\n",
       "<p>4 rows × 50 columns</p>\n",
       "</div>"
      ],
      "text/plain": [
       "  run_no                       universe_id  \\\n",
       "0     11  b701d7a5d46fa72b253b8ab632d27c5f   \n",
       "0     11  b701d7a5d46fa72b253b8ab632d27c5f   \n",
       "0     11  b701d7a5d46fa72b253b8ab632d27c5f   \n",
       "0     11  b701d7a5d46fa72b253b8ab632d27c5f   \n",
       "\n",
       "                                   universe_settings  execution_time  \\\n",
       "0  {\"cutoff\": \"quantile_0.1\", \"eval_fairness_grou...      449.198829   \n",
       "0  {\"cutoff\": \"quantile_0.1\", \"eval_fairness_grou...      449.198829   \n",
       "0  {\"cutoff\": \"quantile_0.25\", \"eval_fairness_gro...      449.198829   \n",
       "0  {\"cutoff\": \"quantile_0.25\", \"eval_fairness_gro...      449.198829   \n",
       "\n",
       "   test_size_n  test_size_frac  fair_main_equalized_odds_difference  \\\n",
       "0        89710             1.0                             0.095006   \n",
       "0        89710             1.0                             0.095006   \n",
       "0        89710             1.0                             0.181437   \n",
       "0        89710             1.0                             0.181437   \n",
       "\n",
       "   fair_main_equalized_odds_ratio  fair_main_demographic_parity_difference  \\\n",
       "0                        0.901255                                 0.084106   \n",
       "0                        0.901255                                 0.084106   \n",
       "0                        0.790556                                 0.157738   \n",
       "0                        0.790556                                 0.157738   \n",
       "\n",
       "   fair_main_demographic_parity_ratio  ...  perf_grp_precision_0  \\\n",
       "0                            0.912830  ...                   NaN   \n",
       "0                            0.912830  ...              0.117772   \n",
       "0                            0.819029  ...                   NaN   \n",
       "0                            0.819029  ...              0.120706   \n",
       "\n",
       "   perf_grp_precision_1  perf_grp_false positive rate_0  \\\n",
       "0                   NaN                             NaN   \n",
       "0              0.145549                        0.962140   \n",
       "0                   NaN                             NaN   \n",
       "0              0.167440                        0.866278   \n",
       "\n",
       "   perf_grp_false positive rate_1  perf_grp_false negative rate_0  \\\n",
       "0                             NaN                             NaN   \n",
       "0                        0.867133                        0.014358   \n",
       "0                             NaN                             NaN   \n",
       "0                        0.684841                        0.087416   \n",
       "\n",
       "   perf_grp_false negative rate_1  perf_grp_selection rate_0  \\\n",
       "0                             NaN                        NaN   \n",
       "0                        0.029869                   0.964849   \n",
       "0                             NaN                        NaN   \n",
       "0                        0.095405                   0.871616   \n",
       "\n",
       "   perf_grp_selection rate_1  perf_grp_count_0  perf_grp_count_1  \n",
       "0                        NaN               NaN               NaN  \n",
       "0                   0.880743           20540.0           69170.0  \n",
       "0                        NaN               NaN               NaN  \n",
       "0                   0.713879           20540.0           69170.0  \n",
       "\n",
       "[4 rows x 50 columns]"
      ]
     },
     "execution_count": 72,
     "metadata": {},
     "output_type": "execute_result"
    }
   ],
   "source": [
    "final_output = universe_analysis.generate_final_output(\n",
    "    y_pred_prob=probs_test,\n",
    "    y_test=y_true,\n",
    "    org_test=org_test,\n",
    "    filter_data=filter_sub_universe_data,\n",
    "    cp_metrics_df=cp_metrics_df,\n",
    "    save=True,\n",
    ")\n",
    "final_output"
   ]
  },
  {
   "cell_type": "code",
   "execution_count": null,
   "id": "721ff514-cb11-46f8-b6fc-50392f74b5cb",
   "metadata": {
    "papermill": {
     "duration": 0.015189,
     "end_time": "2025-07-28T11:17:50.854365",
     "exception": false,
     "start_time": "2025-07-28T11:17:50.839176",
     "status": "completed"
    },
    "tags": []
   },
   "outputs": [],
   "source": []
  }
 ],
 "metadata": {
  "celltoolbar": "Tags",
  "kernelspec": {
   "display_name": "Python (CMA Fairness)",
   "language": "python",
   "name": "cma_fair_env"
  },
  "language_info": {
   "codemirror_mode": {
    "name": "ipython",
    "version": 3
   },
   "file_extension": ".py",
   "mimetype": "text/x-python",
   "name": "python",
   "nbconvert_exporter": "python",
   "pygments_lexer": "ipython3",
   "version": "3.10.12"
  },
  "papermill": {
   "default_parameters": {},
   "duration": 459.165724,
   "end_time": "2025-07-28T11:17:51.486854",
   "environment_variables": {},
   "exception": null,
   "input_path": "universe_analysis.ipynb",
   "output_path": "output/runs/11/notebooks/m_11-b701d7a5d46fa72b253b8ab632d27c5f.ipynb",
   "parameters": {
    "output_dir": "output",
    "run_no": "11",
    "seed": "2023",
    "universe": "{\"cutoff\": [\"quantile_0.1\", \"quantile_0.25\"], \"eval_fairness_grouping\": [\"majority-minority\", \"nationality-all\"], \"exclude_features\": \"none\", \"exclude_subgroups\": \"drop-non-german\", \"model\": \"elasticnet\", \"scale\": \"do-not-scale\", \"training_size\": \"2014\"}",
    "universe_id": "b701d7a5d46fa72b253b8ab632d27c5f"
   },
   "start_time": "2025-07-28T11:10:12.321130",
   "version": "2.6.0"
  }
 },
 "nbformat": 4,
 "nbformat_minor": 5
}