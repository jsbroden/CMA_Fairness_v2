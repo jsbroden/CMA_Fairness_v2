{
 "cells": [
  {
   "cell_type": "code",
   "execution_count": 1,
   "id": "f159f837-637b-42ba-96b5-ec9a68c44524",
   "metadata": {
    "execution": {
     "iopub.execute_input": "2025-07-28T10:37:51.924025Z",
     "iopub.status.busy": "2025-07-28T10:37:51.923500Z",
     "iopub.status.idle": "2025-07-28T10:37:51.938726Z",
     "shell.execute_reply": "2025-07-28T10:37:51.937715Z"
    },
    "papermill": {
     "duration": 0.037517,
     "end_time": "2025-07-28T10:37:51.940476",
     "exception": false,
     "start_time": "2025-07-28T10:37:51.902959",
     "status": "completed"
    },
    "tags": []
   },
   "outputs": [
    {
     "name": "stdout",
     "output_type": "stream",
     "text": [
      "/dss/dsshome1/0C/ra93lal2/cma/CMA_Fairness_v2\n"
     ]
    },
    {
     "name": "stderr",
     "output_type": "stream",
     "text": [
      "/dss/dsshome1/0C/ra93lal2/.local/share/virtualenvs/CMA_Fairness_v2-3j10GkSs/lib/python3.10/site-packages/IPython/core/magics/osm.py:393: UserWarning: This is now an optional IPython functionality, using bookmarks requires you to install the `pickleshare` library.\n",
      "  bkms = self.shell.db.get('bookmarks', {})\n",
      "/dss/dsshome1/0C/ra93lal2/.local/share/virtualenvs/CMA_Fairness_v2-3j10GkSs/lib/python3.10/site-packages/IPython/core/magics/osm.py:417: UserWarning: This is now an optional IPython functionality, setting dhist requires you to install the `pickleshare` library.\n",
      "  self.shell.db['dhist'] = compress_dhist(dhist)[-100:]\n"
     ]
    }
   ],
   "source": [
    "%cd ~/cma/CMA_Fairness_v2"
   ]
  },
  {
   "cell_type": "markdown",
   "id": "de2603b9",
   "metadata": {
    "papermill": {
     "duration": 0.018872,
     "end_time": "2025-07-28T10:37:51.981361",
     "exception": false,
     "start_time": "2025-07-28T10:37:51.962489",
     "status": "completed"
    },
    "tags": []
   },
   "source": [
    "The following cell holds the definition of our parameters, these values can be overriden by rendering the with e.g. the following command:\n",
    "\n",
    "papermill -p alpha 0.2 -p ratio 0.3 universe_analysis.ipynb output/test_run.ipynb"
   ]
  },
  {
   "cell_type": "code",
   "execution_count": 2,
   "id": "a80968a0-40bb-4fa9-85ef-2d5eefb01975",
   "metadata": {
    "execution": {
     "iopub.execute_input": "2025-07-28T10:37:52.022943Z",
     "iopub.status.busy": "2025-07-28T10:37:52.022420Z",
     "iopub.status.idle": "2025-07-28T10:37:52.029062Z",
     "shell.execute_reply": "2025-07-28T10:37:52.027885Z"
    },
    "papermill": {
     "duration": 0.03095,
     "end_time": "2025-07-28T10:37:52.030848",
     "exception": false,
     "start_time": "2025-07-28T10:37:51.999898",
     "status": "completed"
    },
    "tags": []
   },
   "outputs": [
    {
     "name": "stdout",
     "output_type": "stream",
     "text": [
      "Current working directory: /dss/dsshome1/0C/ra93lal2/cma/CMA_Fairness_v2\n"
     ]
    }
   ],
   "source": [
    "import os\n",
    "print(\"Current working directory:\", os.getcwd())"
   ]
  },
  {
   "cell_type": "code",
   "execution_count": 3,
   "id": "2dce4c03",
   "metadata": {
    "execution": {
     "iopub.execute_input": "2025-07-28T10:37:52.077055Z",
     "iopub.status.busy": "2025-07-28T10:37:52.076300Z",
     "iopub.status.idle": "2025-07-28T10:37:52.083507Z",
     "shell.execute_reply": "2025-07-28T10:37:52.082467Z"
    },
    "papermill": {
     "duration": 0.032675,
     "end_time": "2025-07-28T10:37:52.085708",
     "exception": false,
     "start_time": "2025-07-28T10:37:52.053033",
     "status": "completed"
    },
    "tags": [
     "parameters"
    ]
   },
   "outputs": [],
   "source": [
    "run_no = 0\n",
    "universe_id = \"test\"\n",
    "universe = {\n",
    "    \"training_size\": \"2014\", # \"25k\", \"5k\", \"1k\", \"2014\"\n",
    "    \"scale\": \"scale\", # \"scale\", \"do-not-scale\",\n",
    "    #\"stratify_split\": \"target\", # \"none\", \"target\", \"protected-attribute\", \"both\",\n",
    "    \"model\": \"elasticnet\", # \"logreg\", \"penalized_logreg\", \"rf\", \"gbm\", \"elasticnet\"\n",
    "    \"cutoff\": [\"quantile_0.15\", \"quantile_0.30\"],\n",
    "    \"exclude_features\": \"age\", # \"none\", \"nationality\", \"sex\", \"nationality-sex\", \"age\"\n",
    "    \"exclude_subgroups\": \"keep-all\", # \"keep-all\", \"drop-non-german\"\n",
    "    \"eval_fairness_grouping\": [\"majority-minority\", \"nationality-all\"]\n",
    "}\n",
    "\n",
    "output_dir=\"./output\"\n",
    "seed=0"
   ]
  },
  {
   "cell_type": "code",
   "execution_count": 4,
   "id": "ae15d4e6",
   "metadata": {
    "execution": {
     "iopub.execute_input": "2025-07-28T10:37:52.131375Z",
     "iopub.status.busy": "2025-07-28T10:37:52.130665Z",
     "iopub.status.idle": "2025-07-28T10:37:52.135898Z",
     "shell.execute_reply": "2025-07-28T10:37:52.134941Z"
    },
    "papermill": {
     "duration": 0.030265,
     "end_time": "2025-07-28T10:37:52.138100",
     "exception": false,
     "start_time": "2025-07-28T10:37:52.107835",
     "status": "completed"
    },
    "tags": [
     "injected-parameters"
    ]
   },
   "outputs": [],
   "source": [
    "# Parameters\n",
    "universe_id = \"f4aff52411b8923fa618027050bc8d5f\"\n",
    "run_no = \"11\"\n",
    "universe = \"{\\\"cutoff\\\": [\\\"quantile_0.1\\\", \\\"quantile_0.25\\\"], \\\"eval_fairness_grouping\\\": [\\\"majority-minority\\\", \\\"nationality-all\\\"], \\\"exclude_features\\\": \\\"age\\\", \\\"exclude_subgroups\\\": \\\"drop-non-german\\\", \\\"model\\\": \\\"rf\\\", \\\"scale\\\": \\\"do-not-scale\\\", \\\"training_size\\\": \\\"5k\\\"}\"\n",
    "output_dir = \"output\"\n",
    "seed = \"2023\"\n"
   ]
  },
  {
   "cell_type": "code",
   "execution_count": 5,
   "id": "1650acaf",
   "metadata": {
    "execution": {
     "iopub.execute_input": "2025-07-28T10:37:52.182039Z",
     "iopub.status.busy": "2025-07-28T10:37:52.181507Z",
     "iopub.status.idle": "2025-07-28T10:37:52.186789Z",
     "shell.execute_reply": "2025-07-28T10:37:52.185994Z"
    },
    "papermill": {
     "duration": 0.029296,
     "end_time": "2025-07-28T10:37:52.188682",
     "exception": false,
     "start_time": "2025-07-28T10:37:52.159386",
     "status": "completed"
    },
    "tags": []
   },
   "outputs": [],
   "source": [
    "import json\n",
    "# Parse universe into dict if it is passed as a string\n",
    "if isinstance(universe, str):\n",
    "    universe = json.loads(universe)"
   ]
  },
  {
   "cell_type": "code",
   "execution_count": 6,
   "id": "16620c48",
   "metadata": {
    "execution": {
     "iopub.execute_input": "2025-07-28T10:37:52.227714Z",
     "iopub.status.busy": "2025-07-28T10:37:52.226700Z",
     "iopub.status.idle": "2025-07-28T10:37:52.275110Z",
     "shell.execute_reply": "2025-07-28T10:37:52.274034Z"
    },
    "papermill": {
     "duration": 0.071809,
     "end_time": "2025-07-28T10:37:52.277014",
     "exception": false,
     "start_time": "2025-07-28T10:37:52.205205",
     "status": "completed"
    },
    "tags": []
   },
   "outputs": [],
   "source": [
    "# Auto-reload the custom package\n",
    "%load_ext autoreload\n",
    "%autoreload 1\n",
    "%aimport fairness_multiverse"
   ]
  },
  {
   "cell_type": "code",
   "execution_count": 7,
   "id": "01c5c9f3",
   "metadata": {
    "execution": {
     "iopub.execute_input": "2025-07-28T10:37:52.322047Z",
     "iopub.status.busy": "2025-07-28T10:37:52.321510Z",
     "iopub.status.idle": "2025-07-28T10:37:54.617234Z",
     "shell.execute_reply": "2025-07-28T10:37:54.616106Z"
    },
    "papermill": {
     "duration": 2.322155,
     "end_time": "2025-07-28T10:37:54.619355",
     "exception": false,
     "start_time": "2025-07-28T10:37:52.297200",
     "status": "completed"
    },
    "tags": []
   },
   "outputs": [],
   "source": [
    "from fairness_multiverse.universe import UniverseAnalysis\n",
    "\n",
    "universe_analysis = UniverseAnalysis(\n",
    "    run_no = run_no,\n",
    "    universe_id = universe_id,\n",
    "    universe = universe,\n",
    "    output_dir=output_dir,\n",
    ")"
   ]
  },
  {
   "cell_type": "code",
   "execution_count": 8,
   "id": "106241f5",
   "metadata": {
    "execution": {
     "iopub.execute_input": "2025-07-28T10:37:54.675006Z",
     "iopub.status.busy": "2025-07-28T10:37:54.674056Z",
     "iopub.status.idle": "2025-07-28T10:37:54.682596Z",
     "shell.execute_reply": "2025-07-28T10:37:54.681645Z"
    },
    "papermill": {
     "duration": 0.049403,
     "end_time": "2025-07-28T10:37:54.685311",
     "exception": false,
     "start_time": "2025-07-28T10:37:54.635908",
     "status": "completed"
    },
    "tags": []
   },
   "outputs": [
    {
     "name": "stdout",
     "output_type": "stream",
     "text": [
      "Using Seed: 2023\n"
     ]
    }
   ],
   "source": [
    "import numpy as np\n",
    "parsed_seed = int(seed)\n",
    "np.random.seed(parsed_seed)\n",
    "print(f\"Using Seed: {parsed_seed}\")"
   ]
  },
  {
   "cell_type": "markdown",
   "id": "e0ebdc57",
   "metadata": {
    "papermill": {
     "duration": 0.046978,
     "end_time": "2025-07-28T10:37:54.776137",
     "exception": false,
     "start_time": "2025-07-28T10:37:54.729159",
     "status": "completed"
    },
    "tags": []
   },
   "source": [
    "# Loading Data"
   ]
  },
  {
   "cell_type": "markdown",
   "id": "681925a3",
   "metadata": {
    "papermill": {
     "duration": 0.0512,
     "end_time": "2025-07-28T10:37:54.866911",
     "exception": false,
     "start_time": "2025-07-28T10:37:54.815711",
     "status": "completed"
    },
    "tags": []
   },
   "source": [
    "Load siab_train, siab_test, siab_calib and/or \n",
    "load siab_train_features, siab_train_labels"
   ]
  },
  {
   "cell_type": "code",
   "execution_count": 9,
   "id": "f0496b8a",
   "metadata": {
    "execution": {
     "iopub.execute_input": "2025-07-28T10:37:54.936235Z",
     "iopub.status.busy": "2025-07-28T10:37:54.935758Z",
     "iopub.status.idle": "2025-07-28T10:38:07.884999Z",
     "shell.execute_reply": "2025-07-28T10:38:07.883940Z"
    },
    "papermill": {
     "duration": 12.975348,
     "end_time": "2025-07-28T10:38:07.886394",
     "exception": false,
     "start_time": "2025-07-28T10:37:54.911046",
     "status": "completed"
    },
    "tags": []
   },
   "outputs": [
    {
     "name": "stdout",
     "output_type": "stream",
     "text": [
      "Loading SIAB data from cache: data/siab_cached.csv.gz\n"
     ]
    },
    {
     "name": "stdout",
     "output_type": "stream",
     "text": [
      "(643690, 164)\n"
     ]
    }
   ],
   "source": [
    "from pathlib import Path\n",
    "import pandas as pd\n",
    "\n",
    "# File paths\n",
    "raw_file = Path(\"data/raw/siab.csv\")\n",
    "cache_file = Path(\"data/siab_cached.csv.gz\")\n",
    "\n",
    "# Ensure cache directory exists\n",
    "cache_file.parent.mkdir(parents=True, exist_ok=True)\n",
    "\n",
    "# Load with simple caching\n",
    "if cache_file.exists():\n",
    "    print(f\"Loading SIAB data from cache: {cache_file}\")\n",
    "    siab = pd.read_csv(cache_file, compression='gzip')\n",
    "else:\n",
    "    print(f\"Cache not found. Reading raw SIAB data: {raw_file}\")\n",
    "    siab = pd.read_csv(raw_file)\n",
    "    siab.to_csv(cache_file, index=False, compression='gzip')\n",
    "    print(f\"Cached SIAB data to: {cache_file}\")\n",
    "\n",
    "# Now use `siab` DataFrame as needed\n",
    "print(siab.shape)"
   ]
  },
  {
   "cell_type": "code",
   "execution_count": 10,
   "id": "db0ca512-5f53-4dba-abdb-a2888bca41ba",
   "metadata": {
    "execution": {
     "iopub.execute_input": "2025-07-28T10:38:07.912081Z",
     "iopub.status.busy": "2025-07-28T10:38:07.911639Z",
     "iopub.status.idle": "2025-07-28T10:38:07.916661Z",
     "shell.execute_reply": "2025-07-28T10:38:07.915763Z"
    },
    "papermill": {
     "duration": 0.018151,
     "end_time": "2025-07-28T10:38:07.918153",
     "exception": false,
     "start_time": "2025-07-28T10:38:07.900002",
     "status": "completed"
    },
    "tags": []
   },
   "outputs": [],
   "source": [
    "#siab"
   ]
  },
  {
   "cell_type": "code",
   "execution_count": 11,
   "id": "a0edb063",
   "metadata": {
    "execution": {
     "iopub.execute_input": "2025-07-28T10:38:07.940776Z",
     "iopub.status.busy": "2025-07-28T10:38:07.940161Z",
     "iopub.status.idle": "2025-07-28T10:38:07.944374Z",
     "shell.execute_reply": "2025-07-28T10:38:07.943638Z"
    },
    "papermill": {
     "duration": 0.016792,
     "end_time": "2025-07-28T10:38:07.945852",
     "exception": false,
     "start_time": "2025-07-28T10:38:07.929060",
     "status": "completed"
    },
    "tags": []
   },
   "outputs": [],
   "source": [
    "#import pandas as pd\n",
    "#\n",
    "#X_train = pd.read_csv(\"./data/X_train.csv\")\n",
    "#y_train = pd.read_csv(\"./data/y_train.csv\")"
   ]
  },
  {
   "cell_type": "code",
   "execution_count": 12,
   "id": "63d08085",
   "metadata": {
    "execution": {
     "iopub.execute_input": "2025-07-28T10:38:07.968825Z",
     "iopub.status.busy": "2025-07-28T10:38:07.968411Z",
     "iopub.status.idle": "2025-07-28T10:38:07.973024Z",
     "shell.execute_reply": "2025-07-28T10:38:07.972278Z"
    },
    "papermill": {
     "duration": 0.017344,
     "end_time": "2025-07-28T10:38:07.974500",
     "exception": false,
     "start_time": "2025-07-28T10:38:07.957156",
     "status": "completed"
    },
    "tags": []
   },
   "outputs": [],
   "source": [
    "#X_test = pd.read_csv(\"./data/X_test.csv\")\n",
    "#y_true = pd.read_csv(\"./data/y_test.csv\")"
   ]
  },
  {
   "cell_type": "code",
   "execution_count": 13,
   "id": "98a8d0fa-1d3d-4ed8-bb2c-281470e24add",
   "metadata": {
    "execution": {
     "iopub.execute_input": "2025-07-28T10:38:07.998074Z",
     "iopub.status.busy": "2025-07-28T10:38:07.997359Z",
     "iopub.status.idle": "2025-07-28T10:38:08.002069Z",
     "shell.execute_reply": "2025-07-28T10:38:08.001316Z"
    },
    "papermill": {
     "duration": 0.017574,
     "end_time": "2025-07-28T10:38:08.003416",
     "exception": false,
     "start_time": "2025-07-28T10:38:07.985842",
     "status": "completed"
    },
    "tags": []
   },
   "outputs": [],
   "source": [
    "# Calibration data for conformal\n",
    "#X_calib = pd.read_csv(\"./data/X_calib.csv\")\n",
    "#y_calib = pd.read_csv(\"./data/y_calib.csv\")"
   ]
  },
  {
   "cell_type": "markdown",
   "id": "9901737e-04df-44f0-9100-f5ad144ed040",
   "metadata": {
    "papermill": {
     "duration": 0.010233,
     "end_time": "2025-07-28T10:38:08.025055",
     "exception": false,
     "start_time": "2025-07-28T10:38:08.014822",
     "status": "completed"
    },
    "tags": []
   },
   "source": [
    "# Splitting Data and Setting Training Data Size"
   ]
  },
  {
   "cell_type": "code",
   "execution_count": 14,
   "id": "acbc8f7d-8fc8-4e86-8c59-5dcb0f58384b",
   "metadata": {
    "execution": {
     "iopub.execute_input": "2025-07-28T10:38:08.048382Z",
     "iopub.status.busy": "2025-07-28T10:38:08.047393Z",
     "iopub.status.idle": "2025-07-28T10:38:08.054296Z",
     "shell.execute_reply": "2025-07-28T10:38:08.053578Z"
    },
    "papermill": {
     "duration": 0.020296,
     "end_time": "2025-07-28T10:38:08.056045",
     "exception": false,
     "start_time": "2025-07-28T10:38:08.035749",
     "status": "completed"
    },
    "tags": []
   },
   "outputs": [],
   "source": [
    "def sample_by_year(df, training_size, random_state=42):\n",
    "    if training_size == \"2014\":\n",
    "        return df[df[\"year\"] == 2014].reset_index(drop=True)\n",
    "    \n",
    "    size_map = {\n",
    "        \"25k\": 5000,\n",
    "        \"5k\": 1000,\n",
    "        \"1k\": 200\n",
    "    }\n",
    "\n",
    "    if training_size not in size_map:\n",
    "        return df.reset_index(drop=True)  # use all data\n",
    "\n",
    "    n_per_year = size_map[training_size]\n",
    "    grouped = df.groupby(\"year\")\n",
    "    sampled = grouped.apply(lambda x: x.sample(n=min(n_per_year, len(x)), random_state=random_state))\n",
    "    return sampled.reset_index(drop=True)"
   ]
  },
  {
   "cell_type": "code",
   "execution_count": 15,
   "id": "6d931f52-beaf-43ff-9e78-9d44a448d54e",
   "metadata": {
    "execution": {
     "iopub.execute_input": "2025-07-28T10:38:08.080001Z",
     "iopub.status.busy": "2025-07-28T10:38:08.079136Z",
     "iopub.status.idle": "2025-07-28T10:38:08.674034Z",
     "shell.execute_reply": "2025-07-28T10:38:08.673172Z"
    },
    "papermill": {
     "duration": 0.607868,
     "end_time": "2025-07-28T10:38:08.675537",
     "exception": false,
     "start_time": "2025-07-28T10:38:08.067669",
     "status": "completed"
    },
    "tags": []
   },
   "outputs": [],
   "source": [
    "siab_s = sample_by_year(siab, universe[\"training_size\"])"
   ]
  },
  {
   "cell_type": "code",
   "execution_count": 16,
   "id": "5db0a40e-a4e2-4920-be85-b12ae061d70d",
   "metadata": {
    "execution": {
     "iopub.execute_input": "2025-07-28T10:38:08.699177Z",
     "iopub.status.busy": "2025-07-28T10:38:08.698654Z",
     "iopub.status.idle": "2025-07-28T10:38:08.710894Z",
     "shell.execute_reply": "2025-07-28T10:38:08.710035Z"
    },
    "papermill": {
     "duration": 0.025939,
     "end_time": "2025-07-28T10:38:08.712785",
     "exception": false,
     "start_time": "2025-07-28T10:38:08.686846",
     "status": "completed"
    },
    "tags": []
   },
   "outputs": [
    {
     "data": {
      "text/plain": [
       "year\n",
       "2010    1000\n",
       "2011    1000\n",
       "2012    1000\n",
       "2013    1000\n",
       "2014    1000\n",
       "2015    1000\n",
       "2016    1000\n",
       "dtype: int64"
      ]
     },
     "metadata": {},
     "output_type": "display_data"
    }
   ],
   "source": [
    "display(siab_s.groupby(\"year\").size())"
   ]
  },
  {
   "cell_type": "code",
   "execution_count": 17,
   "id": "a561edb4-d032-42cb-8256-22eac1111c64",
   "metadata": {
    "execution": {
     "iopub.execute_input": "2025-07-28T10:38:08.737247Z",
     "iopub.status.busy": "2025-07-28T10:38:08.736412Z",
     "iopub.status.idle": "2025-07-28T10:38:08.961555Z",
     "shell.execute_reply": "2025-07-28T10:38:08.960320Z"
    },
    "papermill": {
     "duration": 0.238896,
     "end_time": "2025-07-28T10:38:08.963492",
     "exception": false,
     "start_time": "2025-07-28T10:38:08.724596",
     "status": "completed"
    },
    "tags": []
   },
   "outputs": [],
   "source": [
    "siab_train = siab_s[siab_s.year < 2015]\n",
    "siab_calib = siab[siab.year == 2015]\n",
    "siab_test = siab[siab.year == 2016]"
   ]
  },
  {
   "cell_type": "code",
   "execution_count": 18,
   "id": "472de16f-c3db-4916-846b-1f0de9cf1746",
   "metadata": {
    "execution": {
     "iopub.execute_input": "2025-07-28T10:38:09.005888Z",
     "iopub.status.busy": "2025-07-28T10:38:09.005066Z",
     "iopub.status.idle": "2025-07-28T10:38:09.014779Z",
     "shell.execute_reply": "2025-07-28T10:38:09.013758Z"
    },
    "papermill": {
     "duration": 0.033162,
     "end_time": "2025-07-28T10:38:09.016876",
     "exception": false,
     "start_time": "2025-07-28T10:38:08.983714",
     "status": "completed"
    },
    "tags": []
   },
   "outputs": [],
   "source": [
    "X_train = siab_train.iloc[:,4:164]\n",
    "y_train = siab_train.iloc[:, [3]]"
   ]
  },
  {
   "cell_type": "code",
   "execution_count": 19,
   "id": "828c96af-f43a-4ed6-ba47-8ac73a47d56c",
   "metadata": {
    "execution": {
     "iopub.execute_input": "2025-07-28T10:38:09.059393Z",
     "iopub.status.busy": "2025-07-28T10:38:09.058686Z",
     "iopub.status.idle": "2025-07-28T10:38:09.115198Z",
     "shell.execute_reply": "2025-07-28T10:38:09.114149Z"
    },
    "papermill": {
     "duration": 0.081534,
     "end_time": "2025-07-28T10:38:09.116759",
     "exception": false,
     "start_time": "2025-07-28T10:38:09.035225",
     "status": "completed"
    },
    "tags": []
   },
   "outputs": [],
   "source": [
    "X_calib = siab_calib.iloc[:,4:164]\n",
    "y_calib = siab_calib.iloc[:, [3]]"
   ]
  },
  {
   "cell_type": "code",
   "execution_count": 20,
   "id": "c34be9c3-6bd6-476e-acd3-845840e303be",
   "metadata": {
    "execution": {
     "iopub.execute_input": "2025-07-28T10:38:09.157578Z",
     "iopub.status.busy": "2025-07-28T10:38:09.157179Z",
     "iopub.status.idle": "2025-07-28T10:38:09.278841Z",
     "shell.execute_reply": "2025-07-28T10:38:09.278015Z"
    },
    "papermill": {
     "duration": 0.144524,
     "end_time": "2025-07-28T10:38:09.280880",
     "exception": false,
     "start_time": "2025-07-28T10:38:09.136356",
     "status": "completed"
    },
    "tags": []
   },
   "outputs": [],
   "source": [
    "X_test = siab_test.iloc[:,4:164]\n",
    "y_true = siab_test.iloc[:, [3]]"
   ]
  },
  {
   "cell_type": "code",
   "execution_count": 21,
   "id": "e6c733c5",
   "metadata": {
    "execution": {
     "iopub.execute_input": "2025-07-28T10:38:09.323781Z",
     "iopub.status.busy": "2025-07-28T10:38:09.323290Z",
     "iopub.status.idle": "2025-07-28T10:38:09.423747Z",
     "shell.execute_reply": "2025-07-28T10:38:09.422652Z"
    },
    "papermill": {
     "duration": 0.124349,
     "end_time": "2025-07-28T10:38:09.426005",
     "exception": false,
     "start_time": "2025-07-28T10:38:09.301656",
     "status": "completed"
    },
    "tags": []
   },
   "outputs": [],
   "source": [
    "# Auxiliary data needed downstream in the pipeline\n",
    "\n",
    "org_train = X_train.copy()\n",
    "org_test = X_test.copy()\n",
    "org_calib = X_calib.copy()"
   ]
  },
  {
   "cell_type": "markdown",
   "id": "0a4a1b33",
   "metadata": {
    "papermill": {
     "duration": 0.020166,
     "end_time": "2025-07-28T10:38:09.469062",
     "exception": false,
     "start_time": "2025-07-28T10:38:09.448896",
     "status": "completed"
    },
    "tags": []
   },
   "source": [
    "# Preprocessing Data"
   ]
  },
  {
   "cell_type": "code",
   "execution_count": 22,
   "id": "ca879031",
   "metadata": {
    "execution": {
     "iopub.execute_input": "2025-07-28T10:38:09.510715Z",
     "iopub.status.busy": "2025-07-28T10:38:09.510206Z",
     "iopub.status.idle": "2025-07-28T10:38:09.516807Z",
     "shell.execute_reply": "2025-07-28T10:38:09.515847Z"
    },
    "papermill": {
     "duration": 0.029566,
     "end_time": "2025-07-28T10:38:09.518430",
     "exception": false,
     "start_time": "2025-07-28T10:38:09.488864",
     "status": "completed"
    },
    "tags": []
   },
   "outputs": [],
   "source": [
    "# EXCLUDE PROTECTED FEATURES\n",
    "# ----------------------\n",
    "# \"exclude_features\": \"none\", # \"nationality\", \"sex\", \"nationality-sex\"\n",
    "\n",
    "excluded_features = universe[\"exclude_features\"].split(\"-\") # split, e.g.: \"nationality-sex\" -> [\"nationality\", \"sex\"]\n",
    "excluded_features_dictionary = {\n",
    "    \"nationality\": [\"maxdeutsch1\", \"maxdeutsch.Missing.\"],\n",
    "    \"sex\": [\"frau1\"],\n",
    "    \"age\": [\"age\"],\n",
    "}\n"
   ]
  },
  {
   "cell_type": "code",
   "execution_count": 23,
   "id": "b745ac60",
   "metadata": {
    "execution": {
     "iopub.execute_input": "2025-07-28T10:38:09.562070Z",
     "iopub.status.busy": "2025-07-28T10:38:09.561280Z",
     "iopub.status.idle": "2025-07-28T10:38:09.567267Z",
     "shell.execute_reply": "2025-07-28T10:38:09.566364Z"
    },
    "papermill": {
     "duration": 0.029999,
     "end_time": "2025-07-28T10:38:09.569014",
     "exception": false,
     "start_time": "2025-07-28T10:38:09.539015",
     "status": "completed"
    },
    "tags": []
   },
   "outputs": [],
   "source": [
    "# Code nice names to column names\n",
    "\n",
    "excluded_features_columns = [\n",
    "    excluded_features_dictionary[f] for f in excluded_features if len(f) > 0 and f != \"none\"\n",
    "]"
   ]
  },
  {
   "cell_type": "code",
   "execution_count": 24,
   "id": "f84f73a2",
   "metadata": {
    "execution": {
     "iopub.execute_input": "2025-07-28T10:38:09.612448Z",
     "iopub.status.busy": "2025-07-28T10:38:09.611851Z",
     "iopub.status.idle": "2025-07-28T10:38:09.618975Z",
     "shell.execute_reply": "2025-07-28T10:38:09.617969Z"
    },
    "papermill": {
     "duration": 0.031092,
     "end_time": "2025-07-28T10:38:09.620880",
     "exception": false,
     "start_time": "2025-07-28T10:38:09.589788",
     "status": "completed"
    },
    "tags": []
   },
   "outputs": [],
   "source": [
    "from utils import flatten_once\n",
    "\n",
    "excluded_features_columns = flatten_once(excluded_features_columns)"
   ]
  },
  {
   "cell_type": "code",
   "execution_count": 25,
   "id": "884dea22",
   "metadata": {
    "execution": {
     "iopub.execute_input": "2025-07-28T10:38:09.668215Z",
     "iopub.status.busy": "2025-07-28T10:38:09.667462Z",
     "iopub.status.idle": "2025-07-28T10:38:09.677073Z",
     "shell.execute_reply": "2025-07-28T10:38:09.676145Z"
    },
    "papermill": {
     "duration": 0.03352,
     "end_time": "2025-07-28T10:38:09.678858",
     "exception": false,
     "start_time": "2025-07-28T10:38:09.645338",
     "status": "completed"
    },
    "tags": []
   },
   "outputs": [
    {
     "name": "stdout",
     "output_type": "stream",
     "text": [
      "Dropping features: ['age']\n"
     ]
    }
   ],
   "source": [
    "if len(excluded_features_columns) > 0:\n",
    "    print(f\"Dropping features: {excluded_features_columns}\")\n",
    "    X_train.drop(excluded_features_columns, axis=1, inplace=True)"
   ]
  },
  {
   "cell_type": "code",
   "execution_count": 26,
   "id": "95ab8b16",
   "metadata": {
    "execution": {
     "iopub.execute_input": "2025-07-28T10:38:09.722486Z",
     "iopub.status.busy": "2025-07-28T10:38:09.721641Z",
     "iopub.status.idle": "2025-07-28T10:38:09.779280Z",
     "shell.execute_reply": "2025-07-28T10:38:09.778373Z"
    },
    "papermill": {
     "duration": 0.080776,
     "end_time": "2025-07-28T10:38:09.780908",
     "exception": false,
     "start_time": "2025-07-28T10:38:09.700132",
     "status": "completed"
    },
    "tags": []
   },
   "outputs": [
    {
     "name": "stdout",
     "output_type": "stream",
     "text": [
      "Dropping features: ['age']\n"
     ]
    }
   ],
   "source": [
    "if len(excluded_features_columns) > 0:\n",
    "    print(f\"Dropping features: {excluded_features_columns}\")\n",
    "    X_test.drop(excluded_features_columns, axis=1, inplace=True)"
   ]
  },
  {
   "cell_type": "code",
   "execution_count": 27,
   "id": "1853aaf5-fb9f-46cb-a2b5-8ea4ae2237e4",
   "metadata": {
    "execution": {
     "iopub.execute_input": "2025-07-28T10:38:09.825627Z",
     "iopub.status.busy": "2025-07-28T10:38:09.824950Z",
     "iopub.status.idle": "2025-07-28T10:38:09.879899Z",
     "shell.execute_reply": "2025-07-28T10:38:09.878792Z"
    },
    "papermill": {
     "duration": 0.080427,
     "end_time": "2025-07-28T10:38:09.882530",
     "exception": false,
     "start_time": "2025-07-28T10:38:09.802103",
     "status": "completed"
    },
    "tags": []
   },
   "outputs": [
    {
     "name": "stdout",
     "output_type": "stream",
     "text": [
      "Dropping features: ['age']\n"
     ]
    }
   ],
   "source": [
    "if len(excluded_features_columns) > 0:\n",
    "    print(f\"Dropping features: {excluded_features_columns}\")\n",
    "    X_calib.drop(excluded_features_columns, axis=1, inplace=True)"
   ]
  },
  {
   "cell_type": "code",
   "execution_count": 28,
   "id": "6727d079-03e5-481e-9d38-292a90b7a0a8",
   "metadata": {
    "execution": {
     "iopub.execute_input": "2025-07-28T10:38:09.927538Z",
     "iopub.status.busy": "2025-07-28T10:38:09.926884Z",
     "iopub.status.idle": "2025-07-28T10:38:09.932320Z",
     "shell.execute_reply": "2025-07-28T10:38:09.931220Z"
    },
    "papermill": {
     "duration": 0.029797,
     "end_time": "2025-07-28T10:38:09.933891",
     "exception": false,
     "start_time": "2025-07-28T10:38:09.904094",
     "status": "completed"
    },
    "tags": []
   },
   "outputs": [],
   "source": [
    "# SPLIT & STRATIFY DATA\n",
    "# ----------------------"
   ]
  },
  {
   "cell_type": "code",
   "execution_count": 29,
   "id": "76c4dc6d",
   "metadata": {
    "execution": {
     "iopub.execute_input": "2025-07-28T10:38:09.978268Z",
     "iopub.status.busy": "2025-07-28T10:38:09.977348Z",
     "iopub.status.idle": "2025-07-28T10:38:09.983788Z",
     "shell.execute_reply": "2025-07-28T10:38:09.982765Z"
    },
    "papermill": {
     "duration": 0.030213,
     "end_time": "2025-07-28T10:38:09.985445",
     "exception": false,
     "start_time": "2025-07-28T10:38:09.955232",
     "status": "completed"
    },
    "tags": []
   },
   "outputs": [],
   "source": [
    "# EXCLUDE CERTAIN SUBGROUPS\n",
    "# ----------------------\n",
    "\n",
    "mode = universe.get(\"exclude_subgroups\", \"keep-all\") \n",
    "# Fetches the exclude_subgroups setting from the universe dict.\n",
    "# Defaults to \"keep-all\" if the key is missing."
   ]
  },
  {
   "cell_type": "code",
   "execution_count": 30,
   "id": "21994072",
   "metadata": {
    "execution": {
     "iopub.execute_input": "2025-07-28T10:38:10.031258Z",
     "iopub.status.busy": "2025-07-28T10:38:10.030551Z",
     "iopub.status.idle": "2025-07-28T10:38:10.037859Z",
     "shell.execute_reply": "2025-07-28T10:38:10.036957Z"
    },
    "papermill": {
     "duration": 0.031437,
     "end_time": "2025-07-28T10:38:10.039462",
     "exception": false,
     "start_time": "2025-07-28T10:38:10.008025",
     "status": "completed"
    },
    "tags": []
   },
   "outputs": [],
   "source": [
    "if mode == \"keep-all\":\n",
    "    keep_mask = pd.Series(True, index=org_train.index)\n",
    "\n",
    "# org_train contains the original feature columns from features_org (in Simson)\n",
    "# features_org contains unprocessed features, for me X_train at beginning ???\n",
    "# For keep-all, creates a boolean Series (keep_mask) of all True, so no rows are removed.\n",
    "\n",
    "elif mode == \"drop-non-german\":\n",
    "    keep_mask = org_train[\"maxdeutsch1\"] == 1 # ??? what about missing values?\n",
    "\n",
    "else:\n",
    "    raise ValueError(f\"Unsupported mode for exclude_subgroups: {mode}\")\n"
   ]
  },
  {
   "cell_type": "code",
   "execution_count": 31,
   "id": "71651440",
   "metadata": {
    "execution": {
     "iopub.execute_input": "2025-07-28T10:38:10.083679Z",
     "iopub.status.busy": "2025-07-28T10:38:10.083053Z",
     "iopub.status.idle": "2025-07-28T10:38:10.102056Z",
     "shell.execute_reply": "2025-07-28T10:38:10.100964Z"
    },
    "papermill": {
     "duration": 0.042878,
     "end_time": "2025-07-28T10:38:10.104148",
     "exception": false,
     "start_time": "2025-07-28T10:38:10.061270",
     "status": "completed"
    },
    "tags": []
   },
   "outputs": [
    {
     "name": "stdout",
     "output_type": "stream",
     "text": [
      "Dropping 657 rows (13.14%) where mode='drop-non-german'\n"
     ]
    }
   ],
   "source": [
    "n_drop = (~keep_mask).sum() # Calculates how many rows are set to be dropped\n",
    "if n_drop > 0:\n",
    "    pct = n_drop / len(keep_mask) * 100\n",
    "    print(f\"Dropping {n_drop} rows ({pct:.2f}%) where mode='{mode}'\")"
   ]
  },
  {
   "cell_type": "code",
   "execution_count": 32,
   "id": "5fb8eee5",
   "metadata": {
    "execution": {
     "iopub.execute_input": "2025-07-28T10:38:10.151807Z",
     "iopub.status.busy": "2025-07-28T10:38:10.151051Z",
     "iopub.status.idle": "2025-07-28T10:38:10.159372Z",
     "shell.execute_reply": "2025-07-28T10:38:10.158328Z"
    },
    "papermill": {
     "duration": 0.033308,
     "end_time": "2025-07-28T10:38:10.161048",
     "exception": false,
     "start_time": "2025-07-28T10:38:10.127740",
     "status": "completed"
    },
    "tags": []
   },
   "outputs": [],
   "source": [
    "X_train = X_train[keep_mask]"
   ]
  },
  {
   "cell_type": "code",
   "execution_count": 33,
   "id": "b202bb3a",
   "metadata": {
    "execution": {
     "iopub.execute_input": "2025-07-28T10:38:10.207937Z",
     "iopub.status.busy": "2025-07-28T10:38:10.207043Z",
     "iopub.status.idle": "2025-07-28T10:38:10.213133Z",
     "shell.execute_reply": "2025-07-28T10:38:10.212185Z"
    },
    "papermill": {
     "duration": 0.031737,
     "end_time": "2025-07-28T10:38:10.214785",
     "exception": false,
     "start_time": "2025-07-28T10:38:10.183048",
     "status": "completed"
    },
    "tags": []
   },
   "outputs": [],
   "source": [
    "y_train = y_train[keep_mask]"
   ]
  },
  {
   "cell_type": "markdown",
   "id": "493e2ac3",
   "metadata": {
    "papermill": {
     "duration": 0.021444,
     "end_time": "2025-07-28T10:38:10.257797",
     "exception": false,
     "start_time": "2025-07-28T10:38:10.236353",
     "status": "completed"
    },
    "tags": []
   },
   "source": [
    "# Model Training"
   ]
  },
  {
   "cell_type": "code",
   "execution_count": 34,
   "id": "679e1268",
   "metadata": {
    "execution": {
     "iopub.execute_input": "2025-07-28T10:38:10.301265Z",
     "iopub.status.busy": "2025-07-28T10:38:10.300751Z",
     "iopub.status.idle": "2025-07-28T10:38:10.409848Z",
     "shell.execute_reply": "2025-07-28T10:38:10.408702Z"
    },
    "papermill": {
     "duration": 0.133074,
     "end_time": "2025-07-28T10:38:10.411872",
     "exception": false,
     "start_time": "2025-07-28T10:38:10.278798",
     "status": "completed"
    },
    "tags": []
   },
   "outputs": [],
   "source": [
    "from sklearn.linear_model import LogisticRegression\n",
    "from sklearn.ensemble import GradientBoostingClassifier, RandomForestClassifier\n",
    "\n",
    "if (universe[\"model\"] == \"logreg\"):\n",
    "    model = LogisticRegression() #penalty=\"none\") #, solver=\"newton-cg\", max_iter=1) # include random_state=19 ?\n",
    "elif (universe[\"model\"] == \"penalized_logreg\"):\n",
    "    model = LogisticRegression(penalty=\"l2\", C=1.0) #, solver=\"newton-cg\", max_iter=1)\n",
    "elif (universe[\"model\"] == \"rf\"):\n",
    "    model = RandomForestClassifier(n_estimators=100, n_jobs=-1)\n",
    "elif (universe[\"model\"] == \"gbm\"):\n",
    "    model = GradientBoostingClassifier()\n",
    "elif (universe[\"model\"] == \"elasticnet\"):\n",
    "    model = LogisticRegression(penalty = 'elasticnet', solver = 'saga', l1_ratio = 0.5, max_iter=5000) # which solver to use?\n",
    "else:\n",
    "    raise \"Unsupported universe.model\""
   ]
  },
  {
   "cell_type": "code",
   "execution_count": 35,
   "id": "0cc8f744",
   "metadata": {
    "execution": {
     "iopub.execute_input": "2025-07-28T10:38:10.476284Z",
     "iopub.status.busy": "2025-07-28T10:38:10.475508Z",
     "iopub.status.idle": "2025-07-28T10:38:10.483625Z",
     "shell.execute_reply": "2025-07-28T10:38:10.482554Z"
    },
    "papermill": {
     "duration": 0.041868,
     "end_time": "2025-07-28T10:38:10.485442",
     "exception": false,
     "start_time": "2025-07-28T10:38:10.443574",
     "status": "completed"
    },
    "tags": []
   },
   "outputs": [],
   "source": [
    "import numpy as np\n",
    "from sklearn.pipeline import Pipeline\n",
    "from sklearn.preprocessing import StandardScaler\n",
    "\n",
    "model = Pipeline([\n",
    "    #(\"continuous_processor\", continuous_processor),\n",
    "    #(\"categorical_preprocessor\", categorical_preprocessor),\n",
    "    (\"scale\", StandardScaler() if universe[\"scale\"] == \"scale\" else None), \n",
    "    (\"model\", model),\n",
    "])"
   ]
  },
  {
   "cell_type": "code",
   "execution_count": 36,
   "id": "9442c04d",
   "metadata": {
    "execution": {
     "iopub.execute_input": "2025-07-28T10:38:10.531308Z",
     "iopub.status.busy": "2025-07-28T10:38:10.530600Z",
     "iopub.status.idle": "2025-07-28T10:38:11.512395Z",
     "shell.execute_reply": "2025-07-28T10:38:11.511451Z"
    },
    "papermill": {
     "duration": 1.006391,
     "end_time": "2025-07-28T10:38:11.514078",
     "exception": false,
     "start_time": "2025-07-28T10:38:10.507687",
     "status": "completed"
    },
    "tags": []
   },
   "outputs": [
    {
     "data": {
      "text/html": [
       "<style>#sk-container-id-1 {color: black;background-color: white;}#sk-container-id-1 pre{padding: 0;}#sk-container-id-1 div.sk-toggleable {background-color: white;}#sk-container-id-1 label.sk-toggleable__label {cursor: pointer;display: block;width: 100%;margin-bottom: 0;padding: 0.3em;box-sizing: border-box;text-align: center;}#sk-container-id-1 label.sk-toggleable__label-arrow:before {content: \"▸\";float: left;margin-right: 0.25em;color: #696969;}#sk-container-id-1 label.sk-toggleable__label-arrow:hover:before {color: black;}#sk-container-id-1 div.sk-estimator:hover label.sk-toggleable__label-arrow:before {color: black;}#sk-container-id-1 div.sk-toggleable__content {max-height: 0;max-width: 0;overflow: hidden;text-align: left;background-color: #f0f8ff;}#sk-container-id-1 div.sk-toggleable__content pre {margin: 0.2em;color: black;border-radius: 0.25em;background-color: #f0f8ff;}#sk-container-id-1 input.sk-toggleable__control:checked~div.sk-toggleable__content {max-height: 200px;max-width: 100%;overflow: auto;}#sk-container-id-1 input.sk-toggleable__control:checked~label.sk-toggleable__label-arrow:before {content: \"▾\";}#sk-container-id-1 div.sk-estimator input.sk-toggleable__control:checked~label.sk-toggleable__label {background-color: #d4ebff;}#sk-container-id-1 div.sk-label input.sk-toggleable__control:checked~label.sk-toggleable__label {background-color: #d4ebff;}#sk-container-id-1 input.sk-hidden--visually {border: 0;clip: rect(1px 1px 1px 1px);clip: rect(1px, 1px, 1px, 1px);height: 1px;margin: -1px;overflow: hidden;padding: 0;position: absolute;width: 1px;}#sk-container-id-1 div.sk-estimator {font-family: monospace;background-color: #f0f8ff;border: 1px dotted black;border-radius: 0.25em;box-sizing: border-box;margin-bottom: 0.5em;}#sk-container-id-1 div.sk-estimator:hover {background-color: #d4ebff;}#sk-container-id-1 div.sk-parallel-item::after {content: \"\";width: 100%;border-bottom: 1px solid gray;flex-grow: 1;}#sk-container-id-1 div.sk-label:hover label.sk-toggleable__label {background-color: #d4ebff;}#sk-container-id-1 div.sk-serial::before {content: \"\";position: absolute;border-left: 1px solid gray;box-sizing: border-box;top: 0;bottom: 0;left: 50%;z-index: 0;}#sk-container-id-1 div.sk-serial {display: flex;flex-direction: column;align-items: center;background-color: white;padding-right: 0.2em;padding-left: 0.2em;position: relative;}#sk-container-id-1 div.sk-item {position: relative;z-index: 1;}#sk-container-id-1 div.sk-parallel {display: flex;align-items: stretch;justify-content: center;background-color: white;position: relative;}#sk-container-id-1 div.sk-item::before, #sk-container-id-1 div.sk-parallel-item::before {content: \"\";position: absolute;border-left: 1px solid gray;box-sizing: border-box;top: 0;bottom: 0;left: 50%;z-index: -1;}#sk-container-id-1 div.sk-parallel-item {display: flex;flex-direction: column;z-index: 1;position: relative;background-color: white;}#sk-container-id-1 div.sk-parallel-item:first-child::after {align-self: flex-end;width: 50%;}#sk-container-id-1 div.sk-parallel-item:last-child::after {align-self: flex-start;width: 50%;}#sk-container-id-1 div.sk-parallel-item:only-child::after {width: 0;}#sk-container-id-1 div.sk-dashed-wrapped {border: 1px dashed gray;margin: 0 0.4em 0.5em 0.4em;box-sizing: border-box;padding-bottom: 0.4em;background-color: white;}#sk-container-id-1 div.sk-label label {font-family: monospace;font-weight: bold;display: inline-block;line-height: 1.2em;}#sk-container-id-1 div.sk-label-container {text-align: center;}#sk-container-id-1 div.sk-container {/* jupyter's `normalize.less` sets `[hidden] { display: none; }` but bootstrap.min.css set `[hidden] { display: none !important; }` so we also need the `!important` here to be able to override the default hidden behavior on the sphinx rendered scikit-learn.org. See: https://github.com/scikit-learn/scikit-learn/issues/21755 */display: inline-block !important;position: relative;}#sk-container-id-1 div.sk-text-repr-fallback {display: none;}</style><div id=\"sk-container-id-1\" class=\"sk-top-container\"><div class=\"sk-text-repr-fallback\"><pre>Pipeline(steps=[(&#x27;scale&#x27;, None), (&#x27;model&#x27;, RandomForestClassifier(n_jobs=-1))])</pre><b>In a Jupyter environment, please rerun this cell to show the HTML representation or trust the notebook. <br />On GitHub, the HTML representation is unable to render, please try loading this page with nbviewer.org.</b></div><div class=\"sk-container\" hidden><div class=\"sk-item sk-dashed-wrapped\"><div class=\"sk-label-container\"><div class=\"sk-label sk-toggleable\"><input class=\"sk-toggleable__control sk-hidden--visually\" id=\"sk-estimator-id-1\" type=\"checkbox\" ><label for=\"sk-estimator-id-1\" class=\"sk-toggleable__label sk-toggleable__label-arrow\">Pipeline</label><div class=\"sk-toggleable__content\"><pre>Pipeline(steps=[(&#x27;scale&#x27;, None), (&#x27;model&#x27;, RandomForestClassifier(n_jobs=-1))])</pre></div></div></div><div class=\"sk-serial\"><div class=\"sk-item\"><div class=\"sk-estimator sk-toggleable\"><input class=\"sk-toggleable__control sk-hidden--visually\" id=\"sk-estimator-id-2\" type=\"checkbox\" ><label for=\"sk-estimator-id-2\" class=\"sk-toggleable__label sk-toggleable__label-arrow\">None</label><div class=\"sk-toggleable__content\"><pre>None</pre></div></div></div><div class=\"sk-item\"><div class=\"sk-estimator sk-toggleable\"><input class=\"sk-toggleable__control sk-hidden--visually\" id=\"sk-estimator-id-3\" type=\"checkbox\" ><label for=\"sk-estimator-id-3\" class=\"sk-toggleable__label sk-toggleable__label-arrow\">RandomForestClassifier</label><div class=\"sk-toggleable__content\"><pre>RandomForestClassifier(n_jobs=-1)</pre></div></div></div></div></div></div></div>"
      ],
      "text/plain": [
       "Pipeline(steps=[('scale', None), ('model', RandomForestClassifier(n_jobs=-1))])"
      ]
     },
     "execution_count": 36,
     "metadata": {},
     "output_type": "execute_result"
    }
   ],
   "source": [
    "model.fit(X_train, y_train.values.ravel())"
   ]
  },
  {
   "cell_type": "code",
   "execution_count": 37,
   "id": "af59f8c0",
   "metadata": {
    "execution": {
     "iopub.execute_input": "2025-07-28T10:38:11.552775Z",
     "iopub.status.busy": "2025-07-28T10:38:11.552323Z",
     "iopub.status.idle": "2025-07-28T10:38:11.557393Z",
     "shell.execute_reply": "2025-07-28T10:38:11.556606Z"
    },
    "papermill": {
     "duration": 0.021343,
     "end_time": "2025-07-28T10:38:11.558723",
     "exception": false,
     "start_time": "2025-07-28T10:38:11.537380",
     "status": "completed"
    },
    "tags": []
   },
   "outputs": [],
   "source": [
    "from fairness_multiverse.universe import predict_w_threshold"
   ]
  },
  {
   "cell_type": "code",
   "execution_count": 38,
   "id": "a7cf2e16",
   "metadata": {
    "execution": {
     "iopub.execute_input": "2025-07-28T10:38:11.583967Z",
     "iopub.status.busy": "2025-07-28T10:38:11.583449Z",
     "iopub.status.idle": "2025-07-28T10:38:12.541613Z",
     "shell.execute_reply": "2025-07-28T10:38:12.540891Z"
    },
    "papermill": {
     "duration": 0.971847,
     "end_time": "2025-07-28T10:38:12.542908",
     "exception": false,
     "start_time": "2025-07-28T10:38:11.571061",
     "status": "completed"
    },
    "tags": []
   },
   "outputs": [
    {
     "data": {
      "text/plain": [
       "0.8646304759781518"
      ]
     },
     "execution_count": 38,
     "metadata": {},
     "output_type": "execute_result"
    }
   ],
   "source": [
    "probs_test = model.predict_proba(X_test)\n",
    "\n",
    "'''\n",
    "Below code returns a boolean array (or binary 0/1 array depending on how it’s used) where each element \n",
    "is True if the probability of class 1 is greater than or equal to the threshold, and False otherwise.\n",
    "'''\n",
    "y_pred_default = predict_w_threshold(probs_test, 0.5)\n",
    "\n",
    "from sklearn.metrics import accuracy_score\n",
    "\n",
    "# Naive prediction\n",
    "accuracy_score(y_true = y_true, y_pred = y_pred_default)"
   ]
  },
  {
   "cell_type": "code",
   "execution_count": 39,
   "id": "081964c3",
   "metadata": {
    "execution": {
     "iopub.execute_input": "2025-07-28T10:38:12.572750Z",
     "iopub.status.busy": "2025-07-28T10:38:12.572232Z",
     "iopub.status.idle": "2025-07-28T10:38:13.590321Z",
     "shell.execute_reply": "2025-07-28T10:38:13.589330Z"
    },
    "papermill": {
     "duration": 1.033064,
     "end_time": "2025-07-28T10:38:13.592410",
     "exception": false,
     "start_time": "2025-07-28T10:38:12.559346",
     "status": "completed"
    },
    "tags": []
   },
   "outputs": [
    {
     "data": {
      "text/plain": [
       "array([0, 0, 0, ..., 0, 0, 0])"
      ]
     },
     "execution_count": 39,
     "metadata": {},
     "output_type": "execute_result"
    }
   ],
   "source": [
    "model.predict(X_test)"
   ]
  },
  {
   "cell_type": "markdown",
   "id": "56c9705b",
   "metadata": {
    "papermill": {
     "duration": 0.02423,
     "end_time": "2025-07-28T10:38:13.641538",
     "exception": false,
     "start_time": "2025-07-28T10:38:13.617308",
     "status": "completed"
    },
    "tags": []
   },
   "source": [
    "# Conformal Prediction"
   ]
  },
  {
   "cell_type": "code",
   "execution_count": 40,
   "id": "160ec6ff",
   "metadata": {
    "execution": {
     "iopub.execute_input": "2025-07-28T10:38:13.692638Z",
     "iopub.status.busy": "2025-07-28T10:38:13.691676Z",
     "iopub.status.idle": "2025-07-28T10:38:13.697573Z",
     "shell.execute_reply": "2025-07-28T10:38:13.696534Z"
    },
    "papermill": {
     "duration": 0.033285,
     "end_time": "2025-07-28T10:38:13.699401",
     "exception": false,
     "start_time": "2025-07-28T10:38:13.666116",
     "status": "completed"
    },
    "tags": []
   },
   "outputs": [],
   "source": [
    "# Miscoverage level for conformal prediction (10% allowed error rate => 90% target coverage)\n",
    "alpha = 0.1"
   ]
  },
  {
   "cell_type": "code",
   "execution_count": 41,
   "id": "eadf4555-3dd3-440e-8e35-f82a4ad9f855",
   "metadata": {
    "execution": {
     "iopub.execute_input": "2025-07-28T10:38:13.751058Z",
     "iopub.status.busy": "2025-07-28T10:38:13.750416Z",
     "iopub.status.idle": "2025-07-28T10:38:14.558617Z",
     "shell.execute_reply": "2025-07-28T10:38:14.557503Z"
    },
    "papermill": {
     "duration": 0.836146,
     "end_time": "2025-07-28T10:38:14.560804",
     "exception": false,
     "start_time": "2025-07-28T10:38:13.724658",
     "status": "completed"
    },
    "tags": []
   },
   "outputs": [],
   "source": [
    "probs_calib = model.predict_proba(X_calib)"
   ]
  },
  {
   "cell_type": "code",
   "execution_count": 42,
   "id": "2ed93547-6d5d-4983-9b36-1ecb300da49a",
   "metadata": {
    "execution": {
     "iopub.execute_input": "2025-07-28T10:38:14.613681Z",
     "iopub.status.busy": "2025-07-28T10:38:14.613018Z",
     "iopub.status.idle": "2025-07-28T10:38:14.620756Z",
     "shell.execute_reply": "2025-07-28T10:38:14.619512Z"
    },
    "papermill": {
     "duration": 0.036169,
     "end_time": "2025-07-28T10:38:14.622542",
     "exception": false,
     "start_time": "2025-07-28T10:38:14.586373",
     "status": "completed"
    },
    "tags": []
   },
   "outputs": [],
   "source": [
    "y_calib = y_calib.values.ravel().astype(int)"
   ]
  },
  {
   "cell_type": "code",
   "execution_count": 43,
   "id": "65d1320d-f588-4b38-9072-62af1ae97f7d",
   "metadata": {
    "execution": {
     "iopub.execute_input": "2025-07-28T10:38:14.674130Z",
     "iopub.status.busy": "2025-07-28T10:38:14.673719Z",
     "iopub.status.idle": "2025-07-28T10:38:14.680584Z",
     "shell.execute_reply": "2025-07-28T10:38:14.679728Z"
    },
    "papermill": {
     "duration": 0.033685,
     "end_time": "2025-07-28T10:38:14.682014",
     "exception": false,
     "start_time": "2025-07-28T10:38:14.648329",
     "status": "completed"
    },
    "tags": []
   },
   "outputs": [],
   "source": [
    "from fairness_multiverse.conformal import compute_nc_scores\n",
    "\n",
    "# Compute nonconformity scores on calibration set (1 - probability of true class)\n",
    "nc_scores = compute_nc_scores(probs_calib, y_calib)"
   ]
  },
  {
   "cell_type": "code",
   "execution_count": 44,
   "id": "df3b8ca3-53b7-43d5-9667-7c85da7aeda2",
   "metadata": {
    "execution": {
     "iopub.execute_input": "2025-07-28T10:38:14.710629Z",
     "iopub.status.busy": "2025-07-28T10:38:14.710097Z",
     "iopub.status.idle": "2025-07-28T10:38:14.716543Z",
     "shell.execute_reply": "2025-07-28T10:38:14.715600Z"
    },
    "papermill": {
     "duration": 0.022713,
     "end_time": "2025-07-28T10:38:14.718103",
     "exception": false,
     "start_time": "2025-07-28T10:38:14.695390",
     "status": "completed"
    },
    "tags": []
   },
   "outputs": [],
   "source": [
    "from fairness_multiverse.conformal import find_threshold\n",
    "\n",
    "# Find conformal threshold q_hat for the given alpha (split conformal method)\n",
    "q_hat = find_threshold(nc_scores, alpha)"
   ]
  },
  {
   "cell_type": "code",
   "execution_count": 45,
   "id": "4d29e6c1-0ef6-4aa4-b8fe-4fe79b0d033a",
   "metadata": {
    "execution": {
     "iopub.execute_input": "2025-07-28T10:38:14.746720Z",
     "iopub.status.busy": "2025-07-28T10:38:14.746336Z",
     "iopub.status.idle": "2025-07-28T10:38:14.753089Z",
     "shell.execute_reply": "2025-07-28T10:38:14.752192Z"
    },
    "papermill": {
     "duration": 0.022147,
     "end_time": "2025-07-28T10:38:14.754502",
     "exception": false,
     "start_time": "2025-07-28T10:38:14.732355",
     "status": "completed"
    },
    "tags": []
   },
   "outputs": [
    {
     "data": {
      "text/plain": [
       "0.6699999999999999"
      ]
     },
     "execution_count": 45,
     "metadata": {},
     "output_type": "execute_result"
    }
   ],
   "source": [
    "q_hat"
   ]
  },
  {
   "cell_type": "code",
   "execution_count": 46,
   "id": "92460794-cdac-4be2-ba28-f28c0515a6fb",
   "metadata": {
    "execution": {
     "iopub.execute_input": "2025-07-28T10:38:14.783252Z",
     "iopub.status.busy": "2025-07-28T10:38:14.782435Z",
     "iopub.status.idle": "2025-07-28T10:38:16.390392Z",
     "shell.execute_reply": "2025-07-28T10:38:16.388293Z"
    },
    "papermill": {
     "duration": 1.623886,
     "end_time": "2025-07-28T10:38:16.392412",
     "exception": false,
     "start_time": "2025-07-28T10:38:14.768526",
     "status": "completed"
    },
    "tags": []
   },
   "outputs": [],
   "source": [
    "from fairness_multiverse.conformal import predict_conformal_sets\n",
    "\n",
    "# Generate prediction sets for each test example\n",
    "pred_sets = predict_conformal_sets(model, X_test, q_hat)"
   ]
  },
  {
   "cell_type": "code",
   "execution_count": 47,
   "id": "d90c9a65-e6db-4f5d-80cd-e68fb7e46829",
   "metadata": {
    "execution": {
     "iopub.execute_input": "2025-07-28T10:38:16.422005Z",
     "iopub.status.busy": "2025-07-28T10:38:16.421594Z",
     "iopub.status.idle": "2025-07-28T10:38:16.427492Z",
     "shell.execute_reply": "2025-07-28T10:38:16.426475Z"
    },
    "papermill": {
     "duration": 0.02611,
     "end_time": "2025-07-28T10:38:16.434385",
     "exception": false,
     "start_time": "2025-07-28T10:38:16.408275",
     "status": "completed"
    },
    "tags": []
   },
   "outputs": [],
   "source": [
    "y_true = y_true.squeeze()"
   ]
  },
  {
   "cell_type": "code",
   "execution_count": 48,
   "id": "3a58a54a-1e68-46b9-927a-df01f18aebc8",
   "metadata": {
    "execution": {
     "iopub.execute_input": "2025-07-28T10:38:16.478567Z",
     "iopub.status.busy": "2025-07-28T10:38:16.478065Z",
     "iopub.status.idle": "2025-07-28T10:38:17.338833Z",
     "shell.execute_reply": "2025-07-28T10:38:17.337960Z"
    },
    "papermill": {
     "duration": 0.88031,
     "end_time": "2025-07-28T10:38:17.340432",
     "exception": false,
     "start_time": "2025-07-28T10:38:16.460122",
     "status": "completed"
    },
    "tags": []
   },
   "outputs": [],
   "source": [
    "from fairness_multiverse.conformal import evaluate_sets\n",
    "\n",
    "# Evaluate coverage and average set size on test data\n",
    "metrics = evaluate_sets(pred_sets, y_true)"
   ]
  },
  {
   "cell_type": "markdown",
   "id": "2b569c12-9aaa-4c88-98c9-bbcd0cf3ebb8",
   "metadata": {
    "papermill": {
     "duration": 0.012526,
     "end_time": "2025-07-28T10:38:17.369001",
     "exception": false,
     "start_time": "2025-07-28T10:38:17.356475",
     "status": "completed"
    },
    "tags": []
   },
   "source": [
    "# CP Metrics"
   ]
  },
  {
   "cell_type": "code",
   "execution_count": 49,
   "id": "5ce0a5cb-201f-45a0-ade5-94c7f0bd6095",
   "metadata": {
    "execution": {
     "iopub.execute_input": "2025-07-28T10:38:17.395022Z",
     "iopub.status.busy": "2025-07-28T10:38:17.394609Z",
     "iopub.status.idle": "2025-07-28T10:38:17.401438Z",
     "shell.execute_reply": "2025-07-28T10:38:17.400668Z"
    },
    "papermill": {
     "duration": 0.021775,
     "end_time": "2025-07-28T10:38:17.402842",
     "exception": false,
     "start_time": "2025-07-28T10:38:17.381067",
     "status": "completed"
    },
    "tags": []
   },
   "outputs": [
    {
     "data": {
      "text/plain": [
       "{'coverage': 0.9120387916620221, 'avg_size': 1.1486456359380226}"
      ]
     },
     "execution_count": 49,
     "metadata": {},
     "output_type": "execute_result"
    }
   ],
   "source": [
    "metrics"
   ]
  },
  {
   "cell_type": "code",
   "execution_count": 50,
   "id": "9b9a838d-31c9-430b-ae14-12baee460d17",
   "metadata": {
    "execution": {
     "iopub.execute_input": "2025-07-28T10:38:17.430980Z",
     "iopub.status.busy": "2025-07-28T10:38:17.430451Z",
     "iopub.status.idle": "2025-07-28T10:38:17.435987Z",
     "shell.execute_reply": "2025-07-28T10:38:17.435188Z"
    },
    "papermill": {
     "duration": 0.021009,
     "end_time": "2025-07-28T10:38:17.437442",
     "exception": false,
     "start_time": "2025-07-28T10:38:17.416433",
     "status": "completed"
    },
    "tags": []
   },
   "outputs": [],
   "source": [
    "example_universe = universe.copy()\n",
    "universe_training_size = example_universe.get(\"training_size\")\n",
    "universe_scale = example_universe.get(\"scale\")\n",
    "universe_model = example_universe.get(\"model\")\n",
    "universe_exclude_features = example_universe.get(\"exclude_features\")\n",
    "universe_exclude_subgroups = example_universe.get(\"exclude_subgroups\")"
   ]
  },
  {
   "cell_type": "code",
   "execution_count": 51,
   "id": "f4b6a8ac-9dc0-4245-8a91-5b3b5999c4f9",
   "metadata": {
    "execution": {
     "iopub.execute_input": "2025-07-28T10:38:17.466215Z",
     "iopub.status.busy": "2025-07-28T10:38:17.465896Z",
     "iopub.status.idle": "2025-07-28T10:38:17.471094Z",
     "shell.execute_reply": "2025-07-28T10:38:17.470131Z"
    },
    "papermill": {
     "duration": 0.021018,
     "end_time": "2025-07-28T10:38:17.472554",
     "exception": false,
     "start_time": "2025-07-28T10:38:17.451536",
     "status": "completed"
    },
    "tags": []
   },
   "outputs": [],
   "source": [
    "cp_metrics_dict = {\n",
    "    \"universe_id\": [universe_id],\n",
    "    \"universe_training_size\": [universe_training_size],\n",
    "    \"universe_scale\": [universe_scale],\n",
    "    \"universe_model\": [universe_model],\n",
    "    \"universe_exclude_features\": [universe_exclude_features],\n",
    "    \"universe_exclude_subgroups\": [universe_exclude_subgroups],\n",
    "    \"q_hat\": [q_hat],\n",
    "    \"coverage\": [metrics[\"coverage\"]],\n",
    "    \"avg_size\": [metrics[\"avg_size\"]],\n",
    "}"
   ]
  },
  {
   "cell_type": "code",
   "execution_count": 52,
   "id": "908acbb1-0371-4915-85ca-3fa520d2efe2",
   "metadata": {
    "execution": {
     "iopub.execute_input": "2025-07-28T10:38:17.500537Z",
     "iopub.status.busy": "2025-07-28T10:38:17.499746Z",
     "iopub.status.idle": "2025-07-28T10:38:17.508149Z",
     "shell.execute_reply": "2025-07-28T10:38:17.506989Z"
    },
    "papermill": {
     "duration": 0.023551,
     "end_time": "2025-07-28T10:38:17.509865",
     "exception": false,
     "start_time": "2025-07-28T10:38:17.486314",
     "status": "completed"
    },
    "tags": []
   },
   "outputs": [
    {
     "data": {
      "text/plain": [
       "{'universe_id': ['f4aff52411b8923fa618027050bc8d5f'],\n",
       " 'universe_training_size': ['5k'],\n",
       " 'universe_scale': ['do-not-scale'],\n",
       " 'universe_model': ['rf'],\n",
       " 'universe_exclude_features': ['age'],\n",
       " 'universe_exclude_subgroups': ['drop-non-german'],\n",
       " 'q_hat': [0.6699999999999999],\n",
       " 'coverage': [0.9120387916620221],\n",
       " 'avg_size': [1.1486456359380226]}"
      ]
     },
     "execution_count": 52,
     "metadata": {},
     "output_type": "execute_result"
    }
   ],
   "source": [
    "cp_metrics_dict"
   ]
  },
  {
   "cell_type": "code",
   "execution_count": 53,
   "id": "33007efc-14e9-4ec6-97ac-56a455c82265",
   "metadata": {
    "execution": {
     "iopub.execute_input": "2025-07-28T10:38:17.562759Z",
     "iopub.status.busy": "2025-07-28T10:38:17.561744Z",
     "iopub.status.idle": "2025-07-28T10:38:17.568972Z",
     "shell.execute_reply": "2025-07-28T10:38:17.567889Z"
    },
    "papermill": {
     "duration": 0.03541,
     "end_time": "2025-07-28T10:38:17.570706",
     "exception": false,
     "start_time": "2025-07-28T10:38:17.535296",
     "status": "completed"
    },
    "tags": []
   },
   "outputs": [],
   "source": [
    "cp_metrics_df = pd.DataFrame(cp_metrics_dict)"
   ]
  },
  {
   "cell_type": "code",
   "execution_count": 54,
   "id": "db12611b-57b2-4910-b9d0-355adfd6e7bf",
   "metadata": {
    "execution": {
     "iopub.execute_input": "2025-07-28T10:38:17.625243Z",
     "iopub.status.busy": "2025-07-28T10:38:17.624550Z",
     "iopub.status.idle": "2025-07-28T10:38:17.643500Z",
     "shell.execute_reply": "2025-07-28T10:38:17.642473Z"
    },
    "papermill": {
     "duration": 0.048047,
     "end_time": "2025-07-28T10:38:17.645390",
     "exception": false,
     "start_time": "2025-07-28T10:38:17.597343",
     "status": "completed"
    },
    "tags": []
   },
   "outputs": [
    {
     "data": {
      "text/html": [
       "<div>\n",
       "<style scoped>\n",
       "    .dataframe tbody tr th:only-of-type {\n",
       "        vertical-align: middle;\n",
       "    }\n",
       "\n",
       "    .dataframe tbody tr th {\n",
       "        vertical-align: top;\n",
       "    }\n",
       "\n",
       "    .dataframe thead th {\n",
       "        text-align: right;\n",
       "    }\n",
       "</style>\n",
       "<table border=\"1\" class=\"dataframe\">\n",
       "  <thead>\n",
       "    <tr style=\"text-align: right;\">\n",
       "      <th></th>\n",
       "      <th>universe_id</th>\n",
       "      <th>universe_training_size</th>\n",
       "      <th>universe_scale</th>\n",
       "      <th>universe_model</th>\n",
       "      <th>universe_exclude_features</th>\n",
       "      <th>universe_exclude_subgroups</th>\n",
       "      <th>q_hat</th>\n",
       "      <th>coverage</th>\n",
       "      <th>avg_size</th>\n",
       "    </tr>\n",
       "  </thead>\n",
       "  <tbody>\n",
       "    <tr>\n",
       "      <th>0</th>\n",
       "      <td>f4aff52411b8923fa618027050bc8d5f</td>\n",
       "      <td>5k</td>\n",
       "      <td>do-not-scale</td>\n",
       "      <td>rf</td>\n",
       "      <td>age</td>\n",
       "      <td>drop-non-german</td>\n",
       "      <td>0.67</td>\n",
       "      <td>0.912039</td>\n",
       "      <td>1.148646</td>\n",
       "    </tr>\n",
       "  </tbody>\n",
       "</table>\n",
       "</div>"
      ],
      "text/plain": [
       "                        universe_id universe_training_size universe_scale  \\\n",
       "0  f4aff52411b8923fa618027050bc8d5f                     5k   do-not-scale   \n",
       "\n",
       "  universe_model universe_exclude_features universe_exclude_subgroups  q_hat  \\\n",
       "0             rf                       age            drop-non-german   0.67   \n",
       "\n",
       "   coverage  avg_size  \n",
       "0  0.912039  1.148646  "
      ]
     },
     "execution_count": 54,
     "metadata": {},
     "output_type": "execute_result"
    }
   ],
   "source": [
    "cp_metrics_df"
   ]
  },
  {
   "cell_type": "code",
   "execution_count": 55,
   "id": "b7fbde55-a0a1-47e4-9af6-fe4a17fa8c61",
   "metadata": {
    "execution": {
     "iopub.execute_input": "2025-07-28T10:38:17.700248Z",
     "iopub.status.busy": "2025-07-28T10:38:17.699209Z",
     "iopub.status.idle": "2025-07-28T10:38:17.705017Z",
     "shell.execute_reply": "2025-07-28T10:38:17.703900Z"
    },
    "papermill": {
     "duration": 0.034414,
     "end_time": "2025-07-28T10:38:17.706789",
     "exception": false,
     "start_time": "2025-07-28T10:38:17.672375",
     "status": "completed"
    },
    "tags": []
   },
   "outputs": [],
   "source": [
    "# Conditional Coverage & looking at subgroups"
   ]
  },
  {
   "cell_type": "code",
   "execution_count": 56,
   "id": "027ae886-68dd-4141-96c7-805a5450e1ef",
   "metadata": {
    "execution": {
     "iopub.execute_input": "2025-07-28T10:38:17.745318Z",
     "iopub.status.busy": "2025-07-28T10:38:17.744967Z",
     "iopub.status.idle": "2025-07-28T10:38:17.936666Z",
     "shell.execute_reply": "2025-07-28T10:38:17.935866Z"
    },
    "papermill": {
     "duration": 0.207834,
     "end_time": "2025-07-28T10:38:17.938720",
     "exception": false,
     "start_time": "2025-07-28T10:38:17.730886",
     "status": "completed"
    },
    "tags": []
   },
   "outputs": [],
   "source": [
    "from fairness_multiverse.conformal import build_cp_groups\n",
    "\n",
    "cp_groups_df = build_cp_groups(pred_sets, y_true, X_test.index, org_test)\n",
    "#needs universe_id and setting"
   ]
  },
  {
   "cell_type": "code",
   "execution_count": 57,
   "id": "01d5802c-663a-4d1f-9d69-e036faaffbf7",
   "metadata": {
    "execution": {
     "iopub.execute_input": "2025-07-28T10:38:17.991723Z",
     "iopub.status.busy": "2025-07-28T10:38:17.991089Z",
     "iopub.status.idle": "2025-07-28T10:38:17.996377Z",
     "shell.execute_reply": "2025-07-28T10:38:17.995261Z"
    },
    "papermill": {
     "duration": 0.033153,
     "end_time": "2025-07-28T10:38:17.998183",
     "exception": false,
     "start_time": "2025-07-28T10:38:17.965030",
     "status": "completed"
    },
    "tags": []
   },
   "outputs": [],
   "source": [
    "#delete\n",
    "#cp_groups_df"
   ]
  },
  {
   "cell_type": "code",
   "execution_count": 58,
   "id": "fa424af1-d1eb-443d-b717-2d279ada8408",
   "metadata": {
    "execution": {
     "iopub.execute_input": "2025-07-28T10:38:18.051934Z",
     "iopub.status.busy": "2025-07-28T10:38:18.050937Z",
     "iopub.status.idle": "2025-07-28T10:38:18.056573Z",
     "shell.execute_reply": "2025-07-28T10:38:18.055450Z"
    },
    "papermill": {
     "duration": 0.033639,
     "end_time": "2025-07-28T10:38:18.058269",
     "exception": false,
     "start_time": "2025-07-28T10:38:18.024630",
     "status": "completed"
    },
    "tags": []
   },
   "outputs": [],
   "source": [
    "#delete\n",
    "#percentage = (cp_groups_df['nongerman_female'] == 1).mean() * 100\n",
    "#print(percentage)\n"
   ]
  },
  {
   "cell_type": "code",
   "execution_count": 59,
   "id": "6cbdab96-b2b2-45af-ad54-d0516db2e28d",
   "metadata": {
    "execution": {
     "iopub.execute_input": "2025-07-28T10:38:18.112893Z",
     "iopub.status.busy": "2025-07-28T10:38:18.111900Z",
     "iopub.status.idle": "2025-07-28T10:38:19.480655Z",
     "shell.execute_reply": "2025-07-28T10:38:19.479408Z"
    },
    "papermill": {
     "duration": 1.398328,
     "end_time": "2025-07-28T10:38:19.483340",
     "exception": false,
     "start_time": "2025-07-28T10:38:18.085012",
     "status": "completed"
    },
    "tags": []
   },
   "outputs": [],
   "source": [
    "# Define covered = 1 if true_label is in the predicted set\n",
    "cp_groups_df['covered'] = cp_groups_df.apply(\n",
    "    lambda r: int(r['true_label'] in r['pred_set']),\n",
    "    axis=1\n",
    ")"
   ]
  },
  {
   "cell_type": "code",
   "execution_count": 60,
   "id": "338ff529-1a6b-4b87-a931-8e4788d52aad",
   "metadata": {
    "execution": {
     "iopub.execute_input": "2025-07-28T10:38:19.560807Z",
     "iopub.status.busy": "2025-07-28T10:38:19.559943Z",
     "iopub.status.idle": "2025-07-28T10:38:19.566000Z",
     "shell.execute_reply": "2025-07-28T10:38:19.564786Z"
    },
    "papermill": {
     "duration": 0.047761,
     "end_time": "2025-07-28T10:38:19.568428",
     "exception": false,
     "start_time": "2025-07-28T10:38:19.520667",
     "status": "completed"
    },
    "tags": []
   },
   "outputs": [],
   "source": [
    "#cp_groups_df"
   ]
  },
  {
   "cell_type": "code",
   "execution_count": 61,
   "id": "90032e27-66df-4540-9169-4e89cfbaa758",
   "metadata": {
    "execution": {
     "iopub.execute_input": "2025-07-28T10:38:19.641260Z",
     "iopub.status.busy": "2025-07-28T10:38:19.640481Z",
     "iopub.status.idle": "2025-07-28T10:38:19.657462Z",
     "shell.execute_reply": "2025-07-28T10:38:19.656175Z"
    },
    "papermill": {
     "duration": 0.057973,
     "end_time": "2025-07-28T10:38:19.659601",
     "exception": false,
     "start_time": "2025-07-28T10:38:19.601628",
     "status": "completed"
    },
    "tags": []
   },
   "outputs": [],
   "source": [
    "subgroups = ['frau1','nongerman','nongerman_male','nongerman_female']\n",
    "\n",
    "# Conditional coverage for subgroup==1\n",
    "cond_coverage = {\n",
    "    g: cp_groups_df.loc[cp_groups_df[g]==1, 'covered'].mean()\n",
    "    for g in subgroups\n",
    "}"
   ]
  },
  {
   "cell_type": "code",
   "execution_count": 62,
   "id": "1e348fb1-b9c3-45bc-ba23-f016827a7e0d",
   "metadata": {
    "execution": {
     "iopub.execute_input": "2025-07-28T10:38:19.711847Z",
     "iopub.status.busy": "2025-07-28T10:38:19.710790Z",
     "iopub.status.idle": "2025-07-28T10:38:19.721191Z",
     "shell.execute_reply": "2025-07-28T10:38:19.719999Z"
    },
    "papermill": {
     "duration": 0.037986,
     "end_time": "2025-07-28T10:38:19.723153",
     "exception": false,
     "start_time": "2025-07-28T10:38:19.685167",
     "status": "completed"
    },
    "tags": []
   },
   "outputs": [
    {
     "data": {
      "text/plain": [
       "{'frau1': 0.9128993125758188,\n",
       " 'nongerman': 0.8954134620782574,\n",
       " 'nongerman_male': 0.9034495181482483,\n",
       " 'nongerman_female': 0.8821162444113264}"
      ]
     },
     "execution_count": 62,
     "metadata": {},
     "output_type": "execute_result"
    }
   ],
   "source": [
    "cond_coverage"
   ]
  },
  {
   "cell_type": "code",
   "execution_count": 63,
   "id": "f5093324-c3dd-4d63-bc4c-8d945e5c8bbb",
   "metadata": {
    "execution": {
     "iopub.execute_input": "2025-07-28T10:38:19.778623Z",
     "iopub.status.busy": "2025-07-28T10:38:19.777568Z",
     "iopub.status.idle": "2025-07-28T10:38:19.787653Z",
     "shell.execute_reply": "2025-07-28T10:38:19.786637Z"
    },
    "papermill": {
     "duration": 0.048073,
     "end_time": "2025-07-28T10:38:19.797029",
     "exception": false,
     "start_time": "2025-07-28T10:38:19.748956",
     "status": "completed"
    },
    "tags": []
   },
   "outputs": [],
   "source": [
    "for subgroup, cov in cond_coverage.items():\n",
    "    cp_metrics_df[f\"cov_{subgroup}\"] = cov"
   ]
  },
  {
   "cell_type": "code",
   "execution_count": 64,
   "id": "6e872e10-dbe5-49e8-b554-5030c98ff75d",
   "metadata": {
    "execution": {
     "iopub.execute_input": "2025-07-28T10:38:19.827192Z",
     "iopub.status.busy": "2025-07-28T10:38:19.826639Z",
     "iopub.status.idle": "2025-07-28T10:38:19.841798Z",
     "shell.execute_reply": "2025-07-28T10:38:19.841026Z"
    },
    "papermill": {
     "duration": 0.03167,
     "end_time": "2025-07-28T10:38:19.843264",
     "exception": false,
     "start_time": "2025-07-28T10:38:19.811594",
     "status": "completed"
    },
    "tags": []
   },
   "outputs": [
    {
     "data": {
      "text/html": [
       "<div>\n",
       "<style scoped>\n",
       "    .dataframe tbody tr th:only-of-type {\n",
       "        vertical-align: middle;\n",
       "    }\n",
       "\n",
       "    .dataframe tbody tr th {\n",
       "        vertical-align: top;\n",
       "    }\n",
       "\n",
       "    .dataframe thead th {\n",
       "        text-align: right;\n",
       "    }\n",
       "</style>\n",
       "<table border=\"1\" class=\"dataframe\">\n",
       "  <thead>\n",
       "    <tr style=\"text-align: right;\">\n",
       "      <th></th>\n",
       "      <th>universe_id</th>\n",
       "      <th>universe_training_size</th>\n",
       "      <th>universe_scale</th>\n",
       "      <th>universe_model</th>\n",
       "      <th>universe_exclude_features</th>\n",
       "      <th>universe_exclude_subgroups</th>\n",
       "      <th>q_hat</th>\n",
       "      <th>coverage</th>\n",
       "      <th>avg_size</th>\n",
       "      <th>cov_frau1</th>\n",
       "      <th>cov_nongerman</th>\n",
       "      <th>cov_nongerman_male</th>\n",
       "      <th>cov_nongerman_female</th>\n",
       "    </tr>\n",
       "  </thead>\n",
       "  <tbody>\n",
       "    <tr>\n",
       "      <th>0</th>\n",
       "      <td>f4aff52411b8923fa618027050bc8d5f</td>\n",
       "      <td>5k</td>\n",
       "      <td>do-not-scale</td>\n",
       "      <td>rf</td>\n",
       "      <td>age</td>\n",
       "      <td>drop-non-german</td>\n",
       "      <td>0.67</td>\n",
       "      <td>0.912039</td>\n",
       "      <td>1.148646</td>\n",
       "      <td>0.912899</td>\n",
       "      <td>0.895413</td>\n",
       "      <td>0.90345</td>\n",
       "      <td>0.882116</td>\n",
       "    </tr>\n",
       "  </tbody>\n",
       "</table>\n",
       "</div>"
      ],
      "text/plain": [
       "                        universe_id universe_training_size universe_scale  \\\n",
       "0  f4aff52411b8923fa618027050bc8d5f                     5k   do-not-scale   \n",
       "\n",
       "  universe_model universe_exclude_features universe_exclude_subgroups  q_hat  \\\n",
       "0             rf                       age            drop-non-german   0.67   \n",
       "\n",
       "   coverage  avg_size  cov_frau1  cov_nongerman  cov_nongerman_male  \\\n",
       "0  0.912039  1.148646   0.912899       0.895413             0.90345   \n",
       "\n",
       "   cov_nongerman_female  \n",
       "0              0.882116  "
      ]
     },
     "execution_count": 64,
     "metadata": {},
     "output_type": "execute_result"
    }
   ],
   "source": [
    "cp_metrics_df"
   ]
  },
  {
   "cell_type": "markdown",
   "id": "33774451",
   "metadata": {
    "papermill": {
     "duration": 0.036537,
     "end_time": "2025-07-28T10:38:19.895589",
     "exception": false,
     "start_time": "2025-07-28T10:38:19.859052",
     "status": "completed"
    },
    "tags": []
   },
   "source": [
    "# (Fairness) Metrics"
   ]
  },
  {
   "cell_type": "code",
   "execution_count": 65,
   "id": "debc5d62",
   "metadata": {
    "execution": {
     "iopub.execute_input": "2025-07-28T10:38:19.963960Z",
     "iopub.status.busy": "2025-07-28T10:38:19.963313Z",
     "iopub.status.idle": "2025-07-28T10:38:19.988449Z",
     "shell.execute_reply": "2025-07-28T10:38:19.987135Z"
    },
    "papermill": {
     "duration": 0.05684,
     "end_time": "2025-07-28T10:38:19.991090",
     "exception": false,
     "start_time": "2025-07-28T10:38:19.934250",
     "status": "completed"
    },
    "tags": []
   },
   "outputs": [],
   "source": [
    "# do I need to include maxdeutsch1.missing?\n",
    "\n",
    "import numpy as np\n",
    "\n",
    "colname_to_bin = \"maxdeutsch1\"\n",
    "majority_value = org_train[colname_to_bin].mode()[0]\n",
    "\n",
    "org_test[\"majmin\"] = np.where(org_test[colname_to_bin] == majority_value, \"majority\", \"minority\")"
   ]
  },
  {
   "cell_type": "code",
   "execution_count": 66,
   "id": "06a50de5",
   "metadata": {
    "execution": {
     "iopub.execute_input": "2025-07-28T10:38:20.053198Z",
     "iopub.status.busy": "2025-07-28T10:38:20.052515Z",
     "iopub.status.idle": "2025-07-28T10:38:22.578070Z",
     "shell.execute_reply": "2025-07-28T10:38:22.577030Z"
    },
    "papermill": {
     "duration": 2.5586,
     "end_time": "2025-07-28T10:38:22.580953",
     "exception": false,
     "start_time": "2025-07-28T10:38:20.022353",
     "status": "completed"
    },
    "tags": []
   },
   "outputs": [],
   "source": [
    "example_universe = universe.copy()\n",
    "example_universe[\"cutoff\"] = example_universe[\"cutoff\"][0]\n",
    "example_universe[\"eval_fairness_grouping\"] = example_universe[\"eval_fairness_grouping\"][0]\n",
    "fairness_dict, metric_frame = universe_analysis.compute_metrics(\n",
    "    example_universe,\n",
    "    y_pred_prob=probs_test,\n",
    "    y_test=y_true,\n",
    "    org_test=org_test,\n",
    ")"
   ]
  },
  {
   "cell_type": "markdown",
   "id": "f95d4e02",
   "metadata": {
    "papermill": {
     "duration": 0.014771,
     "end_time": "2025-07-28T10:38:22.625140",
     "exception": false,
     "start_time": "2025-07-28T10:38:22.610369",
     "status": "completed"
    },
    "tags": []
   },
   "source": [
    "# Overall"
   ]
  },
  {
   "cell_type": "markdown",
   "id": "bdee4871",
   "metadata": {
    "papermill": {
     "duration": 0.015443,
     "end_time": "2025-07-28T10:38:22.660410",
     "exception": false,
     "start_time": "2025-07-28T10:38:22.644967",
     "status": "completed"
    },
    "tags": []
   },
   "source": [
    "Fairness\n",
    "Main fairness target: Equalized Odds. Seems to be a better fit than equal opportunity, since we're not only interested in Y = 1. Seems to be a better fit than demographic parity, since we also care about accuracy, not just equal distribution of preds.\n",
    "\n",
    "Pick column for computation of fairness metrics\n",
    "\n",
    "Performance\n",
    "Overall performance measures, most interesting in relation to the measures split by group below"
   ]
  },
  {
   "cell_type": "code",
   "execution_count": 67,
   "id": "c4e067c6",
   "metadata": {
    "execution": {
     "iopub.execute_input": "2025-07-28T10:38:22.702039Z",
     "iopub.status.busy": "2025-07-28T10:38:22.701018Z",
     "iopub.status.idle": "2025-07-28T10:38:22.710726Z",
     "shell.execute_reply": "2025-07-28T10:38:22.709605Z"
    },
    "papermill": {
     "duration": 0.037546,
     "end_time": "2025-07-28T10:38:22.712554",
     "exception": false,
     "start_time": "2025-07-28T10:38:22.675008",
     "status": "completed"
    },
    "tags": []
   },
   "outputs": [
    {
     "data": {
      "text/plain": [
       "accuracy                   0.192966\n",
       "balanced accuracy          0.527765\n",
       "f1                         0.237191\n",
       "precision                  0.134959\n",
       "false positive rate        0.922572\n",
       "false negative rate        0.021898\n",
       "selection rate             0.929696\n",
       "count                  89710.000000\n",
       "dtype: float64"
      ]
     },
     "execution_count": 67,
     "metadata": {},
     "output_type": "execute_result"
    }
   ],
   "source": [
    "metric_frame.overall"
   ]
  },
  {
   "cell_type": "markdown",
   "id": "e968fe9d",
   "metadata": {
    "papermill": {
     "duration": 0.015942,
     "end_time": "2025-07-28T10:38:22.751939",
     "exception": false,
     "start_time": "2025-07-28T10:38:22.735997",
     "status": "completed"
    },
    "tags": []
   },
   "source": [
    "By Group"
   ]
  },
  {
   "cell_type": "code",
   "execution_count": 68,
   "id": "ec325bce",
   "metadata": {
    "execution": {
     "iopub.execute_input": "2025-07-28T10:38:22.800735Z",
     "iopub.status.busy": "2025-07-28T10:38:22.799938Z",
     "iopub.status.idle": "2025-07-28T10:38:22.819137Z",
     "shell.execute_reply": "2025-07-28T10:38:22.817519Z"
    },
    "papermill": {
     "duration": 0.047916,
     "end_time": "2025-07-28T10:38:22.821000",
     "exception": false,
     "start_time": "2025-07-28T10:38:22.773084",
     "status": "completed"
    },
    "tags": []
   },
   "outputs": [
    {
     "data": {
      "text/html": [
       "<div>\n",
       "<style scoped>\n",
       "    .dataframe tbody tr th:only-of-type {\n",
       "        vertical-align: middle;\n",
       "    }\n",
       "\n",
       "    .dataframe tbody tr th {\n",
       "        vertical-align: top;\n",
       "    }\n",
       "\n",
       "    .dataframe thead th {\n",
       "        text-align: right;\n",
       "    }\n",
       "</style>\n",
       "<table border=\"1\" class=\"dataframe\">\n",
       "  <thead>\n",
       "    <tr style=\"text-align: right;\">\n",
       "      <th></th>\n",
       "      <th>accuracy</th>\n",
       "      <th>balanced accuracy</th>\n",
       "      <th>f1</th>\n",
       "      <th>precision</th>\n",
       "      <th>false positive rate</th>\n",
       "      <th>false negative rate</th>\n",
       "      <th>selection rate</th>\n",
       "      <th>count</th>\n",
       "    </tr>\n",
       "    <tr>\n",
       "      <th>majmin</th>\n",
       "      <th></th>\n",
       "      <th></th>\n",
       "      <th></th>\n",
       "      <th></th>\n",
       "      <th></th>\n",
       "      <th></th>\n",
       "      <th></th>\n",
       "      <th></th>\n",
       "    </tr>\n",
       "  </thead>\n",
       "  <tbody>\n",
       "    <tr>\n",
       "      <th>majority</th>\n",
       "      <td>0.189316</td>\n",
       "      <td>0.528954</td>\n",
       "      <td>0.244099</td>\n",
       "      <td>0.139200</td>\n",
       "      <td>0.932684</td>\n",
       "      <td>0.009409</td>\n",
       "      <td>0.940335</td>\n",
       "      <td>69170.0</td>\n",
       "    </tr>\n",
       "    <tr>\n",
       "      <th>minority</th>\n",
       "      <td>0.205258</td>\n",
       "      <td>0.520364</td>\n",
       "      <td>0.212466</td>\n",
       "      <td>0.119935</td>\n",
       "      <td>0.889170</td>\n",
       "      <td>0.070101</td>\n",
       "      <td>0.893866</td>\n",
       "      <td>20540.0</td>\n",
       "    </tr>\n",
       "  </tbody>\n",
       "</table>\n",
       "</div>"
      ],
      "text/plain": [
       "          accuracy  balanced accuracy        f1  precision  \\\n",
       "majmin                                                       \n",
       "majority  0.189316           0.528954  0.244099   0.139200   \n",
       "minority  0.205258           0.520364  0.212466   0.119935   \n",
       "\n",
       "          false positive rate  false negative rate  selection rate    count  \n",
       "majmin                                                                       \n",
       "majority             0.932684             0.009409        0.940335  69170.0  \n",
       "minority             0.889170             0.070101        0.893866  20540.0  "
      ]
     },
     "execution_count": 68,
     "metadata": {},
     "output_type": "execute_result"
    }
   ],
   "source": [
    "metric_frame.by_group"
   ]
  },
  {
   "cell_type": "code",
   "execution_count": 69,
   "id": "a9ddbe63",
   "metadata": {
    "execution": {
     "iopub.execute_input": "2025-07-28T10:38:22.879659Z",
     "iopub.status.busy": "2025-07-28T10:38:22.878984Z",
     "iopub.status.idle": "2025-07-28T10:38:25.368568Z",
     "shell.execute_reply": "2025-07-28T10:38:25.367621Z"
    },
    "papermill": {
     "duration": 2.521143,
     "end_time": "2025-07-28T10:38:25.370420",
     "exception": false,
     "start_time": "2025-07-28T10:38:22.849277",
     "status": "completed"
    },
    "tags": []
   },
   "outputs": [
    {
     "data": {
      "text/plain": [
       "array([[<Axes: title={'center': 'accuracy'}, xlabel='majmin'>,\n",
       "        <Axes: title={'center': 'balanced accuracy'}, xlabel='majmin'>,\n",
       "        <Axes: title={'center': 'f1'}, xlabel='majmin'>],\n",
       "       [<Axes: title={'center': 'precision'}, xlabel='majmin'>,\n",
       "        <Axes: title={'center': 'false positive rate'}, xlabel='majmin'>,\n",
       "        <Axes: title={'center': 'false negative rate'}, xlabel='majmin'>],\n",
       "       [<Axes: title={'center': 'selection rate'}, xlabel='majmin'>,\n",
       "        <Axes: title={'center': 'count'}, xlabel='majmin'>,\n",
       "        <Axes: xlabel='majmin'>]], dtype=object)"
      ]
     },
     "execution_count": 69,
     "metadata": {},
     "output_type": "execute_result"
    },
    {
     "data": {
      "image/png": "[encoded data removed]",
      "text/plain": [
       "<Figure size 1200x800 with 9 Axes>"
      ]
     },
     "metadata": {},
     "output_type": "display_data"
    }
   ],
   "source": [
    "# In a graphic\n",
    "metric_frame.by_group.plot.bar(\n",
    "    subplots=True,\n",
    "    layout=[3, 3],\n",
    "    legend=False,\n",
    "    figsize=[12, 8],\n",
    "    title=\"Show all metrics\",\n",
    ")"
   ]
  },
  {
   "cell_type": "markdown",
   "id": "f57a0bac",
   "metadata": {
    "papermill": {
     "duration": 0.027953,
     "end_time": "2025-07-28T10:38:25.427532",
     "exception": false,
     "start_time": "2025-07-28T10:38:25.399579",
     "status": "completed"
    },
    "tags": []
   },
   "source": [
    "# Final Output"
   ]
  },
  {
   "cell_type": "code",
   "execution_count": 70,
   "id": "96d280a3",
   "metadata": {
    "execution": {
     "iopub.execute_input": "2025-07-28T10:38:25.486140Z",
     "iopub.status.busy": "2025-07-28T10:38:25.485059Z",
     "iopub.status.idle": "2025-07-28T10:38:25.494023Z",
     "shell.execute_reply": "2025-07-28T10:38:25.493085Z"
    },
    "papermill": {
     "duration": 0.039822,
     "end_time": "2025-07-28T10:38:25.495621",
     "exception": false,
     "start_time": "2025-07-28T10:38:25.455799",
     "status": "completed"
    },
    "tags": []
   },
   "outputs": [
    {
     "data": {
      "text/plain": [
       "4"
      ]
     },
     "execution_count": 70,
     "metadata": {},
     "output_type": "execute_result"
    }
   ],
   "source": [
    "sub_universes = universe_analysis.generate_sub_universes()\n",
    "len(sub_universes)"
   ]
  },
  {
   "cell_type": "code",
   "execution_count": 71,
   "id": "92adf7ba",
   "metadata": {
    "execution": {
     "iopub.execute_input": "2025-07-28T10:38:25.554337Z",
     "iopub.status.busy": "2025-07-28T10:38:25.553484Z",
     "iopub.status.idle": "2025-07-28T10:38:25.559757Z",
     "shell.execute_reply": "2025-07-28T10:38:25.558763Z"
    },
    "papermill": {
     "duration": 0.037368,
     "end_time": "2025-07-28T10:38:25.561314",
     "exception": false,
     "start_time": "2025-07-28T10:38:25.523946",
     "status": "completed"
    },
    "tags": []
   },
   "outputs": [],
   "source": [
    "def filter_sub_universe_data(sub_universe, org_test):\n",
    "    # Keep all rows — no filtering\n",
    "    keep_rows_mask = np.ones(org_test.shape[0], dtype=bool)\n",
    "\n",
    "    print(f\"[INFO] Keeping all rows: {keep_rows_mask.sum()} rows retained.\")\n",
    "    return keep_rows_mask"
   ]
  },
  {
   "cell_type": "code",
   "execution_count": 72,
   "id": "4a759155",
   "metadata": {
    "execution": {
     "iopub.execute_input": "2025-07-28T10:38:25.620446Z",
     "iopub.status.busy": "2025-07-28T10:38:25.619526Z",
     "iopub.status.idle": "2025-07-28T10:38:35.499832Z",
     "shell.execute_reply": "2025-07-28T10:38:35.498614Z"
    },
    "papermill": {
     "duration": 9.911505,
     "end_time": "2025-07-28T10:38:35.501583",
     "exception": false,
     "start_time": "2025-07-28T10:38:25.590078",
     "status": "completed"
    },
    "tags": []
   },
   "outputs": [
    {
     "name": "stdout",
     "output_type": "stream",
     "text": [
      "Stopping execution_time clock.\n",
      "[INFO] Keeping all rows: 89710 rows retained.\n"
     ]
    },
    {
     "name": "stdout",
     "output_type": "stream",
     "text": [
      "[INFO] Keeping all rows: 89710 rows retained.\n"
     ]
    },
    {
     "name": "stdout",
     "output_type": "stream",
     "text": [
      "[INFO] Keeping all rows: 89710 rows retained.\n"
     ]
    },
    {
     "name": "stdout",
     "output_type": "stream",
     "text": [
      "[INFO] Keeping all rows: 89710 rows retained.\n"
     ]
    },
    {
     "data": {
      "text/html": [
       "<div>\n",
       "<style scoped>\n",
       "    .dataframe tbody tr th:only-of-type {\n",
       "        vertical-align: middle;\n",
       "    }\n",
       "\n",
       "    .dataframe tbody tr th {\n",
       "        vertical-align: top;\n",
       "    }\n",
       "\n",
       "    .dataframe thead th {\n",
       "        text-align: right;\n",
       "    }\n",
       "</style>\n",
       "<table border=\"1\" class=\"dataframe\">\n",
       "  <thead>\n",
       "    <tr style=\"text-align: right;\">\n",
       "      <th></th>\n",
       "      <th>run_no</th>\n",
       "      <th>universe_id</th>\n",
       "      <th>universe_settings</th>\n",
       "      <th>execution_time</th>\n",
       "      <th>test_size_n</th>\n",
       "      <th>test_size_frac</th>\n",
       "      <th>fair_main_equalized_odds_difference</th>\n",
       "      <th>fair_main_equalized_odds_ratio</th>\n",
       "      <th>fair_main_demographic_parity_difference</th>\n",
       "      <th>fair_main_demographic_parity_ratio</th>\n",
       "      <th>...</th>\n",
       "      <th>perf_grp_precision_0</th>\n",
       "      <th>perf_grp_precision_1</th>\n",
       "      <th>perf_grp_false positive rate_0</th>\n",
       "      <th>perf_grp_false positive rate_1</th>\n",
       "      <th>perf_grp_false negative rate_0</th>\n",
       "      <th>perf_grp_false negative rate_1</th>\n",
       "      <th>perf_grp_selection rate_0</th>\n",
       "      <th>perf_grp_selection rate_1</th>\n",
       "      <th>perf_grp_count_0</th>\n",
       "      <th>perf_grp_count_1</th>\n",
       "    </tr>\n",
       "  </thead>\n",
       "  <tbody>\n",
       "    <tr>\n",
       "      <th>0</th>\n",
       "      <td>11</td>\n",
       "      <td>f4aff52411b8923fa618027050bc8d5f</td>\n",
       "      <td>{\"cutoff\": \"quantile_0.1\", \"eval_fairness_grou...</td>\n",
       "      <td>31.122027</td>\n",
       "      <td>89710</td>\n",
       "      <td>1.0</td>\n",
       "      <td>0.060692</td>\n",
       "      <td>0.938731</td>\n",
       "      <td>0.046470</td>\n",
       "      <td>0.950582</td>\n",
       "      <td>...</td>\n",
       "      <td>NaN</td>\n",
       "      <td>NaN</td>\n",
       "      <td>NaN</td>\n",
       "      <td>NaN</td>\n",
       "      <td>NaN</td>\n",
       "      <td>NaN</td>\n",
       "      <td>NaN</td>\n",
       "      <td>NaN</td>\n",
       "      <td>NaN</td>\n",
       "      <td>NaN</td>\n",
       "    </tr>\n",
       "    <tr>\n",
       "      <th>0</th>\n",
       "      <td>11</td>\n",
       "      <td>f4aff52411b8923fa618027050bc8d5f</td>\n",
       "      <td>{\"cutoff\": \"quantile_0.1\", \"eval_fairness_grou...</td>\n",
       "      <td>31.122027</td>\n",
       "      <td>89710</td>\n",
       "      <td>1.0</td>\n",
       "      <td>0.060692</td>\n",
       "      <td>0.938731</td>\n",
       "      <td>0.046470</td>\n",
       "      <td>0.950582</td>\n",
       "      <td>...</td>\n",
       "      <td>0.119935</td>\n",
       "      <td>0.139200</td>\n",
       "      <td>0.889170</td>\n",
       "      <td>0.932684</td>\n",
       "      <td>0.070101</td>\n",
       "      <td>0.009409</td>\n",
       "      <td>0.893866</td>\n",
       "      <td>0.940335</td>\n",
       "      <td>20540.0</td>\n",
       "      <td>69170.0</td>\n",
       "    </tr>\n",
       "    <tr>\n",
       "      <th>0</th>\n",
       "      <td>11</td>\n",
       "      <td>f4aff52411b8923fa618027050bc8d5f</td>\n",
       "      <td>{\"cutoff\": \"quantile_0.25\", \"eval_fairness_gro...</td>\n",
       "      <td>31.122027</td>\n",
       "      <td>89710</td>\n",
       "      <td>1.0</td>\n",
       "      <td>0.125610</td>\n",
       "      <td>0.868355</td>\n",
       "      <td>0.065471</td>\n",
       "      <td>0.917830</td>\n",
       "      <td>...</td>\n",
       "      <td>NaN</td>\n",
       "      <td>NaN</td>\n",
       "      <td>NaN</td>\n",
       "      <td>NaN</td>\n",
       "      <td>NaN</td>\n",
       "      <td>NaN</td>\n",
       "      <td>NaN</td>\n",
       "      <td>NaN</td>\n",
       "      <td>NaN</td>\n",
       "      <td>NaN</td>\n",
       "    </tr>\n",
       "    <tr>\n",
       "      <th>0</th>\n",
       "      <td>11</td>\n",
       "      <td>f4aff52411b8923fa618027050bc8d5f</td>\n",
       "      <td>{\"cutoff\": \"quantile_0.25\", \"eval_fairness_gro...</td>\n",
       "      <td>31.122027</td>\n",
       "      <td>89710</td>\n",
       "      <td>1.0</td>\n",
       "      <td>0.125610</td>\n",
       "      <td>0.868355</td>\n",
       "      <td>0.065471</td>\n",
       "      <td>0.917830</td>\n",
       "      <td>...</td>\n",
       "      <td>0.130617</td>\n",
       "      <td>0.158239</td>\n",
       "      <td>0.718633</td>\n",
       "      <td>0.772814</td>\n",
       "      <td>0.171453</td>\n",
       "      <td>0.045842</td>\n",
       "      <td>0.731305</td>\n",
       "      <td>0.796776</td>\n",
       "      <td>20540.0</td>\n",
       "      <td>69170.0</td>\n",
       "    </tr>\n",
       "  </tbody>\n",
       "</table>\n",
       "<p>4 rows × 50 columns</p>\n",
       "</div>"
      ],
      "text/plain": [
       "  run_no                       universe_id  \\\n",
       "0     11  f4aff52411b8923fa618027050bc8d5f   \n",
       "0     11  f4aff52411b8923fa618027050bc8d5f   \n",
       "0     11  f4aff52411b8923fa618027050bc8d5f   \n",
       "0     11  f4aff52411b8923fa618027050bc8d5f   \n",
       "\n",
       "                                   universe_settings  execution_time  \\\n",
       "0  {\"cutoff\": \"quantile_0.1\", \"eval_fairness_grou...       31.122027   \n",
       "0  {\"cutoff\": \"quantile_0.1\", \"eval_fairness_grou...       31.122027   \n",
       "0  {\"cutoff\": \"quantile_0.25\", \"eval_fairness_gro...       31.122027   \n",
       "0  {\"cutoff\": \"quantile_0.25\", \"eval_fairness_gro...       31.122027   \n",
       "\n",
       "   test_size_n  test_size_frac  fair_main_equalized_odds_difference  \\\n",
       "0        89710             1.0                             0.060692   \n",
       "0        89710             1.0                             0.060692   \n",
       "0        89710             1.0                             0.125610   \n",
       "0        89710             1.0                             0.125610   \n",
       "\n",
       "   fair_main_equalized_odds_ratio  fair_main_demographic_parity_difference  \\\n",
       "0                        0.938731                                 0.046470   \n",
       "0                        0.938731                                 0.046470   \n",
       "0                        0.868355                                 0.065471   \n",
       "0                        0.868355                                 0.065471   \n",
       "\n",
       "   fair_main_demographic_parity_ratio  ...  perf_grp_precision_0  \\\n",
       "0                            0.950582  ...                   NaN   \n",
       "0                            0.950582  ...              0.119935   \n",
       "0                            0.917830  ...                   NaN   \n",
       "0                            0.917830  ...              0.130617   \n",
       "\n",
       "   perf_grp_precision_1  perf_grp_false positive rate_0  \\\n",
       "0                   NaN                             NaN   \n",
       "0              0.139200                        0.889170   \n",
       "0                   NaN                             NaN   \n",
       "0              0.158239                        0.718633   \n",
       "\n",
       "   perf_grp_false positive rate_1  perf_grp_false negative rate_0  \\\n",
       "0                             NaN                             NaN   \n",
       "0                        0.932684                        0.070101   \n",
       "0                             NaN                             NaN   \n",
       "0                        0.772814                        0.171453   \n",
       "\n",
       "   perf_grp_false negative rate_1  perf_grp_selection rate_0  \\\n",
       "0                             NaN                        NaN   \n",
       "0                        0.009409                   0.893866   \n",
       "0                             NaN                        NaN   \n",
       "0                        0.045842                   0.731305   \n",
       "\n",
       "   perf_grp_selection rate_1  perf_grp_count_0  perf_grp_count_1  \n",
       "0                        NaN               NaN               NaN  \n",
       "0                   0.940335           20540.0           69170.0  \n",
       "0                        NaN               NaN               NaN  \n",
       "0                   0.796776           20540.0           69170.0  \n",
       "\n",
       "[4 rows x 50 columns]"
      ]
     },
     "execution_count": 72,
     "metadata": {},
     "output_type": "execute_result"
    }
   ],
   "source": [
    "final_output = universe_analysis.generate_final_output(\n",
    "    y_pred_prob=probs_test,\n",
    "    y_test=y_true,\n",
    "    org_test=org_test,\n",
    "    filter_data=filter_sub_universe_data,\n",
    "    cp_metrics_df=cp_metrics_df,\n",
    "    save=True,\n",
    ")\n",
    "final_output"
   ]
  },
  {
   "cell_type": "code",
   "execution_count": null,
   "id": "721ff514-cb11-46f8-b6fc-50392f74b5cb",
   "metadata": {
    "papermill": {
     "duration": 0.029123,
     "end_time": "2025-07-28T10:38:35.561696",
     "exception": false,
     "start_time": "2025-07-28T10:38:35.532573",
     "status": "completed"
    },
    "tags": []
   },
   "outputs": [],
   "source": []
  }
 ],
 "metadata": {
  "celltoolbar": "Tags",
  "kernelspec": {
   "display_name": "Python (CMA Fairness)",
   "language": "python",
   "name": "cma_fair_env"
  },
  "language_info": {
   "codemirror_mode": {
    "name": "ipython",
    "version": 3
   },
   "file_extension": ".py",
   "mimetype": "text/x-python",
   "name": "python",
   "nbconvert_exporter": "python",
   "pygments_lexer": "ipython3",
   "version": "3.10.12"
  },
  "papermill": {
   "default_parameters": {},
   "duration": 46.515339,
   "end_time": "2025-07-28T10:38:36.709398",
   "environment_variables": {},
   "exception": null,
   "input_path": "universe_analysis.ipynb",
   "output_path": "output/runs/11/notebooks/m_11-f4aff52411b8923fa618027050bc8d5f.ipynb",
   "parameters": {
    "output_dir": "output",
    "run_no": "11",
    "seed": "2023",
    "universe": "{\"cutoff\": [\"quantile_0.1\", \"quantile_0.25\"], \"eval_fairness_grouping\": [\"majority-minority\", \"nationality-all\"], \"exclude_features\": \"age\", \"exclude_subgroups\": \"drop-non-german\", \"model\": \"rf\", \"scale\": \"do-not-scale\", \"training_size\": \"5k\"}",
    "universe_id": "f4aff52411b8923fa618027050bc8d5f"
   },
   "start_time": "2025-07-28T10:37:50.194059",
   "version": "2.6.0"
  }
 },
 "nbformat": 4,
 "nbformat_minor": 5
}