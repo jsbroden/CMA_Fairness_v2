{
 "cells": [
  {
   "cell_type": "code",
   "execution_count": 1,
   "id": "f159f837-637b-42ba-96b5-ec9a68c44524",
   "metadata": {
    "execution": {
     "iopub.execute_input": "2025-07-28T11:02:53.809938Z",
     "iopub.status.busy": "2025-07-28T11:02:53.809428Z",
     "iopub.status.idle": "2025-07-28T11:02:53.823242Z",
     "shell.execute_reply": "2025-07-28T11:02:53.822293Z"
    },
    "papermill": {
     "duration": 0.035735,
     "end_time": "2025-07-28T11:02:53.825085",
     "exception": false,
     "start_time": "2025-07-28T11:02:53.789350",
     "status": "completed"
    },
    "tags": []
   },
   "outputs": [
    {
     "name": "stdout",
     "output_type": "stream",
     "text": [
      "/dss/dsshome1/0C/ra93lal2/cma/CMA_Fairness_v2\n"
     ]
    },
    {
     "name": "stderr",
     "output_type": "stream",
     "text": [
      "/dss/dsshome1/0C/ra93lal2/.local/share/virtualenvs/CMA_Fairness_v2-3j10GkSs/lib/python3.10/site-packages/IPython/core/magics/osm.py:393: UserWarning: This is now an optional IPython functionality, using bookmarks requires you to install the `pickleshare` library.\n",
      "  bkms = self.shell.db.get('bookmarks', {})\n",
      "/dss/dsshome1/0C/ra93lal2/.local/share/virtualenvs/CMA_Fairness_v2-3j10GkSs/lib/python3.10/site-packages/IPython/core/magics/osm.py:417: UserWarning: This is now an optional IPython functionality, setting dhist requires you to install the `pickleshare` library.\n",
      "  self.shell.db['dhist'] = compress_dhist(dhist)[-100:]\n"
     ]
    }
   ],
   "source": [
    "%cd ~/cma/CMA_Fairness_v2"
   ]
  },
  {
   "cell_type": "markdown",
   "id": "de2603b9",
   "metadata": {
    "papermill": {
     "duration": 0.020952,
     "end_time": "2025-07-28T11:02:53.866957",
     "exception": false,
     "start_time": "2025-07-28T11:02:53.846005",
     "status": "completed"
    },
    "tags": []
   },
   "source": [
    "The following cell holds the definition of our parameters, these values can be overriden by rendering the with e.g. the following command:\n",
    "\n",
    "papermill -p alpha 0.2 -p ratio 0.3 universe_analysis.ipynb output/test_run.ipynb"
   ]
  },
  {
   "cell_type": "code",
   "execution_count": 2,
   "id": "a80968a0-40bb-4fa9-85ef-2d5eefb01975",
   "metadata": {
    "execution": {
     "iopub.execute_input": "2025-07-28T11:02:53.910661Z",
     "iopub.status.busy": "2025-07-28T11:02:53.909669Z",
     "iopub.status.idle": "2025-07-28T11:02:53.915481Z",
     "shell.execute_reply": "2025-07-28T11:02:53.914440Z"
    },
    "papermill": {
     "duration": 0.029803,
     "end_time": "2025-07-28T11:02:53.917325",
     "exception": false,
     "start_time": "2025-07-28T11:02:53.887522",
     "status": "completed"
    },
    "tags": []
   },
   "outputs": [
    {
     "name": "stdout",
     "output_type": "stream",
     "text": [
      "Current working directory: /dss/dsshome1/0C/ra93lal2/cma/CMA_Fairness_v2\n"
     ]
    }
   ],
   "source": [
    "import os\n",
    "print(\"Current working directory:\", os.getcwd())"
   ]
  },
  {
   "cell_type": "code",
   "execution_count": 3,
   "id": "2dce4c03",
   "metadata": {
    "execution": {
     "iopub.execute_input": "2025-07-28T11:02:53.961352Z",
     "iopub.status.busy": "2025-07-28T11:02:53.960584Z",
     "iopub.status.idle": "2025-07-28T11:02:53.966897Z",
     "shell.execute_reply": "2025-07-28T11:02:53.965954Z"
    },
    "papermill": {
     "duration": 0.030487,
     "end_time": "2025-07-28T11:02:53.968683",
     "exception": false,
     "start_time": "2025-07-28T11:02:53.938196",
     "status": "completed"
    },
    "tags": [
     "parameters"
    ]
   },
   "outputs": [],
   "source": [
    "run_no = 0\n",
    "universe_id = \"test\"\n",
    "universe = {\n",
    "    \"training_size\": \"2014\", # \"25k\", \"5k\", \"1k\", \"2014\"\n",
    "    \"scale\": \"scale\", # \"scale\", \"do-not-scale\",\n",
    "    #\"stratify_split\": \"target\", # \"none\", \"target\", \"protected-attribute\", \"both\",\n",
    "    \"model\": \"elasticnet\", # \"logreg\", \"penalized_logreg\", \"rf\", \"gbm\", \"elasticnet\"\n",
    "    \"cutoff\": [\"quantile_0.15\", \"quantile_0.30\"],\n",
    "    \"exclude_features\": \"age\", # \"none\", \"nationality\", \"sex\", \"nationality-sex\", \"age\"\n",
    "    \"exclude_subgroups\": \"keep-all\", # \"keep-all\", \"drop-non-german\"\n",
    "    \"eval_fairness_grouping\": [\"majority-minority\", \"nationality-all\"]\n",
    "}\n",
    "\n",
    "output_dir=\"./output\"\n",
    "seed=0"
   ]
  },
  {
   "cell_type": "code",
   "execution_count": 4,
   "id": "0dc1712d",
   "metadata": {
    "execution": {
     "iopub.execute_input": "2025-07-28T11:02:54.013012Z",
     "iopub.status.busy": "2025-07-28T11:02:54.011980Z",
     "iopub.status.idle": "2025-07-28T11:02:54.018085Z",
     "shell.execute_reply": "2025-07-28T11:02:54.017127Z"
    },
    "papermill": {
     "duration": 0.030096,
     "end_time": "2025-07-28T11:02:54.019914",
     "exception": false,
     "start_time": "2025-07-28T11:02:53.989818",
     "status": "completed"
    },
    "tags": [
     "injected-parameters"
    ]
   },
   "outputs": [],
   "source": [
    "# Parameters\n",
    "universe_id = \"e3a172e1fcb9eb0791b3e93ebeb0d559\"\n",
    "run_no = \"11\"\n",
    "universe = \"{\\\"cutoff\\\": [\\\"quantile_0.1\\\", \\\"quantile_0.25\\\"], \\\"eval_fairness_grouping\\\": [\\\"majority-minority\\\", \\\"nationality-all\\\"], \\\"exclude_features\\\": \\\"none\\\", \\\"exclude_subgroups\\\": \\\"drop-non-german\\\", \\\"model\\\": \\\"logreg\\\", \\\"scale\\\": \\\"do-not-scale\\\", \\\"training_size\\\": \\\"2014\\\"}\"\n",
    "output_dir = \"output\"\n",
    "seed = \"2023\"\n"
   ]
  },
  {
   "cell_type": "code",
   "execution_count": 5,
   "id": "1650acaf",
   "metadata": {
    "execution": {
     "iopub.execute_input": "2025-07-28T11:02:54.066023Z",
     "iopub.status.busy": "2025-07-28T11:02:54.065235Z",
     "iopub.status.idle": "2025-07-28T11:02:54.070629Z",
     "shell.execute_reply": "2025-07-28T11:02:54.069501Z"
    },
    "papermill": {
     "duration": 0.030096,
     "end_time": "2025-07-28T11:02:54.072302",
     "exception": false,
     "start_time": "2025-07-28T11:02:54.042206",
     "status": "completed"
    },
    "tags": []
   },
   "outputs": [],
   "source": [
    "import json\n",
    "# Parse universe into dict if it is passed as a string\n",
    "if isinstance(universe, str):\n",
    "    universe = json.loads(universe)"
   ]
  },
  {
   "cell_type": "code",
   "execution_count": 6,
   "id": "16620c48",
   "metadata": {
    "execution": {
     "iopub.execute_input": "2025-07-28T11:02:54.112016Z",
     "iopub.status.busy": "2025-07-28T11:02:54.111199Z",
     "iopub.status.idle": "2025-07-28T11:02:54.159348Z",
     "shell.execute_reply": "2025-07-28T11:02:54.158368Z"
    },
    "papermill": {
     "duration": 0.068925,
     "end_time": "2025-07-28T11:02:54.161209",
     "exception": false,
     "start_time": "2025-07-28T11:02:54.092284",
     "status": "completed"
    },
    "tags": []
   },
   "outputs": [],
   "source": [
    "# Auto-reload the custom package\n",
    "%load_ext autoreload\n",
    "%autoreload 1\n",
    "%aimport fairness_multiverse"
   ]
  },
  {
   "cell_type": "code",
   "execution_count": 7,
   "id": "01c5c9f3",
   "metadata": {
    "execution": {
     "iopub.execute_input": "2025-07-28T11:02:54.206004Z",
     "iopub.status.busy": "2025-07-28T11:02:54.205164Z",
     "iopub.status.idle": "2025-07-28T11:02:56.273580Z",
     "shell.execute_reply": "2025-07-28T11:02:56.272551Z"
    },
    "papermill": {
     "duration": 2.09251,
     "end_time": "2025-07-28T11:02:56.275506",
     "exception": false,
     "start_time": "2025-07-28T11:02:54.182996",
     "status": "completed"
    },
    "tags": []
   },
   "outputs": [],
   "source": [
    "from fairness_multiverse.universe import UniverseAnalysis\n",
    "\n",
    "universe_analysis = UniverseAnalysis(\n",
    "    run_no = run_no,\n",
    "    universe_id = universe_id,\n",
    "    universe = universe,\n",
    "    output_dir=output_dir,\n",
    ")"
   ]
  },
  {
   "cell_type": "code",
   "execution_count": 8,
   "id": "106241f5",
   "metadata": {
    "execution": {
     "iopub.execute_input": "2025-07-28T11:02:56.315108Z",
     "iopub.status.busy": "2025-07-28T11:02:56.314579Z",
     "iopub.status.idle": "2025-07-28T11:02:56.321878Z",
     "shell.execute_reply": "2025-07-28T11:02:56.320833Z"
    },
    "papermill": {
     "duration": 0.028841,
     "end_time": "2025-07-28T11:02:56.323628",
     "exception": false,
     "start_time": "2025-07-28T11:02:56.294787",
     "status": "completed"
    },
    "tags": []
   },
   "outputs": [
    {
     "name": "stdout",
     "output_type": "stream",
     "text": [
      "Using Seed: 2023\n"
     ]
    }
   ],
   "source": [
    "import numpy as np\n",
    "parsed_seed = int(seed)\n",
    "np.random.seed(parsed_seed)\n",
    "print(f\"Using Seed: {parsed_seed}\")"
   ]
  },
  {
   "cell_type": "markdown",
   "id": "e0ebdc57",
   "metadata": {
    "papermill": {
     "duration": 0.018847,
     "end_time": "2025-07-28T11:02:56.362207",
     "exception": false,
     "start_time": "2025-07-28T11:02:56.343360",
     "status": "completed"
    },
    "tags": []
   },
   "source": [
    "# Loading Data"
   ]
  },
  {
   "cell_type": "markdown",
   "id": "681925a3",
   "metadata": {
    "papermill": {
     "duration": 0.019907,
     "end_time": "2025-07-28T11:02:56.401350",
     "exception": false,
     "start_time": "2025-07-28T11:02:56.381443",
     "status": "completed"
    },
    "tags": []
   },
   "source": [
    "Load siab_train, siab_test, siab_calib and/or \n",
    "load siab_train_features, siab_train_labels"
   ]
  },
  {
   "cell_type": "code",
   "execution_count": 9,
   "id": "f0496b8a",
   "metadata": {
    "execution": {
     "iopub.execute_input": "2025-07-28T11:02:56.441572Z",
     "iopub.status.busy": "2025-07-28T11:02:56.440887Z",
     "iopub.status.idle": "2025-07-28T11:03:09.327115Z",
     "shell.execute_reply": "2025-07-28T11:03:09.325908Z"
    },
    "papermill": {
     "duration": 12.908317,
     "end_time": "2025-07-28T11:03:09.328768",
     "exception": false,
     "start_time": "2025-07-28T11:02:56.420451",
     "status": "completed"
    },
    "tags": []
   },
   "outputs": [
    {
     "name": "stdout",
     "output_type": "stream",
     "text": [
      "Loading SIAB data from cache: data/siab_cached.csv.gz\n"
     ]
    },
    {
     "name": "stdout",
     "output_type": "stream",
     "text": [
      "(643690, 164)\n"
     ]
    }
   ],
   "source": [
    "from pathlib import Path\n",
    "import pandas as pd\n",
    "\n",
    "# File paths\n",
    "raw_file = Path(\"data/raw/siab.csv\")\n",
    "cache_file = Path(\"data/siab_cached.csv.gz\")\n",
    "\n",
    "# Ensure cache directory exists\n",
    "cache_file.parent.mkdir(parents=True, exist_ok=True)\n",
    "\n",
    "# Load with simple caching\n",
    "if cache_file.exists():\n",
    "    print(f\"Loading SIAB data from cache: {cache_file}\")\n",
    "    siab = pd.read_csv(cache_file, compression='gzip')\n",
    "else:\n",
    "    print(f\"Cache not found. Reading raw SIAB data: {raw_file}\")\n",
    "    siab = pd.read_csv(raw_file)\n",
    "    siab.to_csv(cache_file, index=False, compression='gzip')\n",
    "    print(f\"Cached SIAB data to: {cache_file}\")\n",
    "\n",
    "# Now use `siab` DataFrame as needed\n",
    "print(siab.shape)"
   ]
  },
  {
   "cell_type": "code",
   "execution_count": 10,
   "id": "db0ca512-5f53-4dba-abdb-a2888bca41ba",
   "metadata": {
    "execution": {
     "iopub.execute_input": "2025-07-28T11:03:09.370579Z",
     "iopub.status.busy": "2025-07-28T11:03:09.369658Z",
     "iopub.status.idle": "2025-07-28T11:03:09.375590Z",
     "shell.execute_reply": "2025-07-28T11:03:09.374503Z"
    },
    "papermill": {
     "duration": 0.027264,
     "end_time": "2025-07-28T11:03:09.377297",
     "exception": false,
     "start_time": "2025-07-28T11:03:09.350033",
     "status": "completed"
    },
    "tags": []
   },
   "outputs": [],
   "source": [
    "#siab"
   ]
  },
  {
   "cell_type": "code",
   "execution_count": 11,
   "id": "a0edb063",
   "metadata": {
    "execution": {
     "iopub.execute_input": "2025-07-28T11:03:09.415778Z",
     "iopub.status.busy": "2025-07-28T11:03:09.415083Z",
     "iopub.status.idle": "2025-07-28T11:03:09.420450Z",
     "shell.execute_reply": "2025-07-28T11:03:09.419310Z"
    },
    "papermill": {
     "duration": 0.026581,
     "end_time": "2025-07-28T11:03:09.422203",
     "exception": false,
     "start_time": "2025-07-28T11:03:09.395622",
     "status": "completed"
    },
    "tags": []
   },
   "outputs": [],
   "source": [
    "#import pandas as pd\n",
    "#\n",
    "#X_train = pd.read_csv(\"./data/X_train.csv\")\n",
    "#y_train = pd.read_csv(\"./data/y_train.csv\")"
   ]
  },
  {
   "cell_type": "code",
   "execution_count": 12,
   "id": "63d08085",
   "metadata": {
    "execution": {
     "iopub.execute_input": "2025-07-28T11:03:09.460795Z",
     "iopub.status.busy": "2025-07-28T11:03:09.460241Z",
     "iopub.status.idle": "2025-07-28T11:03:09.465421Z",
     "shell.execute_reply": "2025-07-28T11:03:09.464412Z"
    },
    "papermill": {
     "duration": 0.026137,
     "end_time": "2025-07-28T11:03:09.467030",
     "exception": false,
     "start_time": "2025-07-28T11:03:09.440893",
     "status": "completed"
    },
    "tags": []
   },
   "outputs": [],
   "source": [
    "#X_test = pd.read_csv(\"./data/X_test.csv\")\n",
    "#y_true = pd.read_csv(\"./data/y_test.csv\")"
   ]
  },
  {
   "cell_type": "code",
   "execution_count": 13,
   "id": "98a8d0fa-1d3d-4ed8-bb2c-281470e24add",
   "metadata": {
    "execution": {
     "iopub.execute_input": "2025-07-28T11:03:09.506016Z",
     "iopub.status.busy": "2025-07-28T11:03:09.505255Z",
     "iopub.status.idle": "2025-07-28T11:03:09.510866Z",
     "shell.execute_reply": "2025-07-28T11:03:09.509895Z"
    },
    "papermill": {
     "duration": 0.026784,
     "end_time": "2025-07-28T11:03:09.512644",
     "exception": false,
     "start_time": "2025-07-28T11:03:09.485860",
     "status": "completed"
    },
    "tags": []
   },
   "outputs": [],
   "source": [
    "# Calibration data for conformal\n",
    "#X_calib = pd.read_csv(\"./data/X_calib.csv\")\n",
    "#y_calib = pd.read_csv(\"./data/y_calib.csv\")"
   ]
  },
  {
   "cell_type": "markdown",
   "id": "9901737e-04df-44f0-9100-f5ad144ed040",
   "metadata": {
    "papermill": {
     "duration": 0.018365,
     "end_time": "2025-07-28T11:03:09.549752",
     "exception": false,
     "start_time": "2025-07-28T11:03:09.531387",
     "status": "completed"
    },
    "tags": []
   },
   "source": [
    "# Splitting Data and Setting Training Data Size"
   ]
  },
  {
   "cell_type": "code",
   "execution_count": 14,
   "id": "acbc8f7d-8fc8-4e86-8c59-5dcb0f58384b",
   "metadata": {
    "execution": {
     "iopub.execute_input": "2025-07-28T11:03:09.589046Z",
     "iopub.status.busy": "2025-07-28T11:03:09.588488Z",
     "iopub.status.idle": "2025-07-28T11:03:09.597580Z",
     "shell.execute_reply": "2025-07-28T11:03:09.596585Z"
    },
    "papermill": {
     "duration": 0.030455,
     "end_time": "2025-07-28T11:03:09.599306",
     "exception": false,
     "start_time": "2025-07-28T11:03:09.568851",
     "status": "completed"
    },
    "tags": []
   },
   "outputs": [],
   "source": [
    "def sample_by_year(df, training_size, random_state=42):\n",
    "    if training_size == \"2014\":\n",
    "        return df[df[\"year\"] == 2014].reset_index(drop=True)\n",
    "    \n",
    "    size_map = {\n",
    "        \"25k\": 5000,\n",
    "        \"5k\": 1000,\n",
    "        \"1k\": 200\n",
    "    }\n",
    "\n",
    "    if training_size not in size_map:\n",
    "        return df.reset_index(drop=True)  # use all data\n",
    "\n",
    "    n_per_year = size_map[training_size]\n",
    "    grouped = df.groupby(\"year\")\n",
    "    sampled = grouped.apply(lambda x: x.sample(n=min(n_per_year, len(x)), random_state=random_state))\n",
    "    return sampled.reset_index(drop=True)"
   ]
  },
  {
   "cell_type": "code",
   "execution_count": 15,
   "id": "6d931f52-beaf-43ff-9e78-9d44a448d54e",
   "metadata": {
    "execution": {
     "iopub.execute_input": "2025-07-28T11:03:09.638409Z",
     "iopub.status.busy": "2025-07-28T11:03:09.637648Z",
     "iopub.status.idle": "2025-07-28T11:03:09.826028Z",
     "shell.execute_reply": "2025-07-28T11:03:09.825018Z"
    },
    "papermill": {
     "duration": 0.209831,
     "end_time": "2025-07-28T11:03:09.827941",
     "exception": false,
     "start_time": "2025-07-28T11:03:09.618110",
     "status": "completed"
    },
    "tags": []
   },
   "outputs": [],
   "source": [
    "siab_s = sample_by_year(siab, universe[\"training_size\"])"
   ]
  },
  {
   "cell_type": "code",
   "execution_count": 16,
   "id": "5db0a40e-a4e2-4920-be85-b12ae061d70d",
   "metadata": {
    "execution": {
     "iopub.execute_input": "2025-07-28T11:03:09.868614Z",
     "iopub.status.busy": "2025-07-28T11:03:09.868138Z",
     "iopub.status.idle": "2025-07-28T11:03:09.889236Z",
     "shell.execute_reply": "2025-07-28T11:03:09.882527Z"
    },
    "papermill": {
     "duration": 0.042795,
     "end_time": "2025-07-28T11:03:09.890757",
     "exception": false,
     "start_time": "2025-07-28T11:03:09.847962",
     "status": "completed"
    },
    "tags": []
   },
   "outputs": [
    {
     "data": {
      "text/plain": [
       "year\n",
       "2014    87158\n",
       "dtype: int64"
      ]
     },
     "metadata": {},
     "output_type": "display_data"
    }
   ],
   "source": [
    "display(siab_s.groupby(\"year\").size())"
   ]
  },
  {
   "cell_type": "code",
   "execution_count": 17,
   "id": "a561edb4-d032-42cb-8256-22eac1111c64",
   "metadata": {
    "execution": {
     "iopub.execute_input": "2025-07-28T11:03:09.936092Z",
     "iopub.status.busy": "2025-07-28T11:03:09.935540Z",
     "iopub.status.idle": "2025-07-28T11:03:10.265417Z",
     "shell.execute_reply": "2025-07-28T11:03:10.264259Z"
    },
    "papermill": {
     "duration": 0.354777,
     "end_time": "2025-07-28T11:03:10.267456",
     "exception": false,
     "start_time": "2025-07-28T11:03:09.912679",
     "status": "completed"
    },
    "tags": []
   },
   "outputs": [],
   "source": [
    "siab_train = siab_s[siab_s.year < 2015]\n",
    "siab_calib = siab[siab.year == 2015]\n",
    "siab_test = siab[siab.year == 2016]"
   ]
  },
  {
   "cell_type": "code",
   "execution_count": 18,
   "id": "472de16f-c3db-4916-846b-1f0de9cf1746",
   "metadata": {
    "execution": {
     "iopub.execute_input": "2025-07-28T11:03:10.300518Z",
     "iopub.status.busy": "2025-07-28T11:03:10.299892Z",
     "iopub.status.idle": "2025-07-28T11:03:10.351237Z",
     "shell.execute_reply": "2025-07-28T11:03:10.350422Z"
    },
    "papermill": {
     "duration": 0.064872,
     "end_time": "2025-07-28T11:03:10.352724",
     "exception": false,
     "start_time": "2025-07-28T11:03:10.287852",
     "status": "completed"
    },
    "tags": []
   },
   "outputs": [],
   "source": [
    "X_train = siab_train.iloc[:,4:164]\n",
    "y_train = siab_train.iloc[:, [3]]"
   ]
  },
  {
   "cell_type": "code",
   "execution_count": 19,
   "id": "828c96af-f43a-4ed6-ba47-8ac73a47d56c",
   "metadata": {
    "execution": {
     "iopub.execute_input": "2025-07-28T11:03:10.377465Z",
     "iopub.status.busy": "2025-07-28T11:03:10.376693Z",
     "iopub.status.idle": "2025-07-28T11:03:10.429736Z",
     "shell.execute_reply": "2025-07-28T11:03:10.428827Z"
    },
    "papermill": {
     "duration": 0.067163,
     "end_time": "2025-07-28T11:03:10.431698",
     "exception": false,
     "start_time": "2025-07-28T11:03:10.364535",
     "status": "completed"
    },
    "tags": []
   },
   "outputs": [],
   "source": [
    "X_calib = siab_calib.iloc[:,4:164]\n",
    "y_calib = siab_calib.iloc[:, [3]]"
   ]
  },
  {
   "cell_type": "code",
   "execution_count": 20,
   "id": "c34be9c3-6bd6-476e-acd3-845840e303be",
   "metadata": {
    "execution": {
     "iopub.execute_input": "2025-07-28T11:03:10.478273Z",
     "iopub.status.busy": "2025-07-28T11:03:10.477595Z",
     "iopub.status.idle": "2025-07-28T11:03:10.529752Z",
     "shell.execute_reply": "2025-07-28T11:03:10.528915Z"
    },
    "papermill": {
     "duration": 0.07681,
     "end_time": "2025-07-28T11:03:10.531221",
     "exception": false,
     "start_time": "2025-07-28T11:03:10.454411",
     "status": "completed"
    },
    "tags": []
   },
   "outputs": [],
   "source": [
    "X_test = siab_test.iloc[:,4:164]\n",
    "y_true = siab_test.iloc[:, [3]]"
   ]
  },
  {
   "cell_type": "code",
   "execution_count": 21,
   "id": "e6c733c5",
   "metadata": {
    "execution": {
     "iopub.execute_input": "2025-07-28T11:03:10.575414Z",
     "iopub.status.busy": "2025-07-28T11:03:10.574929Z",
     "iopub.status.idle": "2025-07-28T11:03:10.720836Z",
     "shell.execute_reply": "2025-07-28T11:03:10.719711Z"
    },
    "papermill": {
     "duration": 0.173994,
     "end_time": "2025-07-28T11:03:10.723324",
     "exception": false,
     "start_time": "2025-07-28T11:03:10.549330",
     "status": "completed"
    },
    "tags": []
   },
   "outputs": [],
   "source": [
    "# Auxiliary data needed downstream in the pipeline\n",
    "\n",
    "org_train = X_train.copy()\n",
    "org_test = X_test.copy()\n",
    "org_calib = X_calib.copy()"
   ]
  },
  {
   "cell_type": "markdown",
   "id": "0a4a1b33",
   "metadata": {
    "papermill": {
     "duration": 0.012964,
     "end_time": "2025-07-28T11:03:10.758922",
     "exception": false,
     "start_time": "2025-07-28T11:03:10.745958",
     "status": "completed"
    },
    "tags": []
   },
   "source": [
    "# Preprocessing Data"
   ]
  },
  {
   "cell_type": "code",
   "execution_count": 22,
   "id": "ca879031",
   "metadata": {
    "execution": {
     "iopub.execute_input": "2025-07-28T11:03:10.806027Z",
     "iopub.status.busy": "2025-07-28T11:03:10.805250Z",
     "iopub.status.idle": "2025-07-28T11:03:10.812039Z",
     "shell.execute_reply": "2025-07-28T11:03:10.810918Z"
    },
    "papermill": {
     "duration": 0.03154,
     "end_time": "2025-07-28T11:03:10.813819",
     "exception": false,
     "start_time": "2025-07-28T11:03:10.782279",
     "status": "completed"
    },
    "tags": []
   },
   "outputs": [],
   "source": [
    "# EXCLUDE PROTECTED FEATURES\n",
    "# ----------------------\n",
    "# \"exclude_features\": \"none\", # \"nationality\", \"sex\", \"nationality-sex\"\n",
    "\n",
    "excluded_features = universe[\"exclude_features\"].split(\"-\") # split, e.g.: \"nationality-sex\" -> [\"nationality\", \"sex\"]\n",
    "excluded_features_dictionary = {\n",
    "    \"nationality\": [\"maxdeutsch1\", \"maxdeutsch.Missing.\"],\n",
    "    \"sex\": [\"frau1\"],\n",
    "    \"age\": [\"age\"],\n",
    "}\n"
   ]
  },
  {
   "cell_type": "code",
   "execution_count": 23,
   "id": "b745ac60",
   "metadata": {
    "execution": {
     "iopub.execute_input": "2025-07-28T11:03:10.864326Z",
     "iopub.status.busy": "2025-07-28T11:03:10.863216Z",
     "iopub.status.idle": "2025-07-28T11:03:10.869732Z",
     "shell.execute_reply": "2025-07-28T11:03:10.868711Z"
    },
    "papermill": {
     "duration": 0.03421,
     "end_time": "2025-07-28T11:03:10.871659",
     "exception": false,
     "start_time": "2025-07-28T11:03:10.837449",
     "status": "completed"
    },
    "tags": []
   },
   "outputs": [],
   "source": [
    "# Code nice names to column names\n",
    "\n",
    "excluded_features_columns = [\n",
    "    excluded_features_dictionary[f] for f in excluded_features if len(f) > 0 and f != \"none\"\n",
    "]"
   ]
  },
  {
   "cell_type": "code",
   "execution_count": 24,
   "id": "f84f73a2",
   "metadata": {
    "execution": {
     "iopub.execute_input": "2025-07-28T11:03:10.920662Z",
     "iopub.status.busy": "2025-07-28T11:03:10.919851Z",
     "iopub.status.idle": "2025-07-28T11:03:10.927218Z",
     "shell.execute_reply": "2025-07-28T11:03:10.926097Z"
    },
    "papermill": {
     "duration": 0.03499,
     "end_time": "2025-07-28T11:03:10.929265",
     "exception": false,
     "start_time": "2025-07-28T11:03:10.894275",
     "status": "completed"
    },
    "tags": []
   },
   "outputs": [],
   "source": [
    "from utils import flatten_once\n",
    "\n",
    "excluded_features_columns = flatten_once(excluded_features_columns)"
   ]
  },
  {
   "cell_type": "code",
   "execution_count": 25,
   "id": "884dea22",
   "metadata": {
    "execution": {
     "iopub.execute_input": "2025-07-28T11:03:10.978707Z",
     "iopub.status.busy": "2025-07-28T11:03:10.977870Z",
     "iopub.status.idle": "2025-07-28T11:03:10.984298Z",
     "shell.execute_reply": "2025-07-28T11:03:10.983238Z"
    },
    "papermill": {
     "duration": 0.033676,
     "end_time": "2025-07-28T11:03:10.985904",
     "exception": false,
     "start_time": "2025-07-28T11:03:10.952228",
     "status": "completed"
    },
    "tags": []
   },
   "outputs": [],
   "source": [
    "if len(excluded_features_columns) > 0:\n",
    "    print(f\"Dropping features: {excluded_features_columns}\")\n",
    "    X_train.drop(excluded_features_columns, axis=1, inplace=True)"
   ]
  },
  {
   "cell_type": "code",
   "execution_count": 26,
   "id": "95ab8b16",
   "metadata": {
    "execution": {
     "iopub.execute_input": "2025-07-28T11:03:11.030930Z",
     "iopub.status.busy": "2025-07-28T11:03:11.029884Z",
     "iopub.status.idle": "2025-07-28T11:03:11.037042Z",
     "shell.execute_reply": "2025-07-28T11:03:11.036073Z"
    },
    "papermill": {
     "duration": 0.030527,
     "end_time": "2025-07-28T11:03:11.038746",
     "exception": false,
     "start_time": "2025-07-28T11:03:11.008219",
     "status": "completed"
    },
    "tags": []
   },
   "outputs": [],
   "source": [
    "if len(excluded_features_columns) > 0:\n",
    "    print(f\"Dropping features: {excluded_features_columns}\")\n",
    "    X_test.drop(excluded_features_columns, axis=1, inplace=True)"
   ]
  },
  {
   "cell_type": "code",
   "execution_count": 27,
   "id": "1853aaf5-fb9f-46cb-a2b5-8ea4ae2237e4",
   "metadata": {
    "execution": {
     "iopub.execute_input": "2025-07-28T11:03:11.084771Z",
     "iopub.status.busy": "2025-07-28T11:03:11.083737Z",
     "iopub.status.idle": "2025-07-28T11:03:11.090228Z",
     "shell.execute_reply": "2025-07-28T11:03:11.089263Z"
    },
    "papermill": {
     "duration": 0.030098,
     "end_time": "2025-07-28T11:03:11.091917",
     "exception": false,
     "start_time": "2025-07-28T11:03:11.061819",
     "status": "completed"
    },
    "tags": []
   },
   "outputs": [],
   "source": [
    "if len(excluded_features_columns) > 0:\n",
    "    print(f\"Dropping features: {excluded_features_columns}\")\n",
    "    X_calib.drop(excluded_features_columns, axis=1, inplace=True)"
   ]
  },
  {
   "cell_type": "code",
   "execution_count": 28,
   "id": "6727d079-03e5-481e-9d38-292a90b7a0a8",
   "metadata": {
    "execution": {
     "iopub.execute_input": "2025-07-28T11:03:11.138769Z",
     "iopub.status.busy": "2025-07-28T11:03:11.138281Z",
     "iopub.status.idle": "2025-07-28T11:03:11.143527Z",
     "shell.execute_reply": "2025-07-28T11:03:11.142562Z"
    },
    "papermill": {
     "duration": 0.031488,
     "end_time": "2025-07-28T11:03:11.145412",
     "exception": false,
     "start_time": "2025-07-28T11:03:11.113924",
     "status": "completed"
    },
    "tags": []
   },
   "outputs": [],
   "source": [
    "# SPLIT & STRATIFY DATA\n",
    "# ----------------------"
   ]
  },
  {
   "cell_type": "code",
   "execution_count": 29,
   "id": "76c4dc6d",
   "metadata": {
    "execution": {
     "iopub.execute_input": "2025-07-28T11:03:11.188971Z",
     "iopub.status.busy": "2025-07-28T11:03:11.188562Z",
     "iopub.status.idle": "2025-07-28T11:03:11.193188Z",
     "shell.execute_reply": "2025-07-28T11:03:11.192395Z"
    },
    "papermill": {
     "duration": 0.028199,
     "end_time": "2025-07-28T11:03:11.194532",
     "exception": false,
     "start_time": "2025-07-28T11:03:11.166333",
     "status": "completed"
    },
    "tags": []
   },
   "outputs": [],
   "source": [
    "# EXCLUDE CERTAIN SUBGROUPS\n",
    "# ----------------------\n",
    "\n",
    "mode = universe.get(\"exclude_subgroups\", \"keep-all\") \n",
    "# Fetches the exclude_subgroups setting from the universe dict.\n",
    "# Defaults to \"keep-all\" if the key is missing."
   ]
  },
  {
   "cell_type": "code",
   "execution_count": 30,
   "id": "21994072",
   "metadata": {
    "execution": {
     "iopub.execute_input": "2025-07-28T11:03:11.218914Z",
     "iopub.status.busy": "2025-07-28T11:03:11.218546Z",
     "iopub.status.idle": "2025-07-28T11:03:11.224902Z",
     "shell.execute_reply": "2025-07-28T11:03:11.223883Z"
    },
    "papermill": {
     "duration": 0.019836,
     "end_time": "2025-07-28T11:03:11.226269",
     "exception": false,
     "start_time": "2025-07-28T11:03:11.206433",
     "status": "completed"
    },
    "tags": []
   },
   "outputs": [],
   "source": [
    "if mode == \"keep-all\":\n",
    "    keep_mask = pd.Series(True, index=org_train.index)\n",
    "\n",
    "# org_train contains the original feature columns from features_org (in Simson)\n",
    "# features_org contains unprocessed features, for me X_train at beginning ???\n",
    "# For keep-all, creates a boolean Series (keep_mask) of all True, so no rows are removed.\n",
    "\n",
    "elif mode == \"drop-non-german\":\n",
    "    keep_mask = org_train[\"maxdeutsch1\"] == 1 # ??? what about missing values?\n",
    "\n",
    "else:\n",
    "    raise ValueError(f\"Unsupported mode for exclude_subgroups: {mode}\")\n"
   ]
  },
  {
   "cell_type": "code",
   "execution_count": 31,
   "id": "71651440",
   "metadata": {
    "execution": {
     "iopub.execute_input": "2025-07-28T11:03:11.251258Z",
     "iopub.status.busy": "2025-07-28T11:03:11.250890Z",
     "iopub.status.idle": "2025-07-28T11:03:11.258405Z",
     "shell.execute_reply": "2025-07-28T11:03:11.257478Z"
    },
    "papermill": {
     "duration": 0.022014,
     "end_time": "2025-07-28T11:03:11.260138",
     "exception": false,
     "start_time": "2025-07-28T11:03:11.238124",
     "status": "completed"
    },
    "tags": []
   },
   "outputs": [
    {
     "name": "stdout",
     "output_type": "stream",
     "text": [
      "Dropping 12995 rows (14.91%) where mode='drop-non-german'\n"
     ]
    }
   ],
   "source": [
    "n_drop = (~keep_mask).sum() # Calculates how many rows are set to be dropped\n",
    "if n_drop > 0:\n",
    "    pct = n_drop / len(keep_mask) * 100\n",
    "    print(f\"Dropping {n_drop} rows ({pct:.2f}%) where mode='{mode}'\")"
   ]
  },
  {
   "cell_type": "code",
   "execution_count": 32,
   "id": "5fb8eee5",
   "metadata": {
    "execution": {
     "iopub.execute_input": "2025-07-28T11:03:11.303695Z",
     "iopub.status.busy": "2025-07-28T11:03:11.302809Z",
     "iopub.status.idle": "2025-07-28T11:03:11.340902Z",
     "shell.execute_reply": "2025-07-28T11:03:11.340117Z"
    },
    "papermill": {
     "duration": 0.062063,
     "end_time": "2025-07-28T11:03:11.342771",
     "exception": false,
     "start_time": "2025-07-28T11:03:11.280708",
     "status": "completed"
    },
    "tags": []
   },
   "outputs": [],
   "source": [
    "X_train = X_train[keep_mask]"
   ]
  },
  {
   "cell_type": "code",
   "execution_count": 33,
   "id": "b202bb3a",
   "metadata": {
    "execution": {
     "iopub.execute_input": "2025-07-28T11:03:11.393639Z",
     "iopub.status.busy": "2025-07-28T11:03:11.393071Z",
     "iopub.status.idle": "2025-07-28T11:03:11.401143Z",
     "shell.execute_reply": "2025-07-28T11:03:11.399969Z"
    },
    "papermill": {
     "duration": 0.031975,
     "end_time": "2025-07-28T11:03:11.402934",
     "exception": false,
     "start_time": "2025-07-28T11:03:11.370959",
     "status": "completed"
    },
    "tags": []
   },
   "outputs": [],
   "source": [
    "y_train = y_train[keep_mask]"
   ]
  },
  {
   "cell_type": "markdown",
   "id": "493e2ac3",
   "metadata": {
    "papermill": {
     "duration": 0.022143,
     "end_time": "2025-07-28T11:03:11.446558",
     "exception": false,
     "start_time": "2025-07-28T11:03:11.424415",
     "status": "completed"
    },
    "tags": []
   },
   "source": [
    "# Model Training"
   ]
  },
  {
   "cell_type": "code",
   "execution_count": 34,
   "id": "679e1268",
   "metadata": {
    "execution": {
     "iopub.execute_input": "2025-07-28T11:03:11.489810Z",
     "iopub.status.busy": "2025-07-28T11:03:11.488902Z",
     "iopub.status.idle": "2025-07-28T11:03:11.602717Z",
     "shell.execute_reply": "2025-07-28T11:03:11.601704Z"
    },
    "papermill": {
     "duration": 0.140713,
     "end_time": "2025-07-28T11:03:11.607726",
     "exception": false,
     "start_time": "2025-07-28T11:03:11.467013",
     "status": "completed"
    },
    "tags": []
   },
   "outputs": [],
   "source": [
    "from sklearn.linear_model import LogisticRegression\n",
    "from sklearn.ensemble import GradientBoostingClassifier, RandomForestClassifier\n",
    "\n",
    "if (universe[\"model\"] == \"logreg\"):\n",
    "    model = LogisticRegression() #penalty=\"none\") #, solver=\"newton-cg\", max_iter=1) # include random_state=19 ?\n",
    "elif (universe[\"model\"] == \"penalized_logreg\"):\n",
    "    model = LogisticRegression(penalty=\"l2\", C=1.0) #, solver=\"newton-cg\", max_iter=1)\n",
    "elif (universe[\"model\"] == \"rf\"):\n",
    "    model = RandomForestClassifier(n_estimators=100, n_jobs=-1)\n",
    "elif (universe[\"model\"] == \"gbm\"):\n",
    "    model = GradientBoostingClassifier()\n",
    "elif (universe[\"model\"] == \"elasticnet\"):\n",
    "    model = LogisticRegression(penalty = 'elasticnet', solver = 'saga', l1_ratio = 0.5, max_iter=5000) # which solver to use?\n",
    "else:\n",
    "    raise \"Unsupported universe.model\""
   ]
  },
  {
   "cell_type": "code",
   "execution_count": 35,
   "id": "0cc8f744",
   "metadata": {
    "execution": {
     "iopub.execute_input": "2025-07-28T11:03:11.652310Z",
     "iopub.status.busy": "2025-07-28T11:03:11.651641Z",
     "iopub.status.idle": "2025-07-28T11:03:11.658672Z",
     "shell.execute_reply": "2025-07-28T11:03:11.657636Z"
    },
    "papermill": {
     "duration": 0.031254,
     "end_time": "2025-07-28T11:03:11.660477",
     "exception": false,
     "start_time": "2025-07-28T11:03:11.629223",
     "status": "completed"
    },
    "tags": []
   },
   "outputs": [],
   "source": [
    "import numpy as np\n",
    "from sklearn.pipeline import Pipeline\n",
    "from sklearn.preprocessing import StandardScaler\n",
    "\n",
    "model = Pipeline([\n",
    "    #(\"continuous_processor\", continuous_processor),\n",
    "    #(\"categorical_preprocessor\", categorical_preprocessor),\n",
    "    (\"scale\", StandardScaler() if universe[\"scale\"] == \"scale\" else None), \n",
    "    (\"model\", model),\n",
    "])"
   ]
  },
  {
   "cell_type": "code",
   "execution_count": 36,
   "id": "9442c04d",
   "metadata": {
    "execution": {
     "iopub.execute_input": "2025-07-28T11:03:11.705989Z",
     "iopub.status.busy": "2025-07-28T11:03:11.705583Z",
     "iopub.status.idle": "2025-07-28T11:03:14.904537Z",
     "shell.execute_reply": "2025-07-28T11:03:14.903571Z"
    },
    "papermill": {
     "duration": 3.224408,
     "end_time": "2025-07-28T11:03:14.906221",
     "exception": false,
     "start_time": "2025-07-28T11:03:11.681813",
     "status": "completed"
    },
    "tags": []
   },
   "outputs": [
    {
     "name": "stderr",
     "output_type": "stream",
     "text": [
      "/dss/dsshome1/0C/ra93lal2/.local/share/virtualenvs/CMA_Fairness_v2-3j10GkSs/lib/python3.10/site-packages/sklearn/linear_model/_logistic.py:444: ConvergenceWarning: lbfgs failed to converge (status=1):\n",
      "STOP: TOTAL NO. of ITERATIONS REACHED LIMIT.\n",
      "\n",
      "Increase the number of iterations (max_iter) or scale the data as shown in:\n",
      "    https://scikit-learn.org/stable/modules/preprocessing.html\n",
      "Please also refer to the documentation for alternative solver options:\n",
      "    https://scikit-learn.org/stable/modules/linear_model.html#logistic-regression\n",
      "  n_iter_i = _check_optimize_result(\n"
     ]
    },
    {
     "data": {
      "text/html": [
       "<style>#sk-container-id-1 {color: black;background-color: white;}#sk-container-id-1 pre{padding: 0;}#sk-container-id-1 div.sk-toggleable {background-color: white;}#sk-container-id-1 label.sk-toggleable__label {cursor: pointer;display: block;width: 100%;margin-bottom: 0;padding: 0.3em;box-sizing: border-box;text-align: center;}#sk-container-id-1 label.sk-toggleable__label-arrow:before {content: \"▸\";float: left;margin-right: 0.25em;color: #696969;}#sk-container-id-1 label.sk-toggleable__label-arrow:hover:before {color: black;}#sk-container-id-1 div.sk-estimator:hover label.sk-toggleable__label-arrow:before {color: black;}#sk-container-id-1 div.sk-toggleable__content {max-height: 0;max-width: 0;overflow: hidden;text-align: left;background-color: #f0f8ff;}#sk-container-id-1 div.sk-toggleable__content pre {margin: 0.2em;color: black;border-radius: 0.25em;background-color: #f0f8ff;}#sk-container-id-1 input.sk-toggleable__control:checked~div.sk-toggleable__content {max-height: 200px;max-width: 100%;overflow: auto;}#sk-container-id-1 input.sk-toggleable__control:checked~label.sk-toggleable__label-arrow:before {content: \"▾\";}#sk-container-id-1 div.sk-estimator input.sk-toggleable__control:checked~label.sk-toggleable__label {background-color: #d4ebff;}#sk-container-id-1 div.sk-label input.sk-toggleable__control:checked~label.sk-toggleable__label {background-color: #d4ebff;}#sk-container-id-1 input.sk-hidden--visually {border: 0;clip: rect(1px 1px 1px 1px);clip: rect(1px, 1px, 1px, 1px);height: 1px;margin: -1px;overflow: hidden;padding: 0;position: absolute;width: 1px;}#sk-container-id-1 div.sk-estimator {font-family: monospace;background-color: #f0f8ff;border: 1px dotted black;border-radius: 0.25em;box-sizing: border-box;margin-bottom: 0.5em;}#sk-container-id-1 div.sk-estimator:hover {background-color: #d4ebff;}#sk-container-id-1 div.sk-parallel-item::after {content: \"\";width: 100%;border-bottom: 1px solid gray;flex-grow: 1;}#sk-container-id-1 div.sk-label:hover label.sk-toggleable__label {background-color: #d4ebff;}#sk-container-id-1 div.sk-serial::before {content: \"\";position: absolute;border-left: 1px solid gray;box-sizing: border-box;top: 0;bottom: 0;left: 50%;z-index: 0;}#sk-container-id-1 div.sk-serial {display: flex;flex-direction: column;align-items: center;background-color: white;padding-right: 0.2em;padding-left: 0.2em;position: relative;}#sk-container-id-1 div.sk-item {position: relative;z-index: 1;}#sk-container-id-1 div.sk-parallel {display: flex;align-items: stretch;justify-content: center;background-color: white;position: relative;}#sk-container-id-1 div.sk-item::before, #sk-container-id-1 div.sk-parallel-item::before {content: \"\";position: absolute;border-left: 1px solid gray;box-sizing: border-box;top: 0;bottom: 0;left: 50%;z-index: -1;}#sk-container-id-1 div.sk-parallel-item {display: flex;flex-direction: column;z-index: 1;position: relative;background-color: white;}#sk-container-id-1 div.sk-parallel-item:first-child::after {align-self: flex-end;width: 50%;}#sk-container-id-1 div.sk-parallel-item:last-child::after {align-self: flex-start;width: 50%;}#sk-container-id-1 div.sk-parallel-item:only-child::after {width: 0;}#sk-container-id-1 div.sk-dashed-wrapped {border: 1px dashed gray;margin: 0 0.4em 0.5em 0.4em;box-sizing: border-box;padding-bottom: 0.4em;background-color: white;}#sk-container-id-1 div.sk-label label {font-family: monospace;font-weight: bold;display: inline-block;line-height: 1.2em;}#sk-container-id-1 div.sk-label-container {text-align: center;}#sk-container-id-1 div.sk-container {/* jupyter's `normalize.less` sets `[hidden] { display: none; }` but bootstrap.min.css set `[hidden] { display: none !important; }` so we also need the `!important` here to be able to override the default hidden behavior on the sphinx rendered scikit-learn.org. See: https://github.com/scikit-learn/scikit-learn/issues/21755 */display: inline-block !important;position: relative;}#sk-container-id-1 div.sk-text-repr-fallback {display: none;}</style><div id=\"sk-container-id-1\" class=\"sk-top-container\"><div class=\"sk-text-repr-fallback\"><pre>Pipeline(steps=[(&#x27;scale&#x27;, None), (&#x27;model&#x27;, LogisticRegression())])</pre><b>In a Jupyter environment, please rerun this cell to show the HTML representation or trust the notebook. <br />On GitHub, the HTML representation is unable to render, please try loading this page with nbviewer.org.</b></div><div class=\"sk-container\" hidden><div class=\"sk-item sk-dashed-wrapped\"><div class=\"sk-label-container\"><div class=\"sk-label sk-toggleable\"><input class=\"sk-toggleable__control sk-hidden--visually\" id=\"sk-estimator-id-1\" type=\"checkbox\" ><label for=\"sk-estimator-id-1\" class=\"sk-toggleable__label sk-toggleable__label-arrow\">Pipeline</label><div class=\"sk-toggleable__content\"><pre>Pipeline(steps=[(&#x27;scale&#x27;, None), (&#x27;model&#x27;, LogisticRegression())])</pre></div></div></div><div class=\"sk-serial\"><div class=\"sk-item\"><div class=\"sk-estimator sk-toggleable\"><input class=\"sk-toggleable__control sk-hidden--visually\" id=\"sk-estimator-id-2\" type=\"checkbox\" ><label for=\"sk-estimator-id-2\" class=\"sk-toggleable__label sk-toggleable__label-arrow\">None</label><div class=\"sk-toggleable__content\"><pre>None</pre></div></div></div><div class=\"sk-item\"><div class=\"sk-estimator sk-toggleable\"><input class=\"sk-toggleable__control sk-hidden--visually\" id=\"sk-estimator-id-3\" type=\"checkbox\" ><label for=\"sk-estimator-id-3\" class=\"sk-toggleable__label sk-toggleable__label-arrow\">LogisticRegression</label><div class=\"sk-toggleable__content\"><pre>LogisticRegression()</pre></div></div></div></div></div></div></div>"
      ],
      "text/plain": [
       "Pipeline(steps=[('scale', None), ('model', LogisticRegression())])"
      ]
     },
     "execution_count": 36,
     "metadata": {},
     "output_type": "execute_result"
    }
   ],
   "source": [
    "model.fit(X_train, y_train.values.ravel())"
   ]
  },
  {
   "cell_type": "code",
   "execution_count": 37,
   "id": "af59f8c0",
   "metadata": {
    "execution": {
     "iopub.execute_input": "2025-07-28T11:03:14.951744Z",
     "iopub.status.busy": "2025-07-28T11:03:14.951401Z",
     "iopub.status.idle": "2025-07-28T11:03:14.956064Z",
     "shell.execute_reply": "2025-07-28T11:03:14.955198Z"
    },
    "papermill": {
     "duration": 0.022175,
     "end_time": "2025-07-28T11:03:14.957727",
     "exception": false,
     "start_time": "2025-07-28T11:03:14.935552",
     "status": "completed"
    },
    "tags": []
   },
   "outputs": [],
   "source": [
    "from fairness_multiverse.universe import predict_w_threshold"
   ]
  },
  {
   "cell_type": "code",
   "execution_count": 38,
   "id": "a7cf2e16",
   "metadata": {
    "execution": {
     "iopub.execute_input": "2025-07-28T11:03:15.005863Z",
     "iopub.status.busy": "2025-07-28T11:03:15.004868Z",
     "iopub.status.idle": "2025-07-28T11:03:15.131002Z",
     "shell.execute_reply": "2025-07-28T11:03:15.130245Z"
    },
    "papermill": {
     "duration": 0.151727,
     "end_time": "2025-07-28T11:03:15.132403",
     "exception": false,
     "start_time": "2025-07-28T11:03:14.980676",
     "status": "completed"
    },
    "tags": []
   },
   "outputs": [
    {
     "data": {
      "text/plain": [
       "0.8634600378998997"
      ]
     },
     "execution_count": 38,
     "metadata": {},
     "output_type": "execute_result"
    }
   ],
   "source": [
    "probs_test = model.predict_proba(X_test)\n",
    "\n",
    "'''\n",
    "Below code returns a boolean array (or binary 0/1 array depending on how it’s used) where each element \n",
    "is True if the probability of class 1 is greater than or equal to the threshold, and False otherwise.\n",
    "'''\n",
    "y_pred_default = predict_w_threshold(probs_test, 0.5)\n",
    "\n",
    "from sklearn.metrics import accuracy_score\n",
    "\n",
    "# Naive prediction\n",
    "accuracy_score(y_true = y_true, y_pred = y_pred_default)"
   ]
  },
  {
   "cell_type": "code",
   "execution_count": 39,
   "id": "081964c3",
   "metadata": {
    "execution": {
     "iopub.execute_input": "2025-07-28T11:03:15.162288Z",
     "iopub.status.busy": "2025-07-28T11:03:15.161730Z",
     "iopub.status.idle": "2025-07-28T11:03:15.251147Z",
     "shell.execute_reply": "2025-07-28T11:03:15.250238Z"
    },
    "papermill": {
     "duration": 0.107852,
     "end_time": "2025-07-28T11:03:15.252861",
     "exception": false,
     "start_time": "2025-07-28T11:03:15.145009",
     "status": "completed"
    },
    "tags": []
   },
   "outputs": [
    {
     "data": {
      "text/plain": [
       "array([0, 0, 0, ..., 0, 0, 0])"
      ]
     },
     "execution_count": 39,
     "metadata": {},
     "output_type": "execute_result"
    }
   ],
   "source": [
    "model.predict(X_test)"
   ]
  },
  {
   "cell_type": "markdown",
   "id": "56c9705b",
   "metadata": {
    "papermill": {
     "duration": 0.02171,
     "end_time": "2025-07-28T11:03:15.296612",
     "exception": false,
     "start_time": "2025-07-28T11:03:15.274902",
     "status": "completed"
    },
    "tags": []
   },
   "source": [
    "# Conformal Prediction"
   ]
  },
  {
   "cell_type": "code",
   "execution_count": 40,
   "id": "160ec6ff",
   "metadata": {
    "execution": {
     "iopub.execute_input": "2025-07-28T11:03:15.341714Z",
     "iopub.status.busy": "2025-07-28T11:03:15.340876Z",
     "iopub.status.idle": "2025-07-28T11:03:15.346638Z",
     "shell.execute_reply": "2025-07-28T11:03:15.345487Z"
    },
    "papermill": {
     "duration": 0.030671,
     "end_time": "2025-07-28T11:03:15.348784",
     "exception": false,
     "start_time": "2025-07-28T11:03:15.318113",
     "status": "completed"
    },
    "tags": []
   },
   "outputs": [],
   "source": [
    "# Miscoverage level for conformal prediction (10% allowed error rate => 90% target coverage)\n",
    "alpha = 0.1"
   ]
  },
  {
   "cell_type": "code",
   "execution_count": 41,
   "id": "eadf4555-3dd3-440e-8e35-f82a4ad9f855",
   "metadata": {
    "execution": {
     "iopub.execute_input": "2025-07-28T11:03:15.409065Z",
     "iopub.status.busy": "2025-07-28T11:03:15.408576Z",
     "iopub.status.idle": "2025-07-28T11:03:15.528980Z",
     "shell.execute_reply": "2025-07-28T11:03:15.527745Z"
    },
    "papermill": {
     "duration": 0.153178,
     "end_time": "2025-07-28T11:03:15.531252",
     "exception": false,
     "start_time": "2025-07-28T11:03:15.378074",
     "status": "completed"
    },
    "tags": []
   },
   "outputs": [],
   "source": [
    "probs_calib = model.predict_proba(X_calib)"
   ]
  },
  {
   "cell_type": "code",
   "execution_count": 42,
   "id": "2ed93547-6d5d-4983-9b36-1ecb300da49a",
   "metadata": {
    "execution": {
     "iopub.execute_input": "2025-07-28T11:03:15.592489Z",
     "iopub.status.busy": "2025-07-28T11:03:15.591449Z",
     "iopub.status.idle": "2025-07-28T11:03:15.598116Z",
     "shell.execute_reply": "2025-07-28T11:03:15.596880Z"
    },
    "papermill": {
     "duration": 0.039735,
     "end_time": "2025-07-28T11:03:15.600321",
     "exception": false,
     "start_time": "2025-07-28T11:03:15.560586",
     "status": "completed"
    },
    "tags": []
   },
   "outputs": [],
   "source": [
    "y_calib = y_calib.values.ravel().astype(int)"
   ]
  },
  {
   "cell_type": "code",
   "execution_count": 43,
   "id": "65d1320d-f588-4b38-9072-62af1ae97f7d",
   "metadata": {
    "execution": {
     "iopub.execute_input": "2025-07-28T11:03:15.661547Z",
     "iopub.status.busy": "2025-07-28T11:03:15.660768Z",
     "iopub.status.idle": "2025-07-28T11:03:15.670026Z",
     "shell.execute_reply": "2025-07-28T11:03:15.668878Z"
    },
    "papermill": {
     "duration": 0.04252,
     "end_time": "2025-07-28T11:03:15.672320",
     "exception": false,
     "start_time": "2025-07-28T11:03:15.629800",
     "status": "completed"
    },
    "tags": []
   },
   "outputs": [],
   "source": [
    "from fairness_multiverse.conformal import compute_nc_scores\n",
    "\n",
    "# Compute nonconformity scores on calibration set (1 - probability of true class)\n",
    "nc_scores = compute_nc_scores(probs_calib, y_calib)"
   ]
  },
  {
   "cell_type": "code",
   "execution_count": 44,
   "id": "df3b8ca3-53b7-43d5-9667-7c85da7aeda2",
   "metadata": {
    "execution": {
     "iopub.execute_input": "2025-07-28T11:03:15.741401Z",
     "iopub.status.busy": "2025-07-28T11:03:15.740763Z",
     "iopub.status.idle": "2025-07-28T11:03:15.748917Z",
     "shell.execute_reply": "2025-07-28T11:03:15.747664Z"
    },
    "papermill": {
     "duration": 0.046204,
     "end_time": "2025-07-28T11:03:15.750814",
     "exception": false,
     "start_time": "2025-07-28T11:03:15.704610",
     "status": "completed"
    },
    "tags": []
   },
   "outputs": [],
   "source": [
    "from fairness_multiverse.conformal import find_threshold\n",
    "\n",
    "# Find conformal threshold q_hat for the given alpha (split conformal method)\n",
    "q_hat = find_threshold(nc_scores, alpha)"
   ]
  },
  {
   "cell_type": "code",
   "execution_count": 45,
   "id": "4d29e6c1-0ef6-4aa4-b8fe-4fe79b0d033a",
   "metadata": {
    "execution": {
     "iopub.execute_input": "2025-07-28T11:03:15.798145Z",
     "iopub.status.busy": "2025-07-28T11:03:15.797180Z",
     "iopub.status.idle": "2025-07-28T11:03:15.807001Z",
     "shell.execute_reply": "2025-07-28T11:03:15.805757Z"
    },
    "papermill": {
     "duration": 0.03577,
     "end_time": "2025-07-28T11:03:15.809075",
     "exception": false,
     "start_time": "2025-07-28T11:03:15.773305",
     "status": "completed"
    },
    "tags": []
   },
   "outputs": [
    {
     "data": {
      "text/plain": [
       "0.6602263702330144"
      ]
     },
     "execution_count": 45,
     "metadata": {},
     "output_type": "execute_result"
    }
   ],
   "source": [
    "q_hat"
   ]
  },
  {
   "cell_type": "code",
   "execution_count": 46,
   "id": "92460794-cdac-4be2-ba28-f28c0515a6fb",
   "metadata": {
    "execution": {
     "iopub.execute_input": "2025-07-28T11:03:15.859707Z",
     "iopub.status.busy": "2025-07-28T11:03:15.859210Z",
     "iopub.status.idle": "2025-07-28T11:03:16.633119Z",
     "shell.execute_reply": "2025-07-28T11:03:16.632081Z"
    },
    "papermill": {
     "duration": 0.800988,
     "end_time": "2025-07-28T11:03:16.635033",
     "exception": false,
     "start_time": "2025-07-28T11:03:15.834045",
     "status": "completed"
    },
    "tags": []
   },
   "outputs": [],
   "source": [
    "from fairness_multiverse.conformal import predict_conformal_sets\n",
    "\n",
    "# Generate prediction sets for each test example\n",
    "pred_sets = predict_conformal_sets(model, X_test, q_hat)"
   ]
  },
  {
   "cell_type": "code",
   "execution_count": 47,
   "id": "d90c9a65-e6db-4f5d-80cd-e68fb7e46829",
   "metadata": {
    "execution": {
     "iopub.execute_input": "2025-07-28T11:03:16.702867Z",
     "iopub.status.busy": "2025-07-28T11:03:16.702187Z",
     "iopub.status.idle": "2025-07-28T11:03:16.708565Z",
     "shell.execute_reply": "2025-07-28T11:03:16.707273Z"
    },
    "papermill": {
     "duration": 0.032711,
     "end_time": "2025-07-28T11:03:16.710664",
     "exception": false,
     "start_time": "2025-07-28T11:03:16.677953",
     "status": "completed"
    },
    "tags": []
   },
   "outputs": [],
   "source": [
    "y_true = y_true.squeeze()"
   ]
  },
  {
   "cell_type": "code",
   "execution_count": 48,
   "id": "3a58a54a-1e68-46b9-927a-df01f18aebc8",
   "metadata": {
    "execution": {
     "iopub.execute_input": "2025-07-28T11:03:16.781653Z",
     "iopub.status.busy": "2025-07-28T11:03:16.781219Z",
     "iopub.status.idle": "2025-07-28T11:03:17.409107Z",
     "shell.execute_reply": "2025-07-28T11:03:17.408067Z"
    },
    "papermill": {
     "duration": 0.665712,
     "end_time": "2025-07-28T11:03:17.411146",
     "exception": false,
     "start_time": "2025-07-28T11:03:16.745434",
     "status": "completed"
    },
    "tags": []
   },
   "outputs": [],
   "source": [
    "from fairness_multiverse.conformal import evaluate_sets\n",
    "\n",
    "# Evaluate coverage and average set size on test data\n",
    "metrics = evaluate_sets(pred_sets, y_true)"
   ]
  },
  {
   "cell_type": "markdown",
   "id": "2b569c12-9aaa-4c88-98c9-bbcd0cf3ebb8",
   "metadata": {
    "papermill": {
     "duration": 0.015001,
     "end_time": "2025-07-28T11:03:17.452261",
     "exception": false,
     "start_time": "2025-07-28T11:03:17.437260",
     "status": "completed"
    },
    "tags": []
   },
   "source": [
    "# CP Metrics"
   ]
  },
  {
   "cell_type": "code",
   "execution_count": 49,
   "id": "5ce0a5cb-201f-45a0-ade5-94c7f0bd6095",
   "metadata": {
    "execution": {
     "iopub.execute_input": "2025-07-28T11:03:17.479573Z",
     "iopub.status.busy": "2025-07-28T11:03:17.479197Z",
     "iopub.status.idle": "2025-07-28T11:03:17.485962Z",
     "shell.execute_reply": "2025-07-28T11:03:17.485214Z"
    },
    "papermill": {
     "duration": 0.022306,
     "end_time": "2025-07-28T11:03:17.487313",
     "exception": false,
     "start_time": "2025-07-28T11:03:17.465007",
     "status": "completed"
    },
    "tags": []
   },
   "outputs": [
    {
     "data": {
      "text/plain": [
       "{'coverage': 0.9123509084828894, 'avg_size': 1.2131312005350574}"
      ]
     },
     "execution_count": 49,
     "metadata": {},
     "output_type": "execute_result"
    }
   ],
   "source": [
    "metrics"
   ]
  },
  {
   "cell_type": "code",
   "execution_count": 50,
   "id": "9b9a838d-31c9-430b-ae14-12baee460d17",
   "metadata": {
    "execution": {
     "iopub.execute_input": "2025-07-28T11:03:17.534756Z",
     "iopub.status.busy": "2025-07-28T11:03:17.534250Z",
     "iopub.status.idle": "2025-07-28T11:03:17.541406Z",
     "shell.execute_reply": "2025-07-28T11:03:17.540288Z"
    },
    "papermill": {
     "duration": 0.03477,
     "end_time": "2025-07-28T11:03:17.543193",
     "exception": false,
     "start_time": "2025-07-28T11:03:17.508423",
     "status": "completed"
    },
    "tags": []
   },
   "outputs": [],
   "source": [
    "example_universe = universe.copy()\n",
    "universe_training_size = example_universe.get(\"training_size\")\n",
    "universe_scale = example_universe.get(\"scale\")\n",
    "universe_model = example_universe.get(\"model\")\n",
    "universe_exclude_features = example_universe.get(\"exclude_features\")\n",
    "universe_exclude_subgroups = example_universe.get(\"exclude_subgroups\")"
   ]
  },
  {
   "cell_type": "code",
   "execution_count": 51,
   "id": "f4b6a8ac-9dc0-4245-8a91-5b3b5999c4f9",
   "metadata": {
    "execution": {
     "iopub.execute_input": "2025-07-28T11:03:17.596924Z",
     "iopub.status.busy": "2025-07-28T11:03:17.596144Z",
     "iopub.status.idle": "2025-07-28T11:03:17.613999Z",
     "shell.execute_reply": "2025-07-28T11:03:17.613229Z"
    },
    "papermill": {
     "duration": 0.046587,
     "end_time": "2025-07-28T11:03:17.615523",
     "exception": false,
     "start_time": "2025-07-28T11:03:17.568936",
     "status": "completed"
    },
    "tags": []
   },
   "outputs": [],
   "source": [
    "cp_metrics_dict = {\n",
    "    \"universe_id\": [universe_id],\n",
    "    \"universe_training_size\": [universe_training_size],\n",
    "    \"universe_scale\": [universe_scale],\n",
    "    \"universe_model\": [universe_model],\n",
    "    \"universe_exclude_features\": [universe_exclude_features],\n",
    "    \"universe_exclude_subgroups\": [universe_exclude_subgroups],\n",
    "    \"q_hat\": [q_hat],\n",
    "    \"coverage\": [metrics[\"coverage\"]],\n",
    "    \"avg_size\": [metrics[\"avg_size\"]],\n",
    "}"
   ]
  },
  {
   "cell_type": "code",
   "execution_count": 52,
   "id": "908acbb1-0371-4915-85ca-3fa520d2efe2",
   "metadata": {
    "execution": {
     "iopub.execute_input": "2025-07-28T11:03:17.657120Z",
     "iopub.status.busy": "2025-07-28T11:03:17.656637Z",
     "iopub.status.idle": "2025-07-28T11:03:17.664207Z",
     "shell.execute_reply": "2025-07-28T11:03:17.663035Z"
    },
    "papermill": {
     "duration": 0.034837,
     "end_time": "2025-07-28T11:03:17.665989",
     "exception": false,
     "start_time": "2025-07-28T11:03:17.631152",
     "status": "completed"
    },
    "tags": []
   },
   "outputs": [
    {
     "data": {
      "text/plain": [
       "{'universe_id': ['e3a172e1fcb9eb0791b3e93ebeb0d559'],\n",
       " 'universe_training_size': ['2014'],\n",
       " 'universe_scale': ['do-not-scale'],\n",
       " 'universe_model': ['logreg'],\n",
       " 'universe_exclude_features': ['none'],\n",
       " 'universe_exclude_subgroups': ['drop-non-german'],\n",
       " 'q_hat': [0.6602263702330144],\n",
       " 'coverage': [0.9123509084828894],\n",
       " 'avg_size': [1.2131312005350574]}"
      ]
     },
     "execution_count": 52,
     "metadata": {},
     "output_type": "execute_result"
    }
   ],
   "source": [
    "cp_metrics_dict"
   ]
  },
  {
   "cell_type": "code",
   "execution_count": 53,
   "id": "33007efc-14e9-4ec6-97ac-56a455c82265",
   "metadata": {
    "execution": {
     "iopub.execute_input": "2025-07-28T11:03:17.721466Z",
     "iopub.status.busy": "2025-07-28T11:03:17.720969Z",
     "iopub.status.idle": "2025-07-28T11:03:17.728007Z",
     "shell.execute_reply": "2025-07-28T11:03:17.727040Z"
    },
    "papermill": {
     "duration": 0.036827,
     "end_time": "2025-07-28T11:03:17.729886",
     "exception": false,
     "start_time": "2025-07-28T11:03:17.693059",
     "status": "completed"
    },
    "tags": []
   },
   "outputs": [],
   "source": [
    "cp_metrics_df = pd.DataFrame(cp_metrics_dict)"
   ]
  },
  {
   "cell_type": "code",
   "execution_count": 54,
   "id": "db12611b-57b2-4910-b9d0-355adfd6e7bf",
   "metadata": {
    "execution": {
     "iopub.execute_input": "2025-07-28T11:03:17.784756Z",
     "iopub.status.busy": "2025-07-28T11:03:17.783816Z",
     "iopub.status.idle": "2025-07-28T11:03:17.806954Z",
     "shell.execute_reply": "2025-07-28T11:03:17.805580Z"
    },
    "papermill": {
     "duration": 0.052512,
     "end_time": "2025-07-28T11:03:17.809241",
     "exception": false,
     "start_time": "2025-07-28T11:03:17.756729",
     "status": "completed"
    },
    "tags": []
   },
   "outputs": [
    {
     "data": {
      "text/html": [
       "<div>\n",
       "<style scoped>\n",
       "    .dataframe tbody tr th:only-of-type {\n",
       "        vertical-align: middle;\n",
       "    }\n",
       "\n",
       "    .dataframe tbody tr th {\n",
       "        vertical-align: top;\n",
       "    }\n",
       "\n",
       "    .dataframe thead th {\n",
       "        text-align: right;\n",
       "    }\n",
       "</style>\n",
       "<table border=\"1\" class=\"dataframe\">\n",
       "  <thead>\n",
       "    <tr style=\"text-align: right;\">\n",
       "      <th></th>\n",
       "      <th>universe_id</th>\n",
       "      <th>universe_training_size</th>\n",
       "      <th>universe_scale</th>\n",
       "      <th>universe_model</th>\n",
       "      <th>universe_exclude_features</th>\n",
       "      <th>universe_exclude_subgroups</th>\n",
       "      <th>q_hat</th>\n",
       "      <th>coverage</th>\n",
       "      <th>avg_size</th>\n",
       "    </tr>\n",
       "  </thead>\n",
       "  <tbody>\n",
       "    <tr>\n",
       "      <th>0</th>\n",
       "      <td>e3a172e1fcb9eb0791b3e93ebeb0d559</td>\n",
       "      <td>2014</td>\n",
       "      <td>do-not-scale</td>\n",
       "      <td>logreg</td>\n",
       "      <td>none</td>\n",
       "      <td>drop-non-german</td>\n",
       "      <td>0.660226</td>\n",
       "      <td>0.912351</td>\n",
       "      <td>1.213131</td>\n",
       "    </tr>\n",
       "  </tbody>\n",
       "</table>\n",
       "</div>"
      ],
      "text/plain": [
       "                        universe_id universe_training_size universe_scale  \\\n",
       "0  e3a172e1fcb9eb0791b3e93ebeb0d559                   2014   do-not-scale   \n",
       "\n",
       "  universe_model universe_exclude_features universe_exclude_subgroups  \\\n",
       "0         logreg                      none            drop-non-german   \n",
       "\n",
       "      q_hat  coverage  avg_size  \n",
       "0  0.660226  0.912351  1.213131  "
      ]
     },
     "execution_count": 54,
     "metadata": {},
     "output_type": "execute_result"
    }
   ],
   "source": [
    "cp_metrics_df"
   ]
  },
  {
   "cell_type": "code",
   "execution_count": 55,
   "id": "b7fbde55-a0a1-47e4-9af6-fe4a17fa8c61",
   "metadata": {
    "execution": {
     "iopub.execute_input": "2025-07-28T11:03:17.863382Z",
     "iopub.status.busy": "2025-07-28T11:03:17.863016Z",
     "iopub.status.idle": "2025-07-28T11:03:17.867293Z",
     "shell.execute_reply": "2025-07-28T11:03:17.866572Z"
    },
    "papermill": {
     "duration": 0.022698,
     "end_time": "2025-07-28T11:03:17.868741",
     "exception": false,
     "start_time": "2025-07-28T11:03:17.846043",
     "status": "completed"
    },
    "tags": []
   },
   "outputs": [],
   "source": [
    "# Conditional Coverage & looking at subgroups"
   ]
  },
  {
   "cell_type": "code",
   "execution_count": 56,
   "id": "027ae886-68dd-4141-96c7-805a5450e1ef",
   "metadata": {
    "execution": {
     "iopub.execute_input": "2025-07-28T11:03:17.899290Z",
     "iopub.status.busy": "2025-07-28T11:03:17.898894Z",
     "iopub.status.idle": "2025-07-28T11:03:18.190937Z",
     "shell.execute_reply": "2025-07-28T11:03:18.189855Z"
    },
    "papermill": {
     "duration": 0.311276,
     "end_time": "2025-07-28T11:03:18.192978",
     "exception": false,
     "start_time": "2025-07-28T11:03:17.881702",
     "status": "completed"
    },
    "tags": []
   },
   "outputs": [],
   "source": [
    "from fairness_multiverse.conformal import build_cp_groups\n",
    "\n",
    "cp_groups_df = build_cp_groups(pred_sets, y_true, X_test.index, org_test)\n",
    "#needs universe_id and setting"
   ]
  },
  {
   "cell_type": "code",
   "execution_count": 57,
   "id": "01d5802c-663a-4d1f-9d69-e036faaffbf7",
   "metadata": {
    "execution": {
     "iopub.execute_input": "2025-07-28T11:03:18.248864Z",
     "iopub.status.busy": "2025-07-28T11:03:18.248145Z",
     "iopub.status.idle": "2025-07-28T11:03:18.254247Z",
     "shell.execute_reply": "2025-07-28T11:03:18.252218Z"
    },
    "papermill": {
     "duration": 0.035327,
     "end_time": "2025-07-28T11:03:18.255885",
     "exception": false,
     "start_time": "2025-07-28T11:03:18.220558",
     "status": "completed"
    },
    "tags": []
   },
   "outputs": [],
   "source": [
    "#delete\n",
    "#cp_groups_df"
   ]
  },
  {
   "cell_type": "code",
   "execution_count": 58,
   "id": "fa424af1-d1eb-443d-b717-2d279ada8408",
   "metadata": {
    "execution": {
     "iopub.execute_input": "2025-07-28T11:03:18.309253Z",
     "iopub.status.busy": "2025-07-28T11:03:18.308646Z",
     "iopub.status.idle": "2025-07-28T11:03:18.314709Z",
     "shell.execute_reply": "2025-07-28T11:03:18.313589Z"
    },
    "papermill": {
     "duration": 0.033767,
     "end_time": "2025-07-28T11:03:18.316332",
     "exception": false,
     "start_time": "2025-07-28T11:03:18.282565",
     "status": "completed"
    },
    "tags": []
   },
   "outputs": [],
   "source": [
    "#delete\n",
    "#percentage = (cp_groups_df['nongerman_female'] == 1).mean() * 100\n",
    "#print(percentage)\n"
   ]
  },
  {
   "cell_type": "code",
   "execution_count": 59,
   "id": "6cbdab96-b2b2-45af-ad54-d0516db2e28d",
   "metadata": {
    "execution": {
     "iopub.execute_input": "2025-07-28T11:03:18.366382Z",
     "iopub.status.busy": "2025-07-28T11:03:18.365399Z",
     "iopub.status.idle": "2025-07-28T11:03:20.068969Z",
     "shell.execute_reply": "2025-07-28T11:03:20.067802Z"
    },
    "papermill": {
     "duration": 1.730477,
     "end_time": "2025-07-28T11:03:20.070970",
     "exception": false,
     "start_time": "2025-07-28T11:03:18.340493",
     "status": "completed"
    },
    "tags": []
   },
   "outputs": [],
   "source": [
    "# Define covered = 1 if true_label is in the predicted set\n",
    "cp_groups_df['covered'] = cp_groups_df.apply(\n",
    "    lambda r: int(r['true_label'] in r['pred_set']),\n",
    "    axis=1\n",
    ")"
   ]
  },
  {
   "cell_type": "code",
   "execution_count": 60,
   "id": "338ff529-1a6b-4b87-a931-8e4788d52aad",
   "metadata": {
    "execution": {
     "iopub.execute_input": "2025-07-28T11:03:20.126127Z",
     "iopub.status.busy": "2025-07-28T11:03:20.125399Z",
     "iopub.status.idle": "2025-07-28T11:03:20.131266Z",
     "shell.execute_reply": "2025-07-28T11:03:20.130266Z"
    },
    "papermill": {
     "duration": 0.036294,
     "end_time": "2025-07-28T11:03:20.133186",
     "exception": false,
     "start_time": "2025-07-28T11:03:20.096892",
     "status": "completed"
    },
    "tags": []
   },
   "outputs": [],
   "source": [
    "#cp_groups_df"
   ]
  },
  {
   "cell_type": "code",
   "execution_count": 61,
   "id": "90032e27-66df-4540-9169-4e89cfbaa758",
   "metadata": {
    "execution": {
     "iopub.execute_input": "2025-07-28T11:03:20.186660Z",
     "iopub.status.busy": "2025-07-28T11:03:20.185675Z",
     "iopub.status.idle": "2025-07-28T11:03:20.197965Z",
     "shell.execute_reply": "2025-07-28T11:03:20.196875Z"
    },
    "papermill": {
     "duration": 0.040349,
     "end_time": "2025-07-28T11:03:20.199979",
     "exception": false,
     "start_time": "2025-07-28T11:03:20.159630",
     "status": "completed"
    },
    "tags": []
   },
   "outputs": [],
   "source": [
    "subgroups = ['frau1','nongerman','nongerman_male','nongerman_female']\n",
    "\n",
    "# Conditional coverage for subgroup==1\n",
    "cond_coverage = {\n",
    "    g: cp_groups_df.loc[cp_groups_df[g]==1, 'covered'].mean()\n",
    "    for g in subgroups\n",
    "}"
   ]
  },
  {
   "cell_type": "code",
   "execution_count": 62,
   "id": "1e348fb1-b9c3-45bc-ba23-f016827a7e0d",
   "metadata": {
    "execution": {
     "iopub.execute_input": "2025-07-28T11:03:20.253833Z",
     "iopub.status.busy": "2025-07-28T11:03:20.253077Z",
     "iopub.status.idle": "2025-07-28T11:03:20.260972Z",
     "shell.execute_reply": "2025-07-28T11:03:20.259871Z"
    },
    "papermill": {
     "duration": 0.035617,
     "end_time": "2025-07-28T11:03:20.262776",
     "exception": false,
     "start_time": "2025-07-28T11:03:20.227159",
     "status": "completed"
    },
    "tags": []
   },
   "outputs": [
    {
     "data": {
      "text/plain": [
       "{'frau1': 0.9116862110796603,\n",
       " 'nongerman': 0.9360017964408016,\n",
       " 'nongerman_male': 0.9478519319102945,\n",
       " 'nongerman_female': 0.9163934426229509}"
      ]
     },
     "execution_count": 62,
     "metadata": {},
     "output_type": "execute_result"
    }
   ],
   "source": [
    "cond_coverage"
   ]
  },
  {
   "cell_type": "code",
   "execution_count": 63,
   "id": "f5093324-c3dd-4d63-bc4c-8d945e5c8bbb",
   "metadata": {
    "execution": {
     "iopub.execute_input": "2025-07-28T11:03:20.315303Z",
     "iopub.status.busy": "2025-07-28T11:03:20.314328Z",
     "iopub.status.idle": "2025-07-28T11:03:20.322305Z",
     "shell.execute_reply": "2025-07-28T11:03:20.321274Z"
    },
    "papermill": {
     "duration": 0.035903,
     "end_time": "2025-07-28T11:03:20.324095",
     "exception": false,
     "start_time": "2025-07-28T11:03:20.288192",
     "status": "completed"
    },
    "tags": []
   },
   "outputs": [],
   "source": [
    "for subgroup, cov in cond_coverage.items():\n",
    "    cp_metrics_df[f\"cov_{subgroup}\"] = cov"
   ]
  },
  {
   "cell_type": "code",
   "execution_count": 64,
   "id": "6e872e10-dbe5-49e8-b554-5030c98ff75d",
   "metadata": {
    "execution": {
     "iopub.execute_input": "2025-07-28T11:03:20.375597Z",
     "iopub.status.busy": "2025-07-28T11:03:20.374632Z",
     "iopub.status.idle": "2025-07-28T11:03:20.395332Z",
     "shell.execute_reply": "2025-07-28T11:03:20.394210Z"
    },
    "papermill": {
     "duration": 0.048291,
     "end_time": "2025-07-28T11:03:20.397133",
     "exception": false,
     "start_time": "2025-07-28T11:03:20.348842",
     "status": "completed"
    },
    "tags": []
   },
   "outputs": [
    {
     "data": {
      "text/html": [
       "<div>\n",
       "<style scoped>\n",
       "    .dataframe tbody tr th:only-of-type {\n",
       "        vertical-align: middle;\n",
       "    }\n",
       "\n",
       "    .dataframe tbody tr th {\n",
       "        vertical-align: top;\n",
       "    }\n",
       "\n",
       "    .dataframe thead th {\n",
       "        text-align: right;\n",
       "    }\n",
       "</style>\n",
       "<table border=\"1\" class=\"dataframe\">\n",
       "  <thead>\n",
       "    <tr style=\"text-align: right;\">\n",
       "      <th></th>\n",
       "      <th>universe_id</th>\n",
       "      <th>universe_training_size</th>\n",
       "      <th>universe_scale</th>\n",
       "      <th>universe_model</th>\n",
       "      <th>universe_exclude_features</th>\n",
       "      <th>universe_exclude_subgroups</th>\n",
       "      <th>q_hat</th>\n",
       "      <th>coverage</th>\n",
       "      <th>avg_size</th>\n",
       "      <th>cov_frau1</th>\n",
       "      <th>cov_nongerman</th>\n",
       "      <th>cov_nongerman_male</th>\n",
       "      <th>cov_nongerman_female</th>\n",
       "    </tr>\n",
       "  </thead>\n",
       "  <tbody>\n",
       "    <tr>\n",
       "      <th>0</th>\n",
       "      <td>e3a172e1fcb9eb0791b3e93ebeb0d559</td>\n",
       "      <td>2014</td>\n",
       "      <td>do-not-scale</td>\n",
       "      <td>logreg</td>\n",
       "      <td>none</td>\n",
       "      <td>drop-non-german</td>\n",
       "      <td>0.660226</td>\n",
       "      <td>0.912351</td>\n",
       "      <td>1.213131</td>\n",
       "      <td>0.911686</td>\n",
       "      <td>0.936002</td>\n",
       "      <td>0.947852</td>\n",
       "      <td>0.916393</td>\n",
       "    </tr>\n",
       "  </tbody>\n",
       "</table>\n",
       "</div>"
      ],
      "text/plain": [
       "                        universe_id universe_training_size universe_scale  \\\n",
       "0  e3a172e1fcb9eb0791b3e93ebeb0d559                   2014   do-not-scale   \n",
       "\n",
       "  universe_model universe_exclude_features universe_exclude_subgroups  \\\n",
       "0         logreg                      none            drop-non-german   \n",
       "\n",
       "      q_hat  coverage  avg_size  cov_frau1  cov_nongerman  cov_nongerman_male  \\\n",
       "0  0.660226  0.912351  1.213131   0.911686       0.936002            0.947852   \n",
       "\n",
       "   cov_nongerman_female  \n",
       "0              0.916393  "
      ]
     },
     "execution_count": 64,
     "metadata": {},
     "output_type": "execute_result"
    }
   ],
   "source": [
    "cp_metrics_df"
   ]
  },
  {
   "cell_type": "markdown",
   "id": "33774451",
   "metadata": {
    "papermill": {
     "duration": 0.025335,
     "end_time": "2025-07-28T11:03:20.449460",
     "exception": false,
     "start_time": "2025-07-28T11:03:20.424125",
     "status": "completed"
    },
    "tags": []
   },
   "source": [
    "# (Fairness) Metrics"
   ]
  },
  {
   "cell_type": "code",
   "execution_count": 65,
   "id": "debc5d62",
   "metadata": {
    "execution": {
     "iopub.execute_input": "2025-07-28T11:03:20.505572Z",
     "iopub.status.busy": "2025-07-28T11:03:20.504827Z",
     "iopub.status.idle": "2025-07-28T11:03:20.528764Z",
     "shell.execute_reply": "2025-07-28T11:03:20.527664Z"
    },
    "papermill": {
     "duration": 0.052757,
     "end_time": "2025-07-28T11:03:20.530852",
     "exception": false,
     "start_time": "2025-07-28T11:03:20.478095",
     "status": "completed"
    },
    "tags": []
   },
   "outputs": [],
   "source": [
    "# do I need to include maxdeutsch1.missing?\n",
    "\n",
    "import numpy as np\n",
    "\n",
    "colname_to_bin = \"maxdeutsch1\"\n",
    "majority_value = org_train[colname_to_bin].mode()[0]\n",
    "\n",
    "org_test[\"majmin\"] = np.where(org_test[colname_to_bin] == majority_value, \"majority\", \"minority\")"
   ]
  },
  {
   "cell_type": "code",
   "execution_count": 66,
   "id": "06a50de5",
   "metadata": {
    "execution": {
     "iopub.execute_input": "2025-07-28T11:03:20.584592Z",
     "iopub.status.busy": "2025-07-28T11:03:20.583919Z",
     "iopub.status.idle": "2025-07-28T11:03:23.629297Z",
     "shell.execute_reply": "2025-07-28T11:03:23.628127Z"
    },
    "papermill": {
     "duration": 3.075217,
     "end_time": "2025-07-28T11:03:23.631503",
     "exception": false,
     "start_time": "2025-07-28T11:03:20.556286",
     "status": "completed"
    },
    "tags": []
   },
   "outputs": [],
   "source": [
    "example_universe = universe.copy()\n",
    "example_universe[\"cutoff\"] = example_universe[\"cutoff\"][0]\n",
    "example_universe[\"eval_fairness_grouping\"] = example_universe[\"eval_fairness_grouping\"][0]\n",
    "fairness_dict, metric_frame = universe_analysis.compute_metrics(\n",
    "    example_universe,\n",
    "    y_pred_prob=probs_test,\n",
    "    y_test=y_true,\n",
    "    org_test=org_test,\n",
    ")"
   ]
  },
  {
   "cell_type": "markdown",
   "id": "f95d4e02",
   "metadata": {
    "papermill": {
     "duration": 0.026671,
     "end_time": "2025-07-28T11:03:23.687681",
     "exception": false,
     "start_time": "2025-07-28T11:03:23.661010",
     "status": "completed"
    },
    "tags": []
   },
   "source": [
    "# Overall"
   ]
  },
  {
   "cell_type": "markdown",
   "id": "bdee4871",
   "metadata": {
    "papermill": {
     "duration": 0.027842,
     "end_time": "2025-07-28T11:03:23.742001",
     "exception": false,
     "start_time": "2025-07-28T11:03:23.714159",
     "status": "completed"
    },
    "tags": []
   },
   "source": [
    "Fairness\n",
    "Main fairness target: Equalized Odds. Seems to be a better fit than equal opportunity, since we're not only interested in Y = 1. Seems to be a better fit than demographic parity, since we also care about accuracy, not just equal distribution of preds.\n",
    "\n",
    "Pick column for computation of fairness metrics\n",
    "\n",
    "Performance\n",
    "Overall performance measures, most interesting in relation to the measures split by group below"
   ]
  },
  {
   "cell_type": "code",
   "execution_count": 67,
   "id": "c4e067c6",
   "metadata": {
    "execution": {
     "iopub.execute_input": "2025-07-28T11:03:23.797100Z",
     "iopub.status.busy": "2025-07-28T11:03:23.796578Z",
     "iopub.status.idle": "2025-07-28T11:03:23.805665Z",
     "shell.execute_reply": "2025-07-28T11:03:23.804778Z"
    },
    "papermill": {
     "duration": 0.037557,
     "end_time": "2025-07-28T11:03:23.807247",
     "exception": false,
     "start_time": "2025-07-28T11:03:23.769690",
     "status": "completed"
    },
    "tags": []
   },
   "outputs": [
    {
     "data": {
      "text/plain": [
       "accuracy                   0.217824\n",
       "balanced accuracy          0.533982\n",
       "f1                         0.239336\n",
       "precision                  0.136725\n",
       "false positive rate        0.891282\n",
       "false negative rate        0.040754\n",
       "selection rate             0.900000\n",
       "count                  89710.000000\n",
       "dtype: float64"
      ]
     },
     "execution_count": 67,
     "metadata": {},
     "output_type": "execute_result"
    }
   ],
   "source": [
    "metric_frame.overall"
   ]
  },
  {
   "cell_type": "markdown",
   "id": "e968fe9d",
   "metadata": {
    "papermill": {
     "duration": 0.027786,
     "end_time": "2025-07-28T11:03:23.860295",
     "exception": false,
     "start_time": "2025-07-28T11:03:23.832509",
     "status": "completed"
    },
    "tags": []
   },
   "source": [
    "By Group"
   ]
  },
  {
   "cell_type": "code",
   "execution_count": 68,
   "id": "ec325bce",
   "metadata": {
    "execution": {
     "iopub.execute_input": "2025-07-28T11:03:23.924150Z",
     "iopub.status.busy": "2025-07-28T11:03:23.923380Z",
     "iopub.status.idle": "2025-07-28T11:03:23.945216Z",
     "shell.execute_reply": "2025-07-28T11:03:23.944019Z"
    },
    "papermill": {
     "duration": 0.057789,
     "end_time": "2025-07-28T11:03:23.947062",
     "exception": false,
     "start_time": "2025-07-28T11:03:23.889273",
     "status": "completed"
    },
    "tags": []
   },
   "outputs": [
    {
     "data": {
      "text/html": [
       "<div>\n",
       "<style scoped>\n",
       "    .dataframe tbody tr th:only-of-type {\n",
       "        vertical-align: middle;\n",
       "    }\n",
       "\n",
       "    .dataframe tbody tr th {\n",
       "        vertical-align: top;\n",
       "    }\n",
       "\n",
       "    .dataframe thead th {\n",
       "        text-align: right;\n",
       "    }\n",
       "</style>\n",
       "<table border=\"1\" class=\"dataframe\">\n",
       "  <thead>\n",
       "    <tr style=\"text-align: right;\">\n",
       "      <th></th>\n",
       "      <th>accuracy</th>\n",
       "      <th>balanced accuracy</th>\n",
       "      <th>f1</th>\n",
       "      <th>precision</th>\n",
       "      <th>false positive rate</th>\n",
       "      <th>false negative rate</th>\n",
       "      <th>selection rate</th>\n",
       "      <th>count</th>\n",
       "    </tr>\n",
       "    <tr>\n",
       "      <th>majmin</th>\n",
       "      <th></th>\n",
       "      <th></th>\n",
       "      <th></th>\n",
       "      <th></th>\n",
       "      <th></th>\n",
       "      <th></th>\n",
       "      <th></th>\n",
       "      <th></th>\n",
       "    </tr>\n",
       "  </thead>\n",
       "  <tbody>\n",
       "    <tr>\n",
       "      <th>majority</th>\n",
       "      <td>0.240075</td>\n",
       "      <td>0.541873</td>\n",
       "      <td>0.248742</td>\n",
       "      <td>0.143059</td>\n",
       "      <td>0.868333</td>\n",
       "      <td>0.047921</td>\n",
       "      <td>0.879399</td>\n",
       "      <td>69170.0</td>\n",
       "    </tr>\n",
       "    <tr>\n",
       "      <th>minority</th>\n",
       "      <td>0.142892</td>\n",
       "      <td>0.509908</td>\n",
       "      <td>0.209794</td>\n",
       "      <td>0.117372</td>\n",
       "      <td>0.967092</td>\n",
       "      <td>0.013091</td>\n",
       "      <td>0.969377</td>\n",
       "      <td>20540.0</td>\n",
       "    </tr>\n",
       "  </tbody>\n",
       "</table>\n",
       "</div>"
      ],
      "text/plain": [
       "          accuracy  balanced accuracy        f1  precision  \\\n",
       "majmin                                                       \n",
       "majority  0.240075           0.541873  0.248742   0.143059   \n",
       "minority  0.142892           0.509908  0.209794   0.117372   \n",
       "\n",
       "          false positive rate  false negative rate  selection rate    count  \n",
       "majmin                                                                       \n",
       "majority             0.868333             0.047921        0.879399  69170.0  \n",
       "minority             0.967092             0.013091        0.969377  20540.0  "
      ]
     },
     "execution_count": 68,
     "metadata": {},
     "output_type": "execute_result"
    }
   ],
   "source": [
    "metric_frame.by_group"
   ]
  },
  {
   "cell_type": "code",
   "execution_count": 69,
   "id": "a9ddbe63",
   "metadata": {
    "execution": {
     "iopub.execute_input": "2025-07-28T11:03:24.004386Z",
     "iopub.status.busy": "2025-07-28T11:03:24.003579Z",
     "iopub.status.idle": "2025-07-28T11:03:26.537335Z",
     "shell.execute_reply": "2025-07-28T11:03:26.536475Z"
    },
    "papermill": {
     "duration": 2.564265,
     "end_time": "2025-07-28T11:03:26.539465",
     "exception": false,
     "start_time": "2025-07-28T11:03:23.975200",
     "status": "completed"
    },
    "tags": []
   },
   "outputs": [
    {
     "data": {
      "text/plain": [
       "array([[<Axes: title={'center': 'accuracy'}, xlabel='majmin'>,\n",
       "        <Axes: title={'center': 'balanced accuracy'}, xlabel='majmin'>,\n",
       "        <Axes: title={'center': 'f1'}, xlabel='majmin'>],\n",
       "       [<Axes: title={'center': 'precision'}, xlabel='majmin'>,\n",
       "        <Axes: title={'center': 'false positive rate'}, xlabel='majmin'>,\n",
       "        <Axes: title={'center': 'false negative rate'}, xlabel='majmin'>],\n",
       "       [<Axes: title={'center': 'selection rate'}, xlabel='majmin'>,\n",
       "        <Axes: title={'center': 'count'}, xlabel='majmin'>,\n",
       "        <Axes: xlabel='majmin'>]], dtype=object)"
      ]
     },
     "execution_count": 69,
     "metadata": {},
     "output_type": "execute_result"
    },
    {
     "data": {
      "image/png": "[encoded data removed]",
      "text/plain": [
       "<Figure size 1200x800 with 9 Axes>"
      ]
     },
     "metadata": {},
     "output_type": "display_data"
    }
   ],
   "source": [
    "# In a graphic\n",
    "metric_frame.by_group.plot.bar(\n",
    "    subplots=True,\n",
    "    layout=[3, 3],\n",
    "    legend=False,\n",
    "    figsize=[12, 8],\n",
    "    title=\"Show all metrics\",\n",
    ")"
   ]
  },
  {
   "cell_type": "markdown",
   "id": "f57a0bac",
   "metadata": {
    "papermill": {
     "duration": 0.030295,
     "end_time": "2025-07-28T11:03:26.598577",
     "exception": false,
     "start_time": "2025-07-28T11:03:26.568282",
     "status": "completed"
    },
    "tags": []
   },
   "source": [
    "# Final Output"
   ]
  },
  {
   "cell_type": "code",
   "execution_count": 70,
   "id": "96d280a3",
   "metadata": {
    "execution": {
     "iopub.execute_input": "2025-07-28T11:03:26.636674Z",
     "iopub.status.busy": "2025-07-28T11:03:26.635390Z",
     "iopub.status.idle": "2025-07-28T11:03:26.645029Z",
     "shell.execute_reply": "2025-07-28T11:03:26.643956Z"
    },
    "papermill": {
     "duration": 0.029216,
     "end_time": "2025-07-28T11:03:26.646632",
     "exception": false,
     "start_time": "2025-07-28T11:03:26.617416",
     "status": "completed"
    },
    "tags": []
   },
   "outputs": [
    {
     "data": {
      "text/plain": [
       "4"
      ]
     },
     "execution_count": 70,
     "metadata": {},
     "output_type": "execute_result"
    }
   ],
   "source": [
    "sub_universes = universe_analysis.generate_sub_universes()\n",
    "len(sub_universes)"
   ]
  },
  {
   "cell_type": "code",
   "execution_count": 71,
   "id": "92adf7ba",
   "metadata": {
    "execution": {
     "iopub.execute_input": "2025-07-28T11:03:26.681746Z",
     "iopub.status.busy": "2025-07-28T11:03:26.681227Z",
     "iopub.status.idle": "2025-07-28T11:03:26.687492Z",
     "shell.execute_reply": "2025-07-28T11:03:26.686535Z"
    },
    "papermill": {
     "duration": 0.027165,
     "end_time": "2025-07-28T11:03:26.689588",
     "exception": false,
     "start_time": "2025-07-28T11:03:26.662423",
     "status": "completed"
    },
    "tags": []
   },
   "outputs": [],
   "source": [
    "def filter_sub_universe_data(sub_universe, org_test):\n",
    "    # Keep all rows — no filtering\n",
    "    keep_rows_mask = np.ones(org_test.shape[0], dtype=bool)\n",
    "\n",
    "    print(f\"[INFO] Keeping all rows: {keep_rows_mask.sum()} rows retained.\")\n",
    "    return keep_rows_mask"
   ]
  },
  {
   "cell_type": "code",
   "execution_count": 72,
   "id": "4a759155",
   "metadata": {
    "execution": {
     "iopub.execute_input": "2025-07-28T11:03:26.750419Z",
     "iopub.status.busy": "2025-07-28T11:03:26.750038Z",
     "iopub.status.idle": "2025-07-28T11:03:37.720211Z",
     "shell.execute_reply": "2025-07-28T11:03:37.719053Z"
    },
    "papermill": {
     "duration": 11.001509,
     "end_time": "2025-07-28T11:03:37.722052",
     "exception": false,
     "start_time": "2025-07-28T11:03:26.720543",
     "status": "completed"
    },
    "tags": []
   },
   "outputs": [
    {
     "name": "stdout",
     "output_type": "stream",
     "text": [
      "Stopping execution_time clock.\n",
      "[INFO] Keeping all rows: 89710 rows retained.\n"
     ]
    },
    {
     "name": "stdout",
     "output_type": "stream",
     "text": [
      "[INFO] Keeping all rows: 89710 rows retained.\n"
     ]
    },
    {
     "name": "stdout",
     "output_type": "stream",
     "text": [
      "[INFO] Keeping all rows: 89710 rows retained.\n"
     ]
    },
    {
     "name": "stdout",
     "output_type": "stream",
     "text": [
      "[INFO] Keeping all rows: 89710 rows retained.\n"
     ]
    },
    {
     "data": {
      "text/html": [
       "<div>\n",
       "<style scoped>\n",
       "    .dataframe tbody tr th:only-of-type {\n",
       "        vertical-align: middle;\n",
       "    }\n",
       "\n",
       "    .dataframe tbody tr th {\n",
       "        vertical-align: top;\n",
       "    }\n",
       "\n",
       "    .dataframe thead th {\n",
       "        text-align: right;\n",
       "    }\n",
       "</style>\n",
       "<table border=\"1\" class=\"dataframe\">\n",
       "  <thead>\n",
       "    <tr style=\"text-align: right;\">\n",
       "      <th></th>\n",
       "      <th>run_no</th>\n",
       "      <th>universe_id</th>\n",
       "      <th>universe_settings</th>\n",
       "      <th>execution_time</th>\n",
       "      <th>test_size_n</th>\n",
       "      <th>test_size_frac</th>\n",
       "      <th>fair_main_equalized_odds_difference</th>\n",
       "      <th>fair_main_equalized_odds_ratio</th>\n",
       "      <th>fair_main_demographic_parity_difference</th>\n",
       "      <th>fair_main_demographic_parity_ratio</th>\n",
       "      <th>...</th>\n",
       "      <th>perf_grp_precision_0</th>\n",
       "      <th>perf_grp_precision_1</th>\n",
       "      <th>perf_grp_false positive rate_0</th>\n",
       "      <th>perf_grp_false positive rate_1</th>\n",
       "      <th>perf_grp_false negative rate_0</th>\n",
       "      <th>perf_grp_false negative rate_1</th>\n",
       "      <th>perf_grp_selection rate_0</th>\n",
       "      <th>perf_grp_selection rate_1</th>\n",
       "      <th>perf_grp_count_0</th>\n",
       "      <th>perf_grp_count_1</th>\n",
       "    </tr>\n",
       "  </thead>\n",
       "  <tbody>\n",
       "    <tr>\n",
       "      <th>0</th>\n",
       "      <td>11</td>\n",
       "      <td>e3a172e1fcb9eb0791b3e93ebeb0d559</td>\n",
       "      <td>{\"cutoff\": \"quantile_0.1\", \"eval_fairness_grou...</td>\n",
       "      <td>30.538809</td>\n",
       "      <td>89710</td>\n",
       "      <td>1.0</td>\n",
       "      <td>0.098760</td>\n",
       "      <td>0.89788</td>\n",
       "      <td>0.089978</td>\n",
       "      <td>0.907179</td>\n",
       "      <td>...</td>\n",
       "      <td>NaN</td>\n",
       "      <td>NaN</td>\n",
       "      <td>NaN</td>\n",
       "      <td>NaN</td>\n",
       "      <td>NaN</td>\n",
       "      <td>NaN</td>\n",
       "      <td>NaN</td>\n",
       "      <td>NaN</td>\n",
       "      <td>NaN</td>\n",
       "      <td>NaN</td>\n",
       "    </tr>\n",
       "    <tr>\n",
       "      <th>0</th>\n",
       "      <td>11</td>\n",
       "      <td>e3a172e1fcb9eb0791b3e93ebeb0d559</td>\n",
       "      <td>{\"cutoff\": \"quantile_0.1\", \"eval_fairness_grou...</td>\n",
       "      <td>30.538809</td>\n",
       "      <td>89710</td>\n",
       "      <td>1.0</td>\n",
       "      <td>0.098760</td>\n",
       "      <td>0.89788</td>\n",
       "      <td>0.089978</td>\n",
       "      <td>0.907179</td>\n",
       "      <td>...</td>\n",
       "      <td>0.117372</td>\n",
       "      <td>0.143059</td>\n",
       "      <td>0.967092</td>\n",
       "      <td>0.868333</td>\n",
       "      <td>0.013091</td>\n",
       "      <td>0.047921</td>\n",
       "      <td>0.969377</td>\n",
       "      <td>0.879399</td>\n",
       "      <td>20540.0</td>\n",
       "      <td>69170.0</td>\n",
       "    </tr>\n",
       "    <tr>\n",
       "      <th>0</th>\n",
       "      <td>11</td>\n",
       "      <td>e3a172e1fcb9eb0791b3e93ebeb0d559</td>\n",
       "      <td>{\"cutoff\": \"quantile_0.25\", \"eval_fairness_gro...</td>\n",
       "      <td>30.538809</td>\n",
       "      <td>89710</td>\n",
       "      <td>1.0</td>\n",
       "      <td>0.221182</td>\n",
       "      <td>0.75429</td>\n",
       "      <td>0.202948</td>\n",
       "      <td>0.776113</td>\n",
       "      <td>...</td>\n",
       "      <td>NaN</td>\n",
       "      <td>NaN</td>\n",
       "      <td>NaN</td>\n",
       "      <td>NaN</td>\n",
       "      <td>NaN</td>\n",
       "      <td>NaN</td>\n",
       "      <td>NaN</td>\n",
       "      <td>NaN</td>\n",
       "      <td>NaN</td>\n",
       "      <td>NaN</td>\n",
       "    </tr>\n",
       "    <tr>\n",
       "      <th>0</th>\n",
       "      <td>11</td>\n",
       "      <td>e3a172e1fcb9eb0791b3e93ebeb0d559</td>\n",
       "      <td>{\"cutoff\": \"quantile_0.25\", \"eval_fairness_gro...</td>\n",
       "      <td>30.538809</td>\n",
       "      <td>89710</td>\n",
       "      <td>1.0</td>\n",
       "      <td>0.221182</td>\n",
       "      <td>0.75429</td>\n",
       "      <td>0.202948</td>\n",
       "      <td>0.776113</td>\n",
       "      <td>...</td>\n",
       "      <td>0.121435</td>\n",
       "      <td>0.162403</td>\n",
       "      <td>0.900176</td>\n",
       "      <td>0.678994</td>\n",
       "      <td>0.045186</td>\n",
       "      <td>0.135339</td>\n",
       "      <td>0.906475</td>\n",
       "      <td>0.703528</td>\n",
       "      <td>20540.0</td>\n",
       "      <td>69170.0</td>\n",
       "    </tr>\n",
       "  </tbody>\n",
       "</table>\n",
       "<p>4 rows × 50 columns</p>\n",
       "</div>"
      ],
      "text/plain": [
       "  run_no                       universe_id  \\\n",
       "0     11  e3a172e1fcb9eb0791b3e93ebeb0d559   \n",
       "0     11  e3a172e1fcb9eb0791b3e93ebeb0d559   \n",
       "0     11  e3a172e1fcb9eb0791b3e93ebeb0d559   \n",
       "0     11  e3a172e1fcb9eb0791b3e93ebeb0d559   \n",
       "\n",
       "                                   universe_settings  execution_time  \\\n",
       "0  {\"cutoff\": \"quantile_0.1\", \"eval_fairness_grou...       30.538809   \n",
       "0  {\"cutoff\": \"quantile_0.1\", \"eval_fairness_grou...       30.538809   \n",
       "0  {\"cutoff\": \"quantile_0.25\", \"eval_fairness_gro...       30.538809   \n",
       "0  {\"cutoff\": \"quantile_0.25\", \"eval_fairness_gro...       30.538809   \n",
       "\n",
       "   test_size_n  test_size_frac  fair_main_equalized_odds_difference  \\\n",
       "0        89710             1.0                             0.098760   \n",
       "0        89710             1.0                             0.098760   \n",
       "0        89710             1.0                             0.221182   \n",
       "0        89710             1.0                             0.221182   \n",
       "\n",
       "   fair_main_equalized_odds_ratio  fair_main_demographic_parity_difference  \\\n",
       "0                         0.89788                                 0.089978   \n",
       "0                         0.89788                                 0.089978   \n",
       "0                         0.75429                                 0.202948   \n",
       "0                         0.75429                                 0.202948   \n",
       "\n",
       "   fair_main_demographic_parity_ratio  ...  perf_grp_precision_0  \\\n",
       "0                            0.907179  ...                   NaN   \n",
       "0                            0.907179  ...              0.117372   \n",
       "0                            0.776113  ...                   NaN   \n",
       "0                            0.776113  ...              0.121435   \n",
       "\n",
       "   perf_grp_precision_1  perf_grp_false positive rate_0  \\\n",
       "0                   NaN                             NaN   \n",
       "0              0.143059                        0.967092   \n",
       "0                   NaN                             NaN   \n",
       "0              0.162403                        0.900176   \n",
       "\n",
       "   perf_grp_false positive rate_1  perf_grp_false negative rate_0  \\\n",
       "0                             NaN                             NaN   \n",
       "0                        0.868333                        0.013091   \n",
       "0                             NaN                             NaN   \n",
       "0                        0.678994                        0.045186   \n",
       "\n",
       "   perf_grp_false negative rate_1  perf_grp_selection rate_0  \\\n",
       "0                             NaN                        NaN   \n",
       "0                        0.047921                   0.969377   \n",
       "0                             NaN                        NaN   \n",
       "0                        0.135339                   0.906475   \n",
       "\n",
       "   perf_grp_selection rate_1  perf_grp_count_0  perf_grp_count_1  \n",
       "0                        NaN               NaN               NaN  \n",
       "0                   0.879399           20540.0           69170.0  \n",
       "0                        NaN               NaN               NaN  \n",
       "0                   0.703528           20540.0           69170.0  \n",
       "\n",
       "[4 rows x 50 columns]"
      ]
     },
     "execution_count": 72,
     "metadata": {},
     "output_type": "execute_result"
    }
   ],
   "source": [
    "final_output = universe_analysis.generate_final_output(\n",
    "    y_pred_prob=probs_test,\n",
    "    y_test=y_true,\n",
    "    org_test=org_test,\n",
    "    filter_data=filter_sub_universe_data,\n",
    "    cp_metrics_df=cp_metrics_df,\n",
    "    save=True,\n",
    ")\n",
    "final_output"
   ]
  },
  {
   "cell_type": "code",
   "execution_count": null,
   "id": "721ff514-cb11-46f8-b6fc-50392f74b5cb",
   "metadata": {
    "papermill": {
     "duration": 0.029831,
     "end_time": "2025-07-28T11:03:37.785848",
     "exception": false,
     "start_time": "2025-07-28T11:03:37.756017",
     "status": "completed"
    },
    "tags": []
   },
   "outputs": [],
   "source": []
  }
 ],
 "metadata": {
  "celltoolbar": "Tags",
  "kernelspec": {
   "display_name": "Python (CMA Fairness)",
   "language": "python",
   "name": "cma_fair_env"
  },
  "language_info": {
   "codemirror_mode": {
    "name": "ipython",
    "version": 3
   },
   "file_extension": ".py",
   "mimetype": "text/x-python",
   "name": "python",
   "nbconvert_exporter": "python",
   "pygments_lexer": "ipython3",
   "version": "3.10.12"
  },
  "papermill": {
   "default_parameters": {},
   "duration": 46.125095,
   "end_time": "2025-07-28T11:03:38.634737",
   "environment_variables": {},
   "exception": null,
   "input_path": "universe_analysis.ipynb",
   "output_path": "output/runs/11/notebooks/m_11-e3a172e1fcb9eb0791b3e93ebeb0d559.ipynb",
   "parameters": {
    "output_dir": "output",
    "run_no": "11",
    "seed": "2023",
    "universe": "{\"cutoff\": [\"quantile_0.1\", \"quantile_0.25\"], \"eval_fairness_grouping\": [\"majority-minority\", \"nationality-all\"], \"exclude_features\": \"none\", \"exclude_subgroups\": \"drop-non-german\", \"model\": \"logreg\", \"scale\": \"do-not-scale\", \"training_size\": \"2014\"}",
    "universe_id": "e3a172e1fcb9eb0791b3e93ebeb0d559"
   },
   "start_time": "2025-07-28T11:02:52.509642",
   "version": "2.6.0"
  }
 },
 "nbformat": 4,
 "nbformat_minor": 5
}