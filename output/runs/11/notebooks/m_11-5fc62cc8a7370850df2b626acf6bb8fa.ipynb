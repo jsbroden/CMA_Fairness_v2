{
 "cells": [
  {
   "cell_type": "code",
   "execution_count": 1,
   "id": "f159f837-637b-42ba-96b5-ec9a68c44524",
   "metadata": {
    "execution": {
     "iopub.execute_input": "2025-07-28T11:01:49.418127Z",
     "iopub.status.busy": "2025-07-28T11:01:49.417387Z",
     "iopub.status.idle": "2025-07-28T11:01:49.431510Z",
     "shell.execute_reply": "2025-07-28T11:01:49.430546Z"
    },
    "papermill": {
     "duration": 0.036968,
     "end_time": "2025-07-28T11:01:49.433327",
     "exception": false,
     "start_time": "2025-07-28T11:01:49.396359",
     "status": "completed"
    },
    "tags": []
   },
   "outputs": [
    {
     "name": "stdout",
     "output_type": "stream",
     "text": [
      "/dss/dsshome1/0C/ra93lal2/cma/CMA_Fairness_v2\n"
     ]
    },
    {
     "name": "stderr",
     "output_type": "stream",
     "text": [
      "/dss/dsshome1/0C/ra93lal2/.local/share/virtualenvs/CMA_Fairness_v2-3j10GkSs/lib/python3.10/site-packages/IPython/core/magics/osm.py:393: UserWarning: This is now an optional IPython functionality, using bookmarks requires you to install the `pickleshare` library.\n",
      "  bkms = self.shell.db.get('bookmarks', {})\n",
      "/dss/dsshome1/0C/ra93lal2/.local/share/virtualenvs/CMA_Fairness_v2-3j10GkSs/lib/python3.10/site-packages/IPython/core/magics/osm.py:417: UserWarning: This is now an optional IPython functionality, setting dhist requires you to install the `pickleshare` library.\n",
      "  self.shell.db['dhist'] = compress_dhist(dhist)[-100:]\n"
     ]
    }
   ],
   "source": [
    "%cd ~/cma/CMA_Fairness_v2"
   ]
  },
  {
   "cell_type": "markdown",
   "id": "de2603b9",
   "metadata": {
    "papermill": {
     "duration": 0.021537,
     "end_time": "2025-07-28T11:01:49.476740",
     "exception": false,
     "start_time": "2025-07-28T11:01:49.455203",
     "status": "completed"
    },
    "tags": []
   },
   "source": [
    "The following cell holds the definition of our parameters, these values can be overriden by rendering the with e.g. the following command:\n",
    "\n",
    "papermill -p alpha 0.2 -p ratio 0.3 universe_analysis.ipynb output/test_run.ipynb"
   ]
  },
  {
   "cell_type": "code",
   "execution_count": 2,
   "id": "a80968a0-40bb-4fa9-85ef-2d5eefb01975",
   "metadata": {
    "execution": {
     "iopub.execute_input": "2025-07-28T11:01:49.521522Z",
     "iopub.status.busy": "2025-07-28T11:01:49.521016Z",
     "iopub.status.idle": "2025-07-28T11:01:49.527026Z",
     "shell.execute_reply": "2025-07-28T11:01:49.525982Z"
    },
    "papermill": {
     "duration": 0.030662,
     "end_time": "2025-07-28T11:01:49.528858",
     "exception": false,
     "start_time": "2025-07-28T11:01:49.498196",
     "status": "completed"
    },
    "tags": []
   },
   "outputs": [
    {
     "name": "stdout",
     "output_type": "stream",
     "text": [
      "Current working directory: /dss/dsshome1/0C/ra93lal2/cma/CMA_Fairness_v2\n"
     ]
    }
   ],
   "source": [
    "import os\n",
    "print(\"Current working directory:\", os.getcwd())"
   ]
  },
  {
   "cell_type": "code",
   "execution_count": 3,
   "id": "2dce4c03",
   "metadata": {
    "execution": {
     "iopub.execute_input": "2025-07-28T11:01:49.574569Z",
     "iopub.status.busy": "2025-07-28T11:01:49.573866Z",
     "iopub.status.idle": "2025-07-28T11:01:49.580968Z",
     "shell.execute_reply": "2025-07-28T11:01:49.579940Z"
    },
    "papermill": {
     "duration": 0.031958,
     "end_time": "2025-07-28T11:01:49.582928",
     "exception": false,
     "start_time": "2025-07-28T11:01:49.550970",
     "status": "completed"
    },
    "tags": [
     "parameters"
    ]
   },
   "outputs": [],
   "source": [
    "run_no = 0\n",
    "universe_id = \"test\"\n",
    "universe = {\n",
    "    \"training_size\": \"2014\", # \"25k\", \"5k\", \"1k\", \"2014\"\n",
    "    \"scale\": \"scale\", # \"scale\", \"do-not-scale\",\n",
    "    #\"stratify_split\": \"target\", # \"none\", \"target\", \"protected-attribute\", \"both\",\n",
    "    \"model\": \"elasticnet\", # \"logreg\", \"penalized_logreg\", \"rf\", \"gbm\", \"elasticnet\"\n",
    "    \"cutoff\": [\"quantile_0.15\", \"quantile_0.30\"],\n",
    "    \"exclude_features\": \"age\", # \"none\", \"nationality\", \"sex\", \"nationality-sex\", \"age\"\n",
    "    \"exclude_subgroups\": \"keep-all\", # \"keep-all\", \"drop-non-german\"\n",
    "    \"eval_fairness_grouping\": [\"majority-minority\", \"nationality-all\"]\n",
    "}\n",
    "\n",
    "output_dir=\"./output\"\n",
    "seed=0"
   ]
  },
  {
   "cell_type": "code",
   "execution_count": 4,
   "id": "d0e5f546",
   "metadata": {
    "execution": {
     "iopub.execute_input": "2025-07-28T11:01:49.625498Z",
     "iopub.status.busy": "2025-07-28T11:01:49.624756Z",
     "iopub.status.idle": "2025-07-28T11:01:49.630796Z",
     "shell.execute_reply": "2025-07-28T11:01:49.629824Z"
    },
    "papermill": {
     "duration": 0.02981,
     "end_time": "2025-07-28T11:01:49.632573",
     "exception": false,
     "start_time": "2025-07-28T11:01:49.602763",
     "status": "completed"
    },
    "tags": [
     "injected-parameters"
    ]
   },
   "outputs": [],
   "source": [
    "# Parameters\n",
    "universe_id = \"5fc62cc8a7370850df2b626acf6bb8fa\"\n",
    "run_no = \"11\"\n",
    "universe = \"{\\\"cutoff\\\": [\\\"quantile_0.1\\\", \\\"quantile_0.25\\\"], \\\"eval_fairness_grouping\\\": [\\\"majority-minority\\\", \\\"nationality-all\\\"], \\\"exclude_features\\\": \\\"sex\\\", \\\"exclude_subgroups\\\": \\\"drop-non-german\\\", \\\"model\\\": \\\"elasticnet\\\", \\\"scale\\\": \\\"scale\\\", \\\"training_size\\\": \\\"2014\\\"}\"\n",
    "output_dir = \"output\"\n",
    "seed = \"2023\"\n"
   ]
  },
  {
   "cell_type": "code",
   "execution_count": 5,
   "id": "1650acaf",
   "metadata": {
    "execution": {
     "iopub.execute_input": "2025-07-28T11:01:49.675406Z",
     "iopub.status.busy": "2025-07-28T11:01:49.674702Z",
     "iopub.status.idle": "2025-07-28T11:01:49.680190Z",
     "shell.execute_reply": "2025-07-28T11:01:49.679166Z"
    },
    "papermill": {
     "duration": 0.028943,
     "end_time": "2025-07-28T11:01:49.681992",
     "exception": false,
     "start_time": "2025-07-28T11:01:49.653049",
     "status": "completed"
    },
    "tags": []
   },
   "outputs": [],
   "source": [
    "import json\n",
    "# Parse universe into dict if it is passed as a string\n",
    "if isinstance(universe, str):\n",
    "    universe = json.loads(universe)"
   ]
  },
  {
   "cell_type": "code",
   "execution_count": 6,
   "id": "16620c48",
   "metadata": {
    "execution": {
     "iopub.execute_input": "2025-07-28T11:01:49.724988Z",
     "iopub.status.busy": "2025-07-28T11:01:49.724244Z",
     "iopub.status.idle": "2025-07-28T11:01:49.773559Z",
     "shell.execute_reply": "2025-07-28T11:01:49.772505Z"
    },
    "papermill": {
     "duration": 0.073086,
     "end_time": "2025-07-28T11:01:49.775640",
     "exception": false,
     "start_time": "2025-07-28T11:01:49.702554",
     "status": "completed"
    },
    "tags": []
   },
   "outputs": [],
   "source": [
    "# Auto-reload the custom package\n",
    "%load_ext autoreload\n",
    "%autoreload 1\n",
    "%aimport fairness_multiverse"
   ]
  },
  {
   "cell_type": "code",
   "execution_count": 7,
   "id": "01c5c9f3",
   "metadata": {
    "execution": {
     "iopub.execute_input": "2025-07-28T11:01:49.819126Z",
     "iopub.status.busy": "2025-07-28T11:01:49.818390Z",
     "iopub.status.idle": "2025-07-28T11:01:51.779131Z",
     "shell.execute_reply": "2025-07-28T11:01:51.778044Z"
    },
    "papermill": {
     "duration": 1.985129,
     "end_time": "2025-07-28T11:01:51.781539",
     "exception": false,
     "start_time": "2025-07-28T11:01:49.796410",
     "status": "completed"
    },
    "tags": []
   },
   "outputs": [],
   "source": [
    "from fairness_multiverse.universe import UniverseAnalysis\n",
    "\n",
    "universe_analysis = UniverseAnalysis(\n",
    "    run_no = run_no,\n",
    "    universe_id = universe_id,\n",
    "    universe = universe,\n",
    "    output_dir=output_dir,\n",
    ")"
   ]
  },
  {
   "cell_type": "code",
   "execution_count": 8,
   "id": "106241f5",
   "metadata": {
    "execution": {
     "iopub.execute_input": "2025-07-28T11:01:51.823309Z",
     "iopub.status.busy": "2025-07-28T11:01:51.822838Z",
     "iopub.status.idle": "2025-07-28T11:01:51.829348Z",
     "shell.execute_reply": "2025-07-28T11:01:51.828495Z"
    },
    "papermill": {
     "duration": 0.028904,
     "end_time": "2025-07-28T11:01:51.830869",
     "exception": false,
     "start_time": "2025-07-28T11:01:51.801965",
     "status": "completed"
    },
    "tags": []
   },
   "outputs": [
    {
     "name": "stdout",
     "output_type": "stream",
     "text": [
      "Using Seed: 2023\n"
     ]
    }
   ],
   "source": [
    "import numpy as np\n",
    "parsed_seed = int(seed)\n",
    "np.random.seed(parsed_seed)\n",
    "print(f\"Using Seed: {parsed_seed}\")"
   ]
  },
  {
   "cell_type": "markdown",
   "id": "e0ebdc57",
   "metadata": {
    "papermill": {
     "duration": 0.018805,
     "end_time": "2025-07-28T11:01:51.871327",
     "exception": false,
     "start_time": "2025-07-28T11:01:51.852522",
     "status": "completed"
    },
    "tags": []
   },
   "source": [
    "# Loading Data"
   ]
  },
  {
   "cell_type": "markdown",
   "id": "681925a3",
   "metadata": {
    "papermill": {
     "duration": 0.01904,
     "end_time": "2025-07-28T11:01:51.909211",
     "exception": false,
     "start_time": "2025-07-28T11:01:51.890171",
     "status": "completed"
    },
    "tags": []
   },
   "source": [
    "Load siab_train, siab_test, siab_calib and/or \n",
    "load siab_train_features, siab_train_labels"
   ]
  },
  {
   "cell_type": "code",
   "execution_count": 9,
   "id": "f0496b8a",
   "metadata": {
    "execution": {
     "iopub.execute_input": "2025-07-28T11:01:51.948950Z",
     "iopub.status.busy": "2025-07-28T11:01:51.948482Z",
     "iopub.status.idle": "2025-07-28T11:02:03.410829Z",
     "shell.execute_reply": "2025-07-28T11:02:03.409497Z"
    },
    "papermill": {
     "duration": 11.484059,
     "end_time": "2025-07-28T11:02:03.412800",
     "exception": false,
     "start_time": "2025-07-28T11:01:51.928741",
     "status": "completed"
    },
    "tags": []
   },
   "outputs": [
    {
     "name": "stdout",
     "output_type": "stream",
     "text": [
      "Loading SIAB data from cache: data/siab_cached.csv.gz\n"
     ]
    },
    {
     "name": "stdout",
     "output_type": "stream",
     "text": [
      "(643690, 164)\n"
     ]
    }
   ],
   "source": [
    "from pathlib import Path\n",
    "import pandas as pd\n",
    "\n",
    "# File paths\n",
    "raw_file = Path(\"data/raw/siab.csv\")\n",
    "cache_file = Path(\"data/siab_cached.csv.gz\")\n",
    "\n",
    "# Ensure cache directory exists\n",
    "cache_file.parent.mkdir(parents=True, exist_ok=True)\n",
    "\n",
    "# Load with simple caching\n",
    "if cache_file.exists():\n",
    "    print(f\"Loading SIAB data from cache: {cache_file}\")\n",
    "    siab = pd.read_csv(cache_file, compression='gzip')\n",
    "else:\n",
    "    print(f\"Cache not found. Reading raw SIAB data: {raw_file}\")\n",
    "    siab = pd.read_csv(raw_file)\n",
    "    siab.to_csv(cache_file, index=False, compression='gzip')\n",
    "    print(f\"Cached SIAB data to: {cache_file}\")\n",
    "\n",
    "# Now use `siab` DataFrame as needed\n",
    "print(siab.shape)"
   ]
  },
  {
   "cell_type": "code",
   "execution_count": 10,
   "id": "db0ca512-5f53-4dba-abdb-a2888bca41ba",
   "metadata": {
    "execution": {
     "iopub.execute_input": "2025-07-28T11:02:03.458715Z",
     "iopub.status.busy": "2025-07-28T11:02:03.458145Z",
     "iopub.status.idle": "2025-07-28T11:02:03.464575Z",
     "shell.execute_reply": "2025-07-28T11:02:03.463608Z"
    },
    "papermill": {
     "duration": 0.029747,
     "end_time": "2025-07-28T11:02:03.466336",
     "exception": false,
     "start_time": "2025-07-28T11:02:03.436589",
     "status": "completed"
    },
    "tags": []
   },
   "outputs": [],
   "source": [
    "#siab"
   ]
  },
  {
   "cell_type": "code",
   "execution_count": 11,
   "id": "a0edb063",
   "metadata": {
    "execution": {
     "iopub.execute_input": "2025-07-28T11:02:03.509177Z",
     "iopub.status.busy": "2025-07-28T11:02:03.508426Z",
     "iopub.status.idle": "2025-07-28T11:02:03.514040Z",
     "shell.execute_reply": "2025-07-28T11:02:03.513081Z"
    },
    "papermill": {
     "duration": 0.02857,
     "end_time": "2025-07-28T11:02:03.515668",
     "exception": false,
     "start_time": "2025-07-28T11:02:03.487098",
     "status": "completed"
    },
    "tags": []
   },
   "outputs": [],
   "source": [
    "#import pandas as pd\n",
    "#\n",
    "#X_train = pd.read_csv(\"./data/X_train.csv\")\n",
    "#y_train = pd.read_csv(\"./data/y_train.csv\")"
   ]
  },
  {
   "cell_type": "code",
   "execution_count": 12,
   "id": "63d08085",
   "metadata": {
    "execution": {
     "iopub.execute_input": "2025-07-28T11:02:03.558266Z",
     "iopub.status.busy": "2025-07-28T11:02:03.557290Z",
     "iopub.status.idle": "2025-07-28T11:02:03.562652Z",
     "shell.execute_reply": "2025-07-28T11:02:03.561604Z"
    },
    "papermill": {
     "duration": 0.028748,
     "end_time": "2025-07-28T11:02:03.564600",
     "exception": false,
     "start_time": "2025-07-28T11:02:03.535852",
     "status": "completed"
    },
    "tags": []
   },
   "outputs": [],
   "source": [
    "#X_test = pd.read_csv(\"./data/X_test.csv\")\n",
    "#y_true = pd.read_csv(\"./data/y_test.csv\")"
   ]
  },
  {
   "cell_type": "code",
   "execution_count": 13,
   "id": "98a8d0fa-1d3d-4ed8-bb2c-281470e24add",
   "metadata": {
    "execution": {
     "iopub.execute_input": "2025-07-28T11:02:03.606263Z",
     "iopub.status.busy": "2025-07-28T11:02:03.605498Z",
     "iopub.status.idle": "2025-07-28T11:02:03.611317Z",
     "shell.execute_reply": "2025-07-28T11:02:03.610293Z"
    },
    "papermill": {
     "duration": 0.028182,
     "end_time": "2025-07-28T11:02:03.613041",
     "exception": false,
     "start_time": "2025-07-28T11:02:03.584859",
     "status": "completed"
    },
    "tags": []
   },
   "outputs": [],
   "source": [
    "# Calibration data for conformal\n",
    "#X_calib = pd.read_csv(\"./data/X_calib.csv\")\n",
    "#y_calib = pd.read_csv(\"./data/y_calib.csv\")"
   ]
  },
  {
   "cell_type": "markdown",
   "id": "9901737e-04df-44f0-9100-f5ad144ed040",
   "metadata": {
    "papermill": {
     "duration": 0.020204,
     "end_time": "2025-07-28T11:02:03.653849",
     "exception": false,
     "start_time": "2025-07-28T11:02:03.633645",
     "status": "completed"
    },
    "tags": []
   },
   "source": [
    "# Splitting Data and Setting Training Data Size"
   ]
  },
  {
   "cell_type": "code",
   "execution_count": 14,
   "id": "acbc8f7d-8fc8-4e86-8c59-5dcb0f58384b",
   "metadata": {
    "execution": {
     "iopub.execute_input": "2025-07-28T11:02:03.695764Z",
     "iopub.status.busy": "2025-07-28T11:02:03.695071Z",
     "iopub.status.idle": "2025-07-28T11:02:03.703602Z",
     "shell.execute_reply": "2025-07-28T11:02:03.702584Z"
    },
    "papermill": {
     "duration": 0.031756,
     "end_time": "2025-07-28T11:02:03.705522",
     "exception": false,
     "start_time": "2025-07-28T11:02:03.673766",
     "status": "completed"
    },
    "tags": []
   },
   "outputs": [],
   "source": [
    "def sample_by_year(df, training_size, random_state=42):\n",
    "    if training_size == \"2014\":\n",
    "        return df[df[\"year\"] == 2014].reset_index(drop=True)\n",
    "    \n",
    "    size_map = {\n",
    "        \"25k\": 5000,\n",
    "        \"5k\": 1000,\n",
    "        \"1k\": 200\n",
    "    }\n",
    "\n",
    "    if training_size not in size_map:\n",
    "        return df.reset_index(drop=True)  # use all data\n",
    "\n",
    "    n_per_year = size_map[training_size]\n",
    "    grouped = df.groupby(\"year\")\n",
    "    sampled = grouped.apply(lambda x: x.sample(n=min(n_per_year, len(x)), random_state=random_state))\n",
    "    return sampled.reset_index(drop=True)"
   ]
  },
  {
   "cell_type": "code",
   "execution_count": 15,
   "id": "6d931f52-beaf-43ff-9e78-9d44a448d54e",
   "metadata": {
    "execution": {
     "iopub.execute_input": "2025-07-28T11:02:03.748351Z",
     "iopub.status.busy": "2025-07-28T11:02:03.747643Z",
     "iopub.status.idle": "2025-07-28T11:02:03.930748Z",
     "shell.execute_reply": "2025-07-28T11:02:03.929690Z"
    },
    "papermill": {
     "duration": 0.206419,
     "end_time": "2025-07-28T11:02:03.932716",
     "exception": false,
     "start_time": "2025-07-28T11:02:03.726297",
     "status": "completed"
    },
    "tags": []
   },
   "outputs": [],
   "source": [
    "siab_s = sample_by_year(siab, universe[\"training_size\"])"
   ]
  },
  {
   "cell_type": "code",
   "execution_count": 16,
   "id": "5db0a40e-a4e2-4920-be85-b12ae061d70d",
   "metadata": {
    "execution": {
     "iopub.execute_input": "2025-07-28T11:02:03.975814Z",
     "iopub.status.busy": "2025-07-28T11:02:03.975163Z",
     "iopub.status.idle": "2025-07-28T11:02:03.993468Z",
     "shell.execute_reply": "2025-07-28T11:02:03.992446Z"
    },
    "papermill": {
     "duration": 0.041672,
     "end_time": "2025-07-28T11:02:03.995306",
     "exception": false,
     "start_time": "2025-07-28T11:02:03.953634",
     "status": "completed"
    },
    "tags": []
   },
   "outputs": [
    {
     "data": {
      "text/plain": [
       "year\n",
       "2014    87158\n",
       "dtype: int64"
      ]
     },
     "metadata": {},
     "output_type": "display_data"
    }
   ],
   "source": [
    "display(siab_s.groupby(\"year\").size())"
   ]
  },
  {
   "cell_type": "code",
   "execution_count": 17,
   "id": "a561edb4-d032-42cb-8256-22eac1111c64",
   "metadata": {
    "execution": {
     "iopub.execute_input": "2025-07-28T11:02:04.040721Z",
     "iopub.status.busy": "2025-07-28T11:02:04.039954Z",
     "iopub.status.idle": "2025-07-28T11:02:04.363839Z",
     "shell.execute_reply": "2025-07-28T11:02:04.362797Z"
    },
    "papermill": {
     "duration": 0.348016,
     "end_time": "2025-07-28T11:02:04.365978",
     "exception": false,
     "start_time": "2025-07-28T11:02:04.017962",
     "status": "completed"
    },
    "tags": []
   },
   "outputs": [],
   "source": [
    "siab_train = siab_s[siab_s.year < 2015]\n",
    "siab_calib = siab[siab.year == 2015]\n",
    "siab_test = siab[siab.year == 2016]"
   ]
  },
  {
   "cell_type": "code",
   "execution_count": 18,
   "id": "472de16f-c3db-4916-846b-1f0de9cf1746",
   "metadata": {
    "execution": {
     "iopub.execute_input": "2025-07-28T11:02:04.410510Z",
     "iopub.status.busy": "2025-07-28T11:02:04.409830Z",
     "iopub.status.idle": "2025-07-28T11:02:04.464665Z",
     "shell.execute_reply": "2025-07-28T11:02:04.463545Z"
    },
    "papermill": {
     "duration": 0.078415,
     "end_time": "2025-07-28T11:02:04.466472",
     "exception": false,
     "start_time": "2025-07-28T11:02:04.388057",
     "status": "completed"
    },
    "tags": []
   },
   "outputs": [],
   "source": [
    "X_train = siab_train.iloc[:,4:164]\n",
    "y_train = siab_train.iloc[:, [3]]"
   ]
  },
  {
   "cell_type": "code",
   "execution_count": 19,
   "id": "828c96af-f43a-4ed6-ba47-8ac73a47d56c",
   "metadata": {
    "execution": {
     "iopub.execute_input": "2025-07-28T11:02:04.511661Z",
     "iopub.status.busy": "2025-07-28T11:02:04.510732Z",
     "iopub.status.idle": "2025-07-28T11:02:04.564281Z",
     "shell.execute_reply": "2025-07-28T11:02:04.563196Z"
    },
    "papermill": {
     "duration": 0.077808,
     "end_time": "2025-07-28T11:02:04.565981",
     "exception": false,
     "start_time": "2025-07-28T11:02:04.488173",
     "status": "completed"
    },
    "tags": []
   },
   "outputs": [],
   "source": [
    "X_calib = siab_calib.iloc[:,4:164]\n",
    "y_calib = siab_calib.iloc[:, [3]]"
   ]
  },
  {
   "cell_type": "code",
   "execution_count": 20,
   "id": "c34be9c3-6bd6-476e-acd3-845840e303be",
   "metadata": {
    "execution": {
     "iopub.execute_input": "2025-07-28T11:02:04.608689Z",
     "iopub.status.busy": "2025-07-28T11:02:04.607952Z",
     "iopub.status.idle": "2025-07-28T11:02:04.662043Z",
     "shell.execute_reply": "2025-07-28T11:02:04.661014Z"
    },
    "papermill": {
     "duration": 0.077027,
     "end_time": "2025-07-28T11:02:04.663820",
     "exception": false,
     "start_time": "2025-07-28T11:02:04.586793",
     "status": "completed"
    },
    "tags": []
   },
   "outputs": [],
   "source": [
    "X_test = siab_test.iloc[:,4:164]\n",
    "y_true = siab_test.iloc[:, [3]]"
   ]
  },
  {
   "cell_type": "code",
   "execution_count": 21,
   "id": "e6c733c5",
   "metadata": {
    "execution": {
     "iopub.execute_input": "2025-07-28T11:02:04.708958Z",
     "iopub.status.busy": "2025-07-28T11:02:04.707848Z",
     "iopub.status.idle": "2025-07-28T11:02:04.849178Z",
     "shell.execute_reply": "2025-07-28T11:02:04.848111Z"
    },
    "papermill": {
     "duration": 0.165315,
     "end_time": "2025-07-28T11:02:04.851233",
     "exception": false,
     "start_time": "2025-07-28T11:02:04.685918",
     "status": "completed"
    },
    "tags": []
   },
   "outputs": [],
   "source": [
    "# Auxiliary data needed downstream in the pipeline\n",
    "\n",
    "org_train = X_train.copy()\n",
    "org_test = X_test.copy()\n",
    "org_calib = X_calib.copy()"
   ]
  },
  {
   "cell_type": "markdown",
   "id": "0a4a1b33",
   "metadata": {
    "papermill": {
     "duration": 0.021408,
     "end_time": "2025-07-28T11:02:04.896291",
     "exception": false,
     "start_time": "2025-07-28T11:02:04.874883",
     "status": "completed"
    },
    "tags": []
   },
   "source": [
    "# Preprocessing Data"
   ]
  },
  {
   "cell_type": "code",
   "execution_count": 22,
   "id": "ca879031",
   "metadata": {
    "execution": {
     "iopub.execute_input": "2025-07-28T11:02:04.942064Z",
     "iopub.status.busy": "2025-07-28T11:02:04.941391Z",
     "iopub.status.idle": "2025-07-28T11:02:04.947917Z",
     "shell.execute_reply": "2025-07-28T11:02:04.946919Z"
    },
    "papermill": {
     "duration": 0.031703,
     "end_time": "2025-07-28T11:02:04.949739",
     "exception": false,
     "start_time": "2025-07-28T11:02:04.918036",
     "status": "completed"
    },
    "tags": []
   },
   "outputs": [],
   "source": [
    "# EXCLUDE PROTECTED FEATURES\n",
    "# ----------------------\n",
    "# \"exclude_features\": \"none\", # \"nationality\", \"sex\", \"nationality-sex\"\n",
    "\n",
    "excluded_features = universe[\"exclude_features\"].split(\"-\") # split, e.g.: \"nationality-sex\" -> [\"nationality\", \"sex\"]\n",
    "excluded_features_dictionary = {\n",
    "    \"nationality\": [\"maxdeutsch1\", \"maxdeutsch.Missing.\"],\n",
    "    \"sex\": [\"frau1\"],\n",
    "    \"age\": [\"age\"],\n",
    "}\n"
   ]
  },
  {
   "cell_type": "code",
   "execution_count": 23,
   "id": "b745ac60",
   "metadata": {
    "execution": {
     "iopub.execute_input": "2025-07-28T11:02:04.995860Z",
     "iopub.status.busy": "2025-07-28T11:02:04.994833Z",
     "iopub.status.idle": "2025-07-28T11:02:05.001028Z",
     "shell.execute_reply": "2025-07-28T11:02:05.000038Z"
    },
    "papermill": {
     "duration": 0.031357,
     "end_time": "2025-07-28T11:02:05.002840",
     "exception": false,
     "start_time": "2025-07-28T11:02:04.971483",
     "status": "completed"
    },
    "tags": []
   },
   "outputs": [],
   "source": [
    "# Code nice names to column names\n",
    "\n",
    "excluded_features_columns = [\n",
    "    excluded_features_dictionary[f] for f in excluded_features if len(f) > 0 and f != \"none\"\n",
    "]"
   ]
  },
  {
   "cell_type": "code",
   "execution_count": 24,
   "id": "f84f73a2",
   "metadata": {
    "execution": {
     "iopub.execute_input": "2025-07-28T11:02:05.049111Z",
     "iopub.status.busy": "2025-07-28T11:02:05.048090Z",
     "iopub.status.idle": "2025-07-28T11:02:05.055342Z",
     "shell.execute_reply": "2025-07-28T11:02:05.054347Z"
    },
    "papermill": {
     "duration": 0.032309,
     "end_time": "2025-07-28T11:02:05.057202",
     "exception": false,
     "start_time": "2025-07-28T11:02:05.024893",
     "status": "completed"
    },
    "tags": []
   },
   "outputs": [],
   "source": [
    "from utils import flatten_once\n",
    "\n",
    "excluded_features_columns = flatten_once(excluded_features_columns)"
   ]
  },
  {
   "cell_type": "code",
   "execution_count": 25,
   "id": "884dea22",
   "metadata": {
    "execution": {
     "iopub.execute_input": "2025-07-28T11:02:05.101727Z",
     "iopub.status.busy": "2025-07-28T11:02:05.101009Z",
     "iopub.status.idle": "2025-07-28T11:02:05.156809Z",
     "shell.execute_reply": "2025-07-28T11:02:05.155816Z"
    },
    "papermill": {
     "duration": 0.07988,
     "end_time": "2025-07-28T11:02:05.158680",
     "exception": false,
     "start_time": "2025-07-28T11:02:05.078800",
     "status": "completed"
    },
    "tags": []
   },
   "outputs": [
    {
     "name": "stdout",
     "output_type": "stream",
     "text": [
      "Dropping features: ['frau1']\n"
     ]
    }
   ],
   "source": [
    "if len(excluded_features_columns) > 0:\n",
    "    print(f\"Dropping features: {excluded_features_columns}\")\n",
    "    X_train.drop(excluded_features_columns, axis=1, inplace=True)"
   ]
  },
  {
   "cell_type": "code",
   "execution_count": 26,
   "id": "95ab8b16",
   "metadata": {
    "execution": {
     "iopub.execute_input": "2025-07-28T11:02:05.205640Z",
     "iopub.status.busy": "2025-07-28T11:02:05.204948Z",
     "iopub.status.idle": "2025-07-28T11:02:05.271024Z",
     "shell.execute_reply": "2025-07-28T11:02:05.269892Z"
    },
    "papermill": {
     "duration": 0.091793,
     "end_time": "2025-07-28T11:02:05.272917",
     "exception": false,
     "start_time": "2025-07-28T11:02:05.181124",
     "status": "completed"
    },
    "tags": []
   },
   "outputs": [
    {
     "name": "stdout",
     "output_type": "stream",
     "text": [
      "Dropping features: ['frau1']\n"
     ]
    }
   ],
   "source": [
    "if len(excluded_features_columns) > 0:\n",
    "    print(f\"Dropping features: {excluded_features_columns}\")\n",
    "    X_test.drop(excluded_features_columns, axis=1, inplace=True)"
   ]
  },
  {
   "cell_type": "code",
   "execution_count": 27,
   "id": "1853aaf5-fb9f-46cb-a2b5-8ea4ae2237e4",
   "metadata": {
    "execution": {
     "iopub.execute_input": "2025-07-28T11:02:05.319211Z",
     "iopub.status.busy": "2025-07-28T11:02:05.318493Z",
     "iopub.status.idle": "2025-07-28T11:02:05.379356Z",
     "shell.execute_reply": "2025-07-28T11:02:05.378222Z"
    },
    "papermill": {
     "duration": 0.087256,
     "end_time": "2025-07-28T11:02:05.382275",
     "exception": false,
     "start_time": "2025-07-28T11:02:05.295019",
     "status": "completed"
    },
    "tags": []
   },
   "outputs": [
    {
     "name": "stdout",
     "output_type": "stream",
     "text": [
      "Dropping features: ['frau1']\n"
     ]
    }
   ],
   "source": [
    "if len(excluded_features_columns) > 0:\n",
    "    print(f\"Dropping features: {excluded_features_columns}\")\n",
    "    X_calib.drop(excluded_features_columns, axis=1, inplace=True)"
   ]
  },
  {
   "cell_type": "code",
   "execution_count": 28,
   "id": "6727d079-03e5-481e-9d38-292a90b7a0a8",
   "metadata": {
    "execution": {
     "iopub.execute_input": "2025-07-28T11:02:05.430595Z",
     "iopub.status.busy": "2025-07-28T11:02:05.429733Z",
     "iopub.status.idle": "2025-07-28T11:02:05.435012Z",
     "shell.execute_reply": "2025-07-28T11:02:05.434126Z"
    },
    "papermill": {
     "duration": 0.031005,
     "end_time": "2025-07-28T11:02:05.436817",
     "exception": false,
     "start_time": "2025-07-28T11:02:05.405812",
     "status": "completed"
    },
    "tags": []
   },
   "outputs": [],
   "source": [
    "# SPLIT & STRATIFY DATA\n",
    "# ----------------------"
   ]
  },
  {
   "cell_type": "code",
   "execution_count": 29,
   "id": "76c4dc6d",
   "metadata": {
    "execution": {
     "iopub.execute_input": "2025-07-28T11:02:05.485118Z",
     "iopub.status.busy": "2025-07-28T11:02:05.484387Z",
     "iopub.status.idle": "2025-07-28T11:02:05.490277Z",
     "shell.execute_reply": "2025-07-28T11:02:05.489227Z"
    },
    "papermill": {
     "duration": 0.031645,
     "end_time": "2025-07-28T11:02:05.492346",
     "exception": false,
     "start_time": "2025-07-28T11:02:05.460701",
     "status": "completed"
    },
    "tags": []
   },
   "outputs": [],
   "source": [
    "# EXCLUDE CERTAIN SUBGROUPS\n",
    "# ----------------------\n",
    "\n",
    "mode = universe.get(\"exclude_subgroups\", \"keep-all\") \n",
    "# Fetches the exclude_subgroups setting from the universe dict.\n",
    "# Defaults to \"keep-all\" if the key is missing."
   ]
  },
  {
   "cell_type": "code",
   "execution_count": 30,
   "id": "21994072",
   "metadata": {
    "execution": {
     "iopub.execute_input": "2025-07-28T11:02:05.539163Z",
     "iopub.status.busy": "2025-07-28T11:02:05.538190Z",
     "iopub.status.idle": "2025-07-28T11:02:05.546082Z",
     "shell.execute_reply": "2025-07-28T11:02:05.544996Z"
    },
    "papermill": {
     "duration": 0.032942,
     "end_time": "2025-07-28T11:02:05.547871",
     "exception": false,
     "start_time": "2025-07-28T11:02:05.514929",
     "status": "completed"
    },
    "tags": []
   },
   "outputs": [],
   "source": [
    "if mode == \"keep-all\":\n",
    "    keep_mask = pd.Series(True, index=org_train.index)\n",
    "\n",
    "# org_train contains the original feature columns from features_org (in Simson)\n",
    "# features_org contains unprocessed features, for me X_train at beginning ???\n",
    "# For keep-all, creates a boolean Series (keep_mask) of all True, so no rows are removed.\n",
    "\n",
    "elif mode == \"drop-non-german\":\n",
    "    keep_mask = org_train[\"maxdeutsch1\"] == 1 # ??? what about missing values?\n",
    "\n",
    "else:\n",
    "    raise ValueError(f\"Unsupported mode for exclude_subgroups: {mode}\")\n"
   ]
  },
  {
   "cell_type": "code",
   "execution_count": 31,
   "id": "71651440",
   "metadata": {
    "execution": {
     "iopub.execute_input": "2025-07-28T11:02:05.594235Z",
     "iopub.status.busy": "2025-07-28T11:02:05.593478Z",
     "iopub.status.idle": "2025-07-28T11:02:05.601601Z",
     "shell.execute_reply": "2025-07-28T11:02:05.600656Z"
    },
    "papermill": {
     "duration": 0.032829,
     "end_time": "2025-07-28T11:02:05.603244",
     "exception": false,
     "start_time": "2025-07-28T11:02:05.570415",
     "status": "completed"
    },
    "tags": []
   },
   "outputs": [
    {
     "name": "stdout",
     "output_type": "stream",
     "text": [
      "Dropping 12995 rows (14.91%) where mode='drop-non-german'\n"
     ]
    }
   ],
   "source": [
    "n_drop = (~keep_mask).sum() # Calculates how many rows are set to be dropped\n",
    "if n_drop > 0:\n",
    "    pct = n_drop / len(keep_mask) * 100\n",
    "    print(f\"Dropping {n_drop} rows ({pct:.2f}%) where mode='{mode}'\")"
   ]
  },
  {
   "cell_type": "code",
   "execution_count": 32,
   "id": "5fb8eee5",
   "metadata": {
    "execution": {
     "iopub.execute_input": "2025-07-28T11:02:05.651299Z",
     "iopub.status.busy": "2025-07-28T11:02:05.650211Z",
     "iopub.status.idle": "2025-07-28T11:02:05.715049Z",
     "shell.execute_reply": "2025-07-28T11:02:05.714069Z"
    },
    "papermill": {
     "duration": 0.090543,
     "end_time": "2025-07-28T11:02:05.716966",
     "exception": false,
     "start_time": "2025-07-28T11:02:05.626423",
     "status": "completed"
    },
    "tags": []
   },
   "outputs": [],
   "source": [
    "X_train = X_train[keep_mask]"
   ]
  },
  {
   "cell_type": "code",
   "execution_count": 33,
   "id": "b202bb3a",
   "metadata": {
    "execution": {
     "iopub.execute_input": "2025-07-28T11:02:05.766623Z",
     "iopub.status.busy": "2025-07-28T11:02:05.765625Z",
     "iopub.status.idle": "2025-07-28T11:02:05.774734Z",
     "shell.execute_reply": "2025-07-28T11:02:05.773812Z"
    },
    "papermill": {
     "duration": 0.035294,
     "end_time": "2025-07-28T11:02:05.776242",
     "exception": false,
     "start_time": "2025-07-28T11:02:05.740948",
     "status": "completed"
    },
    "tags": []
   },
   "outputs": [],
   "source": [
    "y_train = y_train[keep_mask]"
   ]
  },
  {
   "cell_type": "markdown",
   "id": "493e2ac3",
   "metadata": {
    "papermill": {
     "duration": 0.023997,
     "end_time": "2025-07-28T11:02:05.824294",
     "exception": false,
     "start_time": "2025-07-28T11:02:05.800297",
     "status": "completed"
    },
    "tags": []
   },
   "source": [
    "# Model Training"
   ]
  },
  {
   "cell_type": "code",
   "execution_count": 34,
   "id": "679e1268",
   "metadata": {
    "execution": {
     "iopub.execute_input": "2025-07-28T11:02:05.875840Z",
     "iopub.status.busy": "2025-07-28T11:02:05.875108Z",
     "iopub.status.idle": "2025-07-28T11:02:05.985917Z",
     "shell.execute_reply": "2025-07-28T11:02:05.984905Z"
    },
    "papermill": {
     "duration": 0.140389,
     "end_time": "2025-07-28T11:02:05.987851",
     "exception": false,
     "start_time": "2025-07-28T11:02:05.847462",
     "status": "completed"
    },
    "tags": []
   },
   "outputs": [],
   "source": [
    "from sklearn.linear_model import LogisticRegression\n",
    "from sklearn.ensemble import GradientBoostingClassifier, RandomForestClassifier\n",
    "\n",
    "if (universe[\"model\"] == \"logreg\"):\n",
    "    model = LogisticRegression() #penalty=\"none\") #, solver=\"newton-cg\", max_iter=1) # include random_state=19 ?\n",
    "elif (universe[\"model\"] == \"penalized_logreg\"):\n",
    "    model = LogisticRegression(penalty=\"l2\", C=1.0) #, solver=\"newton-cg\", max_iter=1)\n",
    "elif (universe[\"model\"] == \"rf\"):\n",
    "    model = RandomForestClassifier(n_estimators=100, n_jobs=-1)\n",
    "elif (universe[\"model\"] == \"gbm\"):\n",
    "    model = GradientBoostingClassifier()\n",
    "elif (universe[\"model\"] == \"elasticnet\"):\n",
    "    model = LogisticRegression(penalty = 'elasticnet', solver = 'saga', l1_ratio = 0.5, max_iter=5000) # which solver to use?\n",
    "else:\n",
    "    raise \"Unsupported universe.model\""
   ]
  },
  {
   "cell_type": "code",
   "execution_count": 35,
   "id": "0cc8f744",
   "metadata": {
    "execution": {
     "iopub.execute_input": "2025-07-28T11:02:06.035852Z",
     "iopub.status.busy": "2025-07-28T11:02:06.035116Z",
     "iopub.status.idle": "2025-07-28T11:02:06.041788Z",
     "shell.execute_reply": "2025-07-28T11:02:06.040812Z"
    },
    "papermill": {
     "duration": 0.032595,
     "end_time": "2025-07-28T11:02:06.043626",
     "exception": false,
     "start_time": "2025-07-28T11:02:06.011031",
     "status": "completed"
    },
    "tags": []
   },
   "outputs": [],
   "source": [
    "import numpy as np\n",
    "from sklearn.pipeline import Pipeline\n",
    "from sklearn.preprocessing import StandardScaler\n",
    "\n",
    "model = Pipeline([\n",
    "    #(\"continuous_processor\", continuous_processor),\n",
    "    #(\"categorical_preprocessor\", categorical_preprocessor),\n",
    "    (\"scale\", StandardScaler() if universe[\"scale\"] == \"scale\" else None), \n",
    "    (\"model\", model),\n",
    "])"
   ]
  },
  {
   "cell_type": "code",
   "execution_count": 36,
   "id": "9442c04d",
   "metadata": {
    "execution": {
     "iopub.execute_input": "2025-07-28T11:02:06.092026Z",
     "iopub.status.busy": "2025-07-28T11:02:06.091013Z",
     "iopub.status.idle": "2025-07-28T11:02:38.115604Z",
     "shell.execute_reply": "2025-07-28T11:02:38.114511Z"
    },
    "papermill": {
     "duration": 32.074111,
     "end_time": "2025-07-28T11:02:38.140751",
     "exception": false,
     "start_time": "2025-07-28T11:02:06.066640",
     "status": "completed"
    },
    "tags": []
   },
   "outputs": [
    {
     "data": {
      "text/html": [
       "<style>#sk-container-id-1 {color: black;background-color: white;}#sk-container-id-1 pre{padding: 0;}#sk-container-id-1 div.sk-toggleable {background-color: white;}#sk-container-id-1 label.sk-toggleable__label {cursor: pointer;display: block;width: 100%;margin-bottom: 0;padding: 0.3em;box-sizing: border-box;text-align: center;}#sk-container-id-1 label.sk-toggleable__label-arrow:before {content: \"▸\";float: left;margin-right: 0.25em;color: #696969;}#sk-container-id-1 label.sk-toggleable__label-arrow:hover:before {color: black;}#sk-container-id-1 div.sk-estimator:hover label.sk-toggleable__label-arrow:before {color: black;}#sk-container-id-1 div.sk-toggleable__content {max-height: 0;max-width: 0;overflow: hidden;text-align: left;background-color: #f0f8ff;}#sk-container-id-1 div.sk-toggleable__content pre {margin: 0.2em;color: black;border-radius: 0.25em;background-color: #f0f8ff;}#sk-container-id-1 input.sk-toggleable__control:checked~div.sk-toggleable__content {max-height: 200px;max-width: 100%;overflow: auto;}#sk-container-id-1 input.sk-toggleable__control:checked~label.sk-toggleable__label-arrow:before {content: \"▾\";}#sk-container-id-1 div.sk-estimator input.sk-toggleable__control:checked~label.sk-toggleable__label {background-color: #d4ebff;}#sk-container-id-1 div.sk-label input.sk-toggleable__control:checked~label.sk-toggleable__label {background-color: #d4ebff;}#sk-container-id-1 input.sk-hidden--visually {border: 0;clip: rect(1px 1px 1px 1px);clip: rect(1px, 1px, 1px, 1px);height: 1px;margin: -1px;overflow: hidden;padding: 0;position: absolute;width: 1px;}#sk-container-id-1 div.sk-estimator {font-family: monospace;background-color: #f0f8ff;border: 1px dotted black;border-radius: 0.25em;box-sizing: border-box;margin-bottom: 0.5em;}#sk-container-id-1 div.sk-estimator:hover {background-color: #d4ebff;}#sk-container-id-1 div.sk-parallel-item::after {content: \"\";width: 100%;border-bottom: 1px solid gray;flex-grow: 1;}#sk-container-id-1 div.sk-label:hover label.sk-toggleable__label {background-color: #d4ebff;}#sk-container-id-1 div.sk-serial::before {content: \"\";position: absolute;border-left: 1px solid gray;box-sizing: border-box;top: 0;bottom: 0;left: 50%;z-index: 0;}#sk-container-id-1 div.sk-serial {display: flex;flex-direction: column;align-items: center;background-color: white;padding-right: 0.2em;padding-left: 0.2em;position: relative;}#sk-container-id-1 div.sk-item {position: relative;z-index: 1;}#sk-container-id-1 div.sk-parallel {display: flex;align-items: stretch;justify-content: center;background-color: white;position: relative;}#sk-container-id-1 div.sk-item::before, #sk-container-id-1 div.sk-parallel-item::before {content: \"\";position: absolute;border-left: 1px solid gray;box-sizing: border-box;top: 0;bottom: 0;left: 50%;z-index: -1;}#sk-container-id-1 div.sk-parallel-item {display: flex;flex-direction: column;z-index: 1;position: relative;background-color: white;}#sk-container-id-1 div.sk-parallel-item:first-child::after {align-self: flex-end;width: 50%;}#sk-container-id-1 div.sk-parallel-item:last-child::after {align-self: flex-start;width: 50%;}#sk-container-id-1 div.sk-parallel-item:only-child::after {width: 0;}#sk-container-id-1 div.sk-dashed-wrapped {border: 1px dashed gray;margin: 0 0.4em 0.5em 0.4em;box-sizing: border-box;padding-bottom: 0.4em;background-color: white;}#sk-container-id-1 div.sk-label label {font-family: monospace;font-weight: bold;display: inline-block;line-height: 1.2em;}#sk-container-id-1 div.sk-label-container {text-align: center;}#sk-container-id-1 div.sk-container {/* jupyter's `normalize.less` sets `[hidden] { display: none; }` but bootstrap.min.css set `[hidden] { display: none !important; }` so we also need the `!important` here to be able to override the default hidden behavior on the sphinx rendered scikit-learn.org. See: https://github.com/scikit-learn/scikit-learn/issues/21755 */display: inline-block !important;position: relative;}#sk-container-id-1 div.sk-text-repr-fallback {display: none;}</style><div id=\"sk-container-id-1\" class=\"sk-top-container\"><div class=\"sk-text-repr-fallback\"><pre>Pipeline(steps=[(&#x27;scale&#x27;, StandardScaler()),\n",
       "                (&#x27;model&#x27;,\n",
       "                 LogisticRegression(l1_ratio=0.5, max_iter=5000,\n",
       "                                    penalty=&#x27;elasticnet&#x27;, solver=&#x27;saga&#x27;))])</pre><b>In a Jupyter environment, please rerun this cell to show the HTML representation or trust the notebook. <br />On GitHub, the HTML representation is unable to render, please try loading this page with nbviewer.org.</b></div><div class=\"sk-container\" hidden><div class=\"sk-item sk-dashed-wrapped\"><div class=\"sk-label-container\"><div class=\"sk-label sk-toggleable\"><input class=\"sk-toggleable__control sk-hidden--visually\" id=\"sk-estimator-id-1\" type=\"checkbox\" ><label for=\"sk-estimator-id-1\" class=\"sk-toggleable__label sk-toggleable__label-arrow\">Pipeline</label><div class=\"sk-toggleable__content\"><pre>Pipeline(steps=[(&#x27;scale&#x27;, StandardScaler()),\n",
       "                (&#x27;model&#x27;,\n",
       "                 LogisticRegression(l1_ratio=0.5, max_iter=5000,\n",
       "                                    penalty=&#x27;elasticnet&#x27;, solver=&#x27;saga&#x27;))])</pre></div></div></div><div class=\"sk-serial\"><div class=\"sk-item\"><div class=\"sk-estimator sk-toggleable\"><input class=\"sk-toggleable__control sk-hidden--visually\" id=\"sk-estimator-id-2\" type=\"checkbox\" ><label for=\"sk-estimator-id-2\" class=\"sk-toggleable__label sk-toggleable__label-arrow\">StandardScaler</label><div class=\"sk-toggleable__content\"><pre>StandardScaler()</pre></div></div></div><div class=\"sk-item\"><div class=\"sk-estimator sk-toggleable\"><input class=\"sk-toggleable__control sk-hidden--visually\" id=\"sk-estimator-id-3\" type=\"checkbox\" ><label for=\"sk-estimator-id-3\" class=\"sk-toggleable__label sk-toggleable__label-arrow\">LogisticRegression</label><div class=\"sk-toggleable__content\"><pre>LogisticRegression(l1_ratio=0.5, max_iter=5000, penalty=&#x27;elasticnet&#x27;,\n",
       "                   solver=&#x27;saga&#x27;)</pre></div></div></div></div></div></div></div>"
      ],
      "text/plain": [
       "Pipeline(steps=[('scale', StandardScaler()),\n",
       "                ('model',\n",
       "                 LogisticRegression(l1_ratio=0.5, max_iter=5000,\n",
       "                                    penalty='elasticnet', solver='saga'))])"
      ]
     },
     "execution_count": 36,
     "metadata": {},
     "output_type": "execute_result"
    }
   ],
   "source": [
    "model.fit(X_train, y_train.values.ravel())"
   ]
  },
  {
   "cell_type": "code",
   "execution_count": 37,
   "id": "af59f8c0",
   "metadata": {
    "execution": {
     "iopub.execute_input": "2025-07-28T11:02:38.184039Z",
     "iopub.status.busy": "2025-07-28T11:02:38.183229Z",
     "iopub.status.idle": "2025-07-28T11:02:38.189155Z",
     "shell.execute_reply": "2025-07-28T11:02:38.188203Z"
    },
    "papermill": {
     "duration": 0.029685,
     "end_time": "2025-07-28T11:02:38.190986",
     "exception": false,
     "start_time": "2025-07-28T11:02:38.161301",
     "status": "completed"
    },
    "tags": []
   },
   "outputs": [],
   "source": [
    "from fairness_multiverse.universe import predict_w_threshold"
   ]
  },
  {
   "cell_type": "code",
   "execution_count": 38,
   "id": "a7cf2e16",
   "metadata": {
    "execution": {
     "iopub.execute_input": "2025-07-28T11:02:38.234648Z",
     "iopub.status.busy": "2025-07-28T11:02:38.233774Z",
     "iopub.status.idle": "2025-07-28T11:02:38.449211Z",
     "shell.execute_reply": "2025-07-28T11:02:38.448091Z"
    },
    "papermill": {
     "duration": 0.238927,
     "end_time": "2025-07-28T11:02:38.450887",
     "exception": false,
     "start_time": "2025-07-28T11:02:38.211960",
     "status": "completed"
    },
    "tags": []
   },
   "outputs": [
    {
     "data": {
      "text/plain": [
       "0.8668264407535392"
      ]
     },
     "execution_count": 38,
     "metadata": {},
     "output_type": "execute_result"
    }
   ],
   "source": [
    "probs_test = model.predict_proba(X_test)\n",
    "\n",
    "'''\n",
    "Below code returns a boolean array (or binary 0/1 array depending on how it’s used) where each element \n",
    "is True if the probability of class 1 is greater than or equal to the threshold, and False otherwise.\n",
    "'''\n",
    "y_pred_default = predict_w_threshold(probs_test, 0.5)\n",
    "\n",
    "from sklearn.metrics import accuracy_score\n",
    "\n",
    "# Naive prediction\n",
    "accuracy_score(y_true = y_true, y_pred = y_pred_default)"
   ]
  },
  {
   "cell_type": "code",
   "execution_count": 39,
   "id": "081964c3",
   "metadata": {
    "execution": {
     "iopub.execute_input": "2025-07-28T11:02:38.495012Z",
     "iopub.status.busy": "2025-07-28T11:02:38.494465Z",
     "iopub.status.idle": "2025-07-28T11:02:38.683524Z",
     "shell.execute_reply": "2025-07-28T11:02:38.682474Z"
    },
    "papermill": {
     "duration": 0.212756,
     "end_time": "2025-07-28T11:02:38.685285",
     "exception": false,
     "start_time": "2025-07-28T11:02:38.472529",
     "status": "completed"
    },
    "tags": []
   },
   "outputs": [
    {
     "data": {
      "text/plain": [
       "array([0, 0, 0, ..., 0, 0, 0])"
      ]
     },
     "execution_count": 39,
     "metadata": {},
     "output_type": "execute_result"
    }
   ],
   "source": [
    "model.predict(X_test)"
   ]
  },
  {
   "cell_type": "markdown",
   "id": "56c9705b",
   "metadata": {
    "papermill": {
     "duration": 0.020979,
     "end_time": "2025-07-28T11:02:38.728150",
     "exception": false,
     "start_time": "2025-07-28T11:02:38.707171",
     "status": "completed"
    },
    "tags": []
   },
   "source": [
    "# Conformal Prediction"
   ]
  },
  {
   "cell_type": "code",
   "execution_count": 40,
   "id": "160ec6ff",
   "metadata": {
    "execution": {
     "iopub.execute_input": "2025-07-28T11:02:38.773419Z",
     "iopub.status.busy": "2025-07-28T11:02:38.772826Z",
     "iopub.status.idle": "2025-07-28T11:02:38.778334Z",
     "shell.execute_reply": "2025-07-28T11:02:38.777253Z"
    },
    "papermill": {
     "duration": 0.030441,
     "end_time": "2025-07-28T11:02:38.780074",
     "exception": false,
     "start_time": "2025-07-28T11:02:38.749633",
     "status": "completed"
    },
    "tags": []
   },
   "outputs": [],
   "source": [
    "# Miscoverage level for conformal prediction (10% allowed error rate => 90% target coverage)\n",
    "alpha = 0.1"
   ]
  },
  {
   "cell_type": "code",
   "execution_count": 41,
   "id": "eadf4555-3dd3-440e-8e35-f82a4ad9f855",
   "metadata": {
    "execution": {
     "iopub.execute_input": "2025-07-28T11:02:38.825392Z",
     "iopub.status.busy": "2025-07-28T11:02:38.824536Z",
     "iopub.status.idle": "2025-07-28T11:02:39.003609Z",
     "shell.execute_reply": "2025-07-28T11:02:39.002610Z"
    },
    "papermill": {
     "duration": 0.203115,
     "end_time": "2025-07-28T11:02:39.005232",
     "exception": false,
     "start_time": "2025-07-28T11:02:38.802117",
     "status": "completed"
    },
    "tags": []
   },
   "outputs": [],
   "source": [
    "probs_calib = model.predict_proba(X_calib)"
   ]
  },
  {
   "cell_type": "code",
   "execution_count": 42,
   "id": "2ed93547-6d5d-4983-9b36-1ecb300da49a",
   "metadata": {
    "execution": {
     "iopub.execute_input": "2025-07-28T11:02:39.053206Z",
     "iopub.status.busy": "2025-07-28T11:02:39.052477Z",
     "iopub.status.idle": "2025-07-28T11:02:39.058912Z",
     "shell.execute_reply": "2025-07-28T11:02:39.057917Z"
    },
    "papermill": {
     "duration": 0.032525,
     "end_time": "2025-07-28T11:02:39.060475",
     "exception": false,
     "start_time": "2025-07-28T11:02:39.027950",
     "status": "completed"
    },
    "tags": []
   },
   "outputs": [],
   "source": [
    "y_calib = y_calib.values.ravel().astype(int)"
   ]
  },
  {
   "cell_type": "code",
   "execution_count": 43,
   "id": "65d1320d-f588-4b38-9072-62af1ae97f7d",
   "metadata": {
    "execution": {
     "iopub.execute_input": "2025-07-28T11:02:39.107854Z",
     "iopub.status.busy": "2025-07-28T11:02:39.107381Z",
     "iopub.status.idle": "2025-07-28T11:02:39.115264Z",
     "shell.execute_reply": "2025-07-28T11:02:39.114404Z"
    },
    "papermill": {
     "duration": 0.033361,
     "end_time": "2025-07-28T11:02:39.116974",
     "exception": false,
     "start_time": "2025-07-28T11:02:39.083613",
     "status": "completed"
    },
    "tags": []
   },
   "outputs": [],
   "source": [
    "from fairness_multiverse.conformal import compute_nc_scores\n",
    "\n",
    "# Compute nonconformity scores on calibration set (1 - probability of true class)\n",
    "nc_scores = compute_nc_scores(probs_calib, y_calib)"
   ]
  },
  {
   "cell_type": "code",
   "execution_count": 44,
   "id": "df3b8ca3-53b7-43d5-9667-7c85da7aeda2",
   "metadata": {
    "execution": {
     "iopub.execute_input": "2025-07-28T11:02:39.171319Z",
     "iopub.status.busy": "2025-07-28T11:02:39.170531Z",
     "iopub.status.idle": "2025-07-28T11:02:39.177769Z",
     "shell.execute_reply": "2025-07-28T11:02:39.176874Z"
    },
    "papermill": {
     "duration": 0.039032,
     "end_time": "2025-07-28T11:02:39.179467",
     "exception": false,
     "start_time": "2025-07-28T11:02:39.140435",
     "status": "completed"
    },
    "tags": []
   },
   "outputs": [],
   "source": [
    "from fairness_multiverse.conformal import find_threshold\n",
    "\n",
    "# Find conformal threshold q_hat for the given alpha (split conformal method)\n",
    "q_hat = find_threshold(nc_scores, alpha)"
   ]
  },
  {
   "cell_type": "code",
   "execution_count": 45,
   "id": "4d29e6c1-0ef6-4aa4-b8fe-4fe79b0d033a",
   "metadata": {
    "execution": {
     "iopub.execute_input": "2025-07-28T11:02:39.224709Z",
     "iopub.status.busy": "2025-07-28T11:02:39.223743Z",
     "iopub.status.idle": "2025-07-28T11:02:39.230803Z",
     "shell.execute_reply": "2025-07-28T11:02:39.230050Z"
    },
    "papermill": {
     "duration": 0.030925,
     "end_time": "2025-07-28T11:02:39.232237",
     "exception": false,
     "start_time": "2025-07-28T11:02:39.201312",
     "status": "completed"
    },
    "tags": []
   },
   "outputs": [
    {
     "data": {
      "text/plain": [
       "0.6742466951748016"
      ]
     },
     "execution_count": 45,
     "metadata": {},
     "output_type": "execute_result"
    }
   ],
   "source": [
    "q_hat"
   ]
  },
  {
   "cell_type": "code",
   "execution_count": 46,
   "id": "92460794-cdac-4be2-ba28-f28c0515a6fb",
   "metadata": {
    "execution": {
     "iopub.execute_input": "2025-07-28T11:02:39.258565Z",
     "iopub.status.busy": "2025-07-28T11:02:39.257918Z",
     "iopub.status.idle": "2025-07-28T11:02:40.157444Z",
     "shell.execute_reply": "2025-07-28T11:02:40.156389Z"
    },
    "papermill": {
     "duration": 0.914414,
     "end_time": "2025-07-28T11:02:40.159498",
     "exception": false,
     "start_time": "2025-07-28T11:02:39.245084",
     "status": "completed"
    },
    "tags": []
   },
   "outputs": [],
   "source": [
    "from fairness_multiverse.conformal import predict_conformal_sets\n",
    "\n",
    "# Generate prediction sets for each test example\n",
    "pred_sets = predict_conformal_sets(model, X_test, q_hat)"
   ]
  },
  {
   "cell_type": "code",
   "execution_count": 47,
   "id": "d90c9a65-e6db-4f5d-80cd-e68fb7e46829",
   "metadata": {
    "execution": {
     "iopub.execute_input": "2025-07-28T11:02:40.210862Z",
     "iopub.status.busy": "2025-07-28T11:02:40.210146Z",
     "iopub.status.idle": "2025-07-28T11:02:40.216048Z",
     "shell.execute_reply": "2025-07-28T11:02:40.215084Z"
    },
    "papermill": {
     "duration": 0.033087,
     "end_time": "2025-07-28T11:02:40.217652",
     "exception": false,
     "start_time": "2025-07-28T11:02:40.184565",
     "status": "completed"
    },
    "tags": []
   },
   "outputs": [],
   "source": [
    "y_true = y_true.squeeze()"
   ]
  },
  {
   "cell_type": "code",
   "execution_count": 48,
   "id": "3a58a54a-1e68-46b9-927a-df01f18aebc8",
   "metadata": {
    "execution": {
     "iopub.execute_input": "2025-07-28T11:02:40.268780Z",
     "iopub.status.busy": "2025-07-28T11:02:40.268008Z",
     "iopub.status.idle": "2025-07-28T11:02:41.184527Z",
     "shell.execute_reply": "2025-07-28T11:02:41.183476Z"
    },
    "papermill": {
     "duration": 0.944311,
     "end_time": "2025-07-28T11:02:41.186447",
     "exception": false,
     "start_time": "2025-07-28T11:02:40.242136",
     "status": "completed"
    },
    "tags": []
   },
   "outputs": [],
   "source": [
    "from fairness_multiverse.conformal import evaluate_sets\n",
    "\n",
    "# Evaluate coverage and average set size on test data\n",
    "metrics = evaluate_sets(pred_sets, y_true)"
   ]
  },
  {
   "cell_type": "markdown",
   "id": "2b569c12-9aaa-4c88-98c9-bbcd0cf3ebb8",
   "metadata": {
    "papermill": {
     "duration": 0.024145,
     "end_time": "2025-07-28T11:02:41.237554",
     "exception": false,
     "start_time": "2025-07-28T11:02:41.213409",
     "status": "completed"
    },
    "tags": []
   },
   "source": [
    "# CP Metrics"
   ]
  },
  {
   "cell_type": "code",
   "execution_count": 49,
   "id": "5ce0a5cb-201f-45a0-ade5-94c7f0bd6095",
   "metadata": {
    "execution": {
     "iopub.execute_input": "2025-07-28T11:02:41.287284Z",
     "iopub.status.busy": "2025-07-28T11:02:41.286762Z",
     "iopub.status.idle": "2025-07-28T11:02:41.293554Z",
     "shell.execute_reply": "2025-07-28T11:02:41.292548Z"
    },
    "papermill": {
     "duration": 0.033386,
     "end_time": "2025-07-28T11:02:41.295209",
     "exception": false,
     "start_time": "2025-07-28T11:02:41.261823",
     "status": "completed"
    },
    "tags": []
   },
   "outputs": [
    {
     "data": {
      "text/plain": [
       "{'coverage': 0.9125181139226396, 'avg_size': 1.1207557685876715}"
      ]
     },
     "execution_count": 49,
     "metadata": {},
     "output_type": "execute_result"
    }
   ],
   "source": [
    "metrics"
   ]
  },
  {
   "cell_type": "code",
   "execution_count": 50,
   "id": "9b9a838d-31c9-430b-ae14-12baee460d17",
   "metadata": {
    "execution": {
     "iopub.execute_input": "2025-07-28T11:02:41.345310Z",
     "iopub.status.busy": "2025-07-28T11:02:41.344615Z",
     "iopub.status.idle": "2025-07-28T11:02:41.350878Z",
     "shell.execute_reply": "2025-07-28T11:02:41.350027Z"
    },
    "papermill": {
     "duration": 0.0328,
     "end_time": "2025-07-28T11:02:41.352583",
     "exception": false,
     "start_time": "2025-07-28T11:02:41.319783",
     "status": "completed"
    },
    "tags": []
   },
   "outputs": [],
   "source": [
    "example_universe = universe.copy()\n",
    "universe_training_size = example_universe.get(\"training_size\")\n",
    "universe_scale = example_universe.get(\"scale\")\n",
    "universe_model = example_universe.get(\"model\")\n",
    "universe_exclude_features = example_universe.get(\"exclude_features\")\n",
    "universe_exclude_subgroups = example_universe.get(\"exclude_subgroups\")"
   ]
  },
  {
   "cell_type": "code",
   "execution_count": 51,
   "id": "f4b6a8ac-9dc0-4245-8a91-5b3b5999c4f9",
   "metadata": {
    "execution": {
     "iopub.execute_input": "2025-07-28T11:02:41.399197Z",
     "iopub.status.busy": "2025-07-28T11:02:41.398757Z",
     "iopub.status.idle": "2025-07-28T11:02:41.405574Z",
     "shell.execute_reply": "2025-07-28T11:02:41.404582Z"
    },
    "papermill": {
     "duration": 0.031894,
     "end_time": "2025-07-28T11:02:41.407126",
     "exception": false,
     "start_time": "2025-07-28T11:02:41.375232",
     "status": "completed"
    },
    "tags": []
   },
   "outputs": [],
   "source": [
    "cp_metrics_dict = {\n",
    "    \"universe_id\": [universe_id],\n",
    "    \"universe_training_size\": [universe_training_size],\n",
    "    \"universe_scale\": [universe_scale],\n",
    "    \"universe_model\": [universe_model],\n",
    "    \"universe_exclude_features\": [universe_exclude_features],\n",
    "    \"universe_exclude_subgroups\": [universe_exclude_subgroups],\n",
    "    \"q_hat\": [q_hat],\n",
    "    \"coverage\": [metrics[\"coverage\"]],\n",
    "    \"avg_size\": [metrics[\"avg_size\"]],\n",
    "}"
   ]
  },
  {
   "cell_type": "code",
   "execution_count": 52,
   "id": "908acbb1-0371-4915-85ca-3fa520d2efe2",
   "metadata": {
    "execution": {
     "iopub.execute_input": "2025-07-28T11:02:41.454725Z",
     "iopub.status.busy": "2025-07-28T11:02:41.453639Z",
     "iopub.status.idle": "2025-07-28T11:02:41.461665Z",
     "shell.execute_reply": "2025-07-28T11:02:41.460691Z"
    },
    "papermill": {
     "duration": 0.033338,
     "end_time": "2025-07-28T11:02:41.463298",
     "exception": false,
     "start_time": "2025-07-28T11:02:41.429960",
     "status": "completed"
    },
    "tags": []
   },
   "outputs": [
    {
     "data": {
      "text/plain": [
       "{'universe_id': ['5fc62cc8a7370850df2b626acf6bb8fa'],\n",
       " 'universe_training_size': ['2014'],\n",
       " 'universe_scale': ['scale'],\n",
       " 'universe_model': ['elasticnet'],\n",
       " 'universe_exclude_features': ['sex'],\n",
       " 'universe_exclude_subgroups': ['drop-non-german'],\n",
       " 'q_hat': [0.6742466951748016],\n",
       " 'coverage': [0.9125181139226396],\n",
       " 'avg_size': [1.1207557685876715]}"
      ]
     },
     "execution_count": 52,
     "metadata": {},
     "output_type": "execute_result"
    }
   ],
   "source": [
    "cp_metrics_dict"
   ]
  },
  {
   "cell_type": "code",
   "execution_count": 53,
   "id": "33007efc-14e9-4ec6-97ac-56a455c82265",
   "metadata": {
    "execution": {
     "iopub.execute_input": "2025-07-28T11:02:41.510571Z",
     "iopub.status.busy": "2025-07-28T11:02:41.510114Z",
     "iopub.status.idle": "2025-07-28T11:02:41.516543Z",
     "shell.execute_reply": "2025-07-28T11:02:41.515571Z"
    },
    "papermill": {
     "duration": 0.031751,
     "end_time": "2025-07-28T11:02:41.518208",
     "exception": false,
     "start_time": "2025-07-28T11:02:41.486457",
     "status": "completed"
    },
    "tags": []
   },
   "outputs": [],
   "source": [
    "cp_metrics_df = pd.DataFrame(cp_metrics_dict)"
   ]
  },
  {
   "cell_type": "code",
   "execution_count": 54,
   "id": "db12611b-57b2-4910-b9d0-355adfd6e7bf",
   "metadata": {
    "execution": {
     "iopub.execute_input": "2025-07-28T11:02:41.566162Z",
     "iopub.status.busy": "2025-07-28T11:02:41.565200Z",
     "iopub.status.idle": "2025-07-28T11:02:41.583193Z",
     "shell.execute_reply": "2025-07-28T11:02:41.582260Z"
    },
    "papermill": {
     "duration": 0.043962,
     "end_time": "2025-07-28T11:02:41.585034",
     "exception": false,
     "start_time": "2025-07-28T11:02:41.541072",
     "status": "completed"
    },
    "tags": []
   },
   "outputs": [
    {
     "data": {
      "text/html": [
       "<div>\n",
       "<style scoped>\n",
       "    .dataframe tbody tr th:only-of-type {\n",
       "        vertical-align: middle;\n",
       "    }\n",
       "\n",
       "    .dataframe tbody tr th {\n",
       "        vertical-align: top;\n",
       "    }\n",
       "\n",
       "    .dataframe thead th {\n",
       "        text-align: right;\n",
       "    }\n",
       "</style>\n",
       "<table border=\"1\" class=\"dataframe\">\n",
       "  <thead>\n",
       "    <tr style=\"text-align: right;\">\n",
       "      <th></th>\n",
       "      <th>universe_id</th>\n",
       "      <th>universe_training_size</th>\n",
       "      <th>universe_scale</th>\n",
       "      <th>universe_model</th>\n",
       "      <th>universe_exclude_features</th>\n",
       "      <th>universe_exclude_subgroups</th>\n",
       "      <th>q_hat</th>\n",
       "      <th>coverage</th>\n",
       "      <th>avg_size</th>\n",
       "    </tr>\n",
       "  </thead>\n",
       "  <tbody>\n",
       "    <tr>\n",
       "      <th>0</th>\n",
       "      <td>5fc62cc8a7370850df2b626acf6bb8fa</td>\n",
       "      <td>2014</td>\n",
       "      <td>scale</td>\n",
       "      <td>elasticnet</td>\n",
       "      <td>sex</td>\n",
       "      <td>drop-non-german</td>\n",
       "      <td>0.674247</td>\n",
       "      <td>0.912518</td>\n",
       "      <td>1.120756</td>\n",
       "    </tr>\n",
       "  </tbody>\n",
       "</table>\n",
       "</div>"
      ],
      "text/plain": [
       "                        universe_id universe_training_size universe_scale  \\\n",
       "0  5fc62cc8a7370850df2b626acf6bb8fa                   2014          scale   \n",
       "\n",
       "  universe_model universe_exclude_features universe_exclude_subgroups  \\\n",
       "0     elasticnet                       sex            drop-non-german   \n",
       "\n",
       "      q_hat  coverage  avg_size  \n",
       "0  0.674247  0.912518  1.120756  "
      ]
     },
     "execution_count": 54,
     "metadata": {},
     "output_type": "execute_result"
    }
   ],
   "source": [
    "cp_metrics_df"
   ]
  },
  {
   "cell_type": "code",
   "execution_count": 55,
   "id": "b7fbde55-a0a1-47e4-9af6-fe4a17fa8c61",
   "metadata": {
    "execution": {
     "iopub.execute_input": "2025-07-28T11:02:41.637663Z",
     "iopub.status.busy": "2025-07-28T11:02:41.637169Z",
     "iopub.status.idle": "2025-07-28T11:02:41.642562Z",
     "shell.execute_reply": "2025-07-28T11:02:41.641669Z"
    },
    "papermill": {
     "duration": 0.033482,
     "end_time": "2025-07-28T11:02:41.644129",
     "exception": false,
     "start_time": "2025-07-28T11:02:41.610647",
     "status": "completed"
    },
    "tags": []
   },
   "outputs": [],
   "source": [
    "# Conditional Coverage & looking at subgroups"
   ]
  },
  {
   "cell_type": "code",
   "execution_count": 56,
   "id": "027ae886-68dd-4141-96c7-805a5450e1ef",
   "metadata": {
    "execution": {
     "iopub.execute_input": "2025-07-28T11:02:41.696369Z",
     "iopub.status.busy": "2025-07-28T11:02:41.695820Z",
     "iopub.status.idle": "2025-07-28T11:02:41.958843Z",
     "shell.execute_reply": "2025-07-28T11:02:41.957943Z"
    },
    "papermill": {
     "duration": 0.292083,
     "end_time": "2025-07-28T11:02:41.960808",
     "exception": false,
     "start_time": "2025-07-28T11:02:41.668725",
     "status": "completed"
    },
    "tags": []
   },
   "outputs": [],
   "source": [
    "from fairness_multiverse.conformal import build_cp_groups\n",
    "\n",
    "cp_groups_df = build_cp_groups(pred_sets, y_true, X_test.index, org_test)\n",
    "#needs universe_id and setting"
   ]
  },
  {
   "cell_type": "code",
   "execution_count": 57,
   "id": "01d5802c-663a-4d1f-9d69-e036faaffbf7",
   "metadata": {
    "execution": {
     "iopub.execute_input": "2025-07-28T11:02:42.018063Z",
     "iopub.status.busy": "2025-07-28T11:02:42.017406Z",
     "iopub.status.idle": "2025-07-28T11:02:42.022789Z",
     "shell.execute_reply": "2025-07-28T11:02:42.021532Z"
    },
    "papermill": {
     "duration": 0.03406,
     "end_time": "2025-07-28T11:02:42.024366",
     "exception": false,
     "start_time": "2025-07-28T11:02:41.990306",
     "status": "completed"
    },
    "tags": []
   },
   "outputs": [],
   "source": [
    "#delete\n",
    "#cp_groups_df"
   ]
  },
  {
   "cell_type": "code",
   "execution_count": 58,
   "id": "fa424af1-d1eb-443d-b717-2d279ada8408",
   "metadata": {
    "execution": {
     "iopub.execute_input": "2025-07-28T11:02:42.072744Z",
     "iopub.status.busy": "2025-07-28T11:02:42.072230Z",
     "iopub.status.idle": "2025-07-28T11:02:42.076905Z",
     "shell.execute_reply": "2025-07-28T11:02:42.076066Z"
    },
    "papermill": {
     "duration": 0.030846,
     "end_time": "2025-07-28T11:02:42.078769",
     "exception": false,
     "start_time": "2025-07-28T11:02:42.047923",
     "status": "completed"
    },
    "tags": []
   },
   "outputs": [],
   "source": [
    "#delete\n",
    "#percentage = (cp_groups_df['nongerman_female'] == 1).mean() * 100\n",
    "#print(percentage)\n"
   ]
  },
  {
   "cell_type": "code",
   "execution_count": 59,
   "id": "6cbdab96-b2b2-45af-ad54-d0516db2e28d",
   "metadata": {
    "execution": {
     "iopub.execute_input": "2025-07-28T11:02:42.126794Z",
     "iopub.status.busy": "2025-07-28T11:02:42.126294Z",
     "iopub.status.idle": "2025-07-28T11:02:43.949520Z",
     "shell.execute_reply": "2025-07-28T11:02:43.948560Z"
    },
    "papermill": {
     "duration": 1.84915,
     "end_time": "2025-07-28T11:02:43.951339",
     "exception": false,
     "start_time": "2025-07-28T11:02:42.102189",
     "status": "completed"
    },
    "tags": []
   },
   "outputs": [],
   "source": [
    "# Define covered = 1 if true_label is in the predicted set\n",
    "cp_groups_df['covered'] = cp_groups_df.apply(\n",
    "    lambda r: int(r['true_label'] in r['pred_set']),\n",
    "    axis=1\n",
    ")"
   ]
  },
  {
   "cell_type": "code",
   "execution_count": 60,
   "id": "338ff529-1a6b-4b87-a931-8e4788d52aad",
   "metadata": {
    "execution": {
     "iopub.execute_input": "2025-07-28T11:02:44.000375Z",
     "iopub.status.busy": "2025-07-28T11:02:43.999844Z",
     "iopub.status.idle": "2025-07-28T11:02:44.005061Z",
     "shell.execute_reply": "2025-07-28T11:02:44.003990Z"
    },
    "papermill": {
     "duration": 0.030984,
     "end_time": "2025-07-28T11:02:44.006793",
     "exception": false,
     "start_time": "2025-07-28T11:02:43.975809",
     "status": "completed"
    },
    "tags": []
   },
   "outputs": [],
   "source": [
    "#cp_groups_df"
   ]
  },
  {
   "cell_type": "code",
   "execution_count": 61,
   "id": "90032e27-66df-4540-9169-4e89cfbaa758",
   "metadata": {
    "execution": {
     "iopub.execute_input": "2025-07-28T11:02:44.055314Z",
     "iopub.status.busy": "2025-07-28T11:02:44.054483Z",
     "iopub.status.idle": "2025-07-28T11:02:44.065905Z",
     "shell.execute_reply": "2025-07-28T11:02:44.065015Z"
    },
    "papermill": {
     "duration": 0.037183,
     "end_time": "2025-07-28T11:02:44.067493",
     "exception": false,
     "start_time": "2025-07-28T11:02:44.030310",
     "status": "completed"
    },
    "tags": []
   },
   "outputs": [],
   "source": [
    "subgroups = ['frau1','nongerman','nongerman_male','nongerman_female']\n",
    "\n",
    "# Conditional coverage for subgroup==1\n",
    "cond_coverage = {\n",
    "    g: cp_groups_df.loc[cp_groups_df[g]==1, 'covered'].mean()\n",
    "    for g in subgroups\n",
    "}"
   ]
  },
  {
   "cell_type": "code",
   "execution_count": 62,
   "id": "1e348fb1-b9c3-45bc-ba23-f016827a7e0d",
   "metadata": {
    "execution": {
     "iopub.execute_input": "2025-07-28T11:02:44.115968Z",
     "iopub.status.busy": "2025-07-28T11:02:44.115475Z",
     "iopub.status.idle": "2025-07-28T11:02:44.122870Z",
     "shell.execute_reply": "2025-07-28T11:02:44.121945Z"
    },
    "papermill": {
     "duration": 0.033466,
     "end_time": "2025-07-28T11:02:44.124551",
     "exception": false,
     "start_time": "2025-07-28T11:02:44.091085",
     "status": "completed"
    },
    "tags": []
   },
   "outputs": [
    {
     "data": {
      "text/plain": [
       "{'frau1': 0.9126027766545356,\n",
       " 'nongerman': 0.9094481558412395,\n",
       " 'nongerman_male': 0.9243447716833288,\n",
       " 'nongerman_female': 0.8847988077496274}"
      ]
     },
     "execution_count": 62,
     "metadata": {},
     "output_type": "execute_result"
    }
   ],
   "source": [
    "cond_coverage"
   ]
  },
  {
   "cell_type": "code",
   "execution_count": 63,
   "id": "f5093324-c3dd-4d63-bc4c-8d945e5c8bbb",
   "metadata": {
    "execution": {
     "iopub.execute_input": "2025-07-28T11:02:44.173302Z",
     "iopub.status.busy": "2025-07-28T11:02:44.172798Z",
     "iopub.status.idle": "2025-07-28T11:02:44.180250Z",
     "shell.execute_reply": "2025-07-28T11:02:44.179334Z"
    },
    "papermill": {
     "duration": 0.033543,
     "end_time": "2025-07-28T11:02:44.181836",
     "exception": false,
     "start_time": "2025-07-28T11:02:44.148293",
     "status": "completed"
    },
    "tags": []
   },
   "outputs": [],
   "source": [
    "for subgroup, cov in cond_coverage.items():\n",
    "    cp_metrics_df[f\"cov_{subgroup}\"] = cov"
   ]
  },
  {
   "cell_type": "code",
   "execution_count": 64,
   "id": "6e872e10-dbe5-49e8-b554-5030c98ff75d",
   "metadata": {
    "execution": {
     "iopub.execute_input": "2025-07-28T11:02:44.230763Z",
     "iopub.status.busy": "2025-07-28T11:02:44.230219Z",
     "iopub.status.idle": "2025-07-28T11:02:44.249738Z",
     "shell.execute_reply": "2025-07-28T11:02:44.248709Z"
    },
    "papermill": {
     "duration": 0.045725,
     "end_time": "2025-07-28T11:02:44.251354",
     "exception": false,
     "start_time": "2025-07-28T11:02:44.205629",
     "status": "completed"
    },
    "tags": []
   },
   "outputs": [
    {
     "data": {
      "text/html": [
       "<div>\n",
       "<style scoped>\n",
       "    .dataframe tbody tr th:only-of-type {\n",
       "        vertical-align: middle;\n",
       "    }\n",
       "\n",
       "    .dataframe tbody tr th {\n",
       "        vertical-align: top;\n",
       "    }\n",
       "\n",
       "    .dataframe thead th {\n",
       "        text-align: right;\n",
       "    }\n",
       "</style>\n",
       "<table border=\"1\" class=\"dataframe\">\n",
       "  <thead>\n",
       "    <tr style=\"text-align: right;\">\n",
       "      <th></th>\n",
       "      <th>universe_id</th>\n",
       "      <th>universe_training_size</th>\n",
       "      <th>universe_scale</th>\n",
       "      <th>universe_model</th>\n",
       "      <th>universe_exclude_features</th>\n",
       "      <th>universe_exclude_subgroups</th>\n",
       "      <th>q_hat</th>\n",
       "      <th>coverage</th>\n",
       "      <th>avg_size</th>\n",
       "      <th>cov_frau1</th>\n",
       "      <th>cov_nongerman</th>\n",
       "      <th>cov_nongerman_male</th>\n",
       "      <th>cov_nongerman_female</th>\n",
       "    </tr>\n",
       "  </thead>\n",
       "  <tbody>\n",
       "    <tr>\n",
       "      <th>0</th>\n",
       "      <td>5fc62cc8a7370850df2b626acf6bb8fa</td>\n",
       "      <td>2014</td>\n",
       "      <td>scale</td>\n",
       "      <td>elasticnet</td>\n",
       "      <td>sex</td>\n",
       "      <td>drop-non-german</td>\n",
       "      <td>0.674247</td>\n",
       "      <td>0.912518</td>\n",
       "      <td>1.120756</td>\n",
       "      <td>0.912603</td>\n",
       "      <td>0.909448</td>\n",
       "      <td>0.924345</td>\n",
       "      <td>0.884799</td>\n",
       "    </tr>\n",
       "  </tbody>\n",
       "</table>\n",
       "</div>"
      ],
      "text/plain": [
       "                        universe_id universe_training_size universe_scale  \\\n",
       "0  5fc62cc8a7370850df2b626acf6bb8fa                   2014          scale   \n",
       "\n",
       "  universe_model universe_exclude_features universe_exclude_subgroups  \\\n",
       "0     elasticnet                       sex            drop-non-german   \n",
       "\n",
       "      q_hat  coverage  avg_size  cov_frau1  cov_nongerman  cov_nongerman_male  \\\n",
       "0  0.674247  0.912518  1.120756   0.912603       0.909448            0.924345   \n",
       "\n",
       "   cov_nongerman_female  \n",
       "0              0.884799  "
      ]
     },
     "execution_count": 64,
     "metadata": {},
     "output_type": "execute_result"
    }
   ],
   "source": [
    "cp_metrics_df"
   ]
  },
  {
   "cell_type": "markdown",
   "id": "33774451",
   "metadata": {
    "papermill": {
     "duration": 0.02359,
     "end_time": "2025-07-28T11:02:44.299277",
     "exception": false,
     "start_time": "2025-07-28T11:02:44.275687",
     "status": "completed"
    },
    "tags": []
   },
   "source": [
    "# (Fairness) Metrics"
   ]
  },
  {
   "cell_type": "code",
   "execution_count": 65,
   "id": "debc5d62",
   "metadata": {
    "execution": {
     "iopub.execute_input": "2025-07-28T11:02:44.348782Z",
     "iopub.status.busy": "2025-07-28T11:02:44.347917Z",
     "iopub.status.idle": "2025-07-28T11:02:44.370243Z",
     "shell.execute_reply": "2025-07-28T11:02:44.369350Z"
    },
    "papermill": {
     "duration": 0.048981,
     "end_time": "2025-07-28T11:02:44.372070",
     "exception": false,
     "start_time": "2025-07-28T11:02:44.323089",
     "status": "completed"
    },
    "tags": []
   },
   "outputs": [],
   "source": [
    "# do I need to include maxdeutsch1.missing?\n",
    "\n",
    "import numpy as np\n",
    "\n",
    "colname_to_bin = \"maxdeutsch1\"\n",
    "majority_value = org_train[colname_to_bin].mode()[0]\n",
    "\n",
    "org_test[\"majmin\"] = np.where(org_test[colname_to_bin] == majority_value, \"majority\", \"minority\")"
   ]
  },
  {
   "cell_type": "code",
   "execution_count": 66,
   "id": "06a50de5",
   "metadata": {
    "execution": {
     "iopub.execute_input": "2025-07-28T11:02:44.422289Z",
     "iopub.status.busy": "2025-07-28T11:02:44.421729Z",
     "iopub.status.idle": "2025-07-28T11:02:47.488926Z",
     "shell.execute_reply": "2025-07-28T11:02:47.487981Z"
    },
    "papermill": {
     "duration": 3.09422,
     "end_time": "2025-07-28T11:02:47.490895",
     "exception": false,
     "start_time": "2025-07-28T11:02:44.396675",
     "status": "completed"
    },
    "tags": []
   },
   "outputs": [],
   "source": [
    "example_universe = universe.copy()\n",
    "example_universe[\"cutoff\"] = example_universe[\"cutoff\"][0]\n",
    "example_universe[\"eval_fairness_grouping\"] = example_universe[\"eval_fairness_grouping\"][0]\n",
    "fairness_dict, metric_frame = universe_analysis.compute_metrics(\n",
    "    example_universe,\n",
    "    y_pred_prob=probs_test,\n",
    "    y_test=y_true,\n",
    "    org_test=org_test,\n",
    ")"
   ]
  },
  {
   "cell_type": "markdown",
   "id": "f95d4e02",
   "metadata": {
    "papermill": {
     "duration": 0.068482,
     "end_time": "2025-07-28T11:02:47.586684",
     "exception": false,
     "start_time": "2025-07-28T11:02:47.518202",
     "status": "completed"
    },
    "tags": []
   },
   "source": [
    "# Overall"
   ]
  },
  {
   "cell_type": "markdown",
   "id": "bdee4871",
   "metadata": {
    "papermill": {
     "duration": 0.024319,
     "end_time": "2025-07-28T11:02:47.635616",
     "exception": false,
     "start_time": "2025-07-28T11:02:47.611297",
     "status": "completed"
    },
    "tags": []
   },
   "source": [
    "Fairness\n",
    "Main fairness target: Equalized Odds. Seems to be a better fit than equal opportunity, since we're not only interested in Y = 1. Seems to be a better fit than demographic parity, since we also care about accuracy, not just equal distribution of preds.\n",
    "\n",
    "Pick column for computation of fairness metrics\n",
    "\n",
    "Performance\n",
    "Overall performance measures, most interesting in relation to the measures split by group below"
   ]
  },
  {
   "cell_type": "code",
   "execution_count": 67,
   "id": "c4e067c6",
   "metadata": {
    "execution": {
     "iopub.execute_input": "2025-07-28T11:02:47.686567Z",
     "iopub.status.busy": "2025-07-28T11:02:47.685913Z",
     "iopub.status.idle": "2025-07-28T11:02:47.695557Z",
     "shell.execute_reply": "2025-07-28T11:02:47.694625Z"
    },
    "papermill": {
     "duration": 0.037156,
     "end_time": "2025-07-28T11:02:47.697242",
     "exception": false,
     "start_time": "2025-07-28T11:02:47.660086",
     "status": "completed"
    },
    "tags": []
   },
   "outputs": [
    {
     "data": {
      "text/plain": [
       "accuracy                   0.225605\n",
       "balanced accuracy          0.551377\n",
       "f1                         0.246902\n",
       "precision                  0.141047\n",
       "false positive rate        0.886819\n",
       "false negative rate        0.010428\n",
       "selection rate             0.900000\n",
       "count                  89710.000000\n",
       "dtype: float64"
      ]
     },
     "execution_count": 67,
     "metadata": {},
     "output_type": "execute_result"
    }
   ],
   "source": [
    "metric_frame.overall"
   ]
  },
  {
   "cell_type": "markdown",
   "id": "e968fe9d",
   "metadata": {
    "papermill": {
     "duration": 0.024879,
     "end_time": "2025-07-28T11:02:47.747204",
     "exception": false,
     "start_time": "2025-07-28T11:02:47.722325",
     "status": "completed"
    },
    "tags": []
   },
   "source": [
    "By Group"
   ]
  },
  {
   "cell_type": "code",
   "execution_count": 68,
   "id": "ec325bce",
   "metadata": {
    "execution": {
     "iopub.execute_input": "2025-07-28T11:02:47.798579Z",
     "iopub.status.busy": "2025-07-28T11:02:47.797886Z",
     "iopub.status.idle": "2025-07-28T11:02:47.813386Z",
     "shell.execute_reply": "2025-07-28T11:02:47.812405Z"
    },
    "papermill": {
     "duration": 0.042991,
     "end_time": "2025-07-28T11:02:47.815138",
     "exception": false,
     "start_time": "2025-07-28T11:02:47.772147",
     "status": "completed"
    },
    "tags": []
   },
   "outputs": [
    {
     "data": {
      "text/html": [
       "<div>\n",
       "<style scoped>\n",
       "    .dataframe tbody tr th:only-of-type {\n",
       "        vertical-align: middle;\n",
       "    }\n",
       "\n",
       "    .dataframe tbody tr th {\n",
       "        vertical-align: top;\n",
       "    }\n",
       "\n",
       "    .dataframe thead th {\n",
       "        text-align: right;\n",
       "    }\n",
       "</style>\n",
       "<table border=\"1\" class=\"dataframe\">\n",
       "  <thead>\n",
       "    <tr style=\"text-align: right;\">\n",
       "      <th></th>\n",
       "      <th>accuracy</th>\n",
       "      <th>balanced accuracy</th>\n",
       "      <th>f1</th>\n",
       "      <th>precision</th>\n",
       "      <th>false positive rate</th>\n",
       "      <th>false negative rate</th>\n",
       "      <th>selection rate</th>\n",
       "      <th>count</th>\n",
       "    </tr>\n",
       "    <tr>\n",
       "      <th>majmin</th>\n",
       "      <th></th>\n",
       "      <th></th>\n",
       "      <th></th>\n",
       "      <th></th>\n",
       "      <th></th>\n",
       "      <th></th>\n",
       "      <th></th>\n",
       "      <th></th>\n",
       "    </tr>\n",
       "  </thead>\n",
       "  <tbody>\n",
       "    <tr>\n",
       "      <th>majority</th>\n",
       "      <td>0.247564</td>\n",
       "      <td>0.561677</td>\n",
       "      <td>0.257737</td>\n",
       "      <td>0.148185</td>\n",
       "      <td>0.865267</td>\n",
       "      <td>0.011379</td>\n",
       "      <td>0.881567</td>\n",
       "      <td>69170.0</td>\n",
       "    </tr>\n",
       "    <tr>\n",
       "      <th>minority</th>\n",
       "      <td>0.151655</td>\n",
       "      <td>0.517615</td>\n",
       "      <td>0.212572</td>\n",
       "      <td>0.119022</td>\n",
       "      <td>0.958012</td>\n",
       "      <td>0.006757</td>\n",
       "      <td>0.962074</td>\n",
       "      <td>20540.0</td>\n",
       "    </tr>\n",
       "  </tbody>\n",
       "</table>\n",
       "</div>"
      ],
      "text/plain": [
       "          accuracy  balanced accuracy        f1  precision  \\\n",
       "majmin                                                       \n",
       "majority  0.247564           0.561677  0.257737   0.148185   \n",
       "minority  0.151655           0.517615  0.212572   0.119022   \n",
       "\n",
       "          false positive rate  false negative rate  selection rate    count  \n",
       "majmin                                                                       \n",
       "majority             0.865267             0.011379        0.881567  69170.0  \n",
       "minority             0.958012             0.006757        0.962074  20540.0  "
      ]
     },
     "execution_count": 68,
     "metadata": {},
     "output_type": "execute_result"
    }
   ],
   "source": [
    "metric_frame.by_group"
   ]
  },
  {
   "cell_type": "code",
   "execution_count": 69,
   "id": "a9ddbe63",
   "metadata": {
    "execution": {
     "iopub.execute_input": "2025-07-28T11:02:47.867609Z",
     "iopub.status.busy": "2025-07-28T11:02:47.866895Z",
     "iopub.status.idle": "2025-07-28T11:02:50.083086Z",
     "shell.execute_reply": "2025-07-28T11:02:50.081954Z"
    },
    "papermill": {
     "duration": 2.244306,
     "end_time": "2025-07-28T11:02:50.084965",
     "exception": false,
     "start_time": "2025-07-28T11:02:47.840659",
     "status": "completed"
    },
    "tags": []
   },
   "outputs": [
    {
     "data": {
      "text/plain": [
       "array([[<Axes: title={'center': 'accuracy'}, xlabel='majmin'>,\n",
       "        <Axes: title={'center': 'balanced accuracy'}, xlabel='majmin'>,\n",
       "        <Axes: title={'center': 'f1'}, xlabel='majmin'>],\n",
       "       [<Axes: title={'center': 'precision'}, xlabel='majmin'>,\n",
       "        <Axes: title={'center': 'false positive rate'}, xlabel='majmin'>,\n",
       "        <Axes: title={'center': 'false negative rate'}, xlabel='majmin'>],\n",
       "       [<Axes: title={'center': 'selection rate'}, xlabel='majmin'>,\n",
       "        <Axes: title={'center': 'count'}, xlabel='majmin'>,\n",
       "        <Axes: xlabel='majmin'>]], dtype=object)"
      ]
     },
     "execution_count": 69,
     "metadata": {},
     "output_type": "execute_result"
    },
    {
     "data": {
      "image/png": "[encoded data removed]",
      "text/plain": [
       "<Figure size 1200x800 with 9 Axes>"
      ]
     },
     "metadata": {},
     "output_type": "display_data"
    }
   ],
   "source": [
    "# In a graphic\n",
    "metric_frame.by_group.plot.bar(\n",
    "    subplots=True,\n",
    "    layout=[3, 3],\n",
    "    legend=False,\n",
    "    figsize=[12, 8],\n",
    "    title=\"Show all metrics\",\n",
    ")"
   ]
  },
  {
   "cell_type": "markdown",
   "id": "f57a0bac",
   "metadata": {
    "papermill": {
     "duration": 0.016057,
     "end_time": "2025-07-28T11:02:50.122630",
     "exception": false,
     "start_time": "2025-07-28T11:02:50.106573",
     "status": "completed"
    },
    "tags": []
   },
   "source": [
    "# Final Output"
   ]
  },
  {
   "cell_type": "code",
   "execution_count": 70,
   "id": "96d280a3",
   "metadata": {
    "execution": {
     "iopub.execute_input": "2025-07-28T11:02:50.157482Z",
     "iopub.status.busy": "2025-07-28T11:02:50.156296Z",
     "iopub.status.idle": "2025-07-28T11:02:50.166308Z",
     "shell.execute_reply": "2025-07-28T11:02:50.165088Z"
    },
    "papermill": {
     "duration": 0.029669,
     "end_time": "2025-07-28T11:02:50.168513",
     "exception": false,
     "start_time": "2025-07-28T11:02:50.138844",
     "status": "completed"
    },
    "tags": []
   },
   "outputs": [
    {
     "data": {
      "text/plain": [
       "4"
      ]
     },
     "execution_count": 70,
     "metadata": {},
     "output_type": "execute_result"
    }
   ],
   "source": [
    "sub_universes = universe_analysis.generate_sub_universes()\n",
    "len(sub_universes)"
   ]
  },
  {
   "cell_type": "code",
   "execution_count": 71,
   "id": "92adf7ba",
   "metadata": {
    "execution": {
     "iopub.execute_input": "2025-07-28T11:02:50.253970Z",
     "iopub.status.busy": "2025-07-28T11:02:50.253168Z",
     "iopub.status.idle": "2025-07-28T11:02:50.260316Z",
     "shell.execute_reply": "2025-07-28T11:02:50.259150Z"
    },
    "papermill": {
     "duration": 0.053006,
     "end_time": "2025-07-28T11:02:50.262524",
     "exception": false,
     "start_time": "2025-07-28T11:02:50.209518",
     "status": "completed"
    },
    "tags": []
   },
   "outputs": [],
   "source": [
    "def filter_sub_universe_data(sub_universe, org_test):\n",
    "    # Keep all rows — no filtering\n",
    "    keep_rows_mask = np.ones(org_test.shape[0], dtype=bool)\n",
    "\n",
    "    print(f\"[INFO] Keeping all rows: {keep_rows_mask.sum()} rows retained.\")\n",
    "    return keep_rows_mask"
   ]
  },
  {
   "cell_type": "code",
   "execution_count": 72,
   "id": "4a759155",
   "metadata": {
    "execution": {
     "iopub.execute_input": "2025-07-28T11:02:50.313227Z",
     "iopub.status.busy": "2025-07-28T11:02:50.312784Z",
     "iopub.status.idle": "2025-07-28T11:02:59.702589Z",
     "shell.execute_reply": "2025-07-28T11:02:59.701466Z"
    },
    "papermill": {
     "duration": 9.408597,
     "end_time": "2025-07-28T11:02:59.704373",
     "exception": false,
     "start_time": "2025-07-28T11:02:50.295776",
     "status": "completed"
    },
    "tags": []
   },
   "outputs": [
    {
     "name": "stdout",
     "output_type": "stream",
     "text": [
      "Stopping execution_time clock.\n",
      "[INFO] Keeping all rows: 89710 rows retained.\n"
     ]
    },
    {
     "name": "stdout",
     "output_type": "stream",
     "text": [
      "[INFO] Keeping all rows: 89710 rows retained.\n"
     ]
    },
    {
     "name": "stdout",
     "output_type": "stream",
     "text": [
      "[INFO] Keeping all rows: 89710 rows retained.\n"
     ]
    },
    {
     "name": "stdout",
     "output_type": "stream",
     "text": [
      "[INFO] Keeping all rows: 89710 rows retained.\n"
     ]
    },
    {
     "data": {
      "text/html": [
       "<div>\n",
       "<style scoped>\n",
       "    .dataframe tbody tr th:only-of-type {\n",
       "        vertical-align: middle;\n",
       "    }\n",
       "\n",
       "    .dataframe tbody tr th {\n",
       "        vertical-align: top;\n",
       "    }\n",
       "\n",
       "    .dataframe thead th {\n",
       "        text-align: right;\n",
       "    }\n",
       "</style>\n",
       "<table border=\"1\" class=\"dataframe\">\n",
       "  <thead>\n",
       "    <tr style=\"text-align: right;\">\n",
       "      <th></th>\n",
       "      <th>run_no</th>\n",
       "      <th>universe_id</th>\n",
       "      <th>universe_settings</th>\n",
       "      <th>execution_time</th>\n",
       "      <th>test_size_n</th>\n",
       "      <th>test_size_frac</th>\n",
       "      <th>fair_main_equalized_odds_difference</th>\n",
       "      <th>fair_main_equalized_odds_ratio</th>\n",
       "      <th>fair_main_demographic_parity_difference</th>\n",
       "      <th>fair_main_demographic_parity_ratio</th>\n",
       "      <th>...</th>\n",
       "      <th>perf_grp_precision_0</th>\n",
       "      <th>perf_grp_precision_1</th>\n",
       "      <th>perf_grp_false positive rate_0</th>\n",
       "      <th>perf_grp_false positive rate_1</th>\n",
       "      <th>perf_grp_false negative rate_0</th>\n",
       "      <th>perf_grp_false negative rate_1</th>\n",
       "      <th>perf_grp_selection rate_0</th>\n",
       "      <th>perf_grp_selection rate_1</th>\n",
       "      <th>perf_grp_count_0</th>\n",
       "      <th>perf_grp_count_1</th>\n",
       "    </tr>\n",
       "  </thead>\n",
       "  <tbody>\n",
       "    <tr>\n",
       "      <th>0</th>\n",
       "      <td>11</td>\n",
       "      <td>5fc62cc8a7370850df2b626acf6bb8fa</td>\n",
       "      <td>{\"cutoff\": \"quantile_0.1\", \"eval_fairness_grou...</td>\n",
       "      <td>58.598867</td>\n",
       "      <td>89710</td>\n",
       "      <td>1.0</td>\n",
       "      <td>0.092745</td>\n",
       "      <td>0.903190</td>\n",
       "      <td>0.080507</td>\n",
       "      <td>0.916319</td>\n",
       "      <td>...</td>\n",
       "      <td>NaN</td>\n",
       "      <td>NaN</td>\n",
       "      <td>NaN</td>\n",
       "      <td>NaN</td>\n",
       "      <td>NaN</td>\n",
       "      <td>NaN</td>\n",
       "      <td>NaN</td>\n",
       "      <td>NaN</td>\n",
       "      <td>NaN</td>\n",
       "      <td>NaN</td>\n",
       "    </tr>\n",
       "    <tr>\n",
       "      <th>0</th>\n",
       "      <td>11</td>\n",
       "      <td>5fc62cc8a7370850df2b626acf6bb8fa</td>\n",
       "      <td>{\"cutoff\": \"quantile_0.1\", \"eval_fairness_grou...</td>\n",
       "      <td>58.598867</td>\n",
       "      <td>89710</td>\n",
       "      <td>1.0</td>\n",
       "      <td>0.092745</td>\n",
       "      <td>0.903190</td>\n",
       "      <td>0.080507</td>\n",
       "      <td>0.916319</td>\n",
       "      <td>...</td>\n",
       "      <td>0.119022</td>\n",
       "      <td>0.148185</td>\n",
       "      <td>0.958012</td>\n",
       "      <td>0.865267</td>\n",
       "      <td>0.006757</td>\n",
       "      <td>0.011379</td>\n",
       "      <td>0.962074</td>\n",
       "      <td>0.881567</td>\n",
       "      <td>20540.0</td>\n",
       "      <td>69170.0</td>\n",
       "    </tr>\n",
       "    <tr>\n",
       "      <th>0</th>\n",
       "      <td>11</td>\n",
       "      <td>5fc62cc8a7370850df2b626acf6bb8fa</td>\n",
       "      <td>{\"cutoff\": \"quantile_0.25\", \"eval_fairness_gro...</td>\n",
       "      <td>58.598867</td>\n",
       "      <td>89710</td>\n",
       "      <td>1.0</td>\n",
       "      <td>0.132563</td>\n",
       "      <td>0.838705</td>\n",
       "      <td>0.113087</td>\n",
       "      <td>0.864930</td>\n",
       "      <td>...</td>\n",
       "      <td>NaN</td>\n",
       "      <td>NaN</td>\n",
       "      <td>NaN</td>\n",
       "      <td>NaN</td>\n",
       "      <td>NaN</td>\n",
       "      <td>NaN</td>\n",
       "      <td>NaN</td>\n",
       "      <td>NaN</td>\n",
       "      <td>NaN</td>\n",
       "      <td>NaN</td>\n",
       "    </tr>\n",
       "    <tr>\n",
       "      <th>0</th>\n",
       "      <td>11</td>\n",
       "      <td>5fc62cc8a7370850df2b626acf6bb8fa</td>\n",
       "      <td>{\"cutoff\": \"quantile_0.25\", \"eval_fairness_gro...</td>\n",
       "      <td>58.598867</td>\n",
       "      <td>89710</td>\n",
       "      <td>1.0</td>\n",
       "      <td>0.132563</td>\n",
       "      <td>0.838705</td>\n",
       "      <td>0.113087</td>\n",
       "      <td>0.864930</td>\n",
       "      <td>...</td>\n",
       "      <td>0.131535</td>\n",
       "      <td>0.173907</td>\n",
       "      <td>0.821869</td>\n",
       "      <td>0.689305</td>\n",
       "      <td>0.044764</td>\n",
       "      <td>0.046937</td>\n",
       "      <td>0.837244</td>\n",
       "      <td>0.724158</td>\n",
       "      <td>20540.0</td>\n",
       "      <td>69170.0</td>\n",
       "    </tr>\n",
       "  </tbody>\n",
       "</table>\n",
       "<p>4 rows × 50 columns</p>\n",
       "</div>"
      ],
      "text/plain": [
       "  run_no                       universe_id  \\\n",
       "0     11  5fc62cc8a7370850df2b626acf6bb8fa   \n",
       "0     11  5fc62cc8a7370850df2b626acf6bb8fa   \n",
       "0     11  5fc62cc8a7370850df2b626acf6bb8fa   \n",
       "0     11  5fc62cc8a7370850df2b626acf6bb8fa   \n",
       "\n",
       "                                   universe_settings  execution_time  \\\n",
       "0  {\"cutoff\": \"quantile_0.1\", \"eval_fairness_grou...       58.598867   \n",
       "0  {\"cutoff\": \"quantile_0.1\", \"eval_fairness_grou...       58.598867   \n",
       "0  {\"cutoff\": \"quantile_0.25\", \"eval_fairness_gro...       58.598867   \n",
       "0  {\"cutoff\": \"quantile_0.25\", \"eval_fairness_gro...       58.598867   \n",
       "\n",
       "   test_size_n  test_size_frac  fair_main_equalized_odds_difference  \\\n",
       "0        89710             1.0                             0.092745   \n",
       "0        89710             1.0                             0.092745   \n",
       "0        89710             1.0                             0.132563   \n",
       "0        89710             1.0                             0.132563   \n",
       "\n",
       "   fair_main_equalized_odds_ratio  fair_main_demographic_parity_difference  \\\n",
       "0                        0.903190                                 0.080507   \n",
       "0                        0.903190                                 0.080507   \n",
       "0                        0.838705                                 0.113087   \n",
       "0                        0.838705                                 0.113087   \n",
       "\n",
       "   fair_main_demographic_parity_ratio  ...  perf_grp_precision_0  \\\n",
       "0                            0.916319  ...                   NaN   \n",
       "0                            0.916319  ...              0.119022   \n",
       "0                            0.864930  ...                   NaN   \n",
       "0                            0.864930  ...              0.131535   \n",
       "\n",
       "   perf_grp_precision_1  perf_grp_false positive rate_0  \\\n",
       "0                   NaN                             NaN   \n",
       "0              0.148185                        0.958012   \n",
       "0                   NaN                             NaN   \n",
       "0              0.173907                        0.821869   \n",
       "\n",
       "   perf_grp_false positive rate_1  perf_grp_false negative rate_0  \\\n",
       "0                             NaN                             NaN   \n",
       "0                        0.865267                        0.006757   \n",
       "0                             NaN                             NaN   \n",
       "0                        0.689305                        0.044764   \n",
       "\n",
       "   perf_grp_false negative rate_1  perf_grp_selection rate_0  \\\n",
       "0                             NaN                        NaN   \n",
       "0                        0.011379                   0.962074   \n",
       "0                             NaN                        NaN   \n",
       "0                        0.046937                   0.837244   \n",
       "\n",
       "   perf_grp_selection rate_1  perf_grp_count_0  perf_grp_count_1  \n",
       "0                        NaN               NaN               NaN  \n",
       "0                   0.881567           20540.0           69170.0  \n",
       "0                        NaN               NaN               NaN  \n",
       "0                   0.724158           20540.0           69170.0  \n",
       "\n",
       "[4 rows x 50 columns]"
      ]
     },
     "execution_count": 72,
     "metadata": {},
     "output_type": "execute_result"
    }
   ],
   "source": [
    "final_output = universe_analysis.generate_final_output(\n",
    "    y_pred_prob=probs_test,\n",
    "    y_test=y_true,\n",
    "    org_test=org_test,\n",
    "    filter_data=filter_sub_universe_data,\n",
    "    cp_metrics_df=cp_metrics_df,\n",
    "    save=True,\n",
    ")\n",
    "final_output"
   ]
  },
  {
   "cell_type": "code",
   "execution_count": null,
   "id": "721ff514-cb11-46f8-b6fc-50392f74b5cb",
   "metadata": {
    "papermill": {
     "duration": 0.02721,
     "end_time": "2025-07-28T11:02:59.761859",
     "exception": false,
     "start_time": "2025-07-28T11:02:59.734649",
     "status": "completed"
    },
    "tags": []
   },
   "outputs": [],
   "source": []
  }
 ],
 "metadata": {
  "celltoolbar": "Tags",
  "kernelspec": {
   "display_name": "Python (CMA Fairness)",
   "language": "python",
   "name": "cma_fair_env"
  },
  "language_info": {
   "codemirror_mode": {
    "name": "ipython",
    "version": 3
   },
   "file_extension": ".py",
   "mimetype": "text/x-python",
   "name": "python",
   "nbconvert_exporter": "python",
   "pygments_lexer": "ipython3",
   "version": "3.10.12"
  },
  "papermill": {
   "default_parameters": {},
   "duration": 72.209468,
   "end_time": "2025-07-28T11:03:00.613828",
   "environment_variables": {},
   "exception": null,
   "input_path": "universe_analysis.ipynb",
   "output_path": "output/runs/11/notebooks/m_11-5fc62cc8a7370850df2b626acf6bb8fa.ipynb",
   "parameters": {
    "output_dir": "output",
    "run_no": "11",
    "seed": "2023",
    "universe": "{\"cutoff\": [\"quantile_0.1\", \"quantile_0.25\"], \"eval_fairness_grouping\": [\"majority-minority\", \"nationality-all\"], \"exclude_features\": \"sex\", \"exclude_subgroups\": \"drop-non-german\", \"model\": \"elasticnet\", \"scale\": \"scale\", \"training_size\": \"2014\"}",
    "universe_id": "5fc62cc8a7370850df2b626acf6bb8fa"
   },
   "start_time": "2025-07-28T11:01:48.404360",
   "version": "2.6.0"
  }
 },
 "nbformat": 4,
 "nbformat_minor": 5
}