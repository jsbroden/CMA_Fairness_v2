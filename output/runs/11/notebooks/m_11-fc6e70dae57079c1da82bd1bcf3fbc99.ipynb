{
 "cells": [
  {
   "cell_type": "code",
   "execution_count": 1,
   "id": "f159f837-637b-42ba-96b5-ec9a68c44524",
   "metadata": {
    "execution": {
     "iopub.execute_input": "2025-07-28T10:53:43.881970Z",
     "iopub.status.busy": "2025-07-28T10:53:43.881470Z",
     "iopub.status.idle": "2025-07-28T10:53:43.896558Z",
     "shell.execute_reply": "2025-07-28T10:53:43.895492Z"
    },
    "papermill": {
     "duration": 0.037552,
     "end_time": "2025-07-28T10:53:43.898359",
     "exception": false,
     "start_time": "2025-07-28T10:53:43.860807",
     "status": "completed"
    },
    "tags": []
   },
   "outputs": [
    {
     "name": "stdout",
     "output_type": "stream",
     "text": [
      "/dss/dsshome1/0C/ra93lal2/cma/CMA_Fairness_v2\n"
     ]
    },
    {
     "name": "stderr",
     "output_type": "stream",
     "text": [
      "/dss/dsshome1/0C/ra93lal2/.local/share/virtualenvs/CMA_Fairness_v2-3j10GkSs/lib/python3.10/site-packages/IPython/core/magics/osm.py:393: UserWarning: This is now an optional IPython functionality, using bookmarks requires you to install the `pickleshare` library.\n",
      "  bkms = self.shell.db.get('bookmarks', {})\n",
      "/dss/dsshome1/0C/ra93lal2/.local/share/virtualenvs/CMA_Fairness_v2-3j10GkSs/lib/python3.10/site-packages/IPython/core/magics/osm.py:417: UserWarning: This is now an optional IPython functionality, setting dhist requires you to install the `pickleshare` library.\n",
      "  self.shell.db['dhist'] = compress_dhist(dhist)[-100:]\n"
     ]
    }
   ],
   "source": [
    "%cd ~/cma/CMA_Fairness_v2"
   ]
  },
  {
   "cell_type": "markdown",
   "id": "de2603b9",
   "metadata": {
    "papermill": {
     "duration": 0.018483,
     "end_time": "2025-07-28T10:53:43.935363",
     "exception": false,
     "start_time": "2025-07-28T10:53:43.916880",
     "status": "completed"
    },
    "tags": []
   },
   "source": [
    "The following cell holds the definition of our parameters, these values can be overriden by rendering the with e.g. the following command:\n",
    "\n",
    "papermill -p alpha 0.2 -p ratio 0.3 universe_analysis.ipynb output/test_run.ipynb"
   ]
  },
  {
   "cell_type": "code",
   "execution_count": 2,
   "id": "a80968a0-40bb-4fa9-85ef-2d5eefb01975",
   "metadata": {
    "execution": {
     "iopub.execute_input": "2025-07-28T10:53:43.972948Z",
     "iopub.status.busy": "2025-07-28T10:53:43.972213Z",
     "iopub.status.idle": "2025-07-28T10:53:43.978473Z",
     "shell.execute_reply": "2025-07-28T10:53:43.977450Z"
    },
    "papermill": {
     "duration": 0.027115,
     "end_time": "2025-07-28T10:53:43.980259",
     "exception": false,
     "start_time": "2025-07-28T10:53:43.953144",
     "status": "completed"
    },
    "tags": []
   },
   "outputs": [
    {
     "name": "stdout",
     "output_type": "stream",
     "text": [
      "Current working directory: /dss/dsshome1/0C/ra93lal2/cma/CMA_Fairness_v2\n"
     ]
    }
   ],
   "source": [
    "import os\n",
    "print(\"Current working directory:\", os.getcwd())"
   ]
  },
  {
   "cell_type": "code",
   "execution_count": 3,
   "id": "2dce4c03",
   "metadata": {
    "execution": {
     "iopub.execute_input": "2025-07-28T10:53:44.018664Z",
     "iopub.status.busy": "2025-07-28T10:53:44.017969Z",
     "iopub.status.idle": "2025-07-28T10:53:44.024850Z",
     "shell.execute_reply": "2025-07-28T10:53:44.023808Z"
    },
    "papermill": {
     "duration": 0.027891,
     "end_time": "2025-07-28T10:53:44.026500",
     "exception": false,
     "start_time": "2025-07-28T10:53:43.998609",
     "status": "completed"
    },
    "tags": [
     "parameters"
    ]
   },
   "outputs": [],
   "source": [
    "run_no = 0\n",
    "universe_id = \"test\"\n",
    "universe = {\n",
    "    \"training_size\": \"2014\", # \"25k\", \"5k\", \"1k\", \"2014\"\n",
    "    \"scale\": \"scale\", # \"scale\", \"do-not-scale\",\n",
    "    #\"stratify_split\": \"target\", # \"none\", \"target\", \"protected-attribute\", \"both\",\n",
    "    \"model\": \"elasticnet\", # \"logreg\", \"penalized_logreg\", \"rf\", \"gbm\", \"elasticnet\"\n",
    "    \"cutoff\": [\"quantile_0.15\", \"quantile_0.30\"],\n",
    "    \"exclude_features\": \"age\", # \"none\", \"nationality\", \"sex\", \"nationality-sex\", \"age\"\n",
    "    \"exclude_subgroups\": \"keep-all\", # \"keep-all\", \"drop-non-german\"\n",
    "    \"eval_fairness_grouping\": [\"majority-minority\", \"nationality-all\"]\n",
    "}\n",
    "\n",
    "output_dir=\"./output\"\n",
    "seed=0"
   ]
  },
  {
   "cell_type": "code",
   "execution_count": 4,
   "id": "eaaa8941",
   "metadata": {
    "execution": {
     "iopub.execute_input": "2025-07-28T10:53:44.065525Z",
     "iopub.status.busy": "2025-07-28T10:53:44.064810Z",
     "iopub.status.idle": "2025-07-28T10:53:44.070320Z",
     "shell.execute_reply": "2025-07-28T10:53:44.069389Z"
    },
    "papermill": {
     "duration": 0.026453,
     "end_time": "2025-07-28T10:53:44.071845",
     "exception": false,
     "start_time": "2025-07-28T10:53:44.045392",
     "status": "completed"
    },
    "tags": [
     "injected-parameters"
    ]
   },
   "outputs": [],
   "source": [
    "# Parameters\n",
    "universe_id = \"fc6e70dae57079c1da82bd1bcf3fbc99\"\n",
    "run_no = \"11\"\n",
    "universe = \"{\\\"cutoff\\\": [\\\"quantile_0.1\\\", \\\"quantile_0.25\\\"], \\\"eval_fairness_grouping\\\": [\\\"majority-minority\\\", \\\"nationality-all\\\"], \\\"exclude_features\\\": \\\"nationality-sex\\\", \\\"exclude_subgroups\\\": \\\"keep-all\\\", \\\"model\\\": \\\"logreg\\\", \\\"scale\\\": \\\"scale\\\", \\\"training_size\\\": \\\"2014\\\"}\"\n",
    "output_dir = \"output\"\n",
    "seed = \"2023\"\n"
   ]
  },
  {
   "cell_type": "code",
   "execution_count": 5,
   "id": "1650acaf",
   "metadata": {
    "execution": {
     "iopub.execute_input": "2025-07-28T10:53:44.114110Z",
     "iopub.status.busy": "2025-07-28T10:53:44.113410Z",
     "iopub.status.idle": "2025-07-28T10:53:44.119172Z",
     "shell.execute_reply": "2025-07-28T10:53:44.118008Z"
    },
    "papermill": {
     "duration": 0.030237,
     "end_time": "2025-07-28T10:53:44.121045",
     "exception": false,
     "start_time": "2025-07-28T10:53:44.090808",
     "status": "completed"
    },
    "tags": []
   },
   "outputs": [],
   "source": [
    "import json\n",
    "# Parse universe into dict if it is passed as a string\n",
    "if isinstance(universe, str):\n",
    "    universe = json.loads(universe)"
   ]
  },
  {
   "cell_type": "code",
   "execution_count": 6,
   "id": "16620c48",
   "metadata": {
    "execution": {
     "iopub.execute_input": "2025-07-28T10:53:44.170900Z",
     "iopub.status.busy": "2025-07-28T10:53:44.170124Z",
     "iopub.status.idle": "2025-07-28T10:53:44.223641Z",
     "shell.execute_reply": "2025-07-28T10:53:44.222609Z"
    },
    "papermill": {
     "duration": 0.081687,
     "end_time": "2025-07-28T10:53:44.225573",
     "exception": false,
     "start_time": "2025-07-28T10:53:44.143886",
     "status": "completed"
    },
    "tags": []
   },
   "outputs": [],
   "source": [
    "# Auto-reload the custom package\n",
    "%load_ext autoreload\n",
    "%autoreload 1\n",
    "%aimport fairness_multiverse"
   ]
  },
  {
   "cell_type": "code",
   "execution_count": 7,
   "id": "01c5c9f3",
   "metadata": {
    "execution": {
     "iopub.execute_input": "2025-07-28T10:53:44.267326Z",
     "iopub.status.busy": "2025-07-28T10:53:44.266375Z",
     "iopub.status.idle": "2025-07-28T10:53:46.410056Z",
     "shell.execute_reply": "2025-07-28T10:53:46.408990Z"
    },
    "papermill": {
     "duration": 2.167447,
     "end_time": "2025-07-28T10:53:46.412072",
     "exception": false,
     "start_time": "2025-07-28T10:53:44.244625",
     "status": "completed"
    },
    "tags": []
   },
   "outputs": [],
   "source": [
    "from fairness_multiverse.universe import UniverseAnalysis\n",
    "\n",
    "universe_analysis = UniverseAnalysis(\n",
    "    run_no = run_no,\n",
    "    universe_id = universe_id,\n",
    "    universe = universe,\n",
    "    output_dir=output_dir,\n",
    ")"
   ]
  },
  {
   "cell_type": "code",
   "execution_count": 8,
   "id": "106241f5",
   "metadata": {
    "execution": {
     "iopub.execute_input": "2025-07-28T10:53:46.453701Z",
     "iopub.status.busy": "2025-07-28T10:53:46.453030Z",
     "iopub.status.idle": "2025-07-28T10:53:46.460328Z",
     "shell.execute_reply": "2025-07-28T10:53:46.459315Z"
    },
    "papermill": {
     "duration": 0.029819,
     "end_time": "2025-07-28T10:53:46.462004",
     "exception": false,
     "start_time": "2025-07-28T10:53:46.432185",
     "status": "completed"
    },
    "tags": []
   },
   "outputs": [
    {
     "name": "stdout",
     "output_type": "stream",
     "text": [
      "Using Seed: 2023\n"
     ]
    }
   ],
   "source": [
    "import numpy as np\n",
    "parsed_seed = int(seed)\n",
    "np.random.seed(parsed_seed)\n",
    "print(f\"Using Seed: {parsed_seed}\")"
   ]
  },
  {
   "cell_type": "markdown",
   "id": "e0ebdc57",
   "metadata": {
    "papermill": {
     "duration": 0.02239,
     "end_time": "2025-07-28T10:53:46.506378",
     "exception": false,
     "start_time": "2025-07-28T10:53:46.483988",
     "status": "completed"
    },
    "tags": []
   },
   "source": [
    "# Loading Data"
   ]
  },
  {
   "cell_type": "markdown",
   "id": "681925a3",
   "metadata": {
    "papermill": {
     "duration": 0.022299,
     "end_time": "2025-07-28T10:53:46.551502",
     "exception": false,
     "start_time": "2025-07-28T10:53:46.529203",
     "status": "completed"
    },
    "tags": []
   },
   "source": [
    "Load siab_train, siab_test, siab_calib and/or \n",
    "load siab_train_features, siab_train_labels"
   ]
  },
  {
   "cell_type": "code",
   "execution_count": 9,
   "id": "f0496b8a",
   "metadata": {
    "execution": {
     "iopub.execute_input": "2025-07-28T10:53:46.598582Z",
     "iopub.status.busy": "2025-07-28T10:53:46.598021Z",
     "iopub.status.idle": "2025-07-28T10:53:59.098699Z",
     "shell.execute_reply": "2025-07-28T10:53:59.097375Z"
    },
    "papermill": {
     "duration": 12.526215,
     "end_time": "2025-07-28T10:53:59.100475",
     "exception": false,
     "start_time": "2025-07-28T10:53:46.574260",
     "status": "completed"
    },
    "tags": []
   },
   "outputs": [
    {
     "name": "stdout",
     "output_type": "stream",
     "text": [
      "Loading SIAB data from cache: data/siab_cached.csv.gz\n"
     ]
    },
    {
     "name": "stdout",
     "output_type": "stream",
     "text": [
      "(643690, 164)\n"
     ]
    }
   ],
   "source": [
    "from pathlib import Path\n",
    "import pandas as pd\n",
    "\n",
    "# File paths\n",
    "raw_file = Path(\"data/raw/siab.csv\")\n",
    "cache_file = Path(\"data/siab_cached.csv.gz\")\n",
    "\n",
    "# Ensure cache directory exists\n",
    "cache_file.parent.mkdir(parents=True, exist_ok=True)\n",
    "\n",
    "# Load with simple caching\n",
    "if cache_file.exists():\n",
    "    print(f\"Loading SIAB data from cache: {cache_file}\")\n",
    "    siab = pd.read_csv(cache_file, compression='gzip')\n",
    "else:\n",
    "    print(f\"Cache not found. Reading raw SIAB data: {raw_file}\")\n",
    "    siab = pd.read_csv(raw_file)\n",
    "    siab.to_csv(cache_file, index=False, compression='gzip')\n",
    "    print(f\"Cached SIAB data to: {cache_file}\")\n",
    "\n",
    "# Now use `siab` DataFrame as needed\n",
    "print(siab.shape)"
   ]
  },
  {
   "cell_type": "code",
   "execution_count": 10,
   "id": "db0ca512-5f53-4dba-abdb-a2888bca41ba",
   "metadata": {
    "execution": {
     "iopub.execute_input": "2025-07-28T10:53:59.144507Z",
     "iopub.status.busy": "2025-07-28T10:53:59.143876Z",
     "iopub.status.idle": "2025-07-28T10:53:59.150350Z",
     "shell.execute_reply": "2025-07-28T10:53:59.149254Z"
    },
    "papermill": {
     "duration": 0.029478,
     "end_time": "2025-07-28T10:53:59.152173",
     "exception": false,
     "start_time": "2025-07-28T10:53:59.122695",
     "status": "completed"
    },
    "tags": []
   },
   "outputs": [],
   "source": [
    "#siab"
   ]
  },
  {
   "cell_type": "code",
   "execution_count": 11,
   "id": "a0edb063",
   "metadata": {
    "execution": {
     "iopub.execute_input": "2025-07-28T10:53:59.194045Z",
     "iopub.status.busy": "2025-07-28T10:53:59.193551Z",
     "iopub.status.idle": "2025-07-28T10:53:59.198930Z",
     "shell.execute_reply": "2025-07-28T10:53:59.197884Z"
    },
    "papermill": {
     "duration": 0.028471,
     "end_time": "2025-07-28T10:53:59.200798",
     "exception": false,
     "start_time": "2025-07-28T10:53:59.172327",
     "status": "completed"
    },
    "tags": []
   },
   "outputs": [],
   "source": [
    "#import pandas as pd\n",
    "#\n",
    "#X_train = pd.read_csv(\"./data/X_train.csv\")\n",
    "#y_train = pd.read_csv(\"./data/y_train.csv\")"
   ]
  },
  {
   "cell_type": "code",
   "execution_count": 12,
   "id": "63d08085",
   "metadata": {
    "execution": {
     "iopub.execute_input": "2025-07-28T10:53:59.243072Z",
     "iopub.status.busy": "2025-07-28T10:53:59.242299Z",
     "iopub.status.idle": "2025-07-28T10:53:59.247678Z",
     "shell.execute_reply": "2025-07-28T10:53:59.246720Z"
    },
    "papermill": {
     "duration": 0.028647,
     "end_time": "2025-07-28T10:53:59.249583",
     "exception": false,
     "start_time": "2025-07-28T10:53:59.220936",
     "status": "completed"
    },
    "tags": []
   },
   "outputs": [],
   "source": [
    "#X_test = pd.read_csv(\"./data/X_test.csv\")\n",
    "#y_true = pd.read_csv(\"./data/y_test.csv\")"
   ]
  },
  {
   "cell_type": "code",
   "execution_count": 13,
   "id": "98a8d0fa-1d3d-4ed8-bb2c-281470e24add",
   "metadata": {
    "execution": {
     "iopub.execute_input": "2025-07-28T10:53:59.292012Z",
     "iopub.status.busy": "2025-07-28T10:53:59.291110Z",
     "iopub.status.idle": "2025-07-28T10:53:59.296516Z",
     "shell.execute_reply": "2025-07-28T10:53:59.295483Z"
    },
    "papermill": {
     "duration": 0.028494,
     "end_time": "2025-07-28T10:53:59.298202",
     "exception": false,
     "start_time": "2025-07-28T10:53:59.269708",
     "status": "completed"
    },
    "tags": []
   },
   "outputs": [],
   "source": [
    "# Calibration data for conformal\n",
    "#X_calib = pd.read_csv(\"./data/X_calib.csv\")\n",
    "#y_calib = pd.read_csv(\"./data/y_calib.csv\")"
   ]
  },
  {
   "cell_type": "markdown",
   "id": "9901737e-04df-44f0-9100-f5ad144ed040",
   "metadata": {
    "papermill": {
     "duration": 0.023547,
     "end_time": "2025-07-28T10:53:59.342754",
     "exception": false,
     "start_time": "2025-07-28T10:53:59.319207",
     "status": "completed"
    },
    "tags": []
   },
   "source": [
    "# Splitting Data and Setting Training Data Size"
   ]
  },
  {
   "cell_type": "code",
   "execution_count": 14,
   "id": "acbc8f7d-8fc8-4e86-8c59-5dcb0f58384b",
   "metadata": {
    "execution": {
     "iopub.execute_input": "2025-07-28T10:53:59.394688Z",
     "iopub.status.busy": "2025-07-28T10:53:59.393863Z",
     "iopub.status.idle": "2025-07-28T10:53:59.402762Z",
     "shell.execute_reply": "2025-07-28T10:53:59.401602Z"
    },
    "papermill": {
     "duration": 0.038444,
     "end_time": "2025-07-28T10:53:59.405049",
     "exception": false,
     "start_time": "2025-07-28T10:53:59.366605",
     "status": "completed"
    },
    "tags": []
   },
   "outputs": [],
   "source": [
    "def sample_by_year(df, training_size, random_state=42):\n",
    "    if training_size == \"2014\":\n",
    "        return df[df[\"year\"] == 2014].reset_index(drop=True)\n",
    "    \n",
    "    size_map = {\n",
    "        \"25k\": 5000,\n",
    "        \"5k\": 1000,\n",
    "        \"1k\": 200\n",
    "    }\n",
    "\n",
    "    if training_size not in size_map:\n",
    "        return df.reset_index(drop=True)  # use all data\n",
    "\n",
    "    n_per_year = size_map[training_size]\n",
    "    grouped = df.groupby(\"year\")\n",
    "    sampled = grouped.apply(lambda x: x.sample(n=min(n_per_year, len(x)), random_state=random_state))\n",
    "    return sampled.reset_index(drop=True)"
   ]
  },
  {
   "cell_type": "code",
   "execution_count": 15,
   "id": "6d931f52-beaf-43ff-9e78-9d44a448d54e",
   "metadata": {
    "execution": {
     "iopub.execute_input": "2025-07-28T10:53:59.457626Z",
     "iopub.status.busy": "2025-07-28T10:53:59.456964Z",
     "iopub.status.idle": "2025-07-28T10:53:59.650501Z",
     "shell.execute_reply": "2025-07-28T10:53:59.649468Z"
    },
    "papermill": {
     "duration": 0.218334,
     "end_time": "2025-07-28T10:53:59.652567",
     "exception": false,
     "start_time": "2025-07-28T10:53:59.434233",
     "status": "completed"
    },
    "tags": []
   },
   "outputs": [],
   "source": [
    "siab_s = sample_by_year(siab, universe[\"training_size\"])"
   ]
  },
  {
   "cell_type": "code",
   "execution_count": 16,
   "id": "5db0a40e-a4e2-4920-be85-b12ae061d70d",
   "metadata": {
    "execution": {
     "iopub.execute_input": "2025-07-28T10:53:59.696573Z",
     "iopub.status.busy": "2025-07-28T10:53:59.695825Z",
     "iopub.status.idle": "2025-07-28T10:53:59.711793Z",
     "shell.execute_reply": "2025-07-28T10:53:59.710720Z"
    },
    "papermill": {
     "duration": 0.040062,
     "end_time": "2025-07-28T10:53:59.713569",
     "exception": false,
     "start_time": "2025-07-28T10:53:59.673507",
     "status": "completed"
    },
    "tags": []
   },
   "outputs": [
    {
     "data": {
      "text/plain": [
       "year\n",
       "2014    87158\n",
       "dtype: int64"
      ]
     },
     "metadata": {},
     "output_type": "display_data"
    }
   ],
   "source": [
    "display(siab_s.groupby(\"year\").size())"
   ]
  },
  {
   "cell_type": "code",
   "execution_count": 17,
   "id": "a561edb4-d032-42cb-8256-22eac1111c64",
   "metadata": {
    "execution": {
     "iopub.execute_input": "2025-07-28T10:53:59.757194Z",
     "iopub.status.busy": "2025-07-28T10:53:59.756320Z",
     "iopub.status.idle": "2025-07-28T10:54:00.050280Z",
     "shell.execute_reply": "2025-07-28T10:54:00.049424Z"
    },
    "papermill": {
     "duration": 0.318119,
     "end_time": "2025-07-28T10:54:00.052408",
     "exception": false,
     "start_time": "2025-07-28T10:53:59.734289",
     "status": "completed"
    },
    "tags": []
   },
   "outputs": [],
   "source": [
    "siab_train = siab_s[siab_s.year < 2015]\n",
    "siab_calib = siab[siab.year == 2015]\n",
    "siab_test = siab[siab.year == 2016]"
   ]
  },
  {
   "cell_type": "code",
   "execution_count": 18,
   "id": "472de16f-c3db-4916-846b-1f0de9cf1746",
   "metadata": {
    "execution": {
     "iopub.execute_input": "2025-07-28T10:54:00.095005Z",
     "iopub.status.busy": "2025-07-28T10:54:00.094330Z",
     "iopub.status.idle": "2025-07-28T10:54:00.150461Z",
     "shell.execute_reply": "2025-07-28T10:54:00.149369Z"
    },
    "papermill": {
     "duration": 0.079576,
     "end_time": "2025-07-28T10:54:00.152307",
     "exception": false,
     "start_time": "2025-07-28T10:54:00.072731",
     "status": "completed"
    },
    "tags": []
   },
   "outputs": [],
   "source": [
    "X_train = siab_train.iloc[:,4:164]\n",
    "y_train = siab_train.iloc[:, [3]]"
   ]
  },
  {
   "cell_type": "code",
   "execution_count": 19,
   "id": "828c96af-f43a-4ed6-ba47-8ac73a47d56c",
   "metadata": {
    "execution": {
     "iopub.execute_input": "2025-07-28T10:54:00.195861Z",
     "iopub.status.busy": "2025-07-28T10:54:00.195145Z",
     "iopub.status.idle": "2025-07-28T10:54:00.252358Z",
     "shell.execute_reply": "2025-07-28T10:54:00.251101Z"
    },
    "papermill": {
     "duration": 0.081401,
     "end_time": "2025-07-28T10:54:00.254361",
     "exception": false,
     "start_time": "2025-07-28T10:54:00.172960",
     "status": "completed"
    },
    "tags": []
   },
   "outputs": [],
   "source": [
    "X_calib = siab_calib.iloc[:,4:164]\n",
    "y_calib = siab_calib.iloc[:, [3]]"
   ]
  },
  {
   "cell_type": "code",
   "execution_count": 20,
   "id": "c34be9c3-6bd6-476e-acd3-845840e303be",
   "metadata": {
    "execution": {
     "iopub.execute_input": "2025-07-28T10:54:00.298049Z",
     "iopub.status.busy": "2025-07-28T10:54:00.297134Z",
     "iopub.status.idle": "2025-07-28T10:54:00.354395Z",
     "shell.execute_reply": "2025-07-28T10:54:00.353220Z"
    },
    "papermill": {
     "duration": 0.080779,
     "end_time": "2025-07-28T10:54:00.356495",
     "exception": false,
     "start_time": "2025-07-28T10:54:00.275716",
     "status": "completed"
    },
    "tags": []
   },
   "outputs": [],
   "source": [
    "X_test = siab_test.iloc[:,4:164]\n",
    "y_true = siab_test.iloc[:, [3]]"
   ]
  },
  {
   "cell_type": "code",
   "execution_count": 21,
   "id": "e6c733c5",
   "metadata": {
    "execution": {
     "iopub.execute_input": "2025-07-28T10:54:00.400104Z",
     "iopub.status.busy": "2025-07-28T10:54:00.399401Z",
     "iopub.status.idle": "2025-07-28T10:54:00.547408Z",
     "shell.execute_reply": "2025-07-28T10:54:00.546479Z"
    },
    "papermill": {
     "duration": 0.171565,
     "end_time": "2025-07-28T10:54:00.549420",
     "exception": false,
     "start_time": "2025-07-28T10:54:00.377855",
     "status": "completed"
    },
    "tags": []
   },
   "outputs": [],
   "source": [
    "# Auxiliary data needed downstream in the pipeline\n",
    "\n",
    "org_train = X_train.copy()\n",
    "org_test = X_test.copy()\n",
    "org_calib = X_calib.copy()"
   ]
  },
  {
   "cell_type": "markdown",
   "id": "0a4a1b33",
   "metadata": {
    "papermill": {
     "duration": 0.020867,
     "end_time": "2025-07-28T10:54:00.590849",
     "exception": false,
     "start_time": "2025-07-28T10:54:00.569982",
     "status": "completed"
    },
    "tags": []
   },
   "source": [
    "# Preprocessing Data"
   ]
  },
  {
   "cell_type": "code",
   "execution_count": 22,
   "id": "ca879031",
   "metadata": {
    "execution": {
     "iopub.execute_input": "2025-07-28T10:54:00.634782Z",
     "iopub.status.busy": "2025-07-28T10:54:00.634029Z",
     "iopub.status.idle": "2025-07-28T10:54:00.640859Z",
     "shell.execute_reply": "2025-07-28T10:54:00.639642Z"
    },
    "papermill": {
     "duration": 0.03035,
     "end_time": "2025-07-28T10:54:00.642587",
     "exception": false,
     "start_time": "2025-07-28T10:54:00.612237",
     "status": "completed"
    },
    "tags": []
   },
   "outputs": [],
   "source": [
    "# EXCLUDE PROTECTED FEATURES\n",
    "# ----------------------\n",
    "# \"exclude_features\": \"none\", # \"nationality\", \"sex\", \"nationality-sex\"\n",
    "\n",
    "excluded_features = universe[\"exclude_features\"].split(\"-\") # split, e.g.: \"nationality-sex\" -> [\"nationality\", \"sex\"]\n",
    "excluded_features_dictionary = {\n",
    "    \"nationality\": [\"maxdeutsch1\", \"maxdeutsch.Missing.\"],\n",
    "    \"sex\": [\"frau1\"],\n",
    "    \"age\": [\"age\"],\n",
    "}\n"
   ]
  },
  {
   "cell_type": "code",
   "execution_count": 23,
   "id": "b745ac60",
   "metadata": {
    "execution": {
     "iopub.execute_input": "2025-07-28T10:54:00.686813Z",
     "iopub.status.busy": "2025-07-28T10:54:00.685840Z",
     "iopub.status.idle": "2025-07-28T10:54:00.692135Z",
     "shell.execute_reply": "2025-07-28T10:54:00.691152Z"
    },
    "papermill": {
     "duration": 0.029965,
     "end_time": "2025-07-28T10:54:00.694073",
     "exception": false,
     "start_time": "2025-07-28T10:54:00.664108",
     "status": "completed"
    },
    "tags": []
   },
   "outputs": [],
   "source": [
    "# Code nice names to column names\n",
    "\n",
    "excluded_features_columns = [\n",
    "    excluded_features_dictionary[f] for f in excluded_features if len(f) > 0 and f != \"none\"\n",
    "]"
   ]
  },
  {
   "cell_type": "code",
   "execution_count": 24,
   "id": "f84f73a2",
   "metadata": {
    "execution": {
     "iopub.execute_input": "2025-07-28T10:54:00.737973Z",
     "iopub.status.busy": "2025-07-28T10:54:00.737246Z",
     "iopub.status.idle": "2025-07-28T10:54:00.744361Z",
     "shell.execute_reply": "2025-07-28T10:54:00.743463Z"
    },
    "papermill": {
     "duration": 0.030815,
     "end_time": "2025-07-28T10:54:00.745989",
     "exception": false,
     "start_time": "2025-07-28T10:54:00.715174",
     "status": "completed"
    },
    "tags": []
   },
   "outputs": [],
   "source": [
    "from utils import flatten_once\n",
    "\n",
    "excluded_features_columns = flatten_once(excluded_features_columns)"
   ]
  },
  {
   "cell_type": "code",
   "execution_count": 25,
   "id": "884dea22",
   "metadata": {
    "execution": {
     "iopub.execute_input": "2025-07-28T10:54:00.790176Z",
     "iopub.status.busy": "2025-07-28T10:54:00.789493Z",
     "iopub.status.idle": "2025-07-28T10:54:00.844431Z",
     "shell.execute_reply": "2025-07-28T10:54:00.843254Z"
    },
    "papermill": {
     "duration": 0.079569,
     "end_time": "2025-07-28T10:54:00.846682",
     "exception": false,
     "start_time": "2025-07-28T10:54:00.767113",
     "status": "completed"
    },
    "tags": []
   },
   "outputs": [
    {
     "name": "stdout",
     "output_type": "stream",
     "text": [
      "Dropping features: ['maxdeutsch1', 'maxdeutsch.Missing.', 'frau1']\n"
     ]
    }
   ],
   "source": [
    "if len(excluded_features_columns) > 0:\n",
    "    print(f\"Dropping features: {excluded_features_columns}\")\n",
    "    X_train.drop(excluded_features_columns, axis=1, inplace=True)"
   ]
  },
  {
   "cell_type": "code",
   "execution_count": 26,
   "id": "95ab8b16",
   "metadata": {
    "execution": {
     "iopub.execute_input": "2025-07-28T10:54:00.884273Z",
     "iopub.status.busy": "2025-07-28T10:54:00.883882Z",
     "iopub.status.idle": "2025-07-28T10:54:00.934814Z",
     "shell.execute_reply": "2025-07-28T10:54:00.933942Z"
    },
    "papermill": {
     "duration": 0.065742,
     "end_time": "2025-07-28T10:54:00.936354",
     "exception": false,
     "start_time": "2025-07-28T10:54:00.870612",
     "status": "completed"
    },
    "tags": []
   },
   "outputs": [
    {
     "name": "stdout",
     "output_type": "stream",
     "text": [
      "Dropping features: ['maxdeutsch1', 'maxdeutsch.Missing.', 'frau1']\n"
     ]
    }
   ],
   "source": [
    "if len(excluded_features_columns) > 0:\n",
    "    print(f\"Dropping features: {excluded_features_columns}\")\n",
    "    X_test.drop(excluded_features_columns, axis=1, inplace=True)"
   ]
  },
  {
   "cell_type": "code",
   "execution_count": 27,
   "id": "1853aaf5-fb9f-46cb-a2b5-8ea4ae2237e4",
   "metadata": {
    "execution": {
     "iopub.execute_input": "2025-07-28T10:54:00.961817Z",
     "iopub.status.busy": "2025-07-28T10:54:00.961437Z",
     "iopub.status.idle": "2025-07-28T10:54:01.009800Z",
     "shell.execute_reply": "2025-07-28T10:54:01.008860Z"
    },
    "papermill": {
     "duration": 0.062401,
     "end_time": "2025-07-28T10:54:01.011274",
     "exception": false,
     "start_time": "2025-07-28T10:54:00.948873",
     "status": "completed"
    },
    "tags": []
   },
   "outputs": [
    {
     "name": "stdout",
     "output_type": "stream",
     "text": [
      "Dropping features: ['maxdeutsch1', 'maxdeutsch.Missing.', 'frau1']\n"
     ]
    }
   ],
   "source": [
    "if len(excluded_features_columns) > 0:\n",
    "    print(f\"Dropping features: {excluded_features_columns}\")\n",
    "    X_calib.drop(excluded_features_columns, axis=1, inplace=True)"
   ]
  },
  {
   "cell_type": "code",
   "execution_count": 28,
   "id": "6727d079-03e5-481e-9d38-292a90b7a0a8",
   "metadata": {
    "execution": {
     "iopub.execute_input": "2025-07-28T10:54:01.037278Z",
     "iopub.status.busy": "2025-07-28T10:54:01.036478Z",
     "iopub.status.idle": "2025-07-28T10:54:01.043498Z",
     "shell.execute_reply": "2025-07-28T10:54:01.042325Z"
    },
    "papermill": {
     "duration": 0.021504,
     "end_time": "2025-07-28T10:54:01.045425",
     "exception": false,
     "start_time": "2025-07-28T10:54:01.023921",
     "status": "completed"
    },
    "tags": []
   },
   "outputs": [],
   "source": [
    "# SPLIT & STRATIFY DATA\n",
    "# ----------------------"
   ]
  },
  {
   "cell_type": "code",
   "execution_count": 29,
   "id": "76c4dc6d",
   "metadata": {
    "execution": {
     "iopub.execute_input": "2025-07-28T10:54:01.101542Z",
     "iopub.status.busy": "2025-07-28T10:54:01.101034Z",
     "iopub.status.idle": "2025-07-28T10:54:01.106047Z",
     "shell.execute_reply": "2025-07-28T10:54:01.105232Z"
    },
    "papermill": {
     "duration": 0.019491,
     "end_time": "2025-07-28T10:54:01.107389",
     "exception": false,
     "start_time": "2025-07-28T10:54:01.087898",
     "status": "completed"
    },
    "tags": []
   },
   "outputs": [],
   "source": [
    "# EXCLUDE CERTAIN SUBGROUPS\n",
    "# ----------------------\n",
    "\n",
    "mode = universe.get(\"exclude_subgroups\", \"keep-all\") \n",
    "# Fetches the exclude_subgroups setting from the universe dict.\n",
    "# Defaults to \"keep-all\" if the key is missing."
   ]
  },
  {
   "cell_type": "code",
   "execution_count": 30,
   "id": "21994072",
   "metadata": {
    "execution": {
     "iopub.execute_input": "2025-07-28T10:54:01.133314Z",
     "iopub.status.busy": "2025-07-28T10:54:01.132938Z",
     "iopub.status.idle": "2025-07-28T10:54:01.139117Z",
     "shell.execute_reply": "2025-07-28T10:54:01.138272Z"
    },
    "papermill": {
     "duration": 0.020432,
     "end_time": "2025-07-28T10:54:01.140596",
     "exception": false,
     "start_time": "2025-07-28T10:54:01.120164",
     "status": "completed"
    },
    "tags": []
   },
   "outputs": [],
   "source": [
    "if mode == \"keep-all\":\n",
    "    keep_mask = pd.Series(True, index=org_train.index)\n",
    "\n",
    "# org_train contains the original feature columns from features_org (in Simson)\n",
    "# features_org contains unprocessed features, for me X_train at beginning ???\n",
    "# For keep-all, creates a boolean Series (keep_mask) of all True, so no rows are removed.\n",
    "\n",
    "elif mode == \"drop-non-german\":\n",
    "    keep_mask = org_train[\"maxdeutsch1\"] == 1 # ??? what about missing values?\n",
    "\n",
    "else:\n",
    "    raise ValueError(f\"Unsupported mode for exclude_subgroups: {mode}\")\n"
   ]
  },
  {
   "cell_type": "code",
   "execution_count": 31,
   "id": "71651440",
   "metadata": {
    "execution": {
     "iopub.execute_input": "2025-07-28T10:54:01.167485Z",
     "iopub.status.busy": "2025-07-28T10:54:01.166698Z",
     "iopub.status.idle": "2025-07-28T10:54:01.174609Z",
     "shell.execute_reply": "2025-07-28T10:54:01.173542Z"
    },
    "papermill": {
     "duration": 0.023331,
     "end_time": "2025-07-28T10:54:01.176927",
     "exception": false,
     "start_time": "2025-07-28T10:54:01.153596",
     "status": "completed"
    },
    "tags": []
   },
   "outputs": [],
   "source": [
    "n_drop = (~keep_mask).sum() # Calculates how many rows are set to be dropped\n",
    "if n_drop > 0:\n",
    "    pct = n_drop / len(keep_mask) * 100\n",
    "    print(f\"Dropping {n_drop} rows ({pct:.2f}%) where mode='{mode}'\")"
   ]
  },
  {
   "cell_type": "code",
   "execution_count": 32,
   "id": "5fb8eee5",
   "metadata": {
    "execution": {
     "iopub.execute_input": "2025-07-28T10:54:01.222718Z",
     "iopub.status.busy": "2025-07-28T10:54:01.221984Z",
     "iopub.status.idle": "2025-07-28T10:54:01.284149Z",
     "shell.execute_reply": "2025-07-28T10:54:01.282942Z"
    },
    "papermill": {
     "duration": 0.086412,
     "end_time": "2025-07-28T10:54:01.285909",
     "exception": false,
     "start_time": "2025-07-28T10:54:01.199497",
     "status": "completed"
    },
    "tags": []
   },
   "outputs": [],
   "source": [
    "X_train = X_train[keep_mask]"
   ]
  },
  {
   "cell_type": "code",
   "execution_count": 33,
   "id": "b202bb3a",
   "metadata": {
    "execution": {
     "iopub.execute_input": "2025-07-28T10:54:01.330857Z",
     "iopub.status.busy": "2025-07-28T10:54:01.330394Z",
     "iopub.status.idle": "2025-07-28T10:54:01.338655Z",
     "shell.execute_reply": "2025-07-28T10:54:01.337629Z"
    },
    "papermill": {
     "duration": 0.033401,
     "end_time": "2025-07-28T10:54:01.340646",
     "exception": false,
     "start_time": "2025-07-28T10:54:01.307245",
     "status": "completed"
    },
    "tags": []
   },
   "outputs": [],
   "source": [
    "y_train = y_train[keep_mask]"
   ]
  },
  {
   "cell_type": "markdown",
   "id": "493e2ac3",
   "metadata": {
    "papermill": {
     "duration": 0.02248,
     "end_time": "2025-07-28T10:54:01.386402",
     "exception": false,
     "start_time": "2025-07-28T10:54:01.363922",
     "status": "completed"
    },
    "tags": []
   },
   "source": [
    "# Model Training"
   ]
  },
  {
   "cell_type": "code",
   "execution_count": 34,
   "id": "679e1268",
   "metadata": {
    "execution": {
     "iopub.execute_input": "2025-07-28T10:54:01.433892Z",
     "iopub.status.busy": "2025-07-28T10:54:01.433001Z",
     "iopub.status.idle": "2025-07-28T10:54:01.550044Z",
     "shell.execute_reply": "2025-07-28T10:54:01.549034Z"
    },
    "papermill": {
     "duration": 0.143694,
     "end_time": "2025-07-28T10:54:01.552073",
     "exception": false,
     "start_time": "2025-07-28T10:54:01.408379",
     "status": "completed"
    },
    "tags": []
   },
   "outputs": [],
   "source": [
    "from sklearn.linear_model import LogisticRegression\n",
    "from sklearn.ensemble import GradientBoostingClassifier, RandomForestClassifier\n",
    "\n",
    "if (universe[\"model\"] == \"logreg\"):\n",
    "    model = LogisticRegression() #penalty=\"none\") #, solver=\"newton-cg\", max_iter=1) # include random_state=19 ?\n",
    "elif (universe[\"model\"] == \"penalized_logreg\"):\n",
    "    model = LogisticRegression(penalty=\"l2\", C=1.0) #, solver=\"newton-cg\", max_iter=1)\n",
    "elif (universe[\"model\"] == \"rf\"):\n",
    "    model = RandomForestClassifier(n_estimators=100, n_jobs=-1)\n",
    "elif (universe[\"model\"] == \"gbm\"):\n",
    "    model = GradientBoostingClassifier()\n",
    "elif (universe[\"model\"] == \"elasticnet\"):\n",
    "    model = LogisticRegression(penalty = 'elasticnet', solver = 'saga', l1_ratio = 0.5, max_iter=5000) # which solver to use?\n",
    "else:\n",
    "    raise \"Unsupported universe.model\""
   ]
  },
  {
   "cell_type": "code",
   "execution_count": 35,
   "id": "0cc8f744",
   "metadata": {
    "execution": {
     "iopub.execute_input": "2025-07-28T10:54:01.601022Z",
     "iopub.status.busy": "2025-07-28T10:54:01.600244Z",
     "iopub.status.idle": "2025-07-28T10:54:01.607709Z",
     "shell.execute_reply": "2025-07-28T10:54:01.606502Z"
    },
    "papermill": {
     "duration": 0.034761,
     "end_time": "2025-07-28T10:54:01.609719",
     "exception": false,
     "start_time": "2025-07-28T10:54:01.574958",
     "status": "completed"
    },
    "tags": []
   },
   "outputs": [],
   "source": [
    "import numpy as np\n",
    "from sklearn.pipeline import Pipeline\n",
    "from sklearn.preprocessing import StandardScaler\n",
    "\n",
    "model = Pipeline([\n",
    "    #(\"continuous_processor\", continuous_processor),\n",
    "    #(\"categorical_preprocessor\", categorical_preprocessor),\n",
    "    (\"scale\", StandardScaler() if universe[\"scale\"] == \"scale\" else None), \n",
    "    (\"model\", model),\n",
    "])"
   ]
  },
  {
   "cell_type": "code",
   "execution_count": 36,
   "id": "9442c04d",
   "metadata": {
    "execution": {
     "iopub.execute_input": "2025-07-28T10:54:01.666430Z",
     "iopub.status.busy": "2025-07-28T10:54:01.665577Z",
     "iopub.status.idle": "2025-07-28T10:54:05.879704Z",
     "shell.execute_reply": "2025-07-28T10:54:05.878996Z"
    },
    "papermill": {
     "duration": 4.245553,
     "end_time": "2025-07-28T10:54:05.881643",
     "exception": false,
     "start_time": "2025-07-28T10:54:01.636090",
     "status": "completed"
    },
    "tags": []
   },
   "outputs": [
    {
     "name": "stderr",
     "output_type": "stream",
     "text": [
      "/dss/dsshome1/0C/ra93lal2/.local/share/virtualenvs/CMA_Fairness_v2-3j10GkSs/lib/python3.10/site-packages/sklearn/linear_model/_logistic.py:444: ConvergenceWarning: lbfgs failed to converge (status=1):\n",
      "STOP: TOTAL NO. of ITERATIONS REACHED LIMIT.\n",
      "\n",
      "Increase the number of iterations (max_iter) or scale the data as shown in:\n",
      "    https://scikit-learn.org/stable/modules/preprocessing.html\n",
      "Please also refer to the documentation for alternative solver options:\n",
      "    https://scikit-learn.org/stable/modules/linear_model.html#logistic-regression\n",
      "  n_iter_i = _check_optimize_result(\n"
     ]
    },
    {
     "data": {
      "text/html": [
       "<style>#sk-container-id-1 {color: black;background-color: white;}#sk-container-id-1 pre{padding: 0;}#sk-container-id-1 div.sk-toggleable {background-color: white;}#sk-container-id-1 label.sk-toggleable__label {cursor: pointer;display: block;width: 100%;margin-bottom: 0;padding: 0.3em;box-sizing: border-box;text-align: center;}#sk-container-id-1 label.sk-toggleable__label-arrow:before {content: \"▸\";float: left;margin-right: 0.25em;color: #696969;}#sk-container-id-1 label.sk-toggleable__label-arrow:hover:before {color: black;}#sk-container-id-1 div.sk-estimator:hover label.sk-toggleable__label-arrow:before {color: black;}#sk-container-id-1 div.sk-toggleable__content {max-height: 0;max-width: 0;overflow: hidden;text-align: left;background-color: #f0f8ff;}#sk-container-id-1 div.sk-toggleable__content pre {margin: 0.2em;color: black;border-radius: 0.25em;background-color: #f0f8ff;}#sk-container-id-1 input.sk-toggleable__control:checked~div.sk-toggleable__content {max-height: 200px;max-width: 100%;overflow: auto;}#sk-container-id-1 input.sk-toggleable__control:checked~label.sk-toggleable__label-arrow:before {content: \"▾\";}#sk-container-id-1 div.sk-estimator input.sk-toggleable__control:checked~label.sk-toggleable__label {background-color: #d4ebff;}#sk-container-id-1 div.sk-label input.sk-toggleable__control:checked~label.sk-toggleable__label {background-color: #d4ebff;}#sk-container-id-1 input.sk-hidden--visually {border: 0;clip: rect(1px 1px 1px 1px);clip: rect(1px, 1px, 1px, 1px);height: 1px;margin: -1px;overflow: hidden;padding: 0;position: absolute;width: 1px;}#sk-container-id-1 div.sk-estimator {font-family: monospace;background-color: #f0f8ff;border: 1px dotted black;border-radius: 0.25em;box-sizing: border-box;margin-bottom: 0.5em;}#sk-container-id-1 div.sk-estimator:hover {background-color: #d4ebff;}#sk-container-id-1 div.sk-parallel-item::after {content: \"\";width: 100%;border-bottom: 1px solid gray;flex-grow: 1;}#sk-container-id-1 div.sk-label:hover label.sk-toggleable__label {background-color: #d4ebff;}#sk-container-id-1 div.sk-serial::before {content: \"\";position: absolute;border-left: 1px solid gray;box-sizing: border-box;top: 0;bottom: 0;left: 50%;z-index: 0;}#sk-container-id-1 div.sk-serial {display: flex;flex-direction: column;align-items: center;background-color: white;padding-right: 0.2em;padding-left: 0.2em;position: relative;}#sk-container-id-1 div.sk-item {position: relative;z-index: 1;}#sk-container-id-1 div.sk-parallel {display: flex;align-items: stretch;justify-content: center;background-color: white;position: relative;}#sk-container-id-1 div.sk-item::before, #sk-container-id-1 div.sk-parallel-item::before {content: \"\";position: absolute;border-left: 1px solid gray;box-sizing: border-box;top: 0;bottom: 0;left: 50%;z-index: -1;}#sk-container-id-1 div.sk-parallel-item {display: flex;flex-direction: column;z-index: 1;position: relative;background-color: white;}#sk-container-id-1 div.sk-parallel-item:first-child::after {align-self: flex-end;width: 50%;}#sk-container-id-1 div.sk-parallel-item:last-child::after {align-self: flex-start;width: 50%;}#sk-container-id-1 div.sk-parallel-item:only-child::after {width: 0;}#sk-container-id-1 div.sk-dashed-wrapped {border: 1px dashed gray;margin: 0 0.4em 0.5em 0.4em;box-sizing: border-box;padding-bottom: 0.4em;background-color: white;}#sk-container-id-1 div.sk-label label {font-family: monospace;font-weight: bold;display: inline-block;line-height: 1.2em;}#sk-container-id-1 div.sk-label-container {text-align: center;}#sk-container-id-1 div.sk-container {/* jupyter's `normalize.less` sets `[hidden] { display: none; }` but bootstrap.min.css set `[hidden] { display: none !important; }` so we also need the `!important` here to be able to override the default hidden behavior on the sphinx rendered scikit-learn.org. See: https://github.com/scikit-learn/scikit-learn/issues/21755 */display: inline-block !important;position: relative;}#sk-container-id-1 div.sk-text-repr-fallback {display: none;}</style><div id=\"sk-container-id-1\" class=\"sk-top-container\"><div class=\"sk-text-repr-fallback\"><pre>Pipeline(steps=[(&#x27;scale&#x27;, StandardScaler()), (&#x27;model&#x27;, LogisticRegression())])</pre><b>In a Jupyter environment, please rerun this cell to show the HTML representation or trust the notebook. <br />On GitHub, the HTML representation is unable to render, please try loading this page with nbviewer.org.</b></div><div class=\"sk-container\" hidden><div class=\"sk-item sk-dashed-wrapped\"><div class=\"sk-label-container\"><div class=\"sk-label sk-toggleable\"><input class=\"sk-toggleable__control sk-hidden--visually\" id=\"sk-estimator-id-1\" type=\"checkbox\" ><label for=\"sk-estimator-id-1\" class=\"sk-toggleable__label sk-toggleable__label-arrow\">Pipeline</label><div class=\"sk-toggleable__content\"><pre>Pipeline(steps=[(&#x27;scale&#x27;, StandardScaler()), (&#x27;model&#x27;, LogisticRegression())])</pre></div></div></div><div class=\"sk-serial\"><div class=\"sk-item\"><div class=\"sk-estimator sk-toggleable\"><input class=\"sk-toggleable__control sk-hidden--visually\" id=\"sk-estimator-id-2\" type=\"checkbox\" ><label for=\"sk-estimator-id-2\" class=\"sk-toggleable__label sk-toggleable__label-arrow\">StandardScaler</label><div class=\"sk-toggleable__content\"><pre>StandardScaler()</pre></div></div></div><div class=\"sk-item\"><div class=\"sk-estimator sk-toggleable\"><input class=\"sk-toggleable__control sk-hidden--visually\" id=\"sk-estimator-id-3\" type=\"checkbox\" ><label for=\"sk-estimator-id-3\" class=\"sk-toggleable__label sk-toggleable__label-arrow\">LogisticRegression</label><div class=\"sk-toggleable__content\"><pre>LogisticRegression()</pre></div></div></div></div></div></div></div>"
      ],
      "text/plain": [
       "Pipeline(steps=[('scale', StandardScaler()), ('model', LogisticRegression())])"
      ]
     },
     "execution_count": 36,
     "metadata": {},
     "output_type": "execute_result"
    }
   ],
   "source": [
    "model.fit(X_train, y_train.values.ravel())"
   ]
  },
  {
   "cell_type": "code",
   "execution_count": 37,
   "id": "af59f8c0",
   "metadata": {
    "execution": {
     "iopub.execute_input": "2025-07-28T10:54:05.950681Z",
     "iopub.status.busy": "2025-07-28T10:54:05.949034Z",
     "iopub.status.idle": "2025-07-28T10:54:05.955821Z",
     "shell.execute_reply": "2025-07-28T10:54:05.954723Z"
    },
    "papermill": {
     "duration": 0.03223,
     "end_time": "2025-07-28T10:54:05.957622",
     "exception": false,
     "start_time": "2025-07-28T10:54:05.925392",
     "status": "completed"
    },
    "tags": []
   },
   "outputs": [],
   "source": [
    "from fairness_multiverse.universe import predict_w_threshold"
   ]
  },
  {
   "cell_type": "code",
   "execution_count": 38,
   "id": "a7cf2e16",
   "metadata": {
    "execution": {
     "iopub.execute_input": "2025-07-28T10:54:06.009941Z",
     "iopub.status.busy": "2025-07-28T10:54:06.008076Z",
     "iopub.status.idle": "2025-07-28T10:54:06.210030Z",
     "shell.execute_reply": "2025-07-28T10:54:06.208929Z"
    },
    "papermill": {
     "duration": 0.22968,
     "end_time": "2025-07-28T10:54:06.211785",
     "exception": false,
     "start_time": "2025-07-28T10:54:05.982105",
     "status": "completed"
    },
    "tags": []
   },
   "outputs": [
    {
     "data": {
      "text/plain": [
       "0.8666369412551554"
      ]
     },
     "execution_count": 38,
     "metadata": {},
     "output_type": "execute_result"
    }
   ],
   "source": [
    "probs_test = model.predict_proba(X_test)\n",
    "\n",
    "'''\n",
    "Below code returns a boolean array (or binary 0/1 array depending on how it’s used) where each element \n",
    "is True if the probability of class 1 is greater than or equal to the threshold, and False otherwise.\n",
    "'''\n",
    "y_pred_default = predict_w_threshold(probs_test, 0.5)\n",
    "\n",
    "from sklearn.metrics import accuracy_score\n",
    "\n",
    "# Naive prediction\n",
    "accuracy_score(y_true = y_true, y_pred = y_pred_default)"
   ]
  },
  {
   "cell_type": "code",
   "execution_count": 39,
   "id": "081964c3",
   "metadata": {
    "execution": {
     "iopub.execute_input": "2025-07-28T10:54:06.264735Z",
     "iopub.status.busy": "2025-07-28T10:54:06.263823Z",
     "iopub.status.idle": "2025-07-28T10:54:06.470810Z",
     "shell.execute_reply": "2025-07-28T10:54:06.469635Z"
    },
    "papermill": {
     "duration": 0.235859,
     "end_time": "2025-07-28T10:54:06.473120",
     "exception": false,
     "start_time": "2025-07-28T10:54:06.237261",
     "status": "completed"
    },
    "tags": []
   },
   "outputs": [
    {
     "data": {
      "text/plain": [
       "array([0, 0, 0, ..., 0, 0, 0])"
      ]
     },
     "execution_count": 39,
     "metadata": {},
     "output_type": "execute_result"
    }
   ],
   "source": [
    "model.predict(X_test)"
   ]
  },
  {
   "cell_type": "markdown",
   "id": "56c9705b",
   "metadata": {
    "papermill": {
     "duration": 0.023906,
     "end_time": "2025-07-28T10:54:06.520461",
     "exception": false,
     "start_time": "2025-07-28T10:54:06.496555",
     "status": "completed"
    },
    "tags": []
   },
   "source": [
    "# Conformal Prediction"
   ]
  },
  {
   "cell_type": "code",
   "execution_count": 40,
   "id": "160ec6ff",
   "metadata": {
    "execution": {
     "iopub.execute_input": "2025-07-28T10:54:06.567550Z",
     "iopub.status.busy": "2025-07-28T10:54:06.567045Z",
     "iopub.status.idle": "2025-07-28T10:54:06.573525Z",
     "shell.execute_reply": "2025-07-28T10:54:06.572266Z"
    },
    "papermill": {
     "duration": 0.029265,
     "end_time": "2025-07-28T10:54:06.575294",
     "exception": false,
     "start_time": "2025-07-28T10:54:06.546029",
     "status": "completed"
    },
    "tags": []
   },
   "outputs": [],
   "source": [
    "# Miscoverage level for conformal prediction (10% allowed error rate => 90% target coverage)\n",
    "alpha = 0.1"
   ]
  },
  {
   "cell_type": "code",
   "execution_count": 41,
   "id": "eadf4555-3dd3-440e-8e35-f82a4ad9f855",
   "metadata": {
    "execution": {
     "iopub.execute_input": "2025-07-28T10:54:06.628911Z",
     "iopub.status.busy": "2025-07-28T10:54:06.628407Z",
     "iopub.status.idle": "2025-07-28T10:54:06.847813Z",
     "shell.execute_reply": "2025-07-28T10:54:06.846415Z"
    },
    "papermill": {
     "duration": 0.249551,
     "end_time": "2025-07-28T10:54:06.850311",
     "exception": false,
     "start_time": "2025-07-28T10:54:06.600760",
     "status": "completed"
    },
    "tags": []
   },
   "outputs": [],
   "source": [
    "probs_calib = model.predict_proba(X_calib)"
   ]
  },
  {
   "cell_type": "code",
   "execution_count": 42,
   "id": "2ed93547-6d5d-4983-9b36-1ecb300da49a",
   "metadata": {
    "execution": {
     "iopub.execute_input": "2025-07-28T10:54:06.919986Z",
     "iopub.status.busy": "2025-07-28T10:54:06.919398Z",
     "iopub.status.idle": "2025-07-28T10:54:06.926489Z",
     "shell.execute_reply": "2025-07-28T10:54:06.925326Z"
    },
    "papermill": {
     "duration": 0.035626,
     "end_time": "2025-07-28T10:54:06.928401",
     "exception": false,
     "start_time": "2025-07-28T10:54:06.892775",
     "status": "completed"
    },
    "tags": []
   },
   "outputs": [],
   "source": [
    "y_calib = y_calib.values.ravel().astype(int)"
   ]
  },
  {
   "cell_type": "code",
   "execution_count": 43,
   "id": "65d1320d-f588-4b38-9072-62af1ae97f7d",
   "metadata": {
    "execution": {
     "iopub.execute_input": "2025-07-28T10:54:06.978888Z",
     "iopub.status.busy": "2025-07-28T10:54:06.978283Z",
     "iopub.status.idle": "2025-07-28T10:54:06.986560Z",
     "shell.execute_reply": "2025-07-28T10:54:06.985528Z"
    },
    "papermill": {
     "duration": 0.035304,
     "end_time": "2025-07-28T10:54:06.988407",
     "exception": false,
     "start_time": "2025-07-28T10:54:06.953103",
     "status": "completed"
    },
    "tags": []
   },
   "outputs": [],
   "source": [
    "from fairness_multiverse.conformal import compute_nc_scores\n",
    "\n",
    "# Compute nonconformity scores on calibration set (1 - probability of true class)\n",
    "nc_scores = compute_nc_scores(probs_calib, y_calib)"
   ]
  },
  {
   "cell_type": "code",
   "execution_count": 44,
   "id": "df3b8ca3-53b7-43d5-9667-7c85da7aeda2",
   "metadata": {
    "execution": {
     "iopub.execute_input": "2025-07-28T10:54:07.047082Z",
     "iopub.status.busy": "2025-07-28T10:54:07.046261Z",
     "iopub.status.idle": "2025-07-28T10:54:07.053327Z",
     "shell.execute_reply": "2025-07-28T10:54:07.052289Z"
    },
    "papermill": {
     "duration": 0.037342,
     "end_time": "2025-07-28T10:54:07.055147",
     "exception": false,
     "start_time": "2025-07-28T10:54:07.017805",
     "status": "completed"
    },
    "tags": []
   },
   "outputs": [],
   "source": [
    "from fairness_multiverse.conformal import find_threshold\n",
    "\n",
    "# Find conformal threshold q_hat for the given alpha (split conformal method)\n",
    "q_hat = find_threshold(nc_scores, alpha)"
   ]
  },
  {
   "cell_type": "code",
   "execution_count": 45,
   "id": "4d29e6c1-0ef6-4aa4-b8fe-4fe79b0d033a",
   "metadata": {
    "execution": {
     "iopub.execute_input": "2025-07-28T10:54:07.112777Z",
     "iopub.status.busy": "2025-07-28T10:54:07.112210Z",
     "iopub.status.idle": "2025-07-28T10:54:07.119922Z",
     "shell.execute_reply": "2025-07-28T10:54:07.118950Z"
    },
    "papermill": {
     "duration": 0.039203,
     "end_time": "2025-07-28T10:54:07.121724",
     "exception": false,
     "start_time": "2025-07-28T10:54:07.082521",
     "status": "completed"
    },
    "tags": []
   },
   "outputs": [
    {
     "data": {
      "text/plain": [
       "0.672792379764902"
      ]
     },
     "execution_count": 45,
     "metadata": {},
     "output_type": "execute_result"
    }
   ],
   "source": [
    "q_hat"
   ]
  },
  {
   "cell_type": "code",
   "execution_count": 46,
   "id": "92460794-cdac-4be2-ba28-f28c0515a6fb",
   "metadata": {
    "execution": {
     "iopub.execute_input": "2025-07-28T10:54:07.178757Z",
     "iopub.status.busy": "2025-07-28T10:54:07.177852Z",
     "iopub.status.idle": "2025-07-28T10:54:08.130566Z",
     "shell.execute_reply": "2025-07-28T10:54:08.129561Z"
    },
    "papermill": {
     "duration": 0.98345,
     "end_time": "2025-07-28T10:54:08.132676",
     "exception": false,
     "start_time": "2025-07-28T10:54:07.149226",
     "status": "completed"
    },
    "tags": []
   },
   "outputs": [],
   "source": [
    "from fairness_multiverse.conformal import predict_conformal_sets\n",
    "\n",
    "# Generate prediction sets for each test example\n",
    "pred_sets = predict_conformal_sets(model, X_test, q_hat)"
   ]
  },
  {
   "cell_type": "code",
   "execution_count": 47,
   "id": "d90c9a65-e6db-4f5d-80cd-e68fb7e46829",
   "metadata": {
    "execution": {
     "iopub.execute_input": "2025-07-28T10:54:08.200701Z",
     "iopub.status.busy": "2025-07-28T10:54:08.200343Z",
     "iopub.status.idle": "2025-07-28T10:54:08.204982Z",
     "shell.execute_reply": "2025-07-28T10:54:08.204097Z"
    },
    "papermill": {
     "duration": 0.032222,
     "end_time": "2025-07-28T10:54:08.206389",
     "exception": false,
     "start_time": "2025-07-28T10:54:08.174167",
     "status": "completed"
    },
    "tags": []
   },
   "outputs": [],
   "source": [
    "y_true = y_true.squeeze()"
   ]
  },
  {
   "cell_type": "code",
   "execution_count": 48,
   "id": "3a58a54a-1e68-46b9-927a-df01f18aebc8",
   "metadata": {
    "execution": {
     "iopub.execute_input": "2025-07-28T10:54:08.247955Z",
     "iopub.status.busy": "2025-07-28T10:54:08.247492Z",
     "iopub.status.idle": "2025-07-28T10:54:09.216589Z",
     "shell.execute_reply": "2025-07-28T10:54:09.215441Z"
    },
    "papermill": {
     "duration": 0.996827,
     "end_time": "2025-07-28T10:54:09.218939",
     "exception": false,
     "start_time": "2025-07-28T10:54:08.222112",
     "status": "completed"
    },
    "tags": []
   },
   "outputs": [],
   "source": [
    "from fairness_multiverse.conformal import evaluate_sets\n",
    "\n",
    "# Evaluate coverage and average set size on test data\n",
    "metrics = evaluate_sets(pred_sets, y_true)"
   ]
  },
  {
   "cell_type": "markdown",
   "id": "2b569c12-9aaa-4c88-98c9-bbcd0cf3ebb8",
   "metadata": {
    "papermill": {
     "duration": 0.029219,
     "end_time": "2025-07-28T10:54:09.278292",
     "exception": false,
     "start_time": "2025-07-28T10:54:09.249073",
     "status": "completed"
    },
    "tags": []
   },
   "source": [
    "# CP Metrics"
   ]
  },
  {
   "cell_type": "code",
   "execution_count": 49,
   "id": "5ce0a5cb-201f-45a0-ade5-94c7f0bd6095",
   "metadata": {
    "execution": {
     "iopub.execute_input": "2025-07-28T10:54:09.340225Z",
     "iopub.status.busy": "2025-07-28T10:54:09.339046Z",
     "iopub.status.idle": "2025-07-28T10:54:09.348090Z",
     "shell.execute_reply": "2025-07-28T10:54:09.346978Z"
    },
    "papermill": {
     "duration": 0.042721,
     "end_time": "2025-07-28T10:54:09.350175",
     "exception": false,
     "start_time": "2025-07-28T10:54:09.307454",
     "status": "completed"
    },
    "tags": []
   },
   "outputs": [
    {
     "data": {
      "text/plain": [
       "{'coverage': 0.912573849069223, 'avg_size': 1.1208672388808383}"
      ]
     },
     "execution_count": 49,
     "metadata": {},
     "output_type": "execute_result"
    }
   ],
   "source": [
    "metrics"
   ]
  },
  {
   "cell_type": "code",
   "execution_count": 50,
   "id": "9b9a838d-31c9-430b-ae14-12baee460d17",
   "metadata": {
    "execution": {
     "iopub.execute_input": "2025-07-28T10:54:09.411253Z",
     "iopub.status.busy": "2025-07-28T10:54:09.410479Z",
     "iopub.status.idle": "2025-07-28T10:54:09.417287Z",
     "shell.execute_reply": "2025-07-28T10:54:09.416218Z"
    },
    "papermill": {
     "duration": 0.039509,
     "end_time": "2025-07-28T10:54:09.419222",
     "exception": false,
     "start_time": "2025-07-28T10:54:09.379713",
     "status": "completed"
    },
    "tags": []
   },
   "outputs": [],
   "source": [
    "example_universe = universe.copy()\n",
    "universe_training_size = example_universe.get(\"training_size\")\n",
    "universe_scale = example_universe.get(\"scale\")\n",
    "universe_model = example_universe.get(\"model\")\n",
    "universe_exclude_features = example_universe.get(\"exclude_features\")\n",
    "universe_exclude_subgroups = example_universe.get(\"exclude_subgroups\")"
   ]
  },
  {
   "cell_type": "code",
   "execution_count": 51,
   "id": "f4b6a8ac-9dc0-4245-8a91-5b3b5999c4f9",
   "metadata": {
    "execution": {
     "iopub.execute_input": "2025-07-28T10:54:09.481178Z",
     "iopub.status.busy": "2025-07-28T10:54:09.480443Z",
     "iopub.status.idle": "2025-07-28T10:54:09.487469Z",
     "shell.execute_reply": "2025-07-28T10:54:09.486381Z"
    },
    "papermill": {
     "duration": 0.040317,
     "end_time": "2025-07-28T10:54:09.489535",
     "exception": false,
     "start_time": "2025-07-28T10:54:09.449218",
     "status": "completed"
    },
    "tags": []
   },
   "outputs": [],
   "source": [
    "cp_metrics_dict = {\n",
    "    \"universe_id\": [universe_id],\n",
    "    \"universe_training_size\": [universe_training_size],\n",
    "    \"universe_scale\": [universe_scale],\n",
    "    \"universe_model\": [universe_model],\n",
    "    \"universe_exclude_features\": [universe_exclude_features],\n",
    "    \"universe_exclude_subgroups\": [universe_exclude_subgroups],\n",
    "    \"q_hat\": [q_hat],\n",
    "    \"coverage\": [metrics[\"coverage\"]],\n",
    "    \"avg_size\": [metrics[\"avg_size\"]],\n",
    "}"
   ]
  },
  {
   "cell_type": "code",
   "execution_count": 52,
   "id": "908acbb1-0371-4915-85ca-3fa520d2efe2",
   "metadata": {
    "execution": {
     "iopub.execute_input": "2025-07-28T10:54:09.551855Z",
     "iopub.status.busy": "2025-07-28T10:54:09.551169Z",
     "iopub.status.idle": "2025-07-28T10:54:09.559269Z",
     "shell.execute_reply": "2025-07-28T10:54:09.558279Z"
    },
    "papermill": {
     "duration": 0.041456,
     "end_time": "2025-07-28T10:54:09.561408",
     "exception": false,
     "start_time": "2025-07-28T10:54:09.519952",
     "status": "completed"
    },
    "tags": []
   },
   "outputs": [
    {
     "data": {
      "text/plain": [
       "{'universe_id': ['fc6e70dae57079c1da82bd1bcf3fbc99'],\n",
       " 'universe_training_size': ['2014'],\n",
       " 'universe_scale': ['scale'],\n",
       " 'universe_model': ['logreg'],\n",
       " 'universe_exclude_features': ['nationality-sex'],\n",
       " 'universe_exclude_subgroups': ['keep-all'],\n",
       " 'q_hat': [0.672792379764902],\n",
       " 'coverage': [0.912573849069223],\n",
       " 'avg_size': [1.1208672388808383]}"
      ]
     },
     "execution_count": 52,
     "metadata": {},
     "output_type": "execute_result"
    }
   ],
   "source": [
    "cp_metrics_dict"
   ]
  },
  {
   "cell_type": "code",
   "execution_count": 53,
   "id": "33007efc-14e9-4ec6-97ac-56a455c82265",
   "metadata": {
    "execution": {
     "iopub.execute_input": "2025-07-28T10:54:09.624043Z",
     "iopub.status.busy": "2025-07-28T10:54:09.622854Z",
     "iopub.status.idle": "2025-07-28T10:54:09.630623Z",
     "shell.execute_reply": "2025-07-28T10:54:09.629419Z"
    },
    "papermill": {
     "duration": 0.041802,
     "end_time": "2025-07-28T10:54:09.633147",
     "exception": false,
     "start_time": "2025-07-28T10:54:09.591345",
     "status": "completed"
    },
    "tags": []
   },
   "outputs": [],
   "source": [
    "cp_metrics_df = pd.DataFrame(cp_metrics_dict)"
   ]
  },
  {
   "cell_type": "code",
   "execution_count": 54,
   "id": "db12611b-57b2-4910-b9d0-355adfd6e7bf",
   "metadata": {
    "execution": {
     "iopub.execute_input": "2025-07-28T10:54:09.695386Z",
     "iopub.status.busy": "2025-07-28T10:54:09.694655Z",
     "iopub.status.idle": "2025-07-28T10:54:09.714319Z",
     "shell.execute_reply": "2025-07-28T10:54:09.713300Z"
    },
    "papermill": {
     "duration": 0.053012,
     "end_time": "2025-07-28T10:54:09.716081",
     "exception": false,
     "start_time": "2025-07-28T10:54:09.663069",
     "status": "completed"
    },
    "tags": []
   },
   "outputs": [
    {
     "data": {
      "text/html": [
       "<div>\n",
       "<style scoped>\n",
       "    .dataframe tbody tr th:only-of-type {\n",
       "        vertical-align: middle;\n",
       "    }\n",
       "\n",
       "    .dataframe tbody tr th {\n",
       "        vertical-align: top;\n",
       "    }\n",
       "\n",
       "    .dataframe thead th {\n",
       "        text-align: right;\n",
       "    }\n",
       "</style>\n",
       "<table border=\"1\" class=\"dataframe\">\n",
       "  <thead>\n",
       "    <tr style=\"text-align: right;\">\n",
       "      <th></th>\n",
       "      <th>universe_id</th>\n",
       "      <th>universe_training_size</th>\n",
       "      <th>universe_scale</th>\n",
       "      <th>universe_model</th>\n",
       "      <th>universe_exclude_features</th>\n",
       "      <th>universe_exclude_subgroups</th>\n",
       "      <th>q_hat</th>\n",
       "      <th>coverage</th>\n",
       "      <th>avg_size</th>\n",
       "    </tr>\n",
       "  </thead>\n",
       "  <tbody>\n",
       "    <tr>\n",
       "      <th>0</th>\n",
       "      <td>fc6e70dae57079c1da82bd1bcf3fbc99</td>\n",
       "      <td>2014</td>\n",
       "      <td>scale</td>\n",
       "      <td>logreg</td>\n",
       "      <td>nationality-sex</td>\n",
       "      <td>keep-all</td>\n",
       "      <td>0.672792</td>\n",
       "      <td>0.912574</td>\n",
       "      <td>1.120867</td>\n",
       "    </tr>\n",
       "  </tbody>\n",
       "</table>\n",
       "</div>"
      ],
      "text/plain": [
       "                        universe_id universe_training_size universe_scale  \\\n",
       "0  fc6e70dae57079c1da82bd1bcf3fbc99                   2014          scale   \n",
       "\n",
       "  universe_model universe_exclude_features universe_exclude_subgroups  \\\n",
       "0         logreg           nationality-sex                   keep-all   \n",
       "\n",
       "      q_hat  coverage  avg_size  \n",
       "0  0.672792  0.912574  1.120867  "
      ]
     },
     "execution_count": 54,
     "metadata": {},
     "output_type": "execute_result"
    }
   ],
   "source": [
    "cp_metrics_df"
   ]
  },
  {
   "cell_type": "code",
   "execution_count": 55,
   "id": "b7fbde55-a0a1-47e4-9af6-fe4a17fa8c61",
   "metadata": {
    "execution": {
     "iopub.execute_input": "2025-07-28T10:54:09.780437Z",
     "iopub.status.busy": "2025-07-28T10:54:09.779657Z",
     "iopub.status.idle": "2025-07-28T10:54:09.786042Z",
     "shell.execute_reply": "2025-07-28T10:54:09.784948Z"
    },
    "papermill": {
     "duration": 0.040854,
     "end_time": "2025-07-28T10:54:09.788095",
     "exception": false,
     "start_time": "2025-07-28T10:54:09.747241",
     "status": "completed"
    },
    "tags": []
   },
   "outputs": [],
   "source": [
    "# Conditional Coverage & looking at subgroups"
   ]
  },
  {
   "cell_type": "code",
   "execution_count": 56,
   "id": "027ae886-68dd-4141-96c7-805a5450e1ef",
   "metadata": {
    "execution": {
     "iopub.execute_input": "2025-07-28T10:54:09.851887Z",
     "iopub.status.busy": "2025-07-28T10:54:09.851167Z",
     "iopub.status.idle": "2025-07-28T10:54:10.154222Z",
     "shell.execute_reply": "2025-07-28T10:54:10.153193Z"
    },
    "papermill": {
     "duration": 0.3378,
     "end_time": "2025-07-28T10:54:10.156694",
     "exception": false,
     "start_time": "2025-07-28T10:54:09.818894",
     "status": "completed"
    },
    "tags": []
   },
   "outputs": [],
   "source": [
    "from fairness_multiverse.conformal import build_cp_groups\n",
    "\n",
    "cp_groups_df = build_cp_groups(pred_sets, y_true, X_test.index, org_test)\n",
    "#needs universe_id and setting"
   ]
  },
  {
   "cell_type": "code",
   "execution_count": 57,
   "id": "01d5802c-663a-4d1f-9d69-e036faaffbf7",
   "metadata": {
    "execution": {
     "iopub.execute_input": "2025-07-28T10:54:10.221411Z",
     "iopub.status.busy": "2025-07-28T10:54:10.220653Z",
     "iopub.status.idle": "2025-07-28T10:54:10.226549Z",
     "shell.execute_reply": "2025-07-28T10:54:10.225305Z"
    },
    "papermill": {
     "duration": 0.040717,
     "end_time": "2025-07-28T10:54:10.228546",
     "exception": false,
     "start_time": "2025-07-28T10:54:10.187829",
     "status": "completed"
    },
    "tags": []
   },
   "outputs": [],
   "source": [
    "#delete\n",
    "#cp_groups_df"
   ]
  },
  {
   "cell_type": "code",
   "execution_count": 58,
   "id": "fa424af1-d1eb-443d-b717-2d279ada8408",
   "metadata": {
    "execution": {
     "iopub.execute_input": "2025-07-28T10:54:10.292687Z",
     "iopub.status.busy": "2025-07-28T10:54:10.291935Z",
     "iopub.status.idle": "2025-07-28T10:54:10.297787Z",
     "shell.execute_reply": "2025-07-28T10:54:10.296584Z"
    },
    "papermill": {
     "duration": 0.040063,
     "end_time": "2025-07-28T10:54:10.299720",
     "exception": false,
     "start_time": "2025-07-28T10:54:10.259657",
     "status": "completed"
    },
    "tags": []
   },
   "outputs": [],
   "source": [
    "#delete\n",
    "#percentage = (cp_groups_df['nongerman_female'] == 1).mean() * 100\n",
    "#print(percentage)\n"
   ]
  },
  {
   "cell_type": "code",
   "execution_count": 59,
   "id": "6cbdab96-b2b2-45af-ad54-d0516db2e28d",
   "metadata": {
    "execution": {
     "iopub.execute_input": "2025-07-28T10:54:10.367042Z",
     "iopub.status.busy": "2025-07-28T10:54:10.366272Z",
     "iopub.status.idle": "2025-07-28T10:54:12.074126Z",
     "shell.execute_reply": "2025-07-28T10:54:12.073084Z"
    },
    "papermill": {
     "duration": 1.744205,
     "end_time": "2025-07-28T10:54:12.076213",
     "exception": false,
     "start_time": "2025-07-28T10:54:10.332008",
     "status": "completed"
    },
    "tags": []
   },
   "outputs": [],
   "source": [
    "# Define covered = 1 if true_label is in the predicted set\n",
    "cp_groups_df['covered'] = cp_groups_df.apply(\n",
    "    lambda r: int(r['true_label'] in r['pred_set']),\n",
    "    axis=1\n",
    ")"
   ]
  },
  {
   "cell_type": "code",
   "execution_count": 60,
   "id": "338ff529-1a6b-4b87-a931-8e4788d52aad",
   "metadata": {
    "execution": {
     "iopub.execute_input": "2025-07-28T10:54:12.120023Z",
     "iopub.status.busy": "2025-07-28T10:54:12.119555Z",
     "iopub.status.idle": "2025-07-28T10:54:12.125249Z",
     "shell.execute_reply": "2025-07-28T10:54:12.124345Z"
    },
    "papermill": {
     "duration": 0.024158,
     "end_time": "2025-07-28T10:54:12.127017",
     "exception": false,
     "start_time": "2025-07-28T10:54:12.102859",
     "status": "completed"
    },
    "tags": []
   },
   "outputs": [],
   "source": [
    "#cp_groups_df"
   ]
  },
  {
   "cell_type": "code",
   "execution_count": 61,
   "id": "90032e27-66df-4540-9169-4e89cfbaa758",
   "metadata": {
    "execution": {
     "iopub.execute_input": "2025-07-28T10:54:12.172136Z",
     "iopub.status.busy": "2025-07-28T10:54:12.171612Z",
     "iopub.status.idle": "2025-07-28T10:54:12.182469Z",
     "shell.execute_reply": "2025-07-28T10:54:12.181538Z"
    },
    "papermill": {
     "duration": 0.029376,
     "end_time": "2025-07-28T10:54:12.184019",
     "exception": false,
     "start_time": "2025-07-28T10:54:12.154643",
     "status": "completed"
    },
    "tags": []
   },
   "outputs": [],
   "source": [
    "subgroups = ['frau1','nongerman','nongerman_male','nongerman_female']\n",
    "\n",
    "# Conditional coverage for subgroup==1\n",
    "cond_coverage = {\n",
    "    g: cp_groups_df.loc[cp_groups_df[g]==1, 'covered'].mean()\n",
    "    for g in subgroups\n",
    "}"
   ]
  },
  {
   "cell_type": "code",
   "execution_count": 62,
   "id": "1e348fb1-b9c3-45bc-ba23-f016827a7e0d",
   "metadata": {
    "execution": {
     "iopub.execute_input": "2025-07-28T10:54:12.213767Z",
     "iopub.status.busy": "2025-07-28T10:54:12.213241Z",
     "iopub.status.idle": "2025-07-28T10:54:12.220779Z",
     "shell.execute_reply": "2025-07-28T10:54:12.219622Z"
    },
    "papermill": {
     "duration": 0.02388,
     "end_time": "2025-07-28T10:54:12.222193",
     "exception": false,
     "start_time": "2025-07-28T10:54:12.198313",
     "status": "completed"
    },
    "tags": []
   },
   "outputs": [
    {
     "data": {
      "text/plain": [
       "{'frau1': 0.9132228063081278,\n",
       " 'nongerman': 0.91062707011733,\n",
       " 'nongerman_male': 0.9251553634152931,\n",
       " 'nongerman_female': 0.8865871833084947}"
      ]
     },
     "execution_count": 62,
     "metadata": {},
     "output_type": "execute_result"
    }
   ],
   "source": [
    "cond_coverage"
   ]
  },
  {
   "cell_type": "code",
   "execution_count": 63,
   "id": "f5093324-c3dd-4d63-bc4c-8d945e5c8bbb",
   "metadata": {
    "execution": {
     "iopub.execute_input": "2025-07-28T10:54:12.253305Z",
     "iopub.status.busy": "2025-07-28T10:54:12.252784Z",
     "iopub.status.idle": "2025-07-28T10:54:12.259237Z",
     "shell.execute_reply": "2025-07-28T10:54:12.258355Z"
    },
    "papermill": {
     "duration": 0.024088,
     "end_time": "2025-07-28T10:54:12.261475",
     "exception": false,
     "start_time": "2025-07-28T10:54:12.237387",
     "status": "completed"
    },
    "tags": []
   },
   "outputs": [],
   "source": [
    "for subgroup, cov in cond_coverage.items():\n",
    "    cp_metrics_df[f\"cov_{subgroup}\"] = cov"
   ]
  },
  {
   "cell_type": "code",
   "execution_count": 64,
   "id": "6e872e10-dbe5-49e8-b554-5030c98ff75d",
   "metadata": {
    "execution": {
     "iopub.execute_input": "2025-07-28T10:54:12.318430Z",
     "iopub.status.busy": "2025-07-28T10:54:12.317846Z",
     "iopub.status.idle": "2025-07-28T10:54:12.339006Z",
     "shell.execute_reply": "2025-07-28T10:54:12.337942Z"
    },
    "papermill": {
     "duration": 0.052624,
     "end_time": "2025-07-28T10:54:12.340917",
     "exception": false,
     "start_time": "2025-07-28T10:54:12.288293",
     "status": "completed"
    },
    "tags": []
   },
   "outputs": [
    {
     "data": {
      "text/html": [
       "<div>\n",
       "<style scoped>\n",
       "    .dataframe tbody tr th:only-of-type {\n",
       "        vertical-align: middle;\n",
       "    }\n",
       "\n",
       "    .dataframe tbody tr th {\n",
       "        vertical-align: top;\n",
       "    }\n",
       "\n",
       "    .dataframe thead th {\n",
       "        text-align: right;\n",
       "    }\n",
       "</style>\n",
       "<table border=\"1\" class=\"dataframe\">\n",
       "  <thead>\n",
       "    <tr style=\"text-align: right;\">\n",
       "      <th></th>\n",
       "      <th>universe_id</th>\n",
       "      <th>universe_training_size</th>\n",
       "      <th>universe_scale</th>\n",
       "      <th>universe_model</th>\n",
       "      <th>universe_exclude_features</th>\n",
       "      <th>universe_exclude_subgroups</th>\n",
       "      <th>q_hat</th>\n",
       "      <th>coverage</th>\n",
       "      <th>avg_size</th>\n",
       "      <th>cov_frau1</th>\n",
       "      <th>cov_nongerman</th>\n",
       "      <th>cov_nongerman_male</th>\n",
       "      <th>cov_nongerman_female</th>\n",
       "    </tr>\n",
       "  </thead>\n",
       "  <tbody>\n",
       "    <tr>\n",
       "      <th>0</th>\n",
       "      <td>fc6e70dae57079c1da82bd1bcf3fbc99</td>\n",
       "      <td>2014</td>\n",
       "      <td>scale</td>\n",
       "      <td>logreg</td>\n",
       "      <td>nationality-sex</td>\n",
       "      <td>keep-all</td>\n",
       "      <td>0.672792</td>\n",
       "      <td>0.912574</td>\n",
       "      <td>1.120867</td>\n",
       "      <td>0.913223</td>\n",
       "      <td>0.910627</td>\n",
       "      <td>0.925155</td>\n",
       "      <td>0.886587</td>\n",
       "    </tr>\n",
       "  </tbody>\n",
       "</table>\n",
       "</div>"
      ],
      "text/plain": [
       "                        universe_id universe_training_size universe_scale  \\\n",
       "0  fc6e70dae57079c1da82bd1bcf3fbc99                   2014          scale   \n",
       "\n",
       "  universe_model universe_exclude_features universe_exclude_subgroups  \\\n",
       "0         logreg           nationality-sex                   keep-all   \n",
       "\n",
       "      q_hat  coverage  avg_size  cov_frau1  cov_nongerman  cov_nongerman_male  \\\n",
       "0  0.672792  0.912574  1.120867   0.913223       0.910627            0.925155   \n",
       "\n",
       "   cov_nongerman_female  \n",
       "0              0.886587  "
      ]
     },
     "execution_count": 64,
     "metadata": {},
     "output_type": "execute_result"
    }
   ],
   "source": [
    "cp_metrics_df"
   ]
  },
  {
   "cell_type": "markdown",
   "id": "33774451",
   "metadata": {
    "papermill": {
     "duration": 0.02566,
     "end_time": "2025-07-28T10:54:12.395089",
     "exception": false,
     "start_time": "2025-07-28T10:54:12.369429",
     "status": "completed"
    },
    "tags": []
   },
   "source": [
    "# (Fairness) Metrics"
   ]
  },
  {
   "cell_type": "code",
   "execution_count": 65,
   "id": "debc5d62",
   "metadata": {
    "execution": {
     "iopub.execute_input": "2025-07-28T10:54:12.424711Z",
     "iopub.status.busy": "2025-07-28T10:54:12.424332Z",
     "iopub.status.idle": "2025-07-28T10:54:12.439867Z",
     "shell.execute_reply": "2025-07-28T10:54:12.438889Z"
    },
    "papermill": {
     "duration": 0.032101,
     "end_time": "2025-07-28T10:54:12.441520",
     "exception": false,
     "start_time": "2025-07-28T10:54:12.409419",
     "status": "completed"
    },
    "tags": []
   },
   "outputs": [],
   "source": [
    "# do I need to include maxdeutsch1.missing?\n",
    "\n",
    "import numpy as np\n",
    "\n",
    "colname_to_bin = \"maxdeutsch1\"\n",
    "majority_value = org_train[colname_to_bin].mode()[0]\n",
    "\n",
    "org_test[\"majmin\"] = np.where(org_test[colname_to_bin] == majority_value, \"majority\", \"minority\")"
   ]
  },
  {
   "cell_type": "code",
   "execution_count": 66,
   "id": "06a50de5",
   "metadata": {
    "execution": {
     "iopub.execute_input": "2025-07-28T10:54:12.473762Z",
     "iopub.status.busy": "2025-07-28T10:54:12.473220Z",
     "iopub.status.idle": "2025-07-28T10:54:15.144227Z",
     "shell.execute_reply": "2025-07-28T10:54:15.143092Z"
    },
    "papermill": {
     "duration": 2.688583,
     "end_time": "2025-07-28T10:54:15.146276",
     "exception": false,
     "start_time": "2025-07-28T10:54:12.457693",
     "status": "completed"
    },
    "tags": []
   },
   "outputs": [],
   "source": [
    "example_universe = universe.copy()\n",
    "example_universe[\"cutoff\"] = example_universe[\"cutoff\"][0]\n",
    "example_universe[\"eval_fairness_grouping\"] = example_universe[\"eval_fairness_grouping\"][0]\n",
    "fairness_dict, metric_frame = universe_analysis.compute_metrics(\n",
    "    example_universe,\n",
    "    y_pred_prob=probs_test,\n",
    "    y_test=y_true,\n",
    "    org_test=org_test,\n",
    ")"
   ]
  },
  {
   "cell_type": "markdown",
   "id": "f95d4e02",
   "metadata": {
    "papermill": {
     "duration": 0.027517,
     "end_time": "2025-07-28T10:54:15.202753",
     "exception": false,
     "start_time": "2025-07-28T10:54:15.175236",
     "status": "completed"
    },
    "tags": []
   },
   "source": [
    "# Overall"
   ]
  },
  {
   "cell_type": "markdown",
   "id": "bdee4871",
   "metadata": {
    "papermill": {
     "duration": 0.026322,
     "end_time": "2025-07-28T10:54:15.254649",
     "exception": false,
     "start_time": "2025-07-28T10:54:15.228327",
     "status": "completed"
    },
    "tags": []
   },
   "source": [
    "Fairness\n",
    "Main fairness target: Equalized Odds. Seems to be a better fit than equal opportunity, since we're not only interested in Y = 1. Seems to be a better fit than demographic parity, since we also care about accuracy, not just equal distribution of preds.\n",
    "\n",
    "Pick column for computation of fairness metrics\n",
    "\n",
    "Performance\n",
    "Overall performance measures, most interesting in relation to the measures split by group below"
   ]
  },
  {
   "cell_type": "code",
   "execution_count": 67,
   "id": "c4e067c6",
   "metadata": {
    "execution": {
     "iopub.execute_input": "2025-07-28T10:54:15.307285Z",
     "iopub.status.busy": "2025-07-28T10:54:15.306749Z",
     "iopub.status.idle": "2025-07-28T10:54:15.315895Z",
     "shell.execute_reply": "2025-07-28T10:54:15.315015Z"
    },
    "papermill": {
     "duration": 0.036284,
     "end_time": "2025-07-28T10:54:15.317375",
     "exception": false,
     "start_time": "2025-07-28T10:54:15.281091",
     "status": "completed"
    },
    "tags": []
   },
   "outputs": [
    {
     "data": {
      "text/plain": [
       "accuracy                   0.225828\n",
       "balanced accuracy          0.551875\n",
       "f1                         0.247119\n",
       "precision                  0.141171\n",
       "false positive rate        0.886691\n",
       "false negative rate        0.009559\n",
       "selection rate             0.900000\n",
       "count                  89710.000000\n",
       "dtype: float64"
      ]
     },
     "execution_count": 67,
     "metadata": {},
     "output_type": "execute_result"
    }
   ],
   "source": [
    "metric_frame.overall"
   ]
  },
  {
   "cell_type": "markdown",
   "id": "e968fe9d",
   "metadata": {
    "papermill": {
     "duration": 0.022201,
     "end_time": "2025-07-28T10:54:15.366523",
     "exception": false,
     "start_time": "2025-07-28T10:54:15.344322",
     "status": "completed"
    },
    "tags": []
   },
   "source": [
    "By Group"
   ]
  },
  {
   "cell_type": "code",
   "execution_count": 68,
   "id": "ec325bce",
   "metadata": {
    "execution": {
     "iopub.execute_input": "2025-07-28T10:54:15.397297Z",
     "iopub.status.busy": "2025-07-28T10:54:15.396388Z",
     "iopub.status.idle": "2025-07-28T10:54:15.413655Z",
     "shell.execute_reply": "2025-07-28T10:54:15.412710Z"
    },
    "papermill": {
     "duration": 0.034487,
     "end_time": "2025-07-28T10:54:15.415238",
     "exception": false,
     "start_time": "2025-07-28T10:54:15.380751",
     "status": "completed"
    },
    "tags": []
   },
   "outputs": [
    {
     "data": {
      "text/html": [
       "<div>\n",
       "<style scoped>\n",
       "    .dataframe tbody tr th:only-of-type {\n",
       "        vertical-align: middle;\n",
       "    }\n",
       "\n",
       "    .dataframe tbody tr th {\n",
       "        vertical-align: top;\n",
       "    }\n",
       "\n",
       "    .dataframe thead th {\n",
       "        text-align: right;\n",
       "    }\n",
       "</style>\n",
       "<table border=\"1\" class=\"dataframe\">\n",
       "  <thead>\n",
       "    <tr style=\"text-align: right;\">\n",
       "      <th></th>\n",
       "      <th>accuracy</th>\n",
       "      <th>balanced accuracy</th>\n",
       "      <th>f1</th>\n",
       "      <th>precision</th>\n",
       "      <th>false positive rate</th>\n",
       "      <th>false negative rate</th>\n",
       "      <th>selection rate</th>\n",
       "      <th>count</th>\n",
       "    </tr>\n",
       "    <tr>\n",
       "      <th>majmin</th>\n",
       "      <th></th>\n",
       "      <th></th>\n",
       "      <th></th>\n",
       "      <th></th>\n",
       "      <th></th>\n",
       "      <th></th>\n",
       "      <th></th>\n",
       "      <th></th>\n",
       "    </tr>\n",
       "  </thead>\n",
       "  <tbody>\n",
       "    <tr>\n",
       "      <th>majority</th>\n",
       "      <td>0.247521</td>\n",
       "      <td>0.561977</td>\n",
       "      <td>0.257874</td>\n",
       "      <td>0.148258</td>\n",
       "      <td>0.865434</td>\n",
       "      <td>0.010613</td>\n",
       "      <td>0.881813</td>\n",
       "      <td>69170.0</td>\n",
       "    </tr>\n",
       "    <tr>\n",
       "      <th>minority</th>\n",
       "      <td>0.152775</td>\n",
       "      <td>0.518799</td>\n",
       "      <td>0.213007</td>\n",
       "      <td>0.119277</td>\n",
       "      <td>0.956912</td>\n",
       "      <td>0.005490</td>\n",
       "      <td>0.961246</td>\n",
       "      <td>20540.0</td>\n",
       "    </tr>\n",
       "  </tbody>\n",
       "</table>\n",
       "</div>"
      ],
      "text/plain": [
       "          accuracy  balanced accuracy        f1  precision  \\\n",
       "majmin                                                       \n",
       "majority  0.247521           0.561977  0.257874   0.148258   \n",
       "minority  0.152775           0.518799  0.213007   0.119277   \n",
       "\n",
       "          false positive rate  false negative rate  selection rate    count  \n",
       "majmin                                                                       \n",
       "majority             0.865434             0.010613        0.881813  69170.0  \n",
       "minority             0.956912             0.005490        0.961246  20540.0  "
      ]
     },
     "execution_count": 68,
     "metadata": {},
     "output_type": "execute_result"
    }
   ],
   "source": [
    "metric_frame.by_group"
   ]
  },
  {
   "cell_type": "code",
   "execution_count": 69,
   "id": "a9ddbe63",
   "metadata": {
    "execution": {
     "iopub.execute_input": "2025-07-28T10:54:15.467631Z",
     "iopub.status.busy": "2025-07-28T10:54:15.467122Z",
     "iopub.status.idle": "2025-07-28T10:54:18.108133Z",
     "shell.execute_reply": "2025-07-28T10:54:18.107114Z"
    },
    "papermill": {
     "duration": 2.669055,
     "end_time": "2025-07-28T10:54:18.110038",
     "exception": false,
     "start_time": "2025-07-28T10:54:15.440983",
     "status": "completed"
    },
    "tags": []
   },
   "outputs": [
    {
     "data": {
      "text/plain": [
       "array([[<Axes: title={'center': 'accuracy'}, xlabel='majmin'>,\n",
       "        <Axes: title={'center': 'balanced accuracy'}, xlabel='majmin'>,\n",
       "        <Axes: title={'center': 'f1'}, xlabel='majmin'>],\n",
       "       [<Axes: title={'center': 'precision'}, xlabel='majmin'>,\n",
       "        <Axes: title={'center': 'false positive rate'}, xlabel='majmin'>,\n",
       "        <Axes: title={'center': 'false negative rate'}, xlabel='majmin'>],\n",
       "       [<Axes: title={'center': 'selection rate'}, xlabel='majmin'>,\n",
       "        <Axes: title={'center': 'count'}, xlabel='majmin'>,\n",
       "        <Axes: xlabel='majmin'>]], dtype=object)"
      ]
     },
     "execution_count": 69,
     "metadata": {},
     "output_type": "execute_result"
    },
    {
     "data": {
      "image/png": "[encoded data removed]",
      "text/plain": [
       "<Figure size 1200x800 with 9 Axes>"
      ]
     },
     "metadata": {},
     "output_type": "display_data"
    }
   ],
   "source": [
    "# In a graphic\n",
    "metric_frame.by_group.plot.bar(\n",
    "    subplots=True,\n",
    "    layout=[3, 3],\n",
    "    legend=False,\n",
    "    figsize=[12, 8],\n",
    "    title=\"Show all metrics\",\n",
    ")"
   ]
  },
  {
   "cell_type": "markdown",
   "id": "f57a0bac",
   "metadata": {
    "papermill": {
     "duration": 0.028523,
     "end_time": "2025-07-28T10:54:18.166519",
     "exception": false,
     "start_time": "2025-07-28T10:54:18.137996",
     "status": "completed"
    },
    "tags": []
   },
   "source": [
    "# Final Output"
   ]
  },
  {
   "cell_type": "code",
   "execution_count": 70,
   "id": "96d280a3",
   "metadata": {
    "execution": {
     "iopub.execute_input": "2025-07-28T10:54:18.225319Z",
     "iopub.status.busy": "2025-07-28T10:54:18.224600Z",
     "iopub.status.idle": "2025-07-28T10:54:18.233409Z",
     "shell.execute_reply": "2025-07-28T10:54:18.232436Z"
    },
    "papermill": {
     "duration": 0.040402,
     "end_time": "2025-07-28T10:54:18.235072",
     "exception": false,
     "start_time": "2025-07-28T10:54:18.194670",
     "status": "completed"
    },
    "tags": []
   },
   "outputs": [
    {
     "data": {
      "text/plain": [
       "4"
      ]
     },
     "execution_count": 70,
     "metadata": {},
     "output_type": "execute_result"
    }
   ],
   "source": [
    "sub_universes = universe_analysis.generate_sub_universes()\n",
    "len(sub_universes)"
   ]
  },
  {
   "cell_type": "code",
   "execution_count": 71,
   "id": "92adf7ba",
   "metadata": {
    "execution": {
     "iopub.execute_input": "2025-07-28T10:54:18.292861Z",
     "iopub.status.busy": "2025-07-28T10:54:18.292156Z",
     "iopub.status.idle": "2025-07-28T10:54:18.299243Z",
     "shell.execute_reply": "2025-07-28T10:54:18.298139Z"
    },
    "papermill": {
     "duration": 0.038038,
     "end_time": "2025-07-28T10:54:18.301033",
     "exception": false,
     "start_time": "2025-07-28T10:54:18.262995",
     "status": "completed"
    },
    "tags": []
   },
   "outputs": [],
   "source": [
    "def filter_sub_universe_data(sub_universe, org_test):\n",
    "    # Keep all rows — no filtering\n",
    "    keep_rows_mask = np.ones(org_test.shape[0], dtype=bool)\n",
    "\n",
    "    print(f\"[INFO] Keeping all rows: {keep_rows_mask.sum()} rows retained.\")\n",
    "    return keep_rows_mask"
   ]
  },
  {
   "cell_type": "code",
   "execution_count": 72,
   "id": "4a759155",
   "metadata": {
    "execution": {
     "iopub.execute_input": "2025-07-28T10:54:18.368282Z",
     "iopub.status.busy": "2025-07-28T10:54:18.367290Z",
     "iopub.status.idle": "2025-07-28T10:54:29.621955Z",
     "shell.execute_reply": "2025-07-28T10:54:29.621035Z"
    },
    "papermill": {
     "duration": 11.289918,
     "end_time": "2025-07-28T10:54:29.623431",
     "exception": false,
     "start_time": "2025-07-28T10:54:18.333513",
     "status": "completed"
    },
    "tags": []
   },
   "outputs": [
    {
     "name": "stdout",
     "output_type": "stream",
     "text": [
      "Stopping execution_time clock.\n",
      "[INFO] Keeping all rows: 89710 rows retained.\n"
     ]
    },
    {
     "name": "stdout",
     "output_type": "stream",
     "text": [
      "[INFO] Keeping all rows: 89710 rows retained.\n"
     ]
    },
    {
     "name": "stdout",
     "output_type": "stream",
     "text": [
      "[INFO] Keeping all rows: 89710 rows retained.\n"
     ]
    },
    {
     "name": "stdout",
     "output_type": "stream",
     "text": [
      "[INFO] Keeping all rows: 89710 rows retained.\n"
     ]
    },
    {
     "data": {
      "text/html": [
       "<div>\n",
       "<style scoped>\n",
       "    .dataframe tbody tr th:only-of-type {\n",
       "        vertical-align: middle;\n",
       "    }\n",
       "\n",
       "    .dataframe tbody tr th {\n",
       "        vertical-align: top;\n",
       "    }\n",
       "\n",
       "    .dataframe thead th {\n",
       "        text-align: right;\n",
       "    }\n",
       "</style>\n",
       "<table border=\"1\" class=\"dataframe\">\n",
       "  <thead>\n",
       "    <tr style=\"text-align: right;\">\n",
       "      <th></th>\n",
       "      <th>run_no</th>\n",
       "      <th>universe_id</th>\n",
       "      <th>universe_settings</th>\n",
       "      <th>execution_time</th>\n",
       "      <th>test_size_n</th>\n",
       "      <th>test_size_frac</th>\n",
       "      <th>fair_main_equalized_odds_difference</th>\n",
       "      <th>fair_main_equalized_odds_ratio</th>\n",
       "      <th>fair_main_demographic_parity_difference</th>\n",
       "      <th>fair_main_demographic_parity_ratio</th>\n",
       "      <th>...</th>\n",
       "      <th>perf_grp_precision_0</th>\n",
       "      <th>perf_grp_precision_1</th>\n",
       "      <th>perf_grp_false positive rate_0</th>\n",
       "      <th>perf_grp_false positive rate_1</th>\n",
       "      <th>perf_grp_false negative rate_0</th>\n",
       "      <th>perf_grp_false negative rate_1</th>\n",
       "      <th>perf_grp_selection rate_0</th>\n",
       "      <th>perf_grp_selection rate_1</th>\n",
       "      <th>perf_grp_count_0</th>\n",
       "      <th>perf_grp_count_1</th>\n",
       "    </tr>\n",
       "  </thead>\n",
       "  <tbody>\n",
       "    <tr>\n",
       "      <th>0</th>\n",
       "      <td>11</td>\n",
       "      <td>fc6e70dae57079c1da82bd1bcf3fbc99</td>\n",
       "      <td>{\"cutoff\": \"quantile_0.1\", \"eval_fairness_grou...</td>\n",
       "      <td>32.025347</td>\n",
       "      <td>89710</td>\n",
       "      <td>1.0</td>\n",
       "      <td>0.091478</td>\n",
       "      <td>0.904403</td>\n",
       "      <td>0.079433</td>\n",
       "      <td>0.917364</td>\n",
       "      <td>...</td>\n",
       "      <td>NaN</td>\n",
       "      <td>NaN</td>\n",
       "      <td>NaN</td>\n",
       "      <td>NaN</td>\n",
       "      <td>NaN</td>\n",
       "      <td>NaN</td>\n",
       "      <td>NaN</td>\n",
       "      <td>NaN</td>\n",
       "      <td>NaN</td>\n",
       "      <td>NaN</td>\n",
       "    </tr>\n",
       "    <tr>\n",
       "      <th>0</th>\n",
       "      <td>11</td>\n",
       "      <td>fc6e70dae57079c1da82bd1bcf3fbc99</td>\n",
       "      <td>{\"cutoff\": \"quantile_0.1\", \"eval_fairness_grou...</td>\n",
       "      <td>32.025347</td>\n",
       "      <td>89710</td>\n",
       "      <td>1.0</td>\n",
       "      <td>0.091478</td>\n",
       "      <td>0.904403</td>\n",
       "      <td>0.079433</td>\n",
       "      <td>0.917364</td>\n",
       "      <td>...</td>\n",
       "      <td>0.119277</td>\n",
       "      <td>0.148258</td>\n",
       "      <td>0.956912</td>\n",
       "      <td>0.865434</td>\n",
       "      <td>0.005490</td>\n",
       "      <td>0.010613</td>\n",
       "      <td>0.961246</td>\n",
       "      <td>0.881813</td>\n",
       "      <td>20540.0</td>\n",
       "      <td>69170.0</td>\n",
       "    </tr>\n",
       "    <tr>\n",
       "      <th>0</th>\n",
       "      <td>11</td>\n",
       "      <td>fc6e70dae57079c1da82bd1bcf3fbc99</td>\n",
       "      <td>{\"cutoff\": \"quantile_0.25\", \"eval_fairness_gro...</td>\n",
       "      <td>32.025347</td>\n",
       "      <td>89710</td>\n",
       "      <td>1.0</td>\n",
       "      <td>0.154060</td>\n",
       "      <td>0.816216</td>\n",
       "      <td>0.132796</td>\n",
       "      <td>0.844206</td>\n",
       "      <td>...</td>\n",
       "      <td>NaN</td>\n",
       "      <td>NaN</td>\n",
       "      <td>NaN</td>\n",
       "      <td>NaN</td>\n",
       "      <td>NaN</td>\n",
       "      <td>NaN</td>\n",
       "      <td>NaN</td>\n",
       "      <td>NaN</td>\n",
       "      <td>NaN</td>\n",
       "      <td>NaN</td>\n",
       "    </tr>\n",
       "    <tr>\n",
       "      <th>0</th>\n",
       "      <td>11</td>\n",
       "      <td>fc6e70dae57079c1da82bd1bcf3fbc99</td>\n",
       "      <td>{\"cutoff\": \"quantile_0.25\", \"eval_fairness_gro...</td>\n",
       "      <td>32.025347</td>\n",
       "      <td>89710</td>\n",
       "      <td>1.0</td>\n",
       "      <td>0.154060</td>\n",
       "      <td>0.816216</td>\n",
       "      <td>0.132796</td>\n",
       "      <td>0.844206</td>\n",
       "      <td>...</td>\n",
       "      <td>0.129941</td>\n",
       "      <td>0.174810</td>\n",
       "      <td>0.838268</td>\n",
       "      <td>0.684208</td>\n",
       "      <td>0.039274</td>\n",
       "      <td>0.048031</td>\n",
       "      <td>0.852386</td>\n",
       "      <td>0.719589</td>\n",
       "      <td>20540.0</td>\n",
       "      <td>69170.0</td>\n",
       "    </tr>\n",
       "  </tbody>\n",
       "</table>\n",
       "<p>4 rows × 50 columns</p>\n",
       "</div>"
      ],
      "text/plain": [
       "  run_no                       universe_id  \\\n",
       "0     11  fc6e70dae57079c1da82bd1bcf3fbc99   \n",
       "0     11  fc6e70dae57079c1da82bd1bcf3fbc99   \n",
       "0     11  fc6e70dae57079c1da82bd1bcf3fbc99   \n",
       "0     11  fc6e70dae57079c1da82bd1bcf3fbc99   \n",
       "\n",
       "                                   universe_settings  execution_time  \\\n",
       "0  {\"cutoff\": \"quantile_0.1\", \"eval_fairness_grou...       32.025347   \n",
       "0  {\"cutoff\": \"quantile_0.1\", \"eval_fairness_grou...       32.025347   \n",
       "0  {\"cutoff\": \"quantile_0.25\", \"eval_fairness_gro...       32.025347   \n",
       "0  {\"cutoff\": \"quantile_0.25\", \"eval_fairness_gro...       32.025347   \n",
       "\n",
       "   test_size_n  test_size_frac  fair_main_equalized_odds_difference  \\\n",
       "0        89710             1.0                             0.091478   \n",
       "0        89710             1.0                             0.091478   \n",
       "0        89710             1.0                             0.154060   \n",
       "0        89710             1.0                             0.154060   \n",
       "\n",
       "   fair_main_equalized_odds_ratio  fair_main_demographic_parity_difference  \\\n",
       "0                        0.904403                                 0.079433   \n",
       "0                        0.904403                                 0.079433   \n",
       "0                        0.816216                                 0.132796   \n",
       "0                        0.816216                                 0.132796   \n",
       "\n",
       "   fair_main_demographic_parity_ratio  ...  perf_grp_precision_0  \\\n",
       "0                            0.917364  ...                   NaN   \n",
       "0                            0.917364  ...              0.119277   \n",
       "0                            0.844206  ...                   NaN   \n",
       "0                            0.844206  ...              0.129941   \n",
       "\n",
       "   perf_grp_precision_1  perf_grp_false positive rate_0  \\\n",
       "0                   NaN                             NaN   \n",
       "0              0.148258                        0.956912   \n",
       "0                   NaN                             NaN   \n",
       "0              0.174810                        0.838268   \n",
       "\n",
       "   perf_grp_false positive rate_1  perf_grp_false negative rate_0  \\\n",
       "0                             NaN                             NaN   \n",
       "0                        0.865434                        0.005490   \n",
       "0                             NaN                             NaN   \n",
       "0                        0.684208                        0.039274   \n",
       "\n",
       "   perf_grp_false negative rate_1  perf_grp_selection rate_0  \\\n",
       "0                             NaN                        NaN   \n",
       "0                        0.010613                   0.961246   \n",
       "0                             NaN                        NaN   \n",
       "0                        0.048031                   0.852386   \n",
       "\n",
       "   perf_grp_selection rate_1  perf_grp_count_0  perf_grp_count_1  \n",
       "0                        NaN               NaN               NaN  \n",
       "0                   0.881813           20540.0           69170.0  \n",
       "0                        NaN               NaN               NaN  \n",
       "0                   0.719589           20540.0           69170.0  \n",
       "\n",
       "[4 rows x 50 columns]"
      ]
     },
     "execution_count": 72,
     "metadata": {},
     "output_type": "execute_result"
    }
   ],
   "source": [
    "final_output = universe_analysis.generate_final_output(\n",
    "    y_pred_prob=probs_test,\n",
    "    y_test=y_true,\n",
    "    org_test=org_test,\n",
    "    filter_data=filter_sub_universe_data,\n",
    "    cp_metrics_df=cp_metrics_df,\n",
    "    save=True,\n",
    ")\n",
    "final_output"
   ]
  },
  {
   "cell_type": "code",
   "execution_count": null,
   "id": "721ff514-cb11-46f8-b6fc-50392f74b5cb",
   "metadata": {
    "papermill": {
     "duration": 0.032057,
     "end_time": "2025-07-28T10:54:29.674159",
     "exception": false,
     "start_time": "2025-07-28T10:54:29.642102",
     "status": "completed"
    },
    "tags": []
   },
   "outputs": [],
   "source": []
  }
 ],
 "metadata": {
  "celltoolbar": "Tags",
  "kernelspec": {
   "display_name": "Python (CMA Fairness)",
   "language": "python",
   "name": "cma_fair_env"
  },
  "language_info": {
   "codemirror_mode": {
    "name": "ipython",
    "version": 3
   },
   "file_extension": ".py",
   "mimetype": "text/x-python",
   "name": "python",
   "nbconvert_exporter": "python",
   "pygments_lexer": "ipython3",
   "version": "3.10.12"
  },
  "papermill": {
   "default_parameters": {},
   "duration": 48.081682,
   "end_time": "2025-07-28T10:54:30.727013",
   "environment_variables": {},
   "exception": null,
   "input_path": "universe_analysis.ipynb",
   "output_path": "output/runs/11/notebooks/m_11-fc6e70dae57079c1da82bd1bcf3fbc99.ipynb",
   "parameters": {
    "output_dir": "output",
    "run_no": "11",
    "seed": "2023",
    "universe": "{\"cutoff\": [\"quantile_0.1\", \"quantile_0.25\"], \"eval_fairness_grouping\": [\"majority-minority\", \"nationality-all\"], \"exclude_features\": \"nationality-sex\", \"exclude_subgroups\": \"keep-all\", \"model\": \"logreg\", \"scale\": \"scale\", \"training_size\": \"2014\"}",
    "universe_id": "fc6e70dae57079c1da82bd1bcf3fbc99"
   },
   "start_time": "2025-07-28T10:53:42.645331",
   "version": "2.6.0"
  }
 },
 "nbformat": 4,
 "nbformat_minor": 5
}