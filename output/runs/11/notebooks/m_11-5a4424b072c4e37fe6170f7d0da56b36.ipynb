{
 "cells": [
  {
   "cell_type": "code",
   "execution_count": 1,
   "id": "f159f837-637b-42ba-96b5-ec9a68c44524",
   "metadata": {
    "execution": {
     "iopub.execute_input": "2025-07-28T10:56:48.983888Z",
     "iopub.status.busy": "2025-07-28T10:56:48.983450Z",
     "iopub.status.idle": "2025-07-28T10:56:49.003531Z",
     "shell.execute_reply": "2025-07-28T10:56:49.002591Z"
    },
    "papermill": {
     "duration": 0.063811,
     "end_time": "2025-07-28T10:56:49.005894",
     "exception": false,
     "start_time": "2025-07-28T10:56:48.942083",
     "status": "completed"
    },
    "tags": []
   },
   "outputs": [
    {
     "name": "stdout",
     "output_type": "stream",
     "text": [
      "/dss/dsshome1/0C/ra93lal2/cma/CMA_Fairness_v2\n"
     ]
    },
    {
     "name": "stderr",
     "output_type": "stream",
     "text": [
      "/dss/dsshome1/0C/ra93lal2/.local/share/virtualenvs/CMA_Fairness_v2-3j10GkSs/lib/python3.10/site-packages/IPython/core/magics/osm.py:393: UserWarning: This is now an optional IPython functionality, using bookmarks requires you to install the `pickleshare` library.\n",
      "  bkms = self.shell.db.get('bookmarks', {})\n",
      "/dss/dsshome1/0C/ra93lal2/.local/share/virtualenvs/CMA_Fairness_v2-3j10GkSs/lib/python3.10/site-packages/IPython/core/magics/osm.py:417: UserWarning: This is now an optional IPython functionality, setting dhist requires you to install the `pickleshare` library.\n",
      "  self.shell.db['dhist'] = compress_dhist(dhist)[-100:]\n"
     ]
    }
   ],
   "source": [
    "%cd ~/cma/CMA_Fairness_v2"
   ]
  },
  {
   "cell_type": "markdown",
   "id": "de2603b9",
   "metadata": {
    "papermill": {
     "duration": 0.033245,
     "end_time": "2025-07-28T10:56:49.105515",
     "exception": false,
     "start_time": "2025-07-28T10:56:49.072270",
     "status": "completed"
    },
    "tags": []
   },
   "source": [
    "The following cell holds the definition of our parameters, these values can be overriden by rendering the with e.g. the following command:\n",
    "\n",
    "papermill -p alpha 0.2 -p ratio 0.3 universe_analysis.ipynb output/test_run.ipynb"
   ]
  },
  {
   "cell_type": "code",
   "execution_count": 2,
   "id": "a80968a0-40bb-4fa9-85ef-2d5eefb01975",
   "metadata": {
    "execution": {
     "iopub.execute_input": "2025-07-28T10:56:49.201195Z",
     "iopub.status.busy": "2025-07-28T10:56:49.200772Z",
     "iopub.status.idle": "2025-07-28T10:56:49.208987Z",
     "shell.execute_reply": "2025-07-28T10:56:49.207945Z"
    },
    "papermill": {
     "duration": 0.069509,
     "end_time": "2025-07-28T10:56:49.211092",
     "exception": false,
     "start_time": "2025-07-28T10:56:49.141583",
     "status": "completed"
    },
    "tags": []
   },
   "outputs": [
    {
     "name": "stdout",
     "output_type": "stream",
     "text": [
      "Current working directory: /dss/dsshome1/0C/ra93lal2/cma/CMA_Fairness_v2\n"
     ]
    }
   ],
   "source": [
    "import os\n",
    "print(\"Current working directory:\", os.getcwd())"
   ]
  },
  {
   "cell_type": "code",
   "execution_count": 3,
   "id": "2dce4c03",
   "metadata": {
    "execution": {
     "iopub.execute_input": "2025-07-28T10:56:49.294450Z",
     "iopub.status.busy": "2025-07-28T10:56:49.294046Z",
     "iopub.status.idle": "2025-07-28T10:56:49.301826Z",
     "shell.execute_reply": "2025-07-28T10:56:49.300716Z"
    },
    "papermill": {
     "duration": 0.047329,
     "end_time": "2025-07-28T10:56:49.303925",
     "exception": false,
     "start_time": "2025-07-28T10:56:49.256596",
     "status": "completed"
    },
    "tags": [
     "parameters"
    ]
   },
   "outputs": [],
   "source": [
    "run_no = 0\n",
    "universe_id = \"test\"\n",
    "universe = {\n",
    "    \"training_size\": \"2014\", # \"25k\", \"5k\", \"1k\", \"2014\"\n",
    "    \"scale\": \"scale\", # \"scale\", \"do-not-scale\",\n",
    "    #\"stratify_split\": \"target\", # \"none\", \"target\", \"protected-attribute\", \"both\",\n",
    "    \"model\": \"elasticnet\", # \"logreg\", \"penalized_logreg\", \"rf\", \"gbm\", \"elasticnet\"\n",
    "    \"cutoff\": [\"quantile_0.15\", \"quantile_0.30\"],\n",
    "    \"exclude_features\": \"age\", # \"none\", \"nationality\", \"sex\", \"nationality-sex\", \"age\"\n",
    "    \"exclude_subgroups\": \"keep-all\", # \"keep-all\", \"drop-non-german\"\n",
    "    \"eval_fairness_grouping\": [\"majority-minority\", \"nationality-all\"]\n",
    "}\n",
    "\n",
    "output_dir=\"./output\"\n",
    "seed=0"
   ]
  },
  {
   "cell_type": "code",
   "execution_count": 4,
   "id": "8d36eb1b",
   "metadata": {
    "execution": {
     "iopub.execute_input": "2025-07-28T10:56:49.397445Z",
     "iopub.status.busy": "2025-07-28T10:56:49.397010Z",
     "iopub.status.idle": "2025-07-28T10:56:49.404623Z",
     "shell.execute_reply": "2025-07-28T10:56:49.403533Z"
    },
    "papermill": {
     "duration": 0.048312,
     "end_time": "2025-07-28T10:56:49.407004",
     "exception": false,
     "start_time": "2025-07-28T10:56:49.358692",
     "status": "completed"
    },
    "tags": [
     "injected-parameters"
    ]
   },
   "outputs": [],
   "source": [
    "# Parameters\n",
    "universe_id = \"5a4424b072c4e37fe6170f7d0da56b36\"\n",
    "run_no = \"11\"\n",
    "universe = \"{\\\"cutoff\\\": [\\\"quantile_0.1\\\", \\\"quantile_0.25\\\"], \\\"eval_fairness_grouping\\\": [\\\"majority-minority\\\", \\\"nationality-all\\\"], \\\"exclude_features\\\": \\\"age\\\", \\\"exclude_subgroups\\\": \\\"keep-all\\\", \\\"model\\\": \\\"rf\\\", \\\"scale\\\": \\\"scale\\\", \\\"training_size\\\": \\\"2014\\\"}\"\n",
    "output_dir = \"output\"\n",
    "seed = \"2023\"\n"
   ]
  },
  {
   "cell_type": "code",
   "execution_count": 5,
   "id": "1650acaf",
   "metadata": {
    "execution": {
     "iopub.execute_input": "2025-07-28T10:56:49.510583Z",
     "iopub.status.busy": "2025-07-28T10:56:49.510111Z",
     "iopub.status.idle": "2025-07-28T10:56:49.515803Z",
     "shell.execute_reply": "2025-07-28T10:56:49.514825Z"
    },
    "papermill": {
     "duration": 0.068643,
     "end_time": "2025-07-28T10:56:49.517917",
     "exception": false,
     "start_time": "2025-07-28T10:56:49.449274",
     "status": "completed"
    },
    "tags": []
   },
   "outputs": [],
   "source": [
    "import json\n",
    "# Parse universe into dict if it is passed as a string\n",
    "if isinstance(universe, str):\n",
    "    universe = json.loads(universe)"
   ]
  },
  {
   "cell_type": "code",
   "execution_count": 6,
   "id": "16620c48",
   "metadata": {
    "execution": {
     "iopub.execute_input": "2025-07-28T10:56:49.606889Z",
     "iopub.status.busy": "2025-07-28T10:56:49.606457Z",
     "iopub.status.idle": "2025-07-28T10:56:49.748091Z",
     "shell.execute_reply": "2025-07-28T10:56:49.746794Z"
    },
    "papermill": {
     "duration": 0.195085,
     "end_time": "2025-07-28T10:56:49.750213",
     "exception": false,
     "start_time": "2025-07-28T10:56:49.555128",
     "status": "completed"
    },
    "tags": []
   },
   "outputs": [],
   "source": [
    "# Auto-reload the custom package\n",
    "%load_ext autoreload\n",
    "%autoreload 1\n",
    "%aimport fairness_multiverse"
   ]
  },
  {
   "cell_type": "code",
   "execution_count": 7,
   "id": "01c5c9f3",
   "metadata": {
    "execution": {
     "iopub.execute_input": "2025-07-28T10:56:49.828919Z",
     "iopub.status.busy": "2025-07-28T10:56:49.828355Z",
     "iopub.status.idle": "2025-07-28T10:56:53.611454Z",
     "shell.execute_reply": "2025-07-28T10:56:53.610076Z"
    },
    "papermill": {
     "duration": 3.826734,
     "end_time": "2025-07-28T10:56:53.613342",
     "exception": false,
     "start_time": "2025-07-28T10:56:49.786608",
     "status": "completed"
    },
    "tags": []
   },
   "outputs": [],
   "source": [
    "from fairness_multiverse.universe import UniverseAnalysis\n",
    "\n",
    "universe_analysis = UniverseAnalysis(\n",
    "    run_no = run_no,\n",
    "    universe_id = universe_id,\n",
    "    universe = universe,\n",
    "    output_dir=output_dir,\n",
    ")"
   ]
  },
  {
   "cell_type": "code",
   "execution_count": 8,
   "id": "106241f5",
   "metadata": {
    "execution": {
     "iopub.execute_input": "2025-07-28T10:56:53.731763Z",
     "iopub.status.busy": "2025-07-28T10:56:53.730724Z",
     "iopub.status.idle": "2025-07-28T10:56:53.738427Z",
     "shell.execute_reply": "2025-07-28T10:56:53.737488Z"
    },
    "papermill": {
     "duration": 0.07317,
     "end_time": "2025-07-28T10:56:53.740171",
     "exception": false,
     "start_time": "2025-07-28T10:56:53.667001",
     "status": "completed"
    },
    "tags": []
   },
   "outputs": [
    {
     "name": "stdout",
     "output_type": "stream",
     "text": [
      "Using Seed: 2023\n"
     ]
    }
   ],
   "source": [
    "import numpy as np\n",
    "parsed_seed = int(seed)\n",
    "np.random.seed(parsed_seed)\n",
    "print(f\"Using Seed: {parsed_seed}\")"
   ]
  },
  {
   "cell_type": "markdown",
   "id": "e0ebdc57",
   "metadata": {
    "papermill": {
     "duration": 0.060167,
     "end_time": "2025-07-28T10:56:53.827070",
     "exception": false,
     "start_time": "2025-07-28T10:56:53.766903",
     "status": "completed"
    },
    "tags": []
   },
   "source": [
    "# Loading Data"
   ]
  },
  {
   "cell_type": "markdown",
   "id": "681925a3",
   "metadata": {
    "papermill": {
     "duration": 0.060253,
     "end_time": "2025-07-28T10:56:53.950429",
     "exception": false,
     "start_time": "2025-07-28T10:56:53.890176",
     "status": "completed"
    },
    "tags": []
   },
   "source": [
    "Load siab_train, siab_test, siab_calib and/or \n",
    "load siab_train_features, siab_train_labels"
   ]
  },
  {
   "cell_type": "code",
   "execution_count": 9,
   "id": "f0496b8a",
   "metadata": {
    "execution": {
     "iopub.execute_input": "2025-07-28T10:56:54.014807Z",
     "iopub.status.busy": "2025-07-28T10:56:54.014374Z",
     "iopub.status.idle": "2025-07-28T10:57:13.616271Z",
     "shell.execute_reply": "2025-07-28T10:57:13.614906Z"
    },
    "papermill": {
     "duration": 19.636543,
     "end_time": "2025-07-28T10:57:13.618264",
     "exception": false,
     "start_time": "2025-07-28T10:56:53.981721",
     "status": "completed"
    },
    "tags": []
   },
   "outputs": [
    {
     "name": "stdout",
     "output_type": "stream",
     "text": [
      "Loading SIAB data from cache: data/siab_cached.csv.gz\n"
     ]
    },
    {
     "name": "stdout",
     "output_type": "stream",
     "text": [
      "(643690, 164)\n"
     ]
    }
   ],
   "source": [
    "from pathlib import Path\n",
    "import pandas as pd\n",
    "\n",
    "# File paths\n",
    "raw_file = Path(\"data/raw/siab.csv\")\n",
    "cache_file = Path(\"data/siab_cached.csv.gz\")\n",
    "\n",
    "# Ensure cache directory exists\n",
    "cache_file.parent.mkdir(parents=True, exist_ok=True)\n",
    "\n",
    "# Load with simple caching\n",
    "if cache_file.exists():\n",
    "    print(f\"Loading SIAB data from cache: {cache_file}\")\n",
    "    siab = pd.read_csv(cache_file, compression='gzip')\n",
    "else:\n",
    "    print(f\"Cache not found. Reading raw SIAB data: {raw_file}\")\n",
    "    siab = pd.read_csv(raw_file)\n",
    "    siab.to_csv(cache_file, index=False, compression='gzip')\n",
    "    print(f\"Cached SIAB data to: {cache_file}\")\n",
    "\n",
    "# Now use `siab` DataFrame as needed\n",
    "print(siab.shape)"
   ]
  },
  {
   "cell_type": "code",
   "execution_count": 10,
   "id": "db0ca512-5f53-4dba-abdb-a2888bca41ba",
   "metadata": {
    "execution": {
     "iopub.execute_input": "2025-07-28T10:57:13.671407Z",
     "iopub.status.busy": "2025-07-28T10:57:13.670302Z",
     "iopub.status.idle": "2025-07-28T10:57:13.676214Z",
     "shell.execute_reply": "2025-07-28T10:57:13.675200Z"
    },
    "papermill": {
     "duration": 0.032577,
     "end_time": "2025-07-28T10:57:13.678057",
     "exception": false,
     "start_time": "2025-07-28T10:57:13.645480",
     "status": "completed"
    },
    "tags": []
   },
   "outputs": [],
   "source": [
    "#siab"
   ]
  },
  {
   "cell_type": "code",
   "execution_count": 11,
   "id": "a0edb063",
   "metadata": {
    "execution": {
     "iopub.execute_input": "2025-07-28T10:57:13.724459Z",
     "iopub.status.busy": "2025-07-28T10:57:13.723968Z",
     "iopub.status.idle": "2025-07-28T10:57:13.729223Z",
     "shell.execute_reply": "2025-07-28T10:57:13.728079Z"
    },
    "papermill": {
     "duration": 0.030045,
     "end_time": "2025-07-28T10:57:13.730826",
     "exception": false,
     "start_time": "2025-07-28T10:57:13.700781",
     "status": "completed"
    },
    "tags": []
   },
   "outputs": [],
   "source": [
    "#import pandas as pd\n",
    "#\n",
    "#X_train = pd.read_csv(\"./data/X_train.csv\")\n",
    "#y_train = pd.read_csv(\"./data/y_train.csv\")"
   ]
  },
  {
   "cell_type": "code",
   "execution_count": 12,
   "id": "63d08085",
   "metadata": {
    "execution": {
     "iopub.execute_input": "2025-07-28T10:57:13.771931Z",
     "iopub.status.busy": "2025-07-28T10:57:13.770884Z",
     "iopub.status.idle": "2025-07-28T10:57:13.776327Z",
     "shell.execute_reply": "2025-07-28T10:57:13.774988Z"
    },
    "papermill": {
     "duration": 0.027491,
     "end_time": "2025-07-28T10:57:13.777958",
     "exception": false,
     "start_time": "2025-07-28T10:57:13.750467",
     "status": "completed"
    },
    "tags": []
   },
   "outputs": [],
   "source": [
    "#X_test = pd.read_csv(\"./data/X_test.csv\")\n",
    "#y_true = pd.read_csv(\"./data/y_test.csv\")"
   ]
  },
  {
   "cell_type": "code",
   "execution_count": 13,
   "id": "98a8d0fa-1d3d-4ed8-bb2c-281470e24add",
   "metadata": {
    "execution": {
     "iopub.execute_input": "2025-07-28T10:57:13.819701Z",
     "iopub.status.busy": "2025-07-28T10:57:13.818709Z",
     "iopub.status.idle": "2025-07-28T10:57:13.824451Z",
     "shell.execute_reply": "2025-07-28T10:57:13.823359Z"
    },
    "papermill": {
     "duration": 0.02924,
     "end_time": "2025-07-28T10:57:13.826323",
     "exception": false,
     "start_time": "2025-07-28T10:57:13.797083",
     "status": "completed"
    },
    "tags": []
   },
   "outputs": [],
   "source": [
    "# Calibration data for conformal\n",
    "#X_calib = pd.read_csv(\"./data/X_calib.csv\")\n",
    "#y_calib = pd.read_csv(\"./data/y_calib.csv\")"
   ]
  },
  {
   "cell_type": "markdown",
   "id": "9901737e-04df-44f0-9100-f5ad144ed040",
   "metadata": {
    "papermill": {
     "duration": 0.02032,
     "end_time": "2025-07-28T10:57:13.866581",
     "exception": false,
     "start_time": "2025-07-28T10:57:13.846261",
     "status": "completed"
    },
    "tags": []
   },
   "source": [
    "# Splitting Data and Setting Training Data Size"
   ]
  },
  {
   "cell_type": "code",
   "execution_count": 14,
   "id": "acbc8f7d-8fc8-4e86-8c59-5dcb0f58384b",
   "metadata": {
    "execution": {
     "iopub.execute_input": "2025-07-28T10:57:13.909778Z",
     "iopub.status.busy": "2025-07-28T10:57:13.908726Z",
     "iopub.status.idle": "2025-07-28T10:57:13.918138Z",
     "shell.execute_reply": "2025-07-28T10:57:13.916915Z"
    },
    "papermill": {
     "duration": 0.0329,
     "end_time": "2025-07-28T10:57:13.920578",
     "exception": false,
     "start_time": "2025-07-28T10:57:13.887678",
     "status": "completed"
    },
    "tags": []
   },
   "outputs": [],
   "source": [
    "def sample_by_year(df, training_size, random_state=42):\n",
    "    if training_size == \"2014\":\n",
    "        return df[df[\"year\"] == 2014].reset_index(drop=True)\n",
    "    \n",
    "    size_map = {\n",
    "        \"25k\": 5000,\n",
    "        \"5k\": 1000,\n",
    "        \"1k\": 200\n",
    "    }\n",
    "\n",
    "    if training_size not in size_map:\n",
    "        return df.reset_index(drop=True)  # use all data\n",
    "\n",
    "    n_per_year = size_map[training_size]\n",
    "    grouped = df.groupby(\"year\")\n",
    "    sampled = grouped.apply(lambda x: x.sample(n=min(n_per_year, len(x)), random_state=random_state))\n",
    "    return sampled.reset_index(drop=True)"
   ]
  },
  {
   "cell_type": "code",
   "execution_count": 15,
   "id": "6d931f52-beaf-43ff-9e78-9d44a448d54e",
   "metadata": {
    "execution": {
     "iopub.execute_input": "2025-07-28T10:57:13.977405Z",
     "iopub.status.busy": "2025-07-28T10:57:13.976747Z",
     "iopub.status.idle": "2025-07-28T10:57:14.150730Z",
     "shell.execute_reply": "2025-07-28T10:57:14.149567Z"
    },
    "papermill": {
     "duration": 0.20418,
     "end_time": "2025-07-28T10:57:14.153151",
     "exception": false,
     "start_time": "2025-07-28T10:57:13.948971",
     "status": "completed"
    },
    "tags": []
   },
   "outputs": [],
   "source": [
    "siab_s = sample_by_year(siab, universe[\"training_size\"])"
   ]
  },
  {
   "cell_type": "code",
   "execution_count": 16,
   "id": "5db0a40e-a4e2-4920-be85-b12ae061d70d",
   "metadata": {
    "execution": {
     "iopub.execute_input": "2025-07-28T10:57:14.212201Z",
     "iopub.status.busy": "2025-07-28T10:57:14.211750Z",
     "iopub.status.idle": "2025-07-28T10:57:14.241240Z",
     "shell.execute_reply": "2025-07-28T10:57:14.240099Z"
    },
    "papermill": {
     "duration": 0.053124,
     "end_time": "2025-07-28T10:57:14.243226",
     "exception": false,
     "start_time": "2025-07-28T10:57:14.190102",
     "status": "completed"
    },
    "tags": []
   },
   "outputs": [
    {
     "data": {
      "text/plain": [
       "year\n",
       "2014    87158\n",
       "dtype: int64"
      ]
     },
     "metadata": {},
     "output_type": "display_data"
    }
   ],
   "source": [
    "display(siab_s.groupby(\"year\").size())"
   ]
  },
  {
   "cell_type": "code",
   "execution_count": 17,
   "id": "a561edb4-d032-42cb-8256-22eac1111c64",
   "metadata": {
    "execution": {
     "iopub.execute_input": "2025-07-28T10:57:14.330411Z",
     "iopub.status.busy": "2025-07-28T10:57:14.329961Z",
     "iopub.status.idle": "2025-07-28T10:57:15.044133Z",
     "shell.execute_reply": "2025-07-28T10:57:15.042860Z"
    },
    "papermill": {
     "duration": 0.764115,
     "end_time": "2025-07-28T10:57:15.046152",
     "exception": false,
     "start_time": "2025-07-28T10:57:14.282037",
     "status": "completed"
    },
    "tags": []
   },
   "outputs": [],
   "source": [
    "siab_train = siab_s[siab_s.year < 2015]\n",
    "siab_calib = siab[siab.year == 2015]\n",
    "siab_test = siab[siab.year == 2016]"
   ]
  },
  {
   "cell_type": "code",
   "execution_count": 18,
   "id": "472de16f-c3db-4916-846b-1f0de9cf1746",
   "metadata": {
    "execution": {
     "iopub.execute_input": "2025-07-28T10:57:15.192389Z",
     "iopub.status.busy": "2025-07-28T10:57:15.191933Z",
     "iopub.status.idle": "2025-07-28T10:57:15.335592Z",
     "shell.execute_reply": "2025-07-28T10:57:15.334475Z"
    },
    "papermill": {
     "duration": 0.231255,
     "end_time": "2025-07-28T10:57:15.339393",
     "exception": false,
     "start_time": "2025-07-28T10:57:15.108138",
     "status": "completed"
    },
    "tags": []
   },
   "outputs": [],
   "source": [
    "X_train = siab_train.iloc[:,4:164]\n",
    "y_train = siab_train.iloc[:, [3]]"
   ]
  },
  {
   "cell_type": "code",
   "execution_count": 19,
   "id": "828c96af-f43a-4ed6-ba47-8ac73a47d56c",
   "metadata": {
    "execution": {
     "iopub.execute_input": "2025-07-28T10:57:15.413880Z",
     "iopub.status.busy": "2025-07-28T10:57:15.413406Z",
     "iopub.status.idle": "2025-07-28T10:57:15.532122Z",
     "shell.execute_reply": "2025-07-28T10:57:15.530906Z"
    },
    "papermill": {
     "duration": 0.160791,
     "end_time": "2025-07-28T10:57:15.534310",
     "exception": false,
     "start_time": "2025-07-28T10:57:15.373519",
     "status": "completed"
    },
    "tags": []
   },
   "outputs": [],
   "source": [
    "X_calib = siab_calib.iloc[:,4:164]\n",
    "y_calib = siab_calib.iloc[:, [3]]"
   ]
  },
  {
   "cell_type": "code",
   "execution_count": 20,
   "id": "c34be9c3-6bd6-476e-acd3-845840e303be",
   "metadata": {
    "execution": {
     "iopub.execute_input": "2025-07-28T10:57:15.849836Z",
     "iopub.status.busy": "2025-07-28T10:57:15.849411Z",
     "iopub.status.idle": "2025-07-28T10:57:15.959369Z",
     "shell.execute_reply": "2025-07-28T10:57:15.958212Z"
    },
    "papermill": {
     "duration": 0.171899,
     "end_time": "2025-07-28T10:57:15.961529",
     "exception": false,
     "start_time": "2025-07-28T10:57:15.789630",
     "status": "completed"
    },
    "tags": []
   },
   "outputs": [],
   "source": [
    "X_test = siab_test.iloc[:,4:164]\n",
    "y_true = siab_test.iloc[:, [3]]"
   ]
  },
  {
   "cell_type": "code",
   "execution_count": 21,
   "id": "e6c733c5",
   "metadata": {
    "execution": {
     "iopub.execute_input": "2025-07-28T10:57:16.079133Z",
     "iopub.status.busy": "2025-07-28T10:57:16.078685Z",
     "iopub.status.idle": "2025-07-28T10:57:16.370626Z",
     "shell.execute_reply": "2025-07-28T10:57:16.369467Z"
    },
    "papermill": {
     "duration": 0.365292,
     "end_time": "2025-07-28T10:57:16.373287",
     "exception": false,
     "start_time": "2025-07-28T10:57:16.007995",
     "status": "completed"
    },
    "tags": []
   },
   "outputs": [],
   "source": [
    "# Auxiliary data needed downstream in the pipeline\n",
    "\n",
    "org_train = X_train.copy()\n",
    "org_test = X_test.copy()\n",
    "org_calib = X_calib.copy()"
   ]
  },
  {
   "cell_type": "markdown",
   "id": "0a4a1b33",
   "metadata": {
    "papermill": {
     "duration": 0.044726,
     "end_time": "2025-07-28T10:57:16.457146",
     "exception": false,
     "start_time": "2025-07-28T10:57:16.412420",
     "status": "completed"
    },
    "tags": []
   },
   "source": [
    "# Preprocessing Data"
   ]
  },
  {
   "cell_type": "code",
   "execution_count": 22,
   "id": "ca879031",
   "metadata": {
    "execution": {
     "iopub.execute_input": "2025-07-28T10:57:16.586074Z",
     "iopub.status.busy": "2025-07-28T10:57:16.585649Z",
     "iopub.status.idle": "2025-07-28T10:57:16.593251Z",
     "shell.execute_reply": "2025-07-28T10:57:16.592144Z"
    },
    "papermill": {
     "duration": 0.070352,
     "end_time": "2025-07-28T10:57:16.595039",
     "exception": false,
     "start_time": "2025-07-28T10:57:16.524687",
     "status": "completed"
    },
    "tags": []
   },
   "outputs": [],
   "source": [
    "# EXCLUDE PROTECTED FEATURES\n",
    "# ----------------------\n",
    "# \"exclude_features\": \"none\", # \"nationality\", \"sex\", \"nationality-sex\"\n",
    "\n",
    "excluded_features = universe[\"exclude_features\"].split(\"-\") # split, e.g.: \"nationality-sex\" -> [\"nationality\", \"sex\"]\n",
    "excluded_features_dictionary = {\n",
    "    \"nationality\": [\"maxdeutsch1\", \"maxdeutsch.Missing.\"],\n",
    "    \"sex\": [\"frau1\"],\n",
    "    \"age\": [\"age\"],\n",
    "}\n"
   ]
  },
  {
   "cell_type": "code",
   "execution_count": 23,
   "id": "b745ac60",
   "metadata": {
    "execution": {
     "iopub.execute_input": "2025-07-28T10:57:16.707083Z",
     "iopub.status.busy": "2025-07-28T10:57:16.706647Z",
     "iopub.status.idle": "2025-07-28T10:57:16.714684Z",
     "shell.execute_reply": "2025-07-28T10:57:16.713662Z"
    },
    "papermill": {
     "duration": 0.063219,
     "end_time": "2025-07-28T10:57:16.716835",
     "exception": false,
     "start_time": "2025-07-28T10:57:16.653616",
     "status": "completed"
    },
    "tags": []
   },
   "outputs": [],
   "source": [
    "# Code nice names to column names\n",
    "\n",
    "excluded_features_columns = [\n",
    "    excluded_features_dictionary[f] for f in excluded_features if len(f) > 0 and f != \"none\"\n",
    "]"
   ]
  },
  {
   "cell_type": "code",
   "execution_count": 24,
   "id": "f84f73a2",
   "metadata": {
    "execution": {
     "iopub.execute_input": "2025-07-28T10:57:16.814790Z",
     "iopub.status.busy": "2025-07-28T10:57:16.814312Z",
     "iopub.status.idle": "2025-07-28T10:57:16.822840Z",
     "shell.execute_reply": "2025-07-28T10:57:16.821645Z"
    },
    "papermill": {
     "duration": 0.056495,
     "end_time": "2025-07-28T10:57:16.825202",
     "exception": false,
     "start_time": "2025-07-28T10:57:16.768707",
     "status": "completed"
    },
    "tags": []
   },
   "outputs": [],
   "source": [
    "from utils import flatten_once\n",
    "\n",
    "excluded_features_columns = flatten_once(excluded_features_columns)"
   ]
  },
  {
   "cell_type": "code",
   "execution_count": 25,
   "id": "884dea22",
   "metadata": {
    "execution": {
     "iopub.execute_input": "2025-07-28T10:57:16.930246Z",
     "iopub.status.busy": "2025-07-28T10:57:16.929818Z",
     "iopub.status.idle": "2025-07-28T10:57:17.039052Z",
     "shell.execute_reply": "2025-07-28T10:57:17.037930Z"
    },
    "papermill": {
     "duration": 0.160418,
     "end_time": "2025-07-28T10:57:17.041134",
     "exception": false,
     "start_time": "2025-07-28T10:57:16.880716",
     "status": "completed"
    },
    "tags": []
   },
   "outputs": [
    {
     "name": "stdout",
     "output_type": "stream",
     "text": [
      "Dropping features: ['age']\n"
     ]
    }
   ],
   "source": [
    "if len(excluded_features_columns) > 0:\n",
    "    print(f\"Dropping features: {excluded_features_columns}\")\n",
    "    X_train.drop(excluded_features_columns, axis=1, inplace=True)"
   ]
  },
  {
   "cell_type": "code",
   "execution_count": 26,
   "id": "95ab8b16",
   "metadata": {
    "execution": {
     "iopub.execute_input": "2025-07-28T10:57:17.150563Z",
     "iopub.status.busy": "2025-07-28T10:57:17.150128Z",
     "iopub.status.idle": "2025-07-28T10:57:17.253160Z",
     "shell.execute_reply": "2025-07-28T10:57:17.252131Z"
    },
    "papermill": {
     "duration": 0.158475,
     "end_time": "2025-07-28T10:57:17.255034",
     "exception": false,
     "start_time": "2025-07-28T10:57:17.096559",
     "status": "completed"
    },
    "tags": []
   },
   "outputs": [
    {
     "name": "stdout",
     "output_type": "stream",
     "text": [
      "Dropping features: ['age']\n"
     ]
    }
   ],
   "source": [
    "if len(excluded_features_columns) > 0:\n",
    "    print(f\"Dropping features: {excluded_features_columns}\")\n",
    "    X_test.drop(excluded_features_columns, axis=1, inplace=True)"
   ]
  },
  {
   "cell_type": "code",
   "execution_count": 27,
   "id": "1853aaf5-fb9f-46cb-a2b5-8ea4ae2237e4",
   "metadata": {
    "execution": {
     "iopub.execute_input": "2025-07-28T10:57:17.359096Z",
     "iopub.status.busy": "2025-07-28T10:57:17.358688Z",
     "iopub.status.idle": "2025-07-28T10:57:17.472521Z",
     "shell.execute_reply": "2025-07-28T10:57:17.471338Z"
    },
    "papermill": {
     "duration": 0.169775,
     "end_time": "2025-07-28T10:57:17.474523",
     "exception": false,
     "start_time": "2025-07-28T10:57:17.304748",
     "status": "completed"
    },
    "tags": []
   },
   "outputs": [
    {
     "name": "stdout",
     "output_type": "stream",
     "text": [
      "Dropping features: ['age']\n"
     ]
    }
   ],
   "source": [
    "if len(excluded_features_columns) > 0:\n",
    "    print(f\"Dropping features: {excluded_features_columns}\")\n",
    "    X_calib.drop(excluded_features_columns, axis=1, inplace=True)"
   ]
  },
  {
   "cell_type": "code",
   "execution_count": 28,
   "id": "6727d079-03e5-481e-9d38-292a90b7a0a8",
   "metadata": {
    "execution": {
     "iopub.execute_input": "2025-07-28T10:57:17.567278Z",
     "iopub.status.busy": "2025-07-28T10:57:17.566227Z",
     "iopub.status.idle": "2025-07-28T10:57:17.571967Z",
     "shell.execute_reply": "2025-07-28T10:57:17.571078Z"
    },
    "papermill": {
     "duration": 0.053285,
     "end_time": "2025-07-28T10:57:17.573856",
     "exception": false,
     "start_time": "2025-07-28T10:57:17.520571",
     "status": "completed"
    },
    "tags": []
   },
   "outputs": [],
   "source": [
    "# SPLIT & STRATIFY DATA\n",
    "# ----------------------"
   ]
  },
  {
   "cell_type": "code",
   "execution_count": 29,
   "id": "76c4dc6d",
   "metadata": {
    "execution": {
     "iopub.execute_input": "2025-07-28T10:57:17.647018Z",
     "iopub.status.busy": "2025-07-28T10:57:17.646587Z",
     "iopub.status.idle": "2025-07-28T10:57:17.652761Z",
     "shell.execute_reply": "2025-07-28T10:57:17.651673Z"
    },
    "papermill": {
     "duration": 0.044451,
     "end_time": "2025-07-28T10:57:17.655091",
     "exception": false,
     "start_time": "2025-07-28T10:57:17.610640",
     "status": "completed"
    },
    "tags": []
   },
   "outputs": [],
   "source": [
    "# EXCLUDE CERTAIN SUBGROUPS\n",
    "# ----------------------\n",
    "\n",
    "mode = universe.get(\"exclude_subgroups\", \"keep-all\") \n",
    "# Fetches the exclude_subgroups setting from the universe dict.\n",
    "# Defaults to \"keep-all\" if the key is missing."
   ]
  },
  {
   "cell_type": "code",
   "execution_count": 30,
   "id": "21994072",
   "metadata": {
    "execution": {
     "iopub.execute_input": "2025-07-28T10:57:17.744054Z",
     "iopub.status.busy": "2025-07-28T10:57:17.743618Z",
     "iopub.status.idle": "2025-07-28T10:57:17.751002Z",
     "shell.execute_reply": "2025-07-28T10:57:17.750012Z"
    },
    "papermill": {
     "duration": 0.050514,
     "end_time": "2025-07-28T10:57:17.753080",
     "exception": false,
     "start_time": "2025-07-28T10:57:17.702566",
     "status": "completed"
    },
    "tags": []
   },
   "outputs": [],
   "source": [
    "if mode == \"keep-all\":\n",
    "    keep_mask = pd.Series(True, index=org_train.index)\n",
    "\n",
    "# org_train contains the original feature columns from features_org (in Simson)\n",
    "# features_org contains unprocessed features, for me X_train at beginning ???\n",
    "# For keep-all, creates a boolean Series (keep_mask) of all True, so no rows are removed.\n",
    "\n",
    "elif mode == \"drop-non-german\":\n",
    "    keep_mask = org_train[\"maxdeutsch1\"] == 1 # ??? what about missing values?\n",
    "\n",
    "else:\n",
    "    raise ValueError(f\"Unsupported mode for exclude_subgroups: {mode}\")\n"
   ]
  },
  {
   "cell_type": "code",
   "execution_count": 31,
   "id": "71651440",
   "metadata": {
    "execution": {
     "iopub.execute_input": "2025-07-28T10:57:17.843818Z",
     "iopub.status.busy": "2025-07-28T10:57:17.843365Z",
     "iopub.status.idle": "2025-07-28T10:57:17.850709Z",
     "shell.execute_reply": "2025-07-28T10:57:17.849450Z"
    },
    "papermill": {
     "duration": 0.058067,
     "end_time": "2025-07-28T10:57:17.852602",
     "exception": false,
     "start_time": "2025-07-28T10:57:17.794535",
     "status": "completed"
    },
    "tags": []
   },
   "outputs": [],
   "source": [
    "n_drop = (~keep_mask).sum() # Calculates how many rows are set to be dropped\n",
    "if n_drop > 0:\n",
    "    pct = n_drop / len(keep_mask) * 100\n",
    "    print(f\"Dropping {n_drop} rows ({pct:.2f}%) where mode='{mode}'\")"
   ]
  },
  {
   "cell_type": "code",
   "execution_count": 32,
   "id": "5fb8eee5",
   "metadata": {
    "execution": {
     "iopub.execute_input": "2025-07-28T10:57:17.932053Z",
     "iopub.status.busy": "2025-07-28T10:57:17.931606Z",
     "iopub.status.idle": "2025-07-28T10:57:17.998393Z",
     "shell.execute_reply": "2025-07-28T10:57:17.997227Z"
    },
    "papermill": {
     "duration": 0.111283,
     "end_time": "2025-07-28T10:57:18.000644",
     "exception": false,
     "start_time": "2025-07-28T10:57:17.889361",
     "status": "completed"
    },
    "tags": []
   },
   "outputs": [],
   "source": [
    "X_train = X_train[keep_mask]"
   ]
  },
  {
   "cell_type": "code",
   "execution_count": 33,
   "id": "b202bb3a",
   "metadata": {
    "execution": {
     "iopub.execute_input": "2025-07-28T10:57:18.082043Z",
     "iopub.status.busy": "2025-07-28T10:57:18.081607Z",
     "iopub.status.idle": "2025-07-28T10:57:18.090088Z",
     "shell.execute_reply": "2025-07-28T10:57:18.089037Z"
    },
    "papermill": {
     "duration": 0.06259,
     "end_time": "2025-07-28T10:57:18.091876",
     "exception": false,
     "start_time": "2025-07-28T10:57:18.029286",
     "status": "completed"
    },
    "tags": []
   },
   "outputs": [],
   "source": [
    "y_train = y_train[keep_mask]"
   ]
  },
  {
   "cell_type": "markdown",
   "id": "493e2ac3",
   "metadata": {
    "papermill": {
     "duration": 0.040959,
     "end_time": "2025-07-28T10:57:18.176681",
     "exception": false,
     "start_time": "2025-07-28T10:57:18.135722",
     "status": "completed"
    },
    "tags": []
   },
   "source": [
    "# Model Training"
   ]
  },
  {
   "cell_type": "code",
   "execution_count": 34,
   "id": "679e1268",
   "metadata": {
    "execution": {
     "iopub.execute_input": "2025-07-28T10:57:18.267185Z",
     "iopub.status.busy": "2025-07-28T10:57:18.266728Z",
     "iopub.status.idle": "2025-07-28T10:57:18.429249Z",
     "shell.execute_reply": "2025-07-28T10:57:18.425716Z"
    },
    "papermill": {
     "duration": 0.214166,
     "end_time": "2025-07-28T10:57:18.431726",
     "exception": false,
     "start_time": "2025-07-28T10:57:18.217560",
     "status": "completed"
    },
    "tags": []
   },
   "outputs": [],
   "source": [
    "from sklearn.linear_model import LogisticRegression\n",
    "from sklearn.ensemble import GradientBoostingClassifier, RandomForestClassifier\n",
    "\n",
    "if (universe[\"model\"] == \"logreg\"):\n",
    "    model = LogisticRegression() #penalty=\"none\") #, solver=\"newton-cg\", max_iter=1) # include random_state=19 ?\n",
    "elif (universe[\"model\"] == \"penalized_logreg\"):\n",
    "    model = LogisticRegression(penalty=\"l2\", C=1.0) #, solver=\"newton-cg\", max_iter=1)\n",
    "elif (universe[\"model\"] == \"rf\"):\n",
    "    model = RandomForestClassifier(n_estimators=100, n_jobs=-1)\n",
    "elif (universe[\"model\"] == \"gbm\"):\n",
    "    model = GradientBoostingClassifier()\n",
    "elif (universe[\"model\"] == \"elasticnet\"):\n",
    "    model = LogisticRegression(penalty = 'elasticnet', solver = 'saga', l1_ratio = 0.5, max_iter=5000) # which solver to use?\n",
    "else:\n",
    "    raise \"Unsupported universe.model\""
   ]
  },
  {
   "cell_type": "code",
   "execution_count": 35,
   "id": "0cc8f744",
   "metadata": {
    "execution": {
     "iopub.execute_input": "2025-07-28T10:57:18.510526Z",
     "iopub.status.busy": "2025-07-28T10:57:18.509485Z",
     "iopub.status.idle": "2025-07-28T10:57:18.516449Z",
     "shell.execute_reply": "2025-07-28T10:57:18.515279Z"
    },
    "papermill": {
     "duration": 0.048002,
     "end_time": "2025-07-28T10:57:18.519739",
     "exception": false,
     "start_time": "2025-07-28T10:57:18.471737",
     "status": "completed"
    },
    "tags": []
   },
   "outputs": [],
   "source": [
    "import numpy as np\n",
    "from sklearn.pipeline import Pipeline\n",
    "from sklearn.preprocessing import StandardScaler\n",
    "\n",
    "model = Pipeline([\n",
    "    #(\"continuous_processor\", continuous_processor),\n",
    "    #(\"categorical_preprocessor\", categorical_preprocessor),\n",
    "    (\"scale\", StandardScaler() if universe[\"scale\"] == \"scale\" else None), \n",
    "    (\"model\", model),\n",
    "])"
   ]
  },
  {
   "cell_type": "code",
   "execution_count": 36,
   "id": "9442c04d",
   "metadata": {
    "execution": {
     "iopub.execute_input": "2025-07-28T10:57:18.611792Z",
     "iopub.status.busy": "2025-07-28T10:57:18.611354Z",
     "iopub.status.idle": "2025-07-28T10:57:39.245539Z",
     "shell.execute_reply": "2025-07-28T10:57:39.244282Z"
    },
    "papermill": {
     "duration": 20.685569,
     "end_time": "2025-07-28T10:57:39.247774",
     "exception": false,
     "start_time": "2025-07-28T10:57:18.562205",
     "status": "completed"
    },
    "tags": []
   },
   "outputs": [
    {
     "data": {
      "text/html": [
       "<style>#sk-container-id-1 {color: black;background-color: white;}#sk-container-id-1 pre{padding: 0;}#sk-container-id-1 div.sk-toggleable {background-color: white;}#sk-container-id-1 label.sk-toggleable__label {cursor: pointer;display: block;width: 100%;margin-bottom: 0;padding: 0.3em;box-sizing: border-box;text-align: center;}#sk-container-id-1 label.sk-toggleable__label-arrow:before {content: \"▸\";float: left;margin-right: 0.25em;color: #696969;}#sk-container-id-1 label.sk-toggleable__label-arrow:hover:before {color: black;}#sk-container-id-1 div.sk-estimator:hover label.sk-toggleable__label-arrow:before {color: black;}#sk-container-id-1 div.sk-toggleable__content {max-height: 0;max-width: 0;overflow: hidden;text-align: left;background-color: #f0f8ff;}#sk-container-id-1 div.sk-toggleable__content pre {margin: 0.2em;color: black;border-radius: 0.25em;background-color: #f0f8ff;}#sk-container-id-1 input.sk-toggleable__control:checked~div.sk-toggleable__content {max-height: 200px;max-width: 100%;overflow: auto;}#sk-container-id-1 input.sk-toggleable__control:checked~label.sk-toggleable__label-arrow:before {content: \"▾\";}#sk-container-id-1 div.sk-estimator input.sk-toggleable__control:checked~label.sk-toggleable__label {background-color: #d4ebff;}#sk-container-id-1 div.sk-label input.sk-toggleable__control:checked~label.sk-toggleable__label {background-color: #d4ebff;}#sk-container-id-1 input.sk-hidden--visually {border: 0;clip: rect(1px 1px 1px 1px);clip: rect(1px, 1px, 1px, 1px);height: 1px;margin: -1px;overflow: hidden;padding: 0;position: absolute;width: 1px;}#sk-container-id-1 div.sk-estimator {font-family: monospace;background-color: #f0f8ff;border: 1px dotted black;border-radius: 0.25em;box-sizing: border-box;margin-bottom: 0.5em;}#sk-container-id-1 div.sk-estimator:hover {background-color: #d4ebff;}#sk-container-id-1 div.sk-parallel-item::after {content: \"\";width: 100%;border-bottom: 1px solid gray;flex-grow: 1;}#sk-container-id-1 div.sk-label:hover label.sk-toggleable__label {background-color: #d4ebff;}#sk-container-id-1 div.sk-serial::before {content: \"\";position: absolute;border-left: 1px solid gray;box-sizing: border-box;top: 0;bottom: 0;left: 50%;z-index: 0;}#sk-container-id-1 div.sk-serial {display: flex;flex-direction: column;align-items: center;background-color: white;padding-right: 0.2em;padding-left: 0.2em;position: relative;}#sk-container-id-1 div.sk-item {position: relative;z-index: 1;}#sk-container-id-1 div.sk-parallel {display: flex;align-items: stretch;justify-content: center;background-color: white;position: relative;}#sk-container-id-1 div.sk-item::before, #sk-container-id-1 div.sk-parallel-item::before {content: \"\";position: absolute;border-left: 1px solid gray;box-sizing: border-box;top: 0;bottom: 0;left: 50%;z-index: -1;}#sk-container-id-1 div.sk-parallel-item {display: flex;flex-direction: column;z-index: 1;position: relative;background-color: white;}#sk-container-id-1 div.sk-parallel-item:first-child::after {align-self: flex-end;width: 50%;}#sk-container-id-1 div.sk-parallel-item:last-child::after {align-self: flex-start;width: 50%;}#sk-container-id-1 div.sk-parallel-item:only-child::after {width: 0;}#sk-container-id-1 div.sk-dashed-wrapped {border: 1px dashed gray;margin: 0 0.4em 0.5em 0.4em;box-sizing: border-box;padding-bottom: 0.4em;background-color: white;}#sk-container-id-1 div.sk-label label {font-family: monospace;font-weight: bold;display: inline-block;line-height: 1.2em;}#sk-container-id-1 div.sk-label-container {text-align: center;}#sk-container-id-1 div.sk-container {/* jupyter's `normalize.less` sets `[hidden] { display: none; }` but bootstrap.min.css set `[hidden] { display: none !important; }` so we also need the `!important` here to be able to override the default hidden behavior on the sphinx rendered scikit-learn.org. See: https://github.com/scikit-learn/scikit-learn/issues/21755 */display: inline-block !important;position: relative;}#sk-container-id-1 div.sk-text-repr-fallback {display: none;}</style><div id=\"sk-container-id-1\" class=\"sk-top-container\"><div class=\"sk-text-repr-fallback\"><pre>Pipeline(steps=[(&#x27;scale&#x27;, StandardScaler()),\n",
       "                (&#x27;model&#x27;, RandomForestClassifier(n_jobs=-1))])</pre><b>In a Jupyter environment, please rerun this cell to show the HTML representation or trust the notebook. <br />On GitHub, the HTML representation is unable to render, please try loading this page with nbviewer.org.</b></div><div class=\"sk-container\" hidden><div class=\"sk-item sk-dashed-wrapped\"><div class=\"sk-label-container\"><div class=\"sk-label sk-toggleable\"><input class=\"sk-toggleable__control sk-hidden--visually\" id=\"sk-estimator-id-1\" type=\"checkbox\" ><label for=\"sk-estimator-id-1\" class=\"sk-toggleable__label sk-toggleable__label-arrow\">Pipeline</label><div class=\"sk-toggleable__content\"><pre>Pipeline(steps=[(&#x27;scale&#x27;, StandardScaler()),\n",
       "                (&#x27;model&#x27;, RandomForestClassifier(n_jobs=-1))])</pre></div></div></div><div class=\"sk-serial\"><div class=\"sk-item\"><div class=\"sk-estimator sk-toggleable\"><input class=\"sk-toggleable__control sk-hidden--visually\" id=\"sk-estimator-id-2\" type=\"checkbox\" ><label for=\"sk-estimator-id-2\" class=\"sk-toggleable__label sk-toggleable__label-arrow\">StandardScaler</label><div class=\"sk-toggleable__content\"><pre>StandardScaler()</pre></div></div></div><div class=\"sk-item\"><div class=\"sk-estimator sk-toggleable\"><input class=\"sk-toggleable__control sk-hidden--visually\" id=\"sk-estimator-id-3\" type=\"checkbox\" ><label for=\"sk-estimator-id-3\" class=\"sk-toggleable__label sk-toggleable__label-arrow\">RandomForestClassifier</label><div class=\"sk-toggleable__content\"><pre>RandomForestClassifier(n_jobs=-1)</pre></div></div></div></div></div></div></div>"
      ],
      "text/plain": [
       "Pipeline(steps=[('scale', StandardScaler()),\n",
       "                ('model', RandomForestClassifier(n_jobs=-1))])"
      ]
     },
     "execution_count": 36,
     "metadata": {},
     "output_type": "execute_result"
    }
   ],
   "source": [
    "model.fit(X_train, y_train.values.ravel())"
   ]
  },
  {
   "cell_type": "code",
   "execution_count": 37,
   "id": "af59f8c0",
   "metadata": {
    "execution": {
     "iopub.execute_input": "2025-07-28T10:57:39.348329Z",
     "iopub.status.busy": "2025-07-28T10:57:39.347867Z",
     "iopub.status.idle": "2025-07-28T10:57:39.354626Z",
     "shell.execute_reply": "2025-07-28T10:57:39.353610Z"
    },
    "papermill": {
     "duration": 0.06159,
     "end_time": "2025-07-28T10:57:39.356510",
     "exception": false,
     "start_time": "2025-07-28T10:57:39.294920",
     "status": "completed"
    },
    "tags": []
   },
   "outputs": [],
   "source": [
    "from fairness_multiverse.universe import predict_w_threshold"
   ]
  },
  {
   "cell_type": "code",
   "execution_count": 38,
   "id": "a7cf2e16",
   "metadata": {
    "execution": {
     "iopub.execute_input": "2025-07-28T10:57:39.407995Z",
     "iopub.status.busy": "2025-07-28T10:57:39.407519Z",
     "iopub.status.idle": "2025-07-28T10:57:41.536563Z",
     "shell.execute_reply": "2025-07-28T10:57:41.535395Z"
    },
    "papermill": {
     "duration": 2.156414,
     "end_time": "2025-07-28T10:57:41.538248",
     "exception": false,
     "start_time": "2025-07-28T10:57:39.381834",
     "status": "completed"
    },
    "tags": []
   },
   "outputs": [
    {
     "data": {
      "text/plain": [
       "0.8674060862780069"
      ]
     },
     "execution_count": 38,
     "metadata": {},
     "output_type": "execute_result"
    }
   ],
   "source": [
    "probs_test = model.predict_proba(X_test)\n",
    "\n",
    "'''\n",
    "Below code returns a boolean array (or binary 0/1 array depending on how it’s used) where each element \n",
    "is True if the probability of class 1 is greater than or equal to the threshold, and False otherwise.\n",
    "'''\n",
    "y_pred_default = predict_w_threshold(probs_test, 0.5)\n",
    "\n",
    "from sklearn.metrics import accuracy_score\n",
    "\n",
    "# Naive prediction\n",
    "accuracy_score(y_true = y_true, y_pred = y_pred_default)"
   ]
  },
  {
   "cell_type": "code",
   "execution_count": 39,
   "id": "081964c3",
   "metadata": {
    "execution": {
     "iopub.execute_input": "2025-07-28T10:57:41.596280Z",
     "iopub.status.busy": "2025-07-28T10:57:41.595359Z",
     "iopub.status.idle": "2025-07-28T10:57:43.303357Z",
     "shell.execute_reply": "2025-07-28T10:57:43.302279Z"
    },
    "papermill": {
     "duration": 1.73446,
     "end_time": "2025-07-28T10:57:43.305149",
     "exception": false,
     "start_time": "2025-07-28T10:57:41.570689",
     "status": "completed"
    },
    "tags": []
   },
   "outputs": [
    {
     "data": {
      "text/plain": [
       "array([0, 0, 0, ..., 0, 0, 0])"
      ]
     },
     "execution_count": 39,
     "metadata": {},
     "output_type": "execute_result"
    }
   ],
   "source": [
    "model.predict(X_test)"
   ]
  },
  {
   "cell_type": "markdown",
   "id": "56c9705b",
   "metadata": {
    "papermill": {
     "duration": 0.039847,
     "end_time": "2025-07-28T10:57:43.396516",
     "exception": false,
     "start_time": "2025-07-28T10:57:43.356669",
     "status": "completed"
    },
    "tags": []
   },
   "source": [
    "# Conformal Prediction"
   ]
  },
  {
   "cell_type": "code",
   "execution_count": 40,
   "id": "160ec6ff",
   "metadata": {
    "execution": {
     "iopub.execute_input": "2025-07-28T10:57:43.497064Z",
     "iopub.status.busy": "2025-07-28T10:57:43.496587Z",
     "iopub.status.idle": "2025-07-28T10:57:43.502468Z",
     "shell.execute_reply": "2025-07-28T10:57:43.501386Z"
    },
    "papermill": {
     "duration": 0.051712,
     "end_time": "2025-07-28T10:57:43.504350",
     "exception": false,
     "start_time": "2025-07-28T10:57:43.452638",
     "status": "completed"
    },
    "tags": []
   },
   "outputs": [],
   "source": [
    "# Miscoverage level for conformal prediction (10% allowed error rate => 90% target coverage)\n",
    "alpha = 0.1"
   ]
  },
  {
   "cell_type": "code",
   "execution_count": 41,
   "id": "eadf4555-3dd3-440e-8e35-f82a4ad9f855",
   "metadata": {
    "execution": {
     "iopub.execute_input": "2025-07-28T10:57:43.595087Z",
     "iopub.status.busy": "2025-07-28T10:57:43.594645Z",
     "iopub.status.idle": "2025-07-28T10:57:45.375709Z",
     "shell.execute_reply": "2025-07-28T10:57:45.374444Z"
    },
    "papermill": {
     "duration": 1.838432,
     "end_time": "2025-07-28T10:57:45.377661",
     "exception": false,
     "start_time": "2025-07-28T10:57:43.539229",
     "status": "completed"
    },
    "tags": []
   },
   "outputs": [],
   "source": [
    "probs_calib = model.predict_proba(X_calib)"
   ]
  },
  {
   "cell_type": "code",
   "execution_count": 42,
   "id": "2ed93547-6d5d-4983-9b36-1ecb300da49a",
   "metadata": {
    "execution": {
     "iopub.execute_input": "2025-07-28T10:57:45.450787Z",
     "iopub.status.busy": "2025-07-28T10:57:45.450246Z",
     "iopub.status.idle": "2025-07-28T10:57:45.456608Z",
     "shell.execute_reply": "2025-07-28T10:57:45.455496Z"
    },
    "papermill": {
     "duration": 0.038697,
     "end_time": "2025-07-28T10:57:45.459350",
     "exception": false,
     "start_time": "2025-07-28T10:57:45.420653",
     "status": "completed"
    },
    "tags": []
   },
   "outputs": [],
   "source": [
    "y_calib = y_calib.values.ravel().astype(int)"
   ]
  },
  {
   "cell_type": "code",
   "execution_count": 43,
   "id": "65d1320d-f588-4b38-9072-62af1ae97f7d",
   "metadata": {
    "execution": {
     "iopub.execute_input": "2025-07-28T10:57:45.504007Z",
     "iopub.status.busy": "2025-07-28T10:57:45.503543Z",
     "iopub.status.idle": "2025-07-28T10:57:45.511724Z",
     "shell.execute_reply": "2025-07-28T10:57:45.510704Z"
    },
    "papermill": {
     "duration": 0.026431,
     "end_time": "2025-07-28T10:57:45.513447",
     "exception": false,
     "start_time": "2025-07-28T10:57:45.487016",
     "status": "completed"
    },
    "tags": []
   },
   "outputs": [],
   "source": [
    "from fairness_multiverse.conformal import compute_nc_scores\n",
    "\n",
    "# Compute nonconformity scores on calibration set (1 - probability of true class)\n",
    "nc_scores = compute_nc_scores(probs_calib, y_calib)"
   ]
  },
  {
   "cell_type": "code",
   "execution_count": 44,
   "id": "df3b8ca3-53b7-43d5-9667-7c85da7aeda2",
   "metadata": {
    "execution": {
     "iopub.execute_input": "2025-07-28T10:57:45.544643Z",
     "iopub.status.busy": "2025-07-28T10:57:45.544073Z",
     "iopub.status.idle": "2025-07-28T10:57:45.551223Z",
     "shell.execute_reply": "2025-07-28T10:57:45.550250Z"
    },
    "papermill": {
     "duration": 0.022758,
     "end_time": "2025-07-28T10:57:45.553367",
     "exception": false,
     "start_time": "2025-07-28T10:57:45.530609",
     "status": "completed"
    },
    "tags": []
   },
   "outputs": [],
   "source": [
    "from fairness_multiverse.conformal import find_threshold\n",
    "\n",
    "# Find conformal threshold q_hat for the given alpha (split conformal method)\n",
    "q_hat = find_threshold(nc_scores, alpha)"
   ]
  },
  {
   "cell_type": "code",
   "execution_count": 45,
   "id": "4d29e6c1-0ef6-4aa4-b8fe-4fe79b0d033a",
   "metadata": {
    "execution": {
     "iopub.execute_input": "2025-07-28T10:57:45.601460Z",
     "iopub.status.busy": "2025-07-28T10:57:45.600922Z",
     "iopub.status.idle": "2025-07-28T10:57:45.608744Z",
     "shell.execute_reply": "2025-07-28T10:57:45.607709Z"
    },
    "papermill": {
     "duration": 0.033968,
     "end_time": "2025-07-28T10:57:45.610497",
     "exception": false,
     "start_time": "2025-07-28T10:57:45.576529",
     "status": "completed"
    },
    "tags": []
   },
   "outputs": [
    {
     "data": {
      "text/plain": [
       "0.6699999999999999"
      ]
     },
     "execution_count": 45,
     "metadata": {},
     "output_type": "execute_result"
    }
   ],
   "source": [
    "q_hat"
   ]
  },
  {
   "cell_type": "code",
   "execution_count": 46,
   "id": "92460794-cdac-4be2-ba28-f28c0515a6fb",
   "metadata": {
    "execution": {
     "iopub.execute_input": "2025-07-28T10:57:45.658861Z",
     "iopub.status.busy": "2025-07-28T10:57:45.658234Z",
     "iopub.status.idle": "2025-07-28T10:57:48.278415Z",
     "shell.execute_reply": "2025-07-28T10:57:48.277337Z"
    },
    "papermill": {
     "duration": 2.645972,
     "end_time": "2025-07-28T10:57:48.280799",
     "exception": false,
     "start_time": "2025-07-28T10:57:45.634827",
     "status": "completed"
    },
    "tags": []
   },
   "outputs": [],
   "source": [
    "from fairness_multiverse.conformal import predict_conformal_sets\n",
    "\n",
    "# Generate prediction sets for each test example\n",
    "pred_sets = predict_conformal_sets(model, X_test, q_hat)"
   ]
  },
  {
   "cell_type": "code",
   "execution_count": 47,
   "id": "d90c9a65-e6db-4f5d-80cd-e68fb7e46829",
   "metadata": {
    "execution": {
     "iopub.execute_input": "2025-07-28T10:57:48.364753Z",
     "iopub.status.busy": "2025-07-28T10:57:48.363829Z",
     "iopub.status.idle": "2025-07-28T10:57:48.371684Z",
     "shell.execute_reply": "2025-07-28T10:57:48.370390Z"
    },
    "papermill": {
     "duration": 0.06053,
     "end_time": "2025-07-28T10:57:48.374130",
     "exception": false,
     "start_time": "2025-07-28T10:57:48.313600",
     "status": "completed"
    },
    "tags": []
   },
   "outputs": [],
   "source": [
    "y_true = y_true.squeeze()"
   ]
  },
  {
   "cell_type": "code",
   "execution_count": 48,
   "id": "3a58a54a-1e68-46b9-927a-df01f18aebc8",
   "metadata": {
    "execution": {
     "iopub.execute_input": "2025-07-28T10:57:48.447169Z",
     "iopub.status.busy": "2025-07-28T10:57:48.446663Z",
     "iopub.status.idle": "2025-07-28T10:57:49.586327Z",
     "shell.execute_reply": "2025-07-28T10:57:49.585275Z"
    },
    "papermill": {
     "duration": 1.167239,
     "end_time": "2025-07-28T10:57:49.588236",
     "exception": false,
     "start_time": "2025-07-28T10:57:48.420997",
     "status": "completed"
    },
    "tags": []
   },
   "outputs": [],
   "source": [
    "from fairness_multiverse.conformal import evaluate_sets\n",
    "\n",
    "# Evaluate coverage and average set size on test data\n",
    "metrics = evaluate_sets(pred_sets, y_true)"
   ]
  },
  {
   "cell_type": "markdown",
   "id": "2b569c12-9aaa-4c88-98c9-bbcd0cf3ebb8",
   "metadata": {
    "papermill": {
     "duration": 0.02331,
     "end_time": "2025-07-28T10:57:49.645769",
     "exception": false,
     "start_time": "2025-07-28T10:57:49.622459",
     "status": "completed"
    },
    "tags": []
   },
   "source": [
    "# CP Metrics"
   ]
  },
  {
   "cell_type": "code",
   "execution_count": 49,
   "id": "5ce0a5cb-201f-45a0-ade5-94c7f0bd6095",
   "metadata": {
    "execution": {
     "iopub.execute_input": "2025-07-28T10:57:49.693428Z",
     "iopub.status.busy": "2025-07-28T10:57:49.692870Z",
     "iopub.status.idle": "2025-07-28T10:57:49.700506Z",
     "shell.execute_reply": "2025-07-28T10:57:49.699407Z"
    },
    "papermill": {
     "duration": 0.033704,
     "end_time": "2025-07-28T10:57:49.702370",
     "exception": false,
     "start_time": "2025-07-28T10:57:49.668666",
     "status": "completed"
    },
    "tags": []
   },
   "outputs": [
    {
     "data": {
      "text/plain": [
       "{'coverage': 0.9172333073235983, 'avg_size': 1.1475420800356706}"
      ]
     },
     "execution_count": 49,
     "metadata": {},
     "output_type": "execute_result"
    }
   ],
   "source": [
    "metrics"
   ]
  },
  {
   "cell_type": "code",
   "execution_count": 50,
   "id": "9b9a838d-31c9-430b-ae14-12baee460d17",
   "metadata": {
    "execution": {
     "iopub.execute_input": "2025-07-28T10:57:49.749383Z",
     "iopub.status.busy": "2025-07-28T10:57:49.748795Z",
     "iopub.status.idle": "2025-07-28T10:57:49.755859Z",
     "shell.execute_reply": "2025-07-28T10:57:49.754771Z"
    },
    "papermill": {
     "duration": 0.030789,
     "end_time": "2025-07-28T10:57:49.757723",
     "exception": false,
     "start_time": "2025-07-28T10:57:49.726934",
     "status": "completed"
    },
    "tags": []
   },
   "outputs": [],
   "source": [
    "example_universe = universe.copy()\n",
    "universe_training_size = example_universe.get(\"training_size\")\n",
    "universe_scale = example_universe.get(\"scale\")\n",
    "universe_model = example_universe.get(\"model\")\n",
    "universe_exclude_features = example_universe.get(\"exclude_features\")\n",
    "universe_exclude_subgroups = example_universe.get(\"exclude_subgroups\")"
   ]
  },
  {
   "cell_type": "code",
   "execution_count": 51,
   "id": "f4b6a8ac-9dc0-4245-8a91-5b3b5999c4f9",
   "metadata": {
    "execution": {
     "iopub.execute_input": "2025-07-28T10:57:49.806338Z",
     "iopub.status.busy": "2025-07-28T10:57:49.805973Z",
     "iopub.status.idle": "2025-07-28T10:57:49.812293Z",
     "shell.execute_reply": "2025-07-28T10:57:49.811342Z"
    },
    "papermill": {
     "duration": 0.032987,
     "end_time": "2025-07-28T10:57:49.814199",
     "exception": false,
     "start_time": "2025-07-28T10:57:49.781212",
     "status": "completed"
    },
    "tags": []
   },
   "outputs": [],
   "source": [
    "cp_metrics_dict = {\n",
    "    \"universe_id\": [universe_id],\n",
    "    \"universe_training_size\": [universe_training_size],\n",
    "    \"universe_scale\": [universe_scale],\n",
    "    \"universe_model\": [universe_model],\n",
    "    \"universe_exclude_features\": [universe_exclude_features],\n",
    "    \"universe_exclude_subgroups\": [universe_exclude_subgroups],\n",
    "    \"q_hat\": [q_hat],\n",
    "    \"coverage\": [metrics[\"coverage\"]],\n",
    "    \"avg_size\": [metrics[\"avg_size\"]],\n",
    "}"
   ]
  },
  {
   "cell_type": "code",
   "execution_count": 52,
   "id": "908acbb1-0371-4915-85ca-3fa520d2efe2",
   "metadata": {
    "execution": {
     "iopub.execute_input": "2025-07-28T10:57:49.857418Z",
     "iopub.status.busy": "2025-07-28T10:57:49.857028Z",
     "iopub.status.idle": "2025-07-28T10:57:49.864988Z",
     "shell.execute_reply": "2025-07-28T10:57:49.863938Z"
    },
    "papermill": {
     "duration": 0.024389,
     "end_time": "2025-07-28T10:57:49.866820",
     "exception": false,
     "start_time": "2025-07-28T10:57:49.842431",
     "status": "completed"
    },
    "tags": []
   },
   "outputs": [
    {
     "data": {
      "text/plain": [
       "{'universe_id': ['5a4424b072c4e37fe6170f7d0da56b36'],\n",
       " 'universe_training_size': ['2014'],\n",
       " 'universe_scale': ['scale'],\n",
       " 'universe_model': ['rf'],\n",
       " 'universe_exclude_features': ['age'],\n",
       " 'universe_exclude_subgroups': ['keep-all'],\n",
       " 'q_hat': [0.6699999999999999],\n",
       " 'coverage': [0.9172333073235983],\n",
       " 'avg_size': [1.1475420800356706]}"
      ]
     },
     "execution_count": 52,
     "metadata": {},
     "output_type": "execute_result"
    }
   ],
   "source": [
    "cp_metrics_dict"
   ]
  },
  {
   "cell_type": "code",
   "execution_count": 53,
   "id": "33007efc-14e9-4ec6-97ac-56a455c82265",
   "metadata": {
    "execution": {
     "iopub.execute_input": "2025-07-28T10:57:49.907307Z",
     "iopub.status.busy": "2025-07-28T10:57:49.906823Z",
     "iopub.status.idle": "2025-07-28T10:57:49.913726Z",
     "shell.execute_reply": "2025-07-28T10:57:49.912549Z"
    },
    "papermill": {
     "duration": 0.026976,
     "end_time": "2025-07-28T10:57:49.916124",
     "exception": false,
     "start_time": "2025-07-28T10:57:49.889148",
     "status": "completed"
    },
    "tags": []
   },
   "outputs": [],
   "source": [
    "cp_metrics_df = pd.DataFrame(cp_metrics_dict)"
   ]
  },
  {
   "cell_type": "code",
   "execution_count": 54,
   "id": "db12611b-57b2-4910-b9d0-355adfd6e7bf",
   "metadata": {
    "execution": {
     "iopub.execute_input": "2025-07-28T10:57:49.964161Z",
     "iopub.status.busy": "2025-07-28T10:57:49.963644Z",
     "iopub.status.idle": "2025-07-28T10:57:49.987891Z",
     "shell.execute_reply": "2025-07-28T10:57:49.987108Z"
    },
    "papermill": {
     "duration": 0.041728,
     "end_time": "2025-07-28T10:57:49.989392",
     "exception": false,
     "start_time": "2025-07-28T10:57:49.947664",
     "status": "completed"
    },
    "tags": []
   },
   "outputs": [
    {
     "data": {
      "text/html": [
       "<div>\n",
       "<style scoped>\n",
       "    .dataframe tbody tr th:only-of-type {\n",
       "        vertical-align: middle;\n",
       "    }\n",
       "\n",
       "    .dataframe tbody tr th {\n",
       "        vertical-align: top;\n",
       "    }\n",
       "\n",
       "    .dataframe thead th {\n",
       "        text-align: right;\n",
       "    }\n",
       "</style>\n",
       "<table border=\"1\" class=\"dataframe\">\n",
       "  <thead>\n",
       "    <tr style=\"text-align: right;\">\n",
       "      <th></th>\n",
       "      <th>universe_id</th>\n",
       "      <th>universe_training_size</th>\n",
       "      <th>universe_scale</th>\n",
       "      <th>universe_model</th>\n",
       "      <th>universe_exclude_features</th>\n",
       "      <th>universe_exclude_subgroups</th>\n",
       "      <th>q_hat</th>\n",
       "      <th>coverage</th>\n",
       "      <th>avg_size</th>\n",
       "    </tr>\n",
       "  </thead>\n",
       "  <tbody>\n",
       "    <tr>\n",
       "      <th>0</th>\n",
       "      <td>5a4424b072c4e37fe6170f7d0da56b36</td>\n",
       "      <td>2014</td>\n",
       "      <td>scale</td>\n",
       "      <td>rf</td>\n",
       "      <td>age</td>\n",
       "      <td>keep-all</td>\n",
       "      <td>0.67</td>\n",
       "      <td>0.917233</td>\n",
       "      <td>1.147542</td>\n",
       "    </tr>\n",
       "  </tbody>\n",
       "</table>\n",
       "</div>"
      ],
      "text/plain": [
       "                        universe_id universe_training_size universe_scale  \\\n",
       "0  5a4424b072c4e37fe6170f7d0da56b36                   2014          scale   \n",
       "\n",
       "  universe_model universe_exclude_features universe_exclude_subgroups  q_hat  \\\n",
       "0             rf                       age                   keep-all   0.67   \n",
       "\n",
       "   coverage  avg_size  \n",
       "0  0.917233  1.147542  "
      ]
     },
     "execution_count": 54,
     "metadata": {},
     "output_type": "execute_result"
    }
   ],
   "source": [
    "cp_metrics_df"
   ]
  },
  {
   "cell_type": "code",
   "execution_count": 55,
   "id": "b7fbde55-a0a1-47e4-9af6-fe4a17fa8c61",
   "metadata": {
    "execution": {
     "iopub.execute_input": "2025-07-28T10:57:50.041690Z",
     "iopub.status.busy": "2025-07-28T10:57:50.041054Z",
     "iopub.status.idle": "2025-07-28T10:57:50.046109Z",
     "shell.execute_reply": "2025-07-28T10:57:50.045169Z"
    },
    "papermill": {
     "duration": 0.033228,
     "end_time": "2025-07-28T10:57:50.047813",
     "exception": false,
     "start_time": "2025-07-28T10:57:50.014585",
     "status": "completed"
    },
    "tags": []
   },
   "outputs": [],
   "source": [
    "# Conditional Coverage & looking at subgroups"
   ]
  },
  {
   "cell_type": "code",
   "execution_count": 56,
   "id": "027ae886-68dd-4141-96c7-805a5450e1ef",
   "metadata": {
    "execution": {
     "iopub.execute_input": "2025-07-28T10:57:50.103376Z",
     "iopub.status.busy": "2025-07-28T10:57:50.102903Z",
     "iopub.status.idle": "2025-07-28T10:57:50.385554Z",
     "shell.execute_reply": "2025-07-28T10:57:50.371515Z"
    },
    "papermill": {
     "duration": 0.312835,
     "end_time": "2025-07-28T10:57:50.387585",
     "exception": false,
     "start_time": "2025-07-28T10:57:50.074750",
     "status": "completed"
    },
    "tags": []
   },
   "outputs": [],
   "source": [
    "from fairness_multiverse.conformal import build_cp_groups\n",
    "\n",
    "cp_groups_df = build_cp_groups(pred_sets, y_true, X_test.index, org_test)\n",
    "#needs universe_id and setting"
   ]
  },
  {
   "cell_type": "code",
   "execution_count": 57,
   "id": "01d5802c-663a-4d1f-9d69-e036faaffbf7",
   "metadata": {
    "execution": {
     "iopub.execute_input": "2025-07-28T10:57:50.446056Z",
     "iopub.status.busy": "2025-07-28T10:57:50.445324Z",
     "iopub.status.idle": "2025-07-28T10:57:50.452007Z",
     "shell.execute_reply": "2025-07-28T10:57:50.450779Z"
    },
    "papermill": {
     "duration": 0.038233,
     "end_time": "2025-07-28T10:57:50.453823",
     "exception": false,
     "start_time": "2025-07-28T10:57:50.415590",
     "status": "completed"
    },
    "tags": []
   },
   "outputs": [],
   "source": [
    "#delete\n",
    "#cp_groups_df"
   ]
  },
  {
   "cell_type": "code",
   "execution_count": 58,
   "id": "fa424af1-d1eb-443d-b717-2d279ada8408",
   "metadata": {
    "execution": {
     "iopub.execute_input": "2025-07-28T10:57:50.513220Z",
     "iopub.status.busy": "2025-07-28T10:57:50.512477Z",
     "iopub.status.idle": "2025-07-28T10:57:50.519100Z",
     "shell.execute_reply": "2025-07-28T10:57:50.517672Z"
    },
    "papermill": {
     "duration": 0.038625,
     "end_time": "2025-07-28T10:57:50.520993",
     "exception": false,
     "start_time": "2025-07-28T10:57:50.482368",
     "status": "completed"
    },
    "tags": []
   },
   "outputs": [],
   "source": [
    "#delete\n",
    "#percentage = (cp_groups_df['nongerman_female'] == 1).mean() * 100\n",
    "#print(percentage)\n"
   ]
  },
  {
   "cell_type": "code",
   "execution_count": 59,
   "id": "6cbdab96-b2b2-45af-ad54-d0516db2e28d",
   "metadata": {
    "execution": {
     "iopub.execute_input": "2025-07-28T10:57:50.580881Z",
     "iopub.status.busy": "2025-07-28T10:57:50.579736Z",
     "iopub.status.idle": "2025-07-28T10:57:52.000196Z",
     "shell.execute_reply": "2025-07-28T10:57:51.999164Z"
    },
    "papermill": {
     "duration": 1.452719,
     "end_time": "2025-07-28T10:57:52.002485",
     "exception": false,
     "start_time": "2025-07-28T10:57:50.549766",
     "status": "completed"
    },
    "tags": []
   },
   "outputs": [],
   "source": [
    "# Define covered = 1 if true_label is in the predicted set\n",
    "cp_groups_df['covered'] = cp_groups_df.apply(\n",
    "    lambda r: int(r['true_label'] in r['pred_set']),\n",
    "    axis=1\n",
    ")"
   ]
  },
  {
   "cell_type": "code",
   "execution_count": 60,
   "id": "338ff529-1a6b-4b87-a931-8e4788d52aad",
   "metadata": {
    "execution": {
     "iopub.execute_input": "2025-07-28T10:57:52.063137Z",
     "iopub.status.busy": "2025-07-28T10:57:52.062222Z",
     "iopub.status.idle": "2025-07-28T10:57:52.067835Z",
     "shell.execute_reply": "2025-07-28T10:57:52.066644Z"
    },
    "papermill": {
     "duration": 0.038036,
     "end_time": "2025-07-28T10:57:52.070516",
     "exception": false,
     "start_time": "2025-07-28T10:57:52.032480",
     "status": "completed"
    },
    "tags": []
   },
   "outputs": [],
   "source": [
    "#cp_groups_df"
   ]
  },
  {
   "cell_type": "code",
   "execution_count": 61,
   "id": "90032e27-66df-4540-9169-4e89cfbaa758",
   "metadata": {
    "execution": {
     "iopub.execute_input": "2025-07-28T10:57:52.132353Z",
     "iopub.status.busy": "2025-07-28T10:57:52.131775Z",
     "iopub.status.idle": "2025-07-28T10:57:52.145198Z",
     "shell.execute_reply": "2025-07-28T10:57:52.143985Z"
    },
    "papermill": {
     "duration": 0.046028,
     "end_time": "2025-07-28T10:57:52.147071",
     "exception": false,
     "start_time": "2025-07-28T10:57:52.101043",
     "status": "completed"
    },
    "tags": []
   },
   "outputs": [],
   "source": [
    "subgroups = ['frau1','nongerman','nongerman_male','nongerman_female']\n",
    "\n",
    "# Conditional coverage for subgroup==1\n",
    "cond_coverage = {\n",
    "    g: cp_groups_df.loc[cp_groups_df[g]==1, 'covered'].mean()\n",
    "    for g in subgroups\n",
    "}"
   ]
  },
  {
   "cell_type": "code",
   "execution_count": 62,
   "id": "1e348fb1-b9c3-45bc-ba23-f016827a7e0d",
   "metadata": {
    "execution": {
     "iopub.execute_input": "2025-07-28T10:57:52.207843Z",
     "iopub.status.busy": "2025-07-28T10:57:52.207076Z",
     "iopub.status.idle": "2025-07-28T10:57:52.215450Z",
     "shell.execute_reply": "2025-07-28T10:57:52.214383Z"
    },
    "papermill": {
     "duration": 0.040674,
     "end_time": "2025-07-28T10:57:52.217328",
     "exception": false,
     "start_time": "2025-07-28T10:57:52.176654",
     "status": "completed"
    },
    "tags": []
   },
   "outputs": [
    {
     "data": {
      "text/plain": [
       "{'frau1': 0.9177517185604529,\n",
       " 'nongerman': 0.9140515353954977,\n",
       " 'nongerman_male': 0.92704674412321,\n",
       " 'nongerman_female': 0.892548435171386}"
      ]
     },
     "execution_count": 62,
     "metadata": {},
     "output_type": "execute_result"
    }
   ],
   "source": [
    "cond_coverage"
   ]
  },
  {
   "cell_type": "code",
   "execution_count": 63,
   "id": "f5093324-c3dd-4d63-bc4c-8d945e5c8bbb",
   "metadata": {
    "execution": {
     "iopub.execute_input": "2025-07-28T10:57:52.278583Z",
     "iopub.status.busy": "2025-07-28T10:57:52.277803Z",
     "iopub.status.idle": "2025-07-28T10:57:52.287396Z",
     "shell.execute_reply": "2025-07-28T10:57:52.286229Z"
    },
    "papermill": {
     "duration": 0.042339,
     "end_time": "2025-07-28T10:57:52.289243",
     "exception": false,
     "start_time": "2025-07-28T10:57:52.246904",
     "status": "completed"
    },
    "tags": []
   },
   "outputs": [],
   "source": [
    "for subgroup, cov in cond_coverage.items():\n",
    "    cp_metrics_df[f\"cov_{subgroup}\"] = cov"
   ]
  },
  {
   "cell_type": "code",
   "execution_count": 64,
   "id": "6e872e10-dbe5-49e8-b554-5030c98ff75d",
   "metadata": {
    "execution": {
     "iopub.execute_input": "2025-07-28T10:57:52.350411Z",
     "iopub.status.busy": "2025-07-28T10:57:52.349430Z",
     "iopub.status.idle": "2025-07-28T10:57:52.370968Z",
     "shell.execute_reply": "2025-07-28T10:57:52.369853Z"
    },
    "papermill": {
     "duration": 0.054141,
     "end_time": "2025-07-28T10:57:52.372759",
     "exception": false,
     "start_time": "2025-07-28T10:57:52.318618",
     "status": "completed"
    },
    "tags": []
   },
   "outputs": [
    {
     "data": {
      "text/html": [
       "<div>\n",
       "<style scoped>\n",
       "    .dataframe tbody tr th:only-of-type {\n",
       "        vertical-align: middle;\n",
       "    }\n",
       "\n",
       "    .dataframe tbody tr th {\n",
       "        vertical-align: top;\n",
       "    }\n",
       "\n",
       "    .dataframe thead th {\n",
       "        text-align: right;\n",
       "    }\n",
       "</style>\n",
       "<table border=\"1\" class=\"dataframe\">\n",
       "  <thead>\n",
       "    <tr style=\"text-align: right;\">\n",
       "      <th></th>\n",
       "      <th>universe_id</th>\n",
       "      <th>universe_training_size</th>\n",
       "      <th>universe_scale</th>\n",
       "      <th>universe_model</th>\n",
       "      <th>universe_exclude_features</th>\n",
       "      <th>universe_exclude_subgroups</th>\n",
       "      <th>q_hat</th>\n",
       "      <th>coverage</th>\n",
       "      <th>avg_size</th>\n",
       "      <th>cov_frau1</th>\n",
       "      <th>cov_nongerman</th>\n",
       "      <th>cov_nongerman_male</th>\n",
       "      <th>cov_nongerman_female</th>\n",
       "    </tr>\n",
       "  </thead>\n",
       "  <tbody>\n",
       "    <tr>\n",
       "      <th>0</th>\n",
       "      <td>5a4424b072c4e37fe6170f7d0da56b36</td>\n",
       "      <td>2014</td>\n",
       "      <td>scale</td>\n",
       "      <td>rf</td>\n",
       "      <td>age</td>\n",
       "      <td>keep-all</td>\n",
       "      <td>0.67</td>\n",
       "      <td>0.917233</td>\n",
       "      <td>1.147542</td>\n",
       "      <td>0.917752</td>\n",
       "      <td>0.914052</td>\n",
       "      <td>0.927047</td>\n",
       "      <td>0.892548</td>\n",
       "    </tr>\n",
       "  </tbody>\n",
       "</table>\n",
       "</div>"
      ],
      "text/plain": [
       "                        universe_id universe_training_size universe_scale  \\\n",
       "0  5a4424b072c4e37fe6170f7d0da56b36                   2014          scale   \n",
       "\n",
       "  universe_model universe_exclude_features universe_exclude_subgroups  q_hat  \\\n",
       "0             rf                       age                   keep-all   0.67   \n",
       "\n",
       "   coverage  avg_size  cov_frau1  cov_nongerman  cov_nongerman_male  \\\n",
       "0  0.917233  1.147542   0.917752       0.914052            0.927047   \n",
       "\n",
       "   cov_nongerman_female  \n",
       "0              0.892548  "
      ]
     },
     "execution_count": 64,
     "metadata": {},
     "output_type": "execute_result"
    }
   ],
   "source": [
    "cp_metrics_df"
   ]
  },
  {
   "cell_type": "markdown",
   "id": "33774451",
   "metadata": {
    "papermill": {
     "duration": 0.029889,
     "end_time": "2025-07-28T10:57:52.432904",
     "exception": false,
     "start_time": "2025-07-28T10:57:52.403015",
     "status": "completed"
    },
    "tags": []
   },
   "source": [
    "# (Fairness) Metrics"
   ]
  },
  {
   "cell_type": "code",
   "execution_count": 65,
   "id": "debc5d62",
   "metadata": {
    "execution": {
     "iopub.execute_input": "2025-07-28T10:57:52.494334Z",
     "iopub.status.busy": "2025-07-28T10:57:52.493815Z",
     "iopub.status.idle": "2025-07-28T10:57:52.529980Z",
     "shell.execute_reply": "2025-07-28T10:57:52.528957Z"
    },
    "papermill": {
     "duration": 0.068602,
     "end_time": "2025-07-28T10:57:52.532103",
     "exception": false,
     "start_time": "2025-07-28T10:57:52.463501",
     "status": "completed"
    },
    "tags": []
   },
   "outputs": [],
   "source": [
    "# do I need to include maxdeutsch1.missing?\n",
    "\n",
    "import numpy as np\n",
    "\n",
    "colname_to_bin = \"maxdeutsch1\"\n",
    "majority_value = org_train[colname_to_bin].mode()[0]\n",
    "\n",
    "org_test[\"majmin\"] = np.where(org_test[colname_to_bin] == majority_value, \"majority\", \"minority\")"
   ]
  },
  {
   "cell_type": "code",
   "execution_count": 66,
   "id": "06a50de5",
   "metadata": {
    "execution": {
     "iopub.execute_input": "2025-07-28T10:57:52.594042Z",
     "iopub.status.busy": "2025-07-28T10:57:52.593114Z",
     "iopub.status.idle": "2025-07-28T10:57:55.605319Z",
     "shell.execute_reply": "2025-07-28T10:57:55.604353Z"
    },
    "papermill": {
     "duration": 3.044973,
     "end_time": "2025-07-28T10:57:55.607145",
     "exception": false,
     "start_time": "2025-07-28T10:57:52.562172",
     "status": "completed"
    },
    "tags": []
   },
   "outputs": [],
   "source": [
    "example_universe = universe.copy()\n",
    "example_universe[\"cutoff\"] = example_universe[\"cutoff\"][0]\n",
    "example_universe[\"eval_fairness_grouping\"] = example_universe[\"eval_fairness_grouping\"][0]\n",
    "fairness_dict, metric_frame = universe_analysis.compute_metrics(\n",
    "    example_universe,\n",
    "    y_pred_prob=probs_test,\n",
    "    y_test=y_true,\n",
    "    org_test=org_test,\n",
    ")"
   ]
  },
  {
   "cell_type": "markdown",
   "id": "f95d4e02",
   "metadata": {
    "papermill": {
     "duration": 0.024723,
     "end_time": "2025-07-28T10:57:55.659638",
     "exception": false,
     "start_time": "2025-07-28T10:57:55.634915",
     "status": "completed"
    },
    "tags": []
   },
   "source": [
    "# Overall"
   ]
  },
  {
   "cell_type": "markdown",
   "id": "bdee4871",
   "metadata": {
    "papermill": {
     "duration": 0.024618,
     "end_time": "2025-07-28T10:57:55.708900",
     "exception": false,
     "start_time": "2025-07-28T10:57:55.684282",
     "status": "completed"
    },
    "tags": []
   },
   "source": [
    "Fairness\n",
    "Main fairness target: Equalized Odds. Seems to be a better fit than equal opportunity, since we're not only interested in Y = 1. Seems to be a better fit than demographic parity, since we also care about accuracy, not just equal distribution of preds.\n",
    "\n",
    "Pick column for computation of fairness metrics\n",
    "\n",
    "Performance\n",
    "Overall performance measures, most interesting in relation to the measures split by group below"
   ]
  },
  {
   "cell_type": "code",
   "execution_count": 67,
   "id": "c4e067c6",
   "metadata": {
    "execution": {
     "iopub.execute_input": "2025-07-28T10:57:55.760079Z",
     "iopub.status.busy": "2025-07-28T10:57:55.759153Z",
     "iopub.status.idle": "2025-07-28T10:57:55.768373Z",
     "shell.execute_reply": "2025-07-28T10:57:55.767279Z"
    },
    "papermill": {
     "duration": 0.03604,
     "end_time": "2025-07-28T10:57:55.769912",
     "exception": false,
     "start_time": "2025-07-28T10:57:55.733872",
     "status": "completed"
    },
    "tags": []
   },
   "outputs": [
    {
     "data": {
      "text/plain": [
       "accuracy                   0.196043\n",
       "balanced accuracy          0.532420\n",
       "f1                         0.239137\n",
       "precision                  0.136090\n",
       "false positive rate        0.920040\n",
       "false negative rate        0.015120\n",
       "selection rate             0.928358\n",
       "count                  89710.000000\n",
       "dtype: float64"
      ]
     },
     "execution_count": 67,
     "metadata": {},
     "output_type": "execute_result"
    }
   ],
   "source": [
    "metric_frame.overall"
   ]
  },
  {
   "cell_type": "markdown",
   "id": "e968fe9d",
   "metadata": {
    "papermill": {
     "duration": 0.025544,
     "end_time": "2025-07-28T10:57:55.820421",
     "exception": false,
     "start_time": "2025-07-28T10:57:55.794877",
     "status": "completed"
    },
    "tags": []
   },
   "source": [
    "By Group"
   ]
  },
  {
   "cell_type": "code",
   "execution_count": 68,
   "id": "ec325bce",
   "metadata": {
    "execution": {
     "iopub.execute_input": "2025-07-28T10:57:55.872097Z",
     "iopub.status.busy": "2025-07-28T10:57:55.871364Z",
     "iopub.status.idle": "2025-07-28T10:57:55.888111Z",
     "shell.execute_reply": "2025-07-28T10:57:55.887067Z"
    },
    "papermill": {
     "duration": 0.044367,
     "end_time": "2025-07-28T10:57:55.889741",
     "exception": false,
     "start_time": "2025-07-28T10:57:55.845374",
     "status": "completed"
    },
    "tags": []
   },
   "outputs": [
    {
     "data": {
      "text/html": [
       "<div>\n",
       "<style scoped>\n",
       "    .dataframe tbody tr th:only-of-type {\n",
       "        vertical-align: middle;\n",
       "    }\n",
       "\n",
       "    .dataframe tbody tr th {\n",
       "        vertical-align: top;\n",
       "    }\n",
       "\n",
       "    .dataframe thead th {\n",
       "        text-align: right;\n",
       "    }\n",
       "</style>\n",
       "<table border=\"1\" class=\"dataframe\">\n",
       "  <thead>\n",
       "    <tr style=\"text-align: right;\">\n",
       "      <th></th>\n",
       "      <th>accuracy</th>\n",
       "      <th>balanced accuracy</th>\n",
       "      <th>f1</th>\n",
       "      <th>precision</th>\n",
       "      <th>false positive rate</th>\n",
       "      <th>false negative rate</th>\n",
       "      <th>selection rate</th>\n",
       "      <th>count</th>\n",
       "    </tr>\n",
       "    <tr>\n",
       "      <th>majmin</th>\n",
       "      <th></th>\n",
       "      <th></th>\n",
       "      <th></th>\n",
       "      <th></th>\n",
       "      <th></th>\n",
       "      <th></th>\n",
       "      <th></th>\n",
       "      <th></th>\n",
       "    </tr>\n",
       "  </thead>\n",
       "  <tbody>\n",
       "    <tr>\n",
       "      <th>majority</th>\n",
       "      <td>0.193827</td>\n",
       "      <td>0.531831</td>\n",
       "      <td>0.245253</td>\n",
       "      <td>0.139938</td>\n",
       "      <td>0.927586</td>\n",
       "      <td>0.008753</td>\n",
       "      <td>0.935998</td>\n",
       "      <td>69170.0</td>\n",
       "    </tr>\n",
       "    <tr>\n",
       "      <th>minority</th>\n",
       "      <td>0.203505</td>\n",
       "      <td>0.532595</td>\n",
       "      <td>0.217524</td>\n",
       "      <td>0.122654</td>\n",
       "      <td>0.895113</td>\n",
       "      <td>0.039696</td>\n",
       "      <td>0.902629</td>\n",
       "      <td>20540.0</td>\n",
       "    </tr>\n",
       "  </tbody>\n",
       "</table>\n",
       "</div>"
      ],
      "text/plain": [
       "          accuracy  balanced accuracy        f1  precision  \\\n",
       "majmin                                                       \n",
       "majority  0.193827           0.531831  0.245253   0.139938   \n",
       "minority  0.203505           0.532595  0.217524   0.122654   \n",
       "\n",
       "          false positive rate  false negative rate  selection rate    count  \n",
       "majmin                                                                       \n",
       "majority             0.927586             0.008753        0.935998  69170.0  \n",
       "minority             0.895113             0.039696        0.902629  20540.0  "
      ]
     },
     "execution_count": 68,
     "metadata": {},
     "output_type": "execute_result"
    }
   ],
   "source": [
    "metric_frame.by_group"
   ]
  },
  {
   "cell_type": "code",
   "execution_count": 69,
   "id": "a9ddbe63",
   "metadata": {
    "execution": {
     "iopub.execute_input": "2025-07-28T10:57:55.943609Z",
     "iopub.status.busy": "2025-07-28T10:57:55.942631Z",
     "iopub.status.idle": "2025-07-28T10:57:58.481937Z",
     "shell.execute_reply": "2025-07-28T10:57:58.480962Z"
    },
    "papermill": {
     "duration": 2.567181,
     "end_time": "2025-07-28T10:57:58.483647",
     "exception": false,
     "start_time": "2025-07-28T10:57:55.916466",
     "status": "completed"
    },
    "tags": []
   },
   "outputs": [
    {
     "data": {
      "text/plain": [
       "array([[<Axes: title={'center': 'accuracy'}, xlabel='majmin'>,\n",
       "        <Axes: title={'center': 'balanced accuracy'}, xlabel='majmin'>,\n",
       "        <Axes: title={'center': 'f1'}, xlabel='majmin'>],\n",
       "       [<Axes: title={'center': 'precision'}, xlabel='majmin'>,\n",
       "        <Axes: title={'center': 'false positive rate'}, xlabel='majmin'>,\n",
       "        <Axes: title={'center': 'false negative rate'}, xlabel='majmin'>],\n",
       "       [<Axes: title={'center': 'selection rate'}, xlabel='majmin'>,\n",
       "        <Axes: title={'center': 'count'}, xlabel='majmin'>,\n",
       "        <Axes: xlabel='majmin'>]], dtype=object)"
      ]
     },
     "execution_count": 69,
     "metadata": {},
     "output_type": "execute_result"
    },
    {
     "data": {
      "image/png": "[encoded data removed]",
      "text/plain": [
       "<Figure size 1200x800 with 9 Axes>"
      ]
     },
     "metadata": {},
     "output_type": "display_data"
    }
   ],
   "source": [
    "# In a graphic\n",
    "metric_frame.by_group.plot.bar(\n",
    "    subplots=True,\n",
    "    layout=[3, 3],\n",
    "    legend=False,\n",
    "    figsize=[12, 8],\n",
    "    title=\"Show all metrics\",\n",
    ")"
   ]
  },
  {
   "cell_type": "markdown",
   "id": "f57a0bac",
   "metadata": {
    "papermill": {
     "duration": 0.029908,
     "end_time": "2025-07-28T10:57:58.546650",
     "exception": false,
     "start_time": "2025-07-28T10:57:58.516742",
     "status": "completed"
    },
    "tags": []
   },
   "source": [
    "# Final Output"
   ]
  },
  {
   "cell_type": "code",
   "execution_count": 70,
   "id": "96d280a3",
   "metadata": {
    "execution": {
     "iopub.execute_input": "2025-07-28T10:57:58.609857Z",
     "iopub.status.busy": "2025-07-28T10:57:58.609126Z",
     "iopub.status.idle": "2025-07-28T10:57:58.618247Z",
     "shell.execute_reply": "2025-07-28T10:57:58.617169Z"
    },
    "papermill": {
     "duration": 0.043033,
     "end_time": "2025-07-28T10:57:58.620489",
     "exception": false,
     "start_time": "2025-07-28T10:57:58.577456",
     "status": "completed"
    },
    "tags": []
   },
   "outputs": [
    {
     "data": {
      "text/plain": [
       "4"
      ]
     },
     "execution_count": 70,
     "metadata": {},
     "output_type": "execute_result"
    }
   ],
   "source": [
    "sub_universes = universe_analysis.generate_sub_universes()\n",
    "len(sub_universes)"
   ]
  },
  {
   "cell_type": "code",
   "execution_count": 71,
   "id": "92adf7ba",
   "metadata": {
    "execution": {
     "iopub.execute_input": "2025-07-28T10:57:58.682143Z",
     "iopub.status.busy": "2025-07-28T10:57:58.681679Z",
     "iopub.status.idle": "2025-07-28T10:57:58.687959Z",
     "shell.execute_reply": "2025-07-28T10:57:58.686935Z"
    },
    "papermill": {
     "duration": 0.039756,
     "end_time": "2025-07-28T10:57:58.689690",
     "exception": false,
     "start_time": "2025-07-28T10:57:58.649934",
     "status": "completed"
    },
    "tags": []
   },
   "outputs": [],
   "source": [
    "def filter_sub_universe_data(sub_universe, org_test):\n",
    "    # Keep all rows — no filtering\n",
    "    keep_rows_mask = np.ones(org_test.shape[0], dtype=bool)\n",
    "\n",
    "    print(f\"[INFO] Keeping all rows: {keep_rows_mask.sum()} rows retained.\")\n",
    "    return keep_rows_mask"
   ]
  },
  {
   "cell_type": "code",
   "execution_count": 72,
   "id": "4a759155",
   "metadata": {
    "execution": {
     "iopub.execute_input": "2025-07-28T10:57:58.753044Z",
     "iopub.status.busy": "2025-07-28T10:57:58.752629Z",
     "iopub.status.idle": "2025-07-28T10:58:10.535951Z",
     "shell.execute_reply": "2025-07-28T10:58:10.534502Z"
    },
    "papermill": {
     "duration": 11.818023,
     "end_time": "2025-07-28T10:58:10.537979",
     "exception": false,
     "start_time": "2025-07-28T10:57:58.719956",
     "status": "completed"
    },
    "tags": []
   },
   "outputs": [
    {
     "name": "stdout",
     "output_type": "stream",
     "text": [
      "Stopping execution_time clock.\n",
      "[INFO] Keeping all rows: 89710 rows retained.\n"
     ]
    },
    {
     "name": "stdout",
     "output_type": "stream",
     "text": [
      "[INFO] Keeping all rows: 89710 rows retained.\n"
     ]
    },
    {
     "name": "stdout",
     "output_type": "stream",
     "text": [
      "[INFO] Keeping all rows: 89710 rows retained.\n"
     ]
    },
    {
     "name": "stdout",
     "output_type": "stream",
     "text": [
      "[INFO] Keeping all rows: 89710 rows retained.\n"
     ]
    },
    {
     "data": {
      "text/html": [
       "<div>\n",
       "<style scoped>\n",
       "    .dataframe tbody tr th:only-of-type {\n",
       "        vertical-align: middle;\n",
       "    }\n",
       "\n",
       "    .dataframe tbody tr th {\n",
       "        vertical-align: top;\n",
       "    }\n",
       "\n",
       "    .dataframe thead th {\n",
       "        text-align: right;\n",
       "    }\n",
       "</style>\n",
       "<table border=\"1\" class=\"dataframe\">\n",
       "  <thead>\n",
       "    <tr style=\"text-align: right;\">\n",
       "      <th></th>\n",
       "      <th>run_no</th>\n",
       "      <th>universe_id</th>\n",
       "      <th>universe_settings</th>\n",
       "      <th>execution_time</th>\n",
       "      <th>test_size_n</th>\n",
       "      <th>test_size_frac</th>\n",
       "      <th>fair_main_equalized_odds_difference</th>\n",
       "      <th>fair_main_equalized_odds_ratio</th>\n",
       "      <th>fair_main_demographic_parity_difference</th>\n",
       "      <th>fair_main_demographic_parity_ratio</th>\n",
       "      <th>...</th>\n",
       "      <th>perf_grp_precision_0</th>\n",
       "      <th>perf_grp_precision_1</th>\n",
       "      <th>perf_grp_false positive rate_0</th>\n",
       "      <th>perf_grp_false positive rate_1</th>\n",
       "      <th>perf_grp_false negative rate_0</th>\n",
       "      <th>perf_grp_false negative rate_1</th>\n",
       "      <th>perf_grp_selection rate_0</th>\n",
       "      <th>perf_grp_selection rate_1</th>\n",
       "      <th>perf_grp_count_0</th>\n",
       "      <th>perf_grp_count_1</th>\n",
       "    </tr>\n",
       "  </thead>\n",
       "  <tbody>\n",
       "    <tr>\n",
       "      <th>0</th>\n",
       "      <td>11</td>\n",
       "      <td>5a4424b072c4e37fe6170f7d0da56b36</td>\n",
       "      <td>{\"cutoff\": \"quantile_0.1\", \"eval_fairness_grou...</td>\n",
       "      <td>65.309741</td>\n",
       "      <td>89710</td>\n",
       "      <td>1.0</td>\n",
       "      <td>0.032473</td>\n",
       "      <td>0.964992</td>\n",
       "      <td>0.033369</td>\n",
       "      <td>0.964349</td>\n",
       "      <td>...</td>\n",
       "      <td>NaN</td>\n",
       "      <td>NaN</td>\n",
       "      <td>NaN</td>\n",
       "      <td>NaN</td>\n",
       "      <td>NaN</td>\n",
       "      <td>NaN</td>\n",
       "      <td>NaN</td>\n",
       "      <td>NaN</td>\n",
       "      <td>NaN</td>\n",
       "      <td>NaN</td>\n",
       "    </tr>\n",
       "    <tr>\n",
       "      <th>0</th>\n",
       "      <td>11</td>\n",
       "      <td>5a4424b072c4e37fe6170f7d0da56b36</td>\n",
       "      <td>{\"cutoff\": \"quantile_0.1\", \"eval_fairness_grou...</td>\n",
       "      <td>65.309741</td>\n",
       "      <td>89710</td>\n",
       "      <td>1.0</td>\n",
       "      <td>0.032473</td>\n",
       "      <td>0.964992</td>\n",
       "      <td>0.033369</td>\n",
       "      <td>0.964349</td>\n",
       "      <td>...</td>\n",
       "      <td>0.122654</td>\n",
       "      <td>0.139938</td>\n",
       "      <td>0.895113</td>\n",
       "      <td>0.927586</td>\n",
       "      <td>0.039696</td>\n",
       "      <td>0.008753</td>\n",
       "      <td>0.902629</td>\n",
       "      <td>0.935998</td>\n",
       "      <td>20540.0</td>\n",
       "      <td>69170.0</td>\n",
       "    </tr>\n",
       "    <tr>\n",
       "      <th>0</th>\n",
       "      <td>11</td>\n",
       "      <td>5a4424b072c4e37fe6170f7d0da56b36</td>\n",
       "      <td>{\"cutoff\": \"quantile_0.25\", \"eval_fairness_gro...</td>\n",
       "      <td>65.309741</td>\n",
       "      <td>89710</td>\n",
       "      <td>1.0</td>\n",
       "      <td>0.073854</td>\n",
       "      <td>0.922784</td>\n",
       "      <td>0.058005</td>\n",
       "      <td>0.925770</td>\n",
       "      <td>...</td>\n",
       "      <td>NaN</td>\n",
       "      <td>NaN</td>\n",
       "      <td>NaN</td>\n",
       "      <td>NaN</td>\n",
       "      <td>NaN</td>\n",
       "      <td>NaN</td>\n",
       "      <td>NaN</td>\n",
       "      <td>NaN</td>\n",
       "      <td>NaN</td>\n",
       "      <td>NaN</td>\n",
       "    </tr>\n",
       "    <tr>\n",
       "      <th>0</th>\n",
       "      <td>11</td>\n",
       "      <td>5a4424b072c4e37fe6170f7d0da56b36</td>\n",
       "      <td>{\"cutoff\": \"quantile_0.25\", \"eval_fairness_gro...</td>\n",
       "      <td>65.309741</td>\n",
       "      <td>89710</td>\n",
       "      <td>1.0</td>\n",
       "      <td>0.073854</td>\n",
       "      <td>0.922784</td>\n",
       "      <td>0.058005</td>\n",
       "      <td>0.925770</td>\n",
       "      <td>...</td>\n",
       "      <td>0.140655</td>\n",
       "      <td>0.161736</td>\n",
       "      <td>0.702674</td>\n",
       "      <td>0.754773</td>\n",
       "      <td>0.117399</td>\n",
       "      <td>0.043545</td>\n",
       "      <td>0.723418</td>\n",
       "      <td>0.781423</td>\n",
       "      <td>20540.0</td>\n",
       "      <td>69170.0</td>\n",
       "    </tr>\n",
       "  </tbody>\n",
       "</table>\n",
       "<p>4 rows × 50 columns</p>\n",
       "</div>"
      ],
      "text/plain": [
       "  run_no                       universe_id  \\\n",
       "0     11  5a4424b072c4e37fe6170f7d0da56b36   \n",
       "0     11  5a4424b072c4e37fe6170f7d0da56b36   \n",
       "0     11  5a4424b072c4e37fe6170f7d0da56b36   \n",
       "0     11  5a4424b072c4e37fe6170f7d0da56b36   \n",
       "\n",
       "                                   universe_settings  execution_time  \\\n",
       "0  {\"cutoff\": \"quantile_0.1\", \"eval_fairness_grou...       65.309741   \n",
       "0  {\"cutoff\": \"quantile_0.1\", \"eval_fairness_grou...       65.309741   \n",
       "0  {\"cutoff\": \"quantile_0.25\", \"eval_fairness_gro...       65.309741   \n",
       "0  {\"cutoff\": \"quantile_0.25\", \"eval_fairness_gro...       65.309741   \n",
       "\n",
       "   test_size_n  test_size_frac  fair_main_equalized_odds_difference  \\\n",
       "0        89710             1.0                             0.032473   \n",
       "0        89710             1.0                             0.032473   \n",
       "0        89710             1.0                             0.073854   \n",
       "0        89710             1.0                             0.073854   \n",
       "\n",
       "   fair_main_equalized_odds_ratio  fair_main_demographic_parity_difference  \\\n",
       "0                        0.964992                                 0.033369   \n",
       "0                        0.964992                                 0.033369   \n",
       "0                        0.922784                                 0.058005   \n",
       "0                        0.922784                                 0.058005   \n",
       "\n",
       "   fair_main_demographic_parity_ratio  ...  perf_grp_precision_0  \\\n",
       "0                            0.964349  ...                   NaN   \n",
       "0                            0.964349  ...              0.122654   \n",
       "0                            0.925770  ...                   NaN   \n",
       "0                            0.925770  ...              0.140655   \n",
       "\n",
       "   perf_grp_precision_1  perf_grp_false positive rate_0  \\\n",
       "0                   NaN                             NaN   \n",
       "0              0.139938                        0.895113   \n",
       "0                   NaN                             NaN   \n",
       "0              0.161736                        0.702674   \n",
       "\n",
       "   perf_grp_false positive rate_1  perf_grp_false negative rate_0  \\\n",
       "0                             NaN                             NaN   \n",
       "0                        0.927586                        0.039696   \n",
       "0                             NaN                             NaN   \n",
       "0                        0.754773                        0.117399   \n",
       "\n",
       "   perf_grp_false negative rate_1  perf_grp_selection rate_0  \\\n",
       "0                             NaN                        NaN   \n",
       "0                        0.008753                   0.902629   \n",
       "0                             NaN                        NaN   \n",
       "0                        0.043545                   0.723418   \n",
       "\n",
       "   perf_grp_selection rate_1  perf_grp_count_0  perf_grp_count_1  \n",
       "0                        NaN               NaN               NaN  \n",
       "0                   0.935998           20540.0           69170.0  \n",
       "0                        NaN               NaN               NaN  \n",
       "0                   0.781423           20540.0           69170.0  \n",
       "\n",
       "[4 rows x 50 columns]"
      ]
     },
     "execution_count": 72,
     "metadata": {},
     "output_type": "execute_result"
    }
   ],
   "source": [
    "final_output = universe_analysis.generate_final_output(\n",
    "    y_pred_prob=probs_test,\n",
    "    y_test=y_true,\n",
    "    org_test=org_test,\n",
    "    filter_data=filter_sub_universe_data,\n",
    "    cp_metrics_df=cp_metrics_df,\n",
    "    save=True,\n",
    ")\n",
    "final_output"
   ]
  },
  {
   "cell_type": "code",
   "execution_count": null,
   "id": "721ff514-cb11-46f8-b6fc-50392f74b5cb",
   "metadata": {
    "papermill": {
     "duration": 0.032737,
     "end_time": "2025-07-28T10:58:10.606792",
     "exception": false,
     "start_time": "2025-07-28T10:58:10.574055",
     "status": "completed"
    },
    "tags": []
   },
   "outputs": [],
   "source": []
  }
 ],
 "metadata": {
  "celltoolbar": "Tags",
  "kernelspec": {
   "display_name": "Python (CMA Fairness)",
   "language": "python",
   "name": "cma_fair_env"
  },
  "language_info": {
   "codemirror_mode": {
    "name": "ipython",
    "version": 3
   },
   "file_extension": ".py",
   "mimetype": "text/x-python",
   "name": "python",
   "nbconvert_exporter": "python",
   "pygments_lexer": "ipython3",
   "version": "3.10.12"
  },
  "papermill": {
   "default_parameters": {},
   "duration": 84.866675,
   "end_time": "2025-07-28T10:58:11.659457",
   "environment_variables": {},
   "exception": null,
   "input_path": "universe_analysis.ipynb",
   "output_path": "output/runs/11/notebooks/m_11-5a4424b072c4e37fe6170f7d0da56b36.ipynb",
   "parameters": {
    "output_dir": "output",
    "run_no": "11",
    "seed": "2023",
    "universe": "{\"cutoff\": [\"quantile_0.1\", \"quantile_0.25\"], \"eval_fairness_grouping\": [\"majority-minority\", \"nationality-all\"], \"exclude_features\": \"age\", \"exclude_subgroups\": \"keep-all\", \"model\": \"rf\", \"scale\": \"scale\", \"training_size\": \"2014\"}",
    "universe_id": "5a4424b072c4e37fe6170f7d0da56b36"
   },
   "start_time": "2025-07-28T10:56:46.792782",
   "version": "2.6.0"
  }
 },
 "nbformat": 4,
 "nbformat_minor": 5
}