{
 "cells": [
  {
   "cell_type": "code",
   "execution_count": 1,
   "id": "f159f837-637b-42ba-96b5-ec9a68c44524",
   "metadata": {
    "execution": {
     "iopub.execute_input": "2025-07-28T11:04:45.616007Z",
     "iopub.status.busy": "2025-07-28T11:04:45.615478Z",
     "iopub.status.idle": "2025-07-28T11:04:45.630739Z",
     "shell.execute_reply": "2025-07-28T11:04:45.629537Z"
    },
    "papermill": {
     "duration": 0.038796,
     "end_time": "2025-07-28T11:04:45.632476",
     "exception": false,
     "start_time": "2025-07-28T11:04:45.593680",
     "status": "completed"
    },
    "tags": []
   },
   "outputs": [
    {
     "name": "stdout",
     "output_type": "stream",
     "text": [
      "/dss/dsshome1/0C/ra93lal2/cma/CMA_Fairness_v2\n"
     ]
    },
    {
     "name": "stderr",
     "output_type": "stream",
     "text": [
      "/dss/dsshome1/0C/ra93lal2/.local/share/virtualenvs/CMA_Fairness_v2-3j10GkSs/lib/python3.10/site-packages/IPython/core/magics/osm.py:393: UserWarning: This is now an optional IPython functionality, using bookmarks requires you to install the `pickleshare` library.\n",
      "  bkms = self.shell.db.get('bookmarks', {})\n",
      "/dss/dsshome1/0C/ra93lal2/.local/share/virtualenvs/CMA_Fairness_v2-3j10GkSs/lib/python3.10/site-packages/IPython/core/magics/osm.py:417: UserWarning: This is now an optional IPython functionality, setting dhist requires you to install the `pickleshare` library.\n",
      "  self.shell.db['dhist'] = compress_dhist(dhist)[-100:]\n"
     ]
    }
   ],
   "source": [
    "%cd ~/cma/CMA_Fairness_v2"
   ]
  },
  {
   "cell_type": "markdown",
   "id": "de2603b9",
   "metadata": {
    "papermill": {
     "duration": 0.019629,
     "end_time": "2025-07-28T11:04:45.672744",
     "exception": false,
     "start_time": "2025-07-28T11:04:45.653115",
     "status": "completed"
    },
    "tags": []
   },
   "source": [
    "The following cell holds the definition of our parameters, these values can be overriden by rendering the with e.g. the following command:\n",
    "\n",
    "papermill -p alpha 0.2 -p ratio 0.3 universe_analysis.ipynb output/test_run.ipynb"
   ]
  },
  {
   "cell_type": "code",
   "execution_count": 2,
   "id": "a80968a0-40bb-4fa9-85ef-2d5eefb01975",
   "metadata": {
    "execution": {
     "iopub.execute_input": "2025-07-28T11:04:45.716719Z",
     "iopub.status.busy": "2025-07-28T11:04:45.715869Z",
     "iopub.status.idle": "2025-07-28T11:04:45.722284Z",
     "shell.execute_reply": "2025-07-28T11:04:45.721237Z"
    },
    "papermill": {
     "duration": 0.030299,
     "end_time": "2025-07-28T11:04:45.723806",
     "exception": false,
     "start_time": "2025-07-28T11:04:45.693507",
     "status": "completed"
    },
    "tags": []
   },
   "outputs": [
    {
     "name": "stdout",
     "output_type": "stream",
     "text": [
      "Current working directory: /dss/dsshome1/0C/ra93lal2/cma/CMA_Fairness_v2\n"
     ]
    }
   ],
   "source": [
    "import os\n",
    "print(\"Current working directory:\", os.getcwd())"
   ]
  },
  {
   "cell_type": "code",
   "execution_count": 3,
   "id": "2dce4c03",
   "metadata": {
    "execution": {
     "iopub.execute_input": "2025-07-28T11:04:45.767917Z",
     "iopub.status.busy": "2025-07-28T11:04:45.767402Z",
     "iopub.status.idle": "2025-07-28T11:04:45.774410Z",
     "shell.execute_reply": "2025-07-28T11:04:45.773308Z"
    },
    "papermill": {
     "duration": 0.031358,
     "end_time": "2025-07-28T11:04:45.776296",
     "exception": false,
     "start_time": "2025-07-28T11:04:45.744938",
     "status": "completed"
    },
    "tags": [
     "parameters"
    ]
   },
   "outputs": [],
   "source": [
    "run_no = 0\n",
    "universe_id = \"test\"\n",
    "universe = {\n",
    "    \"training_size\": \"2014\", # \"25k\", \"5k\", \"1k\", \"2014\"\n",
    "    \"scale\": \"scale\", # \"scale\", \"do-not-scale\",\n",
    "    #\"stratify_split\": \"target\", # \"none\", \"target\", \"protected-attribute\", \"both\",\n",
    "    \"model\": \"elasticnet\", # \"logreg\", \"penalized_logreg\", \"rf\", \"gbm\", \"elasticnet\"\n",
    "    \"cutoff\": [\"quantile_0.15\", \"quantile_0.30\"],\n",
    "    \"exclude_features\": \"age\", # \"none\", \"nationality\", \"sex\", \"nationality-sex\", \"age\"\n",
    "    \"exclude_subgroups\": \"keep-all\", # \"keep-all\", \"drop-non-german\"\n",
    "    \"eval_fairness_grouping\": [\"majority-minority\", \"nationality-all\"]\n",
    "}\n",
    "\n",
    "output_dir=\"./output\"\n",
    "seed=0"
   ]
  },
  {
   "cell_type": "code",
   "execution_count": 4,
   "id": "84649db3",
   "metadata": {
    "execution": {
     "iopub.execute_input": "2025-07-28T11:04:45.819577Z",
     "iopub.status.busy": "2025-07-28T11:04:45.818591Z",
     "iopub.status.idle": "2025-07-28T11:04:45.824113Z",
     "shell.execute_reply": "2025-07-28T11:04:45.823063Z"
    },
    "papermill": {
     "duration": 0.028845,
     "end_time": "2025-07-28T11:04:45.826059",
     "exception": false,
     "start_time": "2025-07-28T11:04:45.797214",
     "status": "completed"
    },
    "tags": [
     "injected-parameters"
    ]
   },
   "outputs": [],
   "source": [
    "# Parameters\n",
    "universe_id = \"ec1d0f06d37974589b9caaa635ad0009\"\n",
    "run_no = \"11\"\n",
    "universe = \"{\\\"cutoff\\\": [\\\"quantile_0.1\\\", \\\"quantile_0.25\\\"], \\\"eval_fairness_grouping\\\": [\\\"majority-minority\\\", \\\"nationality-all\\\"], \\\"exclude_features\\\": \\\"nationality-sex\\\", \\\"exclude_subgroups\\\": \\\"drop-non-german\\\", \\\"model\\\": \\\"penalized_logreg\\\", \\\"scale\\\": \\\"do-not-scale\\\", \\\"training_size\\\": \\\"2014\\\"}\"\n",
    "output_dir = \"output\"\n",
    "seed = \"2023\"\n"
   ]
  },
  {
   "cell_type": "code",
   "execution_count": 5,
   "id": "1650acaf",
   "metadata": {
    "execution": {
     "iopub.execute_input": "2025-07-28T11:04:45.869374Z",
     "iopub.status.busy": "2025-07-28T11:04:45.868609Z",
     "iopub.status.idle": "2025-07-28T11:04:45.874354Z",
     "shell.execute_reply": "2025-07-28T11:04:45.873344Z"
    },
    "papermill": {
     "duration": 0.02923,
     "end_time": "2025-07-28T11:04:45.876088",
     "exception": false,
     "start_time": "2025-07-28T11:04:45.846858",
     "status": "completed"
    },
    "tags": []
   },
   "outputs": [],
   "source": [
    "import json\n",
    "# Parse universe into dict if it is passed as a string\n",
    "if isinstance(universe, str):\n",
    "    universe = json.loads(universe)"
   ]
  },
  {
   "cell_type": "code",
   "execution_count": 6,
   "id": "16620c48",
   "metadata": {
    "execution": {
     "iopub.execute_input": "2025-07-28T11:04:45.918719Z",
     "iopub.status.busy": "2025-07-28T11:04:45.918022Z",
     "iopub.status.idle": "2025-07-28T11:04:45.966414Z",
     "shell.execute_reply": "2025-07-28T11:04:45.965348Z"
    },
    "papermill": {
     "duration": 0.072595,
     "end_time": "2025-07-28T11:04:45.968523",
     "exception": false,
     "start_time": "2025-07-28T11:04:45.895928",
     "status": "completed"
    },
    "tags": []
   },
   "outputs": [],
   "source": [
    "# Auto-reload the custom package\n",
    "%load_ext autoreload\n",
    "%autoreload 1\n",
    "%aimport fairness_multiverse"
   ]
  },
  {
   "cell_type": "code",
   "execution_count": 7,
   "id": "01c5c9f3",
   "metadata": {
    "execution": {
     "iopub.execute_input": "2025-07-28T11:04:46.011751Z",
     "iopub.status.busy": "2025-07-28T11:04:46.011196Z",
     "iopub.status.idle": "2025-07-28T11:04:48.193683Z",
     "shell.execute_reply": "2025-07-28T11:04:48.192474Z"
    },
    "papermill": {
     "duration": 2.207109,
     "end_time": "2025-07-28T11:04:48.196617",
     "exception": false,
     "start_time": "2025-07-28T11:04:45.989508",
     "status": "completed"
    },
    "tags": []
   },
   "outputs": [],
   "source": [
    "from fairness_multiverse.universe import UniverseAnalysis\n",
    "\n",
    "universe_analysis = UniverseAnalysis(\n",
    "    run_no = run_no,\n",
    "    universe_id = universe_id,\n",
    "    universe = universe,\n",
    "    output_dir=output_dir,\n",
    ")"
   ]
  },
  {
   "cell_type": "code",
   "execution_count": 8,
   "id": "106241f5",
   "metadata": {
    "execution": {
     "iopub.execute_input": "2025-07-28T11:04:48.259046Z",
     "iopub.status.busy": "2025-07-28T11:04:48.258291Z",
     "iopub.status.idle": "2025-07-28T11:04:48.266070Z",
     "shell.execute_reply": "2025-07-28T11:04:48.265096Z"
    },
    "papermill": {
     "duration": 0.041723,
     "end_time": "2025-07-28T11:04:48.268361",
     "exception": false,
     "start_time": "2025-07-28T11:04:48.226638",
     "status": "completed"
    },
    "tags": []
   },
   "outputs": [
    {
     "name": "stdout",
     "output_type": "stream",
     "text": [
      "Using Seed: 2023\n"
     ]
    }
   ],
   "source": [
    "import numpy as np\n",
    "parsed_seed = int(seed)\n",
    "np.random.seed(parsed_seed)\n",
    "print(f\"Using Seed: {parsed_seed}\")"
   ]
  },
  {
   "cell_type": "markdown",
   "id": "e0ebdc57",
   "metadata": {
    "papermill": {
     "duration": 0.029645,
     "end_time": "2025-07-28T11:04:48.327954",
     "exception": false,
     "start_time": "2025-07-28T11:04:48.298309",
     "status": "completed"
    },
    "tags": []
   },
   "source": [
    "# Loading Data"
   ]
  },
  {
   "cell_type": "markdown",
   "id": "681925a3",
   "metadata": {
    "papermill": {
     "duration": 0.029631,
     "end_time": "2025-07-28T11:04:48.387145",
     "exception": false,
     "start_time": "2025-07-28T11:04:48.357514",
     "status": "completed"
    },
    "tags": []
   },
   "source": [
    "Load siab_train, siab_test, siab_calib and/or \n",
    "load siab_train_features, siab_train_labels"
   ]
  },
  {
   "cell_type": "code",
   "execution_count": 9,
   "id": "f0496b8a",
   "metadata": {
    "execution": {
     "iopub.execute_input": "2025-07-28T11:04:48.448357Z",
     "iopub.status.busy": "2025-07-28T11:04:48.447753Z",
     "iopub.status.idle": "2025-07-28T11:05:02.706753Z",
     "shell.execute_reply": "2025-07-28T11:05:02.705487Z"
    },
    "papermill": {
     "duration": 14.29192,
     "end_time": "2025-07-28T11:05:02.708614",
     "exception": false,
     "start_time": "2025-07-28T11:04:48.416694",
     "status": "completed"
    },
    "tags": []
   },
   "outputs": [
    {
     "name": "stdout",
     "output_type": "stream",
     "text": [
      "Loading SIAB data from cache: data/siab_cached.csv.gz\n"
     ]
    },
    {
     "name": "stdout",
     "output_type": "stream",
     "text": [
      "(643690, 164)\n"
     ]
    }
   ],
   "source": [
    "from pathlib import Path\n",
    "import pandas as pd\n",
    "\n",
    "# File paths\n",
    "raw_file = Path(\"data/raw/siab.csv\")\n",
    "cache_file = Path(\"data/siab_cached.csv.gz\")\n",
    "\n",
    "# Ensure cache directory exists\n",
    "cache_file.parent.mkdir(parents=True, exist_ok=True)\n",
    "\n",
    "# Load with simple caching\n",
    "if cache_file.exists():\n",
    "    print(f\"Loading SIAB data from cache: {cache_file}\")\n",
    "    siab = pd.read_csv(cache_file, compression='gzip')\n",
    "else:\n",
    "    print(f\"Cache not found. Reading raw SIAB data: {raw_file}\")\n",
    "    siab = pd.read_csv(raw_file)\n",
    "    siab.to_csv(cache_file, index=False, compression='gzip')\n",
    "    print(f\"Cached SIAB data to: {cache_file}\")\n",
    "\n",
    "# Now use `siab` DataFrame as needed\n",
    "print(siab.shape)"
   ]
  },
  {
   "cell_type": "code",
   "execution_count": 10,
   "id": "db0ca512-5f53-4dba-abdb-a2888bca41ba",
   "metadata": {
    "execution": {
     "iopub.execute_input": "2025-07-28T11:05:02.755869Z",
     "iopub.status.busy": "2025-07-28T11:05:02.754705Z",
     "iopub.status.idle": "2025-07-28T11:05:02.762361Z",
     "shell.execute_reply": "2025-07-28T11:05:02.761090Z"
    },
    "papermill": {
     "duration": 0.033161,
     "end_time": "2025-07-28T11:05:02.764387",
     "exception": false,
     "start_time": "2025-07-28T11:05:02.731226",
     "status": "completed"
    },
    "tags": []
   },
   "outputs": [],
   "source": [
    "#siab"
   ]
  },
  {
   "cell_type": "code",
   "execution_count": 11,
   "id": "a0edb063",
   "metadata": {
    "execution": {
     "iopub.execute_input": "2025-07-28T11:05:02.808738Z",
     "iopub.status.busy": "2025-07-28T11:05:02.807670Z",
     "iopub.status.idle": "2025-07-28T11:05:02.813603Z",
     "shell.execute_reply": "2025-07-28T11:05:02.812421Z"
    },
    "papermill": {
     "duration": 0.030447,
     "end_time": "2025-07-28T11:05:02.815915",
     "exception": false,
     "start_time": "2025-07-28T11:05:02.785468",
     "status": "completed"
    },
    "tags": []
   },
   "outputs": [],
   "source": [
    "#import pandas as pd\n",
    "#\n",
    "#X_train = pd.read_csv(\"./data/X_train.csv\")\n",
    "#y_train = pd.read_csv(\"./data/y_train.csv\")"
   ]
  },
  {
   "cell_type": "code",
   "execution_count": 12,
   "id": "63d08085",
   "metadata": {
    "execution": {
     "iopub.execute_input": "2025-07-28T11:05:02.877245Z",
     "iopub.status.busy": "2025-07-28T11:05:02.876454Z",
     "iopub.status.idle": "2025-07-28T11:05:02.882743Z",
     "shell.execute_reply": "2025-07-28T11:05:02.881625Z"
    },
    "papermill": {
     "duration": 0.038732,
     "end_time": "2025-07-28T11:05:02.884376",
     "exception": false,
     "start_time": "2025-07-28T11:05:02.845644",
     "status": "completed"
    },
    "tags": []
   },
   "outputs": [],
   "source": [
    "#X_test = pd.read_csv(\"./data/X_test.csv\")\n",
    "#y_true = pd.read_csv(\"./data/y_test.csv\")"
   ]
  },
  {
   "cell_type": "code",
   "execution_count": 13,
   "id": "98a8d0fa-1d3d-4ed8-bb2c-281470e24add",
   "metadata": {
    "execution": {
     "iopub.execute_input": "2025-07-28T11:05:02.928880Z",
     "iopub.status.busy": "2025-07-28T11:05:02.927872Z",
     "iopub.status.idle": "2025-07-28T11:05:02.934612Z",
     "shell.execute_reply": "2025-07-28T11:05:02.933471Z"
    },
    "papermill": {
     "duration": 0.031183,
     "end_time": "2025-07-28T11:05:02.936510",
     "exception": false,
     "start_time": "2025-07-28T11:05:02.905327",
     "status": "completed"
    },
    "tags": []
   },
   "outputs": [],
   "source": [
    "# Calibration data for conformal\n",
    "#X_calib = pd.read_csv(\"./data/X_calib.csv\")\n",
    "#y_calib = pd.read_csv(\"./data/y_calib.csv\")"
   ]
  },
  {
   "cell_type": "markdown",
   "id": "9901737e-04df-44f0-9100-f5ad144ed040",
   "metadata": {
    "papermill": {
     "duration": 0.020025,
     "end_time": "2025-07-28T11:05:02.978273",
     "exception": false,
     "start_time": "2025-07-28T11:05:02.958248",
     "status": "completed"
    },
    "tags": []
   },
   "source": [
    "# Splitting Data and Setting Training Data Size"
   ]
  },
  {
   "cell_type": "code",
   "execution_count": 14,
   "id": "acbc8f7d-8fc8-4e86-8c59-5dcb0f58384b",
   "metadata": {
    "execution": {
     "iopub.execute_input": "2025-07-28T11:05:03.024038Z",
     "iopub.status.busy": "2025-07-28T11:05:03.023175Z",
     "iopub.status.idle": "2025-07-28T11:05:03.034319Z",
     "shell.execute_reply": "2025-07-28T11:05:03.033126Z"
    },
    "papermill": {
     "duration": 0.035644,
     "end_time": "2025-07-28T11:05:03.036203",
     "exception": false,
     "start_time": "2025-07-28T11:05:03.000559",
     "status": "completed"
    },
    "tags": []
   },
   "outputs": [],
   "source": [
    "def sample_by_year(df, training_size, random_state=42):\n",
    "    if training_size == \"2014\":\n",
    "        return df[df[\"year\"] == 2014].reset_index(drop=True)\n",
    "    \n",
    "    size_map = {\n",
    "        \"25k\": 5000,\n",
    "        \"5k\": 1000,\n",
    "        \"1k\": 200\n",
    "    }\n",
    "\n",
    "    if training_size not in size_map:\n",
    "        return df.reset_index(drop=True)  # use all data\n",
    "\n",
    "    n_per_year = size_map[training_size]\n",
    "    grouped = df.groupby(\"year\")\n",
    "    sampled = grouped.apply(lambda x: x.sample(n=min(n_per_year, len(x)), random_state=random_state))\n",
    "    return sampled.reset_index(drop=True)"
   ]
  },
  {
   "cell_type": "code",
   "execution_count": 15,
   "id": "6d931f52-beaf-43ff-9e78-9d44a448d54e",
   "metadata": {
    "execution": {
     "iopub.execute_input": "2025-07-28T11:05:03.081174Z",
     "iopub.status.busy": "2025-07-28T11:05:03.080228Z",
     "iopub.status.idle": "2025-07-28T11:05:03.269026Z",
     "shell.execute_reply": "2025-07-28T11:05:03.267928Z"
    },
    "papermill": {
     "duration": 0.213863,
     "end_time": "2025-07-28T11:05:03.271494",
     "exception": false,
     "start_time": "2025-07-28T11:05:03.057631",
     "status": "completed"
    },
    "tags": []
   },
   "outputs": [],
   "source": [
    "siab_s = sample_by_year(siab, universe[\"training_size\"])"
   ]
  },
  {
   "cell_type": "code",
   "execution_count": 16,
   "id": "5db0a40e-a4e2-4920-be85-b12ae061d70d",
   "metadata": {
    "execution": {
     "iopub.execute_input": "2025-07-28T11:05:03.332049Z",
     "iopub.status.busy": "2025-07-28T11:05:03.331443Z",
     "iopub.status.idle": "2025-07-28T11:05:03.349236Z",
     "shell.execute_reply": "2025-07-28T11:05:03.348131Z"
    },
    "papermill": {
     "duration": 0.050606,
     "end_time": "2025-07-28T11:05:03.351517",
     "exception": false,
     "start_time": "2025-07-28T11:05:03.300911",
     "status": "completed"
    },
    "tags": []
   },
   "outputs": [
    {
     "data": {
      "text/plain": [
       "year\n",
       "2014    87158\n",
       "dtype: int64"
      ]
     },
     "metadata": {},
     "output_type": "display_data"
    }
   ],
   "source": [
    "display(siab_s.groupby(\"year\").size())"
   ]
  },
  {
   "cell_type": "code",
   "execution_count": 17,
   "id": "a561edb4-d032-42cb-8256-22eac1111c64",
   "metadata": {
    "execution": {
     "iopub.execute_input": "2025-07-28T11:05:03.413234Z",
     "iopub.status.busy": "2025-07-28T11:05:03.412433Z",
     "iopub.status.idle": "2025-07-28T11:05:03.724470Z",
     "shell.execute_reply": "2025-07-28T11:05:03.723408Z"
    },
    "papermill": {
     "duration": 0.345266,
     "end_time": "2025-07-28T11:05:03.726633",
     "exception": false,
     "start_time": "2025-07-28T11:05:03.381367",
     "status": "completed"
    },
    "tags": []
   },
   "outputs": [],
   "source": [
    "siab_train = siab_s[siab_s.year < 2015]\n",
    "siab_calib = siab[siab.year == 2015]\n",
    "siab_test = siab[siab.year == 2016]"
   ]
  },
  {
   "cell_type": "code",
   "execution_count": 18,
   "id": "472de16f-c3db-4916-846b-1f0de9cf1746",
   "metadata": {
    "execution": {
     "iopub.execute_input": "2025-07-28T11:05:03.788947Z",
     "iopub.status.busy": "2025-07-28T11:05:03.788251Z",
     "iopub.status.idle": "2025-07-28T11:05:03.845991Z",
     "shell.execute_reply": "2025-07-28T11:05:03.844817Z"
    },
    "papermill": {
     "duration": 0.082445,
     "end_time": "2025-07-28T11:05:03.847740",
     "exception": false,
     "start_time": "2025-07-28T11:05:03.765295",
     "status": "completed"
    },
    "tags": []
   },
   "outputs": [],
   "source": [
    "X_train = siab_train.iloc[:,4:164]\n",
    "y_train = siab_train.iloc[:, [3]]"
   ]
  },
  {
   "cell_type": "code",
   "execution_count": 19,
   "id": "828c96af-f43a-4ed6-ba47-8ac73a47d56c",
   "metadata": {
    "execution": {
     "iopub.execute_input": "2025-07-28T11:05:03.895037Z",
     "iopub.status.busy": "2025-07-28T11:05:03.894330Z",
     "iopub.status.idle": "2025-07-28T11:05:03.950551Z",
     "shell.execute_reply": "2025-07-28T11:05:03.949532Z"
    },
    "papermill": {
     "duration": 0.081909,
     "end_time": "2025-07-28T11:05:03.952620",
     "exception": false,
     "start_time": "2025-07-28T11:05:03.870711",
     "status": "completed"
    },
    "tags": []
   },
   "outputs": [],
   "source": [
    "X_calib = siab_calib.iloc[:,4:164]\n",
    "y_calib = siab_calib.iloc[:, [3]]"
   ]
  },
  {
   "cell_type": "code",
   "execution_count": 20,
   "id": "c34be9c3-6bd6-476e-acd3-845840e303be",
   "metadata": {
    "execution": {
     "iopub.execute_input": "2025-07-28T11:05:03.995030Z",
     "iopub.status.busy": "2025-07-28T11:05:03.994264Z",
     "iopub.status.idle": "2025-07-28T11:05:04.050711Z",
     "shell.execute_reply": "2025-07-28T11:05:04.049602Z"
    },
    "papermill": {
     "duration": 0.079236,
     "end_time": "2025-07-28T11:05:04.052318",
     "exception": false,
     "start_time": "2025-07-28T11:05:03.973082",
     "status": "completed"
    },
    "tags": []
   },
   "outputs": [],
   "source": [
    "X_test = siab_test.iloc[:,4:164]\n",
    "y_true = siab_test.iloc[:, [3]]"
   ]
  },
  {
   "cell_type": "code",
   "execution_count": 21,
   "id": "e6c733c5",
   "metadata": {
    "execution": {
     "iopub.execute_input": "2025-07-28T11:05:04.097012Z",
     "iopub.status.busy": "2025-07-28T11:05:04.095969Z",
     "iopub.status.idle": "2025-07-28T11:05:04.253334Z",
     "shell.execute_reply": "2025-07-28T11:05:04.252189Z"
    },
    "papermill": {
     "duration": 0.181142,
     "end_time": "2025-07-28T11:05:04.255330",
     "exception": false,
     "start_time": "2025-07-28T11:05:04.074188",
     "status": "completed"
    },
    "tags": []
   },
   "outputs": [],
   "source": [
    "# Auxiliary data needed downstream in the pipeline\n",
    "\n",
    "org_train = X_train.copy()\n",
    "org_test = X_test.copy()\n",
    "org_calib = X_calib.copy()"
   ]
  },
  {
   "cell_type": "markdown",
   "id": "0a4a1b33",
   "metadata": {
    "papermill": {
     "duration": 0.021123,
     "end_time": "2025-07-28T11:05:04.297501",
     "exception": false,
     "start_time": "2025-07-28T11:05:04.276378",
     "status": "completed"
    },
    "tags": []
   },
   "source": [
    "# Preprocessing Data"
   ]
  },
  {
   "cell_type": "code",
   "execution_count": 22,
   "id": "ca879031",
   "metadata": {
    "execution": {
     "iopub.execute_input": "2025-07-28T11:05:04.344512Z",
     "iopub.status.busy": "2025-07-28T11:05:04.343557Z",
     "iopub.status.idle": "2025-07-28T11:05:04.350180Z",
     "shell.execute_reply": "2025-07-28T11:05:04.349174Z"
    },
    "papermill": {
     "duration": 0.033273,
     "end_time": "2025-07-28T11:05:04.351850",
     "exception": false,
     "start_time": "2025-07-28T11:05:04.318577",
     "status": "completed"
    },
    "tags": []
   },
   "outputs": [],
   "source": [
    "# EXCLUDE PROTECTED FEATURES\n",
    "# ----------------------\n",
    "# \"exclude_features\": \"none\", # \"nationality\", \"sex\", \"nationality-sex\"\n",
    "\n",
    "excluded_features = universe[\"exclude_features\"].split(\"-\") # split, e.g.: \"nationality-sex\" -> [\"nationality\", \"sex\"]\n",
    "excluded_features_dictionary = {\n",
    "    \"nationality\": [\"maxdeutsch1\", \"maxdeutsch.Missing.\"],\n",
    "    \"sex\": [\"frau1\"],\n",
    "    \"age\": [\"age\"],\n",
    "}\n"
   ]
  },
  {
   "cell_type": "code",
   "execution_count": 23,
   "id": "b745ac60",
   "metadata": {
    "execution": {
     "iopub.execute_input": "2025-07-28T11:05:04.395270Z",
     "iopub.status.busy": "2025-07-28T11:05:04.394474Z",
     "iopub.status.idle": "2025-07-28T11:05:04.401144Z",
     "shell.execute_reply": "2025-07-28T11:05:04.400083Z"
    },
    "papermill": {
     "duration": 0.03046,
     "end_time": "2025-07-28T11:05:04.402822",
     "exception": false,
     "start_time": "2025-07-28T11:05:04.372362",
     "status": "completed"
    },
    "tags": []
   },
   "outputs": [],
   "source": [
    "# Code nice names to column names\n",
    "\n",
    "excluded_features_columns = [\n",
    "    excluded_features_dictionary[f] for f in excluded_features if len(f) > 0 and f != \"none\"\n",
    "]"
   ]
  },
  {
   "cell_type": "code",
   "execution_count": 24,
   "id": "f84f73a2",
   "metadata": {
    "execution": {
     "iopub.execute_input": "2025-07-28T11:05:04.447231Z",
     "iopub.status.busy": "2025-07-28T11:05:04.446331Z",
     "iopub.status.idle": "2025-07-28T11:05:04.453983Z",
     "shell.execute_reply": "2025-07-28T11:05:04.451981Z"
    },
    "papermill": {
     "duration": 0.032129,
     "end_time": "2025-07-28T11:05:04.455574",
     "exception": false,
     "start_time": "2025-07-28T11:05:04.423445",
     "status": "completed"
    },
    "tags": []
   },
   "outputs": [],
   "source": [
    "from utils import flatten_once\n",
    "\n",
    "excluded_features_columns = flatten_once(excluded_features_columns)"
   ]
  },
  {
   "cell_type": "code",
   "execution_count": 25,
   "id": "884dea22",
   "metadata": {
    "execution": {
     "iopub.execute_input": "2025-07-28T11:05:04.501656Z",
     "iopub.status.busy": "2025-07-28T11:05:04.501206Z",
     "iopub.status.idle": "2025-07-28T11:05:04.562365Z",
     "shell.execute_reply": "2025-07-28T11:05:04.561401Z"
    },
    "papermill": {
     "duration": 0.087499,
     "end_time": "2025-07-28T11:05:04.564123",
     "exception": false,
     "start_time": "2025-07-28T11:05:04.476624",
     "status": "completed"
    },
    "tags": []
   },
   "outputs": [
    {
     "name": "stdout",
     "output_type": "stream",
     "text": [
      "Dropping features: ['maxdeutsch1', 'maxdeutsch.Missing.', 'frau1']\n"
     ]
    }
   ],
   "source": [
    "if len(excluded_features_columns) > 0:\n",
    "    print(f\"Dropping features: {excluded_features_columns}\")\n",
    "    X_train.drop(excluded_features_columns, axis=1, inplace=True)"
   ]
  },
  {
   "cell_type": "code",
   "execution_count": 26,
   "id": "95ab8b16",
   "metadata": {
    "execution": {
     "iopub.execute_input": "2025-07-28T11:05:04.612689Z",
     "iopub.status.busy": "2025-07-28T11:05:04.612202Z",
     "iopub.status.idle": "2025-07-28T11:05:04.666356Z",
     "shell.execute_reply": "2025-07-28T11:05:04.665326Z"
    },
    "papermill": {
     "duration": 0.079685,
     "end_time": "2025-07-28T11:05:04.668091",
     "exception": false,
     "start_time": "2025-07-28T11:05:04.588406",
     "status": "completed"
    },
    "tags": []
   },
   "outputs": [
    {
     "name": "stdout",
     "output_type": "stream",
     "text": [
      "Dropping features: ['maxdeutsch1', 'maxdeutsch.Missing.', 'frau1']\n"
     ]
    }
   ],
   "source": [
    "if len(excluded_features_columns) > 0:\n",
    "    print(f\"Dropping features: {excluded_features_columns}\")\n",
    "    X_test.drop(excluded_features_columns, axis=1, inplace=True)"
   ]
  },
  {
   "cell_type": "code",
   "execution_count": 27,
   "id": "1853aaf5-fb9f-46cb-a2b5-8ea4ae2237e4",
   "metadata": {
    "execution": {
     "iopub.execute_input": "2025-07-28T11:05:04.714879Z",
     "iopub.status.busy": "2025-07-28T11:05:04.714367Z",
     "iopub.status.idle": "2025-07-28T11:05:04.772447Z",
     "shell.execute_reply": "2025-07-28T11:05:04.771476Z"
    },
    "papermill": {
     "duration": 0.083215,
     "end_time": "2025-07-28T11:05:04.774100",
     "exception": false,
     "start_time": "2025-07-28T11:05:04.690885",
     "status": "completed"
    },
    "tags": []
   },
   "outputs": [
    {
     "name": "stdout",
     "output_type": "stream",
     "text": [
      "Dropping features: ['maxdeutsch1', 'maxdeutsch.Missing.', 'frau1']\n"
     ]
    }
   ],
   "source": [
    "if len(excluded_features_columns) > 0:\n",
    "    print(f\"Dropping features: {excluded_features_columns}\")\n",
    "    X_calib.drop(excluded_features_columns, axis=1, inplace=True)"
   ]
  },
  {
   "cell_type": "code",
   "execution_count": 28,
   "id": "6727d079-03e5-481e-9d38-292a90b7a0a8",
   "metadata": {
    "execution": {
     "iopub.execute_input": "2025-07-28T11:05:04.819782Z",
     "iopub.status.busy": "2025-07-28T11:05:04.819267Z",
     "iopub.status.idle": "2025-07-28T11:05:04.824564Z",
     "shell.execute_reply": "2025-07-28T11:05:04.823586Z"
    },
    "papermill": {
     "duration": 0.030531,
     "end_time": "2025-07-28T11:05:04.826228",
     "exception": false,
     "start_time": "2025-07-28T11:05:04.795697",
     "status": "completed"
    },
    "tags": []
   },
   "outputs": [],
   "source": [
    "# SPLIT & STRATIFY DATA\n",
    "# ----------------------"
   ]
  },
  {
   "cell_type": "code",
   "execution_count": 29,
   "id": "76c4dc6d",
   "metadata": {
    "execution": {
     "iopub.execute_input": "2025-07-28T11:05:04.872156Z",
     "iopub.status.busy": "2025-07-28T11:05:04.871114Z",
     "iopub.status.idle": "2025-07-28T11:05:04.877485Z",
     "shell.execute_reply": "2025-07-28T11:05:04.876511Z"
    },
    "papermill": {
     "duration": 0.031444,
     "end_time": "2025-07-28T11:05:04.879110",
     "exception": false,
     "start_time": "2025-07-28T11:05:04.847666",
     "status": "completed"
    },
    "tags": []
   },
   "outputs": [],
   "source": [
    "# EXCLUDE CERTAIN SUBGROUPS\n",
    "# ----------------------\n",
    "\n",
    "mode = universe.get(\"exclude_subgroups\", \"keep-all\") \n",
    "# Fetches the exclude_subgroups setting from the universe dict.\n",
    "# Defaults to \"keep-all\" if the key is missing."
   ]
  },
  {
   "cell_type": "code",
   "execution_count": 30,
   "id": "21994072",
   "metadata": {
    "execution": {
     "iopub.execute_input": "2025-07-28T11:05:04.924241Z",
     "iopub.status.busy": "2025-07-28T11:05:04.923492Z",
     "iopub.status.idle": "2025-07-28T11:05:04.931117Z",
     "shell.execute_reply": "2025-07-28T11:05:04.930115Z"
    },
    "papermill": {
     "duration": 0.033865,
     "end_time": "2025-07-28T11:05:04.934385",
     "exception": false,
     "start_time": "2025-07-28T11:05:04.900520",
     "status": "completed"
    },
    "tags": []
   },
   "outputs": [],
   "source": [
    "if mode == \"keep-all\":\n",
    "    keep_mask = pd.Series(True, index=org_train.index)\n",
    "\n",
    "# org_train contains the original feature columns from features_org (in Simson)\n",
    "# features_org contains unprocessed features, for me X_train at beginning ???\n",
    "# For keep-all, creates a boolean Series (keep_mask) of all True, so no rows are removed.\n",
    "\n",
    "elif mode == \"drop-non-german\":\n",
    "    keep_mask = org_train[\"maxdeutsch1\"] == 1 # ??? what about missing values?\n",
    "\n",
    "else:\n",
    "    raise ValueError(f\"Unsupported mode for exclude_subgroups: {mode}\")\n"
   ]
  },
  {
   "cell_type": "code",
   "execution_count": 31,
   "id": "71651440",
   "metadata": {
    "execution": {
     "iopub.execute_input": "2025-07-28T11:05:04.978125Z",
     "iopub.status.busy": "2025-07-28T11:05:04.977372Z",
     "iopub.status.idle": "2025-07-28T11:05:04.985188Z",
     "shell.execute_reply": "2025-07-28T11:05:04.984152Z"
    },
    "papermill": {
     "duration": 0.030828,
     "end_time": "2025-07-28T11:05:04.986789",
     "exception": false,
     "start_time": "2025-07-28T11:05:04.955961",
     "status": "completed"
    },
    "tags": []
   },
   "outputs": [
    {
     "name": "stdout",
     "output_type": "stream",
     "text": [
      "Dropping 12995 rows (14.91%) where mode='drop-non-german'\n"
     ]
    }
   ],
   "source": [
    "n_drop = (~keep_mask).sum() # Calculates how many rows are set to be dropped\n",
    "if n_drop > 0:\n",
    "    pct = n_drop / len(keep_mask) * 100\n",
    "    print(f\"Dropping {n_drop} rows ({pct:.2f}%) where mode='{mode}'\")"
   ]
  },
  {
   "cell_type": "code",
   "execution_count": 32,
   "id": "5fb8eee5",
   "metadata": {
    "execution": {
     "iopub.execute_input": "2025-07-28T11:05:05.031879Z",
     "iopub.status.busy": "2025-07-28T11:05:05.031487Z",
     "iopub.status.idle": "2025-07-28T11:05:05.088318Z",
     "shell.execute_reply": "2025-07-28T11:05:05.087359Z"
    },
    "papermill": {
     "duration": 0.081794,
     "end_time": "2025-07-28T11:05:05.090281",
     "exception": false,
     "start_time": "2025-07-28T11:05:05.008487",
     "status": "completed"
    },
    "tags": []
   },
   "outputs": [],
   "source": [
    "X_train = X_train[keep_mask]"
   ]
  },
  {
   "cell_type": "code",
   "execution_count": 33,
   "id": "b202bb3a",
   "metadata": {
    "execution": {
     "iopub.execute_input": "2025-07-28T11:05:05.135703Z",
     "iopub.status.busy": "2025-07-28T11:05:05.135021Z",
     "iopub.status.idle": "2025-07-28T11:05:05.143395Z",
     "shell.execute_reply": "2025-07-28T11:05:05.142483Z"
    },
    "papermill": {
     "duration": 0.032856,
     "end_time": "2025-07-28T11:05:05.144949",
     "exception": false,
     "start_time": "2025-07-28T11:05:05.112093",
     "status": "completed"
    },
    "tags": []
   },
   "outputs": [],
   "source": [
    "y_train = y_train[keep_mask]"
   ]
  },
  {
   "cell_type": "markdown",
   "id": "493e2ac3",
   "metadata": {
    "papermill": {
     "duration": 0.021252,
     "end_time": "2025-07-28T11:05:05.187132",
     "exception": false,
     "start_time": "2025-07-28T11:05:05.165880",
     "status": "completed"
    },
    "tags": []
   },
   "source": [
    "# Model Training"
   ]
  },
  {
   "cell_type": "code",
   "execution_count": 34,
   "id": "679e1268",
   "metadata": {
    "execution": {
     "iopub.execute_input": "2025-07-28T11:05:05.231822Z",
     "iopub.status.busy": "2025-07-28T11:05:05.231231Z",
     "iopub.status.idle": "2025-07-28T11:05:05.342257Z",
     "shell.execute_reply": "2025-07-28T11:05:05.341179Z"
    },
    "papermill": {
     "duration": 0.136056,
     "end_time": "2025-07-28T11:05:05.344396",
     "exception": false,
     "start_time": "2025-07-28T11:05:05.208340",
     "status": "completed"
    },
    "tags": []
   },
   "outputs": [],
   "source": [
    "from sklearn.linear_model import LogisticRegression\n",
    "from sklearn.ensemble import GradientBoostingClassifier, RandomForestClassifier\n",
    "\n",
    "if (universe[\"model\"] == \"logreg\"):\n",
    "    model = LogisticRegression() #penalty=\"none\") #, solver=\"newton-cg\", max_iter=1) # include random_state=19 ?\n",
    "elif (universe[\"model\"] == \"penalized_logreg\"):\n",
    "    model = LogisticRegression(penalty=\"l2\", C=1.0) #, solver=\"newton-cg\", max_iter=1)\n",
    "elif (universe[\"model\"] == \"rf\"):\n",
    "    model = RandomForestClassifier(n_estimators=100, n_jobs=-1)\n",
    "elif (universe[\"model\"] == \"gbm\"):\n",
    "    model = GradientBoostingClassifier()\n",
    "elif (universe[\"model\"] == \"elasticnet\"):\n",
    "    model = LogisticRegression(penalty = 'elasticnet', solver = 'saga', l1_ratio = 0.5, max_iter=5000) # which solver to use?\n",
    "else:\n",
    "    raise \"Unsupported universe.model\""
   ]
  },
  {
   "cell_type": "code",
   "execution_count": 35,
   "id": "0cc8f744",
   "metadata": {
    "execution": {
     "iopub.execute_input": "2025-07-28T11:05:05.389751Z",
     "iopub.status.busy": "2025-07-28T11:05:05.389335Z",
     "iopub.status.idle": "2025-07-28T11:05:05.395708Z",
     "shell.execute_reply": "2025-07-28T11:05:05.394777Z"
    },
    "papermill": {
     "duration": 0.030986,
     "end_time": "2025-07-28T11:05:05.397239",
     "exception": false,
     "start_time": "2025-07-28T11:05:05.366253",
     "status": "completed"
    },
    "tags": []
   },
   "outputs": [],
   "source": [
    "import numpy as np\n",
    "from sklearn.pipeline import Pipeline\n",
    "from sklearn.preprocessing import StandardScaler\n",
    "\n",
    "model = Pipeline([\n",
    "    #(\"continuous_processor\", continuous_processor),\n",
    "    #(\"categorical_preprocessor\", categorical_preprocessor),\n",
    "    (\"scale\", StandardScaler() if universe[\"scale\"] == \"scale\" else None), \n",
    "    (\"model\", model),\n",
    "])"
   ]
  },
  {
   "cell_type": "code",
   "execution_count": 36,
   "id": "9442c04d",
   "metadata": {
    "execution": {
     "iopub.execute_input": "2025-07-28T11:05:05.443460Z",
     "iopub.status.busy": "2025-07-28T11:05:05.442905Z",
     "iopub.status.idle": "2025-07-28T11:05:09.668850Z",
     "shell.execute_reply": "2025-07-28T11:05:09.668109Z"
    },
    "papermill": {
     "duration": 4.250561,
     "end_time": "2025-07-28T11:05:09.670115",
     "exception": false,
     "start_time": "2025-07-28T11:05:05.419554",
     "status": "completed"
    },
    "tags": []
   },
   "outputs": [
    {
     "name": "stderr",
     "output_type": "stream",
     "text": [
      "/dss/dsshome1/0C/ra93lal2/.local/share/virtualenvs/CMA_Fairness_v2-3j10GkSs/lib/python3.10/site-packages/sklearn/linear_model/_logistic.py:444: ConvergenceWarning: lbfgs failed to converge (status=1):\n",
      "STOP: TOTAL NO. of ITERATIONS REACHED LIMIT.\n",
      "\n",
      "Increase the number of iterations (max_iter) or scale the data as shown in:\n",
      "    https://scikit-learn.org/stable/modules/preprocessing.html\n",
      "Please also refer to the documentation for alternative solver options:\n",
      "    https://scikit-learn.org/stable/modules/linear_model.html#logistic-regression\n",
      "  n_iter_i = _check_optimize_result(\n"
     ]
    },
    {
     "data": {
      "text/html": [
       "<style>#sk-container-id-1 {color: black;background-color: white;}#sk-container-id-1 pre{padding: 0;}#sk-container-id-1 div.sk-toggleable {background-color: white;}#sk-container-id-1 label.sk-toggleable__label {cursor: pointer;display: block;width: 100%;margin-bottom: 0;padding: 0.3em;box-sizing: border-box;text-align: center;}#sk-container-id-1 label.sk-toggleable__label-arrow:before {content: \"▸\";float: left;margin-right: 0.25em;color: #696969;}#sk-container-id-1 label.sk-toggleable__label-arrow:hover:before {color: black;}#sk-container-id-1 div.sk-estimator:hover label.sk-toggleable__label-arrow:before {color: black;}#sk-container-id-1 div.sk-toggleable__content {max-height: 0;max-width: 0;overflow: hidden;text-align: left;background-color: #f0f8ff;}#sk-container-id-1 div.sk-toggleable__content pre {margin: 0.2em;color: black;border-radius: 0.25em;background-color: #f0f8ff;}#sk-container-id-1 input.sk-toggleable__control:checked~div.sk-toggleable__content {max-height: 200px;max-width: 100%;overflow: auto;}#sk-container-id-1 input.sk-toggleable__control:checked~label.sk-toggleable__label-arrow:before {content: \"▾\";}#sk-container-id-1 div.sk-estimator input.sk-toggleable__control:checked~label.sk-toggleable__label {background-color: #d4ebff;}#sk-container-id-1 div.sk-label input.sk-toggleable__control:checked~label.sk-toggleable__label {background-color: #d4ebff;}#sk-container-id-1 input.sk-hidden--visually {border: 0;clip: rect(1px 1px 1px 1px);clip: rect(1px, 1px, 1px, 1px);height: 1px;margin: -1px;overflow: hidden;padding: 0;position: absolute;width: 1px;}#sk-container-id-1 div.sk-estimator {font-family: monospace;background-color: #f0f8ff;border: 1px dotted black;border-radius: 0.25em;box-sizing: border-box;margin-bottom: 0.5em;}#sk-container-id-1 div.sk-estimator:hover {background-color: #d4ebff;}#sk-container-id-1 div.sk-parallel-item::after {content: \"\";width: 100%;border-bottom: 1px solid gray;flex-grow: 1;}#sk-container-id-1 div.sk-label:hover label.sk-toggleable__label {background-color: #d4ebff;}#sk-container-id-1 div.sk-serial::before {content: \"\";position: absolute;border-left: 1px solid gray;box-sizing: border-box;top: 0;bottom: 0;left: 50%;z-index: 0;}#sk-container-id-1 div.sk-serial {display: flex;flex-direction: column;align-items: center;background-color: white;padding-right: 0.2em;padding-left: 0.2em;position: relative;}#sk-container-id-1 div.sk-item {position: relative;z-index: 1;}#sk-container-id-1 div.sk-parallel {display: flex;align-items: stretch;justify-content: center;background-color: white;position: relative;}#sk-container-id-1 div.sk-item::before, #sk-container-id-1 div.sk-parallel-item::before {content: \"\";position: absolute;border-left: 1px solid gray;box-sizing: border-box;top: 0;bottom: 0;left: 50%;z-index: -1;}#sk-container-id-1 div.sk-parallel-item {display: flex;flex-direction: column;z-index: 1;position: relative;background-color: white;}#sk-container-id-1 div.sk-parallel-item:first-child::after {align-self: flex-end;width: 50%;}#sk-container-id-1 div.sk-parallel-item:last-child::after {align-self: flex-start;width: 50%;}#sk-container-id-1 div.sk-parallel-item:only-child::after {width: 0;}#sk-container-id-1 div.sk-dashed-wrapped {border: 1px dashed gray;margin: 0 0.4em 0.5em 0.4em;box-sizing: border-box;padding-bottom: 0.4em;background-color: white;}#sk-container-id-1 div.sk-label label {font-family: monospace;font-weight: bold;display: inline-block;line-height: 1.2em;}#sk-container-id-1 div.sk-label-container {text-align: center;}#sk-container-id-1 div.sk-container {/* jupyter's `normalize.less` sets `[hidden] { display: none; }` but bootstrap.min.css set `[hidden] { display: none !important; }` so we also need the `!important` here to be able to override the default hidden behavior on the sphinx rendered scikit-learn.org. See: https://github.com/scikit-learn/scikit-learn/issues/21755 */display: inline-block !important;position: relative;}#sk-container-id-1 div.sk-text-repr-fallback {display: none;}</style><div id=\"sk-container-id-1\" class=\"sk-top-container\"><div class=\"sk-text-repr-fallback\"><pre>Pipeline(steps=[(&#x27;scale&#x27;, None), (&#x27;model&#x27;, LogisticRegression())])</pre><b>In a Jupyter environment, please rerun this cell to show the HTML representation or trust the notebook. <br />On GitHub, the HTML representation is unable to render, please try loading this page with nbviewer.org.</b></div><div class=\"sk-container\" hidden><div class=\"sk-item sk-dashed-wrapped\"><div class=\"sk-label-container\"><div class=\"sk-label sk-toggleable\"><input class=\"sk-toggleable__control sk-hidden--visually\" id=\"sk-estimator-id-1\" type=\"checkbox\" ><label for=\"sk-estimator-id-1\" class=\"sk-toggleable__label sk-toggleable__label-arrow\">Pipeline</label><div class=\"sk-toggleable__content\"><pre>Pipeline(steps=[(&#x27;scale&#x27;, None), (&#x27;model&#x27;, LogisticRegression())])</pre></div></div></div><div class=\"sk-serial\"><div class=\"sk-item\"><div class=\"sk-estimator sk-toggleable\"><input class=\"sk-toggleable__control sk-hidden--visually\" id=\"sk-estimator-id-2\" type=\"checkbox\" ><label for=\"sk-estimator-id-2\" class=\"sk-toggleable__label sk-toggleable__label-arrow\">None</label><div class=\"sk-toggleable__content\"><pre>None</pre></div></div></div><div class=\"sk-item\"><div class=\"sk-estimator sk-toggleable\"><input class=\"sk-toggleable__control sk-hidden--visually\" id=\"sk-estimator-id-3\" type=\"checkbox\" ><label for=\"sk-estimator-id-3\" class=\"sk-toggleable__label sk-toggleable__label-arrow\">LogisticRegression</label><div class=\"sk-toggleable__content\"><pre>LogisticRegression()</pre></div></div></div></div></div></div></div>"
      ],
      "text/plain": [
       "Pipeline(steps=[('scale', None), ('model', LogisticRegression())])"
      ]
     },
     "execution_count": 36,
     "metadata": {},
     "output_type": "execute_result"
    }
   ],
   "source": [
    "model.fit(X_train, y_train.values.ravel())"
   ]
  },
  {
   "cell_type": "code",
   "execution_count": 37,
   "id": "af59f8c0",
   "metadata": {
    "execution": {
     "iopub.execute_input": "2025-07-28T11:05:09.702805Z",
     "iopub.status.busy": "2025-07-28T11:05:09.702182Z",
     "iopub.status.idle": "2025-07-28T11:05:09.706844Z",
     "shell.execute_reply": "2025-07-28T11:05:09.706092Z"
    },
    "papermill": {
     "duration": 0.023256,
     "end_time": "2025-07-28T11:05:09.708242",
     "exception": false,
     "start_time": "2025-07-28T11:05:09.684986",
     "status": "completed"
    },
    "tags": []
   },
   "outputs": [],
   "source": [
    "from fairness_multiverse.universe import predict_w_threshold"
   ]
  },
  {
   "cell_type": "code",
   "execution_count": 38,
   "id": "a7cf2e16",
   "metadata": {
    "execution": {
     "iopub.execute_input": "2025-07-28T11:05:09.735556Z",
     "iopub.status.busy": "2025-07-28T11:05:09.735000Z",
     "iopub.status.idle": "2025-07-28T11:05:09.830107Z",
     "shell.execute_reply": "2025-07-28T11:05:09.829062Z"
    },
    "papermill": {
     "duration": 0.110689,
     "end_time": "2025-07-28T11:05:09.832141",
     "exception": false,
     "start_time": "2025-07-28T11:05:09.721452",
     "status": "completed"
    },
    "tags": []
   },
   "outputs": [
    {
     "data": {
      "text/plain": [
       "0.8654999442648534"
      ]
     },
     "execution_count": 38,
     "metadata": {},
     "output_type": "execute_result"
    }
   ],
   "source": [
    "probs_test = model.predict_proba(X_test)\n",
    "\n",
    "'''\n",
    "Below code returns a boolean array (or binary 0/1 array depending on how it’s used) where each element \n",
    "is True if the probability of class 1 is greater than or equal to the threshold, and False otherwise.\n",
    "'''\n",
    "y_pred_default = predict_w_threshold(probs_test, 0.5)\n",
    "\n",
    "from sklearn.metrics import accuracy_score\n",
    "\n",
    "# Naive prediction\n",
    "accuracy_score(y_true = y_true, y_pred = y_pred_default)"
   ]
  },
  {
   "cell_type": "code",
   "execution_count": 39,
   "id": "081964c3",
   "metadata": {
    "execution": {
     "iopub.execute_input": "2025-07-28T11:05:09.890469Z",
     "iopub.status.busy": "2025-07-28T11:05:09.889895Z",
     "iopub.status.idle": "2025-07-28T11:05:09.979845Z",
     "shell.execute_reply": "2025-07-28T11:05:09.978843Z"
    },
    "papermill": {
     "duration": 0.124368,
     "end_time": "2025-07-28T11:05:09.985106",
     "exception": false,
     "start_time": "2025-07-28T11:05:09.860738",
     "status": "completed"
    },
    "tags": []
   },
   "outputs": [
    {
     "data": {
      "text/plain": [
       "array([0, 0, 0, ..., 0, 0, 0])"
      ]
     },
     "execution_count": 39,
     "metadata": {},
     "output_type": "execute_result"
    }
   ],
   "source": [
    "model.predict(X_test)"
   ]
  },
  {
   "cell_type": "markdown",
   "id": "56c9705b",
   "metadata": {
    "papermill": {
     "duration": 0.012895,
     "end_time": "2025-07-28T11:05:10.011832",
     "exception": false,
     "start_time": "2025-07-28T11:05:09.998937",
     "status": "completed"
    },
    "tags": []
   },
   "source": [
    "# Conformal Prediction"
   ]
  },
  {
   "cell_type": "code",
   "execution_count": 40,
   "id": "160ec6ff",
   "metadata": {
    "execution": {
     "iopub.execute_input": "2025-07-28T11:05:10.039890Z",
     "iopub.status.busy": "2025-07-28T11:05:10.039352Z",
     "iopub.status.idle": "2025-07-28T11:05:10.043853Z",
     "shell.execute_reply": "2025-07-28T11:05:10.043063Z"
    },
    "papermill": {
     "duration": 0.020453,
     "end_time": "2025-07-28T11:05:10.045269",
     "exception": false,
     "start_time": "2025-07-28T11:05:10.024816",
     "status": "completed"
    },
    "tags": []
   },
   "outputs": [],
   "source": [
    "# Miscoverage level for conformal prediction (10% allowed error rate => 90% target coverage)\n",
    "alpha = 0.1"
   ]
  },
  {
   "cell_type": "code",
   "execution_count": 41,
   "id": "eadf4555-3dd3-440e-8e35-f82a4ad9f855",
   "metadata": {
    "execution": {
     "iopub.execute_input": "2025-07-28T11:05:10.073120Z",
     "iopub.status.busy": "2025-07-28T11:05:10.072607Z",
     "iopub.status.idle": "2025-07-28T11:05:10.151723Z",
     "shell.execute_reply": "2025-07-28T11:05:10.150737Z"
    },
    "papermill": {
     "duration": 0.096645,
     "end_time": "2025-07-28T11:05:10.155164",
     "exception": false,
     "start_time": "2025-07-28T11:05:10.058519",
     "status": "completed"
    },
    "tags": []
   },
   "outputs": [],
   "source": [
    "probs_calib = model.predict_proba(X_calib)"
   ]
  },
  {
   "cell_type": "code",
   "execution_count": 42,
   "id": "2ed93547-6d5d-4983-9b36-1ecb300da49a",
   "metadata": {
    "execution": {
     "iopub.execute_input": "2025-07-28T11:05:10.207399Z",
     "iopub.status.busy": "2025-07-28T11:05:10.206691Z",
     "iopub.status.idle": "2025-07-28T11:05:10.211895Z",
     "shell.execute_reply": "2025-07-28T11:05:10.211052Z"
    },
    "papermill": {
     "duration": 0.032466,
     "end_time": "2025-07-28T11:05:10.213213",
     "exception": false,
     "start_time": "2025-07-28T11:05:10.180747",
     "status": "completed"
    },
    "tags": []
   },
   "outputs": [],
   "source": [
    "y_calib = y_calib.values.ravel().astype(int)"
   ]
  },
  {
   "cell_type": "code",
   "execution_count": 43,
   "id": "65d1320d-f588-4b38-9072-62af1ae97f7d",
   "metadata": {
    "execution": {
     "iopub.execute_input": "2025-07-28T11:05:10.260307Z",
     "iopub.status.busy": "2025-07-28T11:05:10.259769Z",
     "iopub.status.idle": "2025-07-28T11:05:10.267016Z",
     "shell.execute_reply": "2025-07-28T11:05:10.265941Z"
    },
    "papermill": {
     "duration": 0.036467,
     "end_time": "2025-07-28T11:05:10.268912",
     "exception": false,
     "start_time": "2025-07-28T11:05:10.232445",
     "status": "completed"
    },
    "tags": []
   },
   "outputs": [],
   "source": [
    "from fairness_multiverse.conformal import compute_nc_scores\n",
    "\n",
    "# Compute nonconformity scores on calibration set (1 - probability of true class)\n",
    "nc_scores = compute_nc_scores(probs_calib, y_calib)"
   ]
  },
  {
   "cell_type": "code",
   "execution_count": 44,
   "id": "df3b8ca3-53b7-43d5-9667-7c85da7aeda2",
   "metadata": {
    "execution": {
     "iopub.execute_input": "2025-07-28T11:05:10.322424Z",
     "iopub.status.busy": "2025-07-28T11:05:10.321881Z",
     "iopub.status.idle": "2025-07-28T11:05:10.329204Z",
     "shell.execute_reply": "2025-07-28T11:05:10.328213Z"
    },
    "papermill": {
     "duration": 0.037004,
     "end_time": "2025-07-28T11:05:10.330957",
     "exception": false,
     "start_time": "2025-07-28T11:05:10.293953",
     "status": "completed"
    },
    "tags": []
   },
   "outputs": [],
   "source": [
    "from fairness_multiverse.conformal import find_threshold\n",
    "\n",
    "# Find conformal threshold q_hat for the given alpha (split conformal method)\n",
    "q_hat = find_threshold(nc_scores, alpha)"
   ]
  },
  {
   "cell_type": "code",
   "execution_count": 45,
   "id": "4d29e6c1-0ef6-4aa4-b8fe-4fe79b0d033a",
   "metadata": {
    "execution": {
     "iopub.execute_input": "2025-07-28T11:05:10.384413Z",
     "iopub.status.busy": "2025-07-28T11:05:10.383759Z",
     "iopub.status.idle": "2025-07-28T11:05:10.392310Z",
     "shell.execute_reply": "2025-07-28T11:05:10.391139Z"
    },
    "papermill": {
     "duration": 0.038296,
     "end_time": "2025-07-28T11:05:10.394393",
     "exception": false,
     "start_time": "2025-07-28T11:05:10.356097",
     "status": "completed"
    },
    "tags": []
   },
   "outputs": [
    {
     "data": {
      "text/plain": [
       "0.6671810359355517"
      ]
     },
     "execution_count": 45,
     "metadata": {},
     "output_type": "execute_result"
    }
   ],
   "source": [
    "q_hat"
   ]
  },
  {
   "cell_type": "code",
   "execution_count": 46,
   "id": "92460794-cdac-4be2-ba28-f28c0515a6fb",
   "metadata": {
    "execution": {
     "iopub.execute_input": "2025-07-28T11:05:10.441960Z",
     "iopub.status.busy": "2025-07-28T11:05:10.441346Z",
     "iopub.status.idle": "2025-07-28T11:05:11.223496Z",
     "shell.execute_reply": "2025-07-28T11:05:11.222481Z"
    },
    "papermill": {
     "duration": 0.803047,
     "end_time": "2025-07-28T11:05:11.225510",
     "exception": false,
     "start_time": "2025-07-28T11:05:10.422463",
     "status": "completed"
    },
    "tags": []
   },
   "outputs": [],
   "source": [
    "from fairness_multiverse.conformal import predict_conformal_sets\n",
    "\n",
    "# Generate prediction sets for each test example\n",
    "pred_sets = predict_conformal_sets(model, X_test, q_hat)"
   ]
  },
  {
   "cell_type": "code",
   "execution_count": 47,
   "id": "d90c9a65-e6db-4f5d-80cd-e68fb7e46829",
   "metadata": {
    "execution": {
     "iopub.execute_input": "2025-07-28T11:05:11.273432Z",
     "iopub.status.busy": "2025-07-28T11:05:11.273112Z",
     "iopub.status.idle": "2025-07-28T11:05:11.278107Z",
     "shell.execute_reply": "2025-07-28T11:05:11.277319Z"
    },
    "papermill": {
     "duration": 0.028011,
     "end_time": "2025-07-28T11:05:11.279421",
     "exception": false,
     "start_time": "2025-07-28T11:05:11.251410",
     "status": "completed"
    },
    "tags": []
   },
   "outputs": [],
   "source": [
    "y_true = y_true.squeeze()"
   ]
  },
  {
   "cell_type": "code",
   "execution_count": 48,
   "id": "3a58a54a-1e68-46b9-927a-df01f18aebc8",
   "metadata": {
    "execution": {
     "iopub.execute_input": "2025-07-28T11:05:11.309894Z",
     "iopub.status.busy": "2025-07-28T11:05:11.309554Z",
     "iopub.status.idle": "2025-07-28T11:05:12.015579Z",
     "shell.execute_reply": "2025-07-28T11:05:12.014508Z"
    },
    "papermill": {
     "duration": 0.72521,
     "end_time": "2025-07-28T11:05:12.017230",
     "exception": false,
     "start_time": "2025-07-28T11:05:11.292020",
     "status": "completed"
    },
    "tags": []
   },
   "outputs": [],
   "source": [
    "from fairness_multiverse.conformal import evaluate_sets\n",
    "\n",
    "# Evaluate coverage and average set size on test data\n",
    "metrics = evaluate_sets(pred_sets, y_true)"
   ]
  },
  {
   "cell_type": "markdown",
   "id": "2b569c12-9aaa-4c88-98c9-bbcd0cf3ebb8",
   "metadata": {
    "papermill": {
     "duration": 0.023487,
     "end_time": "2025-07-28T11:05:12.063545",
     "exception": false,
     "start_time": "2025-07-28T11:05:12.040058",
     "status": "completed"
    },
    "tags": []
   },
   "source": [
    "# CP Metrics"
   ]
  },
  {
   "cell_type": "code",
   "execution_count": 49,
   "id": "5ce0a5cb-201f-45a0-ade5-94c7f0bd6095",
   "metadata": {
    "execution": {
     "iopub.execute_input": "2025-07-28T11:05:12.101769Z",
     "iopub.status.busy": "2025-07-28T11:05:12.101355Z",
     "iopub.status.idle": "2025-07-28T11:05:12.107630Z",
     "shell.execute_reply": "2025-07-28T11:05:12.106900Z"
    },
    "papermill": {
     "duration": 0.020859,
     "end_time": "2025-07-28T11:05:12.108942",
     "exception": false,
     "start_time": "2025-07-28T11:05:12.088083",
     "status": "completed"
    },
    "tags": []
   },
   "outputs": [
    {
     "data": {
      "text/plain": [
       "{'coverage': 0.9125515550105897, 'avg_size': 1.2205662690892878}"
      ]
     },
     "execution_count": 49,
     "metadata": {},
     "output_type": "execute_result"
    }
   ],
   "source": [
    "metrics"
   ]
  },
  {
   "cell_type": "code",
   "execution_count": 50,
   "id": "9b9a838d-31c9-430b-ae14-12baee460d17",
   "metadata": {
    "execution": {
     "iopub.execute_input": "2025-07-28T11:05:12.142688Z",
     "iopub.status.busy": "2025-07-28T11:05:12.142372Z",
     "iopub.status.idle": "2025-07-28T11:05:12.148533Z",
     "shell.execute_reply": "2025-07-28T11:05:12.147437Z"
    },
    "papermill": {
     "duration": 0.028627,
     "end_time": "2025-07-28T11:05:12.150145",
     "exception": false,
     "start_time": "2025-07-28T11:05:12.121518",
     "status": "completed"
    },
    "tags": []
   },
   "outputs": [],
   "source": [
    "example_universe = universe.copy()\n",
    "universe_training_size = example_universe.get(\"training_size\")\n",
    "universe_scale = example_universe.get(\"scale\")\n",
    "universe_model = example_universe.get(\"model\")\n",
    "universe_exclude_features = example_universe.get(\"exclude_features\")\n",
    "universe_exclude_subgroups = example_universe.get(\"exclude_subgroups\")"
   ]
  },
  {
   "cell_type": "code",
   "execution_count": 51,
   "id": "f4b6a8ac-9dc0-4245-8a91-5b3b5999c4f9",
   "metadata": {
    "execution": {
     "iopub.execute_input": "2025-07-28T11:05:12.200618Z",
     "iopub.status.busy": "2025-07-28T11:05:12.200003Z",
     "iopub.status.idle": "2025-07-28T11:05:12.207302Z",
     "shell.execute_reply": "2025-07-28T11:05:12.206262Z"
    },
    "papermill": {
     "duration": 0.032678,
     "end_time": "2025-07-28T11:05:12.209078",
     "exception": false,
     "start_time": "2025-07-28T11:05:12.176400",
     "status": "completed"
    },
    "tags": []
   },
   "outputs": [],
   "source": [
    "cp_metrics_dict = {\n",
    "    \"universe_id\": [universe_id],\n",
    "    \"universe_training_size\": [universe_training_size],\n",
    "    \"universe_scale\": [universe_scale],\n",
    "    \"universe_model\": [universe_model],\n",
    "    \"universe_exclude_features\": [universe_exclude_features],\n",
    "    \"universe_exclude_subgroups\": [universe_exclude_subgroups],\n",
    "    \"q_hat\": [q_hat],\n",
    "    \"coverage\": [metrics[\"coverage\"]],\n",
    "    \"avg_size\": [metrics[\"avg_size\"]],\n",
    "}"
   ]
  },
  {
   "cell_type": "code",
   "execution_count": 52,
   "id": "908acbb1-0371-4915-85ca-3fa520d2efe2",
   "metadata": {
    "execution": {
     "iopub.execute_input": "2025-07-28T11:05:12.267259Z",
     "iopub.status.busy": "2025-07-28T11:05:12.266381Z",
     "iopub.status.idle": "2025-07-28T11:05:12.274899Z",
     "shell.execute_reply": "2025-07-28T11:05:12.273883Z"
    },
    "papermill": {
     "duration": 0.039298,
     "end_time": "2025-07-28T11:05:12.276710",
     "exception": false,
     "start_time": "2025-07-28T11:05:12.237412",
     "status": "completed"
    },
    "tags": []
   },
   "outputs": [
    {
     "data": {
      "text/plain": [
       "{'universe_id': ['ec1d0f06d37974589b9caaa635ad0009'],\n",
       " 'universe_training_size': ['2014'],\n",
       " 'universe_scale': ['do-not-scale'],\n",
       " 'universe_model': ['penalized_logreg'],\n",
       " 'universe_exclude_features': ['nationality-sex'],\n",
       " 'universe_exclude_subgroups': ['drop-non-german'],\n",
       " 'q_hat': [0.6671810359355517],\n",
       " 'coverage': [0.9125515550105897],\n",
       " 'avg_size': [1.2205662690892878]}"
      ]
     },
     "execution_count": 52,
     "metadata": {},
     "output_type": "execute_result"
    }
   ],
   "source": [
    "cp_metrics_dict"
   ]
  },
  {
   "cell_type": "code",
   "execution_count": 53,
   "id": "33007efc-14e9-4ec6-97ac-56a455c82265",
   "metadata": {
    "execution": {
     "iopub.execute_input": "2025-07-28T11:05:12.334292Z",
     "iopub.status.busy": "2025-07-28T11:05:12.333659Z",
     "iopub.status.idle": "2025-07-28T11:05:12.341406Z",
     "shell.execute_reply": "2025-07-28T11:05:12.340319Z"
    },
    "papermill": {
     "duration": 0.038509,
     "end_time": "2025-07-28T11:05:12.343324",
     "exception": false,
     "start_time": "2025-07-28T11:05:12.304815",
     "status": "completed"
    },
    "tags": []
   },
   "outputs": [],
   "source": [
    "cp_metrics_df = pd.DataFrame(cp_metrics_dict)"
   ]
  },
  {
   "cell_type": "code",
   "execution_count": 54,
   "id": "db12611b-57b2-4910-b9d0-355adfd6e7bf",
   "metadata": {
    "execution": {
     "iopub.execute_input": "2025-07-28T11:05:12.400184Z",
     "iopub.status.busy": "2025-07-28T11:05:12.399425Z",
     "iopub.status.idle": "2025-07-28T11:05:12.419486Z",
     "shell.execute_reply": "2025-07-28T11:05:12.418338Z"
    },
    "papermill": {
     "duration": 0.050589,
     "end_time": "2025-07-28T11:05:12.421464",
     "exception": false,
     "start_time": "2025-07-28T11:05:12.370875",
     "status": "completed"
    },
    "tags": []
   },
   "outputs": [
    {
     "data": {
      "text/html": [
       "<div>\n",
       "<style scoped>\n",
       "    .dataframe tbody tr th:only-of-type {\n",
       "        vertical-align: middle;\n",
       "    }\n",
       "\n",
       "    .dataframe tbody tr th {\n",
       "        vertical-align: top;\n",
       "    }\n",
       "\n",
       "    .dataframe thead th {\n",
       "        text-align: right;\n",
       "    }\n",
       "</style>\n",
       "<table border=\"1\" class=\"dataframe\">\n",
       "  <thead>\n",
       "    <tr style=\"text-align: right;\">\n",
       "      <th></th>\n",
       "      <th>universe_id</th>\n",
       "      <th>universe_training_size</th>\n",
       "      <th>universe_scale</th>\n",
       "      <th>universe_model</th>\n",
       "      <th>universe_exclude_features</th>\n",
       "      <th>universe_exclude_subgroups</th>\n",
       "      <th>q_hat</th>\n",
       "      <th>coverage</th>\n",
       "      <th>avg_size</th>\n",
       "    </tr>\n",
       "  </thead>\n",
       "  <tbody>\n",
       "    <tr>\n",
       "      <th>0</th>\n",
       "      <td>ec1d0f06d37974589b9caaa635ad0009</td>\n",
       "      <td>2014</td>\n",
       "      <td>do-not-scale</td>\n",
       "      <td>penalized_logreg</td>\n",
       "      <td>nationality-sex</td>\n",
       "      <td>drop-non-german</td>\n",
       "      <td>0.667181</td>\n",
       "      <td>0.912552</td>\n",
       "      <td>1.220566</td>\n",
       "    </tr>\n",
       "  </tbody>\n",
       "</table>\n",
       "</div>"
      ],
      "text/plain": [
       "                        universe_id universe_training_size universe_scale  \\\n",
       "0  ec1d0f06d37974589b9caaa635ad0009                   2014   do-not-scale   \n",
       "\n",
       "     universe_model universe_exclude_features universe_exclude_subgroups  \\\n",
       "0  penalized_logreg           nationality-sex            drop-non-german   \n",
       "\n",
       "      q_hat  coverage  avg_size  \n",
       "0  0.667181  0.912552  1.220566  "
      ]
     },
     "execution_count": 54,
     "metadata": {},
     "output_type": "execute_result"
    }
   ],
   "source": [
    "cp_metrics_df"
   ]
  },
  {
   "cell_type": "code",
   "execution_count": 55,
   "id": "b7fbde55-a0a1-47e4-9af6-fe4a17fa8c61",
   "metadata": {
    "execution": {
     "iopub.execute_input": "2025-07-28T11:05:12.479006Z",
     "iopub.status.busy": "2025-07-28T11:05:12.478405Z",
     "iopub.status.idle": "2025-07-28T11:05:12.484179Z",
     "shell.execute_reply": "2025-07-28T11:05:12.483204Z"
    },
    "papermill": {
     "duration": 0.036643,
     "end_time": "2025-07-28T11:05:12.485985",
     "exception": false,
     "start_time": "2025-07-28T11:05:12.449342",
     "status": "completed"
    },
    "tags": []
   },
   "outputs": [],
   "source": [
    "# Conditional Coverage & looking at subgroups"
   ]
  },
  {
   "cell_type": "code",
   "execution_count": 56,
   "id": "027ae886-68dd-4141-96c7-805a5450e1ef",
   "metadata": {
    "execution": {
     "iopub.execute_input": "2025-07-28T11:05:12.543850Z",
     "iopub.status.busy": "2025-07-28T11:05:12.542896Z",
     "iopub.status.idle": "2025-07-28T11:05:12.838450Z",
     "shell.execute_reply": "2025-07-28T11:05:12.837338Z"
    },
    "papermill": {
     "duration": 0.32689,
     "end_time": "2025-07-28T11:05:12.840712",
     "exception": false,
     "start_time": "2025-07-28T11:05:12.513822",
     "status": "completed"
    },
    "tags": []
   },
   "outputs": [],
   "source": [
    "from fairness_multiverse.conformal import build_cp_groups\n",
    "\n",
    "cp_groups_df = build_cp_groups(pred_sets, y_true, X_test.index, org_test)\n",
    "#needs universe_id and setting"
   ]
  },
  {
   "cell_type": "code",
   "execution_count": 57,
   "id": "01d5802c-663a-4d1f-9d69-e036faaffbf7",
   "metadata": {
    "execution": {
     "iopub.execute_input": "2025-07-28T11:05:12.898637Z",
     "iopub.status.busy": "2025-07-28T11:05:12.898109Z",
     "iopub.status.idle": "2025-07-28T11:05:12.903268Z",
     "shell.execute_reply": "2025-07-28T11:05:12.902387Z"
    },
    "papermill": {
     "duration": 0.036178,
     "end_time": "2025-07-28T11:05:12.904963",
     "exception": false,
     "start_time": "2025-07-28T11:05:12.868785",
     "status": "completed"
    },
    "tags": []
   },
   "outputs": [],
   "source": [
    "#delete\n",
    "#cp_groups_df"
   ]
  },
  {
   "cell_type": "code",
   "execution_count": 58,
   "id": "fa424af1-d1eb-443d-b717-2d279ada8408",
   "metadata": {
    "execution": {
     "iopub.execute_input": "2025-07-28T11:05:12.946498Z",
     "iopub.status.busy": "2025-07-28T11:05:12.946108Z",
     "iopub.status.idle": "2025-07-28T11:05:12.950444Z",
     "shell.execute_reply": "2025-07-28T11:05:12.949502Z"
    },
    "papermill": {
     "duration": 0.02301,
     "end_time": "2025-07-28T11:05:12.951838",
     "exception": false,
     "start_time": "2025-07-28T11:05:12.928828",
     "status": "completed"
    },
    "tags": []
   },
   "outputs": [],
   "source": [
    "#delete\n",
    "#percentage = (cp_groups_df['nongerman_female'] == 1).mean() * 100\n",
    "#print(percentage)\n"
   ]
  },
  {
   "cell_type": "code",
   "execution_count": 59,
   "id": "6cbdab96-b2b2-45af-ad54-d0516db2e28d",
   "metadata": {
    "execution": {
     "iopub.execute_input": "2025-07-28T11:05:12.980849Z",
     "iopub.status.busy": "2025-07-28T11:05:12.980313Z",
     "iopub.status.idle": "2025-07-28T11:05:14.583971Z",
     "shell.execute_reply": "2025-07-28T11:05:14.582693Z"
    },
    "papermill": {
     "duration": 1.620458,
     "end_time": "2025-07-28T11:05:14.586260",
     "exception": false,
     "start_time": "2025-07-28T11:05:12.965802",
     "status": "completed"
    },
    "tags": []
   },
   "outputs": [],
   "source": [
    "# Define covered = 1 if true_label is in the predicted set\n",
    "cp_groups_df['covered'] = cp_groups_df.apply(\n",
    "    lambda r: int(r['true_label'] in r['pred_set']),\n",
    "    axis=1\n",
    ")"
   ]
  },
  {
   "cell_type": "code",
   "execution_count": 60,
   "id": "338ff529-1a6b-4b87-a931-8e4788d52aad",
   "metadata": {
    "execution": {
     "iopub.execute_input": "2025-07-28T11:05:14.652476Z",
     "iopub.status.busy": "2025-07-28T11:05:14.651945Z",
     "iopub.status.idle": "2025-07-28T11:05:14.658092Z",
     "shell.execute_reply": "2025-07-28T11:05:14.657050Z"
    },
    "papermill": {
     "duration": 0.041848,
     "end_time": "2025-07-28T11:05:14.659760",
     "exception": false,
     "start_time": "2025-07-28T11:05:14.617912",
     "status": "completed"
    },
    "tags": []
   },
   "outputs": [],
   "source": [
    "#cp_groups_df"
   ]
  },
  {
   "cell_type": "code",
   "execution_count": 61,
   "id": "90032e27-66df-4540-9169-4e89cfbaa758",
   "metadata": {
    "execution": {
     "iopub.execute_input": "2025-07-28T11:05:14.714595Z",
     "iopub.status.busy": "2025-07-28T11:05:14.713829Z",
     "iopub.status.idle": "2025-07-28T11:05:14.726239Z",
     "shell.execute_reply": "2025-07-28T11:05:14.725210Z"
    },
    "papermill": {
     "duration": 0.042606,
     "end_time": "2025-07-28T11:05:14.728150",
     "exception": false,
     "start_time": "2025-07-28T11:05:14.685544",
     "status": "completed"
    },
    "tags": []
   },
   "outputs": [],
   "source": [
    "subgroups = ['frau1','nongerman','nongerman_male','nongerman_female']\n",
    "\n",
    "# Conditional coverage for subgroup==1\n",
    "cond_coverage = {\n",
    "    g: cp_groups_df.loc[cp_groups_df[g]==1, 'covered'].mean()\n",
    "    for g in subgroups\n",
    "}"
   ]
  },
  {
   "cell_type": "code",
   "execution_count": 62,
   "id": "1e348fb1-b9c3-45bc-ba23-f016827a7e0d",
   "metadata": {
    "execution": {
     "iopub.execute_input": "2025-07-28T11:05:14.789798Z",
     "iopub.status.busy": "2025-07-28T11:05:14.788811Z",
     "iopub.status.idle": "2025-07-28T11:05:14.796746Z",
     "shell.execute_reply": "2025-07-28T11:05:14.795641Z"
    },
    "papermill": {
     "duration": 0.040602,
     "end_time": "2025-07-28T11:05:14.798627",
     "exception": false,
     "start_time": "2025-07-28T11:05:14.758025",
     "status": "completed"
    },
    "tags": []
   },
   "outputs": [
    {
     "data": {
      "text/plain": [
       "{'frau1': 0.9124140719773555,\n",
       " 'nongerman': 0.9415033963958906,\n",
       " 'nongerman_male': 0.9515446275781321,\n",
       " 'nongerman_female': 0.9248882265275707}"
      ]
     },
     "execution_count": 62,
     "metadata": {},
     "output_type": "execute_result"
    }
   ],
   "source": [
    "cond_coverage"
   ]
  },
  {
   "cell_type": "code",
   "execution_count": 63,
   "id": "f5093324-c3dd-4d63-bc4c-8d945e5c8bbb",
   "metadata": {
    "execution": {
     "iopub.execute_input": "2025-07-28T11:05:14.861473Z",
     "iopub.status.busy": "2025-07-28T11:05:14.860966Z",
     "iopub.status.idle": "2025-07-28T11:05:14.870646Z",
     "shell.execute_reply": "2025-07-28T11:05:14.869508Z"
    },
    "papermill": {
     "duration": 0.043767,
     "end_time": "2025-07-28T11:05:14.872842",
     "exception": false,
     "start_time": "2025-07-28T11:05:14.829075",
     "status": "completed"
    },
    "tags": []
   },
   "outputs": [],
   "source": [
    "for subgroup, cov in cond_coverage.items():\n",
    "    cp_metrics_df[f\"cov_{subgroup}\"] = cov"
   ]
  },
  {
   "cell_type": "code",
   "execution_count": 64,
   "id": "6e872e10-dbe5-49e8-b554-5030c98ff75d",
   "metadata": {
    "execution": {
     "iopub.execute_input": "2025-07-28T11:05:14.935199Z",
     "iopub.status.busy": "2025-07-28T11:05:14.934473Z",
     "iopub.status.idle": "2025-07-28T11:05:14.957680Z",
     "shell.execute_reply": "2025-07-28T11:05:14.956461Z"
    },
    "papermill": {
     "duration": 0.056594,
     "end_time": "2025-07-28T11:05:14.959708",
     "exception": false,
     "start_time": "2025-07-28T11:05:14.903114",
     "status": "completed"
    },
    "tags": []
   },
   "outputs": [
    {
     "data": {
      "text/html": [
       "<div>\n",
       "<style scoped>\n",
       "    .dataframe tbody tr th:only-of-type {\n",
       "        vertical-align: middle;\n",
       "    }\n",
       "\n",
       "    .dataframe tbody tr th {\n",
       "        vertical-align: top;\n",
       "    }\n",
       "\n",
       "    .dataframe thead th {\n",
       "        text-align: right;\n",
       "    }\n",
       "</style>\n",
       "<table border=\"1\" class=\"dataframe\">\n",
       "  <thead>\n",
       "    <tr style=\"text-align: right;\">\n",
       "      <th></th>\n",
       "      <th>universe_id</th>\n",
       "      <th>universe_training_size</th>\n",
       "      <th>universe_scale</th>\n",
       "      <th>universe_model</th>\n",
       "      <th>universe_exclude_features</th>\n",
       "      <th>universe_exclude_subgroups</th>\n",
       "      <th>q_hat</th>\n",
       "      <th>coverage</th>\n",
       "      <th>avg_size</th>\n",
       "      <th>cov_frau1</th>\n",
       "      <th>cov_nongerman</th>\n",
       "      <th>cov_nongerman_male</th>\n",
       "      <th>cov_nongerman_female</th>\n",
       "    </tr>\n",
       "  </thead>\n",
       "  <tbody>\n",
       "    <tr>\n",
       "      <th>0</th>\n",
       "      <td>ec1d0f06d37974589b9caaa635ad0009</td>\n",
       "      <td>2014</td>\n",
       "      <td>do-not-scale</td>\n",
       "      <td>penalized_logreg</td>\n",
       "      <td>nationality-sex</td>\n",
       "      <td>drop-non-german</td>\n",
       "      <td>0.667181</td>\n",
       "      <td>0.912552</td>\n",
       "      <td>1.220566</td>\n",
       "      <td>0.912414</td>\n",
       "      <td>0.941503</td>\n",
       "      <td>0.951545</td>\n",
       "      <td>0.924888</td>\n",
       "    </tr>\n",
       "  </tbody>\n",
       "</table>\n",
       "</div>"
      ],
      "text/plain": [
       "                        universe_id universe_training_size universe_scale  \\\n",
       "0  ec1d0f06d37974589b9caaa635ad0009                   2014   do-not-scale   \n",
       "\n",
       "     universe_model universe_exclude_features universe_exclude_subgroups  \\\n",
       "0  penalized_logreg           nationality-sex            drop-non-german   \n",
       "\n",
       "      q_hat  coverage  avg_size  cov_frau1  cov_nongerman  cov_nongerman_male  \\\n",
       "0  0.667181  0.912552  1.220566   0.912414       0.941503            0.951545   \n",
       "\n",
       "   cov_nongerman_female  \n",
       "0              0.924888  "
      ]
     },
     "execution_count": 64,
     "metadata": {},
     "output_type": "execute_result"
    }
   ],
   "source": [
    "cp_metrics_df"
   ]
  },
  {
   "cell_type": "markdown",
   "id": "33774451",
   "metadata": {
    "papermill": {
     "duration": 0.029782,
     "end_time": "2025-07-28T11:05:15.019279",
     "exception": false,
     "start_time": "2025-07-28T11:05:14.989497",
     "status": "completed"
    },
    "tags": []
   },
   "source": [
    "# (Fairness) Metrics"
   ]
  },
  {
   "cell_type": "code",
   "execution_count": 65,
   "id": "debc5d62",
   "metadata": {
    "execution": {
     "iopub.execute_input": "2025-07-28T11:05:15.081725Z",
     "iopub.status.busy": "2025-07-28T11:05:15.081195Z",
     "iopub.status.idle": "2025-07-28T11:05:15.106467Z",
     "shell.execute_reply": "2025-07-28T11:05:15.105361Z"
    },
    "papermill": {
     "duration": 0.058917,
     "end_time": "2025-07-28T11:05:15.108763",
     "exception": false,
     "start_time": "2025-07-28T11:05:15.049846",
     "status": "completed"
    },
    "tags": []
   },
   "outputs": [],
   "source": [
    "# do I need to include maxdeutsch1.missing?\n",
    "\n",
    "import numpy as np\n",
    "\n",
    "colname_to_bin = \"maxdeutsch1\"\n",
    "majority_value = org_train[colname_to_bin].mode()[0]\n",
    "\n",
    "org_test[\"majmin\"] = np.where(org_test[colname_to_bin] == majority_value, \"majority\", \"minority\")"
   ]
  },
  {
   "cell_type": "code",
   "execution_count": 66,
   "id": "06a50de5",
   "metadata": {
    "execution": {
     "iopub.execute_input": "2025-07-28T11:05:15.172204Z",
     "iopub.status.busy": "2025-07-28T11:05:15.171425Z",
     "iopub.status.idle": "2025-07-28T11:05:18.249181Z",
     "shell.execute_reply": "2025-07-28T11:05:18.248092Z"
    },
    "papermill": {
     "duration": 3.111613,
     "end_time": "2025-07-28T11:05:18.251115",
     "exception": false,
     "start_time": "2025-07-28T11:05:15.139502",
     "status": "completed"
    },
    "tags": []
   },
   "outputs": [],
   "source": [
    "example_universe = universe.copy()\n",
    "example_universe[\"cutoff\"] = example_universe[\"cutoff\"][0]\n",
    "example_universe[\"eval_fairness_grouping\"] = example_universe[\"eval_fairness_grouping\"][0]\n",
    "fairness_dict, metric_frame = universe_analysis.compute_metrics(\n",
    "    example_universe,\n",
    "    y_pred_prob=probs_test,\n",
    "    y_test=y_true,\n",
    "    org_test=org_test,\n",
    ")"
   ]
  },
  {
   "cell_type": "markdown",
   "id": "f95d4e02",
   "metadata": {
    "papermill": {
     "duration": 0.074129,
     "end_time": "2025-07-28T11:05:18.377321",
     "exception": false,
     "start_time": "2025-07-28T11:05:18.303192",
     "status": "completed"
    },
    "tags": []
   },
   "source": [
    "# Overall"
   ]
  },
  {
   "cell_type": "markdown",
   "id": "bdee4871",
   "metadata": {
    "papermill": {
     "duration": 0.065908,
     "end_time": "2025-07-28T11:05:18.502656",
     "exception": false,
     "start_time": "2025-07-28T11:05:18.436748",
     "status": "completed"
    },
    "tags": []
   },
   "source": [
    "Fairness\n",
    "Main fairness target: Equalized Odds. Seems to be a better fit than equal opportunity, since we're not only interested in Y = 1. Seems to be a better fit than demographic parity, since we also care about accuracy, not just equal distribution of preds.\n",
    "\n",
    "Pick column for computation of fairness metrics\n",
    "\n",
    "Performance\n",
    "Overall performance measures, most interesting in relation to the measures split by group below"
   ]
  },
  {
   "cell_type": "code",
   "execution_count": 67,
   "id": "c4e067c6",
   "metadata": {
    "execution": {
     "iopub.execute_input": "2025-07-28T11:05:18.583792Z",
     "iopub.status.busy": "2025-07-28T11:05:18.583298Z",
     "iopub.status.idle": "2025-07-28T11:05:18.595060Z",
     "shell.execute_reply": "2025-07-28T11:05:18.593710Z"
    },
    "papermill": {
     "duration": 0.044291,
     "end_time": "2025-07-28T11:05:18.597560",
     "exception": false,
     "start_time": "2025-07-28T11:05:18.553269",
     "status": "completed"
    },
    "tags": []
   },
   "outputs": [
    {
     "data": {
      "text/plain": [
       "accuracy                   0.218002\n",
       "balanced accuracy          0.534381\n",
       "f1                         0.239509\n",
       "precision                  0.136824\n",
       "false positive rate        0.891179\n",
       "false negative rate        0.040059\n",
       "selection rate             0.900000\n",
       "count                  89710.000000\n",
       "dtype: float64"
      ]
     },
     "execution_count": 67,
     "metadata": {},
     "output_type": "execute_result"
    }
   ],
   "source": [
    "metric_frame.overall"
   ]
  },
  {
   "cell_type": "markdown",
   "id": "e968fe9d",
   "metadata": {
    "papermill": {
     "duration": 0.060774,
     "end_time": "2025-07-28T11:05:18.744946",
     "exception": false,
     "start_time": "2025-07-28T11:05:18.684172",
     "status": "completed"
    },
    "tags": []
   },
   "source": [
    "By Group"
   ]
  },
  {
   "cell_type": "code",
   "execution_count": 68,
   "id": "ec325bce",
   "metadata": {
    "execution": {
     "iopub.execute_input": "2025-07-28T11:05:18.865427Z",
     "iopub.status.busy": "2025-07-28T11:05:18.864651Z",
     "iopub.status.idle": "2025-07-28T11:05:18.908558Z",
     "shell.execute_reply": "2025-07-28T11:05:18.907408Z"
    },
    "papermill": {
     "duration": 0.105495,
     "end_time": "2025-07-28T11:05:18.910206",
     "exception": false,
     "start_time": "2025-07-28T11:05:18.804711",
     "status": "completed"
    },
    "tags": []
   },
   "outputs": [
    {
     "data": {
      "text/html": [
       "<div>\n",
       "<style scoped>\n",
       "    .dataframe tbody tr th:only-of-type {\n",
       "        vertical-align: middle;\n",
       "    }\n",
       "\n",
       "    .dataframe tbody tr th {\n",
       "        vertical-align: top;\n",
       "    }\n",
       "\n",
       "    .dataframe thead th {\n",
       "        text-align: right;\n",
       "    }\n",
       "</style>\n",
       "<table border=\"1\" class=\"dataframe\">\n",
       "  <thead>\n",
       "    <tr style=\"text-align: right;\">\n",
       "      <th></th>\n",
       "      <th>accuracy</th>\n",
       "      <th>balanced accuracy</th>\n",
       "      <th>f1</th>\n",
       "      <th>precision</th>\n",
       "      <th>false positive rate</th>\n",
       "      <th>false negative rate</th>\n",
       "      <th>selection rate</th>\n",
       "      <th>count</th>\n",
       "    </tr>\n",
       "    <tr>\n",
       "      <th>majmin</th>\n",
       "      <th></th>\n",
       "      <th></th>\n",
       "      <th></th>\n",
       "      <th></th>\n",
       "      <th></th>\n",
       "      <th></th>\n",
       "      <th></th>\n",
       "      <th></th>\n",
       "    </tr>\n",
       "  </thead>\n",
       "  <tbody>\n",
       "    <tr>\n",
       "      <th>majority</th>\n",
       "      <td>0.240408</td>\n",
       "      <td>0.542528</td>\n",
       "      <td>0.249039</td>\n",
       "      <td>0.143231</td>\n",
       "      <td>0.868116</td>\n",
       "      <td>0.046827</td>\n",
       "      <td>0.879355</td>\n",
       "      <td>69170.0</td>\n",
       "    </tr>\n",
       "    <tr>\n",
       "      <th>minority</th>\n",
       "      <td>0.142551</td>\n",
       "      <td>0.509348</td>\n",
       "      <td>0.209586</td>\n",
       "      <td>0.117254</td>\n",
       "      <td>0.967367</td>\n",
       "      <td>0.013936</td>\n",
       "      <td>0.969523</td>\n",
       "      <td>20540.0</td>\n",
       "    </tr>\n",
       "  </tbody>\n",
       "</table>\n",
       "</div>"
      ],
      "text/plain": [
       "          accuracy  balanced accuracy        f1  precision  \\\n",
       "majmin                                                       \n",
       "majority  0.240408           0.542528  0.249039   0.143231   \n",
       "minority  0.142551           0.509348  0.209586   0.117254   \n",
       "\n",
       "          false positive rate  false negative rate  selection rate    count  \n",
       "majmin                                                                       \n",
       "majority             0.868116             0.046827        0.879355  69170.0  \n",
       "minority             0.967367             0.013936        0.969523  20540.0  "
      ]
     },
     "execution_count": 68,
     "metadata": {},
     "output_type": "execute_result"
    }
   ],
   "source": [
    "metric_frame.by_group"
   ]
  },
  {
   "cell_type": "code",
   "execution_count": 69,
   "id": "a9ddbe63",
   "metadata": {
    "execution": {
     "iopub.execute_input": "2025-07-28T11:05:19.023675Z",
     "iopub.status.busy": "2025-07-28T11:05:19.023230Z",
     "iopub.status.idle": "2025-07-28T11:05:23.260530Z",
     "shell.execute_reply": "2025-07-28T11:05:23.259355Z"
    },
    "papermill": {
     "duration": 4.301671,
     "end_time": "2025-07-28T11:05:23.262675",
     "exception": false,
     "start_time": "2025-07-28T11:05:18.961004",
     "status": "completed"
    },
    "tags": []
   },
   "outputs": [
    {
     "data": {
      "text/plain": [
       "array([[<Axes: title={'center': 'accuracy'}, xlabel='majmin'>,\n",
       "        <Axes: title={'center': 'balanced accuracy'}, xlabel='majmin'>,\n",
       "        <Axes: title={'center': 'f1'}, xlabel='majmin'>],\n",
       "       [<Axes: title={'center': 'precision'}, xlabel='majmin'>,\n",
       "        <Axes: title={'center': 'false positive rate'}, xlabel='majmin'>,\n",
       "        <Axes: title={'center': 'false negative rate'}, xlabel='majmin'>],\n",
       "       [<Axes: title={'center': 'selection rate'}, xlabel='majmin'>,\n",
       "        <Axes: title={'center': 'count'}, xlabel='majmin'>,\n",
       "        <Axes: xlabel='majmin'>]], dtype=object)"
      ]
     },
     "execution_count": 69,
     "metadata": {},
     "output_type": "execute_result"
    },
    {
     "data": {
      "image/png": "[encoded data removed]",
      "text/plain": [
       "<Figure size 1200x800 with 9 Axes>"
      ]
     },
     "metadata": {},
     "output_type": "display_data"
    }
   ],
   "source": [
    "# In a graphic\n",
    "metric_frame.by_group.plot.bar(\n",
    "    subplots=True,\n",
    "    layout=[3, 3],\n",
    "    legend=False,\n",
    "    figsize=[12, 8],\n",
    "    title=\"Show all metrics\",\n",
    ")"
   ]
  },
  {
   "cell_type": "markdown",
   "id": "f57a0bac",
   "metadata": {
    "papermill": {
     "duration": 0.073627,
     "end_time": "2025-07-28T11:05:23.397043",
     "exception": false,
     "start_time": "2025-07-28T11:05:23.323416",
     "status": "completed"
    },
    "tags": []
   },
   "source": [
    "# Final Output"
   ]
  },
  {
   "cell_type": "code",
   "execution_count": 70,
   "id": "96d280a3",
   "metadata": {
    "execution": {
     "iopub.execute_input": "2025-07-28T11:05:23.526355Z",
     "iopub.status.busy": "2025-07-28T11:05:23.525142Z",
     "iopub.status.idle": "2025-07-28T11:05:23.534520Z",
     "shell.execute_reply": "2025-07-28T11:05:23.533471Z"
    },
    "papermill": {
     "duration": 0.068076,
     "end_time": "2025-07-28T11:05:23.536432",
     "exception": false,
     "start_time": "2025-07-28T11:05:23.468356",
     "status": "completed"
    },
    "tags": []
   },
   "outputs": [
    {
     "data": {
      "text/plain": [
       "4"
      ]
     },
     "execution_count": 70,
     "metadata": {},
     "output_type": "execute_result"
    }
   ],
   "source": [
    "sub_universes = universe_analysis.generate_sub_universes()\n",
    "len(sub_universes)"
   ]
  },
  {
   "cell_type": "code",
   "execution_count": 71,
   "id": "92adf7ba",
   "metadata": {
    "execution": {
     "iopub.execute_input": "2025-07-28T11:05:23.674090Z",
     "iopub.status.busy": "2025-07-28T11:05:23.673598Z",
     "iopub.status.idle": "2025-07-28T11:05:23.682137Z",
     "shell.execute_reply": "2025-07-28T11:05:23.681039Z"
    },
    "papermill": {
     "duration": 0.083847,
     "end_time": "2025-07-28T11:05:23.684003",
     "exception": false,
     "start_time": "2025-07-28T11:05:23.600156",
     "status": "completed"
    },
    "tags": []
   },
   "outputs": [],
   "source": [
    "def filter_sub_universe_data(sub_universe, org_test):\n",
    "    # Keep all rows — no filtering\n",
    "    keep_rows_mask = np.ones(org_test.shape[0], dtype=bool)\n",
    "\n",
    "    print(f\"[INFO] Keeping all rows: {keep_rows_mask.sum()} rows retained.\")\n",
    "    return keep_rows_mask"
   ]
  },
  {
   "cell_type": "code",
   "execution_count": 72,
   "id": "4a759155",
   "metadata": {
    "execution": {
     "iopub.execute_input": "2025-07-28T11:05:23.756292Z",
     "iopub.status.busy": "2025-07-28T11:05:23.755802Z",
     "iopub.status.idle": "2025-07-28T11:05:37.185910Z",
     "shell.execute_reply": "2025-07-28T11:05:37.184736Z"
    },
    "papermill": {
     "duration": 13.464769,
     "end_time": "2025-07-28T11:05:37.187514",
     "exception": false,
     "start_time": "2025-07-28T11:05:23.722745",
     "status": "completed"
    },
    "tags": []
   },
   "outputs": [
    {
     "name": "stdout",
     "output_type": "stream",
     "text": [
      "Stopping execution_time clock.\n",
      "[INFO] Keeping all rows: 89710 rows retained.\n"
     ]
    },
    {
     "name": "stdout",
     "output_type": "stream",
     "text": [
      "[INFO] Keeping all rows: 89710 rows retained.\n"
     ]
    },
    {
     "name": "stdout",
     "output_type": "stream",
     "text": [
      "[INFO] Keeping all rows: 89710 rows retained.\n"
     ]
    },
    {
     "name": "stdout",
     "output_type": "stream",
     "text": [
      "[INFO] Keeping all rows: 89710 rows retained.\n"
     ]
    },
    {
     "data": {
      "text/html": [
       "<div>\n",
       "<style scoped>\n",
       "    .dataframe tbody tr th:only-of-type {\n",
       "        vertical-align: middle;\n",
       "    }\n",
       "\n",
       "    .dataframe tbody tr th {\n",
       "        vertical-align: top;\n",
       "    }\n",
       "\n",
       "    .dataframe thead th {\n",
       "        text-align: right;\n",
       "    }\n",
       "</style>\n",
       "<table border=\"1\" class=\"dataframe\">\n",
       "  <thead>\n",
       "    <tr style=\"text-align: right;\">\n",
       "      <th></th>\n",
       "      <th>run_no</th>\n",
       "      <th>universe_id</th>\n",
       "      <th>universe_settings</th>\n",
       "      <th>execution_time</th>\n",
       "      <th>test_size_n</th>\n",
       "      <th>test_size_frac</th>\n",
       "      <th>fair_main_equalized_odds_difference</th>\n",
       "      <th>fair_main_equalized_odds_ratio</th>\n",
       "      <th>fair_main_demographic_parity_difference</th>\n",
       "      <th>fair_main_demographic_parity_ratio</th>\n",
       "      <th>...</th>\n",
       "      <th>perf_grp_precision_0</th>\n",
       "      <th>perf_grp_precision_1</th>\n",
       "      <th>perf_grp_false positive rate_0</th>\n",
       "      <th>perf_grp_false positive rate_1</th>\n",
       "      <th>perf_grp_false negative rate_0</th>\n",
       "      <th>perf_grp_false negative rate_1</th>\n",
       "      <th>perf_grp_selection rate_0</th>\n",
       "      <th>perf_grp_selection rate_1</th>\n",
       "      <th>perf_grp_count_0</th>\n",
       "      <th>perf_grp_count_1</th>\n",
       "    </tr>\n",
       "  </thead>\n",
       "  <tbody>\n",
       "    <tr>\n",
       "      <th>0</th>\n",
       "      <td>11</td>\n",
       "      <td>ec1d0f06d37974589b9caaa635ad0009</td>\n",
       "      <td>{\"cutoff\": \"quantile_0.1\", \"eval_fairness_grou...</td>\n",
       "      <td>35.625544</td>\n",
       "      <td>89710</td>\n",
       "      <td>1.0</td>\n",
       "      <td>0.099251</td>\n",
       "      <td>0.897400</td>\n",
       "      <td>0.090168</td>\n",
       "      <td>0.906998</td>\n",
       "      <td>...</td>\n",
       "      <td>NaN</td>\n",
       "      <td>NaN</td>\n",
       "      <td>NaN</td>\n",
       "      <td>NaN</td>\n",
       "      <td>NaN</td>\n",
       "      <td>NaN</td>\n",
       "      <td>NaN</td>\n",
       "      <td>NaN</td>\n",
       "      <td>NaN</td>\n",
       "      <td>NaN</td>\n",
       "    </tr>\n",
       "    <tr>\n",
       "      <th>0</th>\n",
       "      <td>11</td>\n",
       "      <td>ec1d0f06d37974589b9caaa635ad0009</td>\n",
       "      <td>{\"cutoff\": \"quantile_0.1\", \"eval_fairness_grou...</td>\n",
       "      <td>35.625544</td>\n",
       "      <td>89710</td>\n",
       "      <td>1.0</td>\n",
       "      <td>0.099251</td>\n",
       "      <td>0.897400</td>\n",
       "      <td>0.090168</td>\n",
       "      <td>0.906998</td>\n",
       "      <td>...</td>\n",
       "      <td>0.117254</td>\n",
       "      <td>0.143231</td>\n",
       "      <td>0.967367</td>\n",
       "      <td>0.868116</td>\n",
       "      <td>0.013936</td>\n",
       "      <td>0.046827</td>\n",
       "      <td>0.969523</td>\n",
       "      <td>0.879355</td>\n",
       "      <td>20540.0</td>\n",
       "      <td>69170.0</td>\n",
       "    </tr>\n",
       "    <tr>\n",
       "      <th>0</th>\n",
       "      <td>11</td>\n",
       "      <td>ec1d0f06d37974589b9caaa635ad0009</td>\n",
       "      <td>{\"cutoff\": \"quantile_0.25\", \"eval_fairness_gro...</td>\n",
       "      <td>35.625544</td>\n",
       "      <td>89710</td>\n",
       "      <td>1.0</td>\n",
       "      <td>0.223799</td>\n",
       "      <td>0.751838</td>\n",
       "      <td>0.205158</td>\n",
       "      <td>0.774100</td>\n",
       "      <td>...</td>\n",
       "      <td>NaN</td>\n",
       "      <td>NaN</td>\n",
       "      <td>NaN</td>\n",
       "      <td>NaN</td>\n",
       "      <td>NaN</td>\n",
       "      <td>NaN</td>\n",
       "      <td>NaN</td>\n",
       "      <td>NaN</td>\n",
       "      <td>NaN</td>\n",
       "      <td>NaN</td>\n",
       "    </tr>\n",
       "    <tr>\n",
       "      <th>0</th>\n",
       "      <td>11</td>\n",
       "      <td>ec1d0f06d37974589b9caaa635ad0009</td>\n",
       "      <td>{\"cutoff\": \"quantile_0.25\", \"eval_fairness_gro...</td>\n",
       "      <td>35.625544</td>\n",
       "      <td>89710</td>\n",
       "      <td>1.0</td>\n",
       "      <td>0.223799</td>\n",
       "      <td>0.751838</td>\n",
       "      <td>0.205158</td>\n",
       "      <td>0.774100</td>\n",
       "      <td>...</td>\n",
       "      <td>0.121475</td>\n",
       "      <td>0.162993</td>\n",
       "      <td>0.901827</td>\n",
       "      <td>0.678028</td>\n",
       "      <td>0.043074</td>\n",
       "      <td>0.132823</td>\n",
       "      <td>0.908179</td>\n",
       "      <td>0.703022</td>\n",
       "      <td>20540.0</td>\n",
       "      <td>69170.0</td>\n",
       "    </tr>\n",
       "  </tbody>\n",
       "</table>\n",
       "<p>4 rows × 50 columns</p>\n",
       "</div>"
      ],
      "text/plain": [
       "  run_no                       universe_id  \\\n",
       "0     11  ec1d0f06d37974589b9caaa635ad0009   \n",
       "0     11  ec1d0f06d37974589b9caaa635ad0009   \n",
       "0     11  ec1d0f06d37974589b9caaa635ad0009   \n",
       "0     11  ec1d0f06d37974589b9caaa635ad0009   \n",
       "\n",
       "                                   universe_settings  execution_time  \\\n",
       "0  {\"cutoff\": \"quantile_0.1\", \"eval_fairness_grou...       35.625544   \n",
       "0  {\"cutoff\": \"quantile_0.1\", \"eval_fairness_grou...       35.625544   \n",
       "0  {\"cutoff\": \"quantile_0.25\", \"eval_fairness_gro...       35.625544   \n",
       "0  {\"cutoff\": \"quantile_0.25\", \"eval_fairness_gro...       35.625544   \n",
       "\n",
       "   test_size_n  test_size_frac  fair_main_equalized_odds_difference  \\\n",
       "0        89710             1.0                             0.099251   \n",
       "0        89710             1.0                             0.099251   \n",
       "0        89710             1.0                             0.223799   \n",
       "0        89710             1.0                             0.223799   \n",
       "\n",
       "   fair_main_equalized_odds_ratio  fair_main_demographic_parity_difference  \\\n",
       "0                        0.897400                                 0.090168   \n",
       "0                        0.897400                                 0.090168   \n",
       "0                        0.751838                                 0.205158   \n",
       "0                        0.751838                                 0.205158   \n",
       "\n",
       "   fair_main_demographic_parity_ratio  ...  perf_grp_precision_0  \\\n",
       "0                            0.906998  ...                   NaN   \n",
       "0                            0.906998  ...              0.117254   \n",
       "0                            0.774100  ...                   NaN   \n",
       "0                            0.774100  ...              0.121475   \n",
       "\n",
       "   perf_grp_precision_1  perf_grp_false positive rate_0  \\\n",
       "0                   NaN                             NaN   \n",
       "0              0.143231                        0.967367   \n",
       "0                   NaN                             NaN   \n",
       "0              0.162993                        0.901827   \n",
       "\n",
       "   perf_grp_false positive rate_1  perf_grp_false negative rate_0  \\\n",
       "0                             NaN                             NaN   \n",
       "0                        0.868116                        0.013936   \n",
       "0                             NaN                             NaN   \n",
       "0                        0.678028                        0.043074   \n",
       "\n",
       "   perf_grp_false negative rate_1  perf_grp_selection rate_0  \\\n",
       "0                             NaN                        NaN   \n",
       "0                        0.046827                   0.969523   \n",
       "0                             NaN                        NaN   \n",
       "0                        0.132823                   0.908179   \n",
       "\n",
       "   perf_grp_selection rate_1  perf_grp_count_0  perf_grp_count_1  \n",
       "0                        NaN               NaN               NaN  \n",
       "0                   0.879355           20540.0           69170.0  \n",
       "0                        NaN               NaN               NaN  \n",
       "0                   0.703022           20540.0           69170.0  \n",
       "\n",
       "[4 rows x 50 columns]"
      ]
     },
     "execution_count": 72,
     "metadata": {},
     "output_type": "execute_result"
    }
   ],
   "source": [
    "final_output = universe_analysis.generate_final_output(\n",
    "    y_pred_prob=probs_test,\n",
    "    y_test=y_true,\n",
    "    org_test=org_test,\n",
    "    filter_data=filter_sub_universe_data,\n",
    "    cp_metrics_df=cp_metrics_df,\n",
    "    save=True,\n",
    ")\n",
    "final_output"
   ]
  },
  {
   "cell_type": "code",
   "execution_count": null,
   "id": "721ff514-cb11-46f8-b6fc-50392f74b5cb",
   "metadata": {
    "papermill": {
     "duration": 0.06688,
     "end_time": "2025-07-28T11:05:37.320542",
     "exception": false,
     "start_time": "2025-07-28T11:05:37.253662",
     "status": "completed"
    },
    "tags": []
   },
   "outputs": [],
   "source": []
  }
 ],
 "metadata": {
  "celltoolbar": "Tags",
  "kernelspec": {
   "display_name": "Python (CMA Fairness)",
   "language": "python",
   "name": "cma_fair_env"
  },
  "language_info": {
   "codemirror_mode": {
    "name": "ipython",
    "version": 3
   },
   "file_extension": ".py",
   "mimetype": "text/x-python",
   "name": "python",
   "nbconvert_exporter": "python",
   "pygments_lexer": "ipython3",
   "version": "3.10.12"
  },
  "papermill": {
   "default_parameters": {},
   "duration": 53.960596,
   "end_time": "2025-07-28T11:05:38.602899",
   "environment_variables": {},
   "exception": null,
   "input_path": "universe_analysis.ipynb",
   "output_path": "output/runs/11/notebooks/m_11-ec1d0f06d37974589b9caaa635ad0009.ipynb",
   "parameters": {
    "output_dir": "output",
    "run_no": "11",
    "seed": "2023",
    "universe": "{\"cutoff\": [\"quantile_0.1\", \"quantile_0.25\"], \"eval_fairness_grouping\": [\"majority-minority\", \"nationality-all\"], \"exclude_features\": \"nationality-sex\", \"exclude_subgroups\": \"drop-non-german\", \"model\": \"penalized_logreg\", \"scale\": \"do-not-scale\", \"training_size\": \"2014\"}",
    "universe_id": "ec1d0f06d37974589b9caaa635ad0009"
   },
   "start_time": "2025-07-28T11:04:44.642303",
   "version": "2.6.0"
  }
 },
 "nbformat": 4,
 "nbformat_minor": 5
}