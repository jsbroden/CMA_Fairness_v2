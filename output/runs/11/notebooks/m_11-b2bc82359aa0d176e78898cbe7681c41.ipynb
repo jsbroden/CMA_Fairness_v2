{
 "cells": [
  {
   "cell_type": "code",
   "execution_count": 1,
   "id": "f159f837-637b-42ba-96b5-ec9a68c44524",
   "metadata": {
    "execution": {
     "iopub.execute_input": "2025-07-28T10:50:57.761494Z",
     "iopub.status.busy": "2025-07-28T10:50:57.761019Z",
     "iopub.status.idle": "2025-07-28T10:50:57.778545Z",
     "shell.execute_reply": "2025-07-28T10:50:57.777280Z"
    },
    "papermill": {
     "duration": 0.044342,
     "end_time": "2025-07-28T10:50:57.781305",
     "exception": false,
     "start_time": "2025-07-28T10:50:57.736963",
     "status": "completed"
    },
    "tags": []
   },
   "outputs": [
    {
     "name": "stdout",
     "output_type": "stream",
     "text": [
      "/dss/dsshome1/0C/ra93lal2/cma/CMA_Fairness_v2\n"
     ]
    },
    {
     "name": "stderr",
     "output_type": "stream",
     "text": [
      "/dss/dsshome1/0C/ra93lal2/.local/share/virtualenvs/CMA_Fairness_v2-3j10GkSs/lib/python3.10/site-packages/IPython/core/magics/osm.py:393: UserWarning: This is now an optional IPython functionality, using bookmarks requires you to install the `pickleshare` library.\n",
      "  bkms = self.shell.db.get('bookmarks', {})\n",
      "/dss/dsshome1/0C/ra93lal2/.local/share/virtualenvs/CMA_Fairness_v2-3j10GkSs/lib/python3.10/site-packages/IPython/core/magics/osm.py:417: UserWarning: This is now an optional IPython functionality, setting dhist requires you to install the `pickleshare` library.\n",
      "  self.shell.db['dhist'] = compress_dhist(dhist)[-100:]\n"
     ]
    }
   ],
   "source": [
    "%cd ~/cma/CMA_Fairness_v2"
   ]
  },
  {
   "cell_type": "markdown",
   "id": "de2603b9",
   "metadata": {
    "papermill": {
     "duration": 0.018335,
     "end_time": "2025-07-28T10:50:57.834300",
     "exception": false,
     "start_time": "2025-07-28T10:50:57.815965",
     "status": "completed"
    },
    "tags": []
   },
   "source": [
    "The following cell holds the definition of our parameters, these values can be overriden by rendering the with e.g. the following command:\n",
    "\n",
    "papermill -p alpha 0.2 -p ratio 0.3 universe_analysis.ipynb output/test_run.ipynb"
   ]
  },
  {
   "cell_type": "code",
   "execution_count": 2,
   "id": "a80968a0-40bb-4fa9-85ef-2d5eefb01975",
   "metadata": {
    "execution": {
     "iopub.execute_input": "2025-07-28T10:50:57.896514Z",
     "iopub.status.busy": "2025-07-28T10:50:57.895918Z",
     "iopub.status.idle": "2025-07-28T10:50:57.902693Z",
     "shell.execute_reply": "2025-07-28T10:50:57.901606Z"
    },
    "papermill": {
     "duration": 0.03246,
     "end_time": "2025-07-28T10:50:57.904774",
     "exception": false,
     "start_time": "2025-07-28T10:50:57.872314",
     "status": "completed"
    },
    "tags": []
   },
   "outputs": [
    {
     "name": "stdout",
     "output_type": "stream",
     "text": [
      "Current working directory: /dss/dsshome1/0C/ra93lal2/cma/CMA_Fairness_v2\n"
     ]
    }
   ],
   "source": [
    "import os\n",
    "print(\"Current working directory:\", os.getcwd())"
   ]
  },
  {
   "cell_type": "code",
   "execution_count": 3,
   "id": "2dce4c03",
   "metadata": {
    "execution": {
     "iopub.execute_input": "2025-07-28T10:50:57.933722Z",
     "iopub.status.busy": "2025-07-28T10:50:57.933299Z",
     "iopub.status.idle": "2025-07-28T10:50:57.938737Z",
     "shell.execute_reply": "2025-07-28T10:50:57.937738Z"
    },
    "papermill": {
     "duration": 0.021612,
     "end_time": "2025-07-28T10:50:57.940542",
     "exception": false,
     "start_time": "2025-07-28T10:50:57.918930",
     "status": "completed"
    },
    "tags": [
     "parameters"
    ]
   },
   "outputs": [],
   "source": [
    "run_no = 0\n",
    "universe_id = \"test\"\n",
    "universe = {\n",
    "    \"training_size\": \"2014\", # \"25k\", \"5k\", \"1k\", \"2014\"\n",
    "    \"scale\": \"scale\", # \"scale\", \"do-not-scale\",\n",
    "    #\"stratify_split\": \"target\", # \"none\", \"target\", \"protected-attribute\", \"both\",\n",
    "    \"model\": \"elasticnet\", # \"logreg\", \"penalized_logreg\", \"rf\", \"gbm\", \"elasticnet\"\n",
    "    \"cutoff\": [\"quantile_0.15\", \"quantile_0.30\"],\n",
    "    \"exclude_features\": \"age\", # \"none\", \"nationality\", \"sex\", \"nationality-sex\", \"age\"\n",
    "    \"exclude_subgroups\": \"keep-all\", # \"keep-all\", \"drop-non-german\"\n",
    "    \"eval_fairness_grouping\": [\"majority-minority\", \"nationality-all\"]\n",
    "}\n",
    "\n",
    "output_dir=\"./output\"\n",
    "seed=0"
   ]
  },
  {
   "cell_type": "code",
   "execution_count": 4,
   "id": "4d01cf8f",
   "metadata": {
    "execution": {
     "iopub.execute_input": "2025-07-28T10:50:57.970164Z",
     "iopub.status.busy": "2025-07-28T10:50:57.969636Z",
     "iopub.status.idle": "2025-07-28T10:50:57.975909Z",
     "shell.execute_reply": "2025-07-28T10:50:57.974338Z"
    },
    "papermill": {
     "duration": 0.023627,
     "end_time": "2025-07-28T10:50:57.977910",
     "exception": false,
     "start_time": "2025-07-28T10:50:57.954283",
     "status": "completed"
    },
    "tags": [
     "injected-parameters"
    ]
   },
   "outputs": [],
   "source": [
    "# Parameters\n",
    "universe_id = \"b2bc82359aa0d176e78898cbe7681c41\"\n",
    "run_no = \"11\"\n",
    "universe = \"{\\\"cutoff\\\": [\\\"quantile_0.1\\\", \\\"quantile_0.25\\\"], \\\"eval_fairness_grouping\\\": [\\\"majority-minority\\\", \\\"nationality-all\\\"], \\\"exclude_features\\\": \\\"sex\\\", \\\"exclude_subgroups\\\": \\\"keep-all\\\", \\\"model\\\": \\\"gbm\\\", \\\"scale\\\": \\\"do-not-scale\\\", \\\"training_size\\\": \\\"1k\\\"}\"\n",
    "output_dir = \"output\"\n",
    "seed = \"2023\"\n"
   ]
  },
  {
   "cell_type": "code",
   "execution_count": 5,
   "id": "1650acaf",
   "metadata": {
    "execution": {
     "iopub.execute_input": "2025-07-28T10:50:58.019482Z",
     "iopub.status.busy": "2025-07-28T10:50:58.018599Z",
     "iopub.status.idle": "2025-07-28T10:50:58.024379Z",
     "shell.execute_reply": "2025-07-28T10:50:58.023236Z"
    },
    "papermill": {
     "duration": 0.02769,
     "end_time": "2025-07-28T10:50:58.026091",
     "exception": false,
     "start_time": "2025-07-28T10:50:57.998401",
     "status": "completed"
    },
    "tags": []
   },
   "outputs": [],
   "source": [
    "import json\n",
    "# Parse universe into dict if it is passed as a string\n",
    "if isinstance(universe, str):\n",
    "    universe = json.loads(universe)"
   ]
  },
  {
   "cell_type": "code",
   "execution_count": 6,
   "id": "16620c48",
   "metadata": {
    "execution": {
     "iopub.execute_input": "2025-07-28T10:50:58.065749Z",
     "iopub.status.busy": "2025-07-28T10:50:58.064835Z",
     "iopub.status.idle": "2025-07-28T10:50:58.111749Z",
     "shell.execute_reply": "2025-07-28T10:50:58.110789Z"
    },
    "papermill": {
     "duration": 0.069136,
     "end_time": "2025-07-28T10:50:58.113815",
     "exception": false,
     "start_time": "2025-07-28T10:50:58.044679",
     "status": "completed"
    },
    "tags": []
   },
   "outputs": [],
   "source": [
    "# Auto-reload the custom package\n",
    "%load_ext autoreload\n",
    "%autoreload 1\n",
    "%aimport fairness_multiverse"
   ]
  },
  {
   "cell_type": "code",
   "execution_count": 7,
   "id": "01c5c9f3",
   "metadata": {
    "execution": {
     "iopub.execute_input": "2025-07-28T10:50:58.158047Z",
     "iopub.status.busy": "2025-07-28T10:50:58.157316Z",
     "iopub.status.idle": "2025-07-28T10:51:00.288858Z",
     "shell.execute_reply": "2025-07-28T10:51:00.287712Z"
    },
    "papermill": {
     "duration": 2.155213,
     "end_time": "2025-07-28T10:51:00.291138",
     "exception": false,
     "start_time": "2025-07-28T10:50:58.135925",
     "status": "completed"
    },
    "tags": []
   },
   "outputs": [],
   "source": [
    "from fairness_multiverse.universe import UniverseAnalysis\n",
    "\n",
    "universe_analysis = UniverseAnalysis(\n",
    "    run_no = run_no,\n",
    "    universe_id = universe_id,\n",
    "    universe = universe,\n",
    "    output_dir=output_dir,\n",
    ")"
   ]
  },
  {
   "cell_type": "code",
   "execution_count": 8,
   "id": "106241f5",
   "metadata": {
    "execution": {
     "iopub.execute_input": "2025-07-28T10:51:00.334242Z",
     "iopub.status.busy": "2025-07-28T10:51:00.333721Z",
     "iopub.status.idle": "2025-07-28T10:51:00.340835Z",
     "shell.execute_reply": "2025-07-28T10:51:00.339799Z"
    },
    "papermill": {
     "duration": 0.031555,
     "end_time": "2025-07-28T10:51:00.342675",
     "exception": false,
     "start_time": "2025-07-28T10:51:00.311120",
     "status": "completed"
    },
    "tags": []
   },
   "outputs": [
    {
     "name": "stdout",
     "output_type": "stream",
     "text": [
      "Using Seed: 2023\n"
     ]
    }
   ],
   "source": [
    "import numpy as np\n",
    "parsed_seed = int(seed)\n",
    "np.random.seed(parsed_seed)\n",
    "print(f\"Using Seed: {parsed_seed}\")"
   ]
  },
  {
   "cell_type": "markdown",
   "id": "e0ebdc57",
   "metadata": {
    "papermill": {
     "duration": 0.021411,
     "end_time": "2025-07-28T10:51:00.383046",
     "exception": false,
     "start_time": "2025-07-28T10:51:00.361635",
     "status": "completed"
    },
    "tags": []
   },
   "source": [
    "# Loading Data"
   ]
  },
  {
   "cell_type": "markdown",
   "id": "681925a3",
   "metadata": {
    "papermill": {
     "duration": 0.017729,
     "end_time": "2025-07-28T10:51:00.422223",
     "exception": false,
     "start_time": "2025-07-28T10:51:00.404494",
     "status": "completed"
    },
    "tags": []
   },
   "source": [
    "Load siab_train, siab_test, siab_calib and/or \n",
    "load siab_train_features, siab_train_labels"
   ]
  },
  {
   "cell_type": "code",
   "execution_count": 9,
   "id": "f0496b8a",
   "metadata": {
    "execution": {
     "iopub.execute_input": "2025-07-28T10:51:00.445020Z",
     "iopub.status.busy": "2025-07-28T10:51:00.444495Z",
     "iopub.status.idle": "2025-07-28T10:51:13.038878Z",
     "shell.execute_reply": "2025-07-28T10:51:13.037651Z"
    },
    "papermill": {
     "duration": 12.607263,
     "end_time": "2025-07-28T10:51:13.040955",
     "exception": false,
     "start_time": "2025-07-28T10:51:00.433692",
     "status": "completed"
    },
    "tags": []
   },
   "outputs": [
    {
     "name": "stdout",
     "output_type": "stream",
     "text": [
      "Loading SIAB data from cache: data/siab_cached.csv.gz\n"
     ]
    },
    {
     "name": "stdout",
     "output_type": "stream",
     "text": [
      "(643690, 164)\n"
     ]
    }
   ],
   "source": [
    "from pathlib import Path\n",
    "import pandas as pd\n",
    "\n",
    "# File paths\n",
    "raw_file = Path(\"data/raw/siab.csv\")\n",
    "cache_file = Path(\"data/siab_cached.csv.gz\")\n",
    "\n",
    "# Ensure cache directory exists\n",
    "cache_file.parent.mkdir(parents=True, exist_ok=True)\n",
    "\n",
    "# Load with simple caching\n",
    "if cache_file.exists():\n",
    "    print(f\"Loading SIAB data from cache: {cache_file}\")\n",
    "    siab = pd.read_csv(cache_file, compression='gzip')\n",
    "else:\n",
    "    print(f\"Cache not found. Reading raw SIAB data: {raw_file}\")\n",
    "    siab = pd.read_csv(raw_file)\n",
    "    siab.to_csv(cache_file, index=False, compression='gzip')\n",
    "    print(f\"Cached SIAB data to: {cache_file}\")\n",
    "\n",
    "# Now use `siab` DataFrame as needed\n",
    "print(siab.shape)"
   ]
  },
  {
   "cell_type": "code",
   "execution_count": 10,
   "id": "db0ca512-5f53-4dba-abdb-a2888bca41ba",
   "metadata": {
    "execution": {
     "iopub.execute_input": "2025-07-28T10:51:13.088829Z",
     "iopub.status.busy": "2025-07-28T10:51:13.088229Z",
     "iopub.status.idle": "2025-07-28T10:51:13.095790Z",
     "shell.execute_reply": "2025-07-28T10:51:13.094704Z"
    },
    "papermill": {
     "duration": 0.033326,
     "end_time": "2025-07-28T10:51:13.097705",
     "exception": false,
     "start_time": "2025-07-28T10:51:13.064379",
     "status": "completed"
    },
    "tags": []
   },
   "outputs": [],
   "source": [
    "#siab"
   ]
  },
  {
   "cell_type": "code",
   "execution_count": 11,
   "id": "a0edb063",
   "metadata": {
    "execution": {
     "iopub.execute_input": "2025-07-28T10:51:13.145725Z",
     "iopub.status.busy": "2025-07-28T10:51:13.144741Z",
     "iopub.status.idle": "2025-07-28T10:51:13.150031Z",
     "shell.execute_reply": "2025-07-28T10:51:13.148947Z"
    },
    "papermill": {
     "duration": 0.033404,
     "end_time": "2025-07-28T10:51:13.151713",
     "exception": false,
     "start_time": "2025-07-28T10:51:13.118309",
     "status": "completed"
    },
    "tags": []
   },
   "outputs": [],
   "source": [
    "#import pandas as pd\n",
    "#\n",
    "#X_train = pd.read_csv(\"./data/X_train.csv\")\n",
    "#y_train = pd.read_csv(\"./data/y_train.csv\")"
   ]
  },
  {
   "cell_type": "code",
   "execution_count": 12,
   "id": "63d08085",
   "metadata": {
    "execution": {
     "iopub.execute_input": "2025-07-28T10:51:13.174984Z",
     "iopub.status.busy": "2025-07-28T10:51:13.174449Z",
     "iopub.status.idle": "2025-07-28T10:51:13.179206Z",
     "shell.execute_reply": "2025-07-28T10:51:13.178196Z"
    },
    "papermill": {
     "duration": 0.017842,
     "end_time": "2025-07-28T10:51:13.180875",
     "exception": false,
     "start_time": "2025-07-28T10:51:13.163033",
     "status": "completed"
    },
    "tags": []
   },
   "outputs": [],
   "source": [
    "#X_test = pd.read_csv(\"./data/X_test.csv\")\n",
    "#y_true = pd.read_csv(\"./data/y_test.csv\")"
   ]
  },
  {
   "cell_type": "code",
   "execution_count": 13,
   "id": "98a8d0fa-1d3d-4ed8-bb2c-281470e24add",
   "metadata": {
    "execution": {
     "iopub.execute_input": "2025-07-28T10:51:13.206230Z",
     "iopub.status.busy": "2025-07-28T10:51:13.205704Z",
     "iopub.status.idle": "2025-07-28T10:51:13.210427Z",
     "shell.execute_reply": "2025-07-28T10:51:13.209712Z"
    },
    "papermill": {
     "duration": 0.018454,
     "end_time": "2025-07-28T10:51:13.211849",
     "exception": false,
     "start_time": "2025-07-28T10:51:13.193395",
     "status": "completed"
    },
    "tags": []
   },
   "outputs": [],
   "source": [
    "# Calibration data for conformal\n",
    "#X_calib = pd.read_csv(\"./data/X_calib.csv\")\n",
    "#y_calib = pd.read_csv(\"./data/y_calib.csv\")"
   ]
  },
  {
   "cell_type": "markdown",
   "id": "9901737e-04df-44f0-9100-f5ad144ed040",
   "metadata": {
    "papermill": {
     "duration": 0.012025,
     "end_time": "2025-07-28T10:51:13.235296",
     "exception": false,
     "start_time": "2025-07-28T10:51:13.223271",
     "status": "completed"
    },
    "tags": []
   },
   "source": [
    "# Splitting Data and Setting Training Data Size"
   ]
  },
  {
   "cell_type": "code",
   "execution_count": 14,
   "id": "acbc8f7d-8fc8-4e86-8c59-5dcb0f58384b",
   "metadata": {
    "execution": {
     "iopub.execute_input": "2025-07-28T10:51:13.280228Z",
     "iopub.status.busy": "2025-07-28T10:51:13.279341Z",
     "iopub.status.idle": "2025-07-28T10:51:13.289086Z",
     "shell.execute_reply": "2025-07-28T10:51:13.287705Z"
    },
    "papermill": {
     "duration": 0.034201,
     "end_time": "2025-07-28T10:51:13.291115",
     "exception": false,
     "start_time": "2025-07-28T10:51:13.256914",
     "status": "completed"
    },
    "tags": []
   },
   "outputs": [],
   "source": [
    "def sample_by_year(df, training_size, random_state=42):\n",
    "    if training_size == \"2014\":\n",
    "        return df[df[\"year\"] == 2014].reset_index(drop=True)\n",
    "    \n",
    "    size_map = {\n",
    "        \"25k\": 5000,\n",
    "        \"5k\": 1000,\n",
    "        \"1k\": 200\n",
    "    }\n",
    "\n",
    "    if training_size not in size_map:\n",
    "        return df.reset_index(drop=True)  # use all data\n",
    "\n",
    "    n_per_year = size_map[training_size]\n",
    "    grouped = df.groupby(\"year\")\n",
    "    sampled = grouped.apply(lambda x: x.sample(n=min(n_per_year, len(x)), random_state=random_state))\n",
    "    return sampled.reset_index(drop=True)"
   ]
  },
  {
   "cell_type": "code",
   "execution_count": 15,
   "id": "6d931f52-beaf-43ff-9e78-9d44a448d54e",
   "metadata": {
    "execution": {
     "iopub.execute_input": "2025-07-28T10:51:13.335818Z",
     "iopub.status.busy": "2025-07-28T10:51:13.334994Z",
     "iopub.status.idle": "2025-07-28T10:51:14.039119Z",
     "shell.execute_reply": "2025-07-28T10:51:14.037993Z"
    },
    "papermill": {
     "duration": 0.727987,
     "end_time": "2025-07-28T10:51:14.041125",
     "exception": false,
     "start_time": "2025-07-28T10:51:13.313138",
     "status": "completed"
    },
    "tags": []
   },
   "outputs": [],
   "source": [
    "siab_s = sample_by_year(siab, universe[\"training_size\"])"
   ]
  },
  {
   "cell_type": "code",
   "execution_count": 16,
   "id": "5db0a40e-a4e2-4920-be85-b12ae061d70d",
   "metadata": {
    "execution": {
     "iopub.execute_input": "2025-07-28T10:51:14.099886Z",
     "iopub.status.busy": "2025-07-28T10:51:14.098795Z",
     "iopub.status.idle": "2025-07-28T10:51:14.115379Z",
     "shell.execute_reply": "2025-07-28T10:51:14.114207Z"
    },
    "papermill": {
     "duration": 0.043997,
     "end_time": "2025-07-28T10:51:14.117439",
     "exception": false,
     "start_time": "2025-07-28T10:51:14.073442",
     "status": "completed"
    },
    "tags": []
   },
   "outputs": [
    {
     "data": {
      "text/plain": [
       "year\n",
       "2010    200\n",
       "2011    200\n",
       "2012    200\n",
       "2013    200\n",
       "2014    200\n",
       "2015    200\n",
       "2016    200\n",
       "dtype: int64"
      ]
     },
     "metadata": {},
     "output_type": "display_data"
    }
   ],
   "source": [
    "display(siab_s.groupby(\"year\").size())"
   ]
  },
  {
   "cell_type": "code",
   "execution_count": 17,
   "id": "a561edb4-d032-42cb-8256-22eac1111c64",
   "metadata": {
    "execution": {
     "iopub.execute_input": "2025-07-28T10:51:14.163181Z",
     "iopub.status.busy": "2025-07-28T10:51:14.162001Z",
     "iopub.status.idle": "2025-07-28T10:51:14.429787Z",
     "shell.execute_reply": "2025-07-28T10:51:14.428562Z"
    },
    "papermill": {
     "duration": 0.292807,
     "end_time": "2025-07-28T10:51:14.432138",
     "exception": false,
     "start_time": "2025-07-28T10:51:14.139331",
     "status": "completed"
    },
    "tags": []
   },
   "outputs": [],
   "source": [
    "siab_train = siab_s[siab_s.year < 2015]\n",
    "siab_calib = siab[siab.year == 2015]\n",
    "siab_test = siab[siab.year == 2016]"
   ]
  },
  {
   "cell_type": "code",
   "execution_count": 18,
   "id": "472de16f-c3db-4916-846b-1f0de9cf1746",
   "metadata": {
    "execution": {
     "iopub.execute_input": "2025-07-28T10:51:14.498147Z",
     "iopub.status.busy": "2025-07-28T10:51:14.497057Z",
     "iopub.status.idle": "2025-07-28T10:51:14.505247Z",
     "shell.execute_reply": "2025-07-28T10:51:14.504061Z"
    },
    "papermill": {
     "duration": 0.03661,
     "end_time": "2025-07-28T10:51:14.507310",
     "exception": false,
     "start_time": "2025-07-28T10:51:14.470700",
     "status": "completed"
    },
    "tags": []
   },
   "outputs": [],
   "source": [
    "X_train = siab_train.iloc[:,4:164]\n",
    "y_train = siab_train.iloc[:, [3]]"
   ]
  },
  {
   "cell_type": "code",
   "execution_count": 19,
   "id": "828c96af-f43a-4ed6-ba47-8ac73a47d56c",
   "metadata": {
    "execution": {
     "iopub.execute_input": "2025-07-28T10:51:14.558382Z",
     "iopub.status.busy": "2025-07-28T10:51:14.557693Z",
     "iopub.status.idle": "2025-07-28T10:51:14.625636Z",
     "shell.execute_reply": "2025-07-28T10:51:14.624408Z"
    },
    "papermill": {
     "duration": 0.095847,
     "end_time": "2025-07-28T10:51:14.627720",
     "exception": false,
     "start_time": "2025-07-28T10:51:14.531873",
     "status": "completed"
    },
    "tags": []
   },
   "outputs": [],
   "source": [
    "X_calib = siab_calib.iloc[:,4:164]\n",
    "y_calib = siab_calib.iloc[:, [3]]"
   ]
  },
  {
   "cell_type": "code",
   "execution_count": 20,
   "id": "c34be9c3-6bd6-476e-acd3-845840e303be",
   "metadata": {
    "execution": {
     "iopub.execute_input": "2025-07-28T10:51:14.678328Z",
     "iopub.status.busy": "2025-07-28T10:51:14.677788Z",
     "iopub.status.idle": "2025-07-28T10:51:14.738114Z",
     "shell.execute_reply": "2025-07-28T10:51:14.736892Z"
    },
    "papermill": {
     "duration": 0.087834,
     "end_time": "2025-07-28T10:51:14.740432",
     "exception": false,
     "start_time": "2025-07-28T10:51:14.652598",
     "status": "completed"
    },
    "tags": []
   },
   "outputs": [],
   "source": [
    "X_test = siab_test.iloc[:,4:164]\n",
    "y_true = siab_test.iloc[:, [3]]"
   ]
  },
  {
   "cell_type": "code",
   "execution_count": 21,
   "id": "e6c733c5",
   "metadata": {
    "execution": {
     "iopub.execute_input": "2025-07-28T10:51:14.793936Z",
     "iopub.status.busy": "2025-07-28T10:51:14.792780Z",
     "iopub.status.idle": "2025-07-28T10:51:14.904612Z",
     "shell.execute_reply": "2025-07-28T10:51:14.903559Z"
    },
    "papermill": {
     "duration": 0.140282,
     "end_time": "2025-07-28T10:51:14.906667",
     "exception": false,
     "start_time": "2025-07-28T10:51:14.766385",
     "status": "completed"
    },
    "tags": []
   },
   "outputs": [],
   "source": [
    "# Auxiliary data needed downstream in the pipeline\n",
    "\n",
    "org_train = X_train.copy()\n",
    "org_test = X_test.copy()\n",
    "org_calib = X_calib.copy()"
   ]
  },
  {
   "cell_type": "markdown",
   "id": "0a4a1b33",
   "metadata": {
    "papermill": {
     "duration": 0.024954,
     "end_time": "2025-07-28T10:51:14.965360",
     "exception": false,
     "start_time": "2025-07-28T10:51:14.940406",
     "status": "completed"
    },
    "tags": []
   },
   "source": [
    "# Preprocessing Data"
   ]
  },
  {
   "cell_type": "code",
   "execution_count": 22,
   "id": "ca879031",
   "metadata": {
    "execution": {
     "iopub.execute_input": "2025-07-28T10:51:15.017545Z",
     "iopub.status.busy": "2025-07-28T10:51:15.016843Z",
     "iopub.status.idle": "2025-07-28T10:51:15.023229Z",
     "shell.execute_reply": "2025-07-28T10:51:15.022223Z"
    },
    "papermill": {
     "duration": 0.034686,
     "end_time": "2025-07-28T10:51:15.025130",
     "exception": false,
     "start_time": "2025-07-28T10:51:14.990444",
     "status": "completed"
    },
    "tags": []
   },
   "outputs": [],
   "source": [
    "# EXCLUDE PROTECTED FEATURES\n",
    "# ----------------------\n",
    "# \"exclude_features\": \"none\", # \"nationality\", \"sex\", \"nationality-sex\"\n",
    "\n",
    "excluded_features = universe[\"exclude_features\"].split(\"-\") # split, e.g.: \"nationality-sex\" -> [\"nationality\", \"sex\"]\n",
    "excluded_features_dictionary = {\n",
    "    \"nationality\": [\"maxdeutsch1\", \"maxdeutsch.Missing.\"],\n",
    "    \"sex\": [\"frau1\"],\n",
    "    \"age\": [\"age\"],\n",
    "}\n"
   ]
  },
  {
   "cell_type": "code",
   "execution_count": 23,
   "id": "b745ac60",
   "metadata": {
    "execution": {
     "iopub.execute_input": "2025-07-28T10:51:15.069634Z",
     "iopub.status.busy": "2025-07-28T10:51:15.068968Z",
     "iopub.status.idle": "2025-07-28T10:51:15.075053Z",
     "shell.execute_reply": "2025-07-28T10:51:15.073998Z"
    },
    "papermill": {
     "duration": 0.028548,
     "end_time": "2025-07-28T10:51:15.076953",
     "exception": false,
     "start_time": "2025-07-28T10:51:15.048405",
     "status": "completed"
    },
    "tags": []
   },
   "outputs": [],
   "source": [
    "# Code nice names to column names\n",
    "\n",
    "excluded_features_columns = [\n",
    "    excluded_features_dictionary[f] for f in excluded_features if len(f) > 0 and f != \"none\"\n",
    "]"
   ]
  },
  {
   "cell_type": "code",
   "execution_count": 24,
   "id": "f84f73a2",
   "metadata": {
    "execution": {
     "iopub.execute_input": "2025-07-28T10:51:15.114697Z",
     "iopub.status.busy": "2025-07-28T10:51:15.113789Z",
     "iopub.status.idle": "2025-07-28T10:51:15.120296Z",
     "shell.execute_reply": "2025-07-28T10:51:15.119182Z"
    },
    "papermill": {
     "duration": 0.025287,
     "end_time": "2025-07-28T10:51:15.122072",
     "exception": false,
     "start_time": "2025-07-28T10:51:15.096785",
     "status": "completed"
    },
    "tags": []
   },
   "outputs": [],
   "source": [
    "from utils import flatten_once\n",
    "\n",
    "excluded_features_columns = flatten_once(excluded_features_columns)"
   ]
  },
  {
   "cell_type": "code",
   "execution_count": 25,
   "id": "884dea22",
   "metadata": {
    "execution": {
     "iopub.execute_input": "2025-07-28T10:51:15.169308Z",
     "iopub.status.busy": "2025-07-28T10:51:15.168644Z",
     "iopub.status.idle": "2025-07-28T10:51:15.178243Z",
     "shell.execute_reply": "2025-07-28T10:51:15.177004Z"
    },
    "papermill": {
     "duration": 0.03471,
     "end_time": "2025-07-28T10:51:15.180204",
     "exception": false,
     "start_time": "2025-07-28T10:51:15.145494",
     "status": "completed"
    },
    "tags": []
   },
   "outputs": [
    {
     "name": "stdout",
     "output_type": "stream",
     "text": [
      "Dropping features: ['frau1']\n"
     ]
    }
   ],
   "source": [
    "if len(excluded_features_columns) > 0:\n",
    "    print(f\"Dropping features: {excluded_features_columns}\")\n",
    "    X_train.drop(excluded_features_columns, axis=1, inplace=True)"
   ]
  },
  {
   "cell_type": "code",
   "execution_count": 26,
   "id": "95ab8b16",
   "metadata": {
    "execution": {
     "iopub.execute_input": "2025-07-28T10:51:15.228203Z",
     "iopub.status.busy": "2025-07-28T10:51:15.227665Z",
     "iopub.status.idle": "2025-07-28T10:51:15.302546Z",
     "shell.execute_reply": "2025-07-28T10:51:15.301443Z"
    },
    "papermill": {
     "duration": 0.101232,
     "end_time": "2025-07-28T10:51:15.304475",
     "exception": false,
     "start_time": "2025-07-28T10:51:15.203243",
     "status": "completed"
    },
    "tags": []
   },
   "outputs": [
    {
     "name": "stdout",
     "output_type": "stream",
     "text": [
      "Dropping features: ['frau1']\n"
     ]
    }
   ],
   "source": [
    "if len(excluded_features_columns) > 0:\n",
    "    print(f\"Dropping features: {excluded_features_columns}\")\n",
    "    X_test.drop(excluded_features_columns, axis=1, inplace=True)"
   ]
  },
  {
   "cell_type": "code",
   "execution_count": 27,
   "id": "1853aaf5-fb9f-46cb-a2b5-8ea4ae2237e4",
   "metadata": {
    "execution": {
     "iopub.execute_input": "2025-07-28T10:51:15.353238Z",
     "iopub.status.busy": "2025-07-28T10:51:15.352486Z",
     "iopub.status.idle": "2025-07-28T10:51:15.412012Z",
     "shell.execute_reply": "2025-07-28T10:51:15.410732Z"
    },
    "papermill": {
     "duration": 0.085307,
     "end_time": "2025-07-28T10:51:15.413792",
     "exception": false,
     "start_time": "2025-07-28T10:51:15.328485",
     "status": "completed"
    },
    "tags": []
   },
   "outputs": [
    {
     "name": "stdout",
     "output_type": "stream",
     "text": [
      "Dropping features: ['frau1']\n"
     ]
    }
   ],
   "source": [
    "if len(excluded_features_columns) > 0:\n",
    "    print(f\"Dropping features: {excluded_features_columns}\")\n",
    "    X_calib.drop(excluded_features_columns, axis=1, inplace=True)"
   ]
  },
  {
   "cell_type": "code",
   "execution_count": 28,
   "id": "6727d079-03e5-481e-9d38-292a90b7a0a8",
   "metadata": {
    "execution": {
     "iopub.execute_input": "2025-07-28T10:51:15.463703Z",
     "iopub.status.busy": "2025-07-28T10:51:15.463015Z",
     "iopub.status.idle": "2025-07-28T10:51:15.467833Z",
     "shell.execute_reply": "2025-07-28T10:51:15.466912Z"
    },
    "papermill": {
     "duration": 0.02957,
     "end_time": "2025-07-28T10:51:15.469478",
     "exception": false,
     "start_time": "2025-07-28T10:51:15.439908",
     "status": "completed"
    },
    "tags": []
   },
   "outputs": [],
   "source": [
    "# SPLIT & STRATIFY DATA\n",
    "# ----------------------"
   ]
  },
  {
   "cell_type": "code",
   "execution_count": 29,
   "id": "76c4dc6d",
   "metadata": {
    "execution": {
     "iopub.execute_input": "2025-07-28T10:51:15.514232Z",
     "iopub.status.busy": "2025-07-28T10:51:15.513685Z",
     "iopub.status.idle": "2025-07-28T10:51:15.519548Z",
     "shell.execute_reply": "2025-07-28T10:51:15.518375Z"
    },
    "papermill": {
     "duration": 0.030262,
     "end_time": "2025-07-28T10:51:15.521510",
     "exception": false,
     "start_time": "2025-07-28T10:51:15.491248",
     "status": "completed"
    },
    "tags": []
   },
   "outputs": [],
   "source": [
    "# EXCLUDE CERTAIN SUBGROUPS\n",
    "# ----------------------\n",
    "\n",
    "mode = universe.get(\"exclude_subgroups\", \"keep-all\") \n",
    "# Fetches the exclude_subgroups setting from the universe dict.\n",
    "# Defaults to \"keep-all\" if the key is missing."
   ]
  },
  {
   "cell_type": "code",
   "execution_count": 30,
   "id": "21994072",
   "metadata": {
    "execution": {
     "iopub.execute_input": "2025-07-28T10:51:15.565159Z",
     "iopub.status.busy": "2025-07-28T10:51:15.564487Z",
     "iopub.status.idle": "2025-07-28T10:51:15.571513Z",
     "shell.execute_reply": "2025-07-28T10:51:15.570530Z"
    },
    "papermill": {
     "duration": 0.03087,
     "end_time": "2025-07-28T10:51:15.573153",
     "exception": false,
     "start_time": "2025-07-28T10:51:15.542283",
     "status": "completed"
    },
    "tags": []
   },
   "outputs": [],
   "source": [
    "if mode == \"keep-all\":\n",
    "    keep_mask = pd.Series(True, index=org_train.index)\n",
    "\n",
    "# org_train contains the original feature columns from features_org (in Simson)\n",
    "# features_org contains unprocessed features, for me X_train at beginning ???\n",
    "# For keep-all, creates a boolean Series (keep_mask) of all True, so no rows are removed.\n",
    "\n",
    "elif mode == \"drop-non-german\":\n",
    "    keep_mask = org_train[\"maxdeutsch1\"] == 1 # ??? what about missing values?\n",
    "\n",
    "else:\n",
    "    raise ValueError(f\"Unsupported mode for exclude_subgroups: {mode}\")\n"
   ]
  },
  {
   "cell_type": "code",
   "execution_count": 31,
   "id": "71651440",
   "metadata": {
    "execution": {
     "iopub.execute_input": "2025-07-28T10:51:15.617530Z",
     "iopub.status.busy": "2025-07-28T10:51:15.616984Z",
     "iopub.status.idle": "2025-07-28T10:51:15.623437Z",
     "shell.execute_reply": "2025-07-28T10:51:15.622488Z"
    },
    "papermill": {
     "duration": 0.030626,
     "end_time": "2025-07-28T10:51:15.625211",
     "exception": false,
     "start_time": "2025-07-28T10:51:15.594585",
     "status": "completed"
    },
    "tags": []
   },
   "outputs": [],
   "source": [
    "n_drop = (~keep_mask).sum() # Calculates how many rows are set to be dropped\n",
    "if n_drop > 0:\n",
    "    pct = n_drop / len(keep_mask) * 100\n",
    "    print(f\"Dropping {n_drop} rows ({pct:.2f}%) where mode='{mode}'\")"
   ]
  },
  {
   "cell_type": "code",
   "execution_count": 32,
   "id": "5fb8eee5",
   "metadata": {
    "execution": {
     "iopub.execute_input": "2025-07-28T10:51:15.671306Z",
     "iopub.status.busy": "2025-07-28T10:51:15.670345Z",
     "iopub.status.idle": "2025-07-28T10:51:15.676531Z",
     "shell.execute_reply": "2025-07-28T10:51:15.675589Z"
    },
    "papermill": {
     "duration": 0.029888,
     "end_time": "2025-07-28T10:51:15.678211",
     "exception": false,
     "start_time": "2025-07-28T10:51:15.648323",
     "status": "completed"
    },
    "tags": []
   },
   "outputs": [],
   "source": [
    "X_train = X_train[keep_mask]"
   ]
  },
  {
   "cell_type": "code",
   "execution_count": 33,
   "id": "b202bb3a",
   "metadata": {
    "execution": {
     "iopub.execute_input": "2025-07-28T10:51:15.725861Z",
     "iopub.status.busy": "2025-07-28T10:51:15.725072Z",
     "iopub.status.idle": "2025-07-28T10:51:15.731801Z",
     "shell.execute_reply": "2025-07-28T10:51:15.730967Z"
    },
    "papermill": {
     "duration": 0.031418,
     "end_time": "2025-07-28T10:51:15.733451",
     "exception": false,
     "start_time": "2025-07-28T10:51:15.702033",
     "status": "completed"
    },
    "tags": []
   },
   "outputs": [],
   "source": [
    "y_train = y_train[keep_mask]"
   ]
  },
  {
   "cell_type": "markdown",
   "id": "493e2ac3",
   "metadata": {
    "papermill": {
     "duration": 0.021056,
     "end_time": "2025-07-28T10:51:15.775735",
     "exception": false,
     "start_time": "2025-07-28T10:51:15.754679",
     "status": "completed"
    },
    "tags": []
   },
   "source": [
    "# Model Training"
   ]
  },
  {
   "cell_type": "code",
   "execution_count": 34,
   "id": "679e1268",
   "metadata": {
    "execution": {
     "iopub.execute_input": "2025-07-28T10:51:15.819097Z",
     "iopub.status.busy": "2025-07-28T10:51:15.818446Z",
     "iopub.status.idle": "2025-07-28T10:51:15.925377Z",
     "shell.execute_reply": "2025-07-28T10:51:15.924318Z"
    },
    "papermill": {
     "duration": 0.131378,
     "end_time": "2025-07-28T10:51:15.927617",
     "exception": false,
     "start_time": "2025-07-28T10:51:15.796239",
     "status": "completed"
    },
    "tags": []
   },
   "outputs": [],
   "source": [
    "from sklearn.linear_model import LogisticRegression\n",
    "from sklearn.ensemble import GradientBoostingClassifier, RandomForestClassifier\n",
    "\n",
    "if (universe[\"model\"] == \"logreg\"):\n",
    "    model = LogisticRegression() #penalty=\"none\") #, solver=\"newton-cg\", max_iter=1) # include random_state=19 ?\n",
    "elif (universe[\"model\"] == \"penalized_logreg\"):\n",
    "    model = LogisticRegression(penalty=\"l2\", C=1.0) #, solver=\"newton-cg\", max_iter=1)\n",
    "elif (universe[\"model\"] == \"rf\"):\n",
    "    model = RandomForestClassifier(n_estimators=100, n_jobs=-1)\n",
    "elif (universe[\"model\"] == \"gbm\"):\n",
    "    model = GradientBoostingClassifier()\n",
    "elif (universe[\"model\"] == \"elasticnet\"):\n",
    "    model = LogisticRegression(penalty = 'elasticnet', solver = 'saga', l1_ratio = 0.5, max_iter=5000) # which solver to use?\n",
    "else:\n",
    "    raise \"Unsupported universe.model\""
   ]
  },
  {
   "cell_type": "code",
   "execution_count": 35,
   "id": "0cc8f744",
   "metadata": {
    "execution": {
     "iopub.execute_input": "2025-07-28T10:51:15.971862Z",
     "iopub.status.busy": "2025-07-28T10:51:15.971344Z",
     "iopub.status.idle": "2025-07-28T10:51:15.977890Z",
     "shell.execute_reply": "2025-07-28T10:51:15.976969Z"
    },
    "papermill": {
     "duration": 0.030276,
     "end_time": "2025-07-28T10:51:15.979575",
     "exception": false,
     "start_time": "2025-07-28T10:51:15.949299",
     "status": "completed"
    },
    "tags": []
   },
   "outputs": [],
   "source": [
    "import numpy as np\n",
    "from sklearn.pipeline import Pipeline\n",
    "from sklearn.preprocessing import StandardScaler\n",
    "\n",
    "model = Pipeline([\n",
    "    #(\"continuous_processor\", continuous_processor),\n",
    "    #(\"categorical_preprocessor\", categorical_preprocessor),\n",
    "    (\"scale\", StandardScaler() if universe[\"scale\"] == \"scale\" else None), \n",
    "    (\"model\", model),\n",
    "])"
   ]
  },
  {
   "cell_type": "code",
   "execution_count": 36,
   "id": "9442c04d",
   "metadata": {
    "execution": {
     "iopub.execute_input": "2025-07-28T10:51:16.023484Z",
     "iopub.status.busy": "2025-07-28T10:51:16.022995Z",
     "iopub.status.idle": "2025-07-28T10:51:17.172232Z",
     "shell.execute_reply": "2025-07-28T10:51:17.171232Z"
    },
    "papermill": {
     "duration": 1.173011,
     "end_time": "2025-07-28T10:51:17.173954",
     "exception": false,
     "start_time": "2025-07-28T10:51:16.000943",
     "status": "completed"
    },
    "tags": []
   },
   "outputs": [
    {
     "data": {
      "text/html": [
       "<style>#sk-container-id-1 {color: black;background-color: white;}#sk-container-id-1 pre{padding: 0;}#sk-container-id-1 div.sk-toggleable {background-color: white;}#sk-container-id-1 label.sk-toggleable__label {cursor: pointer;display: block;width: 100%;margin-bottom: 0;padding: 0.3em;box-sizing: border-box;text-align: center;}#sk-container-id-1 label.sk-toggleable__label-arrow:before {content: \"▸\";float: left;margin-right: 0.25em;color: #696969;}#sk-container-id-1 label.sk-toggleable__label-arrow:hover:before {color: black;}#sk-container-id-1 div.sk-estimator:hover label.sk-toggleable__label-arrow:before {color: black;}#sk-container-id-1 div.sk-toggleable__content {max-height: 0;max-width: 0;overflow: hidden;text-align: left;background-color: #f0f8ff;}#sk-container-id-1 div.sk-toggleable__content pre {margin: 0.2em;color: black;border-radius: 0.25em;background-color: #f0f8ff;}#sk-container-id-1 input.sk-toggleable__control:checked~div.sk-toggleable__content {max-height: 200px;max-width: 100%;overflow: auto;}#sk-container-id-1 input.sk-toggleable__control:checked~label.sk-toggleable__label-arrow:before {content: \"▾\";}#sk-container-id-1 div.sk-estimator input.sk-toggleable__control:checked~label.sk-toggleable__label {background-color: #d4ebff;}#sk-container-id-1 div.sk-label input.sk-toggleable__control:checked~label.sk-toggleable__label {background-color: #d4ebff;}#sk-container-id-1 input.sk-hidden--visually {border: 0;clip: rect(1px 1px 1px 1px);clip: rect(1px, 1px, 1px, 1px);height: 1px;margin: -1px;overflow: hidden;padding: 0;position: absolute;width: 1px;}#sk-container-id-1 div.sk-estimator {font-family: monospace;background-color: #f0f8ff;border: 1px dotted black;border-radius: 0.25em;box-sizing: border-box;margin-bottom: 0.5em;}#sk-container-id-1 div.sk-estimator:hover {background-color: #d4ebff;}#sk-container-id-1 div.sk-parallel-item::after {content: \"\";width: 100%;border-bottom: 1px solid gray;flex-grow: 1;}#sk-container-id-1 div.sk-label:hover label.sk-toggleable__label {background-color: #d4ebff;}#sk-container-id-1 div.sk-serial::before {content: \"\";position: absolute;border-left: 1px solid gray;box-sizing: border-box;top: 0;bottom: 0;left: 50%;z-index: 0;}#sk-container-id-1 div.sk-serial {display: flex;flex-direction: column;align-items: center;background-color: white;padding-right: 0.2em;padding-left: 0.2em;position: relative;}#sk-container-id-1 div.sk-item {position: relative;z-index: 1;}#sk-container-id-1 div.sk-parallel {display: flex;align-items: stretch;justify-content: center;background-color: white;position: relative;}#sk-container-id-1 div.sk-item::before, #sk-container-id-1 div.sk-parallel-item::before {content: \"\";position: absolute;border-left: 1px solid gray;box-sizing: border-box;top: 0;bottom: 0;left: 50%;z-index: -1;}#sk-container-id-1 div.sk-parallel-item {display: flex;flex-direction: column;z-index: 1;position: relative;background-color: white;}#sk-container-id-1 div.sk-parallel-item:first-child::after {align-self: flex-end;width: 50%;}#sk-container-id-1 div.sk-parallel-item:last-child::after {align-self: flex-start;width: 50%;}#sk-container-id-1 div.sk-parallel-item:only-child::after {width: 0;}#sk-container-id-1 div.sk-dashed-wrapped {border: 1px dashed gray;margin: 0 0.4em 0.5em 0.4em;box-sizing: border-box;padding-bottom: 0.4em;background-color: white;}#sk-container-id-1 div.sk-label label {font-family: monospace;font-weight: bold;display: inline-block;line-height: 1.2em;}#sk-container-id-1 div.sk-label-container {text-align: center;}#sk-container-id-1 div.sk-container {/* jupyter's `normalize.less` sets `[hidden] { display: none; }` but bootstrap.min.css set `[hidden] { display: none !important; }` so we also need the `!important` here to be able to override the default hidden behavior on the sphinx rendered scikit-learn.org. See: https://github.com/scikit-learn/scikit-learn/issues/21755 */display: inline-block !important;position: relative;}#sk-container-id-1 div.sk-text-repr-fallback {display: none;}</style><div id=\"sk-container-id-1\" class=\"sk-top-container\"><div class=\"sk-text-repr-fallback\"><pre>Pipeline(steps=[(&#x27;scale&#x27;, None), (&#x27;model&#x27;, GradientBoostingClassifier())])</pre><b>In a Jupyter environment, please rerun this cell to show the HTML representation or trust the notebook. <br />On GitHub, the HTML representation is unable to render, please try loading this page with nbviewer.org.</b></div><div class=\"sk-container\" hidden><div class=\"sk-item sk-dashed-wrapped\"><div class=\"sk-label-container\"><div class=\"sk-label sk-toggleable\"><input class=\"sk-toggleable__control sk-hidden--visually\" id=\"sk-estimator-id-1\" type=\"checkbox\" ><label for=\"sk-estimator-id-1\" class=\"sk-toggleable__label sk-toggleable__label-arrow\">Pipeline</label><div class=\"sk-toggleable__content\"><pre>Pipeline(steps=[(&#x27;scale&#x27;, None), (&#x27;model&#x27;, GradientBoostingClassifier())])</pre></div></div></div><div class=\"sk-serial\"><div class=\"sk-item\"><div class=\"sk-estimator sk-toggleable\"><input class=\"sk-toggleable__control sk-hidden--visually\" id=\"sk-estimator-id-2\" type=\"checkbox\" ><label for=\"sk-estimator-id-2\" class=\"sk-toggleable__label sk-toggleable__label-arrow\">None</label><div class=\"sk-toggleable__content\"><pre>None</pre></div></div></div><div class=\"sk-item\"><div class=\"sk-estimator sk-toggleable\"><input class=\"sk-toggleable__control sk-hidden--visually\" id=\"sk-estimator-id-3\" type=\"checkbox\" ><label for=\"sk-estimator-id-3\" class=\"sk-toggleable__label sk-toggleable__label-arrow\">GradientBoostingClassifier</label><div class=\"sk-toggleable__content\"><pre>GradientBoostingClassifier()</pre></div></div></div></div></div></div></div>"
      ],
      "text/plain": [
       "Pipeline(steps=[('scale', None), ('model', GradientBoostingClassifier())])"
      ]
     },
     "execution_count": 36,
     "metadata": {},
     "output_type": "execute_result"
    }
   ],
   "source": [
    "model.fit(X_train, y_train.values.ravel())"
   ]
  },
  {
   "cell_type": "code",
   "execution_count": 37,
   "id": "af59f8c0",
   "metadata": {
    "execution": {
     "iopub.execute_input": "2025-07-28T10:51:17.219440Z",
     "iopub.status.busy": "2025-07-28T10:51:17.218972Z",
     "iopub.status.idle": "2025-07-28T10:51:17.224724Z",
     "shell.execute_reply": "2025-07-28T10:51:17.223674Z"
    },
    "papermill": {
     "duration": 0.030706,
     "end_time": "2025-07-28T10:51:17.226536",
     "exception": false,
     "start_time": "2025-07-28T10:51:17.195830",
     "status": "completed"
    },
    "tags": []
   },
   "outputs": [],
   "source": [
    "from fairness_multiverse.universe import predict_w_threshold"
   ]
  },
  {
   "cell_type": "code",
   "execution_count": 38,
   "id": "a7cf2e16",
   "metadata": {
    "execution": {
     "iopub.execute_input": "2025-07-28T10:51:17.273251Z",
     "iopub.status.busy": "2025-07-28T10:51:17.272725Z",
     "iopub.status.idle": "2025-07-28T10:51:17.993453Z",
     "shell.execute_reply": "2025-07-28T10:51:17.992558Z"
    },
    "papermill": {
     "duration": 0.746403,
     "end_time": "2025-07-28T10:51:17.995116",
     "exception": false,
     "start_time": "2025-07-28T10:51:17.248713",
     "status": "completed"
    },
    "tags": []
   },
   "outputs": [
    {
     "data": {
      "text/plain": [
       "0.8406420688886411"
      ]
     },
     "execution_count": 38,
     "metadata": {},
     "output_type": "execute_result"
    }
   ],
   "source": [
    "probs_test = model.predict_proba(X_test)\n",
    "\n",
    "'''\n",
    "Below code returns a boolean array (or binary 0/1 array depending on how it’s used) where each element \n",
    "is True if the probability of class 1 is greater than or equal to the threshold, and False otherwise.\n",
    "'''\n",
    "y_pred_default = predict_w_threshold(probs_test, 0.5)\n",
    "\n",
    "from sklearn.metrics import accuracy_score\n",
    "\n",
    "# Naive prediction\n",
    "accuracy_score(y_true = y_true, y_pred = y_pred_default)"
   ]
  },
  {
   "cell_type": "code",
   "execution_count": 39,
   "id": "081964c3",
   "metadata": {
    "execution": {
     "iopub.execute_input": "2025-07-28T10:51:18.042233Z",
     "iopub.status.busy": "2025-07-28T10:51:18.041572Z",
     "iopub.status.idle": "2025-07-28T10:51:18.726417Z",
     "shell.execute_reply": "2025-07-28T10:51:18.725522Z"
    },
    "papermill": {
     "duration": 0.710644,
     "end_time": "2025-07-28T10:51:18.728274",
     "exception": false,
     "start_time": "2025-07-28T10:51:18.017630",
     "status": "completed"
    },
    "tags": []
   },
   "outputs": [
    {
     "data": {
      "text/plain": [
       "array([0, 0, 0, ..., 1, 0, 0])"
      ]
     },
     "execution_count": 39,
     "metadata": {},
     "output_type": "execute_result"
    }
   ],
   "source": [
    "model.predict(X_test)"
   ]
  },
  {
   "cell_type": "markdown",
   "id": "56c9705b",
   "metadata": {
    "papermill": {
     "duration": 0.021406,
     "end_time": "2025-07-28T10:51:18.774553",
     "exception": false,
     "start_time": "2025-07-28T10:51:18.753147",
     "status": "completed"
    },
    "tags": []
   },
   "source": [
    "# Conformal Prediction"
   ]
  },
  {
   "cell_type": "code",
   "execution_count": 40,
   "id": "160ec6ff",
   "metadata": {
    "execution": {
     "iopub.execute_input": "2025-07-28T10:51:18.822410Z",
     "iopub.status.busy": "2025-07-28T10:51:18.821557Z",
     "iopub.status.idle": "2025-07-28T10:51:18.827536Z",
     "shell.execute_reply": "2025-07-28T10:51:18.826453Z"
    },
    "papermill": {
     "duration": 0.031422,
     "end_time": "2025-07-28T10:51:18.829274",
     "exception": false,
     "start_time": "2025-07-28T10:51:18.797852",
     "status": "completed"
    },
    "tags": []
   },
   "outputs": [],
   "source": [
    "# Miscoverage level for conformal prediction (10% allowed error rate => 90% target coverage)\n",
    "alpha = 0.1"
   ]
  },
  {
   "cell_type": "code",
   "execution_count": 41,
   "id": "eadf4555-3dd3-440e-8e35-f82a4ad9f855",
   "metadata": {
    "execution": {
     "iopub.execute_input": "2025-07-28T10:51:18.876784Z",
     "iopub.status.busy": "2025-07-28T10:51:18.876242Z",
     "iopub.status.idle": "2025-07-28T10:51:19.535452Z",
     "shell.execute_reply": "2025-07-28T10:51:19.534389Z"
    },
    "papermill": {
     "duration": 0.685696,
     "end_time": "2025-07-28T10:51:19.537476",
     "exception": false,
     "start_time": "2025-07-28T10:51:18.851780",
     "status": "completed"
    },
    "tags": []
   },
   "outputs": [],
   "source": [
    "probs_calib = model.predict_proba(X_calib)"
   ]
  },
  {
   "cell_type": "code",
   "execution_count": 42,
   "id": "2ed93547-6d5d-4983-9b36-1ecb300da49a",
   "metadata": {
    "execution": {
     "iopub.execute_input": "2025-07-28T10:51:19.589308Z",
     "iopub.status.busy": "2025-07-28T10:51:19.588536Z",
     "iopub.status.idle": "2025-07-28T10:51:19.594414Z",
     "shell.execute_reply": "2025-07-28T10:51:19.593446Z"
    },
    "papermill": {
     "duration": 0.0347,
     "end_time": "2025-07-28T10:51:19.596540",
     "exception": false,
     "start_time": "2025-07-28T10:51:19.561840",
     "status": "completed"
    },
    "tags": []
   },
   "outputs": [],
   "source": [
    "y_calib = y_calib.values.ravel().astype(int)"
   ]
  },
  {
   "cell_type": "code",
   "execution_count": 43,
   "id": "65d1320d-f588-4b38-9072-62af1ae97f7d",
   "metadata": {
    "execution": {
     "iopub.execute_input": "2025-07-28T10:51:19.645001Z",
     "iopub.status.busy": "2025-07-28T10:51:19.643985Z",
     "iopub.status.idle": "2025-07-28T10:51:19.652349Z",
     "shell.execute_reply": "2025-07-28T10:51:19.651291Z"
    },
    "papermill": {
     "duration": 0.034323,
     "end_time": "2025-07-28T10:51:19.654299",
     "exception": false,
     "start_time": "2025-07-28T10:51:19.619976",
     "status": "completed"
    },
    "tags": []
   },
   "outputs": [],
   "source": [
    "from fairness_multiverse.conformal import compute_nc_scores\n",
    "\n",
    "# Compute nonconformity scores on calibration set (1 - probability of true class)\n",
    "nc_scores = compute_nc_scores(probs_calib, y_calib)"
   ]
  },
  {
   "cell_type": "code",
   "execution_count": 44,
   "id": "df3b8ca3-53b7-43d5-9667-7c85da7aeda2",
   "metadata": {
    "execution": {
     "iopub.execute_input": "2025-07-28T10:51:19.688434Z",
     "iopub.status.busy": "2025-07-28T10:51:19.687791Z",
     "iopub.status.idle": "2025-07-28T10:51:19.694133Z",
     "shell.execute_reply": "2025-07-28T10:51:19.693376Z"
    },
    "papermill": {
     "duration": 0.021386,
     "end_time": "2025-07-28T10:51:19.695551",
     "exception": false,
     "start_time": "2025-07-28T10:51:19.674165",
     "status": "completed"
    },
    "tags": []
   },
   "outputs": [],
   "source": [
    "from fairness_multiverse.conformal import find_threshold\n",
    "\n",
    "# Find conformal threshold q_hat for the given alpha (split conformal method)\n",
    "q_hat = find_threshold(nc_scores, alpha)"
   ]
  },
  {
   "cell_type": "code",
   "execution_count": 45,
   "id": "4d29e6c1-0ef6-4aa4-b8fe-4fe79b0d033a",
   "metadata": {
    "execution": {
     "iopub.execute_input": "2025-07-28T10:51:19.722128Z",
     "iopub.status.busy": "2025-07-28T10:51:19.721719Z",
     "iopub.status.idle": "2025-07-28T10:51:19.728588Z",
     "shell.execute_reply": "2025-07-28T10:51:19.727772Z"
    },
    "papermill": {
     "duration": 0.021351,
     "end_time": "2025-07-28T10:51:19.729961",
     "exception": false,
     "start_time": "2025-07-28T10:51:19.708610",
     "status": "completed"
    },
    "tags": []
   },
   "outputs": [
    {
     "data": {
      "text/plain": [
       "0.7473176416411174"
      ]
     },
     "execution_count": 45,
     "metadata": {},
     "output_type": "execute_result"
    }
   ],
   "source": [
    "q_hat"
   ]
  },
  {
   "cell_type": "code",
   "execution_count": 46,
   "id": "92460794-cdac-4be2-ba28-f28c0515a6fb",
   "metadata": {
    "execution": {
     "iopub.execute_input": "2025-07-28T10:51:19.756922Z",
     "iopub.status.busy": "2025-07-28T10:51:19.756420Z",
     "iopub.status.idle": "2025-07-28T10:51:20.732705Z",
     "shell.execute_reply": "2025-07-28T10:51:20.731856Z"
    },
    "papermill": {
     "duration": 0.991115,
     "end_time": "2025-07-28T10:51:20.734108",
     "exception": false,
     "start_time": "2025-07-28T10:51:19.742993",
     "status": "completed"
    },
    "tags": []
   },
   "outputs": [],
   "source": [
    "from fairness_multiverse.conformal import predict_conformal_sets\n",
    "\n",
    "# Generate prediction sets for each test example\n",
    "pred_sets = predict_conformal_sets(model, X_test, q_hat)"
   ]
  },
  {
   "cell_type": "code",
   "execution_count": 47,
   "id": "d90c9a65-e6db-4f5d-80cd-e68fb7e46829",
   "metadata": {
    "execution": {
     "iopub.execute_input": "2025-07-28T10:51:20.760553Z",
     "iopub.status.busy": "2025-07-28T10:51:20.760140Z",
     "iopub.status.idle": "2025-07-28T10:51:20.765647Z",
     "shell.execute_reply": "2025-07-28T10:51:20.764584Z"
    },
    "papermill": {
     "duration": 0.019968,
     "end_time": "2025-07-28T10:51:20.767102",
     "exception": false,
     "start_time": "2025-07-28T10:51:20.747134",
     "status": "completed"
    },
    "tags": []
   },
   "outputs": [],
   "source": [
    "y_true = y_true.squeeze()"
   ]
  },
  {
   "cell_type": "code",
   "execution_count": 48,
   "id": "3a58a54a-1e68-46b9-927a-df01f18aebc8",
   "metadata": {
    "execution": {
     "iopub.execute_input": "2025-07-28T10:51:20.793594Z",
     "iopub.status.busy": "2025-07-28T10:51:20.793101Z",
     "iopub.status.idle": "2025-07-28T10:51:21.551283Z",
     "shell.execute_reply": "2025-07-28T10:51:21.550189Z"
    },
    "papermill": {
     "duration": 0.772521,
     "end_time": "2025-07-28T10:51:21.552928",
     "exception": false,
     "start_time": "2025-07-28T10:51:20.780407",
     "status": "completed"
    },
    "tags": []
   },
   "outputs": [],
   "source": [
    "from fairness_multiverse.conformal import evaluate_sets\n",
    "\n",
    "# Evaluate coverage and average set size on test data\n",
    "metrics = evaluate_sets(pred_sets, y_true)"
   ]
  },
  {
   "cell_type": "markdown",
   "id": "2b569c12-9aaa-4c88-98c9-bbcd0cf3ebb8",
   "metadata": {
    "papermill": {
     "duration": 0.025964,
     "end_time": "2025-07-28T10:51:21.603088",
     "exception": false,
     "start_time": "2025-07-28T10:51:21.577124",
     "status": "completed"
    },
    "tags": []
   },
   "source": [
    "# CP Metrics"
   ]
  },
  {
   "cell_type": "code",
   "execution_count": 49,
   "id": "5ce0a5cb-201f-45a0-ade5-94c7f0bd6095",
   "metadata": {
    "execution": {
     "iopub.execute_input": "2025-07-28T10:51:21.656406Z",
     "iopub.status.busy": "2025-07-28T10:51:21.655718Z",
     "iopub.status.idle": "2025-07-28T10:51:21.663814Z",
     "shell.execute_reply": "2025-07-28T10:51:21.662678Z"
    },
    "papermill": {
     "duration": 0.036793,
     "end_time": "2025-07-28T10:51:21.665598",
     "exception": false,
     "start_time": "2025-07-28T10:51:21.628805",
     "status": "completed"
    },
    "tags": []
   },
   "outputs": [
    {
     "data": {
      "text/plain": [
       "{'coverage': 0.9117266748411549, 'avg_size': 1.1783301750083603}"
      ]
     },
     "execution_count": 49,
     "metadata": {},
     "output_type": "execute_result"
    }
   ],
   "source": [
    "metrics"
   ]
  },
  {
   "cell_type": "code",
   "execution_count": 50,
   "id": "9b9a838d-31c9-430b-ae14-12baee460d17",
   "metadata": {
    "execution": {
     "iopub.execute_input": "2025-07-28T10:51:21.720557Z",
     "iopub.status.busy": "2025-07-28T10:51:21.719637Z",
     "iopub.status.idle": "2025-07-28T10:51:21.726605Z",
     "shell.execute_reply": "2025-07-28T10:51:21.725545Z"
    },
    "papermill": {
     "duration": 0.03643,
     "end_time": "2025-07-28T10:51:21.728673",
     "exception": false,
     "start_time": "2025-07-28T10:51:21.692243",
     "status": "completed"
    },
    "tags": []
   },
   "outputs": [],
   "source": [
    "example_universe = universe.copy()\n",
    "universe_training_size = example_universe.get(\"training_size\")\n",
    "universe_scale = example_universe.get(\"scale\")\n",
    "universe_model = example_universe.get(\"model\")\n",
    "universe_exclude_features = example_universe.get(\"exclude_features\")\n",
    "universe_exclude_subgroups = example_universe.get(\"exclude_subgroups\")"
   ]
  },
  {
   "cell_type": "code",
   "execution_count": 51,
   "id": "f4b6a8ac-9dc0-4245-8a91-5b3b5999c4f9",
   "metadata": {
    "execution": {
     "iopub.execute_input": "2025-07-28T10:51:21.783186Z",
     "iopub.status.busy": "2025-07-28T10:51:21.782703Z",
     "iopub.status.idle": "2025-07-28T10:51:21.789744Z",
     "shell.execute_reply": "2025-07-28T10:51:21.788712Z"
    },
    "papermill": {
     "duration": 0.036086,
     "end_time": "2025-07-28T10:51:21.791446",
     "exception": false,
     "start_time": "2025-07-28T10:51:21.755360",
     "status": "completed"
    },
    "tags": []
   },
   "outputs": [],
   "source": [
    "cp_metrics_dict = {\n",
    "    \"universe_id\": [universe_id],\n",
    "    \"universe_training_size\": [universe_training_size],\n",
    "    \"universe_scale\": [universe_scale],\n",
    "    \"universe_model\": [universe_model],\n",
    "    \"universe_exclude_features\": [universe_exclude_features],\n",
    "    \"universe_exclude_subgroups\": [universe_exclude_subgroups],\n",
    "    \"q_hat\": [q_hat],\n",
    "    \"coverage\": [metrics[\"coverage\"]],\n",
    "    \"avg_size\": [metrics[\"avg_size\"]],\n",
    "}"
   ]
  },
  {
   "cell_type": "code",
   "execution_count": 52,
   "id": "908acbb1-0371-4915-85ca-3fa520d2efe2",
   "metadata": {
    "execution": {
     "iopub.execute_input": "2025-07-28T10:51:21.846652Z",
     "iopub.status.busy": "2025-07-28T10:51:21.845927Z",
     "iopub.status.idle": "2025-07-28T10:51:21.854572Z",
     "shell.execute_reply": "2025-07-28T10:51:21.853457Z"
    },
    "papermill": {
     "duration": 0.037779,
     "end_time": "2025-07-28T10:51:21.856339",
     "exception": false,
     "start_time": "2025-07-28T10:51:21.818560",
     "status": "completed"
    },
    "tags": []
   },
   "outputs": [
    {
     "data": {
      "text/plain": [
       "{'universe_id': ['b2bc82359aa0d176e78898cbe7681c41'],\n",
       " 'universe_training_size': ['1k'],\n",
       " 'universe_scale': ['do-not-scale'],\n",
       " 'universe_model': ['gbm'],\n",
       " 'universe_exclude_features': ['sex'],\n",
       " 'universe_exclude_subgroups': ['keep-all'],\n",
       " 'q_hat': [0.7473176416411174],\n",
       " 'coverage': [0.9117266748411549],\n",
       " 'avg_size': [1.1783301750083603]}"
      ]
     },
     "execution_count": 52,
     "metadata": {},
     "output_type": "execute_result"
    }
   ],
   "source": [
    "cp_metrics_dict"
   ]
  },
  {
   "cell_type": "code",
   "execution_count": 53,
   "id": "33007efc-14e9-4ec6-97ac-56a455c82265",
   "metadata": {
    "execution": {
     "iopub.execute_input": "2025-07-28T10:51:21.911868Z",
     "iopub.status.busy": "2025-07-28T10:51:21.910842Z",
     "iopub.status.idle": "2025-07-28T10:51:21.918287Z",
     "shell.execute_reply": "2025-07-28T10:51:21.917191Z"
    },
    "papermill": {
     "duration": 0.037079,
     "end_time": "2025-07-28T10:51:21.920219",
     "exception": false,
     "start_time": "2025-07-28T10:51:21.883140",
     "status": "completed"
    },
    "tags": []
   },
   "outputs": [],
   "source": [
    "cp_metrics_df = pd.DataFrame(cp_metrics_dict)"
   ]
  },
  {
   "cell_type": "code",
   "execution_count": 54,
   "id": "db12611b-57b2-4910-b9d0-355adfd6e7bf",
   "metadata": {
    "execution": {
     "iopub.execute_input": "2025-07-28T10:51:21.976440Z",
     "iopub.status.busy": "2025-07-28T10:51:21.975503Z",
     "iopub.status.idle": "2025-07-28T10:51:21.996003Z",
     "shell.execute_reply": "2025-07-28T10:51:21.994992Z"
    },
    "papermill": {
     "duration": 0.050466,
     "end_time": "2025-07-28T10:51:21.997717",
     "exception": false,
     "start_time": "2025-07-28T10:51:21.947251",
     "status": "completed"
    },
    "tags": []
   },
   "outputs": [
    {
     "data": {
      "text/html": [
       "<div>\n",
       "<style scoped>\n",
       "    .dataframe tbody tr th:only-of-type {\n",
       "        vertical-align: middle;\n",
       "    }\n",
       "\n",
       "    .dataframe tbody tr th {\n",
       "        vertical-align: top;\n",
       "    }\n",
       "\n",
       "    .dataframe thead th {\n",
       "        text-align: right;\n",
       "    }\n",
       "</style>\n",
       "<table border=\"1\" class=\"dataframe\">\n",
       "  <thead>\n",
       "    <tr style=\"text-align: right;\">\n",
       "      <th></th>\n",
       "      <th>universe_id</th>\n",
       "      <th>universe_training_size</th>\n",
       "      <th>universe_scale</th>\n",
       "      <th>universe_model</th>\n",
       "      <th>universe_exclude_features</th>\n",
       "      <th>universe_exclude_subgroups</th>\n",
       "      <th>q_hat</th>\n",
       "      <th>coverage</th>\n",
       "      <th>avg_size</th>\n",
       "    </tr>\n",
       "  </thead>\n",
       "  <tbody>\n",
       "    <tr>\n",
       "      <th>0</th>\n",
       "      <td>b2bc82359aa0d176e78898cbe7681c41</td>\n",
       "      <td>1k</td>\n",
       "      <td>do-not-scale</td>\n",
       "      <td>gbm</td>\n",
       "      <td>sex</td>\n",
       "      <td>keep-all</td>\n",
       "      <td>0.747318</td>\n",
       "      <td>0.911727</td>\n",
       "      <td>1.17833</td>\n",
       "    </tr>\n",
       "  </tbody>\n",
       "</table>\n",
       "</div>"
      ],
      "text/plain": [
       "                        universe_id universe_training_size universe_scale  \\\n",
       "0  b2bc82359aa0d176e78898cbe7681c41                     1k   do-not-scale   \n",
       "\n",
       "  universe_model universe_exclude_features universe_exclude_subgroups  \\\n",
       "0            gbm                       sex                   keep-all   \n",
       "\n",
       "      q_hat  coverage  avg_size  \n",
       "0  0.747318  0.911727   1.17833  "
      ]
     },
     "execution_count": 54,
     "metadata": {},
     "output_type": "execute_result"
    }
   ],
   "source": [
    "cp_metrics_df"
   ]
  },
  {
   "cell_type": "code",
   "execution_count": 55,
   "id": "b7fbde55-a0a1-47e4-9af6-fe4a17fa8c61",
   "metadata": {
    "execution": {
     "iopub.execute_input": "2025-07-28T10:51:22.048281Z",
     "iopub.status.busy": "2025-07-28T10:51:22.047728Z",
     "iopub.status.idle": "2025-07-28T10:51:22.053238Z",
     "shell.execute_reply": "2025-07-28T10:51:22.052199Z"
    },
    "papermill": {
     "duration": 0.032816,
     "end_time": "2025-07-28T10:51:22.055018",
     "exception": false,
     "start_time": "2025-07-28T10:51:22.022202",
     "status": "completed"
    },
    "tags": []
   },
   "outputs": [],
   "source": [
    "# Conditional Coverage & looking at subgroups"
   ]
  },
  {
   "cell_type": "code",
   "execution_count": 56,
   "id": "027ae886-68dd-4141-96c7-805a5450e1ef",
   "metadata": {
    "execution": {
     "iopub.execute_input": "2025-07-28T10:51:22.105892Z",
     "iopub.status.busy": "2025-07-28T10:51:22.105354Z",
     "iopub.status.idle": "2025-07-28T10:51:22.386500Z",
     "shell.execute_reply": "2025-07-28T10:51:22.385263Z"
    },
    "papermill": {
     "duration": 0.308693,
     "end_time": "2025-07-28T10:51:22.389107",
     "exception": false,
     "start_time": "2025-07-28T10:51:22.080414",
     "status": "completed"
    },
    "tags": []
   },
   "outputs": [],
   "source": [
    "from fairness_multiverse.conformal import build_cp_groups\n",
    "\n",
    "cp_groups_df = build_cp_groups(pred_sets, y_true, X_test.index, org_test)\n",
    "#needs universe_id and setting"
   ]
  },
  {
   "cell_type": "code",
   "execution_count": 57,
   "id": "01d5802c-663a-4d1f-9d69-e036faaffbf7",
   "metadata": {
    "execution": {
     "iopub.execute_input": "2025-07-28T10:51:22.448907Z",
     "iopub.status.busy": "2025-07-28T10:51:22.448358Z",
     "iopub.status.idle": "2025-07-28T10:51:22.453999Z",
     "shell.execute_reply": "2025-07-28T10:51:22.452942Z"
    },
    "papermill": {
     "duration": 0.032804,
     "end_time": "2025-07-28T10:51:22.455605",
     "exception": false,
     "start_time": "2025-07-28T10:51:22.422801",
     "status": "completed"
    },
    "tags": []
   },
   "outputs": [],
   "source": [
    "#delete\n",
    "#cp_groups_df"
   ]
  },
  {
   "cell_type": "code",
   "execution_count": 58,
   "id": "fa424af1-d1eb-443d-b717-2d279ada8408",
   "metadata": {
    "execution": {
     "iopub.execute_input": "2025-07-28T10:51:22.505020Z",
     "iopub.status.busy": "2025-07-28T10:51:22.504538Z",
     "iopub.status.idle": "2025-07-28T10:51:22.509626Z",
     "shell.execute_reply": "2025-07-28T10:51:22.508738Z"
    },
    "papermill": {
     "duration": 0.031309,
     "end_time": "2025-07-28T10:51:22.511361",
     "exception": false,
     "start_time": "2025-07-28T10:51:22.480052",
     "status": "completed"
    },
    "tags": []
   },
   "outputs": [],
   "source": [
    "#delete\n",
    "#percentage = (cp_groups_df['nongerman_female'] == 1).mean() * 100\n",
    "#print(percentage)\n"
   ]
  },
  {
   "cell_type": "code",
   "execution_count": 59,
   "id": "6cbdab96-b2b2-45af-ad54-d0516db2e28d",
   "metadata": {
    "execution": {
     "iopub.execute_input": "2025-07-28T10:51:22.562235Z",
     "iopub.status.busy": "2025-07-28T10:51:22.561603Z",
     "iopub.status.idle": "2025-07-28T10:51:24.092147Z",
     "shell.execute_reply": "2025-07-28T10:51:24.091371Z"
    },
    "papermill": {
     "duration": 1.557153,
     "end_time": "2025-07-28T10:51:24.093642",
     "exception": false,
     "start_time": "2025-07-28T10:51:22.536489",
     "status": "completed"
    },
    "tags": []
   },
   "outputs": [],
   "source": [
    "# Define covered = 1 if true_label is in the predicted set\n",
    "cp_groups_df['covered'] = cp_groups_df.apply(\n",
    "    lambda r: int(r['true_label'] in r['pred_set']),\n",
    "    axis=1\n",
    ")"
   ]
  },
  {
   "cell_type": "code",
   "execution_count": 60,
   "id": "338ff529-1a6b-4b87-a931-8e4788d52aad",
   "metadata": {
    "execution": {
     "iopub.execute_input": "2025-07-28T10:51:24.124458Z",
     "iopub.status.busy": "2025-07-28T10:51:24.123525Z",
     "iopub.status.idle": "2025-07-28T10:51:24.128387Z",
     "shell.execute_reply": "2025-07-28T10:51:24.127602Z"
    },
    "papermill": {
     "duration": 0.020436,
     "end_time": "2025-07-28T10:51:24.129784",
     "exception": false,
     "start_time": "2025-07-28T10:51:24.109348",
     "status": "completed"
    },
    "tags": []
   },
   "outputs": [],
   "source": [
    "#cp_groups_df"
   ]
  },
  {
   "cell_type": "code",
   "execution_count": 61,
   "id": "90032e27-66df-4540-9169-4e89cfbaa758",
   "metadata": {
    "execution": {
     "iopub.execute_input": "2025-07-28T10:51:24.158868Z",
     "iopub.status.busy": "2025-07-28T10:51:24.158367Z",
     "iopub.status.idle": "2025-07-28T10:51:24.167944Z",
     "shell.execute_reply": "2025-07-28T10:51:24.167223Z"
    },
    "papermill": {
     "duration": 0.025518,
     "end_time": "2025-07-28T10:51:24.169433",
     "exception": false,
     "start_time": "2025-07-28T10:51:24.143915",
     "status": "completed"
    },
    "tags": []
   },
   "outputs": [],
   "source": [
    "subgroups = ['frau1','nongerman','nongerman_male','nongerman_female']\n",
    "\n",
    "# Conditional coverage for subgroup==1\n",
    "cond_coverage = {\n",
    "    g: cp_groups_df.loc[cp_groups_df[g]==1, 'covered'].mean()\n",
    "    for g in subgroups\n",
    "}"
   ]
  },
  {
   "cell_type": "code",
   "execution_count": 62,
   "id": "1e348fb1-b9c3-45bc-ba23-f016827a7e0d",
   "metadata": {
    "execution": {
     "iopub.execute_input": "2025-07-28T10:51:24.198809Z",
     "iopub.status.busy": "2025-07-28T10:51:24.197817Z",
     "iopub.status.idle": "2025-07-28T10:51:24.204385Z",
     "shell.execute_reply": "2025-07-28T10:51:24.203520Z"
    },
    "papermill": {
     "duration": 0.02248,
     "end_time": "2025-07-28T10:51:24.205910",
     "exception": false,
     "start_time": "2025-07-28T10:51:24.183430",
     "status": "completed"
    },
    "tags": []
   },
   "outputs": [
    {
     "data": {
      "text/plain": [
       "{'frau1': 0.9111200970481197,\n",
       " 'nongerman': 0.9085499354404087,\n",
       " 'nongerman_male': 0.9252454291632892,\n",
       " 'nongerman_female': 0.8809239940387481}"
      ]
     },
     "execution_count": 62,
     "metadata": {},
     "output_type": "execute_result"
    }
   ],
   "source": [
    "cond_coverage"
   ]
  },
  {
   "cell_type": "code",
   "execution_count": 63,
   "id": "f5093324-c3dd-4d63-bc4c-8d945e5c8bbb",
   "metadata": {
    "execution": {
     "iopub.execute_input": "2025-07-28T10:51:24.235019Z",
     "iopub.status.busy": "2025-07-28T10:51:24.234269Z",
     "iopub.status.idle": "2025-07-28T10:51:24.240512Z",
     "shell.execute_reply": "2025-07-28T10:51:24.239749Z"
    },
    "papermill": {
     "duration": 0.021886,
     "end_time": "2025-07-28T10:51:24.242038",
     "exception": false,
     "start_time": "2025-07-28T10:51:24.220152",
     "status": "completed"
    },
    "tags": []
   },
   "outputs": [],
   "source": [
    "for subgroup, cov in cond_coverage.items():\n",
    "    cp_metrics_df[f\"cov_{subgroup}\"] = cov"
   ]
  },
  {
   "cell_type": "code",
   "execution_count": 64,
   "id": "6e872e10-dbe5-49e8-b554-5030c98ff75d",
   "metadata": {
    "execution": {
     "iopub.execute_input": "2025-07-28T10:51:24.271769Z",
     "iopub.status.busy": "2025-07-28T10:51:24.271241Z",
     "iopub.status.idle": "2025-07-28T10:51:24.285931Z",
     "shell.execute_reply": "2025-07-28T10:51:24.285105Z"
    },
    "papermill": {
     "duration": 0.030821,
     "end_time": "2025-07-28T10:51:24.287414",
     "exception": false,
     "start_time": "2025-07-28T10:51:24.256593",
     "status": "completed"
    },
    "tags": []
   },
   "outputs": [
    {
     "data": {
      "text/html": [
       "<div>\n",
       "<style scoped>\n",
       "    .dataframe tbody tr th:only-of-type {\n",
       "        vertical-align: middle;\n",
       "    }\n",
       "\n",
       "    .dataframe tbody tr th {\n",
       "        vertical-align: top;\n",
       "    }\n",
       "\n",
       "    .dataframe thead th {\n",
       "        text-align: right;\n",
       "    }\n",
       "</style>\n",
       "<table border=\"1\" class=\"dataframe\">\n",
       "  <thead>\n",
       "    <tr style=\"text-align: right;\">\n",
       "      <th></th>\n",
       "      <th>universe_id</th>\n",
       "      <th>universe_training_size</th>\n",
       "      <th>universe_scale</th>\n",
       "      <th>universe_model</th>\n",
       "      <th>universe_exclude_features</th>\n",
       "      <th>universe_exclude_subgroups</th>\n",
       "      <th>q_hat</th>\n",
       "      <th>coverage</th>\n",
       "      <th>avg_size</th>\n",
       "      <th>cov_frau1</th>\n",
       "      <th>cov_nongerman</th>\n",
       "      <th>cov_nongerman_male</th>\n",
       "      <th>cov_nongerman_female</th>\n",
       "    </tr>\n",
       "  </thead>\n",
       "  <tbody>\n",
       "    <tr>\n",
       "      <th>0</th>\n",
       "      <td>b2bc82359aa0d176e78898cbe7681c41</td>\n",
       "      <td>1k</td>\n",
       "      <td>do-not-scale</td>\n",
       "      <td>gbm</td>\n",
       "      <td>sex</td>\n",
       "      <td>keep-all</td>\n",
       "      <td>0.747318</td>\n",
       "      <td>0.911727</td>\n",
       "      <td>1.17833</td>\n",
       "      <td>0.91112</td>\n",
       "      <td>0.90855</td>\n",
       "      <td>0.925245</td>\n",
       "      <td>0.880924</td>\n",
       "    </tr>\n",
       "  </tbody>\n",
       "</table>\n",
       "</div>"
      ],
      "text/plain": [
       "                        universe_id universe_training_size universe_scale  \\\n",
       "0  b2bc82359aa0d176e78898cbe7681c41                     1k   do-not-scale   \n",
       "\n",
       "  universe_model universe_exclude_features universe_exclude_subgroups  \\\n",
       "0            gbm                       sex                   keep-all   \n",
       "\n",
       "      q_hat  coverage  avg_size  cov_frau1  cov_nongerman  cov_nongerman_male  \\\n",
       "0  0.747318  0.911727   1.17833    0.91112        0.90855            0.925245   \n",
       "\n",
       "   cov_nongerman_female  \n",
       "0              0.880924  "
      ]
     },
     "execution_count": 64,
     "metadata": {},
     "output_type": "execute_result"
    }
   ],
   "source": [
    "cp_metrics_df"
   ]
  },
  {
   "cell_type": "markdown",
   "id": "33774451",
   "metadata": {
    "papermill": {
     "duration": 0.013239,
     "end_time": "2025-07-28T10:51:24.315557",
     "exception": false,
     "start_time": "2025-07-28T10:51:24.302318",
     "status": "completed"
    },
    "tags": []
   },
   "source": [
    "# (Fairness) Metrics"
   ]
  },
  {
   "cell_type": "code",
   "execution_count": 65,
   "id": "debc5d62",
   "metadata": {
    "execution": {
     "iopub.execute_input": "2025-07-28T10:51:24.343965Z",
     "iopub.status.busy": "2025-07-28T10:51:24.343401Z",
     "iopub.status.idle": "2025-07-28T10:51:24.359085Z",
     "shell.execute_reply": "2025-07-28T10:51:24.358284Z"
    },
    "papermill": {
     "duration": 0.031499,
     "end_time": "2025-07-28T10:51:24.360594",
     "exception": false,
     "start_time": "2025-07-28T10:51:24.329095",
     "status": "completed"
    },
    "tags": []
   },
   "outputs": [],
   "source": [
    "# do I need to include maxdeutsch1.missing?\n",
    "\n",
    "import numpy as np\n",
    "\n",
    "colname_to_bin = \"maxdeutsch1\"\n",
    "majority_value = org_train[colname_to_bin].mode()[0]\n",
    "\n",
    "org_test[\"majmin\"] = np.where(org_test[colname_to_bin] == majority_value, \"majority\", \"minority\")"
   ]
  },
  {
   "cell_type": "code",
   "execution_count": 66,
   "id": "06a50de5",
   "metadata": {
    "execution": {
     "iopub.execute_input": "2025-07-28T10:51:24.390634Z",
     "iopub.status.busy": "2025-07-28T10:51:24.389750Z",
     "iopub.status.idle": "2025-07-28T10:51:26.710258Z",
     "shell.execute_reply": "2025-07-28T10:51:26.709105Z"
    },
    "papermill": {
     "duration": 2.337705,
     "end_time": "2025-07-28T10:51:26.712493",
     "exception": false,
     "start_time": "2025-07-28T10:51:24.374788",
     "status": "completed"
    },
    "tags": []
   },
   "outputs": [],
   "source": [
    "example_universe = universe.copy()\n",
    "example_universe[\"cutoff\"] = example_universe[\"cutoff\"][0]\n",
    "example_universe[\"eval_fairness_grouping\"] = example_universe[\"eval_fairness_grouping\"][0]\n",
    "fairness_dict, metric_frame = universe_analysis.compute_metrics(\n",
    "    example_universe,\n",
    "    y_pred_prob=probs_test,\n",
    "    y_test=y_true,\n",
    "    org_test=org_test,\n",
    ")"
   ]
  },
  {
   "cell_type": "markdown",
   "id": "f95d4e02",
   "metadata": {
    "papermill": {
     "duration": 0.028781,
     "end_time": "2025-07-28T10:51:26.770434",
     "exception": false,
     "start_time": "2025-07-28T10:51:26.741653",
     "status": "completed"
    },
    "tags": []
   },
   "source": [
    "# Overall"
   ]
  },
  {
   "cell_type": "markdown",
   "id": "bdee4871",
   "metadata": {
    "papermill": {
     "duration": 0.030671,
     "end_time": "2025-07-28T10:51:26.830329",
     "exception": false,
     "start_time": "2025-07-28T10:51:26.799658",
     "status": "completed"
    },
    "tags": []
   },
   "source": [
    "Fairness\n",
    "Main fairness target: Equalized Odds. Seems to be a better fit than equal opportunity, since we're not only interested in Y = 1. Seems to be a better fit than demographic parity, since we also care about accuracy, not just equal distribution of preds.\n",
    "\n",
    "Pick column for computation of fairness metrics\n",
    "\n",
    "Performance\n",
    "Overall performance measures, most interesting in relation to the measures split by group below"
   ]
  },
  {
   "cell_type": "code",
   "execution_count": 67,
   "id": "c4e067c6",
   "metadata": {
    "execution": {
     "iopub.execute_input": "2025-07-28T10:51:26.887527Z",
     "iopub.status.busy": "2025-07-28T10:51:26.886703Z",
     "iopub.status.idle": "2025-07-28T10:51:26.895671Z",
     "shell.execute_reply": "2025-07-28T10:51:26.894579Z"
    },
    "papermill": {
     "duration": 0.040346,
     "end_time": "2025-07-28T10:51:26.897562",
     "exception": false,
     "start_time": "2025-07-28T10:51:26.857216",
     "status": "completed"
    },
    "tags": []
   },
   "outputs": [
    {
     "data": {
      "text/plain": [
       "accuracy                   0.222472\n",
       "balanced accuracy          0.544393\n",
       "f1                         0.243864\n",
       "precision                  0.139311\n",
       "false positive rate        0.888622\n",
       "false negative rate        0.022593\n",
       "selection rate             0.900011\n",
       "count                  89710.000000\n",
       "dtype: float64"
      ]
     },
     "execution_count": 67,
     "metadata": {},
     "output_type": "execute_result"
    }
   ],
   "source": [
    "metric_frame.overall"
   ]
  },
  {
   "cell_type": "markdown",
   "id": "e968fe9d",
   "metadata": {
    "papermill": {
     "duration": 0.024742,
     "end_time": "2025-07-28T10:51:26.953123",
     "exception": false,
     "start_time": "2025-07-28T10:51:26.928381",
     "status": "completed"
    },
    "tags": []
   },
   "source": [
    "By Group"
   ]
  },
  {
   "cell_type": "code",
   "execution_count": 68,
   "id": "ec325bce",
   "metadata": {
    "execution": {
     "iopub.execute_input": "2025-07-28T10:51:27.006696Z",
     "iopub.status.busy": "2025-07-28T10:51:27.005983Z",
     "iopub.status.idle": "2025-07-28T10:51:27.028274Z",
     "shell.execute_reply": "2025-07-28T10:51:27.027029Z"
    },
    "papermill": {
     "duration": 0.05471,
     "end_time": "2025-07-28T10:51:27.030197",
     "exception": false,
     "start_time": "2025-07-28T10:51:26.975487",
     "status": "completed"
    },
    "tags": []
   },
   "outputs": [
    {
     "data": {
      "text/html": [
       "<div>\n",
       "<style scoped>\n",
       "    .dataframe tbody tr th:only-of-type {\n",
       "        vertical-align: middle;\n",
       "    }\n",
       "\n",
       "    .dataframe tbody tr th {\n",
       "        vertical-align: top;\n",
       "    }\n",
       "\n",
       "    .dataframe thead th {\n",
       "        text-align: right;\n",
       "    }\n",
       "</style>\n",
       "<table border=\"1\" class=\"dataframe\">\n",
       "  <thead>\n",
       "    <tr style=\"text-align: right;\">\n",
       "      <th></th>\n",
       "      <th>accuracy</th>\n",
       "      <th>balanced accuracy</th>\n",
       "      <th>f1</th>\n",
       "      <th>precision</th>\n",
       "      <th>false positive rate</th>\n",
       "      <th>false negative rate</th>\n",
       "      <th>selection rate</th>\n",
       "      <th>count</th>\n",
       "    </tr>\n",
       "    <tr>\n",
       "      <th>majmin</th>\n",
       "      <th></th>\n",
       "      <th></th>\n",
       "      <th></th>\n",
       "      <th></th>\n",
       "      <th></th>\n",
       "      <th></th>\n",
       "      <th></th>\n",
       "      <th></th>\n",
       "    </tr>\n",
       "  </thead>\n",
       "  <tbody>\n",
       "    <tr>\n",
       "      <th>majority</th>\n",
       "      <td>0.237111</td>\n",
       "      <td>0.550647</td>\n",
       "      <td>0.252828</td>\n",
       "      <td>0.145206</td>\n",
       "      <td>0.875512</td>\n",
       "      <td>0.023195</td>\n",
       "      <td>0.888897</td>\n",
       "      <td>69170.0</td>\n",
       "    </tr>\n",
       "    <tr>\n",
       "      <th>minority</th>\n",
       "      <td>0.173174</td>\n",
       "      <td>0.523901</td>\n",
       "      <td>0.214586</td>\n",
       "      <td>0.120488</td>\n",
       "      <td>0.931928</td>\n",
       "      <td>0.020270</td>\n",
       "      <td>0.937439</td>\n",
       "      <td>20540.0</td>\n",
       "    </tr>\n",
       "  </tbody>\n",
       "</table>\n",
       "</div>"
      ],
      "text/plain": [
       "          accuracy  balanced accuracy        f1  precision  \\\n",
       "majmin                                                       \n",
       "majority  0.237111           0.550647  0.252828   0.145206   \n",
       "minority  0.173174           0.523901  0.214586   0.120488   \n",
       "\n",
       "          false positive rate  false negative rate  selection rate    count  \n",
       "majmin                                                                       \n",
       "majority             0.875512             0.023195        0.888897  69170.0  \n",
       "minority             0.931928             0.020270        0.937439  20540.0  "
      ]
     },
     "execution_count": 68,
     "metadata": {},
     "output_type": "execute_result"
    }
   ],
   "source": [
    "metric_frame.by_group"
   ]
  },
  {
   "cell_type": "code",
   "execution_count": 69,
   "id": "a9ddbe63",
   "metadata": {
    "execution": {
     "iopub.execute_input": "2025-07-28T10:51:27.080162Z",
     "iopub.status.busy": "2025-07-28T10:51:27.079655Z",
     "iopub.status.idle": "2025-07-28T10:51:29.538078Z",
     "shell.execute_reply": "2025-07-28T10:51:29.536967Z"
    },
    "papermill": {
     "duration": 2.480048,
     "end_time": "2025-07-28T10:51:29.540283",
     "exception": false,
     "start_time": "2025-07-28T10:51:27.060235",
     "status": "completed"
    },
    "tags": []
   },
   "outputs": [
    {
     "data": {
      "text/plain": [
       "array([[<Axes: title={'center': 'accuracy'}, xlabel='majmin'>,\n",
       "        <Axes: title={'center': 'balanced accuracy'}, xlabel='majmin'>,\n",
       "        <Axes: title={'center': 'f1'}, xlabel='majmin'>],\n",
       "       [<Axes: title={'center': 'precision'}, xlabel='majmin'>,\n",
       "        <Axes: title={'center': 'false positive rate'}, xlabel='majmin'>,\n",
       "        <Axes: title={'center': 'false negative rate'}, xlabel='majmin'>],\n",
       "       [<Axes: title={'center': 'selection rate'}, xlabel='majmin'>,\n",
       "        <Axes: title={'center': 'count'}, xlabel='majmin'>,\n",
       "        <Axes: xlabel='majmin'>]], dtype=object)"
      ]
     },
     "execution_count": 69,
     "metadata": {},
     "output_type": "execute_result"
    },
    {
     "data": {
      "image/png": "[encoded data removed]",
      "text/plain": [
       "<Figure size 1200x800 with 9 Axes>"
      ]
     },
     "metadata": {},
     "output_type": "display_data"
    }
   ],
   "source": [
    "# In a graphic\n",
    "metric_frame.by_group.plot.bar(\n",
    "    subplots=True,\n",
    "    layout=[3, 3],\n",
    "    legend=False,\n",
    "    figsize=[12, 8],\n",
    "    title=\"Show all metrics\",\n",
    ")"
   ]
  },
  {
   "cell_type": "markdown",
   "id": "f57a0bac",
   "metadata": {
    "papermill": {
     "duration": 0.029185,
     "end_time": "2025-07-28T10:51:29.602229",
     "exception": false,
     "start_time": "2025-07-28T10:51:29.573044",
     "status": "completed"
    },
    "tags": []
   },
   "source": [
    "# Final Output"
   ]
  },
  {
   "cell_type": "code",
   "execution_count": 70,
   "id": "96d280a3",
   "metadata": {
    "execution": {
     "iopub.execute_input": "2025-07-28T10:51:29.666083Z",
     "iopub.status.busy": "2025-07-28T10:51:29.664895Z",
     "iopub.status.idle": "2025-07-28T10:51:29.673965Z",
     "shell.execute_reply": "2025-07-28T10:51:29.672893Z"
    },
    "papermill": {
     "duration": 0.042905,
     "end_time": "2025-07-28T10:51:29.675912",
     "exception": false,
     "start_time": "2025-07-28T10:51:29.633007",
     "status": "completed"
    },
    "tags": []
   },
   "outputs": [
    {
     "data": {
      "text/plain": [
       "4"
      ]
     },
     "execution_count": 70,
     "metadata": {},
     "output_type": "execute_result"
    }
   ],
   "source": [
    "sub_universes = universe_analysis.generate_sub_universes()\n",
    "len(sub_universes)"
   ]
  },
  {
   "cell_type": "code",
   "execution_count": 71,
   "id": "92adf7ba",
   "metadata": {
    "execution": {
     "iopub.execute_input": "2025-07-28T10:51:29.742227Z",
     "iopub.status.busy": "2025-07-28T10:51:29.741479Z",
     "iopub.status.idle": "2025-07-28T10:51:29.749116Z",
     "shell.execute_reply": "2025-07-28T10:51:29.747884Z"
    },
    "papermill": {
     "duration": 0.043137,
     "end_time": "2025-07-28T10:51:29.751150",
     "exception": false,
     "start_time": "2025-07-28T10:51:29.708013",
     "status": "completed"
    },
    "tags": []
   },
   "outputs": [],
   "source": [
    "def filter_sub_universe_data(sub_universe, org_test):\n",
    "    # Keep all rows — no filtering\n",
    "    keep_rows_mask = np.ones(org_test.shape[0], dtype=bool)\n",
    "\n",
    "    print(f\"[INFO] Keeping all rows: {keep_rows_mask.sum()} rows retained.\")\n",
    "    return keep_rows_mask"
   ]
  },
  {
   "cell_type": "code",
   "execution_count": 72,
   "id": "4a759155",
   "metadata": {
    "execution": {
     "iopub.execute_input": "2025-07-28T10:51:29.816510Z",
     "iopub.status.busy": "2025-07-28T10:51:29.815968Z",
     "iopub.status.idle": "2025-07-28T10:51:37.778135Z",
     "shell.execute_reply": "2025-07-28T10:51:37.777010Z"
    },
    "papermill": {
     "duration": 7.996413,
     "end_time": "2025-07-28T10:51:37.780082",
     "exception": false,
     "start_time": "2025-07-28T10:51:29.783669",
     "status": "completed"
    },
    "tags": []
   },
   "outputs": [
    {
     "name": "stdout",
     "output_type": "stream",
     "text": [
      "Stopping execution_time clock.\n",
      "[INFO] Keeping all rows: 89710 rows retained.\n"
     ]
    },
    {
     "name": "stdout",
     "output_type": "stream",
     "text": [
      "[INFO] Keeping all rows: 89710 rows retained.\n"
     ]
    },
    {
     "name": "stdout",
     "output_type": "stream",
     "text": [
      "[INFO] Keeping all rows: 89710 rows retained.\n"
     ]
    },
    {
     "name": "stdout",
     "output_type": "stream",
     "text": [
      "[INFO] Keeping all rows: 89710 rows retained.\n"
     ]
    },
    {
     "data": {
      "text/html": [
       "<div>\n",
       "<style scoped>\n",
       "    .dataframe tbody tr th:only-of-type {\n",
       "        vertical-align: middle;\n",
       "    }\n",
       "\n",
       "    .dataframe tbody tr th {\n",
       "        vertical-align: top;\n",
       "    }\n",
       "\n",
       "    .dataframe thead th {\n",
       "        text-align: right;\n",
       "    }\n",
       "</style>\n",
       "<table border=\"1\" class=\"dataframe\">\n",
       "  <thead>\n",
       "    <tr style=\"text-align: right;\">\n",
       "      <th></th>\n",
       "      <th>run_no</th>\n",
       "      <th>universe_id</th>\n",
       "      <th>universe_settings</th>\n",
       "      <th>execution_time</th>\n",
       "      <th>test_size_n</th>\n",
       "      <th>test_size_frac</th>\n",
       "      <th>fair_main_equalized_odds_difference</th>\n",
       "      <th>fair_main_equalized_odds_ratio</th>\n",
       "      <th>fair_main_demographic_parity_difference</th>\n",
       "      <th>fair_main_demographic_parity_ratio</th>\n",
       "      <th>...</th>\n",
       "      <th>perf_grp_precision_0</th>\n",
       "      <th>perf_grp_precision_1</th>\n",
       "      <th>perf_grp_false positive rate_0</th>\n",
       "      <th>perf_grp_false positive rate_1</th>\n",
       "      <th>perf_grp_false negative rate_0</th>\n",
       "      <th>perf_grp_false negative rate_1</th>\n",
       "      <th>perf_grp_selection rate_0</th>\n",
       "      <th>perf_grp_selection rate_1</th>\n",
       "      <th>perf_grp_count_0</th>\n",
       "      <th>perf_grp_count_1</th>\n",
       "    </tr>\n",
       "  </thead>\n",
       "  <tbody>\n",
       "    <tr>\n",
       "      <th>0</th>\n",
       "      <td>11</td>\n",
       "      <td>b2bc82359aa0d176e78898cbe7681c41</td>\n",
       "      <td>{\"cutoff\": \"quantile_0.1\", \"eval_fairness_grou...</td>\n",
       "      <td>29.59406</td>\n",
       "      <td>89710</td>\n",
       "      <td>1.0</td>\n",
       "      <td>0.056416</td>\n",
       "      <td>0.939463</td>\n",
       "      <td>0.048542</td>\n",
       "      <td>0.948218</td>\n",
       "      <td>...</td>\n",
       "      <td>NaN</td>\n",
       "      <td>NaN</td>\n",
       "      <td>NaN</td>\n",
       "      <td>NaN</td>\n",
       "      <td>NaN</td>\n",
       "      <td>NaN</td>\n",
       "      <td>NaN</td>\n",
       "      <td>NaN</td>\n",
       "      <td>NaN</td>\n",
       "      <td>NaN</td>\n",
       "    </tr>\n",
       "    <tr>\n",
       "      <th>0</th>\n",
       "      <td>11</td>\n",
       "      <td>b2bc82359aa0d176e78898cbe7681c41</td>\n",
       "      <td>{\"cutoff\": \"quantile_0.1\", \"eval_fairness_grou...</td>\n",
       "      <td>29.59406</td>\n",
       "      <td>89710</td>\n",
       "      <td>1.0</td>\n",
       "      <td>0.056416</td>\n",
       "      <td>0.939463</td>\n",
       "      <td>0.048542</td>\n",
       "      <td>0.948218</td>\n",
       "      <td>...</td>\n",
       "      <td>0.120488</td>\n",
       "      <td>0.145206</td>\n",
       "      <td>0.931928</td>\n",
       "      <td>0.875512</td>\n",
       "      <td>0.020270</td>\n",
       "      <td>0.023195</td>\n",
       "      <td>0.937439</td>\n",
       "      <td>0.888897</td>\n",
       "      <td>20540.0</td>\n",
       "      <td>69170.0</td>\n",
       "    </tr>\n",
       "    <tr>\n",
       "      <th>0</th>\n",
       "      <td>11</td>\n",
       "      <td>b2bc82359aa0d176e78898cbe7681c41</td>\n",
       "      <td>{\"cutoff\": \"quantile_0.25\", \"eval_fairness_gro...</td>\n",
       "      <td>29.59406</td>\n",
       "      <td>89710</td>\n",
       "      <td>1.0</td>\n",
       "      <td>0.137397</td>\n",
       "      <td>0.834365</td>\n",
       "      <td>0.119473</td>\n",
       "      <td>0.858127</td>\n",
       "      <td>...</td>\n",
       "      <td>NaN</td>\n",
       "      <td>NaN</td>\n",
       "      <td>NaN</td>\n",
       "      <td>NaN</td>\n",
       "      <td>NaN</td>\n",
       "      <td>NaN</td>\n",
       "      <td>NaN</td>\n",
       "      <td>NaN</td>\n",
       "      <td>NaN</td>\n",
       "      <td>NaN</td>\n",
       "    </tr>\n",
       "    <tr>\n",
       "      <th>0</th>\n",
       "      <td>11</td>\n",
       "      <td>b2bc82359aa0d176e78898cbe7681c41</td>\n",
       "      <td>{\"cutoff\": \"quantile_0.25\", \"eval_fairness_gro...</td>\n",
       "      <td>29.59406</td>\n",
       "      <td>89710</td>\n",
       "      <td>1.0</td>\n",
       "      <td>0.137397</td>\n",
       "      <td>0.834365</td>\n",
       "      <td>0.119473</td>\n",
       "      <td>0.858127</td>\n",
       "      <td>...</td>\n",
       "      <td>0.128519</td>\n",
       "      <td>0.168791</td>\n",
       "      <td>0.829518</td>\n",
       "      <td>0.692121</td>\n",
       "      <td>0.061233</td>\n",
       "      <td>0.076915</td>\n",
       "      <td>0.842113</td>\n",
       "      <td>0.722640</td>\n",
       "      <td>20540.0</td>\n",
       "      <td>69170.0</td>\n",
       "    </tr>\n",
       "  </tbody>\n",
       "</table>\n",
       "<p>4 rows × 50 columns</p>\n",
       "</div>"
      ],
      "text/plain": [
       "  run_no                       universe_id  \\\n",
       "0     11  b2bc82359aa0d176e78898cbe7681c41   \n",
       "0     11  b2bc82359aa0d176e78898cbe7681c41   \n",
       "0     11  b2bc82359aa0d176e78898cbe7681c41   \n",
       "0     11  b2bc82359aa0d176e78898cbe7681c41   \n",
       "\n",
       "                                   universe_settings  execution_time  \\\n",
       "0  {\"cutoff\": \"quantile_0.1\", \"eval_fairness_grou...        29.59406   \n",
       "0  {\"cutoff\": \"quantile_0.1\", \"eval_fairness_grou...        29.59406   \n",
       "0  {\"cutoff\": \"quantile_0.25\", \"eval_fairness_gro...        29.59406   \n",
       "0  {\"cutoff\": \"quantile_0.25\", \"eval_fairness_gro...        29.59406   \n",
       "\n",
       "   test_size_n  test_size_frac  fair_main_equalized_odds_difference  \\\n",
       "0        89710             1.0                             0.056416   \n",
       "0        89710             1.0                             0.056416   \n",
       "0        89710             1.0                             0.137397   \n",
       "0        89710             1.0                             0.137397   \n",
       "\n",
       "   fair_main_equalized_odds_ratio  fair_main_demographic_parity_difference  \\\n",
       "0                        0.939463                                 0.048542   \n",
       "0                        0.939463                                 0.048542   \n",
       "0                        0.834365                                 0.119473   \n",
       "0                        0.834365                                 0.119473   \n",
       "\n",
       "   fair_main_demographic_parity_ratio  ...  perf_grp_precision_0  \\\n",
       "0                            0.948218  ...                   NaN   \n",
       "0                            0.948218  ...              0.120488   \n",
       "0                            0.858127  ...                   NaN   \n",
       "0                            0.858127  ...              0.128519   \n",
       "\n",
       "   perf_grp_precision_1  perf_grp_false positive rate_0  \\\n",
       "0                   NaN                             NaN   \n",
       "0              0.145206                        0.931928   \n",
       "0                   NaN                             NaN   \n",
       "0              0.168791                        0.829518   \n",
       "\n",
       "   perf_grp_false positive rate_1  perf_grp_false negative rate_0  \\\n",
       "0                             NaN                             NaN   \n",
       "0                        0.875512                        0.020270   \n",
       "0                             NaN                             NaN   \n",
       "0                        0.692121                        0.061233   \n",
       "\n",
       "   perf_grp_false negative rate_1  perf_grp_selection rate_0  \\\n",
       "0                             NaN                        NaN   \n",
       "0                        0.023195                   0.937439   \n",
       "0                             NaN                        NaN   \n",
       "0                        0.076915                   0.842113   \n",
       "\n",
       "   perf_grp_selection rate_1  perf_grp_count_0  perf_grp_count_1  \n",
       "0                        NaN               NaN               NaN  \n",
       "0                   0.888897           20540.0           69170.0  \n",
       "0                        NaN               NaN               NaN  \n",
       "0                   0.722640           20540.0           69170.0  \n",
       "\n",
       "[4 rows x 50 columns]"
      ]
     },
     "execution_count": 72,
     "metadata": {},
     "output_type": "execute_result"
    }
   ],
   "source": [
    "final_output = universe_analysis.generate_final_output(\n",
    "    y_pred_prob=probs_test,\n",
    "    y_test=y_true,\n",
    "    org_test=org_test,\n",
    "    filter_data=filter_sub_universe_data,\n",
    "    cp_metrics_df=cp_metrics_df,\n",
    "    save=True,\n",
    ")\n",
    "final_output"
   ]
  },
  {
   "cell_type": "code",
   "execution_count": null,
   "id": "721ff514-cb11-46f8-b6fc-50392f74b5cb",
   "metadata": {
    "papermill": {
     "duration": 0.033743,
     "end_time": "2025-07-28T10:51:37.846866",
     "exception": false,
     "start_time": "2025-07-28T10:51:37.813123",
     "status": "completed"
    },
    "tags": []
   },
   "outputs": [],
   "source": []
  }
 ],
 "metadata": {
  "celltoolbar": "Tags",
  "kernelspec": {
   "display_name": "Python (CMA Fairness)",
   "language": "python",
   "name": "cma_fair_env"
  },
  "language_info": {
   "codemirror_mode": {
    "name": "ipython",
    "version": 3
   },
   "file_extension": ".py",
   "mimetype": "text/x-python",
   "name": "python",
   "nbconvert_exporter": "python",
   "pygments_lexer": "ipython3",
   "version": "3.10.12"
  },
  "papermill": {
   "default_parameters": {},
   "duration": 42.290526,
   "end_time": "2025-07-28T10:51:38.797786",
   "environment_variables": {},
   "exception": null,
   "input_path": "universe_analysis.ipynb",
   "output_path": "output/runs/11/notebooks/m_11-b2bc82359aa0d176e78898cbe7681c41.ipynb",
   "parameters": {
    "output_dir": "output",
    "run_no": "11",
    "seed": "2023",
    "universe": "{\"cutoff\": [\"quantile_0.1\", \"quantile_0.25\"], \"eval_fairness_grouping\": [\"majority-minority\", \"nationality-all\"], \"exclude_features\": \"sex\", \"exclude_subgroups\": \"keep-all\", \"model\": \"gbm\", \"scale\": \"do-not-scale\", \"training_size\": \"1k\"}",
    "universe_id": "b2bc82359aa0d176e78898cbe7681c41"
   },
   "start_time": "2025-07-28T10:50:56.507260",
   "version": "2.6.0"
  }
 },
 "nbformat": 4,
 "nbformat_minor": 5
}