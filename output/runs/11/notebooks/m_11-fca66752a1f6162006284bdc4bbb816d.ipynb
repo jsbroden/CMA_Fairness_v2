{
 "cells": [
  {
   "cell_type": "code",
   "execution_count": 1,
   "id": "f159f837-637b-42ba-96b5-ec9a68c44524",
   "metadata": {
    "execution": {
     "iopub.execute_input": "2025-07-28T11:07:00.030326Z",
     "iopub.status.busy": "2025-07-28T11:07:00.029878Z",
     "iopub.status.idle": "2025-07-28T11:07:00.053361Z",
     "shell.execute_reply": "2025-07-28T11:07:00.052073Z"
    },
    "papermill": {
     "duration": 0.04906,
     "end_time": "2025-07-28T11:07:00.055446",
     "exception": false,
     "start_time": "2025-07-28T11:07:00.006386",
     "status": "completed"
    },
    "tags": []
   },
   "outputs": [
    {
     "name": "stdout",
     "output_type": "stream",
     "text": [
      "/dss/dsshome1/0C/ra93lal2/cma/CMA_Fairness_v2\n"
     ]
    },
    {
     "name": "stderr",
     "output_type": "stream",
     "text": [
      "/dss/dsshome1/0C/ra93lal2/.local/share/virtualenvs/CMA_Fairness_v2-3j10GkSs/lib/python3.10/site-packages/IPython/core/magics/osm.py:393: UserWarning: This is now an optional IPython functionality, using bookmarks requires you to install the `pickleshare` library.\n",
      "  bkms = self.shell.db.get('bookmarks', {})\n",
      "/dss/dsshome1/0C/ra93lal2/.local/share/virtualenvs/CMA_Fairness_v2-3j10GkSs/lib/python3.10/site-packages/IPython/core/magics/osm.py:417: UserWarning: This is now an optional IPython functionality, setting dhist requires you to install the `pickleshare` library.\n",
      "  self.shell.db['dhist'] = compress_dhist(dhist)[-100:]\n"
     ]
    }
   ],
   "source": [
    "%cd ~/cma/CMA_Fairness_v2"
   ]
  },
  {
   "cell_type": "markdown",
   "id": "de2603b9",
   "metadata": {
    "papermill": {
     "duration": 0.018283,
     "end_time": "2025-07-28T11:07:00.093027",
     "exception": false,
     "start_time": "2025-07-28T11:07:00.074744",
     "status": "completed"
    },
    "tags": []
   },
   "source": [
    "The following cell holds the definition of our parameters, these values can be overriden by rendering the with e.g. the following command:\n",
    "\n",
    "papermill -p alpha 0.2 -p ratio 0.3 universe_analysis.ipynb output/test_run.ipynb"
   ]
  },
  {
   "cell_type": "code",
   "execution_count": 2,
   "id": "a80968a0-40bb-4fa9-85ef-2d5eefb01975",
   "metadata": {
    "execution": {
     "iopub.execute_input": "2025-07-28T11:07:00.131709Z",
     "iopub.status.busy": "2025-07-28T11:07:00.131290Z",
     "iopub.status.idle": "2025-07-28T11:07:00.136930Z",
     "shell.execute_reply": "2025-07-28T11:07:00.136012Z"
    },
    "papermill": {
     "duration": 0.029151,
     "end_time": "2025-07-28T11:07:00.140687",
     "exception": false,
     "start_time": "2025-07-28T11:07:00.111536",
     "status": "completed"
    },
    "tags": []
   },
   "outputs": [
    {
     "name": "stdout",
     "output_type": "stream",
     "text": [
      "Current working directory: /dss/dsshome1/0C/ra93lal2/cma/CMA_Fairness_v2\n"
     ]
    }
   ],
   "source": [
    "import os\n",
    "print(\"Current working directory:\", os.getcwd())"
   ]
  },
  {
   "cell_type": "code",
   "execution_count": 3,
   "id": "2dce4c03",
   "metadata": {
    "execution": {
     "iopub.execute_input": "2025-07-28T11:07:00.209415Z",
     "iopub.status.busy": "2025-07-28T11:07:00.209032Z",
     "iopub.status.idle": "2025-07-28T11:07:00.216778Z",
     "shell.execute_reply": "2025-07-28T11:07:00.215725Z"
    },
    "papermill": {
     "duration": 0.04662,
     "end_time": "2025-07-28T11:07:00.218900",
     "exception": false,
     "start_time": "2025-07-28T11:07:00.172280",
     "status": "completed"
    },
    "tags": [
     "parameters"
    ]
   },
   "outputs": [],
   "source": [
    "run_no = 0\n",
    "universe_id = \"test\"\n",
    "universe = {\n",
    "    \"training_size\": \"2014\", # \"25k\", \"5k\", \"1k\", \"2014\"\n",
    "    \"scale\": \"scale\", # \"scale\", \"do-not-scale\",\n",
    "    #\"stratify_split\": \"target\", # \"none\", \"target\", \"protected-attribute\", \"both\",\n",
    "    \"model\": \"elasticnet\", # \"logreg\", \"penalized_logreg\", \"rf\", \"gbm\", \"elasticnet\"\n",
    "    \"cutoff\": [\"quantile_0.15\", \"quantile_0.30\"],\n",
    "    \"exclude_features\": \"age\", # \"none\", \"nationality\", \"sex\", \"nationality-sex\", \"age\"\n",
    "    \"exclude_subgroups\": \"keep-all\", # \"keep-all\", \"drop-non-german\"\n",
    "    \"eval_fairness_grouping\": [\"majority-minority\", \"nationality-all\"]\n",
    "}\n",
    "\n",
    "output_dir=\"./output\"\n",
    "seed=0"
   ]
  },
  {
   "cell_type": "code",
   "execution_count": 4,
   "id": "69c74563",
   "metadata": {
    "execution": {
     "iopub.execute_input": "2025-07-28T11:07:00.257658Z",
     "iopub.status.busy": "2025-07-28T11:07:00.257270Z",
     "iopub.status.idle": "2025-07-28T11:07:00.262894Z",
     "shell.execute_reply": "2025-07-28T11:07:00.261969Z"
    },
    "papermill": {
     "duration": 0.028516,
     "end_time": "2025-07-28T11:07:00.266251",
     "exception": false,
     "start_time": "2025-07-28T11:07:00.237735",
     "status": "completed"
    },
    "tags": [
     "injected-parameters"
    ]
   },
   "outputs": [],
   "source": [
    "# Parameters\n",
    "universe_id = \"fca66752a1f6162006284bdc4bbb816d\"\n",
    "run_no = \"11\"\n",
    "universe = \"{\\\"cutoff\\\": [\\\"quantile_0.1\\\", \\\"quantile_0.25\\\"], \\\"eval_fairness_grouping\\\": [\\\"majority-minority\\\", \\\"nationality-all\\\"], \\\"exclude_features\\\": \\\"age\\\", \\\"exclude_subgroups\\\": \\\"drop-non-german\\\", \\\"model\\\": \\\"rf\\\", \\\"scale\\\": \\\"do-not-scale\\\", \\\"training_size\\\": \\\"2014\\\"}\"\n",
    "output_dir = \"output\"\n",
    "seed = \"2023\"\n"
   ]
  },
  {
   "cell_type": "code",
   "execution_count": 5,
   "id": "1650acaf",
   "metadata": {
    "execution": {
     "iopub.execute_input": "2025-07-28T11:07:00.350757Z",
     "iopub.status.busy": "2025-07-28T11:07:00.350369Z",
     "iopub.status.idle": "2025-07-28T11:07:00.356922Z",
     "shell.execute_reply": "2025-07-28T11:07:00.356044Z"
    },
    "papermill": {
     "duration": 0.046655,
     "end_time": "2025-07-28T11:07:00.358811",
     "exception": false,
     "start_time": "2025-07-28T11:07:00.312156",
     "status": "completed"
    },
    "tags": []
   },
   "outputs": [],
   "source": [
    "import json\n",
    "# Parse universe into dict if it is passed as a string\n",
    "if isinstance(universe, str):\n",
    "    universe = json.loads(universe)"
   ]
  },
  {
   "cell_type": "code",
   "execution_count": 6,
   "id": "16620c48",
   "metadata": {
    "execution": {
     "iopub.execute_input": "2025-07-28T11:07:00.410447Z",
     "iopub.status.busy": "2025-07-28T11:07:00.410012Z",
     "iopub.status.idle": "2025-07-28T11:07:00.516316Z",
     "shell.execute_reply": "2025-07-28T11:07:00.515061Z"
    },
    "papermill": {
     "duration": 0.140182,
     "end_time": "2025-07-28T11:07:00.518162",
     "exception": false,
     "start_time": "2025-07-28T11:07:00.377980",
     "status": "completed"
    },
    "tags": []
   },
   "outputs": [],
   "source": [
    "# Auto-reload the custom package\n",
    "%load_ext autoreload\n",
    "%autoreload 1\n",
    "%aimport fairness_multiverse"
   ]
  },
  {
   "cell_type": "code",
   "execution_count": 7,
   "id": "01c5c9f3",
   "metadata": {
    "execution": {
     "iopub.execute_input": "2025-07-28T11:07:00.599382Z",
     "iopub.status.busy": "2025-07-28T11:07:00.598605Z",
     "iopub.status.idle": "2025-07-28T11:07:05.024094Z",
     "shell.execute_reply": "2025-07-28T11:07:05.020585Z"
    },
    "papermill": {
     "duration": 4.472456,
     "end_time": "2025-07-28T11:07:05.026321",
     "exception": false,
     "start_time": "2025-07-28T11:07:00.553865",
     "status": "completed"
    },
    "tags": []
   },
   "outputs": [],
   "source": [
    "from fairness_multiverse.universe import UniverseAnalysis\n",
    "\n",
    "universe_analysis = UniverseAnalysis(\n",
    "    run_no = run_no,\n",
    "    universe_id = universe_id,\n",
    "    universe = universe,\n",
    "    output_dir=output_dir,\n",
    ")"
   ]
  },
  {
   "cell_type": "code",
   "execution_count": 8,
   "id": "106241f5",
   "metadata": {
    "execution": {
     "iopub.execute_input": "2025-07-28T11:07:05.104949Z",
     "iopub.status.busy": "2025-07-28T11:07:05.104449Z",
     "iopub.status.idle": "2025-07-28T11:07:05.113527Z",
     "shell.execute_reply": "2025-07-28T11:07:05.112438Z"
    },
    "papermill": {
     "duration": 0.04847,
     "end_time": "2025-07-28T11:07:05.115159",
     "exception": false,
     "start_time": "2025-07-28T11:07:05.066689",
     "status": "completed"
    },
    "tags": []
   },
   "outputs": [
    {
     "name": "stdout",
     "output_type": "stream",
     "text": [
      "Using Seed: 2023\n"
     ]
    }
   ],
   "source": [
    "import numpy as np\n",
    "parsed_seed = int(seed)\n",
    "np.random.seed(parsed_seed)\n",
    "print(f\"Using Seed: {parsed_seed}\")"
   ]
  },
  {
   "cell_type": "markdown",
   "id": "e0ebdc57",
   "metadata": {
    "papermill": {
     "duration": 0.034749,
     "end_time": "2025-07-28T11:07:05.187253",
     "exception": false,
     "start_time": "2025-07-28T11:07:05.152504",
     "status": "completed"
    },
    "tags": []
   },
   "source": [
    "# Loading Data"
   ]
  },
  {
   "cell_type": "markdown",
   "id": "681925a3",
   "metadata": {
    "papermill": {
     "duration": 0.048293,
     "end_time": "2025-07-28T11:07:05.284828",
     "exception": false,
     "start_time": "2025-07-28T11:07:05.236535",
     "status": "completed"
    },
    "tags": []
   },
   "source": [
    "Load siab_train, siab_test, siab_calib and/or \n",
    "load siab_train_features, siab_train_labels"
   ]
  },
  {
   "cell_type": "code",
   "execution_count": 9,
   "id": "f0496b8a",
   "metadata": {
    "execution": {
     "iopub.execute_input": "2025-07-28T11:07:05.327031Z",
     "iopub.status.busy": "2025-07-28T11:07:05.326204Z",
     "iopub.status.idle": "2025-07-28T11:07:23.213191Z",
     "shell.execute_reply": "2025-07-28T11:07:23.211830Z"
    },
    "papermill": {
     "duration": 17.910025,
     "end_time": "2025-07-28T11:07:23.215317",
     "exception": false,
     "start_time": "2025-07-28T11:07:05.305292",
     "status": "completed"
    },
    "tags": []
   },
   "outputs": [
    {
     "name": "stdout",
     "output_type": "stream",
     "text": [
      "Loading SIAB data from cache: data/siab_cached.csv.gz\n"
     ]
    },
    {
     "name": "stdout",
     "output_type": "stream",
     "text": [
      "(643690, 164)\n"
     ]
    }
   ],
   "source": [
    "from pathlib import Path\n",
    "import pandas as pd\n",
    "\n",
    "# File paths\n",
    "raw_file = Path(\"data/raw/siab.csv\")\n",
    "cache_file = Path(\"data/siab_cached.csv.gz\")\n",
    "\n",
    "# Ensure cache directory exists\n",
    "cache_file.parent.mkdir(parents=True, exist_ok=True)\n",
    "\n",
    "# Load with simple caching\n",
    "if cache_file.exists():\n",
    "    print(f\"Loading SIAB data from cache: {cache_file}\")\n",
    "    siab = pd.read_csv(cache_file, compression='gzip')\n",
    "else:\n",
    "    print(f\"Cache not found. Reading raw SIAB data: {raw_file}\")\n",
    "    siab = pd.read_csv(raw_file)\n",
    "    siab.to_csv(cache_file, index=False, compression='gzip')\n",
    "    print(f\"Cached SIAB data to: {cache_file}\")\n",
    "\n",
    "# Now use `siab` DataFrame as needed\n",
    "print(siab.shape)"
   ]
  },
  {
   "cell_type": "code",
   "execution_count": 10,
   "id": "db0ca512-5f53-4dba-abdb-a2888bca41ba",
   "metadata": {
    "execution": {
     "iopub.execute_input": "2025-07-28T11:07:23.271651Z",
     "iopub.status.busy": "2025-07-28T11:07:23.270406Z",
     "iopub.status.idle": "2025-07-28T11:07:23.277661Z",
     "shell.execute_reply": "2025-07-28T11:07:23.276530Z"
    },
    "papermill": {
     "duration": 0.041182,
     "end_time": "2025-07-28T11:07:23.280105",
     "exception": false,
     "start_time": "2025-07-28T11:07:23.238923",
     "status": "completed"
    },
    "tags": []
   },
   "outputs": [],
   "source": [
    "#siab"
   ]
  },
  {
   "cell_type": "code",
   "execution_count": 11,
   "id": "a0edb063",
   "metadata": {
    "execution": {
     "iopub.execute_input": "2025-07-28T11:07:23.381651Z",
     "iopub.status.busy": "2025-07-28T11:07:23.381207Z",
     "iopub.status.idle": "2025-07-28T11:07:23.387956Z",
     "shell.execute_reply": "2025-07-28T11:07:23.387040Z"
    },
    "papermill": {
     "duration": 0.056219,
     "end_time": "2025-07-28T11:07:23.389907",
     "exception": false,
     "start_time": "2025-07-28T11:07:23.333688",
     "status": "completed"
    },
    "tags": []
   },
   "outputs": [],
   "source": [
    "#import pandas as pd\n",
    "#\n",
    "#X_train = pd.read_csv(\"./data/X_train.csv\")\n",
    "#y_train = pd.read_csv(\"./data/y_train.csv\")"
   ]
  },
  {
   "cell_type": "code",
   "execution_count": 12,
   "id": "63d08085",
   "metadata": {
    "execution": {
     "iopub.execute_input": "2025-07-28T11:07:23.471745Z",
     "iopub.status.busy": "2025-07-28T11:07:23.471328Z",
     "iopub.status.idle": "2025-07-28T11:07:23.477008Z",
     "shell.execute_reply": "2025-07-28T11:07:23.475957Z"
    },
    "papermill": {
     "duration": 0.049583,
     "end_time": "2025-07-28T11:07:23.478917",
     "exception": false,
     "start_time": "2025-07-28T11:07:23.429334",
     "status": "completed"
    },
    "tags": []
   },
   "outputs": [],
   "source": [
    "#X_test = pd.read_csv(\"./data/X_test.csv\")\n",
    "#y_true = pd.read_csv(\"./data/y_test.csv\")"
   ]
  },
  {
   "cell_type": "code",
   "execution_count": 13,
   "id": "98a8d0fa-1d3d-4ed8-bb2c-281470e24add",
   "metadata": {
    "execution": {
     "iopub.execute_input": "2025-07-28T11:07:23.570957Z",
     "iopub.status.busy": "2025-07-28T11:07:23.570531Z",
     "iopub.status.idle": "2025-07-28T11:07:23.577083Z",
     "shell.execute_reply": "2025-07-28T11:07:23.576102Z"
    },
    "papermill": {
     "duration": 0.058617,
     "end_time": "2025-07-28T11:07:23.579222",
     "exception": false,
     "start_time": "2025-07-28T11:07:23.520605",
     "status": "completed"
    },
    "tags": []
   },
   "outputs": [],
   "source": [
    "# Calibration data for conformal\n",
    "#X_calib = pd.read_csv(\"./data/X_calib.csv\")\n",
    "#y_calib = pd.read_csv(\"./data/y_calib.csv\")"
   ]
  },
  {
   "cell_type": "markdown",
   "id": "9901737e-04df-44f0-9100-f5ad144ed040",
   "metadata": {
    "papermill": {
     "duration": 0.039351,
     "end_time": "2025-07-28T11:07:23.659954",
     "exception": false,
     "start_time": "2025-07-28T11:07:23.620603",
     "status": "completed"
    },
    "tags": []
   },
   "source": [
    "# Splitting Data and Setting Training Data Size"
   ]
  },
  {
   "cell_type": "code",
   "execution_count": 14,
   "id": "acbc8f7d-8fc8-4e86-8c59-5dcb0f58384b",
   "metadata": {
    "execution": {
     "iopub.execute_input": "2025-07-28T11:07:23.755572Z",
     "iopub.status.busy": "2025-07-28T11:07:23.755124Z",
     "iopub.status.idle": "2025-07-28T11:07:23.766055Z",
     "shell.execute_reply": "2025-07-28T11:07:23.764975Z"
    },
    "papermill": {
     "duration": 0.055456,
     "end_time": "2025-07-28T11:07:23.768238",
     "exception": false,
     "start_time": "2025-07-28T11:07:23.712782",
     "status": "completed"
    },
    "tags": []
   },
   "outputs": [],
   "source": [
    "def sample_by_year(df, training_size, random_state=42):\n",
    "    if training_size == \"2014\":\n",
    "        return df[df[\"year\"] == 2014].reset_index(drop=True)\n",
    "    \n",
    "    size_map = {\n",
    "        \"25k\": 5000,\n",
    "        \"5k\": 1000,\n",
    "        \"1k\": 200\n",
    "    }\n",
    "\n",
    "    if training_size not in size_map:\n",
    "        return df.reset_index(drop=True)  # use all data\n",
    "\n",
    "    n_per_year = size_map[training_size]\n",
    "    grouped = df.groupby(\"year\")\n",
    "    sampled = grouped.apply(lambda x: x.sample(n=min(n_per_year, len(x)), random_state=random_state))\n",
    "    return sampled.reset_index(drop=True)"
   ]
  },
  {
   "cell_type": "code",
   "execution_count": 15,
   "id": "6d931f52-beaf-43ff-9e78-9d44a448d54e",
   "metadata": {
    "execution": {
     "iopub.execute_input": "2025-07-28T11:07:23.860012Z",
     "iopub.status.busy": "2025-07-28T11:07:23.859485Z",
     "iopub.status.idle": "2025-07-28T11:07:24.197389Z",
     "shell.execute_reply": "2025-07-28T11:07:24.196123Z"
    },
    "papermill": {
     "duration": 0.379004,
     "end_time": "2025-07-28T11:07:24.199563",
     "exception": false,
     "start_time": "2025-07-28T11:07:23.820559",
     "status": "completed"
    },
    "tags": []
   },
   "outputs": [],
   "source": [
    "siab_s = sample_by_year(siab, universe[\"training_size\"])"
   ]
  },
  {
   "cell_type": "code",
   "execution_count": 16,
   "id": "5db0a40e-a4e2-4920-be85-b12ae061d70d",
   "metadata": {
    "execution": {
     "iopub.execute_input": "2025-07-28T11:07:24.276220Z",
     "iopub.status.busy": "2025-07-28T11:07:24.275735Z",
     "iopub.status.idle": "2025-07-28T11:07:24.313231Z",
     "shell.execute_reply": "2025-07-28T11:07:24.312097Z"
    },
    "papermill": {
     "duration": 0.078903,
     "end_time": "2025-07-28T11:07:24.315493",
     "exception": false,
     "start_time": "2025-07-28T11:07:24.236590",
     "status": "completed"
    },
    "tags": []
   },
   "outputs": [
    {
     "data": {
      "text/plain": [
       "year\n",
       "2014    87158\n",
       "dtype: int64"
      ]
     },
     "metadata": {},
     "output_type": "display_data"
    }
   ],
   "source": [
    "display(siab_s.groupby(\"year\").size())"
   ]
  },
  {
   "cell_type": "code",
   "execution_count": 17,
   "id": "a561edb4-d032-42cb-8256-22eac1111c64",
   "metadata": {
    "execution": {
     "iopub.execute_input": "2025-07-28T11:07:24.393080Z",
     "iopub.status.busy": "2025-07-28T11:07:24.392669Z",
     "iopub.status.idle": "2025-07-28T11:07:24.839511Z",
     "shell.execute_reply": "2025-07-28T11:07:24.838225Z"
    },
    "papermill": {
     "duration": 0.488519,
     "end_time": "2025-07-28T11:07:24.841564",
     "exception": false,
     "start_time": "2025-07-28T11:07:24.353045",
     "status": "completed"
    },
    "tags": []
   },
   "outputs": [],
   "source": [
    "siab_train = siab_s[siab_s.year < 2015]\n",
    "siab_calib = siab[siab.year == 2015]\n",
    "siab_test = siab[siab.year == 2016]"
   ]
  },
  {
   "cell_type": "code",
   "execution_count": 18,
   "id": "472de16f-c3db-4916-846b-1f0de9cf1746",
   "metadata": {
    "execution": {
     "iopub.execute_input": "2025-07-28T11:07:24.924581Z",
     "iopub.status.busy": "2025-07-28T11:07:24.923475Z",
     "iopub.status.idle": "2025-07-28T11:07:24.980818Z",
     "shell.execute_reply": "2025-07-28T11:07:24.979582Z"
    },
    "papermill": {
     "duration": 0.103118,
     "end_time": "2025-07-28T11:07:24.983206",
     "exception": false,
     "start_time": "2025-07-28T11:07:24.880088",
     "status": "completed"
    },
    "tags": []
   },
   "outputs": [],
   "source": [
    "X_train = siab_train.iloc[:,4:164]\n",
    "y_train = siab_train.iloc[:, [3]]"
   ]
  },
  {
   "cell_type": "code",
   "execution_count": 19,
   "id": "828c96af-f43a-4ed6-ba47-8ac73a47d56c",
   "metadata": {
    "execution": {
     "iopub.execute_input": "2025-07-28T11:07:25.028630Z",
     "iopub.status.busy": "2025-07-28T11:07:25.028188Z",
     "iopub.status.idle": "2025-07-28T11:07:25.086573Z",
     "shell.execute_reply": "2025-07-28T11:07:25.085553Z"
    },
    "papermill": {
     "duration": 0.082729,
     "end_time": "2025-07-28T11:07:25.088485",
     "exception": false,
     "start_time": "2025-07-28T11:07:25.005756",
     "status": "completed"
    },
    "tags": []
   },
   "outputs": [],
   "source": [
    "X_calib = siab_calib.iloc[:,4:164]\n",
    "y_calib = siab_calib.iloc[:, [3]]"
   ]
  },
  {
   "cell_type": "code",
   "execution_count": 20,
   "id": "c34be9c3-6bd6-476e-acd3-845840e303be",
   "metadata": {
    "execution": {
     "iopub.execute_input": "2025-07-28T11:07:25.133680Z",
     "iopub.status.busy": "2025-07-28T11:07:25.133171Z",
     "iopub.status.idle": "2025-07-28T11:07:25.189805Z",
     "shell.execute_reply": "2025-07-28T11:07:25.188941Z"
    },
    "papermill": {
     "duration": 0.081113,
     "end_time": "2025-07-28T11:07:25.191482",
     "exception": false,
     "start_time": "2025-07-28T11:07:25.110369",
     "status": "completed"
    },
    "tags": []
   },
   "outputs": [],
   "source": [
    "X_test = siab_test.iloc[:,4:164]\n",
    "y_true = siab_test.iloc[:, [3]]"
   ]
  },
  {
   "cell_type": "code",
   "execution_count": 21,
   "id": "e6c733c5",
   "metadata": {
    "execution": {
     "iopub.execute_input": "2025-07-28T11:07:25.239087Z",
     "iopub.status.busy": "2025-07-28T11:07:25.238628Z",
     "iopub.status.idle": "2025-07-28T11:07:25.383497Z",
     "shell.execute_reply": "2025-07-28T11:07:25.382465Z"
    },
    "papermill": {
     "duration": 0.172445,
     "end_time": "2025-07-28T11:07:25.385878",
     "exception": false,
     "start_time": "2025-07-28T11:07:25.213433",
     "status": "completed"
    },
    "tags": []
   },
   "outputs": [],
   "source": [
    "# Auxiliary data needed downstream in the pipeline\n",
    "\n",
    "org_train = X_train.copy()\n",
    "org_test = X_test.copy()\n",
    "org_calib = X_calib.copy()"
   ]
  },
  {
   "cell_type": "markdown",
   "id": "0a4a1b33",
   "metadata": {
    "papermill": {
     "duration": 0.022408,
     "end_time": "2025-07-28T11:07:25.431051",
     "exception": false,
     "start_time": "2025-07-28T11:07:25.408643",
     "status": "completed"
    },
    "tags": []
   },
   "source": [
    "# Preprocessing Data"
   ]
  },
  {
   "cell_type": "code",
   "execution_count": 22,
   "id": "ca879031",
   "metadata": {
    "execution": {
     "iopub.execute_input": "2025-07-28T11:07:25.516664Z",
     "iopub.status.busy": "2025-07-28T11:07:25.516115Z",
     "iopub.status.idle": "2025-07-28T11:07:25.523224Z",
     "shell.execute_reply": "2025-07-28T11:07:25.522158Z"
    },
    "papermill": {
     "duration": 0.062855,
     "end_time": "2025-07-28T11:07:25.526873",
     "exception": false,
     "start_time": "2025-07-28T11:07:25.464018",
     "status": "completed"
    },
    "tags": []
   },
   "outputs": [],
   "source": [
    "# EXCLUDE PROTECTED FEATURES\n",
    "# ----------------------\n",
    "# \"exclude_features\": \"none\", # \"nationality\", \"sex\", \"nationality-sex\"\n",
    "\n",
    "excluded_features = universe[\"exclude_features\"].split(\"-\") # split, e.g.: \"nationality-sex\" -> [\"nationality\", \"sex\"]\n",
    "excluded_features_dictionary = {\n",
    "    \"nationality\": [\"maxdeutsch1\", \"maxdeutsch.Missing.\"],\n",
    "    \"sex\": [\"frau1\"],\n",
    "    \"age\": [\"age\"],\n",
    "}\n"
   ]
  },
  {
   "cell_type": "code",
   "execution_count": 23,
   "id": "b745ac60",
   "metadata": {
    "execution": {
     "iopub.execute_input": "2025-07-28T11:07:25.582472Z",
     "iopub.status.busy": "2025-07-28T11:07:25.582032Z",
     "iopub.status.idle": "2025-07-28T11:07:25.588496Z",
     "shell.execute_reply": "2025-07-28T11:07:25.587445Z"
    },
    "papermill": {
     "duration": 0.036946,
     "end_time": "2025-07-28T11:07:25.592138",
     "exception": false,
     "start_time": "2025-07-28T11:07:25.555192",
     "status": "completed"
    },
    "tags": []
   },
   "outputs": [],
   "source": [
    "# Code nice names to column names\n",
    "\n",
    "excluded_features_columns = [\n",
    "    excluded_features_dictionary[f] for f in excluded_features if len(f) > 0 and f != \"none\"\n",
    "]"
   ]
  },
  {
   "cell_type": "code",
   "execution_count": 24,
   "id": "f84f73a2",
   "metadata": {
    "execution": {
     "iopub.execute_input": "2025-07-28T11:07:25.639608Z",
     "iopub.status.busy": "2025-07-28T11:07:25.639170Z",
     "iopub.status.idle": "2025-07-28T11:07:25.646180Z",
     "shell.execute_reply": "2025-07-28T11:07:25.645162Z"
    },
    "papermill": {
     "duration": 0.034764,
     "end_time": "2025-07-28T11:07:25.649651",
     "exception": false,
     "start_time": "2025-07-28T11:07:25.614887",
     "status": "completed"
    },
    "tags": []
   },
   "outputs": [],
   "source": [
    "from utils import flatten_once\n",
    "\n",
    "excluded_features_columns = flatten_once(excluded_features_columns)"
   ]
  },
  {
   "cell_type": "code",
   "execution_count": 25,
   "id": "884dea22",
   "metadata": {
    "execution": {
     "iopub.execute_input": "2025-07-28T11:07:25.698421Z",
     "iopub.status.busy": "2025-07-28T11:07:25.697987Z",
     "iopub.status.idle": "2025-07-28T11:07:25.821511Z",
     "shell.execute_reply": "2025-07-28T11:07:25.820146Z"
    },
    "papermill": {
     "duration": 0.151191,
     "end_time": "2025-07-28T11:07:25.824093",
     "exception": false,
     "start_time": "2025-07-28T11:07:25.672902",
     "status": "completed"
    },
    "tags": []
   },
   "outputs": [
    {
     "name": "stdout",
     "output_type": "stream",
     "text": [
      "Dropping features: ['age']\n"
     ]
    }
   ],
   "source": [
    "if len(excluded_features_columns) > 0:\n",
    "    print(f\"Dropping features: {excluded_features_columns}\")\n",
    "    X_train.drop(excluded_features_columns, axis=1, inplace=True)"
   ]
  },
  {
   "cell_type": "code",
   "execution_count": 26,
   "id": "95ab8b16",
   "metadata": {
    "execution": {
     "iopub.execute_input": "2025-07-28T11:07:25.942640Z",
     "iopub.status.busy": "2025-07-28T11:07:25.942198Z",
     "iopub.status.idle": "2025-07-28T11:07:26.021871Z",
     "shell.execute_reply": "2025-07-28T11:07:26.020879Z"
    },
    "papermill": {
     "duration": 0.148613,
     "end_time": "2025-07-28T11:07:26.023984",
     "exception": false,
     "start_time": "2025-07-28T11:07:25.875371",
     "status": "completed"
    },
    "tags": []
   },
   "outputs": [
    {
     "name": "stdout",
     "output_type": "stream",
     "text": [
      "Dropping features: ['age']\n"
     ]
    }
   ],
   "source": [
    "if len(excluded_features_columns) > 0:\n",
    "    print(f\"Dropping features: {excluded_features_columns}\")\n",
    "    X_test.drop(excluded_features_columns, axis=1, inplace=True)"
   ]
  },
  {
   "cell_type": "code",
   "execution_count": 27,
   "id": "1853aaf5-fb9f-46cb-a2b5-8ea4ae2237e4",
   "metadata": {
    "execution": {
     "iopub.execute_input": "2025-07-28T11:07:26.094693Z",
     "iopub.status.busy": "2025-07-28T11:07:26.094272Z",
     "iopub.status.idle": "2025-07-28T11:07:26.251654Z",
     "shell.execute_reply": "2025-07-28T11:07:26.250379Z"
    },
    "papermill": {
     "duration": 0.189731,
     "end_time": "2025-07-28T11:07:26.253579",
     "exception": false,
     "start_time": "2025-07-28T11:07:26.063848",
     "status": "completed"
    },
    "tags": []
   },
   "outputs": [
    {
     "name": "stdout",
     "output_type": "stream",
     "text": [
      "Dropping features: ['age']\n"
     ]
    }
   ],
   "source": [
    "if len(excluded_features_columns) > 0:\n",
    "    print(f\"Dropping features: {excluded_features_columns}\")\n",
    "    X_calib.drop(excluded_features_columns, axis=1, inplace=True)"
   ]
  },
  {
   "cell_type": "code",
   "execution_count": 28,
   "id": "6727d079-03e5-481e-9d38-292a90b7a0a8",
   "metadata": {
    "execution": {
     "iopub.execute_input": "2025-07-28T11:07:26.351501Z",
     "iopub.status.busy": "2025-07-28T11:07:26.350456Z",
     "iopub.status.idle": "2025-07-28T11:07:26.356357Z",
     "shell.execute_reply": "2025-07-28T11:07:26.355275Z"
    },
    "papermill": {
     "duration": 0.071582,
     "end_time": "2025-07-28T11:07:26.359342",
     "exception": false,
     "start_time": "2025-07-28T11:07:26.287760",
     "status": "completed"
    },
    "tags": []
   },
   "outputs": [],
   "source": [
    "# SPLIT & STRATIFY DATA\n",
    "# ----------------------"
   ]
  },
  {
   "cell_type": "code",
   "execution_count": 29,
   "id": "76c4dc6d",
   "metadata": {
    "execution": {
     "iopub.execute_input": "2025-07-28T11:07:26.405922Z",
     "iopub.status.busy": "2025-07-28T11:07:26.405394Z",
     "iopub.status.idle": "2025-07-28T11:07:26.411665Z",
     "shell.execute_reply": "2025-07-28T11:07:26.410624Z"
    },
    "papermill": {
     "duration": 0.033048,
     "end_time": "2025-07-28T11:07:26.415196",
     "exception": false,
     "start_time": "2025-07-28T11:07:26.382148",
     "status": "completed"
    },
    "tags": []
   },
   "outputs": [],
   "source": [
    "# EXCLUDE CERTAIN SUBGROUPS\n",
    "# ----------------------\n",
    "\n",
    "mode = universe.get(\"exclude_subgroups\", \"keep-all\") \n",
    "# Fetches the exclude_subgroups setting from the universe dict.\n",
    "# Defaults to \"keep-all\" if the key is missing."
   ]
  },
  {
   "cell_type": "code",
   "execution_count": 30,
   "id": "21994072",
   "metadata": {
    "execution": {
     "iopub.execute_input": "2025-07-28T11:07:26.462681Z",
     "iopub.status.busy": "2025-07-28T11:07:26.462116Z",
     "iopub.status.idle": "2025-07-28T11:07:26.469794Z",
     "shell.execute_reply": "2025-07-28T11:07:26.468680Z"
    },
    "papermill": {
     "duration": 0.033967,
     "end_time": "2025-07-28T11:07:26.471884",
     "exception": false,
     "start_time": "2025-07-28T11:07:26.437917",
     "status": "completed"
    },
    "tags": []
   },
   "outputs": [],
   "source": [
    "if mode == \"keep-all\":\n",
    "    keep_mask = pd.Series(True, index=org_train.index)\n",
    "\n",
    "# org_train contains the original feature columns from features_org (in Simson)\n",
    "# features_org contains unprocessed features, for me X_train at beginning ???\n",
    "# For keep-all, creates a boolean Series (keep_mask) of all True, so no rows are removed.\n",
    "\n",
    "elif mode == \"drop-non-german\":\n",
    "    keep_mask = org_train[\"maxdeutsch1\"] == 1 # ??? what about missing values?\n",
    "\n",
    "else:\n",
    "    raise ValueError(f\"Unsupported mode for exclude_subgroups: {mode}\")\n"
   ]
  },
  {
   "cell_type": "code",
   "execution_count": 31,
   "id": "71651440",
   "metadata": {
    "execution": {
     "iopub.execute_input": "2025-07-28T11:07:26.520652Z",
     "iopub.status.busy": "2025-07-28T11:07:26.519763Z",
     "iopub.status.idle": "2025-07-28T11:07:26.527520Z",
     "shell.execute_reply": "2025-07-28T11:07:26.526479Z"
    },
    "papermill": {
     "duration": 0.034029,
     "end_time": "2025-07-28T11:07:26.529367",
     "exception": false,
     "start_time": "2025-07-28T11:07:26.495338",
     "status": "completed"
    },
    "tags": []
   },
   "outputs": [
    {
     "name": "stdout",
     "output_type": "stream",
     "text": [
      "Dropping 12995 rows (14.91%) where mode='drop-non-german'\n"
     ]
    }
   ],
   "source": [
    "n_drop = (~keep_mask).sum() # Calculates how many rows are set to be dropped\n",
    "if n_drop > 0:\n",
    "    pct = n_drop / len(keep_mask) * 100\n",
    "    print(f\"Dropping {n_drop} rows ({pct:.2f}%) where mode='{mode}'\")"
   ]
  },
  {
   "cell_type": "code",
   "execution_count": 32,
   "id": "5fb8eee5",
   "metadata": {
    "execution": {
     "iopub.execute_input": "2025-07-28T11:07:26.576788Z",
     "iopub.status.busy": "2025-07-28T11:07:26.576290Z",
     "iopub.status.idle": "2025-07-28T11:07:26.632910Z",
     "shell.execute_reply": "2025-07-28T11:07:26.631758Z"
    },
    "papermill": {
     "duration": 0.082624,
     "end_time": "2025-07-28T11:07:26.635020",
     "exception": false,
     "start_time": "2025-07-28T11:07:26.552396",
     "status": "completed"
    },
    "tags": []
   },
   "outputs": [],
   "source": [
    "X_train = X_train[keep_mask]"
   ]
  },
  {
   "cell_type": "code",
   "execution_count": 33,
   "id": "b202bb3a",
   "metadata": {
    "execution": {
     "iopub.execute_input": "2025-07-28T11:07:26.687540Z",
     "iopub.status.busy": "2025-07-28T11:07:26.686453Z",
     "iopub.status.idle": "2025-07-28T11:07:26.694391Z",
     "shell.execute_reply": "2025-07-28T11:07:26.693371Z"
    },
    "papermill": {
     "duration": 0.036181,
     "end_time": "2025-07-28T11:07:26.696366",
     "exception": false,
     "start_time": "2025-07-28T11:07:26.660185",
     "status": "completed"
    },
    "tags": []
   },
   "outputs": [],
   "source": [
    "y_train = y_train[keep_mask]"
   ]
  },
  {
   "cell_type": "markdown",
   "id": "493e2ac3",
   "metadata": {
    "papermill": {
     "duration": 0.021749,
     "end_time": "2025-07-28T11:07:26.736264",
     "exception": false,
     "start_time": "2025-07-28T11:07:26.714515",
     "status": "completed"
    },
    "tags": []
   },
   "source": [
    "# Model Training"
   ]
  },
  {
   "cell_type": "code",
   "execution_count": 34,
   "id": "679e1268",
   "metadata": {
    "execution": {
     "iopub.execute_input": "2025-07-28T11:07:26.834777Z",
     "iopub.status.busy": "2025-07-28T11:07:26.834277Z",
     "iopub.status.idle": "2025-07-28T11:07:27.054620Z",
     "shell.execute_reply": "2025-07-28T11:07:27.053554Z"
    },
    "papermill": {
     "duration": 0.271946,
     "end_time": "2025-07-28T11:07:27.056529",
     "exception": false,
     "start_time": "2025-07-28T11:07:26.784583",
     "status": "completed"
    },
    "tags": []
   },
   "outputs": [],
   "source": [
    "from sklearn.linear_model import LogisticRegression\n",
    "from sklearn.ensemble import GradientBoostingClassifier, RandomForestClassifier\n",
    "\n",
    "if (universe[\"model\"] == \"logreg\"):\n",
    "    model = LogisticRegression() #penalty=\"none\") #, solver=\"newton-cg\", max_iter=1) # include random_state=19 ?\n",
    "elif (universe[\"model\"] == \"penalized_logreg\"):\n",
    "    model = LogisticRegression(penalty=\"l2\", C=1.0) #, solver=\"newton-cg\", max_iter=1)\n",
    "elif (universe[\"model\"] == \"rf\"):\n",
    "    model = RandomForestClassifier(n_estimators=100, n_jobs=-1)\n",
    "elif (universe[\"model\"] == \"gbm\"):\n",
    "    model = GradientBoostingClassifier()\n",
    "elif (universe[\"model\"] == \"elasticnet\"):\n",
    "    model = LogisticRegression(penalty = 'elasticnet', solver = 'saga', l1_ratio = 0.5, max_iter=5000) # which solver to use?\n",
    "else:\n",
    "    raise \"Unsupported universe.model\""
   ]
  },
  {
   "cell_type": "code",
   "execution_count": 35,
   "id": "0cc8f744",
   "metadata": {
    "execution": {
     "iopub.execute_input": "2025-07-28T11:07:27.194316Z",
     "iopub.status.busy": "2025-07-28T11:07:27.193889Z",
     "iopub.status.idle": "2025-07-28T11:07:27.201416Z",
     "shell.execute_reply": "2025-07-28T11:07:27.200376Z"
    },
    "papermill": {
     "duration": 0.07832,
     "end_time": "2025-07-28T11:07:27.203009",
     "exception": false,
     "start_time": "2025-07-28T11:07:27.124689",
     "status": "completed"
    },
    "tags": []
   },
   "outputs": [],
   "source": [
    "import numpy as np\n",
    "from sklearn.pipeline import Pipeline\n",
    "from sklearn.preprocessing import StandardScaler\n",
    "\n",
    "model = Pipeline([\n",
    "    #(\"continuous_processor\", continuous_processor),\n",
    "    #(\"categorical_preprocessor\", categorical_preprocessor),\n",
    "    (\"scale\", StandardScaler() if universe[\"scale\"] == \"scale\" else None), \n",
    "    (\"model\", model),\n",
    "])"
   ]
  },
  {
   "cell_type": "code",
   "execution_count": 36,
   "id": "9442c04d",
   "metadata": {
    "execution": {
     "iopub.execute_input": "2025-07-28T11:07:27.330441Z",
     "iopub.status.busy": "2025-07-28T11:07:27.329957Z",
     "iopub.status.idle": "2025-07-28T11:07:39.119608Z",
     "shell.execute_reply": "2025-07-28T11:07:39.118458Z"
    },
    "papermill": {
     "duration": 11.857125,
     "end_time": "2025-07-28T11:07:39.121845",
     "exception": false,
     "start_time": "2025-07-28T11:07:27.264720",
     "status": "completed"
    },
    "tags": []
   },
   "outputs": [
    {
     "data": {
      "text/html": [
       "<style>#sk-container-id-1 {color: black;background-color: white;}#sk-container-id-1 pre{padding: 0;}#sk-container-id-1 div.sk-toggleable {background-color: white;}#sk-container-id-1 label.sk-toggleable__label {cursor: pointer;display: block;width: 100%;margin-bottom: 0;padding: 0.3em;box-sizing: border-box;text-align: center;}#sk-container-id-1 label.sk-toggleable__label-arrow:before {content: \"▸\";float: left;margin-right: 0.25em;color: #696969;}#sk-container-id-1 label.sk-toggleable__label-arrow:hover:before {color: black;}#sk-container-id-1 div.sk-estimator:hover label.sk-toggleable__label-arrow:before {color: black;}#sk-container-id-1 div.sk-toggleable__content {max-height: 0;max-width: 0;overflow: hidden;text-align: left;background-color: #f0f8ff;}#sk-container-id-1 div.sk-toggleable__content pre {margin: 0.2em;color: black;border-radius: 0.25em;background-color: #f0f8ff;}#sk-container-id-1 input.sk-toggleable__control:checked~div.sk-toggleable__content {max-height: 200px;max-width: 100%;overflow: auto;}#sk-container-id-1 input.sk-toggleable__control:checked~label.sk-toggleable__label-arrow:before {content: \"▾\";}#sk-container-id-1 div.sk-estimator input.sk-toggleable__control:checked~label.sk-toggleable__label {background-color: #d4ebff;}#sk-container-id-1 div.sk-label input.sk-toggleable__control:checked~label.sk-toggleable__label {background-color: #d4ebff;}#sk-container-id-1 input.sk-hidden--visually {border: 0;clip: rect(1px 1px 1px 1px);clip: rect(1px, 1px, 1px, 1px);height: 1px;margin: -1px;overflow: hidden;padding: 0;position: absolute;width: 1px;}#sk-container-id-1 div.sk-estimator {font-family: monospace;background-color: #f0f8ff;border: 1px dotted black;border-radius: 0.25em;box-sizing: border-box;margin-bottom: 0.5em;}#sk-container-id-1 div.sk-estimator:hover {background-color: #d4ebff;}#sk-container-id-1 div.sk-parallel-item::after {content: \"\";width: 100%;border-bottom: 1px solid gray;flex-grow: 1;}#sk-container-id-1 div.sk-label:hover label.sk-toggleable__label {background-color: #d4ebff;}#sk-container-id-1 div.sk-serial::before {content: \"\";position: absolute;border-left: 1px solid gray;box-sizing: border-box;top: 0;bottom: 0;left: 50%;z-index: 0;}#sk-container-id-1 div.sk-serial {display: flex;flex-direction: column;align-items: center;background-color: white;padding-right: 0.2em;padding-left: 0.2em;position: relative;}#sk-container-id-1 div.sk-item {position: relative;z-index: 1;}#sk-container-id-1 div.sk-parallel {display: flex;align-items: stretch;justify-content: center;background-color: white;position: relative;}#sk-container-id-1 div.sk-item::before, #sk-container-id-1 div.sk-parallel-item::before {content: \"\";position: absolute;border-left: 1px solid gray;box-sizing: border-box;top: 0;bottom: 0;left: 50%;z-index: -1;}#sk-container-id-1 div.sk-parallel-item {display: flex;flex-direction: column;z-index: 1;position: relative;background-color: white;}#sk-container-id-1 div.sk-parallel-item:first-child::after {align-self: flex-end;width: 50%;}#sk-container-id-1 div.sk-parallel-item:last-child::after {align-self: flex-start;width: 50%;}#sk-container-id-1 div.sk-parallel-item:only-child::after {width: 0;}#sk-container-id-1 div.sk-dashed-wrapped {border: 1px dashed gray;margin: 0 0.4em 0.5em 0.4em;box-sizing: border-box;padding-bottom: 0.4em;background-color: white;}#sk-container-id-1 div.sk-label label {font-family: monospace;font-weight: bold;display: inline-block;line-height: 1.2em;}#sk-container-id-1 div.sk-label-container {text-align: center;}#sk-container-id-1 div.sk-container {/* jupyter's `normalize.less` sets `[hidden] { display: none; }` but bootstrap.min.css set `[hidden] { display: none !important; }` so we also need the `!important` here to be able to override the default hidden behavior on the sphinx rendered scikit-learn.org. See: https://github.com/scikit-learn/scikit-learn/issues/21755 */display: inline-block !important;position: relative;}#sk-container-id-1 div.sk-text-repr-fallback {display: none;}</style><div id=\"sk-container-id-1\" class=\"sk-top-container\"><div class=\"sk-text-repr-fallback\"><pre>Pipeline(steps=[(&#x27;scale&#x27;, None), (&#x27;model&#x27;, RandomForestClassifier(n_jobs=-1))])</pre><b>In a Jupyter environment, please rerun this cell to show the HTML representation or trust the notebook. <br />On GitHub, the HTML representation is unable to render, please try loading this page with nbviewer.org.</b></div><div class=\"sk-container\" hidden><div class=\"sk-item sk-dashed-wrapped\"><div class=\"sk-label-container\"><div class=\"sk-label sk-toggleable\"><input class=\"sk-toggleable__control sk-hidden--visually\" id=\"sk-estimator-id-1\" type=\"checkbox\" ><label for=\"sk-estimator-id-1\" class=\"sk-toggleable__label sk-toggleable__label-arrow\">Pipeline</label><div class=\"sk-toggleable__content\"><pre>Pipeline(steps=[(&#x27;scale&#x27;, None), (&#x27;model&#x27;, RandomForestClassifier(n_jobs=-1))])</pre></div></div></div><div class=\"sk-serial\"><div class=\"sk-item\"><div class=\"sk-estimator sk-toggleable\"><input class=\"sk-toggleable__control sk-hidden--visually\" id=\"sk-estimator-id-2\" type=\"checkbox\" ><label for=\"sk-estimator-id-2\" class=\"sk-toggleable__label sk-toggleable__label-arrow\">None</label><div class=\"sk-toggleable__content\"><pre>None</pre></div></div></div><div class=\"sk-item\"><div class=\"sk-estimator sk-toggleable\"><input class=\"sk-toggleable__control sk-hidden--visually\" id=\"sk-estimator-id-3\" type=\"checkbox\" ><label for=\"sk-estimator-id-3\" class=\"sk-toggleable__label sk-toggleable__label-arrow\">RandomForestClassifier</label><div class=\"sk-toggleable__content\"><pre>RandomForestClassifier(n_jobs=-1)</pre></div></div></div></div></div></div></div>"
      ],
      "text/plain": [
       "Pipeline(steps=[('scale', None), ('model', RandomForestClassifier(n_jobs=-1))])"
      ]
     },
     "execution_count": 36,
     "metadata": {},
     "output_type": "execute_result"
    }
   ],
   "source": [
    "model.fit(X_train, y_train.values.ravel())"
   ]
  },
  {
   "cell_type": "code",
   "execution_count": 37,
   "id": "af59f8c0",
   "metadata": {
    "execution": {
     "iopub.execute_input": "2025-07-28T11:07:39.174690Z",
     "iopub.status.busy": "2025-07-28T11:07:39.174170Z",
     "iopub.status.idle": "2025-07-28T11:07:39.180271Z",
     "shell.execute_reply": "2025-07-28T11:07:39.179187Z"
    },
    "papermill": {
     "duration": 0.033259,
     "end_time": "2025-07-28T11:07:39.182096",
     "exception": false,
     "start_time": "2025-07-28T11:07:39.148837",
     "status": "completed"
    },
    "tags": []
   },
   "outputs": [],
   "source": [
    "from fairness_multiverse.universe import predict_w_threshold"
   ]
  },
  {
   "cell_type": "code",
   "execution_count": 38,
   "id": "a7cf2e16",
   "metadata": {
    "execution": {
     "iopub.execute_input": "2025-07-28T11:07:39.238120Z",
     "iopub.status.busy": "2025-07-28T11:07:39.237512Z",
     "iopub.status.idle": "2025-07-28T11:07:40.572706Z",
     "shell.execute_reply": "2025-07-28T11:07:40.571698Z"
    },
    "papermill": {
     "duration": 1.368169,
     "end_time": "2025-07-28T11:07:40.574654",
     "exception": false,
     "start_time": "2025-07-28T11:07:39.206485",
     "status": "completed"
    },
    "tags": []
   },
   "outputs": [
    {
     "data": {
      "text/plain": [
       "0.867684762010924"
      ]
     },
     "execution_count": 38,
     "metadata": {},
     "output_type": "execute_result"
    }
   ],
   "source": [
    "probs_test = model.predict_proba(X_test)\n",
    "\n",
    "'''\n",
    "Below code returns a boolean array (or binary 0/1 array depending on how it’s used) where each element \n",
    "is True if the probability of class 1 is greater than or equal to the threshold, and False otherwise.\n",
    "'''\n",
    "y_pred_default = predict_w_threshold(probs_test, 0.5)\n",
    "\n",
    "from sklearn.metrics import accuracy_score\n",
    "\n",
    "# Naive prediction\n",
    "accuracy_score(y_true = y_true, y_pred = y_pred_default)"
   ]
  },
  {
   "cell_type": "code",
   "execution_count": 39,
   "id": "081964c3",
   "metadata": {
    "execution": {
     "iopub.execute_input": "2025-07-28T11:07:40.624778Z",
     "iopub.status.busy": "2025-07-28T11:07:40.624128Z",
     "iopub.status.idle": "2025-07-28T11:07:41.975679Z",
     "shell.execute_reply": "2025-07-28T11:07:41.974933Z"
    },
    "papermill": {
     "duration": 1.377731,
     "end_time": "2025-07-28T11:07:41.977041",
     "exception": false,
     "start_time": "2025-07-28T11:07:40.599310",
     "status": "completed"
    },
    "tags": []
   },
   "outputs": [
    {
     "data": {
      "text/plain": [
       "array([0, 0, 0, ..., 0, 0, 0])"
      ]
     },
     "execution_count": 39,
     "metadata": {},
     "output_type": "execute_result"
    }
   ],
   "source": [
    "model.predict(X_test)"
   ]
  },
  {
   "cell_type": "markdown",
   "id": "56c9705b",
   "metadata": {
    "papermill": {
     "duration": 0.018046,
     "end_time": "2025-07-28T11:07:42.010399",
     "exception": false,
     "start_time": "2025-07-28T11:07:41.992353",
     "status": "completed"
    },
    "tags": []
   },
   "source": [
    "# Conformal Prediction"
   ]
  },
  {
   "cell_type": "code",
   "execution_count": 40,
   "id": "160ec6ff",
   "metadata": {
    "execution": {
     "iopub.execute_input": "2025-07-28T11:07:42.036108Z",
     "iopub.status.busy": "2025-07-28T11:07:42.035731Z",
     "iopub.status.idle": "2025-07-28T11:07:42.040241Z",
     "shell.execute_reply": "2025-07-28T11:07:42.039478Z"
    },
    "papermill": {
     "duration": 0.018862,
     "end_time": "2025-07-28T11:07:42.041640",
     "exception": false,
     "start_time": "2025-07-28T11:07:42.022778",
     "status": "completed"
    },
    "tags": []
   },
   "outputs": [],
   "source": [
    "# Miscoverage level for conformal prediction (10% allowed error rate => 90% target coverage)\n",
    "alpha = 0.1"
   ]
  },
  {
   "cell_type": "code",
   "execution_count": 41,
   "id": "eadf4555-3dd3-440e-8e35-f82a4ad9f855",
   "metadata": {
    "execution": {
     "iopub.execute_input": "2025-07-28T11:07:42.086241Z",
     "iopub.status.busy": "2025-07-28T11:07:42.085652Z",
     "iopub.status.idle": "2025-07-28T11:07:43.459786Z",
     "shell.execute_reply": "2025-07-28T11:07:43.458649Z"
    },
    "papermill": {
     "duration": 1.407637,
     "end_time": "2025-07-28T11:07:43.461531",
     "exception": false,
     "start_time": "2025-07-28T11:07:42.053894",
     "status": "completed"
    },
    "tags": []
   },
   "outputs": [],
   "source": [
    "probs_calib = model.predict_proba(X_calib)"
   ]
  },
  {
   "cell_type": "code",
   "execution_count": 42,
   "id": "2ed93547-6d5d-4983-9b36-1ecb300da49a",
   "metadata": {
    "execution": {
     "iopub.execute_input": "2025-07-28T11:07:43.522966Z",
     "iopub.status.busy": "2025-07-28T11:07:43.522189Z",
     "iopub.status.idle": "2025-07-28T11:07:43.528525Z",
     "shell.execute_reply": "2025-07-28T11:07:43.527467Z"
    },
    "papermill": {
     "duration": 0.040359,
     "end_time": "2025-07-28T11:07:43.530044",
     "exception": false,
     "start_time": "2025-07-28T11:07:43.489685",
     "status": "completed"
    },
    "tags": []
   },
   "outputs": [],
   "source": [
    "y_calib = y_calib.values.ravel().astype(int)"
   ]
  },
  {
   "cell_type": "code",
   "execution_count": 43,
   "id": "65d1320d-f588-4b38-9072-62af1ae97f7d",
   "metadata": {
    "execution": {
     "iopub.execute_input": "2025-07-28T11:07:43.581760Z",
     "iopub.status.busy": "2025-07-28T11:07:43.581097Z",
     "iopub.status.idle": "2025-07-28T11:07:43.588771Z",
     "shell.execute_reply": "2025-07-28T11:07:43.587857Z"
    },
    "papermill": {
     "duration": 0.035755,
     "end_time": "2025-07-28T11:07:43.590587",
     "exception": false,
     "start_time": "2025-07-28T11:07:43.554832",
     "status": "completed"
    },
    "tags": []
   },
   "outputs": [],
   "source": [
    "from fairness_multiverse.conformal import compute_nc_scores\n",
    "\n",
    "# Compute nonconformity scores on calibration set (1 - probability of true class)\n",
    "nc_scores = compute_nc_scores(probs_calib, y_calib)"
   ]
  },
  {
   "cell_type": "code",
   "execution_count": 44,
   "id": "df3b8ca3-53b7-43d5-9667-7c85da7aeda2",
   "metadata": {
    "execution": {
     "iopub.execute_input": "2025-07-28T11:07:43.652413Z",
     "iopub.status.busy": "2025-07-28T11:07:43.651949Z",
     "iopub.status.idle": "2025-07-28T11:07:43.658947Z",
     "shell.execute_reply": "2025-07-28T11:07:43.657740Z"
    },
    "papermill": {
     "duration": 0.044663,
     "end_time": "2025-07-28T11:07:43.660587",
     "exception": false,
     "start_time": "2025-07-28T11:07:43.615924",
     "status": "completed"
    },
    "tags": []
   },
   "outputs": [],
   "source": [
    "from fairness_multiverse.conformal import find_threshold\n",
    "\n",
    "# Find conformal threshold q_hat for the given alpha (split conformal method)\n",
    "q_hat = find_threshold(nc_scores, alpha)"
   ]
  },
  {
   "cell_type": "code",
   "execution_count": 45,
   "id": "4d29e6c1-0ef6-4aa4-b8fe-4fe79b0d033a",
   "metadata": {
    "execution": {
     "iopub.execute_input": "2025-07-28T11:07:43.712767Z",
     "iopub.status.busy": "2025-07-28T11:07:43.711826Z",
     "iopub.status.idle": "2025-07-28T11:07:43.722365Z",
     "shell.execute_reply": "2025-07-28T11:07:43.720198Z"
    },
    "papermill": {
     "duration": 0.038511,
     "end_time": "2025-07-28T11:07:43.724562",
     "exception": false,
     "start_time": "2025-07-28T11:07:43.686051",
     "status": "completed"
    },
    "tags": []
   },
   "outputs": [
    {
     "data": {
      "text/plain": [
       "0.6699999999999999"
      ]
     },
     "execution_count": 45,
     "metadata": {},
     "output_type": "execute_result"
    }
   ],
   "source": [
    "q_hat"
   ]
  },
  {
   "cell_type": "code",
   "execution_count": 46,
   "id": "92460794-cdac-4be2-ba28-f28c0515a6fb",
   "metadata": {
    "execution": {
     "iopub.execute_input": "2025-07-28T11:07:43.775863Z",
     "iopub.status.busy": "2025-07-28T11:07:43.775361Z",
     "iopub.status.idle": "2025-07-28T11:07:45.564289Z",
     "shell.execute_reply": "2025-07-28T11:07:45.563512Z"
    },
    "papermill": {
     "duration": 1.816792,
     "end_time": "2025-07-28T11:07:45.565955",
     "exception": false,
     "start_time": "2025-07-28T11:07:43.749163",
     "status": "completed"
    },
    "tags": []
   },
   "outputs": [],
   "source": [
    "from fairness_multiverse.conformal import predict_conformal_sets\n",
    "\n",
    "# Generate prediction sets for each test example\n",
    "pred_sets = predict_conformal_sets(model, X_test, q_hat)"
   ]
  },
  {
   "cell_type": "code",
   "execution_count": 47,
   "id": "d90c9a65-e6db-4f5d-80cd-e68fb7e46829",
   "metadata": {
    "execution": {
     "iopub.execute_input": "2025-07-28T11:07:45.593141Z",
     "iopub.status.busy": "2025-07-28T11:07:45.592783Z",
     "iopub.status.idle": "2025-07-28T11:07:45.598482Z",
     "shell.execute_reply": "2025-07-28T11:07:45.597740Z"
    },
    "papermill": {
     "duration": 0.02074,
     "end_time": "2025-07-28T11:07:45.599842",
     "exception": false,
     "start_time": "2025-07-28T11:07:45.579102",
     "status": "completed"
    },
    "tags": []
   },
   "outputs": [],
   "source": [
    "y_true = y_true.squeeze()"
   ]
  },
  {
   "cell_type": "code",
   "execution_count": 48,
   "id": "3a58a54a-1e68-46b9-927a-df01f18aebc8",
   "metadata": {
    "execution": {
     "iopub.execute_input": "2025-07-28T11:07:45.628071Z",
     "iopub.status.busy": "2025-07-28T11:07:45.627528Z",
     "iopub.status.idle": "2025-07-28T11:07:46.268119Z",
     "shell.execute_reply": "2025-07-28T11:07:46.267003Z"
    },
    "papermill": {
     "duration": 0.656847,
     "end_time": "2025-07-28T11:07:46.270264",
     "exception": false,
     "start_time": "2025-07-28T11:07:45.613417",
     "status": "completed"
    },
    "tags": []
   },
   "outputs": [],
   "source": [
    "from fairness_multiverse.conformal import evaluate_sets\n",
    "\n",
    "# Evaluate coverage and average set size on test data\n",
    "metrics = evaluate_sets(pred_sets, y_true)"
   ]
  },
  {
   "cell_type": "markdown",
   "id": "2b569c12-9aaa-4c88-98c9-bbcd0cf3ebb8",
   "metadata": {
    "papermill": {
     "duration": 0.023647,
     "end_time": "2025-07-28T11:07:46.320534",
     "exception": false,
     "start_time": "2025-07-28T11:07:46.296887",
     "status": "completed"
    },
    "tags": []
   },
   "source": [
    "# CP Metrics"
   ]
  },
  {
   "cell_type": "code",
   "execution_count": 49,
   "id": "5ce0a5cb-201f-45a0-ade5-94c7f0bd6095",
   "metadata": {
    "execution": {
     "iopub.execute_input": "2025-07-28T11:07:46.369918Z",
     "iopub.status.busy": "2025-07-28T11:07:46.369209Z",
     "iopub.status.idle": "2025-07-28T11:07:46.377128Z",
     "shell.execute_reply": "2025-07-28T11:07:46.376168Z"
    },
    "papermill": {
     "duration": 0.03424,
     "end_time": "2025-07-28T11:07:46.378815",
     "exception": false,
     "start_time": "2025-07-28T11:07:46.344575",
     "status": "completed"
    },
    "tags": []
   },
   "outputs": [
    {
     "data": {
      "text/plain": [
       "{'coverage': 0.9171998662356482, 'avg_size': 1.150306543306209}"
      ]
     },
     "execution_count": 49,
     "metadata": {},
     "output_type": "execute_result"
    }
   ],
   "source": [
    "metrics"
   ]
  },
  {
   "cell_type": "code",
   "execution_count": 50,
   "id": "9b9a838d-31c9-430b-ae14-12baee460d17",
   "metadata": {
    "execution": {
     "iopub.execute_input": "2025-07-28T11:07:46.430253Z",
     "iopub.status.busy": "2025-07-28T11:07:46.429362Z",
     "iopub.status.idle": "2025-07-28T11:07:46.436639Z",
     "shell.execute_reply": "2025-07-28T11:07:46.435269Z"
    },
    "papermill": {
     "duration": 0.03427,
     "end_time": "2025-07-28T11:07:46.438325",
     "exception": false,
     "start_time": "2025-07-28T11:07:46.404055",
     "status": "completed"
    },
    "tags": []
   },
   "outputs": [],
   "source": [
    "example_universe = universe.copy()\n",
    "universe_training_size = example_universe.get(\"training_size\")\n",
    "universe_scale = example_universe.get(\"scale\")\n",
    "universe_model = example_universe.get(\"model\")\n",
    "universe_exclude_features = example_universe.get(\"exclude_features\")\n",
    "universe_exclude_subgroups = example_universe.get(\"exclude_subgroups\")"
   ]
  },
  {
   "cell_type": "code",
   "execution_count": 51,
   "id": "f4b6a8ac-9dc0-4245-8a91-5b3b5999c4f9",
   "metadata": {
    "execution": {
     "iopub.execute_input": "2025-07-28T11:07:46.489670Z",
     "iopub.status.busy": "2025-07-28T11:07:46.488825Z",
     "iopub.status.idle": "2025-07-28T11:07:46.495943Z",
     "shell.execute_reply": "2025-07-28T11:07:46.494927Z"
    },
    "papermill": {
     "duration": 0.034572,
     "end_time": "2025-07-28T11:07:46.497544",
     "exception": false,
     "start_time": "2025-07-28T11:07:46.462972",
     "status": "completed"
    },
    "tags": []
   },
   "outputs": [],
   "source": [
    "cp_metrics_dict = {\n",
    "    \"universe_id\": [universe_id],\n",
    "    \"universe_training_size\": [universe_training_size],\n",
    "    \"universe_scale\": [universe_scale],\n",
    "    \"universe_model\": [universe_model],\n",
    "    \"universe_exclude_features\": [universe_exclude_features],\n",
    "    \"universe_exclude_subgroups\": [universe_exclude_subgroups],\n",
    "    \"q_hat\": [q_hat],\n",
    "    \"coverage\": [metrics[\"coverage\"]],\n",
    "    \"avg_size\": [metrics[\"avg_size\"]],\n",
    "}"
   ]
  },
  {
   "cell_type": "code",
   "execution_count": 52,
   "id": "908acbb1-0371-4915-85ca-3fa520d2efe2",
   "metadata": {
    "execution": {
     "iopub.execute_input": "2025-07-28T11:07:46.548957Z",
     "iopub.status.busy": "2025-07-28T11:07:46.548110Z",
     "iopub.status.idle": "2025-07-28T11:07:46.556648Z",
     "shell.execute_reply": "2025-07-28T11:07:46.555632Z"
    },
    "papermill": {
     "duration": 0.036438,
     "end_time": "2025-07-28T11:07:46.558473",
     "exception": false,
     "start_time": "2025-07-28T11:07:46.522035",
     "status": "completed"
    },
    "tags": []
   },
   "outputs": [
    {
     "data": {
      "text/plain": [
       "{'universe_id': ['fca66752a1f6162006284bdc4bbb816d'],\n",
       " 'universe_training_size': ['2014'],\n",
       " 'universe_scale': ['do-not-scale'],\n",
       " 'universe_model': ['rf'],\n",
       " 'universe_exclude_features': ['age'],\n",
       " 'universe_exclude_subgroups': ['drop-non-german'],\n",
       " 'q_hat': [0.6699999999999999],\n",
       " 'coverage': [0.9171998662356482],\n",
       " 'avg_size': [1.150306543306209]}"
      ]
     },
     "execution_count": 52,
     "metadata": {},
     "output_type": "execute_result"
    }
   ],
   "source": [
    "cp_metrics_dict"
   ]
  },
  {
   "cell_type": "code",
   "execution_count": 53,
   "id": "33007efc-14e9-4ec6-97ac-56a455c82265",
   "metadata": {
    "execution": {
     "iopub.execute_input": "2025-07-28T11:07:46.610139Z",
     "iopub.status.busy": "2025-07-28T11:07:46.609133Z",
     "iopub.status.idle": "2025-07-28T11:07:46.616051Z",
     "shell.execute_reply": "2025-07-28T11:07:46.615106Z"
    },
    "papermill": {
     "duration": 0.034245,
     "end_time": "2025-07-28T11:07:46.617799",
     "exception": false,
     "start_time": "2025-07-28T11:07:46.583554",
     "status": "completed"
    },
    "tags": []
   },
   "outputs": [],
   "source": [
    "cp_metrics_df = pd.DataFrame(cp_metrics_dict)"
   ]
  },
  {
   "cell_type": "code",
   "execution_count": 54,
   "id": "db12611b-57b2-4910-b9d0-355adfd6e7bf",
   "metadata": {
    "execution": {
     "iopub.execute_input": "2025-07-28T11:07:46.669372Z",
     "iopub.status.busy": "2025-07-28T11:07:46.668848Z",
     "iopub.status.idle": "2025-07-28T11:07:46.683092Z",
     "shell.execute_reply": "2025-07-28T11:07:46.681986Z"
    },
    "papermill": {
     "duration": 0.041546,
     "end_time": "2025-07-28T11:07:46.685164",
     "exception": false,
     "start_time": "2025-07-28T11:07:46.643618",
     "status": "completed"
    },
    "tags": []
   },
   "outputs": [
    {
     "data": {
      "text/html": [
       "<div>\n",
       "<style scoped>\n",
       "    .dataframe tbody tr th:only-of-type {\n",
       "        vertical-align: middle;\n",
       "    }\n",
       "\n",
       "    .dataframe tbody tr th {\n",
       "        vertical-align: top;\n",
       "    }\n",
       "\n",
       "    .dataframe thead th {\n",
       "        text-align: right;\n",
       "    }\n",
       "</style>\n",
       "<table border=\"1\" class=\"dataframe\">\n",
       "  <thead>\n",
       "    <tr style=\"text-align: right;\">\n",
       "      <th></th>\n",
       "      <th>universe_id</th>\n",
       "      <th>universe_training_size</th>\n",
       "      <th>universe_scale</th>\n",
       "      <th>universe_model</th>\n",
       "      <th>universe_exclude_features</th>\n",
       "      <th>universe_exclude_subgroups</th>\n",
       "      <th>q_hat</th>\n",
       "      <th>coverage</th>\n",
       "      <th>avg_size</th>\n",
       "    </tr>\n",
       "  </thead>\n",
       "  <tbody>\n",
       "    <tr>\n",
       "      <th>0</th>\n",
       "      <td>fca66752a1f6162006284bdc4bbb816d</td>\n",
       "      <td>2014</td>\n",
       "      <td>do-not-scale</td>\n",
       "      <td>rf</td>\n",
       "      <td>age</td>\n",
       "      <td>drop-non-german</td>\n",
       "      <td>0.67</td>\n",
       "      <td>0.9172</td>\n",
       "      <td>1.150307</td>\n",
       "    </tr>\n",
       "  </tbody>\n",
       "</table>\n",
       "</div>"
      ],
      "text/plain": [
       "                        universe_id universe_training_size universe_scale  \\\n",
       "0  fca66752a1f6162006284bdc4bbb816d                   2014   do-not-scale   \n",
       "\n",
       "  universe_model universe_exclude_features universe_exclude_subgroups  q_hat  \\\n",
       "0             rf                       age            drop-non-german   0.67   \n",
       "\n",
       "   coverage  avg_size  \n",
       "0    0.9172  1.150307  "
      ]
     },
     "execution_count": 54,
     "metadata": {},
     "output_type": "execute_result"
    }
   ],
   "source": [
    "cp_metrics_df"
   ]
  },
  {
   "cell_type": "code",
   "execution_count": 55,
   "id": "b7fbde55-a0a1-47e4-9af6-fe4a17fa8c61",
   "metadata": {
    "execution": {
     "iopub.execute_input": "2025-07-28T11:07:46.737216Z",
     "iopub.status.busy": "2025-07-28T11:07:46.736721Z",
     "iopub.status.idle": "2025-07-28T11:07:46.742295Z",
     "shell.execute_reply": "2025-07-28T11:07:46.741455Z"
    },
    "papermill": {
     "duration": 0.032947,
     "end_time": "2025-07-28T11:07:46.743972",
     "exception": false,
     "start_time": "2025-07-28T11:07:46.711025",
     "status": "completed"
    },
    "tags": []
   },
   "outputs": [],
   "source": [
    "# Conditional Coverage & looking at subgroups"
   ]
  },
  {
   "cell_type": "code",
   "execution_count": 56,
   "id": "027ae886-68dd-4141-96c7-805a5450e1ef",
   "metadata": {
    "execution": {
     "iopub.execute_input": "2025-07-28T11:07:46.800014Z",
     "iopub.status.busy": "2025-07-28T11:07:46.799555Z",
     "iopub.status.idle": "2025-07-28T11:07:47.064841Z",
     "shell.execute_reply": "2025-07-28T11:07:47.063859Z"
    },
    "papermill": {
     "duration": 0.295308,
     "end_time": "2025-07-28T11:07:47.066888",
     "exception": false,
     "start_time": "2025-07-28T11:07:46.771580",
     "status": "completed"
    },
    "tags": []
   },
   "outputs": [],
   "source": [
    "from fairness_multiverse.conformal import build_cp_groups\n",
    "\n",
    "cp_groups_df = build_cp_groups(pred_sets, y_true, X_test.index, org_test)\n",
    "#needs universe_id and setting"
   ]
  },
  {
   "cell_type": "code",
   "execution_count": 57,
   "id": "01d5802c-663a-4d1f-9d69-e036faaffbf7",
   "metadata": {
    "execution": {
     "iopub.execute_input": "2025-07-28T11:07:47.122750Z",
     "iopub.status.busy": "2025-07-28T11:07:47.122353Z",
     "iopub.status.idle": "2025-07-28T11:07:47.127174Z",
     "shell.execute_reply": "2025-07-28T11:07:47.126168Z"
    },
    "papermill": {
     "duration": 0.034615,
     "end_time": "2025-07-28T11:07:47.129022",
     "exception": false,
     "start_time": "2025-07-28T11:07:47.094407",
     "status": "completed"
    },
    "tags": []
   },
   "outputs": [],
   "source": [
    "#delete\n",
    "#cp_groups_df"
   ]
  },
  {
   "cell_type": "code",
   "execution_count": 58,
   "id": "fa424af1-d1eb-443d-b717-2d279ada8408",
   "metadata": {
    "execution": {
     "iopub.execute_input": "2025-07-28T11:07:47.185313Z",
     "iopub.status.busy": "2025-07-28T11:07:47.184616Z",
     "iopub.status.idle": "2025-07-28T11:07:47.217551Z",
     "shell.execute_reply": "2025-07-28T11:07:47.216394Z"
    },
    "papermill": {
     "duration": 0.063841,
     "end_time": "2025-07-28T11:07:47.219583",
     "exception": false,
     "start_time": "2025-07-28T11:07:47.155742",
     "status": "completed"
    },
    "tags": []
   },
   "outputs": [],
   "source": [
    "#delete\n",
    "#percentage = (cp_groups_df['nongerman_female'] == 1).mean() * 100\n",
    "#print(percentage)\n"
   ]
  },
  {
   "cell_type": "code",
   "execution_count": 59,
   "id": "6cbdab96-b2b2-45af-ad54-d0516db2e28d",
   "metadata": {
    "execution": {
     "iopub.execute_input": "2025-07-28T11:07:47.275981Z",
     "iopub.status.busy": "2025-07-28T11:07:47.275429Z",
     "iopub.status.idle": "2025-07-28T11:07:49.227729Z",
     "shell.execute_reply": "2025-07-28T11:07:49.226638Z"
    },
    "papermill": {
     "duration": 1.981321,
     "end_time": "2025-07-28T11:07:49.230057",
     "exception": false,
     "start_time": "2025-07-28T11:07:47.248736",
     "status": "completed"
    },
    "tags": []
   },
   "outputs": [],
   "source": [
    "# Define covered = 1 if true_label is in the predicted set\n",
    "cp_groups_df['covered'] = cp_groups_df.apply(\n",
    "    lambda r: int(r['true_label'] in r['pred_set']),\n",
    "    axis=1\n",
    ")"
   ]
  },
  {
   "cell_type": "code",
   "execution_count": 60,
   "id": "338ff529-1a6b-4b87-a931-8e4788d52aad",
   "metadata": {
    "execution": {
     "iopub.execute_input": "2025-07-28T11:07:49.281136Z",
     "iopub.status.busy": "2025-07-28T11:07:49.280100Z",
     "iopub.status.idle": "2025-07-28T11:07:49.287287Z",
     "shell.execute_reply": "2025-07-28T11:07:49.286109Z"
    },
    "papermill": {
     "duration": 0.034221,
     "end_time": "2025-07-28T11:07:49.289143",
     "exception": false,
     "start_time": "2025-07-28T11:07:49.254922",
     "status": "completed"
    },
    "tags": []
   },
   "outputs": [],
   "source": [
    "#cp_groups_df"
   ]
  },
  {
   "cell_type": "code",
   "execution_count": 61,
   "id": "90032e27-66df-4540-9169-4e89cfbaa758",
   "metadata": {
    "execution": {
     "iopub.execute_input": "2025-07-28T11:07:49.341355Z",
     "iopub.status.busy": "2025-07-28T11:07:49.340787Z",
     "iopub.status.idle": "2025-07-28T11:07:49.358345Z",
     "shell.execute_reply": "2025-07-28T11:07:49.357174Z"
    },
    "papermill": {
     "duration": 0.046737,
     "end_time": "2025-07-28T11:07:49.360891",
     "exception": false,
     "start_time": "2025-07-28T11:07:49.314154",
     "status": "completed"
    },
    "tags": []
   },
   "outputs": [],
   "source": [
    "subgroups = ['frau1','nongerman','nongerman_male','nongerman_female']\n",
    "\n",
    "# Conditional coverage for subgroup==1\n",
    "cond_coverage = {\n",
    "    g: cp_groups_df.loc[cp_groups_df[g]==1, 'covered'].mean()\n",
    "    for g in subgroups\n",
    "}"
   ]
  },
  {
   "cell_type": "code",
   "execution_count": 62,
   "id": "1e348fb1-b9c3-45bc-ba23-f016827a7e0d",
   "metadata": {
    "execution": {
     "iopub.execute_input": "2025-07-28T11:07:49.437067Z",
     "iopub.status.busy": "2025-07-28T11:07:49.436133Z",
     "iopub.status.idle": "2025-07-28T11:07:49.445721Z",
     "shell.execute_reply": "2025-07-28T11:07:49.444657Z"
    },
    "papermill": {
     "duration": 0.050029,
     "end_time": "2025-07-28T11:07:49.447592",
     "exception": false,
     "start_time": "2025-07-28T11:07:49.397563",
     "status": "completed"
    },
    "tags": []
   },
   "outputs": [
    {
     "data": {
      "text/plain": [
       "{'frau1': 0.9164038280091656,\n",
       " 'nongerman': 0.9137147027451861,\n",
       " 'nongerman_male': 0.9289381248311267,\n",
       " 'nongerman_female': 0.8885245901639345}"
      ]
     },
     "execution_count": 62,
     "metadata": {},
     "output_type": "execute_result"
    }
   ],
   "source": [
    "cond_coverage"
   ]
  },
  {
   "cell_type": "code",
   "execution_count": 63,
   "id": "f5093324-c3dd-4d63-bc4c-8d945e5c8bbb",
   "metadata": {
    "execution": {
     "iopub.execute_input": "2025-07-28T11:07:49.500342Z",
     "iopub.status.busy": "2025-07-28T11:07:49.499404Z",
     "iopub.status.idle": "2025-07-28T11:07:49.508335Z",
     "shell.execute_reply": "2025-07-28T11:07:49.507259Z"
    },
    "papermill": {
     "duration": 0.037984,
     "end_time": "2025-07-28T11:07:49.510584",
     "exception": false,
     "start_time": "2025-07-28T11:07:49.472600",
     "status": "completed"
    },
    "tags": []
   },
   "outputs": [],
   "source": [
    "for subgroup, cov in cond_coverage.items():\n",
    "    cp_metrics_df[f\"cov_{subgroup}\"] = cov"
   ]
  },
  {
   "cell_type": "code",
   "execution_count": 64,
   "id": "6e872e10-dbe5-49e8-b554-5030c98ff75d",
   "metadata": {
    "execution": {
     "iopub.execute_input": "2025-07-28T11:07:49.588050Z",
     "iopub.status.busy": "2025-07-28T11:07:49.587598Z",
     "iopub.status.idle": "2025-07-28T11:07:49.608166Z",
     "shell.execute_reply": "2025-07-28T11:07:49.606854Z"
    },
    "papermill": {
     "duration": 0.061459,
     "end_time": "2025-07-28T11:07:49.610098",
     "exception": false,
     "start_time": "2025-07-28T11:07:49.548639",
     "status": "completed"
    },
    "tags": []
   },
   "outputs": [
    {
     "data": {
      "text/html": [
       "<div>\n",
       "<style scoped>\n",
       "    .dataframe tbody tr th:only-of-type {\n",
       "        vertical-align: middle;\n",
       "    }\n",
       "\n",
       "    .dataframe tbody tr th {\n",
       "        vertical-align: top;\n",
       "    }\n",
       "\n",
       "    .dataframe thead th {\n",
       "        text-align: right;\n",
       "    }\n",
       "</style>\n",
       "<table border=\"1\" class=\"dataframe\">\n",
       "  <thead>\n",
       "    <tr style=\"text-align: right;\">\n",
       "      <th></th>\n",
       "      <th>universe_id</th>\n",
       "      <th>universe_training_size</th>\n",
       "      <th>universe_scale</th>\n",
       "      <th>universe_model</th>\n",
       "      <th>universe_exclude_features</th>\n",
       "      <th>universe_exclude_subgroups</th>\n",
       "      <th>q_hat</th>\n",
       "      <th>coverage</th>\n",
       "      <th>avg_size</th>\n",
       "      <th>cov_frau1</th>\n",
       "      <th>cov_nongerman</th>\n",
       "      <th>cov_nongerman_male</th>\n",
       "      <th>cov_nongerman_female</th>\n",
       "    </tr>\n",
       "  </thead>\n",
       "  <tbody>\n",
       "    <tr>\n",
       "      <th>0</th>\n",
       "      <td>fca66752a1f6162006284bdc4bbb816d</td>\n",
       "      <td>2014</td>\n",
       "      <td>do-not-scale</td>\n",
       "      <td>rf</td>\n",
       "      <td>age</td>\n",
       "      <td>drop-non-german</td>\n",
       "      <td>0.67</td>\n",
       "      <td>0.9172</td>\n",
       "      <td>1.150307</td>\n",
       "      <td>0.916404</td>\n",
       "      <td>0.913715</td>\n",
       "      <td>0.928938</td>\n",
       "      <td>0.888525</td>\n",
       "    </tr>\n",
       "  </tbody>\n",
       "</table>\n",
       "</div>"
      ],
      "text/plain": [
       "                        universe_id universe_training_size universe_scale  \\\n",
       "0  fca66752a1f6162006284bdc4bbb816d                   2014   do-not-scale   \n",
       "\n",
       "  universe_model universe_exclude_features universe_exclude_subgroups  q_hat  \\\n",
       "0             rf                       age            drop-non-german   0.67   \n",
       "\n",
       "   coverage  avg_size  cov_frau1  cov_nongerman  cov_nongerman_male  \\\n",
       "0    0.9172  1.150307   0.916404       0.913715            0.928938   \n",
       "\n",
       "   cov_nongerman_female  \n",
       "0              0.888525  "
      ]
     },
     "execution_count": 64,
     "metadata": {},
     "output_type": "execute_result"
    }
   ],
   "source": [
    "cp_metrics_df"
   ]
  },
  {
   "cell_type": "markdown",
   "id": "33774451",
   "metadata": {
    "papermill": {
     "duration": 0.02472,
     "end_time": "2025-07-28T11:07:49.659784",
     "exception": false,
     "start_time": "2025-07-28T11:07:49.635064",
     "status": "completed"
    },
    "tags": []
   },
   "source": [
    "# (Fairness) Metrics"
   ]
  },
  {
   "cell_type": "code",
   "execution_count": 65,
   "id": "debc5d62",
   "metadata": {
    "execution": {
     "iopub.execute_input": "2025-07-28T11:07:49.714024Z",
     "iopub.status.busy": "2025-07-28T11:07:49.712976Z",
     "iopub.status.idle": "2025-07-28T11:07:49.739346Z",
     "shell.execute_reply": "2025-07-28T11:07:49.738148Z"
    },
    "papermill": {
     "duration": 0.056745,
     "end_time": "2025-07-28T11:07:49.741693",
     "exception": false,
     "start_time": "2025-07-28T11:07:49.684948",
     "status": "completed"
    },
    "tags": []
   },
   "outputs": [],
   "source": [
    "# do I need to include maxdeutsch1.missing?\n",
    "\n",
    "import numpy as np\n",
    "\n",
    "colname_to_bin = \"maxdeutsch1\"\n",
    "majority_value = org_train[colname_to_bin].mode()[0]\n",
    "\n",
    "org_test[\"majmin\"] = np.where(org_test[colname_to_bin] == majority_value, \"majority\", \"minority\")"
   ]
  },
  {
   "cell_type": "code",
   "execution_count": 66,
   "id": "06a50de5",
   "metadata": {
    "execution": {
     "iopub.execute_input": "2025-07-28T11:07:49.796754Z",
     "iopub.status.busy": "2025-07-28T11:07:49.795726Z",
     "iopub.status.idle": "2025-07-28T11:07:52.652702Z",
     "shell.execute_reply": "2025-07-28T11:07:52.651801Z"
    },
    "papermill": {
     "duration": 2.885752,
     "end_time": "2025-07-28T11:07:52.654316",
     "exception": false,
     "start_time": "2025-07-28T11:07:49.768564",
     "status": "completed"
    },
    "tags": []
   },
   "outputs": [],
   "source": [
    "example_universe = universe.copy()\n",
    "example_universe[\"cutoff\"] = example_universe[\"cutoff\"][0]\n",
    "example_universe[\"eval_fairness_grouping\"] = example_universe[\"eval_fairness_grouping\"][0]\n",
    "fairness_dict, metric_frame = universe_analysis.compute_metrics(\n",
    "    example_universe,\n",
    "    y_pred_prob=probs_test,\n",
    "    y_test=y_true,\n",
    "    org_test=org_test,\n",
    ")"
   ]
  },
  {
   "cell_type": "markdown",
   "id": "f95d4e02",
   "metadata": {
    "papermill": {
     "duration": 0.022352,
     "end_time": "2025-07-28T11:07:52.693157",
     "exception": false,
     "start_time": "2025-07-28T11:07:52.670805",
     "status": "completed"
    },
    "tags": []
   },
   "source": [
    "# Overall"
   ]
  },
  {
   "cell_type": "markdown",
   "id": "bdee4871",
   "metadata": {
    "papermill": {
     "duration": 0.025901,
     "end_time": "2025-07-28T11:07:52.745638",
     "exception": false,
     "start_time": "2025-07-28T11:07:52.719737",
     "status": "completed"
    },
    "tags": []
   },
   "source": [
    "Fairness\n",
    "Main fairness target: Equalized Odds. Seems to be a better fit than equal opportunity, since we're not only interested in Y = 1. Seems to be a better fit than demographic parity, since we also care about accuracy, not just equal distribution of preds.\n",
    "\n",
    "Pick column for computation of fairness metrics\n",
    "\n",
    "Performance\n",
    "Overall performance measures, most interesting in relation to the measures split by group below"
   ]
  },
  {
   "cell_type": "code",
   "execution_count": 67,
   "id": "c4e067c6",
   "metadata": {
    "execution": {
     "iopub.execute_input": "2025-07-28T11:07:52.827377Z",
     "iopub.status.busy": "2025-07-28T11:07:52.826829Z",
     "iopub.status.idle": "2025-07-28T11:07:52.837042Z",
     "shell.execute_reply": "2025-07-28T11:07:52.835933Z"
    },
    "papermill": {
     "duration": 0.066239,
     "end_time": "2025-07-28T11:07:52.839010",
     "exception": false,
     "start_time": "2025-07-28T11:07:52.772771",
     "status": "completed"
    },
    "tags": []
   },
   "outputs": [
    {
     "data": {
      "text/plain": [
       "accuracy                   0.197369\n",
       "balanced accuracy          0.530846\n",
       "f1                         0.238424\n",
       "precision                  0.135733\n",
       "false positive rate        0.917713\n",
       "false negative rate        0.020594\n",
       "selection rate             0.925627\n",
       "count                  89710.000000\n",
       "dtype: float64"
      ]
     },
     "execution_count": 67,
     "metadata": {},
     "output_type": "execute_result"
    }
   ],
   "source": [
    "metric_frame.overall"
   ]
  },
  {
   "cell_type": "markdown",
   "id": "e968fe9d",
   "metadata": {
    "papermill": {
     "duration": 0.02972,
     "end_time": "2025-07-28T11:07:52.897807",
     "exception": false,
     "start_time": "2025-07-28T11:07:52.868087",
     "status": "completed"
    },
    "tags": []
   },
   "source": [
    "By Group"
   ]
  },
  {
   "cell_type": "code",
   "execution_count": 68,
   "id": "ec325bce",
   "metadata": {
    "execution": {
     "iopub.execute_input": "2025-07-28T11:07:52.957886Z",
     "iopub.status.busy": "2025-07-28T11:07:52.957014Z",
     "iopub.status.idle": "2025-07-28T11:07:52.975213Z",
     "shell.execute_reply": "2025-07-28T11:07:52.974248Z"
    },
    "papermill": {
     "duration": 0.050331,
     "end_time": "2025-07-28T11:07:52.977029",
     "exception": false,
     "start_time": "2025-07-28T11:07:52.926698",
     "status": "completed"
    },
    "tags": []
   },
   "outputs": [
    {
     "data": {
      "text/html": [
       "<div>\n",
       "<style scoped>\n",
       "    .dataframe tbody tr th:only-of-type {\n",
       "        vertical-align: middle;\n",
       "    }\n",
       "\n",
       "    .dataframe tbody tr th {\n",
       "        vertical-align: top;\n",
       "    }\n",
       "\n",
       "    .dataframe thead th {\n",
       "        text-align: right;\n",
       "    }\n",
       "</style>\n",
       "<table border=\"1\" class=\"dataframe\">\n",
       "  <thead>\n",
       "    <tr style=\"text-align: right;\">\n",
       "      <th></th>\n",
       "      <th>accuracy</th>\n",
       "      <th>balanced accuracy</th>\n",
       "      <th>f1</th>\n",
       "      <th>precision</th>\n",
       "      <th>false positive rate</th>\n",
       "      <th>false negative rate</th>\n",
       "      <th>selection rate</th>\n",
       "      <th>count</th>\n",
       "    </tr>\n",
       "    <tr>\n",
       "      <th>majmin</th>\n",
       "      <th></th>\n",
       "      <th></th>\n",
       "      <th></th>\n",
       "      <th></th>\n",
       "      <th></th>\n",
       "      <th></th>\n",
       "      <th></th>\n",
       "      <th></th>\n",
       "    </tr>\n",
       "  </thead>\n",
       "  <tbody>\n",
       "    <tr>\n",
       "      <th>majority</th>\n",
       "      <td>0.194651</td>\n",
       "      <td>0.531795</td>\n",
       "      <td>0.245217</td>\n",
       "      <td>0.139939</td>\n",
       "      <td>0.926453</td>\n",
       "      <td>0.009956</td>\n",
       "      <td>0.934856</td>\n",
       "      <td>69170.0</td>\n",
       "    </tr>\n",
       "    <tr>\n",
       "      <th>minority</th>\n",
       "      <td>0.206524</td>\n",
       "      <td>0.524752</td>\n",
       "      <td>0.214251</td>\n",
       "      <td>0.120932</td>\n",
       "      <td>0.888840</td>\n",
       "      <td>0.061655</td>\n",
       "      <td>0.894547</td>\n",
       "      <td>20540.0</td>\n",
       "    </tr>\n",
       "  </tbody>\n",
       "</table>\n",
       "</div>"
      ],
      "text/plain": [
       "          accuracy  balanced accuracy        f1  precision  \\\n",
       "majmin                                                       \n",
       "majority  0.194651           0.531795  0.245217   0.139939   \n",
       "minority  0.206524           0.524752  0.214251   0.120932   \n",
       "\n",
       "          false positive rate  false negative rate  selection rate    count  \n",
       "majmin                                                                       \n",
       "majority             0.926453             0.009956        0.934856  69170.0  \n",
       "minority             0.888840             0.061655        0.894547  20540.0  "
      ]
     },
     "execution_count": 68,
     "metadata": {},
     "output_type": "execute_result"
    }
   ],
   "source": [
    "metric_frame.by_group"
   ]
  },
  {
   "cell_type": "code",
   "execution_count": 69,
   "id": "a9ddbe63",
   "metadata": {
    "execution": {
     "iopub.execute_input": "2025-07-28T11:07:53.037395Z",
     "iopub.status.busy": "2025-07-28T11:07:53.036598Z",
     "iopub.status.idle": "2025-07-28T11:07:55.768931Z",
     "shell.execute_reply": "2025-07-28T11:07:55.767677Z"
    },
    "papermill": {
     "duration": 2.764554,
     "end_time": "2025-07-28T11:07:55.771115",
     "exception": false,
     "start_time": "2025-07-28T11:07:53.006561",
     "status": "completed"
    },
    "tags": []
   },
   "outputs": [
    {
     "data": {
      "text/plain": [
       "array([[<Axes: title={'center': 'accuracy'}, xlabel='majmin'>,\n",
       "        <Axes: title={'center': 'balanced accuracy'}, xlabel='majmin'>,\n",
       "        <Axes: title={'center': 'f1'}, xlabel='majmin'>],\n",
       "       [<Axes: title={'center': 'precision'}, xlabel='majmin'>,\n",
       "        <Axes: title={'center': 'false positive rate'}, xlabel='majmin'>,\n",
       "        <Axes: title={'center': 'false negative rate'}, xlabel='majmin'>],\n",
       "       [<Axes: title={'center': 'selection rate'}, xlabel='majmin'>,\n",
       "        <Axes: title={'center': 'count'}, xlabel='majmin'>,\n",
       "        <Axes: xlabel='majmin'>]], dtype=object)"
      ]
     },
     "execution_count": 69,
     "metadata": {},
     "output_type": "execute_result"
    },
    {
     "data": {
      "image/png": "[encoded data removed]",
      "text/plain": [
       "<Figure size 1200x800 with 9 Axes>"
      ]
     },
     "metadata": {},
     "output_type": "display_data"
    }
   ],
   "source": [
    "# In a graphic\n",
    "metric_frame.by_group.plot.bar(\n",
    "    subplots=True,\n",
    "    layout=[3, 3],\n",
    "    legend=False,\n",
    "    figsize=[12, 8],\n",
    "    title=\"Show all metrics\",\n",
    ")"
   ]
  },
  {
   "cell_type": "markdown",
   "id": "f57a0bac",
   "metadata": {
    "papermill": {
     "duration": 0.029387,
     "end_time": "2025-07-28T11:07:55.834578",
     "exception": false,
     "start_time": "2025-07-28T11:07:55.805191",
     "status": "completed"
    },
    "tags": []
   },
   "source": [
    "# Final Output"
   ]
  },
  {
   "cell_type": "code",
   "execution_count": 70,
   "id": "96d280a3",
   "metadata": {
    "execution": {
     "iopub.execute_input": "2025-07-28T11:07:55.894668Z",
     "iopub.status.busy": "2025-07-28T11:07:55.893927Z",
     "iopub.status.idle": "2025-07-28T11:07:55.902951Z",
     "shell.execute_reply": "2025-07-28T11:07:55.902021Z"
    },
    "papermill": {
     "duration": 0.040182,
     "end_time": "2025-07-28T11:07:55.904741",
     "exception": false,
     "start_time": "2025-07-28T11:07:55.864559",
     "status": "completed"
    },
    "tags": []
   },
   "outputs": [
    {
     "data": {
      "text/plain": [
       "4"
      ]
     },
     "execution_count": 70,
     "metadata": {},
     "output_type": "execute_result"
    }
   ],
   "source": [
    "sub_universes = universe_analysis.generate_sub_universes()\n",
    "len(sub_universes)"
   ]
  },
  {
   "cell_type": "code",
   "execution_count": 71,
   "id": "92adf7ba",
   "metadata": {
    "execution": {
     "iopub.execute_input": "2025-07-28T11:07:55.964707Z",
     "iopub.status.busy": "2025-07-28T11:07:55.964244Z",
     "iopub.status.idle": "2025-07-28T11:07:55.971175Z",
     "shell.execute_reply": "2025-07-28T11:07:55.970030Z"
    },
    "papermill": {
     "duration": 0.038509,
     "end_time": "2025-07-28T11:07:55.972857",
     "exception": false,
     "start_time": "2025-07-28T11:07:55.934348",
     "status": "completed"
    },
    "tags": []
   },
   "outputs": [],
   "source": [
    "def filter_sub_universe_data(sub_universe, org_test):\n",
    "    # Keep all rows — no filtering\n",
    "    keep_rows_mask = np.ones(org_test.shape[0], dtype=bool)\n",
    "\n",
    "    print(f\"[INFO] Keeping all rows: {keep_rows_mask.sum()} rows retained.\")\n",
    "    return keep_rows_mask"
   ]
  },
  {
   "cell_type": "code",
   "execution_count": 72,
   "id": "4a759155",
   "metadata": {
    "execution": {
     "iopub.execute_input": "2025-07-28T11:07:56.034042Z",
     "iopub.status.busy": "2025-07-28T11:07:56.033146Z",
     "iopub.status.idle": "2025-07-28T11:08:07.767522Z",
     "shell.execute_reply": "2025-07-28T11:08:07.766303Z"
    },
    "papermill": {
     "duration": 11.766547,
     "end_time": "2025-07-28T11:08:07.769296",
     "exception": false,
     "start_time": "2025-07-28T11:07:56.002749",
     "status": "completed"
    },
    "tags": []
   },
   "outputs": [
    {
     "name": "stdout",
     "output_type": "stream",
     "text": [
      "Stopping execution_time clock.\n",
      "[INFO] Keeping all rows: 89710 rows retained.\n"
     ]
    },
    {
     "name": "stdout",
     "output_type": "stream",
     "text": [
      "[INFO] Keeping all rows: 89710 rows retained.\n"
     ]
    },
    {
     "name": "stdout",
     "output_type": "stream",
     "text": [
      "[INFO] Keeping all rows: 89710 rows retained.\n"
     ]
    },
    {
     "name": "stdout",
     "output_type": "stream",
     "text": [
      "[INFO] Keeping all rows: 89710 rows retained.\n"
     ]
    },
    {
     "data": {
      "text/html": [
       "<div>\n",
       "<style scoped>\n",
       "    .dataframe tbody tr th:only-of-type {\n",
       "        vertical-align: middle;\n",
       "    }\n",
       "\n",
       "    .dataframe tbody tr th {\n",
       "        vertical-align: top;\n",
       "    }\n",
       "\n",
       "    .dataframe thead th {\n",
       "        text-align: right;\n",
       "    }\n",
       "</style>\n",
       "<table border=\"1\" class=\"dataframe\">\n",
       "  <thead>\n",
       "    <tr style=\"text-align: right;\">\n",
       "      <th></th>\n",
       "      <th>run_no</th>\n",
       "      <th>universe_id</th>\n",
       "      <th>universe_settings</th>\n",
       "      <th>execution_time</th>\n",
       "      <th>test_size_n</th>\n",
       "      <th>test_size_frac</th>\n",
       "      <th>fair_main_equalized_odds_difference</th>\n",
       "      <th>fair_main_equalized_odds_ratio</th>\n",
       "      <th>fair_main_demographic_parity_difference</th>\n",
       "      <th>fair_main_demographic_parity_ratio</th>\n",
       "      <th>...</th>\n",
       "      <th>perf_grp_precision_0</th>\n",
       "      <th>perf_grp_precision_1</th>\n",
       "      <th>perf_grp_false positive rate_0</th>\n",
       "      <th>perf_grp_false positive rate_1</th>\n",
       "      <th>perf_grp_false negative rate_0</th>\n",
       "      <th>perf_grp_false negative rate_1</th>\n",
       "      <th>perf_grp_selection rate_0</th>\n",
       "      <th>perf_grp_selection rate_1</th>\n",
       "      <th>perf_grp_count_0</th>\n",
       "      <th>perf_grp_count_1</th>\n",
       "    </tr>\n",
       "  </thead>\n",
       "  <tbody>\n",
       "    <tr>\n",
       "      <th>0</th>\n",
       "      <td>11</td>\n",
       "      <td>fca66752a1f6162006284bdc4bbb816d</td>\n",
       "      <td>{\"cutoff\": \"quantile_0.1\", \"eval_fairness_grou...</td>\n",
       "      <td>51.189207</td>\n",
       "      <td>89710</td>\n",
       "      <td>1.0</td>\n",
       "      <td>0.051699</td>\n",
       "      <td>0.947781</td>\n",
       "      <td>0.040309</td>\n",
       "      <td>0.956882</td>\n",
       "      <td>...</td>\n",
       "      <td>NaN</td>\n",
       "      <td>NaN</td>\n",
       "      <td>NaN</td>\n",
       "      <td>NaN</td>\n",
       "      <td>NaN</td>\n",
       "      <td>NaN</td>\n",
       "      <td>NaN</td>\n",
       "      <td>NaN</td>\n",
       "      <td>NaN</td>\n",
       "      <td>NaN</td>\n",
       "    </tr>\n",
       "    <tr>\n",
       "      <th>0</th>\n",
       "      <td>11</td>\n",
       "      <td>fca66752a1f6162006284bdc4bbb816d</td>\n",
       "      <td>{\"cutoff\": \"quantile_0.1\", \"eval_fairness_grou...</td>\n",
       "      <td>51.189207</td>\n",
       "      <td>89710</td>\n",
       "      <td>1.0</td>\n",
       "      <td>0.051699</td>\n",
       "      <td>0.947781</td>\n",
       "      <td>0.040309</td>\n",
       "      <td>0.956882</td>\n",
       "      <td>...</td>\n",
       "      <td>0.120932</td>\n",
       "      <td>0.139939</td>\n",
       "      <td>0.888840</td>\n",
       "      <td>0.926453</td>\n",
       "      <td>0.061655</td>\n",
       "      <td>0.009956</td>\n",
       "      <td>0.894547</td>\n",
       "      <td>0.934856</td>\n",
       "      <td>20540.0</td>\n",
       "      <td>69170.0</td>\n",
       "    </tr>\n",
       "    <tr>\n",
       "      <th>0</th>\n",
       "      <td>11</td>\n",
       "      <td>fca66752a1f6162006284bdc4bbb816d</td>\n",
       "      <td>{\"cutoff\": \"quantile_0.25\", \"eval_fairness_gro...</td>\n",
       "      <td>51.189207</td>\n",
       "      <td>89710</td>\n",
       "      <td>1.0</td>\n",
       "      <td>0.125925</td>\n",
       "      <td>0.867600</td>\n",
       "      <td>0.093792</td>\n",
       "      <td>0.879561</td>\n",
       "      <td>...</td>\n",
       "      <td>NaN</td>\n",
       "      <td>NaN</td>\n",
       "      <td>NaN</td>\n",
       "      <td>NaN</td>\n",
       "      <td>NaN</td>\n",
       "      <td>NaN</td>\n",
       "      <td>NaN</td>\n",
       "      <td>NaN</td>\n",
       "      <td>NaN</td>\n",
       "      <td>NaN</td>\n",
       "    </tr>\n",
       "    <tr>\n",
       "      <th>0</th>\n",
       "      <td>11</td>\n",
       "      <td>fca66752a1f6162006284bdc4bbb816d</td>\n",
       "      <td>{\"cutoff\": \"quantile_0.25\", \"eval_fairness_gro...</td>\n",
       "      <td>51.189207</td>\n",
       "      <td>89710</td>\n",
       "      <td>1.0</td>\n",
       "      <td>0.125925</td>\n",
       "      <td>0.867600</td>\n",
       "      <td>0.093792</td>\n",
       "      <td>0.879561</td>\n",
       "      <td>...</td>\n",
       "      <td>0.138887</td>\n",
       "      <td>0.161382</td>\n",
       "      <td>0.666685</td>\n",
       "      <td>0.752507</td>\n",
       "      <td>0.174831</td>\n",
       "      <td>0.048906</td>\n",
       "      <td>0.684956</td>\n",
       "      <td>0.778748</td>\n",
       "      <td>20540.0</td>\n",
       "      <td>69170.0</td>\n",
       "    </tr>\n",
       "  </tbody>\n",
       "</table>\n",
       "<p>4 rows × 50 columns</p>\n",
       "</div>"
      ],
      "text/plain": [
       "  run_no                       universe_id  \\\n",
       "0     11  fca66752a1f6162006284bdc4bbb816d   \n",
       "0     11  fca66752a1f6162006284bdc4bbb816d   \n",
       "0     11  fca66752a1f6162006284bdc4bbb816d   \n",
       "0     11  fca66752a1f6162006284bdc4bbb816d   \n",
       "\n",
       "                                   universe_settings  execution_time  \\\n",
       "0  {\"cutoff\": \"quantile_0.1\", \"eval_fairness_grou...       51.189207   \n",
       "0  {\"cutoff\": \"quantile_0.1\", \"eval_fairness_grou...       51.189207   \n",
       "0  {\"cutoff\": \"quantile_0.25\", \"eval_fairness_gro...       51.189207   \n",
       "0  {\"cutoff\": \"quantile_0.25\", \"eval_fairness_gro...       51.189207   \n",
       "\n",
       "   test_size_n  test_size_frac  fair_main_equalized_odds_difference  \\\n",
       "0        89710             1.0                             0.051699   \n",
       "0        89710             1.0                             0.051699   \n",
       "0        89710             1.0                             0.125925   \n",
       "0        89710             1.0                             0.125925   \n",
       "\n",
       "   fair_main_equalized_odds_ratio  fair_main_demographic_parity_difference  \\\n",
       "0                        0.947781                                 0.040309   \n",
       "0                        0.947781                                 0.040309   \n",
       "0                        0.867600                                 0.093792   \n",
       "0                        0.867600                                 0.093792   \n",
       "\n",
       "   fair_main_demographic_parity_ratio  ...  perf_grp_precision_0  \\\n",
       "0                            0.956882  ...                   NaN   \n",
       "0                            0.956882  ...              0.120932   \n",
       "0                            0.879561  ...                   NaN   \n",
       "0                            0.879561  ...              0.138887   \n",
       "\n",
       "   perf_grp_precision_1  perf_grp_false positive rate_0  \\\n",
       "0                   NaN                             NaN   \n",
       "0              0.139939                        0.888840   \n",
       "0                   NaN                             NaN   \n",
       "0              0.161382                        0.666685   \n",
       "\n",
       "   perf_grp_false positive rate_1  perf_grp_false negative rate_0  \\\n",
       "0                             NaN                             NaN   \n",
       "0                        0.926453                        0.061655   \n",
       "0                             NaN                             NaN   \n",
       "0                        0.752507                        0.174831   \n",
       "\n",
       "   perf_grp_false negative rate_1  perf_grp_selection rate_0  \\\n",
       "0                             NaN                        NaN   \n",
       "0                        0.009956                   0.894547   \n",
       "0                             NaN                        NaN   \n",
       "0                        0.048906                   0.684956   \n",
       "\n",
       "   perf_grp_selection rate_1  perf_grp_count_0  perf_grp_count_1  \n",
       "0                        NaN               NaN               NaN  \n",
       "0                   0.934856           20540.0           69170.0  \n",
       "0                        NaN               NaN               NaN  \n",
       "0                   0.778748           20540.0           69170.0  \n",
       "\n",
       "[4 rows x 50 columns]"
      ]
     },
     "execution_count": 72,
     "metadata": {},
     "output_type": "execute_result"
    }
   ],
   "source": [
    "final_output = universe_analysis.generate_final_output(\n",
    "    y_pred_prob=probs_test,\n",
    "    y_test=y_true,\n",
    "    org_test=org_test,\n",
    "    filter_data=filter_sub_universe_data,\n",
    "    cp_metrics_df=cp_metrics_df,\n",
    "    save=True,\n",
    ")\n",
    "final_output"
   ]
  },
  {
   "cell_type": "code",
   "execution_count": null,
   "id": "721ff514-cb11-46f8-b6fc-50392f74b5cb",
   "metadata": {
    "papermill": {
     "duration": 0.031321,
     "end_time": "2025-07-28T11:08:07.832863",
     "exception": false,
     "start_time": "2025-07-28T11:08:07.801542",
     "status": "completed"
    },
    "tags": []
   },
   "outputs": [],
   "source": []
  }
 ],
 "metadata": {
  "celltoolbar": "Tags",
  "kernelspec": {
   "display_name": "Python (CMA Fairness)",
   "language": "python",
   "name": "cma_fair_env"
  },
  "language_info": {
   "codemirror_mode": {
    "name": "ipython",
    "version": 3
   },
   "file_extension": ".py",
   "mimetype": "text/x-python",
   "name": "python",
   "nbconvert_exporter": "python",
   "pygments_lexer": "ipython3",
   "version": "3.10.12"
  },
  "papermill": {
   "default_parameters": {},
   "duration": 71.077912,
   "end_time": "2025-07-28T11:08:08.683172",
   "environment_variables": {},
   "exception": null,
   "input_path": "universe_analysis.ipynb",
   "output_path": "output/runs/11/notebooks/m_11-fca66752a1f6162006284bdc4bbb816d.ipynb",
   "parameters": {
    "output_dir": "output",
    "run_no": "11",
    "seed": "2023",
    "universe": "{\"cutoff\": [\"quantile_0.1\", \"quantile_0.25\"], \"eval_fairness_grouping\": [\"majority-minority\", \"nationality-all\"], \"exclude_features\": \"age\", \"exclude_subgroups\": \"drop-non-german\", \"model\": \"rf\", \"scale\": \"do-not-scale\", \"training_size\": \"2014\"}",
    "universe_id": "fca66752a1f6162006284bdc4bbb816d"
   },
   "start_time": "2025-07-28T11:06:57.605260",
   "version": "2.6.0"
  }
 },
 "nbformat": 4,
 "nbformat_minor": 5
}