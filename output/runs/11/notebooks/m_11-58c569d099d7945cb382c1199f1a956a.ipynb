{
 "cells": [
  {
   "cell_type": "code",
   "execution_count": 1,
   "id": "f159f837-637b-42ba-96b5-ec9a68c44524",
   "metadata": {
    "execution": {
     "iopub.execute_input": "2025-07-28T10:58:03.706963Z",
     "iopub.status.busy": "2025-07-28T10:58:03.706378Z",
     "iopub.status.idle": "2025-07-28T10:58:03.721907Z",
     "shell.execute_reply": "2025-07-28T10:58:03.720779Z"
    },
    "papermill": {
     "duration": 0.037188,
     "end_time": "2025-07-28T10:58:03.723752",
     "exception": false,
     "start_time": "2025-07-28T10:58:03.686564",
     "status": "completed"
    },
    "tags": []
   },
   "outputs": [
    {
     "name": "stdout",
     "output_type": "stream",
     "text": [
      "/dss/dsshome1/0C/ra93lal2/cma/CMA_Fairness_v2\n"
     ]
    },
    {
     "name": "stderr",
     "output_type": "stream",
     "text": [
      "/dss/dsshome1/0C/ra93lal2/.local/share/virtualenvs/CMA_Fairness_v2-3j10GkSs/lib/python3.10/site-packages/IPython/core/magics/osm.py:393: UserWarning: This is now an optional IPython functionality, using bookmarks requires you to install the `pickleshare` library.\n",
      "  bkms = self.shell.db.get('bookmarks', {})\n",
      "/dss/dsshome1/0C/ra93lal2/.local/share/virtualenvs/CMA_Fairness_v2-3j10GkSs/lib/python3.10/site-packages/IPython/core/magics/osm.py:417: UserWarning: This is now an optional IPython functionality, setting dhist requires you to install the `pickleshare` library.\n",
      "  self.shell.db['dhist'] = compress_dhist(dhist)[-100:]\n"
     ]
    }
   ],
   "source": [
    "%cd ~/cma/CMA_Fairness_v2"
   ]
  },
  {
   "cell_type": "markdown",
   "id": "de2603b9",
   "metadata": {
    "papermill": {
     "duration": 0.01863,
     "end_time": "2025-07-28T10:58:03.762039",
     "exception": false,
     "start_time": "2025-07-28T10:58:03.743409",
     "status": "completed"
    },
    "tags": []
   },
   "source": [
    "The following cell holds the definition of our parameters, these values can be overriden by rendering the with e.g. the following command:\n",
    "\n",
    "papermill -p alpha 0.2 -p ratio 0.3 universe_analysis.ipynb output/test_run.ipynb"
   ]
  },
  {
   "cell_type": "code",
   "execution_count": 2,
   "id": "a80968a0-40bb-4fa9-85ef-2d5eefb01975",
   "metadata": {
    "execution": {
     "iopub.execute_input": "2025-07-28T10:58:03.803467Z",
     "iopub.status.busy": "2025-07-28T10:58:03.802958Z",
     "iopub.status.idle": "2025-07-28T10:58:03.809111Z",
     "shell.execute_reply": "2025-07-28T10:58:03.808073Z"
    },
    "papermill": {
     "duration": 0.029666,
     "end_time": "2025-07-28T10:58:03.810938",
     "exception": false,
     "start_time": "2025-07-28T10:58:03.781272",
     "status": "completed"
    },
    "tags": []
   },
   "outputs": [
    {
     "name": "stdout",
     "output_type": "stream",
     "text": [
      "Current working directory: /dss/dsshome1/0C/ra93lal2/cma/CMA_Fairness_v2\n"
     ]
    }
   ],
   "source": [
    "import os\n",
    "print(\"Current working directory:\", os.getcwd())"
   ]
  },
  {
   "cell_type": "code",
   "execution_count": 3,
   "id": "2dce4c03",
   "metadata": {
    "execution": {
     "iopub.execute_input": "2025-07-28T10:58:03.852747Z",
     "iopub.status.busy": "2025-07-28T10:58:03.851719Z",
     "iopub.status.idle": "2025-07-28T10:58:03.859067Z",
     "shell.execute_reply": "2025-07-28T10:58:03.857880Z"
    },
    "papermill": {
     "duration": 0.030754,
     "end_time": "2025-07-28T10:58:03.861378",
     "exception": false,
     "start_time": "2025-07-28T10:58:03.830624",
     "status": "completed"
    },
    "tags": [
     "parameters"
    ]
   },
   "outputs": [],
   "source": [
    "run_no = 0\n",
    "universe_id = \"test\"\n",
    "universe = {\n",
    "    \"training_size\": \"2014\", # \"25k\", \"5k\", \"1k\", \"2014\"\n",
    "    \"scale\": \"scale\", # \"scale\", \"do-not-scale\",\n",
    "    #\"stratify_split\": \"target\", # \"none\", \"target\", \"protected-attribute\", \"both\",\n",
    "    \"model\": \"elasticnet\", # \"logreg\", \"penalized_logreg\", \"rf\", \"gbm\", \"elasticnet\"\n",
    "    \"cutoff\": [\"quantile_0.15\", \"quantile_0.30\"],\n",
    "    \"exclude_features\": \"age\", # \"none\", \"nationality\", \"sex\", \"nationality-sex\", \"age\"\n",
    "    \"exclude_subgroups\": \"keep-all\", # \"keep-all\", \"drop-non-german\"\n",
    "    \"eval_fairness_grouping\": [\"majority-minority\", \"nationality-all\"]\n",
    "}\n",
    "\n",
    "output_dir=\"./output\"\n",
    "seed=0"
   ]
  },
  {
   "cell_type": "code",
   "execution_count": 4,
   "id": "3440cadf",
   "metadata": {
    "execution": {
     "iopub.execute_input": "2025-07-28T10:58:03.903890Z",
     "iopub.status.busy": "2025-07-28T10:58:03.903448Z",
     "iopub.status.idle": "2025-07-28T10:58:03.908978Z",
     "shell.execute_reply": "2025-07-28T10:58:03.907925Z"
    },
    "papermill": {
     "duration": 0.027963,
     "end_time": "2025-07-28T10:58:03.910744",
     "exception": false,
     "start_time": "2025-07-28T10:58:03.882781",
     "status": "completed"
    },
    "tags": [
     "injected-parameters"
    ]
   },
   "outputs": [],
   "source": [
    "# Parameters\n",
    "universe_id = \"58c569d099d7945cb382c1199f1a956a\"\n",
    "run_no = \"11\"\n",
    "universe = \"{\\\"cutoff\\\": [\\\"quantile_0.1\\\", \\\"quantile_0.25\\\"], \\\"eval_fairness_grouping\\\": [\\\"majority-minority\\\", \\\"nationality-all\\\"], \\\"exclude_features\\\": \\\"sex\\\", \\\"exclude_subgroups\\\": \\\"keep-all\\\", \\\"model\\\": \\\"gbm\\\", \\\"scale\\\": \\\"scale\\\", \\\"training_size\\\": \\\"2014\\\"}\"\n",
    "output_dir = \"output\"\n",
    "seed = \"2023\"\n"
   ]
  },
  {
   "cell_type": "code",
   "execution_count": 5,
   "id": "1650acaf",
   "metadata": {
    "execution": {
     "iopub.execute_input": "2025-07-28T10:58:03.955246Z",
     "iopub.status.busy": "2025-07-28T10:58:03.954266Z",
     "iopub.status.idle": "2025-07-28T10:58:03.961047Z",
     "shell.execute_reply": "2025-07-28T10:58:03.959897Z"
    },
    "papermill": {
     "duration": 0.031468,
     "end_time": "2025-07-28T10:58:03.963028",
     "exception": false,
     "start_time": "2025-07-28T10:58:03.931560",
     "status": "completed"
    },
    "tags": []
   },
   "outputs": [],
   "source": [
    "import json\n",
    "# Parse universe into dict if it is passed as a string\n",
    "if isinstance(universe, str):\n",
    "    universe = json.loads(universe)"
   ]
  },
  {
   "cell_type": "code",
   "execution_count": 6,
   "id": "16620c48",
   "metadata": {
    "execution": {
     "iopub.execute_input": "2025-07-28T10:58:04.005248Z",
     "iopub.status.busy": "2025-07-28T10:58:04.004533Z",
     "iopub.status.idle": "2025-07-28T10:58:04.052926Z",
     "shell.execute_reply": "2025-07-28T10:58:04.051949Z"
    },
    "papermill": {
     "duration": 0.071438,
     "end_time": "2025-07-28T10:58:04.054918",
     "exception": false,
     "start_time": "2025-07-28T10:58:03.983480",
     "status": "completed"
    },
    "tags": []
   },
   "outputs": [],
   "source": [
    "# Auto-reload the custom package\n",
    "%load_ext autoreload\n",
    "%autoreload 1\n",
    "%aimport fairness_multiverse"
   ]
  },
  {
   "cell_type": "code",
   "execution_count": 7,
   "id": "01c5c9f3",
   "metadata": {
    "execution": {
     "iopub.execute_input": "2025-07-28T10:58:04.109815Z",
     "iopub.status.busy": "2025-07-28T10:58:04.108808Z",
     "iopub.status.idle": "2025-07-28T10:58:06.225613Z",
     "shell.execute_reply": "2025-07-28T10:58:06.224533Z"
    },
    "papermill": {
     "duration": 2.140133,
     "end_time": "2025-07-28T10:58:06.227784",
     "exception": false,
     "start_time": "2025-07-28T10:58:04.087651",
     "status": "completed"
    },
    "tags": []
   },
   "outputs": [],
   "source": [
    "from fairness_multiverse.universe import UniverseAnalysis\n",
    "\n",
    "universe_analysis = UniverseAnalysis(\n",
    "    run_no = run_no,\n",
    "    universe_id = universe_id,\n",
    "    universe = universe,\n",
    "    output_dir=output_dir,\n",
    ")"
   ]
  },
  {
   "cell_type": "code",
   "execution_count": 8,
   "id": "106241f5",
   "metadata": {
    "execution": {
     "iopub.execute_input": "2025-07-28T10:58:06.274796Z",
     "iopub.status.busy": "2025-07-28T10:58:06.274118Z",
     "iopub.status.idle": "2025-07-28T10:58:06.281008Z",
     "shell.execute_reply": "2025-07-28T10:58:06.280021Z"
    },
    "papermill": {
     "duration": 0.029502,
     "end_time": "2025-07-28T10:58:06.282525",
     "exception": false,
     "start_time": "2025-07-28T10:58:06.253023",
     "status": "completed"
    },
    "tags": []
   },
   "outputs": [
    {
     "name": "stdout",
     "output_type": "stream",
     "text": [
      "Using Seed: 2023\n"
     ]
    }
   ],
   "source": [
    "import numpy as np\n",
    "parsed_seed = int(seed)\n",
    "np.random.seed(parsed_seed)\n",
    "print(f\"Using Seed: {parsed_seed}\")"
   ]
  },
  {
   "cell_type": "markdown",
   "id": "e0ebdc57",
   "metadata": {
    "papermill": {
     "duration": 0.019694,
     "end_time": "2025-07-28T10:58:06.322777",
     "exception": false,
     "start_time": "2025-07-28T10:58:06.303083",
     "status": "completed"
    },
    "tags": []
   },
   "source": [
    "# Loading Data"
   ]
  },
  {
   "cell_type": "markdown",
   "id": "681925a3",
   "metadata": {
    "papermill": {
     "duration": 0.019342,
     "end_time": "2025-07-28T10:58:06.361905",
     "exception": false,
     "start_time": "2025-07-28T10:58:06.342563",
     "status": "completed"
    },
    "tags": []
   },
   "source": [
    "Load siab_train, siab_test, siab_calib and/or \n",
    "load siab_train_features, siab_train_labels"
   ]
  },
  {
   "cell_type": "code",
   "execution_count": 9,
   "id": "f0496b8a",
   "metadata": {
    "execution": {
     "iopub.execute_input": "2025-07-28T10:58:06.403294Z",
     "iopub.status.busy": "2025-07-28T10:58:06.402546Z",
     "iopub.status.idle": "2025-07-28T10:58:17.555841Z",
     "shell.execute_reply": "2025-07-28T10:58:17.554849Z"
    },
    "papermill": {
     "duration": 11.175784,
     "end_time": "2025-07-28T10:58:17.557268",
     "exception": false,
     "start_time": "2025-07-28T10:58:06.381484",
     "status": "completed"
    },
    "tags": []
   },
   "outputs": [
    {
     "name": "stdout",
     "output_type": "stream",
     "text": [
      "Loading SIAB data from cache: data/siab_cached.csv.gz\n"
     ]
    },
    {
     "name": "stdout",
     "output_type": "stream",
     "text": [
      "(643690, 164)\n"
     ]
    }
   ],
   "source": [
    "from pathlib import Path\n",
    "import pandas as pd\n",
    "\n",
    "# File paths\n",
    "raw_file = Path(\"data/raw/siab.csv\")\n",
    "cache_file = Path(\"data/siab_cached.csv.gz\")\n",
    "\n",
    "# Ensure cache directory exists\n",
    "cache_file.parent.mkdir(parents=True, exist_ok=True)\n",
    "\n",
    "# Load with simple caching\n",
    "if cache_file.exists():\n",
    "    print(f\"Loading SIAB data from cache: {cache_file}\")\n",
    "    siab = pd.read_csv(cache_file, compression='gzip')\n",
    "else:\n",
    "    print(f\"Cache not found. Reading raw SIAB data: {raw_file}\")\n",
    "    siab = pd.read_csv(raw_file)\n",
    "    siab.to_csv(cache_file, index=False, compression='gzip')\n",
    "    print(f\"Cached SIAB data to: {cache_file}\")\n",
    "\n",
    "# Now use `siab` DataFrame as needed\n",
    "print(siab.shape)"
   ]
  },
  {
   "cell_type": "code",
   "execution_count": 10,
   "id": "db0ca512-5f53-4dba-abdb-a2888bca41ba",
   "metadata": {
    "execution": {
     "iopub.execute_input": "2025-07-28T10:58:17.582767Z",
     "iopub.status.busy": "2025-07-28T10:58:17.582115Z",
     "iopub.status.idle": "2025-07-28T10:58:17.587184Z",
     "shell.execute_reply": "2025-07-28T10:58:17.586438Z"
    },
    "papermill": {
     "duration": 0.018198,
     "end_time": "2025-07-28T10:58:17.588687",
     "exception": false,
     "start_time": "2025-07-28T10:58:17.570489",
     "status": "completed"
    },
    "tags": []
   },
   "outputs": [],
   "source": [
    "#siab"
   ]
  },
  {
   "cell_type": "code",
   "execution_count": 11,
   "id": "a0edb063",
   "metadata": {
    "execution": {
     "iopub.execute_input": "2025-07-28T10:58:17.613800Z",
     "iopub.status.busy": "2025-07-28T10:58:17.612994Z",
     "iopub.status.idle": "2025-07-28T10:58:17.617611Z",
     "shell.execute_reply": "2025-07-28T10:58:17.616898Z"
    },
    "papermill": {
     "duration": 0.019253,
     "end_time": "2025-07-28T10:58:17.619033",
     "exception": false,
     "start_time": "2025-07-28T10:58:17.599780",
     "status": "completed"
    },
    "tags": []
   },
   "outputs": [],
   "source": [
    "#import pandas as pd\n",
    "#\n",
    "#X_train = pd.read_csv(\"./data/X_train.csv\")\n",
    "#y_train = pd.read_csv(\"./data/y_train.csv\")"
   ]
  },
  {
   "cell_type": "code",
   "execution_count": 12,
   "id": "63d08085",
   "metadata": {
    "execution": {
     "iopub.execute_input": "2025-07-28T10:58:17.642193Z",
     "iopub.status.busy": "2025-07-28T10:58:17.641703Z",
     "iopub.status.idle": "2025-07-28T10:58:17.646302Z",
     "shell.execute_reply": "2025-07-28T10:58:17.645566Z"
    },
    "papermill": {
     "duration": 0.017352,
     "end_time": "2025-07-28T10:58:17.647726",
     "exception": false,
     "start_time": "2025-07-28T10:58:17.630374",
     "status": "completed"
    },
    "tags": []
   },
   "outputs": [],
   "source": [
    "#X_test = pd.read_csv(\"./data/X_test.csv\")\n",
    "#y_true = pd.read_csv(\"./data/y_test.csv\")"
   ]
  },
  {
   "cell_type": "code",
   "execution_count": 13,
   "id": "98a8d0fa-1d3d-4ed8-bb2c-281470e24add",
   "metadata": {
    "execution": {
     "iopub.execute_input": "2025-07-28T10:58:17.670918Z",
     "iopub.status.busy": "2025-07-28T10:58:17.670062Z",
     "iopub.status.idle": "2025-07-28T10:58:17.674476Z",
     "shell.execute_reply": "2025-07-28T10:58:17.673757Z"
    },
    "papermill": {
     "duration": 0.016969,
     "end_time": "2025-07-28T10:58:17.675840",
     "exception": false,
     "start_time": "2025-07-28T10:58:17.658871",
     "status": "completed"
    },
    "tags": []
   },
   "outputs": [],
   "source": [
    "# Calibration data for conformal\n",
    "#X_calib = pd.read_csv(\"./data/X_calib.csv\")\n",
    "#y_calib = pd.read_csv(\"./data/y_calib.csv\")"
   ]
  },
  {
   "cell_type": "markdown",
   "id": "9901737e-04df-44f0-9100-f5ad144ed040",
   "metadata": {
    "papermill": {
     "duration": 0.010305,
     "end_time": "2025-07-28T10:58:17.697467",
     "exception": false,
     "start_time": "2025-07-28T10:58:17.687162",
     "status": "completed"
    },
    "tags": []
   },
   "source": [
    "# Splitting Data and Setting Training Data Size"
   ]
  },
  {
   "cell_type": "code",
   "execution_count": 14,
   "id": "acbc8f7d-8fc8-4e86-8c59-5dcb0f58384b",
   "metadata": {
    "execution": {
     "iopub.execute_input": "2025-07-28T10:58:17.719926Z",
     "iopub.status.busy": "2025-07-28T10:58:17.719384Z",
     "iopub.status.idle": "2025-07-28T10:58:17.726266Z",
     "shell.execute_reply": "2025-07-28T10:58:17.725575Z"
    },
    "papermill": {
     "duration": 0.0198,
     "end_time": "2025-07-28T10:58:17.727742",
     "exception": false,
     "start_time": "2025-07-28T10:58:17.707942",
     "status": "completed"
    },
    "tags": []
   },
   "outputs": [],
   "source": [
    "def sample_by_year(df, training_size, random_state=42):\n",
    "    if training_size == \"2014\":\n",
    "        return df[df[\"year\"] == 2014].reset_index(drop=True)\n",
    "    \n",
    "    size_map = {\n",
    "        \"25k\": 5000,\n",
    "        \"5k\": 1000,\n",
    "        \"1k\": 200\n",
    "    }\n",
    "\n",
    "    if training_size not in size_map:\n",
    "        return df.reset_index(drop=True)  # use all data\n",
    "\n",
    "    n_per_year = size_map[training_size]\n",
    "    grouped = df.groupby(\"year\")\n",
    "    sampled = grouped.apply(lambda x: x.sample(n=min(n_per_year, len(x)), random_state=random_state))\n",
    "    return sampled.reset_index(drop=True)"
   ]
  },
  {
   "cell_type": "code",
   "execution_count": 15,
   "id": "6d931f52-beaf-43ff-9e78-9d44a448d54e",
   "metadata": {
    "execution": {
     "iopub.execute_input": "2025-07-28T10:58:17.751084Z",
     "iopub.status.busy": "2025-07-28T10:58:17.750514Z",
     "iopub.status.idle": "2025-07-28T10:58:17.861179Z",
     "shell.execute_reply": "2025-07-28T10:58:17.860375Z"
    },
    "papermill": {
     "duration": 0.123597,
     "end_time": "2025-07-28T10:58:17.862770",
     "exception": false,
     "start_time": "2025-07-28T10:58:17.739173",
     "status": "completed"
    },
    "tags": []
   },
   "outputs": [],
   "source": [
    "siab_s = sample_by_year(siab, universe[\"training_size\"])"
   ]
  },
  {
   "cell_type": "code",
   "execution_count": 16,
   "id": "5db0a40e-a4e2-4920-be85-b12ae061d70d",
   "metadata": {
    "execution": {
     "iopub.execute_input": "2025-07-28T10:58:17.885984Z",
     "iopub.status.busy": "2025-07-28T10:58:17.885612Z",
     "iopub.status.idle": "2025-07-28T10:58:17.898179Z",
     "shell.execute_reply": "2025-07-28T10:58:17.897341Z"
    },
    "papermill": {
     "duration": 0.025272,
     "end_time": "2025-07-28T10:58:17.899461",
     "exception": false,
     "start_time": "2025-07-28T10:58:17.874189",
     "status": "completed"
    },
    "tags": []
   },
   "outputs": [
    {
     "data": {
      "text/plain": [
       "year\n",
       "2014    87158\n",
       "dtype: int64"
      ]
     },
     "metadata": {},
     "output_type": "display_data"
    }
   ],
   "source": [
    "display(siab_s.groupby(\"year\").size())"
   ]
  },
  {
   "cell_type": "code",
   "execution_count": 17,
   "id": "a561edb4-d032-42cb-8256-22eac1111c64",
   "metadata": {
    "execution": {
     "iopub.execute_input": "2025-07-28T10:58:17.922515Z",
     "iopub.status.busy": "2025-07-28T10:58:17.922028Z",
     "iopub.status.idle": "2025-07-28T10:58:18.177948Z",
     "shell.execute_reply": "2025-07-28T10:58:18.177154Z"
    },
    "papermill": {
     "duration": 0.26889,
     "end_time": "2025-07-28T10:58:18.179453",
     "exception": false,
     "start_time": "2025-07-28T10:58:17.910563",
     "status": "completed"
    },
    "tags": []
   },
   "outputs": [],
   "source": [
    "siab_train = siab_s[siab_s.year < 2015]\n",
    "siab_calib = siab[siab.year == 2015]\n",
    "siab_test = siab[siab.year == 2016]"
   ]
  },
  {
   "cell_type": "code",
   "execution_count": 18,
   "id": "472de16f-c3db-4916-846b-1f0de9cf1746",
   "metadata": {
    "execution": {
     "iopub.execute_input": "2025-07-28T10:58:18.202507Z",
     "iopub.status.busy": "2025-07-28T10:58:18.202162Z",
     "iopub.status.idle": "2025-07-28T10:58:18.251130Z",
     "shell.execute_reply": "2025-07-28T10:58:18.250126Z"
    },
    "papermill": {
     "duration": 0.062127,
     "end_time": "2025-07-28T10:58:18.252649",
     "exception": false,
     "start_time": "2025-07-28T10:58:18.190522",
     "status": "completed"
    },
    "tags": []
   },
   "outputs": [],
   "source": [
    "X_train = siab_train.iloc[:,4:164]\n",
    "y_train = siab_train.iloc[:, [3]]"
   ]
  },
  {
   "cell_type": "code",
   "execution_count": 19,
   "id": "828c96af-f43a-4ed6-ba47-8ac73a47d56c",
   "metadata": {
    "execution": {
     "iopub.execute_input": "2025-07-28T10:58:18.277083Z",
     "iopub.status.busy": "2025-07-28T10:58:18.276338Z",
     "iopub.status.idle": "2025-07-28T10:58:18.323466Z",
     "shell.execute_reply": "2025-07-28T10:58:18.322655Z"
    },
    "papermill": {
     "duration": 0.060305,
     "end_time": "2025-07-28T10:58:18.324823",
     "exception": false,
     "start_time": "2025-07-28T10:58:18.264518",
     "status": "completed"
    },
    "tags": []
   },
   "outputs": [],
   "source": [
    "X_calib = siab_calib.iloc[:,4:164]\n",
    "y_calib = siab_calib.iloc[:, [3]]"
   ]
  },
  {
   "cell_type": "code",
   "execution_count": 20,
   "id": "c34be9c3-6bd6-476e-acd3-845840e303be",
   "metadata": {
    "execution": {
     "iopub.execute_input": "2025-07-28T10:58:18.348934Z",
     "iopub.status.busy": "2025-07-28T10:58:18.348516Z",
     "iopub.status.idle": "2025-07-28T10:58:18.396851Z",
     "shell.execute_reply": "2025-07-28T10:58:18.396038Z"
    },
    "papermill": {
     "duration": 0.061245,
     "end_time": "2025-07-28T10:58:18.398228",
     "exception": false,
     "start_time": "2025-07-28T10:58:18.336983",
     "status": "completed"
    },
    "tags": []
   },
   "outputs": [],
   "source": [
    "X_test = siab_test.iloc[:,4:164]\n",
    "y_true = siab_test.iloc[:, [3]]"
   ]
  },
  {
   "cell_type": "code",
   "execution_count": 21,
   "id": "e6c733c5",
   "metadata": {
    "execution": {
     "iopub.execute_input": "2025-07-28T10:58:18.422747Z",
     "iopub.status.busy": "2025-07-28T10:58:18.421968Z",
     "iopub.status.idle": "2025-07-28T10:58:18.552988Z",
     "shell.execute_reply": "2025-07-28T10:58:18.552198Z"
    },
    "papermill": {
     "duration": 0.144285,
     "end_time": "2025-07-28T10:58:18.554559",
     "exception": false,
     "start_time": "2025-07-28T10:58:18.410274",
     "status": "completed"
    },
    "tags": []
   },
   "outputs": [],
   "source": [
    "# Auxiliary data needed downstream in the pipeline\n",
    "\n",
    "org_train = X_train.copy()\n",
    "org_test = X_test.copy()\n",
    "org_calib = X_calib.copy()"
   ]
  },
  {
   "cell_type": "markdown",
   "id": "0a4a1b33",
   "metadata": {
    "papermill": {
     "duration": 0.010997,
     "end_time": "2025-07-28T10:58:18.577268",
     "exception": false,
     "start_time": "2025-07-28T10:58:18.566271",
     "status": "completed"
    },
    "tags": []
   },
   "source": [
    "# Preprocessing Data"
   ]
  },
  {
   "cell_type": "code",
   "execution_count": 22,
   "id": "ca879031",
   "metadata": {
    "execution": {
     "iopub.execute_input": "2025-07-28T10:58:18.600266Z",
     "iopub.status.busy": "2025-07-28T10:58:18.599848Z",
     "iopub.status.idle": "2025-07-28T10:58:18.605009Z",
     "shell.execute_reply": "2025-07-28T10:58:18.604270Z"
    },
    "papermill": {
     "duration": 0.018219,
     "end_time": "2025-07-28T10:58:18.606428",
     "exception": false,
     "start_time": "2025-07-28T10:58:18.588209",
     "status": "completed"
    },
    "tags": []
   },
   "outputs": [],
   "source": [
    "# EXCLUDE PROTECTED FEATURES\n",
    "# ----------------------\n",
    "# \"exclude_features\": \"none\", # \"nationality\", \"sex\", \"nationality-sex\"\n",
    "\n",
    "excluded_features = universe[\"exclude_features\"].split(\"-\") # split, e.g.: \"nationality-sex\" -> [\"nationality\", \"sex\"]\n",
    "excluded_features_dictionary = {\n",
    "    \"nationality\": [\"maxdeutsch1\", \"maxdeutsch.Missing.\"],\n",
    "    \"sex\": [\"frau1\"],\n",
    "    \"age\": [\"age\"],\n",
    "}\n"
   ]
  },
  {
   "cell_type": "code",
   "execution_count": 23,
   "id": "b745ac60",
   "metadata": {
    "execution": {
     "iopub.execute_input": "2025-07-28T10:58:18.630926Z",
     "iopub.status.busy": "2025-07-28T10:58:18.630358Z",
     "iopub.status.idle": "2025-07-28T10:58:18.635605Z",
     "shell.execute_reply": "2025-07-28T10:58:18.634896Z"
    },
    "papermill": {
     "duration": 0.018534,
     "end_time": "2025-07-28T10:58:18.636884",
     "exception": false,
     "start_time": "2025-07-28T10:58:18.618350",
     "status": "completed"
    },
    "tags": []
   },
   "outputs": [],
   "source": [
    "# Code nice names to column names\n",
    "\n",
    "excluded_features_columns = [\n",
    "    excluded_features_dictionary[f] for f in excluded_features if len(f) > 0 and f != \"none\"\n",
    "]"
   ]
  },
  {
   "cell_type": "code",
   "execution_count": 24,
   "id": "f84f73a2",
   "metadata": {
    "execution": {
     "iopub.execute_input": "2025-07-28T10:58:18.660792Z",
     "iopub.status.busy": "2025-07-28T10:58:18.660270Z",
     "iopub.status.idle": "2025-07-28T10:58:18.666072Z",
     "shell.execute_reply": "2025-07-28T10:58:18.665356Z"
    },
    "papermill": {
     "duration": 0.018709,
     "end_time": "2025-07-28T10:58:18.667337",
     "exception": false,
     "start_time": "2025-07-28T10:58:18.648628",
     "status": "completed"
    },
    "tags": []
   },
   "outputs": [],
   "source": [
    "from utils import flatten_once\n",
    "\n",
    "excluded_features_columns = flatten_once(excluded_features_columns)"
   ]
  },
  {
   "cell_type": "code",
   "execution_count": 25,
   "id": "884dea22",
   "metadata": {
    "execution": {
     "iopub.execute_input": "2025-07-28T10:58:18.691555Z",
     "iopub.status.busy": "2025-07-28T10:58:18.691016Z",
     "iopub.status.idle": "2025-07-28T10:58:18.740141Z",
     "shell.execute_reply": "2025-07-28T10:58:18.739224Z"
    },
    "papermill": {
     "duration": 0.062456,
     "end_time": "2025-07-28T10:58:18.741499",
     "exception": false,
     "start_time": "2025-07-28T10:58:18.679043",
     "status": "completed"
    },
    "tags": []
   },
   "outputs": [
    {
     "name": "stdout",
     "output_type": "stream",
     "text": [
      "Dropping features: ['frau1']\n"
     ]
    }
   ],
   "source": [
    "if len(excluded_features_columns) > 0:\n",
    "    print(f\"Dropping features: {excluded_features_columns}\")\n",
    "    X_train.drop(excluded_features_columns, axis=1, inplace=True)"
   ]
  },
  {
   "cell_type": "code",
   "execution_count": 26,
   "id": "95ab8b16",
   "metadata": {
    "execution": {
     "iopub.execute_input": "2025-07-28T10:58:18.766412Z",
     "iopub.status.busy": "2025-07-28T10:58:18.765738Z",
     "iopub.status.idle": "2025-07-28T10:58:18.816125Z",
     "shell.execute_reply": "2025-07-28T10:58:18.815207Z"
    },
    "papermill": {
     "duration": 0.064055,
     "end_time": "2025-07-28T10:58:18.817570",
     "exception": false,
     "start_time": "2025-07-28T10:58:18.753515",
     "status": "completed"
    },
    "tags": []
   },
   "outputs": [
    {
     "name": "stdout",
     "output_type": "stream",
     "text": [
      "Dropping features: ['frau1']\n"
     ]
    }
   ],
   "source": [
    "if len(excluded_features_columns) > 0:\n",
    "    print(f\"Dropping features: {excluded_features_columns}\")\n",
    "    X_test.drop(excluded_features_columns, axis=1, inplace=True)"
   ]
  },
  {
   "cell_type": "code",
   "execution_count": 27,
   "id": "1853aaf5-fb9f-46cb-a2b5-8ea4ae2237e4",
   "metadata": {
    "execution": {
     "iopub.execute_input": "2025-07-28T10:58:18.842680Z",
     "iopub.status.busy": "2025-07-28T10:58:18.842166Z",
     "iopub.status.idle": "2025-07-28T10:58:18.891272Z",
     "shell.execute_reply": "2025-07-28T10:58:18.890527Z"
    },
    "papermill": {
     "duration": 0.063015,
     "end_time": "2025-07-28T10:58:18.893022",
     "exception": false,
     "start_time": "2025-07-28T10:58:18.830007",
     "status": "completed"
    },
    "tags": []
   },
   "outputs": [
    {
     "name": "stdout",
     "output_type": "stream",
     "text": [
      "Dropping features: ['frau1']\n"
     ]
    }
   ],
   "source": [
    "if len(excluded_features_columns) > 0:\n",
    "    print(f\"Dropping features: {excluded_features_columns}\")\n",
    "    X_calib.drop(excluded_features_columns, axis=1, inplace=True)"
   ]
  },
  {
   "cell_type": "code",
   "execution_count": 28,
   "id": "6727d079-03e5-481e-9d38-292a90b7a0a8",
   "metadata": {
    "execution": {
     "iopub.execute_input": "2025-07-28T10:58:18.917795Z",
     "iopub.status.busy": "2025-07-28T10:58:18.917265Z",
     "iopub.status.idle": "2025-07-28T10:58:18.921456Z",
     "shell.execute_reply": "2025-07-28T10:58:18.920791Z"
    },
    "papermill": {
     "duration": 0.017617,
     "end_time": "2025-07-28T10:58:18.922798",
     "exception": false,
     "start_time": "2025-07-28T10:58:18.905181",
     "status": "completed"
    },
    "tags": []
   },
   "outputs": [],
   "source": [
    "# SPLIT & STRATIFY DATA\n",
    "# ----------------------"
   ]
  },
  {
   "cell_type": "code",
   "execution_count": 29,
   "id": "76c4dc6d",
   "metadata": {
    "execution": {
     "iopub.execute_input": "2025-07-28T10:58:18.947896Z",
     "iopub.status.busy": "2025-07-28T10:58:18.947124Z",
     "iopub.status.idle": "2025-07-28T10:58:18.951771Z",
     "shell.execute_reply": "2025-07-28T10:58:18.951061Z"
    },
    "papermill": {
     "duration": 0.018211,
     "end_time": "2025-07-28T10:58:18.953221",
     "exception": false,
     "start_time": "2025-07-28T10:58:18.935010",
     "status": "completed"
    },
    "tags": []
   },
   "outputs": [],
   "source": [
    "# EXCLUDE CERTAIN SUBGROUPS\n",
    "# ----------------------\n",
    "\n",
    "mode = universe.get(\"exclude_subgroups\", \"keep-all\") \n",
    "# Fetches the exclude_subgroups setting from the universe dict.\n",
    "# Defaults to \"keep-all\" if the key is missing."
   ]
  },
  {
   "cell_type": "code",
   "execution_count": 30,
   "id": "21994072",
   "metadata": {
    "execution": {
     "iopub.execute_input": "2025-07-28T10:58:18.977888Z",
     "iopub.status.busy": "2025-07-28T10:58:18.977406Z",
     "iopub.status.idle": "2025-07-28T10:58:18.983167Z",
     "shell.execute_reply": "2025-07-28T10:58:18.982399Z"
    },
    "papermill": {
     "duration": 0.019295,
     "end_time": "2025-07-28T10:58:18.984571",
     "exception": false,
     "start_time": "2025-07-28T10:58:18.965276",
     "status": "completed"
    },
    "tags": []
   },
   "outputs": [],
   "source": [
    "if mode == \"keep-all\":\n",
    "    keep_mask = pd.Series(True, index=org_train.index)\n",
    "\n",
    "# org_train contains the original feature columns from features_org (in Simson)\n",
    "# features_org contains unprocessed features, for me X_train at beginning ???\n",
    "# For keep-all, creates a boolean Series (keep_mask) of all True, so no rows are removed.\n",
    "\n",
    "elif mode == \"drop-non-german\":\n",
    "    keep_mask = org_train[\"maxdeutsch1\"] == 1 # ??? what about missing values?\n",
    "\n",
    "else:\n",
    "    raise ValueError(f\"Unsupported mode for exclude_subgroups: {mode}\")\n"
   ]
  },
  {
   "cell_type": "code",
   "execution_count": 31,
   "id": "71651440",
   "metadata": {
    "execution": {
     "iopub.execute_input": "2025-07-28T10:58:19.009564Z",
     "iopub.status.busy": "2025-07-28T10:58:19.009222Z",
     "iopub.status.idle": "2025-07-28T10:58:19.014953Z",
     "shell.execute_reply": "2025-07-28T10:58:19.014256Z"
    },
    "papermill": {
     "duration": 0.019375,
     "end_time": "2025-07-28T10:58:19.016274",
     "exception": false,
     "start_time": "2025-07-28T10:58:18.996899",
     "status": "completed"
    },
    "tags": []
   },
   "outputs": [],
   "source": [
    "n_drop = (~keep_mask).sum() # Calculates how many rows are set to be dropped\n",
    "if n_drop > 0:\n",
    "    pct = n_drop / len(keep_mask) * 100\n",
    "    print(f\"Dropping {n_drop} rows ({pct:.2f}%) where mode='{mode}'\")"
   ]
  },
  {
   "cell_type": "code",
   "execution_count": 32,
   "id": "5fb8eee5",
   "metadata": {
    "execution": {
     "iopub.execute_input": "2025-07-28T10:58:19.040906Z",
     "iopub.status.busy": "2025-07-28T10:58:19.040546Z",
     "iopub.status.idle": "2025-07-28T10:58:19.094362Z",
     "shell.execute_reply": "2025-07-28T10:58:19.093563Z"
    },
    "papermill": {
     "duration": 0.067443,
     "end_time": "2025-07-28T10:58:19.095948",
     "exception": false,
     "start_time": "2025-07-28T10:58:19.028505",
     "status": "completed"
    },
    "tags": []
   },
   "outputs": [],
   "source": [
    "X_train = X_train[keep_mask]"
   ]
  },
  {
   "cell_type": "code",
   "execution_count": 33,
   "id": "b202bb3a",
   "metadata": {
    "execution": {
     "iopub.execute_input": "2025-07-28T10:58:19.120456Z",
     "iopub.status.busy": "2025-07-28T10:58:19.119922Z",
     "iopub.status.idle": "2025-07-28T10:58:19.126500Z",
     "shell.execute_reply": "2025-07-28T10:58:19.125767Z"
    },
    "papermill": {
     "duration": 0.020264,
     "end_time": "2025-07-28T10:58:19.127899",
     "exception": false,
     "start_time": "2025-07-28T10:58:19.107635",
     "status": "completed"
    },
    "tags": []
   },
   "outputs": [],
   "source": [
    "y_train = y_train[keep_mask]"
   ]
  },
  {
   "cell_type": "markdown",
   "id": "493e2ac3",
   "metadata": {
    "papermill": {
     "duration": 0.011243,
     "end_time": "2025-07-28T10:58:19.151137",
     "exception": false,
     "start_time": "2025-07-28T10:58:19.139894",
     "status": "completed"
    },
    "tags": []
   },
   "source": [
    "# Model Training"
   ]
  },
  {
   "cell_type": "code",
   "execution_count": 34,
   "id": "679e1268",
   "metadata": {
    "execution": {
     "iopub.execute_input": "2025-07-28T10:58:19.175429Z",
     "iopub.status.busy": "2025-07-28T10:58:19.174894Z",
     "iopub.status.idle": "2025-07-28T10:58:19.253663Z",
     "shell.execute_reply": "2025-07-28T10:58:19.252873Z"
    },
    "papermill": {
     "duration": 0.092575,
     "end_time": "2025-07-28T10:58:19.255137",
     "exception": false,
     "start_time": "2025-07-28T10:58:19.162562",
     "status": "completed"
    },
    "tags": []
   },
   "outputs": [],
   "source": [
    "from sklearn.linear_model import LogisticRegression\n",
    "from sklearn.ensemble import GradientBoostingClassifier, RandomForestClassifier\n",
    "\n",
    "if (universe[\"model\"] == \"logreg\"):\n",
    "    model = LogisticRegression() #penalty=\"none\") #, solver=\"newton-cg\", max_iter=1) # include random_state=19 ?\n",
    "elif (universe[\"model\"] == \"penalized_logreg\"):\n",
    "    model = LogisticRegression(penalty=\"l2\", C=1.0) #, solver=\"newton-cg\", max_iter=1)\n",
    "elif (universe[\"model\"] == \"rf\"):\n",
    "    model = RandomForestClassifier(n_estimators=100, n_jobs=-1)\n",
    "elif (universe[\"model\"] == \"gbm\"):\n",
    "    model = GradientBoostingClassifier()\n",
    "elif (universe[\"model\"] == \"elasticnet\"):\n",
    "    model = LogisticRegression(penalty = 'elasticnet', solver = 'saga', l1_ratio = 0.5, max_iter=5000) # which solver to use?\n",
    "else:\n",
    "    raise \"Unsupported universe.model\""
   ]
  },
  {
   "cell_type": "code",
   "execution_count": 35,
   "id": "0cc8f744",
   "metadata": {
    "execution": {
     "iopub.execute_input": "2025-07-28T10:58:19.280019Z",
     "iopub.status.busy": "2025-07-28T10:58:19.279469Z",
     "iopub.status.idle": "2025-07-28T10:58:19.284937Z",
     "shell.execute_reply": "2025-07-28T10:58:19.284148Z"
    },
    "papermill": {
     "duration": 0.018948,
     "end_time": "2025-07-28T10:58:19.286157",
     "exception": false,
     "start_time": "2025-07-28T10:58:19.267209",
     "status": "completed"
    },
    "tags": []
   },
   "outputs": [],
   "source": [
    "import numpy as np\n",
    "from sklearn.pipeline import Pipeline\n",
    "from sklearn.preprocessing import StandardScaler\n",
    "\n",
    "model = Pipeline([\n",
    "    #(\"continuous_processor\", continuous_processor),\n",
    "    #(\"categorical_preprocessor\", categorical_preprocessor),\n",
    "    (\"scale\", StandardScaler() if universe[\"scale\"] == \"scale\" else None), \n",
    "    (\"model\", model),\n",
    "])"
   ]
  },
  {
   "cell_type": "code",
   "execution_count": 36,
   "id": "9442c04d",
   "metadata": {
    "execution": {
     "iopub.execute_input": "2025-07-28T10:58:19.311407Z",
     "iopub.status.busy": "2025-07-28T10:58:19.310564Z",
     "iopub.status.idle": "2025-07-28T11:00:09.876465Z",
     "shell.execute_reply": "2025-07-28T11:00:09.873305Z"
    },
    "papermill": {
     "duration": 110.596493,
     "end_time": "2025-07-28T11:00:09.894838",
     "exception": false,
     "start_time": "2025-07-28T10:58:19.298345",
     "status": "completed"
    },
    "tags": []
   },
   "outputs": [
    {
     "data": {
      "text/html": [
       "<style>#sk-container-id-1 {color: black;background-color: white;}#sk-container-id-1 pre{padding: 0;}#sk-container-id-1 div.sk-toggleable {background-color: white;}#sk-container-id-1 label.sk-toggleable__label {cursor: pointer;display: block;width: 100%;margin-bottom: 0;padding: 0.3em;box-sizing: border-box;text-align: center;}#sk-container-id-1 label.sk-toggleable__label-arrow:before {content: \"▸\";float: left;margin-right: 0.25em;color: #696969;}#sk-container-id-1 label.sk-toggleable__label-arrow:hover:before {color: black;}#sk-container-id-1 div.sk-estimator:hover label.sk-toggleable__label-arrow:before {color: black;}#sk-container-id-1 div.sk-toggleable__content {max-height: 0;max-width: 0;overflow: hidden;text-align: left;background-color: #f0f8ff;}#sk-container-id-1 div.sk-toggleable__content pre {margin: 0.2em;color: black;border-radius: 0.25em;background-color: #f0f8ff;}#sk-container-id-1 input.sk-toggleable__control:checked~div.sk-toggleable__content {max-height: 200px;max-width: 100%;overflow: auto;}#sk-container-id-1 input.sk-toggleable__control:checked~label.sk-toggleable__label-arrow:before {content: \"▾\";}#sk-container-id-1 div.sk-estimator input.sk-toggleable__control:checked~label.sk-toggleable__label {background-color: #d4ebff;}#sk-container-id-1 div.sk-label input.sk-toggleable__control:checked~label.sk-toggleable__label {background-color: #d4ebff;}#sk-container-id-1 input.sk-hidden--visually {border: 0;clip: rect(1px 1px 1px 1px);clip: rect(1px, 1px, 1px, 1px);height: 1px;margin: -1px;overflow: hidden;padding: 0;position: absolute;width: 1px;}#sk-container-id-1 div.sk-estimator {font-family: monospace;background-color: #f0f8ff;border: 1px dotted black;border-radius: 0.25em;box-sizing: border-box;margin-bottom: 0.5em;}#sk-container-id-1 div.sk-estimator:hover {background-color: #d4ebff;}#sk-container-id-1 div.sk-parallel-item::after {content: \"\";width: 100%;border-bottom: 1px solid gray;flex-grow: 1;}#sk-container-id-1 div.sk-label:hover label.sk-toggleable__label {background-color: #d4ebff;}#sk-container-id-1 div.sk-serial::before {content: \"\";position: absolute;border-left: 1px solid gray;box-sizing: border-box;top: 0;bottom: 0;left: 50%;z-index: 0;}#sk-container-id-1 div.sk-serial {display: flex;flex-direction: column;align-items: center;background-color: white;padding-right: 0.2em;padding-left: 0.2em;position: relative;}#sk-container-id-1 div.sk-item {position: relative;z-index: 1;}#sk-container-id-1 div.sk-parallel {display: flex;align-items: stretch;justify-content: center;background-color: white;position: relative;}#sk-container-id-1 div.sk-item::before, #sk-container-id-1 div.sk-parallel-item::before {content: \"\";position: absolute;border-left: 1px solid gray;box-sizing: border-box;top: 0;bottom: 0;left: 50%;z-index: -1;}#sk-container-id-1 div.sk-parallel-item {display: flex;flex-direction: column;z-index: 1;position: relative;background-color: white;}#sk-container-id-1 div.sk-parallel-item:first-child::after {align-self: flex-end;width: 50%;}#sk-container-id-1 div.sk-parallel-item:last-child::after {align-self: flex-start;width: 50%;}#sk-container-id-1 div.sk-parallel-item:only-child::after {width: 0;}#sk-container-id-1 div.sk-dashed-wrapped {border: 1px dashed gray;margin: 0 0.4em 0.5em 0.4em;box-sizing: border-box;padding-bottom: 0.4em;background-color: white;}#sk-container-id-1 div.sk-label label {font-family: monospace;font-weight: bold;display: inline-block;line-height: 1.2em;}#sk-container-id-1 div.sk-label-container {text-align: center;}#sk-container-id-1 div.sk-container {/* jupyter's `normalize.less` sets `[hidden] { display: none; }` but bootstrap.min.css set `[hidden] { display: none !important; }` so we also need the `!important` here to be able to override the default hidden behavior on the sphinx rendered scikit-learn.org. See: https://github.com/scikit-learn/scikit-learn/issues/21755 */display: inline-block !important;position: relative;}#sk-container-id-1 div.sk-text-repr-fallback {display: none;}</style><div id=\"sk-container-id-1\" class=\"sk-top-container\"><div class=\"sk-text-repr-fallback\"><pre>Pipeline(steps=[(&#x27;scale&#x27;, StandardScaler()),\n",
       "                (&#x27;model&#x27;, GradientBoostingClassifier())])</pre><b>In a Jupyter environment, please rerun this cell to show the HTML representation or trust the notebook. <br />On GitHub, the HTML representation is unable to render, please try loading this page with nbviewer.org.</b></div><div class=\"sk-container\" hidden><div class=\"sk-item sk-dashed-wrapped\"><div class=\"sk-label-container\"><div class=\"sk-label sk-toggleable\"><input class=\"sk-toggleable__control sk-hidden--visually\" id=\"sk-estimator-id-1\" type=\"checkbox\" ><label for=\"sk-estimator-id-1\" class=\"sk-toggleable__label sk-toggleable__label-arrow\">Pipeline</label><div class=\"sk-toggleable__content\"><pre>Pipeline(steps=[(&#x27;scale&#x27;, StandardScaler()),\n",
       "                (&#x27;model&#x27;, GradientBoostingClassifier())])</pre></div></div></div><div class=\"sk-serial\"><div class=\"sk-item\"><div class=\"sk-estimator sk-toggleable\"><input class=\"sk-toggleable__control sk-hidden--visually\" id=\"sk-estimator-id-2\" type=\"checkbox\" ><label for=\"sk-estimator-id-2\" class=\"sk-toggleable__label sk-toggleable__label-arrow\">StandardScaler</label><div class=\"sk-toggleable__content\"><pre>StandardScaler()</pre></div></div></div><div class=\"sk-item\"><div class=\"sk-estimator sk-toggleable\"><input class=\"sk-toggleable__control sk-hidden--visually\" id=\"sk-estimator-id-3\" type=\"checkbox\" ><label for=\"sk-estimator-id-3\" class=\"sk-toggleable__label sk-toggleable__label-arrow\">GradientBoostingClassifier</label><div class=\"sk-toggleable__content\"><pre>GradientBoostingClassifier()</pre></div></div></div></div></div></div></div>"
      ],
      "text/plain": [
       "Pipeline(steps=[('scale', StandardScaler()),\n",
       "                ('model', GradientBoostingClassifier())])"
      ]
     },
     "execution_count": 36,
     "metadata": {},
     "output_type": "execute_result"
    }
   ],
   "source": [
    "model.fit(X_train, y_train.values.ravel())"
   ]
  },
  {
   "cell_type": "code",
   "execution_count": 37,
   "id": "af59f8c0",
   "metadata": {
    "execution": {
     "iopub.execute_input": "2025-07-28T11:00:09.942355Z",
     "iopub.status.busy": "2025-07-28T11:00:09.941744Z",
     "iopub.status.idle": "2025-07-28T11:00:09.948091Z",
     "shell.execute_reply": "2025-07-28T11:00:09.947045Z"
    },
    "papermill": {
     "duration": 0.032485,
     "end_time": "2025-07-28T11:00:09.950057",
     "exception": false,
     "start_time": "2025-07-28T11:00:09.917572",
     "status": "completed"
    },
    "tags": []
   },
   "outputs": [],
   "source": [
    "from fairness_multiverse.universe import predict_w_threshold"
   ]
  },
  {
   "cell_type": "code",
   "execution_count": 38,
   "id": "a7cf2e16",
   "metadata": {
    "execution": {
     "iopub.execute_input": "2025-07-28T11:00:09.999178Z",
     "iopub.status.busy": "2025-07-28T11:00:09.998696Z",
     "iopub.status.idle": "2025-07-28T11:00:10.871616Z",
     "shell.execute_reply": "2025-07-28T11:00:10.870678Z"
    },
    "papermill": {
     "duration": 0.899034,
     "end_time": "2025-07-28T11:00:10.873561",
     "exception": false,
     "start_time": "2025-07-28T11:00:09.974527",
     "status": "completed"
    },
    "tags": []
   },
   "outputs": [
    {
     "data": {
      "text/plain": [
       "0.8712963995095308"
      ]
     },
     "execution_count": 38,
     "metadata": {},
     "output_type": "execute_result"
    }
   ],
   "source": [
    "probs_test = model.predict_proba(X_test)\n",
    "\n",
    "'''\n",
    "Below code returns a boolean array (or binary 0/1 array depending on how it’s used) where each element \n",
    "is True if the probability of class 1 is greater than or equal to the threshold, and False otherwise.\n",
    "'''\n",
    "y_pred_default = predict_w_threshold(probs_test, 0.5)\n",
    "\n",
    "from sklearn.metrics import accuracy_score\n",
    "\n",
    "# Naive prediction\n",
    "accuracy_score(y_true = y_true, y_pred = y_pred_default)"
   ]
  },
  {
   "cell_type": "code",
   "execution_count": 39,
   "id": "081964c3",
   "metadata": {
    "execution": {
     "iopub.execute_input": "2025-07-28T11:00:10.924289Z",
     "iopub.status.busy": "2025-07-28T11:00:10.923508Z",
     "iopub.status.idle": "2025-07-28T11:00:11.808469Z",
     "shell.execute_reply": "2025-07-28T11:00:11.807434Z"
    },
    "papermill": {
     "duration": 0.912662,
     "end_time": "2025-07-28T11:00:11.810136",
     "exception": false,
     "start_time": "2025-07-28T11:00:10.897474",
     "status": "completed"
    },
    "tags": []
   },
   "outputs": [
    {
     "data": {
      "text/plain": [
       "array([0, 0, 0, ..., 0, 0, 0])"
      ]
     },
     "execution_count": 39,
     "metadata": {},
     "output_type": "execute_result"
    }
   ],
   "source": [
    "model.predict(X_test)"
   ]
  },
  {
   "cell_type": "markdown",
   "id": "56c9705b",
   "metadata": {
    "papermill": {
     "duration": 0.023814,
     "end_time": "2025-07-28T11:00:11.858248",
     "exception": false,
     "start_time": "2025-07-28T11:00:11.834434",
     "status": "completed"
    },
    "tags": []
   },
   "source": [
    "# Conformal Prediction"
   ]
  },
  {
   "cell_type": "code",
   "execution_count": 40,
   "id": "160ec6ff",
   "metadata": {
    "execution": {
     "iopub.execute_input": "2025-07-28T11:00:11.907224Z",
     "iopub.status.busy": "2025-07-28T11:00:11.906535Z",
     "iopub.status.idle": "2025-07-28T11:00:11.912369Z",
     "shell.execute_reply": "2025-07-28T11:00:11.911320Z"
    },
    "papermill": {
     "duration": 0.032914,
     "end_time": "2025-07-28T11:00:11.914099",
     "exception": false,
     "start_time": "2025-07-28T11:00:11.881185",
     "status": "completed"
    },
    "tags": []
   },
   "outputs": [],
   "source": [
    "# Miscoverage level for conformal prediction (10% allowed error rate => 90% target coverage)\n",
    "alpha = 0.1"
   ]
  },
  {
   "cell_type": "code",
   "execution_count": 41,
   "id": "eadf4555-3dd3-440e-8e35-f82a4ad9f855",
   "metadata": {
    "execution": {
     "iopub.execute_input": "2025-07-28T11:00:11.961923Z",
     "iopub.status.busy": "2025-07-28T11:00:11.961363Z",
     "iopub.status.idle": "2025-07-28T11:00:12.815072Z",
     "shell.execute_reply": "2025-07-28T11:00:12.814095Z"
    },
    "papermill": {
     "duration": 0.879149,
     "end_time": "2025-07-28T11:00:12.817021",
     "exception": false,
     "start_time": "2025-07-28T11:00:11.937872",
     "status": "completed"
    },
    "tags": []
   },
   "outputs": [],
   "source": [
    "probs_calib = model.predict_proba(X_calib)"
   ]
  },
  {
   "cell_type": "code",
   "execution_count": 42,
   "id": "2ed93547-6d5d-4983-9b36-1ecb300da49a",
   "metadata": {
    "execution": {
     "iopub.execute_input": "2025-07-28T11:00:12.867452Z",
     "iopub.status.busy": "2025-07-28T11:00:12.866688Z",
     "iopub.status.idle": "2025-07-28T11:00:12.873028Z",
     "shell.execute_reply": "2025-07-28T11:00:12.871957Z"
    },
    "papermill": {
     "duration": 0.033375,
     "end_time": "2025-07-28T11:00:12.874650",
     "exception": false,
     "start_time": "2025-07-28T11:00:12.841275",
     "status": "completed"
    },
    "tags": []
   },
   "outputs": [],
   "source": [
    "y_calib = y_calib.values.ravel().astype(int)"
   ]
  },
  {
   "cell_type": "code",
   "execution_count": 43,
   "id": "65d1320d-f588-4b38-9072-62af1ae97f7d",
   "metadata": {
    "execution": {
     "iopub.execute_input": "2025-07-28T11:00:12.923867Z",
     "iopub.status.busy": "2025-07-28T11:00:12.923266Z",
     "iopub.status.idle": "2025-07-28T11:00:12.932025Z",
     "shell.execute_reply": "2025-07-28T11:00:12.930999Z"
    },
    "papermill": {
     "duration": 0.035551,
     "end_time": "2025-07-28T11:00:12.933831",
     "exception": false,
     "start_time": "2025-07-28T11:00:12.898280",
     "status": "completed"
    },
    "tags": []
   },
   "outputs": [],
   "source": [
    "from fairness_multiverse.conformal import compute_nc_scores\n",
    "\n",
    "# Compute nonconformity scores on calibration set (1 - probability of true class)\n",
    "nc_scores = compute_nc_scores(probs_calib, y_calib)"
   ]
  },
  {
   "cell_type": "code",
   "execution_count": 44,
   "id": "df3b8ca3-53b7-43d5-9667-7c85da7aeda2",
   "metadata": {
    "execution": {
     "iopub.execute_input": "2025-07-28T11:00:12.982699Z",
     "iopub.status.busy": "2025-07-28T11:00:12.982184Z",
     "iopub.status.idle": "2025-07-28T11:00:12.988929Z",
     "shell.execute_reply": "2025-07-28T11:00:12.987902Z"
    },
    "papermill": {
     "duration": 0.033303,
     "end_time": "2025-07-28T11:00:12.990661",
     "exception": false,
     "start_time": "2025-07-28T11:00:12.957358",
     "status": "completed"
    },
    "tags": []
   },
   "outputs": [],
   "source": [
    "from fairness_multiverse.conformal import find_threshold\n",
    "\n",
    "# Find conformal threshold q_hat for the given alpha (split conformal method)\n",
    "q_hat = find_threshold(nc_scores, alpha)"
   ]
  },
  {
   "cell_type": "code",
   "execution_count": 45,
   "id": "4d29e6c1-0ef6-4aa4-b8fe-4fe79b0d033a",
   "metadata": {
    "execution": {
     "iopub.execute_input": "2025-07-28T11:00:13.039257Z",
     "iopub.status.busy": "2025-07-28T11:00:13.038796Z",
     "iopub.status.idle": "2025-07-28T11:00:13.055194Z",
     "shell.execute_reply": "2025-07-28T11:00:13.054220Z"
    },
    "papermill": {
     "duration": 0.042246,
     "end_time": "2025-07-28T11:00:13.056985",
     "exception": false,
     "start_time": "2025-07-28T11:00:13.014739",
     "status": "completed"
    },
    "tags": []
   },
   "outputs": [
    {
     "data": {
      "text/plain": [
       "0.6610836427403977"
      ]
     },
     "execution_count": 45,
     "metadata": {},
     "output_type": "execute_result"
    }
   ],
   "source": [
    "q_hat"
   ]
  },
  {
   "cell_type": "code",
   "execution_count": 46,
   "id": "92460794-cdac-4be2-ba28-f28c0515a6fb",
   "metadata": {
    "execution": {
     "iopub.execute_input": "2025-07-28T11:00:13.105849Z",
     "iopub.status.busy": "2025-07-28T11:00:13.105332Z",
     "iopub.status.idle": "2025-07-28T11:00:15.044823Z",
     "shell.execute_reply": "2025-07-28T11:00:15.043791Z"
    },
    "papermill": {
     "duration": 1.965308,
     "end_time": "2025-07-28T11:00:15.046635",
     "exception": false,
     "start_time": "2025-07-28T11:00:13.081327",
     "status": "completed"
    },
    "tags": []
   },
   "outputs": [],
   "source": [
    "from fairness_multiverse.conformal import predict_conformal_sets\n",
    "\n",
    "# Generate prediction sets for each test example\n",
    "pred_sets = predict_conformal_sets(model, X_test, q_hat)"
   ]
  },
  {
   "cell_type": "code",
   "execution_count": 47,
   "id": "d90c9a65-e6db-4f5d-80cd-e68fb7e46829",
   "metadata": {
    "execution": {
     "iopub.execute_input": "2025-07-28T11:00:15.094272Z",
     "iopub.status.busy": "2025-07-28T11:00:15.093727Z",
     "iopub.status.idle": "2025-07-28T11:00:15.099838Z",
     "shell.execute_reply": "2025-07-28T11:00:15.098850Z"
    },
    "papermill": {
     "duration": 0.031517,
     "end_time": "2025-07-28T11:00:15.101542",
     "exception": false,
     "start_time": "2025-07-28T11:00:15.070025",
     "status": "completed"
    },
    "tags": []
   },
   "outputs": [],
   "source": [
    "y_true = y_true.squeeze()"
   ]
  },
  {
   "cell_type": "code",
   "execution_count": 48,
   "id": "3a58a54a-1e68-46b9-927a-df01f18aebc8",
   "metadata": {
    "execution": {
     "iopub.execute_input": "2025-07-28T11:00:15.153059Z",
     "iopub.status.busy": "2025-07-28T11:00:15.152351Z",
     "iopub.status.idle": "2025-07-28T11:00:16.213963Z",
     "shell.execute_reply": "2025-07-28T11:00:16.212818Z"
    },
    "papermill": {
     "duration": 1.090641,
     "end_time": "2025-07-28T11:00:16.216177",
     "exception": false,
     "start_time": "2025-07-28T11:00:15.125536",
     "status": "completed"
    },
    "tags": []
   },
   "outputs": [],
   "source": [
    "from fairness_multiverse.conformal import evaluate_sets\n",
    "\n",
    "# Evaluate coverage and average set size on test data\n",
    "metrics = evaluate_sets(pred_sets, y_true)"
   ]
  },
  {
   "cell_type": "markdown",
   "id": "2b569c12-9aaa-4c88-98c9-bbcd0cf3ebb8",
   "metadata": {
    "papermill": {
     "duration": 0.025731,
     "end_time": "2025-07-28T11:00:16.271024",
     "exception": false,
     "start_time": "2025-07-28T11:00:16.245293",
     "status": "completed"
    },
    "tags": []
   },
   "source": [
    "# CP Metrics"
   ]
  },
  {
   "cell_type": "code",
   "execution_count": 49,
   "id": "5ce0a5cb-201f-45a0-ade5-94c7f0bd6095",
   "metadata": {
    "execution": {
     "iopub.execute_input": "2025-07-28T11:00:16.324914Z",
     "iopub.status.busy": "2025-07-28T11:00:16.324313Z",
     "iopub.status.idle": "2025-07-28T11:00:16.332171Z",
     "shell.execute_reply": "2025-07-28T11:00:16.331046Z"
    },
    "papermill": {
     "duration": 0.036924,
     "end_time": "2025-07-28T11:00:16.334166",
     "exception": false,
     "start_time": "2025-07-28T11:00:16.297242",
     "status": "completed"
    },
    "tags": []
   },
   "outputs": [
    {
     "data": {
      "text/plain": [
       "{'coverage': 0.9107122951733363, 'avg_size': 1.1083268308995653}"
      ]
     },
     "execution_count": 49,
     "metadata": {},
     "output_type": "execute_result"
    }
   ],
   "source": [
    "metrics"
   ]
  },
  {
   "cell_type": "code",
   "execution_count": 50,
   "id": "9b9a838d-31c9-430b-ae14-12baee460d17",
   "metadata": {
    "execution": {
     "iopub.execute_input": "2025-07-28T11:00:16.387326Z",
     "iopub.status.busy": "2025-07-28T11:00:16.386887Z",
     "iopub.status.idle": "2025-07-28T11:00:16.393806Z",
     "shell.execute_reply": "2025-07-28T11:00:16.392777Z"
    },
    "papermill": {
     "duration": 0.035406,
     "end_time": "2025-07-28T11:00:16.395475",
     "exception": false,
     "start_time": "2025-07-28T11:00:16.360069",
     "status": "completed"
    },
    "tags": []
   },
   "outputs": [],
   "source": [
    "example_universe = universe.copy()\n",
    "universe_training_size = example_universe.get(\"training_size\")\n",
    "universe_scale = example_universe.get(\"scale\")\n",
    "universe_model = example_universe.get(\"model\")\n",
    "universe_exclude_features = example_universe.get(\"exclude_features\")\n",
    "universe_exclude_subgroups = example_universe.get(\"exclude_subgroups\")"
   ]
  },
  {
   "cell_type": "code",
   "execution_count": 51,
   "id": "f4b6a8ac-9dc0-4245-8a91-5b3b5999c4f9",
   "metadata": {
    "execution": {
     "iopub.execute_input": "2025-07-28T11:00:16.449334Z",
     "iopub.status.busy": "2025-07-28T11:00:16.448588Z",
     "iopub.status.idle": "2025-07-28T11:00:16.456681Z",
     "shell.execute_reply": "2025-07-28T11:00:16.455498Z"
    },
    "papermill": {
     "duration": 0.03727,
     "end_time": "2025-07-28T11:00:16.458658",
     "exception": false,
     "start_time": "2025-07-28T11:00:16.421388",
     "status": "completed"
    },
    "tags": []
   },
   "outputs": [],
   "source": [
    "cp_metrics_dict = {\n",
    "    \"universe_id\": [universe_id],\n",
    "    \"universe_training_size\": [universe_training_size],\n",
    "    \"universe_scale\": [universe_scale],\n",
    "    \"universe_model\": [universe_model],\n",
    "    \"universe_exclude_features\": [universe_exclude_features],\n",
    "    \"universe_exclude_subgroups\": [universe_exclude_subgroups],\n",
    "    \"q_hat\": [q_hat],\n",
    "    \"coverage\": [metrics[\"coverage\"]],\n",
    "    \"avg_size\": [metrics[\"avg_size\"]],\n",
    "}"
   ]
  },
  {
   "cell_type": "code",
   "execution_count": 52,
   "id": "908acbb1-0371-4915-85ca-3fa520d2efe2",
   "metadata": {
    "execution": {
     "iopub.execute_input": "2025-07-28T11:00:16.513623Z",
     "iopub.status.busy": "2025-07-28T11:00:16.512907Z",
     "iopub.status.idle": "2025-07-28T11:00:16.521472Z",
     "shell.execute_reply": "2025-07-28T11:00:16.520476Z"
    },
    "papermill": {
     "duration": 0.037675,
     "end_time": "2025-07-28T11:00:16.522998",
     "exception": false,
     "start_time": "2025-07-28T11:00:16.485323",
     "status": "completed"
    },
    "tags": []
   },
   "outputs": [
    {
     "data": {
      "text/plain": [
       "{'universe_id': ['58c569d099d7945cb382c1199f1a956a'],\n",
       " 'universe_training_size': ['2014'],\n",
       " 'universe_scale': ['scale'],\n",
       " 'universe_model': ['gbm'],\n",
       " 'universe_exclude_features': ['sex'],\n",
       " 'universe_exclude_subgroups': ['keep-all'],\n",
       " 'q_hat': [0.6610836427403977],\n",
       " 'coverage': [0.9107122951733363],\n",
       " 'avg_size': [1.1083268308995653]}"
      ]
     },
     "execution_count": 52,
     "metadata": {},
     "output_type": "execute_result"
    }
   ],
   "source": [
    "cp_metrics_dict"
   ]
  },
  {
   "cell_type": "code",
   "execution_count": 53,
   "id": "33007efc-14e9-4ec6-97ac-56a455c82265",
   "metadata": {
    "execution": {
     "iopub.execute_input": "2025-07-28T11:00:16.578162Z",
     "iopub.status.busy": "2025-07-28T11:00:16.576837Z",
     "iopub.status.idle": "2025-07-28T11:00:16.584461Z",
     "shell.execute_reply": "2025-07-28T11:00:16.583373Z"
    },
    "papermill": {
     "duration": 0.037107,
     "end_time": "2025-07-28T11:00:16.586309",
     "exception": false,
     "start_time": "2025-07-28T11:00:16.549202",
     "status": "completed"
    },
    "tags": []
   },
   "outputs": [],
   "source": [
    "cp_metrics_df = pd.DataFrame(cp_metrics_dict)"
   ]
  },
  {
   "cell_type": "code",
   "execution_count": 54,
   "id": "db12611b-57b2-4910-b9d0-355adfd6e7bf",
   "metadata": {
    "execution": {
     "iopub.execute_input": "2025-07-28T11:00:16.643114Z",
     "iopub.status.busy": "2025-07-28T11:00:16.642590Z",
     "iopub.status.idle": "2025-07-28T11:00:16.662872Z",
     "shell.execute_reply": "2025-07-28T11:00:16.661794Z"
    },
    "papermill": {
     "duration": 0.050498,
     "end_time": "2025-07-28T11:00:16.664782",
     "exception": false,
     "start_time": "2025-07-28T11:00:16.614284",
     "status": "completed"
    },
    "tags": []
   },
   "outputs": [
    {
     "data": {
      "text/html": [
       "<div>\n",
       "<style scoped>\n",
       "    .dataframe tbody tr th:only-of-type {\n",
       "        vertical-align: middle;\n",
       "    }\n",
       "\n",
       "    .dataframe tbody tr th {\n",
       "        vertical-align: top;\n",
       "    }\n",
       "\n",
       "    .dataframe thead th {\n",
       "        text-align: right;\n",
       "    }\n",
       "</style>\n",
       "<table border=\"1\" class=\"dataframe\">\n",
       "  <thead>\n",
       "    <tr style=\"text-align: right;\">\n",
       "      <th></th>\n",
       "      <th>universe_id</th>\n",
       "      <th>universe_training_size</th>\n",
       "      <th>universe_scale</th>\n",
       "      <th>universe_model</th>\n",
       "      <th>universe_exclude_features</th>\n",
       "      <th>universe_exclude_subgroups</th>\n",
       "      <th>q_hat</th>\n",
       "      <th>coverage</th>\n",
       "      <th>avg_size</th>\n",
       "    </tr>\n",
       "  </thead>\n",
       "  <tbody>\n",
       "    <tr>\n",
       "      <th>0</th>\n",
       "      <td>58c569d099d7945cb382c1199f1a956a</td>\n",
       "      <td>2014</td>\n",
       "      <td>scale</td>\n",
       "      <td>gbm</td>\n",
       "      <td>sex</td>\n",
       "      <td>keep-all</td>\n",
       "      <td>0.661084</td>\n",
       "      <td>0.910712</td>\n",
       "      <td>1.108327</td>\n",
       "    </tr>\n",
       "  </tbody>\n",
       "</table>\n",
       "</div>"
      ],
      "text/plain": [
       "                        universe_id universe_training_size universe_scale  \\\n",
       "0  58c569d099d7945cb382c1199f1a956a                   2014          scale   \n",
       "\n",
       "  universe_model universe_exclude_features universe_exclude_subgroups  \\\n",
       "0            gbm                       sex                   keep-all   \n",
       "\n",
       "      q_hat  coverage  avg_size  \n",
       "0  0.661084  0.910712  1.108327  "
      ]
     },
     "execution_count": 54,
     "metadata": {},
     "output_type": "execute_result"
    }
   ],
   "source": [
    "cp_metrics_df"
   ]
  },
  {
   "cell_type": "code",
   "execution_count": 55,
   "id": "b7fbde55-a0a1-47e4-9af6-fe4a17fa8c61",
   "metadata": {
    "execution": {
     "iopub.execute_input": "2025-07-28T11:00:16.721680Z",
     "iopub.status.busy": "2025-07-28T11:00:16.721096Z",
     "iopub.status.idle": "2025-07-28T11:00:16.727201Z",
     "shell.execute_reply": "2025-07-28T11:00:16.726205Z"
    },
    "papermill": {
     "duration": 0.037924,
     "end_time": "2025-07-28T11:00:16.729385",
     "exception": false,
     "start_time": "2025-07-28T11:00:16.691461",
     "status": "completed"
    },
    "tags": []
   },
   "outputs": [],
   "source": [
    "# Conditional Coverage & looking at subgroups"
   ]
  },
  {
   "cell_type": "code",
   "execution_count": 56,
   "id": "027ae886-68dd-4141-96c7-805a5450e1ef",
   "metadata": {
    "execution": {
     "iopub.execute_input": "2025-07-28T11:00:16.786086Z",
     "iopub.status.busy": "2025-07-28T11:00:16.785444Z",
     "iopub.status.idle": "2025-07-28T11:00:17.086694Z",
     "shell.execute_reply": "2025-07-28T11:00:17.085680Z"
    },
    "papermill": {
     "duration": 0.332025,
     "end_time": "2025-07-28T11:00:17.088912",
     "exception": false,
     "start_time": "2025-07-28T11:00:16.756887",
     "status": "completed"
    },
    "tags": []
   },
   "outputs": [],
   "source": [
    "from fairness_multiverse.conformal import build_cp_groups\n",
    "\n",
    "cp_groups_df = build_cp_groups(pred_sets, y_true, X_test.index, org_test)\n",
    "#needs universe_id and setting"
   ]
  },
  {
   "cell_type": "code",
   "execution_count": 57,
   "id": "01d5802c-663a-4d1f-9d69-e036faaffbf7",
   "metadata": {
    "execution": {
     "iopub.execute_input": "2025-07-28T11:00:17.143687Z",
     "iopub.status.busy": "2025-07-28T11:00:17.143167Z",
     "iopub.status.idle": "2025-07-28T11:00:17.148715Z",
     "shell.execute_reply": "2025-07-28T11:00:17.147637Z"
    },
    "papermill": {
     "duration": 0.03495,
     "end_time": "2025-07-28T11:00:17.150659",
     "exception": false,
     "start_time": "2025-07-28T11:00:17.115709",
     "status": "completed"
    },
    "tags": []
   },
   "outputs": [],
   "source": [
    "#delete\n",
    "#cp_groups_df"
   ]
  },
  {
   "cell_type": "code",
   "execution_count": 58,
   "id": "fa424af1-d1eb-443d-b717-2d279ada8408",
   "metadata": {
    "execution": {
     "iopub.execute_input": "2025-07-28T11:00:17.207014Z",
     "iopub.status.busy": "2025-07-28T11:00:17.206452Z",
     "iopub.status.idle": "2025-07-28T11:00:17.211932Z",
     "shell.execute_reply": "2025-07-28T11:00:17.210892Z"
    },
    "papermill": {
     "duration": 0.03545,
     "end_time": "2025-07-28T11:00:17.213712",
     "exception": false,
     "start_time": "2025-07-28T11:00:17.178262",
     "status": "completed"
    },
    "tags": []
   },
   "outputs": [],
   "source": [
    "#delete\n",
    "#percentage = (cp_groups_df['nongerman_female'] == 1).mean() * 100\n",
    "#print(percentage)\n"
   ]
  },
  {
   "cell_type": "code",
   "execution_count": 59,
   "id": "6cbdab96-b2b2-45af-ad54-d0516db2e28d",
   "metadata": {
    "execution": {
     "iopub.execute_input": "2025-07-28T11:00:17.268677Z",
     "iopub.status.busy": "2025-07-28T11:00:17.267716Z",
     "iopub.status.idle": "2025-07-28T11:00:19.174235Z",
     "shell.execute_reply": "2025-07-28T11:00:19.173164Z"
    },
    "papermill": {
     "duration": 1.935549,
     "end_time": "2025-07-28T11:00:19.176227",
     "exception": false,
     "start_time": "2025-07-28T11:00:17.240678",
     "status": "completed"
    },
    "tags": []
   },
   "outputs": [],
   "source": [
    "# Define covered = 1 if true_label is in the predicted set\n",
    "cp_groups_df['covered'] = cp_groups_df.apply(\n",
    "    lambda r: int(r['true_label'] in r['pred_set']),\n",
    "    axis=1\n",
    ")"
   ]
  },
  {
   "cell_type": "code",
   "execution_count": 60,
   "id": "338ff529-1a6b-4b87-a931-8e4788d52aad",
   "metadata": {
    "execution": {
     "iopub.execute_input": "2025-07-28T11:00:19.229841Z",
     "iopub.status.busy": "2025-07-28T11:00:19.228859Z",
     "iopub.status.idle": "2025-07-28T11:00:19.234578Z",
     "shell.execute_reply": "2025-07-28T11:00:19.233588Z"
    },
    "papermill": {
     "duration": 0.033064,
     "end_time": "2025-07-28T11:00:19.236302",
     "exception": false,
     "start_time": "2025-07-28T11:00:19.203238",
     "status": "completed"
    },
    "tags": []
   },
   "outputs": [],
   "source": [
    "#cp_groups_df"
   ]
  },
  {
   "cell_type": "code",
   "execution_count": 61,
   "id": "90032e27-66df-4540-9169-4e89cfbaa758",
   "metadata": {
    "execution": {
     "iopub.execute_input": "2025-07-28T11:00:19.288284Z",
     "iopub.status.busy": "2025-07-28T11:00:19.287539Z",
     "iopub.status.idle": "2025-07-28T11:00:19.299340Z",
     "shell.execute_reply": "2025-07-28T11:00:19.298398Z"
    },
    "papermill": {
     "duration": 0.039691,
     "end_time": "2025-07-28T11:00:19.301279",
     "exception": false,
     "start_time": "2025-07-28T11:00:19.261588",
     "status": "completed"
    },
    "tags": []
   },
   "outputs": [],
   "source": [
    "subgroups = ['frau1','nongerman','nongerman_male','nongerman_female']\n",
    "\n",
    "# Conditional coverage for subgroup==1\n",
    "cond_coverage = {\n",
    "    g: cp_groups_df.loc[cp_groups_df[g]==1, 'covered'].mean()\n",
    "    for g in subgroups\n",
    "}"
   ]
  },
  {
   "cell_type": "code",
   "execution_count": 62,
   "id": "1e348fb1-b9c3-45bc-ba23-f016827a7e0d",
   "metadata": {
    "execution": {
     "iopub.execute_input": "2025-07-28T11:00:19.357620Z",
     "iopub.status.busy": "2025-07-28T11:00:19.356881Z",
     "iopub.status.idle": "2025-07-28T11:00:19.364614Z",
     "shell.execute_reply": "2025-07-28T11:00:19.363594Z"
    },
    "papermill": {
     "duration": 0.037103,
     "end_time": "2025-07-28T11:00:19.366331",
     "exception": false,
     "start_time": "2025-07-28T11:00:19.329228",
     "status": "completed"
    },
    "tags": []
   },
   "outputs": [
    {
     "data": {
      "text/plain": [
       "{'frau1': 0.9123331985442782,\n",
       " 'nongerman': 0.9088306293156684,\n",
       " 'nongerman_male': 0.9232639827073764,\n",
       " 'nongerman_female': 0.8849478390461997}"
      ]
     },
     "execution_count": 62,
     "metadata": {},
     "output_type": "execute_result"
    }
   ],
   "source": [
    "cond_coverage"
   ]
  },
  {
   "cell_type": "code",
   "execution_count": 63,
   "id": "f5093324-c3dd-4d63-bc4c-8d945e5c8bbb",
   "metadata": {
    "execution": {
     "iopub.execute_input": "2025-07-28T11:00:19.423003Z",
     "iopub.status.busy": "2025-07-28T11:00:19.422485Z",
     "iopub.status.idle": "2025-07-28T11:00:19.430028Z",
     "shell.execute_reply": "2025-07-28T11:00:19.429006Z"
    },
    "papermill": {
     "duration": 0.03798,
     "end_time": "2025-07-28T11:00:19.431939",
     "exception": false,
     "start_time": "2025-07-28T11:00:19.393959",
     "status": "completed"
    },
    "tags": []
   },
   "outputs": [],
   "source": [
    "for subgroup, cov in cond_coverage.items():\n",
    "    cp_metrics_df[f\"cov_{subgroup}\"] = cov"
   ]
  },
  {
   "cell_type": "code",
   "execution_count": 64,
   "id": "6e872e10-dbe5-49e8-b554-5030c98ff75d",
   "metadata": {
    "execution": {
     "iopub.execute_input": "2025-07-28T11:00:19.488634Z",
     "iopub.status.busy": "2025-07-28T11:00:19.488086Z",
     "iopub.status.idle": "2025-07-28T11:00:19.507787Z",
     "shell.execute_reply": "2025-07-28T11:00:19.506675Z"
    },
    "papermill": {
     "duration": 0.048862,
     "end_time": "2025-07-28T11:00:19.509454",
     "exception": false,
     "start_time": "2025-07-28T11:00:19.460592",
     "status": "completed"
    },
    "tags": []
   },
   "outputs": [
    {
     "data": {
      "text/html": [
       "<div>\n",
       "<style scoped>\n",
       "    .dataframe tbody tr th:only-of-type {\n",
       "        vertical-align: middle;\n",
       "    }\n",
       "\n",
       "    .dataframe tbody tr th {\n",
       "        vertical-align: top;\n",
       "    }\n",
       "\n",
       "    .dataframe thead th {\n",
       "        text-align: right;\n",
       "    }\n",
       "</style>\n",
       "<table border=\"1\" class=\"dataframe\">\n",
       "  <thead>\n",
       "    <tr style=\"text-align: right;\">\n",
       "      <th></th>\n",
       "      <th>universe_id</th>\n",
       "      <th>universe_training_size</th>\n",
       "      <th>universe_scale</th>\n",
       "      <th>universe_model</th>\n",
       "      <th>universe_exclude_features</th>\n",
       "      <th>universe_exclude_subgroups</th>\n",
       "      <th>q_hat</th>\n",
       "      <th>coverage</th>\n",
       "      <th>avg_size</th>\n",
       "      <th>cov_frau1</th>\n",
       "      <th>cov_nongerman</th>\n",
       "      <th>cov_nongerman_male</th>\n",
       "      <th>cov_nongerman_female</th>\n",
       "    </tr>\n",
       "  </thead>\n",
       "  <tbody>\n",
       "    <tr>\n",
       "      <th>0</th>\n",
       "      <td>58c569d099d7945cb382c1199f1a956a</td>\n",
       "      <td>2014</td>\n",
       "      <td>scale</td>\n",
       "      <td>gbm</td>\n",
       "      <td>sex</td>\n",
       "      <td>keep-all</td>\n",
       "      <td>0.661084</td>\n",
       "      <td>0.910712</td>\n",
       "      <td>1.108327</td>\n",
       "      <td>0.912333</td>\n",
       "      <td>0.908831</td>\n",
       "      <td>0.923264</td>\n",
       "      <td>0.884948</td>\n",
       "    </tr>\n",
       "  </tbody>\n",
       "</table>\n",
       "</div>"
      ],
      "text/plain": [
       "                        universe_id universe_training_size universe_scale  \\\n",
       "0  58c569d099d7945cb382c1199f1a956a                   2014          scale   \n",
       "\n",
       "  universe_model universe_exclude_features universe_exclude_subgroups  \\\n",
       "0            gbm                       sex                   keep-all   \n",
       "\n",
       "      q_hat  coverage  avg_size  cov_frau1  cov_nongerman  cov_nongerman_male  \\\n",
       "0  0.661084  0.910712  1.108327   0.912333       0.908831            0.923264   \n",
       "\n",
       "   cov_nongerman_female  \n",
       "0              0.884948  "
      ]
     },
     "execution_count": 64,
     "metadata": {},
     "output_type": "execute_result"
    }
   ],
   "source": [
    "cp_metrics_df"
   ]
  },
  {
   "cell_type": "markdown",
   "id": "33774451",
   "metadata": {
    "papermill": {
     "duration": 0.024826,
     "end_time": "2025-07-28T11:00:19.560331",
     "exception": false,
     "start_time": "2025-07-28T11:00:19.535505",
     "status": "completed"
    },
    "tags": []
   },
   "source": [
    "# (Fairness) Metrics"
   ]
  },
  {
   "cell_type": "code",
   "execution_count": 65,
   "id": "debc5d62",
   "metadata": {
    "execution": {
     "iopub.execute_input": "2025-07-28T11:00:19.613870Z",
     "iopub.status.busy": "2025-07-28T11:00:19.612824Z",
     "iopub.status.idle": "2025-07-28T11:00:19.636278Z",
     "shell.execute_reply": "2025-07-28T11:00:19.635170Z"
    },
    "papermill": {
     "duration": 0.051616,
     "end_time": "2025-07-28T11:00:19.638272",
     "exception": false,
     "start_time": "2025-07-28T11:00:19.586656",
     "status": "completed"
    },
    "tags": []
   },
   "outputs": [],
   "source": [
    "# do I need to include maxdeutsch1.missing?\n",
    "\n",
    "import numpy as np\n",
    "\n",
    "colname_to_bin = \"maxdeutsch1\"\n",
    "majority_value = org_train[colname_to_bin].mode()[0]\n",
    "\n",
    "org_test[\"majmin\"] = np.where(org_test[colname_to_bin] == majority_value, \"majority\", \"minority\")"
   ]
  },
  {
   "cell_type": "code",
   "execution_count": 66,
   "id": "06a50de5",
   "metadata": {
    "execution": {
     "iopub.execute_input": "2025-07-28T11:00:19.690375Z",
     "iopub.status.busy": "2025-07-28T11:00:19.689454Z",
     "iopub.status.idle": "2025-07-28T11:00:22.809500Z",
     "shell.execute_reply": "2025-07-28T11:00:22.808517Z"
    },
    "papermill": {
     "duration": 3.148504,
     "end_time": "2025-07-28T11:00:22.811821",
     "exception": false,
     "start_time": "2025-07-28T11:00:19.663317",
     "status": "completed"
    },
    "tags": []
   },
   "outputs": [],
   "source": [
    "example_universe = universe.copy()\n",
    "example_universe[\"cutoff\"] = example_universe[\"cutoff\"][0]\n",
    "example_universe[\"eval_fairness_grouping\"] = example_universe[\"eval_fairness_grouping\"][0]\n",
    "fairness_dict, metric_frame = universe_analysis.compute_metrics(\n",
    "    example_universe,\n",
    "    y_pred_prob=probs_test,\n",
    "    y_test=y_true,\n",
    "    org_test=org_test,\n",
    ")"
   ]
  },
  {
   "cell_type": "markdown",
   "id": "f95d4e02",
   "metadata": {
    "papermill": {
     "duration": 0.02935,
     "end_time": "2025-07-28T11:00:22.868591",
     "exception": false,
     "start_time": "2025-07-28T11:00:22.839241",
     "status": "completed"
    },
    "tags": []
   },
   "source": [
    "# Overall"
   ]
  },
  {
   "cell_type": "markdown",
   "id": "bdee4871",
   "metadata": {
    "papermill": {
     "duration": 0.024326,
     "end_time": "2025-07-28T11:00:22.917591",
     "exception": false,
     "start_time": "2025-07-28T11:00:22.893265",
     "status": "completed"
    },
    "tags": []
   },
   "source": [
    "Fairness\n",
    "Main fairness target: Equalized Odds. Seems to be a better fit than equal opportunity, since we're not only interested in Y = 1. Seems to be a better fit than demographic parity, since we also care about accuracy, not just equal distribution of preds.\n",
    "\n",
    "Pick column for computation of fairness metrics\n",
    "\n",
    "Performance\n",
    "Overall performance measures, most interesting in relation to the measures split by group below"
   ]
  },
  {
   "cell_type": "code",
   "execution_count": 67,
   "id": "c4e067c6",
   "metadata": {
    "execution": {
     "iopub.execute_input": "2025-07-28T11:00:22.971838Z",
     "iopub.status.busy": "2025-07-28T11:00:22.971121Z",
     "iopub.status.idle": "2025-07-28T11:00:22.980303Z",
     "shell.execute_reply": "2025-07-28T11:00:22.979096Z"
    },
    "papermill": {
     "duration": 0.036743,
     "end_time": "2025-07-28T11:00:22.982094",
     "exception": false,
     "start_time": "2025-07-28T11:00:22.945351",
     "status": "completed"
    },
    "tags": []
   },
   "outputs": [
    {
     "data": {
      "text/plain": [
       "accuracy                   0.225070\n",
       "balanced accuracy          0.550181\n",
       "f1                         0.246382\n",
       "precision                  0.140750\n",
       "false positive rate        0.887126\n",
       "false negative rate        0.012513\n",
       "selection rate             0.900000\n",
       "count                  89710.000000\n",
       "dtype: float64"
      ]
     },
     "execution_count": 67,
     "metadata": {},
     "output_type": "execute_result"
    }
   ],
   "source": [
    "metric_frame.overall"
   ]
  },
  {
   "cell_type": "markdown",
   "id": "e968fe9d",
   "metadata": {
    "papermill": {
     "duration": 0.025463,
     "end_time": "2025-07-28T11:00:23.033763",
     "exception": false,
     "start_time": "2025-07-28T11:00:23.008300",
     "status": "completed"
    },
    "tags": []
   },
   "source": [
    "By Group"
   ]
  },
  {
   "cell_type": "code",
   "execution_count": 68,
   "id": "ec325bce",
   "metadata": {
    "execution": {
     "iopub.execute_input": "2025-07-28T11:00:23.090844Z",
     "iopub.status.busy": "2025-07-28T11:00:23.090178Z",
     "iopub.status.idle": "2025-07-28T11:00:23.106505Z",
     "shell.execute_reply": "2025-07-28T11:00:23.105466Z"
    },
    "papermill": {
     "duration": 0.049161,
     "end_time": "2025-07-28T11:00:23.108304",
     "exception": false,
     "start_time": "2025-07-28T11:00:23.059143",
     "status": "completed"
    },
    "tags": []
   },
   "outputs": [
    {
     "data": {
      "text/html": [
       "<div>\n",
       "<style scoped>\n",
       "    .dataframe tbody tr th:only-of-type {\n",
       "        vertical-align: middle;\n",
       "    }\n",
       "\n",
       "    .dataframe tbody tr th {\n",
       "        vertical-align: top;\n",
       "    }\n",
       "\n",
       "    .dataframe thead th {\n",
       "        text-align: right;\n",
       "    }\n",
       "</style>\n",
       "<table border=\"1\" class=\"dataframe\">\n",
       "  <thead>\n",
       "    <tr style=\"text-align: right;\">\n",
       "      <th></th>\n",
       "      <th>accuracy</th>\n",
       "      <th>balanced accuracy</th>\n",
       "      <th>f1</th>\n",
       "      <th>precision</th>\n",
       "      <th>false positive rate</th>\n",
       "      <th>false negative rate</th>\n",
       "      <th>selection rate</th>\n",
       "      <th>count</th>\n",
       "    </tr>\n",
       "    <tr>\n",
       "      <th>majmin</th>\n",
       "      <th></th>\n",
       "      <th></th>\n",
       "      <th></th>\n",
       "      <th></th>\n",
       "      <th></th>\n",
       "      <th></th>\n",
       "      <th></th>\n",
       "      <th></th>\n",
       "    </tr>\n",
       "  </thead>\n",
       "  <tbody>\n",
       "    <tr>\n",
       "      <th>majority</th>\n",
       "      <td>0.245309</td>\n",
       "      <td>0.559311</td>\n",
       "      <td>0.256678</td>\n",
       "      <td>0.147541</td>\n",
       "      <td>0.867483</td>\n",
       "      <td>0.013895</td>\n",
       "      <td>0.883157</td>\n",
       "      <td>69170.0</td>\n",
       "    </tr>\n",
       "    <tr>\n",
       "      <th>minority</th>\n",
       "      <td>0.156913</td>\n",
       "      <td>0.520403</td>\n",
       "      <td>0.213543</td>\n",
       "      <td>0.119638</td>\n",
       "      <td>0.952014</td>\n",
       "      <td>0.007179</td>\n",
       "      <td>0.956719</td>\n",
       "      <td>20540.0</td>\n",
       "    </tr>\n",
       "  </tbody>\n",
       "</table>\n",
       "</div>"
      ],
      "text/plain": [
       "          accuracy  balanced accuracy        f1  precision  \\\n",
       "majmin                                                       \n",
       "majority  0.245309           0.559311  0.256678   0.147541   \n",
       "minority  0.156913           0.520403  0.213543   0.119638   \n",
       "\n",
       "          false positive rate  false negative rate  selection rate    count  \n",
       "majmin                                                                       \n",
       "majority             0.867483             0.013895        0.883157  69170.0  \n",
       "minority             0.952014             0.007179        0.956719  20540.0  "
      ]
     },
     "execution_count": 68,
     "metadata": {},
     "output_type": "execute_result"
    }
   ],
   "source": [
    "metric_frame.by_group"
   ]
  },
  {
   "cell_type": "code",
   "execution_count": 69,
   "id": "a9ddbe63",
   "metadata": {
    "execution": {
     "iopub.execute_input": "2025-07-28T11:00:23.162767Z",
     "iopub.status.busy": "2025-07-28T11:00:23.162013Z",
     "iopub.status.idle": "2025-07-28T11:00:25.652052Z",
     "shell.execute_reply": "2025-07-28T11:00:25.651008Z"
    },
    "papermill": {
     "duration": 2.519235,
     "end_time": "2025-07-28T11:00:25.653999",
     "exception": false,
     "start_time": "2025-07-28T11:00:23.134764",
     "status": "completed"
    },
    "tags": []
   },
   "outputs": [
    {
     "data": {
      "text/plain": [
       "array([[<Axes: title={'center': 'accuracy'}, xlabel='majmin'>,\n",
       "        <Axes: title={'center': 'balanced accuracy'}, xlabel='majmin'>,\n",
       "        <Axes: title={'center': 'f1'}, xlabel='majmin'>],\n",
       "       [<Axes: title={'center': 'precision'}, xlabel='majmin'>,\n",
       "        <Axes: title={'center': 'false positive rate'}, xlabel='majmin'>,\n",
       "        <Axes: title={'center': 'false negative rate'}, xlabel='majmin'>],\n",
       "       [<Axes: title={'center': 'selection rate'}, xlabel='majmin'>,\n",
       "        <Axes: title={'center': 'count'}, xlabel='majmin'>,\n",
       "        <Axes: xlabel='majmin'>]], dtype=object)"
      ]
     },
     "execution_count": 69,
     "metadata": {},
     "output_type": "execute_result"
    },
    {
     "data": {
      "image/png": "[encoded data removed]",
      "text/plain": [
       "<Figure size 1200x800 with 9 Axes>"
      ]
     },
     "metadata": {},
     "output_type": "display_data"
    }
   ],
   "source": [
    "# In a graphic\n",
    "metric_frame.by_group.plot.bar(\n",
    "    subplots=True,\n",
    "    layout=[3, 3],\n",
    "    legend=False,\n",
    "    figsize=[12, 8],\n",
    "    title=\"Show all metrics\",\n",
    ")"
   ]
  },
  {
   "cell_type": "markdown",
   "id": "f57a0bac",
   "metadata": {
    "papermill": {
     "duration": 0.029886,
     "end_time": "2025-07-28T11:00:25.714049",
     "exception": false,
     "start_time": "2025-07-28T11:00:25.684163",
     "status": "completed"
    },
    "tags": []
   },
   "source": [
    "# Final Output"
   ]
  },
  {
   "cell_type": "code",
   "execution_count": 70,
   "id": "96d280a3",
   "metadata": {
    "execution": {
     "iopub.execute_input": "2025-07-28T11:00:25.776884Z",
     "iopub.status.busy": "2025-07-28T11:00:25.776205Z",
     "iopub.status.idle": "2025-07-28T11:00:25.785124Z",
     "shell.execute_reply": "2025-07-28T11:00:25.784151Z"
    },
    "papermill": {
     "duration": 0.041765,
     "end_time": "2025-07-28T11:00:25.786852",
     "exception": false,
     "start_time": "2025-07-28T11:00:25.745087",
     "status": "completed"
    },
    "tags": []
   },
   "outputs": [
    {
     "data": {
      "text/plain": [
       "4"
      ]
     },
     "execution_count": 70,
     "metadata": {},
     "output_type": "execute_result"
    }
   ],
   "source": [
    "sub_universes = universe_analysis.generate_sub_universes()\n",
    "len(sub_universes)"
   ]
  },
  {
   "cell_type": "code",
   "execution_count": 71,
   "id": "92adf7ba",
   "metadata": {
    "execution": {
     "iopub.execute_input": "2025-07-28T11:00:25.849833Z",
     "iopub.status.busy": "2025-07-28T11:00:25.848919Z",
     "iopub.status.idle": "2025-07-28T11:00:25.855434Z",
     "shell.execute_reply": "2025-07-28T11:00:25.854454Z"
    },
    "papermill": {
     "duration": 0.040254,
     "end_time": "2025-07-28T11:00:25.857262",
     "exception": false,
     "start_time": "2025-07-28T11:00:25.817008",
     "status": "completed"
    },
    "tags": []
   },
   "outputs": [],
   "source": [
    "def filter_sub_universe_data(sub_universe, org_test):\n",
    "    # Keep all rows — no filtering\n",
    "    keep_rows_mask = np.ones(org_test.shape[0], dtype=bool)\n",
    "\n",
    "    print(f\"[INFO] Keeping all rows: {keep_rows_mask.sum()} rows retained.\")\n",
    "    return keep_rows_mask"
   ]
  },
  {
   "cell_type": "code",
   "execution_count": 72,
   "id": "4a759155",
   "metadata": {
    "execution": {
     "iopub.execute_input": "2025-07-28T11:00:25.919525Z",
     "iopub.status.busy": "2025-07-28T11:00:25.918861Z",
     "iopub.status.idle": "2025-07-28T11:00:35.827830Z",
     "shell.execute_reply": "2025-07-28T11:00:35.826796Z"
    },
    "papermill": {
     "duration": 9.942509,
     "end_time": "2025-07-28T11:00:35.830242",
     "exception": false,
     "start_time": "2025-07-28T11:00:25.887733",
     "status": "completed"
    },
    "tags": []
   },
   "outputs": [
    {
     "name": "stdout",
     "output_type": "stream",
     "text": [
      "Stopping execution_time clock.\n",
      "[INFO] Keeping all rows: 89710 rows retained.\n"
     ]
    },
    {
     "name": "stdout",
     "output_type": "stream",
     "text": [
      "[INFO] Keeping all rows: 89710 rows retained.\n"
     ]
    },
    {
     "name": "stdout",
     "output_type": "stream",
     "text": [
      "[INFO] Keeping all rows: 89710 rows retained.\n"
     ]
    },
    {
     "name": "stdout",
     "output_type": "stream",
     "text": [
      "[INFO] Keeping all rows: 89710 rows retained.\n"
     ]
    },
    {
     "data": {
      "text/html": [
       "<div>\n",
       "<style scoped>\n",
       "    .dataframe tbody tr th:only-of-type {\n",
       "        vertical-align: middle;\n",
       "    }\n",
       "\n",
       "    .dataframe tbody tr th {\n",
       "        vertical-align: top;\n",
       "    }\n",
       "\n",
       "    .dataframe thead th {\n",
       "        text-align: right;\n",
       "    }\n",
       "</style>\n",
       "<table border=\"1\" class=\"dataframe\">\n",
       "  <thead>\n",
       "    <tr style=\"text-align: right;\">\n",
       "      <th></th>\n",
       "      <th>run_no</th>\n",
       "      <th>universe_id</th>\n",
       "      <th>universe_settings</th>\n",
       "      <th>execution_time</th>\n",
       "      <th>test_size_n</th>\n",
       "      <th>test_size_frac</th>\n",
       "      <th>fair_main_equalized_odds_difference</th>\n",
       "      <th>fair_main_equalized_odds_ratio</th>\n",
       "      <th>fair_main_demographic_parity_difference</th>\n",
       "      <th>fair_main_demographic_parity_ratio</th>\n",
       "      <th>...</th>\n",
       "      <th>perf_grp_precision_0</th>\n",
       "      <th>perf_grp_precision_1</th>\n",
       "      <th>perf_grp_false positive rate_0</th>\n",
       "      <th>perf_grp_false positive rate_1</th>\n",
       "      <th>perf_grp_false negative rate_0</th>\n",
       "      <th>perf_grp_false negative rate_1</th>\n",
       "      <th>perf_grp_selection rate_0</th>\n",
       "      <th>perf_grp_selection rate_1</th>\n",
       "      <th>perf_grp_count_0</th>\n",
       "      <th>perf_grp_count_1</th>\n",
       "    </tr>\n",
       "  </thead>\n",
       "  <tbody>\n",
       "    <tr>\n",
       "      <th>0</th>\n",
       "      <td>11</td>\n",
       "      <td>58c569d099d7945cb382c1199f1a956a</td>\n",
       "      <td>{\"cutoff\": \"quantile_0.1\", \"eval_fairness_grou...</td>\n",
       "      <td>139.75623</td>\n",
       "      <td>89710</td>\n",
       "      <td>1.0</td>\n",
       "      <td>0.084531</td>\n",
       "      <td>0.911208</td>\n",
       "      <td>0.073561</td>\n",
       "      <td>0.923111</td>\n",
       "      <td>...</td>\n",
       "      <td>NaN</td>\n",
       "      <td>NaN</td>\n",
       "      <td>NaN</td>\n",
       "      <td>NaN</td>\n",
       "      <td>NaN</td>\n",
       "      <td>NaN</td>\n",
       "      <td>NaN</td>\n",
       "      <td>NaN</td>\n",
       "      <td>NaN</td>\n",
       "      <td>NaN</td>\n",
       "    </tr>\n",
       "    <tr>\n",
       "      <th>0</th>\n",
       "      <td>11</td>\n",
       "      <td>58c569d099d7945cb382c1199f1a956a</td>\n",
       "      <td>{\"cutoff\": \"quantile_0.1\", \"eval_fairness_grou...</td>\n",
       "      <td>139.75623</td>\n",
       "      <td>89710</td>\n",
       "      <td>1.0</td>\n",
       "      <td>0.084531</td>\n",
       "      <td>0.911208</td>\n",
       "      <td>0.073561</td>\n",
       "      <td>0.923111</td>\n",
       "      <td>...</td>\n",
       "      <td>0.119638</td>\n",
       "      <td>0.147541</td>\n",
       "      <td>0.952014</td>\n",
       "      <td>0.867483</td>\n",
       "      <td>0.007179</td>\n",
       "      <td>0.013895</td>\n",
       "      <td>0.956719</td>\n",
       "      <td>0.883157</td>\n",
       "      <td>20540.0</td>\n",
       "      <td>69170.0</td>\n",
       "    </tr>\n",
       "    <tr>\n",
       "      <th>0</th>\n",
       "      <td>11</td>\n",
       "      <td>58c569d099d7945cb382c1199f1a956a</td>\n",
       "      <td>{\"cutoff\": \"quantile_0.25\", \"eval_fairness_gro...</td>\n",
       "      <td>139.75623</td>\n",
       "      <td>89710</td>\n",
       "      <td>1.0</td>\n",
       "      <td>0.082582</td>\n",
       "      <td>0.894652</td>\n",
       "      <td>0.066623</td>\n",
       "      <td>0.916863</td>\n",
       "      <td>...</td>\n",
       "      <td>NaN</td>\n",
       "      <td>NaN</td>\n",
       "      <td>NaN</td>\n",
       "      <td>NaN</td>\n",
       "      <td>NaN</td>\n",
       "      <td>NaN</td>\n",
       "      <td>NaN</td>\n",
       "      <td>NaN</td>\n",
       "      <td>NaN</td>\n",
       "      <td>NaN</td>\n",
       "    </tr>\n",
       "    <tr>\n",
       "      <th>0</th>\n",
       "      <td>11</td>\n",
       "      <td>58c569d099d7945cb382c1199f1a956a</td>\n",
       "      <td>{\"cutoff\": \"quantile_0.25\", \"eval_fairness_gro...</td>\n",
       "      <td>139.75623</td>\n",
       "      <td>89710</td>\n",
       "      <td>1.0</td>\n",
       "      <td>0.082582</td>\n",
       "      <td>0.894652</td>\n",
       "      <td>0.066623</td>\n",
       "      <td>0.916863</td>\n",
       "      <td>...</td>\n",
       "      <td>0.134569</td>\n",
       "      <td>0.171619</td>\n",
       "      <td>0.783898</td>\n",
       "      <td>0.701316</td>\n",
       "      <td>0.064611</td>\n",
       "      <td>0.045733</td>\n",
       "      <td>0.801363</td>\n",
       "      <td>0.734740</td>\n",
       "      <td>20540.0</td>\n",
       "      <td>69170.0</td>\n",
       "    </tr>\n",
       "  </tbody>\n",
       "</table>\n",
       "<p>4 rows × 50 columns</p>\n",
       "</div>"
      ],
      "text/plain": [
       "  run_no                       universe_id  \\\n",
       "0     11  58c569d099d7945cb382c1199f1a956a   \n",
       "0     11  58c569d099d7945cb382c1199f1a956a   \n",
       "0     11  58c569d099d7945cb382c1199f1a956a   \n",
       "0     11  58c569d099d7945cb382c1199f1a956a   \n",
       "\n",
       "                                   universe_settings  execution_time  \\\n",
       "0  {\"cutoff\": \"quantile_0.1\", \"eval_fairness_grou...       139.75623   \n",
       "0  {\"cutoff\": \"quantile_0.1\", \"eval_fairness_grou...       139.75623   \n",
       "0  {\"cutoff\": \"quantile_0.25\", \"eval_fairness_gro...       139.75623   \n",
       "0  {\"cutoff\": \"quantile_0.25\", \"eval_fairness_gro...       139.75623   \n",
       "\n",
       "   test_size_n  test_size_frac  fair_main_equalized_odds_difference  \\\n",
       "0        89710             1.0                             0.084531   \n",
       "0        89710             1.0                             0.084531   \n",
       "0        89710             1.0                             0.082582   \n",
       "0        89710             1.0                             0.082582   \n",
       "\n",
       "   fair_main_equalized_odds_ratio  fair_main_demographic_parity_difference  \\\n",
       "0                        0.911208                                 0.073561   \n",
       "0                        0.911208                                 0.073561   \n",
       "0                        0.894652                                 0.066623   \n",
       "0                        0.894652                                 0.066623   \n",
       "\n",
       "   fair_main_demographic_parity_ratio  ...  perf_grp_precision_0  \\\n",
       "0                            0.923111  ...                   NaN   \n",
       "0                            0.923111  ...              0.119638   \n",
       "0                            0.916863  ...                   NaN   \n",
       "0                            0.916863  ...              0.134569   \n",
       "\n",
       "   perf_grp_precision_1  perf_grp_false positive rate_0  \\\n",
       "0                   NaN                             NaN   \n",
       "0              0.147541                        0.952014   \n",
       "0                   NaN                             NaN   \n",
       "0              0.171619                        0.783898   \n",
       "\n",
       "   perf_grp_false positive rate_1  perf_grp_false negative rate_0  \\\n",
       "0                             NaN                             NaN   \n",
       "0                        0.867483                        0.007179   \n",
       "0                             NaN                             NaN   \n",
       "0                        0.701316                        0.064611   \n",
       "\n",
       "   perf_grp_false negative rate_1  perf_grp_selection rate_0  \\\n",
       "0                             NaN                        NaN   \n",
       "0                        0.013895                   0.956719   \n",
       "0                             NaN                        NaN   \n",
       "0                        0.045733                   0.801363   \n",
       "\n",
       "   perf_grp_selection rate_1  perf_grp_count_0  perf_grp_count_1  \n",
       "0                        NaN               NaN               NaN  \n",
       "0                   0.883157           20540.0           69170.0  \n",
       "0                        NaN               NaN               NaN  \n",
       "0                   0.734740           20540.0           69170.0  \n",
       "\n",
       "[4 rows x 50 columns]"
      ]
     },
     "execution_count": 72,
     "metadata": {},
     "output_type": "execute_result"
    }
   ],
   "source": [
    "final_output = universe_analysis.generate_final_output(\n",
    "    y_pred_prob=probs_test,\n",
    "    y_test=y_true,\n",
    "    org_test=org_test,\n",
    "    filter_data=filter_sub_universe_data,\n",
    "    cp_metrics_df=cp_metrics_df,\n",
    "    save=True,\n",
    ")\n",
    "final_output"
   ]
  },
  {
   "cell_type": "code",
   "execution_count": null,
   "id": "721ff514-cb11-46f8-b6fc-50392f74b5cb",
   "metadata": {
    "papermill": {
     "duration": 0.038768,
     "end_time": "2025-07-28T11:00:35.909368",
     "exception": false,
     "start_time": "2025-07-28T11:00:35.870600",
     "status": "completed"
    },
    "tags": []
   },
   "outputs": [],
   "source": []
  }
 ],
 "metadata": {
  "celltoolbar": "Tags",
  "kernelspec": {
   "display_name": "Python (CMA Fairness)",
   "language": "python",
   "name": "cma_fair_env"
  },
  "language_info": {
   "codemirror_mode": {
    "name": "ipython",
    "version": 3
   },
   "file_extension": ".py",
   "mimetype": "text/x-python",
   "name": "python",
   "nbconvert_exporter": "python",
   "pygments_lexer": "ipython3",
   "version": "3.10.12"
  },
  "papermill": {
   "default_parameters": {},
   "duration": 154.59611,
   "end_time": "2025-07-28T11:00:37.070591",
   "environment_variables": {},
   "exception": null,
   "input_path": "universe_analysis.ipynb",
   "output_path": "output/runs/11/notebooks/m_11-58c569d099d7945cb382c1199f1a956a.ipynb",
   "parameters": {
    "output_dir": "output",
    "run_no": "11",
    "seed": "2023",
    "universe": "{\"cutoff\": [\"quantile_0.1\", \"quantile_0.25\"], \"eval_fairness_grouping\": [\"majority-minority\", \"nationality-all\"], \"exclude_features\": \"sex\", \"exclude_subgroups\": \"keep-all\", \"model\": \"gbm\", \"scale\": \"scale\", \"training_size\": \"2014\"}",
    "universe_id": "58c569d099d7945cb382c1199f1a956a"
   },
   "start_time": "2025-07-28T10:58:02.474481",
   "version": "2.6.0"
  }
 },
 "nbformat": 4,
 "nbformat_minor": 5
}