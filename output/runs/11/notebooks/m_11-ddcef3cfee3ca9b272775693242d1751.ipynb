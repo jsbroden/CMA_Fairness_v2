{
 "cells": [
  {
   "cell_type": "code",
   "execution_count": 1,
   "id": "f159f837-637b-42ba-96b5-ec9a68c44524",
   "metadata": {
    "execution": {
     "iopub.execute_input": "2025-07-28T10:56:56.266777Z",
     "iopub.status.busy": "2025-07-28T10:56:56.266307Z",
     "iopub.status.idle": "2025-07-28T10:56:56.285435Z",
     "shell.execute_reply": "2025-07-28T10:56:56.284462Z"
    },
    "papermill": {
     "duration": 0.077203,
     "end_time": "2025-07-28T10:56:56.287463",
     "exception": false,
     "start_time": "2025-07-28T10:56:56.210260",
     "status": "completed"
    },
    "tags": []
   },
   "outputs": [
    {
     "name": "stdout",
     "output_type": "stream",
     "text": [
      "/dss/dsshome1/0C/ra93lal2/cma/CMA_Fairness_v2\n"
     ]
    },
    {
     "name": "stderr",
     "output_type": "stream",
     "text": [
      "/dss/dsshome1/0C/ra93lal2/.local/share/virtualenvs/CMA_Fairness_v2-3j10GkSs/lib/python3.10/site-packages/IPython/core/magics/osm.py:393: UserWarning: This is now an optional IPython functionality, using bookmarks requires you to install the `pickleshare` library.\n",
      "  bkms = self.shell.db.get('bookmarks', {})\n",
      "/dss/dsshome1/0C/ra93lal2/.local/share/virtualenvs/CMA_Fairness_v2-3j10GkSs/lib/python3.10/site-packages/IPython/core/magics/osm.py:417: UserWarning: This is now an optional IPython functionality, setting dhist requires you to install the `pickleshare` library.\n",
      "  self.shell.db['dhist'] = compress_dhist(dhist)[-100:]\n"
     ]
    }
   ],
   "source": [
    "%cd ~/cma/CMA_Fairness_v2"
   ]
  },
  {
   "cell_type": "markdown",
   "id": "de2603b9",
   "metadata": {
    "papermill": {
     "duration": 0.028528,
     "end_time": "2025-07-28T10:56:56.347209",
     "exception": false,
     "start_time": "2025-07-28T10:56:56.318681",
     "status": "completed"
    },
    "tags": []
   },
   "source": [
    "The following cell holds the definition of our parameters, these values can be overriden by rendering the with e.g. the following command:\n",
    "\n",
    "papermill -p alpha 0.2 -p ratio 0.3 universe_analysis.ipynb output/test_run.ipynb"
   ]
  },
  {
   "cell_type": "code",
   "execution_count": 2,
   "id": "a80968a0-40bb-4fa9-85ef-2d5eefb01975",
   "metadata": {
    "execution": {
     "iopub.execute_input": "2025-07-28T10:56:56.470261Z",
     "iopub.status.busy": "2025-07-28T10:56:56.469842Z",
     "iopub.status.idle": "2025-07-28T10:56:56.475928Z",
     "shell.execute_reply": "2025-07-28T10:56:56.474943Z"
    },
    "papermill": {
     "duration": 0.058446,
     "end_time": "2025-07-28T10:56:56.484157",
     "exception": false,
     "start_time": "2025-07-28T10:56:56.425711",
     "status": "completed"
    },
    "tags": []
   },
   "outputs": [
    {
     "name": "stdout",
     "output_type": "stream",
     "text": [
      "Current working directory: /dss/dsshome1/0C/ra93lal2/cma/CMA_Fairness_v2\n"
     ]
    }
   ],
   "source": [
    "import os\n",
    "print(\"Current working directory:\", os.getcwd())"
   ]
  },
  {
   "cell_type": "code",
   "execution_count": 3,
   "id": "2dce4c03",
   "metadata": {
    "execution": {
     "iopub.execute_input": "2025-07-28T10:56:56.560551Z",
     "iopub.status.busy": "2025-07-28T10:56:56.560125Z",
     "iopub.status.idle": "2025-07-28T10:56:56.568566Z",
     "shell.execute_reply": "2025-07-28T10:56:56.567332Z"
    },
    "papermill": {
     "duration": 0.050799,
     "end_time": "2025-07-28T10:56:56.578526",
     "exception": false,
     "start_time": "2025-07-28T10:56:56.527727",
     "status": "completed"
    },
    "tags": [
     "parameters"
    ]
   },
   "outputs": [],
   "source": [
    "run_no = 0\n",
    "universe_id = \"test\"\n",
    "universe = {\n",
    "    \"training_size\": \"2014\", # \"25k\", \"5k\", \"1k\", \"2014\"\n",
    "    \"scale\": \"scale\", # \"scale\", \"do-not-scale\",\n",
    "    #\"stratify_split\": \"target\", # \"none\", \"target\", \"protected-attribute\", \"both\",\n",
    "    \"model\": \"elasticnet\", # \"logreg\", \"penalized_logreg\", \"rf\", \"gbm\", \"elasticnet\"\n",
    "    \"cutoff\": [\"quantile_0.15\", \"quantile_0.30\"],\n",
    "    \"exclude_features\": \"age\", # \"none\", \"nationality\", \"sex\", \"nationality-sex\", \"age\"\n",
    "    \"exclude_subgroups\": \"keep-all\", # \"keep-all\", \"drop-non-german\"\n",
    "    \"eval_fairness_grouping\": [\"majority-minority\", \"nationality-all\"]\n",
    "}\n",
    "\n",
    "output_dir=\"./output\"\n",
    "seed=0"
   ]
  },
  {
   "cell_type": "code",
   "execution_count": 4,
   "id": "cee01d40",
   "metadata": {
    "execution": {
     "iopub.execute_input": "2025-07-28T10:56:56.697079Z",
     "iopub.status.busy": "2025-07-28T10:56:56.696686Z",
     "iopub.status.idle": "2025-07-28T10:56:56.702535Z",
     "shell.execute_reply": "2025-07-28T10:56:56.701620Z"
    },
    "papermill": {
     "duration": 0.045208,
     "end_time": "2025-07-28T10:56:56.705479",
     "exception": false,
     "start_time": "2025-07-28T10:56:56.660271",
     "status": "completed"
    },
    "tags": [
     "injected-parameters"
    ]
   },
   "outputs": [],
   "source": [
    "# Parameters\n",
    "universe_id = \"ddcef3cfee3ca9b272775693242d1751\"\n",
    "run_no = \"11\"\n",
    "universe = \"{\\\"cutoff\\\": [\\\"quantile_0.1\\\", \\\"quantile_0.25\\\"], \\\"eval_fairness_grouping\\\": [\\\"majority-minority\\\", \\\"nationality-all\\\"], \\\"exclude_features\\\": \\\"age\\\", \\\"exclude_subgroups\\\": \\\"drop-non-german\\\", \\\"model\\\": \\\"rf\\\", \\\"scale\\\": \\\"scale\\\", \\\"training_size\\\": \\\"2014\\\"}\"\n",
    "output_dir = \"output\"\n",
    "seed = \"2023\"\n"
   ]
  },
  {
   "cell_type": "code",
   "execution_count": 5,
   "id": "1650acaf",
   "metadata": {
    "execution": {
     "iopub.execute_input": "2025-07-28T10:56:56.803074Z",
     "iopub.status.busy": "2025-07-28T10:56:56.802670Z",
     "iopub.status.idle": "2025-07-28T10:56:56.808284Z",
     "shell.execute_reply": "2025-07-28T10:56:56.807240Z"
    },
    "papermill": {
     "duration": 0.036908,
     "end_time": "2025-07-28T10:56:56.811811",
     "exception": false,
     "start_time": "2025-07-28T10:56:56.774903",
     "status": "completed"
    },
    "tags": []
   },
   "outputs": [],
   "source": [
    "import json\n",
    "# Parse universe into dict if it is passed as a string\n",
    "if isinstance(universe, str):\n",
    "    universe = json.loads(universe)"
   ]
  },
  {
   "cell_type": "code",
   "execution_count": 6,
   "id": "16620c48",
   "metadata": {
    "execution": {
     "iopub.execute_input": "2025-07-28T10:56:56.877390Z",
     "iopub.status.busy": "2025-07-28T10:56:56.877106Z",
     "iopub.status.idle": "2025-07-28T10:56:56.944731Z",
     "shell.execute_reply": "2025-07-28T10:56:56.943385Z"
    },
    "papermill": {
     "duration": 0.094748,
     "end_time": "2025-07-28T10:56:56.946831",
     "exception": false,
     "start_time": "2025-07-28T10:56:56.852083",
     "status": "completed"
    },
    "tags": []
   },
   "outputs": [],
   "source": [
    "# Auto-reload the custom package\n",
    "%load_ext autoreload\n",
    "%autoreload 1\n",
    "%aimport fairness_multiverse"
   ]
  },
  {
   "cell_type": "code",
   "execution_count": 7,
   "id": "01c5c9f3",
   "metadata": {
    "execution": {
     "iopub.execute_input": "2025-07-28T10:56:57.004985Z",
     "iopub.status.busy": "2025-07-28T10:56:57.004541Z",
     "iopub.status.idle": "2025-07-28T10:57:01.131990Z",
     "shell.execute_reply": "2025-07-28T10:57:01.130615Z"
    },
    "papermill": {
     "duration": 4.153069,
     "end_time": "2025-07-28T10:57:01.134215",
     "exception": false,
     "start_time": "2025-07-28T10:56:56.981146",
     "status": "completed"
    },
    "tags": []
   },
   "outputs": [],
   "source": [
    "from fairness_multiverse.universe import UniverseAnalysis\n",
    "\n",
    "universe_analysis = UniverseAnalysis(\n",
    "    run_no = run_no,\n",
    "    universe_id = universe_id,\n",
    "    universe = universe,\n",
    "    output_dir=output_dir,\n",
    ")"
   ]
  },
  {
   "cell_type": "code",
   "execution_count": 8,
   "id": "106241f5",
   "metadata": {
    "execution": {
     "iopub.execute_input": "2025-07-28T10:57:01.250504Z",
     "iopub.status.busy": "2025-07-28T10:57:01.250036Z",
     "iopub.status.idle": "2025-07-28T10:57:01.257535Z",
     "shell.execute_reply": "2025-07-28T10:57:01.256496Z"
    },
    "papermill": {
     "duration": 0.070677,
     "end_time": "2025-07-28T10:57:01.259225",
     "exception": false,
     "start_time": "2025-07-28T10:57:01.188548",
     "status": "completed"
    },
    "tags": []
   },
   "outputs": [
    {
     "name": "stdout",
     "output_type": "stream",
     "text": [
      "Using Seed: 2023\n"
     ]
    }
   ],
   "source": [
    "import numpy as np\n",
    "parsed_seed = int(seed)\n",
    "np.random.seed(parsed_seed)\n",
    "print(f\"Using Seed: {parsed_seed}\")"
   ]
  },
  {
   "cell_type": "markdown",
   "id": "e0ebdc57",
   "metadata": {
    "papermill": {
     "duration": 0.056181,
     "end_time": "2025-07-28T10:57:01.352478",
     "exception": false,
     "start_time": "2025-07-28T10:57:01.296297",
     "status": "completed"
    },
    "tags": []
   },
   "source": [
    "# Loading Data"
   ]
  },
  {
   "cell_type": "markdown",
   "id": "681925a3",
   "metadata": {
    "papermill": {
     "duration": 0.036239,
     "end_time": "2025-07-28T10:57:01.444843",
     "exception": false,
     "start_time": "2025-07-28T10:57:01.408604",
     "status": "completed"
    },
    "tags": []
   },
   "source": [
    "Load siab_train, siab_test, siab_calib and/or \n",
    "load siab_train_features, siab_train_labels"
   ]
  },
  {
   "cell_type": "code",
   "execution_count": 9,
   "id": "f0496b8a",
   "metadata": {
    "execution": {
     "iopub.execute_input": "2025-07-28T10:57:01.534681Z",
     "iopub.status.busy": "2025-07-28T10:57:01.534245Z",
     "iopub.status.idle": "2025-07-28T10:57:20.209625Z",
     "shell.execute_reply": "2025-07-28T10:57:20.208151Z"
    },
    "papermill": {
     "duration": 18.71555,
     "end_time": "2025-07-28T10:57:20.212161",
     "exception": false,
     "start_time": "2025-07-28T10:57:01.496611",
     "status": "completed"
    },
    "tags": []
   },
   "outputs": [
    {
     "name": "stdout",
     "output_type": "stream",
     "text": [
      "Loading SIAB data from cache: data/siab_cached.csv.gz\n"
     ]
    },
    {
     "name": "stdout",
     "output_type": "stream",
     "text": [
      "(643690, 164)\n"
     ]
    }
   ],
   "source": [
    "from pathlib import Path\n",
    "import pandas as pd\n",
    "\n",
    "# File paths\n",
    "raw_file = Path(\"data/raw/siab.csv\")\n",
    "cache_file = Path(\"data/siab_cached.csv.gz\")\n",
    "\n",
    "# Ensure cache directory exists\n",
    "cache_file.parent.mkdir(parents=True, exist_ok=True)\n",
    "\n",
    "# Load with simple caching\n",
    "if cache_file.exists():\n",
    "    print(f\"Loading SIAB data from cache: {cache_file}\")\n",
    "    siab = pd.read_csv(cache_file, compression='gzip')\n",
    "else:\n",
    "    print(f\"Cache not found. Reading raw SIAB data: {raw_file}\")\n",
    "    siab = pd.read_csv(raw_file)\n",
    "    siab.to_csv(cache_file, index=False, compression='gzip')\n",
    "    print(f\"Cached SIAB data to: {cache_file}\")\n",
    "\n",
    "# Now use `siab` DataFrame as needed\n",
    "print(siab.shape)"
   ]
  },
  {
   "cell_type": "code",
   "execution_count": 10,
   "id": "db0ca512-5f53-4dba-abdb-a2888bca41ba",
   "metadata": {
    "execution": {
     "iopub.execute_input": "2025-07-28T10:57:20.323036Z",
     "iopub.status.busy": "2025-07-28T10:57:20.322527Z",
     "iopub.status.idle": "2025-07-28T10:57:20.329310Z",
     "shell.execute_reply": "2025-07-28T10:57:20.328148Z"
    },
    "papermill": {
     "duration": 0.080711,
     "end_time": "2025-07-28T10:57:20.333002",
     "exception": false,
     "start_time": "2025-07-28T10:57:20.252291",
     "status": "completed"
    },
    "tags": []
   },
   "outputs": [],
   "source": [
    "#siab"
   ]
  },
  {
   "cell_type": "code",
   "execution_count": 11,
   "id": "a0edb063",
   "metadata": {
    "execution": {
     "iopub.execute_input": "2025-07-28T10:57:20.474817Z",
     "iopub.status.busy": "2025-07-28T10:57:20.474357Z",
     "iopub.status.idle": "2025-07-28T10:57:20.480470Z",
     "shell.execute_reply": "2025-07-28T10:57:20.479321Z"
    },
    "papermill": {
     "duration": 0.075887,
     "end_time": "2025-07-28T10:57:20.484220",
     "exception": false,
     "start_time": "2025-07-28T10:57:20.408333",
     "status": "completed"
    },
    "tags": []
   },
   "outputs": [],
   "source": [
    "#import pandas as pd\n",
    "#\n",
    "#X_train = pd.read_csv(\"./data/X_train.csv\")\n",
    "#y_train = pd.read_csv(\"./data/y_train.csv\")"
   ]
  },
  {
   "cell_type": "code",
   "execution_count": 12,
   "id": "63d08085",
   "metadata": {
    "execution": {
     "iopub.execute_input": "2025-07-28T10:57:20.626752Z",
     "iopub.status.busy": "2025-07-28T10:57:20.626291Z",
     "iopub.status.idle": "2025-07-28T10:57:20.632477Z",
     "shell.execute_reply": "2025-07-28T10:57:20.631455Z"
    },
    "papermill": {
     "duration": 0.075017,
     "end_time": "2025-07-28T10:57:20.635317",
     "exception": false,
     "start_time": "2025-07-28T10:57:20.560300",
     "status": "completed"
    },
    "tags": []
   },
   "outputs": [],
   "source": [
    "#X_test = pd.read_csv(\"./data/X_test.csv\")\n",
    "#y_true = pd.read_csv(\"./data/y_test.csv\")"
   ]
  },
  {
   "cell_type": "code",
   "execution_count": 13,
   "id": "98a8d0fa-1d3d-4ed8-bb2c-281470e24add",
   "metadata": {
    "execution": {
     "iopub.execute_input": "2025-07-28T10:57:20.770337Z",
     "iopub.status.busy": "2025-07-28T10:57:20.769895Z",
     "iopub.status.idle": "2025-07-28T10:57:20.776962Z",
     "shell.execute_reply": "2025-07-28T10:57:20.775932Z"
    },
    "papermill": {
     "duration": 0.074462,
     "end_time": "2025-07-28T10:57:20.779035",
     "exception": false,
     "start_time": "2025-07-28T10:57:20.704573",
     "status": "completed"
    },
    "tags": []
   },
   "outputs": [],
   "source": [
    "# Calibration data for conformal\n",
    "#X_calib = pd.read_csv(\"./data/X_calib.csv\")\n",
    "#y_calib = pd.read_csv(\"./data/y_calib.csv\")"
   ]
  },
  {
   "cell_type": "markdown",
   "id": "9901737e-04df-44f0-9100-f5ad144ed040",
   "metadata": {
    "papermill": {
     "duration": 0.064228,
     "end_time": "2025-07-28T10:57:20.916475",
     "exception": false,
     "start_time": "2025-07-28T10:57:20.852247",
     "status": "completed"
    },
    "tags": []
   },
   "source": [
    "# Splitting Data and Setting Training Data Size"
   ]
  },
  {
   "cell_type": "code",
   "execution_count": 14,
   "id": "acbc8f7d-8fc8-4e86-8c59-5dcb0f58384b",
   "metadata": {
    "execution": {
     "iopub.execute_input": "2025-07-28T10:57:21.042755Z",
     "iopub.status.busy": "2025-07-28T10:57:21.042196Z",
     "iopub.status.idle": "2025-07-28T10:57:21.053716Z",
     "shell.execute_reply": "2025-07-28T10:57:21.052562Z"
    },
    "papermill": {
     "duration": 0.080011,
     "end_time": "2025-07-28T10:57:21.056304",
     "exception": false,
     "start_time": "2025-07-28T10:57:20.976293",
     "status": "completed"
    },
    "tags": []
   },
   "outputs": [],
   "source": [
    "def sample_by_year(df, training_size, random_state=42):\n",
    "    if training_size == \"2014\":\n",
    "        return df[df[\"year\"] == 2014].reset_index(drop=True)\n",
    "    \n",
    "    size_map = {\n",
    "        \"25k\": 5000,\n",
    "        \"5k\": 1000,\n",
    "        \"1k\": 200\n",
    "    }\n",
    "\n",
    "    if training_size not in size_map:\n",
    "        return df.reset_index(drop=True)  # use all data\n",
    "\n",
    "    n_per_year = size_map[training_size]\n",
    "    grouped = df.groupby(\"year\")\n",
    "    sampled = grouped.apply(lambda x: x.sample(n=min(n_per_year, len(x)), random_state=random_state))\n",
    "    return sampled.reset_index(drop=True)"
   ]
  },
  {
   "cell_type": "code",
   "execution_count": 15,
   "id": "6d931f52-beaf-43ff-9e78-9d44a448d54e",
   "metadata": {
    "execution": {
     "iopub.execute_input": "2025-07-28T10:57:21.194313Z",
     "iopub.status.busy": "2025-07-28T10:57:21.193883Z",
     "iopub.status.idle": "2025-07-28T10:57:21.614519Z",
     "shell.execute_reply": "2025-07-28T10:57:21.613341Z"
    },
    "papermill": {
     "duration": 0.492333,
     "end_time": "2025-07-28T10:57:21.616938",
     "exception": false,
     "start_time": "2025-07-28T10:57:21.124605",
     "status": "completed"
    },
    "tags": []
   },
   "outputs": [],
   "source": [
    "siab_s = sample_by_year(siab, universe[\"training_size\"])"
   ]
  },
  {
   "cell_type": "code",
   "execution_count": 16,
   "id": "5db0a40e-a4e2-4920-be85-b12ae061d70d",
   "metadata": {
    "execution": {
     "iopub.execute_input": "2025-07-28T10:57:21.707071Z",
     "iopub.status.busy": "2025-07-28T10:57:21.706632Z",
     "iopub.status.idle": "2025-07-28T10:57:21.743001Z",
     "shell.execute_reply": "2025-07-28T10:57:21.741903Z"
    },
    "papermill": {
     "duration": 0.091167,
     "end_time": "2025-07-28T10:57:21.745514",
     "exception": false,
     "start_time": "2025-07-28T10:57:21.654347",
     "status": "completed"
    },
    "tags": []
   },
   "outputs": [
    {
     "data": {
      "text/plain": [
       "year\n",
       "2014    87158\n",
       "dtype: int64"
      ]
     },
     "metadata": {},
     "output_type": "display_data"
    }
   ],
   "source": [
    "display(siab_s.groupby(\"year\").size())"
   ]
  },
  {
   "cell_type": "code",
   "execution_count": 17,
   "id": "a561edb4-d032-42cb-8256-22eac1111c64",
   "metadata": {
    "execution": {
     "iopub.execute_input": "2025-07-28T10:57:21.834963Z",
     "iopub.status.busy": "2025-07-28T10:57:21.834513Z",
     "iopub.status.idle": "2025-07-28T10:57:22.457534Z",
     "shell.execute_reply": "2025-07-28T10:57:22.456113Z"
    },
    "papermill": {
     "duration": 0.677357,
     "end_time": "2025-07-28T10:57:22.459885",
     "exception": false,
     "start_time": "2025-07-28T10:57:21.782528",
     "status": "completed"
    },
    "tags": []
   },
   "outputs": [],
   "source": [
    "siab_train = siab_s[siab_s.year < 2015]\n",
    "siab_calib = siab[siab.year == 2015]\n",
    "siab_test = siab[siab.year == 2016]"
   ]
  },
  {
   "cell_type": "code",
   "execution_count": 18,
   "id": "472de16f-c3db-4916-846b-1f0de9cf1746",
   "metadata": {
    "execution": {
     "iopub.execute_input": "2025-07-28T10:57:22.551791Z",
     "iopub.status.busy": "2025-07-28T10:57:22.551255Z",
     "iopub.status.idle": "2025-07-28T10:57:22.662409Z",
     "shell.execute_reply": "2025-07-28T10:57:22.661314Z"
    },
    "papermill": {
     "duration": 0.168327,
     "end_time": "2025-07-28T10:57:22.664950",
     "exception": false,
     "start_time": "2025-07-28T10:57:22.496623",
     "status": "completed"
    },
    "tags": []
   },
   "outputs": [],
   "source": [
    "X_train = siab_train.iloc[:,4:164]\n",
    "y_train = siab_train.iloc[:, [3]]"
   ]
  },
  {
   "cell_type": "code",
   "execution_count": 19,
   "id": "828c96af-f43a-4ed6-ba47-8ac73a47d56c",
   "metadata": {
    "execution": {
     "iopub.execute_input": "2025-07-28T10:57:22.750720Z",
     "iopub.status.busy": "2025-07-28T10:57:22.750244Z",
     "iopub.status.idle": "2025-07-28T10:57:22.851378Z",
     "shell.execute_reply": "2025-07-28T10:57:22.850169Z"
    },
    "papermill": {
     "duration": 0.164716,
     "end_time": "2025-07-28T10:57:22.853891",
     "exception": false,
     "start_time": "2025-07-28T10:57:22.689175",
     "status": "completed"
    },
    "tags": []
   },
   "outputs": [],
   "source": [
    "X_calib = siab_calib.iloc[:,4:164]\n",
    "y_calib = siab_calib.iloc[:, [3]]"
   ]
  },
  {
   "cell_type": "code",
   "execution_count": 20,
   "id": "c34be9c3-6bd6-476e-acd3-845840e303be",
   "metadata": {
    "execution": {
     "iopub.execute_input": "2025-07-28T10:57:22.899841Z",
     "iopub.status.busy": "2025-07-28T10:57:22.899399Z",
     "iopub.status.idle": "2025-07-28T10:57:22.958355Z",
     "shell.execute_reply": "2025-07-28T10:57:22.957355Z"
    },
    "papermill": {
     "duration": 0.084791,
     "end_time": "2025-07-28T10:57:22.960627",
     "exception": false,
     "start_time": "2025-07-28T10:57:22.875836",
     "status": "completed"
    },
    "tags": []
   },
   "outputs": [],
   "source": [
    "X_test = siab_test.iloc[:,4:164]\n",
    "y_true = siab_test.iloc[:, [3]]"
   ]
  },
  {
   "cell_type": "code",
   "execution_count": 21,
   "id": "e6c733c5",
   "metadata": {
    "execution": {
     "iopub.execute_input": "2025-07-28T10:57:23.046829Z",
     "iopub.status.busy": "2025-07-28T10:57:23.046413Z",
     "iopub.status.idle": "2025-07-28T10:57:23.329349Z",
     "shell.execute_reply": "2025-07-28T10:57:23.328312Z"
    },
    "papermill": {
     "duration": 0.348015,
     "end_time": "2025-07-28T10:57:23.331506",
     "exception": false,
     "start_time": "2025-07-28T10:57:22.983491",
     "status": "completed"
    },
    "tags": []
   },
   "outputs": [],
   "source": [
    "# Auxiliary data needed downstream in the pipeline\n",
    "\n",
    "org_train = X_train.copy()\n",
    "org_test = X_test.copy()\n",
    "org_calib = X_calib.copy()"
   ]
  },
  {
   "cell_type": "markdown",
   "id": "0a4a1b33",
   "metadata": {
    "papermill": {
     "duration": 0.041915,
     "end_time": "2025-07-28T10:57:23.411061",
     "exception": false,
     "start_time": "2025-07-28T10:57:23.369146",
     "status": "completed"
    },
    "tags": []
   },
   "source": [
    "# Preprocessing Data"
   ]
  },
  {
   "cell_type": "code",
   "execution_count": 22,
   "id": "ca879031",
   "metadata": {
    "execution": {
     "iopub.execute_input": "2025-07-28T10:57:23.505854Z",
     "iopub.status.busy": "2025-07-28T10:57:23.505380Z",
     "iopub.status.idle": "2025-07-28T10:57:23.512996Z",
     "shell.execute_reply": "2025-07-28T10:57:23.511766Z"
    },
    "papermill": {
     "duration": 0.056938,
     "end_time": "2025-07-28T10:57:23.516645",
     "exception": false,
     "start_time": "2025-07-28T10:57:23.459707",
     "status": "completed"
    },
    "tags": []
   },
   "outputs": [],
   "source": [
    "# EXCLUDE PROTECTED FEATURES\n",
    "# ----------------------\n",
    "# \"exclude_features\": \"none\", # \"nationality\", \"sex\", \"nationality-sex\"\n",
    "\n",
    "excluded_features = universe[\"exclude_features\"].split(\"-\") # split, e.g.: \"nationality-sex\" -> [\"nationality\", \"sex\"]\n",
    "excluded_features_dictionary = {\n",
    "    \"nationality\": [\"maxdeutsch1\", \"maxdeutsch.Missing.\"],\n",
    "    \"sex\": [\"frau1\"],\n",
    "    \"age\": [\"age\"],\n",
    "}\n"
   ]
  },
  {
   "cell_type": "code",
   "execution_count": 23,
   "id": "b745ac60",
   "metadata": {
    "execution": {
     "iopub.execute_input": "2025-07-28T10:57:23.613391Z",
     "iopub.status.busy": "2025-07-28T10:57:23.612950Z",
     "iopub.status.idle": "2025-07-28T10:57:23.620902Z",
     "shell.execute_reply": "2025-07-28T10:57:23.619725Z"
    },
    "papermill": {
     "duration": 0.052179,
     "end_time": "2025-07-28T10:57:23.623263",
     "exception": false,
     "start_time": "2025-07-28T10:57:23.571084",
     "status": "completed"
    },
    "tags": []
   },
   "outputs": [],
   "source": [
    "# Code nice names to column names\n",
    "\n",
    "excluded_features_columns = [\n",
    "    excluded_features_dictionary[f] for f in excluded_features if len(f) > 0 and f != \"none\"\n",
    "]"
   ]
  },
  {
   "cell_type": "code",
   "execution_count": 24,
   "id": "f84f73a2",
   "metadata": {
    "execution": {
     "iopub.execute_input": "2025-07-28T10:57:23.715967Z",
     "iopub.status.busy": "2025-07-28T10:57:23.715494Z",
     "iopub.status.idle": "2025-07-28T10:57:23.723354Z",
     "shell.execute_reply": "2025-07-28T10:57:23.722265Z"
    },
    "papermill": {
     "duration": 0.054415,
     "end_time": "2025-07-28T10:57:23.726853",
     "exception": false,
     "start_time": "2025-07-28T10:57:23.672438",
     "status": "completed"
    },
    "tags": []
   },
   "outputs": [],
   "source": [
    "from utils import flatten_once\n",
    "\n",
    "excluded_features_columns = flatten_once(excluded_features_columns)"
   ]
  },
  {
   "cell_type": "code",
   "execution_count": 25,
   "id": "884dea22",
   "metadata": {
    "execution": {
     "iopub.execute_input": "2025-07-28T10:57:23.826119Z",
     "iopub.status.busy": "2025-07-28T10:57:23.825683Z",
     "iopub.status.idle": "2025-07-28T10:57:23.931525Z",
     "shell.execute_reply": "2025-07-28T10:57:23.930395Z"
    },
    "papermill": {
     "duration": 0.160397,
     "end_time": "2025-07-28T10:57:23.933585",
     "exception": false,
     "start_time": "2025-07-28T10:57:23.773188",
     "status": "completed"
    },
    "tags": []
   },
   "outputs": [
    {
     "name": "stdout",
     "output_type": "stream",
     "text": [
      "Dropping features: ['age']\n"
     ]
    }
   ],
   "source": [
    "if len(excluded_features_columns) > 0:\n",
    "    print(f\"Dropping features: {excluded_features_columns}\")\n",
    "    X_train.drop(excluded_features_columns, axis=1, inplace=True)"
   ]
  },
  {
   "cell_type": "code",
   "execution_count": 26,
   "id": "95ab8b16",
   "metadata": {
    "execution": {
     "iopub.execute_input": "2025-07-28T10:57:24.023724Z",
     "iopub.status.busy": "2025-07-28T10:57:24.023327Z",
     "iopub.status.idle": "2025-07-28T10:57:24.129128Z",
     "shell.execute_reply": "2025-07-28T10:57:24.127972Z"
    },
    "papermill": {
     "duration": 0.152848,
     "end_time": "2025-07-28T10:57:24.133509",
     "exception": false,
     "start_time": "2025-07-28T10:57:23.980661",
     "status": "completed"
    },
    "tags": []
   },
   "outputs": [
    {
     "name": "stdout",
     "output_type": "stream",
     "text": [
      "Dropping features: ['age']\n"
     ]
    }
   ],
   "source": [
    "if len(excluded_features_columns) > 0:\n",
    "    print(f\"Dropping features: {excluded_features_columns}\")\n",
    "    X_test.drop(excluded_features_columns, axis=1, inplace=True)"
   ]
  },
  {
   "cell_type": "code",
   "execution_count": 27,
   "id": "1853aaf5-fb9f-46cb-a2b5-8ea4ae2237e4",
   "metadata": {
    "execution": {
     "iopub.execute_input": "2025-07-28T10:57:24.225521Z",
     "iopub.status.busy": "2025-07-28T10:57:24.225081Z",
     "iopub.status.idle": "2025-07-28T10:57:24.306679Z",
     "shell.execute_reply": "2025-07-28T10:57:24.305543Z"
    },
    "papermill": {
     "duration": 0.136295,
     "end_time": "2025-07-28T10:57:24.308876",
     "exception": false,
     "start_time": "2025-07-28T10:57:24.172581",
     "status": "completed"
    },
    "tags": []
   },
   "outputs": [
    {
     "name": "stdout",
     "output_type": "stream",
     "text": [
      "Dropping features: ['age']\n"
     ]
    }
   ],
   "source": [
    "if len(excluded_features_columns) > 0:\n",
    "    print(f\"Dropping features: {excluded_features_columns}\")\n",
    "    X_calib.drop(excluded_features_columns, axis=1, inplace=True)"
   ]
  },
  {
   "cell_type": "code",
   "execution_count": 28,
   "id": "6727d079-03e5-481e-9d38-292a90b7a0a8",
   "metadata": {
    "execution": {
     "iopub.execute_input": "2025-07-28T10:57:24.408461Z",
     "iopub.status.busy": "2025-07-28T10:57:24.407961Z",
     "iopub.status.idle": "2025-07-28T10:57:24.414789Z",
     "shell.execute_reply": "2025-07-28T10:57:24.413728Z"
    },
    "papermill": {
     "duration": 0.063379,
     "end_time": "2025-07-28T10:57:24.417098",
     "exception": false,
     "start_time": "2025-07-28T10:57:24.353719",
     "status": "completed"
    },
    "tags": []
   },
   "outputs": [],
   "source": [
    "# SPLIT & STRATIFY DATA\n",
    "# ----------------------"
   ]
  },
  {
   "cell_type": "code",
   "execution_count": 29,
   "id": "76c4dc6d",
   "metadata": {
    "execution": {
     "iopub.execute_input": "2025-07-28T10:57:24.520963Z",
     "iopub.status.busy": "2025-07-28T10:57:24.520503Z",
     "iopub.status.idle": "2025-07-28T10:57:24.527871Z",
     "shell.execute_reply": "2025-07-28T10:57:24.526845Z"
    },
    "papermill": {
     "duration": 0.063241,
     "end_time": "2025-07-28T10:57:24.529790",
     "exception": false,
     "start_time": "2025-07-28T10:57:24.466549",
     "status": "completed"
    },
    "tags": []
   },
   "outputs": [],
   "source": [
    "# EXCLUDE CERTAIN SUBGROUPS\n",
    "# ----------------------\n",
    "\n",
    "mode = universe.get(\"exclude_subgroups\", \"keep-all\") \n",
    "# Fetches the exclude_subgroups setting from the universe dict.\n",
    "# Defaults to \"keep-all\" if the key is missing."
   ]
  },
  {
   "cell_type": "code",
   "execution_count": 30,
   "id": "21994072",
   "metadata": {
    "execution": {
     "iopub.execute_input": "2025-07-28T10:57:24.629891Z",
     "iopub.status.busy": "2025-07-28T10:57:24.629427Z",
     "iopub.status.idle": "2025-07-28T10:57:24.638855Z",
     "shell.execute_reply": "2025-07-28T10:57:24.637619Z"
    },
    "papermill": {
     "duration": 0.051851,
     "end_time": "2025-07-28T10:57:24.640599",
     "exception": false,
     "start_time": "2025-07-28T10:57:24.588748",
     "status": "completed"
    },
    "tags": []
   },
   "outputs": [],
   "source": [
    "if mode == \"keep-all\":\n",
    "    keep_mask = pd.Series(True, index=org_train.index)\n",
    "\n",
    "# org_train contains the original feature columns from features_org (in Simson)\n",
    "# features_org contains unprocessed features, for me X_train at beginning ???\n",
    "# For keep-all, creates a boolean Series (keep_mask) of all True, so no rows are removed.\n",
    "\n",
    "elif mode == \"drop-non-german\":\n",
    "    keep_mask = org_train[\"maxdeutsch1\"] == 1 # ??? what about missing values?\n",
    "\n",
    "else:\n",
    "    raise ValueError(f\"Unsupported mode for exclude_subgroups: {mode}\")\n"
   ]
  },
  {
   "cell_type": "code",
   "execution_count": 31,
   "id": "71651440",
   "metadata": {
    "execution": {
     "iopub.execute_input": "2025-07-28T10:57:24.737218Z",
     "iopub.status.busy": "2025-07-28T10:57:24.736747Z",
     "iopub.status.idle": "2025-07-28T10:57:24.746770Z",
     "shell.execute_reply": "2025-07-28T10:57:24.745885Z"
    },
    "papermill": {
     "duration": 0.052299,
     "end_time": "2025-07-28T10:57:24.749072",
     "exception": false,
     "start_time": "2025-07-28T10:57:24.696773",
     "status": "completed"
    },
    "tags": []
   },
   "outputs": [
    {
     "name": "stdout",
     "output_type": "stream",
     "text": [
      "Dropping 12995 rows (14.91%) where mode='drop-non-german'\n"
     ]
    }
   ],
   "source": [
    "n_drop = (~keep_mask).sum() # Calculates how many rows are set to be dropped\n",
    "if n_drop > 0:\n",
    "    pct = n_drop / len(keep_mask) * 100\n",
    "    print(f\"Dropping {n_drop} rows ({pct:.2f}%) where mode='{mode}'\")"
   ]
  },
  {
   "cell_type": "code",
   "execution_count": 32,
   "id": "5fb8eee5",
   "metadata": {
    "execution": {
     "iopub.execute_input": "2025-07-28T10:57:24.850159Z",
     "iopub.status.busy": "2025-07-28T10:57:24.849638Z",
     "iopub.status.idle": "2025-07-28T10:57:24.995297Z",
     "shell.execute_reply": "2025-07-28T10:57:24.989010Z"
    },
    "papermill": {
     "duration": 0.189325,
     "end_time": "2025-07-28T10:57:24.997494",
     "exception": false,
     "start_time": "2025-07-28T10:57:24.808169",
     "status": "completed"
    },
    "tags": []
   },
   "outputs": [],
   "source": [
    "X_train = X_train[keep_mask]"
   ]
  },
  {
   "cell_type": "code",
   "execution_count": 33,
   "id": "b202bb3a",
   "metadata": {
    "execution": {
     "iopub.execute_input": "2025-07-28T10:57:25.062359Z",
     "iopub.status.busy": "2025-07-28T10:57:25.061877Z",
     "iopub.status.idle": "2025-07-28T10:57:25.071085Z",
     "shell.execute_reply": "2025-07-28T10:57:25.069921Z"
    },
    "papermill": {
     "duration": 0.037258,
     "end_time": "2025-07-28T10:57:25.074679",
     "exception": false,
     "start_time": "2025-07-28T10:57:25.037421",
     "status": "completed"
    },
    "tags": []
   },
   "outputs": [],
   "source": [
    "y_train = y_train[keep_mask]"
   ]
  },
  {
   "cell_type": "markdown",
   "id": "493e2ac3",
   "metadata": {
    "papermill": {
     "duration": 0.022748,
     "end_time": "2025-07-28T10:57:25.119511",
     "exception": false,
     "start_time": "2025-07-28T10:57:25.096763",
     "status": "completed"
    },
    "tags": []
   },
   "source": [
    "# Model Training"
   ]
  },
  {
   "cell_type": "code",
   "execution_count": 34,
   "id": "679e1268",
   "metadata": {
    "execution": {
     "iopub.execute_input": "2025-07-28T10:57:25.166383Z",
     "iopub.status.busy": "2025-07-28T10:57:25.165906Z",
     "iopub.status.idle": "2025-07-28T10:57:25.387325Z",
     "shell.execute_reply": "2025-07-28T10:57:25.386324Z"
    },
    "papermill": {
     "duration": 0.247364,
     "end_time": "2025-07-28T10:57:25.389635",
     "exception": false,
     "start_time": "2025-07-28T10:57:25.142271",
     "status": "completed"
    },
    "tags": []
   },
   "outputs": [],
   "source": [
    "from sklearn.linear_model import LogisticRegression\n",
    "from sklearn.ensemble import GradientBoostingClassifier, RandomForestClassifier\n",
    "\n",
    "if (universe[\"model\"] == \"logreg\"):\n",
    "    model = LogisticRegression() #penalty=\"none\") #, solver=\"newton-cg\", max_iter=1) # include random_state=19 ?\n",
    "elif (universe[\"model\"] == \"penalized_logreg\"):\n",
    "    model = LogisticRegression(penalty=\"l2\", C=1.0) #, solver=\"newton-cg\", max_iter=1)\n",
    "elif (universe[\"model\"] == \"rf\"):\n",
    "    model = RandomForestClassifier(n_estimators=100, n_jobs=-1)\n",
    "elif (universe[\"model\"] == \"gbm\"):\n",
    "    model = GradientBoostingClassifier()\n",
    "elif (universe[\"model\"] == \"elasticnet\"):\n",
    "    model = LogisticRegression(penalty = 'elasticnet', solver = 'saga', l1_ratio = 0.5, max_iter=5000) # which solver to use?\n",
    "else:\n",
    "    raise \"Unsupported universe.model\""
   ]
  },
  {
   "cell_type": "code",
   "execution_count": 35,
   "id": "0cc8f744",
   "metadata": {
    "execution": {
     "iopub.execute_input": "2025-07-28T10:57:25.477162Z",
     "iopub.status.busy": "2025-07-28T10:57:25.476401Z",
     "iopub.status.idle": "2025-07-28T10:57:25.484546Z",
     "shell.execute_reply": "2025-07-28T10:57:25.483391Z"
    },
    "papermill": {
     "duration": 0.056847,
     "end_time": "2025-07-28T10:57:25.486511",
     "exception": false,
     "start_time": "2025-07-28T10:57:25.429664",
     "status": "completed"
    },
    "tags": []
   },
   "outputs": [],
   "source": [
    "import numpy as np\n",
    "from sklearn.pipeline import Pipeline\n",
    "from sklearn.preprocessing import StandardScaler\n",
    "\n",
    "model = Pipeline([\n",
    "    #(\"continuous_processor\", continuous_processor),\n",
    "    #(\"categorical_preprocessor\", categorical_preprocessor),\n",
    "    (\"scale\", StandardScaler() if universe[\"scale\"] == \"scale\" else None), \n",
    "    (\"model\", model),\n",
    "])"
   ]
  },
  {
   "cell_type": "code",
   "execution_count": 36,
   "id": "9442c04d",
   "metadata": {
    "execution": {
     "iopub.execute_input": "2025-07-28T10:57:25.565917Z",
     "iopub.status.busy": "2025-07-28T10:57:25.565443Z",
     "iopub.status.idle": "2025-07-28T10:57:41.642823Z",
     "shell.execute_reply": "2025-07-28T10:57:41.641503Z"
    },
    "papermill": {
     "duration": 16.113365,
     "end_time": "2025-07-28T10:57:41.645206",
     "exception": false,
     "start_time": "2025-07-28T10:57:25.531841",
     "status": "completed"
    },
    "tags": []
   },
   "outputs": [
    {
     "data": {
      "text/html": [
       "<style>#sk-container-id-1 {color: black;background-color: white;}#sk-container-id-1 pre{padding: 0;}#sk-container-id-1 div.sk-toggleable {background-color: white;}#sk-container-id-1 label.sk-toggleable__label {cursor: pointer;display: block;width: 100%;margin-bottom: 0;padding: 0.3em;box-sizing: border-box;text-align: center;}#sk-container-id-1 label.sk-toggleable__label-arrow:before {content: \"▸\";float: left;margin-right: 0.25em;color: #696969;}#sk-container-id-1 label.sk-toggleable__label-arrow:hover:before {color: black;}#sk-container-id-1 div.sk-estimator:hover label.sk-toggleable__label-arrow:before {color: black;}#sk-container-id-1 div.sk-toggleable__content {max-height: 0;max-width: 0;overflow: hidden;text-align: left;background-color: #f0f8ff;}#sk-container-id-1 div.sk-toggleable__content pre {margin: 0.2em;color: black;border-radius: 0.25em;background-color: #f0f8ff;}#sk-container-id-1 input.sk-toggleable__control:checked~div.sk-toggleable__content {max-height: 200px;max-width: 100%;overflow: auto;}#sk-container-id-1 input.sk-toggleable__control:checked~label.sk-toggleable__label-arrow:before {content: \"▾\";}#sk-container-id-1 div.sk-estimator input.sk-toggleable__control:checked~label.sk-toggleable__label {background-color: #d4ebff;}#sk-container-id-1 div.sk-label input.sk-toggleable__control:checked~label.sk-toggleable__label {background-color: #d4ebff;}#sk-container-id-1 input.sk-hidden--visually {border: 0;clip: rect(1px 1px 1px 1px);clip: rect(1px, 1px, 1px, 1px);height: 1px;margin: -1px;overflow: hidden;padding: 0;position: absolute;width: 1px;}#sk-container-id-1 div.sk-estimator {font-family: monospace;background-color: #f0f8ff;border: 1px dotted black;border-radius: 0.25em;box-sizing: border-box;margin-bottom: 0.5em;}#sk-container-id-1 div.sk-estimator:hover {background-color: #d4ebff;}#sk-container-id-1 div.sk-parallel-item::after {content: \"\";width: 100%;border-bottom: 1px solid gray;flex-grow: 1;}#sk-container-id-1 div.sk-label:hover label.sk-toggleable__label {background-color: #d4ebff;}#sk-container-id-1 div.sk-serial::before {content: \"\";position: absolute;border-left: 1px solid gray;box-sizing: border-box;top: 0;bottom: 0;left: 50%;z-index: 0;}#sk-container-id-1 div.sk-serial {display: flex;flex-direction: column;align-items: center;background-color: white;padding-right: 0.2em;padding-left: 0.2em;position: relative;}#sk-container-id-1 div.sk-item {position: relative;z-index: 1;}#sk-container-id-1 div.sk-parallel {display: flex;align-items: stretch;justify-content: center;background-color: white;position: relative;}#sk-container-id-1 div.sk-item::before, #sk-container-id-1 div.sk-parallel-item::before {content: \"\";position: absolute;border-left: 1px solid gray;box-sizing: border-box;top: 0;bottom: 0;left: 50%;z-index: -1;}#sk-container-id-1 div.sk-parallel-item {display: flex;flex-direction: column;z-index: 1;position: relative;background-color: white;}#sk-container-id-1 div.sk-parallel-item:first-child::after {align-self: flex-end;width: 50%;}#sk-container-id-1 div.sk-parallel-item:last-child::after {align-self: flex-start;width: 50%;}#sk-container-id-1 div.sk-parallel-item:only-child::after {width: 0;}#sk-container-id-1 div.sk-dashed-wrapped {border: 1px dashed gray;margin: 0 0.4em 0.5em 0.4em;box-sizing: border-box;padding-bottom: 0.4em;background-color: white;}#sk-container-id-1 div.sk-label label {font-family: monospace;font-weight: bold;display: inline-block;line-height: 1.2em;}#sk-container-id-1 div.sk-label-container {text-align: center;}#sk-container-id-1 div.sk-container {/* jupyter's `normalize.less` sets `[hidden] { display: none; }` but bootstrap.min.css set `[hidden] { display: none !important; }` so we also need the `!important` here to be able to override the default hidden behavior on the sphinx rendered scikit-learn.org. See: https://github.com/scikit-learn/scikit-learn/issues/21755 */display: inline-block !important;position: relative;}#sk-container-id-1 div.sk-text-repr-fallback {display: none;}</style><div id=\"sk-container-id-1\" class=\"sk-top-container\"><div class=\"sk-text-repr-fallback\"><pre>Pipeline(steps=[(&#x27;scale&#x27;, StandardScaler()),\n",
       "                (&#x27;model&#x27;, RandomForestClassifier(n_jobs=-1))])</pre><b>In a Jupyter environment, please rerun this cell to show the HTML representation or trust the notebook. <br />On GitHub, the HTML representation is unable to render, please try loading this page with nbviewer.org.</b></div><div class=\"sk-container\" hidden><div class=\"sk-item sk-dashed-wrapped\"><div class=\"sk-label-container\"><div class=\"sk-label sk-toggleable\"><input class=\"sk-toggleable__control sk-hidden--visually\" id=\"sk-estimator-id-1\" type=\"checkbox\" ><label for=\"sk-estimator-id-1\" class=\"sk-toggleable__label sk-toggleable__label-arrow\">Pipeline</label><div class=\"sk-toggleable__content\"><pre>Pipeline(steps=[(&#x27;scale&#x27;, StandardScaler()),\n",
       "                (&#x27;model&#x27;, RandomForestClassifier(n_jobs=-1))])</pre></div></div></div><div class=\"sk-serial\"><div class=\"sk-item\"><div class=\"sk-estimator sk-toggleable\"><input class=\"sk-toggleable__control sk-hidden--visually\" id=\"sk-estimator-id-2\" type=\"checkbox\" ><label for=\"sk-estimator-id-2\" class=\"sk-toggleable__label sk-toggleable__label-arrow\">StandardScaler</label><div class=\"sk-toggleable__content\"><pre>StandardScaler()</pre></div></div></div><div class=\"sk-item\"><div class=\"sk-estimator sk-toggleable\"><input class=\"sk-toggleable__control sk-hidden--visually\" id=\"sk-estimator-id-3\" type=\"checkbox\" ><label for=\"sk-estimator-id-3\" class=\"sk-toggleable__label sk-toggleable__label-arrow\">RandomForestClassifier</label><div class=\"sk-toggleable__content\"><pre>RandomForestClassifier(n_jobs=-1)</pre></div></div></div></div></div></div></div>"
      ],
      "text/plain": [
       "Pipeline(steps=[('scale', StandardScaler()),\n",
       "                ('model', RandomForestClassifier(n_jobs=-1))])"
      ]
     },
     "execution_count": 36,
     "metadata": {},
     "output_type": "execute_result"
    }
   ],
   "source": [
    "model.fit(X_train, y_train.values.ravel())"
   ]
  },
  {
   "cell_type": "code",
   "execution_count": 37,
   "id": "af59f8c0",
   "metadata": {
    "execution": {
     "iopub.execute_input": "2025-07-28T10:57:41.715262Z",
     "iopub.status.busy": "2025-07-28T10:57:41.714331Z",
     "iopub.status.idle": "2025-07-28T10:57:41.721170Z",
     "shell.execute_reply": "2025-07-28T10:57:41.719875Z"
    },
    "papermill": {
     "duration": 0.043336,
     "end_time": "2025-07-28T10:57:41.723791",
     "exception": false,
     "start_time": "2025-07-28T10:57:41.680455",
     "status": "completed"
    },
    "tags": []
   },
   "outputs": [],
   "source": [
    "from fairness_multiverse.universe import predict_w_threshold"
   ]
  },
  {
   "cell_type": "code",
   "execution_count": 38,
   "id": "a7cf2e16",
   "metadata": {
    "execution": {
     "iopub.execute_input": "2025-07-28T10:57:41.789283Z",
     "iopub.status.busy": "2025-07-28T10:57:41.788489Z",
     "iopub.status.idle": "2025-07-28T10:57:43.808419Z",
     "shell.execute_reply": "2025-07-28T10:57:43.807665Z"
    },
    "papermill": {
     "duration": 2.054374,
     "end_time": "2025-07-28T10:57:43.809898",
     "exception": false,
     "start_time": "2025-07-28T10:57:41.755524",
     "status": "completed"
    },
    "tags": []
   },
   "outputs": [
    {
     "data": {
      "text/plain": [
       "0.8677293501281909"
      ]
     },
     "execution_count": 38,
     "metadata": {},
     "output_type": "execute_result"
    }
   ],
   "source": [
    "probs_test = model.predict_proba(X_test)\n",
    "\n",
    "'''\n",
    "Below code returns a boolean array (or binary 0/1 array depending on how it’s used) where each element \n",
    "is True if the probability of class 1 is greater than or equal to the threshold, and False otherwise.\n",
    "'''\n",
    "y_pred_default = predict_w_threshold(probs_test, 0.5)\n",
    "\n",
    "from sklearn.metrics import accuracy_score\n",
    "\n",
    "# Naive prediction\n",
    "accuracy_score(y_true = y_true, y_pred = y_pred_default)"
   ]
  },
  {
   "cell_type": "code",
   "execution_count": 39,
   "id": "081964c3",
   "metadata": {
    "execution": {
     "iopub.execute_input": "2025-07-28T10:57:43.845799Z",
     "iopub.status.busy": "2025-07-28T10:57:43.845239Z",
     "iopub.status.idle": "2025-07-28T10:57:45.527259Z",
     "shell.execute_reply": "2025-07-28T10:57:45.526219Z"
    },
    "papermill": {
     "duration": 1.706249,
     "end_time": "2025-07-28T10:57:45.528962",
     "exception": false,
     "start_time": "2025-07-28T10:57:43.822713",
     "status": "completed"
    },
    "tags": []
   },
   "outputs": [
    {
     "data": {
      "text/plain": [
       "array([0, 0, 0, ..., 0, 0, 0])"
      ]
     },
     "execution_count": 39,
     "metadata": {},
     "output_type": "execute_result"
    }
   ],
   "source": [
    "model.predict(X_test)"
   ]
  },
  {
   "cell_type": "markdown",
   "id": "56c9705b",
   "metadata": {
    "papermill": {
     "duration": 0.01286,
     "end_time": "2025-07-28T10:57:45.566611",
     "exception": false,
     "start_time": "2025-07-28T10:57:45.553751",
     "status": "completed"
    },
    "tags": []
   },
   "source": [
    "# Conformal Prediction"
   ]
  },
  {
   "cell_type": "code",
   "execution_count": 40,
   "id": "160ec6ff",
   "metadata": {
    "execution": {
     "iopub.execute_input": "2025-07-28T10:57:45.593866Z",
     "iopub.status.busy": "2025-07-28T10:57:45.593481Z",
     "iopub.status.idle": "2025-07-28T10:57:45.598674Z",
     "shell.execute_reply": "2025-07-28T10:57:45.597872Z"
    },
    "papermill": {
     "duration": 0.020937,
     "end_time": "2025-07-28T10:57:45.600281",
     "exception": false,
     "start_time": "2025-07-28T10:57:45.579344",
     "status": "completed"
    },
    "tags": []
   },
   "outputs": [],
   "source": [
    "# Miscoverage level for conformal prediction (10% allowed error rate => 90% target coverage)\n",
    "alpha = 0.1"
   ]
  },
  {
   "cell_type": "code",
   "execution_count": 41,
   "id": "eadf4555-3dd3-440e-8e35-f82a4ad9f855",
   "metadata": {
    "execution": {
     "iopub.execute_input": "2025-07-28T10:57:45.651423Z",
     "iopub.status.busy": "2025-07-28T10:57:45.650571Z",
     "iopub.status.idle": "2025-07-28T10:57:47.508192Z",
     "shell.execute_reply": "2025-07-28T10:57:47.507379Z"
    },
    "papermill": {
     "duration": 1.883932,
     "end_time": "2025-07-28T10:57:47.509700",
     "exception": false,
     "start_time": "2025-07-28T10:57:45.625768",
     "status": "completed"
    },
    "tags": []
   },
   "outputs": [],
   "source": [
    "probs_calib = model.predict_proba(X_calib)"
   ]
  },
  {
   "cell_type": "code",
   "execution_count": 42,
   "id": "2ed93547-6d5d-4983-9b36-1ecb300da49a",
   "metadata": {
    "execution": {
     "iopub.execute_input": "2025-07-28T10:57:47.540097Z",
     "iopub.status.busy": "2025-07-28T10:57:47.539711Z",
     "iopub.status.idle": "2025-07-28T10:57:47.544992Z",
     "shell.execute_reply": "2025-07-28T10:57:47.544178Z"
    },
    "papermill": {
     "duration": 0.019497,
     "end_time": "2025-07-28T10:57:47.546376",
     "exception": false,
     "start_time": "2025-07-28T10:57:47.526879",
     "status": "completed"
    },
    "tags": []
   },
   "outputs": [],
   "source": [
    "y_calib = y_calib.values.ravel().astype(int)"
   ]
  },
  {
   "cell_type": "code",
   "execution_count": 43,
   "id": "65d1320d-f588-4b38-9072-62af1ae97f7d",
   "metadata": {
    "execution": {
     "iopub.execute_input": "2025-07-28T10:57:47.586265Z",
     "iopub.status.busy": "2025-07-28T10:57:47.585787Z",
     "iopub.status.idle": "2025-07-28T10:57:47.594570Z",
     "shell.execute_reply": "2025-07-28T10:57:47.593467Z"
    },
    "papermill": {
     "duration": 0.038204,
     "end_time": "2025-07-28T10:57:47.596897",
     "exception": false,
     "start_time": "2025-07-28T10:57:47.558693",
     "status": "completed"
    },
    "tags": []
   },
   "outputs": [],
   "source": [
    "from fairness_multiverse.conformal import compute_nc_scores\n",
    "\n",
    "# Compute nonconformity scores on calibration set (1 - probability of true class)\n",
    "nc_scores = compute_nc_scores(probs_calib, y_calib)"
   ]
  },
  {
   "cell_type": "code",
   "execution_count": 44,
   "id": "df3b8ca3-53b7-43d5-9667-7c85da7aeda2",
   "metadata": {
    "execution": {
     "iopub.execute_input": "2025-07-28T10:57:47.661072Z",
     "iopub.status.busy": "2025-07-28T10:57:47.660224Z",
     "iopub.status.idle": "2025-07-28T10:57:47.667927Z",
     "shell.execute_reply": "2025-07-28T10:57:47.666798Z"
    },
    "papermill": {
     "duration": 0.042331,
     "end_time": "2025-07-28T10:57:47.670117",
     "exception": false,
     "start_time": "2025-07-28T10:57:47.627786",
     "status": "completed"
    },
    "tags": []
   },
   "outputs": [],
   "source": [
    "from fairness_multiverse.conformal import find_threshold\n",
    "\n",
    "# Find conformal threshold q_hat for the given alpha (split conformal method)\n",
    "q_hat = find_threshold(nc_scores, alpha)"
   ]
  },
  {
   "cell_type": "code",
   "execution_count": 45,
   "id": "4d29e6c1-0ef6-4aa4-b8fe-4fe79b0d033a",
   "metadata": {
    "execution": {
     "iopub.execute_input": "2025-07-28T10:57:47.722178Z",
     "iopub.status.busy": "2025-07-28T10:57:47.721650Z",
     "iopub.status.idle": "2025-07-28T10:57:47.729405Z",
     "shell.execute_reply": "2025-07-28T10:57:47.728323Z"
    },
    "papermill": {
     "duration": 0.036227,
     "end_time": "2025-07-28T10:57:47.731328",
     "exception": false,
     "start_time": "2025-07-28T10:57:47.695101",
     "status": "completed"
    },
    "tags": []
   },
   "outputs": [
    {
     "data": {
      "text/plain": [
       "0.6699999999999999"
      ]
     },
     "execution_count": 45,
     "metadata": {},
     "output_type": "execute_result"
    }
   ],
   "source": [
    "q_hat"
   ]
  },
  {
   "cell_type": "code",
   "execution_count": 46,
   "id": "92460794-cdac-4be2-ba28-f28c0515a6fb",
   "metadata": {
    "execution": {
     "iopub.execute_input": "2025-07-28T10:57:47.775058Z",
     "iopub.status.busy": "2025-07-28T10:57:47.774610Z",
     "iopub.status.idle": "2025-07-28T10:57:49.843712Z",
     "shell.execute_reply": "2025-07-28T10:57:49.842688Z"
    },
    "papermill": {
     "duration": 2.088729,
     "end_time": "2025-07-28T10:57:49.845648",
     "exception": false,
     "start_time": "2025-07-28T10:57:47.756919",
     "status": "completed"
    },
    "tags": []
   },
   "outputs": [],
   "source": [
    "from fairness_multiverse.conformal import predict_conformal_sets\n",
    "\n",
    "# Generate prediction sets for each test example\n",
    "pred_sets = predict_conformal_sets(model, X_test, q_hat)"
   ]
  },
  {
   "cell_type": "code",
   "execution_count": 47,
   "id": "d90c9a65-e6db-4f5d-80cd-e68fb7e46829",
   "metadata": {
    "execution": {
     "iopub.execute_input": "2025-07-28T10:57:49.895568Z",
     "iopub.status.busy": "2025-07-28T10:57:49.895040Z",
     "iopub.status.idle": "2025-07-28T10:57:49.901202Z",
     "shell.execute_reply": "2025-07-28T10:57:49.900162Z"
    },
    "papermill": {
     "duration": 0.03303,
     "end_time": "2025-07-28T10:57:49.902898",
     "exception": false,
     "start_time": "2025-07-28T10:57:49.869868",
     "status": "completed"
    },
    "tags": []
   },
   "outputs": [],
   "source": [
    "y_true = y_true.squeeze()"
   ]
  },
  {
   "cell_type": "code",
   "execution_count": 48,
   "id": "3a58a54a-1e68-46b9-927a-df01f18aebc8",
   "metadata": {
    "execution": {
     "iopub.execute_input": "2025-07-28T10:57:49.953367Z",
     "iopub.status.busy": "2025-07-28T10:57:49.952845Z",
     "iopub.status.idle": "2025-07-28T10:57:50.964551Z",
     "shell.execute_reply": "2025-07-28T10:57:50.963363Z"
    },
    "papermill": {
     "duration": 1.039021,
     "end_time": "2025-07-28T10:57:50.966598",
     "exception": false,
     "start_time": "2025-07-28T10:57:49.927577",
     "status": "completed"
    },
    "tags": []
   },
   "outputs": [],
   "source": [
    "from fairness_multiverse.conformal import evaluate_sets\n",
    "\n",
    "# Evaluate coverage and average set size on test data\n",
    "metrics = evaluate_sets(pred_sets, y_true)"
   ]
  },
  {
   "cell_type": "markdown",
   "id": "2b569c12-9aaa-4c88-98c9-bbcd0cf3ebb8",
   "metadata": {
    "papermill": {
     "duration": 0.02664,
     "end_time": "2025-07-28T10:57:51.021760",
     "exception": false,
     "start_time": "2025-07-28T10:57:50.995120",
     "status": "completed"
    },
    "tags": []
   },
   "source": [
    "# CP Metrics"
   ]
  },
  {
   "cell_type": "code",
   "execution_count": 49,
   "id": "5ce0a5cb-201f-45a0-ade5-94c7f0bd6095",
   "metadata": {
    "execution": {
     "iopub.execute_input": "2025-07-28T10:57:51.076388Z",
     "iopub.status.busy": "2025-07-28T10:57:51.075561Z",
     "iopub.status.idle": "2025-07-28T10:57:51.083793Z",
     "shell.execute_reply": "2025-07-28T10:57:51.082680Z"
    },
    "papermill": {
     "duration": 0.037125,
     "end_time": "2025-07-28T10:57:51.085625",
     "exception": false,
     "start_time": "2025-07-28T10:57:51.048500",
     "status": "completed"
    },
    "tags": []
   },
   "outputs": [
    {
     "data": {
      "text/plain": [
       "{'coverage': 0.9171887192063315, 'avg_size': 1.1503288373648424}"
      ]
     },
     "execution_count": 49,
     "metadata": {},
     "output_type": "execute_result"
    }
   ],
   "source": [
    "metrics"
   ]
  },
  {
   "cell_type": "code",
   "execution_count": 50,
   "id": "9b9a838d-31c9-430b-ae14-12baee460d17",
   "metadata": {
    "execution": {
     "iopub.execute_input": "2025-07-28T10:57:51.143573Z",
     "iopub.status.busy": "2025-07-28T10:57:51.142931Z",
     "iopub.status.idle": "2025-07-28T10:57:51.150217Z",
     "shell.execute_reply": "2025-07-28T10:57:51.149036Z"
    },
    "papermill": {
     "duration": 0.038669,
     "end_time": "2025-07-28T10:57:51.152395",
     "exception": false,
     "start_time": "2025-07-28T10:57:51.113726",
     "status": "completed"
    },
    "tags": []
   },
   "outputs": [],
   "source": [
    "example_universe = universe.copy()\n",
    "universe_training_size = example_universe.get(\"training_size\")\n",
    "universe_scale = example_universe.get(\"scale\")\n",
    "universe_model = example_universe.get(\"model\")\n",
    "universe_exclude_features = example_universe.get(\"exclude_features\")\n",
    "universe_exclude_subgroups = example_universe.get(\"exclude_subgroups\")"
   ]
  },
  {
   "cell_type": "code",
   "execution_count": 51,
   "id": "f4b6a8ac-9dc0-4245-8a91-5b3b5999c4f9",
   "metadata": {
    "execution": {
     "iopub.execute_input": "2025-07-28T10:57:51.210344Z",
     "iopub.status.busy": "2025-07-28T10:57:51.209558Z",
     "iopub.status.idle": "2025-07-28T10:57:51.216764Z",
     "shell.execute_reply": "2025-07-28T10:57:51.215631Z"
    },
    "papermill": {
     "duration": 0.038212,
     "end_time": "2025-07-28T10:57:51.218647",
     "exception": false,
     "start_time": "2025-07-28T10:57:51.180435",
     "status": "completed"
    },
    "tags": []
   },
   "outputs": [],
   "source": [
    "cp_metrics_dict = {\n",
    "    \"universe_id\": [universe_id],\n",
    "    \"universe_training_size\": [universe_training_size],\n",
    "    \"universe_scale\": [universe_scale],\n",
    "    \"universe_model\": [universe_model],\n",
    "    \"universe_exclude_features\": [universe_exclude_features],\n",
    "    \"universe_exclude_subgroups\": [universe_exclude_subgroups],\n",
    "    \"q_hat\": [q_hat],\n",
    "    \"coverage\": [metrics[\"coverage\"]],\n",
    "    \"avg_size\": [metrics[\"avg_size\"]],\n",
    "}"
   ]
  },
  {
   "cell_type": "code",
   "execution_count": 52,
   "id": "908acbb1-0371-4915-85ca-3fa520d2efe2",
   "metadata": {
    "execution": {
     "iopub.execute_input": "2025-07-28T10:57:51.277156Z",
     "iopub.status.busy": "2025-07-28T10:57:51.276348Z",
     "iopub.status.idle": "2025-07-28T10:57:51.284816Z",
     "shell.execute_reply": "2025-07-28T10:57:51.283718Z"
    },
    "papermill": {
     "duration": 0.039605,
     "end_time": "2025-07-28T10:57:51.286775",
     "exception": false,
     "start_time": "2025-07-28T10:57:51.247170",
     "status": "completed"
    },
    "tags": []
   },
   "outputs": [
    {
     "data": {
      "text/plain": [
       "{'universe_id': ['ddcef3cfee3ca9b272775693242d1751'],\n",
       " 'universe_training_size': ['2014'],\n",
       " 'universe_scale': ['scale'],\n",
       " 'universe_model': ['rf'],\n",
       " 'universe_exclude_features': ['age'],\n",
       " 'universe_exclude_subgroups': ['drop-non-german'],\n",
       " 'q_hat': [0.6699999999999999],\n",
       " 'coverage': [0.9171887192063315],\n",
       " 'avg_size': [1.1503288373648424]}"
      ]
     },
     "execution_count": 52,
     "metadata": {},
     "output_type": "execute_result"
    }
   ],
   "source": [
    "cp_metrics_dict"
   ]
  },
  {
   "cell_type": "code",
   "execution_count": 53,
   "id": "33007efc-14e9-4ec6-97ac-56a455c82265",
   "metadata": {
    "execution": {
     "iopub.execute_input": "2025-07-28T10:57:51.345486Z",
     "iopub.status.busy": "2025-07-28T10:57:51.344491Z",
     "iopub.status.idle": "2025-07-28T10:57:51.351471Z",
     "shell.execute_reply": "2025-07-28T10:57:51.350468Z"
    },
    "papermill": {
     "duration": 0.038113,
     "end_time": "2025-07-28T10:57:51.353290",
     "exception": false,
     "start_time": "2025-07-28T10:57:51.315177",
     "status": "completed"
    },
    "tags": []
   },
   "outputs": [],
   "source": [
    "cp_metrics_df = pd.DataFrame(cp_metrics_dict)"
   ]
  },
  {
   "cell_type": "code",
   "execution_count": 54,
   "id": "db12611b-57b2-4910-b9d0-355adfd6e7bf",
   "metadata": {
    "execution": {
     "iopub.execute_input": "2025-07-28T10:57:51.412949Z",
     "iopub.status.busy": "2025-07-28T10:57:51.411885Z",
     "iopub.status.idle": "2025-07-28T10:57:51.431933Z",
     "shell.execute_reply": "2025-07-28T10:57:51.430645Z"
    },
    "papermill": {
     "duration": 0.051973,
     "end_time": "2025-07-28T10:57:51.433843",
     "exception": false,
     "start_time": "2025-07-28T10:57:51.381870",
     "status": "completed"
    },
    "tags": []
   },
   "outputs": [
    {
     "data": {
      "text/html": [
       "<div>\n",
       "<style scoped>\n",
       "    .dataframe tbody tr th:only-of-type {\n",
       "        vertical-align: middle;\n",
       "    }\n",
       "\n",
       "    .dataframe tbody tr th {\n",
       "        vertical-align: top;\n",
       "    }\n",
       "\n",
       "    .dataframe thead th {\n",
       "        text-align: right;\n",
       "    }\n",
       "</style>\n",
       "<table border=\"1\" class=\"dataframe\">\n",
       "  <thead>\n",
       "    <tr style=\"text-align: right;\">\n",
       "      <th></th>\n",
       "      <th>universe_id</th>\n",
       "      <th>universe_training_size</th>\n",
       "      <th>universe_scale</th>\n",
       "      <th>universe_model</th>\n",
       "      <th>universe_exclude_features</th>\n",
       "      <th>universe_exclude_subgroups</th>\n",
       "      <th>q_hat</th>\n",
       "      <th>coverage</th>\n",
       "      <th>avg_size</th>\n",
       "    </tr>\n",
       "  </thead>\n",
       "  <tbody>\n",
       "    <tr>\n",
       "      <th>0</th>\n",
       "      <td>ddcef3cfee3ca9b272775693242d1751</td>\n",
       "      <td>2014</td>\n",
       "      <td>scale</td>\n",
       "      <td>rf</td>\n",
       "      <td>age</td>\n",
       "      <td>drop-non-german</td>\n",
       "      <td>0.67</td>\n",
       "      <td>0.917189</td>\n",
       "      <td>1.150329</td>\n",
       "    </tr>\n",
       "  </tbody>\n",
       "</table>\n",
       "</div>"
      ],
      "text/plain": [
       "                        universe_id universe_training_size universe_scale  \\\n",
       "0  ddcef3cfee3ca9b272775693242d1751                   2014          scale   \n",
       "\n",
       "  universe_model universe_exclude_features universe_exclude_subgroups  q_hat  \\\n",
       "0             rf                       age            drop-non-german   0.67   \n",
       "\n",
       "   coverage  avg_size  \n",
       "0  0.917189  1.150329  "
      ]
     },
     "execution_count": 54,
     "metadata": {},
     "output_type": "execute_result"
    }
   ],
   "source": [
    "cp_metrics_df"
   ]
  },
  {
   "cell_type": "code",
   "execution_count": 55,
   "id": "b7fbde55-a0a1-47e4-9af6-fe4a17fa8c61",
   "metadata": {
    "execution": {
     "iopub.execute_input": "2025-07-28T10:57:51.493596Z",
     "iopub.status.busy": "2025-07-28T10:57:51.492938Z",
     "iopub.status.idle": "2025-07-28T10:57:51.498808Z",
     "shell.execute_reply": "2025-07-28T10:57:51.497701Z"
    },
    "papermill": {
     "duration": 0.037931,
     "end_time": "2025-07-28T10:57:51.500768",
     "exception": false,
     "start_time": "2025-07-28T10:57:51.462837",
     "status": "completed"
    },
    "tags": []
   },
   "outputs": [],
   "source": [
    "# Conditional Coverage & looking at subgroups"
   ]
  },
  {
   "cell_type": "code",
   "execution_count": 56,
   "id": "027ae886-68dd-4141-96c7-805a5450e1ef",
   "metadata": {
    "execution": {
     "iopub.execute_input": "2025-07-28T10:57:51.561134Z",
     "iopub.status.busy": "2025-07-28T10:57:51.560104Z",
     "iopub.status.idle": "2025-07-28T10:57:51.865494Z",
     "shell.execute_reply": "2025-07-28T10:57:51.864268Z"
    },
    "papermill": {
     "duration": 0.338022,
     "end_time": "2025-07-28T10:57:51.867772",
     "exception": false,
     "start_time": "2025-07-28T10:57:51.529750",
     "status": "completed"
    },
    "tags": []
   },
   "outputs": [],
   "source": [
    "from fairness_multiverse.conformal import build_cp_groups\n",
    "\n",
    "cp_groups_df = build_cp_groups(pred_sets, y_true, X_test.index, org_test)\n",
    "#needs universe_id and setting"
   ]
  },
  {
   "cell_type": "code",
   "execution_count": 57,
   "id": "01d5802c-663a-4d1f-9d69-e036faaffbf7",
   "metadata": {
    "execution": {
     "iopub.execute_input": "2025-07-28T10:57:51.927134Z",
     "iopub.status.busy": "2025-07-28T10:57:51.926099Z",
     "iopub.status.idle": "2025-07-28T10:57:51.932052Z",
     "shell.execute_reply": "2025-07-28T10:57:51.930962Z"
    },
    "papermill": {
     "duration": 0.038185,
     "end_time": "2025-07-28T10:57:51.934008",
     "exception": false,
     "start_time": "2025-07-28T10:57:51.895823",
     "status": "completed"
    },
    "tags": []
   },
   "outputs": [],
   "source": [
    "#delete\n",
    "#cp_groups_df"
   ]
  },
  {
   "cell_type": "code",
   "execution_count": 58,
   "id": "fa424af1-d1eb-443d-b717-2d279ada8408",
   "metadata": {
    "execution": {
     "iopub.execute_input": "2025-07-28T10:57:51.995392Z",
     "iopub.status.busy": "2025-07-28T10:57:51.994308Z",
     "iopub.status.idle": "2025-07-28T10:57:52.000296Z",
     "shell.execute_reply": "2025-07-28T10:57:51.999157Z"
    },
    "papermill": {
     "duration": 0.038996,
     "end_time": "2025-07-28T10:57:52.002532",
     "exception": false,
     "start_time": "2025-07-28T10:57:51.963536",
     "status": "completed"
    },
    "tags": []
   },
   "outputs": [],
   "source": [
    "#delete\n",
    "#percentage = (cp_groups_df['nongerman_female'] == 1).mean() * 100\n",
    "#print(percentage)\n"
   ]
  },
  {
   "cell_type": "code",
   "execution_count": 59,
   "id": "6cbdab96-b2b2-45af-ad54-d0516db2e28d",
   "metadata": {
    "execution": {
     "iopub.execute_input": "2025-07-28T10:57:52.057552Z",
     "iopub.status.busy": "2025-07-28T10:57:52.057069Z",
     "iopub.status.idle": "2025-07-28T10:57:53.614235Z",
     "shell.execute_reply": "2025-07-28T10:57:53.613034Z"
    },
    "papermill": {
     "duration": 1.586242,
     "end_time": "2025-07-28T10:57:53.616402",
     "exception": false,
     "start_time": "2025-07-28T10:57:52.030160",
     "status": "completed"
    },
    "tags": []
   },
   "outputs": [],
   "source": [
    "# Define covered = 1 if true_label is in the predicted set\n",
    "cp_groups_df['covered'] = cp_groups_df.apply(\n",
    "    lambda r: int(r['true_label'] in r['pred_set']),\n",
    "    axis=1\n",
    ")"
   ]
  },
  {
   "cell_type": "code",
   "execution_count": 60,
   "id": "338ff529-1a6b-4b87-a931-8e4788d52aad",
   "metadata": {
    "execution": {
     "iopub.execute_input": "2025-07-28T10:57:53.688548Z",
     "iopub.status.busy": "2025-07-28T10:57:53.687224Z",
     "iopub.status.idle": "2025-07-28T10:57:53.694215Z",
     "shell.execute_reply": "2025-07-28T10:57:53.693032Z"
    },
    "papermill": {
     "duration": 0.048327,
     "end_time": "2025-07-28T10:57:53.697003",
     "exception": false,
     "start_time": "2025-07-28T10:57:53.648676",
     "status": "completed"
    },
    "tags": []
   },
   "outputs": [],
   "source": [
    "#cp_groups_df"
   ]
  },
  {
   "cell_type": "code",
   "execution_count": 61,
   "id": "90032e27-66df-4540-9169-4e89cfbaa758",
   "metadata": {
    "execution": {
     "iopub.execute_input": "2025-07-28T10:57:53.770063Z",
     "iopub.status.busy": "2025-07-28T10:57:53.769561Z",
     "iopub.status.idle": "2025-07-28T10:57:53.782612Z",
     "shell.execute_reply": "2025-07-28T10:57:53.781634Z"
    },
    "papermill": {
     "duration": 0.050436,
     "end_time": "2025-07-28T10:57:53.784598",
     "exception": false,
     "start_time": "2025-07-28T10:57:53.734162",
     "status": "completed"
    },
    "tags": []
   },
   "outputs": [],
   "source": [
    "subgroups = ['frau1','nongerman','nongerman_male','nongerman_female']\n",
    "\n",
    "# Conditional coverage for subgroup==1\n",
    "cond_coverage = {\n",
    "    g: cp_groups_df.loc[cp_groups_df[g]==1, 'covered'].mean()\n",
    "    for g in subgroups\n",
    "}"
   ]
  },
  {
   "cell_type": "code",
   "execution_count": 62,
   "id": "1e348fb1-b9c3-45bc-ba23-f016827a7e0d",
   "metadata": {
    "execution": {
     "iopub.execute_input": "2025-07-28T10:57:53.839979Z",
     "iopub.status.busy": "2025-07-28T10:57:53.839290Z",
     "iopub.status.idle": "2025-07-28T10:57:53.846989Z",
     "shell.execute_reply": "2025-07-28T10:57:53.845963Z"
    },
    "papermill": {
     "duration": 0.036681,
     "end_time": "2025-07-28T10:57:53.848661",
     "exception": false,
     "start_time": "2025-07-28T10:57:53.811980",
     "status": "completed"
    },
    "tags": []
   },
   "outputs": [
    {
     "data": {
      "text/plain": [
       "{'frau1': 0.9164847014422429,\n",
       " 'nongerman': 0.9135462864200303,\n",
       " 'nongerman_male': 0.9286679275871386,\n",
       " 'nongerman_female': 0.8885245901639345}"
      ]
     },
     "execution_count": 62,
     "metadata": {},
     "output_type": "execute_result"
    }
   ],
   "source": [
    "cond_coverage"
   ]
  },
  {
   "cell_type": "code",
   "execution_count": 63,
   "id": "f5093324-c3dd-4d63-bc4c-8d945e5c8bbb",
   "metadata": {
    "execution": {
     "iopub.execute_input": "2025-07-28T10:57:53.906633Z",
     "iopub.status.busy": "2025-07-28T10:57:53.905595Z",
     "iopub.status.idle": "2025-07-28T10:57:53.913262Z",
     "shell.execute_reply": "2025-07-28T10:57:53.912291Z"
    },
    "papermill": {
     "duration": 0.038444,
     "end_time": "2025-07-28T10:57:53.915320",
     "exception": false,
     "start_time": "2025-07-28T10:57:53.876876",
     "status": "completed"
    },
    "tags": []
   },
   "outputs": [],
   "source": [
    "for subgroup, cov in cond_coverage.items():\n",
    "    cp_metrics_df[f\"cov_{subgroup}\"] = cov"
   ]
  },
  {
   "cell_type": "code",
   "execution_count": 64,
   "id": "6e872e10-dbe5-49e8-b554-5030c98ff75d",
   "metadata": {
    "execution": {
     "iopub.execute_input": "2025-07-28T10:57:53.958723Z",
     "iopub.status.busy": "2025-07-28T10:57:53.958378Z",
     "iopub.status.idle": "2025-07-28T10:57:53.972980Z",
     "shell.execute_reply": "2025-07-28T10:57:53.972226Z"
    },
    "papermill": {
     "duration": 0.032625,
     "end_time": "2025-07-28T10:57:53.974297",
     "exception": false,
     "start_time": "2025-07-28T10:57:53.941672",
     "status": "completed"
    },
    "tags": []
   },
   "outputs": [
    {
     "data": {
      "text/html": [
       "<div>\n",
       "<style scoped>\n",
       "    .dataframe tbody tr th:only-of-type {\n",
       "        vertical-align: middle;\n",
       "    }\n",
       "\n",
       "    .dataframe tbody tr th {\n",
       "        vertical-align: top;\n",
       "    }\n",
       "\n",
       "    .dataframe thead th {\n",
       "        text-align: right;\n",
       "    }\n",
       "</style>\n",
       "<table border=\"1\" class=\"dataframe\">\n",
       "  <thead>\n",
       "    <tr style=\"text-align: right;\">\n",
       "      <th></th>\n",
       "      <th>universe_id</th>\n",
       "      <th>universe_training_size</th>\n",
       "      <th>universe_scale</th>\n",
       "      <th>universe_model</th>\n",
       "      <th>universe_exclude_features</th>\n",
       "      <th>universe_exclude_subgroups</th>\n",
       "      <th>q_hat</th>\n",
       "      <th>coverage</th>\n",
       "      <th>avg_size</th>\n",
       "      <th>cov_frau1</th>\n",
       "      <th>cov_nongerman</th>\n",
       "      <th>cov_nongerman_male</th>\n",
       "      <th>cov_nongerman_female</th>\n",
       "    </tr>\n",
       "  </thead>\n",
       "  <tbody>\n",
       "    <tr>\n",
       "      <th>0</th>\n",
       "      <td>ddcef3cfee3ca9b272775693242d1751</td>\n",
       "      <td>2014</td>\n",
       "      <td>scale</td>\n",
       "      <td>rf</td>\n",
       "      <td>age</td>\n",
       "      <td>drop-non-german</td>\n",
       "      <td>0.67</td>\n",
       "      <td>0.917189</td>\n",
       "      <td>1.150329</td>\n",
       "      <td>0.916485</td>\n",
       "      <td>0.913546</td>\n",
       "      <td>0.928668</td>\n",
       "      <td>0.888525</td>\n",
       "    </tr>\n",
       "  </tbody>\n",
       "</table>\n",
       "</div>"
      ],
      "text/plain": [
       "                        universe_id universe_training_size universe_scale  \\\n",
       "0  ddcef3cfee3ca9b272775693242d1751                   2014          scale   \n",
       "\n",
       "  universe_model universe_exclude_features universe_exclude_subgroups  q_hat  \\\n",
       "0             rf                       age            drop-non-german   0.67   \n",
       "\n",
       "   coverage  avg_size  cov_frau1  cov_nongerman  cov_nongerman_male  \\\n",
       "0  0.917189  1.150329   0.916485       0.913546            0.928668   \n",
       "\n",
       "   cov_nongerman_female  \n",
       "0              0.888525  "
      ]
     },
     "execution_count": 64,
     "metadata": {},
     "output_type": "execute_result"
    }
   ],
   "source": [
    "cp_metrics_df"
   ]
  },
  {
   "cell_type": "markdown",
   "id": "33774451",
   "metadata": {
    "papermill": {
     "duration": 0.017761,
     "end_time": "2025-07-28T10:57:54.006180",
     "exception": false,
     "start_time": "2025-07-28T10:57:53.988419",
     "status": "completed"
    },
    "tags": []
   },
   "source": [
    "# (Fairness) Metrics"
   ]
  },
  {
   "cell_type": "code",
   "execution_count": 65,
   "id": "debc5d62",
   "metadata": {
    "execution": {
     "iopub.execute_input": "2025-07-28T10:57:54.035884Z",
     "iopub.status.busy": "2025-07-28T10:57:54.035456Z",
     "iopub.status.idle": "2025-07-28T10:57:54.053196Z",
     "shell.execute_reply": "2025-07-28T10:57:54.052417Z"
    },
    "papermill": {
     "duration": 0.03526,
     "end_time": "2025-07-28T10:57:54.055621",
     "exception": false,
     "start_time": "2025-07-28T10:57:54.020361",
     "status": "completed"
    },
    "tags": []
   },
   "outputs": [],
   "source": [
    "# do I need to include maxdeutsch1.missing?\n",
    "\n",
    "import numpy as np\n",
    "\n",
    "colname_to_bin = \"maxdeutsch1\"\n",
    "majority_value = org_train[colname_to_bin].mode()[0]\n",
    "\n",
    "org_test[\"majmin\"] = np.where(org_test[colname_to_bin] == majority_value, \"majority\", \"minority\")"
   ]
  },
  {
   "cell_type": "code",
   "execution_count": 66,
   "id": "06a50de5",
   "metadata": {
    "execution": {
     "iopub.execute_input": "2025-07-28T10:57:54.108336Z",
     "iopub.status.busy": "2025-07-28T10:57:54.107798Z",
     "iopub.status.idle": "2025-07-28T10:57:56.891207Z",
     "shell.execute_reply": "2025-07-28T10:57:56.890085Z"
    },
    "papermill": {
     "duration": 2.811796,
     "end_time": "2025-07-28T10:57:56.893492",
     "exception": false,
     "start_time": "2025-07-28T10:57:54.081696",
     "status": "completed"
    },
    "tags": []
   },
   "outputs": [],
   "source": [
    "example_universe = universe.copy()\n",
    "example_universe[\"cutoff\"] = example_universe[\"cutoff\"][0]\n",
    "example_universe[\"eval_fairness_grouping\"] = example_universe[\"eval_fairness_grouping\"][0]\n",
    "fairness_dict, metric_frame = universe_analysis.compute_metrics(\n",
    "    example_universe,\n",
    "    y_pred_prob=probs_test,\n",
    "    y_test=y_true,\n",
    "    org_test=org_test,\n",
    ")"
   ]
  },
  {
   "cell_type": "markdown",
   "id": "f95d4e02",
   "metadata": {
    "papermill": {
     "duration": 0.028338,
     "end_time": "2025-07-28T10:57:56.952683",
     "exception": false,
     "start_time": "2025-07-28T10:57:56.924345",
     "status": "completed"
    },
    "tags": []
   },
   "source": [
    "# Overall"
   ]
  },
  {
   "cell_type": "markdown",
   "id": "bdee4871",
   "metadata": {
    "papermill": {
     "duration": 0.027764,
     "end_time": "2025-07-28T10:57:57.009261",
     "exception": false,
     "start_time": "2025-07-28T10:57:56.981497",
     "status": "completed"
    },
    "tags": []
   },
   "source": [
    "Fairness\n",
    "Main fairness target: Equalized Odds. Seems to be a better fit than equal opportunity, since we're not only interested in Y = 1. Seems to be a better fit than demographic parity, since we also care about accuracy, not just equal distribution of preds.\n",
    "\n",
    "Pick column for computation of fairness metrics\n",
    "\n",
    "Performance\n",
    "Overall performance measures, most interesting in relation to the measures split by group below"
   ]
  },
  {
   "cell_type": "code",
   "execution_count": 67,
   "id": "c4e067c6",
   "metadata": {
    "execution": {
     "iopub.execute_input": "2025-07-28T10:57:57.066167Z",
     "iopub.status.busy": "2025-07-28T10:57:57.065543Z",
     "iopub.status.idle": "2025-07-28T10:57:57.075922Z",
     "shell.execute_reply": "2025-07-28T10:57:57.074767Z"
    },
    "papermill": {
     "duration": 0.041327,
     "end_time": "2025-07-28T10:57:57.077645",
     "exception": false,
     "start_time": "2025-07-28T10:57:57.036318",
     "status": "completed"
    },
    "tags": []
   },
   "outputs": [
    {
     "data": {
      "text/plain": [
       "accuracy                   0.197269\n",
       "balanced accuracy          0.530789\n",
       "f1                         0.238401\n",
       "precision                  0.135718\n",
       "false positive rate        0.917828\n",
       "false negative rate        0.020594\n",
       "selection rate             0.925727\n",
       "count                  89710.000000\n",
       "dtype: float64"
      ]
     },
     "execution_count": 67,
     "metadata": {},
     "output_type": "execute_result"
    }
   ],
   "source": [
    "metric_frame.overall"
   ]
  },
  {
   "cell_type": "markdown",
   "id": "e968fe9d",
   "metadata": {
    "papermill": {
     "duration": 0.024929,
     "end_time": "2025-07-28T10:57:57.129785",
     "exception": false,
     "start_time": "2025-07-28T10:57:57.104856",
     "status": "completed"
    },
    "tags": []
   },
   "source": [
    "By Group"
   ]
  },
  {
   "cell_type": "code",
   "execution_count": 68,
   "id": "ec325bce",
   "metadata": {
    "execution": {
     "iopub.execute_input": "2025-07-28T10:57:57.183641Z",
     "iopub.status.busy": "2025-07-28T10:57:57.182680Z",
     "iopub.status.idle": "2025-07-28T10:57:57.201488Z",
     "shell.execute_reply": "2025-07-28T10:57:57.200350Z"
    },
    "papermill": {
     "duration": 0.047836,
     "end_time": "2025-07-28T10:57:57.203134",
     "exception": false,
     "start_time": "2025-07-28T10:57:57.155298",
     "status": "completed"
    },
    "tags": []
   },
   "outputs": [
    {
     "data": {
      "text/html": [
       "<div>\n",
       "<style scoped>\n",
       "    .dataframe tbody tr th:only-of-type {\n",
       "        vertical-align: middle;\n",
       "    }\n",
       "\n",
       "    .dataframe tbody tr th {\n",
       "        vertical-align: top;\n",
       "    }\n",
       "\n",
       "    .dataframe thead th {\n",
       "        text-align: right;\n",
       "    }\n",
       "</style>\n",
       "<table border=\"1\" class=\"dataframe\">\n",
       "  <thead>\n",
       "    <tr style=\"text-align: right;\">\n",
       "      <th></th>\n",
       "      <th>accuracy</th>\n",
       "      <th>balanced accuracy</th>\n",
       "      <th>f1</th>\n",
       "      <th>precision</th>\n",
       "      <th>false positive rate</th>\n",
       "      <th>false negative rate</th>\n",
       "      <th>selection rate</th>\n",
       "      <th>count</th>\n",
       "    </tr>\n",
       "    <tr>\n",
       "      <th>majmin</th>\n",
       "      <th></th>\n",
       "      <th></th>\n",
       "      <th></th>\n",
       "      <th></th>\n",
       "      <th></th>\n",
       "      <th></th>\n",
       "      <th></th>\n",
       "      <th></th>\n",
       "    </tr>\n",
       "  </thead>\n",
       "  <tbody>\n",
       "    <tr>\n",
       "      <th>majority</th>\n",
       "      <td>0.194622</td>\n",
       "      <td>0.531779</td>\n",
       "      <td>0.245210</td>\n",
       "      <td>0.139934</td>\n",
       "      <td>0.926487</td>\n",
       "      <td>0.009956</td>\n",
       "      <td>0.934885</td>\n",
       "      <td>69170.0</td>\n",
       "    </tr>\n",
       "    <tr>\n",
       "      <th>minority</th>\n",
       "      <td>0.206183</td>\n",
       "      <td>0.524560</td>\n",
       "      <td>0.214179</td>\n",
       "      <td>0.120886</td>\n",
       "      <td>0.889225</td>\n",
       "      <td>0.061655</td>\n",
       "      <td>0.894888</td>\n",
       "      <td>20540.0</td>\n",
       "    </tr>\n",
       "  </tbody>\n",
       "</table>\n",
       "</div>"
      ],
      "text/plain": [
       "          accuracy  balanced accuracy        f1  precision  \\\n",
       "majmin                                                       \n",
       "majority  0.194622           0.531779  0.245210   0.139934   \n",
       "minority  0.206183           0.524560  0.214179   0.120886   \n",
       "\n",
       "          false positive rate  false negative rate  selection rate    count  \n",
       "majmin                                                                       \n",
       "majority             0.926487             0.009956        0.934885  69170.0  \n",
       "minority             0.889225             0.061655        0.894888  20540.0  "
      ]
     },
     "execution_count": 68,
     "metadata": {},
     "output_type": "execute_result"
    }
   ],
   "source": [
    "metric_frame.by_group"
   ]
  },
  {
   "cell_type": "code",
   "execution_count": 69,
   "id": "a9ddbe63",
   "metadata": {
    "execution": {
     "iopub.execute_input": "2025-07-28T10:57:57.260113Z",
     "iopub.status.busy": "2025-07-28T10:57:57.259082Z",
     "iopub.status.idle": "2025-07-28T10:57:59.727090Z",
     "shell.execute_reply": "2025-07-28T10:57:59.726047Z"
    },
    "papermill": {
     "duration": 2.497246,
     "end_time": "2025-07-28T10:57:59.729051",
     "exception": false,
     "start_time": "2025-07-28T10:57:57.231805",
     "status": "completed"
    },
    "tags": []
   },
   "outputs": [
    {
     "data": {
      "text/plain": [
       "array([[<Axes: title={'center': 'accuracy'}, xlabel='majmin'>,\n",
       "        <Axes: title={'center': 'balanced accuracy'}, xlabel='majmin'>,\n",
       "        <Axes: title={'center': 'f1'}, xlabel='majmin'>],\n",
       "       [<Axes: title={'center': 'precision'}, xlabel='majmin'>,\n",
       "        <Axes: title={'center': 'false positive rate'}, xlabel='majmin'>,\n",
       "        <Axes: title={'center': 'false negative rate'}, xlabel='majmin'>],\n",
       "       [<Axes: title={'center': 'selection rate'}, xlabel='majmin'>,\n",
       "        <Axes: title={'center': 'count'}, xlabel='majmin'>,\n",
       "        <Axes: xlabel='majmin'>]], dtype=object)"
      ]
     },
     "execution_count": 69,
     "metadata": {},
     "output_type": "execute_result"
    },
    {
     "data": {
      "image/png": "[encoded data removed]",
      "text/plain": [
       "<Figure size 1200x800 with 9 Axes>"
      ]
     },
     "metadata": {},
     "output_type": "display_data"
    }
   ],
   "source": [
    "# In a graphic\n",
    "metric_frame.by_group.plot.bar(\n",
    "    subplots=True,\n",
    "    layout=[3, 3],\n",
    "    legend=False,\n",
    "    figsize=[12, 8],\n",
    "    title=\"Show all metrics\",\n",
    ")"
   ]
  },
  {
   "cell_type": "markdown",
   "id": "f57a0bac",
   "metadata": {
    "papermill": {
     "duration": 0.026864,
     "end_time": "2025-07-28T10:57:59.785209",
     "exception": false,
     "start_time": "2025-07-28T10:57:59.758345",
     "status": "completed"
    },
    "tags": []
   },
   "source": [
    "# Final Output"
   ]
  },
  {
   "cell_type": "code",
   "execution_count": 70,
   "id": "96d280a3",
   "metadata": {
    "execution": {
     "iopub.execute_input": "2025-07-28T10:57:59.843127Z",
     "iopub.status.busy": "2025-07-28T10:57:59.842200Z",
     "iopub.status.idle": "2025-07-28T10:57:59.850905Z",
     "shell.execute_reply": "2025-07-28T10:57:59.849845Z"
    },
    "papermill": {
     "duration": 0.040374,
     "end_time": "2025-07-28T10:57:59.852736",
     "exception": false,
     "start_time": "2025-07-28T10:57:59.812362",
     "status": "completed"
    },
    "tags": []
   },
   "outputs": [
    {
     "data": {
      "text/plain": [
       "4"
      ]
     },
     "execution_count": 70,
     "metadata": {},
     "output_type": "execute_result"
    }
   ],
   "source": [
    "sub_universes = universe_analysis.generate_sub_universes()\n",
    "len(sub_universes)"
   ]
  },
  {
   "cell_type": "code",
   "execution_count": 71,
   "id": "92adf7ba",
   "metadata": {
    "execution": {
     "iopub.execute_input": "2025-07-28T10:57:59.918108Z",
     "iopub.status.busy": "2025-07-28T10:57:59.917077Z",
     "iopub.status.idle": "2025-07-28T10:57:59.923911Z",
     "shell.execute_reply": "2025-07-28T10:57:59.922925Z"
    },
    "papermill": {
     "duration": 0.043603,
     "end_time": "2025-07-28T10:57:59.926151",
     "exception": false,
     "start_time": "2025-07-28T10:57:59.882548",
     "status": "completed"
    },
    "tags": []
   },
   "outputs": [],
   "source": [
    "def filter_sub_universe_data(sub_universe, org_test):\n",
    "    # Keep all rows — no filtering\n",
    "    keep_rows_mask = np.ones(org_test.shape[0], dtype=bool)\n",
    "\n",
    "    print(f\"[INFO] Keeping all rows: {keep_rows_mask.sum()} rows retained.\")\n",
    "    return keep_rows_mask"
   ]
  },
  {
   "cell_type": "code",
   "execution_count": 72,
   "id": "4a759155",
   "metadata": {
    "execution": {
     "iopub.execute_input": "2025-07-28T10:58:00.003728Z",
     "iopub.status.busy": "2025-07-28T10:58:00.003250Z",
     "iopub.status.idle": "2025-07-28T10:58:10.154173Z",
     "shell.execute_reply": "2025-07-28T10:58:10.153034Z"
    },
    "papermill": {
     "duration": 10.192327,
     "end_time": "2025-07-28T10:58:10.156250",
     "exception": false,
     "start_time": "2025-07-28T10:57:59.963923",
     "status": "completed"
    },
    "tags": []
   },
   "outputs": [
    {
     "name": "stdout",
     "output_type": "stream",
     "text": [
      "Stopping execution_time clock.\n",
      "[INFO] Keeping all rows: 89710 rows retained.\n"
     ]
    },
    {
     "name": "stdout",
     "output_type": "stream",
     "text": [
      "[INFO] Keeping all rows: 89710 rows retained.\n"
     ]
    },
    {
     "name": "stdout",
     "output_type": "stream",
     "text": [
      "[INFO] Keeping all rows: 89710 rows retained.\n"
     ]
    },
    {
     "name": "stdout",
     "output_type": "stream",
     "text": [
      "[INFO] Keeping all rows: 89710 rows retained.\n"
     ]
    },
    {
     "data": {
      "text/html": [
       "<div>\n",
       "<style scoped>\n",
       "    .dataframe tbody tr th:only-of-type {\n",
       "        vertical-align: middle;\n",
       "    }\n",
       "\n",
       "    .dataframe tbody tr th {\n",
       "        vertical-align: top;\n",
       "    }\n",
       "\n",
       "    .dataframe thead th {\n",
       "        text-align: right;\n",
       "    }\n",
       "</style>\n",
       "<table border=\"1\" class=\"dataframe\">\n",
       "  <thead>\n",
       "    <tr style=\"text-align: right;\">\n",
       "      <th></th>\n",
       "      <th>run_no</th>\n",
       "      <th>universe_id</th>\n",
       "      <th>universe_settings</th>\n",
       "      <th>execution_time</th>\n",
       "      <th>test_size_n</th>\n",
       "      <th>test_size_frac</th>\n",
       "      <th>fair_main_equalized_odds_difference</th>\n",
       "      <th>fair_main_equalized_odds_ratio</th>\n",
       "      <th>fair_main_demographic_parity_difference</th>\n",
       "      <th>fair_main_demographic_parity_ratio</th>\n",
       "      <th>...</th>\n",
       "      <th>perf_grp_precision_0</th>\n",
       "      <th>perf_grp_precision_1</th>\n",
       "      <th>perf_grp_false positive rate_0</th>\n",
       "      <th>perf_grp_false positive rate_1</th>\n",
       "      <th>perf_grp_false negative rate_0</th>\n",
       "      <th>perf_grp_false negative rate_1</th>\n",
       "      <th>perf_grp_selection rate_0</th>\n",
       "      <th>perf_grp_selection rate_1</th>\n",
       "      <th>perf_grp_count_0</th>\n",
       "      <th>perf_grp_count_1</th>\n",
       "    </tr>\n",
       "  </thead>\n",
       "  <tbody>\n",
       "    <tr>\n",
       "      <th>0</th>\n",
       "      <td>11</td>\n",
       "      <td>ddcef3cfee3ca9b272775693242d1751</td>\n",
       "      <td>{\"cutoff\": \"quantile_0.1\", \"eval_fairness_grou...</td>\n",
       "      <td>58.978905</td>\n",
       "      <td>89710</td>\n",
       "      <td>1.0</td>\n",
       "      <td>0.051699</td>\n",
       "      <td>0.947781</td>\n",
       "      <td>0.039997</td>\n",
       "      <td>0.957217</td>\n",
       "      <td>...</td>\n",
       "      <td>NaN</td>\n",
       "      <td>NaN</td>\n",
       "      <td>NaN</td>\n",
       "      <td>NaN</td>\n",
       "      <td>NaN</td>\n",
       "      <td>NaN</td>\n",
       "      <td>NaN</td>\n",
       "      <td>NaN</td>\n",
       "      <td>NaN</td>\n",
       "      <td>NaN</td>\n",
       "    </tr>\n",
       "    <tr>\n",
       "      <th>0</th>\n",
       "      <td>11</td>\n",
       "      <td>ddcef3cfee3ca9b272775693242d1751</td>\n",
       "      <td>{\"cutoff\": \"quantile_0.1\", \"eval_fairness_grou...</td>\n",
       "      <td>58.978905</td>\n",
       "      <td>89710</td>\n",
       "      <td>1.0</td>\n",
       "      <td>0.051699</td>\n",
       "      <td>0.947781</td>\n",
       "      <td>0.039997</td>\n",
       "      <td>0.957217</td>\n",
       "      <td>...</td>\n",
       "      <td>0.120886</td>\n",
       "      <td>0.139934</td>\n",
       "      <td>0.889225</td>\n",
       "      <td>0.926487</td>\n",
       "      <td>0.061655</td>\n",
       "      <td>0.009956</td>\n",
       "      <td>0.894888</td>\n",
       "      <td>0.934885</td>\n",
       "      <td>20540.0</td>\n",
       "      <td>69170.0</td>\n",
       "    </tr>\n",
       "    <tr>\n",
       "      <th>0</th>\n",
       "      <td>11</td>\n",
       "      <td>ddcef3cfee3ca9b272775693242d1751</td>\n",
       "      <td>{\"cutoff\": \"quantile_0.25\", \"eval_fairness_gro...</td>\n",
       "      <td>58.978905</td>\n",
       "      <td>89710</td>\n",
       "      <td>1.0</td>\n",
       "      <td>0.126035</td>\n",
       "      <td>0.867500</td>\n",
       "      <td>0.092769</td>\n",
       "      <td>0.880815</td>\n",
       "      <td>...</td>\n",
       "      <td>NaN</td>\n",
       "      <td>NaN</td>\n",
       "      <td>NaN</td>\n",
       "      <td>NaN</td>\n",
       "      <td>NaN</td>\n",
       "      <td>NaN</td>\n",
       "      <td>NaN</td>\n",
       "      <td>NaN</td>\n",
       "      <td>NaN</td>\n",
       "      <td>NaN</td>\n",
       "    </tr>\n",
       "    <tr>\n",
       "      <th>0</th>\n",
       "      <td>11</td>\n",
       "      <td>ddcef3cfee3ca9b272775693242d1751</td>\n",
       "      <td>{\"cutoff\": \"quantile_0.25\", \"eval_fairness_gro...</td>\n",
       "      <td>58.978905</td>\n",
       "      <td>89710</td>\n",
       "      <td>1.0</td>\n",
       "      <td>0.126035</td>\n",
       "      <td>0.867500</td>\n",
       "      <td>0.092769</td>\n",
       "      <td>0.880815</td>\n",
       "      <td>...</td>\n",
       "      <td>0.138759</td>\n",
       "      <td>0.161481</td>\n",
       "      <td>0.667400</td>\n",
       "      <td>0.752041</td>\n",
       "      <td>0.174831</td>\n",
       "      <td>0.048796</td>\n",
       "      <td>0.685589</td>\n",
       "      <td>0.778358</td>\n",
       "      <td>20540.0</td>\n",
       "      <td>69170.0</td>\n",
       "    </tr>\n",
       "  </tbody>\n",
       "</table>\n",
       "<p>4 rows × 50 columns</p>\n",
       "</div>"
      ],
      "text/plain": [
       "  run_no                       universe_id  \\\n",
       "0     11  ddcef3cfee3ca9b272775693242d1751   \n",
       "0     11  ddcef3cfee3ca9b272775693242d1751   \n",
       "0     11  ddcef3cfee3ca9b272775693242d1751   \n",
       "0     11  ddcef3cfee3ca9b272775693242d1751   \n",
       "\n",
       "                                   universe_settings  execution_time  \\\n",
       "0  {\"cutoff\": \"quantile_0.1\", \"eval_fairness_grou...       58.978905   \n",
       "0  {\"cutoff\": \"quantile_0.1\", \"eval_fairness_grou...       58.978905   \n",
       "0  {\"cutoff\": \"quantile_0.25\", \"eval_fairness_gro...       58.978905   \n",
       "0  {\"cutoff\": \"quantile_0.25\", \"eval_fairness_gro...       58.978905   \n",
       "\n",
       "   test_size_n  test_size_frac  fair_main_equalized_odds_difference  \\\n",
       "0        89710             1.0                             0.051699   \n",
       "0        89710             1.0                             0.051699   \n",
       "0        89710             1.0                             0.126035   \n",
       "0        89710             1.0                             0.126035   \n",
       "\n",
       "   fair_main_equalized_odds_ratio  fair_main_demographic_parity_difference  \\\n",
       "0                        0.947781                                 0.039997   \n",
       "0                        0.947781                                 0.039997   \n",
       "0                        0.867500                                 0.092769   \n",
       "0                        0.867500                                 0.092769   \n",
       "\n",
       "   fair_main_demographic_parity_ratio  ...  perf_grp_precision_0  \\\n",
       "0                            0.957217  ...                   NaN   \n",
       "0                            0.957217  ...              0.120886   \n",
       "0                            0.880815  ...                   NaN   \n",
       "0                            0.880815  ...              0.138759   \n",
       "\n",
       "   perf_grp_precision_1  perf_grp_false positive rate_0  \\\n",
       "0                   NaN                             NaN   \n",
       "0              0.139934                        0.889225   \n",
       "0                   NaN                             NaN   \n",
       "0              0.161481                        0.667400   \n",
       "\n",
       "   perf_grp_false positive rate_1  perf_grp_false negative rate_0  \\\n",
       "0                             NaN                             NaN   \n",
       "0                        0.926487                        0.061655   \n",
       "0                             NaN                             NaN   \n",
       "0                        0.752041                        0.174831   \n",
       "\n",
       "   perf_grp_false negative rate_1  perf_grp_selection rate_0  \\\n",
       "0                             NaN                        NaN   \n",
       "0                        0.009956                   0.894888   \n",
       "0                             NaN                        NaN   \n",
       "0                        0.048796                   0.685589   \n",
       "\n",
       "   perf_grp_selection rate_1  perf_grp_count_0  perf_grp_count_1  \n",
       "0                        NaN               NaN               NaN  \n",
       "0                   0.934885           20540.0           69170.0  \n",
       "0                        NaN               NaN               NaN  \n",
       "0                   0.778358           20540.0           69170.0  \n",
       "\n",
       "[4 rows x 50 columns]"
      ]
     },
     "execution_count": 72,
     "metadata": {},
     "output_type": "execute_result"
    }
   ],
   "source": [
    "final_output = universe_analysis.generate_final_output(\n",
    "    y_pred_prob=probs_test,\n",
    "    y_test=y_true,\n",
    "    org_test=org_test,\n",
    "    filter_data=filter_sub_universe_data,\n",
    "    cp_metrics_df=cp_metrics_df,\n",
    "    save=True,\n",
    ")\n",
    "final_output"
   ]
  },
  {
   "cell_type": "code",
   "execution_count": null,
   "id": "721ff514-cb11-46f8-b6fc-50392f74b5cb",
   "metadata": {
    "papermill": {
     "duration": 0.037305,
     "end_time": "2025-07-28T10:58:10.233725",
     "exception": false,
     "start_time": "2025-07-28T10:58:10.196420",
     "status": "completed"
    },
    "tags": []
   },
   "outputs": [],
   "source": []
  }
 ],
 "metadata": {
  "celltoolbar": "Tags",
  "kernelspec": {
   "display_name": "Python (CMA Fairness)",
   "language": "python",
   "name": "cma_fair_env"
  },
  "language_info": {
   "codemirror_mode": {
    "name": "ipython",
    "version": 3
   },
   "file_extension": ".py",
   "mimetype": "text/x-python",
   "name": "python",
   "nbconvert_exporter": "python",
   "pygments_lexer": "ipython3",
   "version": "3.10.12"
  },
  "papermill": {
   "default_parameters": {},
   "duration": 77.10483,
   "end_time": "2025-07-28T10:58:11.492912",
   "environment_variables": {},
   "exception": null,
   "input_path": "universe_analysis.ipynb",
   "output_path": "output/runs/11/notebooks/m_11-ddcef3cfee3ca9b272775693242d1751.ipynb",
   "parameters": {
    "output_dir": "output",
    "run_no": "11",
    "seed": "2023",
    "universe": "{\"cutoff\": [\"quantile_0.1\", \"quantile_0.25\"], \"eval_fairness_grouping\": [\"majority-minority\", \"nationality-all\"], \"exclude_features\": \"age\", \"exclude_subgroups\": \"drop-non-german\", \"model\": \"rf\", \"scale\": \"scale\", \"training_size\": \"2014\"}",
    "universe_id": "ddcef3cfee3ca9b272775693242d1751"
   },
   "start_time": "2025-07-28T10:56:54.388082",
   "version": "2.6.0"
  }
 },
 "nbformat": 4,
 "nbformat_minor": 5
}