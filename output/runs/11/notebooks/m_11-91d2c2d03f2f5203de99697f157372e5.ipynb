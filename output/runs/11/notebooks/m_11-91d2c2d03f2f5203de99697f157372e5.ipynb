{
 "cells": [
  {
   "cell_type": "code",
   "execution_count": 1,
   "id": "f159f837-637b-42ba-96b5-ec9a68c44524",
   "metadata": {
    "execution": {
     "iopub.execute_input": "2025-07-28T10:27:48.689067Z",
     "iopub.status.busy": "2025-07-28T10:27:48.688199Z",
     "iopub.status.idle": "2025-07-28T10:27:48.701700Z",
     "shell.execute_reply": "2025-07-28T10:27:48.700378Z"
    },
    "papermill": {
     "duration": 0.036515,
     "end_time": "2025-07-28T10:27:48.703959",
     "exception": false,
     "start_time": "2025-07-28T10:27:48.667444",
     "status": "completed"
    },
    "tags": []
   },
   "outputs": [
    {
     "name": "stdout",
     "output_type": "stream",
     "text": [
      "/dss/dsshome1/0C/ra93lal2/cma/CMA_Fairness_v2\n"
     ]
    },
    {
     "name": "stderr",
     "output_type": "stream",
     "text": [
      "/dss/dsshome1/0C/ra93lal2/.local/share/virtualenvs/CMA_Fairness_v2-3j10GkSs/lib/python3.10/site-packages/IPython/core/magics/osm.py:393: UserWarning: This is now an optional IPython functionality, using bookmarks requires you to install the `pickleshare` library.\n",
      "  bkms = self.shell.db.get('bookmarks', {})\n",
      "/dss/dsshome1/0C/ra93lal2/.local/share/virtualenvs/CMA_Fairness_v2-3j10GkSs/lib/python3.10/site-packages/IPython/core/magics/osm.py:417: UserWarning: This is now an optional IPython functionality, setting dhist requires you to install the `pickleshare` library.\n",
      "  self.shell.db['dhist'] = compress_dhist(dhist)[-100:]\n"
     ]
    }
   ],
   "source": [
    "%cd ~/cma/CMA_Fairness_v2"
   ]
  },
  {
   "cell_type": "markdown",
   "id": "de2603b9",
   "metadata": {
    "papermill": {
     "duration": 0.019341,
     "end_time": "2025-07-28T10:27:48.743389",
     "exception": false,
     "start_time": "2025-07-28T10:27:48.724048",
     "status": "completed"
    },
    "tags": []
   },
   "source": [
    "The following cell holds the definition of our parameters, these values can be overriden by rendering the with e.g. the following command:\n",
    "\n",
    "papermill -p alpha 0.2 -p ratio 0.3 universe_analysis.ipynb output/test_run.ipynb"
   ]
  },
  {
   "cell_type": "code",
   "execution_count": 2,
   "id": "a80968a0-40bb-4fa9-85ef-2d5eefb01975",
   "metadata": {
    "execution": {
     "iopub.execute_input": "2025-07-28T10:27:48.782835Z",
     "iopub.status.busy": "2025-07-28T10:27:48.782379Z",
     "iopub.status.idle": "2025-07-28T10:27:48.787764Z",
     "shell.execute_reply": "2025-07-28T10:27:48.786929Z"
    },
    "papermill": {
     "duration": 0.027626,
     "end_time": "2025-07-28T10:27:48.789635",
     "exception": false,
     "start_time": "2025-07-28T10:27:48.762009",
     "status": "completed"
    },
    "tags": []
   },
   "outputs": [
    {
     "name": "stdout",
     "output_type": "stream",
     "text": [
      "Current working directory: /dss/dsshome1/0C/ra93lal2/cma/CMA_Fairness_v2\n"
     ]
    }
   ],
   "source": [
    "import os\n",
    "print(\"Current working directory:\", os.getcwd())"
   ]
  },
  {
   "cell_type": "code",
   "execution_count": 3,
   "id": "2dce4c03",
   "metadata": {
    "execution": {
     "iopub.execute_input": "2025-07-28T10:27:48.832163Z",
     "iopub.status.busy": "2025-07-28T10:27:48.831669Z",
     "iopub.status.idle": "2025-07-28T10:27:48.838194Z",
     "shell.execute_reply": "2025-07-28T10:27:48.837162Z"
    },
    "papermill": {
     "duration": 0.029863,
     "end_time": "2025-07-28T10:27:48.839936",
     "exception": false,
     "start_time": "2025-07-28T10:27:48.810073",
     "status": "completed"
    },
    "tags": [
     "parameters"
    ]
   },
   "outputs": [],
   "source": [
    "run_no = 0\n",
    "universe_id = \"test\"\n",
    "universe = {\n",
    "    \"training_size\": \"2014\", # \"25k\", \"5k\", \"1k\", \"2014\"\n",
    "    \"scale\": \"scale\", # \"scale\", \"do-not-scale\",\n",
    "    #\"stratify_split\": \"target\", # \"none\", \"target\", \"protected-attribute\", \"both\",\n",
    "    \"model\": \"elasticnet\", # \"logreg\", \"penalized_logreg\", \"rf\", \"gbm\", \"elasticnet\"\n",
    "    \"cutoff\": [\"quantile_0.15\", \"quantile_0.30\"],\n",
    "    \"exclude_features\": \"age\", # \"none\", \"nationality\", \"sex\", \"nationality-sex\", \"age\"\n",
    "    \"exclude_subgroups\": \"keep-all\", # \"keep-all\", \"drop-non-german\"\n",
    "    #\"training_sample\": \"restricted\", # \"restricted\", \"full\"\n",
    "    \"eval_fairness_grouping\": [\"majority-minority\", \"nationality-all\"]\n",
    "}\n",
    "\n",
    "output_dir=\"./output\"\n",
    "seed=0"
   ]
  },
  {
   "cell_type": "code",
   "execution_count": 4,
   "id": "76323fb2",
   "metadata": {
    "execution": {
     "iopub.execute_input": "2025-07-28T10:27:48.883574Z",
     "iopub.status.busy": "2025-07-28T10:27:48.882843Z",
     "iopub.status.idle": "2025-07-28T10:27:48.888488Z",
     "shell.execute_reply": "2025-07-28T10:27:48.887527Z"
    },
    "papermill": {
     "duration": 0.029735,
     "end_time": "2025-07-28T10:27:48.890456",
     "exception": false,
     "start_time": "2025-07-28T10:27:48.860721",
     "status": "completed"
    },
    "tags": [
     "injected-parameters"
    ]
   },
   "outputs": [],
   "source": [
    "# Parameters\n",
    "universe_id = \"91d2c2d03f2f5203de99697f157372e5\"\n",
    "run_no = \"11\"\n",
    "universe = \"{\\\"cutoff\\\": [\\\"quantile_0.1\\\", \\\"quantile_0.25\\\"], \\\"eval_fairness_grouping\\\": [\\\"majority-minority\\\", \\\"nationality-all\\\"], \\\"exclude_features\\\": \\\"age\\\", \\\"exclude_subgroups\\\": \\\"drop-non-german\\\", \\\"model\\\": \\\"logreg\\\", \\\"scale\\\": \\\"scale\\\", \\\"training_size\\\": \\\"5k\\\"}\"\n",
    "output_dir = \"output\"\n",
    "seed = \"2023\"\n"
   ]
  },
  {
   "cell_type": "code",
   "execution_count": 5,
   "id": "1650acaf",
   "metadata": {
    "execution": {
     "iopub.execute_input": "2025-07-28T10:27:48.932856Z",
     "iopub.status.busy": "2025-07-28T10:27:48.932133Z",
     "iopub.status.idle": "2025-07-28T10:27:48.937777Z",
     "shell.execute_reply": "2025-07-28T10:27:48.936760Z"
    },
    "papermill": {
     "duration": 0.028864,
     "end_time": "2025-07-28T10:27:48.939427",
     "exception": false,
     "start_time": "2025-07-28T10:27:48.910563",
     "status": "completed"
    },
    "tags": []
   },
   "outputs": [],
   "source": [
    "import json\n",
    "# Parse universe into dict if it is passed as a string\n",
    "if isinstance(universe, str):\n",
    "    universe = json.loads(universe)"
   ]
  },
  {
   "cell_type": "code",
   "execution_count": 6,
   "id": "16620c48",
   "metadata": {
    "execution": {
     "iopub.execute_input": "2025-07-28T10:27:48.983236Z",
     "iopub.status.busy": "2025-07-28T10:27:48.982540Z",
     "iopub.status.idle": "2025-07-28T10:27:49.027428Z",
     "shell.execute_reply": "2025-07-28T10:27:49.026436Z"
    },
    "papermill": {
     "duration": 0.06844,
     "end_time": "2025-07-28T10:27:49.029542",
     "exception": false,
     "start_time": "2025-07-28T10:27:48.961102",
     "status": "completed"
    },
    "tags": []
   },
   "outputs": [],
   "source": [
    "# Auto-reload the custom package\n",
    "%load_ext autoreload\n",
    "%autoreload 1\n",
    "%aimport fairness_multiverse"
   ]
  },
  {
   "cell_type": "code",
   "execution_count": 7,
   "id": "01c5c9f3",
   "metadata": {
    "execution": {
     "iopub.execute_input": "2025-07-28T10:27:49.071944Z",
     "iopub.status.busy": "2025-07-28T10:27:49.071422Z",
     "iopub.status.idle": "2025-07-28T10:27:51.108008Z",
     "shell.execute_reply": "2025-07-28T10:27:51.106931Z"
    },
    "papermill": {
     "duration": 2.060589,
     "end_time": "2025-07-28T10:27:51.110174",
     "exception": false,
     "start_time": "2025-07-28T10:27:49.049585",
     "status": "completed"
    },
    "tags": []
   },
   "outputs": [],
   "source": [
    "from fairness_multiverse.universe import UniverseAnalysis\n",
    "\n",
    "universe_analysis = UniverseAnalysis(\n",
    "    run_no = run_no,\n",
    "    universe_id = universe_id,\n",
    "    universe = universe,\n",
    "    output_dir=output_dir,\n",
    ")"
   ]
  },
  {
   "cell_type": "code",
   "execution_count": 8,
   "id": "106241f5",
   "metadata": {
    "execution": {
     "iopub.execute_input": "2025-07-28T10:27:51.155051Z",
     "iopub.status.busy": "2025-07-28T10:27:51.154656Z",
     "iopub.status.idle": "2025-07-28T10:27:51.160828Z",
     "shell.execute_reply": "2025-07-28T10:27:51.159795Z"
    },
    "papermill": {
     "duration": 0.030825,
     "end_time": "2025-07-28T10:27:51.162557",
     "exception": false,
     "start_time": "2025-07-28T10:27:51.131732",
     "status": "completed"
    },
    "tags": []
   },
   "outputs": [
    {
     "name": "stdout",
     "output_type": "stream",
     "text": [
      "Using Seed: 2023\n"
     ]
    }
   ],
   "source": [
    "import numpy as np\n",
    "parsed_seed = int(seed)\n",
    "np.random.seed(parsed_seed)\n",
    "print(f\"Using Seed: {parsed_seed}\")"
   ]
  },
  {
   "cell_type": "markdown",
   "id": "e0ebdc57",
   "metadata": {
    "papermill": {
     "duration": 0.020577,
     "end_time": "2025-07-28T10:27:51.203742",
     "exception": false,
     "start_time": "2025-07-28T10:27:51.183165",
     "status": "completed"
    },
    "tags": []
   },
   "source": [
    "# Loading Data"
   ]
  },
  {
   "cell_type": "markdown",
   "id": "681925a3",
   "metadata": {
    "papermill": {
     "duration": 0.019705,
     "end_time": "2025-07-28T10:27:51.244096",
     "exception": false,
     "start_time": "2025-07-28T10:27:51.224391",
     "status": "completed"
    },
    "tags": []
   },
   "source": [
    "Load siab_train, siab_test, siab_calib and/or \n",
    "load siab_train_features, siab_train_labels"
   ]
  },
  {
   "cell_type": "code",
   "execution_count": 9,
   "id": "f0496b8a",
   "metadata": {
    "execution": {
     "iopub.execute_input": "2025-07-28T10:27:51.286075Z",
     "iopub.status.busy": "2025-07-28T10:27:51.285587Z",
     "iopub.status.idle": "2025-07-28T10:28:03.782368Z",
     "shell.execute_reply": "2025-07-28T10:28:03.781270Z"
    },
    "papermill": {
     "duration": 12.520618,
     "end_time": "2025-07-28T10:28:03.784048",
     "exception": false,
     "start_time": "2025-07-28T10:27:51.263430",
     "status": "completed"
    },
    "tags": []
   },
   "outputs": [
    {
     "name": "stdout",
     "output_type": "stream",
     "text": [
      "Loading SIAB data from cache: data/siab_cached.csv.gz\n"
     ]
    },
    {
     "name": "stdout",
     "output_type": "stream",
     "text": [
      "(643690, 164)\n"
     ]
    }
   ],
   "source": [
    "from pathlib import Path\n",
    "import pandas as pd\n",
    "\n",
    "# File paths\n",
    "raw_file = Path(\"data/raw/siab.csv\")\n",
    "cache_file = Path(\"data/siab_cached.csv.gz\")\n",
    "\n",
    "# Ensure cache directory exists\n",
    "cache_file.parent.mkdir(parents=True, exist_ok=True)\n",
    "\n",
    "# Load with simple caching\n",
    "if cache_file.exists():\n",
    "    print(f\"Loading SIAB data from cache: {cache_file}\")\n",
    "    siab = pd.read_csv(cache_file, compression='gzip')\n",
    "else:\n",
    "    print(f\"Cache not found. Reading raw SIAB data: {raw_file}\")\n",
    "    siab = pd.read_csv(raw_file)\n",
    "    siab.to_csv(cache_file, index=False, compression='gzip')\n",
    "    print(f\"Cached SIAB data to: {cache_file}\")\n",
    "\n",
    "# Now use `siab` DataFrame as needed\n",
    "print(siab.shape)"
   ]
  },
  {
   "cell_type": "code",
   "execution_count": 10,
   "id": "db0ca512-5f53-4dba-abdb-a2888bca41ba",
   "metadata": {
    "execution": {
     "iopub.execute_input": "2025-07-28T10:28:03.827724Z",
     "iopub.status.busy": "2025-07-28T10:28:03.827008Z",
     "iopub.status.idle": "2025-07-28T10:28:03.836273Z",
     "shell.execute_reply": "2025-07-28T10:28:03.835288Z"
    },
    "papermill": {
     "duration": 0.031401,
     "end_time": "2025-07-28T10:28:03.838103",
     "exception": false,
     "start_time": "2025-07-28T10:28:03.806702",
     "status": "completed"
    },
    "tags": []
   },
   "outputs": [],
   "source": [
    "#siab"
   ]
  },
  {
   "cell_type": "code",
   "execution_count": 11,
   "id": "a0edb063",
   "metadata": {
    "execution": {
     "iopub.execute_input": "2025-07-28T10:28:03.881315Z",
     "iopub.status.busy": "2025-07-28T10:28:03.880388Z",
     "iopub.status.idle": "2025-07-28T10:28:03.885931Z",
     "shell.execute_reply": "2025-07-28T10:28:03.884988Z"
    },
    "papermill": {
     "duration": 0.028929,
     "end_time": "2025-07-28T10:28:03.887911",
     "exception": false,
     "start_time": "2025-07-28T10:28:03.858982",
     "status": "completed"
    },
    "tags": []
   },
   "outputs": [],
   "source": [
    "#import pandas as pd\n",
    "#\n",
    "#X_train = pd.read_csv(\"./data/X_train.csv\")\n",
    "#y_train = pd.read_csv(\"./data/y_train.csv\")"
   ]
  },
  {
   "cell_type": "code",
   "execution_count": 12,
   "id": "63d08085",
   "metadata": {
    "execution": {
     "iopub.execute_input": "2025-07-28T10:28:03.934788Z",
     "iopub.status.busy": "2025-07-28T10:28:03.934287Z",
     "iopub.status.idle": "2025-07-28T10:28:03.939458Z",
     "shell.execute_reply": "2025-07-28T10:28:03.938492Z"
    },
    "papermill": {
     "duration": 0.032161,
     "end_time": "2025-07-28T10:28:03.941577",
     "exception": false,
     "start_time": "2025-07-28T10:28:03.909416",
     "status": "completed"
    },
    "tags": []
   },
   "outputs": [],
   "source": [
    "#X_test = pd.read_csv(\"./data/X_test.csv\")\n",
    "#y_true = pd.read_csv(\"./data/y_test.csv\")"
   ]
  },
  {
   "cell_type": "code",
   "execution_count": 13,
   "id": "98a8d0fa-1d3d-4ed8-bb2c-281470e24add",
   "metadata": {
    "execution": {
     "iopub.execute_input": "2025-07-28T10:28:03.986763Z",
     "iopub.status.busy": "2025-07-28T10:28:03.986254Z",
     "iopub.status.idle": "2025-07-28T10:28:03.991823Z",
     "shell.execute_reply": "2025-07-28T10:28:03.990918Z"
    },
    "papermill": {
     "duration": 0.030392,
     "end_time": "2025-07-28T10:28:03.993637",
     "exception": false,
     "start_time": "2025-07-28T10:28:03.963245",
     "status": "completed"
    },
    "tags": []
   },
   "outputs": [],
   "source": [
    "# Calibration data for conformal\n",
    "#X_calib = pd.read_csv(\"./data/X_calib.csv\")\n",
    "#y_calib = pd.read_csv(\"./data/y_calib.csv\")"
   ]
  },
  {
   "cell_type": "markdown",
   "id": "9901737e-04df-44f0-9100-f5ad144ed040",
   "metadata": {
    "papermill": {
     "duration": 0.018526,
     "end_time": "2025-07-28T10:28:04.031424",
     "exception": false,
     "start_time": "2025-07-28T10:28:04.012898",
     "status": "completed"
    },
    "tags": []
   },
   "source": [
    "# Splitting Data and Setting Training Data Size"
   ]
  },
  {
   "cell_type": "code",
   "execution_count": 14,
   "id": "acbc8f7d-8fc8-4e86-8c59-5dcb0f58384b",
   "metadata": {
    "execution": {
     "iopub.execute_input": "2025-07-28T10:28:04.070785Z",
     "iopub.status.busy": "2025-07-28T10:28:04.069929Z",
     "iopub.status.idle": "2025-07-28T10:28:04.078341Z",
     "shell.execute_reply": "2025-07-28T10:28:04.077350Z"
    },
    "papermill": {
     "duration": 0.029598,
     "end_time": "2025-07-28T10:28:04.079697",
     "exception": false,
     "start_time": "2025-07-28T10:28:04.050099",
     "status": "completed"
    },
    "tags": []
   },
   "outputs": [],
   "source": [
    "def sample_by_year(df, training_size, random_state=42):\n",
    "    if training_size == \"2014\":\n",
    "        return df[df[\"year\"] == 2014].reset_index(drop=True)\n",
    "    \n",
    "    size_map = {\n",
    "        \"25k\": 5000,\n",
    "        \"5k\": 1000,\n",
    "        \"1k\": 200\n",
    "    }\n",
    "\n",
    "    if training_size not in size_map:\n",
    "        return df.reset_index(drop=True)  # use all data\n",
    "\n",
    "    n_per_year = size_map[training_size]\n",
    "    grouped = df.groupby(\"year\")\n",
    "    sampled = grouped.apply(lambda x: x.sample(n=min(n_per_year, len(x)), random_state=random_state))\n",
    "    return sampled.reset_index(drop=True)"
   ]
  },
  {
   "cell_type": "code",
   "execution_count": 15,
   "id": "6d931f52-beaf-43ff-9e78-9d44a448d54e",
   "metadata": {
    "execution": {
     "iopub.execute_input": "2025-07-28T10:28:04.124150Z",
     "iopub.status.busy": "2025-07-28T10:28:04.123276Z",
     "iopub.status.idle": "2025-07-28T10:28:04.802198Z",
     "shell.execute_reply": "2025-07-28T10:28:04.801186Z"
    },
    "papermill": {
     "duration": 0.703119,
     "end_time": "2025-07-28T10:28:04.804492",
     "exception": false,
     "start_time": "2025-07-28T10:28:04.101373",
     "status": "completed"
    },
    "tags": []
   },
   "outputs": [],
   "source": [
    "siab_s = sample_by_year(siab, universe[\"training_size\"])"
   ]
  },
  {
   "cell_type": "code",
   "execution_count": 16,
   "id": "5db0a40e-a4e2-4920-be85-b12ae061d70d",
   "metadata": {
    "execution": {
     "iopub.execute_input": "2025-07-28T10:28:04.847421Z",
     "iopub.status.busy": "2025-07-28T10:28:04.846890Z",
     "iopub.status.idle": "2025-07-28T10:28:04.860380Z",
     "shell.execute_reply": "2025-07-28T10:28:04.859391Z"
    },
    "papermill": {
     "duration": 0.035686,
     "end_time": "2025-07-28T10:28:04.862126",
     "exception": false,
     "start_time": "2025-07-28T10:28:04.826440",
     "status": "completed"
    },
    "tags": []
   },
   "outputs": [
    {
     "data": {
      "text/plain": [
       "year\n",
       "2010    1000\n",
       "2011    1000\n",
       "2012    1000\n",
       "2013    1000\n",
       "2014    1000\n",
       "2015    1000\n",
       "2016    1000\n",
       "dtype: int64"
      ]
     },
     "metadata": {},
     "output_type": "display_data"
    }
   ],
   "source": [
    "display(siab_s.groupby(\"year\").size())"
   ]
  },
  {
   "cell_type": "code",
   "execution_count": 17,
   "id": "a561edb4-d032-42cb-8256-22eac1111c64",
   "metadata": {
    "execution": {
     "iopub.execute_input": "2025-07-28T10:28:04.903524Z",
     "iopub.status.busy": "2025-07-28T10:28:04.902562Z",
     "iopub.status.idle": "2025-07-28T10:28:05.143485Z",
     "shell.execute_reply": "2025-07-28T10:28:05.142456Z"
    },
    "papermill": {
     "duration": 0.263527,
     "end_time": "2025-07-28T10:28:05.145337",
     "exception": false,
     "start_time": "2025-07-28T10:28:04.881810",
     "status": "completed"
    },
    "tags": []
   },
   "outputs": [],
   "source": [
    "siab_train = siab_s[siab_s.year < 2015]\n",
    "siab_calib = siab[siab.year == 2015]\n",
    "siab_test = siab[siab.year == 2016]"
   ]
  },
  {
   "cell_type": "code",
   "execution_count": 18,
   "id": "472de16f-c3db-4916-846b-1f0de9cf1746",
   "metadata": {
    "execution": {
     "iopub.execute_input": "2025-07-28T10:28:05.186443Z",
     "iopub.status.busy": "2025-07-28T10:28:05.184510Z",
     "iopub.status.idle": "2025-07-28T10:28:05.194239Z",
     "shell.execute_reply": "2025-07-28T10:28:05.193280Z"
    },
    "papermill": {
     "duration": 0.031085,
     "end_time": "2025-07-28T10:28:05.195975",
     "exception": false,
     "start_time": "2025-07-28T10:28:05.164890",
     "status": "completed"
    },
    "tags": []
   },
   "outputs": [],
   "source": [
    "X_train = siab_train.iloc[:,4:164]\n",
    "y_train = siab_train.iloc[:, [3]]"
   ]
  },
  {
   "cell_type": "code",
   "execution_count": 19,
   "id": "828c96af-f43a-4ed6-ba47-8ac73a47d56c",
   "metadata": {
    "execution": {
     "iopub.execute_input": "2025-07-28T10:28:05.237424Z",
     "iopub.status.busy": "2025-07-28T10:28:05.236893Z",
     "iopub.status.idle": "2025-07-28T10:28:05.293939Z",
     "shell.execute_reply": "2025-07-28T10:28:05.292873Z"
    },
    "papermill": {
     "duration": 0.080664,
     "end_time": "2025-07-28T10:28:05.295945",
     "exception": false,
     "start_time": "2025-07-28T10:28:05.215281",
     "status": "completed"
    },
    "tags": []
   },
   "outputs": [],
   "source": [
    "X_calib = siab_calib.iloc[:,4:164]\n",
    "y_calib = siab_calib.iloc[:, [3]]"
   ]
  },
  {
   "cell_type": "code",
   "execution_count": 20,
   "id": "c34be9c3-6bd6-476e-acd3-845840e303be",
   "metadata": {
    "execution": {
     "iopub.execute_input": "2025-07-28T10:28:05.342891Z",
     "iopub.status.busy": "2025-07-28T10:28:05.342110Z",
     "iopub.status.idle": "2025-07-28T10:28:05.402170Z",
     "shell.execute_reply": "2025-07-28T10:28:05.401091Z"
    },
    "papermill": {
     "duration": 0.085317,
     "end_time": "2025-07-28T10:28:05.404003",
     "exception": false,
     "start_time": "2025-07-28T10:28:05.318686",
     "status": "completed"
    },
    "tags": []
   },
   "outputs": [],
   "source": [
    "X_test = siab_test.iloc[:,4:164]\n",
    "y_true = siab_test.iloc[:, [3]]"
   ]
  },
  {
   "cell_type": "code",
   "execution_count": 21,
   "id": "e6c733c5",
   "metadata": {
    "execution": {
     "iopub.execute_input": "2025-07-28T10:28:05.447528Z",
     "iopub.status.busy": "2025-07-28T10:28:05.446805Z",
     "iopub.status.idle": "2025-07-28T10:28:05.557551Z",
     "shell.execute_reply": "2025-07-28T10:28:05.556539Z"
    },
    "papermill": {
     "duration": 0.134459,
     "end_time": "2025-07-28T10:28:05.559425",
     "exception": false,
     "start_time": "2025-07-28T10:28:05.424966",
     "status": "completed"
    },
    "tags": []
   },
   "outputs": [],
   "source": [
    "# Auxiliary data needed downstream in the pipeline\n",
    "\n",
    "org_train = X_train.copy()\n",
    "org_test = X_test.copy()\n",
    "org_calib = X_calib.copy()"
   ]
  },
  {
   "cell_type": "markdown",
   "id": "0a4a1b33",
   "metadata": {
    "papermill": {
     "duration": 0.020333,
     "end_time": "2025-07-28T10:28:05.600896",
     "exception": false,
     "start_time": "2025-07-28T10:28:05.580563",
     "status": "completed"
    },
    "tags": []
   },
   "source": [
    "# Preprocessing Data"
   ]
  },
  {
   "cell_type": "code",
   "execution_count": 22,
   "id": "ca879031",
   "metadata": {
    "execution": {
     "iopub.execute_input": "2025-07-28T10:28:05.625882Z",
     "iopub.status.busy": "2025-07-28T10:28:05.625154Z",
     "iopub.status.idle": "2025-07-28T10:28:05.630911Z",
     "shell.execute_reply": "2025-07-28T10:28:05.630035Z"
    },
    "papermill": {
     "duration": 0.019598,
     "end_time": "2025-07-28T10:28:05.632440",
     "exception": false,
     "start_time": "2025-07-28T10:28:05.612842",
     "status": "completed"
    },
    "tags": []
   },
   "outputs": [],
   "source": [
    "# EXCLUDE PROTECTED FEATURES\n",
    "# ----------------------\n",
    "# \"exclude_features\": \"none\", # \"nationality\", \"sex\", \"nationality-sex\"\n",
    "\n",
    "excluded_features = universe[\"exclude_features\"].split(\"-\") # split, e.g.: \"nationality-sex\" -> [\"nationality\", \"sex\"]\n",
    "excluded_features_dictionary = {\n",
    "    \"nationality\": [\"maxdeutsch1\", \"maxdeutsch.Missing.\"],\n",
    "    \"sex\": [\"frau1\"],\n",
    "    \"age\": [\"age\"],\n",
    "}\n"
   ]
  },
  {
   "cell_type": "code",
   "execution_count": 23,
   "id": "b745ac60",
   "metadata": {
    "execution": {
     "iopub.execute_input": "2025-07-28T10:28:05.665805Z",
     "iopub.status.busy": "2025-07-28T10:28:05.664990Z",
     "iopub.status.idle": "2025-07-28T10:28:05.671970Z",
     "shell.execute_reply": "2025-07-28T10:28:05.670901Z"
    },
    "papermill": {
     "duration": 0.029666,
     "end_time": "2025-07-28T10:28:05.673840",
     "exception": false,
     "start_time": "2025-07-28T10:28:05.644174",
     "status": "completed"
    },
    "tags": []
   },
   "outputs": [],
   "source": [
    "# Code nice names to column names\n",
    "\n",
    "excluded_features_columns = [\n",
    "    excluded_features_dictionary[f] for f in excluded_features if len(f) > 0 and f != \"none\"\n",
    "]"
   ]
  },
  {
   "cell_type": "code",
   "execution_count": 24,
   "id": "f84f73a2",
   "metadata": {
    "execution": {
     "iopub.execute_input": "2025-07-28T10:28:05.725772Z",
     "iopub.status.busy": "2025-07-28T10:28:05.725272Z",
     "iopub.status.idle": "2025-07-28T10:28:05.732201Z",
     "shell.execute_reply": "2025-07-28T10:28:05.731291Z"
    },
    "papermill": {
     "duration": 0.034513,
     "end_time": "2025-07-28T10:28:05.733864",
     "exception": false,
     "start_time": "2025-07-28T10:28:05.699351",
     "status": "completed"
    },
    "tags": []
   },
   "outputs": [],
   "source": [
    "from utils import flatten_once\n",
    "\n",
    "excluded_features_columns = flatten_once(excluded_features_columns)"
   ]
  },
  {
   "cell_type": "code",
   "execution_count": 25,
   "id": "884dea22",
   "metadata": {
    "execution": {
     "iopub.execute_input": "2025-07-28T10:28:05.777315Z",
     "iopub.status.busy": "2025-07-28T10:28:05.776333Z",
     "iopub.status.idle": "2025-07-28T10:28:05.785809Z",
     "shell.execute_reply": "2025-07-28T10:28:05.784796Z"
    },
    "papermill": {
     "duration": 0.032635,
     "end_time": "2025-07-28T10:28:05.787339",
     "exception": false,
     "start_time": "2025-07-28T10:28:05.754704",
     "status": "completed"
    },
    "tags": []
   },
   "outputs": [
    {
     "name": "stdout",
     "output_type": "stream",
     "text": [
      "Dropping features: ['age']\n"
     ]
    }
   ],
   "source": [
    "if len(excluded_features_columns) > 0:\n",
    "    print(f\"Dropping features: {excluded_features_columns}\")\n",
    "    X_train.drop(excluded_features_columns, axis=1, inplace=True)"
   ]
  },
  {
   "cell_type": "code",
   "execution_count": 26,
   "id": "95ab8b16",
   "metadata": {
    "execution": {
     "iopub.execute_input": "2025-07-28T10:28:05.830528Z",
     "iopub.status.busy": "2025-07-28T10:28:05.829587Z",
     "iopub.status.idle": "2025-07-28T10:28:05.890357Z",
     "shell.execute_reply": "2025-07-28T10:28:05.889177Z"
    },
    "papermill": {
     "duration": 0.083842,
     "end_time": "2025-07-28T10:28:05.892066",
     "exception": false,
     "start_time": "2025-07-28T10:28:05.808224",
     "status": "completed"
    },
    "tags": []
   },
   "outputs": [
    {
     "name": "stdout",
     "output_type": "stream",
     "text": [
      "Dropping features: ['age']\n"
     ]
    }
   ],
   "source": [
    "if len(excluded_features_columns) > 0:\n",
    "    print(f\"Dropping features: {excluded_features_columns}\")\n",
    "    X_test.drop(excluded_features_columns, axis=1, inplace=True)"
   ]
  },
  {
   "cell_type": "code",
   "execution_count": 27,
   "id": "1853aaf5-fb9f-46cb-a2b5-8ea4ae2237e4",
   "metadata": {
    "execution": {
     "iopub.execute_input": "2025-07-28T10:28:05.935939Z",
     "iopub.status.busy": "2025-07-28T10:28:05.935064Z",
     "iopub.status.idle": "2025-07-28T10:28:05.987435Z",
     "shell.execute_reply": "2025-07-28T10:28:05.986299Z"
    },
    "papermill": {
     "duration": 0.076117,
     "end_time": "2025-07-28T10:28:05.989356",
     "exception": false,
     "start_time": "2025-07-28T10:28:05.913239",
     "status": "completed"
    },
    "tags": []
   },
   "outputs": [
    {
     "name": "stdout",
     "output_type": "stream",
     "text": [
      "Dropping features: ['age']\n"
     ]
    }
   ],
   "source": [
    "if len(excluded_features_columns) > 0:\n",
    "    print(f\"Dropping features: {excluded_features_columns}\")\n",
    "    X_calib.drop(excluded_features_columns, axis=1, inplace=True)"
   ]
  },
  {
   "cell_type": "code",
   "execution_count": 28,
   "id": "6727d079-03e5-481e-9d38-292a90b7a0a8",
   "metadata": {
    "execution": {
     "iopub.execute_input": "2025-07-28T10:28:06.033877Z",
     "iopub.status.busy": "2025-07-28T10:28:06.032848Z",
     "iopub.status.idle": "2025-07-28T10:28:06.037804Z",
     "shell.execute_reply": "2025-07-28T10:28:06.036897Z"
    },
    "papermill": {
     "duration": 0.028785,
     "end_time": "2025-07-28T10:28:06.039534",
     "exception": false,
     "start_time": "2025-07-28T10:28:06.010749",
     "status": "completed"
    },
    "tags": []
   },
   "outputs": [],
   "source": [
    "# SPLIT & STRATIFY DATA\n",
    "# ----------------------"
   ]
  },
  {
   "cell_type": "code",
   "execution_count": 29,
   "id": "76c4dc6d",
   "metadata": {
    "execution": {
     "iopub.execute_input": "2025-07-28T10:28:06.081724Z",
     "iopub.status.busy": "2025-07-28T10:28:06.081111Z",
     "iopub.status.idle": "2025-07-28T10:28:06.086351Z",
     "shell.execute_reply": "2025-07-28T10:28:06.085458Z"
    },
    "papermill": {
     "duration": 0.02773,
     "end_time": "2025-07-28T10:28:06.088018",
     "exception": false,
     "start_time": "2025-07-28T10:28:06.060288",
     "status": "completed"
    },
    "tags": []
   },
   "outputs": [],
   "source": [
    "# EXCLUDE CERTAIN SUBGROUPS\n",
    "# ----------------------\n",
    "\n",
    "mode = universe.get(\"exclude_subgroups\", \"keep-all\") \n",
    "# Fetches the exclude_subgroups setting from the universe dict.\n",
    "# Defaults to \"keep-all\" if the key is missing."
   ]
  },
  {
   "cell_type": "code",
   "execution_count": 30,
   "id": "21994072",
   "metadata": {
    "execution": {
     "iopub.execute_input": "2025-07-28T10:28:06.129814Z",
     "iopub.status.busy": "2025-07-28T10:28:06.129237Z",
     "iopub.status.idle": "2025-07-28T10:28:06.136247Z",
     "shell.execute_reply": "2025-07-28T10:28:06.135271Z"
    },
    "papermill": {
     "duration": 0.029427,
     "end_time": "2025-07-28T10:28:06.137867",
     "exception": false,
     "start_time": "2025-07-28T10:28:06.108440",
     "status": "completed"
    },
    "tags": []
   },
   "outputs": [],
   "source": [
    "if mode == \"keep-all\":\n",
    "    keep_mask = pd.Series(True, index=org_train.index)\n",
    "\n",
    "# org_train contains the original feature columns from features_org (in Simson)\n",
    "# features_org contains unprocessed features, for me X_train at beginning ???\n",
    "# For keep-all, creates a boolean Series (keep_mask) of all True, so no rows are removed.\n",
    "\n",
    "elif mode == \"drop-non-german\":\n",
    "    keep_mask = org_train[\"maxdeutsch1\"] == 1 # ??? what about missing values?\n",
    "\n",
    "else:\n",
    "    raise ValueError(f\"Unsupported mode for exclude_subgroups: {mode}\")\n"
   ]
  },
  {
   "cell_type": "code",
   "execution_count": 31,
   "id": "71651440",
   "metadata": {
    "execution": {
     "iopub.execute_input": "2025-07-28T10:28:06.180078Z",
     "iopub.status.busy": "2025-07-28T10:28:06.179568Z",
     "iopub.status.idle": "2025-07-28T10:28:06.187007Z",
     "shell.execute_reply": "2025-07-28T10:28:06.185976Z"
    },
    "papermill": {
     "duration": 0.030548,
     "end_time": "2025-07-28T10:28:06.188733",
     "exception": false,
     "start_time": "2025-07-28T10:28:06.158185",
     "status": "completed"
    },
    "tags": []
   },
   "outputs": [
    {
     "name": "stdout",
     "output_type": "stream",
     "text": [
      "Dropping 657 rows (13.14%) where mode='drop-non-german'\n"
     ]
    }
   ],
   "source": [
    "n_drop = (~keep_mask).sum() # Calculates how many rows are set to be dropped\n",
    "if n_drop > 0:\n",
    "    pct = n_drop / len(keep_mask) * 100\n",
    "    print(f\"Dropping {n_drop} rows ({pct:.2f}%) where mode='{mode}'\")"
   ]
  },
  {
   "cell_type": "code",
   "execution_count": 32,
   "id": "5fb8eee5",
   "metadata": {
    "execution": {
     "iopub.execute_input": "2025-07-28T10:28:06.232284Z",
     "iopub.status.busy": "2025-07-28T10:28:06.231591Z",
     "iopub.status.idle": "2025-07-28T10:28:06.239455Z",
     "shell.execute_reply": "2025-07-28T10:28:06.238570Z"
    },
    "papermill": {
     "duration": 0.031108,
     "end_time": "2025-07-28T10:28:06.241219",
     "exception": false,
     "start_time": "2025-07-28T10:28:06.210111",
     "status": "completed"
    },
    "tags": []
   },
   "outputs": [],
   "source": [
    "X_train = X_train[keep_mask]"
   ]
  },
  {
   "cell_type": "code",
   "execution_count": 33,
   "id": "b202bb3a",
   "metadata": {
    "execution": {
     "iopub.execute_input": "2025-07-28T10:28:06.287954Z",
     "iopub.status.busy": "2025-07-28T10:28:06.287220Z",
     "iopub.status.idle": "2025-07-28T10:28:06.293732Z",
     "shell.execute_reply": "2025-07-28T10:28:06.292789Z"
    },
    "papermill": {
     "duration": 0.030225,
     "end_time": "2025-07-28T10:28:06.295336",
     "exception": false,
     "start_time": "2025-07-28T10:28:06.265111",
     "status": "completed"
    },
    "tags": []
   },
   "outputs": [],
   "source": [
    "y_train = y_train[keep_mask]"
   ]
  },
  {
   "cell_type": "markdown",
   "id": "493e2ac3",
   "metadata": {
    "papermill": {
     "duration": 0.020803,
     "end_time": "2025-07-28T10:28:06.337533",
     "exception": false,
     "start_time": "2025-07-28T10:28:06.316730",
     "status": "completed"
    },
    "tags": []
   },
   "source": [
    "# Model Training"
   ]
  },
  {
   "cell_type": "code",
   "execution_count": 34,
   "id": "679e1268",
   "metadata": {
    "execution": {
     "iopub.execute_input": "2025-07-28T10:28:06.380564Z",
     "iopub.status.busy": "2025-07-28T10:28:06.379755Z",
     "iopub.status.idle": "2025-07-28T10:28:06.482811Z",
     "shell.execute_reply": "2025-07-28T10:28:06.481862Z"
    },
    "papermill": {
     "duration": 0.126608,
     "end_time": "2025-07-28T10:28:06.484784",
     "exception": false,
     "start_time": "2025-07-28T10:28:06.358176",
     "status": "completed"
    },
    "tags": []
   },
   "outputs": [],
   "source": [
    "from sklearn.linear_model import LogisticRegression\n",
    "from sklearn.ensemble import GradientBoostingClassifier, RandomForestClassifier\n",
    "\n",
    "if (universe[\"model\"] == \"logreg\"):\n",
    "    model = LogisticRegression() #penalty=\"none\") #, solver=\"newton-cg\", max_iter=1) # include random_state=19 ?\n",
    "elif (universe[\"model\"] == \"penalized_logreg\"):\n",
    "    model = LogisticRegression(penalty=\"l2\", C=1.0) #, solver=\"newton-cg\", max_iter=1)\n",
    "elif (universe[\"model\"] == \"rf\"):\n",
    "    model = RandomForestClassifier(n_estimators=100, n_jobs=-1)\n",
    "elif (universe[\"model\"] == \"gbm\"):\n",
    "    model = GradientBoostingClassifier()\n",
    "elif (universe[\"model\"] == \"elasticnet\"):\n",
    "    model = LogisticRegression(penalty = 'elasticnet', solver = 'saga', l1_ratio = 0.5, max_iter=5000) # which solver to use?\n",
    "else:\n",
    "    raise \"Unsupported universe.model\""
   ]
  },
  {
   "cell_type": "code",
   "execution_count": 35,
   "id": "0cc8f744",
   "metadata": {
    "execution": {
     "iopub.execute_input": "2025-07-28T10:28:06.528145Z",
     "iopub.status.busy": "2025-07-28T10:28:06.527454Z",
     "iopub.status.idle": "2025-07-28T10:28:06.534451Z",
     "shell.execute_reply": "2025-07-28T10:28:06.533403Z"
    },
    "papermill": {
     "duration": 0.03039,
     "end_time": "2025-07-28T10:28:06.536435",
     "exception": false,
     "start_time": "2025-07-28T10:28:06.506045",
     "status": "completed"
    },
    "tags": []
   },
   "outputs": [],
   "source": [
    "import numpy as np\n",
    "from sklearn.pipeline import Pipeline\n",
    "from sklearn.preprocessing import StandardScaler\n",
    "\n",
    "model = Pipeline([\n",
    "    #(\"continuous_processor\", continuous_processor),\n",
    "    #(\"categorical_preprocessor\", categorical_preprocessor),\n",
    "    (\"scale\", StandardScaler() if universe[\"scale\"] == \"scale\" else None), \n",
    "    (\"model\", model),\n",
    "])"
   ]
  },
  {
   "cell_type": "code",
   "execution_count": 36,
   "id": "9442c04d",
   "metadata": {
    "execution": {
     "iopub.execute_input": "2025-07-28T10:28:06.579957Z",
     "iopub.status.busy": "2025-07-28T10:28:06.579480Z",
     "iopub.status.idle": "2025-07-28T10:28:06.714452Z",
     "shell.execute_reply": "2025-07-28T10:28:06.713475Z"
    },
    "papermill": {
     "duration": 0.159201,
     "end_time": "2025-07-28T10:28:06.716935",
     "exception": false,
     "start_time": "2025-07-28T10:28:06.557734",
     "status": "completed"
    },
    "tags": []
   },
   "outputs": [
    {
     "name": "stderr",
     "output_type": "stream",
     "text": [
      "/dss/dsshome1/0C/ra93lal2/.local/share/virtualenvs/CMA_Fairness_v2-3j10GkSs/lib/python3.10/site-packages/sklearn/linear_model/_logistic.py:444: ConvergenceWarning: lbfgs failed to converge (status=1):\n",
      "STOP: TOTAL NO. of ITERATIONS REACHED LIMIT.\n",
      "\n",
      "Increase the number of iterations (max_iter) or scale the data as shown in:\n",
      "    https://scikit-learn.org/stable/modules/preprocessing.html\n",
      "Please also refer to the documentation for alternative solver options:\n",
      "    https://scikit-learn.org/stable/modules/linear_model.html#logistic-regression\n",
      "  n_iter_i = _check_optimize_result(\n"
     ]
    },
    {
     "data": {
      "text/html": [
       "<style>#sk-container-id-1 {color: black;background-color: white;}#sk-container-id-1 pre{padding: 0;}#sk-container-id-1 div.sk-toggleable {background-color: white;}#sk-container-id-1 label.sk-toggleable__label {cursor: pointer;display: block;width: 100%;margin-bottom: 0;padding: 0.3em;box-sizing: border-box;text-align: center;}#sk-container-id-1 label.sk-toggleable__label-arrow:before {content: \"▸\";float: left;margin-right: 0.25em;color: #696969;}#sk-container-id-1 label.sk-toggleable__label-arrow:hover:before {color: black;}#sk-container-id-1 div.sk-estimator:hover label.sk-toggleable__label-arrow:before {color: black;}#sk-container-id-1 div.sk-toggleable__content {max-height: 0;max-width: 0;overflow: hidden;text-align: left;background-color: #f0f8ff;}#sk-container-id-1 div.sk-toggleable__content pre {margin: 0.2em;color: black;border-radius: 0.25em;background-color: #f0f8ff;}#sk-container-id-1 input.sk-toggleable__control:checked~div.sk-toggleable__content {max-height: 200px;max-width: 100%;overflow: auto;}#sk-container-id-1 input.sk-toggleable__control:checked~label.sk-toggleable__label-arrow:before {content: \"▾\";}#sk-container-id-1 div.sk-estimator input.sk-toggleable__control:checked~label.sk-toggleable__label {background-color: #d4ebff;}#sk-container-id-1 div.sk-label input.sk-toggleable__control:checked~label.sk-toggleable__label {background-color: #d4ebff;}#sk-container-id-1 input.sk-hidden--visually {border: 0;clip: rect(1px 1px 1px 1px);clip: rect(1px, 1px, 1px, 1px);height: 1px;margin: -1px;overflow: hidden;padding: 0;position: absolute;width: 1px;}#sk-container-id-1 div.sk-estimator {font-family: monospace;background-color: #f0f8ff;border: 1px dotted black;border-radius: 0.25em;box-sizing: border-box;margin-bottom: 0.5em;}#sk-container-id-1 div.sk-estimator:hover {background-color: #d4ebff;}#sk-container-id-1 div.sk-parallel-item::after {content: \"\";width: 100%;border-bottom: 1px solid gray;flex-grow: 1;}#sk-container-id-1 div.sk-label:hover label.sk-toggleable__label {background-color: #d4ebff;}#sk-container-id-1 div.sk-serial::before {content: \"\";position: absolute;border-left: 1px solid gray;box-sizing: border-box;top: 0;bottom: 0;left: 50%;z-index: 0;}#sk-container-id-1 div.sk-serial {display: flex;flex-direction: column;align-items: center;background-color: white;padding-right: 0.2em;padding-left: 0.2em;position: relative;}#sk-container-id-1 div.sk-item {position: relative;z-index: 1;}#sk-container-id-1 div.sk-parallel {display: flex;align-items: stretch;justify-content: center;background-color: white;position: relative;}#sk-container-id-1 div.sk-item::before, #sk-container-id-1 div.sk-parallel-item::before {content: \"\";position: absolute;border-left: 1px solid gray;box-sizing: border-box;top: 0;bottom: 0;left: 50%;z-index: -1;}#sk-container-id-1 div.sk-parallel-item {display: flex;flex-direction: column;z-index: 1;position: relative;background-color: white;}#sk-container-id-1 div.sk-parallel-item:first-child::after {align-self: flex-end;width: 50%;}#sk-container-id-1 div.sk-parallel-item:last-child::after {align-self: flex-start;width: 50%;}#sk-container-id-1 div.sk-parallel-item:only-child::after {width: 0;}#sk-container-id-1 div.sk-dashed-wrapped {border: 1px dashed gray;margin: 0 0.4em 0.5em 0.4em;box-sizing: border-box;padding-bottom: 0.4em;background-color: white;}#sk-container-id-1 div.sk-label label {font-family: monospace;font-weight: bold;display: inline-block;line-height: 1.2em;}#sk-container-id-1 div.sk-label-container {text-align: center;}#sk-container-id-1 div.sk-container {/* jupyter's `normalize.less` sets `[hidden] { display: none; }` but bootstrap.min.css set `[hidden] { display: none !important; }` so we also need the `!important` here to be able to override the default hidden behavior on the sphinx rendered scikit-learn.org. See: https://github.com/scikit-learn/scikit-learn/issues/21755 */display: inline-block !important;position: relative;}#sk-container-id-1 div.sk-text-repr-fallback {display: none;}</style><div id=\"sk-container-id-1\" class=\"sk-top-container\"><div class=\"sk-text-repr-fallback\"><pre>Pipeline(steps=[(&#x27;scale&#x27;, StandardScaler()), (&#x27;model&#x27;, LogisticRegression())])</pre><b>In a Jupyter environment, please rerun this cell to show the HTML representation or trust the notebook. <br />On GitHub, the HTML representation is unable to render, please try loading this page with nbviewer.org.</b></div><div class=\"sk-container\" hidden><div class=\"sk-item sk-dashed-wrapped\"><div class=\"sk-label-container\"><div class=\"sk-label sk-toggleable\"><input class=\"sk-toggleable__control sk-hidden--visually\" id=\"sk-estimator-id-1\" type=\"checkbox\" ><label for=\"sk-estimator-id-1\" class=\"sk-toggleable__label sk-toggleable__label-arrow\">Pipeline</label><div class=\"sk-toggleable__content\"><pre>Pipeline(steps=[(&#x27;scale&#x27;, StandardScaler()), (&#x27;model&#x27;, LogisticRegression())])</pre></div></div></div><div class=\"sk-serial\"><div class=\"sk-item\"><div class=\"sk-estimator sk-toggleable\"><input class=\"sk-toggleable__control sk-hidden--visually\" id=\"sk-estimator-id-2\" type=\"checkbox\" ><label for=\"sk-estimator-id-2\" class=\"sk-toggleable__label sk-toggleable__label-arrow\">StandardScaler</label><div class=\"sk-toggleable__content\"><pre>StandardScaler()</pre></div></div></div><div class=\"sk-item\"><div class=\"sk-estimator sk-toggleable\"><input class=\"sk-toggleable__control sk-hidden--visually\" id=\"sk-estimator-id-3\" type=\"checkbox\" ><label for=\"sk-estimator-id-3\" class=\"sk-toggleable__label sk-toggleable__label-arrow\">LogisticRegression</label><div class=\"sk-toggleable__content\"><pre>LogisticRegression()</pre></div></div></div></div></div></div></div>"
      ],
      "text/plain": [
       "Pipeline(steps=[('scale', StandardScaler()), ('model', LogisticRegression())])"
      ]
     },
     "execution_count": 36,
     "metadata": {},
     "output_type": "execute_result"
    }
   ],
   "source": [
    "model.fit(X_train, y_train.values.ravel())"
   ]
  },
  {
   "cell_type": "code",
   "execution_count": 37,
   "id": "af59f8c0",
   "metadata": {
    "execution": {
     "iopub.execute_input": "2025-07-28T10:28:06.761995Z",
     "iopub.status.busy": "2025-07-28T10:28:06.761353Z",
     "iopub.status.idle": "2025-07-28T10:28:06.767086Z",
     "shell.execute_reply": "2025-07-28T10:28:06.766219Z"
    },
    "papermill": {
     "duration": 0.02986,
     "end_time": "2025-07-28T10:28:06.768805",
     "exception": false,
     "start_time": "2025-07-28T10:28:06.738945",
     "status": "completed"
    },
    "tags": []
   },
   "outputs": [],
   "source": [
    "from fairness_multiverse.universe import predict_w_threshold"
   ]
  },
  {
   "cell_type": "code",
   "execution_count": 38,
   "id": "a7cf2e16",
   "metadata": {
    "execution": {
     "iopub.execute_input": "2025-07-28T10:28:06.813689Z",
     "iopub.status.busy": "2025-07-28T10:28:06.812898Z",
     "iopub.status.idle": "2025-07-28T10:28:07.010117Z",
     "shell.execute_reply": "2025-07-28T10:28:07.009113Z"
    },
    "papermill": {
     "duration": 0.221491,
     "end_time": "2025-07-28T10:28:07.012054",
     "exception": false,
     "start_time": "2025-07-28T10:28:06.790563",
     "status": "completed"
    },
    "tags": []
   },
   "outputs": [
    {
     "data": {
      "text/plain": [
       "0.8503622784527923"
      ]
     },
     "execution_count": 38,
     "metadata": {},
     "output_type": "execute_result"
    }
   ],
   "source": [
    "probs_test = model.predict_proba(X_test)\n",
    "\n",
    "'''\n",
    "Below code returns a boolean array (or binary 0/1 array depending on how it’s used) where each element \n",
    "is True if the probability of class 1 is greater than or equal to the threshold, and False otherwise.\n",
    "'''\n",
    "y_pred_default = predict_w_threshold(probs_test, 0.5)\n",
    "\n",
    "from sklearn.metrics import accuracy_score\n",
    "\n",
    "# Naive prediction\n",
    "accuracy_score(y_true = y_true, y_pred = y_pred_default)"
   ]
  },
  {
   "cell_type": "code",
   "execution_count": 39,
   "id": "081964c3",
   "metadata": {
    "execution": {
     "iopub.execute_input": "2025-07-28T10:28:07.066274Z",
     "iopub.status.busy": "2025-07-28T10:28:07.065597Z",
     "iopub.status.idle": "2025-07-28T10:28:07.249773Z",
     "shell.execute_reply": "2025-07-28T10:28:07.248885Z"
    },
    "papermill": {
     "duration": 0.212863,
     "end_time": "2025-07-28T10:28:07.251434",
     "exception": false,
     "start_time": "2025-07-28T10:28:07.038571",
     "status": "completed"
    },
    "tags": []
   },
   "outputs": [
    {
     "data": {
      "text/plain": [
       "array([0, 0, 0, ..., 0, 0, 0])"
      ]
     },
     "execution_count": 39,
     "metadata": {},
     "output_type": "execute_result"
    }
   ],
   "source": [
    "model.predict(X_test)"
   ]
  },
  {
   "cell_type": "markdown",
   "id": "56c9705b",
   "metadata": {
    "papermill": {
     "duration": 0.020982,
     "end_time": "2025-07-28T10:28:07.294564",
     "exception": false,
     "start_time": "2025-07-28T10:28:07.273582",
     "status": "completed"
    },
    "tags": []
   },
   "source": [
    "# Conformal Prediction"
   ]
  },
  {
   "cell_type": "code",
   "execution_count": 40,
   "id": "160ec6ff",
   "metadata": {
    "execution": {
     "iopub.execute_input": "2025-07-28T10:28:07.342613Z",
     "iopub.status.busy": "2025-07-28T10:28:07.341884Z",
     "iopub.status.idle": "2025-07-28T10:28:07.347085Z",
     "shell.execute_reply": "2025-07-28T10:28:07.346117Z"
    },
    "papermill": {
     "duration": 0.033348,
     "end_time": "2025-07-28T10:28:07.348842",
     "exception": false,
     "start_time": "2025-07-28T10:28:07.315494",
     "status": "completed"
    },
    "tags": []
   },
   "outputs": [],
   "source": [
    "# Miscoverage level for conformal prediction (10% allowed error rate => 90% target coverage)\n",
    "alpha = 0.1"
   ]
  },
  {
   "cell_type": "code",
   "execution_count": 41,
   "id": "eadf4555-3dd3-440e-8e35-f82a4ad9f855",
   "metadata": {
    "execution": {
     "iopub.execute_input": "2025-07-28T10:28:07.394834Z",
     "iopub.status.busy": "2025-07-28T10:28:07.393817Z",
     "iopub.status.idle": "2025-07-28T10:28:07.575689Z",
     "shell.execute_reply": "2025-07-28T10:28:07.574711Z"
    },
    "papermill": {
     "duration": 0.206533,
     "end_time": "2025-07-28T10:28:07.577428",
     "exception": false,
     "start_time": "2025-07-28T10:28:07.370895",
     "status": "completed"
    },
    "tags": []
   },
   "outputs": [],
   "source": [
    "probs_calib = model.predict_proba(X_calib)"
   ]
  },
  {
   "cell_type": "code",
   "execution_count": 42,
   "id": "2ed93547-6d5d-4983-9b36-1ecb300da49a",
   "metadata": {
    "execution": {
     "iopub.execute_input": "2025-07-28T10:28:07.624772Z",
     "iopub.status.busy": "2025-07-28T10:28:07.624456Z",
     "iopub.status.idle": "2025-07-28T10:28:07.630091Z",
     "shell.execute_reply": "2025-07-28T10:28:07.629040Z"
    },
    "papermill": {
     "duration": 0.031213,
     "end_time": "2025-07-28T10:28:07.631708",
     "exception": false,
     "start_time": "2025-07-28T10:28:07.600495",
     "status": "completed"
    },
    "tags": []
   },
   "outputs": [],
   "source": [
    "y_calib = y_calib.values.ravel().astype(int)"
   ]
  },
  {
   "cell_type": "code",
   "execution_count": 43,
   "id": "65d1320d-f588-4b38-9072-62af1ae97f7d",
   "metadata": {
    "execution": {
     "iopub.execute_input": "2025-07-28T10:28:07.677441Z",
     "iopub.status.busy": "2025-07-28T10:28:07.676982Z",
     "iopub.status.idle": "2025-07-28T10:28:07.684604Z",
     "shell.execute_reply": "2025-07-28T10:28:07.683592Z"
    },
    "papermill": {
     "duration": 0.0321,
     "end_time": "2025-07-28T10:28:07.686326",
     "exception": false,
     "start_time": "2025-07-28T10:28:07.654226",
     "status": "completed"
    },
    "tags": []
   },
   "outputs": [],
   "source": [
    "from fairness_multiverse.conformal import compute_nc_scores\n",
    "\n",
    "# Compute nonconformity scores on calibration set (1 - probability of true class)\n",
    "nc_scores = compute_nc_scores(probs_calib, y_calib)"
   ]
  },
  {
   "cell_type": "code",
   "execution_count": 44,
   "id": "df3b8ca3-53b7-43d5-9667-7c85da7aeda2",
   "metadata": {
    "execution": {
     "iopub.execute_input": "2025-07-28T10:28:07.732321Z",
     "iopub.status.busy": "2025-07-28T10:28:07.731748Z",
     "iopub.status.idle": "2025-07-28T10:28:07.738645Z",
     "shell.execute_reply": "2025-07-28T10:28:07.737572Z"
    },
    "papermill": {
     "duration": 0.032088,
     "end_time": "2025-07-28T10:28:07.740666",
     "exception": false,
     "start_time": "2025-07-28T10:28:07.708578",
     "status": "completed"
    },
    "tags": []
   },
   "outputs": [],
   "source": [
    "from fairness_multiverse.conformal import find_threshold\n",
    "\n",
    "# Find conformal threshold q_hat for the given alpha (split conformal method)\n",
    "q_hat = find_threshold(nc_scores, alpha)"
   ]
  },
  {
   "cell_type": "code",
   "execution_count": 45,
   "id": "4d29e6c1-0ef6-4aa4-b8fe-4fe79b0d033a",
   "metadata": {
    "execution": {
     "iopub.execute_input": "2025-07-28T10:28:07.781225Z",
     "iopub.status.busy": "2025-07-28T10:28:07.780912Z",
     "iopub.status.idle": "2025-07-28T10:28:07.787852Z",
     "shell.execute_reply": "2025-07-28T10:28:07.786792Z"
    },
    "papermill": {
     "duration": 0.022927,
     "end_time": "2025-07-28T10:28:07.789324",
     "exception": false,
     "start_time": "2025-07-28T10:28:07.766397",
     "status": "completed"
    },
    "tags": []
   },
   "outputs": [
    {
     "data": {
      "text/plain": [
       "0.6950820105252582"
      ]
     },
     "execution_count": 45,
     "metadata": {},
     "output_type": "execute_result"
    }
   ],
   "source": [
    "q_hat"
   ]
  },
  {
   "cell_type": "code",
   "execution_count": 46,
   "id": "92460794-cdac-4be2-ba28-f28c0515a6fb",
   "metadata": {
    "execution": {
     "iopub.execute_input": "2025-07-28T10:28:07.816875Z",
     "iopub.status.busy": "2025-07-28T10:28:07.816542Z",
     "iopub.status.idle": "2025-07-28T10:28:08.695087Z",
     "shell.execute_reply": "2025-07-28T10:28:08.694111Z"
    },
    "papermill": {
     "duration": 0.894707,
     "end_time": "2025-07-28T10:28:08.697062",
     "exception": false,
     "start_time": "2025-07-28T10:28:07.802355",
     "status": "completed"
    },
    "tags": []
   },
   "outputs": [],
   "source": [
    "from fairness_multiverse.conformal import predict_conformal_sets\n",
    "\n",
    "# Generate prediction sets for each test example\n",
    "pred_sets = predict_conformal_sets(model, X_test, q_hat)"
   ]
  },
  {
   "cell_type": "code",
   "execution_count": 47,
   "id": "d90c9a65-e6db-4f5d-80cd-e68fb7e46829",
   "metadata": {
    "execution": {
     "iopub.execute_input": "2025-07-28T10:28:08.748442Z",
     "iopub.status.busy": "2025-07-28T10:28:08.747652Z",
     "iopub.status.idle": "2025-07-28T10:28:08.753973Z",
     "shell.execute_reply": "2025-07-28T10:28:08.753011Z"
    },
    "papermill": {
     "duration": 0.035271,
     "end_time": "2025-07-28T10:28:08.755630",
     "exception": false,
     "start_time": "2025-07-28T10:28:08.720359",
     "status": "completed"
    },
    "tags": []
   },
   "outputs": [],
   "source": [
    "y_true = y_true.squeeze()"
   ]
  },
  {
   "cell_type": "code",
   "execution_count": 48,
   "id": "3a58a54a-1e68-46b9-927a-df01f18aebc8",
   "metadata": {
    "execution": {
     "iopub.execute_input": "2025-07-28T10:28:08.802682Z",
     "iopub.status.busy": "2025-07-28T10:28:08.801750Z",
     "iopub.status.idle": "2025-07-28T10:28:09.761688Z",
     "shell.execute_reply": "2025-07-28T10:28:09.760624Z"
    },
    "papermill": {
     "duration": 0.985419,
     "end_time": "2025-07-28T10:28:09.763779",
     "exception": false,
     "start_time": "2025-07-28T10:28:08.778360",
     "status": "completed"
    },
    "tags": []
   },
   "outputs": [],
   "source": [
    "from fairness_multiverse.conformal import evaluate_sets\n",
    "\n",
    "# Evaluate coverage and average set size on test data\n",
    "metrics = evaluate_sets(pred_sets, y_true)"
   ]
  },
  {
   "cell_type": "markdown",
   "id": "2b569c12-9aaa-4c88-98c9-bbcd0cf3ebb8",
   "metadata": {
    "papermill": {
     "duration": 0.022367,
     "end_time": "2025-07-28T10:28:09.809273",
     "exception": false,
     "start_time": "2025-07-28T10:28:09.786906",
     "status": "completed"
    },
    "tags": []
   },
   "source": [
    "# CP Metrics"
   ]
  },
  {
   "cell_type": "code",
   "execution_count": 49,
   "id": "5ce0a5cb-201f-45a0-ade5-94c7f0bd6095",
   "metadata": {
    "execution": {
     "iopub.execute_input": "2025-07-28T10:28:09.855758Z",
     "iopub.status.busy": "2025-07-28T10:28:09.855070Z",
     "iopub.status.idle": "2025-07-28T10:28:09.863384Z",
     "shell.execute_reply": "2025-07-28T10:28:09.862390Z"
    },
    "papermill": {
     "duration": 0.033402,
     "end_time": "2025-07-28T10:28:09.865020",
     "exception": false,
     "start_time": "2025-07-28T10:28:09.831618",
     "status": "completed"
    },
    "tags": []
   },
   "outputs": [
    {
     "data": {
      "text/plain": [
       "{'coverage': 0.9100992085609185, 'avg_size': 1.1495708393713076}"
      ]
     },
     "execution_count": 49,
     "metadata": {},
     "output_type": "execute_result"
    }
   ],
   "source": [
    "metrics"
   ]
  },
  {
   "cell_type": "code",
   "execution_count": 50,
   "id": "9b9a838d-31c9-430b-ae14-12baee460d17",
   "metadata": {
    "execution": {
     "iopub.execute_input": "2025-07-28T10:28:09.913060Z",
     "iopub.status.busy": "2025-07-28T10:28:09.912082Z",
     "iopub.status.idle": "2025-07-28T10:28:09.918878Z",
     "shell.execute_reply": "2025-07-28T10:28:09.917916Z"
    },
    "papermill": {
     "duration": 0.032562,
     "end_time": "2025-07-28T10:28:09.920676",
     "exception": false,
     "start_time": "2025-07-28T10:28:09.888114",
     "status": "completed"
    },
    "tags": []
   },
   "outputs": [],
   "source": [
    "example_universe = universe.copy()\n",
    "universe_training_size = example_universe.get(\"training_size\")\n",
    "universe_scale = example_universe.get(\"scale\")\n",
    "universe_model = example_universe.get(\"model\")\n",
    "universe_exclude_features = example_universe.get(\"exclude_features\")\n",
    "universe_exclude_subgroups = example_universe.get(\"exclude_subgroups\")"
   ]
  },
  {
   "cell_type": "code",
   "execution_count": 51,
   "id": "f4b6a8ac-9dc0-4245-8a91-5b3b5999c4f9",
   "metadata": {
    "execution": {
     "iopub.execute_input": "2025-07-28T10:28:09.968335Z",
     "iopub.status.busy": "2025-07-28T10:28:09.967321Z",
     "iopub.status.idle": "2025-07-28T10:28:09.974408Z",
     "shell.execute_reply": "2025-07-28T10:28:09.973509Z"
    },
    "papermill": {
     "duration": 0.032667,
     "end_time": "2025-07-28T10:28:09.976217",
     "exception": false,
     "start_time": "2025-07-28T10:28:09.943550",
     "status": "completed"
    },
    "tags": []
   },
   "outputs": [],
   "source": [
    "cp_metrics_dict = {\n",
    "    \"universe_id\": [universe_id],\n",
    "    \"universe_training_size\": [universe_training_size],\n",
    "    \"universe_scale\": [universe_scale],\n",
    "    \"universe_model\": [universe_model],\n",
    "    \"universe_exclude_features\": [universe_exclude_features],\n",
    "    \"universe_exclude_subgroups\": [universe_exclude_subgroups],\n",
    "    \"q_hat\": [q_hat],\n",
    "    \"coverage\": [metrics[\"coverage\"]],\n",
    "    \"avg_size\": [metrics[\"avg_size\"]],\n",
    "}"
   ]
  },
  {
   "cell_type": "code",
   "execution_count": 52,
   "id": "908acbb1-0371-4915-85ca-3fa520d2efe2",
   "metadata": {
    "execution": {
     "iopub.execute_input": "2025-07-28T10:28:10.024242Z",
     "iopub.status.busy": "2025-07-28T10:28:10.023252Z",
     "iopub.status.idle": "2025-07-28T10:28:10.031718Z",
     "shell.execute_reply": "2025-07-28T10:28:10.030773Z"
    },
    "papermill": {
     "duration": 0.033824,
     "end_time": "2025-07-28T10:28:10.033274",
     "exception": false,
     "start_time": "2025-07-28T10:28:09.999450",
     "status": "completed"
    },
    "tags": []
   },
   "outputs": [
    {
     "data": {
      "text/plain": [
       "{'universe_id': ['91d2c2d03f2f5203de99697f157372e5'],\n",
       " 'universe_training_size': ['5k'],\n",
       " 'universe_scale': ['scale'],\n",
       " 'universe_model': ['logreg'],\n",
       " 'universe_exclude_features': ['age'],\n",
       " 'universe_exclude_subgroups': ['drop-non-german'],\n",
       " 'q_hat': [0.6950820105252582],\n",
       " 'coverage': [0.9100992085609185],\n",
       " 'avg_size': [1.1495708393713076]}"
      ]
     },
     "execution_count": 52,
     "metadata": {},
     "output_type": "execute_result"
    }
   ],
   "source": [
    "cp_metrics_dict"
   ]
  },
  {
   "cell_type": "code",
   "execution_count": 53,
   "id": "33007efc-14e9-4ec6-97ac-56a455c82265",
   "metadata": {
    "execution": {
     "iopub.execute_input": "2025-07-28T10:28:10.081470Z",
     "iopub.status.busy": "2025-07-28T10:28:10.080577Z",
     "iopub.status.idle": "2025-07-28T10:28:10.087474Z",
     "shell.execute_reply": "2025-07-28T10:28:10.086357Z"
    },
    "papermill": {
     "duration": 0.032887,
     "end_time": "2025-07-28T10:28:10.089199",
     "exception": false,
     "start_time": "2025-07-28T10:28:10.056312",
     "status": "completed"
    },
    "tags": []
   },
   "outputs": [],
   "source": [
    "cp_metrics_df = pd.DataFrame(cp_metrics_dict)"
   ]
  },
  {
   "cell_type": "code",
   "execution_count": 54,
   "id": "db12611b-57b2-4910-b9d0-355adfd6e7bf",
   "metadata": {
    "execution": {
     "iopub.execute_input": "2025-07-28T10:28:10.137698Z",
     "iopub.status.busy": "2025-07-28T10:28:10.136639Z",
     "iopub.status.idle": "2025-07-28T10:28:10.154934Z",
     "shell.execute_reply": "2025-07-28T10:28:10.153928Z"
    },
    "papermill": {
     "duration": 0.043773,
     "end_time": "2025-07-28T10:28:10.156529",
     "exception": false,
     "start_time": "2025-07-28T10:28:10.112756",
     "status": "completed"
    },
    "tags": []
   },
   "outputs": [
    {
     "data": {
      "text/html": [
       "<div>\n",
       "<style scoped>\n",
       "    .dataframe tbody tr th:only-of-type {\n",
       "        vertical-align: middle;\n",
       "    }\n",
       "\n",
       "    .dataframe tbody tr th {\n",
       "        vertical-align: top;\n",
       "    }\n",
       "\n",
       "    .dataframe thead th {\n",
       "        text-align: right;\n",
       "    }\n",
       "</style>\n",
       "<table border=\"1\" class=\"dataframe\">\n",
       "  <thead>\n",
       "    <tr style=\"text-align: right;\">\n",
       "      <th></th>\n",
       "      <th>universe_id</th>\n",
       "      <th>universe_training_size</th>\n",
       "      <th>universe_scale</th>\n",
       "      <th>universe_model</th>\n",
       "      <th>universe_exclude_features</th>\n",
       "      <th>universe_exclude_subgroups</th>\n",
       "      <th>q_hat</th>\n",
       "      <th>coverage</th>\n",
       "      <th>avg_size</th>\n",
       "    </tr>\n",
       "  </thead>\n",
       "  <tbody>\n",
       "    <tr>\n",
       "      <th>0</th>\n",
       "      <td>91d2c2d03f2f5203de99697f157372e5</td>\n",
       "      <td>5k</td>\n",
       "      <td>scale</td>\n",
       "      <td>logreg</td>\n",
       "      <td>age</td>\n",
       "      <td>drop-non-german</td>\n",
       "      <td>0.695082</td>\n",
       "      <td>0.910099</td>\n",
       "      <td>1.149571</td>\n",
       "    </tr>\n",
       "  </tbody>\n",
       "</table>\n",
       "</div>"
      ],
      "text/plain": [
       "                        universe_id universe_training_size universe_scale  \\\n",
       "0  91d2c2d03f2f5203de99697f157372e5                     5k          scale   \n",
       "\n",
       "  universe_model universe_exclude_features universe_exclude_subgroups  \\\n",
       "0         logreg                       age            drop-non-german   \n",
       "\n",
       "      q_hat  coverage  avg_size  \n",
       "0  0.695082  0.910099  1.149571  "
      ]
     },
     "execution_count": 54,
     "metadata": {},
     "output_type": "execute_result"
    }
   ],
   "source": [
    "cp_metrics_df"
   ]
  },
  {
   "cell_type": "code",
   "execution_count": 55,
   "id": "b7fbde55-a0a1-47e4-9af6-fe4a17fa8c61",
   "metadata": {
    "execution": {
     "iopub.execute_input": "2025-07-28T10:28:10.205733Z",
     "iopub.status.busy": "2025-07-28T10:28:10.205145Z",
     "iopub.status.idle": "2025-07-28T10:28:10.210573Z",
     "shell.execute_reply": "2025-07-28T10:28:10.209629Z"
    },
    "papermill": {
     "duration": 0.032013,
     "end_time": "2025-07-28T10:28:10.212323",
     "exception": false,
     "start_time": "2025-07-28T10:28:10.180310",
     "status": "completed"
    },
    "tags": []
   },
   "outputs": [],
   "source": [
    "# Conditional Coverage & looking at subgroups"
   ]
  },
  {
   "cell_type": "code",
   "execution_count": 56,
   "id": "027ae886-68dd-4141-96c7-805a5450e1ef",
   "metadata": {
    "execution": {
     "iopub.execute_input": "2025-07-28T10:28:10.262425Z",
     "iopub.status.busy": "2025-07-28T10:28:10.261520Z",
     "iopub.status.idle": "2025-07-28T10:28:10.559471Z",
     "shell.execute_reply": "2025-07-28T10:28:10.558440Z"
    },
    "papermill": {
     "duration": 0.325115,
     "end_time": "2025-07-28T10:28:10.561370",
     "exception": false,
     "start_time": "2025-07-28T10:28:10.236255",
     "status": "completed"
    },
    "tags": []
   },
   "outputs": [],
   "source": [
    "from fairness_multiverse.conformal import build_cp_groups\n",
    "\n",
    "cp_groups_df = build_cp_groups(pred_sets, y_true, X_test.index, org_test)\n",
    "#needs universe_id and setting"
   ]
  },
  {
   "cell_type": "code",
   "execution_count": 57,
   "id": "01d5802c-663a-4d1f-9d69-e036faaffbf7",
   "metadata": {
    "execution": {
     "iopub.execute_input": "2025-07-28T10:28:10.611213Z",
     "iopub.status.busy": "2025-07-28T10:28:10.610182Z",
     "iopub.status.idle": "2025-07-28T10:28:10.615629Z",
     "shell.execute_reply": "2025-07-28T10:28:10.614685Z"
    },
    "papermill": {
     "duration": 0.03187,
     "end_time": "2025-07-28T10:28:10.617288",
     "exception": false,
     "start_time": "2025-07-28T10:28:10.585418",
     "status": "completed"
    },
    "tags": []
   },
   "outputs": [],
   "source": [
    "#delete\n",
    "#cp_groups_df"
   ]
  },
  {
   "cell_type": "code",
   "execution_count": 58,
   "id": "fa424af1-d1eb-443d-b717-2d279ada8408",
   "metadata": {
    "execution": {
     "iopub.execute_input": "2025-07-28T10:28:10.666816Z",
     "iopub.status.busy": "2025-07-28T10:28:10.665879Z",
     "iopub.status.idle": "2025-07-28T10:28:10.671185Z",
     "shell.execute_reply": "2025-07-28T10:28:10.670206Z"
    },
    "papermill": {
     "duration": 0.031755,
     "end_time": "2025-07-28T10:28:10.672866",
     "exception": false,
     "start_time": "2025-07-28T10:28:10.641111",
     "status": "completed"
    },
    "tags": []
   },
   "outputs": [],
   "source": [
    "#delete\n",
    "#percentage = (cp_groups_df['nongerman_female'] == 1).mean() * 100\n",
    "#print(percentage)\n"
   ]
  },
  {
   "cell_type": "code",
   "execution_count": 59,
   "id": "6cbdab96-b2b2-45af-ad54-d0516db2e28d",
   "metadata": {
    "execution": {
     "iopub.execute_input": "2025-07-28T10:28:10.722210Z",
     "iopub.status.busy": "2025-07-28T10:28:10.721283Z",
     "iopub.status.idle": "2025-07-28T10:28:12.709887Z",
     "shell.execute_reply": "2025-07-28T10:28:12.709077Z"
    },
    "papermill": {
     "duration": 2.015024,
     "end_time": "2025-07-28T10:28:12.711497",
     "exception": false,
     "start_time": "2025-07-28T10:28:10.696473",
     "status": "completed"
    },
    "tags": []
   },
   "outputs": [],
   "source": [
    "# Define covered = 1 if true_label is in the predicted set\n",
    "cp_groups_df['covered'] = cp_groups_df.apply(\n",
    "    lambda r: int(r['true_label'] in r['pred_set']),\n",
    "    axis=1\n",
    ")"
   ]
  },
  {
   "cell_type": "code",
   "execution_count": 60,
   "id": "338ff529-1a6b-4b87-a931-8e4788d52aad",
   "metadata": {
    "execution": {
     "iopub.execute_input": "2025-07-28T10:28:12.740320Z",
     "iopub.status.busy": "2025-07-28T10:28:12.739553Z",
     "iopub.status.idle": "2025-07-28T10:28:12.744406Z",
     "shell.execute_reply": "2025-07-28T10:28:12.743572Z"
    },
    "papermill": {
     "duration": 0.020103,
     "end_time": "2025-07-28T10:28:12.745700",
     "exception": false,
     "start_time": "2025-07-28T10:28:12.725597",
     "status": "completed"
    },
    "tags": []
   },
   "outputs": [],
   "source": [
    "#cp_groups_df"
   ]
  },
  {
   "cell_type": "code",
   "execution_count": 61,
   "id": "90032e27-66df-4540-9169-4e89cfbaa758",
   "metadata": {
    "execution": {
     "iopub.execute_input": "2025-07-28T10:28:12.779251Z",
     "iopub.status.busy": "2025-07-28T10:28:12.778876Z",
     "iopub.status.idle": "2025-07-28T10:28:12.787888Z",
     "shell.execute_reply": "2025-07-28T10:28:12.787177Z"
    },
    "papermill": {
     "duration": 0.029774,
     "end_time": "2025-07-28T10:28:12.789190",
     "exception": false,
     "start_time": "2025-07-28T10:28:12.759416",
     "status": "completed"
    },
    "tags": []
   },
   "outputs": [],
   "source": [
    "subgroups = ['frau1','nongerman','nongerman_male','nongerman_female']\n",
    "\n",
    "# Conditional coverage for subgroup==1\n",
    "cond_coverage = {\n",
    "    g: cp_groups_df.loc[cp_groups_df[g]==1, 'covered'].mean()\n",
    "    for g in subgroups\n",
    "}"
   ]
  },
  {
   "cell_type": "code",
   "execution_count": 62,
   "id": "1e348fb1-b9c3-45bc-ba23-f016827a7e0d",
   "metadata": {
    "execution": {
     "iopub.execute_input": "2025-07-28T10:28:12.818717Z",
     "iopub.status.busy": "2025-07-28T10:28:12.817695Z",
     "iopub.status.idle": "2025-07-28T10:28:12.832229Z",
     "shell.execute_reply": "2025-07-28T10:28:12.831122Z"
    },
    "papermill": {
     "duration": 0.032351,
     "end_time": "2025-07-28T10:28:12.835192",
     "exception": false,
     "start_time": "2025-07-28T10:28:12.802841",
     "status": "completed"
    },
    "tags": []
   },
   "outputs": [
    {
     "data": {
      "text/plain": [
       "{'frau1': 0.9067798894729748,\n",
       " 'nongerman': 0.9082131027900971,\n",
       " 'nongerman_male': 0.9252454291632892,\n",
       " 'nongerman_female': 0.8800298062593145}"
      ]
     },
     "execution_count": 62,
     "metadata": {},
     "output_type": "execute_result"
    }
   ],
   "source": [
    "cond_coverage"
   ]
  },
  {
   "cell_type": "code",
   "execution_count": 63,
   "id": "f5093324-c3dd-4d63-bc4c-8d945e5c8bbb",
   "metadata": {
    "execution": {
     "iopub.execute_input": "2025-07-28T10:28:12.866400Z",
     "iopub.status.busy": "2025-07-28T10:28:12.865808Z",
     "iopub.status.idle": "2025-07-28T10:28:12.872543Z",
     "shell.execute_reply": "2025-07-28T10:28:12.871698Z"
    },
    "papermill": {
     "duration": 0.022703,
     "end_time": "2025-07-28T10:28:12.874040",
     "exception": false,
     "start_time": "2025-07-28T10:28:12.851337",
     "status": "completed"
    },
    "tags": []
   },
   "outputs": [],
   "source": [
    "for subgroup, cov in cond_coverage.items():\n",
    "    cp_metrics_df[f\"cov_{subgroup}\"] = cov"
   ]
  },
  {
   "cell_type": "code",
   "execution_count": 64,
   "id": "6e872e10-dbe5-49e8-b554-5030c98ff75d",
   "metadata": {
    "execution": {
     "iopub.execute_input": "2025-07-28T10:28:12.910350Z",
     "iopub.status.busy": "2025-07-28T10:28:12.909876Z",
     "iopub.status.idle": "2025-07-28T10:28:12.928949Z",
     "shell.execute_reply": "2025-07-28T10:28:12.927971Z"
    },
    "papermill": {
     "duration": 0.043249,
     "end_time": "2025-07-28T10:28:12.931102",
     "exception": false,
     "start_time": "2025-07-28T10:28:12.887853",
     "status": "completed"
    },
    "tags": []
   },
   "outputs": [
    {
     "data": {
      "text/html": [
       "<div>\n",
       "<style scoped>\n",
       "    .dataframe tbody tr th:only-of-type {\n",
       "        vertical-align: middle;\n",
       "    }\n",
       "\n",
       "    .dataframe tbody tr th {\n",
       "        vertical-align: top;\n",
       "    }\n",
       "\n",
       "    .dataframe thead th {\n",
       "        text-align: right;\n",
       "    }\n",
       "</style>\n",
       "<table border=\"1\" class=\"dataframe\">\n",
       "  <thead>\n",
       "    <tr style=\"text-align: right;\">\n",
       "      <th></th>\n",
       "      <th>universe_id</th>\n",
       "      <th>universe_training_size</th>\n",
       "      <th>universe_scale</th>\n",
       "      <th>universe_model</th>\n",
       "      <th>universe_exclude_features</th>\n",
       "      <th>universe_exclude_subgroups</th>\n",
       "      <th>q_hat</th>\n",
       "      <th>coverage</th>\n",
       "      <th>avg_size</th>\n",
       "      <th>cov_frau1</th>\n",
       "      <th>cov_nongerman</th>\n",
       "      <th>cov_nongerman_male</th>\n",
       "      <th>cov_nongerman_female</th>\n",
       "    </tr>\n",
       "  </thead>\n",
       "  <tbody>\n",
       "    <tr>\n",
       "      <th>0</th>\n",
       "      <td>91d2c2d03f2f5203de99697f157372e5</td>\n",
       "      <td>5k</td>\n",
       "      <td>scale</td>\n",
       "      <td>logreg</td>\n",
       "      <td>age</td>\n",
       "      <td>drop-non-german</td>\n",
       "      <td>0.695082</td>\n",
       "      <td>0.910099</td>\n",
       "      <td>1.149571</td>\n",
       "      <td>0.90678</td>\n",
       "      <td>0.908213</td>\n",
       "      <td>0.925245</td>\n",
       "      <td>0.88003</td>\n",
       "    </tr>\n",
       "  </tbody>\n",
       "</table>\n",
       "</div>"
      ],
      "text/plain": [
       "                        universe_id universe_training_size universe_scale  \\\n",
       "0  91d2c2d03f2f5203de99697f157372e5                     5k          scale   \n",
       "\n",
       "  universe_model universe_exclude_features universe_exclude_subgroups  \\\n",
       "0         logreg                       age            drop-non-german   \n",
       "\n",
       "      q_hat  coverage  avg_size  cov_frau1  cov_nongerman  cov_nongerman_male  \\\n",
       "0  0.695082  0.910099  1.149571    0.90678       0.908213            0.925245   \n",
       "\n",
       "   cov_nongerman_female  \n",
       "0               0.88003  "
      ]
     },
     "execution_count": 64,
     "metadata": {},
     "output_type": "execute_result"
    }
   ],
   "source": [
    "cp_metrics_df"
   ]
  },
  {
   "cell_type": "markdown",
   "id": "33774451",
   "metadata": {
    "papermill": {
     "duration": 0.027695,
     "end_time": "2025-07-28T10:28:12.995140",
     "exception": false,
     "start_time": "2025-07-28T10:28:12.967445",
     "status": "completed"
    },
    "tags": []
   },
   "source": [
    "# (Fairness) Metrics"
   ]
  },
  {
   "cell_type": "code",
   "execution_count": 65,
   "id": "debc5d62",
   "metadata": {
    "execution": {
     "iopub.execute_input": "2025-07-28T10:28:13.047541Z",
     "iopub.status.busy": "2025-07-28T10:28:13.046836Z",
     "iopub.status.idle": "2025-07-28T10:28:13.067973Z",
     "shell.execute_reply": "2025-07-28T10:28:13.067031Z"
    },
    "papermill": {
     "duration": 0.049441,
     "end_time": "2025-07-28T10:28:13.069863",
     "exception": false,
     "start_time": "2025-07-28T10:28:13.020422",
     "status": "completed"
    },
    "tags": []
   },
   "outputs": [],
   "source": [
    "# do I need to include maxdeutsch1.missing?\n",
    "\n",
    "import numpy as np\n",
    "\n",
    "colname_to_bin = \"maxdeutsch1\"\n",
    "majority_value = org_train[colname_to_bin].mode()[0]\n",
    "\n",
    "org_test[\"majmin\"] = np.where(org_test[colname_to_bin] == majority_value, \"majority\", \"minority\")"
   ]
  },
  {
   "cell_type": "code",
   "execution_count": 66,
   "id": "06a50de5",
   "metadata": {
    "execution": {
     "iopub.execute_input": "2025-07-28T10:28:13.123488Z",
     "iopub.status.busy": "2025-07-28T10:28:13.122802Z",
     "iopub.status.idle": "2025-07-28T10:28:16.214607Z",
     "shell.execute_reply": "2025-07-28T10:28:16.213663Z"
    },
    "papermill": {
     "duration": 3.120055,
     "end_time": "2025-07-28T10:28:16.216527",
     "exception": false,
     "start_time": "2025-07-28T10:28:13.096472",
     "status": "completed"
    },
    "tags": []
   },
   "outputs": [],
   "source": [
    "example_universe = universe.copy()\n",
    "example_universe[\"cutoff\"] = example_universe[\"cutoff\"][0]\n",
    "example_universe[\"eval_fairness_grouping\"] = example_universe[\"eval_fairness_grouping\"][0]\n",
    "fairness_dict, metric_frame = universe_analysis.compute_metrics(\n",
    "    example_universe,\n",
    "    y_pred_prob=probs_test,\n",
    "    y_test=y_true,\n",
    "    org_test=org_test,\n",
    ")"
   ]
  },
  {
   "cell_type": "markdown",
   "id": "f95d4e02",
   "metadata": {
    "papermill": {
     "duration": 0.024374,
     "end_time": "2025-07-28T10:28:16.266039",
     "exception": false,
     "start_time": "2025-07-28T10:28:16.241665",
     "status": "completed"
    },
    "tags": []
   },
   "source": [
    "# Overall"
   ]
  },
  {
   "cell_type": "markdown",
   "id": "bdee4871",
   "metadata": {
    "papermill": {
     "duration": 0.024016,
     "end_time": "2025-07-28T10:28:16.314236",
     "exception": false,
     "start_time": "2025-07-28T10:28:16.290220",
     "status": "completed"
    },
    "tags": []
   },
   "source": [
    "Fairness\n",
    "Main fairness target: Equalized Odds. Seems to be a better fit than equal opportunity, since we're not only interested in Y = 1. Seems to be a better fit than demographic parity, since we also care about accuracy, not just equal distribution of preds.\n",
    "\n",
    "Pick column for computation of fairness metrics\n",
    "\n",
    "Performance\n",
    "Overall performance measures, most interesting in relation to the measures split by group below"
   ]
  },
  {
   "cell_type": "code",
   "execution_count": 67,
   "id": "c4e067c6",
   "metadata": {
    "execution": {
     "iopub.execute_input": "2025-07-28T10:28:16.364343Z",
     "iopub.status.busy": "2025-07-28T10:28:16.363361Z",
     "iopub.status.idle": "2025-07-28T10:28:16.371930Z",
     "shell.execute_reply": "2025-07-28T10:28:16.371014Z"
    },
    "papermill": {
     "duration": 0.035374,
     "end_time": "2025-07-28T10:28:16.373516",
     "exception": false,
     "start_time": "2025-07-28T10:28:16.338142",
     "status": "completed"
    },
    "tags": []
   },
   "outputs": [
    {
     "data": {
      "text/plain": [
       "accuracy                   0.222550\n",
       "balanced accuracy          0.544549\n",
       "f1                         0.243932\n",
       "precision                  0.139350\n",
       "false positive rate        0.888571\n",
       "false negative rate        0.022332\n",
       "selection rate             0.900000\n",
       "count                  89710.000000\n",
       "dtype: float64"
      ]
     },
     "execution_count": 67,
     "metadata": {},
     "output_type": "execute_result"
    }
   ],
   "source": [
    "metric_frame.overall"
   ]
  },
  {
   "cell_type": "markdown",
   "id": "e968fe9d",
   "metadata": {
    "papermill": {
     "duration": 0.024847,
     "end_time": "2025-07-28T10:28:16.423744",
     "exception": false,
     "start_time": "2025-07-28T10:28:16.398897",
     "status": "completed"
    },
    "tags": []
   },
   "source": [
    "By Group"
   ]
  },
  {
   "cell_type": "code",
   "execution_count": 68,
   "id": "ec325bce",
   "metadata": {
    "execution": {
     "iopub.execute_input": "2025-07-28T10:28:16.474845Z",
     "iopub.status.busy": "2025-07-28T10:28:16.473832Z",
     "iopub.status.idle": "2025-07-28T10:28:16.491341Z",
     "shell.execute_reply": "2025-07-28T10:28:16.490382Z"
    },
    "papermill": {
     "duration": 0.044898,
     "end_time": "2025-07-28T10:28:16.493012",
     "exception": false,
     "start_time": "2025-07-28T10:28:16.448114",
     "status": "completed"
    },
    "tags": []
   },
   "outputs": [
    {
     "data": {
      "text/html": [
       "<div>\n",
       "<style scoped>\n",
       "    .dataframe tbody tr th:only-of-type {\n",
       "        vertical-align: middle;\n",
       "    }\n",
       "\n",
       "    .dataframe tbody tr th {\n",
       "        vertical-align: top;\n",
       "    }\n",
       "\n",
       "    .dataframe thead th {\n",
       "        text-align: right;\n",
       "    }\n",
       "</style>\n",
       "<table border=\"1\" class=\"dataframe\">\n",
       "  <thead>\n",
       "    <tr style=\"text-align: right;\">\n",
       "      <th></th>\n",
       "      <th>accuracy</th>\n",
       "      <th>balanced accuracy</th>\n",
       "      <th>f1</th>\n",
       "      <th>precision</th>\n",
       "      <th>false positive rate</th>\n",
       "      <th>false negative rate</th>\n",
       "      <th>selection rate</th>\n",
       "      <th>count</th>\n",
       "    </tr>\n",
       "    <tr>\n",
       "      <th>majmin</th>\n",
       "      <th></th>\n",
       "      <th></th>\n",
       "      <th></th>\n",
       "      <th></th>\n",
       "      <th></th>\n",
       "      <th></th>\n",
       "      <th></th>\n",
       "      <th></th>\n",
       "    </tr>\n",
       "  </thead>\n",
       "  <tbody>\n",
       "    <tr>\n",
       "      <th>majority</th>\n",
       "      <td>0.241159</td>\n",
       "      <td>0.552608</td>\n",
       "      <td>0.253665</td>\n",
       "      <td>0.145778</td>\n",
       "      <td>0.870715</td>\n",
       "      <td>0.024070</td>\n",
       "      <td>0.884618</td>\n",
       "      <td>69170.0</td>\n",
       "    </tr>\n",
       "    <tr>\n",
       "      <th>minority</th>\n",
       "      <td>0.159883</td>\n",
       "      <td>0.518409</td>\n",
       "      <td>0.212702</td>\n",
       "      <td>0.119233</td>\n",
       "      <td>0.947557</td>\n",
       "      <td>0.015625</td>\n",
       "      <td>0.951801</td>\n",
       "      <td>20540.0</td>\n",
       "    </tr>\n",
       "  </tbody>\n",
       "</table>\n",
       "</div>"
      ],
      "text/plain": [
       "          accuracy  balanced accuracy        f1  precision  \\\n",
       "majmin                                                       \n",
       "majority  0.241159           0.552608  0.253665   0.145778   \n",
       "minority  0.159883           0.518409  0.212702   0.119233   \n",
       "\n",
       "          false positive rate  false negative rate  selection rate    count  \n",
       "majmin                                                                       \n",
       "majority             0.870715             0.024070        0.884618  69170.0  \n",
       "minority             0.947557             0.015625        0.951801  20540.0  "
      ]
     },
     "execution_count": 68,
     "metadata": {},
     "output_type": "execute_result"
    }
   ],
   "source": [
    "metric_frame.by_group"
   ]
  },
  {
   "cell_type": "code",
   "execution_count": 69,
   "id": "a9ddbe63",
   "metadata": {
    "execution": {
     "iopub.execute_input": "2025-07-28T10:28:16.545703Z",
     "iopub.status.busy": "2025-07-28T10:28:16.544992Z",
     "iopub.status.idle": "2025-07-28T10:28:18.982163Z",
     "shell.execute_reply": "2025-07-28T10:28:18.981094Z"
    },
    "papermill": {
     "duration": 2.464884,
     "end_time": "2025-07-28T10:28:18.983693",
     "exception": false,
     "start_time": "2025-07-28T10:28:16.518809",
     "status": "completed"
    },
    "tags": []
   },
   "outputs": [
    {
     "data": {
      "text/plain": [
       "array([[<Axes: title={'center': 'accuracy'}, xlabel='majmin'>,\n",
       "        <Axes: title={'center': 'balanced accuracy'}, xlabel='majmin'>,\n",
       "        <Axes: title={'center': 'f1'}, xlabel='majmin'>],\n",
       "       [<Axes: title={'center': 'precision'}, xlabel='majmin'>,\n",
       "        <Axes: title={'center': 'false positive rate'}, xlabel='majmin'>,\n",
       "        <Axes: title={'center': 'false negative rate'}, xlabel='majmin'>],\n",
       "       [<Axes: title={'center': 'selection rate'}, xlabel='majmin'>,\n",
       "        <Axes: title={'center': 'count'}, xlabel='majmin'>,\n",
       "        <Axes: xlabel='majmin'>]], dtype=object)"
      ]
     },
     "execution_count": 69,
     "metadata": {},
     "output_type": "execute_result"
    },
    {
     "data": {
      "image/png": "[encoded data removed]",
      "text/plain": [
       "<Figure size 1200x800 with 9 Axes>"
      ]
     },
     "metadata": {},
     "output_type": "display_data"
    }
   ],
   "source": [
    "# In a graphic\n",
    "metric_frame.by_group.plot.bar(\n",
    "    subplots=True,\n",
    "    layout=[3, 3],\n",
    "    legend=False,\n",
    "    figsize=[12, 8],\n",
    "    title=\"Show all metrics\",\n",
    ")"
   ]
  },
  {
   "cell_type": "markdown",
   "id": "f57a0bac",
   "metadata": {
    "papermill": {
     "duration": 0.026798,
     "end_time": "2025-07-28T10:28:19.040979",
     "exception": false,
     "start_time": "2025-07-28T10:28:19.014181",
     "status": "completed"
    },
    "tags": []
   },
   "source": [
    "# Final Output"
   ]
  },
  {
   "cell_type": "code",
   "execution_count": 70,
   "id": "96d280a3",
   "metadata": {
    "execution": {
     "iopub.execute_input": "2025-07-28T10:28:19.096879Z",
     "iopub.status.busy": "2025-07-28T10:28:19.096225Z",
     "iopub.status.idle": "2025-07-28T10:28:19.105018Z",
     "shell.execute_reply": "2025-07-28T10:28:19.104008Z"
    },
    "papermill": {
     "duration": 0.038776,
     "end_time": "2025-07-28T10:28:19.106652",
     "exception": false,
     "start_time": "2025-07-28T10:28:19.067876",
     "status": "completed"
    },
    "tags": []
   },
   "outputs": [
    {
     "data": {
      "text/plain": [
       "4"
      ]
     },
     "execution_count": 70,
     "metadata": {},
     "output_type": "execute_result"
    }
   ],
   "source": [
    "sub_universes = universe_analysis.generate_sub_universes()\n",
    "len(sub_universes)"
   ]
  },
  {
   "cell_type": "code",
   "execution_count": 71,
   "id": "92adf7ba",
   "metadata": {
    "execution": {
     "iopub.execute_input": "2025-07-28T10:28:19.163753Z",
     "iopub.status.busy": "2025-07-28T10:28:19.162913Z",
     "iopub.status.idle": "2025-07-28T10:28:19.170157Z",
     "shell.execute_reply": "2025-07-28T10:28:19.169244Z"
    },
    "papermill": {
     "duration": 0.037422,
     "end_time": "2025-07-28T10:28:19.171709",
     "exception": false,
     "start_time": "2025-07-28T10:28:19.134287",
     "status": "completed"
    },
    "tags": []
   },
   "outputs": [],
   "source": [
    "def filter_sub_universe_data(sub_universe, org_test):\n",
    "    # Keep all rows — no filtering\n",
    "    keep_rows_mask = np.ones(org_test.shape[0], dtype=bool)\n",
    "\n",
    "    print(f\"[INFO] Keeping all rows: {keep_rows_mask.sum()} rows retained.\")\n",
    "    return keep_rows_mask"
   ]
  },
  {
   "cell_type": "code",
   "execution_count": 72,
   "id": "4a759155",
   "metadata": {
    "execution": {
     "iopub.execute_input": "2025-07-28T10:28:19.228533Z",
     "iopub.status.busy": "2025-07-28T10:28:19.227788Z",
     "iopub.status.idle": "2025-07-28T10:28:30.042752Z",
     "shell.execute_reply": "2025-07-28T10:28:30.041671Z"
    },
    "papermill": {
     "duration": 10.845056,
     "end_time": "2025-07-28T10:28:30.044366",
     "exception": false,
     "start_time": "2025-07-28T10:28:19.199310",
     "status": "completed"
    },
    "tags": []
   },
   "outputs": [
    {
     "name": "stdout",
     "output_type": "stream",
     "text": [
      "Stopping execution_time clock.\n",
      "[INFO] Keeping all rows: 89710 rows retained.\n"
     ]
    },
    {
     "name": "stdout",
     "output_type": "stream",
     "text": [
      "[INFO] Keeping all rows: 89710 rows retained.\n"
     ]
    },
    {
     "name": "stdout",
     "output_type": "stream",
     "text": [
      "[INFO] Keeping all rows: 89710 rows retained.\n"
     ]
    },
    {
     "name": "stdout",
     "output_type": "stream",
     "text": [
      "[INFO] Keeping all rows: 89710 rows retained.\n"
     ]
    },
    {
     "data": {
      "text/html": [
       "<div>\n",
       "<style scoped>\n",
       "    .dataframe tbody tr th:only-of-type {\n",
       "        vertical-align: middle;\n",
       "    }\n",
       "\n",
       "    .dataframe tbody tr th {\n",
       "        vertical-align: top;\n",
       "    }\n",
       "\n",
       "    .dataframe thead th {\n",
       "        text-align: right;\n",
       "    }\n",
       "</style>\n",
       "<table border=\"1\" class=\"dataframe\">\n",
       "  <thead>\n",
       "    <tr style=\"text-align: right;\">\n",
       "      <th></th>\n",
       "      <th>run_no</th>\n",
       "      <th>universe_id</th>\n",
       "      <th>universe_settings</th>\n",
       "      <th>execution_time</th>\n",
       "      <th>test_size_n</th>\n",
       "      <th>test_size_frac</th>\n",
       "      <th>fair_main_equalized_odds_difference</th>\n",
       "      <th>fair_main_equalized_odds_ratio</th>\n",
       "      <th>fair_main_demographic_parity_difference</th>\n",
       "      <th>fair_main_demographic_parity_ratio</th>\n",
       "      <th>...</th>\n",
       "      <th>perf_grp_precision_0</th>\n",
       "      <th>perf_grp_precision_1</th>\n",
       "      <th>perf_grp_false positive rate_0</th>\n",
       "      <th>perf_grp_false positive rate_1</th>\n",
       "      <th>perf_grp_false negative rate_0</th>\n",
       "      <th>perf_grp_false negative rate_1</th>\n",
       "      <th>perf_grp_selection rate_0</th>\n",
       "      <th>perf_grp_selection rate_1</th>\n",
       "      <th>perf_grp_count_0</th>\n",
       "      <th>perf_grp_count_1</th>\n",
       "    </tr>\n",
       "  </thead>\n",
       "  <tbody>\n",
       "    <tr>\n",
       "      <th>0</th>\n",
       "      <td>11</td>\n",
       "      <td>91d2c2d03f2f5203de99697f157372e5</td>\n",
       "      <td>{\"cutoff\": \"quantile_0.1\", \"eval_fairness_grou...</td>\n",
       "      <td>28.184866</td>\n",
       "      <td>89710</td>\n",
       "      <td>1.0</td>\n",
       "      <td>0.076842</td>\n",
       "      <td>0.918905</td>\n",
       "      <td>0.067184</td>\n",
       "      <td>0.929414</td>\n",
       "      <td>...</td>\n",
       "      <td>NaN</td>\n",
       "      <td>NaN</td>\n",
       "      <td>NaN</td>\n",
       "      <td>NaN</td>\n",
       "      <td>NaN</td>\n",
       "      <td>NaN</td>\n",
       "      <td>NaN</td>\n",
       "      <td>NaN</td>\n",
       "      <td>NaN</td>\n",
       "      <td>NaN</td>\n",
       "    </tr>\n",
       "    <tr>\n",
       "      <th>0</th>\n",
       "      <td>11</td>\n",
       "      <td>91d2c2d03f2f5203de99697f157372e5</td>\n",
       "      <td>{\"cutoff\": \"quantile_0.1\", \"eval_fairness_grou...</td>\n",
       "      <td>28.184866</td>\n",
       "      <td>89710</td>\n",
       "      <td>1.0</td>\n",
       "      <td>0.076842</td>\n",
       "      <td>0.918905</td>\n",
       "      <td>0.067184</td>\n",
       "      <td>0.929414</td>\n",
       "      <td>...</td>\n",
       "      <td>0.119233</td>\n",
       "      <td>0.145778</td>\n",
       "      <td>0.947557</td>\n",
       "      <td>0.870715</td>\n",
       "      <td>0.015625</td>\n",
       "      <td>0.024070</td>\n",
       "      <td>0.951801</td>\n",
       "      <td>0.884618</td>\n",
       "      <td>20540.0</td>\n",
       "      <td>69170.0</td>\n",
       "    </tr>\n",
       "    <tr>\n",
       "      <th>0</th>\n",
       "      <td>11</td>\n",
       "      <td>91d2c2d03f2f5203de99697f157372e5</td>\n",
       "      <td>{\"cutoff\": \"quantile_0.25\", \"eval_fairness_gro...</td>\n",
       "      <td>28.184866</td>\n",
       "      <td>89710</td>\n",
       "      <td>1.0</td>\n",
       "      <td>0.175637</td>\n",
       "      <td>0.795445</td>\n",
       "      <td>0.154075</td>\n",
       "      <td>0.822656</td>\n",
       "      <td>...</td>\n",
       "      <td>NaN</td>\n",
       "      <td>NaN</td>\n",
       "      <td>NaN</td>\n",
       "      <td>NaN</td>\n",
       "      <td>NaN</td>\n",
       "      <td>NaN</td>\n",
       "      <td>NaN</td>\n",
       "      <td>NaN</td>\n",
       "      <td>NaN</td>\n",
       "      <td>NaN</td>\n",
       "    </tr>\n",
       "    <tr>\n",
       "      <th>0</th>\n",
       "      <td>11</td>\n",
       "      <td>91d2c2d03f2f5203de99697f157372e5</td>\n",
       "      <td>{\"cutoff\": \"quantile_0.25\", \"eval_fairness_gro...</td>\n",
       "      <td>28.184866</td>\n",
       "      <td>89710</td>\n",
       "      <td>1.0</td>\n",
       "      <td>0.175637</td>\n",
       "      <td>0.795445</td>\n",
       "      <td>0.154075</td>\n",
       "      <td>0.822656</td>\n",
       "      <td>...</td>\n",
       "      <td>0.125637</td>\n",
       "      <td>0.170662</td>\n",
       "      <td>0.858629</td>\n",
       "      <td>0.682992</td>\n",
       "      <td>0.053209</td>\n",
       "      <td>0.076915</td>\n",
       "      <td>0.868793</td>\n",
       "      <td>0.714717</td>\n",
       "      <td>20540.0</td>\n",
       "      <td>69170.0</td>\n",
       "    </tr>\n",
       "  </tbody>\n",
       "</table>\n",
       "<p>4 rows × 50 columns</p>\n",
       "</div>"
      ],
      "text/plain": [
       "  run_no                       universe_id  \\\n",
       "0     11  91d2c2d03f2f5203de99697f157372e5   \n",
       "0     11  91d2c2d03f2f5203de99697f157372e5   \n",
       "0     11  91d2c2d03f2f5203de99697f157372e5   \n",
       "0     11  91d2c2d03f2f5203de99697f157372e5   \n",
       "\n",
       "                                   universe_settings  execution_time  \\\n",
       "0  {\"cutoff\": \"quantile_0.1\", \"eval_fairness_grou...       28.184866   \n",
       "0  {\"cutoff\": \"quantile_0.1\", \"eval_fairness_grou...       28.184866   \n",
       "0  {\"cutoff\": \"quantile_0.25\", \"eval_fairness_gro...       28.184866   \n",
       "0  {\"cutoff\": \"quantile_0.25\", \"eval_fairness_gro...       28.184866   \n",
       "\n",
       "   test_size_n  test_size_frac  fair_main_equalized_odds_difference  \\\n",
       "0        89710             1.0                             0.076842   \n",
       "0        89710             1.0                             0.076842   \n",
       "0        89710             1.0                             0.175637   \n",
       "0        89710             1.0                             0.175637   \n",
       "\n",
       "   fair_main_equalized_odds_ratio  fair_main_demographic_parity_difference  \\\n",
       "0                        0.918905                                 0.067184   \n",
       "0                        0.918905                                 0.067184   \n",
       "0                        0.795445                                 0.154075   \n",
       "0                        0.795445                                 0.154075   \n",
       "\n",
       "   fair_main_demographic_parity_ratio  ...  perf_grp_precision_0  \\\n",
       "0                            0.929414  ...                   NaN   \n",
       "0                            0.929414  ...              0.119233   \n",
       "0                            0.822656  ...                   NaN   \n",
       "0                            0.822656  ...              0.125637   \n",
       "\n",
       "   perf_grp_precision_1  perf_grp_false positive rate_0  \\\n",
       "0                   NaN                             NaN   \n",
       "0              0.145778                        0.947557   \n",
       "0                   NaN                             NaN   \n",
       "0              0.170662                        0.858629   \n",
       "\n",
       "   perf_grp_false positive rate_1  perf_grp_false negative rate_0  \\\n",
       "0                             NaN                             NaN   \n",
       "0                        0.870715                        0.015625   \n",
       "0                             NaN                             NaN   \n",
       "0                        0.682992                        0.053209   \n",
       "\n",
       "   perf_grp_false negative rate_1  perf_grp_selection rate_0  \\\n",
       "0                             NaN                        NaN   \n",
       "0                        0.024070                   0.951801   \n",
       "0                             NaN                        NaN   \n",
       "0                        0.076915                   0.868793   \n",
       "\n",
       "   perf_grp_selection rate_1  perf_grp_count_0  perf_grp_count_1  \n",
       "0                        NaN               NaN               NaN  \n",
       "0                   0.884618           20540.0           69170.0  \n",
       "0                        NaN               NaN               NaN  \n",
       "0                   0.714717           20540.0           69170.0  \n",
       "\n",
       "[4 rows x 50 columns]"
      ]
     },
     "execution_count": 72,
     "metadata": {},
     "output_type": "execute_result"
    }
   ],
   "source": [
    "final_output = universe_analysis.generate_final_output(\n",
    "    y_pred_prob=probs_test,\n",
    "    y_test=y_true,\n",
    "    org_test=org_test,\n",
    "    filter_data=filter_sub_universe_data,\n",
    "    cp_metrics_df=cp_metrics_df,\n",
    "    save=True,\n",
    ")\n",
    "final_output"
   ]
  },
  {
   "cell_type": "code",
   "execution_count": null,
   "id": "721ff514-cb11-46f8-b6fc-50392f74b5cb",
   "metadata": {
    "papermill": {
     "duration": 0.027327,
     "end_time": "2025-07-28T10:28:30.101961",
     "exception": false,
     "start_time": "2025-07-28T10:28:30.074634",
     "status": "completed"
    },
    "tags": []
   },
   "outputs": [],
   "source": []
  }
 ],
 "metadata": {
  "celltoolbar": "Tags",
  "kernelspec": {
   "display_name": "Python (CMA Fairness)",
   "language": "python",
   "name": "cma_fair_env"
  },
  "language_info": {
   "codemirror_mode": {
    "name": "ipython",
    "version": 3
   },
   "file_extension": ".py",
   "mimetype": "text/x-python",
   "name": "python",
   "nbconvert_exporter": "python",
   "pygments_lexer": "ipython3",
   "version": "3.10.12"
  },
  "papermill": {
   "default_parameters": {},
   "duration": 43.520785,
   "end_time": "2025-07-28T10:28:31.012063",
   "environment_variables": {},
   "exception": null,
   "input_path": "universe_analysis.ipynb",
   "output_path": "output/runs/11/notebooks/m_11-91d2c2d03f2f5203de99697f157372e5.ipynb",
   "parameters": {
    "output_dir": "output",
    "run_no": "11",
    "seed": "2023",
    "universe": "{\"cutoff\": [\"quantile_0.1\", \"quantile_0.25\"], \"eval_fairness_grouping\": [\"majority-minority\", \"nationality-all\"], \"exclude_features\": \"age\", \"exclude_subgroups\": \"drop-non-german\", \"model\": \"logreg\", \"scale\": \"scale\", \"training_size\": \"5k\"}",
    "universe_id": "91d2c2d03f2f5203de99697f157372e5"
   },
   "start_time": "2025-07-28T10:27:47.491278",
   "version": "2.6.0"
  }
 },
 "nbformat": 4,
 "nbformat_minor": 5
}