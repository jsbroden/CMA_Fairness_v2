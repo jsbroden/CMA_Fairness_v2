{
 "cells": [
  {
   "cell_type": "code",
   "execution_count": 1,
   "id": "f159f837-637b-42ba-96b5-ec9a68c44524",
   "metadata": {
    "execution": {
     "iopub.execute_input": "2025-07-28T10:55:36.007391Z",
     "iopub.status.busy": "2025-07-28T10:55:36.007041Z",
     "iopub.status.idle": "2025-07-28T10:55:36.020130Z",
     "shell.execute_reply": "2025-07-28T10:55:36.019055Z"
    },
    "papermill": {
     "duration": 0.026482,
     "end_time": "2025-07-28T10:55:36.022016",
     "exception": false,
     "start_time": "2025-07-28T10:55:35.995534",
     "status": "completed"
    },
    "tags": []
   },
   "outputs": [
    {
     "name": "stdout",
     "output_type": "stream",
     "text": [
      "/dss/dsshome1/0C/ra93lal2/cma/CMA_Fairness_v2\n"
     ]
    },
    {
     "name": "stderr",
     "output_type": "stream",
     "text": [
      "/dss/dsshome1/0C/ra93lal2/.local/share/virtualenvs/CMA_Fairness_v2-3j10GkSs/lib/python3.10/site-packages/IPython/core/magics/osm.py:393: UserWarning: This is now an optional IPython functionality, using bookmarks requires you to install the `pickleshare` library.\n",
      "  bkms = self.shell.db.get('bookmarks', {})\n",
      "/dss/dsshome1/0C/ra93lal2/.local/share/virtualenvs/CMA_Fairness_v2-3j10GkSs/lib/python3.10/site-packages/IPython/core/magics/osm.py:417: UserWarning: This is now an optional IPython functionality, setting dhist requires you to install the `pickleshare` library.\n",
      "  self.shell.db['dhist'] = compress_dhist(dhist)[-100:]\n"
     ]
    }
   ],
   "source": [
    "%cd ~/cma/CMA_Fairness_v2"
   ]
  },
  {
   "cell_type": "markdown",
   "id": "de2603b9",
   "metadata": {
    "papermill": {
     "duration": 0.019522,
     "end_time": "2025-07-28T10:55:36.061878",
     "exception": false,
     "start_time": "2025-07-28T10:55:36.042356",
     "status": "completed"
    },
    "tags": []
   },
   "source": [
    "The following cell holds the definition of our parameters, these values can be overriden by rendering the with e.g. the following command:\n",
    "\n",
    "papermill -p alpha 0.2 -p ratio 0.3 universe_analysis.ipynb output/test_run.ipynb"
   ]
  },
  {
   "cell_type": "code",
   "execution_count": 2,
   "id": "a80968a0-40bb-4fa9-85ef-2d5eefb01975",
   "metadata": {
    "execution": {
     "iopub.execute_input": "2025-07-28T10:55:36.104135Z",
     "iopub.status.busy": "2025-07-28T10:55:36.103642Z",
     "iopub.status.idle": "2025-07-28T10:55:36.109659Z",
     "shell.execute_reply": "2025-07-28T10:55:36.108605Z"
    },
    "papermill": {
     "duration": 0.030271,
     "end_time": "2025-07-28T10:55:36.111411",
     "exception": false,
     "start_time": "2025-07-28T10:55:36.081140",
     "status": "completed"
    },
    "tags": []
   },
   "outputs": [
    {
     "name": "stdout",
     "output_type": "stream",
     "text": [
      "Current working directory: /dss/dsshome1/0C/ra93lal2/cma/CMA_Fairness_v2\n"
     ]
    }
   ],
   "source": [
    "import os\n",
    "print(\"Current working directory:\", os.getcwd())"
   ]
  },
  {
   "cell_type": "code",
   "execution_count": 3,
   "id": "2dce4c03",
   "metadata": {
    "execution": {
     "iopub.execute_input": "2025-07-28T10:55:36.154418Z",
     "iopub.status.busy": "2025-07-28T10:55:36.153732Z",
     "iopub.status.idle": "2025-07-28T10:55:36.160083Z",
     "shell.execute_reply": "2025-07-28T10:55:36.159067Z"
    },
    "papermill": {
     "duration": 0.030295,
     "end_time": "2025-07-28T10:55:36.161877",
     "exception": false,
     "start_time": "2025-07-28T10:55:36.131582",
     "status": "completed"
    },
    "tags": [
     "parameters"
    ]
   },
   "outputs": [],
   "source": [
    "run_no = 0\n",
    "universe_id = \"test\"\n",
    "universe = {\n",
    "    \"training_size\": \"2014\", # \"25k\", \"5k\", \"1k\", \"2014\"\n",
    "    \"scale\": \"scale\", # \"scale\", \"do-not-scale\",\n",
    "    #\"stratify_split\": \"target\", # \"none\", \"target\", \"protected-attribute\", \"both\",\n",
    "    \"model\": \"elasticnet\", # \"logreg\", \"penalized_logreg\", \"rf\", \"gbm\", \"elasticnet\"\n",
    "    \"cutoff\": [\"quantile_0.15\", \"quantile_0.30\"],\n",
    "    \"exclude_features\": \"age\", # \"none\", \"nationality\", \"sex\", \"nationality-sex\", \"age\"\n",
    "    \"exclude_subgroups\": \"keep-all\", # \"keep-all\", \"drop-non-german\"\n",
    "    \"eval_fairness_grouping\": [\"majority-minority\", \"nationality-all\"]\n",
    "}\n",
    "\n",
    "output_dir=\"./output\"\n",
    "seed=0"
   ]
  },
  {
   "cell_type": "code",
   "execution_count": 4,
   "id": "5b4f425e",
   "metadata": {
    "execution": {
     "iopub.execute_input": "2025-07-28T10:55:36.204781Z",
     "iopub.status.busy": "2025-07-28T10:55:36.204234Z",
     "iopub.status.idle": "2025-07-28T10:55:36.211293Z",
     "shell.execute_reply": "2025-07-28T10:55:36.210085Z"
    },
    "papermill": {
     "duration": 0.030283,
     "end_time": "2025-07-28T10:55:36.213046",
     "exception": false,
     "start_time": "2025-07-28T10:55:36.182763",
     "status": "completed"
    },
    "tags": [
     "injected-parameters"
    ]
   },
   "outputs": [],
   "source": [
    "# Parameters\n",
    "universe_id = \"8b6d102409c8ff2d0feaec06a9de82f4\"\n",
    "run_no = \"11\"\n",
    "universe = \"{\\\"cutoff\\\": [\\\"quantile_0.1\\\", \\\"quantile_0.25\\\"], \\\"eval_fairness_grouping\\\": [\\\"majority-minority\\\", \\\"nationality-all\\\"], \\\"exclude_features\\\": \\\"sex\\\", \\\"exclude_subgroups\\\": \\\"keep-all\\\", \\\"model\\\": \\\"rf\\\", \\\"scale\\\": \\\"scale\\\", \\\"training_size\\\": \\\"2014\\\"}\"\n",
    "output_dir = \"output\"\n",
    "seed = \"2023\"\n"
   ]
  },
  {
   "cell_type": "code",
   "execution_count": 5,
   "id": "1650acaf",
   "metadata": {
    "execution": {
     "iopub.execute_input": "2025-07-28T10:55:36.237412Z",
     "iopub.status.busy": "2025-07-28T10:55:36.236706Z",
     "iopub.status.idle": "2025-07-28T10:55:36.242247Z",
     "shell.execute_reply": "2025-07-28T10:55:36.241090Z"
    },
    "papermill": {
     "duration": 0.019699,
     "end_time": "2025-07-28T10:55:36.244026",
     "exception": false,
     "start_time": "2025-07-28T10:55:36.224327",
     "status": "completed"
    },
    "tags": []
   },
   "outputs": [],
   "source": [
    "import json\n",
    "# Parse universe into dict if it is passed as a string\n",
    "if isinstance(universe, str):\n",
    "    universe = json.loads(universe)"
   ]
  },
  {
   "cell_type": "code",
   "execution_count": 6,
   "id": "16620c48",
   "metadata": {
    "execution": {
     "iopub.execute_input": "2025-07-28T10:55:36.276129Z",
     "iopub.status.busy": "2025-07-28T10:55:36.275387Z",
     "iopub.status.idle": "2025-07-28T10:55:36.326229Z",
     "shell.execute_reply": "2025-07-28T10:55:36.325313Z"
    },
    "papermill": {
     "duration": 0.064717,
     "end_time": "2025-07-28T10:55:36.327608",
     "exception": false,
     "start_time": "2025-07-28T10:55:36.262891",
     "status": "completed"
    },
    "tags": []
   },
   "outputs": [],
   "source": [
    "# Auto-reload the custom package\n",
    "%load_ext autoreload\n",
    "%autoreload 1\n",
    "%aimport fairness_multiverse"
   ]
  },
  {
   "cell_type": "code",
   "execution_count": 7,
   "id": "01c5c9f3",
   "metadata": {
    "execution": {
     "iopub.execute_input": "2025-07-28T10:55:36.350923Z",
     "iopub.status.busy": "2025-07-28T10:55:36.350432Z",
     "iopub.status.idle": "2025-07-28T10:55:39.660980Z",
     "shell.execute_reply": "2025-07-28T10:55:39.659923Z"
    },
    "papermill": {
     "duration": 3.323948,
     "end_time": "2025-07-28T10:55:39.662637",
     "exception": false,
     "start_time": "2025-07-28T10:55:36.338689",
     "status": "completed"
    },
    "tags": []
   },
   "outputs": [],
   "source": [
    "from fairness_multiverse.universe import UniverseAnalysis\n",
    "\n",
    "universe_analysis = UniverseAnalysis(\n",
    "    run_no = run_no,\n",
    "    universe_id = universe_id,\n",
    "    universe = universe,\n",
    "    output_dir=output_dir,\n",
    ")"
   ]
  },
  {
   "cell_type": "code",
   "execution_count": 8,
   "id": "106241f5",
   "metadata": {
    "execution": {
     "iopub.execute_input": "2025-07-28T10:55:39.750656Z",
     "iopub.status.busy": "2025-07-28T10:55:39.750119Z",
     "iopub.status.idle": "2025-07-28T10:55:39.757200Z",
     "shell.execute_reply": "2025-07-28T10:55:39.756058Z"
    },
    "papermill": {
     "duration": 0.046857,
     "end_time": "2025-07-28T10:55:39.759228",
     "exception": false,
     "start_time": "2025-07-28T10:55:39.712371",
     "status": "completed"
    },
    "tags": []
   },
   "outputs": [
    {
     "name": "stdout",
     "output_type": "stream",
     "text": [
      "Using Seed: 2023\n"
     ]
    }
   ],
   "source": [
    "import numpy as np\n",
    "parsed_seed = int(seed)\n",
    "np.random.seed(parsed_seed)\n",
    "print(f\"Using Seed: {parsed_seed}\")"
   ]
  },
  {
   "cell_type": "markdown",
   "id": "e0ebdc57",
   "metadata": {
    "papermill": {
     "duration": 0.036098,
     "end_time": "2025-07-28T10:55:39.852475",
     "exception": false,
     "start_time": "2025-07-28T10:55:39.816377",
     "status": "completed"
    },
    "tags": []
   },
   "source": [
    "# Loading Data"
   ]
  },
  {
   "cell_type": "markdown",
   "id": "681925a3",
   "metadata": {
    "papermill": {
     "duration": 0.044361,
     "end_time": "2025-07-28T10:55:39.916368",
     "exception": false,
     "start_time": "2025-07-28T10:55:39.872007",
     "status": "completed"
    },
    "tags": []
   },
   "source": [
    "Load siab_train, siab_test, siab_calib and/or \n",
    "load siab_train_features, siab_train_labels"
   ]
  },
  {
   "cell_type": "code",
   "execution_count": 9,
   "id": "f0496b8a",
   "metadata": {
    "execution": {
     "iopub.execute_input": "2025-07-28T10:55:39.996057Z",
     "iopub.status.busy": "2025-07-28T10:55:39.995649Z",
     "iopub.status.idle": "2025-07-28T10:56:10.085141Z",
     "shell.execute_reply": "2025-07-28T10:56:10.083720Z"
    },
    "papermill": {
     "duration": 30.153408,
     "end_time": "2025-07-28T10:56:10.105902",
     "exception": false,
     "start_time": "2025-07-28T10:55:39.952494",
     "status": "completed"
    },
    "tags": []
   },
   "outputs": [
    {
     "name": "stdout",
     "output_type": "stream",
     "text": [
      "Loading SIAB data from cache: data/siab_cached.csv.gz\n"
     ]
    },
    {
     "name": "stdout",
     "output_type": "stream",
     "text": [
      "(643690, 164)\n"
     ]
    }
   ],
   "source": [
    "from pathlib import Path\n",
    "import pandas as pd\n",
    "\n",
    "# File paths\n",
    "raw_file = Path(\"data/raw/siab.csv\")\n",
    "cache_file = Path(\"data/siab_cached.csv.gz\")\n",
    "\n",
    "# Ensure cache directory exists\n",
    "cache_file.parent.mkdir(parents=True, exist_ok=True)\n",
    "\n",
    "# Load with simple caching\n",
    "if cache_file.exists():\n",
    "    print(f\"Loading SIAB data from cache: {cache_file}\")\n",
    "    siab = pd.read_csv(cache_file, compression='gzip')\n",
    "else:\n",
    "    print(f\"Cache not found. Reading raw SIAB data: {raw_file}\")\n",
    "    siab = pd.read_csv(raw_file)\n",
    "    siab.to_csv(cache_file, index=False, compression='gzip')\n",
    "    print(f\"Cached SIAB data to: {cache_file}\")\n",
    "\n",
    "# Now use `siab` DataFrame as needed\n",
    "print(siab.shape)"
   ]
  },
  {
   "cell_type": "code",
   "execution_count": 10,
   "id": "db0ca512-5f53-4dba-abdb-a2888bca41ba",
   "metadata": {
    "execution": {
     "iopub.execute_input": "2025-07-28T10:56:10.164246Z",
     "iopub.status.busy": "2025-07-28T10:56:10.163611Z",
     "iopub.status.idle": "2025-07-28T10:56:10.170016Z",
     "shell.execute_reply": "2025-07-28T10:56:10.168946Z"
    },
    "papermill": {
     "duration": 0.031459,
     "end_time": "2025-07-28T10:56:10.171989",
     "exception": false,
     "start_time": "2025-07-28T10:56:10.140530",
     "status": "completed"
    },
    "tags": []
   },
   "outputs": [],
   "source": [
    "#siab"
   ]
  },
  {
   "cell_type": "code",
   "execution_count": 11,
   "id": "a0edb063",
   "metadata": {
    "execution": {
     "iopub.execute_input": "2025-07-28T10:56:10.217370Z",
     "iopub.status.busy": "2025-07-28T10:56:10.216809Z",
     "iopub.status.idle": "2025-07-28T10:56:10.222498Z",
     "shell.execute_reply": "2025-07-28T10:56:10.221512Z"
    },
    "papermill": {
     "duration": 0.030683,
     "end_time": "2025-07-28T10:56:10.224658",
     "exception": false,
     "start_time": "2025-07-28T10:56:10.193975",
     "status": "completed"
    },
    "tags": []
   },
   "outputs": [],
   "source": [
    "#import pandas as pd\n",
    "#\n",
    "#X_train = pd.read_csv(\"./data/X_train.csv\")\n",
    "#y_train = pd.read_csv(\"./data/y_train.csv\")"
   ]
  },
  {
   "cell_type": "code",
   "execution_count": 12,
   "id": "63d08085",
   "metadata": {
    "execution": {
     "iopub.execute_input": "2025-07-28T10:56:10.295142Z",
     "iopub.status.busy": "2025-07-28T10:56:10.294696Z",
     "iopub.status.idle": "2025-07-28T10:56:10.300207Z",
     "shell.execute_reply": "2025-07-28T10:56:10.299110Z"
    },
    "papermill": {
     "duration": 0.033541,
     "end_time": "2025-07-28T10:56:10.303687",
     "exception": false,
     "start_time": "2025-07-28T10:56:10.270146",
     "status": "completed"
    },
    "tags": []
   },
   "outputs": [],
   "source": [
    "#X_test = pd.read_csv(\"./data/X_test.csv\")\n",
    "#y_true = pd.read_csv(\"./data/y_test.csv\")"
   ]
  },
  {
   "cell_type": "code",
   "execution_count": 13,
   "id": "98a8d0fa-1d3d-4ed8-bb2c-281470e24add",
   "metadata": {
    "execution": {
     "iopub.execute_input": "2025-07-28T10:56:10.348244Z",
     "iopub.status.busy": "2025-07-28T10:56:10.347745Z",
     "iopub.status.idle": "2025-07-28T10:56:10.353417Z",
     "shell.execute_reply": "2025-07-28T10:56:10.352307Z"
    },
    "papermill": {
     "duration": 0.030024,
     "end_time": "2025-07-28T10:56:10.355565",
     "exception": false,
     "start_time": "2025-07-28T10:56:10.325541",
     "status": "completed"
    },
    "tags": []
   },
   "outputs": [],
   "source": [
    "# Calibration data for conformal\n",
    "#X_calib = pd.read_csv(\"./data/X_calib.csv\")\n",
    "#y_calib = pd.read_csv(\"./data/y_calib.csv\")"
   ]
  },
  {
   "cell_type": "markdown",
   "id": "9901737e-04df-44f0-9100-f5ad144ed040",
   "metadata": {
    "papermill": {
     "duration": 0.02113,
     "end_time": "2025-07-28T10:56:10.398275",
     "exception": false,
     "start_time": "2025-07-28T10:56:10.377145",
     "status": "completed"
    },
    "tags": []
   },
   "source": [
    "# Splitting Data and Setting Training Data Size"
   ]
  },
  {
   "cell_type": "code",
   "execution_count": 14,
   "id": "acbc8f7d-8fc8-4e86-8c59-5dcb0f58384b",
   "metadata": {
    "execution": {
     "iopub.execute_input": "2025-07-28T10:56:10.442567Z",
     "iopub.status.busy": "2025-07-28T10:56:10.442089Z",
     "iopub.status.idle": "2025-07-28T10:56:10.451159Z",
     "shell.execute_reply": "2025-07-28T10:56:10.450027Z"
    },
    "papermill": {
     "duration": 0.034197,
     "end_time": "2025-07-28T10:56:10.453360",
     "exception": false,
     "start_time": "2025-07-28T10:56:10.419163",
     "status": "completed"
    },
    "tags": []
   },
   "outputs": [],
   "source": [
    "def sample_by_year(df, training_size, random_state=42):\n",
    "    if training_size == \"2014\":\n",
    "        return df[df[\"year\"] == 2014].reset_index(drop=True)\n",
    "    \n",
    "    size_map = {\n",
    "        \"25k\": 5000,\n",
    "        \"5k\": 1000,\n",
    "        \"1k\": 200\n",
    "    }\n",
    "\n",
    "    if training_size not in size_map:\n",
    "        return df.reset_index(drop=True)  # use all data\n",
    "\n",
    "    n_per_year = size_map[training_size]\n",
    "    grouped = df.groupby(\"year\")\n",
    "    sampled = grouped.apply(lambda x: x.sample(n=min(n_per_year, len(x)), random_state=random_state))\n",
    "    return sampled.reset_index(drop=True)"
   ]
  },
  {
   "cell_type": "code",
   "execution_count": 15,
   "id": "6d931f52-beaf-43ff-9e78-9d44a448d54e",
   "metadata": {
    "execution": {
     "iopub.execute_input": "2025-07-28T10:56:10.494049Z",
     "iopub.status.busy": "2025-07-28T10:56:10.493609Z",
     "iopub.status.idle": "2025-07-28T10:56:10.661588Z",
     "shell.execute_reply": "2025-07-28T10:56:10.660580Z"
    },
    "papermill": {
     "duration": 0.19217,
     "end_time": "2025-07-28T10:56:10.663560",
     "exception": false,
     "start_time": "2025-07-28T10:56:10.471390",
     "status": "completed"
    },
    "tags": []
   },
   "outputs": [],
   "source": [
    "siab_s = sample_by_year(siab, universe[\"training_size\"])"
   ]
  },
  {
   "cell_type": "code",
   "execution_count": 16,
   "id": "5db0a40e-a4e2-4920-be85-b12ae061d70d",
   "metadata": {
    "execution": {
     "iopub.execute_input": "2025-07-28T10:56:10.705804Z",
     "iopub.status.busy": "2025-07-28T10:56:10.704820Z",
     "iopub.status.idle": "2025-07-28T10:56:10.720800Z",
     "shell.execute_reply": "2025-07-28T10:56:10.719760Z"
    },
    "papermill": {
     "duration": 0.039332,
     "end_time": "2025-07-28T10:56:10.722731",
     "exception": false,
     "start_time": "2025-07-28T10:56:10.683399",
     "status": "completed"
    },
    "tags": []
   },
   "outputs": [
    {
     "data": {
      "text/plain": [
       "year\n",
       "2014    87158\n",
       "dtype: int64"
      ]
     },
     "metadata": {},
     "output_type": "display_data"
    }
   ],
   "source": [
    "display(siab_s.groupby(\"year\").size())"
   ]
  },
  {
   "cell_type": "code",
   "execution_count": 17,
   "id": "a561edb4-d032-42cb-8256-22eac1111c64",
   "metadata": {
    "execution": {
     "iopub.execute_input": "2025-07-28T10:56:10.780583Z",
     "iopub.status.busy": "2025-07-28T10:56:10.779789Z",
     "iopub.status.idle": "2025-07-28T10:56:11.140238Z",
     "shell.execute_reply": "2025-07-28T10:56:11.136203Z"
    },
    "papermill": {
     "duration": 0.390296,
     "end_time": "2025-07-28T10:56:11.142744",
     "exception": false,
     "start_time": "2025-07-28T10:56:10.752448",
     "status": "completed"
    },
    "tags": []
   },
   "outputs": [],
   "source": [
    "siab_train = siab_s[siab_s.year < 2015]\n",
    "siab_calib = siab[siab.year == 2015]\n",
    "siab_test = siab[siab.year == 2016]"
   ]
  },
  {
   "cell_type": "code",
   "execution_count": 18,
   "id": "472de16f-c3db-4916-846b-1f0de9cf1746",
   "metadata": {
    "execution": {
     "iopub.execute_input": "2025-07-28T10:56:11.233678Z",
     "iopub.status.busy": "2025-07-28T10:56:11.233245Z",
     "iopub.status.idle": "2025-07-28T10:56:11.293151Z",
     "shell.execute_reply": "2025-07-28T10:56:11.291763Z"
    },
    "papermill": {
     "duration": 0.103722,
     "end_time": "2025-07-28T10:56:11.295560",
     "exception": false,
     "start_time": "2025-07-28T10:56:11.191838",
     "status": "completed"
    },
    "tags": []
   },
   "outputs": [],
   "source": [
    "X_train = siab_train.iloc[:,4:164]\n",
    "y_train = siab_train.iloc[:, [3]]"
   ]
  },
  {
   "cell_type": "code",
   "execution_count": 19,
   "id": "828c96af-f43a-4ed6-ba47-8ac73a47d56c",
   "metadata": {
    "execution": {
     "iopub.execute_input": "2025-07-28T10:56:11.381426Z",
     "iopub.status.busy": "2025-07-28T10:56:11.380964Z",
     "iopub.status.idle": "2025-07-28T10:56:11.474436Z",
     "shell.execute_reply": "2025-07-28T10:56:11.473210Z"
    },
    "papermill": {
     "duration": 0.156162,
     "end_time": "2025-07-28T10:56:11.476744",
     "exception": false,
     "start_time": "2025-07-28T10:56:11.320582",
     "status": "completed"
    },
    "tags": []
   },
   "outputs": [],
   "source": [
    "X_calib = siab_calib.iloc[:,4:164]\n",
    "y_calib = siab_calib.iloc[:, [3]]"
   ]
  },
  {
   "cell_type": "code",
   "execution_count": 20,
   "id": "c34be9c3-6bd6-476e-acd3-845840e303be",
   "metadata": {
    "execution": {
     "iopub.execute_input": "2025-07-28T10:56:11.549720Z",
     "iopub.status.busy": "2025-07-28T10:56:11.549267Z",
     "iopub.status.idle": "2025-07-28T10:56:11.612913Z",
     "shell.execute_reply": "2025-07-28T10:56:11.608115Z"
    },
    "papermill": {
     "duration": 0.095899,
     "end_time": "2025-07-28T10:56:11.616465",
     "exception": false,
     "start_time": "2025-07-28T10:56:11.520566",
     "status": "completed"
    },
    "tags": []
   },
   "outputs": [],
   "source": [
    "X_test = siab_test.iloc[:,4:164]\n",
    "y_true = siab_test.iloc[:, [3]]"
   ]
  },
  {
   "cell_type": "code",
   "execution_count": 21,
   "id": "e6c733c5",
   "metadata": {
    "execution": {
     "iopub.execute_input": "2025-07-28T10:56:11.676496Z",
     "iopub.status.busy": "2025-07-28T10:56:11.675449Z",
     "iopub.status.idle": "2025-07-28T10:56:11.825309Z",
     "shell.execute_reply": "2025-07-28T10:56:11.824123Z"
    },
    "papermill": {
     "duration": 0.180836,
     "end_time": "2025-07-28T10:56:11.827635",
     "exception": false,
     "start_time": "2025-07-28T10:56:11.646799",
     "status": "completed"
    },
    "tags": []
   },
   "outputs": [],
   "source": [
    "# Auxiliary data needed downstream in the pipeline\n",
    "\n",
    "org_train = X_train.copy()\n",
    "org_test = X_test.copy()\n",
    "org_calib = X_calib.copy()"
   ]
  },
  {
   "cell_type": "markdown",
   "id": "0a4a1b33",
   "metadata": {
    "papermill": {
     "duration": 0.021903,
     "end_time": "2025-07-28T10:56:11.872910",
     "exception": false,
     "start_time": "2025-07-28T10:56:11.851007",
     "status": "completed"
    },
    "tags": []
   },
   "source": [
    "# Preprocessing Data"
   ]
  },
  {
   "cell_type": "code",
   "execution_count": 22,
   "id": "ca879031",
   "metadata": {
    "execution": {
     "iopub.execute_input": "2025-07-28T10:56:11.916002Z",
     "iopub.status.busy": "2025-07-28T10:56:11.915547Z",
     "iopub.status.idle": "2025-07-28T10:56:11.922475Z",
     "shell.execute_reply": "2025-07-28T10:56:11.921400Z"
    },
    "papermill": {
     "duration": 0.02994,
     "end_time": "2025-07-28T10:56:11.925892",
     "exception": false,
     "start_time": "2025-07-28T10:56:11.895952",
     "status": "completed"
    },
    "tags": []
   },
   "outputs": [],
   "source": [
    "# EXCLUDE PROTECTED FEATURES\n",
    "# ----------------------\n",
    "# \"exclude_features\": \"none\", # \"nationality\", \"sex\", \"nationality-sex\"\n",
    "\n",
    "excluded_features = universe[\"exclude_features\"].split(\"-\") # split, e.g.: \"nationality-sex\" -> [\"nationality\", \"sex\"]\n",
    "excluded_features_dictionary = {\n",
    "    \"nationality\": [\"maxdeutsch1\", \"maxdeutsch.Missing.\"],\n",
    "    \"sex\": [\"frau1\"],\n",
    "    \"age\": [\"age\"],\n",
    "}\n"
   ]
  },
  {
   "cell_type": "code",
   "execution_count": 23,
   "id": "b745ac60",
   "metadata": {
    "execution": {
     "iopub.execute_input": "2025-07-28T10:56:11.972936Z",
     "iopub.status.busy": "2025-07-28T10:56:11.972404Z",
     "iopub.status.idle": "2025-07-28T10:56:11.978637Z",
     "shell.execute_reply": "2025-07-28T10:56:11.977553Z"
    },
    "papermill": {
     "duration": 0.031873,
     "end_time": "2025-07-28T10:56:11.980426",
     "exception": false,
     "start_time": "2025-07-28T10:56:11.948553",
     "status": "completed"
    },
    "tags": []
   },
   "outputs": [],
   "source": [
    "# Code nice names to column names\n",
    "\n",
    "excluded_features_columns = [\n",
    "    excluded_features_dictionary[f] for f in excluded_features if len(f) > 0 and f != \"none\"\n",
    "]"
   ]
  },
  {
   "cell_type": "code",
   "execution_count": 24,
   "id": "f84f73a2",
   "metadata": {
    "execution": {
     "iopub.execute_input": "2025-07-28T10:56:12.026908Z",
     "iopub.status.busy": "2025-07-28T10:56:12.025981Z",
     "iopub.status.idle": "2025-07-28T10:56:12.032711Z",
     "shell.execute_reply": "2025-07-28T10:56:12.031658Z"
    },
    "papermill": {
     "duration": 0.031818,
     "end_time": "2025-07-28T10:56:12.034810",
     "exception": false,
     "start_time": "2025-07-28T10:56:12.002992",
     "status": "completed"
    },
    "tags": []
   },
   "outputs": [],
   "source": [
    "from utils import flatten_once\n",
    "\n",
    "excluded_features_columns = flatten_once(excluded_features_columns)"
   ]
  },
  {
   "cell_type": "code",
   "execution_count": 25,
   "id": "884dea22",
   "metadata": {
    "execution": {
     "iopub.execute_input": "2025-07-28T10:56:12.094894Z",
     "iopub.status.busy": "2025-07-28T10:56:12.094330Z",
     "iopub.status.idle": "2025-07-28T10:56:12.151643Z",
     "shell.execute_reply": "2025-07-28T10:56:12.150361Z"
    },
    "papermill": {
     "duration": 0.09105,
     "end_time": "2025-07-28T10:56:12.153793",
     "exception": false,
     "start_time": "2025-07-28T10:56:12.062743",
     "status": "completed"
    },
    "tags": []
   },
   "outputs": [
    {
     "name": "stdout",
     "output_type": "stream",
     "text": [
      "Dropping features: ['frau1']\n"
     ]
    }
   ],
   "source": [
    "if len(excluded_features_columns) > 0:\n",
    "    print(f\"Dropping features: {excluded_features_columns}\")\n",
    "    X_train.drop(excluded_features_columns, axis=1, inplace=True)"
   ]
  },
  {
   "cell_type": "code",
   "execution_count": 26,
   "id": "95ab8b16",
   "metadata": {
    "execution": {
     "iopub.execute_input": "2025-07-28T10:56:12.206263Z",
     "iopub.status.busy": "2025-07-28T10:56:12.205589Z",
     "iopub.status.idle": "2025-07-28T10:56:12.286401Z",
     "shell.execute_reply": "2025-07-28T10:56:12.280942Z"
    },
    "papermill": {
     "duration": 0.110332,
     "end_time": "2025-07-28T10:56:12.289304",
     "exception": false,
     "start_time": "2025-07-28T10:56:12.178972",
     "status": "completed"
    },
    "tags": []
   },
   "outputs": [
    {
     "name": "stdout",
     "output_type": "stream",
     "text": [
      "Dropping features: ['frau1']\n"
     ]
    }
   ],
   "source": [
    "if len(excluded_features_columns) > 0:\n",
    "    print(f\"Dropping features: {excluded_features_columns}\")\n",
    "    X_test.drop(excluded_features_columns, axis=1, inplace=True)"
   ]
  },
  {
   "cell_type": "code",
   "execution_count": 27,
   "id": "1853aaf5-fb9f-46cb-a2b5-8ea4ae2237e4",
   "metadata": {
    "execution": {
     "iopub.execute_input": "2025-07-28T10:56:12.348065Z",
     "iopub.status.busy": "2025-07-28T10:56:12.347559Z",
     "iopub.status.idle": "2025-07-28T10:56:12.403163Z",
     "shell.execute_reply": "2025-07-28T10:56:12.402085Z"
    },
    "papermill": {
     "duration": 0.083038,
     "end_time": "2025-07-28T10:56:12.405625",
     "exception": false,
     "start_time": "2025-07-28T10:56:12.322587",
     "status": "completed"
    },
    "tags": []
   },
   "outputs": [
    {
     "name": "stdout",
     "output_type": "stream",
     "text": [
      "Dropping features: ['frau1']\n"
     ]
    }
   ],
   "source": [
    "if len(excluded_features_columns) > 0:\n",
    "    print(f\"Dropping features: {excluded_features_columns}\")\n",
    "    X_calib.drop(excluded_features_columns, axis=1, inplace=True)"
   ]
  },
  {
   "cell_type": "code",
   "execution_count": 28,
   "id": "6727d079-03e5-481e-9d38-292a90b7a0a8",
   "metadata": {
    "execution": {
     "iopub.execute_input": "2025-07-28T10:56:12.454034Z",
     "iopub.status.busy": "2025-07-28T10:56:12.453580Z",
     "iopub.status.idle": "2025-07-28T10:56:12.459047Z",
     "shell.execute_reply": "2025-07-28T10:56:12.458137Z"
    },
    "papermill": {
     "duration": 0.033146,
     "end_time": "2025-07-28T10:56:12.462500",
     "exception": false,
     "start_time": "2025-07-28T10:56:12.429354",
     "status": "completed"
    },
    "tags": []
   },
   "outputs": [],
   "source": [
    "# SPLIT & STRATIFY DATA\n",
    "# ----------------------"
   ]
  },
  {
   "cell_type": "code",
   "execution_count": 29,
   "id": "76c4dc6d",
   "metadata": {
    "execution": {
     "iopub.execute_input": "2025-07-28T10:56:12.515434Z",
     "iopub.status.busy": "2025-07-28T10:56:12.514980Z",
     "iopub.status.idle": "2025-07-28T10:56:12.521214Z",
     "shell.execute_reply": "2025-07-28T10:56:12.520154Z"
    },
    "papermill": {
     "duration": 0.035683,
     "end_time": "2025-07-28T10:56:12.524920",
     "exception": false,
     "start_time": "2025-07-28T10:56:12.489237",
     "status": "completed"
    },
    "tags": []
   },
   "outputs": [],
   "source": [
    "# EXCLUDE CERTAIN SUBGROUPS\n",
    "# ----------------------\n",
    "\n",
    "mode = universe.get(\"exclude_subgroups\", \"keep-all\") \n",
    "# Fetches the exclude_subgroups setting from the universe dict.\n",
    "# Defaults to \"keep-all\" if the key is missing."
   ]
  },
  {
   "cell_type": "code",
   "execution_count": 30,
   "id": "21994072",
   "metadata": {
    "execution": {
     "iopub.execute_input": "2025-07-28T10:56:12.572643Z",
     "iopub.status.busy": "2025-07-28T10:56:12.572136Z",
     "iopub.status.idle": "2025-07-28T10:56:12.579980Z",
     "shell.execute_reply": "2025-07-28T10:56:12.578938Z"
    },
    "papermill": {
     "duration": 0.035599,
     "end_time": "2025-07-28T10:56:12.583437",
     "exception": false,
     "start_time": "2025-07-28T10:56:12.547838",
     "status": "completed"
    },
    "tags": []
   },
   "outputs": [],
   "source": [
    "if mode == \"keep-all\":\n",
    "    keep_mask = pd.Series(True, index=org_train.index)\n",
    "\n",
    "# org_train contains the original feature columns from features_org (in Simson)\n",
    "# features_org contains unprocessed features, for me X_train at beginning ???\n",
    "# For keep-all, creates a boolean Series (keep_mask) of all True, so no rows are removed.\n",
    "\n",
    "elif mode == \"drop-non-german\":\n",
    "    keep_mask = org_train[\"maxdeutsch1\"] == 1 # ??? what about missing values?\n",
    "\n",
    "else:\n",
    "    raise ValueError(f\"Unsupported mode for exclude_subgroups: {mode}\")\n"
   ]
  },
  {
   "cell_type": "code",
   "execution_count": 31,
   "id": "71651440",
   "metadata": {
    "execution": {
     "iopub.execute_input": "2025-07-28T10:56:12.655689Z",
     "iopub.status.busy": "2025-07-28T10:56:12.655232Z",
     "iopub.status.idle": "2025-07-28T10:56:12.662967Z",
     "shell.execute_reply": "2025-07-28T10:56:12.661712Z"
    },
    "papermill": {
     "duration": 0.035578,
     "end_time": "2025-07-28T10:56:12.666544",
     "exception": false,
     "start_time": "2025-07-28T10:56:12.630966",
     "status": "completed"
    },
    "tags": []
   },
   "outputs": [],
   "source": [
    "n_drop = (~keep_mask).sum() # Calculates how many rows are set to be dropped\n",
    "if n_drop > 0:\n",
    "    pct = n_drop / len(keep_mask) * 100\n",
    "    print(f\"Dropping {n_drop} rows ({pct:.2f}%) where mode='{mode}'\")"
   ]
  },
  {
   "cell_type": "code",
   "execution_count": 32,
   "id": "5fb8eee5",
   "metadata": {
    "execution": {
     "iopub.execute_input": "2025-07-28T10:56:12.741417Z",
     "iopub.status.busy": "2025-07-28T10:56:12.740978Z",
     "iopub.status.idle": "2025-07-28T10:56:12.807862Z",
     "shell.execute_reply": "2025-07-28T10:56:12.806735Z"
    },
    "papermill": {
     "duration": 0.120039,
     "end_time": "2025-07-28T10:56:12.810694",
     "exception": false,
     "start_time": "2025-07-28T10:56:12.690655",
     "status": "completed"
    },
    "tags": []
   },
   "outputs": [],
   "source": [
    "X_train = X_train[keep_mask]"
   ]
  },
  {
   "cell_type": "code",
   "execution_count": 33,
   "id": "b202bb3a",
   "metadata": {
    "execution": {
     "iopub.execute_input": "2025-07-28T10:56:12.899613Z",
     "iopub.status.busy": "2025-07-28T10:56:12.899136Z",
     "iopub.status.idle": "2025-07-28T10:56:12.910311Z",
     "shell.execute_reply": "2025-07-28T10:56:12.909227Z"
    },
    "papermill": {
     "duration": 0.055755,
     "end_time": "2025-07-28T10:56:12.912672",
     "exception": false,
     "start_time": "2025-07-28T10:56:12.856917",
     "status": "completed"
    },
    "tags": []
   },
   "outputs": [],
   "source": [
    "y_train = y_train[keep_mask]"
   ]
  },
  {
   "cell_type": "markdown",
   "id": "493e2ac3",
   "metadata": {
    "papermill": {
     "duration": 0.075492,
     "end_time": "2025-07-28T10:56:13.040503",
     "exception": false,
     "start_time": "2025-07-28T10:56:12.965011",
     "status": "completed"
    },
    "tags": []
   },
   "source": [
    "# Model Training"
   ]
  },
  {
   "cell_type": "code",
   "execution_count": 34,
   "id": "679e1268",
   "metadata": {
    "execution": {
     "iopub.execute_input": "2025-07-28T10:56:13.133713Z",
     "iopub.status.busy": "2025-07-28T10:56:13.133265Z",
     "iopub.status.idle": "2025-07-28T10:56:13.460398Z",
     "shell.execute_reply": "2025-07-28T10:56:13.459278Z"
    },
    "papermill": {
     "duration": 0.370204,
     "end_time": "2025-07-28T10:56:13.462497",
     "exception": false,
     "start_time": "2025-07-28T10:56:13.092293",
     "status": "completed"
    },
    "tags": []
   },
   "outputs": [],
   "source": [
    "from sklearn.linear_model import LogisticRegression\n",
    "from sklearn.ensemble import GradientBoostingClassifier, RandomForestClassifier\n",
    "\n",
    "if (universe[\"model\"] == \"logreg\"):\n",
    "    model = LogisticRegression() #penalty=\"none\") #, solver=\"newton-cg\", max_iter=1) # include random_state=19 ?\n",
    "elif (universe[\"model\"] == \"penalized_logreg\"):\n",
    "    model = LogisticRegression(penalty=\"l2\", C=1.0) #, solver=\"newton-cg\", max_iter=1)\n",
    "elif (universe[\"model\"] == \"rf\"):\n",
    "    model = RandomForestClassifier(n_estimators=100, n_jobs=-1)\n",
    "elif (universe[\"model\"] == \"gbm\"):\n",
    "    model = GradientBoostingClassifier()\n",
    "elif (universe[\"model\"] == \"elasticnet\"):\n",
    "    model = LogisticRegression(penalty = 'elasticnet', solver = 'saga', l1_ratio = 0.5, max_iter=5000) # which solver to use?\n",
    "else:\n",
    "    raise \"Unsupported universe.model\""
   ]
  },
  {
   "cell_type": "code",
   "execution_count": 35,
   "id": "0cc8f744",
   "metadata": {
    "execution": {
     "iopub.execute_input": "2025-07-28T10:56:13.598988Z",
     "iopub.status.busy": "2025-07-28T10:56:13.597965Z",
     "iopub.status.idle": "2025-07-28T10:56:13.608588Z",
     "shell.execute_reply": "2025-07-28T10:56:13.606712Z"
    },
    "papermill": {
     "duration": 0.094579,
     "end_time": "2025-07-28T10:56:13.610510",
     "exception": false,
     "start_time": "2025-07-28T10:56:13.515931",
     "status": "completed"
    },
    "tags": []
   },
   "outputs": [],
   "source": [
    "import numpy as np\n",
    "from sklearn.pipeline import Pipeline\n",
    "from sklearn.preprocessing import StandardScaler\n",
    "\n",
    "model = Pipeline([\n",
    "    #(\"continuous_processor\", continuous_processor),\n",
    "    #(\"categorical_preprocessor\", categorical_preprocessor),\n",
    "    (\"scale\", StandardScaler() if universe[\"scale\"] == \"scale\" else None), \n",
    "    (\"model\", model),\n",
    "])"
   ]
  },
  {
   "cell_type": "code",
   "execution_count": 36,
   "id": "9442c04d",
   "metadata": {
    "execution": {
     "iopub.execute_input": "2025-07-28T10:56:13.678711Z",
     "iopub.status.busy": "2025-07-28T10:56:13.678228Z",
     "iopub.status.idle": "2025-07-28T10:56:31.989130Z",
     "shell.execute_reply": "2025-07-28T10:56:31.983058Z"
    },
    "papermill": {
     "duration": 18.340551,
     "end_time": "2025-07-28T10:56:31.991385",
     "exception": false,
     "start_time": "2025-07-28T10:56:13.650834",
     "status": "completed"
    },
    "tags": []
   },
   "outputs": [
    {
     "data": {
      "text/html": [
       "<style>#sk-container-id-1 {color: black;background-color: white;}#sk-container-id-1 pre{padding: 0;}#sk-container-id-1 div.sk-toggleable {background-color: white;}#sk-container-id-1 label.sk-toggleable__label {cursor: pointer;display: block;width: 100%;margin-bottom: 0;padding: 0.3em;box-sizing: border-box;text-align: center;}#sk-container-id-1 label.sk-toggleable__label-arrow:before {content: \"▸\";float: left;margin-right: 0.25em;color: #696969;}#sk-container-id-1 label.sk-toggleable__label-arrow:hover:before {color: black;}#sk-container-id-1 div.sk-estimator:hover label.sk-toggleable__label-arrow:before {color: black;}#sk-container-id-1 div.sk-toggleable__content {max-height: 0;max-width: 0;overflow: hidden;text-align: left;background-color: #f0f8ff;}#sk-container-id-1 div.sk-toggleable__content pre {margin: 0.2em;color: black;border-radius: 0.25em;background-color: #f0f8ff;}#sk-container-id-1 input.sk-toggleable__control:checked~div.sk-toggleable__content {max-height: 200px;max-width: 100%;overflow: auto;}#sk-container-id-1 input.sk-toggleable__control:checked~label.sk-toggleable__label-arrow:before {content: \"▾\";}#sk-container-id-1 div.sk-estimator input.sk-toggleable__control:checked~label.sk-toggleable__label {background-color: #d4ebff;}#sk-container-id-1 div.sk-label input.sk-toggleable__control:checked~label.sk-toggleable__label {background-color: #d4ebff;}#sk-container-id-1 input.sk-hidden--visually {border: 0;clip: rect(1px 1px 1px 1px);clip: rect(1px, 1px, 1px, 1px);height: 1px;margin: -1px;overflow: hidden;padding: 0;position: absolute;width: 1px;}#sk-container-id-1 div.sk-estimator {font-family: monospace;background-color: #f0f8ff;border: 1px dotted black;border-radius: 0.25em;box-sizing: border-box;margin-bottom: 0.5em;}#sk-container-id-1 div.sk-estimator:hover {background-color: #d4ebff;}#sk-container-id-1 div.sk-parallel-item::after {content: \"\";width: 100%;border-bottom: 1px solid gray;flex-grow: 1;}#sk-container-id-1 div.sk-label:hover label.sk-toggleable__label {background-color: #d4ebff;}#sk-container-id-1 div.sk-serial::before {content: \"\";position: absolute;border-left: 1px solid gray;box-sizing: border-box;top: 0;bottom: 0;left: 50%;z-index: 0;}#sk-container-id-1 div.sk-serial {display: flex;flex-direction: column;align-items: center;background-color: white;padding-right: 0.2em;padding-left: 0.2em;position: relative;}#sk-container-id-1 div.sk-item {position: relative;z-index: 1;}#sk-container-id-1 div.sk-parallel {display: flex;align-items: stretch;justify-content: center;background-color: white;position: relative;}#sk-container-id-1 div.sk-item::before, #sk-container-id-1 div.sk-parallel-item::before {content: \"\";position: absolute;border-left: 1px solid gray;box-sizing: border-box;top: 0;bottom: 0;left: 50%;z-index: -1;}#sk-container-id-1 div.sk-parallel-item {display: flex;flex-direction: column;z-index: 1;position: relative;background-color: white;}#sk-container-id-1 div.sk-parallel-item:first-child::after {align-self: flex-end;width: 50%;}#sk-container-id-1 div.sk-parallel-item:last-child::after {align-self: flex-start;width: 50%;}#sk-container-id-1 div.sk-parallel-item:only-child::after {width: 0;}#sk-container-id-1 div.sk-dashed-wrapped {border: 1px dashed gray;margin: 0 0.4em 0.5em 0.4em;box-sizing: border-box;padding-bottom: 0.4em;background-color: white;}#sk-container-id-1 div.sk-label label {font-family: monospace;font-weight: bold;display: inline-block;line-height: 1.2em;}#sk-container-id-1 div.sk-label-container {text-align: center;}#sk-container-id-1 div.sk-container {/* jupyter's `normalize.less` sets `[hidden] { display: none; }` but bootstrap.min.css set `[hidden] { display: none !important; }` so we also need the `!important` here to be able to override the default hidden behavior on the sphinx rendered scikit-learn.org. See: https://github.com/scikit-learn/scikit-learn/issues/21755 */display: inline-block !important;position: relative;}#sk-container-id-1 div.sk-text-repr-fallback {display: none;}</style><div id=\"sk-container-id-1\" class=\"sk-top-container\"><div class=\"sk-text-repr-fallback\"><pre>Pipeline(steps=[(&#x27;scale&#x27;, StandardScaler()),\n",
       "                (&#x27;model&#x27;, RandomForestClassifier(n_jobs=-1))])</pre><b>In a Jupyter environment, please rerun this cell to show the HTML representation or trust the notebook. <br />On GitHub, the HTML representation is unable to render, please try loading this page with nbviewer.org.</b></div><div class=\"sk-container\" hidden><div class=\"sk-item sk-dashed-wrapped\"><div class=\"sk-label-container\"><div class=\"sk-label sk-toggleable\"><input class=\"sk-toggleable__control sk-hidden--visually\" id=\"sk-estimator-id-1\" type=\"checkbox\" ><label for=\"sk-estimator-id-1\" class=\"sk-toggleable__label sk-toggleable__label-arrow\">Pipeline</label><div class=\"sk-toggleable__content\"><pre>Pipeline(steps=[(&#x27;scale&#x27;, StandardScaler()),\n",
       "                (&#x27;model&#x27;, RandomForestClassifier(n_jobs=-1))])</pre></div></div></div><div class=\"sk-serial\"><div class=\"sk-item\"><div class=\"sk-estimator sk-toggleable\"><input class=\"sk-toggleable__control sk-hidden--visually\" id=\"sk-estimator-id-2\" type=\"checkbox\" ><label for=\"sk-estimator-id-2\" class=\"sk-toggleable__label sk-toggleable__label-arrow\">StandardScaler</label><div class=\"sk-toggleable__content\"><pre>StandardScaler()</pre></div></div></div><div class=\"sk-item\"><div class=\"sk-estimator sk-toggleable\"><input class=\"sk-toggleable__control sk-hidden--visually\" id=\"sk-estimator-id-3\" type=\"checkbox\" ><label for=\"sk-estimator-id-3\" class=\"sk-toggleable__label sk-toggleable__label-arrow\">RandomForestClassifier</label><div class=\"sk-toggleable__content\"><pre>RandomForestClassifier(n_jobs=-1)</pre></div></div></div></div></div></div></div>"
      ],
      "text/plain": [
       "Pipeline(steps=[('scale', StandardScaler()),\n",
       "                ('model', RandomForestClassifier(n_jobs=-1))])"
      ]
     },
     "execution_count": 36,
     "metadata": {},
     "output_type": "execute_result"
    }
   ],
   "source": [
    "model.fit(X_train, y_train.values.ravel())"
   ]
  },
  {
   "cell_type": "code",
   "execution_count": 37,
   "id": "af59f8c0",
   "metadata": {
    "execution": {
     "iopub.execute_input": "2025-07-28T10:56:32.042117Z",
     "iopub.status.busy": "2025-07-28T10:56:32.041629Z",
     "iopub.status.idle": "2025-07-28T10:56:32.047152Z",
     "shell.execute_reply": "2025-07-28T10:56:32.046157Z"
    },
    "papermill": {
     "duration": 0.030398,
     "end_time": "2025-07-28T10:56:32.048997",
     "exception": false,
     "start_time": "2025-07-28T10:56:32.018599",
     "status": "completed"
    },
    "tags": []
   },
   "outputs": [],
   "source": [
    "from fairness_multiverse.universe import predict_w_threshold"
   ]
  },
  {
   "cell_type": "code",
   "execution_count": 38,
   "id": "a7cf2e16",
   "metadata": {
    "execution": {
     "iopub.execute_input": "2025-07-28T10:56:32.096908Z",
     "iopub.status.busy": "2025-07-28T10:56:32.096449Z",
     "iopub.status.idle": "2025-07-28T10:56:33.795260Z",
     "shell.execute_reply": "2025-07-28T10:56:33.794180Z"
    },
    "papermill": {
     "duration": 1.724543,
     "end_time": "2025-07-28T10:56:33.797353",
     "exception": false,
     "start_time": "2025-07-28T10:56:32.072810",
     "status": "completed"
    },
    "tags": []
   },
   "outputs": [
    {
     "data": {
      "text/plain": [
       "0.8670159402519229"
      ]
     },
     "execution_count": 38,
     "metadata": {},
     "output_type": "execute_result"
    }
   ],
   "source": [
    "probs_test = model.predict_proba(X_test)\n",
    "\n",
    "'''\n",
    "Below code returns a boolean array (or binary 0/1 array depending on how it’s used) where each element \n",
    "is True if the probability of class 1 is greater than or equal to the threshold, and False otherwise.\n",
    "'''\n",
    "y_pred_default = predict_w_threshold(probs_test, 0.5)\n",
    "\n",
    "from sklearn.metrics import accuracy_score\n",
    "\n",
    "# Naive prediction\n",
    "accuracy_score(y_true = y_true, y_pred = y_pred_default)"
   ]
  },
  {
   "cell_type": "code",
   "execution_count": 39,
   "id": "081964c3",
   "metadata": {
    "execution": {
     "iopub.execute_input": "2025-07-28T10:56:33.898453Z",
     "iopub.status.busy": "2025-07-28T10:56:33.897920Z",
     "iopub.status.idle": "2025-07-28T10:56:35.511090Z",
     "shell.execute_reply": "2025-07-28T10:56:35.510071Z"
    },
    "papermill": {
     "duration": 1.673311,
     "end_time": "2025-07-28T10:56:35.513178",
     "exception": false,
     "start_time": "2025-07-28T10:56:33.839867",
     "status": "completed"
    },
    "tags": []
   },
   "outputs": [
    {
     "data": {
      "text/plain": [
       "array([0, 0, 0, ..., 0, 0, 0])"
      ]
     },
     "execution_count": 39,
     "metadata": {},
     "output_type": "execute_result"
    }
   ],
   "source": [
    "model.predict(X_test)"
   ]
  },
  {
   "cell_type": "markdown",
   "id": "56c9705b",
   "metadata": {
    "papermill": {
     "duration": 0.023911,
     "end_time": "2025-07-28T10:56:35.580173",
     "exception": false,
     "start_time": "2025-07-28T10:56:35.556262",
     "status": "completed"
    },
    "tags": []
   },
   "source": [
    "# Conformal Prediction"
   ]
  },
  {
   "cell_type": "code",
   "execution_count": 40,
   "id": "160ec6ff",
   "metadata": {
    "execution": {
     "iopub.execute_input": "2025-07-28T10:56:35.628294Z",
     "iopub.status.busy": "2025-07-28T10:56:35.627806Z",
     "iopub.status.idle": "2025-07-28T10:56:35.633719Z",
     "shell.execute_reply": "2025-07-28T10:56:35.632687Z"
    },
    "papermill": {
     "duration": 0.034979,
     "end_time": "2025-07-28T10:56:35.637083",
     "exception": false,
     "start_time": "2025-07-28T10:56:35.602104",
     "status": "completed"
    },
    "tags": []
   },
   "outputs": [],
   "source": [
    "# Miscoverage level for conformal prediction (10% allowed error rate => 90% target coverage)\n",
    "alpha = 0.1"
   ]
  },
  {
   "cell_type": "code",
   "execution_count": 41,
   "id": "eadf4555-3dd3-440e-8e35-f82a4ad9f855",
   "metadata": {
    "execution": {
     "iopub.execute_input": "2025-07-28T10:56:35.721065Z",
     "iopub.status.busy": "2025-07-28T10:56:35.720618Z",
     "iopub.status.idle": "2025-07-28T10:56:37.266730Z",
     "shell.execute_reply": "2025-07-28T10:56:37.265692Z"
    },
    "papermill": {
     "duration": 1.576366,
     "end_time": "2025-07-28T10:56:37.268883",
     "exception": false,
     "start_time": "2025-07-28T10:56:35.692517",
     "status": "completed"
    },
    "tags": []
   },
   "outputs": [],
   "source": [
    "probs_calib = model.predict_proba(X_calib)"
   ]
  },
  {
   "cell_type": "code",
   "execution_count": 42,
   "id": "2ed93547-6d5d-4983-9b36-1ecb300da49a",
   "metadata": {
    "execution": {
     "iopub.execute_input": "2025-07-28T10:56:37.320593Z",
     "iopub.status.busy": "2025-07-28T10:56:37.319863Z",
     "iopub.status.idle": "2025-07-28T10:56:37.326308Z",
     "shell.execute_reply": "2025-07-28T10:56:37.325396Z"
    },
    "papermill": {
     "duration": 0.033901,
     "end_time": "2025-07-28T10:56:37.328118",
     "exception": false,
     "start_time": "2025-07-28T10:56:37.294217",
     "status": "completed"
    },
    "tags": []
   },
   "outputs": [],
   "source": [
    "y_calib = y_calib.values.ravel().astype(int)"
   ]
  },
  {
   "cell_type": "code",
   "execution_count": 43,
   "id": "65d1320d-f588-4b38-9072-62af1ae97f7d",
   "metadata": {
    "execution": {
     "iopub.execute_input": "2025-07-28T10:56:37.375280Z",
     "iopub.status.busy": "2025-07-28T10:56:37.374354Z",
     "iopub.status.idle": "2025-07-28T10:56:37.382408Z",
     "shell.execute_reply": "2025-07-28T10:56:37.381523Z"
    },
    "papermill": {
     "duration": 0.033288,
     "end_time": "2025-07-28T10:56:37.384169",
     "exception": false,
     "start_time": "2025-07-28T10:56:37.350881",
     "status": "completed"
    },
    "tags": []
   },
   "outputs": [],
   "source": [
    "from fairness_multiverse.conformal import compute_nc_scores\n",
    "\n",
    "# Compute nonconformity scores on calibration set (1 - probability of true class)\n",
    "nc_scores = compute_nc_scores(probs_calib, y_calib)"
   ]
  },
  {
   "cell_type": "code",
   "execution_count": 44,
   "id": "df3b8ca3-53b7-43d5-9667-7c85da7aeda2",
   "metadata": {
    "execution": {
     "iopub.execute_input": "2025-07-28T10:56:37.430654Z",
     "iopub.status.busy": "2025-07-28T10:56:37.429697Z",
     "iopub.status.idle": "2025-07-28T10:56:37.436978Z",
     "shell.execute_reply": "2025-07-28T10:56:37.436081Z"
    },
    "papermill": {
     "duration": 0.032286,
     "end_time": "2025-07-28T10:56:37.438738",
     "exception": false,
     "start_time": "2025-07-28T10:56:37.406452",
     "status": "completed"
    },
    "tags": []
   },
   "outputs": [],
   "source": [
    "from fairness_multiverse.conformal import find_threshold\n",
    "\n",
    "# Find conformal threshold q_hat for the given alpha (split conformal method)\n",
    "q_hat = find_threshold(nc_scores, alpha)"
   ]
  },
  {
   "cell_type": "code",
   "execution_count": 45,
   "id": "4d29e6c1-0ef6-4aa4-b8fe-4fe79b0d033a",
   "metadata": {
    "execution": {
     "iopub.execute_input": "2025-07-28T10:56:37.486729Z",
     "iopub.status.busy": "2025-07-28T10:56:37.485993Z",
     "iopub.status.idle": "2025-07-28T10:56:37.493819Z",
     "shell.execute_reply": "2025-07-28T10:56:37.492831Z"
    },
    "papermill": {
     "duration": 0.034029,
     "end_time": "2025-07-28T10:56:37.495561",
     "exception": false,
     "start_time": "2025-07-28T10:56:37.461532",
     "status": "completed"
    },
    "tags": []
   },
   "outputs": [
    {
     "data": {
      "text/plain": [
       "0.6599999999999999"
      ]
     },
     "execution_count": 45,
     "metadata": {},
     "output_type": "execute_result"
    }
   ],
   "source": [
    "q_hat"
   ]
  },
  {
   "cell_type": "code",
   "execution_count": 46,
   "id": "92460794-cdac-4be2-ba28-f28c0515a6fb",
   "metadata": {
    "execution": {
     "iopub.execute_input": "2025-07-28T10:56:37.543689Z",
     "iopub.status.busy": "2025-07-28T10:56:37.542740Z",
     "iopub.status.idle": "2025-07-28T10:56:39.651257Z",
     "shell.execute_reply": "2025-07-28T10:56:39.650235Z"
    },
    "papermill": {
     "duration": 2.135164,
     "end_time": "2025-07-28T10:56:39.653358",
     "exception": false,
     "start_time": "2025-07-28T10:56:37.518194",
     "status": "completed"
    },
    "tags": []
   },
   "outputs": [],
   "source": [
    "from fairness_multiverse.conformal import predict_conformal_sets\n",
    "\n",
    "# Generate prediction sets for each test example\n",
    "pred_sets = predict_conformal_sets(model, X_test, q_hat)"
   ]
  },
  {
   "cell_type": "code",
   "execution_count": 47,
   "id": "d90c9a65-e6db-4f5d-80cd-e68fb7e46829",
   "metadata": {
    "execution": {
     "iopub.execute_input": "2025-07-28T10:56:39.709104Z",
     "iopub.status.busy": "2025-07-28T10:56:39.708327Z",
     "iopub.status.idle": "2025-07-28T10:56:39.714436Z",
     "shell.execute_reply": "2025-07-28T10:56:39.713374Z"
    },
    "papermill": {
     "duration": 0.03591,
     "end_time": "2025-07-28T10:56:39.716441",
     "exception": false,
     "start_time": "2025-07-28T10:56:39.680531",
     "status": "completed"
    },
    "tags": []
   },
   "outputs": [],
   "source": [
    "y_true = y_true.squeeze()"
   ]
  },
  {
   "cell_type": "code",
   "execution_count": 48,
   "id": "3a58a54a-1e68-46b9-927a-df01f18aebc8",
   "metadata": {
    "execution": {
     "iopub.execute_input": "2025-07-28T10:56:39.772176Z",
     "iopub.status.busy": "2025-07-28T10:56:39.771446Z",
     "iopub.status.idle": "2025-07-28T10:56:40.877834Z",
     "shell.execute_reply": "2025-07-28T10:56:40.876453Z"
    },
    "papermill": {
     "duration": 1.136429,
     "end_time": "2025-07-28T10:56:40.879895",
     "exception": false,
     "start_time": "2025-07-28T10:56:39.743466",
     "status": "completed"
    },
    "tags": []
   },
   "outputs": [],
   "source": [
    "from fairness_multiverse.conformal import evaluate_sets\n",
    "\n",
    "# Evaluate coverage and average set size on test data\n",
    "metrics = evaluate_sets(pred_sets, y_true)"
   ]
  },
  {
   "cell_type": "markdown",
   "id": "2b569c12-9aaa-4c88-98c9-bbcd0cf3ebb8",
   "metadata": {
    "papermill": {
     "duration": 0.023534,
     "end_time": "2025-07-28T10:56:40.928552",
     "exception": false,
     "start_time": "2025-07-28T10:56:40.905018",
     "status": "completed"
    },
    "tags": []
   },
   "source": [
    "# CP Metrics"
   ]
  },
  {
   "cell_type": "code",
   "execution_count": 49,
   "id": "5ce0a5cb-201f-45a0-ade5-94c7f0bd6095",
   "metadata": {
    "execution": {
     "iopub.execute_input": "2025-07-28T10:56:40.977706Z",
     "iopub.status.busy": "2025-07-28T10:56:40.977206Z",
     "iopub.status.idle": "2025-07-28T10:56:40.984662Z",
     "shell.execute_reply": "2025-07-28T10:56:40.983845Z"
    },
    "papermill": {
     "duration": 0.034301,
     "end_time": "2025-07-28T10:56:40.986298",
     "exception": false,
     "start_time": "2025-07-28T10:56:40.951997",
     "status": "completed"
    },
    "tags": []
   },
   "outputs": [
    {
     "data": {
      "text/plain": [
       "{'coverage': 0.9171887192063315, 'avg_size': 1.1442314123286144}"
      ]
     },
     "execution_count": 49,
     "metadata": {},
     "output_type": "execute_result"
    }
   ],
   "source": [
    "metrics"
   ]
  },
  {
   "cell_type": "code",
   "execution_count": 50,
   "id": "9b9a838d-31c9-430b-ae14-12baee460d17",
   "metadata": {
    "execution": {
     "iopub.execute_input": "2025-07-28T10:56:41.014993Z",
     "iopub.status.busy": "2025-07-28T10:56:41.014447Z",
     "iopub.status.idle": "2025-07-28T10:56:41.019749Z",
     "shell.execute_reply": "2025-07-28T10:56:41.019039Z"
    },
    "papermill": {
     "duration": 0.020066,
     "end_time": "2025-07-28T10:56:41.021137",
     "exception": false,
     "start_time": "2025-07-28T10:56:41.001071",
     "status": "completed"
    },
    "tags": []
   },
   "outputs": [],
   "source": [
    "example_universe = universe.copy()\n",
    "universe_training_size = example_universe.get(\"training_size\")\n",
    "universe_scale = example_universe.get(\"scale\")\n",
    "universe_model = example_universe.get(\"model\")\n",
    "universe_exclude_features = example_universe.get(\"exclude_features\")\n",
    "universe_exclude_subgroups = example_universe.get(\"exclude_subgroups\")"
   ]
  },
  {
   "cell_type": "code",
   "execution_count": 51,
   "id": "f4b6a8ac-9dc0-4245-8a91-5b3b5999c4f9",
   "metadata": {
    "execution": {
     "iopub.execute_input": "2025-07-28T10:56:41.063475Z",
     "iopub.status.busy": "2025-07-28T10:56:41.063011Z",
     "iopub.status.idle": "2025-07-28T10:56:41.069587Z",
     "shell.execute_reply": "2025-07-28T10:56:41.068527Z"
    },
    "papermill": {
     "duration": 0.034794,
     "end_time": "2025-07-28T10:56:41.071475",
     "exception": false,
     "start_time": "2025-07-28T10:56:41.036681",
     "status": "completed"
    },
    "tags": []
   },
   "outputs": [],
   "source": [
    "cp_metrics_dict = {\n",
    "    \"universe_id\": [universe_id],\n",
    "    \"universe_training_size\": [universe_training_size],\n",
    "    \"universe_scale\": [universe_scale],\n",
    "    \"universe_model\": [universe_model],\n",
    "    \"universe_exclude_features\": [universe_exclude_features],\n",
    "    \"universe_exclude_subgroups\": [universe_exclude_subgroups],\n",
    "    \"q_hat\": [q_hat],\n",
    "    \"coverage\": [metrics[\"coverage\"]],\n",
    "    \"avg_size\": [metrics[\"avg_size\"]],\n",
    "}"
   ]
  },
  {
   "cell_type": "code",
   "execution_count": 52,
   "id": "908acbb1-0371-4915-85ca-3fa520d2efe2",
   "metadata": {
    "execution": {
     "iopub.execute_input": "2025-07-28T10:56:41.106055Z",
     "iopub.status.busy": "2025-07-28T10:56:41.105594Z",
     "iopub.status.idle": "2025-07-28T10:56:41.117273Z",
     "shell.execute_reply": "2025-07-28T10:56:41.116192Z"
    },
    "papermill": {
     "duration": 0.028727,
     "end_time": "2025-07-28T10:56:41.119704",
     "exception": false,
     "start_time": "2025-07-28T10:56:41.090977",
     "status": "completed"
    },
    "tags": []
   },
   "outputs": [
    {
     "data": {
      "text/plain": [
       "{'universe_id': ['8b6d102409c8ff2d0feaec06a9de82f4'],\n",
       " 'universe_training_size': ['2014'],\n",
       " 'universe_scale': ['scale'],\n",
       " 'universe_model': ['rf'],\n",
       " 'universe_exclude_features': ['sex'],\n",
       " 'universe_exclude_subgroups': ['keep-all'],\n",
       " 'q_hat': [0.6599999999999999],\n",
       " 'coverage': [0.9171887192063315],\n",
       " 'avg_size': [1.1442314123286144]}"
      ]
     },
     "execution_count": 52,
     "metadata": {},
     "output_type": "execute_result"
    }
   ],
   "source": [
    "cp_metrics_dict"
   ]
  },
  {
   "cell_type": "code",
   "execution_count": 53,
   "id": "33007efc-14e9-4ec6-97ac-56a455c82265",
   "metadata": {
    "execution": {
     "iopub.execute_input": "2025-07-28T10:56:41.185261Z",
     "iopub.status.busy": "2025-07-28T10:56:41.184654Z",
     "iopub.status.idle": "2025-07-28T10:56:41.192218Z",
     "shell.execute_reply": "2025-07-28T10:56:41.191121Z"
    },
    "papermill": {
     "duration": 0.043551,
     "end_time": "2025-07-28T10:56:41.194290",
     "exception": false,
     "start_time": "2025-07-28T10:56:41.150739",
     "status": "completed"
    },
    "tags": []
   },
   "outputs": [],
   "source": [
    "cp_metrics_df = pd.DataFrame(cp_metrics_dict)"
   ]
  },
  {
   "cell_type": "code",
   "execution_count": 54,
   "id": "db12611b-57b2-4910-b9d0-355adfd6e7bf",
   "metadata": {
    "execution": {
     "iopub.execute_input": "2025-07-28T10:56:41.260947Z",
     "iopub.status.busy": "2025-07-28T10:56:41.260368Z",
     "iopub.status.idle": "2025-07-28T10:56:41.280435Z",
     "shell.execute_reply": "2025-07-28T10:56:41.279311Z"
    },
    "papermill": {
     "duration": 0.055557,
     "end_time": "2025-07-28T10:56:41.282755",
     "exception": false,
     "start_time": "2025-07-28T10:56:41.227198",
     "status": "completed"
    },
    "tags": []
   },
   "outputs": [
    {
     "data": {
      "text/html": [
       "<div>\n",
       "<style scoped>\n",
       "    .dataframe tbody tr th:only-of-type {\n",
       "        vertical-align: middle;\n",
       "    }\n",
       "\n",
       "    .dataframe tbody tr th {\n",
       "        vertical-align: top;\n",
       "    }\n",
       "\n",
       "    .dataframe thead th {\n",
       "        text-align: right;\n",
       "    }\n",
       "</style>\n",
       "<table border=\"1\" class=\"dataframe\">\n",
       "  <thead>\n",
       "    <tr style=\"text-align: right;\">\n",
       "      <th></th>\n",
       "      <th>universe_id</th>\n",
       "      <th>universe_training_size</th>\n",
       "      <th>universe_scale</th>\n",
       "      <th>universe_model</th>\n",
       "      <th>universe_exclude_features</th>\n",
       "      <th>universe_exclude_subgroups</th>\n",
       "      <th>q_hat</th>\n",
       "      <th>coverage</th>\n",
       "      <th>avg_size</th>\n",
       "    </tr>\n",
       "  </thead>\n",
       "  <tbody>\n",
       "    <tr>\n",
       "      <th>0</th>\n",
       "      <td>8b6d102409c8ff2d0feaec06a9de82f4</td>\n",
       "      <td>2014</td>\n",
       "      <td>scale</td>\n",
       "      <td>rf</td>\n",
       "      <td>sex</td>\n",
       "      <td>keep-all</td>\n",
       "      <td>0.66</td>\n",
       "      <td>0.917189</td>\n",
       "      <td>1.144231</td>\n",
       "    </tr>\n",
       "  </tbody>\n",
       "</table>\n",
       "</div>"
      ],
      "text/plain": [
       "                        universe_id universe_training_size universe_scale  \\\n",
       "0  8b6d102409c8ff2d0feaec06a9de82f4                   2014          scale   \n",
       "\n",
       "  universe_model universe_exclude_features universe_exclude_subgroups  q_hat  \\\n",
       "0             rf                       sex                   keep-all   0.66   \n",
       "\n",
       "   coverage  avg_size  \n",
       "0  0.917189  1.144231  "
      ]
     },
     "execution_count": 54,
     "metadata": {},
     "output_type": "execute_result"
    }
   ],
   "source": [
    "cp_metrics_df"
   ]
  },
  {
   "cell_type": "code",
   "execution_count": 55,
   "id": "b7fbde55-a0a1-47e4-9af6-fe4a17fa8c61",
   "metadata": {
    "execution": {
     "iopub.execute_input": "2025-07-28T10:56:41.333665Z",
     "iopub.status.busy": "2025-07-28T10:56:41.332978Z",
     "iopub.status.idle": "2025-07-28T10:56:41.339110Z",
     "shell.execute_reply": "2025-07-28T10:56:41.338231Z"
    },
    "papermill": {
     "duration": 0.033731,
     "end_time": "2025-07-28T10:56:41.340941",
     "exception": false,
     "start_time": "2025-07-28T10:56:41.307210",
     "status": "completed"
    },
    "tags": []
   },
   "outputs": [],
   "source": [
    "# Conditional Coverage & looking at subgroups"
   ]
  },
  {
   "cell_type": "code",
   "execution_count": 56,
   "id": "027ae886-68dd-4141-96c7-805a5450e1ef",
   "metadata": {
    "execution": {
     "iopub.execute_input": "2025-07-28T10:56:41.392941Z",
     "iopub.status.busy": "2025-07-28T10:56:41.392125Z",
     "iopub.status.idle": "2025-07-28T10:56:41.696889Z",
     "shell.execute_reply": "2025-07-28T10:56:41.695883Z"
    },
    "papermill": {
     "duration": 0.333353,
     "end_time": "2025-07-28T10:56:41.699088",
     "exception": false,
     "start_time": "2025-07-28T10:56:41.365735",
     "status": "completed"
    },
    "tags": []
   },
   "outputs": [],
   "source": [
    "from fairness_multiverse.conformal import build_cp_groups\n",
    "\n",
    "cp_groups_df = build_cp_groups(pred_sets, y_true, X_test.index, org_test)\n",
    "#needs universe_id and setting"
   ]
  },
  {
   "cell_type": "code",
   "execution_count": 57,
   "id": "01d5802c-663a-4d1f-9d69-e036faaffbf7",
   "metadata": {
    "execution": {
     "iopub.execute_input": "2025-07-28T10:56:41.751833Z",
     "iopub.status.busy": "2025-07-28T10:56:41.751269Z",
     "iopub.status.idle": "2025-07-28T10:56:41.756944Z",
     "shell.execute_reply": "2025-07-28T10:56:41.755862Z"
    },
    "papermill": {
     "duration": 0.034984,
     "end_time": "2025-07-28T10:56:41.758716",
     "exception": false,
     "start_time": "2025-07-28T10:56:41.723732",
     "status": "completed"
    },
    "tags": []
   },
   "outputs": [],
   "source": [
    "#delete\n",
    "#cp_groups_df"
   ]
  },
  {
   "cell_type": "code",
   "execution_count": 58,
   "id": "fa424af1-d1eb-443d-b717-2d279ada8408",
   "metadata": {
    "execution": {
     "iopub.execute_input": "2025-07-28T10:56:41.810180Z",
     "iopub.status.busy": "2025-07-28T10:56:41.809443Z",
     "iopub.status.idle": "2025-07-28T10:56:41.814866Z",
     "shell.execute_reply": "2025-07-28T10:56:41.813953Z"
    },
    "papermill": {
     "duration": 0.032345,
     "end_time": "2025-07-28T10:56:41.816580",
     "exception": false,
     "start_time": "2025-07-28T10:56:41.784235",
     "status": "completed"
    },
    "tags": []
   },
   "outputs": [],
   "source": [
    "#delete\n",
    "#percentage = (cp_groups_df['nongerman_female'] == 1).mean() * 100\n",
    "#print(percentage)\n"
   ]
  },
  {
   "cell_type": "code",
   "execution_count": 59,
   "id": "6cbdab96-b2b2-45af-ad54-d0516db2e28d",
   "metadata": {
    "execution": {
     "iopub.execute_input": "2025-07-28T10:56:41.867848Z",
     "iopub.status.busy": "2025-07-28T10:56:41.867302Z",
     "iopub.status.idle": "2025-07-28T10:56:43.622443Z",
     "shell.execute_reply": "2025-07-28T10:56:43.621460Z"
    },
    "papermill": {
     "duration": 1.782878,
     "end_time": "2025-07-28T10:56:43.624484",
     "exception": false,
     "start_time": "2025-07-28T10:56:41.841606",
     "status": "completed"
    },
    "tags": []
   },
   "outputs": [],
   "source": [
    "# Define covered = 1 if true_label is in the predicted set\n",
    "cp_groups_df['covered'] = cp_groups_df.apply(\n",
    "    lambda r: int(r['true_label'] in r['pred_set']),\n",
    "    axis=1\n",
    ")"
   ]
  },
  {
   "cell_type": "code",
   "execution_count": 60,
   "id": "338ff529-1a6b-4b87-a931-8e4788d52aad",
   "metadata": {
    "execution": {
     "iopub.execute_input": "2025-07-28T10:56:43.731741Z",
     "iopub.status.busy": "2025-07-28T10:56:43.730670Z",
     "iopub.status.idle": "2025-07-28T10:56:43.736294Z",
     "shell.execute_reply": "2025-07-28T10:56:43.735208Z"
    },
    "papermill": {
     "duration": 0.065512,
     "end_time": "2025-07-28T10:56:43.738222",
     "exception": false,
     "start_time": "2025-07-28T10:56:43.672710",
     "status": "completed"
    },
    "tags": []
   },
   "outputs": [],
   "source": [
    "#cp_groups_df"
   ]
  },
  {
   "cell_type": "code",
   "execution_count": 61,
   "id": "90032e27-66df-4540-9169-4e89cfbaa758",
   "metadata": {
    "execution": {
     "iopub.execute_input": "2025-07-28T10:56:43.854267Z",
     "iopub.status.busy": "2025-07-28T10:56:43.853827Z",
     "iopub.status.idle": "2025-07-28T10:56:43.867509Z",
     "shell.execute_reply": "2025-07-28T10:56:43.866423Z"
    },
    "papermill": {
     "duration": 0.074059,
     "end_time": "2025-07-28T10:56:43.869315",
     "exception": false,
     "start_time": "2025-07-28T10:56:43.795256",
     "status": "completed"
    },
    "tags": []
   },
   "outputs": [],
   "source": [
    "subgroups = ['frau1','nongerman','nongerman_male','nongerman_female']\n",
    "\n",
    "# Conditional coverage for subgroup==1\n",
    "cond_coverage = {\n",
    "    g: cp_groups_df.loc[cp_groups_df[g]==1, 'covered'].mean()\n",
    "    for g in subgroups\n",
    "}"
   ]
  },
  {
   "cell_type": "code",
   "execution_count": 62,
   "id": "1e348fb1-b9c3-45bc-ba23-f016827a7e0d",
   "metadata": {
    "execution": {
     "iopub.execute_input": "2025-07-28T10:56:43.976665Z",
     "iopub.status.busy": "2025-07-28T10:56:43.976187Z",
     "iopub.status.idle": "2025-07-28T10:56:43.983659Z",
     "shell.execute_reply": "2025-07-28T10:56:43.982752Z"
    },
    "papermill": {
     "duration": 0.061338,
     "end_time": "2025-07-28T10:56:43.985437",
     "exception": false,
     "start_time": "2025-07-28T10:56:43.924099",
     "status": "completed"
    },
    "tags": []
   },
   "outputs": [
    {
     "data": {
      "text/plain": [
       "{'frau1': 0.9178595498045559,\n",
       " 'nongerman': 0.9134901476449784,\n",
       " 'nongerman_male': 0.9268666126272179,\n",
       " 'nongerman_female': 0.8913561847988077}"
      ]
     },
     "execution_count": 62,
     "metadata": {},
     "output_type": "execute_result"
    }
   ],
   "source": [
    "cond_coverage"
   ]
  },
  {
   "cell_type": "code",
   "execution_count": 63,
   "id": "f5093324-c3dd-4d63-bc4c-8d945e5c8bbb",
   "metadata": {
    "execution": {
     "iopub.execute_input": "2025-07-28T10:56:44.098791Z",
     "iopub.status.busy": "2025-07-28T10:56:44.098373Z",
     "iopub.status.idle": "2025-07-28T10:56:44.107643Z",
     "shell.execute_reply": "2025-07-28T10:56:44.106594Z"
    },
    "papermill": {
     "duration": 0.069482,
     "end_time": "2025-07-28T10:56:44.109803",
     "exception": false,
     "start_time": "2025-07-28T10:56:44.040321",
     "status": "completed"
    },
    "tags": []
   },
   "outputs": [],
   "source": [
    "for subgroup, cov in cond_coverage.items():\n",
    "    cp_metrics_df[f\"cov_{subgroup}\"] = cov"
   ]
  },
  {
   "cell_type": "code",
   "execution_count": 64,
   "id": "6e872e10-dbe5-49e8-b554-5030c98ff75d",
   "metadata": {
    "execution": {
     "iopub.execute_input": "2025-07-28T10:56:44.210428Z",
     "iopub.status.busy": "2025-07-28T10:56:44.209987Z",
     "iopub.status.idle": "2025-07-28T10:56:44.250075Z",
     "shell.execute_reply": "2025-07-28T10:56:44.249060Z"
    },
    "papermill": {
     "duration": 0.083648,
     "end_time": "2025-07-28T10:56:44.252237",
     "exception": false,
     "start_time": "2025-07-28T10:56:44.168589",
     "status": "completed"
    },
    "tags": []
   },
   "outputs": [
    {
     "data": {
      "text/html": [
       "<div>\n",
       "<style scoped>\n",
       "    .dataframe tbody tr th:only-of-type {\n",
       "        vertical-align: middle;\n",
       "    }\n",
       "\n",
       "    .dataframe tbody tr th {\n",
       "        vertical-align: top;\n",
       "    }\n",
       "\n",
       "    .dataframe thead th {\n",
       "        text-align: right;\n",
       "    }\n",
       "</style>\n",
       "<table border=\"1\" class=\"dataframe\">\n",
       "  <thead>\n",
       "    <tr style=\"text-align: right;\">\n",
       "      <th></th>\n",
       "      <th>universe_id</th>\n",
       "      <th>universe_training_size</th>\n",
       "      <th>universe_scale</th>\n",
       "      <th>universe_model</th>\n",
       "      <th>universe_exclude_features</th>\n",
       "      <th>universe_exclude_subgroups</th>\n",
       "      <th>q_hat</th>\n",
       "      <th>coverage</th>\n",
       "      <th>avg_size</th>\n",
       "      <th>cov_frau1</th>\n",
       "      <th>cov_nongerman</th>\n",
       "      <th>cov_nongerman_male</th>\n",
       "      <th>cov_nongerman_female</th>\n",
       "    </tr>\n",
       "  </thead>\n",
       "  <tbody>\n",
       "    <tr>\n",
       "      <th>0</th>\n",
       "      <td>8b6d102409c8ff2d0feaec06a9de82f4</td>\n",
       "      <td>2014</td>\n",
       "      <td>scale</td>\n",
       "      <td>rf</td>\n",
       "      <td>sex</td>\n",
       "      <td>keep-all</td>\n",
       "      <td>0.66</td>\n",
       "      <td>0.917189</td>\n",
       "      <td>1.144231</td>\n",
       "      <td>0.91786</td>\n",
       "      <td>0.91349</td>\n",
       "      <td>0.926867</td>\n",
       "      <td>0.891356</td>\n",
       "    </tr>\n",
       "  </tbody>\n",
       "</table>\n",
       "</div>"
      ],
      "text/plain": [
       "                        universe_id universe_training_size universe_scale  \\\n",
       "0  8b6d102409c8ff2d0feaec06a9de82f4                   2014          scale   \n",
       "\n",
       "  universe_model universe_exclude_features universe_exclude_subgroups  q_hat  \\\n",
       "0             rf                       sex                   keep-all   0.66   \n",
       "\n",
       "   coverage  avg_size  cov_frau1  cov_nongerman  cov_nongerman_male  \\\n",
       "0  0.917189  1.144231    0.91786        0.91349            0.926867   \n",
       "\n",
       "   cov_nongerman_female  \n",
       "0              0.891356  "
      ]
     },
     "execution_count": 64,
     "metadata": {},
     "output_type": "execute_result"
    }
   ],
   "source": [
    "cp_metrics_df"
   ]
  },
  {
   "cell_type": "markdown",
   "id": "33774451",
   "metadata": {
    "papermill": {
     "duration": 0.048193,
     "end_time": "2025-07-28T10:56:44.356830",
     "exception": false,
     "start_time": "2025-07-28T10:56:44.308637",
     "status": "completed"
    },
    "tags": []
   },
   "source": [
    "# (Fairness) Metrics"
   ]
  },
  {
   "cell_type": "code",
   "execution_count": 65,
   "id": "debc5d62",
   "metadata": {
    "execution": {
     "iopub.execute_input": "2025-07-28T10:56:44.471247Z",
     "iopub.status.busy": "2025-07-28T10:56:44.470796Z",
     "iopub.status.idle": "2025-07-28T10:56:44.516091Z",
     "shell.execute_reply": "2025-07-28T10:56:44.514950Z"
    },
    "papermill": {
     "duration": 0.105819,
     "end_time": "2025-07-28T10:56:44.518530",
     "exception": false,
     "start_time": "2025-07-28T10:56:44.412711",
     "status": "completed"
    },
    "tags": []
   },
   "outputs": [],
   "source": [
    "# do I need to include maxdeutsch1.missing?\n",
    "\n",
    "import numpy as np\n",
    "\n",
    "colname_to_bin = \"maxdeutsch1\"\n",
    "majority_value = org_train[colname_to_bin].mode()[0]\n",
    "\n",
    "org_test[\"majmin\"] = np.where(org_test[colname_to_bin] == majority_value, \"majority\", \"minority\")"
   ]
  },
  {
   "cell_type": "code",
   "execution_count": 66,
   "id": "06a50de5",
   "metadata": {
    "execution": {
     "iopub.execute_input": "2025-07-28T10:56:44.634427Z",
     "iopub.status.busy": "2025-07-28T10:56:44.633975Z",
     "iopub.status.idle": "2025-07-28T10:56:49.580865Z",
     "shell.execute_reply": "2025-07-28T10:56:49.579554Z"
    },
    "papermill": {
     "duration": 5.013144,
     "end_time": "2025-07-28T10:56:49.582840",
     "exception": false,
     "start_time": "2025-07-28T10:56:44.569696",
     "status": "completed"
    },
    "tags": []
   },
   "outputs": [],
   "source": [
    "example_universe = universe.copy()\n",
    "example_universe[\"cutoff\"] = example_universe[\"cutoff\"][0]\n",
    "example_universe[\"eval_fairness_grouping\"] = example_universe[\"eval_fairness_grouping\"][0]\n",
    "fairness_dict, metric_frame = universe_analysis.compute_metrics(\n",
    "    example_universe,\n",
    "    y_pred_prob=probs_test,\n",
    "    y_test=y_true,\n",
    "    org_test=org_test,\n",
    ")"
   ]
  },
  {
   "cell_type": "markdown",
   "id": "f95d4e02",
   "metadata": {
    "papermill": {
     "duration": 0.087188,
     "end_time": "2025-07-28T10:56:49.715363",
     "exception": false,
     "start_time": "2025-07-28T10:56:49.628175",
     "status": "completed"
    },
    "tags": []
   },
   "source": [
    "# Overall"
   ]
  },
  {
   "cell_type": "markdown",
   "id": "bdee4871",
   "metadata": {
    "papermill": {
     "duration": 0.081739,
     "end_time": "2025-07-28T10:56:49.872848",
     "exception": false,
     "start_time": "2025-07-28T10:56:49.791109",
     "status": "completed"
    },
    "tags": []
   },
   "source": [
    "Fairness\n",
    "Main fairness target: Equalized Odds. Seems to be a better fit than equal opportunity, since we're not only interested in Y = 1. Seems to be a better fit than demographic parity, since we also care about accuracy, not just equal distribution of preds.\n",
    "\n",
    "Pick column for computation of fairness metrics\n",
    "\n",
    "Performance\n",
    "Overall performance measures, most interesting in relation to the measures split by group below"
   ]
  },
  {
   "cell_type": "code",
   "execution_count": 67,
   "id": "c4e067c6",
   "metadata": {
    "execution": {
     "iopub.execute_input": "2025-07-28T10:56:50.012610Z",
     "iopub.status.busy": "2025-07-28T10:56:50.012139Z",
     "iopub.status.idle": "2025-07-28T10:56:50.024404Z",
     "shell.execute_reply": "2025-07-28T10:56:50.023057Z"
    },
    "papermill": {
     "duration": 0.09354,
     "end_time": "2025-07-28T10:56:50.026325",
     "exception": false,
     "start_time": "2025-07-28T10:56:49.932785",
     "status": "completed"
    },
    "tags": []
   },
   "outputs": [
    {
     "data": {
      "text/plain": [
       "accuracy                   0.208606\n",
       "balanced accuracy          0.536921\n",
       "f1                         0.240831\n",
       "precision                  0.137313\n",
       "false positive rate        0.904696\n",
       "false negative rate        0.021463\n",
       "selection rate             0.914168\n",
       "count                  89710.000000\n",
       "dtype: float64"
      ]
     },
     "execution_count": 67,
     "metadata": {},
     "output_type": "execute_result"
    }
   ],
   "source": [
    "metric_frame.overall"
   ]
  },
  {
   "cell_type": "markdown",
   "id": "e968fe9d",
   "metadata": {
    "papermill": {
     "duration": 0.06022,
     "end_time": "2025-07-28T10:56:50.144881",
     "exception": false,
     "start_time": "2025-07-28T10:56:50.084661",
     "status": "completed"
    },
    "tags": []
   },
   "source": [
    "By Group"
   ]
  },
  {
   "cell_type": "code",
   "execution_count": 68,
   "id": "ec325bce",
   "metadata": {
    "execution": {
     "iopub.execute_input": "2025-07-28T10:56:50.266796Z",
     "iopub.status.busy": "2025-07-28T10:56:50.266304Z",
     "iopub.status.idle": "2025-07-28T10:56:50.309349Z",
     "shell.execute_reply": "2025-07-28T10:56:50.308180Z"
    },
    "papermill": {
     "duration": 0.106393,
     "end_time": "2025-07-28T10:56:50.311196",
     "exception": false,
     "start_time": "2025-07-28T10:56:50.204803",
     "status": "completed"
    },
    "tags": []
   },
   "outputs": [
    {
     "data": {
      "text/html": [
       "<div>\n",
       "<style scoped>\n",
       "    .dataframe tbody tr th:only-of-type {\n",
       "        vertical-align: middle;\n",
       "    }\n",
       "\n",
       "    .dataframe tbody tr th {\n",
       "        vertical-align: top;\n",
       "    }\n",
       "\n",
       "    .dataframe thead th {\n",
       "        text-align: right;\n",
       "    }\n",
       "</style>\n",
       "<table border=\"1\" class=\"dataframe\">\n",
       "  <thead>\n",
       "    <tr style=\"text-align: right;\">\n",
       "      <th></th>\n",
       "      <th>accuracy</th>\n",
       "      <th>balanced accuracy</th>\n",
       "      <th>f1</th>\n",
       "      <th>precision</th>\n",
       "      <th>false positive rate</th>\n",
       "      <th>false negative rate</th>\n",
       "      <th>selection rate</th>\n",
       "      <th>count</th>\n",
       "    </tr>\n",
       "    <tr>\n",
       "      <th>majmin</th>\n",
       "      <th></th>\n",
       "      <th></th>\n",
       "      <th></th>\n",
       "      <th></th>\n",
       "      <th></th>\n",
       "      <th></th>\n",
       "      <th></th>\n",
       "      <th></th>\n",
       "    </tr>\n",
       "  </thead>\n",
       "  <tbody>\n",
       "    <tr>\n",
       "      <th>majority</th>\n",
       "      <td>0.199436</td>\n",
       "      <td>0.534923</td>\n",
       "      <td>0.246486</td>\n",
       "      <td>0.140748</td>\n",
       "      <td>0.921073</td>\n",
       "      <td>0.009081</td>\n",
       "      <td>0.930302</td>\n",
       "      <td>69170.0</td>\n",
       "    </tr>\n",
       "    <tr>\n",
       "      <th>minority</th>\n",
       "      <td>0.239484</td>\n",
       "      <td>0.540074</td>\n",
       "      <td>0.220081</td>\n",
       "      <td>0.124795</td>\n",
       "      <td>0.850594</td>\n",
       "      <td>0.069257</td>\n",
       "      <td>0.859834</td>\n",
       "      <td>20540.0</td>\n",
       "    </tr>\n",
       "  </tbody>\n",
       "</table>\n",
       "</div>"
      ],
      "text/plain": [
       "          accuracy  balanced accuracy        f1  precision  \\\n",
       "majmin                                                       \n",
       "majority  0.199436           0.534923  0.246486   0.140748   \n",
       "minority  0.239484           0.540074  0.220081   0.124795   \n",
       "\n",
       "          false positive rate  false negative rate  selection rate    count  \n",
       "majmin                                                                       \n",
       "majority             0.921073             0.009081        0.930302  69170.0  \n",
       "minority             0.850594             0.069257        0.859834  20540.0  "
      ]
     },
     "execution_count": 68,
     "metadata": {},
     "output_type": "execute_result"
    }
   ],
   "source": [
    "metric_frame.by_group"
   ]
  },
  {
   "cell_type": "code",
   "execution_count": 69,
   "id": "a9ddbe63",
   "metadata": {
    "execution": {
     "iopub.execute_input": "2025-07-28T10:56:50.419322Z",
     "iopub.status.busy": "2025-07-28T10:56:50.418846Z",
     "iopub.status.idle": "2025-07-28T10:56:54.796583Z",
     "shell.execute_reply": "2025-07-28T10:56:54.795327Z"
    },
    "papermill": {
     "duration": 4.437917,
     "end_time": "2025-07-28T10:56:54.798231",
     "exception": false,
     "start_time": "2025-07-28T10:56:50.360314",
     "status": "completed"
    },
    "tags": []
   },
   "outputs": [
    {
     "data": {
      "text/plain": [
       "array([[<Axes: title={'center': 'accuracy'}, xlabel='majmin'>,\n",
       "        <Axes: title={'center': 'balanced accuracy'}, xlabel='majmin'>,\n",
       "        <Axes: title={'center': 'f1'}, xlabel='majmin'>],\n",
       "       [<Axes: title={'center': 'precision'}, xlabel='majmin'>,\n",
       "        <Axes: title={'center': 'false positive rate'}, xlabel='majmin'>,\n",
       "        <Axes: title={'center': 'false negative rate'}, xlabel='majmin'>],\n",
       "       [<Axes: title={'center': 'selection rate'}, xlabel='majmin'>,\n",
       "        <Axes: title={'center': 'count'}, xlabel='majmin'>,\n",
       "        <Axes: xlabel='majmin'>]], dtype=object)"
      ]
     },
     "execution_count": 69,
     "metadata": {},
     "output_type": "execute_result"
    },
    {
     "data": {
      "image/png": "[encoded data removed]",
      "text/plain": [
       "<Figure size 1200x800 with 9 Axes>"
      ]
     },
     "metadata": {},
     "output_type": "display_data"
    }
   ],
   "source": [
    "# In a graphic\n",
    "metric_frame.by_group.plot.bar(\n",
    "    subplots=True,\n",
    "    layout=[3, 3],\n",
    "    legend=False,\n",
    "    figsize=[12, 8],\n",
    "    title=\"Show all metrics\",\n",
    ")"
   ]
  },
  {
   "cell_type": "markdown",
   "id": "f57a0bac",
   "metadata": {
    "papermill": {
     "duration": 0.0583,
     "end_time": "2025-07-28T10:56:54.913023",
     "exception": false,
     "start_time": "2025-07-28T10:56:54.854723",
     "status": "completed"
    },
    "tags": []
   },
   "source": [
    "# Final Output"
   ]
  },
  {
   "cell_type": "code",
   "execution_count": 70,
   "id": "96d280a3",
   "metadata": {
    "execution": {
     "iopub.execute_input": "2025-07-28T10:56:54.998908Z",
     "iopub.status.busy": "2025-07-28T10:56:54.997994Z",
     "iopub.status.idle": "2025-07-28T10:56:55.006766Z",
     "shell.execute_reply": "2025-07-28T10:56:55.005793Z"
    },
    "papermill": {
     "duration": 0.045103,
     "end_time": "2025-07-28T10:56:55.009912",
     "exception": false,
     "start_time": "2025-07-28T10:56:54.964809",
     "status": "completed"
    },
    "tags": []
   },
   "outputs": [
    {
     "data": {
      "text/plain": [
       "4"
      ]
     },
     "execution_count": 70,
     "metadata": {},
     "output_type": "execute_result"
    }
   ],
   "source": [
    "sub_universes = universe_analysis.generate_sub_universes()\n",
    "len(sub_universes)"
   ]
  },
  {
   "cell_type": "code",
   "execution_count": 71,
   "id": "92adf7ba",
   "metadata": {
    "execution": {
     "iopub.execute_input": "2025-07-28T10:56:55.081919Z",
     "iopub.status.busy": "2025-07-28T10:56:55.081029Z",
     "iopub.status.idle": "2025-07-28T10:56:55.087377Z",
     "shell.execute_reply": "2025-07-28T10:56:55.086453Z"
    },
    "papermill": {
     "duration": 0.048641,
     "end_time": "2025-07-28T10:56:55.090326",
     "exception": false,
     "start_time": "2025-07-28T10:56:55.041685",
     "status": "completed"
    },
    "tags": []
   },
   "outputs": [],
   "source": [
    "def filter_sub_universe_data(sub_universe, org_test):\n",
    "    # Keep all rows — no filtering\n",
    "    keep_rows_mask = np.ones(org_test.shape[0], dtype=bool)\n",
    "\n",
    "    print(f\"[INFO] Keeping all rows: {keep_rows_mask.sum()} rows retained.\")\n",
    "    return keep_rows_mask"
   ]
  },
  {
   "cell_type": "code",
   "execution_count": 72,
   "id": "4a759155",
   "metadata": {
    "execution": {
     "iopub.execute_input": "2025-07-28T10:56:55.217329Z",
     "iopub.status.busy": "2025-07-28T10:56:55.216825Z",
     "iopub.status.idle": "2025-07-28T10:57:14.060008Z",
     "shell.execute_reply": "2025-07-28T10:57:14.058819Z"
    },
    "papermill": {
     "duration": 18.910485,
     "end_time": "2025-07-28T10:57:14.071142",
     "exception": false,
     "start_time": "2025-07-28T10:56:55.160657",
     "status": "completed"
    },
    "tags": []
   },
   "outputs": [
    {
     "name": "stdout",
     "output_type": "stream",
     "text": [
      "Stopping execution_time clock.\n",
      "[INFO] Keeping all rows: 89710 rows retained.\n"
     ]
    },
    {
     "name": "stdout",
     "output_type": "stream",
     "text": [
      "[INFO] Keeping all rows: 89710 rows retained.\n"
     ]
    },
    {
     "name": "stdout",
     "output_type": "stream",
     "text": [
      "[INFO] Keeping all rows: 89710 rows retained.\n"
     ]
    },
    {
     "name": "stdout",
     "output_type": "stream",
     "text": [
      "[INFO] Keeping all rows: 89710 rows retained.\n"
     ]
    },
    {
     "data": {
      "text/html": [
       "<div>\n",
       "<style scoped>\n",
       "    .dataframe tbody tr th:only-of-type {\n",
       "        vertical-align: middle;\n",
       "    }\n",
       "\n",
       "    .dataframe tbody tr th {\n",
       "        vertical-align: top;\n",
       "    }\n",
       "\n",
       "    .dataframe thead th {\n",
       "        text-align: right;\n",
       "    }\n",
       "</style>\n",
       "<table border=\"1\" class=\"dataframe\">\n",
       "  <thead>\n",
       "    <tr style=\"text-align: right;\">\n",
       "      <th></th>\n",
       "      <th>run_no</th>\n",
       "      <th>universe_id</th>\n",
       "      <th>universe_settings</th>\n",
       "      <th>execution_time</th>\n",
       "      <th>test_size_n</th>\n",
       "      <th>test_size_frac</th>\n",
       "      <th>fair_main_equalized_odds_difference</th>\n",
       "      <th>fair_main_equalized_odds_ratio</th>\n",
       "      <th>fair_main_demographic_parity_difference</th>\n",
       "      <th>fair_main_demographic_parity_ratio</th>\n",
       "      <th>...</th>\n",
       "      <th>perf_grp_precision_0</th>\n",
       "      <th>perf_grp_precision_1</th>\n",
       "      <th>perf_grp_false positive rate_0</th>\n",
       "      <th>perf_grp_false positive rate_1</th>\n",
       "      <th>perf_grp_false negative rate_0</th>\n",
       "      <th>perf_grp_false negative rate_1</th>\n",
       "      <th>perf_grp_selection rate_0</th>\n",
       "      <th>perf_grp_selection rate_1</th>\n",
       "      <th>perf_grp_count_0</th>\n",
       "      <th>perf_grp_count_1</th>\n",
       "    </tr>\n",
       "  </thead>\n",
       "  <tbody>\n",
       "    <tr>\n",
       "      <th>0</th>\n",
       "      <td>11</td>\n",
       "      <td>8b6d102409c8ff2d0feaec06a9de82f4</td>\n",
       "      <td>{\"cutoff\": \"quantile_0.1\", \"eval_fairness_grou...</td>\n",
       "      <td>75.621905</td>\n",
       "      <td>89710</td>\n",
       "      <td>1.0</td>\n",
       "      <td>0.070478</td>\n",
       "      <td>0.923482</td>\n",
       "      <td>0.070468</td>\n",
       "      <td>0.924253</td>\n",
       "      <td>...</td>\n",
       "      <td>NaN</td>\n",
       "      <td>NaN</td>\n",
       "      <td>NaN</td>\n",
       "      <td>NaN</td>\n",
       "      <td>NaN</td>\n",
       "      <td>NaN</td>\n",
       "      <td>NaN</td>\n",
       "      <td>NaN</td>\n",
       "      <td>NaN</td>\n",
       "      <td>NaN</td>\n",
       "    </tr>\n",
       "    <tr>\n",
       "      <th>0</th>\n",
       "      <td>11</td>\n",
       "      <td>8b6d102409c8ff2d0feaec06a9de82f4</td>\n",
       "      <td>{\"cutoff\": \"quantile_0.1\", \"eval_fairness_grou...</td>\n",
       "      <td>75.621905</td>\n",
       "      <td>89710</td>\n",
       "      <td>1.0</td>\n",
       "      <td>0.070478</td>\n",
       "      <td>0.923482</td>\n",
       "      <td>0.070468</td>\n",
       "      <td>0.924253</td>\n",
       "      <td>...</td>\n",
       "      <td>0.124795</td>\n",
       "      <td>0.140748</td>\n",
       "      <td>0.850594</td>\n",
       "      <td>0.921073</td>\n",
       "      <td>0.069257</td>\n",
       "      <td>0.009081</td>\n",
       "      <td>0.859834</td>\n",
       "      <td>0.930302</td>\n",
       "      <td>20540.0</td>\n",
       "      <td>69170.0</td>\n",
       "    </tr>\n",
       "    <tr>\n",
       "      <th>0</th>\n",
       "      <td>11</td>\n",
       "      <td>8b6d102409c8ff2d0feaec06a9de82f4</td>\n",
       "      <td>{\"cutoff\": \"quantile_0.25\", \"eval_fairness_gro...</td>\n",
       "      <td>75.621905</td>\n",
       "      <td>89710</td>\n",
       "      <td>1.0</td>\n",
       "      <td>0.091122</td>\n",
       "      <td>0.904599</td>\n",
       "      <td>0.070323</td>\n",
       "      <td>0.909067</td>\n",
       "      <td>...</td>\n",
       "      <td>NaN</td>\n",
       "      <td>NaN</td>\n",
       "      <td>NaN</td>\n",
       "      <td>NaN</td>\n",
       "      <td>NaN</td>\n",
       "      <td>NaN</td>\n",
       "      <td>NaN</td>\n",
       "      <td>NaN</td>\n",
       "      <td>NaN</td>\n",
       "      <td>NaN</td>\n",
       "    </tr>\n",
       "    <tr>\n",
       "      <th>0</th>\n",
       "      <td>11</td>\n",
       "      <td>8b6d102409c8ff2d0feaec06a9de82f4</td>\n",
       "      <td>{\"cutoff\": \"quantile_0.25\", \"eval_fairness_gro...</td>\n",
       "      <td>75.621905</td>\n",
       "      <td>89710</td>\n",
       "      <td>1.0</td>\n",
       "      <td>0.091122</td>\n",
       "      <td>0.904599</td>\n",
       "      <td>0.070323</td>\n",
       "      <td>0.909067</td>\n",
       "      <td>...</td>\n",
       "      <td>0.141690</td>\n",
       "      <td>0.163202</td>\n",
       "      <td>0.682038</td>\n",
       "      <td>0.745661</td>\n",
       "      <td>0.135980</td>\n",
       "      <td>0.044858</td>\n",
       "      <td>0.703019</td>\n",
       "      <td>0.773341</td>\n",
       "      <td>20540.0</td>\n",
       "      <td>69170.0</td>\n",
       "    </tr>\n",
       "  </tbody>\n",
       "</table>\n",
       "<p>4 rows × 50 columns</p>\n",
       "</div>"
      ],
      "text/plain": [
       "  run_no                       universe_id  \\\n",
       "0     11  8b6d102409c8ff2d0feaec06a9de82f4   \n",
       "0     11  8b6d102409c8ff2d0feaec06a9de82f4   \n",
       "0     11  8b6d102409c8ff2d0feaec06a9de82f4   \n",
       "0     11  8b6d102409c8ff2d0feaec06a9de82f4   \n",
       "\n",
       "                                   universe_settings  execution_time  \\\n",
       "0  {\"cutoff\": \"quantile_0.1\", \"eval_fairness_grou...       75.621905   \n",
       "0  {\"cutoff\": \"quantile_0.1\", \"eval_fairness_grou...       75.621905   \n",
       "0  {\"cutoff\": \"quantile_0.25\", \"eval_fairness_gro...       75.621905   \n",
       "0  {\"cutoff\": \"quantile_0.25\", \"eval_fairness_gro...       75.621905   \n",
       "\n",
       "   test_size_n  test_size_frac  fair_main_equalized_odds_difference  \\\n",
       "0        89710             1.0                             0.070478   \n",
       "0        89710             1.0                             0.070478   \n",
       "0        89710             1.0                             0.091122   \n",
       "0        89710             1.0                             0.091122   \n",
       "\n",
       "   fair_main_equalized_odds_ratio  fair_main_demographic_parity_difference  \\\n",
       "0                        0.923482                                 0.070468   \n",
       "0                        0.923482                                 0.070468   \n",
       "0                        0.904599                                 0.070323   \n",
       "0                        0.904599                                 0.070323   \n",
       "\n",
       "   fair_main_demographic_parity_ratio  ...  perf_grp_precision_0  \\\n",
       "0                            0.924253  ...                   NaN   \n",
       "0                            0.924253  ...              0.124795   \n",
       "0                            0.909067  ...                   NaN   \n",
       "0                            0.909067  ...              0.141690   \n",
       "\n",
       "   perf_grp_precision_1  perf_grp_false positive rate_0  \\\n",
       "0                   NaN                             NaN   \n",
       "0              0.140748                        0.850594   \n",
       "0                   NaN                             NaN   \n",
       "0              0.163202                        0.682038   \n",
       "\n",
       "   perf_grp_false positive rate_1  perf_grp_false negative rate_0  \\\n",
       "0                             NaN                             NaN   \n",
       "0                        0.921073                        0.069257   \n",
       "0                             NaN                             NaN   \n",
       "0                        0.745661                        0.135980   \n",
       "\n",
       "   perf_grp_false negative rate_1  perf_grp_selection rate_0  \\\n",
       "0                             NaN                        NaN   \n",
       "0                        0.009081                   0.859834   \n",
       "0                             NaN                        NaN   \n",
       "0                        0.044858                   0.703019   \n",
       "\n",
       "   perf_grp_selection rate_1  perf_grp_count_0  perf_grp_count_1  \n",
       "0                        NaN               NaN               NaN  \n",
       "0                   0.930302           20540.0           69170.0  \n",
       "0                        NaN               NaN               NaN  \n",
       "0                   0.773341           20540.0           69170.0  \n",
       "\n",
       "[4 rows x 50 columns]"
      ]
     },
     "execution_count": 72,
     "metadata": {},
     "output_type": "execute_result"
    }
   ],
   "source": [
    "final_output = universe_analysis.generate_final_output(\n",
    "    y_pred_prob=probs_test,\n",
    "    y_test=y_true,\n",
    "    org_test=org_test,\n",
    "    filter_data=filter_sub_universe_data,\n",
    "    cp_metrics_df=cp_metrics_df,\n",
    "    save=True,\n",
    ")\n",
    "final_output"
   ]
  },
  {
   "cell_type": "code",
   "execution_count": null,
   "id": "721ff514-cb11-46f8-b6fc-50392f74b5cb",
   "metadata": {
    "papermill": {
     "duration": 0.038781,
     "end_time": "2025-07-28T10:57:14.144583",
     "exception": false,
     "start_time": "2025-07-28T10:57:14.105802",
     "status": "completed"
    },
    "tags": []
   },
   "outputs": [],
   "source": []
  }
 ],
 "metadata": {
  "celltoolbar": "Tags",
  "kernelspec": {
   "display_name": "Python (CMA Fairness)",
   "language": "python",
   "name": "cma_fair_env"
  },
  "language_info": {
   "codemirror_mode": {
    "name": "ipython",
    "version": 3
   },
   "file_extension": ".py",
   "mimetype": "text/x-python",
   "name": "python",
   "nbconvert_exporter": "python",
   "pygments_lexer": "ipython3",
   "version": "3.10.12"
  },
  "papermill": {
   "default_parameters": {},
   "duration": 102.141549,
   "end_time": "2025-07-28T10:57:17.040463",
   "environment_variables": {},
   "exception": null,
   "input_path": "universe_analysis.ipynb",
   "output_path": "output/runs/11/notebooks/m_11-8b6d102409c8ff2d0feaec06a9de82f4.ipynb",
   "parameters": {
    "output_dir": "output",
    "run_no": "11",
    "seed": "2023",
    "universe": "{\"cutoff\": [\"quantile_0.1\", \"quantile_0.25\"], \"eval_fairness_grouping\": [\"majority-minority\", \"nationality-all\"], \"exclude_features\": \"sex\", \"exclude_subgroups\": \"keep-all\", \"model\": \"rf\", \"scale\": \"scale\", \"training_size\": \"2014\"}",
    "universe_id": "8b6d102409c8ff2d0feaec06a9de82f4"
   },
   "start_time": "2025-07-28T10:55:34.898914",
   "version": "2.6.0"
  }
 },
 "nbformat": 4,
 "nbformat_minor": 5
}