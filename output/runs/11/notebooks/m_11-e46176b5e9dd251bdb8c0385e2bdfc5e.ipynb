{
 "cells": [
  {
   "cell_type": "code",
   "execution_count": 1,
   "id": "f159f837-637b-42ba-96b5-ec9a68c44524",
   "metadata": {
    "execution": {
     "iopub.execute_input": "2025-07-28T11:05:26.465113Z",
     "iopub.status.busy": "2025-07-28T11:05:26.464723Z",
     "iopub.status.idle": "2025-07-28T11:05:26.484591Z",
     "shell.execute_reply": "2025-07-28T11:05:26.483414Z"
    },
    "papermill": {
     "duration": 0.055556,
     "end_time": "2025-07-28T11:05:26.488899",
     "exception": false,
     "start_time": "2025-07-28T11:05:26.433343",
     "status": "completed"
    },
    "tags": []
   },
   "outputs": [
    {
     "name": "stdout",
     "output_type": "stream",
     "text": [
      "/dss/dsshome1/0C/ra93lal2/cma/CMA_Fairness_v2\n"
     ]
    },
    {
     "name": "stderr",
     "output_type": "stream",
     "text": [
      "/dss/dsshome1/0C/ra93lal2/.local/share/virtualenvs/CMA_Fairness_v2-3j10GkSs/lib/python3.10/site-packages/IPython/core/magics/osm.py:393: UserWarning: This is now an optional IPython functionality, using bookmarks requires you to install the `pickleshare` library.\n",
      "  bkms = self.shell.db.get('bookmarks', {})\n",
      "/dss/dsshome1/0C/ra93lal2/.local/share/virtualenvs/CMA_Fairness_v2-3j10GkSs/lib/python3.10/site-packages/IPython/core/magics/osm.py:417: UserWarning: This is now an optional IPython functionality, setting dhist requires you to install the `pickleshare` library.\n",
      "  self.shell.db['dhist'] = compress_dhist(dhist)[-100:]\n"
     ]
    }
   ],
   "source": [
    "%cd ~/cma/CMA_Fairness_v2"
   ]
  },
  {
   "cell_type": "markdown",
   "id": "de2603b9",
   "metadata": {
    "papermill": {
     "duration": 0.043281,
     "end_time": "2025-07-28T11:05:26.564997",
     "exception": false,
     "start_time": "2025-07-28T11:05:26.521716",
     "status": "completed"
    },
    "tags": []
   },
   "source": [
    "The following cell holds the definition of our parameters, these values can be overriden by rendering the with e.g. the following command:\n",
    "\n",
    "papermill -p alpha 0.2 -p ratio 0.3 universe_analysis.ipynb output/test_run.ipynb"
   ]
  },
  {
   "cell_type": "code",
   "execution_count": 2,
   "id": "a80968a0-40bb-4fa9-85ef-2d5eefb01975",
   "metadata": {
    "execution": {
     "iopub.execute_input": "2025-07-28T11:05:26.679447Z",
     "iopub.status.busy": "2025-07-28T11:05:26.678821Z",
     "iopub.status.idle": "2025-07-28T11:05:26.685337Z",
     "shell.execute_reply": "2025-07-28T11:05:26.684292Z"
    },
    "papermill": {
     "duration": 0.046699,
     "end_time": "2025-07-28T11:05:26.687299",
     "exception": false,
     "start_time": "2025-07-28T11:05:26.640600",
     "status": "completed"
    },
    "tags": []
   },
   "outputs": [
    {
     "name": "stdout",
     "output_type": "stream",
     "text": [
      "Current working directory: /dss/dsshome1/0C/ra93lal2/cma/CMA_Fairness_v2\n"
     ]
    }
   ],
   "source": [
    "import os\n",
    "print(\"Current working directory:\", os.getcwd())"
   ]
  },
  {
   "cell_type": "code",
   "execution_count": 3,
   "id": "2dce4c03",
   "metadata": {
    "execution": {
     "iopub.execute_input": "2025-07-28T11:05:26.778895Z",
     "iopub.status.busy": "2025-07-28T11:05:26.778506Z",
     "iopub.status.idle": "2025-07-28T11:05:26.786677Z",
     "shell.execute_reply": "2025-07-28T11:05:26.785672Z"
    },
    "papermill": {
     "duration": 0.06442,
     "end_time": "2025-07-28T11:05:26.788822",
     "exception": false,
     "start_time": "2025-07-28T11:05:26.724402",
     "status": "completed"
    },
    "tags": [
     "parameters"
    ]
   },
   "outputs": [],
   "source": [
    "run_no = 0\n",
    "universe_id = \"test\"\n",
    "universe = {\n",
    "    \"training_size\": \"2014\", # \"25k\", \"5k\", \"1k\", \"2014\"\n",
    "    \"scale\": \"scale\", # \"scale\", \"do-not-scale\",\n",
    "    #\"stratify_split\": \"target\", # \"none\", \"target\", \"protected-attribute\", \"both\",\n",
    "    \"model\": \"elasticnet\", # \"logreg\", \"penalized_logreg\", \"rf\", \"gbm\", \"elasticnet\"\n",
    "    \"cutoff\": [\"quantile_0.15\", \"quantile_0.30\"],\n",
    "    \"exclude_features\": \"age\", # \"none\", \"nationality\", \"sex\", \"nationality-sex\", \"age\"\n",
    "    \"exclude_subgroups\": \"keep-all\", # \"keep-all\", \"drop-non-german\"\n",
    "    \"eval_fairness_grouping\": [\"majority-minority\", \"nationality-all\"]\n",
    "}\n",
    "\n",
    "output_dir=\"./output\"\n",
    "seed=0"
   ]
  },
  {
   "cell_type": "code",
   "execution_count": 4,
   "id": "ff1c8863",
   "metadata": {
    "execution": {
     "iopub.execute_input": "2025-07-28T11:05:26.875779Z",
     "iopub.status.busy": "2025-07-28T11:05:26.875066Z",
     "iopub.status.idle": "2025-07-28T11:05:26.882109Z",
     "shell.execute_reply": "2025-07-28T11:05:26.881142Z"
    },
    "papermill": {
     "duration": 0.047628,
     "end_time": "2025-07-28T11:05:26.884209",
     "exception": false,
     "start_time": "2025-07-28T11:05:26.836581",
     "status": "completed"
    },
    "tags": [
     "injected-parameters"
    ]
   },
   "outputs": [],
   "source": [
    "# Parameters\n",
    "universe_id = \"e46176b5e9dd251bdb8c0385e2bdfc5e\"\n",
    "run_no = \"11\"\n",
    "universe = \"{\\\"cutoff\\\": [\\\"quantile_0.1\\\", \\\"quantile_0.25\\\"], \\\"eval_fairness_grouping\\\": [\\\"majority-minority\\\", \\\"nationality-all\\\"], \\\"exclude_features\\\": \\\"nationality\\\", \\\"exclude_subgroups\\\": \\\"drop-non-german\\\", \\\"model\\\": \\\"rf\\\", \\\"scale\\\": \\\"do-not-scale\\\", \\\"training_size\\\": \\\"2014\\\"}\"\n",
    "output_dir = \"output\"\n",
    "seed = \"2023\"\n"
   ]
  },
  {
   "cell_type": "code",
   "execution_count": 5,
   "id": "1650acaf",
   "metadata": {
    "execution": {
     "iopub.execute_input": "2025-07-28T11:05:26.975263Z",
     "iopub.status.busy": "2025-07-28T11:05:26.974816Z",
     "iopub.status.idle": "2025-07-28T11:05:26.981567Z",
     "shell.execute_reply": "2025-07-28T11:05:26.980566Z"
    },
    "papermill": {
     "duration": 0.047138,
     "end_time": "2025-07-28T11:05:26.983531",
     "exception": false,
     "start_time": "2025-07-28T11:05:26.936393",
     "status": "completed"
    },
    "tags": []
   },
   "outputs": [],
   "source": [
    "import json\n",
    "# Parse universe into dict if it is passed as a string\n",
    "if isinstance(universe, str):\n",
    "    universe = json.loads(universe)"
   ]
  },
  {
   "cell_type": "code",
   "execution_count": 6,
   "id": "16620c48",
   "metadata": {
    "execution": {
     "iopub.execute_input": "2025-07-28T11:05:27.071299Z",
     "iopub.status.busy": "2025-07-28T11:05:27.070829Z",
     "iopub.status.idle": "2025-07-28T11:05:27.176363Z",
     "shell.execute_reply": "2025-07-28T11:05:27.174891Z"
    },
    "papermill": {
     "duration": 0.145917,
     "end_time": "2025-07-28T11:05:27.178570",
     "exception": false,
     "start_time": "2025-07-28T11:05:27.032653",
     "status": "completed"
    },
    "tags": []
   },
   "outputs": [],
   "source": [
    "# Auto-reload the custom package\n",
    "%load_ext autoreload\n",
    "%autoreload 1\n",
    "%aimport fairness_multiverse"
   ]
  },
  {
   "cell_type": "code",
   "execution_count": 7,
   "id": "01c5c9f3",
   "metadata": {
    "execution": {
     "iopub.execute_input": "2025-07-28T11:05:27.263525Z",
     "iopub.status.busy": "2025-07-28T11:05:27.263080Z",
     "iopub.status.idle": "2025-07-28T11:05:30.694082Z",
     "shell.execute_reply": "2025-07-28T11:05:30.692296Z"
    },
    "papermill": {
     "duration": 3.472579,
     "end_time": "2025-07-28T11:05:30.696852",
     "exception": false,
     "start_time": "2025-07-28T11:05:27.224273",
     "status": "completed"
    },
    "tags": []
   },
   "outputs": [],
   "source": [
    "from fairness_multiverse.universe import UniverseAnalysis\n",
    "\n",
    "universe_analysis = UniverseAnalysis(\n",
    "    run_no = run_no,\n",
    "    universe_id = universe_id,\n",
    "    universe = universe,\n",
    "    output_dir=output_dir,\n",
    ")"
   ]
  },
  {
   "cell_type": "code",
   "execution_count": 8,
   "id": "106241f5",
   "metadata": {
    "execution": {
     "iopub.execute_input": "2025-07-28T11:05:30.747699Z",
     "iopub.status.busy": "2025-07-28T11:05:30.747198Z",
     "iopub.status.idle": "2025-07-28T11:05:30.755901Z",
     "shell.execute_reply": "2025-07-28T11:05:30.754941Z"
    },
    "papermill": {
     "duration": 0.035013,
     "end_time": "2025-07-28T11:05:30.758998",
     "exception": false,
     "start_time": "2025-07-28T11:05:30.723985",
     "status": "completed"
    },
    "tags": []
   },
   "outputs": [
    {
     "name": "stdout",
     "output_type": "stream",
     "text": [
      "Using Seed: 2023\n"
     ]
    }
   ],
   "source": [
    "import numpy as np\n",
    "parsed_seed = int(seed)\n",
    "np.random.seed(parsed_seed)\n",
    "print(f\"Using Seed: {parsed_seed}\")"
   ]
  },
  {
   "cell_type": "markdown",
   "id": "e0ebdc57",
   "metadata": {
    "papermill": {
     "duration": 0.048463,
     "end_time": "2025-07-28T11:05:30.828551",
     "exception": false,
     "start_time": "2025-07-28T11:05:30.780088",
     "status": "completed"
    },
    "tags": []
   },
   "source": [
    "# Loading Data"
   ]
  },
  {
   "cell_type": "markdown",
   "id": "681925a3",
   "metadata": {
    "papermill": {
     "duration": 0.049415,
     "end_time": "2025-07-28T11:05:30.933057",
     "exception": false,
     "start_time": "2025-07-28T11:05:30.883642",
     "status": "completed"
    },
    "tags": []
   },
   "source": [
    "Load siab_train, siab_test, siab_calib and/or \n",
    "load siab_train_features, siab_train_labels"
   ]
  },
  {
   "cell_type": "code",
   "execution_count": 9,
   "id": "f0496b8a",
   "metadata": {
    "execution": {
     "iopub.execute_input": "2025-07-28T11:05:31.038863Z",
     "iopub.status.busy": "2025-07-28T11:05:31.038393Z",
     "iopub.status.idle": "2025-07-28T11:05:47.379065Z",
     "shell.execute_reply": "2025-07-28T11:05:47.377797Z"
    },
    "papermill": {
     "duration": 16.38984,
     "end_time": "2025-07-28T11:05:47.381153",
     "exception": false,
     "start_time": "2025-07-28T11:05:30.991313",
     "status": "completed"
    },
    "tags": []
   },
   "outputs": [
    {
     "name": "stdout",
     "output_type": "stream",
     "text": [
      "Loading SIAB data from cache: data/siab_cached.csv.gz\n"
     ]
    },
    {
     "name": "stdout",
     "output_type": "stream",
     "text": [
      "(643690, 164)\n"
     ]
    }
   ],
   "source": [
    "from pathlib import Path\n",
    "import pandas as pd\n",
    "\n",
    "# File paths\n",
    "raw_file = Path(\"data/raw/siab.csv\")\n",
    "cache_file = Path(\"data/siab_cached.csv.gz\")\n",
    "\n",
    "# Ensure cache directory exists\n",
    "cache_file.parent.mkdir(parents=True, exist_ok=True)\n",
    "\n",
    "# Load with simple caching\n",
    "if cache_file.exists():\n",
    "    print(f\"Loading SIAB data from cache: {cache_file}\")\n",
    "    siab = pd.read_csv(cache_file, compression='gzip')\n",
    "else:\n",
    "    print(f\"Cache not found. Reading raw SIAB data: {raw_file}\")\n",
    "    siab = pd.read_csv(raw_file)\n",
    "    siab.to_csv(cache_file, index=False, compression='gzip')\n",
    "    print(f\"Cached SIAB data to: {cache_file}\")\n",
    "\n",
    "# Now use `siab` DataFrame as needed\n",
    "print(siab.shape)"
   ]
  },
  {
   "cell_type": "code",
   "execution_count": 10,
   "id": "db0ca512-5f53-4dba-abdb-a2888bca41ba",
   "metadata": {
    "execution": {
     "iopub.execute_input": "2025-07-28T11:05:47.425954Z",
     "iopub.status.busy": "2025-07-28T11:05:47.425478Z",
     "iopub.status.idle": "2025-07-28T11:05:47.431829Z",
     "shell.execute_reply": "2025-07-28T11:05:47.430794Z"
    },
    "papermill": {
     "duration": 0.032042,
     "end_time": "2025-07-28T11:05:47.435447",
     "exception": false,
     "start_time": "2025-07-28T11:05:47.403405",
     "status": "completed"
    },
    "tags": []
   },
   "outputs": [],
   "source": [
    "#siab"
   ]
  },
  {
   "cell_type": "code",
   "execution_count": 11,
   "id": "a0edb063",
   "metadata": {
    "execution": {
     "iopub.execute_input": "2025-07-28T11:05:47.481119Z",
     "iopub.status.busy": "2025-07-28T11:05:47.480681Z",
     "iopub.status.idle": "2025-07-28T11:05:47.486575Z",
     "shell.execute_reply": "2025-07-28T11:05:47.485538Z"
    },
    "papermill": {
     "duration": 0.031209,
     "end_time": "2025-07-28T11:05:47.489432",
     "exception": false,
     "start_time": "2025-07-28T11:05:47.458223",
     "status": "completed"
    },
    "tags": []
   },
   "outputs": [],
   "source": [
    "#import pandas as pd\n",
    "#\n",
    "#X_train = pd.read_csv(\"./data/X_train.csv\")\n",
    "#y_train = pd.read_csv(\"./data/y_train.csv\")"
   ]
  },
  {
   "cell_type": "code",
   "execution_count": 12,
   "id": "63d08085",
   "metadata": {
    "execution": {
     "iopub.execute_input": "2025-07-28T11:05:47.533316Z",
     "iopub.status.busy": "2025-07-28T11:05:47.532780Z",
     "iopub.status.idle": "2025-07-28T11:05:47.544360Z",
     "shell.execute_reply": "2025-07-28T11:05:47.537234Z"
    },
    "papermill": {
     "duration": 0.035758,
     "end_time": "2025-07-28T11:05:47.546548",
     "exception": false,
     "start_time": "2025-07-28T11:05:47.510790",
     "status": "completed"
    },
    "tags": []
   },
   "outputs": [],
   "source": [
    "#X_test = pd.read_csv(\"./data/X_test.csv\")\n",
    "#y_true = pd.read_csv(\"./data/y_test.csv\")"
   ]
  },
  {
   "cell_type": "code",
   "execution_count": 13,
   "id": "98a8d0fa-1d3d-4ed8-bb2c-281470e24add",
   "metadata": {
    "execution": {
     "iopub.execute_input": "2025-07-28T11:05:47.631421Z",
     "iopub.status.busy": "2025-07-28T11:05:47.630320Z",
     "iopub.status.idle": "2025-07-28T11:05:47.642251Z",
     "shell.execute_reply": "2025-07-28T11:05:47.641141Z"
    },
    "papermill": {
     "duration": 0.053115,
     "end_time": "2025-07-28T11:05:47.646474",
     "exception": false,
     "start_time": "2025-07-28T11:05:47.593359",
     "status": "completed"
    },
    "tags": []
   },
   "outputs": [],
   "source": [
    "# Calibration data for conformal\n",
    "#X_calib = pd.read_csv(\"./data/X_calib.csv\")\n",
    "#y_calib = pd.read_csv(\"./data/y_calib.csv\")"
   ]
  },
  {
   "cell_type": "markdown",
   "id": "9901737e-04df-44f0-9100-f5ad144ed040",
   "metadata": {
    "papermill": {
     "duration": 0.04411,
     "end_time": "2025-07-28T11:05:47.764630",
     "exception": false,
     "start_time": "2025-07-28T11:05:47.720520",
     "status": "completed"
    },
    "tags": []
   },
   "source": [
    "# Splitting Data and Setting Training Data Size"
   ]
  },
  {
   "cell_type": "code",
   "execution_count": 14,
   "id": "acbc8f7d-8fc8-4e86-8c59-5dcb0f58384b",
   "metadata": {
    "execution": {
     "iopub.execute_input": "2025-07-28T11:05:47.851202Z",
     "iopub.status.busy": "2025-07-28T11:05:47.850748Z",
     "iopub.status.idle": "2025-07-28T11:05:47.861660Z",
     "shell.execute_reply": "2025-07-28T11:05:47.860572Z"
    },
    "papermill": {
     "duration": 0.06571,
     "end_time": "2025-07-28T11:05:47.863779",
     "exception": false,
     "start_time": "2025-07-28T11:05:47.798069",
     "status": "completed"
    },
    "tags": []
   },
   "outputs": [],
   "source": [
    "def sample_by_year(df, training_size, random_state=42):\n",
    "    if training_size == \"2014\":\n",
    "        return df[df[\"year\"] == 2014].reset_index(drop=True)\n",
    "    \n",
    "    size_map = {\n",
    "        \"25k\": 5000,\n",
    "        \"5k\": 1000,\n",
    "        \"1k\": 200\n",
    "    }\n",
    "\n",
    "    if training_size not in size_map:\n",
    "        return df.reset_index(drop=True)  # use all data\n",
    "\n",
    "    n_per_year = size_map[training_size]\n",
    "    grouped = df.groupby(\"year\")\n",
    "    sampled = grouped.apply(lambda x: x.sample(n=min(n_per_year, len(x)), random_state=random_state))\n",
    "    return sampled.reset_index(drop=True)"
   ]
  },
  {
   "cell_type": "code",
   "execution_count": 15,
   "id": "6d931f52-beaf-43ff-9e78-9d44a448d54e",
   "metadata": {
    "execution": {
     "iopub.execute_input": "2025-07-28T11:05:47.957091Z",
     "iopub.status.busy": "2025-07-28T11:05:47.956621Z",
     "iopub.status.idle": "2025-07-28T11:05:48.191515Z",
     "shell.execute_reply": "2025-07-28T11:05:48.190440Z"
    },
    "papermill": {
     "duration": 0.280585,
     "end_time": "2025-07-28T11:05:48.193200",
     "exception": false,
     "start_time": "2025-07-28T11:05:47.912615",
     "status": "completed"
    },
    "tags": []
   },
   "outputs": [],
   "source": [
    "siab_s = sample_by_year(siab, universe[\"training_size\"])"
   ]
  },
  {
   "cell_type": "code",
   "execution_count": 16,
   "id": "5db0a40e-a4e2-4920-be85-b12ae061d70d",
   "metadata": {
    "execution": {
     "iopub.execute_input": "2025-07-28T11:05:48.252858Z",
     "iopub.status.busy": "2025-07-28T11:05:48.251977Z",
     "iopub.status.idle": "2025-07-28T11:05:48.269276Z",
     "shell.execute_reply": "2025-07-28T11:05:48.268039Z"
    },
    "papermill": {
     "duration": 0.04294,
     "end_time": "2025-07-28T11:05:48.271508",
     "exception": false,
     "start_time": "2025-07-28T11:05:48.228568",
     "status": "completed"
    },
    "tags": []
   },
   "outputs": [
    {
     "data": {
      "text/plain": [
       "year\n",
       "2014    87158\n",
       "dtype: int64"
      ]
     },
     "metadata": {},
     "output_type": "display_data"
    }
   ],
   "source": [
    "display(siab_s.groupby(\"year\").size())"
   ]
  },
  {
   "cell_type": "code",
   "execution_count": 17,
   "id": "a561edb4-d032-42cb-8256-22eac1111c64",
   "metadata": {
    "execution": {
     "iopub.execute_input": "2025-07-28T11:05:48.321417Z",
     "iopub.status.busy": "2025-07-28T11:05:48.320903Z",
     "iopub.status.idle": "2025-07-28T11:05:48.768899Z",
     "shell.execute_reply": "2025-07-28T11:05:48.767818Z"
    },
    "papermill": {
     "duration": 0.475534,
     "end_time": "2025-07-28T11:05:48.771117",
     "exception": false,
     "start_time": "2025-07-28T11:05:48.295583",
     "status": "completed"
    },
    "tags": []
   },
   "outputs": [],
   "source": [
    "siab_train = siab_s[siab_s.year < 2015]\n",
    "siab_calib = siab[siab.year == 2015]\n",
    "siab_test = siab[siab.year == 2016]"
   ]
  },
  {
   "cell_type": "code",
   "execution_count": 18,
   "id": "472de16f-c3db-4916-846b-1f0de9cf1746",
   "metadata": {
    "execution": {
     "iopub.execute_input": "2025-07-28T11:05:48.854575Z",
     "iopub.status.busy": "2025-07-28T11:05:48.854138Z",
     "iopub.status.idle": "2025-07-28T11:05:48.912132Z",
     "shell.execute_reply": "2025-07-28T11:05:48.910260Z"
    },
    "papermill": {
     "duration": 0.119721,
     "end_time": "2025-07-28T11:05:48.917678",
     "exception": false,
     "start_time": "2025-07-28T11:05:48.797957",
     "status": "completed"
    },
    "tags": []
   },
   "outputs": [],
   "source": [
    "X_train = siab_train.iloc[:,4:164]\n",
    "y_train = siab_train.iloc[:, [3]]"
   ]
  },
  {
   "cell_type": "code",
   "execution_count": 19,
   "id": "828c96af-f43a-4ed6-ba47-8ac73a47d56c",
   "metadata": {
    "execution": {
     "iopub.execute_input": "2025-07-28T11:05:48.963669Z",
     "iopub.status.busy": "2025-07-28T11:05:48.963246Z",
     "iopub.status.idle": "2025-07-28T11:05:49.071037Z",
     "shell.execute_reply": "2025-07-28T11:05:49.069425Z"
    },
    "papermill": {
     "duration": 0.134011,
     "end_time": "2025-07-28T11:05:49.073897",
     "exception": false,
     "start_time": "2025-07-28T11:05:48.939886",
     "status": "completed"
    },
    "tags": []
   },
   "outputs": [],
   "source": [
    "X_calib = siab_calib.iloc[:,4:164]\n",
    "y_calib = siab_calib.iloc[:, [3]]"
   ]
  },
  {
   "cell_type": "code",
   "execution_count": 20,
   "id": "c34be9c3-6bd6-476e-acd3-845840e303be",
   "metadata": {
    "execution": {
     "iopub.execute_input": "2025-07-28T11:05:49.168661Z",
     "iopub.status.busy": "2025-07-28T11:05:49.168169Z",
     "iopub.status.idle": "2025-07-28T11:05:49.282788Z",
     "shell.execute_reply": "2025-07-28T11:05:49.278726Z"
    },
    "papermill": {
     "duration": 0.184615,
     "end_time": "2025-07-28T11:05:49.285270",
     "exception": false,
     "start_time": "2025-07-28T11:05:49.100655",
     "status": "completed"
    },
    "tags": []
   },
   "outputs": [],
   "source": [
    "X_test = siab_test.iloc[:,4:164]\n",
    "y_true = siab_test.iloc[:, [3]]"
   ]
  },
  {
   "cell_type": "code",
   "execution_count": 21,
   "id": "e6c733c5",
   "metadata": {
    "execution": {
     "iopub.execute_input": "2025-07-28T11:05:49.390448Z",
     "iopub.status.busy": "2025-07-28T11:05:49.389895Z",
     "iopub.status.idle": "2025-07-28T11:05:49.569864Z",
     "shell.execute_reply": "2025-07-28T11:05:49.568627Z"
    },
    "papermill": {
     "duration": 0.243183,
     "end_time": "2025-07-28T11:05:49.572260",
     "exception": false,
     "start_time": "2025-07-28T11:05:49.329077",
     "status": "completed"
    },
    "tags": []
   },
   "outputs": [],
   "source": [
    "# Auxiliary data needed downstream in the pipeline\n",
    "\n",
    "org_train = X_train.copy()\n",
    "org_test = X_test.copy()\n",
    "org_calib = X_calib.copy()"
   ]
  },
  {
   "cell_type": "markdown",
   "id": "0a4a1b33",
   "metadata": {
    "papermill": {
     "duration": 0.038176,
     "end_time": "2025-07-28T11:05:49.650747",
     "exception": false,
     "start_time": "2025-07-28T11:05:49.612571",
     "status": "completed"
    },
    "tags": []
   },
   "source": [
    "# Preprocessing Data"
   ]
  },
  {
   "cell_type": "code",
   "execution_count": 22,
   "id": "ca879031",
   "metadata": {
    "execution": {
     "iopub.execute_input": "2025-07-28T11:05:49.703271Z",
     "iopub.status.busy": "2025-07-28T11:05:49.702888Z",
     "iopub.status.idle": "2025-07-28T11:05:49.708255Z",
     "shell.execute_reply": "2025-07-28T11:05:49.707458Z"
    },
    "papermill": {
     "duration": 0.028533,
     "end_time": "2025-07-28T11:05:49.709577",
     "exception": false,
     "start_time": "2025-07-28T11:05:49.681044",
     "status": "completed"
    },
    "tags": []
   },
   "outputs": [],
   "source": [
    "# EXCLUDE PROTECTED FEATURES\n",
    "# ----------------------\n",
    "# \"exclude_features\": \"none\", # \"nationality\", \"sex\", \"nationality-sex\"\n",
    "\n",
    "excluded_features = universe[\"exclude_features\"].split(\"-\") # split, e.g.: \"nationality-sex\" -> [\"nationality\", \"sex\"]\n",
    "excluded_features_dictionary = {\n",
    "    \"nationality\": [\"maxdeutsch1\", \"maxdeutsch.Missing.\"],\n",
    "    \"sex\": [\"frau1\"],\n",
    "    \"age\": [\"age\"],\n",
    "}\n"
   ]
  },
  {
   "cell_type": "code",
   "execution_count": 23,
   "id": "b745ac60",
   "metadata": {
    "execution": {
     "iopub.execute_input": "2025-07-28T11:05:49.732897Z",
     "iopub.status.busy": "2025-07-28T11:05:49.732551Z",
     "iopub.status.idle": "2025-07-28T11:05:49.737041Z",
     "shell.execute_reply": "2025-07-28T11:05:49.736302Z"
    },
    "papermill": {
     "duration": 0.017787,
     "end_time": "2025-07-28T11:05:49.738829",
     "exception": false,
     "start_time": "2025-07-28T11:05:49.721042",
     "status": "completed"
    },
    "tags": []
   },
   "outputs": [],
   "source": [
    "# Code nice names to column names\n",
    "\n",
    "excluded_features_columns = [\n",
    "    excluded_features_dictionary[f] for f in excluded_features if len(f) > 0 and f != \"none\"\n",
    "]"
   ]
  },
  {
   "cell_type": "code",
   "execution_count": 24,
   "id": "f84f73a2",
   "metadata": {
    "execution": {
     "iopub.execute_input": "2025-07-28T11:05:49.785936Z",
     "iopub.status.busy": "2025-07-28T11:05:49.784609Z",
     "iopub.status.idle": "2025-07-28T11:05:49.791903Z",
     "shell.execute_reply": "2025-07-28T11:05:49.790854Z"
    },
    "papermill": {
     "duration": 0.031724,
     "end_time": "2025-07-28T11:05:49.793799",
     "exception": false,
     "start_time": "2025-07-28T11:05:49.762075",
     "status": "completed"
    },
    "tags": []
   },
   "outputs": [],
   "source": [
    "from utils import flatten_once\n",
    "\n",
    "excluded_features_columns = flatten_once(excluded_features_columns)"
   ]
  },
  {
   "cell_type": "code",
   "execution_count": 25,
   "id": "884dea22",
   "metadata": {
    "execution": {
     "iopub.execute_input": "2025-07-28T11:05:49.843490Z",
     "iopub.status.busy": "2025-07-28T11:05:49.842972Z",
     "iopub.status.idle": "2025-07-28T11:05:49.900858Z",
     "shell.execute_reply": "2025-07-28T11:05:49.899637Z"
    },
    "papermill": {
     "duration": 0.084527,
     "end_time": "2025-07-28T11:05:49.902813",
     "exception": false,
     "start_time": "2025-07-28T11:05:49.818286",
     "status": "completed"
    },
    "tags": []
   },
   "outputs": [
    {
     "name": "stdout",
     "output_type": "stream",
     "text": [
      "Dropping features: ['maxdeutsch1', 'maxdeutsch.Missing.']\n"
     ]
    }
   ],
   "source": [
    "if len(excluded_features_columns) > 0:\n",
    "    print(f\"Dropping features: {excluded_features_columns}\")\n",
    "    X_train.drop(excluded_features_columns, axis=1, inplace=True)"
   ]
  },
  {
   "cell_type": "code",
   "execution_count": 26,
   "id": "95ab8b16",
   "metadata": {
    "execution": {
     "iopub.execute_input": "2025-07-28T11:05:49.954584Z",
     "iopub.status.busy": "2025-07-28T11:05:49.954028Z",
     "iopub.status.idle": "2025-07-28T11:05:50.012291Z",
     "shell.execute_reply": "2025-07-28T11:05:50.011262Z"
    },
    "papermill": {
     "duration": 0.086399,
     "end_time": "2025-07-28T11:05:50.014008",
     "exception": false,
     "start_time": "2025-07-28T11:05:49.927609",
     "status": "completed"
    },
    "tags": []
   },
   "outputs": [
    {
     "name": "stdout",
     "output_type": "stream",
     "text": [
      "Dropping features: ['maxdeutsch1', 'maxdeutsch.Missing.']\n"
     ]
    }
   ],
   "source": [
    "if len(excluded_features_columns) > 0:\n",
    "    print(f\"Dropping features: {excluded_features_columns}\")\n",
    "    X_test.drop(excluded_features_columns, axis=1, inplace=True)"
   ]
  },
  {
   "cell_type": "code",
   "execution_count": 27,
   "id": "1853aaf5-fb9f-46cb-a2b5-8ea4ae2237e4",
   "metadata": {
    "execution": {
     "iopub.execute_input": "2025-07-28T11:05:50.089110Z",
     "iopub.status.busy": "2025-07-28T11:05:50.088523Z",
     "iopub.status.idle": "2025-07-28T11:05:50.169149Z",
     "shell.execute_reply": "2025-07-28T11:05:50.168038Z"
    },
    "papermill": {
     "duration": 0.131338,
     "end_time": "2025-07-28T11:05:50.171643",
     "exception": false,
     "start_time": "2025-07-28T11:05:50.040305",
     "status": "completed"
    },
    "tags": []
   },
   "outputs": [
    {
     "name": "stdout",
     "output_type": "stream",
     "text": [
      "Dropping features: ['maxdeutsch1', 'maxdeutsch.Missing.']\n"
     ]
    }
   ],
   "source": [
    "if len(excluded_features_columns) > 0:\n",
    "    print(f\"Dropping features: {excluded_features_columns}\")\n",
    "    X_calib.drop(excluded_features_columns, axis=1, inplace=True)"
   ]
  },
  {
   "cell_type": "code",
   "execution_count": 28,
   "id": "6727d079-03e5-481e-9d38-292a90b7a0a8",
   "metadata": {
    "execution": {
     "iopub.execute_input": "2025-07-28T11:05:50.252881Z",
     "iopub.status.busy": "2025-07-28T11:05:50.252473Z",
     "iopub.status.idle": "2025-07-28T11:05:50.257868Z",
     "shell.execute_reply": "2025-07-28T11:05:50.256862Z"
    },
    "papermill": {
     "duration": 0.052286,
     "end_time": "2025-07-28T11:05:50.260873",
     "exception": false,
     "start_time": "2025-07-28T11:05:50.208587",
     "status": "completed"
    },
    "tags": []
   },
   "outputs": [],
   "source": [
    "# SPLIT & STRATIFY DATA\n",
    "# ----------------------"
   ]
  },
  {
   "cell_type": "code",
   "execution_count": 29,
   "id": "76c4dc6d",
   "metadata": {
    "execution": {
     "iopub.execute_input": "2025-07-28T11:05:50.351662Z",
     "iopub.status.busy": "2025-07-28T11:05:50.351197Z",
     "iopub.status.idle": "2025-07-28T11:05:50.357125Z",
     "shell.execute_reply": "2025-07-28T11:05:50.356173Z"
    },
    "papermill": {
     "duration": 0.047395,
     "end_time": "2025-07-28T11:05:50.360548",
     "exception": false,
     "start_time": "2025-07-28T11:05:50.313153",
     "status": "completed"
    },
    "tags": []
   },
   "outputs": [],
   "source": [
    "# EXCLUDE CERTAIN SUBGROUPS\n",
    "# ----------------------\n",
    "\n",
    "mode = universe.get(\"exclude_subgroups\", \"keep-all\") \n",
    "# Fetches the exclude_subgroups setting from the universe dict.\n",
    "# Defaults to \"keep-all\" if the key is missing."
   ]
  },
  {
   "cell_type": "code",
   "execution_count": 30,
   "id": "21994072",
   "metadata": {
    "execution": {
     "iopub.execute_input": "2025-07-28T11:05:50.407562Z",
     "iopub.status.busy": "2025-07-28T11:05:50.407142Z",
     "iopub.status.idle": "2025-07-28T11:05:50.414798Z",
     "shell.execute_reply": "2025-07-28T11:05:50.413798Z"
    },
    "papermill": {
     "duration": 0.035425,
     "end_time": "2025-07-28T11:05:50.418200",
     "exception": false,
     "start_time": "2025-07-28T11:05:50.382775",
     "status": "completed"
    },
    "tags": []
   },
   "outputs": [],
   "source": [
    "if mode == \"keep-all\":\n",
    "    keep_mask = pd.Series(True, index=org_train.index)\n",
    "\n",
    "# org_train contains the original feature columns from features_org (in Simson)\n",
    "# features_org contains unprocessed features, for me X_train at beginning ???\n",
    "# For keep-all, creates a boolean Series (keep_mask) of all True, so no rows are removed.\n",
    "\n",
    "elif mode == \"drop-non-german\":\n",
    "    keep_mask = org_train[\"maxdeutsch1\"] == 1 # ??? what about missing values?\n",
    "\n",
    "else:\n",
    "    raise ValueError(f\"Unsupported mode for exclude_subgroups: {mode}\")\n"
   ]
  },
  {
   "cell_type": "code",
   "execution_count": 31,
   "id": "71651440",
   "metadata": {
    "execution": {
     "iopub.execute_input": "2025-07-28T11:05:50.466831Z",
     "iopub.status.busy": "2025-07-28T11:05:50.466419Z",
     "iopub.status.idle": "2025-07-28T11:05:50.474175Z",
     "shell.execute_reply": "2025-07-28T11:05:50.473147Z"
    },
    "papermill": {
     "duration": 0.035887,
     "end_time": "2025-07-28T11:05:50.478542",
     "exception": false,
     "start_time": "2025-07-28T11:05:50.442655",
     "status": "completed"
    },
    "tags": []
   },
   "outputs": [
    {
     "name": "stdout",
     "output_type": "stream",
     "text": [
      "Dropping 12995 rows (14.91%) where mode='drop-non-german'\n"
     ]
    }
   ],
   "source": [
    "n_drop = (~keep_mask).sum() # Calculates how many rows are set to be dropped\n",
    "if n_drop > 0:\n",
    "    pct = n_drop / len(keep_mask) * 100\n",
    "    print(f\"Dropping {n_drop} rows ({pct:.2f}%) where mode='{mode}'\")"
   ]
  },
  {
   "cell_type": "code",
   "execution_count": 32,
   "id": "5fb8eee5",
   "metadata": {
    "execution": {
     "iopub.execute_input": "2025-07-28T11:05:50.533596Z",
     "iopub.status.busy": "2025-07-28T11:05:50.533177Z",
     "iopub.status.idle": "2025-07-28T11:05:50.578668Z",
     "shell.execute_reply": "2025-07-28T11:05:50.577488Z"
    },
    "papermill": {
     "duration": 0.071548,
     "end_time": "2025-07-28T11:05:50.581034",
     "exception": false,
     "start_time": "2025-07-28T11:05:50.509486",
     "status": "completed"
    },
    "tags": []
   },
   "outputs": [],
   "source": [
    "X_train = X_train[keep_mask]"
   ]
  },
  {
   "cell_type": "code",
   "execution_count": 33,
   "id": "b202bb3a",
   "metadata": {
    "execution": {
     "iopub.execute_input": "2025-07-28T11:05:50.667579Z",
     "iopub.status.busy": "2025-07-28T11:05:50.667155Z",
     "iopub.status.idle": "2025-07-28T11:05:50.674690Z",
     "shell.execute_reply": "2025-07-28T11:05:50.673636Z"
    },
    "papermill": {
     "duration": 0.057544,
     "end_time": "2025-07-28T11:05:50.676491",
     "exception": false,
     "start_time": "2025-07-28T11:05:50.618947",
     "status": "completed"
    },
    "tags": []
   },
   "outputs": [],
   "source": [
    "y_train = y_train[keep_mask]"
   ]
  },
  {
   "cell_type": "markdown",
   "id": "493e2ac3",
   "metadata": {
    "papermill": {
     "duration": 0.062627,
     "end_time": "2025-07-28T11:05:50.764354",
     "exception": false,
     "start_time": "2025-07-28T11:05:50.701727",
     "status": "completed"
    },
    "tags": []
   },
   "source": [
    "# Model Training"
   ]
  },
  {
   "cell_type": "code",
   "execution_count": 34,
   "id": "679e1268",
   "metadata": {
    "execution": {
     "iopub.execute_input": "2025-07-28T11:05:50.866217Z",
     "iopub.status.busy": "2025-07-28T11:05:50.865762Z",
     "iopub.status.idle": "2025-07-28T11:05:51.071608Z",
     "shell.execute_reply": "2025-07-28T11:05:51.070356Z"
    },
    "papermill": {
     "duration": 0.270346,
     "end_time": "2025-07-28T11:05:51.073874",
     "exception": false,
     "start_time": "2025-07-28T11:05:50.803528",
     "status": "completed"
    },
    "tags": []
   },
   "outputs": [],
   "source": [
    "from sklearn.linear_model import LogisticRegression\n",
    "from sklearn.ensemble import GradientBoostingClassifier, RandomForestClassifier\n",
    "\n",
    "if (universe[\"model\"] == \"logreg\"):\n",
    "    model = LogisticRegression() #penalty=\"none\") #, solver=\"newton-cg\", max_iter=1) # include random_state=19 ?\n",
    "elif (universe[\"model\"] == \"penalized_logreg\"):\n",
    "    model = LogisticRegression(penalty=\"l2\", C=1.0) #, solver=\"newton-cg\", max_iter=1)\n",
    "elif (universe[\"model\"] == \"rf\"):\n",
    "    model = RandomForestClassifier(n_estimators=100, n_jobs=-1)\n",
    "elif (universe[\"model\"] == \"gbm\"):\n",
    "    model = GradientBoostingClassifier()\n",
    "elif (universe[\"model\"] == \"elasticnet\"):\n",
    "    model = LogisticRegression(penalty = 'elasticnet', solver = 'saga', l1_ratio = 0.5, max_iter=5000) # which solver to use?\n",
    "else:\n",
    "    raise \"Unsupported universe.model\""
   ]
  },
  {
   "cell_type": "code",
   "execution_count": 35,
   "id": "0cc8f744",
   "metadata": {
    "execution": {
     "iopub.execute_input": "2025-07-28T11:05:51.112426Z",
     "iopub.status.busy": "2025-07-28T11:05:51.111957Z",
     "iopub.status.idle": "2025-07-28T11:05:51.119645Z",
     "shell.execute_reply": "2025-07-28T11:05:51.118509Z"
    },
    "papermill": {
     "duration": 0.025204,
     "end_time": "2025-07-28T11:05:51.122983",
     "exception": false,
     "start_time": "2025-07-28T11:05:51.097779",
     "status": "completed"
    },
    "tags": []
   },
   "outputs": [],
   "source": [
    "import numpy as np\n",
    "from sklearn.pipeline import Pipeline\n",
    "from sklearn.preprocessing import StandardScaler\n",
    "\n",
    "model = Pipeline([\n",
    "    #(\"continuous_processor\", continuous_processor),\n",
    "    #(\"categorical_preprocessor\", categorical_preprocessor),\n",
    "    (\"scale\", StandardScaler() if universe[\"scale\"] == \"scale\" else None), \n",
    "    (\"model\", model),\n",
    "])"
   ]
  },
  {
   "cell_type": "code",
   "execution_count": 36,
   "id": "9442c04d",
   "metadata": {
    "execution": {
     "iopub.execute_input": "2025-07-28T11:05:51.172371Z",
     "iopub.status.busy": "2025-07-28T11:05:51.171963Z",
     "iopub.status.idle": "2025-07-28T11:06:06.118732Z",
     "shell.execute_reply": "2025-07-28T11:06:06.117687Z"
    },
    "papermill": {
     "duration": 14.975015,
     "end_time": "2025-07-28T11:06:06.120401",
     "exception": false,
     "start_time": "2025-07-28T11:05:51.145386",
     "status": "completed"
    },
    "tags": []
   },
   "outputs": [
    {
     "data": {
      "text/html": [
       "<style>#sk-container-id-1 {color: black;background-color: white;}#sk-container-id-1 pre{padding: 0;}#sk-container-id-1 div.sk-toggleable {background-color: white;}#sk-container-id-1 label.sk-toggleable__label {cursor: pointer;display: block;width: 100%;margin-bottom: 0;padding: 0.3em;box-sizing: border-box;text-align: center;}#sk-container-id-1 label.sk-toggleable__label-arrow:before {content: \"▸\";float: left;margin-right: 0.25em;color: #696969;}#sk-container-id-1 label.sk-toggleable__label-arrow:hover:before {color: black;}#sk-container-id-1 div.sk-estimator:hover label.sk-toggleable__label-arrow:before {color: black;}#sk-container-id-1 div.sk-toggleable__content {max-height: 0;max-width: 0;overflow: hidden;text-align: left;background-color: #f0f8ff;}#sk-container-id-1 div.sk-toggleable__content pre {margin: 0.2em;color: black;border-radius: 0.25em;background-color: #f0f8ff;}#sk-container-id-1 input.sk-toggleable__control:checked~div.sk-toggleable__content {max-height: 200px;max-width: 100%;overflow: auto;}#sk-container-id-1 input.sk-toggleable__control:checked~label.sk-toggleable__label-arrow:before {content: \"▾\";}#sk-container-id-1 div.sk-estimator input.sk-toggleable__control:checked~label.sk-toggleable__label {background-color: #d4ebff;}#sk-container-id-1 div.sk-label input.sk-toggleable__control:checked~label.sk-toggleable__label {background-color: #d4ebff;}#sk-container-id-1 input.sk-hidden--visually {border: 0;clip: rect(1px 1px 1px 1px);clip: rect(1px, 1px, 1px, 1px);height: 1px;margin: -1px;overflow: hidden;padding: 0;position: absolute;width: 1px;}#sk-container-id-1 div.sk-estimator {font-family: monospace;background-color: #f0f8ff;border: 1px dotted black;border-radius: 0.25em;box-sizing: border-box;margin-bottom: 0.5em;}#sk-container-id-1 div.sk-estimator:hover {background-color: #d4ebff;}#sk-container-id-1 div.sk-parallel-item::after {content: \"\";width: 100%;border-bottom: 1px solid gray;flex-grow: 1;}#sk-container-id-1 div.sk-label:hover label.sk-toggleable__label {background-color: #d4ebff;}#sk-container-id-1 div.sk-serial::before {content: \"\";position: absolute;border-left: 1px solid gray;box-sizing: border-box;top: 0;bottom: 0;left: 50%;z-index: 0;}#sk-container-id-1 div.sk-serial {display: flex;flex-direction: column;align-items: center;background-color: white;padding-right: 0.2em;padding-left: 0.2em;position: relative;}#sk-container-id-1 div.sk-item {position: relative;z-index: 1;}#sk-container-id-1 div.sk-parallel {display: flex;align-items: stretch;justify-content: center;background-color: white;position: relative;}#sk-container-id-1 div.sk-item::before, #sk-container-id-1 div.sk-parallel-item::before {content: \"\";position: absolute;border-left: 1px solid gray;box-sizing: border-box;top: 0;bottom: 0;left: 50%;z-index: -1;}#sk-container-id-1 div.sk-parallel-item {display: flex;flex-direction: column;z-index: 1;position: relative;background-color: white;}#sk-container-id-1 div.sk-parallel-item:first-child::after {align-self: flex-end;width: 50%;}#sk-container-id-1 div.sk-parallel-item:last-child::after {align-self: flex-start;width: 50%;}#sk-container-id-1 div.sk-parallel-item:only-child::after {width: 0;}#sk-container-id-1 div.sk-dashed-wrapped {border: 1px dashed gray;margin: 0 0.4em 0.5em 0.4em;box-sizing: border-box;padding-bottom: 0.4em;background-color: white;}#sk-container-id-1 div.sk-label label {font-family: monospace;font-weight: bold;display: inline-block;line-height: 1.2em;}#sk-container-id-1 div.sk-label-container {text-align: center;}#sk-container-id-1 div.sk-container {/* jupyter's `normalize.less` sets `[hidden] { display: none; }` but bootstrap.min.css set `[hidden] { display: none !important; }` so we also need the `!important` here to be able to override the default hidden behavior on the sphinx rendered scikit-learn.org. See: https://github.com/scikit-learn/scikit-learn/issues/21755 */display: inline-block !important;position: relative;}#sk-container-id-1 div.sk-text-repr-fallback {display: none;}</style><div id=\"sk-container-id-1\" class=\"sk-top-container\"><div class=\"sk-text-repr-fallback\"><pre>Pipeline(steps=[(&#x27;scale&#x27;, None), (&#x27;model&#x27;, RandomForestClassifier(n_jobs=-1))])</pre><b>In a Jupyter environment, please rerun this cell to show the HTML representation or trust the notebook. <br />On GitHub, the HTML representation is unable to render, please try loading this page with nbviewer.org.</b></div><div class=\"sk-container\" hidden><div class=\"sk-item sk-dashed-wrapped\"><div class=\"sk-label-container\"><div class=\"sk-label sk-toggleable\"><input class=\"sk-toggleable__control sk-hidden--visually\" id=\"sk-estimator-id-1\" type=\"checkbox\" ><label for=\"sk-estimator-id-1\" class=\"sk-toggleable__label sk-toggleable__label-arrow\">Pipeline</label><div class=\"sk-toggleable__content\"><pre>Pipeline(steps=[(&#x27;scale&#x27;, None), (&#x27;model&#x27;, RandomForestClassifier(n_jobs=-1))])</pre></div></div></div><div class=\"sk-serial\"><div class=\"sk-item\"><div class=\"sk-estimator sk-toggleable\"><input class=\"sk-toggleable__control sk-hidden--visually\" id=\"sk-estimator-id-2\" type=\"checkbox\" ><label for=\"sk-estimator-id-2\" class=\"sk-toggleable__label sk-toggleable__label-arrow\">None</label><div class=\"sk-toggleable__content\"><pre>None</pre></div></div></div><div class=\"sk-item\"><div class=\"sk-estimator sk-toggleable\"><input class=\"sk-toggleable__control sk-hidden--visually\" id=\"sk-estimator-id-3\" type=\"checkbox\" ><label for=\"sk-estimator-id-3\" class=\"sk-toggleable__label sk-toggleable__label-arrow\">RandomForestClassifier</label><div class=\"sk-toggleable__content\"><pre>RandomForestClassifier(n_jobs=-1)</pre></div></div></div></div></div></div></div>"
      ],
      "text/plain": [
       "Pipeline(steps=[('scale', None), ('model', RandomForestClassifier(n_jobs=-1))])"
      ]
     },
     "execution_count": 36,
     "metadata": {},
     "output_type": "execute_result"
    }
   ],
   "source": [
    "model.fit(X_train, y_train.values.ravel())"
   ]
  },
  {
   "cell_type": "code",
   "execution_count": 37,
   "id": "af59f8c0",
   "metadata": {
    "execution": {
     "iopub.execute_input": "2025-07-28T11:06:06.219264Z",
     "iopub.status.busy": "2025-07-28T11:06:06.218197Z",
     "iopub.status.idle": "2025-07-28T11:06:06.224543Z",
     "shell.execute_reply": "2025-07-28T11:06:06.223444Z"
    },
    "papermill": {
     "duration": 0.063602,
     "end_time": "2025-07-28T11:06:06.226386",
     "exception": false,
     "start_time": "2025-07-28T11:06:06.162784",
     "status": "completed"
    },
    "tags": []
   },
   "outputs": [],
   "source": [
    "from fairness_multiverse.universe import predict_w_threshold"
   ]
  },
  {
   "cell_type": "code",
   "execution_count": 38,
   "id": "a7cf2e16",
   "metadata": {
    "execution": {
     "iopub.execute_input": "2025-07-28T11:06:06.318701Z",
     "iopub.status.busy": "2025-07-28T11:06:06.318307Z",
     "iopub.status.idle": "2025-07-28T11:06:08.429502Z",
     "shell.execute_reply": "2025-07-28T11:06:08.428160Z"
    },
    "papermill": {
     "duration": 2.154882,
     "end_time": "2025-07-28T11:06:08.431535",
     "exception": false,
     "start_time": "2025-07-28T11:06:06.276653",
     "status": "completed"
    },
    "tags": []
   },
   "outputs": [
    {
     "data": {
      "text/plain": [
       "0.8660907368186378"
      ]
     },
     "execution_count": 38,
     "metadata": {},
     "output_type": "execute_result"
    }
   ],
   "source": [
    "probs_test = model.predict_proba(X_test)\n",
    "\n",
    "'''\n",
    "Below code returns a boolean array (or binary 0/1 array depending on how it’s used) where each element \n",
    "is True if the probability of class 1 is greater than or equal to the threshold, and False otherwise.\n",
    "'''\n",
    "y_pred_default = predict_w_threshold(probs_test, 0.5)\n",
    "\n",
    "from sklearn.metrics import accuracy_score\n",
    "\n",
    "# Naive prediction\n",
    "accuracy_score(y_true = y_true, y_pred = y_pred_default)"
   ]
  },
  {
   "cell_type": "code",
   "execution_count": 39,
   "id": "081964c3",
   "metadata": {
    "execution": {
     "iopub.execute_input": "2025-07-28T11:06:08.526515Z",
     "iopub.status.busy": "2025-07-28T11:06:08.526090Z",
     "iopub.status.idle": "2025-07-28T11:06:09.976088Z",
     "shell.execute_reply": "2025-07-28T11:06:09.975007Z"
    },
    "papermill": {
     "duration": 1.493425,
     "end_time": "2025-07-28T11:06:09.977763",
     "exception": false,
     "start_time": "2025-07-28T11:06:08.484338",
     "status": "completed"
    },
    "tags": []
   },
   "outputs": [
    {
     "data": {
      "text/plain": [
       "array([0, 0, 0, ..., 0, 0, 0])"
      ]
     },
     "execution_count": 39,
     "metadata": {},
     "output_type": "execute_result"
    }
   ],
   "source": [
    "model.predict(X_test)"
   ]
  },
  {
   "cell_type": "markdown",
   "id": "56c9705b",
   "metadata": {
    "papermill": {
     "duration": 0.023167,
     "end_time": "2025-07-28T11:06:10.029280",
     "exception": false,
     "start_time": "2025-07-28T11:06:10.006113",
     "status": "completed"
    },
    "tags": []
   },
   "source": [
    "# Conformal Prediction"
   ]
  },
  {
   "cell_type": "code",
   "execution_count": 40,
   "id": "160ec6ff",
   "metadata": {
    "execution": {
     "iopub.execute_input": "2025-07-28T11:06:10.078152Z",
     "iopub.status.busy": "2025-07-28T11:06:10.077400Z",
     "iopub.status.idle": "2025-07-28T11:06:10.083117Z",
     "shell.execute_reply": "2025-07-28T11:06:10.082123Z"
    },
    "papermill": {
     "duration": 0.032249,
     "end_time": "2025-07-28T11:06:10.085031",
     "exception": false,
     "start_time": "2025-07-28T11:06:10.052782",
     "status": "completed"
    },
    "tags": []
   },
   "outputs": [],
   "source": [
    "# Miscoverage level for conformal prediction (10% allowed error rate => 90% target coverage)\n",
    "alpha = 0.1"
   ]
  },
  {
   "cell_type": "code",
   "execution_count": 41,
   "id": "eadf4555-3dd3-440e-8e35-f82a4ad9f855",
   "metadata": {
    "execution": {
     "iopub.execute_input": "2025-07-28T11:06:10.147722Z",
     "iopub.status.busy": "2025-07-28T11:06:10.147169Z",
     "iopub.status.idle": "2025-07-28T11:06:11.726659Z",
     "shell.execute_reply": "2025-07-28T11:06:11.725608Z"
    },
    "papermill": {
     "duration": 1.61956,
     "end_time": "2025-07-28T11:06:11.728718",
     "exception": false,
     "start_time": "2025-07-28T11:06:10.109158",
     "status": "completed"
    },
    "tags": []
   },
   "outputs": [],
   "source": [
    "probs_calib = model.predict_proba(X_calib)"
   ]
  },
  {
   "cell_type": "code",
   "execution_count": 42,
   "id": "2ed93547-6d5d-4983-9b36-1ecb300da49a",
   "metadata": {
    "execution": {
     "iopub.execute_input": "2025-07-28T11:06:11.867157Z",
     "iopub.status.busy": "2025-07-28T11:06:11.866691Z",
     "iopub.status.idle": "2025-07-28T11:06:11.874195Z",
     "shell.execute_reply": "2025-07-28T11:06:11.872895Z"
    },
    "papermill": {
     "duration": 0.077756,
     "end_time": "2025-07-28T11:06:11.876497",
     "exception": false,
     "start_time": "2025-07-28T11:06:11.798741",
     "status": "completed"
    },
    "tags": []
   },
   "outputs": [],
   "source": [
    "y_calib = y_calib.values.ravel().astype(int)"
   ]
  },
  {
   "cell_type": "code",
   "execution_count": 43,
   "id": "65d1320d-f588-4b38-9072-62af1ae97f7d",
   "metadata": {
    "execution": {
     "iopub.execute_input": "2025-07-28T11:06:11.999223Z",
     "iopub.status.busy": "2025-07-28T11:06:11.998742Z",
     "iopub.status.idle": "2025-07-28T11:06:12.006997Z",
     "shell.execute_reply": "2025-07-28T11:06:12.005936Z"
    },
    "papermill": {
     "duration": 0.077704,
     "end_time": "2025-07-28T11:06:12.009258",
     "exception": false,
     "start_time": "2025-07-28T11:06:11.931554",
     "status": "completed"
    },
    "tags": []
   },
   "outputs": [],
   "source": [
    "from fairness_multiverse.conformal import compute_nc_scores\n",
    "\n",
    "# Compute nonconformity scores on calibration set (1 - probability of true class)\n",
    "nc_scores = compute_nc_scores(probs_calib, y_calib)"
   ]
  },
  {
   "cell_type": "code",
   "execution_count": 44,
   "id": "df3b8ca3-53b7-43d5-9667-7c85da7aeda2",
   "metadata": {
    "execution": {
     "iopub.execute_input": "2025-07-28T11:06:12.120898Z",
     "iopub.status.busy": "2025-07-28T11:06:12.120447Z",
     "iopub.status.idle": "2025-07-28T11:06:12.128244Z",
     "shell.execute_reply": "2025-07-28T11:06:12.127195Z"
    },
    "papermill": {
     "duration": 0.042551,
     "end_time": "2025-07-28T11:06:12.131368",
     "exception": false,
     "start_time": "2025-07-28T11:06:12.088817",
     "status": "completed"
    },
    "tags": []
   },
   "outputs": [],
   "source": [
    "from fairness_multiverse.conformal import find_threshold\n",
    "\n",
    "# Find conformal threshold q_hat for the given alpha (split conformal method)\n",
    "q_hat = find_threshold(nc_scores, alpha)"
   ]
  },
  {
   "cell_type": "code",
   "execution_count": 45,
   "id": "4d29e6c1-0ef6-4aa4-b8fe-4fe79b0d033a",
   "metadata": {
    "execution": {
     "iopub.execute_input": "2025-07-28T11:06:12.177188Z",
     "iopub.status.busy": "2025-07-28T11:06:12.176740Z",
     "iopub.status.idle": "2025-07-28T11:06:12.185314Z",
     "shell.execute_reply": "2025-07-28T11:06:12.184247Z"
    },
    "papermill": {
     "duration": 0.03563,
     "end_time": "2025-07-28T11:06:12.190168",
     "exception": false,
     "start_time": "2025-07-28T11:06:12.154538",
     "status": "completed"
    },
    "tags": []
   },
   "outputs": [
    {
     "data": {
      "text/plain": [
       "0.6599999999999999"
      ]
     },
     "execution_count": 45,
     "metadata": {},
     "output_type": "execute_result"
    }
   ],
   "source": [
    "q_hat"
   ]
  },
  {
   "cell_type": "code",
   "execution_count": 46,
   "id": "92460794-cdac-4be2-ba28-f28c0515a6fb",
   "metadata": {
    "execution": {
     "iopub.execute_input": "2025-07-28T11:06:12.293055Z",
     "iopub.status.busy": "2025-07-28T11:06:12.292548Z",
     "iopub.status.idle": "2025-07-28T11:06:14.870335Z",
     "shell.execute_reply": "2025-07-28T11:06:14.869210Z"
    },
    "papermill": {
     "duration": 2.620395,
     "end_time": "2025-07-28T11:06:14.872316",
     "exception": false,
     "start_time": "2025-07-28T11:06:12.251921",
     "status": "completed"
    },
    "tags": []
   },
   "outputs": [],
   "source": [
    "from fairness_multiverse.conformal import predict_conformal_sets\n",
    "\n",
    "# Generate prediction sets for each test example\n",
    "pred_sets = predict_conformal_sets(model, X_test, q_hat)"
   ]
  },
  {
   "cell_type": "code",
   "execution_count": 47,
   "id": "d90c9a65-e6db-4f5d-80cd-e68fb7e46829",
   "metadata": {
    "execution": {
     "iopub.execute_input": "2025-07-28T11:06:15.006515Z",
     "iopub.status.busy": "2025-07-28T11:06:15.005920Z",
     "iopub.status.idle": "2025-07-28T11:06:15.012293Z",
     "shell.execute_reply": "2025-07-28T11:06:15.011334Z"
    },
    "papermill": {
     "duration": 0.07754,
     "end_time": "2025-07-28T11:06:15.014229",
     "exception": false,
     "start_time": "2025-07-28T11:06:14.936689",
     "status": "completed"
    },
    "tags": []
   },
   "outputs": [],
   "source": [
    "y_true = y_true.squeeze()"
   ]
  },
  {
   "cell_type": "code",
   "execution_count": 48,
   "id": "3a58a54a-1e68-46b9-927a-df01f18aebc8",
   "metadata": {
    "execution": {
     "iopub.execute_input": "2025-07-28T11:06:15.142648Z",
     "iopub.status.busy": "2025-07-28T11:06:15.141886Z",
     "iopub.status.idle": "2025-07-28T11:06:17.357227Z",
     "shell.execute_reply": "2025-07-28T11:06:17.356118Z"
    },
    "papermill": {
     "duration": 2.282542,
     "end_time": "2025-07-28T11:06:17.359166",
     "exception": false,
     "start_time": "2025-07-28T11:06:15.076624",
     "status": "completed"
    },
    "tags": []
   },
   "outputs": [],
   "source": [
    "from fairness_multiverse.conformal import evaluate_sets\n",
    "\n",
    "# Evaluate coverage and average set size on test data\n",
    "metrics = evaluate_sets(pred_sets, y_true)"
   ]
  },
  {
   "cell_type": "markdown",
   "id": "2b569c12-9aaa-4c88-98c9-bbcd0cf3ebb8",
   "metadata": {
    "papermill": {
     "duration": 0.052274,
     "end_time": "2025-07-28T11:06:17.464876",
     "exception": false,
     "start_time": "2025-07-28T11:06:17.412602",
     "status": "completed"
    },
    "tags": []
   },
   "source": [
    "# CP Metrics"
   ]
  },
  {
   "cell_type": "code",
   "execution_count": 49,
   "id": "5ce0a5cb-201f-45a0-ade5-94c7f0bd6095",
   "metadata": {
    "execution": {
     "iopub.execute_input": "2025-07-28T11:06:17.568928Z",
     "iopub.status.busy": "2025-07-28T11:06:17.568138Z",
     "iopub.status.idle": "2025-07-28T11:06:17.576565Z",
     "shell.execute_reply": "2025-07-28T11:06:17.575432Z"
    },
    "papermill": {
     "duration": 0.061493,
     "end_time": "2025-07-28T11:06:17.578171",
     "exception": false,
     "start_time": "2025-07-28T11:06:17.516678",
     "status": "completed"
    },
    "tags": []
   },
   "outputs": [
    {
     "data": {
      "text/plain": [
       "{'coverage': 0.9165087504180136, 'avg_size': 1.142570504960428}"
      ]
     },
     "execution_count": 49,
     "metadata": {},
     "output_type": "execute_result"
    }
   ],
   "source": [
    "metrics"
   ]
  },
  {
   "cell_type": "code",
   "execution_count": 50,
   "id": "9b9a838d-31c9-430b-ae14-12baee460d17",
   "metadata": {
    "execution": {
     "iopub.execute_input": "2025-07-28T11:06:17.684816Z",
     "iopub.status.busy": "2025-07-28T11:06:17.684412Z",
     "iopub.status.idle": "2025-07-28T11:06:17.692674Z",
     "shell.execute_reply": "2025-07-28T11:06:17.691695Z"
    },
    "papermill": {
     "duration": 0.061864,
     "end_time": "2025-07-28T11:06:17.694600",
     "exception": false,
     "start_time": "2025-07-28T11:06:17.632736",
     "status": "completed"
    },
    "tags": []
   },
   "outputs": [],
   "source": [
    "example_universe = universe.copy()\n",
    "universe_training_size = example_universe.get(\"training_size\")\n",
    "universe_scale = example_universe.get(\"scale\")\n",
    "universe_model = example_universe.get(\"model\")\n",
    "universe_exclude_features = example_universe.get(\"exclude_features\")\n",
    "universe_exclude_subgroups = example_universe.get(\"exclude_subgroups\")"
   ]
  },
  {
   "cell_type": "code",
   "execution_count": 51,
   "id": "f4b6a8ac-9dc0-4245-8a91-5b3b5999c4f9",
   "metadata": {
    "execution": {
     "iopub.execute_input": "2025-07-28T11:06:17.798738Z",
     "iopub.status.busy": "2025-07-28T11:06:17.798303Z",
     "iopub.status.idle": "2025-07-28T11:06:17.805764Z",
     "shell.execute_reply": "2025-07-28T11:06:17.804589Z"
    },
    "papermill": {
     "duration": 0.055411,
     "end_time": "2025-07-28T11:06:17.808067",
     "exception": false,
     "start_time": "2025-07-28T11:06:17.752656",
     "status": "completed"
    },
    "tags": []
   },
   "outputs": [],
   "source": [
    "cp_metrics_dict = {\n",
    "    \"universe_id\": [universe_id],\n",
    "    \"universe_training_size\": [universe_training_size],\n",
    "    \"universe_scale\": [universe_scale],\n",
    "    \"universe_model\": [universe_model],\n",
    "    \"universe_exclude_features\": [universe_exclude_features],\n",
    "    \"universe_exclude_subgroups\": [universe_exclude_subgroups],\n",
    "    \"q_hat\": [q_hat],\n",
    "    \"coverage\": [metrics[\"coverage\"]],\n",
    "    \"avg_size\": [metrics[\"avg_size\"]],\n",
    "}"
   ]
  },
  {
   "cell_type": "code",
   "execution_count": 52,
   "id": "908acbb1-0371-4915-85ca-3fa520d2efe2",
   "metadata": {
    "execution": {
     "iopub.execute_input": "2025-07-28T11:06:17.916224Z",
     "iopub.status.busy": "2025-07-28T11:06:17.915652Z",
     "iopub.status.idle": "2025-07-28T11:06:17.925686Z",
     "shell.execute_reply": "2025-07-28T11:06:17.924664Z"
    },
    "papermill": {
     "duration": 0.064786,
     "end_time": "2025-07-28T11:06:17.928761",
     "exception": false,
     "start_time": "2025-07-28T11:06:17.863975",
     "status": "completed"
    },
    "tags": []
   },
   "outputs": [
    {
     "data": {
      "text/plain": [
       "{'universe_id': ['e46176b5e9dd251bdb8c0385e2bdfc5e'],\n",
       " 'universe_training_size': ['2014'],\n",
       " 'universe_scale': ['do-not-scale'],\n",
       " 'universe_model': ['rf'],\n",
       " 'universe_exclude_features': ['nationality'],\n",
       " 'universe_exclude_subgroups': ['drop-non-german'],\n",
       " 'q_hat': [0.6599999999999999],\n",
       " 'coverage': [0.9165087504180136],\n",
       " 'avg_size': [1.142570504960428]}"
      ]
     },
     "execution_count": 52,
     "metadata": {},
     "output_type": "execute_result"
    }
   ],
   "source": [
    "cp_metrics_dict"
   ]
  },
  {
   "cell_type": "code",
   "execution_count": 53,
   "id": "33007efc-14e9-4ec6-97ac-56a455c82265",
   "metadata": {
    "execution": {
     "iopub.execute_input": "2025-07-28T11:06:18.043325Z",
     "iopub.status.busy": "2025-07-28T11:06:18.042877Z",
     "iopub.status.idle": "2025-07-28T11:06:18.051441Z",
     "shell.execute_reply": "2025-07-28T11:06:18.050346Z"
    },
    "papermill": {
     "duration": 0.068726,
     "end_time": "2025-07-28T11:06:18.053375",
     "exception": false,
     "start_time": "2025-07-28T11:06:17.984649",
     "status": "completed"
    },
    "tags": []
   },
   "outputs": [],
   "source": [
    "cp_metrics_df = pd.DataFrame(cp_metrics_dict)"
   ]
  },
  {
   "cell_type": "code",
   "execution_count": 54,
   "id": "db12611b-57b2-4910-b9d0-355adfd6e7bf",
   "metadata": {
    "execution": {
     "iopub.execute_input": "2025-07-28T11:06:18.166958Z",
     "iopub.status.busy": "2025-07-28T11:06:18.166546Z",
     "iopub.status.idle": "2025-07-28T11:06:18.209598Z",
     "shell.execute_reply": "2025-07-28T11:06:18.208216Z"
    },
    "papermill": {
     "duration": 0.102949,
     "end_time": "2025-07-28T11:06:18.211883",
     "exception": false,
     "start_time": "2025-07-28T11:06:18.108934",
     "status": "completed"
    },
    "tags": []
   },
   "outputs": [
    {
     "data": {
      "text/html": [
       "<div>\n",
       "<style scoped>\n",
       "    .dataframe tbody tr th:only-of-type {\n",
       "        vertical-align: middle;\n",
       "    }\n",
       "\n",
       "    .dataframe tbody tr th {\n",
       "        vertical-align: top;\n",
       "    }\n",
       "\n",
       "    .dataframe thead th {\n",
       "        text-align: right;\n",
       "    }\n",
       "</style>\n",
       "<table border=\"1\" class=\"dataframe\">\n",
       "  <thead>\n",
       "    <tr style=\"text-align: right;\">\n",
       "      <th></th>\n",
       "      <th>universe_id</th>\n",
       "      <th>universe_training_size</th>\n",
       "      <th>universe_scale</th>\n",
       "      <th>universe_model</th>\n",
       "      <th>universe_exclude_features</th>\n",
       "      <th>universe_exclude_subgroups</th>\n",
       "      <th>q_hat</th>\n",
       "      <th>coverage</th>\n",
       "      <th>avg_size</th>\n",
       "    </tr>\n",
       "  </thead>\n",
       "  <tbody>\n",
       "    <tr>\n",
       "      <th>0</th>\n",
       "      <td>e46176b5e9dd251bdb8c0385e2bdfc5e</td>\n",
       "      <td>2014</td>\n",
       "      <td>do-not-scale</td>\n",
       "      <td>rf</td>\n",
       "      <td>nationality</td>\n",
       "      <td>drop-non-german</td>\n",
       "      <td>0.66</td>\n",
       "      <td>0.916509</td>\n",
       "      <td>1.142571</td>\n",
       "    </tr>\n",
       "  </tbody>\n",
       "</table>\n",
       "</div>"
      ],
      "text/plain": [
       "                        universe_id universe_training_size universe_scale  \\\n",
       "0  e46176b5e9dd251bdb8c0385e2bdfc5e                   2014   do-not-scale   \n",
       "\n",
       "  universe_model universe_exclude_features universe_exclude_subgroups  q_hat  \\\n",
       "0             rf               nationality            drop-non-german   0.66   \n",
       "\n",
       "   coverage  avg_size  \n",
       "0  0.916509  1.142571  "
      ]
     },
     "execution_count": 54,
     "metadata": {},
     "output_type": "execute_result"
    }
   ],
   "source": [
    "cp_metrics_df"
   ]
  },
  {
   "cell_type": "code",
   "execution_count": 55,
   "id": "b7fbde55-a0a1-47e4-9af6-fe4a17fa8c61",
   "metadata": {
    "execution": {
     "iopub.execute_input": "2025-07-28T11:06:18.306985Z",
     "iopub.status.busy": "2025-07-28T11:06:18.306564Z",
     "iopub.status.idle": "2025-07-28T11:06:18.313668Z",
     "shell.execute_reply": "2025-07-28T11:06:18.312620Z"
    },
    "papermill": {
     "duration": 0.063148,
     "end_time": "2025-07-28T11:06:18.315785",
     "exception": false,
     "start_time": "2025-07-28T11:06:18.252637",
     "status": "completed"
    },
    "tags": []
   },
   "outputs": [],
   "source": [
    "# Conditional Coverage & looking at subgroups"
   ]
  },
  {
   "cell_type": "code",
   "execution_count": 56,
   "id": "027ae886-68dd-4141-96c7-805a5450e1ef",
   "metadata": {
    "execution": {
     "iopub.execute_input": "2025-07-28T11:06:18.431258Z",
     "iopub.status.busy": "2025-07-28T11:06:18.430794Z",
     "iopub.status.idle": "2025-07-28T11:06:19.058394Z",
     "shell.execute_reply": "2025-07-28T11:06:19.057302Z"
    },
    "papermill": {
     "duration": 0.68806,
     "end_time": "2025-07-28T11:06:19.060825",
     "exception": false,
     "start_time": "2025-07-28T11:06:18.372765",
     "status": "completed"
    },
    "tags": []
   },
   "outputs": [],
   "source": [
    "from fairness_multiverse.conformal import build_cp_groups\n",
    "\n",
    "cp_groups_df = build_cp_groups(pred_sets, y_true, X_test.index, org_test)\n",
    "#needs universe_id and setting"
   ]
  },
  {
   "cell_type": "code",
   "execution_count": 57,
   "id": "01d5802c-663a-4d1f-9d69-e036faaffbf7",
   "metadata": {
    "execution": {
     "iopub.execute_input": "2025-07-28T11:06:19.173787Z",
     "iopub.status.busy": "2025-07-28T11:06:19.173357Z",
     "iopub.status.idle": "2025-07-28T11:06:19.179356Z",
     "shell.execute_reply": "2025-07-28T11:06:19.178143Z"
    },
    "papermill": {
     "duration": 0.039763,
     "end_time": "2025-07-28T11:06:19.182727",
     "exception": false,
     "start_time": "2025-07-28T11:06:19.142964",
     "status": "completed"
    },
    "tags": []
   },
   "outputs": [],
   "source": [
    "#delete\n",
    "#cp_groups_df"
   ]
  },
  {
   "cell_type": "code",
   "execution_count": 58,
   "id": "fa424af1-d1eb-443d-b717-2d279ada8408",
   "metadata": {
    "execution": {
     "iopub.execute_input": "2025-07-28T11:06:19.259214Z",
     "iopub.status.busy": "2025-07-28T11:06:19.258760Z",
     "iopub.status.idle": "2025-07-28T11:06:19.267262Z",
     "shell.execute_reply": "2025-07-28T11:06:19.266046Z"
    },
    "papermill": {
     "duration": 0.061741,
     "end_time": "2025-07-28T11:06:19.274115",
     "exception": false,
     "start_time": "2025-07-28T11:06:19.212374",
     "status": "completed"
    },
    "tags": []
   },
   "outputs": [],
   "source": [
    "#delete\n",
    "#percentage = (cp_groups_df['nongerman_female'] == 1).mean() * 100\n",
    "#print(percentage)\n"
   ]
  },
  {
   "cell_type": "code",
   "execution_count": 59,
   "id": "6cbdab96-b2b2-45af-ad54-d0516db2e28d",
   "metadata": {
    "execution": {
     "iopub.execute_input": "2025-07-28T11:06:19.408999Z",
     "iopub.status.busy": "2025-07-28T11:06:19.408583Z",
     "iopub.status.idle": "2025-07-28T11:06:25.275905Z",
     "shell.execute_reply": "2025-07-28T11:06:25.274427Z"
    },
    "papermill": {
     "duration": 5.929266,
     "end_time": "2025-07-28T11:06:25.278009",
     "exception": false,
     "start_time": "2025-07-28T11:06:19.348743",
     "status": "completed"
    },
    "tags": []
   },
   "outputs": [],
   "source": [
    "# Define covered = 1 if true_label is in the predicted set\n",
    "cp_groups_df['covered'] = cp_groups_df.apply(\n",
    "    lambda r: int(r['true_label'] in r['pred_set']),\n",
    "    axis=1\n",
    ")"
   ]
  },
  {
   "cell_type": "code",
   "execution_count": 60,
   "id": "338ff529-1a6b-4b87-a931-8e4788d52aad",
   "metadata": {
    "execution": {
     "iopub.execute_input": "2025-07-28T11:06:25.437778Z",
     "iopub.status.busy": "2025-07-28T11:06:25.437281Z",
     "iopub.status.idle": "2025-07-28T11:06:25.444542Z",
     "shell.execute_reply": "2025-07-28T11:06:25.443404Z"
    },
    "papermill": {
     "duration": 0.112371,
     "end_time": "2025-07-28T11:06:25.447023",
     "exception": false,
     "start_time": "2025-07-28T11:06:25.334652",
     "status": "completed"
    },
    "tags": []
   },
   "outputs": [],
   "source": [
    "#cp_groups_df"
   ]
  },
  {
   "cell_type": "code",
   "execution_count": 61,
   "id": "90032e27-66df-4540-9169-4e89cfbaa758",
   "metadata": {
    "execution": {
     "iopub.execute_input": "2025-07-28T11:06:25.610440Z",
     "iopub.status.busy": "2025-07-28T11:06:25.609986Z",
     "iopub.status.idle": "2025-07-28T11:06:25.632329Z",
     "shell.execute_reply": "2025-07-28T11:06:25.630926Z"
    },
    "papermill": {
     "duration": 0.106207,
     "end_time": "2025-07-28T11:06:25.634842",
     "exception": false,
     "start_time": "2025-07-28T11:06:25.528635",
     "status": "completed"
    },
    "tags": []
   },
   "outputs": [],
   "source": [
    "subgroups = ['frau1','nongerman','nongerman_male','nongerman_female']\n",
    "\n",
    "# Conditional coverage for subgroup==1\n",
    "cond_coverage = {\n",
    "    g: cp_groups_df.loc[cp_groups_df[g]==1, 'covered'].mean()\n",
    "    for g in subgroups\n",
    "}"
   ]
  },
  {
   "cell_type": "code",
   "execution_count": 62,
   "id": "1e348fb1-b9c3-45bc-ba23-f016827a7e0d",
   "metadata": {
    "execution": {
     "iopub.execute_input": "2025-07-28T11:06:25.806715Z",
     "iopub.status.busy": "2025-07-28T11:06:25.806232Z",
     "iopub.status.idle": "2025-07-28T11:06:25.816771Z",
     "shell.execute_reply": "2025-07-28T11:06:25.815319Z"
    },
    "papermill": {
     "duration": 0.091234,
     "end_time": "2025-07-28T11:06:25.819547",
     "exception": false,
     "start_time": "2025-07-28T11:06:25.728313",
     "status": "completed"
    },
    "tags": []
   },
   "outputs": [
    {
     "data": {
      "text/plain": [
       "{'frau1': 0.9158916295996765,\n",
       " 'nongerman': 0.9124235109189918,\n",
       " 'nongerman_male': 0.9268666126272179,\n",
       " 'nongerman_female': 0.8885245901639345}"
      ]
     },
     "execution_count": 62,
     "metadata": {},
     "output_type": "execute_result"
    }
   ],
   "source": [
    "cond_coverage"
   ]
  },
  {
   "cell_type": "code",
   "execution_count": 63,
   "id": "f5093324-c3dd-4d63-bc4c-8d945e5c8bbb",
   "metadata": {
    "execution": {
     "iopub.execute_input": "2025-07-28T11:06:26.034622Z",
     "iopub.status.busy": "2025-07-28T11:06:26.034196Z",
     "iopub.status.idle": "2025-07-28T11:06:26.043448Z",
     "shell.execute_reply": "2025-07-28T11:06:26.042489Z"
    },
    "papermill": {
     "duration": 0.113512,
     "end_time": "2025-07-28T11:06:26.045678",
     "exception": false,
     "start_time": "2025-07-28T11:06:25.932166",
     "status": "completed"
    },
    "tags": []
   },
   "outputs": [],
   "source": [
    "for subgroup, cov in cond_coverage.items():\n",
    "    cp_metrics_df[f\"cov_{subgroup}\"] = cov"
   ]
  },
  {
   "cell_type": "code",
   "execution_count": 64,
   "id": "6e872e10-dbe5-49e8-b554-5030c98ff75d",
   "metadata": {
    "execution": {
     "iopub.execute_input": "2025-07-28T11:06:26.210208Z",
     "iopub.status.busy": "2025-07-28T11:06:26.209753Z",
     "iopub.status.idle": "2025-07-28T11:06:26.266542Z",
     "shell.execute_reply": "2025-07-28T11:06:26.265388Z"
    },
    "papermill": {
     "duration": 0.132845,
     "end_time": "2025-07-28T11:06:26.269153",
     "exception": false,
     "start_time": "2025-07-28T11:06:26.136308",
     "status": "completed"
    },
    "tags": []
   },
   "outputs": [
    {
     "data": {
      "text/html": [
       "<div>\n",
       "<style scoped>\n",
       "    .dataframe tbody tr th:only-of-type {\n",
       "        vertical-align: middle;\n",
       "    }\n",
       "\n",
       "    .dataframe tbody tr th {\n",
       "        vertical-align: top;\n",
       "    }\n",
       "\n",
       "    .dataframe thead th {\n",
       "        text-align: right;\n",
       "    }\n",
       "</style>\n",
       "<table border=\"1\" class=\"dataframe\">\n",
       "  <thead>\n",
       "    <tr style=\"text-align: right;\">\n",
       "      <th></th>\n",
       "      <th>universe_id</th>\n",
       "      <th>universe_training_size</th>\n",
       "      <th>universe_scale</th>\n",
       "      <th>universe_model</th>\n",
       "      <th>universe_exclude_features</th>\n",
       "      <th>universe_exclude_subgroups</th>\n",
       "      <th>q_hat</th>\n",
       "      <th>coverage</th>\n",
       "      <th>avg_size</th>\n",
       "      <th>cov_frau1</th>\n",
       "      <th>cov_nongerman</th>\n",
       "      <th>cov_nongerman_male</th>\n",
       "      <th>cov_nongerman_female</th>\n",
       "    </tr>\n",
       "  </thead>\n",
       "  <tbody>\n",
       "    <tr>\n",
       "      <th>0</th>\n",
       "      <td>e46176b5e9dd251bdb8c0385e2bdfc5e</td>\n",
       "      <td>2014</td>\n",
       "      <td>do-not-scale</td>\n",
       "      <td>rf</td>\n",
       "      <td>nationality</td>\n",
       "      <td>drop-non-german</td>\n",
       "      <td>0.66</td>\n",
       "      <td>0.916509</td>\n",
       "      <td>1.142571</td>\n",
       "      <td>0.915892</td>\n",
       "      <td>0.912424</td>\n",
       "      <td>0.926867</td>\n",
       "      <td>0.888525</td>\n",
       "    </tr>\n",
       "  </tbody>\n",
       "</table>\n",
       "</div>"
      ],
      "text/plain": [
       "                        universe_id universe_training_size universe_scale  \\\n",
       "0  e46176b5e9dd251bdb8c0385e2bdfc5e                   2014   do-not-scale   \n",
       "\n",
       "  universe_model universe_exclude_features universe_exclude_subgroups  q_hat  \\\n",
       "0             rf               nationality            drop-non-german   0.66   \n",
       "\n",
       "   coverage  avg_size  cov_frau1  cov_nongerman  cov_nongerman_male  \\\n",
       "0  0.916509  1.142571   0.915892       0.912424            0.926867   \n",
       "\n",
       "   cov_nongerman_female  \n",
       "0              0.888525  "
      ]
     },
     "execution_count": 64,
     "metadata": {},
     "output_type": "execute_result"
    }
   ],
   "source": [
    "cp_metrics_df"
   ]
  },
  {
   "cell_type": "markdown",
   "id": "33774451",
   "metadata": {
    "papermill": {
     "duration": 0.091865,
     "end_time": "2025-07-28T11:06:26.588612",
     "exception": false,
     "start_time": "2025-07-28T11:06:26.496747",
     "status": "completed"
    },
    "tags": []
   },
   "source": [
    "# (Fairness) Metrics"
   ]
  },
  {
   "cell_type": "code",
   "execution_count": 65,
   "id": "debc5d62",
   "metadata": {
    "execution": {
     "iopub.execute_input": "2025-07-28T11:06:26.766514Z",
     "iopub.status.busy": "2025-07-28T11:06:26.766054Z",
     "iopub.status.idle": "2025-07-28T11:06:26.813531Z",
     "shell.execute_reply": "2025-07-28T11:06:26.812296Z"
    },
    "papermill": {
     "duration": 0.146716,
     "end_time": "2025-07-28T11:06:26.815426",
     "exception": false,
     "start_time": "2025-07-28T11:06:26.668710",
     "status": "completed"
    },
    "tags": []
   },
   "outputs": [],
   "source": [
    "# do I need to include maxdeutsch1.missing?\n",
    "\n",
    "import numpy as np\n",
    "\n",
    "colname_to_bin = \"maxdeutsch1\"\n",
    "majority_value = org_train[colname_to_bin].mode()[0]\n",
    "\n",
    "org_test[\"majmin\"] = np.where(org_test[colname_to_bin] == majority_value, \"majority\", \"minority\")"
   ]
  },
  {
   "cell_type": "code",
   "execution_count": 66,
   "id": "06a50de5",
   "metadata": {
    "execution": {
     "iopub.execute_input": "2025-07-28T11:06:26.986872Z",
     "iopub.status.busy": "2025-07-28T11:06:26.986441Z",
     "iopub.status.idle": "2025-07-28T11:06:33.533294Z",
     "shell.execute_reply": "2025-07-28T11:06:33.532099Z"
    },
    "papermill": {
     "duration": 6.642428,
     "end_time": "2025-07-28T11:06:33.535213",
     "exception": false,
     "start_time": "2025-07-28T11:06:26.892785",
     "status": "completed"
    },
    "tags": []
   },
   "outputs": [],
   "source": [
    "example_universe = universe.copy()\n",
    "example_universe[\"cutoff\"] = example_universe[\"cutoff\"][0]\n",
    "example_universe[\"eval_fairness_grouping\"] = example_universe[\"eval_fairness_grouping\"][0]\n",
    "fairness_dict, metric_frame = universe_analysis.compute_metrics(\n",
    "    example_universe,\n",
    "    y_pred_prob=probs_test,\n",
    "    y_test=y_true,\n",
    "    org_test=org_test,\n",
    ")"
   ]
  },
  {
   "cell_type": "markdown",
   "id": "f95d4e02",
   "metadata": {
    "papermill": {
     "duration": 0.076868,
     "end_time": "2025-07-28T11:06:33.652436",
     "exception": false,
     "start_time": "2025-07-28T11:06:33.575568",
     "status": "completed"
    },
    "tags": []
   },
   "source": [
    "# Overall"
   ]
  },
  {
   "cell_type": "markdown",
   "id": "bdee4871",
   "metadata": {
    "papermill": {
     "duration": 0.057552,
     "end_time": "2025-07-28T11:06:33.760980",
     "exception": false,
     "start_time": "2025-07-28T11:06:33.703428",
     "status": "completed"
    },
    "tags": []
   },
   "source": [
    "Fairness\n",
    "Main fairness target: Equalized Odds. Seems to be a better fit than equal opportunity, since we're not only interested in Y = 1. Seems to be a better fit than demographic parity, since we also care about accuracy, not just equal distribution of preds.\n",
    "\n",
    "Pick column for computation of fairness metrics\n",
    "\n",
    "Performance\n",
    "Overall performance measures, most interesting in relation to the measures split by group below"
   ]
  },
  {
   "cell_type": "code",
   "execution_count": 67,
   "id": "c4e067c6",
   "metadata": {
    "execution": {
     "iopub.execute_input": "2025-07-28T11:06:33.831316Z",
     "iopub.status.busy": "2025-07-28T11:06:33.830813Z",
     "iopub.status.idle": "2025-07-28T11:06:33.839880Z",
     "shell.execute_reply": "2025-07-28T11:06:33.838952Z"
    },
    "papermill": {
     "duration": 0.052481,
     "end_time": "2025-07-28T11:06:33.841651",
     "exception": false,
     "start_time": "2025-07-28T11:06:33.789170",
     "status": "completed"
    },
    "tags": []
   },
   "outputs": [
    {
     "data": {
      "text/plain": [
       "accuracy                   0.207803\n",
       "balanced accuracy          0.534682\n",
       "f1                         0.239866\n",
       "precision                  0.136767\n",
       "false positive rate        0.905002\n",
       "false negative rate        0.025634\n",
       "selection rate             0.913900\n",
       "count                  89710.000000\n",
       "dtype: float64"
      ]
     },
     "execution_count": 67,
     "metadata": {},
     "output_type": "execute_result"
    }
   ],
   "source": [
    "metric_frame.overall"
   ]
  },
  {
   "cell_type": "markdown",
   "id": "e968fe9d",
   "metadata": {
    "papermill": {
     "duration": 0.044633,
     "end_time": "2025-07-28T11:06:33.938263",
     "exception": false,
     "start_time": "2025-07-28T11:06:33.893630",
     "status": "completed"
    },
    "tags": []
   },
   "source": [
    "By Group"
   ]
  },
  {
   "cell_type": "code",
   "execution_count": 68,
   "id": "ec325bce",
   "metadata": {
    "execution": {
     "iopub.execute_input": "2025-07-28T11:06:34.038922Z",
     "iopub.status.busy": "2025-07-28T11:06:34.038444Z",
     "iopub.status.idle": "2025-07-28T11:06:34.060279Z",
     "shell.execute_reply": "2025-07-28T11:06:34.059272Z"
    },
    "papermill": {
     "duration": 0.053315,
     "end_time": "2025-07-28T11:06:34.062307",
     "exception": false,
     "start_time": "2025-07-28T11:06:34.008992",
     "status": "completed"
    },
    "tags": []
   },
   "outputs": [
    {
     "data": {
      "text/html": [
       "<div>\n",
       "<style scoped>\n",
       "    .dataframe tbody tr th:only-of-type {\n",
       "        vertical-align: middle;\n",
       "    }\n",
       "\n",
       "    .dataframe tbody tr th {\n",
       "        vertical-align: top;\n",
       "    }\n",
       "\n",
       "    .dataframe thead th {\n",
       "        text-align: right;\n",
       "    }\n",
       "</style>\n",
       "<table border=\"1\" class=\"dataframe\">\n",
       "  <thead>\n",
       "    <tr style=\"text-align: right;\">\n",
       "      <th></th>\n",
       "      <th>accuracy</th>\n",
       "      <th>balanced accuracy</th>\n",
       "      <th>f1</th>\n",
       "      <th>precision</th>\n",
       "      <th>false positive rate</th>\n",
       "      <th>false negative rate</th>\n",
       "      <th>selection rate</th>\n",
       "      <th>count</th>\n",
       "    </tr>\n",
       "    <tr>\n",
       "      <th>majmin</th>\n",
       "      <th></th>\n",
       "      <th></th>\n",
       "      <th></th>\n",
       "      <th></th>\n",
       "      <th></th>\n",
       "      <th></th>\n",
       "      <th></th>\n",
       "      <th></th>\n",
       "    </tr>\n",
       "  </thead>\n",
       "  <tbody>\n",
       "    <tr>\n",
       "      <th>majority</th>\n",
       "      <td>0.199957</td>\n",
       "      <td>0.534574</td>\n",
       "      <td>0.246319</td>\n",
       "      <td>0.140670</td>\n",
       "      <td>0.920240</td>\n",
       "      <td>0.010613</td>\n",
       "      <td>0.929377</td>\n",
       "      <td>69170.0</td>\n",
       "    </tr>\n",
       "    <tr>\n",
       "      <th>minority</th>\n",
       "      <td>0.234226</td>\n",
       "      <td>0.530859</td>\n",
       "      <td>0.216254</td>\n",
       "      <td>0.122592</td>\n",
       "      <td>0.854667</td>\n",
       "      <td>0.083615</td>\n",
       "      <td>0.861782</td>\n",
       "      <td>20540.0</td>\n",
       "    </tr>\n",
       "  </tbody>\n",
       "</table>\n",
       "</div>"
      ],
      "text/plain": [
       "          accuracy  balanced accuracy        f1  precision  \\\n",
       "majmin                                                       \n",
       "majority  0.199957           0.534574  0.246319   0.140670   \n",
       "minority  0.234226           0.530859  0.216254   0.122592   \n",
       "\n",
       "          false positive rate  false negative rate  selection rate    count  \n",
       "majmin                                                                       \n",
       "majority             0.920240             0.010613        0.929377  69170.0  \n",
       "minority             0.854667             0.083615        0.861782  20540.0  "
      ]
     },
     "execution_count": 68,
     "metadata": {},
     "output_type": "execute_result"
    }
   ],
   "source": [
    "metric_frame.by_group"
   ]
  },
  {
   "cell_type": "code",
   "execution_count": 69,
   "id": "a9ddbe63",
   "metadata": {
    "execution": {
     "iopub.execute_input": "2025-07-28T11:06:34.160204Z",
     "iopub.status.busy": "2025-07-28T11:06:34.159762Z",
     "iopub.status.idle": "2025-07-28T11:06:39.589924Z",
     "shell.execute_reply": "2025-07-28T11:06:39.588742Z"
    },
    "papermill": {
     "duration": 5.472438,
     "end_time": "2025-07-28T11:06:39.591680",
     "exception": false,
     "start_time": "2025-07-28T11:06:34.119242",
     "status": "completed"
    },
    "tags": []
   },
   "outputs": [
    {
     "data": {
      "text/plain": [
       "array([[<Axes: title={'center': 'accuracy'}, xlabel='majmin'>,\n",
       "        <Axes: title={'center': 'balanced accuracy'}, xlabel='majmin'>,\n",
       "        <Axes: title={'center': 'f1'}, xlabel='majmin'>],\n",
       "       [<Axes: title={'center': 'precision'}, xlabel='majmin'>,\n",
       "        <Axes: title={'center': 'false positive rate'}, xlabel='majmin'>,\n",
       "        <Axes: title={'center': 'false negative rate'}, xlabel='majmin'>],\n",
       "       [<Axes: title={'center': 'selection rate'}, xlabel='majmin'>,\n",
       "        <Axes: title={'center': 'count'}, xlabel='majmin'>,\n",
       "        <Axes: xlabel='majmin'>]], dtype=object)"
      ]
     },
     "execution_count": 69,
     "metadata": {},
     "output_type": "execute_result"
    },
    {
     "data": {
      "image/png": "[encoded data removed]",
      "text/plain": [
       "<Figure size 1200x800 with 9 Axes>"
      ]
     },
     "metadata": {},
     "output_type": "display_data"
    }
   ],
   "source": [
    "# In a graphic\n",
    "metric_frame.by_group.plot.bar(\n",
    "    subplots=True,\n",
    "    layout=[3, 3],\n",
    "    legend=False,\n",
    "    figsize=[12, 8],\n",
    "    title=\"Show all metrics\",\n",
    ")"
   ]
  },
  {
   "cell_type": "markdown",
   "id": "f57a0bac",
   "metadata": {
    "papermill": {
     "duration": 0.062696,
     "end_time": "2025-07-28T11:06:39.715703",
     "exception": false,
     "start_time": "2025-07-28T11:06:39.653007",
     "status": "completed"
    },
    "tags": []
   },
   "source": [
    "# Final Output"
   ]
  },
  {
   "cell_type": "code",
   "execution_count": 70,
   "id": "96d280a3",
   "metadata": {
    "execution": {
     "iopub.execute_input": "2025-07-28T11:06:39.847355Z",
     "iopub.status.busy": "2025-07-28T11:06:39.846661Z",
     "iopub.status.idle": "2025-07-28T11:06:39.857401Z",
     "shell.execute_reply": "2025-07-28T11:06:39.856381Z"
    },
    "papermill": {
     "duration": 0.080774,
     "end_time": "2025-07-28T11:06:39.859371",
     "exception": false,
     "start_time": "2025-07-28T11:06:39.778597",
     "status": "completed"
    },
    "tags": []
   },
   "outputs": [
    {
     "data": {
      "text/plain": [
       "4"
      ]
     },
     "execution_count": 70,
     "metadata": {},
     "output_type": "execute_result"
    }
   ],
   "source": [
    "sub_universes = universe_analysis.generate_sub_universes()\n",
    "len(sub_universes)"
   ]
  },
  {
   "cell_type": "code",
   "execution_count": 71,
   "id": "92adf7ba",
   "metadata": {
    "execution": {
     "iopub.execute_input": "2025-07-28T11:06:39.954758Z",
     "iopub.status.busy": "2025-07-28T11:06:39.954163Z",
     "iopub.status.idle": "2025-07-28T11:06:39.961982Z",
     "shell.execute_reply": "2025-07-28T11:06:39.960830Z"
    },
    "papermill": {
     "duration": 0.04241,
     "end_time": "2025-07-28T11:06:39.965550",
     "exception": false,
     "start_time": "2025-07-28T11:06:39.923140",
     "status": "completed"
    },
    "tags": []
   },
   "outputs": [],
   "source": [
    "def filter_sub_universe_data(sub_universe, org_test):\n",
    "    # Keep all rows — no filtering\n",
    "    keep_rows_mask = np.ones(org_test.shape[0], dtype=bool)\n",
    "\n",
    "    print(f\"[INFO] Keeping all rows: {keep_rows_mask.sum()} rows retained.\")\n",
    "    return keep_rows_mask"
   ]
  },
  {
   "cell_type": "code",
   "execution_count": 72,
   "id": "4a759155",
   "metadata": {
    "execution": {
     "iopub.execute_input": "2025-07-28T11:06:40.032315Z",
     "iopub.status.busy": "2025-07-28T11:06:40.031826Z",
     "iopub.status.idle": "2025-07-28T11:06:56.051781Z",
     "shell.execute_reply": "2025-07-28T11:06:56.050589Z"
    },
    "papermill": {
     "duration": 16.054987,
     "end_time": "2025-07-28T11:06:56.053886",
     "exception": false,
     "start_time": "2025-07-28T11:06:39.998899",
     "status": "completed"
    },
    "tags": []
   },
   "outputs": [
    {
     "name": "stdout",
     "output_type": "stream",
     "text": [
      "Stopping execution_time clock.\n",
      "[INFO] Keeping all rows: 89710 rows retained.\n"
     ]
    },
    {
     "name": "stdout",
     "output_type": "stream",
     "text": [
      "[INFO] Keeping all rows: 89710 rows retained.\n"
     ]
    },
    {
     "name": "stdout",
     "output_type": "stream",
     "text": [
      "[INFO] Keeping all rows: 89710 rows retained.\n"
     ]
    },
    {
     "name": "stdout",
     "output_type": "stream",
     "text": [
      "[INFO] Keeping all rows: 89710 rows retained.\n"
     ]
    },
    {
     "data": {
      "text/html": [
       "<div>\n",
       "<style scoped>\n",
       "    .dataframe tbody tr th:only-of-type {\n",
       "        vertical-align: middle;\n",
       "    }\n",
       "\n",
       "    .dataframe tbody tr th {\n",
       "        vertical-align: top;\n",
       "    }\n",
       "\n",
       "    .dataframe thead th {\n",
       "        text-align: right;\n",
       "    }\n",
       "</style>\n",
       "<table border=\"1\" class=\"dataframe\">\n",
       "  <thead>\n",
       "    <tr style=\"text-align: right;\">\n",
       "      <th></th>\n",
       "      <th>run_no</th>\n",
       "      <th>universe_id</th>\n",
       "      <th>universe_settings</th>\n",
       "      <th>execution_time</th>\n",
       "      <th>test_size_n</th>\n",
       "      <th>test_size_frac</th>\n",
       "      <th>fair_main_equalized_odds_difference</th>\n",
       "      <th>fair_main_equalized_odds_ratio</th>\n",
       "      <th>fair_main_demographic_parity_difference</th>\n",
       "      <th>fair_main_demographic_parity_ratio</th>\n",
       "      <th>...</th>\n",
       "      <th>perf_grp_precision_0</th>\n",
       "      <th>perf_grp_precision_1</th>\n",
       "      <th>perf_grp_false positive rate_0</th>\n",
       "      <th>perf_grp_false positive rate_1</th>\n",
       "      <th>perf_grp_false negative rate_0</th>\n",
       "      <th>perf_grp_false negative rate_1</th>\n",
       "      <th>perf_grp_selection rate_0</th>\n",
       "      <th>perf_grp_selection rate_1</th>\n",
       "      <th>perf_grp_count_0</th>\n",
       "      <th>perf_grp_count_1</th>\n",
       "    </tr>\n",
       "  </thead>\n",
       "  <tbody>\n",
       "    <tr>\n",
       "      <th>0</th>\n",
       "      <td>11</td>\n",
       "      <td>e46176b5e9dd251bdb8c0385e2bdfc5e</td>\n",
       "      <td>{\"cutoff\": \"quantile_0.1\", \"eval_fairness_grou...</td>\n",
       "      <td>69.40941</td>\n",
       "      <td>89710</td>\n",
       "      <td>1.0</td>\n",
       "      <td>0.073002</td>\n",
       "      <td>0.926215</td>\n",
       "      <td>0.067595</td>\n",
       "      <td>0.927268</td>\n",
       "      <td>...</td>\n",
       "      <td>NaN</td>\n",
       "      <td>NaN</td>\n",
       "      <td>NaN</td>\n",
       "      <td>NaN</td>\n",
       "      <td>NaN</td>\n",
       "      <td>NaN</td>\n",
       "      <td>NaN</td>\n",
       "      <td>NaN</td>\n",
       "      <td>NaN</td>\n",
       "      <td>NaN</td>\n",
       "    </tr>\n",
       "    <tr>\n",
       "      <th>0</th>\n",
       "      <td>11</td>\n",
       "      <td>e46176b5e9dd251bdb8c0385e2bdfc5e</td>\n",
       "      <td>{\"cutoff\": \"quantile_0.1\", \"eval_fairness_grou...</td>\n",
       "      <td>69.40941</td>\n",
       "      <td>89710</td>\n",
       "      <td>1.0</td>\n",
       "      <td>0.073002</td>\n",
       "      <td>0.926215</td>\n",
       "      <td>0.067595</td>\n",
       "      <td>0.927268</td>\n",
       "      <td>...</td>\n",
       "      <td>0.122592</td>\n",
       "      <td>0.140670</td>\n",
       "      <td>0.854667</td>\n",
       "      <td>0.920240</td>\n",
       "      <td>0.083615</td>\n",
       "      <td>0.010613</td>\n",
       "      <td>0.861782</td>\n",
       "      <td>0.929377</td>\n",
       "      <td>20540.0</td>\n",
       "      <td>69170.0</td>\n",
       "    </tr>\n",
       "    <tr>\n",
       "      <th>0</th>\n",
       "      <td>11</td>\n",
       "      <td>e46176b5e9dd251bdb8c0385e2bdfc5e</td>\n",
       "      <td>{\"cutoff\": \"quantile_0.25\", \"eval_fairness_gro...</td>\n",
       "      <td>69.40941</td>\n",
       "      <td>89710</td>\n",
       "      <td>1.0</td>\n",
       "      <td>0.117383</td>\n",
       "      <td>0.877005</td>\n",
       "      <td>0.071153</td>\n",
       "      <td>0.907673</td>\n",
       "      <td>...</td>\n",
       "      <td>NaN</td>\n",
       "      <td>NaN</td>\n",
       "      <td>NaN</td>\n",
       "      <td>NaN</td>\n",
       "      <td>NaN</td>\n",
       "      <td>NaN</td>\n",
       "      <td>NaN</td>\n",
       "      <td>NaN</td>\n",
       "      <td>NaN</td>\n",
       "      <td>NaN</td>\n",
       "    </tr>\n",
       "    <tr>\n",
       "      <th>0</th>\n",
       "      <td>11</td>\n",
       "      <td>e46176b5e9dd251bdb8c0385e2bdfc5e</td>\n",
       "      <td>{\"cutoff\": \"quantile_0.25\", \"eval_fairness_gro...</td>\n",
       "      <td>69.40941</td>\n",
       "      <td>89710</td>\n",
       "      <td>1.0</td>\n",
       "      <td>0.117383</td>\n",
       "      <td>0.877005</td>\n",
       "      <td>0.071153</td>\n",
       "      <td>0.907673</td>\n",
       "      <td>...</td>\n",
       "      <td>0.137945</td>\n",
       "      <td>0.163637</td>\n",
       "      <td>0.681598</td>\n",
       "      <td>0.742695</td>\n",
       "      <td>0.163007</td>\n",
       "      <td>0.045624</td>\n",
       "      <td>0.699513</td>\n",
       "      <td>0.770666</td>\n",
       "      <td>20540.0</td>\n",
       "      <td>69170.0</td>\n",
       "    </tr>\n",
       "  </tbody>\n",
       "</table>\n",
       "<p>4 rows × 50 columns</p>\n",
       "</div>"
      ],
      "text/plain": [
       "  run_no                       universe_id  \\\n",
       "0     11  e46176b5e9dd251bdb8c0385e2bdfc5e   \n",
       "0     11  e46176b5e9dd251bdb8c0385e2bdfc5e   \n",
       "0     11  e46176b5e9dd251bdb8c0385e2bdfc5e   \n",
       "0     11  e46176b5e9dd251bdb8c0385e2bdfc5e   \n",
       "\n",
       "                                   universe_settings  execution_time  \\\n",
       "0  {\"cutoff\": \"quantile_0.1\", \"eval_fairness_grou...        69.40941   \n",
       "0  {\"cutoff\": \"quantile_0.1\", \"eval_fairness_grou...        69.40941   \n",
       "0  {\"cutoff\": \"quantile_0.25\", \"eval_fairness_gro...        69.40941   \n",
       "0  {\"cutoff\": \"quantile_0.25\", \"eval_fairness_gro...        69.40941   \n",
       "\n",
       "   test_size_n  test_size_frac  fair_main_equalized_odds_difference  \\\n",
       "0        89710             1.0                             0.073002   \n",
       "0        89710             1.0                             0.073002   \n",
       "0        89710             1.0                             0.117383   \n",
       "0        89710             1.0                             0.117383   \n",
       "\n",
       "   fair_main_equalized_odds_ratio  fair_main_demographic_parity_difference  \\\n",
       "0                        0.926215                                 0.067595   \n",
       "0                        0.926215                                 0.067595   \n",
       "0                        0.877005                                 0.071153   \n",
       "0                        0.877005                                 0.071153   \n",
       "\n",
       "   fair_main_demographic_parity_ratio  ...  perf_grp_precision_0  \\\n",
       "0                            0.927268  ...                   NaN   \n",
       "0                            0.927268  ...              0.122592   \n",
       "0                            0.907673  ...                   NaN   \n",
       "0                            0.907673  ...              0.137945   \n",
       "\n",
       "   perf_grp_precision_1  perf_grp_false positive rate_0  \\\n",
       "0                   NaN                             NaN   \n",
       "0              0.140670                        0.854667   \n",
       "0                   NaN                             NaN   \n",
       "0              0.163637                        0.681598   \n",
       "\n",
       "   perf_grp_false positive rate_1  perf_grp_false negative rate_0  \\\n",
       "0                             NaN                             NaN   \n",
       "0                        0.920240                        0.083615   \n",
       "0                             NaN                             NaN   \n",
       "0                        0.742695                        0.163007   \n",
       "\n",
       "   perf_grp_false negative rate_1  perf_grp_selection rate_0  \\\n",
       "0                             NaN                        NaN   \n",
       "0                        0.010613                   0.861782   \n",
       "0                             NaN                        NaN   \n",
       "0                        0.045624                   0.699513   \n",
       "\n",
       "   perf_grp_selection rate_1  perf_grp_count_0  perf_grp_count_1  \n",
       "0                        NaN               NaN               NaN  \n",
       "0                   0.929377           20540.0           69170.0  \n",
       "0                        NaN               NaN               NaN  \n",
       "0                   0.770666           20540.0           69170.0  \n",
       "\n",
       "[4 rows x 50 columns]"
      ]
     },
     "execution_count": 72,
     "metadata": {},
     "output_type": "execute_result"
    }
   ],
   "source": [
    "final_output = universe_analysis.generate_final_output(\n",
    "    y_pred_prob=probs_test,\n",
    "    y_test=y_true,\n",
    "    org_test=org_test,\n",
    "    filter_data=filter_sub_universe_data,\n",
    "    cp_metrics_df=cp_metrics_df,\n",
    "    save=True,\n",
    ")\n",
    "final_output"
   ]
  },
  {
   "cell_type": "code",
   "execution_count": null,
   "id": "721ff514-cb11-46f8-b6fc-50392f74b5cb",
   "metadata": {
    "papermill": {
     "duration": 0.060741,
     "end_time": "2025-07-28T11:06:56.173076",
     "exception": false,
     "start_time": "2025-07-28T11:06:56.112335",
     "status": "completed"
    },
    "tags": []
   },
   "outputs": [],
   "source": []
  }
 ],
 "metadata": {
  "celltoolbar": "Tags",
  "kernelspec": {
   "display_name": "Python (CMA Fairness)",
   "language": "python",
   "name": "cma_fair_env"
  },
  "language_info": {
   "codemirror_mode": {
    "name": "ipython",
    "version": 3
   },
   "file_extension": ".py",
   "mimetype": "text/x-python",
   "name": "python",
   "nbconvert_exporter": "python",
   "pygments_lexer": "ipython3",
   "version": "3.10.12"
  },
  "papermill": {
   "default_parameters": {},
   "duration": 93.122086,
   "end_time": "2025-07-28T11:06:57.461496",
   "environment_variables": {},
   "exception": null,
   "input_path": "universe_analysis.ipynb",
   "output_path": "output/runs/11/notebooks/m_11-e46176b5e9dd251bdb8c0385e2bdfc5e.ipynb",
   "parameters": {
    "output_dir": "output",
    "run_no": "11",
    "seed": "2023",
    "universe": "{\"cutoff\": [\"quantile_0.1\", \"quantile_0.25\"], \"eval_fairness_grouping\": [\"majority-minority\", \"nationality-all\"], \"exclude_features\": \"nationality\", \"exclude_subgroups\": \"drop-non-german\", \"model\": \"rf\", \"scale\": \"do-not-scale\", \"training_size\": \"2014\"}",
    "universe_id": "e46176b5e9dd251bdb8c0385e2bdfc5e"
   },
   "start_time": "2025-07-28T11:05:24.339410",
   "version": "2.6.0"
  }
 },
 "nbformat": 4,
 "nbformat_minor": 5
}