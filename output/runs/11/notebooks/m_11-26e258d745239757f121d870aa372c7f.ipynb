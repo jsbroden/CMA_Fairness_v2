{
 "cells": [
  {
   "cell_type": "code",
   "execution_count": 1,
   "id": "f159f837-637b-42ba-96b5-ec9a68c44524",
   "metadata": {
    "execution": {
     "iopub.execute_input": "2025-07-28T10:48:26.910483Z",
     "iopub.status.busy": "2025-07-28T10:48:26.909960Z",
     "iopub.status.idle": "2025-07-28T10:48:26.924802Z",
     "shell.execute_reply": "2025-07-28T10:48:26.923662Z"
    },
    "papermill": {
     "duration": 0.039717,
     "end_time": "2025-07-28T10:48:26.926517",
     "exception": false,
     "start_time": "2025-07-28T10:48:26.886800",
     "status": "completed"
    },
    "tags": []
   },
   "outputs": [
    {
     "name": "stdout",
     "output_type": "stream",
     "text": [
      "/dss/dsshome1/0C/ra93lal2/cma/CMA_Fairness_v2\n"
     ]
    },
    {
     "name": "stderr",
     "output_type": "stream",
     "text": [
      "/dss/dsshome1/0C/ra93lal2/.local/share/virtualenvs/CMA_Fairness_v2-3j10GkSs/lib/python3.10/site-packages/IPython/core/magics/osm.py:393: UserWarning: This is now an optional IPython functionality, using bookmarks requires you to install the `pickleshare` library.\n",
      "  bkms = self.shell.db.get('bookmarks', {})\n",
      "/dss/dsshome1/0C/ra93lal2/.local/share/virtualenvs/CMA_Fairness_v2-3j10GkSs/lib/python3.10/site-packages/IPython/core/magics/osm.py:417: UserWarning: This is now an optional IPython functionality, setting dhist requires you to install the `pickleshare` library.\n",
      "  self.shell.db['dhist'] = compress_dhist(dhist)[-100:]\n"
     ]
    }
   ],
   "source": [
    "%cd ~/cma/CMA_Fairness_v2"
   ]
  },
  {
   "cell_type": "markdown",
   "id": "de2603b9",
   "metadata": {
    "papermill": {
     "duration": 0.020743,
     "end_time": "2025-07-28T10:48:26.968253",
     "exception": false,
     "start_time": "2025-07-28T10:48:26.947510",
     "status": "completed"
    },
    "tags": []
   },
   "source": [
    "The following cell holds the definition of our parameters, these values can be overriden by rendering the with e.g. the following command:\n",
    "\n",
    "papermill -p alpha 0.2 -p ratio 0.3 universe_analysis.ipynb output/test_run.ipynb"
   ]
  },
  {
   "cell_type": "code",
   "execution_count": 2,
   "id": "a80968a0-40bb-4fa9-85ef-2d5eefb01975",
   "metadata": {
    "execution": {
     "iopub.execute_input": "2025-07-28T10:48:27.011935Z",
     "iopub.status.busy": "2025-07-28T10:48:27.010149Z",
     "iopub.status.idle": "2025-07-28T10:48:27.017007Z",
     "shell.execute_reply": "2025-07-28T10:48:27.015758Z"
    },
    "papermill": {
     "duration": 0.030066,
     "end_time": "2025-07-28T10:48:27.018912",
     "exception": false,
     "start_time": "2025-07-28T10:48:26.988846",
     "status": "completed"
    },
    "tags": []
   },
   "outputs": [
    {
     "name": "stdout",
     "output_type": "stream",
     "text": [
      "Current working directory: /dss/dsshome1/0C/ra93lal2/cma/CMA_Fairness_v2\n"
     ]
    }
   ],
   "source": [
    "import os\n",
    "print(\"Current working directory:\", os.getcwd())"
   ]
  },
  {
   "cell_type": "code",
   "execution_count": 3,
   "id": "2dce4c03",
   "metadata": {
    "execution": {
     "iopub.execute_input": "2025-07-28T10:48:27.065576Z",
     "iopub.status.busy": "2025-07-28T10:48:27.064586Z",
     "iopub.status.idle": "2025-07-28T10:48:27.071544Z",
     "shell.execute_reply": "2025-07-28T10:48:27.070498Z"
    },
    "papermill": {
     "duration": 0.034167,
     "end_time": "2025-07-28T10:48:27.073327",
     "exception": false,
     "start_time": "2025-07-28T10:48:27.039160",
     "status": "completed"
    },
    "tags": [
     "parameters"
    ]
   },
   "outputs": [],
   "source": [
    "run_no = 0\n",
    "universe_id = \"test\"\n",
    "universe = {\n",
    "    \"training_size\": \"2014\", # \"25k\", \"5k\", \"1k\", \"2014\"\n",
    "    \"scale\": \"scale\", # \"scale\", \"do-not-scale\",\n",
    "    #\"stratify_split\": \"target\", # \"none\", \"target\", \"protected-attribute\", \"both\",\n",
    "    \"model\": \"elasticnet\", # \"logreg\", \"penalized_logreg\", \"rf\", \"gbm\", \"elasticnet\"\n",
    "    \"cutoff\": [\"quantile_0.15\", \"quantile_0.30\"],\n",
    "    \"exclude_features\": \"age\", # \"none\", \"nationality\", \"sex\", \"nationality-sex\", \"age\"\n",
    "    \"exclude_subgroups\": \"keep-all\", # \"keep-all\", \"drop-non-german\"\n",
    "    \"eval_fairness_grouping\": [\"majority-minority\", \"nationality-all\"]\n",
    "}\n",
    "\n",
    "output_dir=\"./output\"\n",
    "seed=0"
   ]
  },
  {
   "cell_type": "code",
   "execution_count": 4,
   "id": "d35f313f",
   "metadata": {
    "execution": {
     "iopub.execute_input": "2025-07-28T10:48:27.119666Z",
     "iopub.status.busy": "2025-07-28T10:48:27.119023Z",
     "iopub.status.idle": "2025-07-28T10:48:27.124954Z",
     "shell.execute_reply": "2025-07-28T10:48:27.123749Z"
    },
    "papermill": {
     "duration": 0.032478,
     "end_time": "2025-07-28T10:48:27.126626",
     "exception": false,
     "start_time": "2025-07-28T10:48:27.094148",
     "status": "completed"
    },
    "tags": [
     "injected-parameters"
    ]
   },
   "outputs": [],
   "source": [
    "# Parameters\n",
    "universe_id = \"26e258d745239757f121d870aa372c7f\"\n",
    "run_no = \"11\"\n",
    "universe = \"{\\\"cutoff\\\": [\\\"quantile_0.1\\\", \\\"quantile_0.25\\\"], \\\"eval_fairness_grouping\\\": [\\\"majority-minority\\\", \\\"nationality-all\\\"], \\\"exclude_features\\\": \\\"nationality\\\", \\\"exclude_subgroups\\\": \\\"keep-all\\\", \\\"model\\\": \\\"penalized_logreg\\\", \\\"scale\\\": \\\"do-not-scale\\\", \\\"training_size\\\": \\\"1k\\\"}\"\n",
    "output_dir = \"output\"\n",
    "seed = \"2023\"\n"
   ]
  },
  {
   "cell_type": "code",
   "execution_count": 5,
   "id": "1650acaf",
   "metadata": {
    "execution": {
     "iopub.execute_input": "2025-07-28T10:48:27.170459Z",
     "iopub.status.busy": "2025-07-28T10:48:27.170030Z",
     "iopub.status.idle": "2025-07-28T10:48:27.175197Z",
     "shell.execute_reply": "2025-07-28T10:48:27.174262Z"
    },
    "papermill": {
     "duration": 0.028547,
     "end_time": "2025-07-28T10:48:27.176828",
     "exception": false,
     "start_time": "2025-07-28T10:48:27.148281",
     "status": "completed"
    },
    "tags": []
   },
   "outputs": [],
   "source": [
    "import json\n",
    "# Parse universe into dict if it is passed as a string\n",
    "if isinstance(universe, str):\n",
    "    universe = json.loads(universe)"
   ]
  },
  {
   "cell_type": "code",
   "execution_count": 6,
   "id": "16620c48",
   "metadata": {
    "execution": {
     "iopub.execute_input": "2025-07-28T10:48:27.220872Z",
     "iopub.status.busy": "2025-07-28T10:48:27.219868Z",
     "iopub.status.idle": "2025-07-28T10:48:27.271505Z",
     "shell.execute_reply": "2025-07-28T10:48:27.270490Z"
    },
    "papermill": {
     "duration": 0.076019,
     "end_time": "2025-07-28T10:48:27.273287",
     "exception": false,
     "start_time": "2025-07-28T10:48:27.197268",
     "status": "completed"
    },
    "tags": []
   },
   "outputs": [],
   "source": [
    "# Auto-reload the custom package\n",
    "%load_ext autoreload\n",
    "%autoreload 1\n",
    "%aimport fairness_multiverse"
   ]
  },
  {
   "cell_type": "code",
   "execution_count": 7,
   "id": "01c5c9f3",
   "metadata": {
    "execution": {
     "iopub.execute_input": "2025-07-28T10:48:27.316282Z",
     "iopub.status.busy": "2025-07-28T10:48:27.315473Z",
     "iopub.status.idle": "2025-07-28T10:48:29.369934Z",
     "shell.execute_reply": "2025-07-28T10:48:29.369099Z"
    },
    "papermill": {
     "duration": 2.07765,
     "end_time": "2025-07-28T10:48:29.371480",
     "exception": false,
     "start_time": "2025-07-28T10:48:27.293830",
     "status": "completed"
    },
    "tags": []
   },
   "outputs": [],
   "source": [
    "from fairness_multiverse.universe import UniverseAnalysis\n",
    "\n",
    "universe_analysis = UniverseAnalysis(\n",
    "    run_no = run_no,\n",
    "    universe_id = universe_id,\n",
    "    universe = universe,\n",
    "    output_dir=output_dir,\n",
    ")"
   ]
  },
  {
   "cell_type": "code",
   "execution_count": 8,
   "id": "106241f5",
   "metadata": {
    "execution": {
     "iopub.execute_input": "2025-07-28T10:48:29.396613Z",
     "iopub.status.busy": "2025-07-28T10:48:29.395993Z",
     "iopub.status.idle": "2025-07-28T10:48:29.402168Z",
     "shell.execute_reply": "2025-07-28T10:48:29.401342Z"
    },
    "papermill": {
     "duration": 0.018998,
     "end_time": "2025-07-28T10:48:29.403396",
     "exception": false,
     "start_time": "2025-07-28T10:48:29.384398",
     "status": "completed"
    },
    "tags": []
   },
   "outputs": [
    {
     "name": "stdout",
     "output_type": "stream",
     "text": [
      "Using Seed: 2023\n"
     ]
    }
   ],
   "source": [
    "import numpy as np\n",
    "parsed_seed = int(seed)\n",
    "np.random.seed(parsed_seed)\n",
    "print(f\"Using Seed: {parsed_seed}\")"
   ]
  },
  {
   "cell_type": "markdown",
   "id": "e0ebdc57",
   "metadata": {
    "papermill": {
     "duration": 0.010178,
     "end_time": "2025-07-28T10:48:29.425224",
     "exception": false,
     "start_time": "2025-07-28T10:48:29.415046",
     "status": "completed"
    },
    "tags": []
   },
   "source": [
    "# Loading Data"
   ]
  },
  {
   "cell_type": "markdown",
   "id": "681925a3",
   "metadata": {
    "papermill": {
     "duration": 0.010283,
     "end_time": "2025-07-28T10:48:29.445329",
     "exception": false,
     "start_time": "2025-07-28T10:48:29.435046",
     "status": "completed"
    },
    "tags": []
   },
   "source": [
    "Load siab_train, siab_test, siab_calib and/or \n",
    "load siab_train_features, siab_train_labels"
   ]
  },
  {
   "cell_type": "code",
   "execution_count": 9,
   "id": "f0496b8a",
   "metadata": {
    "execution": {
     "iopub.execute_input": "2025-07-28T10:48:29.466958Z",
     "iopub.status.busy": "2025-07-28T10:48:29.466526Z",
     "iopub.status.idle": "2025-07-28T10:48:40.492659Z",
     "shell.execute_reply": "2025-07-28T10:48:40.491192Z"
    },
    "papermill": {
     "duration": 11.039332,
     "end_time": "2025-07-28T10:48:40.494614",
     "exception": false,
     "start_time": "2025-07-28T10:48:29.455282",
     "status": "completed"
    },
    "tags": []
   },
   "outputs": [
    {
     "name": "stdout",
     "output_type": "stream",
     "text": [
      "Loading SIAB data from cache: data/siab_cached.csv.gz\n"
     ]
    },
    {
     "name": "stdout",
     "output_type": "stream",
     "text": [
      "(643690, 164)\n"
     ]
    }
   ],
   "source": [
    "from pathlib import Path\n",
    "import pandas as pd\n",
    "\n",
    "# File paths\n",
    "raw_file = Path(\"data/raw/siab.csv\")\n",
    "cache_file = Path(\"data/siab_cached.csv.gz\")\n",
    "\n",
    "# Ensure cache directory exists\n",
    "cache_file.parent.mkdir(parents=True, exist_ok=True)\n",
    "\n",
    "# Load with simple caching\n",
    "if cache_file.exists():\n",
    "    print(f\"Loading SIAB data from cache: {cache_file}\")\n",
    "    siab = pd.read_csv(cache_file, compression='gzip')\n",
    "else:\n",
    "    print(f\"Cache not found. Reading raw SIAB data: {raw_file}\")\n",
    "    siab = pd.read_csv(raw_file)\n",
    "    siab.to_csv(cache_file, index=False, compression='gzip')\n",
    "    print(f\"Cached SIAB data to: {cache_file}\")\n",
    "\n",
    "# Now use `siab` DataFrame as needed\n",
    "print(siab.shape)"
   ]
  },
  {
   "cell_type": "code",
   "execution_count": 10,
   "id": "db0ca512-5f53-4dba-abdb-a2888bca41ba",
   "metadata": {
    "execution": {
     "iopub.execute_input": "2025-07-28T10:48:40.541324Z",
     "iopub.status.busy": "2025-07-28T10:48:40.540882Z",
     "iopub.status.idle": "2025-07-28T10:48:40.546932Z",
     "shell.execute_reply": "2025-07-28T10:48:40.545948Z"
    },
    "papermill": {
     "duration": 0.029389,
     "end_time": "2025-07-28T10:48:40.548504",
     "exception": false,
     "start_time": "2025-07-28T10:48:40.519115",
     "status": "completed"
    },
    "tags": []
   },
   "outputs": [],
   "source": [
    "#siab"
   ]
  },
  {
   "cell_type": "code",
   "execution_count": 11,
   "id": "a0edb063",
   "metadata": {
    "execution": {
     "iopub.execute_input": "2025-07-28T10:48:40.595333Z",
     "iopub.status.busy": "2025-07-28T10:48:40.594832Z",
     "iopub.status.idle": "2025-07-28T10:48:40.598845Z",
     "shell.execute_reply": "2025-07-28T10:48:40.598102Z"
    },
    "papermill": {
     "duration": 0.029626,
     "end_time": "2025-07-28T10:48:40.600443",
     "exception": false,
     "start_time": "2025-07-28T10:48:40.570817",
     "status": "completed"
    },
    "tags": []
   },
   "outputs": [],
   "source": [
    "#import pandas as pd\n",
    "#\n",
    "#X_train = pd.read_csv(\"./data/X_train.csv\")\n",
    "#y_train = pd.read_csv(\"./data/y_train.csv\")"
   ]
  },
  {
   "cell_type": "code",
   "execution_count": 12,
   "id": "63d08085",
   "metadata": {
    "execution": {
     "iopub.execute_input": "2025-07-28T10:48:40.646654Z",
     "iopub.status.busy": "2025-07-28T10:48:40.645923Z",
     "iopub.status.idle": "2025-07-28T10:48:40.650837Z",
     "shell.execute_reply": "2025-07-28T10:48:40.649870Z"
    },
    "papermill": {
     "duration": 0.030069,
     "end_time": "2025-07-28T10:48:40.652702",
     "exception": false,
     "start_time": "2025-07-28T10:48:40.622633",
     "status": "completed"
    },
    "tags": []
   },
   "outputs": [],
   "source": [
    "#X_test = pd.read_csv(\"./data/X_test.csv\")\n",
    "#y_true = pd.read_csv(\"./data/y_test.csv\")"
   ]
  },
  {
   "cell_type": "code",
   "execution_count": 13,
   "id": "98a8d0fa-1d3d-4ed8-bb2c-281470e24add",
   "metadata": {
    "execution": {
     "iopub.execute_input": "2025-07-28T10:48:40.700428Z",
     "iopub.status.busy": "2025-07-28T10:48:40.699644Z",
     "iopub.status.idle": "2025-07-28T10:48:40.704609Z",
     "shell.execute_reply": "2025-07-28T10:48:40.703619Z"
    },
    "papermill": {
     "duration": 0.030795,
     "end_time": "2025-07-28T10:48:40.706121",
     "exception": false,
     "start_time": "2025-07-28T10:48:40.675326",
     "status": "completed"
    },
    "tags": []
   },
   "outputs": [],
   "source": [
    "# Calibration data for conformal\n",
    "#X_calib = pd.read_csv(\"./data/X_calib.csv\")\n",
    "#y_calib = pd.read_csv(\"./data/y_calib.csv\")"
   ]
  },
  {
   "cell_type": "markdown",
   "id": "9901737e-04df-44f0-9100-f5ad144ed040",
   "metadata": {
    "papermill": {
     "duration": 0.014691,
     "end_time": "2025-07-28T10:48:40.739138",
     "exception": false,
     "start_time": "2025-07-28T10:48:40.724447",
     "status": "completed"
    },
    "tags": []
   },
   "source": [
    "# Splitting Data and Setting Training Data Size"
   ]
  },
  {
   "cell_type": "code",
   "execution_count": 14,
   "id": "acbc8f7d-8fc8-4e86-8c59-5dcb0f58384b",
   "metadata": {
    "execution": {
     "iopub.execute_input": "2025-07-28T10:48:40.765824Z",
     "iopub.status.busy": "2025-07-28T10:48:40.764753Z",
     "iopub.status.idle": "2025-07-28T10:48:40.773840Z",
     "shell.execute_reply": "2025-07-28T10:48:40.772685Z"
    },
    "papermill": {
     "duration": 0.022621,
     "end_time": "2025-07-28T10:48:40.775760",
     "exception": false,
     "start_time": "2025-07-28T10:48:40.753139",
     "status": "completed"
    },
    "tags": []
   },
   "outputs": [],
   "source": [
    "def sample_by_year(df, training_size, random_state=42):\n",
    "    if training_size == \"2014\":\n",
    "        return df[df[\"year\"] == 2014].reset_index(drop=True)\n",
    "    \n",
    "    size_map = {\n",
    "        \"25k\": 5000,\n",
    "        \"5k\": 1000,\n",
    "        \"1k\": 200\n",
    "    }\n",
    "\n",
    "    if training_size not in size_map:\n",
    "        return df.reset_index(drop=True)  # use all data\n",
    "\n",
    "    n_per_year = size_map[training_size]\n",
    "    grouped = df.groupby(\"year\")\n",
    "    sampled = grouped.apply(lambda x: x.sample(n=min(n_per_year, len(x)), random_state=random_state))\n",
    "    return sampled.reset_index(drop=True)"
   ]
  },
  {
   "cell_type": "code",
   "execution_count": 15,
   "id": "6d931f52-beaf-43ff-9e78-9d44a448d54e",
   "metadata": {
    "execution": {
     "iopub.execute_input": "2025-07-28T10:48:40.832805Z",
     "iopub.status.busy": "2025-07-28T10:48:40.831950Z",
     "iopub.status.idle": "2025-07-28T10:48:41.779143Z",
     "shell.execute_reply": "2025-07-28T10:48:41.778375Z"
    },
    "papermill": {
     "duration": 0.978794,
     "end_time": "2025-07-28T10:48:41.780999",
     "exception": false,
     "start_time": "2025-07-28T10:48:40.802205",
     "status": "completed"
    },
    "tags": []
   },
   "outputs": [],
   "source": [
    "siab_s = sample_by_year(siab, universe[\"training_size\"])"
   ]
  },
  {
   "cell_type": "code",
   "execution_count": 16,
   "id": "5db0a40e-a4e2-4920-be85-b12ae061d70d",
   "metadata": {
    "execution": {
     "iopub.execute_input": "2025-07-28T10:48:41.822434Z",
     "iopub.status.busy": "2025-07-28T10:48:41.821882Z",
     "iopub.status.idle": "2025-07-28T10:48:41.836370Z",
     "shell.execute_reply": "2025-07-28T10:48:41.835294Z"
    },
    "papermill": {
     "duration": 0.036899,
     "end_time": "2025-07-28T10:48:41.838350",
     "exception": false,
     "start_time": "2025-07-28T10:48:41.801451",
     "status": "completed"
    },
    "tags": []
   },
   "outputs": [
    {
     "data": {
      "text/plain": [
       "year\n",
       "2010    200\n",
       "2011    200\n",
       "2012    200\n",
       "2013    200\n",
       "2014    200\n",
       "2015    200\n",
       "2016    200\n",
       "dtype: int64"
      ]
     },
     "metadata": {},
     "output_type": "display_data"
    }
   ],
   "source": [
    "display(siab_s.groupby(\"year\").size())"
   ]
  },
  {
   "cell_type": "code",
   "execution_count": 17,
   "id": "a561edb4-d032-42cb-8256-22eac1111c64",
   "metadata": {
    "execution": {
     "iopub.execute_input": "2025-07-28T10:48:41.882165Z",
     "iopub.status.busy": "2025-07-28T10:48:41.881655Z",
     "iopub.status.idle": "2025-07-28T10:48:42.189718Z",
     "shell.execute_reply": "2025-07-28T10:48:42.188608Z"
    },
    "papermill": {
     "duration": 0.33277,
     "end_time": "2025-07-28T10:48:42.191588",
     "exception": false,
     "start_time": "2025-07-28T10:48:41.858818",
     "status": "completed"
    },
    "tags": []
   },
   "outputs": [],
   "source": [
    "siab_train = siab_s[siab_s.year < 2015]\n",
    "siab_calib = siab[siab.year == 2015]\n",
    "siab_test = siab[siab.year == 2016]"
   ]
  },
  {
   "cell_type": "code",
   "execution_count": 18,
   "id": "472de16f-c3db-4916-846b-1f0de9cf1746",
   "metadata": {
    "execution": {
     "iopub.execute_input": "2025-07-28T10:48:42.233661Z",
     "iopub.status.busy": "2025-07-28T10:48:42.233197Z",
     "iopub.status.idle": "2025-07-28T10:48:42.240921Z",
     "shell.execute_reply": "2025-07-28T10:48:42.239865Z"
    },
    "papermill": {
     "duration": 0.030543,
     "end_time": "2025-07-28T10:48:42.242609",
     "exception": false,
     "start_time": "2025-07-28T10:48:42.212066",
     "status": "completed"
    },
    "tags": []
   },
   "outputs": [],
   "source": [
    "X_train = siab_train.iloc[:,4:164]\n",
    "y_train = siab_train.iloc[:, [3]]"
   ]
  },
  {
   "cell_type": "code",
   "execution_count": 19,
   "id": "828c96af-f43a-4ed6-ba47-8ac73a47d56c",
   "metadata": {
    "execution": {
     "iopub.execute_input": "2025-07-28T10:48:42.285936Z",
     "iopub.status.busy": "2025-07-28T10:48:42.285419Z",
     "iopub.status.idle": "2025-07-28T10:48:42.341789Z",
     "shell.execute_reply": "2025-07-28T10:48:42.340810Z"
    },
    "papermill": {
     "duration": 0.079733,
     "end_time": "2025-07-28T10:48:42.343578",
     "exception": false,
     "start_time": "2025-07-28T10:48:42.263845",
     "status": "completed"
    },
    "tags": []
   },
   "outputs": [],
   "source": [
    "X_calib = siab_calib.iloc[:,4:164]\n",
    "y_calib = siab_calib.iloc[:, [3]]"
   ]
  },
  {
   "cell_type": "code",
   "execution_count": 20,
   "id": "c34be9c3-6bd6-476e-acd3-845840e303be",
   "metadata": {
    "execution": {
     "iopub.execute_input": "2025-07-28T10:48:42.394348Z",
     "iopub.status.busy": "2025-07-28T10:48:42.393322Z",
     "iopub.status.idle": "2025-07-28T10:48:42.452003Z",
     "shell.execute_reply": "2025-07-28T10:48:42.450895Z"
    },
    "papermill": {
     "duration": 0.086172,
     "end_time": "2025-07-28T10:48:42.454236",
     "exception": false,
     "start_time": "2025-07-28T10:48:42.368064",
     "status": "completed"
    },
    "tags": []
   },
   "outputs": [],
   "source": [
    "X_test = siab_test.iloc[:,4:164]\n",
    "y_true = siab_test.iloc[:, [3]]"
   ]
  },
  {
   "cell_type": "code",
   "execution_count": 21,
   "id": "e6c733c5",
   "metadata": {
    "execution": {
     "iopub.execute_input": "2025-07-28T10:48:42.502026Z",
     "iopub.status.busy": "2025-07-28T10:48:42.501116Z",
     "iopub.status.idle": "2025-07-28T10:48:42.604409Z",
     "shell.execute_reply": "2025-07-28T10:48:42.603483Z"
    },
    "papermill": {
     "duration": 0.12748,
     "end_time": "2025-07-28T10:48:42.606427",
     "exception": false,
     "start_time": "2025-07-28T10:48:42.478947",
     "status": "completed"
    },
    "tags": []
   },
   "outputs": [],
   "source": [
    "# Auxiliary data needed downstream in the pipeline\n",
    "\n",
    "org_train = X_train.copy()\n",
    "org_test = X_test.copy()\n",
    "org_calib = X_calib.copy()"
   ]
  },
  {
   "cell_type": "markdown",
   "id": "0a4a1b33",
   "metadata": {
    "papermill": {
     "duration": 0.022457,
     "end_time": "2025-07-28T10:48:42.651577",
     "exception": false,
     "start_time": "2025-07-28T10:48:42.629120",
     "status": "completed"
    },
    "tags": []
   },
   "source": [
    "# Preprocessing Data"
   ]
  },
  {
   "cell_type": "code",
   "execution_count": 22,
   "id": "ca879031",
   "metadata": {
    "execution": {
     "iopub.execute_input": "2025-07-28T10:48:42.693067Z",
     "iopub.status.busy": "2025-07-28T10:48:42.692421Z",
     "iopub.status.idle": "2025-07-28T10:48:42.697335Z",
     "shell.execute_reply": "2025-07-28T10:48:42.696460Z"
    },
    "papermill": {
     "duration": 0.024998,
     "end_time": "2025-07-28T10:48:42.698681",
     "exception": false,
     "start_time": "2025-07-28T10:48:42.673683",
     "status": "completed"
    },
    "tags": []
   },
   "outputs": [],
   "source": [
    "# EXCLUDE PROTECTED FEATURES\n",
    "# ----------------------\n",
    "# \"exclude_features\": \"none\", # \"nationality\", \"sex\", \"nationality-sex\"\n",
    "\n",
    "excluded_features = universe[\"exclude_features\"].split(\"-\") # split, e.g.: \"nationality-sex\" -> [\"nationality\", \"sex\"]\n",
    "excluded_features_dictionary = {\n",
    "    \"nationality\": [\"maxdeutsch1\", \"maxdeutsch.Missing.\"],\n",
    "    \"sex\": [\"frau1\"],\n",
    "    \"age\": [\"age\"],\n",
    "}\n"
   ]
  },
  {
   "cell_type": "code",
   "execution_count": 23,
   "id": "b745ac60",
   "metadata": {
    "execution": {
     "iopub.execute_input": "2025-07-28T10:48:42.727282Z",
     "iopub.status.busy": "2025-07-28T10:48:42.726626Z",
     "iopub.status.idle": "2025-07-28T10:48:42.764724Z",
     "shell.execute_reply": "2025-07-28T10:48:42.763453Z"
    },
    "papermill": {
     "duration": 0.055541,
     "end_time": "2025-07-28T10:48:42.766871",
     "exception": false,
     "start_time": "2025-07-28T10:48:42.711330",
     "status": "completed"
    },
    "tags": []
   },
   "outputs": [],
   "source": [
    "# Code nice names to column names\n",
    "\n",
    "excluded_features_columns = [\n",
    "    excluded_features_dictionary[f] for f in excluded_features if len(f) > 0 and f != \"none\"\n",
    "]"
   ]
  },
  {
   "cell_type": "code",
   "execution_count": 24,
   "id": "f84f73a2",
   "metadata": {
    "execution": {
     "iopub.execute_input": "2025-07-28T10:48:42.815685Z",
     "iopub.status.busy": "2025-07-28T10:48:42.815149Z",
     "iopub.status.idle": "2025-07-28T10:48:42.821777Z",
     "shell.execute_reply": "2025-07-28T10:48:42.820737Z"
    },
    "papermill": {
     "duration": 0.032883,
     "end_time": "2025-07-28T10:48:42.823322",
     "exception": false,
     "start_time": "2025-07-28T10:48:42.790439",
     "status": "completed"
    },
    "tags": []
   },
   "outputs": [],
   "source": [
    "from utils import flatten_once\n",
    "\n",
    "excluded_features_columns = flatten_once(excluded_features_columns)"
   ]
  },
  {
   "cell_type": "code",
   "execution_count": 25,
   "id": "884dea22",
   "metadata": {
    "execution": {
     "iopub.execute_input": "2025-07-28T10:48:42.867906Z",
     "iopub.status.busy": "2025-07-28T10:48:42.867384Z",
     "iopub.status.idle": "2025-07-28T10:48:42.877459Z",
     "shell.execute_reply": "2025-07-28T10:48:42.875382Z"
    },
    "papermill": {
     "duration": 0.033436,
     "end_time": "2025-07-28T10:48:42.879409",
     "exception": false,
     "start_time": "2025-07-28T10:48:42.845973",
     "status": "completed"
    },
    "tags": []
   },
   "outputs": [
    {
     "name": "stdout",
     "output_type": "stream",
     "text": [
      "Dropping features: ['maxdeutsch1', 'maxdeutsch.Missing.']\n"
     ]
    }
   ],
   "source": [
    "if len(excluded_features_columns) > 0:\n",
    "    print(f\"Dropping features: {excluded_features_columns}\")\n",
    "    X_train.drop(excluded_features_columns, axis=1, inplace=True)"
   ]
  },
  {
   "cell_type": "code",
   "execution_count": 26,
   "id": "95ab8b16",
   "metadata": {
    "execution": {
     "iopub.execute_input": "2025-07-28T10:48:42.911321Z",
     "iopub.status.busy": "2025-07-28T10:48:42.910493Z",
     "iopub.status.idle": "2025-07-28T10:48:42.967004Z",
     "shell.execute_reply": "2025-07-28T10:48:42.965960Z"
    },
    "papermill": {
     "duration": 0.07192,
     "end_time": "2025-07-28T10:48:42.969126",
     "exception": false,
     "start_time": "2025-07-28T10:48:42.897206",
     "status": "completed"
    },
    "tags": []
   },
   "outputs": [
    {
     "name": "stdout",
     "output_type": "stream",
     "text": [
      "Dropping features: ['maxdeutsch1', 'maxdeutsch.Missing.']\n"
     ]
    }
   ],
   "source": [
    "if len(excluded_features_columns) > 0:\n",
    "    print(f\"Dropping features: {excluded_features_columns}\")\n",
    "    X_test.drop(excluded_features_columns, axis=1, inplace=True)"
   ]
  },
  {
   "cell_type": "code",
   "execution_count": 27,
   "id": "1853aaf5-fb9f-46cb-a2b5-8ea4ae2237e4",
   "metadata": {
    "execution": {
     "iopub.execute_input": "2025-07-28T10:48:43.019959Z",
     "iopub.status.busy": "2025-07-28T10:48:43.019498Z",
     "iopub.status.idle": "2025-07-28T10:48:43.076893Z",
     "shell.execute_reply": "2025-07-28T10:48:43.075839Z"
    },
    "papermill": {
     "duration": 0.082652,
     "end_time": "2025-07-28T10:48:43.078770",
     "exception": false,
     "start_time": "2025-07-28T10:48:42.996118",
     "status": "completed"
    },
    "tags": []
   },
   "outputs": [
    {
     "name": "stdout",
     "output_type": "stream",
     "text": [
      "Dropping features: ['maxdeutsch1', 'maxdeutsch.Missing.']\n"
     ]
    }
   ],
   "source": [
    "if len(excluded_features_columns) > 0:\n",
    "    print(f\"Dropping features: {excluded_features_columns}\")\n",
    "    X_calib.drop(excluded_features_columns, axis=1, inplace=True)"
   ]
  },
  {
   "cell_type": "code",
   "execution_count": 28,
   "id": "6727d079-03e5-481e-9d38-292a90b7a0a8",
   "metadata": {
    "execution": {
     "iopub.execute_input": "2025-07-28T10:48:43.127034Z",
     "iopub.status.busy": "2025-07-28T10:48:43.126641Z",
     "iopub.status.idle": "2025-07-28T10:48:43.131688Z",
     "shell.execute_reply": "2025-07-28T10:48:43.130376Z"
    },
    "papermill": {
     "duration": 0.030698,
     "end_time": "2025-07-28T10:48:43.133565",
     "exception": false,
     "start_time": "2025-07-28T10:48:43.102867",
     "status": "completed"
    },
    "tags": []
   },
   "outputs": [],
   "source": [
    "# SPLIT & STRATIFY DATA\n",
    "# ----------------------"
   ]
  },
  {
   "cell_type": "code",
   "execution_count": 29,
   "id": "76c4dc6d",
   "metadata": {
    "execution": {
     "iopub.execute_input": "2025-07-28T10:48:43.183661Z",
     "iopub.status.busy": "2025-07-28T10:48:43.183347Z",
     "iopub.status.idle": "2025-07-28T10:48:43.188274Z",
     "shell.execute_reply": "2025-07-28T10:48:43.187294Z"
    },
    "papermill": {
     "duration": 0.032769,
     "end_time": "2025-07-28T10:48:43.190063",
     "exception": false,
     "start_time": "2025-07-28T10:48:43.157294",
     "status": "completed"
    },
    "tags": []
   },
   "outputs": [],
   "source": [
    "# EXCLUDE CERTAIN SUBGROUPS\n",
    "# ----------------------\n",
    "\n",
    "mode = universe.get(\"exclude_subgroups\", \"keep-all\") \n",
    "# Fetches the exclude_subgroups setting from the universe dict.\n",
    "# Defaults to \"keep-all\" if the key is missing."
   ]
  },
  {
   "cell_type": "code",
   "execution_count": 30,
   "id": "21994072",
   "metadata": {
    "execution": {
     "iopub.execute_input": "2025-07-28T10:48:43.250614Z",
     "iopub.status.busy": "2025-07-28T10:48:43.250209Z",
     "iopub.status.idle": "2025-07-28T10:48:43.257807Z",
     "shell.execute_reply": "2025-07-28T10:48:43.256789Z"
    },
    "papermill": {
     "duration": 0.041561,
     "end_time": "2025-07-28T10:48:43.259824",
     "exception": false,
     "start_time": "2025-07-28T10:48:43.218263",
     "status": "completed"
    },
    "tags": []
   },
   "outputs": [],
   "source": [
    "if mode == \"keep-all\":\n",
    "    keep_mask = pd.Series(True, index=org_train.index)\n",
    "\n",
    "# org_train contains the original feature columns from features_org (in Simson)\n",
    "# features_org contains unprocessed features, for me X_train at beginning ???\n",
    "# For keep-all, creates a boolean Series (keep_mask) of all True, so no rows are removed.\n",
    "\n",
    "elif mode == \"drop-non-german\":\n",
    "    keep_mask = org_train[\"maxdeutsch1\"] == 1 # ??? what about missing values?\n",
    "\n",
    "else:\n",
    "    raise ValueError(f\"Unsupported mode for exclude_subgroups: {mode}\")\n"
   ]
  },
  {
   "cell_type": "code",
   "execution_count": 31,
   "id": "71651440",
   "metadata": {
    "execution": {
     "iopub.execute_input": "2025-07-28T10:48:43.324789Z",
     "iopub.status.busy": "2025-07-28T10:48:43.323704Z",
     "iopub.status.idle": "2025-07-28T10:48:43.331651Z",
     "shell.execute_reply": "2025-07-28T10:48:43.330466Z"
    },
    "papermill": {
     "duration": 0.042575,
     "end_time": "2025-07-28T10:48:43.333858",
     "exception": false,
     "start_time": "2025-07-28T10:48:43.291283",
     "status": "completed"
    },
    "tags": []
   },
   "outputs": [],
   "source": [
    "n_drop = (~keep_mask).sum() # Calculates how many rows are set to be dropped\n",
    "if n_drop > 0:\n",
    "    pct = n_drop / len(keep_mask) * 100\n",
    "    print(f\"Dropping {n_drop} rows ({pct:.2f}%) where mode='{mode}'\")"
   ]
  },
  {
   "cell_type": "code",
   "execution_count": 32,
   "id": "5fb8eee5",
   "metadata": {
    "execution": {
     "iopub.execute_input": "2025-07-28T10:48:43.399682Z",
     "iopub.status.busy": "2025-07-28T10:48:43.398605Z",
     "iopub.status.idle": "2025-07-28T10:48:43.406586Z",
     "shell.execute_reply": "2025-07-28T10:48:43.405293Z"
    },
    "papermill": {
     "duration": 0.043376,
     "end_time": "2025-07-28T10:48:43.408972",
     "exception": false,
     "start_time": "2025-07-28T10:48:43.365596",
     "status": "completed"
    },
    "tags": []
   },
   "outputs": [],
   "source": [
    "X_train = X_train[keep_mask]"
   ]
  },
  {
   "cell_type": "code",
   "execution_count": 33,
   "id": "b202bb3a",
   "metadata": {
    "execution": {
     "iopub.execute_input": "2025-07-28T10:48:43.474265Z",
     "iopub.status.busy": "2025-07-28T10:48:43.473826Z",
     "iopub.status.idle": "2025-07-28T10:48:43.480686Z",
     "shell.execute_reply": "2025-07-28T10:48:43.479371Z"
    },
    "papermill": {
     "duration": 0.042463,
     "end_time": "2025-07-28T10:48:43.483177",
     "exception": false,
     "start_time": "2025-07-28T10:48:43.440714",
     "status": "completed"
    },
    "tags": []
   },
   "outputs": [],
   "source": [
    "y_train = y_train[keep_mask]"
   ]
  },
  {
   "cell_type": "markdown",
   "id": "493e2ac3",
   "metadata": {
    "papermill": {
     "duration": 0.031314,
     "end_time": "2025-07-28T10:48:43.546680",
     "exception": false,
     "start_time": "2025-07-28T10:48:43.515366",
     "status": "completed"
    },
    "tags": []
   },
   "source": [
    "# Model Training"
   ]
  },
  {
   "cell_type": "code",
   "execution_count": 34,
   "id": "679e1268",
   "metadata": {
    "execution": {
     "iopub.execute_input": "2025-07-28T10:48:43.612084Z",
     "iopub.status.busy": "2025-07-28T10:48:43.611535Z",
     "iopub.status.idle": "2025-07-28T10:48:43.735129Z",
     "shell.execute_reply": "2025-07-28T10:48:43.733907Z"
    },
    "papermill": {
     "duration": 0.159495,
     "end_time": "2025-07-28T10:48:43.737565",
     "exception": false,
     "start_time": "2025-07-28T10:48:43.578070",
     "status": "completed"
    },
    "tags": []
   },
   "outputs": [],
   "source": [
    "from sklearn.linear_model import LogisticRegression\n",
    "from sklearn.ensemble import GradientBoostingClassifier, RandomForestClassifier\n",
    "\n",
    "if (universe[\"model\"] == \"logreg\"):\n",
    "    model = LogisticRegression() #penalty=\"none\") #, solver=\"newton-cg\", max_iter=1) # include random_state=19 ?\n",
    "elif (universe[\"model\"] == \"penalized_logreg\"):\n",
    "    model = LogisticRegression(penalty=\"l2\", C=1.0) #, solver=\"newton-cg\", max_iter=1)\n",
    "elif (universe[\"model\"] == \"rf\"):\n",
    "    model = RandomForestClassifier(n_estimators=100, n_jobs=-1)\n",
    "elif (universe[\"model\"] == \"gbm\"):\n",
    "    model = GradientBoostingClassifier()\n",
    "elif (universe[\"model\"] == \"elasticnet\"):\n",
    "    model = LogisticRegression(penalty = 'elasticnet', solver = 'saga', l1_ratio = 0.5, max_iter=5000) # which solver to use?\n",
    "else:\n",
    "    raise \"Unsupported universe.model\""
   ]
  },
  {
   "cell_type": "code",
   "execution_count": 35,
   "id": "0cc8f744",
   "metadata": {
    "execution": {
     "iopub.execute_input": "2025-07-28T10:48:43.802581Z",
     "iopub.status.busy": "2025-07-28T10:48:43.802023Z",
     "iopub.status.idle": "2025-07-28T10:48:43.809159Z",
     "shell.execute_reply": "2025-07-28T10:48:43.808084Z"
    },
    "papermill": {
     "duration": 0.042352,
     "end_time": "2025-07-28T10:48:43.811150",
     "exception": false,
     "start_time": "2025-07-28T10:48:43.768798",
     "status": "completed"
    },
    "tags": []
   },
   "outputs": [],
   "source": [
    "import numpy as np\n",
    "from sklearn.pipeline import Pipeline\n",
    "from sklearn.preprocessing import StandardScaler\n",
    "\n",
    "model = Pipeline([\n",
    "    #(\"continuous_processor\", continuous_processor),\n",
    "    #(\"categorical_preprocessor\", categorical_preprocessor),\n",
    "    (\"scale\", StandardScaler() if universe[\"scale\"] == \"scale\" else None), \n",
    "    (\"model\", model),\n",
    "])"
   ]
  },
  {
   "cell_type": "code",
   "execution_count": 36,
   "id": "9442c04d",
   "metadata": {
    "execution": {
     "iopub.execute_input": "2025-07-28T10:48:43.859579Z",
     "iopub.status.busy": "2025-07-28T10:48:43.858777Z",
     "iopub.status.idle": "2025-07-28T10:48:43.921108Z",
     "shell.execute_reply": "2025-07-28T10:48:43.920273Z"
    },
    "papermill": {
     "duration": 0.087712,
     "end_time": "2025-07-28T10:48:43.922831",
     "exception": false,
     "start_time": "2025-07-28T10:48:43.835119",
     "status": "completed"
    },
    "tags": []
   },
   "outputs": [
    {
     "name": "stderr",
     "output_type": "stream",
     "text": [
      "/dss/dsshome1/0C/ra93lal2/.local/share/virtualenvs/CMA_Fairness_v2-3j10GkSs/lib/python3.10/site-packages/sklearn/linear_model/_logistic.py:444: ConvergenceWarning: lbfgs failed to converge (status=1):\n",
      "STOP: TOTAL NO. of ITERATIONS REACHED LIMIT.\n",
      "\n",
      "Increase the number of iterations (max_iter) or scale the data as shown in:\n",
      "    https://scikit-learn.org/stable/modules/preprocessing.html\n",
      "Please also refer to the documentation for alternative solver options:\n",
      "    https://scikit-learn.org/stable/modules/linear_model.html#logistic-regression\n",
      "  n_iter_i = _check_optimize_result(\n"
     ]
    },
    {
     "data": {
      "text/html": [
       "<style>#sk-container-id-1 {color: black;background-color: white;}#sk-container-id-1 pre{padding: 0;}#sk-container-id-1 div.sk-toggleable {background-color: white;}#sk-container-id-1 label.sk-toggleable__label {cursor: pointer;display: block;width: 100%;margin-bottom: 0;padding: 0.3em;box-sizing: border-box;text-align: center;}#sk-container-id-1 label.sk-toggleable__label-arrow:before {content: \"▸\";float: left;margin-right: 0.25em;color: #696969;}#sk-container-id-1 label.sk-toggleable__label-arrow:hover:before {color: black;}#sk-container-id-1 div.sk-estimator:hover label.sk-toggleable__label-arrow:before {color: black;}#sk-container-id-1 div.sk-toggleable__content {max-height: 0;max-width: 0;overflow: hidden;text-align: left;background-color: #f0f8ff;}#sk-container-id-1 div.sk-toggleable__content pre {margin: 0.2em;color: black;border-radius: 0.25em;background-color: #f0f8ff;}#sk-container-id-1 input.sk-toggleable__control:checked~div.sk-toggleable__content {max-height: 200px;max-width: 100%;overflow: auto;}#sk-container-id-1 input.sk-toggleable__control:checked~label.sk-toggleable__label-arrow:before {content: \"▾\";}#sk-container-id-1 div.sk-estimator input.sk-toggleable__control:checked~label.sk-toggleable__label {background-color: #d4ebff;}#sk-container-id-1 div.sk-label input.sk-toggleable__control:checked~label.sk-toggleable__label {background-color: #d4ebff;}#sk-container-id-1 input.sk-hidden--visually {border: 0;clip: rect(1px 1px 1px 1px);clip: rect(1px, 1px, 1px, 1px);height: 1px;margin: -1px;overflow: hidden;padding: 0;position: absolute;width: 1px;}#sk-container-id-1 div.sk-estimator {font-family: monospace;background-color: #f0f8ff;border: 1px dotted black;border-radius: 0.25em;box-sizing: border-box;margin-bottom: 0.5em;}#sk-container-id-1 div.sk-estimator:hover {background-color: #d4ebff;}#sk-container-id-1 div.sk-parallel-item::after {content: \"\";width: 100%;border-bottom: 1px solid gray;flex-grow: 1;}#sk-container-id-1 div.sk-label:hover label.sk-toggleable__label {background-color: #d4ebff;}#sk-container-id-1 div.sk-serial::before {content: \"\";position: absolute;border-left: 1px solid gray;box-sizing: border-box;top: 0;bottom: 0;left: 50%;z-index: 0;}#sk-container-id-1 div.sk-serial {display: flex;flex-direction: column;align-items: center;background-color: white;padding-right: 0.2em;padding-left: 0.2em;position: relative;}#sk-container-id-1 div.sk-item {position: relative;z-index: 1;}#sk-container-id-1 div.sk-parallel {display: flex;align-items: stretch;justify-content: center;background-color: white;position: relative;}#sk-container-id-1 div.sk-item::before, #sk-container-id-1 div.sk-parallel-item::before {content: \"\";position: absolute;border-left: 1px solid gray;box-sizing: border-box;top: 0;bottom: 0;left: 50%;z-index: -1;}#sk-container-id-1 div.sk-parallel-item {display: flex;flex-direction: column;z-index: 1;position: relative;background-color: white;}#sk-container-id-1 div.sk-parallel-item:first-child::after {align-self: flex-end;width: 50%;}#sk-container-id-1 div.sk-parallel-item:last-child::after {align-self: flex-start;width: 50%;}#sk-container-id-1 div.sk-parallel-item:only-child::after {width: 0;}#sk-container-id-1 div.sk-dashed-wrapped {border: 1px dashed gray;margin: 0 0.4em 0.5em 0.4em;box-sizing: border-box;padding-bottom: 0.4em;background-color: white;}#sk-container-id-1 div.sk-label label {font-family: monospace;font-weight: bold;display: inline-block;line-height: 1.2em;}#sk-container-id-1 div.sk-label-container {text-align: center;}#sk-container-id-1 div.sk-container {/* jupyter's `normalize.less` sets `[hidden] { display: none; }` but bootstrap.min.css set `[hidden] { display: none !important; }` so we also need the `!important` here to be able to override the default hidden behavior on the sphinx rendered scikit-learn.org. See: https://github.com/scikit-learn/scikit-learn/issues/21755 */display: inline-block !important;position: relative;}#sk-container-id-1 div.sk-text-repr-fallback {display: none;}</style><div id=\"sk-container-id-1\" class=\"sk-top-container\"><div class=\"sk-text-repr-fallback\"><pre>Pipeline(steps=[(&#x27;scale&#x27;, None), (&#x27;model&#x27;, LogisticRegression())])</pre><b>In a Jupyter environment, please rerun this cell to show the HTML representation or trust the notebook. <br />On GitHub, the HTML representation is unable to render, please try loading this page with nbviewer.org.</b></div><div class=\"sk-container\" hidden><div class=\"sk-item sk-dashed-wrapped\"><div class=\"sk-label-container\"><div class=\"sk-label sk-toggleable\"><input class=\"sk-toggleable__control sk-hidden--visually\" id=\"sk-estimator-id-1\" type=\"checkbox\" ><label for=\"sk-estimator-id-1\" class=\"sk-toggleable__label sk-toggleable__label-arrow\">Pipeline</label><div class=\"sk-toggleable__content\"><pre>Pipeline(steps=[(&#x27;scale&#x27;, None), (&#x27;model&#x27;, LogisticRegression())])</pre></div></div></div><div class=\"sk-serial\"><div class=\"sk-item\"><div class=\"sk-estimator sk-toggleable\"><input class=\"sk-toggleable__control sk-hidden--visually\" id=\"sk-estimator-id-2\" type=\"checkbox\" ><label for=\"sk-estimator-id-2\" class=\"sk-toggleable__label sk-toggleable__label-arrow\">None</label><div class=\"sk-toggleable__content\"><pre>None</pre></div></div></div><div class=\"sk-item\"><div class=\"sk-estimator sk-toggleable\"><input class=\"sk-toggleable__control sk-hidden--visually\" id=\"sk-estimator-id-3\" type=\"checkbox\" ><label for=\"sk-estimator-id-3\" class=\"sk-toggleable__label sk-toggleable__label-arrow\">LogisticRegression</label><div class=\"sk-toggleable__content\"><pre>LogisticRegression()</pre></div></div></div></div></div></div></div>"
      ],
      "text/plain": [
       "Pipeline(steps=[('scale', None), ('model', LogisticRegression())])"
      ]
     },
     "execution_count": 36,
     "metadata": {},
     "output_type": "execute_result"
    }
   ],
   "source": [
    "model.fit(X_train, y_train.values.ravel())"
   ]
  },
  {
   "cell_type": "code",
   "execution_count": 37,
   "id": "af59f8c0",
   "metadata": {
    "execution": {
     "iopub.execute_input": "2025-07-28T10:48:43.971804Z",
     "iopub.status.busy": "2025-07-28T10:48:43.971223Z",
     "iopub.status.idle": "2025-07-28T10:48:43.977009Z",
     "shell.execute_reply": "2025-07-28T10:48:43.975964Z"
    },
    "papermill": {
     "duration": 0.031943,
     "end_time": "2025-07-28T10:48:43.978754",
     "exception": false,
     "start_time": "2025-07-28T10:48:43.946811",
     "status": "completed"
    },
    "tags": []
   },
   "outputs": [],
   "source": [
    "from fairness_multiverse.universe import predict_w_threshold"
   ]
  },
  {
   "cell_type": "code",
   "execution_count": 38,
   "id": "a7cf2e16",
   "metadata": {
    "execution": {
     "iopub.execute_input": "2025-07-28T10:48:44.029608Z",
     "iopub.status.busy": "2025-07-28T10:48:44.029091Z",
     "iopub.status.idle": "2025-07-28T10:48:44.140700Z",
     "shell.execute_reply": "2025-07-28T10:48:44.139741Z"
    },
    "papermill": {
     "duration": 0.139554,
     "end_time": "2025-07-28T10:48:44.142418",
     "exception": false,
     "start_time": "2025-07-28T10:48:44.002864",
     "status": "completed"
    },
    "tags": []
   },
   "outputs": [
    {
     "data": {
      "text/plain": [
       "0.8518782744398617"
      ]
     },
     "execution_count": 38,
     "metadata": {},
     "output_type": "execute_result"
    }
   ],
   "source": [
    "probs_test = model.predict_proba(X_test)\n",
    "\n",
    "'''\n",
    "Below code returns a boolean array (or binary 0/1 array depending on how it’s used) where each element \n",
    "is True if the probability of class 1 is greater than or equal to the threshold, and False otherwise.\n",
    "'''\n",
    "y_pred_default = predict_w_threshold(probs_test, 0.5)\n",
    "\n",
    "from sklearn.metrics import accuracy_score\n",
    "\n",
    "# Naive prediction\n",
    "accuracy_score(y_true = y_true, y_pred = y_pred_default)"
   ]
  },
  {
   "cell_type": "code",
   "execution_count": 39,
   "id": "081964c3",
   "metadata": {
    "execution": {
     "iopub.execute_input": "2025-07-28T10:48:44.191200Z",
     "iopub.status.busy": "2025-07-28T10:48:44.190729Z",
     "iopub.status.idle": "2025-07-28T10:48:44.281561Z",
     "shell.execute_reply": "2025-07-28T10:48:44.280558Z"
    },
    "papermill": {
     "duration": 0.118481,
     "end_time": "2025-07-28T10:48:44.283413",
     "exception": false,
     "start_time": "2025-07-28T10:48:44.164932",
     "status": "completed"
    },
    "tags": []
   },
   "outputs": [
    {
     "data": {
      "text/plain": [
       "array([0, 0, 0, ..., 0, 0, 0])"
      ]
     },
     "execution_count": 39,
     "metadata": {},
     "output_type": "execute_result"
    }
   ],
   "source": [
    "model.predict(X_test)"
   ]
  },
  {
   "cell_type": "markdown",
   "id": "56c9705b",
   "metadata": {
    "papermill": {
     "duration": 0.027661,
     "end_time": "2025-07-28T10:48:44.338179",
     "exception": false,
     "start_time": "2025-07-28T10:48:44.310518",
     "status": "completed"
    },
    "tags": []
   },
   "source": [
    "# Conformal Prediction"
   ]
  },
  {
   "cell_type": "code",
   "execution_count": 40,
   "id": "160ec6ff",
   "metadata": {
    "execution": {
     "iopub.execute_input": "2025-07-28T10:48:44.393856Z",
     "iopub.status.busy": "2025-07-28T10:48:44.393396Z",
     "iopub.status.idle": "2025-07-28T10:48:44.399142Z",
     "shell.execute_reply": "2025-07-28T10:48:44.398022Z"
    },
    "papermill": {
     "duration": 0.04543,
     "end_time": "2025-07-28T10:48:44.410907",
     "exception": false,
     "start_time": "2025-07-28T10:48:44.365477",
     "status": "completed"
    },
    "tags": []
   },
   "outputs": [],
   "source": [
    "# Miscoverage level for conformal prediction (10% allowed error rate => 90% target coverage)\n",
    "alpha = 0.1"
   ]
  },
  {
   "cell_type": "code",
   "execution_count": 41,
   "id": "eadf4555-3dd3-440e-8e35-f82a4ad9f855",
   "metadata": {
    "execution": {
     "iopub.execute_input": "2025-07-28T10:48:44.484102Z",
     "iopub.status.busy": "2025-07-28T10:48:44.483028Z",
     "iopub.status.idle": "2025-07-28T10:48:44.575166Z",
     "shell.execute_reply": "2025-07-28T10:48:44.573964Z"
    },
    "papermill": {
     "duration": 0.122596,
     "end_time": "2025-07-28T10:48:44.577431",
     "exception": false,
     "start_time": "2025-07-28T10:48:44.454835",
     "status": "completed"
    },
    "tags": []
   },
   "outputs": [],
   "source": [
    "probs_calib = model.predict_proba(X_calib)"
   ]
  },
  {
   "cell_type": "code",
   "execution_count": 42,
   "id": "2ed93547-6d5d-4983-9b36-1ecb300da49a",
   "metadata": {
    "execution": {
     "iopub.execute_input": "2025-07-28T10:48:44.632537Z",
     "iopub.status.busy": "2025-07-28T10:48:44.631377Z",
     "iopub.status.idle": "2025-07-28T10:48:44.637565Z",
     "shell.execute_reply": "2025-07-28T10:48:44.636527Z"
    },
    "papermill": {
     "duration": 0.035611,
     "end_time": "2025-07-28T10:48:44.639700",
     "exception": false,
     "start_time": "2025-07-28T10:48:44.604089",
     "status": "completed"
    },
    "tags": []
   },
   "outputs": [],
   "source": [
    "y_calib = y_calib.values.ravel().astype(int)"
   ]
  },
  {
   "cell_type": "code",
   "execution_count": 43,
   "id": "65d1320d-f588-4b38-9072-62af1ae97f7d",
   "metadata": {
    "execution": {
     "iopub.execute_input": "2025-07-28T10:48:44.696086Z",
     "iopub.status.busy": "2025-07-28T10:48:44.695482Z",
     "iopub.status.idle": "2025-07-28T10:48:44.703746Z",
     "shell.execute_reply": "2025-07-28T10:48:44.702642Z"
    },
    "papermill": {
     "duration": 0.038934,
     "end_time": "2025-07-28T10:48:44.705731",
     "exception": false,
     "start_time": "2025-07-28T10:48:44.666797",
     "status": "completed"
    },
    "tags": []
   },
   "outputs": [],
   "source": [
    "from fairness_multiverse.conformal import compute_nc_scores\n",
    "\n",
    "# Compute nonconformity scores on calibration set (1 - probability of true class)\n",
    "nc_scores = compute_nc_scores(probs_calib, y_calib)"
   ]
  },
  {
   "cell_type": "code",
   "execution_count": 44,
   "id": "df3b8ca3-53b7-43d5-9667-7c85da7aeda2",
   "metadata": {
    "execution": {
     "iopub.execute_input": "2025-07-28T10:48:44.761284Z",
     "iopub.status.busy": "2025-07-28T10:48:44.760329Z",
     "iopub.status.idle": "2025-07-28T10:48:44.767575Z",
     "shell.execute_reply": "2025-07-28T10:48:44.766574Z"
    },
    "papermill": {
     "duration": 0.036456,
     "end_time": "2025-07-28T10:48:44.769380",
     "exception": false,
     "start_time": "2025-07-28T10:48:44.732924",
     "status": "completed"
    },
    "tags": []
   },
   "outputs": [],
   "source": [
    "from fairness_multiverse.conformal import find_threshold\n",
    "\n",
    "# Find conformal threshold q_hat for the given alpha (split conformal method)\n",
    "q_hat = find_threshold(nc_scores, alpha)"
   ]
  },
  {
   "cell_type": "code",
   "execution_count": 45,
   "id": "4d29e6c1-0ef6-4aa4-b8fe-4fe79b0d033a",
   "metadata": {
    "execution": {
     "iopub.execute_input": "2025-07-28T10:48:44.823335Z",
     "iopub.status.busy": "2025-07-28T10:48:44.822588Z",
     "iopub.status.idle": "2025-07-28T10:48:44.830264Z",
     "shell.execute_reply": "2025-07-28T10:48:44.829157Z"
    },
    "papermill": {
     "duration": 0.036599,
     "end_time": "2025-07-28T10:48:44.832130",
     "exception": false,
     "start_time": "2025-07-28T10:48:44.795531",
     "status": "completed"
    },
    "tags": []
   },
   "outputs": [
    {
     "data": {
      "text/plain": [
       "0.6936687923718"
      ]
     },
     "execution_count": 45,
     "metadata": {},
     "output_type": "execute_result"
    }
   ],
   "source": [
    "q_hat"
   ]
  },
  {
   "cell_type": "code",
   "execution_count": 46,
   "id": "92460794-cdac-4be2-ba28-f28c0515a6fb",
   "metadata": {
    "execution": {
     "iopub.execute_input": "2025-07-28T10:48:44.878107Z",
     "iopub.status.busy": "2025-07-28T10:48:44.877642Z",
     "iopub.status.idle": "2025-07-28T10:48:45.743490Z",
     "shell.execute_reply": "2025-07-28T10:48:45.742393Z"
    },
    "papermill": {
     "duration": 0.891384,
     "end_time": "2025-07-28T10:48:45.745676",
     "exception": false,
     "start_time": "2025-07-28T10:48:44.854292",
     "status": "completed"
    },
    "tags": []
   },
   "outputs": [],
   "source": [
    "from fairness_multiverse.conformal import predict_conformal_sets\n",
    "\n",
    "# Generate prediction sets for each test example\n",
    "pred_sets = predict_conformal_sets(model, X_test, q_hat)"
   ]
  },
  {
   "cell_type": "code",
   "execution_count": 47,
   "id": "d90c9a65-e6db-4f5d-80cd-e68fb7e46829",
   "metadata": {
    "execution": {
     "iopub.execute_input": "2025-07-28T10:48:45.793799Z",
     "iopub.status.busy": "2025-07-28T10:48:45.793270Z",
     "iopub.status.idle": "2025-07-28T10:48:45.800810Z",
     "shell.execute_reply": "2025-07-28T10:48:45.798294Z"
    },
    "papermill": {
     "duration": 0.033725,
     "end_time": "2025-07-28T10:48:45.802489",
     "exception": false,
     "start_time": "2025-07-28T10:48:45.768764",
     "status": "completed"
    },
    "tags": []
   },
   "outputs": [],
   "source": [
    "y_true = y_true.squeeze()"
   ]
  },
  {
   "cell_type": "code",
   "execution_count": 48,
   "id": "3a58a54a-1e68-46b9-927a-df01f18aebc8",
   "metadata": {
    "execution": {
     "iopub.execute_input": "2025-07-28T10:48:45.849719Z",
     "iopub.status.busy": "2025-07-28T10:48:45.849318Z",
     "iopub.status.idle": "2025-07-28T10:48:46.808814Z",
     "shell.execute_reply": "2025-07-28T10:48:46.807519Z"
    },
    "papermill": {
     "duration": 0.98506,
     "end_time": "2025-07-28T10:48:46.810649",
     "exception": false,
     "start_time": "2025-07-28T10:48:45.825589",
     "status": "completed"
    },
    "tags": []
   },
   "outputs": [],
   "source": [
    "from fairness_multiverse.conformal import evaluate_sets\n",
    "\n",
    "# Evaluate coverage and average set size on test data\n",
    "metrics = evaluate_sets(pred_sets, y_true)"
   ]
  },
  {
   "cell_type": "markdown",
   "id": "2b569c12-9aaa-4c88-98c9-bbcd0cf3ebb8",
   "metadata": {
    "papermill": {
     "duration": 0.025509,
     "end_time": "2025-07-28T10:48:46.863756",
     "exception": false,
     "start_time": "2025-07-28T10:48:46.838247",
     "status": "completed"
    },
    "tags": []
   },
   "source": [
    "# CP Metrics"
   ]
  },
  {
   "cell_type": "code",
   "execution_count": 49,
   "id": "5ce0a5cb-201f-45a0-ade5-94c7f0bd6095",
   "metadata": {
    "execution": {
     "iopub.execute_input": "2025-07-28T10:48:46.914565Z",
     "iopub.status.busy": "2025-07-28T10:48:46.913921Z",
     "iopub.status.idle": "2025-07-28T10:48:46.921378Z",
     "shell.execute_reply": "2025-07-28T10:48:46.920516Z"
    },
    "papermill": {
     "duration": 0.042777,
     "end_time": "2025-07-28T10:48:46.929341",
     "exception": false,
     "start_time": "2025-07-28T10:48:46.886564",
     "status": "completed"
    },
    "tags": []
   },
   "outputs": [
    {
     "data": {
      "text/plain": [
       "{'coverage': 0.9108014714078698, 'avg_size': 1.2188384795452012}"
      ]
     },
     "execution_count": 49,
     "metadata": {},
     "output_type": "execute_result"
    }
   ],
   "source": [
    "metrics"
   ]
  },
  {
   "cell_type": "code",
   "execution_count": 50,
   "id": "9b9a838d-31c9-430b-ae14-12baee460d17",
   "metadata": {
    "execution": {
     "iopub.execute_input": "2025-07-28T10:48:46.980515Z",
     "iopub.status.busy": "2025-07-28T10:48:46.980005Z",
     "iopub.status.idle": "2025-07-28T10:48:46.986975Z",
     "shell.execute_reply": "2025-07-28T10:48:46.985967Z"
    },
    "papermill": {
     "duration": 0.03566,
     "end_time": "2025-07-28T10:48:46.988860",
     "exception": false,
     "start_time": "2025-07-28T10:48:46.953200",
     "status": "completed"
    },
    "tags": []
   },
   "outputs": [],
   "source": [
    "example_universe = universe.copy()\n",
    "universe_training_size = example_universe.get(\"training_size\")\n",
    "universe_scale = example_universe.get(\"scale\")\n",
    "universe_model = example_universe.get(\"model\")\n",
    "universe_exclude_features = example_universe.get(\"exclude_features\")\n",
    "universe_exclude_subgroups = example_universe.get(\"exclude_subgroups\")"
   ]
  },
  {
   "cell_type": "code",
   "execution_count": 51,
   "id": "f4b6a8ac-9dc0-4245-8a91-5b3b5999c4f9",
   "metadata": {
    "execution": {
     "iopub.execute_input": "2025-07-28T10:48:47.023352Z",
     "iopub.status.busy": "2025-07-28T10:48:47.022797Z",
     "iopub.status.idle": "2025-07-28T10:48:47.028426Z",
     "shell.execute_reply": "2025-07-28T10:48:47.027631Z"
    },
    "papermill": {
     "duration": 0.022469,
     "end_time": "2025-07-28T10:48:47.029775",
     "exception": false,
     "start_time": "2025-07-28T10:48:47.007306",
     "status": "completed"
    },
    "tags": []
   },
   "outputs": [],
   "source": [
    "cp_metrics_dict = {\n",
    "    \"universe_id\": [universe_id],\n",
    "    \"universe_training_size\": [universe_training_size],\n",
    "    \"universe_scale\": [universe_scale],\n",
    "    \"universe_model\": [universe_model],\n",
    "    \"universe_exclude_features\": [universe_exclude_features],\n",
    "    \"universe_exclude_subgroups\": [universe_exclude_subgroups],\n",
    "    \"q_hat\": [q_hat],\n",
    "    \"coverage\": [metrics[\"coverage\"]],\n",
    "    \"avg_size\": [metrics[\"avg_size\"]],\n",
    "}"
   ]
  },
  {
   "cell_type": "code",
   "execution_count": 52,
   "id": "908acbb1-0371-4915-85ca-3fa520d2efe2",
   "metadata": {
    "execution": {
     "iopub.execute_input": "2025-07-28T10:48:47.058611Z",
     "iopub.status.busy": "2025-07-28T10:48:47.058246Z",
     "iopub.status.idle": "2025-07-28T10:48:47.065169Z",
     "shell.execute_reply": "2025-07-28T10:48:47.064400Z"
    },
    "papermill": {
     "duration": 0.022339,
     "end_time": "2025-07-28T10:48:47.066584",
     "exception": false,
     "start_time": "2025-07-28T10:48:47.044245",
     "status": "completed"
    },
    "tags": []
   },
   "outputs": [
    {
     "data": {
      "text/plain": [
       "{'universe_id': ['26e258d745239757f121d870aa372c7f'],\n",
       " 'universe_training_size': ['1k'],\n",
       " 'universe_scale': ['do-not-scale'],\n",
       " 'universe_model': ['penalized_logreg'],\n",
       " 'universe_exclude_features': ['nationality'],\n",
       " 'universe_exclude_subgroups': ['keep-all'],\n",
       " 'q_hat': [0.6936687923718],\n",
       " 'coverage': [0.9108014714078698],\n",
       " 'avg_size': [1.2188384795452012]}"
      ]
     },
     "execution_count": 52,
     "metadata": {},
     "output_type": "execute_result"
    }
   ],
   "source": [
    "cp_metrics_dict"
   ]
  },
  {
   "cell_type": "code",
   "execution_count": 53,
   "id": "33007efc-14e9-4ec6-97ac-56a455c82265",
   "metadata": {
    "execution": {
     "iopub.execute_input": "2025-07-28T10:48:47.095073Z",
     "iopub.status.busy": "2025-07-28T10:48:47.094664Z",
     "iopub.status.idle": "2025-07-28T10:48:47.100075Z",
     "shell.execute_reply": "2025-07-28T10:48:47.099210Z"
    },
    "papermill": {
     "duration": 0.021062,
     "end_time": "2025-07-28T10:48:47.101562",
     "exception": false,
     "start_time": "2025-07-28T10:48:47.080500",
     "status": "completed"
    },
    "tags": []
   },
   "outputs": [],
   "source": [
    "cp_metrics_df = pd.DataFrame(cp_metrics_dict)"
   ]
  },
  {
   "cell_type": "code",
   "execution_count": 54,
   "id": "db12611b-57b2-4910-b9d0-355adfd6e7bf",
   "metadata": {
    "execution": {
     "iopub.execute_input": "2025-07-28T10:48:47.130423Z",
     "iopub.status.busy": "2025-07-28T10:48:47.129858Z",
     "iopub.status.idle": "2025-07-28T10:48:47.145063Z",
     "shell.execute_reply": "2025-07-28T10:48:47.144116Z"
    },
    "papermill": {
     "duration": 0.030796,
     "end_time": "2025-07-28T10:48:47.146448",
     "exception": false,
     "start_time": "2025-07-28T10:48:47.115652",
     "status": "completed"
    },
    "tags": []
   },
   "outputs": [
    {
     "data": {
      "text/html": [
       "<div>\n",
       "<style scoped>\n",
       "    .dataframe tbody tr th:only-of-type {\n",
       "        vertical-align: middle;\n",
       "    }\n",
       "\n",
       "    .dataframe tbody tr th {\n",
       "        vertical-align: top;\n",
       "    }\n",
       "\n",
       "    .dataframe thead th {\n",
       "        text-align: right;\n",
       "    }\n",
       "</style>\n",
       "<table border=\"1\" class=\"dataframe\">\n",
       "  <thead>\n",
       "    <tr style=\"text-align: right;\">\n",
       "      <th></th>\n",
       "      <th>universe_id</th>\n",
       "      <th>universe_training_size</th>\n",
       "      <th>universe_scale</th>\n",
       "      <th>universe_model</th>\n",
       "      <th>universe_exclude_features</th>\n",
       "      <th>universe_exclude_subgroups</th>\n",
       "      <th>q_hat</th>\n",
       "      <th>coverage</th>\n",
       "      <th>avg_size</th>\n",
       "    </tr>\n",
       "  </thead>\n",
       "  <tbody>\n",
       "    <tr>\n",
       "      <th>0</th>\n",
       "      <td>26e258d745239757f121d870aa372c7f</td>\n",
       "      <td>1k</td>\n",
       "      <td>do-not-scale</td>\n",
       "      <td>penalized_logreg</td>\n",
       "      <td>nationality</td>\n",
       "      <td>keep-all</td>\n",
       "      <td>0.693669</td>\n",
       "      <td>0.910801</td>\n",
       "      <td>1.218838</td>\n",
       "    </tr>\n",
       "  </tbody>\n",
       "</table>\n",
       "</div>"
      ],
      "text/plain": [
       "                        universe_id universe_training_size universe_scale  \\\n",
       "0  26e258d745239757f121d870aa372c7f                     1k   do-not-scale   \n",
       "\n",
       "     universe_model universe_exclude_features universe_exclude_subgroups  \\\n",
       "0  penalized_logreg               nationality                   keep-all   \n",
       "\n",
       "      q_hat  coverage  avg_size  \n",
       "0  0.693669  0.910801  1.218838  "
      ]
     },
     "execution_count": 54,
     "metadata": {},
     "output_type": "execute_result"
    }
   ],
   "source": [
    "cp_metrics_df"
   ]
  },
  {
   "cell_type": "code",
   "execution_count": 55,
   "id": "b7fbde55-a0a1-47e4-9af6-fe4a17fa8c61",
   "metadata": {
    "execution": {
     "iopub.execute_input": "2025-07-28T10:48:47.175367Z",
     "iopub.status.busy": "2025-07-28T10:48:47.174981Z",
     "iopub.status.idle": "2025-07-28T10:48:47.179831Z",
     "shell.execute_reply": "2025-07-28T10:48:47.179093Z"
    },
    "papermill": {
     "duration": 0.021166,
     "end_time": "2025-07-28T10:48:47.181624",
     "exception": false,
     "start_time": "2025-07-28T10:48:47.160458",
     "status": "completed"
    },
    "tags": []
   },
   "outputs": [],
   "source": [
    "# Conditional Coverage & looking at subgroups"
   ]
  },
  {
   "cell_type": "code",
   "execution_count": 56,
   "id": "027ae886-68dd-4141-96c7-805a5450e1ef",
   "metadata": {
    "execution": {
     "iopub.execute_input": "2025-07-28T10:48:47.229017Z",
     "iopub.status.busy": "2025-07-28T10:48:47.228554Z",
     "iopub.status.idle": "2025-07-28T10:48:47.529506Z",
     "shell.execute_reply": "2025-07-28T10:48:47.528530Z"
    },
    "papermill": {
     "duration": 0.331548,
     "end_time": "2025-07-28T10:48:47.531726",
     "exception": false,
     "start_time": "2025-07-28T10:48:47.200178",
     "status": "completed"
    },
    "tags": []
   },
   "outputs": [],
   "source": [
    "from fairness_multiverse.conformal import build_cp_groups\n",
    "\n",
    "cp_groups_df = build_cp_groups(pred_sets, y_true, X_test.index, org_test)\n",
    "#needs universe_id and setting"
   ]
  },
  {
   "cell_type": "code",
   "execution_count": 57,
   "id": "01d5802c-663a-4d1f-9d69-e036faaffbf7",
   "metadata": {
    "execution": {
     "iopub.execute_input": "2025-07-28T10:48:47.598421Z",
     "iopub.status.busy": "2025-07-28T10:48:47.597381Z",
     "iopub.status.idle": "2025-07-28T10:48:47.602990Z",
     "shell.execute_reply": "2025-07-28T10:48:47.602049Z"
    },
    "papermill": {
     "duration": 0.033597,
     "end_time": "2025-07-28T10:48:47.604857",
     "exception": false,
     "start_time": "2025-07-28T10:48:47.571260",
     "status": "completed"
    },
    "tags": []
   },
   "outputs": [],
   "source": [
    "#delete\n",
    "#cp_groups_df"
   ]
  },
  {
   "cell_type": "code",
   "execution_count": 58,
   "id": "fa424af1-d1eb-443d-b717-2d279ada8408",
   "metadata": {
    "execution": {
     "iopub.execute_input": "2025-07-28T10:48:47.662081Z",
     "iopub.status.busy": "2025-07-28T10:48:47.661379Z",
     "iopub.status.idle": "2025-07-28T10:48:47.667202Z",
     "shell.execute_reply": "2025-07-28T10:48:47.666325Z"
    },
    "papermill": {
     "duration": 0.036167,
     "end_time": "2025-07-28T10:48:47.668915",
     "exception": false,
     "start_time": "2025-07-28T10:48:47.632748",
     "status": "completed"
    },
    "tags": []
   },
   "outputs": [],
   "source": [
    "#delete\n",
    "#percentage = (cp_groups_df['nongerman_female'] == 1).mean() * 100\n",
    "#print(percentage)\n"
   ]
  },
  {
   "cell_type": "code",
   "execution_count": 59,
   "id": "6cbdab96-b2b2-45af-ad54-d0516db2e28d",
   "metadata": {
    "execution": {
     "iopub.execute_input": "2025-07-28T10:48:47.726339Z",
     "iopub.status.busy": "2025-07-28T10:48:47.725381Z",
     "iopub.status.idle": "2025-07-28T10:48:49.602889Z",
     "shell.execute_reply": "2025-07-28T10:48:49.601627Z"
    },
    "papermill": {
     "duration": 1.908328,
     "end_time": "2025-07-28T10:48:49.605150",
     "exception": false,
     "start_time": "2025-07-28T10:48:47.696822",
     "status": "completed"
    },
    "tags": []
   },
   "outputs": [],
   "source": [
    "# Define covered = 1 if true_label is in the predicted set\n",
    "cp_groups_df['covered'] = cp_groups_df.apply(\n",
    "    lambda r: int(r['true_label'] in r['pred_set']),\n",
    "    axis=1\n",
    ")"
   ]
  },
  {
   "cell_type": "code",
   "execution_count": 60,
   "id": "338ff529-1a6b-4b87-a931-8e4788d52aad",
   "metadata": {
    "execution": {
     "iopub.execute_input": "2025-07-28T10:48:49.666678Z",
     "iopub.status.busy": "2025-07-28T10:48:49.665612Z",
     "iopub.status.idle": "2025-07-28T10:48:49.671448Z",
     "shell.execute_reply": "2025-07-28T10:48:49.670208Z"
    },
    "papermill": {
     "duration": 0.03705,
     "end_time": "2025-07-28T10:48:49.673522",
     "exception": false,
     "start_time": "2025-07-28T10:48:49.636472",
     "status": "completed"
    },
    "tags": []
   },
   "outputs": [],
   "source": [
    "#cp_groups_df"
   ]
  },
  {
   "cell_type": "code",
   "execution_count": 61,
   "id": "90032e27-66df-4540-9169-4e89cfbaa758",
   "metadata": {
    "execution": {
     "iopub.execute_input": "2025-07-28T10:48:49.728906Z",
     "iopub.status.busy": "2025-07-28T10:48:49.728007Z",
     "iopub.status.idle": "2025-07-28T10:48:49.740521Z",
     "shell.execute_reply": "2025-07-28T10:48:49.739401Z"
    },
    "papermill": {
     "duration": 0.041782,
     "end_time": "2025-07-28T10:48:49.742257",
     "exception": false,
     "start_time": "2025-07-28T10:48:49.700475",
     "status": "completed"
    },
    "tags": []
   },
   "outputs": [],
   "source": [
    "subgroups = ['frau1','nongerman','nongerman_male','nongerman_female']\n",
    "\n",
    "# Conditional coverage for subgroup==1\n",
    "cond_coverage = {\n",
    "    g: cp_groups_df.loc[cp_groups_df[g]==1, 'covered'].mean()\n",
    "    for g in subgroups\n",
    "}"
   ]
  },
  {
   "cell_type": "code",
   "execution_count": 62,
   "id": "1e348fb1-b9c3-45bc-ba23-f016827a7e0d",
   "metadata": {
    "execution": {
     "iopub.execute_input": "2025-07-28T10:48:49.801047Z",
     "iopub.status.busy": "2025-07-28T10:48:49.800531Z",
     "iopub.status.idle": "2025-07-28T10:48:49.808573Z",
     "shell.execute_reply": "2025-07-28T10:48:49.807396Z"
    },
    "papermill": {
     "duration": 0.039653,
     "end_time": "2025-07-28T10:48:49.810412",
     "exception": false,
     "start_time": "2025-07-28T10:48:49.770759",
     "status": "completed"
    },
    "tags": []
   },
   "outputs": [
    {
     "data": {
      "text/plain": [
       "{'frau1': 0.9096374174417038,\n",
       " 'nongerman': 0.9268511761073374,\n",
       " 'nongerman_male': 0.9421777897865442,\n",
       " 'nongerman_female': 0.9014903129657228}"
      ]
     },
     "execution_count": 62,
     "metadata": {},
     "output_type": "execute_result"
    }
   ],
   "source": [
    "cond_coverage"
   ]
  },
  {
   "cell_type": "code",
   "execution_count": 63,
   "id": "f5093324-c3dd-4d63-bc4c-8d945e5c8bbb",
   "metadata": {
    "execution": {
     "iopub.execute_input": "2025-07-28T10:48:49.868980Z",
     "iopub.status.busy": "2025-07-28T10:48:49.868483Z",
     "iopub.status.idle": "2025-07-28T10:48:49.876653Z",
     "shell.execute_reply": "2025-07-28T10:48:49.875658Z"
    },
    "papermill": {
     "duration": 0.039177,
     "end_time": "2025-07-28T10:48:49.878419",
     "exception": false,
     "start_time": "2025-07-28T10:48:49.839242",
     "status": "completed"
    },
    "tags": []
   },
   "outputs": [],
   "source": [
    "for subgroup, cov in cond_coverage.items():\n",
    "    cp_metrics_df[f\"cov_{subgroup}\"] = cov"
   ]
  },
  {
   "cell_type": "code",
   "execution_count": 64,
   "id": "6e872e10-dbe5-49e8-b554-5030c98ff75d",
   "metadata": {
    "execution": {
     "iopub.execute_input": "2025-07-28T10:48:49.938239Z",
     "iopub.status.busy": "2025-07-28T10:48:49.937533Z",
     "iopub.status.idle": "2025-07-28T10:48:49.956905Z",
     "shell.execute_reply": "2025-07-28T10:48:49.955750Z"
    },
    "papermill": {
     "duration": 0.051448,
     "end_time": "2025-07-28T10:48:49.958794",
     "exception": false,
     "start_time": "2025-07-28T10:48:49.907346",
     "status": "completed"
    },
    "tags": []
   },
   "outputs": [
    {
     "data": {
      "text/html": [
       "<div>\n",
       "<style scoped>\n",
       "    .dataframe tbody tr th:only-of-type {\n",
       "        vertical-align: middle;\n",
       "    }\n",
       "\n",
       "    .dataframe tbody tr th {\n",
       "        vertical-align: top;\n",
       "    }\n",
       "\n",
       "    .dataframe thead th {\n",
       "        text-align: right;\n",
       "    }\n",
       "</style>\n",
       "<table border=\"1\" class=\"dataframe\">\n",
       "  <thead>\n",
       "    <tr style=\"text-align: right;\">\n",
       "      <th></th>\n",
       "      <th>universe_id</th>\n",
       "      <th>universe_training_size</th>\n",
       "      <th>universe_scale</th>\n",
       "      <th>universe_model</th>\n",
       "      <th>universe_exclude_features</th>\n",
       "      <th>universe_exclude_subgroups</th>\n",
       "      <th>q_hat</th>\n",
       "      <th>coverage</th>\n",
       "      <th>avg_size</th>\n",
       "      <th>cov_frau1</th>\n",
       "      <th>cov_nongerman</th>\n",
       "      <th>cov_nongerman_male</th>\n",
       "      <th>cov_nongerman_female</th>\n",
       "    </tr>\n",
       "  </thead>\n",
       "  <tbody>\n",
       "    <tr>\n",
       "      <th>0</th>\n",
       "      <td>26e258d745239757f121d870aa372c7f</td>\n",
       "      <td>1k</td>\n",
       "      <td>do-not-scale</td>\n",
       "      <td>penalized_logreg</td>\n",
       "      <td>nationality</td>\n",
       "      <td>keep-all</td>\n",
       "      <td>0.693669</td>\n",
       "      <td>0.910801</td>\n",
       "      <td>1.218838</td>\n",
       "      <td>0.909637</td>\n",
       "      <td>0.926851</td>\n",
       "      <td>0.942178</td>\n",
       "      <td>0.90149</td>\n",
       "    </tr>\n",
       "  </tbody>\n",
       "</table>\n",
       "</div>"
      ],
      "text/plain": [
       "                        universe_id universe_training_size universe_scale  \\\n",
       "0  26e258d745239757f121d870aa372c7f                     1k   do-not-scale   \n",
       "\n",
       "     universe_model universe_exclude_features universe_exclude_subgroups  \\\n",
       "0  penalized_logreg               nationality                   keep-all   \n",
       "\n",
       "      q_hat  coverage  avg_size  cov_frau1  cov_nongerman  cov_nongerman_male  \\\n",
       "0  0.693669  0.910801  1.218838   0.909637       0.926851            0.942178   \n",
       "\n",
       "   cov_nongerman_female  \n",
       "0               0.90149  "
      ]
     },
     "execution_count": 64,
     "metadata": {},
     "output_type": "execute_result"
    }
   ],
   "source": [
    "cp_metrics_df"
   ]
  },
  {
   "cell_type": "markdown",
   "id": "33774451",
   "metadata": {
    "papermill": {
     "duration": 0.025317,
     "end_time": "2025-07-28T10:48:50.014064",
     "exception": false,
     "start_time": "2025-07-28T10:48:49.988747",
     "status": "completed"
    },
    "tags": []
   },
   "source": [
    "# (Fairness) Metrics"
   ]
  },
  {
   "cell_type": "code",
   "execution_count": 65,
   "id": "debc5d62",
   "metadata": {
    "execution": {
     "iopub.execute_input": "2025-07-28T10:48:50.067175Z",
     "iopub.status.busy": "2025-07-28T10:48:50.066477Z",
     "iopub.status.idle": "2025-07-28T10:48:50.088789Z",
     "shell.execute_reply": "2025-07-28T10:48:50.087667Z"
    },
    "papermill": {
     "duration": 0.051474,
     "end_time": "2025-07-28T10:48:50.091068",
     "exception": false,
     "start_time": "2025-07-28T10:48:50.039594",
     "status": "completed"
    },
    "tags": []
   },
   "outputs": [],
   "source": [
    "# do I need to include maxdeutsch1.missing?\n",
    "\n",
    "import numpy as np\n",
    "\n",
    "colname_to_bin = \"maxdeutsch1\"\n",
    "majority_value = org_train[colname_to_bin].mode()[0]\n",
    "\n",
    "org_test[\"majmin\"] = np.where(org_test[colname_to_bin] == majority_value, \"majority\", \"minority\")"
   ]
  },
  {
   "cell_type": "code",
   "execution_count": 66,
   "id": "06a50de5",
   "metadata": {
    "execution": {
     "iopub.execute_input": "2025-07-28T10:48:50.146389Z",
     "iopub.status.busy": "2025-07-28T10:48:50.144903Z",
     "iopub.status.idle": "2025-07-28T10:48:53.074628Z",
     "shell.execute_reply": "2025-07-28T10:48:53.073773Z"
    },
    "papermill": {
     "duration": 2.957356,
     "end_time": "2025-07-28T10:48:53.076286",
     "exception": false,
     "start_time": "2025-07-28T10:48:50.118930",
     "status": "completed"
    },
    "tags": []
   },
   "outputs": [],
   "source": [
    "example_universe = universe.copy()\n",
    "example_universe[\"cutoff\"] = example_universe[\"cutoff\"][0]\n",
    "example_universe[\"eval_fairness_grouping\"] = example_universe[\"eval_fairness_grouping\"][0]\n",
    "fairness_dict, metric_frame = universe_analysis.compute_metrics(\n",
    "    example_universe,\n",
    "    y_pred_prob=probs_test,\n",
    "    y_test=y_true,\n",
    "    org_test=org_test,\n",
    ")"
   ]
  },
  {
   "cell_type": "markdown",
   "id": "f95d4e02",
   "metadata": {
    "papermill": {
     "duration": 0.015827,
     "end_time": "2025-07-28T10:48:53.108934",
     "exception": false,
     "start_time": "2025-07-28T10:48:53.093107",
     "status": "completed"
    },
    "tags": []
   },
   "source": [
    "# Overall"
   ]
  },
  {
   "cell_type": "markdown",
   "id": "bdee4871",
   "metadata": {
    "papermill": {
     "duration": 0.013642,
     "end_time": "2025-07-28T10:48:53.139398",
     "exception": false,
     "start_time": "2025-07-28T10:48:53.125756",
     "status": "completed"
    },
    "tags": []
   },
   "source": [
    "Fairness\n",
    "Main fairness target: Equalized Odds. Seems to be a better fit than equal opportunity, since we're not only interested in Y = 1. Seems to be a better fit than demographic parity, since we also care about accuracy, not just equal distribution of preds.\n",
    "\n",
    "Pick column for computation of fairness metrics\n",
    "\n",
    "Performance\n",
    "Overall performance measures, most interesting in relation to the measures split by group below"
   ]
  },
  {
   "cell_type": "code",
   "execution_count": 67,
   "id": "c4e067c6",
   "metadata": {
    "execution": {
     "iopub.execute_input": "2025-07-28T10:48:53.168096Z",
     "iopub.status.busy": "2025-07-28T10:48:53.167700Z",
     "iopub.status.idle": "2025-07-28T10:48:53.175295Z",
     "shell.execute_reply": "2025-07-28T10:48:53.174285Z"
    },
    "papermill": {
     "duration": 0.024969,
     "end_time": "2025-07-28T10:48:53.178071",
     "exception": false,
     "start_time": "2025-07-28T10:48:53.153102",
     "status": "completed"
    },
    "tags": []
   },
   "outputs": [
    {
     "data": {
      "text/plain": [
       "accuracy                   0.214770\n",
       "balanced accuracy          0.527154\n",
       "f1                         0.236365\n",
       "precision                  0.135028\n",
       "false positive rate        0.893033\n",
       "false negative rate        0.052659\n",
       "selection rate             0.900000\n",
       "count                  89710.000000\n",
       "dtype: float64"
      ]
     },
     "execution_count": 67,
     "metadata": {},
     "output_type": "execute_result"
    }
   ],
   "source": [
    "metric_frame.overall"
   ]
  },
  {
   "cell_type": "markdown",
   "id": "e968fe9d",
   "metadata": {
    "papermill": {
     "duration": 0.027256,
     "end_time": "2025-07-28T10:48:53.233374",
     "exception": false,
     "start_time": "2025-07-28T10:48:53.206118",
     "status": "completed"
    },
    "tags": []
   },
   "source": [
    "By Group"
   ]
  },
  {
   "cell_type": "code",
   "execution_count": 68,
   "id": "ec325bce",
   "metadata": {
    "execution": {
     "iopub.execute_input": "2025-07-28T10:48:53.291658Z",
     "iopub.status.busy": "2025-07-28T10:48:53.291164Z",
     "iopub.status.idle": "2025-07-28T10:48:53.303682Z",
     "shell.execute_reply": "2025-07-28T10:48:53.302763Z"
    },
    "papermill": {
     "duration": 0.044055,
     "end_time": "2025-07-28T10:48:53.305098",
     "exception": false,
     "start_time": "2025-07-28T10:48:53.261043",
     "status": "completed"
    },
    "tags": []
   },
   "outputs": [
    {
     "data": {
      "text/html": [
       "<div>\n",
       "<style scoped>\n",
       "    .dataframe tbody tr th:only-of-type {\n",
       "        vertical-align: middle;\n",
       "    }\n",
       "\n",
       "    .dataframe tbody tr th {\n",
       "        vertical-align: top;\n",
       "    }\n",
       "\n",
       "    .dataframe thead th {\n",
       "        text-align: right;\n",
       "    }\n",
       "</style>\n",
       "<table border=\"1\" class=\"dataframe\">\n",
       "  <thead>\n",
       "    <tr style=\"text-align: right;\">\n",
       "      <th></th>\n",
       "      <th>accuracy</th>\n",
       "      <th>balanced accuracy</th>\n",
       "      <th>f1</th>\n",
       "      <th>precision</th>\n",
       "      <th>false positive rate</th>\n",
       "      <th>false negative rate</th>\n",
       "      <th>selection rate</th>\n",
       "      <th>count</th>\n",
       "    </tr>\n",
       "    <tr>\n",
       "      <th>majmin</th>\n",
       "      <th></th>\n",
       "      <th></th>\n",
       "      <th></th>\n",
       "      <th></th>\n",
       "      <th></th>\n",
       "      <th></th>\n",
       "      <th></th>\n",
       "      <th></th>\n",
       "    </tr>\n",
       "  </thead>\n",
       "  <tbody>\n",
       "    <tr>\n",
       "      <th>majority</th>\n",
       "      <td>0.236331</td>\n",
       "      <td>0.533687</td>\n",
       "      <td>0.245030</td>\n",
       "      <td>0.140924</td>\n",
       "      <td>0.870481</td>\n",
       "      <td>0.062144</td>\n",
       "      <td>0.879384</td>\n",
       "      <td>69170.0</td>\n",
       "    </tr>\n",
       "    <tr>\n",
       "      <th>minority</th>\n",
       "      <td>0.142162</td>\n",
       "      <td>0.508210</td>\n",
       "      <td>0.209156</td>\n",
       "      <td>0.117015</td>\n",
       "      <td>0.967532</td>\n",
       "      <td>0.016047</td>\n",
       "      <td>0.969426</td>\n",
       "      <td>20540.0</td>\n",
       "    </tr>\n",
       "  </tbody>\n",
       "</table>\n",
       "</div>"
      ],
      "text/plain": [
       "          accuracy  balanced accuracy        f1  precision  \\\n",
       "majmin                                                       \n",
       "majority  0.236331           0.533687  0.245030   0.140924   \n",
       "minority  0.142162           0.508210  0.209156   0.117015   \n",
       "\n",
       "          false positive rate  false negative rate  selection rate    count  \n",
       "majmin                                                                       \n",
       "majority             0.870481             0.062144        0.879384  69170.0  \n",
       "minority             0.967532             0.016047        0.969426  20540.0  "
      ]
     },
     "execution_count": 68,
     "metadata": {},
     "output_type": "execute_result"
    }
   ],
   "source": [
    "metric_frame.by_group"
   ]
  },
  {
   "cell_type": "code",
   "execution_count": 69,
   "id": "a9ddbe63",
   "metadata": {
    "execution": {
     "iopub.execute_input": "2025-07-28T10:48:53.334789Z",
     "iopub.status.busy": "2025-07-28T10:48:53.334299Z",
     "iopub.status.idle": "2025-07-28T10:48:55.955011Z",
     "shell.execute_reply": "2025-07-28T10:48:55.953980Z"
    },
    "papermill": {
     "duration": 2.63725,
     "end_time": "2025-07-28T10:48:55.957046",
     "exception": false,
     "start_time": "2025-07-28T10:48:53.319796",
     "status": "completed"
    },
    "tags": []
   },
   "outputs": [
    {
     "data": {
      "text/plain": [
       "array([[<Axes: title={'center': 'accuracy'}, xlabel='majmin'>,\n",
       "        <Axes: title={'center': 'balanced accuracy'}, xlabel='majmin'>,\n",
       "        <Axes: title={'center': 'f1'}, xlabel='majmin'>],\n",
       "       [<Axes: title={'center': 'precision'}, xlabel='majmin'>,\n",
       "        <Axes: title={'center': 'false positive rate'}, xlabel='majmin'>,\n",
       "        <Axes: title={'center': 'false negative rate'}, xlabel='majmin'>],\n",
       "       [<Axes: title={'center': 'selection rate'}, xlabel='majmin'>,\n",
       "        <Axes: title={'center': 'count'}, xlabel='majmin'>,\n",
       "        <Axes: xlabel='majmin'>]], dtype=object)"
      ]
     },
     "execution_count": 69,
     "metadata": {},
     "output_type": "execute_result"
    },
    {
     "data": {
      "image/png": "[encoded data removed]",
      "text/plain": [
       "<Figure size 1200x800 with 9 Axes>"
      ]
     },
     "metadata": {},
     "output_type": "display_data"
    }
   ],
   "source": [
    "# In a graphic\n",
    "metric_frame.by_group.plot.bar(\n",
    "    subplots=True,\n",
    "    layout=[3, 3],\n",
    "    legend=False,\n",
    "    figsize=[12, 8],\n",
    "    title=\"Show all metrics\",\n",
    ")"
   ]
  },
  {
   "cell_type": "markdown",
   "id": "f57a0bac",
   "metadata": {
    "papermill": {
     "duration": 0.027792,
     "end_time": "2025-07-28T10:48:56.013662",
     "exception": false,
     "start_time": "2025-07-28T10:48:55.985870",
     "status": "completed"
    },
    "tags": []
   },
   "source": [
    "# Final Output"
   ]
  },
  {
   "cell_type": "code",
   "execution_count": 70,
   "id": "96d280a3",
   "metadata": {
    "execution": {
     "iopub.execute_input": "2025-07-28T10:48:56.072608Z",
     "iopub.status.busy": "2025-07-28T10:48:56.071884Z",
     "iopub.status.idle": "2025-07-28T10:48:56.080883Z",
     "shell.execute_reply": "2025-07-28T10:48:56.079920Z"
    },
    "papermill": {
     "duration": 0.040315,
     "end_time": "2025-07-28T10:48:56.082509",
     "exception": false,
     "start_time": "2025-07-28T10:48:56.042194",
     "status": "completed"
    },
    "tags": []
   },
   "outputs": [
    {
     "data": {
      "text/plain": [
       "4"
      ]
     },
     "execution_count": 70,
     "metadata": {},
     "output_type": "execute_result"
    }
   ],
   "source": [
    "sub_universes = universe_analysis.generate_sub_universes()\n",
    "len(sub_universes)"
   ]
  },
  {
   "cell_type": "code",
   "execution_count": 71,
   "id": "92adf7ba",
   "metadata": {
    "execution": {
     "iopub.execute_input": "2025-07-28T10:48:56.143385Z",
     "iopub.status.busy": "2025-07-28T10:48:56.142366Z",
     "iopub.status.idle": "2025-07-28T10:48:56.149590Z",
     "shell.execute_reply": "2025-07-28T10:48:56.148604Z"
    },
    "papermill": {
     "duration": 0.039201,
     "end_time": "2025-07-28T10:48:56.151461",
     "exception": false,
     "start_time": "2025-07-28T10:48:56.112260",
     "status": "completed"
    },
    "tags": []
   },
   "outputs": [],
   "source": [
    "def filter_sub_universe_data(sub_universe, org_test):\n",
    "    # Keep all rows — no filtering\n",
    "    keep_rows_mask = np.ones(org_test.shape[0], dtype=bool)\n",
    "\n",
    "    print(f\"[INFO] Keeping all rows: {keep_rows_mask.sum()} rows retained.\")\n",
    "    return keep_rows_mask"
   ]
  },
  {
   "cell_type": "code",
   "execution_count": 72,
   "id": "4a759155",
   "metadata": {
    "execution": {
     "iopub.execute_input": "2025-07-28T10:48:56.211591Z",
     "iopub.status.busy": "2025-07-28T10:48:56.210570Z",
     "iopub.status.idle": "2025-07-28T10:49:05.834723Z",
     "shell.execute_reply": "2025-07-28T10:49:05.833928Z"
    },
    "papermill": {
     "duration": 9.656214,
     "end_time": "2025-07-28T10:49:05.836209",
     "exception": false,
     "start_time": "2025-07-28T10:48:56.179995",
     "status": "completed"
    },
    "tags": []
   },
   "outputs": [
    {
     "name": "stdout",
     "output_type": "stream",
     "text": [
      "Stopping execution_time clock.\n",
      "[INFO] Keeping all rows: 89710 rows retained.\n"
     ]
    },
    {
     "name": "stdout",
     "output_type": "stream",
     "text": [
      "[INFO] Keeping all rows: 89710 rows retained.\n"
     ]
    },
    {
     "name": "stdout",
     "output_type": "stream",
     "text": [
      "[INFO] Keeping all rows: 89710 rows retained.\n"
     ]
    },
    {
     "name": "stdout",
     "output_type": "stream",
     "text": [
      "[INFO] Keeping all rows: 89710 rows retained.\n"
     ]
    },
    {
     "data": {
      "text/html": [
       "<div>\n",
       "<style scoped>\n",
       "    .dataframe tbody tr th:only-of-type {\n",
       "        vertical-align: middle;\n",
       "    }\n",
       "\n",
       "    .dataframe tbody tr th {\n",
       "        vertical-align: top;\n",
       "    }\n",
       "\n",
       "    .dataframe thead th {\n",
       "        text-align: right;\n",
       "    }\n",
       "</style>\n",
       "<table border=\"1\" class=\"dataframe\">\n",
       "  <thead>\n",
       "    <tr style=\"text-align: right;\">\n",
       "      <th></th>\n",
       "      <th>run_no</th>\n",
       "      <th>universe_id</th>\n",
       "      <th>universe_settings</th>\n",
       "      <th>execution_time</th>\n",
       "      <th>test_size_n</th>\n",
       "      <th>test_size_frac</th>\n",
       "      <th>fair_main_equalized_odds_difference</th>\n",
       "      <th>fair_main_equalized_odds_ratio</th>\n",
       "      <th>fair_main_demographic_parity_difference</th>\n",
       "      <th>fair_main_demographic_parity_ratio</th>\n",
       "      <th>...</th>\n",
       "      <th>perf_grp_precision_0</th>\n",
       "      <th>perf_grp_precision_1</th>\n",
       "      <th>perf_grp_false positive rate_0</th>\n",
       "      <th>perf_grp_false positive rate_1</th>\n",
       "      <th>perf_grp_false negative rate_0</th>\n",
       "      <th>perf_grp_false negative rate_1</th>\n",
       "      <th>perf_grp_selection rate_0</th>\n",
       "      <th>perf_grp_selection rate_1</th>\n",
       "      <th>perf_grp_count_0</th>\n",
       "      <th>perf_grp_count_1</th>\n",
       "    </tr>\n",
       "  </thead>\n",
       "  <tbody>\n",
       "    <tr>\n",
       "      <th>0</th>\n",
       "      <td>11</td>\n",
       "      <td>26e258d745239757f121d870aa372c7f</td>\n",
       "      <td>{\"cutoff\": \"quantile_0.1\", \"eval_fairness_grou...</td>\n",
       "      <td>26.88169</td>\n",
       "      <td>89710</td>\n",
       "      <td>1.0</td>\n",
       "      <td>0.097051</td>\n",
       "      <td>0.899692</td>\n",
       "      <td>0.090041</td>\n",
       "      <td>0.907119</td>\n",
       "      <td>...</td>\n",
       "      <td>NaN</td>\n",
       "      <td>NaN</td>\n",
       "      <td>NaN</td>\n",
       "      <td>NaN</td>\n",
       "      <td>NaN</td>\n",
       "      <td>NaN</td>\n",
       "      <td>NaN</td>\n",
       "      <td>NaN</td>\n",
       "      <td>NaN</td>\n",
       "      <td>NaN</td>\n",
       "    </tr>\n",
       "    <tr>\n",
       "      <th>0</th>\n",
       "      <td>11</td>\n",
       "      <td>26e258d745239757f121d870aa372c7f</td>\n",
       "      <td>{\"cutoff\": \"quantile_0.1\", \"eval_fairness_grou...</td>\n",
       "      <td>26.88169</td>\n",
       "      <td>89710</td>\n",
       "      <td>1.0</td>\n",
       "      <td>0.097051</td>\n",
       "      <td>0.899692</td>\n",
       "      <td>0.090041</td>\n",
       "      <td>0.907119</td>\n",
       "      <td>...</td>\n",
       "      <td>0.117015</td>\n",
       "      <td>0.140924</td>\n",
       "      <td>0.967532</td>\n",
       "      <td>0.870481</td>\n",
       "      <td>0.016047</td>\n",
       "      <td>0.062144</td>\n",
       "      <td>0.969426</td>\n",
       "      <td>0.879384</td>\n",
       "      <td>20540.0</td>\n",
       "      <td>69170.0</td>\n",
       "    </tr>\n",
       "    <tr>\n",
       "      <th>0</th>\n",
       "      <td>11</td>\n",
       "      <td>26e258d745239757f121d870aa372c7f</td>\n",
       "      <td>{\"cutoff\": \"quantile_0.25\", \"eval_fairness_gro...</td>\n",
       "      <td>26.88169</td>\n",
       "      <td>89710</td>\n",
       "      <td>1.0</td>\n",
       "      <td>0.215077</td>\n",
       "      <td>0.760178</td>\n",
       "      <td>0.198528</td>\n",
       "      <td>0.780163</td>\n",
       "      <td>...</td>\n",
       "      <td>NaN</td>\n",
       "      <td>NaN</td>\n",
       "      <td>NaN</td>\n",
       "      <td>NaN</td>\n",
       "      <td>NaN</td>\n",
       "      <td>NaN</td>\n",
       "      <td>NaN</td>\n",
       "      <td>NaN</td>\n",
       "      <td>NaN</td>\n",
       "      <td>NaN</td>\n",
       "    </tr>\n",
       "    <tr>\n",
       "      <th>0</th>\n",
       "      <td>11</td>\n",
       "      <td>26e258d745239757f121d870aa372c7f</td>\n",
       "      <td>{\"cutoff\": \"quantile_0.25\", \"eval_fairness_gro...</td>\n",
       "      <td>26.88169</td>\n",
       "      <td>89710</td>\n",
       "      <td>1.0</td>\n",
       "      <td>0.215077</td>\n",
       "      <td>0.760178</td>\n",
       "      <td>0.198528</td>\n",
       "      <td>0.780163</td>\n",
       "      <td>...</td>\n",
       "      <td>0.121408</td>\n",
       "      <td>0.160220</td>\n",
       "      <td>0.896819</td>\n",
       "      <td>0.681742</td>\n",
       "      <td>0.048986</td>\n",
       "      <td>0.145733</td>\n",
       "      <td>0.903067</td>\n",
       "      <td>0.704540</td>\n",
       "      <td>20540.0</td>\n",
       "      <td>69170.0</td>\n",
       "    </tr>\n",
       "  </tbody>\n",
       "</table>\n",
       "<p>4 rows × 50 columns</p>\n",
       "</div>"
      ],
      "text/plain": [
       "  run_no                       universe_id  \\\n",
       "0     11  26e258d745239757f121d870aa372c7f   \n",
       "0     11  26e258d745239757f121d870aa372c7f   \n",
       "0     11  26e258d745239757f121d870aa372c7f   \n",
       "0     11  26e258d745239757f121d870aa372c7f   \n",
       "\n",
       "                                   universe_settings  execution_time  \\\n",
       "0  {\"cutoff\": \"quantile_0.1\", \"eval_fairness_grou...        26.88169   \n",
       "0  {\"cutoff\": \"quantile_0.1\", \"eval_fairness_grou...        26.88169   \n",
       "0  {\"cutoff\": \"quantile_0.25\", \"eval_fairness_gro...        26.88169   \n",
       "0  {\"cutoff\": \"quantile_0.25\", \"eval_fairness_gro...        26.88169   \n",
       "\n",
       "   test_size_n  test_size_frac  fair_main_equalized_odds_difference  \\\n",
       "0        89710             1.0                             0.097051   \n",
       "0        89710             1.0                             0.097051   \n",
       "0        89710             1.0                             0.215077   \n",
       "0        89710             1.0                             0.215077   \n",
       "\n",
       "   fair_main_equalized_odds_ratio  fair_main_demographic_parity_difference  \\\n",
       "0                        0.899692                                 0.090041   \n",
       "0                        0.899692                                 0.090041   \n",
       "0                        0.760178                                 0.198528   \n",
       "0                        0.760178                                 0.198528   \n",
       "\n",
       "   fair_main_demographic_parity_ratio  ...  perf_grp_precision_0  \\\n",
       "0                            0.907119  ...                   NaN   \n",
       "0                            0.907119  ...              0.117015   \n",
       "0                            0.780163  ...                   NaN   \n",
       "0                            0.780163  ...              0.121408   \n",
       "\n",
       "   perf_grp_precision_1  perf_grp_false positive rate_0  \\\n",
       "0                   NaN                             NaN   \n",
       "0              0.140924                        0.967532   \n",
       "0                   NaN                             NaN   \n",
       "0              0.160220                        0.896819   \n",
       "\n",
       "   perf_grp_false positive rate_1  perf_grp_false negative rate_0  \\\n",
       "0                             NaN                             NaN   \n",
       "0                        0.870481                        0.016047   \n",
       "0                             NaN                             NaN   \n",
       "0                        0.681742                        0.048986   \n",
       "\n",
       "   perf_grp_false negative rate_1  perf_grp_selection rate_0  \\\n",
       "0                             NaN                        NaN   \n",
       "0                        0.062144                   0.969426   \n",
       "0                             NaN                        NaN   \n",
       "0                        0.145733                   0.903067   \n",
       "\n",
       "   perf_grp_selection rate_1  perf_grp_count_0  perf_grp_count_1  \n",
       "0                        NaN               NaN               NaN  \n",
       "0                   0.879384           20540.0           69170.0  \n",
       "0                        NaN               NaN               NaN  \n",
       "0                   0.704540           20540.0           69170.0  \n",
       "\n",
       "[4 rows x 50 columns]"
      ]
     },
     "execution_count": 72,
     "metadata": {},
     "output_type": "execute_result"
    }
   ],
   "source": [
    "final_output = universe_analysis.generate_final_output(\n",
    "    y_pred_prob=probs_test,\n",
    "    y_test=y_true,\n",
    "    org_test=org_test,\n",
    "    filter_data=filter_sub_universe_data,\n",
    "    cp_metrics_df=cp_metrics_df,\n",
    "    save=True,\n",
    ")\n",
    "final_output"
   ]
  },
  {
   "cell_type": "code",
   "execution_count": null,
   "id": "721ff514-cb11-46f8-b6fc-50392f74b5cb",
   "metadata": {
    "papermill": {
     "duration": 0.028621,
     "end_time": "2025-07-28T10:49:05.895567",
     "exception": false,
     "start_time": "2025-07-28T10:49:05.866946",
     "status": "completed"
    },
    "tags": []
   },
   "outputs": [],
   "source": []
  }
 ],
 "metadata": {
  "celltoolbar": "Tags",
  "kernelspec": {
   "display_name": "Python (CMA Fairness)",
   "language": "python",
   "name": "cma_fair_env"
  },
  "language_info": {
   "codemirror_mode": {
    "name": "ipython",
    "version": 3
   },
   "file_extension": ".py",
   "mimetype": "text/x-python",
   "name": "python",
   "nbconvert_exporter": "python",
   "pygments_lexer": "ipython3",
   "version": "3.10.12"
  },
  "papermill": {
   "default_parameters": {},
   "duration": 40.935315,
   "end_time": "2025-07-28T10:49:06.747183",
   "environment_variables": {},
   "exception": null,
   "input_path": "universe_analysis.ipynb",
   "output_path": "output/runs/11/notebooks/m_11-26e258d745239757f121d870aa372c7f.ipynb",
   "parameters": {
    "output_dir": "output",
    "run_no": "11",
    "seed": "2023",
    "universe": "{\"cutoff\": [\"quantile_0.1\", \"quantile_0.25\"], \"eval_fairness_grouping\": [\"majority-minority\", \"nationality-all\"], \"exclude_features\": \"nationality\", \"exclude_subgroups\": \"keep-all\", \"model\": \"penalized_logreg\", \"scale\": \"do-not-scale\", \"training_size\": \"1k\"}",
    "universe_id": "26e258d745239757f121d870aa372c7f"
   },
   "start_time": "2025-07-28T10:48:25.811868",
   "version": "2.6.0"
  }
 },
 "nbformat": 4,
 "nbformat_minor": 5
}