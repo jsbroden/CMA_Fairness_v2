{
 "cells": [
  {
   "cell_type": "code",
   "execution_count": 1,
   "id": "f159f837-637b-42ba-96b5-ec9a68c44524",
   "metadata": {
    "execution": {
     "iopub.execute_input": "2025-07-28T11:02:37.102766Z",
     "iopub.status.busy": "2025-07-28T11:02:37.102288Z",
     "iopub.status.idle": "2025-07-28T11:02:37.115824Z",
     "shell.execute_reply": "2025-07-28T11:02:37.114791Z"
    },
    "papermill": {
     "duration": 0.034498,
     "end_time": "2025-07-28T11:02:37.117538",
     "exception": false,
     "start_time": "2025-07-28T11:02:37.083040",
     "status": "completed"
    },
    "tags": []
   },
   "outputs": [
    {
     "name": "stdout",
     "output_type": "stream",
     "text": [
      "/dss/dsshome1/0C/ra93lal2/cma/CMA_Fairness_v2\n"
     ]
    },
    {
     "name": "stderr",
     "output_type": "stream",
     "text": [
      "/dss/dsshome1/0C/ra93lal2/.local/share/virtualenvs/CMA_Fairness_v2-3j10GkSs/lib/python3.10/site-packages/IPython/core/magics/osm.py:393: UserWarning: This is now an optional IPython functionality, using bookmarks requires you to install the `pickleshare` library.\n",
      "  bkms = self.shell.db.get('bookmarks', {})\n",
      "/dss/dsshome1/0C/ra93lal2/.local/share/virtualenvs/CMA_Fairness_v2-3j10GkSs/lib/python3.10/site-packages/IPython/core/magics/osm.py:417: UserWarning: This is now an optional IPython functionality, setting dhist requires you to install the `pickleshare` library.\n",
      "  self.shell.db['dhist'] = compress_dhist(dhist)[-100:]\n"
     ]
    }
   ],
   "source": [
    "%cd ~/cma/CMA_Fairness_v2"
   ]
  },
  {
   "cell_type": "markdown",
   "id": "de2603b9",
   "metadata": {
    "papermill": {
     "duration": 0.0173,
     "end_time": "2025-07-28T11:02:37.153289",
     "exception": false,
     "start_time": "2025-07-28T11:02:37.135989",
     "status": "completed"
    },
    "tags": []
   },
   "source": [
    "The following cell holds the definition of our parameters, these values can be overriden by rendering the with e.g. the following command:\n",
    "\n",
    "papermill -p alpha 0.2 -p ratio 0.3 universe_analysis.ipynb output/test_run.ipynb"
   ]
  },
  {
   "cell_type": "code",
   "execution_count": 2,
   "id": "a80968a0-40bb-4fa9-85ef-2d5eefb01975",
   "metadata": {
    "execution": {
     "iopub.execute_input": "2025-07-28T11:02:37.189595Z",
     "iopub.status.busy": "2025-07-28T11:02:37.189101Z",
     "iopub.status.idle": "2025-07-28T11:02:37.194817Z",
     "shell.execute_reply": "2025-07-28T11:02:37.193834Z"
    },
    "papermill": {
     "duration": 0.026033,
     "end_time": "2025-07-28T11:02:37.196564",
     "exception": false,
     "start_time": "2025-07-28T11:02:37.170531",
     "status": "completed"
    },
    "tags": []
   },
   "outputs": [
    {
     "name": "stdout",
     "output_type": "stream",
     "text": [
      "Current working directory: /dss/dsshome1/0C/ra93lal2/cma/CMA_Fairness_v2\n"
     ]
    }
   ],
   "source": [
    "import os\n",
    "print(\"Current working directory:\", os.getcwd())"
   ]
  },
  {
   "cell_type": "code",
   "execution_count": 3,
   "id": "2dce4c03",
   "metadata": {
    "execution": {
     "iopub.execute_input": "2025-07-28T11:02:37.233359Z",
     "iopub.status.busy": "2025-07-28T11:02:37.232894Z",
     "iopub.status.idle": "2025-07-28T11:02:37.239086Z",
     "shell.execute_reply": "2025-07-28T11:02:37.238094Z"
    },
    "papermill": {
     "duration": 0.026418,
     "end_time": "2025-07-28T11:02:37.240764",
     "exception": false,
     "start_time": "2025-07-28T11:02:37.214346",
     "status": "completed"
    },
    "tags": [
     "parameters"
    ]
   },
   "outputs": [],
   "source": [
    "run_no = 0\n",
    "universe_id = \"test\"\n",
    "universe = {\n",
    "    \"training_size\": \"2014\", # \"25k\", \"5k\", \"1k\", \"2014\"\n",
    "    \"scale\": \"scale\", # \"scale\", \"do-not-scale\",\n",
    "    #\"stratify_split\": \"target\", # \"none\", \"target\", \"protected-attribute\", \"both\",\n",
    "    \"model\": \"elasticnet\", # \"logreg\", \"penalized_logreg\", \"rf\", \"gbm\", \"elasticnet\"\n",
    "    \"cutoff\": [\"quantile_0.15\", \"quantile_0.30\"],\n",
    "    \"exclude_features\": \"age\", # \"none\", \"nationality\", \"sex\", \"nationality-sex\", \"age\"\n",
    "    \"exclude_subgroups\": \"keep-all\", # \"keep-all\", \"drop-non-german\"\n",
    "    \"eval_fairness_grouping\": [\"majority-minority\", \"nationality-all\"]\n",
    "}\n",
    "\n",
    "output_dir=\"./output\"\n",
    "seed=0"
   ]
  },
  {
   "cell_type": "code",
   "execution_count": 4,
   "id": "33bb8f70",
   "metadata": {
    "execution": {
     "iopub.execute_input": "2025-07-28T11:02:37.277885Z",
     "iopub.status.busy": "2025-07-28T11:02:37.277431Z",
     "iopub.status.idle": "2025-07-28T11:02:37.282655Z",
     "shell.execute_reply": "2025-07-28T11:02:37.281711Z"
    },
    "papermill": {
     "duration": 0.025449,
     "end_time": "2025-07-28T11:02:37.284204",
     "exception": false,
     "start_time": "2025-07-28T11:02:37.258755",
     "status": "completed"
    },
    "tags": [
     "injected-parameters"
    ]
   },
   "outputs": [],
   "source": [
    "# Parameters\n",
    "universe_id = \"c8b9a0f49f09be5f4ee439877d577e2f\"\n",
    "run_no = \"11\"\n",
    "universe = \"{\\\"cutoff\\\": [\\\"quantile_0.1\\\", \\\"quantile_0.25\\\"], \\\"eval_fairness_grouping\\\": [\\\"majority-minority\\\", \\\"nationality-all\\\"], \\\"exclude_features\\\": \\\"age\\\", \\\"exclude_subgroups\\\": \\\"drop-non-german\\\", \\\"model\\\": \\\"elasticnet\\\", \\\"scale\\\": \\\"scale\\\", \\\"training_size\\\": \\\"2014\\\"}\"\n",
    "output_dir = \"output\"\n",
    "seed = \"2023\"\n"
   ]
  },
  {
   "cell_type": "code",
   "execution_count": 5,
   "id": "1650acaf",
   "metadata": {
    "execution": {
     "iopub.execute_input": "2025-07-28T11:02:37.321266Z",
     "iopub.status.busy": "2025-07-28T11:02:37.320818Z",
     "iopub.status.idle": "2025-07-28T11:02:37.325574Z",
     "shell.execute_reply": "2025-07-28T11:02:37.324612Z"
    },
    "papermill": {
     "duration": 0.025043,
     "end_time": "2025-07-28T11:02:37.327257",
     "exception": false,
     "start_time": "2025-07-28T11:02:37.302214",
     "status": "completed"
    },
    "tags": []
   },
   "outputs": [],
   "source": [
    "import json\n",
    "# Parse universe into dict if it is passed as a string\n",
    "if isinstance(universe, str):\n",
    "    universe = json.loads(universe)"
   ]
  },
  {
   "cell_type": "code",
   "execution_count": 6,
   "id": "16620c48",
   "metadata": {
    "execution": {
     "iopub.execute_input": "2025-07-28T11:02:37.365516Z",
     "iopub.status.busy": "2025-07-28T11:02:37.365069Z",
     "iopub.status.idle": "2025-07-28T11:02:37.410797Z",
     "shell.execute_reply": "2025-07-28T11:02:37.409737Z"
    },
    "papermill": {
     "duration": 0.067178,
     "end_time": "2025-07-28T11:02:37.412666",
     "exception": false,
     "start_time": "2025-07-28T11:02:37.345488",
     "status": "completed"
    },
    "tags": []
   },
   "outputs": [],
   "source": [
    "# Auto-reload the custom package\n",
    "%load_ext autoreload\n",
    "%autoreload 1\n",
    "%aimport fairness_multiverse"
   ]
  },
  {
   "cell_type": "code",
   "execution_count": 7,
   "id": "01c5c9f3",
   "metadata": {
    "execution": {
     "iopub.execute_input": "2025-07-28T11:02:37.452178Z",
     "iopub.status.busy": "2025-07-28T11:02:37.451478Z",
     "iopub.status.idle": "2025-07-28T11:02:39.300308Z",
     "shell.execute_reply": "2025-07-28T11:02:39.299511Z"
    },
    "papermill": {
     "duration": 1.87003,
     "end_time": "2025-07-28T11:02:39.301781",
     "exception": false,
     "start_time": "2025-07-28T11:02:37.431751",
     "status": "completed"
    },
    "tags": []
   },
   "outputs": [],
   "source": [
    "from fairness_multiverse.universe import UniverseAnalysis\n",
    "\n",
    "universe_analysis = UniverseAnalysis(\n",
    "    run_no = run_no,\n",
    "    universe_id = universe_id,\n",
    "    universe = universe,\n",
    "    output_dir=output_dir,\n",
    ")"
   ]
  },
  {
   "cell_type": "code",
   "execution_count": 8,
   "id": "106241f5",
   "metadata": {
    "execution": {
     "iopub.execute_input": "2025-07-28T11:02:39.327047Z",
     "iopub.status.busy": "2025-07-28T11:02:39.326656Z",
     "iopub.status.idle": "2025-07-28T11:02:39.332563Z",
     "shell.execute_reply": "2025-07-28T11:02:39.331432Z"
    },
    "papermill": {
     "duration": 0.019499,
     "end_time": "2025-07-28T11:02:39.334110",
     "exception": false,
     "start_time": "2025-07-28T11:02:39.314611",
     "status": "completed"
    },
    "tags": []
   },
   "outputs": [
    {
     "name": "stdout",
     "output_type": "stream",
     "text": [
      "Using Seed: 2023\n"
     ]
    }
   ],
   "source": [
    "import numpy as np\n",
    "parsed_seed = int(seed)\n",
    "np.random.seed(parsed_seed)\n",
    "print(f\"Using Seed: {parsed_seed}\")"
   ]
  },
  {
   "cell_type": "markdown",
   "id": "e0ebdc57",
   "metadata": {
    "papermill": {
     "duration": 0.010404,
     "end_time": "2025-07-28T11:02:39.355798",
     "exception": false,
     "start_time": "2025-07-28T11:02:39.345394",
     "status": "completed"
    },
    "tags": []
   },
   "source": [
    "# Loading Data"
   ]
  },
  {
   "cell_type": "markdown",
   "id": "681925a3",
   "metadata": {
    "papermill": {
     "duration": 0.010466,
     "end_time": "2025-07-28T11:02:39.376474",
     "exception": false,
     "start_time": "2025-07-28T11:02:39.366008",
     "status": "completed"
    },
    "tags": []
   },
   "source": [
    "Load siab_train, siab_test, siab_calib and/or \n",
    "load siab_train_features, siab_train_labels"
   ]
  },
  {
   "cell_type": "code",
   "execution_count": 9,
   "id": "f0496b8a",
   "metadata": {
    "execution": {
     "iopub.execute_input": "2025-07-28T11:02:39.399573Z",
     "iopub.status.busy": "2025-07-28T11:02:39.399036Z",
     "iopub.status.idle": "2025-07-28T11:02:51.857224Z",
     "shell.execute_reply": "2025-07-28T11:02:51.856058Z"
    },
    "papermill": {
     "duration": 12.471544,
     "end_time": "2025-07-28T11:02:51.859009",
     "exception": false,
     "start_time": "2025-07-28T11:02:39.387465",
     "status": "completed"
    },
    "tags": []
   },
   "outputs": [
    {
     "name": "stdout",
     "output_type": "stream",
     "text": [
      "Loading SIAB data from cache: data/siab_cached.csv.gz\n"
     ]
    },
    {
     "name": "stdout",
     "output_type": "stream",
     "text": [
      "(643690, 164)\n"
     ]
    }
   ],
   "source": [
    "from pathlib import Path\n",
    "import pandas as pd\n",
    "\n",
    "# File paths\n",
    "raw_file = Path(\"data/raw/siab.csv\")\n",
    "cache_file = Path(\"data/siab_cached.csv.gz\")\n",
    "\n",
    "# Ensure cache directory exists\n",
    "cache_file.parent.mkdir(parents=True, exist_ok=True)\n",
    "\n",
    "# Load with simple caching\n",
    "if cache_file.exists():\n",
    "    print(f\"Loading SIAB data from cache: {cache_file}\")\n",
    "    siab = pd.read_csv(cache_file, compression='gzip')\n",
    "else:\n",
    "    print(f\"Cache not found. Reading raw SIAB data: {raw_file}\")\n",
    "    siab = pd.read_csv(raw_file)\n",
    "    siab.to_csv(cache_file, index=False, compression='gzip')\n",
    "    print(f\"Cached SIAB data to: {cache_file}\")\n",
    "\n",
    "# Now use `siab` DataFrame as needed\n",
    "print(siab.shape)"
   ]
  },
  {
   "cell_type": "code",
   "execution_count": 10,
   "id": "db0ca512-5f53-4dba-abdb-a2888bca41ba",
   "metadata": {
    "execution": {
     "iopub.execute_input": "2025-07-28T11:02:51.902817Z",
     "iopub.status.busy": "2025-07-28T11:02:51.902290Z",
     "iopub.status.idle": "2025-07-28T11:02:51.908415Z",
     "shell.execute_reply": "2025-07-28T11:02:51.907534Z"
    },
    "papermill": {
     "duration": 0.029241,
     "end_time": "2025-07-28T11:02:51.910019",
     "exception": false,
     "start_time": "2025-07-28T11:02:51.880778",
     "status": "completed"
    },
    "tags": []
   },
   "outputs": [],
   "source": [
    "#siab"
   ]
  },
  {
   "cell_type": "code",
   "execution_count": 11,
   "id": "a0edb063",
   "metadata": {
    "execution": {
     "iopub.execute_input": "2025-07-28T11:02:51.950900Z",
     "iopub.status.busy": "2025-07-28T11:02:51.949892Z",
     "iopub.status.idle": "2025-07-28T11:02:51.956427Z",
     "shell.execute_reply": "2025-07-28T11:02:51.955474Z"
    },
    "papermill": {
     "duration": 0.028519,
     "end_time": "2025-07-28T11:02:51.958107",
     "exception": false,
     "start_time": "2025-07-28T11:02:51.929588",
     "status": "completed"
    },
    "tags": []
   },
   "outputs": [],
   "source": [
    "#import pandas as pd\n",
    "#\n",
    "#X_train = pd.read_csv(\"./data/X_train.csv\")\n",
    "#y_train = pd.read_csv(\"./data/y_train.csv\")"
   ]
  },
  {
   "cell_type": "code",
   "execution_count": 12,
   "id": "63d08085",
   "metadata": {
    "execution": {
     "iopub.execute_input": "2025-07-28T11:02:52.001056Z",
     "iopub.status.busy": "2025-07-28T11:02:52.000470Z",
     "iopub.status.idle": "2025-07-28T11:02:52.005873Z",
     "shell.execute_reply": "2025-07-28T11:02:52.004860Z"
    },
    "papermill": {
     "duration": 0.029619,
     "end_time": "2025-07-28T11:02:52.007839",
     "exception": false,
     "start_time": "2025-07-28T11:02:51.978220",
     "status": "completed"
    },
    "tags": []
   },
   "outputs": [],
   "source": [
    "#X_test = pd.read_csv(\"./data/X_test.csv\")\n",
    "#y_true = pd.read_csv(\"./data/y_test.csv\")"
   ]
  },
  {
   "cell_type": "code",
   "execution_count": 13,
   "id": "98a8d0fa-1d3d-4ed8-bb2c-281470e24add",
   "metadata": {
    "execution": {
     "iopub.execute_input": "2025-07-28T11:02:52.050696Z",
     "iopub.status.busy": "2025-07-28T11:02:52.049753Z",
     "iopub.status.idle": "2025-07-28T11:02:52.055265Z",
     "shell.execute_reply": "2025-07-28T11:02:52.054282Z"
    },
    "papermill": {
     "duration": 0.028752,
     "end_time": "2025-07-28T11:02:52.056992",
     "exception": false,
     "start_time": "2025-07-28T11:02:52.028240",
     "status": "completed"
    },
    "tags": []
   },
   "outputs": [],
   "source": [
    "# Calibration data for conformal\n",
    "#X_calib = pd.read_csv(\"./data/X_calib.csv\")\n",
    "#y_calib = pd.read_csv(\"./data/y_calib.csv\")"
   ]
  },
  {
   "cell_type": "markdown",
   "id": "9901737e-04df-44f0-9100-f5ad144ed040",
   "metadata": {
    "papermill": {
     "duration": 0.019685,
     "end_time": "2025-07-28T11:02:52.099106",
     "exception": false,
     "start_time": "2025-07-28T11:02:52.079421",
     "status": "completed"
    },
    "tags": []
   },
   "source": [
    "# Splitting Data and Setting Training Data Size"
   ]
  },
  {
   "cell_type": "code",
   "execution_count": 14,
   "id": "acbc8f7d-8fc8-4e86-8c59-5dcb0f58384b",
   "metadata": {
    "execution": {
     "iopub.execute_input": "2025-07-28T11:02:52.140612Z",
     "iopub.status.busy": "2025-07-28T11:02:52.139694Z",
     "iopub.status.idle": "2025-07-28T11:02:52.148852Z",
     "shell.execute_reply": "2025-07-28T11:02:52.147584Z"
    },
    "papermill": {
     "duration": 0.032397,
     "end_time": "2025-07-28T11:02:52.150549",
     "exception": false,
     "start_time": "2025-07-28T11:02:52.118152",
     "status": "completed"
    },
    "tags": []
   },
   "outputs": [],
   "source": [
    "def sample_by_year(df, training_size, random_state=42):\n",
    "    if training_size == \"2014\":\n",
    "        return df[df[\"year\"] == 2014].reset_index(drop=True)\n",
    "    \n",
    "    size_map = {\n",
    "        \"25k\": 5000,\n",
    "        \"5k\": 1000,\n",
    "        \"1k\": 200\n",
    "    }\n",
    "\n",
    "    if training_size not in size_map:\n",
    "        return df.reset_index(drop=True)  # use all data\n",
    "\n",
    "    n_per_year = size_map[training_size]\n",
    "    grouped = df.groupby(\"year\")\n",
    "    sampled = grouped.apply(lambda x: x.sample(n=min(n_per_year, len(x)), random_state=random_state))\n",
    "    return sampled.reset_index(drop=True)"
   ]
  },
  {
   "cell_type": "code",
   "execution_count": 15,
   "id": "6d931f52-beaf-43ff-9e78-9d44a448d54e",
   "metadata": {
    "execution": {
     "iopub.execute_input": "2025-07-28T11:02:52.194011Z",
     "iopub.status.busy": "2025-07-28T11:02:52.193299Z",
     "iopub.status.idle": "2025-07-28T11:02:52.352793Z",
     "shell.execute_reply": "2025-07-28T11:02:52.351646Z"
    },
    "papermill": {
     "duration": 0.183092,
     "end_time": "2025-07-28T11:02:52.354861",
     "exception": false,
     "start_time": "2025-07-28T11:02:52.171769",
     "status": "completed"
    },
    "tags": []
   },
   "outputs": [],
   "source": [
    "siab_s = sample_by_year(siab, universe[\"training_size\"])"
   ]
  },
  {
   "cell_type": "code",
   "execution_count": 16,
   "id": "5db0a40e-a4e2-4920-be85-b12ae061d70d",
   "metadata": {
    "execution": {
     "iopub.execute_input": "2025-07-28T11:02:52.398495Z",
     "iopub.status.busy": "2025-07-28T11:02:52.397963Z",
     "iopub.status.idle": "2025-07-28T11:02:52.415177Z",
     "shell.execute_reply": "2025-07-28T11:02:52.414220Z"
    },
    "papermill": {
     "duration": 0.040683,
     "end_time": "2025-07-28T11:02:52.417003",
     "exception": false,
     "start_time": "2025-07-28T11:02:52.376320",
     "status": "completed"
    },
    "tags": []
   },
   "outputs": [
    {
     "data": {
      "text/plain": [
       "year\n",
       "2014    87158\n",
       "dtype: int64"
      ]
     },
     "metadata": {},
     "output_type": "display_data"
    }
   ],
   "source": [
    "display(siab_s.groupby(\"year\").size())"
   ]
  },
  {
   "cell_type": "code",
   "execution_count": 17,
   "id": "a561edb4-d032-42cb-8256-22eac1111c64",
   "metadata": {
    "execution": {
     "iopub.execute_input": "2025-07-28T11:02:52.465121Z",
     "iopub.status.busy": "2025-07-28T11:02:52.464519Z",
     "iopub.status.idle": "2025-07-28T11:02:52.759520Z",
     "shell.execute_reply": "2025-07-28T11:02:52.758558Z"
    },
    "papermill": {
     "duration": 0.321251,
     "end_time": "2025-07-28T11:02:52.761436",
     "exception": false,
     "start_time": "2025-07-28T11:02:52.440185",
     "status": "completed"
    },
    "tags": []
   },
   "outputs": [],
   "source": [
    "siab_train = siab_s[siab_s.year < 2015]\n",
    "siab_calib = siab[siab.year == 2015]\n",
    "siab_test = siab[siab.year == 2016]"
   ]
  },
  {
   "cell_type": "code",
   "execution_count": 18,
   "id": "472de16f-c3db-4916-846b-1f0de9cf1746",
   "metadata": {
    "execution": {
     "iopub.execute_input": "2025-07-28T11:02:52.802498Z",
     "iopub.status.busy": "2025-07-28T11:02:52.801932Z",
     "iopub.status.idle": "2025-07-28T11:02:52.857867Z",
     "shell.execute_reply": "2025-07-28T11:02:52.856804Z"
    },
    "papermill": {
     "duration": 0.078681,
     "end_time": "2025-07-28T11:02:52.859833",
     "exception": false,
     "start_time": "2025-07-28T11:02:52.781152",
     "status": "completed"
    },
    "tags": []
   },
   "outputs": [],
   "source": [
    "X_train = siab_train.iloc[:,4:164]\n",
    "y_train = siab_train.iloc[:, [3]]"
   ]
  },
  {
   "cell_type": "code",
   "execution_count": 19,
   "id": "828c96af-f43a-4ed6-ba47-8ac73a47d56c",
   "metadata": {
    "execution": {
     "iopub.execute_input": "2025-07-28T11:02:52.901974Z",
     "iopub.status.busy": "2025-07-28T11:02:52.901149Z",
     "iopub.status.idle": "2025-07-28T11:02:52.953387Z",
     "shell.execute_reply": "2025-07-28T11:02:52.952302Z"
    },
    "papermill": {
     "duration": 0.07458,
     "end_time": "2025-07-28T11:02:52.955554",
     "exception": false,
     "start_time": "2025-07-28T11:02:52.880974",
     "status": "completed"
    },
    "tags": []
   },
   "outputs": [],
   "source": [
    "X_calib = siab_calib.iloc[:,4:164]\n",
    "y_calib = siab_calib.iloc[:, [3]]"
   ]
  },
  {
   "cell_type": "code",
   "execution_count": 20,
   "id": "c34be9c3-6bd6-476e-acd3-845840e303be",
   "metadata": {
    "execution": {
     "iopub.execute_input": "2025-07-28T11:02:52.996982Z",
     "iopub.status.busy": "2025-07-28T11:02:52.996184Z",
     "iopub.status.idle": "2025-07-28T11:02:53.054900Z",
     "shell.execute_reply": "2025-07-28T11:02:53.053814Z"
    },
    "papermill": {
     "duration": 0.08139,
     "end_time": "2025-07-28T11:02:53.056823",
     "exception": false,
     "start_time": "2025-07-28T11:02:52.975433",
     "status": "completed"
    },
    "tags": []
   },
   "outputs": [],
   "source": [
    "X_test = siab_test.iloc[:,4:164]\n",
    "y_true = siab_test.iloc[:, [3]]"
   ]
  },
  {
   "cell_type": "code",
   "execution_count": 21,
   "id": "e6c733c5",
   "metadata": {
    "execution": {
     "iopub.execute_input": "2025-07-28T11:02:53.104590Z",
     "iopub.status.busy": "2025-07-28T11:02:53.104095Z",
     "iopub.status.idle": "2025-07-28T11:02:53.250597Z",
     "shell.execute_reply": "2025-07-28T11:02:53.249588Z"
    },
    "papermill": {
     "duration": 0.171987,
     "end_time": "2025-07-28T11:02:53.252654",
     "exception": false,
     "start_time": "2025-07-28T11:02:53.080667",
     "status": "completed"
    },
    "tags": []
   },
   "outputs": [],
   "source": [
    "# Auxiliary data needed downstream in the pipeline\n",
    "\n",
    "org_train = X_train.copy()\n",
    "org_test = X_test.copy()\n",
    "org_calib = X_calib.copy()"
   ]
  },
  {
   "cell_type": "markdown",
   "id": "0a4a1b33",
   "metadata": {
    "papermill": {
     "duration": 0.01986,
     "end_time": "2025-07-28T11:02:53.292371",
     "exception": false,
     "start_time": "2025-07-28T11:02:53.272511",
     "status": "completed"
    },
    "tags": []
   },
   "source": [
    "# Preprocessing Data"
   ]
  },
  {
   "cell_type": "code",
   "execution_count": 22,
   "id": "ca879031",
   "metadata": {
    "execution": {
     "iopub.execute_input": "2025-07-28T11:02:53.333250Z",
     "iopub.status.busy": "2025-07-28T11:02:53.332696Z",
     "iopub.status.idle": "2025-07-28T11:02:53.339352Z",
     "shell.execute_reply": "2025-07-28T11:02:53.338388Z"
    },
    "papermill": {
     "duration": 0.029091,
     "end_time": "2025-07-28T11:02:53.341032",
     "exception": false,
     "start_time": "2025-07-28T11:02:53.311941",
     "status": "completed"
    },
    "tags": []
   },
   "outputs": [],
   "source": [
    "# EXCLUDE PROTECTED FEATURES\n",
    "# ----------------------\n",
    "# \"exclude_features\": \"none\", # \"nationality\", \"sex\", \"nationality-sex\"\n",
    "\n",
    "excluded_features = universe[\"exclude_features\"].split(\"-\") # split, e.g.: \"nationality-sex\" -> [\"nationality\", \"sex\"]\n",
    "excluded_features_dictionary = {\n",
    "    \"nationality\": [\"maxdeutsch1\", \"maxdeutsch.Missing.\"],\n",
    "    \"sex\": [\"frau1\"],\n",
    "    \"age\": [\"age\"],\n",
    "}\n"
   ]
  },
  {
   "cell_type": "code",
   "execution_count": 23,
   "id": "b745ac60",
   "metadata": {
    "execution": {
     "iopub.execute_input": "2025-07-28T11:02:53.382334Z",
     "iopub.status.busy": "2025-07-28T11:02:53.381779Z",
     "iopub.status.idle": "2025-07-28T11:02:53.388128Z",
     "shell.execute_reply": "2025-07-28T11:02:53.387036Z"
    },
    "papermill": {
     "duration": 0.029006,
     "end_time": "2025-07-28T11:02:53.390130",
     "exception": false,
     "start_time": "2025-07-28T11:02:53.361124",
     "status": "completed"
    },
    "tags": []
   },
   "outputs": [],
   "source": [
    "# Code nice names to column names\n",
    "\n",
    "excluded_features_columns = [\n",
    "    excluded_features_dictionary[f] for f in excluded_features if len(f) > 0 and f != \"none\"\n",
    "]"
   ]
  },
  {
   "cell_type": "code",
   "execution_count": 24,
   "id": "f84f73a2",
   "metadata": {
    "execution": {
     "iopub.execute_input": "2025-07-28T11:02:53.431818Z",
     "iopub.status.busy": "2025-07-28T11:02:53.431294Z",
     "iopub.status.idle": "2025-07-28T11:02:53.438058Z",
     "shell.execute_reply": "2025-07-28T11:02:53.437158Z"
    },
    "papermill": {
     "duration": 0.02938,
     "end_time": "2025-07-28T11:02:53.439662",
     "exception": false,
     "start_time": "2025-07-28T11:02:53.410282",
     "status": "completed"
    },
    "tags": []
   },
   "outputs": [],
   "source": [
    "from utils import flatten_once\n",
    "\n",
    "excluded_features_columns = flatten_once(excluded_features_columns)"
   ]
  },
  {
   "cell_type": "code",
   "execution_count": 25,
   "id": "884dea22",
   "metadata": {
    "execution": {
     "iopub.execute_input": "2025-07-28T11:02:53.481322Z",
     "iopub.status.busy": "2025-07-28T11:02:53.480413Z",
     "iopub.status.idle": "2025-07-28T11:02:53.534034Z",
     "shell.execute_reply": "2025-07-28T11:02:53.533076Z"
    },
    "papermill": {
     "duration": 0.075702,
     "end_time": "2025-07-28T11:02:53.535772",
     "exception": false,
     "start_time": "2025-07-28T11:02:53.460070",
     "status": "completed"
    },
    "tags": []
   },
   "outputs": [
    {
     "name": "stdout",
     "output_type": "stream",
     "text": [
      "Dropping features: ['age']\n"
     ]
    }
   ],
   "source": [
    "if len(excluded_features_columns) > 0:\n",
    "    print(f\"Dropping features: {excluded_features_columns}\")\n",
    "    X_train.drop(excluded_features_columns, axis=1, inplace=True)"
   ]
  },
  {
   "cell_type": "code",
   "execution_count": 26,
   "id": "95ab8b16",
   "metadata": {
    "execution": {
     "iopub.execute_input": "2025-07-28T11:02:53.586773Z",
     "iopub.status.busy": "2025-07-28T11:02:53.586258Z",
     "iopub.status.idle": "2025-07-28T11:02:53.641300Z",
     "shell.execute_reply": "2025-07-28T11:02:53.640242Z"
    },
    "papermill": {
     "duration": 0.082647,
     "end_time": "2025-07-28T11:02:53.642965",
     "exception": false,
     "start_time": "2025-07-28T11:02:53.560318",
     "status": "completed"
    },
    "tags": []
   },
   "outputs": [
    {
     "name": "stdout",
     "output_type": "stream",
     "text": [
      "Dropping features: ['age']\n"
     ]
    }
   ],
   "source": [
    "if len(excluded_features_columns) > 0:\n",
    "    print(f\"Dropping features: {excluded_features_columns}\")\n",
    "    X_test.drop(excluded_features_columns, axis=1, inplace=True)"
   ]
  },
  {
   "cell_type": "code",
   "execution_count": 27,
   "id": "1853aaf5-fb9f-46cb-a2b5-8ea4ae2237e4",
   "metadata": {
    "execution": {
     "iopub.execute_input": "2025-07-28T11:02:53.689414Z",
     "iopub.status.busy": "2025-07-28T11:02:53.688912Z",
     "iopub.status.idle": "2025-07-28T11:02:53.743042Z",
     "shell.execute_reply": "2025-07-28T11:02:53.741880Z"
    },
    "papermill": {
     "duration": 0.080646,
     "end_time": "2025-07-28T11:02:53.744923",
     "exception": false,
     "start_time": "2025-07-28T11:02:53.664277",
     "status": "completed"
    },
    "tags": []
   },
   "outputs": [
    {
     "name": "stdout",
     "output_type": "stream",
     "text": [
      "Dropping features: ['age']\n"
     ]
    }
   ],
   "source": [
    "if len(excluded_features_columns) > 0:\n",
    "    print(f\"Dropping features: {excluded_features_columns}\")\n",
    "    X_calib.drop(excluded_features_columns, axis=1, inplace=True)"
   ]
  },
  {
   "cell_type": "code",
   "execution_count": 28,
   "id": "6727d079-03e5-481e-9d38-292a90b7a0a8",
   "metadata": {
    "execution": {
     "iopub.execute_input": "2025-07-28T11:02:53.787978Z",
     "iopub.status.busy": "2025-07-28T11:02:53.787257Z",
     "iopub.status.idle": "2025-07-28T11:02:53.792431Z",
     "shell.execute_reply": "2025-07-28T11:02:53.791376Z"
    },
    "papermill": {
     "duration": 0.032305,
     "end_time": "2025-07-28T11:02:53.798447",
     "exception": false,
     "start_time": "2025-07-28T11:02:53.766142",
     "status": "completed"
    },
    "tags": []
   },
   "outputs": [],
   "source": [
    "# SPLIT & STRATIFY DATA\n",
    "# ----------------------"
   ]
  },
  {
   "cell_type": "code",
   "execution_count": 29,
   "id": "76c4dc6d",
   "metadata": {
    "execution": {
     "iopub.execute_input": "2025-07-28T11:02:53.843721Z",
     "iopub.status.busy": "2025-07-28T11:02:53.843294Z",
     "iopub.status.idle": "2025-07-28T11:02:53.848619Z",
     "shell.execute_reply": "2025-07-28T11:02:53.847608Z"
    },
    "papermill": {
     "duration": 0.02926,
     "end_time": "2025-07-28T11:02:53.850273",
     "exception": false,
     "start_time": "2025-07-28T11:02:53.821013",
     "status": "completed"
    },
    "tags": []
   },
   "outputs": [],
   "source": [
    "# EXCLUDE CERTAIN SUBGROUPS\n",
    "# ----------------------\n",
    "\n",
    "mode = universe.get(\"exclude_subgroups\", \"keep-all\") \n",
    "# Fetches the exclude_subgroups setting from the universe dict.\n",
    "# Defaults to \"keep-all\" if the key is missing."
   ]
  },
  {
   "cell_type": "code",
   "execution_count": 30,
   "id": "21994072",
   "metadata": {
    "execution": {
     "iopub.execute_input": "2025-07-28T11:02:53.895842Z",
     "iopub.status.busy": "2025-07-28T11:02:53.895132Z",
     "iopub.status.idle": "2025-07-28T11:02:53.902550Z",
     "shell.execute_reply": "2025-07-28T11:02:53.901659Z"
    },
    "papermill": {
     "duration": 0.032357,
     "end_time": "2025-07-28T11:02:53.904250",
     "exception": false,
     "start_time": "2025-07-28T11:02:53.871893",
     "status": "completed"
    },
    "tags": []
   },
   "outputs": [],
   "source": [
    "if mode == \"keep-all\":\n",
    "    keep_mask = pd.Series(True, index=org_train.index)\n",
    "\n",
    "# org_train contains the original feature columns from features_org (in Simson)\n",
    "# features_org contains unprocessed features, for me X_train at beginning ???\n",
    "# For keep-all, creates a boolean Series (keep_mask) of all True, so no rows are removed.\n",
    "\n",
    "elif mode == \"drop-non-german\":\n",
    "    keep_mask = org_train[\"maxdeutsch1\"] == 1 # ??? what about missing values?\n",
    "\n",
    "else:\n",
    "    raise ValueError(f\"Unsupported mode for exclude_subgroups: {mode}\")\n"
   ]
  },
  {
   "cell_type": "code",
   "execution_count": 31,
   "id": "71651440",
   "metadata": {
    "execution": {
     "iopub.execute_input": "2025-07-28T11:02:53.949572Z",
     "iopub.status.busy": "2025-07-28T11:02:53.948602Z",
     "iopub.status.idle": "2025-07-28T11:02:53.956129Z",
     "shell.execute_reply": "2025-07-28T11:02:53.955175Z"
    },
    "papermill": {
     "duration": 0.032225,
     "end_time": "2025-07-28T11:02:53.957919",
     "exception": false,
     "start_time": "2025-07-28T11:02:53.925694",
     "status": "completed"
    },
    "tags": []
   },
   "outputs": [
    {
     "name": "stdout",
     "output_type": "stream",
     "text": [
      "Dropping 12995 rows (14.91%) where mode='drop-non-german'\n"
     ]
    }
   ],
   "source": [
    "n_drop = (~keep_mask).sum() # Calculates how many rows are set to be dropped\n",
    "if n_drop > 0:\n",
    "    pct = n_drop / len(keep_mask) * 100\n",
    "    print(f\"Dropping {n_drop} rows ({pct:.2f}%) where mode='{mode}'\")"
   ]
  },
  {
   "cell_type": "code",
   "execution_count": 32,
   "id": "5fb8eee5",
   "metadata": {
    "execution": {
     "iopub.execute_input": "2025-07-28T11:02:54.002065Z",
     "iopub.status.busy": "2025-07-28T11:02:54.001325Z",
     "iopub.status.idle": "2025-07-28T11:02:54.062775Z",
     "shell.execute_reply": "2025-07-28T11:02:54.061705Z"
    },
    "papermill": {
     "duration": 0.085237,
     "end_time": "2025-07-28T11:02:54.064992",
     "exception": false,
     "start_time": "2025-07-28T11:02:53.979755",
     "status": "completed"
    },
    "tags": []
   },
   "outputs": [],
   "source": [
    "X_train = X_train[keep_mask]"
   ]
  },
  {
   "cell_type": "code",
   "execution_count": 33,
   "id": "b202bb3a",
   "metadata": {
    "execution": {
     "iopub.execute_input": "2025-07-28T11:02:54.115033Z",
     "iopub.status.busy": "2025-07-28T11:02:54.114502Z",
     "iopub.status.idle": "2025-07-28T11:02:54.122176Z",
     "shell.execute_reply": "2025-07-28T11:02:54.121175Z"
    },
    "papermill": {
     "duration": 0.034174,
     "end_time": "2025-07-28T11:02:54.123862",
     "exception": false,
     "start_time": "2025-07-28T11:02:54.089688",
     "status": "completed"
    },
    "tags": []
   },
   "outputs": [],
   "source": [
    "y_train = y_train[keep_mask]"
   ]
  },
  {
   "cell_type": "markdown",
   "id": "493e2ac3",
   "metadata": {
    "papermill": {
     "duration": 0.022365,
     "end_time": "2025-07-28T11:02:54.168613",
     "exception": false,
     "start_time": "2025-07-28T11:02:54.146248",
     "status": "completed"
    },
    "tags": []
   },
   "source": [
    "# Model Training"
   ]
  },
  {
   "cell_type": "code",
   "execution_count": 34,
   "id": "679e1268",
   "metadata": {
    "execution": {
     "iopub.execute_input": "2025-07-28T11:02:54.213627Z",
     "iopub.status.busy": "2025-07-28T11:02:54.212922Z",
     "iopub.status.idle": "2025-07-28T11:02:54.325058Z",
     "shell.execute_reply": "2025-07-28T11:02:54.324059Z"
    },
    "papermill": {
     "duration": 0.136724,
     "end_time": "2025-07-28T11:02:54.327170",
     "exception": false,
     "start_time": "2025-07-28T11:02:54.190446",
     "status": "completed"
    },
    "tags": []
   },
   "outputs": [],
   "source": [
    "from sklearn.linear_model import LogisticRegression\n",
    "from sklearn.ensemble import GradientBoostingClassifier, RandomForestClassifier\n",
    "\n",
    "if (universe[\"model\"] == \"logreg\"):\n",
    "    model = LogisticRegression() #penalty=\"none\") #, solver=\"newton-cg\", max_iter=1) # include random_state=19 ?\n",
    "elif (universe[\"model\"] == \"penalized_logreg\"):\n",
    "    model = LogisticRegression(penalty=\"l2\", C=1.0) #, solver=\"newton-cg\", max_iter=1)\n",
    "elif (universe[\"model\"] == \"rf\"):\n",
    "    model = RandomForestClassifier(n_estimators=100, n_jobs=-1)\n",
    "elif (universe[\"model\"] == \"gbm\"):\n",
    "    model = GradientBoostingClassifier()\n",
    "elif (universe[\"model\"] == \"elasticnet\"):\n",
    "    model = LogisticRegression(penalty = 'elasticnet', solver = 'saga', l1_ratio = 0.5, max_iter=5000) # which solver to use?\n",
    "else:\n",
    "    raise \"Unsupported universe.model\""
   ]
  },
  {
   "cell_type": "code",
   "execution_count": 35,
   "id": "0cc8f744",
   "metadata": {
    "execution": {
     "iopub.execute_input": "2025-07-28T11:02:54.373665Z",
     "iopub.status.busy": "2025-07-28T11:02:54.373062Z",
     "iopub.status.idle": "2025-07-28T11:02:54.380331Z",
     "shell.execute_reply": "2025-07-28T11:02:54.379310Z"
    },
    "papermill": {
     "duration": 0.032317,
     "end_time": "2025-07-28T11:02:54.382047",
     "exception": false,
     "start_time": "2025-07-28T11:02:54.349730",
     "status": "completed"
    },
    "tags": []
   },
   "outputs": [],
   "source": [
    "import numpy as np\n",
    "from sklearn.pipeline import Pipeline\n",
    "from sklearn.preprocessing import StandardScaler\n",
    "\n",
    "model = Pipeline([\n",
    "    #(\"continuous_processor\", continuous_processor),\n",
    "    #(\"categorical_preprocessor\", categorical_preprocessor),\n",
    "    (\"scale\", StandardScaler() if universe[\"scale\"] == \"scale\" else None), \n",
    "    (\"model\", model),\n",
    "])"
   ]
  },
  {
   "cell_type": "code",
   "execution_count": 36,
   "id": "9442c04d",
   "metadata": {
    "execution": {
     "iopub.execute_input": "2025-07-28T11:02:54.427794Z",
     "iopub.status.busy": "2025-07-28T11:02:54.427328Z",
     "iopub.status.idle": "2025-07-28T11:03:21.267480Z",
     "shell.execute_reply": "2025-07-28T11:03:21.266382Z"
    },
    "papermill": {
     "duration": 26.864249,
     "end_time": "2025-07-28T11:03:21.269139",
     "exception": false,
     "start_time": "2025-07-28T11:02:54.404890",
     "status": "completed"
    },
    "tags": []
   },
   "outputs": [
    {
     "data": {
      "text/html": [
       "<style>#sk-container-id-1 {color: black;background-color: white;}#sk-container-id-1 pre{padding: 0;}#sk-container-id-1 div.sk-toggleable {background-color: white;}#sk-container-id-1 label.sk-toggleable__label {cursor: pointer;display: block;width: 100%;margin-bottom: 0;padding: 0.3em;box-sizing: border-box;text-align: center;}#sk-container-id-1 label.sk-toggleable__label-arrow:before {content: \"▸\";float: left;margin-right: 0.25em;color: #696969;}#sk-container-id-1 label.sk-toggleable__label-arrow:hover:before {color: black;}#sk-container-id-1 div.sk-estimator:hover label.sk-toggleable__label-arrow:before {color: black;}#sk-container-id-1 div.sk-toggleable__content {max-height: 0;max-width: 0;overflow: hidden;text-align: left;background-color: #f0f8ff;}#sk-container-id-1 div.sk-toggleable__content pre {margin: 0.2em;color: black;border-radius: 0.25em;background-color: #f0f8ff;}#sk-container-id-1 input.sk-toggleable__control:checked~div.sk-toggleable__content {max-height: 200px;max-width: 100%;overflow: auto;}#sk-container-id-1 input.sk-toggleable__control:checked~label.sk-toggleable__label-arrow:before {content: \"▾\";}#sk-container-id-1 div.sk-estimator input.sk-toggleable__control:checked~label.sk-toggleable__label {background-color: #d4ebff;}#sk-container-id-1 div.sk-label input.sk-toggleable__control:checked~label.sk-toggleable__label {background-color: #d4ebff;}#sk-container-id-1 input.sk-hidden--visually {border: 0;clip: rect(1px 1px 1px 1px);clip: rect(1px, 1px, 1px, 1px);height: 1px;margin: -1px;overflow: hidden;padding: 0;position: absolute;width: 1px;}#sk-container-id-1 div.sk-estimator {font-family: monospace;background-color: #f0f8ff;border: 1px dotted black;border-radius: 0.25em;box-sizing: border-box;margin-bottom: 0.5em;}#sk-container-id-1 div.sk-estimator:hover {background-color: #d4ebff;}#sk-container-id-1 div.sk-parallel-item::after {content: \"\";width: 100%;border-bottom: 1px solid gray;flex-grow: 1;}#sk-container-id-1 div.sk-label:hover label.sk-toggleable__label {background-color: #d4ebff;}#sk-container-id-1 div.sk-serial::before {content: \"\";position: absolute;border-left: 1px solid gray;box-sizing: border-box;top: 0;bottom: 0;left: 50%;z-index: 0;}#sk-container-id-1 div.sk-serial {display: flex;flex-direction: column;align-items: center;background-color: white;padding-right: 0.2em;padding-left: 0.2em;position: relative;}#sk-container-id-1 div.sk-item {position: relative;z-index: 1;}#sk-container-id-1 div.sk-parallel {display: flex;align-items: stretch;justify-content: center;background-color: white;position: relative;}#sk-container-id-1 div.sk-item::before, #sk-container-id-1 div.sk-parallel-item::before {content: \"\";position: absolute;border-left: 1px solid gray;box-sizing: border-box;top: 0;bottom: 0;left: 50%;z-index: -1;}#sk-container-id-1 div.sk-parallel-item {display: flex;flex-direction: column;z-index: 1;position: relative;background-color: white;}#sk-container-id-1 div.sk-parallel-item:first-child::after {align-self: flex-end;width: 50%;}#sk-container-id-1 div.sk-parallel-item:last-child::after {align-self: flex-start;width: 50%;}#sk-container-id-1 div.sk-parallel-item:only-child::after {width: 0;}#sk-container-id-1 div.sk-dashed-wrapped {border: 1px dashed gray;margin: 0 0.4em 0.5em 0.4em;box-sizing: border-box;padding-bottom: 0.4em;background-color: white;}#sk-container-id-1 div.sk-label label {font-family: monospace;font-weight: bold;display: inline-block;line-height: 1.2em;}#sk-container-id-1 div.sk-label-container {text-align: center;}#sk-container-id-1 div.sk-container {/* jupyter's `normalize.less` sets `[hidden] { display: none; }` but bootstrap.min.css set `[hidden] { display: none !important; }` so we also need the `!important` here to be able to override the default hidden behavior on the sphinx rendered scikit-learn.org. See: https://github.com/scikit-learn/scikit-learn/issues/21755 */display: inline-block !important;position: relative;}#sk-container-id-1 div.sk-text-repr-fallback {display: none;}</style><div id=\"sk-container-id-1\" class=\"sk-top-container\"><div class=\"sk-text-repr-fallback\"><pre>Pipeline(steps=[(&#x27;scale&#x27;, StandardScaler()),\n",
       "                (&#x27;model&#x27;,\n",
       "                 LogisticRegression(l1_ratio=0.5, max_iter=5000,\n",
       "                                    penalty=&#x27;elasticnet&#x27;, solver=&#x27;saga&#x27;))])</pre><b>In a Jupyter environment, please rerun this cell to show the HTML representation or trust the notebook. <br />On GitHub, the HTML representation is unable to render, please try loading this page with nbviewer.org.</b></div><div class=\"sk-container\" hidden><div class=\"sk-item sk-dashed-wrapped\"><div class=\"sk-label-container\"><div class=\"sk-label sk-toggleable\"><input class=\"sk-toggleable__control sk-hidden--visually\" id=\"sk-estimator-id-1\" type=\"checkbox\" ><label for=\"sk-estimator-id-1\" class=\"sk-toggleable__label sk-toggleable__label-arrow\">Pipeline</label><div class=\"sk-toggleable__content\"><pre>Pipeline(steps=[(&#x27;scale&#x27;, StandardScaler()),\n",
       "                (&#x27;model&#x27;,\n",
       "                 LogisticRegression(l1_ratio=0.5, max_iter=5000,\n",
       "                                    penalty=&#x27;elasticnet&#x27;, solver=&#x27;saga&#x27;))])</pre></div></div></div><div class=\"sk-serial\"><div class=\"sk-item\"><div class=\"sk-estimator sk-toggleable\"><input class=\"sk-toggleable__control sk-hidden--visually\" id=\"sk-estimator-id-2\" type=\"checkbox\" ><label for=\"sk-estimator-id-2\" class=\"sk-toggleable__label sk-toggleable__label-arrow\">StandardScaler</label><div class=\"sk-toggleable__content\"><pre>StandardScaler()</pre></div></div></div><div class=\"sk-item\"><div class=\"sk-estimator sk-toggleable\"><input class=\"sk-toggleable__control sk-hidden--visually\" id=\"sk-estimator-id-3\" type=\"checkbox\" ><label for=\"sk-estimator-id-3\" class=\"sk-toggleable__label sk-toggleable__label-arrow\">LogisticRegression</label><div class=\"sk-toggleable__content\"><pre>LogisticRegression(l1_ratio=0.5, max_iter=5000, penalty=&#x27;elasticnet&#x27;,\n",
       "                   solver=&#x27;saga&#x27;)</pre></div></div></div></div></div></div></div>"
      ],
      "text/plain": [
       "Pipeline(steps=[('scale', StandardScaler()),\n",
       "                ('model',\n",
       "                 LogisticRegression(l1_ratio=0.5, max_iter=5000,\n",
       "                                    penalty='elasticnet', solver='saga'))])"
      ]
     },
     "execution_count": 36,
     "metadata": {},
     "output_type": "execute_result"
    }
   ],
   "source": [
    "model.fit(X_train, y_train.values.ravel())"
   ]
  },
  {
   "cell_type": "code",
   "execution_count": 37,
   "id": "af59f8c0",
   "metadata": {
    "execution": {
     "iopub.execute_input": "2025-07-28T11:03:21.317913Z",
     "iopub.status.busy": "2025-07-28T11:03:21.317421Z",
     "iopub.status.idle": "2025-07-28T11:03:21.323444Z",
     "shell.execute_reply": "2025-07-28T11:03:21.322349Z"
    },
    "papermill": {
     "duration": 0.031499,
     "end_time": "2025-07-28T11:03:21.325141",
     "exception": false,
     "start_time": "2025-07-28T11:03:21.293642",
     "status": "completed"
    },
    "tags": []
   },
   "outputs": [],
   "source": [
    "from fairness_multiverse.universe import predict_w_threshold"
   ]
  },
  {
   "cell_type": "code",
   "execution_count": 38,
   "id": "a7cf2e16",
   "metadata": {
    "execution": {
     "iopub.execute_input": "2025-07-28T11:03:21.373536Z",
     "iopub.status.busy": "2025-07-28T11:03:21.373150Z",
     "iopub.status.idle": "2025-07-28T11:03:21.582214Z",
     "shell.execute_reply": "2025-07-28T11:03:21.581242Z"
    },
    "papermill": {
     "duration": 0.234954,
     "end_time": "2025-07-28T11:03:21.584224",
     "exception": false,
     "start_time": "2025-07-28T11:03:21.349270",
     "status": "completed"
    },
    "tags": []
   },
   "outputs": [
    {
     "data": {
      "text/plain": [
       "0.866335971463605"
      ]
     },
     "execution_count": 38,
     "metadata": {},
     "output_type": "execute_result"
    }
   ],
   "source": [
    "probs_test = model.predict_proba(X_test)\n",
    "\n",
    "'''\n",
    "Below code returns a boolean array (or binary 0/1 array depending on how it’s used) where each element \n",
    "is True if the probability of class 1 is greater than or equal to the threshold, and False otherwise.\n",
    "'''\n",
    "y_pred_default = predict_w_threshold(probs_test, 0.5)\n",
    "\n",
    "from sklearn.metrics import accuracy_score\n",
    "\n",
    "# Naive prediction\n",
    "accuracy_score(y_true = y_true, y_pred = y_pred_default)"
   ]
  },
  {
   "cell_type": "code",
   "execution_count": 39,
   "id": "081964c3",
   "metadata": {
    "execution": {
     "iopub.execute_input": "2025-07-28T11:03:21.631072Z",
     "iopub.status.busy": "2025-07-28T11:03:21.630475Z",
     "iopub.status.idle": "2025-07-28T11:03:21.819339Z",
     "shell.execute_reply": "2025-07-28T11:03:21.818322Z"
    },
    "papermill": {
     "duration": 0.214375,
     "end_time": "2025-07-28T11:03:21.821485",
     "exception": false,
     "start_time": "2025-07-28T11:03:21.607110",
     "status": "completed"
    },
    "tags": []
   },
   "outputs": [
    {
     "data": {
      "text/plain": [
       "array([0, 0, 0, ..., 0, 0, 0])"
      ]
     },
     "execution_count": 39,
     "metadata": {},
     "output_type": "execute_result"
    }
   ],
   "source": [
    "model.predict(X_test)"
   ]
  },
  {
   "cell_type": "markdown",
   "id": "56c9705b",
   "metadata": {
    "papermill": {
     "duration": 0.022314,
     "end_time": "2025-07-28T11:03:21.866769",
     "exception": false,
     "start_time": "2025-07-28T11:03:21.844455",
     "status": "completed"
    },
    "tags": []
   },
   "source": [
    "# Conformal Prediction"
   ]
  },
  {
   "cell_type": "code",
   "execution_count": 40,
   "id": "160ec6ff",
   "metadata": {
    "execution": {
     "iopub.execute_input": "2025-07-28T11:03:21.914186Z",
     "iopub.status.busy": "2025-07-28T11:03:21.913530Z",
     "iopub.status.idle": "2025-07-28T11:03:21.918778Z",
     "shell.execute_reply": "2025-07-28T11:03:21.917786Z"
    },
    "papermill": {
     "duration": 0.03079,
     "end_time": "2025-07-28T11:03:21.920625",
     "exception": false,
     "start_time": "2025-07-28T11:03:21.889835",
     "status": "completed"
    },
    "tags": []
   },
   "outputs": [],
   "source": [
    "# Miscoverage level for conformal prediction (10% allowed error rate => 90% target coverage)\n",
    "alpha = 0.1"
   ]
  },
  {
   "cell_type": "code",
   "execution_count": 41,
   "id": "eadf4555-3dd3-440e-8e35-f82a4ad9f855",
   "metadata": {
    "execution": {
     "iopub.execute_input": "2025-07-28T11:03:21.970251Z",
     "iopub.status.busy": "2025-07-28T11:03:21.969294Z",
     "iopub.status.idle": "2025-07-28T11:03:22.157737Z",
     "shell.execute_reply": "2025-07-28T11:03:22.156770Z"
    },
    "papermill": {
     "duration": 0.214915,
     "end_time": "2025-07-28T11:03:22.159649",
     "exception": false,
     "start_time": "2025-07-28T11:03:21.944734",
     "status": "completed"
    },
    "tags": []
   },
   "outputs": [],
   "source": [
    "probs_calib = model.predict_proba(X_calib)"
   ]
  },
  {
   "cell_type": "code",
   "execution_count": 42,
   "id": "2ed93547-6d5d-4983-9b36-1ecb300da49a",
   "metadata": {
    "execution": {
     "iopub.execute_input": "2025-07-28T11:03:22.207181Z",
     "iopub.status.busy": "2025-07-28T11:03:22.206216Z",
     "iopub.status.idle": "2025-07-28T11:03:22.212501Z",
     "shell.execute_reply": "2025-07-28T11:03:22.211419Z"
    },
    "papermill": {
     "duration": 0.032027,
     "end_time": "2025-07-28T11:03:22.214364",
     "exception": false,
     "start_time": "2025-07-28T11:03:22.182337",
     "status": "completed"
    },
    "tags": []
   },
   "outputs": [],
   "source": [
    "y_calib = y_calib.values.ravel().astype(int)"
   ]
  },
  {
   "cell_type": "code",
   "execution_count": 43,
   "id": "65d1320d-f588-4b38-9072-62af1ae97f7d",
   "metadata": {
    "execution": {
     "iopub.execute_input": "2025-07-28T11:03:22.265306Z",
     "iopub.status.busy": "2025-07-28T11:03:22.264614Z",
     "iopub.status.idle": "2025-07-28T11:03:22.272259Z",
     "shell.execute_reply": "2025-07-28T11:03:22.271327Z"
    },
    "papermill": {
     "duration": 0.03467,
     "end_time": "2025-07-28T11:03:22.274105",
     "exception": false,
     "start_time": "2025-07-28T11:03:22.239435",
     "status": "completed"
    },
    "tags": []
   },
   "outputs": [],
   "source": [
    "from fairness_multiverse.conformal import compute_nc_scores\n",
    "\n",
    "# Compute nonconformity scores on calibration set (1 - probability of true class)\n",
    "nc_scores = compute_nc_scores(probs_calib, y_calib)"
   ]
  },
  {
   "cell_type": "code",
   "execution_count": 44,
   "id": "df3b8ca3-53b7-43d5-9667-7c85da7aeda2",
   "metadata": {
    "execution": {
     "iopub.execute_input": "2025-07-28T11:03:22.325330Z",
     "iopub.status.busy": "2025-07-28T11:03:22.324636Z",
     "iopub.status.idle": "2025-07-28T11:03:22.332436Z",
     "shell.execute_reply": "2025-07-28T11:03:22.331300Z"
    },
    "papermill": {
     "duration": 0.035222,
     "end_time": "2025-07-28T11:03:22.334248",
     "exception": false,
     "start_time": "2025-07-28T11:03:22.299026",
     "status": "completed"
    },
    "tags": []
   },
   "outputs": [],
   "source": [
    "from fairness_multiverse.conformal import find_threshold\n",
    "\n",
    "# Find conformal threshold q_hat for the given alpha (split conformal method)\n",
    "q_hat = find_threshold(nc_scores, alpha)"
   ]
  },
  {
   "cell_type": "code",
   "execution_count": 45,
   "id": "4d29e6c1-0ef6-4aa4-b8fe-4fe79b0d033a",
   "metadata": {
    "execution": {
     "iopub.execute_input": "2025-07-28T11:03:22.382727Z",
     "iopub.status.busy": "2025-07-28T11:03:22.382025Z",
     "iopub.status.idle": "2025-07-28T11:03:22.389830Z",
     "shell.execute_reply": "2025-07-28T11:03:22.388794Z"
    },
    "papermill": {
     "duration": 0.033792,
     "end_time": "2025-07-28T11:03:22.391557",
     "exception": false,
     "start_time": "2025-07-28T11:03:22.357765",
     "status": "completed"
    },
    "tags": []
   },
   "outputs": [
    {
     "data": {
      "text/plain": [
       "0.6785391693203346"
      ]
     },
     "execution_count": 45,
     "metadata": {},
     "output_type": "execute_result"
    }
   ],
   "source": [
    "q_hat"
   ]
  },
  {
   "cell_type": "code",
   "execution_count": 46,
   "id": "92460794-cdac-4be2-ba28-f28c0515a6fb",
   "metadata": {
    "execution": {
     "iopub.execute_input": "2025-07-28T11:03:22.441344Z",
     "iopub.status.busy": "2025-07-28T11:03:22.440456Z",
     "iopub.status.idle": "2025-07-28T11:03:23.362860Z",
     "shell.execute_reply": "2025-07-28T11:03:23.361906Z"
    },
    "papermill": {
     "duration": 0.949457,
     "end_time": "2025-07-28T11:03:23.364737",
     "exception": false,
     "start_time": "2025-07-28T11:03:22.415280",
     "status": "completed"
    },
    "tags": []
   },
   "outputs": [],
   "source": [
    "from fairness_multiverse.conformal import predict_conformal_sets\n",
    "\n",
    "# Generate prediction sets for each test example\n",
    "pred_sets = predict_conformal_sets(model, X_test, q_hat)"
   ]
  },
  {
   "cell_type": "code",
   "execution_count": 47,
   "id": "d90c9a65-e6db-4f5d-80cd-e68fb7e46829",
   "metadata": {
    "execution": {
     "iopub.execute_input": "2025-07-28T11:03:23.419419Z",
     "iopub.status.busy": "2025-07-28T11:03:23.418404Z",
     "iopub.status.idle": "2025-07-28T11:03:23.424516Z",
     "shell.execute_reply": "2025-07-28T11:03:23.423571Z"
    },
    "papermill": {
     "duration": 0.037904,
     "end_time": "2025-07-28T11:03:23.426005",
     "exception": false,
     "start_time": "2025-07-28T11:03:23.388101",
     "status": "completed"
    },
    "tags": []
   },
   "outputs": [],
   "source": [
    "y_true = y_true.squeeze()"
   ]
  },
  {
   "cell_type": "code",
   "execution_count": 48,
   "id": "3a58a54a-1e68-46b9-927a-df01f18aebc8",
   "metadata": {
    "execution": {
     "iopub.execute_input": "2025-07-28T11:03:23.474974Z",
     "iopub.status.busy": "2025-07-28T11:03:23.474192Z",
     "iopub.status.idle": "2025-07-28T11:03:24.455275Z",
     "shell.execute_reply": "2025-07-28T11:03:24.454306Z"
    },
    "papermill": {
     "duration": 1.007371,
     "end_time": "2025-07-28T11:03:24.457315",
     "exception": false,
     "start_time": "2025-07-28T11:03:23.449944",
     "status": "completed"
    },
    "tags": []
   },
   "outputs": [],
   "source": [
    "from fairness_multiverse.conformal import evaluate_sets\n",
    "\n",
    "# Evaluate coverage and average set size on test data\n",
    "metrics = evaluate_sets(pred_sets, y_true)"
   ]
  },
  {
   "cell_type": "markdown",
   "id": "2b569c12-9aaa-4c88-98c9-bbcd0cf3ebb8",
   "metadata": {
    "papermill": {
     "duration": 0.024548,
     "end_time": "2025-07-28T11:03:24.506217",
     "exception": false,
     "start_time": "2025-07-28T11:03:24.481669",
     "status": "completed"
    },
    "tags": []
   },
   "source": [
    "# CP Metrics"
   ]
  },
  {
   "cell_type": "code",
   "execution_count": 49,
   "id": "5ce0a5cb-201f-45a0-ade5-94c7f0bd6095",
   "metadata": {
    "execution": {
     "iopub.execute_input": "2025-07-28T11:03:24.555665Z",
     "iopub.status.busy": "2025-07-28T11:03:24.555170Z",
     "iopub.status.idle": "2025-07-28T11:03:24.562485Z",
     "shell.execute_reply": "2025-07-28T11:03:24.561548Z"
    },
    "papermill": {
     "duration": 0.033854,
     "end_time": "2025-07-28T11:03:24.564201",
     "exception": false,
     "start_time": "2025-07-28T11:03:24.530347",
     "status": "completed"
    },
    "tags": []
   },
   "outputs": [
    {
     "data": {
      "text/plain": [
       "{'coverage': 0.9123954966001561, 'avg_size': 1.1217255601382232}"
      ]
     },
     "execution_count": 49,
     "metadata": {},
     "output_type": "execute_result"
    }
   ],
   "source": [
    "metrics"
   ]
  },
  {
   "cell_type": "code",
   "execution_count": 50,
   "id": "9b9a838d-31c9-430b-ae14-12baee460d17",
   "metadata": {
    "execution": {
     "iopub.execute_input": "2025-07-28T11:03:24.610753Z",
     "iopub.status.busy": "2025-07-28T11:03:24.610192Z",
     "iopub.status.idle": "2025-07-28T11:03:24.616426Z",
     "shell.execute_reply": "2025-07-28T11:03:24.615503Z"
    },
    "papermill": {
     "duration": 0.032118,
     "end_time": "2025-07-28T11:03:24.618799",
     "exception": false,
     "start_time": "2025-07-28T11:03:24.586681",
     "status": "completed"
    },
    "tags": []
   },
   "outputs": [],
   "source": [
    "example_universe = universe.copy()\n",
    "universe_training_size = example_universe.get(\"training_size\")\n",
    "universe_scale = example_universe.get(\"scale\")\n",
    "universe_model = example_universe.get(\"model\")\n",
    "universe_exclude_features = example_universe.get(\"exclude_features\")\n",
    "universe_exclude_subgroups = example_universe.get(\"exclude_subgroups\")"
   ]
  },
  {
   "cell_type": "code",
   "execution_count": 51,
   "id": "f4b6a8ac-9dc0-4245-8a91-5b3b5999c4f9",
   "metadata": {
    "execution": {
     "iopub.execute_input": "2025-07-28T11:03:24.666886Z",
     "iopub.status.busy": "2025-07-28T11:03:24.666044Z",
     "iopub.status.idle": "2025-07-28T11:03:24.672908Z",
     "shell.execute_reply": "2025-07-28T11:03:24.671922Z"
    },
    "papermill": {
     "duration": 0.031946,
     "end_time": "2025-07-28T11:03:24.674537",
     "exception": false,
     "start_time": "2025-07-28T11:03:24.642591",
     "status": "completed"
    },
    "tags": []
   },
   "outputs": [],
   "source": [
    "cp_metrics_dict = {\n",
    "    \"universe_id\": [universe_id],\n",
    "    \"universe_training_size\": [universe_training_size],\n",
    "    \"universe_scale\": [universe_scale],\n",
    "    \"universe_model\": [universe_model],\n",
    "    \"universe_exclude_features\": [universe_exclude_features],\n",
    "    \"universe_exclude_subgroups\": [universe_exclude_subgroups],\n",
    "    \"q_hat\": [q_hat],\n",
    "    \"coverage\": [metrics[\"coverage\"]],\n",
    "    \"avg_size\": [metrics[\"avg_size\"]],\n",
    "}"
   ]
  },
  {
   "cell_type": "code",
   "execution_count": 52,
   "id": "908acbb1-0371-4915-85ca-3fa520d2efe2",
   "metadata": {
    "execution": {
     "iopub.execute_input": "2025-07-28T11:03:24.722263Z",
     "iopub.status.busy": "2025-07-28T11:03:24.721363Z",
     "iopub.status.idle": "2025-07-28T11:03:24.729712Z",
     "shell.execute_reply": "2025-07-28T11:03:24.728576Z"
    },
    "papermill": {
     "duration": 0.033486,
     "end_time": "2025-07-28T11:03:24.731366",
     "exception": false,
     "start_time": "2025-07-28T11:03:24.697880",
     "status": "completed"
    },
    "tags": []
   },
   "outputs": [
    {
     "data": {
      "text/plain": [
       "{'universe_id': ['c8b9a0f49f09be5f4ee439877d577e2f'],\n",
       " 'universe_training_size': ['2014'],\n",
       " 'universe_scale': ['scale'],\n",
       " 'universe_model': ['elasticnet'],\n",
       " 'universe_exclude_features': ['age'],\n",
       " 'universe_exclude_subgroups': ['drop-non-german'],\n",
       " 'q_hat': [0.6785391693203346],\n",
       " 'coverage': [0.9123954966001561],\n",
       " 'avg_size': [1.1217255601382232]}"
      ]
     },
     "execution_count": 52,
     "metadata": {},
     "output_type": "execute_result"
    }
   ],
   "source": [
    "cp_metrics_dict"
   ]
  },
  {
   "cell_type": "code",
   "execution_count": 53,
   "id": "33007efc-14e9-4ec6-97ac-56a455c82265",
   "metadata": {
    "execution": {
     "iopub.execute_input": "2025-07-28T11:03:24.781220Z",
     "iopub.status.busy": "2025-07-28T11:03:24.780292Z",
     "iopub.status.idle": "2025-07-28T11:03:24.786935Z",
     "shell.execute_reply": "2025-07-28T11:03:24.785885Z"
    },
    "papermill": {
     "duration": 0.031824,
     "end_time": "2025-07-28T11:03:24.788495",
     "exception": false,
     "start_time": "2025-07-28T11:03:24.756671",
     "status": "completed"
    },
    "tags": []
   },
   "outputs": [],
   "source": [
    "cp_metrics_df = pd.DataFrame(cp_metrics_dict)"
   ]
  },
  {
   "cell_type": "code",
   "execution_count": 54,
   "id": "db12611b-57b2-4910-b9d0-355adfd6e7bf",
   "metadata": {
    "execution": {
     "iopub.execute_input": "2025-07-28T11:03:24.836215Z",
     "iopub.status.busy": "2025-07-28T11:03:24.835617Z",
     "iopub.status.idle": "2025-07-28T11:03:24.854405Z",
     "shell.execute_reply": "2025-07-28T11:03:24.853488Z"
    },
    "papermill": {
     "duration": 0.044198,
     "end_time": "2025-07-28T11:03:24.855900",
     "exception": false,
     "start_time": "2025-07-28T11:03:24.811702",
     "status": "completed"
    },
    "tags": []
   },
   "outputs": [
    {
     "data": {
      "text/html": [
       "<div>\n",
       "<style scoped>\n",
       "    .dataframe tbody tr th:only-of-type {\n",
       "        vertical-align: middle;\n",
       "    }\n",
       "\n",
       "    .dataframe tbody tr th {\n",
       "        vertical-align: top;\n",
       "    }\n",
       "\n",
       "    .dataframe thead th {\n",
       "        text-align: right;\n",
       "    }\n",
       "</style>\n",
       "<table border=\"1\" class=\"dataframe\">\n",
       "  <thead>\n",
       "    <tr style=\"text-align: right;\">\n",
       "      <th></th>\n",
       "      <th>universe_id</th>\n",
       "      <th>universe_training_size</th>\n",
       "      <th>universe_scale</th>\n",
       "      <th>universe_model</th>\n",
       "      <th>universe_exclude_features</th>\n",
       "      <th>universe_exclude_subgroups</th>\n",
       "      <th>q_hat</th>\n",
       "      <th>coverage</th>\n",
       "      <th>avg_size</th>\n",
       "    </tr>\n",
       "  </thead>\n",
       "  <tbody>\n",
       "    <tr>\n",
       "      <th>0</th>\n",
       "      <td>c8b9a0f49f09be5f4ee439877d577e2f</td>\n",
       "      <td>2014</td>\n",
       "      <td>scale</td>\n",
       "      <td>elasticnet</td>\n",
       "      <td>age</td>\n",
       "      <td>drop-non-german</td>\n",
       "      <td>0.678539</td>\n",
       "      <td>0.912395</td>\n",
       "      <td>1.121726</td>\n",
       "    </tr>\n",
       "  </tbody>\n",
       "</table>\n",
       "</div>"
      ],
      "text/plain": [
       "                        universe_id universe_training_size universe_scale  \\\n",
       "0  c8b9a0f49f09be5f4ee439877d577e2f                   2014          scale   \n",
       "\n",
       "  universe_model universe_exclude_features universe_exclude_subgroups  \\\n",
       "0     elasticnet                       age            drop-non-german   \n",
       "\n",
       "      q_hat  coverage  avg_size  \n",
       "0  0.678539  0.912395  1.121726  "
      ]
     },
     "execution_count": 54,
     "metadata": {},
     "output_type": "execute_result"
    }
   ],
   "source": [
    "cp_metrics_df"
   ]
  },
  {
   "cell_type": "code",
   "execution_count": 55,
   "id": "b7fbde55-a0a1-47e4-9af6-fe4a17fa8c61",
   "metadata": {
    "execution": {
     "iopub.execute_input": "2025-07-28T11:03:24.903791Z",
     "iopub.status.busy": "2025-07-28T11:03:24.902887Z",
     "iopub.status.idle": "2025-07-28T11:03:24.908021Z",
     "shell.execute_reply": "2025-07-28T11:03:24.907143Z"
    },
    "papermill": {
     "duration": 0.030538,
     "end_time": "2025-07-28T11:03:24.909598",
     "exception": false,
     "start_time": "2025-07-28T11:03:24.879060",
     "status": "completed"
    },
    "tags": []
   },
   "outputs": [],
   "source": [
    "# Conditional Coverage & looking at subgroups"
   ]
  },
  {
   "cell_type": "code",
   "execution_count": 56,
   "id": "027ae886-68dd-4141-96c7-805a5450e1ef",
   "metadata": {
    "execution": {
     "iopub.execute_input": "2025-07-28T11:03:24.959460Z",
     "iopub.status.busy": "2025-07-28T11:03:24.958698Z",
     "iopub.status.idle": "2025-07-28T11:03:25.230391Z",
     "shell.execute_reply": "2025-07-28T11:03:25.229489Z"
    },
    "papermill": {
     "duration": 0.299086,
     "end_time": "2025-07-28T11:03:25.232252",
     "exception": false,
     "start_time": "2025-07-28T11:03:24.933166",
     "status": "completed"
    },
    "tags": []
   },
   "outputs": [],
   "source": [
    "from fairness_multiverse.conformal import build_cp_groups\n",
    "\n",
    "cp_groups_df = build_cp_groups(pred_sets, y_true, X_test.index, org_test)\n",
    "#needs universe_id and setting"
   ]
  },
  {
   "cell_type": "code",
   "execution_count": 57,
   "id": "01d5802c-663a-4d1f-9d69-e036faaffbf7",
   "metadata": {
    "execution": {
     "iopub.execute_input": "2025-07-28T11:03:25.281651Z",
     "iopub.status.busy": "2025-07-28T11:03:25.280984Z",
     "iopub.status.idle": "2025-07-28T11:03:25.286073Z",
     "shell.execute_reply": "2025-07-28T11:03:25.285197Z"
    },
    "papermill": {
     "duration": 0.031462,
     "end_time": "2025-07-28T11:03:25.287587",
     "exception": false,
     "start_time": "2025-07-28T11:03:25.256125",
     "status": "completed"
    },
    "tags": []
   },
   "outputs": [],
   "source": [
    "#delete\n",
    "#cp_groups_df"
   ]
  },
  {
   "cell_type": "code",
   "execution_count": 58,
   "id": "fa424af1-d1eb-443d-b717-2d279ada8408",
   "metadata": {
    "execution": {
     "iopub.execute_input": "2025-07-28T11:03:25.339840Z",
     "iopub.status.busy": "2025-07-28T11:03:25.339219Z",
     "iopub.status.idle": "2025-07-28T11:03:25.344836Z",
     "shell.execute_reply": "2025-07-28T11:03:25.343864Z"
    },
    "papermill": {
     "duration": 0.033262,
     "end_time": "2025-07-28T11:03:25.346315",
     "exception": false,
     "start_time": "2025-07-28T11:03:25.313053",
     "status": "completed"
    },
    "tags": []
   },
   "outputs": [],
   "source": [
    "#delete\n",
    "#percentage = (cp_groups_df['nongerman_female'] == 1).mean() * 100\n",
    "#print(percentage)\n"
   ]
  },
  {
   "cell_type": "code",
   "execution_count": 59,
   "id": "6cbdab96-b2b2-45af-ad54-d0516db2e28d",
   "metadata": {
    "execution": {
     "iopub.execute_input": "2025-07-28T11:03:25.396803Z",
     "iopub.status.busy": "2025-07-28T11:03:25.395779Z",
     "iopub.status.idle": "2025-07-28T11:03:27.150772Z",
     "shell.execute_reply": "2025-07-28T11:03:27.149707Z"
    },
    "papermill": {
     "duration": 1.782277,
     "end_time": "2025-07-28T11:03:27.152880",
     "exception": false,
     "start_time": "2025-07-28T11:03:25.370603",
     "status": "completed"
    },
    "tags": []
   },
   "outputs": [],
   "source": [
    "# Define covered = 1 if true_label is in the predicted set\n",
    "cp_groups_df['covered'] = cp_groups_df.apply(\n",
    "    lambda r: int(r['true_label'] in r['pred_set']),\n",
    "    axis=1\n",
    ")"
   ]
  },
  {
   "cell_type": "code",
   "execution_count": 60,
   "id": "338ff529-1a6b-4b87-a931-8e4788d52aad",
   "metadata": {
    "execution": {
     "iopub.execute_input": "2025-07-28T11:03:27.209249Z",
     "iopub.status.busy": "2025-07-28T11:03:27.208740Z",
     "iopub.status.idle": "2025-07-28T11:03:27.214661Z",
     "shell.execute_reply": "2025-07-28T11:03:27.213677Z"
    },
    "papermill": {
     "duration": 0.035163,
     "end_time": "2025-07-28T11:03:27.216295",
     "exception": false,
     "start_time": "2025-07-28T11:03:27.181132",
     "status": "completed"
    },
    "tags": []
   },
   "outputs": [],
   "source": [
    "#cp_groups_df"
   ]
  },
  {
   "cell_type": "code",
   "execution_count": 61,
   "id": "90032e27-66df-4540-9169-4e89cfbaa758",
   "metadata": {
    "execution": {
     "iopub.execute_input": "2025-07-28T11:03:27.267363Z",
     "iopub.status.busy": "2025-07-28T11:03:27.266480Z",
     "iopub.status.idle": "2025-07-28T11:03:27.278308Z",
     "shell.execute_reply": "2025-07-28T11:03:27.277238Z"
    },
    "papermill": {
     "duration": 0.039074,
     "end_time": "2025-07-28T11:03:27.280190",
     "exception": false,
     "start_time": "2025-07-28T11:03:27.241116",
     "status": "completed"
    },
    "tags": []
   },
   "outputs": [],
   "source": [
    "subgroups = ['frau1','nongerman','nongerman_male','nongerman_female']\n",
    "\n",
    "# Conditional coverage for subgroup==1\n",
    "cond_coverage = {\n",
    "    g: cp_groups_df.loc[cp_groups_df[g]==1, 'covered'].mean()\n",
    "    for g in subgroups\n",
    "}"
   ]
  },
  {
   "cell_type": "code",
   "execution_count": 62,
   "id": "1e348fb1-b9c3-45bc-ba23-f016827a7e0d",
   "metadata": {
    "execution": {
     "iopub.execute_input": "2025-07-28T11:03:27.333261Z",
     "iopub.status.busy": "2025-07-28T11:03:27.332254Z",
     "iopub.status.idle": "2025-07-28T11:03:27.340249Z",
     "shell.execute_reply": "2025-07-28T11:03:27.339211Z"
    },
    "papermill": {
     "duration": 0.036807,
     "end_time": "2025-07-28T11:03:27.342073",
     "exception": false,
     "start_time": "2025-07-28T11:03:27.305266",
     "status": "completed"
    },
    "tags": []
   },
   "outputs": [
    {
     "data": {
      "text/plain": [
       "{'frau1': 0.9103922361504246,\n",
       " 'nongerman': 0.9060798293381238,\n",
       " 'nongerman_male': 0.9236242456993605,\n",
       " 'nongerman_female': 0.8770491803278688}"
      ]
     },
     "execution_count": 62,
     "metadata": {},
     "output_type": "execute_result"
    }
   ],
   "source": [
    "cond_coverage"
   ]
  },
  {
   "cell_type": "code",
   "execution_count": 63,
   "id": "f5093324-c3dd-4d63-bc4c-8d945e5c8bbb",
   "metadata": {
    "execution": {
     "iopub.execute_input": "2025-07-28T11:03:27.395385Z",
     "iopub.status.busy": "2025-07-28T11:03:27.394814Z",
     "iopub.status.idle": "2025-07-28T11:03:27.403332Z",
     "shell.execute_reply": "2025-07-28T11:03:27.402213Z"
    },
    "papermill": {
     "duration": 0.036684,
     "end_time": "2025-07-28T11:03:27.405037",
     "exception": false,
     "start_time": "2025-07-28T11:03:27.368353",
     "status": "completed"
    },
    "tags": []
   },
   "outputs": [],
   "source": [
    "for subgroup, cov in cond_coverage.items():\n",
    "    cp_metrics_df[f\"cov_{subgroup}\"] = cov"
   ]
  },
  {
   "cell_type": "code",
   "execution_count": 64,
   "id": "6e872e10-dbe5-49e8-b554-5030c98ff75d",
   "metadata": {
    "execution": {
     "iopub.execute_input": "2025-07-28T11:03:27.459849Z",
     "iopub.status.busy": "2025-07-28T11:03:27.458997Z",
     "iopub.status.idle": "2025-07-28T11:03:27.480377Z",
     "shell.execute_reply": "2025-07-28T11:03:27.479265Z"
    },
    "papermill": {
     "duration": 0.049553,
     "end_time": "2025-07-28T11:03:27.482107",
     "exception": false,
     "start_time": "2025-07-28T11:03:27.432554",
     "status": "completed"
    },
    "tags": []
   },
   "outputs": [
    {
     "data": {
      "text/html": [
       "<div>\n",
       "<style scoped>\n",
       "    .dataframe tbody tr th:only-of-type {\n",
       "        vertical-align: middle;\n",
       "    }\n",
       "\n",
       "    .dataframe tbody tr th {\n",
       "        vertical-align: top;\n",
       "    }\n",
       "\n",
       "    .dataframe thead th {\n",
       "        text-align: right;\n",
       "    }\n",
       "</style>\n",
       "<table border=\"1\" class=\"dataframe\">\n",
       "  <thead>\n",
       "    <tr style=\"text-align: right;\">\n",
       "      <th></th>\n",
       "      <th>universe_id</th>\n",
       "      <th>universe_training_size</th>\n",
       "      <th>universe_scale</th>\n",
       "      <th>universe_model</th>\n",
       "      <th>universe_exclude_features</th>\n",
       "      <th>universe_exclude_subgroups</th>\n",
       "      <th>q_hat</th>\n",
       "      <th>coverage</th>\n",
       "      <th>avg_size</th>\n",
       "      <th>cov_frau1</th>\n",
       "      <th>cov_nongerman</th>\n",
       "      <th>cov_nongerman_male</th>\n",
       "      <th>cov_nongerman_female</th>\n",
       "    </tr>\n",
       "  </thead>\n",
       "  <tbody>\n",
       "    <tr>\n",
       "      <th>0</th>\n",
       "      <td>c8b9a0f49f09be5f4ee439877d577e2f</td>\n",
       "      <td>2014</td>\n",
       "      <td>scale</td>\n",
       "      <td>elasticnet</td>\n",
       "      <td>age</td>\n",
       "      <td>drop-non-german</td>\n",
       "      <td>0.678539</td>\n",
       "      <td>0.912395</td>\n",
       "      <td>1.121726</td>\n",
       "      <td>0.910392</td>\n",
       "      <td>0.90608</td>\n",
       "      <td>0.923624</td>\n",
       "      <td>0.877049</td>\n",
       "    </tr>\n",
       "  </tbody>\n",
       "</table>\n",
       "</div>"
      ],
      "text/plain": [
       "                        universe_id universe_training_size universe_scale  \\\n",
       "0  c8b9a0f49f09be5f4ee439877d577e2f                   2014          scale   \n",
       "\n",
       "  universe_model universe_exclude_features universe_exclude_subgroups  \\\n",
       "0     elasticnet                       age            drop-non-german   \n",
       "\n",
       "      q_hat  coverage  avg_size  cov_frau1  cov_nongerman  cov_nongerman_male  \\\n",
       "0  0.678539  0.912395  1.121726   0.910392        0.90608            0.923624   \n",
       "\n",
       "   cov_nongerman_female  \n",
       "0              0.877049  "
      ]
     },
     "execution_count": 64,
     "metadata": {},
     "output_type": "execute_result"
    }
   ],
   "source": [
    "cp_metrics_df"
   ]
  },
  {
   "cell_type": "markdown",
   "id": "33774451",
   "metadata": {
    "papermill": {
     "duration": 0.026785,
     "end_time": "2025-07-28T11:03:27.535575",
     "exception": false,
     "start_time": "2025-07-28T11:03:27.508790",
     "status": "completed"
    },
    "tags": []
   },
   "source": [
    "# (Fairness) Metrics"
   ]
  },
  {
   "cell_type": "code",
   "execution_count": 65,
   "id": "debc5d62",
   "metadata": {
    "execution": {
     "iopub.execute_input": "2025-07-28T11:03:27.591034Z",
     "iopub.status.busy": "2025-07-28T11:03:27.590587Z",
     "iopub.status.idle": "2025-07-28T11:03:27.612905Z",
     "shell.execute_reply": "2025-07-28T11:03:27.611901Z"
    },
    "papermill": {
     "duration": 0.052334,
     "end_time": "2025-07-28T11:03:27.614793",
     "exception": false,
     "start_time": "2025-07-28T11:03:27.562459",
     "status": "completed"
    },
    "tags": []
   },
   "outputs": [],
   "source": [
    "# do I need to include maxdeutsch1.missing?\n",
    "\n",
    "import numpy as np\n",
    "\n",
    "colname_to_bin = \"maxdeutsch1\"\n",
    "majority_value = org_train[colname_to_bin].mode()[0]\n",
    "\n",
    "org_test[\"majmin\"] = np.where(org_test[colname_to_bin] == majority_value, \"majority\", \"minority\")"
   ]
  },
  {
   "cell_type": "code",
   "execution_count": 66,
   "id": "06a50de5",
   "metadata": {
    "execution": {
     "iopub.execute_input": "2025-07-28T11:03:27.669344Z",
     "iopub.status.busy": "2025-07-28T11:03:27.668692Z",
     "iopub.status.idle": "2025-07-28T11:03:30.757185Z",
     "shell.execute_reply": "2025-07-28T11:03:30.755793Z"
    },
    "papermill": {
     "duration": 3.119185,
     "end_time": "2025-07-28T11:03:30.759593",
     "exception": false,
     "start_time": "2025-07-28T11:03:27.640408",
     "status": "completed"
    },
    "tags": []
   },
   "outputs": [],
   "source": [
    "example_universe = universe.copy()\n",
    "example_universe[\"cutoff\"] = example_universe[\"cutoff\"][0]\n",
    "example_universe[\"eval_fairness_grouping\"] = example_universe[\"eval_fairness_grouping\"][0]\n",
    "fairness_dict, metric_frame = universe_analysis.compute_metrics(\n",
    "    example_universe,\n",
    "    y_pred_prob=probs_test,\n",
    "    y_test=y_true,\n",
    "    org_test=org_test,\n",
    ")"
   ]
  },
  {
   "cell_type": "markdown",
   "id": "f95d4e02",
   "metadata": {
    "papermill": {
     "duration": 0.026906,
     "end_time": "2025-07-28T11:03:30.815177",
     "exception": false,
     "start_time": "2025-07-28T11:03:30.788271",
     "status": "completed"
    },
    "tags": []
   },
   "source": [
    "# Overall"
   ]
  },
  {
   "cell_type": "markdown",
   "id": "bdee4871",
   "metadata": {
    "papermill": {
     "duration": 0.02841,
     "end_time": "2025-07-28T11:03:30.866885",
     "exception": false,
     "start_time": "2025-07-28T11:03:30.838475",
     "status": "completed"
    },
    "tags": []
   },
   "source": [
    "Fairness\n",
    "Main fairness target: Equalized Odds. Seems to be a better fit than equal opportunity, since we're not only interested in Y = 1. Seems to be a better fit than demographic parity, since we also care about accuracy, not just equal distribution of preds.\n",
    "\n",
    "Pick column for computation of fairness metrics\n",
    "\n",
    "Performance\n",
    "Overall performance measures, most interesting in relation to the measures split by group below"
   ]
  },
  {
   "cell_type": "code",
   "execution_count": 67,
   "id": "c4e067c6",
   "metadata": {
    "execution": {
     "iopub.execute_input": "2025-07-28T11:03:30.903109Z",
     "iopub.status.busy": "2025-07-28T11:03:30.902571Z",
     "iopub.status.idle": "2025-07-28T11:03:30.912349Z",
     "shell.execute_reply": "2025-07-28T11:03:30.911190Z"
    },
    "papermill": {
     "duration": 0.027955,
     "end_time": "2025-07-28T11:03:30.914594",
     "exception": false,
     "start_time": "2025-07-28T11:03:30.886639",
     "status": "completed"
    },
    "tags": []
   },
   "outputs": [
    {
     "data": {
      "text/plain": [
       "accuracy                   0.225181\n",
       "balanced accuracy          0.550430\n",
       "f1                         0.246490\n",
       "precision                  0.140812\n",
       "false positive rate        0.887062\n",
       "false negative rate        0.012079\n",
       "selection rate             0.900000\n",
       "count                  89710.000000\n",
       "dtype: float64"
      ]
     },
     "execution_count": 67,
     "metadata": {},
     "output_type": "execute_result"
    }
   ],
   "source": [
    "metric_frame.overall"
   ]
  },
  {
   "cell_type": "markdown",
   "id": "e968fe9d",
   "metadata": {
    "papermill": {
     "duration": 0.036578,
     "end_time": "2025-07-28T11:03:30.989207",
     "exception": false,
     "start_time": "2025-07-28T11:03:30.952629",
     "status": "completed"
    },
    "tags": []
   },
   "source": [
    "By Group"
   ]
  },
  {
   "cell_type": "code",
   "execution_count": 68,
   "id": "ec325bce",
   "metadata": {
    "execution": {
     "iopub.execute_input": "2025-07-28T11:03:31.064104Z",
     "iopub.status.busy": "2025-07-28T11:03:31.063309Z",
     "iopub.status.idle": "2025-07-28T11:03:31.080742Z",
     "shell.execute_reply": "2025-07-28T11:03:31.079629Z"
    },
    "papermill": {
     "duration": 0.056968,
     "end_time": "2025-07-28T11:03:31.082740",
     "exception": false,
     "start_time": "2025-07-28T11:03:31.025772",
     "status": "completed"
    },
    "tags": []
   },
   "outputs": [
    {
     "data": {
      "text/html": [
       "<div>\n",
       "<style scoped>\n",
       "    .dataframe tbody tr th:only-of-type {\n",
       "        vertical-align: middle;\n",
       "    }\n",
       "\n",
       "    .dataframe tbody tr th {\n",
       "        vertical-align: top;\n",
       "    }\n",
       "\n",
       "    .dataframe thead th {\n",
       "        text-align: right;\n",
       "    }\n",
       "</style>\n",
       "<table border=\"1\" class=\"dataframe\">\n",
       "  <thead>\n",
       "    <tr style=\"text-align: right;\">\n",
       "      <th></th>\n",
       "      <th>accuracy</th>\n",
       "      <th>balanced accuracy</th>\n",
       "      <th>f1</th>\n",
       "      <th>precision</th>\n",
       "      <th>false positive rate</th>\n",
       "      <th>false negative rate</th>\n",
       "      <th>selection rate</th>\n",
       "      <th>count</th>\n",
       "    </tr>\n",
       "    <tr>\n",
       "      <th>majmin</th>\n",
       "      <th></th>\n",
       "      <th></th>\n",
       "      <th></th>\n",
       "      <th></th>\n",
       "      <th></th>\n",
       "      <th></th>\n",
       "      <th></th>\n",
       "      <th></th>\n",
       "    </tr>\n",
       "  </thead>\n",
       "  <tbody>\n",
       "    <tr>\n",
       "      <th>majority</th>\n",
       "      <td>0.246827</td>\n",
       "      <td>0.560417</td>\n",
       "      <td>0.257169</td>\n",
       "      <td>0.147853</td>\n",
       "      <td>0.865817</td>\n",
       "      <td>0.013348</td>\n",
       "      <td>0.881784</td>\n",
       "      <td>69170.0</td>\n",
       "    </tr>\n",
       "    <tr>\n",
       "      <th>minority</th>\n",
       "      <td>0.152288</td>\n",
       "      <td>0.517790</td>\n",
       "      <td>0.212625</td>\n",
       "      <td>0.119062</td>\n",
       "      <td>0.957242</td>\n",
       "      <td>0.007179</td>\n",
       "      <td>0.961344</td>\n",
       "      <td>20540.0</td>\n",
       "    </tr>\n",
       "  </tbody>\n",
       "</table>\n",
       "</div>"
      ],
      "text/plain": [
       "          accuracy  balanced accuracy        f1  precision  \\\n",
       "majmin                                                       \n",
       "majority  0.246827           0.560417  0.257169   0.147853   \n",
       "minority  0.152288           0.517790  0.212625   0.119062   \n",
       "\n",
       "          false positive rate  false negative rate  selection rate    count  \n",
       "majmin                                                                       \n",
       "majority             0.865817             0.013348        0.881784  69170.0  \n",
       "minority             0.957242             0.007179        0.961344  20540.0  "
      ]
     },
     "execution_count": 68,
     "metadata": {},
     "output_type": "execute_result"
    }
   ],
   "source": [
    "metric_frame.by_group"
   ]
  },
  {
   "cell_type": "code",
   "execution_count": 69,
   "id": "a9ddbe63",
   "metadata": {
    "execution": {
     "iopub.execute_input": "2025-07-28T11:03:31.138429Z",
     "iopub.status.busy": "2025-07-28T11:03:31.137497Z",
     "iopub.status.idle": "2025-07-28T11:03:33.647968Z",
     "shell.execute_reply": "2025-07-28T11:03:33.647033Z"
    },
    "papermill": {
     "duration": 2.540217,
     "end_time": "2025-07-28T11:03:33.649711",
     "exception": false,
     "start_time": "2025-07-28T11:03:31.109494",
     "status": "completed"
    },
    "tags": []
   },
   "outputs": [
    {
     "data": {
      "text/plain": [
       "array([[<Axes: title={'center': 'accuracy'}, xlabel='majmin'>,\n",
       "        <Axes: title={'center': 'balanced accuracy'}, xlabel='majmin'>,\n",
       "        <Axes: title={'center': 'f1'}, xlabel='majmin'>],\n",
       "       [<Axes: title={'center': 'precision'}, xlabel='majmin'>,\n",
       "        <Axes: title={'center': 'false positive rate'}, xlabel='majmin'>,\n",
       "        <Axes: title={'center': 'false negative rate'}, xlabel='majmin'>],\n",
       "       [<Axes: title={'center': 'selection rate'}, xlabel='majmin'>,\n",
       "        <Axes: title={'center': 'count'}, xlabel='majmin'>,\n",
       "        <Axes: xlabel='majmin'>]], dtype=object)"
      ]
     },
     "execution_count": 69,
     "metadata": {},
     "output_type": "execute_result"
    },
    {
     "data": {
      "image/png": "[encoded data removed]",
      "text/plain": [
       "<Figure size 1200x800 with 9 Axes>"
      ]
     },
     "metadata": {},
     "output_type": "display_data"
    }
   ],
   "source": [
    "# In a graphic\n",
    "metric_frame.by_group.plot.bar(\n",
    "    subplots=True,\n",
    "    layout=[3, 3],\n",
    "    legend=False,\n",
    "    figsize=[12, 8],\n",
    "    title=\"Show all metrics\",\n",
    ")"
   ]
  },
  {
   "cell_type": "markdown",
   "id": "f57a0bac",
   "metadata": {
    "papermill": {
     "duration": 0.029159,
     "end_time": "2025-07-28T11:03:33.708771",
     "exception": false,
     "start_time": "2025-07-28T11:03:33.679612",
     "status": "completed"
    },
    "tags": []
   },
   "source": [
    "# Final Output"
   ]
  },
  {
   "cell_type": "code",
   "execution_count": 70,
   "id": "96d280a3",
   "metadata": {
    "execution": {
     "iopub.execute_input": "2025-07-28T11:03:33.771750Z",
     "iopub.status.busy": "2025-07-28T11:03:33.771076Z",
     "iopub.status.idle": "2025-07-28T11:03:33.780807Z",
     "shell.execute_reply": "2025-07-28T11:03:33.779707Z"
    },
    "papermill": {
     "duration": 0.042994,
     "end_time": "2025-07-28T11:03:33.782554",
     "exception": false,
     "start_time": "2025-07-28T11:03:33.739560",
     "status": "completed"
    },
    "tags": []
   },
   "outputs": [
    {
     "data": {
      "text/plain": [
       "4"
      ]
     },
     "execution_count": 70,
     "metadata": {},
     "output_type": "execute_result"
    }
   ],
   "source": [
    "sub_universes = universe_analysis.generate_sub_universes()\n",
    "len(sub_universes)"
   ]
  },
  {
   "cell_type": "code",
   "execution_count": 71,
   "id": "92adf7ba",
   "metadata": {
    "execution": {
     "iopub.execute_input": "2025-07-28T11:03:33.842320Z",
     "iopub.status.busy": "2025-07-28T11:03:33.841793Z",
     "iopub.status.idle": "2025-07-28T11:03:33.848858Z",
     "shell.execute_reply": "2025-07-28T11:03:33.847785Z"
    },
    "papermill": {
     "duration": 0.039923,
     "end_time": "2025-07-28T11:03:33.850600",
     "exception": false,
     "start_time": "2025-07-28T11:03:33.810677",
     "status": "completed"
    },
    "tags": []
   },
   "outputs": [],
   "source": [
    "def filter_sub_universe_data(sub_universe, org_test):\n",
    "    # Keep all rows — no filtering\n",
    "    keep_rows_mask = np.ones(org_test.shape[0], dtype=bool)\n",
    "\n",
    "    print(f\"[INFO] Keeping all rows: {keep_rows_mask.sum()} rows retained.\")\n",
    "    return keep_rows_mask"
   ]
  },
  {
   "cell_type": "code",
   "execution_count": 72,
   "id": "4a759155",
   "metadata": {
    "execution": {
     "iopub.execute_input": "2025-07-28T11:03:33.909473Z",
     "iopub.status.busy": "2025-07-28T11:03:33.908978Z",
     "iopub.status.idle": "2025-07-28T11:03:44.159072Z",
     "shell.execute_reply": "2025-07-28T11:03:44.155533Z"
    },
    "papermill": {
     "duration": 10.28116,
     "end_time": "2025-07-28T11:03:44.160993",
     "exception": false,
     "start_time": "2025-07-28T11:03:33.879833",
     "status": "completed"
    },
    "tags": []
   },
   "outputs": [
    {
     "name": "stdout",
     "output_type": "stream",
     "text": [
      "Stopping execution_time clock.\n",
      "[INFO] Keeping all rows: 89710 rows retained.\n"
     ]
    },
    {
     "name": "stdout",
     "output_type": "stream",
     "text": [
      "[INFO] Keeping all rows: 89710 rows retained.\n"
     ]
    },
    {
     "name": "stdout",
     "output_type": "stream",
     "text": [
      "[INFO] Keeping all rows: 89710 rows retained.\n"
     ]
    },
    {
     "name": "stdout",
     "output_type": "stream",
     "text": [
      "[INFO] Keeping all rows: 89710 rows retained.\n"
     ]
    },
    {
     "data": {
      "text/html": [
       "<div>\n",
       "<style scoped>\n",
       "    .dataframe tbody tr th:only-of-type {\n",
       "        vertical-align: middle;\n",
       "    }\n",
       "\n",
       "    .dataframe tbody tr th {\n",
       "        vertical-align: top;\n",
       "    }\n",
       "\n",
       "    .dataframe thead th {\n",
       "        text-align: right;\n",
       "    }\n",
       "</style>\n",
       "<table border=\"1\" class=\"dataframe\">\n",
       "  <thead>\n",
       "    <tr style=\"text-align: right;\">\n",
       "      <th></th>\n",
       "      <th>run_no</th>\n",
       "      <th>universe_id</th>\n",
       "      <th>universe_settings</th>\n",
       "      <th>execution_time</th>\n",
       "      <th>test_size_n</th>\n",
       "      <th>test_size_frac</th>\n",
       "      <th>fair_main_equalized_odds_difference</th>\n",
       "      <th>fair_main_equalized_odds_ratio</th>\n",
       "      <th>fair_main_demographic_parity_difference</th>\n",
       "      <th>fair_main_demographic_parity_ratio</th>\n",
       "      <th>...</th>\n",
       "      <th>perf_grp_precision_0</th>\n",
       "      <th>perf_grp_precision_1</th>\n",
       "      <th>perf_grp_false positive rate_0</th>\n",
       "      <th>perf_grp_false positive rate_1</th>\n",
       "      <th>perf_grp_false negative rate_0</th>\n",
       "      <th>perf_grp_false negative rate_1</th>\n",
       "      <th>perf_grp_selection rate_0</th>\n",
       "      <th>perf_grp_selection rate_1</th>\n",
       "      <th>perf_grp_count_0</th>\n",
       "      <th>perf_grp_count_1</th>\n",
       "    </tr>\n",
       "  </thead>\n",
       "  <tbody>\n",
       "    <tr>\n",
       "      <th>0</th>\n",
       "      <td>11</td>\n",
       "      <td>c8b9a0f49f09be5f4ee439877d577e2f</td>\n",
       "      <td>{\"cutoff\": \"quantile_0.1\", \"eval_fairness_grou...</td>\n",
       "      <td>54.649759</td>\n",
       "      <td>89710</td>\n",
       "      <td>1.0</td>\n",
       "      <td>0.091425</td>\n",
       "      <td>0.904491</td>\n",
       "      <td>0.079560</td>\n",
       "      <td>0.917241</td>\n",
       "      <td>...</td>\n",
       "      <td>NaN</td>\n",
       "      <td>NaN</td>\n",
       "      <td>NaN</td>\n",
       "      <td>NaN</td>\n",
       "      <td>NaN</td>\n",
       "      <td>NaN</td>\n",
       "      <td>NaN</td>\n",
       "      <td>NaN</td>\n",
       "      <td>NaN</td>\n",
       "      <td>NaN</td>\n",
       "    </tr>\n",
       "    <tr>\n",
       "      <th>0</th>\n",
       "      <td>11</td>\n",
       "      <td>c8b9a0f49f09be5f4ee439877d577e2f</td>\n",
       "      <td>{\"cutoff\": \"quantile_0.1\", \"eval_fairness_grou...</td>\n",
       "      <td>54.649759</td>\n",
       "      <td>89710</td>\n",
       "      <td>1.0</td>\n",
       "      <td>0.091425</td>\n",
       "      <td>0.904491</td>\n",
       "      <td>0.079560</td>\n",
       "      <td>0.917241</td>\n",
       "      <td>...</td>\n",
       "      <td>0.119062</td>\n",
       "      <td>0.147853</td>\n",
       "      <td>0.957242</td>\n",
       "      <td>0.865817</td>\n",
       "      <td>0.007179</td>\n",
       "      <td>0.013348</td>\n",
       "      <td>0.961344</td>\n",
       "      <td>0.881784</td>\n",
       "      <td>20540.0</td>\n",
       "      <td>69170.0</td>\n",
       "    </tr>\n",
       "    <tr>\n",
       "      <th>0</th>\n",
       "      <td>11</td>\n",
       "      <td>c8b9a0f49f09be5f4ee439877d577e2f</td>\n",
       "      <td>{\"cutoff\": \"quantile_0.25\", \"eval_fairness_gro...</td>\n",
       "      <td>54.649759</td>\n",
       "      <td>89710</td>\n",
       "      <td>1.0</td>\n",
       "      <td>0.157073</td>\n",
       "      <td>0.813223</td>\n",
       "      <td>0.135701</td>\n",
       "      <td>0.841216</td>\n",
       "      <td>...</td>\n",
       "      <td>NaN</td>\n",
       "      <td>NaN</td>\n",
       "      <td>NaN</td>\n",
       "      <td>NaN</td>\n",
       "      <td>NaN</td>\n",
       "      <td>NaN</td>\n",
       "      <td>NaN</td>\n",
       "      <td>NaN</td>\n",
       "      <td>NaN</td>\n",
       "      <td>NaN</td>\n",
       "    </tr>\n",
       "    <tr>\n",
       "      <th>0</th>\n",
       "      <td>11</td>\n",
       "      <td>c8b9a0f49f09be5f4ee439877d577e2f</td>\n",
       "      <td>{\"cutoff\": \"quantile_0.25\", \"eval_fairness_gro...</td>\n",
       "      <td>54.649759</td>\n",
       "      <td>89710</td>\n",
       "      <td>1.0</td>\n",
       "      <td>0.157073</td>\n",
       "      <td>0.813223</td>\n",
       "      <td>0.135701</td>\n",
       "      <td>0.841216</td>\n",
       "      <td>...</td>\n",
       "      <td>0.129429</td>\n",
       "      <td>0.174429</td>\n",
       "      <td>0.840964</td>\n",
       "      <td>0.683891</td>\n",
       "      <td>0.040541</td>\n",
       "      <td>0.050985</td>\n",
       "      <td>0.854625</td>\n",
       "      <td>0.718924</td>\n",
       "      <td>20540.0</td>\n",
       "      <td>69170.0</td>\n",
       "    </tr>\n",
       "  </tbody>\n",
       "</table>\n",
       "<p>4 rows × 50 columns</p>\n",
       "</div>"
      ],
      "text/plain": [
       "  run_no                       universe_id  \\\n",
       "0     11  c8b9a0f49f09be5f4ee439877d577e2f   \n",
       "0     11  c8b9a0f49f09be5f4ee439877d577e2f   \n",
       "0     11  c8b9a0f49f09be5f4ee439877d577e2f   \n",
       "0     11  c8b9a0f49f09be5f4ee439877d577e2f   \n",
       "\n",
       "                                   universe_settings  execution_time  \\\n",
       "0  {\"cutoff\": \"quantile_0.1\", \"eval_fairness_grou...       54.649759   \n",
       "0  {\"cutoff\": \"quantile_0.1\", \"eval_fairness_grou...       54.649759   \n",
       "0  {\"cutoff\": \"quantile_0.25\", \"eval_fairness_gro...       54.649759   \n",
       "0  {\"cutoff\": \"quantile_0.25\", \"eval_fairness_gro...       54.649759   \n",
       "\n",
       "   test_size_n  test_size_frac  fair_main_equalized_odds_difference  \\\n",
       "0        89710             1.0                             0.091425   \n",
       "0        89710             1.0                             0.091425   \n",
       "0        89710             1.0                             0.157073   \n",
       "0        89710             1.0                             0.157073   \n",
       "\n",
       "   fair_main_equalized_odds_ratio  fair_main_demographic_parity_difference  \\\n",
       "0                        0.904491                                 0.079560   \n",
       "0                        0.904491                                 0.079560   \n",
       "0                        0.813223                                 0.135701   \n",
       "0                        0.813223                                 0.135701   \n",
       "\n",
       "   fair_main_demographic_parity_ratio  ...  perf_grp_precision_0  \\\n",
       "0                            0.917241  ...                   NaN   \n",
       "0                            0.917241  ...              0.119062   \n",
       "0                            0.841216  ...                   NaN   \n",
       "0                            0.841216  ...              0.129429   \n",
       "\n",
       "   perf_grp_precision_1  perf_grp_false positive rate_0  \\\n",
       "0                   NaN                             NaN   \n",
       "0              0.147853                        0.957242   \n",
       "0                   NaN                             NaN   \n",
       "0              0.174429                        0.840964   \n",
       "\n",
       "   perf_grp_false positive rate_1  perf_grp_false negative rate_0  \\\n",
       "0                             NaN                             NaN   \n",
       "0                        0.865817                        0.007179   \n",
       "0                             NaN                             NaN   \n",
       "0                        0.683891                        0.040541   \n",
       "\n",
       "   perf_grp_false negative rate_1  perf_grp_selection rate_0  \\\n",
       "0                             NaN                        NaN   \n",
       "0                        0.013348                   0.961344   \n",
       "0                             NaN                        NaN   \n",
       "0                        0.050985                   0.854625   \n",
       "\n",
       "   perf_grp_selection rate_1  perf_grp_count_0  perf_grp_count_1  \n",
       "0                        NaN               NaN               NaN  \n",
       "0                   0.881784           20540.0           69170.0  \n",
       "0                        NaN               NaN               NaN  \n",
       "0                   0.718924           20540.0           69170.0  \n",
       "\n",
       "[4 rows x 50 columns]"
      ]
     },
     "execution_count": 72,
     "metadata": {},
     "output_type": "execute_result"
    }
   ],
   "source": [
    "final_output = universe_analysis.generate_final_output(\n",
    "    y_pred_prob=probs_test,\n",
    "    y_test=y_true,\n",
    "    org_test=org_test,\n",
    "    filter_data=filter_sub_universe_data,\n",
    "    cp_metrics_df=cp_metrics_df,\n",
    "    save=True,\n",
    ")\n",
    "final_output"
   ]
  },
  {
   "cell_type": "code",
   "execution_count": null,
   "id": "721ff514-cb11-46f8-b6fc-50392f74b5cb",
   "metadata": {
    "papermill": {
     "duration": 0.018452,
     "end_time": "2025-07-28T11:03:44.214169",
     "exception": false,
     "start_time": "2025-07-28T11:03:44.195717",
     "status": "completed"
    },
    "tags": []
   },
   "outputs": [],
   "source": []
  }
 ],
 "metadata": {
  "celltoolbar": "Tags",
  "kernelspec": {
   "display_name": "Python (CMA Fairness)",
   "language": "python",
   "name": "cma_fair_env"
  },
  "language_info": {
   "codemirror_mode": {
    "name": "ipython",
    "version": 3
   },
   "file_extension": ".py",
   "mimetype": "text/x-python",
   "name": "python",
   "nbconvert_exporter": "python",
   "pygments_lexer": "ipython3",
   "version": "3.10.12"
  },
  "papermill": {
   "default_parameters": {},
   "duration": 69.218766,
   "end_time": "2025-07-28T11:03:45.150358",
   "environment_variables": {},
   "exception": null,
   "input_path": "universe_analysis.ipynb",
   "output_path": "output/runs/11/notebooks/m_11-c8b9a0f49f09be5f4ee439877d577e2f.ipynb",
   "parameters": {
    "output_dir": "output",
    "run_no": "11",
    "seed": "2023",
    "universe": "{\"cutoff\": [\"quantile_0.1\", \"quantile_0.25\"], \"eval_fairness_grouping\": [\"majority-minority\", \"nationality-all\"], \"exclude_features\": \"age\", \"exclude_subgroups\": \"drop-non-german\", \"model\": \"elasticnet\", \"scale\": \"scale\", \"training_size\": \"2014\"}",
    "universe_id": "c8b9a0f49f09be5f4ee439877d577e2f"
   },
   "start_time": "2025-07-28T11:02:35.931592",
   "version": "2.6.0"
  }
 },
 "nbformat": 4,
 "nbformat_minor": 5
}