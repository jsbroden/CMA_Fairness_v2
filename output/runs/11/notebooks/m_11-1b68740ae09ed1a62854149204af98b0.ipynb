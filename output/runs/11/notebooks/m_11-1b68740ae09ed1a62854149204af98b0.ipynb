{
 "cells": [
  {
   "cell_type": "code",
   "execution_count": 1,
   "id": "f159f837-637b-42ba-96b5-ec9a68c44524",
   "metadata": {
    "execution": {
     "iopub.execute_input": "2025-07-28T10:56:46.195989Z",
     "iopub.status.busy": "2025-07-28T10:56:46.195449Z",
     "iopub.status.idle": "2025-07-28T10:56:46.219804Z",
     "shell.execute_reply": "2025-07-28T10:56:46.218802Z"
    },
    "papermill": {
     "duration": 0.202174,
     "end_time": "2025-07-28T10:56:46.221474",
     "exception": false,
     "start_time": "2025-07-28T10:56:46.019300",
     "status": "completed"
    },
    "tags": []
   },
   "outputs": [
    {
     "name": "stdout",
     "output_type": "stream",
     "text": [
      "/dss/dsshome1/0C/ra93lal2/cma/CMA_Fairness_v2\n"
     ]
    },
    {
     "name": "stderr",
     "output_type": "stream",
     "text": [
      "/dss/dsshome1/0C/ra93lal2/.local/share/virtualenvs/CMA_Fairness_v2-3j10GkSs/lib/python3.10/site-packages/IPython/core/magics/osm.py:393: UserWarning: This is now an optional IPython functionality, using bookmarks requires you to install the `pickleshare` library.\n",
      "  bkms = self.shell.db.get('bookmarks', {})\n",
      "/dss/dsshome1/0C/ra93lal2/.local/share/virtualenvs/CMA_Fairness_v2-3j10GkSs/lib/python3.10/site-packages/IPython/core/magics/osm.py:417: UserWarning: This is now an optional IPython functionality, setting dhist requires you to install the `pickleshare` library.\n",
      "  self.shell.db['dhist'] = compress_dhist(dhist)[-100:]\n"
     ]
    }
   ],
   "source": [
    "%cd ~/cma/CMA_Fairness_v2"
   ]
  },
  {
   "cell_type": "markdown",
   "id": "de2603b9",
   "metadata": {
    "papermill": {
     "duration": 0.04739,
     "end_time": "2025-07-28T10:56:46.304761",
     "exception": false,
     "start_time": "2025-07-28T10:56:46.257371",
     "status": "completed"
    },
    "tags": []
   },
   "source": [
    "The following cell holds the definition of our parameters, these values can be overriden by rendering the with e.g. the following command:\n",
    "\n",
    "papermill -p alpha 0.2 -p ratio 0.3 universe_analysis.ipynb output/test_run.ipynb"
   ]
  },
  {
   "cell_type": "code",
   "execution_count": 2,
   "id": "a80968a0-40bb-4fa9-85ef-2d5eefb01975",
   "metadata": {
    "execution": {
     "iopub.execute_input": "2025-07-28T10:56:46.362385Z",
     "iopub.status.busy": "2025-07-28T10:56:46.361369Z",
     "iopub.status.idle": "2025-07-28T10:56:46.367621Z",
     "shell.execute_reply": "2025-07-28T10:56:46.366517Z"
    },
    "papermill": {
     "duration": 0.030957,
     "end_time": "2025-07-28T10:56:46.371744",
     "exception": false,
     "start_time": "2025-07-28T10:56:46.340787",
     "status": "completed"
    },
    "tags": []
   },
   "outputs": [
    {
     "name": "stdout",
     "output_type": "stream",
     "text": [
      "Current working directory: /dss/dsshome1/0C/ra93lal2/cma/CMA_Fairness_v2\n"
     ]
    }
   ],
   "source": [
    "import os\n",
    "print(\"Current working directory:\", os.getcwd())"
   ]
  },
  {
   "cell_type": "code",
   "execution_count": 3,
   "id": "2dce4c03",
   "metadata": {
    "execution": {
     "iopub.execute_input": "2025-07-28T10:56:46.413437Z",
     "iopub.status.busy": "2025-07-28T10:56:46.413064Z",
     "iopub.status.idle": "2025-07-28T10:56:46.419535Z",
     "shell.execute_reply": "2025-07-28T10:56:46.418615Z"
    },
    "papermill": {
     "duration": 0.031486,
     "end_time": "2025-07-28T10:56:46.423251",
     "exception": false,
     "start_time": "2025-07-28T10:56:46.391765",
     "status": "completed"
    },
    "tags": [
     "parameters"
    ]
   },
   "outputs": [],
   "source": [
    "run_no = 0\n",
    "universe_id = \"test\"\n",
    "universe = {\n",
    "    \"training_size\": \"2014\", # \"25k\", \"5k\", \"1k\", \"2014\"\n",
    "    \"scale\": \"scale\", # \"scale\", \"do-not-scale\",\n",
    "    #\"stratify_split\": \"target\", # \"none\", \"target\", \"protected-attribute\", \"both\",\n",
    "    \"model\": \"elasticnet\", # \"logreg\", \"penalized_logreg\", \"rf\", \"gbm\", \"elasticnet\"\n",
    "    \"cutoff\": [\"quantile_0.15\", \"quantile_0.30\"],\n",
    "    \"exclude_features\": \"age\", # \"none\", \"nationality\", \"sex\", \"nationality-sex\", \"age\"\n",
    "    \"exclude_subgroups\": \"keep-all\", # \"keep-all\", \"drop-non-german\"\n",
    "    \"eval_fairness_grouping\": [\"majority-minority\", \"nationality-all\"]\n",
    "}\n",
    "\n",
    "output_dir=\"./output\"\n",
    "seed=0"
   ]
  },
  {
   "cell_type": "code",
   "execution_count": 4,
   "id": "fd236242",
   "metadata": {
    "execution": {
     "iopub.execute_input": "2025-07-28T10:56:46.465644Z",
     "iopub.status.busy": "2025-07-28T10:56:46.465245Z",
     "iopub.status.idle": "2025-07-28T10:56:46.470827Z",
     "shell.execute_reply": "2025-07-28T10:56:46.469845Z"
    },
    "papermill": {
     "duration": 0.028857,
     "end_time": "2025-07-28T10:56:46.474108",
     "exception": false,
     "start_time": "2025-07-28T10:56:46.445251",
     "status": "completed"
    },
    "tags": [
     "injected-parameters"
    ]
   },
   "outputs": [],
   "source": [
    "# Parameters\n",
    "universe_id = \"1b68740ae09ed1a62854149204af98b0\"\n",
    "run_no = \"11\"\n",
    "universe = \"{\\\"cutoff\\\": [\\\"quantile_0.1\\\", \\\"quantile_0.25\\\"], \\\"eval_fairness_grouping\\\": [\\\"majority-minority\\\", \\\"nationality-all\\\"], \\\"exclude_features\\\": \\\"nationality-sex\\\", \\\"exclude_subgroups\\\": \\\"drop-non-german\\\", \\\"model\\\": \\\"rf\\\", \\\"scale\\\": \\\"scale\\\", \\\"training_size\\\": \\\"2014\\\"}\"\n",
    "output_dir = \"output\"\n",
    "seed = \"2023\"\n"
   ]
  },
  {
   "cell_type": "code",
   "execution_count": 5,
   "id": "1650acaf",
   "metadata": {
    "execution": {
     "iopub.execute_input": "2025-07-28T10:56:46.515289Z",
     "iopub.status.busy": "2025-07-28T10:56:46.514842Z",
     "iopub.status.idle": "2025-07-28T10:56:46.525430Z",
     "shell.execute_reply": "2025-07-28T10:56:46.524170Z"
    },
    "papermill": {
     "duration": 0.033817,
     "end_time": "2025-07-28T10:56:46.528579",
     "exception": false,
     "start_time": "2025-07-28T10:56:46.494762",
     "status": "completed"
    },
    "tags": []
   },
   "outputs": [],
   "source": [
    "import json\n",
    "# Parse universe into dict if it is passed as a string\n",
    "if isinstance(universe, str):\n",
    "    universe = json.loads(universe)"
   ]
  },
  {
   "cell_type": "code",
   "execution_count": 6,
   "id": "16620c48",
   "metadata": {
    "execution": {
     "iopub.execute_input": "2025-07-28T10:56:46.603194Z",
     "iopub.status.busy": "2025-07-28T10:56:46.602745Z",
     "iopub.status.idle": "2025-07-28T10:56:46.710380Z",
     "shell.execute_reply": "2025-07-28T10:56:46.709192Z"
    },
    "papermill": {
     "duration": 0.161921,
     "end_time": "2025-07-28T10:56:46.712599",
     "exception": false,
     "start_time": "2025-07-28T10:56:46.550678",
     "status": "completed"
    },
    "tags": []
   },
   "outputs": [],
   "source": [
    "# Auto-reload the custom package\n",
    "%load_ext autoreload\n",
    "%autoreload 1\n",
    "%aimport fairness_multiverse"
   ]
  },
  {
   "cell_type": "code",
   "execution_count": 7,
   "id": "01c5c9f3",
   "metadata": {
    "execution": {
     "iopub.execute_input": "2025-07-28T10:56:46.799561Z",
     "iopub.status.busy": "2025-07-28T10:56:46.799120Z",
     "iopub.status.idle": "2025-07-28T10:56:50.898858Z",
     "shell.execute_reply": "2025-07-28T10:56:50.894684Z"
    },
    "papermill": {
     "duration": 4.140655,
     "end_time": "2025-07-28T10:56:50.901022",
     "exception": false,
     "start_time": "2025-07-28T10:56:46.760367",
     "status": "completed"
    },
    "tags": []
   },
   "outputs": [],
   "source": [
    "from fairness_multiverse.universe import UniverseAnalysis\n",
    "\n",
    "universe_analysis = UniverseAnalysis(\n",
    "    run_no = run_no,\n",
    "    universe_id = universe_id,\n",
    "    universe = universe,\n",
    "    output_dir=output_dir,\n",
    ")"
   ]
  },
  {
   "cell_type": "code",
   "execution_count": 8,
   "id": "106241f5",
   "metadata": {
    "execution": {
     "iopub.execute_input": "2025-07-28T10:56:50.996167Z",
     "iopub.status.busy": "2025-07-28T10:56:50.995681Z",
     "iopub.status.idle": "2025-07-28T10:56:51.004320Z",
     "shell.execute_reply": "2025-07-28T10:56:51.003196Z"
    },
    "papermill": {
     "duration": 0.05265,
     "end_time": "2025-07-28T10:56:51.006053",
     "exception": false,
     "start_time": "2025-07-28T10:56:50.953403",
     "status": "completed"
    },
    "tags": []
   },
   "outputs": [
    {
     "name": "stdout",
     "output_type": "stream",
     "text": [
      "Using Seed: 2023\n"
     ]
    }
   ],
   "source": [
    "import numpy as np\n",
    "parsed_seed = int(seed)\n",
    "np.random.seed(parsed_seed)\n",
    "print(f\"Using Seed: {parsed_seed}\")"
   ]
  },
  {
   "cell_type": "markdown",
   "id": "e0ebdc57",
   "metadata": {
    "papermill": {
     "duration": 0.032738,
     "end_time": "2025-07-28T10:56:51.081367",
     "exception": false,
     "start_time": "2025-07-28T10:56:51.048629",
     "status": "completed"
    },
    "tags": []
   },
   "source": [
    "# Loading Data"
   ]
  },
  {
   "cell_type": "markdown",
   "id": "681925a3",
   "metadata": {
    "papermill": {
     "duration": 0.037536,
     "end_time": "2025-07-28T10:56:51.151276",
     "exception": false,
     "start_time": "2025-07-28T10:56:51.113740",
     "status": "completed"
    },
    "tags": []
   },
   "source": [
    "Load siab_train, siab_test, siab_calib and/or \n",
    "load siab_train_features, siab_train_labels"
   ]
  },
  {
   "cell_type": "code",
   "execution_count": 9,
   "id": "f0496b8a",
   "metadata": {
    "execution": {
     "iopub.execute_input": "2025-07-28T10:56:51.191726Z",
     "iopub.status.busy": "2025-07-28T10:56:51.190967Z",
     "iopub.status.idle": "2025-07-28T10:57:10.352258Z",
     "shell.execute_reply": "2025-07-28T10:57:10.350951Z"
    },
    "papermill": {
     "duration": 19.183824,
     "end_time": "2025-07-28T10:57:10.354443",
     "exception": false,
     "start_time": "2025-07-28T10:56:51.170619",
     "status": "completed"
    },
    "tags": []
   },
   "outputs": [
    {
     "name": "stdout",
     "output_type": "stream",
     "text": [
      "Loading SIAB data from cache: data/siab_cached.csv.gz\n"
     ]
    },
    {
     "name": "stdout",
     "output_type": "stream",
     "text": [
      "(643690, 164)\n"
     ]
    }
   ],
   "source": [
    "from pathlib import Path\n",
    "import pandas as pd\n",
    "\n",
    "# File paths\n",
    "raw_file = Path(\"data/raw/siab.csv\")\n",
    "cache_file = Path(\"data/siab_cached.csv.gz\")\n",
    "\n",
    "# Ensure cache directory exists\n",
    "cache_file.parent.mkdir(parents=True, exist_ok=True)\n",
    "\n",
    "# Load with simple caching\n",
    "if cache_file.exists():\n",
    "    print(f\"Loading SIAB data from cache: {cache_file}\")\n",
    "    siab = pd.read_csv(cache_file, compression='gzip')\n",
    "else:\n",
    "    print(f\"Cache not found. Reading raw SIAB data: {raw_file}\")\n",
    "    siab = pd.read_csv(raw_file)\n",
    "    siab.to_csv(cache_file, index=False, compression='gzip')\n",
    "    print(f\"Cached SIAB data to: {cache_file}\")\n",
    "\n",
    "# Now use `siab` DataFrame as needed\n",
    "print(siab.shape)"
   ]
  },
  {
   "cell_type": "code",
   "execution_count": 10,
   "id": "db0ca512-5f53-4dba-abdb-a2888bca41ba",
   "metadata": {
    "execution": {
     "iopub.execute_input": "2025-07-28T10:57:10.431991Z",
     "iopub.status.busy": "2025-07-28T10:57:10.431414Z",
     "iopub.status.idle": "2025-07-28T10:57:10.438152Z",
     "shell.execute_reply": "2025-07-28T10:57:10.436934Z"
    },
    "papermill": {
     "duration": 0.055136,
     "end_time": "2025-07-28T10:57:10.439612",
     "exception": false,
     "start_time": "2025-07-28T10:57:10.384476",
     "status": "completed"
    },
    "tags": []
   },
   "outputs": [],
   "source": [
    "#siab"
   ]
  },
  {
   "cell_type": "code",
   "execution_count": 11,
   "id": "a0edb063",
   "metadata": {
    "execution": {
     "iopub.execute_input": "2025-07-28T10:57:10.493334Z",
     "iopub.status.busy": "2025-07-28T10:57:10.492831Z",
     "iopub.status.idle": "2025-07-28T10:57:10.498587Z",
     "shell.execute_reply": "2025-07-28T10:57:10.497462Z"
    },
    "papermill": {
     "duration": 0.027795,
     "end_time": "2025-07-28T10:57:10.500327",
     "exception": false,
     "start_time": "2025-07-28T10:57:10.472532",
     "status": "completed"
    },
    "tags": []
   },
   "outputs": [],
   "source": [
    "#import pandas as pd\n",
    "#\n",
    "#X_train = pd.read_csv(\"./data/X_train.csv\")\n",
    "#y_train = pd.read_csv(\"./data/y_train.csv\")"
   ]
  },
  {
   "cell_type": "code",
   "execution_count": 12,
   "id": "63d08085",
   "metadata": {
    "execution": {
     "iopub.execute_input": "2025-07-28T10:57:10.538599Z",
     "iopub.status.busy": "2025-07-28T10:57:10.535210Z",
     "iopub.status.idle": "2025-07-28T10:57:10.543291Z",
     "shell.execute_reply": "2025-07-28T10:57:10.542048Z"
    },
    "papermill": {
     "duration": 0.026117,
     "end_time": "2025-07-28T10:57:10.547464",
     "exception": false,
     "start_time": "2025-07-28T10:57:10.521347",
     "status": "completed"
    },
    "tags": []
   },
   "outputs": [],
   "source": [
    "#X_test = pd.read_csv(\"./data/X_test.csv\")\n",
    "#y_true = pd.read_csv(\"./data/y_test.csv\")"
   ]
  },
  {
   "cell_type": "code",
   "execution_count": 13,
   "id": "98a8d0fa-1d3d-4ed8-bb2c-281470e24add",
   "metadata": {
    "execution": {
     "iopub.execute_input": "2025-07-28T10:57:10.608582Z",
     "iopub.status.busy": "2025-07-28T10:57:10.607931Z",
     "iopub.status.idle": "2025-07-28T10:57:10.613614Z",
     "shell.execute_reply": "2025-07-28T10:57:10.612467Z"
    },
    "papermill": {
     "duration": 0.037686,
     "end_time": "2025-07-28T10:57:10.615956",
     "exception": false,
     "start_time": "2025-07-28T10:57:10.578270",
     "status": "completed"
    },
    "tags": []
   },
   "outputs": [],
   "source": [
    "# Calibration data for conformal\n",
    "#X_calib = pd.read_csv(\"./data/X_calib.csv\")\n",
    "#y_calib = pd.read_csv(\"./data/y_calib.csv\")"
   ]
  },
  {
   "cell_type": "markdown",
   "id": "9901737e-04df-44f0-9100-f5ad144ed040",
   "metadata": {
    "papermill": {
     "duration": 0.03029,
     "end_time": "2025-07-28T10:57:10.675053",
     "exception": false,
     "start_time": "2025-07-28T10:57:10.644763",
     "status": "completed"
    },
    "tags": []
   },
   "source": [
    "# Splitting Data and Setting Training Data Size"
   ]
  },
  {
   "cell_type": "code",
   "execution_count": 14,
   "id": "acbc8f7d-8fc8-4e86-8c59-5dcb0f58384b",
   "metadata": {
    "execution": {
     "iopub.execute_input": "2025-07-28T10:57:10.726893Z",
     "iopub.status.busy": "2025-07-28T10:57:10.726516Z",
     "iopub.status.idle": "2025-07-28T10:57:10.736102Z",
     "shell.execute_reply": "2025-07-28T10:57:10.735089Z"
    },
    "papermill": {
     "duration": 0.038772,
     "end_time": "2025-07-28T10:57:10.738314",
     "exception": false,
     "start_time": "2025-07-28T10:57:10.699542",
     "status": "completed"
    },
    "tags": []
   },
   "outputs": [],
   "source": [
    "def sample_by_year(df, training_size, random_state=42):\n",
    "    if training_size == \"2014\":\n",
    "        return df[df[\"year\"] == 2014].reset_index(drop=True)\n",
    "    \n",
    "    size_map = {\n",
    "        \"25k\": 5000,\n",
    "        \"5k\": 1000,\n",
    "        \"1k\": 200\n",
    "    }\n",
    "\n",
    "    if training_size not in size_map:\n",
    "        return df.reset_index(drop=True)  # use all data\n",
    "\n",
    "    n_per_year = size_map[training_size]\n",
    "    grouped = df.groupby(\"year\")\n",
    "    sampled = grouped.apply(lambda x: x.sample(n=min(n_per_year, len(x)), random_state=random_state))\n",
    "    return sampled.reset_index(drop=True)"
   ]
  },
  {
   "cell_type": "code",
   "execution_count": 15,
   "id": "6d931f52-beaf-43ff-9e78-9d44a448d54e",
   "metadata": {
    "execution": {
     "iopub.execute_input": "2025-07-28T10:57:10.818391Z",
     "iopub.status.busy": "2025-07-28T10:57:10.817994Z",
     "iopub.status.idle": "2025-07-28T10:57:11.093223Z",
     "shell.execute_reply": "2025-07-28T10:57:11.092095Z"
    },
    "papermill": {
     "duration": 0.317024,
     "end_time": "2025-07-28T10:57:11.095255",
     "exception": false,
     "start_time": "2025-07-28T10:57:10.778231",
     "status": "completed"
    },
    "tags": []
   },
   "outputs": [],
   "source": [
    "siab_s = sample_by_year(siab, universe[\"training_size\"])"
   ]
  },
  {
   "cell_type": "code",
   "execution_count": 16,
   "id": "5db0a40e-a4e2-4920-be85-b12ae061d70d",
   "metadata": {
    "execution": {
     "iopub.execute_input": "2025-07-28T10:57:11.218143Z",
     "iopub.status.busy": "2025-07-28T10:57:11.217745Z",
     "iopub.status.idle": "2025-07-28T10:57:11.255584Z",
     "shell.execute_reply": "2025-07-28T10:57:11.254519Z"
    },
    "papermill": {
     "duration": 0.093228,
     "end_time": "2025-07-28T10:57:11.257544",
     "exception": false,
     "start_time": "2025-07-28T10:57:11.164316",
     "status": "completed"
    },
    "tags": []
   },
   "outputs": [
    {
     "data": {
      "text/plain": [
       "year\n",
       "2014    87158\n",
       "dtype: int64"
      ]
     },
     "metadata": {},
     "output_type": "display_data"
    }
   ],
   "source": [
    "display(siab_s.groupby(\"year\").size())"
   ]
  },
  {
   "cell_type": "code",
   "execution_count": 17,
   "id": "a561edb4-d032-42cb-8256-22eac1111c64",
   "metadata": {
    "execution": {
     "iopub.execute_input": "2025-07-28T10:57:11.337347Z",
     "iopub.status.busy": "2025-07-28T10:57:11.336905Z",
     "iopub.status.idle": "2025-07-28T10:57:11.692532Z",
     "shell.execute_reply": "2025-07-28T10:57:11.691519Z"
    },
    "papermill": {
     "duration": 0.399585,
     "end_time": "2025-07-28T10:57:11.694601",
     "exception": false,
     "start_time": "2025-07-28T10:57:11.295016",
     "status": "completed"
    },
    "tags": []
   },
   "outputs": [],
   "source": [
    "siab_train = siab_s[siab_s.year < 2015]\n",
    "siab_calib = siab[siab.year == 2015]\n",
    "siab_test = siab[siab.year == 2016]"
   ]
  },
  {
   "cell_type": "code",
   "execution_count": 18,
   "id": "472de16f-c3db-4916-846b-1f0de9cf1746",
   "metadata": {
    "execution": {
     "iopub.execute_input": "2025-07-28T10:57:11.786763Z",
     "iopub.status.busy": "2025-07-28T10:57:11.786337Z",
     "iopub.status.idle": "2025-07-28T10:57:11.848207Z",
     "shell.execute_reply": "2025-07-28T10:57:11.847071Z"
    },
    "papermill": {
     "duration": 0.131947,
     "end_time": "2025-07-28T10:57:11.850009",
     "exception": false,
     "start_time": "2025-07-28T10:57:11.718062",
     "status": "completed"
    },
    "tags": []
   },
   "outputs": [],
   "source": [
    "X_train = siab_train.iloc[:,4:164]\n",
    "y_train = siab_train.iloc[:, [3]]"
   ]
  },
  {
   "cell_type": "code",
   "execution_count": 19,
   "id": "828c96af-f43a-4ed6-ba47-8ac73a47d56c",
   "metadata": {
    "execution": {
     "iopub.execute_input": "2025-07-28T10:57:11.892080Z",
     "iopub.status.busy": "2025-07-28T10:57:11.891127Z",
     "iopub.status.idle": "2025-07-28T10:57:11.975406Z",
     "shell.execute_reply": "2025-07-28T10:57:11.974380Z"
    },
    "papermill": {
     "duration": 0.108509,
     "end_time": "2025-07-28T10:57:11.977572",
     "exception": false,
     "start_time": "2025-07-28T10:57:11.869063",
     "status": "completed"
    },
    "tags": []
   },
   "outputs": [],
   "source": [
    "X_calib = siab_calib.iloc[:,4:164]\n",
    "y_calib = siab_calib.iloc[:, [3]]"
   ]
  },
  {
   "cell_type": "code",
   "execution_count": 20,
   "id": "c34be9c3-6bd6-476e-acd3-845840e303be",
   "metadata": {
    "execution": {
     "iopub.execute_input": "2025-07-28T10:57:12.036805Z",
     "iopub.status.busy": "2025-07-28T10:57:12.036285Z",
     "iopub.status.idle": "2025-07-28T10:57:12.093676Z",
     "shell.execute_reply": "2025-07-28T10:57:12.092594Z"
    },
    "papermill": {
     "duration": 0.080938,
     "end_time": "2025-07-28T10:57:12.095426",
     "exception": false,
     "start_time": "2025-07-28T10:57:12.014488",
     "status": "completed"
    },
    "tags": []
   },
   "outputs": [],
   "source": [
    "X_test = siab_test.iloc[:,4:164]\n",
    "y_true = siab_test.iloc[:, [3]]"
   ]
  },
  {
   "cell_type": "code",
   "execution_count": 21,
   "id": "e6c733c5",
   "metadata": {
    "execution": {
     "iopub.execute_input": "2025-07-28T10:57:12.137577Z",
     "iopub.status.busy": "2025-07-28T10:57:12.136538Z",
     "iopub.status.idle": "2025-07-28T10:57:12.281786Z",
     "shell.execute_reply": "2025-07-28T10:57:12.280629Z"
    },
    "papermill": {
     "duration": 0.168225,
     "end_time": "2025-07-28T10:57:12.283911",
     "exception": false,
     "start_time": "2025-07-28T10:57:12.115686",
     "status": "completed"
    },
    "tags": []
   },
   "outputs": [],
   "source": [
    "# Auxiliary data needed downstream in the pipeline\n",
    "\n",
    "org_train = X_train.copy()\n",
    "org_test = X_test.copy()\n",
    "org_calib = X_calib.copy()"
   ]
  },
  {
   "cell_type": "markdown",
   "id": "0a4a1b33",
   "metadata": {
    "papermill": {
     "duration": 0.019742,
     "end_time": "2025-07-28T10:57:12.324474",
     "exception": false,
     "start_time": "2025-07-28T10:57:12.304732",
     "status": "completed"
    },
    "tags": []
   },
   "source": [
    "# Preprocessing Data"
   ]
  },
  {
   "cell_type": "code",
   "execution_count": 22,
   "id": "ca879031",
   "metadata": {
    "execution": {
     "iopub.execute_input": "2025-07-28T10:57:12.367865Z",
     "iopub.status.busy": "2025-07-28T10:57:12.367148Z",
     "iopub.status.idle": "2025-07-28T10:57:12.373871Z",
     "shell.execute_reply": "2025-07-28T10:57:12.372741Z"
    },
    "papermill": {
     "duration": 0.030501,
     "end_time": "2025-07-28T10:57:12.375684",
     "exception": false,
     "start_time": "2025-07-28T10:57:12.345183",
     "status": "completed"
    },
    "tags": []
   },
   "outputs": [],
   "source": [
    "# EXCLUDE PROTECTED FEATURES\n",
    "# ----------------------\n",
    "# \"exclude_features\": \"none\", # \"nationality\", \"sex\", \"nationality-sex\"\n",
    "\n",
    "excluded_features = universe[\"exclude_features\"].split(\"-\") # split, e.g.: \"nationality-sex\" -> [\"nationality\", \"sex\"]\n",
    "excluded_features_dictionary = {\n",
    "    \"nationality\": [\"maxdeutsch1\", \"maxdeutsch.Missing.\"],\n",
    "    \"sex\": [\"frau1\"],\n",
    "    \"age\": [\"age\"],\n",
    "}\n"
   ]
  },
  {
   "cell_type": "code",
   "execution_count": 23,
   "id": "b745ac60",
   "metadata": {
    "execution": {
     "iopub.execute_input": "2025-07-28T10:57:12.420635Z",
     "iopub.status.busy": "2025-07-28T10:57:12.419592Z",
     "iopub.status.idle": "2025-07-28T10:57:12.427072Z",
     "shell.execute_reply": "2025-07-28T10:57:12.426071Z"
    },
    "papermill": {
     "duration": 0.030909,
     "end_time": "2025-07-28T10:57:12.429123",
     "exception": false,
     "start_time": "2025-07-28T10:57:12.398214",
     "status": "completed"
    },
    "tags": []
   },
   "outputs": [],
   "source": [
    "# Code nice names to column names\n",
    "\n",
    "excluded_features_columns = [\n",
    "    excluded_features_dictionary[f] for f in excluded_features if len(f) > 0 and f != \"none\"\n",
    "]"
   ]
  },
  {
   "cell_type": "code",
   "execution_count": 24,
   "id": "f84f73a2",
   "metadata": {
    "execution": {
     "iopub.execute_input": "2025-07-28T10:57:12.476391Z",
     "iopub.status.busy": "2025-07-28T10:57:12.475919Z",
     "iopub.status.idle": "2025-07-28T10:57:12.482529Z",
     "shell.execute_reply": "2025-07-28T10:57:12.481659Z"
    },
    "papermill": {
     "duration": 0.032053,
     "end_time": "2025-07-28T10:57:12.485329",
     "exception": false,
     "start_time": "2025-07-28T10:57:12.453276",
     "status": "completed"
    },
    "tags": []
   },
   "outputs": [],
   "source": [
    "from utils import flatten_once\n",
    "\n",
    "excluded_features_columns = flatten_once(excluded_features_columns)"
   ]
  },
  {
   "cell_type": "code",
   "execution_count": 25,
   "id": "884dea22",
   "metadata": {
    "execution": {
     "iopub.execute_input": "2025-07-28T10:57:12.530471Z",
     "iopub.status.busy": "2025-07-28T10:57:12.530075Z",
     "iopub.status.idle": "2025-07-28T10:57:12.586184Z",
     "shell.execute_reply": "2025-07-28T10:57:12.585184Z"
    },
    "papermill": {
     "duration": 0.081308,
     "end_time": "2025-07-28T10:57:12.588300",
     "exception": false,
     "start_time": "2025-07-28T10:57:12.506992",
     "status": "completed"
    },
    "tags": []
   },
   "outputs": [
    {
     "name": "stdout",
     "output_type": "stream",
     "text": [
      "Dropping features: ['maxdeutsch1', 'maxdeutsch.Missing.', 'frau1']\n"
     ]
    }
   ],
   "source": [
    "if len(excluded_features_columns) > 0:\n",
    "    print(f\"Dropping features: {excluded_features_columns}\")\n",
    "    X_train.drop(excluded_features_columns, axis=1, inplace=True)"
   ]
  },
  {
   "cell_type": "code",
   "execution_count": 26,
   "id": "95ab8b16",
   "metadata": {
    "execution": {
     "iopub.execute_input": "2025-07-28T10:57:12.649434Z",
     "iopub.status.busy": "2025-07-28T10:57:12.648493Z",
     "iopub.status.idle": "2025-07-28T10:57:12.709335Z",
     "shell.execute_reply": "2025-07-28T10:57:12.708073Z"
    },
    "papermill": {
     "duration": 0.098466,
     "end_time": "2025-07-28T10:57:12.711575",
     "exception": false,
     "start_time": "2025-07-28T10:57:12.613109",
     "status": "completed"
    },
    "tags": []
   },
   "outputs": [
    {
     "name": "stdout",
     "output_type": "stream",
     "text": [
      "Dropping features: ['maxdeutsch1', 'maxdeutsch.Missing.', 'frau1']\n"
     ]
    }
   ],
   "source": [
    "if len(excluded_features_columns) > 0:\n",
    "    print(f\"Dropping features: {excluded_features_columns}\")\n",
    "    X_test.drop(excluded_features_columns, axis=1, inplace=True)"
   ]
  },
  {
   "cell_type": "code",
   "execution_count": 27,
   "id": "1853aaf5-fb9f-46cb-a2b5-8ea4ae2237e4",
   "metadata": {
    "execution": {
     "iopub.execute_input": "2025-07-28T10:57:12.760536Z",
     "iopub.status.busy": "2025-07-28T10:57:12.760096Z",
     "iopub.status.idle": "2025-07-28T10:57:12.838870Z",
     "shell.execute_reply": "2025-07-28T10:57:12.837769Z"
    },
    "papermill": {
     "duration": 0.105279,
     "end_time": "2025-07-28T10:57:12.840927",
     "exception": false,
     "start_time": "2025-07-28T10:57:12.735648",
     "status": "completed"
    },
    "tags": []
   },
   "outputs": [
    {
     "name": "stdout",
     "output_type": "stream",
     "text": [
      "Dropping features: ['maxdeutsch1', 'maxdeutsch.Missing.', 'frau1']\n"
     ]
    }
   ],
   "source": [
    "if len(excluded_features_columns) > 0:\n",
    "    print(f\"Dropping features: {excluded_features_columns}\")\n",
    "    X_calib.drop(excluded_features_columns, axis=1, inplace=True)"
   ]
  },
  {
   "cell_type": "code",
   "execution_count": 28,
   "id": "6727d079-03e5-481e-9d38-292a90b7a0a8",
   "metadata": {
    "execution": {
     "iopub.execute_input": "2025-07-28T10:57:12.888582Z",
     "iopub.status.busy": "2025-07-28T10:57:12.887633Z",
     "iopub.status.idle": "2025-07-28T10:57:12.893375Z",
     "shell.execute_reply": "2025-07-28T10:57:12.892387Z"
    },
    "papermill": {
     "duration": 0.033157,
     "end_time": "2025-07-28T10:57:12.896529",
     "exception": false,
     "start_time": "2025-07-28T10:57:12.863372",
     "status": "completed"
    },
    "tags": []
   },
   "outputs": [],
   "source": [
    "# SPLIT & STRATIFY DATA\n",
    "# ----------------------"
   ]
  },
  {
   "cell_type": "code",
   "execution_count": 29,
   "id": "76c4dc6d",
   "metadata": {
    "execution": {
     "iopub.execute_input": "2025-07-28T10:57:12.946072Z",
     "iopub.status.busy": "2025-07-28T10:57:12.945094Z",
     "iopub.status.idle": "2025-07-28T10:57:12.951357Z",
     "shell.execute_reply": "2025-07-28T10:57:12.950151Z"
    },
    "papermill": {
     "duration": 0.032929,
     "end_time": "2025-07-28T10:57:12.953685",
     "exception": false,
     "start_time": "2025-07-28T10:57:12.920756",
     "status": "completed"
    },
    "tags": []
   },
   "outputs": [],
   "source": [
    "# EXCLUDE CERTAIN SUBGROUPS\n",
    "# ----------------------\n",
    "\n",
    "mode = universe.get(\"exclude_subgroups\", \"keep-all\") \n",
    "# Fetches the exclude_subgroups setting from the universe dict.\n",
    "# Defaults to \"keep-all\" if the key is missing."
   ]
  },
  {
   "cell_type": "code",
   "execution_count": 30,
   "id": "21994072",
   "metadata": {
    "execution": {
     "iopub.execute_input": "2025-07-28T10:57:13.033773Z",
     "iopub.status.busy": "2025-07-28T10:57:13.033336Z",
     "iopub.status.idle": "2025-07-28T10:57:13.041206Z",
     "shell.execute_reply": "2025-07-28T10:57:13.040037Z"
    },
    "papermill": {
     "duration": 0.057383,
     "end_time": "2025-07-28T10:57:13.043091",
     "exception": false,
     "start_time": "2025-07-28T10:57:12.985708",
     "status": "completed"
    },
    "tags": []
   },
   "outputs": [],
   "source": [
    "if mode == \"keep-all\":\n",
    "    keep_mask = pd.Series(True, index=org_train.index)\n",
    "\n",
    "# org_train contains the original feature columns from features_org (in Simson)\n",
    "# features_org contains unprocessed features, for me X_train at beginning ???\n",
    "# For keep-all, creates a boolean Series (keep_mask) of all True, so no rows are removed.\n",
    "\n",
    "elif mode == \"drop-non-german\":\n",
    "    keep_mask = org_train[\"maxdeutsch1\"] == 1 # ??? what about missing values?\n",
    "\n",
    "else:\n",
    "    raise ValueError(f\"Unsupported mode for exclude_subgroups: {mode}\")\n"
   ]
  },
  {
   "cell_type": "code",
   "execution_count": 31,
   "id": "71651440",
   "metadata": {
    "execution": {
     "iopub.execute_input": "2025-07-28T10:57:13.139988Z",
     "iopub.status.busy": "2025-07-28T10:57:13.139521Z",
     "iopub.status.idle": "2025-07-28T10:57:13.147635Z",
     "shell.execute_reply": "2025-07-28T10:57:13.146487Z"
    },
    "papermill": {
     "duration": 0.041332,
     "end_time": "2025-07-28T10:57:13.149917",
     "exception": false,
     "start_time": "2025-07-28T10:57:13.108585",
     "status": "completed"
    },
    "tags": []
   },
   "outputs": [
    {
     "name": "stdout",
     "output_type": "stream",
     "text": [
      "Dropping 12995 rows (14.91%) where mode='drop-non-german'\n"
     ]
    }
   ],
   "source": [
    "n_drop = (~keep_mask).sum() # Calculates how many rows are set to be dropped\n",
    "if n_drop > 0:\n",
    "    pct = n_drop / len(keep_mask) * 100\n",
    "    print(f\"Dropping {n_drop} rows ({pct:.2f}%) where mode='{mode}'\")"
   ]
  },
  {
   "cell_type": "code",
   "execution_count": 32,
   "id": "5fb8eee5",
   "metadata": {
    "execution": {
     "iopub.execute_input": "2025-07-28T10:57:13.197242Z",
     "iopub.status.busy": "2025-07-28T10:57:13.196828Z",
     "iopub.status.idle": "2025-07-28T10:57:13.281401Z",
     "shell.execute_reply": "2025-07-28T10:57:13.280112Z"
    },
    "papermill": {
     "duration": 0.110692,
     "end_time": "2025-07-28T10:57:13.283469",
     "exception": false,
     "start_time": "2025-07-28T10:57:13.172777",
     "status": "completed"
    },
    "tags": []
   },
   "outputs": [],
   "source": [
    "X_train = X_train[keep_mask]"
   ]
  },
  {
   "cell_type": "code",
   "execution_count": 33,
   "id": "b202bb3a",
   "metadata": {
    "execution": {
     "iopub.execute_input": "2025-07-28T10:57:13.364024Z",
     "iopub.status.busy": "2025-07-28T10:57:13.363582Z",
     "iopub.status.idle": "2025-07-28T10:57:13.371490Z",
     "shell.execute_reply": "2025-07-28T10:57:13.370405Z"
    },
    "papermill": {
     "duration": 0.066753,
     "end_time": "2025-07-28T10:57:13.373451",
     "exception": false,
     "start_time": "2025-07-28T10:57:13.306698",
     "status": "completed"
    },
    "tags": []
   },
   "outputs": [],
   "source": [
    "y_train = y_train[keep_mask]"
   ]
  },
  {
   "cell_type": "markdown",
   "id": "493e2ac3",
   "metadata": {
    "papermill": {
     "duration": 0.047838,
     "end_time": "2025-07-28T10:57:13.488438",
     "exception": false,
     "start_time": "2025-07-28T10:57:13.440600",
     "status": "completed"
    },
    "tags": []
   },
   "source": [
    "# Model Training"
   ]
  },
  {
   "cell_type": "code",
   "execution_count": 34,
   "id": "679e1268",
   "metadata": {
    "execution": {
     "iopub.execute_input": "2025-07-28T10:57:13.565590Z",
     "iopub.status.busy": "2025-07-28T10:57:13.565138Z",
     "iopub.status.idle": "2025-07-28T10:57:13.681112Z",
     "shell.execute_reply": "2025-07-28T10:57:13.680121Z"
    },
    "papermill": {
     "duration": 0.142479,
     "end_time": "2025-07-28T10:57:13.683098",
     "exception": false,
     "start_time": "2025-07-28T10:57:13.540619",
     "status": "completed"
    },
    "tags": []
   },
   "outputs": [],
   "source": [
    "from sklearn.linear_model import LogisticRegression\n",
    "from sklearn.ensemble import GradientBoostingClassifier, RandomForestClassifier\n",
    "\n",
    "if (universe[\"model\"] == \"logreg\"):\n",
    "    model = LogisticRegression() #penalty=\"none\") #, solver=\"newton-cg\", max_iter=1) # include random_state=19 ?\n",
    "elif (universe[\"model\"] == \"penalized_logreg\"):\n",
    "    model = LogisticRegression(penalty=\"l2\", C=1.0) #, solver=\"newton-cg\", max_iter=1)\n",
    "elif (universe[\"model\"] == \"rf\"):\n",
    "    model = RandomForestClassifier(n_estimators=100, n_jobs=-1)\n",
    "elif (universe[\"model\"] == \"gbm\"):\n",
    "    model = GradientBoostingClassifier()\n",
    "elif (universe[\"model\"] == \"elasticnet\"):\n",
    "    model = LogisticRegression(penalty = 'elasticnet', solver = 'saga', l1_ratio = 0.5, max_iter=5000) # which solver to use?\n",
    "else:\n",
    "    raise \"Unsupported universe.model\""
   ]
  },
  {
   "cell_type": "code",
   "execution_count": 35,
   "id": "0cc8f744",
   "metadata": {
    "execution": {
     "iopub.execute_input": "2025-07-28T10:57:13.730427Z",
     "iopub.status.busy": "2025-07-28T10:57:13.729334Z",
     "iopub.status.idle": "2025-07-28T10:57:13.736425Z",
     "shell.execute_reply": "2025-07-28T10:57:13.735305Z"
    },
    "papermill": {
     "duration": 0.032655,
     "end_time": "2025-07-28T10:57:13.738024",
     "exception": false,
     "start_time": "2025-07-28T10:57:13.705369",
     "status": "completed"
    },
    "tags": []
   },
   "outputs": [],
   "source": [
    "import numpy as np\n",
    "from sklearn.pipeline import Pipeline\n",
    "from sklearn.preprocessing import StandardScaler\n",
    "\n",
    "model = Pipeline([\n",
    "    #(\"continuous_processor\", continuous_processor),\n",
    "    #(\"categorical_preprocessor\", categorical_preprocessor),\n",
    "    (\"scale\", StandardScaler() if universe[\"scale\"] == \"scale\" else None), \n",
    "    (\"model\", model),\n",
    "])"
   ]
  },
  {
   "cell_type": "code",
   "execution_count": 36,
   "id": "9442c04d",
   "metadata": {
    "execution": {
     "iopub.execute_input": "2025-07-28T10:57:13.789930Z",
     "iopub.status.busy": "2025-07-28T10:57:13.789281Z",
     "iopub.status.idle": "2025-07-28T10:57:26.409407Z",
     "shell.execute_reply": "2025-07-28T10:57:26.408121Z"
    },
    "papermill": {
     "duration": 12.648975,
     "end_time": "2025-07-28T10:57:26.411753",
     "exception": false,
     "start_time": "2025-07-28T10:57:13.762778",
     "status": "completed"
    },
    "tags": []
   },
   "outputs": [
    {
     "data": {
      "text/html": [
       "<style>#sk-container-id-1 {color: black;background-color: white;}#sk-container-id-1 pre{padding: 0;}#sk-container-id-1 div.sk-toggleable {background-color: white;}#sk-container-id-1 label.sk-toggleable__label {cursor: pointer;display: block;width: 100%;margin-bottom: 0;padding: 0.3em;box-sizing: border-box;text-align: center;}#sk-container-id-1 label.sk-toggleable__label-arrow:before {content: \"▸\";float: left;margin-right: 0.25em;color: #696969;}#sk-container-id-1 label.sk-toggleable__label-arrow:hover:before {color: black;}#sk-container-id-1 div.sk-estimator:hover label.sk-toggleable__label-arrow:before {color: black;}#sk-container-id-1 div.sk-toggleable__content {max-height: 0;max-width: 0;overflow: hidden;text-align: left;background-color: #f0f8ff;}#sk-container-id-1 div.sk-toggleable__content pre {margin: 0.2em;color: black;border-radius: 0.25em;background-color: #f0f8ff;}#sk-container-id-1 input.sk-toggleable__control:checked~div.sk-toggleable__content {max-height: 200px;max-width: 100%;overflow: auto;}#sk-container-id-1 input.sk-toggleable__control:checked~label.sk-toggleable__label-arrow:before {content: \"▾\";}#sk-container-id-1 div.sk-estimator input.sk-toggleable__control:checked~label.sk-toggleable__label {background-color: #d4ebff;}#sk-container-id-1 div.sk-label input.sk-toggleable__control:checked~label.sk-toggleable__label {background-color: #d4ebff;}#sk-container-id-1 input.sk-hidden--visually {border: 0;clip: rect(1px 1px 1px 1px);clip: rect(1px, 1px, 1px, 1px);height: 1px;margin: -1px;overflow: hidden;padding: 0;position: absolute;width: 1px;}#sk-container-id-1 div.sk-estimator {font-family: monospace;background-color: #f0f8ff;border: 1px dotted black;border-radius: 0.25em;box-sizing: border-box;margin-bottom: 0.5em;}#sk-container-id-1 div.sk-estimator:hover {background-color: #d4ebff;}#sk-container-id-1 div.sk-parallel-item::after {content: \"\";width: 100%;border-bottom: 1px solid gray;flex-grow: 1;}#sk-container-id-1 div.sk-label:hover label.sk-toggleable__label {background-color: #d4ebff;}#sk-container-id-1 div.sk-serial::before {content: \"\";position: absolute;border-left: 1px solid gray;box-sizing: border-box;top: 0;bottom: 0;left: 50%;z-index: 0;}#sk-container-id-1 div.sk-serial {display: flex;flex-direction: column;align-items: center;background-color: white;padding-right: 0.2em;padding-left: 0.2em;position: relative;}#sk-container-id-1 div.sk-item {position: relative;z-index: 1;}#sk-container-id-1 div.sk-parallel {display: flex;align-items: stretch;justify-content: center;background-color: white;position: relative;}#sk-container-id-1 div.sk-item::before, #sk-container-id-1 div.sk-parallel-item::before {content: \"\";position: absolute;border-left: 1px solid gray;box-sizing: border-box;top: 0;bottom: 0;left: 50%;z-index: -1;}#sk-container-id-1 div.sk-parallel-item {display: flex;flex-direction: column;z-index: 1;position: relative;background-color: white;}#sk-container-id-1 div.sk-parallel-item:first-child::after {align-self: flex-end;width: 50%;}#sk-container-id-1 div.sk-parallel-item:last-child::after {align-self: flex-start;width: 50%;}#sk-container-id-1 div.sk-parallel-item:only-child::after {width: 0;}#sk-container-id-1 div.sk-dashed-wrapped {border: 1px dashed gray;margin: 0 0.4em 0.5em 0.4em;box-sizing: border-box;padding-bottom: 0.4em;background-color: white;}#sk-container-id-1 div.sk-label label {font-family: monospace;font-weight: bold;display: inline-block;line-height: 1.2em;}#sk-container-id-1 div.sk-label-container {text-align: center;}#sk-container-id-1 div.sk-container {/* jupyter's `normalize.less` sets `[hidden] { display: none; }` but bootstrap.min.css set `[hidden] { display: none !important; }` so we also need the `!important` here to be able to override the default hidden behavior on the sphinx rendered scikit-learn.org. See: https://github.com/scikit-learn/scikit-learn/issues/21755 */display: inline-block !important;position: relative;}#sk-container-id-1 div.sk-text-repr-fallback {display: none;}</style><div id=\"sk-container-id-1\" class=\"sk-top-container\"><div class=\"sk-text-repr-fallback\"><pre>Pipeline(steps=[(&#x27;scale&#x27;, StandardScaler()),\n",
       "                (&#x27;model&#x27;, RandomForestClassifier(n_jobs=-1))])</pre><b>In a Jupyter environment, please rerun this cell to show the HTML representation or trust the notebook. <br />On GitHub, the HTML representation is unable to render, please try loading this page with nbviewer.org.</b></div><div class=\"sk-container\" hidden><div class=\"sk-item sk-dashed-wrapped\"><div class=\"sk-label-container\"><div class=\"sk-label sk-toggleable\"><input class=\"sk-toggleable__control sk-hidden--visually\" id=\"sk-estimator-id-1\" type=\"checkbox\" ><label for=\"sk-estimator-id-1\" class=\"sk-toggleable__label sk-toggleable__label-arrow\">Pipeline</label><div class=\"sk-toggleable__content\"><pre>Pipeline(steps=[(&#x27;scale&#x27;, StandardScaler()),\n",
       "                (&#x27;model&#x27;, RandomForestClassifier(n_jobs=-1))])</pre></div></div></div><div class=\"sk-serial\"><div class=\"sk-item\"><div class=\"sk-estimator sk-toggleable\"><input class=\"sk-toggleable__control sk-hidden--visually\" id=\"sk-estimator-id-2\" type=\"checkbox\" ><label for=\"sk-estimator-id-2\" class=\"sk-toggleable__label sk-toggleable__label-arrow\">StandardScaler</label><div class=\"sk-toggleable__content\"><pre>StandardScaler()</pre></div></div></div><div class=\"sk-item\"><div class=\"sk-estimator sk-toggleable\"><input class=\"sk-toggleable__control sk-hidden--visually\" id=\"sk-estimator-id-3\" type=\"checkbox\" ><label for=\"sk-estimator-id-3\" class=\"sk-toggleable__label sk-toggleable__label-arrow\">RandomForestClassifier</label><div class=\"sk-toggleable__content\"><pre>RandomForestClassifier(n_jobs=-1)</pre></div></div></div></div></div></div></div>"
      ],
      "text/plain": [
       "Pipeline(steps=[('scale', StandardScaler()),\n",
       "                ('model', RandomForestClassifier(n_jobs=-1))])"
      ]
     },
     "execution_count": 36,
     "metadata": {},
     "output_type": "execute_result"
    }
   ],
   "source": [
    "model.fit(X_train, y_train.values.ravel())"
   ]
  },
  {
   "cell_type": "code",
   "execution_count": 37,
   "id": "af59f8c0",
   "metadata": {
    "execution": {
     "iopub.execute_input": "2025-07-28T10:57:26.498816Z",
     "iopub.status.busy": "2025-07-28T10:57:26.498307Z",
     "iopub.status.idle": "2025-07-28T10:57:26.504501Z",
     "shell.execute_reply": "2025-07-28T10:57:26.503464Z"
    },
    "papermill": {
     "duration": 0.050911,
     "end_time": "2025-07-28T10:57:26.507189",
     "exception": false,
     "start_time": "2025-07-28T10:57:26.456278",
     "status": "completed"
    },
    "tags": []
   },
   "outputs": [],
   "source": [
    "from fairness_multiverse.universe import predict_w_threshold"
   ]
  },
  {
   "cell_type": "code",
   "execution_count": 38,
   "id": "a7cf2e16",
   "metadata": {
    "execution": {
     "iopub.execute_input": "2025-07-28T10:57:26.619013Z",
     "iopub.status.busy": "2025-07-28T10:57:26.618563Z",
     "iopub.status.idle": "2025-07-28T10:57:29.130246Z",
     "shell.execute_reply": "2025-07-28T10:57:29.129211Z"
    },
    "papermill": {
     "duration": 2.567935,
     "end_time": "2025-07-28T10:57:29.132343",
     "exception": false,
     "start_time": "2025-07-28T10:57:26.564408",
     "status": "completed"
    },
    "tags": []
   },
   "outputs": [
    {
     "data": {
      "text/plain": [
       "0.8668152937242225"
      ]
     },
     "execution_count": 38,
     "metadata": {},
     "output_type": "execute_result"
    }
   ],
   "source": [
    "probs_test = model.predict_proba(X_test)\n",
    "\n",
    "'''\n",
    "Below code returns a boolean array (or binary 0/1 array depending on how it’s used) where each element \n",
    "is True if the probability of class 1 is greater than or equal to the threshold, and False otherwise.\n",
    "'''\n",
    "y_pred_default = predict_w_threshold(probs_test, 0.5)\n",
    "\n",
    "from sklearn.metrics import accuracy_score\n",
    "\n",
    "# Naive prediction\n",
    "accuracy_score(y_true = y_true, y_pred = y_pred_default)"
   ]
  },
  {
   "cell_type": "code",
   "execution_count": 39,
   "id": "081964c3",
   "metadata": {
    "execution": {
     "iopub.execute_input": "2025-07-28T10:57:29.209265Z",
     "iopub.status.busy": "2025-07-28T10:57:29.208808Z",
     "iopub.status.idle": "2025-07-28T10:57:31.826530Z",
     "shell.execute_reply": "2025-07-28T10:57:31.825472Z"
    },
    "papermill": {
     "duration": 2.671048,
     "end_time": "2025-07-28T10:57:31.828510",
     "exception": false,
     "start_time": "2025-07-28T10:57:29.157462",
     "status": "completed"
    },
    "tags": []
   },
   "outputs": [
    {
     "data": {
      "text/plain": [
       "array([0, 0, 0, ..., 0, 0, 0])"
      ]
     },
     "execution_count": 39,
     "metadata": {},
     "output_type": "execute_result"
    }
   ],
   "source": [
    "model.predict(X_test)"
   ]
  },
  {
   "cell_type": "markdown",
   "id": "56c9705b",
   "metadata": {
    "papermill": {
     "duration": 0.048607,
     "end_time": "2025-07-28T10:57:31.935317",
     "exception": false,
     "start_time": "2025-07-28T10:57:31.886710",
     "status": "completed"
    },
    "tags": []
   },
   "source": [
    "# Conformal Prediction"
   ]
  },
  {
   "cell_type": "code",
   "execution_count": 40,
   "id": "160ec6ff",
   "metadata": {
    "execution": {
     "iopub.execute_input": "2025-07-28T10:57:32.098850Z",
     "iopub.status.busy": "2025-07-28T10:57:32.098400Z",
     "iopub.status.idle": "2025-07-28T10:57:32.104402Z",
     "shell.execute_reply": "2025-07-28T10:57:32.103364Z"
    },
    "papermill": {
     "duration": 0.098141,
     "end_time": "2025-07-28T10:57:32.106436",
     "exception": false,
     "start_time": "2025-07-28T10:57:32.008295",
     "status": "completed"
    },
    "tags": []
   },
   "outputs": [],
   "source": [
    "# Miscoverage level for conformal prediction (10% allowed error rate => 90% target coverage)\n",
    "alpha = 0.1"
   ]
  },
  {
   "cell_type": "code",
   "execution_count": 41,
   "id": "eadf4555-3dd3-440e-8e35-f82a4ad9f855",
   "metadata": {
    "execution": {
     "iopub.execute_input": "2025-07-28T10:57:32.286398Z",
     "iopub.status.busy": "2025-07-28T10:57:32.285927Z",
     "iopub.status.idle": "2025-07-28T10:57:34.855986Z",
     "shell.execute_reply": "2025-07-28T10:57:34.854821Z"
    },
    "papermill": {
     "duration": 2.654102,
     "end_time": "2025-07-28T10:57:34.858318",
     "exception": false,
     "start_time": "2025-07-28T10:57:32.204216",
     "status": "completed"
    },
    "tags": []
   },
   "outputs": [],
   "source": [
    "probs_calib = model.predict_proba(X_calib)"
   ]
  },
  {
   "cell_type": "code",
   "execution_count": 42,
   "id": "2ed93547-6d5d-4983-9b36-1ecb300da49a",
   "metadata": {
    "execution": {
     "iopub.execute_input": "2025-07-28T10:57:34.986879Z",
     "iopub.status.busy": "2025-07-28T10:57:34.986446Z",
     "iopub.status.idle": "2025-07-28T10:57:34.992798Z",
     "shell.execute_reply": "2025-07-28T10:57:34.991763Z"
    },
    "papermill": {
     "duration": 0.06569,
     "end_time": "2025-07-28T10:57:34.994415",
     "exception": false,
     "start_time": "2025-07-28T10:57:34.928725",
     "status": "completed"
    },
    "tags": []
   },
   "outputs": [],
   "source": [
    "y_calib = y_calib.values.ravel().astype(int)"
   ]
  },
  {
   "cell_type": "code",
   "execution_count": 43,
   "id": "65d1320d-f588-4b38-9072-62af1ae97f7d",
   "metadata": {
    "execution": {
     "iopub.execute_input": "2025-07-28T10:57:35.106543Z",
     "iopub.status.busy": "2025-07-28T10:57:35.106127Z",
     "iopub.status.idle": "2025-07-28T10:57:35.114827Z",
     "shell.execute_reply": "2025-07-28T10:57:35.113757Z"
    },
    "papermill": {
     "duration": 0.096738,
     "end_time": "2025-07-28T10:57:35.145495",
     "exception": false,
     "start_time": "2025-07-28T10:57:35.048757",
     "status": "completed"
    },
    "tags": []
   },
   "outputs": [],
   "source": [
    "from fairness_multiverse.conformal import compute_nc_scores\n",
    "\n",
    "# Compute nonconformity scores on calibration set (1 - probability of true class)\n",
    "nc_scores = compute_nc_scores(probs_calib, y_calib)"
   ]
  },
  {
   "cell_type": "code",
   "execution_count": 44,
   "id": "df3b8ca3-53b7-43d5-9667-7c85da7aeda2",
   "metadata": {
    "execution": {
     "iopub.execute_input": "2025-07-28T10:57:35.302402Z",
     "iopub.status.busy": "2025-07-28T10:57:35.301957Z",
     "iopub.status.idle": "2025-07-28T10:57:35.308894Z",
     "shell.execute_reply": "2025-07-28T10:57:35.307822Z"
    },
    "papermill": {
     "duration": 0.07398,
     "end_time": "2025-07-28T10:57:35.310704",
     "exception": false,
     "start_time": "2025-07-28T10:57:35.236724",
     "status": "completed"
    },
    "tags": []
   },
   "outputs": [],
   "source": [
    "from fairness_multiverse.conformal import find_threshold\n",
    "\n",
    "# Find conformal threshold q_hat for the given alpha (split conformal method)\n",
    "q_hat = find_threshold(nc_scores, alpha)"
   ]
  },
  {
   "cell_type": "code",
   "execution_count": 45,
   "id": "4d29e6c1-0ef6-4aa4-b8fe-4fe79b0d033a",
   "metadata": {
    "execution": {
     "iopub.execute_input": "2025-07-28T10:57:35.435361Z",
     "iopub.status.busy": "2025-07-28T10:57:35.434900Z",
     "iopub.status.idle": "2025-07-28T10:57:35.445731Z",
     "shell.execute_reply": "2025-07-28T10:57:35.444557Z"
    },
    "papermill": {
     "duration": 0.069924,
     "end_time": "2025-07-28T10:57:35.447693",
     "exception": false,
     "start_time": "2025-07-28T10:57:35.377769",
     "status": "completed"
    },
    "tags": []
   },
   "outputs": [
    {
     "data": {
      "text/plain": [
       "0.6599999999999999"
      ]
     },
     "execution_count": 45,
     "metadata": {},
     "output_type": "execute_result"
    }
   ],
   "source": [
    "q_hat"
   ]
  },
  {
   "cell_type": "code",
   "execution_count": 46,
   "id": "92460794-cdac-4be2-ba28-f28c0515a6fb",
   "metadata": {
    "execution": {
     "iopub.execute_input": "2025-07-28T10:57:35.591134Z",
     "iopub.status.busy": "2025-07-28T10:57:35.590686Z",
     "iopub.status.idle": "2025-07-28T10:57:39.760714Z",
     "shell.execute_reply": "2025-07-28T10:57:39.759594Z"
    },
    "papermill": {
     "duration": 4.256194,
     "end_time": "2025-07-28T10:57:39.762775",
     "exception": false,
     "start_time": "2025-07-28T10:57:35.506581",
     "status": "completed"
    },
    "tags": []
   },
   "outputs": [],
   "source": [
    "from fairness_multiverse.conformal import predict_conformal_sets\n",
    "\n",
    "# Generate prediction sets for each test example\n",
    "pred_sets = predict_conformal_sets(model, X_test, q_hat)"
   ]
  },
  {
   "cell_type": "code",
   "execution_count": 47,
   "id": "d90c9a65-e6db-4f5d-80cd-e68fb7e46829",
   "metadata": {
    "execution": {
     "iopub.execute_input": "2025-07-28T10:57:39.839107Z",
     "iopub.status.busy": "2025-07-28T10:57:39.837979Z",
     "iopub.status.idle": "2025-07-28T10:57:39.845309Z",
     "shell.execute_reply": "2025-07-28T10:57:39.844133Z"
    },
    "papermill": {
     "duration": 0.054402,
     "end_time": "2025-07-28T10:57:39.847706",
     "exception": false,
     "start_time": "2025-07-28T10:57:39.793304",
     "status": "completed"
    },
    "tags": []
   },
   "outputs": [],
   "source": [
    "y_true = y_true.squeeze()"
   ]
  },
  {
   "cell_type": "code",
   "execution_count": 48,
   "id": "3a58a54a-1e68-46b9-927a-df01f18aebc8",
   "metadata": {
    "execution": {
     "iopub.execute_input": "2025-07-28T10:57:39.925436Z",
     "iopub.status.busy": "2025-07-28T10:57:39.924955Z",
     "iopub.status.idle": "2025-07-28T10:57:41.842187Z",
     "shell.execute_reply": "2025-07-28T10:57:41.840959Z"
    },
    "papermill": {
     "duration": 1.945597,
     "end_time": "2025-07-28T10:57:41.844212",
     "exception": false,
     "start_time": "2025-07-28T10:57:39.898615",
     "status": "completed"
    },
    "tags": []
   },
   "outputs": [],
   "source": [
    "from fairness_multiverse.conformal import evaluate_sets\n",
    "\n",
    "# Evaluate coverage and average set size on test data\n",
    "metrics = evaluate_sets(pred_sets, y_true)"
   ]
  },
  {
   "cell_type": "markdown",
   "id": "2b569c12-9aaa-4c88-98c9-bbcd0cf3ebb8",
   "metadata": {
    "papermill": {
     "duration": 0.046996,
     "end_time": "2025-07-28T10:57:41.936086",
     "exception": false,
     "start_time": "2025-07-28T10:57:41.889090",
     "status": "completed"
    },
    "tags": []
   },
   "source": [
    "# CP Metrics"
   ]
  },
  {
   "cell_type": "code",
   "execution_count": 49,
   "id": "5ce0a5cb-201f-45a0-ade5-94c7f0bd6095",
   "metadata": {
    "execution": {
     "iopub.execute_input": "2025-07-28T10:57:41.990424Z",
     "iopub.status.busy": "2025-07-28T10:57:41.989353Z",
     "iopub.status.idle": "2025-07-28T10:57:41.998130Z",
     "shell.execute_reply": "2025-07-28T10:57:41.997055Z"
    },
    "papermill": {
     "duration": 0.041466,
     "end_time": "2025-07-28T10:57:42.002928",
     "exception": false,
     "start_time": "2025-07-28T10:57:41.961462",
     "status": "completed"
    },
    "tags": []
   },
   "outputs": [
    {
     "data": {
      "text/plain": [
       "{'coverage': 0.9170215137665813, 'avg_size': 1.1428380336640285}"
      ]
     },
     "execution_count": 49,
     "metadata": {},
     "output_type": "execute_result"
    }
   ],
   "source": [
    "metrics"
   ]
  },
  {
   "cell_type": "code",
   "execution_count": 50,
   "id": "9b9a838d-31c9-430b-ae14-12baee460d17",
   "metadata": {
    "execution": {
     "iopub.execute_input": "2025-07-28T10:57:42.056125Z",
     "iopub.status.busy": "2025-07-28T10:57:42.055636Z",
     "iopub.status.idle": "2025-07-28T10:57:42.063212Z",
     "shell.execute_reply": "2025-07-28T10:57:42.062074Z"
    },
    "papermill": {
     "duration": 0.038068,
     "end_time": "2025-07-28T10:57:42.066878",
     "exception": false,
     "start_time": "2025-07-28T10:57:42.028810",
     "status": "completed"
    },
    "tags": []
   },
   "outputs": [],
   "source": [
    "example_universe = universe.copy()\n",
    "universe_training_size = example_universe.get(\"training_size\")\n",
    "universe_scale = example_universe.get(\"scale\")\n",
    "universe_model = example_universe.get(\"model\")\n",
    "universe_exclude_features = example_universe.get(\"exclude_features\")\n",
    "universe_exclude_subgroups = example_universe.get(\"exclude_subgroups\")"
   ]
  },
  {
   "cell_type": "code",
   "execution_count": 51,
   "id": "f4b6a8ac-9dc0-4245-8a91-5b3b5999c4f9",
   "metadata": {
    "execution": {
     "iopub.execute_input": "2025-07-28T10:57:42.121333Z",
     "iopub.status.busy": "2025-07-28T10:57:42.120835Z",
     "iopub.status.idle": "2025-07-28T10:57:42.128778Z",
     "shell.execute_reply": "2025-07-28T10:57:42.127594Z"
    },
    "papermill": {
     "duration": 0.038244,
     "end_time": "2025-07-28T10:57:42.132262",
     "exception": false,
     "start_time": "2025-07-28T10:57:42.094018",
     "status": "completed"
    },
    "tags": []
   },
   "outputs": [],
   "source": [
    "cp_metrics_dict = {\n",
    "    \"universe_id\": [universe_id],\n",
    "    \"universe_training_size\": [universe_training_size],\n",
    "    \"universe_scale\": [universe_scale],\n",
    "    \"universe_model\": [universe_model],\n",
    "    \"universe_exclude_features\": [universe_exclude_features],\n",
    "    \"universe_exclude_subgroups\": [universe_exclude_subgroups],\n",
    "    \"q_hat\": [q_hat],\n",
    "    \"coverage\": [metrics[\"coverage\"]],\n",
    "    \"avg_size\": [metrics[\"avg_size\"]],\n",
    "}"
   ]
  },
  {
   "cell_type": "code",
   "execution_count": 52,
   "id": "908acbb1-0371-4915-85ca-3fa520d2efe2",
   "metadata": {
    "execution": {
     "iopub.execute_input": "2025-07-28T10:57:42.188304Z",
     "iopub.status.busy": "2025-07-28T10:57:42.187835Z",
     "iopub.status.idle": "2025-07-28T10:57:42.196011Z",
     "shell.execute_reply": "2025-07-28T10:57:42.195006Z"
    },
    "papermill": {
     "duration": 0.040321,
     "end_time": "2025-07-28T10:57:42.200804",
     "exception": false,
     "start_time": "2025-07-28T10:57:42.160483",
     "status": "completed"
    },
    "tags": []
   },
   "outputs": [
    {
     "data": {
      "text/plain": [
       "{'universe_id': ['1b68740ae09ed1a62854149204af98b0'],\n",
       " 'universe_training_size': ['2014'],\n",
       " 'universe_scale': ['scale'],\n",
       " 'universe_model': ['rf'],\n",
       " 'universe_exclude_features': ['nationality-sex'],\n",
       " 'universe_exclude_subgroups': ['drop-non-german'],\n",
       " 'q_hat': [0.6599999999999999],\n",
       " 'coverage': [0.9170215137665813],\n",
       " 'avg_size': [1.1428380336640285]}"
      ]
     },
     "execution_count": 52,
     "metadata": {},
     "output_type": "execute_result"
    }
   ],
   "source": [
    "cp_metrics_dict"
   ]
  },
  {
   "cell_type": "code",
   "execution_count": 53,
   "id": "33007efc-14e9-4ec6-97ac-56a455c82265",
   "metadata": {
    "execution": {
     "iopub.execute_input": "2025-07-28T10:57:42.257643Z",
     "iopub.status.busy": "2025-07-28T10:57:42.257235Z",
     "iopub.status.idle": "2025-07-28T10:57:42.263986Z",
     "shell.execute_reply": "2025-07-28T10:57:42.262944Z"
    },
    "papermill": {
     "duration": 0.037847,
     "end_time": "2025-07-28T10:57:42.266925",
     "exception": false,
     "start_time": "2025-07-28T10:57:42.229078",
     "status": "completed"
    },
    "tags": []
   },
   "outputs": [],
   "source": [
    "cp_metrics_df = pd.DataFrame(cp_metrics_dict)"
   ]
  },
  {
   "cell_type": "code",
   "execution_count": 54,
   "id": "db12611b-57b2-4910-b9d0-355adfd6e7bf",
   "metadata": {
    "execution": {
     "iopub.execute_input": "2025-07-28T10:57:42.370670Z",
     "iopub.status.busy": "2025-07-28T10:57:42.370218Z",
     "iopub.status.idle": "2025-07-28T10:57:42.395138Z",
     "shell.execute_reply": "2025-07-28T10:57:42.394002Z"
    },
    "papermill": {
     "duration": 0.103575,
     "end_time": "2025-07-28T10:57:42.396961",
     "exception": false,
     "start_time": "2025-07-28T10:57:42.293386",
     "status": "completed"
    },
    "tags": []
   },
   "outputs": [
    {
     "data": {
      "text/html": [
       "<div>\n",
       "<style scoped>\n",
       "    .dataframe tbody tr th:only-of-type {\n",
       "        vertical-align: middle;\n",
       "    }\n",
       "\n",
       "    .dataframe tbody tr th {\n",
       "        vertical-align: top;\n",
       "    }\n",
       "\n",
       "    .dataframe thead th {\n",
       "        text-align: right;\n",
       "    }\n",
       "</style>\n",
       "<table border=\"1\" class=\"dataframe\">\n",
       "  <thead>\n",
       "    <tr style=\"text-align: right;\">\n",
       "      <th></th>\n",
       "      <th>universe_id</th>\n",
       "      <th>universe_training_size</th>\n",
       "      <th>universe_scale</th>\n",
       "      <th>universe_model</th>\n",
       "      <th>universe_exclude_features</th>\n",
       "      <th>universe_exclude_subgroups</th>\n",
       "      <th>q_hat</th>\n",
       "      <th>coverage</th>\n",
       "      <th>avg_size</th>\n",
       "    </tr>\n",
       "  </thead>\n",
       "  <tbody>\n",
       "    <tr>\n",
       "      <th>0</th>\n",
       "      <td>1b68740ae09ed1a62854149204af98b0</td>\n",
       "      <td>2014</td>\n",
       "      <td>scale</td>\n",
       "      <td>rf</td>\n",
       "      <td>nationality-sex</td>\n",
       "      <td>drop-non-german</td>\n",
       "      <td>0.66</td>\n",
       "      <td>0.917022</td>\n",
       "      <td>1.142838</td>\n",
       "    </tr>\n",
       "  </tbody>\n",
       "</table>\n",
       "</div>"
      ],
      "text/plain": [
       "                        universe_id universe_training_size universe_scale  \\\n",
       "0  1b68740ae09ed1a62854149204af98b0                   2014          scale   \n",
       "\n",
       "  universe_model universe_exclude_features universe_exclude_subgroups  q_hat  \\\n",
       "0             rf           nationality-sex            drop-non-german   0.66   \n",
       "\n",
       "   coverage  avg_size  \n",
       "0  0.917022  1.142838  "
      ]
     },
     "execution_count": 54,
     "metadata": {},
     "output_type": "execute_result"
    }
   ],
   "source": [
    "cp_metrics_df"
   ]
  },
  {
   "cell_type": "code",
   "execution_count": 55,
   "id": "b7fbde55-a0a1-47e4-9af6-fe4a17fa8c61",
   "metadata": {
    "execution": {
     "iopub.execute_input": "2025-07-28T10:57:42.510988Z",
     "iopub.status.busy": "2025-07-28T10:57:42.510562Z",
     "iopub.status.idle": "2025-07-28T10:57:42.516272Z",
     "shell.execute_reply": "2025-07-28T10:57:42.515105Z"
    },
    "papermill": {
     "duration": 0.065345,
     "end_time": "2025-07-28T10:57:42.517941",
     "exception": false,
     "start_time": "2025-07-28T10:57:42.452596",
     "status": "completed"
    },
    "tags": []
   },
   "outputs": [],
   "source": [
    "# Conditional Coverage & looking at subgroups"
   ]
  },
  {
   "cell_type": "code",
   "execution_count": 56,
   "id": "027ae886-68dd-4141-96c7-805a5450e1ef",
   "metadata": {
    "execution": {
     "iopub.execute_input": "2025-07-28T10:57:42.627196Z",
     "iopub.status.busy": "2025-07-28T10:57:42.626730Z",
     "iopub.status.idle": "2025-07-28T10:57:43.133362Z",
     "shell.execute_reply": "2025-07-28T10:57:43.132126Z"
    },
    "papermill": {
     "duration": 0.562399,
     "end_time": "2025-07-28T10:57:43.135221",
     "exception": false,
     "start_time": "2025-07-28T10:57:42.572822",
     "status": "completed"
    },
    "tags": []
   },
   "outputs": [],
   "source": [
    "from fairness_multiverse.conformal import build_cp_groups\n",
    "\n",
    "cp_groups_df = build_cp_groups(pred_sets, y_true, X_test.index, org_test)\n",
    "#needs universe_id and setting"
   ]
  },
  {
   "cell_type": "code",
   "execution_count": 57,
   "id": "01d5802c-663a-4d1f-9d69-e036faaffbf7",
   "metadata": {
    "execution": {
     "iopub.execute_input": "2025-07-28T10:57:43.288593Z",
     "iopub.status.busy": "2025-07-28T10:57:43.288038Z",
     "iopub.status.idle": "2025-07-28T10:57:43.293861Z",
     "shell.execute_reply": "2025-07-28T10:57:43.292799Z"
    },
    "papermill": {
     "duration": 0.098226,
     "end_time": "2025-07-28T10:57:43.298917",
     "exception": false,
     "start_time": "2025-07-28T10:57:43.200691",
     "status": "completed"
    },
    "tags": []
   },
   "outputs": [],
   "source": [
    "#delete\n",
    "#cp_groups_df"
   ]
  },
  {
   "cell_type": "code",
   "execution_count": 58,
   "id": "fa424af1-d1eb-443d-b717-2d279ada8408",
   "metadata": {
    "execution": {
     "iopub.execute_input": "2025-07-28T10:57:43.442175Z",
     "iopub.status.busy": "2025-07-28T10:57:43.441795Z",
     "iopub.status.idle": "2025-07-28T10:57:43.446424Z",
     "shell.execute_reply": "2025-07-28T10:57:43.445535Z"
    },
    "papermill": {
     "duration": 0.052854,
     "end_time": "2025-07-28T10:57:43.448136",
     "exception": false,
     "start_time": "2025-07-28T10:57:43.395282",
     "status": "completed"
    },
    "tags": []
   },
   "outputs": [],
   "source": [
    "#delete\n",
    "#percentage = (cp_groups_df['nongerman_female'] == 1).mean() * 100\n",
    "#print(percentage)\n"
   ]
  },
  {
   "cell_type": "code",
   "execution_count": 59,
   "id": "6cbdab96-b2b2-45af-ad54-d0516db2e28d",
   "metadata": {
    "execution": {
     "iopub.execute_input": "2025-07-28T10:57:43.540601Z",
     "iopub.status.busy": "2025-07-28T10:57:43.540158Z",
     "iopub.status.idle": "2025-07-28T10:57:45.931683Z",
     "shell.execute_reply": "2025-07-28T10:57:45.930639Z"
    },
    "papermill": {
     "duration": 2.421371,
     "end_time": "2025-07-28T10:57:45.933356",
     "exception": false,
     "start_time": "2025-07-28T10:57:43.511985",
     "status": "completed"
    },
    "tags": []
   },
   "outputs": [],
   "source": [
    "# Define covered = 1 if true_label is in the predicted set\n",
    "cp_groups_df['covered'] = cp_groups_df.apply(\n",
    "    lambda r: int(r['true_label'] in r['pred_set']),\n",
    "    axis=1\n",
    ")"
   ]
  },
  {
   "cell_type": "code",
   "execution_count": 60,
   "id": "338ff529-1a6b-4b87-a931-8e4788d52aad",
   "metadata": {
    "execution": {
     "iopub.execute_input": "2025-07-28T10:57:45.969664Z",
     "iopub.status.busy": "2025-07-28T10:57:45.969117Z",
     "iopub.status.idle": "2025-07-28T10:57:45.976524Z",
     "shell.execute_reply": "2025-07-28T10:57:45.975484Z"
    },
    "papermill": {
     "duration": 0.030897,
     "end_time": "2025-07-28T10:57:45.978206",
     "exception": false,
     "start_time": "2025-07-28T10:57:45.947309",
     "status": "completed"
    },
    "tags": []
   },
   "outputs": [],
   "source": [
    "#cp_groups_df"
   ]
  },
  {
   "cell_type": "code",
   "execution_count": 61,
   "id": "90032e27-66df-4540-9169-4e89cfbaa758",
   "metadata": {
    "execution": {
     "iopub.execute_input": "2025-07-28T10:57:46.158818Z",
     "iopub.status.busy": "2025-07-28T10:57:46.158322Z",
     "iopub.status.idle": "2025-07-28T10:57:46.174073Z",
     "shell.execute_reply": "2025-07-28T10:57:46.172818Z"
    },
    "papermill": {
     "duration": 0.136096,
     "end_time": "2025-07-28T10:57:46.176416",
     "exception": false,
     "start_time": "2025-07-28T10:57:46.040320",
     "status": "completed"
    },
    "tags": []
   },
   "outputs": [],
   "source": [
    "subgroups = ['frau1','nongerman','nongerman_male','nongerman_female']\n",
    "\n",
    "# Conditional coverage for subgroup==1\n",
    "cond_coverage = {\n",
    "    g: cp_groups_df.loc[cp_groups_df[g]==1, 'covered'].mean()\n",
    "    for g in subgroups\n",
    "}"
   ]
  },
  {
   "cell_type": "code",
   "execution_count": 62,
   "id": "1e348fb1-b9c3-45bc-ba23-f016827a7e0d",
   "metadata": {
    "execution": {
     "iopub.execute_input": "2025-07-28T10:57:46.334844Z",
     "iopub.status.busy": "2025-07-28T10:57:46.334403Z",
     "iopub.status.idle": "2025-07-28T10:57:46.343824Z",
     "shell.execute_reply": "2025-07-28T10:57:46.342778Z"
    },
    "papermill": {
     "duration": 0.090557,
     "end_time": "2025-07-28T10:57:46.347325",
     "exception": false,
     "start_time": "2025-07-28T10:57:46.256768",
     "status": "completed"
    },
    "tags": []
   },
   "outputs": [
    {
     "data": {
      "text/plain": [
       "{'frau1': 0.916996899851732,\n",
       " 'nongerman': 0.9119744007185763,\n",
       " 'nongerman_male': 0.9256056921552733,\n",
       " 'nongerman_female': 0.8894187779433681}"
      ]
     },
     "execution_count": 62,
     "metadata": {},
     "output_type": "execute_result"
    }
   ],
   "source": [
    "cond_coverage"
   ]
  },
  {
   "cell_type": "code",
   "execution_count": 63,
   "id": "f5093324-c3dd-4d63-bc4c-8d945e5c8bbb",
   "metadata": {
    "execution": {
     "iopub.execute_input": "2025-07-28T10:57:46.478353Z",
     "iopub.status.busy": "2025-07-28T10:57:46.477866Z",
     "iopub.status.idle": "2025-07-28T10:57:46.487624Z",
     "shell.execute_reply": "2025-07-28T10:57:46.486218Z"
    },
    "papermill": {
     "duration": 0.065249,
     "end_time": "2025-07-28T10:57:46.489903",
     "exception": false,
     "start_time": "2025-07-28T10:57:46.424654",
     "status": "completed"
    },
    "tags": []
   },
   "outputs": [],
   "source": [
    "for subgroup, cov in cond_coverage.items():\n",
    "    cp_metrics_df[f\"cov_{subgroup}\"] = cov"
   ]
  },
  {
   "cell_type": "code",
   "execution_count": 64,
   "id": "6e872e10-dbe5-49e8-b554-5030c98ff75d",
   "metadata": {
    "execution": {
     "iopub.execute_input": "2025-07-28T10:57:46.623194Z",
     "iopub.status.busy": "2025-07-28T10:57:46.622746Z",
     "iopub.status.idle": "2025-07-28T10:57:46.665273Z",
     "shell.execute_reply": "2025-07-28T10:57:46.658235Z"
    },
    "papermill": {
     "duration": 0.106411,
     "end_time": "2025-07-28T10:57:46.667099",
     "exception": false,
     "start_time": "2025-07-28T10:57:46.560688",
     "status": "completed"
    },
    "tags": []
   },
   "outputs": [
    {
     "data": {
      "text/html": [
       "<div>\n",
       "<style scoped>\n",
       "    .dataframe tbody tr th:only-of-type {\n",
       "        vertical-align: middle;\n",
       "    }\n",
       "\n",
       "    .dataframe tbody tr th {\n",
       "        vertical-align: top;\n",
       "    }\n",
       "\n",
       "    .dataframe thead th {\n",
       "        text-align: right;\n",
       "    }\n",
       "</style>\n",
       "<table border=\"1\" class=\"dataframe\">\n",
       "  <thead>\n",
       "    <tr style=\"text-align: right;\">\n",
       "      <th></th>\n",
       "      <th>universe_id</th>\n",
       "      <th>universe_training_size</th>\n",
       "      <th>universe_scale</th>\n",
       "      <th>universe_model</th>\n",
       "      <th>universe_exclude_features</th>\n",
       "      <th>universe_exclude_subgroups</th>\n",
       "      <th>q_hat</th>\n",
       "      <th>coverage</th>\n",
       "      <th>avg_size</th>\n",
       "      <th>cov_frau1</th>\n",
       "      <th>cov_nongerman</th>\n",
       "      <th>cov_nongerman_male</th>\n",
       "      <th>cov_nongerman_female</th>\n",
       "    </tr>\n",
       "  </thead>\n",
       "  <tbody>\n",
       "    <tr>\n",
       "      <th>0</th>\n",
       "      <td>1b68740ae09ed1a62854149204af98b0</td>\n",
       "      <td>2014</td>\n",
       "      <td>scale</td>\n",
       "      <td>rf</td>\n",
       "      <td>nationality-sex</td>\n",
       "      <td>drop-non-german</td>\n",
       "      <td>0.66</td>\n",
       "      <td>0.917022</td>\n",
       "      <td>1.142838</td>\n",
       "      <td>0.916997</td>\n",
       "      <td>0.911974</td>\n",
       "      <td>0.925606</td>\n",
       "      <td>0.889419</td>\n",
       "    </tr>\n",
       "  </tbody>\n",
       "</table>\n",
       "</div>"
      ],
      "text/plain": [
       "                        universe_id universe_training_size universe_scale  \\\n",
       "0  1b68740ae09ed1a62854149204af98b0                   2014          scale   \n",
       "\n",
       "  universe_model universe_exclude_features universe_exclude_subgroups  q_hat  \\\n",
       "0             rf           nationality-sex            drop-non-german   0.66   \n",
       "\n",
       "   coverage  avg_size  cov_frau1  cov_nongerman  cov_nongerman_male  \\\n",
       "0  0.917022  1.142838   0.916997       0.911974            0.925606   \n",
       "\n",
       "   cov_nongerman_female  \n",
       "0              0.889419  "
      ]
     },
     "execution_count": 64,
     "metadata": {},
     "output_type": "execute_result"
    }
   ],
   "source": [
    "cp_metrics_df"
   ]
  },
  {
   "cell_type": "markdown",
   "id": "33774451",
   "metadata": {
    "papermill": {
     "duration": 0.091419,
     "end_time": "2025-07-28T10:57:46.808370",
     "exception": false,
     "start_time": "2025-07-28T10:57:46.716951",
     "status": "completed"
    },
    "tags": []
   },
   "source": [
    "# (Fairness) Metrics"
   ]
  },
  {
   "cell_type": "code",
   "execution_count": 65,
   "id": "debc5d62",
   "metadata": {
    "execution": {
     "iopub.execute_input": "2025-07-28T10:57:46.958385Z",
     "iopub.status.busy": "2025-07-28T10:57:46.957888Z",
     "iopub.status.idle": "2025-07-28T10:57:46.987306Z",
     "shell.execute_reply": "2025-07-28T10:57:46.986161Z"
    },
    "papermill": {
     "duration": 0.136759,
     "end_time": "2025-07-28T10:57:46.993281",
     "exception": false,
     "start_time": "2025-07-28T10:57:46.856522",
     "status": "completed"
    },
    "tags": []
   },
   "outputs": [],
   "source": [
    "# do I need to include maxdeutsch1.missing?\n",
    "\n",
    "import numpy as np\n",
    "\n",
    "colname_to_bin = \"maxdeutsch1\"\n",
    "majority_value = org_train[colname_to_bin].mode()[0]\n",
    "\n",
    "org_test[\"majmin\"] = np.where(org_test[colname_to_bin] == majority_value, \"majority\", \"minority\")"
   ]
  },
  {
   "cell_type": "code",
   "execution_count": 66,
   "id": "06a50de5",
   "metadata": {
    "execution": {
     "iopub.execute_input": "2025-07-28T10:57:47.166276Z",
     "iopub.status.busy": "2025-07-28T10:57:47.165831Z",
     "iopub.status.idle": "2025-07-28T10:57:50.351784Z",
     "shell.execute_reply": "2025-07-28T10:57:50.350962Z"
    },
    "papermill": {
     "duration": 3.277641,
     "end_time": "2025-07-28T10:57:50.353761",
     "exception": false,
     "start_time": "2025-07-28T10:57:47.076120",
     "status": "completed"
    },
    "tags": []
   },
   "outputs": [],
   "source": [
    "example_universe = universe.copy()\n",
    "example_universe[\"cutoff\"] = example_universe[\"cutoff\"][0]\n",
    "example_universe[\"eval_fairness_grouping\"] = example_universe[\"eval_fairness_grouping\"][0]\n",
    "fairness_dict, metric_frame = universe_analysis.compute_metrics(\n",
    "    example_universe,\n",
    "    y_pred_prob=probs_test,\n",
    "    y_test=y_true,\n",
    "    org_test=org_test,\n",
    ")"
   ]
  },
  {
   "cell_type": "markdown",
   "id": "f95d4e02",
   "metadata": {
    "papermill": {
     "duration": 0.02503,
     "end_time": "2025-07-28T10:57:50.410861",
     "exception": false,
     "start_time": "2025-07-28T10:57:50.385831",
     "status": "completed"
    },
    "tags": []
   },
   "source": [
    "# Overall"
   ]
  },
  {
   "cell_type": "markdown",
   "id": "bdee4871",
   "metadata": {
    "papermill": {
     "duration": 0.026784,
     "end_time": "2025-07-28T10:57:50.463117",
     "exception": false,
     "start_time": "2025-07-28T10:57:50.436333",
     "status": "completed"
    },
    "tags": []
   },
   "source": [
    "Fairness\n",
    "Main fairness target: Equalized Odds. Seems to be a better fit than equal opportunity, since we're not only interested in Y = 1. Seems to be a better fit than demographic parity, since we also care about accuracy, not just equal distribution of preds.\n",
    "\n",
    "Pick column for computation of fairness metrics\n",
    "\n",
    "Performance\n",
    "Overall performance measures, most interesting in relation to the measures split by group below"
   ]
  },
  {
   "cell_type": "code",
   "execution_count": 67,
   "id": "c4e067c6",
   "metadata": {
    "execution": {
     "iopub.execute_input": "2025-07-28T10:57:50.517847Z",
     "iopub.status.busy": "2025-07-28T10:57:50.517348Z",
     "iopub.status.idle": "2025-07-28T10:57:50.527100Z",
     "shell.execute_reply": "2025-07-28T10:57:50.526083Z"
    },
    "papermill": {
     "duration": 0.039631,
     "end_time": "2025-07-28T10:57:50.528921",
     "exception": false,
     "start_time": "2025-07-28T10:57:50.489290",
     "status": "completed"
    },
    "tags": []
   },
   "outputs": [
    {
     "data": {
      "text/plain": [
       "accuracy                   0.212719\n",
       "balanced accuracy          0.537390\n",
       "f1                         0.240953\n",
       "precision                  0.137480\n",
       "false positive rate        0.899325\n",
       "false negative rate        0.025895\n",
       "selection rate             0.908918\n",
       "count                  89710.000000\n",
       "dtype: float64"
      ]
     },
     "execution_count": 67,
     "metadata": {},
     "output_type": "execute_result"
    }
   ],
   "source": [
    "metric_frame.overall"
   ]
  },
  {
   "cell_type": "markdown",
   "id": "e968fe9d",
   "metadata": {
    "papermill": {
     "duration": 0.026252,
     "end_time": "2025-07-28T10:57:50.581827",
     "exception": false,
     "start_time": "2025-07-28T10:57:50.555575",
     "status": "completed"
    },
    "tags": []
   },
   "source": [
    "By Group"
   ]
  },
  {
   "cell_type": "code",
   "execution_count": 68,
   "id": "ec325bce",
   "metadata": {
    "execution": {
     "iopub.execute_input": "2025-07-28T10:57:50.665127Z",
     "iopub.status.busy": "2025-07-28T10:57:50.664702Z",
     "iopub.status.idle": "2025-07-28T10:57:50.682096Z",
     "shell.execute_reply": "2025-07-28T10:57:50.680997Z"
    },
    "papermill": {
     "duration": 0.061512,
     "end_time": "2025-07-28T10:57:50.684216",
     "exception": false,
     "start_time": "2025-07-28T10:57:50.622704",
     "status": "completed"
    },
    "tags": []
   },
   "outputs": [
    {
     "data": {
      "text/html": [
       "<div>\n",
       "<style scoped>\n",
       "    .dataframe tbody tr th:only-of-type {\n",
       "        vertical-align: middle;\n",
       "    }\n",
       "\n",
       "    .dataframe tbody tr th {\n",
       "        vertical-align: top;\n",
       "    }\n",
       "\n",
       "    .dataframe thead th {\n",
       "        text-align: right;\n",
       "    }\n",
       "</style>\n",
       "<table border=\"1\" class=\"dataframe\">\n",
       "  <thead>\n",
       "    <tr style=\"text-align: right;\">\n",
       "      <th></th>\n",
       "      <th>accuracy</th>\n",
       "      <th>balanced accuracy</th>\n",
       "      <th>f1</th>\n",
       "      <th>precision</th>\n",
       "      <th>false positive rate</th>\n",
       "      <th>false negative rate</th>\n",
       "      <th>selection rate</th>\n",
       "      <th>count</th>\n",
       "    </tr>\n",
       "    <tr>\n",
       "      <th>majmin</th>\n",
       "      <th></th>\n",
       "      <th></th>\n",
       "      <th></th>\n",
       "      <th></th>\n",
       "      <th></th>\n",
       "      <th></th>\n",
       "      <th></th>\n",
       "      <th></th>\n",
       "    </tr>\n",
       "  </thead>\n",
       "  <tbody>\n",
       "    <tr>\n",
       "      <th>majority</th>\n",
       "      <td>0.201952</td>\n",
       "      <td>0.536465</td>\n",
       "      <td>0.247112</td>\n",
       "      <td>0.141152</td>\n",
       "      <td>0.918208</td>\n",
       "      <td>0.008862</td>\n",
       "      <td>0.927844</td>\n",
       "      <td>69170.0</td>\n",
       "    </tr>\n",
       "    <tr>\n",
       "      <th>minority</th>\n",
       "      <td>0.248978</td>\n",
       "      <td>0.535707</td>\n",
       "      <td>0.218066</td>\n",
       "      <td>0.123906</td>\n",
       "      <td>0.836947</td>\n",
       "      <td>0.091639</td>\n",
       "      <td>0.845180</td>\n",
       "      <td>20540.0</td>\n",
       "    </tr>\n",
       "  </tbody>\n",
       "</table>\n",
       "</div>"
      ],
      "text/plain": [
       "          accuracy  balanced accuracy        f1  precision  \\\n",
       "majmin                                                       \n",
       "majority  0.201952           0.536465  0.247112   0.141152   \n",
       "minority  0.248978           0.535707  0.218066   0.123906   \n",
       "\n",
       "          false positive rate  false negative rate  selection rate    count  \n",
       "majmin                                                                       \n",
       "majority             0.918208             0.008862        0.927844  69170.0  \n",
       "minority             0.836947             0.091639        0.845180  20540.0  "
      ]
     },
     "execution_count": 68,
     "metadata": {},
     "output_type": "execute_result"
    }
   ],
   "source": [
    "metric_frame.by_group"
   ]
  },
  {
   "cell_type": "code",
   "execution_count": 69,
   "id": "a9ddbe63",
   "metadata": {
    "execution": {
     "iopub.execute_input": "2025-07-28T10:57:50.753949Z",
     "iopub.status.busy": "2025-07-28T10:57:50.753257Z",
     "iopub.status.idle": "2025-07-28T10:57:52.911216Z",
     "shell.execute_reply": "2025-07-28T10:57:52.910082Z"
    },
    "papermill": {
     "duration": 2.193033,
     "end_time": "2025-07-28T10:57:52.913360",
     "exception": false,
     "start_time": "2025-07-28T10:57:50.720327",
     "status": "completed"
    },
    "tags": []
   },
   "outputs": [
    {
     "data": {
      "text/plain": [
       "array([[<Axes: title={'center': 'accuracy'}, xlabel='majmin'>,\n",
       "        <Axes: title={'center': 'balanced accuracy'}, xlabel='majmin'>,\n",
       "        <Axes: title={'center': 'f1'}, xlabel='majmin'>],\n",
       "       [<Axes: title={'center': 'precision'}, xlabel='majmin'>,\n",
       "        <Axes: title={'center': 'false positive rate'}, xlabel='majmin'>,\n",
       "        <Axes: title={'center': 'false negative rate'}, xlabel='majmin'>],\n",
       "       [<Axes: title={'center': 'selection rate'}, xlabel='majmin'>,\n",
       "        <Axes: title={'center': 'count'}, xlabel='majmin'>,\n",
       "        <Axes: xlabel='majmin'>]], dtype=object)"
      ]
     },
     "execution_count": 69,
     "metadata": {},
     "output_type": "execute_result"
    },
    {
     "data": {
      "image/png": "[encoded data removed]",
      "text/plain": [
       "<Figure size 1200x800 with 9 Axes>"
      ]
     },
     "metadata": {},
     "output_type": "display_data"
    }
   ],
   "source": [
    "# In a graphic\n",
    "metric_frame.by_group.plot.bar(\n",
    "    subplots=True,\n",
    "    layout=[3, 3],\n",
    "    legend=False,\n",
    "    figsize=[12, 8],\n",
    "    title=\"Show all metrics\",\n",
    ")"
   ]
  },
  {
   "cell_type": "markdown",
   "id": "f57a0bac",
   "metadata": {
    "papermill": {
     "duration": 0.01902,
     "end_time": "2025-07-28T10:57:52.971100",
     "exception": false,
     "start_time": "2025-07-28T10:57:52.952080",
     "status": "completed"
    },
    "tags": []
   },
   "source": [
    "# Final Output"
   ]
  },
  {
   "cell_type": "code",
   "execution_count": 70,
   "id": "96d280a3",
   "metadata": {
    "execution": {
     "iopub.execute_input": "2025-07-28T10:57:53.002970Z",
     "iopub.status.busy": "2025-07-28T10:57:53.002204Z",
     "iopub.status.idle": "2025-07-28T10:57:53.012220Z",
     "shell.execute_reply": "2025-07-28T10:57:53.011101Z"
    },
    "papermill": {
     "duration": 0.02794,
     "end_time": "2025-07-28T10:57:53.013986",
     "exception": false,
     "start_time": "2025-07-28T10:57:52.986046",
     "status": "completed"
    },
    "tags": []
   },
   "outputs": [
    {
     "data": {
      "text/plain": [
       "4"
      ]
     },
     "execution_count": 70,
     "metadata": {},
     "output_type": "execute_result"
    }
   ],
   "source": [
    "sub_universes = universe_analysis.generate_sub_universes()\n",
    "len(sub_universes)"
   ]
  },
  {
   "cell_type": "code",
   "execution_count": 71,
   "id": "92adf7ba",
   "metadata": {
    "execution": {
     "iopub.execute_input": "2025-07-28T10:57:53.051433Z",
     "iopub.status.busy": "2025-07-28T10:57:53.050996Z",
     "iopub.status.idle": "2025-07-28T10:57:53.056001Z",
     "shell.execute_reply": "2025-07-28T10:57:53.055255Z"
    },
    "papermill": {
     "duration": 0.023208,
     "end_time": "2025-07-28T10:57:53.057379",
     "exception": false,
     "start_time": "2025-07-28T10:57:53.034171",
     "status": "completed"
    },
    "tags": []
   },
   "outputs": [],
   "source": [
    "def filter_sub_universe_data(sub_universe, org_test):\n",
    "    # Keep all rows — no filtering\n",
    "    keep_rows_mask = np.ones(org_test.shape[0], dtype=bool)\n",
    "\n",
    "    print(f\"[INFO] Keeping all rows: {keep_rows_mask.sum()} rows retained.\")\n",
    "    return keep_rows_mask"
   ]
  },
  {
   "cell_type": "code",
   "execution_count": 72,
   "id": "4a759155",
   "metadata": {
    "execution": {
     "iopub.execute_input": "2025-07-28T10:57:53.110270Z",
     "iopub.status.busy": "2025-07-28T10:57:53.109784Z",
     "iopub.status.idle": "2025-07-28T10:58:01.527148Z",
     "shell.execute_reply": "2025-07-28T10:58:01.526419Z"
    },
    "papermill": {
     "duration": 8.45535,
     "end_time": "2025-07-28T10:58:01.528524",
     "exception": false,
     "start_time": "2025-07-28T10:57:53.073174",
     "status": "completed"
    },
    "tags": []
   },
   "outputs": [
    {
     "name": "stdout",
     "output_type": "stream",
     "text": [
      "Stopping execution_time clock.\n",
      "[INFO] Keeping all rows: 89710 rows retained.\n"
     ]
    },
    {
     "name": "stdout",
     "output_type": "stream",
     "text": [
      "[INFO] Keeping all rows: 89710 rows retained.\n"
     ]
    },
    {
     "name": "stdout",
     "output_type": "stream",
     "text": [
      "[INFO] Keeping all rows: 89710 rows retained.\n"
     ]
    },
    {
     "name": "stdout",
     "output_type": "stream",
     "text": [
      "[INFO] Keeping all rows: 89710 rows retained.\n"
     ]
    },
    {
     "data": {
      "text/html": [
       "<div>\n",
       "<style scoped>\n",
       "    .dataframe tbody tr th:only-of-type {\n",
       "        vertical-align: middle;\n",
       "    }\n",
       "\n",
       "    .dataframe tbody tr th {\n",
       "        vertical-align: top;\n",
       "    }\n",
       "\n",
       "    .dataframe thead th {\n",
       "        text-align: right;\n",
       "    }\n",
       "</style>\n",
       "<table border=\"1\" class=\"dataframe\">\n",
       "  <thead>\n",
       "    <tr style=\"text-align: right;\">\n",
       "      <th></th>\n",
       "      <th>run_no</th>\n",
       "      <th>universe_id</th>\n",
       "      <th>universe_settings</th>\n",
       "      <th>execution_time</th>\n",
       "      <th>test_size_n</th>\n",
       "      <th>test_size_frac</th>\n",
       "      <th>fair_main_equalized_odds_difference</th>\n",
       "      <th>fair_main_equalized_odds_ratio</th>\n",
       "      <th>fair_main_demographic_parity_difference</th>\n",
       "      <th>fair_main_demographic_parity_ratio</th>\n",
       "      <th>...</th>\n",
       "      <th>perf_grp_precision_0</th>\n",
       "      <th>perf_grp_precision_1</th>\n",
       "      <th>perf_grp_false positive rate_0</th>\n",
       "      <th>perf_grp_false positive rate_1</th>\n",
       "      <th>perf_grp_false negative rate_0</th>\n",
       "      <th>perf_grp_false negative rate_1</th>\n",
       "      <th>perf_grp_selection rate_0</th>\n",
       "      <th>perf_grp_selection rate_1</th>\n",
       "      <th>perf_grp_count_0</th>\n",
       "      <th>perf_grp_count_1</th>\n",
       "    </tr>\n",
       "  </thead>\n",
       "  <tbody>\n",
       "    <tr>\n",
       "      <th>0</th>\n",
       "      <td>11</td>\n",
       "      <td>1b68740ae09ed1a62854149204af98b0</td>\n",
       "      <td>{\"cutoff\": \"quantile_0.1\", \"eval_fairness_grou...</td>\n",
       "      <td>62.343326</td>\n",
       "      <td>89710</td>\n",
       "      <td>1.0</td>\n",
       "      <td>0.082776</td>\n",
       "      <td>0.911501</td>\n",
       "      <td>0.082664</td>\n",
       "      <td>0.910907</td>\n",
       "      <td>...</td>\n",
       "      <td>NaN</td>\n",
       "      <td>NaN</td>\n",
       "      <td>NaN</td>\n",
       "      <td>NaN</td>\n",
       "      <td>NaN</td>\n",
       "      <td>NaN</td>\n",
       "      <td>NaN</td>\n",
       "      <td>NaN</td>\n",
       "      <td>NaN</td>\n",
       "      <td>NaN</td>\n",
       "    </tr>\n",
       "    <tr>\n",
       "      <th>0</th>\n",
       "      <td>11</td>\n",
       "      <td>1b68740ae09ed1a62854149204af98b0</td>\n",
       "      <td>{\"cutoff\": \"quantile_0.1\", \"eval_fairness_grou...</td>\n",
       "      <td>62.343326</td>\n",
       "      <td>89710</td>\n",
       "      <td>1.0</td>\n",
       "      <td>0.082776</td>\n",
       "      <td>0.911501</td>\n",
       "      <td>0.082664</td>\n",
       "      <td>0.910907</td>\n",
       "      <td>...</td>\n",
       "      <td>0.123906</td>\n",
       "      <td>0.141152</td>\n",
       "      <td>0.836947</td>\n",
       "      <td>0.918208</td>\n",
       "      <td>0.091639</td>\n",
       "      <td>0.008862</td>\n",
       "      <td>0.845180</td>\n",
       "      <td>0.927844</td>\n",
       "      <td>20540.0</td>\n",
       "      <td>69170.0</td>\n",
       "    </tr>\n",
       "    <tr>\n",
       "      <th>0</th>\n",
       "      <td>11</td>\n",
       "      <td>1b68740ae09ed1a62854149204af98b0</td>\n",
       "      <td>{\"cutoff\": \"quantile_0.25\", \"eval_fairness_gro...</td>\n",
       "      <td>62.343326</td>\n",
       "      <td>89710</td>\n",
       "      <td>1.0</td>\n",
       "      <td>0.131271</td>\n",
       "      <td>0.862690</td>\n",
       "      <td>0.092611</td>\n",
       "      <td>0.879949</td>\n",
       "      <td>...</td>\n",
       "      <td>NaN</td>\n",
       "      <td>NaN</td>\n",
       "      <td>NaN</td>\n",
       "      <td>NaN</td>\n",
       "      <td>NaN</td>\n",
       "      <td>NaN</td>\n",
       "      <td>NaN</td>\n",
       "      <td>NaN</td>\n",
       "      <td>NaN</td>\n",
       "      <td>NaN</td>\n",
       "    </tr>\n",
       "    <tr>\n",
       "      <th>0</th>\n",
       "      <td>11</td>\n",
       "      <td>1b68740ae09ed1a62854149204af98b0</td>\n",
       "      <td>{\"cutoff\": \"quantile_0.25\", \"eval_fairness_gro...</td>\n",
       "      <td>62.343326</td>\n",
       "      <td>89710</td>\n",
       "      <td>1.0</td>\n",
       "      <td>0.131271</td>\n",
       "      <td>0.862690</td>\n",
       "      <td>0.092611</td>\n",
       "      <td>0.879949</td>\n",
       "      <td>...</td>\n",
       "      <td>0.140070</td>\n",
       "      <td>0.163756</td>\n",
       "      <td>0.659806</td>\n",
       "      <td>0.743328</td>\n",
       "      <td>0.175253</td>\n",
       "      <td>0.043982</td>\n",
       "      <td>0.678822</td>\n",
       "      <td>0.771433</td>\n",
       "      <td>20540.0</td>\n",
       "      <td>69170.0</td>\n",
       "    </tr>\n",
       "  </tbody>\n",
       "</table>\n",
       "<p>4 rows × 50 columns</p>\n",
       "</div>"
      ],
      "text/plain": [
       "  run_no                       universe_id  \\\n",
       "0     11  1b68740ae09ed1a62854149204af98b0   \n",
       "0     11  1b68740ae09ed1a62854149204af98b0   \n",
       "0     11  1b68740ae09ed1a62854149204af98b0   \n",
       "0     11  1b68740ae09ed1a62854149204af98b0   \n",
       "\n",
       "                                   universe_settings  execution_time  \\\n",
       "0  {\"cutoff\": \"quantile_0.1\", \"eval_fairness_grou...       62.343326   \n",
       "0  {\"cutoff\": \"quantile_0.1\", \"eval_fairness_grou...       62.343326   \n",
       "0  {\"cutoff\": \"quantile_0.25\", \"eval_fairness_gro...       62.343326   \n",
       "0  {\"cutoff\": \"quantile_0.25\", \"eval_fairness_gro...       62.343326   \n",
       "\n",
       "   test_size_n  test_size_frac  fair_main_equalized_odds_difference  \\\n",
       "0        89710             1.0                             0.082776   \n",
       "0        89710             1.0                             0.082776   \n",
       "0        89710             1.0                             0.131271   \n",
       "0        89710             1.0                             0.131271   \n",
       "\n",
       "   fair_main_equalized_odds_ratio  fair_main_demographic_parity_difference  \\\n",
       "0                        0.911501                                 0.082664   \n",
       "0                        0.911501                                 0.082664   \n",
       "0                        0.862690                                 0.092611   \n",
       "0                        0.862690                                 0.092611   \n",
       "\n",
       "   fair_main_demographic_parity_ratio  ...  perf_grp_precision_0  \\\n",
       "0                            0.910907  ...                   NaN   \n",
       "0                            0.910907  ...              0.123906   \n",
       "0                            0.879949  ...                   NaN   \n",
       "0                            0.879949  ...              0.140070   \n",
       "\n",
       "   perf_grp_precision_1  perf_grp_false positive rate_0  \\\n",
       "0                   NaN                             NaN   \n",
       "0              0.141152                        0.836947   \n",
       "0                   NaN                             NaN   \n",
       "0              0.163756                        0.659806   \n",
       "\n",
       "   perf_grp_false positive rate_1  perf_grp_false negative rate_0  \\\n",
       "0                             NaN                             NaN   \n",
       "0                        0.918208                        0.091639   \n",
       "0                             NaN                             NaN   \n",
       "0                        0.743328                        0.175253   \n",
       "\n",
       "   perf_grp_false negative rate_1  perf_grp_selection rate_0  \\\n",
       "0                             NaN                        NaN   \n",
       "0                        0.008862                   0.845180   \n",
       "0                             NaN                        NaN   \n",
       "0                        0.043982                   0.678822   \n",
       "\n",
       "   perf_grp_selection rate_1  perf_grp_count_0  perf_grp_count_1  \n",
       "0                        NaN               NaN               NaN  \n",
       "0                   0.927844           20540.0           69170.0  \n",
       "0                        NaN               NaN               NaN  \n",
       "0                   0.771433           20540.0           69170.0  \n",
       "\n",
       "[4 rows x 50 columns]"
      ]
     },
     "execution_count": 72,
     "metadata": {},
     "output_type": "execute_result"
    }
   ],
   "source": [
    "final_output = universe_analysis.generate_final_output(\n",
    "    y_pred_prob=probs_test,\n",
    "    y_test=y_true,\n",
    "    org_test=org_test,\n",
    "    filter_data=filter_sub_universe_data,\n",
    "    cp_metrics_df=cp_metrics_df,\n",
    "    save=True,\n",
    ")\n",
    "final_output"
   ]
  },
  {
   "cell_type": "code",
   "execution_count": null,
   "id": "721ff514-cb11-46f8-b6fc-50392f74b5cb",
   "metadata": {
    "papermill": {
     "duration": 0.016069,
     "end_time": "2025-07-28T10:58:01.563250",
     "exception": false,
     "start_time": "2025-07-28T10:58:01.547181",
     "status": "completed"
    },
    "tags": []
   },
   "outputs": [],
   "source": []
  }
 ],
 "metadata": {
  "celltoolbar": "Tags",
  "kernelspec": {
   "display_name": "Python (CMA Fairness)",
   "language": "python",
   "name": "cma_fair_env"
  },
  "language_info": {
   "codemirror_mode": {
    "name": "ipython",
    "version": 3
   },
   "file_extension": ".py",
   "mimetype": "text/x-python",
   "name": "python",
   "nbconvert_exporter": "python",
   "pygments_lexer": "ipython3",
   "version": "3.10.12"
  },
  "papermill": {
   "default_parameters": {},
   "duration": 78.604648,
   "end_time": "2025-07-28T10:58:02.397955",
   "environment_variables": {},
   "exception": null,
   "input_path": "universe_analysis.ipynb",
   "output_path": "output/runs/11/notebooks/m_11-1b68740ae09ed1a62854149204af98b0.ipynb",
   "parameters": {
    "output_dir": "output",
    "run_no": "11",
    "seed": "2023",
    "universe": "{\"cutoff\": [\"quantile_0.1\", \"quantile_0.25\"], \"eval_fairness_grouping\": [\"majority-minority\", \"nationality-all\"], \"exclude_features\": \"nationality-sex\", \"exclude_subgroups\": \"drop-non-german\", \"model\": \"rf\", \"scale\": \"scale\", \"training_size\": \"2014\"}",
    "universe_id": "1b68740ae09ed1a62854149204af98b0"
   },
   "start_time": "2025-07-28T10:56:43.793307",
   "version": "2.6.0"
  }
 },
 "nbformat": 4,
 "nbformat_minor": 5
}