{
 "cells": [
  {
   "cell_type": "code",
   "execution_count": 1,
   "id": "f159f837-637b-42ba-96b5-ec9a68c44524",
   "metadata": {
    "execution": {
     "iopub.execute_input": "2025-07-28T11:05:11.552257Z",
     "iopub.status.busy": "2025-07-28T11:05:11.551719Z",
     "iopub.status.idle": "2025-07-28T11:05:11.567480Z",
     "shell.execute_reply": "2025-07-28T11:05:11.566450Z"
    },
    "papermill": {
     "duration": 0.038757,
     "end_time": "2025-07-28T11:05:11.569258",
     "exception": false,
     "start_time": "2025-07-28T11:05:11.530501",
     "status": "completed"
    },
    "tags": []
   },
   "outputs": [
    {
     "name": "stdout",
     "output_type": "stream",
     "text": [
      "/dss/dsshome1/0C/ra93lal2/cma/CMA_Fairness_v2\n"
     ]
    },
    {
     "name": "stderr",
     "output_type": "stream",
     "text": [
      "/dss/dsshome1/0C/ra93lal2/.local/share/virtualenvs/CMA_Fairness_v2-3j10GkSs/lib/python3.10/site-packages/IPython/core/magics/osm.py:393: UserWarning: This is now an optional IPython functionality, using bookmarks requires you to install the `pickleshare` library.\n",
      "  bkms = self.shell.db.get('bookmarks', {})\n",
      "/dss/dsshome1/0C/ra93lal2/.local/share/virtualenvs/CMA_Fairness_v2-3j10GkSs/lib/python3.10/site-packages/IPython/core/magics/osm.py:417: UserWarning: This is now an optional IPython functionality, setting dhist requires you to install the `pickleshare` library.\n",
      "  self.shell.db['dhist'] = compress_dhist(dhist)[-100:]\n"
     ]
    }
   ],
   "source": [
    "%cd ~/cma/CMA_Fairness_v2"
   ]
  },
  {
   "cell_type": "markdown",
   "id": "de2603b9",
   "metadata": {
    "papermill": {
     "duration": 0.020115,
     "end_time": "2025-07-28T11:05:11.610228",
     "exception": false,
     "start_time": "2025-07-28T11:05:11.590113",
     "status": "completed"
    },
    "tags": []
   },
   "source": [
    "The following cell holds the definition of our parameters, these values can be overriden by rendering the with e.g. the following command:\n",
    "\n",
    "papermill -p alpha 0.2 -p ratio 0.3 universe_analysis.ipynb output/test_run.ipynb"
   ]
  },
  {
   "cell_type": "code",
   "execution_count": 2,
   "id": "a80968a0-40bb-4fa9-85ef-2d5eefb01975",
   "metadata": {
    "execution": {
     "iopub.execute_input": "2025-07-28T11:05:11.650403Z",
     "iopub.status.busy": "2025-07-28T11:05:11.649896Z",
     "iopub.status.idle": "2025-07-28T11:05:11.655684Z",
     "shell.execute_reply": "2025-07-28T11:05:11.654741Z"
    },
    "papermill": {
     "duration": 0.028322,
     "end_time": "2025-07-28T11:05:11.657450",
     "exception": false,
     "start_time": "2025-07-28T11:05:11.629128",
     "status": "completed"
    },
    "tags": []
   },
   "outputs": [
    {
     "name": "stdout",
     "output_type": "stream",
     "text": [
      "Current working directory: /dss/dsshome1/0C/ra93lal2/cma/CMA_Fairness_v2\n"
     ]
    }
   ],
   "source": [
    "import os\n",
    "print(\"Current working directory:\", os.getcwd())"
   ]
  },
  {
   "cell_type": "code",
   "execution_count": 3,
   "id": "2dce4c03",
   "metadata": {
    "execution": {
     "iopub.execute_input": "2025-07-28T11:05:11.700330Z",
     "iopub.status.busy": "2025-07-28T11:05:11.699924Z",
     "iopub.status.idle": "2025-07-28T11:05:11.718003Z",
     "shell.execute_reply": "2025-07-28T11:05:11.716981Z"
    },
    "papermill": {
     "duration": 0.041212,
     "end_time": "2025-07-28T11:05:11.719783",
     "exception": false,
     "start_time": "2025-07-28T11:05:11.678571",
     "status": "completed"
    },
    "tags": [
     "parameters"
    ]
   },
   "outputs": [],
   "source": [
    "run_no = 0\n",
    "universe_id = \"test\"\n",
    "universe = {\n",
    "    \"training_size\": \"2014\", # \"25k\", \"5k\", \"1k\", \"2014\"\n",
    "    \"scale\": \"scale\", # \"scale\", \"do-not-scale\",\n",
    "    #\"stratify_split\": \"target\", # \"none\", \"target\", \"protected-attribute\", \"both\",\n",
    "    \"model\": \"elasticnet\", # \"logreg\", \"penalized_logreg\", \"rf\", \"gbm\", \"elasticnet\"\n",
    "    \"cutoff\": [\"quantile_0.15\", \"quantile_0.30\"],\n",
    "    \"exclude_features\": \"age\", # \"none\", \"nationality\", \"sex\", \"nationality-sex\", \"age\"\n",
    "    \"exclude_subgroups\": \"keep-all\", # \"keep-all\", \"drop-non-german\"\n",
    "    \"eval_fairness_grouping\": [\"majority-minority\", \"nationality-all\"]\n",
    "}\n",
    "\n",
    "output_dir=\"./output\"\n",
    "seed=0"
   ]
  },
  {
   "cell_type": "code",
   "execution_count": 4,
   "id": "9c16b927",
   "metadata": {
    "execution": {
     "iopub.execute_input": "2025-07-28T11:05:11.763327Z",
     "iopub.status.busy": "2025-07-28T11:05:11.762864Z",
     "iopub.status.idle": "2025-07-28T11:05:11.768444Z",
     "shell.execute_reply": "2025-07-28T11:05:11.767490Z"
    },
    "papermill": {
     "duration": 0.029255,
     "end_time": "2025-07-28T11:05:11.770367",
     "exception": false,
     "start_time": "2025-07-28T11:05:11.741112",
     "status": "completed"
    },
    "tags": [
     "injected-parameters"
    ]
   },
   "outputs": [],
   "source": [
    "# Parameters\n",
    "universe_id = \"6d72a59ffd12b9f68917bd38b21dd449\"\n",
    "run_no = \"11\"\n",
    "universe = \"{\\\"cutoff\\\": [\\\"quantile_0.1\\\", \\\"quantile_0.25\\\"], \\\"eval_fairness_grouping\\\": [\\\"majority-minority\\\", \\\"nationality-all\\\"], \\\"exclude_features\\\": \\\"none\\\", \\\"exclude_subgroups\\\": \\\"drop-non-german\\\", \\\"model\\\": \\\"rf\\\", \\\"scale\\\": \\\"do-not-scale\\\", \\\"training_size\\\": \\\"2014\\\"}\"\n",
    "output_dir = \"output\"\n",
    "seed = \"2023\"\n"
   ]
  },
  {
   "cell_type": "code",
   "execution_count": 5,
   "id": "1650acaf",
   "metadata": {
    "execution": {
     "iopub.execute_input": "2025-07-28T11:05:11.813456Z",
     "iopub.status.busy": "2025-07-28T11:05:11.813064Z",
     "iopub.status.idle": "2025-07-28T11:05:11.818039Z",
     "shell.execute_reply": "2025-07-28T11:05:11.817076Z"
    },
    "papermill": {
     "duration": 0.028557,
     "end_time": "2025-07-28T11:05:11.819676",
     "exception": false,
     "start_time": "2025-07-28T11:05:11.791119",
     "status": "completed"
    },
    "tags": []
   },
   "outputs": [],
   "source": [
    "import json\n",
    "# Parse universe into dict if it is passed as a string\n",
    "if isinstance(universe, str):\n",
    "    universe = json.loads(universe)"
   ]
  },
  {
   "cell_type": "code",
   "execution_count": 6,
   "id": "16620c48",
   "metadata": {
    "execution": {
     "iopub.execute_input": "2025-07-28T11:05:11.863012Z",
     "iopub.status.busy": "2025-07-28T11:05:11.862419Z",
     "iopub.status.idle": "2025-07-28T11:05:11.909551Z",
     "shell.execute_reply": "2025-07-28T11:05:11.908572Z"
    },
    "papermill": {
     "duration": 0.070845,
     "end_time": "2025-07-28T11:05:11.911412",
     "exception": false,
     "start_time": "2025-07-28T11:05:11.840567",
     "status": "completed"
    },
    "tags": []
   },
   "outputs": [],
   "source": [
    "# Auto-reload the custom package\n",
    "%load_ext autoreload\n",
    "%autoreload 1\n",
    "%aimport fairness_multiverse"
   ]
  },
  {
   "cell_type": "code",
   "execution_count": 7,
   "id": "01c5c9f3",
   "metadata": {
    "execution": {
     "iopub.execute_input": "2025-07-28T11:05:11.955617Z",
     "iopub.status.busy": "2025-07-28T11:05:11.954749Z",
     "iopub.status.idle": "2025-07-28T11:05:13.844946Z",
     "shell.execute_reply": "2025-07-28T11:05:13.844132Z"
    },
    "papermill": {
     "duration": 1.91335,
     "end_time": "2025-07-28T11:05:13.846529",
     "exception": false,
     "start_time": "2025-07-28T11:05:11.933179",
     "status": "completed"
    },
    "tags": []
   },
   "outputs": [],
   "source": [
    "from fairness_multiverse.universe import UniverseAnalysis\n",
    "\n",
    "universe_analysis = UniverseAnalysis(\n",
    "    run_no = run_no,\n",
    "    universe_id = universe_id,\n",
    "    universe = universe,\n",
    "    output_dir=output_dir,\n",
    ")"
   ]
  },
  {
   "cell_type": "code",
   "execution_count": 8,
   "id": "106241f5",
   "metadata": {
    "execution": {
     "iopub.execute_input": "2025-07-28T11:05:13.869466Z",
     "iopub.status.busy": "2025-07-28T11:05:13.868902Z",
     "iopub.status.idle": "2025-07-28T11:05:13.875417Z",
     "shell.execute_reply": "2025-07-28T11:05:13.874704Z"
    },
    "papermill": {
     "duration": 0.019454,
     "end_time": "2025-07-28T11:05:13.876845",
     "exception": false,
     "start_time": "2025-07-28T11:05:13.857391",
     "status": "completed"
    },
    "tags": []
   },
   "outputs": [
    {
     "name": "stdout",
     "output_type": "stream",
     "text": [
      "Using Seed: 2023\n"
     ]
    }
   ],
   "source": [
    "import numpy as np\n",
    "parsed_seed = int(seed)\n",
    "np.random.seed(parsed_seed)\n",
    "print(f\"Using Seed: {parsed_seed}\")"
   ]
  },
  {
   "cell_type": "markdown",
   "id": "e0ebdc57",
   "metadata": {
    "papermill": {
     "duration": 0.010248,
     "end_time": "2025-07-28T11:05:13.897885",
     "exception": false,
     "start_time": "2025-07-28T11:05:13.887637",
     "status": "completed"
    },
    "tags": []
   },
   "source": [
    "# Loading Data"
   ]
  },
  {
   "cell_type": "markdown",
   "id": "681925a3",
   "metadata": {
    "papermill": {
     "duration": 0.010191,
     "end_time": "2025-07-28T11:05:13.918442",
     "exception": false,
     "start_time": "2025-07-28T11:05:13.908251",
     "status": "completed"
    },
    "tags": []
   },
   "source": [
    "Load siab_train, siab_test, siab_calib and/or \n",
    "load siab_train_features, siab_train_labels"
   ]
  },
  {
   "cell_type": "code",
   "execution_count": 9,
   "id": "f0496b8a",
   "metadata": {
    "execution": {
     "iopub.execute_input": "2025-07-28T11:05:13.940890Z",
     "iopub.status.busy": "2025-07-28T11:05:13.940490Z",
     "iopub.status.idle": "2025-07-28T11:05:32.043208Z",
     "shell.execute_reply": "2025-07-28T11:05:32.042010Z"
    },
    "papermill": {
     "duration": 18.11598,
     "end_time": "2025-07-28T11:05:32.044771",
     "exception": false,
     "start_time": "2025-07-28T11:05:13.928791",
     "status": "completed"
    },
    "tags": []
   },
   "outputs": [
    {
     "name": "stdout",
     "output_type": "stream",
     "text": [
      "Loading SIAB data from cache: data/siab_cached.csv.gz\n"
     ]
    },
    {
     "name": "stdout",
     "output_type": "stream",
     "text": [
      "(643690, 164)\n"
     ]
    }
   ],
   "source": [
    "from pathlib import Path\n",
    "import pandas as pd\n",
    "\n",
    "# File paths\n",
    "raw_file = Path(\"data/raw/siab.csv\")\n",
    "cache_file = Path(\"data/siab_cached.csv.gz\")\n",
    "\n",
    "# Ensure cache directory exists\n",
    "cache_file.parent.mkdir(parents=True, exist_ok=True)\n",
    "\n",
    "# Load with simple caching\n",
    "if cache_file.exists():\n",
    "    print(f\"Loading SIAB data from cache: {cache_file}\")\n",
    "    siab = pd.read_csv(cache_file, compression='gzip')\n",
    "else:\n",
    "    print(f\"Cache not found. Reading raw SIAB data: {raw_file}\")\n",
    "    siab = pd.read_csv(raw_file)\n",
    "    siab.to_csv(cache_file, index=False, compression='gzip')\n",
    "    print(f\"Cached SIAB data to: {cache_file}\")\n",
    "\n",
    "# Now use `siab` DataFrame as needed\n",
    "print(siab.shape)"
   ]
  },
  {
   "cell_type": "code",
   "execution_count": 10,
   "id": "db0ca512-5f53-4dba-abdb-a2888bca41ba",
   "metadata": {
    "execution": {
     "iopub.execute_input": "2025-07-28T11:05:32.132764Z",
     "iopub.status.busy": "2025-07-28T11:05:32.132297Z",
     "iopub.status.idle": "2025-07-28T11:05:32.139860Z",
     "shell.execute_reply": "2025-07-28T11:05:32.138944Z"
    },
    "papermill": {
     "duration": 0.058526,
     "end_time": "2025-07-28T11:05:32.142269",
     "exception": false,
     "start_time": "2025-07-28T11:05:32.083743",
     "status": "completed"
    },
    "tags": []
   },
   "outputs": [],
   "source": [
    "#siab"
   ]
  },
  {
   "cell_type": "code",
   "execution_count": 11,
   "id": "a0edb063",
   "metadata": {
    "execution": {
     "iopub.execute_input": "2025-07-28T11:05:32.182393Z",
     "iopub.status.busy": "2025-07-28T11:05:32.181926Z",
     "iopub.status.idle": "2025-07-28T11:05:32.186859Z",
     "shell.execute_reply": "2025-07-28T11:05:32.185903Z"
    },
    "papermill": {
     "duration": 0.028091,
     "end_time": "2025-07-28T11:05:32.188499",
     "exception": false,
     "start_time": "2025-07-28T11:05:32.160408",
     "status": "completed"
    },
    "tags": []
   },
   "outputs": [],
   "source": [
    "#import pandas as pd\n",
    "#\n",
    "#X_train = pd.read_csv(\"./data/X_train.csv\")\n",
    "#y_train = pd.read_csv(\"./data/y_train.csv\")"
   ]
  },
  {
   "cell_type": "code",
   "execution_count": 12,
   "id": "63d08085",
   "metadata": {
    "execution": {
     "iopub.execute_input": "2025-07-28T11:05:32.215920Z",
     "iopub.status.busy": "2025-07-28T11:05:32.215456Z",
     "iopub.status.idle": "2025-07-28T11:05:32.219655Z",
     "shell.execute_reply": "2025-07-28T11:05:32.218876Z"
    },
    "papermill": {
     "duration": 0.016767,
     "end_time": "2025-07-28T11:05:32.220950",
     "exception": false,
     "start_time": "2025-07-28T11:05:32.204183",
     "status": "completed"
    },
    "tags": []
   },
   "outputs": [],
   "source": [
    "#X_test = pd.read_csv(\"./data/X_test.csv\")\n",
    "#y_true = pd.read_csv(\"./data/y_test.csv\")"
   ]
  },
  {
   "cell_type": "code",
   "execution_count": 13,
   "id": "98a8d0fa-1d3d-4ed8-bb2c-281470e24add",
   "metadata": {
    "execution": {
     "iopub.execute_input": "2025-07-28T11:05:32.243238Z",
     "iopub.status.busy": "2025-07-28T11:05:32.242779Z",
     "iopub.status.idle": "2025-07-28T11:05:32.247056Z",
     "shell.execute_reply": "2025-07-28T11:05:32.246295Z"
    },
    "papermill": {
     "duration": 0.016754,
     "end_time": "2025-07-28T11:05:32.248396",
     "exception": false,
     "start_time": "2025-07-28T11:05:32.231642",
     "status": "completed"
    },
    "tags": []
   },
   "outputs": [],
   "source": [
    "# Calibration data for conformal\n",
    "#X_calib = pd.read_csv(\"./data/X_calib.csv\")\n",
    "#y_calib = pd.read_csv(\"./data/y_calib.csv\")"
   ]
  },
  {
   "cell_type": "markdown",
   "id": "9901737e-04df-44f0-9100-f5ad144ed040",
   "metadata": {
    "papermill": {
     "duration": 0.016023,
     "end_time": "2025-07-28T11:05:32.275028",
     "exception": false,
     "start_time": "2025-07-28T11:05:32.259005",
     "status": "completed"
    },
    "tags": []
   },
   "source": [
    "# Splitting Data and Setting Training Data Size"
   ]
  },
  {
   "cell_type": "code",
   "execution_count": 14,
   "id": "acbc8f7d-8fc8-4e86-8c59-5dcb0f58384b",
   "metadata": {
    "execution": {
     "iopub.execute_input": "2025-07-28T11:05:32.298440Z",
     "iopub.status.busy": "2025-07-28T11:05:32.298078Z",
     "iopub.status.idle": "2025-07-28T11:05:32.304446Z",
     "shell.execute_reply": "2025-07-28T11:05:32.303632Z"
    },
    "papermill": {
     "duration": 0.01901,
     "end_time": "2025-07-28T11:05:32.305836",
     "exception": false,
     "start_time": "2025-07-28T11:05:32.286826",
     "status": "completed"
    },
    "tags": []
   },
   "outputs": [],
   "source": [
    "def sample_by_year(df, training_size, random_state=42):\n",
    "    if training_size == \"2014\":\n",
    "        return df[df[\"year\"] == 2014].reset_index(drop=True)\n",
    "    \n",
    "    size_map = {\n",
    "        \"25k\": 5000,\n",
    "        \"5k\": 1000,\n",
    "        \"1k\": 200\n",
    "    }\n",
    "\n",
    "    if training_size not in size_map:\n",
    "        return df.reset_index(drop=True)  # use all data\n",
    "\n",
    "    n_per_year = size_map[training_size]\n",
    "    grouped = df.groupby(\"year\")\n",
    "    sampled = grouped.apply(lambda x: x.sample(n=min(n_per_year, len(x)), random_state=random_state))\n",
    "    return sampled.reset_index(drop=True)"
   ]
  },
  {
   "cell_type": "code",
   "execution_count": 15,
   "id": "6d931f52-beaf-43ff-9e78-9d44a448d54e",
   "metadata": {
    "execution": {
     "iopub.execute_input": "2025-07-28T11:05:32.346923Z",
     "iopub.status.busy": "2025-07-28T11:05:32.346494Z",
     "iopub.status.idle": "2025-07-28T11:05:32.546372Z",
     "shell.execute_reply": "2025-07-28T11:05:32.545289Z"
    },
    "papermill": {
     "duration": 0.230335,
     "end_time": "2025-07-28T11:05:32.548814",
     "exception": false,
     "start_time": "2025-07-28T11:05:32.318479",
     "status": "completed"
    },
    "tags": []
   },
   "outputs": [],
   "source": [
    "siab_s = sample_by_year(siab, universe[\"training_size\"])"
   ]
  },
  {
   "cell_type": "code",
   "execution_count": 16,
   "id": "5db0a40e-a4e2-4920-be85-b12ae061d70d",
   "metadata": {
    "execution": {
     "iopub.execute_input": "2025-07-28T11:05:32.686418Z",
     "iopub.status.busy": "2025-07-28T11:05:32.685316Z",
     "iopub.status.idle": "2025-07-28T11:05:32.721275Z",
     "shell.execute_reply": "2025-07-28T11:05:32.716132Z"
    },
    "papermill": {
     "duration": 0.137532,
     "end_time": "2025-07-28T11:05:32.727640",
     "exception": false,
     "start_time": "2025-07-28T11:05:32.590108",
     "status": "completed"
    },
    "tags": []
   },
   "outputs": [
    {
     "data": {
      "text/plain": [
       "year\n",
       "2014    87158\n",
       "dtype: int64"
      ]
     },
     "metadata": {},
     "output_type": "display_data"
    }
   ],
   "source": [
    "display(siab_s.groupby(\"year\").size())"
   ]
  },
  {
   "cell_type": "code",
   "execution_count": 17,
   "id": "a561edb4-d032-42cb-8256-22eac1111c64",
   "metadata": {
    "execution": {
     "iopub.execute_input": "2025-07-28T11:05:32.844013Z",
     "iopub.status.busy": "2025-07-28T11:05:32.843516Z",
     "iopub.status.idle": "2025-07-28T11:05:33.551536Z",
     "shell.execute_reply": "2025-07-28T11:05:33.550448Z"
    },
    "papermill": {
     "duration": 0.745951,
     "end_time": "2025-07-28T11:05:33.554146",
     "exception": false,
     "start_time": "2025-07-28T11:05:32.808195",
     "status": "completed"
    },
    "tags": []
   },
   "outputs": [],
   "source": [
    "siab_train = siab_s[siab_s.year < 2015]\n",
    "siab_calib = siab[siab.year == 2015]\n",
    "siab_test = siab[siab.year == 2016]"
   ]
  },
  {
   "cell_type": "code",
   "execution_count": 18,
   "id": "472de16f-c3db-4916-846b-1f0de9cf1746",
   "metadata": {
    "execution": {
     "iopub.execute_input": "2025-07-28T11:05:33.662805Z",
     "iopub.status.busy": "2025-07-28T11:05:33.661642Z",
     "iopub.status.idle": "2025-07-28T11:05:33.786216Z",
     "shell.execute_reply": "2025-07-28T11:05:33.785045Z"
    },
    "papermill": {
     "duration": 0.186464,
     "end_time": "2025-07-28T11:05:33.787717",
     "exception": false,
     "start_time": "2025-07-28T11:05:33.601253",
     "status": "completed"
    },
    "tags": []
   },
   "outputs": [],
   "source": [
    "X_train = siab_train.iloc[:,4:164]\n",
    "y_train = siab_train.iloc[:, [3]]"
   ]
  },
  {
   "cell_type": "code",
   "execution_count": 19,
   "id": "828c96af-f43a-4ed6-ba47-8ac73a47d56c",
   "metadata": {
    "execution": {
     "iopub.execute_input": "2025-07-28T11:05:33.825693Z",
     "iopub.status.busy": "2025-07-28T11:05:33.824864Z",
     "iopub.status.idle": "2025-07-28T11:05:33.879321Z",
     "shell.execute_reply": "2025-07-28T11:05:33.878127Z"
    },
    "papermill": {
     "duration": 0.080833,
     "end_time": "2025-07-28T11:05:33.880805",
     "exception": false,
     "start_time": "2025-07-28T11:05:33.799972",
     "status": "completed"
    },
    "tags": []
   },
   "outputs": [],
   "source": [
    "X_calib = siab_calib.iloc[:,4:164]\n",
    "y_calib = siab_calib.iloc[:, [3]]"
   ]
  },
  {
   "cell_type": "code",
   "execution_count": 20,
   "id": "c34be9c3-6bd6-476e-acd3-845840e303be",
   "metadata": {
    "execution": {
     "iopub.execute_input": "2025-07-28T11:05:33.906300Z",
     "iopub.status.busy": "2025-07-28T11:05:33.905897Z",
     "iopub.status.idle": "2025-07-28T11:05:33.962627Z",
     "shell.execute_reply": "2025-07-28T11:05:33.961572Z"
    },
    "papermill": {
     "duration": 0.071218,
     "end_time": "2025-07-28T11:05:33.964845",
     "exception": false,
     "start_time": "2025-07-28T11:05:33.893627",
     "status": "completed"
    },
    "tags": []
   },
   "outputs": [],
   "source": [
    "X_test = siab_test.iloc[:,4:164]\n",
    "y_true = siab_test.iloc[:, [3]]"
   ]
  },
  {
   "cell_type": "code",
   "execution_count": 21,
   "id": "e6c733c5",
   "metadata": {
    "execution": {
     "iopub.execute_input": "2025-07-28T11:05:34.010738Z",
     "iopub.status.busy": "2025-07-28T11:05:34.010326Z",
     "iopub.status.idle": "2025-07-28T11:05:34.147967Z",
     "shell.execute_reply": "2025-07-28T11:05:34.146989Z"
    },
    "papermill": {
     "duration": 0.173554,
     "end_time": "2025-07-28T11:05:34.161606",
     "exception": false,
     "start_time": "2025-07-28T11:05:33.988052",
     "status": "completed"
    },
    "tags": []
   },
   "outputs": [],
   "source": [
    "# Auxiliary data needed downstream in the pipeline\n",
    "\n",
    "org_train = X_train.copy()\n",
    "org_test = X_test.copy()\n",
    "org_calib = X_calib.copy()"
   ]
  },
  {
   "cell_type": "markdown",
   "id": "0a4a1b33",
   "metadata": {
    "papermill": {
     "duration": 0.038787,
     "end_time": "2025-07-28T11:05:34.291415",
     "exception": false,
     "start_time": "2025-07-28T11:05:34.252628",
     "status": "completed"
    },
    "tags": []
   },
   "source": [
    "# Preprocessing Data"
   ]
  },
  {
   "cell_type": "code",
   "execution_count": 22,
   "id": "ca879031",
   "metadata": {
    "execution": {
     "iopub.execute_input": "2025-07-28T11:05:34.433456Z",
     "iopub.status.busy": "2025-07-28T11:05:34.433004Z",
     "iopub.status.idle": "2025-07-28T11:05:34.440366Z",
     "shell.execute_reply": "2025-07-28T11:05:34.439124Z"
    },
    "papermill": {
     "duration": 0.069926,
     "end_time": "2025-07-28T11:05:34.442172",
     "exception": false,
     "start_time": "2025-07-28T11:05:34.372246",
     "status": "completed"
    },
    "tags": []
   },
   "outputs": [],
   "source": [
    "# EXCLUDE PROTECTED FEATURES\n",
    "# ----------------------\n",
    "# \"exclude_features\": \"none\", # \"nationality\", \"sex\", \"nationality-sex\"\n",
    "\n",
    "excluded_features = universe[\"exclude_features\"].split(\"-\") # split, e.g.: \"nationality-sex\" -> [\"nationality\", \"sex\"]\n",
    "excluded_features_dictionary = {\n",
    "    \"nationality\": [\"maxdeutsch1\", \"maxdeutsch.Missing.\"],\n",
    "    \"sex\": [\"frau1\"],\n",
    "    \"age\": [\"age\"],\n",
    "}\n"
   ]
  },
  {
   "cell_type": "code",
   "execution_count": 23,
   "id": "b745ac60",
   "metadata": {
    "execution": {
     "iopub.execute_input": "2025-07-28T11:05:34.531110Z",
     "iopub.status.busy": "2025-07-28T11:05:34.530590Z",
     "iopub.status.idle": "2025-07-28T11:05:34.537885Z",
     "shell.execute_reply": "2025-07-28T11:05:34.536857Z"
    },
    "papermill": {
     "duration": 0.059075,
     "end_time": "2025-07-28T11:05:34.539444",
     "exception": false,
     "start_time": "2025-07-28T11:05:34.480369",
     "status": "completed"
    },
    "tags": []
   },
   "outputs": [],
   "source": [
    "# Code nice names to column names\n",
    "\n",
    "excluded_features_columns = [\n",
    "    excluded_features_dictionary[f] for f in excluded_features if len(f) > 0 and f != \"none\"\n",
    "]"
   ]
  },
  {
   "cell_type": "code",
   "execution_count": 24,
   "id": "f84f73a2",
   "metadata": {
    "execution": {
     "iopub.execute_input": "2025-07-28T11:05:34.641527Z",
     "iopub.status.busy": "2025-07-28T11:05:34.641123Z",
     "iopub.status.idle": "2025-07-28T11:05:34.647713Z",
     "shell.execute_reply": "2025-07-28T11:05:34.646792Z"
    },
    "papermill": {
     "duration": 0.068087,
     "end_time": "2025-07-28T11:05:34.649259",
     "exception": false,
     "start_time": "2025-07-28T11:05:34.581172",
     "status": "completed"
    },
    "tags": []
   },
   "outputs": [],
   "source": [
    "from utils import flatten_once\n",
    "\n",
    "excluded_features_columns = flatten_once(excluded_features_columns)"
   ]
  },
  {
   "cell_type": "code",
   "execution_count": 25,
   "id": "884dea22",
   "metadata": {
    "execution": {
     "iopub.execute_input": "2025-07-28T11:05:34.728996Z",
     "iopub.status.busy": "2025-07-28T11:05:34.728549Z",
     "iopub.status.idle": "2025-07-28T11:05:34.735637Z",
     "shell.execute_reply": "2025-07-28T11:05:34.734428Z"
    },
    "papermill": {
     "duration": 0.04584,
     "end_time": "2025-07-28T11:05:34.745922",
     "exception": false,
     "start_time": "2025-07-28T11:05:34.700082",
     "status": "completed"
    },
    "tags": []
   },
   "outputs": [],
   "source": [
    "if len(excluded_features_columns) > 0:\n",
    "    print(f\"Dropping features: {excluded_features_columns}\")\n",
    "    X_train.drop(excluded_features_columns, axis=1, inplace=True)"
   ]
  },
  {
   "cell_type": "code",
   "execution_count": 26,
   "id": "95ab8b16",
   "metadata": {
    "execution": {
     "iopub.execute_input": "2025-07-28T11:05:34.860629Z",
     "iopub.status.busy": "2025-07-28T11:05:34.860183Z",
     "iopub.status.idle": "2025-07-28T11:05:34.866566Z",
     "shell.execute_reply": "2025-07-28T11:05:34.865525Z"
    },
    "papermill": {
     "duration": 0.051125,
     "end_time": "2025-07-28T11:05:34.869888",
     "exception": false,
     "start_time": "2025-07-28T11:05:34.818763",
     "status": "completed"
    },
    "tags": []
   },
   "outputs": [],
   "source": [
    "if len(excluded_features_columns) > 0:\n",
    "    print(f\"Dropping features: {excluded_features_columns}\")\n",
    "    X_test.drop(excluded_features_columns, axis=1, inplace=True)"
   ]
  },
  {
   "cell_type": "code",
   "execution_count": 27,
   "id": "1853aaf5-fb9f-46cb-a2b5-8ea4ae2237e4",
   "metadata": {
    "execution": {
     "iopub.execute_input": "2025-07-28T11:05:34.971415Z",
     "iopub.status.busy": "2025-07-28T11:05:34.970984Z",
     "iopub.status.idle": "2025-07-28T11:05:34.977782Z",
     "shell.execute_reply": "2025-07-28T11:05:34.976548Z"
    },
    "papermill": {
     "duration": 0.064451,
     "end_time": "2025-07-28T11:05:34.981752",
     "exception": false,
     "start_time": "2025-07-28T11:05:34.917301",
     "status": "completed"
    },
    "tags": []
   },
   "outputs": [],
   "source": [
    "if len(excluded_features_columns) > 0:\n",
    "    print(f\"Dropping features: {excluded_features_columns}\")\n",
    "    X_calib.drop(excluded_features_columns, axis=1, inplace=True)"
   ]
  },
  {
   "cell_type": "code",
   "execution_count": 28,
   "id": "6727d079-03e5-481e-9d38-292a90b7a0a8",
   "metadata": {
    "execution": {
     "iopub.execute_input": "2025-07-28T11:05:35.140967Z",
     "iopub.status.busy": "2025-07-28T11:05:35.140521Z",
     "iopub.status.idle": "2025-07-28T11:05:35.146173Z",
     "shell.execute_reply": "2025-07-28T11:05:35.145215Z"
    },
    "papermill": {
     "duration": 0.084098,
     "end_time": "2025-07-28T11:05:35.149469",
     "exception": false,
     "start_time": "2025-07-28T11:05:35.065371",
     "status": "completed"
    },
    "tags": []
   },
   "outputs": [],
   "source": [
    "# SPLIT & STRATIFY DATA\n",
    "# ----------------------"
   ]
  },
  {
   "cell_type": "code",
   "execution_count": 29,
   "id": "76c4dc6d",
   "metadata": {
    "execution": {
     "iopub.execute_input": "2025-07-28T11:05:35.288202Z",
     "iopub.status.busy": "2025-07-28T11:05:35.287738Z",
     "iopub.status.idle": "2025-07-28T11:05:35.294077Z",
     "shell.execute_reply": "2025-07-28T11:05:35.293085Z"
    },
    "papermill": {
     "duration": 0.084975,
     "end_time": "2025-07-28T11:05:35.295697",
     "exception": false,
     "start_time": "2025-07-28T11:05:35.210722",
     "status": "completed"
    },
    "tags": []
   },
   "outputs": [],
   "source": [
    "# EXCLUDE CERTAIN SUBGROUPS\n",
    "# ----------------------\n",
    "\n",
    "mode = universe.get(\"exclude_subgroups\", \"keep-all\") \n",
    "# Fetches the exclude_subgroups setting from the universe dict.\n",
    "# Defaults to \"keep-all\" if the key is missing."
   ]
  },
  {
   "cell_type": "code",
   "execution_count": 30,
   "id": "21994072",
   "metadata": {
    "execution": {
     "iopub.execute_input": "2025-07-28T11:05:35.443025Z",
     "iopub.status.busy": "2025-07-28T11:05:35.442595Z",
     "iopub.status.idle": "2025-07-28T11:05:35.451330Z",
     "shell.execute_reply": "2025-07-28T11:05:35.450374Z"
    },
    "papermill": {
     "duration": 0.113681,
     "end_time": "2025-07-28T11:05:35.453290",
     "exception": false,
     "start_time": "2025-07-28T11:05:35.339609",
     "status": "completed"
    },
    "tags": []
   },
   "outputs": [],
   "source": [
    "if mode == \"keep-all\":\n",
    "    keep_mask = pd.Series(True, index=org_train.index)\n",
    "\n",
    "# org_train contains the original feature columns from features_org (in Simson)\n",
    "# features_org contains unprocessed features, for me X_train at beginning ???\n",
    "# For keep-all, creates a boolean Series (keep_mask) of all True, so no rows are removed.\n",
    "\n",
    "elif mode == \"drop-non-german\":\n",
    "    keep_mask = org_train[\"maxdeutsch1\"] == 1 # ??? what about missing values?\n",
    "\n",
    "else:\n",
    "    raise ValueError(f\"Unsupported mode for exclude_subgroups: {mode}\")\n"
   ]
  },
  {
   "cell_type": "code",
   "execution_count": 31,
   "id": "71651440",
   "metadata": {
    "execution": {
     "iopub.execute_input": "2025-07-28T11:05:35.503159Z",
     "iopub.status.busy": "2025-07-28T11:05:35.502754Z",
     "iopub.status.idle": "2025-07-28T11:05:35.512618Z",
     "shell.execute_reply": "2025-07-28T11:05:35.511379Z"
    },
    "papermill": {
     "duration": 0.036372,
     "end_time": "2025-07-28T11:05:35.514497",
     "exception": false,
     "start_time": "2025-07-28T11:05:35.478125",
     "status": "completed"
    },
    "tags": []
   },
   "outputs": [
    {
     "name": "stdout",
     "output_type": "stream",
     "text": [
      "Dropping 12995 rows (14.91%) where mode='drop-non-german'\n"
     ]
    }
   ],
   "source": [
    "n_drop = (~keep_mask).sum() # Calculates how many rows are set to be dropped\n",
    "if n_drop > 0:\n",
    "    pct = n_drop / len(keep_mask) * 100\n",
    "    print(f\"Dropping {n_drop} rows ({pct:.2f}%) where mode='{mode}'\")"
   ]
  },
  {
   "cell_type": "code",
   "execution_count": 32,
   "id": "5fb8eee5",
   "metadata": {
    "execution": {
     "iopub.execute_input": "2025-07-28T11:05:35.561921Z",
     "iopub.status.busy": "2025-07-28T11:05:35.561404Z",
     "iopub.status.idle": "2025-07-28T11:05:35.620835Z",
     "shell.execute_reply": "2025-07-28T11:05:35.619699Z"
    },
    "papermill": {
     "duration": 0.08668,
     "end_time": "2025-07-28T11:05:35.622956",
     "exception": false,
     "start_time": "2025-07-28T11:05:35.536276",
     "status": "completed"
    },
    "tags": []
   },
   "outputs": [],
   "source": [
    "X_train = X_train[keep_mask]"
   ]
  },
  {
   "cell_type": "code",
   "execution_count": 33,
   "id": "b202bb3a",
   "metadata": {
    "execution": {
     "iopub.execute_input": "2025-07-28T11:05:35.674012Z",
     "iopub.status.busy": "2025-07-28T11:05:35.673160Z",
     "iopub.status.idle": "2025-07-28T11:05:35.681121Z",
     "shell.execute_reply": "2025-07-28T11:05:35.680224Z"
    },
    "papermill": {
     "duration": 0.035127,
     "end_time": "2025-07-28T11:05:35.682907",
     "exception": false,
     "start_time": "2025-07-28T11:05:35.647780",
     "status": "completed"
    },
    "tags": []
   },
   "outputs": [],
   "source": [
    "y_train = y_train[keep_mask]"
   ]
  },
  {
   "cell_type": "markdown",
   "id": "493e2ac3",
   "metadata": {
    "papermill": {
     "duration": 0.022652,
     "end_time": "2025-07-28T11:05:35.729438",
     "exception": false,
     "start_time": "2025-07-28T11:05:35.706786",
     "status": "completed"
    },
    "tags": []
   },
   "source": [
    "# Model Training"
   ]
  },
  {
   "cell_type": "code",
   "execution_count": 34,
   "id": "679e1268",
   "metadata": {
    "execution": {
     "iopub.execute_input": "2025-07-28T11:05:35.775268Z",
     "iopub.status.busy": "2025-07-28T11:05:35.774300Z",
     "iopub.status.idle": "2025-07-28T11:05:35.888343Z",
     "shell.execute_reply": "2025-07-28T11:05:35.887296Z"
    },
    "papermill": {
     "duration": 0.140875,
     "end_time": "2025-07-28T11:05:35.890503",
     "exception": false,
     "start_time": "2025-07-28T11:05:35.749628",
     "status": "completed"
    },
    "tags": []
   },
   "outputs": [],
   "source": [
    "from sklearn.linear_model import LogisticRegression\n",
    "from sklearn.ensemble import GradientBoostingClassifier, RandomForestClassifier\n",
    "\n",
    "if (universe[\"model\"] == \"logreg\"):\n",
    "    model = LogisticRegression() #penalty=\"none\") #, solver=\"newton-cg\", max_iter=1) # include random_state=19 ?\n",
    "elif (universe[\"model\"] == \"penalized_logreg\"):\n",
    "    model = LogisticRegression(penalty=\"l2\", C=1.0) #, solver=\"newton-cg\", max_iter=1)\n",
    "elif (universe[\"model\"] == \"rf\"):\n",
    "    model = RandomForestClassifier(n_estimators=100, n_jobs=-1)\n",
    "elif (universe[\"model\"] == \"gbm\"):\n",
    "    model = GradientBoostingClassifier()\n",
    "elif (universe[\"model\"] == \"elasticnet\"):\n",
    "    model = LogisticRegression(penalty = 'elasticnet', solver = 'saga', l1_ratio = 0.5, max_iter=5000) # which solver to use?\n",
    "else:\n",
    "    raise \"Unsupported universe.model\""
   ]
  },
  {
   "cell_type": "code",
   "execution_count": 35,
   "id": "0cc8f744",
   "metadata": {
    "execution": {
     "iopub.execute_input": "2025-07-28T11:05:35.937797Z",
     "iopub.status.busy": "2025-07-28T11:05:35.937068Z",
     "iopub.status.idle": "2025-07-28T11:05:35.944361Z",
     "shell.execute_reply": "2025-07-28T11:05:35.943309Z"
    },
    "papermill": {
     "duration": 0.033184,
     "end_time": "2025-07-28T11:05:35.946040",
     "exception": false,
     "start_time": "2025-07-28T11:05:35.912856",
     "status": "completed"
    },
    "tags": []
   },
   "outputs": [],
   "source": [
    "import numpy as np\n",
    "from sklearn.pipeline import Pipeline\n",
    "from sklearn.preprocessing import StandardScaler\n",
    "\n",
    "model = Pipeline([\n",
    "    #(\"continuous_processor\", continuous_processor),\n",
    "    #(\"categorical_preprocessor\", categorical_preprocessor),\n",
    "    (\"scale\", StandardScaler() if universe[\"scale\"] == \"scale\" else None), \n",
    "    (\"model\", model),\n",
    "])"
   ]
  },
  {
   "cell_type": "code",
   "execution_count": 36,
   "id": "9442c04d",
   "metadata": {
    "execution": {
     "iopub.execute_input": "2025-07-28T11:05:35.992766Z",
     "iopub.status.busy": "2025-07-28T11:05:35.991724Z",
     "iopub.status.idle": "2025-07-28T11:05:47.007278Z",
     "shell.execute_reply": "2025-07-28T11:05:47.006540Z"
    },
    "papermill": {
     "duration": 11.040096,
     "end_time": "2025-07-28T11:05:47.008714",
     "exception": false,
     "start_time": "2025-07-28T11:05:35.968618",
     "status": "completed"
    },
    "tags": []
   },
   "outputs": [
    {
     "data": {
      "text/html": [
       "<style>#sk-container-id-1 {color: black;background-color: white;}#sk-container-id-1 pre{padding: 0;}#sk-container-id-1 div.sk-toggleable {background-color: white;}#sk-container-id-1 label.sk-toggleable__label {cursor: pointer;display: block;width: 100%;margin-bottom: 0;padding: 0.3em;box-sizing: border-box;text-align: center;}#sk-container-id-1 label.sk-toggleable__label-arrow:before {content: \"▸\";float: left;margin-right: 0.25em;color: #696969;}#sk-container-id-1 label.sk-toggleable__label-arrow:hover:before {color: black;}#sk-container-id-1 div.sk-estimator:hover label.sk-toggleable__label-arrow:before {color: black;}#sk-container-id-1 div.sk-toggleable__content {max-height: 0;max-width: 0;overflow: hidden;text-align: left;background-color: #f0f8ff;}#sk-container-id-1 div.sk-toggleable__content pre {margin: 0.2em;color: black;border-radius: 0.25em;background-color: #f0f8ff;}#sk-container-id-1 input.sk-toggleable__control:checked~div.sk-toggleable__content {max-height: 200px;max-width: 100%;overflow: auto;}#sk-container-id-1 input.sk-toggleable__control:checked~label.sk-toggleable__label-arrow:before {content: \"▾\";}#sk-container-id-1 div.sk-estimator input.sk-toggleable__control:checked~label.sk-toggleable__label {background-color: #d4ebff;}#sk-container-id-1 div.sk-label input.sk-toggleable__control:checked~label.sk-toggleable__label {background-color: #d4ebff;}#sk-container-id-1 input.sk-hidden--visually {border: 0;clip: rect(1px 1px 1px 1px);clip: rect(1px, 1px, 1px, 1px);height: 1px;margin: -1px;overflow: hidden;padding: 0;position: absolute;width: 1px;}#sk-container-id-1 div.sk-estimator {font-family: monospace;background-color: #f0f8ff;border: 1px dotted black;border-radius: 0.25em;box-sizing: border-box;margin-bottom: 0.5em;}#sk-container-id-1 div.sk-estimator:hover {background-color: #d4ebff;}#sk-container-id-1 div.sk-parallel-item::after {content: \"\";width: 100%;border-bottom: 1px solid gray;flex-grow: 1;}#sk-container-id-1 div.sk-label:hover label.sk-toggleable__label {background-color: #d4ebff;}#sk-container-id-1 div.sk-serial::before {content: \"\";position: absolute;border-left: 1px solid gray;box-sizing: border-box;top: 0;bottom: 0;left: 50%;z-index: 0;}#sk-container-id-1 div.sk-serial {display: flex;flex-direction: column;align-items: center;background-color: white;padding-right: 0.2em;padding-left: 0.2em;position: relative;}#sk-container-id-1 div.sk-item {position: relative;z-index: 1;}#sk-container-id-1 div.sk-parallel {display: flex;align-items: stretch;justify-content: center;background-color: white;position: relative;}#sk-container-id-1 div.sk-item::before, #sk-container-id-1 div.sk-parallel-item::before {content: \"\";position: absolute;border-left: 1px solid gray;box-sizing: border-box;top: 0;bottom: 0;left: 50%;z-index: -1;}#sk-container-id-1 div.sk-parallel-item {display: flex;flex-direction: column;z-index: 1;position: relative;background-color: white;}#sk-container-id-1 div.sk-parallel-item:first-child::after {align-self: flex-end;width: 50%;}#sk-container-id-1 div.sk-parallel-item:last-child::after {align-self: flex-start;width: 50%;}#sk-container-id-1 div.sk-parallel-item:only-child::after {width: 0;}#sk-container-id-1 div.sk-dashed-wrapped {border: 1px dashed gray;margin: 0 0.4em 0.5em 0.4em;box-sizing: border-box;padding-bottom: 0.4em;background-color: white;}#sk-container-id-1 div.sk-label label {font-family: monospace;font-weight: bold;display: inline-block;line-height: 1.2em;}#sk-container-id-1 div.sk-label-container {text-align: center;}#sk-container-id-1 div.sk-container {/* jupyter's `normalize.less` sets `[hidden] { display: none; }` but bootstrap.min.css set `[hidden] { display: none !important; }` so we also need the `!important` here to be able to override the default hidden behavior on the sphinx rendered scikit-learn.org. See: https://github.com/scikit-learn/scikit-learn/issues/21755 */display: inline-block !important;position: relative;}#sk-container-id-1 div.sk-text-repr-fallback {display: none;}</style><div id=\"sk-container-id-1\" class=\"sk-top-container\"><div class=\"sk-text-repr-fallback\"><pre>Pipeline(steps=[(&#x27;scale&#x27;, None), (&#x27;model&#x27;, RandomForestClassifier(n_jobs=-1))])</pre><b>In a Jupyter environment, please rerun this cell to show the HTML representation or trust the notebook. <br />On GitHub, the HTML representation is unable to render, please try loading this page with nbviewer.org.</b></div><div class=\"sk-container\" hidden><div class=\"sk-item sk-dashed-wrapped\"><div class=\"sk-label-container\"><div class=\"sk-label sk-toggleable\"><input class=\"sk-toggleable__control sk-hidden--visually\" id=\"sk-estimator-id-1\" type=\"checkbox\" ><label for=\"sk-estimator-id-1\" class=\"sk-toggleable__label sk-toggleable__label-arrow\">Pipeline</label><div class=\"sk-toggleable__content\"><pre>Pipeline(steps=[(&#x27;scale&#x27;, None), (&#x27;model&#x27;, RandomForestClassifier(n_jobs=-1))])</pre></div></div></div><div class=\"sk-serial\"><div class=\"sk-item\"><div class=\"sk-estimator sk-toggleable\"><input class=\"sk-toggleable__control sk-hidden--visually\" id=\"sk-estimator-id-2\" type=\"checkbox\" ><label for=\"sk-estimator-id-2\" class=\"sk-toggleable__label sk-toggleable__label-arrow\">None</label><div class=\"sk-toggleable__content\"><pre>None</pre></div></div></div><div class=\"sk-item\"><div class=\"sk-estimator sk-toggleable\"><input class=\"sk-toggleable__control sk-hidden--visually\" id=\"sk-estimator-id-3\" type=\"checkbox\" ><label for=\"sk-estimator-id-3\" class=\"sk-toggleable__label sk-toggleable__label-arrow\">RandomForestClassifier</label><div class=\"sk-toggleable__content\"><pre>RandomForestClassifier(n_jobs=-1)</pre></div></div></div></div></div></div></div>"
      ],
      "text/plain": [
       "Pipeline(steps=[('scale', None), ('model', RandomForestClassifier(n_jobs=-1))])"
      ]
     },
     "execution_count": 36,
     "metadata": {},
     "output_type": "execute_result"
    }
   ],
   "source": [
    "model.fit(X_train, y_train.values.ravel())"
   ]
  },
  {
   "cell_type": "code",
   "execution_count": 37,
   "id": "af59f8c0",
   "metadata": {
    "execution": {
     "iopub.execute_input": "2025-07-28T11:05:47.037258Z",
     "iopub.status.busy": "2025-07-28T11:05:47.036463Z",
     "iopub.status.idle": "2025-07-28T11:05:47.041508Z",
     "shell.execute_reply": "2025-07-28T11:05:47.040713Z"
    },
    "papermill": {
     "duration": 0.019658,
     "end_time": "2025-07-28T11:05:47.042897",
     "exception": false,
     "start_time": "2025-07-28T11:05:47.023239",
     "status": "completed"
    },
    "tags": []
   },
   "outputs": [],
   "source": [
    "from fairness_multiverse.universe import predict_w_threshold"
   ]
  },
  {
   "cell_type": "code",
   "execution_count": 38,
   "id": "a7cf2e16",
   "metadata": {
    "execution": {
     "iopub.execute_input": "2025-07-28T11:05:47.069279Z",
     "iopub.status.busy": "2025-07-28T11:05:47.068548Z",
     "iopub.status.idle": "2025-07-28T11:05:48.242416Z",
     "shell.execute_reply": "2025-07-28T11:05:48.241443Z"
    },
    "papermill": {
     "duration": 1.188555,
     "end_time": "2025-07-28T11:05:48.244306",
     "exception": false,
     "start_time": "2025-07-28T11:05:47.055751",
     "status": "completed"
    },
    "tags": []
   },
   "outputs": [
    {
     "data": {
      "text/plain": [
       "0.8666703823431056"
      ]
     },
     "execution_count": 38,
     "metadata": {},
     "output_type": "execute_result"
    }
   ],
   "source": [
    "probs_test = model.predict_proba(X_test)\n",
    "\n",
    "'''\n",
    "Below code returns a boolean array (or binary 0/1 array depending on how it’s used) where each element \n",
    "is True if the probability of class 1 is greater than or equal to the threshold, and False otherwise.\n",
    "'''\n",
    "y_pred_default = predict_w_threshold(probs_test, 0.5)\n",
    "\n",
    "from sklearn.metrics import accuracy_score\n",
    "\n",
    "# Naive prediction\n",
    "accuracy_score(y_true = y_true, y_pred = y_pred_default)"
   ]
  },
  {
   "cell_type": "code",
   "execution_count": 39,
   "id": "081964c3",
   "metadata": {
    "execution": {
     "iopub.execute_input": "2025-07-28T11:05:48.298223Z",
     "iopub.status.busy": "2025-07-28T11:05:48.297628Z",
     "iopub.status.idle": "2025-07-28T11:05:49.661864Z",
     "shell.execute_reply": "2025-07-28T11:05:49.660904Z"
    },
    "papermill": {
     "duration": 1.395227,
     "end_time": "2025-07-28T11:05:49.663658",
     "exception": false,
     "start_time": "2025-07-28T11:05:48.268431",
     "status": "completed"
    },
    "tags": []
   },
   "outputs": [
    {
     "data": {
      "text/plain": [
       "array([0, 0, 0, ..., 0, 0, 0])"
      ]
     },
     "execution_count": 39,
     "metadata": {},
     "output_type": "execute_result"
    }
   ],
   "source": [
    "model.predict(X_test)"
   ]
  },
  {
   "cell_type": "markdown",
   "id": "56c9705b",
   "metadata": {
    "papermill": {
     "duration": 0.024981,
     "end_time": "2025-07-28T11:05:49.731861",
     "exception": false,
     "start_time": "2025-07-28T11:05:49.706880",
     "status": "completed"
    },
    "tags": []
   },
   "source": [
    "# Conformal Prediction"
   ]
  },
  {
   "cell_type": "code",
   "execution_count": 40,
   "id": "160ec6ff",
   "metadata": {
    "execution": {
     "iopub.execute_input": "2025-07-28T11:05:49.782631Z",
     "iopub.status.busy": "2025-07-28T11:05:49.781743Z",
     "iopub.status.idle": "2025-07-28T11:05:49.789252Z",
     "shell.execute_reply": "2025-07-28T11:05:49.788098Z"
    },
    "papermill": {
     "duration": 0.034782,
     "end_time": "2025-07-28T11:05:49.791416",
     "exception": false,
     "start_time": "2025-07-28T11:05:49.756634",
     "status": "completed"
    },
    "tags": []
   },
   "outputs": [],
   "source": [
    "# Miscoverage level for conformal prediction (10% allowed error rate => 90% target coverage)\n",
    "alpha = 0.1"
   ]
  },
  {
   "cell_type": "code",
   "execution_count": 41,
   "id": "eadf4555-3dd3-440e-8e35-f82a4ad9f855",
   "metadata": {
    "execution": {
     "iopub.execute_input": "2025-07-28T11:05:49.843425Z",
     "iopub.status.busy": "2025-07-28T11:05:49.841245Z",
     "iopub.status.idle": "2025-07-28T11:05:51.110879Z",
     "shell.execute_reply": "2025-07-28T11:05:51.109815Z"
    },
    "papermill": {
     "duration": 1.296433,
     "end_time": "2025-07-28T11:05:51.112993",
     "exception": false,
     "start_time": "2025-07-28T11:05:49.816560",
     "status": "completed"
    },
    "tags": []
   },
   "outputs": [],
   "source": [
    "probs_calib = model.predict_proba(X_calib)"
   ]
  },
  {
   "cell_type": "code",
   "execution_count": 42,
   "id": "2ed93547-6d5d-4983-9b36-1ecb300da49a",
   "metadata": {
    "execution": {
     "iopub.execute_input": "2025-07-28T11:05:51.167615Z",
     "iopub.status.busy": "2025-07-28T11:05:51.167069Z",
     "iopub.status.idle": "2025-07-28T11:05:51.173106Z",
     "shell.execute_reply": "2025-07-28T11:05:51.172257Z"
    },
    "papermill": {
     "duration": 0.033651,
     "end_time": "2025-07-28T11:05:51.174435",
     "exception": false,
     "start_time": "2025-07-28T11:05:51.140784",
     "status": "completed"
    },
    "tags": []
   },
   "outputs": [],
   "source": [
    "y_calib = y_calib.values.ravel().astype(int)"
   ]
  },
  {
   "cell_type": "code",
   "execution_count": 43,
   "id": "65d1320d-f588-4b38-9072-62af1ae97f7d",
   "metadata": {
    "execution": {
     "iopub.execute_input": "2025-07-28T11:05:51.201548Z",
     "iopub.status.busy": "2025-07-28T11:05:51.201023Z",
     "iopub.status.idle": "2025-07-28T11:05:51.208382Z",
     "shell.execute_reply": "2025-07-28T11:05:51.207378Z"
    },
    "papermill": {
     "duration": 0.022303,
     "end_time": "2025-07-28T11:05:51.209831",
     "exception": false,
     "start_time": "2025-07-28T11:05:51.187528",
     "status": "completed"
    },
    "tags": []
   },
   "outputs": [],
   "source": [
    "from fairness_multiverse.conformal import compute_nc_scores\n",
    "\n",
    "# Compute nonconformity scores on calibration set (1 - probability of true class)\n",
    "nc_scores = compute_nc_scores(probs_calib, y_calib)"
   ]
  },
  {
   "cell_type": "code",
   "execution_count": 44,
   "id": "df3b8ca3-53b7-43d5-9667-7c85da7aeda2",
   "metadata": {
    "execution": {
     "iopub.execute_input": "2025-07-28T11:05:51.236951Z",
     "iopub.status.busy": "2025-07-28T11:05:51.236482Z",
     "iopub.status.idle": "2025-07-28T11:05:51.243564Z",
     "shell.execute_reply": "2025-07-28T11:05:51.242595Z"
    },
    "papermill": {
     "duration": 0.03497,
     "end_time": "2025-07-28T11:05:51.257609",
     "exception": false,
     "start_time": "2025-07-28T11:05:51.222639",
     "status": "completed"
    },
    "tags": []
   },
   "outputs": [],
   "source": [
    "from fairness_multiverse.conformal import find_threshold\n",
    "\n",
    "# Find conformal threshold q_hat for the given alpha (split conformal method)\n",
    "q_hat = find_threshold(nc_scores, alpha)"
   ]
  },
  {
   "cell_type": "code",
   "execution_count": 45,
   "id": "4d29e6c1-0ef6-4aa4-b8fe-4fe79b0d033a",
   "metadata": {
    "execution": {
     "iopub.execute_input": "2025-07-28T11:05:51.309508Z",
     "iopub.status.busy": "2025-07-28T11:05:51.308990Z",
     "iopub.status.idle": "2025-07-28T11:05:51.316292Z",
     "shell.execute_reply": "2025-07-28T11:05:51.315459Z"
    },
    "papermill": {
     "duration": 0.034759,
     "end_time": "2025-07-28T11:05:51.317777",
     "exception": false,
     "start_time": "2025-07-28T11:05:51.283018",
     "status": "completed"
    },
    "tags": []
   },
   "outputs": [
    {
     "data": {
      "text/plain": [
       "0.6699999999999999"
      ]
     },
     "execution_count": 45,
     "metadata": {},
     "output_type": "execute_result"
    }
   ],
   "source": [
    "q_hat"
   ]
  },
  {
   "cell_type": "code",
   "execution_count": 46,
   "id": "92460794-cdac-4be2-ba28-f28c0515a6fb",
   "metadata": {
    "execution": {
     "iopub.execute_input": "2025-07-28T11:05:51.363218Z",
     "iopub.status.busy": "2025-07-28T11:05:51.362835Z",
     "iopub.status.idle": "2025-07-28T11:05:55.609371Z",
     "shell.execute_reply": "2025-07-28T11:05:55.608109Z"
    },
    "papermill": {
     "duration": 4.271329,
     "end_time": "2025-07-28T11:05:55.611401",
     "exception": false,
     "start_time": "2025-07-28T11:05:51.340072",
     "status": "completed"
    },
    "tags": []
   },
   "outputs": [],
   "source": [
    "from fairness_multiverse.conformal import predict_conformal_sets\n",
    "\n",
    "# Generate prediction sets for each test example\n",
    "pred_sets = predict_conformal_sets(model, X_test, q_hat)"
   ]
  },
  {
   "cell_type": "code",
   "execution_count": 47,
   "id": "d90c9a65-e6db-4f5d-80cd-e68fb7e46829",
   "metadata": {
    "execution": {
     "iopub.execute_input": "2025-07-28T11:05:55.806263Z",
     "iopub.status.busy": "2025-07-28T11:05:55.805793Z",
     "iopub.status.idle": "2025-07-28T11:05:55.812320Z",
     "shell.execute_reply": "2025-07-28T11:05:55.811117Z"
    },
    "papermill": {
     "duration": 0.113819,
     "end_time": "2025-07-28T11:05:55.814027",
     "exception": false,
     "start_time": "2025-07-28T11:05:55.700208",
     "status": "completed"
    },
    "tags": []
   },
   "outputs": [],
   "source": [
    "y_true = y_true.squeeze()"
   ]
  },
  {
   "cell_type": "code",
   "execution_count": 48,
   "id": "3a58a54a-1e68-46b9-927a-df01f18aebc8",
   "metadata": {
    "execution": {
     "iopub.execute_input": "2025-07-28T11:05:56.014284Z",
     "iopub.status.busy": "2025-07-28T11:05:56.013818Z",
     "iopub.status.idle": "2025-07-28T11:05:58.749361Z",
     "shell.execute_reply": "2025-07-28T11:05:58.748118Z"
    },
    "papermill": {
     "duration": 2.835244,
     "end_time": "2025-07-28T11:05:58.751439",
     "exception": false,
     "start_time": "2025-07-28T11:05:55.916195",
     "status": "completed"
    },
    "tags": []
   },
   "outputs": [],
   "source": [
    "from fairness_multiverse.conformal import evaluate_sets\n",
    "\n",
    "# Evaluate coverage and average set size on test data\n",
    "metrics = evaluate_sets(pred_sets, y_true)"
   ]
  },
  {
   "cell_type": "markdown",
   "id": "2b569c12-9aaa-4c88-98c9-bbcd0cf3ebb8",
   "metadata": {
    "papermill": {
     "duration": 0.100246,
     "end_time": "2025-07-28T11:05:58.924406",
     "exception": false,
     "start_time": "2025-07-28T11:05:58.824160",
     "status": "completed"
    },
    "tags": []
   },
   "source": [
    "# CP Metrics"
   ]
  },
  {
   "cell_type": "code",
   "execution_count": 49,
   "id": "5ce0a5cb-201f-45a0-ade5-94c7f0bd6095",
   "metadata": {
    "execution": {
     "iopub.execute_input": "2025-07-28T11:05:59.091232Z",
     "iopub.status.busy": "2025-07-28T11:05:59.090735Z",
     "iopub.status.idle": "2025-07-28T11:05:59.097840Z",
     "shell.execute_reply": "2025-07-28T11:05:59.096887Z"
    },
    "papermill": {
     "duration": 0.092815,
     "end_time": "2025-07-28T11:05:59.099867",
     "exception": false,
     "start_time": "2025-07-28T11:05:59.007052",
     "status": "completed"
    },
    "tags": []
   },
   "outputs": [
    {
     "data": {
      "text/plain": [
       "{'coverage': 0.919596477538736, 'avg_size': 1.1545089733586}"
      ]
     },
     "execution_count": 49,
     "metadata": {},
     "output_type": "execute_result"
    }
   ],
   "source": [
    "metrics"
   ]
  },
  {
   "cell_type": "code",
   "execution_count": 50,
   "id": "9b9a838d-31c9-430b-ae14-12baee460d17",
   "metadata": {
    "execution": {
     "iopub.execute_input": "2025-07-28T11:05:59.254493Z",
     "iopub.status.busy": "2025-07-28T11:05:59.254074Z",
     "iopub.status.idle": "2025-07-28T11:05:59.261334Z",
     "shell.execute_reply": "2025-07-28T11:05:59.260116Z"
    },
    "papermill": {
     "duration": 0.096879,
     "end_time": "2025-07-28T11:05:59.263019",
     "exception": false,
     "start_time": "2025-07-28T11:05:59.166140",
     "status": "completed"
    },
    "tags": []
   },
   "outputs": [],
   "source": [
    "example_universe = universe.copy()\n",
    "universe_training_size = example_universe.get(\"training_size\")\n",
    "universe_scale = example_universe.get(\"scale\")\n",
    "universe_model = example_universe.get(\"model\")\n",
    "universe_exclude_features = example_universe.get(\"exclude_features\")\n",
    "universe_exclude_subgroups = example_universe.get(\"exclude_subgroups\")"
   ]
  },
  {
   "cell_type": "code",
   "execution_count": 51,
   "id": "f4b6a8ac-9dc0-4245-8a91-5b3b5999c4f9",
   "metadata": {
    "execution": {
     "iopub.execute_input": "2025-07-28T11:05:59.400772Z",
     "iopub.status.busy": "2025-07-28T11:05:59.400278Z",
     "iopub.status.idle": "2025-07-28T11:05:59.407453Z",
     "shell.execute_reply": "2025-07-28T11:05:59.406429Z"
    },
    "papermill": {
     "duration": 0.084462,
     "end_time": "2025-07-28T11:05:59.409155",
     "exception": false,
     "start_time": "2025-07-28T11:05:59.324693",
     "status": "completed"
    },
    "tags": []
   },
   "outputs": [],
   "source": [
    "cp_metrics_dict = {\n",
    "    \"universe_id\": [universe_id],\n",
    "    \"universe_training_size\": [universe_training_size],\n",
    "    \"universe_scale\": [universe_scale],\n",
    "    \"universe_model\": [universe_model],\n",
    "    \"universe_exclude_features\": [universe_exclude_features],\n",
    "    \"universe_exclude_subgroups\": [universe_exclude_subgroups],\n",
    "    \"q_hat\": [q_hat],\n",
    "    \"coverage\": [metrics[\"coverage\"]],\n",
    "    \"avg_size\": [metrics[\"avg_size\"]],\n",
    "}"
   ]
  },
  {
   "cell_type": "code",
   "execution_count": 52,
   "id": "908acbb1-0371-4915-85ca-3fa520d2efe2",
   "metadata": {
    "execution": {
     "iopub.execute_input": "2025-07-28T11:05:59.570658Z",
     "iopub.status.busy": "2025-07-28T11:05:59.570190Z",
     "iopub.status.idle": "2025-07-28T11:05:59.578761Z",
     "shell.execute_reply": "2025-07-28T11:05:59.577698Z"
    },
    "papermill": {
     "duration": 0.092156,
     "end_time": "2025-07-28T11:05:59.580451",
     "exception": false,
     "start_time": "2025-07-28T11:05:59.488295",
     "status": "completed"
    },
    "tags": []
   },
   "outputs": [
    {
     "data": {
      "text/plain": [
       "{'universe_id': ['6d72a59ffd12b9f68917bd38b21dd449'],\n",
       " 'universe_training_size': ['2014'],\n",
       " 'universe_scale': ['do-not-scale'],\n",
       " 'universe_model': ['rf'],\n",
       " 'universe_exclude_features': ['none'],\n",
       " 'universe_exclude_subgroups': ['drop-non-german'],\n",
       " 'q_hat': [0.6699999999999999],\n",
       " 'coverage': [0.919596477538736],\n",
       " 'avg_size': [1.1545089733586]}"
      ]
     },
     "execution_count": 52,
     "metadata": {},
     "output_type": "execute_result"
    }
   ],
   "source": [
    "cp_metrics_dict"
   ]
  },
  {
   "cell_type": "code",
   "execution_count": 53,
   "id": "33007efc-14e9-4ec6-97ac-56a455c82265",
   "metadata": {
    "execution": {
     "iopub.execute_input": "2025-07-28T11:05:59.742184Z",
     "iopub.status.busy": "2025-07-28T11:05:59.741760Z",
     "iopub.status.idle": "2025-07-28T11:05:59.749081Z",
     "shell.execute_reply": "2025-07-28T11:05:59.747948Z"
    },
    "papermill": {
     "duration": 0.096372,
     "end_time": "2025-07-28T11:05:59.750652",
     "exception": false,
     "start_time": "2025-07-28T11:05:59.654280",
     "status": "completed"
    },
    "tags": []
   },
   "outputs": [],
   "source": [
    "cp_metrics_df = pd.DataFrame(cp_metrics_dict)"
   ]
  },
  {
   "cell_type": "code",
   "execution_count": 54,
   "id": "db12611b-57b2-4910-b9d0-355adfd6e7bf",
   "metadata": {
    "execution": {
     "iopub.execute_input": "2025-07-28T11:05:59.900340Z",
     "iopub.status.busy": "2025-07-28T11:05:59.899848Z",
     "iopub.status.idle": "2025-07-28T11:05:59.944669Z",
     "shell.execute_reply": "2025-07-28T11:05:59.943325Z"
    },
    "papermill": {
     "duration": 0.121689,
     "end_time": "2025-07-28T11:05:59.946548",
     "exception": false,
     "start_time": "2025-07-28T11:05:59.824859",
     "status": "completed"
    },
    "tags": []
   },
   "outputs": [
    {
     "data": {
      "text/html": [
       "<div>\n",
       "<style scoped>\n",
       "    .dataframe tbody tr th:only-of-type {\n",
       "        vertical-align: middle;\n",
       "    }\n",
       "\n",
       "    .dataframe tbody tr th {\n",
       "        vertical-align: top;\n",
       "    }\n",
       "\n",
       "    .dataframe thead th {\n",
       "        text-align: right;\n",
       "    }\n",
       "</style>\n",
       "<table border=\"1\" class=\"dataframe\">\n",
       "  <thead>\n",
       "    <tr style=\"text-align: right;\">\n",
       "      <th></th>\n",
       "      <th>universe_id</th>\n",
       "      <th>universe_training_size</th>\n",
       "      <th>universe_scale</th>\n",
       "      <th>universe_model</th>\n",
       "      <th>universe_exclude_features</th>\n",
       "      <th>universe_exclude_subgroups</th>\n",
       "      <th>q_hat</th>\n",
       "      <th>coverage</th>\n",
       "      <th>avg_size</th>\n",
       "    </tr>\n",
       "  </thead>\n",
       "  <tbody>\n",
       "    <tr>\n",
       "      <th>0</th>\n",
       "      <td>6d72a59ffd12b9f68917bd38b21dd449</td>\n",
       "      <td>2014</td>\n",
       "      <td>do-not-scale</td>\n",
       "      <td>rf</td>\n",
       "      <td>none</td>\n",
       "      <td>drop-non-german</td>\n",
       "      <td>0.67</td>\n",
       "      <td>0.919596</td>\n",
       "      <td>1.154509</td>\n",
       "    </tr>\n",
       "  </tbody>\n",
       "</table>\n",
       "</div>"
      ],
      "text/plain": [
       "                        universe_id universe_training_size universe_scale  \\\n",
       "0  6d72a59ffd12b9f68917bd38b21dd449                   2014   do-not-scale   \n",
       "\n",
       "  universe_model universe_exclude_features universe_exclude_subgroups  q_hat  \\\n",
       "0             rf                      none            drop-non-german   0.67   \n",
       "\n",
       "   coverage  avg_size  \n",
       "0  0.919596  1.154509  "
      ]
     },
     "execution_count": 54,
     "metadata": {},
     "output_type": "execute_result"
    }
   ],
   "source": [
    "cp_metrics_df"
   ]
  },
  {
   "cell_type": "code",
   "execution_count": 55,
   "id": "b7fbde55-a0a1-47e4-9af6-fe4a17fa8c61",
   "metadata": {
    "execution": {
     "iopub.execute_input": "2025-07-28T11:06:00.090630Z",
     "iopub.status.busy": "2025-07-28T11:06:00.090176Z",
     "iopub.status.idle": "2025-07-28T11:06:00.096703Z",
     "shell.execute_reply": "2025-07-28T11:06:00.095489Z"
    },
    "papermill": {
     "duration": 0.089952,
     "end_time": "2025-07-28T11:06:00.098659",
     "exception": false,
     "start_time": "2025-07-28T11:06:00.008707",
     "status": "completed"
    },
    "tags": []
   },
   "outputs": [],
   "source": [
    "# Conditional Coverage & looking at subgroups"
   ]
  },
  {
   "cell_type": "code",
   "execution_count": 56,
   "id": "027ae886-68dd-4141-96c7-805a5450e1ef",
   "metadata": {
    "execution": {
     "iopub.execute_input": "2025-07-28T11:06:00.267257Z",
     "iopub.status.busy": "2025-07-28T11:06:00.266814Z",
     "iopub.status.idle": "2025-07-28T11:06:01.211411Z",
     "shell.execute_reply": "2025-07-28T11:06:01.210170Z"
    },
    "papermill": {
     "duration": 1.032759,
     "end_time": "2025-07-28T11:06:01.213423",
     "exception": false,
     "start_time": "2025-07-28T11:06:00.180664",
     "status": "completed"
    },
    "tags": []
   },
   "outputs": [],
   "source": [
    "from fairness_multiverse.conformal import build_cp_groups\n",
    "\n",
    "cp_groups_df = build_cp_groups(pred_sets, y_true, X_test.index, org_test)\n",
    "#needs universe_id and setting"
   ]
  },
  {
   "cell_type": "code",
   "execution_count": 57,
   "id": "01d5802c-663a-4d1f-9d69-e036faaffbf7",
   "metadata": {
    "execution": {
     "iopub.execute_input": "2025-07-28T11:06:01.358363Z",
     "iopub.status.busy": "2025-07-28T11:06:01.357870Z",
     "iopub.status.idle": "2025-07-28T11:06:01.363774Z",
     "shell.execute_reply": "2025-07-28T11:06:01.362600Z"
    },
    "papermill": {
     "duration": 0.09558,
     "end_time": "2025-07-28T11:06:01.365660",
     "exception": false,
     "start_time": "2025-07-28T11:06:01.270080",
     "status": "completed"
    },
    "tags": []
   },
   "outputs": [],
   "source": [
    "#delete\n",
    "#cp_groups_df"
   ]
  },
  {
   "cell_type": "code",
   "execution_count": 58,
   "id": "fa424af1-d1eb-443d-b717-2d279ada8408",
   "metadata": {
    "execution": {
     "iopub.execute_input": "2025-07-28T11:06:01.514793Z",
     "iopub.status.busy": "2025-07-28T11:06:01.514322Z",
     "iopub.status.idle": "2025-07-28T11:06:01.527293Z",
     "shell.execute_reply": "2025-07-28T11:06:01.526168Z"
    },
    "papermill": {
     "duration": 0.089901,
     "end_time": "2025-07-28T11:06:01.530606",
     "exception": false,
     "start_time": "2025-07-28T11:06:01.440705",
     "status": "completed"
    },
    "tags": []
   },
   "outputs": [],
   "source": [
    "#delete\n",
    "#percentage = (cp_groups_df['nongerman_female'] == 1).mean() * 100\n",
    "#print(percentage)\n"
   ]
  },
  {
   "cell_type": "code",
   "execution_count": 59,
   "id": "6cbdab96-b2b2-45af-ad54-d0516db2e28d",
   "metadata": {
    "execution": {
     "iopub.execute_input": "2025-07-28T11:06:01.710471Z",
     "iopub.status.busy": "2025-07-28T11:06:01.710015Z",
     "iopub.status.idle": "2025-07-28T11:06:05.074586Z",
     "shell.execute_reply": "2025-07-28T11:06:05.073204Z"
    },
    "papermill": {
     "duration": 3.453877,
     "end_time": "2025-07-28T11:06:05.076721",
     "exception": false,
     "start_time": "2025-07-28T11:06:01.622844",
     "status": "completed"
    },
    "tags": []
   },
   "outputs": [],
   "source": [
    "# Define covered = 1 if true_label is in the predicted set\n",
    "cp_groups_df['covered'] = cp_groups_df.apply(\n",
    "    lambda r: int(r['true_label'] in r['pred_set']),\n",
    "    axis=1\n",
    ")"
   ]
  },
  {
   "cell_type": "code",
   "execution_count": 60,
   "id": "338ff529-1a6b-4b87-a931-8e4788d52aad",
   "metadata": {
    "execution": {
     "iopub.execute_input": "2025-07-28T11:06:05.195440Z",
     "iopub.status.busy": "2025-07-28T11:06:05.194896Z",
     "iopub.status.idle": "2025-07-28T11:06:05.201772Z",
     "shell.execute_reply": "2025-07-28T11:06:05.200736Z"
    },
    "papermill": {
     "duration": 0.067392,
     "end_time": "2025-07-28T11:06:05.203698",
     "exception": false,
     "start_time": "2025-07-28T11:06:05.136306",
     "status": "completed"
    },
    "tags": []
   },
   "outputs": [],
   "source": [
    "#cp_groups_df"
   ]
  },
  {
   "cell_type": "code",
   "execution_count": 61,
   "id": "90032e27-66df-4540-9169-4e89cfbaa758",
   "metadata": {
    "execution": {
     "iopub.execute_input": "2025-07-28T11:06:05.291187Z",
     "iopub.status.busy": "2025-07-28T11:06:05.290729Z",
     "iopub.status.idle": "2025-07-28T11:06:05.309054Z",
     "shell.execute_reply": "2025-07-28T11:06:05.307720Z"
    },
    "papermill": {
     "duration": 0.080235,
     "end_time": "2025-07-28T11:06:05.311229",
     "exception": false,
     "start_time": "2025-07-28T11:06:05.230994",
     "status": "completed"
    },
    "tags": []
   },
   "outputs": [],
   "source": [
    "subgroups = ['frau1','nongerman','nongerman_male','nongerman_female']\n",
    "\n",
    "# Conditional coverage for subgroup==1\n",
    "cond_coverage = {\n",
    "    g: cp_groups_df.loc[cp_groups_df[g]==1, 'covered'].mean()\n",
    "    for g in subgroups\n",
    "}"
   ]
  },
  {
   "cell_type": "code",
   "execution_count": 62,
   "id": "1e348fb1-b9c3-45bc-ba23-f016827a7e0d",
   "metadata": {
    "execution": {
     "iopub.execute_input": "2025-07-28T11:06:05.427100Z",
     "iopub.status.busy": "2025-07-28T11:06:05.426667Z",
     "iopub.status.idle": "2025-07-28T11:06:05.437896Z",
     "shell.execute_reply": "2025-07-28T11:06:05.436788Z"
    },
    "papermill": {
     "duration": 0.071039,
     "end_time": "2025-07-28T11:06:05.439763",
     "exception": false,
     "start_time": "2025-07-28T11:06:05.368724",
     "status": "completed"
    },
    "tags": []
   },
   "outputs": [
    {
     "data": {
      "text/plain": [
       "{'frau1': 0.9199353012535382,\n",
       " 'nongerman': 0.9139392578453938,\n",
       " 'nongerman_male': 0.927136809871206,\n",
       " 'nongerman_female': 0.8921013412816692}"
      ]
     },
     "execution_count": 62,
     "metadata": {},
     "output_type": "execute_result"
    }
   ],
   "source": [
    "cond_coverage"
   ]
  },
  {
   "cell_type": "code",
   "execution_count": 63,
   "id": "f5093324-c3dd-4d63-bc4c-8d945e5c8bbb",
   "metadata": {
    "execution": {
     "iopub.execute_input": "2025-07-28T11:06:05.555160Z",
     "iopub.status.busy": "2025-07-28T11:06:05.554742Z",
     "iopub.status.idle": "2025-07-28T11:06:05.564572Z",
     "shell.execute_reply": "2025-07-28T11:06:05.563420Z"
    },
    "papermill": {
     "duration": 0.070056,
     "end_time": "2025-07-28T11:06:05.566689",
     "exception": false,
     "start_time": "2025-07-28T11:06:05.496633",
     "status": "completed"
    },
    "tags": []
   },
   "outputs": [],
   "source": [
    "for subgroup, cov in cond_coverage.items():\n",
    "    cp_metrics_df[f\"cov_{subgroup}\"] = cov"
   ]
  },
  {
   "cell_type": "code",
   "execution_count": 64,
   "id": "6e872e10-dbe5-49e8-b554-5030c98ff75d",
   "metadata": {
    "execution": {
     "iopub.execute_input": "2025-07-28T11:06:05.682355Z",
     "iopub.status.busy": "2025-07-28T11:06:05.681933Z",
     "iopub.status.idle": "2025-07-28T11:06:05.717263Z",
     "shell.execute_reply": "2025-07-28T11:06:05.716015Z"
    },
    "papermill": {
     "duration": 0.093402,
     "end_time": "2025-07-28T11:06:05.718973",
     "exception": false,
     "start_time": "2025-07-28T11:06:05.625571",
     "status": "completed"
    },
    "tags": []
   },
   "outputs": [
    {
     "data": {
      "text/html": [
       "<div>\n",
       "<style scoped>\n",
       "    .dataframe tbody tr th:only-of-type {\n",
       "        vertical-align: middle;\n",
       "    }\n",
       "\n",
       "    .dataframe tbody tr th {\n",
       "        vertical-align: top;\n",
       "    }\n",
       "\n",
       "    .dataframe thead th {\n",
       "        text-align: right;\n",
       "    }\n",
       "</style>\n",
       "<table border=\"1\" class=\"dataframe\">\n",
       "  <thead>\n",
       "    <tr style=\"text-align: right;\">\n",
       "      <th></th>\n",
       "      <th>universe_id</th>\n",
       "      <th>universe_training_size</th>\n",
       "      <th>universe_scale</th>\n",
       "      <th>universe_model</th>\n",
       "      <th>universe_exclude_features</th>\n",
       "      <th>universe_exclude_subgroups</th>\n",
       "      <th>q_hat</th>\n",
       "      <th>coverage</th>\n",
       "      <th>avg_size</th>\n",
       "      <th>cov_frau1</th>\n",
       "      <th>cov_nongerman</th>\n",
       "      <th>cov_nongerman_male</th>\n",
       "      <th>cov_nongerman_female</th>\n",
       "    </tr>\n",
       "  </thead>\n",
       "  <tbody>\n",
       "    <tr>\n",
       "      <th>0</th>\n",
       "      <td>6d72a59ffd12b9f68917bd38b21dd449</td>\n",
       "      <td>2014</td>\n",
       "      <td>do-not-scale</td>\n",
       "      <td>rf</td>\n",
       "      <td>none</td>\n",
       "      <td>drop-non-german</td>\n",
       "      <td>0.67</td>\n",
       "      <td>0.919596</td>\n",
       "      <td>1.154509</td>\n",
       "      <td>0.919935</td>\n",
       "      <td>0.913939</td>\n",
       "      <td>0.927137</td>\n",
       "      <td>0.892101</td>\n",
       "    </tr>\n",
       "  </tbody>\n",
       "</table>\n",
       "</div>"
      ],
      "text/plain": [
       "                        universe_id universe_training_size universe_scale  \\\n",
       "0  6d72a59ffd12b9f68917bd38b21dd449                   2014   do-not-scale   \n",
       "\n",
       "  universe_model universe_exclude_features universe_exclude_subgroups  q_hat  \\\n",
       "0             rf                      none            drop-non-german   0.67   \n",
       "\n",
       "   coverage  avg_size  cov_frau1  cov_nongerman  cov_nongerman_male  \\\n",
       "0  0.919596  1.154509   0.919935       0.913939            0.927137   \n",
       "\n",
       "   cov_nongerman_female  \n",
       "0              0.892101  "
      ]
     },
     "execution_count": 64,
     "metadata": {},
     "output_type": "execute_result"
    }
   ],
   "source": [
    "cp_metrics_df"
   ]
  },
  {
   "cell_type": "markdown",
   "id": "33774451",
   "metadata": {
    "papermill": {
     "duration": 0.05856,
     "end_time": "2025-07-28T11:06:05.826487",
     "exception": false,
     "start_time": "2025-07-28T11:06:05.767927",
     "status": "completed"
    },
    "tags": []
   },
   "source": [
    "# (Fairness) Metrics"
   ]
  },
  {
   "cell_type": "code",
   "execution_count": 65,
   "id": "debc5d62",
   "metadata": {
    "execution": {
     "iopub.execute_input": "2025-07-28T11:06:05.947826Z",
     "iopub.status.busy": "2025-07-28T11:06:05.947395Z",
     "iopub.status.idle": "2025-07-28T11:06:05.997407Z",
     "shell.execute_reply": "2025-07-28T11:06:05.996112Z"
    },
    "papermill": {
     "duration": 0.114594,
     "end_time": "2025-07-28T11:06:05.999356",
     "exception": false,
     "start_time": "2025-07-28T11:06:05.884762",
     "status": "completed"
    },
    "tags": []
   },
   "outputs": [],
   "source": [
    "# do I need to include maxdeutsch1.missing?\n",
    "\n",
    "import numpy as np\n",
    "\n",
    "colname_to_bin = \"maxdeutsch1\"\n",
    "majority_value = org_train[colname_to_bin].mode()[0]\n",
    "\n",
    "org_test[\"majmin\"] = np.where(org_test[colname_to_bin] == majority_value, \"majority\", \"minority\")"
   ]
  },
  {
   "cell_type": "code",
   "execution_count": 66,
   "id": "06a50de5",
   "metadata": {
    "execution": {
     "iopub.execute_input": "2025-07-28T11:06:06.115024Z",
     "iopub.status.busy": "2025-07-28T11:06:06.114616Z",
     "iopub.status.idle": "2025-07-28T11:06:11.896380Z",
     "shell.execute_reply": "2025-07-28T11:06:11.895325Z"
    },
    "papermill": {
     "duration": 5.844863,
     "end_time": "2025-07-28T11:06:11.898299",
     "exception": false,
     "start_time": "2025-07-28T11:06:06.053436",
     "status": "completed"
    },
    "tags": []
   },
   "outputs": [],
   "source": [
    "example_universe = universe.copy()\n",
    "example_universe[\"cutoff\"] = example_universe[\"cutoff\"][0]\n",
    "example_universe[\"eval_fairness_grouping\"] = example_universe[\"eval_fairness_grouping\"][0]\n",
    "fairness_dict, metric_frame = universe_analysis.compute_metrics(\n",
    "    example_universe,\n",
    "    y_pred_prob=probs_test,\n",
    "    y_test=y_true,\n",
    "    org_test=org_test,\n",
    ")"
   ]
  },
  {
   "cell_type": "markdown",
   "id": "f95d4e02",
   "metadata": {
    "papermill": {
     "duration": 0.05694,
     "end_time": "2025-07-28T11:06:12.013215",
     "exception": false,
     "start_time": "2025-07-28T11:06:11.956275",
     "status": "completed"
    },
    "tags": []
   },
   "source": [
    "# Overall"
   ]
  },
  {
   "cell_type": "markdown",
   "id": "bdee4871",
   "metadata": {
    "papermill": {
     "duration": 0.060121,
     "end_time": "2025-07-28T11:06:12.132791",
     "exception": false,
     "start_time": "2025-07-28T11:06:12.072670",
     "status": "completed"
    },
    "tags": []
   },
   "source": [
    "Fairness\n",
    "Main fairness target: Equalized Odds. Seems to be a better fit than equal opportunity, since we're not only interested in Y = 1. Seems to be a better fit than demographic parity, since we also care about accuracy, not just equal distribution of preds.\n",
    "\n",
    "Pick column for computation of fairness metrics\n",
    "\n",
    "Performance\n",
    "Overall performance measures, most interesting in relation to the measures split by group below"
   ]
  },
  {
   "cell_type": "code",
   "execution_count": 67,
   "id": "c4e067c6",
   "metadata": {
    "execution": {
     "iopub.execute_input": "2025-07-28T11:06:12.204357Z",
     "iopub.status.busy": "2025-07-28T11:06:12.203730Z",
     "iopub.status.idle": "2025-07-28T11:06:12.214393Z",
     "shell.execute_reply": "2025-07-28T11:06:12.213359Z"
    },
    "papermill": {
     "duration": 0.04342,
     "end_time": "2025-07-28T11:06:12.218679",
     "exception": false,
     "start_time": "2025-07-28T11:06:12.175259",
     "status": "completed"
    },
    "tags": []
   },
   "outputs": [
    {
     "data": {
      "text/plain": [
       "accuracy                   0.206443\n",
       "balanced accuracy          0.534643\n",
       "f1                         0.239878\n",
       "precision                  0.136741\n",
       "false positive rate        0.906818\n",
       "false negative rate        0.023896\n",
       "selection rate             0.915706\n",
       "count                  89710.000000\n",
       "dtype: float64"
      ]
     },
     "execution_count": 67,
     "metadata": {},
     "output_type": "execute_result"
    }
   ],
   "source": [
    "metric_frame.overall"
   ]
  },
  {
   "cell_type": "markdown",
   "id": "e968fe9d",
   "metadata": {
    "papermill": {
     "duration": 0.075793,
     "end_time": "2025-07-28T11:06:12.328695",
     "exception": false,
     "start_time": "2025-07-28T11:06:12.252902",
     "status": "completed"
    },
    "tags": []
   },
   "source": [
    "By Group"
   ]
  },
  {
   "cell_type": "code",
   "execution_count": 68,
   "id": "ec325bce",
   "metadata": {
    "execution": {
     "iopub.execute_input": "2025-07-28T11:06:12.411627Z",
     "iopub.status.busy": "2025-07-28T11:06:12.411139Z",
     "iopub.status.idle": "2025-07-28T11:06:12.433310Z",
     "shell.execute_reply": "2025-07-28T11:06:12.432242Z"
    },
    "papermill": {
     "duration": 0.073054,
     "end_time": "2025-07-28T11:06:12.435402",
     "exception": false,
     "start_time": "2025-07-28T11:06:12.362348",
     "status": "completed"
    },
    "tags": []
   },
   "outputs": [
    {
     "data": {
      "text/html": [
       "<div>\n",
       "<style scoped>\n",
       "    .dataframe tbody tr th:only-of-type {\n",
       "        vertical-align: middle;\n",
       "    }\n",
       "\n",
       "    .dataframe tbody tr th {\n",
       "        vertical-align: top;\n",
       "    }\n",
       "\n",
       "    .dataframe thead th {\n",
       "        text-align: right;\n",
       "    }\n",
       "</style>\n",
       "<table border=\"1\" class=\"dataframe\">\n",
       "  <thead>\n",
       "    <tr style=\"text-align: right;\">\n",
       "      <th></th>\n",
       "      <th>accuracy</th>\n",
       "      <th>balanced accuracy</th>\n",
       "      <th>f1</th>\n",
       "      <th>precision</th>\n",
       "      <th>false positive rate</th>\n",
       "      <th>false negative rate</th>\n",
       "      <th>selection rate</th>\n",
       "      <th>count</th>\n",
       "    </tr>\n",
       "    <tr>\n",
       "      <th>majmin</th>\n",
       "      <th></th>\n",
       "      <th></th>\n",
       "      <th></th>\n",
       "      <th></th>\n",
       "      <th></th>\n",
       "      <th></th>\n",
       "      <th></th>\n",
       "      <th></th>\n",
       "    </tr>\n",
       "  </thead>\n",
       "  <tbody>\n",
       "    <tr>\n",
       "      <th>majority</th>\n",
       "      <td>0.199581</td>\n",
       "      <td>0.534635</td>\n",
       "      <td>0.246355</td>\n",
       "      <td>0.140681</td>\n",
       "      <td>0.920773</td>\n",
       "      <td>0.009956</td>\n",
       "      <td>0.929926</td>\n",
       "      <td>69170.0</td>\n",
       "    </tr>\n",
       "    <tr>\n",
       "      <th>minority</th>\n",
       "      <td>0.229552</td>\n",
       "      <td>0.530789</td>\n",
       "      <td>0.216313</td>\n",
       "      <td>0.122525</td>\n",
       "      <td>0.860720</td>\n",
       "      <td>0.077703</td>\n",
       "      <td>0.867819</td>\n",
       "      <td>20540.0</td>\n",
       "    </tr>\n",
       "  </tbody>\n",
       "</table>\n",
       "</div>"
      ],
      "text/plain": [
       "          accuracy  balanced accuracy        f1  precision  \\\n",
       "majmin                                                       \n",
       "majority  0.199581           0.534635  0.246355   0.140681   \n",
       "minority  0.229552           0.530789  0.216313   0.122525   \n",
       "\n",
       "          false positive rate  false negative rate  selection rate    count  \n",
       "majmin                                                                       \n",
       "majority             0.920773             0.009956        0.929926  69170.0  \n",
       "minority             0.860720             0.077703        0.867819  20540.0  "
      ]
     },
     "execution_count": 68,
     "metadata": {},
     "output_type": "execute_result"
    }
   ],
   "source": [
    "metric_frame.by_group"
   ]
  },
  {
   "cell_type": "code",
   "execution_count": 69,
   "id": "a9ddbe63",
   "metadata": {
    "execution": {
     "iopub.execute_input": "2025-07-28T11:06:12.491854Z",
     "iopub.status.busy": "2025-07-28T11:06:12.491378Z",
     "iopub.status.idle": "2025-07-28T11:06:17.195179Z",
     "shell.execute_reply": "2025-07-28T11:06:17.194112Z"
    },
    "papermill": {
     "duration": 4.734306,
     "end_time": "2025-07-28T11:06:17.196926",
     "exception": false,
     "start_time": "2025-07-28T11:06:12.462620",
     "status": "completed"
    },
    "tags": []
   },
   "outputs": [
    {
     "data": {
      "text/plain": [
       "array([[<Axes: title={'center': 'accuracy'}, xlabel='majmin'>,\n",
       "        <Axes: title={'center': 'balanced accuracy'}, xlabel='majmin'>,\n",
       "        <Axes: title={'center': 'f1'}, xlabel='majmin'>],\n",
       "       [<Axes: title={'center': 'precision'}, xlabel='majmin'>,\n",
       "        <Axes: title={'center': 'false positive rate'}, xlabel='majmin'>,\n",
       "        <Axes: title={'center': 'false negative rate'}, xlabel='majmin'>],\n",
       "       [<Axes: title={'center': 'selection rate'}, xlabel='majmin'>,\n",
       "        <Axes: title={'center': 'count'}, xlabel='majmin'>,\n",
       "        <Axes: xlabel='majmin'>]], dtype=object)"
      ]
     },
     "execution_count": 69,
     "metadata": {},
     "output_type": "execute_result"
    },
    {
     "data": {
      "image/png": "[encoded data removed]",
      "text/plain": [
       "<Figure size 1200x800 with 9 Axes>"
      ]
     },
     "metadata": {},
     "output_type": "display_data"
    }
   ],
   "source": [
    "# In a graphic\n",
    "metric_frame.by_group.plot.bar(\n",
    "    subplots=True,\n",
    "    layout=[3, 3],\n",
    "    legend=False,\n",
    "    figsize=[12, 8],\n",
    "    title=\"Show all metrics\",\n",
    ")"
   ]
  },
  {
   "cell_type": "markdown",
   "id": "f57a0bac",
   "metadata": {
    "papermill": {
     "duration": 0.057986,
     "end_time": "2025-07-28T11:06:17.319041",
     "exception": false,
     "start_time": "2025-07-28T11:06:17.261055",
     "status": "completed"
    },
    "tags": []
   },
   "source": [
    "# Final Output"
   ]
  },
  {
   "cell_type": "code",
   "execution_count": 70,
   "id": "96d280a3",
   "metadata": {
    "execution": {
     "iopub.execute_input": "2025-07-28T11:06:17.437735Z",
     "iopub.status.busy": "2025-07-28T11:06:17.436527Z",
     "iopub.status.idle": "2025-07-28T11:06:17.448011Z",
     "shell.execute_reply": "2025-07-28T11:06:17.446898Z"
    },
    "papermill": {
     "duration": 0.077156,
     "end_time": "2025-07-28T11:06:17.450171",
     "exception": false,
     "start_time": "2025-07-28T11:06:17.373015",
     "status": "completed"
    },
    "tags": []
   },
   "outputs": [
    {
     "data": {
      "text/plain": [
       "4"
      ]
     },
     "execution_count": 70,
     "metadata": {},
     "output_type": "execute_result"
    }
   ],
   "source": [
    "sub_universes = universe_analysis.generate_sub_universes()\n",
    "len(sub_universes)"
   ]
  },
  {
   "cell_type": "code",
   "execution_count": 71,
   "id": "92adf7ba",
   "metadata": {
    "execution": {
     "iopub.execute_input": "2025-07-28T11:06:17.577424Z",
     "iopub.status.busy": "2025-07-28T11:06:17.576977Z",
     "iopub.status.idle": "2025-07-28T11:06:17.583353Z",
     "shell.execute_reply": "2025-07-28T11:06:17.582402Z"
    },
    "papermill": {
     "duration": 0.061406,
     "end_time": "2025-07-28T11:06:17.585129",
     "exception": false,
     "start_time": "2025-07-28T11:06:17.523723",
     "status": "completed"
    },
    "tags": []
   },
   "outputs": [],
   "source": [
    "def filter_sub_universe_data(sub_universe, org_test):\n",
    "    # Keep all rows — no filtering\n",
    "    keep_rows_mask = np.ones(org_test.shape[0], dtype=bool)\n",
    "\n",
    "    print(f\"[INFO] Keeping all rows: {keep_rows_mask.sum()} rows retained.\")\n",
    "    return keep_rows_mask"
   ]
  },
  {
   "cell_type": "code",
   "execution_count": 72,
   "id": "4a759155",
   "metadata": {
    "execution": {
     "iopub.execute_input": "2025-07-28T11:06:17.704738Z",
     "iopub.status.busy": "2025-07-28T11:06:17.703779Z",
     "iopub.status.idle": "2025-07-28T11:06:43.745248Z",
     "shell.execute_reply": "2025-07-28T11:06:43.744120Z"
    },
    "papermill": {
     "duration": 26.091372,
     "end_time": "2025-07-28T11:06:43.747167",
     "exception": false,
     "start_time": "2025-07-28T11:06:17.655795",
     "status": "completed"
    },
    "tags": []
   },
   "outputs": [
    {
     "name": "stdout",
     "output_type": "stream",
     "text": [
      "Stopping execution_time clock.\n",
      "[INFO] Keeping all rows: 89710 rows retained.\n"
     ]
    },
    {
     "name": "stdout",
     "output_type": "stream",
     "text": [
      "[INFO] Keeping all rows: 89710 rows retained.\n"
     ]
    },
    {
     "name": "stdout",
     "output_type": "stream",
     "text": [
      "[INFO] Keeping all rows: 89710 rows retained.\n"
     ]
    },
    {
     "name": "stdout",
     "output_type": "stream",
     "text": [
      "[INFO] Keeping all rows: 89710 rows retained.\n"
     ]
    },
    {
     "data": {
      "text/html": [
       "<div>\n",
       "<style scoped>\n",
       "    .dataframe tbody tr th:only-of-type {\n",
       "        vertical-align: middle;\n",
       "    }\n",
       "\n",
       "    .dataframe tbody tr th {\n",
       "        vertical-align: top;\n",
       "    }\n",
       "\n",
       "    .dataframe thead th {\n",
       "        text-align: right;\n",
       "    }\n",
       "</style>\n",
       "<table border=\"1\" class=\"dataframe\">\n",
       "  <thead>\n",
       "    <tr style=\"text-align: right;\">\n",
       "      <th></th>\n",
       "      <th>run_no</th>\n",
       "      <th>universe_id</th>\n",
       "      <th>universe_settings</th>\n",
       "      <th>execution_time</th>\n",
       "      <th>test_size_n</th>\n",
       "      <th>test_size_frac</th>\n",
       "      <th>fair_main_equalized_odds_difference</th>\n",
       "      <th>fair_main_equalized_odds_ratio</th>\n",
       "      <th>fair_main_demographic_parity_difference</th>\n",
       "      <th>fair_main_demographic_parity_ratio</th>\n",
       "      <th>...</th>\n",
       "      <th>perf_grp_precision_0</th>\n",
       "      <th>perf_grp_precision_1</th>\n",
       "      <th>perf_grp_false positive rate_0</th>\n",
       "      <th>perf_grp_false positive rate_1</th>\n",
       "      <th>perf_grp_false negative rate_0</th>\n",
       "      <th>perf_grp_false negative rate_1</th>\n",
       "      <th>perf_grp_selection rate_0</th>\n",
       "      <th>perf_grp_selection rate_1</th>\n",
       "      <th>perf_grp_count_0</th>\n",
       "      <th>perf_grp_count_1</th>\n",
       "    </tr>\n",
       "  </thead>\n",
       "  <tbody>\n",
       "    <tr>\n",
       "      <th>0</th>\n",
       "      <td>11</td>\n",
       "      <td>6d72a59ffd12b9f68917bd38b21dd449</td>\n",
       "      <td>{\"cutoff\": \"quantile_0.1\", \"eval_fairness_grou...</td>\n",
       "      <td>63.898778</td>\n",
       "      <td>89710</td>\n",
       "      <td>1.0</td>\n",
       "      <td>0.067746</td>\n",
       "      <td>0.931572</td>\n",
       "      <td>0.062107</td>\n",
       "      <td>0.933213</td>\n",
       "      <td>...</td>\n",
       "      <td>NaN</td>\n",
       "      <td>NaN</td>\n",
       "      <td>NaN</td>\n",
       "      <td>NaN</td>\n",
       "      <td>NaN</td>\n",
       "      <td>NaN</td>\n",
       "      <td>NaN</td>\n",
       "      <td>NaN</td>\n",
       "      <td>NaN</td>\n",
       "      <td>NaN</td>\n",
       "    </tr>\n",
       "    <tr>\n",
       "      <th>0</th>\n",
       "      <td>11</td>\n",
       "      <td>6d72a59ffd12b9f68917bd38b21dd449</td>\n",
       "      <td>{\"cutoff\": \"quantile_0.1\", \"eval_fairness_grou...</td>\n",
       "      <td>63.898778</td>\n",
       "      <td>89710</td>\n",
       "      <td>1.0</td>\n",
       "      <td>0.067746</td>\n",
       "      <td>0.931572</td>\n",
       "      <td>0.062107</td>\n",
       "      <td>0.933213</td>\n",
       "      <td>...</td>\n",
       "      <td>0.122525</td>\n",
       "      <td>0.140681</td>\n",
       "      <td>0.860720</td>\n",
       "      <td>0.920773</td>\n",
       "      <td>0.077703</td>\n",
       "      <td>0.009956</td>\n",
       "      <td>0.867819</td>\n",
       "      <td>0.929926</td>\n",
       "      <td>20540.0</td>\n",
       "      <td>69170.0</td>\n",
       "    </tr>\n",
       "    <tr>\n",
       "      <th>0</th>\n",
       "      <td>11</td>\n",
       "      <td>6d72a59ffd12b9f68917bd38b21dd449</td>\n",
       "      <td>{\"cutoff\": \"quantile_0.25\", \"eval_fairness_gro...</td>\n",
       "      <td>63.898778</td>\n",
       "      <td>89710</td>\n",
       "      <td>1.0</td>\n",
       "      <td>0.126282</td>\n",
       "      <td>0.867802</td>\n",
       "      <td>0.073248</td>\n",
       "      <td>0.905297</td>\n",
       "      <td>...</td>\n",
       "      <td>NaN</td>\n",
       "      <td>NaN</td>\n",
       "      <td>NaN</td>\n",
       "      <td>NaN</td>\n",
       "      <td>NaN</td>\n",
       "      <td>NaN</td>\n",
       "      <td>NaN</td>\n",
       "      <td>NaN</td>\n",
       "      <td>NaN</td>\n",
       "      <td>NaN</td>\n",
       "    </tr>\n",
       "    <tr>\n",
       "      <th>0</th>\n",
       "      <td>11</td>\n",
       "      <td>6d72a59ffd12b9f68917bd38b21dd449</td>\n",
       "      <td>{\"cutoff\": \"quantile_0.25\", \"eval_fairness_gro...</td>\n",
       "      <td>63.898778</td>\n",
       "      <td>89710</td>\n",
       "      <td>1.0</td>\n",
       "      <td>0.126282</td>\n",
       "      <td>0.867802</td>\n",
       "      <td>0.073248</td>\n",
       "      <td>0.905297</td>\n",
       "      <td>...</td>\n",
       "      <td>0.136490</td>\n",
       "      <td>0.163199</td>\n",
       "      <td>0.683414</td>\n",
       "      <td>0.745760</td>\n",
       "      <td>0.171030</td>\n",
       "      <td>0.044748</td>\n",
       "      <td>0.700195</td>\n",
       "      <td>0.773442</td>\n",
       "      <td>20540.0</td>\n",
       "      <td>69170.0</td>\n",
       "    </tr>\n",
       "  </tbody>\n",
       "</table>\n",
       "<p>4 rows × 50 columns</p>\n",
       "</div>"
      ],
      "text/plain": [
       "  run_no                       universe_id  \\\n",
       "0     11  6d72a59ffd12b9f68917bd38b21dd449   \n",
       "0     11  6d72a59ffd12b9f68917bd38b21dd449   \n",
       "0     11  6d72a59ffd12b9f68917bd38b21dd449   \n",
       "0     11  6d72a59ffd12b9f68917bd38b21dd449   \n",
       "\n",
       "                                   universe_settings  execution_time  \\\n",
       "0  {\"cutoff\": \"quantile_0.1\", \"eval_fairness_grou...       63.898778   \n",
       "0  {\"cutoff\": \"quantile_0.1\", \"eval_fairness_grou...       63.898778   \n",
       "0  {\"cutoff\": \"quantile_0.25\", \"eval_fairness_gro...       63.898778   \n",
       "0  {\"cutoff\": \"quantile_0.25\", \"eval_fairness_gro...       63.898778   \n",
       "\n",
       "   test_size_n  test_size_frac  fair_main_equalized_odds_difference  \\\n",
       "0        89710             1.0                             0.067746   \n",
       "0        89710             1.0                             0.067746   \n",
       "0        89710             1.0                             0.126282   \n",
       "0        89710             1.0                             0.126282   \n",
       "\n",
       "   fair_main_equalized_odds_ratio  fair_main_demographic_parity_difference  \\\n",
       "0                        0.931572                                 0.062107   \n",
       "0                        0.931572                                 0.062107   \n",
       "0                        0.867802                                 0.073248   \n",
       "0                        0.867802                                 0.073248   \n",
       "\n",
       "   fair_main_demographic_parity_ratio  ...  perf_grp_precision_0  \\\n",
       "0                            0.933213  ...                   NaN   \n",
       "0                            0.933213  ...              0.122525   \n",
       "0                            0.905297  ...                   NaN   \n",
       "0                            0.905297  ...              0.136490   \n",
       "\n",
       "   perf_grp_precision_1  perf_grp_false positive rate_0  \\\n",
       "0                   NaN                             NaN   \n",
       "0              0.140681                        0.860720   \n",
       "0                   NaN                             NaN   \n",
       "0              0.163199                        0.683414   \n",
       "\n",
       "   perf_grp_false positive rate_1  perf_grp_false negative rate_0  \\\n",
       "0                             NaN                             NaN   \n",
       "0                        0.920773                        0.077703   \n",
       "0                             NaN                             NaN   \n",
       "0                        0.745760                        0.171030   \n",
       "\n",
       "   perf_grp_false negative rate_1  perf_grp_selection rate_0  \\\n",
       "0                             NaN                        NaN   \n",
       "0                        0.009956                   0.867819   \n",
       "0                             NaN                        NaN   \n",
       "0                        0.044748                   0.700195   \n",
       "\n",
       "   perf_grp_selection rate_1  perf_grp_count_0  perf_grp_count_1  \n",
       "0                        NaN               NaN               NaN  \n",
       "0                   0.929926           20540.0           69170.0  \n",
       "0                        NaN               NaN               NaN  \n",
       "0                   0.773442           20540.0           69170.0  \n",
       "\n",
       "[4 rows x 50 columns]"
      ]
     },
     "execution_count": 72,
     "metadata": {},
     "output_type": "execute_result"
    }
   ],
   "source": [
    "final_output = universe_analysis.generate_final_output(\n",
    "    y_pred_prob=probs_test,\n",
    "    y_test=y_true,\n",
    "    org_test=org_test,\n",
    "    filter_data=filter_sub_universe_data,\n",
    "    cp_metrics_df=cp_metrics_df,\n",
    "    save=True,\n",
    ")\n",
    "final_output"
   ]
  },
  {
   "cell_type": "code",
   "execution_count": null,
   "id": "721ff514-cb11-46f8-b6fc-50392f74b5cb",
   "metadata": {
    "papermill": {
     "duration": 0.081796,
     "end_time": "2025-07-28T11:06:43.908537",
     "exception": false,
     "start_time": "2025-07-28T11:06:43.826741",
     "status": "completed"
    },
    "tags": []
   },
   "outputs": [],
   "source": []
  }
 ],
 "metadata": {
  "celltoolbar": "Tags",
  "kernelspec": {
   "display_name": "Python (CMA Fairness)",
   "language": "python",
   "name": "cma_fair_env"
  },
  "language_info": {
   "codemirror_mode": {
    "name": "ipython",
    "version": 3
   },
   "file_extension": ".py",
   "mimetype": "text/x-python",
   "name": "python",
   "nbconvert_exporter": "python",
   "pygments_lexer": "ipython3",
   "version": "3.10.12"
  },
  "papermill": {
   "default_parameters": {},
   "duration": 94.971915,
   "end_time": "2025-07-28T11:06:45.290608",
   "environment_variables": {},
   "exception": null,
   "input_path": "universe_analysis.ipynb",
   "output_path": "output/runs/11/notebooks/m_11-6d72a59ffd12b9f68917bd38b21dd449.ipynb",
   "parameters": {
    "output_dir": "output",
    "run_no": "11",
    "seed": "2023",
    "universe": "{\"cutoff\": [\"quantile_0.1\", \"quantile_0.25\"], \"eval_fairness_grouping\": [\"majority-minority\", \"nationality-all\"], \"exclude_features\": \"none\", \"exclude_subgroups\": \"drop-non-german\", \"model\": \"rf\", \"scale\": \"do-not-scale\", \"training_size\": \"2014\"}",
    "universe_id": "6d72a59ffd12b9f68917bd38b21dd449"
   },
   "start_time": "2025-07-28T11:05:10.318693",
   "version": "2.6.0"
  }
 },
 "nbformat": 4,
 "nbformat_minor": 5
}