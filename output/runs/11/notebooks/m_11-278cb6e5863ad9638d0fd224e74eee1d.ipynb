{
 "cells": [
  {
   "cell_type": "code",
   "execution_count": 1,
   "id": "f159f837-637b-42ba-96b5-ec9a68c44524",
   "metadata": {
    "execution": {
     "iopub.execute_input": "2025-07-28T10:33:02.158065Z",
     "iopub.status.busy": "2025-07-28T10:33:02.157635Z",
     "iopub.status.idle": "2025-07-28T10:33:02.169025Z",
     "shell.execute_reply": "2025-07-28T10:33:02.168071Z"
    },
    "papermill": {
     "duration": 0.023983,
     "end_time": "2025-07-28T10:33:02.170431",
     "exception": false,
     "start_time": "2025-07-28T10:33:02.146448",
     "status": "completed"
    },
    "tags": []
   },
   "outputs": [
    {
     "name": "stdout",
     "output_type": "stream",
     "text": [
      "/dss/dsshome1/0C/ra93lal2/cma/CMA_Fairness_v2\n"
     ]
    },
    {
     "name": "stderr",
     "output_type": "stream",
     "text": [
      "/dss/dsshome1/0C/ra93lal2/.local/share/virtualenvs/CMA_Fairness_v2-3j10GkSs/lib/python3.10/site-packages/IPython/core/magics/osm.py:393: UserWarning: This is now an optional IPython functionality, using bookmarks requires you to install the `pickleshare` library.\n",
      "  bkms = self.shell.db.get('bookmarks', {})\n",
      "/dss/dsshome1/0C/ra93lal2/.local/share/virtualenvs/CMA_Fairness_v2-3j10GkSs/lib/python3.10/site-packages/IPython/core/magics/osm.py:417: UserWarning: This is now an optional IPython functionality, setting dhist requires you to install the `pickleshare` library.\n",
      "  self.shell.db['dhist'] = compress_dhist(dhist)[-100:]\n"
     ]
    }
   ],
   "source": [
    "%cd ~/cma/CMA_Fairness_v2"
   ]
  },
  {
   "cell_type": "markdown",
   "id": "de2603b9",
   "metadata": {
    "papermill": {
     "duration": 0.018948,
     "end_time": "2025-07-28T10:33:02.199891",
     "exception": false,
     "start_time": "2025-07-28T10:33:02.180943",
     "status": "completed"
    },
    "tags": []
   },
   "source": [
    "The following cell holds the definition of our parameters, these values can be overriden by rendering the with e.g. the following command:\n",
    "\n",
    "papermill -p alpha 0.2 -p ratio 0.3 universe_analysis.ipynb output/test_run.ipynb"
   ]
  },
  {
   "cell_type": "code",
   "execution_count": 2,
   "id": "a80968a0-40bb-4fa9-85ef-2d5eefb01975",
   "metadata": {
    "execution": {
     "iopub.execute_input": "2025-07-28T10:33:02.239755Z",
     "iopub.status.busy": "2025-07-28T10:33:02.239303Z",
     "iopub.status.idle": "2025-07-28T10:33:02.245379Z",
     "shell.execute_reply": "2025-07-28T10:33:02.244383Z"
    },
    "papermill": {
     "duration": 0.026939,
     "end_time": "2025-07-28T10:33:02.247176",
     "exception": false,
     "start_time": "2025-07-28T10:33:02.220237",
     "status": "completed"
    },
    "tags": []
   },
   "outputs": [
    {
     "name": "stdout",
     "output_type": "stream",
     "text": [
      "Current working directory: /dss/dsshome1/0C/ra93lal2/cma/CMA_Fairness_v2\n"
     ]
    }
   ],
   "source": [
    "import os\n",
    "print(\"Current working directory:\", os.getcwd())"
   ]
  },
  {
   "cell_type": "code",
   "execution_count": 3,
   "id": "2dce4c03",
   "metadata": {
    "execution": {
     "iopub.execute_input": "2025-07-28T10:33:02.285991Z",
     "iopub.status.busy": "2025-07-28T10:33:02.285551Z",
     "iopub.status.idle": "2025-07-28T10:33:02.291752Z",
     "shell.execute_reply": "2025-07-28T10:33:02.290829Z"
    },
    "papermill": {
     "duration": 0.02835,
     "end_time": "2025-07-28T10:33:02.293541",
     "exception": false,
     "start_time": "2025-07-28T10:33:02.265191",
     "status": "completed"
    },
    "tags": [
     "parameters"
    ]
   },
   "outputs": [],
   "source": [
    "run_no = 0\n",
    "universe_id = \"test\"\n",
    "universe = {\n",
    "    \"training_size\": \"2014\", # \"25k\", \"5k\", \"1k\", \"2014\"\n",
    "    \"scale\": \"scale\", # \"scale\", \"do-not-scale\",\n",
    "    #\"stratify_split\": \"target\", # \"none\", \"target\", \"protected-attribute\", \"both\",\n",
    "    \"model\": \"elasticnet\", # \"logreg\", \"penalized_logreg\", \"rf\", \"gbm\", \"elasticnet\"\n",
    "    \"cutoff\": [\"quantile_0.15\", \"quantile_0.30\"],\n",
    "    \"exclude_features\": \"age\", # \"none\", \"nationality\", \"sex\", \"nationality-sex\", \"age\"\n",
    "    \"exclude_subgroups\": \"keep-all\", # \"keep-all\", \"drop-non-german\"\n",
    "    #\"training_sample\": \"restricted\", # \"restricted\", \"full\"\n",
    "    \"eval_fairness_grouping\": [\"majority-minority\", \"nationality-all\"]\n",
    "}\n",
    "\n",
    "output_dir=\"./output\"\n",
    "seed=0"
   ]
  },
  {
   "cell_type": "code",
   "execution_count": 4,
   "id": "719e5257",
   "metadata": {
    "execution": {
     "iopub.execute_input": "2025-07-28T10:33:02.338135Z",
     "iopub.status.busy": "2025-07-28T10:33:02.337266Z",
     "iopub.status.idle": "2025-07-28T10:33:02.343218Z",
     "shell.execute_reply": "2025-07-28T10:33:02.342031Z"
    },
    "papermill": {
     "duration": 0.031707,
     "end_time": "2025-07-28T10:33:02.346275",
     "exception": false,
     "start_time": "2025-07-28T10:33:02.314568",
     "status": "completed"
    },
    "tags": [
     "injected-parameters"
    ]
   },
   "outputs": [],
   "source": [
    "# Parameters\n",
    "universe_id = \"278cb6e5863ad9638d0fd224e74eee1d\"\n",
    "run_no = \"11\"\n",
    "universe = \"{\\\"cutoff\\\": [\\\"quantile_0.1\\\", \\\"quantile_0.25\\\"], \\\"eval_fairness_grouping\\\": [\\\"majority-minority\\\", \\\"nationality-all\\\"], \\\"exclude_features\\\": \\\"none\\\", \\\"exclude_subgroups\\\": \\\"keep-all\\\", \\\"model\\\": \\\"elasticnet\\\", \\\"scale\\\": \\\"scale\\\", \\\"training_size\\\": \\\"5k\\\"}\"\n",
    "output_dir = \"output\"\n",
    "seed = \"2023\"\n"
   ]
  },
  {
   "cell_type": "code",
   "execution_count": 5,
   "id": "1650acaf",
   "metadata": {
    "execution": {
     "iopub.execute_input": "2025-07-28T10:33:02.392307Z",
     "iopub.status.busy": "2025-07-28T10:33:02.391789Z",
     "iopub.status.idle": "2025-07-28T10:33:02.397150Z",
     "shell.execute_reply": "2025-07-28T10:33:02.396195Z"
    },
    "papermill": {
     "duration": 0.030658,
     "end_time": "2025-07-28T10:33:02.398824",
     "exception": false,
     "start_time": "2025-07-28T10:33:02.368166",
     "status": "completed"
    },
    "tags": []
   },
   "outputs": [],
   "source": [
    "import json\n",
    "# Parse universe into dict if it is passed as a string\n",
    "if isinstance(universe, str):\n",
    "    universe = json.loads(universe)"
   ]
  },
  {
   "cell_type": "code",
   "execution_count": 6,
   "id": "16620c48",
   "metadata": {
    "execution": {
     "iopub.execute_input": "2025-07-28T10:33:02.439026Z",
     "iopub.status.busy": "2025-07-28T10:33:02.438520Z",
     "iopub.status.idle": "2025-07-28T10:33:02.501069Z",
     "shell.execute_reply": "2025-07-28T10:33:02.499987Z"
    },
    "papermill": {
     "duration": 0.085441,
     "end_time": "2025-07-28T10:33:02.503263",
     "exception": false,
     "start_time": "2025-07-28T10:33:02.417822",
     "status": "completed"
    },
    "tags": []
   },
   "outputs": [],
   "source": [
    "# Auto-reload the custom package\n",
    "%load_ext autoreload\n",
    "%autoreload 1\n",
    "%aimport fairness_multiverse"
   ]
  },
  {
   "cell_type": "code",
   "execution_count": 7,
   "id": "01c5c9f3",
   "metadata": {
    "execution": {
     "iopub.execute_input": "2025-07-28T10:33:02.543379Z",
     "iopub.status.busy": "2025-07-28T10:33:02.542690Z",
     "iopub.status.idle": "2025-07-28T10:33:04.324393Z",
     "shell.execute_reply": "2025-07-28T10:33:04.323162Z"
    },
    "papermill": {
     "duration": 1.803215,
     "end_time": "2025-07-28T10:33:04.326262",
     "exception": false,
     "start_time": "2025-07-28T10:33:02.523047",
     "status": "completed"
    },
    "tags": []
   },
   "outputs": [],
   "source": [
    "from fairness_multiverse.universe import UniverseAnalysis\n",
    "\n",
    "universe_analysis = UniverseAnalysis(\n",
    "    run_no = run_no,\n",
    "    universe_id = universe_id,\n",
    "    universe = universe,\n",
    "    output_dir=output_dir,\n",
    ")"
   ]
  },
  {
   "cell_type": "code",
   "execution_count": 8,
   "id": "106241f5",
   "metadata": {
    "execution": {
     "iopub.execute_input": "2025-07-28T10:33:04.368764Z",
     "iopub.status.busy": "2025-07-28T10:33:04.368327Z",
     "iopub.status.idle": "2025-07-28T10:33:04.374427Z",
     "shell.execute_reply": "2025-07-28T10:33:04.373504Z"
    },
    "papermill": {
     "duration": 0.030372,
     "end_time": "2025-07-28T10:33:04.375677",
     "exception": false,
     "start_time": "2025-07-28T10:33:04.345305",
     "status": "completed"
    },
    "tags": []
   },
   "outputs": [
    {
     "name": "stdout",
     "output_type": "stream",
     "text": [
      "Using Seed: 2023\n"
     ]
    }
   ],
   "source": [
    "import numpy as np\n",
    "parsed_seed = int(seed)\n",
    "np.random.seed(parsed_seed)\n",
    "print(f\"Using Seed: {parsed_seed}\")"
   ]
  },
  {
   "cell_type": "markdown",
   "id": "e0ebdc57",
   "metadata": {
    "papermill": {
     "duration": 0.010499,
     "end_time": "2025-07-28T10:33:04.397250",
     "exception": false,
     "start_time": "2025-07-28T10:33:04.386751",
     "status": "completed"
    },
    "tags": []
   },
   "source": [
    "# Loading Data"
   ]
  },
  {
   "cell_type": "markdown",
   "id": "681925a3",
   "metadata": {
    "papermill": {
     "duration": 0.014525,
     "end_time": "2025-07-28T10:33:04.421805",
     "exception": false,
     "start_time": "2025-07-28T10:33:04.407280",
     "status": "completed"
    },
    "tags": []
   },
   "source": [
    "Load siab_train, siab_test, siab_calib and/or \n",
    "load siab_train_features, siab_train_labels"
   ]
  },
  {
   "cell_type": "code",
   "execution_count": 9,
   "id": "f0496b8a",
   "metadata": {
    "execution": {
     "iopub.execute_input": "2025-07-28T10:33:04.443869Z",
     "iopub.status.busy": "2025-07-28T10:33:04.443279Z",
     "iopub.status.idle": "2025-07-28T10:33:18.297168Z",
     "shell.execute_reply": "2025-07-28T10:33:18.295933Z"
    },
    "papermill": {
     "duration": 13.866651,
     "end_time": "2025-07-28T10:33:18.298862",
     "exception": false,
     "start_time": "2025-07-28T10:33:04.432211",
     "status": "completed"
    },
    "tags": []
   },
   "outputs": [
    {
     "name": "stdout",
     "output_type": "stream",
     "text": [
      "Loading SIAB data from cache: data/siab_cached.csv.gz\n"
     ]
    },
    {
     "name": "stdout",
     "output_type": "stream",
     "text": [
      "(643690, 164)\n"
     ]
    }
   ],
   "source": [
    "from pathlib import Path\n",
    "import pandas as pd\n",
    "\n",
    "# File paths\n",
    "raw_file = Path(\"data/raw/siab.csv\")\n",
    "cache_file = Path(\"data/siab_cached.csv.gz\")\n",
    "\n",
    "# Ensure cache directory exists\n",
    "cache_file.parent.mkdir(parents=True, exist_ok=True)\n",
    "\n",
    "# Load with simple caching\n",
    "if cache_file.exists():\n",
    "    print(f\"Loading SIAB data from cache: {cache_file}\")\n",
    "    siab = pd.read_csv(cache_file, compression='gzip')\n",
    "else:\n",
    "    print(f\"Cache not found. Reading raw SIAB data: {raw_file}\")\n",
    "    siab = pd.read_csv(raw_file)\n",
    "    siab.to_csv(cache_file, index=False, compression='gzip')\n",
    "    print(f\"Cached SIAB data to: {cache_file}\")\n",
    "\n",
    "# Now use `siab` DataFrame as needed\n",
    "print(siab.shape)"
   ]
  },
  {
   "cell_type": "code",
   "execution_count": 10,
   "id": "db0ca512-5f53-4dba-abdb-a2888bca41ba",
   "metadata": {
    "execution": {
     "iopub.execute_input": "2025-07-28T10:33:18.340968Z",
     "iopub.status.busy": "2025-07-28T10:33:18.340101Z",
     "iopub.status.idle": "2025-07-28T10:33:18.346125Z",
     "shell.execute_reply": "2025-07-28T10:33:18.345204Z"
    },
    "papermill": {
     "duration": 0.027521,
     "end_time": "2025-07-28T10:33:18.347797",
     "exception": false,
     "start_time": "2025-07-28T10:33:18.320276",
     "status": "completed"
    },
    "tags": []
   },
   "outputs": [],
   "source": [
    "#siab"
   ]
  },
  {
   "cell_type": "code",
   "execution_count": 11,
   "id": "a0edb063",
   "metadata": {
    "execution": {
     "iopub.execute_input": "2025-07-28T10:33:18.390918Z",
     "iopub.status.busy": "2025-07-28T10:33:18.390231Z",
     "iopub.status.idle": "2025-07-28T10:33:18.395800Z",
     "shell.execute_reply": "2025-07-28T10:33:18.394754Z"
    },
    "papermill": {
     "duration": 0.028992,
     "end_time": "2025-07-28T10:33:18.397495",
     "exception": false,
     "start_time": "2025-07-28T10:33:18.368503",
     "status": "completed"
    },
    "tags": []
   },
   "outputs": [],
   "source": [
    "#import pandas as pd\n",
    "#\n",
    "#X_train = pd.read_csv(\"./data/X_train.csv\")\n",
    "#y_train = pd.read_csv(\"./data/y_train.csv\")"
   ]
  },
  {
   "cell_type": "code",
   "execution_count": 12,
   "id": "63d08085",
   "metadata": {
    "execution": {
     "iopub.execute_input": "2025-07-28T10:33:18.436624Z",
     "iopub.status.busy": "2025-07-28T10:33:18.436013Z",
     "iopub.status.idle": "2025-07-28T10:33:18.441577Z",
     "shell.execute_reply": "2025-07-28T10:33:18.440676Z"
    },
    "papermill": {
     "duration": 0.02676,
     "end_time": "2025-07-28T10:33:18.443154",
     "exception": false,
     "start_time": "2025-07-28T10:33:18.416394",
     "status": "completed"
    },
    "tags": []
   },
   "outputs": [],
   "source": [
    "#X_test = pd.read_csv(\"./data/X_test.csv\")\n",
    "#y_true = pd.read_csv(\"./data/y_test.csv\")"
   ]
  },
  {
   "cell_type": "code",
   "execution_count": 13,
   "id": "98a8d0fa-1d3d-4ed8-bb2c-281470e24add",
   "metadata": {
    "execution": {
     "iopub.execute_input": "2025-07-28T10:33:18.482768Z",
     "iopub.status.busy": "2025-07-28T10:33:18.481832Z",
     "iopub.status.idle": "2025-07-28T10:33:18.487116Z",
     "shell.execute_reply": "2025-07-28T10:33:18.486188Z"
    },
    "papermill": {
     "duration": 0.026448,
     "end_time": "2025-07-28T10:33:18.488671",
     "exception": false,
     "start_time": "2025-07-28T10:33:18.462223",
     "status": "completed"
    },
    "tags": []
   },
   "outputs": [],
   "source": [
    "# Calibration data for conformal\n",
    "#X_calib = pd.read_csv(\"./data/X_calib.csv\")\n",
    "#y_calib = pd.read_csv(\"./data/y_calib.csv\")"
   ]
  },
  {
   "cell_type": "markdown",
   "id": "9901737e-04df-44f0-9100-f5ad144ed040",
   "metadata": {
    "papermill": {
     "duration": 0.018205,
     "end_time": "2025-07-28T10:33:18.525880",
     "exception": false,
     "start_time": "2025-07-28T10:33:18.507675",
     "status": "completed"
    },
    "tags": []
   },
   "source": [
    "# Splitting Data and Setting Training Data Size"
   ]
  },
  {
   "cell_type": "code",
   "execution_count": 14,
   "id": "acbc8f7d-8fc8-4e86-8c59-5dcb0f58384b",
   "metadata": {
    "execution": {
     "iopub.execute_input": "2025-07-28T10:33:18.565354Z",
     "iopub.status.busy": "2025-07-28T10:33:18.564403Z",
     "iopub.status.idle": "2025-07-28T10:33:18.572854Z",
     "shell.execute_reply": "2025-07-28T10:33:18.571730Z"
    },
    "papermill": {
     "duration": 0.029989,
     "end_time": "2025-07-28T10:33:18.574493",
     "exception": false,
     "start_time": "2025-07-28T10:33:18.544504",
     "status": "completed"
    },
    "tags": []
   },
   "outputs": [],
   "source": [
    "def sample_by_year(df, training_size, random_state=42):\n",
    "    if training_size == \"2014\":\n",
    "        return df[df[\"year\"] == 2014].reset_index(drop=True)\n",
    "    \n",
    "    size_map = {\n",
    "        \"25k\": 5000,\n",
    "        \"5k\": 1000,\n",
    "        \"1k\": 200\n",
    "    }\n",
    "\n",
    "    if training_size not in size_map:\n",
    "        return df.reset_index(drop=True)  # use all data\n",
    "\n",
    "    n_per_year = size_map[training_size]\n",
    "    grouped = df.groupby(\"year\")\n",
    "    sampled = grouped.apply(lambda x: x.sample(n=min(n_per_year, len(x)), random_state=random_state))\n",
    "    return sampled.reset_index(drop=True)"
   ]
  },
  {
   "cell_type": "code",
   "execution_count": 15,
   "id": "6d931f52-beaf-43ff-9e78-9d44a448d54e",
   "metadata": {
    "execution": {
     "iopub.execute_input": "2025-07-28T10:33:18.614452Z",
     "iopub.status.busy": "2025-07-28T10:33:18.613818Z",
     "iopub.status.idle": "2025-07-28T10:33:19.282552Z",
     "shell.execute_reply": "2025-07-28T10:33:19.281608Z"
    },
    "papermill": {
     "duration": 0.69062,
     "end_time": "2025-07-28T10:33:19.284623",
     "exception": false,
     "start_time": "2025-07-28T10:33:18.594003",
     "status": "completed"
    },
    "tags": []
   },
   "outputs": [],
   "source": [
    "siab_s = sample_by_year(siab, universe[\"training_size\"])"
   ]
  },
  {
   "cell_type": "code",
   "execution_count": 16,
   "id": "5db0a40e-a4e2-4920-be85-b12ae061d70d",
   "metadata": {
    "execution": {
     "iopub.execute_input": "2025-07-28T10:33:19.325370Z",
     "iopub.status.busy": "2025-07-28T10:33:19.324711Z",
     "iopub.status.idle": "2025-07-28T10:33:19.339118Z",
     "shell.execute_reply": "2025-07-28T10:33:19.338207Z"
    },
    "papermill": {
     "duration": 0.036653,
     "end_time": "2025-07-28T10:33:19.340730",
     "exception": false,
     "start_time": "2025-07-28T10:33:19.304077",
     "status": "completed"
    },
    "tags": []
   },
   "outputs": [
    {
     "data": {
      "text/plain": [
       "year\n",
       "2010    1000\n",
       "2011    1000\n",
       "2012    1000\n",
       "2013    1000\n",
       "2014    1000\n",
       "2015    1000\n",
       "2016    1000\n",
       "dtype: int64"
      ]
     },
     "metadata": {},
     "output_type": "display_data"
    }
   ],
   "source": [
    "display(siab_s.groupby(\"year\").size())"
   ]
  },
  {
   "cell_type": "code",
   "execution_count": 17,
   "id": "a561edb4-d032-42cb-8256-22eac1111c64",
   "metadata": {
    "execution": {
     "iopub.execute_input": "2025-07-28T10:33:19.381960Z",
     "iopub.status.busy": "2025-07-28T10:33:19.381276Z",
     "iopub.status.idle": "2025-07-28T10:33:19.619088Z",
     "shell.execute_reply": "2025-07-28T10:33:19.618060Z"
    },
    "papermill": {
     "duration": 0.260887,
     "end_time": "2025-07-28T10:33:19.621344",
     "exception": false,
     "start_time": "2025-07-28T10:33:19.360457",
     "status": "completed"
    },
    "tags": []
   },
   "outputs": [],
   "source": [
    "siab_train = siab_s[siab_s.year < 2015]\n",
    "siab_calib = siab[siab.year == 2015]\n",
    "siab_test = siab[siab.year == 2016]"
   ]
  },
  {
   "cell_type": "code",
   "execution_count": 18,
   "id": "472de16f-c3db-4916-846b-1f0de9cf1746",
   "metadata": {
    "execution": {
     "iopub.execute_input": "2025-07-28T10:33:19.666552Z",
     "iopub.status.busy": "2025-07-28T10:33:19.666059Z",
     "iopub.status.idle": "2025-07-28T10:33:19.674373Z",
     "shell.execute_reply": "2025-07-28T10:33:19.673469Z"
    },
    "papermill": {
     "duration": 0.033686,
     "end_time": "2025-07-28T10:33:19.676980",
     "exception": false,
     "start_time": "2025-07-28T10:33:19.643294",
     "status": "completed"
    },
    "tags": []
   },
   "outputs": [],
   "source": [
    "X_train = siab_train.iloc[:,4:164]\n",
    "y_train = siab_train.iloc[:, [3]]"
   ]
  },
  {
   "cell_type": "code",
   "execution_count": 19,
   "id": "828c96af-f43a-4ed6-ba47-8ac73a47d56c",
   "metadata": {
    "execution": {
     "iopub.execute_input": "2025-07-28T10:33:19.718482Z",
     "iopub.status.busy": "2025-07-28T10:33:19.717791Z",
     "iopub.status.idle": "2025-07-28T10:33:19.775858Z",
     "shell.execute_reply": "2025-07-28T10:33:19.774752Z"
    },
    "papermill": {
     "duration": 0.080194,
     "end_time": "2025-07-28T10:33:19.777562",
     "exception": false,
     "start_time": "2025-07-28T10:33:19.697368",
     "status": "completed"
    },
    "tags": []
   },
   "outputs": [],
   "source": [
    "X_calib = siab_calib.iloc[:,4:164]\n",
    "y_calib = siab_calib.iloc[:, [3]]"
   ]
  },
  {
   "cell_type": "code",
   "execution_count": 20,
   "id": "c34be9c3-6bd6-476e-acd3-845840e303be",
   "metadata": {
    "execution": {
     "iopub.execute_input": "2025-07-28T10:33:19.818930Z",
     "iopub.status.busy": "2025-07-28T10:33:19.818305Z",
     "iopub.status.idle": "2025-07-28T10:33:19.874438Z",
     "shell.execute_reply": "2025-07-28T10:33:19.873380Z"
    },
    "papermill": {
     "duration": 0.078508,
     "end_time": "2025-07-28T10:33:19.876099",
     "exception": false,
     "start_time": "2025-07-28T10:33:19.797591",
     "status": "completed"
    },
    "tags": []
   },
   "outputs": [],
   "source": [
    "X_test = siab_test.iloc[:,4:164]\n",
    "y_true = siab_test.iloc[:, [3]]"
   ]
  },
  {
   "cell_type": "code",
   "execution_count": 21,
   "id": "e6c733c5",
   "metadata": {
    "execution": {
     "iopub.execute_input": "2025-07-28T10:33:19.917370Z",
     "iopub.status.busy": "2025-07-28T10:33:19.916440Z",
     "iopub.status.idle": "2025-07-28T10:33:20.019222Z",
     "shell.execute_reply": "2025-07-28T10:33:20.018248Z"
    },
    "papermill": {
     "duration": 0.125318,
     "end_time": "2025-07-28T10:33:20.021139",
     "exception": false,
     "start_time": "2025-07-28T10:33:19.895821",
     "status": "completed"
    },
    "tags": []
   },
   "outputs": [],
   "source": [
    "# Auxiliary data needed downstream in the pipeline\n",
    "\n",
    "org_train = X_train.copy()\n",
    "org_test = X_test.copy()\n",
    "org_calib = X_calib.copy()"
   ]
  },
  {
   "cell_type": "markdown",
   "id": "0a4a1b33",
   "metadata": {
    "papermill": {
     "duration": 0.019782,
     "end_time": "2025-07-28T10:33:20.060812",
     "exception": false,
     "start_time": "2025-07-28T10:33:20.041030",
     "status": "completed"
    },
    "tags": []
   },
   "source": [
    "# Preprocessing Data"
   ]
  },
  {
   "cell_type": "code",
   "execution_count": 22,
   "id": "ca879031",
   "metadata": {
    "execution": {
     "iopub.execute_input": "2025-07-28T10:33:20.101980Z",
     "iopub.status.busy": "2025-07-28T10:33:20.101384Z",
     "iopub.status.idle": "2025-07-28T10:33:20.107978Z",
     "shell.execute_reply": "2025-07-28T10:33:20.107061Z"
    },
    "papermill": {
     "duration": 0.029058,
     "end_time": "2025-07-28T10:33:20.109528",
     "exception": false,
     "start_time": "2025-07-28T10:33:20.080470",
     "status": "completed"
    },
    "tags": []
   },
   "outputs": [],
   "source": [
    "# EXCLUDE PROTECTED FEATURES\n",
    "# ----------------------\n",
    "# \"exclude_features\": \"none\", # \"nationality\", \"sex\", \"nationality-sex\"\n",
    "\n",
    "excluded_features = universe[\"exclude_features\"].split(\"-\") # split, e.g.: \"nationality-sex\" -> [\"nationality\", \"sex\"]\n",
    "excluded_features_dictionary = {\n",
    "    \"nationality\": [\"maxdeutsch1\", \"maxdeutsch.Missing.\"],\n",
    "    \"sex\": [\"frau1\"],\n",
    "    \"age\": [\"age\"],\n",
    "}\n"
   ]
  },
  {
   "cell_type": "code",
   "execution_count": 23,
   "id": "b745ac60",
   "metadata": {
    "execution": {
     "iopub.execute_input": "2025-07-28T10:33:20.152522Z",
     "iopub.status.busy": "2025-07-28T10:33:20.151831Z",
     "iopub.status.idle": "2025-07-28T10:33:20.158199Z",
     "shell.execute_reply": "2025-07-28T10:33:20.157222Z"
    },
    "papermill": {
     "duration": 0.029545,
     "end_time": "2025-07-28T10:33:20.159803",
     "exception": false,
     "start_time": "2025-07-28T10:33:20.130258",
     "status": "completed"
    },
    "tags": []
   },
   "outputs": [],
   "source": [
    "# Code nice names to column names\n",
    "\n",
    "excluded_features_columns = [\n",
    "    excluded_features_dictionary[f] for f in excluded_features if len(f) > 0 and f != \"none\"\n",
    "]"
   ]
  },
  {
   "cell_type": "code",
   "execution_count": 24,
   "id": "f84f73a2",
   "metadata": {
    "execution": {
     "iopub.execute_input": "2025-07-28T10:33:20.202004Z",
     "iopub.status.busy": "2025-07-28T10:33:20.201348Z",
     "iopub.status.idle": "2025-07-28T10:33:20.208361Z",
     "shell.execute_reply": "2025-07-28T10:33:20.207404Z"
    },
    "papermill": {
     "duration": 0.029706,
     "end_time": "2025-07-28T10:33:20.210077",
     "exception": false,
     "start_time": "2025-07-28T10:33:20.180371",
     "status": "completed"
    },
    "tags": []
   },
   "outputs": [],
   "source": [
    "from utils import flatten_once\n",
    "\n",
    "excluded_features_columns = flatten_once(excluded_features_columns)"
   ]
  },
  {
   "cell_type": "code",
   "execution_count": 25,
   "id": "884dea22",
   "metadata": {
    "execution": {
     "iopub.execute_input": "2025-07-28T10:33:20.252398Z",
     "iopub.status.busy": "2025-07-28T10:33:20.251250Z",
     "iopub.status.idle": "2025-07-28T10:33:20.257888Z",
     "shell.execute_reply": "2025-07-28T10:33:20.256957Z"
    },
    "papermill": {
     "duration": 0.029427,
     "end_time": "2025-07-28T10:33:20.259536",
     "exception": false,
     "start_time": "2025-07-28T10:33:20.230109",
     "status": "completed"
    },
    "tags": []
   },
   "outputs": [],
   "source": [
    "if len(excluded_features_columns) > 0:\n",
    "    print(f\"Dropping features: {excluded_features_columns}\")\n",
    "    X_train.drop(excluded_features_columns, axis=1, inplace=True)"
   ]
  },
  {
   "cell_type": "code",
   "execution_count": 26,
   "id": "95ab8b16",
   "metadata": {
    "execution": {
     "iopub.execute_input": "2025-07-28T10:33:20.302010Z",
     "iopub.status.busy": "2025-07-28T10:33:20.301184Z",
     "iopub.status.idle": "2025-07-28T10:33:20.307403Z",
     "shell.execute_reply": "2025-07-28T10:33:20.306470Z"
    },
    "papermill": {
     "duration": 0.029149,
     "end_time": "2025-07-28T10:33:20.308963",
     "exception": false,
     "start_time": "2025-07-28T10:33:20.279814",
     "status": "completed"
    },
    "tags": []
   },
   "outputs": [],
   "source": [
    "if len(excluded_features_columns) > 0:\n",
    "    print(f\"Dropping features: {excluded_features_columns}\")\n",
    "    X_test.drop(excluded_features_columns, axis=1, inplace=True)"
   ]
  },
  {
   "cell_type": "code",
   "execution_count": 27,
   "id": "1853aaf5-fb9f-46cb-a2b5-8ea4ae2237e4",
   "metadata": {
    "execution": {
     "iopub.execute_input": "2025-07-28T10:33:20.351609Z",
     "iopub.status.busy": "2025-07-28T10:33:20.350628Z",
     "iopub.status.idle": "2025-07-28T10:33:20.356866Z",
     "shell.execute_reply": "2025-07-28T10:33:20.355949Z"
    },
    "papermill": {
     "duration": 0.028961,
     "end_time": "2025-07-28T10:33:20.358542",
     "exception": false,
     "start_time": "2025-07-28T10:33:20.329581",
     "status": "completed"
    },
    "tags": []
   },
   "outputs": [],
   "source": [
    "if len(excluded_features_columns) > 0:\n",
    "    print(f\"Dropping features: {excluded_features_columns}\")\n",
    "    X_calib.drop(excluded_features_columns, axis=1, inplace=True)"
   ]
  },
  {
   "cell_type": "code",
   "execution_count": 28,
   "id": "6727d079-03e5-481e-9d38-292a90b7a0a8",
   "metadata": {
    "execution": {
     "iopub.execute_input": "2025-07-28T10:33:20.400541Z",
     "iopub.status.busy": "2025-07-28T10:33:20.399820Z",
     "iopub.status.idle": "2025-07-28T10:33:20.404879Z",
     "shell.execute_reply": "2025-07-28T10:33:20.403989Z"
    },
    "papermill": {
     "duration": 0.027711,
     "end_time": "2025-07-28T10:33:20.406383",
     "exception": false,
     "start_time": "2025-07-28T10:33:20.378672",
     "status": "completed"
    },
    "tags": []
   },
   "outputs": [],
   "source": [
    "# SPLIT & STRATIFY DATA\n",
    "# ----------------------"
   ]
  },
  {
   "cell_type": "code",
   "execution_count": 29,
   "id": "76c4dc6d",
   "metadata": {
    "execution": {
     "iopub.execute_input": "2025-07-28T10:33:20.448742Z",
     "iopub.status.busy": "2025-07-28T10:33:20.448163Z",
     "iopub.status.idle": "2025-07-28T10:33:20.454496Z",
     "shell.execute_reply": "2025-07-28T10:33:20.453498Z"
    },
    "papermill": {
     "duration": 0.029425,
     "end_time": "2025-07-28T10:33:20.456401",
     "exception": false,
     "start_time": "2025-07-28T10:33:20.426976",
     "status": "completed"
    },
    "tags": []
   },
   "outputs": [],
   "source": [
    "# EXCLUDE CERTAIN SUBGROUPS\n",
    "# ----------------------\n",
    "\n",
    "mode = universe.get(\"exclude_subgroups\", \"keep-all\") \n",
    "# Fetches the exclude_subgroups setting from the universe dict.\n",
    "# Defaults to \"keep-all\" if the key is missing."
   ]
  },
  {
   "cell_type": "code",
   "execution_count": 30,
   "id": "21994072",
   "metadata": {
    "execution": {
     "iopub.execute_input": "2025-07-28T10:33:20.502625Z",
     "iopub.status.busy": "2025-07-28T10:33:20.501980Z",
     "iopub.status.idle": "2025-07-28T10:33:20.511078Z",
     "shell.execute_reply": "2025-07-28T10:33:20.509711Z"
    },
    "papermill": {
     "duration": 0.032929,
     "end_time": "2025-07-28T10:33:20.512889",
     "exception": false,
     "start_time": "2025-07-28T10:33:20.479960",
     "status": "completed"
    },
    "tags": []
   },
   "outputs": [],
   "source": [
    "if mode == \"keep-all\":\n",
    "    keep_mask = pd.Series(True, index=org_train.index)\n",
    "\n",
    "# org_train contains the original feature columns from features_org (in Simson)\n",
    "# features_org contains unprocessed features, for me X_train at beginning ???\n",
    "# For keep-all, creates a boolean Series (keep_mask) of all True, so no rows are removed.\n",
    "\n",
    "elif mode == \"drop-non-german\":\n",
    "    keep_mask = org_train[\"maxdeutsch1\"] == 1 # ??? what about missing values?\n",
    "\n",
    "else:\n",
    "    raise ValueError(f\"Unsupported mode for exclude_subgroups: {mode}\")\n"
   ]
  },
  {
   "cell_type": "code",
   "execution_count": 31,
   "id": "71651440",
   "metadata": {
    "execution": {
     "iopub.execute_input": "2025-07-28T10:33:20.556517Z",
     "iopub.status.busy": "2025-07-28T10:33:20.555540Z",
     "iopub.status.idle": "2025-07-28T10:33:20.564367Z",
     "shell.execute_reply": "2025-07-28T10:33:20.563214Z"
    },
    "papermill": {
     "duration": 0.032146,
     "end_time": "2025-07-28T10:33:20.566126",
     "exception": false,
     "start_time": "2025-07-28T10:33:20.533980",
     "status": "completed"
    },
    "tags": []
   },
   "outputs": [],
   "source": [
    "n_drop = (~keep_mask).sum() # Calculates how many rows are set to be dropped\n",
    "if n_drop > 0:\n",
    "    pct = n_drop / len(keep_mask) * 100\n",
    "    print(f\"Dropping {n_drop} rows ({pct:.2f}%) where mode='{mode}'\")"
   ]
  },
  {
   "cell_type": "code",
   "execution_count": 32,
   "id": "5fb8eee5",
   "metadata": {
    "execution": {
     "iopub.execute_input": "2025-07-28T10:33:20.609711Z",
     "iopub.status.busy": "2025-07-28T10:33:20.608913Z",
     "iopub.status.idle": "2025-07-28T10:33:20.617275Z",
     "shell.execute_reply": "2025-07-28T10:33:20.616142Z"
    },
    "papermill": {
     "duration": 0.032136,
     "end_time": "2025-07-28T10:33:20.619502",
     "exception": false,
     "start_time": "2025-07-28T10:33:20.587366",
     "status": "completed"
    },
    "tags": []
   },
   "outputs": [],
   "source": [
    "X_train = X_train[keep_mask]"
   ]
  },
  {
   "cell_type": "code",
   "execution_count": 33,
   "id": "b202bb3a",
   "metadata": {
    "execution": {
     "iopub.execute_input": "2025-07-28T10:33:20.678317Z",
     "iopub.status.busy": "2025-07-28T10:33:20.677845Z",
     "iopub.status.idle": "2025-07-28T10:33:20.684151Z",
     "shell.execute_reply": "2025-07-28T10:33:20.683194Z"
    },
    "papermill": {
     "duration": 0.037716,
     "end_time": "2025-07-28T10:33:20.686128",
     "exception": false,
     "start_time": "2025-07-28T10:33:20.648412",
     "status": "completed"
    },
    "tags": []
   },
   "outputs": [],
   "source": [
    "y_train = y_train[keep_mask]"
   ]
  },
  {
   "cell_type": "markdown",
   "id": "493e2ac3",
   "metadata": {
    "papermill": {
     "duration": 0.027964,
     "end_time": "2025-07-28T10:33:20.742927",
     "exception": false,
     "start_time": "2025-07-28T10:33:20.714963",
     "status": "completed"
    },
    "tags": []
   },
   "source": [
    "# Model Training"
   ]
  },
  {
   "cell_type": "code",
   "execution_count": 34,
   "id": "679e1268",
   "metadata": {
    "execution": {
     "iopub.execute_input": "2025-07-28T10:33:20.800693Z",
     "iopub.status.busy": "2025-07-28T10:33:20.800190Z",
     "iopub.status.idle": "2025-07-28T10:33:20.907808Z",
     "shell.execute_reply": "2025-07-28T10:33:20.906891Z"
    },
    "papermill": {
     "duration": 0.139363,
     "end_time": "2025-07-28T10:33:20.910091",
     "exception": false,
     "start_time": "2025-07-28T10:33:20.770728",
     "status": "completed"
    },
    "tags": []
   },
   "outputs": [],
   "source": [
    "from sklearn.linear_model import LogisticRegression\n",
    "from sklearn.ensemble import GradientBoostingClassifier, RandomForestClassifier\n",
    "\n",
    "if (universe[\"model\"] == \"logreg\"):\n",
    "    model = LogisticRegression() #penalty=\"none\") #, solver=\"newton-cg\", max_iter=1) # include random_state=19 ?\n",
    "elif (universe[\"model\"] == \"penalized_logreg\"):\n",
    "    model = LogisticRegression(penalty=\"l2\", C=1.0) #, solver=\"newton-cg\", max_iter=1)\n",
    "elif (universe[\"model\"] == \"rf\"):\n",
    "    model = RandomForestClassifier(n_estimators=100, n_jobs=-1)\n",
    "elif (universe[\"model\"] == \"gbm\"):\n",
    "    model = GradientBoostingClassifier()\n",
    "elif (universe[\"model\"] == \"elasticnet\"):\n",
    "    model = LogisticRegression(penalty = 'elasticnet', solver = 'saga', l1_ratio = 0.5, max_iter=5000) # which solver to use?\n",
    "else:\n",
    "    raise \"Unsupported universe.model\""
   ]
  },
  {
   "cell_type": "code",
   "execution_count": 35,
   "id": "0cc8f744",
   "metadata": {
    "execution": {
     "iopub.execute_input": "2025-07-28T10:33:20.984392Z",
     "iopub.status.busy": "2025-07-28T10:33:20.982031Z",
     "iopub.status.idle": "2025-07-28T10:33:20.990812Z",
     "shell.execute_reply": "2025-07-28T10:33:20.989589Z"
    },
    "papermill": {
     "duration": 0.040982,
     "end_time": "2025-07-28T10:33:20.992748",
     "exception": false,
     "start_time": "2025-07-28T10:33:20.951766",
     "status": "completed"
    },
    "tags": []
   },
   "outputs": [],
   "source": [
    "import numpy as np\n",
    "from sklearn.pipeline import Pipeline\n",
    "from sklearn.preprocessing import StandardScaler\n",
    "\n",
    "model = Pipeline([\n",
    "    #(\"continuous_processor\", continuous_processor),\n",
    "    #(\"categorical_preprocessor\", categorical_preprocessor),\n",
    "    (\"scale\", StandardScaler() if universe[\"scale\"] == \"scale\" else None), \n",
    "    (\"model\", model),\n",
    "])"
   ]
  },
  {
   "cell_type": "code",
   "execution_count": 36,
   "id": "9442c04d",
   "metadata": {
    "execution": {
     "iopub.execute_input": "2025-07-28T10:33:21.041884Z",
     "iopub.status.busy": "2025-07-28T10:33:21.040871Z",
     "iopub.status.idle": "2025-07-28T10:33:37.004794Z",
     "shell.execute_reply": "2025-07-28T10:33:37.003667Z"
    },
    "papermill": {
     "duration": 15.990948,
     "end_time": "2025-07-28T10:33:37.007245",
     "exception": false,
     "start_time": "2025-07-28T10:33:21.016297",
     "status": "completed"
    },
    "tags": []
   },
   "outputs": [
    {
     "data": {
      "text/html": [
       "<style>#sk-container-id-1 {color: black;background-color: white;}#sk-container-id-1 pre{padding: 0;}#sk-container-id-1 div.sk-toggleable {background-color: white;}#sk-container-id-1 label.sk-toggleable__label {cursor: pointer;display: block;width: 100%;margin-bottom: 0;padding: 0.3em;box-sizing: border-box;text-align: center;}#sk-container-id-1 label.sk-toggleable__label-arrow:before {content: \"▸\";float: left;margin-right: 0.25em;color: #696969;}#sk-container-id-1 label.sk-toggleable__label-arrow:hover:before {color: black;}#sk-container-id-1 div.sk-estimator:hover label.sk-toggleable__label-arrow:before {color: black;}#sk-container-id-1 div.sk-toggleable__content {max-height: 0;max-width: 0;overflow: hidden;text-align: left;background-color: #f0f8ff;}#sk-container-id-1 div.sk-toggleable__content pre {margin: 0.2em;color: black;border-radius: 0.25em;background-color: #f0f8ff;}#sk-container-id-1 input.sk-toggleable__control:checked~div.sk-toggleable__content {max-height: 200px;max-width: 100%;overflow: auto;}#sk-container-id-1 input.sk-toggleable__control:checked~label.sk-toggleable__label-arrow:before {content: \"▾\";}#sk-container-id-1 div.sk-estimator input.sk-toggleable__control:checked~label.sk-toggleable__label {background-color: #d4ebff;}#sk-container-id-1 div.sk-label input.sk-toggleable__control:checked~label.sk-toggleable__label {background-color: #d4ebff;}#sk-container-id-1 input.sk-hidden--visually {border: 0;clip: rect(1px 1px 1px 1px);clip: rect(1px, 1px, 1px, 1px);height: 1px;margin: -1px;overflow: hidden;padding: 0;position: absolute;width: 1px;}#sk-container-id-1 div.sk-estimator {font-family: monospace;background-color: #f0f8ff;border: 1px dotted black;border-radius: 0.25em;box-sizing: border-box;margin-bottom: 0.5em;}#sk-container-id-1 div.sk-estimator:hover {background-color: #d4ebff;}#sk-container-id-1 div.sk-parallel-item::after {content: \"\";width: 100%;border-bottom: 1px solid gray;flex-grow: 1;}#sk-container-id-1 div.sk-label:hover label.sk-toggleable__label {background-color: #d4ebff;}#sk-container-id-1 div.sk-serial::before {content: \"\";position: absolute;border-left: 1px solid gray;box-sizing: border-box;top: 0;bottom: 0;left: 50%;z-index: 0;}#sk-container-id-1 div.sk-serial {display: flex;flex-direction: column;align-items: center;background-color: white;padding-right: 0.2em;padding-left: 0.2em;position: relative;}#sk-container-id-1 div.sk-item {position: relative;z-index: 1;}#sk-container-id-1 div.sk-parallel {display: flex;align-items: stretch;justify-content: center;background-color: white;position: relative;}#sk-container-id-1 div.sk-item::before, #sk-container-id-1 div.sk-parallel-item::before {content: \"\";position: absolute;border-left: 1px solid gray;box-sizing: border-box;top: 0;bottom: 0;left: 50%;z-index: -1;}#sk-container-id-1 div.sk-parallel-item {display: flex;flex-direction: column;z-index: 1;position: relative;background-color: white;}#sk-container-id-1 div.sk-parallel-item:first-child::after {align-self: flex-end;width: 50%;}#sk-container-id-1 div.sk-parallel-item:last-child::after {align-self: flex-start;width: 50%;}#sk-container-id-1 div.sk-parallel-item:only-child::after {width: 0;}#sk-container-id-1 div.sk-dashed-wrapped {border: 1px dashed gray;margin: 0 0.4em 0.5em 0.4em;box-sizing: border-box;padding-bottom: 0.4em;background-color: white;}#sk-container-id-1 div.sk-label label {font-family: monospace;font-weight: bold;display: inline-block;line-height: 1.2em;}#sk-container-id-1 div.sk-label-container {text-align: center;}#sk-container-id-1 div.sk-container {/* jupyter's `normalize.less` sets `[hidden] { display: none; }` but bootstrap.min.css set `[hidden] { display: none !important; }` so we also need the `!important` here to be able to override the default hidden behavior on the sphinx rendered scikit-learn.org. See: https://github.com/scikit-learn/scikit-learn/issues/21755 */display: inline-block !important;position: relative;}#sk-container-id-1 div.sk-text-repr-fallback {display: none;}</style><div id=\"sk-container-id-1\" class=\"sk-top-container\"><div class=\"sk-text-repr-fallback\"><pre>Pipeline(steps=[(&#x27;scale&#x27;, StandardScaler()),\n",
       "                (&#x27;model&#x27;,\n",
       "                 LogisticRegression(l1_ratio=0.5, max_iter=5000,\n",
       "                                    penalty=&#x27;elasticnet&#x27;, solver=&#x27;saga&#x27;))])</pre><b>In a Jupyter environment, please rerun this cell to show the HTML representation or trust the notebook. <br />On GitHub, the HTML representation is unable to render, please try loading this page with nbviewer.org.</b></div><div class=\"sk-container\" hidden><div class=\"sk-item sk-dashed-wrapped\"><div class=\"sk-label-container\"><div class=\"sk-label sk-toggleable\"><input class=\"sk-toggleable__control sk-hidden--visually\" id=\"sk-estimator-id-1\" type=\"checkbox\" ><label for=\"sk-estimator-id-1\" class=\"sk-toggleable__label sk-toggleable__label-arrow\">Pipeline</label><div class=\"sk-toggleable__content\"><pre>Pipeline(steps=[(&#x27;scale&#x27;, StandardScaler()),\n",
       "                (&#x27;model&#x27;,\n",
       "                 LogisticRegression(l1_ratio=0.5, max_iter=5000,\n",
       "                                    penalty=&#x27;elasticnet&#x27;, solver=&#x27;saga&#x27;))])</pre></div></div></div><div class=\"sk-serial\"><div class=\"sk-item\"><div class=\"sk-estimator sk-toggleable\"><input class=\"sk-toggleable__control sk-hidden--visually\" id=\"sk-estimator-id-2\" type=\"checkbox\" ><label for=\"sk-estimator-id-2\" class=\"sk-toggleable__label sk-toggleable__label-arrow\">StandardScaler</label><div class=\"sk-toggleable__content\"><pre>StandardScaler()</pre></div></div></div><div class=\"sk-item\"><div class=\"sk-estimator sk-toggleable\"><input class=\"sk-toggleable__control sk-hidden--visually\" id=\"sk-estimator-id-3\" type=\"checkbox\" ><label for=\"sk-estimator-id-3\" class=\"sk-toggleable__label sk-toggleable__label-arrow\">LogisticRegression</label><div class=\"sk-toggleable__content\"><pre>LogisticRegression(l1_ratio=0.5, max_iter=5000, penalty=&#x27;elasticnet&#x27;,\n",
       "                   solver=&#x27;saga&#x27;)</pre></div></div></div></div></div></div></div>"
      ],
      "text/plain": [
       "Pipeline(steps=[('scale', StandardScaler()),\n",
       "                ('model',\n",
       "                 LogisticRegression(l1_ratio=0.5, max_iter=5000,\n",
       "                                    penalty='elasticnet', solver='saga'))])"
      ]
     },
     "execution_count": 36,
     "metadata": {},
     "output_type": "execute_result"
    }
   ],
   "source": [
    "model.fit(X_train, y_train.values.ravel())"
   ]
  },
  {
   "cell_type": "code",
   "execution_count": 37,
   "id": "af59f8c0",
   "metadata": {
    "execution": {
     "iopub.execute_input": "2025-07-28T10:33:37.069131Z",
     "iopub.status.busy": "2025-07-28T10:33:37.068397Z",
     "iopub.status.idle": "2025-07-28T10:33:37.074285Z",
     "shell.execute_reply": "2025-07-28T10:33:37.073231Z"
    },
    "papermill": {
     "duration": 0.033317,
     "end_time": "2025-07-28T10:33:37.076278",
     "exception": false,
     "start_time": "2025-07-28T10:33:37.042961",
     "status": "completed"
    },
    "tags": []
   },
   "outputs": [],
   "source": [
    "from fairness_multiverse.universe import predict_w_threshold"
   ]
  },
  {
   "cell_type": "code",
   "execution_count": 38,
   "id": "a7cf2e16",
   "metadata": {
    "execution": {
     "iopub.execute_input": "2025-07-28T10:33:37.120044Z",
     "iopub.status.busy": "2025-07-28T10:33:37.119643Z",
     "iopub.status.idle": "2025-07-28T10:33:37.336383Z",
     "shell.execute_reply": "2025-07-28T10:33:37.335220Z"
    },
    "papermill": {
     "duration": 0.240334,
     "end_time": "2025-07-28T10:33:37.338217",
     "exception": false,
     "start_time": "2025-07-28T10:33:37.097883",
     "status": "completed"
    },
    "tags": []
   },
   "outputs": [
    {
     "data": {
      "text/plain": [
       "0.8531490357819641"
      ]
     },
     "execution_count": 38,
     "metadata": {},
     "output_type": "execute_result"
    }
   ],
   "source": [
    "probs_test = model.predict_proba(X_test)\n",
    "\n",
    "'''\n",
    "Below code returns a boolean array (or binary 0/1 array depending on how it’s used) where each element \n",
    "is True if the probability of class 1 is greater than or equal to the threshold, and False otherwise.\n",
    "'''\n",
    "y_pred_default = predict_w_threshold(probs_test, 0.5)\n",
    "\n",
    "from sklearn.metrics import accuracy_score\n",
    "\n",
    "# Naive prediction\n",
    "accuracy_score(y_true = y_true, y_pred = y_pred_default)"
   ]
  },
  {
   "cell_type": "code",
   "execution_count": 39,
   "id": "081964c3",
   "metadata": {
    "execution": {
     "iopub.execute_input": "2025-07-28T10:33:37.387232Z",
     "iopub.status.busy": "2025-07-28T10:33:37.386392Z",
     "iopub.status.idle": "2025-07-28T10:33:37.641966Z",
     "shell.execute_reply": "2025-07-28T10:33:37.640763Z"
    },
    "papermill": {
     "duration": 0.284128,
     "end_time": "2025-07-28T10:33:37.643880",
     "exception": false,
     "start_time": "2025-07-28T10:33:37.359752",
     "status": "completed"
    },
    "tags": []
   },
   "outputs": [
    {
     "data": {
      "text/plain": [
       "array([0, 0, 0, ..., 0, 0, 0])"
      ]
     },
     "execution_count": 39,
     "metadata": {},
     "output_type": "execute_result"
    }
   ],
   "source": [
    "model.predict(X_test)"
   ]
  },
  {
   "cell_type": "markdown",
   "id": "56c9705b",
   "metadata": {
    "papermill": {
     "duration": 0.021885,
     "end_time": "2025-07-28T10:33:37.688004",
     "exception": false,
     "start_time": "2025-07-28T10:33:37.666119",
     "status": "completed"
    },
    "tags": []
   },
   "source": [
    "# Conformal Prediction"
   ]
  },
  {
   "cell_type": "code",
   "execution_count": 40,
   "id": "160ec6ff",
   "metadata": {
    "execution": {
     "iopub.execute_input": "2025-07-28T10:33:37.735179Z",
     "iopub.status.busy": "2025-07-28T10:33:37.734578Z",
     "iopub.status.idle": "2025-07-28T10:33:37.740675Z",
     "shell.execute_reply": "2025-07-28T10:33:37.739611Z"
    },
    "papermill": {
     "duration": 0.031108,
     "end_time": "2025-07-28T10:33:37.742529",
     "exception": false,
     "start_time": "2025-07-28T10:33:37.711421",
     "status": "completed"
    },
    "tags": []
   },
   "outputs": [],
   "source": [
    "# Miscoverage level for conformal prediction (10% allowed error rate => 90% target coverage)\n",
    "alpha = 0.1"
   ]
  },
  {
   "cell_type": "code",
   "execution_count": 41,
   "id": "eadf4555-3dd3-440e-8e35-f82a4ad9f855",
   "metadata": {
    "execution": {
     "iopub.execute_input": "2025-07-28T10:33:37.788087Z",
     "iopub.status.busy": "2025-07-28T10:33:37.787481Z",
     "iopub.status.idle": "2025-07-28T10:33:38.055342Z",
     "shell.execute_reply": "2025-07-28T10:33:38.054270Z"
    },
    "papermill": {
     "duration": 0.292648,
     "end_time": "2025-07-28T10:33:38.057399",
     "exception": false,
     "start_time": "2025-07-28T10:33:37.764751",
     "status": "completed"
    },
    "tags": []
   },
   "outputs": [],
   "source": [
    "probs_calib = model.predict_proba(X_calib)"
   ]
  },
  {
   "cell_type": "code",
   "execution_count": 42,
   "id": "2ed93547-6d5d-4983-9b36-1ecb300da49a",
   "metadata": {
    "execution": {
     "iopub.execute_input": "2025-07-28T10:33:38.103311Z",
     "iopub.status.busy": "2025-07-28T10:33:38.102449Z",
     "iopub.status.idle": "2025-07-28T10:33:38.109383Z",
     "shell.execute_reply": "2025-07-28T10:33:38.108127Z"
    },
    "papermill": {
     "duration": 0.032012,
     "end_time": "2025-07-28T10:33:38.111225",
     "exception": false,
     "start_time": "2025-07-28T10:33:38.079213",
     "status": "completed"
    },
    "tags": []
   },
   "outputs": [],
   "source": [
    "y_calib = y_calib.values.ravel().astype(int)"
   ]
  },
  {
   "cell_type": "code",
   "execution_count": 43,
   "id": "65d1320d-f588-4b38-9072-62af1ae97f7d",
   "metadata": {
    "execution": {
     "iopub.execute_input": "2025-07-28T10:33:38.157038Z",
     "iopub.status.busy": "2025-07-28T10:33:38.156472Z",
     "iopub.status.idle": "2025-07-28T10:33:38.164085Z",
     "shell.execute_reply": "2025-07-28T10:33:38.163109Z"
    },
    "papermill": {
     "duration": 0.032931,
     "end_time": "2025-07-28T10:33:38.165797",
     "exception": false,
     "start_time": "2025-07-28T10:33:38.132866",
     "status": "completed"
    },
    "tags": []
   },
   "outputs": [],
   "source": [
    "from fairness_multiverse.conformal import compute_nc_scores\n",
    "\n",
    "# Compute nonconformity scores on calibration set (1 - probability of true class)\n",
    "nc_scores = compute_nc_scores(probs_calib, y_calib)"
   ]
  },
  {
   "cell_type": "code",
   "execution_count": 44,
   "id": "df3b8ca3-53b7-43d5-9667-7c85da7aeda2",
   "metadata": {
    "execution": {
     "iopub.execute_input": "2025-07-28T10:33:38.211821Z",
     "iopub.status.busy": "2025-07-28T10:33:38.211041Z",
     "iopub.status.idle": "2025-07-28T10:33:38.218563Z",
     "shell.execute_reply": "2025-07-28T10:33:38.217648Z"
    },
    "papermill": {
     "duration": 0.032337,
     "end_time": "2025-07-28T10:33:38.220150",
     "exception": false,
     "start_time": "2025-07-28T10:33:38.187813",
     "status": "completed"
    },
    "tags": []
   },
   "outputs": [],
   "source": [
    "from fairness_multiverse.conformal import find_threshold\n",
    "\n",
    "# Find conformal threshold q_hat for the given alpha (split conformal method)\n",
    "q_hat = find_threshold(nc_scores, alpha)"
   ]
  },
  {
   "cell_type": "code",
   "execution_count": 45,
   "id": "4d29e6c1-0ef6-4aa4-b8fe-4fe79b0d033a",
   "metadata": {
    "execution": {
     "iopub.execute_input": "2025-07-28T10:33:38.267047Z",
     "iopub.status.busy": "2025-07-28T10:33:38.266378Z",
     "iopub.status.idle": "2025-07-28T10:33:38.273900Z",
     "shell.execute_reply": "2025-07-28T10:33:38.272996Z"
    },
    "papermill": {
     "duration": 0.032938,
     "end_time": "2025-07-28T10:33:38.275563",
     "exception": false,
     "start_time": "2025-07-28T10:33:38.242625",
     "status": "completed"
    },
    "tags": []
   },
   "outputs": [
    {
     "data": {
      "text/plain": [
       "0.6793692200433817"
      ]
     },
     "execution_count": 45,
     "metadata": {},
     "output_type": "execute_result"
    }
   ],
   "source": [
    "q_hat"
   ]
  },
  {
   "cell_type": "code",
   "execution_count": 46,
   "id": "92460794-cdac-4be2-ba28-f28c0515a6fb",
   "metadata": {
    "execution": {
     "iopub.execute_input": "2025-07-28T10:33:38.322966Z",
     "iopub.status.busy": "2025-07-28T10:33:38.322257Z",
     "iopub.status.idle": "2025-07-28T10:33:39.206121Z",
     "shell.execute_reply": "2025-07-28T10:33:39.205173Z"
    },
    "papermill": {
     "duration": 0.909863,
     "end_time": "2025-07-28T10:33:39.208059",
     "exception": false,
     "start_time": "2025-07-28T10:33:38.298196",
     "status": "completed"
    },
    "tags": []
   },
   "outputs": [],
   "source": [
    "from fairness_multiverse.conformal import predict_conformal_sets\n",
    "\n",
    "# Generate prediction sets for each test example\n",
    "pred_sets = predict_conformal_sets(model, X_test, q_hat)"
   ]
  },
  {
   "cell_type": "code",
   "execution_count": 47,
   "id": "d90c9a65-e6db-4f5d-80cd-e68fb7e46829",
   "metadata": {
    "execution": {
     "iopub.execute_input": "2025-07-28T10:33:39.255714Z",
     "iopub.status.busy": "2025-07-28T10:33:39.255214Z",
     "iopub.status.idle": "2025-07-28T10:33:39.261233Z",
     "shell.execute_reply": "2025-07-28T10:33:39.260235Z"
    },
    "papermill": {
     "duration": 0.032291,
     "end_time": "2025-07-28T10:33:39.262969",
     "exception": false,
     "start_time": "2025-07-28T10:33:39.230678",
     "status": "completed"
    },
    "tags": []
   },
   "outputs": [],
   "source": [
    "y_true = y_true.squeeze()"
   ]
  },
  {
   "cell_type": "code",
   "execution_count": 48,
   "id": "3a58a54a-1e68-46b9-927a-df01f18aebc8",
   "metadata": {
    "execution": {
     "iopub.execute_input": "2025-07-28T10:33:39.309229Z",
     "iopub.status.busy": "2025-07-28T10:33:39.308446Z",
     "iopub.status.idle": "2025-07-28T10:33:40.048807Z",
     "shell.execute_reply": "2025-07-28T10:33:40.047770Z"
    },
    "papermill": {
     "duration": 0.765726,
     "end_time": "2025-07-28T10:33:40.050791",
     "exception": false,
     "start_time": "2025-07-28T10:33:39.285065",
     "status": "completed"
    },
    "tags": []
   },
   "outputs": [],
   "source": [
    "from fairness_multiverse.conformal import evaluate_sets\n",
    "\n",
    "# Evaluate coverage and average set size on test data\n",
    "metrics = evaluate_sets(pred_sets, y_true)"
   ]
  },
  {
   "cell_type": "markdown",
   "id": "2b569c12-9aaa-4c88-98c9-bbcd0cf3ebb8",
   "metadata": {
    "papermill": {
     "duration": 0.021605,
     "end_time": "2025-07-28T10:33:40.094925",
     "exception": false,
     "start_time": "2025-07-28T10:33:40.073320",
     "status": "completed"
    },
    "tags": []
   },
   "source": [
    "# CP Metrics"
   ]
  },
  {
   "cell_type": "code",
   "execution_count": 49,
   "id": "5ce0a5cb-201f-45a0-ade5-94c7f0bd6095",
   "metadata": {
    "execution": {
     "iopub.execute_input": "2025-07-28T10:33:40.140233Z",
     "iopub.status.busy": "2025-07-28T10:33:40.139685Z",
     "iopub.status.idle": "2025-07-28T10:33:40.147985Z",
     "shell.execute_reply": "2025-07-28T10:33:40.146999Z"
    },
    "papermill": {
     "duration": 0.033234,
     "end_time": "2025-07-28T10:33:40.150135",
     "exception": false,
     "start_time": "2025-07-28T10:33:40.116901",
     "status": "completed"
    },
    "tags": []
   },
   "outputs": [
    {
     "data": {
      "text/plain": [
       "{'coverage': 0.9110355590235202, 'avg_size': 1.1457919964329506}"
      ]
     },
     "execution_count": 49,
     "metadata": {},
     "output_type": "execute_result"
    }
   ],
   "source": [
    "metrics"
   ]
  },
  {
   "cell_type": "code",
   "execution_count": 50,
   "id": "9b9a838d-31c9-430b-ae14-12baee460d17",
   "metadata": {
    "execution": {
     "iopub.execute_input": "2025-07-28T10:33:40.197184Z",
     "iopub.status.busy": "2025-07-28T10:33:40.196682Z",
     "iopub.status.idle": "2025-07-28T10:33:40.203577Z",
     "shell.execute_reply": "2025-07-28T10:33:40.202508Z"
    },
    "papermill": {
     "duration": 0.032837,
     "end_time": "2025-07-28T10:33:40.205512",
     "exception": false,
     "start_time": "2025-07-28T10:33:40.172675",
     "status": "completed"
    },
    "tags": []
   },
   "outputs": [],
   "source": [
    "example_universe = universe.copy()\n",
    "universe_training_size = example_universe.get(\"training_size\")\n",
    "universe_scale = example_universe.get(\"scale\")\n",
    "universe_model = example_universe.get(\"model\")\n",
    "universe_exclude_features = example_universe.get(\"exclude_features\")\n",
    "universe_exclude_subgroups = example_universe.get(\"exclude_subgroups\")"
   ]
  },
  {
   "cell_type": "code",
   "execution_count": 51,
   "id": "f4b6a8ac-9dc0-4245-8a91-5b3b5999c4f9",
   "metadata": {
    "execution": {
     "iopub.execute_input": "2025-07-28T10:33:40.252945Z",
     "iopub.status.busy": "2025-07-28T10:33:40.251925Z",
     "iopub.status.idle": "2025-07-28T10:33:40.258714Z",
     "shell.execute_reply": "2025-07-28T10:33:40.257820Z"
    },
    "papermill": {
     "duration": 0.031469,
     "end_time": "2025-07-28T10:33:40.260281",
     "exception": false,
     "start_time": "2025-07-28T10:33:40.228812",
     "status": "completed"
    },
    "tags": []
   },
   "outputs": [],
   "source": [
    "cp_metrics_dict = {\n",
    "    \"universe_id\": [universe_id],\n",
    "    \"universe_training_size\": [universe_training_size],\n",
    "    \"universe_scale\": [universe_scale],\n",
    "    \"universe_model\": [universe_model],\n",
    "    \"universe_exclude_features\": [universe_exclude_features],\n",
    "    \"universe_exclude_subgroups\": [universe_exclude_subgroups],\n",
    "    \"q_hat\": [q_hat],\n",
    "    \"coverage\": [metrics[\"coverage\"]],\n",
    "    \"avg_size\": [metrics[\"avg_size\"]],\n",
    "}"
   ]
  },
  {
   "cell_type": "code",
   "execution_count": 52,
   "id": "908acbb1-0371-4915-85ca-3fa520d2efe2",
   "metadata": {
    "execution": {
     "iopub.execute_input": "2025-07-28T10:33:40.305680Z",
     "iopub.status.busy": "2025-07-28T10:33:40.305207Z",
     "iopub.status.idle": "2025-07-28T10:33:40.312796Z",
     "shell.execute_reply": "2025-07-28T10:33:40.311858Z"
    },
    "papermill": {
     "duration": 0.032145,
     "end_time": "2025-07-28T10:33:40.314194",
     "exception": false,
     "start_time": "2025-07-28T10:33:40.282049",
     "status": "completed"
    },
    "tags": []
   },
   "outputs": [
    {
     "data": {
      "text/plain": [
       "{'universe_id': ['278cb6e5863ad9638d0fd224e74eee1d'],\n",
       " 'universe_training_size': ['5k'],\n",
       " 'universe_scale': ['scale'],\n",
       " 'universe_model': ['elasticnet'],\n",
       " 'universe_exclude_features': ['none'],\n",
       " 'universe_exclude_subgroups': ['keep-all'],\n",
       " 'q_hat': [0.6793692200433817],\n",
       " 'coverage': [0.9110355590235202],\n",
       " 'avg_size': [1.1457919964329506]}"
      ]
     },
     "execution_count": 52,
     "metadata": {},
     "output_type": "execute_result"
    }
   ],
   "source": [
    "cp_metrics_dict"
   ]
  },
  {
   "cell_type": "code",
   "execution_count": 53,
   "id": "33007efc-14e9-4ec6-97ac-56a455c82265",
   "metadata": {
    "execution": {
     "iopub.execute_input": "2025-07-28T10:33:40.361842Z",
     "iopub.status.busy": "2025-07-28T10:33:40.361099Z",
     "iopub.status.idle": "2025-07-28T10:33:40.367674Z",
     "shell.execute_reply": "2025-07-28T10:33:40.366645Z"
    },
    "papermill": {
     "duration": 0.032368,
     "end_time": "2025-07-28T10:33:40.369444",
     "exception": false,
     "start_time": "2025-07-28T10:33:40.337076",
     "status": "completed"
    },
    "tags": []
   },
   "outputs": [],
   "source": [
    "cp_metrics_df = pd.DataFrame(cp_metrics_dict)"
   ]
  },
  {
   "cell_type": "code",
   "execution_count": 54,
   "id": "db12611b-57b2-4910-b9d0-355adfd6e7bf",
   "metadata": {
    "execution": {
     "iopub.execute_input": "2025-07-28T10:33:40.417238Z",
     "iopub.status.busy": "2025-07-28T10:33:40.416549Z",
     "iopub.status.idle": "2025-07-28T10:33:40.434921Z",
     "shell.execute_reply": "2025-07-28T10:33:40.433908Z"
    },
    "papermill": {
     "duration": 0.044265,
     "end_time": "2025-07-28T10:33:40.436692",
     "exception": false,
     "start_time": "2025-07-28T10:33:40.392427",
     "status": "completed"
    },
    "tags": []
   },
   "outputs": [
    {
     "data": {
      "text/html": [
       "<div>\n",
       "<style scoped>\n",
       "    .dataframe tbody tr th:only-of-type {\n",
       "        vertical-align: middle;\n",
       "    }\n",
       "\n",
       "    .dataframe tbody tr th {\n",
       "        vertical-align: top;\n",
       "    }\n",
       "\n",
       "    .dataframe thead th {\n",
       "        text-align: right;\n",
       "    }\n",
       "</style>\n",
       "<table border=\"1\" class=\"dataframe\">\n",
       "  <thead>\n",
       "    <tr style=\"text-align: right;\">\n",
       "      <th></th>\n",
       "      <th>universe_id</th>\n",
       "      <th>universe_training_size</th>\n",
       "      <th>universe_scale</th>\n",
       "      <th>universe_model</th>\n",
       "      <th>universe_exclude_features</th>\n",
       "      <th>universe_exclude_subgroups</th>\n",
       "      <th>q_hat</th>\n",
       "      <th>coverage</th>\n",
       "      <th>avg_size</th>\n",
       "    </tr>\n",
       "  </thead>\n",
       "  <tbody>\n",
       "    <tr>\n",
       "      <th>0</th>\n",
       "      <td>278cb6e5863ad9638d0fd224e74eee1d</td>\n",
       "      <td>5k</td>\n",
       "      <td>scale</td>\n",
       "      <td>elasticnet</td>\n",
       "      <td>none</td>\n",
       "      <td>keep-all</td>\n",
       "      <td>0.679369</td>\n",
       "      <td>0.911036</td>\n",
       "      <td>1.145792</td>\n",
       "    </tr>\n",
       "  </tbody>\n",
       "</table>\n",
       "</div>"
      ],
      "text/plain": [
       "                        universe_id universe_training_size universe_scale  \\\n",
       "0  278cb6e5863ad9638d0fd224e74eee1d                     5k          scale   \n",
       "\n",
       "  universe_model universe_exclude_features universe_exclude_subgroups  \\\n",
       "0     elasticnet                      none                   keep-all   \n",
       "\n",
       "      q_hat  coverage  avg_size  \n",
       "0  0.679369  0.911036  1.145792  "
      ]
     },
     "execution_count": 54,
     "metadata": {},
     "output_type": "execute_result"
    }
   ],
   "source": [
    "cp_metrics_df"
   ]
  },
  {
   "cell_type": "code",
   "execution_count": 55,
   "id": "b7fbde55-a0a1-47e4-9af6-fe4a17fa8c61",
   "metadata": {
    "execution": {
     "iopub.execute_input": "2025-07-28T10:33:40.488256Z",
     "iopub.status.busy": "2025-07-28T10:33:40.487309Z",
     "iopub.status.idle": "2025-07-28T10:33:40.493133Z",
     "shell.execute_reply": "2025-07-28T10:33:40.492070Z"
    },
    "papermill": {
     "duration": 0.033569,
     "end_time": "2025-07-28T10:33:40.494874",
     "exception": false,
     "start_time": "2025-07-28T10:33:40.461305",
     "status": "completed"
    },
    "tags": []
   },
   "outputs": [],
   "source": [
    "# Conditional Coverage & looking at subgroups"
   ]
  },
  {
   "cell_type": "code",
   "execution_count": 56,
   "id": "027ae886-68dd-4141-96c7-805a5450e1ef",
   "metadata": {
    "execution": {
     "iopub.execute_input": "2025-07-28T10:33:40.545241Z",
     "iopub.status.busy": "2025-07-28T10:33:40.544785Z",
     "iopub.status.idle": "2025-07-28T10:33:40.825911Z",
     "shell.execute_reply": "2025-07-28T10:33:40.824872Z"
    },
    "papermill": {
     "duration": 0.308424,
     "end_time": "2025-07-28T10:33:40.827798",
     "exception": false,
     "start_time": "2025-07-28T10:33:40.519374",
     "status": "completed"
    },
    "tags": []
   },
   "outputs": [],
   "source": [
    "from fairness_multiverse.conformal import build_cp_groups\n",
    "\n",
    "cp_groups_df = build_cp_groups(pred_sets, y_true, X_test.index, org_test)\n",
    "#needs universe_id and setting"
   ]
  },
  {
   "cell_type": "code",
   "execution_count": 57,
   "id": "01d5802c-663a-4d1f-9d69-e036faaffbf7",
   "metadata": {
    "execution": {
     "iopub.execute_input": "2025-07-28T10:33:40.878460Z",
     "iopub.status.busy": "2025-07-28T10:33:40.877619Z",
     "iopub.status.idle": "2025-07-28T10:33:40.882692Z",
     "shell.execute_reply": "2025-07-28T10:33:40.881743Z"
    },
    "papermill": {
     "duration": 0.031602,
     "end_time": "2025-07-28T10:33:40.884384",
     "exception": false,
     "start_time": "2025-07-28T10:33:40.852782",
     "status": "completed"
    },
    "tags": []
   },
   "outputs": [],
   "source": [
    "#delete\n",
    "#cp_groups_df"
   ]
  },
  {
   "cell_type": "code",
   "execution_count": 58,
   "id": "fa424af1-d1eb-443d-b717-2d279ada8408",
   "metadata": {
    "execution": {
     "iopub.execute_input": "2025-07-28T10:33:40.918036Z",
     "iopub.status.busy": "2025-07-28T10:33:40.917667Z",
     "iopub.status.idle": "2025-07-28T10:33:40.922058Z",
     "shell.execute_reply": "2025-07-28T10:33:40.921253Z"
    },
    "papermill": {
     "duration": 0.023107,
     "end_time": "2025-07-28T10:33:40.923500",
     "exception": false,
     "start_time": "2025-07-28T10:33:40.900393",
     "status": "completed"
    },
    "tags": []
   },
   "outputs": [],
   "source": [
    "#delete\n",
    "#percentage = (cp_groups_df['nongerman_female'] == 1).mean() * 100\n",
    "#print(percentage)\n"
   ]
  },
  {
   "cell_type": "code",
   "execution_count": 59,
   "id": "6cbdab96-b2b2-45af-ad54-d0516db2e28d",
   "metadata": {
    "execution": {
     "iopub.execute_input": "2025-07-28T10:33:40.952818Z",
     "iopub.status.busy": "2025-07-28T10:33:40.952441Z",
     "iopub.status.idle": "2025-07-28T10:33:42.649791Z",
     "shell.execute_reply": "2025-07-28T10:33:42.648689Z"
    },
    "papermill": {
     "duration": 1.714038,
     "end_time": "2025-07-28T10:33:42.651722",
     "exception": false,
     "start_time": "2025-07-28T10:33:40.937684",
     "status": "completed"
    },
    "tags": []
   },
   "outputs": [],
   "source": [
    "# Define covered = 1 if true_label is in the predicted set\n",
    "cp_groups_df['covered'] = cp_groups_df.apply(\n",
    "    lambda r: int(r['true_label'] in r['pred_set']),\n",
    "    axis=1\n",
    ")"
   ]
  },
  {
   "cell_type": "code",
   "execution_count": 60,
   "id": "338ff529-1a6b-4b87-a931-8e4788d52aad",
   "metadata": {
    "execution": {
     "iopub.execute_input": "2025-07-28T10:33:42.704157Z",
     "iopub.status.busy": "2025-07-28T10:33:42.703181Z",
     "iopub.status.idle": "2025-07-28T10:33:42.708719Z",
     "shell.execute_reply": "2025-07-28T10:33:42.707668Z"
    },
    "papermill": {
     "duration": 0.032167,
     "end_time": "2025-07-28T10:33:42.710669",
     "exception": false,
     "start_time": "2025-07-28T10:33:42.678502",
     "status": "completed"
    },
    "tags": []
   },
   "outputs": [],
   "source": [
    "#cp_groups_df"
   ]
  },
  {
   "cell_type": "code",
   "execution_count": 61,
   "id": "90032e27-66df-4540-9169-4e89cfbaa758",
   "metadata": {
    "execution": {
     "iopub.execute_input": "2025-07-28T10:33:42.767968Z",
     "iopub.status.busy": "2025-07-28T10:33:42.767081Z",
     "iopub.status.idle": "2025-07-28T10:33:42.779363Z",
     "shell.execute_reply": "2025-07-28T10:33:42.778412Z"
    },
    "papermill": {
     "duration": 0.042607,
     "end_time": "2025-07-28T10:33:42.781132",
     "exception": false,
     "start_time": "2025-07-28T10:33:42.738525",
     "status": "completed"
    },
    "tags": []
   },
   "outputs": [],
   "source": [
    "subgroups = ['frau1','nongerman','nongerman_male','nongerman_female']\n",
    "\n",
    "# Conditional coverage for subgroup==1\n",
    "cond_coverage = {\n",
    "    g: cp_groups_df.loc[cp_groups_df[g]==1, 'covered'].mean()\n",
    "    for g in subgroups\n",
    "}"
   ]
  },
  {
   "cell_type": "code",
   "execution_count": 62,
   "id": "1e348fb1-b9c3-45bc-ba23-f016827a7e0d",
   "metadata": {
    "execution": {
     "iopub.execute_input": "2025-07-28T10:33:42.838604Z",
     "iopub.status.busy": "2025-07-28T10:33:42.837911Z",
     "iopub.status.idle": "2025-07-28T10:33:42.845553Z",
     "shell.execute_reply": "2025-07-28T10:33:42.844534Z"
    },
    "papermill": {
     "duration": 0.038175,
     "end_time": "2025-07-28T10:33:42.847358",
     "exception": false,
     "start_time": "2025-07-28T10:33:42.809183",
     "status": "completed"
    },
    "tags": []
   },
   "outputs": [
    {
     "data": {
      "text/plain": [
       "{'frau1': 0.9084243159455452,\n",
       " 'nongerman': 0.9109639027676416,\n",
       " 'nongerman_male': 0.9280374673511663,\n",
       " 'nongerman_female': 0.8827123695976155}"
      ]
     },
     "execution_count": 62,
     "metadata": {},
     "output_type": "execute_result"
    }
   ],
   "source": [
    "cond_coverage"
   ]
  },
  {
   "cell_type": "code",
   "execution_count": 63,
   "id": "f5093324-c3dd-4d63-bc4c-8d945e5c8bbb",
   "metadata": {
    "execution": {
     "iopub.execute_input": "2025-07-28T10:33:42.904755Z",
     "iopub.status.busy": "2025-07-28T10:33:42.903778Z",
     "iopub.status.idle": "2025-07-28T10:33:42.912265Z",
     "shell.execute_reply": "2025-07-28T10:33:42.911218Z"
    },
    "papermill": {
     "duration": 0.038893,
     "end_time": "2025-07-28T10:33:42.914013",
     "exception": false,
     "start_time": "2025-07-28T10:33:42.875120",
     "status": "completed"
    },
    "tags": []
   },
   "outputs": [],
   "source": [
    "for subgroup, cov in cond_coverage.items():\n",
    "    cp_metrics_df[f\"cov_{subgroup}\"] = cov"
   ]
  },
  {
   "cell_type": "code",
   "execution_count": 64,
   "id": "6e872e10-dbe5-49e8-b554-5030c98ff75d",
   "metadata": {
    "execution": {
     "iopub.execute_input": "2025-07-28T10:33:42.971036Z",
     "iopub.status.busy": "2025-07-28T10:33:42.970361Z",
     "iopub.status.idle": "2025-07-28T10:33:42.991324Z",
     "shell.execute_reply": "2025-07-28T10:33:42.990130Z"
    },
    "papermill": {
     "duration": 0.051206,
     "end_time": "2025-07-28T10:33:42.993125",
     "exception": false,
     "start_time": "2025-07-28T10:33:42.941919",
     "status": "completed"
    },
    "tags": []
   },
   "outputs": [
    {
     "data": {
      "text/html": [
       "<div>\n",
       "<style scoped>\n",
       "    .dataframe tbody tr th:only-of-type {\n",
       "        vertical-align: middle;\n",
       "    }\n",
       "\n",
       "    .dataframe tbody tr th {\n",
       "        vertical-align: top;\n",
       "    }\n",
       "\n",
       "    .dataframe thead th {\n",
       "        text-align: right;\n",
       "    }\n",
       "</style>\n",
       "<table border=\"1\" class=\"dataframe\">\n",
       "  <thead>\n",
       "    <tr style=\"text-align: right;\">\n",
       "      <th></th>\n",
       "      <th>universe_id</th>\n",
       "      <th>universe_training_size</th>\n",
       "      <th>universe_scale</th>\n",
       "      <th>universe_model</th>\n",
       "      <th>universe_exclude_features</th>\n",
       "      <th>universe_exclude_subgroups</th>\n",
       "      <th>q_hat</th>\n",
       "      <th>coverage</th>\n",
       "      <th>avg_size</th>\n",
       "      <th>cov_frau1</th>\n",
       "      <th>cov_nongerman</th>\n",
       "      <th>cov_nongerman_male</th>\n",
       "      <th>cov_nongerman_female</th>\n",
       "    </tr>\n",
       "  </thead>\n",
       "  <tbody>\n",
       "    <tr>\n",
       "      <th>0</th>\n",
       "      <td>278cb6e5863ad9638d0fd224e74eee1d</td>\n",
       "      <td>5k</td>\n",
       "      <td>scale</td>\n",
       "      <td>elasticnet</td>\n",
       "      <td>none</td>\n",
       "      <td>keep-all</td>\n",
       "      <td>0.679369</td>\n",
       "      <td>0.911036</td>\n",
       "      <td>1.145792</td>\n",
       "      <td>0.908424</td>\n",
       "      <td>0.910964</td>\n",
       "      <td>0.928037</td>\n",
       "      <td>0.882712</td>\n",
       "    </tr>\n",
       "  </tbody>\n",
       "</table>\n",
       "</div>"
      ],
      "text/plain": [
       "                        universe_id universe_training_size universe_scale  \\\n",
       "0  278cb6e5863ad9638d0fd224e74eee1d                     5k          scale   \n",
       "\n",
       "  universe_model universe_exclude_features universe_exclude_subgroups  \\\n",
       "0     elasticnet                      none                   keep-all   \n",
       "\n",
       "      q_hat  coverage  avg_size  cov_frau1  cov_nongerman  cov_nongerman_male  \\\n",
       "0  0.679369  0.911036  1.145792   0.908424       0.910964            0.928037   \n",
       "\n",
       "   cov_nongerman_female  \n",
       "0              0.882712  "
      ]
     },
     "execution_count": 64,
     "metadata": {},
     "output_type": "execute_result"
    }
   ],
   "source": [
    "cp_metrics_df"
   ]
  },
  {
   "cell_type": "markdown",
   "id": "33774451",
   "metadata": {
    "papermill": {
     "duration": 0.024039,
     "end_time": "2025-07-28T10:33:43.042005",
     "exception": false,
     "start_time": "2025-07-28T10:33:43.017966",
     "status": "completed"
    },
    "tags": []
   },
   "source": [
    "# (Fairness) Metrics"
   ]
  },
  {
   "cell_type": "code",
   "execution_count": 65,
   "id": "debc5d62",
   "metadata": {
    "execution": {
     "iopub.execute_input": "2025-07-28T10:33:43.092558Z",
     "iopub.status.busy": "2025-07-28T10:33:43.091625Z",
     "iopub.status.idle": "2025-07-28T10:33:43.114254Z",
     "shell.execute_reply": "2025-07-28T10:33:43.113370Z"
    },
    "papermill": {
     "duration": 0.049894,
     "end_time": "2025-07-28T10:33:43.116164",
     "exception": false,
     "start_time": "2025-07-28T10:33:43.066270",
     "status": "completed"
    },
    "tags": []
   },
   "outputs": [],
   "source": [
    "# do I need to include maxdeutsch1.missing?\n",
    "\n",
    "import numpy as np\n",
    "\n",
    "colname_to_bin = \"maxdeutsch1\"\n",
    "majority_value = org_train[colname_to_bin].mode()[0]\n",
    "\n",
    "org_test[\"majmin\"] = np.where(org_test[colname_to_bin] == majority_value, \"majority\", \"minority\")"
   ]
  },
  {
   "cell_type": "code",
   "execution_count": 66,
   "id": "06a50de5",
   "metadata": {
    "execution": {
     "iopub.execute_input": "2025-07-28T10:33:43.157876Z",
     "iopub.status.busy": "2025-07-28T10:33:43.157377Z",
     "iopub.status.idle": "2025-07-28T10:33:45.756998Z",
     "shell.execute_reply": "2025-07-28T10:33:45.756002Z"
    },
    "papermill": {
     "duration": 2.617301,
     "end_time": "2025-07-28T10:33:45.759046",
     "exception": false,
     "start_time": "2025-07-28T10:33:43.141745",
     "status": "completed"
    },
    "tags": []
   },
   "outputs": [],
   "source": [
    "example_universe = universe.copy()\n",
    "example_universe[\"cutoff\"] = example_universe[\"cutoff\"][0]\n",
    "example_universe[\"eval_fairness_grouping\"] = example_universe[\"eval_fairness_grouping\"][0]\n",
    "fairness_dict, metric_frame = universe_analysis.compute_metrics(\n",
    "    example_universe,\n",
    "    y_pred_prob=probs_test,\n",
    "    y_test=y_true,\n",
    "    org_test=org_test,\n",
    ")"
   ]
  },
  {
   "cell_type": "markdown",
   "id": "f95d4e02",
   "metadata": {
    "papermill": {
     "duration": 0.02365,
     "end_time": "2025-07-28T10:33:45.807196",
     "exception": false,
     "start_time": "2025-07-28T10:33:45.783546",
     "status": "completed"
    },
    "tags": []
   },
   "source": [
    "# Overall"
   ]
  },
  {
   "cell_type": "markdown",
   "id": "bdee4871",
   "metadata": {
    "papermill": {
     "duration": 0.023501,
     "end_time": "2025-07-28T10:33:45.854366",
     "exception": false,
     "start_time": "2025-07-28T10:33:45.830865",
     "status": "completed"
    },
    "tags": []
   },
   "source": [
    "Fairness\n",
    "Main fairness target: Equalized Odds. Seems to be a better fit than equal opportunity, since we're not only interested in Y = 1. Seems to be a better fit than demographic parity, since we also care about accuracy, not just equal distribution of preds.\n",
    "\n",
    "Pick column for computation of fairness metrics\n",
    "\n",
    "Performance\n",
    "Overall performance measures, most interesting in relation to the measures split by group below"
   ]
  },
  {
   "cell_type": "code",
   "execution_count": 67,
   "id": "c4e067c6",
   "metadata": {
    "execution": {
     "iopub.execute_input": "2025-07-28T10:33:45.903776Z",
     "iopub.status.busy": "2025-07-28T10:33:45.902978Z",
     "iopub.status.idle": "2025-07-28T10:33:45.911579Z",
     "shell.execute_reply": "2025-07-28T10:33:45.910641Z"
    },
    "papermill": {
     "duration": 0.035153,
     "end_time": "2025-07-28T10:33:45.913174",
     "exception": false,
     "start_time": "2025-07-28T10:33:45.878021",
     "status": "completed"
    },
    "tags": []
   },
   "outputs": [
    {
     "data": {
      "text/plain": [
       "accuracy                   0.223598\n",
       "balanced accuracy          0.546891\n",
       "f1                         0.244951\n",
       "precision                  0.139932\n",
       "false positive rate        0.887970\n",
       "false negative rate        0.018248\n",
       "selection rate             0.900000\n",
       "count                  89710.000000\n",
       "dtype: float64"
      ]
     },
     "execution_count": 67,
     "metadata": {},
     "output_type": "execute_result"
    }
   ],
   "source": [
    "metric_frame.overall"
   ]
  },
  {
   "cell_type": "markdown",
   "id": "e968fe9d",
   "metadata": {
    "papermill": {
     "duration": 0.023949,
     "end_time": "2025-07-28T10:33:45.961570",
     "exception": false,
     "start_time": "2025-07-28T10:33:45.937621",
     "status": "completed"
    },
    "tags": []
   },
   "source": [
    "By Group"
   ]
  },
  {
   "cell_type": "code",
   "execution_count": 68,
   "id": "ec325bce",
   "metadata": {
    "execution": {
     "iopub.execute_input": "2025-07-28T10:33:46.011232Z",
     "iopub.status.busy": "2025-07-28T10:33:46.010521Z",
     "iopub.status.idle": "2025-07-28T10:33:46.027626Z",
     "shell.execute_reply": "2025-07-28T10:33:46.026507Z"
    },
    "papermill": {
     "duration": 0.043396,
     "end_time": "2025-07-28T10:33:46.029111",
     "exception": false,
     "start_time": "2025-07-28T10:33:45.985715",
     "status": "completed"
    },
    "tags": []
   },
   "outputs": [
    {
     "data": {
      "text/html": [
       "<div>\n",
       "<style scoped>\n",
       "    .dataframe tbody tr th:only-of-type {\n",
       "        vertical-align: middle;\n",
       "    }\n",
       "\n",
       "    .dataframe tbody tr th {\n",
       "        vertical-align: top;\n",
       "    }\n",
       "\n",
       "    .dataframe thead th {\n",
       "        text-align: right;\n",
       "    }\n",
       "</style>\n",
       "<table border=\"1\" class=\"dataframe\">\n",
       "  <thead>\n",
       "    <tr style=\"text-align: right;\">\n",
       "      <th></th>\n",
       "      <th>accuracy</th>\n",
       "      <th>balanced accuracy</th>\n",
       "      <th>f1</th>\n",
       "      <th>precision</th>\n",
       "      <th>false positive rate</th>\n",
       "      <th>false negative rate</th>\n",
       "      <th>selection rate</th>\n",
       "      <th>count</th>\n",
       "    </tr>\n",
       "    <tr>\n",
       "      <th>majmin</th>\n",
       "      <th></th>\n",
       "      <th></th>\n",
       "      <th></th>\n",
       "      <th></th>\n",
       "      <th></th>\n",
       "      <th></th>\n",
       "      <th></th>\n",
       "      <th></th>\n",
       "    </tr>\n",
       "  </thead>\n",
       "  <tbody>\n",
       "    <tr>\n",
       "      <th>majority</th>\n",
       "      <td>0.244514</td>\n",
       "      <td>0.556534</td>\n",
       "      <td>0.255418</td>\n",
       "      <td>0.146831</td>\n",
       "      <td>0.867566</td>\n",
       "      <td>0.019365</td>\n",
       "      <td>0.882507</td>\n",
       "      <td>69170.0</td>\n",
       "    </tr>\n",
       "    <tr>\n",
       "      <th>minority</th>\n",
       "      <td>0.153165</td>\n",
       "      <td>0.515347</td>\n",
       "      <td>0.211657</td>\n",
       "      <td>0.118552</td>\n",
       "      <td>0.955371</td>\n",
       "      <td>0.013936</td>\n",
       "      <td>0.958909</td>\n",
       "      <td>20540.0</td>\n",
       "    </tr>\n",
       "  </tbody>\n",
       "</table>\n",
       "</div>"
      ],
      "text/plain": [
       "          accuracy  balanced accuracy        f1  precision  \\\n",
       "majmin                                                       \n",
       "majority  0.244514           0.556534  0.255418   0.146831   \n",
       "minority  0.153165           0.515347  0.211657   0.118552   \n",
       "\n",
       "          false positive rate  false negative rate  selection rate    count  \n",
       "majmin                                                                       \n",
       "majority             0.867566             0.019365        0.882507  69170.0  \n",
       "minority             0.955371             0.013936        0.958909  20540.0  "
      ]
     },
     "execution_count": 68,
     "metadata": {},
     "output_type": "execute_result"
    }
   ],
   "source": [
    "metric_frame.by_group"
   ]
  },
  {
   "cell_type": "code",
   "execution_count": 69,
   "id": "a9ddbe63",
   "metadata": {
    "execution": {
     "iopub.execute_input": "2025-07-28T10:33:46.085751Z",
     "iopub.status.busy": "2025-07-28T10:33:46.085266Z",
     "iopub.status.idle": "2025-07-28T10:33:48.457812Z",
     "shell.execute_reply": "2025-07-28T10:33:48.456893Z"
    },
    "papermill": {
     "duration": 2.402901,
     "end_time": "2025-07-28T10:33:48.459515",
     "exception": false,
     "start_time": "2025-07-28T10:33:46.056614",
     "status": "completed"
    },
    "tags": []
   },
   "outputs": [
    {
     "data": {
      "text/plain": [
       "array([[<Axes: title={'center': 'accuracy'}, xlabel='majmin'>,\n",
       "        <Axes: title={'center': 'balanced accuracy'}, xlabel='majmin'>,\n",
       "        <Axes: title={'center': 'f1'}, xlabel='majmin'>],\n",
       "       [<Axes: title={'center': 'precision'}, xlabel='majmin'>,\n",
       "        <Axes: title={'center': 'false positive rate'}, xlabel='majmin'>,\n",
       "        <Axes: title={'center': 'false negative rate'}, xlabel='majmin'>],\n",
       "       [<Axes: title={'center': 'selection rate'}, xlabel='majmin'>,\n",
       "        <Axes: title={'center': 'count'}, xlabel='majmin'>,\n",
       "        <Axes: xlabel='majmin'>]], dtype=object)"
      ]
     },
     "execution_count": 69,
     "metadata": {},
     "output_type": "execute_result"
    },
    {
     "data": {
      "image/png": "[encoded data removed]",
      "text/plain": [
       "<Figure size 1200x800 with 9 Axes>"
      ]
     },
     "metadata": {},
     "output_type": "display_data"
    }
   ],
   "source": [
    "# In a graphic\n",
    "metric_frame.by_group.plot.bar(\n",
    "    subplots=True,\n",
    "    layout=[3, 3],\n",
    "    legend=False,\n",
    "    figsize=[12, 8],\n",
    "    title=\"Show all metrics\",\n",
    ")"
   ]
  },
  {
   "cell_type": "markdown",
   "id": "f57a0bac",
   "metadata": {
    "papermill": {
     "duration": 0.026425,
     "end_time": "2025-07-28T10:33:48.515918",
     "exception": false,
     "start_time": "2025-07-28T10:33:48.489493",
     "status": "completed"
    },
    "tags": []
   },
   "source": [
    "# Final Output"
   ]
  },
  {
   "cell_type": "code",
   "execution_count": 70,
   "id": "96d280a3",
   "metadata": {
    "execution": {
     "iopub.execute_input": "2025-07-28T10:33:48.571715Z",
     "iopub.status.busy": "2025-07-28T10:33:48.571027Z",
     "iopub.status.idle": "2025-07-28T10:33:48.579888Z",
     "shell.execute_reply": "2025-07-28T10:33:48.578944Z"
    },
    "papermill": {
     "duration": 0.038656,
     "end_time": "2025-07-28T10:33:48.581685",
     "exception": false,
     "start_time": "2025-07-28T10:33:48.543029",
     "status": "completed"
    },
    "tags": []
   },
   "outputs": [
    {
     "data": {
      "text/plain": [
       "4"
      ]
     },
     "execution_count": 70,
     "metadata": {},
     "output_type": "execute_result"
    }
   ],
   "source": [
    "sub_universes = universe_analysis.generate_sub_universes()\n",
    "len(sub_universes)"
   ]
  },
  {
   "cell_type": "code",
   "execution_count": 71,
   "id": "92adf7ba",
   "metadata": {
    "execution": {
     "iopub.execute_input": "2025-07-28T10:33:48.638858Z",
     "iopub.status.busy": "2025-07-28T10:33:48.638372Z",
     "iopub.status.idle": "2025-07-28T10:33:48.645056Z",
     "shell.execute_reply": "2025-07-28T10:33:48.644020Z"
    },
    "papermill": {
     "duration": 0.037601,
     "end_time": "2025-07-28T10:33:48.646960",
     "exception": false,
     "start_time": "2025-07-28T10:33:48.609359",
     "status": "completed"
    },
    "tags": []
   },
   "outputs": [],
   "source": [
    "def filter_sub_universe_data(sub_universe, org_test):\n",
    "    # Keep all rows — no filtering\n",
    "    keep_rows_mask = np.ones(org_test.shape[0], dtype=bool)\n",
    "\n",
    "    print(f\"[INFO] Keeping all rows: {keep_rows_mask.sum()} rows retained.\")\n",
    "    return keep_rows_mask"
   ]
  },
  {
   "cell_type": "code",
   "execution_count": 72,
   "id": "4a759155",
   "metadata": {
    "execution": {
     "iopub.execute_input": "2025-07-28T10:33:48.705148Z",
     "iopub.status.busy": "2025-07-28T10:33:48.704669Z",
     "iopub.status.idle": "2025-07-28T10:34:00.612006Z",
     "shell.execute_reply": "2025-07-28T10:34:00.610965Z"
    },
    "papermill": {
     "duration": 11.93817,
     "end_time": "2025-07-28T10:34:00.613781",
     "exception": false,
     "start_time": "2025-07-28T10:33:48.675611",
     "status": "completed"
    },
    "tags": []
   },
   "outputs": [
    {
     "name": "stdout",
     "output_type": "stream",
     "text": [
      "Stopping execution_time clock.\n",
      "[INFO] Keeping all rows: 89710 rows retained.\n"
     ]
    },
    {
     "name": "stdout",
     "output_type": "stream",
     "text": [
      "[INFO] Keeping all rows: 89710 rows retained.\n"
     ]
    },
    {
     "name": "stdout",
     "output_type": "stream",
     "text": [
      "[INFO] Keeping all rows: 89710 rows retained.\n"
     ]
    },
    {
     "name": "stdout",
     "output_type": "stream",
     "text": [
      "[INFO] Keeping all rows: 89710 rows retained.\n"
     ]
    },
    {
     "data": {
      "text/html": [
       "<div>\n",
       "<style scoped>\n",
       "    .dataframe tbody tr th:only-of-type {\n",
       "        vertical-align: middle;\n",
       "    }\n",
       "\n",
       "    .dataframe tbody tr th {\n",
       "        vertical-align: top;\n",
       "    }\n",
       "\n",
       "    .dataframe thead th {\n",
       "        text-align: right;\n",
       "    }\n",
       "</style>\n",
       "<table border=\"1\" class=\"dataframe\">\n",
       "  <thead>\n",
       "    <tr style=\"text-align: right;\">\n",
       "      <th></th>\n",
       "      <th>run_no</th>\n",
       "      <th>universe_id</th>\n",
       "      <th>universe_settings</th>\n",
       "      <th>execution_time</th>\n",
       "      <th>test_size_n</th>\n",
       "      <th>test_size_frac</th>\n",
       "      <th>fair_main_equalized_odds_difference</th>\n",
       "      <th>fair_main_equalized_odds_ratio</th>\n",
       "      <th>fair_main_demographic_parity_difference</th>\n",
       "      <th>fair_main_demographic_parity_ratio</th>\n",
       "      <th>...</th>\n",
       "      <th>perf_grp_precision_0</th>\n",
       "      <th>perf_grp_precision_1</th>\n",
       "      <th>perf_grp_false positive rate_0</th>\n",
       "      <th>perf_grp_false positive rate_1</th>\n",
       "      <th>perf_grp_false negative rate_0</th>\n",
       "      <th>perf_grp_false negative rate_1</th>\n",
       "      <th>perf_grp_selection rate_0</th>\n",
       "      <th>perf_grp_selection rate_1</th>\n",
       "      <th>perf_grp_count_0</th>\n",
       "      <th>perf_grp_count_1</th>\n",
       "    </tr>\n",
       "  </thead>\n",
       "  <tbody>\n",
       "    <tr>\n",
       "      <th>0</th>\n",
       "      <td>11</td>\n",
       "      <td>278cb6e5863ad9638d0fd224e74eee1d</td>\n",
       "      <td>{\"cutoff\": \"quantile_0.1\", \"eval_fairness_grou...</td>\n",
       "      <td>44.433139</td>\n",
       "      <td>89710</td>\n",
       "      <td>1.0</td>\n",
       "      <td>0.087805</td>\n",
       "      <td>0.908094</td>\n",
       "      <td>0.076403</td>\n",
       "      <td>0.920323</td>\n",
       "      <td>...</td>\n",
       "      <td>NaN</td>\n",
       "      <td>NaN</td>\n",
       "      <td>NaN</td>\n",
       "      <td>NaN</td>\n",
       "      <td>NaN</td>\n",
       "      <td>NaN</td>\n",
       "      <td>NaN</td>\n",
       "      <td>NaN</td>\n",
       "      <td>NaN</td>\n",
       "      <td>NaN</td>\n",
       "    </tr>\n",
       "    <tr>\n",
       "      <th>0</th>\n",
       "      <td>11</td>\n",
       "      <td>278cb6e5863ad9638d0fd224e74eee1d</td>\n",
       "      <td>{\"cutoff\": \"quantile_0.1\", \"eval_fairness_grou...</td>\n",
       "      <td>44.433139</td>\n",
       "      <td>89710</td>\n",
       "      <td>1.0</td>\n",
       "      <td>0.087805</td>\n",
       "      <td>0.908094</td>\n",
       "      <td>0.076403</td>\n",
       "      <td>0.920323</td>\n",
       "      <td>...</td>\n",
       "      <td>0.118552</td>\n",
       "      <td>0.146831</td>\n",
       "      <td>0.955371</td>\n",
       "      <td>0.867566</td>\n",
       "      <td>0.013936</td>\n",
       "      <td>0.019365</td>\n",
       "      <td>0.958909</td>\n",
       "      <td>0.882507</td>\n",
       "      <td>20540.0</td>\n",
       "      <td>69170.0</td>\n",
       "    </tr>\n",
       "    <tr>\n",
       "      <th>0</th>\n",
       "      <td>11</td>\n",
       "      <td>278cb6e5863ad9638d0fd224e74eee1d</td>\n",
       "      <td>{\"cutoff\": \"quantile_0.25\", \"eval_fairness_gro...</td>\n",
       "      <td>44.433139</td>\n",
       "      <td>89710</td>\n",
       "      <td>1.0</td>\n",
       "      <td>0.166690</td>\n",
       "      <td>0.804082</td>\n",
       "      <td>0.145235</td>\n",
       "      <td>0.831509</td>\n",
       "      <td>...</td>\n",
       "      <td>NaN</td>\n",
       "      <td>NaN</td>\n",
       "      <td>NaN</td>\n",
       "      <td>NaN</td>\n",
       "      <td>NaN</td>\n",
       "      <td>NaN</td>\n",
       "      <td>NaN</td>\n",
       "      <td>NaN</td>\n",
       "      <td>NaN</td>\n",
       "      <td>NaN</td>\n",
       "    </tr>\n",
       "    <tr>\n",
       "      <th>0</th>\n",
       "      <td>11</td>\n",
       "      <td>278cb6e5863ad9638d0fd224e74eee1d</td>\n",
       "      <td>{\"cutoff\": \"quantile_0.25\", \"eval_fairness_gro...</td>\n",
       "      <td>44.433139</td>\n",
       "      <td>89710</td>\n",
       "      <td>1.0</td>\n",
       "      <td>0.166690</td>\n",
       "      <td>0.804082</td>\n",
       "      <td>0.145235</td>\n",
       "      <td>0.831509</td>\n",
       "      <td>...</td>\n",
       "      <td>0.126744</td>\n",
       "      <td>0.171632</td>\n",
       "      <td>0.850814</td>\n",
       "      <td>0.684125</td>\n",
       "      <td>0.052365</td>\n",
       "      <td>0.069037</td>\n",
       "      <td>0.861977</td>\n",
       "      <td>0.716741</td>\n",
       "      <td>20540.0</td>\n",
       "      <td>69170.0</td>\n",
       "    </tr>\n",
       "  </tbody>\n",
       "</table>\n",
       "<p>4 rows × 50 columns</p>\n",
       "</div>"
      ],
      "text/plain": [
       "  run_no                       universe_id  \\\n",
       "0     11  278cb6e5863ad9638d0fd224e74eee1d   \n",
       "0     11  278cb6e5863ad9638d0fd224e74eee1d   \n",
       "0     11  278cb6e5863ad9638d0fd224e74eee1d   \n",
       "0     11  278cb6e5863ad9638d0fd224e74eee1d   \n",
       "\n",
       "                                   universe_settings  execution_time  \\\n",
       "0  {\"cutoff\": \"quantile_0.1\", \"eval_fairness_grou...       44.433139   \n",
       "0  {\"cutoff\": \"quantile_0.1\", \"eval_fairness_grou...       44.433139   \n",
       "0  {\"cutoff\": \"quantile_0.25\", \"eval_fairness_gro...       44.433139   \n",
       "0  {\"cutoff\": \"quantile_0.25\", \"eval_fairness_gro...       44.433139   \n",
       "\n",
       "   test_size_n  test_size_frac  fair_main_equalized_odds_difference  \\\n",
       "0        89710             1.0                             0.087805   \n",
       "0        89710             1.0                             0.087805   \n",
       "0        89710             1.0                             0.166690   \n",
       "0        89710             1.0                             0.166690   \n",
       "\n",
       "   fair_main_equalized_odds_ratio  fair_main_demographic_parity_difference  \\\n",
       "0                        0.908094                                 0.076403   \n",
       "0                        0.908094                                 0.076403   \n",
       "0                        0.804082                                 0.145235   \n",
       "0                        0.804082                                 0.145235   \n",
       "\n",
       "   fair_main_demographic_parity_ratio  ...  perf_grp_precision_0  \\\n",
       "0                            0.920323  ...                   NaN   \n",
       "0                            0.920323  ...              0.118552   \n",
       "0                            0.831509  ...                   NaN   \n",
       "0                            0.831509  ...              0.126744   \n",
       "\n",
       "   perf_grp_precision_1  perf_grp_false positive rate_0  \\\n",
       "0                   NaN                             NaN   \n",
       "0              0.146831                        0.955371   \n",
       "0                   NaN                             NaN   \n",
       "0              0.171632                        0.850814   \n",
       "\n",
       "   perf_grp_false positive rate_1  perf_grp_false negative rate_0  \\\n",
       "0                             NaN                             NaN   \n",
       "0                        0.867566                        0.013936   \n",
       "0                             NaN                             NaN   \n",
       "0                        0.684125                        0.052365   \n",
       "\n",
       "   perf_grp_false negative rate_1  perf_grp_selection rate_0  \\\n",
       "0                             NaN                        NaN   \n",
       "0                        0.019365                   0.958909   \n",
       "0                             NaN                        NaN   \n",
       "0                        0.069037                   0.861977   \n",
       "\n",
       "   perf_grp_selection rate_1  perf_grp_count_0  perf_grp_count_1  \n",
       "0                        NaN               NaN               NaN  \n",
       "0                   0.882507           20540.0           69170.0  \n",
       "0                        NaN               NaN               NaN  \n",
       "0                   0.716741           20540.0           69170.0  \n",
       "\n",
       "[4 rows x 50 columns]"
      ]
     },
     "execution_count": 72,
     "metadata": {},
     "output_type": "execute_result"
    }
   ],
   "source": [
    "final_output = universe_analysis.generate_final_output(\n",
    "    y_pred_prob=probs_test,\n",
    "    y_test=y_true,\n",
    "    org_test=org_test,\n",
    "    filter_data=filter_sub_universe_data,\n",
    "    cp_metrics_df=cp_metrics_df,\n",
    "    save=True,\n",
    ")\n",
    "final_output"
   ]
  },
  {
   "cell_type": "code",
   "execution_count": null,
   "id": "721ff514-cb11-46f8-b6fc-50392f74b5cb",
   "metadata": {
    "papermill": {
     "duration": 0.027233,
     "end_time": "2025-07-28T10:34:00.671499",
     "exception": false,
     "start_time": "2025-07-28T10:34:00.644266",
     "status": "completed"
    },
    "tags": []
   },
   "outputs": [],
   "source": []
  }
 ],
 "metadata": {
  "celltoolbar": "Tags",
  "kernelspec": {
   "display_name": "Python (CMA Fairness)",
   "language": "python",
   "name": "cma_fair_env"
  },
  "language_info": {
   "codemirror_mode": {
    "name": "ipython",
    "version": 3
   },
   "file_extension": ".py",
   "mimetype": "text/x-python",
   "name": "python",
   "nbconvert_exporter": "python",
   "pygments_lexer": "ipython3",
   "version": "3.10.12"
  },
  "papermill": {
   "default_parameters": {},
   "duration": 60.615489,
   "end_time": "2025-07-28T10:34:01.517871",
   "environment_variables": {},
   "exception": null,
   "input_path": "universe_analysis.ipynb",
   "output_path": "output/runs/11/notebooks/m_11-278cb6e5863ad9638d0fd224e74eee1d.ipynb",
   "parameters": {
    "output_dir": "output",
    "run_no": "11",
    "seed": "2023",
    "universe": "{\"cutoff\": [\"quantile_0.1\", \"quantile_0.25\"], \"eval_fairness_grouping\": [\"majority-minority\", \"nationality-all\"], \"exclude_features\": \"none\", \"exclude_subgroups\": \"keep-all\", \"model\": \"elasticnet\", \"scale\": \"scale\", \"training_size\": \"5k\"}",
    "universe_id": "278cb6e5863ad9638d0fd224e74eee1d"
   },
   "start_time": "2025-07-28T10:33:00.902382",
   "version": "2.6.0"
  }
 },
 "nbformat": 4,
 "nbformat_minor": 5
}