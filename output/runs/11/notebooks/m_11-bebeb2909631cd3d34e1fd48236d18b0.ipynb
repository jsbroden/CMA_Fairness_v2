{
 "cells": [
  {
   "cell_type": "code",
   "execution_count": 1,
   "id": "f159f837-637b-42ba-96b5-ec9a68c44524",
   "metadata": {
    "execution": {
     "iopub.execute_input": "2025-07-28T11:02:41.885769Z",
     "iopub.status.busy": "2025-07-28T11:02:41.884853Z",
     "iopub.status.idle": "2025-07-28T11:02:41.898531Z",
     "shell.execute_reply": "2025-07-28T11:02:41.897608Z"
    },
    "papermill": {
     "duration": 0.036973,
     "end_time": "2025-07-28T11:02:41.900275",
     "exception": false,
     "start_time": "2025-07-28T11:02:41.863302",
     "status": "completed"
    },
    "tags": []
   },
   "outputs": [
    {
     "name": "stdout",
     "output_type": "stream",
     "text": [
      "/dss/dsshome1/0C/ra93lal2/cma/CMA_Fairness_v2\n"
     ]
    },
    {
     "name": "stderr",
     "output_type": "stream",
     "text": [
      "/dss/dsshome1/0C/ra93lal2/.local/share/virtualenvs/CMA_Fairness_v2-3j10GkSs/lib/python3.10/site-packages/IPython/core/magics/osm.py:393: UserWarning: This is now an optional IPython functionality, using bookmarks requires you to install the `pickleshare` library.\n",
      "  bkms = self.shell.db.get('bookmarks', {})\n",
      "/dss/dsshome1/0C/ra93lal2/.local/share/virtualenvs/CMA_Fairness_v2-3j10GkSs/lib/python3.10/site-packages/IPython/core/magics/osm.py:417: UserWarning: This is now an optional IPython functionality, setting dhist requires you to install the `pickleshare` library.\n",
      "  self.shell.db['dhist'] = compress_dhist(dhist)[-100:]\n"
     ]
    }
   ],
   "source": [
    "%cd ~/cma/CMA_Fairness_v2"
   ]
  },
  {
   "cell_type": "markdown",
   "id": "de2603b9",
   "metadata": {
    "papermill": {
     "duration": 0.017959,
     "end_time": "2025-07-28T11:02:41.936257",
     "exception": false,
     "start_time": "2025-07-28T11:02:41.918298",
     "status": "completed"
    },
    "tags": []
   },
   "source": [
    "The following cell holds the definition of our parameters, these values can be overriden by rendering the with e.g. the following command:\n",
    "\n",
    "papermill -p alpha 0.2 -p ratio 0.3 universe_analysis.ipynb output/test_run.ipynb"
   ]
  },
  {
   "cell_type": "code",
   "execution_count": 2,
   "id": "a80968a0-40bb-4fa9-85ef-2d5eefb01975",
   "metadata": {
    "execution": {
     "iopub.execute_input": "2025-07-28T11:02:41.973705Z",
     "iopub.status.busy": "2025-07-28T11:02:41.973141Z",
     "iopub.status.idle": "2025-07-28T11:02:41.978902Z",
     "shell.execute_reply": "2025-07-28T11:02:41.978063Z"
    },
    "papermill": {
     "duration": 0.02635,
     "end_time": "2025-07-28T11:02:41.980430",
     "exception": false,
     "start_time": "2025-07-28T11:02:41.954080",
     "status": "completed"
    },
    "tags": []
   },
   "outputs": [
    {
     "name": "stdout",
     "output_type": "stream",
     "text": [
      "Current working directory: /dss/dsshome1/0C/ra93lal2/cma/CMA_Fairness_v2\n"
     ]
    }
   ],
   "source": [
    "import os\n",
    "print(\"Current working directory:\", os.getcwd())"
   ]
  },
  {
   "cell_type": "code",
   "execution_count": 3,
   "id": "2dce4c03",
   "metadata": {
    "execution": {
     "iopub.execute_input": "2025-07-28T11:02:42.017212Z",
     "iopub.status.busy": "2025-07-28T11:02:42.016758Z",
     "iopub.status.idle": "2025-07-28T11:02:42.024064Z",
     "shell.execute_reply": "2025-07-28T11:02:42.023112Z"
    },
    "papermill": {
     "duration": 0.027495,
     "end_time": "2025-07-28T11:02:42.025716",
     "exception": false,
     "start_time": "2025-07-28T11:02:41.998221",
     "status": "completed"
    },
    "tags": [
     "parameters"
    ]
   },
   "outputs": [],
   "source": [
    "run_no = 0\n",
    "universe_id = \"test\"\n",
    "universe = {\n",
    "    \"training_size\": \"2014\", # \"25k\", \"5k\", \"1k\", \"2014\"\n",
    "    \"scale\": \"scale\", # \"scale\", \"do-not-scale\",\n",
    "    #\"stratify_split\": \"target\", # \"none\", \"target\", \"protected-attribute\", \"both\",\n",
    "    \"model\": \"elasticnet\", # \"logreg\", \"penalized_logreg\", \"rf\", \"gbm\", \"elasticnet\"\n",
    "    \"cutoff\": [\"quantile_0.15\", \"quantile_0.30\"],\n",
    "    \"exclude_features\": \"age\", # \"none\", \"nationality\", \"sex\", \"nationality-sex\", \"age\"\n",
    "    \"exclude_subgroups\": \"keep-all\", # \"keep-all\", \"drop-non-german\"\n",
    "    \"eval_fairness_grouping\": [\"majority-minority\", \"nationality-all\"]\n",
    "}\n",
    "\n",
    "output_dir=\"./output\"\n",
    "seed=0"
   ]
  },
  {
   "cell_type": "code",
   "execution_count": 4,
   "id": "4eb48b73",
   "metadata": {
    "execution": {
     "iopub.execute_input": "2025-07-28T11:02:42.063786Z",
     "iopub.status.busy": "2025-07-28T11:02:42.062896Z",
     "iopub.status.idle": "2025-07-28T11:02:42.068553Z",
     "shell.execute_reply": "2025-07-28T11:02:42.067625Z"
    },
    "papermill": {
     "duration": 0.026133,
     "end_time": "2025-07-28T11:02:42.070019",
     "exception": false,
     "start_time": "2025-07-28T11:02:42.043886",
     "status": "completed"
    },
    "tags": [
     "injected-parameters"
    ]
   },
   "outputs": [],
   "source": [
    "# Parameters\n",
    "universe_id = \"bebeb2909631cd3d34e1fd48236d18b0\"\n",
    "run_no = \"11\"\n",
    "universe = \"{\\\"cutoff\\\": [\\\"quantile_0.1\\\", \\\"quantile_0.25\\\"], \\\"eval_fairness_grouping\\\": [\\\"majority-minority\\\", \\\"nationality-all\\\"], \\\"exclude_features\\\": \\\"none\\\", \\\"exclude_subgroups\\\": \\\"keep-all\\\", \\\"model\\\": \\\"logreg\\\", \\\"scale\\\": \\\"do-not-scale\\\", \\\"training_size\\\": \\\"2014\\\"}\"\n",
    "output_dir = \"output\"\n",
    "seed = \"2023\"\n"
   ]
  },
  {
   "cell_type": "code",
   "execution_count": 5,
   "id": "1650acaf",
   "metadata": {
    "execution": {
     "iopub.execute_input": "2025-07-28T11:02:42.106977Z",
     "iopub.status.busy": "2025-07-28T11:02:42.106236Z",
     "iopub.status.idle": "2025-07-28T11:02:42.111386Z",
     "shell.execute_reply": "2025-07-28T11:02:42.110474Z"
    },
    "papermill": {
     "duration": 0.025005,
     "end_time": "2025-07-28T11:02:42.112813",
     "exception": false,
     "start_time": "2025-07-28T11:02:42.087808",
     "status": "completed"
    },
    "tags": []
   },
   "outputs": [],
   "source": [
    "import json\n",
    "# Parse universe into dict if it is passed as a string\n",
    "if isinstance(universe, str):\n",
    "    universe = json.loads(universe)"
   ]
  },
  {
   "cell_type": "code",
   "execution_count": 6,
   "id": "16620c48",
   "metadata": {
    "execution": {
     "iopub.execute_input": "2025-07-28T11:02:42.150422Z",
     "iopub.status.busy": "2025-07-28T11:02:42.149936Z",
     "iopub.status.idle": "2025-07-28T11:02:42.194138Z",
     "shell.execute_reply": "2025-07-28T11:02:42.193300Z"
    },
    "papermill": {
     "duration": 0.065252,
     "end_time": "2025-07-28T11:02:42.196065",
     "exception": false,
     "start_time": "2025-07-28T11:02:42.130813",
     "status": "completed"
    },
    "tags": []
   },
   "outputs": [],
   "source": [
    "# Auto-reload the custom package\n",
    "%load_ext autoreload\n",
    "%autoreload 1\n",
    "%aimport fairness_multiverse"
   ]
  },
  {
   "cell_type": "code",
   "execution_count": 7,
   "id": "01c5c9f3",
   "metadata": {
    "execution": {
     "iopub.execute_input": "2025-07-28T11:02:42.234033Z",
     "iopub.status.busy": "2025-07-28T11:02:42.233160Z",
     "iopub.status.idle": "2025-07-28T11:02:44.216075Z",
     "shell.execute_reply": "2025-07-28T11:02:44.215058Z"
    },
    "papermill": {
     "duration": 2.003598,
     "end_time": "2025-07-28T11:02:44.218062",
     "exception": false,
     "start_time": "2025-07-28T11:02:42.214464",
     "status": "completed"
    },
    "tags": []
   },
   "outputs": [],
   "source": [
    "from fairness_multiverse.universe import UniverseAnalysis\n",
    "\n",
    "universe_analysis = UniverseAnalysis(\n",
    "    run_no = run_no,\n",
    "    universe_id = universe_id,\n",
    "    universe = universe,\n",
    "    output_dir=output_dir,\n",
    ")"
   ]
  },
  {
   "cell_type": "code",
   "execution_count": 8,
   "id": "106241f5",
   "metadata": {
    "execution": {
     "iopub.execute_input": "2025-07-28T11:02:44.257629Z",
     "iopub.status.busy": "2025-07-28T11:02:44.257119Z",
     "iopub.status.idle": "2025-07-28T11:02:44.264087Z",
     "shell.execute_reply": "2025-07-28T11:02:44.263077Z"
    },
    "papermill": {
     "duration": 0.028568,
     "end_time": "2025-07-28T11:02:44.266400",
     "exception": false,
     "start_time": "2025-07-28T11:02:44.237832",
     "status": "completed"
    },
    "tags": []
   },
   "outputs": [
    {
     "name": "stdout",
     "output_type": "stream",
     "text": [
      "Using Seed: 2023\n"
     ]
    }
   ],
   "source": [
    "import numpy as np\n",
    "parsed_seed = int(seed)\n",
    "np.random.seed(parsed_seed)\n",
    "print(f\"Using Seed: {parsed_seed}\")"
   ]
  },
  {
   "cell_type": "markdown",
   "id": "e0ebdc57",
   "metadata": {
    "papermill": {
     "duration": 0.01795,
     "end_time": "2025-07-28T11:02:44.302642",
     "exception": false,
     "start_time": "2025-07-28T11:02:44.284692",
     "status": "completed"
    },
    "tags": []
   },
   "source": [
    "# Loading Data"
   ]
  },
  {
   "cell_type": "markdown",
   "id": "681925a3",
   "metadata": {
    "papermill": {
     "duration": 0.018109,
     "end_time": "2025-07-28T11:02:44.338966",
     "exception": false,
     "start_time": "2025-07-28T11:02:44.320857",
     "status": "completed"
    },
    "tags": []
   },
   "source": [
    "Load siab_train, siab_test, siab_calib and/or \n",
    "load siab_train_features, siab_train_labels"
   ]
  },
  {
   "cell_type": "code",
   "execution_count": 9,
   "id": "f0496b8a",
   "metadata": {
    "execution": {
     "iopub.execute_input": "2025-07-28T11:02:44.376973Z",
     "iopub.status.busy": "2025-07-28T11:02:44.376467Z",
     "iopub.status.idle": "2025-07-28T11:02:57.488855Z",
     "shell.execute_reply": "2025-07-28T11:02:57.487449Z"
    },
    "papermill": {
     "duration": 13.133534,
     "end_time": "2025-07-28T11:02:57.490619",
     "exception": false,
     "start_time": "2025-07-28T11:02:44.357085",
     "status": "completed"
    },
    "tags": []
   },
   "outputs": [
    {
     "name": "stdout",
     "output_type": "stream",
     "text": [
      "Loading SIAB data from cache: data/siab_cached.csv.gz\n"
     ]
    },
    {
     "name": "stdout",
     "output_type": "stream",
     "text": [
      "(643690, 164)\n"
     ]
    }
   ],
   "source": [
    "from pathlib import Path\n",
    "import pandas as pd\n",
    "\n",
    "# File paths\n",
    "raw_file = Path(\"data/raw/siab.csv\")\n",
    "cache_file = Path(\"data/siab_cached.csv.gz\")\n",
    "\n",
    "# Ensure cache directory exists\n",
    "cache_file.parent.mkdir(parents=True, exist_ok=True)\n",
    "\n",
    "# Load with simple caching\n",
    "if cache_file.exists():\n",
    "    print(f\"Loading SIAB data from cache: {cache_file}\")\n",
    "    siab = pd.read_csv(cache_file, compression='gzip')\n",
    "else:\n",
    "    print(f\"Cache not found. Reading raw SIAB data: {raw_file}\")\n",
    "    siab = pd.read_csv(raw_file)\n",
    "    siab.to_csv(cache_file, index=False, compression='gzip')\n",
    "    print(f\"Cached SIAB data to: {cache_file}\")\n",
    "\n",
    "# Now use `siab` DataFrame as needed\n",
    "print(siab.shape)"
   ]
  },
  {
   "cell_type": "code",
   "execution_count": 10,
   "id": "db0ca512-5f53-4dba-abdb-a2888bca41ba",
   "metadata": {
    "execution": {
     "iopub.execute_input": "2025-07-28T11:02:57.537117Z",
     "iopub.status.busy": "2025-07-28T11:02:57.536367Z",
     "iopub.status.idle": "2025-07-28T11:02:57.542316Z",
     "shell.execute_reply": "2025-07-28T11:02:57.541352Z"
    },
    "papermill": {
     "duration": 0.029649,
     "end_time": "2025-07-28T11:02:57.544007",
     "exception": false,
     "start_time": "2025-07-28T11:02:57.514358",
     "status": "completed"
    },
    "tags": []
   },
   "outputs": [],
   "source": [
    "#siab"
   ]
  },
  {
   "cell_type": "code",
   "execution_count": 11,
   "id": "a0edb063",
   "metadata": {
    "execution": {
     "iopub.execute_input": "2025-07-28T11:02:57.587360Z",
     "iopub.status.busy": "2025-07-28T11:02:57.586708Z",
     "iopub.status.idle": "2025-07-28T11:02:57.592244Z",
     "shell.execute_reply": "2025-07-28T11:02:57.591265Z"
    },
    "papermill": {
     "duration": 0.028915,
     "end_time": "2025-07-28T11:02:57.593890",
     "exception": false,
     "start_time": "2025-07-28T11:02:57.564975",
     "status": "completed"
    },
    "tags": []
   },
   "outputs": [],
   "source": [
    "#import pandas as pd\n",
    "#\n",
    "#X_train = pd.read_csv(\"./data/X_train.csv\")\n",
    "#y_train = pd.read_csv(\"./data/y_train.csv\")"
   ]
  },
  {
   "cell_type": "code",
   "execution_count": 12,
   "id": "63d08085",
   "metadata": {
    "execution": {
     "iopub.execute_input": "2025-07-28T11:02:57.639760Z",
     "iopub.status.busy": "2025-07-28T11:02:57.638716Z",
     "iopub.status.idle": "2025-07-28T11:02:57.644137Z",
     "shell.execute_reply": "2025-07-28T11:02:57.643135Z"
    },
    "papermill": {
     "duration": 0.029926,
     "end_time": "2025-07-28T11:02:57.645643",
     "exception": false,
     "start_time": "2025-07-28T11:02:57.615717",
     "status": "completed"
    },
    "tags": []
   },
   "outputs": [],
   "source": [
    "#X_test = pd.read_csv(\"./data/X_test.csv\")\n",
    "#y_true = pd.read_csv(\"./data/y_test.csv\")"
   ]
  },
  {
   "cell_type": "code",
   "execution_count": 13,
   "id": "98a8d0fa-1d3d-4ed8-bb2c-281470e24add",
   "metadata": {
    "execution": {
     "iopub.execute_input": "2025-07-28T11:02:57.684636Z",
     "iopub.status.busy": "2025-07-28T11:02:57.683802Z",
     "iopub.status.idle": "2025-07-28T11:02:57.689104Z",
     "shell.execute_reply": "2025-07-28T11:02:57.688088Z"
    },
    "papermill": {
     "duration": 0.026027,
     "end_time": "2025-07-28T11:02:57.690624",
     "exception": false,
     "start_time": "2025-07-28T11:02:57.664597",
     "status": "completed"
    },
    "tags": []
   },
   "outputs": [],
   "source": [
    "# Calibration data for conformal\n",
    "#X_calib = pd.read_csv(\"./data/X_calib.csv\")\n",
    "#y_calib = pd.read_csv(\"./data/y_calib.csv\")"
   ]
  },
  {
   "cell_type": "markdown",
   "id": "9901737e-04df-44f0-9100-f5ad144ed040",
   "metadata": {
    "papermill": {
     "duration": 0.018237,
     "end_time": "2025-07-28T11:02:57.727838",
     "exception": false,
     "start_time": "2025-07-28T11:02:57.709601",
     "status": "completed"
    },
    "tags": []
   },
   "source": [
    "# Splitting Data and Setting Training Data Size"
   ]
  },
  {
   "cell_type": "code",
   "execution_count": 14,
   "id": "acbc8f7d-8fc8-4e86-8c59-5dcb0f58384b",
   "metadata": {
    "execution": {
     "iopub.execute_input": "2025-07-28T11:02:57.767034Z",
     "iopub.status.busy": "2025-07-28T11:02:57.766400Z",
     "iopub.status.idle": "2025-07-28T11:02:57.775245Z",
     "shell.execute_reply": "2025-07-28T11:02:57.774290Z"
    },
    "papermill": {
     "duration": 0.030493,
     "end_time": "2025-07-28T11:02:57.776960",
     "exception": false,
     "start_time": "2025-07-28T11:02:57.746467",
     "status": "completed"
    },
    "tags": []
   },
   "outputs": [],
   "source": [
    "def sample_by_year(df, training_size, random_state=42):\n",
    "    if training_size == \"2014\":\n",
    "        return df[df[\"year\"] == 2014].reset_index(drop=True)\n",
    "    \n",
    "    size_map = {\n",
    "        \"25k\": 5000,\n",
    "        \"5k\": 1000,\n",
    "        \"1k\": 200\n",
    "    }\n",
    "\n",
    "    if training_size not in size_map:\n",
    "        return df.reset_index(drop=True)  # use all data\n",
    "\n",
    "    n_per_year = size_map[training_size]\n",
    "    grouped = df.groupby(\"year\")\n",
    "    sampled = grouped.apply(lambda x: x.sample(n=min(n_per_year, len(x)), random_state=random_state))\n",
    "    return sampled.reset_index(drop=True)"
   ]
  },
  {
   "cell_type": "code",
   "execution_count": 15,
   "id": "6d931f52-beaf-43ff-9e78-9d44a448d54e",
   "metadata": {
    "execution": {
     "iopub.execute_input": "2025-07-28T11:02:57.816651Z",
     "iopub.status.busy": "2025-07-28T11:02:57.815786Z",
     "iopub.status.idle": "2025-07-28T11:02:58.015720Z",
     "shell.execute_reply": "2025-07-28T11:02:58.014759Z"
    },
    "papermill": {
     "duration": 0.221672,
     "end_time": "2025-07-28T11:02:58.017653",
     "exception": false,
     "start_time": "2025-07-28T11:02:57.795981",
     "status": "completed"
    },
    "tags": []
   },
   "outputs": [],
   "source": [
    "siab_s = sample_by_year(siab, universe[\"training_size\"])"
   ]
  },
  {
   "cell_type": "code",
   "execution_count": 16,
   "id": "5db0a40e-a4e2-4920-be85-b12ae061d70d",
   "metadata": {
    "execution": {
     "iopub.execute_input": "2025-07-28T11:02:58.057363Z",
     "iopub.status.busy": "2025-07-28T11:02:58.056750Z",
     "iopub.status.idle": "2025-07-28T11:02:58.073627Z",
     "shell.execute_reply": "2025-07-28T11:02:58.072709Z"
    },
    "papermill": {
     "duration": 0.038409,
     "end_time": "2025-07-28T11:02:58.075247",
     "exception": false,
     "start_time": "2025-07-28T11:02:58.036838",
     "status": "completed"
    },
    "tags": []
   },
   "outputs": [
    {
     "data": {
      "text/plain": [
       "year\n",
       "2014    87158\n",
       "dtype: int64"
      ]
     },
     "metadata": {},
     "output_type": "display_data"
    }
   ],
   "source": [
    "display(siab_s.groupby(\"year\").size())"
   ]
  },
  {
   "cell_type": "code",
   "execution_count": 17,
   "id": "a561edb4-d032-42cb-8256-22eac1111c64",
   "metadata": {
    "execution": {
     "iopub.execute_input": "2025-07-28T11:02:58.115347Z",
     "iopub.status.busy": "2025-07-28T11:02:58.114676Z",
     "iopub.status.idle": "2025-07-28T11:02:58.435686Z",
     "shell.execute_reply": "2025-07-28T11:02:58.434701Z"
    },
    "papermill": {
     "duration": 0.343021,
     "end_time": "2025-07-28T11:02:58.437596",
     "exception": false,
     "start_time": "2025-07-28T11:02:58.094575",
     "status": "completed"
    },
    "tags": []
   },
   "outputs": [],
   "source": [
    "siab_train = siab_s[siab_s.year < 2015]\n",
    "siab_calib = siab[siab.year == 2015]\n",
    "siab_test = siab[siab.year == 2016]"
   ]
  },
  {
   "cell_type": "code",
   "execution_count": 18,
   "id": "472de16f-c3db-4916-846b-1f0de9cf1746",
   "metadata": {
    "execution": {
     "iopub.execute_input": "2025-07-28T11:02:58.477977Z",
     "iopub.status.busy": "2025-07-28T11:02:58.477120Z",
     "iopub.status.idle": "2025-07-28T11:02:58.533317Z",
     "shell.execute_reply": "2025-07-28T11:02:58.532138Z"
    },
    "papermill": {
     "duration": 0.078106,
     "end_time": "2025-07-28T11:02:58.535428",
     "exception": false,
     "start_time": "2025-07-28T11:02:58.457322",
     "status": "completed"
    },
    "tags": []
   },
   "outputs": [],
   "source": [
    "X_train = siab_train.iloc[:,4:164]\n",
    "y_train = siab_train.iloc[:, [3]]"
   ]
  },
  {
   "cell_type": "code",
   "execution_count": 19,
   "id": "828c96af-f43a-4ed6-ba47-8ac73a47d56c",
   "metadata": {
    "execution": {
     "iopub.execute_input": "2025-07-28T11:02:58.584583Z",
     "iopub.status.busy": "2025-07-28T11:02:58.583883Z",
     "iopub.status.idle": "2025-07-28T11:02:58.639707Z",
     "shell.execute_reply": "2025-07-28T11:02:58.638679Z"
    },
    "papermill": {
     "duration": 0.082377,
     "end_time": "2025-07-28T11:02:58.641665",
     "exception": false,
     "start_time": "2025-07-28T11:02:58.559288",
     "status": "completed"
    },
    "tags": []
   },
   "outputs": [],
   "source": [
    "X_calib = siab_calib.iloc[:,4:164]\n",
    "y_calib = siab_calib.iloc[:, [3]]"
   ]
  },
  {
   "cell_type": "code",
   "execution_count": 20,
   "id": "c34be9c3-6bd6-476e-acd3-845840e303be",
   "metadata": {
    "execution": {
     "iopub.execute_input": "2025-07-28T11:02:58.682075Z",
     "iopub.status.busy": "2025-07-28T11:02:58.681505Z",
     "iopub.status.idle": "2025-07-28T11:02:58.735834Z",
     "shell.execute_reply": "2025-07-28T11:02:58.734597Z"
    },
    "papermill": {
     "duration": 0.076437,
     "end_time": "2025-07-28T11:02:58.737901",
     "exception": false,
     "start_time": "2025-07-28T11:02:58.661464",
     "status": "completed"
    },
    "tags": []
   },
   "outputs": [],
   "source": [
    "X_test = siab_test.iloc[:,4:164]\n",
    "y_true = siab_test.iloc[:, [3]]"
   ]
  },
  {
   "cell_type": "code",
   "execution_count": 21,
   "id": "e6c733c5",
   "metadata": {
    "execution": {
     "iopub.execute_input": "2025-07-28T11:02:58.787069Z",
     "iopub.status.busy": "2025-07-28T11:02:58.786330Z",
     "iopub.status.idle": "2025-07-28T11:02:58.924855Z",
     "shell.execute_reply": "2025-07-28T11:02:58.923756Z"
    },
    "papermill": {
     "duration": 0.165231,
     "end_time": "2025-07-28T11:02:58.927064",
     "exception": false,
     "start_time": "2025-07-28T11:02:58.761833",
     "status": "completed"
    },
    "tags": []
   },
   "outputs": [],
   "source": [
    "# Auxiliary data needed downstream in the pipeline\n",
    "\n",
    "org_train = X_train.copy()\n",
    "org_test = X_test.copy()\n",
    "org_calib = X_calib.copy()"
   ]
  },
  {
   "cell_type": "markdown",
   "id": "0a4a1b33",
   "metadata": {
    "papermill": {
     "duration": 0.023458,
     "end_time": "2025-07-28T11:02:58.974649",
     "exception": false,
     "start_time": "2025-07-28T11:02:58.951191",
     "status": "completed"
    },
    "tags": []
   },
   "source": [
    "# Preprocessing Data"
   ]
  },
  {
   "cell_type": "code",
   "execution_count": 22,
   "id": "ca879031",
   "metadata": {
    "execution": {
     "iopub.execute_input": "2025-07-28T11:02:59.023628Z",
     "iopub.status.busy": "2025-07-28T11:02:59.023100Z",
     "iopub.status.idle": "2025-07-28T11:02:59.029818Z",
     "shell.execute_reply": "2025-07-28T11:02:59.028735Z"
    },
    "papermill": {
     "duration": 0.033809,
     "end_time": "2025-07-28T11:02:59.031893",
     "exception": false,
     "start_time": "2025-07-28T11:02:58.998084",
     "status": "completed"
    },
    "tags": []
   },
   "outputs": [],
   "source": [
    "# EXCLUDE PROTECTED FEATURES\n",
    "# ----------------------\n",
    "# \"exclude_features\": \"none\", # \"nationality\", \"sex\", \"nationality-sex\"\n",
    "\n",
    "excluded_features = universe[\"exclude_features\"].split(\"-\") # split, e.g.: \"nationality-sex\" -> [\"nationality\", \"sex\"]\n",
    "excluded_features_dictionary = {\n",
    "    \"nationality\": [\"maxdeutsch1\", \"maxdeutsch.Missing.\"],\n",
    "    \"sex\": [\"frau1\"],\n",
    "    \"age\": [\"age\"],\n",
    "}\n"
   ]
  },
  {
   "cell_type": "code",
   "execution_count": 23,
   "id": "b745ac60",
   "metadata": {
    "execution": {
     "iopub.execute_input": "2025-07-28T11:02:59.081373Z",
     "iopub.status.busy": "2025-07-28T11:02:59.080428Z",
     "iopub.status.idle": "2025-07-28T11:02:59.086971Z",
     "shell.execute_reply": "2025-07-28T11:02:59.086013Z"
    },
    "papermill": {
     "duration": 0.032938,
     "end_time": "2025-07-28T11:02:59.088903",
     "exception": false,
     "start_time": "2025-07-28T11:02:59.055965",
     "status": "completed"
    },
    "tags": []
   },
   "outputs": [],
   "source": [
    "# Code nice names to column names\n",
    "\n",
    "excluded_features_columns = [\n",
    "    excluded_features_dictionary[f] for f in excluded_features if len(f) > 0 and f != \"none\"\n",
    "]"
   ]
  },
  {
   "cell_type": "code",
   "execution_count": 24,
   "id": "f84f73a2",
   "metadata": {
    "execution": {
     "iopub.execute_input": "2025-07-28T11:02:59.131447Z",
     "iopub.status.busy": "2025-07-28T11:02:59.130920Z",
     "iopub.status.idle": "2025-07-28T11:02:59.137460Z",
     "shell.execute_reply": "2025-07-28T11:02:59.136528Z"
    },
    "papermill": {
     "duration": 0.030452,
     "end_time": "2025-07-28T11:02:59.139216",
     "exception": false,
     "start_time": "2025-07-28T11:02:59.108764",
     "status": "completed"
    },
    "tags": []
   },
   "outputs": [],
   "source": [
    "from utils import flatten_once\n",
    "\n",
    "excluded_features_columns = flatten_once(excluded_features_columns)"
   ]
  },
  {
   "cell_type": "code",
   "execution_count": 25,
   "id": "884dea22",
   "metadata": {
    "execution": {
     "iopub.execute_input": "2025-07-28T11:02:59.180880Z",
     "iopub.status.busy": "2025-07-28T11:02:59.180115Z",
     "iopub.status.idle": "2025-07-28T11:02:59.185570Z",
     "shell.execute_reply": "2025-07-28T11:02:59.184534Z"
    },
    "papermill": {
     "duration": 0.027582,
     "end_time": "2025-07-28T11:02:59.187187",
     "exception": false,
     "start_time": "2025-07-28T11:02:59.159605",
     "status": "completed"
    },
    "tags": []
   },
   "outputs": [],
   "source": [
    "if len(excluded_features_columns) > 0:\n",
    "    print(f\"Dropping features: {excluded_features_columns}\")\n",
    "    X_train.drop(excluded_features_columns, axis=1, inplace=True)"
   ]
  },
  {
   "cell_type": "code",
   "execution_count": 26,
   "id": "95ab8b16",
   "metadata": {
    "execution": {
     "iopub.execute_input": "2025-07-28T11:02:59.232445Z",
     "iopub.status.busy": "2025-07-28T11:02:59.231957Z",
     "iopub.status.idle": "2025-07-28T11:02:59.237507Z",
     "shell.execute_reply": "2025-07-28T11:02:59.236530Z"
    },
    "papermill": {
     "duration": 0.029873,
     "end_time": "2025-07-28T11:02:59.239177",
     "exception": false,
     "start_time": "2025-07-28T11:02:59.209304",
     "status": "completed"
    },
    "tags": []
   },
   "outputs": [],
   "source": [
    "if len(excluded_features_columns) > 0:\n",
    "    print(f\"Dropping features: {excluded_features_columns}\")\n",
    "    X_test.drop(excluded_features_columns, axis=1, inplace=True)"
   ]
  },
  {
   "cell_type": "code",
   "execution_count": 27,
   "id": "1853aaf5-fb9f-46cb-a2b5-8ea4ae2237e4",
   "metadata": {
    "execution": {
     "iopub.execute_input": "2025-07-28T11:02:59.284828Z",
     "iopub.status.busy": "2025-07-28T11:02:59.284173Z",
     "iopub.status.idle": "2025-07-28T11:02:59.290427Z",
     "shell.execute_reply": "2025-07-28T11:02:59.289505Z"
    },
    "papermill": {
     "duration": 0.030532,
     "end_time": "2025-07-28T11:02:59.292170",
     "exception": false,
     "start_time": "2025-07-28T11:02:59.261638",
     "status": "completed"
    },
    "tags": []
   },
   "outputs": [],
   "source": [
    "if len(excluded_features_columns) > 0:\n",
    "    print(f\"Dropping features: {excluded_features_columns}\")\n",
    "    X_calib.drop(excluded_features_columns, axis=1, inplace=True)"
   ]
  },
  {
   "cell_type": "code",
   "execution_count": 28,
   "id": "6727d079-03e5-481e-9d38-292a90b7a0a8",
   "metadata": {
    "execution": {
     "iopub.execute_input": "2025-07-28T11:02:59.335016Z",
     "iopub.status.busy": "2025-07-28T11:02:59.334536Z",
     "iopub.status.idle": "2025-07-28T11:02:59.339468Z",
     "shell.execute_reply": "2025-07-28T11:02:59.338512Z"
    },
    "papermill": {
     "duration": 0.028562,
     "end_time": "2025-07-28T11:02:59.341216",
     "exception": false,
     "start_time": "2025-07-28T11:02:59.312654",
     "status": "completed"
    },
    "tags": []
   },
   "outputs": [],
   "source": [
    "# SPLIT & STRATIFY DATA\n",
    "# ----------------------"
   ]
  },
  {
   "cell_type": "code",
   "execution_count": 29,
   "id": "76c4dc6d",
   "metadata": {
    "execution": {
     "iopub.execute_input": "2025-07-28T11:02:59.386692Z",
     "iopub.status.busy": "2025-07-28T11:02:59.385724Z",
     "iopub.status.idle": "2025-07-28T11:02:59.391336Z",
     "shell.execute_reply": "2025-07-28T11:02:59.390325Z"
    },
    "papermill": {
     "duration": 0.030072,
     "end_time": "2025-07-28T11:02:59.393133",
     "exception": false,
     "start_time": "2025-07-28T11:02:59.363061",
     "status": "completed"
    },
    "tags": []
   },
   "outputs": [],
   "source": [
    "# EXCLUDE CERTAIN SUBGROUPS\n",
    "# ----------------------\n",
    "\n",
    "mode = universe.get(\"exclude_subgroups\", \"keep-all\") \n",
    "# Fetches the exclude_subgroups setting from the universe dict.\n",
    "# Defaults to \"keep-all\" if the key is missing."
   ]
  },
  {
   "cell_type": "code",
   "execution_count": 30,
   "id": "21994072",
   "metadata": {
    "execution": {
     "iopub.execute_input": "2025-07-28T11:02:59.440581Z",
     "iopub.status.busy": "2025-07-28T11:02:59.440014Z",
     "iopub.status.idle": "2025-07-28T11:02:59.447325Z",
     "shell.execute_reply": "2025-07-28T11:02:59.446367Z"
    },
    "papermill": {
     "duration": 0.033081,
     "end_time": "2025-07-28T11:02:59.449281",
     "exception": false,
     "start_time": "2025-07-28T11:02:59.416200",
     "status": "completed"
    },
    "tags": []
   },
   "outputs": [],
   "source": [
    "if mode == \"keep-all\":\n",
    "    keep_mask = pd.Series(True, index=org_train.index)\n",
    "\n",
    "# org_train contains the original feature columns from features_org (in Simson)\n",
    "# features_org contains unprocessed features, for me X_train at beginning ???\n",
    "# For keep-all, creates a boolean Series (keep_mask) of all True, so no rows are removed.\n",
    "\n",
    "elif mode == \"drop-non-german\":\n",
    "    keep_mask = org_train[\"maxdeutsch1\"] == 1 # ??? what about missing values?\n",
    "\n",
    "else:\n",
    "    raise ValueError(f\"Unsupported mode for exclude_subgroups: {mode}\")\n"
   ]
  },
  {
   "cell_type": "code",
   "execution_count": 31,
   "id": "71651440",
   "metadata": {
    "execution": {
     "iopub.execute_input": "2025-07-28T11:02:59.496875Z",
     "iopub.status.busy": "2025-07-28T11:02:59.496162Z",
     "iopub.status.idle": "2025-07-28T11:02:59.503410Z",
     "shell.execute_reply": "2025-07-28T11:02:59.502478Z"
    },
    "papermill": {
     "duration": 0.033351,
     "end_time": "2025-07-28T11:02:59.505152",
     "exception": false,
     "start_time": "2025-07-28T11:02:59.471801",
     "status": "completed"
    },
    "tags": []
   },
   "outputs": [],
   "source": [
    "n_drop = (~keep_mask).sum() # Calculates how many rows are set to be dropped\n",
    "if n_drop > 0:\n",
    "    pct = n_drop / len(keep_mask) * 100\n",
    "    print(f\"Dropping {n_drop} rows ({pct:.2f}%) where mode='{mode}'\")"
   ]
  },
  {
   "cell_type": "code",
   "execution_count": 32,
   "id": "5fb8eee5",
   "metadata": {
    "execution": {
     "iopub.execute_input": "2025-07-28T11:02:59.553354Z",
     "iopub.status.busy": "2025-07-28T11:02:59.552118Z",
     "iopub.status.idle": "2025-07-28T11:02:59.617541Z",
     "shell.execute_reply": "2025-07-28T11:02:59.616620Z"
    },
    "papermill": {
     "duration": 0.090395,
     "end_time": "2025-07-28T11:02:59.619470",
     "exception": false,
     "start_time": "2025-07-28T11:02:59.529075",
     "status": "completed"
    },
    "tags": []
   },
   "outputs": [],
   "source": [
    "X_train = X_train[keep_mask]"
   ]
  },
  {
   "cell_type": "code",
   "execution_count": 33,
   "id": "b202bb3a",
   "metadata": {
    "execution": {
     "iopub.execute_input": "2025-07-28T11:02:59.662056Z",
     "iopub.status.busy": "2025-07-28T11:02:59.661288Z",
     "iopub.status.idle": "2025-07-28T11:02:59.668990Z",
     "shell.execute_reply": "2025-07-28T11:02:59.668086Z"
    },
    "papermill": {
     "duration": 0.030837,
     "end_time": "2025-07-28T11:02:59.670741",
     "exception": false,
     "start_time": "2025-07-28T11:02:59.639904",
     "status": "completed"
    },
    "tags": []
   },
   "outputs": [],
   "source": [
    "y_train = y_train[keep_mask]"
   ]
  },
  {
   "cell_type": "markdown",
   "id": "493e2ac3",
   "metadata": {
    "papermill": {
     "duration": 0.022857,
     "end_time": "2025-07-28T11:02:59.717280",
     "exception": false,
     "start_time": "2025-07-28T11:02:59.694423",
     "status": "completed"
    },
    "tags": []
   },
   "source": [
    "# Model Training"
   ]
  },
  {
   "cell_type": "code",
   "execution_count": 34,
   "id": "679e1268",
   "metadata": {
    "execution": {
     "iopub.execute_input": "2025-07-28T11:02:59.763952Z",
     "iopub.status.busy": "2025-07-28T11:02:59.763452Z",
     "iopub.status.idle": "2025-07-28T11:02:59.877130Z",
     "shell.execute_reply": "2025-07-28T11:02:59.876044Z"
    },
    "papermill": {
     "duration": 0.139282,
     "end_time": "2025-07-28T11:02:59.879375",
     "exception": false,
     "start_time": "2025-07-28T11:02:59.740093",
     "status": "completed"
    },
    "tags": []
   },
   "outputs": [],
   "source": [
    "from sklearn.linear_model import LogisticRegression\n",
    "from sklearn.ensemble import GradientBoostingClassifier, RandomForestClassifier\n",
    "\n",
    "if (universe[\"model\"] == \"logreg\"):\n",
    "    model = LogisticRegression() #penalty=\"none\") #, solver=\"newton-cg\", max_iter=1) # include random_state=19 ?\n",
    "elif (universe[\"model\"] == \"penalized_logreg\"):\n",
    "    model = LogisticRegression(penalty=\"l2\", C=1.0) #, solver=\"newton-cg\", max_iter=1)\n",
    "elif (universe[\"model\"] == \"rf\"):\n",
    "    model = RandomForestClassifier(n_estimators=100, n_jobs=-1)\n",
    "elif (universe[\"model\"] == \"gbm\"):\n",
    "    model = GradientBoostingClassifier()\n",
    "elif (universe[\"model\"] == \"elasticnet\"):\n",
    "    model = LogisticRegression(penalty = 'elasticnet', solver = 'saga', l1_ratio = 0.5, max_iter=5000) # which solver to use?\n",
    "else:\n",
    "    raise \"Unsupported universe.model\""
   ]
  },
  {
   "cell_type": "code",
   "execution_count": 35,
   "id": "0cc8f744",
   "metadata": {
    "execution": {
     "iopub.execute_input": "2025-07-28T11:02:59.927437Z",
     "iopub.status.busy": "2025-07-28T11:02:59.926709Z",
     "iopub.status.idle": "2025-07-28T11:02:59.933789Z",
     "shell.execute_reply": "2025-07-28T11:02:59.932790Z"
    },
    "papermill": {
     "duration": 0.032982,
     "end_time": "2025-07-28T11:02:59.935479",
     "exception": false,
     "start_time": "2025-07-28T11:02:59.902497",
     "status": "completed"
    },
    "tags": []
   },
   "outputs": [],
   "source": [
    "import numpy as np\n",
    "from sklearn.pipeline import Pipeline\n",
    "from sklearn.preprocessing import StandardScaler\n",
    "\n",
    "model = Pipeline([\n",
    "    #(\"continuous_processor\", continuous_processor),\n",
    "    #(\"categorical_preprocessor\", categorical_preprocessor),\n",
    "    (\"scale\", StandardScaler() if universe[\"scale\"] == \"scale\" else None), \n",
    "    (\"model\", model),\n",
    "])"
   ]
  },
  {
   "cell_type": "code",
   "execution_count": 36,
   "id": "9442c04d",
   "metadata": {
    "execution": {
     "iopub.execute_input": "2025-07-28T11:02:59.984865Z",
     "iopub.status.busy": "2025-07-28T11:02:59.983852Z",
     "iopub.status.idle": "2025-07-28T11:03:03.954292Z",
     "shell.execute_reply": "2025-07-28T11:03:03.953123Z"
    },
    "papermill": {
     "duration": 3.996688,
     "end_time": "2025-07-28T11:03:03.956039",
     "exception": false,
     "start_time": "2025-07-28T11:02:59.959351",
     "status": "completed"
    },
    "tags": []
   },
   "outputs": [
    {
     "name": "stderr",
     "output_type": "stream",
     "text": [
      "/dss/dsshome1/0C/ra93lal2/.local/share/virtualenvs/CMA_Fairness_v2-3j10GkSs/lib/python3.10/site-packages/sklearn/linear_model/_logistic.py:444: ConvergenceWarning: lbfgs failed to converge (status=1):\n",
      "STOP: TOTAL NO. of ITERATIONS REACHED LIMIT.\n",
      "\n",
      "Increase the number of iterations (max_iter) or scale the data as shown in:\n",
      "    https://scikit-learn.org/stable/modules/preprocessing.html\n",
      "Please also refer to the documentation for alternative solver options:\n",
      "    https://scikit-learn.org/stable/modules/linear_model.html#logistic-regression\n",
      "  n_iter_i = _check_optimize_result(\n"
     ]
    },
    {
     "data": {
      "text/html": [
       "<style>#sk-container-id-1 {color: black;background-color: white;}#sk-container-id-1 pre{padding: 0;}#sk-container-id-1 div.sk-toggleable {background-color: white;}#sk-container-id-1 label.sk-toggleable__label {cursor: pointer;display: block;width: 100%;margin-bottom: 0;padding: 0.3em;box-sizing: border-box;text-align: center;}#sk-container-id-1 label.sk-toggleable__label-arrow:before {content: \"▸\";float: left;margin-right: 0.25em;color: #696969;}#sk-container-id-1 label.sk-toggleable__label-arrow:hover:before {color: black;}#sk-container-id-1 div.sk-estimator:hover label.sk-toggleable__label-arrow:before {color: black;}#sk-container-id-1 div.sk-toggleable__content {max-height: 0;max-width: 0;overflow: hidden;text-align: left;background-color: #f0f8ff;}#sk-container-id-1 div.sk-toggleable__content pre {margin: 0.2em;color: black;border-radius: 0.25em;background-color: #f0f8ff;}#sk-container-id-1 input.sk-toggleable__control:checked~div.sk-toggleable__content {max-height: 200px;max-width: 100%;overflow: auto;}#sk-container-id-1 input.sk-toggleable__control:checked~label.sk-toggleable__label-arrow:before {content: \"▾\";}#sk-container-id-1 div.sk-estimator input.sk-toggleable__control:checked~label.sk-toggleable__label {background-color: #d4ebff;}#sk-container-id-1 div.sk-label input.sk-toggleable__control:checked~label.sk-toggleable__label {background-color: #d4ebff;}#sk-container-id-1 input.sk-hidden--visually {border: 0;clip: rect(1px 1px 1px 1px);clip: rect(1px, 1px, 1px, 1px);height: 1px;margin: -1px;overflow: hidden;padding: 0;position: absolute;width: 1px;}#sk-container-id-1 div.sk-estimator {font-family: monospace;background-color: #f0f8ff;border: 1px dotted black;border-radius: 0.25em;box-sizing: border-box;margin-bottom: 0.5em;}#sk-container-id-1 div.sk-estimator:hover {background-color: #d4ebff;}#sk-container-id-1 div.sk-parallel-item::after {content: \"\";width: 100%;border-bottom: 1px solid gray;flex-grow: 1;}#sk-container-id-1 div.sk-label:hover label.sk-toggleable__label {background-color: #d4ebff;}#sk-container-id-1 div.sk-serial::before {content: \"\";position: absolute;border-left: 1px solid gray;box-sizing: border-box;top: 0;bottom: 0;left: 50%;z-index: 0;}#sk-container-id-1 div.sk-serial {display: flex;flex-direction: column;align-items: center;background-color: white;padding-right: 0.2em;padding-left: 0.2em;position: relative;}#sk-container-id-1 div.sk-item {position: relative;z-index: 1;}#sk-container-id-1 div.sk-parallel {display: flex;align-items: stretch;justify-content: center;background-color: white;position: relative;}#sk-container-id-1 div.sk-item::before, #sk-container-id-1 div.sk-parallel-item::before {content: \"\";position: absolute;border-left: 1px solid gray;box-sizing: border-box;top: 0;bottom: 0;left: 50%;z-index: -1;}#sk-container-id-1 div.sk-parallel-item {display: flex;flex-direction: column;z-index: 1;position: relative;background-color: white;}#sk-container-id-1 div.sk-parallel-item:first-child::after {align-self: flex-end;width: 50%;}#sk-container-id-1 div.sk-parallel-item:last-child::after {align-self: flex-start;width: 50%;}#sk-container-id-1 div.sk-parallel-item:only-child::after {width: 0;}#sk-container-id-1 div.sk-dashed-wrapped {border: 1px dashed gray;margin: 0 0.4em 0.5em 0.4em;box-sizing: border-box;padding-bottom: 0.4em;background-color: white;}#sk-container-id-1 div.sk-label label {font-family: monospace;font-weight: bold;display: inline-block;line-height: 1.2em;}#sk-container-id-1 div.sk-label-container {text-align: center;}#sk-container-id-1 div.sk-container {/* jupyter's `normalize.less` sets `[hidden] { display: none; }` but bootstrap.min.css set `[hidden] { display: none !important; }` so we also need the `!important` here to be able to override the default hidden behavior on the sphinx rendered scikit-learn.org. See: https://github.com/scikit-learn/scikit-learn/issues/21755 */display: inline-block !important;position: relative;}#sk-container-id-1 div.sk-text-repr-fallback {display: none;}</style><div id=\"sk-container-id-1\" class=\"sk-top-container\"><div class=\"sk-text-repr-fallback\"><pre>Pipeline(steps=[(&#x27;scale&#x27;, None), (&#x27;model&#x27;, LogisticRegression())])</pre><b>In a Jupyter environment, please rerun this cell to show the HTML representation or trust the notebook. <br />On GitHub, the HTML representation is unable to render, please try loading this page with nbviewer.org.</b></div><div class=\"sk-container\" hidden><div class=\"sk-item sk-dashed-wrapped\"><div class=\"sk-label-container\"><div class=\"sk-label sk-toggleable\"><input class=\"sk-toggleable__control sk-hidden--visually\" id=\"sk-estimator-id-1\" type=\"checkbox\" ><label for=\"sk-estimator-id-1\" class=\"sk-toggleable__label sk-toggleable__label-arrow\">Pipeline</label><div class=\"sk-toggleable__content\"><pre>Pipeline(steps=[(&#x27;scale&#x27;, None), (&#x27;model&#x27;, LogisticRegression())])</pre></div></div></div><div class=\"sk-serial\"><div class=\"sk-item\"><div class=\"sk-estimator sk-toggleable\"><input class=\"sk-toggleable__control sk-hidden--visually\" id=\"sk-estimator-id-2\" type=\"checkbox\" ><label for=\"sk-estimator-id-2\" class=\"sk-toggleable__label sk-toggleable__label-arrow\">None</label><div class=\"sk-toggleable__content\"><pre>None</pre></div></div></div><div class=\"sk-item\"><div class=\"sk-estimator sk-toggleable\"><input class=\"sk-toggleable__control sk-hidden--visually\" id=\"sk-estimator-id-3\" type=\"checkbox\" ><label for=\"sk-estimator-id-3\" class=\"sk-toggleable__label sk-toggleable__label-arrow\">LogisticRegression</label><div class=\"sk-toggleable__content\"><pre>LogisticRegression()</pre></div></div></div></div></div></div></div>"
      ],
      "text/plain": [
       "Pipeline(steps=[('scale', None), ('model', LogisticRegression())])"
      ]
     },
     "execution_count": 36,
     "metadata": {},
     "output_type": "execute_result"
    }
   ],
   "source": [
    "model.fit(X_train, y_train.values.ravel())"
   ]
  },
  {
   "cell_type": "code",
   "execution_count": 37,
   "id": "af59f8c0",
   "metadata": {
    "execution": {
     "iopub.execute_input": "2025-07-28T11:03:04.004740Z",
     "iopub.status.busy": "2025-07-28T11:03:04.004087Z",
     "iopub.status.idle": "2025-07-28T11:03:04.010524Z",
     "shell.execute_reply": "2025-07-28T11:03:04.009583Z"
    },
    "papermill": {
     "duration": 0.031733,
     "end_time": "2025-07-28T11:03:04.012130",
     "exception": false,
     "start_time": "2025-07-28T11:03:03.980397",
     "status": "completed"
    },
    "tags": []
   },
   "outputs": [],
   "source": [
    "from fairness_multiverse.universe import predict_w_threshold"
   ]
  },
  {
   "cell_type": "code",
   "execution_count": 38,
   "id": "a7cf2e16",
   "metadata": {
    "execution": {
     "iopub.execute_input": "2025-07-28T11:03:04.065764Z",
     "iopub.status.busy": "2025-07-28T11:03:04.065209Z",
     "iopub.status.idle": "2025-07-28T11:03:04.171272Z",
     "shell.execute_reply": "2025-07-28T11:03:04.170374Z"
    },
    "papermill": {
     "duration": 0.135344,
     "end_time": "2025-07-28T11:03:04.173261",
     "exception": false,
     "start_time": "2025-07-28T11:03:04.037917",
     "status": "completed"
    },
    "tags": []
   },
   "outputs": [
    {
     "data": {
      "text/plain": [
       "0.8642960650986512"
      ]
     },
     "execution_count": 38,
     "metadata": {},
     "output_type": "execute_result"
    }
   ],
   "source": [
    "probs_test = model.predict_proba(X_test)\n",
    "\n",
    "'''\n",
    "Below code returns a boolean array (or binary 0/1 array depending on how it’s used) where each element \n",
    "is True if the probability of class 1 is greater than or equal to the threshold, and False otherwise.\n",
    "'''\n",
    "y_pred_default = predict_w_threshold(probs_test, 0.5)\n",
    "\n",
    "from sklearn.metrics import accuracy_score\n",
    "\n",
    "# Naive prediction\n",
    "accuracy_score(y_true = y_true, y_pred = y_pred_default)"
   ]
  },
  {
   "cell_type": "code",
   "execution_count": 39,
   "id": "081964c3",
   "metadata": {
    "execution": {
     "iopub.execute_input": "2025-07-28T11:03:04.219812Z",
     "iopub.status.busy": "2025-07-28T11:03:04.219156Z",
     "iopub.status.idle": "2025-07-28T11:03:04.309187Z",
     "shell.execute_reply": "2025-07-28T11:03:04.308191Z"
    },
    "papermill": {
     "duration": 0.114361,
     "end_time": "2025-07-28T11:03:04.311027",
     "exception": false,
     "start_time": "2025-07-28T11:03:04.196666",
     "status": "completed"
    },
    "tags": []
   },
   "outputs": [
    {
     "data": {
      "text/plain": [
       "array([0, 0, 0, ..., 0, 0, 0])"
      ]
     },
     "execution_count": 39,
     "metadata": {},
     "output_type": "execute_result"
    }
   ],
   "source": [
    "model.predict(X_test)"
   ]
  },
  {
   "cell_type": "markdown",
   "id": "56c9705b",
   "metadata": {
    "papermill": {
     "duration": 0.022444,
     "end_time": "2025-07-28T11:03:04.356679",
     "exception": false,
     "start_time": "2025-07-28T11:03:04.334235",
     "status": "completed"
    },
    "tags": []
   },
   "source": [
    "# Conformal Prediction"
   ]
  },
  {
   "cell_type": "code",
   "execution_count": 40,
   "id": "160ec6ff",
   "metadata": {
    "execution": {
     "iopub.execute_input": "2025-07-28T11:03:04.405257Z",
     "iopub.status.busy": "2025-07-28T11:03:04.404472Z",
     "iopub.status.idle": "2025-07-28T11:03:04.412118Z",
     "shell.execute_reply": "2025-07-28T11:03:04.409509Z"
    },
    "papermill": {
     "duration": 0.034191,
     "end_time": "2025-07-28T11:03:04.413828",
     "exception": false,
     "start_time": "2025-07-28T11:03:04.379637",
     "status": "completed"
    },
    "tags": []
   },
   "outputs": [],
   "source": [
    "# Miscoverage level for conformal prediction (10% allowed error rate => 90% target coverage)\n",
    "alpha = 0.1"
   ]
  },
  {
   "cell_type": "code",
   "execution_count": 41,
   "id": "eadf4555-3dd3-440e-8e35-f82a4ad9f855",
   "metadata": {
    "execution": {
     "iopub.execute_input": "2025-07-28T11:03:04.457966Z",
     "iopub.status.busy": "2025-07-28T11:03:04.457479Z",
     "iopub.status.idle": "2025-07-28T11:03:04.538274Z",
     "shell.execute_reply": "2025-07-28T11:03:04.537381Z"
    },
    "papermill": {
     "duration": 0.105075,
     "end_time": "2025-07-28T11:03:04.540306",
     "exception": false,
     "start_time": "2025-07-28T11:03:04.435231",
     "status": "completed"
    },
    "tags": []
   },
   "outputs": [],
   "source": [
    "probs_calib = model.predict_proba(X_calib)"
   ]
  },
  {
   "cell_type": "code",
   "execution_count": 42,
   "id": "2ed93547-6d5d-4983-9b36-1ecb300da49a",
   "metadata": {
    "execution": {
     "iopub.execute_input": "2025-07-28T11:03:04.586190Z",
     "iopub.status.busy": "2025-07-28T11:03:04.585688Z",
     "iopub.status.idle": "2025-07-28T11:03:04.591512Z",
     "shell.execute_reply": "2025-07-28T11:03:04.590359Z"
    },
    "papermill": {
     "duration": 0.03025,
     "end_time": "2025-07-28T11:03:04.593361",
     "exception": false,
     "start_time": "2025-07-28T11:03:04.563111",
     "status": "completed"
    },
    "tags": []
   },
   "outputs": [],
   "source": [
    "y_calib = y_calib.values.ravel().astype(int)"
   ]
  },
  {
   "cell_type": "code",
   "execution_count": 43,
   "id": "65d1320d-f588-4b38-9072-62af1ae97f7d",
   "metadata": {
    "execution": {
     "iopub.execute_input": "2025-07-28T11:03:04.638873Z",
     "iopub.status.busy": "2025-07-28T11:03:04.638173Z",
     "iopub.status.idle": "2025-07-28T11:03:04.646584Z",
     "shell.execute_reply": "2025-07-28T11:03:04.645489Z"
    },
    "papermill": {
     "duration": 0.033174,
     "end_time": "2025-07-28T11:03:04.648310",
     "exception": false,
     "start_time": "2025-07-28T11:03:04.615136",
     "status": "completed"
    },
    "tags": []
   },
   "outputs": [],
   "source": [
    "from fairness_multiverse.conformal import compute_nc_scores\n",
    "\n",
    "# Compute nonconformity scores on calibration set (1 - probability of true class)\n",
    "nc_scores = compute_nc_scores(probs_calib, y_calib)"
   ]
  },
  {
   "cell_type": "code",
   "execution_count": 44,
   "id": "df3b8ca3-53b7-43d5-9667-7c85da7aeda2",
   "metadata": {
    "execution": {
     "iopub.execute_input": "2025-07-28T11:03:04.694821Z",
     "iopub.status.busy": "2025-07-28T11:03:04.694314Z",
     "iopub.status.idle": "2025-07-28T11:03:04.701243Z",
     "shell.execute_reply": "2025-07-28T11:03:04.700319Z"
    },
    "papermill": {
     "duration": 0.032317,
     "end_time": "2025-07-28T11:03:04.702908",
     "exception": false,
     "start_time": "2025-07-28T11:03:04.670591",
     "status": "completed"
    },
    "tags": []
   },
   "outputs": [],
   "source": [
    "from fairness_multiverse.conformal import find_threshold\n",
    "\n",
    "# Find conformal threshold q_hat for the given alpha (split conformal method)\n",
    "q_hat = find_threshold(nc_scores, alpha)"
   ]
  },
  {
   "cell_type": "code",
   "execution_count": 45,
   "id": "4d29e6c1-0ef6-4aa4-b8fe-4fe79b0d033a",
   "metadata": {
    "execution": {
     "iopub.execute_input": "2025-07-28T11:03:04.749933Z",
     "iopub.status.busy": "2025-07-28T11:03:04.749202Z",
     "iopub.status.idle": "2025-07-28T11:03:04.757058Z",
     "shell.execute_reply": "2025-07-28T11:03:04.755996Z"
    },
    "papermill": {
     "duration": 0.033212,
     "end_time": "2025-07-28T11:03:04.758713",
     "exception": false,
     "start_time": "2025-07-28T11:03:04.725501",
     "status": "completed"
    },
    "tags": []
   },
   "outputs": [
    {
     "data": {
      "text/plain": [
       "0.675827936759014"
      ]
     },
     "execution_count": 45,
     "metadata": {},
     "output_type": "execute_result"
    }
   ],
   "source": [
    "q_hat"
   ]
  },
  {
   "cell_type": "code",
   "execution_count": 46,
   "id": "92460794-cdac-4be2-ba28-f28c0515a6fb",
   "metadata": {
    "execution": {
     "iopub.execute_input": "2025-07-28T11:03:04.804561Z",
     "iopub.status.busy": "2025-07-28T11:03:04.803911Z",
     "iopub.status.idle": "2025-07-28T11:03:05.655591Z",
     "shell.execute_reply": "2025-07-28T11:03:05.654616Z"
    },
    "papermill": {
     "duration": 0.876482,
     "end_time": "2025-07-28T11:03:05.657568",
     "exception": false,
     "start_time": "2025-07-28T11:03:04.781086",
     "status": "completed"
    },
    "tags": []
   },
   "outputs": [],
   "source": [
    "from fairness_multiverse.conformal import predict_conformal_sets\n",
    "\n",
    "# Generate prediction sets for each test example\n",
    "pred_sets = predict_conformal_sets(model, X_test, q_hat)"
   ]
  },
  {
   "cell_type": "code",
   "execution_count": 47,
   "id": "d90c9a65-e6db-4f5d-80cd-e68fb7e46829",
   "metadata": {
    "execution": {
     "iopub.execute_input": "2025-07-28T11:03:05.703665Z",
     "iopub.status.busy": "2025-07-28T11:03:05.702748Z",
     "iopub.status.idle": "2025-07-28T11:03:05.708619Z",
     "shell.execute_reply": "2025-07-28T11:03:05.707500Z"
    },
    "papermill": {
     "duration": 0.030629,
     "end_time": "2025-07-28T11:03:05.710401",
     "exception": false,
     "start_time": "2025-07-28T11:03:05.679772",
     "status": "completed"
    },
    "tags": []
   },
   "outputs": [],
   "source": [
    "y_true = y_true.squeeze()"
   ]
  },
  {
   "cell_type": "code",
   "execution_count": 48,
   "id": "3a58a54a-1e68-46b9-927a-df01f18aebc8",
   "metadata": {
    "execution": {
     "iopub.execute_input": "2025-07-28T11:03:05.760244Z",
     "iopub.status.busy": "2025-07-28T11:03:05.759497Z",
     "iopub.status.idle": "2025-07-28T11:03:06.690214Z",
     "shell.execute_reply": "2025-07-28T11:03:06.689226Z"
    },
    "papermill": {
     "duration": 0.957995,
     "end_time": "2025-07-28T11:03:06.692351",
     "exception": false,
     "start_time": "2025-07-28T11:03:05.734356",
     "status": "completed"
    },
    "tags": []
   },
   "outputs": [],
   "source": [
    "from fairness_multiverse.conformal import evaluate_sets\n",
    "\n",
    "# Evaluate coverage and average set size on test data\n",
    "metrics = evaluate_sets(pred_sets, y_true)"
   ]
  },
  {
   "cell_type": "markdown",
   "id": "2b569c12-9aaa-4c88-98c9-bbcd0cf3ebb8",
   "metadata": {
    "papermill": {
     "duration": 0.023373,
     "end_time": "2025-07-28T11:03:06.742853",
     "exception": false,
     "start_time": "2025-07-28T11:03:06.719480",
     "status": "completed"
    },
    "tags": []
   },
   "source": [
    "# CP Metrics"
   ]
  },
  {
   "cell_type": "code",
   "execution_count": 49,
   "id": "5ce0a5cb-201f-45a0-ade5-94c7f0bd6095",
   "metadata": {
    "execution": {
     "iopub.execute_input": "2025-07-28T11:03:06.794194Z",
     "iopub.status.busy": "2025-07-28T11:03:06.793469Z",
     "iopub.status.idle": "2025-07-28T11:03:06.801104Z",
     "shell.execute_reply": "2025-07-28T11:03:06.800154Z"
    },
    "papermill": {
     "duration": 0.034837,
     "end_time": "2025-07-28T11:03:06.802650",
     "exception": false,
     "start_time": "2025-07-28T11:03:06.767813",
     "status": "completed"
    },
    "tags": []
   },
   "outputs": [
    {
     "data": {
      "text/plain": [
       "{'coverage': 0.9116374986066214, 'avg_size': 1.1959647753873592}"
      ]
     },
     "execution_count": 49,
     "metadata": {},
     "output_type": "execute_result"
    }
   ],
   "source": [
    "metrics"
   ]
  },
  {
   "cell_type": "code",
   "execution_count": 50,
   "id": "9b9a838d-31c9-430b-ae14-12baee460d17",
   "metadata": {
    "execution": {
     "iopub.execute_input": "2025-07-28T11:03:06.854580Z",
     "iopub.status.busy": "2025-07-28T11:03:06.853874Z",
     "iopub.status.idle": "2025-07-28T11:03:06.860536Z",
     "shell.execute_reply": "2025-07-28T11:03:06.859434Z"
    },
    "papermill": {
     "duration": 0.034675,
     "end_time": "2025-07-28T11:03:06.862343",
     "exception": false,
     "start_time": "2025-07-28T11:03:06.827668",
     "status": "completed"
    },
    "tags": []
   },
   "outputs": [],
   "source": [
    "example_universe = universe.copy()\n",
    "universe_training_size = example_universe.get(\"training_size\")\n",
    "universe_scale = example_universe.get(\"scale\")\n",
    "universe_model = example_universe.get(\"model\")\n",
    "universe_exclude_features = example_universe.get(\"exclude_features\")\n",
    "universe_exclude_subgroups = example_universe.get(\"exclude_subgroups\")"
   ]
  },
  {
   "cell_type": "code",
   "execution_count": 51,
   "id": "f4b6a8ac-9dc0-4245-8a91-5b3b5999c4f9",
   "metadata": {
    "execution": {
     "iopub.execute_input": "2025-07-28T11:03:06.908617Z",
     "iopub.status.busy": "2025-07-28T11:03:06.907846Z",
     "iopub.status.idle": "2025-07-28T11:03:06.914621Z",
     "shell.execute_reply": "2025-07-28T11:03:06.913628Z"
    },
    "papermill": {
     "duration": 0.031674,
     "end_time": "2025-07-28T11:03:06.916284",
     "exception": false,
     "start_time": "2025-07-28T11:03:06.884610",
     "status": "completed"
    },
    "tags": []
   },
   "outputs": [],
   "source": [
    "cp_metrics_dict = {\n",
    "    \"universe_id\": [universe_id],\n",
    "    \"universe_training_size\": [universe_training_size],\n",
    "    \"universe_scale\": [universe_scale],\n",
    "    \"universe_model\": [universe_model],\n",
    "    \"universe_exclude_features\": [universe_exclude_features],\n",
    "    \"universe_exclude_subgroups\": [universe_exclude_subgroups],\n",
    "    \"q_hat\": [q_hat],\n",
    "    \"coverage\": [metrics[\"coverage\"]],\n",
    "    \"avg_size\": [metrics[\"avg_size\"]],\n",
    "}"
   ]
  },
  {
   "cell_type": "code",
   "execution_count": 52,
   "id": "908acbb1-0371-4915-85ca-3fa520d2efe2",
   "metadata": {
    "execution": {
     "iopub.execute_input": "2025-07-28T11:03:06.962654Z",
     "iopub.status.busy": "2025-07-28T11:03:06.961748Z",
     "iopub.status.idle": "2025-07-28T11:03:06.969728Z",
     "shell.execute_reply": "2025-07-28T11:03:06.968784Z"
    },
    "papermill": {
     "duration": 0.032541,
     "end_time": "2025-07-28T11:03:06.971303",
     "exception": false,
     "start_time": "2025-07-28T11:03:06.938762",
     "status": "completed"
    },
    "tags": []
   },
   "outputs": [
    {
     "data": {
      "text/plain": [
       "{'universe_id': ['bebeb2909631cd3d34e1fd48236d18b0'],\n",
       " 'universe_training_size': ['2014'],\n",
       " 'universe_scale': ['do-not-scale'],\n",
       " 'universe_model': ['logreg'],\n",
       " 'universe_exclude_features': ['none'],\n",
       " 'universe_exclude_subgroups': ['keep-all'],\n",
       " 'q_hat': [0.675827936759014],\n",
       " 'coverage': [0.9116374986066214],\n",
       " 'avg_size': [1.1959647753873592]}"
      ]
     },
     "execution_count": 52,
     "metadata": {},
     "output_type": "execute_result"
    }
   ],
   "source": [
    "cp_metrics_dict"
   ]
  },
  {
   "cell_type": "code",
   "execution_count": 53,
   "id": "33007efc-14e9-4ec6-97ac-56a455c82265",
   "metadata": {
    "execution": {
     "iopub.execute_input": "2025-07-28T11:03:07.018014Z",
     "iopub.status.busy": "2025-07-28T11:03:07.017318Z",
     "iopub.status.idle": "2025-07-28T11:03:07.023926Z",
     "shell.execute_reply": "2025-07-28T11:03:07.022909Z"
    },
    "papermill": {
     "duration": 0.031503,
     "end_time": "2025-07-28T11:03:07.025483",
     "exception": false,
     "start_time": "2025-07-28T11:03:06.993980",
     "status": "completed"
    },
    "tags": []
   },
   "outputs": [],
   "source": [
    "cp_metrics_df = pd.DataFrame(cp_metrics_dict)"
   ]
  },
  {
   "cell_type": "code",
   "execution_count": 54,
   "id": "db12611b-57b2-4910-b9d0-355adfd6e7bf",
   "metadata": {
    "execution": {
     "iopub.execute_input": "2025-07-28T11:03:07.072373Z",
     "iopub.status.busy": "2025-07-28T11:03:07.071449Z",
     "iopub.status.idle": "2025-07-28T11:03:07.090787Z",
     "shell.execute_reply": "2025-07-28T11:03:07.089787Z"
    },
    "papermill": {
     "duration": 0.044638,
     "end_time": "2025-07-28T11:03:07.092787",
     "exception": false,
     "start_time": "2025-07-28T11:03:07.048149",
     "status": "completed"
    },
    "tags": []
   },
   "outputs": [
    {
     "data": {
      "text/html": [
       "<div>\n",
       "<style scoped>\n",
       "    .dataframe tbody tr th:only-of-type {\n",
       "        vertical-align: middle;\n",
       "    }\n",
       "\n",
       "    .dataframe tbody tr th {\n",
       "        vertical-align: top;\n",
       "    }\n",
       "\n",
       "    .dataframe thead th {\n",
       "        text-align: right;\n",
       "    }\n",
       "</style>\n",
       "<table border=\"1\" class=\"dataframe\">\n",
       "  <thead>\n",
       "    <tr style=\"text-align: right;\">\n",
       "      <th></th>\n",
       "      <th>universe_id</th>\n",
       "      <th>universe_training_size</th>\n",
       "      <th>universe_scale</th>\n",
       "      <th>universe_model</th>\n",
       "      <th>universe_exclude_features</th>\n",
       "      <th>universe_exclude_subgroups</th>\n",
       "      <th>q_hat</th>\n",
       "      <th>coverage</th>\n",
       "      <th>avg_size</th>\n",
       "    </tr>\n",
       "  </thead>\n",
       "  <tbody>\n",
       "    <tr>\n",
       "      <th>0</th>\n",
       "      <td>bebeb2909631cd3d34e1fd48236d18b0</td>\n",
       "      <td>2014</td>\n",
       "      <td>do-not-scale</td>\n",
       "      <td>logreg</td>\n",
       "      <td>none</td>\n",
       "      <td>keep-all</td>\n",
       "      <td>0.675828</td>\n",
       "      <td>0.911637</td>\n",
       "      <td>1.195965</td>\n",
       "    </tr>\n",
       "  </tbody>\n",
       "</table>\n",
       "</div>"
      ],
      "text/plain": [
       "                        universe_id universe_training_size universe_scale  \\\n",
       "0  bebeb2909631cd3d34e1fd48236d18b0                   2014   do-not-scale   \n",
       "\n",
       "  universe_model universe_exclude_features universe_exclude_subgroups  \\\n",
       "0         logreg                      none                   keep-all   \n",
       "\n",
       "      q_hat  coverage  avg_size  \n",
       "0  0.675828  0.911637  1.195965  "
      ]
     },
     "execution_count": 54,
     "metadata": {},
     "output_type": "execute_result"
    }
   ],
   "source": [
    "cp_metrics_df"
   ]
  },
  {
   "cell_type": "code",
   "execution_count": 55,
   "id": "b7fbde55-a0a1-47e4-9af6-fe4a17fa8c61",
   "metadata": {
    "execution": {
     "iopub.execute_input": "2025-07-28T11:03:07.140897Z",
     "iopub.status.busy": "2025-07-28T11:03:07.140128Z",
     "iopub.status.idle": "2025-07-28T11:03:07.145723Z",
     "shell.execute_reply": "2025-07-28T11:03:07.144701Z"
    },
    "papermill": {
     "duration": 0.031193,
     "end_time": "2025-07-28T11:03:07.147402",
     "exception": false,
     "start_time": "2025-07-28T11:03:07.116209",
     "status": "completed"
    },
    "tags": []
   },
   "outputs": [],
   "source": [
    "# Conditional Coverage & looking at subgroups"
   ]
  },
  {
   "cell_type": "code",
   "execution_count": 56,
   "id": "027ae886-68dd-4141-96c7-805a5450e1ef",
   "metadata": {
    "execution": {
     "iopub.execute_input": "2025-07-28T11:03:07.194710Z",
     "iopub.status.busy": "2025-07-28T11:03:07.194017Z",
     "iopub.status.idle": "2025-07-28T11:03:07.460848Z",
     "shell.execute_reply": "2025-07-28T11:03:07.459888Z"
    },
    "papermill": {
     "duration": 0.292375,
     "end_time": "2025-07-28T11:03:07.462830",
     "exception": false,
     "start_time": "2025-07-28T11:03:07.170455",
     "status": "completed"
    },
    "tags": []
   },
   "outputs": [],
   "source": [
    "from fairness_multiverse.conformal import build_cp_groups\n",
    "\n",
    "cp_groups_df = build_cp_groups(pred_sets, y_true, X_test.index, org_test)\n",
    "#needs universe_id and setting"
   ]
  },
  {
   "cell_type": "code",
   "execution_count": 57,
   "id": "01d5802c-663a-4d1f-9d69-e036faaffbf7",
   "metadata": {
    "execution": {
     "iopub.execute_input": "2025-07-28T11:03:07.514094Z",
     "iopub.status.busy": "2025-07-28T11:03:07.513397Z",
     "iopub.status.idle": "2025-07-28T11:03:07.518742Z",
     "shell.execute_reply": "2025-07-28T11:03:07.517762Z"
    },
    "papermill": {
     "duration": 0.03209,
     "end_time": "2025-07-28T11:03:07.520483",
     "exception": false,
     "start_time": "2025-07-28T11:03:07.488393",
     "status": "completed"
    },
    "tags": []
   },
   "outputs": [],
   "source": [
    "#delete\n",
    "#cp_groups_df"
   ]
  },
  {
   "cell_type": "code",
   "execution_count": 58,
   "id": "fa424af1-d1eb-443d-b717-2d279ada8408",
   "metadata": {
    "execution": {
     "iopub.execute_input": "2025-07-28T11:03:07.573579Z",
     "iopub.status.busy": "2025-07-28T11:03:07.572489Z",
     "iopub.status.idle": "2025-07-28T11:03:07.579021Z",
     "shell.execute_reply": "2025-07-28T11:03:07.577860Z"
    },
    "papermill": {
     "duration": 0.035135,
     "end_time": "2025-07-28T11:03:07.580943",
     "exception": false,
     "start_time": "2025-07-28T11:03:07.545808",
     "status": "completed"
    },
    "tags": []
   },
   "outputs": [],
   "source": [
    "#delete\n",
    "#percentage = (cp_groups_df['nongerman_female'] == 1).mean() * 100\n",
    "#print(percentage)\n"
   ]
  },
  {
   "cell_type": "code",
   "execution_count": 59,
   "id": "6cbdab96-b2b2-45af-ad54-d0516db2e28d",
   "metadata": {
    "execution": {
     "iopub.execute_input": "2025-07-28T11:03:07.633007Z",
     "iopub.status.busy": "2025-07-28T11:03:07.631939Z",
     "iopub.status.idle": "2025-07-28T11:03:09.795324Z",
     "shell.execute_reply": "2025-07-28T11:03:09.794164Z"
    },
    "papermill": {
     "duration": 2.191788,
     "end_time": "2025-07-28T11:03:09.797957",
     "exception": false,
     "start_time": "2025-07-28T11:03:07.606169",
     "status": "completed"
    },
    "tags": []
   },
   "outputs": [],
   "source": [
    "# Define covered = 1 if true_label is in the predicted set\n",
    "cp_groups_df['covered'] = cp_groups_df.apply(\n",
    "    lambda r: int(r['true_label'] in r['pred_set']),\n",
    "    axis=1\n",
    ")"
   ]
  },
  {
   "cell_type": "code",
   "execution_count": 60,
   "id": "338ff529-1a6b-4b87-a931-8e4788d52aad",
   "metadata": {
    "execution": {
     "iopub.execute_input": "2025-07-28T11:03:09.843792Z",
     "iopub.status.busy": "2025-07-28T11:03:09.843283Z",
     "iopub.status.idle": "2025-07-28T11:03:09.848130Z",
     "shell.execute_reply": "2025-07-28T11:03:09.847297Z"
    },
    "papermill": {
     "duration": 0.020195,
     "end_time": "2025-07-28T11:03:09.849628",
     "exception": false,
     "start_time": "2025-07-28T11:03:09.829433",
     "status": "completed"
    },
    "tags": []
   },
   "outputs": [],
   "source": [
    "#cp_groups_df"
   ]
  },
  {
   "cell_type": "code",
   "execution_count": 61,
   "id": "90032e27-66df-4540-9169-4e89cfbaa758",
   "metadata": {
    "execution": {
     "iopub.execute_input": "2025-07-28T11:03:09.880281Z",
     "iopub.status.busy": "2025-07-28T11:03:09.879682Z",
     "iopub.status.idle": "2025-07-28T11:03:09.893835Z",
     "shell.execute_reply": "2025-07-28T11:03:09.892676Z"
    },
    "papermill": {
     "duration": 0.033159,
     "end_time": "2025-07-28T11:03:09.896145",
     "exception": false,
     "start_time": "2025-07-28T11:03:09.862986",
     "status": "completed"
    },
    "tags": []
   },
   "outputs": [],
   "source": [
    "subgroups = ['frau1','nongerman','nongerman_male','nongerman_female']\n",
    "\n",
    "# Conditional coverage for subgroup==1\n",
    "cond_coverage = {\n",
    "    g: cp_groups_df.loc[cp_groups_df[g]==1, 'covered'].mean()\n",
    "    for g in subgroups\n",
    "}"
   ]
  },
  {
   "cell_type": "code",
   "execution_count": 62,
   "id": "1e348fb1-b9c3-45bc-ba23-f016827a7e0d",
   "metadata": {
    "execution": {
     "iopub.execute_input": "2025-07-28T11:03:09.947660Z",
     "iopub.status.busy": "2025-07-28T11:03:09.947151Z",
     "iopub.status.idle": "2025-07-28T11:03:09.954984Z",
     "shell.execute_reply": "2025-07-28T11:03:09.953758Z"
    },
    "papermill": {
     "duration": 0.031091,
     "end_time": "2025-07-28T11:03:09.956438",
     "exception": false,
     "start_time": "2025-07-28T11:03:09.925347",
     "status": "completed"
    },
    "tags": []
   },
   "outputs": [
    {
     "data": {
      "text/plain": [
       "{'frau1': 0.9104461517724761,\n",
       " 'nongerman': 0.927917812833324,\n",
       " 'nongerman_male': 0.94181752679456,\n",
       " 'nongerman_female': 0.9049180327868852}"
      ]
     },
     "execution_count": 62,
     "metadata": {},
     "output_type": "execute_result"
    }
   ],
   "source": [
    "cond_coverage"
   ]
  },
  {
   "cell_type": "code",
   "execution_count": 63,
   "id": "f5093324-c3dd-4d63-bc4c-8d945e5c8bbb",
   "metadata": {
    "execution": {
     "iopub.execute_input": "2025-07-28T11:03:09.986425Z",
     "iopub.status.busy": "2025-07-28T11:03:09.985539Z",
     "iopub.status.idle": "2025-07-28T11:03:10.046384Z",
     "shell.execute_reply": "2025-07-28T11:03:10.045412Z"
    },
    "papermill": {
     "duration": 0.077021,
     "end_time": "2025-07-28T11:03:10.047872",
     "exception": false,
     "start_time": "2025-07-28T11:03:09.970851",
     "status": "completed"
    },
    "tags": []
   },
   "outputs": [],
   "source": [
    "for subgroup, cov in cond_coverage.items():\n",
    "    cp_metrics_df[f\"cov_{subgroup}\"] = cov"
   ]
  },
  {
   "cell_type": "code",
   "execution_count": 64,
   "id": "6e872e10-dbe5-49e8-b554-5030c98ff75d",
   "metadata": {
    "execution": {
     "iopub.execute_input": "2025-07-28T11:03:10.083592Z",
     "iopub.status.busy": "2025-07-28T11:03:10.083195Z",
     "iopub.status.idle": "2025-07-28T11:03:10.104068Z",
     "shell.execute_reply": "2025-07-28T11:03:10.102967Z"
    },
    "papermill": {
     "duration": 0.043326,
     "end_time": "2025-07-28T11:03:10.105911",
     "exception": false,
     "start_time": "2025-07-28T11:03:10.062585",
     "status": "completed"
    },
    "tags": []
   },
   "outputs": [
    {
     "data": {
      "text/html": [
       "<div>\n",
       "<style scoped>\n",
       "    .dataframe tbody tr th:only-of-type {\n",
       "        vertical-align: middle;\n",
       "    }\n",
       "\n",
       "    .dataframe tbody tr th {\n",
       "        vertical-align: top;\n",
       "    }\n",
       "\n",
       "    .dataframe thead th {\n",
       "        text-align: right;\n",
       "    }\n",
       "</style>\n",
       "<table border=\"1\" class=\"dataframe\">\n",
       "  <thead>\n",
       "    <tr style=\"text-align: right;\">\n",
       "      <th></th>\n",
       "      <th>universe_id</th>\n",
       "      <th>universe_training_size</th>\n",
       "      <th>universe_scale</th>\n",
       "      <th>universe_model</th>\n",
       "      <th>universe_exclude_features</th>\n",
       "      <th>universe_exclude_subgroups</th>\n",
       "      <th>q_hat</th>\n",
       "      <th>coverage</th>\n",
       "      <th>avg_size</th>\n",
       "      <th>cov_frau1</th>\n",
       "      <th>cov_nongerman</th>\n",
       "      <th>cov_nongerman_male</th>\n",
       "      <th>cov_nongerman_female</th>\n",
       "    </tr>\n",
       "  </thead>\n",
       "  <tbody>\n",
       "    <tr>\n",
       "      <th>0</th>\n",
       "      <td>bebeb2909631cd3d34e1fd48236d18b0</td>\n",
       "      <td>2014</td>\n",
       "      <td>do-not-scale</td>\n",
       "      <td>logreg</td>\n",
       "      <td>none</td>\n",
       "      <td>keep-all</td>\n",
       "      <td>0.675828</td>\n",
       "      <td>0.911637</td>\n",
       "      <td>1.195965</td>\n",
       "      <td>0.910446</td>\n",
       "      <td>0.927918</td>\n",
       "      <td>0.941818</td>\n",
       "      <td>0.904918</td>\n",
       "    </tr>\n",
       "  </tbody>\n",
       "</table>\n",
       "</div>"
      ],
      "text/plain": [
       "                        universe_id universe_training_size universe_scale  \\\n",
       "0  bebeb2909631cd3d34e1fd48236d18b0                   2014   do-not-scale   \n",
       "\n",
       "  universe_model universe_exclude_features universe_exclude_subgroups  \\\n",
       "0         logreg                      none                   keep-all   \n",
       "\n",
       "      q_hat  coverage  avg_size  cov_frau1  cov_nongerman  cov_nongerman_male  \\\n",
       "0  0.675828  0.911637  1.195965   0.910446       0.927918            0.941818   \n",
       "\n",
       "   cov_nongerman_female  \n",
       "0              0.904918  "
      ]
     },
     "execution_count": 64,
     "metadata": {},
     "output_type": "execute_result"
    }
   ],
   "source": [
    "cp_metrics_df"
   ]
  },
  {
   "cell_type": "markdown",
   "id": "33774451",
   "metadata": {
    "papermill": {
     "duration": 0.017819,
     "end_time": "2025-07-28T11:03:10.150112",
     "exception": false,
     "start_time": "2025-07-28T11:03:10.132293",
     "status": "completed"
    },
    "tags": []
   },
   "source": [
    "# (Fairness) Metrics"
   ]
  },
  {
   "cell_type": "code",
   "execution_count": 65,
   "id": "debc5d62",
   "metadata": {
    "execution": {
     "iopub.execute_input": "2025-07-28T11:03:10.180267Z",
     "iopub.status.busy": "2025-07-28T11:03:10.179862Z",
     "iopub.status.idle": "2025-07-28T11:03:10.198134Z",
     "shell.execute_reply": "2025-07-28T11:03:10.197065Z"
    },
    "papermill": {
     "duration": 0.035318,
     "end_time": "2025-07-28T11:03:10.199744",
     "exception": false,
     "start_time": "2025-07-28T11:03:10.164426",
     "status": "completed"
    },
    "tags": []
   },
   "outputs": [],
   "source": [
    "# do I need to include maxdeutsch1.missing?\n",
    "\n",
    "import numpy as np\n",
    "\n",
    "colname_to_bin = \"maxdeutsch1\"\n",
    "majority_value = org_train[colname_to_bin].mode()[0]\n",
    "\n",
    "org_test[\"majmin\"] = np.where(org_test[colname_to_bin] == majority_value, \"majority\", \"minority\")"
   ]
  },
  {
   "cell_type": "code",
   "execution_count": 66,
   "id": "06a50de5",
   "metadata": {
    "execution": {
     "iopub.execute_input": "2025-07-28T11:03:10.258377Z",
     "iopub.status.busy": "2025-07-28T11:03:10.257993Z",
     "iopub.status.idle": "2025-07-28T11:03:13.353439Z",
     "shell.execute_reply": "2025-07-28T11:03:13.352469Z"
    },
    "papermill": {
     "duration": 3.126943,
     "end_time": "2025-07-28T11:03:13.355331",
     "exception": false,
     "start_time": "2025-07-28T11:03:10.228388",
     "status": "completed"
    },
    "tags": []
   },
   "outputs": [],
   "source": [
    "example_universe = universe.copy()\n",
    "example_universe[\"cutoff\"] = example_universe[\"cutoff\"][0]\n",
    "example_universe[\"eval_fairness_grouping\"] = example_universe[\"eval_fairness_grouping\"][0]\n",
    "fairness_dict, metric_frame = universe_analysis.compute_metrics(\n",
    "    example_universe,\n",
    "    y_pred_prob=probs_test,\n",
    "    y_test=y_true,\n",
    "    org_test=org_test,\n",
    ")"
   ]
  },
  {
   "cell_type": "markdown",
   "id": "f95d4e02",
   "metadata": {
    "papermill": {
     "duration": 0.028534,
     "end_time": "2025-07-28T11:03:13.412480",
     "exception": false,
     "start_time": "2025-07-28T11:03:13.383946",
     "status": "completed"
    },
    "tags": []
   },
   "source": [
    "# Overall"
   ]
  },
  {
   "cell_type": "markdown",
   "id": "bdee4871",
   "metadata": {
    "papermill": {
     "duration": 0.02685,
     "end_time": "2025-07-28T11:03:13.466031",
     "exception": false,
     "start_time": "2025-07-28T11:03:13.439181",
     "status": "completed"
    },
    "tags": []
   },
   "source": [
    "Fairness\n",
    "Main fairness target: Equalized Odds. Seems to be a better fit than equal opportunity, since we're not only interested in Y = 1. Seems to be a better fit than demographic parity, since we also care about accuracy, not just equal distribution of preds.\n",
    "\n",
    "Pick column for computation of fairness metrics\n",
    "\n",
    "Performance\n",
    "Overall performance measures, most interesting in relation to the measures split by group below"
   ]
  },
  {
   "cell_type": "code",
   "execution_count": 67,
   "id": "c4e067c6",
   "metadata": {
    "execution": {
     "iopub.execute_input": "2025-07-28T11:03:13.522544Z",
     "iopub.status.busy": "2025-07-28T11:03:13.521833Z",
     "iopub.status.idle": "2025-07-28T11:03:13.532179Z",
     "shell.execute_reply": "2025-07-28T11:03:13.530910Z"
    },
    "papermill": {
     "duration": 0.040067,
     "end_time": "2025-07-28T11:03:13.534093",
     "exception": false,
     "start_time": "2025-07-28T11:03:13.494026",
     "status": "completed"
    },
    "tags": []
   },
   "outputs": [
    {
     "data": {
      "text/plain": [
       "accuracy                   0.217401\n",
       "balanced accuracy          0.533035\n",
       "f1                         0.238924\n",
       "precision                  0.136489\n",
       "false positive rate        0.891525\n",
       "false negative rate        0.042405\n",
       "selection rate             0.900000\n",
       "count                  89710.000000\n",
       "dtype: float64"
      ]
     },
     "execution_count": 67,
     "metadata": {},
     "output_type": "execute_result"
    }
   ],
   "source": [
    "metric_frame.overall"
   ]
  },
  {
   "cell_type": "markdown",
   "id": "e968fe9d",
   "metadata": {
    "papermill": {
     "duration": 0.03063,
     "end_time": "2025-07-28T11:03:13.595498",
     "exception": false,
     "start_time": "2025-07-28T11:03:13.564868",
     "status": "completed"
    },
    "tags": []
   },
   "source": [
    "By Group"
   ]
  },
  {
   "cell_type": "code",
   "execution_count": 68,
   "id": "ec325bce",
   "metadata": {
    "execution": {
     "iopub.execute_input": "2025-07-28T11:03:13.653299Z",
     "iopub.status.busy": "2025-07-28T11:03:13.652751Z",
     "iopub.status.idle": "2025-07-28T11:03:13.672138Z",
     "shell.execute_reply": "2025-07-28T11:03:13.670967Z"
    },
    "papermill": {
     "duration": 0.047823,
     "end_time": "2025-07-28T11:03:13.673932",
     "exception": false,
     "start_time": "2025-07-28T11:03:13.626109",
     "status": "completed"
    },
    "tags": []
   },
   "outputs": [
    {
     "data": {
      "text/html": [
       "<div>\n",
       "<style scoped>\n",
       "    .dataframe tbody tr th:only-of-type {\n",
       "        vertical-align: middle;\n",
       "    }\n",
       "\n",
       "    .dataframe tbody tr th {\n",
       "        vertical-align: top;\n",
       "    }\n",
       "\n",
       "    .dataframe thead th {\n",
       "        text-align: right;\n",
       "    }\n",
       "</style>\n",
       "<table border=\"1\" class=\"dataframe\">\n",
       "  <thead>\n",
       "    <tr style=\"text-align: right;\">\n",
       "      <th></th>\n",
       "      <th>accuracy</th>\n",
       "      <th>balanced accuracy</th>\n",
       "      <th>f1</th>\n",
       "      <th>precision</th>\n",
       "      <th>false positive rate</th>\n",
       "      <th>false negative rate</th>\n",
       "      <th>selection rate</th>\n",
       "      <th>count</th>\n",
       "    </tr>\n",
       "    <tr>\n",
       "      <th>majmin</th>\n",
       "      <th></th>\n",
       "      <th></th>\n",
       "      <th></th>\n",
       "      <th></th>\n",
       "      <th></th>\n",
       "      <th></th>\n",
       "      <th></th>\n",
       "      <th></th>\n",
       "    </tr>\n",
       "  </thead>\n",
       "  <tbody>\n",
       "    <tr>\n",
       "      <th>majority</th>\n",
       "      <td>0.239193</td>\n",
       "      <td>0.540438</td>\n",
       "      <td>0.248096</td>\n",
       "      <td>0.142681</td>\n",
       "      <td>0.869015</td>\n",
       "      <td>0.050109</td>\n",
       "      <td>0.879702</td>\n",
       "      <td>69170.0</td>\n",
       "    </tr>\n",
       "    <tr>\n",
       "      <th>minority</th>\n",
       "      <td>0.144012</td>\n",
       "      <td>0.510725</td>\n",
       "      <td>0.210082</td>\n",
       "      <td>0.117547</td>\n",
       "      <td>0.965882</td>\n",
       "      <td>0.012669</td>\n",
       "      <td>0.968354</td>\n",
       "      <td>20540.0</td>\n",
       "    </tr>\n",
       "  </tbody>\n",
       "</table>\n",
       "</div>"
      ],
      "text/plain": [
       "          accuracy  balanced accuracy        f1  precision  \\\n",
       "majmin                                                       \n",
       "majority  0.239193           0.540438  0.248096   0.142681   \n",
       "minority  0.144012           0.510725  0.210082   0.117547   \n",
       "\n",
       "          false positive rate  false negative rate  selection rate    count  \n",
       "majmin                                                                       \n",
       "majority             0.869015             0.050109        0.879702  69170.0  \n",
       "minority             0.965882             0.012669        0.968354  20540.0  "
      ]
     },
     "execution_count": 68,
     "metadata": {},
     "output_type": "execute_result"
    }
   ],
   "source": [
    "metric_frame.by_group"
   ]
  },
  {
   "cell_type": "code",
   "execution_count": 69,
   "id": "a9ddbe63",
   "metadata": {
    "execution": {
     "iopub.execute_input": "2025-07-28T11:03:13.727035Z",
     "iopub.status.busy": "2025-07-28T11:03:13.726099Z",
     "iopub.status.idle": "2025-07-28T11:03:16.329064Z",
     "shell.execute_reply": "2025-07-28T11:03:16.328254Z"
    },
    "papermill": {
     "duration": 2.631183,
     "end_time": "2025-07-28T11:03:16.330537",
     "exception": false,
     "start_time": "2025-07-28T11:03:13.699354",
     "status": "completed"
    },
    "tags": []
   },
   "outputs": [
    {
     "data": {
      "text/plain": [
       "array([[<Axes: title={'center': 'accuracy'}, xlabel='majmin'>,\n",
       "        <Axes: title={'center': 'balanced accuracy'}, xlabel='majmin'>,\n",
       "        <Axes: title={'center': 'f1'}, xlabel='majmin'>],\n",
       "       [<Axes: title={'center': 'precision'}, xlabel='majmin'>,\n",
       "        <Axes: title={'center': 'false positive rate'}, xlabel='majmin'>,\n",
       "        <Axes: title={'center': 'false negative rate'}, xlabel='majmin'>],\n",
       "       [<Axes: title={'center': 'selection rate'}, xlabel='majmin'>,\n",
       "        <Axes: title={'center': 'count'}, xlabel='majmin'>,\n",
       "        <Axes: xlabel='majmin'>]], dtype=object)"
      ]
     },
     "execution_count": 69,
     "metadata": {},
     "output_type": "execute_result"
    },
    {
     "data": {
      "image/png": "[encoded data removed]",
      "text/plain": [
       "<Figure size 1200x800 with 9 Axes>"
      ]
     },
     "metadata": {},
     "output_type": "display_data"
    }
   ],
   "source": [
    "# In a graphic\n",
    "metric_frame.by_group.plot.bar(\n",
    "    subplots=True,\n",
    "    layout=[3, 3],\n",
    "    legend=False,\n",
    "    figsize=[12, 8],\n",
    "    title=\"Show all metrics\",\n",
    ")"
   ]
  },
  {
   "cell_type": "markdown",
   "id": "f57a0bac",
   "metadata": {
    "papermill": {
     "duration": 0.015539,
     "end_time": "2025-07-28T11:03:16.363812",
     "exception": false,
     "start_time": "2025-07-28T11:03:16.348273",
     "status": "completed"
    },
    "tags": []
   },
   "source": [
    "# Final Output"
   ]
  },
  {
   "cell_type": "code",
   "execution_count": 70,
   "id": "96d280a3",
   "metadata": {
    "execution": {
     "iopub.execute_input": "2025-07-28T11:03:16.396004Z",
     "iopub.status.busy": "2025-07-28T11:03:16.395479Z",
     "iopub.status.idle": "2025-07-28T11:03:16.403317Z",
     "shell.execute_reply": "2025-07-28T11:03:16.402540Z"
    },
    "papermill": {
     "duration": 0.025786,
     "end_time": "2025-07-28T11:03:16.404797",
     "exception": false,
     "start_time": "2025-07-28T11:03:16.379011",
     "status": "completed"
    },
    "tags": []
   },
   "outputs": [
    {
     "data": {
      "text/plain": [
       "4"
      ]
     },
     "execution_count": 70,
     "metadata": {},
     "output_type": "execute_result"
    }
   ],
   "source": [
    "sub_universes = universe_analysis.generate_sub_universes()\n",
    "len(sub_universes)"
   ]
  },
  {
   "cell_type": "code",
   "execution_count": 71,
   "id": "92adf7ba",
   "metadata": {
    "execution": {
     "iopub.execute_input": "2025-07-28T11:03:16.437655Z",
     "iopub.status.busy": "2025-07-28T11:03:16.437121Z",
     "iopub.status.idle": "2025-07-28T11:03:16.450057Z",
     "shell.execute_reply": "2025-07-28T11:03:16.449303Z"
    },
    "papermill": {
     "duration": 0.030937,
     "end_time": "2025-07-28T11:03:16.451507",
     "exception": false,
     "start_time": "2025-07-28T11:03:16.420570",
     "status": "completed"
    },
    "tags": []
   },
   "outputs": [],
   "source": [
    "def filter_sub_universe_data(sub_universe, org_test):\n",
    "    # Keep all rows — no filtering\n",
    "    keep_rows_mask = np.ones(org_test.shape[0], dtype=bool)\n",
    "\n",
    "    print(f\"[INFO] Keeping all rows: {keep_rows_mask.sum()} rows retained.\")\n",
    "    return keep_rows_mask"
   ]
  },
  {
   "cell_type": "code",
   "execution_count": 72,
   "id": "4a759155",
   "metadata": {
    "execution": {
     "iopub.execute_input": "2025-07-28T11:03:16.484933Z",
     "iopub.status.busy": "2025-07-28T11:03:16.484358Z",
     "iopub.status.idle": "2025-07-28T11:03:25.659929Z",
     "shell.execute_reply": "2025-07-28T11:03:25.658760Z"
    },
    "papermill": {
     "duration": 9.193792,
     "end_time": "2025-07-28T11:03:25.661607",
     "exception": false,
     "start_time": "2025-07-28T11:03:16.467815",
     "status": "completed"
    },
    "tags": []
   },
   "outputs": [
    {
     "name": "stdout",
     "output_type": "stream",
     "text": [
      "Stopping execution_time clock.\n",
      "[INFO] Keeping all rows: 89710 rows retained.\n"
     ]
    },
    {
     "name": "stdout",
     "output_type": "stream",
     "text": [
      "[INFO] Keeping all rows: 89710 rows retained.\n"
     ]
    },
    {
     "name": "stdout",
     "output_type": "stream",
     "text": [
      "[INFO] Keeping all rows: 89710 rows retained.\n"
     ]
    },
    {
     "name": "stdout",
     "output_type": "stream",
     "text": [
      "[INFO] Keeping all rows: 89710 rows retained.\n"
     ]
    },
    {
     "data": {
      "text/html": [
       "<div>\n",
       "<style scoped>\n",
       "    .dataframe tbody tr th:only-of-type {\n",
       "        vertical-align: middle;\n",
       "    }\n",
       "\n",
       "    .dataframe tbody tr th {\n",
       "        vertical-align: top;\n",
       "    }\n",
       "\n",
       "    .dataframe thead th {\n",
       "        text-align: right;\n",
       "    }\n",
       "</style>\n",
       "<table border=\"1\" class=\"dataframe\">\n",
       "  <thead>\n",
       "    <tr style=\"text-align: right;\">\n",
       "      <th></th>\n",
       "      <th>run_no</th>\n",
       "      <th>universe_id</th>\n",
       "      <th>universe_settings</th>\n",
       "      <th>execution_time</th>\n",
       "      <th>test_size_n</th>\n",
       "      <th>test_size_frac</th>\n",
       "      <th>fair_main_equalized_odds_difference</th>\n",
       "      <th>fair_main_equalized_odds_ratio</th>\n",
       "      <th>fair_main_demographic_parity_difference</th>\n",
       "      <th>fair_main_demographic_parity_ratio</th>\n",
       "      <th>...</th>\n",
       "      <th>perf_grp_precision_0</th>\n",
       "      <th>perf_grp_precision_1</th>\n",
       "      <th>perf_grp_false positive rate_0</th>\n",
       "      <th>perf_grp_false positive rate_1</th>\n",
       "      <th>perf_grp_false negative rate_0</th>\n",
       "      <th>perf_grp_false negative rate_1</th>\n",
       "      <th>perf_grp_selection rate_0</th>\n",
       "      <th>perf_grp_selection rate_1</th>\n",
       "      <th>perf_grp_count_0</th>\n",
       "      <th>perf_grp_count_1</th>\n",
       "    </tr>\n",
       "  </thead>\n",
       "  <tbody>\n",
       "    <tr>\n",
       "      <th>0</th>\n",
       "      <td>11</td>\n",
       "      <td>bebeb2909631cd3d34e1fd48236d18b0</td>\n",
       "      <td>{\"cutoff\": \"quantile_0.1\", \"eval_fairness_grou...</td>\n",
       "      <td>32.332699</td>\n",
       "      <td>89710</td>\n",
       "      <td>1.0</td>\n",
       "      <td>0.096866</td>\n",
       "      <td>0.899712</td>\n",
       "      <td>0.088652</td>\n",
       "      <td>0.908451</td>\n",
       "      <td>...</td>\n",
       "      <td>NaN</td>\n",
       "      <td>NaN</td>\n",
       "      <td>NaN</td>\n",
       "      <td>NaN</td>\n",
       "      <td>NaN</td>\n",
       "      <td>NaN</td>\n",
       "      <td>NaN</td>\n",
       "      <td>NaN</td>\n",
       "      <td>NaN</td>\n",
       "      <td>NaN</td>\n",
       "    </tr>\n",
       "    <tr>\n",
       "      <th>0</th>\n",
       "      <td>11</td>\n",
       "      <td>bebeb2909631cd3d34e1fd48236d18b0</td>\n",
       "      <td>{\"cutoff\": \"quantile_0.1\", \"eval_fairness_grou...</td>\n",
       "      <td>32.332699</td>\n",
       "      <td>89710</td>\n",
       "      <td>1.0</td>\n",
       "      <td>0.096866</td>\n",
       "      <td>0.899712</td>\n",
       "      <td>0.088652</td>\n",
       "      <td>0.908451</td>\n",
       "      <td>...</td>\n",
       "      <td>0.117547</td>\n",
       "      <td>0.142681</td>\n",
       "      <td>0.965882</td>\n",
       "      <td>0.869015</td>\n",
       "      <td>0.012669</td>\n",
       "      <td>0.050109</td>\n",
       "      <td>0.968354</td>\n",
       "      <td>0.879702</td>\n",
       "      <td>20540.0</td>\n",
       "      <td>69170.0</td>\n",
       "    </tr>\n",
       "    <tr>\n",
       "      <th>0</th>\n",
       "      <td>11</td>\n",
       "      <td>bebeb2909631cd3d34e1fd48236d18b0</td>\n",
       "      <td>{\"cutoff\": \"quantile_0.25\", \"eval_fairness_gro...</td>\n",
       "      <td>32.332699</td>\n",
       "      <td>89710</td>\n",
       "      <td>1.0</td>\n",
       "      <td>0.210300</td>\n",
       "      <td>0.764086</td>\n",
       "      <td>0.192971</td>\n",
       "      <td>0.785297</td>\n",
       "      <td>...</td>\n",
       "      <td>NaN</td>\n",
       "      <td>NaN</td>\n",
       "      <td>NaN</td>\n",
       "      <td>NaN</td>\n",
       "      <td>NaN</td>\n",
       "      <td>NaN</td>\n",
       "      <td>NaN</td>\n",
       "      <td>NaN</td>\n",
       "      <td>NaN</td>\n",
       "      <td>NaN</td>\n",
       "    </tr>\n",
       "    <tr>\n",
       "      <th>0</th>\n",
       "      <td>11</td>\n",
       "      <td>bebeb2909631cd3d34e1fd48236d18b0</td>\n",
       "      <td>{\"cutoff\": \"quantile_0.25\", \"eval_fairness_gro...</td>\n",
       "      <td>32.332699</td>\n",
       "      <td>89710</td>\n",
       "      <td>1.0</td>\n",
       "      <td>0.210300</td>\n",
       "      <td>0.764086</td>\n",
       "      <td>0.192971</td>\n",
       "      <td>0.785297</td>\n",
       "      <td>...</td>\n",
       "      <td>0.122529</td>\n",
       "      <td>0.162492</td>\n",
       "      <td>0.891426</td>\n",
       "      <td>0.681126</td>\n",
       "      <td>0.044764</td>\n",
       "      <td>0.132057</td>\n",
       "      <td>0.898783</td>\n",
       "      <td>0.705812</td>\n",
       "      <td>20540.0</td>\n",
       "      <td>69170.0</td>\n",
       "    </tr>\n",
       "  </tbody>\n",
       "</table>\n",
       "<p>4 rows × 50 columns</p>\n",
       "</div>"
      ],
      "text/plain": [
       "  run_no                       universe_id  \\\n",
       "0     11  bebeb2909631cd3d34e1fd48236d18b0   \n",
       "0     11  bebeb2909631cd3d34e1fd48236d18b0   \n",
       "0     11  bebeb2909631cd3d34e1fd48236d18b0   \n",
       "0     11  bebeb2909631cd3d34e1fd48236d18b0   \n",
       "\n",
       "                                   universe_settings  execution_time  \\\n",
       "0  {\"cutoff\": \"quantile_0.1\", \"eval_fairness_grou...       32.332699   \n",
       "0  {\"cutoff\": \"quantile_0.1\", \"eval_fairness_grou...       32.332699   \n",
       "0  {\"cutoff\": \"quantile_0.25\", \"eval_fairness_gro...       32.332699   \n",
       "0  {\"cutoff\": \"quantile_0.25\", \"eval_fairness_gro...       32.332699   \n",
       "\n",
       "   test_size_n  test_size_frac  fair_main_equalized_odds_difference  \\\n",
       "0        89710             1.0                             0.096866   \n",
       "0        89710             1.0                             0.096866   \n",
       "0        89710             1.0                             0.210300   \n",
       "0        89710             1.0                             0.210300   \n",
       "\n",
       "   fair_main_equalized_odds_ratio  fair_main_demographic_parity_difference  \\\n",
       "0                        0.899712                                 0.088652   \n",
       "0                        0.899712                                 0.088652   \n",
       "0                        0.764086                                 0.192971   \n",
       "0                        0.764086                                 0.192971   \n",
       "\n",
       "   fair_main_demographic_parity_ratio  ...  perf_grp_precision_0  \\\n",
       "0                            0.908451  ...                   NaN   \n",
       "0                            0.908451  ...              0.117547   \n",
       "0                            0.785297  ...                   NaN   \n",
       "0                            0.785297  ...              0.122529   \n",
       "\n",
       "   perf_grp_precision_1  perf_grp_false positive rate_0  \\\n",
       "0                   NaN                             NaN   \n",
       "0              0.142681                        0.965882   \n",
       "0                   NaN                             NaN   \n",
       "0              0.162492                        0.891426   \n",
       "\n",
       "   perf_grp_false positive rate_1  perf_grp_false negative rate_0  \\\n",
       "0                             NaN                             NaN   \n",
       "0                        0.869015                        0.012669   \n",
       "0                             NaN                             NaN   \n",
       "0                        0.681126                        0.044764   \n",
       "\n",
       "   perf_grp_false negative rate_1  perf_grp_selection rate_0  \\\n",
       "0                             NaN                        NaN   \n",
       "0                        0.050109                   0.968354   \n",
       "0                             NaN                        NaN   \n",
       "0                        0.132057                   0.898783   \n",
       "\n",
       "   perf_grp_selection rate_1  perf_grp_count_0  perf_grp_count_1  \n",
       "0                        NaN               NaN               NaN  \n",
       "0                   0.879702           20540.0           69170.0  \n",
       "0                        NaN               NaN               NaN  \n",
       "0                   0.705812           20540.0           69170.0  \n",
       "\n",
       "[4 rows x 50 columns]"
      ]
     },
     "execution_count": 72,
     "metadata": {},
     "output_type": "execute_result"
    }
   ],
   "source": [
    "final_output = universe_analysis.generate_final_output(\n",
    "    y_pred_prob=probs_test,\n",
    "    y_test=y_true,\n",
    "    org_test=org_test,\n",
    "    filter_data=filter_sub_universe_data,\n",
    "    cp_metrics_df=cp_metrics_df,\n",
    "    save=True,\n",
    ")\n",
    "final_output"
   ]
  },
  {
   "cell_type": "code",
   "execution_count": null,
   "id": "721ff514-cb11-46f8-b6fc-50392f74b5cb",
   "metadata": {
    "papermill": {
     "duration": 0.028912,
     "end_time": "2025-07-28T11:03:25.737194",
     "exception": false,
     "start_time": "2025-07-28T11:03:25.708282",
     "status": "completed"
    },
    "tags": []
   },
   "outputs": [],
   "source": []
  }
 ],
 "metadata": {
  "celltoolbar": "Tags",
  "kernelspec": {
   "display_name": "Python (CMA Fairness)",
   "language": "python",
   "name": "cma_fair_env"
  },
  "language_info": {
   "codemirror_mode": {
    "name": "ipython",
    "version": 3
   },
   "file_extension": ".py",
   "mimetype": "text/x-python",
   "name": "python",
   "nbconvert_exporter": "python",
   "pygments_lexer": "ipython3",
   "version": "3.10.12"
  },
  "papermill": {
   "default_parameters": {},
   "duration": 46.074517,
   "end_time": "2025-07-28T11:03:26.787279",
   "environment_variables": {},
   "exception": null,
   "input_path": "universe_analysis.ipynb",
   "output_path": "output/runs/11/notebooks/m_11-bebeb2909631cd3d34e1fd48236d18b0.ipynb",
   "parameters": {
    "output_dir": "output",
    "run_no": "11",
    "seed": "2023",
    "universe": "{\"cutoff\": [\"quantile_0.1\", \"quantile_0.25\"], \"eval_fairness_grouping\": [\"majority-minority\", \"nationality-all\"], \"exclude_features\": \"none\", \"exclude_subgroups\": \"keep-all\", \"model\": \"logreg\", \"scale\": \"do-not-scale\", \"training_size\": \"2014\"}",
    "universe_id": "bebeb2909631cd3d34e1fd48236d18b0"
   },
   "start_time": "2025-07-28T11:02:40.712762",
   "version": "2.6.0"
  }
 },
 "nbformat": 4,
 "nbformat_minor": 5
}