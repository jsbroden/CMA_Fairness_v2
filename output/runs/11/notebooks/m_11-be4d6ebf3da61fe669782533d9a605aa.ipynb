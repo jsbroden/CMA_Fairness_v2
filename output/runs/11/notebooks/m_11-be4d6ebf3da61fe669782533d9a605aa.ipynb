{
 "cells": [
  {
   "cell_type": "code",
   "execution_count": 1,
   "id": "f159f837-637b-42ba-96b5-ec9a68c44524",
   "metadata": {
    "execution": {
     "iopub.execute_input": "2025-07-28T10:54:06.446721Z",
     "iopub.status.busy": "2025-07-28T10:54:06.446161Z",
     "iopub.status.idle": "2025-07-28T10:54:06.462361Z",
     "shell.execute_reply": "2025-07-28T10:54:06.461125Z"
    },
    "papermill": {
     "duration": 0.041589,
     "end_time": "2025-07-28T10:54:06.464348",
     "exception": false,
     "start_time": "2025-07-28T10:54:06.422759",
     "status": "completed"
    },
    "tags": []
   },
   "outputs": [
    {
     "name": "stdout",
     "output_type": "stream",
     "text": [
      "/dss/dsshome1/0C/ra93lal2/cma/CMA_Fairness_v2\n"
     ]
    },
    {
     "name": "stderr",
     "output_type": "stream",
     "text": [
      "/dss/dsshome1/0C/ra93lal2/.local/share/virtualenvs/CMA_Fairness_v2-3j10GkSs/lib/python3.10/site-packages/IPython/core/magics/osm.py:393: UserWarning: This is now an optional IPython functionality, using bookmarks requires you to install the `pickleshare` library.\n",
      "  bkms = self.shell.db.get('bookmarks', {})\n",
      "/dss/dsshome1/0C/ra93lal2/.local/share/virtualenvs/CMA_Fairness_v2-3j10GkSs/lib/python3.10/site-packages/IPython/core/magics/osm.py:417: UserWarning: This is now an optional IPython functionality, setting dhist requires you to install the `pickleshare` library.\n",
      "  self.shell.db['dhist'] = compress_dhist(dhist)[-100:]\n"
     ]
    }
   ],
   "source": [
    "%cd ~/cma/CMA_Fairness_v2"
   ]
  },
  {
   "cell_type": "markdown",
   "id": "de2603b9",
   "metadata": {
    "papermill": {
     "duration": 0.023712,
     "end_time": "2025-07-28T10:54:06.510473",
     "exception": false,
     "start_time": "2025-07-28T10:54:06.486761",
     "status": "completed"
    },
    "tags": []
   },
   "source": [
    "The following cell holds the definition of our parameters, these values can be overriden by rendering the with e.g. the following command:\n",
    "\n",
    "papermill -p alpha 0.2 -p ratio 0.3 universe_analysis.ipynb output/test_run.ipynb"
   ]
  },
  {
   "cell_type": "code",
   "execution_count": 2,
   "id": "a80968a0-40bb-4fa9-85ef-2d5eefb01975",
   "metadata": {
    "execution": {
     "iopub.execute_input": "2025-07-28T10:54:06.551964Z",
     "iopub.status.busy": "2025-07-28T10:54:06.551513Z",
     "iopub.status.idle": "2025-07-28T10:54:06.558075Z",
     "shell.execute_reply": "2025-07-28T10:54:06.556944Z"
    },
    "papermill": {
     "duration": 0.029413,
     "end_time": "2025-07-28T10:54:06.559871",
     "exception": false,
     "start_time": "2025-07-28T10:54:06.530458",
     "status": "completed"
    },
    "tags": []
   },
   "outputs": [
    {
     "name": "stdout",
     "output_type": "stream",
     "text": [
      "Current working directory: /dss/dsshome1/0C/ra93lal2/cma/CMA_Fairness_v2\n"
     ]
    }
   ],
   "source": [
    "import os\n",
    "print(\"Current working directory:\", os.getcwd())"
   ]
  },
  {
   "cell_type": "code",
   "execution_count": 3,
   "id": "2dce4c03",
   "metadata": {
    "execution": {
     "iopub.execute_input": "2025-07-28T10:54:06.604167Z",
     "iopub.status.busy": "2025-07-28T10:54:06.603649Z",
     "iopub.status.idle": "2025-07-28T10:54:06.610689Z",
     "shell.execute_reply": "2025-07-28T10:54:06.609657Z"
    },
    "papermill": {
     "duration": 0.030885,
     "end_time": "2025-07-28T10:54:06.612671",
     "exception": false,
     "start_time": "2025-07-28T10:54:06.581786",
     "status": "completed"
    },
    "tags": [
     "parameters"
    ]
   },
   "outputs": [],
   "source": [
    "run_no = 0\n",
    "universe_id = \"test\"\n",
    "universe = {\n",
    "    \"training_size\": \"2014\", # \"25k\", \"5k\", \"1k\", \"2014\"\n",
    "    \"scale\": \"scale\", # \"scale\", \"do-not-scale\",\n",
    "    #\"stratify_split\": \"target\", # \"none\", \"target\", \"protected-attribute\", \"both\",\n",
    "    \"model\": \"elasticnet\", # \"logreg\", \"penalized_logreg\", \"rf\", \"gbm\", \"elasticnet\"\n",
    "    \"cutoff\": [\"quantile_0.15\", \"quantile_0.30\"],\n",
    "    \"exclude_features\": \"age\", # \"none\", \"nationality\", \"sex\", \"nationality-sex\", \"age\"\n",
    "    \"exclude_subgroups\": \"keep-all\", # \"keep-all\", \"drop-non-german\"\n",
    "    \"eval_fairness_grouping\": [\"majority-minority\", \"nationality-all\"]\n",
    "}\n",
    "\n",
    "output_dir=\"./output\"\n",
    "seed=0"
   ]
  },
  {
   "cell_type": "code",
   "execution_count": 4,
   "id": "0917c40f",
   "metadata": {
    "execution": {
     "iopub.execute_input": "2025-07-28T10:54:06.656725Z",
     "iopub.status.busy": "2025-07-28T10:54:06.656176Z",
     "iopub.status.idle": "2025-07-28T10:54:06.662617Z",
     "shell.execute_reply": "2025-07-28T10:54:06.661516Z"
    },
    "papermill": {
     "duration": 0.037696,
     "end_time": "2025-07-28T10:54:06.666442",
     "exception": false,
     "start_time": "2025-07-28T10:54:06.628746",
     "status": "completed"
    },
    "tags": [
     "injected-parameters"
    ]
   },
   "outputs": [],
   "source": [
    "# Parameters\n",
    "universe_id = \"be4d6ebf3da61fe669782533d9a605aa\"\n",
    "run_no = \"11\"\n",
    "universe = \"{\\\"cutoff\\\": [\\\"quantile_0.1\\\", \\\"quantile_0.25\\\"], \\\"eval_fairness_grouping\\\": [\\\"majority-minority\\\", \\\"nationality-all\\\"], \\\"exclude_features\\\": \\\"none\\\", \\\"exclude_subgroups\\\": \\\"keep-all\\\", \\\"model\\\": \\\"penalized_logreg\\\", \\\"scale\\\": \\\"scale\\\", \\\"training_size\\\": \\\"2014\\\"}\"\n",
    "output_dir = \"output\"\n",
    "seed = \"2023\"\n"
   ]
  },
  {
   "cell_type": "code",
   "execution_count": 5,
   "id": "1650acaf",
   "metadata": {
    "execution": {
     "iopub.execute_input": "2025-07-28T10:54:06.707406Z",
     "iopub.status.busy": "2025-07-28T10:54:06.706921Z",
     "iopub.status.idle": "2025-07-28T10:54:06.712254Z",
     "shell.execute_reply": "2025-07-28T10:54:06.711182Z"
    },
    "papermill": {
     "duration": 0.027975,
     "end_time": "2025-07-28T10:54:06.714004",
     "exception": false,
     "start_time": "2025-07-28T10:54:06.686029",
     "status": "completed"
    },
    "tags": []
   },
   "outputs": [],
   "source": [
    "import json\n",
    "# Parse universe into dict if it is passed as a string\n",
    "if isinstance(universe, str):\n",
    "    universe = json.loads(universe)"
   ]
  },
  {
   "cell_type": "code",
   "execution_count": 6,
   "id": "16620c48",
   "metadata": {
    "execution": {
     "iopub.execute_input": "2025-07-28T10:54:06.755423Z",
     "iopub.status.busy": "2025-07-28T10:54:06.754656Z",
     "iopub.status.idle": "2025-07-28T10:54:06.798830Z",
     "shell.execute_reply": "2025-07-28T10:54:06.798070Z"
    },
    "papermill": {
     "duration": 0.067463,
     "end_time": "2025-07-28T10:54:06.800868",
     "exception": false,
     "start_time": "2025-07-28T10:54:06.733405",
     "status": "completed"
    },
    "tags": []
   },
   "outputs": [],
   "source": [
    "# Auto-reload the custom package\n",
    "%load_ext autoreload\n",
    "%autoreload 1\n",
    "%aimport fairness_multiverse"
   ]
  },
  {
   "cell_type": "code",
   "execution_count": 7,
   "id": "01c5c9f3",
   "metadata": {
    "execution": {
     "iopub.execute_input": "2025-07-28T10:54:06.845107Z",
     "iopub.status.busy": "2025-07-28T10:54:06.844531Z",
     "iopub.status.idle": "2025-07-28T10:54:09.013518Z",
     "shell.execute_reply": "2025-07-28T10:54:09.012362Z"
    },
    "papermill": {
     "duration": 2.192543,
     "end_time": "2025-07-28T10:54:09.015903",
     "exception": false,
     "start_time": "2025-07-28T10:54:06.823360",
     "status": "completed"
    },
    "tags": []
   },
   "outputs": [],
   "source": [
    "from fairness_multiverse.universe import UniverseAnalysis\n",
    "\n",
    "universe_analysis = UniverseAnalysis(\n",
    "    run_no = run_no,\n",
    "    universe_id = universe_id,\n",
    "    universe = universe,\n",
    "    output_dir=output_dir,\n",
    ")"
   ]
  },
  {
   "cell_type": "code",
   "execution_count": 8,
   "id": "106241f5",
   "metadata": {
    "execution": {
     "iopub.execute_input": "2025-07-28T10:54:09.064175Z",
     "iopub.status.busy": "2025-07-28T10:54:09.063275Z",
     "iopub.status.idle": "2025-07-28T10:54:09.072220Z",
     "shell.execute_reply": "2025-07-28T10:54:09.071027Z"
    },
    "papermill": {
     "duration": 0.035234,
     "end_time": "2025-07-28T10:54:09.074004",
     "exception": false,
     "start_time": "2025-07-28T10:54:09.038770",
     "status": "completed"
    },
    "tags": []
   },
   "outputs": [
    {
     "name": "stdout",
     "output_type": "stream",
     "text": [
      "Using Seed: 2023\n"
     ]
    }
   ],
   "source": [
    "import numpy as np\n",
    "parsed_seed = int(seed)\n",
    "np.random.seed(parsed_seed)\n",
    "print(f\"Using Seed: {parsed_seed}\")"
   ]
  },
  {
   "cell_type": "markdown",
   "id": "e0ebdc57",
   "metadata": {
    "papermill": {
     "duration": 0.026343,
     "end_time": "2025-07-28T10:54:09.125909",
     "exception": false,
     "start_time": "2025-07-28T10:54:09.099566",
     "status": "completed"
    },
    "tags": []
   },
   "source": [
    "# Loading Data"
   ]
  },
  {
   "cell_type": "markdown",
   "id": "681925a3",
   "metadata": {
    "papermill": {
     "duration": 0.024648,
     "end_time": "2025-07-28T10:54:09.174380",
     "exception": false,
     "start_time": "2025-07-28T10:54:09.149732",
     "status": "completed"
    },
    "tags": []
   },
   "source": [
    "Load siab_train, siab_test, siab_calib and/or \n",
    "load siab_train_features, siab_train_labels"
   ]
  },
  {
   "cell_type": "code",
   "execution_count": 9,
   "id": "f0496b8a",
   "metadata": {
    "execution": {
     "iopub.execute_input": "2025-07-28T10:54:09.228495Z",
     "iopub.status.busy": "2025-07-28T10:54:09.227938Z",
     "iopub.status.idle": "2025-07-28T10:54:22.707660Z",
     "shell.execute_reply": "2025-07-28T10:54:22.706535Z"
    },
    "papermill": {
     "duration": 13.509291,
     "end_time": "2025-07-28T10:54:22.709890",
     "exception": false,
     "start_time": "2025-07-28T10:54:09.200599",
     "status": "completed"
    },
    "tags": []
   },
   "outputs": [
    {
     "name": "stdout",
     "output_type": "stream",
     "text": [
      "Loading SIAB data from cache: data/siab_cached.csv.gz\n"
     ]
    },
    {
     "name": "stdout",
     "output_type": "stream",
     "text": [
      "(643690, 164)\n"
     ]
    }
   ],
   "source": [
    "from pathlib import Path\n",
    "import pandas as pd\n",
    "\n",
    "# File paths\n",
    "raw_file = Path(\"data/raw/siab.csv\")\n",
    "cache_file = Path(\"data/siab_cached.csv.gz\")\n",
    "\n",
    "# Ensure cache directory exists\n",
    "cache_file.parent.mkdir(parents=True, exist_ok=True)\n",
    "\n",
    "# Load with simple caching\n",
    "if cache_file.exists():\n",
    "    print(f\"Loading SIAB data from cache: {cache_file}\")\n",
    "    siab = pd.read_csv(cache_file, compression='gzip')\n",
    "else:\n",
    "    print(f\"Cache not found. Reading raw SIAB data: {raw_file}\")\n",
    "    siab = pd.read_csv(raw_file)\n",
    "    siab.to_csv(cache_file, index=False, compression='gzip')\n",
    "    print(f\"Cached SIAB data to: {cache_file}\")\n",
    "\n",
    "# Now use `siab` DataFrame as needed\n",
    "print(siab.shape)"
   ]
  },
  {
   "cell_type": "code",
   "execution_count": 10,
   "id": "db0ca512-5f53-4dba-abdb-a2888bca41ba",
   "metadata": {
    "execution": {
     "iopub.execute_input": "2025-07-28T10:54:22.758782Z",
     "iopub.status.busy": "2025-07-28T10:54:22.758116Z",
     "iopub.status.idle": "2025-07-28T10:54:22.765220Z",
     "shell.execute_reply": "2025-07-28T10:54:22.764132Z"
    },
    "papermill": {
     "duration": 0.034336,
     "end_time": "2025-07-28T10:54:22.767564",
     "exception": false,
     "start_time": "2025-07-28T10:54:22.733228",
     "status": "completed"
    },
    "tags": []
   },
   "outputs": [],
   "source": [
    "#siab"
   ]
  },
  {
   "cell_type": "code",
   "execution_count": 11,
   "id": "a0edb063",
   "metadata": {
    "execution": {
     "iopub.execute_input": "2025-07-28T10:54:22.817796Z",
     "iopub.status.busy": "2025-07-28T10:54:22.817283Z",
     "iopub.status.idle": "2025-07-28T10:54:22.822939Z",
     "shell.execute_reply": "2025-07-28T10:54:22.821980Z"
    },
    "papermill": {
     "duration": 0.032542,
     "end_time": "2025-07-28T10:54:22.825057",
     "exception": false,
     "start_time": "2025-07-28T10:54:22.792515",
     "status": "completed"
    },
    "tags": []
   },
   "outputs": [],
   "source": [
    "#import pandas as pd\n",
    "#\n",
    "#X_train = pd.read_csv(\"./data/X_train.csv\")\n",
    "#y_train = pd.read_csv(\"./data/y_train.csv\")"
   ]
  },
  {
   "cell_type": "code",
   "execution_count": 12,
   "id": "63d08085",
   "metadata": {
    "execution": {
     "iopub.execute_input": "2025-07-28T10:54:22.872531Z",
     "iopub.status.busy": "2025-07-28T10:54:22.871599Z",
     "iopub.status.idle": "2025-07-28T10:54:22.877467Z",
     "shell.execute_reply": "2025-07-28T10:54:22.876498Z"
    },
    "papermill": {
     "duration": 0.030917,
     "end_time": "2025-07-28T10:54:22.879338",
     "exception": false,
     "start_time": "2025-07-28T10:54:22.848421",
     "status": "completed"
    },
    "tags": []
   },
   "outputs": [],
   "source": [
    "#X_test = pd.read_csv(\"./data/X_test.csv\")\n",
    "#y_true = pd.read_csv(\"./data/y_test.csv\")"
   ]
  },
  {
   "cell_type": "code",
   "execution_count": 13,
   "id": "98a8d0fa-1d3d-4ed8-bb2c-281470e24add",
   "metadata": {
    "execution": {
     "iopub.execute_input": "2025-07-28T10:54:22.926122Z",
     "iopub.status.busy": "2025-07-28T10:54:22.925439Z",
     "iopub.status.idle": "2025-07-28T10:54:22.931417Z",
     "shell.execute_reply": "2025-07-28T10:54:22.930451Z"
    },
    "papermill": {
     "duration": 0.031098,
     "end_time": "2025-07-28T10:54:22.933092",
     "exception": false,
     "start_time": "2025-07-28T10:54:22.901994",
     "status": "completed"
    },
    "tags": []
   },
   "outputs": [],
   "source": [
    "# Calibration data for conformal\n",
    "#X_calib = pd.read_csv(\"./data/X_calib.csv\")\n",
    "#y_calib = pd.read_csv(\"./data/y_calib.csv\")"
   ]
  },
  {
   "cell_type": "markdown",
   "id": "9901737e-04df-44f0-9100-f5ad144ed040",
   "metadata": {
    "papermill": {
     "duration": 0.020119,
     "end_time": "2025-07-28T10:54:22.972908",
     "exception": false,
     "start_time": "2025-07-28T10:54:22.952789",
     "status": "completed"
    },
    "tags": []
   },
   "source": [
    "# Splitting Data and Setting Training Data Size"
   ]
  },
  {
   "cell_type": "code",
   "execution_count": 14,
   "id": "acbc8f7d-8fc8-4e86-8c59-5dcb0f58384b",
   "metadata": {
    "execution": {
     "iopub.execute_input": "2025-07-28T10:54:23.014551Z",
     "iopub.status.busy": "2025-07-28T10:54:23.013495Z",
     "iopub.status.idle": "2025-07-28T10:54:23.022590Z",
     "shell.execute_reply": "2025-07-28T10:54:23.021483Z"
    },
    "papermill": {
     "duration": 0.032018,
     "end_time": "2025-07-28T10:54:23.024669",
     "exception": false,
     "start_time": "2025-07-28T10:54:22.992651",
     "status": "completed"
    },
    "tags": []
   },
   "outputs": [],
   "source": [
    "def sample_by_year(df, training_size, random_state=42):\n",
    "    if training_size == \"2014\":\n",
    "        return df[df[\"year\"] == 2014].reset_index(drop=True)\n",
    "    \n",
    "    size_map = {\n",
    "        \"25k\": 5000,\n",
    "        \"5k\": 1000,\n",
    "        \"1k\": 200\n",
    "    }\n",
    "\n",
    "    if training_size not in size_map:\n",
    "        return df.reset_index(drop=True)  # use all data\n",
    "\n",
    "    n_per_year = size_map[training_size]\n",
    "    grouped = df.groupby(\"year\")\n",
    "    sampled = grouped.apply(lambda x: x.sample(n=min(n_per_year, len(x)), random_state=random_state))\n",
    "    return sampled.reset_index(drop=True)"
   ]
  },
  {
   "cell_type": "code",
   "execution_count": 15,
   "id": "6d931f52-beaf-43ff-9e78-9d44a448d54e",
   "metadata": {
    "execution": {
     "iopub.execute_input": "2025-07-28T10:54:23.068278Z",
     "iopub.status.busy": "2025-07-28T10:54:23.067333Z",
     "iopub.status.idle": "2025-07-28T10:54:23.258422Z",
     "shell.execute_reply": "2025-07-28T10:54:23.257325Z"
    },
    "papermill": {
     "duration": 0.214634,
     "end_time": "2025-07-28T10:54:23.260492",
     "exception": false,
     "start_time": "2025-07-28T10:54:23.045858",
     "status": "completed"
    },
    "tags": []
   },
   "outputs": [],
   "source": [
    "siab_s = sample_by_year(siab, universe[\"training_size\"])"
   ]
  },
  {
   "cell_type": "code",
   "execution_count": 16,
   "id": "5db0a40e-a4e2-4920-be85-b12ae061d70d",
   "metadata": {
    "execution": {
     "iopub.execute_input": "2025-07-28T10:54:23.303394Z",
     "iopub.status.busy": "2025-07-28T10:54:23.302493Z",
     "iopub.status.idle": "2025-07-28T10:54:23.320759Z",
     "shell.execute_reply": "2025-07-28T10:54:23.319719Z"
    },
    "papermill": {
     "duration": 0.041342,
     "end_time": "2025-07-28T10:54:23.322406",
     "exception": false,
     "start_time": "2025-07-28T10:54:23.281064",
     "status": "completed"
    },
    "tags": []
   },
   "outputs": [
    {
     "data": {
      "text/plain": [
       "year\n",
       "2014    87158\n",
       "dtype: int64"
      ]
     },
     "metadata": {},
     "output_type": "display_data"
    }
   ],
   "source": [
    "display(siab_s.groupby(\"year\").size())"
   ]
  },
  {
   "cell_type": "code",
   "execution_count": 17,
   "id": "a561edb4-d032-42cb-8256-22eac1111c64",
   "metadata": {
    "execution": {
     "iopub.execute_input": "2025-07-28T10:54:23.368169Z",
     "iopub.status.busy": "2025-07-28T10:54:23.367282Z",
     "iopub.status.idle": "2025-07-28T10:54:23.686389Z",
     "shell.execute_reply": "2025-07-28T10:54:23.685332Z"
    },
    "papermill": {
     "duration": 0.342651,
     "end_time": "2025-07-28T10:54:23.688631",
     "exception": false,
     "start_time": "2025-07-28T10:54:23.345980",
     "status": "completed"
    },
    "tags": []
   },
   "outputs": [],
   "source": [
    "siab_train = siab_s[siab_s.year < 2015]\n",
    "siab_calib = siab[siab.year == 2015]\n",
    "siab_test = siab[siab.year == 2016]"
   ]
  },
  {
   "cell_type": "code",
   "execution_count": 18,
   "id": "472de16f-c3db-4916-846b-1f0de9cf1746",
   "metadata": {
    "execution": {
     "iopub.execute_input": "2025-07-28T10:54:23.740851Z",
     "iopub.status.busy": "2025-07-28T10:54:23.740440Z",
     "iopub.status.idle": "2025-07-28T10:54:23.794485Z",
     "shell.execute_reply": "2025-07-28T10:54:23.793327Z"
    },
    "papermill": {
     "duration": 0.083022,
     "end_time": "2025-07-28T10:54:23.796623",
     "exception": false,
     "start_time": "2025-07-28T10:54:23.713601",
     "status": "completed"
    },
    "tags": []
   },
   "outputs": [],
   "source": [
    "X_train = siab_train.iloc[:,4:164]\n",
    "y_train = siab_train.iloc[:, [3]]"
   ]
  },
  {
   "cell_type": "code",
   "execution_count": 19,
   "id": "828c96af-f43a-4ed6-ba47-8ac73a47d56c",
   "metadata": {
    "execution": {
     "iopub.execute_input": "2025-07-28T10:54:23.840566Z",
     "iopub.status.busy": "2025-07-28T10:54:23.839581Z",
     "iopub.status.idle": "2025-07-28T10:54:23.877752Z",
     "shell.execute_reply": "2025-07-28T10:54:23.876453Z"
    },
    "papermill": {
     "duration": 0.061759,
     "end_time": "2025-07-28T10:54:23.879852",
     "exception": false,
     "start_time": "2025-07-28T10:54:23.818093",
     "status": "completed"
    },
    "tags": []
   },
   "outputs": [],
   "source": [
    "X_calib = siab_calib.iloc[:,4:164]\n",
    "y_calib = siab_calib.iloc[:, [3]]"
   ]
  },
  {
   "cell_type": "code",
   "execution_count": 20,
   "id": "c34be9c3-6bd6-476e-acd3-845840e303be",
   "metadata": {
    "execution": {
     "iopub.execute_input": "2025-07-28T10:54:23.928180Z",
     "iopub.status.busy": "2025-07-28T10:54:23.927086Z",
     "iopub.status.idle": "2025-07-28T10:54:24.027200Z",
     "shell.execute_reply": "2025-07-28T10:54:24.026052Z"
    },
    "papermill": {
     "duration": 0.125311,
     "end_time": "2025-07-28T10:54:24.029456",
     "exception": false,
     "start_time": "2025-07-28T10:54:23.904145",
     "status": "completed"
    },
    "tags": []
   },
   "outputs": [],
   "source": [
    "X_test = siab_test.iloc[:,4:164]\n",
    "y_true = siab_test.iloc[:, [3]]"
   ]
  },
  {
   "cell_type": "code",
   "execution_count": 21,
   "id": "e6c733c5",
   "metadata": {
    "execution": {
     "iopub.execute_input": "2025-07-28T10:54:24.059890Z",
     "iopub.status.busy": "2025-07-28T10:54:24.059409Z",
     "iopub.status.idle": "2025-07-28T10:54:24.194593Z",
     "shell.execute_reply": "2025-07-28T10:54:24.193776Z"
    },
    "papermill": {
     "duration": 0.149174,
     "end_time": "2025-07-28T10:54:24.196256",
     "exception": false,
     "start_time": "2025-07-28T10:54:24.047082",
     "status": "completed"
    },
    "tags": []
   },
   "outputs": [],
   "source": [
    "# Auxiliary data needed downstream in the pipeline\n",
    "\n",
    "org_train = X_train.copy()\n",
    "org_test = X_test.copy()\n",
    "org_calib = X_calib.copy()"
   ]
  },
  {
   "cell_type": "markdown",
   "id": "0a4a1b33",
   "metadata": {
    "papermill": {
     "duration": 0.011419,
     "end_time": "2025-07-28T10:54:24.219338",
     "exception": false,
     "start_time": "2025-07-28T10:54:24.207919",
     "status": "completed"
    },
    "tags": []
   },
   "source": [
    "# Preprocessing Data"
   ]
  },
  {
   "cell_type": "code",
   "execution_count": 22,
   "id": "ca879031",
   "metadata": {
    "execution": {
     "iopub.execute_input": "2025-07-28T10:54:24.244267Z",
     "iopub.status.busy": "2025-07-28T10:54:24.243878Z",
     "iopub.status.idle": "2025-07-28T10:54:24.249211Z",
     "shell.execute_reply": "2025-07-28T10:54:24.248463Z"
    },
    "papermill": {
     "duration": 0.020102,
     "end_time": "2025-07-28T10:54:24.250902",
     "exception": false,
     "start_time": "2025-07-28T10:54:24.230800",
     "status": "completed"
    },
    "tags": []
   },
   "outputs": [],
   "source": [
    "# EXCLUDE PROTECTED FEATURES\n",
    "# ----------------------\n",
    "# \"exclude_features\": \"none\", # \"nationality\", \"sex\", \"nationality-sex\"\n",
    "\n",
    "excluded_features = universe[\"exclude_features\"].split(\"-\") # split, e.g.: \"nationality-sex\" -> [\"nationality\", \"sex\"]\n",
    "excluded_features_dictionary = {\n",
    "    \"nationality\": [\"maxdeutsch1\", \"maxdeutsch.Missing.\"],\n",
    "    \"sex\": [\"frau1\"],\n",
    "    \"age\": [\"age\"],\n",
    "}\n"
   ]
  },
  {
   "cell_type": "code",
   "execution_count": 23,
   "id": "b745ac60",
   "metadata": {
    "execution": {
     "iopub.execute_input": "2025-07-28T10:54:24.276298Z",
     "iopub.status.busy": "2025-07-28T10:54:24.275744Z",
     "iopub.status.idle": "2025-07-28T10:54:24.280760Z",
     "shell.execute_reply": "2025-07-28T10:54:24.279848Z"
    },
    "papermill": {
     "duration": 0.019293,
     "end_time": "2025-07-28T10:54:24.282204",
     "exception": false,
     "start_time": "2025-07-28T10:54:24.262911",
     "status": "completed"
    },
    "tags": []
   },
   "outputs": [],
   "source": [
    "# Code nice names to column names\n",
    "\n",
    "excluded_features_columns = [\n",
    "    excluded_features_dictionary[f] for f in excluded_features if len(f) > 0 and f != \"none\"\n",
    "]"
   ]
  },
  {
   "cell_type": "code",
   "execution_count": 24,
   "id": "f84f73a2",
   "metadata": {
    "execution": {
     "iopub.execute_input": "2025-07-28T10:54:24.308317Z",
     "iopub.status.busy": "2025-07-28T10:54:24.307312Z",
     "iopub.status.idle": "2025-07-28T10:54:24.314601Z",
     "shell.execute_reply": "2025-07-28T10:54:24.313798Z"
    },
    "papermill": {
     "duration": 0.021689,
     "end_time": "2025-07-28T10:54:24.316230",
     "exception": false,
     "start_time": "2025-07-28T10:54:24.294541",
     "status": "completed"
    },
    "tags": []
   },
   "outputs": [],
   "source": [
    "from utils import flatten_once\n",
    "\n",
    "excluded_features_columns = flatten_once(excluded_features_columns)"
   ]
  },
  {
   "cell_type": "code",
   "execution_count": 25,
   "id": "884dea22",
   "metadata": {
    "execution": {
     "iopub.execute_input": "2025-07-28T10:54:24.343221Z",
     "iopub.status.busy": "2025-07-28T10:54:24.342611Z",
     "iopub.status.idle": "2025-07-28T10:54:24.348220Z",
     "shell.execute_reply": "2025-07-28T10:54:24.347425Z"
    },
    "papermill": {
     "duration": 0.020809,
     "end_time": "2025-07-28T10:54:24.349715",
     "exception": false,
     "start_time": "2025-07-28T10:54:24.328906",
     "status": "completed"
    },
    "tags": []
   },
   "outputs": [],
   "source": [
    "if len(excluded_features_columns) > 0:\n",
    "    print(f\"Dropping features: {excluded_features_columns}\")\n",
    "    X_train.drop(excluded_features_columns, axis=1, inplace=True)"
   ]
  },
  {
   "cell_type": "code",
   "execution_count": 26,
   "id": "95ab8b16",
   "metadata": {
    "execution": {
     "iopub.execute_input": "2025-07-28T10:54:24.375167Z",
     "iopub.status.busy": "2025-07-28T10:54:24.374613Z",
     "iopub.status.idle": "2025-07-28T10:54:24.379884Z",
     "shell.execute_reply": "2025-07-28T10:54:24.379110Z"
    },
    "papermill": {
     "duration": 0.019461,
     "end_time": "2025-07-28T10:54:24.381291",
     "exception": false,
     "start_time": "2025-07-28T10:54:24.361830",
     "status": "completed"
    },
    "tags": []
   },
   "outputs": [],
   "source": [
    "if len(excluded_features_columns) > 0:\n",
    "    print(f\"Dropping features: {excluded_features_columns}\")\n",
    "    X_test.drop(excluded_features_columns, axis=1, inplace=True)"
   ]
  },
  {
   "cell_type": "code",
   "execution_count": 27,
   "id": "1853aaf5-fb9f-46cb-a2b5-8ea4ae2237e4",
   "metadata": {
    "execution": {
     "iopub.execute_input": "2025-07-28T10:54:24.406509Z",
     "iopub.status.busy": "2025-07-28T10:54:24.405995Z",
     "iopub.status.idle": "2025-07-28T10:54:24.411165Z",
     "shell.execute_reply": "2025-07-28T10:54:24.410420Z"
    },
    "papermill": {
     "duration": 0.019345,
     "end_time": "2025-07-28T10:54:24.412656",
     "exception": false,
     "start_time": "2025-07-28T10:54:24.393311",
     "status": "completed"
    },
    "tags": []
   },
   "outputs": [],
   "source": [
    "if len(excluded_features_columns) > 0:\n",
    "    print(f\"Dropping features: {excluded_features_columns}\")\n",
    "    X_calib.drop(excluded_features_columns, axis=1, inplace=True)"
   ]
  },
  {
   "cell_type": "code",
   "execution_count": 28,
   "id": "6727d079-03e5-481e-9d38-292a90b7a0a8",
   "metadata": {
    "execution": {
     "iopub.execute_input": "2025-07-28T10:54:24.437734Z",
     "iopub.status.busy": "2025-07-28T10:54:24.437230Z",
     "iopub.status.idle": "2025-07-28T10:54:24.441735Z",
     "shell.execute_reply": "2025-07-28T10:54:24.441068Z"
    },
    "papermill": {
     "duration": 0.018177,
     "end_time": "2025-07-28T10:54:24.443069",
     "exception": false,
     "start_time": "2025-07-28T10:54:24.424892",
     "status": "completed"
    },
    "tags": []
   },
   "outputs": [],
   "source": [
    "# SPLIT & STRATIFY DATA\n",
    "# ----------------------"
   ]
  },
  {
   "cell_type": "code",
   "execution_count": 29,
   "id": "76c4dc6d",
   "metadata": {
    "execution": {
     "iopub.execute_input": "2025-07-28T10:54:24.468631Z",
     "iopub.status.busy": "2025-07-28T10:54:24.467945Z",
     "iopub.status.idle": "2025-07-28T10:54:24.473266Z",
     "shell.execute_reply": "2025-07-28T10:54:24.472449Z"
    },
    "papermill": {
     "duration": 0.0195,
     "end_time": "2025-07-28T10:54:24.474707",
     "exception": false,
     "start_time": "2025-07-28T10:54:24.455207",
     "status": "completed"
    },
    "tags": []
   },
   "outputs": [],
   "source": [
    "# EXCLUDE CERTAIN SUBGROUPS\n",
    "# ----------------------\n",
    "\n",
    "mode = universe.get(\"exclude_subgroups\", \"keep-all\") \n",
    "# Fetches the exclude_subgroups setting from the universe dict.\n",
    "# Defaults to \"keep-all\" if the key is missing."
   ]
  },
  {
   "cell_type": "code",
   "execution_count": 30,
   "id": "21994072",
   "metadata": {
    "execution": {
     "iopub.execute_input": "2025-07-28T10:54:24.500540Z",
     "iopub.status.busy": "2025-07-28T10:54:24.499981Z",
     "iopub.status.idle": "2025-07-28T10:54:24.505756Z",
     "shell.execute_reply": "2025-07-28T10:54:24.505017Z"
    },
    "papermill": {
     "duration": 0.019922,
     "end_time": "2025-07-28T10:54:24.507236",
     "exception": false,
     "start_time": "2025-07-28T10:54:24.487314",
     "status": "completed"
    },
    "tags": []
   },
   "outputs": [],
   "source": [
    "if mode == \"keep-all\":\n",
    "    keep_mask = pd.Series(True, index=org_train.index)\n",
    "\n",
    "# org_train contains the original feature columns from features_org (in Simson)\n",
    "# features_org contains unprocessed features, for me X_train at beginning ???\n",
    "# For keep-all, creates a boolean Series (keep_mask) of all True, so no rows are removed.\n",
    "\n",
    "elif mode == \"drop-non-german\":\n",
    "    keep_mask = org_train[\"maxdeutsch1\"] == 1 # ??? what about missing values?\n",
    "\n",
    "else:\n",
    "    raise ValueError(f\"Unsupported mode for exclude_subgroups: {mode}\")\n"
   ]
  },
  {
   "cell_type": "code",
   "execution_count": 31,
   "id": "71651440",
   "metadata": {
    "execution": {
     "iopub.execute_input": "2025-07-28T10:54:24.532804Z",
     "iopub.status.busy": "2025-07-28T10:54:24.532260Z",
     "iopub.status.idle": "2025-07-28T10:54:24.538547Z",
     "shell.execute_reply": "2025-07-28T10:54:24.537716Z"
    },
    "papermill": {
     "duration": 0.020591,
     "end_time": "2025-07-28T10:54:24.539953",
     "exception": false,
     "start_time": "2025-07-28T10:54:24.519362",
     "status": "completed"
    },
    "tags": []
   },
   "outputs": [],
   "source": [
    "n_drop = (~keep_mask).sum() # Calculates how many rows are set to be dropped\n",
    "if n_drop > 0:\n",
    "    pct = n_drop / len(keep_mask) * 100\n",
    "    print(f\"Dropping {n_drop} rows ({pct:.2f}%) where mode='{mode}'\")"
   ]
  },
  {
   "cell_type": "code",
   "execution_count": 32,
   "id": "5fb8eee5",
   "metadata": {
    "execution": {
     "iopub.execute_input": "2025-07-28T10:54:24.566102Z",
     "iopub.status.busy": "2025-07-28T10:54:24.565588Z",
     "iopub.status.idle": "2025-07-28T10:54:24.622468Z",
     "shell.execute_reply": "2025-07-28T10:54:24.621664Z"
    },
    "papermill": {
     "duration": 0.071508,
     "end_time": "2025-07-28T10:54:24.624085",
     "exception": false,
     "start_time": "2025-07-28T10:54:24.552577",
     "status": "completed"
    },
    "tags": []
   },
   "outputs": [],
   "source": [
    "X_train = X_train[keep_mask]"
   ]
  },
  {
   "cell_type": "code",
   "execution_count": 33,
   "id": "b202bb3a",
   "metadata": {
    "execution": {
     "iopub.execute_input": "2025-07-28T10:54:24.649891Z",
     "iopub.status.busy": "2025-07-28T10:54:24.649369Z",
     "iopub.status.idle": "2025-07-28T10:54:24.656682Z",
     "shell.execute_reply": "2025-07-28T10:54:24.655837Z"
    },
    "papermill": {
     "duration": 0.021983,
     "end_time": "2025-07-28T10:54:24.658229",
     "exception": false,
     "start_time": "2025-07-28T10:54:24.636246",
     "status": "completed"
    },
    "tags": []
   },
   "outputs": [],
   "source": [
    "y_train = y_train[keep_mask]"
   ]
  },
  {
   "cell_type": "markdown",
   "id": "493e2ac3",
   "metadata": {
    "papermill": {
     "duration": 0.011488,
     "end_time": "2025-07-28T10:54:24.682198",
     "exception": false,
     "start_time": "2025-07-28T10:54:24.670710",
     "status": "completed"
    },
    "tags": []
   },
   "source": [
    "# Model Training"
   ]
  },
  {
   "cell_type": "code",
   "execution_count": 34,
   "id": "679e1268",
   "metadata": {
    "execution": {
     "iopub.execute_input": "2025-07-28T10:54:24.707593Z",
     "iopub.status.busy": "2025-07-28T10:54:24.707025Z",
     "iopub.status.idle": "2025-07-28T10:54:24.787293Z",
     "shell.execute_reply": "2025-07-28T10:54:24.786538Z"
    },
    "papermill": {
     "duration": 0.094858,
     "end_time": "2025-07-28T10:54:24.788943",
     "exception": false,
     "start_time": "2025-07-28T10:54:24.694085",
     "status": "completed"
    },
    "tags": []
   },
   "outputs": [],
   "source": [
    "from sklearn.linear_model import LogisticRegression\n",
    "from sklearn.ensemble import GradientBoostingClassifier, RandomForestClassifier\n",
    "\n",
    "if (universe[\"model\"] == \"logreg\"):\n",
    "    model = LogisticRegression() #penalty=\"none\") #, solver=\"newton-cg\", max_iter=1) # include random_state=19 ?\n",
    "elif (universe[\"model\"] == \"penalized_logreg\"):\n",
    "    model = LogisticRegression(penalty=\"l2\", C=1.0) #, solver=\"newton-cg\", max_iter=1)\n",
    "elif (universe[\"model\"] == \"rf\"):\n",
    "    model = RandomForestClassifier(n_estimators=100, n_jobs=-1)\n",
    "elif (universe[\"model\"] == \"gbm\"):\n",
    "    model = GradientBoostingClassifier()\n",
    "elif (universe[\"model\"] == \"elasticnet\"):\n",
    "    model = LogisticRegression(penalty = 'elasticnet', solver = 'saga', l1_ratio = 0.5, max_iter=5000) # which solver to use?\n",
    "else:\n",
    "    raise \"Unsupported universe.model\""
   ]
  },
  {
   "cell_type": "code",
   "execution_count": 35,
   "id": "0cc8f744",
   "metadata": {
    "execution": {
     "iopub.execute_input": "2025-07-28T10:54:24.814556Z",
     "iopub.status.busy": "2025-07-28T10:54:24.814034Z",
     "iopub.status.idle": "2025-07-28T10:54:24.819365Z",
     "shell.execute_reply": "2025-07-28T10:54:24.818458Z"
    },
    "papermill": {
     "duration": 0.019881,
     "end_time": "2025-07-28T10:54:24.820931",
     "exception": false,
     "start_time": "2025-07-28T10:54:24.801050",
     "status": "completed"
    },
    "tags": []
   },
   "outputs": [],
   "source": [
    "import numpy as np\n",
    "from sklearn.pipeline import Pipeline\n",
    "from sklearn.preprocessing import StandardScaler\n",
    "\n",
    "model = Pipeline([\n",
    "    #(\"continuous_processor\", continuous_processor),\n",
    "    #(\"categorical_preprocessor\", categorical_preprocessor),\n",
    "    (\"scale\", StandardScaler() if universe[\"scale\"] == \"scale\" else None), \n",
    "    (\"model\", model),\n",
    "])"
   ]
  },
  {
   "cell_type": "code",
   "execution_count": 36,
   "id": "9442c04d",
   "metadata": {
    "execution": {
     "iopub.execute_input": "2025-07-28T10:54:24.847034Z",
     "iopub.status.busy": "2025-07-28T10:54:24.846512Z",
     "iopub.status.idle": "2025-07-28T10:54:28.902745Z",
     "shell.execute_reply": "2025-07-28T10:54:28.901716Z"
    },
    "papermill": {
     "duration": 4.071321,
     "end_time": "2025-07-28T10:54:28.904658",
     "exception": false,
     "start_time": "2025-07-28T10:54:24.833337",
     "status": "completed"
    },
    "tags": []
   },
   "outputs": [
    {
     "name": "stderr",
     "output_type": "stream",
     "text": [
      "/dss/dsshome1/0C/ra93lal2/.local/share/virtualenvs/CMA_Fairness_v2-3j10GkSs/lib/python3.10/site-packages/sklearn/linear_model/_logistic.py:444: ConvergenceWarning: lbfgs failed to converge (status=1):\n",
      "STOP: TOTAL NO. of ITERATIONS REACHED LIMIT.\n",
      "\n",
      "Increase the number of iterations (max_iter) or scale the data as shown in:\n",
      "    https://scikit-learn.org/stable/modules/preprocessing.html\n",
      "Please also refer to the documentation for alternative solver options:\n",
      "    https://scikit-learn.org/stable/modules/linear_model.html#logistic-regression\n",
      "  n_iter_i = _check_optimize_result(\n"
     ]
    },
    {
     "data": {
      "text/html": [
       "<style>#sk-container-id-1 {color: black;background-color: white;}#sk-container-id-1 pre{padding: 0;}#sk-container-id-1 div.sk-toggleable {background-color: white;}#sk-container-id-1 label.sk-toggleable__label {cursor: pointer;display: block;width: 100%;margin-bottom: 0;padding: 0.3em;box-sizing: border-box;text-align: center;}#sk-container-id-1 label.sk-toggleable__label-arrow:before {content: \"▸\";float: left;margin-right: 0.25em;color: #696969;}#sk-container-id-1 label.sk-toggleable__label-arrow:hover:before {color: black;}#sk-container-id-1 div.sk-estimator:hover label.sk-toggleable__label-arrow:before {color: black;}#sk-container-id-1 div.sk-toggleable__content {max-height: 0;max-width: 0;overflow: hidden;text-align: left;background-color: #f0f8ff;}#sk-container-id-1 div.sk-toggleable__content pre {margin: 0.2em;color: black;border-radius: 0.25em;background-color: #f0f8ff;}#sk-container-id-1 input.sk-toggleable__control:checked~div.sk-toggleable__content {max-height: 200px;max-width: 100%;overflow: auto;}#sk-container-id-1 input.sk-toggleable__control:checked~label.sk-toggleable__label-arrow:before {content: \"▾\";}#sk-container-id-1 div.sk-estimator input.sk-toggleable__control:checked~label.sk-toggleable__label {background-color: #d4ebff;}#sk-container-id-1 div.sk-label input.sk-toggleable__control:checked~label.sk-toggleable__label {background-color: #d4ebff;}#sk-container-id-1 input.sk-hidden--visually {border: 0;clip: rect(1px 1px 1px 1px);clip: rect(1px, 1px, 1px, 1px);height: 1px;margin: -1px;overflow: hidden;padding: 0;position: absolute;width: 1px;}#sk-container-id-1 div.sk-estimator {font-family: monospace;background-color: #f0f8ff;border: 1px dotted black;border-radius: 0.25em;box-sizing: border-box;margin-bottom: 0.5em;}#sk-container-id-1 div.sk-estimator:hover {background-color: #d4ebff;}#sk-container-id-1 div.sk-parallel-item::after {content: \"\";width: 100%;border-bottom: 1px solid gray;flex-grow: 1;}#sk-container-id-1 div.sk-label:hover label.sk-toggleable__label {background-color: #d4ebff;}#sk-container-id-1 div.sk-serial::before {content: \"\";position: absolute;border-left: 1px solid gray;box-sizing: border-box;top: 0;bottom: 0;left: 50%;z-index: 0;}#sk-container-id-1 div.sk-serial {display: flex;flex-direction: column;align-items: center;background-color: white;padding-right: 0.2em;padding-left: 0.2em;position: relative;}#sk-container-id-1 div.sk-item {position: relative;z-index: 1;}#sk-container-id-1 div.sk-parallel {display: flex;align-items: stretch;justify-content: center;background-color: white;position: relative;}#sk-container-id-1 div.sk-item::before, #sk-container-id-1 div.sk-parallel-item::before {content: \"\";position: absolute;border-left: 1px solid gray;box-sizing: border-box;top: 0;bottom: 0;left: 50%;z-index: -1;}#sk-container-id-1 div.sk-parallel-item {display: flex;flex-direction: column;z-index: 1;position: relative;background-color: white;}#sk-container-id-1 div.sk-parallel-item:first-child::after {align-self: flex-end;width: 50%;}#sk-container-id-1 div.sk-parallel-item:last-child::after {align-self: flex-start;width: 50%;}#sk-container-id-1 div.sk-parallel-item:only-child::after {width: 0;}#sk-container-id-1 div.sk-dashed-wrapped {border: 1px dashed gray;margin: 0 0.4em 0.5em 0.4em;box-sizing: border-box;padding-bottom: 0.4em;background-color: white;}#sk-container-id-1 div.sk-label label {font-family: monospace;font-weight: bold;display: inline-block;line-height: 1.2em;}#sk-container-id-1 div.sk-label-container {text-align: center;}#sk-container-id-1 div.sk-container {/* jupyter's `normalize.less` sets `[hidden] { display: none; }` but bootstrap.min.css set `[hidden] { display: none !important; }` so we also need the `!important` here to be able to override the default hidden behavior on the sphinx rendered scikit-learn.org. See: https://github.com/scikit-learn/scikit-learn/issues/21755 */display: inline-block !important;position: relative;}#sk-container-id-1 div.sk-text-repr-fallback {display: none;}</style><div id=\"sk-container-id-1\" class=\"sk-top-container\"><div class=\"sk-text-repr-fallback\"><pre>Pipeline(steps=[(&#x27;scale&#x27;, StandardScaler()), (&#x27;model&#x27;, LogisticRegression())])</pre><b>In a Jupyter environment, please rerun this cell to show the HTML representation or trust the notebook. <br />On GitHub, the HTML representation is unable to render, please try loading this page with nbviewer.org.</b></div><div class=\"sk-container\" hidden><div class=\"sk-item sk-dashed-wrapped\"><div class=\"sk-label-container\"><div class=\"sk-label sk-toggleable\"><input class=\"sk-toggleable__control sk-hidden--visually\" id=\"sk-estimator-id-1\" type=\"checkbox\" ><label for=\"sk-estimator-id-1\" class=\"sk-toggleable__label sk-toggleable__label-arrow\">Pipeline</label><div class=\"sk-toggleable__content\"><pre>Pipeline(steps=[(&#x27;scale&#x27;, StandardScaler()), (&#x27;model&#x27;, LogisticRegression())])</pre></div></div></div><div class=\"sk-serial\"><div class=\"sk-item\"><div class=\"sk-estimator sk-toggleable\"><input class=\"sk-toggleable__control sk-hidden--visually\" id=\"sk-estimator-id-2\" type=\"checkbox\" ><label for=\"sk-estimator-id-2\" class=\"sk-toggleable__label sk-toggleable__label-arrow\">StandardScaler</label><div class=\"sk-toggleable__content\"><pre>StandardScaler()</pre></div></div></div><div class=\"sk-item\"><div class=\"sk-estimator sk-toggleable\"><input class=\"sk-toggleable__control sk-hidden--visually\" id=\"sk-estimator-id-3\" type=\"checkbox\" ><label for=\"sk-estimator-id-3\" class=\"sk-toggleable__label sk-toggleable__label-arrow\">LogisticRegression</label><div class=\"sk-toggleable__content\"><pre>LogisticRegression()</pre></div></div></div></div></div></div></div>"
      ],
      "text/plain": [
       "Pipeline(steps=[('scale', StandardScaler()), ('model', LogisticRegression())])"
      ]
     },
     "execution_count": 36,
     "metadata": {},
     "output_type": "execute_result"
    }
   ],
   "source": [
    "model.fit(X_train, y_train.values.ravel())"
   ]
  },
  {
   "cell_type": "code",
   "execution_count": 37,
   "id": "af59f8c0",
   "metadata": {
    "execution": {
     "iopub.execute_input": "2025-07-28T10:54:28.984878Z",
     "iopub.status.busy": "2025-07-28T10:54:28.984311Z",
     "iopub.status.idle": "2025-07-28T10:54:28.990225Z",
     "shell.execute_reply": "2025-07-28T10:54:28.988902Z"
    },
    "papermill": {
     "duration": 0.055707,
     "end_time": "2025-07-28T10:54:28.992230",
     "exception": false,
     "start_time": "2025-07-28T10:54:28.936523",
     "status": "completed"
    },
    "tags": []
   },
   "outputs": [],
   "source": [
    "from fairness_multiverse.universe import predict_w_threshold"
   ]
  },
  {
   "cell_type": "code",
   "execution_count": 38,
   "id": "a7cf2e16",
   "metadata": {
    "execution": {
     "iopub.execute_input": "2025-07-28T10:54:29.050981Z",
     "iopub.status.busy": "2025-07-28T10:54:29.050195Z",
     "iopub.status.idle": "2025-07-28T10:54:29.253345Z",
     "shell.execute_reply": "2025-07-28T10:54:29.252366Z"
    },
    "papermill": {
     "duration": 0.234713,
     "end_time": "2025-07-28T10:54:29.255308",
     "exception": false,
     "start_time": "2025-07-28T10:54:29.020595",
     "status": "completed"
    },
    "tags": []
   },
   "outputs": [
    {
     "data": {
      "text/plain": [
       "0.8667818526362724"
      ]
     },
     "execution_count": 38,
     "metadata": {},
     "output_type": "execute_result"
    }
   ],
   "source": [
    "probs_test = model.predict_proba(X_test)\n",
    "\n",
    "'''\n",
    "Below code returns a boolean array (or binary 0/1 array depending on how it’s used) where each element \n",
    "is True if the probability of class 1 is greater than or equal to the threshold, and False otherwise.\n",
    "'''\n",
    "y_pred_default = predict_w_threshold(probs_test, 0.5)\n",
    "\n",
    "from sklearn.metrics import accuracy_score\n",
    "\n",
    "# Naive prediction\n",
    "accuracy_score(y_true = y_true, y_pred = y_pred_default)"
   ]
  },
  {
   "cell_type": "code",
   "execution_count": 39,
   "id": "081964c3",
   "metadata": {
    "execution": {
     "iopub.execute_input": "2025-07-28T10:54:29.315121Z",
     "iopub.status.busy": "2025-07-28T10:54:29.314562Z",
     "iopub.status.idle": "2025-07-28T10:54:29.507099Z",
     "shell.execute_reply": "2025-07-28T10:54:29.505900Z"
    },
    "papermill": {
     "duration": 0.22653,
     "end_time": "2025-07-28T10:54:29.510295",
     "exception": false,
     "start_time": "2025-07-28T10:54:29.283765",
     "status": "completed"
    },
    "tags": []
   },
   "outputs": [
    {
     "data": {
      "text/plain": [
       "array([0, 0, 0, ..., 0, 0, 0])"
      ]
     },
     "execution_count": 39,
     "metadata": {},
     "output_type": "execute_result"
    }
   ],
   "source": [
    "model.predict(X_test)"
   ]
  },
  {
   "cell_type": "markdown",
   "id": "56c9705b",
   "metadata": {
    "papermill": {
     "duration": 0.033558,
     "end_time": "2025-07-28T10:54:29.577402",
     "exception": false,
     "start_time": "2025-07-28T10:54:29.543844",
     "status": "completed"
    },
    "tags": []
   },
   "source": [
    "# Conformal Prediction"
   ]
  },
  {
   "cell_type": "code",
   "execution_count": 40,
   "id": "160ec6ff",
   "metadata": {
    "execution": {
     "iopub.execute_input": "2025-07-28T10:54:29.646226Z",
     "iopub.status.busy": "2025-07-28T10:54:29.645662Z",
     "iopub.status.idle": "2025-07-28T10:54:29.651374Z",
     "shell.execute_reply": "2025-07-28T10:54:29.650139Z"
    },
    "papermill": {
     "duration": 0.04283,
     "end_time": "2025-07-28T10:54:29.654073",
     "exception": false,
     "start_time": "2025-07-28T10:54:29.611243",
     "status": "completed"
    },
    "tags": []
   },
   "outputs": [],
   "source": [
    "# Miscoverage level for conformal prediction (10% allowed error rate => 90% target coverage)\n",
    "alpha = 0.1"
   ]
  },
  {
   "cell_type": "code",
   "execution_count": 41,
   "id": "eadf4555-3dd3-440e-8e35-f82a4ad9f855",
   "metadata": {
    "execution": {
     "iopub.execute_input": "2025-07-28T10:54:29.722863Z",
     "iopub.status.busy": "2025-07-28T10:54:29.722307Z",
     "iopub.status.idle": "2025-07-28T10:54:29.931850Z",
     "shell.execute_reply": "2025-07-28T10:54:29.930791Z"
    },
    "papermill": {
     "duration": 0.247132,
     "end_time": "2025-07-28T10:54:29.934517",
     "exception": false,
     "start_time": "2025-07-28T10:54:29.687385",
     "status": "completed"
    },
    "tags": []
   },
   "outputs": [],
   "source": [
    "probs_calib = model.predict_proba(X_calib)"
   ]
  },
  {
   "cell_type": "code",
   "execution_count": 42,
   "id": "2ed93547-6d5d-4983-9b36-1ecb300da49a",
   "metadata": {
    "execution": {
     "iopub.execute_input": "2025-07-28T10:54:30.004907Z",
     "iopub.status.busy": "2025-07-28T10:54:30.004257Z",
     "iopub.status.idle": "2025-07-28T10:54:30.010766Z",
     "shell.execute_reply": "2025-07-28T10:54:30.009704Z"
    },
    "papermill": {
     "duration": 0.043665,
     "end_time": "2025-07-28T10:54:30.012599",
     "exception": false,
     "start_time": "2025-07-28T10:54:29.968934",
     "status": "completed"
    },
    "tags": []
   },
   "outputs": [],
   "source": [
    "y_calib = y_calib.values.ravel().astype(int)"
   ]
  },
  {
   "cell_type": "code",
   "execution_count": 43,
   "id": "65d1320d-f588-4b38-9072-62af1ae97f7d",
   "metadata": {
    "execution": {
     "iopub.execute_input": "2025-07-28T10:54:30.053115Z",
     "iopub.status.busy": "2025-07-28T10:54:30.052418Z",
     "iopub.status.idle": "2025-07-28T10:54:30.060835Z",
     "shell.execute_reply": "2025-07-28T10:54:30.059816Z"
    },
    "papermill": {
     "duration": 0.034888,
     "end_time": "2025-07-28T10:54:30.062772",
     "exception": false,
     "start_time": "2025-07-28T10:54:30.027884",
     "status": "completed"
    },
    "tags": []
   },
   "outputs": [],
   "source": [
    "from fairness_multiverse.conformal import compute_nc_scores\n",
    "\n",
    "# Compute nonconformity scores on calibration set (1 - probability of true class)\n",
    "nc_scores = compute_nc_scores(probs_calib, y_calib)"
   ]
  },
  {
   "cell_type": "code",
   "execution_count": 44,
   "id": "df3b8ca3-53b7-43d5-9667-7c85da7aeda2",
   "metadata": {
    "execution": {
     "iopub.execute_input": "2025-07-28T10:54:30.111236Z",
     "iopub.status.busy": "2025-07-28T10:54:30.110427Z",
     "iopub.status.idle": "2025-07-28T10:54:30.118408Z",
     "shell.execute_reply": "2025-07-28T10:54:30.117430Z"
    },
    "papermill": {
     "duration": 0.034696,
     "end_time": "2025-07-28T10:54:30.120287",
     "exception": false,
     "start_time": "2025-07-28T10:54:30.085591",
     "status": "completed"
    },
    "tags": []
   },
   "outputs": [],
   "source": [
    "from fairness_multiverse.conformal import find_threshold\n",
    "\n",
    "# Find conformal threshold q_hat for the given alpha (split conformal method)\n",
    "q_hat = find_threshold(nc_scores, alpha)"
   ]
  },
  {
   "cell_type": "code",
   "execution_count": 45,
   "id": "4d29e6c1-0ef6-4aa4-b8fe-4fe79b0d033a",
   "metadata": {
    "execution": {
     "iopub.execute_input": "2025-07-28T10:54:30.172023Z",
     "iopub.status.busy": "2025-07-28T10:54:30.171397Z",
     "iopub.status.idle": "2025-07-28T10:54:30.179519Z",
     "shell.execute_reply": "2025-07-28T10:54:30.178559Z"
    },
    "papermill": {
     "duration": 0.0349,
     "end_time": "2025-07-28T10:54:30.181279",
     "exception": false,
     "start_time": "2025-07-28T10:54:30.146379",
     "status": "completed"
    },
    "tags": []
   },
   "outputs": [
    {
     "data": {
      "text/plain": [
       "0.6725461765555591"
      ]
     },
     "execution_count": 45,
     "metadata": {},
     "output_type": "execute_result"
    }
   ],
   "source": [
    "q_hat"
   ]
  },
  {
   "cell_type": "code",
   "execution_count": 46,
   "id": "92460794-cdac-4be2-ba28-f28c0515a6fb",
   "metadata": {
    "execution": {
     "iopub.execute_input": "2025-07-28T10:54:30.231458Z",
     "iopub.status.busy": "2025-07-28T10:54:30.230490Z",
     "iopub.status.idle": "2025-07-28T10:54:31.064712Z",
     "shell.execute_reply": "2025-07-28T10:54:31.063904Z"
    },
    "papermill": {
     "duration": 0.862732,
     "end_time": "2025-07-28T10:54:31.067104",
     "exception": false,
     "start_time": "2025-07-28T10:54:30.204372",
     "status": "completed"
    },
    "tags": []
   },
   "outputs": [],
   "source": [
    "from fairness_multiverse.conformal import predict_conformal_sets\n",
    "\n",
    "# Generate prediction sets for each test example\n",
    "pred_sets = predict_conformal_sets(model, X_test, q_hat)"
   ]
  },
  {
   "cell_type": "code",
   "execution_count": 47,
   "id": "d90c9a65-e6db-4f5d-80cd-e68fb7e46829",
   "metadata": {
    "execution": {
     "iopub.execute_input": "2025-07-28T10:54:31.149654Z",
     "iopub.status.busy": "2025-07-28T10:54:31.149085Z",
     "iopub.status.idle": "2025-07-28T10:54:31.155907Z",
     "shell.execute_reply": "2025-07-28T10:54:31.154627Z"
    },
    "papermill": {
     "duration": 0.042182,
     "end_time": "2025-07-28T10:54:31.158087",
     "exception": false,
     "start_time": "2025-07-28T10:54:31.115905",
     "status": "completed"
    },
    "tags": []
   },
   "outputs": [],
   "source": [
    "y_true = y_true.squeeze()"
   ]
  },
  {
   "cell_type": "code",
   "execution_count": 48,
   "id": "3a58a54a-1e68-46b9-927a-df01f18aebc8",
   "metadata": {
    "execution": {
     "iopub.execute_input": "2025-07-28T10:54:31.190769Z",
     "iopub.status.busy": "2025-07-28T10:54:31.190385Z",
     "iopub.status.idle": "2025-07-28T10:54:32.014651Z",
     "shell.execute_reply": "2025-07-28T10:54:32.013513Z"
    },
    "papermill": {
     "duration": 0.840558,
     "end_time": "2025-07-28T10:54:32.016719",
     "exception": false,
     "start_time": "2025-07-28T10:54:31.176161",
     "status": "completed"
    },
    "tags": []
   },
   "outputs": [],
   "source": [
    "from fairness_multiverse.conformal import evaluate_sets\n",
    "\n",
    "# Evaluate coverage and average set size on test data\n",
    "metrics = evaluate_sets(pred_sets, y_true)"
   ]
  },
  {
   "cell_type": "markdown",
   "id": "2b569c12-9aaa-4c88-98c9-bbcd0cf3ebb8",
   "metadata": {
    "papermill": {
     "duration": 0.012436,
     "end_time": "2025-07-28T10:54:32.048785",
     "exception": false,
     "start_time": "2025-07-28T10:54:32.036349",
     "status": "completed"
    },
    "tags": []
   },
   "source": [
    "# CP Metrics"
   ]
  },
  {
   "cell_type": "code",
   "execution_count": 49,
   "id": "5ce0a5cb-201f-45a0-ade5-94c7f0bd6095",
   "metadata": {
    "execution": {
     "iopub.execute_input": "2025-07-28T10:54:32.081663Z",
     "iopub.status.busy": "2025-07-28T10:54:32.081200Z",
     "iopub.status.idle": "2025-07-28T10:54:32.088154Z",
     "shell.execute_reply": "2025-07-28T10:54:32.087234Z"
    },
    "papermill": {
     "duration": 0.028794,
     "end_time": "2025-07-28T10:54:32.089638",
     "exception": false,
     "start_time": "2025-07-28T10:54:32.060844",
     "status": "completed"
    },
    "tags": []
   },
   "outputs": [
    {
     "data": {
      "text/plain": [
       "{'coverage': 0.9124846728346896, 'avg_size': 1.1206108572065545}"
      ]
     },
     "execution_count": 49,
     "metadata": {},
     "output_type": "execute_result"
    }
   ],
   "source": [
    "metrics"
   ]
  },
  {
   "cell_type": "code",
   "execution_count": 50,
   "id": "9b9a838d-31c9-430b-ae14-12baee460d17",
   "metadata": {
    "execution": {
     "iopub.execute_input": "2025-07-28T10:54:32.137382Z",
     "iopub.status.busy": "2025-07-28T10:54:32.136699Z",
     "iopub.status.idle": "2025-07-28T10:54:32.143971Z",
     "shell.execute_reply": "2025-07-28T10:54:32.141997Z"
    },
    "papermill": {
     "duration": 0.032808,
     "end_time": "2025-07-28T10:54:32.145712",
     "exception": false,
     "start_time": "2025-07-28T10:54:32.112904",
     "status": "completed"
    },
    "tags": []
   },
   "outputs": [],
   "source": [
    "example_universe = universe.copy()\n",
    "universe_training_size = example_universe.get(\"training_size\")\n",
    "universe_scale = example_universe.get(\"scale\")\n",
    "universe_model = example_universe.get(\"model\")\n",
    "universe_exclude_features = example_universe.get(\"exclude_features\")\n",
    "universe_exclude_subgroups = example_universe.get(\"exclude_subgroups\")"
   ]
  },
  {
   "cell_type": "code",
   "execution_count": 51,
   "id": "f4b6a8ac-9dc0-4245-8a91-5b3b5999c4f9",
   "metadata": {
    "execution": {
     "iopub.execute_input": "2025-07-28T10:54:32.194538Z",
     "iopub.status.busy": "2025-07-28T10:54:32.193621Z",
     "iopub.status.idle": "2025-07-28T10:54:32.201181Z",
     "shell.execute_reply": "2025-07-28T10:54:32.199468Z"
    },
    "papermill": {
     "duration": 0.033271,
     "end_time": "2025-07-28T10:54:32.203168",
     "exception": false,
     "start_time": "2025-07-28T10:54:32.169897",
     "status": "completed"
    },
    "tags": []
   },
   "outputs": [],
   "source": [
    "cp_metrics_dict = {\n",
    "    \"universe_id\": [universe_id],\n",
    "    \"universe_training_size\": [universe_training_size],\n",
    "    \"universe_scale\": [universe_scale],\n",
    "    \"universe_model\": [universe_model],\n",
    "    \"universe_exclude_features\": [universe_exclude_features],\n",
    "    \"universe_exclude_subgroups\": [universe_exclude_subgroups],\n",
    "    \"q_hat\": [q_hat],\n",
    "    \"coverage\": [metrics[\"coverage\"]],\n",
    "    \"avg_size\": [metrics[\"avg_size\"]],\n",
    "}"
   ]
  },
  {
   "cell_type": "code",
   "execution_count": 52,
   "id": "908acbb1-0371-4915-85ca-3fa520d2efe2",
   "metadata": {
    "execution": {
     "iopub.execute_input": "2025-07-28T10:54:32.251509Z",
     "iopub.status.busy": "2025-07-28T10:54:32.251076Z",
     "iopub.status.idle": "2025-07-28T10:54:32.259090Z",
     "shell.execute_reply": "2025-07-28T10:54:32.258187Z"
    },
    "papermill": {
     "duration": 0.033886,
     "end_time": "2025-07-28T10:54:32.260731",
     "exception": false,
     "start_time": "2025-07-28T10:54:32.226845",
     "status": "completed"
    },
    "tags": []
   },
   "outputs": [
    {
     "data": {
      "text/plain": [
       "{'universe_id': ['be4d6ebf3da61fe669782533d9a605aa'],\n",
       " 'universe_training_size': ['2014'],\n",
       " 'universe_scale': ['scale'],\n",
       " 'universe_model': ['penalized_logreg'],\n",
       " 'universe_exclude_features': ['none'],\n",
       " 'universe_exclude_subgroups': ['keep-all'],\n",
       " 'q_hat': [0.6725461765555591],\n",
       " 'coverage': [0.9124846728346896],\n",
       " 'avg_size': [1.1206108572065545]}"
      ]
     },
     "execution_count": 52,
     "metadata": {},
     "output_type": "execute_result"
    }
   ],
   "source": [
    "cp_metrics_dict"
   ]
  },
  {
   "cell_type": "code",
   "execution_count": 53,
   "id": "33007efc-14e9-4ec6-97ac-56a455c82265",
   "metadata": {
    "execution": {
     "iopub.execute_input": "2025-07-28T10:54:32.310859Z",
     "iopub.status.busy": "2025-07-28T10:54:32.310341Z",
     "iopub.status.idle": "2025-07-28T10:54:32.316925Z",
     "shell.execute_reply": "2025-07-28T10:54:32.316051Z"
    },
    "papermill": {
     "duration": 0.033675,
     "end_time": "2025-07-28T10:54:32.318555",
     "exception": false,
     "start_time": "2025-07-28T10:54:32.284880",
     "status": "completed"
    },
    "tags": []
   },
   "outputs": [],
   "source": [
    "cp_metrics_df = pd.DataFrame(cp_metrics_dict)"
   ]
  },
  {
   "cell_type": "code",
   "execution_count": 54,
   "id": "db12611b-57b2-4910-b9d0-355adfd6e7bf",
   "metadata": {
    "execution": {
     "iopub.execute_input": "2025-07-28T10:54:32.370478Z",
     "iopub.status.busy": "2025-07-28T10:54:32.369989Z",
     "iopub.status.idle": "2025-07-28T10:54:32.388934Z",
     "shell.execute_reply": "2025-07-28T10:54:32.387800Z"
    },
    "papermill": {
     "duration": 0.049041,
     "end_time": "2025-07-28T10:54:32.390885",
     "exception": false,
     "start_time": "2025-07-28T10:54:32.341844",
     "status": "completed"
    },
    "tags": []
   },
   "outputs": [
    {
     "data": {
      "text/html": [
       "<div>\n",
       "<style scoped>\n",
       "    .dataframe tbody tr th:only-of-type {\n",
       "        vertical-align: middle;\n",
       "    }\n",
       "\n",
       "    .dataframe tbody tr th {\n",
       "        vertical-align: top;\n",
       "    }\n",
       "\n",
       "    .dataframe thead th {\n",
       "        text-align: right;\n",
       "    }\n",
       "</style>\n",
       "<table border=\"1\" class=\"dataframe\">\n",
       "  <thead>\n",
       "    <tr style=\"text-align: right;\">\n",
       "      <th></th>\n",
       "      <th>universe_id</th>\n",
       "      <th>universe_training_size</th>\n",
       "      <th>universe_scale</th>\n",
       "      <th>universe_model</th>\n",
       "      <th>universe_exclude_features</th>\n",
       "      <th>universe_exclude_subgroups</th>\n",
       "      <th>q_hat</th>\n",
       "      <th>coverage</th>\n",
       "      <th>avg_size</th>\n",
       "    </tr>\n",
       "  </thead>\n",
       "  <tbody>\n",
       "    <tr>\n",
       "      <th>0</th>\n",
       "      <td>be4d6ebf3da61fe669782533d9a605aa</td>\n",
       "      <td>2014</td>\n",
       "      <td>scale</td>\n",
       "      <td>penalized_logreg</td>\n",
       "      <td>none</td>\n",
       "      <td>keep-all</td>\n",
       "      <td>0.672546</td>\n",
       "      <td>0.912485</td>\n",
       "      <td>1.120611</td>\n",
       "    </tr>\n",
       "  </tbody>\n",
       "</table>\n",
       "</div>"
      ],
      "text/plain": [
       "                        universe_id universe_training_size universe_scale  \\\n",
       "0  be4d6ebf3da61fe669782533d9a605aa                   2014          scale   \n",
       "\n",
       "     universe_model universe_exclude_features universe_exclude_subgroups  \\\n",
       "0  penalized_logreg                      none                   keep-all   \n",
       "\n",
       "      q_hat  coverage  avg_size  \n",
       "0  0.672546  0.912485  1.120611  "
      ]
     },
     "execution_count": 54,
     "metadata": {},
     "output_type": "execute_result"
    }
   ],
   "source": [
    "cp_metrics_df"
   ]
  },
  {
   "cell_type": "code",
   "execution_count": 55,
   "id": "b7fbde55-a0a1-47e4-9af6-fe4a17fa8c61",
   "metadata": {
    "execution": {
     "iopub.execute_input": "2025-07-28T10:54:32.445340Z",
     "iopub.status.busy": "2025-07-28T10:54:32.444803Z",
     "iopub.status.idle": "2025-07-28T10:54:32.450515Z",
     "shell.execute_reply": "2025-07-28T10:54:32.449691Z"
    },
    "papermill": {
     "duration": 0.034862,
     "end_time": "2025-07-28T10:54:32.453801",
     "exception": false,
     "start_time": "2025-07-28T10:54:32.418939",
     "status": "completed"
    },
    "tags": []
   },
   "outputs": [],
   "source": [
    "# Conditional Coverage & looking at subgroups"
   ]
  },
  {
   "cell_type": "code",
   "execution_count": 56,
   "id": "027ae886-68dd-4141-96c7-805a5450e1ef",
   "metadata": {
    "execution": {
     "iopub.execute_input": "2025-07-28T10:54:32.518149Z",
     "iopub.status.busy": "2025-07-28T10:54:32.516923Z",
     "iopub.status.idle": "2025-07-28T10:54:32.768177Z",
     "shell.execute_reply": "2025-07-28T10:54:32.767283Z"
    },
    "papermill": {
     "duration": 0.286967,
     "end_time": "2025-07-28T10:54:32.770213",
     "exception": false,
     "start_time": "2025-07-28T10:54:32.483246",
     "status": "completed"
    },
    "tags": []
   },
   "outputs": [],
   "source": [
    "from fairness_multiverse.conformal import build_cp_groups\n",
    "\n",
    "cp_groups_df = build_cp_groups(pred_sets, y_true, X_test.index, org_test)\n",
    "#needs universe_id and setting"
   ]
  },
  {
   "cell_type": "code",
   "execution_count": 57,
   "id": "01d5802c-663a-4d1f-9d69-e036faaffbf7",
   "metadata": {
    "execution": {
     "iopub.execute_input": "2025-07-28T10:54:32.822754Z",
     "iopub.status.busy": "2025-07-28T10:54:32.822271Z",
     "iopub.status.idle": "2025-07-28T10:54:32.827795Z",
     "shell.execute_reply": "2025-07-28T10:54:32.826823Z"
    },
    "papermill": {
     "duration": 0.032924,
     "end_time": "2025-07-28T10:54:32.829796",
     "exception": false,
     "start_time": "2025-07-28T10:54:32.796872",
     "status": "completed"
    },
    "tags": []
   },
   "outputs": [],
   "source": [
    "#delete\n",
    "#cp_groups_df"
   ]
  },
  {
   "cell_type": "code",
   "execution_count": 58,
   "id": "fa424af1-d1eb-443d-b717-2d279ada8408",
   "metadata": {
    "execution": {
     "iopub.execute_input": "2025-07-28T10:54:32.883369Z",
     "iopub.status.busy": "2025-07-28T10:54:32.882173Z",
     "iopub.status.idle": "2025-07-28T10:54:32.888144Z",
     "shell.execute_reply": "2025-07-28T10:54:32.887145Z"
    },
    "papermill": {
     "duration": 0.034562,
     "end_time": "2025-07-28T10:54:32.889752",
     "exception": false,
     "start_time": "2025-07-28T10:54:32.855190",
     "status": "completed"
    },
    "tags": []
   },
   "outputs": [],
   "source": [
    "#delete\n",
    "#percentage = (cp_groups_df['nongerman_female'] == 1).mean() * 100\n",
    "#print(percentage)\n"
   ]
  },
  {
   "cell_type": "code",
   "execution_count": 59,
   "id": "6cbdab96-b2b2-45af-ad54-d0516db2e28d",
   "metadata": {
    "execution": {
     "iopub.execute_input": "2025-07-28T10:54:32.940389Z",
     "iopub.status.busy": "2025-07-28T10:54:32.939446Z",
     "iopub.status.idle": "2025-07-28T10:54:34.233756Z",
     "shell.execute_reply": "2025-07-28T10:54:34.232918Z"
    },
    "papermill": {
     "duration": 1.321301,
     "end_time": "2025-07-28T10:54:34.235818",
     "exception": false,
     "start_time": "2025-07-28T10:54:32.914517",
     "status": "completed"
    },
    "tags": []
   },
   "outputs": [],
   "source": [
    "# Define covered = 1 if true_label is in the predicted set\n",
    "cp_groups_df['covered'] = cp_groups_df.apply(\n",
    "    lambda r: int(r['true_label'] in r['pred_set']),\n",
    "    axis=1\n",
    ")"
   ]
  },
  {
   "cell_type": "code",
   "execution_count": 60,
   "id": "338ff529-1a6b-4b87-a931-8e4788d52aad",
   "metadata": {
    "execution": {
     "iopub.execute_input": "2025-07-28T10:54:34.284196Z",
     "iopub.status.busy": "2025-07-28T10:54:34.283627Z",
     "iopub.status.idle": "2025-07-28T10:54:34.289369Z",
     "shell.execute_reply": "2025-07-28T10:54:34.288546Z"
    },
    "papermill": {
     "duration": 0.026231,
     "end_time": "2025-07-28T10:54:34.290732",
     "exception": false,
     "start_time": "2025-07-28T10:54:34.264501",
     "status": "completed"
    },
    "tags": []
   },
   "outputs": [],
   "source": [
    "#cp_groups_df"
   ]
  },
  {
   "cell_type": "code",
   "execution_count": 61,
   "id": "90032e27-66df-4540-9169-4e89cfbaa758",
   "metadata": {
    "execution": {
     "iopub.execute_input": "2025-07-28T10:54:34.319243Z",
     "iopub.status.busy": "2025-07-28T10:54:34.318871Z",
     "iopub.status.idle": "2025-07-28T10:54:34.327755Z",
     "shell.execute_reply": "2025-07-28T10:54:34.326804Z"
    },
    "papermill": {
     "duration": 0.026314,
     "end_time": "2025-07-28T10:54:34.330901",
     "exception": false,
     "start_time": "2025-07-28T10:54:34.304587",
     "status": "completed"
    },
    "tags": []
   },
   "outputs": [],
   "source": [
    "subgroups = ['frau1','nongerman','nongerman_male','nongerman_female']\n",
    "\n",
    "# Conditional coverage for subgroup==1\n",
    "cond_coverage = {\n",
    "    g: cp_groups_df.loc[cp_groups_df[g]==1, 'covered'].mean()\n",
    "    for g in subgroups\n",
    "}"
   ]
  },
  {
   "cell_type": "code",
   "execution_count": 62,
   "id": "1e348fb1-b9c3-45bc-ba23-f016827a7e0d",
   "metadata": {
    "execution": {
     "iopub.execute_input": "2025-07-28T10:54:34.386166Z",
     "iopub.status.busy": "2025-07-28T10:54:34.385785Z",
     "iopub.status.idle": "2025-07-28T10:54:34.392598Z",
     "shell.execute_reply": "2025-07-28T10:54:34.391786Z"
    },
    "papermill": {
     "duration": 0.035254,
     "end_time": "2025-07-28T10:54:34.393832",
     "exception": false,
     "start_time": "2025-07-28T10:54:34.358578",
     "status": "completed"
    },
    "tags": []
   },
   "outputs": [
    {
     "data": {
      "text/plain": [
       "{'frau1': 0.9119827470009435,\n",
       " 'nongerman': 0.9111323190927973,\n",
       " 'nongerman_male': 0.9261460866432496,\n",
       " 'nongerman_female': 0.8862891207153503}"
      ]
     },
     "execution_count": 62,
     "metadata": {},
     "output_type": "execute_result"
    }
   ],
   "source": [
    "cond_coverage"
   ]
  },
  {
   "cell_type": "code",
   "execution_count": 63,
   "id": "f5093324-c3dd-4d63-bc4c-8d945e5c8bbb",
   "metadata": {
    "execution": {
     "iopub.execute_input": "2025-07-28T10:54:34.423791Z",
     "iopub.status.busy": "2025-07-28T10:54:34.423360Z",
     "iopub.status.idle": "2025-07-28T10:54:34.430426Z",
     "shell.execute_reply": "2025-07-28T10:54:34.429675Z"
    },
    "papermill": {
     "duration": 0.023687,
     "end_time": "2025-07-28T10:54:34.431802",
     "exception": false,
     "start_time": "2025-07-28T10:54:34.408115",
     "status": "completed"
    },
    "tags": []
   },
   "outputs": [],
   "source": [
    "for subgroup, cov in cond_coverage.items():\n",
    "    cp_metrics_df[f\"cov_{subgroup}\"] = cov"
   ]
  },
  {
   "cell_type": "code",
   "execution_count": 64,
   "id": "6e872e10-dbe5-49e8-b554-5030c98ff75d",
   "metadata": {
    "execution": {
     "iopub.execute_input": "2025-07-28T10:54:34.461972Z",
     "iopub.status.busy": "2025-07-28T10:54:34.461574Z",
     "iopub.status.idle": "2025-07-28T10:54:34.480505Z",
     "shell.execute_reply": "2025-07-28T10:54:34.479402Z"
    },
    "papermill": {
     "duration": 0.036991,
     "end_time": "2025-07-28T10:54:34.483060",
     "exception": false,
     "start_time": "2025-07-28T10:54:34.446069",
     "status": "completed"
    },
    "tags": []
   },
   "outputs": [
    {
     "data": {
      "text/html": [
       "<div>\n",
       "<style scoped>\n",
       "    .dataframe tbody tr th:only-of-type {\n",
       "        vertical-align: middle;\n",
       "    }\n",
       "\n",
       "    .dataframe tbody tr th {\n",
       "        vertical-align: top;\n",
       "    }\n",
       "\n",
       "    .dataframe thead th {\n",
       "        text-align: right;\n",
       "    }\n",
       "</style>\n",
       "<table border=\"1\" class=\"dataframe\">\n",
       "  <thead>\n",
       "    <tr style=\"text-align: right;\">\n",
       "      <th></th>\n",
       "      <th>universe_id</th>\n",
       "      <th>universe_training_size</th>\n",
       "      <th>universe_scale</th>\n",
       "      <th>universe_model</th>\n",
       "      <th>universe_exclude_features</th>\n",
       "      <th>universe_exclude_subgroups</th>\n",
       "      <th>q_hat</th>\n",
       "      <th>coverage</th>\n",
       "      <th>avg_size</th>\n",
       "      <th>cov_frau1</th>\n",
       "      <th>cov_nongerman</th>\n",
       "      <th>cov_nongerman_male</th>\n",
       "      <th>cov_nongerman_female</th>\n",
       "    </tr>\n",
       "  </thead>\n",
       "  <tbody>\n",
       "    <tr>\n",
       "      <th>0</th>\n",
       "      <td>be4d6ebf3da61fe669782533d9a605aa</td>\n",
       "      <td>2014</td>\n",
       "      <td>scale</td>\n",
       "      <td>penalized_logreg</td>\n",
       "      <td>none</td>\n",
       "      <td>keep-all</td>\n",
       "      <td>0.672546</td>\n",
       "      <td>0.912485</td>\n",
       "      <td>1.120611</td>\n",
       "      <td>0.911983</td>\n",
       "      <td>0.911132</td>\n",
       "      <td>0.926146</td>\n",
       "      <td>0.886289</td>\n",
       "    </tr>\n",
       "  </tbody>\n",
       "</table>\n",
       "</div>"
      ],
      "text/plain": [
       "                        universe_id universe_training_size universe_scale  \\\n",
       "0  be4d6ebf3da61fe669782533d9a605aa                   2014          scale   \n",
       "\n",
       "     universe_model universe_exclude_features universe_exclude_subgroups  \\\n",
       "0  penalized_logreg                      none                   keep-all   \n",
       "\n",
       "      q_hat  coverage  avg_size  cov_frau1  cov_nongerman  cov_nongerman_male  \\\n",
       "0  0.672546  0.912485  1.120611   0.911983       0.911132            0.926146   \n",
       "\n",
       "   cov_nongerman_female  \n",
       "0              0.886289  "
      ]
     },
     "execution_count": 64,
     "metadata": {},
     "output_type": "execute_result"
    }
   ],
   "source": [
    "cp_metrics_df"
   ]
  },
  {
   "cell_type": "markdown",
   "id": "33774451",
   "metadata": {
    "papermill": {
     "duration": 0.028364,
     "end_time": "2025-07-28T10:54:34.533954",
     "exception": false,
     "start_time": "2025-07-28T10:54:34.505590",
     "status": "completed"
    },
    "tags": []
   },
   "source": [
    "# (Fairness) Metrics"
   ]
  },
  {
   "cell_type": "code",
   "execution_count": 65,
   "id": "debc5d62",
   "metadata": {
    "execution": {
     "iopub.execute_input": "2025-07-28T10:54:34.594121Z",
     "iopub.status.busy": "2025-07-28T10:54:34.593192Z",
     "iopub.status.idle": "2025-07-28T10:54:34.617587Z",
     "shell.execute_reply": "2025-07-28T10:54:34.616521Z"
    },
    "papermill": {
     "duration": 0.057174,
     "end_time": "2025-07-28T10:54:34.619881",
     "exception": false,
     "start_time": "2025-07-28T10:54:34.562707",
     "status": "completed"
    },
    "tags": []
   },
   "outputs": [],
   "source": [
    "# do I need to include maxdeutsch1.missing?\n",
    "\n",
    "import numpy as np\n",
    "\n",
    "colname_to_bin = \"maxdeutsch1\"\n",
    "majority_value = org_train[colname_to_bin].mode()[0]\n",
    "\n",
    "org_test[\"majmin\"] = np.where(org_test[colname_to_bin] == majority_value, \"majority\", \"minority\")"
   ]
  },
  {
   "cell_type": "code",
   "execution_count": 66,
   "id": "06a50de5",
   "metadata": {
    "execution": {
     "iopub.execute_input": "2025-07-28T10:54:34.676004Z",
     "iopub.status.busy": "2025-07-28T10:54:34.675138Z",
     "iopub.status.idle": "2025-07-28T10:54:37.387542Z",
     "shell.execute_reply": "2025-07-28T10:54:37.386663Z"
    },
    "papermill": {
     "duration": 2.74239,
     "end_time": "2025-07-28T10:54:37.389590",
     "exception": false,
     "start_time": "2025-07-28T10:54:34.647200",
     "status": "completed"
    },
    "tags": []
   },
   "outputs": [],
   "source": [
    "example_universe = universe.copy()\n",
    "example_universe[\"cutoff\"] = example_universe[\"cutoff\"][0]\n",
    "example_universe[\"eval_fairness_grouping\"] = example_universe[\"eval_fairness_grouping\"][0]\n",
    "fairness_dict, metric_frame = universe_analysis.compute_metrics(\n",
    "    example_universe,\n",
    "    y_pred_prob=probs_test,\n",
    "    y_test=y_true,\n",
    "    org_test=org_test,\n",
    ")"
   ]
  },
  {
   "cell_type": "markdown",
   "id": "f95d4e02",
   "metadata": {
    "papermill": {
     "duration": 0.03138,
     "end_time": "2025-07-28T10:54:37.453720",
     "exception": false,
     "start_time": "2025-07-28T10:54:37.422340",
     "status": "completed"
    },
    "tags": []
   },
   "source": [
    "# Overall"
   ]
  },
  {
   "cell_type": "markdown",
   "id": "bdee4871",
   "metadata": {
    "papermill": {
     "duration": 0.029249,
     "end_time": "2025-07-28T10:54:37.511975",
     "exception": false,
     "start_time": "2025-07-28T10:54:37.482726",
     "status": "completed"
    },
    "tags": []
   },
   "source": [
    "Fairness\n",
    "Main fairness target: Equalized Odds. Seems to be a better fit than equal opportunity, since we're not only interested in Y = 1. Seems to be a better fit than demographic parity, since we also care about accuracy, not just equal distribution of preds.\n",
    "\n",
    "Pick column for computation of fairness metrics\n",
    "\n",
    "Performance\n",
    "Overall performance measures, most interesting in relation to the measures split by group below"
   ]
  },
  {
   "cell_type": "code",
   "execution_count": 67,
   "id": "c4e067c6",
   "metadata": {
    "execution": {
     "iopub.execute_input": "2025-07-28T10:54:37.572129Z",
     "iopub.status.busy": "2025-07-28T10:54:37.571552Z",
     "iopub.status.idle": "2025-07-28T10:54:37.581578Z",
     "shell.execute_reply": "2025-07-28T10:54:37.580360Z"
    },
    "papermill": {
     "duration": 0.042145,
     "end_time": "2025-07-28T10:54:37.583520",
     "exception": false,
     "start_time": "2025-07-28T10:54:37.541375",
     "status": "completed"
    },
    "tags": []
   },
   "outputs": [
    {
     "data": {
      "text/plain": [
       "accuracy                   0.225716\n",
       "balanced accuracy          0.551626\n",
       "f1                         0.247011\n",
       "precision                  0.141109\n",
       "false positive rate        0.886755\n",
       "false negative rate        0.009993\n",
       "selection rate             0.900000\n",
       "count                  89710.000000\n",
       "dtype: float64"
      ]
     },
     "execution_count": 67,
     "metadata": {},
     "output_type": "execute_result"
    }
   ],
   "source": [
    "metric_frame.overall"
   ]
  },
  {
   "cell_type": "markdown",
   "id": "e968fe9d",
   "metadata": {
    "papermill": {
     "duration": 0.029277,
     "end_time": "2025-07-28T10:54:37.639461",
     "exception": false,
     "start_time": "2025-07-28T10:54:37.610184",
     "status": "completed"
    },
    "tags": []
   },
   "source": [
    "By Group"
   ]
  },
  {
   "cell_type": "code",
   "execution_count": 68,
   "id": "ec325bce",
   "metadata": {
    "execution": {
     "iopub.execute_input": "2025-07-28T10:54:37.700162Z",
     "iopub.status.busy": "2025-07-28T10:54:37.699583Z",
     "iopub.status.idle": "2025-07-28T10:54:37.717865Z",
     "shell.execute_reply": "2025-07-28T10:54:37.716739Z"
    },
    "papermill": {
     "duration": 0.050528,
     "end_time": "2025-07-28T10:54:37.719621",
     "exception": false,
     "start_time": "2025-07-28T10:54:37.669093",
     "status": "completed"
    },
    "tags": []
   },
   "outputs": [
    {
     "data": {
      "text/html": [
       "<div>\n",
       "<style scoped>\n",
       "    .dataframe tbody tr th:only-of-type {\n",
       "        vertical-align: middle;\n",
       "    }\n",
       "\n",
       "    .dataframe tbody tr th {\n",
       "        vertical-align: top;\n",
       "    }\n",
       "\n",
       "    .dataframe thead th {\n",
       "        text-align: right;\n",
       "    }\n",
       "</style>\n",
       "<table border=\"1\" class=\"dataframe\">\n",
       "  <thead>\n",
       "    <tr style=\"text-align: right;\">\n",
       "      <th></th>\n",
       "      <th>accuracy</th>\n",
       "      <th>balanced accuracy</th>\n",
       "      <th>f1</th>\n",
       "      <th>precision</th>\n",
       "      <th>false positive rate</th>\n",
       "      <th>false negative rate</th>\n",
       "      <th>selection rate</th>\n",
       "      <th>count</th>\n",
       "    </tr>\n",
       "    <tr>\n",
       "      <th>majmin</th>\n",
       "      <th></th>\n",
       "      <th></th>\n",
       "      <th></th>\n",
       "      <th></th>\n",
       "      <th></th>\n",
       "      <th></th>\n",
       "      <th></th>\n",
       "      <th></th>\n",
       "    </tr>\n",
       "  </thead>\n",
       "  <tbody>\n",
       "    <tr>\n",
       "      <th>majority</th>\n",
       "      <td>0.247636</td>\n",
       "      <td>0.561765</td>\n",
       "      <td>0.257777</td>\n",
       "      <td>0.148208</td>\n",
       "      <td>0.865201</td>\n",
       "      <td>0.011269</td>\n",
       "      <td>0.881524</td>\n",
       "      <td>69170.0</td>\n",
       "    </tr>\n",
       "    <tr>\n",
       "      <th>minority</th>\n",
       "      <td>0.151899</td>\n",
       "      <td>0.518488</td>\n",
       "      <td>0.212904</td>\n",
       "      <td>0.119207</td>\n",
       "      <td>0.957957</td>\n",
       "      <td>0.005068</td>\n",
       "      <td>0.962220</td>\n",
       "      <td>20540.0</td>\n",
       "    </tr>\n",
       "  </tbody>\n",
       "</table>\n",
       "</div>"
      ],
      "text/plain": [
       "          accuracy  balanced accuracy        f1  precision  \\\n",
       "majmin                                                       \n",
       "majority  0.247636           0.561765  0.257777   0.148208   \n",
       "minority  0.151899           0.518488  0.212904   0.119207   \n",
       "\n",
       "          false positive rate  false negative rate  selection rate    count  \n",
       "majmin                                                                       \n",
       "majority             0.865201             0.011269        0.881524  69170.0  \n",
       "minority             0.957957             0.005068        0.962220  20540.0  "
      ]
     },
     "execution_count": 68,
     "metadata": {},
     "output_type": "execute_result"
    }
   ],
   "source": [
    "metric_frame.by_group"
   ]
  },
  {
   "cell_type": "code",
   "execution_count": 69,
   "id": "a9ddbe63",
   "metadata": {
    "execution": {
     "iopub.execute_input": "2025-07-28T10:54:37.782254Z",
     "iopub.status.busy": "2025-07-28T10:54:37.781277Z",
     "iopub.status.idle": "2025-07-28T10:54:40.086702Z",
     "shell.execute_reply": "2025-07-28T10:54:40.085724Z"
    },
    "papermill": {
     "duration": 2.338491,
     "end_time": "2025-07-28T10:54:40.088578",
     "exception": false,
     "start_time": "2025-07-28T10:54:37.750087",
     "status": "completed"
    },
    "tags": []
   },
   "outputs": [
    {
     "data": {
      "text/plain": [
       "array([[<Axes: title={'center': 'accuracy'}, xlabel='majmin'>,\n",
       "        <Axes: title={'center': 'balanced accuracy'}, xlabel='majmin'>,\n",
       "        <Axes: title={'center': 'f1'}, xlabel='majmin'>],\n",
       "       [<Axes: title={'center': 'precision'}, xlabel='majmin'>,\n",
       "        <Axes: title={'center': 'false positive rate'}, xlabel='majmin'>,\n",
       "        <Axes: title={'center': 'false negative rate'}, xlabel='majmin'>],\n",
       "       [<Axes: title={'center': 'selection rate'}, xlabel='majmin'>,\n",
       "        <Axes: title={'center': 'count'}, xlabel='majmin'>,\n",
       "        <Axes: xlabel='majmin'>]], dtype=object)"
      ]
     },
     "execution_count": 69,
     "metadata": {},
     "output_type": "execute_result"
    },
    {
     "data": {
      "image/png": "[encoded data removed]",
      "text/plain": [
       "<Figure size 1200x800 with 9 Axes>"
      ]
     },
     "metadata": {},
     "output_type": "display_data"
    }
   ],
   "source": [
    "# In a graphic\n",
    "metric_frame.by_group.plot.bar(\n",
    "    subplots=True,\n",
    "    layout=[3, 3],\n",
    "    legend=False,\n",
    "    figsize=[12, 8],\n",
    "    title=\"Show all metrics\",\n",
    ")"
   ]
  },
  {
   "cell_type": "markdown",
   "id": "f57a0bac",
   "metadata": {
    "papermill": {
     "duration": 0.015191,
     "end_time": "2025-07-28T10:54:40.123660",
     "exception": false,
     "start_time": "2025-07-28T10:54:40.108469",
     "status": "completed"
    },
    "tags": []
   },
   "source": [
    "# Final Output"
   ]
  },
  {
   "cell_type": "code",
   "execution_count": 70,
   "id": "96d280a3",
   "metadata": {
    "execution": {
     "iopub.execute_input": "2025-07-28T10:54:40.155209Z",
     "iopub.status.busy": "2025-07-28T10:54:40.154695Z",
     "iopub.status.idle": "2025-07-28T10:54:40.162506Z",
     "shell.execute_reply": "2025-07-28T10:54:40.161685Z"
    },
    "papermill": {
     "duration": 0.025166,
     "end_time": "2025-07-28T10:54:40.163892",
     "exception": false,
     "start_time": "2025-07-28T10:54:40.138726",
     "status": "completed"
    },
    "tags": []
   },
   "outputs": [
    {
     "data": {
      "text/plain": [
       "4"
      ]
     },
     "execution_count": 70,
     "metadata": {},
     "output_type": "execute_result"
    }
   ],
   "source": [
    "sub_universes = universe_analysis.generate_sub_universes()\n",
    "len(sub_universes)"
   ]
  },
  {
   "cell_type": "code",
   "execution_count": 71,
   "id": "92adf7ba",
   "metadata": {
    "execution": {
     "iopub.execute_input": "2025-07-28T10:54:40.196113Z",
     "iopub.status.busy": "2025-07-28T10:54:40.195753Z",
     "iopub.status.idle": "2025-07-28T10:54:40.200897Z",
     "shell.execute_reply": "2025-07-28T10:54:40.200154Z"
    },
    "papermill": {
     "duration": 0.023059,
     "end_time": "2025-07-28T10:54:40.202270",
     "exception": false,
     "start_time": "2025-07-28T10:54:40.179211",
     "status": "completed"
    },
    "tags": []
   },
   "outputs": [],
   "source": [
    "def filter_sub_universe_data(sub_universe, org_test):\n",
    "    # Keep all rows — no filtering\n",
    "    keep_rows_mask = np.ones(org_test.shape[0], dtype=bool)\n",
    "\n",
    "    print(f\"[INFO] Keeping all rows: {keep_rows_mask.sum()} rows retained.\")\n",
    "    return keep_rows_mask"
   ]
  },
  {
   "cell_type": "code",
   "execution_count": 72,
   "id": "4a759155",
   "metadata": {
    "execution": {
     "iopub.execute_input": "2025-07-28T10:54:40.234316Z",
     "iopub.status.busy": "2025-07-28T10:54:40.233756Z",
     "iopub.status.idle": "2025-07-28T10:54:48.860248Z",
     "shell.execute_reply": "2025-07-28T10:54:48.858954Z"
    },
    "papermill": {
     "duration": 8.644369,
     "end_time": "2025-07-28T10:54:48.862280",
     "exception": false,
     "start_time": "2025-07-28T10:54:40.217911",
     "status": "completed"
    },
    "tags": []
   },
   "outputs": [
    {
     "name": "stdout",
     "output_type": "stream",
     "text": [
      "Stopping execution_time clock.\n",
      "[INFO] Keeping all rows: 89710 rows retained.\n"
     ]
    },
    {
     "name": "stdout",
     "output_type": "stream",
     "text": [
      "[INFO] Keeping all rows: 89710 rows retained.\n"
     ]
    },
    {
     "name": "stdout",
     "output_type": "stream",
     "text": [
      "[INFO] Keeping all rows: 89710 rows retained.\n"
     ]
    },
    {
     "name": "stdout",
     "output_type": "stream",
     "text": [
      "[INFO] Keeping all rows: 89710 rows retained.\n"
     ]
    },
    {
     "data": {
      "text/html": [
       "<div>\n",
       "<style scoped>\n",
       "    .dataframe tbody tr th:only-of-type {\n",
       "        vertical-align: middle;\n",
       "    }\n",
       "\n",
       "    .dataframe tbody tr th {\n",
       "        vertical-align: top;\n",
       "    }\n",
       "\n",
       "    .dataframe thead th {\n",
       "        text-align: right;\n",
       "    }\n",
       "</style>\n",
       "<table border=\"1\" class=\"dataframe\">\n",
       "  <thead>\n",
       "    <tr style=\"text-align: right;\">\n",
       "      <th></th>\n",
       "      <th>run_no</th>\n",
       "      <th>universe_id</th>\n",
       "      <th>universe_settings</th>\n",
       "      <th>execution_time</th>\n",
       "      <th>test_size_n</th>\n",
       "      <th>test_size_frac</th>\n",
       "      <th>fair_main_equalized_odds_difference</th>\n",
       "      <th>fair_main_equalized_odds_ratio</th>\n",
       "      <th>fair_main_demographic_parity_difference</th>\n",
       "      <th>fair_main_demographic_parity_ratio</th>\n",
       "      <th>...</th>\n",
       "      <th>perf_grp_precision_0</th>\n",
       "      <th>perf_grp_precision_1</th>\n",
       "      <th>perf_grp_false positive rate_0</th>\n",
       "      <th>perf_grp_false positive rate_1</th>\n",
       "      <th>perf_grp_false negative rate_0</th>\n",
       "      <th>perf_grp_false negative rate_1</th>\n",
       "      <th>perf_grp_selection rate_0</th>\n",
       "      <th>perf_grp_selection rate_1</th>\n",
       "      <th>perf_grp_count_0</th>\n",
       "      <th>perf_grp_count_1</th>\n",
       "    </tr>\n",
       "  </thead>\n",
       "  <tbody>\n",
       "    <tr>\n",
       "      <th>0</th>\n",
       "      <td>11</td>\n",
       "      <td>be4d6ebf3da61fe669782533d9a605aa</td>\n",
       "      <td>{\"cutoff\": \"quantile_0.1\", \"eval_fairness_grou...</td>\n",
       "      <td>31.288892</td>\n",
       "      <td>89710</td>\n",
       "      <td>1.0</td>\n",
       "      <td>0.092757</td>\n",
       "      <td>0.903173</td>\n",
       "      <td>0.080696</td>\n",
       "      <td>0.916135</td>\n",
       "      <td>...</td>\n",
       "      <td>NaN</td>\n",
       "      <td>NaN</td>\n",
       "      <td>NaN</td>\n",
       "      <td>NaN</td>\n",
       "      <td>NaN</td>\n",
       "      <td>NaN</td>\n",
       "      <td>NaN</td>\n",
       "      <td>NaN</td>\n",
       "      <td>NaN</td>\n",
       "      <td>NaN</td>\n",
       "    </tr>\n",
       "    <tr>\n",
       "      <th>0</th>\n",
       "      <td>11</td>\n",
       "      <td>be4d6ebf3da61fe669782533d9a605aa</td>\n",
       "      <td>{\"cutoff\": \"quantile_0.1\", \"eval_fairness_grou...</td>\n",
       "      <td>31.288892</td>\n",
       "      <td>89710</td>\n",
       "      <td>1.0</td>\n",
       "      <td>0.092757</td>\n",
       "      <td>0.903173</td>\n",
       "      <td>0.080696</td>\n",
       "      <td>0.916135</td>\n",
       "      <td>...</td>\n",
       "      <td>0.119207</td>\n",
       "      <td>0.148208</td>\n",
       "      <td>0.957957</td>\n",
       "      <td>0.865201</td>\n",
       "      <td>0.005068</td>\n",
       "      <td>0.011269</td>\n",
       "      <td>0.962220</td>\n",
       "      <td>0.881524</td>\n",
       "      <td>20540.0</td>\n",
       "      <td>69170.0</td>\n",
       "    </tr>\n",
       "    <tr>\n",
       "      <th>0</th>\n",
       "      <td>11</td>\n",
       "      <td>be4d6ebf3da61fe669782533d9a605aa</td>\n",
       "      <td>{\"cutoff\": \"quantile_0.25\", \"eval_fairness_gro...</td>\n",
       "      <td>31.288892</td>\n",
       "      <td>89710</td>\n",
       "      <td>1.0</td>\n",
       "      <td>0.162662</td>\n",
       "      <td>0.807471</td>\n",
       "      <td>0.140689</td>\n",
       "      <td>0.836117</td>\n",
       "      <td>...</td>\n",
       "      <td>NaN</td>\n",
       "      <td>NaN</td>\n",
       "      <td>NaN</td>\n",
       "      <td>NaN</td>\n",
       "      <td>NaN</td>\n",
       "      <td>NaN</td>\n",
       "      <td>NaN</td>\n",
       "      <td>NaN</td>\n",
       "      <td>NaN</td>\n",
       "      <td>NaN</td>\n",
       "    </tr>\n",
       "    <tr>\n",
       "      <th>0</th>\n",
       "      <td>11</td>\n",
       "      <td>be4d6ebf3da61fe669782533d9a605aa</td>\n",
       "      <td>{\"cutoff\": \"quantile_0.25\", \"eval_fairness_gro...</td>\n",
       "      <td>31.288892</td>\n",
       "      <td>89710</td>\n",
       "      <td>1.0</td>\n",
       "      <td>0.162662</td>\n",
       "      <td>0.807471</td>\n",
       "      <td>0.140689</td>\n",
       "      <td>0.836117</td>\n",
       "      <td>...</td>\n",
       "      <td>0.129303</td>\n",
       "      <td>0.175150</td>\n",
       "      <td>0.844871</td>\n",
       "      <td>0.682209</td>\n",
       "      <td>0.037162</td>\n",
       "      <td>0.048578</td>\n",
       "      <td>0.858471</td>\n",
       "      <td>0.717782</td>\n",
       "      <td>20540.0</td>\n",
       "      <td>69170.0</td>\n",
       "    </tr>\n",
       "  </tbody>\n",
       "</table>\n",
       "<p>4 rows × 50 columns</p>\n",
       "</div>"
      ],
      "text/plain": [
       "  run_no                       universe_id  \\\n",
       "0     11  be4d6ebf3da61fe669782533d9a605aa   \n",
       "0     11  be4d6ebf3da61fe669782533d9a605aa   \n",
       "0     11  be4d6ebf3da61fe669782533d9a605aa   \n",
       "0     11  be4d6ebf3da61fe669782533d9a605aa   \n",
       "\n",
       "                                   universe_settings  execution_time  \\\n",
       "0  {\"cutoff\": \"quantile_0.1\", \"eval_fairness_grou...       31.288892   \n",
       "0  {\"cutoff\": \"quantile_0.1\", \"eval_fairness_grou...       31.288892   \n",
       "0  {\"cutoff\": \"quantile_0.25\", \"eval_fairness_gro...       31.288892   \n",
       "0  {\"cutoff\": \"quantile_0.25\", \"eval_fairness_gro...       31.288892   \n",
       "\n",
       "   test_size_n  test_size_frac  fair_main_equalized_odds_difference  \\\n",
       "0        89710             1.0                             0.092757   \n",
       "0        89710             1.0                             0.092757   \n",
       "0        89710             1.0                             0.162662   \n",
       "0        89710             1.0                             0.162662   \n",
       "\n",
       "   fair_main_equalized_odds_ratio  fair_main_demographic_parity_difference  \\\n",
       "0                        0.903173                                 0.080696   \n",
       "0                        0.903173                                 0.080696   \n",
       "0                        0.807471                                 0.140689   \n",
       "0                        0.807471                                 0.140689   \n",
       "\n",
       "   fair_main_demographic_parity_ratio  ...  perf_grp_precision_0  \\\n",
       "0                            0.916135  ...                   NaN   \n",
       "0                            0.916135  ...              0.119207   \n",
       "0                            0.836117  ...                   NaN   \n",
       "0                            0.836117  ...              0.129303   \n",
       "\n",
       "   perf_grp_precision_1  perf_grp_false positive rate_0  \\\n",
       "0                   NaN                             NaN   \n",
       "0              0.148208                        0.957957   \n",
       "0                   NaN                             NaN   \n",
       "0              0.175150                        0.844871   \n",
       "\n",
       "   perf_grp_false positive rate_1  perf_grp_false negative rate_0  \\\n",
       "0                             NaN                             NaN   \n",
       "0                        0.865201                        0.005068   \n",
       "0                             NaN                             NaN   \n",
       "0                        0.682209                        0.037162   \n",
       "\n",
       "   perf_grp_false negative rate_1  perf_grp_selection rate_0  \\\n",
       "0                             NaN                        NaN   \n",
       "0                        0.011269                   0.962220   \n",
       "0                             NaN                        NaN   \n",
       "0                        0.048578                   0.858471   \n",
       "\n",
       "   perf_grp_selection rate_1  perf_grp_count_0  perf_grp_count_1  \n",
       "0                        NaN               NaN               NaN  \n",
       "0                   0.881524           20540.0           69170.0  \n",
       "0                        NaN               NaN               NaN  \n",
       "0                   0.717782           20540.0           69170.0  \n",
       "\n",
       "[4 rows x 50 columns]"
      ]
     },
     "execution_count": 72,
     "metadata": {},
     "output_type": "execute_result"
    }
   ],
   "source": [
    "final_output = universe_analysis.generate_final_output(\n",
    "    y_pred_prob=probs_test,\n",
    "    y_test=y_true,\n",
    "    org_test=org_test,\n",
    "    filter_data=filter_sub_universe_data,\n",
    "    cp_metrics_df=cp_metrics_df,\n",
    "    save=True,\n",
    ")\n",
    "final_output"
   ]
  },
  {
   "cell_type": "code",
   "execution_count": null,
   "id": "721ff514-cb11-46f8-b6fc-50392f74b5cb",
   "metadata": {
    "papermill": {
     "duration": 0.03026,
     "end_time": "2025-07-28T10:54:48.927938",
     "exception": false,
     "start_time": "2025-07-28T10:54:48.897678",
     "status": "completed"
    },
    "tags": []
   },
   "outputs": [],
   "source": []
  }
 ],
 "metadata": {
  "celltoolbar": "Tags",
  "kernelspec": {
   "display_name": "Python (CMA Fairness)",
   "language": "python",
   "name": "cma_fair_env"
  },
  "language_info": {
   "codemirror_mode": {
    "name": "ipython",
    "version": 3
   },
   "file_extension": ".py",
   "mimetype": "text/x-python",
   "name": "python",
   "nbconvert_exporter": "python",
   "pygments_lexer": "ipython3",
   "version": "3.10.12"
  },
  "papermill": {
   "default_parameters": {},
   "duration": 44.730403,
   "end_time": "2025-07-28T10:54:49.880944",
   "environment_variables": {},
   "exception": null,
   "input_path": "universe_analysis.ipynb",
   "output_path": "output/runs/11/notebooks/m_11-be4d6ebf3da61fe669782533d9a605aa.ipynb",
   "parameters": {
    "output_dir": "output",
    "run_no": "11",
    "seed": "2023",
    "universe": "{\"cutoff\": [\"quantile_0.1\", \"quantile_0.25\"], \"eval_fairness_grouping\": [\"majority-minority\", \"nationality-all\"], \"exclude_features\": \"none\", \"exclude_subgroups\": \"keep-all\", \"model\": \"penalized_logreg\", \"scale\": \"scale\", \"training_size\": \"2014\"}",
    "universe_id": "be4d6ebf3da61fe669782533d9a605aa"
   },
   "start_time": "2025-07-28T10:54:05.150541",
   "version": "2.6.0"
  }
 },
 "nbformat": 4,
 "nbformat_minor": 5
}