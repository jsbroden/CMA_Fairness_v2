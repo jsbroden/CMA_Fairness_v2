{
 "cells": [
  {
   "cell_type": "code",
   "execution_count": 1,
   "id": "f159f837-637b-42ba-96b5-ec9a68c44524",
   "metadata": {
    "execution": {
     "iopub.execute_input": "2025-07-28T10:41:23.661545Z",
     "iopub.status.busy": "2025-07-28T10:41:23.661015Z",
     "iopub.status.idle": "2025-07-28T10:41:23.676310Z",
     "shell.execute_reply": "2025-07-28T10:41:23.675070Z"
    },
    "papermill": {
     "duration": 0.037296,
     "end_time": "2025-07-28T10:41:23.678012",
     "exception": false,
     "start_time": "2025-07-28T10:41:23.640716",
     "status": "completed"
    },
    "tags": []
   },
   "outputs": [
    {
     "name": "stdout",
     "output_type": "stream",
     "text": [
      "/dss/dsshome1/0C/ra93lal2/cma/CMA_Fairness_v2\n"
     ]
    },
    {
     "name": "stderr",
     "output_type": "stream",
     "text": [
      "/dss/dsshome1/0C/ra93lal2/.local/share/virtualenvs/CMA_Fairness_v2-3j10GkSs/lib/python3.10/site-packages/IPython/core/magics/osm.py:393: UserWarning: This is now an optional IPython functionality, using bookmarks requires you to install the `pickleshare` library.\n",
      "  bkms = self.shell.db.get('bookmarks', {})\n",
      "/dss/dsshome1/0C/ra93lal2/.local/share/virtualenvs/CMA_Fairness_v2-3j10GkSs/lib/python3.10/site-packages/IPython/core/magics/osm.py:417: UserWarning: This is now an optional IPython functionality, setting dhist requires you to install the `pickleshare` library.\n",
      "  self.shell.db['dhist'] = compress_dhist(dhist)[-100:]\n"
     ]
    }
   ],
   "source": [
    "%cd ~/cma/CMA_Fairness_v2"
   ]
  },
  {
   "cell_type": "markdown",
   "id": "de2603b9",
   "metadata": {
    "papermill": {
     "duration": 0.018113,
     "end_time": "2025-07-28T10:41:23.758712",
     "exception": false,
     "start_time": "2025-07-28T10:41:23.740599",
     "status": "completed"
    },
    "tags": []
   },
   "source": [
    "The following cell holds the definition of our parameters, these values can be overriden by rendering the with e.g. the following command:\n",
    "\n",
    "papermill -p alpha 0.2 -p ratio 0.3 universe_analysis.ipynb output/test_run.ipynb"
   ]
  },
  {
   "cell_type": "code",
   "execution_count": 2,
   "id": "a80968a0-40bb-4fa9-85ef-2d5eefb01975",
   "metadata": {
    "execution": {
     "iopub.execute_input": "2025-07-28T10:41:23.796702Z",
     "iopub.status.busy": "2025-07-28T10:41:23.795806Z",
     "iopub.status.idle": "2025-07-28T10:41:23.802354Z",
     "shell.execute_reply": "2025-07-28T10:41:23.801432Z"
    },
    "papermill": {
     "duration": 0.027458,
     "end_time": "2025-07-28T10:41:23.804151",
     "exception": false,
     "start_time": "2025-07-28T10:41:23.776693",
     "status": "completed"
    },
    "tags": []
   },
   "outputs": [
    {
     "name": "stdout",
     "output_type": "stream",
     "text": [
      "Current working directory: /dss/dsshome1/0C/ra93lal2/cma/CMA_Fairness_v2\n"
     ]
    }
   ],
   "source": [
    "import os\n",
    "print(\"Current working directory:\", os.getcwd())"
   ]
  },
  {
   "cell_type": "code",
   "execution_count": 3,
   "id": "2dce4c03",
   "metadata": {
    "execution": {
     "iopub.execute_input": "2025-07-28T10:41:23.842617Z",
     "iopub.status.busy": "2025-07-28T10:41:23.842109Z",
     "iopub.status.idle": "2025-07-28T10:41:23.848279Z",
     "shell.execute_reply": "2025-07-28T10:41:23.847278Z"
    },
    "papermill": {
     "duration": 0.026909,
     "end_time": "2025-07-28T10:41:23.850104",
     "exception": false,
     "start_time": "2025-07-28T10:41:23.823195",
     "status": "completed"
    },
    "tags": [
     "parameters"
    ]
   },
   "outputs": [],
   "source": [
    "run_no = 0\n",
    "universe_id = \"test\"\n",
    "universe = {\n",
    "    \"training_size\": \"2014\", # \"25k\", \"5k\", \"1k\", \"2014\"\n",
    "    \"scale\": \"scale\", # \"scale\", \"do-not-scale\",\n",
    "    #\"stratify_split\": \"target\", # \"none\", \"target\", \"protected-attribute\", \"both\",\n",
    "    \"model\": \"elasticnet\", # \"logreg\", \"penalized_logreg\", \"rf\", \"gbm\", \"elasticnet\"\n",
    "    \"cutoff\": [\"quantile_0.15\", \"quantile_0.30\"],\n",
    "    \"exclude_features\": \"age\", # \"none\", \"nationality\", \"sex\", \"nationality-sex\", \"age\"\n",
    "    \"exclude_subgroups\": \"keep-all\", # \"keep-all\", \"drop-non-german\"\n",
    "    \"eval_fairness_grouping\": [\"majority-minority\", \"nationality-all\"]\n",
    "}\n",
    "\n",
    "output_dir=\"./output\"\n",
    "seed=0"
   ]
  },
  {
   "cell_type": "code",
   "execution_count": 4,
   "id": "670cb520",
   "metadata": {
    "execution": {
     "iopub.execute_input": "2025-07-28T10:41:23.888747Z",
     "iopub.status.busy": "2025-07-28T10:41:23.888110Z",
     "iopub.status.idle": "2025-07-28T10:41:23.893538Z",
     "shell.execute_reply": "2025-07-28T10:41:23.892535Z"
    },
    "papermill": {
     "duration": 0.026396,
     "end_time": "2025-07-28T10:41:23.895300",
     "exception": false,
     "start_time": "2025-07-28T10:41:23.868904",
     "status": "completed"
    },
    "tags": [
     "injected-parameters"
    ]
   },
   "outputs": [],
   "source": [
    "# Parameters\n",
    "universe_id = \"0f7eccd16e87546095227655cb777b81\"\n",
    "run_no = \"11\"\n",
    "universe = \"{\\\"cutoff\\\": [\\\"quantile_0.1\\\", \\\"quantile_0.25\\\"], \\\"eval_fairness_grouping\\\": [\\\"majority-minority\\\", \\\"nationality-all\\\"], \\\"exclude_features\\\": \\\"none\\\", \\\"exclude_subgroups\\\": \\\"keep-all\\\", \\\"model\\\": \\\"logreg\\\", \\\"scale\\\": \\\"scale\\\", \\\"training_size\\\": \\\"1k\\\"}\"\n",
    "output_dir = \"output\"\n",
    "seed = \"2023\"\n"
   ]
  },
  {
   "cell_type": "code",
   "execution_count": 5,
   "id": "1650acaf",
   "metadata": {
    "execution": {
     "iopub.execute_input": "2025-07-28T10:41:23.933021Z",
     "iopub.status.busy": "2025-07-28T10:41:23.932268Z",
     "iopub.status.idle": "2025-07-28T10:41:23.937732Z",
     "shell.execute_reply": "2025-07-28T10:41:23.936807Z"
    },
    "papermill": {
     "duration": 0.025852,
     "end_time": "2025-07-28T10:41:23.939421",
     "exception": false,
     "start_time": "2025-07-28T10:41:23.913569",
     "status": "completed"
    },
    "tags": []
   },
   "outputs": [],
   "source": [
    "import json\n",
    "# Parse universe into dict if it is passed as a string\n",
    "if isinstance(universe, str):\n",
    "    universe = json.loads(universe)"
   ]
  },
  {
   "cell_type": "code",
   "execution_count": 6,
   "id": "16620c48",
   "metadata": {
    "execution": {
     "iopub.execute_input": "2025-07-28T10:41:23.978404Z",
     "iopub.status.busy": "2025-07-28T10:41:23.977542Z",
     "iopub.status.idle": "2025-07-28T10:41:24.028831Z",
     "shell.execute_reply": "2025-07-28T10:41:24.027822Z"
    },
    "papermill": {
     "duration": 0.072455,
     "end_time": "2025-07-28T10:41:24.030674",
     "exception": false,
     "start_time": "2025-07-28T10:41:23.958219",
     "status": "completed"
    },
    "tags": []
   },
   "outputs": [],
   "source": [
    "# Auto-reload the custom package\n",
    "%load_ext autoreload\n",
    "%autoreload 1\n",
    "%aimport fairness_multiverse"
   ]
  },
  {
   "cell_type": "code",
   "execution_count": 7,
   "id": "01c5c9f3",
   "metadata": {
    "execution": {
     "iopub.execute_input": "2025-07-28T10:41:24.071968Z",
     "iopub.status.busy": "2025-07-28T10:41:24.070103Z",
     "iopub.status.idle": "2025-07-28T10:41:26.117494Z",
     "shell.execute_reply": "2025-07-28T10:41:26.116385Z"
    },
    "papermill": {
     "duration": 2.069801,
     "end_time": "2025-07-28T10:41:26.119431",
     "exception": false,
     "start_time": "2025-07-28T10:41:24.049630",
     "status": "completed"
    },
    "tags": []
   },
   "outputs": [],
   "source": [
    "from fairness_multiverse.universe import UniverseAnalysis\n",
    "\n",
    "universe_analysis = UniverseAnalysis(\n",
    "    run_no = run_no,\n",
    "    universe_id = universe_id,\n",
    "    universe = universe,\n",
    "    output_dir=output_dir,\n",
    ")"
   ]
  },
  {
   "cell_type": "code",
   "execution_count": 8,
   "id": "106241f5",
   "metadata": {
    "execution": {
     "iopub.execute_input": "2025-07-28T10:41:26.158452Z",
     "iopub.status.busy": "2025-07-28T10:41:26.158026Z",
     "iopub.status.idle": "2025-07-28T10:41:26.164634Z",
     "shell.execute_reply": "2025-07-28T10:41:26.163547Z"
    },
    "papermill": {
     "duration": 0.027769,
     "end_time": "2025-07-28T10:41:26.166260",
     "exception": false,
     "start_time": "2025-07-28T10:41:26.138491",
     "status": "completed"
    },
    "tags": []
   },
   "outputs": [
    {
     "name": "stdout",
     "output_type": "stream",
     "text": [
      "Using Seed: 2023\n"
     ]
    }
   ],
   "source": [
    "import numpy as np\n",
    "parsed_seed = int(seed)\n",
    "np.random.seed(parsed_seed)\n",
    "print(f\"Using Seed: {parsed_seed}\")"
   ]
  },
  {
   "cell_type": "markdown",
   "id": "e0ebdc57",
   "metadata": {
    "papermill": {
     "duration": 0.018546,
     "end_time": "2025-07-28T10:41:26.203794",
     "exception": false,
     "start_time": "2025-07-28T10:41:26.185248",
     "status": "completed"
    },
    "tags": []
   },
   "source": [
    "# Loading Data"
   ]
  },
  {
   "cell_type": "markdown",
   "id": "681925a3",
   "metadata": {
    "papermill": {
     "duration": 0.018471,
     "end_time": "2025-07-28T10:41:26.240957",
     "exception": false,
     "start_time": "2025-07-28T10:41:26.222486",
     "status": "completed"
    },
    "tags": []
   },
   "source": [
    "Load siab_train, siab_test, siab_calib and/or \n",
    "load siab_train_features, siab_train_labels"
   ]
  },
  {
   "cell_type": "code",
   "execution_count": 9,
   "id": "f0496b8a",
   "metadata": {
    "execution": {
     "iopub.execute_input": "2025-07-28T10:41:26.283001Z",
     "iopub.status.busy": "2025-07-28T10:41:26.282047Z",
     "iopub.status.idle": "2025-07-28T10:41:37.727743Z",
     "shell.execute_reply": "2025-07-28T10:41:37.726730Z"
    },
    "papermill": {
     "duration": 11.468566,
     "end_time": "2025-07-28T10:41:37.729273",
     "exception": false,
     "start_time": "2025-07-28T10:41:26.260707",
     "status": "completed"
    },
    "tags": []
   },
   "outputs": [
    {
     "name": "stdout",
     "output_type": "stream",
     "text": [
      "Loading SIAB data from cache: data/siab_cached.csv.gz\n"
     ]
    },
    {
     "name": "stdout",
     "output_type": "stream",
     "text": [
      "(643690, 164)\n"
     ]
    }
   ],
   "source": [
    "from pathlib import Path\n",
    "import pandas as pd\n",
    "\n",
    "# File paths\n",
    "raw_file = Path(\"data/raw/siab.csv\")\n",
    "cache_file = Path(\"data/siab_cached.csv.gz\")\n",
    "\n",
    "# Ensure cache directory exists\n",
    "cache_file.parent.mkdir(parents=True, exist_ok=True)\n",
    "\n",
    "# Load with simple caching\n",
    "if cache_file.exists():\n",
    "    print(f\"Loading SIAB data from cache: {cache_file}\")\n",
    "    siab = pd.read_csv(cache_file, compression='gzip')\n",
    "else:\n",
    "    print(f\"Cache not found. Reading raw SIAB data: {raw_file}\")\n",
    "    siab = pd.read_csv(raw_file)\n",
    "    siab.to_csv(cache_file, index=False, compression='gzip')\n",
    "    print(f\"Cached SIAB data to: {cache_file}\")\n",
    "\n",
    "# Now use `siab` DataFrame as needed\n",
    "print(siab.shape)"
   ]
  },
  {
   "cell_type": "code",
   "execution_count": 10,
   "id": "db0ca512-5f53-4dba-abdb-a2888bca41ba",
   "metadata": {
    "execution": {
     "iopub.execute_input": "2025-07-28T10:41:37.753879Z",
     "iopub.status.busy": "2025-07-28T10:41:37.753538Z",
     "iopub.status.idle": "2025-07-28T10:41:37.758328Z",
     "shell.execute_reply": "2025-07-28T10:41:37.757588Z"
    },
    "papermill": {
     "duration": 0.017477,
     "end_time": "2025-07-28T10:41:37.759730",
     "exception": false,
     "start_time": "2025-07-28T10:41:37.742253",
     "status": "completed"
    },
    "tags": []
   },
   "outputs": [],
   "source": [
    "#siab"
   ]
  },
  {
   "cell_type": "code",
   "execution_count": 11,
   "id": "a0edb063",
   "metadata": {
    "execution": {
     "iopub.execute_input": "2025-07-28T10:41:37.783311Z",
     "iopub.status.busy": "2025-07-28T10:41:37.782754Z",
     "iopub.status.idle": "2025-07-28T10:41:37.788598Z",
     "shell.execute_reply": "2025-07-28T10:41:37.787605Z"
    },
    "papermill": {
     "duration": 0.020003,
     "end_time": "2025-07-28T10:41:37.790644",
     "exception": false,
     "start_time": "2025-07-28T10:41:37.770641",
     "status": "completed"
    },
    "tags": []
   },
   "outputs": [],
   "source": [
    "#import pandas as pd\n",
    "#\n",
    "#X_train = pd.read_csv(\"./data/X_train.csv\")\n",
    "#y_train = pd.read_csv(\"./data/y_train.csv\")"
   ]
  },
  {
   "cell_type": "code",
   "execution_count": 12,
   "id": "63d08085",
   "metadata": {
    "execution": {
     "iopub.execute_input": "2025-07-28T10:41:37.817748Z",
     "iopub.status.busy": "2025-07-28T10:41:37.817350Z",
     "iopub.status.idle": "2025-07-28T10:41:37.821269Z",
     "shell.execute_reply": "2025-07-28T10:41:37.820511Z"
    },
    "papermill": {
     "duration": 0.017215,
     "end_time": "2025-07-28T10:41:37.822797",
     "exception": false,
     "start_time": "2025-07-28T10:41:37.805582",
     "status": "completed"
    },
    "tags": []
   },
   "outputs": [],
   "source": [
    "#X_test = pd.read_csv(\"./data/X_test.csv\")\n",
    "#y_true = pd.read_csv(\"./data/y_test.csv\")"
   ]
  },
  {
   "cell_type": "code",
   "execution_count": 13,
   "id": "98a8d0fa-1d3d-4ed8-bb2c-281470e24add",
   "metadata": {
    "execution": {
     "iopub.execute_input": "2025-07-28T10:41:37.845488Z",
     "iopub.status.busy": "2025-07-28T10:41:37.845046Z",
     "iopub.status.idle": "2025-07-28T10:41:37.849114Z",
     "shell.execute_reply": "2025-07-28T10:41:37.848364Z"
    },
    "papermill": {
     "duration": 0.01649,
     "end_time": "2025-07-28T10:41:37.850427",
     "exception": false,
     "start_time": "2025-07-28T10:41:37.833937",
     "status": "completed"
    },
    "tags": []
   },
   "outputs": [],
   "source": [
    "# Calibration data for conformal\n",
    "#X_calib = pd.read_csv(\"./data/X_calib.csv\")\n",
    "#y_calib = pd.read_csv(\"./data/y_calib.csv\")"
   ]
  },
  {
   "cell_type": "markdown",
   "id": "9901737e-04df-44f0-9100-f5ad144ed040",
   "metadata": {
    "papermill": {
     "duration": 0.020337,
     "end_time": "2025-07-28T10:41:37.890536",
     "exception": false,
     "start_time": "2025-07-28T10:41:37.870199",
     "status": "completed"
    },
    "tags": []
   },
   "source": [
    "# Splitting Data and Setting Training Data Size"
   ]
  },
  {
   "cell_type": "code",
   "execution_count": 14,
   "id": "acbc8f7d-8fc8-4e86-8c59-5dcb0f58384b",
   "metadata": {
    "execution": {
     "iopub.execute_input": "2025-07-28T10:41:37.933409Z",
     "iopub.status.busy": "2025-07-28T10:41:37.932940Z",
     "iopub.status.idle": "2025-07-28T10:41:37.941039Z",
     "shell.execute_reply": "2025-07-28T10:41:37.939924Z"
    },
    "papermill": {
     "duration": 0.031787,
     "end_time": "2025-07-28T10:41:37.942801",
     "exception": false,
     "start_time": "2025-07-28T10:41:37.911014",
     "status": "completed"
    },
    "tags": []
   },
   "outputs": [],
   "source": [
    "def sample_by_year(df, training_size, random_state=42):\n",
    "    if training_size == \"2014\":\n",
    "        return df[df[\"year\"] == 2014].reset_index(drop=True)\n",
    "    \n",
    "    size_map = {\n",
    "        \"25k\": 5000,\n",
    "        \"5k\": 1000,\n",
    "        \"1k\": 200\n",
    "    }\n",
    "\n",
    "    if training_size not in size_map:\n",
    "        return df.reset_index(drop=True)  # use all data\n",
    "\n",
    "    n_per_year = size_map[training_size]\n",
    "    grouped = df.groupby(\"year\")\n",
    "    sampled = grouped.apply(lambda x: x.sample(n=min(n_per_year, len(x)), random_state=random_state))\n",
    "    return sampled.reset_index(drop=True)"
   ]
  },
  {
   "cell_type": "code",
   "execution_count": 15,
   "id": "6d931f52-beaf-43ff-9e78-9d44a448d54e",
   "metadata": {
    "execution": {
     "iopub.execute_input": "2025-07-28T10:41:37.988853Z",
     "iopub.status.busy": "2025-07-28T10:41:37.987978Z",
     "iopub.status.idle": "2025-07-28T10:41:38.616066Z",
     "shell.execute_reply": "2025-07-28T10:41:38.615000Z"
    },
    "papermill": {
     "duration": 0.653051,
     "end_time": "2025-07-28T10:41:38.618382",
     "exception": false,
     "start_time": "2025-07-28T10:41:37.965331",
     "status": "completed"
    },
    "tags": []
   },
   "outputs": [],
   "source": [
    "siab_s = sample_by_year(siab, universe[\"training_size\"])"
   ]
  },
  {
   "cell_type": "code",
   "execution_count": 16,
   "id": "5db0a40e-a4e2-4920-be85-b12ae061d70d",
   "metadata": {
    "execution": {
     "iopub.execute_input": "2025-07-28T10:41:38.667640Z",
     "iopub.status.busy": "2025-07-28T10:41:38.666961Z",
     "iopub.status.idle": "2025-07-28T10:41:38.681167Z",
     "shell.execute_reply": "2025-07-28T10:41:38.680138Z"
    },
    "papermill": {
     "duration": 0.040367,
     "end_time": "2025-07-28T10:41:38.683077",
     "exception": false,
     "start_time": "2025-07-28T10:41:38.642710",
     "status": "completed"
    },
    "tags": []
   },
   "outputs": [
    {
     "data": {
      "text/plain": [
       "year\n",
       "2010    200\n",
       "2011    200\n",
       "2012    200\n",
       "2013    200\n",
       "2014    200\n",
       "2015    200\n",
       "2016    200\n",
       "dtype: int64"
      ]
     },
     "metadata": {},
     "output_type": "display_data"
    }
   ],
   "source": [
    "display(siab_s.groupby(\"year\").size())"
   ]
  },
  {
   "cell_type": "code",
   "execution_count": 17,
   "id": "a561edb4-d032-42cb-8256-22eac1111c64",
   "metadata": {
    "execution": {
     "iopub.execute_input": "2025-07-28T10:41:38.732221Z",
     "iopub.status.busy": "2025-07-28T10:41:38.731508Z",
     "iopub.status.idle": "2025-07-28T10:41:38.957176Z",
     "shell.execute_reply": "2025-07-28T10:41:38.955970Z"
    },
    "papermill": {
     "duration": 0.252004,
     "end_time": "2025-07-28T10:41:38.959377",
     "exception": false,
     "start_time": "2025-07-28T10:41:38.707373",
     "status": "completed"
    },
    "tags": []
   },
   "outputs": [],
   "source": [
    "siab_train = siab_s[siab_s.year < 2015]\n",
    "siab_calib = siab[siab.year == 2015]\n",
    "siab_test = siab[siab.year == 2016]"
   ]
  },
  {
   "cell_type": "code",
   "execution_count": 18,
   "id": "472de16f-c3db-4916-846b-1f0de9cf1746",
   "metadata": {
    "execution": {
     "iopub.execute_input": "2025-07-28T10:41:39.009779Z",
     "iopub.status.busy": "2025-07-28T10:41:39.009143Z",
     "iopub.status.idle": "2025-07-28T10:41:39.016560Z",
     "shell.execute_reply": "2025-07-28T10:41:39.015444Z"
    },
    "papermill": {
     "duration": 0.033884,
     "end_time": "2025-07-28T10:41:39.018368",
     "exception": false,
     "start_time": "2025-07-28T10:41:38.984484",
     "status": "completed"
    },
    "tags": []
   },
   "outputs": [],
   "source": [
    "X_train = siab_train.iloc[:,4:164]\n",
    "y_train = siab_train.iloc[:, [3]]"
   ]
  },
  {
   "cell_type": "code",
   "execution_count": 19,
   "id": "828c96af-f43a-4ed6-ba47-8ac73a47d56c",
   "metadata": {
    "execution": {
     "iopub.execute_input": "2025-07-28T10:41:39.069603Z",
     "iopub.status.busy": "2025-07-28T10:41:39.068927Z",
     "iopub.status.idle": "2025-07-28T10:41:39.127028Z",
     "shell.execute_reply": "2025-07-28T10:41:39.125827Z"
    },
    "papermill": {
     "duration": 0.085966,
     "end_time": "2025-07-28T10:41:39.129124",
     "exception": false,
     "start_time": "2025-07-28T10:41:39.043158",
     "status": "completed"
    },
    "tags": []
   },
   "outputs": [],
   "source": [
    "X_calib = siab_calib.iloc[:,4:164]\n",
    "y_calib = siab_calib.iloc[:, [3]]"
   ]
  },
  {
   "cell_type": "code",
   "execution_count": 20,
   "id": "c34be9c3-6bd6-476e-acd3-845840e303be",
   "metadata": {
    "execution": {
     "iopub.execute_input": "2025-07-28T10:41:39.179708Z",
     "iopub.status.busy": "2025-07-28T10:41:39.179044Z",
     "iopub.status.idle": "2025-07-28T10:41:39.231369Z",
     "shell.execute_reply": "2025-07-28T10:41:39.230245Z"
    },
    "papermill": {
     "duration": 0.07933,
     "end_time": "2025-07-28T10:41:39.233534",
     "exception": false,
     "start_time": "2025-07-28T10:41:39.154204",
     "status": "completed"
    },
    "tags": []
   },
   "outputs": [],
   "source": [
    "X_test = siab_test.iloc[:,4:164]\n",
    "y_true = siab_test.iloc[:, [3]]"
   ]
  },
  {
   "cell_type": "code",
   "execution_count": 21,
   "id": "e6c733c5",
   "metadata": {
    "execution": {
     "iopub.execute_input": "2025-07-28T10:41:39.283881Z",
     "iopub.status.busy": "2025-07-28T10:41:39.283309Z",
     "iopub.status.idle": "2025-07-28T10:41:39.378172Z",
     "shell.execute_reply": "2025-07-28T10:41:39.377021Z"
    },
    "papermill": {
     "duration": 0.121921,
     "end_time": "2025-07-28T10:41:39.380397",
     "exception": false,
     "start_time": "2025-07-28T10:41:39.258476",
     "status": "completed"
    },
    "tags": []
   },
   "outputs": [],
   "source": [
    "# Auxiliary data needed downstream in the pipeline\n",
    "\n",
    "org_train = X_train.copy()\n",
    "org_test = X_test.copy()\n",
    "org_calib = X_calib.copy()"
   ]
  },
  {
   "cell_type": "markdown",
   "id": "0a4a1b33",
   "metadata": {
    "papermill": {
     "duration": 0.024149,
     "end_time": "2025-07-28T10:41:39.429381",
     "exception": false,
     "start_time": "2025-07-28T10:41:39.405232",
     "status": "completed"
    },
    "tags": []
   },
   "source": [
    "# Preprocessing Data"
   ]
  },
  {
   "cell_type": "code",
   "execution_count": 22,
   "id": "ca879031",
   "metadata": {
    "execution": {
     "iopub.execute_input": "2025-07-28T10:41:39.478595Z",
     "iopub.status.busy": "2025-07-28T10:41:39.477918Z",
     "iopub.status.idle": "2025-07-28T10:41:39.484115Z",
     "shell.execute_reply": "2025-07-28T10:41:39.483112Z"
    },
    "papermill": {
     "duration": 0.032944,
     "end_time": "2025-07-28T10:41:39.486006",
     "exception": false,
     "start_time": "2025-07-28T10:41:39.453062",
     "status": "completed"
    },
    "tags": []
   },
   "outputs": [],
   "source": [
    "# EXCLUDE PROTECTED FEATURES\n",
    "# ----------------------\n",
    "# \"exclude_features\": \"none\", # \"nationality\", \"sex\", \"nationality-sex\"\n",
    "\n",
    "excluded_features = universe[\"exclude_features\"].split(\"-\") # split, e.g.: \"nationality-sex\" -> [\"nationality\", \"sex\"]\n",
    "excluded_features_dictionary = {\n",
    "    \"nationality\": [\"maxdeutsch1\", \"maxdeutsch.Missing.\"],\n",
    "    \"sex\": [\"frau1\"],\n",
    "    \"age\": [\"age\"],\n",
    "}\n"
   ]
  },
  {
   "cell_type": "code",
   "execution_count": 23,
   "id": "b745ac60",
   "metadata": {
    "execution": {
     "iopub.execute_input": "2025-07-28T10:41:39.535756Z",
     "iopub.status.busy": "2025-07-28T10:41:39.535414Z",
     "iopub.status.idle": "2025-07-28T10:41:39.541304Z",
     "shell.execute_reply": "2025-07-28T10:41:39.540166Z"
    },
    "papermill": {
     "duration": 0.032254,
     "end_time": "2025-07-28T10:41:39.542859",
     "exception": false,
     "start_time": "2025-07-28T10:41:39.510605",
     "status": "completed"
    },
    "tags": []
   },
   "outputs": [],
   "source": [
    "# Code nice names to column names\n",
    "\n",
    "excluded_features_columns = [\n",
    "    excluded_features_dictionary[f] for f in excluded_features if len(f) > 0 and f != \"none\"\n",
    "]"
   ]
  },
  {
   "cell_type": "code",
   "execution_count": 24,
   "id": "f84f73a2",
   "metadata": {
    "execution": {
     "iopub.execute_input": "2025-07-28T10:41:39.585556Z",
     "iopub.status.busy": "2025-07-28T10:41:39.584574Z",
     "iopub.status.idle": "2025-07-28T10:41:39.591428Z",
     "shell.execute_reply": "2025-07-28T10:41:39.590516Z"
    },
    "papermill": {
     "duration": 0.029848,
     "end_time": "2025-07-28T10:41:39.593216",
     "exception": false,
     "start_time": "2025-07-28T10:41:39.563368",
     "status": "completed"
    },
    "tags": []
   },
   "outputs": [],
   "source": [
    "from utils import flatten_once\n",
    "\n",
    "excluded_features_columns = flatten_once(excluded_features_columns)"
   ]
  },
  {
   "cell_type": "code",
   "execution_count": 25,
   "id": "884dea22",
   "metadata": {
    "execution": {
     "iopub.execute_input": "2025-07-28T10:41:39.635631Z",
     "iopub.status.busy": "2025-07-28T10:41:39.634883Z",
     "iopub.status.idle": "2025-07-28T10:41:39.641111Z",
     "shell.execute_reply": "2025-07-28T10:41:39.640094Z"
    },
    "papermill": {
     "duration": 0.029022,
     "end_time": "2025-07-28T10:41:39.642636",
     "exception": false,
     "start_time": "2025-07-28T10:41:39.613614",
     "status": "completed"
    },
    "tags": []
   },
   "outputs": [],
   "source": [
    "if len(excluded_features_columns) > 0:\n",
    "    print(f\"Dropping features: {excluded_features_columns}\")\n",
    "    X_train.drop(excluded_features_columns, axis=1, inplace=True)"
   ]
  },
  {
   "cell_type": "code",
   "execution_count": 26,
   "id": "95ab8b16",
   "metadata": {
    "execution": {
     "iopub.execute_input": "2025-07-28T10:41:39.685343Z",
     "iopub.status.busy": "2025-07-28T10:41:39.684721Z",
     "iopub.status.idle": "2025-07-28T10:41:39.690628Z",
     "shell.execute_reply": "2025-07-28T10:41:39.689635Z"
    },
    "papermill": {
     "duration": 0.028635,
     "end_time": "2025-07-28T10:41:39.692351",
     "exception": false,
     "start_time": "2025-07-28T10:41:39.663716",
     "status": "completed"
    },
    "tags": []
   },
   "outputs": [],
   "source": [
    "if len(excluded_features_columns) > 0:\n",
    "    print(f\"Dropping features: {excluded_features_columns}\")\n",
    "    X_test.drop(excluded_features_columns, axis=1, inplace=True)"
   ]
  },
  {
   "cell_type": "code",
   "execution_count": 27,
   "id": "1853aaf5-fb9f-46cb-a2b5-8ea4ae2237e4",
   "metadata": {
    "execution": {
     "iopub.execute_input": "2025-07-28T10:41:39.734622Z",
     "iopub.status.busy": "2025-07-28T10:41:39.733988Z",
     "iopub.status.idle": "2025-07-28T10:41:39.740125Z",
     "shell.execute_reply": "2025-07-28T10:41:39.738988Z"
    },
    "papermill": {
     "duration": 0.028925,
     "end_time": "2025-07-28T10:41:39.741947",
     "exception": false,
     "start_time": "2025-07-28T10:41:39.713022",
     "status": "completed"
    },
    "tags": []
   },
   "outputs": [],
   "source": [
    "if len(excluded_features_columns) > 0:\n",
    "    print(f\"Dropping features: {excluded_features_columns}\")\n",
    "    X_calib.drop(excluded_features_columns, axis=1, inplace=True)"
   ]
  },
  {
   "cell_type": "code",
   "execution_count": 28,
   "id": "6727d079-03e5-481e-9d38-292a90b7a0a8",
   "metadata": {
    "execution": {
     "iopub.execute_input": "2025-07-28T10:41:39.784284Z",
     "iopub.status.busy": "2025-07-28T10:41:39.783472Z",
     "iopub.status.idle": "2025-07-28T10:41:39.788528Z",
     "shell.execute_reply": "2025-07-28T10:41:39.787537Z"
    },
    "papermill": {
     "duration": 0.027761,
     "end_time": "2025-07-28T10:41:39.790073",
     "exception": false,
     "start_time": "2025-07-28T10:41:39.762312",
     "status": "completed"
    },
    "tags": []
   },
   "outputs": [],
   "source": [
    "# SPLIT & STRATIFY DATA\n",
    "# ----------------------"
   ]
  },
  {
   "cell_type": "code",
   "execution_count": 29,
   "id": "76c4dc6d",
   "metadata": {
    "execution": {
     "iopub.execute_input": "2025-07-28T10:41:39.832774Z",
     "iopub.status.busy": "2025-07-28T10:41:39.832077Z",
     "iopub.status.idle": "2025-07-28T10:41:39.837121Z",
     "shell.execute_reply": "2025-07-28T10:41:39.836172Z"
    },
    "papermill": {
     "duration": 0.027968,
     "end_time": "2025-07-28T10:41:39.838714",
     "exception": false,
     "start_time": "2025-07-28T10:41:39.810746",
     "status": "completed"
    },
    "tags": []
   },
   "outputs": [],
   "source": [
    "# EXCLUDE CERTAIN SUBGROUPS\n",
    "# ----------------------\n",
    "\n",
    "mode = universe.get(\"exclude_subgroups\", \"keep-all\") \n",
    "# Fetches the exclude_subgroups setting from the universe dict.\n",
    "# Defaults to \"keep-all\" if the key is missing."
   ]
  },
  {
   "cell_type": "code",
   "execution_count": 30,
   "id": "21994072",
   "metadata": {
    "execution": {
     "iopub.execute_input": "2025-07-28T10:41:39.881525Z",
     "iopub.status.busy": "2025-07-28T10:41:39.880876Z",
     "iopub.status.idle": "2025-07-28T10:41:39.888163Z",
     "shell.execute_reply": "2025-07-28T10:41:39.886970Z"
    },
    "papermill": {
     "duration": 0.030319,
     "end_time": "2025-07-28T10:41:39.889790",
     "exception": false,
     "start_time": "2025-07-28T10:41:39.859471",
     "status": "completed"
    },
    "tags": []
   },
   "outputs": [],
   "source": [
    "if mode == \"keep-all\":\n",
    "    keep_mask = pd.Series(True, index=org_train.index)\n",
    "\n",
    "# org_train contains the original feature columns from features_org (in Simson)\n",
    "# features_org contains unprocessed features, for me X_train at beginning ???\n",
    "# For keep-all, creates a boolean Series (keep_mask) of all True, so no rows are removed.\n",
    "\n",
    "elif mode == \"drop-non-german\":\n",
    "    keep_mask = org_train[\"maxdeutsch1\"] == 1 # ??? what about missing values?\n",
    "\n",
    "else:\n",
    "    raise ValueError(f\"Unsupported mode for exclude_subgroups: {mode}\")\n"
   ]
  },
  {
   "cell_type": "code",
   "execution_count": 31,
   "id": "71651440",
   "metadata": {
    "execution": {
     "iopub.execute_input": "2025-07-28T10:41:39.933039Z",
     "iopub.status.busy": "2025-07-28T10:41:39.932273Z",
     "iopub.status.idle": "2025-07-28T10:41:39.938797Z",
     "shell.execute_reply": "2025-07-28T10:41:39.937898Z"
    },
    "papermill": {
     "duration": 0.029788,
     "end_time": "2025-07-28T10:41:39.940574",
     "exception": false,
     "start_time": "2025-07-28T10:41:39.910786",
     "status": "completed"
    },
    "tags": []
   },
   "outputs": [],
   "source": [
    "n_drop = (~keep_mask).sum() # Calculates how many rows are set to be dropped\n",
    "if n_drop > 0:\n",
    "    pct = n_drop / len(keep_mask) * 100\n",
    "    print(f\"Dropping {n_drop} rows ({pct:.2f}%) where mode='{mode}'\")"
   ]
  },
  {
   "cell_type": "code",
   "execution_count": 32,
   "id": "5fb8eee5",
   "metadata": {
    "execution": {
     "iopub.execute_input": "2025-07-28T10:41:39.984077Z",
     "iopub.status.busy": "2025-07-28T10:41:39.983288Z",
     "iopub.status.idle": "2025-07-28T10:41:39.989704Z",
     "shell.execute_reply": "2025-07-28T10:41:39.988635Z"
    },
    "papermill": {
     "duration": 0.030045,
     "end_time": "2025-07-28T10:41:39.991319",
     "exception": false,
     "start_time": "2025-07-28T10:41:39.961274",
     "status": "completed"
    },
    "tags": []
   },
   "outputs": [],
   "source": [
    "X_train = X_train[keep_mask]"
   ]
  },
  {
   "cell_type": "code",
   "execution_count": 33,
   "id": "b202bb3a",
   "metadata": {
    "execution": {
     "iopub.execute_input": "2025-07-28T10:41:40.026247Z",
     "iopub.status.busy": "2025-07-28T10:41:40.025815Z",
     "iopub.status.idle": "2025-07-28T10:41:40.031141Z",
     "shell.execute_reply": "2025-07-28T10:41:40.030378Z"
    },
    "papermill": {
     "duration": 0.02033,
     "end_time": "2025-07-28T10:41:40.032592",
     "exception": false,
     "start_time": "2025-07-28T10:41:40.012262",
     "status": "completed"
    },
    "tags": []
   },
   "outputs": [],
   "source": [
    "y_train = y_train[keep_mask]"
   ]
  },
  {
   "cell_type": "markdown",
   "id": "493e2ac3",
   "metadata": {
    "papermill": {
     "duration": 0.011602,
     "end_time": "2025-07-28T10:41:40.056780",
     "exception": false,
     "start_time": "2025-07-28T10:41:40.045178",
     "status": "completed"
    },
    "tags": []
   },
   "source": [
    "# Model Training"
   ]
  },
  {
   "cell_type": "code",
   "execution_count": 34,
   "id": "679e1268",
   "metadata": {
    "execution": {
     "iopub.execute_input": "2025-07-28T10:41:40.082169Z",
     "iopub.status.busy": "2025-07-28T10:41:40.081326Z",
     "iopub.status.idle": "2025-07-28T10:41:40.159372Z",
     "shell.execute_reply": "2025-07-28T10:41:40.158587Z"
    },
    "papermill": {
     "duration": 0.092101,
     "end_time": "2025-07-28T10:41:40.160901",
     "exception": false,
     "start_time": "2025-07-28T10:41:40.068800",
     "status": "completed"
    },
    "tags": []
   },
   "outputs": [],
   "source": [
    "from sklearn.linear_model import LogisticRegression\n",
    "from sklearn.ensemble import GradientBoostingClassifier, RandomForestClassifier\n",
    "\n",
    "if (universe[\"model\"] == \"logreg\"):\n",
    "    model = LogisticRegression() #penalty=\"none\") #, solver=\"newton-cg\", max_iter=1) # include random_state=19 ?\n",
    "elif (universe[\"model\"] == \"penalized_logreg\"):\n",
    "    model = LogisticRegression(penalty=\"l2\", C=1.0) #, solver=\"newton-cg\", max_iter=1)\n",
    "elif (universe[\"model\"] == \"rf\"):\n",
    "    model = RandomForestClassifier(n_estimators=100, n_jobs=-1)\n",
    "elif (universe[\"model\"] == \"gbm\"):\n",
    "    model = GradientBoostingClassifier()\n",
    "elif (universe[\"model\"] == \"elasticnet\"):\n",
    "    model = LogisticRegression(penalty = 'elasticnet', solver = 'saga', l1_ratio = 0.5, max_iter=5000) # which solver to use?\n",
    "else:\n",
    "    raise \"Unsupported universe.model\""
   ]
  },
  {
   "cell_type": "code",
   "execution_count": 35,
   "id": "0cc8f744",
   "metadata": {
    "execution": {
     "iopub.execute_input": "2025-07-28T10:41:40.185999Z",
     "iopub.status.busy": "2025-07-28T10:41:40.185415Z",
     "iopub.status.idle": "2025-07-28T10:41:40.190751Z",
     "shell.execute_reply": "2025-07-28T10:41:40.189979Z"
    },
    "papermill": {
     "duration": 0.018993,
     "end_time": "2025-07-28T10:41:40.192265",
     "exception": false,
     "start_time": "2025-07-28T10:41:40.173272",
     "status": "completed"
    },
    "tags": []
   },
   "outputs": [],
   "source": [
    "import numpy as np\n",
    "from sklearn.pipeline import Pipeline\n",
    "from sklearn.preprocessing import StandardScaler\n",
    "\n",
    "model = Pipeline([\n",
    "    #(\"continuous_processor\", continuous_processor),\n",
    "    #(\"categorical_preprocessor\", categorical_preprocessor),\n",
    "    (\"scale\", StandardScaler() if universe[\"scale\"] == \"scale\" else None), \n",
    "    (\"model\", model),\n",
    "])"
   ]
  },
  {
   "cell_type": "code",
   "execution_count": 36,
   "id": "9442c04d",
   "metadata": {
    "execution": {
     "iopub.execute_input": "2025-07-28T10:41:40.217376Z",
     "iopub.status.busy": "2025-07-28T10:41:40.216806Z",
     "iopub.status.idle": "2025-07-28T10:41:40.267698Z",
     "shell.execute_reply": "2025-07-28T10:41:40.266718Z"
    },
    "papermill": {
     "duration": 0.065038,
     "end_time": "2025-07-28T10:41:40.269414",
     "exception": false,
     "start_time": "2025-07-28T10:41:40.204376",
     "status": "completed"
    },
    "tags": []
   },
   "outputs": [
    {
     "name": "stderr",
     "output_type": "stream",
     "text": [
      "/dss/dsshome1/0C/ra93lal2/.local/share/virtualenvs/CMA_Fairness_v2-3j10GkSs/lib/python3.10/site-packages/sklearn/linear_model/_logistic.py:444: ConvergenceWarning: lbfgs failed to converge (status=1):\n",
      "STOP: TOTAL NO. of ITERATIONS REACHED LIMIT.\n",
      "\n",
      "Increase the number of iterations (max_iter) or scale the data as shown in:\n",
      "    https://scikit-learn.org/stable/modules/preprocessing.html\n",
      "Please also refer to the documentation for alternative solver options:\n",
      "    https://scikit-learn.org/stable/modules/linear_model.html#logistic-regression\n",
      "  n_iter_i = _check_optimize_result(\n"
     ]
    },
    {
     "data": {
      "text/html": [
       "<style>#sk-container-id-1 {color: black;background-color: white;}#sk-container-id-1 pre{padding: 0;}#sk-container-id-1 div.sk-toggleable {background-color: white;}#sk-container-id-1 label.sk-toggleable__label {cursor: pointer;display: block;width: 100%;margin-bottom: 0;padding: 0.3em;box-sizing: border-box;text-align: center;}#sk-container-id-1 label.sk-toggleable__label-arrow:before {content: \"▸\";float: left;margin-right: 0.25em;color: #696969;}#sk-container-id-1 label.sk-toggleable__label-arrow:hover:before {color: black;}#sk-container-id-1 div.sk-estimator:hover label.sk-toggleable__label-arrow:before {color: black;}#sk-container-id-1 div.sk-toggleable__content {max-height: 0;max-width: 0;overflow: hidden;text-align: left;background-color: #f0f8ff;}#sk-container-id-1 div.sk-toggleable__content pre {margin: 0.2em;color: black;border-radius: 0.25em;background-color: #f0f8ff;}#sk-container-id-1 input.sk-toggleable__control:checked~div.sk-toggleable__content {max-height: 200px;max-width: 100%;overflow: auto;}#sk-container-id-1 input.sk-toggleable__control:checked~label.sk-toggleable__label-arrow:before {content: \"▾\";}#sk-container-id-1 div.sk-estimator input.sk-toggleable__control:checked~label.sk-toggleable__label {background-color: #d4ebff;}#sk-container-id-1 div.sk-label input.sk-toggleable__control:checked~label.sk-toggleable__label {background-color: #d4ebff;}#sk-container-id-1 input.sk-hidden--visually {border: 0;clip: rect(1px 1px 1px 1px);clip: rect(1px, 1px, 1px, 1px);height: 1px;margin: -1px;overflow: hidden;padding: 0;position: absolute;width: 1px;}#sk-container-id-1 div.sk-estimator {font-family: monospace;background-color: #f0f8ff;border: 1px dotted black;border-radius: 0.25em;box-sizing: border-box;margin-bottom: 0.5em;}#sk-container-id-1 div.sk-estimator:hover {background-color: #d4ebff;}#sk-container-id-1 div.sk-parallel-item::after {content: \"\";width: 100%;border-bottom: 1px solid gray;flex-grow: 1;}#sk-container-id-1 div.sk-label:hover label.sk-toggleable__label {background-color: #d4ebff;}#sk-container-id-1 div.sk-serial::before {content: \"\";position: absolute;border-left: 1px solid gray;box-sizing: border-box;top: 0;bottom: 0;left: 50%;z-index: 0;}#sk-container-id-1 div.sk-serial {display: flex;flex-direction: column;align-items: center;background-color: white;padding-right: 0.2em;padding-left: 0.2em;position: relative;}#sk-container-id-1 div.sk-item {position: relative;z-index: 1;}#sk-container-id-1 div.sk-parallel {display: flex;align-items: stretch;justify-content: center;background-color: white;position: relative;}#sk-container-id-1 div.sk-item::before, #sk-container-id-1 div.sk-parallel-item::before {content: \"\";position: absolute;border-left: 1px solid gray;box-sizing: border-box;top: 0;bottom: 0;left: 50%;z-index: -1;}#sk-container-id-1 div.sk-parallel-item {display: flex;flex-direction: column;z-index: 1;position: relative;background-color: white;}#sk-container-id-1 div.sk-parallel-item:first-child::after {align-self: flex-end;width: 50%;}#sk-container-id-1 div.sk-parallel-item:last-child::after {align-self: flex-start;width: 50%;}#sk-container-id-1 div.sk-parallel-item:only-child::after {width: 0;}#sk-container-id-1 div.sk-dashed-wrapped {border: 1px dashed gray;margin: 0 0.4em 0.5em 0.4em;box-sizing: border-box;padding-bottom: 0.4em;background-color: white;}#sk-container-id-1 div.sk-label label {font-family: monospace;font-weight: bold;display: inline-block;line-height: 1.2em;}#sk-container-id-1 div.sk-label-container {text-align: center;}#sk-container-id-1 div.sk-container {/* jupyter's `normalize.less` sets `[hidden] { display: none; }` but bootstrap.min.css set `[hidden] { display: none !important; }` so we also need the `!important` here to be able to override the default hidden behavior on the sphinx rendered scikit-learn.org. See: https://github.com/scikit-learn/scikit-learn/issues/21755 */display: inline-block !important;position: relative;}#sk-container-id-1 div.sk-text-repr-fallback {display: none;}</style><div id=\"sk-container-id-1\" class=\"sk-top-container\"><div class=\"sk-text-repr-fallback\"><pre>Pipeline(steps=[(&#x27;scale&#x27;, StandardScaler()), (&#x27;model&#x27;, LogisticRegression())])</pre><b>In a Jupyter environment, please rerun this cell to show the HTML representation or trust the notebook. <br />On GitHub, the HTML representation is unable to render, please try loading this page with nbviewer.org.</b></div><div class=\"sk-container\" hidden><div class=\"sk-item sk-dashed-wrapped\"><div class=\"sk-label-container\"><div class=\"sk-label sk-toggleable\"><input class=\"sk-toggleable__control sk-hidden--visually\" id=\"sk-estimator-id-1\" type=\"checkbox\" ><label for=\"sk-estimator-id-1\" class=\"sk-toggleable__label sk-toggleable__label-arrow\">Pipeline</label><div class=\"sk-toggleable__content\"><pre>Pipeline(steps=[(&#x27;scale&#x27;, StandardScaler()), (&#x27;model&#x27;, LogisticRegression())])</pre></div></div></div><div class=\"sk-serial\"><div class=\"sk-item\"><div class=\"sk-estimator sk-toggleable\"><input class=\"sk-toggleable__control sk-hidden--visually\" id=\"sk-estimator-id-2\" type=\"checkbox\" ><label for=\"sk-estimator-id-2\" class=\"sk-toggleable__label sk-toggleable__label-arrow\">StandardScaler</label><div class=\"sk-toggleable__content\"><pre>StandardScaler()</pre></div></div></div><div class=\"sk-item\"><div class=\"sk-estimator sk-toggleable\"><input class=\"sk-toggleable__control sk-hidden--visually\" id=\"sk-estimator-id-3\" type=\"checkbox\" ><label for=\"sk-estimator-id-3\" class=\"sk-toggleable__label sk-toggleable__label-arrow\">LogisticRegression</label><div class=\"sk-toggleable__content\"><pre>LogisticRegression()</pre></div></div></div></div></div></div></div>"
      ],
      "text/plain": [
       "Pipeline(steps=[('scale', StandardScaler()), ('model', LogisticRegression())])"
      ]
     },
     "execution_count": 36,
     "metadata": {},
     "output_type": "execute_result"
    }
   ],
   "source": [
    "model.fit(X_train, y_train.values.ravel())"
   ]
  },
  {
   "cell_type": "code",
   "execution_count": 37,
   "id": "af59f8c0",
   "metadata": {
    "execution": {
     "iopub.execute_input": "2025-07-28T10:41:40.294234Z",
     "iopub.status.busy": "2025-07-28T10:41:40.293686Z",
     "iopub.status.idle": "2025-07-28T10:41:40.298426Z",
     "shell.execute_reply": "2025-07-28T10:41:40.297686Z"
    },
    "papermill": {
     "duration": 0.018307,
     "end_time": "2025-07-28T10:41:40.299809",
     "exception": false,
     "start_time": "2025-07-28T10:41:40.281502",
     "status": "completed"
    },
    "tags": []
   },
   "outputs": [],
   "source": [
    "from fairness_multiverse.universe import predict_w_threshold"
   ]
  },
  {
   "cell_type": "code",
   "execution_count": 38,
   "id": "a7cf2e16",
   "metadata": {
    "execution": {
     "iopub.execute_input": "2025-07-28T10:41:40.325442Z",
     "iopub.status.busy": "2025-07-28T10:41:40.324885Z",
     "iopub.status.idle": "2025-07-28T10:41:40.507112Z",
     "shell.execute_reply": "2025-07-28T10:41:40.506313Z"
    },
    "papermill": {
     "duration": 0.196029,
     "end_time": "2025-07-28T10:41:40.508488",
     "exception": false,
     "start_time": "2025-07-28T10:41:40.312459",
     "status": "completed"
    },
    "tags": []
   },
   "outputs": [
    {
     "data": {
      "text/plain": [
       "0.8172890424701817"
      ]
     },
     "execution_count": 38,
     "metadata": {},
     "output_type": "execute_result"
    }
   ],
   "source": [
    "probs_test = model.predict_proba(X_test)\n",
    "\n",
    "'''\n",
    "Below code returns a boolean array (or binary 0/1 array depending on how it’s used) where each element \n",
    "is True if the probability of class 1 is greater than or equal to the threshold, and False otherwise.\n",
    "'''\n",
    "y_pred_default = predict_w_threshold(probs_test, 0.5)\n",
    "\n",
    "from sklearn.metrics import accuracy_score\n",
    "\n",
    "# Naive prediction\n",
    "accuracy_score(y_true = y_true, y_pred = y_pred_default)"
   ]
  },
  {
   "cell_type": "code",
   "execution_count": 39,
   "id": "081964c3",
   "metadata": {
    "execution": {
     "iopub.execute_input": "2025-07-28T10:41:40.533974Z",
     "iopub.status.busy": "2025-07-28T10:41:40.533702Z",
     "iopub.status.idle": "2025-07-28T10:41:40.707964Z",
     "shell.execute_reply": "2025-07-28T10:41:40.707067Z"
    },
    "papermill": {
     "duration": 0.188038,
     "end_time": "2025-07-28T10:41:40.709509",
     "exception": false,
     "start_time": "2025-07-28T10:41:40.521471",
     "status": "completed"
    },
    "tags": []
   },
   "outputs": [
    {
     "data": {
      "text/plain": [
       "array([0, 0, 0, ..., 0, 0, 0])"
      ]
     },
     "execution_count": 39,
     "metadata": {},
     "output_type": "execute_result"
    }
   ],
   "source": [
    "model.predict(X_test)"
   ]
  },
  {
   "cell_type": "markdown",
   "id": "56c9705b",
   "metadata": {
    "papermill": {
     "duration": 0.012095,
     "end_time": "2025-07-28T10:41:40.734254",
     "exception": false,
     "start_time": "2025-07-28T10:41:40.722159",
     "status": "completed"
    },
    "tags": []
   },
   "source": [
    "# Conformal Prediction"
   ]
  },
  {
   "cell_type": "code",
   "execution_count": 40,
   "id": "160ec6ff",
   "metadata": {
    "execution": {
     "iopub.execute_input": "2025-07-28T10:41:40.759297Z",
     "iopub.status.busy": "2025-07-28T10:41:40.758670Z",
     "iopub.status.idle": "2025-07-28T10:41:40.763392Z",
     "shell.execute_reply": "2025-07-28T10:41:40.762676Z"
    },
    "papermill": {
     "duration": 0.018806,
     "end_time": "2025-07-28T10:41:40.764737",
     "exception": false,
     "start_time": "2025-07-28T10:41:40.745931",
     "status": "completed"
    },
    "tags": []
   },
   "outputs": [],
   "source": [
    "# Miscoverage level for conformal prediction (10% allowed error rate => 90% target coverage)\n",
    "alpha = 0.1"
   ]
  },
  {
   "cell_type": "code",
   "execution_count": 41,
   "id": "eadf4555-3dd3-440e-8e35-f82a4ad9f855",
   "metadata": {
    "execution": {
     "iopub.execute_input": "2025-07-28T10:41:40.790347Z",
     "iopub.status.busy": "2025-07-28T10:41:40.789797Z",
     "iopub.status.idle": "2025-07-28T10:41:40.957461Z",
     "shell.execute_reply": "2025-07-28T10:41:40.956615Z"
    },
    "papermill": {
     "duration": 0.181678,
     "end_time": "2025-07-28T10:41:40.959090",
     "exception": false,
     "start_time": "2025-07-28T10:41:40.777412",
     "status": "completed"
    },
    "tags": []
   },
   "outputs": [],
   "source": [
    "probs_calib = model.predict_proba(X_calib)"
   ]
  },
  {
   "cell_type": "code",
   "execution_count": 42,
   "id": "2ed93547-6d5d-4983-9b36-1ecb300da49a",
   "metadata": {
    "execution": {
     "iopub.execute_input": "2025-07-28T10:41:40.985138Z",
     "iopub.status.busy": "2025-07-28T10:41:40.984800Z",
     "iopub.status.idle": "2025-07-28T10:41:40.990110Z",
     "shell.execute_reply": "2025-07-28T10:41:40.989387Z"
    },
    "papermill": {
     "duration": 0.019508,
     "end_time": "2025-07-28T10:41:40.991405",
     "exception": false,
     "start_time": "2025-07-28T10:41:40.971897",
     "status": "completed"
    },
    "tags": []
   },
   "outputs": [],
   "source": [
    "y_calib = y_calib.values.ravel().astype(int)"
   ]
  },
  {
   "cell_type": "code",
   "execution_count": 43,
   "id": "65d1320d-f588-4b38-9072-62af1ae97f7d",
   "metadata": {
    "execution": {
     "iopub.execute_input": "2025-07-28T10:41:41.017017Z",
     "iopub.status.busy": "2025-07-28T10:41:41.016469Z",
     "iopub.status.idle": "2025-07-28T10:41:41.022472Z",
     "shell.execute_reply": "2025-07-28T10:41:41.021697Z"
    },
    "papermill": {
     "duration": 0.019926,
     "end_time": "2025-07-28T10:41:41.023826",
     "exception": false,
     "start_time": "2025-07-28T10:41:41.003900",
     "status": "completed"
    },
    "tags": []
   },
   "outputs": [],
   "source": [
    "from fairness_multiverse.conformal import compute_nc_scores\n",
    "\n",
    "# Compute nonconformity scores on calibration set (1 - probability of true class)\n",
    "nc_scores = compute_nc_scores(probs_calib, y_calib)"
   ]
  },
  {
   "cell_type": "code",
   "execution_count": 44,
   "id": "df3b8ca3-53b7-43d5-9667-7c85da7aeda2",
   "metadata": {
    "execution": {
     "iopub.execute_input": "2025-07-28T10:41:41.050404Z",
     "iopub.status.busy": "2025-07-28T10:41:41.049858Z",
     "iopub.status.idle": "2025-07-28T10:41:41.056190Z",
     "shell.execute_reply": "2025-07-28T10:41:41.055377Z"
    },
    "papermill": {
     "duration": 0.020627,
     "end_time": "2025-07-28T10:41:41.057614",
     "exception": false,
     "start_time": "2025-07-28T10:41:41.036987",
     "status": "completed"
    },
    "tags": []
   },
   "outputs": [],
   "source": [
    "from fairness_multiverse.conformal import find_threshold\n",
    "\n",
    "# Find conformal threshold q_hat for the given alpha (split conformal method)\n",
    "q_hat = find_threshold(nc_scores, alpha)"
   ]
  },
  {
   "cell_type": "code",
   "execution_count": 45,
   "id": "4d29e6c1-0ef6-4aa4-b8fe-4fe79b0d033a",
   "metadata": {
    "execution": {
     "iopub.execute_input": "2025-07-28T10:41:41.083654Z",
     "iopub.status.busy": "2025-07-28T10:41:41.083056Z",
     "iopub.status.idle": "2025-07-28T10:41:41.089494Z",
     "shell.execute_reply": "2025-07-28T10:41:41.088734Z"
    },
    "papermill": {
     "duration": 0.020362,
     "end_time": "2025-07-28T10:41:41.090869",
     "exception": false,
     "start_time": "2025-07-28T10:41:41.070507",
     "status": "completed"
    },
    "tags": []
   },
   "outputs": [
    {
     "data": {
      "text/plain": [
       "0.7717501225241349"
      ]
     },
     "execution_count": 45,
     "metadata": {},
     "output_type": "execute_result"
    }
   ],
   "source": [
    "q_hat"
   ]
  },
  {
   "cell_type": "code",
   "execution_count": 46,
   "id": "92460794-cdac-4be2-ba28-f28c0515a6fb",
   "metadata": {
    "execution": {
     "iopub.execute_input": "2025-07-28T10:41:41.117033Z",
     "iopub.status.busy": "2025-07-28T10:41:41.116377Z",
     "iopub.status.idle": "2025-07-28T10:41:41.796776Z",
     "shell.execute_reply": "2025-07-28T10:41:41.795946Z"
    },
    "papermill": {
     "duration": 0.694818,
     "end_time": "2025-07-28T10:41:41.798433",
     "exception": false,
     "start_time": "2025-07-28T10:41:41.103615",
     "status": "completed"
    },
    "tags": []
   },
   "outputs": [],
   "source": [
    "from fairness_multiverse.conformal import predict_conformal_sets\n",
    "\n",
    "# Generate prediction sets for each test example\n",
    "pred_sets = predict_conformal_sets(model, X_test, q_hat)"
   ]
  },
  {
   "cell_type": "code",
   "execution_count": 47,
   "id": "d90c9a65-e6db-4f5d-80cd-e68fb7e46829",
   "metadata": {
    "execution": {
     "iopub.execute_input": "2025-07-28T10:41:41.840085Z",
     "iopub.status.busy": "2025-07-28T10:41:41.839590Z",
     "iopub.status.idle": "2025-07-28T10:41:41.845601Z",
     "shell.execute_reply": "2025-07-28T10:41:41.844608Z"
    },
    "papermill": {
     "duration": 0.034474,
     "end_time": "2025-07-28T10:41:41.847403",
     "exception": false,
     "start_time": "2025-07-28T10:41:41.812929",
     "status": "completed"
    },
    "tags": []
   },
   "outputs": [],
   "source": [
    "y_true = y_true.squeeze()"
   ]
  },
  {
   "cell_type": "code",
   "execution_count": 48,
   "id": "3a58a54a-1e68-46b9-927a-df01f18aebc8",
   "metadata": {
    "execution": {
     "iopub.execute_input": "2025-07-28T10:41:41.896074Z",
     "iopub.status.busy": "2025-07-28T10:41:41.895267Z",
     "iopub.status.idle": "2025-07-28T10:41:42.831203Z",
     "shell.execute_reply": "2025-07-28T10:41:42.830167Z"
    },
    "papermill": {
     "duration": 0.962413,
     "end_time": "2025-07-28T10:41:42.833274",
     "exception": false,
     "start_time": "2025-07-28T10:41:41.870861",
     "status": "completed"
    },
    "tags": []
   },
   "outputs": [],
   "source": [
    "from fairness_multiverse.conformal import evaluate_sets\n",
    "\n",
    "# Evaluate coverage and average set size on test data\n",
    "metrics = evaluate_sets(pred_sets, y_true)"
   ]
  },
  {
   "cell_type": "markdown",
   "id": "2b569c12-9aaa-4c88-98c9-bbcd0cf3ebb8",
   "metadata": {
    "papermill": {
     "duration": 0.023894,
     "end_time": "2025-07-28T10:41:42.887409",
     "exception": false,
     "start_time": "2025-07-28T10:41:42.863515",
     "status": "completed"
    },
    "tags": []
   },
   "source": [
    "# CP Metrics"
   ]
  },
  {
   "cell_type": "code",
   "execution_count": 49,
   "id": "5ce0a5cb-201f-45a0-ade5-94c7f0bd6095",
   "metadata": {
    "execution": {
     "iopub.execute_input": "2025-07-28T10:41:42.938409Z",
     "iopub.status.busy": "2025-07-28T10:41:42.937934Z",
     "iopub.status.idle": "2025-07-28T10:41:42.945921Z",
     "shell.execute_reply": "2025-07-28T10:41:42.944964Z"
    },
    "papermill": {
     "duration": 0.037011,
     "end_time": "2025-07-28T10:41:42.949171",
     "exception": false,
     "start_time": "2025-07-28T10:41:42.912160",
     "status": "completed"
    },
    "tags": []
   },
   "outputs": [
    {
     "data": {
      "text/plain": [
       "{'coverage': 0.906197748300078, 'avg_size': 1.2397837476312563}"
      ]
     },
     "execution_count": 49,
     "metadata": {},
     "output_type": "execute_result"
    }
   ],
   "source": [
    "metrics"
   ]
  },
  {
   "cell_type": "code",
   "execution_count": 50,
   "id": "9b9a838d-31c9-430b-ae14-12baee460d17",
   "metadata": {
    "execution": {
     "iopub.execute_input": "2025-07-28T10:41:42.977226Z",
     "iopub.status.busy": "2025-07-28T10:41:42.976782Z",
     "iopub.status.idle": "2025-07-28T10:41:42.981891Z",
     "shell.execute_reply": "2025-07-28T10:41:42.981060Z"
    },
    "papermill": {
     "duration": 0.020138,
     "end_time": "2025-07-28T10:41:42.983586",
     "exception": false,
     "start_time": "2025-07-28T10:41:42.963448",
     "status": "completed"
    },
    "tags": []
   },
   "outputs": [],
   "source": [
    "example_universe = universe.copy()\n",
    "universe_training_size = example_universe.get(\"training_size\")\n",
    "universe_scale = example_universe.get(\"scale\")\n",
    "universe_model = example_universe.get(\"model\")\n",
    "universe_exclude_features = example_universe.get(\"exclude_features\")\n",
    "universe_exclude_subgroups = example_universe.get(\"exclude_subgroups\")"
   ]
  },
  {
   "cell_type": "code",
   "execution_count": 51,
   "id": "f4b6a8ac-9dc0-4245-8a91-5b3b5999c4f9",
   "metadata": {
    "execution": {
     "iopub.execute_input": "2025-07-28T10:41:43.035145Z",
     "iopub.status.busy": "2025-07-28T10:41:43.034683Z",
     "iopub.status.idle": "2025-07-28T10:41:43.041192Z",
     "shell.execute_reply": "2025-07-28T10:41:43.040099Z"
    },
    "papermill": {
     "duration": 0.03386,
     "end_time": "2025-07-28T10:41:43.042854",
     "exception": false,
     "start_time": "2025-07-28T10:41:43.008994",
     "status": "completed"
    },
    "tags": []
   },
   "outputs": [],
   "source": [
    "cp_metrics_dict = {\n",
    "    \"universe_id\": [universe_id],\n",
    "    \"universe_training_size\": [universe_training_size],\n",
    "    \"universe_scale\": [universe_scale],\n",
    "    \"universe_model\": [universe_model],\n",
    "    \"universe_exclude_features\": [universe_exclude_features],\n",
    "    \"universe_exclude_subgroups\": [universe_exclude_subgroups],\n",
    "    \"q_hat\": [q_hat],\n",
    "    \"coverage\": [metrics[\"coverage\"]],\n",
    "    \"avg_size\": [metrics[\"avg_size\"]],\n",
    "}"
   ]
  },
  {
   "cell_type": "code",
   "execution_count": 52,
   "id": "908acbb1-0371-4915-85ca-3fa520d2efe2",
   "metadata": {
    "execution": {
     "iopub.execute_input": "2025-07-28T10:41:43.089988Z",
     "iopub.status.busy": "2025-07-28T10:41:43.089378Z",
     "iopub.status.idle": "2025-07-28T10:41:43.097356Z",
     "shell.execute_reply": "2025-07-28T10:41:43.096520Z"
    },
    "papermill": {
     "duration": 0.032993,
     "end_time": "2025-07-28T10:41:43.098701",
     "exception": false,
     "start_time": "2025-07-28T10:41:43.065708",
     "status": "completed"
    },
    "tags": []
   },
   "outputs": [
    {
     "data": {
      "text/plain": [
       "{'universe_id': ['0f7eccd16e87546095227655cb777b81'],\n",
       " 'universe_training_size': ['1k'],\n",
       " 'universe_scale': ['scale'],\n",
       " 'universe_model': ['logreg'],\n",
       " 'universe_exclude_features': ['none'],\n",
       " 'universe_exclude_subgroups': ['keep-all'],\n",
       " 'q_hat': [0.7717501225241349],\n",
       " 'coverage': [0.906197748300078],\n",
       " 'avg_size': [1.2397837476312563]}"
      ]
     },
     "execution_count": 52,
     "metadata": {},
     "output_type": "execute_result"
    }
   ],
   "source": [
    "cp_metrics_dict"
   ]
  },
  {
   "cell_type": "code",
   "execution_count": 53,
   "id": "33007efc-14e9-4ec6-97ac-56a455c82265",
   "metadata": {
    "execution": {
     "iopub.execute_input": "2025-07-28T10:41:43.138489Z",
     "iopub.status.busy": "2025-07-28T10:41:43.138078Z",
     "iopub.status.idle": "2025-07-28T10:41:43.143886Z",
     "shell.execute_reply": "2025-07-28T10:41:43.142850Z"
    },
    "papermill": {
     "duration": 0.032583,
     "end_time": "2025-07-28T10:41:43.145597",
     "exception": false,
     "start_time": "2025-07-28T10:41:43.113014",
     "status": "completed"
    },
    "tags": []
   },
   "outputs": [],
   "source": [
    "cp_metrics_df = pd.DataFrame(cp_metrics_dict)"
   ]
  },
  {
   "cell_type": "code",
   "execution_count": 54,
   "id": "db12611b-57b2-4910-b9d0-355adfd6e7bf",
   "metadata": {
    "execution": {
     "iopub.execute_input": "2025-07-28T10:41:43.192638Z",
     "iopub.status.busy": "2025-07-28T10:41:43.192212Z",
     "iopub.status.idle": "2025-07-28T10:41:43.208909Z",
     "shell.execute_reply": "2025-07-28T10:41:43.207957Z"
    },
    "papermill": {
     "duration": 0.041686,
     "end_time": "2025-07-28T10:41:43.210554",
     "exception": false,
     "start_time": "2025-07-28T10:41:43.168868",
     "status": "completed"
    },
    "tags": []
   },
   "outputs": [
    {
     "data": {
      "text/html": [
       "<div>\n",
       "<style scoped>\n",
       "    .dataframe tbody tr th:only-of-type {\n",
       "        vertical-align: middle;\n",
       "    }\n",
       "\n",
       "    .dataframe tbody tr th {\n",
       "        vertical-align: top;\n",
       "    }\n",
       "\n",
       "    .dataframe thead th {\n",
       "        text-align: right;\n",
       "    }\n",
       "</style>\n",
       "<table border=\"1\" class=\"dataframe\">\n",
       "  <thead>\n",
       "    <tr style=\"text-align: right;\">\n",
       "      <th></th>\n",
       "      <th>universe_id</th>\n",
       "      <th>universe_training_size</th>\n",
       "      <th>universe_scale</th>\n",
       "      <th>universe_model</th>\n",
       "      <th>universe_exclude_features</th>\n",
       "      <th>universe_exclude_subgroups</th>\n",
       "      <th>q_hat</th>\n",
       "      <th>coverage</th>\n",
       "      <th>avg_size</th>\n",
       "    </tr>\n",
       "  </thead>\n",
       "  <tbody>\n",
       "    <tr>\n",
       "      <th>0</th>\n",
       "      <td>0f7eccd16e87546095227655cb777b81</td>\n",
       "      <td>1k</td>\n",
       "      <td>scale</td>\n",
       "      <td>logreg</td>\n",
       "      <td>none</td>\n",
       "      <td>keep-all</td>\n",
       "      <td>0.77175</td>\n",
       "      <td>0.906198</td>\n",
       "      <td>1.239784</td>\n",
       "    </tr>\n",
       "  </tbody>\n",
       "</table>\n",
       "</div>"
      ],
      "text/plain": [
       "                        universe_id universe_training_size universe_scale  \\\n",
       "0  0f7eccd16e87546095227655cb777b81                     1k          scale   \n",
       "\n",
       "  universe_model universe_exclude_features universe_exclude_subgroups  \\\n",
       "0         logreg                      none                   keep-all   \n",
       "\n",
       "     q_hat  coverage  avg_size  \n",
       "0  0.77175  0.906198  1.239784  "
      ]
     },
     "execution_count": 54,
     "metadata": {},
     "output_type": "execute_result"
    }
   ],
   "source": [
    "cp_metrics_df"
   ]
  },
  {
   "cell_type": "code",
   "execution_count": 55,
   "id": "b7fbde55-a0a1-47e4-9af6-fe4a17fa8c61",
   "metadata": {
    "execution": {
     "iopub.execute_input": "2025-07-28T10:41:43.257899Z",
     "iopub.status.busy": "2025-07-28T10:41:43.257479Z",
     "iopub.status.idle": "2025-07-28T10:41:43.262540Z",
     "shell.execute_reply": "2025-07-28T10:41:43.261455Z"
    },
    "papermill": {
     "duration": 0.030769,
     "end_time": "2025-07-28T10:41:43.264285",
     "exception": false,
     "start_time": "2025-07-28T10:41:43.233516",
     "status": "completed"
    },
    "tags": []
   },
   "outputs": [],
   "source": [
    "# Conditional Coverage & looking at subgroups"
   ]
  },
  {
   "cell_type": "code",
   "execution_count": 56,
   "id": "027ae886-68dd-4141-96c7-805a5450e1ef",
   "metadata": {
    "execution": {
     "iopub.execute_input": "2025-07-28T10:41:43.319104Z",
     "iopub.status.busy": "2025-07-28T10:41:43.318704Z",
     "iopub.status.idle": "2025-07-28T10:41:43.587115Z",
     "shell.execute_reply": "2025-07-28T10:41:43.586007Z"
    },
    "papermill": {
     "duration": 0.298692,
     "end_time": "2025-07-28T10:41:43.589132",
     "exception": false,
     "start_time": "2025-07-28T10:41:43.290440",
     "status": "completed"
    },
    "tags": []
   },
   "outputs": [],
   "source": [
    "from fairness_multiverse.conformal import build_cp_groups\n",
    "\n",
    "cp_groups_df = build_cp_groups(pred_sets, y_true, X_test.index, org_test)\n",
    "#needs universe_id and setting"
   ]
  },
  {
   "cell_type": "code",
   "execution_count": 57,
   "id": "01d5802c-663a-4d1f-9d69-e036faaffbf7",
   "metadata": {
    "execution": {
     "iopub.execute_input": "2025-07-28T10:41:43.640259Z",
     "iopub.status.busy": "2025-07-28T10:41:43.639558Z",
     "iopub.status.idle": "2025-07-28T10:41:43.644346Z",
     "shell.execute_reply": "2025-07-28T10:41:43.643424Z"
    },
    "papermill": {
     "duration": 0.029856,
     "end_time": "2025-07-28T10:41:43.646080",
     "exception": false,
     "start_time": "2025-07-28T10:41:43.616224",
     "status": "completed"
    },
    "tags": []
   },
   "outputs": [],
   "source": [
    "#delete\n",
    "#cp_groups_df"
   ]
  },
  {
   "cell_type": "code",
   "execution_count": 58,
   "id": "fa424af1-d1eb-443d-b717-2d279ada8408",
   "metadata": {
    "execution": {
     "iopub.execute_input": "2025-07-28T10:41:43.696106Z",
     "iopub.status.busy": "2025-07-28T10:41:43.695688Z",
     "iopub.status.idle": "2025-07-28T10:41:43.700359Z",
     "shell.execute_reply": "2025-07-28T10:41:43.699386Z"
    },
    "papermill": {
     "duration": 0.029003,
     "end_time": "2025-07-28T10:41:43.701853",
     "exception": false,
     "start_time": "2025-07-28T10:41:43.672850",
     "status": "completed"
    },
    "tags": []
   },
   "outputs": [],
   "source": [
    "#delete\n",
    "#percentage = (cp_groups_df['nongerman_female'] == 1).mean() * 100\n",
    "#print(percentage)\n"
   ]
  },
  {
   "cell_type": "code",
   "execution_count": 59,
   "id": "6cbdab96-b2b2-45af-ad54-d0516db2e28d",
   "metadata": {
    "execution": {
     "iopub.execute_input": "2025-07-28T10:41:43.752276Z",
     "iopub.status.busy": "2025-07-28T10:41:43.751712Z",
     "iopub.status.idle": "2025-07-28T10:41:45.462193Z",
     "shell.execute_reply": "2025-07-28T10:41:45.461203Z"
    },
    "papermill": {
     "duration": 1.737614,
     "end_time": "2025-07-28T10:41:45.464387",
     "exception": false,
     "start_time": "2025-07-28T10:41:43.726773",
     "status": "completed"
    },
    "tags": []
   },
   "outputs": [],
   "source": [
    "# Define covered = 1 if true_label is in the predicted set\n",
    "cp_groups_df['covered'] = cp_groups_df.apply(\n",
    "    lambda r: int(r['true_label'] in r['pred_set']),\n",
    "    axis=1\n",
    ")"
   ]
  },
  {
   "cell_type": "code",
   "execution_count": 60,
   "id": "338ff529-1a6b-4b87-a931-8e4788d52aad",
   "metadata": {
    "execution": {
     "iopub.execute_input": "2025-07-28T10:41:45.516241Z",
     "iopub.status.busy": "2025-07-28T10:41:45.515369Z",
     "iopub.status.idle": "2025-07-28T10:41:45.520730Z",
     "shell.execute_reply": "2025-07-28T10:41:45.519783Z"
    },
    "papermill": {
     "duration": 0.032334,
     "end_time": "2025-07-28T10:41:45.522540",
     "exception": false,
     "start_time": "2025-07-28T10:41:45.490206",
     "status": "completed"
    },
    "tags": []
   },
   "outputs": [],
   "source": [
    "#cp_groups_df"
   ]
  },
  {
   "cell_type": "code",
   "execution_count": 61,
   "id": "90032e27-66df-4540-9169-4e89cfbaa758",
   "metadata": {
    "execution": {
     "iopub.execute_input": "2025-07-28T10:41:45.572953Z",
     "iopub.status.busy": "2025-07-28T10:41:45.572478Z",
     "iopub.status.idle": "2025-07-28T10:41:45.585205Z",
     "shell.execute_reply": "2025-07-28T10:41:45.584303Z"
    },
    "papermill": {
     "duration": 0.039369,
     "end_time": "2025-07-28T10:41:45.586734",
     "exception": false,
     "start_time": "2025-07-28T10:41:45.547365",
     "status": "completed"
    },
    "tags": []
   },
   "outputs": [],
   "source": [
    "subgroups = ['frau1','nongerman','nongerman_male','nongerman_female']\n",
    "\n",
    "# Conditional coverage for subgroup==1\n",
    "cond_coverage = {\n",
    "    g: cp_groups_df.loc[cp_groups_df[g]==1, 'covered'].mean()\n",
    "    for g in subgroups\n",
    "}"
   ]
  },
  {
   "cell_type": "code",
   "execution_count": 62,
   "id": "1e348fb1-b9c3-45bc-ba23-f016827a7e0d",
   "metadata": {
    "execution": {
     "iopub.execute_input": "2025-07-28T10:41:45.635925Z",
     "iopub.status.busy": "2025-07-28T10:41:45.635136Z",
     "iopub.status.idle": "2025-07-28T10:41:45.642734Z",
     "shell.execute_reply": "2025-07-28T10:41:45.641854Z"
    },
    "papermill": {
     "duration": 0.03386,
     "end_time": "2025-07-28T10:41:45.644386",
     "exception": false,
     "start_time": "2025-07-28T10:41:45.610526",
     "status": "completed"
    },
    "tags": []
   },
   "outputs": [
    {
     "data": {
      "text/plain": [
       "{'frau1': 0.9073999191265669,\n",
       " 'nongerman': 0.9148936170212766,\n",
       " 'nongerman_male': 0.9288480590831307,\n",
       " 'nongerman_female': 0.8918032786885246}"
      ]
     },
     "execution_count": 62,
     "metadata": {},
     "output_type": "execute_result"
    }
   ],
   "source": [
    "cond_coverage"
   ]
  },
  {
   "cell_type": "code",
   "execution_count": 63,
   "id": "f5093324-c3dd-4d63-bc4c-8d945e5c8bbb",
   "metadata": {
    "execution": {
     "iopub.execute_input": "2025-07-28T10:41:45.694335Z",
     "iopub.status.busy": "2025-07-28T10:41:45.693900Z",
     "iopub.status.idle": "2025-07-28T10:41:45.701034Z",
     "shell.execute_reply": "2025-07-28T10:41:45.700097Z"
    },
    "papermill": {
     "duration": 0.033599,
     "end_time": "2025-07-28T10:41:45.702606",
     "exception": false,
     "start_time": "2025-07-28T10:41:45.669007",
     "status": "completed"
    },
    "tags": []
   },
   "outputs": [],
   "source": [
    "for subgroup, cov in cond_coverage.items():\n",
    "    cp_metrics_df[f\"cov_{subgroup}\"] = cov"
   ]
  },
  {
   "cell_type": "code",
   "execution_count": 64,
   "id": "6e872e10-dbe5-49e8-b554-5030c98ff75d",
   "metadata": {
    "execution": {
     "iopub.execute_input": "2025-07-28T10:41:45.752599Z",
     "iopub.status.busy": "2025-07-28T10:41:45.752062Z",
     "iopub.status.idle": "2025-07-28T10:41:45.770883Z",
     "shell.execute_reply": "2025-07-28T10:41:45.769970Z"
    },
    "papermill": {
     "duration": 0.045546,
     "end_time": "2025-07-28T10:41:45.772562",
     "exception": false,
     "start_time": "2025-07-28T10:41:45.727016",
     "status": "completed"
    },
    "tags": []
   },
   "outputs": [
    {
     "data": {
      "text/html": [
       "<div>\n",
       "<style scoped>\n",
       "    .dataframe tbody tr th:only-of-type {\n",
       "        vertical-align: middle;\n",
       "    }\n",
       "\n",
       "    .dataframe tbody tr th {\n",
       "        vertical-align: top;\n",
       "    }\n",
       "\n",
       "    .dataframe thead th {\n",
       "        text-align: right;\n",
       "    }\n",
       "</style>\n",
       "<table border=\"1\" class=\"dataframe\">\n",
       "  <thead>\n",
       "    <tr style=\"text-align: right;\">\n",
       "      <th></th>\n",
       "      <th>universe_id</th>\n",
       "      <th>universe_training_size</th>\n",
       "      <th>universe_scale</th>\n",
       "      <th>universe_model</th>\n",
       "      <th>universe_exclude_features</th>\n",
       "      <th>universe_exclude_subgroups</th>\n",
       "      <th>q_hat</th>\n",
       "      <th>coverage</th>\n",
       "      <th>avg_size</th>\n",
       "      <th>cov_frau1</th>\n",
       "      <th>cov_nongerman</th>\n",
       "      <th>cov_nongerman_male</th>\n",
       "      <th>cov_nongerman_female</th>\n",
       "    </tr>\n",
       "  </thead>\n",
       "  <tbody>\n",
       "    <tr>\n",
       "      <th>0</th>\n",
       "      <td>0f7eccd16e87546095227655cb777b81</td>\n",
       "      <td>1k</td>\n",
       "      <td>scale</td>\n",
       "      <td>logreg</td>\n",
       "      <td>none</td>\n",
       "      <td>keep-all</td>\n",
       "      <td>0.77175</td>\n",
       "      <td>0.906198</td>\n",
       "      <td>1.239784</td>\n",
       "      <td>0.9074</td>\n",
       "      <td>0.914894</td>\n",
       "      <td>0.928848</td>\n",
       "      <td>0.891803</td>\n",
       "    </tr>\n",
       "  </tbody>\n",
       "</table>\n",
       "</div>"
      ],
      "text/plain": [
       "                        universe_id universe_training_size universe_scale  \\\n",
       "0  0f7eccd16e87546095227655cb777b81                     1k          scale   \n",
       "\n",
       "  universe_model universe_exclude_features universe_exclude_subgroups  \\\n",
       "0         logreg                      none                   keep-all   \n",
       "\n",
       "     q_hat  coverage  avg_size  cov_frau1  cov_nongerman  cov_nongerman_male  \\\n",
       "0  0.77175  0.906198  1.239784     0.9074       0.914894            0.928848   \n",
       "\n",
       "   cov_nongerman_female  \n",
       "0              0.891803  "
      ]
     },
     "execution_count": 64,
     "metadata": {},
     "output_type": "execute_result"
    }
   ],
   "source": [
    "cp_metrics_df"
   ]
  },
  {
   "cell_type": "markdown",
   "id": "33774451",
   "metadata": {
    "papermill": {
     "duration": 0.024333,
     "end_time": "2025-07-28T10:41:45.821681",
     "exception": false,
     "start_time": "2025-07-28T10:41:45.797348",
     "status": "completed"
    },
    "tags": []
   },
   "source": [
    "# (Fairness) Metrics"
   ]
  },
  {
   "cell_type": "code",
   "execution_count": 65,
   "id": "debc5d62",
   "metadata": {
    "execution": {
     "iopub.execute_input": "2025-07-28T10:41:45.872307Z",
     "iopub.status.busy": "2025-07-28T10:41:45.871495Z",
     "iopub.status.idle": "2025-07-28T10:41:45.893666Z",
     "shell.execute_reply": "2025-07-28T10:41:45.892794Z"
    },
    "papermill": {
     "duration": 0.049409,
     "end_time": "2025-07-28T10:41:45.895414",
     "exception": false,
     "start_time": "2025-07-28T10:41:45.846005",
     "status": "completed"
    },
    "tags": []
   },
   "outputs": [],
   "source": [
    "# do I need to include maxdeutsch1.missing?\n",
    "\n",
    "import numpy as np\n",
    "\n",
    "colname_to_bin = \"maxdeutsch1\"\n",
    "majority_value = org_train[colname_to_bin].mode()[0]\n",
    "\n",
    "org_test[\"majmin\"] = np.where(org_test[colname_to_bin] == majority_value, \"majority\", \"minority\")"
   ]
  },
  {
   "cell_type": "code",
   "execution_count": 66,
   "id": "06a50de5",
   "metadata": {
    "execution": {
     "iopub.execute_input": "2025-07-28T10:41:45.946746Z",
     "iopub.status.busy": "2025-07-28T10:41:45.945925Z",
     "iopub.status.idle": "2025-07-28T10:41:49.105935Z",
     "shell.execute_reply": "2025-07-28T10:41:49.104889Z"
    },
    "papermill": {
     "duration": 3.187443,
     "end_time": "2025-07-28T10:41:49.107906",
     "exception": false,
     "start_time": "2025-07-28T10:41:45.920463",
     "status": "completed"
    },
    "tags": []
   },
   "outputs": [],
   "source": [
    "example_universe = universe.copy()\n",
    "example_universe[\"cutoff\"] = example_universe[\"cutoff\"][0]\n",
    "example_universe[\"eval_fairness_grouping\"] = example_universe[\"eval_fairness_grouping\"][0]\n",
    "fairness_dict, metric_frame = universe_analysis.compute_metrics(\n",
    "    example_universe,\n",
    "    y_pred_prob=probs_test,\n",
    "    y_test=y_true,\n",
    "    org_test=org_test,\n",
    ")"
   ]
  },
  {
   "cell_type": "markdown",
   "id": "f95d4e02",
   "metadata": {
    "papermill": {
     "duration": 0.026639,
     "end_time": "2025-07-28T10:41:49.164840",
     "exception": false,
     "start_time": "2025-07-28T10:41:49.138201",
     "status": "completed"
    },
    "tags": []
   },
   "source": [
    "# Overall"
   ]
  },
  {
   "cell_type": "markdown",
   "id": "bdee4871",
   "metadata": {
    "papermill": {
     "duration": 0.027114,
     "end_time": "2025-07-28T10:41:49.217941",
     "exception": false,
     "start_time": "2025-07-28T10:41:49.190827",
     "status": "completed"
    },
    "tags": []
   },
   "source": [
    "Fairness\n",
    "Main fairness target: Equalized Odds. Seems to be a better fit than equal opportunity, since we're not only interested in Y = 1. Seems to be a better fit than demographic parity, since we also care about accuracy, not just equal distribution of preds.\n",
    "\n",
    "Pick column for computation of fairness metrics\n",
    "\n",
    "Performance\n",
    "Overall performance measures, most interesting in relation to the measures split by group below"
   ]
  },
  {
   "cell_type": "code",
   "execution_count": 67,
   "id": "c4e067c6",
   "metadata": {
    "execution": {
     "iopub.execute_input": "2025-07-28T10:41:49.272855Z",
     "iopub.status.busy": "2025-07-28T10:41:49.272139Z",
     "iopub.status.idle": "2025-07-28T10:41:49.281788Z",
     "shell.execute_reply": "2025-07-28T10:41:49.280785Z"
    },
    "papermill": {
     "duration": 0.039173,
     "end_time": "2025-07-28T10:41:49.283559",
     "exception": false,
     "start_time": "2025-07-28T10:41:49.244386",
     "status": "completed"
    },
    "tags": []
   },
   "outputs": [
    {
     "data": {
      "text/plain": [
       "accuracy                   0.218225\n",
       "balanced accuracy          0.534879\n",
       "f1                         0.239726\n",
       "precision                  0.136947\n",
       "false positive rate        0.891051\n",
       "false negative rate        0.039190\n",
       "selection rate             0.900000\n",
       "count                  89710.000000\n",
       "dtype: float64"
      ]
     },
     "execution_count": 67,
     "metadata": {},
     "output_type": "execute_result"
    }
   ],
   "source": [
    "metric_frame.overall"
   ]
  },
  {
   "cell_type": "markdown",
   "id": "e968fe9d",
   "metadata": {
    "papermill": {
     "duration": 0.026625,
     "end_time": "2025-07-28T10:41:49.337733",
     "exception": false,
     "start_time": "2025-07-28T10:41:49.311108",
     "status": "completed"
    },
    "tags": []
   },
   "source": [
    "By Group"
   ]
  },
  {
   "cell_type": "code",
   "execution_count": 68,
   "id": "ec325bce",
   "metadata": {
    "execution": {
     "iopub.execute_input": "2025-07-28T10:41:49.395546Z",
     "iopub.status.busy": "2025-07-28T10:41:49.394810Z",
     "iopub.status.idle": "2025-07-28T10:41:49.411139Z",
     "shell.execute_reply": "2025-07-28T10:41:49.410117Z"
    },
    "papermill": {
     "duration": 0.046902,
     "end_time": "2025-07-28T10:41:49.412966",
     "exception": false,
     "start_time": "2025-07-28T10:41:49.366064",
     "status": "completed"
    },
    "tags": []
   },
   "outputs": [
    {
     "data": {
      "text/html": [
       "<div>\n",
       "<style scoped>\n",
       "    .dataframe tbody tr th:only-of-type {\n",
       "        vertical-align: middle;\n",
       "    }\n",
       "\n",
       "    .dataframe tbody tr th {\n",
       "        vertical-align: top;\n",
       "    }\n",
       "\n",
       "    .dataframe thead th {\n",
       "        text-align: right;\n",
       "    }\n",
       "</style>\n",
       "<table border=\"1\" class=\"dataframe\">\n",
       "  <thead>\n",
       "    <tr style=\"text-align: right;\">\n",
       "      <th></th>\n",
       "      <th>accuracy</th>\n",
       "      <th>balanced accuracy</th>\n",
       "      <th>f1</th>\n",
       "      <th>precision</th>\n",
       "      <th>false positive rate</th>\n",
       "      <th>false negative rate</th>\n",
       "      <th>selection rate</th>\n",
       "      <th>count</th>\n",
       "    </tr>\n",
       "    <tr>\n",
       "      <th>majmin</th>\n",
       "      <th></th>\n",
       "      <th></th>\n",
       "      <th></th>\n",
       "      <th></th>\n",
       "      <th></th>\n",
       "      <th></th>\n",
       "      <th></th>\n",
       "      <th></th>\n",
       "    </tr>\n",
       "  </thead>\n",
       "  <tbody>\n",
       "    <tr>\n",
       "      <th>majority</th>\n",
       "      <td>0.231777</td>\n",
       "      <td>0.539550</td>\n",
       "      <td>0.247848</td>\n",
       "      <td>0.142339</td>\n",
       "      <td>0.878777</td>\n",
       "      <td>0.042123</td>\n",
       "      <td>0.889229</td>\n",
       "      <td>69170.0</td>\n",
       "    </tr>\n",
       "    <tr>\n",
       "      <th>minority</th>\n",
       "      <td>0.172590</td>\n",
       "      <td>0.520265</td>\n",
       "      <td>0.213158</td>\n",
       "      <td>0.119703</td>\n",
       "      <td>0.931598</td>\n",
       "      <td>0.027872</td>\n",
       "      <td>0.936271</td>\n",
       "      <td>20540.0</td>\n",
       "    </tr>\n",
       "  </tbody>\n",
       "</table>\n",
       "</div>"
      ],
      "text/plain": [
       "          accuracy  balanced accuracy        f1  precision  \\\n",
       "majmin                                                       \n",
       "majority  0.231777           0.539550  0.247848   0.142339   \n",
       "minority  0.172590           0.520265  0.213158   0.119703   \n",
       "\n",
       "          false positive rate  false negative rate  selection rate    count  \n",
       "majmin                                                                       \n",
       "majority             0.878777             0.042123        0.889229  69170.0  \n",
       "minority             0.931598             0.027872        0.936271  20540.0  "
      ]
     },
     "execution_count": 68,
     "metadata": {},
     "output_type": "execute_result"
    }
   ],
   "source": [
    "metric_frame.by_group"
   ]
  },
  {
   "cell_type": "code",
   "execution_count": 69,
   "id": "a9ddbe63",
   "metadata": {
    "execution": {
     "iopub.execute_input": "2025-07-28T10:41:49.470910Z",
     "iopub.status.busy": "2025-07-28T10:41:49.470213Z",
     "iopub.status.idle": "2025-07-28T10:41:51.922170Z",
     "shell.execute_reply": "2025-07-28T10:41:51.921153Z"
    },
    "papermill": {
     "duration": 2.482282,
     "end_time": "2025-07-28T10:41:51.924117",
     "exception": false,
     "start_time": "2025-07-28T10:41:49.441835",
     "status": "completed"
    },
    "tags": []
   },
   "outputs": [
    {
     "data": {
      "text/plain": [
       "array([[<Axes: title={'center': 'accuracy'}, xlabel='majmin'>,\n",
       "        <Axes: title={'center': 'balanced accuracy'}, xlabel='majmin'>,\n",
       "        <Axes: title={'center': 'f1'}, xlabel='majmin'>],\n",
       "       [<Axes: title={'center': 'precision'}, xlabel='majmin'>,\n",
       "        <Axes: title={'center': 'false positive rate'}, xlabel='majmin'>,\n",
       "        <Axes: title={'center': 'false negative rate'}, xlabel='majmin'>],\n",
       "       [<Axes: title={'center': 'selection rate'}, xlabel='majmin'>,\n",
       "        <Axes: title={'center': 'count'}, xlabel='majmin'>,\n",
       "        <Axes: xlabel='majmin'>]], dtype=object)"
      ]
     },
     "execution_count": 69,
     "metadata": {},
     "output_type": "execute_result"
    },
    {
     "data": {
      "image/png": "[encoded data removed]",
      "text/plain": [
       "<Figure size 1200x800 with 9 Axes>"
      ]
     },
     "metadata": {},
     "output_type": "display_data"
    }
   ],
   "source": [
    "# In a graphic\n",
    "metric_frame.by_group.plot.bar(\n",
    "    subplots=True,\n",
    "    layout=[3, 3],\n",
    "    legend=False,\n",
    "    figsize=[12, 8],\n",
    "    title=\"Show all metrics\",\n",
    ")"
   ]
  },
  {
   "cell_type": "markdown",
   "id": "f57a0bac",
   "metadata": {
    "papermill": {
     "duration": 0.026615,
     "end_time": "2025-07-28T10:41:51.977950",
     "exception": false,
     "start_time": "2025-07-28T10:41:51.951335",
     "status": "completed"
    },
    "tags": []
   },
   "source": [
    "# Final Output"
   ]
  },
  {
   "cell_type": "code",
   "execution_count": 70,
   "id": "96d280a3",
   "metadata": {
    "execution": {
     "iopub.execute_input": "2025-07-28T10:41:52.033261Z",
     "iopub.status.busy": "2025-07-28T10:41:52.032373Z",
     "iopub.status.idle": "2025-07-28T10:41:52.041345Z",
     "shell.execute_reply": "2025-07-28T10:41:52.040398Z"
    },
    "papermill": {
     "duration": 0.038131,
     "end_time": "2025-07-28T10:41:52.042918",
     "exception": false,
     "start_time": "2025-07-28T10:41:52.004787",
     "status": "completed"
    },
    "tags": []
   },
   "outputs": [
    {
     "data": {
      "text/plain": [
       "4"
      ]
     },
     "execution_count": 70,
     "metadata": {},
     "output_type": "execute_result"
    }
   ],
   "source": [
    "sub_universes = universe_analysis.generate_sub_universes()\n",
    "len(sub_universes)"
   ]
  },
  {
   "cell_type": "code",
   "execution_count": 71,
   "id": "92adf7ba",
   "metadata": {
    "execution": {
     "iopub.execute_input": "2025-07-28T10:41:52.099426Z",
     "iopub.status.busy": "2025-07-28T10:41:52.098468Z",
     "iopub.status.idle": "2025-07-28T10:41:52.105101Z",
     "shell.execute_reply": "2025-07-28T10:41:52.104044Z"
    },
    "papermill": {
     "duration": 0.03722,
     "end_time": "2025-07-28T10:41:52.107148",
     "exception": false,
     "start_time": "2025-07-28T10:41:52.069928",
     "status": "completed"
    },
    "tags": []
   },
   "outputs": [],
   "source": [
    "def filter_sub_universe_data(sub_universe, org_test):\n",
    "    # Keep all rows — no filtering\n",
    "    keep_rows_mask = np.ones(org_test.shape[0], dtype=bool)\n",
    "\n",
    "    print(f\"[INFO] Keeping all rows: {keep_rows_mask.sum()} rows retained.\")\n",
    "    return keep_rows_mask"
   ]
  },
  {
   "cell_type": "code",
   "execution_count": 72,
   "id": "4a759155",
   "metadata": {
    "execution": {
     "iopub.execute_input": "2025-07-28T10:41:52.163250Z",
     "iopub.status.busy": "2025-07-28T10:41:52.162744Z",
     "iopub.status.idle": "2025-07-28T10:42:02.298951Z",
     "shell.execute_reply": "2025-07-28T10:42:02.297418Z"
    },
    "papermill": {
     "duration": 10.166153,
     "end_time": "2025-07-28T10:42:02.300831",
     "exception": false,
     "start_time": "2025-07-28T10:41:52.134678",
     "status": "completed"
    },
    "tags": []
   },
   "outputs": [
    {
     "name": "stdout",
     "output_type": "stream",
     "text": [
      "Stopping execution_time clock.\n",
      "[INFO] Keeping all rows: 89710 rows retained.\n"
     ]
    },
    {
     "name": "stdout",
     "output_type": "stream",
     "text": [
      "[INFO] Keeping all rows: 89710 rows retained.\n"
     ]
    },
    {
     "name": "stdout",
     "output_type": "stream",
     "text": [
      "[INFO] Keeping all rows: 89710 rows retained.\n"
     ]
    },
    {
     "name": "stdout",
     "output_type": "stream",
     "text": [
      "[INFO] Keeping all rows: 89710 rows retained.\n"
     ]
    },
    {
     "data": {
      "text/html": [
       "<div>\n",
       "<style scoped>\n",
       "    .dataframe tbody tr th:only-of-type {\n",
       "        vertical-align: middle;\n",
       "    }\n",
       "\n",
       "    .dataframe tbody tr th {\n",
       "        vertical-align: top;\n",
       "    }\n",
       "\n",
       "    .dataframe thead th {\n",
       "        text-align: right;\n",
       "    }\n",
       "</style>\n",
       "<table border=\"1\" class=\"dataframe\">\n",
       "  <thead>\n",
       "    <tr style=\"text-align: right;\">\n",
       "      <th></th>\n",
       "      <th>run_no</th>\n",
       "      <th>universe_id</th>\n",
       "      <th>universe_settings</th>\n",
       "      <th>execution_time</th>\n",
       "      <th>test_size_n</th>\n",
       "      <th>test_size_frac</th>\n",
       "      <th>fair_main_equalized_odds_difference</th>\n",
       "      <th>fair_main_equalized_odds_ratio</th>\n",
       "      <th>fair_main_demographic_parity_difference</th>\n",
       "      <th>fair_main_demographic_parity_ratio</th>\n",
       "      <th>...</th>\n",
       "      <th>perf_grp_precision_0</th>\n",
       "      <th>perf_grp_precision_1</th>\n",
       "      <th>perf_grp_false positive rate_0</th>\n",
       "      <th>perf_grp_false positive rate_1</th>\n",
       "      <th>perf_grp_false negative rate_0</th>\n",
       "      <th>perf_grp_false negative rate_1</th>\n",
       "      <th>perf_grp_selection rate_0</th>\n",
       "      <th>perf_grp_selection rate_1</th>\n",
       "      <th>perf_grp_count_0</th>\n",
       "      <th>perf_grp_count_1</th>\n",
       "    </tr>\n",
       "  </thead>\n",
       "  <tbody>\n",
       "    <tr>\n",
       "      <th>0</th>\n",
       "      <td>11</td>\n",
       "      <td>0f7eccd16e87546095227655cb777b81</td>\n",
       "      <td>{\"cutoff\": \"quantile_0.1\", \"eval_fairness_grou...</td>\n",
       "      <td>26.10912</td>\n",
       "      <td>89710</td>\n",
       "      <td>1.0</td>\n",
       "      <td>0.052821</td>\n",
       "      <td>0.943301</td>\n",
       "      <td>0.047041</td>\n",
       "      <td>0.949757</td>\n",
       "      <td>...</td>\n",
       "      <td>NaN</td>\n",
       "      <td>NaN</td>\n",
       "      <td>NaN</td>\n",
       "      <td>NaN</td>\n",
       "      <td>NaN</td>\n",
       "      <td>NaN</td>\n",
       "      <td>NaN</td>\n",
       "      <td>NaN</td>\n",
       "      <td>NaN</td>\n",
       "      <td>NaN</td>\n",
       "    </tr>\n",
       "    <tr>\n",
       "      <th>0</th>\n",
       "      <td>11</td>\n",
       "      <td>0f7eccd16e87546095227655cb777b81</td>\n",
       "      <td>{\"cutoff\": \"quantile_0.1\", \"eval_fairness_grou...</td>\n",
       "      <td>26.10912</td>\n",
       "      <td>89710</td>\n",
       "      <td>1.0</td>\n",
       "      <td>0.052821</td>\n",
       "      <td>0.943301</td>\n",
       "      <td>0.047041</td>\n",
       "      <td>0.949757</td>\n",
       "      <td>...</td>\n",
       "      <td>0.119703</td>\n",
       "      <td>0.142339</td>\n",
       "      <td>0.931598</td>\n",
       "      <td>0.878777</td>\n",
       "      <td>0.027872</td>\n",
       "      <td>0.042123</td>\n",
       "      <td>0.936271</td>\n",
       "      <td>0.889229</td>\n",
       "      <td>20540.0</td>\n",
       "      <td>69170.0</td>\n",
       "    </tr>\n",
       "    <tr>\n",
       "      <th>0</th>\n",
       "      <td>11</td>\n",
       "      <td>0f7eccd16e87546095227655cb777b81</td>\n",
       "      <td>{\"cutoff\": \"quantile_0.25\", \"eval_fairness_gro...</td>\n",
       "      <td>26.10912</td>\n",
       "      <td>89710</td>\n",
       "      <td>1.0</td>\n",
       "      <td>0.091975</td>\n",
       "      <td>0.897594</td>\n",
       "      <td>0.043435</td>\n",
       "      <td>0.942844</td>\n",
       "      <td>...</td>\n",
       "      <td>NaN</td>\n",
       "      <td>NaN</td>\n",
       "      <td>NaN</td>\n",
       "      <td>NaN</td>\n",
       "      <td>NaN</td>\n",
       "      <td>NaN</td>\n",
       "      <td>NaN</td>\n",
       "      <td>NaN</td>\n",
       "      <td>NaN</td>\n",
       "      <td>NaN</td>\n",
       "    </tr>\n",
       "    <tr>\n",
       "      <th>0</th>\n",
       "      <td>11</td>\n",
       "      <td>0f7eccd16e87546095227655cb777b81</td>\n",
       "      <td>{\"cutoff\": \"quantile_0.25\", \"eval_fairness_gro...</td>\n",
       "      <td>26.10912</td>\n",
       "      <td>89710</td>\n",
       "      <td>1.0</td>\n",
       "      <td>0.091975</td>\n",
       "      <td>0.897594</td>\n",
       "      <td>0.043435</td>\n",
       "      <td>0.942844</td>\n",
       "      <td>...</td>\n",
       "      <td>0.129714</td>\n",
       "      <td>0.156169</td>\n",
       "      <td>0.704821</td>\n",
       "      <td>0.738897</td>\n",
       "      <td>0.193834</td>\n",
       "      <td>0.101860</td>\n",
       "      <td>0.716504</td>\n",
       "      <td>0.759939</td>\n",
       "      <td>20540.0</td>\n",
       "      <td>69170.0</td>\n",
       "    </tr>\n",
       "  </tbody>\n",
       "</table>\n",
       "<p>4 rows × 50 columns</p>\n",
       "</div>"
      ],
      "text/plain": [
       "  run_no                       universe_id  \\\n",
       "0     11  0f7eccd16e87546095227655cb777b81   \n",
       "0     11  0f7eccd16e87546095227655cb777b81   \n",
       "0     11  0f7eccd16e87546095227655cb777b81   \n",
       "0     11  0f7eccd16e87546095227655cb777b81   \n",
       "\n",
       "                                   universe_settings  execution_time  \\\n",
       "0  {\"cutoff\": \"quantile_0.1\", \"eval_fairness_grou...        26.10912   \n",
       "0  {\"cutoff\": \"quantile_0.1\", \"eval_fairness_grou...        26.10912   \n",
       "0  {\"cutoff\": \"quantile_0.25\", \"eval_fairness_gro...        26.10912   \n",
       "0  {\"cutoff\": \"quantile_0.25\", \"eval_fairness_gro...        26.10912   \n",
       "\n",
       "   test_size_n  test_size_frac  fair_main_equalized_odds_difference  \\\n",
       "0        89710             1.0                             0.052821   \n",
       "0        89710             1.0                             0.052821   \n",
       "0        89710             1.0                             0.091975   \n",
       "0        89710             1.0                             0.091975   \n",
       "\n",
       "   fair_main_equalized_odds_ratio  fair_main_demographic_parity_difference  \\\n",
       "0                        0.943301                                 0.047041   \n",
       "0                        0.943301                                 0.047041   \n",
       "0                        0.897594                                 0.043435   \n",
       "0                        0.897594                                 0.043435   \n",
       "\n",
       "   fair_main_demographic_parity_ratio  ...  perf_grp_precision_0  \\\n",
       "0                            0.949757  ...                   NaN   \n",
       "0                            0.949757  ...              0.119703   \n",
       "0                            0.942844  ...                   NaN   \n",
       "0                            0.942844  ...              0.129714   \n",
       "\n",
       "   perf_grp_precision_1  perf_grp_false positive rate_0  \\\n",
       "0                   NaN                             NaN   \n",
       "0              0.142339                        0.931598   \n",
       "0                   NaN                             NaN   \n",
       "0              0.156169                        0.704821   \n",
       "\n",
       "   perf_grp_false positive rate_1  perf_grp_false negative rate_0  \\\n",
       "0                             NaN                             NaN   \n",
       "0                        0.878777                        0.027872   \n",
       "0                             NaN                             NaN   \n",
       "0                        0.738897                        0.193834   \n",
       "\n",
       "   perf_grp_false negative rate_1  perf_grp_selection rate_0  \\\n",
       "0                             NaN                        NaN   \n",
       "0                        0.042123                   0.936271   \n",
       "0                             NaN                        NaN   \n",
       "0                        0.101860                   0.716504   \n",
       "\n",
       "   perf_grp_selection rate_1  perf_grp_count_0  perf_grp_count_1  \n",
       "0                        NaN               NaN               NaN  \n",
       "0                   0.889229           20540.0           69170.0  \n",
       "0                        NaN               NaN               NaN  \n",
       "0                   0.759939           20540.0           69170.0  \n",
       "\n",
       "[4 rows x 50 columns]"
      ]
     },
     "execution_count": 72,
     "metadata": {},
     "output_type": "execute_result"
    }
   ],
   "source": [
    "final_output = universe_analysis.generate_final_output(\n",
    "    y_pred_prob=probs_test,\n",
    "    y_test=y_true,\n",
    "    org_test=org_test,\n",
    "    filter_data=filter_sub_universe_data,\n",
    "    cp_metrics_df=cp_metrics_df,\n",
    "    save=True,\n",
    ")\n",
    "final_output"
   ]
  },
  {
   "cell_type": "code",
   "execution_count": null,
   "id": "721ff514-cb11-46f8-b6fc-50392f74b5cb",
   "metadata": {
    "papermill": {
     "duration": 0.026879,
     "end_time": "2025-07-28T10:42:02.358410",
     "exception": false,
     "start_time": "2025-07-28T10:42:02.331531",
     "status": "completed"
    },
    "tags": []
   },
   "outputs": [],
   "source": []
  }
 ],
 "metadata": {
  "celltoolbar": "Tags",
  "kernelspec": {
   "display_name": "Python (CMA Fairness)",
   "language": "python",
   "name": "cma_fair_env"
  },
  "language_info": {
   "codemirror_mode": {
    "name": "ipython",
    "version": 3
   },
   "file_extension": ".py",
   "mimetype": "text/x-python",
   "name": "python",
   "nbconvert_exporter": "python",
   "pygments_lexer": "ipython3",
   "version": "3.10.12"
  },
  "papermill": {
   "default_parameters": {},
   "duration": 40.66085,
   "end_time": "2025-07-28T10:42:03.106717",
   "environment_variables": {},
   "exception": null,
   "input_path": "universe_analysis.ipynb",
   "output_path": "output/runs/11/notebooks/m_11-0f7eccd16e87546095227655cb777b81.ipynb",
   "parameters": {
    "output_dir": "output",
    "run_no": "11",
    "seed": "2023",
    "universe": "{\"cutoff\": [\"quantile_0.1\", \"quantile_0.25\"], \"eval_fairness_grouping\": [\"majority-minority\", \"nationality-all\"], \"exclude_features\": \"none\", \"exclude_subgroups\": \"keep-all\", \"model\": \"logreg\", \"scale\": \"scale\", \"training_size\": \"1k\"}",
    "universe_id": "0f7eccd16e87546095227655cb777b81"
   },
   "start_time": "2025-07-28T10:41:22.445867",
   "version": "2.6.0"
  }
 },
 "nbformat": 4,
 "nbformat_minor": 5
}