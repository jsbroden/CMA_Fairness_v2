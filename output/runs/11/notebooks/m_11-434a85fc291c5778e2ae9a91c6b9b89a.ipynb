{
 "cells": [
  {
   "cell_type": "code",
   "execution_count": 1,
   "id": "f159f837-637b-42ba-96b5-ec9a68c44524",
   "metadata": {
    "execution": {
     "iopub.execute_input": "2025-07-28T10:33:06.507117Z",
     "iopub.status.busy": "2025-07-28T10:33:06.506641Z",
     "iopub.status.idle": "2025-07-28T10:33:06.520684Z",
     "shell.execute_reply": "2025-07-28T10:33:06.519627Z"
    },
    "papermill": {
     "duration": 0.037332,
     "end_time": "2025-07-28T10:33:06.522329",
     "exception": false,
     "start_time": "2025-07-28T10:33:06.484997",
     "status": "completed"
    },
    "tags": []
   },
   "outputs": [
    {
     "name": "stdout",
     "output_type": "stream",
     "text": [
      "/dss/dsshome1/0C/ra93lal2/cma/CMA_Fairness_v2\n"
     ]
    },
    {
     "name": "stderr",
     "output_type": "stream",
     "text": [
      "/dss/dsshome1/0C/ra93lal2/.local/share/virtualenvs/CMA_Fairness_v2-3j10GkSs/lib/python3.10/site-packages/IPython/core/magics/osm.py:393: UserWarning: This is now an optional IPython functionality, using bookmarks requires you to install the `pickleshare` library.\n",
      "  bkms = self.shell.db.get('bookmarks', {})\n",
      "/dss/dsshome1/0C/ra93lal2/.local/share/virtualenvs/CMA_Fairness_v2-3j10GkSs/lib/python3.10/site-packages/IPython/core/magics/osm.py:417: UserWarning: This is now an optional IPython functionality, setting dhist requires you to install the `pickleshare` library.\n",
      "  self.shell.db['dhist'] = compress_dhist(dhist)[-100:]\n"
     ]
    }
   ],
   "source": [
    "%cd ~/cma/CMA_Fairness_v2"
   ]
  },
  {
   "cell_type": "markdown",
   "id": "de2603b9",
   "metadata": {
    "papermill": {
     "duration": 0.01916,
     "end_time": "2025-07-28T10:33:06.560982",
     "exception": false,
     "start_time": "2025-07-28T10:33:06.541822",
     "status": "completed"
    },
    "tags": []
   },
   "source": [
    "The following cell holds the definition of our parameters, these values can be overriden by rendering the with e.g. the following command:\n",
    "\n",
    "papermill -p alpha 0.2 -p ratio 0.3 universe_analysis.ipynb output/test_run.ipynb"
   ]
  },
  {
   "cell_type": "code",
   "execution_count": 2,
   "id": "a80968a0-40bb-4fa9-85ef-2d5eefb01975",
   "metadata": {
    "execution": {
     "iopub.execute_input": "2025-07-28T10:33:06.602782Z",
     "iopub.status.busy": "2025-07-28T10:33:06.602097Z",
     "iopub.status.idle": "2025-07-28T10:33:06.607876Z",
     "shell.execute_reply": "2025-07-28T10:33:06.606825Z"
    },
    "papermill": {
     "duration": 0.028437,
     "end_time": "2025-07-28T10:33:06.609424",
     "exception": false,
     "start_time": "2025-07-28T10:33:06.580987",
     "status": "completed"
    },
    "tags": []
   },
   "outputs": [
    {
     "name": "stdout",
     "output_type": "stream",
     "text": [
      "Current working directory: /dss/dsshome1/0C/ra93lal2/cma/CMA_Fairness_v2\n"
     ]
    }
   ],
   "source": [
    "import os\n",
    "print(\"Current working directory:\", os.getcwd())"
   ]
  },
  {
   "cell_type": "code",
   "execution_count": 3,
   "id": "2dce4c03",
   "metadata": {
    "execution": {
     "iopub.execute_input": "2025-07-28T10:33:06.656613Z",
     "iopub.status.busy": "2025-07-28T10:33:06.656231Z",
     "iopub.status.idle": "2025-07-28T10:33:06.662387Z",
     "shell.execute_reply": "2025-07-28T10:33:06.661302Z"
    },
    "papermill": {
     "duration": 0.035009,
     "end_time": "2025-07-28T10:33:06.663923",
     "exception": false,
     "start_time": "2025-07-28T10:33:06.628914",
     "status": "completed"
    },
    "tags": [
     "parameters"
    ]
   },
   "outputs": [],
   "source": [
    "run_no = 0\n",
    "universe_id = \"test\"\n",
    "universe = {\n",
    "    \"training_size\": \"2014\", # \"25k\", \"5k\", \"1k\", \"2014\"\n",
    "    \"scale\": \"scale\", # \"scale\", \"do-not-scale\",\n",
    "    #\"stratify_split\": \"target\", # \"none\", \"target\", \"protected-attribute\", \"both\",\n",
    "    \"model\": \"elasticnet\", # \"logreg\", \"penalized_logreg\", \"rf\", \"gbm\", \"elasticnet\"\n",
    "    \"cutoff\": [\"quantile_0.15\", \"quantile_0.30\"],\n",
    "    \"exclude_features\": \"age\", # \"none\", \"nationality\", \"sex\", \"nationality-sex\", \"age\"\n",
    "    \"exclude_subgroups\": \"keep-all\", # \"keep-all\", \"drop-non-german\"\n",
    "    #\"training_sample\": \"restricted\", # \"restricted\", \"full\"\n",
    "    \"eval_fairness_grouping\": [\"majority-minority\", \"nationality-all\"]\n",
    "}\n",
    "\n",
    "output_dir=\"./output\"\n",
    "seed=0"
   ]
  },
  {
   "cell_type": "code",
   "execution_count": 4,
   "id": "b57925b3",
   "metadata": {
    "execution": {
     "iopub.execute_input": "2025-07-28T10:33:06.702459Z",
     "iopub.status.busy": "2025-07-28T10:33:06.701767Z",
     "iopub.status.idle": "2025-07-28T10:33:06.707325Z",
     "shell.execute_reply": "2025-07-28T10:33:06.706438Z"
    },
    "papermill": {
     "duration": 0.025922,
     "end_time": "2025-07-28T10:33:06.708756",
     "exception": false,
     "start_time": "2025-07-28T10:33:06.682834",
     "status": "completed"
    },
    "tags": [
     "injected-parameters"
    ]
   },
   "outputs": [],
   "source": [
    "# Parameters\n",
    "universe_id = \"434a85fc291c5778e2ae9a91c6b9b89a\"\n",
    "run_no = \"11\"\n",
    "universe = \"{\\\"cutoff\\\": [\\\"quantile_0.1\\\", \\\"quantile_0.25\\\"], \\\"eval_fairness_grouping\\\": [\\\"majority-minority\\\", \\\"nationality-all\\\"], \\\"exclude_features\\\": \\\"nationality\\\", \\\"exclude_subgroups\\\": \\\"keep-all\\\", \\\"model\\\": \\\"elasticnet\\\", \\\"scale\\\": \\\"scale\\\", \\\"training_size\\\": \\\"5k\\\"}\"\n",
    "output_dir = \"output\"\n",
    "seed = \"2023\"\n"
   ]
  },
  {
   "cell_type": "code",
   "execution_count": 5,
   "id": "1650acaf",
   "metadata": {
    "execution": {
     "iopub.execute_input": "2025-07-28T10:33:06.746453Z",
     "iopub.status.busy": "2025-07-28T10:33:06.745554Z",
     "iopub.status.idle": "2025-07-28T10:33:06.751323Z",
     "shell.execute_reply": "2025-07-28T10:33:06.750287Z"
    },
    "papermill": {
     "duration": 0.026132,
     "end_time": "2025-07-28T10:33:06.752982",
     "exception": false,
     "start_time": "2025-07-28T10:33:06.726850",
     "status": "completed"
    },
    "tags": []
   },
   "outputs": [],
   "source": [
    "import json\n",
    "# Parse universe into dict if it is passed as a string\n",
    "if isinstance(universe, str):\n",
    "    universe = json.loads(universe)"
   ]
  },
  {
   "cell_type": "code",
   "execution_count": 6,
   "id": "16620c48",
   "metadata": {
    "execution": {
     "iopub.execute_input": "2025-07-28T10:33:06.791683Z",
     "iopub.status.busy": "2025-07-28T10:33:06.790856Z",
     "iopub.status.idle": "2025-07-28T10:33:06.841215Z",
     "shell.execute_reply": "2025-07-28T10:33:06.840197Z"
    },
    "papermill": {
     "duration": 0.072306,
     "end_time": "2025-07-28T10:33:06.844025",
     "exception": false,
     "start_time": "2025-07-28T10:33:06.771719",
     "status": "completed"
    },
    "tags": []
   },
   "outputs": [],
   "source": [
    "# Auto-reload the custom package\n",
    "%load_ext autoreload\n",
    "%autoreload 1\n",
    "%aimport fairness_multiverse"
   ]
  },
  {
   "cell_type": "code",
   "execution_count": 7,
   "id": "01c5c9f3",
   "metadata": {
    "execution": {
     "iopub.execute_input": "2025-07-28T10:33:06.882737Z",
     "iopub.status.busy": "2025-07-28T10:33:06.881898Z",
     "iopub.status.idle": "2025-07-28T10:33:08.906874Z",
     "shell.execute_reply": "2025-07-28T10:33:08.905915Z"
    },
    "papermill": {
     "duration": 2.046323,
     "end_time": "2025-07-28T10:33:08.908971",
     "exception": false,
     "start_time": "2025-07-28T10:33:06.862648",
     "status": "completed"
    },
    "tags": []
   },
   "outputs": [],
   "source": [
    "from fairness_multiverse.universe import UniverseAnalysis\n",
    "\n",
    "universe_analysis = UniverseAnalysis(\n",
    "    run_no = run_no,\n",
    "    universe_id = universe_id,\n",
    "    universe = universe,\n",
    "    output_dir=output_dir,\n",
    ")"
   ]
  },
  {
   "cell_type": "code",
   "execution_count": 8,
   "id": "106241f5",
   "metadata": {
    "execution": {
     "iopub.execute_input": "2025-07-28T10:33:08.947490Z",
     "iopub.status.busy": "2025-07-28T10:33:08.947096Z",
     "iopub.status.idle": "2025-07-28T10:33:08.953289Z",
     "shell.execute_reply": "2025-07-28T10:33:08.952285Z"
    },
    "papermill": {
     "duration": 0.027351,
     "end_time": "2025-07-28T10:33:08.954930",
     "exception": false,
     "start_time": "2025-07-28T10:33:08.927579",
     "status": "completed"
    },
    "tags": []
   },
   "outputs": [
    {
     "name": "stdout",
     "output_type": "stream",
     "text": [
      "Using Seed: 2023\n"
     ]
    }
   ],
   "source": [
    "import numpy as np\n",
    "parsed_seed = int(seed)\n",
    "np.random.seed(parsed_seed)\n",
    "print(f\"Using Seed: {parsed_seed}\")"
   ]
  },
  {
   "cell_type": "markdown",
   "id": "e0ebdc57",
   "metadata": {
    "papermill": {
     "duration": 0.018055,
     "end_time": "2025-07-28T10:33:08.991556",
     "exception": false,
     "start_time": "2025-07-28T10:33:08.973501",
     "status": "completed"
    },
    "tags": []
   },
   "source": [
    "# Loading Data"
   ]
  },
  {
   "cell_type": "markdown",
   "id": "681925a3",
   "metadata": {
    "papermill": {
     "duration": 0.018049,
     "end_time": "2025-07-28T10:33:09.027942",
     "exception": false,
     "start_time": "2025-07-28T10:33:09.009893",
     "status": "completed"
    },
    "tags": []
   },
   "source": [
    "Load siab_train, siab_test, siab_calib and/or \n",
    "load siab_train_features, siab_train_labels"
   ]
  },
  {
   "cell_type": "code",
   "execution_count": 9,
   "id": "f0496b8a",
   "metadata": {
    "execution": {
     "iopub.execute_input": "2025-07-28T10:33:09.066201Z",
     "iopub.status.busy": "2025-07-28T10:33:09.065482Z",
     "iopub.status.idle": "2025-07-28T10:33:22.231760Z",
     "shell.execute_reply": "2025-07-28T10:33:22.230353Z"
    },
    "papermill": {
     "duration": 13.187608,
     "end_time": "2025-07-28T10:33:22.233455",
     "exception": false,
     "start_time": "2025-07-28T10:33:09.045847",
     "status": "completed"
    },
    "tags": []
   },
   "outputs": [
    {
     "name": "stdout",
     "output_type": "stream",
     "text": [
      "Loading SIAB data from cache: data/siab_cached.csv.gz\n"
     ]
    },
    {
     "name": "stdout",
     "output_type": "stream",
     "text": [
      "(643690, 164)\n"
     ]
    }
   ],
   "source": [
    "from pathlib import Path\n",
    "import pandas as pd\n",
    "\n",
    "# File paths\n",
    "raw_file = Path(\"data/raw/siab.csv\")\n",
    "cache_file = Path(\"data/siab_cached.csv.gz\")\n",
    "\n",
    "# Ensure cache directory exists\n",
    "cache_file.parent.mkdir(parents=True, exist_ok=True)\n",
    "\n",
    "# Load with simple caching\n",
    "if cache_file.exists():\n",
    "    print(f\"Loading SIAB data from cache: {cache_file}\")\n",
    "    siab = pd.read_csv(cache_file, compression='gzip')\n",
    "else:\n",
    "    print(f\"Cache not found. Reading raw SIAB data: {raw_file}\")\n",
    "    siab = pd.read_csv(raw_file)\n",
    "    siab.to_csv(cache_file, index=False, compression='gzip')\n",
    "    print(f\"Cached SIAB data to: {cache_file}\")\n",
    "\n",
    "# Now use `siab` DataFrame as needed\n",
    "print(siab.shape)"
   ]
  },
  {
   "cell_type": "code",
   "execution_count": 10,
   "id": "db0ca512-5f53-4dba-abdb-a2888bca41ba",
   "metadata": {
    "execution": {
     "iopub.execute_input": "2025-07-28T10:33:22.277324Z",
     "iopub.status.busy": "2025-07-28T10:33:22.276910Z",
     "iopub.status.idle": "2025-07-28T10:33:22.281952Z",
     "shell.execute_reply": "2025-07-28T10:33:22.280964Z"
    },
    "papermill": {
     "duration": 0.028743,
     "end_time": "2025-07-28T10:33:22.283288",
     "exception": false,
     "start_time": "2025-07-28T10:33:22.254545",
     "status": "completed"
    },
    "tags": []
   },
   "outputs": [],
   "source": [
    "#siab"
   ]
  },
  {
   "cell_type": "code",
   "execution_count": 11,
   "id": "a0edb063",
   "metadata": {
    "execution": {
     "iopub.execute_input": "2025-07-28T10:33:22.307272Z",
     "iopub.status.busy": "2025-07-28T10:33:22.306877Z",
     "iopub.status.idle": "2025-07-28T10:33:22.311877Z",
     "shell.execute_reply": "2025-07-28T10:33:22.311061Z"
    },
    "papermill": {
     "duration": 0.018444,
     "end_time": "2025-07-28T10:33:22.313357",
     "exception": false,
     "start_time": "2025-07-28T10:33:22.294913",
     "status": "completed"
    },
    "tags": []
   },
   "outputs": [],
   "source": [
    "#import pandas as pd\n",
    "#\n",
    "#X_train = pd.read_csv(\"./data/X_train.csv\")\n",
    "#y_train = pd.read_csv(\"./data/y_train.csv\")"
   ]
  },
  {
   "cell_type": "code",
   "execution_count": 12,
   "id": "63d08085",
   "metadata": {
    "execution": {
     "iopub.execute_input": "2025-07-28T10:33:22.340285Z",
     "iopub.status.busy": "2025-07-28T10:33:22.339839Z",
     "iopub.status.idle": "2025-07-28T10:33:22.344886Z",
     "shell.execute_reply": "2025-07-28T10:33:22.343977Z"
    },
    "papermill": {
     "duration": 0.018645,
     "end_time": "2025-07-28T10:33:22.346357",
     "exception": false,
     "start_time": "2025-07-28T10:33:22.327712",
     "status": "completed"
    },
    "tags": []
   },
   "outputs": [],
   "source": [
    "#X_test = pd.read_csv(\"./data/X_test.csv\")\n",
    "#y_true = pd.read_csv(\"./data/y_test.csv\")"
   ]
  },
  {
   "cell_type": "code",
   "execution_count": 13,
   "id": "98a8d0fa-1d3d-4ed8-bb2c-281470e24add",
   "metadata": {
    "execution": {
     "iopub.execute_input": "2025-07-28T10:33:22.370516Z",
     "iopub.status.busy": "2025-07-28T10:33:22.369974Z",
     "iopub.status.idle": "2025-07-28T10:33:22.376624Z",
     "shell.execute_reply": "2025-07-28T10:33:22.375562Z"
    },
    "papermill": {
     "duration": 0.020659,
     "end_time": "2025-07-28T10:33:22.378562",
     "exception": false,
     "start_time": "2025-07-28T10:33:22.357903",
     "status": "completed"
    },
    "tags": []
   },
   "outputs": [],
   "source": [
    "# Calibration data for conformal\n",
    "#X_calib = pd.read_csv(\"./data/X_calib.csv\")\n",
    "#y_calib = pd.read_csv(\"./data/y_calib.csv\")"
   ]
  },
  {
   "cell_type": "markdown",
   "id": "9901737e-04df-44f0-9100-f5ad144ed040",
   "metadata": {
    "papermill": {
     "duration": 0.022397,
     "end_time": "2025-07-28T10:33:22.423054",
     "exception": false,
     "start_time": "2025-07-28T10:33:22.400657",
     "status": "completed"
    },
    "tags": []
   },
   "source": [
    "# Splitting Data and Setting Training Data Size"
   ]
  },
  {
   "cell_type": "code",
   "execution_count": 14,
   "id": "acbc8f7d-8fc8-4e86-8c59-5dcb0f58384b",
   "metadata": {
    "execution": {
     "iopub.execute_input": "2025-07-28T10:33:22.469279Z",
     "iopub.status.busy": "2025-07-28T10:33:22.468397Z",
     "iopub.status.idle": "2025-07-28T10:33:22.477231Z",
     "shell.execute_reply": "2025-07-28T10:33:22.476140Z"
    },
    "papermill": {
     "duration": 0.033854,
     "end_time": "2025-07-28T10:33:22.478930",
     "exception": false,
     "start_time": "2025-07-28T10:33:22.445076",
     "status": "completed"
    },
    "tags": []
   },
   "outputs": [],
   "source": [
    "def sample_by_year(df, training_size, random_state=42):\n",
    "    if training_size == \"2014\":\n",
    "        return df[df[\"year\"] == 2014].reset_index(drop=True)\n",
    "    \n",
    "    size_map = {\n",
    "        \"25k\": 5000,\n",
    "        \"5k\": 1000,\n",
    "        \"1k\": 200\n",
    "    }\n",
    "\n",
    "    if training_size not in size_map:\n",
    "        return df.reset_index(drop=True)  # use all data\n",
    "\n",
    "    n_per_year = size_map[training_size]\n",
    "    grouped = df.groupby(\"year\")\n",
    "    sampled = grouped.apply(lambda x: x.sample(n=min(n_per_year, len(x)), random_state=random_state))\n",
    "    return sampled.reset_index(drop=True)"
   ]
  },
  {
   "cell_type": "code",
   "execution_count": 15,
   "id": "6d931f52-beaf-43ff-9e78-9d44a448d54e",
   "metadata": {
    "execution": {
     "iopub.execute_input": "2025-07-28T10:33:22.518371Z",
     "iopub.status.busy": "2025-07-28T10:33:22.517876Z",
     "iopub.status.idle": "2025-07-28T10:33:23.178890Z",
     "shell.execute_reply": "2025-07-28T10:33:23.177939Z"
    },
    "papermill": {
     "duration": 0.682453,
     "end_time": "2025-07-28T10:33:23.180954",
     "exception": false,
     "start_time": "2025-07-28T10:33:22.498501",
     "status": "completed"
    },
    "tags": []
   },
   "outputs": [],
   "source": [
    "siab_s = sample_by_year(siab, universe[\"training_size\"])"
   ]
  },
  {
   "cell_type": "code",
   "execution_count": 16,
   "id": "5db0a40e-a4e2-4920-be85-b12ae061d70d",
   "metadata": {
    "execution": {
     "iopub.execute_input": "2025-07-28T10:33:23.223936Z",
     "iopub.status.busy": "2025-07-28T10:33:23.223551Z",
     "iopub.status.idle": "2025-07-28T10:33:23.237017Z",
     "shell.execute_reply": "2025-07-28T10:33:23.236065Z"
    },
    "papermill": {
     "duration": 0.035518,
     "end_time": "2025-07-28T10:33:23.238594",
     "exception": false,
     "start_time": "2025-07-28T10:33:23.203076",
     "status": "completed"
    },
    "tags": []
   },
   "outputs": [
    {
     "data": {
      "text/plain": [
       "year\n",
       "2010    1000\n",
       "2011    1000\n",
       "2012    1000\n",
       "2013    1000\n",
       "2014    1000\n",
       "2015    1000\n",
       "2016    1000\n",
       "dtype: int64"
      ]
     },
     "metadata": {},
     "output_type": "display_data"
    }
   ],
   "source": [
    "display(siab_s.groupby(\"year\").size())"
   ]
  },
  {
   "cell_type": "code",
   "execution_count": 17,
   "id": "a561edb4-d032-42cb-8256-22eac1111c64",
   "metadata": {
    "execution": {
     "iopub.execute_input": "2025-07-28T10:33:23.278956Z",
     "iopub.status.busy": "2025-07-28T10:33:23.278273Z",
     "iopub.status.idle": "2025-07-28T10:33:23.531223Z",
     "shell.execute_reply": "2025-07-28T10:33:23.530251Z"
    },
    "papermill": {
     "duration": 0.27282,
     "end_time": "2025-07-28T10:33:23.533266",
     "exception": false,
     "start_time": "2025-07-28T10:33:23.260446",
     "status": "completed"
    },
    "tags": []
   },
   "outputs": [],
   "source": [
    "siab_train = siab_s[siab_s.year < 2015]\n",
    "siab_calib = siab[siab.year == 2015]\n",
    "siab_test = siab[siab.year == 2016]"
   ]
  },
  {
   "cell_type": "code",
   "execution_count": 18,
   "id": "472de16f-c3db-4916-846b-1f0de9cf1746",
   "metadata": {
    "execution": {
     "iopub.execute_input": "2025-07-28T10:33:23.590488Z",
     "iopub.status.busy": "2025-07-28T10:33:23.589697Z",
     "iopub.status.idle": "2025-07-28T10:33:23.598571Z",
     "shell.execute_reply": "2025-07-28T10:33:23.597618Z"
    },
    "papermill": {
     "duration": 0.030632,
     "end_time": "2025-07-28T10:33:23.599997",
     "exception": false,
     "start_time": "2025-07-28T10:33:23.569365",
     "status": "completed"
    },
    "tags": []
   },
   "outputs": [],
   "source": [
    "X_train = siab_train.iloc[:,4:164]\n",
    "y_train = siab_train.iloc[:, [3]]"
   ]
  },
  {
   "cell_type": "code",
   "execution_count": 19,
   "id": "828c96af-f43a-4ed6-ba47-8ac73a47d56c",
   "metadata": {
    "execution": {
     "iopub.execute_input": "2025-07-28T10:33:23.641938Z",
     "iopub.status.busy": "2025-07-28T10:33:23.641405Z",
     "iopub.status.idle": "2025-07-28T10:33:23.701516Z",
     "shell.execute_reply": "2025-07-28T10:33:23.700582Z"
    },
    "papermill": {
     "duration": 0.082407,
     "end_time": "2025-07-28T10:33:23.703300",
     "exception": false,
     "start_time": "2025-07-28T10:33:23.620893",
     "status": "completed"
    },
    "tags": []
   },
   "outputs": [],
   "source": [
    "X_calib = siab_calib.iloc[:,4:164]\n",
    "y_calib = siab_calib.iloc[:, [3]]"
   ]
  },
  {
   "cell_type": "code",
   "execution_count": 20,
   "id": "c34be9c3-6bd6-476e-acd3-845840e303be",
   "metadata": {
    "execution": {
     "iopub.execute_input": "2025-07-28T10:33:23.743936Z",
     "iopub.status.busy": "2025-07-28T10:33:23.743236Z",
     "iopub.status.idle": "2025-07-28T10:33:23.796190Z",
     "shell.execute_reply": "2025-07-28T10:33:23.795073Z"
    },
    "papermill": {
     "duration": 0.074731,
     "end_time": "2025-07-28T10:33:23.797916",
     "exception": false,
     "start_time": "2025-07-28T10:33:23.723185",
     "status": "completed"
    },
    "tags": []
   },
   "outputs": [],
   "source": [
    "X_test = siab_test.iloc[:,4:164]\n",
    "y_true = siab_test.iloc[:, [3]]"
   ]
  },
  {
   "cell_type": "code",
   "execution_count": 21,
   "id": "e6c733c5",
   "metadata": {
    "execution": {
     "iopub.execute_input": "2025-07-28T10:33:23.838464Z",
     "iopub.status.busy": "2025-07-28T10:33:23.837777Z",
     "iopub.status.idle": "2025-07-28T10:33:23.933027Z",
     "shell.execute_reply": "2025-07-28T10:33:23.932077Z"
    },
    "papermill": {
     "duration": 0.117339,
     "end_time": "2025-07-28T10:33:23.934980",
     "exception": false,
     "start_time": "2025-07-28T10:33:23.817641",
     "status": "completed"
    },
    "tags": []
   },
   "outputs": [],
   "source": [
    "# Auxiliary data needed downstream in the pipeline\n",
    "\n",
    "org_train = X_train.copy()\n",
    "org_test = X_test.copy()\n",
    "org_calib = X_calib.copy()"
   ]
  },
  {
   "cell_type": "markdown",
   "id": "0a4a1b33",
   "metadata": {
    "papermill": {
     "duration": 0.019366,
     "end_time": "2025-07-28T10:33:23.974473",
     "exception": false,
     "start_time": "2025-07-28T10:33:23.955107",
     "status": "completed"
    },
    "tags": []
   },
   "source": [
    "# Preprocessing Data"
   ]
  },
  {
   "cell_type": "code",
   "execution_count": 22,
   "id": "ca879031",
   "metadata": {
    "execution": {
     "iopub.execute_input": "2025-07-28T10:33:24.014851Z",
     "iopub.status.busy": "2025-07-28T10:33:24.014179Z",
     "iopub.status.idle": "2025-07-28T10:33:24.020836Z",
     "shell.execute_reply": "2025-07-28T10:33:24.019823Z"
    },
    "papermill": {
     "duration": 0.028788,
     "end_time": "2025-07-28T10:33:24.022342",
     "exception": false,
     "start_time": "2025-07-28T10:33:23.993554",
     "status": "completed"
    },
    "tags": []
   },
   "outputs": [],
   "source": [
    "# EXCLUDE PROTECTED FEATURES\n",
    "# ----------------------\n",
    "# \"exclude_features\": \"none\", # \"nationality\", \"sex\", \"nationality-sex\"\n",
    "\n",
    "excluded_features = universe[\"exclude_features\"].split(\"-\") # split, e.g.: \"nationality-sex\" -> [\"nationality\", \"sex\"]\n",
    "excluded_features_dictionary = {\n",
    "    \"nationality\": [\"maxdeutsch1\", \"maxdeutsch.Missing.\"],\n",
    "    \"sex\": [\"frau1\"],\n",
    "    \"age\": [\"age\"],\n",
    "}\n"
   ]
  },
  {
   "cell_type": "code",
   "execution_count": 23,
   "id": "b745ac60",
   "metadata": {
    "execution": {
     "iopub.execute_input": "2025-07-28T10:33:24.063255Z",
     "iopub.status.busy": "2025-07-28T10:33:24.062534Z",
     "iopub.status.idle": "2025-07-28T10:33:24.068785Z",
     "shell.execute_reply": "2025-07-28T10:33:24.067498Z"
    },
    "papermill": {
     "duration": 0.028336,
     "end_time": "2025-07-28T10:33:24.070350",
     "exception": false,
     "start_time": "2025-07-28T10:33:24.042014",
     "status": "completed"
    },
    "tags": []
   },
   "outputs": [],
   "source": [
    "# Code nice names to column names\n",
    "\n",
    "excluded_features_columns = [\n",
    "    excluded_features_dictionary[f] for f in excluded_features if len(f) > 0 and f != \"none\"\n",
    "]"
   ]
  },
  {
   "cell_type": "code",
   "execution_count": 24,
   "id": "f84f73a2",
   "metadata": {
    "execution": {
     "iopub.execute_input": "2025-07-28T10:33:24.111108Z",
     "iopub.status.busy": "2025-07-28T10:33:24.110455Z",
     "iopub.status.idle": "2025-07-28T10:33:24.117249Z",
     "shell.execute_reply": "2025-07-28T10:33:24.116369Z"
    },
    "papermill": {
     "duration": 0.028737,
     "end_time": "2025-07-28T10:33:24.118783",
     "exception": false,
     "start_time": "2025-07-28T10:33:24.090046",
     "status": "completed"
    },
    "tags": []
   },
   "outputs": [],
   "source": [
    "from utils import flatten_once\n",
    "\n",
    "excluded_features_columns = flatten_once(excluded_features_columns)"
   ]
  },
  {
   "cell_type": "code",
   "execution_count": 25,
   "id": "884dea22",
   "metadata": {
    "execution": {
     "iopub.execute_input": "2025-07-28T10:33:24.159745Z",
     "iopub.status.busy": "2025-07-28T10:33:24.159064Z",
     "iopub.status.idle": "2025-07-28T10:33:24.168562Z",
     "shell.execute_reply": "2025-07-28T10:33:24.167539Z"
    },
    "papermill": {
     "duration": 0.031345,
     "end_time": "2025-07-28T10:33:24.170049",
     "exception": false,
     "start_time": "2025-07-28T10:33:24.138704",
     "status": "completed"
    },
    "tags": []
   },
   "outputs": [
    {
     "name": "stdout",
     "output_type": "stream",
     "text": [
      "Dropping features: ['maxdeutsch1', 'maxdeutsch.Missing.']\n"
     ]
    }
   ],
   "source": [
    "if len(excluded_features_columns) > 0:\n",
    "    print(f\"Dropping features: {excluded_features_columns}\")\n",
    "    X_train.drop(excluded_features_columns, axis=1, inplace=True)"
   ]
  },
  {
   "cell_type": "code",
   "execution_count": 26,
   "id": "95ab8b16",
   "metadata": {
    "execution": {
     "iopub.execute_input": "2025-07-28T10:33:24.211751Z",
     "iopub.status.busy": "2025-07-28T10:33:24.211090Z",
     "iopub.status.idle": "2025-07-28T10:33:24.264776Z",
     "shell.execute_reply": "2025-07-28T10:33:24.263676Z"
    },
    "papermill": {
     "duration": 0.07632,
     "end_time": "2025-07-28T10:33:24.266539",
     "exception": false,
     "start_time": "2025-07-28T10:33:24.190219",
     "status": "completed"
    },
    "tags": []
   },
   "outputs": [
    {
     "name": "stdout",
     "output_type": "stream",
     "text": [
      "Dropping features: ['maxdeutsch1', 'maxdeutsch.Missing.']\n"
     ]
    }
   ],
   "source": [
    "if len(excluded_features_columns) > 0:\n",
    "    print(f\"Dropping features: {excluded_features_columns}\")\n",
    "    X_test.drop(excluded_features_columns, axis=1, inplace=True)"
   ]
  },
  {
   "cell_type": "code",
   "execution_count": 27,
   "id": "1853aaf5-fb9f-46cb-a2b5-8ea4ae2237e4",
   "metadata": {
    "execution": {
     "iopub.execute_input": "2025-07-28T10:33:24.308750Z",
     "iopub.status.busy": "2025-07-28T10:33:24.308023Z",
     "iopub.status.idle": "2025-07-28T10:33:24.359275Z",
     "shell.execute_reply": "2025-07-28T10:33:24.358311Z"
    },
    "papermill": {
     "duration": 0.073908,
     "end_time": "2025-07-28T10:33:24.360830",
     "exception": false,
     "start_time": "2025-07-28T10:33:24.286922",
     "status": "completed"
    },
    "tags": []
   },
   "outputs": [
    {
     "name": "stdout",
     "output_type": "stream",
     "text": [
      "Dropping features: ['maxdeutsch1', 'maxdeutsch.Missing.']\n"
     ]
    }
   ],
   "source": [
    "if len(excluded_features_columns) > 0:\n",
    "    print(f\"Dropping features: {excluded_features_columns}\")\n",
    "    X_calib.drop(excluded_features_columns, axis=1, inplace=True)"
   ]
  },
  {
   "cell_type": "code",
   "execution_count": 28,
   "id": "6727d079-03e5-481e-9d38-292a90b7a0a8",
   "metadata": {
    "execution": {
     "iopub.execute_input": "2025-07-28T10:33:24.404165Z",
     "iopub.status.busy": "2025-07-28T10:33:24.403440Z",
     "iopub.status.idle": "2025-07-28T10:33:24.408408Z",
     "shell.execute_reply": "2025-07-28T10:33:24.407494Z"
    },
    "papermill": {
     "duration": 0.028241,
     "end_time": "2025-07-28T10:33:24.410075",
     "exception": false,
     "start_time": "2025-07-28T10:33:24.381834",
     "status": "completed"
    },
    "tags": []
   },
   "outputs": [],
   "source": [
    "# SPLIT & STRATIFY DATA\n",
    "# ----------------------"
   ]
  },
  {
   "cell_type": "code",
   "execution_count": 29,
   "id": "76c4dc6d",
   "metadata": {
    "execution": {
     "iopub.execute_input": "2025-07-28T10:33:24.453430Z",
     "iopub.status.busy": "2025-07-28T10:33:24.452741Z",
     "iopub.status.idle": "2025-07-28T10:33:24.459229Z",
     "shell.execute_reply": "2025-07-28T10:33:24.458407Z"
    },
    "papermill": {
     "duration": 0.029981,
     "end_time": "2025-07-28T10:33:24.460907",
     "exception": false,
     "start_time": "2025-07-28T10:33:24.430926",
     "status": "completed"
    },
    "tags": []
   },
   "outputs": [],
   "source": [
    "# EXCLUDE CERTAIN SUBGROUPS\n",
    "# ----------------------\n",
    "\n",
    "mode = universe.get(\"exclude_subgroups\", \"keep-all\") \n",
    "# Fetches the exclude_subgroups setting from the universe dict.\n",
    "# Defaults to \"keep-all\" if the key is missing."
   ]
  },
  {
   "cell_type": "code",
   "execution_count": 30,
   "id": "21994072",
   "metadata": {
    "execution": {
     "iopub.execute_input": "2025-07-28T10:33:24.504381Z",
     "iopub.status.busy": "2025-07-28T10:33:24.503654Z",
     "iopub.status.idle": "2025-07-28T10:33:24.510562Z",
     "shell.execute_reply": "2025-07-28T10:33:24.509600Z"
    },
    "papermill": {
     "duration": 0.030495,
     "end_time": "2025-07-28T10:33:24.512265",
     "exception": false,
     "start_time": "2025-07-28T10:33:24.481770",
     "status": "completed"
    },
    "tags": []
   },
   "outputs": [],
   "source": [
    "if mode == \"keep-all\":\n",
    "    keep_mask = pd.Series(True, index=org_train.index)\n",
    "\n",
    "# org_train contains the original feature columns from features_org (in Simson)\n",
    "# features_org contains unprocessed features, for me X_train at beginning ???\n",
    "# For keep-all, creates a boolean Series (keep_mask) of all True, so no rows are removed.\n",
    "\n",
    "elif mode == \"drop-non-german\":\n",
    "    keep_mask = org_train[\"maxdeutsch1\"] == 1 # ??? what about missing values?\n",
    "\n",
    "else:\n",
    "    raise ValueError(f\"Unsupported mode for exclude_subgroups: {mode}\")\n"
   ]
  },
  {
   "cell_type": "code",
   "execution_count": 31,
   "id": "71651440",
   "metadata": {
    "execution": {
     "iopub.execute_input": "2025-07-28T10:33:24.555726Z",
     "iopub.status.busy": "2025-07-28T10:33:24.555067Z",
     "iopub.status.idle": "2025-07-28T10:33:24.562479Z",
     "shell.execute_reply": "2025-07-28T10:33:24.561636Z"
    },
    "papermill": {
     "duration": 0.030773,
     "end_time": "2025-07-28T10:33:24.564119",
     "exception": false,
     "start_time": "2025-07-28T10:33:24.533346",
     "status": "completed"
    },
    "tags": []
   },
   "outputs": [],
   "source": [
    "n_drop = (~keep_mask).sum() # Calculates how many rows are set to be dropped\n",
    "if n_drop > 0:\n",
    "    pct = n_drop / len(keep_mask) * 100\n",
    "    print(f\"Dropping {n_drop} rows ({pct:.2f}%) where mode='{mode}'\")"
   ]
  },
  {
   "cell_type": "code",
   "execution_count": 32,
   "id": "5fb8eee5",
   "metadata": {
    "execution": {
     "iopub.execute_input": "2025-07-28T10:33:24.607526Z",
     "iopub.status.busy": "2025-07-28T10:33:24.606835Z",
     "iopub.status.idle": "2025-07-28T10:33:24.614983Z",
     "shell.execute_reply": "2025-07-28T10:33:24.614012Z"
    },
    "papermill": {
     "duration": 0.031712,
     "end_time": "2025-07-28T10:33:24.616737",
     "exception": false,
     "start_time": "2025-07-28T10:33:24.585025",
     "status": "completed"
    },
    "tags": []
   },
   "outputs": [],
   "source": [
    "X_train = X_train[keep_mask]"
   ]
  },
  {
   "cell_type": "code",
   "execution_count": 33,
   "id": "b202bb3a",
   "metadata": {
    "execution": {
     "iopub.execute_input": "2025-07-28T10:33:24.660764Z",
     "iopub.status.busy": "2025-07-28T10:33:24.660063Z",
     "iopub.status.idle": "2025-07-28T10:33:24.666511Z",
     "shell.execute_reply": "2025-07-28T10:33:24.665666Z"
    },
    "papermill": {
     "duration": 0.029892,
     "end_time": "2025-07-28T10:33:24.668111",
     "exception": false,
     "start_time": "2025-07-28T10:33:24.638219",
     "status": "completed"
    },
    "tags": []
   },
   "outputs": [],
   "source": [
    "y_train = y_train[keep_mask]"
   ]
  },
  {
   "cell_type": "markdown",
   "id": "493e2ac3",
   "metadata": {
    "papermill": {
     "duration": 0.020279,
     "end_time": "2025-07-28T10:33:24.709174",
     "exception": false,
     "start_time": "2025-07-28T10:33:24.688895",
     "status": "completed"
    },
    "tags": []
   },
   "source": [
    "# Model Training"
   ]
  },
  {
   "cell_type": "code",
   "execution_count": 34,
   "id": "679e1268",
   "metadata": {
    "execution": {
     "iopub.execute_input": "2025-07-28T10:33:24.751368Z",
     "iopub.status.busy": "2025-07-28T10:33:24.750690Z",
     "iopub.status.idle": "2025-07-28T10:33:24.858827Z",
     "shell.execute_reply": "2025-07-28T10:33:24.857876Z"
    },
    "papermill": {
     "duration": 0.131399,
     "end_time": "2025-07-28T10:33:24.860823",
     "exception": false,
     "start_time": "2025-07-28T10:33:24.729424",
     "status": "completed"
    },
    "tags": []
   },
   "outputs": [],
   "source": [
    "from sklearn.linear_model import LogisticRegression\n",
    "from sklearn.ensemble import GradientBoostingClassifier, RandomForestClassifier\n",
    "\n",
    "if (universe[\"model\"] == \"logreg\"):\n",
    "    model = LogisticRegression() #penalty=\"none\") #, solver=\"newton-cg\", max_iter=1) # include random_state=19 ?\n",
    "elif (universe[\"model\"] == \"penalized_logreg\"):\n",
    "    model = LogisticRegression(penalty=\"l2\", C=1.0) #, solver=\"newton-cg\", max_iter=1)\n",
    "elif (universe[\"model\"] == \"rf\"):\n",
    "    model = RandomForestClassifier(n_estimators=100, n_jobs=-1)\n",
    "elif (universe[\"model\"] == \"gbm\"):\n",
    "    model = GradientBoostingClassifier()\n",
    "elif (universe[\"model\"] == \"elasticnet\"):\n",
    "    model = LogisticRegression(penalty = 'elasticnet', solver = 'saga', l1_ratio = 0.5, max_iter=5000) # which solver to use?\n",
    "else:\n",
    "    raise \"Unsupported universe.model\""
   ]
  },
  {
   "cell_type": "code",
   "execution_count": 35,
   "id": "0cc8f744",
   "metadata": {
    "execution": {
     "iopub.execute_input": "2025-07-28T10:33:24.904041Z",
     "iopub.status.busy": "2025-07-28T10:33:24.903324Z",
     "iopub.status.idle": "2025-07-28T10:33:24.909891Z",
     "shell.execute_reply": "2025-07-28T10:33:24.908997Z"
    },
    "papermill": {
     "duration": 0.029637,
     "end_time": "2025-07-28T10:33:24.911505",
     "exception": false,
     "start_time": "2025-07-28T10:33:24.881868",
     "status": "completed"
    },
    "tags": []
   },
   "outputs": [],
   "source": [
    "import numpy as np\n",
    "from sklearn.pipeline import Pipeline\n",
    "from sklearn.preprocessing import StandardScaler\n",
    "\n",
    "model = Pipeline([\n",
    "    #(\"continuous_processor\", continuous_processor),\n",
    "    #(\"categorical_preprocessor\", categorical_preprocessor),\n",
    "    (\"scale\", StandardScaler() if universe[\"scale\"] == \"scale\" else None), \n",
    "    (\"model\", model),\n",
    "])"
   ]
  },
  {
   "cell_type": "code",
   "execution_count": 36,
   "id": "9442c04d",
   "metadata": {
    "execution": {
     "iopub.execute_input": "2025-07-28T10:33:24.954235Z",
     "iopub.status.busy": "2025-07-28T10:33:24.953519Z",
     "iopub.status.idle": "2025-07-28T10:33:40.185907Z",
     "shell.execute_reply": "2025-07-28T10:33:40.185068Z"
    },
    "papermill": {
     "duration": 15.255248,
     "end_time": "2025-07-28T10:33:40.187266",
     "exception": false,
     "start_time": "2025-07-28T10:33:24.932018",
     "status": "completed"
    },
    "tags": []
   },
   "outputs": [
    {
     "data": {
      "text/html": [
       "<style>#sk-container-id-1 {color: black;background-color: white;}#sk-container-id-1 pre{padding: 0;}#sk-container-id-1 div.sk-toggleable {background-color: white;}#sk-container-id-1 label.sk-toggleable__label {cursor: pointer;display: block;width: 100%;margin-bottom: 0;padding: 0.3em;box-sizing: border-box;text-align: center;}#sk-container-id-1 label.sk-toggleable__label-arrow:before {content: \"▸\";float: left;margin-right: 0.25em;color: #696969;}#sk-container-id-1 label.sk-toggleable__label-arrow:hover:before {color: black;}#sk-container-id-1 div.sk-estimator:hover label.sk-toggleable__label-arrow:before {color: black;}#sk-container-id-1 div.sk-toggleable__content {max-height: 0;max-width: 0;overflow: hidden;text-align: left;background-color: #f0f8ff;}#sk-container-id-1 div.sk-toggleable__content pre {margin: 0.2em;color: black;border-radius: 0.25em;background-color: #f0f8ff;}#sk-container-id-1 input.sk-toggleable__control:checked~div.sk-toggleable__content {max-height: 200px;max-width: 100%;overflow: auto;}#sk-container-id-1 input.sk-toggleable__control:checked~label.sk-toggleable__label-arrow:before {content: \"▾\";}#sk-container-id-1 div.sk-estimator input.sk-toggleable__control:checked~label.sk-toggleable__label {background-color: #d4ebff;}#sk-container-id-1 div.sk-label input.sk-toggleable__control:checked~label.sk-toggleable__label {background-color: #d4ebff;}#sk-container-id-1 input.sk-hidden--visually {border: 0;clip: rect(1px 1px 1px 1px);clip: rect(1px, 1px, 1px, 1px);height: 1px;margin: -1px;overflow: hidden;padding: 0;position: absolute;width: 1px;}#sk-container-id-1 div.sk-estimator {font-family: monospace;background-color: #f0f8ff;border: 1px dotted black;border-radius: 0.25em;box-sizing: border-box;margin-bottom: 0.5em;}#sk-container-id-1 div.sk-estimator:hover {background-color: #d4ebff;}#sk-container-id-1 div.sk-parallel-item::after {content: \"\";width: 100%;border-bottom: 1px solid gray;flex-grow: 1;}#sk-container-id-1 div.sk-label:hover label.sk-toggleable__label {background-color: #d4ebff;}#sk-container-id-1 div.sk-serial::before {content: \"\";position: absolute;border-left: 1px solid gray;box-sizing: border-box;top: 0;bottom: 0;left: 50%;z-index: 0;}#sk-container-id-1 div.sk-serial {display: flex;flex-direction: column;align-items: center;background-color: white;padding-right: 0.2em;padding-left: 0.2em;position: relative;}#sk-container-id-1 div.sk-item {position: relative;z-index: 1;}#sk-container-id-1 div.sk-parallel {display: flex;align-items: stretch;justify-content: center;background-color: white;position: relative;}#sk-container-id-1 div.sk-item::before, #sk-container-id-1 div.sk-parallel-item::before {content: \"\";position: absolute;border-left: 1px solid gray;box-sizing: border-box;top: 0;bottom: 0;left: 50%;z-index: -1;}#sk-container-id-1 div.sk-parallel-item {display: flex;flex-direction: column;z-index: 1;position: relative;background-color: white;}#sk-container-id-1 div.sk-parallel-item:first-child::after {align-self: flex-end;width: 50%;}#sk-container-id-1 div.sk-parallel-item:last-child::after {align-self: flex-start;width: 50%;}#sk-container-id-1 div.sk-parallel-item:only-child::after {width: 0;}#sk-container-id-1 div.sk-dashed-wrapped {border: 1px dashed gray;margin: 0 0.4em 0.5em 0.4em;box-sizing: border-box;padding-bottom: 0.4em;background-color: white;}#sk-container-id-1 div.sk-label label {font-family: monospace;font-weight: bold;display: inline-block;line-height: 1.2em;}#sk-container-id-1 div.sk-label-container {text-align: center;}#sk-container-id-1 div.sk-container {/* jupyter's `normalize.less` sets `[hidden] { display: none; }` but bootstrap.min.css set `[hidden] { display: none !important; }` so we also need the `!important` here to be able to override the default hidden behavior on the sphinx rendered scikit-learn.org. See: https://github.com/scikit-learn/scikit-learn/issues/21755 */display: inline-block !important;position: relative;}#sk-container-id-1 div.sk-text-repr-fallback {display: none;}</style><div id=\"sk-container-id-1\" class=\"sk-top-container\"><div class=\"sk-text-repr-fallback\"><pre>Pipeline(steps=[(&#x27;scale&#x27;, StandardScaler()),\n",
       "                (&#x27;model&#x27;,\n",
       "                 LogisticRegression(l1_ratio=0.5, max_iter=5000,\n",
       "                                    penalty=&#x27;elasticnet&#x27;, solver=&#x27;saga&#x27;))])</pre><b>In a Jupyter environment, please rerun this cell to show the HTML representation or trust the notebook. <br />On GitHub, the HTML representation is unable to render, please try loading this page with nbviewer.org.</b></div><div class=\"sk-container\" hidden><div class=\"sk-item sk-dashed-wrapped\"><div class=\"sk-label-container\"><div class=\"sk-label sk-toggleable\"><input class=\"sk-toggleable__control sk-hidden--visually\" id=\"sk-estimator-id-1\" type=\"checkbox\" ><label for=\"sk-estimator-id-1\" class=\"sk-toggleable__label sk-toggleable__label-arrow\">Pipeline</label><div class=\"sk-toggleable__content\"><pre>Pipeline(steps=[(&#x27;scale&#x27;, StandardScaler()),\n",
       "                (&#x27;model&#x27;,\n",
       "                 LogisticRegression(l1_ratio=0.5, max_iter=5000,\n",
       "                                    penalty=&#x27;elasticnet&#x27;, solver=&#x27;saga&#x27;))])</pre></div></div></div><div class=\"sk-serial\"><div class=\"sk-item\"><div class=\"sk-estimator sk-toggleable\"><input class=\"sk-toggleable__control sk-hidden--visually\" id=\"sk-estimator-id-2\" type=\"checkbox\" ><label for=\"sk-estimator-id-2\" class=\"sk-toggleable__label sk-toggleable__label-arrow\">StandardScaler</label><div class=\"sk-toggleable__content\"><pre>StandardScaler()</pre></div></div></div><div class=\"sk-item\"><div class=\"sk-estimator sk-toggleable\"><input class=\"sk-toggleable__control sk-hidden--visually\" id=\"sk-estimator-id-3\" type=\"checkbox\" ><label for=\"sk-estimator-id-3\" class=\"sk-toggleable__label sk-toggleable__label-arrow\">LogisticRegression</label><div class=\"sk-toggleable__content\"><pre>LogisticRegression(l1_ratio=0.5, max_iter=5000, penalty=&#x27;elasticnet&#x27;,\n",
       "                   solver=&#x27;saga&#x27;)</pre></div></div></div></div></div></div></div>"
      ],
      "text/plain": [
       "Pipeline(steps=[('scale', StandardScaler()),\n",
       "                ('model',\n",
       "                 LogisticRegression(l1_ratio=0.5, max_iter=5000,\n",
       "                                    penalty='elasticnet', solver='saga'))])"
      ]
     },
     "execution_count": 36,
     "metadata": {},
     "output_type": "execute_result"
    }
   ],
   "source": [
    "model.fit(X_train, y_train.values.ravel())"
   ]
  },
  {
   "cell_type": "code",
   "execution_count": 37,
   "id": "af59f8c0",
   "metadata": {
    "execution": {
     "iopub.execute_input": "2025-07-28T10:33:40.234447Z",
     "iopub.status.busy": "2025-07-28T10:33:40.233940Z",
     "iopub.status.idle": "2025-07-28T10:33:40.239577Z",
     "shell.execute_reply": "2025-07-28T10:33:40.238614Z"
    },
    "papermill": {
     "duration": 0.03391,
     "end_time": "2025-07-28T10:33:40.241263",
     "exception": false,
     "start_time": "2025-07-28T10:33:40.207353",
     "status": "completed"
    },
    "tags": []
   },
   "outputs": [],
   "source": [
    "from fairness_multiverse.universe import predict_w_threshold"
   ]
  },
  {
   "cell_type": "code",
   "execution_count": 38,
   "id": "a7cf2e16",
   "metadata": {
    "execution": {
     "iopub.execute_input": "2025-07-28T10:33:40.286439Z",
     "iopub.status.busy": "2025-07-28T10:33:40.285653Z",
     "iopub.status.idle": "2025-07-28T10:33:40.493863Z",
     "shell.execute_reply": "2025-07-28T10:33:40.492753Z"
    },
    "papermill": {
     "duration": 0.232604,
     "end_time": "2025-07-28T10:33:40.495643",
     "exception": false,
     "start_time": "2025-07-28T10:33:40.263039",
     "status": "completed"
    },
    "tags": []
   },
   "outputs": [
    {
     "data": {
      "text/plain": [
       "0.8531044476646974"
      ]
     },
     "execution_count": 38,
     "metadata": {},
     "output_type": "execute_result"
    }
   ],
   "source": [
    "probs_test = model.predict_proba(X_test)\n",
    "\n",
    "'''\n",
    "Below code returns a boolean array (or binary 0/1 array depending on how it’s used) where each element \n",
    "is True if the probability of class 1 is greater than or equal to the threshold, and False otherwise.\n",
    "'''\n",
    "y_pred_default = predict_w_threshold(probs_test, 0.5)\n",
    "\n",
    "from sklearn.metrics import accuracy_score\n",
    "\n",
    "# Naive prediction\n",
    "accuracy_score(y_true = y_true, y_pred = y_pred_default)"
   ]
  },
  {
   "cell_type": "code",
   "execution_count": 39,
   "id": "081964c3",
   "metadata": {
    "execution": {
     "iopub.execute_input": "2025-07-28T10:33:40.541575Z",
     "iopub.status.busy": "2025-07-28T10:33:40.540881Z",
     "iopub.status.idle": "2025-07-28T10:33:40.735799Z",
     "shell.execute_reply": "2025-07-28T10:33:40.734811Z"
    },
    "papermill": {
     "duration": 0.219608,
     "end_time": "2025-07-28T10:33:40.737569",
     "exception": false,
     "start_time": "2025-07-28T10:33:40.517961",
     "status": "completed"
    },
    "tags": []
   },
   "outputs": [
    {
     "data": {
      "text/plain": [
       "array([0, 0, 0, ..., 0, 0, 0])"
      ]
     },
     "execution_count": 39,
     "metadata": {},
     "output_type": "execute_result"
    }
   ],
   "source": [
    "model.predict(X_test)"
   ]
  },
  {
   "cell_type": "markdown",
   "id": "56c9705b",
   "metadata": {
    "papermill": {
     "duration": 0.021396,
     "end_time": "2025-07-28T10:33:40.783837",
     "exception": false,
     "start_time": "2025-07-28T10:33:40.762441",
     "status": "completed"
    },
    "tags": []
   },
   "source": [
    "# Conformal Prediction"
   ]
  },
  {
   "cell_type": "code",
   "execution_count": 40,
   "id": "160ec6ff",
   "metadata": {
    "execution": {
     "iopub.execute_input": "2025-07-28T10:33:40.829234Z",
     "iopub.status.busy": "2025-07-28T10:33:40.828797Z",
     "iopub.status.idle": "2025-07-28T10:33:40.833998Z",
     "shell.execute_reply": "2025-07-28T10:33:40.832948Z"
    },
    "papermill": {
     "duration": 0.030281,
     "end_time": "2025-07-28T10:33:40.835646",
     "exception": false,
     "start_time": "2025-07-28T10:33:40.805365",
     "status": "completed"
    },
    "tags": []
   },
   "outputs": [],
   "source": [
    "# Miscoverage level for conformal prediction (10% allowed error rate => 90% target coverage)\n",
    "alpha = 0.1"
   ]
  },
  {
   "cell_type": "code",
   "execution_count": 41,
   "id": "eadf4555-3dd3-440e-8e35-f82a4ad9f855",
   "metadata": {
    "execution": {
     "iopub.execute_input": "2025-07-28T10:33:40.880548Z",
     "iopub.status.busy": "2025-07-28T10:33:40.879978Z",
     "iopub.status.idle": "2025-07-28T10:33:41.055625Z",
     "shell.execute_reply": "2025-07-28T10:33:41.054562Z"
    },
    "papermill": {
     "duration": 0.19954,
     "end_time": "2025-07-28T10:33:41.057355",
     "exception": false,
     "start_time": "2025-07-28T10:33:40.857815",
     "status": "completed"
    },
    "tags": []
   },
   "outputs": [],
   "source": [
    "probs_calib = model.predict_proba(X_calib)"
   ]
  },
  {
   "cell_type": "code",
   "execution_count": 42,
   "id": "2ed93547-6d5d-4983-9b36-1ecb300da49a",
   "metadata": {
    "execution": {
     "iopub.execute_input": "2025-07-28T10:33:41.109999Z",
     "iopub.status.busy": "2025-07-28T10:33:41.109280Z",
     "iopub.status.idle": "2025-07-28T10:33:41.116385Z",
     "shell.execute_reply": "2025-07-28T10:33:41.115346Z"
    },
    "papermill": {
     "duration": 0.036456,
     "end_time": "2025-07-28T10:33:41.118251",
     "exception": false,
     "start_time": "2025-07-28T10:33:41.081795",
     "status": "completed"
    },
    "tags": []
   },
   "outputs": [],
   "source": [
    "y_calib = y_calib.values.ravel().astype(int)"
   ]
  },
  {
   "cell_type": "code",
   "execution_count": 43,
   "id": "65d1320d-f588-4b38-9072-62af1ae97f7d",
   "metadata": {
    "execution": {
     "iopub.execute_input": "2025-07-28T10:33:41.164639Z",
     "iopub.status.busy": "2025-07-28T10:33:41.163565Z",
     "iopub.status.idle": "2025-07-28T10:33:41.171331Z",
     "shell.execute_reply": "2025-07-28T10:33:41.170408Z"
    },
    "papermill": {
     "duration": 0.032663,
     "end_time": "2025-07-28T10:33:41.173056",
     "exception": false,
     "start_time": "2025-07-28T10:33:41.140393",
     "status": "completed"
    },
    "tags": []
   },
   "outputs": [],
   "source": [
    "from fairness_multiverse.conformal import compute_nc_scores\n",
    "\n",
    "# Compute nonconformity scores on calibration set (1 - probability of true class)\n",
    "nc_scores = compute_nc_scores(probs_calib, y_calib)"
   ]
  },
  {
   "cell_type": "code",
   "execution_count": 44,
   "id": "df3b8ca3-53b7-43d5-9667-7c85da7aeda2",
   "metadata": {
    "execution": {
     "iopub.execute_input": "2025-07-28T10:33:41.223981Z",
     "iopub.status.busy": "2025-07-28T10:33:41.223512Z",
     "iopub.status.idle": "2025-07-28T10:33:41.230432Z",
     "shell.execute_reply": "2025-07-28T10:33:41.229398Z"
    },
    "papermill": {
     "duration": 0.037033,
     "end_time": "2025-07-28T10:33:41.232234",
     "exception": false,
     "start_time": "2025-07-28T10:33:41.195201",
     "status": "completed"
    },
    "tags": []
   },
   "outputs": [],
   "source": [
    "from fairness_multiverse.conformal import find_threshold\n",
    "\n",
    "# Find conformal threshold q_hat for the given alpha (split conformal method)\n",
    "q_hat = find_threshold(nc_scores, alpha)"
   ]
  },
  {
   "cell_type": "code",
   "execution_count": 45,
   "id": "4d29e6c1-0ef6-4aa4-b8fe-4fe79b0d033a",
   "metadata": {
    "execution": {
     "iopub.execute_input": "2025-07-28T10:33:41.287647Z",
     "iopub.status.busy": "2025-07-28T10:33:41.286937Z",
     "iopub.status.idle": "2025-07-28T10:33:41.294523Z",
     "shell.execute_reply": "2025-07-28T10:33:41.293547Z"
    },
    "papermill": {
     "duration": 0.03723,
     "end_time": "2025-07-28T10:33:41.296368",
     "exception": false,
     "start_time": "2025-07-28T10:33:41.259138",
     "status": "completed"
    },
    "tags": []
   },
   "outputs": [
    {
     "data": {
      "text/plain": [
       "0.6794930457424457"
      ]
     },
     "execution_count": 45,
     "metadata": {},
     "output_type": "execute_result"
    }
   ],
   "source": [
    "q_hat"
   ]
  },
  {
   "cell_type": "code",
   "execution_count": 46,
   "id": "92460794-cdac-4be2-ba28-f28c0515a6fb",
   "metadata": {
    "execution": {
     "iopub.execute_input": "2025-07-28T10:33:41.351512Z",
     "iopub.status.busy": "2025-07-28T10:33:41.351025Z",
     "iopub.status.idle": "2025-07-28T10:33:42.207279Z",
     "shell.execute_reply": "2025-07-28T10:33:42.206287Z"
    },
    "papermill": {
     "duration": 0.885519,
     "end_time": "2025-07-28T10:33:42.209138",
     "exception": false,
     "start_time": "2025-07-28T10:33:41.323619",
     "status": "completed"
    },
    "tags": []
   },
   "outputs": [],
   "source": [
    "from fairness_multiverse.conformal import predict_conformal_sets\n",
    "\n",
    "# Generate prediction sets for each test example\n",
    "pred_sets = predict_conformal_sets(model, X_test, q_hat)"
   ]
  },
  {
   "cell_type": "code",
   "execution_count": 47,
   "id": "d90c9a65-e6db-4f5d-80cd-e68fb7e46829",
   "metadata": {
    "execution": {
     "iopub.execute_input": "2025-07-28T10:33:42.259611Z",
     "iopub.status.busy": "2025-07-28T10:33:42.258971Z",
     "iopub.status.idle": "2025-07-28T10:33:42.264864Z",
     "shell.execute_reply": "2025-07-28T10:33:42.263877Z"
    },
    "papermill": {
     "duration": 0.031442,
     "end_time": "2025-07-28T10:33:42.266509",
     "exception": false,
     "start_time": "2025-07-28T10:33:42.235067",
     "status": "completed"
    },
    "tags": []
   },
   "outputs": [],
   "source": [
    "y_true = y_true.squeeze()"
   ]
  },
  {
   "cell_type": "code",
   "execution_count": 48,
   "id": "3a58a54a-1e68-46b9-927a-df01f18aebc8",
   "metadata": {
    "execution": {
     "iopub.execute_input": "2025-07-28T10:33:42.313721Z",
     "iopub.status.busy": "2025-07-28T10:33:42.312849Z",
     "iopub.status.idle": "2025-07-28T10:33:43.274870Z",
     "shell.execute_reply": "2025-07-28T10:33:43.273977Z"
    },
    "papermill": {
     "duration": 0.987526,
     "end_time": "2025-07-28T10:33:43.276765",
     "exception": false,
     "start_time": "2025-07-28T10:33:42.289239",
     "status": "completed"
    },
    "tags": []
   },
   "outputs": [],
   "source": [
    "from fairness_multiverse.conformal import evaluate_sets\n",
    "\n",
    "# Evaluate coverage and average set size on test data\n",
    "metrics = evaluate_sets(pred_sets, y_true)"
   ]
  },
  {
   "cell_type": "markdown",
   "id": "2b569c12-9aaa-4c88-98c9-bbcd0cf3ebb8",
   "metadata": {
    "papermill": {
     "duration": 0.021871,
     "end_time": "2025-07-28T10:33:43.338560",
     "exception": false,
     "start_time": "2025-07-28T10:33:43.316689",
     "status": "completed"
    },
    "tags": []
   },
   "source": [
    "# CP Metrics"
   ]
  },
  {
   "cell_type": "code",
   "execution_count": 49,
   "id": "5ce0a5cb-201f-45a0-ade5-94c7f0bd6095",
   "metadata": {
    "execution": {
     "iopub.execute_input": "2025-07-28T10:33:43.384708Z",
     "iopub.status.busy": "2025-07-28T10:33:43.383697Z",
     "iopub.status.idle": "2025-07-28T10:33:43.391412Z",
     "shell.execute_reply": "2025-07-28T10:33:43.390350Z"
    },
    "papermill": {
     "duration": 0.032586,
     "end_time": "2025-07-28T10:33:43.392920",
     "exception": false,
     "start_time": "2025-07-28T10:33:43.360334",
     "status": "completed"
    },
    "tags": []
   },
   "outputs": [
    {
     "data": {
      "text/plain": [
       "{'coverage': 0.9113588228737042, 'avg_size': 1.146382788986735}"
      ]
     },
     "execution_count": 49,
     "metadata": {},
     "output_type": "execute_result"
    }
   ],
   "source": [
    "metrics"
   ]
  },
  {
   "cell_type": "code",
   "execution_count": 50,
   "id": "9b9a838d-31c9-430b-ae14-12baee460d17",
   "metadata": {
    "execution": {
     "iopub.execute_input": "2025-07-28T10:33:43.439056Z",
     "iopub.status.busy": "2025-07-28T10:33:43.438279Z",
     "iopub.status.idle": "2025-07-28T10:33:43.444926Z",
     "shell.execute_reply": "2025-07-28T10:33:43.443941Z"
    },
    "papermill": {
     "duration": 0.031311,
     "end_time": "2025-07-28T10:33:43.446510",
     "exception": false,
     "start_time": "2025-07-28T10:33:43.415199",
     "status": "completed"
    },
    "tags": []
   },
   "outputs": [],
   "source": [
    "example_universe = universe.copy()\n",
    "universe_training_size = example_universe.get(\"training_size\")\n",
    "universe_scale = example_universe.get(\"scale\")\n",
    "universe_model = example_universe.get(\"model\")\n",
    "universe_exclude_features = example_universe.get(\"exclude_features\")\n",
    "universe_exclude_subgroups = example_universe.get(\"exclude_subgroups\")"
   ]
  },
  {
   "cell_type": "code",
   "execution_count": 51,
   "id": "f4b6a8ac-9dc0-4245-8a91-5b3b5999c4f9",
   "metadata": {
    "execution": {
     "iopub.execute_input": "2025-07-28T10:33:43.492842Z",
     "iopub.status.busy": "2025-07-28T10:33:43.492354Z",
     "iopub.status.idle": "2025-07-28T10:33:43.499005Z",
     "shell.execute_reply": "2025-07-28T10:33:43.497991Z"
    },
    "papermill": {
     "duration": 0.031801,
     "end_time": "2025-07-28T10:33:43.500627",
     "exception": false,
     "start_time": "2025-07-28T10:33:43.468826",
     "status": "completed"
    },
    "tags": []
   },
   "outputs": [],
   "source": [
    "cp_metrics_dict = {\n",
    "    \"universe_id\": [universe_id],\n",
    "    \"universe_training_size\": [universe_training_size],\n",
    "    \"universe_scale\": [universe_scale],\n",
    "    \"universe_model\": [universe_model],\n",
    "    \"universe_exclude_features\": [universe_exclude_features],\n",
    "    \"universe_exclude_subgroups\": [universe_exclude_subgroups],\n",
    "    \"q_hat\": [q_hat],\n",
    "    \"coverage\": [metrics[\"coverage\"]],\n",
    "    \"avg_size\": [metrics[\"avg_size\"]],\n",
    "}"
   ]
  },
  {
   "cell_type": "code",
   "execution_count": 52,
   "id": "908acbb1-0371-4915-85ca-3fa520d2efe2",
   "metadata": {
    "execution": {
     "iopub.execute_input": "2025-07-28T10:33:43.546766Z",
     "iopub.status.busy": "2025-07-28T10:33:43.545885Z",
     "iopub.status.idle": "2025-07-28T10:33:43.553762Z",
     "shell.execute_reply": "2025-07-28T10:33:43.552863Z"
    },
    "papermill": {
     "duration": 0.032404,
     "end_time": "2025-07-28T10:33:43.555266",
     "exception": false,
     "start_time": "2025-07-28T10:33:43.522862",
     "status": "completed"
    },
    "tags": []
   },
   "outputs": [
    {
     "data": {
      "text/plain": [
       "{'universe_id': ['434a85fc291c5778e2ae9a91c6b9b89a'],\n",
       " 'universe_training_size': ['5k'],\n",
       " 'universe_scale': ['scale'],\n",
       " 'universe_model': ['elasticnet'],\n",
       " 'universe_exclude_features': ['nationality'],\n",
       " 'universe_exclude_subgroups': ['keep-all'],\n",
       " 'q_hat': [0.6794930457424457],\n",
       " 'coverage': [0.9113588228737042],\n",
       " 'avg_size': [1.146382788986735]}"
      ]
     },
     "execution_count": 52,
     "metadata": {},
     "output_type": "execute_result"
    }
   ],
   "source": [
    "cp_metrics_dict"
   ]
  },
  {
   "cell_type": "code",
   "execution_count": 53,
   "id": "33007efc-14e9-4ec6-97ac-56a455c82265",
   "metadata": {
    "execution": {
     "iopub.execute_input": "2025-07-28T10:33:43.602702Z",
     "iopub.status.busy": "2025-07-28T10:33:43.601961Z",
     "iopub.status.idle": "2025-07-28T10:33:43.610201Z",
     "shell.execute_reply": "2025-07-28T10:33:43.608552Z"
    },
    "papermill": {
     "duration": 0.03375,
     "end_time": "2025-07-28T10:33:43.611843",
     "exception": false,
     "start_time": "2025-07-28T10:33:43.578093",
     "status": "completed"
    },
    "tags": []
   },
   "outputs": [],
   "source": [
    "cp_metrics_df = pd.DataFrame(cp_metrics_dict)"
   ]
  },
  {
   "cell_type": "code",
   "execution_count": 54,
   "id": "db12611b-57b2-4910-b9d0-355adfd6e7bf",
   "metadata": {
    "execution": {
     "iopub.execute_input": "2025-07-28T10:33:43.659588Z",
     "iopub.status.busy": "2025-07-28T10:33:43.659133Z",
     "iopub.status.idle": "2025-07-28T10:33:43.680309Z",
     "shell.execute_reply": "2025-07-28T10:33:43.679351Z"
    },
    "papermill": {
     "duration": 0.06365,
     "end_time": "2025-07-28T10:33:43.698353",
     "exception": false,
     "start_time": "2025-07-28T10:33:43.634703",
     "status": "completed"
    },
    "tags": []
   },
   "outputs": [
    {
     "data": {
      "text/html": [
       "<div>\n",
       "<style scoped>\n",
       "    .dataframe tbody tr th:only-of-type {\n",
       "        vertical-align: middle;\n",
       "    }\n",
       "\n",
       "    .dataframe tbody tr th {\n",
       "        vertical-align: top;\n",
       "    }\n",
       "\n",
       "    .dataframe thead th {\n",
       "        text-align: right;\n",
       "    }\n",
       "</style>\n",
       "<table border=\"1\" class=\"dataframe\">\n",
       "  <thead>\n",
       "    <tr style=\"text-align: right;\">\n",
       "      <th></th>\n",
       "      <th>universe_id</th>\n",
       "      <th>universe_training_size</th>\n",
       "      <th>universe_scale</th>\n",
       "      <th>universe_model</th>\n",
       "      <th>universe_exclude_features</th>\n",
       "      <th>universe_exclude_subgroups</th>\n",
       "      <th>q_hat</th>\n",
       "      <th>coverage</th>\n",
       "      <th>avg_size</th>\n",
       "    </tr>\n",
       "  </thead>\n",
       "  <tbody>\n",
       "    <tr>\n",
       "      <th>0</th>\n",
       "      <td>434a85fc291c5778e2ae9a91c6b9b89a</td>\n",
       "      <td>5k</td>\n",
       "      <td>scale</td>\n",
       "      <td>elasticnet</td>\n",
       "      <td>nationality</td>\n",
       "      <td>keep-all</td>\n",
       "      <td>0.679493</td>\n",
       "      <td>0.911359</td>\n",
       "      <td>1.146383</td>\n",
       "    </tr>\n",
       "  </tbody>\n",
       "</table>\n",
       "</div>"
      ],
      "text/plain": [
       "                        universe_id universe_training_size universe_scale  \\\n",
       "0  434a85fc291c5778e2ae9a91c6b9b89a                     5k          scale   \n",
       "\n",
       "  universe_model universe_exclude_features universe_exclude_subgroups  \\\n",
       "0     elasticnet               nationality                   keep-all   \n",
       "\n",
       "      q_hat  coverage  avg_size  \n",
       "0  0.679493  0.911359  1.146383  "
      ]
     },
     "execution_count": 54,
     "metadata": {},
     "output_type": "execute_result"
    }
   ],
   "source": [
    "cp_metrics_df"
   ]
  },
  {
   "cell_type": "code",
   "execution_count": 55,
   "id": "b7fbde55-a0a1-47e4-9af6-fe4a17fa8c61",
   "metadata": {
    "execution": {
     "iopub.execute_input": "2025-07-28T10:33:43.747148Z",
     "iopub.status.busy": "2025-07-28T10:33:43.746602Z",
     "iopub.status.idle": "2025-07-28T10:33:43.752172Z",
     "shell.execute_reply": "2025-07-28T10:33:43.751083Z"
    },
    "papermill": {
     "duration": 0.031077,
     "end_time": "2025-07-28T10:33:43.753837",
     "exception": false,
     "start_time": "2025-07-28T10:33:43.722760",
     "status": "completed"
    },
    "tags": []
   },
   "outputs": [],
   "source": [
    "# Conditional Coverage & looking at subgroups"
   ]
  },
  {
   "cell_type": "code",
   "execution_count": 56,
   "id": "027ae886-68dd-4141-96c7-805a5450e1ef",
   "metadata": {
    "execution": {
     "iopub.execute_input": "2025-07-28T10:33:43.802154Z",
     "iopub.status.busy": "2025-07-28T10:33:43.801265Z",
     "iopub.status.idle": "2025-07-28T10:33:44.073655Z",
     "shell.execute_reply": "2025-07-28T10:33:44.072688Z"
    },
    "papermill": {
     "duration": 0.298254,
     "end_time": "2025-07-28T10:33:44.075505",
     "exception": false,
     "start_time": "2025-07-28T10:33:43.777251",
     "status": "completed"
    },
    "tags": []
   },
   "outputs": [],
   "source": [
    "from fairness_multiverse.conformal import build_cp_groups\n",
    "\n",
    "cp_groups_df = build_cp_groups(pred_sets, y_true, X_test.index, org_test)\n",
    "#needs universe_id and setting"
   ]
  },
  {
   "cell_type": "code",
   "execution_count": 57,
   "id": "01d5802c-663a-4d1f-9d69-e036faaffbf7",
   "metadata": {
    "execution": {
     "iopub.execute_input": "2025-07-28T10:33:44.124288Z",
     "iopub.status.busy": "2025-07-28T10:33:44.123607Z",
     "iopub.status.idle": "2025-07-28T10:33:44.128589Z",
     "shell.execute_reply": "2025-07-28T10:33:44.127588Z"
    },
    "papermill": {
     "duration": 0.030897,
     "end_time": "2025-07-28T10:33:44.130259",
     "exception": false,
     "start_time": "2025-07-28T10:33:44.099362",
     "status": "completed"
    },
    "tags": []
   },
   "outputs": [],
   "source": [
    "#delete\n",
    "#cp_groups_df"
   ]
  },
  {
   "cell_type": "code",
   "execution_count": 58,
   "id": "fa424af1-d1eb-443d-b717-2d279ada8408",
   "metadata": {
    "execution": {
     "iopub.execute_input": "2025-07-28T10:33:44.178597Z",
     "iopub.status.busy": "2025-07-28T10:33:44.177929Z",
     "iopub.status.idle": "2025-07-28T10:33:44.183064Z",
     "shell.execute_reply": "2025-07-28T10:33:44.182161Z"
    },
    "papermill": {
     "duration": 0.030982,
     "end_time": "2025-07-28T10:33:44.184699",
     "exception": false,
     "start_time": "2025-07-28T10:33:44.153717",
     "status": "completed"
    },
    "tags": []
   },
   "outputs": [],
   "source": [
    "#delete\n",
    "#percentage = (cp_groups_df['nongerman_female'] == 1).mean() * 100\n",
    "#print(percentage)\n"
   ]
  },
  {
   "cell_type": "code",
   "execution_count": 59,
   "id": "6cbdab96-b2b2-45af-ad54-d0516db2e28d",
   "metadata": {
    "execution": {
     "iopub.execute_input": "2025-07-28T10:33:44.232915Z",
     "iopub.status.busy": "2025-07-28T10:33:44.232160Z",
     "iopub.status.idle": "2025-07-28T10:33:45.834904Z",
     "shell.execute_reply": "2025-07-28T10:33:45.833989Z"
    },
    "papermill": {
     "duration": 1.628694,
     "end_time": "2025-07-28T10:33:45.836600",
     "exception": false,
     "start_time": "2025-07-28T10:33:44.207906",
     "status": "completed"
    },
    "tags": []
   },
   "outputs": [],
   "source": [
    "# Define covered = 1 if true_label is in the predicted set\n",
    "cp_groups_df['covered'] = cp_groups_df.apply(\n",
    "    lambda r: int(r['true_label'] in r['pred_set']),\n",
    "    axis=1\n",
    ")"
   ]
  },
  {
   "cell_type": "code",
   "execution_count": 60,
   "id": "338ff529-1a6b-4b87-a931-8e4788d52aad",
   "metadata": {
    "execution": {
     "iopub.execute_input": "2025-07-28T10:33:45.864765Z",
     "iopub.status.busy": "2025-07-28T10:33:45.864139Z",
     "iopub.status.idle": "2025-07-28T10:33:45.868650Z",
     "shell.execute_reply": "2025-07-28T10:33:45.867932Z"
    },
    "papermill": {
     "duration": 0.019479,
     "end_time": "2025-07-28T10:33:45.869909",
     "exception": false,
     "start_time": "2025-07-28T10:33:45.850430",
     "status": "completed"
    },
    "tags": []
   },
   "outputs": [],
   "source": [
    "#cp_groups_df"
   ]
  },
  {
   "cell_type": "code",
   "execution_count": 61,
   "id": "90032e27-66df-4540-9169-4e89cfbaa758",
   "metadata": {
    "execution": {
     "iopub.execute_input": "2025-07-28T10:33:45.897730Z",
     "iopub.status.busy": "2025-07-28T10:33:45.897197Z",
     "iopub.status.idle": "2025-07-28T10:33:45.907881Z",
     "shell.execute_reply": "2025-07-28T10:33:45.906904Z"
    },
    "papermill": {
     "duration": 0.026824,
     "end_time": "2025-07-28T10:33:45.910262",
     "exception": false,
     "start_time": "2025-07-28T10:33:45.883438",
     "status": "completed"
    },
    "tags": []
   },
   "outputs": [],
   "source": [
    "subgroups = ['frau1','nongerman','nongerman_male','nongerman_female']\n",
    "\n",
    "# Conditional coverage for subgroup==1\n",
    "cond_coverage = {\n",
    "    g: cp_groups_df.loc[cp_groups_df[g]==1, 'covered'].mean()\n",
    "    for g in subgroups\n",
    "}"
   ]
  },
  {
   "cell_type": "code",
   "execution_count": 62,
   "id": "1e348fb1-b9c3-45bc-ba23-f016827a7e0d",
   "metadata": {
    "execution": {
     "iopub.execute_input": "2025-07-28T10:33:45.940436Z",
     "iopub.status.busy": "2025-07-28T10:33:45.939717Z",
     "iopub.status.idle": "2025-07-28T10:33:45.946295Z",
     "shell.execute_reply": "2025-07-28T10:33:45.945369Z"
    },
    "papermill": {
     "duration": 0.022159,
     "end_time": "2025-07-28T10:33:45.947686",
     "exception": false,
     "start_time": "2025-07-28T10:33:45.925527",
     "status": "completed"
    },
    "tags": []
   },
   "outputs": [
    {
     "data": {
      "text/plain": [
       "{'frau1': 0.9089634721660601,\n",
       " 'nongerman': 0.9120305394936282,\n",
       " 'nongerman_male': 0.9283977303431505,\n",
       " 'nongerman_female': 0.8849478390461997}"
      ]
     },
     "execution_count": 62,
     "metadata": {},
     "output_type": "execute_result"
    }
   ],
   "source": [
    "cond_coverage"
   ]
  },
  {
   "cell_type": "code",
   "execution_count": 63,
   "id": "f5093324-c3dd-4d63-bc4c-8d945e5c8bbb",
   "metadata": {
    "execution": {
     "iopub.execute_input": "2025-07-28T10:33:45.976166Z",
     "iopub.status.busy": "2025-07-28T10:33:45.975457Z",
     "iopub.status.idle": "2025-07-28T10:33:45.981791Z",
     "shell.execute_reply": "2025-07-28T10:33:45.980991Z"
    },
    "papermill": {
     "duration": 0.021911,
     "end_time": "2025-07-28T10:33:45.983265",
     "exception": false,
     "start_time": "2025-07-28T10:33:45.961354",
     "status": "completed"
    },
    "tags": []
   },
   "outputs": [],
   "source": [
    "for subgroup, cov in cond_coverage.items():\n",
    "    cp_metrics_df[f\"cov_{subgroup}\"] = cov"
   ]
  },
  {
   "cell_type": "code",
   "execution_count": 64,
   "id": "6e872e10-dbe5-49e8-b554-5030c98ff75d",
   "metadata": {
    "execution": {
     "iopub.execute_input": "2025-07-28T10:33:46.013006Z",
     "iopub.status.busy": "2025-07-28T10:33:46.012433Z",
     "iopub.status.idle": "2025-07-28T10:33:46.032832Z",
     "shell.execute_reply": "2025-07-28T10:33:46.031906Z"
    },
    "papermill": {
     "duration": 0.038176,
     "end_time": "2025-07-28T10:33:46.035369",
     "exception": false,
     "start_time": "2025-07-28T10:33:45.997193",
     "status": "completed"
    },
    "tags": []
   },
   "outputs": [
    {
     "data": {
      "text/html": [
       "<div>\n",
       "<style scoped>\n",
       "    .dataframe tbody tr th:only-of-type {\n",
       "        vertical-align: middle;\n",
       "    }\n",
       "\n",
       "    .dataframe tbody tr th {\n",
       "        vertical-align: top;\n",
       "    }\n",
       "\n",
       "    .dataframe thead th {\n",
       "        text-align: right;\n",
       "    }\n",
       "</style>\n",
       "<table border=\"1\" class=\"dataframe\">\n",
       "  <thead>\n",
       "    <tr style=\"text-align: right;\">\n",
       "      <th></th>\n",
       "      <th>universe_id</th>\n",
       "      <th>universe_training_size</th>\n",
       "      <th>universe_scale</th>\n",
       "      <th>universe_model</th>\n",
       "      <th>universe_exclude_features</th>\n",
       "      <th>universe_exclude_subgroups</th>\n",
       "      <th>q_hat</th>\n",
       "      <th>coverage</th>\n",
       "      <th>avg_size</th>\n",
       "      <th>cov_frau1</th>\n",
       "      <th>cov_nongerman</th>\n",
       "      <th>cov_nongerman_male</th>\n",
       "      <th>cov_nongerman_female</th>\n",
       "    </tr>\n",
       "  </thead>\n",
       "  <tbody>\n",
       "    <tr>\n",
       "      <th>0</th>\n",
       "      <td>434a85fc291c5778e2ae9a91c6b9b89a</td>\n",
       "      <td>5k</td>\n",
       "      <td>scale</td>\n",
       "      <td>elasticnet</td>\n",
       "      <td>nationality</td>\n",
       "      <td>keep-all</td>\n",
       "      <td>0.679493</td>\n",
       "      <td>0.911359</td>\n",
       "      <td>1.146383</td>\n",
       "      <td>0.908963</td>\n",
       "      <td>0.912031</td>\n",
       "      <td>0.928398</td>\n",
       "      <td>0.884948</td>\n",
       "    </tr>\n",
       "  </tbody>\n",
       "</table>\n",
       "</div>"
      ],
      "text/plain": [
       "                        universe_id universe_training_size universe_scale  \\\n",
       "0  434a85fc291c5778e2ae9a91c6b9b89a                     5k          scale   \n",
       "\n",
       "  universe_model universe_exclude_features universe_exclude_subgroups  \\\n",
       "0     elasticnet               nationality                   keep-all   \n",
       "\n",
       "      q_hat  coverage  avg_size  cov_frau1  cov_nongerman  cov_nongerman_male  \\\n",
       "0  0.679493  0.911359  1.146383   0.908963       0.912031            0.928398   \n",
       "\n",
       "   cov_nongerman_female  \n",
       "0              0.884948  "
      ]
     },
     "execution_count": 64,
     "metadata": {},
     "output_type": "execute_result"
    }
   ],
   "source": [
    "cp_metrics_df"
   ]
  },
  {
   "cell_type": "markdown",
   "id": "33774451",
   "metadata": {
    "papermill": {
     "duration": 0.024687,
     "end_time": "2025-07-28T10:33:46.088269",
     "exception": false,
     "start_time": "2025-07-28T10:33:46.063582",
     "status": "completed"
    },
    "tags": []
   },
   "source": [
    "# (Fairness) Metrics"
   ]
  },
  {
   "cell_type": "code",
   "execution_count": 65,
   "id": "debc5d62",
   "metadata": {
    "execution": {
     "iopub.execute_input": "2025-07-28T10:33:46.142610Z",
     "iopub.status.busy": "2025-07-28T10:33:46.142179Z",
     "iopub.status.idle": "2025-07-28T10:33:46.157052Z",
     "shell.execute_reply": "2025-07-28T10:33:46.156329Z"
    },
    "papermill": {
     "duration": 0.044274,
     "end_time": "2025-07-28T10:33:46.158674",
     "exception": false,
     "start_time": "2025-07-28T10:33:46.114400",
     "status": "completed"
    },
    "tags": []
   },
   "outputs": [],
   "source": [
    "# do I need to include maxdeutsch1.missing?\n",
    "\n",
    "import numpy as np\n",
    "\n",
    "colname_to_bin = \"maxdeutsch1\"\n",
    "majority_value = org_train[colname_to_bin].mode()[0]\n",
    "\n",
    "org_test[\"majmin\"] = np.where(org_test[colname_to_bin] == majority_value, \"majority\", \"minority\")"
   ]
  },
  {
   "cell_type": "code",
   "execution_count": 66,
   "id": "06a50de5",
   "metadata": {
    "execution": {
     "iopub.execute_input": "2025-07-28T10:33:46.209388Z",
     "iopub.status.busy": "2025-07-28T10:33:46.208587Z",
     "iopub.status.idle": "2025-07-28T10:33:49.059194Z",
     "shell.execute_reply": "2025-07-28T10:33:49.058137Z"
    },
    "papermill": {
     "duration": 2.877666,
     "end_time": "2025-07-28T10:33:49.061127",
     "exception": false,
     "start_time": "2025-07-28T10:33:46.183461",
     "status": "completed"
    },
    "tags": []
   },
   "outputs": [],
   "source": [
    "example_universe = universe.copy()\n",
    "example_universe[\"cutoff\"] = example_universe[\"cutoff\"][0]\n",
    "example_universe[\"eval_fairness_grouping\"] = example_universe[\"eval_fairness_grouping\"][0]\n",
    "fairness_dict, metric_frame = universe_analysis.compute_metrics(\n",
    "    example_universe,\n",
    "    y_pred_prob=probs_test,\n",
    "    y_test=y_true,\n",
    "    org_test=org_test,\n",
    ")"
   ]
  },
  {
   "cell_type": "markdown",
   "id": "f95d4e02",
   "metadata": {
    "papermill": {
     "duration": 0.027073,
     "end_time": "2025-07-28T10:33:49.114935",
     "exception": false,
     "start_time": "2025-07-28T10:33:49.087862",
     "status": "completed"
    },
    "tags": []
   },
   "source": [
    "# Overall"
   ]
  },
  {
   "cell_type": "markdown",
   "id": "bdee4871",
   "metadata": {
    "papermill": {
     "duration": 0.031252,
     "end_time": "2025-07-28T10:33:49.173560",
     "exception": false,
     "start_time": "2025-07-28T10:33:49.142308",
     "status": "completed"
    },
    "tags": []
   },
   "source": [
    "Fairness\n",
    "Main fairness target: Equalized Odds. Seems to be a better fit than equal opportunity, since we're not only interested in Y = 1. Seems to be a better fit than demographic parity, since we also care about accuracy, not just equal distribution of preds.\n",
    "\n",
    "Pick column for computation of fairness metrics\n",
    "\n",
    "Performance\n",
    "Overall performance measures, most interesting in relation to the measures split by group below"
   ]
  },
  {
   "cell_type": "code",
   "execution_count": 67,
   "id": "c4e067c6",
   "metadata": {
    "execution": {
     "iopub.execute_input": "2025-07-28T10:33:49.244344Z",
     "iopub.status.busy": "2025-07-28T10:33:49.243292Z",
     "iopub.status.idle": "2025-07-28T10:33:49.252526Z",
     "shell.execute_reply": "2025-07-28T10:33:49.251386Z"
    },
    "papermill": {
     "duration": 0.048571,
     "end_time": "2025-07-28T10:33:49.254591",
     "exception": false,
     "start_time": "2025-07-28T10:33:49.206020",
     "status": "completed"
    },
    "tags": []
   },
   "outputs": [
    {
     "data": {
      "text/plain": [
       "accuracy                   0.223643\n",
       "balanced accuracy          0.546991\n",
       "f1                         0.244994\n",
       "precision                  0.139957\n",
       "false positive rate        0.887944\n",
       "false negative rate        0.018074\n",
       "selection rate             0.900000\n",
       "count                  89710.000000\n",
       "dtype: float64"
      ]
     },
     "execution_count": 67,
     "metadata": {},
     "output_type": "execute_result"
    }
   ],
   "source": [
    "metric_frame.overall"
   ]
  },
  {
   "cell_type": "markdown",
   "id": "e968fe9d",
   "metadata": {
    "papermill": {
     "duration": 0.034187,
     "end_time": "2025-07-28T10:33:49.326188",
     "exception": false,
     "start_time": "2025-07-28T10:33:49.292001",
     "status": "completed"
    },
    "tags": []
   },
   "source": [
    "By Group"
   ]
  },
  {
   "cell_type": "code",
   "execution_count": 68,
   "id": "ec325bce",
   "metadata": {
    "execution": {
     "iopub.execute_input": "2025-07-28T10:33:49.356273Z",
     "iopub.status.busy": "2025-07-28T10:33:49.355878Z",
     "iopub.status.idle": "2025-07-28T10:33:49.372691Z",
     "shell.execute_reply": "2025-07-28T10:33:49.371733Z"
    },
    "papermill": {
     "duration": 0.032854,
     "end_time": "2025-07-28T10:33:49.374368",
     "exception": false,
     "start_time": "2025-07-28T10:33:49.341514",
     "status": "completed"
    },
    "tags": []
   },
   "outputs": [
    {
     "data": {
      "text/html": [
       "<div>\n",
       "<style scoped>\n",
       "    .dataframe tbody tr th:only-of-type {\n",
       "        vertical-align: middle;\n",
       "    }\n",
       "\n",
       "    .dataframe tbody tr th {\n",
       "        vertical-align: top;\n",
       "    }\n",
       "\n",
       "    .dataframe thead th {\n",
       "        text-align: right;\n",
       "    }\n",
       "</style>\n",
       "<table border=\"1\" class=\"dataframe\">\n",
       "  <thead>\n",
       "    <tr style=\"text-align: right;\">\n",
       "      <th></th>\n",
       "      <th>accuracy</th>\n",
       "      <th>balanced accuracy</th>\n",
       "      <th>f1</th>\n",
       "      <th>precision</th>\n",
       "      <th>false positive rate</th>\n",
       "      <th>false negative rate</th>\n",
       "      <th>selection rate</th>\n",
       "      <th>count</th>\n",
       "    </tr>\n",
       "    <tr>\n",
       "      <th>majmin</th>\n",
       "      <th></th>\n",
       "      <th></th>\n",
       "      <th></th>\n",
       "      <th></th>\n",
       "      <th></th>\n",
       "      <th></th>\n",
       "      <th></th>\n",
       "      <th></th>\n",
       "    </tr>\n",
       "  </thead>\n",
       "  <tbody>\n",
       "    <tr>\n",
       "      <th>majority</th>\n",
       "      <td>0.245366</td>\n",
       "      <td>0.557072</td>\n",
       "      <td>0.255654</td>\n",
       "      <td>0.146985</td>\n",
       "      <td>0.866600</td>\n",
       "      <td>0.019256</td>\n",
       "      <td>0.881683</td>\n",
       "      <td>69170.0</td>\n",
       "    </tr>\n",
       "    <tr>\n",
       "      <th>minority</th>\n",
       "      <td>0.150487</td>\n",
       "      <td>0.514017</td>\n",
       "      <td>0.211202</td>\n",
       "      <td>0.118261</td>\n",
       "      <td>0.958453</td>\n",
       "      <td>0.013514</td>\n",
       "      <td>0.961685</td>\n",
       "      <td>20540.0</td>\n",
       "    </tr>\n",
       "  </tbody>\n",
       "</table>\n",
       "</div>"
      ],
      "text/plain": [
       "          accuracy  balanced accuracy        f1  precision  \\\n",
       "majmin                                                       \n",
       "majority  0.245366           0.557072  0.255654   0.146985   \n",
       "minority  0.150487           0.514017  0.211202   0.118261   \n",
       "\n",
       "          false positive rate  false negative rate  selection rate    count  \n",
       "majmin                                                                       \n",
       "majority             0.866600             0.019256        0.881683  69170.0  \n",
       "minority             0.958453             0.013514        0.961685  20540.0  "
      ]
     },
     "execution_count": 68,
     "metadata": {},
     "output_type": "execute_result"
    }
   ],
   "source": [
    "metric_frame.by_group"
   ]
  },
  {
   "cell_type": "code",
   "execution_count": 69,
   "id": "a9ddbe63",
   "metadata": {
    "execution": {
     "iopub.execute_input": "2025-07-28T10:33:49.429721Z",
     "iopub.status.busy": "2025-07-28T10:33:49.429288Z",
     "iopub.status.idle": "2025-07-28T10:33:51.611568Z",
     "shell.execute_reply": "2025-07-28T10:33:51.610776Z"
    },
    "papermill": {
     "duration": 2.210715,
     "end_time": "2025-07-28T10:33:51.612935",
     "exception": false,
     "start_time": "2025-07-28T10:33:49.402220",
     "status": "completed"
    },
    "tags": []
   },
   "outputs": [
    {
     "data": {
      "text/plain": [
       "array([[<Axes: title={'center': 'accuracy'}, xlabel='majmin'>,\n",
       "        <Axes: title={'center': 'balanced accuracy'}, xlabel='majmin'>,\n",
       "        <Axes: title={'center': 'f1'}, xlabel='majmin'>],\n",
       "       [<Axes: title={'center': 'precision'}, xlabel='majmin'>,\n",
       "        <Axes: title={'center': 'false positive rate'}, xlabel='majmin'>,\n",
       "        <Axes: title={'center': 'false negative rate'}, xlabel='majmin'>],\n",
       "       [<Axes: title={'center': 'selection rate'}, xlabel='majmin'>,\n",
       "        <Axes: title={'center': 'count'}, xlabel='majmin'>,\n",
       "        <Axes: xlabel='majmin'>]], dtype=object)"
      ]
     },
     "execution_count": 69,
     "metadata": {},
     "output_type": "execute_result"
    },
    {
     "data": {
      "image/png": "[encoded data removed]",
      "text/plain": [
       "<Figure size 1200x800 with 9 Axes>"
      ]
     },
     "metadata": {},
     "output_type": "display_data"
    }
   ],
   "source": [
    "# In a graphic\n",
    "metric_frame.by_group.plot.bar(\n",
    "    subplots=True,\n",
    "    layout=[3, 3],\n",
    "    legend=False,\n",
    "    figsize=[12, 8],\n",
    "    title=\"Show all metrics\",\n",
    ")"
   ]
  },
  {
   "cell_type": "markdown",
   "id": "f57a0bac",
   "metadata": {
    "papermill": {
     "duration": 0.014497,
     "end_time": "2025-07-28T10:33:51.642889",
     "exception": false,
     "start_time": "2025-07-28T10:33:51.628392",
     "status": "completed"
    },
    "tags": []
   },
   "source": [
    "# Final Output"
   ]
  },
  {
   "cell_type": "code",
   "execution_count": 70,
   "id": "96d280a3",
   "metadata": {
    "execution": {
     "iopub.execute_input": "2025-07-28T10:33:51.698587Z",
     "iopub.status.busy": "2025-07-28T10:33:51.697778Z",
     "iopub.status.idle": "2025-07-28T10:33:51.707393Z",
     "shell.execute_reply": "2025-07-28T10:33:51.706483Z"
    },
    "papermill": {
     "duration": 0.038777,
     "end_time": "2025-07-28T10:33:51.708864",
     "exception": false,
     "start_time": "2025-07-28T10:33:51.670087",
     "status": "completed"
    },
    "tags": []
   },
   "outputs": [
    {
     "data": {
      "text/plain": [
       "4"
      ]
     },
     "execution_count": 70,
     "metadata": {},
     "output_type": "execute_result"
    }
   ],
   "source": [
    "sub_universes = universe_analysis.generate_sub_universes()\n",
    "len(sub_universes)"
   ]
  },
  {
   "cell_type": "code",
   "execution_count": 71,
   "id": "92adf7ba",
   "metadata": {
    "execution": {
     "iopub.execute_input": "2025-07-28T10:33:51.769254Z",
     "iopub.status.busy": "2025-07-28T10:33:51.768349Z",
     "iopub.status.idle": "2025-07-28T10:33:51.800091Z",
     "shell.execute_reply": "2025-07-28T10:33:51.774336Z"
    },
    "papermill": {
     "duration": 0.061835,
     "end_time": "2025-07-28T10:33:51.801880",
     "exception": false,
     "start_time": "2025-07-28T10:33:51.740045",
     "status": "completed"
    },
    "tags": []
   },
   "outputs": [],
   "source": [
    "def filter_sub_universe_data(sub_universe, org_test):\n",
    "    # Keep all rows — no filtering\n",
    "    keep_rows_mask = np.ones(org_test.shape[0], dtype=bool)\n",
    "\n",
    "    print(f\"[INFO] Keeping all rows: {keep_rows_mask.sum()} rows retained.\")\n",
    "    return keep_rows_mask"
   ]
  },
  {
   "cell_type": "code",
   "execution_count": 72,
   "id": "4a759155",
   "metadata": {
    "execution": {
     "iopub.execute_input": "2025-07-28T10:33:51.860375Z",
     "iopub.status.busy": "2025-07-28T10:33:51.859843Z",
     "iopub.status.idle": "2025-07-28T10:34:00.785775Z",
     "shell.execute_reply": "2025-07-28T10:34:00.784876Z"
    },
    "papermill": {
     "duration": 8.956258,
     "end_time": "2025-07-28T10:34:00.787375",
     "exception": false,
     "start_time": "2025-07-28T10:33:51.831117",
     "status": "completed"
    },
    "tags": []
   },
   "outputs": [
    {
     "name": "stdout",
     "output_type": "stream",
     "text": [
      "Stopping execution_time clock.\n",
      "[INFO] Keeping all rows: 89710 rows retained.\n"
     ]
    },
    {
     "name": "stdout",
     "output_type": "stream",
     "text": [
      "[INFO] Keeping all rows: 89710 rows retained.\n"
     ]
    },
    {
     "name": "stdout",
     "output_type": "stream",
     "text": [
      "[INFO] Keeping all rows: 89710 rows retained.\n"
     ]
    },
    {
     "name": "stdout",
     "output_type": "stream",
     "text": [
      "[INFO] Keeping all rows: 89710 rows retained.\n"
     ]
    },
    {
     "data": {
      "text/html": [
       "<div>\n",
       "<style scoped>\n",
       "    .dataframe tbody tr th:only-of-type {\n",
       "        vertical-align: middle;\n",
       "    }\n",
       "\n",
       "    .dataframe tbody tr th {\n",
       "        vertical-align: top;\n",
       "    }\n",
       "\n",
       "    .dataframe thead th {\n",
       "        text-align: right;\n",
       "    }\n",
       "</style>\n",
       "<table border=\"1\" class=\"dataframe\">\n",
       "  <thead>\n",
       "    <tr style=\"text-align: right;\">\n",
       "      <th></th>\n",
       "      <th>run_no</th>\n",
       "      <th>universe_id</th>\n",
       "      <th>universe_settings</th>\n",
       "      <th>execution_time</th>\n",
       "      <th>test_size_n</th>\n",
       "      <th>test_size_frac</th>\n",
       "      <th>fair_main_equalized_odds_difference</th>\n",
       "      <th>fair_main_equalized_odds_ratio</th>\n",
       "      <th>fair_main_demographic_parity_difference</th>\n",
       "      <th>fair_main_demographic_parity_ratio</th>\n",
       "      <th>...</th>\n",
       "      <th>perf_grp_precision_0</th>\n",
       "      <th>perf_grp_precision_1</th>\n",
       "      <th>perf_grp_false positive rate_0</th>\n",
       "      <th>perf_grp_false positive rate_1</th>\n",
       "      <th>perf_grp_false negative rate_0</th>\n",
       "      <th>perf_grp_false negative rate_1</th>\n",
       "      <th>perf_grp_selection rate_0</th>\n",
       "      <th>perf_grp_selection rate_1</th>\n",
       "      <th>perf_grp_count_0</th>\n",
       "      <th>perf_grp_count_1</th>\n",
       "    </tr>\n",
       "  </thead>\n",
       "  <tbody>\n",
       "    <tr>\n",
       "      <th>0</th>\n",
       "      <td>11</td>\n",
       "      <td>434a85fc291c5778e2ae9a91c6b9b89a</td>\n",
       "      <td>{\"cutoff\": \"quantile_0.1\", \"eval_fairness_grou...</td>\n",
       "      <td>43.014786</td>\n",
       "      <td>89710</td>\n",
       "      <td>1.0</td>\n",
       "      <td>0.091853</td>\n",
       "      <td>0.904166</td>\n",
       "      <td>0.080002</td>\n",
       "      <td>0.916811</td>\n",
       "      <td>...</td>\n",
       "      <td>NaN</td>\n",
       "      <td>NaN</td>\n",
       "      <td>NaN</td>\n",
       "      <td>NaN</td>\n",
       "      <td>NaN</td>\n",
       "      <td>NaN</td>\n",
       "      <td>NaN</td>\n",
       "      <td>NaN</td>\n",
       "      <td>NaN</td>\n",
       "      <td>NaN</td>\n",
       "    </tr>\n",
       "    <tr>\n",
       "      <th>0</th>\n",
       "      <td>11</td>\n",
       "      <td>434a85fc291c5778e2ae9a91c6b9b89a</td>\n",
       "      <td>{\"cutoff\": \"quantile_0.1\", \"eval_fairness_grou...</td>\n",
       "      <td>43.014786</td>\n",
       "      <td>89710</td>\n",
       "      <td>1.0</td>\n",
       "      <td>0.091853</td>\n",
       "      <td>0.904166</td>\n",
       "      <td>0.080002</td>\n",
       "      <td>0.916811</td>\n",
       "      <td>...</td>\n",
       "      <td>0.118261</td>\n",
       "      <td>0.146985</td>\n",
       "      <td>0.958453</td>\n",
       "      <td>0.86660</td>\n",
       "      <td>0.013514</td>\n",
       "      <td>0.019256</td>\n",
       "      <td>0.961685</td>\n",
       "      <td>0.881683</td>\n",
       "      <td>20540.0</td>\n",
       "      <td>69170.0</td>\n",
       "    </tr>\n",
       "    <tr>\n",
       "      <th>0</th>\n",
       "      <td>11</td>\n",
       "      <td>434a85fc291c5778e2ae9a91c6b9b89a</td>\n",
       "      <td>{\"cutoff\": \"quantile_0.25\", \"eval_fairness_gro...</td>\n",
       "      <td>43.014786</td>\n",
       "      <td>89710</td>\n",
       "      <td>1.0</td>\n",
       "      <td>0.180145</td>\n",
       "      <td>0.790797</td>\n",
       "      <td>0.157674</td>\n",
       "      <td>0.819091</td>\n",
       "      <td>...</td>\n",
       "      <td>NaN</td>\n",
       "      <td>NaN</td>\n",
       "      <td>NaN</td>\n",
       "      <td>NaN</td>\n",
       "      <td>NaN</td>\n",
       "      <td>NaN</td>\n",
       "      <td>NaN</td>\n",
       "      <td>NaN</td>\n",
       "      <td>NaN</td>\n",
       "      <td>NaN</td>\n",
       "    </tr>\n",
       "    <tr>\n",
       "      <th>0</th>\n",
       "      <td>11</td>\n",
       "      <td>434a85fc291c5778e2ae9a91c6b9b89a</td>\n",
       "      <td>{\"cutoff\": \"quantile_0.25\", \"eval_fairness_gro...</td>\n",
       "      <td>43.014786</td>\n",
       "      <td>89710</td>\n",
       "      <td>1.0</td>\n",
       "      <td>0.180145</td>\n",
       "      <td>0.790797</td>\n",
       "      <td>0.157674</td>\n",
       "      <td>0.819091</td>\n",
       "      <td>...</td>\n",
       "      <td>0.125908</td>\n",
       "      <td>0.172175</td>\n",
       "      <td>0.861105</td>\n",
       "      <td>0.68096</td>\n",
       "      <td>0.048142</td>\n",
       "      <td>0.069803</td>\n",
       "      <td>0.871568</td>\n",
       "      <td>0.713893</td>\n",
       "      <td>20540.0</td>\n",
       "      <td>69170.0</td>\n",
       "    </tr>\n",
       "  </tbody>\n",
       "</table>\n",
       "<p>4 rows × 50 columns</p>\n",
       "</div>"
      ],
      "text/plain": [
       "  run_no                       universe_id  \\\n",
       "0     11  434a85fc291c5778e2ae9a91c6b9b89a   \n",
       "0     11  434a85fc291c5778e2ae9a91c6b9b89a   \n",
       "0     11  434a85fc291c5778e2ae9a91c6b9b89a   \n",
       "0     11  434a85fc291c5778e2ae9a91c6b9b89a   \n",
       "\n",
       "                                   universe_settings  execution_time  \\\n",
       "0  {\"cutoff\": \"quantile_0.1\", \"eval_fairness_grou...       43.014786   \n",
       "0  {\"cutoff\": \"quantile_0.1\", \"eval_fairness_grou...       43.014786   \n",
       "0  {\"cutoff\": \"quantile_0.25\", \"eval_fairness_gro...       43.014786   \n",
       "0  {\"cutoff\": \"quantile_0.25\", \"eval_fairness_gro...       43.014786   \n",
       "\n",
       "   test_size_n  test_size_frac  fair_main_equalized_odds_difference  \\\n",
       "0        89710             1.0                             0.091853   \n",
       "0        89710             1.0                             0.091853   \n",
       "0        89710             1.0                             0.180145   \n",
       "0        89710             1.0                             0.180145   \n",
       "\n",
       "   fair_main_equalized_odds_ratio  fair_main_demographic_parity_difference  \\\n",
       "0                        0.904166                                 0.080002   \n",
       "0                        0.904166                                 0.080002   \n",
       "0                        0.790797                                 0.157674   \n",
       "0                        0.790797                                 0.157674   \n",
       "\n",
       "   fair_main_demographic_parity_ratio  ...  perf_grp_precision_0  \\\n",
       "0                            0.916811  ...                   NaN   \n",
       "0                            0.916811  ...              0.118261   \n",
       "0                            0.819091  ...                   NaN   \n",
       "0                            0.819091  ...              0.125908   \n",
       "\n",
       "   perf_grp_precision_1  perf_grp_false positive rate_0  \\\n",
       "0                   NaN                             NaN   \n",
       "0              0.146985                        0.958453   \n",
       "0                   NaN                             NaN   \n",
       "0              0.172175                        0.861105   \n",
       "\n",
       "   perf_grp_false positive rate_1  perf_grp_false negative rate_0  \\\n",
       "0                             NaN                             NaN   \n",
       "0                         0.86660                        0.013514   \n",
       "0                             NaN                             NaN   \n",
       "0                         0.68096                        0.048142   \n",
       "\n",
       "   perf_grp_false negative rate_1  perf_grp_selection rate_0  \\\n",
       "0                             NaN                        NaN   \n",
       "0                        0.019256                   0.961685   \n",
       "0                             NaN                        NaN   \n",
       "0                        0.069803                   0.871568   \n",
       "\n",
       "   perf_grp_selection rate_1  perf_grp_count_0  perf_grp_count_1  \n",
       "0                        NaN               NaN               NaN  \n",
       "0                   0.881683           20540.0           69170.0  \n",
       "0                        NaN               NaN               NaN  \n",
       "0                   0.713893           20540.0           69170.0  \n",
       "\n",
       "[4 rows x 50 columns]"
      ]
     },
     "execution_count": 72,
     "metadata": {},
     "output_type": "execute_result"
    }
   ],
   "source": [
    "final_output = universe_analysis.generate_final_output(\n",
    "    y_pred_prob=probs_test,\n",
    "    y_test=y_true,\n",
    "    org_test=org_test,\n",
    "    filter_data=filter_sub_universe_data,\n",
    "    cp_metrics_df=cp_metrics_df,\n",
    "    save=True,\n",
    ")\n",
    "final_output"
   ]
  },
  {
   "cell_type": "code",
   "execution_count": null,
   "id": "721ff514-cb11-46f8-b6fc-50392f74b5cb",
   "metadata": {
    "papermill": {
     "duration": 0.027928,
     "end_time": "2025-07-28T10:34:00.846968",
     "exception": false,
     "start_time": "2025-07-28T10:34:00.819040",
     "status": "completed"
    },
    "tags": []
   },
   "outputs": [],
   "source": []
  }
 ],
 "metadata": {
  "celltoolbar": "Tags",
  "kernelspec": {
   "display_name": "Python (CMA Fairness)",
   "language": "python",
   "name": "cma_fair_env"
  },
  "language_info": {
   "codemirror_mode": {
    "name": "ipython",
    "version": 3
   },
   "file_extension": ".py",
   "mimetype": "text/x-python",
   "name": "python",
   "nbconvert_exporter": "python",
   "pygments_lexer": "ipython3",
   "version": "3.10.12"
  },
  "papermill": {
   "default_parameters": {},
   "duration": 56.135484,
   "end_time": "2025-07-28T10:34:01.693997",
   "environment_variables": {},
   "exception": null,
   "input_path": "universe_analysis.ipynb",
   "output_path": "output/runs/11/notebooks/m_11-434a85fc291c5778e2ae9a91c6b9b89a.ipynb",
   "parameters": {
    "output_dir": "output",
    "run_no": "11",
    "seed": "2023",
    "universe": "{\"cutoff\": [\"quantile_0.1\", \"quantile_0.25\"], \"eval_fairness_grouping\": [\"majority-minority\", \"nationality-all\"], \"exclude_features\": \"nationality\", \"exclude_subgroups\": \"keep-all\", \"model\": \"elasticnet\", \"scale\": \"scale\", \"training_size\": \"5k\"}",
    "universe_id": "434a85fc291c5778e2ae9a91c6b9b89a"
   },
   "start_time": "2025-07-28T10:33:05.558513",
   "version": "2.6.0"
  }
 },
 "nbformat": 4,
 "nbformat_minor": 5
}