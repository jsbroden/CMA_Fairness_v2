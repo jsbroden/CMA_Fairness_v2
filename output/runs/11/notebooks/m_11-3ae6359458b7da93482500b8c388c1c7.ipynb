{
 "cells": [
  {
   "cell_type": "code",
   "execution_count": 1,
   "id": "f159f837-637b-42ba-96b5-ec9a68c44524",
   "metadata": {
    "execution": {
     "iopub.execute_input": "2025-07-28T10:53:18.115602Z",
     "iopub.status.busy": "2025-07-28T10:53:18.115092Z",
     "iopub.status.idle": "2025-07-28T10:53:18.129954Z",
     "shell.execute_reply": "2025-07-28T10:53:18.128745Z"
    },
    "papermill": {
     "duration": 0.039078,
     "end_time": "2025-07-28T10:53:18.132477",
     "exception": false,
     "start_time": "2025-07-28T10:53:18.093399",
     "status": "completed"
    },
    "tags": []
   },
   "outputs": [
    {
     "name": "stdout",
     "output_type": "stream",
     "text": [
      "/dss/dsshome1/0C/ra93lal2/cma/CMA_Fairness_v2\n"
     ]
    },
    {
     "name": "stderr",
     "output_type": "stream",
     "text": [
      "/dss/dsshome1/0C/ra93lal2/.local/share/virtualenvs/CMA_Fairness_v2-3j10GkSs/lib/python3.10/site-packages/IPython/core/magics/osm.py:393: UserWarning: This is now an optional IPython functionality, using bookmarks requires you to install the `pickleshare` library.\n",
      "  bkms = self.shell.db.get('bookmarks', {})\n",
      "/dss/dsshome1/0C/ra93lal2/.local/share/virtualenvs/CMA_Fairness_v2-3j10GkSs/lib/python3.10/site-packages/IPython/core/magics/osm.py:417: UserWarning: This is now an optional IPython functionality, setting dhist requires you to install the `pickleshare` library.\n",
      "  self.shell.db['dhist'] = compress_dhist(dhist)[-100:]\n"
     ]
    }
   ],
   "source": [
    "%cd ~/cma/CMA_Fairness_v2"
   ]
  },
  {
   "cell_type": "markdown",
   "id": "de2603b9",
   "metadata": {
    "papermill": {
     "duration": 0.020242,
     "end_time": "2025-07-28T10:53:18.172226",
     "exception": false,
     "start_time": "2025-07-28T10:53:18.151984",
     "status": "completed"
    },
    "tags": []
   },
   "source": [
    "The following cell holds the definition of our parameters, these values can be overriden by rendering the with e.g. the following command:\n",
    "\n",
    "papermill -p alpha 0.2 -p ratio 0.3 universe_analysis.ipynb output/test_run.ipynb"
   ]
  },
  {
   "cell_type": "code",
   "execution_count": 2,
   "id": "a80968a0-40bb-4fa9-85ef-2d5eefb01975",
   "metadata": {
    "execution": {
     "iopub.execute_input": "2025-07-28T10:53:18.214217Z",
     "iopub.status.busy": "2025-07-28T10:53:18.213745Z",
     "iopub.status.idle": "2025-07-28T10:53:18.219496Z",
     "shell.execute_reply": "2025-07-28T10:53:18.218550Z"
    },
    "papermill": {
     "duration": 0.028643,
     "end_time": "2025-07-28T10:53:18.221412",
     "exception": false,
     "start_time": "2025-07-28T10:53:18.192769",
     "status": "completed"
    },
    "tags": []
   },
   "outputs": [
    {
     "name": "stdout",
     "output_type": "stream",
     "text": [
      "Current working directory: /dss/dsshome1/0C/ra93lal2/cma/CMA_Fairness_v2\n"
     ]
    }
   ],
   "source": [
    "import os\n",
    "print(\"Current working directory:\", os.getcwd())"
   ]
  },
  {
   "cell_type": "code",
   "execution_count": 3,
   "id": "2dce4c03",
   "metadata": {
    "execution": {
     "iopub.execute_input": "2025-07-28T10:53:18.263854Z",
     "iopub.status.busy": "2025-07-28T10:53:18.263154Z",
     "iopub.status.idle": "2025-07-28T10:53:18.269803Z",
     "shell.execute_reply": "2025-07-28T10:53:18.268800Z"
    },
    "papermill": {
     "duration": 0.031123,
     "end_time": "2025-07-28T10:53:18.271419",
     "exception": false,
     "start_time": "2025-07-28T10:53:18.240296",
     "status": "completed"
    },
    "tags": [
     "parameters"
    ]
   },
   "outputs": [],
   "source": [
    "run_no = 0\n",
    "universe_id = \"test\"\n",
    "universe = {\n",
    "    \"training_size\": \"2014\", # \"25k\", \"5k\", \"1k\", \"2014\"\n",
    "    \"scale\": \"scale\", # \"scale\", \"do-not-scale\",\n",
    "    #\"stratify_split\": \"target\", # \"none\", \"target\", \"protected-attribute\", \"both\",\n",
    "    \"model\": \"elasticnet\", # \"logreg\", \"penalized_logreg\", \"rf\", \"gbm\", \"elasticnet\"\n",
    "    \"cutoff\": [\"quantile_0.15\", \"quantile_0.30\"],\n",
    "    \"exclude_features\": \"age\", # \"none\", \"nationality\", \"sex\", \"nationality-sex\", \"age\"\n",
    "    \"exclude_subgroups\": \"keep-all\", # \"keep-all\", \"drop-non-german\"\n",
    "    \"eval_fairness_grouping\": [\"majority-minority\", \"nationality-all\"]\n",
    "}\n",
    "\n",
    "output_dir=\"./output\"\n",
    "seed=0"
   ]
  },
  {
   "cell_type": "code",
   "execution_count": 4,
   "id": "8b68c4b7",
   "metadata": {
    "execution": {
     "iopub.execute_input": "2025-07-28T10:53:18.309691Z",
     "iopub.status.busy": "2025-07-28T10:53:18.309160Z",
     "iopub.status.idle": "2025-07-28T10:53:18.314299Z",
     "shell.execute_reply": "2025-07-28T10:53:18.313320Z"
    },
    "papermill": {
     "duration": 0.025722,
     "end_time": "2025-07-28T10:53:18.315910",
     "exception": false,
     "start_time": "2025-07-28T10:53:18.290188",
     "status": "completed"
    },
    "tags": [
     "injected-parameters"
    ]
   },
   "outputs": [],
   "source": [
    "# Parameters\n",
    "universe_id = \"3ae6359458b7da93482500b8c388c1c7\"\n",
    "run_no = \"11\"\n",
    "universe = \"{\\\"cutoff\\\": [\\\"quantile_0.1\\\", \\\"quantile_0.25\\\"], \\\"eval_fairness_grouping\\\": [\\\"majority-minority\\\", \\\"nationality-all\\\"], \\\"exclude_features\\\": \\\"nationality\\\", \\\"exclude_subgroups\\\": \\\"drop-non-german\\\", \\\"model\\\": \\\"logreg\\\", \\\"scale\\\": \\\"scale\\\", \\\"training_size\\\": \\\"2014\\\"}\"\n",
    "output_dir = \"output\"\n",
    "seed = \"2023\"\n"
   ]
  },
  {
   "cell_type": "code",
   "execution_count": 5,
   "id": "1650acaf",
   "metadata": {
    "execution": {
     "iopub.execute_input": "2025-07-28T10:53:18.353702Z",
     "iopub.status.busy": "2025-07-28T10:53:18.352923Z",
     "iopub.status.idle": "2025-07-28T10:53:18.357969Z",
     "shell.execute_reply": "2025-07-28T10:53:18.356990Z"
    },
    "papermill": {
     "duration": 0.025759,
     "end_time": "2025-07-28T10:53:18.359751",
     "exception": false,
     "start_time": "2025-07-28T10:53:18.333992",
     "status": "completed"
    },
    "tags": []
   },
   "outputs": [],
   "source": [
    "import json\n",
    "# Parse universe into dict if it is passed as a string\n",
    "if isinstance(universe, str):\n",
    "    universe = json.loads(universe)"
   ]
  },
  {
   "cell_type": "code",
   "execution_count": 6,
   "id": "16620c48",
   "metadata": {
    "execution": {
     "iopub.execute_input": "2025-07-28T10:53:18.401347Z",
     "iopub.status.busy": "2025-07-28T10:53:18.400960Z",
     "iopub.status.idle": "2025-07-28T10:53:18.448626Z",
     "shell.execute_reply": "2025-07-28T10:53:18.447585Z"
    },
    "papermill": {
     "duration": 0.071291,
     "end_time": "2025-07-28T10:53:18.450604",
     "exception": false,
     "start_time": "2025-07-28T10:53:18.379313",
     "status": "completed"
    },
    "tags": []
   },
   "outputs": [],
   "source": [
    "# Auto-reload the custom package\n",
    "%load_ext autoreload\n",
    "%autoreload 1\n",
    "%aimport fairness_multiverse"
   ]
  },
  {
   "cell_type": "code",
   "execution_count": 7,
   "id": "01c5c9f3",
   "metadata": {
    "execution": {
     "iopub.execute_input": "2025-07-28T10:53:18.491617Z",
     "iopub.status.busy": "2025-07-28T10:53:18.490921Z",
     "iopub.status.idle": "2025-07-28T10:53:20.619721Z",
     "shell.execute_reply": "2025-07-28T10:53:20.618637Z"
    },
    "papermill": {
     "duration": 2.152218,
     "end_time": "2025-07-28T10:53:20.621995",
     "exception": false,
     "start_time": "2025-07-28T10:53:18.469777",
     "status": "completed"
    },
    "tags": []
   },
   "outputs": [],
   "source": [
    "from fairness_multiverse.universe import UniverseAnalysis\n",
    "\n",
    "universe_analysis = UniverseAnalysis(\n",
    "    run_no = run_no,\n",
    "    universe_id = universe_id,\n",
    "    universe = universe,\n",
    "    output_dir=output_dir,\n",
    ")"
   ]
  },
  {
   "cell_type": "code",
   "execution_count": 8,
   "id": "106241f5",
   "metadata": {
    "execution": {
     "iopub.execute_input": "2025-07-28T10:53:20.664085Z",
     "iopub.status.busy": "2025-07-28T10:53:20.663558Z",
     "iopub.status.idle": "2025-07-28T10:53:20.670833Z",
     "shell.execute_reply": "2025-07-28T10:53:20.669792Z"
    },
    "papermill": {
     "duration": 0.030095,
     "end_time": "2025-07-28T10:53:20.672512",
     "exception": false,
     "start_time": "2025-07-28T10:53:20.642417",
     "status": "completed"
    },
    "tags": []
   },
   "outputs": [
    {
     "name": "stdout",
     "output_type": "stream",
     "text": [
      "Using Seed: 2023\n"
     ]
    }
   ],
   "source": [
    "import numpy as np\n",
    "parsed_seed = int(seed)\n",
    "np.random.seed(parsed_seed)\n",
    "print(f\"Using Seed: {parsed_seed}\")"
   ]
  },
  {
   "cell_type": "markdown",
   "id": "e0ebdc57",
   "metadata": {
    "papermill": {
     "duration": 0.018791,
     "end_time": "2025-07-28T10:53:20.710463",
     "exception": false,
     "start_time": "2025-07-28T10:53:20.691672",
     "status": "completed"
    },
    "tags": []
   },
   "source": [
    "# Loading Data"
   ]
  },
  {
   "cell_type": "markdown",
   "id": "681925a3",
   "metadata": {
    "papermill": {
     "duration": 0.018711,
     "end_time": "2025-07-28T10:53:20.747922",
     "exception": false,
     "start_time": "2025-07-28T10:53:20.729211",
     "status": "completed"
    },
    "tags": []
   },
   "source": [
    "Load siab_train, siab_test, siab_calib and/or \n",
    "load siab_train_features, siab_train_labels"
   ]
  },
  {
   "cell_type": "code",
   "execution_count": 9,
   "id": "f0496b8a",
   "metadata": {
    "execution": {
     "iopub.execute_input": "2025-07-28T10:53:20.787181Z",
     "iopub.status.busy": "2025-07-28T10:53:20.786426Z",
     "iopub.status.idle": "2025-07-28T10:53:35.215869Z",
     "shell.execute_reply": "2025-07-28T10:53:35.214523Z"
    },
    "papermill": {
     "duration": 14.451026,
     "end_time": "2025-07-28T10:53:35.217578",
     "exception": false,
     "start_time": "2025-07-28T10:53:20.766552",
     "status": "completed"
    },
    "tags": []
   },
   "outputs": [
    {
     "name": "stdout",
     "output_type": "stream",
     "text": [
      "Loading SIAB data from cache: data/siab_cached.csv.gz\n"
     ]
    },
    {
     "name": "stdout",
     "output_type": "stream",
     "text": [
      "(643690, 164)\n"
     ]
    }
   ],
   "source": [
    "from pathlib import Path\n",
    "import pandas as pd\n",
    "\n",
    "# File paths\n",
    "raw_file = Path(\"data/raw/siab.csv\")\n",
    "cache_file = Path(\"data/siab_cached.csv.gz\")\n",
    "\n",
    "# Ensure cache directory exists\n",
    "cache_file.parent.mkdir(parents=True, exist_ok=True)\n",
    "\n",
    "# Load with simple caching\n",
    "if cache_file.exists():\n",
    "    print(f\"Loading SIAB data from cache: {cache_file}\")\n",
    "    siab = pd.read_csv(cache_file, compression='gzip')\n",
    "else:\n",
    "    print(f\"Cache not found. Reading raw SIAB data: {raw_file}\")\n",
    "    siab = pd.read_csv(raw_file)\n",
    "    siab.to_csv(cache_file, index=False, compression='gzip')\n",
    "    print(f\"Cached SIAB data to: {cache_file}\")\n",
    "\n",
    "# Now use `siab` DataFrame as needed\n",
    "print(siab.shape)"
   ]
  },
  {
   "cell_type": "code",
   "execution_count": 10,
   "id": "db0ca512-5f53-4dba-abdb-a2888bca41ba",
   "metadata": {
    "execution": {
     "iopub.execute_input": "2025-07-28T10:53:35.264101Z",
     "iopub.status.busy": "2025-07-28T10:53:35.263225Z",
     "iopub.status.idle": "2025-07-28T10:53:35.269346Z",
     "shell.execute_reply": "2025-07-28T10:53:35.268087Z"
    },
    "papermill": {
     "duration": 0.030418,
     "end_time": "2025-07-28T10:53:35.271009",
     "exception": false,
     "start_time": "2025-07-28T10:53:35.240591",
     "status": "completed"
    },
    "tags": []
   },
   "outputs": [],
   "source": [
    "#siab"
   ]
  },
  {
   "cell_type": "code",
   "execution_count": 11,
   "id": "a0edb063",
   "metadata": {
    "execution": {
     "iopub.execute_input": "2025-07-28T10:53:35.315473Z",
     "iopub.status.busy": "2025-07-28T10:53:35.314810Z",
     "iopub.status.idle": "2025-07-28T10:53:35.320175Z",
     "shell.execute_reply": "2025-07-28T10:53:35.319127Z"
    },
    "papermill": {
     "duration": 0.03058,
     "end_time": "2025-07-28T10:53:35.321752",
     "exception": false,
     "start_time": "2025-07-28T10:53:35.291172",
     "status": "completed"
    },
    "tags": []
   },
   "outputs": [],
   "source": [
    "#import pandas as pd\n",
    "#\n",
    "#X_train = pd.read_csv(\"./data/X_train.csv\")\n",
    "#y_train = pd.read_csv(\"./data/y_train.csv\")"
   ]
  },
  {
   "cell_type": "code",
   "execution_count": 12,
   "id": "63d08085",
   "metadata": {
    "execution": {
     "iopub.execute_input": "2025-07-28T10:53:35.363375Z",
     "iopub.status.busy": "2025-07-28T10:53:35.362617Z",
     "iopub.status.idle": "2025-07-28T10:53:35.369419Z",
     "shell.execute_reply": "2025-07-28T10:53:35.368290Z"
    },
    "papermill": {
     "duration": 0.029489,
     "end_time": "2025-07-28T10:53:35.371361",
     "exception": false,
     "start_time": "2025-07-28T10:53:35.341872",
     "status": "completed"
    },
    "tags": []
   },
   "outputs": [],
   "source": [
    "#X_test = pd.read_csv(\"./data/X_test.csv\")\n",
    "#y_true = pd.read_csv(\"./data/y_test.csv\")"
   ]
  },
  {
   "cell_type": "code",
   "execution_count": 13,
   "id": "98a8d0fa-1d3d-4ed8-bb2c-281470e24add",
   "metadata": {
    "execution": {
     "iopub.execute_input": "2025-07-28T10:53:35.413705Z",
     "iopub.status.busy": "2025-07-28T10:53:35.412980Z",
     "iopub.status.idle": "2025-07-28T10:53:35.419039Z",
     "shell.execute_reply": "2025-07-28T10:53:35.417954Z"
    },
    "papermill": {
     "duration": 0.02977,
     "end_time": "2025-07-28T10:53:35.421124",
     "exception": false,
     "start_time": "2025-07-28T10:53:35.391354",
     "status": "completed"
    },
    "tags": []
   },
   "outputs": [],
   "source": [
    "# Calibration data for conformal\n",
    "#X_calib = pd.read_csv(\"./data/X_calib.csv\")\n",
    "#y_calib = pd.read_csv(\"./data/y_calib.csv\")"
   ]
  },
  {
   "cell_type": "markdown",
   "id": "9901737e-04df-44f0-9100-f5ad144ed040",
   "metadata": {
    "papermill": {
     "duration": 0.025745,
     "end_time": "2025-07-28T10:53:35.472114",
     "exception": false,
     "start_time": "2025-07-28T10:53:35.446369",
     "status": "completed"
    },
    "tags": []
   },
   "source": [
    "# Splitting Data and Setting Training Data Size"
   ]
  },
  {
   "cell_type": "code",
   "execution_count": 14,
   "id": "acbc8f7d-8fc8-4e86-8c59-5dcb0f58384b",
   "metadata": {
    "execution": {
     "iopub.execute_input": "2025-07-28T10:53:35.524963Z",
     "iopub.status.busy": "2025-07-28T10:53:35.524000Z",
     "iopub.status.idle": "2025-07-28T10:53:35.535522Z",
     "shell.execute_reply": "2025-07-28T10:53:35.534267Z"
    },
    "papermill": {
     "duration": 0.04032,
     "end_time": "2025-07-28T10:53:35.537732",
     "exception": false,
     "start_time": "2025-07-28T10:53:35.497412",
     "status": "completed"
    },
    "tags": []
   },
   "outputs": [],
   "source": [
    "def sample_by_year(df, training_size, random_state=42):\n",
    "    if training_size == \"2014\":\n",
    "        return df[df[\"year\"] == 2014].reset_index(drop=True)\n",
    "    \n",
    "    size_map = {\n",
    "        \"25k\": 5000,\n",
    "        \"5k\": 1000,\n",
    "        \"1k\": 200\n",
    "    }\n",
    "\n",
    "    if training_size not in size_map:\n",
    "        return df.reset_index(drop=True)  # use all data\n",
    "\n",
    "    n_per_year = size_map[training_size]\n",
    "    grouped = df.groupby(\"year\")\n",
    "    sampled = grouped.apply(lambda x: x.sample(n=min(n_per_year, len(x)), random_state=random_state))\n",
    "    return sampled.reset_index(drop=True)"
   ]
  },
  {
   "cell_type": "code",
   "execution_count": 15,
   "id": "6d931f52-beaf-43ff-9e78-9d44a448d54e",
   "metadata": {
    "execution": {
     "iopub.execute_input": "2025-07-28T10:53:35.590311Z",
     "iopub.status.busy": "2025-07-28T10:53:35.589499Z",
     "iopub.status.idle": "2025-07-28T10:53:35.835070Z",
     "shell.execute_reply": "2025-07-28T10:53:35.833974Z"
    },
    "papermill": {
     "duration": 0.272993,
     "end_time": "2025-07-28T10:53:35.837237",
     "exception": false,
     "start_time": "2025-07-28T10:53:35.564244",
     "status": "completed"
    },
    "tags": []
   },
   "outputs": [],
   "source": [
    "siab_s = sample_by_year(siab, universe[\"training_size\"])"
   ]
  },
  {
   "cell_type": "code",
   "execution_count": 16,
   "id": "5db0a40e-a4e2-4920-be85-b12ae061d70d",
   "metadata": {
    "execution": {
     "iopub.execute_input": "2025-07-28T10:53:35.879388Z",
     "iopub.status.busy": "2025-07-28T10:53:35.878405Z",
     "iopub.status.idle": "2025-07-28T10:53:35.897890Z",
     "shell.execute_reply": "2025-07-28T10:53:35.896758Z"
    },
    "papermill": {
     "duration": 0.04213,
     "end_time": "2025-07-28T10:53:35.899560",
     "exception": false,
     "start_time": "2025-07-28T10:53:35.857430",
     "status": "completed"
    },
    "tags": []
   },
   "outputs": [
    {
     "data": {
      "text/plain": [
       "year\n",
       "2014    87158\n",
       "dtype: int64"
      ]
     },
     "metadata": {},
     "output_type": "display_data"
    }
   ],
   "source": [
    "display(siab_s.groupby(\"year\").size())"
   ]
  },
  {
   "cell_type": "code",
   "execution_count": 17,
   "id": "a561edb4-d032-42cb-8256-22eac1111c64",
   "metadata": {
    "execution": {
     "iopub.execute_input": "2025-07-28T10:53:35.943260Z",
     "iopub.status.busy": "2025-07-28T10:53:35.942556Z",
     "iopub.status.idle": "2025-07-28T10:53:36.399415Z",
     "shell.execute_reply": "2025-07-28T10:53:36.398164Z"
    },
    "papermill": {
     "duration": 0.481663,
     "end_time": "2025-07-28T10:53:36.402021",
     "exception": false,
     "start_time": "2025-07-28T10:53:35.920358",
     "status": "completed"
    },
    "tags": []
   },
   "outputs": [],
   "source": [
    "siab_train = siab_s[siab_s.year < 2015]\n",
    "siab_calib = siab[siab.year == 2015]\n",
    "siab_test = siab[siab.year == 2016]"
   ]
  },
  {
   "cell_type": "code",
   "execution_count": 18,
   "id": "472de16f-c3db-4916-846b-1f0de9cf1746",
   "metadata": {
    "execution": {
     "iopub.execute_input": "2025-07-28T10:53:36.454666Z",
     "iopub.status.busy": "2025-07-28T10:53:36.454091Z",
     "iopub.status.idle": "2025-07-28T10:53:36.520214Z",
     "shell.execute_reply": "2025-07-28T10:53:36.519081Z"
    },
    "papermill": {
     "duration": 0.095399,
     "end_time": "2025-07-28T10:53:36.522404",
     "exception": false,
     "start_time": "2025-07-28T10:53:36.427005",
     "status": "completed"
    },
    "tags": []
   },
   "outputs": [],
   "source": [
    "X_train = siab_train.iloc[:,4:164]\n",
    "y_train = siab_train.iloc[:, [3]]"
   ]
  },
  {
   "cell_type": "code",
   "execution_count": 19,
   "id": "828c96af-f43a-4ed6-ba47-8ac73a47d56c",
   "metadata": {
    "execution": {
     "iopub.execute_input": "2025-07-28T10:53:36.577294Z",
     "iopub.status.busy": "2025-07-28T10:53:36.576576Z",
     "iopub.status.idle": "2025-07-28T10:53:36.633996Z",
     "shell.execute_reply": "2025-07-28T10:53:36.632777Z"
    },
    "papermill": {
     "duration": 0.087142,
     "end_time": "2025-07-28T10:53:36.636214",
     "exception": false,
     "start_time": "2025-07-28T10:53:36.549072",
     "status": "completed"
    },
    "tags": []
   },
   "outputs": [],
   "source": [
    "X_calib = siab_calib.iloc[:,4:164]\n",
    "y_calib = siab_calib.iloc[:, [3]]"
   ]
  },
  {
   "cell_type": "code",
   "execution_count": 20,
   "id": "c34be9c3-6bd6-476e-acd3-845840e303be",
   "metadata": {
    "execution": {
     "iopub.execute_input": "2025-07-28T10:53:36.690991Z",
     "iopub.status.busy": "2025-07-28T10:53:36.690227Z",
     "iopub.status.idle": "2025-07-28T10:53:36.746327Z",
     "shell.execute_reply": "2025-07-28T10:53:36.745125Z"
    },
    "papermill": {
     "duration": 0.085734,
     "end_time": "2025-07-28T10:53:36.748296",
     "exception": false,
     "start_time": "2025-07-28T10:53:36.662562",
     "status": "completed"
    },
    "tags": []
   },
   "outputs": [],
   "source": [
    "X_test = siab_test.iloc[:,4:164]\n",
    "y_true = siab_test.iloc[:, [3]]"
   ]
  },
  {
   "cell_type": "code",
   "execution_count": 21,
   "id": "e6c733c5",
   "metadata": {
    "execution": {
     "iopub.execute_input": "2025-07-28T10:53:36.791441Z",
     "iopub.status.busy": "2025-07-28T10:53:36.790713Z",
     "iopub.status.idle": "2025-07-28T10:53:36.939507Z",
     "shell.execute_reply": "2025-07-28T10:53:36.938544Z"
    },
    "papermill": {
     "duration": 0.172447,
     "end_time": "2025-07-28T10:53:36.941507",
     "exception": false,
     "start_time": "2025-07-28T10:53:36.769060",
     "status": "completed"
    },
    "tags": []
   },
   "outputs": [],
   "source": [
    "# Auxiliary data needed downstream in the pipeline\n",
    "\n",
    "org_train = X_train.copy()\n",
    "org_test = X_test.copy()\n",
    "org_calib = X_calib.copy()"
   ]
  },
  {
   "cell_type": "markdown",
   "id": "0a4a1b33",
   "metadata": {
    "papermill": {
     "duration": 0.020081,
     "end_time": "2025-07-28T10:53:36.983087",
     "exception": false,
     "start_time": "2025-07-28T10:53:36.963006",
     "status": "completed"
    },
    "tags": []
   },
   "source": [
    "# Preprocessing Data"
   ]
  },
  {
   "cell_type": "code",
   "execution_count": 22,
   "id": "ca879031",
   "metadata": {
    "execution": {
     "iopub.execute_input": "2025-07-28T10:53:37.026032Z",
     "iopub.status.busy": "2025-07-28T10:53:37.025613Z",
     "iopub.status.idle": "2025-07-28T10:53:37.032133Z",
     "shell.execute_reply": "2025-07-28T10:53:37.031050Z"
    },
    "papermill": {
     "duration": 0.030405,
     "end_time": "2025-07-28T10:53:37.034034",
     "exception": false,
     "start_time": "2025-07-28T10:53:37.003629",
     "status": "completed"
    },
    "tags": []
   },
   "outputs": [],
   "source": [
    "# EXCLUDE PROTECTED FEATURES\n",
    "# ----------------------\n",
    "# \"exclude_features\": \"none\", # \"nationality\", \"sex\", \"nationality-sex\"\n",
    "\n",
    "excluded_features = universe[\"exclude_features\"].split(\"-\") # split, e.g.: \"nationality-sex\" -> [\"nationality\", \"sex\"]\n",
    "excluded_features_dictionary = {\n",
    "    \"nationality\": [\"maxdeutsch1\", \"maxdeutsch.Missing.\"],\n",
    "    \"sex\": [\"frau1\"],\n",
    "    \"age\": [\"age\"],\n",
    "}\n"
   ]
  },
  {
   "cell_type": "code",
   "execution_count": 23,
   "id": "b745ac60",
   "metadata": {
    "execution": {
     "iopub.execute_input": "2025-07-28T10:53:37.080108Z",
     "iopub.status.busy": "2025-07-28T10:53:37.079574Z",
     "iopub.status.idle": "2025-07-28T10:53:37.085324Z",
     "shell.execute_reply": "2025-07-28T10:53:37.084496Z"
    },
    "papermill": {
     "duration": 0.029911,
     "end_time": "2025-07-28T10:53:37.087091",
     "exception": false,
     "start_time": "2025-07-28T10:53:37.057180",
     "status": "completed"
    },
    "tags": []
   },
   "outputs": [],
   "source": [
    "# Code nice names to column names\n",
    "\n",
    "excluded_features_columns = [\n",
    "    excluded_features_dictionary[f] for f in excluded_features if len(f) > 0 and f != \"none\"\n",
    "]"
   ]
  },
  {
   "cell_type": "code",
   "execution_count": 24,
   "id": "f84f73a2",
   "metadata": {
    "execution": {
     "iopub.execute_input": "2025-07-28T10:53:37.133547Z",
     "iopub.status.busy": "2025-07-28T10:53:37.133011Z",
     "iopub.status.idle": "2025-07-28T10:53:37.139601Z",
     "shell.execute_reply": "2025-07-28T10:53:37.138585Z"
    },
    "papermill": {
     "duration": 0.032179,
     "end_time": "2025-07-28T10:53:37.141448",
     "exception": false,
     "start_time": "2025-07-28T10:53:37.109269",
     "status": "completed"
    },
    "tags": []
   },
   "outputs": [],
   "source": [
    "from utils import flatten_once\n",
    "\n",
    "excluded_features_columns = flatten_once(excluded_features_columns)"
   ]
  },
  {
   "cell_type": "code",
   "execution_count": 25,
   "id": "884dea22",
   "metadata": {
    "execution": {
     "iopub.execute_input": "2025-07-28T10:53:37.185604Z",
     "iopub.status.busy": "2025-07-28T10:53:37.185090Z",
     "iopub.status.idle": "2025-07-28T10:53:37.240203Z",
     "shell.execute_reply": "2025-07-28T10:53:37.239077Z"
    },
    "papermill": {
     "duration": 0.079293,
     "end_time": "2025-07-28T10:53:37.242068",
     "exception": false,
     "start_time": "2025-07-28T10:53:37.162775",
     "status": "completed"
    },
    "tags": []
   },
   "outputs": [
    {
     "name": "stdout",
     "output_type": "stream",
     "text": [
      "Dropping features: ['maxdeutsch1', 'maxdeutsch.Missing.']\n"
     ]
    }
   ],
   "source": [
    "if len(excluded_features_columns) > 0:\n",
    "    print(f\"Dropping features: {excluded_features_columns}\")\n",
    "    X_train.drop(excluded_features_columns, axis=1, inplace=True)"
   ]
  },
  {
   "cell_type": "code",
   "execution_count": 26,
   "id": "95ab8b16",
   "metadata": {
    "execution": {
     "iopub.execute_input": "2025-07-28T10:53:37.293348Z",
     "iopub.status.busy": "2025-07-28T10:53:37.292594Z",
     "iopub.status.idle": "2025-07-28T10:53:37.351509Z",
     "shell.execute_reply": "2025-07-28T10:53:37.350366Z"
    },
    "papermill": {
     "duration": 0.085895,
     "end_time": "2025-07-28T10:53:37.353279",
     "exception": false,
     "start_time": "2025-07-28T10:53:37.267384",
     "status": "completed"
    },
    "tags": []
   },
   "outputs": [
    {
     "name": "stdout",
     "output_type": "stream",
     "text": [
      "Dropping features: ['maxdeutsch1', 'maxdeutsch.Missing.']\n"
     ]
    }
   ],
   "source": [
    "if len(excluded_features_columns) > 0:\n",
    "    print(f\"Dropping features: {excluded_features_columns}\")\n",
    "    X_test.drop(excluded_features_columns, axis=1, inplace=True)"
   ]
  },
  {
   "cell_type": "code",
   "execution_count": 27,
   "id": "1853aaf5-fb9f-46cb-a2b5-8ea4ae2237e4",
   "metadata": {
    "execution": {
     "iopub.execute_input": "2025-07-28T10:53:37.400081Z",
     "iopub.status.busy": "2025-07-28T10:53:37.399371Z",
     "iopub.status.idle": "2025-07-28T10:53:37.455817Z",
     "shell.execute_reply": "2025-07-28T10:53:37.454601Z"
    },
    "papermill": {
     "duration": 0.084116,
     "end_time": "2025-07-28T10:53:37.459872",
     "exception": false,
     "start_time": "2025-07-28T10:53:37.375756",
     "status": "completed"
    },
    "tags": []
   },
   "outputs": [
    {
     "name": "stdout",
     "output_type": "stream",
     "text": [
      "Dropping features: ['maxdeutsch1', 'maxdeutsch.Missing.']\n"
     ]
    }
   ],
   "source": [
    "if len(excluded_features_columns) > 0:\n",
    "    print(f\"Dropping features: {excluded_features_columns}\")\n",
    "    X_calib.drop(excluded_features_columns, axis=1, inplace=True)"
   ]
  },
  {
   "cell_type": "code",
   "execution_count": 28,
   "id": "6727d079-03e5-481e-9d38-292a90b7a0a8",
   "metadata": {
    "execution": {
     "iopub.execute_input": "2025-07-28T10:53:37.520594Z",
     "iopub.status.busy": "2025-07-28T10:53:37.511186Z",
     "iopub.status.idle": "2025-07-28T10:53:37.525532Z",
     "shell.execute_reply": "2025-07-28T10:53:37.524496Z"
    },
    "papermill": {
     "duration": 0.042848,
     "end_time": "2025-07-28T10:53:37.527250",
     "exception": false,
     "start_time": "2025-07-28T10:53:37.484402",
     "status": "completed"
    },
    "tags": []
   },
   "outputs": [],
   "source": [
    "# SPLIT & STRATIFY DATA\n",
    "# ----------------------"
   ]
  },
  {
   "cell_type": "code",
   "execution_count": 29,
   "id": "76c4dc6d",
   "metadata": {
    "execution": {
     "iopub.execute_input": "2025-07-28T10:53:37.574567Z",
     "iopub.status.busy": "2025-07-28T10:53:37.573871Z",
     "iopub.status.idle": "2025-07-28T10:53:37.580024Z",
     "shell.execute_reply": "2025-07-28T10:53:37.579026Z"
    },
    "papermill": {
     "duration": 0.030936,
     "end_time": "2025-07-28T10:53:37.581732",
     "exception": false,
     "start_time": "2025-07-28T10:53:37.550796",
     "status": "completed"
    },
    "tags": []
   },
   "outputs": [],
   "source": [
    "# EXCLUDE CERTAIN SUBGROUPS\n",
    "# ----------------------\n",
    "\n",
    "mode = universe.get(\"exclude_subgroups\", \"keep-all\") \n",
    "# Fetches the exclude_subgroups setting from the universe dict.\n",
    "# Defaults to \"keep-all\" if the key is missing."
   ]
  },
  {
   "cell_type": "code",
   "execution_count": 30,
   "id": "21994072",
   "metadata": {
    "execution": {
     "iopub.execute_input": "2025-07-28T10:53:37.630526Z",
     "iopub.status.busy": "2025-07-28T10:53:37.629873Z",
     "iopub.status.idle": "2025-07-28T10:53:37.637773Z",
     "shell.execute_reply": "2025-07-28T10:53:37.636596Z"
    },
    "papermill": {
     "duration": 0.034173,
     "end_time": "2025-07-28T10:53:37.639407",
     "exception": false,
     "start_time": "2025-07-28T10:53:37.605234",
     "status": "completed"
    },
    "tags": []
   },
   "outputs": [],
   "source": [
    "if mode == \"keep-all\":\n",
    "    keep_mask = pd.Series(True, index=org_train.index)\n",
    "\n",
    "# org_train contains the original feature columns from features_org (in Simson)\n",
    "# features_org contains unprocessed features, for me X_train at beginning ???\n",
    "# For keep-all, creates a boolean Series (keep_mask) of all True, so no rows are removed.\n",
    "\n",
    "elif mode == \"drop-non-german\":\n",
    "    keep_mask = org_train[\"maxdeutsch1\"] == 1 # ??? what about missing values?\n",
    "\n",
    "else:\n",
    "    raise ValueError(f\"Unsupported mode for exclude_subgroups: {mode}\")\n"
   ]
  },
  {
   "cell_type": "code",
   "execution_count": 31,
   "id": "71651440",
   "metadata": {
    "execution": {
     "iopub.execute_input": "2025-07-28T10:53:37.689141Z",
     "iopub.status.busy": "2025-07-28T10:53:37.688416Z",
     "iopub.status.idle": "2025-07-28T10:53:37.695593Z",
     "shell.execute_reply": "2025-07-28T10:53:37.694681Z"
    },
    "papermill": {
     "duration": 0.035901,
     "end_time": "2025-07-28T10:53:37.699095",
     "exception": false,
     "start_time": "2025-07-28T10:53:37.663194",
     "status": "completed"
    },
    "tags": []
   },
   "outputs": [
    {
     "name": "stdout",
     "output_type": "stream",
     "text": [
      "Dropping 12995 rows (14.91%) where mode='drop-non-german'\n"
     ]
    }
   ],
   "source": [
    "n_drop = (~keep_mask).sum() # Calculates how many rows are set to be dropped\n",
    "if n_drop > 0:\n",
    "    pct = n_drop / len(keep_mask) * 100\n",
    "    print(f\"Dropping {n_drop} rows ({pct:.2f}%) where mode='{mode}'\")"
   ]
  },
  {
   "cell_type": "code",
   "execution_count": 32,
   "id": "5fb8eee5",
   "metadata": {
    "execution": {
     "iopub.execute_input": "2025-07-28T10:53:37.747020Z",
     "iopub.status.busy": "2025-07-28T10:53:37.746311Z",
     "iopub.status.idle": "2025-07-28T10:53:37.803185Z",
     "shell.execute_reply": "2025-07-28T10:53:37.800933Z"
    },
    "papermill": {
     "duration": 0.082373,
     "end_time": "2025-07-28T10:53:37.805263",
     "exception": false,
     "start_time": "2025-07-28T10:53:37.722890",
     "status": "completed"
    },
    "tags": []
   },
   "outputs": [],
   "source": [
    "X_train = X_train[keep_mask]"
   ]
  },
  {
   "cell_type": "code",
   "execution_count": 33,
   "id": "b202bb3a",
   "metadata": {
    "execution": {
     "iopub.execute_input": "2025-07-28T10:53:37.865744Z",
     "iopub.status.busy": "2025-07-28T10:53:37.864663Z",
     "iopub.status.idle": "2025-07-28T10:53:37.888731Z",
     "shell.execute_reply": "2025-07-28T10:53:37.871760Z"
    },
    "papermill": {
     "duration": 0.052218,
     "end_time": "2025-07-28T10:53:37.891229",
     "exception": false,
     "start_time": "2025-07-28T10:53:37.839011",
     "status": "completed"
    },
    "tags": []
   },
   "outputs": [],
   "source": [
    "y_train = y_train[keep_mask]"
   ]
  },
  {
   "cell_type": "markdown",
   "id": "493e2ac3",
   "metadata": {
    "papermill": {
     "duration": 0.026416,
     "end_time": "2025-07-28T10:53:37.943260",
     "exception": false,
     "start_time": "2025-07-28T10:53:37.916844",
     "status": "completed"
    },
    "tags": []
   },
   "source": [
    "# Model Training"
   ]
  },
  {
   "cell_type": "code",
   "execution_count": 34,
   "id": "679e1268",
   "metadata": {
    "execution": {
     "iopub.execute_input": "2025-07-28T10:53:37.994648Z",
     "iopub.status.busy": "2025-07-28T10:53:37.994037Z",
     "iopub.status.idle": "2025-07-28T10:53:38.118296Z",
     "shell.execute_reply": "2025-07-28T10:53:38.117320Z"
    },
    "papermill": {
     "duration": 0.151029,
     "end_time": "2025-07-28T10:53:38.120339",
     "exception": false,
     "start_time": "2025-07-28T10:53:37.969310",
     "status": "completed"
    },
    "tags": []
   },
   "outputs": [],
   "source": [
    "from sklearn.linear_model import LogisticRegression\n",
    "from sklearn.ensemble import GradientBoostingClassifier, RandomForestClassifier\n",
    "\n",
    "if (universe[\"model\"] == \"logreg\"):\n",
    "    model = LogisticRegression() #penalty=\"none\") #, solver=\"newton-cg\", max_iter=1) # include random_state=19 ?\n",
    "elif (universe[\"model\"] == \"penalized_logreg\"):\n",
    "    model = LogisticRegression(penalty=\"l2\", C=1.0) #, solver=\"newton-cg\", max_iter=1)\n",
    "elif (universe[\"model\"] == \"rf\"):\n",
    "    model = RandomForestClassifier(n_estimators=100, n_jobs=-1)\n",
    "elif (universe[\"model\"] == \"gbm\"):\n",
    "    model = GradientBoostingClassifier()\n",
    "elif (universe[\"model\"] == \"elasticnet\"):\n",
    "    model = LogisticRegression(penalty = 'elasticnet', solver = 'saga', l1_ratio = 0.5, max_iter=5000) # which solver to use?\n",
    "else:\n",
    "    raise \"Unsupported universe.model\""
   ]
  },
  {
   "cell_type": "code",
   "execution_count": 35,
   "id": "0cc8f744",
   "metadata": {
    "execution": {
     "iopub.execute_input": "2025-07-28T10:53:38.183748Z",
     "iopub.status.busy": "2025-07-28T10:53:38.183049Z",
     "iopub.status.idle": "2025-07-28T10:53:38.191988Z",
     "shell.execute_reply": "2025-07-28T10:53:38.190941Z"
    },
    "papermill": {
     "duration": 0.035591,
     "end_time": "2025-07-28T10:53:38.193751",
     "exception": false,
     "start_time": "2025-07-28T10:53:38.158160",
     "status": "completed"
    },
    "tags": []
   },
   "outputs": [],
   "source": [
    "import numpy as np\n",
    "from sklearn.pipeline import Pipeline\n",
    "from sklearn.preprocessing import StandardScaler\n",
    "\n",
    "model = Pipeline([\n",
    "    #(\"continuous_processor\", continuous_processor),\n",
    "    #(\"categorical_preprocessor\", categorical_preprocessor),\n",
    "    (\"scale\", StandardScaler() if universe[\"scale\"] == \"scale\" else None), \n",
    "    (\"model\", model),\n",
    "])"
   ]
  },
  {
   "cell_type": "code",
   "execution_count": 36,
   "id": "9442c04d",
   "metadata": {
    "execution": {
     "iopub.execute_input": "2025-07-28T10:53:38.246380Z",
     "iopub.status.busy": "2025-07-28T10:53:38.245366Z",
     "iopub.status.idle": "2025-07-28T10:53:41.723545Z",
     "shell.execute_reply": "2025-07-28T10:53:41.722429Z"
    },
    "papermill": {
     "duration": 3.506244,
     "end_time": "2025-07-28T10:53:41.725474",
     "exception": false,
     "start_time": "2025-07-28T10:53:38.219230",
     "status": "completed"
    },
    "tags": []
   },
   "outputs": [
    {
     "name": "stderr",
     "output_type": "stream",
     "text": [
      "/dss/dsshome1/0C/ra93lal2/.local/share/virtualenvs/CMA_Fairness_v2-3j10GkSs/lib/python3.10/site-packages/sklearn/linear_model/_logistic.py:444: ConvergenceWarning: lbfgs failed to converge (status=1):\n",
      "STOP: TOTAL NO. of ITERATIONS REACHED LIMIT.\n",
      "\n",
      "Increase the number of iterations (max_iter) or scale the data as shown in:\n",
      "    https://scikit-learn.org/stable/modules/preprocessing.html\n",
      "Please also refer to the documentation for alternative solver options:\n",
      "    https://scikit-learn.org/stable/modules/linear_model.html#logistic-regression\n",
      "  n_iter_i = _check_optimize_result(\n"
     ]
    },
    {
     "data": {
      "text/html": [
       "<style>#sk-container-id-1 {color: black;background-color: white;}#sk-container-id-1 pre{padding: 0;}#sk-container-id-1 div.sk-toggleable {background-color: white;}#sk-container-id-1 label.sk-toggleable__label {cursor: pointer;display: block;width: 100%;margin-bottom: 0;padding: 0.3em;box-sizing: border-box;text-align: center;}#sk-container-id-1 label.sk-toggleable__label-arrow:before {content: \"▸\";float: left;margin-right: 0.25em;color: #696969;}#sk-container-id-1 label.sk-toggleable__label-arrow:hover:before {color: black;}#sk-container-id-1 div.sk-estimator:hover label.sk-toggleable__label-arrow:before {color: black;}#sk-container-id-1 div.sk-toggleable__content {max-height: 0;max-width: 0;overflow: hidden;text-align: left;background-color: #f0f8ff;}#sk-container-id-1 div.sk-toggleable__content pre {margin: 0.2em;color: black;border-radius: 0.25em;background-color: #f0f8ff;}#sk-container-id-1 input.sk-toggleable__control:checked~div.sk-toggleable__content {max-height: 200px;max-width: 100%;overflow: auto;}#sk-container-id-1 input.sk-toggleable__control:checked~label.sk-toggleable__label-arrow:before {content: \"▾\";}#sk-container-id-1 div.sk-estimator input.sk-toggleable__control:checked~label.sk-toggleable__label {background-color: #d4ebff;}#sk-container-id-1 div.sk-label input.sk-toggleable__control:checked~label.sk-toggleable__label {background-color: #d4ebff;}#sk-container-id-1 input.sk-hidden--visually {border: 0;clip: rect(1px 1px 1px 1px);clip: rect(1px, 1px, 1px, 1px);height: 1px;margin: -1px;overflow: hidden;padding: 0;position: absolute;width: 1px;}#sk-container-id-1 div.sk-estimator {font-family: monospace;background-color: #f0f8ff;border: 1px dotted black;border-radius: 0.25em;box-sizing: border-box;margin-bottom: 0.5em;}#sk-container-id-1 div.sk-estimator:hover {background-color: #d4ebff;}#sk-container-id-1 div.sk-parallel-item::after {content: \"\";width: 100%;border-bottom: 1px solid gray;flex-grow: 1;}#sk-container-id-1 div.sk-label:hover label.sk-toggleable__label {background-color: #d4ebff;}#sk-container-id-1 div.sk-serial::before {content: \"\";position: absolute;border-left: 1px solid gray;box-sizing: border-box;top: 0;bottom: 0;left: 50%;z-index: 0;}#sk-container-id-1 div.sk-serial {display: flex;flex-direction: column;align-items: center;background-color: white;padding-right: 0.2em;padding-left: 0.2em;position: relative;}#sk-container-id-1 div.sk-item {position: relative;z-index: 1;}#sk-container-id-1 div.sk-parallel {display: flex;align-items: stretch;justify-content: center;background-color: white;position: relative;}#sk-container-id-1 div.sk-item::before, #sk-container-id-1 div.sk-parallel-item::before {content: \"\";position: absolute;border-left: 1px solid gray;box-sizing: border-box;top: 0;bottom: 0;left: 50%;z-index: -1;}#sk-container-id-1 div.sk-parallel-item {display: flex;flex-direction: column;z-index: 1;position: relative;background-color: white;}#sk-container-id-1 div.sk-parallel-item:first-child::after {align-self: flex-end;width: 50%;}#sk-container-id-1 div.sk-parallel-item:last-child::after {align-self: flex-start;width: 50%;}#sk-container-id-1 div.sk-parallel-item:only-child::after {width: 0;}#sk-container-id-1 div.sk-dashed-wrapped {border: 1px dashed gray;margin: 0 0.4em 0.5em 0.4em;box-sizing: border-box;padding-bottom: 0.4em;background-color: white;}#sk-container-id-1 div.sk-label label {font-family: monospace;font-weight: bold;display: inline-block;line-height: 1.2em;}#sk-container-id-1 div.sk-label-container {text-align: center;}#sk-container-id-1 div.sk-container {/* jupyter's `normalize.less` sets `[hidden] { display: none; }` but bootstrap.min.css set `[hidden] { display: none !important; }` so we also need the `!important` here to be able to override the default hidden behavior on the sphinx rendered scikit-learn.org. See: https://github.com/scikit-learn/scikit-learn/issues/21755 */display: inline-block !important;position: relative;}#sk-container-id-1 div.sk-text-repr-fallback {display: none;}</style><div id=\"sk-container-id-1\" class=\"sk-top-container\"><div class=\"sk-text-repr-fallback\"><pre>Pipeline(steps=[(&#x27;scale&#x27;, StandardScaler()), (&#x27;model&#x27;, LogisticRegression())])</pre><b>In a Jupyter environment, please rerun this cell to show the HTML representation or trust the notebook. <br />On GitHub, the HTML representation is unable to render, please try loading this page with nbviewer.org.</b></div><div class=\"sk-container\" hidden><div class=\"sk-item sk-dashed-wrapped\"><div class=\"sk-label-container\"><div class=\"sk-label sk-toggleable\"><input class=\"sk-toggleable__control sk-hidden--visually\" id=\"sk-estimator-id-1\" type=\"checkbox\" ><label for=\"sk-estimator-id-1\" class=\"sk-toggleable__label sk-toggleable__label-arrow\">Pipeline</label><div class=\"sk-toggleable__content\"><pre>Pipeline(steps=[(&#x27;scale&#x27;, StandardScaler()), (&#x27;model&#x27;, LogisticRegression())])</pre></div></div></div><div class=\"sk-serial\"><div class=\"sk-item\"><div class=\"sk-estimator sk-toggleable\"><input class=\"sk-toggleable__control sk-hidden--visually\" id=\"sk-estimator-id-2\" type=\"checkbox\" ><label for=\"sk-estimator-id-2\" class=\"sk-toggleable__label sk-toggleable__label-arrow\">StandardScaler</label><div class=\"sk-toggleable__content\"><pre>StandardScaler()</pre></div></div></div><div class=\"sk-item\"><div class=\"sk-estimator sk-toggleable\"><input class=\"sk-toggleable__control sk-hidden--visually\" id=\"sk-estimator-id-3\" type=\"checkbox\" ><label for=\"sk-estimator-id-3\" class=\"sk-toggleable__label sk-toggleable__label-arrow\">LogisticRegression</label><div class=\"sk-toggleable__content\"><pre>LogisticRegression()</pre></div></div></div></div></div></div></div>"
      ],
      "text/plain": [
       "Pipeline(steps=[('scale', StandardScaler()), ('model', LogisticRegression())])"
      ]
     },
     "execution_count": 36,
     "metadata": {},
     "output_type": "execute_result"
    }
   ],
   "source": [
    "model.fit(X_train, y_train.values.ravel())"
   ]
  },
  {
   "cell_type": "code",
   "execution_count": 37,
   "id": "af59f8c0",
   "metadata": {
    "execution": {
     "iopub.execute_input": "2025-07-28T10:53:41.776069Z",
     "iopub.status.busy": "2025-07-28T10:53:41.775114Z",
     "iopub.status.idle": "2025-07-28T10:53:41.781104Z",
     "shell.execute_reply": "2025-07-28T10:53:41.779900Z"
    },
    "papermill": {
     "duration": 0.031863,
     "end_time": "2025-07-28T10:53:41.783052",
     "exception": false,
     "start_time": "2025-07-28T10:53:41.751189",
     "status": "completed"
    },
    "tags": []
   },
   "outputs": [],
   "source": [
    "from fairness_multiverse.universe import predict_w_threshold"
   ]
  },
  {
   "cell_type": "code",
   "execution_count": 38,
   "id": "a7cf2e16",
   "metadata": {
    "execution": {
     "iopub.execute_input": "2025-07-28T10:53:41.832196Z",
     "iopub.status.busy": "2025-07-28T10:53:41.831111Z",
     "iopub.status.idle": "2025-07-28T10:53:42.025364Z",
     "shell.execute_reply": "2025-07-28T10:53:42.024454Z"
    },
    "papermill": {
     "duration": 0.219678,
     "end_time": "2025-07-28T10:53:42.027001",
     "exception": false,
     "start_time": "2025-07-28T10:53:41.807323",
     "status": "completed"
    },
    "tags": []
   },
   "outputs": [
    {
     "data": {
      "text/plain": [
       "0.8667818526362724"
      ]
     },
     "execution_count": 38,
     "metadata": {},
     "output_type": "execute_result"
    }
   ],
   "source": [
    "probs_test = model.predict_proba(X_test)\n",
    "\n",
    "'''\n",
    "Below code returns a boolean array (or binary 0/1 array depending on how it’s used) where each element \n",
    "is True if the probability of class 1 is greater than or equal to the threshold, and False otherwise.\n",
    "'''\n",
    "y_pred_default = predict_w_threshold(probs_test, 0.5)\n",
    "\n",
    "from sklearn.metrics import accuracy_score\n",
    "\n",
    "# Naive prediction\n",
    "accuracy_score(y_true = y_true, y_pred = y_pred_default)"
   ]
  },
  {
   "cell_type": "code",
   "execution_count": 39,
   "id": "081964c3",
   "metadata": {
    "execution": {
     "iopub.execute_input": "2025-07-28T10:53:42.077354Z",
     "iopub.status.busy": "2025-07-28T10:53:42.076492Z",
     "iopub.status.idle": "2025-07-28T10:53:42.272419Z",
     "shell.execute_reply": "2025-07-28T10:53:42.271319Z"
    },
    "papermill": {
     "duration": 0.222958,
     "end_time": "2025-07-28T10:53:42.274036",
     "exception": false,
     "start_time": "2025-07-28T10:53:42.051078",
     "status": "completed"
    },
    "tags": []
   },
   "outputs": [
    {
     "data": {
      "text/plain": [
       "array([0, 0, 0, ..., 0, 0, 0])"
      ]
     },
     "execution_count": 39,
     "metadata": {},
     "output_type": "execute_result"
    }
   ],
   "source": [
    "model.predict(X_test)"
   ]
  },
  {
   "cell_type": "markdown",
   "id": "56c9705b",
   "metadata": {
    "papermill": {
     "duration": 0.023946,
     "end_time": "2025-07-28T10:53:42.320824",
     "exception": false,
     "start_time": "2025-07-28T10:53:42.296878",
     "status": "completed"
    },
    "tags": []
   },
   "source": [
    "# Conformal Prediction"
   ]
  },
  {
   "cell_type": "code",
   "execution_count": 40,
   "id": "160ec6ff",
   "metadata": {
    "execution": {
     "iopub.execute_input": "2025-07-28T10:53:42.370192Z",
     "iopub.status.busy": "2025-07-28T10:53:42.369451Z",
     "iopub.status.idle": "2025-07-28T10:53:42.375211Z",
     "shell.execute_reply": "2025-07-28T10:53:42.374152Z"
    },
    "papermill": {
     "duration": 0.031568,
     "end_time": "2025-07-28T10:53:42.376906",
     "exception": false,
     "start_time": "2025-07-28T10:53:42.345338",
     "status": "completed"
    },
    "tags": []
   },
   "outputs": [],
   "source": [
    "# Miscoverage level for conformal prediction (10% allowed error rate => 90% target coverage)\n",
    "alpha = 0.1"
   ]
  },
  {
   "cell_type": "code",
   "execution_count": 41,
   "id": "eadf4555-3dd3-440e-8e35-f82a4ad9f855",
   "metadata": {
    "execution": {
     "iopub.execute_input": "2025-07-28T10:53:42.426250Z",
     "iopub.status.busy": "2025-07-28T10:53:42.425741Z",
     "iopub.status.idle": "2025-07-28T10:53:42.616289Z",
     "shell.execute_reply": "2025-07-28T10:53:42.615277Z"
    },
    "papermill": {
     "duration": 0.217482,
     "end_time": "2025-07-28T10:53:42.618482",
     "exception": false,
     "start_time": "2025-07-28T10:53:42.401000",
     "status": "completed"
    },
    "tags": []
   },
   "outputs": [],
   "source": [
    "probs_calib = model.predict_proba(X_calib)"
   ]
  },
  {
   "cell_type": "code",
   "execution_count": 42,
   "id": "2ed93547-6d5d-4983-9b36-1ecb300da49a",
   "metadata": {
    "execution": {
     "iopub.execute_input": "2025-07-28T10:53:42.668534Z",
     "iopub.status.busy": "2025-07-28T10:53:42.667874Z",
     "iopub.status.idle": "2025-07-28T10:53:42.673768Z",
     "shell.execute_reply": "2025-07-28T10:53:42.672721Z"
    },
    "papermill": {
     "duration": 0.032213,
     "end_time": "2025-07-28T10:53:42.675396",
     "exception": false,
     "start_time": "2025-07-28T10:53:42.643183",
     "status": "completed"
    },
    "tags": []
   },
   "outputs": [],
   "source": [
    "y_calib = y_calib.values.ravel().astype(int)"
   ]
  },
  {
   "cell_type": "code",
   "execution_count": 43,
   "id": "65d1320d-f588-4b38-9072-62af1ae97f7d",
   "metadata": {
    "execution": {
     "iopub.execute_input": "2025-07-28T10:53:42.707471Z",
     "iopub.status.busy": "2025-07-28T10:53:42.707001Z",
     "iopub.status.idle": "2025-07-28T10:53:42.714408Z",
     "shell.execute_reply": "2025-07-28T10:53:42.713391Z"
    },
    "papermill": {
     "duration": 0.021796,
     "end_time": "2025-07-28T10:53:42.716262",
     "exception": false,
     "start_time": "2025-07-28T10:53:42.694466",
     "status": "completed"
    },
    "tags": []
   },
   "outputs": [],
   "source": [
    "from fairness_multiverse.conformal import compute_nc_scores\n",
    "\n",
    "# Compute nonconformity scores on calibration set (1 - probability of true class)\n",
    "nc_scores = compute_nc_scores(probs_calib, y_calib)"
   ]
  },
  {
   "cell_type": "code",
   "execution_count": 44,
   "id": "df3b8ca3-53b7-43d5-9667-7c85da7aeda2",
   "metadata": {
    "execution": {
     "iopub.execute_input": "2025-07-28T10:53:42.765328Z",
     "iopub.status.busy": "2025-07-28T10:53:42.764643Z",
     "iopub.status.idle": "2025-07-28T10:53:42.772097Z",
     "shell.execute_reply": "2025-07-28T10:53:42.771162Z"
    },
    "papermill": {
     "duration": 0.032486,
     "end_time": "2025-07-28T10:53:42.774082",
     "exception": false,
     "start_time": "2025-07-28T10:53:42.741596",
     "status": "completed"
    },
    "tags": []
   },
   "outputs": [],
   "source": [
    "from fairness_multiverse.conformal import find_threshold\n",
    "\n",
    "# Find conformal threshold q_hat for the given alpha (split conformal method)\n",
    "q_hat = find_threshold(nc_scores, alpha)"
   ]
  },
  {
   "cell_type": "code",
   "execution_count": 45,
   "id": "4d29e6c1-0ef6-4aa4-b8fe-4fe79b0d033a",
   "metadata": {
    "execution": {
     "iopub.execute_input": "2025-07-28T10:53:42.823984Z",
     "iopub.status.busy": "2025-07-28T10:53:42.823105Z",
     "iopub.status.idle": "2025-07-28T10:53:42.831336Z",
     "shell.execute_reply": "2025-07-28T10:53:42.830280Z"
    },
    "papermill": {
     "duration": 0.035241,
     "end_time": "2025-07-28T10:53:42.832991",
     "exception": false,
     "start_time": "2025-07-28T10:53:42.797750",
     "status": "completed"
    },
    "tags": []
   },
   "outputs": [
    {
     "data": {
      "text/plain": [
       "0.6747386205994375"
      ]
     },
     "execution_count": 45,
     "metadata": {},
     "output_type": "execute_result"
    }
   ],
   "source": [
    "q_hat"
   ]
  },
  {
   "cell_type": "code",
   "execution_count": 46,
   "id": "92460794-cdac-4be2-ba28-f28c0515a6fb",
   "metadata": {
    "execution": {
     "iopub.execute_input": "2025-07-28T10:53:42.882336Z",
     "iopub.status.busy": "2025-07-28T10:53:42.881680Z",
     "iopub.status.idle": "2025-07-28T10:53:43.695096Z",
     "shell.execute_reply": "2025-07-28T10:53:43.694154Z"
    },
    "papermill": {
     "duration": 0.84025,
     "end_time": "2025-07-28T10:53:43.696849",
     "exception": false,
     "start_time": "2025-07-28T10:53:42.856599",
     "status": "completed"
    },
    "tags": []
   },
   "outputs": [],
   "source": [
    "from fairness_multiverse.conformal import predict_conformal_sets\n",
    "\n",
    "# Generate prediction sets for each test example\n",
    "pred_sets = predict_conformal_sets(model, X_test, q_hat)"
   ]
  },
  {
   "cell_type": "code",
   "execution_count": 47,
   "id": "d90c9a65-e6db-4f5d-80cd-e68fb7e46829",
   "metadata": {
    "execution": {
     "iopub.execute_input": "2025-07-28T10:53:43.787468Z",
     "iopub.status.busy": "2025-07-28T10:53:43.787058Z",
     "iopub.status.idle": "2025-07-28T10:53:43.791894Z",
     "shell.execute_reply": "2025-07-28T10:53:43.791114Z"
    },
    "papermill": {
     "duration": 0.029768,
     "end_time": "2025-07-28T10:53:43.793079",
     "exception": false,
     "start_time": "2025-07-28T10:53:43.763311",
     "status": "completed"
    },
    "tags": []
   },
   "outputs": [],
   "source": [
    "y_true = y_true.squeeze()"
   ]
  },
  {
   "cell_type": "code",
   "execution_count": 48,
   "id": "3a58a54a-1e68-46b9-927a-df01f18aebc8",
   "metadata": {
    "execution": {
     "iopub.execute_input": "2025-07-28T10:53:43.819712Z",
     "iopub.status.busy": "2025-07-28T10:53:43.819166Z",
     "iopub.status.idle": "2025-07-28T10:53:44.377743Z",
     "shell.execute_reply": "2025-07-28T10:53:44.376933Z"
    },
    "papermill": {
     "duration": 0.57337,
     "end_time": "2025-07-28T10:53:44.379257",
     "exception": false,
     "start_time": "2025-07-28T10:53:43.805887",
     "status": "completed"
    },
    "tags": []
   },
   "outputs": [],
   "source": [
    "from fairness_multiverse.conformal import evaluate_sets\n",
    "\n",
    "# Evaluate coverage and average set size on test data\n",
    "metrics = evaluate_sets(pred_sets, y_true)"
   ]
  },
  {
   "cell_type": "markdown",
   "id": "2b569c12-9aaa-4c88-98c9-bbcd0cf3ebb8",
   "metadata": {
    "papermill": {
     "duration": 0.012827,
     "end_time": "2025-07-28T10:53:44.405627",
     "exception": false,
     "start_time": "2025-07-28T10:53:44.392800",
     "status": "completed"
    },
    "tags": []
   },
   "source": [
    "# CP Metrics"
   ]
  },
  {
   "cell_type": "code",
   "execution_count": 49,
   "id": "5ce0a5cb-201f-45a0-ade5-94c7f0bd6095",
   "metadata": {
    "execution": {
     "iopub.execute_input": "2025-07-28T10:53:44.434706Z",
     "iopub.status.busy": "2025-07-28T10:53:44.434139Z",
     "iopub.status.idle": "2025-07-28T10:53:44.440712Z",
     "shell.execute_reply": "2025-07-28T10:53:44.439902Z"
    },
    "papermill": {
     "duration": 0.023479,
     "end_time": "2025-07-28T10:53:44.442050",
     "exception": false,
     "start_time": "2025-07-28T10:53:44.418571",
     "status": "completed"
    },
    "tags": []
   },
   "outputs": [
    {
     "data": {
      "text/plain": [
       "{'coverage': 0.9125961431278564, 'avg_size': 1.1212127967896555}"
      ]
     },
     "execution_count": 49,
     "metadata": {},
     "output_type": "execute_result"
    }
   ],
   "source": [
    "metrics"
   ]
  },
  {
   "cell_type": "code",
   "execution_count": 50,
   "id": "9b9a838d-31c9-430b-ae14-12baee460d17",
   "metadata": {
    "execution": {
     "iopub.execute_input": "2025-07-28T10:53:44.470376Z",
     "iopub.status.busy": "2025-07-28T10:53:44.469675Z",
     "iopub.status.idle": "2025-07-28T10:53:44.475145Z",
     "shell.execute_reply": "2025-07-28T10:53:44.474447Z"
    },
    "papermill": {
     "duration": 0.021129,
     "end_time": "2025-07-28T10:53:44.476617",
     "exception": false,
     "start_time": "2025-07-28T10:53:44.455488",
     "status": "completed"
    },
    "tags": []
   },
   "outputs": [],
   "source": [
    "example_universe = universe.copy()\n",
    "universe_training_size = example_universe.get(\"training_size\")\n",
    "universe_scale = example_universe.get(\"scale\")\n",
    "universe_model = example_universe.get(\"model\")\n",
    "universe_exclude_features = example_universe.get(\"exclude_features\")\n",
    "universe_exclude_subgroups = example_universe.get(\"exclude_subgroups\")"
   ]
  },
  {
   "cell_type": "code",
   "execution_count": 51,
   "id": "f4b6a8ac-9dc0-4245-8a91-5b3b5999c4f9",
   "metadata": {
    "execution": {
     "iopub.execute_input": "2025-07-28T10:53:44.504794Z",
     "iopub.status.busy": "2025-07-28T10:53:44.504203Z",
     "iopub.status.idle": "2025-07-28T10:53:44.509711Z",
     "shell.execute_reply": "2025-07-28T10:53:44.509006Z"
    },
    "papermill": {
     "duration": 0.020776,
     "end_time": "2025-07-28T10:53:44.511055",
     "exception": false,
     "start_time": "2025-07-28T10:53:44.490279",
     "status": "completed"
    },
    "tags": []
   },
   "outputs": [],
   "source": [
    "cp_metrics_dict = {\n",
    "    \"universe_id\": [universe_id],\n",
    "    \"universe_training_size\": [universe_training_size],\n",
    "    \"universe_scale\": [universe_scale],\n",
    "    \"universe_model\": [universe_model],\n",
    "    \"universe_exclude_features\": [universe_exclude_features],\n",
    "    \"universe_exclude_subgroups\": [universe_exclude_subgroups],\n",
    "    \"q_hat\": [q_hat],\n",
    "    \"coverage\": [metrics[\"coverage\"]],\n",
    "    \"avg_size\": [metrics[\"avg_size\"]],\n",
    "}"
   ]
  },
  {
   "cell_type": "code",
   "execution_count": 52,
   "id": "908acbb1-0371-4915-85ca-3fa520d2efe2",
   "metadata": {
    "execution": {
     "iopub.execute_input": "2025-07-28T10:53:44.538877Z",
     "iopub.status.busy": "2025-07-28T10:53:44.538349Z",
     "iopub.status.idle": "2025-07-28T10:53:44.545003Z",
     "shell.execute_reply": "2025-07-28T10:53:44.544300Z"
    },
    "papermill": {
     "duration": 0.021921,
     "end_time": "2025-07-28T10:53:44.546466",
     "exception": false,
     "start_time": "2025-07-28T10:53:44.524545",
     "status": "completed"
    },
    "tags": []
   },
   "outputs": [
    {
     "data": {
      "text/plain": [
       "{'universe_id': ['3ae6359458b7da93482500b8c388c1c7'],\n",
       " 'universe_training_size': ['2014'],\n",
       " 'universe_scale': ['scale'],\n",
       " 'universe_model': ['logreg'],\n",
       " 'universe_exclude_features': ['nationality'],\n",
       " 'universe_exclude_subgroups': ['drop-non-german'],\n",
       " 'q_hat': [0.6747386205994375],\n",
       " 'coverage': [0.9125961431278564],\n",
       " 'avg_size': [1.1212127967896555]}"
      ]
     },
     "execution_count": 52,
     "metadata": {},
     "output_type": "execute_result"
    }
   ],
   "source": [
    "cp_metrics_dict"
   ]
  },
  {
   "cell_type": "code",
   "execution_count": 53,
   "id": "33007efc-14e9-4ec6-97ac-56a455c82265",
   "metadata": {
    "execution": {
     "iopub.execute_input": "2025-07-28T10:53:44.574720Z",
     "iopub.status.busy": "2025-07-28T10:53:44.574220Z",
     "iopub.status.idle": "2025-07-28T10:53:44.580172Z",
     "shell.execute_reply": "2025-07-28T10:53:44.579430Z"
    },
    "papermill": {
     "duration": 0.021246,
     "end_time": "2025-07-28T10:53:44.581515",
     "exception": false,
     "start_time": "2025-07-28T10:53:44.560269",
     "status": "completed"
    },
    "tags": []
   },
   "outputs": [],
   "source": [
    "cp_metrics_df = pd.DataFrame(cp_metrics_dict)"
   ]
  },
  {
   "cell_type": "code",
   "execution_count": 54,
   "id": "db12611b-57b2-4910-b9d0-355adfd6e7bf",
   "metadata": {
    "execution": {
     "iopub.execute_input": "2025-07-28T10:53:44.609633Z",
     "iopub.status.busy": "2025-07-28T10:53:44.609097Z",
     "iopub.status.idle": "2025-07-28T10:53:44.623522Z",
     "shell.execute_reply": "2025-07-28T10:53:44.622721Z"
    },
    "papermill": {
     "duration": 0.029749,
     "end_time": "2025-07-28T10:53:44.624893",
     "exception": false,
     "start_time": "2025-07-28T10:53:44.595144",
     "status": "completed"
    },
    "tags": []
   },
   "outputs": [
    {
     "data": {
      "text/html": [
       "<div>\n",
       "<style scoped>\n",
       "    .dataframe tbody tr th:only-of-type {\n",
       "        vertical-align: middle;\n",
       "    }\n",
       "\n",
       "    .dataframe tbody tr th {\n",
       "        vertical-align: top;\n",
       "    }\n",
       "\n",
       "    .dataframe thead th {\n",
       "        text-align: right;\n",
       "    }\n",
       "</style>\n",
       "<table border=\"1\" class=\"dataframe\">\n",
       "  <thead>\n",
       "    <tr style=\"text-align: right;\">\n",
       "      <th></th>\n",
       "      <th>universe_id</th>\n",
       "      <th>universe_training_size</th>\n",
       "      <th>universe_scale</th>\n",
       "      <th>universe_model</th>\n",
       "      <th>universe_exclude_features</th>\n",
       "      <th>universe_exclude_subgroups</th>\n",
       "      <th>q_hat</th>\n",
       "      <th>coverage</th>\n",
       "      <th>avg_size</th>\n",
       "    </tr>\n",
       "  </thead>\n",
       "  <tbody>\n",
       "    <tr>\n",
       "      <th>0</th>\n",
       "      <td>3ae6359458b7da93482500b8c388c1c7</td>\n",
       "      <td>2014</td>\n",
       "      <td>scale</td>\n",
       "      <td>logreg</td>\n",
       "      <td>nationality</td>\n",
       "      <td>drop-non-german</td>\n",
       "      <td>0.674739</td>\n",
       "      <td>0.912596</td>\n",
       "      <td>1.121213</td>\n",
       "    </tr>\n",
       "  </tbody>\n",
       "</table>\n",
       "</div>"
      ],
      "text/plain": [
       "                        universe_id universe_training_size universe_scale  \\\n",
       "0  3ae6359458b7da93482500b8c388c1c7                   2014          scale   \n",
       "\n",
       "  universe_model universe_exclude_features universe_exclude_subgroups  \\\n",
       "0         logreg               nationality            drop-non-german   \n",
       "\n",
       "      q_hat  coverage  avg_size  \n",
       "0  0.674739  0.912596  1.121213  "
      ]
     },
     "execution_count": 54,
     "metadata": {},
     "output_type": "execute_result"
    }
   ],
   "source": [
    "cp_metrics_df"
   ]
  },
  {
   "cell_type": "code",
   "execution_count": 55,
   "id": "b7fbde55-a0a1-47e4-9af6-fe4a17fa8c61",
   "metadata": {
    "execution": {
     "iopub.execute_input": "2025-07-28T10:53:44.653177Z",
     "iopub.status.busy": "2025-07-28T10:53:44.652658Z",
     "iopub.status.idle": "2025-07-28T10:53:44.657587Z",
     "shell.execute_reply": "2025-07-28T10:53:44.656822Z"
    },
    "papermill": {
     "duration": 0.020472,
     "end_time": "2025-07-28T10:53:44.658938",
     "exception": false,
     "start_time": "2025-07-28T10:53:44.638466",
     "status": "completed"
    },
    "tags": []
   },
   "outputs": [],
   "source": [
    "# Conditional Coverage & looking at subgroups"
   ]
  },
  {
   "cell_type": "code",
   "execution_count": 56,
   "id": "027ae886-68dd-4141-96c7-805a5450e1ef",
   "metadata": {
    "execution": {
     "iopub.execute_input": "2025-07-28T10:53:44.688013Z",
     "iopub.status.busy": "2025-07-28T10:53:44.687470Z",
     "iopub.status.idle": "2025-07-28T10:53:44.918612Z",
     "shell.execute_reply": "2025-07-28T10:53:44.917604Z"
    },
    "papermill": {
     "duration": 0.247492,
     "end_time": "2025-07-28T10:53:44.920494",
     "exception": false,
     "start_time": "2025-07-28T10:53:44.673002",
     "status": "completed"
    },
    "tags": []
   },
   "outputs": [],
   "source": [
    "from fairness_multiverse.conformal import build_cp_groups\n",
    "\n",
    "cp_groups_df = build_cp_groups(pred_sets, y_true, X_test.index, org_test)\n",
    "#needs universe_id and setting"
   ]
  },
  {
   "cell_type": "code",
   "execution_count": 57,
   "id": "01d5802c-663a-4d1f-9d69-e036faaffbf7",
   "metadata": {
    "execution": {
     "iopub.execute_input": "2025-07-28T10:53:44.973042Z",
     "iopub.status.busy": "2025-07-28T10:53:44.972559Z",
     "iopub.status.idle": "2025-07-28T10:53:44.977591Z",
     "shell.execute_reply": "2025-07-28T10:53:44.976575Z"
    },
    "papermill": {
     "duration": 0.033586,
     "end_time": "2025-07-28T10:53:44.979306",
     "exception": false,
     "start_time": "2025-07-28T10:53:44.945720",
     "status": "completed"
    },
    "tags": []
   },
   "outputs": [],
   "source": [
    "#delete\n",
    "#cp_groups_df"
   ]
  },
  {
   "cell_type": "code",
   "execution_count": 58,
   "id": "fa424af1-d1eb-443d-b717-2d279ada8408",
   "metadata": {
    "execution": {
     "iopub.execute_input": "2025-07-28T10:53:45.033770Z",
     "iopub.status.busy": "2025-07-28T10:53:45.033280Z",
     "iopub.status.idle": "2025-07-28T10:53:45.038728Z",
     "shell.execute_reply": "2025-07-28T10:53:45.037610Z"
    },
    "papermill": {
     "duration": 0.034754,
     "end_time": "2025-07-28T10:53:45.040448",
     "exception": false,
     "start_time": "2025-07-28T10:53:45.005694",
     "status": "completed"
    },
    "tags": []
   },
   "outputs": [],
   "source": [
    "#delete\n",
    "#percentage = (cp_groups_df['nongerman_female'] == 1).mean() * 100\n",
    "#print(percentage)\n"
   ]
  },
  {
   "cell_type": "code",
   "execution_count": 59,
   "id": "6cbdab96-b2b2-45af-ad54-d0516db2e28d",
   "metadata": {
    "execution": {
     "iopub.execute_input": "2025-07-28T10:53:45.091236Z",
     "iopub.status.busy": "2025-07-28T10:53:45.090693Z",
     "iopub.status.idle": "2025-07-28T10:53:46.807554Z",
     "shell.execute_reply": "2025-07-28T10:53:46.806754Z"
    },
    "papermill": {
     "duration": 1.743985,
     "end_time": "2025-07-28T10:53:46.809104",
     "exception": false,
     "start_time": "2025-07-28T10:53:45.065119",
     "status": "completed"
    },
    "tags": []
   },
   "outputs": [],
   "source": [
    "# Define covered = 1 if true_label is in the predicted set\n",
    "cp_groups_df['covered'] = cp_groups_df.apply(\n",
    "    lambda r: int(r['true_label'] in r['pred_set']),\n",
    "    axis=1\n",
    ")"
   ]
  },
  {
   "cell_type": "code",
   "execution_count": 60,
   "id": "338ff529-1a6b-4b87-a931-8e4788d52aad",
   "metadata": {
    "execution": {
     "iopub.execute_input": "2025-07-28T10:53:46.842447Z",
     "iopub.status.busy": "2025-07-28T10:53:46.841945Z",
     "iopub.status.idle": "2025-07-28T10:53:46.846636Z",
     "shell.execute_reply": "2025-07-28T10:53:46.845728Z"
    },
    "papermill": {
     "duration": 0.021671,
     "end_time": "2025-07-28T10:53:46.848308",
     "exception": false,
     "start_time": "2025-07-28T10:53:46.826637",
     "status": "completed"
    },
    "tags": []
   },
   "outputs": [],
   "source": [
    "#cp_groups_df"
   ]
  },
  {
   "cell_type": "code",
   "execution_count": 61,
   "id": "90032e27-66df-4540-9169-4e89cfbaa758",
   "metadata": {
    "execution": {
     "iopub.execute_input": "2025-07-28T10:53:46.905419Z",
     "iopub.status.busy": "2025-07-28T10:53:46.904679Z",
     "iopub.status.idle": "2025-07-28T10:53:46.918544Z",
     "shell.execute_reply": "2025-07-28T10:53:46.917504Z"
    },
    "papermill": {
     "duration": 0.045326,
     "end_time": "2025-07-28T10:53:46.921011",
     "exception": false,
     "start_time": "2025-07-28T10:53:46.875685",
     "status": "completed"
    },
    "tags": []
   },
   "outputs": [],
   "source": [
    "subgroups = ['frau1','nongerman','nongerman_male','nongerman_female']\n",
    "\n",
    "# Conditional coverage for subgroup==1\n",
    "cond_coverage = {\n",
    "    g: cp_groups_df.loc[cp_groups_df[g]==1, 'covered'].mean()\n",
    "    for g in subgroups\n",
    "}"
   ]
  },
  {
   "cell_type": "code",
   "execution_count": 62,
   "id": "1e348fb1-b9c3-45bc-ba23-f016827a7e0d",
   "metadata": {
    "execution": {
     "iopub.execute_input": "2025-07-28T10:53:46.979151Z",
     "iopub.status.busy": "2025-07-28T10:53:46.978308Z",
     "iopub.status.idle": "2025-07-28T10:53:46.986470Z",
     "shell.execute_reply": "2025-07-28T10:53:46.985486Z"
    },
    "papermill": {
     "duration": 0.039644,
     "end_time": "2025-07-28T10:53:46.988298",
     "exception": false,
     "start_time": "2025-07-28T10:53:46.948654",
     "status": "completed"
    },
    "tags": []
   },
   "outputs": [
    {
     "data": {
      "text/plain": [
       "{'frau1': 0.9109044345599138,\n",
       " 'nongerman': 0.9097849884915511,\n",
       " 'nongerman_male': 0.9255156264072774,\n",
       " 'nongerman_female': 0.8837555886736215}"
      ]
     },
     "execution_count": 62,
     "metadata": {},
     "output_type": "execute_result"
    }
   ],
   "source": [
    "cond_coverage"
   ]
  },
  {
   "cell_type": "code",
   "execution_count": 63,
   "id": "f5093324-c3dd-4d63-bc4c-8d945e5c8bbb",
   "metadata": {
    "execution": {
     "iopub.execute_input": "2025-07-28T10:53:47.044528Z",
     "iopub.status.busy": "2025-07-28T10:53:47.043943Z",
     "iopub.status.idle": "2025-07-28T10:53:47.052099Z",
     "shell.execute_reply": "2025-07-28T10:53:47.051060Z"
    },
    "papermill": {
     "duration": 0.037563,
     "end_time": "2025-07-28T10:53:47.053775",
     "exception": false,
     "start_time": "2025-07-28T10:53:47.016212",
     "status": "completed"
    },
    "tags": []
   },
   "outputs": [],
   "source": [
    "for subgroup, cov in cond_coverage.items():\n",
    "    cp_metrics_df[f\"cov_{subgroup}\"] = cov"
   ]
  },
  {
   "cell_type": "code",
   "execution_count": 64,
   "id": "6e872e10-dbe5-49e8-b554-5030c98ff75d",
   "metadata": {
    "execution": {
     "iopub.execute_input": "2025-07-28T10:53:47.099508Z",
     "iopub.status.busy": "2025-07-28T10:53:47.098950Z",
     "iopub.status.idle": "2025-07-28T10:53:47.118909Z",
     "shell.execute_reply": "2025-07-28T10:53:47.117822Z"
    },
    "papermill": {
     "duration": 0.050031,
     "end_time": "2025-07-28T10:53:47.120549",
     "exception": false,
     "start_time": "2025-07-28T10:53:47.070518",
     "status": "completed"
    },
    "tags": []
   },
   "outputs": [
    {
     "data": {
      "text/html": [
       "<div>\n",
       "<style scoped>\n",
       "    .dataframe tbody tr th:only-of-type {\n",
       "        vertical-align: middle;\n",
       "    }\n",
       "\n",
       "    .dataframe tbody tr th {\n",
       "        vertical-align: top;\n",
       "    }\n",
       "\n",
       "    .dataframe thead th {\n",
       "        text-align: right;\n",
       "    }\n",
       "</style>\n",
       "<table border=\"1\" class=\"dataframe\">\n",
       "  <thead>\n",
       "    <tr style=\"text-align: right;\">\n",
       "      <th></th>\n",
       "      <th>universe_id</th>\n",
       "      <th>universe_training_size</th>\n",
       "      <th>universe_scale</th>\n",
       "      <th>universe_model</th>\n",
       "      <th>universe_exclude_features</th>\n",
       "      <th>universe_exclude_subgroups</th>\n",
       "      <th>q_hat</th>\n",
       "      <th>coverage</th>\n",
       "      <th>avg_size</th>\n",
       "      <th>cov_frau1</th>\n",
       "      <th>cov_nongerman</th>\n",
       "      <th>cov_nongerman_male</th>\n",
       "      <th>cov_nongerman_female</th>\n",
       "    </tr>\n",
       "  </thead>\n",
       "  <tbody>\n",
       "    <tr>\n",
       "      <th>0</th>\n",
       "      <td>3ae6359458b7da93482500b8c388c1c7</td>\n",
       "      <td>2014</td>\n",
       "      <td>scale</td>\n",
       "      <td>logreg</td>\n",
       "      <td>nationality</td>\n",
       "      <td>drop-non-german</td>\n",
       "      <td>0.674739</td>\n",
       "      <td>0.912596</td>\n",
       "      <td>1.121213</td>\n",
       "      <td>0.910904</td>\n",
       "      <td>0.909785</td>\n",
       "      <td>0.925516</td>\n",
       "      <td>0.883756</td>\n",
       "    </tr>\n",
       "  </tbody>\n",
       "</table>\n",
       "</div>"
      ],
      "text/plain": [
       "                        universe_id universe_training_size universe_scale  \\\n",
       "0  3ae6359458b7da93482500b8c388c1c7                   2014          scale   \n",
       "\n",
       "  universe_model universe_exclude_features universe_exclude_subgroups  \\\n",
       "0         logreg               nationality            drop-non-german   \n",
       "\n",
       "      q_hat  coverage  avg_size  cov_frau1  cov_nongerman  cov_nongerman_male  \\\n",
       "0  0.674739  0.912596  1.121213   0.910904       0.909785            0.925516   \n",
       "\n",
       "   cov_nongerman_female  \n",
       "0              0.883756  "
      ]
     },
     "execution_count": 64,
     "metadata": {},
     "output_type": "execute_result"
    }
   ],
   "source": [
    "cp_metrics_df"
   ]
  },
  {
   "cell_type": "markdown",
   "id": "33774451",
   "metadata": {
    "papermill": {
     "duration": 0.02844,
     "end_time": "2025-07-28T10:53:47.182761",
     "exception": false,
     "start_time": "2025-07-28T10:53:47.154321",
     "status": "completed"
    },
    "tags": []
   },
   "source": [
    "# (Fairness) Metrics"
   ]
  },
  {
   "cell_type": "code",
   "execution_count": 65,
   "id": "debc5d62",
   "metadata": {
    "execution": {
     "iopub.execute_input": "2025-07-28T10:53:47.212491Z",
     "iopub.status.busy": "2025-07-28T10:53:47.211919Z",
     "iopub.status.idle": "2025-07-28T10:53:47.236148Z",
     "shell.execute_reply": "2025-07-28T10:53:47.235121Z"
    },
    "papermill": {
     "duration": 0.041109,
     "end_time": "2025-07-28T10:53:47.238574",
     "exception": false,
     "start_time": "2025-07-28T10:53:47.197465",
     "status": "completed"
    },
    "tags": []
   },
   "outputs": [],
   "source": [
    "# do I need to include maxdeutsch1.missing?\n",
    "\n",
    "import numpy as np\n",
    "\n",
    "colname_to_bin = \"maxdeutsch1\"\n",
    "majority_value = org_train[colname_to_bin].mode()[0]\n",
    "\n",
    "org_test[\"majmin\"] = np.where(org_test[colname_to_bin] == majority_value, \"majority\", \"minority\")"
   ]
  },
  {
   "cell_type": "code",
   "execution_count": 66,
   "id": "06a50de5",
   "metadata": {
    "execution": {
     "iopub.execute_input": "2025-07-28T10:53:47.294681Z",
     "iopub.status.busy": "2025-07-28T10:53:47.294261Z",
     "iopub.status.idle": "2025-07-28T10:53:50.364226Z",
     "shell.execute_reply": "2025-07-28T10:53:50.363041Z"
    },
    "papermill": {
     "duration": 3.089492,
     "end_time": "2025-07-28T10:53:50.366365",
     "exception": false,
     "start_time": "2025-07-28T10:53:47.276873",
     "status": "completed"
    },
    "tags": []
   },
   "outputs": [],
   "source": [
    "example_universe = universe.copy()\n",
    "example_universe[\"cutoff\"] = example_universe[\"cutoff\"][0]\n",
    "example_universe[\"eval_fairness_grouping\"] = example_universe[\"eval_fairness_grouping\"][0]\n",
    "fairness_dict, metric_frame = universe_analysis.compute_metrics(\n",
    "    example_universe,\n",
    "    y_pred_prob=probs_test,\n",
    "    y_test=y_true,\n",
    "    org_test=org_test,\n",
    ")"
   ]
  },
  {
   "cell_type": "markdown",
   "id": "f95d4e02",
   "metadata": {
    "papermill": {
     "duration": 0.028161,
     "end_time": "2025-07-28T10:53:50.426693",
     "exception": false,
     "start_time": "2025-07-28T10:53:50.398532",
     "status": "completed"
    },
    "tags": []
   },
   "source": [
    "# Overall"
   ]
  },
  {
   "cell_type": "markdown",
   "id": "bdee4871",
   "metadata": {
    "papermill": {
     "duration": 0.027873,
     "end_time": "2025-07-28T10:53:50.483518",
     "exception": false,
     "start_time": "2025-07-28T10:53:50.455645",
     "status": "completed"
    },
    "tags": []
   },
   "source": [
    "Fairness\n",
    "Main fairness target: Equalized Odds. Seems to be a better fit than equal opportunity, since we're not only interested in Y = 1. Seems to be a better fit than demographic parity, since we also care about accuracy, not just equal distribution of preds.\n",
    "\n",
    "Pick column for computation of fairness metrics\n",
    "\n",
    "Performance\n",
    "Overall performance measures, most interesting in relation to the measures split by group below"
   ]
  },
  {
   "cell_type": "code",
   "execution_count": 67,
   "id": "c4e067c6",
   "metadata": {
    "execution": {
     "iopub.execute_input": "2025-07-28T10:53:50.543402Z",
     "iopub.status.busy": "2025-07-28T10:53:50.542857Z",
     "iopub.status.idle": "2025-07-28T10:53:50.552584Z",
     "shell.execute_reply": "2025-07-28T10:53:50.551295Z"
    },
    "papermill": {
     "duration": 0.041698,
     "end_time": "2025-07-28T10:53:50.554415",
     "exception": false,
     "start_time": "2025-07-28T10:53:50.512717",
     "status": "completed"
    },
    "tags": []
   },
   "outputs": [
    {
     "data": {
      "text/plain": [
       "accuracy                   0.225716\n",
       "balanced accuracy          0.551626\n",
       "f1                         0.247011\n",
       "precision                  0.141109\n",
       "false positive rate        0.886755\n",
       "false negative rate        0.009993\n",
       "selection rate             0.900000\n",
       "count                  89710.000000\n",
       "dtype: float64"
      ]
     },
     "execution_count": 67,
     "metadata": {},
     "output_type": "execute_result"
    }
   ],
   "source": [
    "metric_frame.overall"
   ]
  },
  {
   "cell_type": "markdown",
   "id": "e968fe9d",
   "metadata": {
    "papermill": {
     "duration": 0.029691,
     "end_time": "2025-07-28T10:53:50.612748",
     "exception": false,
     "start_time": "2025-07-28T10:53:50.583057",
     "status": "completed"
    },
    "tags": []
   },
   "source": [
    "By Group"
   ]
  },
  {
   "cell_type": "code",
   "execution_count": 68,
   "id": "ec325bce",
   "metadata": {
    "execution": {
     "iopub.execute_input": "2025-07-28T10:53:50.671329Z",
     "iopub.status.busy": "2025-07-28T10:53:50.670734Z",
     "iopub.status.idle": "2025-07-28T10:53:50.689014Z",
     "shell.execute_reply": "2025-07-28T10:53:50.687784Z"
    },
    "papermill": {
     "duration": 0.049992,
     "end_time": "2025-07-28T10:53:50.691045",
     "exception": false,
     "start_time": "2025-07-28T10:53:50.641053",
     "status": "completed"
    },
    "tags": []
   },
   "outputs": [
    {
     "data": {
      "text/html": [
       "<div>\n",
       "<style scoped>\n",
       "    .dataframe tbody tr th:only-of-type {\n",
       "        vertical-align: middle;\n",
       "    }\n",
       "\n",
       "    .dataframe tbody tr th {\n",
       "        vertical-align: top;\n",
       "    }\n",
       "\n",
       "    .dataframe thead th {\n",
       "        text-align: right;\n",
       "    }\n",
       "</style>\n",
       "<table border=\"1\" class=\"dataframe\">\n",
       "  <thead>\n",
       "    <tr style=\"text-align: right;\">\n",
       "      <th></th>\n",
       "      <th>accuracy</th>\n",
       "      <th>balanced accuracy</th>\n",
       "      <th>f1</th>\n",
       "      <th>precision</th>\n",
       "      <th>false positive rate</th>\n",
       "      <th>false negative rate</th>\n",
       "      <th>selection rate</th>\n",
       "      <th>count</th>\n",
       "    </tr>\n",
       "    <tr>\n",
       "      <th>majmin</th>\n",
       "      <th></th>\n",
       "      <th></th>\n",
       "      <th></th>\n",
       "      <th></th>\n",
       "      <th></th>\n",
       "      <th></th>\n",
       "      <th></th>\n",
       "      <th></th>\n",
       "    </tr>\n",
       "  </thead>\n",
       "  <tbody>\n",
       "    <tr>\n",
       "      <th>majority</th>\n",
       "      <td>0.247824</td>\n",
       "      <td>0.562012</td>\n",
       "      <td>0.257888</td>\n",
       "      <td>0.148275</td>\n",
       "      <td>0.865034</td>\n",
       "      <td>0.010941</td>\n",
       "      <td>0.881423</td>\n",
       "      <td>69170.0</td>\n",
       "    </tr>\n",
       "    <tr>\n",
       "      <th>minority</th>\n",
       "      <td>0.151266</td>\n",
       "      <td>0.517579</td>\n",
       "      <td>0.212566</td>\n",
       "      <td>0.119013</td>\n",
       "      <td>0.958508</td>\n",
       "      <td>0.006334</td>\n",
       "      <td>0.962561</td>\n",
       "      <td>20540.0</td>\n",
       "    </tr>\n",
       "  </tbody>\n",
       "</table>\n",
       "</div>"
      ],
      "text/plain": [
       "          accuracy  balanced accuracy        f1  precision  \\\n",
       "majmin                                                       \n",
       "majority  0.247824           0.562012  0.257888   0.148275   \n",
       "minority  0.151266           0.517579  0.212566   0.119013   \n",
       "\n",
       "          false positive rate  false negative rate  selection rate    count  \n",
       "majmin                                                                       \n",
       "majority             0.865034             0.010941        0.881423  69170.0  \n",
       "minority             0.958508             0.006334        0.962561  20540.0  "
      ]
     },
     "execution_count": 68,
     "metadata": {},
     "output_type": "execute_result"
    }
   ],
   "source": [
    "metric_frame.by_group"
   ]
  },
  {
   "cell_type": "code",
   "execution_count": 69,
   "id": "a9ddbe63",
   "metadata": {
    "execution": {
     "iopub.execute_input": "2025-07-28T10:53:50.755622Z",
     "iopub.status.busy": "2025-07-28T10:53:50.755144Z",
     "iopub.status.idle": "2025-07-28T10:53:53.457703Z",
     "shell.execute_reply": "2025-07-28T10:53:53.456903Z"
    },
    "papermill": {
     "duration": 2.736159,
     "end_time": "2025-07-28T10:53:53.459046",
     "exception": false,
     "start_time": "2025-07-28T10:53:50.722887",
     "status": "completed"
    },
    "tags": []
   },
   "outputs": [
    {
     "data": {
      "text/plain": [
       "array([[<Axes: title={'center': 'accuracy'}, xlabel='majmin'>,\n",
       "        <Axes: title={'center': 'balanced accuracy'}, xlabel='majmin'>,\n",
       "        <Axes: title={'center': 'f1'}, xlabel='majmin'>],\n",
       "       [<Axes: title={'center': 'precision'}, xlabel='majmin'>,\n",
       "        <Axes: title={'center': 'false positive rate'}, xlabel='majmin'>,\n",
       "        <Axes: title={'center': 'false negative rate'}, xlabel='majmin'>],\n",
       "       [<Axes: title={'center': 'selection rate'}, xlabel='majmin'>,\n",
       "        <Axes: title={'center': 'count'}, xlabel='majmin'>,\n",
       "        <Axes: xlabel='majmin'>]], dtype=object)"
      ]
     },
     "execution_count": 69,
     "metadata": {},
     "output_type": "execute_result"
    },
    {
     "data": {
      "image/png": "[encoded data removed]",
      "text/plain": [
       "<Figure size 1200x800 with 9 Axes>"
      ]
     },
     "metadata": {},
     "output_type": "display_data"
    }
   ],
   "source": [
    "# In a graphic\n",
    "metric_frame.by_group.plot.bar(\n",
    "    subplots=True,\n",
    "    layout=[3, 3],\n",
    "    legend=False,\n",
    "    figsize=[12, 8],\n",
    "    title=\"Show all metrics\",\n",
    ")"
   ]
  },
  {
   "cell_type": "markdown",
   "id": "f57a0bac",
   "metadata": {
    "papermill": {
     "duration": 0.01622,
     "end_time": "2025-07-28T10:53:53.494064",
     "exception": false,
     "start_time": "2025-07-28T10:53:53.477844",
     "status": "completed"
    },
    "tags": []
   },
   "source": [
    "# Final Output"
   ]
  },
  {
   "cell_type": "code",
   "execution_count": 70,
   "id": "96d280a3",
   "metadata": {
    "execution": {
     "iopub.execute_input": "2025-07-28T10:53:53.528346Z",
     "iopub.status.busy": "2025-07-28T10:53:53.527793Z",
     "iopub.status.idle": "2025-07-28T10:53:53.535964Z",
     "shell.execute_reply": "2025-07-28T10:53:53.534790Z"
    },
    "papermill": {
     "duration": 0.027503,
     "end_time": "2025-07-28T10:53:53.537851",
     "exception": false,
     "start_time": "2025-07-28T10:53:53.510348",
     "status": "completed"
    },
    "tags": []
   },
   "outputs": [
    {
     "data": {
      "text/plain": [
       "4"
      ]
     },
     "execution_count": 70,
     "metadata": {},
     "output_type": "execute_result"
    }
   ],
   "source": [
    "sub_universes = universe_analysis.generate_sub_universes()\n",
    "len(sub_universes)"
   ]
  },
  {
   "cell_type": "code",
   "execution_count": 71,
   "id": "92adf7ba",
   "metadata": {
    "execution": {
     "iopub.execute_input": "2025-07-28T10:53:53.601307Z",
     "iopub.status.busy": "2025-07-28T10:53:53.600318Z",
     "iopub.status.idle": "2025-07-28T10:53:53.606928Z",
     "shell.execute_reply": "2025-07-28T10:53:53.606024Z"
    },
    "papermill": {
     "duration": 0.038885,
     "end_time": "2025-07-28T10:53:53.608694",
     "exception": false,
     "start_time": "2025-07-28T10:53:53.569809",
     "status": "completed"
    },
    "tags": []
   },
   "outputs": [],
   "source": [
    "def filter_sub_universe_data(sub_universe, org_test):\n",
    "    # Keep all rows — no filtering\n",
    "    keep_rows_mask = np.ones(org_test.shape[0], dtype=bool)\n",
    "\n",
    "    print(f\"[INFO] Keeping all rows: {keep_rows_mask.sum()} rows retained.\")\n",
    "    return keep_rows_mask"
   ]
  },
  {
   "cell_type": "code",
   "execution_count": 72,
   "id": "4a759155",
   "metadata": {
    "execution": {
     "iopub.execute_input": "2025-07-28T10:53:53.673035Z",
     "iopub.status.busy": "2025-07-28T10:53:53.672389Z",
     "iopub.status.idle": "2025-07-28T10:54:03.784856Z",
     "shell.execute_reply": "2025-07-28T10:54:03.783723Z"
    },
    "papermill": {
     "duration": 10.147346,
     "end_time": "2025-07-28T10:54:03.786323",
     "exception": false,
     "start_time": "2025-07-28T10:53:53.638977",
     "status": "completed"
    },
    "tags": []
   },
   "outputs": [
    {
     "name": "stdout",
     "output_type": "stream",
     "text": [
      "Stopping execution_time clock.\n",
      "[INFO] Keeping all rows: 89710 rows retained.\n"
     ]
    },
    {
     "name": "stdout",
     "output_type": "stream",
     "text": [
      "[INFO] Keeping all rows: 89710 rows retained.\n"
     ]
    },
    {
     "name": "stdout",
     "output_type": "stream",
     "text": [
      "[INFO] Keeping all rows: 89710 rows retained.\n"
     ]
    },
    {
     "name": "stdout",
     "output_type": "stream",
     "text": [
      "[INFO] Keeping all rows: 89710 rows retained.\n"
     ]
    },
    {
     "data": {
      "text/html": [
       "<div>\n",
       "<style scoped>\n",
       "    .dataframe tbody tr th:only-of-type {\n",
       "        vertical-align: middle;\n",
       "    }\n",
       "\n",
       "    .dataframe tbody tr th {\n",
       "        vertical-align: top;\n",
       "    }\n",
       "\n",
       "    .dataframe thead th {\n",
       "        text-align: right;\n",
       "    }\n",
       "</style>\n",
       "<table border=\"1\" class=\"dataframe\">\n",
       "  <thead>\n",
       "    <tr style=\"text-align: right;\">\n",
       "      <th></th>\n",
       "      <th>run_no</th>\n",
       "      <th>universe_id</th>\n",
       "      <th>universe_settings</th>\n",
       "      <th>execution_time</th>\n",
       "      <th>test_size_n</th>\n",
       "      <th>test_size_frac</th>\n",
       "      <th>fair_main_equalized_odds_difference</th>\n",
       "      <th>fair_main_equalized_odds_ratio</th>\n",
       "      <th>fair_main_demographic_parity_difference</th>\n",
       "      <th>fair_main_demographic_parity_ratio</th>\n",
       "      <th>...</th>\n",
       "      <th>perf_grp_precision_0</th>\n",
       "      <th>perf_grp_precision_1</th>\n",
       "      <th>perf_grp_false positive rate_0</th>\n",
       "      <th>perf_grp_false positive rate_1</th>\n",
       "      <th>perf_grp_false negative rate_0</th>\n",
       "      <th>perf_grp_false negative rate_1</th>\n",
       "      <th>perf_grp_selection rate_0</th>\n",
       "      <th>perf_grp_selection rate_1</th>\n",
       "      <th>perf_grp_count_0</th>\n",
       "      <th>perf_grp_count_1</th>\n",
       "    </tr>\n",
       "  </thead>\n",
       "  <tbody>\n",
       "    <tr>\n",
       "      <th>0</th>\n",
       "      <td>11</td>\n",
       "      <td>3ae6359458b7da93482500b8c388c1c7</td>\n",
       "      <td>{\"cutoff\": \"quantile_0.1\", \"eval_fairness_grou...</td>\n",
       "      <td>33.116821</td>\n",
       "      <td>89710</td>\n",
       "      <td>1.0</td>\n",
       "      <td>0.093473</td>\n",
       "      <td>0.902480</td>\n",
       "      <td>0.081138</td>\n",
       "      <td>0.915706</td>\n",
       "      <td>...</td>\n",
       "      <td>NaN</td>\n",
       "      <td>NaN</td>\n",
       "      <td>NaN</td>\n",
       "      <td>NaN</td>\n",
       "      <td>NaN</td>\n",
       "      <td>NaN</td>\n",
       "      <td>NaN</td>\n",
       "      <td>NaN</td>\n",
       "      <td>NaN</td>\n",
       "      <td>NaN</td>\n",
       "    </tr>\n",
       "    <tr>\n",
       "      <th>0</th>\n",
       "      <td>11</td>\n",
       "      <td>3ae6359458b7da93482500b8c388c1c7</td>\n",
       "      <td>{\"cutoff\": \"quantile_0.1\", \"eval_fairness_grou...</td>\n",
       "      <td>33.116821</td>\n",
       "      <td>89710</td>\n",
       "      <td>1.0</td>\n",
       "      <td>0.093473</td>\n",
       "      <td>0.902480</td>\n",
       "      <td>0.081138</td>\n",
       "      <td>0.915706</td>\n",
       "      <td>...</td>\n",
       "      <td>0.119013</td>\n",
       "      <td>0.148275</td>\n",
       "      <td>0.958508</td>\n",
       "      <td>0.865034</td>\n",
       "      <td>0.006334</td>\n",
       "      <td>0.010941</td>\n",
       "      <td>0.962561</td>\n",
       "      <td>0.881423</td>\n",
       "      <td>20540.0</td>\n",
       "      <td>69170.0</td>\n",
       "    </tr>\n",
       "    <tr>\n",
       "      <th>0</th>\n",
       "      <td>11</td>\n",
       "      <td>3ae6359458b7da93482500b8c388c1c7</td>\n",
       "      <td>{\"cutoff\": \"quantile_0.25\", \"eval_fairness_gro...</td>\n",
       "      <td>33.116821</td>\n",
       "      <td>89710</td>\n",
       "      <td>1.0</td>\n",
       "      <td>0.141243</td>\n",
       "      <td>0.829537</td>\n",
       "      <td>0.121014</td>\n",
       "      <td>0.856513</td>\n",
       "      <td>...</td>\n",
       "      <td>NaN</td>\n",
       "      <td>NaN</td>\n",
       "      <td>NaN</td>\n",
       "      <td>NaN</td>\n",
       "      <td>NaN</td>\n",
       "      <td>NaN</td>\n",
       "      <td>NaN</td>\n",
       "      <td>NaN</td>\n",
       "      <td>NaN</td>\n",
       "      <td>NaN</td>\n",
       "    </tr>\n",
       "    <tr>\n",
       "      <th>0</th>\n",
       "      <td>11</td>\n",
       "      <td>3ae6359458b7da93482500b8c388c1c7</td>\n",
       "      <td>{\"cutoff\": \"quantile_0.25\", \"eval_fairness_gro...</td>\n",
       "      <td>33.116821</td>\n",
       "      <td>89710</td>\n",
       "      <td>1.0</td>\n",
       "      <td>0.141243</td>\n",
       "      <td>0.829537</td>\n",
       "      <td>0.121014</td>\n",
       "      <td>0.856513</td>\n",
       "      <td>...</td>\n",
       "      <td>0.130809</td>\n",
       "      <td>0.174218</td>\n",
       "      <td>0.828582</td>\n",
       "      <td>0.687340</td>\n",
       "      <td>0.043074</td>\n",
       "      <td>0.047593</td>\n",
       "      <td>0.843379</td>\n",
       "      <td>0.722365</td>\n",
       "      <td>20540.0</td>\n",
       "      <td>69170.0</td>\n",
       "    </tr>\n",
       "  </tbody>\n",
       "</table>\n",
       "<p>4 rows × 50 columns</p>\n",
       "</div>"
      ],
      "text/plain": [
       "  run_no                       universe_id  \\\n",
       "0     11  3ae6359458b7da93482500b8c388c1c7   \n",
       "0     11  3ae6359458b7da93482500b8c388c1c7   \n",
       "0     11  3ae6359458b7da93482500b8c388c1c7   \n",
       "0     11  3ae6359458b7da93482500b8c388c1c7   \n",
       "\n",
       "                                   universe_settings  execution_time  \\\n",
       "0  {\"cutoff\": \"quantile_0.1\", \"eval_fairness_grou...       33.116821   \n",
       "0  {\"cutoff\": \"quantile_0.1\", \"eval_fairness_grou...       33.116821   \n",
       "0  {\"cutoff\": \"quantile_0.25\", \"eval_fairness_gro...       33.116821   \n",
       "0  {\"cutoff\": \"quantile_0.25\", \"eval_fairness_gro...       33.116821   \n",
       "\n",
       "   test_size_n  test_size_frac  fair_main_equalized_odds_difference  \\\n",
       "0        89710             1.0                             0.093473   \n",
       "0        89710             1.0                             0.093473   \n",
       "0        89710             1.0                             0.141243   \n",
       "0        89710             1.0                             0.141243   \n",
       "\n",
       "   fair_main_equalized_odds_ratio  fair_main_demographic_parity_difference  \\\n",
       "0                        0.902480                                 0.081138   \n",
       "0                        0.902480                                 0.081138   \n",
       "0                        0.829537                                 0.121014   \n",
       "0                        0.829537                                 0.121014   \n",
       "\n",
       "   fair_main_demographic_parity_ratio  ...  perf_grp_precision_0  \\\n",
       "0                            0.915706  ...                   NaN   \n",
       "0                            0.915706  ...              0.119013   \n",
       "0                            0.856513  ...                   NaN   \n",
       "0                            0.856513  ...              0.130809   \n",
       "\n",
       "   perf_grp_precision_1  perf_grp_false positive rate_0  \\\n",
       "0                   NaN                             NaN   \n",
       "0              0.148275                        0.958508   \n",
       "0                   NaN                             NaN   \n",
       "0              0.174218                        0.828582   \n",
       "\n",
       "   perf_grp_false positive rate_1  perf_grp_false negative rate_0  \\\n",
       "0                             NaN                             NaN   \n",
       "0                        0.865034                        0.006334   \n",
       "0                             NaN                             NaN   \n",
       "0                        0.687340                        0.043074   \n",
       "\n",
       "   perf_grp_false negative rate_1  perf_grp_selection rate_0  \\\n",
       "0                             NaN                        NaN   \n",
       "0                        0.010941                   0.962561   \n",
       "0                             NaN                        NaN   \n",
       "0                        0.047593                   0.843379   \n",
       "\n",
       "   perf_grp_selection rate_1  perf_grp_count_0  perf_grp_count_1  \n",
       "0                        NaN               NaN               NaN  \n",
       "0                   0.881423           20540.0           69170.0  \n",
       "0                        NaN               NaN               NaN  \n",
       "0                   0.722365           20540.0           69170.0  \n",
       "\n",
       "[4 rows x 50 columns]"
      ]
     },
     "execution_count": 72,
     "metadata": {},
     "output_type": "execute_result"
    }
   ],
   "source": [
    "final_output = universe_analysis.generate_final_output(\n",
    "    y_pred_prob=probs_test,\n",
    "    y_test=y_true,\n",
    "    org_test=org_test,\n",
    "    filter_data=filter_sub_universe_data,\n",
    "    cp_metrics_df=cp_metrics_df,\n",
    "    save=True,\n",
    ")\n",
    "final_output"
   ]
  },
  {
   "cell_type": "code",
   "execution_count": null,
   "id": "721ff514-cb11-46f8-b6fc-50392f74b5cb",
   "metadata": {
    "papermill": {
     "duration": 0.017038,
     "end_time": "2025-07-28T10:54:03.822609",
     "exception": false,
     "start_time": "2025-07-28T10:54:03.805571",
     "status": "completed"
    },
    "tags": []
   },
   "outputs": [],
   "source": []
  }
 ],
 "metadata": {
  "celltoolbar": "Tags",
  "kernelspec": {
   "display_name": "Python (CMA Fairness)",
   "language": "python",
   "name": "cma_fair_env"
  },
  "language_info": {
   "codemirror_mode": {
    "name": "ipython",
    "version": 3
   },
   "file_extension": ".py",
   "mimetype": "text/x-python",
   "name": "python",
   "nbconvert_exporter": "python",
   "pygments_lexer": "ipython3",
   "version": "3.10.12"
  },
  "papermill": {
   "default_parameters": {},
   "duration": 48.159594,
   "end_time": "2025-07-28T10:54:05.061638",
   "environment_variables": {},
   "exception": null,
   "input_path": "universe_analysis.ipynb",
   "output_path": "output/runs/11/notebooks/m_11-3ae6359458b7da93482500b8c388c1c7.ipynb",
   "parameters": {
    "output_dir": "output",
    "run_no": "11",
    "seed": "2023",
    "universe": "{\"cutoff\": [\"quantile_0.1\", \"quantile_0.25\"], \"eval_fairness_grouping\": [\"majority-minority\", \"nationality-all\"], \"exclude_features\": \"nationality\", \"exclude_subgroups\": \"drop-non-german\", \"model\": \"logreg\", \"scale\": \"scale\", \"training_size\": \"2014\"}",
    "universe_id": "3ae6359458b7da93482500b8c388c1c7"
   },
   "start_time": "2025-07-28T10:53:16.902044",
   "version": "2.6.0"
  }
 },
 "nbformat": 4,
 "nbformat_minor": 5
}