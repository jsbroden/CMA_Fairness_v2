{
 "cells": [
  {
   "cell_type": "code",
   "execution_count": 1,
   "id": "f159f837-637b-42ba-96b5-ec9a68c44524",
   "metadata": {
    "execution": {
     "iopub.execute_input": "2025-07-28T10:31:41.878488Z",
     "iopub.status.busy": "2025-07-28T10:31:41.877781Z",
     "iopub.status.idle": "2025-07-28T10:31:41.892973Z",
     "shell.execute_reply": "2025-07-28T10:31:41.892049Z"
    },
    "papermill": {
     "duration": 0.038747,
     "end_time": "2025-07-28T10:31:41.895854",
     "exception": false,
     "start_time": "2025-07-28T10:31:41.857107",
     "status": "completed"
    },
    "tags": []
   },
   "outputs": [
    {
     "name": "stdout",
     "output_type": "stream",
     "text": [
      "/dss/dsshome1/0C/ra93lal2/cma/CMA_Fairness_v2\n"
     ]
    },
    {
     "name": "stderr",
     "output_type": "stream",
     "text": [
      "/dss/dsshome1/0C/ra93lal2/.local/share/virtualenvs/CMA_Fairness_v2-3j10GkSs/lib/python3.10/site-packages/IPython/core/magics/osm.py:393: UserWarning: This is now an optional IPython functionality, using bookmarks requires you to install the `pickleshare` library.\n",
      "  bkms = self.shell.db.get('bookmarks', {})\n",
      "/dss/dsshome1/0C/ra93lal2/.local/share/virtualenvs/CMA_Fairness_v2-3j10GkSs/lib/python3.10/site-packages/IPython/core/magics/osm.py:417: UserWarning: This is now an optional IPython functionality, setting dhist requires you to install the `pickleshare` library.\n",
      "  self.shell.db['dhist'] = compress_dhist(dhist)[-100:]\n"
     ]
    }
   ],
   "source": [
    "%cd ~/cma/CMA_Fairness_v2"
   ]
  },
  {
   "cell_type": "markdown",
   "id": "de2603b9",
   "metadata": {
    "papermill": {
     "duration": 0.018811,
     "end_time": "2025-07-28T10:31:41.934347",
     "exception": false,
     "start_time": "2025-07-28T10:31:41.915536",
     "status": "completed"
    },
    "tags": []
   },
   "source": [
    "The following cell holds the definition of our parameters, these values can be overriden by rendering the with e.g. the following command:\n",
    "\n",
    "papermill -p alpha 0.2 -p ratio 0.3 universe_analysis.ipynb output/test_run.ipynb"
   ]
  },
  {
   "cell_type": "code",
   "execution_count": 2,
   "id": "a80968a0-40bb-4fa9-85ef-2d5eefb01975",
   "metadata": {
    "execution": {
     "iopub.execute_input": "2025-07-28T10:31:41.975679Z",
     "iopub.status.busy": "2025-07-28T10:31:41.975140Z",
     "iopub.status.idle": "2025-07-28T10:31:41.980693Z",
     "shell.execute_reply": "2025-07-28T10:31:41.979758Z"
    },
    "papermill": {
     "duration": 0.029297,
     "end_time": "2025-07-28T10:31:41.982562",
     "exception": false,
     "start_time": "2025-07-28T10:31:41.953265",
     "status": "completed"
    },
    "tags": []
   },
   "outputs": [
    {
     "name": "stdout",
     "output_type": "stream",
     "text": [
      "Current working directory: /dss/dsshome1/0C/ra93lal2/cma/CMA_Fairness_v2\n"
     ]
    }
   ],
   "source": [
    "import os\n",
    "print(\"Current working directory:\", os.getcwd())"
   ]
  },
  {
   "cell_type": "code",
   "execution_count": 3,
   "id": "2dce4c03",
   "metadata": {
    "execution": {
     "iopub.execute_input": "2025-07-28T10:31:42.103597Z",
     "iopub.status.busy": "2025-07-28T10:31:42.103092Z",
     "iopub.status.idle": "2025-07-28T10:31:42.109704Z",
     "shell.execute_reply": "2025-07-28T10:31:42.108755Z"
    },
    "papermill": {
     "duration": 0.029996,
     "end_time": "2025-07-28T10:31:42.111575",
     "exception": false,
     "start_time": "2025-07-28T10:31:42.081579",
     "status": "completed"
    },
    "tags": [
     "parameters"
    ]
   },
   "outputs": [],
   "source": [
    "run_no = 0\n",
    "universe_id = \"test\"\n",
    "universe = {\n",
    "    \"training_size\": \"2014\", # \"25k\", \"5k\", \"1k\", \"2014\"\n",
    "    \"scale\": \"scale\", # \"scale\", \"do-not-scale\",\n",
    "    #\"stratify_split\": \"target\", # \"none\", \"target\", \"protected-attribute\", \"both\",\n",
    "    \"model\": \"elasticnet\", # \"logreg\", \"penalized_logreg\", \"rf\", \"gbm\", \"elasticnet\"\n",
    "    \"cutoff\": [\"quantile_0.15\", \"quantile_0.30\"],\n",
    "    \"exclude_features\": \"age\", # \"none\", \"nationality\", \"sex\", \"nationality-sex\", \"age\"\n",
    "    \"exclude_subgroups\": \"keep-all\", # \"keep-all\", \"drop-non-german\"\n",
    "    #\"training_sample\": \"restricted\", # \"restricted\", \"full\"\n",
    "    \"eval_fairness_grouping\": [\"majority-minority\", \"nationality-all\"]\n",
    "}\n",
    "\n",
    "output_dir=\"./output\"\n",
    "seed=0"
   ]
  },
  {
   "cell_type": "code",
   "execution_count": 4,
   "id": "b7118e75",
   "metadata": {
    "execution": {
     "iopub.execute_input": "2025-07-28T10:31:42.154645Z",
     "iopub.status.busy": "2025-07-28T10:31:42.153966Z",
     "iopub.status.idle": "2025-07-28T10:31:42.159638Z",
     "shell.execute_reply": "2025-07-28T10:31:42.158740Z"
    },
    "papermill": {
     "duration": 0.029428,
     "end_time": "2025-07-28T10:31:42.161326",
     "exception": false,
     "start_time": "2025-07-28T10:31:42.131898",
     "status": "completed"
    },
    "tags": [
     "injected-parameters"
    ]
   },
   "outputs": [],
   "source": [
    "# Parameters\n",
    "universe_id = \"7191a92119b1a7c56f1faedc3fdd4a50\"\n",
    "run_no = \"11\"\n",
    "universe = \"{\\\"cutoff\\\": [\\\"quantile_0.1\\\", \\\"quantile_0.25\\\"], \\\"eval_fairness_grouping\\\": [\\\"majority-minority\\\", \\\"nationality-all\\\"], \\\"exclude_features\\\": \\\"sex\\\", \\\"exclude_subgroups\\\": \\\"keep-all\\\", \\\"model\\\": \\\"gbm\\\", \\\"scale\\\": \\\"scale\\\", \\\"training_size\\\": \\\"5k\\\"}\"\n",
    "output_dir = \"output\"\n",
    "seed = \"2023\"\n"
   ]
  },
  {
   "cell_type": "code",
   "execution_count": 5,
   "id": "1650acaf",
   "metadata": {
    "execution": {
     "iopub.execute_input": "2025-07-28T10:31:42.203757Z",
     "iopub.status.busy": "2025-07-28T10:31:42.203263Z",
     "iopub.status.idle": "2025-07-28T10:31:42.208624Z",
     "shell.execute_reply": "2025-07-28T10:31:42.207561Z"
    },
    "papermill": {
     "duration": 0.028482,
     "end_time": "2025-07-28T10:31:42.210367",
     "exception": false,
     "start_time": "2025-07-28T10:31:42.181885",
     "status": "completed"
    },
    "tags": []
   },
   "outputs": [],
   "source": [
    "import json\n",
    "# Parse universe into dict if it is passed as a string\n",
    "if isinstance(universe, str):\n",
    "    universe = json.loads(universe)"
   ]
  },
  {
   "cell_type": "code",
   "execution_count": 6,
   "id": "16620c48",
   "metadata": {
    "execution": {
     "iopub.execute_input": "2025-07-28T10:31:42.252085Z",
     "iopub.status.busy": "2025-07-28T10:31:42.251057Z",
     "iopub.status.idle": "2025-07-28T10:31:42.295690Z",
     "shell.execute_reply": "2025-07-28T10:31:42.294688Z"
    },
    "papermill": {
     "duration": 0.076283,
     "end_time": "2025-07-28T10:31:42.306001",
     "exception": false,
     "start_time": "2025-07-28T10:31:42.229718",
     "status": "completed"
    },
    "tags": []
   },
   "outputs": [],
   "source": [
    "# Auto-reload the custom package\n",
    "%load_ext autoreload\n",
    "%autoreload 1\n",
    "%aimport fairness_multiverse"
   ]
  },
  {
   "cell_type": "code",
   "execution_count": 7,
   "id": "01c5c9f3",
   "metadata": {
    "execution": {
     "iopub.execute_input": "2025-07-28T10:31:42.349953Z",
     "iopub.status.busy": "2025-07-28T10:31:42.349147Z",
     "iopub.status.idle": "2025-07-28T10:31:44.435727Z",
     "shell.execute_reply": "2025-07-28T10:31:44.434707Z"
    },
    "papermill": {
     "duration": 2.111745,
     "end_time": "2025-07-28T10:31:44.437787",
     "exception": false,
     "start_time": "2025-07-28T10:31:42.326042",
     "status": "completed"
    },
    "tags": []
   },
   "outputs": [],
   "source": [
    "from fairness_multiverse.universe import UniverseAnalysis\n",
    "\n",
    "universe_analysis = UniverseAnalysis(\n",
    "    run_no = run_no,\n",
    "    universe_id = universe_id,\n",
    "    universe = universe,\n",
    "    output_dir=output_dir,\n",
    ")"
   ]
  },
  {
   "cell_type": "code",
   "execution_count": 8,
   "id": "106241f5",
   "metadata": {
    "execution": {
     "iopub.execute_input": "2025-07-28T10:31:44.480781Z",
     "iopub.status.busy": "2025-07-28T10:31:44.480039Z",
     "iopub.status.idle": "2025-07-28T10:31:44.486863Z",
     "shell.execute_reply": "2025-07-28T10:31:44.485894Z"
    },
    "papermill": {
     "duration": 0.031595,
     "end_time": "2025-07-28T10:31:44.488587",
     "exception": false,
     "start_time": "2025-07-28T10:31:44.456992",
     "status": "completed"
    },
    "tags": []
   },
   "outputs": [
    {
     "name": "stdout",
     "output_type": "stream",
     "text": [
      "Using Seed: 2023\n"
     ]
    }
   ],
   "source": [
    "import numpy as np\n",
    "parsed_seed = int(seed)\n",
    "np.random.seed(parsed_seed)\n",
    "print(f\"Using Seed: {parsed_seed}\")"
   ]
  },
  {
   "cell_type": "markdown",
   "id": "e0ebdc57",
   "metadata": {
    "papermill": {
     "duration": 0.018849,
     "end_time": "2025-07-28T10:31:44.526998",
     "exception": false,
     "start_time": "2025-07-28T10:31:44.508149",
     "status": "completed"
    },
    "tags": []
   },
   "source": [
    "# Loading Data"
   ]
  },
  {
   "cell_type": "markdown",
   "id": "681925a3",
   "metadata": {
    "papermill": {
     "duration": 0.018704,
     "end_time": "2025-07-28T10:31:44.564871",
     "exception": false,
     "start_time": "2025-07-28T10:31:44.546167",
     "status": "completed"
    },
    "tags": []
   },
   "source": [
    "Load siab_train, siab_test, siab_calib and/or \n",
    "load siab_train_features, siab_train_labels"
   ]
  },
  {
   "cell_type": "code",
   "execution_count": 9,
   "id": "f0496b8a",
   "metadata": {
    "execution": {
     "iopub.execute_input": "2025-07-28T10:31:44.605519Z",
     "iopub.status.busy": "2025-07-28T10:31:44.604741Z",
     "iopub.status.idle": "2025-07-28T10:31:56.368681Z",
     "shell.execute_reply": "2025-07-28T10:31:56.367430Z"
    },
    "papermill": {
     "duration": 11.785936,
     "end_time": "2025-07-28T10:31:56.370404",
     "exception": false,
     "start_time": "2025-07-28T10:31:44.584468",
     "status": "completed"
    },
    "tags": []
   },
   "outputs": [
    {
     "name": "stdout",
     "output_type": "stream",
     "text": [
      "Loading SIAB data from cache: data/siab_cached.csv.gz\n"
     ]
    },
    {
     "name": "stdout",
     "output_type": "stream",
     "text": [
      "(643690, 164)\n"
     ]
    }
   ],
   "source": [
    "from pathlib import Path\n",
    "import pandas as pd\n",
    "\n",
    "# File paths\n",
    "raw_file = Path(\"data/raw/siab.csv\")\n",
    "cache_file = Path(\"data/siab_cached.csv.gz\")\n",
    "\n",
    "# Ensure cache directory exists\n",
    "cache_file.parent.mkdir(parents=True, exist_ok=True)\n",
    "\n",
    "# Load with simple caching\n",
    "if cache_file.exists():\n",
    "    print(f\"Loading SIAB data from cache: {cache_file}\")\n",
    "    siab = pd.read_csv(cache_file, compression='gzip')\n",
    "else:\n",
    "    print(f\"Cache not found. Reading raw SIAB data: {raw_file}\")\n",
    "    siab = pd.read_csv(raw_file)\n",
    "    siab.to_csv(cache_file, index=False, compression='gzip')\n",
    "    print(f\"Cached SIAB data to: {cache_file}\")\n",
    "\n",
    "# Now use `siab` DataFrame as needed\n",
    "print(siab.shape)"
   ]
  },
  {
   "cell_type": "code",
   "execution_count": 10,
   "id": "db0ca512-5f53-4dba-abdb-a2888bca41ba",
   "metadata": {
    "execution": {
     "iopub.execute_input": "2025-07-28T10:31:56.412504Z",
     "iopub.status.busy": "2025-07-28T10:31:56.411956Z",
     "iopub.status.idle": "2025-07-28T10:31:56.418049Z",
     "shell.execute_reply": "2025-07-28T10:31:56.417176Z"
    },
    "papermill": {
     "duration": 0.027592,
     "end_time": "2025-07-28T10:31:56.419697",
     "exception": false,
     "start_time": "2025-07-28T10:31:56.392105",
     "status": "completed"
    },
    "tags": []
   },
   "outputs": [],
   "source": [
    "#siab"
   ]
  },
  {
   "cell_type": "code",
   "execution_count": 11,
   "id": "a0edb063",
   "metadata": {
    "execution": {
     "iopub.execute_input": "2025-07-28T10:31:56.458419Z",
     "iopub.status.busy": "2025-07-28T10:31:56.457767Z",
     "iopub.status.idle": "2025-07-28T10:31:56.462773Z",
     "shell.execute_reply": "2025-07-28T10:31:56.461885Z"
    },
    "papermill": {
     "duration": 0.026178,
     "end_time": "2025-07-28T10:31:56.464510",
     "exception": false,
     "start_time": "2025-07-28T10:31:56.438332",
     "status": "completed"
    },
    "tags": []
   },
   "outputs": [],
   "source": [
    "#import pandas as pd\n",
    "#\n",
    "#X_train = pd.read_csv(\"./data/X_train.csv\")\n",
    "#y_train = pd.read_csv(\"./data/y_train.csv\")"
   ]
  },
  {
   "cell_type": "code",
   "execution_count": 12,
   "id": "63d08085",
   "metadata": {
    "execution": {
     "iopub.execute_input": "2025-07-28T10:31:56.504068Z",
     "iopub.status.busy": "2025-07-28T10:31:56.503228Z",
     "iopub.status.idle": "2025-07-28T10:31:56.508159Z",
     "shell.execute_reply": "2025-07-28T10:31:56.507222Z"
    },
    "papermill": {
     "duration": 0.026445,
     "end_time": "2025-07-28T10:31:56.510068",
     "exception": false,
     "start_time": "2025-07-28T10:31:56.483623",
     "status": "completed"
    },
    "tags": []
   },
   "outputs": [],
   "source": [
    "#X_test = pd.read_csv(\"./data/X_test.csv\")\n",
    "#y_true = pd.read_csv(\"./data/y_test.csv\")"
   ]
  },
  {
   "cell_type": "code",
   "execution_count": 13,
   "id": "98a8d0fa-1d3d-4ed8-bb2c-281470e24add",
   "metadata": {
    "execution": {
     "iopub.execute_input": "2025-07-28T10:31:56.548911Z",
     "iopub.status.busy": "2025-07-28T10:31:56.548465Z",
     "iopub.status.idle": "2025-07-28T10:31:56.553297Z",
     "shell.execute_reply": "2025-07-28T10:31:56.552269Z"
    },
    "papermill": {
     "duration": 0.026249,
     "end_time": "2025-07-28T10:31:56.555003",
     "exception": false,
     "start_time": "2025-07-28T10:31:56.528754",
     "status": "completed"
    },
    "tags": []
   },
   "outputs": [],
   "source": [
    "# Calibration data for conformal\n",
    "#X_calib = pd.read_csv(\"./data/X_calib.csv\")\n",
    "#y_calib = pd.read_csv(\"./data/y_calib.csv\")"
   ]
  },
  {
   "cell_type": "markdown",
   "id": "9901737e-04df-44f0-9100-f5ad144ed040",
   "metadata": {
    "papermill": {
     "duration": 0.018846,
     "end_time": "2025-07-28T10:31:56.592511",
     "exception": false,
     "start_time": "2025-07-28T10:31:56.573665",
     "status": "completed"
    },
    "tags": []
   },
   "source": [
    "# Splitting Data and Setting Training Data Size"
   ]
  },
  {
   "cell_type": "code",
   "execution_count": 14,
   "id": "acbc8f7d-8fc8-4e86-8c59-5dcb0f58384b",
   "metadata": {
    "execution": {
     "iopub.execute_input": "2025-07-28T10:31:56.631652Z",
     "iopub.status.busy": "2025-07-28T10:31:56.631123Z",
     "iopub.status.idle": "2025-07-28T10:31:56.639334Z",
     "shell.execute_reply": "2025-07-28T10:31:56.638434Z"
    },
    "papermill": {
     "duration": 0.029784,
     "end_time": "2025-07-28T10:31:56.641001",
     "exception": false,
     "start_time": "2025-07-28T10:31:56.611217",
     "status": "completed"
    },
    "tags": []
   },
   "outputs": [],
   "source": [
    "def sample_by_year(df, training_size, random_state=42):\n",
    "    if training_size == \"2014\":\n",
    "        return df[df[\"year\"] == 2014].reset_index(drop=True)\n",
    "    \n",
    "    size_map = {\n",
    "        \"25k\": 5000,\n",
    "        \"5k\": 1000,\n",
    "        \"1k\": 200\n",
    "    }\n",
    "\n",
    "    if training_size not in size_map:\n",
    "        return df.reset_index(drop=True)  # use all data\n",
    "\n",
    "    n_per_year = size_map[training_size]\n",
    "    grouped = df.groupby(\"year\")\n",
    "    sampled = grouped.apply(lambda x: x.sample(n=min(n_per_year, len(x)), random_state=random_state))\n",
    "    return sampled.reset_index(drop=True)"
   ]
  },
  {
   "cell_type": "code",
   "execution_count": 15,
   "id": "6d931f52-beaf-43ff-9e78-9d44a448d54e",
   "metadata": {
    "execution": {
     "iopub.execute_input": "2025-07-28T10:31:56.695592Z",
     "iopub.status.busy": "2025-07-28T10:31:56.695206Z",
     "iopub.status.idle": "2025-07-28T10:31:57.346142Z",
     "shell.execute_reply": "2025-07-28T10:31:57.345192Z"
    },
    "papermill": {
     "duration": 0.688272,
     "end_time": "2025-07-28T10:31:57.348340",
     "exception": false,
     "start_time": "2025-07-28T10:31:56.660068",
     "status": "completed"
    },
    "tags": []
   },
   "outputs": [],
   "source": [
    "siab_s = sample_by_year(siab, universe[\"training_size\"])"
   ]
  },
  {
   "cell_type": "code",
   "execution_count": 16,
   "id": "5db0a40e-a4e2-4920-be85-b12ae061d70d",
   "metadata": {
    "execution": {
     "iopub.execute_input": "2025-07-28T10:31:57.390214Z",
     "iopub.status.busy": "2025-07-28T10:31:57.389818Z",
     "iopub.status.idle": "2025-07-28T10:31:57.405070Z",
     "shell.execute_reply": "2025-07-28T10:31:57.404160Z"
    },
    "papermill": {
     "duration": 0.037953,
     "end_time": "2025-07-28T10:31:57.406783",
     "exception": false,
     "start_time": "2025-07-28T10:31:57.368830",
     "status": "completed"
    },
    "tags": []
   },
   "outputs": [
    {
     "data": {
      "text/plain": [
       "year\n",
       "2010    1000\n",
       "2011    1000\n",
       "2012    1000\n",
       "2013    1000\n",
       "2014    1000\n",
       "2015    1000\n",
       "2016    1000\n",
       "dtype: int64"
      ]
     },
     "metadata": {},
     "output_type": "display_data"
    }
   ],
   "source": [
    "display(siab_s.groupby(\"year\").size())"
   ]
  },
  {
   "cell_type": "code",
   "execution_count": 17,
   "id": "a561edb4-d032-42cb-8256-22eac1111c64",
   "metadata": {
    "execution": {
     "iopub.execute_input": "2025-07-28T10:31:57.448517Z",
     "iopub.status.busy": "2025-07-28T10:31:57.447784Z",
     "iopub.status.idle": "2025-07-28T10:31:57.731273Z",
     "shell.execute_reply": "2025-07-28T10:31:57.730135Z"
    },
    "papermill": {
     "duration": 0.306798,
     "end_time": "2025-07-28T10:31:57.733711",
     "exception": false,
     "start_time": "2025-07-28T10:31:57.426913",
     "status": "completed"
    },
    "tags": []
   },
   "outputs": [],
   "source": [
    "siab_train = siab_s[siab_s.year < 2015]\n",
    "siab_calib = siab[siab.year == 2015]\n",
    "siab_test = siab[siab.year == 2016]"
   ]
  },
  {
   "cell_type": "code",
   "execution_count": 18,
   "id": "472de16f-c3db-4916-846b-1f0de9cf1746",
   "metadata": {
    "execution": {
     "iopub.execute_input": "2025-07-28T10:31:57.794202Z",
     "iopub.status.busy": "2025-07-28T10:31:57.793143Z",
     "iopub.status.idle": "2025-07-28T10:31:57.802368Z",
     "shell.execute_reply": "2025-07-28T10:31:57.801109Z"
    },
    "papermill": {
     "duration": 0.042682,
     "end_time": "2025-07-28T10:31:57.804685",
     "exception": false,
     "start_time": "2025-07-28T10:31:57.762003",
     "status": "completed"
    },
    "tags": []
   },
   "outputs": [],
   "source": [
    "X_train = siab_train.iloc[:,4:164]\n",
    "y_train = siab_train.iloc[:, [3]]"
   ]
  },
  {
   "cell_type": "code",
   "execution_count": 19,
   "id": "828c96af-f43a-4ed6-ba47-8ac73a47d56c",
   "metadata": {
    "execution": {
     "iopub.execute_input": "2025-07-28T10:31:57.849707Z",
     "iopub.status.busy": "2025-07-28T10:31:57.849025Z",
     "iopub.status.idle": "2025-07-28T10:31:57.902126Z",
     "shell.execute_reply": "2025-07-28T10:31:57.901043Z"
    },
    "papermill": {
     "duration": 0.074461,
     "end_time": "2025-07-28T10:31:57.903962",
     "exception": false,
     "start_time": "2025-07-28T10:31:57.829501",
     "status": "completed"
    },
    "tags": []
   },
   "outputs": [],
   "source": [
    "X_calib = siab_calib.iloc[:,4:164]\n",
    "y_calib = siab_calib.iloc[:, [3]]"
   ]
  },
  {
   "cell_type": "code",
   "execution_count": 20,
   "id": "c34be9c3-6bd6-476e-acd3-845840e303be",
   "metadata": {
    "execution": {
     "iopub.execute_input": "2025-07-28T10:31:57.949894Z",
     "iopub.status.busy": "2025-07-28T10:31:57.949168Z",
     "iopub.status.idle": "2025-07-28T10:31:58.005185Z",
     "shell.execute_reply": "2025-07-28T10:31:58.004037Z"
    },
    "papermill": {
     "duration": 0.081272,
     "end_time": "2025-07-28T10:31:58.007028",
     "exception": false,
     "start_time": "2025-07-28T10:31:57.925756",
     "status": "completed"
    },
    "tags": []
   },
   "outputs": [],
   "source": [
    "X_test = siab_test.iloc[:,4:164]\n",
    "y_true = siab_test.iloc[:, [3]]"
   ]
  },
  {
   "cell_type": "code",
   "execution_count": 21,
   "id": "e6c733c5",
   "metadata": {
    "execution": {
     "iopub.execute_input": "2025-07-28T10:31:58.052352Z",
     "iopub.status.busy": "2025-07-28T10:31:58.051781Z",
     "iopub.status.idle": "2025-07-28T10:31:58.150743Z",
     "shell.execute_reply": "2025-07-28T10:31:58.149750Z"
    },
    "papermill": {
     "duration": 0.12408,
     "end_time": "2025-07-28T10:31:58.152776",
     "exception": false,
     "start_time": "2025-07-28T10:31:58.028696",
     "status": "completed"
    },
    "tags": []
   },
   "outputs": [],
   "source": [
    "# Auxiliary data needed downstream in the pipeline\n",
    "\n",
    "org_train = X_train.copy()\n",
    "org_test = X_test.copy()\n",
    "org_calib = X_calib.copy()"
   ]
  },
  {
   "cell_type": "markdown",
   "id": "0a4a1b33",
   "metadata": {
    "papermill": {
     "duration": 0.021574,
     "end_time": "2025-07-28T10:31:58.195967",
     "exception": false,
     "start_time": "2025-07-28T10:31:58.174393",
     "status": "completed"
    },
    "tags": []
   },
   "source": [
    "# Preprocessing Data"
   ]
  },
  {
   "cell_type": "code",
   "execution_count": 22,
   "id": "ca879031",
   "metadata": {
    "execution": {
     "iopub.execute_input": "2025-07-28T10:31:58.238143Z",
     "iopub.status.busy": "2025-07-28T10:31:58.237463Z",
     "iopub.status.idle": "2025-07-28T10:31:58.243869Z",
     "shell.execute_reply": "2025-07-28T10:31:58.242929Z"
    },
    "papermill": {
     "duration": 0.029928,
     "end_time": "2025-07-28T10:31:58.245502",
     "exception": false,
     "start_time": "2025-07-28T10:31:58.215574",
     "status": "completed"
    },
    "tags": []
   },
   "outputs": [],
   "source": [
    "# EXCLUDE PROTECTED FEATURES\n",
    "# ----------------------\n",
    "# \"exclude_features\": \"none\", # \"nationality\", \"sex\", \"nationality-sex\"\n",
    "\n",
    "excluded_features = universe[\"exclude_features\"].split(\"-\") # split, e.g.: \"nationality-sex\" -> [\"nationality\", \"sex\"]\n",
    "excluded_features_dictionary = {\n",
    "    \"nationality\": [\"maxdeutsch1\", \"maxdeutsch.Missing.\"],\n",
    "    \"sex\": [\"frau1\"],\n",
    "    \"age\": [\"age\"],\n",
    "}\n"
   ]
  },
  {
   "cell_type": "code",
   "execution_count": 23,
   "id": "b745ac60",
   "metadata": {
    "execution": {
     "iopub.execute_input": "2025-07-28T10:31:58.304941Z",
     "iopub.status.busy": "2025-07-28T10:31:58.304518Z",
     "iopub.status.idle": "2025-07-28T10:31:58.310583Z",
     "shell.execute_reply": "2025-07-28T10:31:58.309886Z"
    },
    "papermill": {
     "duration": 0.045435,
     "end_time": "2025-07-28T10:31:58.311877",
     "exception": false,
     "start_time": "2025-07-28T10:31:58.266442",
     "status": "completed"
    },
    "tags": []
   },
   "outputs": [],
   "source": [
    "# Code nice names to column names\n",
    "\n",
    "excluded_features_columns = [\n",
    "    excluded_features_dictionary[f] for f in excluded_features if len(f) > 0 and f != \"none\"\n",
    "]"
   ]
  },
  {
   "cell_type": "code",
   "execution_count": 24,
   "id": "f84f73a2",
   "metadata": {
    "execution": {
     "iopub.execute_input": "2025-07-28T10:31:58.335662Z",
     "iopub.status.busy": "2025-07-28T10:31:58.334793Z",
     "iopub.status.idle": "2025-07-28T10:31:58.341599Z",
     "shell.execute_reply": "2025-07-28T10:31:58.340068Z"
    },
    "papermill": {
     "duration": 0.020735,
     "end_time": "2025-07-28T10:31:58.344131",
     "exception": false,
     "start_time": "2025-07-28T10:31:58.323396",
     "status": "completed"
    },
    "tags": []
   },
   "outputs": [],
   "source": [
    "from utils import flatten_once\n",
    "\n",
    "excluded_features_columns = flatten_once(excluded_features_columns)"
   ]
  },
  {
   "cell_type": "code",
   "execution_count": 25,
   "id": "884dea22",
   "metadata": {
    "execution": {
     "iopub.execute_input": "2025-07-28T10:31:58.405867Z",
     "iopub.status.busy": "2025-07-28T10:31:58.405126Z",
     "iopub.status.idle": "2025-07-28T10:31:58.415254Z",
     "shell.execute_reply": "2025-07-28T10:31:58.414246Z"
    },
    "papermill": {
     "duration": 0.043395,
     "end_time": "2025-07-28T10:31:58.417282",
     "exception": false,
     "start_time": "2025-07-28T10:31:58.373887",
     "status": "completed"
    },
    "tags": []
   },
   "outputs": [
    {
     "name": "stdout",
     "output_type": "stream",
     "text": [
      "Dropping features: ['frau1']\n"
     ]
    }
   ],
   "source": [
    "if len(excluded_features_columns) > 0:\n",
    "    print(f\"Dropping features: {excluded_features_columns}\")\n",
    "    X_train.drop(excluded_features_columns, axis=1, inplace=True)"
   ]
  },
  {
   "cell_type": "code",
   "execution_count": 26,
   "id": "95ab8b16",
   "metadata": {
    "execution": {
     "iopub.execute_input": "2025-07-28T10:31:58.480868Z",
     "iopub.status.busy": "2025-07-28T10:31:58.480123Z",
     "iopub.status.idle": "2025-07-28T10:31:58.541063Z",
     "shell.execute_reply": "2025-07-28T10:31:58.540072Z"
    },
    "papermill": {
     "duration": 0.095796,
     "end_time": "2025-07-28T10:31:58.542711",
     "exception": false,
     "start_time": "2025-07-28T10:31:58.446915",
     "status": "completed"
    },
    "tags": []
   },
   "outputs": [
    {
     "name": "stdout",
     "output_type": "stream",
     "text": [
      "Dropping features: ['frau1']\n"
     ]
    }
   ],
   "source": [
    "if len(excluded_features_columns) > 0:\n",
    "    print(f\"Dropping features: {excluded_features_columns}\")\n",
    "    X_test.drop(excluded_features_columns, axis=1, inplace=True)"
   ]
  },
  {
   "cell_type": "code",
   "execution_count": 27,
   "id": "1853aaf5-fb9f-46cb-a2b5-8ea4ae2237e4",
   "metadata": {
    "execution": {
     "iopub.execute_input": "2025-07-28T10:31:58.583966Z",
     "iopub.status.busy": "2025-07-28T10:31:58.583229Z",
     "iopub.status.idle": "2025-07-28T10:31:58.636425Z",
     "shell.execute_reply": "2025-07-28T10:31:58.635327Z"
    },
    "papermill": {
     "duration": 0.076938,
     "end_time": "2025-07-28T10:31:58.639299",
     "exception": false,
     "start_time": "2025-07-28T10:31:58.562361",
     "status": "completed"
    },
    "tags": []
   },
   "outputs": [
    {
     "name": "stdout",
     "output_type": "stream",
     "text": [
      "Dropping features: ['frau1']\n"
     ]
    }
   ],
   "source": [
    "if len(excluded_features_columns) > 0:\n",
    "    print(f\"Dropping features: {excluded_features_columns}\")\n",
    "    X_calib.drop(excluded_features_columns, axis=1, inplace=True)"
   ]
  },
  {
   "cell_type": "code",
   "execution_count": 28,
   "id": "6727d079-03e5-481e-9d38-292a90b7a0a8",
   "metadata": {
    "execution": {
     "iopub.execute_input": "2025-07-28T10:31:58.686202Z",
     "iopub.status.busy": "2025-07-28T10:31:58.685508Z",
     "iopub.status.idle": "2025-07-28T10:31:58.690849Z",
     "shell.execute_reply": "2025-07-28T10:31:58.689858Z"
    },
    "papermill": {
     "duration": 0.030891,
     "end_time": "2025-07-28T10:31:58.692671",
     "exception": false,
     "start_time": "2025-07-28T10:31:58.661780",
     "status": "completed"
    },
    "tags": []
   },
   "outputs": [],
   "source": [
    "# SPLIT & STRATIFY DATA\n",
    "# ----------------------"
   ]
  },
  {
   "cell_type": "code",
   "execution_count": 29,
   "id": "76c4dc6d",
   "metadata": {
    "execution": {
     "iopub.execute_input": "2025-07-28T10:31:58.738691Z",
     "iopub.status.busy": "2025-07-28T10:31:58.738150Z",
     "iopub.status.idle": "2025-07-28T10:31:58.744110Z",
     "shell.execute_reply": "2025-07-28T10:31:58.743094Z"
    },
    "papermill": {
     "duration": 0.030301,
     "end_time": "2025-07-28T10:31:58.745840",
     "exception": false,
     "start_time": "2025-07-28T10:31:58.715539",
     "status": "completed"
    },
    "tags": []
   },
   "outputs": [],
   "source": [
    "# EXCLUDE CERTAIN SUBGROUPS\n",
    "# ----------------------\n",
    "\n",
    "mode = universe.get(\"exclude_subgroups\", \"keep-all\") \n",
    "# Fetches the exclude_subgroups setting from the universe dict.\n",
    "# Defaults to \"keep-all\" if the key is missing."
   ]
  },
  {
   "cell_type": "code",
   "execution_count": 30,
   "id": "21994072",
   "metadata": {
    "execution": {
     "iopub.execute_input": "2025-07-28T10:31:58.791472Z",
     "iopub.status.busy": "2025-07-28T10:31:58.790733Z",
     "iopub.status.idle": "2025-07-28T10:31:58.798484Z",
     "shell.execute_reply": "2025-07-28T10:31:58.797403Z"
    },
    "papermill": {
     "duration": 0.03276,
     "end_time": "2025-07-28T10:31:58.800332",
     "exception": false,
     "start_time": "2025-07-28T10:31:58.767572",
     "status": "completed"
    },
    "tags": []
   },
   "outputs": [],
   "source": [
    "if mode == \"keep-all\":\n",
    "    keep_mask = pd.Series(True, index=org_train.index)\n",
    "\n",
    "# org_train contains the original feature columns from features_org (in Simson)\n",
    "# features_org contains unprocessed features, for me X_train at beginning ???\n",
    "# For keep-all, creates a boolean Series (keep_mask) of all True, so no rows are removed.\n",
    "\n",
    "elif mode == \"drop-non-german\":\n",
    "    keep_mask = org_train[\"maxdeutsch1\"] == 1 # ??? what about missing values?\n",
    "\n",
    "else:\n",
    "    raise ValueError(f\"Unsupported mode for exclude_subgroups: {mode}\")\n"
   ]
  },
  {
   "cell_type": "code",
   "execution_count": 31,
   "id": "71651440",
   "metadata": {
    "execution": {
     "iopub.execute_input": "2025-07-28T10:31:58.845617Z",
     "iopub.status.busy": "2025-07-28T10:31:58.844872Z",
     "iopub.status.idle": "2025-07-28T10:31:58.852210Z",
     "shell.execute_reply": "2025-07-28T10:31:58.851123Z"
    },
    "papermill": {
     "duration": 0.031912,
     "end_time": "2025-07-28T10:31:58.853985",
     "exception": false,
     "start_time": "2025-07-28T10:31:58.822073",
     "status": "completed"
    },
    "tags": []
   },
   "outputs": [],
   "source": [
    "n_drop = (~keep_mask).sum() # Calculates how many rows are set to be dropped\n",
    "if n_drop > 0:\n",
    "    pct = n_drop / len(keep_mask) * 100\n",
    "    print(f\"Dropping {n_drop} rows ({pct:.2f}%) where mode='{mode}'\")"
   ]
  },
  {
   "cell_type": "code",
   "execution_count": 32,
   "id": "5fb8eee5",
   "metadata": {
    "execution": {
     "iopub.execute_input": "2025-07-28T10:31:58.899131Z",
     "iopub.status.busy": "2025-07-28T10:31:58.898388Z",
     "iopub.status.idle": "2025-07-28T10:31:58.906469Z",
     "shell.execute_reply": "2025-07-28T10:31:58.905536Z"
    },
    "papermill": {
     "duration": 0.032822,
     "end_time": "2025-07-28T10:31:58.908354",
     "exception": false,
     "start_time": "2025-07-28T10:31:58.875532",
     "status": "completed"
    },
    "tags": []
   },
   "outputs": [],
   "source": [
    "X_train = X_train[keep_mask]"
   ]
  },
  {
   "cell_type": "code",
   "execution_count": 33,
   "id": "b202bb3a",
   "metadata": {
    "execution": {
     "iopub.execute_input": "2025-07-28T10:31:58.952163Z",
     "iopub.status.busy": "2025-07-28T10:31:58.951429Z",
     "iopub.status.idle": "2025-07-28T10:31:58.958206Z",
     "shell.execute_reply": "2025-07-28T10:31:58.957161Z"
    },
    "papermill": {
     "duration": 0.030022,
     "end_time": "2025-07-28T10:31:58.960084",
     "exception": false,
     "start_time": "2025-07-28T10:31:58.930062",
     "status": "completed"
    },
    "tags": []
   },
   "outputs": [],
   "source": [
    "y_train = y_train[keep_mask]"
   ]
  },
  {
   "cell_type": "markdown",
   "id": "493e2ac3",
   "metadata": {
    "papermill": {
     "duration": 0.023199,
     "end_time": "2025-07-28T10:31:59.004112",
     "exception": false,
     "start_time": "2025-07-28T10:31:58.980913",
     "status": "completed"
    },
    "tags": []
   },
   "source": [
    "# Model Training"
   ]
  },
  {
   "cell_type": "code",
   "execution_count": 34,
   "id": "679e1268",
   "metadata": {
    "execution": {
     "iopub.execute_input": "2025-07-28T10:31:59.048683Z",
     "iopub.status.busy": "2025-07-28T10:31:59.048211Z",
     "iopub.status.idle": "2025-07-28T10:31:59.129622Z",
     "shell.execute_reply": "2025-07-28T10:31:59.128818Z"
    },
    "papermill": {
     "duration": 0.103882,
     "end_time": "2025-07-28T10:31:59.131249",
     "exception": false,
     "start_time": "2025-07-28T10:31:59.027367",
     "status": "completed"
    },
    "tags": []
   },
   "outputs": [],
   "source": [
    "from sklearn.linear_model import LogisticRegression\n",
    "from sklearn.ensemble import GradientBoostingClassifier, RandomForestClassifier\n",
    "\n",
    "if (universe[\"model\"] == \"logreg\"):\n",
    "    model = LogisticRegression() #penalty=\"none\") #, solver=\"newton-cg\", max_iter=1) # include random_state=19 ?\n",
    "elif (universe[\"model\"] == \"penalized_logreg\"):\n",
    "    model = LogisticRegression(penalty=\"l2\", C=1.0) #, solver=\"newton-cg\", max_iter=1)\n",
    "elif (universe[\"model\"] == \"rf\"):\n",
    "    model = RandomForestClassifier(n_estimators=100, n_jobs=-1)\n",
    "elif (universe[\"model\"] == \"gbm\"):\n",
    "    model = GradientBoostingClassifier()\n",
    "elif (universe[\"model\"] == \"elasticnet\"):\n",
    "    model = LogisticRegression(penalty = 'elasticnet', solver = 'saga', l1_ratio = 0.5, max_iter=5000) # which solver to use?\n",
    "else:\n",
    "    raise \"Unsupported universe.model\""
   ]
  },
  {
   "cell_type": "code",
   "execution_count": 35,
   "id": "0cc8f744",
   "metadata": {
    "execution": {
     "iopub.execute_input": "2025-07-28T10:31:59.157184Z",
     "iopub.status.busy": "2025-07-28T10:31:59.156676Z",
     "iopub.status.idle": "2025-07-28T10:31:59.162313Z",
     "shell.execute_reply": "2025-07-28T10:31:59.161553Z"
    },
    "papermill": {
     "duration": 0.020354,
     "end_time": "2025-07-28T10:31:59.163780",
     "exception": false,
     "start_time": "2025-07-28T10:31:59.143426",
     "status": "completed"
    },
    "tags": []
   },
   "outputs": [],
   "source": [
    "import numpy as np\n",
    "from sklearn.pipeline import Pipeline\n",
    "from sklearn.preprocessing import StandardScaler\n",
    "\n",
    "model = Pipeline([\n",
    "    #(\"continuous_processor\", continuous_processor),\n",
    "    #(\"categorical_preprocessor\", categorical_preprocessor),\n",
    "    (\"scale\", StandardScaler() if universe[\"scale\"] == \"scale\" else None), \n",
    "    (\"model\", model),\n",
    "])"
   ]
  },
  {
   "cell_type": "code",
   "execution_count": 36,
   "id": "9442c04d",
   "metadata": {
    "execution": {
     "iopub.execute_input": "2025-07-28T10:31:59.190047Z",
     "iopub.status.busy": "2025-07-28T10:31:59.189484Z",
     "iopub.status.idle": "2025-07-28T10:32:03.535026Z",
     "shell.execute_reply": "2025-07-28T10:32:03.534287Z"
    },
    "papermill": {
     "duration": 4.359775,
     "end_time": "2025-07-28T10:32:03.536304",
     "exception": false,
     "start_time": "2025-07-28T10:31:59.176529",
     "status": "completed"
    },
    "tags": []
   },
   "outputs": [
    {
     "data": {
      "text/html": [
       "<style>#sk-container-id-1 {color: black;background-color: white;}#sk-container-id-1 pre{padding: 0;}#sk-container-id-1 div.sk-toggleable {background-color: white;}#sk-container-id-1 label.sk-toggleable__label {cursor: pointer;display: block;width: 100%;margin-bottom: 0;padding: 0.3em;box-sizing: border-box;text-align: center;}#sk-container-id-1 label.sk-toggleable__label-arrow:before {content: \"▸\";float: left;margin-right: 0.25em;color: #696969;}#sk-container-id-1 label.sk-toggleable__label-arrow:hover:before {color: black;}#sk-container-id-1 div.sk-estimator:hover label.sk-toggleable__label-arrow:before {color: black;}#sk-container-id-1 div.sk-toggleable__content {max-height: 0;max-width: 0;overflow: hidden;text-align: left;background-color: #f0f8ff;}#sk-container-id-1 div.sk-toggleable__content pre {margin: 0.2em;color: black;border-radius: 0.25em;background-color: #f0f8ff;}#sk-container-id-1 input.sk-toggleable__control:checked~div.sk-toggleable__content {max-height: 200px;max-width: 100%;overflow: auto;}#sk-container-id-1 input.sk-toggleable__control:checked~label.sk-toggleable__label-arrow:before {content: \"▾\";}#sk-container-id-1 div.sk-estimator input.sk-toggleable__control:checked~label.sk-toggleable__label {background-color: #d4ebff;}#sk-container-id-1 div.sk-label input.sk-toggleable__control:checked~label.sk-toggleable__label {background-color: #d4ebff;}#sk-container-id-1 input.sk-hidden--visually {border: 0;clip: rect(1px 1px 1px 1px);clip: rect(1px, 1px, 1px, 1px);height: 1px;margin: -1px;overflow: hidden;padding: 0;position: absolute;width: 1px;}#sk-container-id-1 div.sk-estimator {font-family: monospace;background-color: #f0f8ff;border: 1px dotted black;border-radius: 0.25em;box-sizing: border-box;margin-bottom: 0.5em;}#sk-container-id-1 div.sk-estimator:hover {background-color: #d4ebff;}#sk-container-id-1 div.sk-parallel-item::after {content: \"\";width: 100%;border-bottom: 1px solid gray;flex-grow: 1;}#sk-container-id-1 div.sk-label:hover label.sk-toggleable__label {background-color: #d4ebff;}#sk-container-id-1 div.sk-serial::before {content: \"\";position: absolute;border-left: 1px solid gray;box-sizing: border-box;top: 0;bottom: 0;left: 50%;z-index: 0;}#sk-container-id-1 div.sk-serial {display: flex;flex-direction: column;align-items: center;background-color: white;padding-right: 0.2em;padding-left: 0.2em;position: relative;}#sk-container-id-1 div.sk-item {position: relative;z-index: 1;}#sk-container-id-1 div.sk-parallel {display: flex;align-items: stretch;justify-content: center;background-color: white;position: relative;}#sk-container-id-1 div.sk-item::before, #sk-container-id-1 div.sk-parallel-item::before {content: \"\";position: absolute;border-left: 1px solid gray;box-sizing: border-box;top: 0;bottom: 0;left: 50%;z-index: -1;}#sk-container-id-1 div.sk-parallel-item {display: flex;flex-direction: column;z-index: 1;position: relative;background-color: white;}#sk-container-id-1 div.sk-parallel-item:first-child::after {align-self: flex-end;width: 50%;}#sk-container-id-1 div.sk-parallel-item:last-child::after {align-self: flex-start;width: 50%;}#sk-container-id-1 div.sk-parallel-item:only-child::after {width: 0;}#sk-container-id-1 div.sk-dashed-wrapped {border: 1px dashed gray;margin: 0 0.4em 0.5em 0.4em;box-sizing: border-box;padding-bottom: 0.4em;background-color: white;}#sk-container-id-1 div.sk-label label {font-family: monospace;font-weight: bold;display: inline-block;line-height: 1.2em;}#sk-container-id-1 div.sk-label-container {text-align: center;}#sk-container-id-1 div.sk-container {/* jupyter's `normalize.less` sets `[hidden] { display: none; }` but bootstrap.min.css set `[hidden] { display: none !important; }` so we also need the `!important` here to be able to override the default hidden behavior on the sphinx rendered scikit-learn.org. See: https://github.com/scikit-learn/scikit-learn/issues/21755 */display: inline-block !important;position: relative;}#sk-container-id-1 div.sk-text-repr-fallback {display: none;}</style><div id=\"sk-container-id-1\" class=\"sk-top-container\"><div class=\"sk-text-repr-fallback\"><pre>Pipeline(steps=[(&#x27;scale&#x27;, StandardScaler()),\n",
       "                (&#x27;model&#x27;, GradientBoostingClassifier())])</pre><b>In a Jupyter environment, please rerun this cell to show the HTML representation or trust the notebook. <br />On GitHub, the HTML representation is unable to render, please try loading this page with nbviewer.org.</b></div><div class=\"sk-container\" hidden><div class=\"sk-item sk-dashed-wrapped\"><div class=\"sk-label-container\"><div class=\"sk-label sk-toggleable\"><input class=\"sk-toggleable__control sk-hidden--visually\" id=\"sk-estimator-id-1\" type=\"checkbox\" ><label for=\"sk-estimator-id-1\" class=\"sk-toggleable__label sk-toggleable__label-arrow\">Pipeline</label><div class=\"sk-toggleable__content\"><pre>Pipeline(steps=[(&#x27;scale&#x27;, StandardScaler()),\n",
       "                (&#x27;model&#x27;, GradientBoostingClassifier())])</pre></div></div></div><div class=\"sk-serial\"><div class=\"sk-item\"><div class=\"sk-estimator sk-toggleable\"><input class=\"sk-toggleable__control sk-hidden--visually\" id=\"sk-estimator-id-2\" type=\"checkbox\" ><label for=\"sk-estimator-id-2\" class=\"sk-toggleable__label sk-toggleable__label-arrow\">StandardScaler</label><div class=\"sk-toggleable__content\"><pre>StandardScaler()</pre></div></div></div><div class=\"sk-item\"><div class=\"sk-estimator sk-toggleable\"><input class=\"sk-toggleable__control sk-hidden--visually\" id=\"sk-estimator-id-3\" type=\"checkbox\" ><label for=\"sk-estimator-id-3\" class=\"sk-toggleable__label sk-toggleable__label-arrow\">GradientBoostingClassifier</label><div class=\"sk-toggleable__content\"><pre>GradientBoostingClassifier()</pre></div></div></div></div></div></div></div>"
      ],
      "text/plain": [
       "Pipeline(steps=[('scale', StandardScaler()),\n",
       "                ('model', GradientBoostingClassifier())])"
      ]
     },
     "execution_count": 36,
     "metadata": {},
     "output_type": "execute_result"
    }
   ],
   "source": [
    "model.fit(X_train, y_train.values.ravel())"
   ]
  },
  {
   "cell_type": "code",
   "execution_count": 37,
   "id": "af59f8c0",
   "metadata": {
    "execution": {
     "iopub.execute_input": "2025-07-28T10:32:03.564458Z",
     "iopub.status.busy": "2025-07-28T10:32:03.563850Z",
     "iopub.status.idle": "2025-07-28T10:32:03.568260Z",
     "shell.execute_reply": "2025-07-28T10:32:03.567470Z"
    },
    "papermill": {
     "duration": 0.018135,
     "end_time": "2025-07-28T10:32:03.569572",
     "exception": false,
     "start_time": "2025-07-28T10:32:03.551437",
     "status": "completed"
    },
    "tags": []
   },
   "outputs": [],
   "source": [
    "from fairness_multiverse.universe import predict_w_threshold"
   ]
  },
  {
   "cell_type": "code",
   "execution_count": 38,
   "id": "a7cf2e16",
   "metadata": {
    "execution": {
     "iopub.execute_input": "2025-07-28T10:32:03.598183Z",
     "iopub.status.busy": "2025-07-28T10:32:03.597761Z",
     "iopub.status.idle": "2025-07-28T10:32:04.342900Z",
     "shell.execute_reply": "2025-07-28T10:32:04.341932Z"
    },
    "papermill": {
     "duration": 0.762822,
     "end_time": "2025-07-28T10:32:04.344567",
     "exception": false,
     "start_time": "2025-07-28T10:32:03.581745",
     "status": "completed"
    },
    "tags": []
   },
   "outputs": [
    {
     "data": {
      "text/plain": [
       "0.8623787760561811"
      ]
     },
     "execution_count": 38,
     "metadata": {},
     "output_type": "execute_result"
    }
   ],
   "source": [
    "probs_test = model.predict_proba(X_test)\n",
    "\n",
    "'''\n",
    "Below code returns a boolean array (or binary 0/1 array depending on how it’s used) where each element \n",
    "is True if the probability of class 1 is greater than or equal to the threshold, and False otherwise.\n",
    "'''\n",
    "y_pred_default = predict_w_threshold(probs_test, 0.5)\n",
    "\n",
    "from sklearn.metrics import accuracy_score\n",
    "\n",
    "# Naive prediction\n",
    "accuracy_score(y_true = y_true, y_pred = y_pred_default)"
   ]
  },
  {
   "cell_type": "code",
   "execution_count": 39,
   "id": "081964c3",
   "metadata": {
    "execution": {
     "iopub.execute_input": "2025-07-28T10:32:04.391466Z",
     "iopub.status.busy": "2025-07-28T10:32:04.390451Z",
     "iopub.status.idle": "2025-07-28T10:32:05.131958Z",
     "shell.execute_reply": "2025-07-28T10:32:05.131120Z"
    },
    "papermill": {
     "duration": 0.766468,
     "end_time": "2025-07-28T10:32:05.133718",
     "exception": false,
     "start_time": "2025-07-28T10:32:04.367250",
     "status": "completed"
    },
    "tags": []
   },
   "outputs": [
    {
     "data": {
      "text/plain": [
       "array([0, 0, 0, ..., 0, 0, 0])"
      ]
     },
     "execution_count": 39,
     "metadata": {},
     "output_type": "execute_result"
    }
   ],
   "source": [
    "model.predict(X_test)"
   ]
  },
  {
   "cell_type": "markdown",
   "id": "56c9705b",
   "metadata": {
    "papermill": {
     "duration": 0.022733,
     "end_time": "2025-07-28T10:32:05.180820",
     "exception": false,
     "start_time": "2025-07-28T10:32:05.158087",
     "status": "completed"
    },
    "tags": []
   },
   "source": [
    "# Conformal Prediction"
   ]
  },
  {
   "cell_type": "code",
   "execution_count": 40,
   "id": "160ec6ff",
   "metadata": {
    "execution": {
     "iopub.execute_input": "2025-07-28T10:32:05.225635Z",
     "iopub.status.busy": "2025-07-28T10:32:05.225161Z",
     "iopub.status.idle": "2025-07-28T10:32:05.230576Z",
     "shell.execute_reply": "2025-07-28T10:32:05.229568Z"
    },
    "papermill": {
     "duration": 0.02964,
     "end_time": "2025-07-28T10:32:05.232205",
     "exception": false,
     "start_time": "2025-07-28T10:32:05.202565",
     "status": "completed"
    },
    "tags": []
   },
   "outputs": [],
   "source": [
    "# Miscoverage level for conformal prediction (10% allowed error rate => 90% target coverage)\n",
    "alpha = 0.1"
   ]
  },
  {
   "cell_type": "code",
   "execution_count": 41,
   "id": "eadf4555-3dd3-440e-8e35-f82a4ad9f855",
   "metadata": {
    "execution": {
     "iopub.execute_input": "2025-07-28T10:32:05.277564Z",
     "iopub.status.busy": "2025-07-28T10:32:05.277091Z",
     "iopub.status.idle": "2025-07-28T10:32:05.929957Z",
     "shell.execute_reply": "2025-07-28T10:32:05.928850Z"
    },
    "papermill": {
     "duration": 0.677362,
     "end_time": "2025-07-28T10:32:05.931799",
     "exception": false,
     "start_time": "2025-07-28T10:32:05.254437",
     "status": "completed"
    },
    "tags": []
   },
   "outputs": [],
   "source": [
    "probs_calib = model.predict_proba(X_calib)"
   ]
  },
  {
   "cell_type": "code",
   "execution_count": 42,
   "id": "2ed93547-6d5d-4983-9b36-1ecb300da49a",
   "metadata": {
    "execution": {
     "iopub.execute_input": "2025-07-28T10:32:05.977749Z",
     "iopub.status.busy": "2025-07-28T10:32:05.977032Z",
     "iopub.status.idle": "2025-07-28T10:32:05.983075Z",
     "shell.execute_reply": "2025-07-28T10:32:05.982257Z"
    },
    "papermill": {
     "duration": 0.030454,
     "end_time": "2025-07-28T10:32:05.984636",
     "exception": false,
     "start_time": "2025-07-28T10:32:05.954182",
     "status": "completed"
    },
    "tags": []
   },
   "outputs": [],
   "source": [
    "y_calib = y_calib.values.ravel().astype(int)"
   ]
  },
  {
   "cell_type": "code",
   "execution_count": 43,
   "id": "65d1320d-f588-4b38-9072-62af1ae97f7d",
   "metadata": {
    "execution": {
     "iopub.execute_input": "2025-07-28T10:32:06.031693Z",
     "iopub.status.busy": "2025-07-28T10:32:06.030927Z",
     "iopub.status.idle": "2025-07-28T10:32:06.039204Z",
     "shell.execute_reply": "2025-07-28T10:32:06.038253Z"
    },
    "papermill": {
     "duration": 0.033888,
     "end_time": "2025-07-28T10:32:06.041023",
     "exception": false,
     "start_time": "2025-07-28T10:32:06.007135",
     "status": "completed"
    },
    "tags": []
   },
   "outputs": [],
   "source": [
    "from fairness_multiverse.conformal import compute_nc_scores\n",
    "\n",
    "# Compute nonconformity scores on calibration set (1 - probability of true class)\n",
    "nc_scores = compute_nc_scores(probs_calib, y_calib)"
   ]
  },
  {
   "cell_type": "code",
   "execution_count": 44,
   "id": "df3b8ca3-53b7-43d5-9667-7c85da7aeda2",
   "metadata": {
    "execution": {
     "iopub.execute_input": "2025-07-28T10:32:06.088087Z",
     "iopub.status.busy": "2025-07-28T10:32:06.087370Z",
     "iopub.status.idle": "2025-07-28T10:32:06.094586Z",
     "shell.execute_reply": "2025-07-28T10:32:06.093694Z"
    },
    "papermill": {
     "duration": 0.032761,
     "end_time": "2025-07-28T10:32:06.096391",
     "exception": false,
     "start_time": "2025-07-28T10:32:06.063630",
     "status": "completed"
    },
    "tags": []
   },
   "outputs": [],
   "source": [
    "from fairness_multiverse.conformal import find_threshold\n",
    "\n",
    "# Find conformal threshold q_hat for the given alpha (split conformal method)\n",
    "q_hat = find_threshold(nc_scores, alpha)"
   ]
  },
  {
   "cell_type": "code",
   "execution_count": 45,
   "id": "4d29e6c1-0ef6-4aa4-b8fe-4fe79b0d033a",
   "metadata": {
    "execution": {
     "iopub.execute_input": "2025-07-28T10:32:06.143204Z",
     "iopub.status.busy": "2025-07-28T10:32:06.142659Z",
     "iopub.status.idle": "2025-07-28T10:32:06.149795Z",
     "shell.execute_reply": "2025-07-28T10:32:06.148813Z"
    },
    "papermill": {
     "duration": 0.032446,
     "end_time": "2025-07-28T10:32:06.151410",
     "exception": false,
     "start_time": "2025-07-28T10:32:06.118964",
     "status": "completed"
    },
    "tags": []
   },
   "outputs": [
    {
     "data": {
      "text/plain": [
       "0.6850738445123488"
      ]
     },
     "execution_count": 45,
     "metadata": {},
     "output_type": "execute_result"
    }
   ],
   "source": [
    "q_hat"
   ]
  },
  {
   "cell_type": "code",
   "execution_count": 46,
   "id": "92460794-cdac-4be2-ba28-f28c0515a6fb",
   "metadata": {
    "execution": {
     "iopub.execute_input": "2025-07-28T10:32:06.199522Z",
     "iopub.status.busy": "2025-07-28T10:32:06.198866Z",
     "iopub.status.idle": "2025-07-28T10:32:07.603397Z",
     "shell.execute_reply": "2025-07-28T10:32:07.602475Z"
    },
    "papermill": {
     "duration": 1.430028,
     "end_time": "2025-07-28T10:32:07.605440",
     "exception": false,
     "start_time": "2025-07-28T10:32:06.175412",
     "status": "completed"
    },
    "tags": []
   },
   "outputs": [],
   "source": [
    "from fairness_multiverse.conformal import predict_conformal_sets\n",
    "\n",
    "# Generate prediction sets for each test example\n",
    "pred_sets = predict_conformal_sets(model, X_test, q_hat)"
   ]
  },
  {
   "cell_type": "code",
   "execution_count": 47,
   "id": "d90c9a65-e6db-4f5d-80cd-e68fb7e46829",
   "metadata": {
    "execution": {
     "iopub.execute_input": "2025-07-28T10:32:07.653218Z",
     "iopub.status.busy": "2025-07-28T10:32:07.652503Z",
     "iopub.status.idle": "2025-07-28T10:32:07.658514Z",
     "shell.execute_reply": "2025-07-28T10:32:07.657540Z"
    },
    "papermill": {
     "duration": 0.03156,
     "end_time": "2025-07-28T10:32:07.660319",
     "exception": false,
     "start_time": "2025-07-28T10:32:07.628759",
     "status": "completed"
    },
    "tags": []
   },
   "outputs": [],
   "source": [
    "y_true = y_true.squeeze()"
   ]
  },
  {
   "cell_type": "code",
   "execution_count": 48,
   "id": "3a58a54a-1e68-46b9-927a-df01f18aebc8",
   "metadata": {
    "execution": {
     "iopub.execute_input": "2025-07-28T10:32:07.706516Z",
     "iopub.status.busy": "2025-07-28T10:32:07.705848Z",
     "iopub.status.idle": "2025-07-28T10:32:08.661583Z",
     "shell.execute_reply": "2025-07-28T10:32:08.660599Z"
    },
    "papermill": {
     "duration": 0.980945,
     "end_time": "2025-07-28T10:32:08.663558",
     "exception": false,
     "start_time": "2025-07-28T10:32:07.682613",
     "status": "completed"
    },
    "tags": []
   },
   "outputs": [],
   "source": [
    "from fairness_multiverse.conformal import evaluate_sets\n",
    "\n",
    "# Evaluate coverage and average set size on test data\n",
    "metrics = evaluate_sets(pred_sets, y_true)"
   ]
  },
  {
   "cell_type": "markdown",
   "id": "2b569c12-9aaa-4c88-98c9-bbcd0cf3ebb8",
   "metadata": {
    "papermill": {
     "duration": 0.023049,
     "end_time": "2025-07-28T10:32:08.723237",
     "exception": false,
     "start_time": "2025-07-28T10:32:08.700188",
     "status": "completed"
    },
    "tags": []
   },
   "source": [
    "# CP Metrics"
   ]
  },
  {
   "cell_type": "code",
   "execution_count": 49,
   "id": "5ce0a5cb-201f-45a0-ade5-94c7f0bd6095",
   "metadata": {
    "execution": {
     "iopub.execute_input": "2025-07-28T10:32:08.773674Z",
     "iopub.status.busy": "2025-07-28T10:32:08.773161Z",
     "iopub.status.idle": "2025-07-28T10:32:08.780439Z",
     "shell.execute_reply": "2025-07-28T10:32:08.779449Z"
    },
    "papermill": {
     "duration": 0.03567,
     "end_time": "2025-07-28T10:32:08.782062",
     "exception": false,
     "start_time": "2025-07-28T10:32:08.746392",
     "status": "completed"
    },
    "tags": []
   },
   "outputs": [
    {
     "data": {
      "text/plain": [
       "{'coverage': 0.9108237654665032, 'avg_size': 1.13092185932449}"
      ]
     },
     "execution_count": 49,
     "metadata": {},
     "output_type": "execute_result"
    }
   ],
   "source": [
    "metrics"
   ]
  },
  {
   "cell_type": "code",
   "execution_count": 50,
   "id": "9b9a838d-31c9-430b-ae14-12baee460d17",
   "metadata": {
    "execution": {
     "iopub.execute_input": "2025-07-28T10:32:08.830918Z",
     "iopub.status.busy": "2025-07-28T10:32:08.830455Z",
     "iopub.status.idle": "2025-07-28T10:32:08.838703Z",
     "shell.execute_reply": "2025-07-28T10:32:08.835784Z"
    },
    "papermill": {
     "duration": 0.035102,
     "end_time": "2025-07-28T10:32:08.840529",
     "exception": false,
     "start_time": "2025-07-28T10:32:08.805427",
     "status": "completed"
    },
    "tags": []
   },
   "outputs": [],
   "source": [
    "example_universe = universe.copy()\n",
    "universe_training_size = example_universe.get(\"training_size\")\n",
    "universe_scale = example_universe.get(\"scale\")\n",
    "universe_model = example_universe.get(\"model\")\n",
    "universe_exclude_features = example_universe.get(\"exclude_features\")\n",
    "universe_exclude_subgroups = example_universe.get(\"exclude_subgroups\")"
   ]
  },
  {
   "cell_type": "code",
   "execution_count": 51,
   "id": "f4b6a8ac-9dc0-4245-8a91-5b3b5999c4f9",
   "metadata": {
    "execution": {
     "iopub.execute_input": "2025-07-28T10:32:08.889123Z",
     "iopub.status.busy": "2025-07-28T10:32:08.888439Z",
     "iopub.status.idle": "2025-07-28T10:32:08.895115Z",
     "shell.execute_reply": "2025-07-28T10:32:08.894190Z"
    },
    "papermill": {
     "duration": 0.032648,
     "end_time": "2025-07-28T10:32:08.897020",
     "exception": false,
     "start_time": "2025-07-28T10:32:08.864372",
     "status": "completed"
    },
    "tags": []
   },
   "outputs": [],
   "source": [
    "cp_metrics_dict = {\n",
    "    \"universe_id\": [universe_id],\n",
    "    \"universe_training_size\": [universe_training_size],\n",
    "    \"universe_scale\": [universe_scale],\n",
    "    \"universe_model\": [universe_model],\n",
    "    \"universe_exclude_features\": [universe_exclude_features],\n",
    "    \"universe_exclude_subgroups\": [universe_exclude_subgroups],\n",
    "    \"q_hat\": [q_hat],\n",
    "    \"coverage\": [metrics[\"coverage\"]],\n",
    "    \"avg_size\": [metrics[\"avg_size\"]],\n",
    "}"
   ]
  },
  {
   "cell_type": "code",
   "execution_count": 52,
   "id": "908acbb1-0371-4915-85ca-3fa520d2efe2",
   "metadata": {
    "execution": {
     "iopub.execute_input": "2025-07-28T10:32:08.945000Z",
     "iopub.status.busy": "2025-07-28T10:32:08.944523Z",
     "iopub.status.idle": "2025-07-28T10:32:08.951800Z",
     "shell.execute_reply": "2025-07-28T10:32:08.950937Z"
    },
    "papermill": {
     "duration": 0.039358,
     "end_time": "2025-07-28T10:32:08.959262",
     "exception": false,
     "start_time": "2025-07-28T10:32:08.919904",
     "status": "completed"
    },
    "tags": []
   },
   "outputs": [
    {
     "data": {
      "text/plain": [
       "{'universe_id': ['7191a92119b1a7c56f1faedc3fdd4a50'],\n",
       " 'universe_training_size': ['5k'],\n",
       " 'universe_scale': ['scale'],\n",
       " 'universe_model': ['gbm'],\n",
       " 'universe_exclude_features': ['sex'],\n",
       " 'universe_exclude_subgroups': ['keep-all'],\n",
       " 'q_hat': [0.6850738445123488],\n",
       " 'coverage': [0.9108237654665032],\n",
       " 'avg_size': [1.13092185932449]}"
      ]
     },
     "execution_count": 52,
     "metadata": {},
     "output_type": "execute_result"
    }
   ],
   "source": [
    "cp_metrics_dict"
   ]
  },
  {
   "cell_type": "code",
   "execution_count": 53,
   "id": "33007efc-14e9-4ec6-97ac-56a455c82265",
   "metadata": {
    "execution": {
     "iopub.execute_input": "2025-07-28T10:32:09.007293Z",
     "iopub.status.busy": "2025-07-28T10:32:09.006319Z",
     "iopub.status.idle": "2025-07-28T10:32:09.015169Z",
     "shell.execute_reply": "2025-07-28T10:32:09.012580Z"
    },
    "papermill": {
     "duration": 0.034436,
     "end_time": "2025-07-28T10:32:09.016893",
     "exception": false,
     "start_time": "2025-07-28T10:32:08.982457",
     "status": "completed"
    },
    "tags": []
   },
   "outputs": [],
   "source": [
    "cp_metrics_df = pd.DataFrame(cp_metrics_dict)"
   ]
  },
  {
   "cell_type": "code",
   "execution_count": 54,
   "id": "db12611b-57b2-4910-b9d0-355adfd6e7bf",
   "metadata": {
    "execution": {
     "iopub.execute_input": "2025-07-28T10:32:09.065505Z",
     "iopub.status.busy": "2025-07-28T10:32:09.064960Z",
     "iopub.status.idle": "2025-07-28T10:32:09.082667Z",
     "shell.execute_reply": "2025-07-28T10:32:09.081692Z"
    },
    "papermill": {
     "duration": 0.043761,
     "end_time": "2025-07-28T10:32:09.084382",
     "exception": false,
     "start_time": "2025-07-28T10:32:09.040621",
     "status": "completed"
    },
    "tags": []
   },
   "outputs": [
    {
     "data": {
      "text/html": [
       "<div>\n",
       "<style scoped>\n",
       "    .dataframe tbody tr th:only-of-type {\n",
       "        vertical-align: middle;\n",
       "    }\n",
       "\n",
       "    .dataframe tbody tr th {\n",
       "        vertical-align: top;\n",
       "    }\n",
       "\n",
       "    .dataframe thead th {\n",
       "        text-align: right;\n",
       "    }\n",
       "</style>\n",
       "<table border=\"1\" class=\"dataframe\">\n",
       "  <thead>\n",
       "    <tr style=\"text-align: right;\">\n",
       "      <th></th>\n",
       "      <th>universe_id</th>\n",
       "      <th>universe_training_size</th>\n",
       "      <th>universe_scale</th>\n",
       "      <th>universe_model</th>\n",
       "      <th>universe_exclude_features</th>\n",
       "      <th>universe_exclude_subgroups</th>\n",
       "      <th>q_hat</th>\n",
       "      <th>coverage</th>\n",
       "      <th>avg_size</th>\n",
       "    </tr>\n",
       "  </thead>\n",
       "  <tbody>\n",
       "    <tr>\n",
       "      <th>0</th>\n",
       "      <td>7191a92119b1a7c56f1faedc3fdd4a50</td>\n",
       "      <td>5k</td>\n",
       "      <td>scale</td>\n",
       "      <td>gbm</td>\n",
       "      <td>sex</td>\n",
       "      <td>keep-all</td>\n",
       "      <td>0.685074</td>\n",
       "      <td>0.910824</td>\n",
       "      <td>1.130922</td>\n",
       "    </tr>\n",
       "  </tbody>\n",
       "</table>\n",
       "</div>"
      ],
      "text/plain": [
       "                        universe_id universe_training_size universe_scale  \\\n",
       "0  7191a92119b1a7c56f1faedc3fdd4a50                     5k          scale   \n",
       "\n",
       "  universe_model universe_exclude_features universe_exclude_subgroups  \\\n",
       "0            gbm                       sex                   keep-all   \n",
       "\n",
       "      q_hat  coverage  avg_size  \n",
       "0  0.685074  0.910824  1.130922  "
      ]
     },
     "execution_count": 54,
     "metadata": {},
     "output_type": "execute_result"
    }
   ],
   "source": [
    "cp_metrics_df"
   ]
  },
  {
   "cell_type": "code",
   "execution_count": 55,
   "id": "b7fbde55-a0a1-47e4-9af6-fe4a17fa8c61",
   "metadata": {
    "execution": {
     "iopub.execute_input": "2025-07-28T10:32:09.133849Z",
     "iopub.status.busy": "2025-07-28T10:32:09.132830Z",
     "iopub.status.idle": "2025-07-28T10:32:09.138088Z",
     "shell.execute_reply": "2025-07-28T10:32:09.137174Z"
    },
    "papermill": {
     "duration": 0.032157,
     "end_time": "2025-07-28T10:32:09.139815",
     "exception": false,
     "start_time": "2025-07-28T10:32:09.107658",
     "status": "completed"
    },
    "tags": []
   },
   "outputs": [],
   "source": [
    "# Conditional Coverage & looking at subgroups"
   ]
  },
  {
   "cell_type": "code",
   "execution_count": 56,
   "id": "027ae886-68dd-4141-96c7-805a5450e1ef",
   "metadata": {
    "execution": {
     "iopub.execute_input": "2025-07-28T10:32:09.194347Z",
     "iopub.status.busy": "2025-07-28T10:32:09.193585Z",
     "iopub.status.idle": "2025-07-28T10:32:09.475987Z",
     "shell.execute_reply": "2025-07-28T10:32:09.475097Z"
    },
    "papermill": {
     "duration": 0.311982,
     "end_time": "2025-07-28T10:32:09.477879",
     "exception": false,
     "start_time": "2025-07-28T10:32:09.165897",
     "status": "completed"
    },
    "tags": []
   },
   "outputs": [],
   "source": [
    "from fairness_multiverse.conformal import build_cp_groups\n",
    "\n",
    "cp_groups_df = build_cp_groups(pred_sets, y_true, X_test.index, org_test)\n",
    "#needs universe_id and setting"
   ]
  },
  {
   "cell_type": "code",
   "execution_count": 57,
   "id": "01d5802c-663a-4d1f-9d69-e036faaffbf7",
   "metadata": {
    "execution": {
     "iopub.execute_input": "2025-07-28T10:32:09.530401Z",
     "iopub.status.busy": "2025-07-28T10:32:09.529732Z",
     "iopub.status.idle": "2025-07-28T10:32:09.534971Z",
     "shell.execute_reply": "2025-07-28T10:32:09.534082Z"
    },
    "papermill": {
     "duration": 0.031984,
     "end_time": "2025-07-28T10:32:09.536762",
     "exception": false,
     "start_time": "2025-07-28T10:32:09.504778",
     "status": "completed"
    },
    "tags": []
   },
   "outputs": [],
   "source": [
    "#delete\n",
    "#cp_groups_df"
   ]
  },
  {
   "cell_type": "code",
   "execution_count": 58,
   "id": "fa424af1-d1eb-443d-b717-2d279ada8408",
   "metadata": {
    "execution": {
     "iopub.execute_input": "2025-07-28T10:32:09.586663Z",
     "iopub.status.busy": "2025-07-28T10:32:09.585988Z",
     "iopub.status.idle": "2025-07-28T10:32:09.591256Z",
     "shell.execute_reply": "2025-07-28T10:32:09.590337Z"
    },
    "papermill": {
     "duration": 0.032184,
     "end_time": "2025-07-28T10:32:09.593033",
     "exception": false,
     "start_time": "2025-07-28T10:32:09.560849",
     "status": "completed"
    },
    "tags": []
   },
   "outputs": [],
   "source": [
    "#delete\n",
    "#percentage = (cp_groups_df['nongerman_female'] == 1).mean() * 100\n",
    "#print(percentage)\n"
   ]
  },
  {
   "cell_type": "code",
   "execution_count": 59,
   "id": "6cbdab96-b2b2-45af-ad54-d0516db2e28d",
   "metadata": {
    "execution": {
     "iopub.execute_input": "2025-07-28T10:32:09.643673Z",
     "iopub.status.busy": "2025-07-28T10:32:09.642726Z",
     "iopub.status.idle": "2025-07-28T10:32:11.270300Z",
     "shell.execute_reply": "2025-07-28T10:32:11.269244Z"
    },
    "papermill": {
     "duration": 1.655386,
     "end_time": "2025-07-28T10:32:11.272774",
     "exception": false,
     "start_time": "2025-07-28T10:32:09.617388",
     "status": "completed"
    },
    "tags": []
   },
   "outputs": [],
   "source": [
    "# Define covered = 1 if true_label is in the predicted set\n",
    "cp_groups_df['covered'] = cp_groups_df.apply(\n",
    "    lambda r: int(r['true_label'] in r['pred_set']),\n",
    "    axis=1\n",
    ")"
   ]
  },
  {
   "cell_type": "code",
   "execution_count": 60,
   "id": "338ff529-1a6b-4b87-a931-8e4788d52aad",
   "metadata": {
    "execution": {
     "iopub.execute_input": "2025-07-28T10:32:11.328292Z",
     "iopub.status.busy": "2025-07-28T10:32:11.327449Z",
     "iopub.status.idle": "2025-07-28T10:32:11.332884Z",
     "shell.execute_reply": "2025-07-28T10:32:11.331940Z"
    },
    "papermill": {
     "duration": 0.030838,
     "end_time": "2025-07-28T10:32:11.334620",
     "exception": false,
     "start_time": "2025-07-28T10:32:11.303782",
     "status": "completed"
    },
    "tags": []
   },
   "outputs": [],
   "source": [
    "#cp_groups_df"
   ]
  },
  {
   "cell_type": "code",
   "execution_count": 61,
   "id": "90032e27-66df-4540-9169-4e89cfbaa758",
   "metadata": {
    "execution": {
     "iopub.execute_input": "2025-07-28T10:32:11.383101Z",
     "iopub.status.busy": "2025-07-28T10:32:11.382615Z",
     "iopub.status.idle": "2025-07-28T10:32:11.393901Z",
     "shell.execute_reply": "2025-07-28T10:32:11.392861Z"
    },
    "papermill": {
     "duration": 0.03715,
     "end_time": "2025-07-28T10:32:11.395477",
     "exception": false,
     "start_time": "2025-07-28T10:32:11.358327",
     "status": "completed"
    },
    "tags": []
   },
   "outputs": [],
   "source": [
    "subgroups = ['frau1','nongerman','nongerman_male','nongerman_female']\n",
    "\n",
    "# Conditional coverage for subgroup==1\n",
    "cond_coverage = {\n",
    "    g: cp_groups_df.loc[cp_groups_df[g]==1, 'covered'].mean()\n",
    "    for g in subgroups\n",
    "}"
   ]
  },
  {
   "cell_type": "code",
   "execution_count": 62,
   "id": "1e348fb1-b9c3-45bc-ba23-f016827a7e0d",
   "metadata": {
    "execution": {
     "iopub.execute_input": "2025-07-28T10:32:11.444300Z",
     "iopub.status.busy": "2025-07-28T10:32:11.443206Z",
     "iopub.status.idle": "2025-07-28T10:32:11.454718Z",
     "shell.execute_reply": "2025-07-28T10:32:11.450538Z"
    },
    "papermill": {
     "duration": 0.037948,
     "end_time": "2025-07-28T10:32:11.457194",
     "exception": false,
     "start_time": "2025-07-28T10:32:11.419246",
     "status": "completed"
    },
    "tags": []
   },
   "outputs": [
    {
     "data": {
      "text/plain": [
       "{'frau1': 0.9106078986386306,\n",
       " 'nongerman': 0.9115814292932128,\n",
       " 'nongerman_male': 0.9254255606592813,\n",
       " 'nongerman_female': 0.8886736214605067}"
      ]
     },
     "execution_count": 62,
     "metadata": {},
     "output_type": "execute_result"
    }
   ],
   "source": [
    "cond_coverage"
   ]
  },
  {
   "cell_type": "code",
   "execution_count": 63,
   "id": "f5093324-c3dd-4d63-bc4c-8d945e5c8bbb",
   "metadata": {
    "execution": {
     "iopub.execute_input": "2025-07-28T10:32:11.514512Z",
     "iopub.status.busy": "2025-07-28T10:32:11.513707Z",
     "iopub.status.idle": "2025-07-28T10:32:11.521948Z",
     "shell.execute_reply": "2025-07-28T10:32:11.520787Z"
    },
    "papermill": {
     "duration": 0.038471,
     "end_time": "2025-07-28T10:32:11.523813",
     "exception": false,
     "start_time": "2025-07-28T10:32:11.485342",
     "status": "completed"
    },
    "tags": []
   },
   "outputs": [],
   "source": [
    "for subgroup, cov in cond_coverage.items():\n",
    "    cp_metrics_df[f\"cov_{subgroup}\"] = cov"
   ]
  },
  {
   "cell_type": "code",
   "execution_count": 64,
   "id": "6e872e10-dbe5-49e8-b554-5030c98ff75d",
   "metadata": {
    "execution": {
     "iopub.execute_input": "2025-07-28T10:32:11.582740Z",
     "iopub.status.busy": "2025-07-28T10:32:11.582255Z",
     "iopub.status.idle": "2025-07-28T10:32:11.601918Z",
     "shell.execute_reply": "2025-07-28T10:32:11.600973Z"
    },
    "papermill": {
     "duration": 0.051558,
     "end_time": "2025-07-28T10:32:11.603722",
     "exception": false,
     "start_time": "2025-07-28T10:32:11.552164",
     "status": "completed"
    },
    "tags": []
   },
   "outputs": [
    {
     "data": {
      "text/html": [
       "<div>\n",
       "<style scoped>\n",
       "    .dataframe tbody tr th:only-of-type {\n",
       "        vertical-align: middle;\n",
       "    }\n",
       "\n",
       "    .dataframe tbody tr th {\n",
       "        vertical-align: top;\n",
       "    }\n",
       "\n",
       "    .dataframe thead th {\n",
       "        text-align: right;\n",
       "    }\n",
       "</style>\n",
       "<table border=\"1\" class=\"dataframe\">\n",
       "  <thead>\n",
       "    <tr style=\"text-align: right;\">\n",
       "      <th></th>\n",
       "      <th>universe_id</th>\n",
       "      <th>universe_training_size</th>\n",
       "      <th>universe_scale</th>\n",
       "      <th>universe_model</th>\n",
       "      <th>universe_exclude_features</th>\n",
       "      <th>universe_exclude_subgroups</th>\n",
       "      <th>q_hat</th>\n",
       "      <th>coverage</th>\n",
       "      <th>avg_size</th>\n",
       "      <th>cov_frau1</th>\n",
       "      <th>cov_nongerman</th>\n",
       "      <th>cov_nongerman_male</th>\n",
       "      <th>cov_nongerman_female</th>\n",
       "    </tr>\n",
       "  </thead>\n",
       "  <tbody>\n",
       "    <tr>\n",
       "      <th>0</th>\n",
       "      <td>7191a92119b1a7c56f1faedc3fdd4a50</td>\n",
       "      <td>5k</td>\n",
       "      <td>scale</td>\n",
       "      <td>gbm</td>\n",
       "      <td>sex</td>\n",
       "      <td>keep-all</td>\n",
       "      <td>0.685074</td>\n",
       "      <td>0.910824</td>\n",
       "      <td>1.130922</td>\n",
       "      <td>0.910608</td>\n",
       "      <td>0.911581</td>\n",
       "      <td>0.925426</td>\n",
       "      <td>0.888674</td>\n",
       "    </tr>\n",
       "  </tbody>\n",
       "</table>\n",
       "</div>"
      ],
      "text/plain": [
       "                        universe_id universe_training_size universe_scale  \\\n",
       "0  7191a92119b1a7c56f1faedc3fdd4a50                     5k          scale   \n",
       "\n",
       "  universe_model universe_exclude_features universe_exclude_subgroups  \\\n",
       "0            gbm                       sex                   keep-all   \n",
       "\n",
       "      q_hat  coverage  avg_size  cov_frau1  cov_nongerman  cov_nongerman_male  \\\n",
       "0  0.685074  0.910824  1.130922   0.910608       0.911581            0.925426   \n",
       "\n",
       "   cov_nongerman_female  \n",
       "0              0.888674  "
      ]
     },
     "execution_count": 64,
     "metadata": {},
     "output_type": "execute_result"
    }
   ],
   "source": [
    "cp_metrics_df"
   ]
  },
  {
   "cell_type": "markdown",
   "id": "33774451",
   "metadata": {
    "papermill": {
     "duration": 0.026969,
     "end_time": "2025-07-28T10:32:11.659348",
     "exception": false,
     "start_time": "2025-07-28T10:32:11.632379",
     "status": "completed"
    },
    "tags": []
   },
   "source": [
    "# (Fairness) Metrics"
   ]
  },
  {
   "cell_type": "code",
   "execution_count": 65,
   "id": "debc5d62",
   "metadata": {
    "execution": {
     "iopub.execute_input": "2025-07-28T10:32:11.713847Z",
     "iopub.status.busy": "2025-07-28T10:32:11.713298Z",
     "iopub.status.idle": "2025-07-28T10:32:11.736313Z",
     "shell.execute_reply": "2025-07-28T10:32:11.735269Z"
    },
    "papermill": {
     "duration": 0.052735,
     "end_time": "2025-07-28T10:32:11.737964",
     "exception": false,
     "start_time": "2025-07-28T10:32:11.685229",
     "status": "completed"
    },
    "tags": []
   },
   "outputs": [],
   "source": [
    "# do I need to include maxdeutsch1.missing?\n",
    "\n",
    "import numpy as np\n",
    "\n",
    "colname_to_bin = \"maxdeutsch1\"\n",
    "majority_value = org_train[colname_to_bin].mode()[0]\n",
    "\n",
    "org_test[\"majmin\"] = np.where(org_test[colname_to_bin] == majority_value, \"majority\", \"minority\")"
   ]
  },
  {
   "cell_type": "code",
   "execution_count": 66,
   "id": "06a50de5",
   "metadata": {
    "execution": {
     "iopub.execute_input": "2025-07-28T10:32:11.768544Z",
     "iopub.status.busy": "2025-07-28T10:32:11.767960Z",
     "iopub.status.idle": "2025-07-28T10:32:14.286999Z",
     "shell.execute_reply": "2025-07-28T10:32:14.285976Z"
    },
    "papermill": {
     "duration": 2.536477,
     "end_time": "2025-07-28T10:32:14.288997",
     "exception": false,
     "start_time": "2025-07-28T10:32:11.752520",
     "status": "completed"
    },
    "tags": []
   },
   "outputs": [],
   "source": [
    "example_universe = universe.copy()\n",
    "example_universe[\"cutoff\"] = example_universe[\"cutoff\"][0]\n",
    "example_universe[\"eval_fairness_grouping\"] = example_universe[\"eval_fairness_grouping\"][0]\n",
    "fairness_dict, metric_frame = universe_analysis.compute_metrics(\n",
    "    example_universe,\n",
    "    y_pred_prob=probs_test,\n",
    "    y_test=y_true,\n",
    "    org_test=org_test,\n",
    ")"
   ]
  },
  {
   "cell_type": "markdown",
   "id": "f95d4e02",
   "metadata": {
    "papermill": {
     "duration": 0.024957,
     "end_time": "2025-07-28T10:32:14.341454",
     "exception": false,
     "start_time": "2025-07-28T10:32:14.316497",
     "status": "completed"
    },
    "tags": []
   },
   "source": [
    "# Overall"
   ]
  },
  {
   "cell_type": "markdown",
   "id": "bdee4871",
   "metadata": {
    "papermill": {
     "duration": 0.024785,
     "end_time": "2025-07-28T10:32:14.391138",
     "exception": false,
     "start_time": "2025-07-28T10:32:14.366353",
     "status": "completed"
    },
    "tags": []
   },
   "source": [
    "Fairness\n",
    "Main fairness target: Equalized Odds. Seems to be a better fit than equal opportunity, since we're not only interested in Y = 1. Seems to be a better fit than demographic parity, since we also care about accuracy, not just equal distribution of preds.\n",
    "\n",
    "Pick column for computation of fairness metrics\n",
    "\n",
    "Performance\n",
    "Overall performance measures, most interesting in relation to the measures split by group below"
   ]
  },
  {
   "cell_type": "code",
   "execution_count": 67,
   "id": "c4e067c6",
   "metadata": {
    "execution": {
     "iopub.execute_input": "2025-07-28T10:32:14.442741Z",
     "iopub.status.busy": "2025-07-28T10:32:14.442072Z",
     "iopub.status.idle": "2025-07-28T10:32:14.451394Z",
     "shell.execute_reply": "2025-07-28T10:32:14.450474Z"
    },
    "papermill": {
     "duration": 0.037095,
     "end_time": "2025-07-28T10:32:14.453058",
     "exception": false,
     "start_time": "2025-07-28T10:32:14.415963",
     "status": "completed"
    },
    "tags": []
   },
   "outputs": [
    {
     "data": {
      "text/plain": [
       "accuracy                   0.224758\n",
       "balanced accuracy          0.549483\n",
       "f1                         0.246078\n",
       "precision                  0.140576\n",
       "false positive rate        0.887305\n",
       "false negative rate        0.013730\n",
       "selection rate             0.900000\n",
       "count                  89710.000000\n",
       "dtype: float64"
      ]
     },
     "execution_count": 67,
     "metadata": {},
     "output_type": "execute_result"
    }
   ],
   "source": [
    "metric_frame.overall"
   ]
  },
  {
   "cell_type": "markdown",
   "id": "e968fe9d",
   "metadata": {
    "papermill": {
     "duration": 0.027871,
     "end_time": "2025-07-28T10:32:14.506317",
     "exception": false,
     "start_time": "2025-07-28T10:32:14.478446",
     "status": "completed"
    },
    "tags": []
   },
   "source": [
    "By Group"
   ]
  },
  {
   "cell_type": "code",
   "execution_count": 68,
   "id": "ec325bce",
   "metadata": {
    "execution": {
     "iopub.execute_input": "2025-07-28T10:32:14.558741Z",
     "iopub.status.busy": "2025-07-28T10:32:14.557991Z",
     "iopub.status.idle": "2025-07-28T10:32:14.574890Z",
     "shell.execute_reply": "2025-07-28T10:32:14.573863Z"
    },
    "papermill": {
     "duration": 0.045084,
     "end_time": "2025-07-28T10:32:14.576696",
     "exception": false,
     "start_time": "2025-07-28T10:32:14.531612",
     "status": "completed"
    },
    "tags": []
   },
   "outputs": [
    {
     "data": {
      "text/html": [
       "<div>\n",
       "<style scoped>\n",
       "    .dataframe tbody tr th:only-of-type {\n",
       "        vertical-align: middle;\n",
       "    }\n",
       "\n",
       "    .dataframe tbody tr th {\n",
       "        vertical-align: top;\n",
       "    }\n",
       "\n",
       "    .dataframe thead th {\n",
       "        text-align: right;\n",
       "    }\n",
       "</style>\n",
       "<table border=\"1\" class=\"dataframe\">\n",
       "  <thead>\n",
       "    <tr style=\"text-align: right;\">\n",
       "      <th></th>\n",
       "      <th>accuracy</th>\n",
       "      <th>balanced accuracy</th>\n",
       "      <th>f1</th>\n",
       "      <th>precision</th>\n",
       "      <th>false positive rate</th>\n",
       "      <th>false negative rate</th>\n",
       "      <th>selection rate</th>\n",
       "      <th>count</th>\n",
       "    </tr>\n",
       "    <tr>\n",
       "      <th>majmin</th>\n",
       "      <th></th>\n",
       "      <th></th>\n",
       "      <th></th>\n",
       "      <th></th>\n",
       "      <th></th>\n",
       "      <th></th>\n",
       "      <th></th>\n",
       "      <th></th>\n",
       "    </tr>\n",
       "  </thead>\n",
       "  <tbody>\n",
       "    <tr>\n",
       "      <th>majority</th>\n",
       "      <td>0.244803</td>\n",
       "      <td>0.558649</td>\n",
       "      <td>0.256381</td>\n",
       "      <td>0.147364</td>\n",
       "      <td>0.867933</td>\n",
       "      <td>0.014770</td>\n",
       "      <td>0.883432</td>\n",
       "      <td>69170.0</td>\n",
       "    </tr>\n",
       "    <tr>\n",
       "      <th>minority</th>\n",
       "      <td>0.157254</td>\n",
       "      <td>0.519494</td>\n",
       "      <td>0.213182</td>\n",
       "      <td>0.119448</td>\n",
       "      <td>0.951299</td>\n",
       "      <td>0.009713</td>\n",
       "      <td>0.955794</td>\n",
       "      <td>20540.0</td>\n",
       "    </tr>\n",
       "  </tbody>\n",
       "</table>\n",
       "</div>"
      ],
      "text/plain": [
       "          accuracy  balanced accuracy        f1  precision  \\\n",
       "majmin                                                       \n",
       "majority  0.244803           0.558649  0.256381   0.147364   \n",
       "minority  0.157254           0.519494  0.213182   0.119448   \n",
       "\n",
       "          false positive rate  false negative rate  selection rate    count  \n",
       "majmin                                                                       \n",
       "majority             0.867933             0.014770        0.883432  69170.0  \n",
       "minority             0.951299             0.009713        0.955794  20540.0  "
      ]
     },
     "execution_count": 68,
     "metadata": {},
     "output_type": "execute_result"
    }
   ],
   "source": [
    "metric_frame.by_group"
   ]
  },
  {
   "cell_type": "code",
   "execution_count": 69,
   "id": "a9ddbe63",
   "metadata": {
    "execution": {
     "iopub.execute_input": "2025-07-28T10:32:14.630602Z",
     "iopub.status.busy": "2025-07-28T10:32:14.629525Z",
     "iopub.status.idle": "2025-07-28T10:32:17.149241Z",
     "shell.execute_reply": "2025-07-28T10:32:17.148242Z"
    },
    "papermill": {
     "duration": 2.548307,
     "end_time": "2025-07-28T10:32:17.150794",
     "exception": false,
     "start_time": "2025-07-28T10:32:14.602487",
     "status": "completed"
    },
    "tags": []
   },
   "outputs": [
    {
     "data": {
      "text/plain": [
       "array([[<Axes: title={'center': 'accuracy'}, xlabel='majmin'>,\n",
       "        <Axes: title={'center': 'balanced accuracy'}, xlabel='majmin'>,\n",
       "        <Axes: title={'center': 'f1'}, xlabel='majmin'>],\n",
       "       [<Axes: title={'center': 'precision'}, xlabel='majmin'>,\n",
       "        <Axes: title={'center': 'false positive rate'}, xlabel='majmin'>,\n",
       "        <Axes: title={'center': 'false negative rate'}, xlabel='majmin'>],\n",
       "       [<Axes: title={'center': 'selection rate'}, xlabel='majmin'>,\n",
       "        <Axes: title={'center': 'count'}, xlabel='majmin'>,\n",
       "        <Axes: xlabel='majmin'>]], dtype=object)"
      ]
     },
     "execution_count": 69,
     "metadata": {},
     "output_type": "execute_result"
    },
    {
     "data": {
      "image/png": "[encoded data removed]",
      "text/plain": [
       "<Figure size 1200x800 with 9 Axes>"
      ]
     },
     "metadata": {},
     "output_type": "display_data"
    }
   ],
   "source": [
    "# In a graphic\n",
    "metric_frame.by_group.plot.bar(\n",
    "    subplots=True,\n",
    "    layout=[3, 3],\n",
    "    legend=False,\n",
    "    figsize=[12, 8],\n",
    "    title=\"Show all metrics\",\n",
    ")"
   ]
  },
  {
   "cell_type": "markdown",
   "id": "f57a0bac",
   "metadata": {
    "papermill": {
     "duration": 0.028632,
     "end_time": "2025-07-28T10:32:17.209188",
     "exception": false,
     "start_time": "2025-07-28T10:32:17.180556",
     "status": "completed"
    },
    "tags": []
   },
   "source": [
    "# Final Output"
   ]
  },
  {
   "cell_type": "code",
   "execution_count": 70,
   "id": "96d280a3",
   "metadata": {
    "execution": {
     "iopub.execute_input": "2025-07-28T10:32:17.267711Z",
     "iopub.status.busy": "2025-07-28T10:32:17.266846Z",
     "iopub.status.idle": "2025-07-28T10:32:17.275318Z",
     "shell.execute_reply": "2025-07-28T10:32:17.274335Z"
    },
    "papermill": {
     "duration": 0.039276,
     "end_time": "2025-07-28T10:32:17.277114",
     "exception": false,
     "start_time": "2025-07-28T10:32:17.237838",
     "status": "completed"
    },
    "tags": []
   },
   "outputs": [
    {
     "data": {
      "text/plain": [
       "4"
      ]
     },
     "execution_count": 70,
     "metadata": {},
     "output_type": "execute_result"
    }
   ],
   "source": [
    "sub_universes = universe_analysis.generate_sub_universes()\n",
    "len(sub_universes)"
   ]
  },
  {
   "cell_type": "code",
   "execution_count": 71,
   "id": "92adf7ba",
   "metadata": {
    "execution": {
     "iopub.execute_input": "2025-07-28T10:32:17.336157Z",
     "iopub.status.busy": "2025-07-28T10:32:17.335384Z",
     "iopub.status.idle": "2025-07-28T10:32:17.341865Z",
     "shell.execute_reply": "2025-07-28T10:32:17.340918Z"
    },
    "papermill": {
     "duration": 0.037346,
     "end_time": "2025-07-28T10:32:17.343540",
     "exception": false,
     "start_time": "2025-07-28T10:32:17.306194",
     "status": "completed"
    },
    "tags": []
   },
   "outputs": [],
   "source": [
    "def filter_sub_universe_data(sub_universe, org_test):\n",
    "    # Keep all rows — no filtering\n",
    "    keep_rows_mask = np.ones(org_test.shape[0], dtype=bool)\n",
    "\n",
    "    print(f\"[INFO] Keeping all rows: {keep_rows_mask.sum()} rows retained.\")\n",
    "    return keep_rows_mask"
   ]
  },
  {
   "cell_type": "code",
   "execution_count": 72,
   "id": "4a759155",
   "metadata": {
    "execution": {
     "iopub.execute_input": "2025-07-28T10:32:17.403134Z",
     "iopub.status.busy": "2025-07-28T10:32:17.402410Z",
     "iopub.status.idle": "2025-07-28T10:32:29.331016Z",
     "shell.execute_reply": "2025-07-28T10:32:29.329858Z"
    },
    "papermill": {
     "duration": 11.959835,
     "end_time": "2025-07-28T10:32:29.332880",
     "exception": false,
     "start_time": "2025-07-28T10:32:17.373045",
     "status": "completed"
    },
    "tags": []
   },
   "outputs": [
    {
     "name": "stdout",
     "output_type": "stream",
     "text": [
      "Stopping execution_time clock.\n",
      "[INFO] Keeping all rows: 89710 rows retained.\n"
     ]
    },
    {
     "name": "stdout",
     "output_type": "stream",
     "text": [
      "[INFO] Keeping all rows: 89710 rows retained.\n"
     ]
    },
    {
     "name": "stdout",
     "output_type": "stream",
     "text": [
      "[INFO] Keeping all rows: 89710 rows retained.\n"
     ]
    },
    {
     "name": "stdout",
     "output_type": "stream",
     "text": [
      "[INFO] Keeping all rows: 89710 rows retained.\n"
     ]
    },
    {
     "data": {
      "text/html": [
       "<div>\n",
       "<style scoped>\n",
       "    .dataframe tbody tr th:only-of-type {\n",
       "        vertical-align: middle;\n",
       "    }\n",
       "\n",
       "    .dataframe tbody tr th {\n",
       "        vertical-align: top;\n",
       "    }\n",
       "\n",
       "    .dataframe thead th {\n",
       "        text-align: right;\n",
       "    }\n",
       "</style>\n",
       "<table border=\"1\" class=\"dataframe\">\n",
       "  <thead>\n",
       "    <tr style=\"text-align: right;\">\n",
       "      <th></th>\n",
       "      <th>run_no</th>\n",
       "      <th>universe_id</th>\n",
       "      <th>universe_settings</th>\n",
       "      <th>execution_time</th>\n",
       "      <th>test_size_n</th>\n",
       "      <th>test_size_frac</th>\n",
       "      <th>fair_main_equalized_odds_difference</th>\n",
       "      <th>fair_main_equalized_odds_ratio</th>\n",
       "      <th>fair_main_demographic_parity_difference</th>\n",
       "      <th>fair_main_demographic_parity_ratio</th>\n",
       "      <th>...</th>\n",
       "      <th>perf_grp_precision_0</th>\n",
       "      <th>perf_grp_precision_1</th>\n",
       "      <th>perf_grp_false positive rate_0</th>\n",
       "      <th>perf_grp_false positive rate_1</th>\n",
       "      <th>perf_grp_false negative rate_0</th>\n",
       "      <th>perf_grp_false negative rate_1</th>\n",
       "      <th>perf_grp_selection rate_0</th>\n",
       "      <th>perf_grp_selection rate_1</th>\n",
       "      <th>perf_grp_count_0</th>\n",
       "      <th>perf_grp_count_1</th>\n",
       "    </tr>\n",
       "  </thead>\n",
       "  <tbody>\n",
       "    <tr>\n",
       "      <th>0</th>\n",
       "      <td>11</td>\n",
       "      <td>7191a92119b1a7c56f1faedc3fdd4a50</td>\n",
       "      <td>{\"cutoff\": \"quantile_0.1\", \"eval_fairness_grou...</td>\n",
       "      <td>33.028634</td>\n",
       "      <td>89710</td>\n",
       "      <td>1.0</td>\n",
       "      <td>0.083366</td>\n",
       "      <td>0.912366</td>\n",
       "      <td>0.072361</td>\n",
       "      <td>0.924292</td>\n",
       "      <td>...</td>\n",
       "      <td>NaN</td>\n",
       "      <td>NaN</td>\n",
       "      <td>NaN</td>\n",
       "      <td>NaN</td>\n",
       "      <td>NaN</td>\n",
       "      <td>NaN</td>\n",
       "      <td>NaN</td>\n",
       "      <td>NaN</td>\n",
       "      <td>NaN</td>\n",
       "      <td>NaN</td>\n",
       "    </tr>\n",
       "    <tr>\n",
       "      <th>0</th>\n",
       "      <td>11</td>\n",
       "      <td>7191a92119b1a7c56f1faedc3fdd4a50</td>\n",
       "      <td>{\"cutoff\": \"quantile_0.1\", \"eval_fairness_grou...</td>\n",
       "      <td>33.028634</td>\n",
       "      <td>89710</td>\n",
       "      <td>1.0</td>\n",
       "      <td>0.083366</td>\n",
       "      <td>0.912366</td>\n",
       "      <td>0.072361</td>\n",
       "      <td>0.924292</td>\n",
       "      <td>...</td>\n",
       "      <td>0.119448</td>\n",
       "      <td>0.147364</td>\n",
       "      <td>0.951299</td>\n",
       "      <td>0.867933</td>\n",
       "      <td>0.009713</td>\n",
       "      <td>0.01477</td>\n",
       "      <td>0.955794</td>\n",
       "      <td>0.883432</td>\n",
       "      <td>20540.0</td>\n",
       "      <td>69170.0</td>\n",
       "    </tr>\n",
       "    <tr>\n",
       "      <th>0</th>\n",
       "      <td>11</td>\n",
       "      <td>7191a92119b1a7c56f1faedc3fdd4a50</td>\n",
       "      <td>{\"cutoff\": \"quantile_0.25\", \"eval_fairness_gro...</td>\n",
       "      <td>33.028634</td>\n",
       "      <td>89710</td>\n",
       "      <td>1.0</td>\n",
       "      <td>0.078205</td>\n",
       "      <td>0.899940</td>\n",
       "      <td>0.063402</td>\n",
       "      <td>0.920636</td>\n",
       "      <td>...</td>\n",
       "      <td>NaN</td>\n",
       "      <td>NaN</td>\n",
       "      <td>NaN</td>\n",
       "      <td>NaN</td>\n",
       "      <td>NaN</td>\n",
       "      <td>NaN</td>\n",
       "      <td>NaN</td>\n",
       "      <td>NaN</td>\n",
       "      <td>NaN</td>\n",
       "      <td>NaN</td>\n",
       "    </tr>\n",
       "    <tr>\n",
       "      <th>0</th>\n",
       "      <td>11</td>\n",
       "      <td>7191a92119b1a7c56f1faedc3fdd4a50</td>\n",
       "      <td>{\"cutoff\": \"quantile_0.25\", \"eval_fairness_gro...</td>\n",
       "      <td>33.028634</td>\n",
       "      <td>89710</td>\n",
       "      <td>1.0</td>\n",
       "      <td>0.078205</td>\n",
       "      <td>0.899940</td>\n",
       "      <td>0.063402</td>\n",
       "      <td>0.920636</td>\n",
       "      <td>...</td>\n",
       "      <td>0.134438</td>\n",
       "      <td>0.170012</td>\n",
       "      <td>0.781587</td>\n",
       "      <td>0.703382</td>\n",
       "      <td>0.068412</td>\n",
       "      <td>0.05372</td>\n",
       "      <td>0.798880</td>\n",
       "      <td>0.735478</td>\n",
       "      <td>20540.0</td>\n",
       "      <td>69170.0</td>\n",
       "    </tr>\n",
       "  </tbody>\n",
       "</table>\n",
       "<p>4 rows × 50 columns</p>\n",
       "</div>"
      ],
      "text/plain": [
       "  run_no                       universe_id  \\\n",
       "0     11  7191a92119b1a7c56f1faedc3fdd4a50   \n",
       "0     11  7191a92119b1a7c56f1faedc3fdd4a50   \n",
       "0     11  7191a92119b1a7c56f1faedc3fdd4a50   \n",
       "0     11  7191a92119b1a7c56f1faedc3fdd4a50   \n",
       "\n",
       "                                   universe_settings  execution_time  \\\n",
       "0  {\"cutoff\": \"quantile_0.1\", \"eval_fairness_grou...       33.028634   \n",
       "0  {\"cutoff\": \"quantile_0.1\", \"eval_fairness_grou...       33.028634   \n",
       "0  {\"cutoff\": \"quantile_0.25\", \"eval_fairness_gro...       33.028634   \n",
       "0  {\"cutoff\": \"quantile_0.25\", \"eval_fairness_gro...       33.028634   \n",
       "\n",
       "   test_size_n  test_size_frac  fair_main_equalized_odds_difference  \\\n",
       "0        89710             1.0                             0.083366   \n",
       "0        89710             1.0                             0.083366   \n",
       "0        89710             1.0                             0.078205   \n",
       "0        89710             1.0                             0.078205   \n",
       "\n",
       "   fair_main_equalized_odds_ratio  fair_main_demographic_parity_difference  \\\n",
       "0                        0.912366                                 0.072361   \n",
       "0                        0.912366                                 0.072361   \n",
       "0                        0.899940                                 0.063402   \n",
       "0                        0.899940                                 0.063402   \n",
       "\n",
       "   fair_main_demographic_parity_ratio  ...  perf_grp_precision_0  \\\n",
       "0                            0.924292  ...                   NaN   \n",
       "0                            0.924292  ...              0.119448   \n",
       "0                            0.920636  ...                   NaN   \n",
       "0                            0.920636  ...              0.134438   \n",
       "\n",
       "   perf_grp_precision_1  perf_grp_false positive rate_0  \\\n",
       "0                   NaN                             NaN   \n",
       "0              0.147364                        0.951299   \n",
       "0                   NaN                             NaN   \n",
       "0              0.170012                        0.781587   \n",
       "\n",
       "   perf_grp_false positive rate_1  perf_grp_false negative rate_0  \\\n",
       "0                             NaN                             NaN   \n",
       "0                        0.867933                        0.009713   \n",
       "0                             NaN                             NaN   \n",
       "0                        0.703382                        0.068412   \n",
       "\n",
       "   perf_grp_false negative rate_1  perf_grp_selection rate_0  \\\n",
       "0                             NaN                        NaN   \n",
       "0                         0.01477                   0.955794   \n",
       "0                             NaN                        NaN   \n",
       "0                         0.05372                   0.798880   \n",
       "\n",
       "   perf_grp_selection rate_1  perf_grp_count_0  perf_grp_count_1  \n",
       "0                        NaN               NaN               NaN  \n",
       "0                   0.883432           20540.0           69170.0  \n",
       "0                        NaN               NaN               NaN  \n",
       "0                   0.735478           20540.0           69170.0  \n",
       "\n",
       "[4 rows x 50 columns]"
      ]
     },
     "execution_count": 72,
     "metadata": {},
     "output_type": "execute_result"
    }
   ],
   "source": [
    "final_output = universe_analysis.generate_final_output(\n",
    "    y_pred_prob=probs_test,\n",
    "    y_test=y_true,\n",
    "    org_test=org_test,\n",
    "    filter_data=filter_sub_universe_data,\n",
    "    cp_metrics_df=cp_metrics_df,\n",
    "    save=True,\n",
    ")\n",
    "final_output"
   ]
  },
  {
   "cell_type": "code",
   "execution_count": null,
   "id": "721ff514-cb11-46f8-b6fc-50392f74b5cb",
   "metadata": {
    "papermill": {
     "duration": 0.042177,
     "end_time": "2025-07-28T10:32:29.407601",
     "exception": false,
     "start_time": "2025-07-28T10:32:29.365424",
     "status": "completed"
    },
    "tags": []
   },
   "outputs": [],
   "source": []
  }
 ],
 "metadata": {
  "celltoolbar": "Tags",
  "kernelspec": {
   "display_name": "Python (CMA Fairness)",
   "language": "python",
   "name": "cma_fair_env"
  },
  "language_info": {
   "codemirror_mode": {
    "name": "ipython",
    "version": 3
   },
   "file_extension": ".py",
   "mimetype": "text/x-python",
   "name": "python",
   "nbconvert_exporter": "python",
   "pygments_lexer": "ipython3",
   "version": "3.10.12"
  },
  "papermill": {
   "default_parameters": {},
   "duration": 49.594218,
   "end_time": "2025-07-28T10:32:30.255639",
   "environment_variables": {},
   "exception": null,
   "input_path": "universe_analysis.ipynb",
   "output_path": "output/runs/11/notebooks/m_11-7191a92119b1a7c56f1faedc3fdd4a50.ipynb",
   "parameters": {
    "output_dir": "output",
    "run_no": "11",
    "seed": "2023",
    "universe": "{\"cutoff\": [\"quantile_0.1\", \"quantile_0.25\"], \"eval_fairness_grouping\": [\"majority-minority\", \"nationality-all\"], \"exclude_features\": \"sex\", \"exclude_subgroups\": \"keep-all\", \"model\": \"gbm\", \"scale\": \"scale\", \"training_size\": \"5k\"}",
    "universe_id": "7191a92119b1a7c56f1faedc3fdd4a50"
   },
   "start_time": "2025-07-28T10:31:40.661421",
   "version": "2.6.0"
  }
 },
 "nbformat": 4,
 "nbformat_minor": 5
}