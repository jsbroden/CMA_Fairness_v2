{
 "cells": [
  {
   "cell_type": "code",
   "execution_count": 1,
   "id": "f159f837-637b-42ba-96b5-ec9a68c44524",
   "metadata": {
    "execution": {
     "iopub.execute_input": "2025-07-28T11:06:22.410189Z",
     "iopub.status.busy": "2025-07-28T11:06:22.409756Z",
     "iopub.status.idle": "2025-07-28T11:06:22.430036Z",
     "shell.execute_reply": "2025-07-28T11:06:22.428730Z"
    },
    "papermill": {
     "duration": 0.071808,
     "end_time": "2025-07-28T11:06:22.432175",
     "exception": false,
     "start_time": "2025-07-28T11:06:22.360367",
     "status": "completed"
    },
    "tags": []
   },
   "outputs": [
    {
     "name": "stdout",
     "output_type": "stream",
     "text": [
      "/dss/dsshome1/0C/ra93lal2/cma/CMA_Fairness_v2\n"
     ]
    },
    {
     "name": "stderr",
     "output_type": "stream",
     "text": [
      "/dss/dsshome1/0C/ra93lal2/.local/share/virtualenvs/CMA_Fairness_v2-3j10GkSs/lib/python3.10/site-packages/IPython/core/magics/osm.py:393: UserWarning: This is now an optional IPython functionality, using bookmarks requires you to install the `pickleshare` library.\n",
      "  bkms = self.shell.db.get('bookmarks', {})\n",
      "/dss/dsshome1/0C/ra93lal2/.local/share/virtualenvs/CMA_Fairness_v2-3j10GkSs/lib/python3.10/site-packages/IPython/core/magics/osm.py:417: UserWarning: This is now an optional IPython functionality, setting dhist requires you to install the `pickleshare` library.\n",
      "  self.shell.db['dhist'] = compress_dhist(dhist)[-100:]\n"
     ]
    }
   ],
   "source": [
    "%cd ~/cma/CMA_Fairness_v2"
   ]
  },
  {
   "cell_type": "markdown",
   "id": "de2603b9",
   "metadata": {
    "papermill": {
     "duration": 0.240895,
     "end_time": "2025-07-28T11:06:22.740507",
     "exception": false,
     "start_time": "2025-07-28T11:06:22.499612",
     "status": "completed"
    },
    "tags": []
   },
   "source": [
    "The following cell holds the definition of our parameters, these values can be overriden by rendering the with e.g. the following command:\n",
    "\n",
    "papermill -p alpha 0.2 -p ratio 0.3 universe_analysis.ipynb output/test_run.ipynb"
   ]
  },
  {
   "cell_type": "code",
   "execution_count": 2,
   "id": "a80968a0-40bb-4fa9-85ef-2d5eefb01975",
   "metadata": {
    "execution": {
     "iopub.execute_input": "2025-07-28T11:06:22.824893Z",
     "iopub.status.busy": "2025-07-28T11:06:22.824490Z",
     "iopub.status.idle": "2025-07-28T11:06:22.832351Z",
     "shell.execute_reply": "2025-07-28T11:06:22.831394Z"
    },
    "papermill": {
     "duration": 0.052603,
     "end_time": "2025-07-28T11:06:22.834921",
     "exception": false,
     "start_time": "2025-07-28T11:06:22.782318",
     "status": "completed"
    },
    "tags": []
   },
   "outputs": [
    {
     "name": "stdout",
     "output_type": "stream",
     "text": [
      "Current working directory: /dss/dsshome1/0C/ra93lal2/cma/CMA_Fairness_v2\n"
     ]
    }
   ],
   "source": [
    "import os\n",
    "print(\"Current working directory:\", os.getcwd())"
   ]
  },
  {
   "cell_type": "code",
   "execution_count": 3,
   "id": "2dce4c03",
   "metadata": {
    "execution": {
     "iopub.execute_input": "2025-07-28T11:06:22.916800Z",
     "iopub.status.busy": "2025-07-28T11:06:22.916399Z",
     "iopub.status.idle": "2025-07-28T11:06:22.922730Z",
     "shell.execute_reply": "2025-07-28T11:06:22.921869Z"
    },
    "papermill": {
     "duration": 0.050652,
     "end_time": "2025-07-28T11:06:22.926052",
     "exception": false,
     "start_time": "2025-07-28T11:06:22.875400",
     "status": "completed"
    },
    "tags": [
     "parameters"
    ]
   },
   "outputs": [],
   "source": [
    "run_no = 0\n",
    "universe_id = \"test\"\n",
    "universe = {\n",
    "    \"training_size\": \"2014\", # \"25k\", \"5k\", \"1k\", \"2014\"\n",
    "    \"scale\": \"scale\", # \"scale\", \"do-not-scale\",\n",
    "    #\"stratify_split\": \"target\", # \"none\", \"target\", \"protected-attribute\", \"both\",\n",
    "    \"model\": \"elasticnet\", # \"logreg\", \"penalized_logreg\", \"rf\", \"gbm\", \"elasticnet\"\n",
    "    \"cutoff\": [\"quantile_0.15\", \"quantile_0.30\"],\n",
    "    \"exclude_features\": \"age\", # \"none\", \"nationality\", \"sex\", \"nationality-sex\", \"age\"\n",
    "    \"exclude_subgroups\": \"keep-all\", # \"keep-all\", \"drop-non-german\"\n",
    "    \"eval_fairness_grouping\": [\"majority-minority\", \"nationality-all\"]\n",
    "}\n",
    "\n",
    "output_dir=\"./output\"\n",
    "seed=0"
   ]
  },
  {
   "cell_type": "code",
   "execution_count": 4,
   "id": "ee05ed16",
   "metadata": {
    "execution": {
     "iopub.execute_input": "2025-07-28T11:06:23.015918Z",
     "iopub.status.busy": "2025-07-28T11:06:23.015491Z",
     "iopub.status.idle": "2025-07-28T11:06:23.021116Z",
     "shell.execute_reply": "2025-07-28T11:06:23.020122Z"
    },
    "papermill": {
     "duration": 0.050987,
     "end_time": "2025-07-28T11:06:23.024554",
     "exception": false,
     "start_time": "2025-07-28T11:06:22.973567",
     "status": "completed"
    },
    "tags": [
     "injected-parameters"
    ]
   },
   "outputs": [],
   "source": [
    "# Parameters\n",
    "universe_id = \"3e364428648835ac4874a6dff2b8eca7\"\n",
    "run_no = \"11\"\n",
    "universe = \"{\\\"cutoff\\\": [\\\"quantile_0.1\\\", \\\"quantile_0.25\\\"], \\\"eval_fairness_grouping\\\": [\\\"majority-minority\\\", \\\"nationality-all\\\"], \\\"exclude_features\\\": \\\"nationality-sex\\\", \\\"exclude_subgroups\\\": \\\"drop-non-german\\\", \\\"model\\\": \\\"rf\\\", \\\"scale\\\": \\\"do-not-scale\\\", \\\"training_size\\\": \\\"2014\\\"}\"\n",
    "output_dir = \"output\"\n",
    "seed = \"2023\"\n"
   ]
  },
  {
   "cell_type": "code",
   "execution_count": 5,
   "id": "1650acaf",
   "metadata": {
    "execution": {
     "iopub.execute_input": "2025-07-28T11:06:23.146657Z",
     "iopub.status.busy": "2025-07-28T11:06:23.146253Z",
     "iopub.status.idle": "2025-07-28T11:06:23.156378Z",
     "shell.execute_reply": "2025-07-28T11:06:23.154884Z"
    },
    "papermill": {
     "duration": 0.077898,
     "end_time": "2025-07-28T11:06:23.158146",
     "exception": false,
     "start_time": "2025-07-28T11:06:23.080248",
     "status": "completed"
    },
    "tags": []
   },
   "outputs": [],
   "source": [
    "import json\n",
    "# Parse universe into dict if it is passed as a string\n",
    "if isinstance(universe, str):\n",
    "    universe = json.loads(universe)"
   ]
  },
  {
   "cell_type": "code",
   "execution_count": 6,
   "id": "16620c48",
   "metadata": {
    "execution": {
     "iopub.execute_input": "2025-07-28T11:06:23.255323Z",
     "iopub.status.busy": "2025-07-28T11:06:23.254872Z",
     "iopub.status.idle": "2025-07-28T11:06:23.368725Z",
     "shell.execute_reply": "2025-07-28T11:06:23.367619Z"
    },
    "papermill": {
     "duration": 0.176145,
     "end_time": "2025-07-28T11:06:23.370938",
     "exception": false,
     "start_time": "2025-07-28T11:06:23.194793",
     "status": "completed"
    },
    "tags": []
   },
   "outputs": [],
   "source": [
    "# Auto-reload the custom package\n",
    "%load_ext autoreload\n",
    "%autoreload 1\n",
    "%aimport fairness_multiverse"
   ]
  },
  {
   "cell_type": "code",
   "execution_count": 7,
   "id": "01c5c9f3",
   "metadata": {
    "execution": {
     "iopub.execute_input": "2025-07-28T11:06:23.478875Z",
     "iopub.status.busy": "2025-07-28T11:06:23.478440Z",
     "iopub.status.idle": "2025-07-28T11:06:28.750515Z",
     "shell.execute_reply": "2025-07-28T11:06:28.749195Z"
    },
    "papermill": {
     "duration": 5.336113,
     "end_time": "2025-07-28T11:06:28.752440",
     "exception": false,
     "start_time": "2025-07-28T11:06:23.416327",
     "status": "completed"
    },
    "tags": []
   },
   "outputs": [],
   "source": [
    "from fairness_multiverse.universe import UniverseAnalysis\n",
    "\n",
    "universe_analysis = UniverseAnalysis(\n",
    "    run_no = run_no,\n",
    "    universe_id = universe_id,\n",
    "    universe = universe,\n",
    "    output_dir=output_dir,\n",
    ")"
   ]
  },
  {
   "cell_type": "code",
   "execution_count": 8,
   "id": "106241f5",
   "metadata": {
    "execution": {
     "iopub.execute_input": "2025-07-28T11:06:28.832330Z",
     "iopub.status.busy": "2025-07-28T11:06:28.831919Z",
     "iopub.status.idle": "2025-07-28T11:06:28.838991Z",
     "shell.execute_reply": "2025-07-28T11:06:28.837964Z"
    },
    "papermill": {
     "duration": 0.051784,
     "end_time": "2025-07-28T11:06:28.840868",
     "exception": false,
     "start_time": "2025-07-28T11:06:28.789084",
     "status": "completed"
    },
    "tags": []
   },
   "outputs": [
    {
     "name": "stdout",
     "output_type": "stream",
     "text": [
      "Using Seed: 2023\n"
     ]
    }
   ],
   "source": [
    "import numpy as np\n",
    "parsed_seed = int(seed)\n",
    "np.random.seed(parsed_seed)\n",
    "print(f\"Using Seed: {parsed_seed}\")"
   ]
  },
  {
   "cell_type": "markdown",
   "id": "e0ebdc57",
   "metadata": {
    "papermill": {
     "duration": 0.040663,
     "end_time": "2025-07-28T11:06:28.918642",
     "exception": false,
     "start_time": "2025-07-28T11:06:28.877979",
     "status": "completed"
    },
    "tags": []
   },
   "source": [
    "# Loading Data"
   ]
  },
  {
   "cell_type": "markdown",
   "id": "681925a3",
   "metadata": {
    "papermill": {
     "duration": 0.037082,
     "end_time": "2025-07-28T11:06:29.001750",
     "exception": false,
     "start_time": "2025-07-28T11:06:28.964668",
     "status": "completed"
    },
    "tags": []
   },
   "source": [
    "Load siab_train, siab_test, siab_calib and/or \n",
    "load siab_train_features, siab_train_labels"
   ]
  },
  {
   "cell_type": "code",
   "execution_count": 9,
   "id": "f0496b8a",
   "metadata": {
    "execution": {
     "iopub.execute_input": "2025-07-28T11:06:29.091675Z",
     "iopub.status.busy": "2025-07-28T11:06:29.091248Z",
     "iopub.status.idle": "2025-07-28T11:06:51.898670Z",
     "shell.execute_reply": "2025-07-28T11:06:51.897171Z"
    },
    "papermill": {
     "duration": 22.848043,
     "end_time": "2025-07-28T11:06:51.900615",
     "exception": false,
     "start_time": "2025-07-28T11:06:29.052572",
     "status": "completed"
    },
    "tags": []
   },
   "outputs": [
    {
     "name": "stdout",
     "output_type": "stream",
     "text": [
      "Loading SIAB data from cache: data/siab_cached.csv.gz\n"
     ]
    },
    {
     "name": "stdout",
     "output_type": "stream",
     "text": [
      "(643690, 164)\n"
     ]
    }
   ],
   "source": [
    "from pathlib import Path\n",
    "import pandas as pd\n",
    "\n",
    "# File paths\n",
    "raw_file = Path(\"data/raw/siab.csv\")\n",
    "cache_file = Path(\"data/siab_cached.csv.gz\")\n",
    "\n",
    "# Ensure cache directory exists\n",
    "cache_file.parent.mkdir(parents=True, exist_ok=True)\n",
    "\n",
    "# Load with simple caching\n",
    "if cache_file.exists():\n",
    "    print(f\"Loading SIAB data from cache: {cache_file}\")\n",
    "    siab = pd.read_csv(cache_file, compression='gzip')\n",
    "else:\n",
    "    print(f\"Cache not found. Reading raw SIAB data: {raw_file}\")\n",
    "    siab = pd.read_csv(raw_file)\n",
    "    siab.to_csv(cache_file, index=False, compression='gzip')\n",
    "    print(f\"Cached SIAB data to: {cache_file}\")\n",
    "\n",
    "# Now use `siab` DataFrame as needed\n",
    "print(siab.shape)"
   ]
  },
  {
   "cell_type": "code",
   "execution_count": 10,
   "id": "db0ca512-5f53-4dba-abdb-a2888bca41ba",
   "metadata": {
    "execution": {
     "iopub.execute_input": "2025-07-28T11:06:51.959379Z",
     "iopub.status.busy": "2025-07-28T11:06:51.958363Z",
     "iopub.status.idle": "2025-07-28T11:06:51.965067Z",
     "shell.execute_reply": "2025-07-28T11:06:51.963913Z"
    },
    "papermill": {
     "duration": 0.030602,
     "end_time": "2025-07-28T11:06:51.966874",
     "exception": false,
     "start_time": "2025-07-28T11:06:51.936272",
     "status": "completed"
    },
    "tags": []
   },
   "outputs": [],
   "source": [
    "#siab"
   ]
  },
  {
   "cell_type": "code",
   "execution_count": 11,
   "id": "a0edb063",
   "metadata": {
    "execution": {
     "iopub.execute_input": "2025-07-28T11:06:52.020138Z",
     "iopub.status.busy": "2025-07-28T11:06:52.019738Z",
     "iopub.status.idle": "2025-07-28T11:06:52.025135Z",
     "shell.execute_reply": "2025-07-28T11:06:52.024017Z"
    },
    "papermill": {
     "duration": 0.028256,
     "end_time": "2025-07-28T11:06:52.027721",
     "exception": false,
     "start_time": "2025-07-28T11:06:51.999465",
     "status": "completed"
    },
    "tags": []
   },
   "outputs": [],
   "source": [
    "#import pandas as pd\n",
    "#\n",
    "#X_train = pd.read_csv(\"./data/X_train.csv\")\n",
    "#y_train = pd.read_csv(\"./data/y_train.csv\")"
   ]
  },
  {
   "cell_type": "code",
   "execution_count": 12,
   "id": "63d08085",
   "metadata": {
    "execution": {
     "iopub.execute_input": "2025-07-28T11:06:52.120223Z",
     "iopub.status.busy": "2025-07-28T11:06:52.119043Z",
     "iopub.status.idle": "2025-07-28T11:06:52.125227Z",
     "shell.execute_reply": "2025-07-28T11:06:52.124091Z"
    },
    "papermill": {
     "duration": 0.03993,
     "end_time": "2025-07-28T11:06:52.128210",
     "exception": false,
     "start_time": "2025-07-28T11:06:52.088280",
     "status": "completed"
    },
    "tags": []
   },
   "outputs": [],
   "source": [
    "#X_test = pd.read_csv(\"./data/X_test.csv\")\n",
    "#y_true = pd.read_csv(\"./data/y_test.csv\")"
   ]
  },
  {
   "cell_type": "code",
   "execution_count": 13,
   "id": "98a8d0fa-1d3d-4ed8-bb2c-281470e24add",
   "metadata": {
    "execution": {
     "iopub.execute_input": "2025-07-28T11:06:52.169898Z",
     "iopub.status.busy": "2025-07-28T11:06:52.169469Z",
     "iopub.status.idle": "2025-07-28T11:06:52.174987Z",
     "shell.execute_reply": "2025-07-28T11:06:52.173919Z"
    },
    "papermill": {
     "duration": 0.029203,
     "end_time": "2025-07-28T11:06:52.177874",
     "exception": false,
     "start_time": "2025-07-28T11:06:52.148671",
     "status": "completed"
    },
    "tags": []
   },
   "outputs": [],
   "source": [
    "# Calibration data for conformal\n",
    "#X_calib = pd.read_csv(\"./data/X_calib.csv\")\n",
    "#y_calib = pd.read_csv(\"./data/y_calib.csv\")"
   ]
  },
  {
   "cell_type": "markdown",
   "id": "9901737e-04df-44f0-9100-f5ad144ed040",
   "metadata": {
    "papermill": {
     "duration": 0.019219,
     "end_time": "2025-07-28T11:06:52.217579",
     "exception": false,
     "start_time": "2025-07-28T11:06:52.198360",
     "status": "completed"
    },
    "tags": []
   },
   "source": [
    "# Splitting Data and Setting Training Data Size"
   ]
  },
  {
   "cell_type": "code",
   "execution_count": 14,
   "id": "acbc8f7d-8fc8-4e86-8c59-5dcb0f58384b",
   "metadata": {
    "execution": {
     "iopub.execute_input": "2025-07-28T11:06:52.259850Z",
     "iopub.status.busy": "2025-07-28T11:06:52.259336Z",
     "iopub.status.idle": "2025-07-28T11:06:52.268739Z",
     "shell.execute_reply": "2025-07-28T11:06:52.267789Z"
    },
    "papermill": {
     "duration": 0.034605,
     "end_time": "2025-07-28T11:06:52.271924",
     "exception": false,
     "start_time": "2025-07-28T11:06:52.237319",
     "status": "completed"
    },
    "tags": []
   },
   "outputs": [],
   "source": [
    "def sample_by_year(df, training_size, random_state=42):\n",
    "    if training_size == \"2014\":\n",
    "        return df[df[\"year\"] == 2014].reset_index(drop=True)\n",
    "    \n",
    "    size_map = {\n",
    "        \"25k\": 5000,\n",
    "        \"5k\": 1000,\n",
    "        \"1k\": 200\n",
    "    }\n",
    "\n",
    "    if training_size not in size_map:\n",
    "        return df.reset_index(drop=True)  # use all data\n",
    "\n",
    "    n_per_year = size_map[training_size]\n",
    "    grouped = df.groupby(\"year\")\n",
    "    sampled = grouped.apply(lambda x: x.sample(n=min(n_per_year, len(x)), random_state=random_state))\n",
    "    return sampled.reset_index(drop=True)"
   ]
  },
  {
   "cell_type": "code",
   "execution_count": 15,
   "id": "6d931f52-beaf-43ff-9e78-9d44a448d54e",
   "metadata": {
    "execution": {
     "iopub.execute_input": "2025-07-28T11:06:52.358770Z",
     "iopub.status.busy": "2025-07-28T11:06:52.358364Z",
     "iopub.status.idle": "2025-07-28T11:06:52.544497Z",
     "shell.execute_reply": "2025-07-28T11:06:52.543564Z"
    },
    "papermill": {
     "duration": 0.229967,
     "end_time": "2025-07-28T11:06:52.546293",
     "exception": false,
     "start_time": "2025-07-28T11:06:52.316326",
     "status": "completed"
    },
    "tags": []
   },
   "outputs": [],
   "source": [
    "siab_s = sample_by_year(siab, universe[\"training_size\"])"
   ]
  },
  {
   "cell_type": "code",
   "execution_count": 16,
   "id": "5db0a40e-a4e2-4920-be85-b12ae061d70d",
   "metadata": {
    "execution": {
     "iopub.execute_input": "2025-07-28T11:06:52.592134Z",
     "iopub.status.busy": "2025-07-28T11:06:52.591586Z",
     "iopub.status.idle": "2025-07-28T11:06:52.608837Z",
     "shell.execute_reply": "2025-07-28T11:06:52.607771Z"
    },
    "papermill": {
     "duration": 0.039988,
     "end_time": "2025-07-28T11:06:52.610801",
     "exception": false,
     "start_time": "2025-07-28T11:06:52.570813",
     "status": "completed"
    },
    "tags": []
   },
   "outputs": [
    {
     "data": {
      "text/plain": [
       "year\n",
       "2014    87158\n",
       "dtype: int64"
      ]
     },
     "metadata": {},
     "output_type": "display_data"
    }
   ],
   "source": [
    "display(siab_s.groupby(\"year\").size())"
   ]
  },
  {
   "cell_type": "code",
   "execution_count": 17,
   "id": "a561edb4-d032-42cb-8256-22eac1111c64",
   "metadata": {
    "execution": {
     "iopub.execute_input": "2025-07-28T11:06:52.650252Z",
     "iopub.status.busy": "2025-07-28T11:06:52.649557Z",
     "iopub.status.idle": "2025-07-28T11:06:52.944159Z",
     "shell.execute_reply": "2025-07-28T11:06:52.943027Z"
    },
    "papermill": {
     "duration": 0.31937,
     "end_time": "2025-07-28T11:06:52.946258",
     "exception": false,
     "start_time": "2025-07-28T11:06:52.626888",
     "status": "completed"
    },
    "tags": []
   },
   "outputs": [],
   "source": [
    "siab_train = siab_s[siab_s.year < 2015]\n",
    "siab_calib = siab[siab.year == 2015]\n",
    "siab_test = siab[siab.year == 2016]"
   ]
  },
  {
   "cell_type": "code",
   "execution_count": 18,
   "id": "472de16f-c3db-4916-846b-1f0de9cf1746",
   "metadata": {
    "execution": {
     "iopub.execute_input": "2025-07-28T11:06:53.031400Z",
     "iopub.status.busy": "2025-07-28T11:06:53.030976Z",
     "iopub.status.idle": "2025-07-28T11:06:53.133234Z",
     "shell.execute_reply": "2025-07-28T11:06:53.131938Z"
    },
    "papermill": {
     "duration": 0.142482,
     "end_time": "2025-07-28T11:06:53.135170",
     "exception": false,
     "start_time": "2025-07-28T11:06:52.992688",
     "status": "completed"
    },
    "tags": []
   },
   "outputs": [],
   "source": [
    "X_train = siab_train.iloc[:,4:164]\n",
    "y_train = siab_train.iloc[:, [3]]"
   ]
  },
  {
   "cell_type": "code",
   "execution_count": 19,
   "id": "828c96af-f43a-4ed6-ba47-8ac73a47d56c",
   "metadata": {
    "execution": {
     "iopub.execute_input": "2025-07-28T11:06:53.219924Z",
     "iopub.status.busy": "2025-07-28T11:06:53.219466Z",
     "iopub.status.idle": "2025-07-28T11:06:53.275977Z",
     "shell.execute_reply": "2025-07-28T11:06:53.274766Z"
    },
    "papermill": {
     "duration": 0.097699,
     "end_time": "2025-07-28T11:06:53.278368",
     "exception": false,
     "start_time": "2025-07-28T11:06:53.180669",
     "status": "completed"
    },
    "tags": []
   },
   "outputs": [],
   "source": [
    "X_calib = siab_calib.iloc[:,4:164]\n",
    "y_calib = siab_calib.iloc[:, [3]]"
   ]
  },
  {
   "cell_type": "code",
   "execution_count": 20,
   "id": "c34be9c3-6bd6-476e-acd3-845840e303be",
   "metadata": {
    "execution": {
     "iopub.execute_input": "2025-07-28T11:06:53.328795Z",
     "iopub.status.busy": "2025-07-28T11:06:53.328346Z",
     "iopub.status.idle": "2025-07-28T11:06:53.386503Z",
     "shell.execute_reply": "2025-07-28T11:06:53.385309Z"
    },
    "papermill": {
     "duration": 0.08742,
     "end_time": "2025-07-28T11:06:53.388926",
     "exception": false,
     "start_time": "2025-07-28T11:06:53.301506",
     "status": "completed"
    },
    "tags": []
   },
   "outputs": [],
   "source": [
    "X_test = siab_test.iloc[:,4:164]\n",
    "y_true = siab_test.iloc[:, [3]]"
   ]
  },
  {
   "cell_type": "code",
   "execution_count": 21,
   "id": "e6c733c5",
   "metadata": {
    "execution": {
     "iopub.execute_input": "2025-07-28T11:06:53.437339Z",
     "iopub.status.busy": "2025-07-28T11:06:53.436884Z",
     "iopub.status.idle": "2025-07-28T11:06:53.646624Z",
     "shell.execute_reply": "2025-07-28T11:06:53.645409Z"
    },
    "papermill": {
     "duration": 0.236297,
     "end_time": "2025-07-28T11:06:53.648958",
     "exception": false,
     "start_time": "2025-07-28T11:06:53.412661",
     "status": "completed"
    },
    "tags": []
   },
   "outputs": [],
   "source": [
    "# Auxiliary data needed downstream in the pipeline\n",
    "\n",
    "org_train = X_train.copy()\n",
    "org_test = X_test.copy()\n",
    "org_calib = X_calib.copy()"
   ]
  },
  {
   "cell_type": "markdown",
   "id": "0a4a1b33",
   "metadata": {
    "papermill": {
     "duration": 0.023467,
     "end_time": "2025-07-28T11:06:53.690523",
     "exception": false,
     "start_time": "2025-07-28T11:06:53.667056",
     "status": "completed"
    },
    "tags": []
   },
   "source": [
    "# Preprocessing Data"
   ]
  },
  {
   "cell_type": "code",
   "execution_count": 22,
   "id": "ca879031",
   "metadata": {
    "execution": {
     "iopub.execute_input": "2025-07-28T11:06:53.745476Z",
     "iopub.status.busy": "2025-07-28T11:06:53.745034Z",
     "iopub.status.idle": "2025-07-28T11:06:53.751819Z",
     "shell.execute_reply": "2025-07-28T11:06:53.750853Z"
    },
    "papermill": {
     "duration": 0.038735,
     "end_time": "2025-07-28T11:06:53.753487",
     "exception": false,
     "start_time": "2025-07-28T11:06:53.714752",
     "status": "completed"
    },
    "tags": []
   },
   "outputs": [],
   "source": [
    "# EXCLUDE PROTECTED FEATURES\n",
    "# ----------------------\n",
    "# \"exclude_features\": \"none\", # \"nationality\", \"sex\", \"nationality-sex\"\n",
    "\n",
    "excluded_features = universe[\"exclude_features\"].split(\"-\") # split, e.g.: \"nationality-sex\" -> [\"nationality\", \"sex\"]\n",
    "excluded_features_dictionary = {\n",
    "    \"nationality\": [\"maxdeutsch1\", \"maxdeutsch.Missing.\"],\n",
    "    \"sex\": [\"frau1\"],\n",
    "    \"age\": [\"age\"],\n",
    "}\n"
   ]
  },
  {
   "cell_type": "code",
   "execution_count": 23,
   "id": "b745ac60",
   "metadata": {
    "execution": {
     "iopub.execute_input": "2025-07-28T11:06:53.860786Z",
     "iopub.status.busy": "2025-07-28T11:06:53.859778Z",
     "iopub.status.idle": "2025-07-28T11:06:53.866439Z",
     "shell.execute_reply": "2025-07-28T11:06:53.865398Z"
    },
    "papermill": {
     "duration": 0.069588,
     "end_time": "2025-07-28T11:06:53.869634",
     "exception": false,
     "start_time": "2025-07-28T11:06:53.800046",
     "status": "completed"
    },
    "tags": []
   },
   "outputs": [],
   "source": [
    "# Code nice names to column names\n",
    "\n",
    "excluded_features_columns = [\n",
    "    excluded_features_dictionary[f] for f in excluded_features if len(f) > 0 and f != \"none\"\n",
    "]"
   ]
  },
  {
   "cell_type": "code",
   "execution_count": 24,
   "id": "f84f73a2",
   "metadata": {
    "execution": {
     "iopub.execute_input": "2025-07-28T11:06:53.928565Z",
     "iopub.status.busy": "2025-07-28T11:06:53.928099Z",
     "iopub.status.idle": "2025-07-28T11:06:53.935436Z",
     "shell.execute_reply": "2025-07-28T11:06:53.934406Z"
    },
    "papermill": {
     "duration": 0.036348,
     "end_time": "2025-07-28T11:06:53.938834",
     "exception": false,
     "start_time": "2025-07-28T11:06:53.902486",
     "status": "completed"
    },
    "tags": []
   },
   "outputs": [],
   "source": [
    "from utils import flatten_once\n",
    "\n",
    "excluded_features_columns = flatten_once(excluded_features_columns)"
   ]
  },
  {
   "cell_type": "code",
   "execution_count": 25,
   "id": "884dea22",
   "metadata": {
    "execution": {
     "iopub.execute_input": "2025-07-28T11:06:53.987507Z",
     "iopub.status.busy": "2025-07-28T11:06:53.987042Z",
     "iopub.status.idle": "2025-07-28T11:06:54.055330Z",
     "shell.execute_reply": "2025-07-28T11:06:54.053927Z"
    },
    "papermill": {
     "duration": 0.094643,
     "end_time": "2025-07-28T11:06:54.057504",
     "exception": false,
     "start_time": "2025-07-28T11:06:53.962861",
     "status": "completed"
    },
    "tags": []
   },
   "outputs": [
    {
     "name": "stdout",
     "output_type": "stream",
     "text": [
      "Dropping features: ['maxdeutsch1', 'maxdeutsch.Missing.', 'frau1']\n"
     ]
    }
   ],
   "source": [
    "if len(excluded_features_columns) > 0:\n",
    "    print(f\"Dropping features: {excluded_features_columns}\")\n",
    "    X_train.drop(excluded_features_columns, axis=1, inplace=True)"
   ]
  },
  {
   "cell_type": "code",
   "execution_count": 26,
   "id": "95ab8b16",
   "metadata": {
    "execution": {
     "iopub.execute_input": "2025-07-28T11:06:54.145528Z",
     "iopub.status.busy": "2025-07-28T11:06:54.145044Z",
     "iopub.status.idle": "2025-07-28T11:06:54.205093Z",
     "shell.execute_reply": "2025-07-28T11:06:54.204080Z"
    },
    "papermill": {
     "duration": 0.102447,
     "end_time": "2025-07-28T11:06:54.206978",
     "exception": false,
     "start_time": "2025-07-28T11:06:54.104531",
     "status": "completed"
    },
    "tags": []
   },
   "outputs": [
    {
     "name": "stdout",
     "output_type": "stream",
     "text": [
      "Dropping features: ['maxdeutsch1', 'maxdeutsch.Missing.', 'frau1']\n"
     ]
    }
   ],
   "source": [
    "if len(excluded_features_columns) > 0:\n",
    "    print(f\"Dropping features: {excluded_features_columns}\")\n",
    "    X_test.drop(excluded_features_columns, axis=1, inplace=True)"
   ]
  },
  {
   "cell_type": "code",
   "execution_count": 27,
   "id": "1853aaf5-fb9f-46cb-a2b5-8ea4ae2237e4",
   "metadata": {
    "execution": {
     "iopub.execute_input": "2025-07-28T11:06:54.258581Z",
     "iopub.status.busy": "2025-07-28T11:06:54.258026Z",
     "iopub.status.idle": "2025-07-28T11:06:54.305740Z",
     "shell.execute_reply": "2025-07-28T11:06:54.304966Z"
    },
    "papermill": {
     "duration": 0.074253,
     "end_time": "2025-07-28T11:06:54.307083",
     "exception": false,
     "start_time": "2025-07-28T11:06:54.232830",
     "status": "completed"
    },
    "tags": []
   },
   "outputs": [
    {
     "name": "stdout",
     "output_type": "stream",
     "text": [
      "Dropping features: ['maxdeutsch1', 'maxdeutsch.Missing.', 'frau1']\n"
     ]
    }
   ],
   "source": [
    "if len(excluded_features_columns) > 0:\n",
    "    print(f\"Dropping features: {excluded_features_columns}\")\n",
    "    X_calib.drop(excluded_features_columns, axis=1, inplace=True)"
   ]
  },
  {
   "cell_type": "code",
   "execution_count": 28,
   "id": "6727d079-03e5-481e-9d38-292a90b7a0a8",
   "metadata": {
    "execution": {
     "iopub.execute_input": "2025-07-28T11:06:54.331965Z",
     "iopub.status.busy": "2025-07-28T11:06:54.331120Z",
     "iopub.status.idle": "2025-07-28T11:06:54.335852Z",
     "shell.execute_reply": "2025-07-28T11:06:54.335048Z"
    },
    "papermill": {
     "duration": 0.018247,
     "end_time": "2025-07-28T11:06:54.337285",
     "exception": false,
     "start_time": "2025-07-28T11:06:54.319038",
     "status": "completed"
    },
    "tags": []
   },
   "outputs": [],
   "source": [
    "# SPLIT & STRATIFY DATA\n",
    "# ----------------------"
   ]
  },
  {
   "cell_type": "code",
   "execution_count": 29,
   "id": "76c4dc6d",
   "metadata": {
    "execution": {
     "iopub.execute_input": "2025-07-28T11:06:54.362117Z",
     "iopub.status.busy": "2025-07-28T11:06:54.361573Z",
     "iopub.status.idle": "2025-07-28T11:06:54.366378Z",
     "shell.execute_reply": "2025-07-28T11:06:54.365603Z"
    },
    "papermill": {
     "duration": 0.018425,
     "end_time": "2025-07-28T11:06:54.367673",
     "exception": false,
     "start_time": "2025-07-28T11:06:54.349248",
     "status": "completed"
    },
    "tags": []
   },
   "outputs": [],
   "source": [
    "# EXCLUDE CERTAIN SUBGROUPS\n",
    "# ----------------------\n",
    "\n",
    "mode = universe.get(\"exclude_subgroups\", \"keep-all\") \n",
    "# Fetches the exclude_subgroups setting from the universe dict.\n",
    "# Defaults to \"keep-all\" if the key is missing."
   ]
  },
  {
   "cell_type": "code",
   "execution_count": 30,
   "id": "21994072",
   "metadata": {
    "execution": {
     "iopub.execute_input": "2025-07-28T11:06:54.392492Z",
     "iopub.status.busy": "2025-07-28T11:06:54.391933Z",
     "iopub.status.idle": "2025-07-28T11:06:54.398319Z",
     "shell.execute_reply": "2025-07-28T11:06:54.397501Z"
    },
    "papermill": {
     "duration": 0.020038,
     "end_time": "2025-07-28T11:06:54.399801",
     "exception": false,
     "start_time": "2025-07-28T11:06:54.379763",
     "status": "completed"
    },
    "tags": []
   },
   "outputs": [],
   "source": [
    "if mode == \"keep-all\":\n",
    "    keep_mask = pd.Series(True, index=org_train.index)\n",
    "\n",
    "# org_train contains the original feature columns from features_org (in Simson)\n",
    "# features_org contains unprocessed features, for me X_train at beginning ???\n",
    "# For keep-all, creates a boolean Series (keep_mask) of all True, so no rows are removed.\n",
    "\n",
    "elif mode == \"drop-non-german\":\n",
    "    keep_mask = org_train[\"maxdeutsch1\"] == 1 # ??? what about missing values?\n",
    "\n",
    "else:\n",
    "    raise ValueError(f\"Unsupported mode for exclude_subgroups: {mode}\")\n"
   ]
  },
  {
   "cell_type": "code",
   "execution_count": 31,
   "id": "71651440",
   "metadata": {
    "execution": {
     "iopub.execute_input": "2025-07-28T11:06:54.425595Z",
     "iopub.status.busy": "2025-07-28T11:06:54.425077Z",
     "iopub.status.idle": "2025-07-28T11:06:54.431615Z",
     "shell.execute_reply": "2025-07-28T11:06:54.430867Z"
    },
    "papermill": {
     "duration": 0.020929,
     "end_time": "2025-07-28T11:06:54.433059",
     "exception": false,
     "start_time": "2025-07-28T11:06:54.412130",
     "status": "completed"
    },
    "tags": []
   },
   "outputs": [
    {
     "name": "stdout",
     "output_type": "stream",
     "text": [
      "Dropping 12995 rows (14.91%) where mode='drop-non-german'\n"
     ]
    }
   ],
   "source": [
    "n_drop = (~keep_mask).sum() # Calculates how many rows are set to be dropped\n",
    "if n_drop > 0:\n",
    "    pct = n_drop / len(keep_mask) * 100\n",
    "    print(f\"Dropping {n_drop} rows ({pct:.2f}%) where mode='{mode}'\")"
   ]
  },
  {
   "cell_type": "code",
   "execution_count": 32,
   "id": "5fb8eee5",
   "metadata": {
    "execution": {
     "iopub.execute_input": "2025-07-28T11:06:54.458251Z",
     "iopub.status.busy": "2025-07-28T11:06:54.457712Z",
     "iopub.status.idle": "2025-07-28T11:06:54.507638Z",
     "shell.execute_reply": "2025-07-28T11:06:54.506879Z"
    },
    "papermill": {
     "duration": 0.064057,
     "end_time": "2025-07-28T11:06:54.509162",
     "exception": false,
     "start_time": "2025-07-28T11:06:54.445105",
     "status": "completed"
    },
    "tags": []
   },
   "outputs": [],
   "source": [
    "X_train = X_train[keep_mask]"
   ]
  },
  {
   "cell_type": "code",
   "execution_count": 33,
   "id": "b202bb3a",
   "metadata": {
    "execution": {
     "iopub.execute_input": "2025-07-28T11:06:54.534316Z",
     "iopub.status.busy": "2025-07-28T11:06:54.533715Z",
     "iopub.status.idle": "2025-07-28T11:06:54.539767Z",
     "shell.execute_reply": "2025-07-28T11:06:54.539006Z"
    },
    "papermill": {
     "duration": 0.019799,
     "end_time": "2025-07-28T11:06:54.541198",
     "exception": false,
     "start_time": "2025-07-28T11:06:54.521399",
     "status": "completed"
    },
    "tags": []
   },
   "outputs": [],
   "source": [
    "y_train = y_train[keep_mask]"
   ]
  },
  {
   "cell_type": "markdown",
   "id": "493e2ac3",
   "metadata": {
    "papermill": {
     "duration": 0.011494,
     "end_time": "2025-07-28T11:06:54.564483",
     "exception": false,
     "start_time": "2025-07-28T11:06:54.552989",
     "status": "completed"
    },
    "tags": []
   },
   "source": [
    "# Model Training"
   ]
  },
  {
   "cell_type": "code",
   "execution_count": 34,
   "id": "679e1268",
   "metadata": {
    "execution": {
     "iopub.execute_input": "2025-07-28T11:06:54.589137Z",
     "iopub.status.busy": "2025-07-28T11:06:54.588436Z",
     "iopub.status.idle": "2025-07-28T11:06:54.665747Z",
     "shell.execute_reply": "2025-07-28T11:06:54.664962Z"
    },
    "papermill": {
     "duration": 0.09124,
     "end_time": "2025-07-28T11:06:54.667303",
     "exception": false,
     "start_time": "2025-07-28T11:06:54.576063",
     "status": "completed"
    },
    "tags": []
   },
   "outputs": [],
   "source": [
    "from sklearn.linear_model import LogisticRegression\n",
    "from sklearn.ensemble import GradientBoostingClassifier, RandomForestClassifier\n",
    "\n",
    "if (universe[\"model\"] == \"logreg\"):\n",
    "    model = LogisticRegression() #penalty=\"none\") #, solver=\"newton-cg\", max_iter=1) # include random_state=19 ?\n",
    "elif (universe[\"model\"] == \"penalized_logreg\"):\n",
    "    model = LogisticRegression(penalty=\"l2\", C=1.0) #, solver=\"newton-cg\", max_iter=1)\n",
    "elif (universe[\"model\"] == \"rf\"):\n",
    "    model = RandomForestClassifier(n_estimators=100, n_jobs=-1)\n",
    "elif (universe[\"model\"] == \"gbm\"):\n",
    "    model = GradientBoostingClassifier()\n",
    "elif (universe[\"model\"] == \"elasticnet\"):\n",
    "    model = LogisticRegression(penalty = 'elasticnet', solver = 'saga', l1_ratio = 0.5, max_iter=5000) # which solver to use?\n",
    "else:\n",
    "    raise \"Unsupported universe.model\""
   ]
  },
  {
   "cell_type": "code",
   "execution_count": 35,
   "id": "0cc8f744",
   "metadata": {
    "execution": {
     "iopub.execute_input": "2025-07-28T11:06:54.692120Z",
     "iopub.status.busy": "2025-07-28T11:06:54.691379Z",
     "iopub.status.idle": "2025-07-28T11:06:54.696966Z",
     "shell.execute_reply": "2025-07-28T11:06:54.696088Z"
    },
    "papermill": {
     "duration": 0.019037,
     "end_time": "2025-07-28T11:06:54.698400",
     "exception": false,
     "start_time": "2025-07-28T11:06:54.679363",
     "status": "completed"
    },
    "tags": []
   },
   "outputs": [],
   "source": [
    "import numpy as np\n",
    "from sklearn.pipeline import Pipeline\n",
    "from sklearn.preprocessing import StandardScaler\n",
    "\n",
    "model = Pipeline([\n",
    "    #(\"continuous_processor\", continuous_processor),\n",
    "    #(\"categorical_preprocessor\", categorical_preprocessor),\n",
    "    (\"scale\", StandardScaler() if universe[\"scale\"] == \"scale\" else None), \n",
    "    (\"model\", model),\n",
    "])"
   ]
  },
  {
   "cell_type": "code",
   "execution_count": 36,
   "id": "9442c04d",
   "metadata": {
    "execution": {
     "iopub.execute_input": "2025-07-28T11:06:54.723184Z",
     "iopub.status.busy": "2025-07-28T11:06:54.722735Z",
     "iopub.status.idle": "2025-07-28T11:07:05.512428Z",
     "shell.execute_reply": "2025-07-28T11:07:05.511692Z"
    },
    "papermill": {
     "duration": 10.803099,
     "end_time": "2025-07-28T11:07:05.513709",
     "exception": false,
     "start_time": "2025-07-28T11:06:54.710610",
     "status": "completed"
    },
    "tags": []
   },
   "outputs": [
    {
     "data": {
      "text/html": [
       "<style>#sk-container-id-1 {color: black;background-color: white;}#sk-container-id-1 pre{padding: 0;}#sk-container-id-1 div.sk-toggleable {background-color: white;}#sk-container-id-1 label.sk-toggleable__label {cursor: pointer;display: block;width: 100%;margin-bottom: 0;padding: 0.3em;box-sizing: border-box;text-align: center;}#sk-container-id-1 label.sk-toggleable__label-arrow:before {content: \"▸\";float: left;margin-right: 0.25em;color: #696969;}#sk-container-id-1 label.sk-toggleable__label-arrow:hover:before {color: black;}#sk-container-id-1 div.sk-estimator:hover label.sk-toggleable__label-arrow:before {color: black;}#sk-container-id-1 div.sk-toggleable__content {max-height: 0;max-width: 0;overflow: hidden;text-align: left;background-color: #f0f8ff;}#sk-container-id-1 div.sk-toggleable__content pre {margin: 0.2em;color: black;border-radius: 0.25em;background-color: #f0f8ff;}#sk-container-id-1 input.sk-toggleable__control:checked~div.sk-toggleable__content {max-height: 200px;max-width: 100%;overflow: auto;}#sk-container-id-1 input.sk-toggleable__control:checked~label.sk-toggleable__label-arrow:before {content: \"▾\";}#sk-container-id-1 div.sk-estimator input.sk-toggleable__control:checked~label.sk-toggleable__label {background-color: #d4ebff;}#sk-container-id-1 div.sk-label input.sk-toggleable__control:checked~label.sk-toggleable__label {background-color: #d4ebff;}#sk-container-id-1 input.sk-hidden--visually {border: 0;clip: rect(1px 1px 1px 1px);clip: rect(1px, 1px, 1px, 1px);height: 1px;margin: -1px;overflow: hidden;padding: 0;position: absolute;width: 1px;}#sk-container-id-1 div.sk-estimator {font-family: monospace;background-color: #f0f8ff;border: 1px dotted black;border-radius: 0.25em;box-sizing: border-box;margin-bottom: 0.5em;}#sk-container-id-1 div.sk-estimator:hover {background-color: #d4ebff;}#sk-container-id-1 div.sk-parallel-item::after {content: \"\";width: 100%;border-bottom: 1px solid gray;flex-grow: 1;}#sk-container-id-1 div.sk-label:hover label.sk-toggleable__label {background-color: #d4ebff;}#sk-container-id-1 div.sk-serial::before {content: \"\";position: absolute;border-left: 1px solid gray;box-sizing: border-box;top: 0;bottom: 0;left: 50%;z-index: 0;}#sk-container-id-1 div.sk-serial {display: flex;flex-direction: column;align-items: center;background-color: white;padding-right: 0.2em;padding-left: 0.2em;position: relative;}#sk-container-id-1 div.sk-item {position: relative;z-index: 1;}#sk-container-id-1 div.sk-parallel {display: flex;align-items: stretch;justify-content: center;background-color: white;position: relative;}#sk-container-id-1 div.sk-item::before, #sk-container-id-1 div.sk-parallel-item::before {content: \"\";position: absolute;border-left: 1px solid gray;box-sizing: border-box;top: 0;bottom: 0;left: 50%;z-index: -1;}#sk-container-id-1 div.sk-parallel-item {display: flex;flex-direction: column;z-index: 1;position: relative;background-color: white;}#sk-container-id-1 div.sk-parallel-item:first-child::after {align-self: flex-end;width: 50%;}#sk-container-id-1 div.sk-parallel-item:last-child::after {align-self: flex-start;width: 50%;}#sk-container-id-1 div.sk-parallel-item:only-child::after {width: 0;}#sk-container-id-1 div.sk-dashed-wrapped {border: 1px dashed gray;margin: 0 0.4em 0.5em 0.4em;box-sizing: border-box;padding-bottom: 0.4em;background-color: white;}#sk-container-id-1 div.sk-label label {font-family: monospace;font-weight: bold;display: inline-block;line-height: 1.2em;}#sk-container-id-1 div.sk-label-container {text-align: center;}#sk-container-id-1 div.sk-container {/* jupyter's `normalize.less` sets `[hidden] { display: none; }` but bootstrap.min.css set `[hidden] { display: none !important; }` so we also need the `!important` here to be able to override the default hidden behavior on the sphinx rendered scikit-learn.org. See: https://github.com/scikit-learn/scikit-learn/issues/21755 */display: inline-block !important;position: relative;}#sk-container-id-1 div.sk-text-repr-fallback {display: none;}</style><div id=\"sk-container-id-1\" class=\"sk-top-container\"><div class=\"sk-text-repr-fallback\"><pre>Pipeline(steps=[(&#x27;scale&#x27;, None), (&#x27;model&#x27;, RandomForestClassifier(n_jobs=-1))])</pre><b>In a Jupyter environment, please rerun this cell to show the HTML representation or trust the notebook. <br />On GitHub, the HTML representation is unable to render, please try loading this page with nbviewer.org.</b></div><div class=\"sk-container\" hidden><div class=\"sk-item sk-dashed-wrapped\"><div class=\"sk-label-container\"><div class=\"sk-label sk-toggleable\"><input class=\"sk-toggleable__control sk-hidden--visually\" id=\"sk-estimator-id-1\" type=\"checkbox\" ><label for=\"sk-estimator-id-1\" class=\"sk-toggleable__label sk-toggleable__label-arrow\">Pipeline</label><div class=\"sk-toggleable__content\"><pre>Pipeline(steps=[(&#x27;scale&#x27;, None), (&#x27;model&#x27;, RandomForestClassifier(n_jobs=-1))])</pre></div></div></div><div class=\"sk-serial\"><div class=\"sk-item\"><div class=\"sk-estimator sk-toggleable\"><input class=\"sk-toggleable__control sk-hidden--visually\" id=\"sk-estimator-id-2\" type=\"checkbox\" ><label for=\"sk-estimator-id-2\" class=\"sk-toggleable__label sk-toggleable__label-arrow\">None</label><div class=\"sk-toggleable__content\"><pre>None</pre></div></div></div><div class=\"sk-item\"><div class=\"sk-estimator sk-toggleable\"><input class=\"sk-toggleable__control sk-hidden--visually\" id=\"sk-estimator-id-3\" type=\"checkbox\" ><label for=\"sk-estimator-id-3\" class=\"sk-toggleable__label sk-toggleable__label-arrow\">RandomForestClassifier</label><div class=\"sk-toggleable__content\"><pre>RandomForestClassifier(n_jobs=-1)</pre></div></div></div></div></div></div></div>"
      ],
      "text/plain": [
       "Pipeline(steps=[('scale', None), ('model', RandomForestClassifier(n_jobs=-1))])"
      ]
     },
     "execution_count": 36,
     "metadata": {},
     "output_type": "execute_result"
    }
   ],
   "source": [
    "model.fit(X_train, y_train.values.ravel())"
   ]
  },
  {
   "cell_type": "code",
   "execution_count": 37,
   "id": "af59f8c0",
   "metadata": {
    "execution": {
     "iopub.execute_input": "2025-07-28T11:07:05.541772Z",
     "iopub.status.busy": "2025-07-28T11:07:05.541366Z",
     "iopub.status.idle": "2025-07-28T11:07:05.546041Z",
     "shell.execute_reply": "2025-07-28T11:07:05.545274Z"
    },
    "papermill": {
     "duration": 0.019422,
     "end_time": "2025-07-28T11:07:05.547546",
     "exception": false,
     "start_time": "2025-07-28T11:07:05.528124",
     "status": "completed"
    },
    "tags": []
   },
   "outputs": [],
   "source": [
    "from fairness_multiverse.universe import predict_w_threshold"
   ]
  },
  {
   "cell_type": "code",
   "execution_count": 38,
   "id": "a7cf2e16",
   "metadata": {
    "execution": {
     "iopub.execute_input": "2025-07-28T11:07:05.577564Z",
     "iopub.status.busy": "2025-07-28T11:07:05.576834Z",
     "iopub.status.idle": "2025-07-28T11:07:06.907244Z",
     "shell.execute_reply": "2025-07-28T11:07:06.906339Z"
    },
    "papermill": {
     "duration": 1.349495,
     "end_time": "2025-07-28T11:07:06.909102",
     "exception": false,
     "start_time": "2025-07-28T11:07:05.559607",
     "status": "completed"
    },
    "tags": []
   },
   "outputs": [
    {
     "data": {
      "text/plain": [
       "0.8666815293724223"
      ]
     },
     "execution_count": 38,
     "metadata": {},
     "output_type": "execute_result"
    }
   ],
   "source": [
    "probs_test = model.predict_proba(X_test)\n",
    "\n",
    "'''\n",
    "Below code returns a boolean array (or binary 0/1 array depending on how it’s used) where each element \n",
    "is True if the probability of class 1 is greater than or equal to the threshold, and False otherwise.\n",
    "'''\n",
    "y_pred_default = predict_w_threshold(probs_test, 0.5)\n",
    "\n",
    "from sklearn.metrics import accuracy_score\n",
    "\n",
    "# Naive prediction\n",
    "accuracy_score(y_true = y_true, y_pred = y_pred_default)"
   ]
  },
  {
   "cell_type": "code",
   "execution_count": 39,
   "id": "081964c3",
   "metadata": {
    "execution": {
     "iopub.execute_input": "2025-07-28T11:07:06.970098Z",
     "iopub.status.busy": "2025-07-28T11:07:06.969259Z",
     "iopub.status.idle": "2025-07-28T11:07:08.311703Z",
     "shell.execute_reply": "2025-07-28T11:07:08.310525Z"
    },
    "papermill": {
     "duration": 1.374709,
     "end_time": "2025-07-28T11:07:08.313471",
     "exception": false,
     "start_time": "2025-07-28T11:07:06.938762",
     "status": "completed"
    },
    "tags": []
   },
   "outputs": [
    {
     "data": {
      "text/plain": [
       "array([0, 0, 0, ..., 0, 0, 0])"
      ]
     },
     "execution_count": 39,
     "metadata": {},
     "output_type": "execute_result"
    }
   ],
   "source": [
    "model.predict(X_test)"
   ]
  },
  {
   "cell_type": "markdown",
   "id": "56c9705b",
   "metadata": {
    "papermill": {
     "duration": 0.023548,
     "end_time": "2025-07-28T11:07:08.360971",
     "exception": false,
     "start_time": "2025-07-28T11:07:08.337423",
     "status": "completed"
    },
    "tags": []
   },
   "source": [
    "# Conformal Prediction"
   ]
  },
  {
   "cell_type": "code",
   "execution_count": 40,
   "id": "160ec6ff",
   "metadata": {
    "execution": {
     "iopub.execute_input": "2025-07-28T11:07:08.409675Z",
     "iopub.status.busy": "2025-07-28T11:07:08.408872Z",
     "iopub.status.idle": "2025-07-28T11:07:08.415593Z",
     "shell.execute_reply": "2025-07-28T11:07:08.414371Z"
    },
    "papermill": {
     "duration": 0.033693,
     "end_time": "2025-07-28T11:07:08.417583",
     "exception": false,
     "start_time": "2025-07-28T11:07:08.383890",
     "status": "completed"
    },
    "tags": []
   },
   "outputs": [],
   "source": [
    "# Miscoverage level for conformal prediction (10% allowed error rate => 90% target coverage)\n",
    "alpha = 0.1"
   ]
  },
  {
   "cell_type": "code",
   "execution_count": 41,
   "id": "eadf4555-3dd3-440e-8e35-f82a4ad9f855",
   "metadata": {
    "execution": {
     "iopub.execute_input": "2025-07-28T11:07:08.466424Z",
     "iopub.status.busy": "2025-07-28T11:07:08.465669Z",
     "iopub.status.idle": "2025-07-28T11:07:09.788573Z",
     "shell.execute_reply": "2025-07-28T11:07:09.787376Z"
    },
    "papermill": {
     "duration": 1.349136,
     "end_time": "2025-07-28T11:07:09.790465",
     "exception": false,
     "start_time": "2025-07-28T11:07:08.441329",
     "status": "completed"
    },
    "tags": []
   },
   "outputs": [],
   "source": [
    "probs_calib = model.predict_proba(X_calib)"
   ]
  },
  {
   "cell_type": "code",
   "execution_count": 42,
   "id": "2ed93547-6d5d-4983-9b36-1ecb300da49a",
   "metadata": {
    "execution": {
     "iopub.execute_input": "2025-07-28T11:07:09.838726Z",
     "iopub.status.busy": "2025-07-28T11:07:09.838219Z",
     "iopub.status.idle": "2025-07-28T11:07:09.845135Z",
     "shell.execute_reply": "2025-07-28T11:07:09.843628Z"
    },
    "papermill": {
     "duration": 0.034605,
     "end_time": "2025-07-28T11:07:09.846967",
     "exception": false,
     "start_time": "2025-07-28T11:07:09.812362",
     "status": "completed"
    },
    "tags": []
   },
   "outputs": [],
   "source": [
    "y_calib = y_calib.values.ravel().astype(int)"
   ]
  },
  {
   "cell_type": "code",
   "execution_count": 43,
   "id": "65d1320d-f588-4b38-9072-62af1ae97f7d",
   "metadata": {
    "execution": {
     "iopub.execute_input": "2025-07-28T11:07:09.897242Z",
     "iopub.status.busy": "2025-07-28T11:07:09.896552Z",
     "iopub.status.idle": "2025-07-28T11:07:09.904454Z",
     "shell.execute_reply": "2025-07-28T11:07:09.903649Z"
    },
    "papermill": {
     "duration": 0.036752,
     "end_time": "2025-07-28T11:07:09.905926",
     "exception": false,
     "start_time": "2025-07-28T11:07:09.869174",
     "status": "completed"
    },
    "tags": []
   },
   "outputs": [],
   "source": [
    "from fairness_multiverse.conformal import compute_nc_scores\n",
    "\n",
    "# Compute nonconformity scores on calibration set (1 - probability of true class)\n",
    "nc_scores = compute_nc_scores(probs_calib, y_calib)"
   ]
  },
  {
   "cell_type": "code",
   "execution_count": 44,
   "id": "df3b8ca3-53b7-43d5-9667-7c85da7aeda2",
   "metadata": {
    "execution": {
     "iopub.execute_input": "2025-07-28T11:07:09.933178Z",
     "iopub.status.busy": "2025-07-28T11:07:09.932594Z",
     "iopub.status.idle": "2025-07-28T11:07:09.938907Z",
     "shell.execute_reply": "2025-07-28T11:07:09.938073Z"
    },
    "papermill": {
     "duration": 0.022498,
     "end_time": "2025-07-28T11:07:09.941256",
     "exception": false,
     "start_time": "2025-07-28T11:07:09.918758",
     "status": "completed"
    },
    "tags": []
   },
   "outputs": [],
   "source": [
    "from fairness_multiverse.conformal import find_threshold\n",
    "\n",
    "# Find conformal threshold q_hat for the given alpha (split conformal method)\n",
    "q_hat = find_threshold(nc_scores, alpha)"
   ]
  },
  {
   "cell_type": "code",
   "execution_count": 45,
   "id": "4d29e6c1-0ef6-4aa4-b8fe-4fe79b0d033a",
   "metadata": {
    "execution": {
     "iopub.execute_input": "2025-07-28T11:07:10.003239Z",
     "iopub.status.busy": "2025-07-28T11:07:10.002536Z",
     "iopub.status.idle": "2025-07-28T11:07:10.012505Z",
     "shell.execute_reply": "2025-07-28T11:07:10.011208Z"
    },
    "papermill": {
     "duration": 0.045906,
     "end_time": "2025-07-28T11:07:10.014581",
     "exception": false,
     "start_time": "2025-07-28T11:07:09.968675",
     "status": "completed"
    },
    "tags": []
   },
   "outputs": [
    {
     "data": {
      "text/plain": [
       "0.6599999999999999"
      ]
     },
     "execution_count": 45,
     "metadata": {},
     "output_type": "execute_result"
    }
   ],
   "source": [
    "q_hat"
   ]
  },
  {
   "cell_type": "code",
   "execution_count": 46,
   "id": "92460794-cdac-4be2-ba28-f28c0515a6fb",
   "metadata": {
    "execution": {
     "iopub.execute_input": "2025-07-28T11:07:10.064260Z",
     "iopub.status.busy": "2025-07-28T11:07:10.063781Z",
     "iopub.status.idle": "2025-07-28T11:07:11.880381Z",
     "shell.execute_reply": "2025-07-28T11:07:11.879373Z"
    },
    "papermill": {
     "duration": 1.843317,
     "end_time": "2025-07-28T11:07:11.882726",
     "exception": false,
     "start_time": "2025-07-28T11:07:10.039409",
     "status": "completed"
    },
    "tags": []
   },
   "outputs": [],
   "source": [
    "from fairness_multiverse.conformal import predict_conformal_sets\n",
    "\n",
    "# Generate prediction sets for each test example\n",
    "pred_sets = predict_conformal_sets(model, X_test, q_hat)"
   ]
  },
  {
   "cell_type": "code",
   "execution_count": 47,
   "id": "d90c9a65-e6db-4f5d-80cd-e68fb7e46829",
   "metadata": {
    "execution": {
     "iopub.execute_input": "2025-07-28T11:07:11.937718Z",
     "iopub.status.busy": "2025-07-28T11:07:11.936864Z",
     "iopub.status.idle": "2025-07-28T11:07:11.942705Z",
     "shell.execute_reply": "2025-07-28T11:07:11.941770Z"
    },
    "papermill": {
     "duration": 0.033414,
     "end_time": "2025-07-28T11:07:11.944320",
     "exception": false,
     "start_time": "2025-07-28T11:07:11.910906",
     "status": "completed"
    },
    "tags": []
   },
   "outputs": [],
   "source": [
    "y_true = y_true.squeeze()"
   ]
  },
  {
   "cell_type": "code",
   "execution_count": 48,
   "id": "3a58a54a-1e68-46b9-927a-df01f18aebc8",
   "metadata": {
    "execution": {
     "iopub.execute_input": "2025-07-28T11:07:11.993892Z",
     "iopub.status.busy": "2025-07-28T11:07:11.993425Z",
     "iopub.status.idle": "2025-07-28T11:07:12.954476Z",
     "shell.execute_reply": "2025-07-28T11:07:12.953445Z"
    },
    "papermill": {
     "duration": 0.988272,
     "end_time": "2025-07-28T11:07:12.956376",
     "exception": false,
     "start_time": "2025-07-28T11:07:11.968104",
     "status": "completed"
    },
    "tags": []
   },
   "outputs": [],
   "source": [
    "from fairness_multiverse.conformal import evaluate_sets\n",
    "\n",
    "# Evaluate coverage and average set size on test data\n",
    "metrics = evaluate_sets(pred_sets, y_true)"
   ]
  },
  {
   "cell_type": "markdown",
   "id": "2b569c12-9aaa-4c88-98c9-bbcd0cf3ebb8",
   "metadata": {
    "papermill": {
     "duration": 0.040071,
     "end_time": "2025-07-28T11:07:13.052795",
     "exception": false,
     "start_time": "2025-07-28T11:07:13.012724",
     "status": "completed"
    },
    "tags": []
   },
   "source": [
    "# CP Metrics"
   ]
  },
  {
   "cell_type": "code",
   "execution_count": 49,
   "id": "5ce0a5cb-201f-45a0-ade5-94c7f0bd6095",
   "metadata": {
    "execution": {
     "iopub.execute_input": "2025-07-28T11:07:13.156089Z",
     "iopub.status.busy": "2025-07-28T11:07:13.154929Z",
     "iopub.status.idle": "2025-07-28T11:07:13.163171Z",
     "shell.execute_reply": "2025-07-28T11:07:13.162095Z"
    },
    "papermill": {
     "duration": 0.066412,
     "end_time": "2025-07-28T11:07:13.165325",
     "exception": false,
     "start_time": "2025-07-28T11:07:13.098913",
     "status": "completed"
    },
    "tags": []
   },
   "outputs": [
    {
     "data": {
      "text/plain": [
       "{'coverage': 0.9170215137665813, 'avg_size': 1.1431947386021626}"
      ]
     },
     "execution_count": 49,
     "metadata": {},
     "output_type": "execute_result"
    }
   ],
   "source": [
    "metrics"
   ]
  },
  {
   "cell_type": "code",
   "execution_count": 50,
   "id": "9b9a838d-31c9-430b-ae14-12baee460d17",
   "metadata": {
    "execution": {
     "iopub.execute_input": "2025-07-28T11:07:13.262738Z",
     "iopub.status.busy": "2025-07-28T11:07:13.262308Z",
     "iopub.status.idle": "2025-07-28T11:07:13.269453Z",
     "shell.execute_reply": "2025-07-28T11:07:13.268426Z"
    },
    "papermill": {
     "duration": 0.065297,
     "end_time": "2025-07-28T11:07:13.274435",
     "exception": false,
     "start_time": "2025-07-28T11:07:13.209138",
     "status": "completed"
    },
    "tags": []
   },
   "outputs": [],
   "source": [
    "example_universe = universe.copy()\n",
    "universe_training_size = example_universe.get(\"training_size\")\n",
    "universe_scale = example_universe.get(\"scale\")\n",
    "universe_model = example_universe.get(\"model\")\n",
    "universe_exclude_features = example_universe.get(\"exclude_features\")\n",
    "universe_exclude_subgroups = example_universe.get(\"exclude_subgroups\")"
   ]
  },
  {
   "cell_type": "code",
   "execution_count": 51,
   "id": "f4b6a8ac-9dc0-4245-8a91-5b3b5999c4f9",
   "metadata": {
    "execution": {
     "iopub.execute_input": "2025-07-28T11:07:13.345768Z",
     "iopub.status.busy": "2025-07-28T11:07:13.345359Z",
     "iopub.status.idle": "2025-07-28T11:07:13.352444Z",
     "shell.execute_reply": "2025-07-28T11:07:13.351401Z"
    },
    "papermill": {
     "duration": 0.038348,
     "end_time": "2025-07-28T11:07:13.356141",
     "exception": false,
     "start_time": "2025-07-28T11:07:13.317793",
     "status": "completed"
    },
    "tags": []
   },
   "outputs": [],
   "source": [
    "cp_metrics_dict = {\n",
    "    \"universe_id\": [universe_id],\n",
    "    \"universe_training_size\": [universe_training_size],\n",
    "    \"universe_scale\": [universe_scale],\n",
    "    \"universe_model\": [universe_model],\n",
    "    \"universe_exclude_features\": [universe_exclude_features],\n",
    "    \"universe_exclude_subgroups\": [universe_exclude_subgroups],\n",
    "    \"q_hat\": [q_hat],\n",
    "    \"coverage\": [metrics[\"coverage\"]],\n",
    "    \"avg_size\": [metrics[\"avg_size\"]],\n",
    "}"
   ]
  },
  {
   "cell_type": "code",
   "execution_count": 52,
   "id": "908acbb1-0371-4915-85ca-3fa520d2efe2",
   "metadata": {
    "execution": {
     "iopub.execute_input": "2025-07-28T11:07:13.412303Z",
     "iopub.status.busy": "2025-07-28T11:07:13.411836Z",
     "iopub.status.idle": "2025-07-28T11:07:13.420312Z",
     "shell.execute_reply": "2025-07-28T11:07:13.419321Z"
    },
    "papermill": {
     "duration": 0.041716,
     "end_time": "2025-07-28T11:07:13.424857",
     "exception": false,
     "start_time": "2025-07-28T11:07:13.383141",
     "status": "completed"
    },
    "tags": []
   },
   "outputs": [
    {
     "data": {
      "text/plain": [
       "{'universe_id': ['3e364428648835ac4874a6dff2b8eca7'],\n",
       " 'universe_training_size': ['2014'],\n",
       " 'universe_scale': ['do-not-scale'],\n",
       " 'universe_model': ['rf'],\n",
       " 'universe_exclude_features': ['nationality-sex'],\n",
       " 'universe_exclude_subgroups': ['drop-non-german'],\n",
       " 'q_hat': [0.6599999999999999],\n",
       " 'coverage': [0.9170215137665813],\n",
       " 'avg_size': [1.1431947386021626]}"
      ]
     },
     "execution_count": 52,
     "metadata": {},
     "output_type": "execute_result"
    }
   ],
   "source": [
    "cp_metrics_dict"
   ]
  },
  {
   "cell_type": "code",
   "execution_count": 53,
   "id": "33007efc-14e9-4ec6-97ac-56a455c82265",
   "metadata": {
    "execution": {
     "iopub.execute_input": "2025-07-28T11:07:13.479299Z",
     "iopub.status.busy": "2025-07-28T11:07:13.478853Z",
     "iopub.status.idle": "2025-07-28T11:07:13.486084Z",
     "shell.execute_reply": "2025-07-28T11:07:13.485035Z"
    },
    "papermill": {
     "duration": 0.042281,
     "end_time": "2025-07-28T11:07:13.493366",
     "exception": false,
     "start_time": "2025-07-28T11:07:13.451085",
     "status": "completed"
    },
    "tags": []
   },
   "outputs": [],
   "source": [
    "cp_metrics_df = pd.DataFrame(cp_metrics_dict)"
   ]
  },
  {
   "cell_type": "code",
   "execution_count": 54,
   "id": "db12611b-57b2-4910-b9d0-355adfd6e7bf",
   "metadata": {
    "execution": {
     "iopub.execute_input": "2025-07-28T11:07:13.606902Z",
     "iopub.status.busy": "2025-07-28T11:07:13.606445Z",
     "iopub.status.idle": "2025-07-28T11:07:13.641215Z",
     "shell.execute_reply": "2025-07-28T11:07:13.640092Z"
    },
    "papermill": {
     "duration": 0.093616,
     "end_time": "2025-07-28T11:07:13.643174",
     "exception": false,
     "start_time": "2025-07-28T11:07:13.549558",
     "status": "completed"
    },
    "tags": []
   },
   "outputs": [
    {
     "data": {
      "text/html": [
       "<div>\n",
       "<style scoped>\n",
       "    .dataframe tbody tr th:only-of-type {\n",
       "        vertical-align: middle;\n",
       "    }\n",
       "\n",
       "    .dataframe tbody tr th {\n",
       "        vertical-align: top;\n",
       "    }\n",
       "\n",
       "    .dataframe thead th {\n",
       "        text-align: right;\n",
       "    }\n",
       "</style>\n",
       "<table border=\"1\" class=\"dataframe\">\n",
       "  <thead>\n",
       "    <tr style=\"text-align: right;\">\n",
       "      <th></th>\n",
       "      <th>universe_id</th>\n",
       "      <th>universe_training_size</th>\n",
       "      <th>universe_scale</th>\n",
       "      <th>universe_model</th>\n",
       "      <th>universe_exclude_features</th>\n",
       "      <th>universe_exclude_subgroups</th>\n",
       "      <th>q_hat</th>\n",
       "      <th>coverage</th>\n",
       "      <th>avg_size</th>\n",
       "    </tr>\n",
       "  </thead>\n",
       "  <tbody>\n",
       "    <tr>\n",
       "      <th>0</th>\n",
       "      <td>3e364428648835ac4874a6dff2b8eca7</td>\n",
       "      <td>2014</td>\n",
       "      <td>do-not-scale</td>\n",
       "      <td>rf</td>\n",
       "      <td>nationality-sex</td>\n",
       "      <td>drop-non-german</td>\n",
       "      <td>0.66</td>\n",
       "      <td>0.917022</td>\n",
       "      <td>1.143195</td>\n",
       "    </tr>\n",
       "  </tbody>\n",
       "</table>\n",
       "</div>"
      ],
      "text/plain": [
       "                        universe_id universe_training_size universe_scale  \\\n",
       "0  3e364428648835ac4874a6dff2b8eca7                   2014   do-not-scale   \n",
       "\n",
       "  universe_model universe_exclude_features universe_exclude_subgroups  q_hat  \\\n",
       "0             rf           nationality-sex            drop-non-german   0.66   \n",
       "\n",
       "   coverage  avg_size  \n",
       "0  0.917022  1.143195  "
      ]
     },
     "execution_count": 54,
     "metadata": {},
     "output_type": "execute_result"
    }
   ],
   "source": [
    "cp_metrics_df"
   ]
  },
  {
   "cell_type": "code",
   "execution_count": 55,
   "id": "b7fbde55-a0a1-47e4-9af6-fe4a17fa8c61",
   "metadata": {
    "execution": {
     "iopub.execute_input": "2025-07-28T11:07:13.744600Z",
     "iopub.status.busy": "2025-07-28T11:07:13.744152Z",
     "iopub.status.idle": "2025-07-28T11:07:13.750084Z",
     "shell.execute_reply": "2025-07-28T11:07:13.749089Z"
    },
    "papermill": {
     "duration": 0.068985,
     "end_time": "2025-07-28T11:07:13.751837",
     "exception": false,
     "start_time": "2025-07-28T11:07:13.682852",
     "status": "completed"
    },
    "tags": []
   },
   "outputs": [],
   "source": [
    "# Conditional Coverage & looking at subgroups"
   ]
  },
  {
   "cell_type": "code",
   "execution_count": 56,
   "id": "027ae886-68dd-4141-96c7-805a5450e1ef",
   "metadata": {
    "execution": {
     "iopub.execute_input": "2025-07-28T11:07:13.863127Z",
     "iopub.status.busy": "2025-07-28T11:07:13.862111Z",
     "iopub.status.idle": "2025-07-28T11:07:14.667661Z",
     "shell.execute_reply": "2025-07-28T11:07:14.666516Z"
    },
    "papermill": {
     "duration": 0.860963,
     "end_time": "2025-07-28T11:07:14.669521",
     "exception": false,
     "start_time": "2025-07-28T11:07:13.808558",
     "status": "completed"
    },
    "tags": []
   },
   "outputs": [],
   "source": [
    "from fairness_multiverse.conformal import build_cp_groups\n",
    "\n",
    "cp_groups_df = build_cp_groups(pred_sets, y_true, X_test.index, org_test)\n",
    "#needs universe_id and setting"
   ]
  },
  {
   "cell_type": "code",
   "execution_count": 57,
   "id": "01d5802c-663a-4d1f-9d69-e036faaffbf7",
   "metadata": {
    "execution": {
     "iopub.execute_input": "2025-07-28T11:07:14.779658Z",
     "iopub.status.busy": "2025-07-28T11:07:14.778619Z",
     "iopub.status.idle": "2025-07-28T11:07:14.784564Z",
     "shell.execute_reply": "2025-07-28T11:07:14.783422Z"
    },
    "papermill": {
     "duration": 0.065956,
     "end_time": "2025-07-28T11:07:14.786245",
     "exception": false,
     "start_time": "2025-07-28T11:07:14.720289",
     "status": "completed"
    },
    "tags": []
   },
   "outputs": [],
   "source": [
    "#delete\n",
    "#cp_groups_df"
   ]
  },
  {
   "cell_type": "code",
   "execution_count": 58,
   "id": "fa424af1-d1eb-443d-b717-2d279ada8408",
   "metadata": {
    "execution": {
     "iopub.execute_input": "2025-07-28T11:07:14.896378Z",
     "iopub.status.busy": "2025-07-28T11:07:14.895906Z",
     "iopub.status.idle": "2025-07-28T11:07:14.901390Z",
     "shell.execute_reply": "2025-07-28T11:07:14.900300Z"
    },
    "papermill": {
     "duration": 0.062529,
     "end_time": "2025-07-28T11:07:14.905603",
     "exception": false,
     "start_time": "2025-07-28T11:07:14.843074",
     "status": "completed"
    },
    "tags": []
   },
   "outputs": [],
   "source": [
    "#delete\n",
    "#percentage = (cp_groups_df['nongerman_female'] == 1).mean() * 100\n",
    "#print(percentage)\n"
   ]
  },
  {
   "cell_type": "code",
   "execution_count": 59,
   "id": "6cbdab96-b2b2-45af-ad54-d0516db2e28d",
   "metadata": {
    "execution": {
     "iopub.execute_input": "2025-07-28T11:07:14.970812Z",
     "iopub.status.busy": "2025-07-28T11:07:14.970396Z",
     "iopub.status.idle": "2025-07-28T11:07:18.868758Z",
     "shell.execute_reply": "2025-07-28T11:07:18.867675Z"
    },
    "papermill": {
     "duration": 3.929747,
     "end_time": "2025-07-28T11:07:18.870956",
     "exception": false,
     "start_time": "2025-07-28T11:07:14.941209",
     "status": "completed"
    },
    "tags": []
   },
   "outputs": [],
   "source": [
    "# Define covered = 1 if true_label is in the predicted set\n",
    "cp_groups_df['covered'] = cp_groups_df.apply(\n",
    "    lambda r: int(r['true_label'] in r['pred_set']),\n",
    "    axis=1\n",
    ")"
   ]
  },
  {
   "cell_type": "code",
   "execution_count": 60,
   "id": "338ff529-1a6b-4b87-a931-8e4788d52aad",
   "metadata": {
    "execution": {
     "iopub.execute_input": "2025-07-28T11:07:18.927006Z",
     "iopub.status.busy": "2025-07-28T11:07:18.926572Z",
     "iopub.status.idle": "2025-07-28T11:07:18.932197Z",
     "shell.execute_reply": "2025-07-28T11:07:18.931049Z"
    },
    "papermill": {
     "duration": 0.035397,
     "end_time": "2025-07-28T11:07:18.935210",
     "exception": false,
     "start_time": "2025-07-28T11:07:18.899813",
     "status": "completed"
    },
    "tags": []
   },
   "outputs": [],
   "source": [
    "#cp_groups_df"
   ]
  },
  {
   "cell_type": "code",
   "execution_count": 61,
   "id": "90032e27-66df-4540-9169-4e89cfbaa758",
   "metadata": {
    "execution": {
     "iopub.execute_input": "2025-07-28T11:07:18.990250Z",
     "iopub.status.busy": "2025-07-28T11:07:18.989764Z",
     "iopub.status.idle": "2025-07-28T11:07:19.004089Z",
     "shell.execute_reply": "2025-07-28T11:07:19.002838Z"
    },
    "papermill": {
     "duration": 0.044458,
     "end_time": "2025-07-28T11:07:19.006917",
     "exception": false,
     "start_time": "2025-07-28T11:07:18.962459",
     "status": "completed"
    },
    "tags": []
   },
   "outputs": [],
   "source": [
    "subgroups = ['frau1','nongerman','nongerman_male','nongerman_female']\n",
    "\n",
    "# Conditional coverage for subgroup==1\n",
    "cond_coverage = {\n",
    "    g: cp_groups_df.loc[cp_groups_df[g]==1, 'covered'].mean()\n",
    "    for g in subgroups\n",
    "}"
   ]
  },
  {
   "cell_type": "code",
   "execution_count": 62,
   "id": "1e348fb1-b9c3-45bc-ba23-f016827a7e0d",
   "metadata": {
    "execution": {
     "iopub.execute_input": "2025-07-28T11:07:19.062220Z",
     "iopub.status.busy": "2025-07-28T11:07:19.061794Z",
     "iopub.status.idle": "2025-07-28T11:07:19.069799Z",
     "shell.execute_reply": "2025-07-28T11:07:19.068859Z"
    },
    "papermill": {
     "duration": 0.040601,
     "end_time": "2025-07-28T11:07:19.074361",
     "exception": false,
     "start_time": "2025-07-28T11:07:19.033760",
     "status": "completed"
    },
    "tags": []
   },
   "outputs": [
    {
     "data": {
      "text/plain": [
       "{'frau1': 0.9170508154737835,\n",
       " 'nongerman': 0.9121989558187841,\n",
       " 'nongerman_male': 0.9258758893992615,\n",
       " 'nongerman_female': 0.8895678092399404}"
      ]
     },
     "execution_count": 62,
     "metadata": {},
     "output_type": "execute_result"
    }
   ],
   "source": [
    "cond_coverage"
   ]
  },
  {
   "cell_type": "code",
   "execution_count": 63,
   "id": "f5093324-c3dd-4d63-bc4c-8d945e5c8bbb",
   "metadata": {
    "execution": {
     "iopub.execute_input": "2025-07-28T11:07:19.151154Z",
     "iopub.status.busy": "2025-07-28T11:07:19.150736Z",
     "iopub.status.idle": "2025-07-28T11:07:19.160341Z",
     "shell.execute_reply": "2025-07-28T11:07:19.159002Z"
    },
    "papermill": {
     "duration": 0.060959,
     "end_time": "2025-07-28T11:07:19.162377",
     "exception": false,
     "start_time": "2025-07-28T11:07:19.101418",
     "status": "completed"
    },
    "tags": []
   },
   "outputs": [],
   "source": [
    "for subgroup, cov in cond_coverage.items():\n",
    "    cp_metrics_df[f\"cov_{subgroup}\"] = cov"
   ]
  },
  {
   "cell_type": "code",
   "execution_count": 64,
   "id": "6e872e10-dbe5-49e8-b554-5030c98ff75d",
   "metadata": {
    "execution": {
     "iopub.execute_input": "2025-07-28T11:07:19.275552Z",
     "iopub.status.busy": "2025-07-28T11:07:19.275058Z",
     "iopub.status.idle": "2025-07-28T11:07:19.317464Z",
     "shell.execute_reply": "2025-07-28T11:07:19.316189Z"
    },
    "papermill": {
     "duration": 0.099321,
     "end_time": "2025-07-28T11:07:19.319636",
     "exception": false,
     "start_time": "2025-07-28T11:07:19.220315",
     "status": "completed"
    },
    "tags": []
   },
   "outputs": [
    {
     "data": {
      "text/html": [
       "<div>\n",
       "<style scoped>\n",
       "    .dataframe tbody tr th:only-of-type {\n",
       "        vertical-align: middle;\n",
       "    }\n",
       "\n",
       "    .dataframe tbody tr th {\n",
       "        vertical-align: top;\n",
       "    }\n",
       "\n",
       "    .dataframe thead th {\n",
       "        text-align: right;\n",
       "    }\n",
       "</style>\n",
       "<table border=\"1\" class=\"dataframe\">\n",
       "  <thead>\n",
       "    <tr style=\"text-align: right;\">\n",
       "      <th></th>\n",
       "      <th>universe_id</th>\n",
       "      <th>universe_training_size</th>\n",
       "      <th>universe_scale</th>\n",
       "      <th>universe_model</th>\n",
       "      <th>universe_exclude_features</th>\n",
       "      <th>universe_exclude_subgroups</th>\n",
       "      <th>q_hat</th>\n",
       "      <th>coverage</th>\n",
       "      <th>avg_size</th>\n",
       "      <th>cov_frau1</th>\n",
       "      <th>cov_nongerman</th>\n",
       "      <th>cov_nongerman_male</th>\n",
       "      <th>cov_nongerman_female</th>\n",
       "    </tr>\n",
       "  </thead>\n",
       "  <tbody>\n",
       "    <tr>\n",
       "      <th>0</th>\n",
       "      <td>3e364428648835ac4874a6dff2b8eca7</td>\n",
       "      <td>2014</td>\n",
       "      <td>do-not-scale</td>\n",
       "      <td>rf</td>\n",
       "      <td>nationality-sex</td>\n",
       "      <td>drop-non-german</td>\n",
       "      <td>0.66</td>\n",
       "      <td>0.917022</td>\n",
       "      <td>1.143195</td>\n",
       "      <td>0.917051</td>\n",
       "      <td>0.912199</td>\n",
       "      <td>0.925876</td>\n",
       "      <td>0.889568</td>\n",
       "    </tr>\n",
       "  </tbody>\n",
       "</table>\n",
       "</div>"
      ],
      "text/plain": [
       "                        universe_id universe_training_size universe_scale  \\\n",
       "0  3e364428648835ac4874a6dff2b8eca7                   2014   do-not-scale   \n",
       "\n",
       "  universe_model universe_exclude_features universe_exclude_subgroups  q_hat  \\\n",
       "0             rf           nationality-sex            drop-non-german   0.66   \n",
       "\n",
       "   coverage  avg_size  cov_frau1  cov_nongerman  cov_nongerman_male  \\\n",
       "0  0.917022  1.143195   0.917051       0.912199            0.925876   \n",
       "\n",
       "   cov_nongerman_female  \n",
       "0              0.889568  "
      ]
     },
     "execution_count": 64,
     "metadata": {},
     "output_type": "execute_result"
    }
   ],
   "source": [
    "cp_metrics_df"
   ]
  },
  {
   "cell_type": "markdown",
   "id": "33774451",
   "metadata": {
    "papermill": {
     "duration": 0.057262,
     "end_time": "2025-07-28T11:07:19.420921",
     "exception": false,
     "start_time": "2025-07-28T11:07:19.363659",
     "status": "completed"
    },
    "tags": []
   },
   "source": [
    "# (Fairness) Metrics"
   ]
  },
  {
   "cell_type": "code",
   "execution_count": 65,
   "id": "debc5d62",
   "metadata": {
    "execution": {
     "iopub.execute_input": "2025-07-28T11:07:19.476704Z",
     "iopub.status.busy": "2025-07-28T11:07:19.476264Z",
     "iopub.status.idle": "2025-07-28T11:07:19.502912Z",
     "shell.execute_reply": "2025-07-28T11:07:19.501797Z"
    },
    "papermill": {
     "duration": 0.056723,
     "end_time": "2025-07-28T11:07:19.504950",
     "exception": false,
     "start_time": "2025-07-28T11:07:19.448227",
     "status": "completed"
    },
    "tags": []
   },
   "outputs": [],
   "source": [
    "# do I need to include maxdeutsch1.missing?\n",
    "\n",
    "import numpy as np\n",
    "\n",
    "colname_to_bin = \"maxdeutsch1\"\n",
    "majority_value = org_train[colname_to_bin].mode()[0]\n",
    "\n",
    "org_test[\"majmin\"] = np.where(org_test[colname_to_bin] == majority_value, \"majority\", \"minority\")"
   ]
  },
  {
   "cell_type": "code",
   "execution_count": 66,
   "id": "06a50de5",
   "metadata": {
    "execution": {
     "iopub.execute_input": "2025-07-28T11:07:19.561528Z",
     "iopub.status.busy": "2025-07-28T11:07:19.561122Z",
     "iopub.status.idle": "2025-07-28T11:07:24.887756Z",
     "shell.execute_reply": "2025-07-28T11:07:24.886256Z"
    },
    "papermill": {
     "duration": 5.357372,
     "end_time": "2025-07-28T11:07:24.890272",
     "exception": false,
     "start_time": "2025-07-28T11:07:19.532900",
     "status": "completed"
    },
    "tags": []
   },
   "outputs": [],
   "source": [
    "example_universe = universe.copy()\n",
    "example_universe[\"cutoff\"] = example_universe[\"cutoff\"][0]\n",
    "example_universe[\"eval_fairness_grouping\"] = example_universe[\"eval_fairness_grouping\"][0]\n",
    "fairness_dict, metric_frame = universe_analysis.compute_metrics(\n",
    "    example_universe,\n",
    "    y_pred_prob=probs_test,\n",
    "    y_test=y_true,\n",
    "    org_test=org_test,\n",
    ")"
   ]
  },
  {
   "cell_type": "markdown",
   "id": "f95d4e02",
   "metadata": {
    "papermill": {
     "duration": 0.038385,
     "end_time": "2025-07-28T11:07:24.972618",
     "exception": false,
     "start_time": "2025-07-28T11:07:24.934233",
     "status": "completed"
    },
    "tags": []
   },
   "source": [
    "# Overall"
   ]
  },
  {
   "cell_type": "markdown",
   "id": "bdee4871",
   "metadata": {
    "papermill": {
     "duration": 0.056817,
     "end_time": "2025-07-28T11:07:25.093460",
     "exception": false,
     "start_time": "2025-07-28T11:07:25.036643",
     "status": "completed"
    },
    "tags": []
   },
   "source": [
    "Fairness\n",
    "Main fairness target: Equalized Odds. Seems to be a better fit than equal opportunity, since we're not only interested in Y = 1. Seems to be a better fit than demographic parity, since we also care about accuracy, not just equal distribution of preds.\n",
    "\n",
    "Pick column for computation of fairness metrics\n",
    "\n",
    "Performance\n",
    "Overall performance measures, most interesting in relation to the measures split by group below"
   ]
  },
  {
   "cell_type": "code",
   "execution_count": 67,
   "id": "c4e067c6",
   "metadata": {
    "execution": {
     "iopub.execute_input": "2025-07-28T11:07:25.149986Z",
     "iopub.status.busy": "2025-07-28T11:07:25.149338Z",
     "iopub.status.idle": "2025-07-28T11:07:25.159230Z",
     "shell.execute_reply": "2025-07-28T11:07:25.158474Z"
    },
    "papermill": {
     "duration": 0.041864,
     "end_time": "2025-07-28T11:07:25.160859",
     "exception": false,
     "start_time": "2025-07-28T11:07:25.118995",
     "status": "completed"
    },
    "tags": []
   },
   "outputs": [
    {
     "data": {
      "text/plain": [
       "accuracy                   0.212585\n",
       "balanced accuracy          0.537350\n",
       "f1                         0.240939\n",
       "precision                  0.137469\n",
       "false positive rate        0.899491\n",
       "false negative rate        0.025808\n",
       "selection rate             0.909074\n",
       "count                  89710.000000\n",
       "dtype: float64"
      ]
     },
     "execution_count": 67,
     "metadata": {},
     "output_type": "execute_result"
    }
   ],
   "source": [
    "metric_frame.overall"
   ]
  },
  {
   "cell_type": "markdown",
   "id": "e968fe9d",
   "metadata": {
    "papermill": {
     "duration": 0.028367,
     "end_time": "2025-07-28T11:07:25.215744",
     "exception": false,
     "start_time": "2025-07-28T11:07:25.187377",
     "status": "completed"
    },
    "tags": []
   },
   "source": [
    "By Group"
   ]
  },
  {
   "cell_type": "code",
   "execution_count": 68,
   "id": "ec325bce",
   "metadata": {
    "execution": {
     "iopub.execute_input": "2025-07-28T11:07:25.270109Z",
     "iopub.status.busy": "2025-07-28T11:07:25.269558Z",
     "iopub.status.idle": "2025-07-28T11:07:25.294493Z",
     "shell.execute_reply": "2025-07-28T11:07:25.293020Z"
    },
    "papermill": {
     "duration": 0.068096,
     "end_time": "2025-07-28T11:07:25.307962",
     "exception": false,
     "start_time": "2025-07-28T11:07:25.239866",
     "status": "completed"
    },
    "tags": []
   },
   "outputs": [
    {
     "data": {
      "text/html": [
       "<div>\n",
       "<style scoped>\n",
       "    .dataframe tbody tr th:only-of-type {\n",
       "        vertical-align: middle;\n",
       "    }\n",
       "\n",
       "    .dataframe tbody tr th {\n",
       "        vertical-align: top;\n",
       "    }\n",
       "\n",
       "    .dataframe thead th {\n",
       "        text-align: right;\n",
       "    }\n",
       "</style>\n",
       "<table border=\"1\" class=\"dataframe\">\n",
       "  <thead>\n",
       "    <tr style=\"text-align: right;\">\n",
       "      <th></th>\n",
       "      <th>accuracy</th>\n",
       "      <th>balanced accuracy</th>\n",
       "      <th>f1</th>\n",
       "      <th>precision</th>\n",
       "      <th>false positive rate</th>\n",
       "      <th>false negative rate</th>\n",
       "      <th>selection rate</th>\n",
       "      <th>count</th>\n",
       "    </tr>\n",
       "    <tr>\n",
       "      <th>majmin</th>\n",
       "      <th></th>\n",
       "      <th></th>\n",
       "      <th></th>\n",
       "      <th></th>\n",
       "      <th></th>\n",
       "      <th></th>\n",
       "      <th></th>\n",
       "      <th></th>\n",
       "    </tr>\n",
       "  </thead>\n",
       "  <tbody>\n",
       "    <tr>\n",
       "      <th>majority</th>\n",
       "      <td>0.201908</td>\n",
       "      <td>0.536487</td>\n",
       "      <td>0.247122</td>\n",
       "      <td>0.141157</td>\n",
       "      <td>0.918274</td>\n",
       "      <td>0.008753</td>\n",
       "      <td>0.927917</td>\n",
       "      <td>69170.0</td>\n",
       "    </tr>\n",
       "    <tr>\n",
       "      <th>minority</th>\n",
       "      <td>0.248539</td>\n",
       "      <td>0.535460</td>\n",
       "      <td>0.217966</td>\n",
       "      <td>0.123841</td>\n",
       "      <td>0.837442</td>\n",
       "      <td>0.091639</td>\n",
       "      <td>0.845618</td>\n",
       "      <td>20540.0</td>\n",
       "    </tr>\n",
       "  </tbody>\n",
       "</table>\n",
       "</div>"
      ],
      "text/plain": [
       "          accuracy  balanced accuracy        f1  precision  \\\n",
       "majmin                                                       \n",
       "majority  0.201908           0.536487  0.247122   0.141157   \n",
       "minority  0.248539           0.535460  0.217966   0.123841   \n",
       "\n",
       "          false positive rate  false negative rate  selection rate    count  \n",
       "majmin                                                                       \n",
       "majority             0.918274             0.008753        0.927917  69170.0  \n",
       "minority             0.837442             0.091639        0.845618  20540.0  "
      ]
     },
     "execution_count": 68,
     "metadata": {},
     "output_type": "execute_result"
    }
   ],
   "source": [
    "metric_frame.by_group"
   ]
  },
  {
   "cell_type": "code",
   "execution_count": 69,
   "id": "a9ddbe63",
   "metadata": {
    "execution": {
     "iopub.execute_input": "2025-07-28T11:07:25.366829Z",
     "iopub.status.busy": "2025-07-28T11:07:25.365703Z",
     "iopub.status.idle": "2025-07-28T11:07:29.345332Z",
     "shell.execute_reply": "2025-07-28T11:07:29.344252Z"
    },
    "papermill": {
     "duration": 4.012938,
     "end_time": "2025-07-28T11:07:29.347777",
     "exception": false,
     "start_time": "2025-07-28T11:07:25.334839",
     "status": "completed"
    },
    "tags": []
   },
   "outputs": [
    {
     "data": {
      "text/plain": [
       "array([[<Axes: title={'center': 'accuracy'}, xlabel='majmin'>,\n",
       "        <Axes: title={'center': 'balanced accuracy'}, xlabel='majmin'>,\n",
       "        <Axes: title={'center': 'f1'}, xlabel='majmin'>],\n",
       "       [<Axes: title={'center': 'precision'}, xlabel='majmin'>,\n",
       "        <Axes: title={'center': 'false positive rate'}, xlabel='majmin'>,\n",
       "        <Axes: title={'center': 'false negative rate'}, xlabel='majmin'>],\n",
       "       [<Axes: title={'center': 'selection rate'}, xlabel='majmin'>,\n",
       "        <Axes: title={'center': 'count'}, xlabel='majmin'>,\n",
       "        <Axes: xlabel='majmin'>]], dtype=object)"
      ]
     },
     "execution_count": 69,
     "metadata": {},
     "output_type": "execute_result"
    },
    {
     "data": {
      "image/png": "[encoded data removed]",
      "text/plain": [
       "<Figure size 1200x800 with 9 Axes>"
      ]
     },
     "metadata": {},
     "output_type": "display_data"
    }
   ],
   "source": [
    "# In a graphic\n",
    "metric_frame.by_group.plot.bar(\n",
    "    subplots=True,\n",
    "    layout=[3, 3],\n",
    "    legend=False,\n",
    "    figsize=[12, 8],\n",
    "    title=\"Show all metrics\",\n",
    ")"
   ]
  },
  {
   "cell_type": "markdown",
   "id": "f57a0bac",
   "metadata": {
    "papermill": {
     "duration": 0.053408,
     "end_time": "2025-07-28T11:07:29.433333",
     "exception": false,
     "start_time": "2025-07-28T11:07:29.379925",
     "status": "completed"
    },
    "tags": []
   },
   "source": [
    "# Final Output"
   ]
  },
  {
   "cell_type": "code",
   "execution_count": 70,
   "id": "96d280a3",
   "metadata": {
    "execution": {
     "iopub.execute_input": "2025-07-28T11:07:29.599445Z",
     "iopub.status.busy": "2025-07-28T11:07:29.598694Z",
     "iopub.status.idle": "2025-07-28T11:07:29.614646Z",
     "shell.execute_reply": "2025-07-28T11:07:29.613433Z"
    },
    "papermill": {
     "duration": 0.125073,
     "end_time": "2025-07-28T11:07:29.616858",
     "exception": false,
     "start_time": "2025-07-28T11:07:29.491785",
     "status": "completed"
    },
    "tags": []
   },
   "outputs": [
    {
     "data": {
      "text/plain": [
       "4"
      ]
     },
     "execution_count": 70,
     "metadata": {},
     "output_type": "execute_result"
    }
   ],
   "source": [
    "sub_universes = universe_analysis.generate_sub_universes()\n",
    "len(sub_universes)"
   ]
  },
  {
   "cell_type": "code",
   "execution_count": 71,
   "id": "92adf7ba",
   "metadata": {
    "execution": {
     "iopub.execute_input": "2025-07-28T11:07:29.715249Z",
     "iopub.status.busy": "2025-07-28T11:07:29.714836Z",
     "iopub.status.idle": "2025-07-28T11:07:29.722043Z",
     "shell.execute_reply": "2025-07-28T11:07:29.720816Z"
    },
    "papermill": {
     "duration": 0.075961,
     "end_time": "2025-07-28T11:07:29.727146",
     "exception": false,
     "start_time": "2025-07-28T11:07:29.651185",
     "status": "completed"
    },
    "tags": []
   },
   "outputs": [],
   "source": [
    "def filter_sub_universe_data(sub_universe, org_test):\n",
    "    # Keep all rows — no filtering\n",
    "    keep_rows_mask = np.ones(org_test.shape[0], dtype=bool)\n",
    "\n",
    "    print(f\"[INFO] Keeping all rows: {keep_rows_mask.sum()} rows retained.\")\n",
    "    return keep_rows_mask"
   ]
  },
  {
   "cell_type": "code",
   "execution_count": 72,
   "id": "4a759155",
   "metadata": {
    "execution": {
     "iopub.execute_input": "2025-07-28T11:07:29.854470Z",
     "iopub.status.busy": "2025-07-28T11:07:29.853963Z",
     "iopub.status.idle": "2025-07-28T11:07:44.922687Z",
     "shell.execute_reply": "2025-07-28T11:07:44.921467Z"
    },
    "papermill": {
     "duration": 15.128596,
     "end_time": "2025-07-28T11:07:44.925032",
     "exception": false,
     "start_time": "2025-07-28T11:07:29.796436",
     "status": "completed"
    },
    "tags": []
   },
   "outputs": [
    {
     "name": "stdout",
     "output_type": "stream",
     "text": [
      "Stopping execution_time clock.\n",
      "[INFO] Keeping all rows: 89710 rows retained.\n"
     ]
    },
    {
     "name": "stdout",
     "output_type": "stream",
     "text": [
      "[INFO] Keeping all rows: 89710 rows retained.\n"
     ]
    },
    {
     "name": "stdout",
     "output_type": "stream",
     "text": [
      "[INFO] Keeping all rows: 89710 rows retained.\n"
     ]
    },
    {
     "name": "stdout",
     "output_type": "stream",
     "text": [
      "[INFO] Keeping all rows: 89710 rows retained.\n"
     ]
    },
    {
     "data": {
      "text/html": [
       "<div>\n",
       "<style scoped>\n",
       "    .dataframe tbody tr th:only-of-type {\n",
       "        vertical-align: middle;\n",
       "    }\n",
       "\n",
       "    .dataframe tbody tr th {\n",
       "        vertical-align: top;\n",
       "    }\n",
       "\n",
       "    .dataframe thead th {\n",
       "        text-align: right;\n",
       "    }\n",
       "</style>\n",
       "<table border=\"1\" class=\"dataframe\">\n",
       "  <thead>\n",
       "    <tr style=\"text-align: right;\">\n",
       "      <th></th>\n",
       "      <th>run_no</th>\n",
       "      <th>universe_id</th>\n",
       "      <th>universe_settings</th>\n",
       "      <th>execution_time</th>\n",
       "      <th>test_size_n</th>\n",
       "      <th>test_size_frac</th>\n",
       "      <th>fair_main_equalized_odds_difference</th>\n",
       "      <th>fair_main_equalized_odds_ratio</th>\n",
       "      <th>fair_main_demographic_parity_difference</th>\n",
       "      <th>fair_main_demographic_parity_ratio</th>\n",
       "      <th>...</th>\n",
       "      <th>perf_grp_precision_0</th>\n",
       "      <th>perf_grp_precision_1</th>\n",
       "      <th>perf_grp_false positive rate_0</th>\n",
       "      <th>perf_grp_false positive rate_1</th>\n",
       "      <th>perf_grp_false negative rate_0</th>\n",
       "      <th>perf_grp_false negative rate_1</th>\n",
       "      <th>perf_grp_selection rate_0</th>\n",
       "      <th>perf_grp_selection rate_1</th>\n",
       "      <th>perf_grp_count_0</th>\n",
       "      <th>perf_grp_count_1</th>\n",
       "    </tr>\n",
       "  </thead>\n",
       "  <tbody>\n",
       "    <tr>\n",
       "      <th>0</th>\n",
       "      <td>11</td>\n",
       "      <td>3e364428648835ac4874a6dff2b8eca7</td>\n",
       "      <td>{\"cutoff\": \"quantile_0.1\", \"eval_fairness_grou...</td>\n",
       "      <td>61.230386</td>\n",
       "      <td>89710</td>\n",
       "      <td>1.0</td>\n",
       "      <td>0.082886</td>\n",
       "      <td>0.911974</td>\n",
       "      <td>0.082298</td>\n",
       "      <td>0.911308</td>\n",
       "      <td>...</td>\n",
       "      <td>NaN</td>\n",
       "      <td>NaN</td>\n",
       "      <td>NaN</td>\n",
       "      <td>NaN</td>\n",
       "      <td>NaN</td>\n",
       "      <td>NaN</td>\n",
       "      <td>NaN</td>\n",
       "      <td>NaN</td>\n",
       "      <td>NaN</td>\n",
       "      <td>NaN</td>\n",
       "    </tr>\n",
       "    <tr>\n",
       "      <th>0</th>\n",
       "      <td>11</td>\n",
       "      <td>3e364428648835ac4874a6dff2b8eca7</td>\n",
       "      <td>{\"cutoff\": \"quantile_0.1\", \"eval_fairness_grou...</td>\n",
       "      <td>61.230386</td>\n",
       "      <td>89710</td>\n",
       "      <td>1.0</td>\n",
       "      <td>0.082886</td>\n",
       "      <td>0.911974</td>\n",
       "      <td>0.082298</td>\n",
       "      <td>0.911308</td>\n",
       "      <td>...</td>\n",
       "      <td>0.123841</td>\n",
       "      <td>0.141157</td>\n",
       "      <td>0.837442</td>\n",
       "      <td>0.918274</td>\n",
       "      <td>0.091639</td>\n",
       "      <td>0.008753</td>\n",
       "      <td>0.845618</td>\n",
       "      <td>0.927917</td>\n",
       "      <td>20540.0</td>\n",
       "      <td>69170.0</td>\n",
       "    </tr>\n",
       "    <tr>\n",
       "      <th>0</th>\n",
       "      <td>11</td>\n",
       "      <td>3e364428648835ac4874a6dff2b8eca7</td>\n",
       "      <td>{\"cutoff\": \"quantile_0.25\", \"eval_fairness_gro...</td>\n",
       "      <td>61.230386</td>\n",
       "      <td>89710</td>\n",
       "      <td>1.0</td>\n",
       "      <td>0.130958</td>\n",
       "      <td>0.863033</td>\n",
       "      <td>0.091511</td>\n",
       "      <td>0.881371</td>\n",
       "      <td>...</td>\n",
       "      <td>NaN</td>\n",
       "      <td>NaN</td>\n",
       "      <td>NaN</td>\n",
       "      <td>NaN</td>\n",
       "      <td>NaN</td>\n",
       "      <td>NaN</td>\n",
       "      <td>NaN</td>\n",
       "      <td>NaN</td>\n",
       "      <td>NaN</td>\n",
       "      <td>NaN</td>\n",
       "    </tr>\n",
       "    <tr>\n",
       "      <th>0</th>\n",
       "      <td>11</td>\n",
       "      <td>3e364428648835ac4874a6dff2b8eca7</td>\n",
       "      <td>{\"cutoff\": \"quantile_0.25\", \"eval_fairness_gro...</td>\n",
       "      <td>61.230386</td>\n",
       "      <td>89710</td>\n",
       "      <td>1.0</td>\n",
       "      <td>0.130958</td>\n",
       "      <td>0.863033</td>\n",
       "      <td>0.091511</td>\n",
       "      <td>0.881371</td>\n",
       "      <td>...</td>\n",
       "      <td>0.139921</td>\n",
       "      <td>0.163781</td>\n",
       "      <td>0.660962</td>\n",
       "      <td>0.743278</td>\n",
       "      <td>0.174831</td>\n",
       "      <td>0.043873</td>\n",
       "      <td>0.679893</td>\n",
       "      <td>0.771404</td>\n",
       "      <td>20540.0</td>\n",
       "      <td>69170.0</td>\n",
       "    </tr>\n",
       "  </tbody>\n",
       "</table>\n",
       "<p>4 rows × 50 columns</p>\n",
       "</div>"
      ],
      "text/plain": [
       "  run_no                       universe_id  \\\n",
       "0     11  3e364428648835ac4874a6dff2b8eca7   \n",
       "0     11  3e364428648835ac4874a6dff2b8eca7   \n",
       "0     11  3e364428648835ac4874a6dff2b8eca7   \n",
       "0     11  3e364428648835ac4874a6dff2b8eca7   \n",
       "\n",
       "                                   universe_settings  execution_time  \\\n",
       "0  {\"cutoff\": \"quantile_0.1\", \"eval_fairness_grou...       61.230386   \n",
       "0  {\"cutoff\": \"quantile_0.1\", \"eval_fairness_grou...       61.230386   \n",
       "0  {\"cutoff\": \"quantile_0.25\", \"eval_fairness_gro...       61.230386   \n",
       "0  {\"cutoff\": \"quantile_0.25\", \"eval_fairness_gro...       61.230386   \n",
       "\n",
       "   test_size_n  test_size_frac  fair_main_equalized_odds_difference  \\\n",
       "0        89710             1.0                             0.082886   \n",
       "0        89710             1.0                             0.082886   \n",
       "0        89710             1.0                             0.130958   \n",
       "0        89710             1.0                             0.130958   \n",
       "\n",
       "   fair_main_equalized_odds_ratio  fair_main_demographic_parity_difference  \\\n",
       "0                        0.911974                                 0.082298   \n",
       "0                        0.911974                                 0.082298   \n",
       "0                        0.863033                                 0.091511   \n",
       "0                        0.863033                                 0.091511   \n",
       "\n",
       "   fair_main_demographic_parity_ratio  ...  perf_grp_precision_0  \\\n",
       "0                            0.911308  ...                   NaN   \n",
       "0                            0.911308  ...              0.123841   \n",
       "0                            0.881371  ...                   NaN   \n",
       "0                            0.881371  ...              0.139921   \n",
       "\n",
       "   perf_grp_precision_1  perf_grp_false positive rate_0  \\\n",
       "0                   NaN                             NaN   \n",
       "0              0.141157                        0.837442   \n",
       "0                   NaN                             NaN   \n",
       "0              0.163781                        0.660962   \n",
       "\n",
       "   perf_grp_false positive rate_1  perf_grp_false negative rate_0  \\\n",
       "0                             NaN                             NaN   \n",
       "0                        0.918274                        0.091639   \n",
       "0                             NaN                             NaN   \n",
       "0                        0.743278                        0.174831   \n",
       "\n",
       "   perf_grp_false negative rate_1  perf_grp_selection rate_0  \\\n",
       "0                             NaN                        NaN   \n",
       "0                        0.008753                   0.845618   \n",
       "0                             NaN                        NaN   \n",
       "0                        0.043873                   0.679893   \n",
       "\n",
       "   perf_grp_selection rate_1  perf_grp_count_0  perf_grp_count_1  \n",
       "0                        NaN               NaN               NaN  \n",
       "0                   0.927917           20540.0           69170.0  \n",
       "0                        NaN               NaN               NaN  \n",
       "0                   0.771404           20540.0           69170.0  \n",
       "\n",
       "[4 rows x 50 columns]"
      ]
     },
     "execution_count": 72,
     "metadata": {},
     "output_type": "execute_result"
    }
   ],
   "source": [
    "final_output = universe_analysis.generate_final_output(\n",
    "    y_pred_prob=probs_test,\n",
    "    y_test=y_true,\n",
    "    org_test=org_test,\n",
    "    filter_data=filter_sub_universe_data,\n",
    "    cp_metrics_df=cp_metrics_df,\n",
    "    save=True,\n",
    ")\n",
    "final_output"
   ]
  },
  {
   "cell_type": "code",
   "execution_count": null,
   "id": "721ff514-cb11-46f8-b6fc-50392f74b5cb",
   "metadata": {
    "papermill": {
     "duration": 0.063928,
     "end_time": "2025-07-28T11:07:45.055031",
     "exception": false,
     "start_time": "2025-07-28T11:07:44.991103",
     "status": "completed"
    },
    "tags": []
   },
   "outputs": [],
   "source": []
  }
 ],
 "metadata": {
  "celltoolbar": "Tags",
  "kernelspec": {
   "display_name": "Python (CMA Fairness)",
   "language": "python",
   "name": "cma_fair_env"
  },
  "language_info": {
   "codemirror_mode": {
    "name": "ipython",
    "version": 3
   },
   "file_extension": ".py",
   "mimetype": "text/x-python",
   "name": "python",
   "nbconvert_exporter": "python",
   "pygments_lexer": "ipython3",
   "version": "3.10.12"
  },
  "papermill": {
   "default_parameters": {},
   "duration": 86.396549,
   "end_time": "2025-07-28T11:07:45.906291",
   "environment_variables": {},
   "exception": null,
   "input_path": "universe_analysis.ipynb",
   "output_path": "output/runs/11/notebooks/m_11-3e364428648835ac4874a6dff2b8eca7.ipynb",
   "parameters": {
    "output_dir": "output",
    "run_no": "11",
    "seed": "2023",
    "universe": "{\"cutoff\": [\"quantile_0.1\", \"quantile_0.25\"], \"eval_fairness_grouping\": [\"majority-minority\", \"nationality-all\"], \"exclude_features\": \"nationality-sex\", \"exclude_subgroups\": \"drop-non-german\", \"model\": \"rf\", \"scale\": \"do-not-scale\", \"training_size\": \"2014\"}",
    "universe_id": "3e364428648835ac4874a6dff2b8eca7"
   },
   "start_time": "2025-07-28T11:06:19.509742",
   "version": "2.6.0"
  }
 },
 "nbformat": 4,
 "nbformat_minor": 5
}