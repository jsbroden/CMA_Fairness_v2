{
 "cells": [
  {
   "cell_type": "code",
   "execution_count": 1,
   "id": "f159f837-637b-42ba-96b5-ec9a68c44524",
   "metadata": {
    "execution": {
     "iopub.execute_input": "2025-07-28T10:50:11.391447Z",
     "iopub.status.busy": "2025-07-28T10:50:11.391127Z",
     "iopub.status.idle": "2025-07-28T10:50:11.403069Z",
     "shell.execute_reply": "2025-07-28T10:50:11.401930Z"
    },
    "papermill": {
     "duration": 0.032334,
     "end_time": "2025-07-28T10:50:11.405362",
     "exception": false,
     "start_time": "2025-07-28T10:50:11.373028",
     "status": "completed"
    },
    "tags": []
   },
   "outputs": [
    {
     "name": "stdout",
     "output_type": "stream",
     "text": [
      "/dss/dsshome1/0C/ra93lal2/cma/CMA_Fairness_v2\n"
     ]
    },
    {
     "name": "stderr",
     "output_type": "stream",
     "text": [
      "/dss/dsshome1/0C/ra93lal2/.local/share/virtualenvs/CMA_Fairness_v2-3j10GkSs/lib/python3.10/site-packages/IPython/core/magics/osm.py:393: UserWarning: This is now an optional IPython functionality, using bookmarks requires you to install the `pickleshare` library.\n",
      "  bkms = self.shell.db.get('bookmarks', {})\n",
      "/dss/dsshome1/0C/ra93lal2/.local/share/virtualenvs/CMA_Fairness_v2-3j10GkSs/lib/python3.10/site-packages/IPython/core/magics/osm.py:417: UserWarning: This is now an optional IPython functionality, setting dhist requires you to install the `pickleshare` library.\n",
      "  self.shell.db['dhist'] = compress_dhist(dhist)[-100:]\n"
     ]
    }
   ],
   "source": [
    "%cd ~/cma/CMA_Fairness_v2"
   ]
  },
  {
   "cell_type": "markdown",
   "id": "de2603b9",
   "metadata": {
    "papermill": {
     "duration": 0.019375,
     "end_time": "2025-07-28T10:50:11.449631",
     "exception": false,
     "start_time": "2025-07-28T10:50:11.430256",
     "status": "completed"
    },
    "tags": []
   },
   "source": [
    "The following cell holds the definition of our parameters, these values can be overriden by rendering the with e.g. the following command:\n",
    "\n",
    "papermill -p alpha 0.2 -p ratio 0.3 universe_analysis.ipynb output/test_run.ipynb"
   ]
  },
  {
   "cell_type": "code",
   "execution_count": 2,
   "id": "a80968a0-40bb-4fa9-85ef-2d5eefb01975",
   "metadata": {
    "execution": {
     "iopub.execute_input": "2025-07-28T10:50:11.507669Z",
     "iopub.status.busy": "2025-07-28T10:50:11.507250Z",
     "iopub.status.idle": "2025-07-28T10:50:11.513001Z",
     "shell.execute_reply": "2025-07-28T10:50:11.511954Z"
    },
    "papermill": {
     "duration": 0.028379,
     "end_time": "2025-07-28T10:50:11.517208",
     "exception": false,
     "start_time": "2025-07-28T10:50:11.488829",
     "status": "completed"
    },
    "tags": []
   },
   "outputs": [
    {
     "name": "stdout",
     "output_type": "stream",
     "text": [
      "Current working directory: /dss/dsshome1/0C/ra93lal2/cma/CMA_Fairness_v2\n"
     ]
    }
   ],
   "source": [
    "import os\n",
    "print(\"Current working directory:\", os.getcwd())"
   ]
  },
  {
   "cell_type": "code",
   "execution_count": 3,
   "id": "2dce4c03",
   "metadata": {
    "execution": {
     "iopub.execute_input": "2025-07-28T10:50:11.562126Z",
     "iopub.status.busy": "2025-07-28T10:50:11.561717Z",
     "iopub.status.idle": "2025-07-28T10:50:11.568011Z",
     "shell.execute_reply": "2025-07-28T10:50:11.567088Z"
    },
    "papermill": {
     "duration": 0.032471,
     "end_time": "2025-07-28T10:50:11.569785",
     "exception": false,
     "start_time": "2025-07-28T10:50:11.537314",
     "status": "completed"
    },
    "tags": [
     "parameters"
    ]
   },
   "outputs": [],
   "source": [
    "run_no = 0\n",
    "universe_id = \"test\"\n",
    "universe = {\n",
    "    \"training_size\": \"2014\", # \"25k\", \"5k\", \"1k\", \"2014\"\n",
    "    \"scale\": \"scale\", # \"scale\", \"do-not-scale\",\n",
    "    #\"stratify_split\": \"target\", # \"none\", \"target\", \"protected-attribute\", \"both\",\n",
    "    \"model\": \"elasticnet\", # \"logreg\", \"penalized_logreg\", \"rf\", \"gbm\", \"elasticnet\"\n",
    "    \"cutoff\": [\"quantile_0.15\", \"quantile_0.30\"],\n",
    "    \"exclude_features\": \"age\", # \"none\", \"nationality\", \"sex\", \"nationality-sex\", \"age\"\n",
    "    \"exclude_subgroups\": \"keep-all\", # \"keep-all\", \"drop-non-german\"\n",
    "    \"eval_fairness_grouping\": [\"majority-minority\", \"nationality-all\"]\n",
    "}\n",
    "\n",
    "output_dir=\"./output\"\n",
    "seed=0"
   ]
  },
  {
   "cell_type": "code",
   "execution_count": 4,
   "id": "0f4d639b",
   "metadata": {
    "execution": {
     "iopub.execute_input": "2025-07-28T10:50:11.646448Z",
     "iopub.status.busy": "2025-07-28T10:50:11.645822Z",
     "iopub.status.idle": "2025-07-28T10:50:11.651981Z",
     "shell.execute_reply": "2025-07-28T10:50:11.650688Z"
    },
    "papermill": {
     "duration": 0.031755,
     "end_time": "2025-07-28T10:50:11.654203",
     "exception": false,
     "start_time": "2025-07-28T10:50:11.622448",
     "status": "completed"
    },
    "tags": [
     "injected-parameters"
    ]
   },
   "outputs": [],
   "source": [
    "# Parameters\n",
    "universe_id = \"4b41b1d434ac0d019142b376a856fb54\"\n",
    "run_no = \"11\"\n",
    "universe = \"{\\\"cutoff\\\": [\\\"quantile_0.1\\\", \\\"quantile_0.25\\\"], \\\"eval_fairness_grouping\\\": [\\\"majority-minority\\\", \\\"nationality-all\\\"], \\\"exclude_features\\\": \\\"age\\\", \\\"exclude_subgroups\\\": \\\"keep-all\\\", \\\"model\\\": \\\"rf\\\", \\\"scale\\\": \\\"do-not-scale\\\", \\\"training_size\\\": \\\"1k\\\"}\"\n",
    "output_dir = \"output\"\n",
    "seed = \"2023\"\n"
   ]
  },
  {
   "cell_type": "code",
   "execution_count": 5,
   "id": "1650acaf",
   "metadata": {
    "execution": {
     "iopub.execute_input": "2025-07-28T10:50:11.714704Z",
     "iopub.status.busy": "2025-07-28T10:50:11.714215Z",
     "iopub.status.idle": "2025-07-28T10:50:11.720157Z",
     "shell.execute_reply": "2025-07-28T10:50:11.718992Z"
    },
    "papermill": {
     "duration": 0.032346,
     "end_time": "2025-07-28T10:50:11.723308",
     "exception": false,
     "start_time": "2025-07-28T10:50:11.690962",
     "status": "completed"
    },
    "tags": []
   },
   "outputs": [],
   "source": [
    "import json\n",
    "# Parse universe into dict if it is passed as a string\n",
    "if isinstance(universe, str):\n",
    "    universe = json.loads(universe)"
   ]
  },
  {
   "cell_type": "code",
   "execution_count": 6,
   "id": "16620c48",
   "metadata": {
    "execution": {
     "iopub.execute_input": "2025-07-28T10:50:11.782654Z",
     "iopub.status.busy": "2025-07-28T10:50:11.782276Z",
     "iopub.status.idle": "2025-07-28T10:50:11.834732Z",
     "shell.execute_reply": "2025-07-28T10:50:11.833485Z"
    },
    "papermill": {
     "duration": 0.076107,
     "end_time": "2025-07-28T10:50:11.836797",
     "exception": false,
     "start_time": "2025-07-28T10:50:11.760690",
     "status": "completed"
    },
    "tags": []
   },
   "outputs": [],
   "source": [
    "# Auto-reload the custom package\n",
    "%load_ext autoreload\n",
    "%autoreload 1\n",
    "%aimport fairness_multiverse"
   ]
  },
  {
   "cell_type": "code",
   "execution_count": 7,
   "id": "01c5c9f3",
   "metadata": {
    "execution": {
     "iopub.execute_input": "2025-07-28T10:50:11.886772Z",
     "iopub.status.busy": "2025-07-28T10:50:11.885796Z",
     "iopub.status.idle": "2025-07-28T10:50:14.724487Z",
     "shell.execute_reply": "2025-07-28T10:50:14.722765Z"
    },
    "papermill": {
     "duration": 2.870996,
     "end_time": "2025-07-28T10:50:14.728275",
     "exception": false,
     "start_time": "2025-07-28T10:50:11.857279",
     "status": "completed"
    },
    "tags": []
   },
   "outputs": [],
   "source": [
    "from fairness_multiverse.universe import UniverseAnalysis\n",
    "\n",
    "universe_analysis = UniverseAnalysis(\n",
    "    run_no = run_no,\n",
    "    universe_id = universe_id,\n",
    "    universe = universe,\n",
    "    output_dir=output_dir,\n",
    ")"
   ]
  },
  {
   "cell_type": "code",
   "execution_count": 8,
   "id": "106241f5",
   "metadata": {
    "execution": {
     "iopub.execute_input": "2025-07-28T10:50:14.768987Z",
     "iopub.status.busy": "2025-07-28T10:50:14.768433Z",
     "iopub.status.idle": "2025-07-28T10:50:14.775470Z",
     "shell.execute_reply": "2025-07-28T10:50:14.774388Z"
    },
    "papermill": {
     "duration": 0.030023,
     "end_time": "2025-07-28T10:50:14.777318",
     "exception": false,
     "start_time": "2025-07-28T10:50:14.747295",
     "status": "completed"
    },
    "tags": []
   },
   "outputs": [
    {
     "name": "stdout",
     "output_type": "stream",
     "text": [
      "Using Seed: 2023\n"
     ]
    }
   ],
   "source": [
    "import numpy as np\n",
    "parsed_seed = int(seed)\n",
    "np.random.seed(parsed_seed)\n",
    "print(f\"Using Seed: {parsed_seed}\")"
   ]
  },
  {
   "cell_type": "markdown",
   "id": "e0ebdc57",
   "metadata": {
    "papermill": {
     "duration": 0.019052,
     "end_time": "2025-07-28T10:50:14.816017",
     "exception": false,
     "start_time": "2025-07-28T10:50:14.796965",
     "status": "completed"
    },
    "tags": []
   },
   "source": [
    "# Loading Data"
   ]
  },
  {
   "cell_type": "markdown",
   "id": "681925a3",
   "metadata": {
    "papermill": {
     "duration": 0.019373,
     "end_time": "2025-07-28T10:50:14.854983",
     "exception": false,
     "start_time": "2025-07-28T10:50:14.835610",
     "status": "completed"
    },
    "tags": []
   },
   "source": [
    "Load siab_train, siab_test, siab_calib and/or \n",
    "load siab_train_features, siab_train_labels"
   ]
  },
  {
   "cell_type": "code",
   "execution_count": 9,
   "id": "f0496b8a",
   "metadata": {
    "execution": {
     "iopub.execute_input": "2025-07-28T10:50:14.895482Z",
     "iopub.status.busy": "2025-07-28T10:50:14.895095Z",
     "iopub.status.idle": "2025-07-28T10:50:26.823451Z",
     "shell.execute_reply": "2025-07-28T10:50:26.822061Z"
    },
    "papermill": {
     "duration": 11.951563,
     "end_time": "2025-07-28T10:50:26.825676",
     "exception": false,
     "start_time": "2025-07-28T10:50:14.874113",
     "status": "completed"
    },
    "tags": []
   },
   "outputs": [
    {
     "name": "stdout",
     "output_type": "stream",
     "text": [
      "Loading SIAB data from cache: data/siab_cached.csv.gz\n"
     ]
    },
    {
     "name": "stdout",
     "output_type": "stream",
     "text": [
      "(643690, 164)\n"
     ]
    }
   ],
   "source": [
    "from pathlib import Path\n",
    "import pandas as pd\n",
    "\n",
    "# File paths\n",
    "raw_file = Path(\"data/raw/siab.csv\")\n",
    "cache_file = Path(\"data/siab_cached.csv.gz\")\n",
    "\n",
    "# Ensure cache directory exists\n",
    "cache_file.parent.mkdir(parents=True, exist_ok=True)\n",
    "\n",
    "# Load with simple caching\n",
    "if cache_file.exists():\n",
    "    print(f\"Loading SIAB data from cache: {cache_file}\")\n",
    "    siab = pd.read_csv(cache_file, compression='gzip')\n",
    "else:\n",
    "    print(f\"Cache not found. Reading raw SIAB data: {raw_file}\")\n",
    "    siab = pd.read_csv(raw_file)\n",
    "    siab.to_csv(cache_file, index=False, compression='gzip')\n",
    "    print(f\"Cached SIAB data to: {cache_file}\")\n",
    "\n",
    "# Now use `siab` DataFrame as needed\n",
    "print(siab.shape)"
   ]
  },
  {
   "cell_type": "code",
   "execution_count": 10,
   "id": "db0ca512-5f53-4dba-abdb-a2888bca41ba",
   "metadata": {
    "execution": {
     "iopub.execute_input": "2025-07-28T10:50:26.878499Z",
     "iopub.status.busy": "2025-07-28T10:50:26.877854Z",
     "iopub.status.idle": "2025-07-28T10:50:26.885684Z",
     "shell.execute_reply": "2025-07-28T10:50:26.884350Z"
    },
    "papermill": {
     "duration": 0.035223,
     "end_time": "2025-07-28T10:50:26.887429",
     "exception": false,
     "start_time": "2025-07-28T10:50:26.852206",
     "status": "completed"
    },
    "tags": []
   },
   "outputs": [],
   "source": [
    "#siab"
   ]
  },
  {
   "cell_type": "code",
   "execution_count": 11,
   "id": "a0edb063",
   "metadata": {
    "execution": {
     "iopub.execute_input": "2025-07-28T10:50:26.935500Z",
     "iopub.status.busy": "2025-07-28T10:50:26.934822Z",
     "iopub.status.idle": "2025-07-28T10:50:26.940913Z",
     "shell.execute_reply": "2025-07-28T10:50:26.939652Z"
    },
    "papermill": {
     "duration": 0.032108,
     "end_time": "2025-07-28T10:50:26.942839",
     "exception": false,
     "start_time": "2025-07-28T10:50:26.910731",
     "status": "completed"
    },
    "tags": []
   },
   "outputs": [],
   "source": [
    "#import pandas as pd\n",
    "#\n",
    "#X_train = pd.read_csv(\"./data/X_train.csv\")\n",
    "#y_train = pd.read_csv(\"./data/y_train.csv\")"
   ]
  },
  {
   "cell_type": "code",
   "execution_count": 12,
   "id": "63d08085",
   "metadata": {
    "execution": {
     "iopub.execute_input": "2025-07-28T10:50:26.992387Z",
     "iopub.status.busy": "2025-07-28T10:50:26.991179Z",
     "iopub.status.idle": "2025-07-28T10:50:26.997628Z",
     "shell.execute_reply": "2025-07-28T10:50:26.996444Z"
    },
    "papermill": {
     "duration": 0.032826,
     "end_time": "2025-07-28T10:50:26.999552",
     "exception": false,
     "start_time": "2025-07-28T10:50:26.966726",
     "status": "completed"
    },
    "tags": []
   },
   "outputs": [],
   "source": [
    "#X_test = pd.read_csv(\"./data/X_test.csv\")\n",
    "#y_true = pd.read_csv(\"./data/y_test.csv\")"
   ]
  },
  {
   "cell_type": "code",
   "execution_count": 13,
   "id": "98a8d0fa-1d3d-4ed8-bb2c-281470e24add",
   "metadata": {
    "execution": {
     "iopub.execute_input": "2025-07-28T10:50:27.050076Z",
     "iopub.status.busy": "2025-07-28T10:50:27.048965Z",
     "iopub.status.idle": "2025-07-28T10:50:27.054911Z",
     "shell.execute_reply": "2025-07-28T10:50:27.053635Z"
    },
    "papermill": {
     "duration": 0.033196,
     "end_time": "2025-07-28T10:50:27.056941",
     "exception": false,
     "start_time": "2025-07-28T10:50:27.023745",
     "status": "completed"
    },
    "tags": []
   },
   "outputs": [],
   "source": [
    "# Calibration data for conformal\n",
    "#X_calib = pd.read_csv(\"./data/X_calib.csv\")\n",
    "#y_calib = pd.read_csv(\"./data/y_calib.csv\")"
   ]
  },
  {
   "cell_type": "markdown",
   "id": "9901737e-04df-44f0-9100-f5ad144ed040",
   "metadata": {
    "papermill": {
     "duration": 0.023226,
     "end_time": "2025-07-28T10:50:27.104214",
     "exception": false,
     "start_time": "2025-07-28T10:50:27.080988",
     "status": "completed"
    },
    "tags": []
   },
   "source": [
    "# Splitting Data and Setting Training Data Size"
   ]
  },
  {
   "cell_type": "code",
   "execution_count": 14,
   "id": "acbc8f7d-8fc8-4e86-8c59-5dcb0f58384b",
   "metadata": {
    "execution": {
     "iopub.execute_input": "2025-07-28T10:50:27.153479Z",
     "iopub.status.busy": "2025-07-28T10:50:27.152413Z",
     "iopub.status.idle": "2025-07-28T10:50:27.162095Z",
     "shell.execute_reply": "2025-07-28T10:50:27.160840Z"
    },
    "papermill": {
     "duration": 0.03658,
     "end_time": "2025-07-28T10:50:27.163990",
     "exception": false,
     "start_time": "2025-07-28T10:50:27.127410",
     "status": "completed"
    },
    "tags": []
   },
   "outputs": [],
   "source": [
    "def sample_by_year(df, training_size, random_state=42):\n",
    "    if training_size == \"2014\":\n",
    "        return df[df[\"year\"] == 2014].reset_index(drop=True)\n",
    "    \n",
    "    size_map = {\n",
    "        \"25k\": 5000,\n",
    "        \"5k\": 1000,\n",
    "        \"1k\": 200\n",
    "    }\n",
    "\n",
    "    if training_size not in size_map:\n",
    "        return df.reset_index(drop=True)  # use all data\n",
    "\n",
    "    n_per_year = size_map[training_size]\n",
    "    grouped = df.groupby(\"year\")\n",
    "    sampled = grouped.apply(lambda x: x.sample(n=min(n_per_year, len(x)), random_state=random_state))\n",
    "    return sampled.reset_index(drop=True)"
   ]
  },
  {
   "cell_type": "code",
   "execution_count": 15,
   "id": "6d931f52-beaf-43ff-9e78-9d44a448d54e",
   "metadata": {
    "execution": {
     "iopub.execute_input": "2025-07-28T10:50:27.214796Z",
     "iopub.status.busy": "2025-07-28T10:50:27.213713Z",
     "iopub.status.idle": "2025-07-28T10:50:27.944860Z",
     "shell.execute_reply": "2025-07-28T10:50:27.943734Z"
    },
    "papermill": {
     "duration": 0.759494,
     "end_time": "2025-07-28T10:50:27.947944",
     "exception": false,
     "start_time": "2025-07-28T10:50:27.188450",
     "status": "completed"
    },
    "tags": []
   },
   "outputs": [],
   "source": [
    "siab_s = sample_by_year(siab, universe[\"training_size\"])"
   ]
  },
  {
   "cell_type": "code",
   "execution_count": 16,
   "id": "5db0a40e-a4e2-4920-be85-b12ae061d70d",
   "metadata": {
    "execution": {
     "iopub.execute_input": "2025-07-28T10:50:27.989380Z",
     "iopub.status.busy": "2025-07-28T10:50:27.988592Z",
     "iopub.status.idle": "2025-07-28T10:50:28.003423Z",
     "shell.execute_reply": "2025-07-28T10:50:28.002655Z"
    },
    "papermill": {
     "duration": 0.039749,
     "end_time": "2025-07-28T10:50:28.006779",
     "exception": false,
     "start_time": "2025-07-28T10:50:27.967030",
     "status": "completed"
    },
    "tags": []
   },
   "outputs": [
    {
     "data": {
      "text/plain": [
       "year\n",
       "2010    200\n",
       "2011    200\n",
       "2012    200\n",
       "2013    200\n",
       "2014    200\n",
       "2015    200\n",
       "2016    200\n",
       "dtype: int64"
      ]
     },
     "metadata": {},
     "output_type": "display_data"
    }
   ],
   "source": [
    "display(siab_s.groupby(\"year\").size())"
   ]
  },
  {
   "cell_type": "code",
   "execution_count": 17,
   "id": "a561edb4-d032-42cb-8256-22eac1111c64",
   "metadata": {
    "execution": {
     "iopub.execute_input": "2025-07-28T10:50:28.072013Z",
     "iopub.status.busy": "2025-07-28T10:50:28.070766Z",
     "iopub.status.idle": "2025-07-28T10:50:28.526410Z",
     "shell.execute_reply": "2025-07-28T10:50:28.525291Z"
    },
    "papermill": {
     "duration": 0.491449,
     "end_time": "2025-07-28T10:50:28.529212",
     "exception": false,
     "start_time": "2025-07-28T10:50:28.037763",
     "status": "completed"
    },
    "tags": []
   },
   "outputs": [],
   "source": [
    "siab_train = siab_s[siab_s.year < 2015]\n",
    "siab_calib = siab[siab.year == 2015]\n",
    "siab_test = siab[siab.year == 2016]"
   ]
  },
  {
   "cell_type": "code",
   "execution_count": 18,
   "id": "472de16f-c3db-4916-846b-1f0de9cf1746",
   "metadata": {
    "execution": {
     "iopub.execute_input": "2025-07-28T10:50:28.572862Z",
     "iopub.status.busy": "2025-07-28T10:50:28.571857Z",
     "iopub.status.idle": "2025-07-28T10:50:28.580072Z",
     "shell.execute_reply": "2025-07-28T10:50:28.578902Z"
    },
    "papermill": {
     "duration": 0.032522,
     "end_time": "2025-07-28T10:50:28.582261",
     "exception": false,
     "start_time": "2025-07-28T10:50:28.549739",
     "status": "completed"
    },
    "tags": []
   },
   "outputs": [],
   "source": [
    "X_train = siab_train.iloc[:,4:164]\n",
    "y_train = siab_train.iloc[:, [3]]"
   ]
  },
  {
   "cell_type": "code",
   "execution_count": 19,
   "id": "828c96af-f43a-4ed6-ba47-8ac73a47d56c",
   "metadata": {
    "execution": {
     "iopub.execute_input": "2025-07-28T10:50:28.644580Z",
     "iopub.status.busy": "2025-07-28T10:50:28.643756Z",
     "iopub.status.idle": "2025-07-28T10:50:28.698103Z",
     "shell.execute_reply": "2025-07-28T10:50:28.696756Z"
    },
    "papermill": {
     "duration": 0.087961,
     "end_time": "2025-07-28T10:50:28.700456",
     "exception": false,
     "start_time": "2025-07-28T10:50:28.612495",
     "status": "completed"
    },
    "tags": []
   },
   "outputs": [],
   "source": [
    "X_calib = siab_calib.iloc[:,4:164]\n",
    "y_calib = siab_calib.iloc[:, [3]]"
   ]
  },
  {
   "cell_type": "code",
   "execution_count": 20,
   "id": "c34be9c3-6bd6-476e-acd3-845840e303be",
   "metadata": {
    "execution": {
     "iopub.execute_input": "2025-07-28T10:50:28.754688Z",
     "iopub.status.busy": "2025-07-28T10:50:28.754111Z",
     "iopub.status.idle": "2025-07-28T10:50:28.812186Z",
     "shell.execute_reply": "2025-07-28T10:50:28.811006Z"
    },
    "papermill": {
     "duration": 0.08448,
     "end_time": "2025-07-28T10:50:28.813805",
     "exception": false,
     "start_time": "2025-07-28T10:50:28.729325",
     "status": "completed"
    },
    "tags": []
   },
   "outputs": [],
   "source": [
    "X_test = siab_test.iloc[:,4:164]\n",
    "y_true = siab_test.iloc[:, [3]]"
   ]
  },
  {
   "cell_type": "code",
   "execution_count": 21,
   "id": "e6c733c5",
   "metadata": {
    "execution": {
     "iopub.execute_input": "2025-07-28T10:50:28.859832Z",
     "iopub.status.busy": "2025-07-28T10:50:28.859202Z",
     "iopub.status.idle": "2025-07-28T10:50:28.961402Z",
     "shell.execute_reply": "2025-07-28T10:50:28.960146Z"
    },
    "papermill": {
     "duration": 0.128104,
     "end_time": "2025-07-28T10:50:28.963800",
     "exception": false,
     "start_time": "2025-07-28T10:50:28.835696",
     "status": "completed"
    },
    "tags": []
   },
   "outputs": [],
   "source": [
    "# Auxiliary data needed downstream in the pipeline\n",
    "\n",
    "org_train = X_train.copy()\n",
    "org_test = X_test.copy()\n",
    "org_calib = X_calib.copy()"
   ]
  },
  {
   "cell_type": "markdown",
   "id": "0a4a1b33",
   "metadata": {
    "papermill": {
     "duration": 0.020867,
     "end_time": "2025-07-28T10:50:29.005548",
     "exception": false,
     "start_time": "2025-07-28T10:50:28.984681",
     "status": "completed"
    },
    "tags": []
   },
   "source": [
    "# Preprocessing Data"
   ]
  },
  {
   "cell_type": "code",
   "execution_count": 22,
   "id": "ca879031",
   "metadata": {
    "execution": {
     "iopub.execute_input": "2025-07-28T10:50:29.048860Z",
     "iopub.status.busy": "2025-07-28T10:50:29.047962Z",
     "iopub.status.idle": "2025-07-28T10:50:29.055375Z",
     "shell.execute_reply": "2025-07-28T10:50:29.054368Z"
    },
    "papermill": {
     "duration": 0.030982,
     "end_time": "2025-07-28T10:50:29.057166",
     "exception": false,
     "start_time": "2025-07-28T10:50:29.026184",
     "status": "completed"
    },
    "tags": []
   },
   "outputs": [],
   "source": [
    "# EXCLUDE PROTECTED FEATURES\n",
    "# ----------------------\n",
    "# \"exclude_features\": \"none\", # \"nationality\", \"sex\", \"nationality-sex\"\n",
    "\n",
    "excluded_features = universe[\"exclude_features\"].split(\"-\") # split, e.g.: \"nationality-sex\" -> [\"nationality\", \"sex\"]\n",
    "excluded_features_dictionary = {\n",
    "    \"nationality\": [\"maxdeutsch1\", \"maxdeutsch.Missing.\"],\n",
    "    \"sex\": [\"frau1\"],\n",
    "    \"age\": [\"age\"],\n",
    "}\n"
   ]
  },
  {
   "cell_type": "code",
   "execution_count": 23,
   "id": "b745ac60",
   "metadata": {
    "execution": {
     "iopub.execute_input": "2025-07-28T10:50:29.101414Z",
     "iopub.status.busy": "2025-07-28T10:50:29.100804Z",
     "iopub.status.idle": "2025-07-28T10:50:29.107209Z",
     "shell.execute_reply": "2025-07-28T10:50:29.106205Z"
    },
    "papermill": {
     "duration": 0.030748,
     "end_time": "2025-07-28T10:50:29.108738",
     "exception": false,
     "start_time": "2025-07-28T10:50:29.077990",
     "status": "completed"
    },
    "tags": []
   },
   "outputs": [],
   "source": [
    "# Code nice names to column names\n",
    "\n",
    "excluded_features_columns = [\n",
    "    excluded_features_dictionary[f] for f in excluded_features if len(f) > 0 and f != \"none\"\n",
    "]"
   ]
  },
  {
   "cell_type": "code",
   "execution_count": 24,
   "id": "f84f73a2",
   "metadata": {
    "execution": {
     "iopub.execute_input": "2025-07-28T10:50:29.152695Z",
     "iopub.status.busy": "2025-07-28T10:50:29.151751Z",
     "iopub.status.idle": "2025-07-28T10:50:29.159170Z",
     "shell.execute_reply": "2025-07-28T10:50:29.158234Z"
    },
    "papermill": {
     "duration": 0.030812,
     "end_time": "2025-07-28T10:50:29.160707",
     "exception": false,
     "start_time": "2025-07-28T10:50:29.129895",
     "status": "completed"
    },
    "tags": []
   },
   "outputs": [],
   "source": [
    "from utils import flatten_once\n",
    "\n",
    "excluded_features_columns = flatten_once(excluded_features_columns)"
   ]
  },
  {
   "cell_type": "code",
   "execution_count": 25,
   "id": "884dea22",
   "metadata": {
    "execution": {
     "iopub.execute_input": "2025-07-28T10:50:29.202729Z",
     "iopub.status.busy": "2025-07-28T10:50:29.201767Z",
     "iopub.status.idle": "2025-07-28T10:50:29.210121Z",
     "shell.execute_reply": "2025-07-28T10:50:29.209071Z"
    },
    "papermill": {
     "duration": 0.030822,
     "end_time": "2025-07-28T10:50:29.211889",
     "exception": false,
     "start_time": "2025-07-28T10:50:29.181067",
     "status": "completed"
    },
    "tags": []
   },
   "outputs": [
    {
     "name": "stdout",
     "output_type": "stream",
     "text": [
      "Dropping features: ['age']\n"
     ]
    }
   ],
   "source": [
    "if len(excluded_features_columns) > 0:\n",
    "    print(f\"Dropping features: {excluded_features_columns}\")\n",
    "    X_train.drop(excluded_features_columns, axis=1, inplace=True)"
   ]
  },
  {
   "cell_type": "code",
   "execution_count": 26,
   "id": "95ab8b16",
   "metadata": {
    "execution": {
     "iopub.execute_input": "2025-07-28T10:50:29.256225Z",
     "iopub.status.busy": "2025-07-28T10:50:29.255677Z",
     "iopub.status.idle": "2025-07-28T10:50:29.310665Z",
     "shell.execute_reply": "2025-07-28T10:50:29.309676Z"
    },
    "papermill": {
     "duration": 0.077961,
     "end_time": "2025-07-28T10:50:29.312330",
     "exception": false,
     "start_time": "2025-07-28T10:50:29.234369",
     "status": "completed"
    },
    "tags": []
   },
   "outputs": [
    {
     "name": "stdout",
     "output_type": "stream",
     "text": [
      "Dropping features: ['age']\n"
     ]
    }
   ],
   "source": [
    "if len(excluded_features_columns) > 0:\n",
    "    print(f\"Dropping features: {excluded_features_columns}\")\n",
    "    X_test.drop(excluded_features_columns, axis=1, inplace=True)"
   ]
  },
  {
   "cell_type": "code",
   "execution_count": 27,
   "id": "1853aaf5-fb9f-46cb-a2b5-8ea4ae2237e4",
   "metadata": {
    "execution": {
     "iopub.execute_input": "2025-07-28T10:50:29.362487Z",
     "iopub.status.busy": "2025-07-28T10:50:29.361781Z",
     "iopub.status.idle": "2025-07-28T10:50:29.418823Z",
     "shell.execute_reply": "2025-07-28T10:50:29.417431Z"
    },
    "papermill": {
     "duration": 0.082471,
     "end_time": "2025-07-28T10:50:29.421244",
     "exception": false,
     "start_time": "2025-07-28T10:50:29.338773",
     "status": "completed"
    },
    "tags": []
   },
   "outputs": [
    {
     "name": "stdout",
     "output_type": "stream",
     "text": [
      "Dropping features: ['age']\n"
     ]
    }
   ],
   "source": [
    "if len(excluded_features_columns) > 0:\n",
    "    print(f\"Dropping features: {excluded_features_columns}\")\n",
    "    X_calib.drop(excluded_features_columns, axis=1, inplace=True)"
   ]
  },
  {
   "cell_type": "code",
   "execution_count": 28,
   "id": "6727d079-03e5-481e-9d38-292a90b7a0a8",
   "metadata": {
    "execution": {
     "iopub.execute_input": "2025-07-28T10:50:29.466188Z",
     "iopub.status.busy": "2025-07-28T10:50:29.465354Z",
     "iopub.status.idle": "2025-07-28T10:50:29.470416Z",
     "shell.execute_reply": "2025-07-28T10:50:29.469419Z"
    },
    "papermill": {
     "duration": 0.028391,
     "end_time": "2025-07-28T10:50:29.472184",
     "exception": false,
     "start_time": "2025-07-28T10:50:29.443793",
     "status": "completed"
    },
    "tags": []
   },
   "outputs": [],
   "source": [
    "# SPLIT & STRATIFY DATA\n",
    "# ----------------------"
   ]
  },
  {
   "cell_type": "code",
   "execution_count": 29,
   "id": "76c4dc6d",
   "metadata": {
    "execution": {
     "iopub.execute_input": "2025-07-28T10:50:29.520429Z",
     "iopub.status.busy": "2025-07-28T10:50:29.519513Z",
     "iopub.status.idle": "2025-07-28T10:50:29.526016Z",
     "shell.execute_reply": "2025-07-28T10:50:29.524920Z"
    },
    "papermill": {
     "duration": 0.03207,
     "end_time": "2025-07-28T10:50:29.527996",
     "exception": false,
     "start_time": "2025-07-28T10:50:29.495926",
     "status": "completed"
    },
    "tags": []
   },
   "outputs": [],
   "source": [
    "# EXCLUDE CERTAIN SUBGROUPS\n",
    "# ----------------------\n",
    "\n",
    "mode = universe.get(\"exclude_subgroups\", \"keep-all\") \n",
    "# Fetches the exclude_subgroups setting from the universe dict.\n",
    "# Defaults to \"keep-all\" if the key is missing."
   ]
  },
  {
   "cell_type": "code",
   "execution_count": 30,
   "id": "21994072",
   "metadata": {
    "execution": {
     "iopub.execute_input": "2025-07-28T10:50:29.575915Z",
     "iopub.status.busy": "2025-07-28T10:50:29.575406Z",
     "iopub.status.idle": "2025-07-28T10:50:29.582485Z",
     "shell.execute_reply": "2025-07-28T10:50:29.581528Z"
    },
    "papermill": {
     "duration": 0.032497,
     "end_time": "2025-07-28T10:50:29.584248",
     "exception": false,
     "start_time": "2025-07-28T10:50:29.551751",
     "status": "completed"
    },
    "tags": []
   },
   "outputs": [],
   "source": [
    "if mode == \"keep-all\":\n",
    "    keep_mask = pd.Series(True, index=org_train.index)\n",
    "\n",
    "# org_train contains the original feature columns from features_org (in Simson)\n",
    "# features_org contains unprocessed features, for me X_train at beginning ???\n",
    "# For keep-all, creates a boolean Series (keep_mask) of all True, so no rows are removed.\n",
    "\n",
    "elif mode == \"drop-non-german\":\n",
    "    keep_mask = org_train[\"maxdeutsch1\"] == 1 # ??? what about missing values?\n",
    "\n",
    "else:\n",
    "    raise ValueError(f\"Unsupported mode for exclude_subgroups: {mode}\")\n"
   ]
  },
  {
   "cell_type": "code",
   "execution_count": 31,
   "id": "71651440",
   "metadata": {
    "execution": {
     "iopub.execute_input": "2025-07-28T10:50:29.632328Z",
     "iopub.status.busy": "2025-07-28T10:50:29.631364Z",
     "iopub.status.idle": "2025-07-28T10:50:29.638501Z",
     "shell.execute_reply": "2025-07-28T10:50:29.637596Z"
    },
    "papermill": {
     "duration": 0.033109,
     "end_time": "2025-07-28T10:50:29.640233",
     "exception": false,
     "start_time": "2025-07-28T10:50:29.607124",
     "status": "completed"
    },
    "tags": []
   },
   "outputs": [],
   "source": [
    "n_drop = (~keep_mask).sum() # Calculates how many rows are set to be dropped\n",
    "if n_drop > 0:\n",
    "    pct = n_drop / len(keep_mask) * 100\n",
    "    print(f\"Dropping {n_drop} rows ({pct:.2f}%) where mode='{mode}'\")"
   ]
  },
  {
   "cell_type": "code",
   "execution_count": 32,
   "id": "5fb8eee5",
   "metadata": {
    "execution": {
     "iopub.execute_input": "2025-07-28T10:50:29.688420Z",
     "iopub.status.busy": "2025-07-28T10:50:29.687448Z",
     "iopub.status.idle": "2025-07-28T10:50:29.693775Z",
     "shell.execute_reply": "2025-07-28T10:50:29.692788Z"
    },
    "papermill": {
     "duration": 0.032079,
     "end_time": "2025-07-28T10:50:29.695500",
     "exception": false,
     "start_time": "2025-07-28T10:50:29.663421",
     "status": "completed"
    },
    "tags": []
   },
   "outputs": [],
   "source": [
    "X_train = X_train[keep_mask]"
   ]
  },
  {
   "cell_type": "code",
   "execution_count": 33,
   "id": "b202bb3a",
   "metadata": {
    "execution": {
     "iopub.execute_input": "2025-07-28T10:50:29.742411Z",
     "iopub.status.busy": "2025-07-28T10:50:29.741770Z",
     "iopub.status.idle": "2025-07-28T10:50:29.748230Z",
     "shell.execute_reply": "2025-07-28T10:50:29.747273Z"
    },
    "papermill": {
     "duration": 0.031296,
     "end_time": "2025-07-28T10:50:29.750163",
     "exception": false,
     "start_time": "2025-07-28T10:50:29.718867",
     "status": "completed"
    },
    "tags": []
   },
   "outputs": [],
   "source": [
    "y_train = y_train[keep_mask]"
   ]
  },
  {
   "cell_type": "markdown",
   "id": "493e2ac3",
   "metadata": {
    "papermill": {
     "duration": 0.021983,
     "end_time": "2025-07-28T10:50:29.796280",
     "exception": false,
     "start_time": "2025-07-28T10:50:29.774297",
     "status": "completed"
    },
    "tags": []
   },
   "source": [
    "# Model Training"
   ]
  },
  {
   "cell_type": "code",
   "execution_count": 34,
   "id": "679e1268",
   "metadata": {
    "execution": {
     "iopub.execute_input": "2025-07-28T10:50:29.843265Z",
     "iopub.status.busy": "2025-07-28T10:50:29.842778Z",
     "iopub.status.idle": "2025-07-28T10:50:29.957232Z",
     "shell.execute_reply": "2025-07-28T10:50:29.956203Z"
    },
    "papermill": {
     "duration": 0.14042,
     "end_time": "2025-07-28T10:50:29.959226",
     "exception": false,
     "start_time": "2025-07-28T10:50:29.818806",
     "status": "completed"
    },
    "tags": []
   },
   "outputs": [],
   "source": [
    "from sklearn.linear_model import LogisticRegression\n",
    "from sklearn.ensemble import GradientBoostingClassifier, RandomForestClassifier\n",
    "\n",
    "if (universe[\"model\"] == \"logreg\"):\n",
    "    model = LogisticRegression() #penalty=\"none\") #, solver=\"newton-cg\", max_iter=1) # include random_state=19 ?\n",
    "elif (universe[\"model\"] == \"penalized_logreg\"):\n",
    "    model = LogisticRegression(penalty=\"l2\", C=1.0) #, solver=\"newton-cg\", max_iter=1)\n",
    "elif (universe[\"model\"] == \"rf\"):\n",
    "    model = RandomForestClassifier(n_estimators=100, n_jobs=-1)\n",
    "elif (universe[\"model\"] == \"gbm\"):\n",
    "    model = GradientBoostingClassifier()\n",
    "elif (universe[\"model\"] == \"elasticnet\"):\n",
    "    model = LogisticRegression(penalty = 'elasticnet', solver = 'saga', l1_ratio = 0.5, max_iter=5000) # which solver to use?\n",
    "else:\n",
    "    raise \"Unsupported universe.model\""
   ]
  },
  {
   "cell_type": "code",
   "execution_count": 35,
   "id": "0cc8f744",
   "metadata": {
    "execution": {
     "iopub.execute_input": "2025-07-28T10:50:30.010606Z",
     "iopub.status.busy": "2025-07-28T10:50:30.010064Z",
     "iopub.status.idle": "2025-07-28T10:50:30.017957Z",
     "shell.execute_reply": "2025-07-28T10:50:30.016914Z"
    },
    "papermill": {
     "duration": 0.035746,
     "end_time": "2025-07-28T10:50:30.019718",
     "exception": false,
     "start_time": "2025-07-28T10:50:29.983972",
     "status": "completed"
    },
    "tags": []
   },
   "outputs": [],
   "source": [
    "import numpy as np\n",
    "from sklearn.pipeline import Pipeline\n",
    "from sklearn.preprocessing import StandardScaler\n",
    "\n",
    "model = Pipeline([\n",
    "    #(\"continuous_processor\", continuous_processor),\n",
    "    #(\"categorical_preprocessor\", categorical_preprocessor),\n",
    "    (\"scale\", StandardScaler() if universe[\"scale\"] == \"scale\" else None), \n",
    "    (\"model\", model),\n",
    "])"
   ]
  },
  {
   "cell_type": "code",
   "execution_count": 36,
   "id": "9442c04d",
   "metadata": {
    "execution": {
     "iopub.execute_input": "2025-07-28T10:50:30.066151Z",
     "iopub.status.busy": "2025-07-28T10:50:30.065502Z",
     "iopub.status.idle": "2025-07-28T10:50:30.470475Z",
     "shell.execute_reply": "2025-07-28T10:50:30.469553Z"
    },
    "papermill": {
     "duration": 0.430343,
     "end_time": "2025-07-28T10:50:30.472436",
     "exception": false,
     "start_time": "2025-07-28T10:50:30.042093",
     "status": "completed"
    },
    "tags": []
   },
   "outputs": [
    {
     "data": {
      "text/html": [
       "<style>#sk-container-id-1 {color: black;background-color: white;}#sk-container-id-1 pre{padding: 0;}#sk-container-id-1 div.sk-toggleable {background-color: white;}#sk-container-id-1 label.sk-toggleable__label {cursor: pointer;display: block;width: 100%;margin-bottom: 0;padding: 0.3em;box-sizing: border-box;text-align: center;}#sk-container-id-1 label.sk-toggleable__label-arrow:before {content: \"▸\";float: left;margin-right: 0.25em;color: #696969;}#sk-container-id-1 label.sk-toggleable__label-arrow:hover:before {color: black;}#sk-container-id-1 div.sk-estimator:hover label.sk-toggleable__label-arrow:before {color: black;}#sk-container-id-1 div.sk-toggleable__content {max-height: 0;max-width: 0;overflow: hidden;text-align: left;background-color: #f0f8ff;}#sk-container-id-1 div.sk-toggleable__content pre {margin: 0.2em;color: black;border-radius: 0.25em;background-color: #f0f8ff;}#sk-container-id-1 input.sk-toggleable__control:checked~div.sk-toggleable__content {max-height: 200px;max-width: 100%;overflow: auto;}#sk-container-id-1 input.sk-toggleable__control:checked~label.sk-toggleable__label-arrow:before {content: \"▾\";}#sk-container-id-1 div.sk-estimator input.sk-toggleable__control:checked~label.sk-toggleable__label {background-color: #d4ebff;}#sk-container-id-1 div.sk-label input.sk-toggleable__control:checked~label.sk-toggleable__label {background-color: #d4ebff;}#sk-container-id-1 input.sk-hidden--visually {border: 0;clip: rect(1px 1px 1px 1px);clip: rect(1px, 1px, 1px, 1px);height: 1px;margin: -1px;overflow: hidden;padding: 0;position: absolute;width: 1px;}#sk-container-id-1 div.sk-estimator {font-family: monospace;background-color: #f0f8ff;border: 1px dotted black;border-radius: 0.25em;box-sizing: border-box;margin-bottom: 0.5em;}#sk-container-id-1 div.sk-estimator:hover {background-color: #d4ebff;}#sk-container-id-1 div.sk-parallel-item::after {content: \"\";width: 100%;border-bottom: 1px solid gray;flex-grow: 1;}#sk-container-id-1 div.sk-label:hover label.sk-toggleable__label {background-color: #d4ebff;}#sk-container-id-1 div.sk-serial::before {content: \"\";position: absolute;border-left: 1px solid gray;box-sizing: border-box;top: 0;bottom: 0;left: 50%;z-index: 0;}#sk-container-id-1 div.sk-serial {display: flex;flex-direction: column;align-items: center;background-color: white;padding-right: 0.2em;padding-left: 0.2em;position: relative;}#sk-container-id-1 div.sk-item {position: relative;z-index: 1;}#sk-container-id-1 div.sk-parallel {display: flex;align-items: stretch;justify-content: center;background-color: white;position: relative;}#sk-container-id-1 div.sk-item::before, #sk-container-id-1 div.sk-parallel-item::before {content: \"\";position: absolute;border-left: 1px solid gray;box-sizing: border-box;top: 0;bottom: 0;left: 50%;z-index: -1;}#sk-container-id-1 div.sk-parallel-item {display: flex;flex-direction: column;z-index: 1;position: relative;background-color: white;}#sk-container-id-1 div.sk-parallel-item:first-child::after {align-self: flex-end;width: 50%;}#sk-container-id-1 div.sk-parallel-item:last-child::after {align-self: flex-start;width: 50%;}#sk-container-id-1 div.sk-parallel-item:only-child::after {width: 0;}#sk-container-id-1 div.sk-dashed-wrapped {border: 1px dashed gray;margin: 0 0.4em 0.5em 0.4em;box-sizing: border-box;padding-bottom: 0.4em;background-color: white;}#sk-container-id-1 div.sk-label label {font-family: monospace;font-weight: bold;display: inline-block;line-height: 1.2em;}#sk-container-id-1 div.sk-label-container {text-align: center;}#sk-container-id-1 div.sk-container {/* jupyter's `normalize.less` sets `[hidden] { display: none; }` but bootstrap.min.css set `[hidden] { display: none !important; }` so we also need the `!important` here to be able to override the default hidden behavior on the sphinx rendered scikit-learn.org. See: https://github.com/scikit-learn/scikit-learn/issues/21755 */display: inline-block !important;position: relative;}#sk-container-id-1 div.sk-text-repr-fallback {display: none;}</style><div id=\"sk-container-id-1\" class=\"sk-top-container\"><div class=\"sk-text-repr-fallback\"><pre>Pipeline(steps=[(&#x27;scale&#x27;, None), (&#x27;model&#x27;, RandomForestClassifier(n_jobs=-1))])</pre><b>In a Jupyter environment, please rerun this cell to show the HTML representation or trust the notebook. <br />On GitHub, the HTML representation is unable to render, please try loading this page with nbviewer.org.</b></div><div class=\"sk-container\" hidden><div class=\"sk-item sk-dashed-wrapped\"><div class=\"sk-label-container\"><div class=\"sk-label sk-toggleable\"><input class=\"sk-toggleable__control sk-hidden--visually\" id=\"sk-estimator-id-1\" type=\"checkbox\" ><label for=\"sk-estimator-id-1\" class=\"sk-toggleable__label sk-toggleable__label-arrow\">Pipeline</label><div class=\"sk-toggleable__content\"><pre>Pipeline(steps=[(&#x27;scale&#x27;, None), (&#x27;model&#x27;, RandomForestClassifier(n_jobs=-1))])</pre></div></div></div><div class=\"sk-serial\"><div class=\"sk-item\"><div class=\"sk-estimator sk-toggleable\"><input class=\"sk-toggleable__control sk-hidden--visually\" id=\"sk-estimator-id-2\" type=\"checkbox\" ><label for=\"sk-estimator-id-2\" class=\"sk-toggleable__label sk-toggleable__label-arrow\">None</label><div class=\"sk-toggleable__content\"><pre>None</pre></div></div></div><div class=\"sk-item\"><div class=\"sk-estimator sk-toggleable\"><input class=\"sk-toggleable__control sk-hidden--visually\" id=\"sk-estimator-id-3\" type=\"checkbox\" ><label for=\"sk-estimator-id-3\" class=\"sk-toggleable__label sk-toggleable__label-arrow\">RandomForestClassifier</label><div class=\"sk-toggleable__content\"><pre>RandomForestClassifier(n_jobs=-1)</pre></div></div></div></div></div></div></div>"
      ],
      "text/plain": [
       "Pipeline(steps=[('scale', None), ('model', RandomForestClassifier(n_jobs=-1))])"
      ]
     },
     "execution_count": 36,
     "metadata": {},
     "output_type": "execute_result"
    }
   ],
   "source": [
    "model.fit(X_train, y_train.values.ravel())"
   ]
  },
  {
   "cell_type": "code",
   "execution_count": 37,
   "id": "af59f8c0",
   "metadata": {
    "execution": {
     "iopub.execute_input": "2025-07-28T10:50:30.522036Z",
     "iopub.status.busy": "2025-07-28T10:50:30.521302Z",
     "iopub.status.idle": "2025-07-28T10:50:30.528047Z",
     "shell.execute_reply": "2025-07-28T10:50:30.527115Z"
    },
    "papermill": {
     "duration": 0.033528,
     "end_time": "2025-07-28T10:50:30.529931",
     "exception": false,
     "start_time": "2025-07-28T10:50:30.496403",
     "status": "completed"
    },
    "tags": []
   },
   "outputs": [],
   "source": [
    "from fairness_multiverse.universe import predict_w_threshold"
   ]
  },
  {
   "cell_type": "code",
   "execution_count": 38,
   "id": "a7cf2e16",
   "metadata": {
    "execution": {
     "iopub.execute_input": "2025-07-28T10:50:30.579565Z",
     "iopub.status.busy": "2025-07-28T10:50:30.578718Z",
     "iopub.status.idle": "2025-07-28T10:50:31.458012Z",
     "shell.execute_reply": "2025-07-28T10:50:31.456855Z"
    },
    "papermill": {
     "duration": 0.906049,
     "end_time": "2025-07-28T10:50:31.459997",
     "exception": false,
     "start_time": "2025-07-28T10:50:30.553948",
     "status": "completed"
    },
    "tags": []
   },
   "outputs": [
    {
     "data": {
      "text/plain": [
       "0.8608293389811615"
      ]
     },
     "execution_count": 38,
     "metadata": {},
     "output_type": "execute_result"
    }
   ],
   "source": [
    "probs_test = model.predict_proba(X_test)\n",
    "\n",
    "'''\n",
    "Below code returns a boolean array (or binary 0/1 array depending on how it’s used) where each element \n",
    "is True if the probability of class 1 is greater than or equal to the threshold, and False otherwise.\n",
    "'''\n",
    "y_pred_default = predict_w_threshold(probs_test, 0.5)\n",
    "\n",
    "from sklearn.metrics import accuracy_score\n",
    "\n",
    "# Naive prediction\n",
    "accuracy_score(y_true = y_true, y_pred = y_pred_default)"
   ]
  },
  {
   "cell_type": "code",
   "execution_count": 39,
   "id": "081964c3",
   "metadata": {
    "execution": {
     "iopub.execute_input": "2025-07-28T10:50:31.544583Z",
     "iopub.status.busy": "2025-07-28T10:50:31.544108Z",
     "iopub.status.idle": "2025-07-28T10:50:32.364722Z",
     "shell.execute_reply": "2025-07-28T10:50:32.363700Z"
    },
    "papermill": {
     "duration": 0.862467,
     "end_time": "2025-07-28T10:50:32.366639",
     "exception": false,
     "start_time": "2025-07-28T10:50:31.504172",
     "status": "completed"
    },
    "tags": []
   },
   "outputs": [
    {
     "data": {
      "text/plain": [
       "array([0, 0, 0, ..., 0, 0, 0])"
      ]
     },
     "execution_count": 39,
     "metadata": {},
     "output_type": "execute_result"
    }
   ],
   "source": [
    "model.predict(X_test)"
   ]
  },
  {
   "cell_type": "markdown",
   "id": "56c9705b",
   "metadata": {
    "papermill": {
     "duration": 0.035724,
     "end_time": "2025-07-28T10:50:32.424976",
     "exception": false,
     "start_time": "2025-07-28T10:50:32.389252",
     "status": "completed"
    },
    "tags": []
   },
   "source": [
    "# Conformal Prediction"
   ]
  },
  {
   "cell_type": "code",
   "execution_count": 40,
   "id": "160ec6ff",
   "metadata": {
    "execution": {
     "iopub.execute_input": "2025-07-28T10:50:32.497116Z",
     "iopub.status.busy": "2025-07-28T10:50:32.496702Z",
     "iopub.status.idle": "2025-07-28T10:50:32.502553Z",
     "shell.execute_reply": "2025-07-28T10:50:32.501520Z"
    },
    "papermill": {
     "duration": 0.042526,
     "end_time": "2025-07-28T10:50:32.506428",
     "exception": false,
     "start_time": "2025-07-28T10:50:32.463902",
     "status": "completed"
    },
    "tags": []
   },
   "outputs": [],
   "source": [
    "# Miscoverage level for conformal prediction (10% allowed error rate => 90% target coverage)\n",
    "alpha = 0.1"
   ]
  },
  {
   "cell_type": "code",
   "execution_count": 41,
   "id": "eadf4555-3dd3-440e-8e35-f82a4ad9f855",
   "metadata": {
    "execution": {
     "iopub.execute_input": "2025-07-28T10:50:32.562084Z",
     "iopub.status.busy": "2025-07-28T10:50:32.561659Z",
     "iopub.status.idle": "2025-07-28T10:50:33.446476Z",
     "shell.execute_reply": "2025-07-28T10:50:33.445493Z"
    },
    "papermill": {
     "duration": 0.912489,
     "end_time": "2025-07-28T10:50:33.448315",
     "exception": false,
     "start_time": "2025-07-28T10:50:32.535826",
     "status": "completed"
    },
    "tags": []
   },
   "outputs": [],
   "source": [
    "probs_calib = model.predict_proba(X_calib)"
   ]
  },
  {
   "cell_type": "code",
   "execution_count": 42,
   "id": "2ed93547-6d5d-4983-9b36-1ecb300da49a",
   "metadata": {
    "execution": {
     "iopub.execute_input": "2025-07-28T10:50:33.526516Z",
     "iopub.status.busy": "2025-07-28T10:50:33.526055Z",
     "iopub.status.idle": "2025-07-28T10:50:33.532173Z",
     "shell.execute_reply": "2025-07-28T10:50:33.531222Z"
    },
    "papermill": {
     "duration": 0.033093,
     "end_time": "2025-07-28T10:50:33.533718",
     "exception": false,
     "start_time": "2025-07-28T10:50:33.500625",
     "status": "completed"
    },
    "tags": []
   },
   "outputs": [],
   "source": [
    "y_calib = y_calib.values.ravel().astype(int)"
   ]
  },
  {
   "cell_type": "code",
   "execution_count": 43,
   "id": "65d1320d-f588-4b38-9072-62af1ae97f7d",
   "metadata": {
    "execution": {
     "iopub.execute_input": "2025-07-28T10:50:33.581250Z",
     "iopub.status.busy": "2025-07-28T10:50:33.580821Z",
     "iopub.status.idle": "2025-07-28T10:50:33.588709Z",
     "shell.execute_reply": "2025-07-28T10:50:33.587702Z"
    },
    "papermill": {
     "duration": 0.034644,
     "end_time": "2025-07-28T10:50:33.591631",
     "exception": false,
     "start_time": "2025-07-28T10:50:33.556987",
     "status": "completed"
    },
    "tags": []
   },
   "outputs": [],
   "source": [
    "from fairness_multiverse.conformal import compute_nc_scores\n",
    "\n",
    "# Compute nonconformity scores on calibration set (1 - probability of true class)\n",
    "nc_scores = compute_nc_scores(probs_calib, y_calib)"
   ]
  },
  {
   "cell_type": "code",
   "execution_count": 44,
   "id": "df3b8ca3-53b7-43d5-9667-7c85da7aeda2",
   "metadata": {
    "execution": {
     "iopub.execute_input": "2025-07-28T10:50:33.640206Z",
     "iopub.status.busy": "2025-07-28T10:50:33.639721Z",
     "iopub.status.idle": "2025-07-28T10:50:33.646523Z",
     "shell.execute_reply": "2025-07-28T10:50:33.645638Z"
    },
    "papermill": {
     "duration": 0.034157,
     "end_time": "2025-07-28T10:50:33.649617",
     "exception": false,
     "start_time": "2025-07-28T10:50:33.615460",
     "status": "completed"
    },
    "tags": []
   },
   "outputs": [],
   "source": [
    "from fairness_multiverse.conformal import find_threshold\n",
    "\n",
    "# Find conformal threshold q_hat for the given alpha (split conformal method)\n",
    "q_hat = find_threshold(nc_scores, alpha)"
   ]
  },
  {
   "cell_type": "code",
   "execution_count": 45,
   "id": "4d29e6c1-0ef6-4aa4-b8fe-4fe79b0d033a",
   "metadata": {
    "execution": {
     "iopub.execute_input": "2025-07-28T10:50:33.700325Z",
     "iopub.status.busy": "2025-07-28T10:50:33.699230Z",
     "iopub.status.idle": "2025-07-28T10:50:33.707794Z",
     "shell.execute_reply": "2025-07-28T10:50:33.706954Z"
    },
    "papermill": {
     "duration": 0.043226,
     "end_time": "2025-07-28T10:50:33.716598",
     "exception": false,
     "start_time": "2025-07-28T10:50:33.673372",
     "status": "completed"
    },
    "tags": []
   },
   "outputs": [
    {
     "data": {
      "text/plain": [
       "0.6599999999999999"
      ]
     },
     "execution_count": 45,
     "metadata": {},
     "output_type": "execute_result"
    }
   ],
   "source": [
    "q_hat"
   ]
  },
  {
   "cell_type": "code",
   "execution_count": 46,
   "id": "92460794-cdac-4be2-ba28-f28c0515a6fb",
   "metadata": {
    "execution": {
     "iopub.execute_input": "2025-07-28T10:50:33.789870Z",
     "iopub.status.busy": "2025-07-28T10:50:33.789382Z",
     "iopub.status.idle": "2025-07-28T10:50:35.377106Z",
     "shell.execute_reply": "2025-07-28T10:50:35.375952Z"
    },
    "papermill": {
     "duration": 1.628343,
     "end_time": "2025-07-28T10:50:35.379300",
     "exception": false,
     "start_time": "2025-07-28T10:50:33.750957",
     "status": "completed"
    },
    "tags": []
   },
   "outputs": [],
   "source": [
    "from fairness_multiverse.conformal import predict_conformal_sets\n",
    "\n",
    "# Generate prediction sets for each test example\n",
    "pred_sets = predict_conformal_sets(model, X_test, q_hat)"
   ]
  },
  {
   "cell_type": "code",
   "execution_count": 47,
   "id": "d90c9a65-e6db-4f5d-80cd-e68fb7e46829",
   "metadata": {
    "execution": {
     "iopub.execute_input": "2025-07-28T10:50:35.435811Z",
     "iopub.status.busy": "2025-07-28T10:50:35.435045Z",
     "iopub.status.idle": "2025-07-28T10:50:35.441081Z",
     "shell.execute_reply": "2025-07-28T10:50:35.440067Z"
    },
    "papermill": {
     "duration": 0.0367,
     "end_time": "2025-07-28T10:50:35.442980",
     "exception": false,
     "start_time": "2025-07-28T10:50:35.406280",
     "status": "completed"
    },
    "tags": []
   },
   "outputs": [],
   "source": [
    "y_true = y_true.squeeze()"
   ]
  },
  {
   "cell_type": "code",
   "execution_count": 48,
   "id": "3a58a54a-1e68-46b9-927a-df01f18aebc8",
   "metadata": {
    "execution": {
     "iopub.execute_input": "2025-07-28T10:50:35.495257Z",
     "iopub.status.busy": "2025-07-28T10:50:35.494764Z",
     "iopub.status.idle": "2025-07-28T10:50:36.469820Z",
     "shell.execute_reply": "2025-07-28T10:50:36.468806Z"
    },
    "papermill": {
     "duration": 1.001994,
     "end_time": "2025-07-28T10:50:36.471890",
     "exception": false,
     "start_time": "2025-07-28T10:50:35.469896",
     "status": "completed"
    },
    "tags": []
   },
   "outputs": [],
   "source": [
    "from fairness_multiverse.conformal import evaluate_sets\n",
    "\n",
    "# Evaluate coverage and average set size on test data\n",
    "metrics = evaluate_sets(pred_sets, y_true)"
   ]
  },
  {
   "cell_type": "markdown",
   "id": "2b569c12-9aaa-4c88-98c9-bbcd0cf3ebb8",
   "metadata": {
    "papermill": {
     "duration": 0.022623,
     "end_time": "2025-07-28T10:50:36.518615",
     "exception": false,
     "start_time": "2025-07-28T10:50:36.495992",
     "status": "completed"
    },
    "tags": []
   },
   "source": [
    "# CP Metrics"
   ]
  },
  {
   "cell_type": "code",
   "execution_count": 49,
   "id": "5ce0a5cb-201f-45a0-ade5-94c7f0bd6095",
   "metadata": {
    "execution": {
     "iopub.execute_input": "2025-07-28T10:50:36.565924Z",
     "iopub.status.busy": "2025-07-28T10:50:36.565364Z",
     "iopub.status.idle": "2025-07-28T10:50:36.573736Z",
     "shell.execute_reply": "2025-07-28T10:50:36.572627Z"
    },
    "papermill": {
     "duration": 0.03422,
     "end_time": "2025-07-28T10:50:36.575425",
     "exception": false,
     "start_time": "2025-07-28T10:50:36.541205",
     "status": "completed"
    },
    "tags": []
   },
   "outputs": [
    {
     "data": {
      "text/plain": [
       "{'coverage': 0.9143685207892097, 'avg_size': 1.1565934678408205}"
      ]
     },
     "execution_count": 49,
     "metadata": {},
     "output_type": "execute_result"
    }
   ],
   "source": [
    "metrics"
   ]
  },
  {
   "cell_type": "code",
   "execution_count": 50,
   "id": "9b9a838d-31c9-430b-ae14-12baee460d17",
   "metadata": {
    "execution": {
     "iopub.execute_input": "2025-07-28T10:50:36.626271Z",
     "iopub.status.busy": "2025-07-28T10:50:36.625838Z",
     "iopub.status.idle": "2025-07-28T10:50:36.631557Z",
     "shell.execute_reply": "2025-07-28T10:50:36.630658Z"
    },
    "papermill": {
     "duration": 0.03242,
     "end_time": "2025-07-28T10:50:36.633144",
     "exception": false,
     "start_time": "2025-07-28T10:50:36.600724",
     "status": "completed"
    },
    "tags": []
   },
   "outputs": [],
   "source": [
    "example_universe = universe.copy()\n",
    "universe_training_size = example_universe.get(\"training_size\")\n",
    "universe_scale = example_universe.get(\"scale\")\n",
    "universe_model = example_universe.get(\"model\")\n",
    "universe_exclude_features = example_universe.get(\"exclude_features\")\n",
    "universe_exclude_subgroups = example_universe.get(\"exclude_subgroups\")"
   ]
  },
  {
   "cell_type": "code",
   "execution_count": 51,
   "id": "f4b6a8ac-9dc0-4245-8a91-5b3b5999c4f9",
   "metadata": {
    "execution": {
     "iopub.execute_input": "2025-07-28T10:50:36.662259Z",
     "iopub.status.busy": "2025-07-28T10:50:36.661691Z",
     "iopub.status.idle": "2025-07-28T10:50:36.667627Z",
     "shell.execute_reply": "2025-07-28T10:50:36.666585Z"
    },
    "papermill": {
     "duration": 0.023095,
     "end_time": "2025-07-28T10:50:36.669625",
     "exception": false,
     "start_time": "2025-07-28T10:50:36.646530",
     "status": "completed"
    },
    "tags": []
   },
   "outputs": [],
   "source": [
    "cp_metrics_dict = {\n",
    "    \"universe_id\": [universe_id],\n",
    "    \"universe_training_size\": [universe_training_size],\n",
    "    \"universe_scale\": [universe_scale],\n",
    "    \"universe_model\": [universe_model],\n",
    "    \"universe_exclude_features\": [universe_exclude_features],\n",
    "    \"universe_exclude_subgroups\": [universe_exclude_subgroups],\n",
    "    \"q_hat\": [q_hat],\n",
    "    \"coverage\": [metrics[\"coverage\"]],\n",
    "    \"avg_size\": [metrics[\"avg_size\"]],\n",
    "}"
   ]
  },
  {
   "cell_type": "code",
   "execution_count": 52,
   "id": "908acbb1-0371-4915-85ca-3fa520d2efe2",
   "metadata": {
    "execution": {
     "iopub.execute_input": "2025-07-28T10:50:36.700530Z",
     "iopub.status.busy": "2025-07-28T10:50:36.700073Z",
     "iopub.status.idle": "2025-07-28T10:50:36.707537Z",
     "shell.execute_reply": "2025-07-28T10:50:36.706658Z"
    },
    "papermill": {
     "duration": 0.02362,
     "end_time": "2025-07-28T10:50:36.708975",
     "exception": false,
     "start_time": "2025-07-28T10:50:36.685355",
     "status": "completed"
    },
    "tags": []
   },
   "outputs": [
    {
     "data": {
      "text/plain": [
       "{'universe_id': ['4b41b1d434ac0d019142b376a856fb54'],\n",
       " 'universe_training_size': ['1k'],\n",
       " 'universe_scale': ['do-not-scale'],\n",
       " 'universe_model': ['rf'],\n",
       " 'universe_exclude_features': ['age'],\n",
       " 'universe_exclude_subgroups': ['keep-all'],\n",
       " 'q_hat': [0.6599999999999999],\n",
       " 'coverage': [0.9143685207892097],\n",
       " 'avg_size': [1.1565934678408205]}"
      ]
     },
     "execution_count": 52,
     "metadata": {},
     "output_type": "execute_result"
    }
   ],
   "source": [
    "cp_metrics_dict"
   ]
  },
  {
   "cell_type": "code",
   "execution_count": 53,
   "id": "33007efc-14e9-4ec6-97ac-56a455c82265",
   "metadata": {
    "execution": {
     "iopub.execute_input": "2025-07-28T10:50:36.737573Z",
     "iopub.status.busy": "2025-07-28T10:50:36.737137Z",
     "iopub.status.idle": "2025-07-28T10:50:36.742763Z",
     "shell.execute_reply": "2025-07-28T10:50:36.741778Z"
    },
    "papermill": {
     "duration": 0.021512,
     "end_time": "2025-07-28T10:50:36.744456",
     "exception": false,
     "start_time": "2025-07-28T10:50:36.722944",
     "status": "completed"
    },
    "tags": []
   },
   "outputs": [],
   "source": [
    "cp_metrics_df = pd.DataFrame(cp_metrics_dict)"
   ]
  },
  {
   "cell_type": "code",
   "execution_count": 54,
   "id": "db12611b-57b2-4910-b9d0-355adfd6e7bf",
   "metadata": {
    "execution": {
     "iopub.execute_input": "2025-07-28T10:50:36.793660Z",
     "iopub.status.busy": "2025-07-28T10:50:36.792926Z",
     "iopub.status.idle": "2025-07-28T10:50:36.810562Z",
     "shell.execute_reply": "2025-07-28T10:50:36.809581Z"
    },
    "papermill": {
     "duration": 0.043496,
     "end_time": "2025-07-28T10:50:36.812541",
     "exception": false,
     "start_time": "2025-07-28T10:50:36.769045",
     "status": "completed"
    },
    "tags": []
   },
   "outputs": [
    {
     "data": {
      "text/html": [
       "<div>\n",
       "<style scoped>\n",
       "    .dataframe tbody tr th:only-of-type {\n",
       "        vertical-align: middle;\n",
       "    }\n",
       "\n",
       "    .dataframe tbody tr th {\n",
       "        vertical-align: top;\n",
       "    }\n",
       "\n",
       "    .dataframe thead th {\n",
       "        text-align: right;\n",
       "    }\n",
       "</style>\n",
       "<table border=\"1\" class=\"dataframe\">\n",
       "  <thead>\n",
       "    <tr style=\"text-align: right;\">\n",
       "      <th></th>\n",
       "      <th>universe_id</th>\n",
       "      <th>universe_training_size</th>\n",
       "      <th>universe_scale</th>\n",
       "      <th>universe_model</th>\n",
       "      <th>universe_exclude_features</th>\n",
       "      <th>universe_exclude_subgroups</th>\n",
       "      <th>q_hat</th>\n",
       "      <th>coverage</th>\n",
       "      <th>avg_size</th>\n",
       "    </tr>\n",
       "  </thead>\n",
       "  <tbody>\n",
       "    <tr>\n",
       "      <th>0</th>\n",
       "      <td>4b41b1d434ac0d019142b376a856fb54</td>\n",
       "      <td>1k</td>\n",
       "      <td>do-not-scale</td>\n",
       "      <td>rf</td>\n",
       "      <td>age</td>\n",
       "      <td>keep-all</td>\n",
       "      <td>0.66</td>\n",
       "      <td>0.914369</td>\n",
       "      <td>1.156593</td>\n",
       "    </tr>\n",
       "  </tbody>\n",
       "</table>\n",
       "</div>"
      ],
      "text/plain": [
       "                        universe_id universe_training_size universe_scale  \\\n",
       "0  4b41b1d434ac0d019142b376a856fb54                     1k   do-not-scale   \n",
       "\n",
       "  universe_model universe_exclude_features universe_exclude_subgroups  q_hat  \\\n",
       "0             rf                       age                   keep-all   0.66   \n",
       "\n",
       "   coverage  avg_size  \n",
       "0  0.914369  1.156593  "
      ]
     },
     "execution_count": 54,
     "metadata": {},
     "output_type": "execute_result"
    }
   ],
   "source": [
    "cp_metrics_df"
   ]
  },
  {
   "cell_type": "code",
   "execution_count": 55,
   "id": "b7fbde55-a0a1-47e4-9af6-fe4a17fa8c61",
   "metadata": {
    "execution": {
     "iopub.execute_input": "2025-07-28T10:50:36.865493Z",
     "iopub.status.busy": "2025-07-28T10:50:36.865102Z",
     "iopub.status.idle": "2025-07-28T10:50:36.869946Z",
     "shell.execute_reply": "2025-07-28T10:50:36.869030Z"
    },
    "papermill": {
     "duration": 0.032669,
     "end_time": "2025-07-28T10:50:36.873355",
     "exception": false,
     "start_time": "2025-07-28T10:50:36.840686",
     "status": "completed"
    },
    "tags": []
   },
   "outputs": [],
   "source": [
    "# Conditional Coverage & looking at subgroups"
   ]
  },
  {
   "cell_type": "code",
   "execution_count": 56,
   "id": "027ae886-68dd-4141-96c7-805a5450e1ef",
   "metadata": {
    "execution": {
     "iopub.execute_input": "2025-07-28T10:50:36.905936Z",
     "iopub.status.busy": "2025-07-28T10:50:36.905504Z",
     "iopub.status.idle": "2025-07-28T10:50:37.105791Z",
     "shell.execute_reply": "2025-07-28T10:50:37.104788Z"
    },
    "papermill": {
     "duration": 0.216539,
     "end_time": "2025-07-28T10:50:37.107377",
     "exception": false,
     "start_time": "2025-07-28T10:50:36.890838",
     "status": "completed"
    },
    "tags": []
   },
   "outputs": [],
   "source": [
    "from fairness_multiverse.conformal import build_cp_groups\n",
    "\n",
    "cp_groups_df = build_cp_groups(pred_sets, y_true, X_test.index, org_test)\n",
    "#needs universe_id and setting"
   ]
  },
  {
   "cell_type": "code",
   "execution_count": 57,
   "id": "01d5802c-663a-4d1f-9d69-e036faaffbf7",
   "metadata": {
    "execution": {
     "iopub.execute_input": "2025-07-28T10:50:37.161808Z",
     "iopub.status.busy": "2025-07-28T10:50:37.161290Z",
     "iopub.status.idle": "2025-07-28T10:50:37.166825Z",
     "shell.execute_reply": "2025-07-28T10:50:37.165832Z"
    },
    "papermill": {
     "duration": 0.035891,
     "end_time": "2025-07-28T10:50:37.168588",
     "exception": false,
     "start_time": "2025-07-28T10:50:37.132697",
     "status": "completed"
    },
    "tags": []
   },
   "outputs": [],
   "source": [
    "#delete\n",
    "#cp_groups_df"
   ]
  },
  {
   "cell_type": "code",
   "execution_count": 58,
   "id": "fa424af1-d1eb-443d-b717-2d279ada8408",
   "metadata": {
    "execution": {
     "iopub.execute_input": "2025-07-28T10:50:37.222732Z",
     "iopub.status.busy": "2025-07-28T10:50:37.222122Z",
     "iopub.status.idle": "2025-07-28T10:50:37.227638Z",
     "shell.execute_reply": "2025-07-28T10:50:37.226581Z"
    },
    "papermill": {
     "duration": 0.033461,
     "end_time": "2025-07-28T10:50:37.229650",
     "exception": false,
     "start_time": "2025-07-28T10:50:37.196189",
     "status": "completed"
    },
    "tags": []
   },
   "outputs": [],
   "source": [
    "#delete\n",
    "#percentage = (cp_groups_df['nongerman_female'] == 1).mean() * 100\n",
    "#print(percentage)\n"
   ]
  },
  {
   "cell_type": "code",
   "execution_count": 59,
   "id": "6cbdab96-b2b2-45af-ad54-d0516db2e28d",
   "metadata": {
    "execution": {
     "iopub.execute_input": "2025-07-28T10:50:37.283334Z",
     "iopub.status.busy": "2025-07-28T10:50:37.282776Z",
     "iopub.status.idle": "2025-07-28T10:50:38.921734Z",
     "shell.execute_reply": "2025-07-28T10:50:38.920706Z"
    },
    "papermill": {
     "duration": 1.666766,
     "end_time": "2025-07-28T10:50:38.923831",
     "exception": false,
     "start_time": "2025-07-28T10:50:37.257065",
     "status": "completed"
    },
    "tags": []
   },
   "outputs": [],
   "source": [
    "# Define covered = 1 if true_label is in the predicted set\n",
    "cp_groups_df['covered'] = cp_groups_df.apply(\n",
    "    lambda r: int(r['true_label'] in r['pred_set']),\n",
    "    axis=1\n",
    ")"
   ]
  },
  {
   "cell_type": "code",
   "execution_count": 60,
   "id": "338ff529-1a6b-4b87-a931-8e4788d52aad",
   "metadata": {
    "execution": {
     "iopub.execute_input": "2025-07-28T10:50:38.981916Z",
     "iopub.status.busy": "2025-07-28T10:50:38.981232Z",
     "iopub.status.idle": "2025-07-28T10:50:38.986689Z",
     "shell.execute_reply": "2025-07-28T10:50:38.985738Z"
    },
    "papermill": {
     "duration": 0.036734,
     "end_time": "2025-07-28T10:50:38.988453",
     "exception": false,
     "start_time": "2025-07-28T10:50:38.951719",
     "status": "completed"
    },
    "tags": []
   },
   "outputs": [],
   "source": [
    "#cp_groups_df"
   ]
  },
  {
   "cell_type": "code",
   "execution_count": 61,
   "id": "90032e27-66df-4540-9169-4e89cfbaa758",
   "metadata": {
    "execution": {
     "iopub.execute_input": "2025-07-28T10:50:39.044634Z",
     "iopub.status.busy": "2025-07-28T10:50:39.043839Z",
     "iopub.status.idle": "2025-07-28T10:50:39.053629Z",
     "shell.execute_reply": "2025-07-28T10:50:39.052780Z"
    },
    "papermill": {
     "duration": 0.039439,
     "end_time": "2025-07-28T10:50:39.055076",
     "exception": false,
     "start_time": "2025-07-28T10:50:39.015637",
     "status": "completed"
    },
    "tags": []
   },
   "outputs": [],
   "source": [
    "subgroups = ['frau1','nongerman','nongerman_male','nongerman_female']\n",
    "\n",
    "# Conditional coverage for subgroup==1\n",
    "cond_coverage = {\n",
    "    g: cp_groups_df.loc[cp_groups_df[g]==1, 'covered'].mean()\n",
    "    for g in subgroups\n",
    "}"
   ]
  },
  {
   "cell_type": "code",
   "execution_count": 62,
   "id": "1e348fb1-b9c3-45bc-ba23-f016827a7e0d",
   "metadata": {
    "execution": {
     "iopub.execute_input": "2025-07-28T10:50:39.095216Z",
     "iopub.status.busy": "2025-07-28T10:50:39.094679Z",
     "iopub.status.idle": "2025-07-28T10:50:39.102225Z",
     "shell.execute_reply": "2025-07-28T10:50:39.101223Z"
    },
    "papermill": {
     "duration": 0.034897,
     "end_time": "2025-07-28T10:50:39.104188",
     "exception": false,
     "start_time": "2025-07-28T10:50:39.069291",
     "status": "completed"
    },
    "tags": []
   },
   "outputs": [
    {
     "data": {
      "text/plain": [
       "{'frau1': 0.9145437390483893,\n",
       " 'nongerman': 0.9100095435917588,\n",
       " 'nongerman_male': 0.924795100423309,\n",
       " 'nongerman_female': 0.8855439642324888}"
      ]
     },
     "execution_count": 62,
     "metadata": {},
     "output_type": "execute_result"
    }
   ],
   "source": [
    "cond_coverage"
   ]
  },
  {
   "cell_type": "code",
   "execution_count": 63,
   "id": "f5093324-c3dd-4d63-bc4c-8d945e5c8bbb",
   "metadata": {
    "execution": {
     "iopub.execute_input": "2025-07-28T10:50:39.160720Z",
     "iopub.status.busy": "2025-07-28T10:50:39.159918Z",
     "iopub.status.idle": "2025-07-28T10:50:39.168193Z",
     "shell.execute_reply": "2025-07-28T10:50:39.167124Z"
    },
    "papermill": {
     "duration": 0.038482,
     "end_time": "2025-07-28T10:50:39.169961",
     "exception": false,
     "start_time": "2025-07-28T10:50:39.131479",
     "status": "completed"
    },
    "tags": []
   },
   "outputs": [],
   "source": [
    "for subgroup, cov in cond_coverage.items():\n",
    "    cp_metrics_df[f\"cov_{subgroup}\"] = cov"
   ]
  },
  {
   "cell_type": "code",
   "execution_count": 64,
   "id": "6e872e10-dbe5-49e8-b554-5030c98ff75d",
   "metadata": {
    "execution": {
     "iopub.execute_input": "2025-07-28T10:50:39.225227Z",
     "iopub.status.busy": "2025-07-28T10:50:39.224258Z",
     "iopub.status.idle": "2025-07-28T10:50:39.244739Z",
     "shell.execute_reply": "2025-07-28T10:50:39.243654Z"
    },
    "papermill": {
     "duration": 0.049954,
     "end_time": "2025-07-28T10:50:39.246472",
     "exception": false,
     "start_time": "2025-07-28T10:50:39.196518",
     "status": "completed"
    },
    "tags": []
   },
   "outputs": [
    {
     "data": {
      "text/html": [
       "<div>\n",
       "<style scoped>\n",
       "    .dataframe tbody tr th:only-of-type {\n",
       "        vertical-align: middle;\n",
       "    }\n",
       "\n",
       "    .dataframe tbody tr th {\n",
       "        vertical-align: top;\n",
       "    }\n",
       "\n",
       "    .dataframe thead th {\n",
       "        text-align: right;\n",
       "    }\n",
       "</style>\n",
       "<table border=\"1\" class=\"dataframe\">\n",
       "  <thead>\n",
       "    <tr style=\"text-align: right;\">\n",
       "      <th></th>\n",
       "      <th>universe_id</th>\n",
       "      <th>universe_training_size</th>\n",
       "      <th>universe_scale</th>\n",
       "      <th>universe_model</th>\n",
       "      <th>universe_exclude_features</th>\n",
       "      <th>universe_exclude_subgroups</th>\n",
       "      <th>q_hat</th>\n",
       "      <th>coverage</th>\n",
       "      <th>avg_size</th>\n",
       "      <th>cov_frau1</th>\n",
       "      <th>cov_nongerman</th>\n",
       "      <th>cov_nongerman_male</th>\n",
       "      <th>cov_nongerman_female</th>\n",
       "    </tr>\n",
       "  </thead>\n",
       "  <tbody>\n",
       "    <tr>\n",
       "      <th>0</th>\n",
       "      <td>4b41b1d434ac0d019142b376a856fb54</td>\n",
       "      <td>1k</td>\n",
       "      <td>do-not-scale</td>\n",
       "      <td>rf</td>\n",
       "      <td>age</td>\n",
       "      <td>keep-all</td>\n",
       "      <td>0.66</td>\n",
       "      <td>0.914369</td>\n",
       "      <td>1.156593</td>\n",
       "      <td>0.914544</td>\n",
       "      <td>0.91001</td>\n",
       "      <td>0.924795</td>\n",
       "      <td>0.885544</td>\n",
       "    </tr>\n",
       "  </tbody>\n",
       "</table>\n",
       "</div>"
      ],
      "text/plain": [
       "                        universe_id universe_training_size universe_scale  \\\n",
       "0  4b41b1d434ac0d019142b376a856fb54                     1k   do-not-scale   \n",
       "\n",
       "  universe_model universe_exclude_features universe_exclude_subgroups  q_hat  \\\n",
       "0             rf                       age                   keep-all   0.66   \n",
       "\n",
       "   coverage  avg_size  cov_frau1  cov_nongerman  cov_nongerman_male  \\\n",
       "0  0.914369  1.156593   0.914544        0.91001            0.924795   \n",
       "\n",
       "   cov_nongerman_female  \n",
       "0              0.885544  "
      ]
     },
     "execution_count": 64,
     "metadata": {},
     "output_type": "execute_result"
    }
   ],
   "source": [
    "cp_metrics_df"
   ]
  },
  {
   "cell_type": "markdown",
   "id": "33774451",
   "metadata": {
    "papermill": {
     "duration": 0.01356,
     "end_time": "2025-07-28T10:50:39.285413",
     "exception": false,
     "start_time": "2025-07-28T10:50:39.271853",
     "status": "completed"
    },
    "tags": []
   },
   "source": [
    "# (Fairness) Metrics"
   ]
  },
  {
   "cell_type": "code",
   "execution_count": 65,
   "id": "debc5d62",
   "metadata": {
    "execution": {
     "iopub.execute_input": "2025-07-28T10:50:39.316017Z",
     "iopub.status.busy": "2025-07-28T10:50:39.315520Z",
     "iopub.status.idle": "2025-07-28T10:50:39.337244Z",
     "shell.execute_reply": "2025-07-28T10:50:39.336254Z"
    },
    "papermill": {
     "duration": 0.039027,
     "end_time": "2025-07-28T10:50:39.338961",
     "exception": false,
     "start_time": "2025-07-28T10:50:39.299934",
     "status": "completed"
    },
    "tags": []
   },
   "outputs": [],
   "source": [
    "# do I need to include maxdeutsch1.missing?\n",
    "\n",
    "import numpy as np\n",
    "\n",
    "colname_to_bin = \"maxdeutsch1\"\n",
    "majority_value = org_train[colname_to_bin].mode()[0]\n",
    "\n",
    "org_test[\"majmin\"] = np.where(org_test[colname_to_bin] == majority_value, \"majority\", \"minority\")"
   ]
  },
  {
   "cell_type": "code",
   "execution_count": 66,
   "id": "06a50de5",
   "metadata": {
    "execution": {
     "iopub.execute_input": "2025-07-28T10:50:39.367813Z",
     "iopub.status.busy": "2025-07-28T10:50:39.367422Z",
     "iopub.status.idle": "2025-07-28T10:50:41.671428Z",
     "shell.execute_reply": "2025-07-28T10:50:41.670297Z"
    },
    "papermill": {
     "duration": 2.319998,
     "end_time": "2025-07-28T10:50:41.672943",
     "exception": false,
     "start_time": "2025-07-28T10:50:39.352945",
     "status": "completed"
    },
    "tags": []
   },
   "outputs": [],
   "source": [
    "example_universe = universe.copy()\n",
    "example_universe[\"cutoff\"] = example_universe[\"cutoff\"][0]\n",
    "example_universe[\"eval_fairness_grouping\"] = example_universe[\"eval_fairness_grouping\"][0]\n",
    "fairness_dict, metric_frame = universe_analysis.compute_metrics(\n",
    "    example_universe,\n",
    "    y_pred_prob=probs_test,\n",
    "    y_test=y_true,\n",
    "    org_test=org_test,\n",
    ")"
   ]
  },
  {
   "cell_type": "markdown",
   "id": "f95d4e02",
   "metadata": {
    "papermill": {
     "duration": 0.024186,
     "end_time": "2025-07-28T10:50:41.721612",
     "exception": false,
     "start_time": "2025-07-28T10:50:41.697426",
     "status": "completed"
    },
    "tags": []
   },
   "source": [
    "# Overall"
   ]
  },
  {
   "cell_type": "markdown",
   "id": "bdee4871",
   "metadata": {
    "papermill": {
     "duration": 0.026716,
     "end_time": "2025-07-28T10:50:41.776298",
     "exception": false,
     "start_time": "2025-07-28T10:50:41.749582",
     "status": "completed"
    },
    "tags": []
   },
   "source": [
    "Fairness\n",
    "Main fairness target: Equalized Odds. Seems to be a better fit than equal opportunity, since we're not only interested in Y = 1. Seems to be a better fit than demographic parity, since we also care about accuracy, not just equal distribution of preds.\n",
    "\n",
    "Pick column for computation of fairness metrics\n",
    "\n",
    "Performance\n",
    "Overall performance measures, most interesting in relation to the measures split by group below"
   ]
  },
  {
   "cell_type": "code",
   "execution_count": 67,
   "id": "c4e067c6",
   "metadata": {
    "execution": {
     "iopub.execute_input": "2025-07-28T10:50:41.829781Z",
     "iopub.status.busy": "2025-07-28T10:50:41.829321Z",
     "iopub.status.idle": "2025-07-28T10:50:41.839021Z",
     "shell.execute_reply": "2025-07-28T10:50:41.837870Z"
    },
    "papermill": {
     "duration": 0.039798,
     "end_time": "2025-07-28T10:50:41.840860",
     "exception": false,
     "start_time": "2025-07-28T10:50:41.801062",
     "status": "completed"
    },
    "tags": []
   },
   "outputs": [
    {
     "data": {
      "text/plain": [
       "accuracy                   0.199922\n",
       "balanced accuracy          0.528790\n",
       "f1                         0.237466\n",
       "precision                  0.135272\n",
       "false positive rate        0.913570\n",
       "false negative rate        0.028849\n",
       "selection rate             0.920956\n",
       "count                  89710.000000\n",
       "dtype: float64"
      ]
     },
     "execution_count": 67,
     "metadata": {},
     "output_type": "execute_result"
    }
   ],
   "source": [
    "metric_frame.overall"
   ]
  },
  {
   "cell_type": "markdown",
   "id": "e968fe9d",
   "metadata": {
    "papermill": {
     "duration": 0.025923,
     "end_time": "2025-07-28T10:50:41.886785",
     "exception": false,
     "start_time": "2025-07-28T10:50:41.860862",
     "status": "completed"
    },
    "tags": []
   },
   "source": [
    "By Group"
   ]
  },
  {
   "cell_type": "code",
   "execution_count": 68,
   "id": "ec325bce",
   "metadata": {
    "execution": {
     "iopub.execute_input": "2025-07-28T10:50:41.952082Z",
     "iopub.status.busy": "2025-07-28T10:50:41.951568Z",
     "iopub.status.idle": "2025-07-28T10:50:41.972143Z",
     "shell.execute_reply": "2025-07-28T10:50:41.971012Z"
    },
    "papermill": {
     "duration": 0.060786,
     "end_time": "2025-07-28T10:50:41.974137",
     "exception": false,
     "start_time": "2025-07-28T10:50:41.913351",
     "status": "completed"
    },
    "tags": []
   },
   "outputs": [
    {
     "data": {
      "text/html": [
       "<div>\n",
       "<style scoped>\n",
       "    .dataframe tbody tr th:only-of-type {\n",
       "        vertical-align: middle;\n",
       "    }\n",
       "\n",
       "    .dataframe tbody tr th {\n",
       "        vertical-align: top;\n",
       "    }\n",
       "\n",
       "    .dataframe thead th {\n",
       "        text-align: right;\n",
       "    }\n",
       "</style>\n",
       "<table border=\"1\" class=\"dataframe\">\n",
       "  <thead>\n",
       "    <tr style=\"text-align: right;\">\n",
       "      <th></th>\n",
       "      <th>accuracy</th>\n",
       "      <th>balanced accuracy</th>\n",
       "      <th>f1</th>\n",
       "      <th>precision</th>\n",
       "      <th>false positive rate</th>\n",
       "      <th>false negative rate</th>\n",
       "      <th>selection rate</th>\n",
       "      <th>count</th>\n",
       "    </tr>\n",
       "    <tr>\n",
       "      <th>majmin</th>\n",
       "      <th></th>\n",
       "      <th></th>\n",
       "      <th></th>\n",
       "      <th></th>\n",
       "      <th></th>\n",
       "      <th></th>\n",
       "      <th></th>\n",
       "      <th></th>\n",
       "    </tr>\n",
       "  </thead>\n",
       "  <tbody>\n",
       "    <tr>\n",
       "      <th>majority</th>\n",
       "      <td>0.192338</td>\n",
       "      <td>0.530184</td>\n",
       "      <td>0.244564</td>\n",
       "      <td>0.139527</td>\n",
       "      <td>0.929019</td>\n",
       "      <td>0.010613</td>\n",
       "      <td>0.936996</td>\n",
       "      <td>69170.0</td>\n",
       "    </tr>\n",
       "    <tr>\n",
       "      <th>minority</th>\n",
       "      <td>0.225463</td>\n",
       "      <td>0.519112</td>\n",
       "      <td>0.211450</td>\n",
       "      <td>0.119784</td>\n",
       "      <td>0.862536</td>\n",
       "      <td>0.099240</td>\n",
       "      <td>0.866943</td>\n",
       "      <td>20540.0</td>\n",
       "    </tr>\n",
       "  </tbody>\n",
       "</table>\n",
       "</div>"
      ],
      "text/plain": [
       "          accuracy  balanced accuracy        f1  precision  \\\n",
       "majmin                                                       \n",
       "majority  0.192338           0.530184  0.244564   0.139527   \n",
       "minority  0.225463           0.519112  0.211450   0.119784   \n",
       "\n",
       "          false positive rate  false negative rate  selection rate    count  \n",
       "majmin                                                                       \n",
       "majority             0.929019             0.010613        0.936996  69170.0  \n",
       "minority             0.862536             0.099240        0.866943  20540.0  "
      ]
     },
     "execution_count": 68,
     "metadata": {},
     "output_type": "execute_result"
    }
   ],
   "source": [
    "metric_frame.by_group"
   ]
  },
  {
   "cell_type": "code",
   "execution_count": 69,
   "id": "a9ddbe63",
   "metadata": {
    "execution": {
     "iopub.execute_input": "2025-07-28T10:50:42.031825Z",
     "iopub.status.busy": "2025-07-28T10:50:42.030864Z",
     "iopub.status.idle": "2025-07-28T10:50:44.547385Z",
     "shell.execute_reply": "2025-07-28T10:50:44.545372Z"
    },
    "papermill": {
     "duration": 2.546085,
     "end_time": "2025-07-28T10:50:44.549387",
     "exception": false,
     "start_time": "2025-07-28T10:50:42.003302",
     "status": "completed"
    },
    "tags": []
   },
   "outputs": [
    {
     "data": {
      "text/plain": [
       "array([[<Axes: title={'center': 'accuracy'}, xlabel='majmin'>,\n",
       "        <Axes: title={'center': 'balanced accuracy'}, xlabel='majmin'>,\n",
       "        <Axes: title={'center': 'f1'}, xlabel='majmin'>],\n",
       "       [<Axes: title={'center': 'precision'}, xlabel='majmin'>,\n",
       "        <Axes: title={'center': 'false positive rate'}, xlabel='majmin'>,\n",
       "        <Axes: title={'center': 'false negative rate'}, xlabel='majmin'>],\n",
       "       [<Axes: title={'center': 'selection rate'}, xlabel='majmin'>,\n",
       "        <Axes: title={'center': 'count'}, xlabel='majmin'>,\n",
       "        <Axes: xlabel='majmin'>]], dtype=object)"
      ]
     },
     "execution_count": 69,
     "metadata": {},
     "output_type": "execute_result"
    },
    {
     "data": {
      "image/png": "[encoded data removed]",
      "text/plain": [
       "<Figure size 1200x800 with 9 Axes>"
      ]
     },
     "metadata": {},
     "output_type": "display_data"
    }
   ],
   "source": [
    "# In a graphic\n",
    "metric_frame.by_group.plot.bar(\n",
    "    subplots=True,\n",
    "    layout=[3, 3],\n",
    "    legend=False,\n",
    "    figsize=[12, 8],\n",
    "    title=\"Show all metrics\",\n",
    ")"
   ]
  },
  {
   "cell_type": "markdown",
   "id": "f57a0bac",
   "metadata": {
    "papermill": {
     "duration": 0.030188,
     "end_time": "2025-07-28T10:50:44.614346",
     "exception": false,
     "start_time": "2025-07-28T10:50:44.584158",
     "status": "completed"
    },
    "tags": []
   },
   "source": [
    "# Final Output"
   ]
  },
  {
   "cell_type": "code",
   "execution_count": 70,
   "id": "96d280a3",
   "metadata": {
    "execution": {
     "iopub.execute_input": "2025-07-28T10:50:44.679267Z",
     "iopub.status.busy": "2025-07-28T10:50:44.678599Z",
     "iopub.status.idle": "2025-07-28T10:50:44.687308Z",
     "shell.execute_reply": "2025-07-28T10:50:44.686281Z"
    },
    "papermill": {
     "duration": 0.044082,
     "end_time": "2025-07-28T10:50:44.689157",
     "exception": false,
     "start_time": "2025-07-28T10:50:44.645075",
     "status": "completed"
    },
    "tags": []
   },
   "outputs": [
    {
     "data": {
      "text/plain": [
       "4"
      ]
     },
     "execution_count": 70,
     "metadata": {},
     "output_type": "execute_result"
    }
   ],
   "source": [
    "sub_universes = universe_analysis.generate_sub_universes()\n",
    "len(sub_universes)"
   ]
  },
  {
   "cell_type": "code",
   "execution_count": 71,
   "id": "92adf7ba",
   "metadata": {
    "execution": {
     "iopub.execute_input": "2025-07-28T10:50:44.786967Z",
     "iopub.status.busy": "2025-07-28T10:50:44.786507Z",
     "iopub.status.idle": "2025-07-28T10:50:44.793501Z",
     "shell.execute_reply": "2025-07-28T10:50:44.792494Z"
    },
    "papermill": {
     "duration": 0.075607,
     "end_time": "2025-07-28T10:50:44.797035",
     "exception": false,
     "start_time": "2025-07-28T10:50:44.721428",
     "status": "completed"
    },
    "tags": []
   },
   "outputs": [],
   "source": [
    "def filter_sub_universe_data(sub_universe, org_test):\n",
    "    # Keep all rows — no filtering\n",
    "    keep_rows_mask = np.ones(org_test.shape[0], dtype=bool)\n",
    "\n",
    "    print(f\"[INFO] Keeping all rows: {keep_rows_mask.sum()} rows retained.\")\n",
    "    return keep_rows_mask"
   ]
  },
  {
   "cell_type": "code",
   "execution_count": 72,
   "id": "4a759155",
   "metadata": {
    "execution": {
     "iopub.execute_input": "2025-07-28T10:50:44.876141Z",
     "iopub.status.busy": "2025-07-28T10:50:44.875653Z",
     "iopub.status.idle": "2025-07-28T10:50:55.464036Z",
     "shell.execute_reply": "2025-07-28T10:50:55.462877Z"
    },
    "papermill": {
     "duration": 10.621679,
     "end_time": "2025-07-28T10:50:55.466533",
     "exception": false,
     "start_time": "2025-07-28T10:50:44.844854",
     "status": "completed"
    },
    "tags": []
   },
   "outputs": [
    {
     "name": "stdout",
     "output_type": "stream",
     "text": [
      "Stopping execution_time clock.\n",
      "[INFO] Keeping all rows: 89710 rows retained.\n"
     ]
    },
    {
     "name": "stdout",
     "output_type": "stream",
     "text": [
      "[INFO] Keeping all rows: 89710 rows retained.\n"
     ]
    },
    {
     "name": "stdout",
     "output_type": "stream",
     "text": [
      "[INFO] Keeping all rows: 89710 rows retained.\n"
     ]
    },
    {
     "name": "stdout",
     "output_type": "stream",
     "text": [
      "[INFO] Keeping all rows: 89710 rows retained.\n"
     ]
    },
    {
     "data": {
      "text/html": [
       "<div>\n",
       "<style scoped>\n",
       "    .dataframe tbody tr th:only-of-type {\n",
       "        vertical-align: middle;\n",
       "    }\n",
       "\n",
       "    .dataframe tbody tr th {\n",
       "        vertical-align: top;\n",
       "    }\n",
       "\n",
       "    .dataframe thead th {\n",
       "        text-align: right;\n",
       "    }\n",
       "</style>\n",
       "<table border=\"1\" class=\"dataframe\">\n",
       "  <thead>\n",
       "    <tr style=\"text-align: right;\">\n",
       "      <th></th>\n",
       "      <th>run_no</th>\n",
       "      <th>universe_id</th>\n",
       "      <th>universe_settings</th>\n",
       "      <th>execution_time</th>\n",
       "      <th>test_size_n</th>\n",
       "      <th>test_size_frac</th>\n",
       "      <th>fair_main_equalized_odds_difference</th>\n",
       "      <th>fair_main_equalized_odds_ratio</th>\n",
       "      <th>fair_main_demographic_parity_difference</th>\n",
       "      <th>fair_main_demographic_parity_ratio</th>\n",
       "      <th>...</th>\n",
       "      <th>perf_grp_precision_0</th>\n",
       "      <th>perf_grp_precision_1</th>\n",
       "      <th>perf_grp_false positive rate_0</th>\n",
       "      <th>perf_grp_false positive rate_1</th>\n",
       "      <th>perf_grp_false negative rate_0</th>\n",
       "      <th>perf_grp_false negative rate_1</th>\n",
       "      <th>perf_grp_selection rate_0</th>\n",
       "      <th>perf_grp_selection rate_1</th>\n",
       "      <th>perf_grp_count_0</th>\n",
       "      <th>perf_grp_count_1</th>\n",
       "    </tr>\n",
       "  </thead>\n",
       "  <tbody>\n",
       "    <tr>\n",
       "      <th>0</th>\n",
       "      <td>11</td>\n",
       "      <td>4b41b1d434ac0d019142b376a856fb54</td>\n",
       "      <td>{\"cutoff\": \"quantile_0.1\", \"eval_fairness_grou...</td>\n",
       "      <td>30.220947</td>\n",
       "      <td>89710</td>\n",
       "      <td>1.0</td>\n",
       "      <td>0.088627</td>\n",
       "      <td>0.910422</td>\n",
       "      <td>0.070053</td>\n",
       "      <td>0.925236</td>\n",
       "      <td>...</td>\n",
       "      <td>NaN</td>\n",
       "      <td>NaN</td>\n",
       "      <td>NaN</td>\n",
       "      <td>NaN</td>\n",
       "      <td>NaN</td>\n",
       "      <td>NaN</td>\n",
       "      <td>NaN</td>\n",
       "      <td>NaN</td>\n",
       "      <td>NaN</td>\n",
       "      <td>NaN</td>\n",
       "    </tr>\n",
       "    <tr>\n",
       "      <th>0</th>\n",
       "      <td>11</td>\n",
       "      <td>4b41b1d434ac0d019142b376a856fb54</td>\n",
       "      <td>{\"cutoff\": \"quantile_0.1\", \"eval_fairness_grou...</td>\n",
       "      <td>30.220947</td>\n",
       "      <td>89710</td>\n",
       "      <td>1.0</td>\n",
       "      <td>0.088627</td>\n",
       "      <td>0.910422</td>\n",
       "      <td>0.070053</td>\n",
       "      <td>0.925236</td>\n",
       "      <td>...</td>\n",
       "      <td>0.119784</td>\n",
       "      <td>0.139527</td>\n",
       "      <td>0.862536</td>\n",
       "      <td>0.929019</td>\n",
       "      <td>0.099240</td>\n",
       "      <td>0.010613</td>\n",
       "      <td>0.866943</td>\n",
       "      <td>0.936996</td>\n",
       "      <td>20540.0</td>\n",
       "      <td>69170.0</td>\n",
       "    </tr>\n",
       "    <tr>\n",
       "      <th>0</th>\n",
       "      <td>11</td>\n",
       "      <td>4b41b1d434ac0d019142b376a856fb54</td>\n",
       "      <td>{\"cutoff\": \"quantile_0.25\", \"eval_fairness_gro...</td>\n",
       "      <td>30.220947</td>\n",
       "      <td>89710</td>\n",
       "      <td>1.0</td>\n",
       "      <td>0.188128</td>\n",
       "      <td>0.802312</td>\n",
       "      <td>0.141737</td>\n",
       "      <td>0.824402</td>\n",
       "      <td>...</td>\n",
       "      <td>NaN</td>\n",
       "      <td>NaN</td>\n",
       "      <td>NaN</td>\n",
       "      <td>NaN</td>\n",
       "      <td>NaN</td>\n",
       "      <td>NaN</td>\n",
       "      <td>NaN</td>\n",
       "      <td>NaN</td>\n",
       "      <td>NaN</td>\n",
       "      <td>NaN</td>\n",
       "    </tr>\n",
       "    <tr>\n",
       "      <th>0</th>\n",
       "      <td>11</td>\n",
       "      <td>4b41b1d434ac0d019142b376a856fb54</td>\n",
       "      <td>{\"cutoff\": \"quantile_0.25\", \"eval_fairness_gro...</td>\n",
       "      <td>30.220947</td>\n",
       "      <td>89710</td>\n",
       "      <td>1.0</td>\n",
       "      <td>0.188128</td>\n",
       "      <td>0.802312</td>\n",
       "      <td>0.141737</td>\n",
       "      <td>0.824402</td>\n",
       "      <td>...</td>\n",
       "      <td>0.132280</td>\n",
       "      <td>0.155789</td>\n",
       "      <td>0.652652</td>\n",
       "      <td>0.785174</td>\n",
       "      <td>0.236486</td>\n",
       "      <td>0.048359</td>\n",
       "      <td>0.665433</td>\n",
       "      <td>0.807171</td>\n",
       "      <td>20540.0</td>\n",
       "      <td>69170.0</td>\n",
       "    </tr>\n",
       "  </tbody>\n",
       "</table>\n",
       "<p>4 rows × 50 columns</p>\n",
       "</div>"
      ],
      "text/plain": [
       "  run_no                       universe_id  \\\n",
       "0     11  4b41b1d434ac0d019142b376a856fb54   \n",
       "0     11  4b41b1d434ac0d019142b376a856fb54   \n",
       "0     11  4b41b1d434ac0d019142b376a856fb54   \n",
       "0     11  4b41b1d434ac0d019142b376a856fb54   \n",
       "\n",
       "                                   universe_settings  execution_time  \\\n",
       "0  {\"cutoff\": \"quantile_0.1\", \"eval_fairness_grou...       30.220947   \n",
       "0  {\"cutoff\": \"quantile_0.1\", \"eval_fairness_grou...       30.220947   \n",
       "0  {\"cutoff\": \"quantile_0.25\", \"eval_fairness_gro...       30.220947   \n",
       "0  {\"cutoff\": \"quantile_0.25\", \"eval_fairness_gro...       30.220947   \n",
       "\n",
       "   test_size_n  test_size_frac  fair_main_equalized_odds_difference  \\\n",
       "0        89710             1.0                             0.088627   \n",
       "0        89710             1.0                             0.088627   \n",
       "0        89710             1.0                             0.188128   \n",
       "0        89710             1.0                             0.188128   \n",
       "\n",
       "   fair_main_equalized_odds_ratio  fair_main_demographic_parity_difference  \\\n",
       "0                        0.910422                                 0.070053   \n",
       "0                        0.910422                                 0.070053   \n",
       "0                        0.802312                                 0.141737   \n",
       "0                        0.802312                                 0.141737   \n",
       "\n",
       "   fair_main_demographic_parity_ratio  ...  perf_grp_precision_0  \\\n",
       "0                            0.925236  ...                   NaN   \n",
       "0                            0.925236  ...              0.119784   \n",
       "0                            0.824402  ...                   NaN   \n",
       "0                            0.824402  ...              0.132280   \n",
       "\n",
       "   perf_grp_precision_1  perf_grp_false positive rate_0  \\\n",
       "0                   NaN                             NaN   \n",
       "0              0.139527                        0.862536   \n",
       "0                   NaN                             NaN   \n",
       "0              0.155789                        0.652652   \n",
       "\n",
       "   perf_grp_false positive rate_1  perf_grp_false negative rate_0  \\\n",
       "0                             NaN                             NaN   \n",
       "0                        0.929019                        0.099240   \n",
       "0                             NaN                             NaN   \n",
       "0                        0.785174                        0.236486   \n",
       "\n",
       "   perf_grp_false negative rate_1  perf_grp_selection rate_0  \\\n",
       "0                             NaN                        NaN   \n",
       "0                        0.010613                   0.866943   \n",
       "0                             NaN                        NaN   \n",
       "0                        0.048359                   0.665433   \n",
       "\n",
       "   perf_grp_selection rate_1  perf_grp_count_0  perf_grp_count_1  \n",
       "0                        NaN               NaN               NaN  \n",
       "0                   0.936996           20540.0           69170.0  \n",
       "0                        NaN               NaN               NaN  \n",
       "0                   0.807171           20540.0           69170.0  \n",
       "\n",
       "[4 rows x 50 columns]"
      ]
     },
     "execution_count": 72,
     "metadata": {},
     "output_type": "execute_result"
    }
   ],
   "source": [
    "final_output = universe_analysis.generate_final_output(\n",
    "    y_pred_prob=probs_test,\n",
    "    y_test=y_true,\n",
    "    org_test=org_test,\n",
    "    filter_data=filter_sub_universe_data,\n",
    "    cp_metrics_df=cp_metrics_df,\n",
    "    save=True,\n",
    ")\n",
    "final_output"
   ]
  },
  {
   "cell_type": "code",
   "execution_count": null,
   "id": "721ff514-cb11-46f8-b6fc-50392f74b5cb",
   "metadata": {
    "papermill": {
     "duration": 0.042409,
     "end_time": "2025-07-28T10:50:55.555591",
     "exception": false,
     "start_time": "2025-07-28T10:50:55.513182",
     "status": "completed"
    },
    "tags": []
   },
   "outputs": [],
   "source": []
  }
 ],
 "metadata": {
  "celltoolbar": "Tags",
  "kernelspec": {
   "display_name": "Python (CMA Fairness)",
   "language": "python",
   "name": "cma_fair_env"
  },
  "language_info": {
   "codemirror_mode": {
    "name": "ipython",
    "version": 3
   },
   "file_extension": ".py",
   "mimetype": "text/x-python",
   "name": "python",
   "nbconvert_exporter": "python",
   "pygments_lexer": "ipython3",
   "version": "3.10.12"
  },
  "papermill": {
   "default_parameters": {},
   "duration": 47.066427,
   "end_time": "2025-07-28T10:50:56.419558",
   "environment_variables": {},
   "exception": null,
   "input_path": "universe_analysis.ipynb",
   "output_path": "output/runs/11/notebooks/m_11-4b41b1d434ac0d019142b376a856fb54.ipynb",
   "parameters": {
    "output_dir": "output",
    "run_no": "11",
    "seed": "2023",
    "universe": "{\"cutoff\": [\"quantile_0.1\", \"quantile_0.25\"], \"eval_fairness_grouping\": [\"majority-minority\", \"nationality-all\"], \"exclude_features\": \"age\", \"exclude_subgroups\": \"keep-all\", \"model\": \"rf\", \"scale\": \"do-not-scale\", \"training_size\": \"1k\"}",
    "universe_id": "4b41b1d434ac0d019142b376a856fb54"
   },
   "start_time": "2025-07-28T10:50:09.353131",
   "version": "2.6.0"
  }
 },
 "nbformat": 4,
 "nbformat_minor": 5
}