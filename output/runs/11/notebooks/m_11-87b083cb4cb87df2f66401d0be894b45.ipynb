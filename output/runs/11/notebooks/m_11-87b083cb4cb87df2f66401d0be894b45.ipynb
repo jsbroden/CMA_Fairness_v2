{
 "cells": [
  {
   "cell_type": "code",
   "execution_count": 1,
   "id": "f159f837-637b-42ba-96b5-ec9a68c44524",
   "metadata": {
    "execution": {
     "iopub.execute_input": "2025-07-28T10:53:50.971847Z",
     "iopub.status.busy": "2025-07-28T10:53:50.971316Z",
     "iopub.status.idle": "2025-07-28T10:53:50.987293Z",
     "shell.execute_reply": "2025-07-28T10:53:50.986198Z"
    },
    "papermill": {
     "duration": 0.039273,
     "end_time": "2025-07-28T10:53:50.989531",
     "exception": false,
     "start_time": "2025-07-28T10:53:50.950258",
     "status": "completed"
    },
    "tags": []
   },
   "outputs": [
    {
     "name": "stdout",
     "output_type": "stream",
     "text": [
      "/dss/dsshome1/0C/ra93lal2/cma/CMA_Fairness_v2\n"
     ]
    },
    {
     "name": "stderr",
     "output_type": "stream",
     "text": [
      "/dss/dsshome1/0C/ra93lal2/.local/share/virtualenvs/CMA_Fairness_v2-3j10GkSs/lib/python3.10/site-packages/IPython/core/magics/osm.py:393: UserWarning: This is now an optional IPython functionality, using bookmarks requires you to install the `pickleshare` library.\n",
      "  bkms = self.shell.db.get('bookmarks', {})\n",
      "/dss/dsshome1/0C/ra93lal2/.local/share/virtualenvs/CMA_Fairness_v2-3j10GkSs/lib/python3.10/site-packages/IPython/core/magics/osm.py:417: UserWarning: This is now an optional IPython functionality, setting dhist requires you to install the `pickleshare` library.\n",
      "  self.shell.db['dhist'] = compress_dhist(dhist)[-100:]\n"
     ]
    }
   ],
   "source": [
    "%cd ~/cma/CMA_Fairness_v2"
   ]
  },
  {
   "cell_type": "markdown",
   "id": "de2603b9",
   "metadata": {
    "papermill": {
     "duration": 0.020536,
     "end_time": "2025-07-28T10:53:51.030784",
     "exception": false,
     "start_time": "2025-07-28T10:53:51.010248",
     "status": "completed"
    },
    "tags": []
   },
   "source": [
    "The following cell holds the definition of our parameters, these values can be overriden by rendering the with e.g. the following command:\n",
    "\n",
    "papermill -p alpha 0.2 -p ratio 0.3 universe_analysis.ipynb output/test_run.ipynb"
   ]
  },
  {
   "cell_type": "code",
   "execution_count": 2,
   "id": "a80968a0-40bb-4fa9-85ef-2d5eefb01975",
   "metadata": {
    "execution": {
     "iopub.execute_input": "2025-07-28T10:53:51.073425Z",
     "iopub.status.busy": "2025-07-28T10:53:51.072635Z",
     "iopub.status.idle": "2025-07-28T10:53:51.079543Z",
     "shell.execute_reply": "2025-07-28T10:53:51.078446Z"
    },
    "papermill": {
     "duration": 0.03093,
     "end_time": "2025-07-28T10:53:51.081556",
     "exception": false,
     "start_time": "2025-07-28T10:53:51.050626",
     "status": "completed"
    },
    "tags": []
   },
   "outputs": [
    {
     "name": "stdout",
     "output_type": "stream",
     "text": [
      "Current working directory: /dss/dsshome1/0C/ra93lal2/cma/CMA_Fairness_v2\n"
     ]
    }
   ],
   "source": [
    "import os\n",
    "print(\"Current working directory:\", os.getcwd())"
   ]
  },
  {
   "cell_type": "code",
   "execution_count": 3,
   "id": "2dce4c03",
   "metadata": {
    "execution": {
     "iopub.execute_input": "2025-07-28T10:53:51.124155Z",
     "iopub.status.busy": "2025-07-28T10:53:51.123170Z",
     "iopub.status.idle": "2025-07-28T10:53:51.130133Z",
     "shell.execute_reply": "2025-07-28T10:53:51.129164Z"
    },
    "papermill": {
     "duration": 0.03011,
     "end_time": "2025-07-28T10:53:51.132243",
     "exception": false,
     "start_time": "2025-07-28T10:53:51.102133",
     "status": "completed"
    },
    "tags": [
     "parameters"
    ]
   },
   "outputs": [],
   "source": [
    "run_no = 0\n",
    "universe_id = \"test\"\n",
    "universe = {\n",
    "    \"training_size\": \"2014\", # \"25k\", \"5k\", \"1k\", \"2014\"\n",
    "    \"scale\": \"scale\", # \"scale\", \"do-not-scale\",\n",
    "    #\"stratify_split\": \"target\", # \"none\", \"target\", \"protected-attribute\", \"both\",\n",
    "    \"model\": \"elasticnet\", # \"logreg\", \"penalized_logreg\", \"rf\", \"gbm\", \"elasticnet\"\n",
    "    \"cutoff\": [\"quantile_0.15\", \"quantile_0.30\"],\n",
    "    \"exclude_features\": \"age\", # \"none\", \"nationality\", \"sex\", \"nationality-sex\", \"age\"\n",
    "    \"exclude_subgroups\": \"keep-all\", # \"keep-all\", \"drop-non-german\"\n",
    "    \"eval_fairness_grouping\": [\"majority-minority\", \"nationality-all\"]\n",
    "}\n",
    "\n",
    "output_dir=\"./output\"\n",
    "seed=0"
   ]
  },
  {
   "cell_type": "code",
   "execution_count": 4,
   "id": "0e5b0ceb",
   "metadata": {
    "execution": {
     "iopub.execute_input": "2025-07-28T10:53:51.175429Z",
     "iopub.status.busy": "2025-07-28T10:53:51.174846Z",
     "iopub.status.idle": "2025-07-28T10:53:51.181040Z",
     "shell.execute_reply": "2025-07-28T10:53:51.179805Z"
    },
    "papermill": {
     "duration": 0.029679,
     "end_time": "2025-07-28T10:53:51.182921",
     "exception": false,
     "start_time": "2025-07-28T10:53:51.153242",
     "status": "completed"
    },
    "tags": [
     "injected-parameters"
    ]
   },
   "outputs": [],
   "source": [
    "# Parameters\n",
    "universe_id = \"87b083cb4cb87df2f66401d0be894b45\"\n",
    "run_no = \"11\"\n",
    "universe = \"{\\\"cutoff\\\": [\\\"quantile_0.1\\\", \\\"quantile_0.25\\\"], \\\"eval_fairness_grouping\\\": [\\\"majority-minority\\\", \\\"nationality-all\\\"], \\\"exclude_features\\\": \\\"age\\\", \\\"exclude_subgroups\\\": \\\"keep-all\\\", \\\"model\\\": \\\"logreg\\\", \\\"scale\\\": \\\"scale\\\", \\\"training_size\\\": \\\"2014\\\"}\"\n",
    "output_dir = \"output\"\n",
    "seed = \"2023\"\n"
   ]
  },
  {
   "cell_type": "code",
   "execution_count": 5,
   "id": "1650acaf",
   "metadata": {
    "execution": {
     "iopub.execute_input": "2025-07-28T10:53:51.226922Z",
     "iopub.status.busy": "2025-07-28T10:53:51.225983Z",
     "iopub.status.idle": "2025-07-28T10:53:51.231971Z",
     "shell.execute_reply": "2025-07-28T10:53:51.230883Z"
    },
    "papermill": {
     "duration": 0.030045,
     "end_time": "2025-07-28T10:53:51.233882",
     "exception": false,
     "start_time": "2025-07-28T10:53:51.203837",
     "status": "completed"
    },
    "tags": []
   },
   "outputs": [],
   "source": [
    "import json\n",
    "# Parse universe into dict if it is passed as a string\n",
    "if isinstance(universe, str):\n",
    "    universe = json.loads(universe)"
   ]
  },
  {
   "cell_type": "code",
   "execution_count": 6,
   "id": "16620c48",
   "metadata": {
    "execution": {
     "iopub.execute_input": "2025-07-28T10:53:51.275973Z",
     "iopub.status.busy": "2025-07-28T10:53:51.275403Z",
     "iopub.status.idle": "2025-07-28T10:53:51.326170Z",
     "shell.execute_reply": "2025-07-28T10:53:51.325104Z"
    },
    "papermill": {
     "duration": 0.074102,
     "end_time": "2025-07-28T10:53:51.328448",
     "exception": false,
     "start_time": "2025-07-28T10:53:51.254346",
     "status": "completed"
    },
    "tags": []
   },
   "outputs": [],
   "source": [
    "# Auto-reload the custom package\n",
    "%load_ext autoreload\n",
    "%autoreload 1\n",
    "%aimport fairness_multiverse"
   ]
  },
  {
   "cell_type": "code",
   "execution_count": 7,
   "id": "01c5c9f3",
   "metadata": {
    "execution": {
     "iopub.execute_input": "2025-07-28T10:53:51.374474Z",
     "iopub.status.busy": "2025-07-28T10:53:51.373587Z",
     "iopub.status.idle": "2025-07-28T10:53:53.687346Z",
     "shell.execute_reply": "2025-07-28T10:53:53.686257Z"
    },
    "papermill": {
     "duration": 2.339019,
     "end_time": "2025-07-28T10:53:53.689070",
     "exception": false,
     "start_time": "2025-07-28T10:53:51.350051",
     "status": "completed"
    },
    "tags": []
   },
   "outputs": [],
   "source": [
    "from fairness_multiverse.universe import UniverseAnalysis\n",
    "\n",
    "universe_analysis = UniverseAnalysis(\n",
    "    run_no = run_no,\n",
    "    universe_id = universe_id,\n",
    "    universe = universe,\n",
    "    output_dir=output_dir,\n",
    ")"
   ]
  },
  {
   "cell_type": "code",
   "execution_count": 8,
   "id": "106241f5",
   "metadata": {
    "execution": {
     "iopub.execute_input": "2025-07-28T10:53:53.732234Z",
     "iopub.status.busy": "2025-07-28T10:53:53.731436Z",
     "iopub.status.idle": "2025-07-28T10:53:53.738799Z",
     "shell.execute_reply": "2025-07-28T10:53:53.737652Z"
    },
    "papermill": {
     "duration": 0.032358,
     "end_time": "2025-07-28T10:53:53.740739",
     "exception": false,
     "start_time": "2025-07-28T10:53:53.708381",
     "status": "completed"
    },
    "tags": []
   },
   "outputs": [
    {
     "name": "stdout",
     "output_type": "stream",
     "text": [
      "Using Seed: 2023\n"
     ]
    }
   ],
   "source": [
    "import numpy as np\n",
    "parsed_seed = int(seed)\n",
    "np.random.seed(parsed_seed)\n",
    "print(f\"Using Seed: {parsed_seed}\")"
   ]
  },
  {
   "cell_type": "markdown",
   "id": "e0ebdc57",
   "metadata": {
    "papermill": {
     "duration": 0.021549,
     "end_time": "2025-07-28T10:53:53.785328",
     "exception": false,
     "start_time": "2025-07-28T10:53:53.763779",
     "status": "completed"
    },
    "tags": []
   },
   "source": [
    "# Loading Data"
   ]
  },
  {
   "cell_type": "markdown",
   "id": "681925a3",
   "metadata": {
    "papermill": {
     "duration": 0.021905,
     "end_time": "2025-07-28T10:53:53.825279",
     "exception": false,
     "start_time": "2025-07-28T10:53:53.803374",
     "status": "completed"
    },
    "tags": []
   },
   "source": [
    "Load siab_train, siab_test, siab_calib and/or \n",
    "load siab_train_features, siab_train_labels"
   ]
  },
  {
   "cell_type": "code",
   "execution_count": 9,
   "id": "f0496b8a",
   "metadata": {
    "execution": {
     "iopub.execute_input": "2025-07-28T10:53:53.864467Z",
     "iopub.status.busy": "2025-07-28T10:53:53.863932Z",
     "iopub.status.idle": "2025-07-28T10:54:05.845010Z",
     "shell.execute_reply": "2025-07-28T10:54:05.843489Z"
    },
    "papermill": {
     "duration": 12.000992,
     "end_time": "2025-07-28T10:54:05.847439",
     "exception": false,
     "start_time": "2025-07-28T10:53:53.846447",
     "status": "completed"
    },
    "tags": []
   },
   "outputs": [
    {
     "name": "stdout",
     "output_type": "stream",
     "text": [
      "Loading SIAB data from cache: data/siab_cached.csv.gz\n"
     ]
    },
    {
     "name": "stdout",
     "output_type": "stream",
     "text": [
      "(643690, 164)\n"
     ]
    }
   ],
   "source": [
    "from pathlib import Path\n",
    "import pandas as pd\n",
    "\n",
    "# File paths\n",
    "raw_file = Path(\"data/raw/siab.csv\")\n",
    "cache_file = Path(\"data/siab_cached.csv.gz\")\n",
    "\n",
    "# Ensure cache directory exists\n",
    "cache_file.parent.mkdir(parents=True, exist_ok=True)\n",
    "\n",
    "# Load with simple caching\n",
    "if cache_file.exists():\n",
    "    print(f\"Loading SIAB data from cache: {cache_file}\")\n",
    "    siab = pd.read_csv(cache_file, compression='gzip')\n",
    "else:\n",
    "    print(f\"Cache not found. Reading raw SIAB data: {raw_file}\")\n",
    "    siab = pd.read_csv(raw_file)\n",
    "    siab.to_csv(cache_file, index=False, compression='gzip')\n",
    "    print(f\"Cached SIAB data to: {cache_file}\")\n",
    "\n",
    "# Now use `siab` DataFrame as needed\n",
    "print(siab.shape)"
   ]
  },
  {
   "cell_type": "code",
   "execution_count": 10,
   "id": "db0ca512-5f53-4dba-abdb-a2888bca41ba",
   "metadata": {
    "execution": {
     "iopub.execute_input": "2025-07-28T10:54:05.901693Z",
     "iopub.status.busy": "2025-07-28T10:54:05.901272Z",
     "iopub.status.idle": "2025-07-28T10:54:05.906192Z",
     "shell.execute_reply": "2025-07-28T10:54:05.905439Z"
    },
    "papermill": {
     "duration": 0.031091,
     "end_time": "2025-07-28T10:54:05.908353",
     "exception": false,
     "start_time": "2025-07-28T10:54:05.877262",
     "status": "completed"
    },
    "tags": []
   },
   "outputs": [],
   "source": [
    "#siab"
   ]
  },
  {
   "cell_type": "code",
   "execution_count": 11,
   "id": "a0edb063",
   "metadata": {
    "execution": {
     "iopub.execute_input": "2025-07-28T10:54:05.961052Z",
     "iopub.status.busy": "2025-07-28T10:54:05.960256Z",
     "iopub.status.idle": "2025-07-28T10:54:05.966113Z",
     "shell.execute_reply": "2025-07-28T10:54:05.965128Z"
    },
    "papermill": {
     "duration": 0.036161,
     "end_time": "2025-07-28T10:54:05.967823",
     "exception": false,
     "start_time": "2025-07-28T10:54:05.931662",
     "status": "completed"
    },
    "tags": []
   },
   "outputs": [],
   "source": [
    "#import pandas as pd\n",
    "#\n",
    "#X_train = pd.read_csv(\"./data/X_train.csv\")\n",
    "#y_train = pd.read_csv(\"./data/y_train.csv\")"
   ]
  },
  {
   "cell_type": "code",
   "execution_count": 12,
   "id": "63d08085",
   "metadata": {
    "execution": {
     "iopub.execute_input": "2025-07-28T10:54:06.009771Z",
     "iopub.status.busy": "2025-07-28T10:54:06.009251Z",
     "iopub.status.idle": "2025-07-28T10:54:06.015070Z",
     "shell.execute_reply": "2025-07-28T10:54:06.013797Z"
    },
    "papermill": {
     "duration": 0.029159,
     "end_time": "2025-07-28T10:54:06.016928",
     "exception": false,
     "start_time": "2025-07-28T10:54:05.987769",
     "status": "completed"
    },
    "tags": []
   },
   "outputs": [],
   "source": [
    "#X_test = pd.read_csv(\"./data/X_test.csv\")\n",
    "#y_true = pd.read_csv(\"./data/y_test.csv\")"
   ]
  },
  {
   "cell_type": "code",
   "execution_count": 13,
   "id": "98a8d0fa-1d3d-4ed8-bb2c-281470e24add",
   "metadata": {
    "execution": {
     "iopub.execute_input": "2025-07-28T10:54:06.058929Z",
     "iopub.status.busy": "2025-07-28T10:54:06.057728Z",
     "iopub.status.idle": "2025-07-28T10:54:06.062937Z",
     "shell.execute_reply": "2025-07-28T10:54:06.061875Z"
    },
    "papermill": {
     "duration": 0.027829,
     "end_time": "2025-07-28T10:54:06.064772",
     "exception": false,
     "start_time": "2025-07-28T10:54:06.036943",
     "status": "completed"
    },
    "tags": []
   },
   "outputs": [],
   "source": [
    "# Calibration data for conformal\n",
    "#X_calib = pd.read_csv(\"./data/X_calib.csv\")\n",
    "#y_calib = pd.read_csv(\"./data/y_calib.csv\")"
   ]
  },
  {
   "cell_type": "markdown",
   "id": "9901737e-04df-44f0-9100-f5ad144ed040",
   "metadata": {
    "papermill": {
     "duration": 0.020862,
     "end_time": "2025-07-28T10:54:06.107522",
     "exception": false,
     "start_time": "2025-07-28T10:54:06.086660",
     "status": "completed"
    },
    "tags": []
   },
   "source": [
    "# Splitting Data and Setting Training Data Size"
   ]
  },
  {
   "cell_type": "code",
   "execution_count": 14,
   "id": "acbc8f7d-8fc8-4e86-8c59-5dcb0f58384b",
   "metadata": {
    "execution": {
     "iopub.execute_input": "2025-07-28T10:54:06.146650Z",
     "iopub.status.busy": "2025-07-28T10:54:06.146140Z",
     "iopub.status.idle": "2025-07-28T10:54:06.154941Z",
     "shell.execute_reply": "2025-07-28T10:54:06.153893Z"
    },
    "papermill": {
     "duration": 0.034281,
     "end_time": "2025-07-28T10:54:06.156760",
     "exception": false,
     "start_time": "2025-07-28T10:54:06.122479",
     "status": "completed"
    },
    "tags": []
   },
   "outputs": [],
   "source": [
    "def sample_by_year(df, training_size, random_state=42):\n",
    "    if training_size == \"2014\":\n",
    "        return df[df[\"year\"] == 2014].reset_index(drop=True)\n",
    "    \n",
    "    size_map = {\n",
    "        \"25k\": 5000,\n",
    "        \"5k\": 1000,\n",
    "        \"1k\": 200\n",
    "    }\n",
    "\n",
    "    if training_size not in size_map:\n",
    "        return df.reset_index(drop=True)  # use all data\n",
    "\n",
    "    n_per_year = size_map[training_size]\n",
    "    grouped = df.groupby(\"year\")\n",
    "    sampled = grouped.apply(lambda x: x.sample(n=min(n_per_year, len(x)), random_state=random_state))\n",
    "    return sampled.reset_index(drop=True)"
   ]
  },
  {
   "cell_type": "code",
   "execution_count": 15,
   "id": "6d931f52-beaf-43ff-9e78-9d44a448d54e",
   "metadata": {
    "execution": {
     "iopub.execute_input": "2025-07-28T10:54:06.200887Z",
     "iopub.status.busy": "2025-07-28T10:54:06.200205Z",
     "iopub.status.idle": "2025-07-28T10:54:06.325221Z",
     "shell.execute_reply": "2025-07-28T10:54:06.324261Z"
    },
    "papermill": {
     "duration": 0.14947,
     "end_time": "2025-07-28T10:54:06.327299",
     "exception": false,
     "start_time": "2025-07-28T10:54:06.177829",
     "status": "completed"
    },
    "tags": []
   },
   "outputs": [],
   "source": [
    "siab_s = sample_by_year(siab, universe[\"training_size\"])"
   ]
  },
  {
   "cell_type": "code",
   "execution_count": 16,
   "id": "5db0a40e-a4e2-4920-be85-b12ae061d70d",
   "metadata": {
    "execution": {
     "iopub.execute_input": "2025-07-28T10:54:06.354923Z",
     "iopub.status.busy": "2025-07-28T10:54:06.354492Z",
     "iopub.status.idle": "2025-07-28T10:54:06.368692Z",
     "shell.execute_reply": "2025-07-28T10:54:06.367912Z"
    },
    "papermill": {
     "duration": 0.029028,
     "end_time": "2025-07-28T10:54:06.370382",
     "exception": false,
     "start_time": "2025-07-28T10:54:06.341354",
     "status": "completed"
    },
    "tags": []
   },
   "outputs": [
    {
     "data": {
      "text/plain": [
       "year\n",
       "2014    87158\n",
       "dtype: int64"
      ]
     },
     "metadata": {},
     "output_type": "display_data"
    }
   ],
   "source": [
    "display(siab_s.groupby(\"year\").size())"
   ]
  },
  {
   "cell_type": "code",
   "execution_count": 17,
   "id": "a561edb4-d032-42cb-8256-22eac1111c64",
   "metadata": {
    "execution": {
     "iopub.execute_input": "2025-07-28T10:54:06.396374Z",
     "iopub.status.busy": "2025-07-28T10:54:06.395436Z",
     "iopub.status.idle": "2025-07-28T10:54:06.792748Z",
     "shell.execute_reply": "2025-07-28T10:54:06.791426Z"
    },
    "papermill": {
     "duration": 0.412476,
     "end_time": "2025-07-28T10:54:06.794997",
     "exception": false,
     "start_time": "2025-07-28T10:54:06.382521",
     "status": "completed"
    },
    "tags": []
   },
   "outputs": [],
   "source": [
    "siab_train = siab_s[siab_s.year < 2015]\n",
    "siab_calib = siab[siab.year == 2015]\n",
    "siab_test = siab[siab.year == 2016]"
   ]
  },
  {
   "cell_type": "code",
   "execution_count": 18,
   "id": "472de16f-c3db-4916-846b-1f0de9cf1746",
   "metadata": {
    "execution": {
     "iopub.execute_input": "2025-07-28T10:54:06.841526Z",
     "iopub.status.busy": "2025-07-28T10:54:06.840544Z",
     "iopub.status.idle": "2025-07-28T10:54:06.914690Z",
     "shell.execute_reply": "2025-07-28T10:54:06.913413Z"
    },
    "papermill": {
     "duration": 0.099231,
     "end_time": "2025-07-28T10:54:06.916716",
     "exception": false,
     "start_time": "2025-07-28T10:54:06.817485",
     "status": "completed"
    },
    "tags": []
   },
   "outputs": [],
   "source": [
    "X_train = siab_train.iloc[:,4:164]\n",
    "y_train = siab_train.iloc[:, [3]]"
   ]
  },
  {
   "cell_type": "code",
   "execution_count": 19,
   "id": "828c96af-f43a-4ed6-ba47-8ac73a47d56c",
   "metadata": {
    "execution": {
     "iopub.execute_input": "2025-07-28T10:54:06.967550Z",
     "iopub.status.busy": "2025-07-28T10:54:06.966526Z",
     "iopub.status.idle": "2025-07-28T10:54:07.028568Z",
     "shell.execute_reply": "2025-07-28T10:54:07.027700Z"
    },
    "papermill": {
     "duration": 0.089061,
     "end_time": "2025-07-28T10:54:07.029991",
     "exception": false,
     "start_time": "2025-07-28T10:54:06.940930",
     "status": "completed"
    },
    "tags": []
   },
   "outputs": [],
   "source": [
    "X_calib = siab_calib.iloc[:,4:164]\n",
    "y_calib = siab_calib.iloc[:, [3]]"
   ]
  },
  {
   "cell_type": "code",
   "execution_count": 20,
   "id": "c34be9c3-6bd6-476e-acd3-845840e303be",
   "metadata": {
    "execution": {
     "iopub.execute_input": "2025-07-28T10:54:07.057939Z",
     "iopub.status.busy": "2025-07-28T10:54:07.057504Z",
     "iopub.status.idle": "2025-07-28T10:54:07.106823Z",
     "shell.execute_reply": "2025-07-28T10:54:07.106072Z"
    },
    "papermill": {
     "duration": 0.066751,
     "end_time": "2025-07-28T10:54:07.108170",
     "exception": false,
     "start_time": "2025-07-28T10:54:07.041419",
     "status": "completed"
    },
    "tags": []
   },
   "outputs": [],
   "source": [
    "X_test = siab_test.iloc[:,4:164]\n",
    "y_true = siab_test.iloc[:, [3]]"
   ]
  },
  {
   "cell_type": "code",
   "execution_count": 21,
   "id": "e6c733c5",
   "metadata": {
    "execution": {
     "iopub.execute_input": "2025-07-28T10:54:07.137070Z",
     "iopub.status.busy": "2025-07-28T10:54:07.136664Z",
     "iopub.status.idle": "2025-07-28T10:54:07.310250Z",
     "shell.execute_reply": "2025-07-28T10:54:07.308872Z"
    },
    "papermill": {
     "duration": 0.187727,
     "end_time": "2025-07-28T10:54:07.312146",
     "exception": false,
     "start_time": "2025-07-28T10:54:07.124419",
     "status": "completed"
    },
    "tags": []
   },
   "outputs": [],
   "source": [
    "# Auxiliary data needed downstream in the pipeline\n",
    "\n",
    "org_train = X_train.copy()\n",
    "org_test = X_test.copy()\n",
    "org_calib = X_calib.copy()"
   ]
  },
  {
   "cell_type": "markdown",
   "id": "0a4a1b33",
   "metadata": {
    "papermill": {
     "duration": 0.031619,
     "end_time": "2025-07-28T10:54:07.372099",
     "exception": false,
     "start_time": "2025-07-28T10:54:07.340480",
     "status": "completed"
    },
    "tags": []
   },
   "source": [
    "# Preprocessing Data"
   ]
  },
  {
   "cell_type": "code",
   "execution_count": 22,
   "id": "ca879031",
   "metadata": {
    "execution": {
     "iopub.execute_input": "2025-07-28T10:54:07.426499Z",
     "iopub.status.busy": "2025-07-28T10:54:07.425997Z",
     "iopub.status.idle": "2025-07-28T10:54:07.432496Z",
     "shell.execute_reply": "2025-07-28T10:54:07.431530Z"
    },
    "papermill": {
     "duration": 0.036332,
     "end_time": "2025-07-28T10:54:07.434440",
     "exception": false,
     "start_time": "2025-07-28T10:54:07.398108",
     "status": "completed"
    },
    "tags": []
   },
   "outputs": [],
   "source": [
    "# EXCLUDE PROTECTED FEATURES\n",
    "# ----------------------\n",
    "# \"exclude_features\": \"none\", # \"nationality\", \"sex\", \"nationality-sex\"\n",
    "\n",
    "excluded_features = universe[\"exclude_features\"].split(\"-\") # split, e.g.: \"nationality-sex\" -> [\"nationality\", \"sex\"]\n",
    "excluded_features_dictionary = {\n",
    "    \"nationality\": [\"maxdeutsch1\", \"maxdeutsch.Missing.\"],\n",
    "    \"sex\": [\"frau1\"],\n",
    "    \"age\": [\"age\"],\n",
    "}\n"
   ]
  },
  {
   "cell_type": "code",
   "execution_count": 23,
   "id": "b745ac60",
   "metadata": {
    "execution": {
     "iopub.execute_input": "2025-07-28T10:54:07.483694Z",
     "iopub.status.busy": "2025-07-28T10:54:07.483168Z",
     "iopub.status.idle": "2025-07-28T10:54:07.489272Z",
     "shell.execute_reply": "2025-07-28T10:54:07.488219Z"
    },
    "papermill": {
     "duration": 0.033323,
     "end_time": "2025-07-28T10:54:07.491115",
     "exception": false,
     "start_time": "2025-07-28T10:54:07.457792",
     "status": "completed"
    },
    "tags": []
   },
   "outputs": [],
   "source": [
    "# Code nice names to column names\n",
    "\n",
    "excluded_features_columns = [\n",
    "    excluded_features_dictionary[f] for f in excluded_features if len(f) > 0 and f != \"none\"\n",
    "]"
   ]
  },
  {
   "cell_type": "code",
   "execution_count": 24,
   "id": "f84f73a2",
   "metadata": {
    "execution": {
     "iopub.execute_input": "2025-07-28T10:54:07.540694Z",
     "iopub.status.busy": "2025-07-28T10:54:07.540133Z",
     "iopub.status.idle": "2025-07-28T10:54:07.556427Z",
     "shell.execute_reply": "2025-07-28T10:54:07.555476Z"
    },
    "papermill": {
     "duration": 0.042674,
     "end_time": "2025-07-28T10:54:07.558316",
     "exception": false,
     "start_time": "2025-07-28T10:54:07.515642",
     "status": "completed"
    },
    "tags": []
   },
   "outputs": [],
   "source": [
    "from utils import flatten_once\n",
    "\n",
    "excluded_features_columns = flatten_once(excluded_features_columns)"
   ]
  },
  {
   "cell_type": "code",
   "execution_count": 25,
   "id": "884dea22",
   "metadata": {
    "execution": {
     "iopub.execute_input": "2025-07-28T10:54:07.605426Z",
     "iopub.status.busy": "2025-07-28T10:54:07.604785Z",
     "iopub.status.idle": "2025-07-28T10:54:07.662427Z",
     "shell.execute_reply": "2025-07-28T10:54:07.661322Z"
    },
    "papermill": {
     "duration": 0.083815,
     "end_time": "2025-07-28T10:54:07.665031",
     "exception": false,
     "start_time": "2025-07-28T10:54:07.581216",
     "status": "completed"
    },
    "tags": []
   },
   "outputs": [
    {
     "name": "stdout",
     "output_type": "stream",
     "text": [
      "Dropping features: ['age']\n"
     ]
    }
   ],
   "source": [
    "if len(excluded_features_columns) > 0:\n",
    "    print(f\"Dropping features: {excluded_features_columns}\")\n",
    "    X_train.drop(excluded_features_columns, axis=1, inplace=True)"
   ]
  },
  {
   "cell_type": "code",
   "execution_count": 26,
   "id": "95ab8b16",
   "metadata": {
    "execution": {
     "iopub.execute_input": "2025-07-28T10:54:07.716283Z",
     "iopub.status.busy": "2025-07-28T10:54:07.715728Z",
     "iopub.status.idle": "2025-07-28T10:54:07.776589Z",
     "shell.execute_reply": "2025-07-28T10:54:07.775549Z"
    },
    "papermill": {
     "duration": 0.088533,
     "end_time": "2025-07-28T10:54:07.778587",
     "exception": false,
     "start_time": "2025-07-28T10:54:07.690054",
     "status": "completed"
    },
    "tags": []
   },
   "outputs": [
    {
     "name": "stdout",
     "output_type": "stream",
     "text": [
      "Dropping features: ['age']\n"
     ]
    }
   ],
   "source": [
    "if len(excluded_features_columns) > 0:\n",
    "    print(f\"Dropping features: {excluded_features_columns}\")\n",
    "    X_test.drop(excluded_features_columns, axis=1, inplace=True)"
   ]
  },
  {
   "cell_type": "code",
   "execution_count": 27,
   "id": "1853aaf5-fb9f-46cb-a2b5-8ea4ae2237e4",
   "metadata": {
    "execution": {
     "iopub.execute_input": "2025-07-28T10:54:07.832215Z",
     "iopub.status.busy": "2025-07-28T10:54:07.830255Z",
     "iopub.status.idle": "2025-07-28T10:54:07.892432Z",
     "shell.execute_reply": "2025-07-28T10:54:07.891323Z"
    },
    "papermill": {
     "duration": 0.090878,
     "end_time": "2025-07-28T10:54:07.894385",
     "exception": false,
     "start_time": "2025-07-28T10:54:07.803507",
     "status": "completed"
    },
    "tags": []
   },
   "outputs": [
    {
     "name": "stdout",
     "output_type": "stream",
     "text": [
      "Dropping features: ['age']\n"
     ]
    }
   ],
   "source": [
    "if len(excluded_features_columns) > 0:\n",
    "    print(f\"Dropping features: {excluded_features_columns}\")\n",
    "    X_calib.drop(excluded_features_columns, axis=1, inplace=True)"
   ]
  },
  {
   "cell_type": "code",
   "execution_count": 28,
   "id": "6727d079-03e5-481e-9d38-292a90b7a0a8",
   "metadata": {
    "execution": {
     "iopub.execute_input": "2025-07-28T10:54:07.941203Z",
     "iopub.status.busy": "2025-07-28T10:54:07.940663Z",
     "iopub.status.idle": "2025-07-28T10:54:07.945445Z",
     "shell.execute_reply": "2025-07-28T10:54:07.944519Z"
    },
    "papermill": {
     "duration": 0.030709,
     "end_time": "2025-07-28T10:54:07.947108",
     "exception": false,
     "start_time": "2025-07-28T10:54:07.916399",
     "status": "completed"
    },
    "tags": []
   },
   "outputs": [],
   "source": [
    "# SPLIT & STRATIFY DATA\n",
    "# ----------------------"
   ]
  },
  {
   "cell_type": "code",
   "execution_count": 29,
   "id": "76c4dc6d",
   "metadata": {
    "execution": {
     "iopub.execute_input": "2025-07-28T10:54:07.989902Z",
     "iopub.status.busy": "2025-07-28T10:54:07.989421Z",
     "iopub.status.idle": "2025-07-28T10:54:07.994861Z",
     "shell.execute_reply": "2025-07-28T10:54:07.993951Z"
    },
    "papermill": {
     "duration": 0.028781,
     "end_time": "2025-07-28T10:54:07.996557",
     "exception": false,
     "start_time": "2025-07-28T10:54:07.967776",
     "status": "completed"
    },
    "tags": []
   },
   "outputs": [],
   "source": [
    "# EXCLUDE CERTAIN SUBGROUPS\n",
    "# ----------------------\n",
    "\n",
    "mode = universe.get(\"exclude_subgroups\", \"keep-all\") \n",
    "# Fetches the exclude_subgroups setting from the universe dict.\n",
    "# Defaults to \"keep-all\" if the key is missing."
   ]
  },
  {
   "cell_type": "code",
   "execution_count": 30,
   "id": "21994072",
   "metadata": {
    "execution": {
     "iopub.execute_input": "2025-07-28T10:54:08.040620Z",
     "iopub.status.busy": "2025-07-28T10:54:08.040164Z",
     "iopub.status.idle": "2025-07-28T10:54:08.047432Z",
     "shell.execute_reply": "2025-07-28T10:54:08.046471Z"
    },
    "papermill": {
     "duration": 0.030783,
     "end_time": "2025-07-28T10:54:08.049240",
     "exception": false,
     "start_time": "2025-07-28T10:54:08.018457",
     "status": "completed"
    },
    "tags": []
   },
   "outputs": [],
   "source": [
    "if mode == \"keep-all\":\n",
    "    keep_mask = pd.Series(True, index=org_train.index)\n",
    "\n",
    "# org_train contains the original feature columns from features_org (in Simson)\n",
    "# features_org contains unprocessed features, for me X_train at beginning ???\n",
    "# For keep-all, creates a boolean Series (keep_mask) of all True, so no rows are removed.\n",
    "\n",
    "elif mode == \"drop-non-german\":\n",
    "    keep_mask = org_train[\"maxdeutsch1\"] == 1 # ??? what about missing values?\n",
    "\n",
    "else:\n",
    "    raise ValueError(f\"Unsupported mode for exclude_subgroups: {mode}\")\n"
   ]
  },
  {
   "cell_type": "code",
   "execution_count": 31,
   "id": "71651440",
   "metadata": {
    "execution": {
     "iopub.execute_input": "2025-07-28T10:54:08.091495Z",
     "iopub.status.busy": "2025-07-28T10:54:08.090969Z",
     "iopub.status.idle": "2025-07-28T10:54:08.097503Z",
     "shell.execute_reply": "2025-07-28T10:54:08.096471Z"
    },
    "papermill": {
     "duration": 0.029382,
     "end_time": "2025-07-28T10:54:08.099228",
     "exception": false,
     "start_time": "2025-07-28T10:54:08.069846",
     "status": "completed"
    },
    "tags": []
   },
   "outputs": [],
   "source": [
    "n_drop = (~keep_mask).sum() # Calculates how many rows are set to be dropped\n",
    "if n_drop > 0:\n",
    "    pct = n_drop / len(keep_mask) * 100\n",
    "    print(f\"Dropping {n_drop} rows ({pct:.2f}%) where mode='{mode}'\")"
   ]
  },
  {
   "cell_type": "code",
   "execution_count": 32,
   "id": "5fb8eee5",
   "metadata": {
    "execution": {
     "iopub.execute_input": "2025-07-28T10:54:08.156966Z",
     "iopub.status.busy": "2025-07-28T10:54:08.156511Z",
     "iopub.status.idle": "2025-07-28T10:54:08.217589Z",
     "shell.execute_reply": "2025-07-28T10:54:08.216537Z"
    },
    "papermill": {
     "duration": 0.086057,
     "end_time": "2025-07-28T10:54:08.219623",
     "exception": false,
     "start_time": "2025-07-28T10:54:08.133566",
     "status": "completed"
    },
    "tags": []
   },
   "outputs": [],
   "source": [
    "X_train = X_train[keep_mask]"
   ]
  },
  {
   "cell_type": "code",
   "execution_count": 33,
   "id": "b202bb3a",
   "metadata": {
    "execution": {
     "iopub.execute_input": "2025-07-28T10:54:08.267169Z",
     "iopub.status.busy": "2025-07-28T10:54:08.266586Z",
     "iopub.status.idle": "2025-07-28T10:54:08.276069Z",
     "shell.execute_reply": "2025-07-28T10:54:08.275024Z"
    },
    "papermill": {
     "duration": 0.035499,
     "end_time": "2025-07-28T10:54:08.278767",
     "exception": false,
     "start_time": "2025-07-28T10:54:08.243268",
     "status": "completed"
    },
    "tags": []
   },
   "outputs": [],
   "source": [
    "y_train = y_train[keep_mask]"
   ]
  },
  {
   "cell_type": "markdown",
   "id": "493e2ac3",
   "metadata": {
    "papermill": {
     "duration": 0.028247,
     "end_time": "2025-07-28T10:54:08.337510",
     "exception": false,
     "start_time": "2025-07-28T10:54:08.309263",
     "status": "completed"
    },
    "tags": []
   },
   "source": [
    "# Model Training"
   ]
  },
  {
   "cell_type": "code",
   "execution_count": 34,
   "id": "679e1268",
   "metadata": {
    "execution": {
     "iopub.execute_input": "2025-07-28T10:54:08.401829Z",
     "iopub.status.busy": "2025-07-28T10:54:08.400676Z",
     "iopub.status.idle": "2025-07-28T10:54:08.518405Z",
     "shell.execute_reply": "2025-07-28T10:54:08.517104Z"
    },
    "papermill": {
     "duration": 0.153046,
     "end_time": "2025-07-28T10:54:08.520800",
     "exception": false,
     "start_time": "2025-07-28T10:54:08.367754",
     "status": "completed"
    },
    "tags": []
   },
   "outputs": [],
   "source": [
    "from sklearn.linear_model import LogisticRegression\n",
    "from sklearn.ensemble import GradientBoostingClassifier, RandomForestClassifier\n",
    "\n",
    "if (universe[\"model\"] == \"logreg\"):\n",
    "    model = LogisticRegression() #penalty=\"none\") #, solver=\"newton-cg\", max_iter=1) # include random_state=19 ?\n",
    "elif (universe[\"model\"] == \"penalized_logreg\"):\n",
    "    model = LogisticRegression(penalty=\"l2\", C=1.0) #, solver=\"newton-cg\", max_iter=1)\n",
    "elif (universe[\"model\"] == \"rf\"):\n",
    "    model = RandomForestClassifier(n_estimators=100, n_jobs=-1)\n",
    "elif (universe[\"model\"] == \"gbm\"):\n",
    "    model = GradientBoostingClassifier()\n",
    "elif (universe[\"model\"] == \"elasticnet\"):\n",
    "    model = LogisticRegression(penalty = 'elasticnet', solver = 'saga', l1_ratio = 0.5, max_iter=5000) # which solver to use?\n",
    "else:\n",
    "    raise \"Unsupported universe.model\""
   ]
  },
  {
   "cell_type": "code",
   "execution_count": 35,
   "id": "0cc8f744",
   "metadata": {
    "execution": {
     "iopub.execute_input": "2025-07-28T10:54:08.569445Z",
     "iopub.status.busy": "2025-07-28T10:54:08.568887Z",
     "iopub.status.idle": "2025-07-28T10:54:08.575980Z",
     "shell.execute_reply": "2025-07-28T10:54:08.575063Z"
    },
    "papermill": {
     "duration": 0.03173,
     "end_time": "2025-07-28T10:54:08.577616",
     "exception": false,
     "start_time": "2025-07-28T10:54:08.545886",
     "status": "completed"
    },
    "tags": []
   },
   "outputs": [],
   "source": [
    "import numpy as np\n",
    "from sklearn.pipeline import Pipeline\n",
    "from sklearn.preprocessing import StandardScaler\n",
    "\n",
    "model = Pipeline([\n",
    "    #(\"continuous_processor\", continuous_processor),\n",
    "    #(\"categorical_preprocessor\", categorical_preprocessor),\n",
    "    (\"scale\", StandardScaler() if universe[\"scale\"] == \"scale\" else None), \n",
    "    (\"model\", model),\n",
    "])"
   ]
  },
  {
   "cell_type": "code",
   "execution_count": 36,
   "id": "9442c04d",
   "metadata": {
    "execution": {
     "iopub.execute_input": "2025-07-28T10:54:08.626331Z",
     "iopub.status.busy": "2025-07-28T10:54:08.625811Z",
     "iopub.status.idle": "2025-07-28T10:54:12.862561Z",
     "shell.execute_reply": "2025-07-28T10:54:12.861628Z"
    },
    "papermill": {
     "duration": 4.265056,
     "end_time": "2025-07-28T10:54:12.864475",
     "exception": false,
     "start_time": "2025-07-28T10:54:08.599419",
     "status": "completed"
    },
    "tags": []
   },
   "outputs": [
    {
     "name": "stderr",
     "output_type": "stream",
     "text": [
      "/dss/dsshome1/0C/ra93lal2/.local/share/virtualenvs/CMA_Fairness_v2-3j10GkSs/lib/python3.10/site-packages/sklearn/linear_model/_logistic.py:444: ConvergenceWarning: lbfgs failed to converge (status=1):\n",
      "STOP: TOTAL NO. of ITERATIONS REACHED LIMIT.\n",
      "\n",
      "Increase the number of iterations (max_iter) or scale the data as shown in:\n",
      "    https://scikit-learn.org/stable/modules/preprocessing.html\n",
      "Please also refer to the documentation for alternative solver options:\n",
      "    https://scikit-learn.org/stable/modules/linear_model.html#logistic-regression\n",
      "  n_iter_i = _check_optimize_result(\n"
     ]
    },
    {
     "data": {
      "text/html": [
       "<style>#sk-container-id-1 {color: black;background-color: white;}#sk-container-id-1 pre{padding: 0;}#sk-container-id-1 div.sk-toggleable {background-color: white;}#sk-container-id-1 label.sk-toggleable__label {cursor: pointer;display: block;width: 100%;margin-bottom: 0;padding: 0.3em;box-sizing: border-box;text-align: center;}#sk-container-id-1 label.sk-toggleable__label-arrow:before {content: \"▸\";float: left;margin-right: 0.25em;color: #696969;}#sk-container-id-1 label.sk-toggleable__label-arrow:hover:before {color: black;}#sk-container-id-1 div.sk-estimator:hover label.sk-toggleable__label-arrow:before {color: black;}#sk-container-id-1 div.sk-toggleable__content {max-height: 0;max-width: 0;overflow: hidden;text-align: left;background-color: #f0f8ff;}#sk-container-id-1 div.sk-toggleable__content pre {margin: 0.2em;color: black;border-radius: 0.25em;background-color: #f0f8ff;}#sk-container-id-1 input.sk-toggleable__control:checked~div.sk-toggleable__content {max-height: 200px;max-width: 100%;overflow: auto;}#sk-container-id-1 input.sk-toggleable__control:checked~label.sk-toggleable__label-arrow:before {content: \"▾\";}#sk-container-id-1 div.sk-estimator input.sk-toggleable__control:checked~label.sk-toggleable__label {background-color: #d4ebff;}#sk-container-id-1 div.sk-label input.sk-toggleable__control:checked~label.sk-toggleable__label {background-color: #d4ebff;}#sk-container-id-1 input.sk-hidden--visually {border: 0;clip: rect(1px 1px 1px 1px);clip: rect(1px, 1px, 1px, 1px);height: 1px;margin: -1px;overflow: hidden;padding: 0;position: absolute;width: 1px;}#sk-container-id-1 div.sk-estimator {font-family: monospace;background-color: #f0f8ff;border: 1px dotted black;border-radius: 0.25em;box-sizing: border-box;margin-bottom: 0.5em;}#sk-container-id-1 div.sk-estimator:hover {background-color: #d4ebff;}#sk-container-id-1 div.sk-parallel-item::after {content: \"\";width: 100%;border-bottom: 1px solid gray;flex-grow: 1;}#sk-container-id-1 div.sk-label:hover label.sk-toggleable__label {background-color: #d4ebff;}#sk-container-id-1 div.sk-serial::before {content: \"\";position: absolute;border-left: 1px solid gray;box-sizing: border-box;top: 0;bottom: 0;left: 50%;z-index: 0;}#sk-container-id-1 div.sk-serial {display: flex;flex-direction: column;align-items: center;background-color: white;padding-right: 0.2em;padding-left: 0.2em;position: relative;}#sk-container-id-1 div.sk-item {position: relative;z-index: 1;}#sk-container-id-1 div.sk-parallel {display: flex;align-items: stretch;justify-content: center;background-color: white;position: relative;}#sk-container-id-1 div.sk-item::before, #sk-container-id-1 div.sk-parallel-item::before {content: \"\";position: absolute;border-left: 1px solid gray;box-sizing: border-box;top: 0;bottom: 0;left: 50%;z-index: -1;}#sk-container-id-1 div.sk-parallel-item {display: flex;flex-direction: column;z-index: 1;position: relative;background-color: white;}#sk-container-id-1 div.sk-parallel-item:first-child::after {align-self: flex-end;width: 50%;}#sk-container-id-1 div.sk-parallel-item:last-child::after {align-self: flex-start;width: 50%;}#sk-container-id-1 div.sk-parallel-item:only-child::after {width: 0;}#sk-container-id-1 div.sk-dashed-wrapped {border: 1px dashed gray;margin: 0 0.4em 0.5em 0.4em;box-sizing: border-box;padding-bottom: 0.4em;background-color: white;}#sk-container-id-1 div.sk-label label {font-family: monospace;font-weight: bold;display: inline-block;line-height: 1.2em;}#sk-container-id-1 div.sk-label-container {text-align: center;}#sk-container-id-1 div.sk-container {/* jupyter's `normalize.less` sets `[hidden] { display: none; }` but bootstrap.min.css set `[hidden] { display: none !important; }` so we also need the `!important` here to be able to override the default hidden behavior on the sphinx rendered scikit-learn.org. See: https://github.com/scikit-learn/scikit-learn/issues/21755 */display: inline-block !important;position: relative;}#sk-container-id-1 div.sk-text-repr-fallback {display: none;}</style><div id=\"sk-container-id-1\" class=\"sk-top-container\"><div class=\"sk-text-repr-fallback\"><pre>Pipeline(steps=[(&#x27;scale&#x27;, StandardScaler()), (&#x27;model&#x27;, LogisticRegression())])</pre><b>In a Jupyter environment, please rerun this cell to show the HTML representation or trust the notebook. <br />On GitHub, the HTML representation is unable to render, please try loading this page with nbviewer.org.</b></div><div class=\"sk-container\" hidden><div class=\"sk-item sk-dashed-wrapped\"><div class=\"sk-label-container\"><div class=\"sk-label sk-toggleable\"><input class=\"sk-toggleable__control sk-hidden--visually\" id=\"sk-estimator-id-1\" type=\"checkbox\" ><label for=\"sk-estimator-id-1\" class=\"sk-toggleable__label sk-toggleable__label-arrow\">Pipeline</label><div class=\"sk-toggleable__content\"><pre>Pipeline(steps=[(&#x27;scale&#x27;, StandardScaler()), (&#x27;model&#x27;, LogisticRegression())])</pre></div></div></div><div class=\"sk-serial\"><div class=\"sk-item\"><div class=\"sk-estimator sk-toggleable\"><input class=\"sk-toggleable__control sk-hidden--visually\" id=\"sk-estimator-id-2\" type=\"checkbox\" ><label for=\"sk-estimator-id-2\" class=\"sk-toggleable__label sk-toggleable__label-arrow\">StandardScaler</label><div class=\"sk-toggleable__content\"><pre>StandardScaler()</pre></div></div></div><div class=\"sk-item\"><div class=\"sk-estimator sk-toggleable\"><input class=\"sk-toggleable__control sk-hidden--visually\" id=\"sk-estimator-id-3\" type=\"checkbox\" ><label for=\"sk-estimator-id-3\" class=\"sk-toggleable__label sk-toggleable__label-arrow\">LogisticRegression</label><div class=\"sk-toggleable__content\"><pre>LogisticRegression()</pre></div></div></div></div></div></div></div>"
      ],
      "text/plain": [
       "Pipeline(steps=[('scale', StandardScaler()), ('model', LogisticRegression())])"
      ]
     },
     "execution_count": 36,
     "metadata": {},
     "output_type": "execute_result"
    }
   ],
   "source": [
    "model.fit(X_train, y_train.values.ravel())"
   ]
  },
  {
   "cell_type": "code",
   "execution_count": 37,
   "id": "af59f8c0",
   "metadata": {
    "execution": {
     "iopub.execute_input": "2025-07-28T10:54:12.912587Z",
     "iopub.status.busy": "2025-07-28T10:54:12.911955Z",
     "iopub.status.idle": "2025-07-28T10:54:12.917676Z",
     "shell.execute_reply": "2025-07-28T10:54:12.916682Z"
    },
    "papermill": {
     "duration": 0.029815,
     "end_time": "2025-07-28T10:54:12.919278",
     "exception": false,
     "start_time": "2025-07-28T10:54:12.889463",
     "status": "completed"
    },
    "tags": []
   },
   "outputs": [],
   "source": [
    "from fairness_multiverse.universe import predict_w_threshold"
   ]
  },
  {
   "cell_type": "code",
   "execution_count": 38,
   "id": "a7cf2e16",
   "metadata": {
    "execution": {
     "iopub.execute_input": "2025-07-28T10:54:12.964441Z",
     "iopub.status.busy": "2025-07-28T10:54:12.963565Z",
     "iopub.status.idle": "2025-07-28T10:54:13.161204Z",
     "shell.execute_reply": "2025-07-28T10:54:13.160263Z"
    },
    "papermill": {
     "duration": 0.222892,
     "end_time": "2025-07-28T10:54:13.164293",
     "exception": false,
     "start_time": "2025-07-28T10:54:12.941401",
     "status": "completed"
    },
    "tags": []
   },
   "outputs": [
    {
     "data": {
      "text/plain": [
       "0.8659235313788876"
      ]
     },
     "execution_count": 38,
     "metadata": {},
     "output_type": "execute_result"
    }
   ],
   "source": [
    "probs_test = model.predict_proba(X_test)\n",
    "\n",
    "'''\n",
    "Below code returns a boolean array (or binary 0/1 array depending on how it’s used) where each element \n",
    "is True if the probability of class 1 is greater than or equal to the threshold, and False otherwise.\n",
    "'''\n",
    "y_pred_default = predict_w_threshold(probs_test, 0.5)\n",
    "\n",
    "from sklearn.metrics import accuracy_score\n",
    "\n",
    "# Naive prediction\n",
    "accuracy_score(y_true = y_true, y_pred = y_pred_default)"
   ]
  },
  {
   "cell_type": "code",
   "execution_count": 39,
   "id": "081964c3",
   "metadata": {
    "execution": {
     "iopub.execute_input": "2025-07-28T10:54:13.213242Z",
     "iopub.status.busy": "2025-07-28T10:54:13.212721Z",
     "iopub.status.idle": "2025-07-28T10:54:13.405002Z",
     "shell.execute_reply": "2025-07-28T10:54:13.403908Z"
    },
    "papermill": {
     "duration": 0.219334,
     "end_time": "2025-07-28T10:54:13.406861",
     "exception": false,
     "start_time": "2025-07-28T10:54:13.187527",
     "status": "completed"
    },
    "tags": []
   },
   "outputs": [
    {
     "data": {
      "text/plain": [
       "array([0, 0, 0, ..., 0, 0, 0])"
      ]
     },
     "execution_count": 39,
     "metadata": {},
     "output_type": "execute_result"
    }
   ],
   "source": [
    "model.predict(X_test)"
   ]
  },
  {
   "cell_type": "markdown",
   "id": "56c9705b",
   "metadata": {
    "papermill": {
     "duration": 0.024021,
     "end_time": "2025-07-28T10:54:13.455975",
     "exception": false,
     "start_time": "2025-07-28T10:54:13.431954",
     "status": "completed"
    },
    "tags": []
   },
   "source": [
    "# Conformal Prediction"
   ]
  },
  {
   "cell_type": "code",
   "execution_count": 40,
   "id": "160ec6ff",
   "metadata": {
    "execution": {
     "iopub.execute_input": "2025-07-28T10:54:13.506531Z",
     "iopub.status.busy": "2025-07-28T10:54:13.505881Z",
     "iopub.status.idle": "2025-07-28T10:54:13.511344Z",
     "shell.execute_reply": "2025-07-28T10:54:13.510311Z"
    },
    "papermill": {
     "duration": 0.032763,
     "end_time": "2025-07-28T10:54:13.513199",
     "exception": false,
     "start_time": "2025-07-28T10:54:13.480436",
     "status": "completed"
    },
    "tags": []
   },
   "outputs": [],
   "source": [
    "# Miscoverage level for conformal prediction (10% allowed error rate => 90% target coverage)\n",
    "alpha = 0.1"
   ]
  },
  {
   "cell_type": "code",
   "execution_count": 41,
   "id": "eadf4555-3dd3-440e-8e35-f82a4ad9f855",
   "metadata": {
    "execution": {
     "iopub.execute_input": "2025-07-28T10:54:13.563938Z",
     "iopub.status.busy": "2025-07-28T10:54:13.563209Z",
     "iopub.status.idle": "2025-07-28T10:54:13.748860Z",
     "shell.execute_reply": "2025-07-28T10:54:13.747873Z"
    },
    "papermill": {
     "duration": 0.213374,
     "end_time": "2025-07-28T10:54:13.751121",
     "exception": false,
     "start_time": "2025-07-28T10:54:13.537747",
     "status": "completed"
    },
    "tags": []
   },
   "outputs": [],
   "source": [
    "probs_calib = model.predict_proba(X_calib)"
   ]
  },
  {
   "cell_type": "code",
   "execution_count": 42,
   "id": "2ed93547-6d5d-4983-9b36-1ecb300da49a",
   "metadata": {
    "execution": {
     "iopub.execute_input": "2025-07-28T10:54:13.803122Z",
     "iopub.status.busy": "2025-07-28T10:54:13.802088Z",
     "iopub.status.idle": "2025-07-28T10:54:13.808648Z",
     "shell.execute_reply": "2025-07-28T10:54:13.807628Z"
    },
    "papermill": {
     "duration": 0.034037,
     "end_time": "2025-07-28T10:54:13.810470",
     "exception": false,
     "start_time": "2025-07-28T10:54:13.776433",
     "status": "completed"
    },
    "tags": []
   },
   "outputs": [],
   "source": [
    "y_calib = y_calib.values.ravel().astype(int)"
   ]
  },
  {
   "cell_type": "code",
   "execution_count": 43,
   "id": "65d1320d-f588-4b38-9072-62af1ae97f7d",
   "metadata": {
    "execution": {
     "iopub.execute_input": "2025-07-28T10:54:13.861780Z",
     "iopub.status.busy": "2025-07-28T10:54:13.860734Z",
     "iopub.status.idle": "2025-07-28T10:54:13.868828Z",
     "shell.execute_reply": "2025-07-28T10:54:13.867781Z"
    },
    "papermill": {
     "duration": 0.035693,
     "end_time": "2025-07-28T10:54:13.870594",
     "exception": false,
     "start_time": "2025-07-28T10:54:13.834901",
     "status": "completed"
    },
    "tags": []
   },
   "outputs": [],
   "source": [
    "from fairness_multiverse.conformal import compute_nc_scores\n",
    "\n",
    "# Compute nonconformity scores on calibration set (1 - probability of true class)\n",
    "nc_scores = compute_nc_scores(probs_calib, y_calib)"
   ]
  },
  {
   "cell_type": "code",
   "execution_count": 44,
   "id": "df3b8ca3-53b7-43d5-9667-7c85da7aeda2",
   "metadata": {
    "execution": {
     "iopub.execute_input": "2025-07-28T10:54:13.922027Z",
     "iopub.status.busy": "2025-07-28T10:54:13.921215Z",
     "iopub.status.idle": "2025-07-28T10:54:13.928527Z",
     "shell.execute_reply": "2025-07-28T10:54:13.927568Z"
    },
    "papermill": {
     "duration": 0.035,
     "end_time": "2025-07-28T10:54:13.930154",
     "exception": false,
     "start_time": "2025-07-28T10:54:13.895154",
     "status": "completed"
    },
    "tags": []
   },
   "outputs": [],
   "source": [
    "from fairness_multiverse.conformal import find_threshold\n",
    "\n",
    "# Find conformal threshold q_hat for the given alpha (split conformal method)\n",
    "q_hat = find_threshold(nc_scores, alpha)"
   ]
  },
  {
   "cell_type": "code",
   "execution_count": 45,
   "id": "4d29e6c1-0ef6-4aa4-b8fe-4fe79b0d033a",
   "metadata": {
    "execution": {
     "iopub.execute_input": "2025-07-28T10:54:13.981320Z",
     "iopub.status.busy": "2025-07-28T10:54:13.980609Z",
     "iopub.status.idle": "2025-07-28T10:54:13.988350Z",
     "shell.execute_reply": "2025-07-28T10:54:13.987382Z"
    },
    "papermill": {
     "duration": 0.035184,
     "end_time": "2025-07-28T10:54:13.990175",
     "exception": false,
     "start_time": "2025-07-28T10:54:13.954991",
     "status": "completed"
    },
    "tags": []
   },
   "outputs": [
    {
     "data": {
      "text/plain": [
       "0.6752926258191958"
      ]
     },
     "execution_count": 45,
     "metadata": {},
     "output_type": "execute_result"
    }
   ],
   "source": [
    "q_hat"
   ]
  },
  {
   "cell_type": "code",
   "execution_count": 46,
   "id": "92460794-cdac-4be2-ba28-f28c0515a6fb",
   "metadata": {
    "execution": {
     "iopub.execute_input": "2025-07-28T10:54:14.042250Z",
     "iopub.status.busy": "2025-07-28T10:54:14.041579Z",
     "iopub.status.idle": "2025-07-28T10:54:15.001949Z",
     "shell.execute_reply": "2025-07-28T10:54:15.000860Z"
    },
    "papermill": {
     "duration": 0.988739,
     "end_time": "2025-07-28T10:54:15.003925",
     "exception": false,
     "start_time": "2025-07-28T10:54:14.015186",
     "status": "completed"
    },
    "tags": []
   },
   "outputs": [],
   "source": [
    "from fairness_multiverse.conformal import predict_conformal_sets\n",
    "\n",
    "# Generate prediction sets for each test example\n",
    "pred_sets = predict_conformal_sets(model, X_test, q_hat)"
   ]
  },
  {
   "cell_type": "code",
   "execution_count": 47,
   "id": "d90c9a65-e6db-4f5d-80cd-e68fb7e46829",
   "metadata": {
    "execution": {
     "iopub.execute_input": "2025-07-28T10:54:15.084945Z",
     "iopub.status.busy": "2025-07-28T10:54:15.084242Z",
     "iopub.status.idle": "2025-07-28T10:54:15.090055Z",
     "shell.execute_reply": "2025-07-28T10:54:15.088949Z"
    },
    "papermill": {
     "duration": 0.063932,
     "end_time": "2025-07-28T10:54:15.091742",
     "exception": false,
     "start_time": "2025-07-28T10:54:15.027810",
     "status": "completed"
    },
    "tags": []
   },
   "outputs": [],
   "source": [
    "y_true = y_true.squeeze()"
   ]
  },
  {
   "cell_type": "code",
   "execution_count": 48,
   "id": "3a58a54a-1e68-46b9-927a-df01f18aebc8",
   "metadata": {
    "execution": {
     "iopub.execute_input": "2025-07-28T10:54:15.142690Z",
     "iopub.status.busy": "2025-07-28T10:54:15.142180Z",
     "iopub.status.idle": "2025-07-28T10:54:16.123608Z",
     "shell.execute_reply": "2025-07-28T10:54:16.122605Z"
    },
    "papermill": {
     "duration": 1.009315,
     "end_time": "2025-07-28T10:54:16.125645",
     "exception": false,
     "start_time": "2025-07-28T10:54:15.116330",
     "status": "completed"
    },
    "tags": []
   },
   "outputs": [],
   "source": [
    "from fairness_multiverse.conformal import evaluate_sets\n",
    "\n",
    "# Evaluate coverage and average set size on test data\n",
    "metrics = evaluate_sets(pred_sets, y_true)"
   ]
  },
  {
   "cell_type": "markdown",
   "id": "2b569c12-9aaa-4c88-98c9-bbcd0cf3ebb8",
   "metadata": {
    "papermill": {
     "duration": 0.023915,
     "end_time": "2025-07-28T10:54:16.173775",
     "exception": false,
     "start_time": "2025-07-28T10:54:16.149860",
     "status": "completed"
    },
    "tags": []
   },
   "source": [
    "# CP Metrics"
   ]
  },
  {
   "cell_type": "code",
   "execution_count": 49,
   "id": "5ce0a5cb-201f-45a0-ade5-94c7f0bd6095",
   "metadata": {
    "execution": {
     "iopub.execute_input": "2025-07-28T10:54:16.222233Z",
     "iopub.status.busy": "2025-07-28T10:54:16.221848Z",
     "iopub.status.idle": "2025-07-28T10:54:16.227964Z",
     "shell.execute_reply": "2025-07-28T10:54:16.227276Z"
    },
    "papermill": {
     "duration": 0.031557,
     "end_time": "2025-07-28T10:54:16.229395",
     "exception": false,
     "start_time": "2025-07-28T10:54:16.197838",
     "status": "completed"
    },
    "tags": []
   },
   "outputs": [
    {
     "data": {
      "text/plain": [
       "{'coverage': 0.9127076134210232, 'avg_size': 1.1227510868353583}"
      ]
     },
     "execution_count": 49,
     "metadata": {},
     "output_type": "execute_result"
    }
   ],
   "source": [
    "metrics"
   ]
  },
  {
   "cell_type": "code",
   "execution_count": 50,
   "id": "9b9a838d-31c9-430b-ae14-12baee460d17",
   "metadata": {
    "execution": {
     "iopub.execute_input": "2025-07-28T10:54:16.257893Z",
     "iopub.status.busy": "2025-07-28T10:54:16.257551Z",
     "iopub.status.idle": "2025-07-28T10:54:16.262535Z",
     "shell.execute_reply": "2025-07-28T10:54:16.261670Z"
    },
    "papermill": {
     "duration": 0.019643,
     "end_time": "2025-07-28T10:54:16.264147",
     "exception": false,
     "start_time": "2025-07-28T10:54:16.244504",
     "status": "completed"
    },
    "tags": []
   },
   "outputs": [],
   "source": [
    "example_universe = universe.copy()\n",
    "universe_training_size = example_universe.get(\"training_size\")\n",
    "universe_scale = example_universe.get(\"scale\")\n",
    "universe_model = example_universe.get(\"model\")\n",
    "universe_exclude_features = example_universe.get(\"exclude_features\")\n",
    "universe_exclude_subgroups = example_universe.get(\"exclude_subgroups\")"
   ]
  },
  {
   "cell_type": "code",
   "execution_count": 51,
   "id": "f4b6a8ac-9dc0-4245-8a91-5b3b5999c4f9",
   "metadata": {
    "execution": {
     "iopub.execute_input": "2025-07-28T10:54:16.313360Z",
     "iopub.status.busy": "2025-07-28T10:54:16.312736Z",
     "iopub.status.idle": "2025-07-28T10:54:16.317845Z",
     "shell.execute_reply": "2025-07-28T10:54:16.316962Z"
    },
    "papermill": {
     "duration": 0.031734,
     "end_time": "2025-07-28T10:54:16.319245",
     "exception": false,
     "start_time": "2025-07-28T10:54:16.287511",
     "status": "completed"
    },
    "tags": []
   },
   "outputs": [],
   "source": [
    "cp_metrics_dict = {\n",
    "    \"universe_id\": [universe_id],\n",
    "    \"universe_training_size\": [universe_training_size],\n",
    "    \"universe_scale\": [universe_scale],\n",
    "    \"universe_model\": [universe_model],\n",
    "    \"universe_exclude_features\": [universe_exclude_features],\n",
    "    \"universe_exclude_subgroups\": [universe_exclude_subgroups],\n",
    "    \"q_hat\": [q_hat],\n",
    "    \"coverage\": [metrics[\"coverage\"]],\n",
    "    \"avg_size\": [metrics[\"avg_size\"]],\n",
    "}"
   ]
  },
  {
   "cell_type": "code",
   "execution_count": 52,
   "id": "908acbb1-0371-4915-85ca-3fa520d2efe2",
   "metadata": {
    "execution": {
     "iopub.execute_input": "2025-07-28T10:54:16.367213Z",
     "iopub.status.busy": "2025-07-28T10:54:16.366736Z",
     "iopub.status.idle": "2025-07-28T10:54:16.374451Z",
     "shell.execute_reply": "2025-07-28T10:54:16.373510Z"
    },
    "papermill": {
     "duration": 0.032893,
     "end_time": "2025-07-28T10:54:16.375773",
     "exception": false,
     "start_time": "2025-07-28T10:54:16.342880",
     "status": "completed"
    },
    "tags": []
   },
   "outputs": [
    {
     "data": {
      "text/plain": [
       "{'universe_id': ['87b083cb4cb87df2f66401d0be894b45'],\n",
       " 'universe_training_size': ['2014'],\n",
       " 'universe_scale': ['scale'],\n",
       " 'universe_model': ['logreg'],\n",
       " 'universe_exclude_features': ['age'],\n",
       " 'universe_exclude_subgroups': ['keep-all'],\n",
       " 'q_hat': [0.6752926258191958],\n",
       " 'coverage': [0.9127076134210232],\n",
       " 'avg_size': [1.1227510868353583]}"
      ]
     },
     "execution_count": 52,
     "metadata": {},
     "output_type": "execute_result"
    }
   ],
   "source": [
    "cp_metrics_dict"
   ]
  },
  {
   "cell_type": "code",
   "execution_count": 53,
   "id": "33007efc-14e9-4ec6-97ac-56a455c82265",
   "metadata": {
    "execution": {
     "iopub.execute_input": "2025-07-28T10:54:16.425848Z",
     "iopub.status.busy": "2025-07-28T10:54:16.425340Z",
     "iopub.status.idle": "2025-07-28T10:54:16.431567Z",
     "shell.execute_reply": "2025-07-28T10:54:16.430620Z"
    },
    "papermill": {
     "duration": 0.034744,
     "end_time": "2025-07-28T10:54:16.433344",
     "exception": false,
     "start_time": "2025-07-28T10:54:16.398600",
     "status": "completed"
    },
    "tags": []
   },
   "outputs": [],
   "source": [
    "cp_metrics_df = pd.DataFrame(cp_metrics_dict)"
   ]
  },
  {
   "cell_type": "code",
   "execution_count": 54,
   "id": "db12611b-57b2-4910-b9d0-355adfd6e7bf",
   "metadata": {
    "execution": {
     "iopub.execute_input": "2025-07-28T10:54:16.485093Z",
     "iopub.status.busy": "2025-07-28T10:54:16.484592Z",
     "iopub.status.idle": "2025-07-28T10:54:16.505098Z",
     "shell.execute_reply": "2025-07-28T10:54:16.503891Z"
    },
    "papermill": {
     "duration": 0.048647,
     "end_time": "2025-07-28T10:54:16.506969",
     "exception": false,
     "start_time": "2025-07-28T10:54:16.458322",
     "status": "completed"
    },
    "tags": []
   },
   "outputs": [
    {
     "data": {
      "text/html": [
       "<div>\n",
       "<style scoped>\n",
       "    .dataframe tbody tr th:only-of-type {\n",
       "        vertical-align: middle;\n",
       "    }\n",
       "\n",
       "    .dataframe tbody tr th {\n",
       "        vertical-align: top;\n",
       "    }\n",
       "\n",
       "    .dataframe thead th {\n",
       "        text-align: right;\n",
       "    }\n",
       "</style>\n",
       "<table border=\"1\" class=\"dataframe\">\n",
       "  <thead>\n",
       "    <tr style=\"text-align: right;\">\n",
       "      <th></th>\n",
       "      <th>universe_id</th>\n",
       "      <th>universe_training_size</th>\n",
       "      <th>universe_scale</th>\n",
       "      <th>universe_model</th>\n",
       "      <th>universe_exclude_features</th>\n",
       "      <th>universe_exclude_subgroups</th>\n",
       "      <th>q_hat</th>\n",
       "      <th>coverage</th>\n",
       "      <th>avg_size</th>\n",
       "    </tr>\n",
       "  </thead>\n",
       "  <tbody>\n",
       "    <tr>\n",
       "      <th>0</th>\n",
       "      <td>87b083cb4cb87df2f66401d0be894b45</td>\n",
       "      <td>2014</td>\n",
       "      <td>scale</td>\n",
       "      <td>logreg</td>\n",
       "      <td>age</td>\n",
       "      <td>keep-all</td>\n",
       "      <td>0.675293</td>\n",
       "      <td>0.912708</td>\n",
       "      <td>1.122751</td>\n",
       "    </tr>\n",
       "  </tbody>\n",
       "</table>\n",
       "</div>"
      ],
      "text/plain": [
       "                        universe_id universe_training_size universe_scale  \\\n",
       "0  87b083cb4cb87df2f66401d0be894b45                   2014          scale   \n",
       "\n",
       "  universe_model universe_exclude_features universe_exclude_subgroups  \\\n",
       "0         logreg                       age                   keep-all   \n",
       "\n",
       "      q_hat  coverage  avg_size  \n",
       "0  0.675293  0.912708  1.122751  "
      ]
     },
     "execution_count": 54,
     "metadata": {},
     "output_type": "execute_result"
    }
   ],
   "source": [
    "cp_metrics_df"
   ]
  },
  {
   "cell_type": "code",
   "execution_count": 55,
   "id": "b7fbde55-a0a1-47e4-9af6-fe4a17fa8c61",
   "metadata": {
    "execution": {
     "iopub.execute_input": "2025-07-28T10:54:16.559823Z",
     "iopub.status.busy": "2025-07-28T10:54:16.559104Z",
     "iopub.status.idle": "2025-07-28T10:54:16.564835Z",
     "shell.execute_reply": "2025-07-28T10:54:16.563897Z"
    },
    "papermill": {
     "duration": 0.034751,
     "end_time": "2025-07-28T10:54:16.567087",
     "exception": false,
     "start_time": "2025-07-28T10:54:16.532336",
     "status": "completed"
    },
    "tags": []
   },
   "outputs": [],
   "source": [
    "# Conditional Coverage & looking at subgroups"
   ]
  },
  {
   "cell_type": "code",
   "execution_count": 56,
   "id": "027ae886-68dd-4141-96c7-805a5450e1ef",
   "metadata": {
    "execution": {
     "iopub.execute_input": "2025-07-28T10:54:16.619456Z",
     "iopub.status.busy": "2025-07-28T10:54:16.618971Z",
     "iopub.status.idle": "2025-07-28T10:54:16.873816Z",
     "shell.execute_reply": "2025-07-28T10:54:16.873028Z"
    },
    "papermill": {
     "duration": 0.283738,
     "end_time": "2025-07-28T10:54:16.875563",
     "exception": false,
     "start_time": "2025-07-28T10:54:16.591825",
     "status": "completed"
    },
    "tags": []
   },
   "outputs": [],
   "source": [
    "from fairness_multiverse.conformal import build_cp_groups\n",
    "\n",
    "cp_groups_df = build_cp_groups(pred_sets, y_true, X_test.index, org_test)\n",
    "#needs universe_id and setting"
   ]
  },
  {
   "cell_type": "code",
   "execution_count": 57,
   "id": "01d5802c-663a-4d1f-9d69-e036faaffbf7",
   "metadata": {
    "execution": {
     "iopub.execute_input": "2025-07-28T10:54:16.925962Z",
     "iopub.status.busy": "2025-07-28T10:54:16.925485Z",
     "iopub.status.idle": "2025-07-28T10:54:16.931101Z",
     "shell.execute_reply": "2025-07-28T10:54:16.930034Z"
    },
    "papermill": {
     "duration": 0.033035,
     "end_time": "2025-07-28T10:54:16.932797",
     "exception": false,
     "start_time": "2025-07-28T10:54:16.899762",
     "status": "completed"
    },
    "tags": []
   },
   "outputs": [],
   "source": [
    "#delete\n",
    "#cp_groups_df"
   ]
  },
  {
   "cell_type": "code",
   "execution_count": 58,
   "id": "fa424af1-d1eb-443d-b717-2d279ada8408",
   "metadata": {
    "execution": {
     "iopub.execute_input": "2025-07-28T10:54:16.982894Z",
     "iopub.status.busy": "2025-07-28T10:54:16.982171Z",
     "iopub.status.idle": "2025-07-28T10:54:16.987482Z",
     "shell.execute_reply": "2025-07-28T10:54:16.986508Z"
    },
    "papermill": {
     "duration": 0.032494,
     "end_time": "2025-07-28T10:54:16.989242",
     "exception": false,
     "start_time": "2025-07-28T10:54:16.956748",
     "status": "completed"
    },
    "tags": []
   },
   "outputs": [],
   "source": [
    "#delete\n",
    "#percentage = (cp_groups_df['nongerman_female'] == 1).mean() * 100\n",
    "#print(percentage)\n"
   ]
  },
  {
   "cell_type": "code",
   "execution_count": 59,
   "id": "6cbdab96-b2b2-45af-ad54-d0516db2e28d",
   "metadata": {
    "execution": {
     "iopub.execute_input": "2025-07-28T10:54:17.038916Z",
     "iopub.status.busy": "2025-07-28T10:54:17.038072Z",
     "iopub.status.idle": "2025-07-28T10:54:18.592978Z",
     "shell.execute_reply": "2025-07-28T10:54:18.592196Z"
    },
    "papermill": {
     "duration": 1.581512,
     "end_time": "2025-07-28T10:54:18.594877",
     "exception": false,
     "start_time": "2025-07-28T10:54:17.013365",
     "status": "completed"
    },
    "tags": []
   },
   "outputs": [],
   "source": [
    "# Define covered = 1 if true_label is in the predicted set\n",
    "cp_groups_df['covered'] = cp_groups_df.apply(\n",
    "    lambda r: int(r['true_label'] in r['pred_set']),\n",
    "    axis=1\n",
    ")"
   ]
  },
  {
   "cell_type": "code",
   "execution_count": 60,
   "id": "338ff529-1a6b-4b87-a931-8e4788d52aad",
   "metadata": {
    "execution": {
     "iopub.execute_input": "2025-07-28T10:54:18.650101Z",
     "iopub.status.busy": "2025-07-28T10:54:18.649578Z",
     "iopub.status.idle": "2025-07-28T10:54:18.654927Z",
     "shell.execute_reply": "2025-07-28T10:54:18.653854Z"
    },
    "papermill": {
     "duration": 0.036061,
     "end_time": "2025-07-28T10:54:18.656599",
     "exception": false,
     "start_time": "2025-07-28T10:54:18.620538",
     "status": "completed"
    },
    "tags": []
   },
   "outputs": [],
   "source": [
    "#cp_groups_df"
   ]
  },
  {
   "cell_type": "code",
   "execution_count": 61,
   "id": "90032e27-66df-4540-9169-4e89cfbaa758",
   "metadata": {
    "execution": {
     "iopub.execute_input": "2025-07-28T10:54:18.708088Z",
     "iopub.status.busy": "2025-07-28T10:54:18.707541Z",
     "iopub.status.idle": "2025-07-28T10:54:18.719711Z",
     "shell.execute_reply": "2025-07-28T10:54:18.718708Z"
    },
    "papermill": {
     "duration": 0.040033,
     "end_time": "2025-07-28T10:54:18.721430",
     "exception": false,
     "start_time": "2025-07-28T10:54:18.681397",
     "status": "completed"
    },
    "tags": []
   },
   "outputs": [],
   "source": [
    "subgroups = ['frau1','nongerman','nongerman_male','nongerman_female']\n",
    "\n",
    "# Conditional coverage for subgroup==1\n",
    "cond_coverage = {\n",
    "    g: cp_groups_df.loc[cp_groups_df[g]==1, 'covered'].mean()\n",
    "    for g in subgroups\n",
    "}"
   ]
  },
  {
   "cell_type": "code",
   "execution_count": 62,
   "id": "1e348fb1-b9c3-45bc-ba23-f016827a7e0d",
   "metadata": {
    "execution": {
     "iopub.execute_input": "2025-07-28T10:54:18.774798Z",
     "iopub.status.busy": "2025-07-28T10:54:18.774427Z",
     "iopub.status.idle": "2025-07-28T10:54:18.781197Z",
     "shell.execute_reply": "2025-07-28T10:54:18.780202Z"
    },
    "papermill": {
     "duration": 0.035596,
     "end_time": "2025-07-28T10:54:18.782947",
     "exception": false,
     "start_time": "2025-07-28T10:54:18.747351",
     "status": "completed"
    },
    "tags": []
   },
   "outputs": [
    {
     "data": {
      "text/plain": [
       "{'frau1': 0.9117670845127376,\n",
       " 'nongerman': 0.9093920170661877,\n",
       " 'nongerman_male': 0.9252454291632892,\n",
       " 'nongerman_female': 0.8831594634873323}"
      ]
     },
     "execution_count": 62,
     "metadata": {},
     "output_type": "execute_result"
    }
   ],
   "source": [
    "cond_coverage"
   ]
  },
  {
   "cell_type": "code",
   "execution_count": 63,
   "id": "f5093324-c3dd-4d63-bc4c-8d945e5c8bbb",
   "metadata": {
    "execution": {
     "iopub.execute_input": "2025-07-28T10:54:18.839336Z",
     "iopub.status.busy": "2025-07-28T10:54:18.838721Z",
     "iopub.status.idle": "2025-07-28T10:54:18.847123Z",
     "shell.execute_reply": "2025-07-28T10:54:18.846116Z"
    },
    "papermill": {
     "duration": 0.038561,
     "end_time": "2025-07-28T10:54:18.848563",
     "exception": false,
     "start_time": "2025-07-28T10:54:18.810002",
     "status": "completed"
    },
    "tags": []
   },
   "outputs": [],
   "source": [
    "for subgroup, cov in cond_coverage.items():\n",
    "    cp_metrics_df[f\"cov_{subgroup}\"] = cov"
   ]
  },
  {
   "cell_type": "code",
   "execution_count": 64,
   "id": "6e872e10-dbe5-49e8-b554-5030c98ff75d",
   "metadata": {
    "execution": {
     "iopub.execute_input": "2025-07-28T10:54:18.902134Z",
     "iopub.status.busy": "2025-07-28T10:54:18.901823Z",
     "iopub.status.idle": "2025-07-28T10:54:18.921864Z",
     "shell.execute_reply": "2025-07-28T10:54:18.920927Z"
    },
    "papermill": {
     "duration": 0.04711,
     "end_time": "2025-07-28T10:54:18.923603",
     "exception": false,
     "start_time": "2025-07-28T10:54:18.876493",
     "status": "completed"
    },
    "tags": []
   },
   "outputs": [
    {
     "data": {
      "text/html": [
       "<div>\n",
       "<style scoped>\n",
       "    .dataframe tbody tr th:only-of-type {\n",
       "        vertical-align: middle;\n",
       "    }\n",
       "\n",
       "    .dataframe tbody tr th {\n",
       "        vertical-align: top;\n",
       "    }\n",
       "\n",
       "    .dataframe thead th {\n",
       "        text-align: right;\n",
       "    }\n",
       "</style>\n",
       "<table border=\"1\" class=\"dataframe\">\n",
       "  <thead>\n",
       "    <tr style=\"text-align: right;\">\n",
       "      <th></th>\n",
       "      <th>universe_id</th>\n",
       "      <th>universe_training_size</th>\n",
       "      <th>universe_scale</th>\n",
       "      <th>universe_model</th>\n",
       "      <th>universe_exclude_features</th>\n",
       "      <th>universe_exclude_subgroups</th>\n",
       "      <th>q_hat</th>\n",
       "      <th>coverage</th>\n",
       "      <th>avg_size</th>\n",
       "      <th>cov_frau1</th>\n",
       "      <th>cov_nongerman</th>\n",
       "      <th>cov_nongerman_male</th>\n",
       "      <th>cov_nongerman_female</th>\n",
       "    </tr>\n",
       "  </thead>\n",
       "  <tbody>\n",
       "    <tr>\n",
       "      <th>0</th>\n",
       "      <td>87b083cb4cb87df2f66401d0be894b45</td>\n",
       "      <td>2014</td>\n",
       "      <td>scale</td>\n",
       "      <td>logreg</td>\n",
       "      <td>age</td>\n",
       "      <td>keep-all</td>\n",
       "      <td>0.675293</td>\n",
       "      <td>0.912708</td>\n",
       "      <td>1.122751</td>\n",
       "      <td>0.911767</td>\n",
       "      <td>0.909392</td>\n",
       "      <td>0.925245</td>\n",
       "      <td>0.883159</td>\n",
       "    </tr>\n",
       "  </tbody>\n",
       "</table>\n",
       "</div>"
      ],
      "text/plain": [
       "                        universe_id universe_training_size universe_scale  \\\n",
       "0  87b083cb4cb87df2f66401d0be894b45                   2014          scale   \n",
       "\n",
       "  universe_model universe_exclude_features universe_exclude_subgroups  \\\n",
       "0         logreg                       age                   keep-all   \n",
       "\n",
       "      q_hat  coverage  avg_size  cov_frau1  cov_nongerman  cov_nongerman_male  \\\n",
       "0  0.675293  0.912708  1.122751   0.911767       0.909392            0.925245   \n",
       "\n",
       "   cov_nongerman_female  \n",
       "0              0.883159  "
      ]
     },
     "execution_count": 64,
     "metadata": {},
     "output_type": "execute_result"
    }
   ],
   "source": [
    "cp_metrics_df"
   ]
  },
  {
   "cell_type": "markdown",
   "id": "33774451",
   "metadata": {
    "papermill": {
     "duration": 0.024787,
     "end_time": "2025-07-28T10:54:18.974969",
     "exception": false,
     "start_time": "2025-07-28T10:54:18.950182",
     "status": "completed"
    },
    "tags": []
   },
   "source": [
    "# (Fairness) Metrics"
   ]
  },
  {
   "cell_type": "code",
   "execution_count": 65,
   "id": "debc5d62",
   "metadata": {
    "execution": {
     "iopub.execute_input": "2025-07-28T10:54:19.029067Z",
     "iopub.status.busy": "2025-07-28T10:54:19.028152Z",
     "iopub.status.idle": "2025-07-28T10:54:19.051283Z",
     "shell.execute_reply": "2025-07-28T10:54:19.050330Z"
    },
    "papermill": {
     "duration": 0.052903,
     "end_time": "2025-07-28T10:54:19.053305",
     "exception": false,
     "start_time": "2025-07-28T10:54:19.000402",
     "status": "completed"
    },
    "tags": []
   },
   "outputs": [],
   "source": [
    "# do I need to include maxdeutsch1.missing?\n",
    "\n",
    "import numpy as np\n",
    "\n",
    "colname_to_bin = \"maxdeutsch1\"\n",
    "majority_value = org_train[colname_to_bin].mode()[0]\n",
    "\n",
    "org_test[\"majmin\"] = np.where(org_test[colname_to_bin] == majority_value, \"majority\", \"minority\")"
   ]
  },
  {
   "cell_type": "code",
   "execution_count": 66,
   "id": "06a50de5",
   "metadata": {
    "execution": {
     "iopub.execute_input": "2025-07-28T10:54:19.108652Z",
     "iopub.status.busy": "2025-07-28T10:54:19.107658Z",
     "iopub.status.idle": "2025-07-28T10:54:22.073739Z",
     "shell.execute_reply": "2025-07-28T10:54:22.072568Z"
    },
    "papermill": {
     "duration": 2.995946,
     "end_time": "2025-07-28T10:54:22.075889",
     "exception": false,
     "start_time": "2025-07-28T10:54:19.079943",
     "status": "completed"
    },
    "tags": []
   },
   "outputs": [],
   "source": [
    "example_universe = universe.copy()\n",
    "example_universe[\"cutoff\"] = example_universe[\"cutoff\"][0]\n",
    "example_universe[\"eval_fairness_grouping\"] = example_universe[\"eval_fairness_grouping\"][0]\n",
    "fairness_dict, metric_frame = universe_analysis.compute_metrics(\n",
    "    example_universe,\n",
    "    y_pred_prob=probs_test,\n",
    "    y_test=y_true,\n",
    "    org_test=org_test,\n",
    ")"
   ]
  },
  {
   "cell_type": "markdown",
   "id": "f95d4e02",
   "metadata": {
    "papermill": {
     "duration": 0.025489,
     "end_time": "2025-07-28T10:54:22.128968",
     "exception": false,
     "start_time": "2025-07-28T10:54:22.103479",
     "status": "completed"
    },
    "tags": []
   },
   "source": [
    "# Overall"
   ]
  },
  {
   "cell_type": "markdown",
   "id": "bdee4871",
   "metadata": {
    "papermill": {
     "duration": 0.026362,
     "end_time": "2025-07-28T10:54:22.180675",
     "exception": false,
     "start_time": "2025-07-28T10:54:22.154313",
     "status": "completed"
    },
    "tags": []
   },
   "source": [
    "Fairness\n",
    "Main fairness target: Equalized Odds. Seems to be a better fit than equal opportunity, since we're not only interested in Y = 1. Seems to be a better fit than demographic parity, since we also care about accuracy, not just equal distribution of preds.\n",
    "\n",
    "Pick column for computation of fairness metrics\n",
    "\n",
    "Performance\n",
    "Overall performance measures, most interesting in relation to the measures split by group below"
   ]
  },
  {
   "cell_type": "code",
   "execution_count": 67,
   "id": "c4e067c6",
   "metadata": {
    "execution": {
     "iopub.execute_input": "2025-07-28T10:54:22.234086Z",
     "iopub.status.busy": "2025-07-28T10:54:22.233369Z",
     "iopub.status.idle": "2025-07-28T10:54:22.242927Z",
     "shell.execute_reply": "2025-07-28T10:54:22.241842Z"
    },
    "papermill": {
     "duration": 0.038864,
     "end_time": "2025-07-28T10:54:22.244702",
     "exception": false,
     "start_time": "2025-07-28T10:54:22.205838",
     "status": "completed"
    },
    "tags": []
   },
   "outputs": [
    {
     "data": {
      "text/plain": [
       "accuracy                   0.225359\n",
       "balanced accuracy          0.550829\n",
       "f1                         0.246664\n",
       "precision                  0.140911\n",
       "false positive rate        0.886959\n",
       "false negative rate        0.011383\n",
       "selection rate             0.900000\n",
       "count                  89710.000000\n",
       "dtype: float64"
      ]
     },
     "execution_count": 67,
     "metadata": {},
     "output_type": "execute_result"
    }
   ],
   "source": [
    "metric_frame.overall"
   ]
  },
  {
   "cell_type": "markdown",
   "id": "e968fe9d",
   "metadata": {
    "papermill": {
     "duration": 0.031596,
     "end_time": "2025-07-28T10:54:22.307656",
     "exception": false,
     "start_time": "2025-07-28T10:54:22.276060",
     "status": "completed"
    },
    "tags": []
   },
   "source": [
    "By Group"
   ]
  },
  {
   "cell_type": "code",
   "execution_count": 68,
   "id": "ec325bce",
   "metadata": {
    "execution": {
     "iopub.execute_input": "2025-07-28T10:54:22.373227Z",
     "iopub.status.busy": "2025-07-28T10:54:22.372517Z",
     "iopub.status.idle": "2025-07-28T10:54:22.389427Z",
     "shell.execute_reply": "2025-07-28T10:54:22.388241Z"
    },
    "papermill": {
     "duration": 0.052045,
     "end_time": "2025-07-28T10:54:22.391476",
     "exception": false,
     "start_time": "2025-07-28T10:54:22.339431",
     "status": "completed"
    },
    "tags": []
   },
   "outputs": [
    {
     "data": {
      "text/html": [
       "<div>\n",
       "<style scoped>\n",
       "    .dataframe tbody tr th:only-of-type {\n",
       "        vertical-align: middle;\n",
       "    }\n",
       "\n",
       "    .dataframe tbody tr th {\n",
       "        vertical-align: top;\n",
       "    }\n",
       "\n",
       "    .dataframe thead th {\n",
       "        text-align: right;\n",
       "    }\n",
       "</style>\n",
       "<table border=\"1\" class=\"dataframe\">\n",
       "  <thead>\n",
       "    <tr style=\"text-align: right;\">\n",
       "      <th></th>\n",
       "      <th>accuracy</th>\n",
       "      <th>balanced accuracy</th>\n",
       "      <th>f1</th>\n",
       "      <th>precision</th>\n",
       "      <th>false positive rate</th>\n",
       "      <th>false negative rate</th>\n",
       "      <th>selection rate</th>\n",
       "      <th>count</th>\n",
       "    </tr>\n",
       "    <tr>\n",
       "      <th>majmin</th>\n",
       "      <th></th>\n",
       "      <th></th>\n",
       "      <th></th>\n",
       "      <th></th>\n",
       "      <th></th>\n",
       "      <th></th>\n",
       "      <th></th>\n",
       "      <th></th>\n",
       "    </tr>\n",
       "  </thead>\n",
       "  <tbody>\n",
       "    <tr>\n",
       "      <th>majority</th>\n",
       "      <td>0.248735</td>\n",
       "      <td>0.561656</td>\n",
       "      <td>0.257717</td>\n",
       "      <td>0.148208</td>\n",
       "      <td>0.863668</td>\n",
       "      <td>0.013020</td>\n",
       "      <td>0.879962</td>\n",
       "      <td>69170.0</td>\n",
       "    </tr>\n",
       "    <tr>\n",
       "      <th>minority</th>\n",
       "      <td>0.146641</td>\n",
       "      <td>0.515516</td>\n",
       "      <td>0.211871</td>\n",
       "      <td>0.118559</td>\n",
       "      <td>0.963901</td>\n",
       "      <td>0.005068</td>\n",
       "      <td>0.967478</td>\n",
       "      <td>20540.0</td>\n",
       "    </tr>\n",
       "  </tbody>\n",
       "</table>\n",
       "</div>"
      ],
      "text/plain": [
       "          accuracy  balanced accuracy        f1  precision  \\\n",
       "majmin                                                       \n",
       "majority  0.248735           0.561656  0.257717   0.148208   \n",
       "minority  0.146641           0.515516  0.211871   0.118559   \n",
       "\n",
       "          false positive rate  false negative rate  selection rate    count  \n",
       "majmin                                                                       \n",
       "majority             0.863668             0.013020        0.879962  69170.0  \n",
       "minority             0.963901             0.005068        0.967478  20540.0  "
      ]
     },
     "execution_count": 68,
     "metadata": {},
     "output_type": "execute_result"
    }
   ],
   "source": [
    "metric_frame.by_group"
   ]
  },
  {
   "cell_type": "code",
   "execution_count": 69,
   "id": "a9ddbe63",
   "metadata": {
    "execution": {
     "iopub.execute_input": "2025-07-28T10:54:22.459499Z",
     "iopub.status.busy": "2025-07-28T10:54:22.458755Z",
     "iopub.status.idle": "2025-07-28T10:54:24.871666Z",
     "shell.execute_reply": "2025-07-28T10:54:24.870516Z"
    },
    "papermill": {
     "duration": 2.44911,
     "end_time": "2025-07-28T10:54:24.873949",
     "exception": false,
     "start_time": "2025-07-28T10:54:22.424839",
     "status": "completed"
    },
    "tags": []
   },
   "outputs": [
    {
     "data": {
      "text/plain": [
       "array([[<Axes: title={'center': 'accuracy'}, xlabel='majmin'>,\n",
       "        <Axes: title={'center': 'balanced accuracy'}, xlabel='majmin'>,\n",
       "        <Axes: title={'center': 'f1'}, xlabel='majmin'>],\n",
       "       [<Axes: title={'center': 'precision'}, xlabel='majmin'>,\n",
       "        <Axes: title={'center': 'false positive rate'}, xlabel='majmin'>,\n",
       "        <Axes: title={'center': 'false negative rate'}, xlabel='majmin'>],\n",
       "       [<Axes: title={'center': 'selection rate'}, xlabel='majmin'>,\n",
       "        <Axes: title={'center': 'count'}, xlabel='majmin'>,\n",
       "        <Axes: xlabel='majmin'>]], dtype=object)"
      ]
     },
     "execution_count": 69,
     "metadata": {},
     "output_type": "execute_result"
    },
    {
     "data": {
      "image/png": "[encoded data removed]",
      "text/plain": [
       "<Figure size 1200x800 with 9 Axes>"
      ]
     },
     "metadata": {},
     "output_type": "display_data"
    }
   ],
   "source": [
    "# In a graphic\n",
    "metric_frame.by_group.plot.bar(\n",
    "    subplots=True,\n",
    "    layout=[3, 3],\n",
    "    legend=False,\n",
    "    figsize=[12, 8],\n",
    "    title=\"Show all metrics\",\n",
    ")"
   ]
  },
  {
   "cell_type": "markdown",
   "id": "f57a0bac",
   "metadata": {
    "papermill": {
     "duration": 0.03689,
     "end_time": "2025-07-28T10:54:24.950601",
     "exception": false,
     "start_time": "2025-07-28T10:54:24.913711",
     "status": "completed"
    },
    "tags": []
   },
   "source": [
    "# Final Output"
   ]
  },
  {
   "cell_type": "code",
   "execution_count": 70,
   "id": "96d280a3",
   "metadata": {
    "execution": {
     "iopub.execute_input": "2025-07-28T10:54:25.032766Z",
     "iopub.status.busy": "2025-07-28T10:54:25.032015Z",
     "iopub.status.idle": "2025-07-28T10:54:25.040538Z",
     "shell.execute_reply": "2025-07-28T10:54:25.039437Z"
    },
    "papermill": {
     "duration": 0.052305,
     "end_time": "2025-07-28T10:54:25.042623",
     "exception": false,
     "start_time": "2025-07-28T10:54:24.990318",
     "status": "completed"
    },
    "tags": []
   },
   "outputs": [
    {
     "data": {
      "text/plain": [
       "4"
      ]
     },
     "execution_count": 70,
     "metadata": {},
     "output_type": "execute_result"
    }
   ],
   "source": [
    "sub_universes = universe_analysis.generate_sub_universes()\n",
    "len(sub_universes)"
   ]
  },
  {
   "cell_type": "code",
   "execution_count": 71,
   "id": "92adf7ba",
   "metadata": {
    "execution": {
     "iopub.execute_input": "2025-07-28T10:54:25.123289Z",
     "iopub.status.busy": "2025-07-28T10:54:25.122796Z",
     "iopub.status.idle": "2025-07-28T10:54:25.130478Z",
     "shell.execute_reply": "2025-07-28T10:54:25.129278Z"
    },
    "papermill": {
     "duration": 0.051323,
     "end_time": "2025-07-28T10:54:25.132308",
     "exception": false,
     "start_time": "2025-07-28T10:54:25.080985",
     "status": "completed"
    },
    "tags": []
   },
   "outputs": [],
   "source": [
    "def filter_sub_universe_data(sub_universe, org_test):\n",
    "    # Keep all rows — no filtering\n",
    "    keep_rows_mask = np.ones(org_test.shape[0], dtype=bool)\n",
    "\n",
    "    print(f\"[INFO] Keeping all rows: {keep_rows_mask.sum()} rows retained.\")\n",
    "    return keep_rows_mask"
   ]
  },
  {
   "cell_type": "code",
   "execution_count": 72,
   "id": "4a759155",
   "metadata": {
    "execution": {
     "iopub.execute_input": "2025-07-28T10:54:25.193232Z",
     "iopub.status.busy": "2025-07-28T10:54:25.192215Z",
     "iopub.status.idle": "2025-07-28T10:54:36.495364Z",
     "shell.execute_reply": "2025-07-28T10:54:36.494173Z"
    },
    "papermill": {
     "duration": 11.335129,
     "end_time": "2025-07-28T10:54:36.497175",
     "exception": false,
     "start_time": "2025-07-28T10:54:25.162046",
     "status": "completed"
    },
    "tags": []
   },
   "outputs": [
    {
     "name": "stdout",
     "output_type": "stream",
     "text": [
      "Stopping execution_time clock.\n",
      "[INFO] Keeping all rows: 89710 rows retained.\n"
     ]
    },
    {
     "name": "stdout",
     "output_type": "stream",
     "text": [
      "[INFO] Keeping all rows: 89710 rows retained.\n"
     ]
    },
    {
     "name": "stdout",
     "output_type": "stream",
     "text": [
      "[INFO] Keeping all rows: 89710 rows retained.\n"
     ]
    },
    {
     "name": "stdout",
     "output_type": "stream",
     "text": [
      "[INFO] Keeping all rows: 89710 rows retained.\n"
     ]
    },
    {
     "data": {
      "text/html": [
       "<div>\n",
       "<style scoped>\n",
       "    .dataframe tbody tr th:only-of-type {\n",
       "        vertical-align: middle;\n",
       "    }\n",
       "\n",
       "    .dataframe tbody tr th {\n",
       "        vertical-align: top;\n",
       "    }\n",
       "\n",
       "    .dataframe thead th {\n",
       "        text-align: right;\n",
       "    }\n",
       "</style>\n",
       "<table border=\"1\" class=\"dataframe\">\n",
       "  <thead>\n",
       "    <tr style=\"text-align: right;\">\n",
       "      <th></th>\n",
       "      <th>run_no</th>\n",
       "      <th>universe_id</th>\n",
       "      <th>universe_settings</th>\n",
       "      <th>execution_time</th>\n",
       "      <th>test_size_n</th>\n",
       "      <th>test_size_frac</th>\n",
       "      <th>fair_main_equalized_odds_difference</th>\n",
       "      <th>fair_main_equalized_odds_ratio</th>\n",
       "      <th>fair_main_demographic_parity_difference</th>\n",
       "      <th>fair_main_demographic_parity_ratio</th>\n",
       "      <th>...</th>\n",
       "      <th>perf_grp_precision_0</th>\n",
       "      <th>perf_grp_precision_1</th>\n",
       "      <th>perf_grp_false positive rate_0</th>\n",
       "      <th>perf_grp_false positive rate_1</th>\n",
       "      <th>perf_grp_false negative rate_0</th>\n",
       "      <th>perf_grp_false negative rate_1</th>\n",
       "      <th>perf_grp_selection rate_0</th>\n",
       "      <th>perf_grp_selection rate_1</th>\n",
       "      <th>perf_grp_count_0</th>\n",
       "      <th>perf_grp_count_1</th>\n",
       "    </tr>\n",
       "  </thead>\n",
       "  <tbody>\n",
       "    <tr>\n",
       "      <th>0</th>\n",
       "      <td>11</td>\n",
       "      <td>87b083cb4cb87df2f66401d0be894b45</td>\n",
       "      <td>{\"cutoff\": \"quantile_0.1\", \"eval_fairness_grou...</td>\n",
       "      <td>31.57193</td>\n",
       "      <td>89710</td>\n",
       "      <td>1.0</td>\n",
       "      <td>0.100232</td>\n",
       "      <td>0.896014</td>\n",
       "      <td>0.087516</td>\n",
       "      <td>0.909542</td>\n",
       "      <td>...</td>\n",
       "      <td>NaN</td>\n",
       "      <td>NaN</td>\n",
       "      <td>NaN</td>\n",
       "      <td>NaN</td>\n",
       "      <td>NaN</td>\n",
       "      <td>NaN</td>\n",
       "      <td>NaN</td>\n",
       "      <td>NaN</td>\n",
       "      <td>NaN</td>\n",
       "      <td>NaN</td>\n",
       "    </tr>\n",
       "    <tr>\n",
       "      <th>0</th>\n",
       "      <td>11</td>\n",
       "      <td>87b083cb4cb87df2f66401d0be894b45</td>\n",
       "      <td>{\"cutoff\": \"quantile_0.1\", \"eval_fairness_grou...</td>\n",
       "      <td>31.57193</td>\n",
       "      <td>89710</td>\n",
       "      <td>1.0</td>\n",
       "      <td>0.100232</td>\n",
       "      <td>0.896014</td>\n",
       "      <td>0.087516</td>\n",
       "      <td>0.909542</td>\n",
       "      <td>...</td>\n",
       "      <td>0.118559</td>\n",
       "      <td>0.148208</td>\n",
       "      <td>0.963901</td>\n",
       "      <td>0.863668</td>\n",
       "      <td>0.005068</td>\n",
       "      <td>0.013020</td>\n",
       "      <td>0.967478</td>\n",
       "      <td>0.879962</td>\n",
       "      <td>20540.0</td>\n",
       "      <td>69170.0</td>\n",
       "    </tr>\n",
       "    <tr>\n",
       "      <th>0</th>\n",
       "      <td>11</td>\n",
       "      <td>87b083cb4cb87df2f66401d0be894b45</td>\n",
       "      <td>{\"cutoff\": \"quantile_0.25\", \"eval_fairness_gro...</td>\n",
       "      <td>31.57193</td>\n",
       "      <td>89710</td>\n",
       "      <td>1.0</td>\n",
       "      <td>0.178342</td>\n",
       "      <td>0.791961</td>\n",
       "      <td>0.155591</td>\n",
       "      <td>0.821152</td>\n",
       "      <td>...</td>\n",
       "      <td>NaN</td>\n",
       "      <td>NaN</td>\n",
       "      <td>NaN</td>\n",
       "      <td>NaN</td>\n",
       "      <td>NaN</td>\n",
       "      <td>NaN</td>\n",
       "      <td>NaN</td>\n",
       "      <td>NaN</td>\n",
       "      <td>NaN</td>\n",
       "      <td>NaN</td>\n",
       "    </tr>\n",
       "    <tr>\n",
       "      <th>0</th>\n",
       "      <td>11</td>\n",
       "      <td>87b083cb4cb87df2f66401d0be894b45</td>\n",
       "      <td>{\"cutoff\": \"quantile_0.25\", \"eval_fairness_gro...</td>\n",
       "      <td>31.57193</td>\n",
       "      <td>89710</td>\n",
       "      <td>1.0</td>\n",
       "      <td>0.178342</td>\n",
       "      <td>0.791961</td>\n",
       "      <td>0.155591</td>\n",
       "      <td>0.821152</td>\n",
       "      <td>...</td>\n",
       "      <td>0.128211</td>\n",
       "      <td>0.175217</td>\n",
       "      <td>0.857253</td>\n",
       "      <td>0.678911</td>\n",
       "      <td>0.032517</td>\n",
       "      <td>0.052735</td>\n",
       "      <td>0.869961</td>\n",
       "      <td>0.714370</td>\n",
       "      <td>20540.0</td>\n",
       "      <td>69170.0</td>\n",
       "    </tr>\n",
       "  </tbody>\n",
       "</table>\n",
       "<p>4 rows × 50 columns</p>\n",
       "</div>"
      ],
      "text/plain": [
       "  run_no                       universe_id  \\\n",
       "0     11  87b083cb4cb87df2f66401d0be894b45   \n",
       "0     11  87b083cb4cb87df2f66401d0be894b45   \n",
       "0     11  87b083cb4cb87df2f66401d0be894b45   \n",
       "0     11  87b083cb4cb87df2f66401d0be894b45   \n",
       "\n",
       "                                   universe_settings  execution_time  \\\n",
       "0  {\"cutoff\": \"quantile_0.1\", \"eval_fairness_grou...        31.57193   \n",
       "0  {\"cutoff\": \"quantile_0.1\", \"eval_fairness_grou...        31.57193   \n",
       "0  {\"cutoff\": \"quantile_0.25\", \"eval_fairness_gro...        31.57193   \n",
       "0  {\"cutoff\": \"quantile_0.25\", \"eval_fairness_gro...        31.57193   \n",
       "\n",
       "   test_size_n  test_size_frac  fair_main_equalized_odds_difference  \\\n",
       "0        89710             1.0                             0.100232   \n",
       "0        89710             1.0                             0.100232   \n",
       "0        89710             1.0                             0.178342   \n",
       "0        89710             1.0                             0.178342   \n",
       "\n",
       "   fair_main_equalized_odds_ratio  fair_main_demographic_parity_difference  \\\n",
       "0                        0.896014                                 0.087516   \n",
       "0                        0.896014                                 0.087516   \n",
       "0                        0.791961                                 0.155591   \n",
       "0                        0.791961                                 0.155591   \n",
       "\n",
       "   fair_main_demographic_parity_ratio  ...  perf_grp_precision_0  \\\n",
       "0                            0.909542  ...                   NaN   \n",
       "0                            0.909542  ...              0.118559   \n",
       "0                            0.821152  ...                   NaN   \n",
       "0                            0.821152  ...              0.128211   \n",
       "\n",
       "   perf_grp_precision_1  perf_grp_false positive rate_0  \\\n",
       "0                   NaN                             NaN   \n",
       "0              0.148208                        0.963901   \n",
       "0                   NaN                             NaN   \n",
       "0              0.175217                        0.857253   \n",
       "\n",
       "   perf_grp_false positive rate_1  perf_grp_false negative rate_0  \\\n",
       "0                             NaN                             NaN   \n",
       "0                        0.863668                        0.005068   \n",
       "0                             NaN                             NaN   \n",
       "0                        0.678911                        0.032517   \n",
       "\n",
       "   perf_grp_false negative rate_1  perf_grp_selection rate_0  \\\n",
       "0                             NaN                        NaN   \n",
       "0                        0.013020                   0.967478   \n",
       "0                             NaN                        NaN   \n",
       "0                        0.052735                   0.869961   \n",
       "\n",
       "   perf_grp_selection rate_1  perf_grp_count_0  perf_grp_count_1  \n",
       "0                        NaN               NaN               NaN  \n",
       "0                   0.879962           20540.0           69170.0  \n",
       "0                        NaN               NaN               NaN  \n",
       "0                   0.714370           20540.0           69170.0  \n",
       "\n",
       "[4 rows x 50 columns]"
      ]
     },
     "execution_count": 72,
     "metadata": {},
     "output_type": "execute_result"
    }
   ],
   "source": [
    "final_output = universe_analysis.generate_final_output(\n",
    "    y_pred_prob=probs_test,\n",
    "    y_test=y_true,\n",
    "    org_test=org_test,\n",
    "    filter_data=filter_sub_universe_data,\n",
    "    cp_metrics_df=cp_metrics_df,\n",
    "    save=True,\n",
    ")\n",
    "final_output"
   ]
  },
  {
   "cell_type": "code",
   "execution_count": null,
   "id": "721ff514-cb11-46f8-b6fc-50392f74b5cb",
   "metadata": {
    "papermill": {
     "duration": 0.030426,
     "end_time": "2025-07-28T10:54:36.562524",
     "exception": false,
     "start_time": "2025-07-28T10:54:36.532098",
     "status": "completed"
    },
    "tags": []
   },
   "outputs": [],
   "source": []
  }
 ],
 "metadata": {
  "celltoolbar": "Tags",
  "kernelspec": {
   "display_name": "Python (CMA Fairness)",
   "language": "python",
   "name": "cma_fair_env"
  },
  "language_info": {
   "codemirror_mode": {
    "name": "ipython",
    "version": 3
   },
   "file_extension": ".py",
   "mimetype": "text/x-python",
   "name": "python",
   "nbconvert_exporter": "python",
   "pygments_lexer": "ipython3",
   "version": "3.10.12"
  },
  "papermill": {
   "default_parameters": {},
   "duration": 47.54492,
   "end_time": "2025-07-28T10:54:37.414270",
   "environment_variables": {},
   "exception": null,
   "input_path": "universe_analysis.ipynb",
   "output_path": "output/runs/11/notebooks/m_11-87b083cb4cb87df2f66401d0be894b45.ipynb",
   "parameters": {
    "output_dir": "output",
    "run_no": "11",
    "seed": "2023",
    "universe": "{\"cutoff\": [\"quantile_0.1\", \"quantile_0.25\"], \"eval_fairness_grouping\": [\"majority-minority\", \"nationality-all\"], \"exclude_features\": \"age\", \"exclude_subgroups\": \"keep-all\", \"model\": \"logreg\", \"scale\": \"scale\", \"training_size\": \"2014\"}",
    "universe_id": "87b083cb4cb87df2f66401d0be894b45"
   },
   "start_time": "2025-07-28T10:53:49.869350",
   "version": "2.6.0"
  }
 },
 "nbformat": 4,
 "nbformat_minor": 5
}