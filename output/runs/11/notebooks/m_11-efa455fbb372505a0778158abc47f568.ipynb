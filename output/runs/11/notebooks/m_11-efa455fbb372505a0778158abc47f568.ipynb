{
 "cells": [
  {
   "cell_type": "code",
   "execution_count": 1,
   "id": "f159f837-637b-42ba-96b5-ec9a68c44524",
   "metadata": {
    "execution": {
     "iopub.execute_input": "2025-07-28T10:14:07.562560Z",
     "iopub.status.busy": "2025-07-28T10:14:07.561984Z",
     "iopub.status.idle": "2025-07-28T10:14:07.577997Z",
     "shell.execute_reply": "2025-07-28T10:14:07.576923Z"
    },
    "papermill": {
     "duration": 0.048018,
     "end_time": "2025-07-28T10:14:07.580517",
     "exception": false,
     "start_time": "2025-07-28T10:14:07.532499",
     "status": "completed"
    },
    "tags": []
   },
   "outputs": [
    {
     "name": "stdout",
     "output_type": "stream",
     "text": [
      "/dss/dsshome1/0C/ra93lal2/cma/CMA_Fairness_v2\n"
     ]
    },
    {
     "name": "stderr",
     "output_type": "stream",
     "text": [
      "/dss/dsshome1/0C/ra93lal2/.local/share/virtualenvs/CMA_Fairness_v2-3j10GkSs/lib/python3.10/site-packages/IPython/core/magics/osm.py:393: UserWarning: This is now an optional IPython functionality, using bookmarks requires you to install the `pickleshare` library.\n",
      "  bkms = self.shell.db.get('bookmarks', {})\n",
      "/dss/dsshome1/0C/ra93lal2/.local/share/virtualenvs/CMA_Fairness_v2-3j10GkSs/lib/python3.10/site-packages/IPython/core/magics/osm.py:417: UserWarning: This is now an optional IPython functionality, setting dhist requires you to install the `pickleshare` library.\n",
      "  self.shell.db['dhist'] = compress_dhist(dhist)[-100:]\n"
     ]
    }
   ],
   "source": [
    "%cd ~/cma/CMA_Fairness_v2"
   ]
  },
  {
   "cell_type": "markdown",
   "id": "de2603b9",
   "metadata": {
    "papermill": {
     "duration": 0.027058,
     "end_time": "2025-07-28T10:14:07.634390",
     "exception": false,
     "start_time": "2025-07-28T10:14:07.607332",
     "status": "completed"
    },
    "tags": []
   },
   "source": [
    "The following cell holds the definition of our parameters, these values can be overriden by rendering the with e.g. the following command:\n",
    "\n",
    "papermill -p alpha 0.2 -p ratio 0.3 universe_analysis.ipynb output/test_run.ipynb"
   ]
  },
  {
   "cell_type": "code",
   "execution_count": 2,
   "id": "a80968a0-40bb-4fa9-85ef-2d5eefb01975",
   "metadata": {
    "execution": {
     "iopub.execute_input": "2025-07-28T10:14:07.690123Z",
     "iopub.status.busy": "2025-07-28T10:14:07.689682Z",
     "iopub.status.idle": "2025-07-28T10:14:07.695697Z",
     "shell.execute_reply": "2025-07-28T10:14:07.694314Z"
    },
    "papermill": {
     "duration": 0.034088,
     "end_time": "2025-07-28T10:14:07.697548",
     "exception": false,
     "start_time": "2025-07-28T10:14:07.663460",
     "status": "completed"
    },
    "tags": []
   },
   "outputs": [
    {
     "name": "stdout",
     "output_type": "stream",
     "text": [
      "Current working directory: /dss/dsshome1/0C/ra93lal2/cma/CMA_Fairness_v2\n"
     ]
    }
   ],
   "source": [
    "import os\n",
    "print(\"Current working directory:\", os.getcwd())"
   ]
  },
  {
   "cell_type": "code",
   "execution_count": 3,
   "id": "2dce4c03",
   "metadata": {
    "execution": {
     "iopub.execute_input": "2025-07-28T10:14:07.734170Z",
     "iopub.status.busy": "2025-07-28T10:14:07.733449Z",
     "iopub.status.idle": "2025-07-28T10:14:07.740389Z",
     "shell.execute_reply": "2025-07-28T10:14:07.739389Z"
    },
    "papermill": {
     "duration": 0.027051,
     "end_time": "2025-07-28T10:14:07.742104",
     "exception": false,
     "start_time": "2025-07-28T10:14:07.715053",
     "status": "completed"
    },
    "tags": [
     "parameters"
    ]
   },
   "outputs": [],
   "source": [
    "run_no = 0\n",
    "universe_id = \"test\"\n",
    "universe = {\n",
    "    \"training_size\": \"2014\", # \"25k\", \"5k\", \"1k\", \"2014\"\n",
    "    \"scale\": \"scale\", # \"scale\", \"do-not-scale\",\n",
    "    #\"stratify_split\": \"target\", # \"none\", \"target\", \"protected-attribute\", \"both\",\n",
    "    \"model\": \"elasticnet\", # \"logreg\", \"penalized_logreg\", \"rf\", \"gbm\", \"elasticnet\"\n",
    "    \"cutoff\": [\"quantile_0.15\", \"quantile_0.30\"],\n",
    "    \"exclude_features\": \"age\", # \"none\", \"nationality\", \"sex\", \"nationality-sex\", \"age\"\n",
    "    \"exclude_subgroups\": \"keep-all\", # \"keep-all\", \"drop-non-german\"\n",
    "    #\"training_sample\": \"restricted\", # \"restricted\", \"full\"\n",
    "    \"eval_fairness_grouping\": [\"majority-minority\", \"nationality-all\"]\n",
    "}\n",
    "\n",
    "output_dir=\"./output\"\n",
    "seed=0"
   ]
  },
  {
   "cell_type": "code",
   "execution_count": 4,
   "id": "9f571b88",
   "metadata": {
    "execution": {
     "iopub.execute_input": "2025-07-28T10:14:07.786812Z",
     "iopub.status.busy": "2025-07-28T10:14:07.786115Z",
     "iopub.status.idle": "2025-07-28T10:14:07.791881Z",
     "shell.execute_reply": "2025-07-28T10:14:07.790846Z"
    },
    "papermill": {
     "duration": 0.032165,
     "end_time": "2025-07-28T10:14:07.793638",
     "exception": false,
     "start_time": "2025-07-28T10:14:07.761473",
     "status": "completed"
    },
    "tags": [
     "injected-parameters"
    ]
   },
   "outputs": [],
   "source": [
    "# Parameters\n",
    "universe_id = \"efa455fbb372505a0778158abc47f568\"\n",
    "run_no = \"11\"\n",
    "universe = \"{\\\"cutoff\\\": [\\\"quantile_0.1\\\", \\\"quantile_0.25\\\"], \\\"eval_fairness_grouping\\\": [\\\"majority-minority\\\", \\\"nationality-all\\\"], \\\"exclude_features\\\": \\\"nationality-sex\\\", \\\"exclude_subgroups\\\": \\\"keep-all\\\", \\\"model\\\": \\\"gbm\\\", \\\"scale\\\": \\\"scale\\\", \\\"training_size\\\": \\\"25k\\\"}\"\n",
    "output_dir = \"output\"\n",
    "seed = \"2023\"\n"
   ]
  },
  {
   "cell_type": "code",
   "execution_count": 5,
   "id": "1650acaf",
   "metadata": {
    "execution": {
     "iopub.execute_input": "2025-07-28T10:14:07.838781Z",
     "iopub.status.busy": "2025-07-28T10:14:07.838289Z",
     "iopub.status.idle": "2025-07-28T10:14:07.843827Z",
     "shell.execute_reply": "2025-07-28T10:14:07.842757Z"
    },
    "papermill": {
     "duration": 0.030648,
     "end_time": "2025-07-28T10:14:07.845731",
     "exception": false,
     "start_time": "2025-07-28T10:14:07.815083",
     "status": "completed"
    },
    "tags": []
   },
   "outputs": [],
   "source": [
    "import json\n",
    "# Parse universe into dict if it is passed as a string\n",
    "if isinstance(universe, str):\n",
    "    universe = json.loads(universe)"
   ]
  },
  {
   "cell_type": "code",
   "execution_count": 6,
   "id": "16620c48",
   "metadata": {
    "execution": {
     "iopub.execute_input": "2025-07-28T10:14:07.890292Z",
     "iopub.status.busy": "2025-07-28T10:14:07.889448Z",
     "iopub.status.idle": "2025-07-28T10:14:07.939180Z",
     "shell.execute_reply": "2025-07-28T10:14:07.938168Z"
    },
    "papermill": {
     "duration": 0.074519,
     "end_time": "2025-07-28T10:14:07.941339",
     "exception": false,
     "start_time": "2025-07-28T10:14:07.866820",
     "status": "completed"
    },
    "tags": []
   },
   "outputs": [],
   "source": [
    "# Auto-reload the custom package\n",
    "%load_ext autoreload\n",
    "%autoreload 1\n",
    "%aimport fairness_multiverse"
   ]
  },
  {
   "cell_type": "code",
   "execution_count": 7,
   "id": "01c5c9f3",
   "metadata": {
    "execution": {
     "iopub.execute_input": "2025-07-28T10:14:07.987979Z",
     "iopub.status.busy": "2025-07-28T10:14:07.987085Z",
     "iopub.status.idle": "2025-07-28T10:14:09.929447Z",
     "shell.execute_reply": "2025-07-28T10:14:09.928296Z"
    },
    "papermill": {
     "duration": 1.967083,
     "end_time": "2025-07-28T10:14:09.931676",
     "exception": false,
     "start_time": "2025-07-28T10:14:07.964593",
     "status": "completed"
    },
    "tags": []
   },
   "outputs": [],
   "source": [
    "from fairness_multiverse.universe import UniverseAnalysis\n",
    "\n",
    "universe_analysis = UniverseAnalysis(\n",
    "    run_no = run_no,\n",
    "    universe_id = universe_id,\n",
    "    universe = universe,\n",
    "    output_dir=output_dir,\n",
    ")"
   ]
  },
  {
   "cell_type": "code",
   "execution_count": 8,
   "id": "106241f5",
   "metadata": {
    "execution": {
     "iopub.execute_input": "2025-07-28T10:14:09.976132Z",
     "iopub.status.busy": "2025-07-28T10:14:09.975527Z",
     "iopub.status.idle": "2025-07-28T10:14:09.983175Z",
     "shell.execute_reply": "2025-07-28T10:14:09.982162Z"
    },
    "papermill": {
     "duration": 0.032329,
     "end_time": "2025-07-28T10:14:09.985032",
     "exception": false,
     "start_time": "2025-07-28T10:14:09.952703",
     "status": "completed"
    },
    "tags": []
   },
   "outputs": [
    {
     "name": "stdout",
     "output_type": "stream",
     "text": [
      "Using Seed: 2023\n"
     ]
    }
   ],
   "source": [
    "import numpy as np\n",
    "parsed_seed = int(seed)\n",
    "np.random.seed(parsed_seed)\n",
    "print(f\"Using Seed: {parsed_seed}\")"
   ]
  },
  {
   "cell_type": "markdown",
   "id": "e0ebdc57",
   "metadata": {
    "papermill": {
     "duration": 0.020744,
     "end_time": "2025-07-28T10:14:10.026622",
     "exception": false,
     "start_time": "2025-07-28T10:14:10.005878",
     "status": "completed"
    },
    "tags": []
   },
   "source": [
    "# Loading Data"
   ]
  },
  {
   "cell_type": "markdown",
   "id": "681925a3",
   "metadata": {
    "papermill": {
     "duration": 0.020959,
     "end_time": "2025-07-28T10:14:10.068921",
     "exception": false,
     "start_time": "2025-07-28T10:14:10.047962",
     "status": "completed"
    },
    "tags": []
   },
   "source": [
    "Load siab_train, siab_test, siab_calib and/or \n",
    "load siab_train_features, siab_train_labels"
   ]
  },
  {
   "cell_type": "code",
   "execution_count": 9,
   "id": "f0496b8a",
   "metadata": {
    "execution": {
     "iopub.execute_input": "2025-07-28T10:14:10.112383Z",
     "iopub.status.busy": "2025-07-28T10:14:10.111776Z",
     "iopub.status.idle": "2025-07-28T10:14:22.106441Z",
     "shell.execute_reply": "2025-07-28T10:14:22.105189Z"
    },
    "papermill": {
     "duration": 12.018713,
     "end_time": "2025-07-28T10:14:22.108484",
     "exception": false,
     "start_time": "2025-07-28T10:14:10.089771",
     "status": "completed"
    },
    "tags": []
   },
   "outputs": [
    {
     "name": "stdout",
     "output_type": "stream",
     "text": [
      "Loading SIAB data from cache: data/siab_cached.csv.gz\n"
     ]
    },
    {
     "name": "stdout",
     "output_type": "stream",
     "text": [
      "(643690, 164)\n"
     ]
    }
   ],
   "source": [
    "from pathlib import Path\n",
    "import pandas as pd\n",
    "\n",
    "# File paths\n",
    "raw_file = Path(\"data/raw/siab.csv\")\n",
    "cache_file = Path(\"data/siab_cached.csv.gz\")\n",
    "\n",
    "# Ensure cache directory exists\n",
    "cache_file.parent.mkdir(parents=True, exist_ok=True)\n",
    "\n",
    "# Load with simple caching\n",
    "if cache_file.exists():\n",
    "    print(f\"Loading SIAB data from cache: {cache_file}\")\n",
    "    siab = pd.read_csv(cache_file, compression='gzip')\n",
    "else:\n",
    "    print(f\"Cache not found. Reading raw SIAB data: {raw_file}\")\n",
    "    siab = pd.read_csv(raw_file)\n",
    "    siab.to_csv(cache_file, index=False, compression='gzip')\n",
    "    print(f\"Cached SIAB data to: {cache_file}\")\n",
    "\n",
    "# Now use `siab` DataFrame as needed\n",
    "print(siab.shape)"
   ]
  },
  {
   "cell_type": "code",
   "execution_count": 10,
   "id": "db0ca512-5f53-4dba-abdb-a2888bca41ba",
   "metadata": {
    "execution": {
     "iopub.execute_input": "2025-07-28T10:14:22.154564Z",
     "iopub.status.busy": "2025-07-28T10:14:22.153834Z",
     "iopub.status.idle": "2025-07-28T10:14:22.159800Z",
     "shell.execute_reply": "2025-07-28T10:14:22.158752Z"
    },
    "papermill": {
     "duration": 0.030305,
     "end_time": "2025-07-28T10:14:22.161685",
     "exception": false,
     "start_time": "2025-07-28T10:14:22.131380",
     "status": "completed"
    },
    "tags": []
   },
   "outputs": [],
   "source": [
    "#siab"
   ]
  },
  {
   "cell_type": "code",
   "execution_count": 11,
   "id": "a0edb063",
   "metadata": {
    "execution": {
     "iopub.execute_input": "2025-07-28T10:14:22.205493Z",
     "iopub.status.busy": "2025-07-28T10:14:22.204737Z",
     "iopub.status.idle": "2025-07-28T10:14:22.210349Z",
     "shell.execute_reply": "2025-07-28T10:14:22.209399Z"
    },
    "papermill": {
     "duration": 0.030536,
     "end_time": "2025-07-28T10:14:22.212168",
     "exception": false,
     "start_time": "2025-07-28T10:14:22.181632",
     "status": "completed"
    },
    "tags": []
   },
   "outputs": [],
   "source": [
    "#import pandas as pd\n",
    "#\n",
    "#X_train = pd.read_csv(\"./data/X_train.csv\")\n",
    "#y_train = pd.read_csv(\"./data/y_train.csv\")"
   ]
  },
  {
   "cell_type": "code",
   "execution_count": 12,
   "id": "63d08085",
   "metadata": {
    "execution": {
     "iopub.execute_input": "2025-07-28T10:14:22.254990Z",
     "iopub.status.busy": "2025-07-28T10:14:22.254225Z",
     "iopub.status.idle": "2025-07-28T10:14:22.260156Z",
     "shell.execute_reply": "2025-07-28T10:14:22.258826Z"
    },
    "papermill": {
     "duration": 0.029713,
     "end_time": "2025-07-28T10:14:22.261964",
     "exception": false,
     "start_time": "2025-07-28T10:14:22.232251",
     "status": "completed"
    },
    "tags": []
   },
   "outputs": [],
   "source": [
    "#X_test = pd.read_csv(\"./data/X_test.csv\")\n",
    "#y_true = pd.read_csv(\"./data/y_test.csv\")"
   ]
  },
  {
   "cell_type": "code",
   "execution_count": 13,
   "id": "98a8d0fa-1d3d-4ed8-bb2c-281470e24add",
   "metadata": {
    "execution": {
     "iopub.execute_input": "2025-07-28T10:14:22.305790Z",
     "iopub.status.busy": "2025-07-28T10:14:22.305085Z",
     "iopub.status.idle": "2025-07-28T10:14:22.310425Z",
     "shell.execute_reply": "2025-07-28T10:14:22.309453Z"
    },
    "papermill": {
     "duration": 0.028761,
     "end_time": "2025-07-28T10:14:22.312041",
     "exception": false,
     "start_time": "2025-07-28T10:14:22.283280",
     "status": "completed"
    },
    "tags": []
   },
   "outputs": [],
   "source": [
    "# Calibration data for conformal\n",
    "#X_calib = pd.read_csv(\"./data/X_calib.csv\")\n",
    "#y_calib = pd.read_csv(\"./data/y_calib.csv\")"
   ]
  },
  {
   "cell_type": "markdown",
   "id": "9901737e-04df-44f0-9100-f5ad144ed040",
   "metadata": {
    "papermill": {
     "duration": 0.019786,
     "end_time": "2025-07-28T10:14:22.353941",
     "exception": false,
     "start_time": "2025-07-28T10:14:22.334155",
     "status": "completed"
    },
    "tags": []
   },
   "source": [
    "# Splitting Data and Setting Training Data Size"
   ]
  },
  {
   "cell_type": "code",
   "execution_count": 14,
   "id": "acbc8f7d-8fc8-4e86-8c59-5dcb0f58384b",
   "metadata": {
    "execution": {
     "iopub.execute_input": "2025-07-28T10:14:22.397247Z",
     "iopub.status.busy": "2025-07-28T10:14:22.396538Z",
     "iopub.status.idle": "2025-07-28T10:14:22.405394Z",
     "shell.execute_reply": "2025-07-28T10:14:22.404329Z"
    },
    "papermill": {
     "duration": 0.032847,
     "end_time": "2025-07-28T10:14:22.407027",
     "exception": false,
     "start_time": "2025-07-28T10:14:22.374180",
     "status": "completed"
    },
    "tags": []
   },
   "outputs": [],
   "source": [
    "def sample_by_year(df, training_size, random_state=42):\n",
    "    if training_size == \"2014\":\n",
    "        return df[df[\"year\"] == 2014].reset_index(drop=True)\n",
    "    \n",
    "    size_map = {\n",
    "        \"25k\": 5000,\n",
    "        \"5k\": 1000,\n",
    "        \"1k\": 200\n",
    "    }\n",
    "\n",
    "    if training_size not in size_map:\n",
    "        return df.reset_index(drop=True)  # use all data\n",
    "\n",
    "    n_per_year = size_map[training_size]\n",
    "    grouped = df.groupby(\"year\")\n",
    "    sampled = grouped.apply(lambda x: x.sample(n=min(n_per_year, len(x)), random_state=random_state))\n",
    "    return sampled.reset_index(drop=True)"
   ]
  },
  {
   "cell_type": "code",
   "execution_count": 15,
   "id": "6d931f52-beaf-43ff-9e78-9d44a448d54e",
   "metadata": {
    "execution": {
     "iopub.execute_input": "2025-07-28T10:14:22.450428Z",
     "iopub.status.busy": "2025-07-28T10:14:22.449713Z",
     "iopub.status.idle": "2025-07-28T10:14:23.374218Z",
     "shell.execute_reply": "2025-07-28T10:14:23.373199Z"
    },
    "papermill": {
     "duration": 0.948197,
     "end_time": "2025-07-28T10:14:23.376133",
     "exception": false,
     "start_time": "2025-07-28T10:14:22.427936",
     "status": "completed"
    },
    "tags": []
   },
   "outputs": [],
   "source": [
    "siab_s = sample_by_year(siab, universe[\"training_size\"])"
   ]
  },
  {
   "cell_type": "code",
   "execution_count": 16,
   "id": "5db0a40e-a4e2-4920-be85-b12ae061d70d",
   "metadata": {
    "execution": {
     "iopub.execute_input": "2025-07-28T10:14:23.420899Z",
     "iopub.status.busy": "2025-07-28T10:14:23.420345Z",
     "iopub.status.idle": "2025-07-28T10:14:23.435479Z",
     "shell.execute_reply": "2025-07-28T10:14:23.434512Z"
    },
    "papermill": {
     "duration": 0.038888,
     "end_time": "2025-07-28T10:14:23.437325",
     "exception": false,
     "start_time": "2025-07-28T10:14:23.398437",
     "status": "completed"
    },
    "tags": []
   },
   "outputs": [
    {
     "data": {
      "text/plain": [
       "year\n",
       "2010    5000\n",
       "2011    5000\n",
       "2012    5000\n",
       "2013    5000\n",
       "2014    5000\n",
       "2015    5000\n",
       "2016    5000\n",
       "dtype: int64"
      ]
     },
     "metadata": {},
     "output_type": "display_data"
    }
   ],
   "source": [
    "display(siab_s.groupby(\"year\").size())"
   ]
  },
  {
   "cell_type": "code",
   "execution_count": 17,
   "id": "a561edb4-d032-42cb-8256-22eac1111c64",
   "metadata": {
    "execution": {
     "iopub.execute_input": "2025-07-28T10:14:23.482755Z",
     "iopub.status.busy": "2025-07-28T10:14:23.482058Z",
     "iopub.status.idle": "2025-07-28T10:14:23.757311Z",
     "shell.execute_reply": "2025-07-28T10:14:23.756244Z"
    },
    "papermill": {
     "duration": 0.298827,
     "end_time": "2025-07-28T10:14:23.759401",
     "exception": false,
     "start_time": "2025-07-28T10:14:23.460574",
     "status": "completed"
    },
    "tags": []
   },
   "outputs": [],
   "source": [
    "siab_train = siab_s[siab_s.year < 2015]\n",
    "siab_calib = siab[siab.year == 2015]\n",
    "siab_test = siab[siab.year == 2016]"
   ]
  },
  {
   "cell_type": "code",
   "execution_count": 18,
   "id": "472de16f-c3db-4916-846b-1f0de9cf1746",
   "metadata": {
    "execution": {
     "iopub.execute_input": "2025-07-28T10:14:23.801947Z",
     "iopub.status.busy": "2025-07-28T10:14:23.801239Z",
     "iopub.status.idle": "2025-07-28T10:14:23.815847Z",
     "shell.execute_reply": "2025-07-28T10:14:23.814775Z"
    },
    "papermill": {
     "duration": 0.037235,
     "end_time": "2025-07-28T10:14:23.817596",
     "exception": false,
     "start_time": "2025-07-28T10:14:23.780361",
     "status": "completed"
    },
    "tags": []
   },
   "outputs": [],
   "source": [
    "X_train = siab_train.iloc[:,4:164]\n",
    "y_train = siab_train.iloc[:, [3]]"
   ]
  },
  {
   "cell_type": "code",
   "execution_count": 19,
   "id": "828c96af-f43a-4ed6-ba47-8ac73a47d56c",
   "metadata": {
    "execution": {
     "iopub.execute_input": "2025-07-28T10:14:23.861604Z",
     "iopub.status.busy": "2025-07-28T10:14:23.860895Z",
     "iopub.status.idle": "2025-07-28T10:14:23.912465Z",
     "shell.execute_reply": "2025-07-28T10:14:23.910990Z"
    },
    "papermill": {
     "duration": 0.074518,
     "end_time": "2025-07-28T10:14:23.914367",
     "exception": false,
     "start_time": "2025-07-28T10:14:23.839849",
     "status": "completed"
    },
    "tags": []
   },
   "outputs": [],
   "source": [
    "X_calib = siab_calib.iloc[:,4:164]\n",
    "y_calib = siab_calib.iloc[:, [3]]"
   ]
  },
  {
   "cell_type": "code",
   "execution_count": 20,
   "id": "c34be9c3-6bd6-476e-acd3-845840e303be",
   "metadata": {
    "execution": {
     "iopub.execute_input": "2025-07-28T10:14:23.955715Z",
     "iopub.status.busy": "2025-07-28T10:14:23.954931Z",
     "iopub.status.idle": "2025-07-28T10:14:24.013377Z",
     "shell.execute_reply": "2025-07-28T10:14:24.012419Z"
    },
    "papermill": {
     "duration": 0.080389,
     "end_time": "2025-07-28T10:14:24.015161",
     "exception": false,
     "start_time": "2025-07-28T10:14:23.934772",
     "status": "completed"
    },
    "tags": []
   },
   "outputs": [],
   "source": [
    "X_test = siab_test.iloc[:,4:164]\n",
    "y_true = siab_test.iloc[:, [3]]"
   ]
  },
  {
   "cell_type": "code",
   "execution_count": 21,
   "id": "e6c733c5",
   "metadata": {
    "execution": {
     "iopub.execute_input": "2025-07-28T10:14:24.057778Z",
     "iopub.status.busy": "2025-07-28T10:14:24.057105Z",
     "iopub.status.idle": "2025-07-28T10:14:24.157284Z",
     "shell.execute_reply": "2025-07-28T10:14:24.156315Z"
    },
    "papermill": {
     "duration": 0.123298,
     "end_time": "2025-07-28T10:14:24.159119",
     "exception": false,
     "start_time": "2025-07-28T10:14:24.035821",
     "status": "completed"
    },
    "tags": []
   },
   "outputs": [],
   "source": [
    "# Auxiliary data needed downstream in the pipeline\n",
    "\n",
    "org_train = X_train.copy()\n",
    "org_test = X_test.copy()\n",
    "org_calib = X_calib.copy()"
   ]
  },
  {
   "cell_type": "markdown",
   "id": "0a4a1b33",
   "metadata": {
    "papermill": {
     "duration": 0.019687,
     "end_time": "2025-07-28T10:14:24.199870",
     "exception": false,
     "start_time": "2025-07-28T10:14:24.180183",
     "status": "completed"
    },
    "tags": []
   },
   "source": [
    "# Preprocessing Data"
   ]
  },
  {
   "cell_type": "code",
   "execution_count": 22,
   "id": "ca879031",
   "metadata": {
    "execution": {
     "iopub.execute_input": "2025-07-28T10:14:24.241540Z",
     "iopub.status.busy": "2025-07-28T10:14:24.240820Z",
     "iopub.status.idle": "2025-07-28T10:14:24.247201Z",
     "shell.execute_reply": "2025-07-28T10:14:24.246291Z"
    },
    "papermill": {
     "duration": 0.029136,
     "end_time": "2025-07-28T10:14:24.248856",
     "exception": false,
     "start_time": "2025-07-28T10:14:24.219720",
     "status": "completed"
    },
    "tags": []
   },
   "outputs": [],
   "source": [
    "# EXCLUDE PROTECTED FEATURES\n",
    "# ----------------------\n",
    "# \"exclude_features\": \"none\", # \"nationality\", \"sex\", \"nationality-sex\"\n",
    "\n",
    "excluded_features = universe[\"exclude_features\"].split(\"-\") # split, e.g.: \"nationality-sex\" -> [\"nationality\", \"sex\"]\n",
    "excluded_features_dictionary = {\n",
    "    \"nationality\": [\"maxdeutsch1\", \"maxdeutsch.Missing.\"],\n",
    "    \"sex\": [\"frau1\"],\n",
    "    \"age\": [\"age\"],\n",
    "}\n"
   ]
  },
  {
   "cell_type": "code",
   "execution_count": 23,
   "id": "b745ac60",
   "metadata": {
    "execution": {
     "iopub.execute_input": "2025-07-28T10:14:24.291028Z",
     "iopub.status.busy": "2025-07-28T10:14:24.290410Z",
     "iopub.status.idle": "2025-07-28T10:14:24.296087Z",
     "shell.execute_reply": "2025-07-28T10:14:24.295214Z"
    },
    "papermill": {
     "duration": 0.028471,
     "end_time": "2025-07-28T10:14:24.297655",
     "exception": false,
     "start_time": "2025-07-28T10:14:24.269184",
     "status": "completed"
    },
    "tags": []
   },
   "outputs": [],
   "source": [
    "# Code nice names to column names\n",
    "\n",
    "excluded_features_columns = [\n",
    "    excluded_features_dictionary[f] for f in excluded_features if len(f) > 0 and f != \"none\"\n",
    "]"
   ]
  },
  {
   "cell_type": "code",
   "execution_count": 24,
   "id": "f84f73a2",
   "metadata": {
    "execution": {
     "iopub.execute_input": "2025-07-28T10:14:24.344440Z",
     "iopub.status.busy": "2025-07-28T10:14:24.343831Z",
     "iopub.status.idle": "2025-07-28T10:14:24.351298Z",
     "shell.execute_reply": "2025-07-28T10:14:24.350216Z"
    },
    "papermill": {
     "duration": 0.034317,
     "end_time": "2025-07-28T10:14:24.353240",
     "exception": false,
     "start_time": "2025-07-28T10:14:24.318923",
     "status": "completed"
    },
    "tags": []
   },
   "outputs": [],
   "source": [
    "from utils import flatten_once\n",
    "\n",
    "excluded_features_columns = flatten_once(excluded_features_columns)"
   ]
  },
  {
   "cell_type": "code",
   "execution_count": 25,
   "id": "884dea22",
   "metadata": {
    "execution": {
     "iopub.execute_input": "2025-07-28T10:14:24.410408Z",
     "iopub.status.busy": "2025-07-28T10:14:24.409611Z",
     "iopub.status.idle": "2025-07-28T10:14:24.425939Z",
     "shell.execute_reply": "2025-07-28T10:14:24.424948Z"
    },
    "papermill": {
     "duration": 0.049803,
     "end_time": "2025-07-28T10:14:24.427961",
     "exception": false,
     "start_time": "2025-07-28T10:14:24.378158",
     "status": "completed"
    },
    "tags": []
   },
   "outputs": [
    {
     "name": "stdout",
     "output_type": "stream",
     "text": [
      "Dropping features: ['maxdeutsch1', 'maxdeutsch.Missing.', 'frau1']\n"
     ]
    }
   ],
   "source": [
    "if len(excluded_features_columns) > 0:\n",
    "    print(f\"Dropping features: {excluded_features_columns}\")\n",
    "    X_train.drop(excluded_features_columns, axis=1, inplace=True)"
   ]
  },
  {
   "cell_type": "code",
   "execution_count": 26,
   "id": "95ab8b16",
   "metadata": {
    "execution": {
     "iopub.execute_input": "2025-07-28T10:14:24.471639Z",
     "iopub.status.busy": "2025-07-28T10:14:24.470790Z",
     "iopub.status.idle": "2025-07-28T10:14:24.527284Z",
     "shell.execute_reply": "2025-07-28T10:14:24.526203Z"
    },
    "papermill": {
     "duration": 0.079517,
     "end_time": "2025-07-28T10:14:24.529232",
     "exception": false,
     "start_time": "2025-07-28T10:14:24.449715",
     "status": "completed"
    },
    "tags": []
   },
   "outputs": [
    {
     "name": "stdout",
     "output_type": "stream",
     "text": [
      "Dropping features: ['maxdeutsch1', 'maxdeutsch.Missing.', 'frau1']\n"
     ]
    }
   ],
   "source": [
    "if len(excluded_features_columns) > 0:\n",
    "    print(f\"Dropping features: {excluded_features_columns}\")\n",
    "    X_test.drop(excluded_features_columns, axis=1, inplace=True)"
   ]
  },
  {
   "cell_type": "code",
   "execution_count": 27,
   "id": "1853aaf5-fb9f-46cb-a2b5-8ea4ae2237e4",
   "metadata": {
    "execution": {
     "iopub.execute_input": "2025-07-28T10:14:24.571846Z",
     "iopub.status.busy": "2025-07-28T10:14:24.571316Z",
     "iopub.status.idle": "2025-07-28T10:14:24.624431Z",
     "shell.execute_reply": "2025-07-28T10:14:24.623316Z"
    },
    "papermill": {
     "duration": 0.075985,
     "end_time": "2025-07-28T10:14:24.626093",
     "exception": false,
     "start_time": "2025-07-28T10:14:24.550108",
     "status": "completed"
    },
    "tags": []
   },
   "outputs": [
    {
     "name": "stdout",
     "output_type": "stream",
     "text": [
      "Dropping features: ['maxdeutsch1', 'maxdeutsch.Missing.', 'frau1']\n"
     ]
    }
   ],
   "source": [
    "if len(excluded_features_columns) > 0:\n",
    "    print(f\"Dropping features: {excluded_features_columns}\")\n",
    "    X_calib.drop(excluded_features_columns, axis=1, inplace=True)"
   ]
  },
  {
   "cell_type": "code",
   "execution_count": 28,
   "id": "6727d079-03e5-481e-9d38-292a90b7a0a8",
   "metadata": {
    "execution": {
     "iopub.execute_input": "2025-07-28T10:14:24.670787Z",
     "iopub.status.busy": "2025-07-28T10:14:24.669895Z",
     "iopub.status.idle": "2025-07-28T10:14:24.674818Z",
     "shell.execute_reply": "2025-07-28T10:14:24.673859Z"
    },
    "papermill": {
     "duration": 0.029754,
     "end_time": "2025-07-28T10:14:24.676684",
     "exception": false,
     "start_time": "2025-07-28T10:14:24.646930",
     "status": "completed"
    },
    "tags": []
   },
   "outputs": [],
   "source": [
    "# SPLIT & STRATIFY DATA\n",
    "# ----------------------"
   ]
  },
  {
   "cell_type": "code",
   "execution_count": 29,
   "id": "76c4dc6d",
   "metadata": {
    "execution": {
     "iopub.execute_input": "2025-07-28T10:14:24.720280Z",
     "iopub.status.busy": "2025-07-28T10:14:24.719466Z",
     "iopub.status.idle": "2025-07-28T10:14:24.725078Z",
     "shell.execute_reply": "2025-07-28T10:14:24.724071Z"
    },
    "papermill": {
     "duration": 0.028749,
     "end_time": "2025-07-28T10:14:24.726664",
     "exception": false,
     "start_time": "2025-07-28T10:14:24.697915",
     "status": "completed"
    },
    "tags": []
   },
   "outputs": [],
   "source": [
    "# EXCLUDE CERTAIN SUBGROUPS\n",
    "# ----------------------\n",
    "\n",
    "mode = universe.get(\"exclude_subgroups\", \"keep-all\") \n",
    "# Fetches the exclude_subgroups setting from the universe dict.\n",
    "# Defaults to \"keep-all\" if the key is missing."
   ]
  },
  {
   "cell_type": "code",
   "execution_count": 30,
   "id": "21994072",
   "metadata": {
    "execution": {
     "iopub.execute_input": "2025-07-28T10:14:24.770487Z",
     "iopub.status.busy": "2025-07-28T10:14:24.769620Z",
     "iopub.status.idle": "2025-07-28T10:14:24.776459Z",
     "shell.execute_reply": "2025-07-28T10:14:24.775458Z"
    },
    "papermill": {
     "duration": 0.029877,
     "end_time": "2025-07-28T10:14:24.778186",
     "exception": false,
     "start_time": "2025-07-28T10:14:24.748309",
     "status": "completed"
    },
    "tags": []
   },
   "outputs": [],
   "source": [
    "if mode == \"keep-all\":\n",
    "    keep_mask = pd.Series(True, index=org_train.index)\n",
    "\n",
    "# org_train contains the original feature columns from features_org (in Simson)\n",
    "# features_org contains unprocessed features, for me X_train at beginning ???\n",
    "# For keep-all, creates a boolean Series (keep_mask) of all True, so no rows are removed.\n",
    "\n",
    "elif mode == \"drop-non-german\":\n",
    "    keep_mask = org_train[\"maxdeutsch1\"] == 1 # ??? what about missing values?\n",
    "\n",
    "else:\n",
    "    raise ValueError(f\"Unsupported mode for exclude_subgroups: {mode}\")\n"
   ]
  },
  {
   "cell_type": "code",
   "execution_count": 31,
   "id": "71651440",
   "metadata": {
    "execution": {
     "iopub.execute_input": "2025-07-28T10:14:24.825871Z",
     "iopub.status.busy": "2025-07-28T10:14:24.825386Z",
     "iopub.status.idle": "2025-07-28T10:14:24.832122Z",
     "shell.execute_reply": "2025-07-28T10:14:24.831234Z"
    },
    "papermill": {
     "duration": 0.03563,
     "end_time": "2025-07-28T10:14:24.836975",
     "exception": false,
     "start_time": "2025-07-28T10:14:24.801345",
     "status": "completed"
    },
    "tags": []
   },
   "outputs": [],
   "source": [
    "n_drop = (~keep_mask).sum() # Calculates how many rows are set to be dropped\n",
    "if n_drop > 0:\n",
    "    pct = n_drop / len(keep_mask) * 100\n",
    "    print(f\"Dropping {n_drop} rows ({pct:.2f}%) where mode='{mode}'\")"
   ]
  },
  {
   "cell_type": "code",
   "execution_count": 32,
   "id": "5fb8eee5",
   "metadata": {
    "execution": {
     "iopub.execute_input": "2025-07-28T10:14:24.880382Z",
     "iopub.status.busy": "2025-07-28T10:14:24.879502Z",
     "iopub.status.idle": "2025-07-28T10:14:24.896524Z",
     "shell.execute_reply": "2025-07-28T10:14:24.895521Z"
    },
    "papermill": {
     "duration": 0.040512,
     "end_time": "2025-07-28T10:14:24.898430",
     "exception": false,
     "start_time": "2025-07-28T10:14:24.857918",
     "status": "completed"
    },
    "tags": []
   },
   "outputs": [],
   "source": [
    "X_train = X_train[keep_mask]"
   ]
  },
  {
   "cell_type": "code",
   "execution_count": 33,
   "id": "b202bb3a",
   "metadata": {
    "execution": {
     "iopub.execute_input": "2025-07-28T10:14:24.943055Z",
     "iopub.status.busy": "2025-07-28T10:14:24.942260Z",
     "iopub.status.idle": "2025-07-28T10:14:24.948876Z",
     "shell.execute_reply": "2025-07-28T10:14:24.947886Z"
    },
    "papermill": {
     "duration": 0.030873,
     "end_time": "2025-07-28T10:14:24.950498",
     "exception": false,
     "start_time": "2025-07-28T10:14:24.919625",
     "status": "completed"
    },
    "tags": []
   },
   "outputs": [],
   "source": [
    "y_train = y_train[keep_mask]"
   ]
  },
  {
   "cell_type": "markdown",
   "id": "493e2ac3",
   "metadata": {
    "papermill": {
     "duration": 0.021513,
     "end_time": "2025-07-28T10:14:24.994349",
     "exception": false,
     "start_time": "2025-07-28T10:14:24.972836",
     "status": "completed"
    },
    "tags": []
   },
   "source": [
    "# Model Training"
   ]
  },
  {
   "cell_type": "code",
   "execution_count": 34,
   "id": "679e1268",
   "metadata": {
    "execution": {
     "iopub.execute_input": "2025-07-28T10:14:25.039448Z",
     "iopub.status.busy": "2025-07-28T10:14:25.038737Z",
     "iopub.status.idle": "2025-07-28T10:14:25.149072Z",
     "shell.execute_reply": "2025-07-28T10:14:25.148050Z"
    },
    "papermill": {
     "duration": 0.135148,
     "end_time": "2025-07-28T10:14:25.151169",
     "exception": false,
     "start_time": "2025-07-28T10:14:25.016021",
     "status": "completed"
    },
    "tags": []
   },
   "outputs": [],
   "source": [
    "from sklearn.linear_model import LogisticRegression\n",
    "from sklearn.ensemble import GradientBoostingClassifier, RandomForestClassifier\n",
    "\n",
    "if (universe[\"model\"] == \"logreg\"):\n",
    "    model = LogisticRegression() #penalty=\"none\") #, solver=\"newton-cg\", max_iter=1) # include random_state=19 ?\n",
    "elif (universe[\"model\"] == \"penalized_logreg\"):\n",
    "    model = LogisticRegression(penalty=\"l2\", C=1.0) #, solver=\"newton-cg\", max_iter=1)\n",
    "elif (universe[\"model\"] == \"rf\"):\n",
    "    model = RandomForestClassifier(n_estimators=100, n_jobs=-1)\n",
    "elif (universe[\"model\"] == \"gbm\"):\n",
    "    model = GradientBoostingClassifier()\n",
    "elif (universe[\"model\"] == \"elasticnet\"):\n",
    "    model = LogisticRegression(penalty = 'elasticnet', solver = 'saga', l1_ratio = 0.5, max_iter=5000) # which solver to use?\n",
    "else:\n",
    "    raise \"Unsupported universe.model\""
   ]
  },
  {
   "cell_type": "code",
   "execution_count": 35,
   "id": "0cc8f744",
   "metadata": {
    "execution": {
     "iopub.execute_input": "2025-07-28T10:14:25.198593Z",
     "iopub.status.busy": "2025-07-28T10:14:25.197912Z",
     "iopub.status.idle": "2025-07-28T10:14:25.204717Z",
     "shell.execute_reply": "2025-07-28T10:14:25.203673Z"
    },
    "papermill": {
     "duration": 0.032494,
     "end_time": "2025-07-28T10:14:25.206464",
     "exception": false,
     "start_time": "2025-07-28T10:14:25.173970",
     "status": "completed"
    },
    "tags": []
   },
   "outputs": [],
   "source": [
    "import numpy as np\n",
    "from sklearn.pipeline import Pipeline\n",
    "from sklearn.preprocessing import StandardScaler\n",
    "\n",
    "model = Pipeline([\n",
    "    #(\"continuous_processor\", continuous_processor),\n",
    "    #(\"categorical_preprocessor\", categorical_preprocessor),\n",
    "    (\"scale\", StandardScaler() if universe[\"scale\"] == \"scale\" else None), \n",
    "    (\"model\", model),\n",
    "])"
   ]
  },
  {
   "cell_type": "code",
   "execution_count": 36,
   "id": "9442c04d",
   "metadata": {
    "execution": {
     "iopub.execute_input": "2025-07-28T10:14:25.252597Z",
     "iopub.status.busy": "2025-07-28T10:14:25.251833Z",
     "iopub.status.idle": "2025-07-28T10:14:53.263611Z",
     "shell.execute_reply": "2025-07-28T10:14:53.262314Z"
    },
    "papermill": {
     "duration": 28.036965,
     "end_time": "2025-07-28T10:14:53.266041",
     "exception": false,
     "start_time": "2025-07-28T10:14:25.229076",
     "status": "completed"
    },
    "tags": []
   },
   "outputs": [
    {
     "data": {
      "text/html": [
       "<style>#sk-container-id-1 {color: black;background-color: white;}#sk-container-id-1 pre{padding: 0;}#sk-container-id-1 div.sk-toggleable {background-color: white;}#sk-container-id-1 label.sk-toggleable__label {cursor: pointer;display: block;width: 100%;margin-bottom: 0;padding: 0.3em;box-sizing: border-box;text-align: center;}#sk-container-id-1 label.sk-toggleable__label-arrow:before {content: \"▸\";float: left;margin-right: 0.25em;color: #696969;}#sk-container-id-1 label.sk-toggleable__label-arrow:hover:before {color: black;}#sk-container-id-1 div.sk-estimator:hover label.sk-toggleable__label-arrow:before {color: black;}#sk-container-id-1 div.sk-toggleable__content {max-height: 0;max-width: 0;overflow: hidden;text-align: left;background-color: #f0f8ff;}#sk-container-id-1 div.sk-toggleable__content pre {margin: 0.2em;color: black;border-radius: 0.25em;background-color: #f0f8ff;}#sk-container-id-1 input.sk-toggleable__control:checked~div.sk-toggleable__content {max-height: 200px;max-width: 100%;overflow: auto;}#sk-container-id-1 input.sk-toggleable__control:checked~label.sk-toggleable__label-arrow:before {content: \"▾\";}#sk-container-id-1 div.sk-estimator input.sk-toggleable__control:checked~label.sk-toggleable__label {background-color: #d4ebff;}#sk-container-id-1 div.sk-label input.sk-toggleable__control:checked~label.sk-toggleable__label {background-color: #d4ebff;}#sk-container-id-1 input.sk-hidden--visually {border: 0;clip: rect(1px 1px 1px 1px);clip: rect(1px, 1px, 1px, 1px);height: 1px;margin: -1px;overflow: hidden;padding: 0;position: absolute;width: 1px;}#sk-container-id-1 div.sk-estimator {font-family: monospace;background-color: #f0f8ff;border: 1px dotted black;border-radius: 0.25em;box-sizing: border-box;margin-bottom: 0.5em;}#sk-container-id-1 div.sk-estimator:hover {background-color: #d4ebff;}#sk-container-id-1 div.sk-parallel-item::after {content: \"\";width: 100%;border-bottom: 1px solid gray;flex-grow: 1;}#sk-container-id-1 div.sk-label:hover label.sk-toggleable__label {background-color: #d4ebff;}#sk-container-id-1 div.sk-serial::before {content: \"\";position: absolute;border-left: 1px solid gray;box-sizing: border-box;top: 0;bottom: 0;left: 50%;z-index: 0;}#sk-container-id-1 div.sk-serial {display: flex;flex-direction: column;align-items: center;background-color: white;padding-right: 0.2em;padding-left: 0.2em;position: relative;}#sk-container-id-1 div.sk-item {position: relative;z-index: 1;}#sk-container-id-1 div.sk-parallel {display: flex;align-items: stretch;justify-content: center;background-color: white;position: relative;}#sk-container-id-1 div.sk-item::before, #sk-container-id-1 div.sk-parallel-item::before {content: \"\";position: absolute;border-left: 1px solid gray;box-sizing: border-box;top: 0;bottom: 0;left: 50%;z-index: -1;}#sk-container-id-1 div.sk-parallel-item {display: flex;flex-direction: column;z-index: 1;position: relative;background-color: white;}#sk-container-id-1 div.sk-parallel-item:first-child::after {align-self: flex-end;width: 50%;}#sk-container-id-1 div.sk-parallel-item:last-child::after {align-self: flex-start;width: 50%;}#sk-container-id-1 div.sk-parallel-item:only-child::after {width: 0;}#sk-container-id-1 div.sk-dashed-wrapped {border: 1px dashed gray;margin: 0 0.4em 0.5em 0.4em;box-sizing: border-box;padding-bottom: 0.4em;background-color: white;}#sk-container-id-1 div.sk-label label {font-family: monospace;font-weight: bold;display: inline-block;line-height: 1.2em;}#sk-container-id-1 div.sk-label-container {text-align: center;}#sk-container-id-1 div.sk-container {/* jupyter's `normalize.less` sets `[hidden] { display: none; }` but bootstrap.min.css set `[hidden] { display: none !important; }` so we also need the `!important` here to be able to override the default hidden behavior on the sphinx rendered scikit-learn.org. See: https://github.com/scikit-learn/scikit-learn/issues/21755 */display: inline-block !important;position: relative;}#sk-container-id-1 div.sk-text-repr-fallback {display: none;}</style><div id=\"sk-container-id-1\" class=\"sk-top-container\"><div class=\"sk-text-repr-fallback\"><pre>Pipeline(steps=[(&#x27;scale&#x27;, StandardScaler()),\n",
       "                (&#x27;model&#x27;, GradientBoostingClassifier())])</pre><b>In a Jupyter environment, please rerun this cell to show the HTML representation or trust the notebook. <br />On GitHub, the HTML representation is unable to render, please try loading this page with nbviewer.org.</b></div><div class=\"sk-container\" hidden><div class=\"sk-item sk-dashed-wrapped\"><div class=\"sk-label-container\"><div class=\"sk-label sk-toggleable\"><input class=\"sk-toggleable__control sk-hidden--visually\" id=\"sk-estimator-id-1\" type=\"checkbox\" ><label for=\"sk-estimator-id-1\" class=\"sk-toggleable__label sk-toggleable__label-arrow\">Pipeline</label><div class=\"sk-toggleable__content\"><pre>Pipeline(steps=[(&#x27;scale&#x27;, StandardScaler()),\n",
       "                (&#x27;model&#x27;, GradientBoostingClassifier())])</pre></div></div></div><div class=\"sk-serial\"><div class=\"sk-item\"><div class=\"sk-estimator sk-toggleable\"><input class=\"sk-toggleable__control sk-hidden--visually\" id=\"sk-estimator-id-2\" type=\"checkbox\" ><label for=\"sk-estimator-id-2\" class=\"sk-toggleable__label sk-toggleable__label-arrow\">StandardScaler</label><div class=\"sk-toggleable__content\"><pre>StandardScaler()</pre></div></div></div><div class=\"sk-item\"><div class=\"sk-estimator sk-toggleable\"><input class=\"sk-toggleable__control sk-hidden--visually\" id=\"sk-estimator-id-3\" type=\"checkbox\" ><label for=\"sk-estimator-id-3\" class=\"sk-toggleable__label sk-toggleable__label-arrow\">GradientBoostingClassifier</label><div class=\"sk-toggleable__content\"><pre>GradientBoostingClassifier()</pre></div></div></div></div></div></div></div>"
      ],
      "text/plain": [
       "Pipeline(steps=[('scale', StandardScaler()),\n",
       "                ('model', GradientBoostingClassifier())])"
      ]
     },
     "execution_count": 36,
     "metadata": {},
     "output_type": "execute_result"
    }
   ],
   "source": [
    "model.fit(X_train, y_train.values.ravel())"
   ]
  },
  {
   "cell_type": "code",
   "execution_count": 37,
   "id": "af59f8c0",
   "metadata": {
    "execution": {
     "iopub.execute_input": "2025-07-28T10:14:53.333871Z",
     "iopub.status.busy": "2025-07-28T10:14:53.333277Z",
     "iopub.status.idle": "2025-07-28T10:14:53.340063Z",
     "shell.execute_reply": "2025-07-28T10:14:53.338886Z"
    },
    "papermill": {
     "duration": 0.043778,
     "end_time": "2025-07-28T10:14:53.342320",
     "exception": false,
     "start_time": "2025-07-28T10:14:53.298542",
     "status": "completed"
    },
    "tags": []
   },
   "outputs": [],
   "source": [
    "from fairness_multiverse.universe import predict_w_threshold"
   ]
  },
  {
   "cell_type": "code",
   "execution_count": 38,
   "id": "a7cf2e16",
   "metadata": {
    "execution": {
     "iopub.execute_input": "2025-07-28T10:14:53.414217Z",
     "iopub.status.busy": "2025-07-28T10:14:53.413646Z",
     "iopub.status.idle": "2025-07-28T10:14:54.268583Z",
     "shell.execute_reply": "2025-07-28T10:14:54.267270Z"
    },
    "papermill": {
     "duration": 0.894829,
     "end_time": "2025-07-28T10:14:54.271784",
     "exception": false,
     "start_time": "2025-07-28T10:14:53.376955",
     "status": "completed"
    },
    "tags": []
   },
   "outputs": [
    {
     "data": {
      "text/plain": [
       "0.869289934232527"
      ]
     },
     "execution_count": 38,
     "metadata": {},
     "output_type": "execute_result"
    }
   ],
   "source": [
    "probs_test = model.predict_proba(X_test)\n",
    "\n",
    "'''\n",
    "Below code returns a boolean array (or binary 0/1 array depending on how it’s used) where each element \n",
    "is True if the probability of class 1 is greater than or equal to the threshold, and False otherwise.\n",
    "'''\n",
    "y_pred_default = predict_w_threshold(probs_test, 0.5)\n",
    "\n",
    "from sklearn.metrics import accuracy_score\n",
    "\n",
    "# Naive prediction\n",
    "accuracy_score(y_true = y_true, y_pred = y_pred_default)"
   ]
  },
  {
   "cell_type": "code",
   "execution_count": 39,
   "id": "081964c3",
   "metadata": {
    "execution": {
     "iopub.execute_input": "2025-07-28T10:14:54.343484Z",
     "iopub.status.busy": "2025-07-28T10:14:54.342192Z",
     "iopub.status.idle": "2025-07-28T10:14:54.935694Z",
     "shell.execute_reply": "2025-07-28T10:14:54.934719Z"
    },
    "papermill": {
     "duration": 0.631053,
     "end_time": "2025-07-28T10:14:54.937359",
     "exception": false,
     "start_time": "2025-07-28T10:14:54.306306",
     "status": "completed"
    },
    "tags": []
   },
   "outputs": [
    {
     "data": {
      "text/plain": [
       "array([0, 0, 0, ..., 0, 0, 0])"
      ]
     },
     "execution_count": 39,
     "metadata": {},
     "output_type": "execute_result"
    }
   ],
   "source": [
    "model.predict(X_test)"
   ]
  },
  {
   "cell_type": "markdown",
   "id": "56c9705b",
   "metadata": {
    "papermill": {
     "duration": 0.013067,
     "end_time": "2025-07-28T10:14:54.966460",
     "exception": false,
     "start_time": "2025-07-28T10:14:54.953393",
     "status": "completed"
    },
    "tags": []
   },
   "source": [
    "# Conformal Prediction"
   ]
  },
  {
   "cell_type": "code",
   "execution_count": 40,
   "id": "160ec6ff",
   "metadata": {
    "execution": {
     "iopub.execute_input": "2025-07-28T10:14:55.001547Z",
     "iopub.status.busy": "2025-07-28T10:14:55.000996Z",
     "iopub.status.idle": "2025-07-28T10:14:55.008517Z",
     "shell.execute_reply": "2025-07-28T10:14:55.007368Z"
    },
    "papermill": {
     "duration": 0.031538,
     "end_time": "2025-07-28T10:14:55.010598",
     "exception": false,
     "start_time": "2025-07-28T10:14:54.979060",
     "status": "completed"
    },
    "tags": []
   },
   "outputs": [],
   "source": [
    "# Miscoverage level for conformal prediction (10% allowed error rate => 90% target coverage)\n",
    "alpha = 0.1"
   ]
  },
  {
   "cell_type": "code",
   "execution_count": 41,
   "id": "eadf4555-3dd3-440e-8e35-f82a4ad9f855",
   "metadata": {
    "execution": {
     "iopub.execute_input": "2025-07-28T10:14:55.057992Z",
     "iopub.status.busy": "2025-07-28T10:14:55.057414Z",
     "iopub.status.idle": "2025-07-28T10:14:55.700501Z",
     "shell.execute_reply": "2025-07-28T10:14:55.699483Z"
    },
    "papermill": {
     "duration": 0.667553,
     "end_time": "2025-07-28T10:14:55.702229",
     "exception": false,
     "start_time": "2025-07-28T10:14:55.034676",
     "status": "completed"
    },
    "tags": []
   },
   "outputs": [],
   "source": [
    "probs_calib = model.predict_proba(X_calib)"
   ]
  },
  {
   "cell_type": "code",
   "execution_count": 42,
   "id": "2ed93547-6d5d-4983-9b36-1ecb300da49a",
   "metadata": {
    "execution": {
     "iopub.execute_input": "2025-07-28T10:14:55.761152Z",
     "iopub.status.busy": "2025-07-28T10:14:55.760684Z",
     "iopub.status.idle": "2025-07-28T10:14:55.766506Z",
     "shell.execute_reply": "2025-07-28T10:14:55.765517Z"
    },
    "papermill": {
     "duration": 0.040765,
     "end_time": "2025-07-28T10:14:55.768405",
     "exception": false,
     "start_time": "2025-07-28T10:14:55.727640",
     "status": "completed"
    },
    "tags": []
   },
   "outputs": [],
   "source": [
    "y_calib = y_calib.values.ravel().astype(int)"
   ]
  },
  {
   "cell_type": "code",
   "execution_count": 43,
   "id": "65d1320d-f588-4b38-9072-62af1ae97f7d",
   "metadata": {
    "execution": {
     "iopub.execute_input": "2025-07-28T10:14:55.817973Z",
     "iopub.status.busy": "2025-07-28T10:14:55.817235Z",
     "iopub.status.idle": "2025-07-28T10:14:55.826295Z",
     "shell.execute_reply": "2025-07-28T10:14:55.825381Z"
    },
    "papermill": {
     "duration": 0.035435,
     "end_time": "2025-07-28T10:14:55.828203",
     "exception": false,
     "start_time": "2025-07-28T10:14:55.792768",
     "status": "completed"
    },
    "tags": []
   },
   "outputs": [],
   "source": [
    "from fairness_multiverse.conformal import compute_nc_scores\n",
    "\n",
    "# Compute nonconformity scores on calibration set (1 - probability of true class)\n",
    "nc_scores = compute_nc_scores(probs_calib, y_calib)"
   ]
  },
  {
   "cell_type": "code",
   "execution_count": 44,
   "id": "df3b8ca3-53b7-43d5-9667-7c85da7aeda2",
   "metadata": {
    "execution": {
     "iopub.execute_input": "2025-07-28T10:14:55.879358Z",
     "iopub.status.busy": "2025-07-28T10:14:55.878536Z",
     "iopub.status.idle": "2025-07-28T10:14:55.886991Z",
     "shell.execute_reply": "2025-07-28T10:14:55.885906Z"
    },
    "papermill": {
     "duration": 0.035649,
     "end_time": "2025-07-28T10:14:55.888753",
     "exception": false,
     "start_time": "2025-07-28T10:14:55.853104",
     "status": "completed"
    },
    "tags": []
   },
   "outputs": [],
   "source": [
    "from fairness_multiverse.conformal import find_threshold\n",
    "\n",
    "# Find conformal threshold q_hat for the given alpha (split conformal method)\n",
    "q_hat = find_threshold(nc_scores, alpha)"
   ]
  },
  {
   "cell_type": "code",
   "execution_count": 45,
   "id": "4d29e6c1-0ef6-4aa4-b8fe-4fe79b0d033a",
   "metadata": {
    "execution": {
     "iopub.execute_input": "2025-07-28T10:14:55.937616Z",
     "iopub.status.busy": "2025-07-28T10:14:55.936726Z",
     "iopub.status.idle": "2025-07-28T10:14:55.945225Z",
     "shell.execute_reply": "2025-07-28T10:14:55.944279Z"
    },
    "papermill": {
     "duration": 0.034363,
     "end_time": "2025-07-28T10:14:55.946841",
     "exception": false,
     "start_time": "2025-07-28T10:14:55.912478",
     "status": "completed"
    },
    "tags": []
   },
   "outputs": [
    {
     "data": {
      "text/plain": [
       "0.6660724759127408"
      ]
     },
     "execution_count": 45,
     "metadata": {},
     "output_type": "execute_result"
    }
   ],
   "source": [
    "q_hat"
   ]
  },
  {
   "cell_type": "code",
   "execution_count": 46,
   "id": "92460794-cdac-4be2-ba28-f28c0515a6fb",
   "metadata": {
    "execution": {
     "iopub.execute_input": "2025-07-28T10:14:55.998360Z",
     "iopub.status.busy": "2025-07-28T10:14:55.997810Z",
     "iopub.status.idle": "2025-07-28T10:14:57.159547Z",
     "shell.execute_reply": "2025-07-28T10:14:57.158596Z"
    },
    "papermill": {
     "duration": 1.191331,
     "end_time": "2025-07-28T10:14:57.161217",
     "exception": false,
     "start_time": "2025-07-28T10:14:55.969886",
     "status": "completed"
    },
    "tags": []
   },
   "outputs": [],
   "source": [
    "from fairness_multiverse.conformal import predict_conformal_sets\n",
    "\n",
    "# Generate prediction sets for each test example\n",
    "pred_sets = predict_conformal_sets(model, X_test, q_hat)"
   ]
  },
  {
   "cell_type": "code",
   "execution_count": 47,
   "id": "d90c9a65-e6db-4f5d-80cd-e68fb7e46829",
   "metadata": {
    "execution": {
     "iopub.execute_input": "2025-07-28T10:14:57.211870Z",
     "iopub.status.busy": "2025-07-28T10:14:57.211174Z",
     "iopub.status.idle": "2025-07-28T10:14:57.217241Z",
     "shell.execute_reply": "2025-07-28T10:14:57.216235Z"
    },
    "papermill": {
     "duration": 0.034603,
     "end_time": "2025-07-28T10:14:57.218974",
     "exception": false,
     "start_time": "2025-07-28T10:14:57.184371",
     "status": "completed"
    },
    "tags": []
   },
   "outputs": [],
   "source": [
    "y_true = y_true.squeeze()"
   ]
  },
  {
   "cell_type": "code",
   "execution_count": 48,
   "id": "3a58a54a-1e68-46b9-927a-df01f18aebc8",
   "metadata": {
    "execution": {
     "iopub.execute_input": "2025-07-28T10:14:57.269857Z",
     "iopub.status.busy": "2025-07-28T10:14:57.269128Z",
     "iopub.status.idle": "2025-07-28T10:14:58.142378Z",
     "shell.execute_reply": "2025-07-28T10:14:58.141550Z"
    },
    "papermill": {
     "duration": 0.899498,
     "end_time": "2025-07-28T10:14:58.144403",
     "exception": false,
     "start_time": "2025-07-28T10:14:57.244905",
     "status": "completed"
    },
    "tags": []
   },
   "outputs": [],
   "source": [
    "from fairness_multiverse.conformal import evaluate_sets\n",
    "\n",
    "# Evaluate coverage and average set size on test data\n",
    "metrics = evaluate_sets(pred_sets, y_true)"
   ]
  },
  {
   "cell_type": "markdown",
   "id": "2b569c12-9aaa-4c88-98c9-bbcd0cf3ebb8",
   "metadata": {
    "papermill": {
     "duration": 0.012476,
     "end_time": "2025-07-28T10:14:58.184189",
     "exception": false,
     "start_time": "2025-07-28T10:14:58.171713",
     "status": "completed"
    },
    "tags": []
   },
   "source": [
    "# CP Metrics"
   ]
  },
  {
   "cell_type": "code",
   "execution_count": 49,
   "id": "5ce0a5cb-201f-45a0-ade5-94c7f0bd6095",
   "metadata": {
    "execution": {
     "iopub.execute_input": "2025-07-28T10:14:58.211054Z",
     "iopub.status.busy": "2025-07-28T10:14:58.210526Z",
     "iopub.status.idle": "2025-07-28T10:14:58.217763Z",
     "shell.execute_reply": "2025-07-28T10:14:58.217072Z"
    },
    "papermill": {
     "duration": 0.022197,
     "end_time": "2025-07-28T10:14:58.219047",
     "exception": false,
     "start_time": "2025-07-28T10:14:58.196850",
     "status": "completed"
    },
    "tags": []
   },
   "outputs": [
    {
     "data": {
      "text/plain": [
       "{'coverage': 0.9126407312451231, 'avg_size': 1.1173336305874484}"
      ]
     },
     "execution_count": 49,
     "metadata": {},
     "output_type": "execute_result"
    }
   ],
   "source": [
    "metrics"
   ]
  },
  {
   "cell_type": "code",
   "execution_count": 50,
   "id": "9b9a838d-31c9-430b-ae14-12baee460d17",
   "metadata": {
    "execution": {
     "iopub.execute_input": "2025-07-28T10:14:58.252201Z",
     "iopub.status.busy": "2025-07-28T10:14:58.251639Z",
     "iopub.status.idle": "2025-07-28T10:14:58.257465Z",
     "shell.execute_reply": "2025-07-28T10:14:58.256716Z"
    },
    "papermill": {
     "duration": 0.020995,
     "end_time": "2025-07-28T10:14:58.258926",
     "exception": false,
     "start_time": "2025-07-28T10:14:58.237931",
     "status": "completed"
    },
    "tags": []
   },
   "outputs": [],
   "source": [
    "example_universe = universe.copy()\n",
    "universe_training_size = example_universe.get(\"training_size\")\n",
    "universe_scale = example_universe.get(\"scale\")\n",
    "universe_model = example_universe.get(\"model\")\n",
    "universe_exclude_features = example_universe.get(\"exclude_features\")\n",
    "universe_exclude_subgroups = example_universe.get(\"exclude_subgroups\")"
   ]
  },
  {
   "cell_type": "code",
   "execution_count": 51,
   "id": "f4b6a8ac-9dc0-4245-8a91-5b3b5999c4f9",
   "metadata": {
    "execution": {
     "iopub.execute_input": "2025-07-28T10:14:58.286054Z",
     "iopub.status.busy": "2025-07-28T10:14:58.285547Z",
     "iopub.status.idle": "2025-07-28T10:14:58.290974Z",
     "shell.execute_reply": "2025-07-28T10:14:58.290210Z"
    },
    "papermill": {
     "duration": 0.020202,
     "end_time": "2025-07-28T10:14:58.292363",
     "exception": false,
     "start_time": "2025-07-28T10:14:58.272161",
     "status": "completed"
    },
    "tags": []
   },
   "outputs": [],
   "source": [
    "cp_metrics_dict = {\n",
    "    \"universe_id\": [universe_id],\n",
    "    \"universe_training_size\": [universe_training_size],\n",
    "    \"universe_scale\": [universe_scale],\n",
    "    \"universe_model\": [universe_model],\n",
    "    \"universe_exclude_features\": [universe_exclude_features],\n",
    "    \"universe_exclude_subgroups\": [universe_exclude_subgroups],\n",
    "    \"q_hat\": [q_hat],\n",
    "    \"coverage\": [metrics[\"coverage\"]],\n",
    "    \"avg_size\": [metrics[\"avg_size\"]],\n",
    "}"
   ]
  },
  {
   "cell_type": "code",
   "execution_count": 52,
   "id": "908acbb1-0371-4915-85ca-3fa520d2efe2",
   "metadata": {
    "execution": {
     "iopub.execute_input": "2025-07-28T10:14:58.320061Z",
     "iopub.status.busy": "2025-07-28T10:14:58.319280Z",
     "iopub.status.idle": "2025-07-28T10:14:58.325925Z",
     "shell.execute_reply": "2025-07-28T10:14:58.325144Z"
    },
    "papermill": {
     "duration": 0.021518,
     "end_time": "2025-07-28T10:14:58.327321",
     "exception": false,
     "start_time": "2025-07-28T10:14:58.305803",
     "status": "completed"
    },
    "tags": []
   },
   "outputs": [
    {
     "data": {
      "text/plain": [
       "{'universe_id': ['efa455fbb372505a0778158abc47f568'],\n",
       " 'universe_training_size': ['25k'],\n",
       " 'universe_scale': ['scale'],\n",
       " 'universe_model': ['gbm'],\n",
       " 'universe_exclude_features': ['nationality-sex'],\n",
       " 'universe_exclude_subgroups': ['keep-all'],\n",
       " 'q_hat': [0.6660724759127408],\n",
       " 'coverage': [0.9126407312451231],\n",
       " 'avg_size': [1.1173336305874484]}"
      ]
     },
     "execution_count": 52,
     "metadata": {},
     "output_type": "execute_result"
    }
   ],
   "source": [
    "cp_metrics_dict"
   ]
  },
  {
   "cell_type": "code",
   "execution_count": 53,
   "id": "33007efc-14e9-4ec6-97ac-56a455c82265",
   "metadata": {
    "execution": {
     "iopub.execute_input": "2025-07-28T10:14:58.376594Z",
     "iopub.status.busy": "2025-07-28T10:14:58.361310Z",
     "iopub.status.idle": "2025-07-28T10:14:58.381674Z",
     "shell.execute_reply": "2025-07-28T10:14:58.380911Z"
    },
    "papermill": {
     "duration": 0.042476,
     "end_time": "2025-07-28T10:14:58.383022",
     "exception": false,
     "start_time": "2025-07-28T10:14:58.340546",
     "status": "completed"
    },
    "tags": []
   },
   "outputs": [],
   "source": [
    "cp_metrics_df = pd.DataFrame(cp_metrics_dict)"
   ]
  },
  {
   "cell_type": "code",
   "execution_count": 54,
   "id": "db12611b-57b2-4910-b9d0-355adfd6e7bf",
   "metadata": {
    "execution": {
     "iopub.execute_input": "2025-07-28T10:14:58.410832Z",
     "iopub.status.busy": "2025-07-28T10:14:58.410482Z",
     "iopub.status.idle": "2025-07-28T10:14:58.425659Z",
     "shell.execute_reply": "2025-07-28T10:14:58.424551Z"
    },
    "papermill": {
     "duration": 0.030909,
     "end_time": "2025-07-28T10:14:58.427599",
     "exception": false,
     "start_time": "2025-07-28T10:14:58.396690",
     "status": "completed"
    },
    "tags": []
   },
   "outputs": [
    {
     "data": {
      "text/html": [
       "<div>\n",
       "<style scoped>\n",
       "    .dataframe tbody tr th:only-of-type {\n",
       "        vertical-align: middle;\n",
       "    }\n",
       "\n",
       "    .dataframe tbody tr th {\n",
       "        vertical-align: top;\n",
       "    }\n",
       "\n",
       "    .dataframe thead th {\n",
       "        text-align: right;\n",
       "    }\n",
       "</style>\n",
       "<table border=\"1\" class=\"dataframe\">\n",
       "  <thead>\n",
       "    <tr style=\"text-align: right;\">\n",
       "      <th></th>\n",
       "      <th>universe_id</th>\n",
       "      <th>universe_training_size</th>\n",
       "      <th>universe_scale</th>\n",
       "      <th>universe_model</th>\n",
       "      <th>universe_exclude_features</th>\n",
       "      <th>universe_exclude_subgroups</th>\n",
       "      <th>q_hat</th>\n",
       "      <th>coverage</th>\n",
       "      <th>avg_size</th>\n",
       "    </tr>\n",
       "  </thead>\n",
       "  <tbody>\n",
       "    <tr>\n",
       "      <th>0</th>\n",
       "      <td>efa455fbb372505a0778158abc47f568</td>\n",
       "      <td>25k</td>\n",
       "      <td>scale</td>\n",
       "      <td>gbm</td>\n",
       "      <td>nationality-sex</td>\n",
       "      <td>keep-all</td>\n",
       "      <td>0.666072</td>\n",
       "      <td>0.912641</td>\n",
       "      <td>1.117334</td>\n",
       "    </tr>\n",
       "  </tbody>\n",
       "</table>\n",
       "</div>"
      ],
      "text/plain": [
       "                        universe_id universe_training_size universe_scale  \\\n",
       "0  efa455fbb372505a0778158abc47f568                    25k          scale   \n",
       "\n",
       "  universe_model universe_exclude_features universe_exclude_subgroups  \\\n",
       "0            gbm           nationality-sex                   keep-all   \n",
       "\n",
       "      q_hat  coverage  avg_size  \n",
       "0  0.666072  0.912641  1.117334  "
      ]
     },
     "execution_count": 54,
     "metadata": {},
     "output_type": "execute_result"
    }
   ],
   "source": [
    "cp_metrics_df"
   ]
  },
  {
   "cell_type": "code",
   "execution_count": 55,
   "id": "b7fbde55-a0a1-47e4-9af6-fe4a17fa8c61",
   "metadata": {
    "execution": {
     "iopub.execute_input": "2025-07-28T10:14:58.479833Z",
     "iopub.status.busy": "2025-07-28T10:14:58.479083Z",
     "iopub.status.idle": "2025-07-28T10:14:58.484674Z",
     "shell.execute_reply": "2025-07-28T10:14:58.483581Z"
    },
    "papermill": {
     "duration": 0.033857,
     "end_time": "2025-07-28T10:14:58.486653",
     "exception": false,
     "start_time": "2025-07-28T10:14:58.452796",
     "status": "completed"
    },
    "tags": []
   },
   "outputs": [],
   "source": [
    "# Conditional Coverage & looking at subgroups"
   ]
  },
  {
   "cell_type": "code",
   "execution_count": 56,
   "id": "027ae886-68dd-4141-96c7-805a5450e1ef",
   "metadata": {
    "execution": {
     "iopub.execute_input": "2025-07-28T10:14:58.541795Z",
     "iopub.status.busy": "2025-07-28T10:14:58.541233Z",
     "iopub.status.idle": "2025-07-28T10:14:58.851358Z",
     "shell.execute_reply": "2025-07-28T10:14:58.850287Z"
    },
    "papermill": {
     "duration": 0.340554,
     "end_time": "2025-07-28T10:14:58.853524",
     "exception": false,
     "start_time": "2025-07-28T10:14:58.512970",
     "status": "completed"
    },
    "tags": []
   },
   "outputs": [],
   "source": [
    "from fairness_multiverse.conformal import build_cp_groups\n",
    "\n",
    "cp_groups_df = build_cp_groups(pred_sets, y_true, X_test.index, org_test)\n",
    "#needs universe_id and setting"
   ]
  },
  {
   "cell_type": "code",
   "execution_count": 57,
   "id": "01d5802c-663a-4d1f-9d69-e036faaffbf7",
   "metadata": {
    "execution": {
     "iopub.execute_input": "2025-07-28T10:14:58.908422Z",
     "iopub.status.busy": "2025-07-28T10:14:58.907359Z",
     "iopub.status.idle": "2025-07-28T10:14:58.912908Z",
     "shell.execute_reply": "2025-07-28T10:14:58.911855Z"
    },
    "papermill": {
     "duration": 0.034717,
     "end_time": "2025-07-28T10:14:58.914543",
     "exception": false,
     "start_time": "2025-07-28T10:14:58.879826",
     "status": "completed"
    },
    "tags": []
   },
   "outputs": [],
   "source": [
    "#delete\n",
    "#cp_groups_df"
   ]
  },
  {
   "cell_type": "code",
   "execution_count": 58,
   "id": "fa424af1-d1eb-443d-b717-2d279ada8408",
   "metadata": {
    "execution": {
     "iopub.execute_input": "2025-07-28T10:14:58.969078Z",
     "iopub.status.busy": "2025-07-28T10:14:58.968314Z",
     "iopub.status.idle": "2025-07-28T10:14:58.973676Z",
     "shell.execute_reply": "2025-07-28T10:14:58.972769Z"
    },
    "papermill": {
     "duration": 0.034493,
     "end_time": "2025-07-28T10:14:58.975405",
     "exception": false,
     "start_time": "2025-07-28T10:14:58.940912",
     "status": "completed"
    },
    "tags": []
   },
   "outputs": [],
   "source": [
    "#delete\n",
    "#percentage = (cp_groups_df['nongerman_female'] == 1).mean() * 100\n",
    "#print(percentage)\n"
   ]
  },
  {
   "cell_type": "code",
   "execution_count": 59,
   "id": "6cbdab96-b2b2-45af-ad54-d0516db2e28d",
   "metadata": {
    "execution": {
     "iopub.execute_input": "2025-07-28T10:14:59.030392Z",
     "iopub.status.busy": "2025-07-28T10:14:59.029652Z",
     "iopub.status.idle": "2025-07-28T10:15:01.092211Z",
     "shell.execute_reply": "2025-07-28T10:15:01.091293Z"
    },
    "papermill": {
     "duration": 2.091981,
     "end_time": "2025-07-28T10:15:01.094291",
     "exception": false,
     "start_time": "2025-07-28T10:14:59.002310",
     "status": "completed"
    },
    "tags": []
   },
   "outputs": [],
   "source": [
    "# Define covered = 1 if true_label is in the predicted set\n",
    "cp_groups_df['covered'] = cp_groups_df.apply(\n",
    "    lambda r: int(r['true_label'] in r['pred_set']),\n",
    "    axis=1\n",
    ")"
   ]
  },
  {
   "cell_type": "code",
   "execution_count": 60,
   "id": "338ff529-1a6b-4b87-a931-8e4788d52aad",
   "metadata": {
    "execution": {
     "iopub.execute_input": "2025-07-28T10:15:01.153634Z",
     "iopub.status.busy": "2025-07-28T10:15:01.153105Z",
     "iopub.status.idle": "2025-07-28T10:15:01.159220Z",
     "shell.execute_reply": "2025-07-28T10:15:01.158175Z"
    },
    "papermill": {
     "duration": 0.036113,
     "end_time": "2025-07-28T10:15:01.161231",
     "exception": false,
     "start_time": "2025-07-28T10:15:01.125118",
     "status": "completed"
    },
    "tags": []
   },
   "outputs": [],
   "source": [
    "#cp_groups_df"
   ]
  },
  {
   "cell_type": "code",
   "execution_count": 61,
   "id": "90032e27-66df-4540-9169-4e89cfbaa758",
   "metadata": {
    "execution": {
     "iopub.execute_input": "2025-07-28T10:15:01.223751Z",
     "iopub.status.busy": "2025-07-28T10:15:01.222871Z",
     "iopub.status.idle": "2025-07-28T10:15:01.234865Z",
     "shell.execute_reply": "2025-07-28T10:15:01.233933Z"
    },
    "papermill": {
     "duration": 0.048516,
     "end_time": "2025-07-28T10:15:01.236777",
     "exception": false,
     "start_time": "2025-07-28T10:15:01.188261",
     "status": "completed"
    },
    "tags": []
   },
   "outputs": [],
   "source": [
    "subgroups = ['frau1','nongerman','nongerman_male','nongerman_female']\n",
    "\n",
    "# Conditional coverage for subgroup==1\n",
    "cond_coverage = {\n",
    "    g: cp_groups_df.loc[cp_groups_df[g]==1, 'covered'].mean()\n",
    "    for g in subgroups\n",
    "}"
   ]
  },
  {
   "cell_type": "code",
   "execution_count": 62,
   "id": "1e348fb1-b9c3-45bc-ba23-f016827a7e0d",
   "metadata": {
    "execution": {
     "iopub.execute_input": "2025-07-28T10:15:01.293159Z",
     "iopub.status.busy": "2025-07-28T10:15:01.292213Z",
     "iopub.status.idle": "2025-07-28T10:15:01.372197Z",
     "shell.execute_reply": "2025-07-28T10:15:01.371104Z"
    },
    "papermill": {
     "duration": 0.110926,
     "end_time": "2025-07-28T10:15:01.374472",
     "exception": false,
     "start_time": "2025-07-28T10:15:01.263546",
     "status": "completed"
    },
    "tags": []
   },
   "outputs": [
    {
     "data": {
      "text/plain": [
       "{'frau1': 0.9123871141663297,\n",
       " 'nongerman': 0.9101218211418627,\n",
       " 'nongerman_male': 0.9258758893992615,\n",
       " 'nongerman_female': 0.884053651266766}"
      ]
     },
     "execution_count": 62,
     "metadata": {},
     "output_type": "execute_result"
    }
   ],
   "source": [
    "cond_coverage"
   ]
  },
  {
   "cell_type": "code",
   "execution_count": 63,
   "id": "f5093324-c3dd-4d63-bc4c-8d945e5c8bbb",
   "metadata": {
    "execution": {
     "iopub.execute_input": "2025-07-28T10:15:01.419571Z",
     "iopub.status.busy": "2025-07-28T10:15:01.419140Z",
     "iopub.status.idle": "2025-07-28T10:15:01.426986Z",
     "shell.execute_reply": "2025-07-28T10:15:01.425961Z"
    },
    "papermill": {
     "duration": 0.02776,
     "end_time": "2025-07-28T10:15:01.430315",
     "exception": false,
     "start_time": "2025-07-28T10:15:01.402555",
     "status": "completed"
    },
    "tags": []
   },
   "outputs": [],
   "source": [
    "for subgroup, cov in cond_coverage.items():\n",
    "    cp_metrics_df[f\"cov_{subgroup}\"] = cov"
   ]
  },
  {
   "cell_type": "code",
   "execution_count": 64,
   "id": "6e872e10-dbe5-49e8-b554-5030c98ff75d",
   "metadata": {
    "execution": {
     "iopub.execute_input": "2025-07-28T10:15:01.483851Z",
     "iopub.status.busy": "2025-07-28T10:15:01.482753Z",
     "iopub.status.idle": "2025-07-28T10:15:01.503476Z",
     "shell.execute_reply": "2025-07-28T10:15:01.502389Z"
    },
    "papermill": {
     "duration": 0.046565,
     "end_time": "2025-07-28T10:15:01.505129",
     "exception": false,
     "start_time": "2025-07-28T10:15:01.458564",
     "status": "completed"
    },
    "tags": []
   },
   "outputs": [
    {
     "data": {
      "text/html": [
       "<div>\n",
       "<style scoped>\n",
       "    .dataframe tbody tr th:only-of-type {\n",
       "        vertical-align: middle;\n",
       "    }\n",
       "\n",
       "    .dataframe tbody tr th {\n",
       "        vertical-align: top;\n",
       "    }\n",
       "\n",
       "    .dataframe thead th {\n",
       "        text-align: right;\n",
       "    }\n",
       "</style>\n",
       "<table border=\"1\" class=\"dataframe\">\n",
       "  <thead>\n",
       "    <tr style=\"text-align: right;\">\n",
       "      <th></th>\n",
       "      <th>universe_id</th>\n",
       "      <th>universe_training_size</th>\n",
       "      <th>universe_scale</th>\n",
       "      <th>universe_model</th>\n",
       "      <th>universe_exclude_features</th>\n",
       "      <th>universe_exclude_subgroups</th>\n",
       "      <th>q_hat</th>\n",
       "      <th>coverage</th>\n",
       "      <th>avg_size</th>\n",
       "      <th>cov_frau1</th>\n",
       "      <th>cov_nongerman</th>\n",
       "      <th>cov_nongerman_male</th>\n",
       "      <th>cov_nongerman_female</th>\n",
       "    </tr>\n",
       "  </thead>\n",
       "  <tbody>\n",
       "    <tr>\n",
       "      <th>0</th>\n",
       "      <td>efa455fbb372505a0778158abc47f568</td>\n",
       "      <td>25k</td>\n",
       "      <td>scale</td>\n",
       "      <td>gbm</td>\n",
       "      <td>nationality-sex</td>\n",
       "      <td>keep-all</td>\n",
       "      <td>0.666072</td>\n",
       "      <td>0.912641</td>\n",
       "      <td>1.117334</td>\n",
       "      <td>0.912387</td>\n",
       "      <td>0.910122</td>\n",
       "      <td>0.925876</td>\n",
       "      <td>0.884054</td>\n",
       "    </tr>\n",
       "  </tbody>\n",
       "</table>\n",
       "</div>"
      ],
      "text/plain": [
       "                        universe_id universe_training_size universe_scale  \\\n",
       "0  efa455fbb372505a0778158abc47f568                    25k          scale   \n",
       "\n",
       "  universe_model universe_exclude_features universe_exclude_subgroups  \\\n",
       "0            gbm           nationality-sex                   keep-all   \n",
       "\n",
       "      q_hat  coverage  avg_size  cov_frau1  cov_nongerman  cov_nongerman_male  \\\n",
       "0  0.666072  0.912641  1.117334   0.912387       0.910122            0.925876   \n",
       "\n",
       "   cov_nongerman_female  \n",
       "0              0.884054  "
      ]
     },
     "execution_count": 64,
     "metadata": {},
     "output_type": "execute_result"
    }
   ],
   "source": [
    "cp_metrics_df"
   ]
  },
  {
   "cell_type": "markdown",
   "id": "33774451",
   "metadata": {
    "papermill": {
     "duration": 0.013564,
     "end_time": "2025-07-28T10:15:01.536350",
     "exception": false,
     "start_time": "2025-07-28T10:15:01.522786",
     "status": "completed"
    },
    "tags": []
   },
   "source": [
    "# (Fairness) Metrics"
   ]
  },
  {
   "cell_type": "code",
   "execution_count": 65,
   "id": "debc5d62",
   "metadata": {
    "execution": {
     "iopub.execute_input": "2025-07-28T10:15:01.566390Z",
     "iopub.status.busy": "2025-07-28T10:15:01.565322Z",
     "iopub.status.idle": "2025-07-28T10:15:01.581324Z",
     "shell.execute_reply": "2025-07-28T10:15:01.580555Z"
    },
    "papermill": {
     "duration": 0.033073,
     "end_time": "2025-07-28T10:15:01.582841",
     "exception": false,
     "start_time": "2025-07-28T10:15:01.549768",
     "status": "completed"
    },
    "tags": []
   },
   "outputs": [],
   "source": [
    "# do I need to include maxdeutsch1.missing?\n",
    "\n",
    "import numpy as np\n",
    "\n",
    "colname_to_bin = \"maxdeutsch1\"\n",
    "majority_value = org_train[colname_to_bin].mode()[0]\n",
    "\n",
    "org_test[\"majmin\"] = np.where(org_test[colname_to_bin] == majority_value, \"majority\", \"minority\")"
   ]
  },
  {
   "cell_type": "code",
   "execution_count": 66,
   "id": "06a50de5",
   "metadata": {
    "execution": {
     "iopub.execute_input": "2025-07-28T10:15:01.612174Z",
     "iopub.status.busy": "2025-07-28T10:15:01.611611Z",
     "iopub.status.idle": "2025-07-28T10:15:04.463361Z",
     "shell.execute_reply": "2025-07-28T10:15:04.462148Z"
    },
    "papermill": {
     "duration": 2.868379,
     "end_time": "2025-07-28T10:15:04.465502",
     "exception": false,
     "start_time": "2025-07-28T10:15:01.597123",
     "status": "completed"
    },
    "tags": []
   },
   "outputs": [],
   "source": [
    "example_universe = universe.copy()\n",
    "example_universe[\"cutoff\"] = example_universe[\"cutoff\"][0]\n",
    "example_universe[\"eval_fairness_grouping\"] = example_universe[\"eval_fairness_grouping\"][0]\n",
    "fairness_dict, metric_frame = universe_analysis.compute_metrics(\n",
    "    example_universe,\n",
    "    y_pred_prob=probs_test,\n",
    "    y_test=y_true,\n",
    "    org_test=org_test,\n",
    ")"
   ]
  },
  {
   "cell_type": "markdown",
   "id": "f95d4e02",
   "metadata": {
    "papermill": {
     "duration": 0.026682,
     "end_time": "2025-07-28T10:15:04.519388",
     "exception": false,
     "start_time": "2025-07-28T10:15:04.492706",
     "status": "completed"
    },
    "tags": []
   },
   "source": [
    "# Overall"
   ]
  },
  {
   "cell_type": "markdown",
   "id": "bdee4871",
   "metadata": {
    "papermill": {
     "duration": 0.028044,
     "end_time": "2025-07-28T10:15:04.575002",
     "exception": false,
     "start_time": "2025-07-28T10:15:04.546958",
     "status": "completed"
    },
    "tags": []
   },
   "source": [
    "Fairness\n",
    "Main fairness target: Equalized Odds. Seems to be a better fit than equal opportunity, since we're not only interested in Y = 1. Seems to be a better fit than demographic parity, since we also care about accuracy, not just equal distribution of preds.\n",
    "\n",
    "Pick column for computation of fairness metrics\n",
    "\n",
    "Performance\n",
    "Overall performance measures, most interesting in relation to the measures split by group below"
   ]
  },
  {
   "cell_type": "code",
   "execution_count": 67,
   "id": "c4e067c6",
   "metadata": {
    "execution": {
     "iopub.execute_input": "2025-07-28T10:15:04.630408Z",
     "iopub.status.busy": "2025-07-28T10:15:04.629813Z",
     "iopub.status.idle": "2025-07-28T10:15:04.639958Z",
     "shell.execute_reply": "2025-07-28T10:15:04.639016Z"
    },
    "papermill": {
     "duration": 0.039834,
     "end_time": "2025-07-28T10:15:04.641786",
     "exception": false,
     "start_time": "2025-07-28T10:15:04.601952",
     "status": "completed"
    },
    "tags": []
   },
   "outputs": [
    {
     "data": {
      "text/plain": [
       "accuracy                   0.225326\n",
       "balanced accuracy          0.550772\n",
       "f1                         0.246639\n",
       "precision                  0.140897\n",
       "false positive rate        0.886985\n",
       "false negative rate        0.011470\n",
       "selection rate             0.900011\n",
       "count                  89710.000000\n",
       "dtype: float64"
      ]
     },
     "execution_count": 67,
     "metadata": {},
     "output_type": "execute_result"
    }
   ],
   "source": [
    "metric_frame.overall"
   ]
  },
  {
   "cell_type": "markdown",
   "id": "e968fe9d",
   "metadata": {
    "papermill": {
     "duration": 0.027863,
     "end_time": "2025-07-28T10:15:04.696955",
     "exception": false,
     "start_time": "2025-07-28T10:15:04.669092",
     "status": "completed"
    },
    "tags": []
   },
   "source": [
    "By Group"
   ]
  },
  {
   "cell_type": "code",
   "execution_count": 68,
   "id": "ec325bce",
   "metadata": {
    "execution": {
     "iopub.execute_input": "2025-07-28T10:15:04.752847Z",
     "iopub.status.busy": "2025-07-28T10:15:04.752349Z",
     "iopub.status.idle": "2025-07-28T10:15:04.768934Z",
     "shell.execute_reply": "2025-07-28T10:15:04.767941Z"
    },
    "papermill": {
     "duration": 0.047333,
     "end_time": "2025-07-28T10:15:04.770473",
     "exception": false,
     "start_time": "2025-07-28T10:15:04.723140",
     "status": "completed"
    },
    "tags": []
   },
   "outputs": [
    {
     "data": {
      "text/html": [
       "<div>\n",
       "<style scoped>\n",
       "    .dataframe tbody tr th:only-of-type {\n",
       "        vertical-align: middle;\n",
       "    }\n",
       "\n",
       "    .dataframe tbody tr th {\n",
       "        vertical-align: top;\n",
       "    }\n",
       "\n",
       "    .dataframe thead th {\n",
       "        text-align: right;\n",
       "    }\n",
       "</style>\n",
       "<table border=\"1\" class=\"dataframe\">\n",
       "  <thead>\n",
       "    <tr style=\"text-align: right;\">\n",
       "      <th></th>\n",
       "      <th>accuracy</th>\n",
       "      <th>balanced accuracy</th>\n",
       "      <th>f1</th>\n",
       "      <th>precision</th>\n",
       "      <th>false positive rate</th>\n",
       "      <th>false negative rate</th>\n",
       "      <th>selection rate</th>\n",
       "      <th>count</th>\n",
       "    </tr>\n",
       "    <tr>\n",
       "      <th>majmin</th>\n",
       "      <th></th>\n",
       "      <th></th>\n",
       "      <th></th>\n",
       "      <th></th>\n",
       "      <th></th>\n",
       "      <th></th>\n",
       "      <th></th>\n",
       "      <th></th>\n",
       "    </tr>\n",
       "  </thead>\n",
       "  <tbody>\n",
       "    <tr>\n",
       "      <th>majority</th>\n",
       "      <td>0.244918</td>\n",
       "      <td>0.559643</td>\n",
       "      <td>0.256833</td>\n",
       "      <td>0.147614</td>\n",
       "      <td>0.868133</td>\n",
       "      <td>0.012582</td>\n",
       "      <td>0.883895</td>\n",
       "      <td>69170.0</td>\n",
       "    </tr>\n",
       "    <tr>\n",
       "      <th>minority</th>\n",
       "      <td>0.159348</td>\n",
       "      <td>0.521779</td>\n",
       "      <td>0.214029</td>\n",
       "      <td>0.119943</td>\n",
       "      <td>0.949263</td>\n",
       "      <td>0.007179</td>\n",
       "      <td>0.954284</td>\n",
       "      <td>20540.0</td>\n",
       "    </tr>\n",
       "  </tbody>\n",
       "</table>\n",
       "</div>"
      ],
      "text/plain": [
       "          accuracy  balanced accuracy        f1  precision  \\\n",
       "majmin                                                       \n",
       "majority  0.244918           0.559643  0.256833   0.147614   \n",
       "minority  0.159348           0.521779  0.214029   0.119943   \n",
       "\n",
       "          false positive rate  false negative rate  selection rate    count  \n",
       "majmin                                                                       \n",
       "majority             0.868133             0.012582        0.883895  69170.0  \n",
       "minority             0.949263             0.007179        0.954284  20540.0  "
      ]
     },
     "execution_count": 68,
     "metadata": {},
     "output_type": "execute_result"
    }
   ],
   "source": [
    "metric_frame.by_group"
   ]
  },
  {
   "cell_type": "code",
   "execution_count": 69,
   "id": "a9ddbe63",
   "metadata": {
    "execution": {
     "iopub.execute_input": "2025-07-28T10:15:04.832301Z",
     "iopub.status.busy": "2025-07-28T10:15:04.827953Z",
     "iopub.status.idle": "2025-07-28T10:15:07.555095Z",
     "shell.execute_reply": "2025-07-28T10:15:07.553051Z"
    },
    "papermill": {
     "duration": 2.758591,
     "end_time": "2025-07-28T10:15:07.556794",
     "exception": false,
     "start_time": "2025-07-28T10:15:04.798203",
     "status": "completed"
    },
    "tags": []
   },
   "outputs": [
    {
     "data": {
      "text/plain": [
       "array([[<Axes: title={'center': 'accuracy'}, xlabel='majmin'>,\n",
       "        <Axes: title={'center': 'balanced accuracy'}, xlabel='majmin'>,\n",
       "        <Axes: title={'center': 'f1'}, xlabel='majmin'>],\n",
       "       [<Axes: title={'center': 'precision'}, xlabel='majmin'>,\n",
       "        <Axes: title={'center': 'false positive rate'}, xlabel='majmin'>,\n",
       "        <Axes: title={'center': 'false negative rate'}, xlabel='majmin'>],\n",
       "       [<Axes: title={'center': 'selection rate'}, xlabel='majmin'>,\n",
       "        <Axes: title={'center': 'count'}, xlabel='majmin'>,\n",
       "        <Axes: xlabel='majmin'>]], dtype=object)"
      ]
     },
     "execution_count": 69,
     "metadata": {},
     "output_type": "execute_result"
    },
    {
     "data": {
      "image/png": "[encoded data removed]",
      "text/plain": [
       "<Figure size 1200x800 with 9 Axes>"
      ]
     },
     "metadata": {},
     "output_type": "display_data"
    }
   ],
   "source": [
    "# In a graphic\n",
    "metric_frame.by_group.plot.bar(\n",
    "    subplots=True,\n",
    "    layout=[3, 3],\n",
    "    legend=False,\n",
    "    figsize=[12, 8],\n",
    "    title=\"Show all metrics\",\n",
    ")"
   ]
  },
  {
   "cell_type": "markdown",
   "id": "f57a0bac",
   "metadata": {
    "papermill": {
     "duration": 0.026002,
     "end_time": "2025-07-28T10:15:07.609739",
     "exception": false,
     "start_time": "2025-07-28T10:15:07.583737",
     "status": "completed"
    },
    "tags": []
   },
   "source": [
    "# Final Output"
   ]
  },
  {
   "cell_type": "code",
   "execution_count": 70,
   "id": "96d280a3",
   "metadata": {
    "execution": {
     "iopub.execute_input": "2025-07-28T10:15:07.663665Z",
     "iopub.status.busy": "2025-07-28T10:15:07.662908Z",
     "iopub.status.idle": "2025-07-28T10:15:07.672800Z",
     "shell.execute_reply": "2025-07-28T10:15:07.671813Z"
    },
    "papermill": {
     "duration": 0.038796,
     "end_time": "2025-07-28T10:15:07.674383",
     "exception": false,
     "start_time": "2025-07-28T10:15:07.635587",
     "status": "completed"
    },
    "tags": []
   },
   "outputs": [
    {
     "data": {
      "text/plain": [
       "4"
      ]
     },
     "execution_count": 70,
     "metadata": {},
     "output_type": "execute_result"
    }
   ],
   "source": [
    "sub_universes = universe_analysis.generate_sub_universes()\n",
    "len(sub_universes)"
   ]
  },
  {
   "cell_type": "code",
   "execution_count": 71,
   "id": "92adf7ba",
   "metadata": {
    "execution": {
     "iopub.execute_input": "2025-07-28T10:15:07.728566Z",
     "iopub.status.busy": "2025-07-28T10:15:07.727963Z",
     "iopub.status.idle": "2025-07-28T10:15:07.734580Z",
     "shell.execute_reply": "2025-07-28T10:15:07.733549Z"
    },
    "papermill": {
     "duration": 0.035555,
     "end_time": "2025-07-28T10:15:07.736235",
     "exception": false,
     "start_time": "2025-07-28T10:15:07.700680",
     "status": "completed"
    },
    "tags": []
   },
   "outputs": [],
   "source": [
    "def filter_sub_universe_data(sub_universe, org_test):\n",
    "    # Keep all rows — no filtering\n",
    "    keep_rows_mask = np.ones(org_test.shape[0], dtype=bool)\n",
    "\n",
    "    print(f\"[INFO] Keeping all rows: {keep_rows_mask.sum()} rows retained.\")\n",
    "    return keep_rows_mask"
   ]
  },
  {
   "cell_type": "code",
   "execution_count": 72,
   "id": "4a759155",
   "metadata": {
    "execution": {
     "iopub.execute_input": "2025-07-28T10:15:07.791429Z",
     "iopub.status.busy": "2025-07-28T10:15:07.790749Z",
     "iopub.status.idle": "2025-07-28T10:15:19.385841Z",
     "shell.execute_reply": "2025-07-28T10:15:19.384980Z"
    },
    "papermill": {
     "duration": 11.624613,
     "end_time": "2025-07-28T10:15:19.387553",
     "exception": false,
     "start_time": "2025-07-28T10:15:07.762940",
     "status": "completed"
    },
    "tags": []
   },
   "outputs": [
    {
     "name": "stdout",
     "output_type": "stream",
     "text": [
      "Stopping execution_time clock.\n",
      "[INFO] Keeping all rows: 89710 rows retained.\n"
     ]
    },
    {
     "name": "stdout",
     "output_type": "stream",
     "text": [
      "[INFO] Keeping all rows: 89710 rows retained.\n"
     ]
    },
    {
     "name": "stdout",
     "output_type": "stream",
     "text": [
      "[INFO] Keeping all rows: 89710 rows retained.\n"
     ]
    },
    {
     "name": "stdout",
     "output_type": "stream",
     "text": [
      "[INFO] Keeping all rows: 89710 rows retained.\n"
     ]
    },
    {
     "data": {
      "text/html": [
       "<div>\n",
       "<style scoped>\n",
       "    .dataframe tbody tr th:only-of-type {\n",
       "        vertical-align: middle;\n",
       "    }\n",
       "\n",
       "    .dataframe tbody tr th {\n",
       "        vertical-align: top;\n",
       "    }\n",
       "\n",
       "    .dataframe thead th {\n",
       "        text-align: right;\n",
       "    }\n",
       "</style>\n",
       "<table border=\"1\" class=\"dataframe\">\n",
       "  <thead>\n",
       "    <tr style=\"text-align: right;\">\n",
       "      <th></th>\n",
       "      <th>run_no</th>\n",
       "      <th>universe_id</th>\n",
       "      <th>universe_settings</th>\n",
       "      <th>execution_time</th>\n",
       "      <th>test_size_n</th>\n",
       "      <th>test_size_frac</th>\n",
       "      <th>fair_main_equalized_odds_difference</th>\n",
       "      <th>fair_main_equalized_odds_ratio</th>\n",
       "      <th>fair_main_demographic_parity_difference</th>\n",
       "      <th>fair_main_demographic_parity_ratio</th>\n",
       "      <th>...</th>\n",
       "      <th>perf_grp_precision_0</th>\n",
       "      <th>perf_grp_precision_1</th>\n",
       "      <th>perf_grp_false positive rate_0</th>\n",
       "      <th>perf_grp_false positive rate_1</th>\n",
       "      <th>perf_grp_false negative rate_0</th>\n",
       "      <th>perf_grp_false negative rate_1</th>\n",
       "      <th>perf_grp_selection rate_0</th>\n",
       "      <th>perf_grp_selection rate_1</th>\n",
       "      <th>perf_grp_count_0</th>\n",
       "      <th>perf_grp_count_1</th>\n",
       "    </tr>\n",
       "  </thead>\n",
       "  <tbody>\n",
       "    <tr>\n",
       "      <th>0</th>\n",
       "      <td>11</td>\n",
       "      <td>efa455fbb372505a0778158abc47f568</td>\n",
       "      <td>{\"cutoff\": \"quantile_0.1\", \"eval_fairness_grou...</td>\n",
       "      <td>57.924879</td>\n",
       "      <td>89710</td>\n",
       "      <td>1.0</td>\n",
       "      <td>0.081130</td>\n",
       "      <td>0.914534</td>\n",
       "      <td>0.070390</td>\n",
       "      <td>0.926238</td>\n",
       "      <td>...</td>\n",
       "      <td>NaN</td>\n",
       "      <td>NaN</td>\n",
       "      <td>NaN</td>\n",
       "      <td>NaN</td>\n",
       "      <td>NaN</td>\n",
       "      <td>NaN</td>\n",
       "      <td>NaN</td>\n",
       "      <td>NaN</td>\n",
       "      <td>NaN</td>\n",
       "      <td>NaN</td>\n",
       "    </tr>\n",
       "    <tr>\n",
       "      <th>0</th>\n",
       "      <td>11</td>\n",
       "      <td>efa455fbb372505a0778158abc47f568</td>\n",
       "      <td>{\"cutoff\": \"quantile_0.1\", \"eval_fairness_grou...</td>\n",
       "      <td>57.924879</td>\n",
       "      <td>89710</td>\n",
       "      <td>1.0</td>\n",
       "      <td>0.081130</td>\n",
       "      <td>0.914534</td>\n",
       "      <td>0.070390</td>\n",
       "      <td>0.926238</td>\n",
       "      <td>...</td>\n",
       "      <td>0.119943</td>\n",
       "      <td>0.147614</td>\n",
       "      <td>0.949263</td>\n",
       "      <td>0.868133</td>\n",
       "      <td>0.007179</td>\n",
       "      <td>0.012582</td>\n",
       "      <td>0.954284</td>\n",
       "      <td>0.883895</td>\n",
       "      <td>20540.0</td>\n",
       "      <td>69170.0</td>\n",
       "    </tr>\n",
       "    <tr>\n",
       "      <th>0</th>\n",
       "      <td>11</td>\n",
       "      <td>efa455fbb372505a0778158abc47f568</td>\n",
       "      <td>{\"cutoff\": \"quantile_0.25\", \"eval_fairness_gro...</td>\n",
       "      <td>57.924879</td>\n",
       "      <td>89710</td>\n",
       "      <td>1.0</td>\n",
       "      <td>0.082142</td>\n",
       "      <td>0.895154</td>\n",
       "      <td>0.066938</td>\n",
       "      <td>0.916495</td>\n",
       "      <td>...</td>\n",
       "      <td>NaN</td>\n",
       "      <td>NaN</td>\n",
       "      <td>NaN</td>\n",
       "      <td>NaN</td>\n",
       "      <td>NaN</td>\n",
       "      <td>NaN</td>\n",
       "      <td>NaN</td>\n",
       "      <td>NaN</td>\n",
       "      <td>NaN</td>\n",
       "      <td>NaN</td>\n",
       "    </tr>\n",
       "    <tr>\n",
       "      <th>0</th>\n",
       "      <td>11</td>\n",
       "      <td>efa455fbb372505a0778158abc47f568</td>\n",
       "      <td>{\"cutoff\": \"quantile_0.25\", \"eval_fairness_gro...</td>\n",
       "      <td>57.924879</td>\n",
       "      <td>89710</td>\n",
       "      <td>1.0</td>\n",
       "      <td>0.082142</td>\n",
       "      <td>0.895154</td>\n",
       "      <td>0.066938</td>\n",
       "      <td>0.916495</td>\n",
       "      <td>...</td>\n",
       "      <td>0.135317</td>\n",
       "      <td>0.171537</td>\n",
       "      <td>0.783458</td>\n",
       "      <td>0.701316</td>\n",
       "      <td>0.059122</td>\n",
       "      <td>0.046280</td>\n",
       "      <td>0.801607</td>\n",
       "      <td>0.734668</td>\n",
       "      <td>20540.0</td>\n",
       "      <td>69170.0</td>\n",
       "    </tr>\n",
       "  </tbody>\n",
       "</table>\n",
       "<p>4 rows × 50 columns</p>\n",
       "</div>"
      ],
      "text/plain": [
       "  run_no                       universe_id  \\\n",
       "0     11  efa455fbb372505a0778158abc47f568   \n",
       "0     11  efa455fbb372505a0778158abc47f568   \n",
       "0     11  efa455fbb372505a0778158abc47f568   \n",
       "0     11  efa455fbb372505a0778158abc47f568   \n",
       "\n",
       "                                   universe_settings  execution_time  \\\n",
       "0  {\"cutoff\": \"quantile_0.1\", \"eval_fairness_grou...       57.924879   \n",
       "0  {\"cutoff\": \"quantile_0.1\", \"eval_fairness_grou...       57.924879   \n",
       "0  {\"cutoff\": \"quantile_0.25\", \"eval_fairness_gro...       57.924879   \n",
       "0  {\"cutoff\": \"quantile_0.25\", \"eval_fairness_gro...       57.924879   \n",
       "\n",
       "   test_size_n  test_size_frac  fair_main_equalized_odds_difference  \\\n",
       "0        89710             1.0                             0.081130   \n",
       "0        89710             1.0                             0.081130   \n",
       "0        89710             1.0                             0.082142   \n",
       "0        89710             1.0                             0.082142   \n",
       "\n",
       "   fair_main_equalized_odds_ratio  fair_main_demographic_parity_difference  \\\n",
       "0                        0.914534                                 0.070390   \n",
       "0                        0.914534                                 0.070390   \n",
       "0                        0.895154                                 0.066938   \n",
       "0                        0.895154                                 0.066938   \n",
       "\n",
       "   fair_main_demographic_parity_ratio  ...  perf_grp_precision_0  \\\n",
       "0                            0.926238  ...                   NaN   \n",
       "0                            0.926238  ...              0.119943   \n",
       "0                            0.916495  ...                   NaN   \n",
       "0                            0.916495  ...              0.135317   \n",
       "\n",
       "   perf_grp_precision_1  perf_grp_false positive rate_0  \\\n",
       "0                   NaN                             NaN   \n",
       "0              0.147614                        0.949263   \n",
       "0                   NaN                             NaN   \n",
       "0              0.171537                        0.783458   \n",
       "\n",
       "   perf_grp_false positive rate_1  perf_grp_false negative rate_0  \\\n",
       "0                             NaN                             NaN   \n",
       "0                        0.868133                        0.007179   \n",
       "0                             NaN                             NaN   \n",
       "0                        0.701316                        0.059122   \n",
       "\n",
       "   perf_grp_false negative rate_1  perf_grp_selection rate_0  \\\n",
       "0                             NaN                        NaN   \n",
       "0                        0.012582                   0.954284   \n",
       "0                             NaN                        NaN   \n",
       "0                        0.046280                   0.801607   \n",
       "\n",
       "   perf_grp_selection rate_1  perf_grp_count_0  perf_grp_count_1  \n",
       "0                        NaN               NaN               NaN  \n",
       "0                   0.883895           20540.0           69170.0  \n",
       "0                        NaN               NaN               NaN  \n",
       "0                   0.734668           20540.0           69170.0  \n",
       "\n",
       "[4 rows x 50 columns]"
      ]
     },
     "execution_count": 72,
     "metadata": {},
     "output_type": "execute_result"
    }
   ],
   "source": [
    "final_output = universe_analysis.generate_final_output(\n",
    "    y_pred_prob=probs_test,\n",
    "    y_test=y_true,\n",
    "    org_test=org_test,\n",
    "    filter_data=filter_sub_universe_data,\n",
    "    cp_metrics_df=cp_metrics_df,\n",
    "    save=True,\n",
    ")\n",
    "final_output"
   ]
  },
  {
   "cell_type": "code",
   "execution_count": null,
   "id": "721ff514-cb11-46f8-b6fc-50392f74b5cb",
   "metadata": {
    "papermill": {
     "duration": 0.027142,
     "end_time": "2025-07-28T10:15:19.445507",
     "exception": false,
     "start_time": "2025-07-28T10:15:19.418365",
     "status": "completed"
    },
    "tags": []
   },
   "outputs": [],
   "source": []
  }
 ],
 "metadata": {
  "celltoolbar": "Tags",
  "kernelspec": {
   "display_name": "Python (CMA Fairness)",
   "language": "python",
   "name": "cma_fair_env"
  },
  "language_info": {
   "codemirror_mode": {
    "name": "ipython",
    "version": 3
   },
   "file_extension": ".py",
   "mimetype": "text/x-python",
   "name": "python",
   "nbconvert_exporter": "python",
   "pygments_lexer": "ipython3",
   "version": "3.10.12"
  },
  "papermill": {
   "default_parameters": {},
   "duration": 74.006174,
   "end_time": "2025-07-28T10:15:20.292658",
   "environment_variables": {},
   "exception": null,
   "input_path": "universe_analysis.ipynb",
   "output_path": "output/runs/11/notebooks/m_11-efa455fbb372505a0778158abc47f568.ipynb",
   "parameters": {
    "output_dir": "output",
    "run_no": "11",
    "seed": "2023",
    "universe": "{\"cutoff\": [\"quantile_0.1\", \"quantile_0.25\"], \"eval_fairness_grouping\": [\"majority-minority\", \"nationality-all\"], \"exclude_features\": \"nationality-sex\", \"exclude_subgroups\": \"keep-all\", \"model\": \"gbm\", \"scale\": \"scale\", \"training_size\": \"25k\"}",
    "universe_id": "efa455fbb372505a0778158abc47f568"
   },
   "start_time": "2025-07-28T10:14:06.286484",
   "version": "2.6.0"
  }
 },
 "nbformat": 4,
 "nbformat_minor": 5
}