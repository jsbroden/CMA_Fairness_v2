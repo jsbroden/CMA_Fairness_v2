{
 "cells": [
  {
   "cell_type": "code",
   "execution_count": 1,
   "id": "f159f837-637b-42ba-96b5-ec9a68c44524",
   "metadata": {
    "execution": {
     "iopub.execute_input": "2025-07-28T10:12:08.871365Z",
     "iopub.status.busy": "2025-07-28T10:12:08.871060Z",
     "iopub.status.idle": "2025-07-28T10:12:08.893518Z",
     "shell.execute_reply": "2025-07-28T10:12:08.892766Z"
    },
    "papermill": {
     "duration": 0.036355,
     "end_time": "2025-07-28T10:12:08.894929",
     "exception": false,
     "start_time": "2025-07-28T10:12:08.858574",
     "status": "completed"
    },
    "tags": []
   },
   "outputs": [
    {
     "name": "stdout",
     "output_type": "stream",
     "text": [
      "/dss/dsshome1/0C/ra93lal2/cma/CMA_Fairness_v2\n"
     ]
    },
    {
     "name": "stderr",
     "output_type": "stream",
     "text": [
      "/dss/dsshome1/0C/ra93lal2/.local/share/virtualenvs/CMA_Fairness_v2-3j10GkSs/lib/python3.10/site-packages/IPython/core/magics/osm.py:393: UserWarning: This is now an optional IPython functionality, using bookmarks requires you to install the `pickleshare` library.\n",
      "  bkms = self.shell.db.get('bookmarks', {})\n",
      "/dss/dsshome1/0C/ra93lal2/.local/share/virtualenvs/CMA_Fairness_v2-3j10GkSs/lib/python3.10/site-packages/IPython/core/magics/osm.py:417: UserWarning: This is now an optional IPython functionality, setting dhist requires you to install the `pickleshare` library.\n",
      "  self.shell.db['dhist'] = compress_dhist(dhist)[-100:]\n"
     ]
    }
   ],
   "source": [
    "%cd ~/cma/CMA_Fairness_v2"
   ]
  },
  {
   "cell_type": "markdown",
   "id": "de2603b9",
   "metadata": {
    "papermill": {
     "duration": 0.010269,
     "end_time": "2025-07-28T10:12:08.919796",
     "exception": false,
     "start_time": "2025-07-28T10:12:08.909527",
     "status": "completed"
    },
    "tags": []
   },
   "source": [
    "The following cell holds the definition of our parameters, these values can be overriden by rendering the with e.g. the following command:\n",
    "\n",
    "papermill -p alpha 0.2 -p ratio 0.3 universe_analysis.ipynb output/test_run.ipynb"
   ]
  },
  {
   "cell_type": "code",
   "execution_count": 2,
   "id": "a80968a0-40bb-4fa9-85ef-2d5eefb01975",
   "metadata": {
    "execution": {
     "iopub.execute_input": "2025-07-28T10:12:08.942788Z",
     "iopub.status.busy": "2025-07-28T10:12:08.942427Z",
     "iopub.status.idle": "2025-07-28T10:12:08.947607Z",
     "shell.execute_reply": "2025-07-28T10:12:08.946740Z"
    },
    "papermill": {
     "duration": 0.018948,
     "end_time": "2025-07-28T10:12:08.949009",
     "exception": false,
     "start_time": "2025-07-28T10:12:08.930061",
     "status": "completed"
    },
    "tags": []
   },
   "outputs": [
    {
     "name": "stdout",
     "output_type": "stream",
     "text": [
      "Current working directory: /dss/dsshome1/0C/ra93lal2/cma/CMA_Fairness_v2\n"
     ]
    }
   ],
   "source": [
    "import os\n",
    "print(\"Current working directory:\", os.getcwd())"
   ]
  },
  {
   "cell_type": "code",
   "execution_count": 3,
   "id": "2dce4c03",
   "metadata": {
    "execution": {
     "iopub.execute_input": "2025-07-28T10:12:08.971373Z",
     "iopub.status.busy": "2025-07-28T10:12:08.970627Z",
     "iopub.status.idle": "2025-07-28T10:12:08.976076Z",
     "shell.execute_reply": "2025-07-28T10:12:08.975245Z"
    },
    "papermill": {
     "duration": 0.018189,
     "end_time": "2025-07-28T10:12:08.977643",
     "exception": false,
     "start_time": "2025-07-28T10:12:08.959454",
     "status": "completed"
    },
    "tags": [
     "parameters"
    ]
   },
   "outputs": [],
   "source": [
    "run_no = 0\n",
    "universe_id = \"test\"\n",
    "universe = {\n",
    "    \"training_size\": \"2014\", # \"25k\", \"5k\", \"1k\", \"2014\"\n",
    "    \"scale\": \"scale\", # \"scale\", \"do-not-scale\",\n",
    "    #\"stratify_split\": \"target\", # \"none\", \"target\", \"protected-attribute\", \"both\",\n",
    "    \"model\": \"elasticnet\", # \"logreg\", \"penalized_logreg\", \"rf\", \"gbm\", \"elasticnet\"\n",
    "    \"cutoff\": [\"quantile_0.15\", \"quantile_0.30\"],\n",
    "    \"exclude_features\": \"age\", # \"none\", \"nationality\", \"sex\", \"nationality-sex\", \"age\"\n",
    "    \"exclude_subgroups\": \"keep-all\", # \"keep-all\", \"drop-non-german\"\n",
    "    #\"training_sample\": \"restricted\", # \"restricted\", \"full\"\n",
    "    \"eval_fairness_grouping\": [\"majority-minority\", \"nationality-all\"]\n",
    "}\n",
    "\n",
    "output_dir=\"./output\"\n",
    "seed=0"
   ]
  },
  {
   "cell_type": "code",
   "execution_count": 4,
   "id": "e4f49f19",
   "metadata": {
    "execution": {
     "iopub.execute_input": "2025-07-28T10:12:08.999826Z",
     "iopub.status.busy": "2025-07-28T10:12:08.999111Z",
     "iopub.status.idle": "2025-07-28T10:12:09.003845Z",
     "shell.execute_reply": "2025-07-28T10:12:09.003036Z"
    },
    "papermill": {
     "duration": 0.017404,
     "end_time": "2025-07-28T10:12:09.005571",
     "exception": false,
     "start_time": "2025-07-28T10:12:08.988167",
     "status": "completed"
    },
    "tags": [
     "injected-parameters"
    ]
   },
   "outputs": [],
   "source": [
    "# Parameters\n",
    "universe_id = \"c1fc74eda9387a980da592390c4a96f4\"\n",
    "run_no = \"11\"\n",
    "universe = \"{\\\"cutoff\\\": [\\\"quantile_0.1\\\", \\\"quantile_0.25\\\"], \\\"eval_fairness_grouping\\\": [\\\"majority-minority\\\", \\\"nationality-all\\\"], \\\"exclude_features\\\": \\\"nationality\\\", \\\"exclude_subgroups\\\": \\\"drop-non-german\\\", \\\"model\\\": \\\"rf\\\", \\\"scale\\\": \\\"scale\\\", \\\"training_size\\\": \\\"25k\\\"}\"\n",
    "output_dir = \"output\"\n",
    "seed = \"2023\"\n"
   ]
  },
  {
   "cell_type": "code",
   "execution_count": 5,
   "id": "1650acaf",
   "metadata": {
    "execution": {
     "iopub.execute_input": "2025-07-28T10:12:09.043419Z",
     "iopub.status.busy": "2025-07-28T10:12:09.042956Z",
     "iopub.status.idle": "2025-07-28T10:12:09.047519Z",
     "shell.execute_reply": "2025-07-28T10:12:09.046561Z"
    },
    "papermill": {
     "duration": 0.023388,
     "end_time": "2025-07-28T10:12:09.049273",
     "exception": false,
     "start_time": "2025-07-28T10:12:09.025885",
     "status": "completed"
    },
    "tags": []
   },
   "outputs": [],
   "source": [
    "import json\n",
    "# Parse universe into dict if it is passed as a string\n",
    "if isinstance(universe, str):\n",
    "    universe = json.loads(universe)"
   ]
  },
  {
   "cell_type": "code",
   "execution_count": 6,
   "id": "16620c48",
   "metadata": {
    "execution": {
     "iopub.execute_input": "2025-07-28T10:12:09.071595Z",
     "iopub.status.busy": "2025-07-28T10:12:09.071212Z",
     "iopub.status.idle": "2025-07-28T10:12:09.101446Z",
     "shell.execute_reply": "2025-07-28T10:12:09.100673Z"
    },
    "papermill": {
     "duration": 0.042949,
     "end_time": "2025-07-28T10:12:09.102923",
     "exception": false,
     "start_time": "2025-07-28T10:12:09.059974",
     "status": "completed"
    },
    "tags": []
   },
   "outputs": [],
   "source": [
    "# Auto-reload the custom package\n",
    "%load_ext autoreload\n",
    "%autoreload 1\n",
    "%aimport fairness_multiverse"
   ]
  },
  {
   "cell_type": "code",
   "execution_count": 7,
   "id": "01c5c9f3",
   "metadata": {
    "execution": {
     "iopub.execute_input": "2025-07-28T10:12:09.126998Z",
     "iopub.status.busy": "2025-07-28T10:12:09.126208Z",
     "iopub.status.idle": "2025-07-28T10:12:10.616884Z",
     "shell.execute_reply": "2025-07-28T10:12:10.615950Z"
    },
    "papermill": {
     "duration": 1.503536,
     "end_time": "2025-07-28T10:12:10.618554",
     "exception": false,
     "start_time": "2025-07-28T10:12:09.115018",
     "status": "completed"
    },
    "tags": []
   },
   "outputs": [],
   "source": [
    "from fairness_multiverse.universe import UniverseAnalysis\n",
    "\n",
    "universe_analysis = UniverseAnalysis(\n",
    "    run_no = run_no,\n",
    "    universe_id = universe_id,\n",
    "    universe = universe,\n",
    "    output_dir=output_dir,\n",
    ")"
   ]
  },
  {
   "cell_type": "code",
   "execution_count": 8,
   "id": "106241f5",
   "metadata": {
    "execution": {
     "iopub.execute_input": "2025-07-28T10:12:10.641061Z",
     "iopub.status.busy": "2025-07-28T10:12:10.640686Z",
     "iopub.status.idle": "2025-07-28T10:12:10.647927Z",
     "shell.execute_reply": "2025-07-28T10:12:10.647131Z"
    },
    "papermill": {
     "duration": 0.020045,
     "end_time": "2025-07-28T10:12:10.649409",
     "exception": false,
     "start_time": "2025-07-28T10:12:10.629364",
     "status": "completed"
    },
    "tags": []
   },
   "outputs": [
    {
     "name": "stdout",
     "output_type": "stream",
     "text": [
      "Using Seed: 2023\n"
     ]
    }
   ],
   "source": [
    "import numpy as np\n",
    "parsed_seed = int(seed)\n",
    "np.random.seed(parsed_seed)\n",
    "print(f\"Using Seed: {parsed_seed}\")"
   ]
  },
  {
   "cell_type": "markdown",
   "id": "e0ebdc57",
   "metadata": {
    "papermill": {
     "duration": 0.010291,
     "end_time": "2025-07-28T10:12:10.670473",
     "exception": false,
     "start_time": "2025-07-28T10:12:10.660182",
     "status": "completed"
    },
    "tags": []
   },
   "source": [
    "# Loading Data"
   ]
  },
  {
   "cell_type": "markdown",
   "id": "681925a3",
   "metadata": {
    "papermill": {
     "duration": 0.00998,
     "end_time": "2025-07-28T10:12:10.690764",
     "exception": false,
     "start_time": "2025-07-28T10:12:10.680784",
     "status": "completed"
    },
    "tags": []
   },
   "source": [
    "Load siab_train, siab_test, siab_calib and/or \n",
    "load siab_train_features, siab_train_labels"
   ]
  },
  {
   "cell_type": "code",
   "execution_count": 9,
   "id": "f0496b8a",
   "metadata": {
    "execution": {
     "iopub.execute_input": "2025-07-28T10:12:10.713519Z",
     "iopub.status.busy": "2025-07-28T10:12:10.712944Z",
     "iopub.status.idle": "2025-07-28T10:12:21.236536Z",
     "shell.execute_reply": "2025-07-28T10:12:21.235610Z"
    },
    "papermill": {
     "duration": 10.53603,
     "end_time": "2025-07-28T10:12:21.237838",
     "exception": false,
     "start_time": "2025-07-28T10:12:10.701808",
     "status": "completed"
    },
    "tags": []
   },
   "outputs": [
    {
     "name": "stdout",
     "output_type": "stream",
     "text": [
      "Loading SIAB data from cache: data/siab_cached.csv.gz\n"
     ]
    },
    {
     "name": "stdout",
     "output_type": "stream",
     "text": [
      "(643690, 164)\n"
     ]
    }
   ],
   "source": [
    "from pathlib import Path\n",
    "import pandas as pd\n",
    "\n",
    "# File paths\n",
    "raw_file = Path(\"data/raw/siab.csv\")\n",
    "cache_file = Path(\"data/siab_cached.csv.gz\")\n",
    "\n",
    "# Ensure cache directory exists\n",
    "cache_file.parent.mkdir(parents=True, exist_ok=True)\n",
    "\n",
    "# Load with simple caching\n",
    "if cache_file.exists():\n",
    "    print(f\"Loading SIAB data from cache: {cache_file}\")\n",
    "    siab = pd.read_csv(cache_file, compression='gzip')\n",
    "else:\n",
    "    print(f\"Cache not found. Reading raw SIAB data: {raw_file}\")\n",
    "    siab = pd.read_csv(raw_file)\n",
    "    siab.to_csv(cache_file, index=False, compression='gzip')\n",
    "    print(f\"Cached SIAB data to: {cache_file}\")\n",
    "\n",
    "# Now use `siab` DataFrame as needed\n",
    "print(siab.shape)"
   ]
  },
  {
   "cell_type": "code",
   "execution_count": 10,
   "id": "db0ca512-5f53-4dba-abdb-a2888bca41ba",
   "metadata": {
    "execution": {
     "iopub.execute_input": "2025-07-28T10:12:23.485969Z",
     "iopub.status.busy": "2025-07-28T10:12:23.485439Z",
     "iopub.status.idle": "2025-07-28T10:12:23.490637Z",
     "shell.execute_reply": "2025-07-28T10:12:23.489868Z"
    },
    "papermill": {
     "duration": 0.018146,
     "end_time": "2025-07-28T10:12:23.491868",
     "exception": false,
     "start_time": "2025-07-28T10:12:23.473722",
     "status": "completed"
    },
    "tags": []
   },
   "outputs": [],
   "source": [
    "#siab"
   ]
  },
  {
   "cell_type": "code",
   "execution_count": 11,
   "id": "a0edb063",
   "metadata": {
    "execution": {
     "iopub.execute_input": "2025-07-28T10:12:23.513217Z",
     "iopub.status.busy": "2025-07-28T10:12:23.512827Z",
     "iopub.status.idle": "2025-07-28T10:12:23.680295Z",
     "shell.execute_reply": "2025-07-28T10:12:23.679387Z"
    },
    "papermill": {
     "duration": 0.179899,
     "end_time": "2025-07-28T10:12:23.681770",
     "exception": false,
     "start_time": "2025-07-28T10:12:23.501871",
     "status": "completed"
    },
    "tags": []
   },
   "outputs": [],
   "source": [
    "#import pandas as pd\n",
    "#\n",
    "#X_train = pd.read_csv(\"./data/X_train.csv\")\n",
    "#y_train = pd.read_csv(\"./data/y_train.csv\")"
   ]
  },
  {
   "cell_type": "code",
   "execution_count": 12,
   "id": "63d08085",
   "metadata": {
    "execution": {
     "iopub.execute_input": "2025-07-28T10:12:23.704355Z",
     "iopub.status.busy": "2025-07-28T10:12:23.703931Z",
     "iopub.status.idle": "2025-07-28T10:12:23.737849Z",
     "shell.execute_reply": "2025-07-28T10:12:23.736914Z"
    },
    "papermill": {
     "duration": 0.046797,
     "end_time": "2025-07-28T10:12:23.739355",
     "exception": false,
     "start_time": "2025-07-28T10:12:23.692558",
     "status": "completed"
    },
    "tags": []
   },
   "outputs": [],
   "source": [
    "#X_test = pd.read_csv(\"./data/X_test.csv\")\n",
    "#y_true = pd.read_csv(\"./data/y_test.csv\")"
   ]
  },
  {
   "cell_type": "code",
   "execution_count": 13,
   "id": "98a8d0fa-1d3d-4ed8-bb2c-281470e24add",
   "metadata": {
    "execution": {
     "iopub.execute_input": "2025-07-28T10:12:23.762353Z",
     "iopub.status.busy": "2025-07-28T10:12:23.761940Z",
     "iopub.status.idle": "2025-07-28T10:12:23.766007Z",
     "shell.execute_reply": "2025-07-28T10:12:23.765285Z"
    },
    "papermill": {
     "duration": 0.017065,
     "end_time": "2025-07-28T10:12:23.767304",
     "exception": false,
     "start_time": "2025-07-28T10:12:23.750239",
     "status": "completed"
    },
    "tags": []
   },
   "outputs": [],
   "source": [
    "# Calibration data for conformal\n",
    "#X_calib = pd.read_csv(\"./data/X_calib.csv\")\n",
    "#y_calib = pd.read_csv(\"./data/y_calib.csv\")"
   ]
  },
  {
   "cell_type": "markdown",
   "id": "9901737e-04df-44f0-9100-f5ad144ed040",
   "metadata": {
    "papermill": {
     "duration": 0.011312,
     "end_time": "2025-07-28T10:12:23.789552",
     "exception": false,
     "start_time": "2025-07-28T10:12:23.778240",
     "status": "completed"
    },
    "tags": []
   },
   "source": [
    "# Splitting Data and Setting Training Data Size"
   ]
  },
  {
   "cell_type": "code",
   "execution_count": 14,
   "id": "acbc8f7d-8fc8-4e86-8c59-5dcb0f58384b",
   "metadata": {
    "execution": {
     "iopub.execute_input": "2025-07-28T10:12:23.813357Z",
     "iopub.status.busy": "2025-07-28T10:12:23.812962Z",
     "iopub.status.idle": "2025-07-28T10:12:23.819433Z",
     "shell.execute_reply": "2025-07-28T10:12:23.818727Z"
    },
    "papermill": {
     "duration": 0.019441,
     "end_time": "2025-07-28T10:12:23.820701",
     "exception": false,
     "start_time": "2025-07-28T10:12:23.801260",
     "status": "completed"
    },
    "tags": []
   },
   "outputs": [],
   "source": [
    "def sample_by_year(df, training_size, random_state=42):\n",
    "    if training_size == \"2014\":\n",
    "        return df[df[\"year\"] == 2014].reset_index(drop=True)\n",
    "    \n",
    "    size_map = {\n",
    "        \"25k\": 5000,\n",
    "        \"5k\": 1000,\n",
    "        \"1k\": 200\n",
    "    }\n",
    "\n",
    "    if training_size not in size_map:\n",
    "        return df.reset_index(drop=True)  # use all data\n",
    "\n",
    "    n_per_year = size_map[training_size]\n",
    "    grouped = df.groupby(\"year\")\n",
    "    sampled = grouped.apply(lambda x: x.sample(n=min(n_per_year, len(x)), random_state=random_state))\n",
    "    return sampled.reset_index(drop=True)"
   ]
  },
  {
   "cell_type": "code",
   "execution_count": 15,
   "id": "6d931f52-beaf-43ff-9e78-9d44a448d54e",
   "metadata": {
    "execution": {
     "iopub.execute_input": "2025-07-28T10:12:23.843746Z",
     "iopub.status.busy": "2025-07-28T10:12:23.843454Z",
     "iopub.status.idle": "2025-07-28T10:12:24.547269Z",
     "shell.execute_reply": "2025-07-28T10:12:24.546164Z"
    },
    "papermill": {
     "duration": 0.717313,
     "end_time": "2025-07-28T10:12:24.549170",
     "exception": false,
     "start_time": "2025-07-28T10:12:23.831857",
     "status": "completed"
    },
    "tags": []
   },
   "outputs": [],
   "source": [
    "siab_s = sample_by_year(siab, universe[\"training_size\"])"
   ]
  },
  {
   "cell_type": "code",
   "execution_count": 16,
   "id": "5db0a40e-a4e2-4920-be85-b12ae061d70d",
   "metadata": {
    "execution": {
     "iopub.execute_input": "2025-07-28T10:12:24.573494Z",
     "iopub.status.busy": "2025-07-28T10:12:24.572909Z",
     "iopub.status.idle": "2025-07-28T10:12:24.584537Z",
     "shell.execute_reply": "2025-07-28T10:12:24.583638Z"
    },
    "papermill": {
     "duration": 0.025622,
     "end_time": "2025-07-28T10:12:24.586037",
     "exception": false,
     "start_time": "2025-07-28T10:12:24.560415",
     "status": "completed"
    },
    "tags": []
   },
   "outputs": [
    {
     "data": {
      "text/plain": [
       "year\n",
       "2010    5000\n",
       "2011    5000\n",
       "2012    5000\n",
       "2013    5000\n",
       "2014    5000\n",
       "2015    5000\n",
       "2016    5000\n",
       "dtype: int64"
      ]
     },
     "metadata": {},
     "output_type": "display_data"
    }
   ],
   "source": [
    "display(siab_s.groupby(\"year\").size())"
   ]
  },
  {
   "cell_type": "code",
   "execution_count": 17,
   "id": "a561edb4-d032-42cb-8256-22eac1111c64",
   "metadata": {
    "execution": {
     "iopub.execute_input": "2025-07-28T10:12:24.610447Z",
     "iopub.status.busy": "2025-07-28T10:12:24.609872Z",
     "iopub.status.idle": "2025-07-28T10:12:24.872237Z",
     "shell.execute_reply": "2025-07-28T10:12:24.871185Z"
    },
    "papermill": {
     "duration": 0.276473,
     "end_time": "2025-07-28T10:12:24.874040",
     "exception": false,
     "start_time": "2025-07-28T10:12:24.597567",
     "status": "completed"
    },
    "tags": []
   },
   "outputs": [],
   "source": [
    "siab_train = siab_s[siab_s.year < 2015]\n",
    "siab_calib = siab[siab.year == 2015]\n",
    "siab_test = siab[siab.year == 2016]"
   ]
  },
  {
   "cell_type": "code",
   "execution_count": 18,
   "id": "472de16f-c3db-4916-846b-1f0de9cf1746",
   "metadata": {
    "execution": {
     "iopub.execute_input": "2025-07-28T10:12:24.919067Z",
     "iopub.status.busy": "2025-07-28T10:12:24.918287Z",
     "iopub.status.idle": "2025-07-28T10:12:24.934173Z",
     "shell.execute_reply": "2025-07-28T10:12:24.933003Z"
    },
    "papermill": {
     "duration": 0.041601,
     "end_time": "2025-07-28T10:12:24.936483",
     "exception": false,
     "start_time": "2025-07-28T10:12:24.894882",
     "status": "completed"
    },
    "tags": []
   },
   "outputs": [],
   "source": [
    "X_train = siab_train.iloc[:,4:164]\n",
    "y_train = siab_train.iloc[:, [3]]"
   ]
  },
  {
   "cell_type": "code",
   "execution_count": 19,
   "id": "828c96af-f43a-4ed6-ba47-8ac73a47d56c",
   "metadata": {
    "execution": {
     "iopub.execute_input": "2025-07-28T10:12:24.983680Z",
     "iopub.status.busy": "2025-07-28T10:12:24.983193Z",
     "iopub.status.idle": "2025-07-28T10:12:25.036793Z",
     "shell.execute_reply": "2025-07-28T10:12:25.035805Z"
    },
    "papermill": {
     "duration": 0.078852,
     "end_time": "2025-07-28T10:12:25.038195",
     "exception": false,
     "start_time": "2025-07-28T10:12:24.959343",
     "status": "completed"
    },
    "tags": []
   },
   "outputs": [],
   "source": [
    "X_calib = siab_calib.iloc[:,4:164]\n",
    "y_calib = siab_calib.iloc[:, [3]]"
   ]
  },
  {
   "cell_type": "code",
   "execution_count": 20,
   "id": "c34be9c3-6bd6-476e-acd3-845840e303be",
   "metadata": {
    "execution": {
     "iopub.execute_input": "2025-07-28T10:12:25.063148Z",
     "iopub.status.busy": "2025-07-28T10:12:25.062605Z",
     "iopub.status.idle": "2025-07-28T10:12:25.112842Z",
     "shell.execute_reply": "2025-07-28T10:12:25.111983Z"
    },
    "papermill": {
     "duration": 0.063854,
     "end_time": "2025-07-28T10:12:25.114144",
     "exception": false,
     "start_time": "2025-07-28T10:12:25.050290",
     "status": "completed"
    },
    "tags": []
   },
   "outputs": [],
   "source": [
    "X_test = siab_test.iloc[:,4:164]\n",
    "y_true = siab_test.iloc[:, [3]]"
   ]
  },
  {
   "cell_type": "code",
   "execution_count": 21,
   "id": "e6c733c5",
   "metadata": {
    "execution": {
     "iopub.execute_input": "2025-07-28T10:12:25.138895Z",
     "iopub.status.busy": "2025-07-28T10:12:25.138380Z",
     "iopub.status.idle": "2025-07-28T10:12:25.234365Z",
     "shell.execute_reply": "2025-07-28T10:12:25.233562Z"
    },
    "papermill": {
     "duration": 0.110199,
     "end_time": "2025-07-28T10:12:25.235939",
     "exception": false,
     "start_time": "2025-07-28T10:12:25.125740",
     "status": "completed"
    },
    "tags": []
   },
   "outputs": [],
   "source": [
    "# Auxiliary data needed downstream in the pipeline\n",
    "\n",
    "org_train = X_train.copy()\n",
    "org_test = X_test.copy()\n",
    "org_calib = X_calib.copy()"
   ]
  },
  {
   "cell_type": "markdown",
   "id": "0a4a1b33",
   "metadata": {
    "papermill": {
     "duration": 0.021927,
     "end_time": "2025-07-28T10:12:25.269751",
     "exception": false,
     "start_time": "2025-07-28T10:12:25.247824",
     "status": "completed"
    },
    "tags": []
   },
   "source": [
    "# Preprocessing Data"
   ]
  },
  {
   "cell_type": "code",
   "execution_count": 22,
   "id": "ca879031",
   "metadata": {
    "execution": {
     "iopub.execute_input": "2025-07-28T10:12:25.298865Z",
     "iopub.status.busy": "2025-07-28T10:12:25.298354Z",
     "iopub.status.idle": "2025-07-28T10:12:25.305024Z",
     "shell.execute_reply": "2025-07-28T10:12:25.304082Z"
    },
    "papermill": {
     "duration": 0.020099,
     "end_time": "2025-07-28T10:12:25.306200",
     "exception": false,
     "start_time": "2025-07-28T10:12:25.286101",
     "status": "completed"
    },
    "tags": []
   },
   "outputs": [],
   "source": [
    "# EXCLUDE PROTECTED FEATURES\n",
    "# ----------------------\n",
    "# \"exclude_features\": \"none\", # \"nationality\", \"sex\", \"nationality-sex\"\n",
    "\n",
    "excluded_features = universe[\"exclude_features\"].split(\"-\") # split, e.g.: \"nationality-sex\" -> [\"nationality\", \"sex\"]\n",
    "excluded_features_dictionary = {\n",
    "    \"nationality\": [\"maxdeutsch1\", \"maxdeutsch.Missing.\"],\n",
    "    \"sex\": [\"frau1\"],\n",
    "    \"age\": [\"age\"],\n",
    "}\n"
   ]
  },
  {
   "cell_type": "code",
   "execution_count": 23,
   "id": "b745ac60",
   "metadata": {
    "execution": {
     "iopub.execute_input": "2025-07-28T10:12:25.334836Z",
     "iopub.status.busy": "2025-07-28T10:12:25.333971Z",
     "iopub.status.idle": "2025-07-28T10:12:25.340346Z",
     "shell.execute_reply": "2025-07-28T10:12:25.339263Z"
    },
    "papermill": {
     "duration": 0.024531,
     "end_time": "2025-07-28T10:12:25.342096",
     "exception": false,
     "start_time": "2025-07-28T10:12:25.317565",
     "status": "completed"
    },
    "tags": []
   },
   "outputs": [],
   "source": [
    "# Code nice names to column names\n",
    "\n",
    "excluded_features_columns = [\n",
    "    excluded_features_dictionary[f] for f in excluded_features if len(f) > 0 and f != \"none\"\n",
    "]"
   ]
  },
  {
   "cell_type": "code",
   "execution_count": 24,
   "id": "f84f73a2",
   "metadata": {
    "execution": {
     "iopub.execute_input": "2025-07-28T10:12:25.382938Z",
     "iopub.status.busy": "2025-07-28T10:12:25.382493Z",
     "iopub.status.idle": "2025-07-28T10:12:25.388521Z",
     "shell.execute_reply": "2025-07-28T10:12:25.387653Z"
    },
    "papermill": {
     "duration": 0.025205,
     "end_time": "2025-07-28T10:12:25.389822",
     "exception": false,
     "start_time": "2025-07-28T10:12:25.364617",
     "status": "completed"
    },
    "tags": []
   },
   "outputs": [],
   "source": [
    "from utils import flatten_once\n",
    "\n",
    "excluded_features_columns = flatten_once(excluded_features_columns)"
   ]
  },
  {
   "cell_type": "code",
   "execution_count": 25,
   "id": "884dea22",
   "metadata": {
    "execution": {
     "iopub.execute_input": "2025-07-28T10:12:25.412848Z",
     "iopub.status.busy": "2025-07-28T10:12:25.412487Z",
     "iopub.status.idle": "2025-07-28T10:12:25.429128Z",
     "shell.execute_reply": "2025-07-28T10:12:25.428122Z"
    },
    "papermill": {
     "duration": 0.029853,
     "end_time": "2025-07-28T10:12:25.430704",
     "exception": false,
     "start_time": "2025-07-28T10:12:25.400851",
     "status": "completed"
    },
    "tags": []
   },
   "outputs": [
    {
     "name": "stdout",
     "output_type": "stream",
     "text": [
      "Dropping features: ['maxdeutsch1', 'maxdeutsch.Missing.']\n"
     ]
    }
   ],
   "source": [
    "if len(excluded_features_columns) > 0:\n",
    "    print(f\"Dropping features: {excluded_features_columns}\")\n",
    "    X_train.drop(excluded_features_columns, axis=1, inplace=True)"
   ]
  },
  {
   "cell_type": "code",
   "execution_count": 26,
   "id": "95ab8b16",
   "metadata": {
    "execution": {
     "iopub.execute_input": "2025-07-28T10:12:25.456755Z",
     "iopub.status.busy": "2025-07-28T10:12:25.456318Z",
     "iopub.status.idle": "2025-07-28T10:12:25.546675Z",
     "shell.execute_reply": "2025-07-28T10:12:25.545457Z"
    },
    "papermill": {
     "duration": 0.105754,
     "end_time": "2025-07-28T10:12:25.548986",
     "exception": false,
     "start_time": "2025-07-28T10:12:25.443232",
     "status": "completed"
    },
    "tags": []
   },
   "outputs": [
    {
     "name": "stdout",
     "output_type": "stream",
     "text": [
      "Dropping features: ['maxdeutsch1', 'maxdeutsch.Missing.']\n"
     ]
    }
   ],
   "source": [
    "if len(excluded_features_columns) > 0:\n",
    "    print(f\"Dropping features: {excluded_features_columns}\")\n",
    "    X_test.drop(excluded_features_columns, axis=1, inplace=True)"
   ]
  },
  {
   "cell_type": "code",
   "execution_count": 27,
   "id": "1853aaf5-fb9f-46cb-a2b5-8ea4ae2237e4",
   "metadata": {
    "execution": {
     "iopub.execute_input": "2025-07-28T10:12:25.596497Z",
     "iopub.status.busy": "2025-07-28T10:12:25.595957Z",
     "iopub.status.idle": "2025-07-28T10:12:25.662470Z",
     "shell.execute_reply": "2025-07-28T10:12:25.661234Z"
    },
    "papermill": {
     "duration": 0.09604,
     "end_time": "2025-07-28T10:12:25.667914",
     "exception": false,
     "start_time": "2025-07-28T10:12:25.571874",
     "status": "completed"
    },
    "tags": []
   },
   "outputs": [
    {
     "name": "stdout",
     "output_type": "stream",
     "text": [
      "Dropping features: ['maxdeutsch1', 'maxdeutsch.Missing.']\n"
     ]
    }
   ],
   "source": [
    "if len(excluded_features_columns) > 0:\n",
    "    print(f\"Dropping features: {excluded_features_columns}\")\n",
    "    X_calib.drop(excluded_features_columns, axis=1, inplace=True)"
   ]
  },
  {
   "cell_type": "code",
   "execution_count": 28,
   "id": "6727d079-03e5-481e-9d38-292a90b7a0a8",
   "metadata": {
    "execution": {
     "iopub.execute_input": "2025-07-28T10:12:25.716010Z",
     "iopub.status.busy": "2025-07-28T10:12:25.715443Z",
     "iopub.status.idle": "2025-07-28T10:12:25.721458Z",
     "shell.execute_reply": "2025-07-28T10:12:25.720321Z"
    },
    "papermill": {
     "duration": 0.032142,
     "end_time": "2025-07-28T10:12:25.723528",
     "exception": false,
     "start_time": "2025-07-28T10:12:25.691386",
     "status": "completed"
    },
    "tags": []
   },
   "outputs": [],
   "source": [
    "# SPLIT & STRATIFY DATA\n",
    "# ----------------------"
   ]
  },
  {
   "cell_type": "code",
   "execution_count": 29,
   "id": "76c4dc6d",
   "metadata": {
    "execution": {
     "iopub.execute_input": "2025-07-28T10:12:25.771233Z",
     "iopub.status.busy": "2025-07-28T10:12:25.770211Z",
     "iopub.status.idle": "2025-07-28T10:12:25.776233Z",
     "shell.execute_reply": "2025-07-28T10:12:25.775156Z"
    },
    "papermill": {
     "duration": 0.031193,
     "end_time": "2025-07-28T10:12:25.777892",
     "exception": false,
     "start_time": "2025-07-28T10:12:25.746699",
     "status": "completed"
    },
    "tags": []
   },
   "outputs": [],
   "source": [
    "# EXCLUDE CERTAIN SUBGROUPS\n",
    "# ----------------------\n",
    "\n",
    "mode = universe.get(\"exclude_subgroups\", \"keep-all\") \n",
    "# Fetches the exclude_subgroups setting from the universe dict.\n",
    "# Defaults to \"keep-all\" if the key is missing."
   ]
  },
  {
   "cell_type": "code",
   "execution_count": 30,
   "id": "21994072",
   "metadata": {
    "execution": {
     "iopub.execute_input": "2025-07-28T10:12:25.825914Z",
     "iopub.status.busy": "2025-07-28T10:12:25.825376Z",
     "iopub.status.idle": "2025-07-28T10:12:25.832861Z",
     "shell.execute_reply": "2025-07-28T10:12:25.831855Z"
    },
    "papermill": {
     "duration": 0.033551,
     "end_time": "2025-07-28T10:12:25.834603",
     "exception": false,
     "start_time": "2025-07-28T10:12:25.801052",
     "status": "completed"
    },
    "tags": []
   },
   "outputs": [],
   "source": [
    "if mode == \"keep-all\":\n",
    "    keep_mask = pd.Series(True, index=org_train.index)\n",
    "\n",
    "# org_train contains the original feature columns from features_org (in Simson)\n",
    "# features_org contains unprocessed features, for me X_train at beginning ???\n",
    "# For keep-all, creates a boolean Series (keep_mask) of all True, so no rows are removed.\n",
    "\n",
    "elif mode == \"drop-non-german\":\n",
    "    keep_mask = org_train[\"maxdeutsch1\"] == 1 # ??? what about missing values?\n",
    "\n",
    "else:\n",
    "    raise ValueError(f\"Unsupported mode for exclude_subgroups: {mode}\")\n"
   ]
  },
  {
   "cell_type": "code",
   "execution_count": 31,
   "id": "71651440",
   "metadata": {
    "execution": {
     "iopub.execute_input": "2025-07-28T10:12:25.882570Z",
     "iopub.status.busy": "2025-07-28T10:12:25.881859Z",
     "iopub.status.idle": "2025-07-28T10:12:25.889718Z",
     "shell.execute_reply": "2025-07-28T10:12:25.888709Z"
    },
    "papermill": {
     "duration": 0.033745,
     "end_time": "2025-07-28T10:12:25.891233",
     "exception": false,
     "start_time": "2025-07-28T10:12:25.857488",
     "status": "completed"
    },
    "tags": []
   },
   "outputs": [
    {
     "name": "stdout",
     "output_type": "stream",
     "text": [
      "Dropping 3312 rows (13.25%) where mode='drop-non-german'\n"
     ]
    }
   ],
   "source": [
    "n_drop = (~keep_mask).sum() # Calculates how many rows are set to be dropped\n",
    "if n_drop > 0:\n",
    "    pct = n_drop / len(keep_mask) * 100\n",
    "    print(f\"Dropping {n_drop} rows ({pct:.2f}%) where mode='{mode}'\")"
   ]
  },
  {
   "cell_type": "code",
   "execution_count": 32,
   "id": "5fb8eee5",
   "metadata": {
    "execution": {
     "iopub.execute_input": "2025-07-28T10:12:25.938943Z",
     "iopub.status.busy": "2025-07-28T10:12:25.938377Z",
     "iopub.status.idle": "2025-07-28T10:12:25.954761Z",
     "shell.execute_reply": "2025-07-28T10:12:25.953611Z"
    },
    "papermill": {
     "duration": 0.042971,
     "end_time": "2025-07-28T10:12:25.956818",
     "exception": false,
     "start_time": "2025-07-28T10:12:25.913847",
     "status": "completed"
    },
    "tags": []
   },
   "outputs": [],
   "source": [
    "X_train = X_train[keep_mask]"
   ]
  },
  {
   "cell_type": "code",
   "execution_count": 33,
   "id": "b202bb3a",
   "metadata": {
    "execution": {
     "iopub.execute_input": "2025-07-28T10:12:26.004272Z",
     "iopub.status.busy": "2025-07-28T10:12:26.003707Z",
     "iopub.status.idle": "2025-07-28T10:12:26.010917Z",
     "shell.execute_reply": "2025-07-28T10:12:26.009896Z"
    },
    "papermill": {
     "duration": 0.037557,
     "end_time": "2025-07-28T10:12:26.017518",
     "exception": false,
     "start_time": "2025-07-28T10:12:25.979961",
     "status": "completed"
    },
    "tags": []
   },
   "outputs": [],
   "source": [
    "y_train = y_train[keep_mask]"
   ]
  },
  {
   "cell_type": "markdown",
   "id": "493e2ac3",
   "metadata": {
    "papermill": {
     "duration": 0.023724,
     "end_time": "2025-07-28T10:12:26.064519",
     "exception": false,
     "start_time": "2025-07-28T10:12:26.040795",
     "status": "completed"
    },
    "tags": []
   },
   "source": [
    "# Model Training"
   ]
  },
  {
   "cell_type": "code",
   "execution_count": 34,
   "id": "679e1268",
   "metadata": {
    "execution": {
     "iopub.execute_input": "2025-07-28T10:12:26.115840Z",
     "iopub.status.busy": "2025-07-28T10:12:26.114619Z",
     "iopub.status.idle": "2025-07-28T10:12:26.242915Z",
     "shell.execute_reply": "2025-07-28T10:12:26.241858Z"
    },
    "papermill": {
     "duration": 0.156076,
     "end_time": "2025-07-28T10:12:26.244961",
     "exception": false,
     "start_time": "2025-07-28T10:12:26.088885",
     "status": "completed"
    },
    "tags": []
   },
   "outputs": [],
   "source": [
    "from sklearn.linear_model import LogisticRegression\n",
    "from sklearn.ensemble import GradientBoostingClassifier, RandomForestClassifier\n",
    "\n",
    "if (universe[\"model\"] == \"logreg\"):\n",
    "    model = LogisticRegression() #penalty=\"none\") #, solver=\"newton-cg\", max_iter=1) # include random_state=19 ?\n",
    "elif (universe[\"model\"] == \"penalized_logreg\"):\n",
    "    model = LogisticRegression(penalty=\"l2\", C=1.0) #, solver=\"newton-cg\", max_iter=1)\n",
    "elif (universe[\"model\"] == \"rf\"):\n",
    "    model = RandomForestClassifier(n_estimators=100, n_jobs=-1)\n",
    "elif (universe[\"model\"] == \"gbm\"):\n",
    "    model = GradientBoostingClassifier()\n",
    "elif (universe[\"model\"] == \"elasticnet\"):\n",
    "    model = LogisticRegression(penalty = 'elasticnet', solver = 'saga', l1_ratio = 0.5, max_iter=5000) # which solver to use?\n",
    "else:\n",
    "    raise \"Unsupported universe.model\""
   ]
  },
  {
   "cell_type": "code",
   "execution_count": 35,
   "id": "0cc8f744",
   "metadata": {
    "execution": {
     "iopub.execute_input": "2025-07-28T10:12:26.293587Z",
     "iopub.status.busy": "2025-07-28T10:12:26.292684Z",
     "iopub.status.idle": "2025-07-28T10:12:26.298460Z",
     "shell.execute_reply": "2025-07-28T10:12:26.297469Z"
    },
    "papermill": {
     "duration": 0.032678,
     "end_time": "2025-07-28T10:12:26.300227",
     "exception": false,
     "start_time": "2025-07-28T10:12:26.267549",
     "status": "completed"
    },
    "tags": []
   },
   "outputs": [],
   "source": [
    "import numpy as np\n",
    "from sklearn.pipeline import Pipeline\n",
    "from sklearn.preprocessing import StandardScaler\n",
    "\n",
    "model = Pipeline([\n",
    "    #(\"continuous_processor\", continuous_processor),\n",
    "    #(\"categorical_preprocessor\", categorical_preprocessor),\n",
    "    (\"scale\", StandardScaler() if universe[\"scale\"] == \"scale\" else None), \n",
    "    (\"model\", model),\n",
    "])"
   ]
  },
  {
   "cell_type": "code",
   "execution_count": 36,
   "id": "9442c04d",
   "metadata": {
    "execution": {
     "iopub.execute_input": "2025-07-28T10:12:26.346798Z",
     "iopub.status.busy": "2025-07-28T10:12:26.345945Z",
     "iopub.status.idle": "2025-07-28T10:12:30.314618Z",
     "shell.execute_reply": "2025-07-28T10:12:30.313562Z"
    },
    "papermill": {
     "duration": 3.994288,
     "end_time": "2025-07-28T10:12:30.316631",
     "exception": false,
     "start_time": "2025-07-28T10:12:26.322343",
     "status": "completed"
    },
    "tags": []
   },
   "outputs": [
    {
     "data": {
      "text/html": [
       "<style>#sk-container-id-1 {color: black;background-color: white;}#sk-container-id-1 pre{padding: 0;}#sk-container-id-1 div.sk-toggleable {background-color: white;}#sk-container-id-1 label.sk-toggleable__label {cursor: pointer;display: block;width: 100%;margin-bottom: 0;padding: 0.3em;box-sizing: border-box;text-align: center;}#sk-container-id-1 label.sk-toggleable__label-arrow:before {content: \"▸\";float: left;margin-right: 0.25em;color: #696969;}#sk-container-id-1 label.sk-toggleable__label-arrow:hover:before {color: black;}#sk-container-id-1 div.sk-estimator:hover label.sk-toggleable__label-arrow:before {color: black;}#sk-container-id-1 div.sk-toggleable__content {max-height: 0;max-width: 0;overflow: hidden;text-align: left;background-color: #f0f8ff;}#sk-container-id-1 div.sk-toggleable__content pre {margin: 0.2em;color: black;border-radius: 0.25em;background-color: #f0f8ff;}#sk-container-id-1 input.sk-toggleable__control:checked~div.sk-toggleable__content {max-height: 200px;max-width: 100%;overflow: auto;}#sk-container-id-1 input.sk-toggleable__control:checked~label.sk-toggleable__label-arrow:before {content: \"▾\";}#sk-container-id-1 div.sk-estimator input.sk-toggleable__control:checked~label.sk-toggleable__label {background-color: #d4ebff;}#sk-container-id-1 div.sk-label input.sk-toggleable__control:checked~label.sk-toggleable__label {background-color: #d4ebff;}#sk-container-id-1 input.sk-hidden--visually {border: 0;clip: rect(1px 1px 1px 1px);clip: rect(1px, 1px, 1px, 1px);height: 1px;margin: -1px;overflow: hidden;padding: 0;position: absolute;width: 1px;}#sk-container-id-1 div.sk-estimator {font-family: monospace;background-color: #f0f8ff;border: 1px dotted black;border-radius: 0.25em;box-sizing: border-box;margin-bottom: 0.5em;}#sk-container-id-1 div.sk-estimator:hover {background-color: #d4ebff;}#sk-container-id-1 div.sk-parallel-item::after {content: \"\";width: 100%;border-bottom: 1px solid gray;flex-grow: 1;}#sk-container-id-1 div.sk-label:hover label.sk-toggleable__label {background-color: #d4ebff;}#sk-container-id-1 div.sk-serial::before {content: \"\";position: absolute;border-left: 1px solid gray;box-sizing: border-box;top: 0;bottom: 0;left: 50%;z-index: 0;}#sk-container-id-1 div.sk-serial {display: flex;flex-direction: column;align-items: center;background-color: white;padding-right: 0.2em;padding-left: 0.2em;position: relative;}#sk-container-id-1 div.sk-item {position: relative;z-index: 1;}#sk-container-id-1 div.sk-parallel {display: flex;align-items: stretch;justify-content: center;background-color: white;position: relative;}#sk-container-id-1 div.sk-item::before, #sk-container-id-1 div.sk-parallel-item::before {content: \"\";position: absolute;border-left: 1px solid gray;box-sizing: border-box;top: 0;bottom: 0;left: 50%;z-index: -1;}#sk-container-id-1 div.sk-parallel-item {display: flex;flex-direction: column;z-index: 1;position: relative;background-color: white;}#sk-container-id-1 div.sk-parallel-item:first-child::after {align-self: flex-end;width: 50%;}#sk-container-id-1 div.sk-parallel-item:last-child::after {align-self: flex-start;width: 50%;}#sk-container-id-1 div.sk-parallel-item:only-child::after {width: 0;}#sk-container-id-1 div.sk-dashed-wrapped {border: 1px dashed gray;margin: 0 0.4em 0.5em 0.4em;box-sizing: border-box;padding-bottom: 0.4em;background-color: white;}#sk-container-id-1 div.sk-label label {font-family: monospace;font-weight: bold;display: inline-block;line-height: 1.2em;}#sk-container-id-1 div.sk-label-container {text-align: center;}#sk-container-id-1 div.sk-container {/* jupyter's `normalize.less` sets `[hidden] { display: none; }` but bootstrap.min.css set `[hidden] { display: none !important; }` so we also need the `!important` here to be able to override the default hidden behavior on the sphinx rendered scikit-learn.org. See: https://github.com/scikit-learn/scikit-learn/issues/21755 */display: inline-block !important;position: relative;}#sk-container-id-1 div.sk-text-repr-fallback {display: none;}</style><div id=\"sk-container-id-1\" class=\"sk-top-container\"><div class=\"sk-text-repr-fallback\"><pre>Pipeline(steps=[(&#x27;scale&#x27;, StandardScaler()),\n",
       "                (&#x27;model&#x27;, RandomForestClassifier(n_jobs=-1))])</pre><b>In a Jupyter environment, please rerun this cell to show the HTML representation or trust the notebook. <br />On GitHub, the HTML representation is unable to render, please try loading this page with nbviewer.org.</b></div><div class=\"sk-container\" hidden><div class=\"sk-item sk-dashed-wrapped\"><div class=\"sk-label-container\"><div class=\"sk-label sk-toggleable\"><input class=\"sk-toggleable__control sk-hidden--visually\" id=\"sk-estimator-id-1\" type=\"checkbox\" ><label for=\"sk-estimator-id-1\" class=\"sk-toggleable__label sk-toggleable__label-arrow\">Pipeline</label><div class=\"sk-toggleable__content\"><pre>Pipeline(steps=[(&#x27;scale&#x27;, StandardScaler()),\n",
       "                (&#x27;model&#x27;, RandomForestClassifier(n_jobs=-1))])</pre></div></div></div><div class=\"sk-serial\"><div class=\"sk-item\"><div class=\"sk-estimator sk-toggleable\"><input class=\"sk-toggleable__control sk-hidden--visually\" id=\"sk-estimator-id-2\" type=\"checkbox\" ><label for=\"sk-estimator-id-2\" class=\"sk-toggleable__label sk-toggleable__label-arrow\">StandardScaler</label><div class=\"sk-toggleable__content\"><pre>StandardScaler()</pre></div></div></div><div class=\"sk-item\"><div class=\"sk-estimator sk-toggleable\"><input class=\"sk-toggleable__control sk-hidden--visually\" id=\"sk-estimator-id-3\" type=\"checkbox\" ><label for=\"sk-estimator-id-3\" class=\"sk-toggleable__label sk-toggleable__label-arrow\">RandomForestClassifier</label><div class=\"sk-toggleable__content\"><pre>RandomForestClassifier(n_jobs=-1)</pre></div></div></div></div></div></div></div>"
      ],
      "text/plain": [
       "Pipeline(steps=[('scale', StandardScaler()),\n",
       "                ('model', RandomForestClassifier(n_jobs=-1))])"
      ]
     },
     "execution_count": 36,
     "metadata": {},
     "output_type": "execute_result"
    }
   ],
   "source": [
    "model.fit(X_train, y_train.values.ravel())"
   ]
  },
  {
   "cell_type": "code",
   "execution_count": 37,
   "id": "af59f8c0",
   "metadata": {
    "execution": {
     "iopub.execute_input": "2025-07-28T10:12:30.386851Z",
     "iopub.status.busy": "2025-07-28T10:12:30.385788Z",
     "iopub.status.idle": "2025-07-28T10:12:30.391661Z",
     "shell.execute_reply": "2025-07-28T10:12:30.390491Z"
    },
    "papermill": {
     "duration": 0.053035,
     "end_time": "2025-07-28T10:12:30.393723",
     "exception": false,
     "start_time": "2025-07-28T10:12:30.340688",
     "status": "completed"
    },
    "tags": []
   },
   "outputs": [],
   "source": [
    "from fairness_multiverse.universe import predict_w_threshold"
   ]
  },
  {
   "cell_type": "code",
   "execution_count": 38,
   "id": "a7cf2e16",
   "metadata": {
    "execution": {
     "iopub.execute_input": "2025-07-28T10:12:30.506745Z",
     "iopub.status.busy": "2025-07-28T10:12:30.506311Z",
     "iopub.status.idle": "2025-07-28T10:12:32.786802Z",
     "shell.execute_reply": "2025-07-28T10:12:32.785566Z"
    },
    "papermill": {
     "duration": 2.347133,
     "end_time": "2025-07-28T10:12:32.788996",
     "exception": false,
     "start_time": "2025-07-28T10:12:30.441863",
     "status": "completed"
    },
    "tags": []
   },
   "outputs": [
    {
     "data": {
      "text/plain": [
       "0.8647753873592687"
      ]
     },
     "execution_count": 38,
     "metadata": {},
     "output_type": "execute_result"
    }
   ],
   "source": [
    "probs_test = model.predict_proba(X_test)\n",
    "\n",
    "'''\n",
    "Below code returns a boolean array (or binary 0/1 array depending on how it’s used) where each element \n",
    "is True if the probability of class 1 is greater than or equal to the threshold, and False otherwise.\n",
    "'''\n",
    "y_pred_default = predict_w_threshold(probs_test, 0.5)\n",
    "\n",
    "from sklearn.metrics import accuracy_score\n",
    "\n",
    "# Naive prediction\n",
    "accuracy_score(y_true = y_true, y_pred = y_pred_default)"
   ]
  },
  {
   "cell_type": "code",
   "execution_count": 39,
   "id": "081964c3",
   "metadata": {
    "execution": {
     "iopub.execute_input": "2025-07-28T10:12:32.843032Z",
     "iopub.status.busy": "2025-07-28T10:12:32.842116Z",
     "iopub.status.idle": "2025-07-28T10:12:34.582223Z",
     "shell.execute_reply": "2025-07-28T10:12:34.581224Z"
    },
    "papermill": {
     "duration": 1.768155,
     "end_time": "2025-07-28T10:12:34.584233",
     "exception": false,
     "start_time": "2025-07-28T10:12:32.816078",
     "status": "completed"
    },
    "tags": []
   },
   "outputs": [
    {
     "data": {
      "text/plain": [
       "array([0, 0, 0, ..., 0, 0, 0])"
      ]
     },
     "execution_count": 39,
     "metadata": {},
     "output_type": "execute_result"
    }
   ],
   "source": [
    "model.predict(X_test)"
   ]
  },
  {
   "cell_type": "markdown",
   "id": "56c9705b",
   "metadata": {
    "papermill": {
     "duration": 0.023951,
     "end_time": "2025-07-28T10:12:34.636926",
     "exception": false,
     "start_time": "2025-07-28T10:12:34.612975",
     "status": "completed"
    },
    "tags": []
   },
   "source": [
    "# Conformal Prediction"
   ]
  },
  {
   "cell_type": "code",
   "execution_count": 40,
   "id": "160ec6ff",
   "metadata": {
    "execution": {
     "iopub.execute_input": "2025-07-28T10:12:34.689713Z",
     "iopub.status.busy": "2025-07-28T10:12:34.689139Z",
     "iopub.status.idle": "2025-07-28T10:12:34.695488Z",
     "shell.execute_reply": "2025-07-28T10:12:34.694127Z"
    },
    "papermill": {
     "duration": 0.035677,
     "end_time": "2025-07-28T10:12:34.697365",
     "exception": false,
     "start_time": "2025-07-28T10:12:34.661688",
     "status": "completed"
    },
    "tags": []
   },
   "outputs": [],
   "source": [
    "# Miscoverage level for conformal prediction (10% allowed error rate => 90% target coverage)\n",
    "alpha = 0.1"
   ]
  },
  {
   "cell_type": "code",
   "execution_count": 41,
   "id": "eadf4555-3dd3-440e-8e35-f82a4ad9f855",
   "metadata": {
    "execution": {
     "iopub.execute_input": "2025-07-28T10:12:34.750677Z",
     "iopub.status.busy": "2025-07-28T10:12:34.750093Z",
     "iopub.status.idle": "2025-07-28T10:12:36.558023Z",
     "shell.execute_reply": "2025-07-28T10:12:36.556981Z"
    },
    "papermill": {
     "duration": 1.837159,
     "end_time": "2025-07-28T10:12:36.559968",
     "exception": false,
     "start_time": "2025-07-28T10:12:34.722809",
     "status": "completed"
    },
    "tags": []
   },
   "outputs": [],
   "source": [
    "probs_calib = model.predict_proba(X_calib)"
   ]
  },
  {
   "cell_type": "code",
   "execution_count": 42,
   "id": "2ed93547-6d5d-4983-9b36-1ecb300da49a",
   "metadata": {
    "execution": {
     "iopub.execute_input": "2025-07-28T10:12:36.613348Z",
     "iopub.status.busy": "2025-07-28T10:12:36.612330Z",
     "iopub.status.idle": "2025-07-28T10:12:36.620634Z",
     "shell.execute_reply": "2025-07-28T10:12:36.619210Z"
    },
    "papermill": {
     "duration": 0.038239,
     "end_time": "2025-07-28T10:12:36.622886",
     "exception": false,
     "start_time": "2025-07-28T10:12:36.584647",
     "status": "completed"
    },
    "tags": []
   },
   "outputs": [],
   "source": [
    "y_calib = y_calib.values.ravel().astype(int)"
   ]
  },
  {
   "cell_type": "code",
   "execution_count": 43,
   "id": "65d1320d-f588-4b38-9072-62af1ae97f7d",
   "metadata": {
    "execution": {
     "iopub.execute_input": "2025-07-28T10:12:36.673983Z",
     "iopub.status.busy": "2025-07-28T10:12:36.673139Z",
     "iopub.status.idle": "2025-07-28T10:12:36.681294Z",
     "shell.execute_reply": "2025-07-28T10:12:36.680202Z"
    },
    "papermill": {
     "duration": 0.035993,
     "end_time": "2025-07-28T10:12:36.683186",
     "exception": false,
     "start_time": "2025-07-28T10:12:36.647193",
     "status": "completed"
    },
    "tags": []
   },
   "outputs": [],
   "source": [
    "from fairness_multiverse.conformal import compute_nc_scores\n",
    "\n",
    "# Compute nonconformity scores on calibration set (1 - probability of true class)\n",
    "nc_scores = compute_nc_scores(probs_calib, y_calib)"
   ]
  },
  {
   "cell_type": "code",
   "execution_count": 44,
   "id": "df3b8ca3-53b7-43d5-9667-7c85da7aeda2",
   "metadata": {
    "execution": {
     "iopub.execute_input": "2025-07-28T10:12:36.733652Z",
     "iopub.status.busy": "2025-07-28T10:12:36.733153Z",
     "iopub.status.idle": "2025-07-28T10:12:36.740777Z",
     "shell.execute_reply": "2025-07-28T10:12:36.739647Z"
    },
    "papermill": {
     "duration": 0.036099,
     "end_time": "2025-07-28T10:12:36.744200",
     "exception": false,
     "start_time": "2025-07-28T10:12:36.708101",
     "status": "completed"
    },
    "tags": []
   },
   "outputs": [],
   "source": [
    "from fairness_multiverse.conformal import find_threshold\n",
    "\n",
    "# Find conformal threshold q_hat for the given alpha (split conformal method)\n",
    "q_hat = find_threshold(nc_scores, alpha)"
   ]
  },
  {
   "cell_type": "code",
   "execution_count": 45,
   "id": "4d29e6c1-0ef6-4aa4-b8fe-4fe79b0d033a",
   "metadata": {
    "execution": {
     "iopub.execute_input": "2025-07-28T10:12:36.796275Z",
     "iopub.status.busy": "2025-07-28T10:12:36.795829Z",
     "iopub.status.idle": "2025-07-28T10:12:36.803528Z",
     "shell.execute_reply": "2025-07-28T10:12:36.802515Z"
    },
    "papermill": {
     "duration": 0.038317,
     "end_time": "2025-07-28T10:12:36.808344",
     "exception": false,
     "start_time": "2025-07-28T10:12:36.770027",
     "status": "completed"
    },
    "tags": []
   },
   "outputs": [
    {
     "data": {
      "text/plain": [
       "0.65"
      ]
     },
     "execution_count": 45,
     "metadata": {},
     "output_type": "execute_result"
    }
   ],
   "source": [
    "q_hat"
   ]
  },
  {
   "cell_type": "code",
   "execution_count": 46,
   "id": "92460794-cdac-4be2-ba28-f28c0515a6fb",
   "metadata": {
    "execution": {
     "iopub.execute_input": "2025-07-28T10:12:36.861241Z",
     "iopub.status.busy": "2025-07-28T10:12:36.860835Z",
     "iopub.status.idle": "2025-07-28T10:12:39.861175Z",
     "shell.execute_reply": "2025-07-28T10:12:39.818785Z"
    },
    "papermill": {
     "duration": 3.029084,
     "end_time": "2025-07-28T10:12:39.863383",
     "exception": false,
     "start_time": "2025-07-28T10:12:36.834299",
     "status": "completed"
    },
    "tags": []
   },
   "outputs": [],
   "source": [
    "from fairness_multiverse.conformal import predict_conformal_sets\n",
    "\n",
    "# Generate prediction sets for each test example\n",
    "pred_sets = predict_conformal_sets(model, X_test, q_hat)"
   ]
  },
  {
   "cell_type": "code",
   "execution_count": 47,
   "id": "d90c9a65-e6db-4f5d-80cd-e68fb7e46829",
   "metadata": {
    "execution": {
     "iopub.execute_input": "2025-07-28T10:12:39.983641Z",
     "iopub.status.busy": "2025-07-28T10:12:39.982461Z",
     "iopub.status.idle": "2025-07-28T10:12:39.990527Z",
     "shell.execute_reply": "2025-07-28T10:12:39.989313Z"
    },
    "papermill": {
     "duration": 0.067792,
     "end_time": "2025-07-28T10:12:39.992338",
     "exception": false,
     "start_time": "2025-07-28T10:12:39.924546",
     "status": "completed"
    },
    "tags": []
   },
   "outputs": [],
   "source": [
    "y_true = y_true.squeeze()"
   ]
  },
  {
   "cell_type": "code",
   "execution_count": 48,
   "id": "3a58a54a-1e68-46b9-927a-df01f18aebc8",
   "metadata": {
    "execution": {
     "iopub.execute_input": "2025-07-28T10:12:40.061402Z",
     "iopub.status.busy": "2025-07-28T10:12:40.060980Z",
     "iopub.status.idle": "2025-07-28T10:12:41.383345Z",
     "shell.execute_reply": "2025-07-28T10:12:41.382255Z"
    },
    "papermill": {
     "duration": 1.344525,
     "end_time": "2025-07-28T10:12:41.385145",
     "exception": false,
     "start_time": "2025-07-28T10:12:40.040620",
     "status": "completed"
    },
    "tags": []
   },
   "outputs": [],
   "source": [
    "from fairness_multiverse.conformal import evaluate_sets\n",
    "\n",
    "# Evaluate coverage and average set size on test data\n",
    "metrics = evaluate_sets(pred_sets, y_true)"
   ]
  },
  {
   "cell_type": "markdown",
   "id": "2b569c12-9aaa-4c88-98c9-bbcd0cf3ebb8",
   "metadata": {
    "papermill": {
     "duration": 0.024863,
     "end_time": "2025-07-28T10:12:41.469607",
     "exception": false,
     "start_time": "2025-07-28T10:12:41.444744",
     "status": "completed"
    },
    "tags": []
   },
   "source": [
    "# CP Metrics"
   ]
  },
  {
   "cell_type": "code",
   "execution_count": 49,
   "id": "5ce0a5cb-201f-45a0-ade5-94c7f0bd6095",
   "metadata": {
    "execution": {
     "iopub.execute_input": "2025-07-28T10:12:41.523527Z",
     "iopub.status.busy": "2025-07-28T10:12:41.522525Z",
     "iopub.status.idle": "2025-07-28T10:12:41.531493Z",
     "shell.execute_reply": "2025-07-28T10:12:41.530393Z"
    },
    "papermill": {
     "duration": 0.041173,
     "end_time": "2025-07-28T10:12:41.535571",
     "exception": false,
     "start_time": "2025-07-28T10:12:41.494398",
     "status": "completed"
    },
    "tags": []
   },
   "outputs": [
    {
     "data": {
      "text/plain": [
       "{'coverage': 0.9125069668933229, 'avg_size': 1.1389142793445546}"
      ]
     },
     "execution_count": 49,
     "metadata": {},
     "output_type": "execute_result"
    }
   ],
   "source": [
    "metrics"
   ]
  },
  {
   "cell_type": "code",
   "execution_count": 50,
   "id": "9b9a838d-31c9-430b-ae14-12baee460d17",
   "metadata": {
    "execution": {
     "iopub.execute_input": "2025-07-28T10:12:41.589193Z",
     "iopub.status.busy": "2025-07-28T10:12:41.588708Z",
     "iopub.status.idle": "2025-07-28T10:12:41.596486Z",
     "shell.execute_reply": "2025-07-28T10:12:41.595215Z"
    },
    "papermill": {
     "duration": 0.038704,
     "end_time": "2025-07-28T10:12:41.599969",
     "exception": false,
     "start_time": "2025-07-28T10:12:41.561265",
     "status": "completed"
    },
    "tags": []
   },
   "outputs": [],
   "source": [
    "example_universe = universe.copy()\n",
    "universe_training_size = example_universe.get(\"training_size\")\n",
    "universe_scale = example_universe.get(\"scale\")\n",
    "universe_model = example_universe.get(\"model\")\n",
    "universe_exclude_features = example_universe.get(\"exclude_features\")\n",
    "universe_exclude_subgroups = example_universe.get(\"exclude_subgroups\")"
   ]
  },
  {
   "cell_type": "code",
   "execution_count": 51,
   "id": "f4b6a8ac-9dc0-4245-8a91-5b3b5999c4f9",
   "metadata": {
    "execution": {
     "iopub.execute_input": "2025-07-28T10:12:41.654461Z",
     "iopub.status.busy": "2025-07-28T10:12:41.654022Z",
     "iopub.status.idle": "2025-07-28T10:12:41.662073Z",
     "shell.execute_reply": "2025-07-28T10:12:41.660723Z"
    },
    "papermill": {
     "duration": 0.039082,
     "end_time": "2025-07-28T10:12:41.665636",
     "exception": false,
     "start_time": "2025-07-28T10:12:41.626554",
     "status": "completed"
    },
    "tags": []
   },
   "outputs": [],
   "source": [
    "cp_metrics_dict = {\n",
    "    \"universe_id\": [universe_id],\n",
    "    \"universe_training_size\": [universe_training_size],\n",
    "    \"universe_scale\": [universe_scale],\n",
    "    \"universe_model\": [universe_model],\n",
    "    \"universe_exclude_features\": [universe_exclude_features],\n",
    "    \"universe_exclude_subgroups\": [universe_exclude_subgroups],\n",
    "    \"q_hat\": [q_hat],\n",
    "    \"coverage\": [metrics[\"coverage\"]],\n",
    "    \"avg_size\": [metrics[\"avg_size\"]],\n",
    "}"
   ]
  },
  {
   "cell_type": "code",
   "execution_count": 52,
   "id": "908acbb1-0371-4915-85ca-3fa520d2efe2",
   "metadata": {
    "execution": {
     "iopub.execute_input": "2025-07-28T10:12:41.721779Z",
     "iopub.status.busy": "2025-07-28T10:12:41.721328Z",
     "iopub.status.idle": "2025-07-28T10:12:41.730415Z",
     "shell.execute_reply": "2025-07-28T10:12:41.729250Z"
    },
    "papermill": {
     "duration": 0.041629,
     "end_time": "2025-07-28T10:12:41.735162",
     "exception": false,
     "start_time": "2025-07-28T10:12:41.693533",
     "status": "completed"
    },
    "tags": []
   },
   "outputs": [
    {
     "data": {
      "text/plain": [
       "{'universe_id': ['c1fc74eda9387a980da592390c4a96f4'],\n",
       " 'universe_training_size': ['25k'],\n",
       " 'universe_scale': ['scale'],\n",
       " 'universe_model': ['rf'],\n",
       " 'universe_exclude_features': ['nationality'],\n",
       " 'universe_exclude_subgroups': ['drop-non-german'],\n",
       " 'q_hat': [0.65],\n",
       " 'coverage': [0.9125069668933229],\n",
       " 'avg_size': [1.1389142793445546]}"
      ]
     },
     "execution_count": 52,
     "metadata": {},
     "output_type": "execute_result"
    }
   ],
   "source": [
    "cp_metrics_dict"
   ]
  },
  {
   "cell_type": "code",
   "execution_count": 53,
   "id": "33007efc-14e9-4ec6-97ac-56a455c82265",
   "metadata": {
    "execution": {
     "iopub.execute_input": "2025-07-28T10:12:41.814276Z",
     "iopub.status.busy": "2025-07-28T10:12:41.813805Z",
     "iopub.status.idle": "2025-07-28T10:12:41.822056Z",
     "shell.execute_reply": "2025-07-28T10:12:41.820805Z"
    },
    "papermill": {
     "duration": 0.063283,
     "end_time": "2025-07-28T10:12:41.825616",
     "exception": false,
     "start_time": "2025-07-28T10:12:41.762333",
     "status": "completed"
    },
    "tags": []
   },
   "outputs": [],
   "source": [
    "cp_metrics_df = pd.DataFrame(cp_metrics_dict)"
   ]
  },
  {
   "cell_type": "code",
   "execution_count": 54,
   "id": "db12611b-57b2-4910-b9d0-355adfd6e7bf",
   "metadata": {
    "execution": {
     "iopub.execute_input": "2025-07-28T10:12:41.942857Z",
     "iopub.status.busy": "2025-07-28T10:12:41.942343Z",
     "iopub.status.idle": "2025-07-28T10:12:41.989422Z",
     "shell.execute_reply": "2025-07-28T10:12:41.988103Z"
    },
    "papermill": {
     "duration": 0.10699,
     "end_time": "2025-07-28T10:12:41.991748",
     "exception": false,
     "start_time": "2025-07-28T10:12:41.884758",
     "status": "completed"
    },
    "tags": []
   },
   "outputs": [
    {
     "data": {
      "text/html": [
       "<div>\n",
       "<style scoped>\n",
       "    .dataframe tbody tr th:only-of-type {\n",
       "        vertical-align: middle;\n",
       "    }\n",
       "\n",
       "    .dataframe tbody tr th {\n",
       "        vertical-align: top;\n",
       "    }\n",
       "\n",
       "    .dataframe thead th {\n",
       "        text-align: right;\n",
       "    }\n",
       "</style>\n",
       "<table border=\"1\" class=\"dataframe\">\n",
       "  <thead>\n",
       "    <tr style=\"text-align: right;\">\n",
       "      <th></th>\n",
       "      <th>universe_id</th>\n",
       "      <th>universe_training_size</th>\n",
       "      <th>universe_scale</th>\n",
       "      <th>universe_model</th>\n",
       "      <th>universe_exclude_features</th>\n",
       "      <th>universe_exclude_subgroups</th>\n",
       "      <th>q_hat</th>\n",
       "      <th>coverage</th>\n",
       "      <th>avg_size</th>\n",
       "    </tr>\n",
       "  </thead>\n",
       "  <tbody>\n",
       "    <tr>\n",
       "      <th>0</th>\n",
       "      <td>c1fc74eda9387a980da592390c4a96f4</td>\n",
       "      <td>25k</td>\n",
       "      <td>scale</td>\n",
       "      <td>rf</td>\n",
       "      <td>nationality</td>\n",
       "      <td>drop-non-german</td>\n",
       "      <td>0.65</td>\n",
       "      <td>0.912507</td>\n",
       "      <td>1.138914</td>\n",
       "    </tr>\n",
       "  </tbody>\n",
       "</table>\n",
       "</div>"
      ],
      "text/plain": [
       "                        universe_id universe_training_size universe_scale  \\\n",
       "0  c1fc74eda9387a980da592390c4a96f4                    25k          scale   \n",
       "\n",
       "  universe_model universe_exclude_features universe_exclude_subgroups  q_hat  \\\n",
       "0             rf               nationality            drop-non-german   0.65   \n",
       "\n",
       "   coverage  avg_size  \n",
       "0  0.912507  1.138914  "
      ]
     },
     "execution_count": 54,
     "metadata": {},
     "output_type": "execute_result"
    }
   ],
   "source": [
    "cp_metrics_df"
   ]
  },
  {
   "cell_type": "code",
   "execution_count": 55,
   "id": "b7fbde55-a0a1-47e4-9af6-fe4a17fa8c61",
   "metadata": {
    "execution": {
     "iopub.execute_input": "2025-07-28T10:12:42.060269Z",
     "iopub.status.busy": "2025-07-28T10:12:42.059821Z",
     "iopub.status.idle": "2025-07-28T10:12:42.065764Z",
     "shell.execute_reply": "2025-07-28T10:12:42.064587Z"
    },
    "papermill": {
     "duration": 0.03665,
     "end_time": "2025-07-28T10:12:42.068834",
     "exception": false,
     "start_time": "2025-07-28T10:12:42.032184",
     "status": "completed"
    },
    "tags": []
   },
   "outputs": [],
   "source": [
    "# Conditional Coverage & looking at subgroups"
   ]
  },
  {
   "cell_type": "code",
   "execution_count": 56,
   "id": "027ae886-68dd-4141-96c7-805a5450e1ef",
   "metadata": {
    "execution": {
     "iopub.execute_input": "2025-07-28T10:12:42.124365Z",
     "iopub.status.busy": "2025-07-28T10:12:42.123838Z",
     "iopub.status.idle": "2025-07-28T10:12:42.657256Z",
     "shell.execute_reply": "2025-07-28T10:12:42.656115Z"
    },
    "papermill": {
     "duration": 0.563302,
     "end_time": "2025-07-28T10:12:42.659191",
     "exception": false,
     "start_time": "2025-07-28T10:12:42.095889",
     "status": "completed"
    },
    "tags": []
   },
   "outputs": [],
   "source": [
    "from fairness_multiverse.conformal import build_cp_groups\n",
    "\n",
    "cp_groups_df = build_cp_groups(pred_sets, y_true, X_test.index, org_test)\n",
    "#needs universe_id and setting"
   ]
  },
  {
   "cell_type": "code",
   "execution_count": 57,
   "id": "01d5802c-663a-4d1f-9d69-e036faaffbf7",
   "metadata": {
    "execution": {
     "iopub.execute_input": "2025-07-28T10:12:42.730302Z",
     "iopub.status.busy": "2025-07-28T10:12:42.729143Z",
     "iopub.status.idle": "2025-07-28T10:12:42.735047Z",
     "shell.execute_reply": "2025-07-28T10:12:42.734182Z"
    },
    "papermill": {
     "duration": 0.039483,
     "end_time": "2025-07-28T10:12:42.737309",
     "exception": false,
     "start_time": "2025-07-28T10:12:42.697826",
     "status": "completed"
    },
    "tags": []
   },
   "outputs": [],
   "source": [
    "#delete\n",
    "#cp_groups_df"
   ]
  },
  {
   "cell_type": "code",
   "execution_count": 58,
   "id": "fa424af1-d1eb-443d-b717-2d279ada8408",
   "metadata": {
    "execution": {
     "iopub.execute_input": "2025-07-28T10:12:42.806791Z",
     "iopub.status.busy": "2025-07-28T10:12:42.806347Z",
     "iopub.status.idle": "2025-07-28T10:12:42.812550Z",
     "shell.execute_reply": "2025-07-28T10:12:42.811262Z"
    },
    "papermill": {
     "duration": 0.045002,
     "end_time": "2025-07-28T10:12:42.814303",
     "exception": false,
     "start_time": "2025-07-28T10:12:42.769301",
     "status": "completed"
    },
    "tags": []
   },
   "outputs": [],
   "source": [
    "#delete\n",
    "#percentage = (cp_groups_df['nongerman_female'] == 1).mean() * 100\n",
    "#print(percentage)\n"
   ]
  },
  {
   "cell_type": "code",
   "execution_count": 59,
   "id": "6cbdab96-b2b2-45af-ad54-d0516db2e28d",
   "metadata": {
    "execution": {
     "iopub.execute_input": "2025-07-28T10:12:42.903058Z",
     "iopub.status.busy": "2025-07-28T10:12:42.902240Z",
     "iopub.status.idle": "2025-07-28T10:12:44.946418Z",
     "shell.execute_reply": "2025-07-28T10:12:44.945111Z"
    },
    "papermill": {
     "duration": 2.073601,
     "end_time": "2025-07-28T10:12:44.948926",
     "exception": false,
     "start_time": "2025-07-28T10:12:42.875325",
     "status": "completed"
    },
    "tags": []
   },
   "outputs": [],
   "source": [
    "# Define covered = 1 if true_label is in the predicted set\n",
    "cp_groups_df['covered'] = cp_groups_df.apply(\n",
    "    lambda r: int(r['true_label'] in r['pred_set']),\n",
    "    axis=1\n",
    ")"
   ]
  },
  {
   "cell_type": "code",
   "execution_count": 60,
   "id": "338ff529-1a6b-4b87-a931-8e4788d52aad",
   "metadata": {
    "execution": {
     "iopub.execute_input": "2025-07-28T10:12:45.016921Z",
     "iopub.status.busy": "2025-07-28T10:12:45.016194Z",
     "iopub.status.idle": "2025-07-28T10:12:45.022305Z",
     "shell.execute_reply": "2025-07-28T10:12:45.021263Z"
    },
    "papermill": {
     "duration": 0.046004,
     "end_time": "2025-07-28T10:12:45.024256",
     "exception": false,
     "start_time": "2025-07-28T10:12:44.978252",
     "status": "completed"
    },
    "tags": []
   },
   "outputs": [],
   "source": [
    "#cp_groups_df"
   ]
  },
  {
   "cell_type": "code",
   "execution_count": 61,
   "id": "90032e27-66df-4540-9169-4e89cfbaa758",
   "metadata": {
    "execution": {
     "iopub.execute_input": "2025-07-28T10:12:45.082143Z",
     "iopub.status.busy": "2025-07-28T10:12:45.081453Z",
     "iopub.status.idle": "2025-07-28T10:12:45.105826Z",
     "shell.execute_reply": "2025-07-28T10:12:45.104592Z"
    },
    "papermill": {
     "duration": 0.054562,
     "end_time": "2025-07-28T10:12:45.107612",
     "exception": false,
     "start_time": "2025-07-28T10:12:45.053050",
     "status": "completed"
    },
    "tags": []
   },
   "outputs": [],
   "source": [
    "subgroups = ['frau1','nongerman','nongerman_male','nongerman_female']\n",
    "\n",
    "# Conditional coverage for subgroup==1\n",
    "cond_coverage = {\n",
    "    g: cp_groups_df.loc[cp_groups_df[g]==1, 'covered'].mean()\n",
    "    for g in subgroups\n",
    "}"
   ]
  },
  {
   "cell_type": "code",
   "execution_count": 62,
   "id": "1e348fb1-b9c3-45bc-ba23-f016827a7e0d",
   "metadata": {
    "execution": {
     "iopub.execute_input": "2025-07-28T10:12:45.219932Z",
     "iopub.status.busy": "2025-07-28T10:12:45.219119Z",
     "iopub.status.idle": "2025-07-28T10:12:45.233748Z",
     "shell.execute_reply": "2025-07-28T10:12:45.232583Z"
    },
    "papermill": {
     "duration": 0.112705,
     "end_time": "2025-07-28T10:12:45.262259",
     "exception": false,
     "start_time": "2025-07-28T10:12:45.149554",
     "status": "completed"
    },
    "tags": []
   },
   "outputs": [
    {
     "data": {
      "text/plain": [
       "{'frau1': 0.9115783798355573,\n",
       " 'nongerman': 0.9057429966878122,\n",
       " 'nongerman_male': 0.9216427992434477,\n",
       " 'nongerman_female': 0.8794336810730253}"
      ]
     },
     "execution_count": 62,
     "metadata": {},
     "output_type": "execute_result"
    }
   ],
   "source": [
    "cond_coverage"
   ]
  },
  {
   "cell_type": "code",
   "execution_count": 63,
   "id": "f5093324-c3dd-4d63-bc4c-8d945e5c8bbb",
   "metadata": {
    "execution": {
     "iopub.execute_input": "2025-07-28T10:12:45.358228Z",
     "iopub.status.busy": "2025-07-28T10:12:45.357799Z",
     "iopub.status.idle": "2025-07-28T10:12:45.365925Z",
     "shell.execute_reply": "2025-07-28T10:12:45.364716Z"
    },
    "papermill": {
     "duration": 0.070806,
     "end_time": "2025-07-28T10:12:45.367559",
     "exception": false,
     "start_time": "2025-07-28T10:12:45.296753",
     "status": "completed"
    },
    "tags": []
   },
   "outputs": [],
   "source": [
    "for subgroup, cov in cond_coverage.items():\n",
    "    cp_metrics_df[f\"cov_{subgroup}\"] = cov"
   ]
  },
  {
   "cell_type": "code",
   "execution_count": 64,
   "id": "6e872e10-dbe5-49e8-b554-5030c98ff75d",
   "metadata": {
    "execution": {
     "iopub.execute_input": "2025-07-28T10:12:45.411030Z",
     "iopub.status.busy": "2025-07-28T10:12:45.410521Z",
     "iopub.status.idle": "2025-07-28T10:12:45.431864Z",
     "shell.execute_reply": "2025-07-28T10:12:45.430924Z"
    },
    "papermill": {
     "duration": 0.051093,
     "end_time": "2025-07-28T10:12:45.433883",
     "exception": false,
     "start_time": "2025-07-28T10:12:45.382790",
     "status": "completed"
    },
    "tags": []
   },
   "outputs": [
    {
     "data": {
      "text/html": [
       "<div>\n",
       "<style scoped>\n",
       "    .dataframe tbody tr th:only-of-type {\n",
       "        vertical-align: middle;\n",
       "    }\n",
       "\n",
       "    .dataframe tbody tr th {\n",
       "        vertical-align: top;\n",
       "    }\n",
       "\n",
       "    .dataframe thead th {\n",
       "        text-align: right;\n",
       "    }\n",
       "</style>\n",
       "<table border=\"1\" class=\"dataframe\">\n",
       "  <thead>\n",
       "    <tr style=\"text-align: right;\">\n",
       "      <th></th>\n",
       "      <th>universe_id</th>\n",
       "      <th>universe_training_size</th>\n",
       "      <th>universe_scale</th>\n",
       "      <th>universe_model</th>\n",
       "      <th>universe_exclude_features</th>\n",
       "      <th>universe_exclude_subgroups</th>\n",
       "      <th>q_hat</th>\n",
       "      <th>coverage</th>\n",
       "      <th>avg_size</th>\n",
       "      <th>cov_frau1</th>\n",
       "      <th>cov_nongerman</th>\n",
       "      <th>cov_nongerman_male</th>\n",
       "      <th>cov_nongerman_female</th>\n",
       "    </tr>\n",
       "  </thead>\n",
       "  <tbody>\n",
       "    <tr>\n",
       "      <th>0</th>\n",
       "      <td>c1fc74eda9387a980da592390c4a96f4</td>\n",
       "      <td>25k</td>\n",
       "      <td>scale</td>\n",
       "      <td>rf</td>\n",
       "      <td>nationality</td>\n",
       "      <td>drop-non-german</td>\n",
       "      <td>0.65</td>\n",
       "      <td>0.912507</td>\n",
       "      <td>1.138914</td>\n",
       "      <td>0.911578</td>\n",
       "      <td>0.905743</td>\n",
       "      <td>0.921643</td>\n",
       "      <td>0.879434</td>\n",
       "    </tr>\n",
       "  </tbody>\n",
       "</table>\n",
       "</div>"
      ],
      "text/plain": [
       "                        universe_id universe_training_size universe_scale  \\\n",
       "0  c1fc74eda9387a980da592390c4a96f4                    25k          scale   \n",
       "\n",
       "  universe_model universe_exclude_features universe_exclude_subgroups  q_hat  \\\n",
       "0             rf               nationality            drop-non-german   0.65   \n",
       "\n",
       "   coverage  avg_size  cov_frau1  cov_nongerman  cov_nongerman_male  \\\n",
       "0  0.912507  1.138914   0.911578       0.905743            0.921643   \n",
       "\n",
       "   cov_nongerman_female  \n",
       "0              0.879434  "
      ]
     },
     "execution_count": 64,
     "metadata": {},
     "output_type": "execute_result"
    }
   ],
   "source": [
    "cp_metrics_df"
   ]
  },
  {
   "cell_type": "markdown",
   "id": "33774451",
   "metadata": {
    "papermill": {
     "duration": 0.036167,
     "end_time": "2025-07-28T10:12:45.505762",
     "exception": false,
     "start_time": "2025-07-28T10:12:45.469595",
     "status": "completed"
    },
    "tags": []
   },
   "source": [
    "# (Fairness) Metrics"
   ]
  },
  {
   "cell_type": "code",
   "execution_count": 65,
   "id": "debc5d62",
   "metadata": {
    "execution": {
     "iopub.execute_input": "2025-07-28T10:12:45.580797Z",
     "iopub.status.busy": "2025-07-28T10:12:45.579854Z",
     "iopub.status.idle": "2025-07-28T10:12:45.606278Z",
     "shell.execute_reply": "2025-07-28T10:12:45.605031Z"
    },
    "papermill": {
     "duration": 0.067185,
     "end_time": "2025-07-28T10:12:45.608580",
     "exception": false,
     "start_time": "2025-07-28T10:12:45.541395",
     "status": "completed"
    },
    "tags": []
   },
   "outputs": [],
   "source": [
    "# do I need to include maxdeutsch1.missing?\n",
    "\n",
    "import numpy as np\n",
    "\n",
    "colname_to_bin = \"maxdeutsch1\"\n",
    "majority_value = org_train[colname_to_bin].mode()[0]\n",
    "\n",
    "org_test[\"majmin\"] = np.where(org_test[colname_to_bin] == majority_value, \"majority\", \"minority\")"
   ]
  },
  {
   "cell_type": "code",
   "execution_count": 66,
   "id": "06a50de5",
   "metadata": {
    "execution": {
     "iopub.execute_input": "2025-07-28T10:12:45.743088Z",
     "iopub.status.busy": "2025-07-28T10:12:45.742100Z",
     "iopub.status.idle": "2025-07-28T10:12:50.296097Z",
     "shell.execute_reply": "2025-07-28T10:12:50.295023Z"
    },
    "papermill": {
     "duration": 4.645877,
     "end_time": "2025-07-28T10:12:50.298427",
     "exception": false,
     "start_time": "2025-07-28T10:12:45.652550",
     "status": "completed"
    },
    "tags": []
   },
   "outputs": [],
   "source": [
    "example_universe = universe.copy()\n",
    "example_universe[\"cutoff\"] = example_universe[\"cutoff\"][0]\n",
    "example_universe[\"eval_fairness_grouping\"] = example_universe[\"eval_fairness_grouping\"][0]\n",
    "fairness_dict, metric_frame = universe_analysis.compute_metrics(\n",
    "    example_universe,\n",
    "    y_pred_prob=probs_test,\n",
    "    y_test=y_true,\n",
    "    org_test=org_test,\n",
    ")"
   ]
  },
  {
   "cell_type": "markdown",
   "id": "f95d4e02",
   "metadata": {
    "papermill": {
     "duration": 0.029729,
     "end_time": "2025-07-28T10:12:50.417898",
     "exception": false,
     "start_time": "2025-07-28T10:12:50.388169",
     "status": "completed"
    },
    "tags": []
   },
   "source": [
    "# Overall"
   ]
  },
  {
   "cell_type": "markdown",
   "id": "bdee4871",
   "metadata": {
    "papermill": {
     "duration": 0.060543,
     "end_time": "2025-07-28T10:12:50.536128",
     "exception": false,
     "start_time": "2025-07-28T10:12:50.475585",
     "status": "completed"
    },
    "tags": []
   },
   "source": [
    "Fairness\n",
    "Main fairness target: Equalized Odds. Seems to be a better fit than equal opportunity, since we're not only interested in Y = 1. Seems to be a better fit than demographic parity, since we also care about accuracy, not just equal distribution of preds.\n",
    "\n",
    "Pick column for computation of fairness metrics\n",
    "\n",
    "Performance\n",
    "Overall performance measures, most interesting in relation to the measures split by group below"
   ]
  },
  {
   "cell_type": "code",
   "execution_count": 67,
   "id": "c4e067c6",
   "metadata": {
    "execution": {
     "iopub.execute_input": "2025-07-28T10:12:50.651147Z",
     "iopub.status.busy": "2025-07-28T10:12:50.650670Z",
     "iopub.status.idle": "2025-07-28T10:12:50.663732Z",
     "shell.execute_reply": "2025-07-28T10:12:50.662538Z"
    },
    "papermill": {
     "duration": 0.073395,
     "end_time": "2025-07-28T10:12:50.665795",
     "exception": false,
     "start_time": "2025-07-28T10:12:50.592400",
     "status": "completed"
    },
    "tags": []
   },
   "outputs": [
    {
     "data": {
      "text/plain": [
       "accuracy                   0.190781\n",
       "balanced accuracy          0.528364\n",
       "f1                         0.237504\n",
       "precision                  0.135079\n",
       "false positive rate        0.925718\n",
       "false negative rate        0.017553\n",
       "selection rate             0.932995\n",
       "count                  89710.000000\n",
       "dtype: float64"
      ]
     },
     "execution_count": 67,
     "metadata": {},
     "output_type": "execute_result"
    }
   ],
   "source": [
    "metric_frame.overall"
   ]
  },
  {
   "cell_type": "markdown",
   "id": "e968fe9d",
   "metadata": {
    "papermill": {
     "duration": 0.040813,
     "end_time": "2025-07-28T10:12:50.781000",
     "exception": false,
     "start_time": "2025-07-28T10:12:50.740187",
     "status": "completed"
    },
    "tags": []
   },
   "source": [
    "By Group"
   ]
  },
  {
   "cell_type": "code",
   "execution_count": 68,
   "id": "ec325bce",
   "metadata": {
    "execution": {
     "iopub.execute_input": "2025-07-28T10:12:50.881419Z",
     "iopub.status.busy": "2025-07-28T10:12:50.880777Z",
     "iopub.status.idle": "2025-07-28T10:12:50.929809Z",
     "shell.execute_reply": "2025-07-28T10:12:50.928121Z"
    },
    "papermill": {
     "duration": 0.091112,
     "end_time": "2025-07-28T10:12:50.931809",
     "exception": false,
     "start_time": "2025-07-28T10:12:50.840697",
     "status": "completed"
    },
    "tags": []
   },
   "outputs": [
    {
     "data": {
      "text/html": [
       "<div>\n",
       "<style scoped>\n",
       "    .dataframe tbody tr th:only-of-type {\n",
       "        vertical-align: middle;\n",
       "    }\n",
       "\n",
       "    .dataframe tbody tr th {\n",
       "        vertical-align: top;\n",
       "    }\n",
       "\n",
       "    .dataframe thead th {\n",
       "        text-align: right;\n",
       "    }\n",
       "</style>\n",
       "<table border=\"1\" class=\"dataframe\">\n",
       "  <thead>\n",
       "    <tr style=\"text-align: right;\">\n",
       "      <th></th>\n",
       "      <th>accuracy</th>\n",
       "      <th>balanced accuracy</th>\n",
       "      <th>f1</th>\n",
       "      <th>precision</th>\n",
       "      <th>false positive rate</th>\n",
       "      <th>false negative rate</th>\n",
       "      <th>selection rate</th>\n",
       "      <th>count</th>\n",
       "    </tr>\n",
       "    <tr>\n",
       "      <th>majmin</th>\n",
       "      <th></th>\n",
       "      <th></th>\n",
       "      <th></th>\n",
       "      <th></th>\n",
       "      <th></th>\n",
       "      <th></th>\n",
       "      <th></th>\n",
       "      <th></th>\n",
       "    </tr>\n",
       "  </thead>\n",
       "  <tbody>\n",
       "    <tr>\n",
       "      <th>majority</th>\n",
       "      <td>0.190704</td>\n",
       "      <td>0.529197</td>\n",
       "      <td>0.244171</td>\n",
       "      <td>0.139273</td>\n",
       "      <td>0.930885</td>\n",
       "      <td>0.010722</td>\n",
       "      <td>0.938601</td>\n",
       "      <td>69170.0</td>\n",
       "    </tr>\n",
       "    <tr>\n",
       "      <th>minority</th>\n",
       "      <td>0.191042</td>\n",
       "      <td>0.523715</td>\n",
       "      <td>0.214151</td>\n",
       "      <td>0.120579</td>\n",
       "      <td>0.908651</td>\n",
       "      <td>0.043919</td>\n",
       "      <td>0.914119</td>\n",
       "      <td>20540.0</td>\n",
       "    </tr>\n",
       "  </tbody>\n",
       "</table>\n",
       "</div>"
      ],
      "text/plain": [
       "          accuracy  balanced accuracy        f1  precision  \\\n",
       "majmin                                                       \n",
       "majority  0.190704           0.529197  0.244171   0.139273   \n",
       "minority  0.191042           0.523715  0.214151   0.120579   \n",
       "\n",
       "          false positive rate  false negative rate  selection rate    count  \n",
       "majmin                                                                       \n",
       "majority             0.930885             0.010722        0.938601  69170.0  \n",
       "minority             0.908651             0.043919        0.914119  20540.0  "
      ]
     },
     "execution_count": 68,
     "metadata": {},
     "output_type": "execute_result"
    }
   ],
   "source": [
    "metric_frame.by_group"
   ]
  },
  {
   "cell_type": "code",
   "execution_count": 69,
   "id": "a9ddbe63",
   "metadata": {
    "execution": {
     "iopub.execute_input": "2025-07-28T10:12:50.993380Z",
     "iopub.status.busy": "2025-07-28T10:12:50.992953Z",
     "iopub.status.idle": "2025-07-28T10:12:54.774734Z",
     "shell.execute_reply": "2025-07-28T10:12:54.773654Z"
    },
    "papermill": {
     "duration": 3.811612,
     "end_time": "2025-07-28T10:12:54.777087",
     "exception": false,
     "start_time": "2025-07-28T10:12:50.965475",
     "status": "completed"
    },
    "tags": []
   },
   "outputs": [
    {
     "data": {
      "text/plain": [
       "array([[<Axes: title={'center': 'accuracy'}, xlabel='majmin'>,\n",
       "        <Axes: title={'center': 'balanced accuracy'}, xlabel='majmin'>,\n",
       "        <Axes: title={'center': 'f1'}, xlabel='majmin'>],\n",
       "       [<Axes: title={'center': 'precision'}, xlabel='majmin'>,\n",
       "        <Axes: title={'center': 'false positive rate'}, xlabel='majmin'>,\n",
       "        <Axes: title={'center': 'false negative rate'}, xlabel='majmin'>],\n",
       "       [<Axes: title={'center': 'selection rate'}, xlabel='majmin'>,\n",
       "        <Axes: title={'center': 'count'}, xlabel='majmin'>,\n",
       "        <Axes: xlabel='majmin'>]], dtype=object)"
      ]
     },
     "execution_count": 69,
     "metadata": {},
     "output_type": "execute_result"
    },
    {
     "data": {
      "image/png": "[encoded data removed]",
      "text/plain": [
       "<Figure size 1200x800 with 9 Axes>"
      ]
     },
     "metadata": {},
     "output_type": "display_data"
    }
   ],
   "source": [
    "# In a graphic\n",
    "metric_frame.by_group.plot.bar(\n",
    "    subplots=True,\n",
    "    layout=[3, 3],\n",
    "    legend=False,\n",
    "    figsize=[12, 8],\n",
    "    title=\"Show all metrics\",\n",
    ")"
   ]
  },
  {
   "cell_type": "markdown",
   "id": "f57a0bac",
   "metadata": {
    "papermill": {
     "duration": 0.041915,
     "end_time": "2025-07-28T10:12:54.861203",
     "exception": false,
     "start_time": "2025-07-28T10:12:54.819288",
     "status": "completed"
    },
    "tags": []
   },
   "source": [
    "# Final Output"
   ]
  },
  {
   "cell_type": "code",
   "execution_count": 70,
   "id": "96d280a3",
   "metadata": {
    "execution": {
     "iopub.execute_input": "2025-07-28T10:12:55.016097Z",
     "iopub.status.busy": "2025-07-28T10:12:55.014817Z",
     "iopub.status.idle": "2025-07-28T10:12:55.024235Z",
     "shell.execute_reply": "2025-07-28T10:12:55.023234Z"
    },
    "papermill": {
     "duration": 0.091819,
     "end_time": "2025-07-28T10:12:55.025900",
     "exception": false,
     "start_time": "2025-07-28T10:12:54.934081",
     "status": "completed"
    },
    "tags": []
   },
   "outputs": [
    {
     "data": {
      "text/plain": [
       "4"
      ]
     },
     "execution_count": 70,
     "metadata": {},
     "output_type": "execute_result"
    }
   ],
   "source": [
    "sub_universes = universe_analysis.generate_sub_universes()\n",
    "len(sub_universes)"
   ]
  },
  {
   "cell_type": "code",
   "execution_count": 71,
   "id": "92adf7ba",
   "metadata": {
    "execution": {
     "iopub.execute_input": "2025-07-28T10:12:55.175701Z",
     "iopub.status.busy": "2025-07-28T10:12:55.175272Z",
     "iopub.status.idle": "2025-07-28T10:12:55.182291Z",
     "shell.execute_reply": "2025-07-28T10:12:55.181246Z"
    },
    "papermill": {
     "duration": 0.070639,
     "end_time": "2025-07-28T10:12:55.183813",
     "exception": false,
     "start_time": "2025-07-28T10:12:55.113174",
     "status": "completed"
    },
    "tags": []
   },
   "outputs": [],
   "source": [
    "def filter_sub_universe_data(sub_universe, org_test):\n",
    "    # Keep all rows — no filtering\n",
    "    keep_rows_mask = np.ones(org_test.shape[0], dtype=bool)\n",
    "\n",
    "    print(f\"[INFO] Keeping all rows: {keep_rows_mask.sum()} rows retained.\")\n",
    "    return keep_rows_mask"
   ]
  },
  {
   "cell_type": "code",
   "execution_count": 72,
   "id": "4a759155",
   "metadata": {
    "execution": {
     "iopub.execute_input": "2025-07-28T10:12:55.299584Z",
     "iopub.status.busy": "2025-07-28T10:12:55.299128Z",
     "iopub.status.idle": "2025-07-28T10:13:08.879633Z",
     "shell.execute_reply": "2025-07-28T10:13:08.878609Z"
    },
    "papermill": {
     "duration": 13.615766,
     "end_time": "2025-07-28T10:13:08.881652",
     "exception": false,
     "start_time": "2025-07-28T10:12:55.265886",
     "status": "completed"
    },
    "tags": []
   },
   "outputs": [
    {
     "name": "stdout",
     "output_type": "stream",
     "text": [
      "Stopping execution_time clock.\n",
      "[INFO] Keeping all rows: 89710 rows retained.\n"
     ]
    },
    {
     "name": "stdout",
     "output_type": "stream",
     "text": [
      "[INFO] Keeping all rows: 89710 rows retained.\n"
     ]
    },
    {
     "name": "stdout",
     "output_type": "stream",
     "text": [
      "[INFO] Keeping all rows: 89710 rows retained.\n"
     ]
    },
    {
     "name": "stdout",
     "output_type": "stream",
     "text": [
      "[INFO] Keeping all rows: 89710 rows retained.\n"
     ]
    },
    {
     "data": {
      "text/html": [
       "<div>\n",
       "<style scoped>\n",
       "    .dataframe tbody tr th:only-of-type {\n",
       "        vertical-align: middle;\n",
       "    }\n",
       "\n",
       "    .dataframe tbody tr th {\n",
       "        vertical-align: top;\n",
       "    }\n",
       "\n",
       "    .dataframe thead th {\n",
       "        text-align: right;\n",
       "    }\n",
       "</style>\n",
       "<table border=\"1\" class=\"dataframe\">\n",
       "  <thead>\n",
       "    <tr style=\"text-align: right;\">\n",
       "      <th></th>\n",
       "      <th>run_no</th>\n",
       "      <th>universe_id</th>\n",
       "      <th>universe_settings</th>\n",
       "      <th>execution_time</th>\n",
       "      <th>test_size_n</th>\n",
       "      <th>test_size_frac</th>\n",
       "      <th>fair_main_equalized_odds_difference</th>\n",
       "      <th>fair_main_equalized_odds_ratio</th>\n",
       "      <th>fair_main_demographic_parity_difference</th>\n",
       "      <th>fair_main_demographic_parity_ratio</th>\n",
       "      <th>...</th>\n",
       "      <th>perf_grp_precision_0</th>\n",
       "      <th>perf_grp_precision_1</th>\n",
       "      <th>perf_grp_false positive rate_0</th>\n",
       "      <th>perf_grp_false positive rate_1</th>\n",
       "      <th>perf_grp_false negative rate_0</th>\n",
       "      <th>perf_grp_false negative rate_1</th>\n",
       "      <th>perf_grp_selection rate_0</th>\n",
       "      <th>perf_grp_selection rate_1</th>\n",
       "      <th>perf_grp_count_0</th>\n",
       "      <th>perf_grp_count_1</th>\n",
       "    </tr>\n",
       "  </thead>\n",
       "  <tbody>\n",
       "    <tr>\n",
       "      <th>0</th>\n",
       "      <td>11</td>\n",
       "      <td>c1fc74eda9387a980da592390c4a96f4</td>\n",
       "      <td>{\"cutoff\": \"quantile_0.1\", \"eval_fairness_grou...</td>\n",
       "      <td>44.72564</td>\n",
       "      <td>89710</td>\n",
       "      <td>1.0</td>\n",
       "      <td>0.033197</td>\n",
       "      <td>0.966443</td>\n",
       "      <td>0.024482</td>\n",
       "      <td>0.973917</td>\n",
       "      <td>...</td>\n",
       "      <td>NaN</td>\n",
       "      <td>NaN</td>\n",
       "      <td>NaN</td>\n",
       "      <td>NaN</td>\n",
       "      <td>NaN</td>\n",
       "      <td>NaN</td>\n",
       "      <td>NaN</td>\n",
       "      <td>NaN</td>\n",
       "      <td>NaN</td>\n",
       "      <td>NaN</td>\n",
       "    </tr>\n",
       "    <tr>\n",
       "      <th>0</th>\n",
       "      <td>11</td>\n",
       "      <td>c1fc74eda9387a980da592390c4a96f4</td>\n",
       "      <td>{\"cutoff\": \"quantile_0.1\", \"eval_fairness_grou...</td>\n",
       "      <td>44.72564</td>\n",
       "      <td>89710</td>\n",
       "      <td>1.0</td>\n",
       "      <td>0.033197</td>\n",
       "      <td>0.966443</td>\n",
       "      <td>0.024482</td>\n",
       "      <td>0.973917</td>\n",
       "      <td>...</td>\n",
       "      <td>0.120579</td>\n",
       "      <td>0.139273</td>\n",
       "      <td>0.908651</td>\n",
       "      <td>0.930885</td>\n",
       "      <td>0.043919</td>\n",
       "      <td>0.010722</td>\n",
       "      <td>0.914119</td>\n",
       "      <td>0.938601</td>\n",
       "      <td>20540.0</td>\n",
       "      <td>69170.0</td>\n",
       "    </tr>\n",
       "    <tr>\n",
       "      <th>0</th>\n",
       "      <td>11</td>\n",
       "      <td>c1fc74eda9387a980da592390c4a96f4</td>\n",
       "      <td>{\"cutoff\": \"quantile_0.25\", \"eval_fairness_gro...</td>\n",
       "      <td>44.72564</td>\n",
       "      <td>89710</td>\n",
       "      <td>1.0</td>\n",
       "      <td>0.086199</td>\n",
       "      <td>0.909286</td>\n",
       "      <td>0.041477</td>\n",
       "      <td>0.945388</td>\n",
       "      <td>...</td>\n",
       "      <td>NaN</td>\n",
       "      <td>NaN</td>\n",
       "      <td>NaN</td>\n",
       "      <td>NaN</td>\n",
       "      <td>NaN</td>\n",
       "      <td>NaN</td>\n",
       "      <td>NaN</td>\n",
       "      <td>NaN</td>\n",
       "      <td>NaN</td>\n",
       "      <td>NaN</td>\n",
       "    </tr>\n",
       "    <tr>\n",
       "      <th>0</th>\n",
       "      <td>11</td>\n",
       "      <td>c1fc74eda9387a980da592390c4a96f4</td>\n",
       "      <td>{\"cutoff\": \"quantile_0.25\", \"eval_fairness_gro...</td>\n",
       "      <td>44.72564</td>\n",
       "      <td>89710</td>\n",
       "      <td>1.0</td>\n",
       "      <td>0.086199</td>\n",
       "      <td>0.909286</td>\n",
       "      <td>0.041477</td>\n",
       "      <td>0.945388</td>\n",
       "      <td>...</td>\n",
       "      <td>0.138731</td>\n",
       "      <td>0.165322</td>\n",
       "      <td>0.698987</td>\n",
       "      <td>0.730451</td>\n",
       "      <td>0.135980</td>\n",
       "      <td>0.049781</td>\n",
       "      <td>0.718014</td>\n",
       "      <td>0.759491</td>\n",
       "      <td>20540.0</td>\n",
       "      <td>69170.0</td>\n",
       "    </tr>\n",
       "  </tbody>\n",
       "</table>\n",
       "<p>4 rows × 50 columns</p>\n",
       "</div>"
      ],
      "text/plain": [
       "  run_no                       universe_id  \\\n",
       "0     11  c1fc74eda9387a980da592390c4a96f4   \n",
       "0     11  c1fc74eda9387a980da592390c4a96f4   \n",
       "0     11  c1fc74eda9387a980da592390c4a96f4   \n",
       "0     11  c1fc74eda9387a980da592390c4a96f4   \n",
       "\n",
       "                                   universe_settings  execution_time  \\\n",
       "0  {\"cutoff\": \"quantile_0.1\", \"eval_fairness_grou...        44.72564   \n",
       "0  {\"cutoff\": \"quantile_0.1\", \"eval_fairness_grou...        44.72564   \n",
       "0  {\"cutoff\": \"quantile_0.25\", \"eval_fairness_gro...        44.72564   \n",
       "0  {\"cutoff\": \"quantile_0.25\", \"eval_fairness_gro...        44.72564   \n",
       "\n",
       "   test_size_n  test_size_frac  fair_main_equalized_odds_difference  \\\n",
       "0        89710             1.0                             0.033197   \n",
       "0        89710             1.0                             0.033197   \n",
       "0        89710             1.0                             0.086199   \n",
       "0        89710             1.0                             0.086199   \n",
       "\n",
       "   fair_main_equalized_odds_ratio  fair_main_demographic_parity_difference  \\\n",
       "0                        0.966443                                 0.024482   \n",
       "0                        0.966443                                 0.024482   \n",
       "0                        0.909286                                 0.041477   \n",
       "0                        0.909286                                 0.041477   \n",
       "\n",
       "   fair_main_demographic_parity_ratio  ...  perf_grp_precision_0  \\\n",
       "0                            0.973917  ...                   NaN   \n",
       "0                            0.973917  ...              0.120579   \n",
       "0                            0.945388  ...                   NaN   \n",
       "0                            0.945388  ...              0.138731   \n",
       "\n",
       "   perf_grp_precision_1  perf_grp_false positive rate_0  \\\n",
       "0                   NaN                             NaN   \n",
       "0              0.139273                        0.908651   \n",
       "0                   NaN                             NaN   \n",
       "0              0.165322                        0.698987   \n",
       "\n",
       "   perf_grp_false positive rate_1  perf_grp_false negative rate_0  \\\n",
       "0                             NaN                             NaN   \n",
       "0                        0.930885                        0.043919   \n",
       "0                             NaN                             NaN   \n",
       "0                        0.730451                        0.135980   \n",
       "\n",
       "   perf_grp_false negative rate_1  perf_grp_selection rate_0  \\\n",
       "0                             NaN                        NaN   \n",
       "0                        0.010722                   0.914119   \n",
       "0                             NaN                        NaN   \n",
       "0                        0.049781                   0.718014   \n",
       "\n",
       "   perf_grp_selection rate_1  perf_grp_count_0  perf_grp_count_1  \n",
       "0                        NaN               NaN               NaN  \n",
       "0                   0.938601           20540.0           69170.0  \n",
       "0                        NaN               NaN               NaN  \n",
       "0                   0.759491           20540.0           69170.0  \n",
       "\n",
       "[4 rows x 50 columns]"
      ]
     },
     "execution_count": 72,
     "metadata": {},
     "output_type": "execute_result"
    }
   ],
   "source": [
    "final_output = universe_analysis.generate_final_output(\n",
    "    y_pred_prob=probs_test,\n",
    "    y_test=y_true,\n",
    "    org_test=org_test,\n",
    "    filter_data=filter_sub_universe_data,\n",
    "    cp_metrics_df=cp_metrics_df,\n",
    "    save=True,\n",
    ")\n",
    "final_output"
   ]
  },
  {
   "cell_type": "code",
   "execution_count": null,
   "id": "721ff514-cb11-46f8-b6fc-50392f74b5cb",
   "metadata": {
    "papermill": {
     "duration": 0.030735,
     "end_time": "2025-07-28T10:13:08.946916",
     "exception": false,
     "start_time": "2025-07-28T10:13:08.916181",
     "status": "completed"
    },
    "tags": []
   },
   "outputs": [],
   "source": []
  }
 ],
 "metadata": {
  "celltoolbar": "Tags",
  "kernelspec": {
   "display_name": "Python (CMA Fairness)",
   "language": "python",
   "name": "cma_fair_env"
  },
  "language_info": {
   "codemirror_mode": {
    "name": "ipython",
    "version": 3
   },
   "file_extension": ".py",
   "mimetype": "text/x-python",
   "name": "python",
   "nbconvert_exporter": "python",
   "pygments_lexer": "ipython3",
   "version": "3.10.12"
  },
  "papermill": {
   "default_parameters": {},
   "duration": 62.191403,
   "end_time": "2025-07-28T10:13:09.800598",
   "environment_variables": {},
   "exception": null,
   "input_path": "universe_analysis.ipynb",
   "output_path": "output/runs/11/notebooks/m_11-c1fc74eda9387a980da592390c4a96f4.ipynb",
   "parameters": {
    "output_dir": "output",
    "run_no": "11",
    "seed": "2023",
    "universe": "{\"cutoff\": [\"quantile_0.1\", \"quantile_0.25\"], \"eval_fairness_grouping\": [\"majority-minority\", \"nationality-all\"], \"exclude_features\": \"nationality\", \"exclude_subgroups\": \"drop-non-german\", \"model\": \"rf\", \"scale\": \"scale\", \"training_size\": \"25k\"}",
    "universe_id": "c1fc74eda9387a980da592390c4a96f4"
   },
   "start_time": "2025-07-28T10:12:07.609195",
   "version": "2.6.0"
  }
 },
 "nbformat": 4,
 "nbformat_minor": 5
}