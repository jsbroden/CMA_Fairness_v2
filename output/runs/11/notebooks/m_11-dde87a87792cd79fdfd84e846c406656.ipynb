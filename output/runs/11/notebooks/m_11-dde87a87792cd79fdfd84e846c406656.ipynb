{
 "cells": [
  {
   "cell_type": "code",
   "execution_count": 1,
   "id": "f159f837-637b-42ba-96b5-ec9a68c44524",
   "metadata": {
    "execution": {
     "iopub.execute_input": "2025-07-28T10:45:55.173828Z",
     "iopub.status.busy": "2025-07-28T10:45:55.173484Z",
     "iopub.status.idle": "2025-07-28T10:45:55.183601Z",
     "shell.execute_reply": "2025-07-28T10:45:55.182582Z"
    },
    "papermill": {
     "duration": 0.023886,
     "end_time": "2025-07-28T10:45:55.185608",
     "exception": false,
     "start_time": "2025-07-28T10:45:55.161722",
     "status": "completed"
    },
    "tags": []
   },
   "outputs": [
    {
     "name": "stdout",
     "output_type": "stream",
     "text": [
      "/dss/dsshome1/0C/ra93lal2/cma/CMA_Fairness_v2\n"
     ]
    },
    {
     "name": "stderr",
     "output_type": "stream",
     "text": [
      "/dss/dsshome1/0C/ra93lal2/.local/share/virtualenvs/CMA_Fairness_v2-3j10GkSs/lib/python3.10/site-packages/IPython/core/magics/osm.py:393: UserWarning: This is now an optional IPython functionality, using bookmarks requires you to install the `pickleshare` library.\n",
      "  bkms = self.shell.db.get('bookmarks', {})\n",
      "/dss/dsshome1/0C/ra93lal2/.local/share/virtualenvs/CMA_Fairness_v2-3j10GkSs/lib/python3.10/site-packages/IPython/core/magics/osm.py:417: UserWarning: This is now an optional IPython functionality, setting dhist requires you to install the `pickleshare` library.\n",
      "  self.shell.db['dhist'] = compress_dhist(dhist)[-100:]\n"
     ]
    }
   ],
   "source": [
    "%cd ~/cma/CMA_Fairness_v2"
   ]
  },
  {
   "cell_type": "markdown",
   "id": "de2603b9",
   "metadata": {
    "papermill": {
     "duration": 0.010108,
     "end_time": "2025-07-28T10:45:55.210866",
     "exception": false,
     "start_time": "2025-07-28T10:45:55.200758",
     "status": "completed"
    },
    "tags": []
   },
   "source": [
    "The following cell holds the definition of our parameters, these values can be overriden by rendering the with e.g. the following command:\n",
    "\n",
    "papermill -p alpha 0.2 -p ratio 0.3 universe_analysis.ipynb output/test_run.ipynb"
   ]
  },
  {
   "cell_type": "code",
   "execution_count": 2,
   "id": "a80968a0-40bb-4fa9-85ef-2d5eefb01975",
   "metadata": {
    "execution": {
     "iopub.execute_input": "2025-07-28T10:45:55.232104Z",
     "iopub.status.busy": "2025-07-28T10:45:55.231218Z",
     "iopub.status.idle": "2025-07-28T10:45:55.236599Z",
     "shell.execute_reply": "2025-07-28T10:45:55.235810Z"
    },
    "papermill": {
     "duration": 0.017338,
     "end_time": "2025-07-28T10:45:55.237967",
     "exception": false,
     "start_time": "2025-07-28T10:45:55.220629",
     "status": "completed"
    },
    "tags": []
   },
   "outputs": [
    {
     "name": "stdout",
     "output_type": "stream",
     "text": [
      "Current working directory: /dss/dsshome1/0C/ra93lal2/cma/CMA_Fairness_v2\n"
     ]
    }
   ],
   "source": [
    "import os\n",
    "print(\"Current working directory:\", os.getcwd())"
   ]
  },
  {
   "cell_type": "code",
   "execution_count": 3,
   "id": "2dce4c03",
   "metadata": {
    "execution": {
     "iopub.execute_input": "2025-07-28T10:45:55.263453Z",
     "iopub.status.busy": "2025-07-28T10:45:55.263028Z",
     "iopub.status.idle": "2025-07-28T10:45:55.269459Z",
     "shell.execute_reply": "2025-07-28T10:45:55.268457Z"
    },
    "papermill": {
     "duration": 0.022825,
     "end_time": "2025-07-28T10:45:55.271250",
     "exception": false,
     "start_time": "2025-07-28T10:45:55.248425",
     "status": "completed"
    },
    "tags": [
     "parameters"
    ]
   },
   "outputs": [],
   "source": [
    "run_no = 0\n",
    "universe_id = \"test\"\n",
    "universe = {\n",
    "    \"training_size\": \"2014\", # \"25k\", \"5k\", \"1k\", \"2014\"\n",
    "    \"scale\": \"scale\", # \"scale\", \"do-not-scale\",\n",
    "    #\"stratify_split\": \"target\", # \"none\", \"target\", \"protected-attribute\", \"both\",\n",
    "    \"model\": \"elasticnet\", # \"logreg\", \"penalized_logreg\", \"rf\", \"gbm\", \"elasticnet\"\n",
    "    \"cutoff\": [\"quantile_0.15\", \"quantile_0.30\"],\n",
    "    \"exclude_features\": \"age\", # \"none\", \"nationality\", \"sex\", \"nationality-sex\", \"age\"\n",
    "    \"exclude_subgroups\": \"keep-all\", # \"keep-all\", \"drop-non-german\"\n",
    "    \"eval_fairness_grouping\": [\"majority-minority\", \"nationality-all\"]\n",
    "}\n",
    "\n",
    "output_dir=\"./output\"\n",
    "seed=0"
   ]
  },
  {
   "cell_type": "code",
   "execution_count": 4,
   "id": "fe8a04f0",
   "metadata": {
    "execution": {
     "iopub.execute_input": "2025-07-28T10:45:55.311671Z",
     "iopub.status.busy": "2025-07-28T10:45:55.311246Z",
     "iopub.status.idle": "2025-07-28T10:45:55.316916Z",
     "shell.execute_reply": "2025-07-28T10:45:55.315945Z"
    },
    "papermill": {
     "duration": 0.028129,
     "end_time": "2025-07-28T10:45:55.318611",
     "exception": false,
     "start_time": "2025-07-28T10:45:55.290482",
     "status": "completed"
    },
    "tags": [
     "injected-parameters"
    ]
   },
   "outputs": [],
   "source": [
    "# Parameters\n",
    "universe_id = \"dde87a87792cd79fdfd84e846c406656\"\n",
    "run_no = \"11\"\n",
    "universe = \"{\\\"cutoff\\\": [\\\"quantile_0.1\\\", \\\"quantile_0.25\\\"], \\\"eval_fairness_grouping\\\": [\\\"majority-minority\\\", \\\"nationality-all\\\"], \\\"exclude_features\\\": \\\"nationality-sex\\\", \\\"exclude_subgroups\\\": \\\"drop-non-german\\\", \\\"model\\\": \\\"gbm\\\", \\\"scale\\\": \\\"scale\\\", \\\"training_size\\\": \\\"1k\\\"}\"\n",
    "output_dir = \"output\"\n",
    "seed = \"2023\"\n"
   ]
  },
  {
   "cell_type": "code",
   "execution_count": 5,
   "id": "1650acaf",
   "metadata": {
    "execution": {
     "iopub.execute_input": "2025-07-28T10:45:55.358345Z",
     "iopub.status.busy": "2025-07-28T10:45:55.357766Z",
     "iopub.status.idle": "2025-07-28T10:45:55.363329Z",
     "shell.execute_reply": "2025-07-28T10:45:55.362344Z"
    },
    "papermill": {
     "duration": 0.026931,
     "end_time": "2025-07-28T10:45:55.365032",
     "exception": false,
     "start_time": "2025-07-28T10:45:55.338101",
     "status": "completed"
    },
    "tags": []
   },
   "outputs": [],
   "source": [
    "import json\n",
    "# Parse universe into dict if it is passed as a string\n",
    "if isinstance(universe, str):\n",
    "    universe = json.loads(universe)"
   ]
  },
  {
   "cell_type": "code",
   "execution_count": 6,
   "id": "16620c48",
   "metadata": {
    "execution": {
     "iopub.execute_input": "2025-07-28T10:45:55.406444Z",
     "iopub.status.busy": "2025-07-28T10:45:55.405778Z",
     "iopub.status.idle": "2025-07-28T10:45:55.456509Z",
     "shell.execute_reply": "2025-07-28T10:45:55.455549Z"
    },
    "papermill": {
     "duration": 0.073226,
     "end_time": "2025-07-28T10:45:55.458487",
     "exception": false,
     "start_time": "2025-07-28T10:45:55.385261",
     "status": "completed"
    },
    "tags": []
   },
   "outputs": [],
   "source": [
    "# Auto-reload the custom package\n",
    "%load_ext autoreload\n",
    "%autoreload 1\n",
    "%aimport fairness_multiverse"
   ]
  },
  {
   "cell_type": "code",
   "execution_count": 7,
   "id": "01c5c9f3",
   "metadata": {
    "execution": {
     "iopub.execute_input": "2025-07-28T10:45:55.499884Z",
     "iopub.status.busy": "2025-07-28T10:45:55.499391Z",
     "iopub.status.idle": "2025-07-28T10:45:57.636659Z",
     "shell.execute_reply": "2025-07-28T10:45:57.635503Z"
    },
    "papermill": {
     "duration": 2.160076,
     "end_time": "2025-07-28T10:45:57.638673",
     "exception": false,
     "start_time": "2025-07-28T10:45:55.478597",
     "status": "completed"
    },
    "tags": []
   },
   "outputs": [],
   "source": [
    "from fairness_multiverse.universe import UniverseAnalysis\n",
    "\n",
    "universe_analysis = UniverseAnalysis(\n",
    "    run_no = run_no,\n",
    "    universe_id = universe_id,\n",
    "    universe = universe,\n",
    "    output_dir=output_dir,\n",
    ")"
   ]
  },
  {
   "cell_type": "code",
   "execution_count": 8,
   "id": "106241f5",
   "metadata": {
    "execution": {
     "iopub.execute_input": "2025-07-28T10:45:57.682058Z",
     "iopub.status.busy": "2025-07-28T10:45:57.681573Z",
     "iopub.status.idle": "2025-07-28T10:45:57.690498Z",
     "shell.execute_reply": "2025-07-28T10:45:57.689609Z"
    },
    "papermill": {
     "duration": 0.033277,
     "end_time": "2025-07-28T10:45:57.692366",
     "exception": false,
     "start_time": "2025-07-28T10:45:57.659089",
     "status": "completed"
    },
    "tags": []
   },
   "outputs": [
    {
     "name": "stdout",
     "output_type": "stream",
     "text": [
      "Using Seed: 2023\n"
     ]
    }
   ],
   "source": [
    "import numpy as np\n",
    "parsed_seed = int(seed)\n",
    "np.random.seed(parsed_seed)\n",
    "print(f\"Using Seed: {parsed_seed}\")"
   ]
  },
  {
   "cell_type": "markdown",
   "id": "e0ebdc57",
   "metadata": {
    "papermill": {
     "duration": 0.010934,
     "end_time": "2025-07-28T10:45:57.714395",
     "exception": false,
     "start_time": "2025-07-28T10:45:57.703461",
     "status": "completed"
    },
    "tags": []
   },
   "source": [
    "# Loading Data"
   ]
  },
  {
   "cell_type": "markdown",
   "id": "681925a3",
   "metadata": {
    "papermill": {
     "duration": 0.010213,
     "end_time": "2025-07-28T10:45:57.735289",
     "exception": false,
     "start_time": "2025-07-28T10:45:57.725076",
     "status": "completed"
    },
    "tags": []
   },
   "source": [
    "Load siab_train, siab_test, siab_calib and/or \n",
    "load siab_train_features, siab_train_labels"
   ]
  },
  {
   "cell_type": "code",
   "execution_count": 9,
   "id": "f0496b8a",
   "metadata": {
    "execution": {
     "iopub.execute_input": "2025-07-28T10:45:57.757424Z",
     "iopub.status.busy": "2025-07-28T10:45:57.756993Z",
     "iopub.status.idle": "2025-07-28T10:46:10.628068Z",
     "shell.execute_reply": "2025-07-28T10:46:10.626737Z"
    },
    "papermill": {
     "duration": 12.884357,
     "end_time": "2025-07-28T10:46:10.629877",
     "exception": false,
     "start_time": "2025-07-28T10:45:57.745520",
     "status": "completed"
    },
    "tags": []
   },
   "outputs": [
    {
     "name": "stdout",
     "output_type": "stream",
     "text": [
      "Loading SIAB data from cache: data/siab_cached.csv.gz\n"
     ]
    },
    {
     "name": "stdout",
     "output_type": "stream",
     "text": [
      "(643690, 164)\n"
     ]
    }
   ],
   "source": [
    "from pathlib import Path\n",
    "import pandas as pd\n",
    "\n",
    "# File paths\n",
    "raw_file = Path(\"data/raw/siab.csv\")\n",
    "cache_file = Path(\"data/siab_cached.csv.gz\")\n",
    "\n",
    "# Ensure cache directory exists\n",
    "cache_file.parent.mkdir(parents=True, exist_ok=True)\n",
    "\n",
    "# Load with simple caching\n",
    "if cache_file.exists():\n",
    "    print(f\"Loading SIAB data from cache: {cache_file}\")\n",
    "    siab = pd.read_csv(cache_file, compression='gzip')\n",
    "else:\n",
    "    print(f\"Cache not found. Reading raw SIAB data: {raw_file}\")\n",
    "    siab = pd.read_csv(raw_file)\n",
    "    siab.to_csv(cache_file, index=False, compression='gzip')\n",
    "    print(f\"Cached SIAB data to: {cache_file}\")\n",
    "\n",
    "# Now use `siab` DataFrame as needed\n",
    "print(siab.shape)"
   ]
  },
  {
   "cell_type": "code",
   "execution_count": 10,
   "id": "db0ca512-5f53-4dba-abdb-a2888bca41ba",
   "metadata": {
    "execution": {
     "iopub.execute_input": "2025-07-28T10:46:10.676789Z",
     "iopub.status.busy": "2025-07-28T10:46:10.676254Z",
     "iopub.status.idle": "2025-07-28T10:46:10.682832Z",
     "shell.execute_reply": "2025-07-28T10:46:10.681875Z"
    },
    "papermill": {
     "duration": 0.031608,
     "end_time": "2025-07-28T10:46:10.684579",
     "exception": false,
     "start_time": "2025-07-28T10:46:10.652971",
     "status": "completed"
    },
    "tags": []
   },
   "outputs": [],
   "source": [
    "#siab"
   ]
  },
  {
   "cell_type": "code",
   "execution_count": 11,
   "id": "a0edb063",
   "metadata": {
    "execution": {
     "iopub.execute_input": "2025-07-28T10:46:10.727848Z",
     "iopub.status.busy": "2025-07-28T10:46:10.727136Z",
     "iopub.status.idle": "2025-07-28T10:46:10.732782Z",
     "shell.execute_reply": "2025-07-28T10:46:10.731733Z"
    },
    "papermill": {
     "duration": 0.028301,
     "end_time": "2025-07-28T10:46:10.734414",
     "exception": false,
     "start_time": "2025-07-28T10:46:10.706113",
     "status": "completed"
    },
    "tags": []
   },
   "outputs": [],
   "source": [
    "#import pandas as pd\n",
    "#\n",
    "#X_train = pd.read_csv(\"./data/X_train.csv\")\n",
    "#y_train = pd.read_csv(\"./data/y_train.csv\")"
   ]
  },
  {
   "cell_type": "code",
   "execution_count": 12,
   "id": "63d08085",
   "metadata": {
    "execution": {
     "iopub.execute_input": "2025-07-28T10:46:10.778977Z",
     "iopub.status.busy": "2025-07-28T10:46:10.778278Z",
     "iopub.status.idle": "2025-07-28T10:46:10.783503Z",
     "shell.execute_reply": "2025-07-28T10:46:10.782574Z"
    },
    "papermill": {
     "duration": 0.029709,
     "end_time": "2025-07-28T10:46:10.785081",
     "exception": false,
     "start_time": "2025-07-28T10:46:10.755372",
     "status": "completed"
    },
    "tags": []
   },
   "outputs": [],
   "source": [
    "#X_test = pd.read_csv(\"./data/X_test.csv\")\n",
    "#y_true = pd.read_csv(\"./data/y_test.csv\")"
   ]
  },
  {
   "cell_type": "code",
   "execution_count": 13,
   "id": "98a8d0fa-1d3d-4ed8-bb2c-281470e24add",
   "metadata": {
    "execution": {
     "iopub.execute_input": "2025-07-28T10:46:10.825526Z",
     "iopub.status.busy": "2025-07-28T10:46:10.824798Z",
     "iopub.status.idle": "2025-07-28T10:46:10.830465Z",
     "shell.execute_reply": "2025-07-28T10:46:10.829382Z"
    },
    "papermill": {
     "duration": 0.027341,
     "end_time": "2025-07-28T10:46:10.832075",
     "exception": false,
     "start_time": "2025-07-28T10:46:10.804734",
     "status": "completed"
    },
    "tags": []
   },
   "outputs": [],
   "source": [
    "# Calibration data for conformal\n",
    "#X_calib = pd.read_csv(\"./data/X_calib.csv\")\n",
    "#y_calib = pd.read_csv(\"./data/y_calib.csv\")"
   ]
  },
  {
   "cell_type": "markdown",
   "id": "9901737e-04df-44f0-9100-f5ad144ed040",
   "metadata": {
    "papermill": {
     "duration": 0.016573,
     "end_time": "2025-07-28T10:46:10.867719",
     "exception": false,
     "start_time": "2025-07-28T10:46:10.851146",
     "status": "completed"
    },
    "tags": []
   },
   "source": [
    "# Splitting Data and Setting Training Data Size"
   ]
  },
  {
   "cell_type": "code",
   "execution_count": 14,
   "id": "acbc8f7d-8fc8-4e86-8c59-5dcb0f58384b",
   "metadata": {
    "execution": {
     "iopub.execute_input": "2025-07-28T10:46:10.889988Z",
     "iopub.status.busy": "2025-07-28T10:46:10.889526Z",
     "iopub.status.idle": "2025-07-28T10:46:10.898345Z",
     "shell.execute_reply": "2025-07-28T10:46:10.897395Z"
    },
    "papermill": {
     "duration": 0.021646,
     "end_time": "2025-07-28T10:46:10.899759",
     "exception": false,
     "start_time": "2025-07-28T10:46:10.878113",
     "status": "completed"
    },
    "tags": []
   },
   "outputs": [],
   "source": [
    "def sample_by_year(df, training_size, random_state=42):\n",
    "    if training_size == \"2014\":\n",
    "        return df[df[\"year\"] == 2014].reset_index(drop=True)\n",
    "    \n",
    "    size_map = {\n",
    "        \"25k\": 5000,\n",
    "        \"5k\": 1000,\n",
    "        \"1k\": 200\n",
    "    }\n",
    "\n",
    "    if training_size not in size_map:\n",
    "        return df.reset_index(drop=True)  # use all data\n",
    "\n",
    "    n_per_year = size_map[training_size]\n",
    "    grouped = df.groupby(\"year\")\n",
    "    sampled = grouped.apply(lambda x: x.sample(n=min(n_per_year, len(x)), random_state=random_state))\n",
    "    return sampled.reset_index(drop=True)"
   ]
  },
  {
   "cell_type": "code",
   "execution_count": 15,
   "id": "6d931f52-beaf-43ff-9e78-9d44a448d54e",
   "metadata": {
    "execution": {
     "iopub.execute_input": "2025-07-28T10:46:10.922898Z",
     "iopub.status.busy": "2025-07-28T10:46:10.922199Z",
     "iopub.status.idle": "2025-07-28T10:46:11.577463Z",
     "shell.execute_reply": "2025-07-28T10:46:11.576710Z"
    },
    "papermill": {
     "duration": 0.66807,
     "end_time": "2025-07-28T10:46:11.578900",
     "exception": false,
     "start_time": "2025-07-28T10:46:10.910830",
     "status": "completed"
    },
    "tags": []
   },
   "outputs": [],
   "source": [
    "siab_s = sample_by_year(siab, universe[\"training_size\"])"
   ]
  },
  {
   "cell_type": "code",
   "execution_count": 16,
   "id": "5db0a40e-a4e2-4920-be85-b12ae061d70d",
   "metadata": {
    "execution": {
     "iopub.execute_input": "2025-07-28T10:46:11.601866Z",
     "iopub.status.busy": "2025-07-28T10:46:11.601364Z",
     "iopub.status.idle": "2025-07-28T10:46:11.615865Z",
     "shell.execute_reply": "2025-07-28T10:46:11.614914Z"
    },
    "papermill": {
     "duration": 0.027802,
     "end_time": "2025-07-28T10:46:11.617892",
     "exception": false,
     "start_time": "2025-07-28T10:46:11.590090",
     "status": "completed"
    },
    "tags": []
   },
   "outputs": [
    {
     "data": {
      "text/plain": [
       "year\n",
       "2010    200\n",
       "2011    200\n",
       "2012    200\n",
       "2013    200\n",
       "2014    200\n",
       "2015    200\n",
       "2016    200\n",
       "dtype: int64"
      ]
     },
     "metadata": {},
     "output_type": "display_data"
    }
   ],
   "source": [
    "display(siab_s.groupby(\"year\").size())"
   ]
  },
  {
   "cell_type": "code",
   "execution_count": 17,
   "id": "a561edb4-d032-42cb-8256-22eac1111c64",
   "metadata": {
    "execution": {
     "iopub.execute_input": "2025-07-28T10:46:11.662925Z",
     "iopub.status.busy": "2025-07-28T10:46:11.661666Z",
     "iopub.status.idle": "2025-07-28T10:46:11.934185Z",
     "shell.execute_reply": "2025-07-28T10:46:11.933144Z"
    },
    "papermill": {
     "duration": 0.297052,
     "end_time": "2025-07-28T10:46:11.936136",
     "exception": false,
     "start_time": "2025-07-28T10:46:11.639084",
     "status": "completed"
    },
    "tags": []
   },
   "outputs": [],
   "source": [
    "siab_train = siab_s[siab_s.year < 2015]\n",
    "siab_calib = siab[siab.year == 2015]\n",
    "siab_test = siab[siab.year == 2016]"
   ]
  },
  {
   "cell_type": "code",
   "execution_count": 18,
   "id": "472de16f-c3db-4916-846b-1f0de9cf1746",
   "metadata": {
    "execution": {
     "iopub.execute_input": "2025-07-28T10:46:11.978834Z",
     "iopub.status.busy": "2025-07-28T10:46:11.977992Z",
     "iopub.status.idle": "2025-07-28T10:46:11.990086Z",
     "shell.execute_reply": "2025-07-28T10:46:11.989096Z"
    },
    "papermill": {
     "duration": 0.034757,
     "end_time": "2025-07-28T10:46:11.991843",
     "exception": false,
     "start_time": "2025-07-28T10:46:11.957086",
     "status": "completed"
    },
    "tags": []
   },
   "outputs": [],
   "source": [
    "X_train = siab_train.iloc[:,4:164]\n",
    "y_train = siab_train.iloc[:, [3]]"
   ]
  },
  {
   "cell_type": "code",
   "execution_count": 19,
   "id": "828c96af-f43a-4ed6-ba47-8ac73a47d56c",
   "metadata": {
    "execution": {
     "iopub.execute_input": "2025-07-28T10:46:12.037619Z",
     "iopub.status.busy": "2025-07-28T10:46:12.036584Z",
     "iopub.status.idle": "2025-07-28T10:46:12.092628Z",
     "shell.execute_reply": "2025-07-28T10:46:12.091412Z"
    },
    "papermill": {
     "duration": 0.079877,
     "end_time": "2025-07-28T10:46:12.094581",
     "exception": false,
     "start_time": "2025-07-28T10:46:12.014704",
     "status": "completed"
    },
    "tags": []
   },
   "outputs": [],
   "source": [
    "X_calib = siab_calib.iloc[:,4:164]\n",
    "y_calib = siab_calib.iloc[:, [3]]"
   ]
  },
  {
   "cell_type": "code",
   "execution_count": 20,
   "id": "c34be9c3-6bd6-476e-acd3-845840e303be",
   "metadata": {
    "execution": {
     "iopub.execute_input": "2025-07-28T10:46:12.137531Z",
     "iopub.status.busy": "2025-07-28T10:46:12.136719Z",
     "iopub.status.idle": "2025-07-28T10:46:12.192195Z",
     "shell.execute_reply": "2025-07-28T10:46:12.191171Z"
    },
    "papermill": {
     "duration": 0.078546,
     "end_time": "2025-07-28T10:46:12.194203",
     "exception": false,
     "start_time": "2025-07-28T10:46:12.115657",
     "status": "completed"
    },
    "tags": []
   },
   "outputs": [],
   "source": [
    "X_test = siab_test.iloc[:,4:164]\n",
    "y_true = siab_test.iloc[:, [3]]"
   ]
  },
  {
   "cell_type": "code",
   "execution_count": 21,
   "id": "e6c733c5",
   "metadata": {
    "execution": {
     "iopub.execute_input": "2025-07-28T10:46:12.235756Z",
     "iopub.status.busy": "2025-07-28T10:46:12.234994Z",
     "iopub.status.idle": "2025-07-28T10:46:12.336693Z",
     "shell.execute_reply": "2025-07-28T10:46:12.335677Z"
    },
    "papermill": {
     "duration": 0.124154,
     "end_time": "2025-07-28T10:46:12.338501",
     "exception": false,
     "start_time": "2025-07-28T10:46:12.214347",
     "status": "completed"
    },
    "tags": []
   },
   "outputs": [],
   "source": [
    "# Auxiliary data needed downstream in the pipeline\n",
    "\n",
    "org_train = X_train.copy()\n",
    "org_test = X_test.copy()\n",
    "org_calib = X_calib.copy()"
   ]
  },
  {
   "cell_type": "markdown",
   "id": "0a4a1b33",
   "metadata": {
    "papermill": {
     "duration": 0.01987,
     "end_time": "2025-07-28T10:46:12.378533",
     "exception": false,
     "start_time": "2025-07-28T10:46:12.358663",
     "status": "completed"
    },
    "tags": []
   },
   "source": [
    "# Preprocessing Data"
   ]
  },
  {
   "cell_type": "code",
   "execution_count": 22,
   "id": "ca879031",
   "metadata": {
    "execution": {
     "iopub.execute_input": "2025-07-28T10:46:12.420130Z",
     "iopub.status.busy": "2025-07-28T10:46:12.419003Z",
     "iopub.status.idle": "2025-07-28T10:46:12.426368Z",
     "shell.execute_reply": "2025-07-28T10:46:12.425359Z"
    },
    "papermill": {
     "duration": 0.030104,
     "end_time": "2025-07-28T10:46:12.428153",
     "exception": false,
     "start_time": "2025-07-28T10:46:12.398049",
     "status": "completed"
    },
    "tags": []
   },
   "outputs": [],
   "source": [
    "# EXCLUDE PROTECTED FEATURES\n",
    "# ----------------------\n",
    "# \"exclude_features\": \"none\", # \"nationality\", \"sex\", \"nationality-sex\"\n",
    "\n",
    "excluded_features = universe[\"exclude_features\"].split(\"-\") # split, e.g.: \"nationality-sex\" -> [\"nationality\", \"sex\"]\n",
    "excluded_features_dictionary = {\n",
    "    \"nationality\": [\"maxdeutsch1\", \"maxdeutsch.Missing.\"],\n",
    "    \"sex\": [\"frau1\"],\n",
    "    \"age\": [\"age\"],\n",
    "}\n"
   ]
  },
  {
   "cell_type": "code",
   "execution_count": 23,
   "id": "b745ac60",
   "metadata": {
    "execution": {
     "iopub.execute_input": "2025-07-28T10:46:12.473836Z",
     "iopub.status.busy": "2025-07-28T10:46:12.473260Z",
     "iopub.status.idle": "2025-07-28T10:46:12.479281Z",
     "shell.execute_reply": "2025-07-28T10:46:12.478352Z"
    },
    "papermill": {
     "duration": 0.032046,
     "end_time": "2025-07-28T10:46:12.480887",
     "exception": false,
     "start_time": "2025-07-28T10:46:12.448841",
     "status": "completed"
    },
    "tags": []
   },
   "outputs": [],
   "source": [
    "# Code nice names to column names\n",
    "\n",
    "excluded_features_columns = [\n",
    "    excluded_features_dictionary[f] for f in excluded_features if len(f) > 0 and f != \"none\"\n",
    "]"
   ]
  },
  {
   "cell_type": "code",
   "execution_count": 24,
   "id": "f84f73a2",
   "metadata": {
    "execution": {
     "iopub.execute_input": "2025-07-28T10:46:12.523637Z",
     "iopub.status.busy": "2025-07-28T10:46:12.522807Z",
     "iopub.status.idle": "2025-07-28T10:46:12.530048Z",
     "shell.execute_reply": "2025-07-28T10:46:12.529041Z"
    },
    "papermill": {
     "duration": 0.030333,
     "end_time": "2025-07-28T10:46:12.531995",
     "exception": false,
     "start_time": "2025-07-28T10:46:12.501662",
     "status": "completed"
    },
    "tags": []
   },
   "outputs": [],
   "source": [
    "from utils import flatten_once\n",
    "\n",
    "excluded_features_columns = flatten_once(excluded_features_columns)"
   ]
  },
  {
   "cell_type": "code",
   "execution_count": 25,
   "id": "884dea22",
   "metadata": {
    "execution": {
     "iopub.execute_input": "2025-07-28T10:46:12.573987Z",
     "iopub.status.busy": "2025-07-28T10:46:12.573120Z",
     "iopub.status.idle": "2025-07-28T10:46:12.581634Z",
     "shell.execute_reply": "2025-07-28T10:46:12.580591Z"
    },
    "papermill": {
     "duration": 0.031167,
     "end_time": "2025-07-28T10:46:12.583326",
     "exception": false,
     "start_time": "2025-07-28T10:46:12.552159",
     "status": "completed"
    },
    "tags": []
   },
   "outputs": [
    {
     "name": "stdout",
     "output_type": "stream",
     "text": [
      "Dropping features: ['maxdeutsch1', 'maxdeutsch.Missing.', 'frau1']\n"
     ]
    }
   ],
   "source": [
    "if len(excluded_features_columns) > 0:\n",
    "    print(f\"Dropping features: {excluded_features_columns}\")\n",
    "    X_train.drop(excluded_features_columns, axis=1, inplace=True)"
   ]
  },
  {
   "cell_type": "code",
   "execution_count": 26,
   "id": "95ab8b16",
   "metadata": {
    "execution": {
     "iopub.execute_input": "2025-07-28T10:46:12.627594Z",
     "iopub.status.busy": "2025-07-28T10:46:12.627129Z",
     "iopub.status.idle": "2025-07-28T10:46:12.683892Z",
     "shell.execute_reply": "2025-07-28T10:46:12.682401Z"
    },
    "papermill": {
     "duration": 0.080364,
     "end_time": "2025-07-28T10:46:12.686096",
     "exception": false,
     "start_time": "2025-07-28T10:46:12.605732",
     "status": "completed"
    },
    "tags": []
   },
   "outputs": [
    {
     "name": "stdout",
     "output_type": "stream",
     "text": [
      "Dropping features: ['maxdeutsch1', 'maxdeutsch.Missing.', 'frau1']\n"
     ]
    }
   ],
   "source": [
    "if len(excluded_features_columns) > 0:\n",
    "    print(f\"Dropping features: {excluded_features_columns}\")\n",
    "    X_test.drop(excluded_features_columns, axis=1, inplace=True)"
   ]
  },
  {
   "cell_type": "code",
   "execution_count": 27,
   "id": "1853aaf5-fb9f-46cb-a2b5-8ea4ae2237e4",
   "metadata": {
    "execution": {
     "iopub.execute_input": "2025-07-28T10:46:12.731468Z",
     "iopub.status.busy": "2025-07-28T10:46:12.730981Z",
     "iopub.status.idle": "2025-07-28T10:46:12.785031Z",
     "shell.execute_reply": "2025-07-28T10:46:12.783957Z"
    },
    "papermill": {
     "duration": 0.077319,
     "end_time": "2025-07-28T10:46:12.786828",
     "exception": false,
     "start_time": "2025-07-28T10:46:12.709509",
     "status": "completed"
    },
    "tags": []
   },
   "outputs": [
    {
     "name": "stdout",
     "output_type": "stream",
     "text": [
      "Dropping features: ['maxdeutsch1', 'maxdeutsch.Missing.', 'frau1']\n"
     ]
    }
   ],
   "source": [
    "if len(excluded_features_columns) > 0:\n",
    "    print(f\"Dropping features: {excluded_features_columns}\")\n",
    "    X_calib.drop(excluded_features_columns, axis=1, inplace=True)"
   ]
  },
  {
   "cell_type": "code",
   "execution_count": 28,
   "id": "6727d079-03e5-481e-9d38-292a90b7a0a8",
   "metadata": {
    "execution": {
     "iopub.execute_input": "2025-07-28T10:46:12.830952Z",
     "iopub.status.busy": "2025-07-28T10:46:12.830379Z",
     "iopub.status.idle": "2025-07-28T10:46:12.835553Z",
     "shell.execute_reply": "2025-07-28T10:46:12.834537Z"
    },
    "papermill": {
     "duration": 0.028739,
     "end_time": "2025-07-28T10:46:12.837406",
     "exception": false,
     "start_time": "2025-07-28T10:46:12.808667",
     "status": "completed"
    },
    "tags": []
   },
   "outputs": [],
   "source": [
    "# SPLIT & STRATIFY DATA\n",
    "# ----------------------"
   ]
  },
  {
   "cell_type": "code",
   "execution_count": 29,
   "id": "76c4dc6d",
   "metadata": {
    "execution": {
     "iopub.execute_input": "2025-07-28T10:46:12.882695Z",
     "iopub.status.busy": "2025-07-28T10:46:12.881979Z",
     "iopub.status.idle": "2025-07-28T10:46:12.887655Z",
     "shell.execute_reply": "2025-07-28T10:46:12.886694Z"
    },
    "papermill": {
     "duration": 0.029464,
     "end_time": "2025-07-28T10:46:12.889299",
     "exception": false,
     "start_time": "2025-07-28T10:46:12.859835",
     "status": "completed"
    },
    "tags": []
   },
   "outputs": [],
   "source": [
    "# EXCLUDE CERTAIN SUBGROUPS\n",
    "# ----------------------\n",
    "\n",
    "mode = universe.get(\"exclude_subgroups\", \"keep-all\") \n",
    "# Fetches the exclude_subgroups setting from the universe dict.\n",
    "# Defaults to \"keep-all\" if the key is missing."
   ]
  },
  {
   "cell_type": "code",
   "execution_count": 30,
   "id": "21994072",
   "metadata": {
    "execution": {
     "iopub.execute_input": "2025-07-28T10:46:12.935055Z",
     "iopub.status.busy": "2025-07-28T10:46:12.934373Z",
     "iopub.status.idle": "2025-07-28T10:46:12.941455Z",
     "shell.execute_reply": "2025-07-28T10:46:12.940442Z"
    },
    "papermill": {
     "duration": 0.031766,
     "end_time": "2025-07-28T10:46:12.943158",
     "exception": false,
     "start_time": "2025-07-28T10:46:12.911392",
     "status": "completed"
    },
    "tags": []
   },
   "outputs": [],
   "source": [
    "if mode == \"keep-all\":\n",
    "    keep_mask = pd.Series(True, index=org_train.index)\n",
    "\n",
    "# org_train contains the original feature columns from features_org (in Simson)\n",
    "# features_org contains unprocessed features, for me X_train at beginning ???\n",
    "# For keep-all, creates a boolean Series (keep_mask) of all True, so no rows are removed.\n",
    "\n",
    "elif mode == \"drop-non-german\":\n",
    "    keep_mask = org_train[\"maxdeutsch1\"] == 1 # ??? what about missing values?\n",
    "\n",
    "else:\n",
    "    raise ValueError(f\"Unsupported mode for exclude_subgroups: {mode}\")\n"
   ]
  },
  {
   "cell_type": "code",
   "execution_count": 31,
   "id": "71651440",
   "metadata": {
    "execution": {
     "iopub.execute_input": "2025-07-28T10:46:12.991153Z",
     "iopub.status.busy": "2025-07-28T10:46:12.990120Z",
     "iopub.status.idle": "2025-07-28T10:46:12.997826Z",
     "shell.execute_reply": "2025-07-28T10:46:12.996750Z"
    },
    "papermill": {
     "duration": 0.03379,
     "end_time": "2025-07-28T10:46:12.999527",
     "exception": false,
     "start_time": "2025-07-28T10:46:12.965737",
     "status": "completed"
    },
    "tags": []
   },
   "outputs": [
    {
     "name": "stdout",
     "output_type": "stream",
     "text": [
      "Dropping 131 rows (13.10%) where mode='drop-non-german'\n"
     ]
    }
   ],
   "source": [
    "n_drop = (~keep_mask).sum() # Calculates how many rows are set to be dropped\n",
    "if n_drop > 0:\n",
    "    pct = n_drop / len(keep_mask) * 100\n",
    "    print(f\"Dropping {n_drop} rows ({pct:.2f}%) where mode='{mode}'\")"
   ]
  },
  {
   "cell_type": "code",
   "execution_count": 32,
   "id": "5fb8eee5",
   "metadata": {
    "execution": {
     "iopub.execute_input": "2025-07-28T10:46:13.044956Z",
     "iopub.status.busy": "2025-07-28T10:46:13.044055Z",
     "iopub.status.idle": "2025-07-28T10:46:13.051898Z",
     "shell.execute_reply": "2025-07-28T10:46:13.050789Z"
    },
    "papermill": {
     "duration": 0.031928,
     "end_time": "2025-07-28T10:46:13.053757",
     "exception": false,
     "start_time": "2025-07-28T10:46:13.021829",
     "status": "completed"
    },
    "tags": []
   },
   "outputs": [],
   "source": [
    "X_train = X_train[keep_mask]"
   ]
  },
  {
   "cell_type": "code",
   "execution_count": 33,
   "id": "b202bb3a",
   "metadata": {
    "execution": {
     "iopub.execute_input": "2025-07-28T10:46:13.102405Z",
     "iopub.status.busy": "2025-07-28T10:46:13.101542Z",
     "iopub.status.idle": "2025-07-28T10:46:13.107804Z",
     "shell.execute_reply": "2025-07-28T10:46:13.106903Z"
    },
    "papermill": {
     "duration": 0.037925,
     "end_time": "2025-07-28T10:46:13.114406",
     "exception": false,
     "start_time": "2025-07-28T10:46:13.076481",
     "status": "completed"
    },
    "tags": []
   },
   "outputs": [],
   "source": [
    "y_train = y_train[keep_mask]"
   ]
  },
  {
   "cell_type": "markdown",
   "id": "493e2ac3",
   "metadata": {
    "papermill": {
     "duration": 0.021946,
     "end_time": "2025-07-28T10:46:13.159461",
     "exception": false,
     "start_time": "2025-07-28T10:46:13.137515",
     "status": "completed"
    },
    "tags": []
   },
   "source": [
    "# Model Training"
   ]
  },
  {
   "cell_type": "code",
   "execution_count": 34,
   "id": "679e1268",
   "metadata": {
    "execution": {
     "iopub.execute_input": "2025-07-28T10:46:13.204857Z",
     "iopub.status.busy": "2025-07-28T10:46:13.204129Z",
     "iopub.status.idle": "2025-07-28T10:46:13.313418Z",
     "shell.execute_reply": "2025-07-28T10:46:13.312459Z"
    },
    "papermill": {
     "duration": 0.134709,
     "end_time": "2025-07-28T10:46:13.315500",
     "exception": false,
     "start_time": "2025-07-28T10:46:13.180791",
     "status": "completed"
    },
    "tags": []
   },
   "outputs": [],
   "source": [
    "from sklearn.linear_model import LogisticRegression\n",
    "from sklearn.ensemble import GradientBoostingClassifier, RandomForestClassifier\n",
    "\n",
    "if (universe[\"model\"] == \"logreg\"):\n",
    "    model = LogisticRegression() #penalty=\"none\") #, solver=\"newton-cg\", max_iter=1) # include random_state=19 ?\n",
    "elif (universe[\"model\"] == \"penalized_logreg\"):\n",
    "    model = LogisticRegression(penalty=\"l2\", C=1.0) #, solver=\"newton-cg\", max_iter=1)\n",
    "elif (universe[\"model\"] == \"rf\"):\n",
    "    model = RandomForestClassifier(n_estimators=100, n_jobs=-1)\n",
    "elif (universe[\"model\"] == \"gbm\"):\n",
    "    model = GradientBoostingClassifier()\n",
    "elif (universe[\"model\"] == \"elasticnet\"):\n",
    "    model = LogisticRegression(penalty = 'elasticnet', solver = 'saga', l1_ratio = 0.5, max_iter=5000) # which solver to use?\n",
    "else:\n",
    "    raise \"Unsupported universe.model\""
   ]
  },
  {
   "cell_type": "code",
   "execution_count": 35,
   "id": "0cc8f744",
   "metadata": {
    "execution": {
     "iopub.execute_input": "2025-07-28T10:46:13.363008Z",
     "iopub.status.busy": "2025-07-28T10:46:13.362280Z",
     "iopub.status.idle": "2025-07-28T10:46:13.369280Z",
     "shell.execute_reply": "2025-07-28T10:46:13.368315Z"
    },
    "papermill": {
     "duration": 0.032864,
     "end_time": "2025-07-28T10:46:13.370940",
     "exception": false,
     "start_time": "2025-07-28T10:46:13.338076",
     "status": "completed"
    },
    "tags": []
   },
   "outputs": [],
   "source": [
    "import numpy as np\n",
    "from sklearn.pipeline import Pipeline\n",
    "from sklearn.preprocessing import StandardScaler\n",
    "\n",
    "model = Pipeline([\n",
    "    #(\"continuous_processor\", continuous_processor),\n",
    "    #(\"categorical_preprocessor\", categorical_preprocessor),\n",
    "    (\"scale\", StandardScaler() if universe[\"scale\"] == \"scale\" else None), \n",
    "    (\"model\", model),\n",
    "])"
   ]
  },
  {
   "cell_type": "code",
   "execution_count": 36,
   "id": "9442c04d",
   "metadata": {
    "execution": {
     "iopub.execute_input": "2025-07-28T10:46:13.419161Z",
     "iopub.status.busy": "2025-07-28T10:46:13.418139Z",
     "iopub.status.idle": "2025-07-28T10:46:14.434586Z",
     "shell.execute_reply": "2025-07-28T10:46:14.433553Z"
    },
    "papermill": {
     "duration": 1.04246,
     "end_time": "2025-07-28T10:46:14.436503",
     "exception": false,
     "start_time": "2025-07-28T10:46:13.394043",
     "status": "completed"
    },
    "tags": []
   },
   "outputs": [
    {
     "data": {
      "text/html": [
       "<style>#sk-container-id-1 {color: black;background-color: white;}#sk-container-id-1 pre{padding: 0;}#sk-container-id-1 div.sk-toggleable {background-color: white;}#sk-container-id-1 label.sk-toggleable__label {cursor: pointer;display: block;width: 100%;margin-bottom: 0;padding: 0.3em;box-sizing: border-box;text-align: center;}#sk-container-id-1 label.sk-toggleable__label-arrow:before {content: \"▸\";float: left;margin-right: 0.25em;color: #696969;}#sk-container-id-1 label.sk-toggleable__label-arrow:hover:before {color: black;}#sk-container-id-1 div.sk-estimator:hover label.sk-toggleable__label-arrow:before {color: black;}#sk-container-id-1 div.sk-toggleable__content {max-height: 0;max-width: 0;overflow: hidden;text-align: left;background-color: #f0f8ff;}#sk-container-id-1 div.sk-toggleable__content pre {margin: 0.2em;color: black;border-radius: 0.25em;background-color: #f0f8ff;}#sk-container-id-1 input.sk-toggleable__control:checked~div.sk-toggleable__content {max-height: 200px;max-width: 100%;overflow: auto;}#sk-container-id-1 input.sk-toggleable__control:checked~label.sk-toggleable__label-arrow:before {content: \"▾\";}#sk-container-id-1 div.sk-estimator input.sk-toggleable__control:checked~label.sk-toggleable__label {background-color: #d4ebff;}#sk-container-id-1 div.sk-label input.sk-toggleable__control:checked~label.sk-toggleable__label {background-color: #d4ebff;}#sk-container-id-1 input.sk-hidden--visually {border: 0;clip: rect(1px 1px 1px 1px);clip: rect(1px, 1px, 1px, 1px);height: 1px;margin: -1px;overflow: hidden;padding: 0;position: absolute;width: 1px;}#sk-container-id-1 div.sk-estimator {font-family: monospace;background-color: #f0f8ff;border: 1px dotted black;border-radius: 0.25em;box-sizing: border-box;margin-bottom: 0.5em;}#sk-container-id-1 div.sk-estimator:hover {background-color: #d4ebff;}#sk-container-id-1 div.sk-parallel-item::after {content: \"\";width: 100%;border-bottom: 1px solid gray;flex-grow: 1;}#sk-container-id-1 div.sk-label:hover label.sk-toggleable__label {background-color: #d4ebff;}#sk-container-id-1 div.sk-serial::before {content: \"\";position: absolute;border-left: 1px solid gray;box-sizing: border-box;top: 0;bottom: 0;left: 50%;z-index: 0;}#sk-container-id-1 div.sk-serial {display: flex;flex-direction: column;align-items: center;background-color: white;padding-right: 0.2em;padding-left: 0.2em;position: relative;}#sk-container-id-1 div.sk-item {position: relative;z-index: 1;}#sk-container-id-1 div.sk-parallel {display: flex;align-items: stretch;justify-content: center;background-color: white;position: relative;}#sk-container-id-1 div.sk-item::before, #sk-container-id-1 div.sk-parallel-item::before {content: \"\";position: absolute;border-left: 1px solid gray;box-sizing: border-box;top: 0;bottom: 0;left: 50%;z-index: -1;}#sk-container-id-1 div.sk-parallel-item {display: flex;flex-direction: column;z-index: 1;position: relative;background-color: white;}#sk-container-id-1 div.sk-parallel-item:first-child::after {align-self: flex-end;width: 50%;}#sk-container-id-1 div.sk-parallel-item:last-child::after {align-self: flex-start;width: 50%;}#sk-container-id-1 div.sk-parallel-item:only-child::after {width: 0;}#sk-container-id-1 div.sk-dashed-wrapped {border: 1px dashed gray;margin: 0 0.4em 0.5em 0.4em;box-sizing: border-box;padding-bottom: 0.4em;background-color: white;}#sk-container-id-1 div.sk-label label {font-family: monospace;font-weight: bold;display: inline-block;line-height: 1.2em;}#sk-container-id-1 div.sk-label-container {text-align: center;}#sk-container-id-1 div.sk-container {/* jupyter's `normalize.less` sets `[hidden] { display: none; }` but bootstrap.min.css set `[hidden] { display: none !important; }` so we also need the `!important` here to be able to override the default hidden behavior on the sphinx rendered scikit-learn.org. See: https://github.com/scikit-learn/scikit-learn/issues/21755 */display: inline-block !important;position: relative;}#sk-container-id-1 div.sk-text-repr-fallback {display: none;}</style><div id=\"sk-container-id-1\" class=\"sk-top-container\"><div class=\"sk-text-repr-fallback\"><pre>Pipeline(steps=[(&#x27;scale&#x27;, StandardScaler()),\n",
       "                (&#x27;model&#x27;, GradientBoostingClassifier())])</pre><b>In a Jupyter environment, please rerun this cell to show the HTML representation or trust the notebook. <br />On GitHub, the HTML representation is unable to render, please try loading this page with nbviewer.org.</b></div><div class=\"sk-container\" hidden><div class=\"sk-item sk-dashed-wrapped\"><div class=\"sk-label-container\"><div class=\"sk-label sk-toggleable\"><input class=\"sk-toggleable__control sk-hidden--visually\" id=\"sk-estimator-id-1\" type=\"checkbox\" ><label for=\"sk-estimator-id-1\" class=\"sk-toggleable__label sk-toggleable__label-arrow\">Pipeline</label><div class=\"sk-toggleable__content\"><pre>Pipeline(steps=[(&#x27;scale&#x27;, StandardScaler()),\n",
       "                (&#x27;model&#x27;, GradientBoostingClassifier())])</pre></div></div></div><div class=\"sk-serial\"><div class=\"sk-item\"><div class=\"sk-estimator sk-toggleable\"><input class=\"sk-toggleable__control sk-hidden--visually\" id=\"sk-estimator-id-2\" type=\"checkbox\" ><label for=\"sk-estimator-id-2\" class=\"sk-toggleable__label sk-toggleable__label-arrow\">StandardScaler</label><div class=\"sk-toggleable__content\"><pre>StandardScaler()</pre></div></div></div><div class=\"sk-item\"><div class=\"sk-estimator sk-toggleable\"><input class=\"sk-toggleable__control sk-hidden--visually\" id=\"sk-estimator-id-3\" type=\"checkbox\" ><label for=\"sk-estimator-id-3\" class=\"sk-toggleable__label sk-toggleable__label-arrow\">GradientBoostingClassifier</label><div class=\"sk-toggleable__content\"><pre>GradientBoostingClassifier()</pre></div></div></div></div></div></div></div>"
      ],
      "text/plain": [
       "Pipeline(steps=[('scale', StandardScaler()),\n",
       "                ('model', GradientBoostingClassifier())])"
      ]
     },
     "execution_count": 36,
     "metadata": {},
     "output_type": "execute_result"
    }
   ],
   "source": [
    "model.fit(X_train, y_train.values.ravel())"
   ]
  },
  {
   "cell_type": "code",
   "execution_count": 37,
   "id": "af59f8c0",
   "metadata": {
    "execution": {
     "iopub.execute_input": "2025-07-28T10:46:14.487585Z",
     "iopub.status.busy": "2025-07-28T10:46:14.487001Z",
     "iopub.status.idle": "2025-07-28T10:46:14.492544Z",
     "shell.execute_reply": "2025-07-28T10:46:14.491491Z"
    },
    "papermill": {
     "duration": 0.031008,
     "end_time": "2025-07-28T10:46:14.494171",
     "exception": false,
     "start_time": "2025-07-28T10:46:14.463163",
     "status": "completed"
    },
    "tags": []
   },
   "outputs": [],
   "source": [
    "from fairness_multiverse.universe import predict_w_threshold"
   ]
  },
  {
   "cell_type": "code",
   "execution_count": 38,
   "id": "a7cf2e16",
   "metadata": {
    "execution": {
     "iopub.execute_input": "2025-07-28T10:46:14.543419Z",
     "iopub.status.busy": "2025-07-28T10:46:14.542679Z",
     "iopub.status.idle": "2025-07-28T10:46:15.296969Z",
     "shell.execute_reply": "2025-07-28T10:46:15.296042Z"
    },
    "papermill": {
     "duration": 0.780658,
     "end_time": "2025-07-28T10:46:15.298854",
     "exception": false,
     "start_time": "2025-07-28T10:46:14.518196",
     "status": "completed"
    },
    "tags": []
   },
   "outputs": [
    {
     "data": {
      "text/plain": [
       "0.8268866347118493"
      ]
     },
     "execution_count": 38,
     "metadata": {},
     "output_type": "execute_result"
    }
   ],
   "source": [
    "probs_test = model.predict_proba(X_test)\n",
    "\n",
    "'''\n",
    "Below code returns a boolean array (or binary 0/1 array depending on how it’s used) where each element \n",
    "is True if the probability of class 1 is greater than or equal to the threshold, and False otherwise.\n",
    "'''\n",
    "y_pred_default = predict_w_threshold(probs_test, 0.5)\n",
    "\n",
    "from sklearn.metrics import accuracy_score\n",
    "\n",
    "# Naive prediction\n",
    "accuracy_score(y_true = y_true, y_pred = y_pred_default)"
   ]
  },
  {
   "cell_type": "code",
   "execution_count": 39,
   "id": "081964c3",
   "metadata": {
    "execution": {
     "iopub.execute_input": "2025-07-28T10:46:15.349441Z",
     "iopub.status.busy": "2025-07-28T10:46:15.348878Z",
     "iopub.status.idle": "2025-07-28T10:46:16.080755Z",
     "shell.execute_reply": "2025-07-28T10:46:16.079711Z"
    },
    "papermill": {
     "duration": 0.758352,
     "end_time": "2025-07-28T10:46:16.082596",
     "exception": false,
     "start_time": "2025-07-28T10:46:15.324244",
     "status": "completed"
    },
    "tags": []
   },
   "outputs": [
    {
     "data": {
      "text/plain": [
       "array([0, 0, 0, ..., 1, 0, 0])"
      ]
     },
     "execution_count": 39,
     "metadata": {},
     "output_type": "execute_result"
    }
   ],
   "source": [
    "model.predict(X_test)"
   ]
  },
  {
   "cell_type": "markdown",
   "id": "56c9705b",
   "metadata": {
    "papermill": {
     "duration": 0.029435,
     "end_time": "2025-07-28T10:46:16.140108",
     "exception": false,
     "start_time": "2025-07-28T10:46:16.110673",
     "status": "completed"
    },
    "tags": []
   },
   "source": [
    "# Conformal Prediction"
   ]
  },
  {
   "cell_type": "code",
   "execution_count": 40,
   "id": "160ec6ff",
   "metadata": {
    "execution": {
     "iopub.execute_input": "2025-07-28T10:46:16.195391Z",
     "iopub.status.busy": "2025-07-28T10:46:16.194533Z",
     "iopub.status.idle": "2025-07-28T10:46:16.200609Z",
     "shell.execute_reply": "2025-07-28T10:46:16.199485Z"
    },
    "papermill": {
     "duration": 0.035621,
     "end_time": "2025-07-28T10:46:16.202083",
     "exception": false,
     "start_time": "2025-07-28T10:46:16.166462",
     "status": "completed"
    },
    "tags": []
   },
   "outputs": [],
   "source": [
    "# Miscoverage level for conformal prediction (10% allowed error rate => 90% target coverage)\n",
    "alpha = 0.1"
   ]
  },
  {
   "cell_type": "code",
   "execution_count": 41,
   "id": "eadf4555-3dd3-440e-8e35-f82a4ad9f855",
   "metadata": {
    "execution": {
     "iopub.execute_input": "2025-07-28T10:46:16.251052Z",
     "iopub.status.busy": "2025-07-28T10:46:16.250350Z",
     "iopub.status.idle": "2025-07-28T10:46:16.966433Z",
     "shell.execute_reply": "2025-07-28T10:46:16.965287Z"
    },
    "papermill": {
     "duration": 0.742711,
     "end_time": "2025-07-28T10:46:16.968393",
     "exception": false,
     "start_time": "2025-07-28T10:46:16.225682",
     "status": "completed"
    },
    "tags": []
   },
   "outputs": [],
   "source": [
    "probs_calib = model.predict_proba(X_calib)"
   ]
  },
  {
   "cell_type": "code",
   "execution_count": 42,
   "id": "2ed93547-6d5d-4983-9b36-1ecb300da49a",
   "metadata": {
    "execution": {
     "iopub.execute_input": "2025-07-28T10:46:17.018270Z",
     "iopub.status.busy": "2025-07-28T10:46:17.017356Z",
     "iopub.status.idle": "2025-07-28T10:46:17.023761Z",
     "shell.execute_reply": "2025-07-28T10:46:17.022769Z"
    },
    "papermill": {
     "duration": 0.032917,
     "end_time": "2025-07-28T10:46:17.025437",
     "exception": false,
     "start_time": "2025-07-28T10:46:16.992520",
     "status": "completed"
    },
    "tags": []
   },
   "outputs": [],
   "source": [
    "y_calib = y_calib.values.ravel().astype(int)"
   ]
  },
  {
   "cell_type": "code",
   "execution_count": 43,
   "id": "65d1320d-f588-4b38-9072-62af1ae97f7d",
   "metadata": {
    "execution": {
     "iopub.execute_input": "2025-07-28T10:46:17.074816Z",
     "iopub.status.busy": "2025-07-28T10:46:17.073941Z",
     "iopub.status.idle": "2025-07-28T10:46:17.081555Z",
     "shell.execute_reply": "2025-07-28T10:46:17.080539Z"
    },
    "papermill": {
     "duration": 0.034442,
     "end_time": "2025-07-28T10:46:17.083262",
     "exception": false,
     "start_time": "2025-07-28T10:46:17.048820",
     "status": "completed"
    },
    "tags": []
   },
   "outputs": [],
   "source": [
    "from fairness_multiverse.conformal import compute_nc_scores\n",
    "\n",
    "# Compute nonconformity scores on calibration set (1 - probability of true class)\n",
    "nc_scores = compute_nc_scores(probs_calib, y_calib)"
   ]
  },
  {
   "cell_type": "code",
   "execution_count": 44,
   "id": "df3b8ca3-53b7-43d5-9667-7c85da7aeda2",
   "metadata": {
    "execution": {
     "iopub.execute_input": "2025-07-28T10:46:17.132599Z",
     "iopub.status.busy": "2025-07-28T10:46:17.131975Z",
     "iopub.status.idle": "2025-07-28T10:46:17.139786Z",
     "shell.execute_reply": "2025-07-28T10:46:17.138669Z"
    },
    "papermill": {
     "duration": 0.034127,
     "end_time": "2025-07-28T10:46:17.141708",
     "exception": false,
     "start_time": "2025-07-28T10:46:17.107581",
     "status": "completed"
    },
    "tags": []
   },
   "outputs": [],
   "source": [
    "from fairness_multiverse.conformal import find_threshold\n",
    "\n",
    "# Find conformal threshold q_hat for the given alpha (split conformal method)\n",
    "q_hat = find_threshold(nc_scores, alpha)"
   ]
  },
  {
   "cell_type": "code",
   "execution_count": 45,
   "id": "4d29e6c1-0ef6-4aa4-b8fe-4fe79b0d033a",
   "metadata": {
    "execution": {
     "iopub.execute_input": "2025-07-28T10:46:17.198902Z",
     "iopub.status.busy": "2025-07-28T10:46:17.198362Z",
     "iopub.status.idle": "2025-07-28T10:46:17.206397Z",
     "shell.execute_reply": "2025-07-28T10:46:17.205369Z"
    },
    "papermill": {
     "duration": 0.038199,
     "end_time": "2025-07-28T10:46:17.208205",
     "exception": false,
     "start_time": "2025-07-28T10:46:17.170006",
     "status": "completed"
    },
    "tags": []
   },
   "outputs": [
    {
     "data": {
      "text/plain": [
       "0.778889001939021"
      ]
     },
     "execution_count": 45,
     "metadata": {},
     "output_type": "execute_result"
    }
   ],
   "source": [
    "q_hat"
   ]
  },
  {
   "cell_type": "code",
   "execution_count": 46,
   "id": "92460794-cdac-4be2-ba28-f28c0515a6fb",
   "metadata": {
    "execution": {
     "iopub.execute_input": "2025-07-28T10:46:17.266471Z",
     "iopub.status.busy": "2025-07-28T10:46:17.265515Z",
     "iopub.status.idle": "2025-07-28T10:46:18.758227Z",
     "shell.execute_reply": "2025-07-28T10:46:18.757318Z"
    },
    "papermill": {
     "duration": 1.523743,
     "end_time": "2025-07-28T10:46:18.760223",
     "exception": false,
     "start_time": "2025-07-28T10:46:17.236480",
     "status": "completed"
    },
    "tags": []
   },
   "outputs": [],
   "source": [
    "from fairness_multiverse.conformal import predict_conformal_sets\n",
    "\n",
    "# Generate prediction sets for each test example\n",
    "pred_sets = predict_conformal_sets(model, X_test, q_hat)"
   ]
  },
  {
   "cell_type": "code",
   "execution_count": 47,
   "id": "d90c9a65-e6db-4f5d-80cd-e68fb7e46829",
   "metadata": {
    "execution": {
     "iopub.execute_input": "2025-07-28T10:46:18.811874Z",
     "iopub.status.busy": "2025-07-28T10:46:18.811256Z",
     "iopub.status.idle": "2025-07-28T10:46:18.817425Z",
     "shell.execute_reply": "2025-07-28T10:46:18.816280Z"
    },
    "papermill": {
     "duration": 0.032127,
     "end_time": "2025-07-28T10:46:18.819110",
     "exception": false,
     "start_time": "2025-07-28T10:46:18.786983",
     "status": "completed"
    },
    "tags": []
   },
   "outputs": [],
   "source": [
    "y_true = y_true.squeeze()"
   ]
  },
  {
   "cell_type": "code",
   "execution_count": 48,
   "id": "3a58a54a-1e68-46b9-927a-df01f18aebc8",
   "metadata": {
    "execution": {
     "iopub.execute_input": "2025-07-28T10:46:18.872237Z",
     "iopub.status.busy": "2025-07-28T10:46:18.871207Z",
     "iopub.status.idle": "2025-07-28T10:46:19.850030Z",
     "shell.execute_reply": "2025-07-28T10:46:19.849078Z"
    },
    "papermill": {
     "duration": 1.006033,
     "end_time": "2025-07-28T10:46:19.852108",
     "exception": false,
     "start_time": "2025-07-28T10:46:18.846075",
     "status": "completed"
    },
    "tags": []
   },
   "outputs": [],
   "source": [
    "from fairness_multiverse.conformal import evaluate_sets\n",
    "\n",
    "# Evaluate coverage and average set size on test data\n",
    "metrics = evaluate_sets(pred_sets, y_true)"
   ]
  },
  {
   "cell_type": "markdown",
   "id": "2b569c12-9aaa-4c88-98c9-bbcd0cf3ebb8",
   "metadata": {
    "papermill": {
     "duration": 0.022397,
     "end_time": "2025-07-28T10:46:19.897652",
     "exception": false,
     "start_time": "2025-07-28T10:46:19.875255",
     "status": "completed"
    },
    "tags": []
   },
   "source": [
    "# CP Metrics"
   ]
  },
  {
   "cell_type": "code",
   "execution_count": 49,
   "id": "5ce0a5cb-201f-45a0-ade5-94c7f0bd6095",
   "metadata": {
    "execution": {
     "iopub.execute_input": "2025-07-28T10:46:19.945084Z",
     "iopub.status.busy": "2025-07-28T10:46:19.944085Z",
     "iopub.status.idle": "2025-07-28T10:46:19.951675Z",
     "shell.execute_reply": "2025-07-28T10:46:19.950638Z"
    },
    "papermill": {
     "duration": 0.033429,
     "end_time": "2025-07-28T10:46:19.953585",
     "exception": false,
     "start_time": "2025-07-28T10:46:19.920156",
     "status": "completed"
    },
    "tags": []
   },
   "outputs": [
    {
     "data": {
      "text/plain": [
       "{'coverage': 0.9077917734923643, 'avg_size': 1.1968119496154275}"
      ]
     },
     "execution_count": 49,
     "metadata": {},
     "output_type": "execute_result"
    }
   ],
   "source": [
    "metrics"
   ]
  },
  {
   "cell_type": "code",
   "execution_count": 50,
   "id": "9b9a838d-31c9-430b-ae14-12baee460d17",
   "metadata": {
    "execution": {
     "iopub.execute_input": "2025-07-28T10:46:20.004521Z",
     "iopub.status.busy": "2025-07-28T10:46:20.003985Z",
     "iopub.status.idle": "2025-07-28T10:46:20.011122Z",
     "shell.execute_reply": "2025-07-28T10:46:20.009972Z"
    },
    "papermill": {
     "duration": 0.035101,
     "end_time": "2025-07-28T10:46:20.012761",
     "exception": false,
     "start_time": "2025-07-28T10:46:19.977660",
     "status": "completed"
    },
    "tags": []
   },
   "outputs": [],
   "source": [
    "example_universe = universe.copy()\n",
    "universe_training_size = example_universe.get(\"training_size\")\n",
    "universe_scale = example_universe.get(\"scale\")\n",
    "universe_model = example_universe.get(\"model\")\n",
    "universe_exclude_features = example_universe.get(\"exclude_features\")\n",
    "universe_exclude_subgroups = example_universe.get(\"exclude_subgroups\")"
   ]
  },
  {
   "cell_type": "code",
   "execution_count": 51,
   "id": "f4b6a8ac-9dc0-4245-8a91-5b3b5999c4f9",
   "metadata": {
    "execution": {
     "iopub.execute_input": "2025-07-28T10:46:20.065617Z",
     "iopub.status.busy": "2025-07-28T10:46:20.064894Z",
     "iopub.status.idle": "2025-07-28T10:46:20.072934Z",
     "shell.execute_reply": "2025-07-28T10:46:20.071786Z"
    },
    "papermill": {
     "duration": 0.036826,
     "end_time": "2025-07-28T10:46:20.074824",
     "exception": false,
     "start_time": "2025-07-28T10:46:20.037998",
     "status": "completed"
    },
    "tags": []
   },
   "outputs": [],
   "source": [
    "cp_metrics_dict = {\n",
    "    \"universe_id\": [universe_id],\n",
    "    \"universe_training_size\": [universe_training_size],\n",
    "    \"universe_scale\": [universe_scale],\n",
    "    \"universe_model\": [universe_model],\n",
    "    \"universe_exclude_features\": [universe_exclude_features],\n",
    "    \"universe_exclude_subgroups\": [universe_exclude_subgroups],\n",
    "    \"q_hat\": [q_hat],\n",
    "    \"coverage\": [metrics[\"coverage\"]],\n",
    "    \"avg_size\": [metrics[\"avg_size\"]],\n",
    "}"
   ]
  },
  {
   "cell_type": "code",
   "execution_count": 52,
   "id": "908acbb1-0371-4915-85ca-3fa520d2efe2",
   "metadata": {
    "execution": {
     "iopub.execute_input": "2025-07-28T10:46:20.125809Z",
     "iopub.status.busy": "2025-07-28T10:46:20.125061Z",
     "iopub.status.idle": "2025-07-28T10:46:20.133120Z",
     "shell.execute_reply": "2025-07-28T10:46:20.132054Z"
    },
    "papermill": {
     "duration": 0.035107,
     "end_time": "2025-07-28T10:46:20.134952",
     "exception": false,
     "start_time": "2025-07-28T10:46:20.099845",
     "status": "completed"
    },
    "tags": []
   },
   "outputs": [
    {
     "data": {
      "text/plain": [
       "{'universe_id': ['dde87a87792cd79fdfd84e846c406656'],\n",
       " 'universe_training_size': ['1k'],\n",
       " 'universe_scale': ['scale'],\n",
       " 'universe_model': ['gbm'],\n",
       " 'universe_exclude_features': ['nationality-sex'],\n",
       " 'universe_exclude_subgroups': ['drop-non-german'],\n",
       " 'q_hat': [0.778889001939021],\n",
       " 'coverage': [0.9077917734923643],\n",
       " 'avg_size': [1.1968119496154275]}"
      ]
     },
     "execution_count": 52,
     "metadata": {},
     "output_type": "execute_result"
    }
   ],
   "source": [
    "cp_metrics_dict"
   ]
  },
  {
   "cell_type": "code",
   "execution_count": 53,
   "id": "33007efc-14e9-4ec6-97ac-56a455c82265",
   "metadata": {
    "execution": {
     "iopub.execute_input": "2025-07-28T10:46:20.187763Z",
     "iopub.status.busy": "2025-07-28T10:46:20.187037Z",
     "iopub.status.idle": "2025-07-28T10:46:20.194241Z",
     "shell.execute_reply": "2025-07-28T10:46:20.193048Z"
    },
    "papermill": {
     "duration": 0.035217,
     "end_time": "2025-07-28T10:46:20.196166",
     "exception": false,
     "start_time": "2025-07-28T10:46:20.160949",
     "status": "completed"
    },
    "tags": []
   },
   "outputs": [],
   "source": [
    "cp_metrics_df = pd.DataFrame(cp_metrics_dict)"
   ]
  },
  {
   "cell_type": "code",
   "execution_count": 54,
   "id": "db12611b-57b2-4910-b9d0-355adfd6e7bf",
   "metadata": {
    "execution": {
     "iopub.execute_input": "2025-07-28T10:46:20.249371Z",
     "iopub.status.busy": "2025-07-28T10:46:20.248654Z",
     "iopub.status.idle": "2025-07-28T10:46:20.267550Z",
     "shell.execute_reply": "2025-07-28T10:46:20.266310Z"
    },
    "papermill": {
     "duration": 0.047401,
     "end_time": "2025-07-28T10:46:20.269363",
     "exception": false,
     "start_time": "2025-07-28T10:46:20.221962",
     "status": "completed"
    },
    "tags": []
   },
   "outputs": [
    {
     "data": {
      "text/html": [
       "<div>\n",
       "<style scoped>\n",
       "    .dataframe tbody tr th:only-of-type {\n",
       "        vertical-align: middle;\n",
       "    }\n",
       "\n",
       "    .dataframe tbody tr th {\n",
       "        vertical-align: top;\n",
       "    }\n",
       "\n",
       "    .dataframe thead th {\n",
       "        text-align: right;\n",
       "    }\n",
       "</style>\n",
       "<table border=\"1\" class=\"dataframe\">\n",
       "  <thead>\n",
       "    <tr style=\"text-align: right;\">\n",
       "      <th></th>\n",
       "      <th>universe_id</th>\n",
       "      <th>universe_training_size</th>\n",
       "      <th>universe_scale</th>\n",
       "      <th>universe_model</th>\n",
       "      <th>universe_exclude_features</th>\n",
       "      <th>universe_exclude_subgroups</th>\n",
       "      <th>q_hat</th>\n",
       "      <th>coverage</th>\n",
       "      <th>avg_size</th>\n",
       "    </tr>\n",
       "  </thead>\n",
       "  <tbody>\n",
       "    <tr>\n",
       "      <th>0</th>\n",
       "      <td>dde87a87792cd79fdfd84e846c406656</td>\n",
       "      <td>1k</td>\n",
       "      <td>scale</td>\n",
       "      <td>gbm</td>\n",
       "      <td>nationality-sex</td>\n",
       "      <td>drop-non-german</td>\n",
       "      <td>0.778889</td>\n",
       "      <td>0.907792</td>\n",
       "      <td>1.196812</td>\n",
       "    </tr>\n",
       "  </tbody>\n",
       "</table>\n",
       "</div>"
      ],
      "text/plain": [
       "                        universe_id universe_training_size universe_scale  \\\n",
       "0  dde87a87792cd79fdfd84e846c406656                     1k          scale   \n",
       "\n",
       "  universe_model universe_exclude_features universe_exclude_subgroups  \\\n",
       "0            gbm           nationality-sex            drop-non-german   \n",
       "\n",
       "      q_hat  coverage  avg_size  \n",
       "0  0.778889  0.907792  1.196812  "
      ]
     },
     "execution_count": 54,
     "metadata": {},
     "output_type": "execute_result"
    }
   ],
   "source": [
    "cp_metrics_df"
   ]
  },
  {
   "cell_type": "code",
   "execution_count": 55,
   "id": "b7fbde55-a0a1-47e4-9af6-fe4a17fa8c61",
   "metadata": {
    "execution": {
     "iopub.execute_input": "2025-07-28T10:46:20.323068Z",
     "iopub.status.busy": "2025-07-28T10:46:20.322359Z",
     "iopub.status.idle": "2025-07-28T10:46:20.327975Z",
     "shell.execute_reply": "2025-07-28T10:46:20.326996Z"
    },
    "papermill": {
     "duration": 0.034277,
     "end_time": "2025-07-28T10:46:20.329692",
     "exception": false,
     "start_time": "2025-07-28T10:46:20.295415",
     "status": "completed"
    },
    "tags": []
   },
   "outputs": [],
   "source": [
    "# Conditional Coverage & looking at subgroups"
   ]
  },
  {
   "cell_type": "code",
   "execution_count": 56,
   "id": "027ae886-68dd-4141-96c7-805a5450e1ef",
   "metadata": {
    "execution": {
     "iopub.execute_input": "2025-07-28T10:46:20.384978Z",
     "iopub.status.busy": "2025-07-28T10:46:20.384002Z",
     "iopub.status.idle": "2025-07-28T10:46:20.686861Z",
     "shell.execute_reply": "2025-07-28T10:46:20.685813Z"
    },
    "papermill": {
     "duration": 0.332615,
     "end_time": "2025-07-28T10:46:20.688979",
     "exception": false,
     "start_time": "2025-07-28T10:46:20.356364",
     "status": "completed"
    },
    "tags": []
   },
   "outputs": [],
   "source": [
    "from fairness_multiverse.conformal import build_cp_groups\n",
    "\n",
    "cp_groups_df = build_cp_groups(pred_sets, y_true, X_test.index, org_test)\n",
    "#needs universe_id and setting"
   ]
  },
  {
   "cell_type": "code",
   "execution_count": 57,
   "id": "01d5802c-663a-4d1f-9d69-e036faaffbf7",
   "metadata": {
    "execution": {
     "iopub.execute_input": "2025-07-28T10:46:20.739831Z",
     "iopub.status.busy": "2025-07-28T10:46:20.739087Z",
     "iopub.status.idle": "2025-07-28T10:46:20.744476Z",
     "shell.execute_reply": "2025-07-28T10:46:20.743312Z"
    },
    "papermill": {
     "duration": 0.032739,
     "end_time": "2025-07-28T10:46:20.746318",
     "exception": false,
     "start_time": "2025-07-28T10:46:20.713579",
     "status": "completed"
    },
    "tags": []
   },
   "outputs": [],
   "source": [
    "#delete\n",
    "#cp_groups_df"
   ]
  },
  {
   "cell_type": "code",
   "execution_count": 58,
   "id": "fa424af1-d1eb-443d-b717-2d279ada8408",
   "metadata": {
    "execution": {
     "iopub.execute_input": "2025-07-28T10:46:20.799546Z",
     "iopub.status.busy": "2025-07-28T10:46:20.798566Z",
     "iopub.status.idle": "2025-07-28T10:46:20.804475Z",
     "shell.execute_reply": "2025-07-28T10:46:20.803435Z"
    },
    "papermill": {
     "duration": 0.034566,
     "end_time": "2025-07-28T10:46:20.806311",
     "exception": false,
     "start_time": "2025-07-28T10:46:20.771745",
     "status": "completed"
    },
    "tags": []
   },
   "outputs": [],
   "source": [
    "#delete\n",
    "#percentage = (cp_groups_df['nongerman_female'] == 1).mean() * 100\n",
    "#print(percentage)\n"
   ]
  },
  {
   "cell_type": "code",
   "execution_count": 59,
   "id": "6cbdab96-b2b2-45af-ad54-d0516db2e28d",
   "metadata": {
    "execution": {
     "iopub.execute_input": "2025-07-28T10:46:20.860241Z",
     "iopub.status.busy": "2025-07-28T10:46:20.859182Z",
     "iopub.status.idle": "2025-07-28T10:46:22.643188Z",
     "shell.execute_reply": "2025-07-28T10:46:22.642127Z"
    },
    "papermill": {
     "duration": 1.812486,
     "end_time": "2025-07-28T10:46:22.645114",
     "exception": false,
     "start_time": "2025-07-28T10:46:20.832628",
     "status": "completed"
    },
    "tags": []
   },
   "outputs": [],
   "source": [
    "# Define covered = 1 if true_label is in the predicted set\n",
    "cp_groups_df['covered'] = cp_groups_df.apply(\n",
    "    lambda r: int(r['true_label'] in r['pred_set']),\n",
    "    axis=1\n",
    ")"
   ]
  },
  {
   "cell_type": "code",
   "execution_count": 60,
   "id": "338ff529-1a6b-4b87-a931-8e4788d52aad",
   "metadata": {
    "execution": {
     "iopub.execute_input": "2025-07-28T10:46:22.701403Z",
     "iopub.status.busy": "2025-07-28T10:46:22.700950Z",
     "iopub.status.idle": "2025-07-28T10:46:22.706312Z",
     "shell.execute_reply": "2025-07-28T10:46:22.705258Z"
    },
    "papermill": {
     "duration": 0.036248,
     "end_time": "2025-07-28T10:46:22.708179",
     "exception": false,
     "start_time": "2025-07-28T10:46:22.671931",
     "status": "completed"
    },
    "tags": []
   },
   "outputs": [],
   "source": [
    "#cp_groups_df"
   ]
  },
  {
   "cell_type": "code",
   "execution_count": 61,
   "id": "90032e27-66df-4540-9169-4e89cfbaa758",
   "metadata": {
    "execution": {
     "iopub.execute_input": "2025-07-28T10:46:22.764628Z",
     "iopub.status.busy": "2025-07-28T10:46:22.763847Z",
     "iopub.status.idle": "2025-07-28T10:46:22.777165Z",
     "shell.execute_reply": "2025-07-28T10:46:22.776014Z"
    },
    "papermill": {
     "duration": 0.044557,
     "end_time": "2025-07-28T10:46:22.779029",
     "exception": false,
     "start_time": "2025-07-28T10:46:22.734472",
     "status": "completed"
    },
    "tags": []
   },
   "outputs": [],
   "source": [
    "subgroups = ['frau1','nongerman','nongerman_male','nongerman_female']\n",
    "\n",
    "# Conditional coverage for subgroup==1\n",
    "cond_coverage = {\n",
    "    g: cp_groups_df.loc[cp_groups_df[g]==1, 'covered'].mean()\n",
    "    for g in subgroups\n",
    "}"
   ]
  },
  {
   "cell_type": "code",
   "execution_count": 62,
   "id": "1e348fb1-b9c3-45bc-ba23-f016827a7e0d",
   "metadata": {
    "execution": {
     "iopub.execute_input": "2025-07-28T10:46:22.839303Z",
     "iopub.status.busy": "2025-07-28T10:46:22.838608Z",
     "iopub.status.idle": "2025-07-28T10:46:22.846434Z",
     "shell.execute_reply": "2025-07-28T10:46:22.845365Z"
    },
    "papermill": {
     "duration": 0.040668,
     "end_time": "2025-07-28T10:46:22.848145",
     "exception": false,
     "start_time": "2025-07-28T10:46:22.807477",
     "status": "completed"
    },
    "tags": []
   },
   "outputs": [
    {
     "data": {
      "text/plain": [
       "{'frau1': 0.9063485644965629,\n",
       " 'nongerman': 0.90596755178802,\n",
       " 'nongerman_male': 0.9235341799513644,\n",
       " 'nongerman_female': 0.8769001490312965}"
      ]
     },
     "execution_count": 62,
     "metadata": {},
     "output_type": "execute_result"
    }
   ],
   "source": [
    "cond_coverage"
   ]
  },
  {
   "cell_type": "code",
   "execution_count": 63,
   "id": "f5093324-c3dd-4d63-bc4c-8d945e5c8bbb",
   "metadata": {
    "execution": {
     "iopub.execute_input": "2025-07-28T10:46:22.956660Z",
     "iopub.status.busy": "2025-07-28T10:46:22.956202Z",
     "iopub.status.idle": "2025-07-28T10:46:22.964841Z",
     "shell.execute_reply": "2025-07-28T10:46:22.963627Z"
    },
    "papermill": {
     "duration": 0.092019,
     "end_time": "2025-07-28T10:46:22.966615",
     "exception": false,
     "start_time": "2025-07-28T10:46:22.874596",
     "status": "completed"
    },
    "tags": []
   },
   "outputs": [],
   "source": [
    "for subgroup, cov in cond_coverage.items():\n",
    "    cp_metrics_df[f\"cov_{subgroup}\"] = cov"
   ]
  },
  {
   "cell_type": "code",
   "execution_count": 64,
   "id": "6e872e10-dbe5-49e8-b554-5030c98ff75d",
   "metadata": {
    "execution": {
     "iopub.execute_input": "2025-07-28T10:46:23.025824Z",
     "iopub.status.busy": "2025-07-28T10:46:23.025098Z",
     "iopub.status.idle": "2025-07-28T10:46:23.047071Z",
     "shell.execute_reply": "2025-07-28T10:46:23.045950Z"
    },
    "papermill": {
     "duration": 0.051887,
     "end_time": "2025-07-28T10:46:23.049035",
     "exception": false,
     "start_time": "2025-07-28T10:46:22.997148",
     "status": "completed"
    },
    "tags": []
   },
   "outputs": [
    {
     "data": {
      "text/html": [
       "<div>\n",
       "<style scoped>\n",
       "    .dataframe tbody tr th:only-of-type {\n",
       "        vertical-align: middle;\n",
       "    }\n",
       "\n",
       "    .dataframe tbody tr th {\n",
       "        vertical-align: top;\n",
       "    }\n",
       "\n",
       "    .dataframe thead th {\n",
       "        text-align: right;\n",
       "    }\n",
       "</style>\n",
       "<table border=\"1\" class=\"dataframe\">\n",
       "  <thead>\n",
       "    <tr style=\"text-align: right;\">\n",
       "      <th></th>\n",
       "      <th>universe_id</th>\n",
       "      <th>universe_training_size</th>\n",
       "      <th>universe_scale</th>\n",
       "      <th>universe_model</th>\n",
       "      <th>universe_exclude_features</th>\n",
       "      <th>universe_exclude_subgroups</th>\n",
       "      <th>q_hat</th>\n",
       "      <th>coverage</th>\n",
       "      <th>avg_size</th>\n",
       "      <th>cov_frau1</th>\n",
       "      <th>cov_nongerman</th>\n",
       "      <th>cov_nongerman_male</th>\n",
       "      <th>cov_nongerman_female</th>\n",
       "    </tr>\n",
       "  </thead>\n",
       "  <tbody>\n",
       "    <tr>\n",
       "      <th>0</th>\n",
       "      <td>dde87a87792cd79fdfd84e846c406656</td>\n",
       "      <td>1k</td>\n",
       "      <td>scale</td>\n",
       "      <td>gbm</td>\n",
       "      <td>nationality-sex</td>\n",
       "      <td>drop-non-german</td>\n",
       "      <td>0.778889</td>\n",
       "      <td>0.907792</td>\n",
       "      <td>1.196812</td>\n",
       "      <td>0.906349</td>\n",
       "      <td>0.905968</td>\n",
       "      <td>0.923534</td>\n",
       "      <td>0.8769</td>\n",
       "    </tr>\n",
       "  </tbody>\n",
       "</table>\n",
       "</div>"
      ],
      "text/plain": [
       "                        universe_id universe_training_size universe_scale  \\\n",
       "0  dde87a87792cd79fdfd84e846c406656                     1k          scale   \n",
       "\n",
       "  universe_model universe_exclude_features universe_exclude_subgroups  \\\n",
       "0            gbm           nationality-sex            drop-non-german   \n",
       "\n",
       "      q_hat  coverage  avg_size  cov_frau1  cov_nongerman  cov_nongerman_male  \\\n",
       "0  0.778889  0.907792  1.196812   0.906349       0.905968            0.923534   \n",
       "\n",
       "   cov_nongerman_female  \n",
       "0                0.8769  "
      ]
     },
     "execution_count": 64,
     "metadata": {},
     "output_type": "execute_result"
    }
   ],
   "source": [
    "cp_metrics_df"
   ]
  },
  {
   "cell_type": "markdown",
   "id": "33774451",
   "metadata": {
    "papermill": {
     "duration": 0.027893,
     "end_time": "2025-07-28T10:46:23.103767",
     "exception": false,
     "start_time": "2025-07-28T10:46:23.075874",
     "status": "completed"
    },
    "tags": []
   },
   "source": [
    "# (Fairness) Metrics"
   ]
  },
  {
   "cell_type": "code",
   "execution_count": 65,
   "id": "debc5d62",
   "metadata": {
    "execution": {
     "iopub.execute_input": "2025-07-28T10:46:23.161936Z",
     "iopub.status.busy": "2025-07-28T10:46:23.161203Z",
     "iopub.status.idle": "2025-07-28T10:46:23.187567Z",
     "shell.execute_reply": "2025-07-28T10:46:23.186351Z"
    },
    "papermill": {
     "duration": 0.057651,
     "end_time": "2025-07-28T10:46:23.189622",
     "exception": false,
     "start_time": "2025-07-28T10:46:23.131971",
     "status": "completed"
    },
    "tags": []
   },
   "outputs": [],
   "source": [
    "# do I need to include maxdeutsch1.missing?\n",
    "\n",
    "import numpy as np\n",
    "\n",
    "colname_to_bin = \"maxdeutsch1\"\n",
    "majority_value = org_train[colname_to_bin].mode()[0]\n",
    "\n",
    "org_test[\"majmin\"] = np.where(org_test[colname_to_bin] == majority_value, \"majority\", \"minority\")"
   ]
  },
  {
   "cell_type": "code",
   "execution_count": 66,
   "id": "06a50de5",
   "metadata": {
    "execution": {
     "iopub.execute_input": "2025-07-28T10:46:23.247474Z",
     "iopub.status.busy": "2025-07-28T10:46:23.246843Z",
     "iopub.status.idle": "2025-07-28T10:46:26.384632Z",
     "shell.execute_reply": "2025-07-28T10:46:26.379461Z"
    },
    "papermill": {
     "duration": 3.169513,
     "end_time": "2025-07-28T10:46:26.387341",
     "exception": false,
     "start_time": "2025-07-28T10:46:23.217828",
     "status": "completed"
    },
    "tags": []
   },
   "outputs": [],
   "source": [
    "example_universe = universe.copy()\n",
    "example_universe[\"cutoff\"] = example_universe[\"cutoff\"][0]\n",
    "example_universe[\"eval_fairness_grouping\"] = example_universe[\"eval_fairness_grouping\"][0]\n",
    "fairness_dict, metric_frame = universe_analysis.compute_metrics(\n",
    "    example_universe,\n",
    "    y_pred_prob=probs_test,\n",
    "    y_test=y_true,\n",
    "    org_test=org_test,\n",
    ")"
   ]
  },
  {
   "cell_type": "markdown",
   "id": "f95d4e02",
   "metadata": {
    "papermill": {
     "duration": 0.039478,
     "end_time": "2025-07-28T10:46:26.467243",
     "exception": false,
     "start_time": "2025-07-28T10:46:26.427765",
     "status": "completed"
    },
    "tags": []
   },
   "source": [
    "# Overall"
   ]
  },
  {
   "cell_type": "markdown",
   "id": "bdee4871",
   "metadata": {
    "papermill": {
     "duration": 0.038945,
     "end_time": "2025-07-28T10:46:26.544784",
     "exception": false,
     "start_time": "2025-07-28T10:46:26.505839",
     "status": "completed"
    },
    "tags": []
   },
   "source": [
    "Fairness\n",
    "Main fairness target: Equalized Odds. Seems to be a better fit than equal opportunity, since we're not only interested in Y = 1. Seems to be a better fit than demographic parity, since we also care about accuracy, not just equal distribution of preds.\n",
    "\n",
    "Pick column for computation of fairness metrics\n",
    "\n",
    "Performance\n",
    "Overall performance measures, most interesting in relation to the measures split by group below"
   ]
  },
  {
   "cell_type": "code",
   "execution_count": 67,
   "id": "c4e067c6",
   "metadata": {
    "execution": {
     "iopub.execute_input": "2025-07-28T10:46:26.625893Z",
     "iopub.status.busy": "2025-07-28T10:46:26.625476Z",
     "iopub.status.idle": "2025-07-28T10:46:26.636129Z",
     "shell.execute_reply": "2025-07-28T10:46:26.634650Z"
    },
    "papermill": {
     "duration": 0.056526,
     "end_time": "2025-07-28T10:46:26.641105",
     "exception": false,
     "start_time": "2025-07-28T10:46:26.584579",
     "status": "completed"
    },
    "tags": []
   },
   "outputs": [
    {
     "data": {
      "text/plain": [
       "accuracy                   0.222640\n",
       "balanced accuracy          0.544748\n",
       "f1                         0.244019\n",
       "precision                  0.139400\n",
       "false positive rate        0.888519\n",
       "false negative rate        0.021985\n",
       "selection rate             0.900000\n",
       "count                  89710.000000\n",
       "dtype: float64"
      ]
     },
     "execution_count": 67,
     "metadata": {},
     "output_type": "execute_result"
    }
   ],
   "source": [
    "metric_frame.overall"
   ]
  },
  {
   "cell_type": "markdown",
   "id": "e968fe9d",
   "metadata": {
    "papermill": {
     "duration": 0.040315,
     "end_time": "2025-07-28T10:46:26.722163",
     "exception": false,
     "start_time": "2025-07-28T10:46:26.681848",
     "status": "completed"
    },
    "tags": []
   },
   "source": [
    "By Group"
   ]
  },
  {
   "cell_type": "code",
   "execution_count": 68,
   "id": "ec325bce",
   "metadata": {
    "execution": {
     "iopub.execute_input": "2025-07-28T10:46:26.806248Z",
     "iopub.status.busy": "2025-07-28T10:46:26.805669Z",
     "iopub.status.idle": "2025-07-28T10:46:26.823321Z",
     "shell.execute_reply": "2025-07-28T10:46:26.822329Z"
    },
    "papermill": {
     "duration": 0.063167,
     "end_time": "2025-07-28T10:46:26.825939",
     "exception": false,
     "start_time": "2025-07-28T10:46:26.762772",
     "status": "completed"
    },
    "tags": []
   },
   "outputs": [
    {
     "data": {
      "text/html": [
       "<div>\n",
       "<style scoped>\n",
       "    .dataframe tbody tr th:only-of-type {\n",
       "        vertical-align: middle;\n",
       "    }\n",
       "\n",
       "    .dataframe tbody tr th {\n",
       "        vertical-align: top;\n",
       "    }\n",
       "\n",
       "    .dataframe thead th {\n",
       "        text-align: right;\n",
       "    }\n",
       "</style>\n",
       "<table border=\"1\" class=\"dataframe\">\n",
       "  <thead>\n",
       "    <tr style=\"text-align: right;\">\n",
       "      <th></th>\n",
       "      <th>accuracy</th>\n",
       "      <th>balanced accuracy</th>\n",
       "      <th>f1</th>\n",
       "      <th>precision</th>\n",
       "      <th>false positive rate</th>\n",
       "      <th>false negative rate</th>\n",
       "      <th>selection rate</th>\n",
       "      <th>count</th>\n",
       "    </tr>\n",
       "    <tr>\n",
       "      <th>majmin</th>\n",
       "      <th></th>\n",
       "      <th></th>\n",
       "      <th></th>\n",
       "      <th></th>\n",
       "      <th></th>\n",
       "      <th></th>\n",
       "      <th></th>\n",
       "      <th></th>\n",
       "    </tr>\n",
       "  </thead>\n",
       "  <tbody>\n",
       "    <tr>\n",
       "      <th>majority</th>\n",
       "      <td>0.239613</td>\n",
       "      <td>0.551577</td>\n",
       "      <td>0.253216</td>\n",
       "      <td>0.145489</td>\n",
       "      <td>0.872447</td>\n",
       "      <td>0.024398</td>\n",
       "      <td>0.886078</td>\n",
       "      <td>69170.0</td>\n",
       "    </tr>\n",
       "    <tr>\n",
       "      <th>minority</th>\n",
       "      <td>0.165482</td>\n",
       "      <td>0.522859</td>\n",
       "      <td>0.214328</td>\n",
       "      <td>0.120212</td>\n",
       "      <td>0.941613</td>\n",
       "      <td>0.012669</td>\n",
       "      <td>0.946884</td>\n",
       "      <td>20540.0</td>\n",
       "    </tr>\n",
       "  </tbody>\n",
       "</table>\n",
       "</div>"
      ],
      "text/plain": [
       "          accuracy  balanced accuracy        f1  precision  \\\n",
       "majmin                                                       \n",
       "majority  0.239613           0.551577  0.253216   0.145489   \n",
       "minority  0.165482           0.522859  0.214328   0.120212   \n",
       "\n",
       "          false positive rate  false negative rate  selection rate    count  \n",
       "majmin                                                                       \n",
       "majority             0.872447             0.024398        0.886078  69170.0  \n",
       "minority             0.941613             0.012669        0.946884  20540.0  "
      ]
     },
     "execution_count": 68,
     "metadata": {},
     "output_type": "execute_result"
    }
   ],
   "source": [
    "metric_frame.by_group"
   ]
  },
  {
   "cell_type": "code",
   "execution_count": 69,
   "id": "a9ddbe63",
   "metadata": {
    "execution": {
     "iopub.execute_input": "2025-07-28T10:46:26.910713Z",
     "iopub.status.busy": "2025-07-28T10:46:26.909943Z",
     "iopub.status.idle": "2025-07-28T10:46:29.401828Z",
     "shell.execute_reply": "2025-07-28T10:46:29.400985Z"
    },
    "papermill": {
     "duration": 2.536324,
     "end_time": "2025-07-28T10:46:29.403841",
     "exception": false,
     "start_time": "2025-07-28T10:46:26.867517",
     "status": "completed"
    },
    "tags": []
   },
   "outputs": [
    {
     "data": {
      "text/plain": [
       "array([[<Axes: title={'center': 'accuracy'}, xlabel='majmin'>,\n",
       "        <Axes: title={'center': 'balanced accuracy'}, xlabel='majmin'>,\n",
       "        <Axes: title={'center': 'f1'}, xlabel='majmin'>],\n",
       "       [<Axes: title={'center': 'precision'}, xlabel='majmin'>,\n",
       "        <Axes: title={'center': 'false positive rate'}, xlabel='majmin'>,\n",
       "        <Axes: title={'center': 'false negative rate'}, xlabel='majmin'>],\n",
       "       [<Axes: title={'center': 'selection rate'}, xlabel='majmin'>,\n",
       "        <Axes: title={'center': 'count'}, xlabel='majmin'>,\n",
       "        <Axes: xlabel='majmin'>]], dtype=object)"
      ]
     },
     "execution_count": 69,
     "metadata": {},
     "output_type": "execute_result"
    },
    {
     "data": {
      "image/png": "[encoded data removed]",
      "text/plain": [
       "<Figure size 1200x800 with 9 Axes>"
      ]
     },
     "metadata": {},
     "output_type": "display_data"
    }
   ],
   "source": [
    "# In a graphic\n",
    "metric_frame.by_group.plot.bar(\n",
    "    subplots=True,\n",
    "    layout=[3, 3],\n",
    "    legend=False,\n",
    "    figsize=[12, 8],\n",
    "    title=\"Show all metrics\",\n",
    ")"
   ]
  },
  {
   "cell_type": "markdown",
   "id": "f57a0bac",
   "metadata": {
    "papermill": {
     "duration": 0.036575,
     "end_time": "2025-07-28T10:46:29.478541",
     "exception": false,
     "start_time": "2025-07-28T10:46:29.441966",
     "status": "completed"
    },
    "tags": []
   },
   "source": [
    "# Final Output"
   ]
  },
  {
   "cell_type": "code",
   "execution_count": 70,
   "id": "96d280a3",
   "metadata": {
    "execution": {
     "iopub.execute_input": "2025-07-28T10:46:29.552698Z",
     "iopub.status.busy": "2025-07-28T10:46:29.551912Z",
     "iopub.status.idle": "2025-07-28T10:46:29.561362Z",
     "shell.execute_reply": "2025-07-28T10:46:29.560511Z"
    },
    "papermill": {
     "duration": 0.04864,
     "end_time": "2025-07-28T10:46:29.563132",
     "exception": false,
     "start_time": "2025-07-28T10:46:29.514492",
     "status": "completed"
    },
    "tags": []
   },
   "outputs": [
    {
     "data": {
      "text/plain": [
       "4"
      ]
     },
     "execution_count": 70,
     "metadata": {},
     "output_type": "execute_result"
    }
   ],
   "source": [
    "sub_universes = universe_analysis.generate_sub_universes()\n",
    "len(sub_universes)"
   ]
  },
  {
   "cell_type": "code",
   "execution_count": 71,
   "id": "92adf7ba",
   "metadata": {
    "execution": {
     "iopub.execute_input": "2025-07-28T10:46:29.626389Z",
     "iopub.status.busy": "2025-07-28T10:46:29.625504Z",
     "iopub.status.idle": "2025-07-28T10:46:29.632797Z",
     "shell.execute_reply": "2025-07-28T10:46:29.631623Z"
    },
    "papermill": {
     "duration": 0.041844,
     "end_time": "2025-07-28T10:46:29.634759",
     "exception": false,
     "start_time": "2025-07-28T10:46:29.592915",
     "status": "completed"
    },
    "tags": []
   },
   "outputs": [],
   "source": [
    "def filter_sub_universe_data(sub_universe, org_test):\n",
    "    # Keep all rows — no filtering\n",
    "    keep_rows_mask = np.ones(org_test.shape[0], dtype=bool)\n",
    "\n",
    "    print(f\"[INFO] Keeping all rows: {keep_rows_mask.sum()} rows retained.\")\n",
    "    return keep_rows_mask"
   ]
  },
  {
   "cell_type": "code",
   "execution_count": 72,
   "id": "4a759155",
   "metadata": {
    "execution": {
     "iopub.execute_input": "2025-07-28T10:46:29.688841Z",
     "iopub.status.busy": "2025-07-28T10:46:29.688455Z",
     "iopub.status.idle": "2025-07-28T10:46:40.349786Z",
     "shell.execute_reply": "2025-07-28T10:46:40.348593Z"
    },
    "papermill": {
     "duration": 10.683725,
     "end_time": "2025-07-28T10:46:40.351607",
     "exception": false,
     "start_time": "2025-07-28T10:46:29.667882",
     "status": "completed"
    },
    "tags": []
   },
   "outputs": [
    {
     "name": "stdout",
     "output_type": "stream",
     "text": [
      "Stopping execution_time clock.\n",
      "[INFO] Keeping all rows: 89710 rows retained.\n"
     ]
    },
    {
     "name": "stdout",
     "output_type": "stream",
     "text": [
      "[INFO] Keeping all rows: 89710 rows retained.\n"
     ]
    },
    {
     "name": "stdout",
     "output_type": "stream",
     "text": [
      "[INFO] Keeping all rows: 89710 rows retained.\n"
     ]
    },
    {
     "name": "stdout",
     "output_type": "stream",
     "text": [
      "[INFO] Keeping all rows: 89710 rows retained.\n"
     ]
    },
    {
     "data": {
      "text/html": [
       "<div>\n",
       "<style scoped>\n",
       "    .dataframe tbody tr th:only-of-type {\n",
       "        vertical-align: middle;\n",
       "    }\n",
       "\n",
       "    .dataframe tbody tr th {\n",
       "        vertical-align: top;\n",
       "    }\n",
       "\n",
       "    .dataframe thead th {\n",
       "        text-align: right;\n",
       "    }\n",
       "</style>\n",
       "<table border=\"1\" class=\"dataframe\">\n",
       "  <thead>\n",
       "    <tr style=\"text-align: right;\">\n",
       "      <th></th>\n",
       "      <th>run_no</th>\n",
       "      <th>universe_id</th>\n",
       "      <th>universe_settings</th>\n",
       "      <th>execution_time</th>\n",
       "      <th>test_size_n</th>\n",
       "      <th>test_size_frac</th>\n",
       "      <th>fair_main_equalized_odds_difference</th>\n",
       "      <th>fair_main_equalized_odds_ratio</th>\n",
       "      <th>fair_main_demographic_parity_difference</th>\n",
       "      <th>fair_main_demographic_parity_ratio</th>\n",
       "      <th>...</th>\n",
       "      <th>perf_grp_precision_0</th>\n",
       "      <th>perf_grp_precision_1</th>\n",
       "      <th>perf_grp_false positive rate_0</th>\n",
       "      <th>perf_grp_false positive rate_1</th>\n",
       "      <th>perf_grp_false negative rate_0</th>\n",
       "      <th>perf_grp_false negative rate_1</th>\n",
       "      <th>perf_grp_selection rate_0</th>\n",
       "      <th>perf_grp_selection rate_1</th>\n",
       "      <th>perf_grp_count_0</th>\n",
       "      <th>perf_grp_count_1</th>\n",
       "    </tr>\n",
       "  </thead>\n",
       "  <tbody>\n",
       "    <tr>\n",
       "      <th>0</th>\n",
       "      <td>11</td>\n",
       "      <td>dde87a87792cd79fdfd84e846c406656</td>\n",
       "      <td>{\"cutoff\": \"quantile_0.1\", \"eval_fairness_grou...</td>\n",
       "      <td>32.115871</td>\n",
       "      <td>89710</td>\n",
       "      <td>1.0</td>\n",
       "      <td>0.069166</td>\n",
       "      <td>0.926545</td>\n",
       "      <td>0.060806</td>\n",
       "      <td>0.935783</td>\n",
       "      <td>...</td>\n",
       "      <td>NaN</td>\n",
       "      <td>NaN</td>\n",
       "      <td>NaN</td>\n",
       "      <td>NaN</td>\n",
       "      <td>NaN</td>\n",
       "      <td>NaN</td>\n",
       "      <td>NaN</td>\n",
       "      <td>NaN</td>\n",
       "      <td>NaN</td>\n",
       "      <td>NaN</td>\n",
       "    </tr>\n",
       "    <tr>\n",
       "      <th>0</th>\n",
       "      <td>11</td>\n",
       "      <td>dde87a87792cd79fdfd84e846c406656</td>\n",
       "      <td>{\"cutoff\": \"quantile_0.1\", \"eval_fairness_grou...</td>\n",
       "      <td>32.115871</td>\n",
       "      <td>89710</td>\n",
       "      <td>1.0</td>\n",
       "      <td>0.069166</td>\n",
       "      <td>0.926545</td>\n",
       "      <td>0.060806</td>\n",
       "      <td>0.935783</td>\n",
       "      <td>...</td>\n",
       "      <td>0.120212</td>\n",
       "      <td>0.145489</td>\n",
       "      <td>0.941613</td>\n",
       "      <td>0.872447</td>\n",
       "      <td>0.012669</td>\n",
       "      <td>0.024398</td>\n",
       "      <td>0.946884</td>\n",
       "      <td>0.886078</td>\n",
       "      <td>20540.0</td>\n",
       "      <td>69170.0</td>\n",
       "    </tr>\n",
       "    <tr>\n",
       "      <th>0</th>\n",
       "      <td>11</td>\n",
       "      <td>dde87a87792cd79fdfd84e846c406656</td>\n",
       "      <td>{\"cutoff\": \"quantile_0.25\", \"eval_fairness_gro...</td>\n",
       "      <td>32.115871</td>\n",
       "      <td>89710</td>\n",
       "      <td>1.0</td>\n",
       "      <td>0.150727</td>\n",
       "      <td>0.820616</td>\n",
       "      <td>0.134501</td>\n",
       "      <td>0.842449</td>\n",
       "      <td>...</td>\n",
       "      <td>NaN</td>\n",
       "      <td>NaN</td>\n",
       "      <td>NaN</td>\n",
       "      <td>NaN</td>\n",
       "      <td>NaN</td>\n",
       "      <td>NaN</td>\n",
       "      <td>NaN</td>\n",
       "      <td>NaN</td>\n",
       "      <td>NaN</td>\n",
       "      <td>NaN</td>\n",
       "    </tr>\n",
       "    <tr>\n",
       "      <th>0</th>\n",
       "      <td>11</td>\n",
       "      <td>dde87a87792cd79fdfd84e846c406656</td>\n",
       "      <td>{\"cutoff\": \"quantile_0.25\", \"eval_fairness_gro...</td>\n",
       "      <td>32.115871</td>\n",
       "      <td>89710</td>\n",
       "      <td>1.0</td>\n",
       "      <td>0.150727</td>\n",
       "      <td>0.820616</td>\n",
       "      <td>0.134501</td>\n",
       "      <td>0.842449</td>\n",
       "      <td>...</td>\n",
       "      <td>0.129227</td>\n",
       "      <td>0.167950</td>\n",
       "      <td>0.840249</td>\n",
       "      <td>0.689522</td>\n",
       "      <td>0.043074</td>\n",
       "      <td>0.085886</td>\n",
       "      <td>0.853700</td>\n",
       "      <td>0.719199</td>\n",
       "      <td>20540.0</td>\n",
       "      <td>69170.0</td>\n",
       "    </tr>\n",
       "  </tbody>\n",
       "</table>\n",
       "<p>4 rows × 50 columns</p>\n",
       "</div>"
      ],
      "text/plain": [
       "  run_no                       universe_id  \\\n",
       "0     11  dde87a87792cd79fdfd84e846c406656   \n",
       "0     11  dde87a87792cd79fdfd84e846c406656   \n",
       "0     11  dde87a87792cd79fdfd84e846c406656   \n",
       "0     11  dde87a87792cd79fdfd84e846c406656   \n",
       "\n",
       "                                   universe_settings  execution_time  \\\n",
       "0  {\"cutoff\": \"quantile_0.1\", \"eval_fairness_grou...       32.115871   \n",
       "0  {\"cutoff\": \"quantile_0.1\", \"eval_fairness_grou...       32.115871   \n",
       "0  {\"cutoff\": \"quantile_0.25\", \"eval_fairness_gro...       32.115871   \n",
       "0  {\"cutoff\": \"quantile_0.25\", \"eval_fairness_gro...       32.115871   \n",
       "\n",
       "   test_size_n  test_size_frac  fair_main_equalized_odds_difference  \\\n",
       "0        89710             1.0                             0.069166   \n",
       "0        89710             1.0                             0.069166   \n",
       "0        89710             1.0                             0.150727   \n",
       "0        89710             1.0                             0.150727   \n",
       "\n",
       "   fair_main_equalized_odds_ratio  fair_main_demographic_parity_difference  \\\n",
       "0                        0.926545                                 0.060806   \n",
       "0                        0.926545                                 0.060806   \n",
       "0                        0.820616                                 0.134501   \n",
       "0                        0.820616                                 0.134501   \n",
       "\n",
       "   fair_main_demographic_parity_ratio  ...  perf_grp_precision_0  \\\n",
       "0                            0.935783  ...                   NaN   \n",
       "0                            0.935783  ...              0.120212   \n",
       "0                            0.842449  ...                   NaN   \n",
       "0                            0.842449  ...              0.129227   \n",
       "\n",
       "   perf_grp_precision_1  perf_grp_false positive rate_0  \\\n",
       "0                   NaN                             NaN   \n",
       "0              0.145489                        0.941613   \n",
       "0                   NaN                             NaN   \n",
       "0              0.167950                        0.840249   \n",
       "\n",
       "   perf_grp_false positive rate_1  perf_grp_false negative rate_0  \\\n",
       "0                             NaN                             NaN   \n",
       "0                        0.872447                        0.012669   \n",
       "0                             NaN                             NaN   \n",
       "0                        0.689522                        0.043074   \n",
       "\n",
       "   perf_grp_false negative rate_1  perf_grp_selection rate_0  \\\n",
       "0                             NaN                        NaN   \n",
       "0                        0.024398                   0.946884   \n",
       "0                             NaN                        NaN   \n",
       "0                        0.085886                   0.853700   \n",
       "\n",
       "   perf_grp_selection rate_1  perf_grp_count_0  perf_grp_count_1  \n",
       "0                        NaN               NaN               NaN  \n",
       "0                   0.886078           20540.0           69170.0  \n",
       "0                        NaN               NaN               NaN  \n",
       "0                   0.719199           20540.0           69170.0  \n",
       "\n",
       "[4 rows x 50 columns]"
      ]
     },
     "execution_count": 72,
     "metadata": {},
     "output_type": "execute_result"
    }
   ],
   "source": [
    "final_output = universe_analysis.generate_final_output(\n",
    "    y_pred_prob=probs_test,\n",
    "    y_test=y_true,\n",
    "    org_test=org_test,\n",
    "    filter_data=filter_sub_universe_data,\n",
    "    cp_metrics_df=cp_metrics_df,\n",
    "    save=True,\n",
    ")\n",
    "final_output"
   ]
  },
  {
   "cell_type": "code",
   "execution_count": null,
   "id": "721ff514-cb11-46f8-b6fc-50392f74b5cb",
   "metadata": {
    "papermill": {
     "duration": 0.030147,
     "end_time": "2025-07-28T10:46:40.413769",
     "exception": false,
     "start_time": "2025-07-28T10:46:40.383622",
     "status": "completed"
    },
    "tags": []
   },
   "outputs": [],
   "source": []
  }
 ],
 "metadata": {
  "celltoolbar": "Tags",
  "kernelspec": {
   "display_name": "Python (CMA Fairness)",
   "language": "python",
   "name": "cma_fair_env"
  },
  "language_info": {
   "codemirror_mode": {
    "name": "ipython",
    "version": 3
   },
   "file_extension": ".py",
   "mimetype": "text/x-python",
   "name": "python",
   "nbconvert_exporter": "python",
   "pygments_lexer": "ipython3",
   "version": "3.10.12"
  },
  "papermill": {
   "default_parameters": {},
   "duration": 47.661678,
   "end_time": "2025-07-28T10:46:41.564021",
   "environment_variables": {},
   "exception": null,
   "input_path": "universe_analysis.ipynb",
   "output_path": "output/runs/11/notebooks/m_11-dde87a87792cd79fdfd84e846c406656.ipynb",
   "parameters": {
    "output_dir": "output",
    "run_no": "11",
    "seed": "2023",
    "universe": "{\"cutoff\": [\"quantile_0.1\", \"quantile_0.25\"], \"eval_fairness_grouping\": [\"majority-minority\", \"nationality-all\"], \"exclude_features\": \"nationality-sex\", \"exclude_subgroups\": \"drop-non-german\", \"model\": \"gbm\", \"scale\": \"scale\", \"training_size\": \"1k\"}",
    "universe_id": "dde87a87792cd79fdfd84e846c406656"
   },
   "start_time": "2025-07-28T10:45:53.902343",
   "version": "2.6.0"
  }
 },
 "nbformat": 4,
 "nbformat_minor": 5
}