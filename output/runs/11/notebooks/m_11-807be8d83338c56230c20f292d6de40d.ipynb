{
 "cells": [
  {
   "cell_type": "code",
   "execution_count": 1,
   "id": "f159f837-637b-42ba-96b5-ec9a68c44524",
   "metadata": {
    "execution": {
     "iopub.execute_input": "2025-07-28T10:54:50.076084Z",
     "iopub.status.busy": "2025-07-28T10:54:50.075498Z",
     "iopub.status.idle": "2025-07-28T10:54:50.091572Z",
     "shell.execute_reply": "2025-07-28T10:54:50.090450Z"
    },
    "papermill": {
     "duration": 0.047459,
     "end_time": "2025-07-28T10:54:50.093935",
     "exception": false,
     "start_time": "2025-07-28T10:54:50.046476",
     "status": "completed"
    },
    "tags": []
   },
   "outputs": [
    {
     "name": "stdout",
     "output_type": "stream",
     "text": [
      "/dss/dsshome1/0C/ra93lal2/cma/CMA_Fairness_v2\n"
     ]
    },
    {
     "name": "stderr",
     "output_type": "stream",
     "text": [
      "/dss/dsshome1/0C/ra93lal2/.local/share/virtualenvs/CMA_Fairness_v2-3j10GkSs/lib/python3.10/site-packages/IPython/core/magics/osm.py:393: UserWarning: This is now an optional IPython functionality, using bookmarks requires you to install the `pickleshare` library.\n",
      "  bkms = self.shell.db.get('bookmarks', {})\n",
      "/dss/dsshome1/0C/ra93lal2/.local/share/virtualenvs/CMA_Fairness_v2-3j10GkSs/lib/python3.10/site-packages/IPython/core/magics/osm.py:417: UserWarning: This is now an optional IPython functionality, setting dhist requires you to install the `pickleshare` library.\n",
      "  self.shell.db['dhist'] = compress_dhist(dhist)[-100:]\n"
     ]
    }
   ],
   "source": [
    "%cd ~/cma/CMA_Fairness_v2"
   ]
  },
  {
   "cell_type": "markdown",
   "id": "de2603b9",
   "metadata": {
    "papermill": {
     "duration": 0.028683,
     "end_time": "2025-07-28T10:54:50.150292",
     "exception": false,
     "start_time": "2025-07-28T10:54:50.121609",
     "status": "completed"
    },
    "tags": []
   },
   "source": [
    "The following cell holds the definition of our parameters, these values can be overriden by rendering the with e.g. the following command:\n",
    "\n",
    "papermill -p alpha 0.2 -p ratio 0.3 universe_analysis.ipynb output/test_run.ipynb"
   ]
  },
  {
   "cell_type": "code",
   "execution_count": 2,
   "id": "a80968a0-40bb-4fa9-85ef-2d5eefb01975",
   "metadata": {
    "execution": {
     "iopub.execute_input": "2025-07-28T10:54:50.206163Z",
     "iopub.status.busy": "2025-07-28T10:54:50.204863Z",
     "iopub.status.idle": "2025-07-28T10:54:50.211706Z",
     "shell.execute_reply": "2025-07-28T10:54:50.210732Z"
    },
    "papermill": {
     "duration": 0.041673,
     "end_time": "2025-07-28T10:54:50.218100",
     "exception": false,
     "start_time": "2025-07-28T10:54:50.176427",
     "status": "completed"
    },
    "tags": []
   },
   "outputs": [
    {
     "name": "stdout",
     "output_type": "stream",
     "text": [
      "Current working directory: /dss/dsshome1/0C/ra93lal2/cma/CMA_Fairness_v2\n"
     ]
    }
   ],
   "source": [
    "import os\n",
    "print(\"Current working directory:\", os.getcwd())"
   ]
  },
  {
   "cell_type": "code",
   "execution_count": 3,
   "id": "2dce4c03",
   "metadata": {
    "execution": {
     "iopub.execute_input": "2025-07-28T10:54:50.261507Z",
     "iopub.status.busy": "2025-07-28T10:54:50.260833Z",
     "iopub.status.idle": "2025-07-28T10:54:50.267843Z",
     "shell.execute_reply": "2025-07-28T10:54:50.266801Z"
    },
    "papermill": {
     "duration": 0.031003,
     "end_time": "2025-07-28T10:54:50.269928",
     "exception": false,
     "start_time": "2025-07-28T10:54:50.238925",
     "status": "completed"
    },
    "tags": [
     "parameters"
    ]
   },
   "outputs": [],
   "source": [
    "run_no = 0\n",
    "universe_id = \"test\"\n",
    "universe = {\n",
    "    \"training_size\": \"2014\", # \"25k\", \"5k\", \"1k\", \"2014\"\n",
    "    \"scale\": \"scale\", # \"scale\", \"do-not-scale\",\n",
    "    #\"stratify_split\": \"target\", # \"none\", \"target\", \"protected-attribute\", \"both\",\n",
    "    \"model\": \"elasticnet\", # \"logreg\", \"penalized_logreg\", \"rf\", \"gbm\", \"elasticnet\"\n",
    "    \"cutoff\": [\"quantile_0.15\", \"quantile_0.30\"],\n",
    "    \"exclude_features\": \"age\", # \"none\", \"nationality\", \"sex\", \"nationality-sex\", \"age\"\n",
    "    \"exclude_subgroups\": \"keep-all\", # \"keep-all\", \"drop-non-german\"\n",
    "    \"eval_fairness_grouping\": [\"majority-minority\", \"nationality-all\"]\n",
    "}\n",
    "\n",
    "output_dir=\"./output\"\n",
    "seed=0"
   ]
  },
  {
   "cell_type": "code",
   "execution_count": 4,
   "id": "3414e1a8",
   "metadata": {
    "execution": {
     "iopub.execute_input": "2025-07-28T10:54:50.314854Z",
     "iopub.status.busy": "2025-07-28T10:54:50.314350Z",
     "iopub.status.idle": "2025-07-28T10:54:50.320151Z",
     "shell.execute_reply": "2025-07-28T10:54:50.319095Z"
    },
    "papermill": {
     "duration": 0.030917,
     "end_time": "2025-07-28T10:54:50.322453",
     "exception": false,
     "start_time": "2025-07-28T10:54:50.291536",
     "status": "completed"
    },
    "tags": [
     "injected-parameters"
    ]
   },
   "outputs": [],
   "source": [
    "# Parameters\n",
    "universe_id = \"807be8d83338c56230c20f292d6de40d\"\n",
    "run_no = \"11\"\n",
    "universe = \"{\\\"cutoff\\\": [\\\"quantile_0.1\\\", \\\"quantile_0.25\\\"], \\\"eval_fairness_grouping\\\": [\\\"majority-minority\\\", \\\"nationality-all\\\"], \\\"exclude_features\\\": \\\"nationality-sex\\\", \\\"exclude_subgroups\\\": \\\"keep-all\\\", \\\"model\\\": \\\"penalized_logreg\\\", \\\"scale\\\": \\\"scale\\\", \\\"training_size\\\": \\\"2014\\\"}\"\n",
    "output_dir = \"output\"\n",
    "seed = \"2023\"\n"
   ]
  },
  {
   "cell_type": "code",
   "execution_count": 5,
   "id": "1650acaf",
   "metadata": {
    "execution": {
     "iopub.execute_input": "2025-07-28T10:54:50.416936Z",
     "iopub.status.busy": "2025-07-28T10:54:50.416401Z",
     "iopub.status.idle": "2025-07-28T10:54:50.421760Z",
     "shell.execute_reply": "2025-07-28T10:54:50.420785Z"
    },
    "papermill": {
     "duration": 0.027302,
     "end_time": "2025-07-28T10:54:50.423287",
     "exception": false,
     "start_time": "2025-07-28T10:54:50.395985",
     "status": "completed"
    },
    "tags": []
   },
   "outputs": [],
   "source": [
    "import json\n",
    "# Parse universe into dict if it is passed as a string\n",
    "if isinstance(universe, str):\n",
    "    universe = json.loads(universe)"
   ]
  },
  {
   "cell_type": "code",
   "execution_count": 6,
   "id": "16620c48",
   "metadata": {
    "execution": {
     "iopub.execute_input": "2025-07-28T10:54:50.446936Z",
     "iopub.status.busy": "2025-07-28T10:54:50.446539Z",
     "iopub.status.idle": "2025-07-28T10:54:50.497407Z",
     "shell.execute_reply": "2025-07-28T10:54:50.496261Z"
    },
    "papermill": {
     "duration": 0.06515,
     "end_time": "2025-07-28T10:54:50.499820",
     "exception": false,
     "start_time": "2025-07-28T10:54:50.434670",
     "status": "completed"
    },
    "tags": []
   },
   "outputs": [],
   "source": [
    "# Auto-reload the custom package\n",
    "%load_ext autoreload\n",
    "%autoreload 1\n",
    "%aimport fairness_multiverse"
   ]
  },
  {
   "cell_type": "code",
   "execution_count": 7,
   "id": "01c5c9f3",
   "metadata": {
    "execution": {
     "iopub.execute_input": "2025-07-28T10:54:50.557576Z",
     "iopub.status.busy": "2025-07-28T10:54:50.556999Z",
     "iopub.status.idle": "2025-07-28T10:54:52.585303Z",
     "shell.execute_reply": "2025-07-28T10:54:52.584233Z"
    },
    "papermill": {
     "duration": 2.059878,
     "end_time": "2025-07-28T10:54:52.587614",
     "exception": false,
     "start_time": "2025-07-28T10:54:50.527736",
     "status": "completed"
    },
    "tags": []
   },
   "outputs": [],
   "source": [
    "from fairness_multiverse.universe import UniverseAnalysis\n",
    "\n",
    "universe_analysis = UniverseAnalysis(\n",
    "    run_no = run_no,\n",
    "    universe_id = universe_id,\n",
    "    universe = universe,\n",
    "    output_dir=output_dir,\n",
    ")"
   ]
  },
  {
   "cell_type": "code",
   "execution_count": 8,
   "id": "106241f5",
   "metadata": {
    "execution": {
     "iopub.execute_input": "2025-07-28T10:54:52.633465Z",
     "iopub.status.busy": "2025-07-28T10:54:52.633063Z",
     "iopub.status.idle": "2025-07-28T10:54:52.638792Z",
     "shell.execute_reply": "2025-07-28T10:54:52.637950Z"
    },
    "papermill": {
     "duration": 0.030012,
     "end_time": "2025-07-28T10:54:52.640609",
     "exception": false,
     "start_time": "2025-07-28T10:54:52.610597",
     "status": "completed"
    },
    "tags": []
   },
   "outputs": [
    {
     "name": "stdout",
     "output_type": "stream",
     "text": [
      "Using Seed: 2023\n"
     ]
    }
   ],
   "source": [
    "import numpy as np\n",
    "parsed_seed = int(seed)\n",
    "np.random.seed(parsed_seed)\n",
    "print(f\"Using Seed: {parsed_seed}\")"
   ]
  },
  {
   "cell_type": "markdown",
   "id": "e0ebdc57",
   "metadata": {
    "papermill": {
     "duration": 0.022788,
     "end_time": "2025-07-28T10:54:52.685787",
     "exception": false,
     "start_time": "2025-07-28T10:54:52.662999",
     "status": "completed"
    },
    "tags": []
   },
   "source": [
    "# Loading Data"
   ]
  },
  {
   "cell_type": "markdown",
   "id": "681925a3",
   "metadata": {
    "papermill": {
     "duration": 0.021589,
     "end_time": "2025-07-28T10:54:52.730253",
     "exception": false,
     "start_time": "2025-07-28T10:54:52.708664",
     "status": "completed"
    },
    "tags": []
   },
   "source": [
    "Load siab_train, siab_test, siab_calib and/or \n",
    "load siab_train_features, siab_train_labels"
   ]
  },
  {
   "cell_type": "code",
   "execution_count": 9,
   "id": "f0496b8a",
   "metadata": {
    "execution": {
     "iopub.execute_input": "2025-07-28T10:54:52.774534Z",
     "iopub.status.busy": "2025-07-28T10:54:52.773960Z",
     "iopub.status.idle": "2025-07-28T10:55:04.822113Z",
     "shell.execute_reply": "2025-07-28T10:55:04.820784Z"
    },
    "papermill": {
     "duration": 12.072789,
     "end_time": "2025-07-28T10:55:04.824233",
     "exception": false,
     "start_time": "2025-07-28T10:54:52.751444",
     "status": "completed"
    },
    "tags": []
   },
   "outputs": [
    {
     "name": "stdout",
     "output_type": "stream",
     "text": [
      "Loading SIAB data from cache: data/siab_cached.csv.gz\n"
     ]
    },
    {
     "name": "stdout",
     "output_type": "stream",
     "text": [
      "(643690, 164)\n"
     ]
    }
   ],
   "source": [
    "from pathlib import Path\n",
    "import pandas as pd\n",
    "\n",
    "# File paths\n",
    "raw_file = Path(\"data/raw/siab.csv\")\n",
    "cache_file = Path(\"data/siab_cached.csv.gz\")\n",
    "\n",
    "# Ensure cache directory exists\n",
    "cache_file.parent.mkdir(parents=True, exist_ok=True)\n",
    "\n",
    "# Load with simple caching\n",
    "if cache_file.exists():\n",
    "    print(f\"Loading SIAB data from cache: {cache_file}\")\n",
    "    siab = pd.read_csv(cache_file, compression='gzip')\n",
    "else:\n",
    "    print(f\"Cache not found. Reading raw SIAB data: {raw_file}\")\n",
    "    siab = pd.read_csv(raw_file)\n",
    "    siab.to_csv(cache_file, index=False, compression='gzip')\n",
    "    print(f\"Cached SIAB data to: {cache_file}\")\n",
    "\n",
    "# Now use `siab` DataFrame as needed\n",
    "print(siab.shape)"
   ]
  },
  {
   "cell_type": "code",
   "execution_count": 10,
   "id": "db0ca512-5f53-4dba-abdb-a2888bca41ba",
   "metadata": {
    "execution": {
     "iopub.execute_input": "2025-07-28T10:55:04.878019Z",
     "iopub.status.busy": "2025-07-28T10:55:04.877044Z",
     "iopub.status.idle": "2025-07-28T10:55:04.883712Z",
     "shell.execute_reply": "2025-07-28T10:55:04.882692Z"
    },
    "papermill": {
     "duration": 0.035558,
     "end_time": "2025-07-28T10:55:04.885644",
     "exception": false,
     "start_time": "2025-07-28T10:55:04.850086",
     "status": "completed"
    },
    "tags": []
   },
   "outputs": [],
   "source": [
    "#siab"
   ]
  },
  {
   "cell_type": "code",
   "execution_count": 11,
   "id": "a0edb063",
   "metadata": {
    "execution": {
     "iopub.execute_input": "2025-07-28T10:55:04.932835Z",
     "iopub.status.busy": "2025-07-28T10:55:04.931671Z",
     "iopub.status.idle": "2025-07-28T10:55:04.937456Z",
     "shell.execute_reply": "2025-07-28T10:55:04.936405Z"
    },
    "papermill": {
     "duration": 0.030989,
     "end_time": "2025-07-28T10:55:04.939274",
     "exception": false,
     "start_time": "2025-07-28T10:55:04.908285",
     "status": "completed"
    },
    "tags": []
   },
   "outputs": [],
   "source": [
    "#import pandas as pd\n",
    "#\n",
    "#X_train = pd.read_csv(\"./data/X_train.csv\")\n",
    "#y_train = pd.read_csv(\"./data/y_train.csv\")"
   ]
  },
  {
   "cell_type": "code",
   "execution_count": 12,
   "id": "63d08085",
   "metadata": {
    "execution": {
     "iopub.execute_input": "2025-07-28T10:55:04.985995Z",
     "iopub.status.busy": "2025-07-28T10:55:04.985340Z",
     "iopub.status.idle": "2025-07-28T10:55:04.991240Z",
     "shell.execute_reply": "2025-07-28T10:55:04.989880Z"
    },
    "papermill": {
     "duration": 0.031485,
     "end_time": "2025-07-28T10:55:04.993326",
     "exception": false,
     "start_time": "2025-07-28T10:55:04.961841",
     "status": "completed"
    },
    "tags": []
   },
   "outputs": [],
   "source": [
    "#X_test = pd.read_csv(\"./data/X_test.csv\")\n",
    "#y_true = pd.read_csv(\"./data/y_test.csv\")"
   ]
  },
  {
   "cell_type": "code",
   "execution_count": 13,
   "id": "98a8d0fa-1d3d-4ed8-bb2c-281470e24add",
   "metadata": {
    "execution": {
     "iopub.execute_input": "2025-07-28T10:55:05.046739Z",
     "iopub.status.busy": "2025-07-28T10:55:05.046114Z",
     "iopub.status.idle": "2025-07-28T10:55:05.052164Z",
     "shell.execute_reply": "2025-07-28T10:55:05.050928Z"
    },
    "papermill": {
     "duration": 0.035565,
     "end_time": "2025-07-28T10:55:05.054138",
     "exception": false,
     "start_time": "2025-07-28T10:55:05.018573",
     "status": "completed"
    },
    "tags": []
   },
   "outputs": [],
   "source": [
    "# Calibration data for conformal\n",
    "#X_calib = pd.read_csv(\"./data/X_calib.csv\")\n",
    "#y_calib = pd.read_csv(\"./data/y_calib.csv\")"
   ]
  },
  {
   "cell_type": "markdown",
   "id": "9901737e-04df-44f0-9100-f5ad144ed040",
   "metadata": {
    "papermill": {
     "duration": 0.010822,
     "end_time": "2025-07-28T10:55:05.082586",
     "exception": false,
     "start_time": "2025-07-28T10:55:05.071764",
     "status": "completed"
    },
    "tags": []
   },
   "source": [
    "# Splitting Data and Setting Training Data Size"
   ]
  },
  {
   "cell_type": "code",
   "execution_count": 14,
   "id": "acbc8f7d-8fc8-4e86-8c59-5dcb0f58384b",
   "metadata": {
    "execution": {
     "iopub.execute_input": "2025-07-28T10:55:05.105656Z",
     "iopub.status.busy": "2025-07-28T10:55:05.105285Z",
     "iopub.status.idle": "2025-07-28T10:55:05.112083Z",
     "shell.execute_reply": "2025-07-28T10:55:05.111226Z"
    },
    "papermill": {
     "duration": 0.019903,
     "end_time": "2025-07-28T10:55:05.113470",
     "exception": false,
     "start_time": "2025-07-28T10:55:05.093567",
     "status": "completed"
    },
    "tags": []
   },
   "outputs": [],
   "source": [
    "def sample_by_year(df, training_size, random_state=42):\n",
    "    if training_size == \"2014\":\n",
    "        return df[df[\"year\"] == 2014].reset_index(drop=True)\n",
    "    \n",
    "    size_map = {\n",
    "        \"25k\": 5000,\n",
    "        \"5k\": 1000,\n",
    "        \"1k\": 200\n",
    "    }\n",
    "\n",
    "    if training_size not in size_map:\n",
    "        return df.reset_index(drop=True)  # use all data\n",
    "\n",
    "    n_per_year = size_map[training_size]\n",
    "    grouped = df.groupby(\"year\")\n",
    "    sampled = grouped.apply(lambda x: x.sample(n=min(n_per_year, len(x)), random_state=random_state))\n",
    "    return sampled.reset_index(drop=True)"
   ]
  },
  {
   "cell_type": "code",
   "execution_count": 15,
   "id": "6d931f52-beaf-43ff-9e78-9d44a448d54e",
   "metadata": {
    "execution": {
     "iopub.execute_input": "2025-07-28T10:55:05.137117Z",
     "iopub.status.busy": "2025-07-28T10:55:05.136598Z",
     "iopub.status.idle": "2025-07-28T10:55:05.315147Z",
     "shell.execute_reply": "2025-07-28T10:55:05.314307Z"
    },
    "papermill": {
     "duration": 0.192675,
     "end_time": "2025-07-28T10:55:05.317569",
     "exception": false,
     "start_time": "2025-07-28T10:55:05.124894",
     "status": "completed"
    },
    "tags": []
   },
   "outputs": [],
   "source": [
    "siab_s = sample_by_year(siab, universe[\"training_size\"])"
   ]
  },
  {
   "cell_type": "code",
   "execution_count": 16,
   "id": "5db0a40e-a4e2-4920-be85-b12ae061d70d",
   "metadata": {
    "execution": {
     "iopub.execute_input": "2025-07-28T10:55:05.381588Z",
     "iopub.status.busy": "2025-07-28T10:55:05.380779Z",
     "iopub.status.idle": "2025-07-28T10:55:05.398348Z",
     "shell.execute_reply": "2025-07-28T10:55:05.397629Z"
    },
    "papermill": {
     "duration": 0.051652,
     "end_time": "2025-07-28T10:55:05.400436",
     "exception": false,
     "start_time": "2025-07-28T10:55:05.348784",
     "status": "completed"
    },
    "tags": []
   },
   "outputs": [
    {
     "data": {
      "text/plain": [
       "year\n",
       "2014    87158\n",
       "dtype: int64"
      ]
     },
     "metadata": {},
     "output_type": "display_data"
    }
   ],
   "source": [
    "display(siab_s.groupby(\"year\").size())"
   ]
  },
  {
   "cell_type": "code",
   "execution_count": 17,
   "id": "a561edb4-d032-42cb-8256-22eac1111c64",
   "metadata": {
    "execution": {
     "iopub.execute_input": "2025-07-28T10:55:05.466307Z",
     "iopub.status.busy": "2025-07-28T10:55:05.465847Z",
     "iopub.status.idle": "2025-07-28T10:55:05.776776Z",
     "shell.execute_reply": "2025-07-28T10:55:05.764259Z"
    },
    "papermill": {
     "duration": 0.345984,
     "end_time": "2025-07-28T10:55:05.779306",
     "exception": false,
     "start_time": "2025-07-28T10:55:05.433322",
     "status": "completed"
    },
    "tags": []
   },
   "outputs": [],
   "source": [
    "siab_train = siab_s[siab_s.year < 2015]\n",
    "siab_calib = siab[siab.year == 2015]\n",
    "siab_test = siab[siab.year == 2016]"
   ]
  },
  {
   "cell_type": "code",
   "execution_count": 18,
   "id": "472de16f-c3db-4916-846b-1f0de9cf1746",
   "metadata": {
    "execution": {
     "iopub.execute_input": "2025-07-28T10:55:05.832282Z",
     "iopub.status.busy": "2025-07-28T10:55:05.831695Z",
     "iopub.status.idle": "2025-07-28T10:55:05.887885Z",
     "shell.execute_reply": "2025-07-28T10:55:05.886807Z"
    },
    "papermill": {
     "duration": 0.080952,
     "end_time": "2025-07-28T10:55:05.889780",
     "exception": false,
     "start_time": "2025-07-28T10:55:05.808828",
     "status": "completed"
    },
    "tags": []
   },
   "outputs": [],
   "source": [
    "X_train = siab_train.iloc[:,4:164]\n",
    "y_train = siab_train.iloc[:, [3]]"
   ]
  },
  {
   "cell_type": "code",
   "execution_count": 19,
   "id": "828c96af-f43a-4ed6-ba47-8ac73a47d56c",
   "metadata": {
    "execution": {
     "iopub.execute_input": "2025-07-28T10:55:05.935149Z",
     "iopub.status.busy": "2025-07-28T10:55:05.934532Z",
     "iopub.status.idle": "2025-07-28T10:55:05.996314Z",
     "shell.execute_reply": "2025-07-28T10:55:05.995244Z"
    },
    "papermill": {
     "duration": 0.086433,
     "end_time": "2025-07-28T10:55:05.998434",
     "exception": false,
     "start_time": "2025-07-28T10:55:05.912001",
     "status": "completed"
    },
    "tags": []
   },
   "outputs": [],
   "source": [
    "X_calib = siab_calib.iloc[:,4:164]\n",
    "y_calib = siab_calib.iloc[:, [3]]"
   ]
  },
  {
   "cell_type": "code",
   "execution_count": 20,
   "id": "c34be9c3-6bd6-476e-acd3-845840e303be",
   "metadata": {
    "execution": {
     "iopub.execute_input": "2025-07-28T10:55:06.024478Z",
     "iopub.status.busy": "2025-07-28T10:55:06.024050Z",
     "iopub.status.idle": "2025-07-28T10:55:06.081926Z",
     "shell.execute_reply": "2025-07-28T10:55:06.080554Z"
    },
    "papermill": {
     "duration": 0.072804,
     "end_time": "2025-07-28T10:55:06.083960",
     "exception": false,
     "start_time": "2025-07-28T10:55:06.011156",
     "status": "completed"
    },
    "tags": []
   },
   "outputs": [],
   "source": [
    "X_test = siab_test.iloc[:,4:164]\n",
    "y_true = siab_test.iloc[:, [3]]"
   ]
  },
  {
   "cell_type": "code",
   "execution_count": 21,
   "id": "e6c733c5",
   "metadata": {
    "execution": {
     "iopub.execute_input": "2025-07-28T10:55:06.127857Z",
     "iopub.status.busy": "2025-07-28T10:55:06.126975Z",
     "iopub.status.idle": "2025-07-28T10:55:06.352347Z",
     "shell.execute_reply": "2025-07-28T10:55:06.351178Z"
    },
    "papermill": {
     "duration": 0.247243,
     "end_time": "2025-07-28T10:55:06.354098",
     "exception": false,
     "start_time": "2025-07-28T10:55:06.106855",
     "status": "completed"
    },
    "tags": []
   },
   "outputs": [],
   "source": [
    "# Auxiliary data needed downstream in the pipeline\n",
    "\n",
    "org_train = X_train.copy()\n",
    "org_test = X_test.copy()\n",
    "org_calib = X_calib.copy()"
   ]
  },
  {
   "cell_type": "markdown",
   "id": "0a4a1b33",
   "metadata": {
    "papermill": {
     "duration": 0.024002,
     "end_time": "2025-07-28T10:55:06.400817",
     "exception": false,
     "start_time": "2025-07-28T10:55:06.376815",
     "status": "completed"
    },
    "tags": []
   },
   "source": [
    "# Preprocessing Data"
   ]
  },
  {
   "cell_type": "code",
   "execution_count": 22,
   "id": "ca879031",
   "metadata": {
    "execution": {
     "iopub.execute_input": "2025-07-28T10:55:06.449892Z",
     "iopub.status.busy": "2025-07-28T10:55:06.449347Z",
     "iopub.status.idle": "2025-07-28T10:55:06.456075Z",
     "shell.execute_reply": "2025-07-28T10:55:06.454958Z"
    },
    "papermill": {
     "duration": 0.033134,
     "end_time": "2025-07-28T10:55:06.457900",
     "exception": false,
     "start_time": "2025-07-28T10:55:06.424766",
     "status": "completed"
    },
    "tags": []
   },
   "outputs": [],
   "source": [
    "# EXCLUDE PROTECTED FEATURES\n",
    "# ----------------------\n",
    "# \"exclude_features\": \"none\", # \"nationality\", \"sex\", \"nationality-sex\"\n",
    "\n",
    "excluded_features = universe[\"exclude_features\"].split(\"-\") # split, e.g.: \"nationality-sex\" -> [\"nationality\", \"sex\"]\n",
    "excluded_features_dictionary = {\n",
    "    \"nationality\": [\"maxdeutsch1\", \"maxdeutsch.Missing.\"],\n",
    "    \"sex\": [\"frau1\"],\n",
    "    \"age\": [\"age\"],\n",
    "}\n"
   ]
  },
  {
   "cell_type": "code",
   "execution_count": 23,
   "id": "b745ac60",
   "metadata": {
    "execution": {
     "iopub.execute_input": "2025-07-28T10:55:06.488258Z",
     "iopub.status.busy": "2025-07-28T10:55:06.487820Z",
     "iopub.status.idle": "2025-07-28T10:55:06.493667Z",
     "shell.execute_reply": "2025-07-28T10:55:06.492543Z"
    },
    "papermill": {
     "duration": 0.019553,
     "end_time": "2025-07-28T10:55:06.495551",
     "exception": false,
     "start_time": "2025-07-28T10:55:06.475998",
     "status": "completed"
    },
    "tags": []
   },
   "outputs": [],
   "source": [
    "# Code nice names to column names\n",
    "\n",
    "excluded_features_columns = [\n",
    "    excluded_features_dictionary[f] for f in excluded_features if len(f) > 0 and f != \"none\"\n",
    "]"
   ]
  },
  {
   "cell_type": "code",
   "execution_count": 24,
   "id": "f84f73a2",
   "metadata": {
    "execution": {
     "iopub.execute_input": "2025-07-28T10:55:06.539889Z",
     "iopub.status.busy": "2025-07-28T10:55:06.538886Z",
     "iopub.status.idle": "2025-07-28T10:55:06.545614Z",
     "shell.execute_reply": "2025-07-28T10:55:06.544588Z"
    },
    "papermill": {
     "duration": 0.030532,
     "end_time": "2025-07-28T10:55:06.547389",
     "exception": false,
     "start_time": "2025-07-28T10:55:06.516857",
     "status": "completed"
    },
    "tags": []
   },
   "outputs": [],
   "source": [
    "from utils import flatten_once\n",
    "\n",
    "excluded_features_columns = flatten_once(excluded_features_columns)"
   ]
  },
  {
   "cell_type": "code",
   "execution_count": 25,
   "id": "884dea22",
   "metadata": {
    "execution": {
     "iopub.execute_input": "2025-07-28T10:55:06.590921Z",
     "iopub.status.busy": "2025-07-28T10:55:06.590103Z",
     "iopub.status.idle": "2025-07-28T10:55:06.653279Z",
     "shell.execute_reply": "2025-07-28T10:55:06.652240Z"
    },
    "papermill": {
     "duration": 0.087992,
     "end_time": "2025-07-28T10:55:06.655218",
     "exception": false,
     "start_time": "2025-07-28T10:55:06.567226",
     "status": "completed"
    },
    "tags": []
   },
   "outputs": [
    {
     "name": "stdout",
     "output_type": "stream",
     "text": [
      "Dropping features: ['maxdeutsch1', 'maxdeutsch.Missing.', 'frau1']\n"
     ]
    }
   ],
   "source": [
    "if len(excluded_features_columns) > 0:\n",
    "    print(f\"Dropping features: {excluded_features_columns}\")\n",
    "    X_train.drop(excluded_features_columns, axis=1, inplace=True)"
   ]
  },
  {
   "cell_type": "code",
   "execution_count": 26,
   "id": "95ab8b16",
   "metadata": {
    "execution": {
     "iopub.execute_input": "2025-07-28T10:55:06.707349Z",
     "iopub.status.busy": "2025-07-28T10:55:06.706722Z",
     "iopub.status.idle": "2025-07-28T10:55:06.767110Z",
     "shell.execute_reply": "2025-07-28T10:55:06.765747Z"
    },
    "papermill": {
     "duration": 0.08865,
     "end_time": "2025-07-28T10:55:06.769063",
     "exception": false,
     "start_time": "2025-07-28T10:55:06.680413",
     "status": "completed"
    },
    "tags": []
   },
   "outputs": [
    {
     "name": "stdout",
     "output_type": "stream",
     "text": [
      "Dropping features: ['maxdeutsch1', 'maxdeutsch.Missing.', 'frau1']\n"
     ]
    }
   ],
   "source": [
    "if len(excluded_features_columns) > 0:\n",
    "    print(f\"Dropping features: {excluded_features_columns}\")\n",
    "    X_test.drop(excluded_features_columns, axis=1, inplace=True)"
   ]
  },
  {
   "cell_type": "code",
   "execution_count": 27,
   "id": "1853aaf5-fb9f-46cb-a2b5-8ea4ae2237e4",
   "metadata": {
    "execution": {
     "iopub.execute_input": "2025-07-28T10:55:06.823170Z",
     "iopub.status.busy": "2025-07-28T10:55:06.822096Z",
     "iopub.status.idle": "2025-07-28T10:55:06.878285Z",
     "shell.execute_reply": "2025-07-28T10:55:06.877111Z"
    },
    "papermill": {
     "duration": 0.08454,
     "end_time": "2025-07-28T10:55:06.879711",
     "exception": false,
     "start_time": "2025-07-28T10:55:06.795171",
     "status": "completed"
    },
    "tags": []
   },
   "outputs": [
    {
     "name": "stdout",
     "output_type": "stream",
     "text": [
      "Dropping features: ['maxdeutsch1', 'maxdeutsch.Missing.', 'frau1']\n"
     ]
    }
   ],
   "source": [
    "if len(excluded_features_columns) > 0:\n",
    "    print(f\"Dropping features: {excluded_features_columns}\")\n",
    "    X_calib.drop(excluded_features_columns, axis=1, inplace=True)"
   ]
  },
  {
   "cell_type": "code",
   "execution_count": 28,
   "id": "6727d079-03e5-481e-9d38-292a90b7a0a8",
   "metadata": {
    "execution": {
     "iopub.execute_input": "2025-07-28T10:55:06.926034Z",
     "iopub.status.busy": "2025-07-28T10:55:06.925337Z",
     "iopub.status.idle": "2025-07-28T10:55:06.931182Z",
     "shell.execute_reply": "2025-07-28T10:55:06.930465Z"
    },
    "papermill": {
     "duration": 0.029624,
     "end_time": "2025-07-28T10:55:06.932585",
     "exception": false,
     "start_time": "2025-07-28T10:55:06.902961",
     "status": "completed"
    },
    "tags": []
   },
   "outputs": [],
   "source": [
    "# SPLIT & STRATIFY DATA\n",
    "# ----------------------"
   ]
  },
  {
   "cell_type": "code",
   "execution_count": 29,
   "id": "76c4dc6d",
   "metadata": {
    "execution": {
     "iopub.execute_input": "2025-07-28T10:55:06.956558Z",
     "iopub.status.busy": "2025-07-28T10:55:06.956146Z",
     "iopub.status.idle": "2025-07-28T10:55:06.961596Z",
     "shell.execute_reply": "2025-07-28T10:55:06.960517Z"
    },
    "papermill": {
     "duration": 0.020009,
     "end_time": "2025-07-28T10:55:06.963926",
     "exception": false,
     "start_time": "2025-07-28T10:55:06.943917",
     "status": "completed"
    },
    "tags": []
   },
   "outputs": [],
   "source": [
    "# EXCLUDE CERTAIN SUBGROUPS\n",
    "# ----------------------\n",
    "\n",
    "mode = universe.get(\"exclude_subgroups\", \"keep-all\") \n",
    "# Fetches the exclude_subgroups setting from the universe dict.\n",
    "# Defaults to \"keep-all\" if the key is missing."
   ]
  },
  {
   "cell_type": "code",
   "execution_count": 30,
   "id": "21994072",
   "metadata": {
    "execution": {
     "iopub.execute_input": "2025-07-28T10:55:07.025753Z",
     "iopub.status.busy": "2025-07-28T10:55:07.024931Z",
     "iopub.status.idle": "2025-07-28T10:55:07.033249Z",
     "shell.execute_reply": "2025-07-28T10:55:07.032162Z"
    },
    "papermill": {
     "duration": 0.04031,
     "end_time": "2025-07-28T10:55:07.035325",
     "exception": false,
     "start_time": "2025-07-28T10:55:06.995015",
     "status": "completed"
    },
    "tags": []
   },
   "outputs": [],
   "source": [
    "if mode == \"keep-all\":\n",
    "    keep_mask = pd.Series(True, index=org_train.index)\n",
    "\n",
    "# org_train contains the original feature columns from features_org (in Simson)\n",
    "# features_org contains unprocessed features, for me X_train at beginning ???\n",
    "# For keep-all, creates a boolean Series (keep_mask) of all True, so no rows are removed.\n",
    "\n",
    "elif mode == \"drop-non-german\":\n",
    "    keep_mask = org_train[\"maxdeutsch1\"] == 1 # ??? what about missing values?\n",
    "\n",
    "else:\n",
    "    raise ValueError(f\"Unsupported mode for exclude_subgroups: {mode}\")\n"
   ]
  },
  {
   "cell_type": "code",
   "execution_count": 31,
   "id": "71651440",
   "metadata": {
    "execution": {
     "iopub.execute_input": "2025-07-28T10:55:07.117482Z",
     "iopub.status.busy": "2025-07-28T10:55:07.116931Z",
     "iopub.status.idle": "2025-07-28T10:55:07.124236Z",
     "shell.execute_reply": "2025-07-28T10:55:07.123173Z"
    },
    "papermill": {
     "duration": 0.061774,
     "end_time": "2025-07-28T10:55:07.126249",
     "exception": false,
     "start_time": "2025-07-28T10:55:07.064475",
     "status": "completed"
    },
    "tags": []
   },
   "outputs": [],
   "source": [
    "n_drop = (~keep_mask).sum() # Calculates how many rows are set to be dropped\n",
    "if n_drop > 0:\n",
    "    pct = n_drop / len(keep_mask) * 100\n",
    "    print(f\"Dropping {n_drop} rows ({pct:.2f}%) where mode='{mode}'\")"
   ]
  },
  {
   "cell_type": "code",
   "execution_count": 32,
   "id": "5fb8eee5",
   "metadata": {
    "execution": {
     "iopub.execute_input": "2025-07-28T10:55:07.185786Z",
     "iopub.status.busy": "2025-07-28T10:55:07.185029Z",
     "iopub.status.idle": "2025-07-28T10:55:07.246006Z",
     "shell.execute_reply": "2025-07-28T10:55:07.244995Z"
    },
    "papermill": {
     "duration": 0.093174,
     "end_time": "2025-07-28T10:55:07.248215",
     "exception": false,
     "start_time": "2025-07-28T10:55:07.155041",
     "status": "completed"
    },
    "tags": []
   },
   "outputs": [],
   "source": [
    "X_train = X_train[keep_mask]"
   ]
  },
  {
   "cell_type": "code",
   "execution_count": 33,
   "id": "b202bb3a",
   "metadata": {
    "execution": {
     "iopub.execute_input": "2025-07-28T10:55:07.295940Z",
     "iopub.status.busy": "2025-07-28T10:55:07.295183Z",
     "iopub.status.idle": "2025-07-28T10:55:07.306307Z",
     "shell.execute_reply": "2025-07-28T10:55:07.305188Z"
    },
    "papermill": {
     "duration": 0.034702,
     "end_time": "2025-07-28T10:55:07.308223",
     "exception": false,
     "start_time": "2025-07-28T10:55:07.273521",
     "status": "completed"
    },
    "tags": []
   },
   "outputs": [],
   "source": [
    "y_train = y_train[keep_mask]"
   ]
  },
  {
   "cell_type": "markdown",
   "id": "493e2ac3",
   "metadata": {
    "papermill": {
     "duration": 0.023161,
     "end_time": "2025-07-28T10:55:07.353080",
     "exception": false,
     "start_time": "2025-07-28T10:55:07.329919",
     "status": "completed"
    },
    "tags": []
   },
   "source": [
    "# Model Training"
   ]
  },
  {
   "cell_type": "code",
   "execution_count": 34,
   "id": "679e1268",
   "metadata": {
    "execution": {
     "iopub.execute_input": "2025-07-28T10:55:07.399246Z",
     "iopub.status.busy": "2025-07-28T10:55:07.398148Z",
     "iopub.status.idle": "2025-07-28T10:55:07.512538Z",
     "shell.execute_reply": "2025-07-28T10:55:07.511495Z"
    },
    "papermill": {
     "duration": 0.138347,
     "end_time": "2025-07-28T10:55:07.514181",
     "exception": false,
     "start_time": "2025-07-28T10:55:07.375834",
     "status": "completed"
    },
    "tags": []
   },
   "outputs": [],
   "source": [
    "from sklearn.linear_model import LogisticRegression\n",
    "from sklearn.ensemble import GradientBoostingClassifier, RandomForestClassifier\n",
    "\n",
    "if (universe[\"model\"] == \"logreg\"):\n",
    "    model = LogisticRegression() #penalty=\"none\") #, solver=\"newton-cg\", max_iter=1) # include random_state=19 ?\n",
    "elif (universe[\"model\"] == \"penalized_logreg\"):\n",
    "    model = LogisticRegression(penalty=\"l2\", C=1.0) #, solver=\"newton-cg\", max_iter=1)\n",
    "elif (universe[\"model\"] == \"rf\"):\n",
    "    model = RandomForestClassifier(n_estimators=100, n_jobs=-1)\n",
    "elif (universe[\"model\"] == \"gbm\"):\n",
    "    model = GradientBoostingClassifier()\n",
    "elif (universe[\"model\"] == \"elasticnet\"):\n",
    "    model = LogisticRegression(penalty = 'elasticnet', solver = 'saga', l1_ratio = 0.5, max_iter=5000) # which solver to use?\n",
    "else:\n",
    "    raise \"Unsupported universe.model\""
   ]
  },
  {
   "cell_type": "code",
   "execution_count": 35,
   "id": "0cc8f744",
   "metadata": {
    "execution": {
     "iopub.execute_input": "2025-07-28T10:55:07.571071Z",
     "iopub.status.busy": "2025-07-28T10:55:07.570302Z",
     "iopub.status.idle": "2025-07-28T10:55:07.576994Z",
     "shell.execute_reply": "2025-07-28T10:55:07.576302Z"
    },
    "papermill": {
     "duration": 0.033562,
     "end_time": "2025-07-28T10:55:07.578317",
     "exception": false,
     "start_time": "2025-07-28T10:55:07.544755",
     "status": "completed"
    },
    "tags": []
   },
   "outputs": [],
   "source": [
    "import numpy as np\n",
    "from sklearn.pipeline import Pipeline\n",
    "from sklearn.preprocessing import StandardScaler\n",
    "\n",
    "model = Pipeline([\n",
    "    #(\"continuous_processor\", continuous_processor),\n",
    "    #(\"categorical_preprocessor\", categorical_preprocessor),\n",
    "    (\"scale\", StandardScaler() if universe[\"scale\"] == \"scale\" else None), \n",
    "    (\"model\", model),\n",
    "])"
   ]
  },
  {
   "cell_type": "code",
   "execution_count": 36,
   "id": "9442c04d",
   "metadata": {
    "execution": {
     "iopub.execute_input": "2025-07-28T10:55:07.603363Z",
     "iopub.status.busy": "2025-07-28T10:55:07.602853Z",
     "iopub.status.idle": "2025-07-28T10:55:11.568938Z",
     "shell.execute_reply": "2025-07-28T10:55:11.568201Z"
    },
    "papermill": {
     "duration": 3.979734,
     "end_time": "2025-07-28T10:55:11.570289",
     "exception": false,
     "start_time": "2025-07-28T10:55:07.590555",
     "status": "completed"
    },
    "tags": []
   },
   "outputs": [
    {
     "name": "stderr",
     "output_type": "stream",
     "text": [
      "/dss/dsshome1/0C/ra93lal2/.local/share/virtualenvs/CMA_Fairness_v2-3j10GkSs/lib/python3.10/site-packages/sklearn/linear_model/_logistic.py:444: ConvergenceWarning: lbfgs failed to converge (status=1):\n",
      "STOP: TOTAL NO. of ITERATIONS REACHED LIMIT.\n",
      "\n",
      "Increase the number of iterations (max_iter) or scale the data as shown in:\n",
      "    https://scikit-learn.org/stable/modules/preprocessing.html\n",
      "Please also refer to the documentation for alternative solver options:\n",
      "    https://scikit-learn.org/stable/modules/linear_model.html#logistic-regression\n",
      "  n_iter_i = _check_optimize_result(\n"
     ]
    },
    {
     "data": {
      "text/html": [
       "<style>#sk-container-id-1 {color: black;background-color: white;}#sk-container-id-1 pre{padding: 0;}#sk-container-id-1 div.sk-toggleable {background-color: white;}#sk-container-id-1 label.sk-toggleable__label {cursor: pointer;display: block;width: 100%;margin-bottom: 0;padding: 0.3em;box-sizing: border-box;text-align: center;}#sk-container-id-1 label.sk-toggleable__label-arrow:before {content: \"▸\";float: left;margin-right: 0.25em;color: #696969;}#sk-container-id-1 label.sk-toggleable__label-arrow:hover:before {color: black;}#sk-container-id-1 div.sk-estimator:hover label.sk-toggleable__label-arrow:before {color: black;}#sk-container-id-1 div.sk-toggleable__content {max-height: 0;max-width: 0;overflow: hidden;text-align: left;background-color: #f0f8ff;}#sk-container-id-1 div.sk-toggleable__content pre {margin: 0.2em;color: black;border-radius: 0.25em;background-color: #f0f8ff;}#sk-container-id-1 input.sk-toggleable__control:checked~div.sk-toggleable__content {max-height: 200px;max-width: 100%;overflow: auto;}#sk-container-id-1 input.sk-toggleable__control:checked~label.sk-toggleable__label-arrow:before {content: \"▾\";}#sk-container-id-1 div.sk-estimator input.sk-toggleable__control:checked~label.sk-toggleable__label {background-color: #d4ebff;}#sk-container-id-1 div.sk-label input.sk-toggleable__control:checked~label.sk-toggleable__label {background-color: #d4ebff;}#sk-container-id-1 input.sk-hidden--visually {border: 0;clip: rect(1px 1px 1px 1px);clip: rect(1px, 1px, 1px, 1px);height: 1px;margin: -1px;overflow: hidden;padding: 0;position: absolute;width: 1px;}#sk-container-id-1 div.sk-estimator {font-family: monospace;background-color: #f0f8ff;border: 1px dotted black;border-radius: 0.25em;box-sizing: border-box;margin-bottom: 0.5em;}#sk-container-id-1 div.sk-estimator:hover {background-color: #d4ebff;}#sk-container-id-1 div.sk-parallel-item::after {content: \"\";width: 100%;border-bottom: 1px solid gray;flex-grow: 1;}#sk-container-id-1 div.sk-label:hover label.sk-toggleable__label {background-color: #d4ebff;}#sk-container-id-1 div.sk-serial::before {content: \"\";position: absolute;border-left: 1px solid gray;box-sizing: border-box;top: 0;bottom: 0;left: 50%;z-index: 0;}#sk-container-id-1 div.sk-serial {display: flex;flex-direction: column;align-items: center;background-color: white;padding-right: 0.2em;padding-left: 0.2em;position: relative;}#sk-container-id-1 div.sk-item {position: relative;z-index: 1;}#sk-container-id-1 div.sk-parallel {display: flex;align-items: stretch;justify-content: center;background-color: white;position: relative;}#sk-container-id-1 div.sk-item::before, #sk-container-id-1 div.sk-parallel-item::before {content: \"\";position: absolute;border-left: 1px solid gray;box-sizing: border-box;top: 0;bottom: 0;left: 50%;z-index: -1;}#sk-container-id-1 div.sk-parallel-item {display: flex;flex-direction: column;z-index: 1;position: relative;background-color: white;}#sk-container-id-1 div.sk-parallel-item:first-child::after {align-self: flex-end;width: 50%;}#sk-container-id-1 div.sk-parallel-item:last-child::after {align-self: flex-start;width: 50%;}#sk-container-id-1 div.sk-parallel-item:only-child::after {width: 0;}#sk-container-id-1 div.sk-dashed-wrapped {border: 1px dashed gray;margin: 0 0.4em 0.5em 0.4em;box-sizing: border-box;padding-bottom: 0.4em;background-color: white;}#sk-container-id-1 div.sk-label label {font-family: monospace;font-weight: bold;display: inline-block;line-height: 1.2em;}#sk-container-id-1 div.sk-label-container {text-align: center;}#sk-container-id-1 div.sk-container {/* jupyter's `normalize.less` sets `[hidden] { display: none; }` but bootstrap.min.css set `[hidden] { display: none !important; }` so we also need the `!important` here to be able to override the default hidden behavior on the sphinx rendered scikit-learn.org. See: https://github.com/scikit-learn/scikit-learn/issues/21755 */display: inline-block !important;position: relative;}#sk-container-id-1 div.sk-text-repr-fallback {display: none;}</style><div id=\"sk-container-id-1\" class=\"sk-top-container\"><div class=\"sk-text-repr-fallback\"><pre>Pipeline(steps=[(&#x27;scale&#x27;, StandardScaler()), (&#x27;model&#x27;, LogisticRegression())])</pre><b>In a Jupyter environment, please rerun this cell to show the HTML representation or trust the notebook. <br />On GitHub, the HTML representation is unable to render, please try loading this page with nbviewer.org.</b></div><div class=\"sk-container\" hidden><div class=\"sk-item sk-dashed-wrapped\"><div class=\"sk-label-container\"><div class=\"sk-label sk-toggleable\"><input class=\"sk-toggleable__control sk-hidden--visually\" id=\"sk-estimator-id-1\" type=\"checkbox\" ><label for=\"sk-estimator-id-1\" class=\"sk-toggleable__label sk-toggleable__label-arrow\">Pipeline</label><div class=\"sk-toggleable__content\"><pre>Pipeline(steps=[(&#x27;scale&#x27;, StandardScaler()), (&#x27;model&#x27;, LogisticRegression())])</pre></div></div></div><div class=\"sk-serial\"><div class=\"sk-item\"><div class=\"sk-estimator sk-toggleable\"><input class=\"sk-toggleable__control sk-hidden--visually\" id=\"sk-estimator-id-2\" type=\"checkbox\" ><label for=\"sk-estimator-id-2\" class=\"sk-toggleable__label sk-toggleable__label-arrow\">StandardScaler</label><div class=\"sk-toggleable__content\"><pre>StandardScaler()</pre></div></div></div><div class=\"sk-item\"><div class=\"sk-estimator sk-toggleable\"><input class=\"sk-toggleable__control sk-hidden--visually\" id=\"sk-estimator-id-3\" type=\"checkbox\" ><label for=\"sk-estimator-id-3\" class=\"sk-toggleable__label sk-toggleable__label-arrow\">LogisticRegression</label><div class=\"sk-toggleable__content\"><pre>LogisticRegression()</pre></div></div></div></div></div></div></div>"
      ],
      "text/plain": [
       "Pipeline(steps=[('scale', StandardScaler()), ('model', LogisticRegression())])"
      ]
     },
     "execution_count": 36,
     "metadata": {},
     "output_type": "execute_result"
    }
   ],
   "source": [
    "model.fit(X_train, y_train.values.ravel())"
   ]
  },
  {
   "cell_type": "code",
   "execution_count": 37,
   "id": "af59f8c0",
   "metadata": {
    "execution": {
     "iopub.execute_input": "2025-07-28T10:55:11.596833Z",
     "iopub.status.busy": "2025-07-28T10:55:11.596301Z",
     "iopub.status.idle": "2025-07-28T10:55:11.601589Z",
     "shell.execute_reply": "2025-07-28T10:55:11.600874Z"
    },
    "papermill": {
     "duration": 0.019965,
     "end_time": "2025-07-28T10:55:11.602925",
     "exception": false,
     "start_time": "2025-07-28T10:55:11.582960",
     "status": "completed"
    },
    "tags": []
   },
   "outputs": [],
   "source": [
    "from fairness_multiverse.universe import predict_w_threshold"
   ]
  },
  {
   "cell_type": "code",
   "execution_count": 38,
   "id": "a7cf2e16",
   "metadata": {
    "execution": {
     "iopub.execute_input": "2025-07-28T10:55:11.629452Z",
     "iopub.status.busy": "2025-07-28T10:55:11.628921Z",
     "iopub.status.idle": "2025-07-28T10:55:11.804760Z",
     "shell.execute_reply": "2025-07-28T10:55:11.803741Z"
    },
    "papermill": {
     "duration": 0.190352,
     "end_time": "2025-07-28T10:55:11.806024",
     "exception": false,
     "start_time": "2025-07-28T10:55:11.615672",
     "status": "completed"
    },
    "tags": []
   },
   "outputs": [
    {
     "data": {
      "text/plain": [
       "0.8666369412551554"
      ]
     },
     "execution_count": 38,
     "metadata": {},
     "output_type": "execute_result"
    }
   ],
   "source": [
    "probs_test = model.predict_proba(X_test)\n",
    "\n",
    "'''\n",
    "Below code returns a boolean array (or binary 0/1 array depending on how it’s used) where each element \n",
    "is True if the probability of class 1 is greater than or equal to the threshold, and False otherwise.\n",
    "'''\n",
    "y_pred_default = predict_w_threshold(probs_test, 0.5)\n",
    "\n",
    "from sklearn.metrics import accuracy_score\n",
    "\n",
    "# Naive prediction\n",
    "accuracy_score(y_true = y_true, y_pred = y_pred_default)"
   ]
  },
  {
   "cell_type": "code",
   "execution_count": 39,
   "id": "081964c3",
   "metadata": {
    "execution": {
     "iopub.execute_input": "2025-07-28T10:55:11.833707Z",
     "iopub.status.busy": "2025-07-28T10:55:11.833190Z",
     "iopub.status.idle": "2025-07-28T10:55:12.016459Z",
     "shell.execute_reply": "2025-07-28T10:55:12.015694Z"
    },
    "papermill": {
     "duration": 0.198659,
     "end_time": "2025-07-28T10:55:12.017795",
     "exception": false,
     "start_time": "2025-07-28T10:55:11.819136",
     "status": "completed"
    },
    "tags": []
   },
   "outputs": [
    {
     "data": {
      "text/plain": [
       "array([0, 0, 0, ..., 0, 0, 0])"
      ]
     },
     "execution_count": 39,
     "metadata": {},
     "output_type": "execute_result"
    }
   ],
   "source": [
    "model.predict(X_test)"
   ]
  },
  {
   "cell_type": "markdown",
   "id": "56c9705b",
   "metadata": {
    "papermill": {
     "duration": 0.012576,
     "end_time": "2025-07-28T10:55:12.043163",
     "exception": false,
     "start_time": "2025-07-28T10:55:12.030587",
     "status": "completed"
    },
    "tags": []
   },
   "source": [
    "# Conformal Prediction"
   ]
  },
  {
   "cell_type": "code",
   "execution_count": 40,
   "id": "160ec6ff",
   "metadata": {
    "execution": {
     "iopub.execute_input": "2025-07-28T10:55:12.083806Z",
     "iopub.status.busy": "2025-07-28T10:55:12.083273Z",
     "iopub.status.idle": "2025-07-28T10:55:12.089503Z",
     "shell.execute_reply": "2025-07-28T10:55:12.088311Z"
    },
    "papermill": {
     "duration": 0.035742,
     "end_time": "2025-07-28T10:55:12.091848",
     "exception": false,
     "start_time": "2025-07-28T10:55:12.056106",
     "status": "completed"
    },
    "tags": []
   },
   "outputs": [],
   "source": [
    "# Miscoverage level for conformal prediction (10% allowed error rate => 90% target coverage)\n",
    "alpha = 0.1"
   ]
  },
  {
   "cell_type": "code",
   "execution_count": 41,
   "id": "eadf4555-3dd3-440e-8e35-f82a4ad9f855",
   "metadata": {
    "execution": {
     "iopub.execute_input": "2025-07-28T10:55:12.152106Z",
     "iopub.status.busy": "2025-07-28T10:55:12.151252Z",
     "iopub.status.idle": "2025-07-28T10:55:12.344825Z",
     "shell.execute_reply": "2025-07-28T10:55:12.343666Z"
    },
    "papermill": {
     "duration": 0.226719,
     "end_time": "2025-07-28T10:55:12.347419",
     "exception": false,
     "start_time": "2025-07-28T10:55:12.120700",
     "status": "completed"
    },
    "tags": []
   },
   "outputs": [],
   "source": [
    "probs_calib = model.predict_proba(X_calib)"
   ]
  },
  {
   "cell_type": "code",
   "execution_count": 42,
   "id": "2ed93547-6d5d-4983-9b36-1ecb300da49a",
   "metadata": {
    "execution": {
     "iopub.execute_input": "2025-07-28T10:55:12.401670Z",
     "iopub.status.busy": "2025-07-28T10:55:12.400901Z",
     "iopub.status.idle": "2025-07-28T10:55:12.407387Z",
     "shell.execute_reply": "2025-07-28T10:55:12.406322Z"
    },
    "papermill": {
     "duration": 0.035357,
     "end_time": "2025-07-28T10:55:12.409185",
     "exception": false,
     "start_time": "2025-07-28T10:55:12.373828",
     "status": "completed"
    },
    "tags": []
   },
   "outputs": [],
   "source": [
    "y_calib = y_calib.values.ravel().astype(int)"
   ]
  },
  {
   "cell_type": "code",
   "execution_count": 43,
   "id": "65d1320d-f588-4b38-9072-62af1ae97f7d",
   "metadata": {
    "execution": {
     "iopub.execute_input": "2025-07-28T10:55:12.462109Z",
     "iopub.status.busy": "2025-07-28T10:55:12.461388Z",
     "iopub.status.idle": "2025-07-28T10:55:12.469761Z",
     "shell.execute_reply": "2025-07-28T10:55:12.468773Z"
    },
    "papermill": {
     "duration": 0.03751,
     "end_time": "2025-07-28T10:55:12.471568",
     "exception": false,
     "start_time": "2025-07-28T10:55:12.434058",
     "status": "completed"
    },
    "tags": []
   },
   "outputs": [],
   "source": [
    "from fairness_multiverse.conformal import compute_nc_scores\n",
    "\n",
    "# Compute nonconformity scores on calibration set (1 - probability of true class)\n",
    "nc_scores = compute_nc_scores(probs_calib, y_calib)"
   ]
  },
  {
   "cell_type": "code",
   "execution_count": 44,
   "id": "df3b8ca3-53b7-43d5-9667-7c85da7aeda2",
   "metadata": {
    "execution": {
     "iopub.execute_input": "2025-07-28T10:55:12.505842Z",
     "iopub.status.busy": "2025-07-28T10:55:12.505392Z",
     "iopub.status.idle": "2025-07-28T10:55:12.512544Z",
     "shell.execute_reply": "2025-07-28T10:55:12.511704Z"
    },
    "papermill": {
     "duration": 0.023202,
     "end_time": "2025-07-28T10:55:12.513920",
     "exception": false,
     "start_time": "2025-07-28T10:55:12.490718",
     "status": "completed"
    },
    "tags": []
   },
   "outputs": [],
   "source": [
    "from fairness_multiverse.conformal import find_threshold\n",
    "\n",
    "# Find conformal threshold q_hat for the given alpha (split conformal method)\n",
    "q_hat = find_threshold(nc_scores, alpha)"
   ]
  },
  {
   "cell_type": "code",
   "execution_count": 45,
   "id": "4d29e6c1-0ef6-4aa4-b8fe-4fe79b0d033a",
   "metadata": {
    "execution": {
     "iopub.execute_input": "2025-07-28T10:55:12.541829Z",
     "iopub.status.busy": "2025-07-28T10:55:12.541440Z",
     "iopub.status.idle": "2025-07-28T10:55:12.548503Z",
     "shell.execute_reply": "2025-07-28T10:55:12.547480Z"
    },
    "papermill": {
     "duration": 0.022489,
     "end_time": "2025-07-28T10:55:12.549907",
     "exception": false,
     "start_time": "2025-07-28T10:55:12.527418",
     "status": "completed"
    },
    "tags": []
   },
   "outputs": [
    {
     "data": {
      "text/plain": [
       "0.672792379764902"
      ]
     },
     "execution_count": 45,
     "metadata": {},
     "output_type": "execute_result"
    }
   ],
   "source": [
    "q_hat"
   ]
  },
  {
   "cell_type": "code",
   "execution_count": 46,
   "id": "92460794-cdac-4be2-ba28-f28c0515a6fb",
   "metadata": {
    "execution": {
     "iopub.execute_input": "2025-07-28T10:55:12.578464Z",
     "iopub.status.busy": "2025-07-28T10:55:12.577914Z",
     "iopub.status.idle": "2025-07-28T10:55:13.287083Z",
     "shell.execute_reply": "2025-07-28T10:55:13.285588Z"
    },
    "papermill": {
     "duration": 0.725449,
     "end_time": "2025-07-28T10:55:13.288970",
     "exception": false,
     "start_time": "2025-07-28T10:55:12.563521",
     "status": "completed"
    },
    "tags": []
   },
   "outputs": [],
   "source": [
    "from fairness_multiverse.conformal import predict_conformal_sets\n",
    "\n",
    "# Generate prediction sets for each test example\n",
    "pred_sets = predict_conformal_sets(model, X_test, q_hat)"
   ]
  },
  {
   "cell_type": "code",
   "execution_count": 47,
   "id": "d90c9a65-e6db-4f5d-80cd-e68fb7e46829",
   "metadata": {
    "execution": {
     "iopub.execute_input": "2025-07-28T10:55:13.316914Z",
     "iopub.status.busy": "2025-07-28T10:55:13.316000Z",
     "iopub.status.idle": "2025-07-28T10:55:13.321061Z",
     "shell.execute_reply": "2025-07-28T10:55:13.320289Z"
    },
    "papermill": {
     "duration": 0.019316,
     "end_time": "2025-07-28T10:55:13.322376",
     "exception": false,
     "start_time": "2025-07-28T10:55:13.303060",
     "status": "completed"
    },
    "tags": []
   },
   "outputs": [],
   "source": [
    "y_true = y_true.squeeze()"
   ]
  },
  {
   "cell_type": "code",
   "execution_count": 48,
   "id": "3a58a54a-1e68-46b9-927a-df01f18aebc8",
   "metadata": {
    "execution": {
     "iopub.execute_input": "2025-07-28T10:55:13.353961Z",
     "iopub.status.busy": "2025-07-28T10:55:13.353049Z",
     "iopub.status.idle": "2025-07-28T10:55:14.448753Z",
     "shell.execute_reply": "2025-07-28T10:55:14.447636Z"
    },
    "papermill": {
     "duration": 1.115566,
     "end_time": "2025-07-28T10:55:14.450847",
     "exception": false,
     "start_time": "2025-07-28T10:55:13.335281",
     "status": "completed"
    },
    "tags": []
   },
   "outputs": [],
   "source": [
    "from fairness_multiverse.conformal import evaluate_sets\n",
    "\n",
    "# Evaluate coverage and average set size on test data\n",
    "metrics = evaluate_sets(pred_sets, y_true)"
   ]
  },
  {
   "cell_type": "markdown",
   "id": "2b569c12-9aaa-4c88-98c9-bbcd0cf3ebb8",
   "metadata": {
    "papermill": {
     "duration": 0.023517,
     "end_time": "2025-07-28T10:55:14.498832",
     "exception": false,
     "start_time": "2025-07-28T10:55:14.475315",
     "status": "completed"
    },
    "tags": []
   },
   "source": [
    "# CP Metrics"
   ]
  },
  {
   "cell_type": "code",
   "execution_count": 49,
   "id": "5ce0a5cb-201f-45a0-ade5-94c7f0bd6095",
   "metadata": {
    "execution": {
     "iopub.execute_input": "2025-07-28T10:55:14.548619Z",
     "iopub.status.busy": "2025-07-28T10:55:14.548077Z",
     "iopub.status.idle": "2025-07-28T10:55:14.555824Z",
     "shell.execute_reply": "2025-07-28T10:55:14.554647Z"
    },
    "papermill": {
     "duration": 0.037869,
     "end_time": "2025-07-28T10:55:14.561120",
     "exception": false,
     "start_time": "2025-07-28T10:55:14.523251",
     "status": "completed"
    },
    "tags": []
   },
   "outputs": [
    {
     "data": {
      "text/plain": [
       "{'coverage': 0.912573849069223, 'avg_size': 1.1208672388808383}"
      ]
     },
     "execution_count": 49,
     "metadata": {},
     "output_type": "execute_result"
    }
   ],
   "source": [
    "metrics"
   ]
  },
  {
   "cell_type": "code",
   "execution_count": 50,
   "id": "9b9a838d-31c9-430b-ae14-12baee460d17",
   "metadata": {
    "execution": {
     "iopub.execute_input": "2025-07-28T10:55:14.589062Z",
     "iopub.status.busy": "2025-07-28T10:55:14.588722Z",
     "iopub.status.idle": "2025-07-28T10:55:14.593753Z",
     "shell.execute_reply": "2025-07-28T10:55:14.593038Z"
    },
    "papermill": {
     "duration": 0.020033,
     "end_time": "2025-07-28T10:55:14.595233",
     "exception": false,
     "start_time": "2025-07-28T10:55:14.575200",
     "status": "completed"
    },
    "tags": []
   },
   "outputs": [],
   "source": [
    "example_universe = universe.copy()\n",
    "universe_training_size = example_universe.get(\"training_size\")\n",
    "universe_scale = example_universe.get(\"scale\")\n",
    "universe_model = example_universe.get(\"model\")\n",
    "universe_exclude_features = example_universe.get(\"exclude_features\")\n",
    "universe_exclude_subgroups = example_universe.get(\"exclude_subgroups\")"
   ]
  },
  {
   "cell_type": "code",
   "execution_count": 51,
   "id": "f4b6a8ac-9dc0-4245-8a91-5b3b5999c4f9",
   "metadata": {
    "execution": {
     "iopub.execute_input": "2025-07-28T10:55:14.621772Z",
     "iopub.status.busy": "2025-07-28T10:55:14.621447Z",
     "iopub.status.idle": "2025-07-28T10:55:14.626515Z",
     "shell.execute_reply": "2025-07-28T10:55:14.625684Z"
    },
    "papermill": {
     "duration": 0.019541,
     "end_time": "2025-07-28T10:55:14.627844",
     "exception": false,
     "start_time": "2025-07-28T10:55:14.608303",
     "status": "completed"
    },
    "tags": []
   },
   "outputs": [],
   "source": [
    "cp_metrics_dict = {\n",
    "    \"universe_id\": [universe_id],\n",
    "    \"universe_training_size\": [universe_training_size],\n",
    "    \"universe_scale\": [universe_scale],\n",
    "    \"universe_model\": [universe_model],\n",
    "    \"universe_exclude_features\": [universe_exclude_features],\n",
    "    \"universe_exclude_subgroups\": [universe_exclude_subgroups],\n",
    "    \"q_hat\": [q_hat],\n",
    "    \"coverage\": [metrics[\"coverage\"]],\n",
    "    \"avg_size\": [metrics[\"avg_size\"]],\n",
    "}"
   ]
  },
  {
   "cell_type": "code",
   "execution_count": 52,
   "id": "908acbb1-0371-4915-85ca-3fa520d2efe2",
   "metadata": {
    "execution": {
     "iopub.execute_input": "2025-07-28T10:55:14.654575Z",
     "iopub.status.busy": "2025-07-28T10:55:14.654159Z",
     "iopub.status.idle": "2025-07-28T10:55:14.660395Z",
     "shell.execute_reply": "2025-07-28T10:55:14.659532Z"
    },
    "papermill": {
     "duration": 0.020825,
     "end_time": "2025-07-28T10:55:14.661900",
     "exception": false,
     "start_time": "2025-07-28T10:55:14.641075",
     "status": "completed"
    },
    "tags": []
   },
   "outputs": [
    {
     "data": {
      "text/plain": [
       "{'universe_id': ['807be8d83338c56230c20f292d6de40d'],\n",
       " 'universe_training_size': ['2014'],\n",
       " 'universe_scale': ['scale'],\n",
       " 'universe_model': ['penalized_logreg'],\n",
       " 'universe_exclude_features': ['nationality-sex'],\n",
       " 'universe_exclude_subgroups': ['keep-all'],\n",
       " 'q_hat': [0.672792379764902],\n",
       " 'coverage': [0.912573849069223],\n",
       " 'avg_size': [1.1208672388808383]}"
      ]
     },
     "execution_count": 52,
     "metadata": {},
     "output_type": "execute_result"
    }
   ],
   "source": [
    "cp_metrics_dict"
   ]
  },
  {
   "cell_type": "code",
   "execution_count": 53,
   "id": "33007efc-14e9-4ec6-97ac-56a455c82265",
   "metadata": {
    "execution": {
     "iopub.execute_input": "2025-07-28T10:55:14.689465Z",
     "iopub.status.busy": "2025-07-28T10:55:14.689021Z",
     "iopub.status.idle": "2025-07-28T10:55:14.694798Z",
     "shell.execute_reply": "2025-07-28T10:55:14.694069Z"
    },
    "papermill": {
     "duration": 0.020816,
     "end_time": "2025-07-28T10:55:14.696107",
     "exception": false,
     "start_time": "2025-07-28T10:55:14.675291",
     "status": "completed"
    },
    "tags": []
   },
   "outputs": [],
   "source": [
    "cp_metrics_df = pd.DataFrame(cp_metrics_dict)"
   ]
  },
  {
   "cell_type": "code",
   "execution_count": 54,
   "id": "db12611b-57b2-4910-b9d0-355adfd6e7bf",
   "metadata": {
    "execution": {
     "iopub.execute_input": "2025-07-28T10:55:14.723080Z",
     "iopub.status.busy": "2025-07-28T10:55:14.722549Z",
     "iopub.status.idle": "2025-07-28T10:55:14.736173Z",
     "shell.execute_reply": "2025-07-28T10:55:14.735424Z"
    },
    "papermill": {
     "duration": 0.028354,
     "end_time": "2025-07-28T10:55:14.737624",
     "exception": false,
     "start_time": "2025-07-28T10:55:14.709270",
     "status": "completed"
    },
    "tags": []
   },
   "outputs": [
    {
     "data": {
      "text/html": [
       "<div>\n",
       "<style scoped>\n",
       "    .dataframe tbody tr th:only-of-type {\n",
       "        vertical-align: middle;\n",
       "    }\n",
       "\n",
       "    .dataframe tbody tr th {\n",
       "        vertical-align: top;\n",
       "    }\n",
       "\n",
       "    .dataframe thead th {\n",
       "        text-align: right;\n",
       "    }\n",
       "</style>\n",
       "<table border=\"1\" class=\"dataframe\">\n",
       "  <thead>\n",
       "    <tr style=\"text-align: right;\">\n",
       "      <th></th>\n",
       "      <th>universe_id</th>\n",
       "      <th>universe_training_size</th>\n",
       "      <th>universe_scale</th>\n",
       "      <th>universe_model</th>\n",
       "      <th>universe_exclude_features</th>\n",
       "      <th>universe_exclude_subgroups</th>\n",
       "      <th>q_hat</th>\n",
       "      <th>coverage</th>\n",
       "      <th>avg_size</th>\n",
       "    </tr>\n",
       "  </thead>\n",
       "  <tbody>\n",
       "    <tr>\n",
       "      <th>0</th>\n",
       "      <td>807be8d83338c56230c20f292d6de40d</td>\n",
       "      <td>2014</td>\n",
       "      <td>scale</td>\n",
       "      <td>penalized_logreg</td>\n",
       "      <td>nationality-sex</td>\n",
       "      <td>keep-all</td>\n",
       "      <td>0.672792</td>\n",
       "      <td>0.912574</td>\n",
       "      <td>1.120867</td>\n",
       "    </tr>\n",
       "  </tbody>\n",
       "</table>\n",
       "</div>"
      ],
      "text/plain": [
       "                        universe_id universe_training_size universe_scale  \\\n",
       "0  807be8d83338c56230c20f292d6de40d                   2014          scale   \n",
       "\n",
       "     universe_model universe_exclude_features universe_exclude_subgroups  \\\n",
       "0  penalized_logreg           nationality-sex                   keep-all   \n",
       "\n",
       "      q_hat  coverage  avg_size  \n",
       "0  0.672792  0.912574  1.120867  "
      ]
     },
     "execution_count": 54,
     "metadata": {},
     "output_type": "execute_result"
    }
   ],
   "source": [
    "cp_metrics_df"
   ]
  },
  {
   "cell_type": "code",
   "execution_count": 55,
   "id": "b7fbde55-a0a1-47e4-9af6-fe4a17fa8c61",
   "metadata": {
    "execution": {
     "iopub.execute_input": "2025-07-28T10:55:14.764789Z",
     "iopub.status.busy": "2025-07-28T10:55:14.764222Z",
     "iopub.status.idle": "2025-07-28T10:55:14.768766Z",
     "shell.execute_reply": "2025-07-28T10:55:14.768025Z"
    },
    "papermill": {
     "duration": 0.019498,
     "end_time": "2025-07-28T10:55:14.770058",
     "exception": false,
     "start_time": "2025-07-28T10:55:14.750560",
     "status": "completed"
    },
    "tags": []
   },
   "outputs": [],
   "source": [
    "# Conditional Coverage & looking at subgroups"
   ]
  },
  {
   "cell_type": "code",
   "execution_count": 56,
   "id": "027ae886-68dd-4141-96c7-805a5450e1ef",
   "metadata": {
    "execution": {
     "iopub.execute_input": "2025-07-28T10:55:14.797244Z",
     "iopub.status.busy": "2025-07-28T10:55:14.796749Z",
     "iopub.status.idle": "2025-07-28T10:55:14.983576Z",
     "shell.execute_reply": "2025-07-28T10:55:14.982823Z"
    },
    "papermill": {
     "duration": 0.202014,
     "end_time": "2025-07-28T10:55:14.985111",
     "exception": false,
     "start_time": "2025-07-28T10:55:14.783097",
     "status": "completed"
    },
    "tags": []
   },
   "outputs": [],
   "source": [
    "from fairness_multiverse.conformal import build_cp_groups\n",
    "\n",
    "cp_groups_df = build_cp_groups(pred_sets, y_true, X_test.index, org_test)\n",
    "#needs universe_id and setting"
   ]
  },
  {
   "cell_type": "code",
   "execution_count": 57,
   "id": "01d5802c-663a-4d1f-9d69-e036faaffbf7",
   "metadata": {
    "execution": {
     "iopub.execute_input": "2025-07-28T10:55:15.013270Z",
     "iopub.status.busy": "2025-07-28T10:55:15.012865Z",
     "iopub.status.idle": "2025-07-28T10:55:15.016948Z",
     "shell.execute_reply": "2025-07-28T10:55:15.016192Z"
    },
    "papermill": {
     "duration": 0.019408,
     "end_time": "2025-07-28T10:55:15.018364",
     "exception": false,
     "start_time": "2025-07-28T10:55:14.998956",
     "status": "completed"
    },
    "tags": []
   },
   "outputs": [],
   "source": [
    "#delete\n",
    "#cp_groups_df"
   ]
  },
  {
   "cell_type": "code",
   "execution_count": 58,
   "id": "fa424af1-d1eb-443d-b717-2d279ada8408",
   "metadata": {
    "execution": {
     "iopub.execute_input": "2025-07-28T10:55:15.045326Z",
     "iopub.status.busy": "2025-07-28T10:55:15.044831Z",
     "iopub.status.idle": "2025-07-28T10:55:15.049593Z",
     "shell.execute_reply": "2025-07-28T10:55:15.048602Z"
    },
    "papermill": {
     "duration": 0.019843,
     "end_time": "2025-07-28T10:55:15.051267",
     "exception": false,
     "start_time": "2025-07-28T10:55:15.031424",
     "status": "completed"
    },
    "tags": []
   },
   "outputs": [],
   "source": [
    "#delete\n",
    "#percentage = (cp_groups_df['nongerman_female'] == 1).mean() * 100\n",
    "#print(percentage)\n"
   ]
  },
  {
   "cell_type": "code",
   "execution_count": 59,
   "id": "6cbdab96-b2b2-45af-ad54-d0516db2e28d",
   "metadata": {
    "execution": {
     "iopub.execute_input": "2025-07-28T10:55:15.103473Z",
     "iopub.status.busy": "2025-07-28T10:55:15.102606Z",
     "iopub.status.idle": "2025-07-28T10:55:16.730501Z",
     "shell.execute_reply": "2025-07-28T10:55:16.729271Z"
    },
    "papermill": {
     "duration": 1.656609,
     "end_time": "2025-07-28T10:55:16.733117",
     "exception": false,
     "start_time": "2025-07-28T10:55:15.076508",
     "status": "completed"
    },
    "tags": []
   },
   "outputs": [],
   "source": [
    "# Define covered = 1 if true_label is in the predicted set\n",
    "cp_groups_df['covered'] = cp_groups_df.apply(\n",
    "    lambda r: int(r['true_label'] in r['pred_set']),\n",
    "    axis=1\n",
    ")"
   ]
  },
  {
   "cell_type": "code",
   "execution_count": 60,
   "id": "338ff529-1a6b-4b87-a931-8e4788d52aad",
   "metadata": {
    "execution": {
     "iopub.execute_input": "2025-07-28T10:55:16.815288Z",
     "iopub.status.busy": "2025-07-28T10:55:16.814694Z",
     "iopub.status.idle": "2025-07-28T10:55:16.820111Z",
     "shell.execute_reply": "2025-07-28T10:55:16.819181Z"
    },
    "papermill": {
     "duration": 0.048149,
     "end_time": "2025-07-28T10:55:16.822491",
     "exception": false,
     "start_time": "2025-07-28T10:55:16.774342",
     "status": "completed"
    },
    "tags": []
   },
   "outputs": [],
   "source": [
    "#cp_groups_df"
   ]
  },
  {
   "cell_type": "code",
   "execution_count": 61,
   "id": "90032e27-66df-4540-9169-4e89cfbaa758",
   "metadata": {
    "execution": {
     "iopub.execute_input": "2025-07-28T10:55:16.899612Z",
     "iopub.status.busy": "2025-07-28T10:55:16.898810Z",
     "iopub.status.idle": "2025-07-28T10:55:16.911638Z",
     "shell.execute_reply": "2025-07-28T10:55:16.910483Z"
    },
    "papermill": {
     "duration": 0.053919,
     "end_time": "2025-07-28T10:55:16.914175",
     "exception": false,
     "start_time": "2025-07-28T10:55:16.860256",
     "status": "completed"
    },
    "tags": []
   },
   "outputs": [],
   "source": [
    "subgroups = ['frau1','nongerman','nongerman_male','nongerman_female']\n",
    "\n",
    "# Conditional coverage for subgroup==1\n",
    "cond_coverage = {\n",
    "    g: cp_groups_df.loc[cp_groups_df[g]==1, 'covered'].mean()\n",
    "    for g in subgroups\n",
    "}"
   ]
  },
  {
   "cell_type": "code",
   "execution_count": 62,
   "id": "1e348fb1-b9c3-45bc-ba23-f016827a7e0d",
   "metadata": {
    "execution": {
     "iopub.execute_input": "2025-07-28T10:55:16.991616Z",
     "iopub.status.busy": "2025-07-28T10:55:16.990276Z",
     "iopub.status.idle": "2025-07-28T10:55:17.001187Z",
     "shell.execute_reply": "2025-07-28T10:55:16.999210Z"
    },
    "papermill": {
     "duration": 0.051871,
     "end_time": "2025-07-28T10:55:17.003603",
     "exception": false,
     "start_time": "2025-07-28T10:55:16.951732",
     "status": "completed"
    },
    "tags": []
   },
   "outputs": [
    {
     "data": {
      "text/plain": [
       "{'frau1': 0.9132228063081278,\n",
       " 'nongerman': 0.91062707011733,\n",
       " 'nongerman_male': 0.9251553634152931,\n",
       " 'nongerman_female': 0.8865871833084947}"
      ]
     },
     "execution_count": 62,
     "metadata": {},
     "output_type": "execute_result"
    }
   ],
   "source": [
    "cond_coverage"
   ]
  },
  {
   "cell_type": "code",
   "execution_count": 63,
   "id": "f5093324-c3dd-4d63-bc4c-8d945e5c8bbb",
   "metadata": {
    "execution": {
     "iopub.execute_input": "2025-07-28T10:55:17.080988Z",
     "iopub.status.busy": "2025-07-28T10:55:17.080289Z",
     "iopub.status.idle": "2025-07-28T10:55:17.089923Z",
     "shell.execute_reply": "2025-07-28T10:55:17.088787Z"
    },
    "papermill": {
     "duration": 0.050024,
     "end_time": "2025-07-28T10:55:17.091684",
     "exception": false,
     "start_time": "2025-07-28T10:55:17.041660",
     "status": "completed"
    },
    "tags": []
   },
   "outputs": [],
   "source": [
    "for subgroup, cov in cond_coverage.items():\n",
    "    cp_metrics_df[f\"cov_{subgroup}\"] = cov"
   ]
  },
  {
   "cell_type": "code",
   "execution_count": 64,
   "id": "6e872e10-dbe5-49e8-b554-5030c98ff75d",
   "metadata": {
    "execution": {
     "iopub.execute_input": "2025-07-28T10:55:17.143576Z",
     "iopub.status.busy": "2025-07-28T10:55:17.142891Z",
     "iopub.status.idle": "2025-07-28T10:55:17.169545Z",
     "shell.execute_reply": "2025-07-28T10:55:17.168193Z"
    },
    "papermill": {
     "duration": 0.054742,
     "end_time": "2025-07-28T10:55:17.171252",
     "exception": false,
     "start_time": "2025-07-28T10:55:17.116510",
     "status": "completed"
    },
    "tags": []
   },
   "outputs": [
    {
     "data": {
      "text/html": [
       "<div>\n",
       "<style scoped>\n",
       "    .dataframe tbody tr th:only-of-type {\n",
       "        vertical-align: middle;\n",
       "    }\n",
       "\n",
       "    .dataframe tbody tr th {\n",
       "        vertical-align: top;\n",
       "    }\n",
       "\n",
       "    .dataframe thead th {\n",
       "        text-align: right;\n",
       "    }\n",
       "</style>\n",
       "<table border=\"1\" class=\"dataframe\">\n",
       "  <thead>\n",
       "    <tr style=\"text-align: right;\">\n",
       "      <th></th>\n",
       "      <th>universe_id</th>\n",
       "      <th>universe_training_size</th>\n",
       "      <th>universe_scale</th>\n",
       "      <th>universe_model</th>\n",
       "      <th>universe_exclude_features</th>\n",
       "      <th>universe_exclude_subgroups</th>\n",
       "      <th>q_hat</th>\n",
       "      <th>coverage</th>\n",
       "      <th>avg_size</th>\n",
       "      <th>cov_frau1</th>\n",
       "      <th>cov_nongerman</th>\n",
       "      <th>cov_nongerman_male</th>\n",
       "      <th>cov_nongerman_female</th>\n",
       "    </tr>\n",
       "  </thead>\n",
       "  <tbody>\n",
       "    <tr>\n",
       "      <th>0</th>\n",
       "      <td>807be8d83338c56230c20f292d6de40d</td>\n",
       "      <td>2014</td>\n",
       "      <td>scale</td>\n",
       "      <td>penalized_logreg</td>\n",
       "      <td>nationality-sex</td>\n",
       "      <td>keep-all</td>\n",
       "      <td>0.672792</td>\n",
       "      <td>0.912574</td>\n",
       "      <td>1.120867</td>\n",
       "      <td>0.913223</td>\n",
       "      <td>0.910627</td>\n",
       "      <td>0.925155</td>\n",
       "      <td>0.886587</td>\n",
       "    </tr>\n",
       "  </tbody>\n",
       "</table>\n",
       "</div>"
      ],
      "text/plain": [
       "                        universe_id universe_training_size universe_scale  \\\n",
       "0  807be8d83338c56230c20f292d6de40d                   2014          scale   \n",
       "\n",
       "     universe_model universe_exclude_features universe_exclude_subgroups  \\\n",
       "0  penalized_logreg           nationality-sex                   keep-all   \n",
       "\n",
       "      q_hat  coverage  avg_size  cov_frau1  cov_nongerman  cov_nongerman_male  \\\n",
       "0  0.672792  0.912574  1.120867   0.913223       0.910627            0.925155   \n",
       "\n",
       "   cov_nongerman_female  \n",
       "0              0.886587  "
      ]
     },
     "execution_count": 64,
     "metadata": {},
     "output_type": "execute_result"
    }
   ],
   "source": [
    "cp_metrics_df"
   ]
  },
  {
   "cell_type": "markdown",
   "id": "33774451",
   "metadata": {
    "papermill": {
     "duration": 0.025507,
     "end_time": "2025-07-28T10:55:17.222353",
     "exception": false,
     "start_time": "2025-07-28T10:55:17.196846",
     "status": "completed"
    },
    "tags": []
   },
   "source": [
    "# (Fairness) Metrics"
   ]
  },
  {
   "cell_type": "code",
   "execution_count": 65,
   "id": "debc5d62",
   "metadata": {
    "execution": {
     "iopub.execute_input": "2025-07-28T10:55:17.278680Z",
     "iopub.status.busy": "2025-07-28T10:55:17.277643Z",
     "iopub.status.idle": "2025-07-28T10:55:17.301032Z",
     "shell.execute_reply": "2025-07-28T10:55:17.299821Z"
    },
    "papermill": {
     "duration": 0.053916,
     "end_time": "2025-07-28T10:55:17.303891",
     "exception": false,
     "start_time": "2025-07-28T10:55:17.249975",
     "status": "completed"
    },
    "tags": []
   },
   "outputs": [],
   "source": [
    "# do I need to include maxdeutsch1.missing?\n",
    "\n",
    "import numpy as np\n",
    "\n",
    "colname_to_bin = \"maxdeutsch1\"\n",
    "majority_value = org_train[colname_to_bin].mode()[0]\n",
    "\n",
    "org_test[\"majmin\"] = np.where(org_test[colname_to_bin] == majority_value, \"majority\", \"minority\")"
   ]
  },
  {
   "cell_type": "code",
   "execution_count": 66,
   "id": "06a50de5",
   "metadata": {
    "execution": {
     "iopub.execute_input": "2025-07-28T10:55:17.383583Z",
     "iopub.status.busy": "2025-07-28T10:55:17.382768Z",
     "iopub.status.idle": "2025-07-28T10:55:19.824530Z",
     "shell.execute_reply": "2025-07-28T10:55:19.823690Z"
    },
    "papermill": {
     "duration": 2.48325,
     "end_time": "2025-07-28T10:55:19.826000",
     "exception": false,
     "start_time": "2025-07-28T10:55:17.342750",
     "status": "completed"
    },
    "tags": []
   },
   "outputs": [],
   "source": [
    "example_universe = universe.copy()\n",
    "example_universe[\"cutoff\"] = example_universe[\"cutoff\"][0]\n",
    "example_universe[\"eval_fairness_grouping\"] = example_universe[\"eval_fairness_grouping\"][0]\n",
    "fairness_dict, metric_frame = universe_analysis.compute_metrics(\n",
    "    example_universe,\n",
    "    y_pred_prob=probs_test,\n",
    "    y_test=y_true,\n",
    "    org_test=org_test,\n",
    ")"
   ]
  },
  {
   "cell_type": "markdown",
   "id": "f95d4e02",
   "metadata": {
    "papermill": {
     "duration": 0.014021,
     "end_time": "2025-07-28T10:55:19.855894",
     "exception": false,
     "start_time": "2025-07-28T10:55:19.841873",
     "status": "completed"
    },
    "tags": []
   },
   "source": [
    "# Overall"
   ]
  },
  {
   "cell_type": "markdown",
   "id": "bdee4871",
   "metadata": {
    "papermill": {
     "duration": 0.01398,
     "end_time": "2025-07-28T10:55:19.883526",
     "exception": false,
     "start_time": "2025-07-28T10:55:19.869546",
     "status": "completed"
    },
    "tags": []
   },
   "source": [
    "Fairness\n",
    "Main fairness target: Equalized Odds. Seems to be a better fit than equal opportunity, since we're not only interested in Y = 1. Seems to be a better fit than demographic parity, since we also care about accuracy, not just equal distribution of preds.\n",
    "\n",
    "Pick column for computation of fairness metrics\n",
    "\n",
    "Performance\n",
    "Overall performance measures, most interesting in relation to the measures split by group below"
   ]
  },
  {
   "cell_type": "code",
   "execution_count": 67,
   "id": "c4e067c6",
   "metadata": {
    "execution": {
     "iopub.execute_input": "2025-07-28T10:55:19.931971Z",
     "iopub.status.busy": "2025-07-28T10:55:19.931260Z",
     "iopub.status.idle": "2025-07-28T10:55:19.940948Z",
     "shell.execute_reply": "2025-07-28T10:55:19.939708Z"
    },
    "papermill": {
     "duration": 0.03369,
     "end_time": "2025-07-28T10:55:19.943215",
     "exception": false,
     "start_time": "2025-07-28T10:55:19.909525",
     "status": "completed"
    },
    "tags": []
   },
   "outputs": [
    {
     "data": {
      "text/plain": [
       "accuracy                   0.225828\n",
       "balanced accuracy          0.551875\n",
       "f1                         0.247119\n",
       "precision                  0.141171\n",
       "false positive rate        0.886691\n",
       "false negative rate        0.009559\n",
       "selection rate             0.900000\n",
       "count                  89710.000000\n",
       "dtype: float64"
      ]
     },
     "execution_count": 67,
     "metadata": {},
     "output_type": "execute_result"
    }
   ],
   "source": [
    "metric_frame.overall"
   ]
  },
  {
   "cell_type": "markdown",
   "id": "e968fe9d",
   "metadata": {
    "papermill": {
     "duration": 0.017323,
     "end_time": "2025-07-28T10:55:19.998298",
     "exception": false,
     "start_time": "2025-07-28T10:55:19.980975",
     "status": "completed"
    },
    "tags": []
   },
   "source": [
    "By Group"
   ]
  },
  {
   "cell_type": "code",
   "execution_count": 68,
   "id": "ec325bce",
   "metadata": {
    "execution": {
     "iopub.execute_input": "2025-07-28T10:55:20.041647Z",
     "iopub.status.busy": "2025-07-28T10:55:20.041158Z",
     "iopub.status.idle": "2025-07-28T10:55:20.058744Z",
     "shell.execute_reply": "2025-07-28T10:55:20.057606Z"
    },
    "papermill": {
     "duration": 0.05004,
     "end_time": "2025-07-28T10:55:20.062592",
     "exception": false,
     "start_time": "2025-07-28T10:55:20.012552",
     "status": "completed"
    },
    "tags": []
   },
   "outputs": [
    {
     "data": {
      "text/html": [
       "<div>\n",
       "<style scoped>\n",
       "    .dataframe tbody tr th:only-of-type {\n",
       "        vertical-align: middle;\n",
       "    }\n",
       "\n",
       "    .dataframe tbody tr th {\n",
       "        vertical-align: top;\n",
       "    }\n",
       "\n",
       "    .dataframe thead th {\n",
       "        text-align: right;\n",
       "    }\n",
       "</style>\n",
       "<table border=\"1\" class=\"dataframe\">\n",
       "  <thead>\n",
       "    <tr style=\"text-align: right;\">\n",
       "      <th></th>\n",
       "      <th>accuracy</th>\n",
       "      <th>balanced accuracy</th>\n",
       "      <th>f1</th>\n",
       "      <th>precision</th>\n",
       "      <th>false positive rate</th>\n",
       "      <th>false negative rate</th>\n",
       "      <th>selection rate</th>\n",
       "      <th>count</th>\n",
       "    </tr>\n",
       "    <tr>\n",
       "      <th>majmin</th>\n",
       "      <th></th>\n",
       "      <th></th>\n",
       "      <th></th>\n",
       "      <th></th>\n",
       "      <th></th>\n",
       "      <th></th>\n",
       "      <th></th>\n",
       "      <th></th>\n",
       "    </tr>\n",
       "  </thead>\n",
       "  <tbody>\n",
       "    <tr>\n",
       "      <th>majority</th>\n",
       "      <td>0.247521</td>\n",
       "      <td>0.561977</td>\n",
       "      <td>0.257874</td>\n",
       "      <td>0.148258</td>\n",
       "      <td>0.865434</td>\n",
       "      <td>0.010613</td>\n",
       "      <td>0.881813</td>\n",
       "      <td>69170.0</td>\n",
       "    </tr>\n",
       "    <tr>\n",
       "      <th>minority</th>\n",
       "      <td>0.152775</td>\n",
       "      <td>0.518799</td>\n",
       "      <td>0.213007</td>\n",
       "      <td>0.119277</td>\n",
       "      <td>0.956912</td>\n",
       "      <td>0.005490</td>\n",
       "      <td>0.961246</td>\n",
       "      <td>20540.0</td>\n",
       "    </tr>\n",
       "  </tbody>\n",
       "</table>\n",
       "</div>"
      ],
      "text/plain": [
       "          accuracy  balanced accuracy        f1  precision  \\\n",
       "majmin                                                       \n",
       "majority  0.247521           0.561977  0.257874   0.148258   \n",
       "minority  0.152775           0.518799  0.213007   0.119277   \n",
       "\n",
       "          false positive rate  false negative rate  selection rate    count  \n",
       "majmin                                                                       \n",
       "majority             0.865434             0.010613        0.881813  69170.0  \n",
       "minority             0.956912             0.005490        0.961246  20540.0  "
      ]
     },
     "execution_count": 68,
     "metadata": {},
     "output_type": "execute_result"
    }
   ],
   "source": [
    "metric_frame.by_group"
   ]
  },
  {
   "cell_type": "code",
   "execution_count": 69,
   "id": "a9ddbe63",
   "metadata": {
    "execution": {
     "iopub.execute_input": "2025-07-28T10:55:20.121088Z",
     "iopub.status.busy": "2025-07-28T10:55:20.120179Z",
     "iopub.status.idle": "2025-07-28T10:55:22.737955Z",
     "shell.execute_reply": "2025-07-28T10:55:22.736909Z"
    },
    "papermill": {
     "duration": 2.648351,
     "end_time": "2025-07-28T10:55:22.739809",
     "exception": false,
     "start_time": "2025-07-28T10:55:20.091458",
     "status": "completed"
    },
    "tags": []
   },
   "outputs": [
    {
     "data": {
      "text/plain": [
       "array([[<Axes: title={'center': 'accuracy'}, xlabel='majmin'>,\n",
       "        <Axes: title={'center': 'balanced accuracy'}, xlabel='majmin'>,\n",
       "        <Axes: title={'center': 'f1'}, xlabel='majmin'>],\n",
       "       [<Axes: title={'center': 'precision'}, xlabel='majmin'>,\n",
       "        <Axes: title={'center': 'false positive rate'}, xlabel='majmin'>,\n",
       "        <Axes: title={'center': 'false negative rate'}, xlabel='majmin'>],\n",
       "       [<Axes: title={'center': 'selection rate'}, xlabel='majmin'>,\n",
       "        <Axes: title={'center': 'count'}, xlabel='majmin'>,\n",
       "        <Axes: xlabel='majmin'>]], dtype=object)"
      ]
     },
     "execution_count": 69,
     "metadata": {},
     "output_type": "execute_result"
    },
    {
     "data": {
      "image/png": "[encoded data removed]",
      "text/plain": [
       "<Figure size 1200x800 with 9 Axes>"
      ]
     },
     "metadata": {},
     "output_type": "display_data"
    }
   ],
   "source": [
    "# In a graphic\n",
    "metric_frame.by_group.plot.bar(\n",
    "    subplots=True,\n",
    "    layout=[3, 3],\n",
    "    legend=False,\n",
    "    figsize=[12, 8],\n",
    "    title=\"Show all metrics\",\n",
    ")"
   ]
  },
  {
   "cell_type": "markdown",
   "id": "f57a0bac",
   "metadata": {
    "papermill": {
     "duration": 0.030131,
     "end_time": "2025-07-28T10:55:22.802206",
     "exception": false,
     "start_time": "2025-07-28T10:55:22.772075",
     "status": "completed"
    },
    "tags": []
   },
   "source": [
    "# Final Output"
   ]
  },
  {
   "cell_type": "code",
   "execution_count": 70,
   "id": "96d280a3",
   "metadata": {
    "execution": {
     "iopub.execute_input": "2025-07-28T10:55:22.865058Z",
     "iopub.status.busy": "2025-07-28T10:55:22.863843Z",
     "iopub.status.idle": "2025-07-28T10:55:22.873019Z",
     "shell.execute_reply": "2025-07-28T10:55:22.871900Z"
    },
    "papermill": {
     "duration": 0.042857,
     "end_time": "2025-07-28T10:55:22.874650",
     "exception": false,
     "start_time": "2025-07-28T10:55:22.831793",
     "status": "completed"
    },
    "tags": []
   },
   "outputs": [
    {
     "data": {
      "text/plain": [
       "4"
      ]
     },
     "execution_count": 70,
     "metadata": {},
     "output_type": "execute_result"
    }
   ],
   "source": [
    "sub_universes = universe_analysis.generate_sub_universes()\n",
    "len(sub_universes)"
   ]
  },
  {
   "cell_type": "code",
   "execution_count": 71,
   "id": "92adf7ba",
   "metadata": {
    "execution": {
     "iopub.execute_input": "2025-07-28T10:55:22.936084Z",
     "iopub.status.busy": "2025-07-28T10:55:22.935385Z",
     "iopub.status.idle": "2025-07-28T10:55:22.941902Z",
     "shell.execute_reply": "2025-07-28T10:55:22.940909Z"
    },
    "papermill": {
     "duration": 0.039804,
     "end_time": "2025-07-28T10:55:22.943631",
     "exception": false,
     "start_time": "2025-07-28T10:55:22.903827",
     "status": "completed"
    },
    "tags": []
   },
   "outputs": [],
   "source": [
    "def filter_sub_universe_data(sub_universe, org_test):\n",
    "    # Keep all rows — no filtering\n",
    "    keep_rows_mask = np.ones(org_test.shape[0], dtype=bool)\n",
    "\n",
    "    print(f\"[INFO] Keeping all rows: {keep_rows_mask.sum()} rows retained.\")\n",
    "    return keep_rows_mask"
   ]
  },
  {
   "cell_type": "code",
   "execution_count": 72,
   "id": "4a759155",
   "metadata": {
    "execution": {
     "iopub.execute_input": "2025-07-28T10:55:23.006460Z",
     "iopub.status.busy": "2025-07-28T10:55:23.005913Z",
     "iopub.status.idle": "2025-07-28T10:55:33.128331Z",
     "shell.execute_reply": "2025-07-28T10:55:33.127395Z"
    },
    "papermill": {
     "duration": 10.156178,
     "end_time": "2025-07-28T10:55:33.129820",
     "exception": false,
     "start_time": "2025-07-28T10:55:22.973642",
     "status": "completed"
    },
    "tags": []
   },
   "outputs": [
    {
     "name": "stdout",
     "output_type": "stream",
     "text": [
      "Stopping execution_time clock.\n",
      "[INFO] Keeping all rows: 89710 rows retained.\n"
     ]
    },
    {
     "name": "stdout",
     "output_type": "stream",
     "text": [
      "[INFO] Keeping all rows: 89710 rows retained.\n"
     ]
    },
    {
     "name": "stdout",
     "output_type": "stream",
     "text": [
      "[INFO] Keeping all rows: 89710 rows retained.\n"
     ]
    },
    {
     "name": "stdout",
     "output_type": "stream",
     "text": [
      "[INFO] Keeping all rows: 89710 rows retained.\n"
     ]
    },
    {
     "data": {
      "text/html": [
       "<div>\n",
       "<style scoped>\n",
       "    .dataframe tbody tr th:only-of-type {\n",
       "        vertical-align: middle;\n",
       "    }\n",
       "\n",
       "    .dataframe tbody tr th {\n",
       "        vertical-align: top;\n",
       "    }\n",
       "\n",
       "    .dataframe thead th {\n",
       "        text-align: right;\n",
       "    }\n",
       "</style>\n",
       "<table border=\"1\" class=\"dataframe\">\n",
       "  <thead>\n",
       "    <tr style=\"text-align: right;\">\n",
       "      <th></th>\n",
       "      <th>run_no</th>\n",
       "      <th>universe_id</th>\n",
       "      <th>universe_settings</th>\n",
       "      <th>execution_time</th>\n",
       "      <th>test_size_n</th>\n",
       "      <th>test_size_frac</th>\n",
       "      <th>fair_main_equalized_odds_difference</th>\n",
       "      <th>fair_main_equalized_odds_ratio</th>\n",
       "      <th>fair_main_demographic_parity_difference</th>\n",
       "      <th>fair_main_demographic_parity_ratio</th>\n",
       "      <th>...</th>\n",
       "      <th>perf_grp_precision_0</th>\n",
       "      <th>perf_grp_precision_1</th>\n",
       "      <th>perf_grp_false positive rate_0</th>\n",
       "      <th>perf_grp_false positive rate_1</th>\n",
       "      <th>perf_grp_false negative rate_0</th>\n",
       "      <th>perf_grp_false negative rate_1</th>\n",
       "      <th>perf_grp_selection rate_0</th>\n",
       "      <th>perf_grp_selection rate_1</th>\n",
       "      <th>perf_grp_count_0</th>\n",
       "      <th>perf_grp_count_1</th>\n",
       "    </tr>\n",
       "  </thead>\n",
       "  <tbody>\n",
       "    <tr>\n",
       "      <th>0</th>\n",
       "      <td>11</td>\n",
       "      <td>807be8d83338c56230c20f292d6de40d</td>\n",
       "      <td>{\"cutoff\": \"quantile_0.1\", \"eval_fairness_grou...</td>\n",
       "      <td>30.479877</td>\n",
       "      <td>89710</td>\n",
       "      <td>1.0</td>\n",
       "      <td>0.091478</td>\n",
       "      <td>0.904403</td>\n",
       "      <td>0.079433</td>\n",
       "      <td>0.917364</td>\n",
       "      <td>...</td>\n",
       "      <td>NaN</td>\n",
       "      <td>NaN</td>\n",
       "      <td>NaN</td>\n",
       "      <td>NaN</td>\n",
       "      <td>NaN</td>\n",
       "      <td>NaN</td>\n",
       "      <td>NaN</td>\n",
       "      <td>NaN</td>\n",
       "      <td>NaN</td>\n",
       "      <td>NaN</td>\n",
       "    </tr>\n",
       "    <tr>\n",
       "      <th>0</th>\n",
       "      <td>11</td>\n",
       "      <td>807be8d83338c56230c20f292d6de40d</td>\n",
       "      <td>{\"cutoff\": \"quantile_0.1\", \"eval_fairness_grou...</td>\n",
       "      <td>30.479877</td>\n",
       "      <td>89710</td>\n",
       "      <td>1.0</td>\n",
       "      <td>0.091478</td>\n",
       "      <td>0.904403</td>\n",
       "      <td>0.079433</td>\n",
       "      <td>0.917364</td>\n",
       "      <td>...</td>\n",
       "      <td>0.119277</td>\n",
       "      <td>0.148258</td>\n",
       "      <td>0.956912</td>\n",
       "      <td>0.865434</td>\n",
       "      <td>0.005490</td>\n",
       "      <td>0.010613</td>\n",
       "      <td>0.961246</td>\n",
       "      <td>0.881813</td>\n",
       "      <td>20540.0</td>\n",
       "      <td>69170.0</td>\n",
       "    </tr>\n",
       "    <tr>\n",
       "      <th>0</th>\n",
       "      <td>11</td>\n",
       "      <td>807be8d83338c56230c20f292d6de40d</td>\n",
       "      <td>{\"cutoff\": \"quantile_0.25\", \"eval_fairness_gro...</td>\n",
       "      <td>30.479877</td>\n",
       "      <td>89710</td>\n",
       "      <td>1.0</td>\n",
       "      <td>0.154060</td>\n",
       "      <td>0.816216</td>\n",
       "      <td>0.132796</td>\n",
       "      <td>0.844206</td>\n",
       "      <td>...</td>\n",
       "      <td>NaN</td>\n",
       "      <td>NaN</td>\n",
       "      <td>NaN</td>\n",
       "      <td>NaN</td>\n",
       "      <td>NaN</td>\n",
       "      <td>NaN</td>\n",
       "      <td>NaN</td>\n",
       "      <td>NaN</td>\n",
       "      <td>NaN</td>\n",
       "      <td>NaN</td>\n",
       "    </tr>\n",
       "    <tr>\n",
       "      <th>0</th>\n",
       "      <td>11</td>\n",
       "      <td>807be8d83338c56230c20f292d6de40d</td>\n",
       "      <td>{\"cutoff\": \"quantile_0.25\", \"eval_fairness_gro...</td>\n",
       "      <td>30.479877</td>\n",
       "      <td>89710</td>\n",
       "      <td>1.0</td>\n",
       "      <td>0.154060</td>\n",
       "      <td>0.816216</td>\n",
       "      <td>0.132796</td>\n",
       "      <td>0.844206</td>\n",
       "      <td>...</td>\n",
       "      <td>0.129941</td>\n",
       "      <td>0.174810</td>\n",
       "      <td>0.838268</td>\n",
       "      <td>0.684208</td>\n",
       "      <td>0.039274</td>\n",
       "      <td>0.048031</td>\n",
       "      <td>0.852386</td>\n",
       "      <td>0.719589</td>\n",
       "      <td>20540.0</td>\n",
       "      <td>69170.0</td>\n",
       "    </tr>\n",
       "  </tbody>\n",
       "</table>\n",
       "<p>4 rows × 50 columns</p>\n",
       "</div>"
      ],
      "text/plain": [
       "  run_no                       universe_id  \\\n",
       "0     11  807be8d83338c56230c20f292d6de40d   \n",
       "0     11  807be8d83338c56230c20f292d6de40d   \n",
       "0     11  807be8d83338c56230c20f292d6de40d   \n",
       "0     11  807be8d83338c56230c20f292d6de40d   \n",
       "\n",
       "                                   universe_settings  execution_time  \\\n",
       "0  {\"cutoff\": \"quantile_0.1\", \"eval_fairness_grou...       30.479877   \n",
       "0  {\"cutoff\": \"quantile_0.1\", \"eval_fairness_grou...       30.479877   \n",
       "0  {\"cutoff\": \"quantile_0.25\", \"eval_fairness_gro...       30.479877   \n",
       "0  {\"cutoff\": \"quantile_0.25\", \"eval_fairness_gro...       30.479877   \n",
       "\n",
       "   test_size_n  test_size_frac  fair_main_equalized_odds_difference  \\\n",
       "0        89710             1.0                             0.091478   \n",
       "0        89710             1.0                             0.091478   \n",
       "0        89710             1.0                             0.154060   \n",
       "0        89710             1.0                             0.154060   \n",
       "\n",
       "   fair_main_equalized_odds_ratio  fair_main_demographic_parity_difference  \\\n",
       "0                        0.904403                                 0.079433   \n",
       "0                        0.904403                                 0.079433   \n",
       "0                        0.816216                                 0.132796   \n",
       "0                        0.816216                                 0.132796   \n",
       "\n",
       "   fair_main_demographic_parity_ratio  ...  perf_grp_precision_0  \\\n",
       "0                            0.917364  ...                   NaN   \n",
       "0                            0.917364  ...              0.119277   \n",
       "0                            0.844206  ...                   NaN   \n",
       "0                            0.844206  ...              0.129941   \n",
       "\n",
       "   perf_grp_precision_1  perf_grp_false positive rate_0  \\\n",
       "0                   NaN                             NaN   \n",
       "0              0.148258                        0.956912   \n",
       "0                   NaN                             NaN   \n",
       "0              0.174810                        0.838268   \n",
       "\n",
       "   perf_grp_false positive rate_1  perf_grp_false negative rate_0  \\\n",
       "0                             NaN                             NaN   \n",
       "0                        0.865434                        0.005490   \n",
       "0                             NaN                             NaN   \n",
       "0                        0.684208                        0.039274   \n",
       "\n",
       "   perf_grp_false negative rate_1  perf_grp_selection rate_0  \\\n",
       "0                             NaN                        NaN   \n",
       "0                        0.010613                   0.961246   \n",
       "0                             NaN                        NaN   \n",
       "0                        0.048031                   0.852386   \n",
       "\n",
       "   perf_grp_selection rate_1  perf_grp_count_0  perf_grp_count_1  \n",
       "0                        NaN               NaN               NaN  \n",
       "0                   0.881813           20540.0           69170.0  \n",
       "0                        NaN               NaN               NaN  \n",
       "0                   0.719589           20540.0           69170.0  \n",
       "\n",
       "[4 rows x 50 columns]"
      ]
     },
     "execution_count": 72,
     "metadata": {},
     "output_type": "execute_result"
    }
   ],
   "source": [
    "final_output = universe_analysis.generate_final_output(\n",
    "    y_pred_prob=probs_test,\n",
    "    y_test=y_true,\n",
    "    org_test=org_test,\n",
    "    filter_data=filter_sub_universe_data,\n",
    "    cp_metrics_df=cp_metrics_df,\n",
    "    save=True,\n",
    ")\n",
    "final_output"
   ]
  },
  {
   "cell_type": "code",
   "execution_count": null,
   "id": "721ff514-cb11-46f8-b6fc-50392f74b5cb",
   "metadata": {
    "papermill": {
     "duration": 0.016866,
     "end_time": "2025-07-28T10:55:33.165926",
     "exception": false,
     "start_time": "2025-07-28T10:55:33.149060",
     "status": "completed"
    },
    "tags": []
   },
   "outputs": [],
   "source": []
  }
 ],
 "metadata": {
  "celltoolbar": "Tags",
  "kernelspec": {
   "display_name": "Python (CMA Fairness)",
   "language": "python",
   "name": "cma_fair_env"
  },
  "language_info": {
   "codemirror_mode": {
    "name": "ipython",
    "version": 3
   },
   "file_extension": ".py",
   "mimetype": "text/x-python",
   "name": "python",
   "nbconvert_exporter": "python",
   "pygments_lexer": "ipython3",
   "version": "3.10.12"
  },
  "papermill": {
   "default_parameters": {},
   "duration": 44.951555,
   "end_time": "2025-07-28T10:55:33.901697",
   "environment_variables": {},
   "exception": null,
   "input_path": "universe_analysis.ipynb",
   "output_path": "output/runs/11/notebooks/m_11-807be8d83338c56230c20f292d6de40d.ipynb",
   "parameters": {
    "output_dir": "output",
    "run_no": "11",
    "seed": "2023",
    "universe": "{\"cutoff\": [\"quantile_0.1\", \"quantile_0.25\"], \"eval_fairness_grouping\": [\"majority-minority\", \"nationality-all\"], \"exclude_features\": \"nationality-sex\", \"exclude_subgroups\": \"keep-all\", \"model\": \"penalized_logreg\", \"scale\": \"scale\", \"training_size\": \"2014\"}",
    "universe_id": "807be8d83338c56230c20f292d6de40d"
   },
   "start_time": "2025-07-28T10:54:48.950142",
   "version": "2.6.0"
  }
 },
 "nbformat": 4,
 "nbformat_minor": 5
}