{
 "cells": [
  {
   "cell_type": "code",
   "execution_count": 1,
   "id": "f159f837-637b-42ba-96b5-ec9a68c44524",
   "metadata": {
    "execution": {
     "iopub.execute_input": "2025-07-28T10:50:41.552875Z",
     "iopub.status.busy": "2025-07-28T10:50:41.551888Z",
     "iopub.status.idle": "2025-07-28T10:50:41.565216Z",
     "shell.execute_reply": "2025-07-28T10:50:41.564260Z"
    },
    "papermill": {
     "duration": 0.03454,
     "end_time": "2025-07-28T10:50:41.566812",
     "exception": false,
     "start_time": "2025-07-28T10:50:41.532272",
     "status": "completed"
    },
    "tags": []
   },
   "outputs": [
    {
     "name": "stdout",
     "output_type": "stream",
     "text": [
      "/dss/dsshome1/0C/ra93lal2/cma/CMA_Fairness_v2\n"
     ]
    },
    {
     "name": "stderr",
     "output_type": "stream",
     "text": [
      "/dss/dsshome1/0C/ra93lal2/.local/share/virtualenvs/CMA_Fairness_v2-3j10GkSs/lib/python3.10/site-packages/IPython/core/magics/osm.py:393: UserWarning: This is now an optional IPython functionality, using bookmarks requires you to install the `pickleshare` library.\n",
      "  bkms = self.shell.db.get('bookmarks', {})\n",
      "/dss/dsshome1/0C/ra93lal2/.local/share/virtualenvs/CMA_Fairness_v2-3j10GkSs/lib/python3.10/site-packages/IPython/core/magics/osm.py:417: UserWarning: This is now an optional IPython functionality, setting dhist requires you to install the `pickleshare` library.\n",
      "  self.shell.db['dhist'] = compress_dhist(dhist)[-100:]\n"
     ]
    }
   ],
   "source": [
    "%cd ~/cma/CMA_Fairness_v2"
   ]
  },
  {
   "cell_type": "markdown",
   "id": "de2603b9",
   "metadata": {
    "papermill": {
     "duration": 0.018562,
     "end_time": "2025-07-28T10:50:41.604508",
     "exception": false,
     "start_time": "2025-07-28T10:50:41.585946",
     "status": "completed"
    },
    "tags": []
   },
   "source": [
    "The following cell holds the definition of our parameters, these values can be overriden by rendering the with e.g. the following command:\n",
    "\n",
    "papermill -p alpha 0.2 -p ratio 0.3 universe_analysis.ipynb output/test_run.ipynb"
   ]
  },
  {
   "cell_type": "code",
   "execution_count": 2,
   "id": "a80968a0-40bb-4fa9-85ef-2d5eefb01975",
   "metadata": {
    "execution": {
     "iopub.execute_input": "2025-07-28T10:50:41.644097Z",
     "iopub.status.busy": "2025-07-28T10:50:41.643562Z",
     "iopub.status.idle": "2025-07-28T10:50:41.649310Z",
     "shell.execute_reply": "2025-07-28T10:50:41.648394Z"
    },
    "papermill": {
     "duration": 0.02838,
     "end_time": "2025-07-28T10:50:41.651286",
     "exception": false,
     "start_time": "2025-07-28T10:50:41.622906",
     "status": "completed"
    },
    "tags": []
   },
   "outputs": [
    {
     "name": "stdout",
     "output_type": "stream",
     "text": [
      "Current working directory: /dss/dsshome1/0C/ra93lal2/cma/CMA_Fairness_v2\n"
     ]
    }
   ],
   "source": [
    "import os\n",
    "print(\"Current working directory:\", os.getcwd())"
   ]
  },
  {
   "cell_type": "code",
   "execution_count": 3,
   "id": "2dce4c03",
   "metadata": {
    "execution": {
     "iopub.execute_input": "2025-07-28T10:50:41.698087Z",
     "iopub.status.busy": "2025-07-28T10:50:41.697636Z",
     "iopub.status.idle": "2025-07-28T10:50:41.703946Z",
     "shell.execute_reply": "2025-07-28T10:50:41.703011Z"
    },
    "papermill": {
     "duration": 0.030588,
     "end_time": "2025-07-28T10:50:41.706704",
     "exception": false,
     "start_time": "2025-07-28T10:50:41.676116",
     "status": "completed"
    },
    "tags": [
     "parameters"
    ]
   },
   "outputs": [],
   "source": [
    "run_no = 0\n",
    "universe_id = \"test\"\n",
    "universe = {\n",
    "    \"training_size\": \"2014\", # \"25k\", \"5k\", \"1k\", \"2014\"\n",
    "    \"scale\": \"scale\", # \"scale\", \"do-not-scale\",\n",
    "    #\"stratify_split\": \"target\", # \"none\", \"target\", \"protected-attribute\", \"both\",\n",
    "    \"model\": \"elasticnet\", # \"logreg\", \"penalized_logreg\", \"rf\", \"gbm\", \"elasticnet\"\n",
    "    \"cutoff\": [\"quantile_0.15\", \"quantile_0.30\"],\n",
    "    \"exclude_features\": \"age\", # \"none\", \"nationality\", \"sex\", \"nationality-sex\", \"age\"\n",
    "    \"exclude_subgroups\": \"keep-all\", # \"keep-all\", \"drop-non-german\"\n",
    "    \"eval_fairness_grouping\": [\"majority-minority\", \"nationality-all\"]\n",
    "}\n",
    "\n",
    "output_dir=\"./output\"\n",
    "seed=0"
   ]
  },
  {
   "cell_type": "code",
   "execution_count": 4,
   "id": "7647e123",
   "metadata": {
    "execution": {
     "iopub.execute_input": "2025-07-28T10:50:41.749696Z",
     "iopub.status.busy": "2025-07-28T10:50:41.748891Z",
     "iopub.status.idle": "2025-07-28T10:50:41.754887Z",
     "shell.execute_reply": "2025-07-28T10:50:41.753850Z"
    },
    "papermill": {
     "duration": 0.02939,
     "end_time": "2025-07-28T10:50:41.756947",
     "exception": false,
     "start_time": "2025-07-28T10:50:41.727557",
     "status": "completed"
    },
    "tags": [
     "injected-parameters"
    ]
   },
   "outputs": [],
   "source": [
    "# Parameters\n",
    "universe_id = \"7377984325116e7afda931ea10cf393a\"\n",
    "run_no = \"11\"\n",
    "universe = \"{\\\"cutoff\\\": [\\\"quantile_0.1\\\", \\\"quantile_0.25\\\"], \\\"eval_fairness_grouping\\\": [\\\"majority-minority\\\", \\\"nationality-all\\\"], \\\"exclude_features\\\": \\\"nationality\\\", \\\"exclude_subgroups\\\": \\\"drop-non-german\\\", \\\"model\\\": \\\"gbm\\\", \\\"scale\\\": \\\"do-not-scale\\\", \\\"training_size\\\": \\\"1k\\\"}\"\n",
    "output_dir = \"output\"\n",
    "seed = \"2023\"\n"
   ]
  },
  {
   "cell_type": "code",
   "execution_count": 5,
   "id": "1650acaf",
   "metadata": {
    "execution": {
     "iopub.execute_input": "2025-07-28T10:50:41.799536Z",
     "iopub.status.busy": "2025-07-28T10:50:41.799085Z",
     "iopub.status.idle": "2025-07-28T10:50:41.804484Z",
     "shell.execute_reply": "2025-07-28T10:50:41.803516Z"
    },
    "papermill": {
     "duration": 0.028645,
     "end_time": "2025-07-28T10:50:41.806386",
     "exception": false,
     "start_time": "2025-07-28T10:50:41.777741",
     "status": "completed"
    },
    "tags": []
   },
   "outputs": [],
   "source": [
    "import json\n",
    "# Parse universe into dict if it is passed as a string\n",
    "if isinstance(universe, str):\n",
    "    universe = json.loads(universe)"
   ]
  },
  {
   "cell_type": "code",
   "execution_count": 6,
   "id": "16620c48",
   "metadata": {
    "execution": {
     "iopub.execute_input": "2025-07-28T10:50:41.849887Z",
     "iopub.status.busy": "2025-07-28T10:50:41.849384Z",
     "iopub.status.idle": "2025-07-28T10:50:41.899154Z",
     "shell.execute_reply": "2025-07-28T10:50:41.898086Z"
    },
    "papermill": {
     "duration": 0.073859,
     "end_time": "2025-07-28T10:50:41.901199",
     "exception": false,
     "start_time": "2025-07-28T10:50:41.827340",
     "status": "completed"
    },
    "tags": []
   },
   "outputs": [],
   "source": [
    "# Auto-reload the custom package\n",
    "%load_ext autoreload\n",
    "%autoreload 1\n",
    "%aimport fairness_multiverse"
   ]
  },
  {
   "cell_type": "code",
   "execution_count": 7,
   "id": "01c5c9f3",
   "metadata": {
    "execution": {
     "iopub.execute_input": "2025-07-28T10:50:41.943043Z",
     "iopub.status.busy": "2025-07-28T10:50:41.942543Z",
     "iopub.status.idle": "2025-07-28T10:50:44.444953Z",
     "shell.execute_reply": "2025-07-28T10:50:44.443848Z"
    },
    "papermill": {
     "duration": 2.525941,
     "end_time": "2025-07-28T10:50:44.447192",
     "exception": false,
     "start_time": "2025-07-28T10:50:41.921251",
     "status": "completed"
    },
    "tags": []
   },
   "outputs": [],
   "source": [
    "from fairness_multiverse.universe import UniverseAnalysis\n",
    "\n",
    "universe_analysis = UniverseAnalysis(\n",
    "    run_no = run_no,\n",
    "    universe_id = universe_id,\n",
    "    universe = universe,\n",
    "    output_dir=output_dir,\n",
    ")"
   ]
  },
  {
   "cell_type": "code",
   "execution_count": 8,
   "id": "106241f5",
   "metadata": {
    "execution": {
     "iopub.execute_input": "2025-07-28T10:50:44.491090Z",
     "iopub.status.busy": "2025-07-28T10:50:44.490029Z",
     "iopub.status.idle": "2025-07-28T10:50:44.497226Z",
     "shell.execute_reply": "2025-07-28T10:50:44.496105Z"
    },
    "papermill": {
     "duration": 0.030168,
     "end_time": "2025-07-28T10:50:44.499303",
     "exception": false,
     "start_time": "2025-07-28T10:50:44.469135",
     "status": "completed"
    },
    "tags": []
   },
   "outputs": [
    {
     "name": "stdout",
     "output_type": "stream",
     "text": [
      "Using Seed: 2023\n"
     ]
    }
   ],
   "source": [
    "import numpy as np\n",
    "parsed_seed = int(seed)\n",
    "np.random.seed(parsed_seed)\n",
    "print(f\"Using Seed: {parsed_seed}\")"
   ]
  },
  {
   "cell_type": "markdown",
   "id": "e0ebdc57",
   "metadata": {
    "papermill": {
     "duration": 0.02118,
     "end_time": "2025-07-28T10:50:44.542227",
     "exception": false,
     "start_time": "2025-07-28T10:50:44.521047",
     "status": "completed"
    },
    "tags": []
   },
   "source": [
    "# Loading Data"
   ]
  },
  {
   "cell_type": "markdown",
   "id": "681925a3",
   "metadata": {
    "papermill": {
     "duration": 0.010226,
     "end_time": "2025-07-28T10:50:44.567338",
     "exception": false,
     "start_time": "2025-07-28T10:50:44.557112",
     "status": "completed"
    },
    "tags": []
   },
   "source": [
    "Load siab_train, siab_test, siab_calib and/or \n",
    "load siab_train_features, siab_train_labels"
   ]
  },
  {
   "cell_type": "code",
   "execution_count": 9,
   "id": "f0496b8a",
   "metadata": {
    "execution": {
     "iopub.execute_input": "2025-07-28T10:50:44.589340Z",
     "iopub.status.busy": "2025-07-28T10:50:44.588969Z",
     "iopub.status.idle": "2025-07-28T10:50:55.925646Z",
     "shell.execute_reply": "2025-07-28T10:50:55.924079Z"
    },
    "papermill": {
     "duration": 11.34999,
     "end_time": "2025-07-28T10:50:55.927615",
     "exception": false,
     "start_time": "2025-07-28T10:50:44.577625",
     "status": "completed"
    },
    "tags": []
   },
   "outputs": [
    {
     "name": "stdout",
     "output_type": "stream",
     "text": [
      "Loading SIAB data from cache: data/siab_cached.csv.gz\n"
     ]
    },
    {
     "name": "stdout",
     "output_type": "stream",
     "text": [
      "(643690, 164)\n"
     ]
    }
   ],
   "source": [
    "from pathlib import Path\n",
    "import pandas as pd\n",
    "\n",
    "# File paths\n",
    "raw_file = Path(\"data/raw/siab.csv\")\n",
    "cache_file = Path(\"data/siab_cached.csv.gz\")\n",
    "\n",
    "# Ensure cache directory exists\n",
    "cache_file.parent.mkdir(parents=True, exist_ok=True)\n",
    "\n",
    "# Load with simple caching\n",
    "if cache_file.exists():\n",
    "    print(f\"Loading SIAB data from cache: {cache_file}\")\n",
    "    siab = pd.read_csv(cache_file, compression='gzip')\n",
    "else:\n",
    "    print(f\"Cache not found. Reading raw SIAB data: {raw_file}\")\n",
    "    siab = pd.read_csv(raw_file)\n",
    "    siab.to_csv(cache_file, index=False, compression='gzip')\n",
    "    print(f\"Cached SIAB data to: {cache_file}\")\n",
    "\n",
    "# Now use `siab` DataFrame as needed\n",
    "print(siab.shape)"
   ]
  },
  {
   "cell_type": "code",
   "execution_count": 10,
   "id": "db0ca512-5f53-4dba-abdb-a2888bca41ba",
   "metadata": {
    "execution": {
     "iopub.execute_input": "2025-07-28T10:50:55.975191Z",
     "iopub.status.busy": "2025-07-28T10:50:55.974282Z",
     "iopub.status.idle": "2025-07-28T10:50:55.981411Z",
     "shell.execute_reply": "2025-07-28T10:50:55.980084Z"
    },
    "papermill": {
     "duration": 0.031416,
     "end_time": "2025-07-28T10:50:55.983251",
     "exception": false,
     "start_time": "2025-07-28T10:50:55.951835",
     "status": "completed"
    },
    "tags": []
   },
   "outputs": [],
   "source": [
    "#siab"
   ]
  },
  {
   "cell_type": "code",
   "execution_count": 11,
   "id": "a0edb063",
   "metadata": {
    "execution": {
     "iopub.execute_input": "2025-07-28T10:50:56.027417Z",
     "iopub.status.busy": "2025-07-28T10:50:56.026841Z",
     "iopub.status.idle": "2025-07-28T10:50:56.031356Z",
     "shell.execute_reply": "2025-07-28T10:50:56.030598Z"
    },
    "papermill": {
     "duration": 0.027187,
     "end_time": "2025-07-28T10:50:56.032894",
     "exception": false,
     "start_time": "2025-07-28T10:50:56.005707",
     "status": "completed"
    },
    "tags": []
   },
   "outputs": [],
   "source": [
    "#import pandas as pd\n",
    "#\n",
    "#X_train = pd.read_csv(\"./data/X_train.csv\")\n",
    "#y_train = pd.read_csv(\"./data/y_train.csv\")"
   ]
  },
  {
   "cell_type": "code",
   "execution_count": 12,
   "id": "63d08085",
   "metadata": {
    "execution": {
     "iopub.execute_input": "2025-07-28T10:50:56.070932Z",
     "iopub.status.busy": "2025-07-28T10:50:56.070446Z",
     "iopub.status.idle": "2025-07-28T10:50:56.076298Z",
     "shell.execute_reply": "2025-07-28T10:50:56.075286Z"
    },
    "papermill": {
     "duration": 0.031225,
     "end_time": "2025-07-28T10:50:56.078344",
     "exception": false,
     "start_time": "2025-07-28T10:50:56.047119",
     "status": "completed"
    },
    "tags": []
   },
   "outputs": [],
   "source": [
    "#X_test = pd.read_csv(\"./data/X_test.csv\")\n",
    "#y_true = pd.read_csv(\"./data/y_test.csv\")"
   ]
  },
  {
   "cell_type": "code",
   "execution_count": 13,
   "id": "98a8d0fa-1d3d-4ed8-bb2c-281470e24add",
   "metadata": {
    "execution": {
     "iopub.execute_input": "2025-07-28T10:50:56.122702Z",
     "iopub.status.busy": "2025-07-28T10:50:56.122163Z",
     "iopub.status.idle": "2025-07-28T10:50:56.128235Z",
     "shell.execute_reply": "2025-07-28T10:50:56.127126Z"
    },
    "papermill": {
     "duration": 0.031388,
     "end_time": "2025-07-28T10:50:56.130186",
     "exception": false,
     "start_time": "2025-07-28T10:50:56.098798",
     "status": "completed"
    },
    "tags": []
   },
   "outputs": [],
   "source": [
    "# Calibration data for conformal\n",
    "#X_calib = pd.read_csv(\"./data/X_calib.csv\")\n",
    "#y_calib = pd.read_csv(\"./data/y_calib.csv\")"
   ]
  },
  {
   "cell_type": "markdown",
   "id": "9901737e-04df-44f0-9100-f5ad144ed040",
   "metadata": {
    "papermill": {
     "duration": 0.024382,
     "end_time": "2025-07-28T10:50:56.176561",
     "exception": false,
     "start_time": "2025-07-28T10:50:56.152179",
     "status": "completed"
    },
    "tags": []
   },
   "source": [
    "# Splitting Data and Setting Training Data Size"
   ]
  },
  {
   "cell_type": "code",
   "execution_count": 14,
   "id": "acbc8f7d-8fc8-4e86-8c59-5dcb0f58384b",
   "metadata": {
    "execution": {
     "iopub.execute_input": "2025-07-28T10:50:56.231209Z",
     "iopub.status.busy": "2025-07-28T10:50:56.230610Z",
     "iopub.status.idle": "2025-07-28T10:50:56.242153Z",
     "shell.execute_reply": "2025-07-28T10:50:56.240850Z"
    },
    "papermill": {
     "duration": 0.038757,
     "end_time": "2025-07-28T10:50:56.244102",
     "exception": false,
     "start_time": "2025-07-28T10:50:56.205345",
     "status": "completed"
    },
    "tags": []
   },
   "outputs": [],
   "source": [
    "def sample_by_year(df, training_size, random_state=42):\n",
    "    if training_size == \"2014\":\n",
    "        return df[df[\"year\"] == 2014].reset_index(drop=True)\n",
    "    \n",
    "    size_map = {\n",
    "        \"25k\": 5000,\n",
    "        \"5k\": 1000,\n",
    "        \"1k\": 200\n",
    "    }\n",
    "\n",
    "    if training_size not in size_map:\n",
    "        return df.reset_index(drop=True)  # use all data\n",
    "\n",
    "    n_per_year = size_map[training_size]\n",
    "    grouped = df.groupby(\"year\")\n",
    "    sampled = grouped.apply(lambda x: x.sample(n=min(n_per_year, len(x)), random_state=random_state))\n",
    "    return sampled.reset_index(drop=True)"
   ]
  },
  {
   "cell_type": "code",
   "execution_count": 15,
   "id": "6d931f52-beaf-43ff-9e78-9d44a448d54e",
   "metadata": {
    "execution": {
     "iopub.execute_input": "2025-07-28T10:50:56.292848Z",
     "iopub.status.busy": "2025-07-28T10:50:56.291725Z",
     "iopub.status.idle": "2025-07-28T10:50:57.732577Z",
     "shell.execute_reply": "2025-07-28T10:50:57.731373Z"
    },
    "papermill": {
     "duration": 1.467925,
     "end_time": "2025-07-28T10:50:57.734426",
     "exception": false,
     "start_time": "2025-07-28T10:50:56.266501",
     "status": "completed"
    },
    "tags": []
   },
   "outputs": [],
   "source": [
    "siab_s = sample_by_year(siab, universe[\"training_size\"])"
   ]
  },
  {
   "cell_type": "code",
   "execution_count": 16,
   "id": "5db0a40e-a4e2-4920-be85-b12ae061d70d",
   "metadata": {
    "execution": {
     "iopub.execute_input": "2025-07-28T10:50:57.778686Z",
     "iopub.status.busy": "2025-07-28T10:50:57.778217Z",
     "iopub.status.idle": "2025-07-28T10:50:57.790133Z",
     "shell.execute_reply": "2025-07-28T10:50:57.789109Z"
    },
    "papermill": {
     "duration": 0.038553,
     "end_time": "2025-07-28T10:50:57.796371",
     "exception": false,
     "start_time": "2025-07-28T10:50:57.757818",
     "status": "completed"
    },
    "tags": []
   },
   "outputs": [
    {
     "data": {
      "text/plain": [
       "year\n",
       "2010    200\n",
       "2011    200\n",
       "2012    200\n",
       "2013    200\n",
       "2014    200\n",
       "2015    200\n",
       "2016    200\n",
       "dtype: int64"
      ]
     },
     "metadata": {},
     "output_type": "display_data"
    }
   ],
   "source": [
    "display(siab_s.groupby(\"year\").size())"
   ]
  },
  {
   "cell_type": "code",
   "execution_count": 17,
   "id": "a561edb4-d032-42cb-8256-22eac1111c64",
   "metadata": {
    "execution": {
     "iopub.execute_input": "2025-07-28T10:50:57.840402Z",
     "iopub.status.busy": "2025-07-28T10:50:57.839717Z",
     "iopub.status.idle": "2025-07-28T10:50:58.108127Z",
     "shell.execute_reply": "2025-07-28T10:50:58.106995Z"
    },
    "papermill": {
     "duration": 0.292306,
     "end_time": "2025-07-28T10:50:58.110347",
     "exception": false,
     "start_time": "2025-07-28T10:50:57.818041",
     "status": "completed"
    },
    "tags": []
   },
   "outputs": [],
   "source": [
    "siab_train = siab_s[siab_s.year < 2015]\n",
    "siab_calib = siab[siab.year == 2015]\n",
    "siab_test = siab[siab.year == 2016]"
   ]
  },
  {
   "cell_type": "code",
   "execution_count": 18,
   "id": "472de16f-c3db-4916-846b-1f0de9cf1746",
   "metadata": {
    "execution": {
     "iopub.execute_input": "2025-07-28T10:50:58.156251Z",
     "iopub.status.busy": "2025-07-28T10:50:58.155806Z",
     "iopub.status.idle": "2025-07-28T10:50:58.163676Z",
     "shell.execute_reply": "2025-07-28T10:50:58.162746Z"
    },
    "papermill": {
     "duration": 0.032008,
     "end_time": "2025-07-28T10:50:58.165721",
     "exception": false,
     "start_time": "2025-07-28T10:50:58.133713",
     "status": "completed"
    },
    "tags": []
   },
   "outputs": [],
   "source": [
    "X_train = siab_train.iloc[:,4:164]\n",
    "y_train = siab_train.iloc[:, [3]]"
   ]
  },
  {
   "cell_type": "code",
   "execution_count": 19,
   "id": "828c96af-f43a-4ed6-ba47-8ac73a47d56c",
   "metadata": {
    "execution": {
     "iopub.execute_input": "2025-07-28T10:50:58.211316Z",
     "iopub.status.busy": "2025-07-28T10:50:58.210840Z",
     "iopub.status.idle": "2025-07-28T10:50:58.269815Z",
     "shell.execute_reply": "2025-07-28T10:50:58.268720Z"
    },
    "papermill": {
     "duration": 0.084928,
     "end_time": "2025-07-28T10:50:58.271773",
     "exception": false,
     "start_time": "2025-07-28T10:50:58.186845",
     "status": "completed"
    },
    "tags": []
   },
   "outputs": [],
   "source": [
    "X_calib = siab_calib.iloc[:,4:164]\n",
    "y_calib = siab_calib.iloc[:, [3]]"
   ]
  },
  {
   "cell_type": "code",
   "execution_count": 20,
   "id": "c34be9c3-6bd6-476e-acd3-845840e303be",
   "metadata": {
    "execution": {
     "iopub.execute_input": "2025-07-28T10:50:58.318384Z",
     "iopub.status.busy": "2025-07-28T10:50:58.317797Z",
     "iopub.status.idle": "2025-07-28T10:50:58.380564Z",
     "shell.execute_reply": "2025-07-28T10:50:58.376615Z"
    },
    "papermill": {
     "duration": 0.089895,
     "end_time": "2025-07-28T10:50:58.382709",
     "exception": false,
     "start_time": "2025-07-28T10:50:58.292814",
     "status": "completed"
    },
    "tags": []
   },
   "outputs": [],
   "source": [
    "X_test = siab_test.iloc[:,4:164]\n",
    "y_true = siab_test.iloc[:, [3]]"
   ]
  },
  {
   "cell_type": "code",
   "execution_count": 21,
   "id": "e6c733c5",
   "metadata": {
    "execution": {
     "iopub.execute_input": "2025-07-28T10:50:58.429866Z",
     "iopub.status.busy": "2025-07-28T10:50:58.429416Z",
     "iopub.status.idle": "2025-07-28T10:50:58.539607Z",
     "shell.execute_reply": "2025-07-28T10:50:58.538634Z"
    },
    "papermill": {
     "duration": 0.136011,
     "end_time": "2025-07-28T10:50:58.541328",
     "exception": false,
     "start_time": "2025-07-28T10:50:58.405317",
     "status": "completed"
    },
    "tags": []
   },
   "outputs": [],
   "source": [
    "# Auxiliary data needed downstream in the pipeline\n",
    "\n",
    "org_train = X_train.copy()\n",
    "org_test = X_test.copy()\n",
    "org_calib = X_calib.copy()"
   ]
  },
  {
   "cell_type": "markdown",
   "id": "0a4a1b33",
   "metadata": {
    "papermill": {
     "duration": 0.02284,
     "end_time": "2025-07-28T10:50:58.583150",
     "exception": false,
     "start_time": "2025-07-28T10:50:58.560310",
     "status": "completed"
    },
    "tags": []
   },
   "source": [
    "# Preprocessing Data"
   ]
  },
  {
   "cell_type": "code",
   "execution_count": 22,
   "id": "ca879031",
   "metadata": {
    "execution": {
     "iopub.execute_input": "2025-07-28T10:50:58.632419Z",
     "iopub.status.busy": "2025-07-28T10:50:58.631803Z",
     "iopub.status.idle": "2025-07-28T10:50:58.640081Z",
     "shell.execute_reply": "2025-07-28T10:50:58.638696Z"
    },
    "papermill": {
     "duration": 0.036047,
     "end_time": "2025-07-28T10:50:58.642477",
     "exception": false,
     "start_time": "2025-07-28T10:50:58.606430",
     "status": "completed"
    },
    "tags": []
   },
   "outputs": [],
   "source": [
    "# EXCLUDE PROTECTED FEATURES\n",
    "# ----------------------\n",
    "# \"exclude_features\": \"none\", # \"nationality\", \"sex\", \"nationality-sex\"\n",
    "\n",
    "excluded_features = universe[\"exclude_features\"].split(\"-\") # split, e.g.: \"nationality-sex\" -> [\"nationality\", \"sex\"]\n",
    "excluded_features_dictionary = {\n",
    "    \"nationality\": [\"maxdeutsch1\", \"maxdeutsch.Missing.\"],\n",
    "    \"sex\": [\"frau1\"],\n",
    "    \"age\": [\"age\"],\n",
    "}\n"
   ]
  },
  {
   "cell_type": "code",
   "execution_count": 23,
   "id": "b745ac60",
   "metadata": {
    "execution": {
     "iopub.execute_input": "2025-07-28T10:50:58.699048Z",
     "iopub.status.busy": "2025-07-28T10:50:58.698270Z",
     "iopub.status.idle": "2025-07-28T10:50:58.704891Z",
     "shell.execute_reply": "2025-07-28T10:50:58.703758Z"
    },
    "papermill": {
     "duration": 0.032707,
     "end_time": "2025-07-28T10:50:58.706698",
     "exception": false,
     "start_time": "2025-07-28T10:50:58.673991",
     "status": "completed"
    },
    "tags": []
   },
   "outputs": [],
   "source": [
    "# Code nice names to column names\n",
    "\n",
    "excluded_features_columns = [\n",
    "    excluded_features_dictionary[f] for f in excluded_features if len(f) > 0 and f != \"none\"\n",
    "]"
   ]
  },
  {
   "cell_type": "code",
   "execution_count": 24,
   "id": "f84f73a2",
   "metadata": {
    "execution": {
     "iopub.execute_input": "2025-07-28T10:50:58.753832Z",
     "iopub.status.busy": "2025-07-28T10:50:58.753347Z",
     "iopub.status.idle": "2025-07-28T10:50:58.759466Z",
     "shell.execute_reply": "2025-07-28T10:50:58.758734Z"
    },
    "papermill": {
     "duration": 0.031709,
     "end_time": "2025-07-28T10:50:58.760878",
     "exception": false,
     "start_time": "2025-07-28T10:50:58.729169",
     "status": "completed"
    },
    "tags": []
   },
   "outputs": [],
   "source": [
    "from utils import flatten_once\n",
    "\n",
    "excluded_features_columns = flatten_once(excluded_features_columns)"
   ]
  },
  {
   "cell_type": "code",
   "execution_count": 25,
   "id": "884dea22",
   "metadata": {
    "execution": {
     "iopub.execute_input": "2025-07-28T10:50:58.787009Z",
     "iopub.status.busy": "2025-07-28T10:50:58.786616Z",
     "iopub.status.idle": "2025-07-28T10:50:58.794230Z",
     "shell.execute_reply": "2025-07-28T10:50:58.793055Z"
    },
    "papermill": {
     "duration": 0.022656,
     "end_time": "2025-07-28T10:50:58.796275",
     "exception": false,
     "start_time": "2025-07-28T10:50:58.773619",
     "status": "completed"
    },
    "tags": []
   },
   "outputs": [
    {
     "name": "stdout",
     "output_type": "stream",
     "text": [
      "Dropping features: ['maxdeutsch1', 'maxdeutsch.Missing.']\n"
     ]
    }
   ],
   "source": [
    "if len(excluded_features_columns) > 0:\n",
    "    print(f\"Dropping features: {excluded_features_columns}\")\n",
    "    X_train.drop(excluded_features_columns, axis=1, inplace=True)"
   ]
  },
  {
   "cell_type": "code",
   "execution_count": 26,
   "id": "95ab8b16",
   "metadata": {
    "execution": {
     "iopub.execute_input": "2025-07-28T10:50:58.845581Z",
     "iopub.status.busy": "2025-07-28T10:50:58.845083Z",
     "iopub.status.idle": "2025-07-28T10:50:58.921108Z",
     "shell.execute_reply": "2025-07-28T10:50:58.919813Z"
    },
    "papermill": {
     "duration": 0.10303,
     "end_time": "2025-07-28T10:50:58.923267",
     "exception": false,
     "start_time": "2025-07-28T10:50:58.820237",
     "status": "completed"
    },
    "tags": []
   },
   "outputs": [
    {
     "name": "stdout",
     "output_type": "stream",
     "text": [
      "Dropping features: ['maxdeutsch1', 'maxdeutsch.Missing.']\n"
     ]
    }
   ],
   "source": [
    "if len(excluded_features_columns) > 0:\n",
    "    print(f\"Dropping features: {excluded_features_columns}\")\n",
    "    X_test.drop(excluded_features_columns, axis=1, inplace=True)"
   ]
  },
  {
   "cell_type": "code",
   "execution_count": 27,
   "id": "1853aaf5-fb9f-46cb-a2b5-8ea4ae2237e4",
   "metadata": {
    "execution": {
     "iopub.execute_input": "2025-07-28T10:50:58.971767Z",
     "iopub.status.busy": "2025-07-28T10:50:58.971258Z",
     "iopub.status.idle": "2025-07-28T10:50:59.035130Z",
     "shell.execute_reply": "2025-07-28T10:50:59.034053Z"
    },
    "papermill": {
     "duration": 0.089381,
     "end_time": "2025-07-28T10:50:59.037105",
     "exception": false,
     "start_time": "2025-07-28T10:50:58.947724",
     "status": "completed"
    },
    "tags": []
   },
   "outputs": [
    {
     "name": "stdout",
     "output_type": "stream",
     "text": [
      "Dropping features: ['maxdeutsch1', 'maxdeutsch.Missing.']\n"
     ]
    }
   ],
   "source": [
    "if len(excluded_features_columns) > 0:\n",
    "    print(f\"Dropping features: {excluded_features_columns}\")\n",
    "    X_calib.drop(excluded_features_columns, axis=1, inplace=True)"
   ]
  },
  {
   "cell_type": "code",
   "execution_count": 28,
   "id": "6727d079-03e5-481e-9d38-292a90b7a0a8",
   "metadata": {
    "execution": {
     "iopub.execute_input": "2025-07-28T10:50:59.083932Z",
     "iopub.status.busy": "2025-07-28T10:50:59.083329Z",
     "iopub.status.idle": "2025-07-28T10:50:59.089065Z",
     "shell.execute_reply": "2025-07-28T10:50:59.088017Z"
    },
    "papermill": {
     "duration": 0.031615,
     "end_time": "2025-07-28T10:50:59.090731",
     "exception": false,
     "start_time": "2025-07-28T10:50:59.059116",
     "status": "completed"
    },
    "tags": []
   },
   "outputs": [],
   "source": [
    "# SPLIT & STRATIFY DATA\n",
    "# ----------------------"
   ]
  },
  {
   "cell_type": "code",
   "execution_count": 29,
   "id": "76c4dc6d",
   "metadata": {
    "execution": {
     "iopub.execute_input": "2025-07-28T10:50:59.136807Z",
     "iopub.status.busy": "2025-07-28T10:50:59.135864Z",
     "iopub.status.idle": "2025-07-28T10:50:59.142091Z",
     "shell.execute_reply": "2025-07-28T10:50:59.140974Z"
    },
    "papermill": {
     "duration": 0.030743,
     "end_time": "2025-07-28T10:50:59.143951",
     "exception": false,
     "start_time": "2025-07-28T10:50:59.113208",
     "status": "completed"
    },
    "tags": []
   },
   "outputs": [],
   "source": [
    "# EXCLUDE CERTAIN SUBGROUPS\n",
    "# ----------------------\n",
    "\n",
    "mode = universe.get(\"exclude_subgroups\", \"keep-all\") \n",
    "# Fetches the exclude_subgroups setting from the universe dict.\n",
    "# Defaults to \"keep-all\" if the key is missing."
   ]
  },
  {
   "cell_type": "code",
   "execution_count": 30,
   "id": "21994072",
   "metadata": {
    "execution": {
     "iopub.execute_input": "2025-07-28T10:50:59.192441Z",
     "iopub.status.busy": "2025-07-28T10:50:59.191152Z",
     "iopub.status.idle": "2025-07-28T10:50:59.199597Z",
     "shell.execute_reply": "2025-07-28T10:50:59.198279Z"
    },
    "papermill": {
     "duration": 0.035255,
     "end_time": "2025-07-28T10:50:59.202083",
     "exception": false,
     "start_time": "2025-07-28T10:50:59.166828",
     "status": "completed"
    },
    "tags": []
   },
   "outputs": [],
   "source": [
    "if mode == \"keep-all\":\n",
    "    keep_mask = pd.Series(True, index=org_train.index)\n",
    "\n",
    "# org_train contains the original feature columns from features_org (in Simson)\n",
    "# features_org contains unprocessed features, for me X_train at beginning ???\n",
    "# For keep-all, creates a boolean Series (keep_mask) of all True, so no rows are removed.\n",
    "\n",
    "elif mode == \"drop-non-german\":\n",
    "    keep_mask = org_train[\"maxdeutsch1\"] == 1 # ??? what about missing values?\n",
    "\n",
    "else:\n",
    "    raise ValueError(f\"Unsupported mode for exclude_subgroups: {mode}\")\n"
   ]
  },
  {
   "cell_type": "code",
   "execution_count": 31,
   "id": "71651440",
   "metadata": {
    "execution": {
     "iopub.execute_input": "2025-07-28T10:50:59.265902Z",
     "iopub.status.busy": "2025-07-28T10:50:59.265286Z",
     "iopub.status.idle": "2025-07-28T10:50:59.274415Z",
     "shell.execute_reply": "2025-07-28T10:50:59.273321Z"
    },
    "papermill": {
     "duration": 0.042848,
     "end_time": "2025-07-28T10:50:59.276011",
     "exception": false,
     "start_time": "2025-07-28T10:50:59.233163",
     "status": "completed"
    },
    "tags": []
   },
   "outputs": [
    {
     "name": "stdout",
     "output_type": "stream",
     "text": [
      "Dropping 131 rows (13.10%) where mode='drop-non-german'\n"
     ]
    }
   ],
   "source": [
    "n_drop = (~keep_mask).sum() # Calculates how many rows are set to be dropped\n",
    "if n_drop > 0:\n",
    "    pct = n_drop / len(keep_mask) * 100\n",
    "    print(f\"Dropping {n_drop} rows ({pct:.2f}%) where mode='{mode}'\")"
   ]
  },
  {
   "cell_type": "code",
   "execution_count": 32,
   "id": "5fb8eee5",
   "metadata": {
    "execution": {
     "iopub.execute_input": "2025-07-28T10:50:59.343593Z",
     "iopub.status.busy": "2025-07-28T10:50:59.343030Z",
     "iopub.status.idle": "2025-07-28T10:50:59.349467Z",
     "shell.execute_reply": "2025-07-28T10:50:59.348484Z"
    },
    "papermill": {
     "duration": 0.031558,
     "end_time": "2025-07-28T10:50:59.351233",
     "exception": false,
     "start_time": "2025-07-28T10:50:59.319675",
     "status": "completed"
    },
    "tags": []
   },
   "outputs": [],
   "source": [
    "X_train = X_train[keep_mask]"
   ]
  },
  {
   "cell_type": "code",
   "execution_count": 33,
   "id": "b202bb3a",
   "metadata": {
    "execution": {
     "iopub.execute_input": "2025-07-28T10:50:59.390474Z",
     "iopub.status.busy": "2025-07-28T10:50:59.390050Z",
     "iopub.status.idle": "2025-07-28T10:50:59.396291Z",
     "shell.execute_reply": "2025-07-28T10:50:59.395424Z"
    },
    "papermill": {
     "duration": 0.021795,
     "end_time": "2025-07-28T10:50:59.397901",
     "exception": false,
     "start_time": "2025-07-28T10:50:59.376106",
     "status": "completed"
    },
    "tags": []
   },
   "outputs": [],
   "source": [
    "y_train = y_train[keep_mask]"
   ]
  },
  {
   "cell_type": "markdown",
   "id": "493e2ac3",
   "metadata": {
    "papermill": {
     "duration": 0.012457,
     "end_time": "2025-07-28T10:50:59.423523",
     "exception": false,
     "start_time": "2025-07-28T10:50:59.411066",
     "status": "completed"
    },
    "tags": []
   },
   "source": [
    "# Model Training"
   ]
  },
  {
   "cell_type": "code",
   "execution_count": 34,
   "id": "679e1268",
   "metadata": {
    "execution": {
     "iopub.execute_input": "2025-07-28T10:50:59.471757Z",
     "iopub.status.busy": "2025-07-28T10:50:59.471260Z",
     "iopub.status.idle": "2025-07-28T10:50:59.584602Z",
     "shell.execute_reply": "2025-07-28T10:50:59.583323Z"
    },
    "papermill": {
     "duration": 0.141163,
     "end_time": "2025-07-28T10:50:59.586714",
     "exception": false,
     "start_time": "2025-07-28T10:50:59.445551",
     "status": "completed"
    },
    "tags": []
   },
   "outputs": [],
   "source": [
    "from sklearn.linear_model import LogisticRegression\n",
    "from sklearn.ensemble import GradientBoostingClassifier, RandomForestClassifier\n",
    "\n",
    "if (universe[\"model\"] == \"logreg\"):\n",
    "    model = LogisticRegression() #penalty=\"none\") #, solver=\"newton-cg\", max_iter=1) # include random_state=19 ?\n",
    "elif (universe[\"model\"] == \"penalized_logreg\"):\n",
    "    model = LogisticRegression(penalty=\"l2\", C=1.0) #, solver=\"newton-cg\", max_iter=1)\n",
    "elif (universe[\"model\"] == \"rf\"):\n",
    "    model = RandomForestClassifier(n_estimators=100, n_jobs=-1)\n",
    "elif (universe[\"model\"] == \"gbm\"):\n",
    "    model = GradientBoostingClassifier()\n",
    "elif (universe[\"model\"] == \"elasticnet\"):\n",
    "    model = LogisticRegression(penalty = 'elasticnet', solver = 'saga', l1_ratio = 0.5, max_iter=5000) # which solver to use?\n",
    "else:\n",
    "    raise \"Unsupported universe.model\""
   ]
  },
  {
   "cell_type": "code",
   "execution_count": 35,
   "id": "0cc8f744",
   "metadata": {
    "execution": {
     "iopub.execute_input": "2025-07-28T10:50:59.633723Z",
     "iopub.status.busy": "2025-07-28T10:50:59.633402Z",
     "iopub.status.idle": "2025-07-28T10:50:59.638679Z",
     "shell.execute_reply": "2025-07-28T10:50:59.637931Z"
    },
    "papermill": {
     "duration": 0.028775,
     "end_time": "2025-07-28T10:50:59.640113",
     "exception": false,
     "start_time": "2025-07-28T10:50:59.611338",
     "status": "completed"
    },
    "tags": []
   },
   "outputs": [],
   "source": [
    "import numpy as np\n",
    "from sklearn.pipeline import Pipeline\n",
    "from sklearn.preprocessing import StandardScaler\n",
    "\n",
    "model = Pipeline([\n",
    "    #(\"continuous_processor\", continuous_processor),\n",
    "    #(\"categorical_preprocessor\", categorical_preprocessor),\n",
    "    (\"scale\", StandardScaler() if universe[\"scale\"] == \"scale\" else None), \n",
    "    (\"model\", model),\n",
    "])"
   ]
  },
  {
   "cell_type": "code",
   "execution_count": 36,
   "id": "9442c04d",
   "metadata": {
    "execution": {
     "iopub.execute_input": "2025-07-28T10:50:59.666492Z",
     "iopub.status.busy": "2025-07-28T10:50:59.666104Z",
     "iopub.status.idle": "2025-07-28T10:51:00.636334Z",
     "shell.execute_reply": "2025-07-28T10:51:00.635265Z"
    },
    "papermill": {
     "duration": 0.984974,
     "end_time": "2025-07-28T10:51:00.638239",
     "exception": false,
     "start_time": "2025-07-28T10:50:59.653265",
     "status": "completed"
    },
    "tags": []
   },
   "outputs": [
    {
     "data": {
      "text/html": [
       "<style>#sk-container-id-1 {color: black;background-color: white;}#sk-container-id-1 pre{padding: 0;}#sk-container-id-1 div.sk-toggleable {background-color: white;}#sk-container-id-1 label.sk-toggleable__label {cursor: pointer;display: block;width: 100%;margin-bottom: 0;padding: 0.3em;box-sizing: border-box;text-align: center;}#sk-container-id-1 label.sk-toggleable__label-arrow:before {content: \"▸\";float: left;margin-right: 0.25em;color: #696969;}#sk-container-id-1 label.sk-toggleable__label-arrow:hover:before {color: black;}#sk-container-id-1 div.sk-estimator:hover label.sk-toggleable__label-arrow:before {color: black;}#sk-container-id-1 div.sk-toggleable__content {max-height: 0;max-width: 0;overflow: hidden;text-align: left;background-color: #f0f8ff;}#sk-container-id-1 div.sk-toggleable__content pre {margin: 0.2em;color: black;border-radius: 0.25em;background-color: #f0f8ff;}#sk-container-id-1 input.sk-toggleable__control:checked~div.sk-toggleable__content {max-height: 200px;max-width: 100%;overflow: auto;}#sk-container-id-1 input.sk-toggleable__control:checked~label.sk-toggleable__label-arrow:before {content: \"▾\";}#sk-container-id-1 div.sk-estimator input.sk-toggleable__control:checked~label.sk-toggleable__label {background-color: #d4ebff;}#sk-container-id-1 div.sk-label input.sk-toggleable__control:checked~label.sk-toggleable__label {background-color: #d4ebff;}#sk-container-id-1 input.sk-hidden--visually {border: 0;clip: rect(1px 1px 1px 1px);clip: rect(1px, 1px, 1px, 1px);height: 1px;margin: -1px;overflow: hidden;padding: 0;position: absolute;width: 1px;}#sk-container-id-1 div.sk-estimator {font-family: monospace;background-color: #f0f8ff;border: 1px dotted black;border-radius: 0.25em;box-sizing: border-box;margin-bottom: 0.5em;}#sk-container-id-1 div.sk-estimator:hover {background-color: #d4ebff;}#sk-container-id-1 div.sk-parallel-item::after {content: \"\";width: 100%;border-bottom: 1px solid gray;flex-grow: 1;}#sk-container-id-1 div.sk-label:hover label.sk-toggleable__label {background-color: #d4ebff;}#sk-container-id-1 div.sk-serial::before {content: \"\";position: absolute;border-left: 1px solid gray;box-sizing: border-box;top: 0;bottom: 0;left: 50%;z-index: 0;}#sk-container-id-1 div.sk-serial {display: flex;flex-direction: column;align-items: center;background-color: white;padding-right: 0.2em;padding-left: 0.2em;position: relative;}#sk-container-id-1 div.sk-item {position: relative;z-index: 1;}#sk-container-id-1 div.sk-parallel {display: flex;align-items: stretch;justify-content: center;background-color: white;position: relative;}#sk-container-id-1 div.sk-item::before, #sk-container-id-1 div.sk-parallel-item::before {content: \"\";position: absolute;border-left: 1px solid gray;box-sizing: border-box;top: 0;bottom: 0;left: 50%;z-index: -1;}#sk-container-id-1 div.sk-parallel-item {display: flex;flex-direction: column;z-index: 1;position: relative;background-color: white;}#sk-container-id-1 div.sk-parallel-item:first-child::after {align-self: flex-end;width: 50%;}#sk-container-id-1 div.sk-parallel-item:last-child::after {align-self: flex-start;width: 50%;}#sk-container-id-1 div.sk-parallel-item:only-child::after {width: 0;}#sk-container-id-1 div.sk-dashed-wrapped {border: 1px dashed gray;margin: 0 0.4em 0.5em 0.4em;box-sizing: border-box;padding-bottom: 0.4em;background-color: white;}#sk-container-id-1 div.sk-label label {font-family: monospace;font-weight: bold;display: inline-block;line-height: 1.2em;}#sk-container-id-1 div.sk-label-container {text-align: center;}#sk-container-id-1 div.sk-container {/* jupyter's `normalize.less` sets `[hidden] { display: none; }` but bootstrap.min.css set `[hidden] { display: none !important; }` so we also need the `!important` here to be able to override the default hidden behavior on the sphinx rendered scikit-learn.org. See: https://github.com/scikit-learn/scikit-learn/issues/21755 */display: inline-block !important;position: relative;}#sk-container-id-1 div.sk-text-repr-fallback {display: none;}</style><div id=\"sk-container-id-1\" class=\"sk-top-container\"><div class=\"sk-text-repr-fallback\"><pre>Pipeline(steps=[(&#x27;scale&#x27;, None), (&#x27;model&#x27;, GradientBoostingClassifier())])</pre><b>In a Jupyter environment, please rerun this cell to show the HTML representation or trust the notebook. <br />On GitHub, the HTML representation is unable to render, please try loading this page with nbviewer.org.</b></div><div class=\"sk-container\" hidden><div class=\"sk-item sk-dashed-wrapped\"><div class=\"sk-label-container\"><div class=\"sk-label sk-toggleable\"><input class=\"sk-toggleable__control sk-hidden--visually\" id=\"sk-estimator-id-1\" type=\"checkbox\" ><label for=\"sk-estimator-id-1\" class=\"sk-toggleable__label sk-toggleable__label-arrow\">Pipeline</label><div class=\"sk-toggleable__content\"><pre>Pipeline(steps=[(&#x27;scale&#x27;, None), (&#x27;model&#x27;, GradientBoostingClassifier())])</pre></div></div></div><div class=\"sk-serial\"><div class=\"sk-item\"><div class=\"sk-estimator sk-toggleable\"><input class=\"sk-toggleable__control sk-hidden--visually\" id=\"sk-estimator-id-2\" type=\"checkbox\" ><label for=\"sk-estimator-id-2\" class=\"sk-toggleable__label sk-toggleable__label-arrow\">None</label><div class=\"sk-toggleable__content\"><pre>None</pre></div></div></div><div class=\"sk-item\"><div class=\"sk-estimator sk-toggleable\"><input class=\"sk-toggleable__control sk-hidden--visually\" id=\"sk-estimator-id-3\" type=\"checkbox\" ><label for=\"sk-estimator-id-3\" class=\"sk-toggleable__label sk-toggleable__label-arrow\">GradientBoostingClassifier</label><div class=\"sk-toggleable__content\"><pre>GradientBoostingClassifier()</pre></div></div></div></div></div></div></div>"
      ],
      "text/plain": [
       "Pipeline(steps=[('scale', None), ('model', GradientBoostingClassifier())])"
      ]
     },
     "execution_count": 36,
     "metadata": {},
     "output_type": "execute_result"
    }
   ],
   "source": [
    "model.fit(X_train, y_train.values.ravel())"
   ]
  },
  {
   "cell_type": "code",
   "execution_count": 37,
   "id": "af59f8c0",
   "metadata": {
    "execution": {
     "iopub.execute_input": "2025-07-28T10:51:00.688934Z",
     "iopub.status.busy": "2025-07-28T10:51:00.688292Z",
     "iopub.status.idle": "2025-07-28T10:51:00.694072Z",
     "shell.execute_reply": "2025-07-28T10:51:00.693001Z"
    },
    "papermill": {
     "duration": 0.033515,
     "end_time": "2025-07-28T10:51:00.695970",
     "exception": false,
     "start_time": "2025-07-28T10:51:00.662455",
     "status": "completed"
    },
    "tags": []
   },
   "outputs": [],
   "source": [
    "from fairness_multiverse.universe import predict_w_threshold"
   ]
  },
  {
   "cell_type": "code",
   "execution_count": 38,
   "id": "a7cf2e16",
   "metadata": {
    "execution": {
     "iopub.execute_input": "2025-07-28T10:51:00.748272Z",
     "iopub.status.busy": "2025-07-28T10:51:00.747743Z",
     "iopub.status.idle": "2025-07-28T10:51:01.370270Z",
     "shell.execute_reply": "2025-07-28T10:51:01.369174Z"
    },
    "papermill": {
     "duration": 0.65055,
     "end_time": "2025-07-28T10:51:01.372092",
     "exception": false,
     "start_time": "2025-07-28T10:51:00.721542",
     "status": "completed"
    },
    "tags": []
   },
   "outputs": [
    {
     "data": {
      "text/plain": [
       "0.8293501281908371"
      ]
     },
     "execution_count": 38,
     "metadata": {},
     "output_type": "execute_result"
    }
   ],
   "source": [
    "probs_test = model.predict_proba(X_test)\n",
    "\n",
    "'''\n",
    "Below code returns a boolean array (or binary 0/1 array depending on how it’s used) where each element \n",
    "is True if the probability of class 1 is greater than or equal to the threshold, and False otherwise.\n",
    "'''\n",
    "y_pred_default = predict_w_threshold(probs_test, 0.5)\n",
    "\n",
    "from sklearn.metrics import accuracy_score\n",
    "\n",
    "# Naive prediction\n",
    "accuracy_score(y_true = y_true, y_pred = y_pred_default)"
   ]
  },
  {
   "cell_type": "code",
   "execution_count": 39,
   "id": "081964c3",
   "metadata": {
    "execution": {
     "iopub.execute_input": "2025-07-28T10:51:01.421817Z",
     "iopub.status.busy": "2025-07-28T10:51:01.421422Z",
     "iopub.status.idle": "2025-07-28T10:51:02.119868Z",
     "shell.execute_reply": "2025-07-28T10:51:02.118803Z"
    },
    "papermill": {
     "duration": 0.724819,
     "end_time": "2025-07-28T10:51:02.121739",
     "exception": false,
     "start_time": "2025-07-28T10:51:01.396920",
     "status": "completed"
    },
    "tags": []
   },
   "outputs": [
    {
     "data": {
      "text/plain": [
       "array([0, 0, 0, ..., 1, 0, 0])"
      ]
     },
     "execution_count": 39,
     "metadata": {},
     "output_type": "execute_result"
    }
   ],
   "source": [
    "model.predict(X_test)"
   ]
  },
  {
   "cell_type": "markdown",
   "id": "56c9705b",
   "metadata": {
    "papermill": {
     "duration": 0.023351,
     "end_time": "2025-07-28T10:51:02.168682",
     "exception": false,
     "start_time": "2025-07-28T10:51:02.145331",
     "status": "completed"
    },
    "tags": []
   },
   "source": [
    "# Conformal Prediction"
   ]
  },
  {
   "cell_type": "code",
   "execution_count": 40,
   "id": "160ec6ff",
   "metadata": {
    "execution": {
     "iopub.execute_input": "2025-07-28T10:51:02.216494Z",
     "iopub.status.busy": "2025-07-28T10:51:02.215756Z",
     "iopub.status.idle": "2025-07-28T10:51:02.221301Z",
     "shell.execute_reply": "2025-07-28T10:51:02.220410Z"
    },
    "papermill": {
     "duration": 0.03101,
     "end_time": "2025-07-28T10:51:02.223015",
     "exception": false,
     "start_time": "2025-07-28T10:51:02.192005",
     "status": "completed"
    },
    "tags": []
   },
   "outputs": [],
   "source": [
    "# Miscoverage level for conformal prediction (10% allowed error rate => 90% target coverage)\n",
    "alpha = 0.1"
   ]
  },
  {
   "cell_type": "code",
   "execution_count": 41,
   "id": "eadf4555-3dd3-440e-8e35-f82a4ad9f855",
   "metadata": {
    "execution": {
     "iopub.execute_input": "2025-07-28T10:51:02.273815Z",
     "iopub.status.busy": "2025-07-28T10:51:02.273009Z",
     "iopub.status.idle": "2025-07-28T10:51:02.935659Z",
     "shell.execute_reply": "2025-07-28T10:51:02.934509Z"
    },
    "papermill": {
     "duration": 0.689239,
     "end_time": "2025-07-28T10:51:02.937630",
     "exception": false,
     "start_time": "2025-07-28T10:51:02.248391",
     "status": "completed"
    },
    "tags": []
   },
   "outputs": [],
   "source": [
    "probs_calib = model.predict_proba(X_calib)"
   ]
  },
  {
   "cell_type": "code",
   "execution_count": 42,
   "id": "2ed93547-6d5d-4983-9b36-1ecb300da49a",
   "metadata": {
    "execution": {
     "iopub.execute_input": "2025-07-28T10:51:02.984781Z",
     "iopub.status.busy": "2025-07-28T10:51:02.984156Z",
     "iopub.status.idle": "2025-07-28T10:51:02.990669Z",
     "shell.execute_reply": "2025-07-28T10:51:02.989583Z"
    },
    "papermill": {
     "duration": 0.032569,
     "end_time": "2025-07-28T10:51:02.992642",
     "exception": false,
     "start_time": "2025-07-28T10:51:02.960073",
     "status": "completed"
    },
    "tags": []
   },
   "outputs": [],
   "source": [
    "y_calib = y_calib.values.ravel().astype(int)"
   ]
  },
  {
   "cell_type": "code",
   "execution_count": 43,
   "id": "65d1320d-f588-4b38-9072-62af1ae97f7d",
   "metadata": {
    "execution": {
     "iopub.execute_input": "2025-07-28T10:51:03.079506Z",
     "iopub.status.busy": "2025-07-28T10:51:03.079013Z",
     "iopub.status.idle": "2025-07-28T10:51:03.087069Z",
     "shell.execute_reply": "2025-07-28T10:51:03.085911Z"
    },
    "papermill": {
     "duration": 0.068385,
     "end_time": "2025-07-28T10:51:03.089055",
     "exception": false,
     "start_time": "2025-07-28T10:51:03.020670",
     "status": "completed"
    },
    "tags": []
   },
   "outputs": [],
   "source": [
    "from fairness_multiverse.conformal import compute_nc_scores\n",
    "\n",
    "# Compute nonconformity scores on calibration set (1 - probability of true class)\n",
    "nc_scores = compute_nc_scores(probs_calib, y_calib)"
   ]
  },
  {
   "cell_type": "code",
   "execution_count": 44,
   "id": "df3b8ca3-53b7-43d5-9667-7c85da7aeda2",
   "metadata": {
    "execution": {
     "iopub.execute_input": "2025-07-28T10:51:03.146499Z",
     "iopub.status.busy": "2025-07-28T10:51:03.145460Z",
     "iopub.status.idle": "2025-07-28T10:51:03.153329Z",
     "shell.execute_reply": "2025-07-28T10:51:03.152205Z"
    },
    "papermill": {
     "duration": 0.038782,
     "end_time": "2025-07-28T10:51:03.155233",
     "exception": false,
     "start_time": "2025-07-28T10:51:03.116451",
     "status": "completed"
    },
    "tags": []
   },
   "outputs": [],
   "source": [
    "from fairness_multiverse.conformal import find_threshold\n",
    "\n",
    "# Find conformal threshold q_hat for the given alpha (split conformal method)\n",
    "q_hat = find_threshold(nc_scores, alpha)"
   ]
  },
  {
   "cell_type": "code",
   "execution_count": 45,
   "id": "4d29e6c1-0ef6-4aa4-b8fe-4fe79b0d033a",
   "metadata": {
    "execution": {
     "iopub.execute_input": "2025-07-28T10:51:03.212326Z",
     "iopub.status.busy": "2025-07-28T10:51:03.211318Z",
     "iopub.status.idle": "2025-07-28T10:51:03.220193Z",
     "shell.execute_reply": "2025-07-28T10:51:03.218345Z"
    },
    "papermill": {
     "duration": 0.039694,
     "end_time": "2025-07-28T10:51:03.222465",
     "exception": false,
     "start_time": "2025-07-28T10:51:03.182771",
     "status": "completed"
    },
    "tags": []
   },
   "outputs": [
    {
     "data": {
      "text/plain": [
       "0.7770556987077274"
      ]
     },
     "execution_count": 45,
     "metadata": {},
     "output_type": "execute_result"
    }
   ],
   "source": [
    "q_hat"
   ]
  },
  {
   "cell_type": "code",
   "execution_count": 46,
   "id": "92460794-cdac-4be2-ba28-f28c0515a6fb",
   "metadata": {
    "execution": {
     "iopub.execute_input": "2025-07-28T10:51:03.278101Z",
     "iopub.status.busy": "2025-07-28T10:51:03.277575Z",
     "iopub.status.idle": "2025-07-28T10:51:04.722517Z",
     "shell.execute_reply": "2025-07-28T10:51:04.721361Z"
    },
    "papermill": {
     "duration": 1.474817,
     "end_time": "2025-07-28T10:51:04.724694",
     "exception": false,
     "start_time": "2025-07-28T10:51:03.249877",
     "status": "completed"
    },
    "tags": []
   },
   "outputs": [],
   "source": [
    "from fairness_multiverse.conformal import predict_conformal_sets\n",
    "\n",
    "# Generate prediction sets for each test example\n",
    "pred_sets = predict_conformal_sets(model, X_test, q_hat)"
   ]
  },
  {
   "cell_type": "code",
   "execution_count": 47,
   "id": "d90c9a65-e6db-4f5d-80cd-e68fb7e46829",
   "metadata": {
    "execution": {
     "iopub.execute_input": "2025-07-28T10:51:04.777378Z",
     "iopub.status.busy": "2025-07-28T10:51:04.776348Z",
     "iopub.status.idle": "2025-07-28T10:51:04.782551Z",
     "shell.execute_reply": "2025-07-28T10:51:04.781562Z"
    },
    "papermill": {
     "duration": 0.033834,
     "end_time": "2025-07-28T10:51:04.784519",
     "exception": false,
     "start_time": "2025-07-28T10:51:04.750685",
     "status": "completed"
    },
    "tags": []
   },
   "outputs": [],
   "source": [
    "y_true = y_true.squeeze()"
   ]
  },
  {
   "cell_type": "code",
   "execution_count": 48,
   "id": "3a58a54a-1e68-46b9-927a-df01f18aebc8",
   "metadata": {
    "execution": {
     "iopub.execute_input": "2025-07-28T10:51:04.836156Z",
     "iopub.status.busy": "2025-07-28T10:51:04.835401Z",
     "iopub.status.idle": "2025-07-28T10:51:05.888142Z",
     "shell.execute_reply": "2025-07-28T10:51:05.887066Z"
    },
    "papermill": {
     "duration": 1.080477,
     "end_time": "2025-07-28T10:51:05.890248",
     "exception": false,
     "start_time": "2025-07-28T10:51:04.809771",
     "status": "completed"
    },
    "tags": []
   },
   "outputs": [],
   "source": [
    "from fairness_multiverse.conformal import evaluate_sets\n",
    "\n",
    "# Evaluate coverage and average set size on test data\n",
    "metrics = evaluate_sets(pred_sets, y_true)"
   ]
  },
  {
   "cell_type": "markdown",
   "id": "2b569c12-9aaa-4c88-98c9-bbcd0cf3ebb8",
   "metadata": {
    "papermill": {
     "duration": 0.024358,
     "end_time": "2025-07-28T10:51:05.940739",
     "exception": false,
     "start_time": "2025-07-28T10:51:05.916381",
     "status": "completed"
    },
    "tags": []
   },
   "source": [
    "# CP Metrics"
   ]
  },
  {
   "cell_type": "code",
   "execution_count": 49,
   "id": "5ce0a5cb-201f-45a0-ade5-94c7f0bd6095",
   "metadata": {
    "execution": {
     "iopub.execute_input": "2025-07-28T10:51:05.991489Z",
     "iopub.status.busy": "2025-07-28T10:51:05.990753Z",
     "iopub.status.idle": "2025-07-28T10:51:05.998634Z",
     "shell.execute_reply": "2025-07-28T10:51:05.997591Z"
    },
    "papermill": {
     "duration": 0.036058,
     "end_time": "2025-07-28T10:51:06.000593",
     "exception": false,
     "start_time": "2025-07-28T10:51:05.964535",
     "status": "completed"
    },
    "tags": []
   },
   "outputs": [
    {
     "data": {
      "text/plain": [
       "{'coverage': 0.9090736818637833, 'avg_size': 1.1983390926318136}"
      ]
     },
     "execution_count": 49,
     "metadata": {},
     "output_type": "execute_result"
    }
   ],
   "source": [
    "metrics"
   ]
  },
  {
   "cell_type": "code",
   "execution_count": 50,
   "id": "9b9a838d-31c9-430b-ae14-12baee460d17",
   "metadata": {
    "execution": {
     "iopub.execute_input": "2025-07-28T10:51:06.048277Z",
     "iopub.status.busy": "2025-07-28T10:51:06.047601Z",
     "iopub.status.idle": "2025-07-28T10:51:06.054588Z",
     "shell.execute_reply": "2025-07-28T10:51:06.053579Z"
    },
    "papermill": {
     "duration": 0.032122,
     "end_time": "2025-07-28T10:51:06.056065",
     "exception": false,
     "start_time": "2025-07-28T10:51:06.023943",
     "status": "completed"
    },
    "tags": []
   },
   "outputs": [],
   "source": [
    "example_universe = universe.copy()\n",
    "universe_training_size = example_universe.get(\"training_size\")\n",
    "universe_scale = example_universe.get(\"scale\")\n",
    "universe_model = example_universe.get(\"model\")\n",
    "universe_exclude_features = example_universe.get(\"exclude_features\")\n",
    "universe_exclude_subgroups = example_universe.get(\"exclude_subgroups\")"
   ]
  },
  {
   "cell_type": "code",
   "execution_count": 51,
   "id": "f4b6a8ac-9dc0-4245-8a91-5b3b5999c4f9",
   "metadata": {
    "execution": {
     "iopub.execute_input": "2025-07-28T10:51:06.104186Z",
     "iopub.status.busy": "2025-07-28T10:51:06.103478Z",
     "iopub.status.idle": "2025-07-28T10:51:06.110159Z",
     "shell.execute_reply": "2025-07-28T10:51:06.109202Z"
    },
    "papermill": {
     "duration": 0.032235,
     "end_time": "2025-07-28T10:51:06.111685",
     "exception": false,
     "start_time": "2025-07-28T10:51:06.079450",
     "status": "completed"
    },
    "tags": []
   },
   "outputs": [],
   "source": [
    "cp_metrics_dict = {\n",
    "    \"universe_id\": [universe_id],\n",
    "    \"universe_training_size\": [universe_training_size],\n",
    "    \"universe_scale\": [universe_scale],\n",
    "    \"universe_model\": [universe_model],\n",
    "    \"universe_exclude_features\": [universe_exclude_features],\n",
    "    \"universe_exclude_subgroups\": [universe_exclude_subgroups],\n",
    "    \"q_hat\": [q_hat],\n",
    "    \"coverage\": [metrics[\"coverage\"]],\n",
    "    \"avg_size\": [metrics[\"avg_size\"]],\n",
    "}"
   ]
  },
  {
   "cell_type": "code",
   "execution_count": 52,
   "id": "908acbb1-0371-4915-85ca-3fa520d2efe2",
   "metadata": {
    "execution": {
     "iopub.execute_input": "2025-07-28T10:51:06.160745Z",
     "iopub.status.busy": "2025-07-28T10:51:06.159698Z",
     "iopub.status.idle": "2025-07-28T10:51:06.167646Z",
     "shell.execute_reply": "2025-07-28T10:51:06.166675Z"
    },
    "papermill": {
     "duration": 0.034059,
     "end_time": "2025-07-28T10:51:06.169312",
     "exception": false,
     "start_time": "2025-07-28T10:51:06.135253",
     "status": "completed"
    },
    "tags": []
   },
   "outputs": [
    {
     "data": {
      "text/plain": [
       "{'universe_id': ['7377984325116e7afda931ea10cf393a'],\n",
       " 'universe_training_size': ['1k'],\n",
       " 'universe_scale': ['do-not-scale'],\n",
       " 'universe_model': ['gbm'],\n",
       " 'universe_exclude_features': ['nationality'],\n",
       " 'universe_exclude_subgroups': ['drop-non-german'],\n",
       " 'q_hat': [0.7770556987077274],\n",
       " 'coverage': [0.9090736818637833],\n",
       " 'avg_size': [1.1983390926318136]}"
      ]
     },
     "execution_count": 52,
     "metadata": {},
     "output_type": "execute_result"
    }
   ],
   "source": [
    "cp_metrics_dict"
   ]
  },
  {
   "cell_type": "code",
   "execution_count": 53,
   "id": "33007efc-14e9-4ec6-97ac-56a455c82265",
   "metadata": {
    "execution": {
     "iopub.execute_input": "2025-07-28T10:51:06.218466Z",
     "iopub.status.busy": "2025-07-28T10:51:06.217579Z",
     "iopub.status.idle": "2025-07-28T10:51:06.224159Z",
     "shell.execute_reply": "2025-07-28T10:51:06.223187Z"
    },
    "papermill": {
     "duration": 0.032303,
     "end_time": "2025-07-28T10:51:06.225919",
     "exception": false,
     "start_time": "2025-07-28T10:51:06.193616",
     "status": "completed"
    },
    "tags": []
   },
   "outputs": [],
   "source": [
    "cp_metrics_df = pd.DataFrame(cp_metrics_dict)"
   ]
  },
  {
   "cell_type": "code",
   "execution_count": 54,
   "id": "db12611b-57b2-4910-b9d0-355adfd6e7bf",
   "metadata": {
    "execution": {
     "iopub.execute_input": "2025-07-28T10:51:06.275013Z",
     "iopub.status.busy": "2025-07-28T10:51:06.274197Z",
     "iopub.status.idle": "2025-07-28T10:51:06.294238Z",
     "shell.execute_reply": "2025-07-28T10:51:06.293156Z"
    },
    "papermill": {
     "duration": 0.045866,
     "end_time": "2025-07-28T10:51:06.296246",
     "exception": false,
     "start_time": "2025-07-28T10:51:06.250380",
     "status": "completed"
    },
    "tags": []
   },
   "outputs": [
    {
     "data": {
      "text/html": [
       "<div>\n",
       "<style scoped>\n",
       "    .dataframe tbody tr th:only-of-type {\n",
       "        vertical-align: middle;\n",
       "    }\n",
       "\n",
       "    .dataframe tbody tr th {\n",
       "        vertical-align: top;\n",
       "    }\n",
       "\n",
       "    .dataframe thead th {\n",
       "        text-align: right;\n",
       "    }\n",
       "</style>\n",
       "<table border=\"1\" class=\"dataframe\">\n",
       "  <thead>\n",
       "    <tr style=\"text-align: right;\">\n",
       "      <th></th>\n",
       "      <th>universe_id</th>\n",
       "      <th>universe_training_size</th>\n",
       "      <th>universe_scale</th>\n",
       "      <th>universe_model</th>\n",
       "      <th>universe_exclude_features</th>\n",
       "      <th>universe_exclude_subgroups</th>\n",
       "      <th>q_hat</th>\n",
       "      <th>coverage</th>\n",
       "      <th>avg_size</th>\n",
       "    </tr>\n",
       "  </thead>\n",
       "  <tbody>\n",
       "    <tr>\n",
       "      <th>0</th>\n",
       "      <td>7377984325116e7afda931ea10cf393a</td>\n",
       "      <td>1k</td>\n",
       "      <td>do-not-scale</td>\n",
       "      <td>gbm</td>\n",
       "      <td>nationality</td>\n",
       "      <td>drop-non-german</td>\n",
       "      <td>0.777056</td>\n",
       "      <td>0.909074</td>\n",
       "      <td>1.198339</td>\n",
       "    </tr>\n",
       "  </tbody>\n",
       "</table>\n",
       "</div>"
      ],
      "text/plain": [
       "                        universe_id universe_training_size universe_scale  \\\n",
       "0  7377984325116e7afda931ea10cf393a                     1k   do-not-scale   \n",
       "\n",
       "  universe_model universe_exclude_features universe_exclude_subgroups  \\\n",
       "0            gbm               nationality            drop-non-german   \n",
       "\n",
       "      q_hat  coverage  avg_size  \n",
       "0  0.777056  0.909074  1.198339  "
      ]
     },
     "execution_count": 54,
     "metadata": {},
     "output_type": "execute_result"
    }
   ],
   "source": [
    "cp_metrics_df"
   ]
  },
  {
   "cell_type": "code",
   "execution_count": 55,
   "id": "b7fbde55-a0a1-47e4-9af6-fe4a17fa8c61",
   "metadata": {
    "execution": {
     "iopub.execute_input": "2025-07-28T10:51:06.349900Z",
     "iopub.status.busy": "2025-07-28T10:51:06.349076Z",
     "iopub.status.idle": "2025-07-28T10:51:06.354734Z",
     "shell.execute_reply": "2025-07-28T10:51:06.353712Z"
    },
    "papermill": {
     "duration": 0.033616,
     "end_time": "2025-07-28T10:51:06.356355",
     "exception": false,
     "start_time": "2025-07-28T10:51:06.322739",
     "status": "completed"
    },
    "tags": []
   },
   "outputs": [],
   "source": [
    "# Conditional Coverage & looking at subgroups"
   ]
  },
  {
   "cell_type": "code",
   "execution_count": 56,
   "id": "027ae886-68dd-4141-96c7-805a5450e1ef",
   "metadata": {
    "execution": {
     "iopub.execute_input": "2025-07-28T10:51:06.409944Z",
     "iopub.status.busy": "2025-07-28T10:51:06.408963Z",
     "iopub.status.idle": "2025-07-28T10:51:06.654031Z",
     "shell.execute_reply": "2025-07-28T10:51:06.653238Z"
    },
    "papermill": {
     "duration": 0.273699,
     "end_time": "2025-07-28T10:51:06.655874",
     "exception": false,
     "start_time": "2025-07-28T10:51:06.382175",
     "status": "completed"
    },
    "tags": []
   },
   "outputs": [],
   "source": [
    "from fairness_multiverse.conformal import build_cp_groups\n",
    "\n",
    "cp_groups_df = build_cp_groups(pred_sets, y_true, X_test.index, org_test)\n",
    "#needs universe_id and setting"
   ]
  },
  {
   "cell_type": "code",
   "execution_count": 57,
   "id": "01d5802c-663a-4d1f-9d69-e036faaffbf7",
   "metadata": {
    "execution": {
     "iopub.execute_input": "2025-07-28T10:51:06.705291Z",
     "iopub.status.busy": "2025-07-28T10:51:06.704805Z",
     "iopub.status.idle": "2025-07-28T10:51:06.710183Z",
     "shell.execute_reply": "2025-07-28T10:51:06.709261Z"
    },
    "papermill": {
     "duration": 0.031589,
     "end_time": "2025-07-28T10:51:06.711905",
     "exception": false,
     "start_time": "2025-07-28T10:51:06.680316",
     "status": "completed"
    },
    "tags": []
   },
   "outputs": [],
   "source": [
    "#delete\n",
    "#cp_groups_df"
   ]
  },
  {
   "cell_type": "code",
   "execution_count": 58,
   "id": "fa424af1-d1eb-443d-b717-2d279ada8408",
   "metadata": {
    "execution": {
     "iopub.execute_input": "2025-07-28T10:51:06.762268Z",
     "iopub.status.busy": "2025-07-28T10:51:06.761695Z",
     "iopub.status.idle": "2025-07-28T10:51:06.766983Z",
     "shell.execute_reply": "2025-07-28T10:51:06.766033Z"
    },
    "papermill": {
     "duration": 0.031695,
     "end_time": "2025-07-28T10:51:06.768740",
     "exception": false,
     "start_time": "2025-07-28T10:51:06.737045",
     "status": "completed"
    },
    "tags": []
   },
   "outputs": [],
   "source": [
    "#delete\n",
    "#percentage = (cp_groups_df['nongerman_female'] == 1).mean() * 100\n",
    "#print(percentage)\n"
   ]
  },
  {
   "cell_type": "code",
   "execution_count": 59,
   "id": "6cbdab96-b2b2-45af-ad54-d0516db2e28d",
   "metadata": {
    "execution": {
     "iopub.execute_input": "2025-07-28T10:51:06.819101Z",
     "iopub.status.busy": "2025-07-28T10:51:06.818527Z",
     "iopub.status.idle": "2025-07-28T10:51:08.379059Z",
     "shell.execute_reply": "2025-07-28T10:51:08.377959Z"
    },
    "papermill": {
     "duration": 1.587692,
     "end_time": "2025-07-28T10:51:08.381089",
     "exception": false,
     "start_time": "2025-07-28T10:51:06.793397",
     "status": "completed"
    },
    "tags": []
   },
   "outputs": [],
   "source": [
    "# Define covered = 1 if true_label is in the predicted set\n",
    "cp_groups_df['covered'] = cp_groups_df.apply(\n",
    "    lambda r: int(r['true_label'] in r['pred_set']),\n",
    "    axis=1\n",
    ")"
   ]
  },
  {
   "cell_type": "code",
   "execution_count": 60,
   "id": "338ff529-1a6b-4b87-a931-8e4788d52aad",
   "metadata": {
    "execution": {
     "iopub.execute_input": "2025-07-28T10:51:08.441201Z",
     "iopub.status.busy": "2025-07-28T10:51:08.440488Z",
     "iopub.status.idle": "2025-07-28T10:51:08.450381Z",
     "shell.execute_reply": "2025-07-28T10:51:08.449371Z"
    },
    "papermill": {
     "duration": 0.047472,
     "end_time": "2025-07-28T10:51:08.458566",
     "exception": false,
     "start_time": "2025-07-28T10:51:08.411094",
     "status": "completed"
    },
    "tags": []
   },
   "outputs": [],
   "source": [
    "#cp_groups_df"
   ]
  },
  {
   "cell_type": "code",
   "execution_count": 61,
   "id": "90032e27-66df-4540-9169-4e89cfbaa758",
   "metadata": {
    "execution": {
     "iopub.execute_input": "2025-07-28T10:51:08.514857Z",
     "iopub.status.busy": "2025-07-28T10:51:08.514050Z",
     "iopub.status.idle": "2025-07-28T10:51:08.527197Z",
     "shell.execute_reply": "2025-07-28T10:51:08.526166Z"
    },
    "papermill": {
     "duration": 0.042371,
     "end_time": "2025-07-28T10:51:08.529127",
     "exception": false,
     "start_time": "2025-07-28T10:51:08.486756",
     "status": "completed"
    },
    "tags": []
   },
   "outputs": [],
   "source": [
    "subgroups = ['frau1','nongerman','nongerman_male','nongerman_female']\n",
    "\n",
    "# Conditional coverage for subgroup==1\n",
    "cond_coverage = {\n",
    "    g: cp_groups_df.loc[cp_groups_df[g]==1, 'covered'].mean()\n",
    "    for g in subgroups\n",
    "}"
   ]
  },
  {
   "cell_type": "code",
   "execution_count": 62,
   "id": "1e348fb1-b9c3-45bc-ba23-f016827a7e0d",
   "metadata": {
    "execution": {
     "iopub.execute_input": "2025-07-28T10:51:08.585009Z",
     "iopub.status.busy": "2025-07-28T10:51:08.584415Z",
     "iopub.status.idle": "2025-07-28T10:51:08.592513Z",
     "shell.execute_reply": "2025-07-28T10:51:08.591351Z"
    },
    "papermill": {
     "duration": 0.037202,
     "end_time": "2025-07-28T10:51:08.594180",
     "exception": false,
     "start_time": "2025-07-28T10:51:08.556978",
     "status": "completed"
    },
    "tags": []
   },
   "outputs": [
    {
     "data": {
      "text/plain": [
       "{'frau1': 0.9076155816147728,\n",
       " 'nongerman': 0.9077639925896817,\n",
       " 'nongerman_male': 0.9236242456993605,\n",
       " 'nongerman_female': 0.8815201192250373}"
      ]
     },
     "execution_count": 62,
     "metadata": {},
     "output_type": "execute_result"
    }
   ],
   "source": [
    "cond_coverage"
   ]
  },
  {
   "cell_type": "code",
   "execution_count": 63,
   "id": "f5093324-c3dd-4d63-bc4c-8d945e5c8bbb",
   "metadata": {
    "execution": {
     "iopub.execute_input": "2025-07-28T10:51:08.650737Z",
     "iopub.status.busy": "2025-07-28T10:51:08.649730Z",
     "iopub.status.idle": "2025-07-28T10:51:08.657795Z",
     "shell.execute_reply": "2025-07-28T10:51:08.656771Z"
    },
    "papermill": {
     "duration": 0.038391,
     "end_time": "2025-07-28T10:51:08.659648",
     "exception": false,
     "start_time": "2025-07-28T10:51:08.621257",
     "status": "completed"
    },
    "tags": []
   },
   "outputs": [],
   "source": [
    "for subgroup, cov in cond_coverage.items():\n",
    "    cp_metrics_df[f\"cov_{subgroup}\"] = cov"
   ]
  },
  {
   "cell_type": "code",
   "execution_count": 64,
   "id": "6e872e10-dbe5-49e8-b554-5030c98ff75d",
   "metadata": {
    "execution": {
     "iopub.execute_input": "2025-07-28T10:51:08.716542Z",
     "iopub.status.busy": "2025-07-28T10:51:08.715524Z",
     "iopub.status.idle": "2025-07-28T10:51:08.737456Z",
     "shell.execute_reply": "2025-07-28T10:51:08.736354Z"
    },
    "papermill": {
     "duration": 0.052896,
     "end_time": "2025-07-28T10:51:08.739437",
     "exception": false,
     "start_time": "2025-07-28T10:51:08.686541",
     "status": "completed"
    },
    "tags": []
   },
   "outputs": [
    {
     "data": {
      "text/html": [
       "<div>\n",
       "<style scoped>\n",
       "    .dataframe tbody tr th:only-of-type {\n",
       "        vertical-align: middle;\n",
       "    }\n",
       "\n",
       "    .dataframe tbody tr th {\n",
       "        vertical-align: top;\n",
       "    }\n",
       "\n",
       "    .dataframe thead th {\n",
       "        text-align: right;\n",
       "    }\n",
       "</style>\n",
       "<table border=\"1\" class=\"dataframe\">\n",
       "  <thead>\n",
       "    <tr style=\"text-align: right;\">\n",
       "      <th></th>\n",
       "      <th>universe_id</th>\n",
       "      <th>universe_training_size</th>\n",
       "      <th>universe_scale</th>\n",
       "      <th>universe_model</th>\n",
       "      <th>universe_exclude_features</th>\n",
       "      <th>universe_exclude_subgroups</th>\n",
       "      <th>q_hat</th>\n",
       "      <th>coverage</th>\n",
       "      <th>avg_size</th>\n",
       "      <th>cov_frau1</th>\n",
       "      <th>cov_nongerman</th>\n",
       "      <th>cov_nongerman_male</th>\n",
       "      <th>cov_nongerman_female</th>\n",
       "    </tr>\n",
       "  </thead>\n",
       "  <tbody>\n",
       "    <tr>\n",
       "      <th>0</th>\n",
       "      <td>7377984325116e7afda931ea10cf393a</td>\n",
       "      <td>1k</td>\n",
       "      <td>do-not-scale</td>\n",
       "      <td>gbm</td>\n",
       "      <td>nationality</td>\n",
       "      <td>drop-non-german</td>\n",
       "      <td>0.777056</td>\n",
       "      <td>0.909074</td>\n",
       "      <td>1.198339</td>\n",
       "      <td>0.907616</td>\n",
       "      <td>0.907764</td>\n",
       "      <td>0.923624</td>\n",
       "      <td>0.88152</td>\n",
       "    </tr>\n",
       "  </tbody>\n",
       "</table>\n",
       "</div>"
      ],
      "text/plain": [
       "                        universe_id universe_training_size universe_scale  \\\n",
       "0  7377984325116e7afda931ea10cf393a                     1k   do-not-scale   \n",
       "\n",
       "  universe_model universe_exclude_features universe_exclude_subgroups  \\\n",
       "0            gbm               nationality            drop-non-german   \n",
       "\n",
       "      q_hat  coverage  avg_size  cov_frau1  cov_nongerman  cov_nongerman_male  \\\n",
       "0  0.777056  0.909074  1.198339   0.907616       0.907764            0.923624   \n",
       "\n",
       "   cov_nongerman_female  \n",
       "0               0.88152  "
      ]
     },
     "execution_count": 64,
     "metadata": {},
     "output_type": "execute_result"
    }
   ],
   "source": [
    "cp_metrics_df"
   ]
  },
  {
   "cell_type": "markdown",
   "id": "33774451",
   "metadata": {
    "papermill": {
     "duration": 0.028289,
     "end_time": "2025-07-28T10:51:08.796017",
     "exception": false,
     "start_time": "2025-07-28T10:51:08.767728",
     "status": "completed"
    },
    "tags": []
   },
   "source": [
    "# (Fairness) Metrics"
   ]
  },
  {
   "cell_type": "code",
   "execution_count": 65,
   "id": "debc5d62",
   "metadata": {
    "execution": {
     "iopub.execute_input": "2025-07-28T10:51:08.855096Z",
     "iopub.status.busy": "2025-07-28T10:51:08.854217Z",
     "iopub.status.idle": "2025-07-28T10:51:08.878478Z",
     "shell.execute_reply": "2025-07-28T10:51:08.877375Z"
    },
    "papermill": {
     "duration": 0.056524,
     "end_time": "2025-07-28T10:51:08.880364",
     "exception": false,
     "start_time": "2025-07-28T10:51:08.823840",
     "status": "completed"
    },
    "tags": []
   },
   "outputs": [],
   "source": [
    "# do I need to include maxdeutsch1.missing?\n",
    "\n",
    "import numpy as np\n",
    "\n",
    "colname_to_bin = \"maxdeutsch1\"\n",
    "majority_value = org_train[colname_to_bin].mode()[0]\n",
    "\n",
    "org_test[\"majmin\"] = np.where(org_test[colname_to_bin] == majority_value, \"majority\", \"minority\")"
   ]
  },
  {
   "cell_type": "code",
   "execution_count": 66,
   "id": "06a50de5",
   "metadata": {
    "execution": {
     "iopub.execute_input": "2025-07-28T10:51:08.937839Z",
     "iopub.status.busy": "2025-07-28T10:51:08.937231Z",
     "iopub.status.idle": "2025-07-28T10:51:11.955538Z",
     "shell.execute_reply": "2025-07-28T10:51:11.954132Z"
    },
    "papermill": {
     "duration": 3.049969,
     "end_time": "2025-07-28T10:51:11.958264",
     "exception": false,
     "start_time": "2025-07-28T10:51:08.908295",
     "status": "completed"
    },
    "tags": []
   },
   "outputs": [],
   "source": [
    "example_universe = universe.copy()\n",
    "example_universe[\"cutoff\"] = example_universe[\"cutoff\"][0]\n",
    "example_universe[\"eval_fairness_grouping\"] = example_universe[\"eval_fairness_grouping\"][0]\n",
    "fairness_dict, metric_frame = universe_analysis.compute_metrics(\n",
    "    example_universe,\n",
    "    y_pred_prob=probs_test,\n",
    "    y_test=y_true,\n",
    "    org_test=org_test,\n",
    ")"
   ]
  },
  {
   "cell_type": "markdown",
   "id": "f95d4e02",
   "metadata": {
    "papermill": {
     "duration": 0.038248,
     "end_time": "2025-07-28T10:51:12.035839",
     "exception": false,
     "start_time": "2025-07-28T10:51:11.997591",
     "status": "completed"
    },
    "tags": []
   },
   "source": [
    "# Overall"
   ]
  },
  {
   "cell_type": "markdown",
   "id": "bdee4871",
   "metadata": {
    "papermill": {
     "duration": 0.038493,
     "end_time": "2025-07-28T10:51:12.112481",
     "exception": false,
     "start_time": "2025-07-28T10:51:12.073988",
     "status": "completed"
    },
    "tags": []
   },
   "source": [
    "Fairness\n",
    "Main fairness target: Equalized Odds. Seems to be a better fit than equal opportunity, since we're not only interested in Y = 1. Seems to be a better fit than demographic parity, since we also care about accuracy, not just equal distribution of preds.\n",
    "\n",
    "Pick column for computation of fairness metrics\n",
    "\n",
    "Performance\n",
    "Overall performance measures, most interesting in relation to the measures split by group below"
   ]
  },
  {
   "cell_type": "code",
   "execution_count": 67,
   "id": "c4e067c6",
   "metadata": {
    "execution": {
     "iopub.execute_input": "2025-07-28T10:51:12.193424Z",
     "iopub.status.busy": "2025-07-28T10:51:12.192014Z",
     "iopub.status.idle": "2025-07-28T10:51:12.205447Z",
     "shell.execute_reply": "2025-07-28T10:51:12.203797Z"
    },
    "papermill": {
     "duration": 0.056646,
     "end_time": "2025-07-28T10:51:12.207906",
     "exception": false,
     "start_time": "2025-07-28T10:51:12.151260",
     "status": "completed"
    },
    "tags": []
   },
   "outputs": [
    {
     "data": {
      "text/plain": [
       "accuracy                   0.222706\n",
       "balanced accuracy          0.544897\n",
       "f1                         0.244084\n",
       "precision                  0.139437\n",
       "false positive rate        0.888481\n",
       "false negative rate        0.021724\n",
       "selection rate             0.900000\n",
       "count                  89710.000000\n",
       "dtype: float64"
      ]
     },
     "execution_count": 67,
     "metadata": {},
     "output_type": "execute_result"
    }
   ],
   "source": [
    "metric_frame.overall"
   ]
  },
  {
   "cell_type": "markdown",
   "id": "e968fe9d",
   "metadata": {
    "papermill": {
     "duration": 0.037784,
     "end_time": "2025-07-28T10:51:12.284350",
     "exception": false,
     "start_time": "2025-07-28T10:51:12.246566",
     "status": "completed"
    },
    "tags": []
   },
   "source": [
    "By Group"
   ]
  },
  {
   "cell_type": "code",
   "execution_count": 68,
   "id": "ec325bce",
   "metadata": {
    "execution": {
     "iopub.execute_input": "2025-07-28T10:51:12.363327Z",
     "iopub.status.busy": "2025-07-28T10:51:12.362307Z",
     "iopub.status.idle": "2025-07-28T10:51:12.401144Z",
     "shell.execute_reply": "2025-07-28T10:51:12.399731Z"
    },
    "papermill": {
     "duration": 0.080691,
     "end_time": "2025-07-28T10:51:12.403048",
     "exception": false,
     "start_time": "2025-07-28T10:51:12.322357",
     "status": "completed"
    },
    "tags": []
   },
   "outputs": [
    {
     "data": {
      "text/html": [
       "<div>\n",
       "<style scoped>\n",
       "    .dataframe tbody tr th:only-of-type {\n",
       "        vertical-align: middle;\n",
       "    }\n",
       "\n",
       "    .dataframe tbody tr th {\n",
       "        vertical-align: top;\n",
       "    }\n",
       "\n",
       "    .dataframe thead th {\n",
       "        text-align: right;\n",
       "    }\n",
       "</style>\n",
       "<table border=\"1\" class=\"dataframe\">\n",
       "  <thead>\n",
       "    <tr style=\"text-align: right;\">\n",
       "      <th></th>\n",
       "      <th>accuracy</th>\n",
       "      <th>balanced accuracy</th>\n",
       "      <th>f1</th>\n",
       "      <th>precision</th>\n",
       "      <th>false positive rate</th>\n",
       "      <th>false negative rate</th>\n",
       "      <th>selection rate</th>\n",
       "      <th>count</th>\n",
       "    </tr>\n",
       "    <tr>\n",
       "      <th>majmin</th>\n",
       "      <th></th>\n",
       "      <th></th>\n",
       "      <th></th>\n",
       "      <th></th>\n",
       "      <th></th>\n",
       "      <th></th>\n",
       "      <th></th>\n",
       "      <th></th>\n",
       "    </tr>\n",
       "  </thead>\n",
       "  <tbody>\n",
       "    <tr>\n",
       "      <th>majority</th>\n",
       "      <td>0.239540</td>\n",
       "      <td>0.551675</td>\n",
       "      <td>0.253262</td>\n",
       "      <td>0.145511</td>\n",
       "      <td>0.872580</td>\n",
       "      <td>0.024070</td>\n",
       "      <td>0.886237</td>\n",
       "      <td>69170.0</td>\n",
       "    </tr>\n",
       "    <tr>\n",
       "      <th>minority</th>\n",
       "      <td>0.166018</td>\n",
       "      <td>0.523161</td>\n",
       "      <td>0.214436</td>\n",
       "      <td>0.120280</td>\n",
       "      <td>0.941008</td>\n",
       "      <td>0.012669</td>\n",
       "      <td>0.946349</td>\n",
       "      <td>20540.0</td>\n",
       "    </tr>\n",
       "  </tbody>\n",
       "</table>\n",
       "</div>"
      ],
      "text/plain": [
       "          accuracy  balanced accuracy        f1  precision  \\\n",
       "majmin                                                       \n",
       "majority  0.239540           0.551675  0.253262   0.145511   \n",
       "minority  0.166018           0.523161  0.214436   0.120280   \n",
       "\n",
       "          false positive rate  false negative rate  selection rate    count  \n",
       "majmin                                                                       \n",
       "majority             0.872580             0.024070        0.886237  69170.0  \n",
       "minority             0.941008             0.012669        0.946349  20540.0  "
      ]
     },
     "execution_count": 68,
     "metadata": {},
     "output_type": "execute_result"
    }
   ],
   "source": [
    "metric_frame.by_group"
   ]
  },
  {
   "cell_type": "code",
   "execution_count": 69,
   "id": "a9ddbe63",
   "metadata": {
    "execution": {
     "iopub.execute_input": "2025-07-28T10:51:12.459552Z",
     "iopub.status.busy": "2025-07-28T10:51:12.458910Z",
     "iopub.status.idle": "2025-07-28T10:51:15.261220Z",
     "shell.execute_reply": "2025-07-28T10:51:15.260206Z"
    },
    "papermill": {
     "duration": 2.832523,
     "end_time": "2025-07-28T10:51:15.263269",
     "exception": false,
     "start_time": "2025-07-28T10:51:12.430746",
     "status": "completed"
    },
    "tags": []
   },
   "outputs": [
    {
     "data": {
      "text/plain": [
       "array([[<Axes: title={'center': 'accuracy'}, xlabel='majmin'>,\n",
       "        <Axes: title={'center': 'balanced accuracy'}, xlabel='majmin'>,\n",
       "        <Axes: title={'center': 'f1'}, xlabel='majmin'>],\n",
       "       [<Axes: title={'center': 'precision'}, xlabel='majmin'>,\n",
       "        <Axes: title={'center': 'false positive rate'}, xlabel='majmin'>,\n",
       "        <Axes: title={'center': 'false negative rate'}, xlabel='majmin'>],\n",
       "       [<Axes: title={'center': 'selection rate'}, xlabel='majmin'>,\n",
       "        <Axes: title={'center': 'count'}, xlabel='majmin'>,\n",
       "        <Axes: xlabel='majmin'>]], dtype=object)"
      ]
     },
     "execution_count": 69,
     "metadata": {},
     "output_type": "execute_result"
    },
    {
     "data": {
      "image/png": "[encoded data removed]",
      "text/plain": [
       "<Figure size 1200x800 with 9 Axes>"
      ]
     },
     "metadata": {},
     "output_type": "display_data"
    }
   ],
   "source": [
    "# In a graphic\n",
    "metric_frame.by_group.plot.bar(\n",
    "    subplots=True,\n",
    "    layout=[3, 3],\n",
    "    legend=False,\n",
    "    figsize=[12, 8],\n",
    "    title=\"Show all metrics\",\n",
    ")"
   ]
  },
  {
   "cell_type": "markdown",
   "id": "f57a0bac",
   "metadata": {
    "papermill": {
     "duration": 0.027039,
     "end_time": "2025-07-28T10:51:15.350444",
     "exception": false,
     "start_time": "2025-07-28T10:51:15.323405",
     "status": "completed"
    },
    "tags": []
   },
   "source": [
    "# Final Output"
   ]
  },
  {
   "cell_type": "code",
   "execution_count": 70,
   "id": "96d280a3",
   "metadata": {
    "execution": {
     "iopub.execute_input": "2025-07-28T10:51:15.436161Z",
     "iopub.status.busy": "2025-07-28T10:51:15.434949Z",
     "iopub.status.idle": "2025-07-28T10:51:15.445073Z",
     "shell.execute_reply": "2025-07-28T10:51:15.443907Z"
    },
    "papermill": {
     "duration": 0.042482,
     "end_time": "2025-07-28T10:51:15.447061",
     "exception": false,
     "start_time": "2025-07-28T10:51:15.404579",
     "status": "completed"
    },
    "tags": []
   },
   "outputs": [
    {
     "data": {
      "text/plain": [
       "4"
      ]
     },
     "execution_count": 70,
     "metadata": {},
     "output_type": "execute_result"
    }
   ],
   "source": [
    "sub_universes = universe_analysis.generate_sub_universes()\n",
    "len(sub_universes)"
   ]
  },
  {
   "cell_type": "code",
   "execution_count": 71,
   "id": "92adf7ba",
   "metadata": {
    "execution": {
     "iopub.execute_input": "2025-07-28T10:51:15.505805Z",
     "iopub.status.busy": "2025-07-28T10:51:15.505256Z",
     "iopub.status.idle": "2025-07-28T10:51:15.511891Z",
     "shell.execute_reply": "2025-07-28T10:51:15.510922Z"
    },
    "papermill": {
     "duration": 0.038648,
     "end_time": "2025-07-28T10:51:15.513459",
     "exception": false,
     "start_time": "2025-07-28T10:51:15.474811",
     "status": "completed"
    },
    "tags": []
   },
   "outputs": [],
   "source": [
    "def filter_sub_universe_data(sub_universe, org_test):\n",
    "    # Keep all rows — no filtering\n",
    "    keep_rows_mask = np.ones(org_test.shape[0], dtype=bool)\n",
    "\n",
    "    print(f\"[INFO] Keeping all rows: {keep_rows_mask.sum()} rows retained.\")\n",
    "    return keep_rows_mask"
   ]
  },
  {
   "cell_type": "code",
   "execution_count": 72,
   "id": "4a759155",
   "metadata": {
    "execution": {
     "iopub.execute_input": "2025-07-28T10:51:15.573018Z",
     "iopub.status.busy": "2025-07-28T10:51:15.572292Z",
     "iopub.status.idle": "2025-07-28T10:51:25.909943Z",
     "shell.execute_reply": "2025-07-28T10:51:25.908751Z"
    },
    "papermill": {
     "duration": 10.3708,
     "end_time": "2025-07-28T10:51:25.912356",
     "exception": false,
     "start_time": "2025-07-28T10:51:15.541556",
     "status": "completed"
    },
    "tags": []
   },
   "outputs": [
    {
     "name": "stdout",
     "output_type": "stream",
     "text": [
      "Stopping execution_time clock.\n",
      "[INFO] Keeping all rows: 89710 rows retained.\n"
     ]
    },
    {
     "name": "stdout",
     "output_type": "stream",
     "text": [
      "[INFO] Keeping all rows: 89710 rows retained.\n"
     ]
    },
    {
     "name": "stdout",
     "output_type": "stream",
     "text": [
      "[INFO] Keeping all rows: 89710 rows retained.\n"
     ]
    },
    {
     "name": "stdout",
     "output_type": "stream",
     "text": [
      "[INFO] Keeping all rows: 89710 rows retained.\n"
     ]
    },
    {
     "data": {
      "text/html": [
       "<div>\n",
       "<style scoped>\n",
       "    .dataframe tbody tr th:only-of-type {\n",
       "        vertical-align: middle;\n",
       "    }\n",
       "\n",
       "    .dataframe tbody tr th {\n",
       "        vertical-align: top;\n",
       "    }\n",
       "\n",
       "    .dataframe thead th {\n",
       "        text-align: right;\n",
       "    }\n",
       "</style>\n",
       "<table border=\"1\" class=\"dataframe\">\n",
       "  <thead>\n",
       "    <tr style=\"text-align: right;\">\n",
       "      <th></th>\n",
       "      <th>run_no</th>\n",
       "      <th>universe_id</th>\n",
       "      <th>universe_settings</th>\n",
       "      <th>execution_time</th>\n",
       "      <th>test_size_n</th>\n",
       "      <th>test_size_frac</th>\n",
       "      <th>fair_main_equalized_odds_difference</th>\n",
       "      <th>fair_main_equalized_odds_ratio</th>\n",
       "      <th>fair_main_demographic_parity_difference</th>\n",
       "      <th>fair_main_demographic_parity_ratio</th>\n",
       "      <th>...</th>\n",
       "      <th>perf_grp_precision_0</th>\n",
       "      <th>perf_grp_precision_1</th>\n",
       "      <th>perf_grp_false positive rate_0</th>\n",
       "      <th>perf_grp_false positive rate_1</th>\n",
       "      <th>perf_grp_false negative rate_0</th>\n",
       "      <th>perf_grp_false negative rate_1</th>\n",
       "      <th>perf_grp_selection rate_0</th>\n",
       "      <th>perf_grp_selection rate_1</th>\n",
       "      <th>perf_grp_count_0</th>\n",
       "      <th>perf_grp_count_1</th>\n",
       "    </tr>\n",
       "  </thead>\n",
       "  <tbody>\n",
       "    <tr>\n",
       "      <th>0</th>\n",
       "      <td>11</td>\n",
       "      <td>7377984325116e7afda931ea10cf393a</td>\n",
       "      <td>{\"cutoff\": \"quantile_0.1\", \"eval_fairness_grou...</td>\n",
       "      <td>31.194582</td>\n",
       "      <td>89710</td>\n",
       "      <td>1.0</td>\n",
       "      <td>0.068428</td>\n",
       "      <td>0.927282</td>\n",
       "      <td>0.060112</td>\n",
       "      <td>0.936480</td>\n",
       "      <td>...</td>\n",
       "      <td>NaN</td>\n",
       "      <td>NaN</td>\n",
       "      <td>NaN</td>\n",
       "      <td>NaN</td>\n",
       "      <td>NaN</td>\n",
       "      <td>NaN</td>\n",
       "      <td>NaN</td>\n",
       "      <td>NaN</td>\n",
       "      <td>NaN</td>\n",
       "      <td>NaN</td>\n",
       "    </tr>\n",
       "    <tr>\n",
       "      <th>0</th>\n",
       "      <td>11</td>\n",
       "      <td>7377984325116e7afda931ea10cf393a</td>\n",
       "      <td>{\"cutoff\": \"quantile_0.1\", \"eval_fairness_grou...</td>\n",
       "      <td>31.194582</td>\n",
       "      <td>89710</td>\n",
       "      <td>1.0</td>\n",
       "      <td>0.068428</td>\n",
       "      <td>0.927282</td>\n",
       "      <td>0.060112</td>\n",
       "      <td>0.936480</td>\n",
       "      <td>...</td>\n",
       "      <td>0.120280</td>\n",
       "      <td>0.145511</td>\n",
       "      <td>0.941008</td>\n",
       "      <td>0.872580</td>\n",
       "      <td>0.012669</td>\n",
       "      <td>0.024070</td>\n",
       "      <td>0.946349</td>\n",
       "      <td>0.886237</td>\n",
       "      <td>20540.0</td>\n",
       "      <td>69170.0</td>\n",
       "    </tr>\n",
       "    <tr>\n",
       "      <th>0</th>\n",
       "      <td>11</td>\n",
       "      <td>7377984325116e7afda931ea10cf393a</td>\n",
       "      <td>{\"cutoff\": \"quantile_0.25\", \"eval_fairness_gro...</td>\n",
       "      <td>31.194582</td>\n",
       "      <td>89710</td>\n",
       "      <td>1.0</td>\n",
       "      <td>0.150148</td>\n",
       "      <td>0.821200</td>\n",
       "      <td>0.133870</td>\n",
       "      <td>0.843099</td>\n",
       "      <td>...</td>\n",
       "      <td>NaN</td>\n",
       "      <td>NaN</td>\n",
       "      <td>NaN</td>\n",
       "      <td>NaN</td>\n",
       "      <td>NaN</td>\n",
       "      <td>NaN</td>\n",
       "      <td>NaN</td>\n",
       "      <td>NaN</td>\n",
       "      <td>NaN</td>\n",
       "      <td>NaN</td>\n",
       "    </tr>\n",
       "    <tr>\n",
       "      <th>0</th>\n",
       "      <td>11</td>\n",
       "      <td>7377984325116e7afda931ea10cf393a</td>\n",
       "      <td>{\"cutoff\": \"quantile_0.25\", \"eval_fairness_gro...</td>\n",
       "      <td>31.194582</td>\n",
       "      <td>89710</td>\n",
       "      <td>1.0</td>\n",
       "      <td>0.150148</td>\n",
       "      <td>0.821200</td>\n",
       "      <td>0.133870</td>\n",
       "      <td>0.843099</td>\n",
       "      <td>...</td>\n",
       "      <td>0.129244</td>\n",
       "      <td>0.168017</td>\n",
       "      <td>0.839753</td>\n",
       "      <td>0.689605</td>\n",
       "      <td>0.043497</td>\n",
       "      <td>0.085339</td>\n",
       "      <td>0.853213</td>\n",
       "      <td>0.719344</td>\n",
       "      <td>20540.0</td>\n",
       "      <td>69170.0</td>\n",
       "    </tr>\n",
       "  </tbody>\n",
       "</table>\n",
       "<p>4 rows × 50 columns</p>\n",
       "</div>"
      ],
      "text/plain": [
       "  run_no                       universe_id  \\\n",
       "0     11  7377984325116e7afda931ea10cf393a   \n",
       "0     11  7377984325116e7afda931ea10cf393a   \n",
       "0     11  7377984325116e7afda931ea10cf393a   \n",
       "0     11  7377984325116e7afda931ea10cf393a   \n",
       "\n",
       "                                   universe_settings  execution_time  \\\n",
       "0  {\"cutoff\": \"quantile_0.1\", \"eval_fairness_grou...       31.194582   \n",
       "0  {\"cutoff\": \"quantile_0.1\", \"eval_fairness_grou...       31.194582   \n",
       "0  {\"cutoff\": \"quantile_0.25\", \"eval_fairness_gro...       31.194582   \n",
       "0  {\"cutoff\": \"quantile_0.25\", \"eval_fairness_gro...       31.194582   \n",
       "\n",
       "   test_size_n  test_size_frac  fair_main_equalized_odds_difference  \\\n",
       "0        89710             1.0                             0.068428   \n",
       "0        89710             1.0                             0.068428   \n",
       "0        89710             1.0                             0.150148   \n",
       "0        89710             1.0                             0.150148   \n",
       "\n",
       "   fair_main_equalized_odds_ratio  fair_main_demographic_parity_difference  \\\n",
       "0                        0.927282                                 0.060112   \n",
       "0                        0.927282                                 0.060112   \n",
       "0                        0.821200                                 0.133870   \n",
       "0                        0.821200                                 0.133870   \n",
       "\n",
       "   fair_main_demographic_parity_ratio  ...  perf_grp_precision_0  \\\n",
       "0                            0.936480  ...                   NaN   \n",
       "0                            0.936480  ...              0.120280   \n",
       "0                            0.843099  ...                   NaN   \n",
       "0                            0.843099  ...              0.129244   \n",
       "\n",
       "   perf_grp_precision_1  perf_grp_false positive rate_0  \\\n",
       "0                   NaN                             NaN   \n",
       "0              0.145511                        0.941008   \n",
       "0                   NaN                             NaN   \n",
       "0              0.168017                        0.839753   \n",
       "\n",
       "   perf_grp_false positive rate_1  perf_grp_false negative rate_0  \\\n",
       "0                             NaN                             NaN   \n",
       "0                        0.872580                        0.012669   \n",
       "0                             NaN                             NaN   \n",
       "0                        0.689605                        0.043497   \n",
       "\n",
       "   perf_grp_false negative rate_1  perf_grp_selection rate_0  \\\n",
       "0                             NaN                        NaN   \n",
       "0                        0.024070                   0.946349   \n",
       "0                             NaN                        NaN   \n",
       "0                        0.085339                   0.853213   \n",
       "\n",
       "   perf_grp_selection rate_1  perf_grp_count_0  perf_grp_count_1  \n",
       "0                        NaN               NaN               NaN  \n",
       "0                   0.886237           20540.0           69170.0  \n",
       "0                        NaN               NaN               NaN  \n",
       "0                   0.719344           20540.0           69170.0  \n",
       "\n",
       "[4 rows x 50 columns]"
      ]
     },
     "execution_count": 72,
     "metadata": {},
     "output_type": "execute_result"
    }
   ],
   "source": [
    "final_output = universe_analysis.generate_final_output(\n",
    "    y_pred_prob=probs_test,\n",
    "    y_test=y_true,\n",
    "    org_test=org_test,\n",
    "    filter_data=filter_sub_universe_data,\n",
    "    cp_metrics_df=cp_metrics_df,\n",
    "    save=True,\n",
    ")\n",
    "final_output"
   ]
  },
  {
   "cell_type": "code",
   "execution_count": null,
   "id": "721ff514-cb11-46f8-b6fc-50392f74b5cb",
   "metadata": {
    "papermill": {
     "duration": 0.041685,
     "end_time": "2025-07-28T10:51:25.998081",
     "exception": false,
     "start_time": "2025-07-28T10:51:25.956396",
     "status": "completed"
    },
    "tags": []
   },
   "outputs": [],
   "source": []
  }
 ],
 "metadata": {
  "celltoolbar": "Tags",
  "kernelspec": {
   "display_name": "Python (CMA Fairness)",
   "language": "python",
   "name": "cma_fair_env"
  },
  "language_info": {
   "codemirror_mode": {
    "name": "ipython",
    "version": 3
   },
   "file_extension": ".py",
   "mimetype": "text/x-python",
   "name": "python",
   "nbconvert_exporter": "python",
   "pygments_lexer": "ipython3",
   "version": "3.10.12"
  },
  "papermill": {
   "default_parameters": {},
   "duration": 46.678447,
   "end_time": "2025-07-28T10:51:26.961351",
   "environment_variables": {},
   "exception": null,
   "input_path": "universe_analysis.ipynb",
   "output_path": "output/runs/11/notebooks/m_11-7377984325116e7afda931ea10cf393a.ipynb",
   "parameters": {
    "output_dir": "output",
    "run_no": "11",
    "seed": "2023",
    "universe": "{\"cutoff\": [\"quantile_0.1\", \"quantile_0.25\"], \"eval_fairness_grouping\": [\"majority-minority\", \"nationality-all\"], \"exclude_features\": \"nationality\", \"exclude_subgroups\": \"drop-non-german\", \"model\": \"gbm\", \"scale\": \"do-not-scale\", \"training_size\": \"1k\"}",
    "universe_id": "7377984325116e7afda931ea10cf393a"
   },
   "start_time": "2025-07-28T10:50:40.282904",
   "version": "2.6.0"
  }
 },
 "nbformat": 4,
 "nbformat_minor": 5
}