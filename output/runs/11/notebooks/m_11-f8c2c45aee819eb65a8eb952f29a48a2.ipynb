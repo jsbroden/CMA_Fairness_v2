{
 "cells": [
  {
   "cell_type": "code",
   "execution_count": 1,
   "id": "f159f837-637b-42ba-96b5-ec9a68c44524",
   "metadata": {
    "execution": {
     "iopub.execute_input": "2025-07-28T10:35:46.319362Z",
     "iopub.status.busy": "2025-07-28T10:35:46.318825Z",
     "iopub.status.idle": "2025-07-28T10:35:46.333469Z",
     "shell.execute_reply": "2025-07-28T10:35:46.332396Z"
    },
    "papermill": {
     "duration": 0.038915,
     "end_time": "2025-07-28T10:35:46.335351",
     "exception": false,
     "start_time": "2025-07-28T10:35:46.296436",
     "status": "completed"
    },
    "tags": []
   },
   "outputs": [
    {
     "name": "stdout",
     "output_type": "stream",
     "text": [
      "/dss/dsshome1/0C/ra93lal2/cma/CMA_Fairness_v2\n"
     ]
    },
    {
     "name": "stderr",
     "output_type": "stream",
     "text": [
      "/dss/dsshome1/0C/ra93lal2/.local/share/virtualenvs/CMA_Fairness_v2-3j10GkSs/lib/python3.10/site-packages/IPython/core/magics/osm.py:393: UserWarning: This is now an optional IPython functionality, using bookmarks requires you to install the `pickleshare` library.\n",
      "  bkms = self.shell.db.get('bookmarks', {})\n",
      "/dss/dsshome1/0C/ra93lal2/.local/share/virtualenvs/CMA_Fairness_v2-3j10GkSs/lib/python3.10/site-packages/IPython/core/magics/osm.py:417: UserWarning: This is now an optional IPython functionality, setting dhist requires you to install the `pickleshare` library.\n",
      "  self.shell.db['dhist'] = compress_dhist(dhist)[-100:]\n"
     ]
    }
   ],
   "source": [
    "%cd ~/cma/CMA_Fairness_v2"
   ]
  },
  {
   "cell_type": "markdown",
   "id": "de2603b9",
   "metadata": {
    "papermill": {
     "duration": 0.019094,
     "end_time": "2025-07-28T10:35:46.374546",
     "exception": false,
     "start_time": "2025-07-28T10:35:46.355452",
     "status": "completed"
    },
    "tags": []
   },
   "source": [
    "The following cell holds the definition of our parameters, these values can be overriden by rendering the with e.g. the following command:\n",
    "\n",
    "papermill -p alpha 0.2 -p ratio 0.3 universe_analysis.ipynb output/test_run.ipynb"
   ]
  },
  {
   "cell_type": "code",
   "execution_count": 2,
   "id": "a80968a0-40bb-4fa9-85ef-2d5eefb01975",
   "metadata": {
    "execution": {
     "iopub.execute_input": "2025-07-28T10:35:46.414002Z",
     "iopub.status.busy": "2025-07-28T10:35:46.413284Z",
     "iopub.status.idle": "2025-07-28T10:35:46.419505Z",
     "shell.execute_reply": "2025-07-28T10:35:46.418537Z"
    },
    "papermill": {
     "duration": 0.027988,
     "end_time": "2025-07-28T10:35:46.421225",
     "exception": false,
     "start_time": "2025-07-28T10:35:46.393237",
     "status": "completed"
    },
    "tags": []
   },
   "outputs": [
    {
     "name": "stdout",
     "output_type": "stream",
     "text": [
      "Current working directory: /dss/dsshome1/0C/ra93lal2/cma/CMA_Fairness_v2\n"
     ]
    }
   ],
   "source": [
    "import os\n",
    "print(\"Current working directory:\", os.getcwd())"
   ]
  },
  {
   "cell_type": "code",
   "execution_count": 3,
   "id": "2dce4c03",
   "metadata": {
    "execution": {
     "iopub.execute_input": "2025-07-28T10:35:46.461660Z",
     "iopub.status.busy": "2025-07-28T10:35:46.460833Z",
     "iopub.status.idle": "2025-07-28T10:35:46.468023Z",
     "shell.execute_reply": "2025-07-28T10:35:46.467074Z"
    },
    "papermill": {
     "duration": 0.029918,
     "end_time": "2025-07-28T10:35:46.469884",
     "exception": false,
     "start_time": "2025-07-28T10:35:46.439966",
     "status": "completed"
    },
    "tags": [
     "parameters"
    ]
   },
   "outputs": [],
   "source": [
    "run_no = 0\n",
    "universe_id = \"test\"\n",
    "universe = {\n",
    "    \"training_size\": \"2014\", # \"25k\", \"5k\", \"1k\", \"2014\"\n",
    "    \"scale\": \"scale\", # \"scale\", \"do-not-scale\",\n",
    "    #\"stratify_split\": \"target\", # \"none\", \"target\", \"protected-attribute\", \"both\",\n",
    "    \"model\": \"elasticnet\", # \"logreg\", \"penalized_logreg\", \"rf\", \"gbm\", \"elasticnet\"\n",
    "    \"cutoff\": [\"quantile_0.15\", \"quantile_0.30\"],\n",
    "    \"exclude_features\": \"age\", # \"none\", \"nationality\", \"sex\", \"nationality-sex\", \"age\"\n",
    "    \"exclude_subgroups\": \"keep-all\", # \"keep-all\", \"drop-non-german\"\n",
    "    #\"training_sample\": \"restricted\", # \"restricted\", \"full\"\n",
    "    \"eval_fairness_grouping\": [\"majority-minority\", \"nationality-all\"]\n",
    "}\n",
    "\n",
    "output_dir=\"./output\"\n",
    "seed=0"
   ]
  },
  {
   "cell_type": "code",
   "execution_count": 4,
   "id": "c257361a",
   "metadata": {
    "execution": {
     "iopub.execute_input": "2025-07-28T10:35:46.511047Z",
     "iopub.status.busy": "2025-07-28T10:35:46.510416Z",
     "iopub.status.idle": "2025-07-28T10:35:46.516065Z",
     "shell.execute_reply": "2025-07-28T10:35:46.514996Z"
    },
    "papermill": {
     "duration": 0.028056,
     "end_time": "2025-07-28T10:35:46.518048",
     "exception": false,
     "start_time": "2025-07-28T10:35:46.489992",
     "status": "completed"
    },
    "tags": [
     "injected-parameters"
    ]
   },
   "outputs": [],
   "source": [
    "# Parameters\n",
    "universe_id = \"f8c2c45aee819eb65a8eb952f29a48a2\"\n",
    "run_no = \"11\"\n",
    "universe = \"{\\\"cutoff\\\": [\\\"quantile_0.1\\\", \\\"quantile_0.25\\\"], \\\"eval_fairness_grouping\\\": [\\\"majority-minority\\\", \\\"nationality-all\\\"], \\\"exclude_features\\\": \\\"none\\\", \\\"exclude_subgroups\\\": \\\"drop-non-german\\\", \\\"model\\\": \\\"penalized_logreg\\\", \\\"scale\\\": \\\"do-not-scale\\\", \\\"training_size\\\": \\\"5k\\\"}\"\n",
    "output_dir = \"output\"\n",
    "seed = \"2023\"\n"
   ]
  },
  {
   "cell_type": "code",
   "execution_count": 5,
   "id": "1650acaf",
   "metadata": {
    "execution": {
     "iopub.execute_input": "2025-07-28T10:35:46.562365Z",
     "iopub.status.busy": "2025-07-28T10:35:46.561582Z",
     "iopub.status.idle": "2025-07-28T10:35:46.567941Z",
     "shell.execute_reply": "2025-07-28T10:35:46.566899Z"
    },
    "papermill": {
     "duration": 0.030033,
     "end_time": "2025-07-28T10:35:46.569813",
     "exception": false,
     "start_time": "2025-07-28T10:35:46.539780",
     "status": "completed"
    },
    "tags": []
   },
   "outputs": [],
   "source": [
    "import json\n",
    "# Parse universe into dict if it is passed as a string\n",
    "if isinstance(universe, str):\n",
    "    universe = json.loads(universe)"
   ]
  },
  {
   "cell_type": "code",
   "execution_count": 6,
   "id": "16620c48",
   "metadata": {
    "execution": {
     "iopub.execute_input": "2025-07-28T10:35:46.614327Z",
     "iopub.status.busy": "2025-07-28T10:35:46.613804Z",
     "iopub.status.idle": "2025-07-28T10:35:46.662260Z",
     "shell.execute_reply": "2025-07-28T10:35:46.661158Z"
    },
    "papermill": {
     "duration": 0.073175,
     "end_time": "2025-07-28T10:35:46.664187",
     "exception": false,
     "start_time": "2025-07-28T10:35:46.591012",
     "status": "completed"
    },
    "tags": []
   },
   "outputs": [],
   "source": [
    "# Auto-reload the custom package\n",
    "%load_ext autoreload\n",
    "%autoreload 1\n",
    "%aimport fairness_multiverse"
   ]
  },
  {
   "cell_type": "code",
   "execution_count": 7,
   "id": "01c5c9f3",
   "metadata": {
    "execution": {
     "iopub.execute_input": "2025-07-28T10:35:46.707520Z",
     "iopub.status.busy": "2025-07-28T10:35:46.707161Z",
     "iopub.status.idle": "2025-07-28T10:35:48.832582Z",
     "shell.execute_reply": "2025-07-28T10:35:48.831480Z"
    },
    "papermill": {
     "duration": 2.149234,
     "end_time": "2025-07-28T10:35:48.834875",
     "exception": false,
     "start_time": "2025-07-28T10:35:46.685641",
     "status": "completed"
    },
    "tags": []
   },
   "outputs": [],
   "source": [
    "from fairness_multiverse.universe import UniverseAnalysis\n",
    "\n",
    "universe_analysis = UniverseAnalysis(\n",
    "    run_no = run_no,\n",
    "    universe_id = universe_id,\n",
    "    universe = universe,\n",
    "    output_dir=output_dir,\n",
    ")"
   ]
  },
  {
   "cell_type": "code",
   "execution_count": 8,
   "id": "106241f5",
   "metadata": {
    "execution": {
     "iopub.execute_input": "2025-07-28T10:35:48.877959Z",
     "iopub.status.busy": "2025-07-28T10:35:48.877441Z",
     "iopub.status.idle": "2025-07-28T10:35:48.884023Z",
     "shell.execute_reply": "2025-07-28T10:35:48.883025Z"
    },
    "papermill": {
     "duration": 0.029302,
     "end_time": "2025-07-28T10:35:48.885661",
     "exception": false,
     "start_time": "2025-07-28T10:35:48.856359",
     "status": "completed"
    },
    "tags": []
   },
   "outputs": [
    {
     "name": "stdout",
     "output_type": "stream",
     "text": [
      "Using Seed: 2023\n"
     ]
    }
   ],
   "source": [
    "import numpy as np\n",
    "parsed_seed = int(seed)\n",
    "np.random.seed(parsed_seed)\n",
    "print(f\"Using Seed: {parsed_seed}\")"
   ]
  },
  {
   "cell_type": "markdown",
   "id": "e0ebdc57",
   "metadata": {
    "papermill": {
     "duration": 0.021033,
     "end_time": "2025-07-28T10:35:48.927126",
     "exception": false,
     "start_time": "2025-07-28T10:35:48.906093",
     "status": "completed"
    },
    "tags": []
   },
   "source": [
    "# Loading Data"
   ]
  },
  {
   "cell_type": "markdown",
   "id": "681925a3",
   "metadata": {
    "papermill": {
     "duration": 0.019826,
     "end_time": "2025-07-28T10:35:48.967852",
     "exception": false,
     "start_time": "2025-07-28T10:35:48.948026",
     "status": "completed"
    },
    "tags": []
   },
   "source": [
    "Load siab_train, siab_test, siab_calib and/or \n",
    "load siab_train_features, siab_train_labels"
   ]
  },
  {
   "cell_type": "code",
   "execution_count": 9,
   "id": "f0496b8a",
   "metadata": {
    "execution": {
     "iopub.execute_input": "2025-07-28T10:35:49.009780Z",
     "iopub.status.busy": "2025-07-28T10:35:49.009221Z",
     "iopub.status.idle": "2025-07-28T10:36:02.084862Z",
     "shell.execute_reply": "2025-07-28T10:36:02.083479Z"
    },
    "papermill": {
     "duration": 13.099204,
     "end_time": "2025-07-28T10:36:02.086803",
     "exception": false,
     "start_time": "2025-07-28T10:35:48.987599",
     "status": "completed"
    },
    "tags": []
   },
   "outputs": [
    {
     "name": "stdout",
     "output_type": "stream",
     "text": [
      "Loading SIAB data from cache: data/siab_cached.csv.gz\n"
     ]
    },
    {
     "name": "stdout",
     "output_type": "stream",
     "text": [
      "(643690, 164)\n"
     ]
    }
   ],
   "source": [
    "from pathlib import Path\n",
    "import pandas as pd\n",
    "\n",
    "# File paths\n",
    "raw_file = Path(\"data/raw/siab.csv\")\n",
    "cache_file = Path(\"data/siab_cached.csv.gz\")\n",
    "\n",
    "# Ensure cache directory exists\n",
    "cache_file.parent.mkdir(parents=True, exist_ok=True)\n",
    "\n",
    "# Load with simple caching\n",
    "if cache_file.exists():\n",
    "    print(f\"Loading SIAB data from cache: {cache_file}\")\n",
    "    siab = pd.read_csv(cache_file, compression='gzip')\n",
    "else:\n",
    "    print(f\"Cache not found. Reading raw SIAB data: {raw_file}\")\n",
    "    siab = pd.read_csv(raw_file)\n",
    "    siab.to_csv(cache_file, index=False, compression='gzip')\n",
    "    print(f\"Cached SIAB data to: {cache_file}\")\n",
    "\n",
    "# Now use `siab` DataFrame as needed\n",
    "print(siab.shape)"
   ]
  },
  {
   "cell_type": "code",
   "execution_count": 10,
   "id": "db0ca512-5f53-4dba-abdb-a2888bca41ba",
   "metadata": {
    "execution": {
     "iopub.execute_input": "2025-07-28T10:36:02.134476Z",
     "iopub.status.busy": "2025-07-28T10:36:02.133556Z",
     "iopub.status.idle": "2025-07-28T10:36:02.139839Z",
     "shell.execute_reply": "2025-07-28T10:36:02.138732Z"
    },
    "papermill": {
     "duration": 0.031176,
     "end_time": "2025-07-28T10:36:02.141506",
     "exception": false,
     "start_time": "2025-07-28T10:36:02.110330",
     "status": "completed"
    },
    "tags": []
   },
   "outputs": [],
   "source": [
    "#siab"
   ]
  },
  {
   "cell_type": "code",
   "execution_count": 11,
   "id": "a0edb063",
   "metadata": {
    "execution": {
     "iopub.execute_input": "2025-07-28T10:36:02.185672Z",
     "iopub.status.busy": "2025-07-28T10:36:02.184866Z",
     "iopub.status.idle": "2025-07-28T10:36:02.190374Z",
     "shell.execute_reply": "2025-07-28T10:36:02.189363Z"
    },
    "papermill": {
     "duration": 0.029944,
     "end_time": "2025-07-28T10:36:02.192313",
     "exception": false,
     "start_time": "2025-07-28T10:36:02.162369",
     "status": "completed"
    },
    "tags": []
   },
   "outputs": [],
   "source": [
    "#import pandas as pd\n",
    "#\n",
    "#X_train = pd.read_csv(\"./data/X_train.csv\")\n",
    "#y_train = pd.read_csv(\"./data/y_train.csv\")"
   ]
  },
  {
   "cell_type": "code",
   "execution_count": 12,
   "id": "63d08085",
   "metadata": {
    "execution": {
     "iopub.execute_input": "2025-07-28T10:36:02.236751Z",
     "iopub.status.busy": "2025-07-28T10:36:02.235946Z",
     "iopub.status.idle": "2025-07-28T10:36:02.241526Z",
     "shell.execute_reply": "2025-07-28T10:36:02.240472Z"
    },
    "papermill": {
     "duration": 0.028841,
     "end_time": "2025-07-28T10:36:02.243262",
     "exception": false,
     "start_time": "2025-07-28T10:36:02.214421",
     "status": "completed"
    },
    "tags": []
   },
   "outputs": [],
   "source": [
    "#X_test = pd.read_csv(\"./data/X_test.csv\")\n",
    "#y_true = pd.read_csv(\"./data/y_test.csv\")"
   ]
  },
  {
   "cell_type": "code",
   "execution_count": 13,
   "id": "98a8d0fa-1d3d-4ed8-bb2c-281470e24add",
   "metadata": {
    "execution": {
     "iopub.execute_input": "2025-07-28T10:36:02.289132Z",
     "iopub.status.busy": "2025-07-28T10:36:02.288167Z",
     "iopub.status.idle": "2025-07-28T10:36:02.293948Z",
     "shell.execute_reply": "2025-07-28T10:36:02.292925Z"
    },
    "papermill": {
     "duration": 0.030351,
     "end_time": "2025-07-28T10:36:02.295658",
     "exception": false,
     "start_time": "2025-07-28T10:36:02.265307",
     "status": "completed"
    },
    "tags": []
   },
   "outputs": [],
   "source": [
    "# Calibration data for conformal\n",
    "#X_calib = pd.read_csv(\"./data/X_calib.csv\")\n",
    "#y_calib = pd.read_csv(\"./data/y_calib.csv\")"
   ]
  },
  {
   "cell_type": "markdown",
   "id": "9901737e-04df-44f0-9100-f5ad144ed040",
   "metadata": {
    "papermill": {
     "duration": 0.022704,
     "end_time": "2025-07-28T10:36:02.339025",
     "exception": false,
     "start_time": "2025-07-28T10:36:02.316321",
     "status": "completed"
    },
    "tags": []
   },
   "source": [
    "# Splitting Data and Setting Training Data Size"
   ]
  },
  {
   "cell_type": "code",
   "execution_count": 14,
   "id": "acbc8f7d-8fc8-4e86-8c59-5dcb0f58384b",
   "metadata": {
    "execution": {
     "iopub.execute_input": "2025-07-28T10:36:02.382792Z",
     "iopub.status.busy": "2025-07-28T10:36:02.382424Z",
     "iopub.status.idle": "2025-07-28T10:36:02.389540Z",
     "shell.execute_reply": "2025-07-28T10:36:02.388391Z"
    },
    "papermill": {
     "duration": 0.031001,
     "end_time": "2025-07-28T10:36:02.391350",
     "exception": false,
     "start_time": "2025-07-28T10:36:02.360349",
     "status": "completed"
    },
    "tags": []
   },
   "outputs": [],
   "source": [
    "def sample_by_year(df, training_size, random_state=42):\n",
    "    if training_size == \"2014\":\n",
    "        return df[df[\"year\"] == 2014].reset_index(drop=True)\n",
    "    \n",
    "    size_map = {\n",
    "        \"25k\": 5000,\n",
    "        \"5k\": 1000,\n",
    "        \"1k\": 200\n",
    "    }\n",
    "\n",
    "    if training_size not in size_map:\n",
    "        return df.reset_index(drop=True)  # use all data\n",
    "\n",
    "    n_per_year = size_map[training_size]\n",
    "    grouped = df.groupby(\"year\")\n",
    "    sampled = grouped.apply(lambda x: x.sample(n=min(n_per_year, len(x)), random_state=random_state))\n",
    "    return sampled.reset_index(drop=True)"
   ]
  },
  {
   "cell_type": "code",
   "execution_count": 15,
   "id": "6d931f52-beaf-43ff-9e78-9d44a448d54e",
   "metadata": {
    "execution": {
     "iopub.execute_input": "2025-07-28T10:36:02.438563Z",
     "iopub.status.busy": "2025-07-28T10:36:02.438044Z",
     "iopub.status.idle": "2025-07-28T10:36:03.154958Z",
     "shell.execute_reply": "2025-07-28T10:36:03.153970Z"
    },
    "papermill": {
     "duration": 0.742631,
     "end_time": "2025-07-28T10:36:03.156922",
     "exception": false,
     "start_time": "2025-07-28T10:36:02.414291",
     "status": "completed"
    },
    "tags": []
   },
   "outputs": [],
   "source": [
    "siab_s = sample_by_year(siab, universe[\"training_size\"])"
   ]
  },
  {
   "cell_type": "code",
   "execution_count": 16,
   "id": "5db0a40e-a4e2-4920-be85-b12ae061d70d",
   "metadata": {
    "execution": {
     "iopub.execute_input": "2025-07-28T10:36:03.201479Z",
     "iopub.status.busy": "2025-07-28T10:36:03.200922Z",
     "iopub.status.idle": "2025-07-28T10:36:03.215467Z",
     "shell.execute_reply": "2025-07-28T10:36:03.214418Z"
    },
    "papermill": {
     "duration": 0.039111,
     "end_time": "2025-07-28T10:36:03.217585",
     "exception": false,
     "start_time": "2025-07-28T10:36:03.178474",
     "status": "completed"
    },
    "tags": []
   },
   "outputs": [
    {
     "data": {
      "text/plain": [
       "year\n",
       "2010    1000\n",
       "2011    1000\n",
       "2012    1000\n",
       "2013    1000\n",
       "2014    1000\n",
       "2015    1000\n",
       "2016    1000\n",
       "dtype: int64"
      ]
     },
     "metadata": {},
     "output_type": "display_data"
    }
   ],
   "source": [
    "display(siab_s.groupby(\"year\").size())"
   ]
  },
  {
   "cell_type": "code",
   "execution_count": 17,
   "id": "a561edb4-d032-42cb-8256-22eac1111c64",
   "metadata": {
    "execution": {
     "iopub.execute_input": "2025-07-28T10:36:03.260815Z",
     "iopub.status.busy": "2025-07-28T10:36:03.260300Z",
     "iopub.status.idle": "2025-07-28T10:36:03.483196Z",
     "shell.execute_reply": "2025-07-28T10:36:03.482126Z"
    },
    "papermill": {
     "duration": 0.246704,
     "end_time": "2025-07-28T10:36:03.485213",
     "exception": false,
     "start_time": "2025-07-28T10:36:03.238509",
     "status": "completed"
    },
    "tags": []
   },
   "outputs": [],
   "source": [
    "siab_train = siab_s[siab_s.year < 2015]\n",
    "siab_calib = siab[siab.year == 2015]\n",
    "siab_test = siab[siab.year == 2016]"
   ]
  },
  {
   "cell_type": "code",
   "execution_count": 18,
   "id": "472de16f-c3db-4916-846b-1f0de9cf1746",
   "metadata": {
    "execution": {
     "iopub.execute_input": "2025-07-28T10:36:03.526271Z",
     "iopub.status.busy": "2025-07-28T10:36:03.525777Z",
     "iopub.status.idle": "2025-07-28T10:36:03.533558Z",
     "shell.execute_reply": "2025-07-28T10:36:03.532607Z"
    },
    "papermill": {
     "duration": 0.027157,
     "end_time": "2025-07-28T10:36:03.534987",
     "exception": false,
     "start_time": "2025-07-28T10:36:03.507830",
     "status": "completed"
    },
    "tags": []
   },
   "outputs": [],
   "source": [
    "X_train = siab_train.iloc[:,4:164]\n",
    "y_train = siab_train.iloc[:, [3]]"
   ]
  },
  {
   "cell_type": "code",
   "execution_count": 19,
   "id": "828c96af-f43a-4ed6-ba47-8ac73a47d56c",
   "metadata": {
    "execution": {
     "iopub.execute_input": "2025-07-28T10:36:03.568981Z",
     "iopub.status.busy": "2025-07-28T10:36:03.568441Z",
     "iopub.status.idle": "2025-07-28T10:36:03.625856Z",
     "shell.execute_reply": "2025-07-28T10:36:03.624672Z"
    },
    "papermill": {
     "duration": 0.080931,
     "end_time": "2025-07-28T10:36:03.627716",
     "exception": false,
     "start_time": "2025-07-28T10:36:03.546785",
     "status": "completed"
    },
    "tags": []
   },
   "outputs": [],
   "source": [
    "X_calib = siab_calib.iloc[:,4:164]\n",
    "y_calib = siab_calib.iloc[:, [3]]"
   ]
  },
  {
   "cell_type": "code",
   "execution_count": 20,
   "id": "c34be9c3-6bd6-476e-acd3-845840e303be",
   "metadata": {
    "execution": {
     "iopub.execute_input": "2025-07-28T10:36:03.675311Z",
     "iopub.status.busy": "2025-07-28T10:36:03.674633Z",
     "iopub.status.idle": "2025-07-28T10:36:03.731081Z",
     "shell.execute_reply": "2025-07-28T10:36:03.730014Z"
    },
    "papermill": {
     "duration": 0.082305,
     "end_time": "2025-07-28T10:36:03.732928",
     "exception": false,
     "start_time": "2025-07-28T10:36:03.650623",
     "status": "completed"
    },
    "tags": []
   },
   "outputs": [],
   "source": [
    "X_test = siab_test.iloc[:,4:164]\n",
    "y_true = siab_test.iloc[:, [3]]"
   ]
  },
  {
   "cell_type": "code",
   "execution_count": 21,
   "id": "e6c733c5",
   "metadata": {
    "execution": {
     "iopub.execute_input": "2025-07-28T10:36:03.776200Z",
     "iopub.status.busy": "2025-07-28T10:36:03.775254Z",
     "iopub.status.idle": "2025-07-28T10:36:03.879486Z",
     "shell.execute_reply": "2025-07-28T10:36:03.878451Z"
    },
    "papermill": {
     "duration": 0.126658,
     "end_time": "2025-07-28T10:36:03.881449",
     "exception": false,
     "start_time": "2025-07-28T10:36:03.754791",
     "status": "completed"
    },
    "tags": []
   },
   "outputs": [],
   "source": [
    "# Auxiliary data needed downstream in the pipeline\n",
    "\n",
    "org_train = X_train.copy()\n",
    "org_test = X_test.copy()\n",
    "org_calib = X_calib.copy()"
   ]
  },
  {
   "cell_type": "markdown",
   "id": "0a4a1b33",
   "metadata": {
    "papermill": {
     "duration": 0.020993,
     "end_time": "2025-07-28T10:36:03.922512",
     "exception": false,
     "start_time": "2025-07-28T10:36:03.901519",
     "status": "completed"
    },
    "tags": []
   },
   "source": [
    "# Preprocessing Data"
   ]
  },
  {
   "cell_type": "code",
   "execution_count": 22,
   "id": "ca879031",
   "metadata": {
    "execution": {
     "iopub.execute_input": "2025-07-28T10:36:03.964176Z",
     "iopub.status.busy": "2025-07-28T10:36:03.963586Z",
     "iopub.status.idle": "2025-07-28T10:36:03.970336Z",
     "shell.execute_reply": "2025-07-28T10:36:03.969240Z"
    },
    "papermill": {
     "duration": 0.029975,
     "end_time": "2025-07-28T10:36:03.972207",
     "exception": false,
     "start_time": "2025-07-28T10:36:03.942232",
     "status": "completed"
    },
    "tags": []
   },
   "outputs": [],
   "source": [
    "# EXCLUDE PROTECTED FEATURES\n",
    "# ----------------------\n",
    "# \"exclude_features\": \"none\", # \"nationality\", \"sex\", \"nationality-sex\"\n",
    "\n",
    "excluded_features = universe[\"exclude_features\"].split(\"-\") # split, e.g.: \"nationality-sex\" -> [\"nationality\", \"sex\"]\n",
    "excluded_features_dictionary = {\n",
    "    \"nationality\": [\"maxdeutsch1\", \"maxdeutsch.Missing.\"],\n",
    "    \"sex\": [\"frau1\"],\n",
    "    \"age\": [\"age\"],\n",
    "}\n"
   ]
  },
  {
   "cell_type": "code",
   "execution_count": 23,
   "id": "b745ac60",
   "metadata": {
    "execution": {
     "iopub.execute_input": "2025-07-28T10:36:03.999913Z",
     "iopub.status.busy": "2025-07-28T10:36:03.998986Z",
     "iopub.status.idle": "2025-07-28T10:36:04.004903Z",
     "shell.execute_reply": "2025-07-28T10:36:04.003835Z"
    },
    "papermill": {
     "duration": 0.020109,
     "end_time": "2025-07-28T10:36:04.006712",
     "exception": false,
     "start_time": "2025-07-28T10:36:03.986603",
     "status": "completed"
    },
    "tags": []
   },
   "outputs": [],
   "source": [
    "# Code nice names to column names\n",
    "\n",
    "excluded_features_columns = [\n",
    "    excluded_features_dictionary[f] for f in excluded_features if len(f) > 0 and f != \"none\"\n",
    "]"
   ]
  },
  {
   "cell_type": "code",
   "execution_count": 24,
   "id": "f84f73a2",
   "metadata": {
    "execution": {
     "iopub.execute_input": "2025-07-28T10:36:04.055711Z",
     "iopub.status.busy": "2025-07-28T10:36:04.055211Z",
     "iopub.status.idle": "2025-07-28T10:36:04.061165Z",
     "shell.execute_reply": "2025-07-28T10:36:04.060422Z"
    },
    "papermill": {
     "duration": 0.031905,
     "end_time": "2025-07-28T10:36:04.062504",
     "exception": false,
     "start_time": "2025-07-28T10:36:04.030599",
     "status": "completed"
    },
    "tags": []
   },
   "outputs": [],
   "source": [
    "from utils import flatten_once\n",
    "\n",
    "excluded_features_columns = flatten_once(excluded_features_columns)"
   ]
  },
  {
   "cell_type": "code",
   "execution_count": 25,
   "id": "884dea22",
   "metadata": {
    "execution": {
     "iopub.execute_input": "2025-07-28T10:36:04.086622Z",
     "iopub.status.busy": "2025-07-28T10:36:04.086088Z",
     "iopub.status.idle": "2025-07-28T10:36:04.091067Z",
     "shell.execute_reply": "2025-07-28T10:36:04.090231Z"
    },
    "papermill": {
     "duration": 0.018018,
     "end_time": "2025-07-28T10:36:04.092400",
     "exception": false,
     "start_time": "2025-07-28T10:36:04.074382",
     "status": "completed"
    },
    "tags": []
   },
   "outputs": [],
   "source": [
    "if len(excluded_features_columns) > 0:\n",
    "    print(f\"Dropping features: {excluded_features_columns}\")\n",
    "    X_train.drop(excluded_features_columns, axis=1, inplace=True)"
   ]
  },
  {
   "cell_type": "code",
   "execution_count": 26,
   "id": "95ab8b16",
   "metadata": {
    "execution": {
     "iopub.execute_input": "2025-07-28T10:36:04.116914Z",
     "iopub.status.busy": "2025-07-28T10:36:04.116324Z",
     "iopub.status.idle": "2025-07-28T10:36:04.121316Z",
     "shell.execute_reply": "2025-07-28T10:36:04.120595Z"
    },
    "papermill": {
     "duration": 0.01825,
     "end_time": "2025-07-28T10:36:04.122772",
     "exception": false,
     "start_time": "2025-07-28T10:36:04.104522",
     "status": "completed"
    },
    "tags": []
   },
   "outputs": [],
   "source": [
    "if len(excluded_features_columns) > 0:\n",
    "    print(f\"Dropping features: {excluded_features_columns}\")\n",
    "    X_test.drop(excluded_features_columns, axis=1, inplace=True)"
   ]
  },
  {
   "cell_type": "code",
   "execution_count": 27,
   "id": "1853aaf5-fb9f-46cb-a2b5-8ea4ae2237e4",
   "metadata": {
    "execution": {
     "iopub.execute_input": "2025-07-28T10:36:04.156461Z",
     "iopub.status.busy": "2025-07-28T10:36:04.155854Z",
     "iopub.status.idle": "2025-07-28T10:36:04.160944Z",
     "shell.execute_reply": "2025-07-28T10:36:04.160108Z"
    },
    "papermill": {
     "duration": 0.018576,
     "end_time": "2025-07-28T10:36:04.162354",
     "exception": false,
     "start_time": "2025-07-28T10:36:04.143778",
     "status": "completed"
    },
    "tags": []
   },
   "outputs": [],
   "source": [
    "if len(excluded_features_columns) > 0:\n",
    "    print(f\"Dropping features: {excluded_features_columns}\")\n",
    "    X_calib.drop(excluded_features_columns, axis=1, inplace=True)"
   ]
  },
  {
   "cell_type": "code",
   "execution_count": 28,
   "id": "6727d079-03e5-481e-9d38-292a90b7a0a8",
   "metadata": {
    "execution": {
     "iopub.execute_input": "2025-07-28T10:36:04.186427Z",
     "iopub.status.busy": "2025-07-28T10:36:04.185622Z",
     "iopub.status.idle": "2025-07-28T10:36:04.190585Z",
     "shell.execute_reply": "2025-07-28T10:36:04.189506Z"
    },
    "papermill": {
     "duration": 0.018712,
     "end_time": "2025-07-28T10:36:04.192470",
     "exception": false,
     "start_time": "2025-07-28T10:36:04.173758",
     "status": "completed"
    },
    "tags": []
   },
   "outputs": [],
   "source": [
    "# SPLIT & STRATIFY DATA\n",
    "# ----------------------"
   ]
  },
  {
   "cell_type": "code",
   "execution_count": 29,
   "id": "76c4dc6d",
   "metadata": {
    "execution": {
     "iopub.execute_input": "2025-07-28T10:36:04.235849Z",
     "iopub.status.busy": "2025-07-28T10:36:04.235487Z",
     "iopub.status.idle": "2025-07-28T10:36:04.240832Z",
     "shell.execute_reply": "2025-07-28T10:36:04.240043Z"
    },
    "papermill": {
     "duration": 0.028562,
     "end_time": "2025-07-28T10:36:04.242351",
     "exception": false,
     "start_time": "2025-07-28T10:36:04.213789",
     "status": "completed"
    },
    "tags": []
   },
   "outputs": [],
   "source": [
    "# EXCLUDE CERTAIN SUBGROUPS\n",
    "# ----------------------\n",
    "\n",
    "mode = universe.get(\"exclude_subgroups\", \"keep-all\") \n",
    "# Fetches the exclude_subgroups setting from the universe dict.\n",
    "# Defaults to \"keep-all\" if the key is missing."
   ]
  },
  {
   "cell_type": "code",
   "execution_count": 30,
   "id": "21994072",
   "metadata": {
    "execution": {
     "iopub.execute_input": "2025-07-28T10:36:04.266120Z",
     "iopub.status.busy": "2025-07-28T10:36:04.265730Z",
     "iopub.status.idle": "2025-07-28T10:36:04.271253Z",
     "shell.execute_reply": "2025-07-28T10:36:04.270451Z"
    },
    "papermill": {
     "duration": 0.018605,
     "end_time": "2025-07-28T10:36:04.272572",
     "exception": false,
     "start_time": "2025-07-28T10:36:04.253967",
     "status": "completed"
    },
    "tags": []
   },
   "outputs": [],
   "source": [
    "if mode == \"keep-all\":\n",
    "    keep_mask = pd.Series(True, index=org_train.index)\n",
    "\n",
    "# org_train contains the original feature columns from features_org (in Simson)\n",
    "# features_org contains unprocessed features, for me X_train at beginning ???\n",
    "# For keep-all, creates a boolean Series (keep_mask) of all True, so no rows are removed.\n",
    "\n",
    "elif mode == \"drop-non-german\":\n",
    "    keep_mask = org_train[\"maxdeutsch1\"] == 1 # ??? what about missing values?\n",
    "\n",
    "else:\n",
    "    raise ValueError(f\"Unsupported mode for exclude_subgroups: {mode}\")\n"
   ]
  },
  {
   "cell_type": "code",
   "execution_count": 31,
   "id": "71651440",
   "metadata": {
    "execution": {
     "iopub.execute_input": "2025-07-28T10:36:04.303243Z",
     "iopub.status.busy": "2025-07-28T10:36:04.302603Z",
     "iopub.status.idle": "2025-07-28T10:36:04.310015Z",
     "shell.execute_reply": "2025-07-28T10:36:04.308999Z"
    },
    "papermill": {
     "duration": 0.027573,
     "end_time": "2025-07-28T10:36:04.311813",
     "exception": false,
     "start_time": "2025-07-28T10:36:04.284240",
     "status": "completed"
    },
    "tags": []
   },
   "outputs": [
    {
     "name": "stdout",
     "output_type": "stream",
     "text": [
      "Dropping 657 rows (13.14%) where mode='drop-non-german'\n"
     ]
    }
   ],
   "source": [
    "n_drop = (~keep_mask).sum() # Calculates how many rows are set to be dropped\n",
    "if n_drop > 0:\n",
    "    pct = n_drop / len(keep_mask) * 100\n",
    "    print(f\"Dropping {n_drop} rows ({pct:.2f}%) where mode='{mode}'\")"
   ]
  },
  {
   "cell_type": "code",
   "execution_count": 32,
   "id": "5fb8eee5",
   "metadata": {
    "execution": {
     "iopub.execute_input": "2025-07-28T10:36:04.350135Z",
     "iopub.status.busy": "2025-07-28T10:36:04.349596Z",
     "iopub.status.idle": "2025-07-28T10:36:04.356233Z",
     "shell.execute_reply": "2025-07-28T10:36:04.355402Z"
    },
    "papermill": {
     "duration": 0.023224,
     "end_time": "2025-07-28T10:36:04.357627",
     "exception": false,
     "start_time": "2025-07-28T10:36:04.334403",
     "status": "completed"
    },
    "tags": []
   },
   "outputs": [],
   "source": [
    "X_train = X_train[keep_mask]"
   ]
  },
  {
   "cell_type": "code",
   "execution_count": 33,
   "id": "b202bb3a",
   "metadata": {
    "execution": {
     "iopub.execute_input": "2025-07-28T10:36:04.382978Z",
     "iopub.status.busy": "2025-07-28T10:36:04.382450Z",
     "iopub.status.idle": "2025-07-28T10:36:04.387827Z",
     "shell.execute_reply": "2025-07-28T10:36:04.387071Z"
    },
    "papermill": {
     "duration": 0.019492,
     "end_time": "2025-07-28T10:36:04.389368",
     "exception": false,
     "start_time": "2025-07-28T10:36:04.369876",
     "status": "completed"
    },
    "tags": []
   },
   "outputs": [],
   "source": [
    "y_train = y_train[keep_mask]"
   ]
  },
  {
   "cell_type": "markdown",
   "id": "493e2ac3",
   "metadata": {
    "papermill": {
     "duration": 0.011484,
     "end_time": "2025-07-28T10:36:04.412867",
     "exception": false,
     "start_time": "2025-07-28T10:36:04.401383",
     "status": "completed"
    },
    "tags": []
   },
   "source": [
    "# Model Training"
   ]
  },
  {
   "cell_type": "code",
   "execution_count": 34,
   "id": "679e1268",
   "metadata": {
    "execution": {
     "iopub.execute_input": "2025-07-28T10:36:04.437497Z",
     "iopub.status.busy": "2025-07-28T10:36:04.436992Z",
     "iopub.status.idle": "2025-07-28T10:36:04.527123Z",
     "shell.execute_reply": "2025-07-28T10:36:04.526097Z"
    },
    "papermill": {
     "duration": 0.104774,
     "end_time": "2025-07-28T10:36:04.529160",
     "exception": false,
     "start_time": "2025-07-28T10:36:04.424386",
     "status": "completed"
    },
    "tags": []
   },
   "outputs": [],
   "source": [
    "from sklearn.linear_model import LogisticRegression\n",
    "from sklearn.ensemble import GradientBoostingClassifier, RandomForestClassifier\n",
    "\n",
    "if (universe[\"model\"] == \"logreg\"):\n",
    "    model = LogisticRegression() #penalty=\"none\") #, solver=\"newton-cg\", max_iter=1) # include random_state=19 ?\n",
    "elif (universe[\"model\"] == \"penalized_logreg\"):\n",
    "    model = LogisticRegression(penalty=\"l2\", C=1.0) #, solver=\"newton-cg\", max_iter=1)\n",
    "elif (universe[\"model\"] == \"rf\"):\n",
    "    model = RandomForestClassifier(n_estimators=100, n_jobs=-1)\n",
    "elif (universe[\"model\"] == \"gbm\"):\n",
    "    model = GradientBoostingClassifier()\n",
    "elif (universe[\"model\"] == \"elasticnet\"):\n",
    "    model = LogisticRegression(penalty = 'elasticnet', solver = 'saga', l1_ratio = 0.5, max_iter=5000) # which solver to use?\n",
    "else:\n",
    "    raise \"Unsupported universe.model\""
   ]
  },
  {
   "cell_type": "code",
   "execution_count": 35,
   "id": "0cc8f744",
   "metadata": {
    "execution": {
     "iopub.execute_input": "2025-07-28T10:36:04.575380Z",
     "iopub.status.busy": "2025-07-28T10:36:04.574911Z",
     "iopub.status.idle": "2025-07-28T10:36:04.581819Z",
     "shell.execute_reply": "2025-07-28T10:36:04.580816Z"
    },
    "papermill": {
     "duration": 0.032512,
     "end_time": "2025-07-28T10:36:04.583729",
     "exception": false,
     "start_time": "2025-07-28T10:36:04.551217",
     "status": "completed"
    },
    "tags": []
   },
   "outputs": [],
   "source": [
    "import numpy as np\n",
    "from sklearn.pipeline import Pipeline\n",
    "from sklearn.preprocessing import StandardScaler\n",
    "\n",
    "model = Pipeline([\n",
    "    #(\"continuous_processor\", continuous_processor),\n",
    "    #(\"categorical_preprocessor\", categorical_preprocessor),\n",
    "    (\"scale\", StandardScaler() if universe[\"scale\"] == \"scale\" else None), \n",
    "    (\"model\", model),\n",
    "])"
   ]
  },
  {
   "cell_type": "code",
   "execution_count": 36,
   "id": "9442c04d",
   "metadata": {
    "execution": {
     "iopub.execute_input": "2025-07-28T10:36:04.629752Z",
     "iopub.status.busy": "2025-07-28T10:36:04.629204Z",
     "iopub.status.idle": "2025-07-28T10:36:04.768695Z",
     "shell.execute_reply": "2025-07-28T10:36:04.767330Z"
    },
    "papermill": {
     "duration": 0.164194,
     "end_time": "2025-07-28T10:36:04.770977",
     "exception": false,
     "start_time": "2025-07-28T10:36:04.606783",
     "status": "completed"
    },
    "tags": []
   },
   "outputs": [
    {
     "name": "stderr",
     "output_type": "stream",
     "text": [
      "/dss/dsshome1/0C/ra93lal2/.local/share/virtualenvs/CMA_Fairness_v2-3j10GkSs/lib/python3.10/site-packages/sklearn/linear_model/_logistic.py:444: ConvergenceWarning: lbfgs failed to converge (status=1):\n",
      "STOP: TOTAL NO. of ITERATIONS REACHED LIMIT.\n",
      "\n",
      "Increase the number of iterations (max_iter) or scale the data as shown in:\n",
      "    https://scikit-learn.org/stable/modules/preprocessing.html\n",
      "Please also refer to the documentation for alternative solver options:\n",
      "    https://scikit-learn.org/stable/modules/linear_model.html#logistic-regression\n",
      "  n_iter_i = _check_optimize_result(\n"
     ]
    },
    {
     "data": {
      "text/html": [
       "<style>#sk-container-id-1 {color: black;background-color: white;}#sk-container-id-1 pre{padding: 0;}#sk-container-id-1 div.sk-toggleable {background-color: white;}#sk-container-id-1 label.sk-toggleable__label {cursor: pointer;display: block;width: 100%;margin-bottom: 0;padding: 0.3em;box-sizing: border-box;text-align: center;}#sk-container-id-1 label.sk-toggleable__label-arrow:before {content: \"▸\";float: left;margin-right: 0.25em;color: #696969;}#sk-container-id-1 label.sk-toggleable__label-arrow:hover:before {color: black;}#sk-container-id-1 div.sk-estimator:hover label.sk-toggleable__label-arrow:before {color: black;}#sk-container-id-1 div.sk-toggleable__content {max-height: 0;max-width: 0;overflow: hidden;text-align: left;background-color: #f0f8ff;}#sk-container-id-1 div.sk-toggleable__content pre {margin: 0.2em;color: black;border-radius: 0.25em;background-color: #f0f8ff;}#sk-container-id-1 input.sk-toggleable__control:checked~div.sk-toggleable__content {max-height: 200px;max-width: 100%;overflow: auto;}#sk-container-id-1 input.sk-toggleable__control:checked~label.sk-toggleable__label-arrow:before {content: \"▾\";}#sk-container-id-1 div.sk-estimator input.sk-toggleable__control:checked~label.sk-toggleable__label {background-color: #d4ebff;}#sk-container-id-1 div.sk-label input.sk-toggleable__control:checked~label.sk-toggleable__label {background-color: #d4ebff;}#sk-container-id-1 input.sk-hidden--visually {border: 0;clip: rect(1px 1px 1px 1px);clip: rect(1px, 1px, 1px, 1px);height: 1px;margin: -1px;overflow: hidden;padding: 0;position: absolute;width: 1px;}#sk-container-id-1 div.sk-estimator {font-family: monospace;background-color: #f0f8ff;border: 1px dotted black;border-radius: 0.25em;box-sizing: border-box;margin-bottom: 0.5em;}#sk-container-id-1 div.sk-estimator:hover {background-color: #d4ebff;}#sk-container-id-1 div.sk-parallel-item::after {content: \"\";width: 100%;border-bottom: 1px solid gray;flex-grow: 1;}#sk-container-id-1 div.sk-label:hover label.sk-toggleable__label {background-color: #d4ebff;}#sk-container-id-1 div.sk-serial::before {content: \"\";position: absolute;border-left: 1px solid gray;box-sizing: border-box;top: 0;bottom: 0;left: 50%;z-index: 0;}#sk-container-id-1 div.sk-serial {display: flex;flex-direction: column;align-items: center;background-color: white;padding-right: 0.2em;padding-left: 0.2em;position: relative;}#sk-container-id-1 div.sk-item {position: relative;z-index: 1;}#sk-container-id-1 div.sk-parallel {display: flex;align-items: stretch;justify-content: center;background-color: white;position: relative;}#sk-container-id-1 div.sk-item::before, #sk-container-id-1 div.sk-parallel-item::before {content: \"\";position: absolute;border-left: 1px solid gray;box-sizing: border-box;top: 0;bottom: 0;left: 50%;z-index: -1;}#sk-container-id-1 div.sk-parallel-item {display: flex;flex-direction: column;z-index: 1;position: relative;background-color: white;}#sk-container-id-1 div.sk-parallel-item:first-child::after {align-self: flex-end;width: 50%;}#sk-container-id-1 div.sk-parallel-item:last-child::after {align-self: flex-start;width: 50%;}#sk-container-id-1 div.sk-parallel-item:only-child::after {width: 0;}#sk-container-id-1 div.sk-dashed-wrapped {border: 1px dashed gray;margin: 0 0.4em 0.5em 0.4em;box-sizing: border-box;padding-bottom: 0.4em;background-color: white;}#sk-container-id-1 div.sk-label label {font-family: monospace;font-weight: bold;display: inline-block;line-height: 1.2em;}#sk-container-id-1 div.sk-label-container {text-align: center;}#sk-container-id-1 div.sk-container {/* jupyter's `normalize.less` sets `[hidden] { display: none; }` but bootstrap.min.css set `[hidden] { display: none !important; }` so we also need the `!important` here to be able to override the default hidden behavior on the sphinx rendered scikit-learn.org. See: https://github.com/scikit-learn/scikit-learn/issues/21755 */display: inline-block !important;position: relative;}#sk-container-id-1 div.sk-text-repr-fallback {display: none;}</style><div id=\"sk-container-id-1\" class=\"sk-top-container\"><div class=\"sk-text-repr-fallback\"><pre>Pipeline(steps=[(&#x27;scale&#x27;, None), (&#x27;model&#x27;, LogisticRegression())])</pre><b>In a Jupyter environment, please rerun this cell to show the HTML representation or trust the notebook. <br />On GitHub, the HTML representation is unable to render, please try loading this page with nbviewer.org.</b></div><div class=\"sk-container\" hidden><div class=\"sk-item sk-dashed-wrapped\"><div class=\"sk-label-container\"><div class=\"sk-label sk-toggleable\"><input class=\"sk-toggleable__control sk-hidden--visually\" id=\"sk-estimator-id-1\" type=\"checkbox\" ><label for=\"sk-estimator-id-1\" class=\"sk-toggleable__label sk-toggleable__label-arrow\">Pipeline</label><div class=\"sk-toggleable__content\"><pre>Pipeline(steps=[(&#x27;scale&#x27;, None), (&#x27;model&#x27;, LogisticRegression())])</pre></div></div></div><div class=\"sk-serial\"><div class=\"sk-item\"><div class=\"sk-estimator sk-toggleable\"><input class=\"sk-toggleable__control sk-hidden--visually\" id=\"sk-estimator-id-2\" type=\"checkbox\" ><label for=\"sk-estimator-id-2\" class=\"sk-toggleable__label sk-toggleable__label-arrow\">None</label><div class=\"sk-toggleable__content\"><pre>None</pre></div></div></div><div class=\"sk-item\"><div class=\"sk-estimator sk-toggleable\"><input class=\"sk-toggleable__control sk-hidden--visually\" id=\"sk-estimator-id-3\" type=\"checkbox\" ><label for=\"sk-estimator-id-3\" class=\"sk-toggleable__label sk-toggleable__label-arrow\">LogisticRegression</label><div class=\"sk-toggleable__content\"><pre>LogisticRegression()</pre></div></div></div></div></div></div></div>"
      ],
      "text/plain": [
       "Pipeline(steps=[('scale', None), ('model', LogisticRegression())])"
      ]
     },
     "execution_count": 36,
     "metadata": {},
     "output_type": "execute_result"
    }
   ],
   "source": [
    "model.fit(X_train, y_train.values.ravel())"
   ]
  },
  {
   "cell_type": "code",
   "execution_count": 37,
   "id": "af59f8c0",
   "metadata": {
    "execution": {
     "iopub.execute_input": "2025-07-28T10:36:04.822640Z",
     "iopub.status.busy": "2025-07-28T10:36:04.821948Z",
     "iopub.status.idle": "2025-07-28T10:36:04.828360Z",
     "shell.execute_reply": "2025-07-28T10:36:04.827280Z"
    },
    "papermill": {
     "duration": 0.037085,
     "end_time": "2025-07-28T10:36:04.833397",
     "exception": false,
     "start_time": "2025-07-28T10:36:04.796312",
     "status": "completed"
    },
    "tags": []
   },
   "outputs": [],
   "source": [
    "from fairness_multiverse.universe import predict_w_threshold"
   ]
  },
  {
   "cell_type": "code",
   "execution_count": 38,
   "id": "a7cf2e16",
   "metadata": {
    "execution": {
     "iopub.execute_input": "2025-07-28T10:36:04.880928Z",
     "iopub.status.busy": "2025-07-28T10:36:04.880271Z",
     "iopub.status.idle": "2025-07-28T10:36:04.982493Z",
     "shell.execute_reply": "2025-07-28T10:36:04.981411Z"
    },
    "papermill": {
     "duration": 0.129149,
     "end_time": "2025-07-28T10:36:04.985284",
     "exception": false,
     "start_time": "2025-07-28T10:36:04.856135",
     "status": "completed"
    },
    "tags": []
   },
   "outputs": [
    {
     "data": {
      "text/plain": [
       "0.860740162746628"
      ]
     },
     "execution_count": 38,
     "metadata": {},
     "output_type": "execute_result"
    }
   ],
   "source": [
    "probs_test = model.predict_proba(X_test)\n",
    "\n",
    "'''\n",
    "Below code returns a boolean array (or binary 0/1 array depending on how it’s used) where each element \n",
    "is True if the probability of class 1 is greater than or equal to the threshold, and False otherwise.\n",
    "'''\n",
    "y_pred_default = predict_w_threshold(probs_test, 0.5)\n",
    "\n",
    "from sklearn.metrics import accuracy_score\n",
    "\n",
    "# Naive prediction\n",
    "accuracy_score(y_true = y_true, y_pred = y_pred_default)"
   ]
  },
  {
   "cell_type": "code",
   "execution_count": 39,
   "id": "081964c3",
   "metadata": {
    "execution": {
     "iopub.execute_input": "2025-07-28T10:36:05.035269Z",
     "iopub.status.busy": "2025-07-28T10:36:05.034496Z",
     "iopub.status.idle": "2025-07-28T10:36:05.125573Z",
     "shell.execute_reply": "2025-07-28T10:36:05.124266Z"
    },
    "papermill": {
     "duration": 0.117405,
     "end_time": "2025-07-28T10:36:05.127348",
     "exception": false,
     "start_time": "2025-07-28T10:36:05.009943",
     "status": "completed"
    },
    "tags": []
   },
   "outputs": [
    {
     "data": {
      "text/plain": [
       "array([0, 0, 0, ..., 0, 0, 0])"
      ]
     },
     "execution_count": 39,
     "metadata": {},
     "output_type": "execute_result"
    }
   ],
   "source": [
    "model.predict(X_test)"
   ]
  },
  {
   "cell_type": "markdown",
   "id": "56c9705b",
   "metadata": {
    "papermill": {
     "duration": 0.02376,
     "end_time": "2025-07-28T10:36:05.175745",
     "exception": false,
     "start_time": "2025-07-28T10:36:05.151985",
     "status": "completed"
    },
    "tags": []
   },
   "source": [
    "# Conformal Prediction"
   ]
  },
  {
   "cell_type": "code",
   "execution_count": 40,
   "id": "160ec6ff",
   "metadata": {
    "execution": {
     "iopub.execute_input": "2025-07-28T10:36:05.223662Z",
     "iopub.status.busy": "2025-07-28T10:36:05.222714Z",
     "iopub.status.idle": "2025-07-28T10:36:05.228267Z",
     "shell.execute_reply": "2025-07-28T10:36:05.227104Z"
    },
    "papermill": {
     "duration": 0.031595,
     "end_time": "2025-07-28T10:36:05.230124",
     "exception": false,
     "start_time": "2025-07-28T10:36:05.198529",
     "status": "completed"
    },
    "tags": []
   },
   "outputs": [],
   "source": [
    "# Miscoverage level for conformal prediction (10% allowed error rate => 90% target coverage)\n",
    "alpha = 0.1"
   ]
  },
  {
   "cell_type": "code",
   "execution_count": 41,
   "id": "eadf4555-3dd3-440e-8e35-f82a4ad9f855",
   "metadata": {
    "execution": {
     "iopub.execute_input": "2025-07-28T10:36:05.279696Z",
     "iopub.status.busy": "2025-07-28T10:36:05.279200Z",
     "iopub.status.idle": "2025-07-28T10:36:05.366101Z",
     "shell.execute_reply": "2025-07-28T10:36:05.365046Z"
    },
    "papermill": {
     "duration": 0.130572,
     "end_time": "2025-07-28T10:36:05.385746",
     "exception": false,
     "start_time": "2025-07-28T10:36:05.255174",
     "status": "completed"
    },
    "tags": []
   },
   "outputs": [],
   "source": [
    "probs_calib = model.predict_proba(X_calib)"
   ]
  },
  {
   "cell_type": "code",
   "execution_count": 42,
   "id": "2ed93547-6d5d-4983-9b36-1ecb300da49a",
   "metadata": {
    "execution": {
     "iopub.execute_input": "2025-07-28T10:36:05.444539Z",
     "iopub.status.busy": "2025-07-28T10:36:05.443526Z",
     "iopub.status.idle": "2025-07-28T10:36:05.449383Z",
     "shell.execute_reply": "2025-07-28T10:36:05.448357Z"
    },
    "papermill": {
     "duration": 0.033713,
     "end_time": "2025-07-28T10:36:05.451232",
     "exception": false,
     "start_time": "2025-07-28T10:36:05.417519",
     "status": "completed"
    },
    "tags": []
   },
   "outputs": [],
   "source": [
    "y_calib = y_calib.values.ravel().astype(int)"
   ]
  },
  {
   "cell_type": "code",
   "execution_count": 43,
   "id": "65d1320d-f588-4b38-9072-62af1ae97f7d",
   "metadata": {
    "execution": {
     "iopub.execute_input": "2025-07-28T10:36:05.500202Z",
     "iopub.status.busy": "2025-07-28T10:36:05.499321Z",
     "iopub.status.idle": "2025-07-28T10:36:05.507505Z",
     "shell.execute_reply": "2025-07-28T10:36:05.506514Z"
    },
    "papermill": {
     "duration": 0.034355,
     "end_time": "2025-07-28T10:36:05.509425",
     "exception": false,
     "start_time": "2025-07-28T10:36:05.475070",
     "status": "completed"
    },
    "tags": []
   },
   "outputs": [],
   "source": [
    "from fairness_multiverse.conformal import compute_nc_scores\n",
    "\n",
    "# Compute nonconformity scores on calibration set (1 - probability of true class)\n",
    "nc_scores = compute_nc_scores(probs_calib, y_calib)"
   ]
  },
  {
   "cell_type": "code",
   "execution_count": 44,
   "id": "df3b8ca3-53b7-43d5-9667-7c85da7aeda2",
   "metadata": {
    "execution": {
     "iopub.execute_input": "2025-07-28T10:36:05.555369Z",
     "iopub.status.busy": "2025-07-28T10:36:05.554947Z",
     "iopub.status.idle": "2025-07-28T10:36:05.564450Z",
     "shell.execute_reply": "2025-07-28T10:36:05.561131Z"
    },
    "papermill": {
     "duration": 0.033891,
     "end_time": "2025-07-28T10:36:05.566168",
     "exception": false,
     "start_time": "2025-07-28T10:36:05.532277",
     "status": "completed"
    },
    "tags": []
   },
   "outputs": [],
   "source": [
    "from fairness_multiverse.conformal import find_threshold\n",
    "\n",
    "# Find conformal threshold q_hat for the given alpha (split conformal method)\n",
    "q_hat = find_threshold(nc_scores, alpha)"
   ]
  },
  {
   "cell_type": "code",
   "execution_count": 45,
   "id": "4d29e6c1-0ef6-4aa4-b8fe-4fe79b0d033a",
   "metadata": {
    "execution": {
     "iopub.execute_input": "2025-07-28T10:36:05.612914Z",
     "iopub.status.busy": "2025-07-28T10:36:05.611981Z",
     "iopub.status.idle": "2025-07-28T10:36:05.622507Z",
     "shell.execute_reply": "2025-07-28T10:36:05.618940Z"
    },
    "papermill": {
     "duration": 0.035975,
     "end_time": "2025-07-28T10:36:05.625130",
     "exception": false,
     "start_time": "2025-07-28T10:36:05.589155",
     "status": "completed"
    },
    "tags": []
   },
   "outputs": [
    {
     "data": {
      "text/plain": [
       "0.6724599741594133"
      ]
     },
     "execution_count": 45,
     "metadata": {},
     "output_type": "execute_result"
    }
   ],
   "source": [
    "q_hat"
   ]
  },
  {
   "cell_type": "code",
   "execution_count": 46,
   "id": "92460794-cdac-4be2-ba28-f28c0515a6fb",
   "metadata": {
    "execution": {
     "iopub.execute_input": "2025-07-28T10:36:05.672177Z",
     "iopub.status.busy": "2025-07-28T10:36:05.671665Z",
     "iopub.status.idle": "2025-07-28T10:36:06.557373Z",
     "shell.execute_reply": "2025-07-28T10:36:06.556250Z"
    },
    "papermill": {
     "duration": 0.9117,
     "end_time": "2025-07-28T10:36:06.559486",
     "exception": false,
     "start_time": "2025-07-28T10:36:05.647786",
     "status": "completed"
    },
    "tags": []
   },
   "outputs": [],
   "source": [
    "from fairness_multiverse.conformal import predict_conformal_sets\n",
    "\n",
    "# Generate prediction sets for each test example\n",
    "pred_sets = predict_conformal_sets(model, X_test, q_hat)"
   ]
  },
  {
   "cell_type": "code",
   "execution_count": 47,
   "id": "d90c9a65-e6db-4f5d-80cd-e68fb7e46829",
   "metadata": {
    "execution": {
     "iopub.execute_input": "2025-07-28T10:36:06.627070Z",
     "iopub.status.busy": "2025-07-28T10:36:06.626217Z",
     "iopub.status.idle": "2025-07-28T10:36:06.632844Z",
     "shell.execute_reply": "2025-07-28T10:36:06.631771Z"
    },
    "papermill": {
     "duration": 0.034909,
     "end_time": "2025-07-28T10:36:06.634572",
     "exception": false,
     "start_time": "2025-07-28T10:36:06.599663",
     "status": "completed"
    },
    "tags": []
   },
   "outputs": [],
   "source": [
    "y_true = y_true.squeeze()"
   ]
  },
  {
   "cell_type": "code",
   "execution_count": 48,
   "id": "3a58a54a-1e68-46b9-927a-df01f18aebc8",
   "metadata": {
    "execution": {
     "iopub.execute_input": "2025-07-28T10:36:06.687722Z",
     "iopub.status.busy": "2025-07-28T10:36:06.687260Z",
     "iopub.status.idle": "2025-07-28T10:36:07.665359Z",
     "shell.execute_reply": "2025-07-28T10:36:07.664303Z"
    },
    "papermill": {
     "duration": 1.006928,
     "end_time": "2025-07-28T10:36:07.667554",
     "exception": false,
     "start_time": "2025-07-28T10:36:06.660626",
     "status": "completed"
    },
    "tags": []
   },
   "outputs": [],
   "source": [
    "from fairness_multiverse.conformal import evaluate_sets\n",
    "\n",
    "# Evaluate coverage and average set size on test data\n",
    "metrics = evaluate_sets(pred_sets, y_true)"
   ]
  },
  {
   "cell_type": "markdown",
   "id": "2b569c12-9aaa-4c88-98c9-bbcd0cf3ebb8",
   "metadata": {
    "papermill": {
     "duration": 0.026626,
     "end_time": "2025-07-28T10:36:07.722973",
     "exception": false,
     "start_time": "2025-07-28T10:36:07.696347",
     "status": "completed"
    },
    "tags": []
   },
   "source": [
    "# CP Metrics"
   ]
  },
  {
   "cell_type": "code",
   "execution_count": 49,
   "id": "5ce0a5cb-201f-45a0-ade5-94c7f0bd6095",
   "metadata": {
    "execution": {
     "iopub.execute_input": "2025-07-28T10:36:07.778271Z",
     "iopub.status.busy": "2025-07-28T10:36:07.777489Z",
     "iopub.status.idle": "2025-07-28T10:36:07.785755Z",
     "shell.execute_reply": "2025-07-28T10:36:07.784659Z"
    },
    "papermill": {
     "duration": 0.037965,
     "end_time": "2025-07-28T10:36:07.787574",
     "exception": false,
     "start_time": "2025-07-28T10:36:07.749609",
     "status": "completed"
    },
    "tags": []
   },
   "outputs": [
    {
     "data": {
      "text/plain": [
       "{'coverage': 0.9129194069780403, 'avg_size': 1.2215137665812061}"
      ]
     },
     "execution_count": 49,
     "metadata": {},
     "output_type": "execute_result"
    }
   ],
   "source": [
    "metrics"
   ]
  },
  {
   "cell_type": "code",
   "execution_count": 50,
   "id": "9b9a838d-31c9-430b-ae14-12baee460d17",
   "metadata": {
    "execution": {
     "iopub.execute_input": "2025-07-28T10:36:07.843939Z",
     "iopub.status.busy": "2025-07-28T10:36:07.842932Z",
     "iopub.status.idle": "2025-07-28T10:36:07.849939Z",
     "shell.execute_reply": "2025-07-28T10:36:07.848863Z"
    },
    "papermill": {
     "duration": 0.03706,
     "end_time": "2025-07-28T10:36:07.851770",
     "exception": false,
     "start_time": "2025-07-28T10:36:07.814710",
     "status": "completed"
    },
    "tags": []
   },
   "outputs": [],
   "source": [
    "example_universe = universe.copy()\n",
    "universe_training_size = example_universe.get(\"training_size\")\n",
    "universe_scale = example_universe.get(\"scale\")\n",
    "universe_model = example_universe.get(\"model\")\n",
    "universe_exclude_features = example_universe.get(\"exclude_features\")\n",
    "universe_exclude_subgroups = example_universe.get(\"exclude_subgroups\")"
   ]
  },
  {
   "cell_type": "code",
   "execution_count": 51,
   "id": "f4b6a8ac-9dc0-4245-8a91-5b3b5999c4f9",
   "metadata": {
    "execution": {
     "iopub.execute_input": "2025-07-28T10:36:07.906760Z",
     "iopub.status.busy": "2025-07-28T10:36:07.906049Z",
     "iopub.status.idle": "2025-07-28T10:36:07.913094Z",
     "shell.execute_reply": "2025-07-28T10:36:07.911941Z"
    },
    "papermill": {
     "duration": 0.03591,
     "end_time": "2025-07-28T10:36:07.914791",
     "exception": false,
     "start_time": "2025-07-28T10:36:07.878881",
     "status": "completed"
    },
    "tags": []
   },
   "outputs": [],
   "source": [
    "cp_metrics_dict = {\n",
    "    \"universe_id\": [universe_id],\n",
    "    \"universe_training_size\": [universe_training_size],\n",
    "    \"universe_scale\": [universe_scale],\n",
    "    \"universe_model\": [universe_model],\n",
    "    \"universe_exclude_features\": [universe_exclude_features],\n",
    "    \"universe_exclude_subgroups\": [universe_exclude_subgroups],\n",
    "    \"q_hat\": [q_hat],\n",
    "    \"coverage\": [metrics[\"coverage\"]],\n",
    "    \"avg_size\": [metrics[\"avg_size\"]],\n",
    "}"
   ]
  },
  {
   "cell_type": "code",
   "execution_count": 52,
   "id": "908acbb1-0371-4915-85ca-3fa520d2efe2",
   "metadata": {
    "execution": {
     "iopub.execute_input": "2025-07-28T10:36:07.971219Z",
     "iopub.status.busy": "2025-07-28T10:36:07.970455Z",
     "iopub.status.idle": "2025-07-28T10:36:07.978956Z",
     "shell.execute_reply": "2025-07-28T10:36:07.977937Z"
    },
    "papermill": {
     "duration": 0.038565,
     "end_time": "2025-07-28T10:36:07.980674",
     "exception": false,
     "start_time": "2025-07-28T10:36:07.942109",
     "status": "completed"
    },
    "tags": []
   },
   "outputs": [
    {
     "data": {
      "text/plain": [
       "{'universe_id': ['f8c2c45aee819eb65a8eb952f29a48a2'],\n",
       " 'universe_training_size': ['5k'],\n",
       " 'universe_scale': ['do-not-scale'],\n",
       " 'universe_model': ['penalized_logreg'],\n",
       " 'universe_exclude_features': ['none'],\n",
       " 'universe_exclude_subgroups': ['drop-non-german'],\n",
       " 'q_hat': [0.6724599741594133],\n",
       " 'coverage': [0.9129194069780403],\n",
       " 'avg_size': [1.2215137665812061]}"
      ]
     },
     "execution_count": 52,
     "metadata": {},
     "output_type": "execute_result"
    }
   ],
   "source": [
    "cp_metrics_dict"
   ]
  },
  {
   "cell_type": "code",
   "execution_count": 53,
   "id": "33007efc-14e9-4ec6-97ac-56a455c82265",
   "metadata": {
    "execution": {
     "iopub.execute_input": "2025-07-28T10:36:08.037777Z",
     "iopub.status.busy": "2025-07-28T10:36:08.037132Z",
     "iopub.status.idle": "2025-07-28T10:36:08.043782Z",
     "shell.execute_reply": "2025-07-28T10:36:08.042719Z"
    },
    "papermill": {
     "duration": 0.037401,
     "end_time": "2025-07-28T10:36:08.045803",
     "exception": false,
     "start_time": "2025-07-28T10:36:08.008402",
     "status": "completed"
    },
    "tags": []
   },
   "outputs": [],
   "source": [
    "cp_metrics_df = pd.DataFrame(cp_metrics_dict)"
   ]
  },
  {
   "cell_type": "code",
   "execution_count": 54,
   "id": "db12611b-57b2-4910-b9d0-355adfd6e7bf",
   "metadata": {
    "execution": {
     "iopub.execute_input": "2025-07-28T10:36:08.103114Z",
     "iopub.status.busy": "2025-07-28T10:36:08.102404Z",
     "iopub.status.idle": "2025-07-28T10:36:08.122813Z",
     "shell.execute_reply": "2025-07-28T10:36:08.121633Z"
    },
    "papermill": {
     "duration": 0.051236,
     "end_time": "2025-07-28T10:36:08.124674",
     "exception": false,
     "start_time": "2025-07-28T10:36:08.073438",
     "status": "completed"
    },
    "tags": []
   },
   "outputs": [
    {
     "data": {
      "text/html": [
       "<div>\n",
       "<style scoped>\n",
       "    .dataframe tbody tr th:only-of-type {\n",
       "        vertical-align: middle;\n",
       "    }\n",
       "\n",
       "    .dataframe tbody tr th {\n",
       "        vertical-align: top;\n",
       "    }\n",
       "\n",
       "    .dataframe thead th {\n",
       "        text-align: right;\n",
       "    }\n",
       "</style>\n",
       "<table border=\"1\" class=\"dataframe\">\n",
       "  <thead>\n",
       "    <tr style=\"text-align: right;\">\n",
       "      <th></th>\n",
       "      <th>universe_id</th>\n",
       "      <th>universe_training_size</th>\n",
       "      <th>universe_scale</th>\n",
       "      <th>universe_model</th>\n",
       "      <th>universe_exclude_features</th>\n",
       "      <th>universe_exclude_subgroups</th>\n",
       "      <th>q_hat</th>\n",
       "      <th>coverage</th>\n",
       "      <th>avg_size</th>\n",
       "    </tr>\n",
       "  </thead>\n",
       "  <tbody>\n",
       "    <tr>\n",
       "      <th>0</th>\n",
       "      <td>f8c2c45aee819eb65a8eb952f29a48a2</td>\n",
       "      <td>5k</td>\n",
       "      <td>do-not-scale</td>\n",
       "      <td>penalized_logreg</td>\n",
       "      <td>none</td>\n",
       "      <td>drop-non-german</td>\n",
       "      <td>0.67246</td>\n",
       "      <td>0.912919</td>\n",
       "      <td>1.221514</td>\n",
       "    </tr>\n",
       "  </tbody>\n",
       "</table>\n",
       "</div>"
      ],
      "text/plain": [
       "                        universe_id universe_training_size universe_scale  \\\n",
       "0  f8c2c45aee819eb65a8eb952f29a48a2                     5k   do-not-scale   \n",
       "\n",
       "     universe_model universe_exclude_features universe_exclude_subgroups  \\\n",
       "0  penalized_logreg                      none            drop-non-german   \n",
       "\n",
       "     q_hat  coverage  avg_size  \n",
       "0  0.67246  0.912919  1.221514  "
      ]
     },
     "execution_count": 54,
     "metadata": {},
     "output_type": "execute_result"
    }
   ],
   "source": [
    "cp_metrics_df"
   ]
  },
  {
   "cell_type": "code",
   "execution_count": 55,
   "id": "b7fbde55-a0a1-47e4-9af6-fe4a17fa8c61",
   "metadata": {
    "execution": {
     "iopub.execute_input": "2025-07-28T10:36:08.177107Z",
     "iopub.status.busy": "2025-07-28T10:36:08.176130Z",
     "iopub.status.idle": "2025-07-28T10:36:08.183811Z",
     "shell.execute_reply": "2025-07-28T10:36:08.182159Z"
    },
    "papermill": {
     "duration": 0.035217,
     "end_time": "2025-07-28T10:36:08.185566",
     "exception": false,
     "start_time": "2025-07-28T10:36:08.150349",
     "status": "completed"
    },
    "tags": []
   },
   "outputs": [],
   "source": [
    "# Conditional Coverage & looking at subgroups"
   ]
  },
  {
   "cell_type": "code",
   "execution_count": 56,
   "id": "027ae886-68dd-4141-96c7-805a5450e1ef",
   "metadata": {
    "execution": {
     "iopub.execute_input": "2025-07-28T10:36:08.236611Z",
     "iopub.status.busy": "2025-07-28T10:36:08.235720Z",
     "iopub.status.idle": "2025-07-28T10:36:08.513640Z",
     "shell.execute_reply": "2025-07-28T10:36:08.512553Z"
    },
    "papermill": {
     "duration": 0.306076,
     "end_time": "2025-07-28T10:36:08.515659",
     "exception": false,
     "start_time": "2025-07-28T10:36:08.209583",
     "status": "completed"
    },
    "tags": []
   },
   "outputs": [],
   "source": [
    "from fairness_multiverse.conformal import build_cp_groups\n",
    "\n",
    "cp_groups_df = build_cp_groups(pred_sets, y_true, X_test.index, org_test)\n",
    "#needs universe_id and setting"
   ]
  },
  {
   "cell_type": "code",
   "execution_count": 57,
   "id": "01d5802c-663a-4d1f-9d69-e036faaffbf7",
   "metadata": {
    "execution": {
     "iopub.execute_input": "2025-07-28T10:36:08.567024Z",
     "iopub.status.busy": "2025-07-28T10:36:08.566220Z",
     "iopub.status.idle": "2025-07-28T10:36:08.571495Z",
     "shell.execute_reply": "2025-07-28T10:36:08.570425Z"
    },
    "papermill": {
     "duration": 0.033017,
     "end_time": "2025-07-28T10:36:08.573352",
     "exception": false,
     "start_time": "2025-07-28T10:36:08.540335",
     "status": "completed"
    },
    "tags": []
   },
   "outputs": [],
   "source": [
    "#delete\n",
    "#cp_groups_df"
   ]
  },
  {
   "cell_type": "code",
   "execution_count": 58,
   "id": "fa424af1-d1eb-443d-b717-2d279ada8408",
   "metadata": {
    "execution": {
     "iopub.execute_input": "2025-07-28T10:36:08.625653Z",
     "iopub.status.busy": "2025-07-28T10:36:08.624918Z",
     "iopub.status.idle": "2025-07-28T10:36:08.630583Z",
     "shell.execute_reply": "2025-07-28T10:36:08.629466Z"
    },
    "papermill": {
     "duration": 0.033285,
     "end_time": "2025-07-28T10:36:08.632474",
     "exception": false,
     "start_time": "2025-07-28T10:36:08.599189",
     "status": "completed"
    },
    "tags": []
   },
   "outputs": [],
   "source": [
    "#delete\n",
    "#percentage = (cp_groups_df['nongerman_female'] == 1).mean() * 100\n",
    "#print(percentage)\n"
   ]
  },
  {
   "cell_type": "code",
   "execution_count": 59,
   "id": "6cbdab96-b2b2-45af-ad54-d0516db2e28d",
   "metadata": {
    "execution": {
     "iopub.execute_input": "2025-07-28T10:36:08.685103Z",
     "iopub.status.busy": "2025-07-28T10:36:08.684021Z",
     "iopub.status.idle": "2025-07-28T10:36:10.452003Z",
     "shell.execute_reply": "2025-07-28T10:36:10.451032Z"
    },
    "papermill": {
     "duration": 1.796762,
     "end_time": "2025-07-28T10:36:10.454149",
     "exception": false,
     "start_time": "2025-07-28T10:36:08.657387",
     "status": "completed"
    },
    "tags": []
   },
   "outputs": [],
   "source": [
    "# Define covered = 1 if true_label is in the predicted set\n",
    "cp_groups_df['covered'] = cp_groups_df.apply(\n",
    "    lambda r: int(r['true_label'] in r['pred_set']),\n",
    "    axis=1\n",
    ")"
   ]
  },
  {
   "cell_type": "code",
   "execution_count": 60,
   "id": "338ff529-1a6b-4b87-a931-8e4788d52aad",
   "metadata": {
    "execution": {
     "iopub.execute_input": "2025-07-28T10:36:10.507654Z",
     "iopub.status.busy": "2025-07-28T10:36:10.506842Z",
     "iopub.status.idle": "2025-07-28T10:36:10.513084Z",
     "shell.execute_reply": "2025-07-28T10:36:10.511909Z"
    },
    "papermill": {
     "duration": 0.034497,
     "end_time": "2025-07-28T10:36:10.514889",
     "exception": false,
     "start_time": "2025-07-28T10:36:10.480392",
     "status": "completed"
    },
    "tags": []
   },
   "outputs": [],
   "source": [
    "#cp_groups_df"
   ]
  },
  {
   "cell_type": "code",
   "execution_count": 61,
   "id": "90032e27-66df-4540-9169-4e89cfbaa758",
   "metadata": {
    "execution": {
     "iopub.execute_input": "2025-07-28T10:36:10.567750Z",
     "iopub.status.busy": "2025-07-28T10:36:10.567342Z",
     "iopub.status.idle": "2025-07-28T10:36:10.579427Z",
     "shell.execute_reply": "2025-07-28T10:36:10.578355Z"
    },
    "papermill": {
     "duration": 0.040898,
     "end_time": "2025-07-28T10:36:10.581277",
     "exception": false,
     "start_time": "2025-07-28T10:36:10.540379",
     "status": "completed"
    },
    "tags": []
   },
   "outputs": [],
   "source": [
    "subgroups = ['frau1','nongerman','nongerman_male','nongerman_female']\n",
    "\n",
    "# Conditional coverage for subgroup==1\n",
    "cond_coverage = {\n",
    "    g: cp_groups_df.loc[cp_groups_df[g]==1, 'covered'].mean()\n",
    "    for g in subgroups\n",
    "}"
   ]
  },
  {
   "cell_type": "code",
   "execution_count": 62,
   "id": "1e348fb1-b9c3-45bc-ba23-f016827a7e0d",
   "metadata": {
    "execution": {
     "iopub.execute_input": "2025-07-28T10:36:10.631627Z",
     "iopub.status.busy": "2025-07-28T10:36:10.631259Z",
     "iopub.status.idle": "2025-07-28T10:36:10.638272Z",
     "shell.execute_reply": "2025-07-28T10:36:10.637197Z"
    },
    "papermill": {
     "duration": 0.03422,
     "end_time": "2025-07-28T10:36:10.639993",
     "exception": false,
     "start_time": "2025-07-28T10:36:10.605773",
     "status": "completed"
    },
    "tags": []
   },
   "outputs": [
    {
     "data": {
      "text/plain": [
       "{'frau1': 0.9134384687963337,\n",
       " 'nongerman': 0.9424016167967215,\n",
       " 'nongerman_male': 0.9515446275781321,\n",
       " 'nongerman_female': 0.9272727272727272}"
      ]
     },
     "execution_count": 62,
     "metadata": {},
     "output_type": "execute_result"
    }
   ],
   "source": [
    "cond_coverage"
   ]
  },
  {
   "cell_type": "code",
   "execution_count": 63,
   "id": "f5093324-c3dd-4d63-bc4c-8d945e5c8bbb",
   "metadata": {
    "execution": {
     "iopub.execute_input": "2025-07-28T10:36:10.690949Z",
     "iopub.status.busy": "2025-07-28T10:36:10.690478Z",
     "iopub.status.idle": "2025-07-28T10:36:10.697987Z",
     "shell.execute_reply": "2025-07-28T10:36:10.696998Z"
    },
    "papermill": {
     "duration": 0.034304,
     "end_time": "2025-07-28T10:36:10.699583",
     "exception": false,
     "start_time": "2025-07-28T10:36:10.665279",
     "status": "completed"
    },
    "tags": []
   },
   "outputs": [],
   "source": [
    "for subgroup, cov in cond_coverage.items():\n",
    "    cp_metrics_df[f\"cov_{subgroup}\"] = cov"
   ]
  },
  {
   "cell_type": "code",
   "execution_count": 64,
   "id": "6e872e10-dbe5-49e8-b554-5030c98ff75d",
   "metadata": {
    "execution": {
     "iopub.execute_input": "2025-07-28T10:36:10.751044Z",
     "iopub.status.busy": "2025-07-28T10:36:10.750238Z",
     "iopub.status.idle": "2025-07-28T10:36:10.770385Z",
     "shell.execute_reply": "2025-07-28T10:36:10.769335Z"
    },
    "papermill": {
     "duration": 0.04802,
     "end_time": "2025-07-28T10:36:10.772200",
     "exception": false,
     "start_time": "2025-07-28T10:36:10.724180",
     "status": "completed"
    },
    "tags": []
   },
   "outputs": [
    {
     "data": {
      "text/html": [
       "<div>\n",
       "<style scoped>\n",
       "    .dataframe tbody tr th:only-of-type {\n",
       "        vertical-align: middle;\n",
       "    }\n",
       "\n",
       "    .dataframe tbody tr th {\n",
       "        vertical-align: top;\n",
       "    }\n",
       "\n",
       "    .dataframe thead th {\n",
       "        text-align: right;\n",
       "    }\n",
       "</style>\n",
       "<table border=\"1\" class=\"dataframe\">\n",
       "  <thead>\n",
       "    <tr style=\"text-align: right;\">\n",
       "      <th></th>\n",
       "      <th>universe_id</th>\n",
       "      <th>universe_training_size</th>\n",
       "      <th>universe_scale</th>\n",
       "      <th>universe_model</th>\n",
       "      <th>universe_exclude_features</th>\n",
       "      <th>universe_exclude_subgroups</th>\n",
       "      <th>q_hat</th>\n",
       "      <th>coverage</th>\n",
       "      <th>avg_size</th>\n",
       "      <th>cov_frau1</th>\n",
       "      <th>cov_nongerman</th>\n",
       "      <th>cov_nongerman_male</th>\n",
       "      <th>cov_nongerman_female</th>\n",
       "    </tr>\n",
       "  </thead>\n",
       "  <tbody>\n",
       "    <tr>\n",
       "      <th>0</th>\n",
       "      <td>f8c2c45aee819eb65a8eb952f29a48a2</td>\n",
       "      <td>5k</td>\n",
       "      <td>do-not-scale</td>\n",
       "      <td>penalized_logreg</td>\n",
       "      <td>none</td>\n",
       "      <td>drop-non-german</td>\n",
       "      <td>0.67246</td>\n",
       "      <td>0.912919</td>\n",
       "      <td>1.221514</td>\n",
       "      <td>0.913438</td>\n",
       "      <td>0.942402</td>\n",
       "      <td>0.951545</td>\n",
       "      <td>0.927273</td>\n",
       "    </tr>\n",
       "  </tbody>\n",
       "</table>\n",
       "</div>"
      ],
      "text/plain": [
       "                        universe_id universe_training_size universe_scale  \\\n",
       "0  f8c2c45aee819eb65a8eb952f29a48a2                     5k   do-not-scale   \n",
       "\n",
       "     universe_model universe_exclude_features universe_exclude_subgroups  \\\n",
       "0  penalized_logreg                      none            drop-non-german   \n",
       "\n",
       "     q_hat  coverage  avg_size  cov_frau1  cov_nongerman  cov_nongerman_male  \\\n",
       "0  0.67246  0.912919  1.221514   0.913438       0.942402            0.951545   \n",
       "\n",
       "   cov_nongerman_female  \n",
       "0              0.927273  "
      ]
     },
     "execution_count": 64,
     "metadata": {},
     "output_type": "execute_result"
    }
   ],
   "source": [
    "cp_metrics_df"
   ]
  },
  {
   "cell_type": "markdown",
   "id": "33774451",
   "metadata": {
    "papermill": {
     "duration": 0.024469,
     "end_time": "2025-07-28T10:36:10.821752",
     "exception": false,
     "start_time": "2025-07-28T10:36:10.797283",
     "status": "completed"
    },
    "tags": []
   },
   "source": [
    "# (Fairness) Metrics"
   ]
  },
  {
   "cell_type": "code",
   "execution_count": 65,
   "id": "debc5d62",
   "metadata": {
    "execution": {
     "iopub.execute_input": "2025-07-28T10:36:10.871425Z",
     "iopub.status.busy": "2025-07-28T10:36:10.870990Z",
     "iopub.status.idle": "2025-07-28T10:36:10.895313Z",
     "shell.execute_reply": "2025-07-28T10:36:10.894337Z"
    },
    "papermill": {
     "duration": 0.051463,
     "end_time": "2025-07-28T10:36:10.897266",
     "exception": false,
     "start_time": "2025-07-28T10:36:10.845803",
     "status": "completed"
    },
    "tags": []
   },
   "outputs": [],
   "source": [
    "# do I need to include maxdeutsch1.missing?\n",
    "\n",
    "import numpy as np\n",
    "\n",
    "colname_to_bin = \"maxdeutsch1\"\n",
    "majority_value = org_train[colname_to_bin].mode()[0]\n",
    "\n",
    "org_test[\"majmin\"] = np.where(org_test[colname_to_bin] == majority_value, \"majority\", \"minority\")"
   ]
  },
  {
   "cell_type": "code",
   "execution_count": 66,
   "id": "06a50de5",
   "metadata": {
    "execution": {
     "iopub.execute_input": "2025-07-28T10:36:10.948864Z",
     "iopub.status.busy": "2025-07-28T10:36:10.948279Z",
     "iopub.status.idle": "2025-07-28T10:36:13.842249Z",
     "shell.execute_reply": "2025-07-28T10:36:13.841193Z"
    },
    "papermill": {
     "duration": 2.922092,
     "end_time": "2025-07-28T10:36:13.844219",
     "exception": false,
     "start_time": "2025-07-28T10:36:10.922127",
     "status": "completed"
    },
    "tags": []
   },
   "outputs": [],
   "source": [
    "example_universe = universe.copy()\n",
    "example_universe[\"cutoff\"] = example_universe[\"cutoff\"][0]\n",
    "example_universe[\"eval_fairness_grouping\"] = example_universe[\"eval_fairness_grouping\"][0]\n",
    "fairness_dict, metric_frame = universe_analysis.compute_metrics(\n",
    "    example_universe,\n",
    "    y_pred_prob=probs_test,\n",
    "    y_test=y_true,\n",
    "    org_test=org_test,\n",
    ")"
   ]
  },
  {
   "cell_type": "markdown",
   "id": "f95d4e02",
   "metadata": {
    "papermill": {
     "duration": 0.02525,
     "end_time": "2025-07-28T10:36:13.899106",
     "exception": false,
     "start_time": "2025-07-28T10:36:13.873856",
     "status": "completed"
    },
    "tags": []
   },
   "source": [
    "# Overall"
   ]
  },
  {
   "cell_type": "markdown",
   "id": "bdee4871",
   "metadata": {
    "papermill": {
     "duration": 0.026141,
     "end_time": "2025-07-28T10:36:13.951772",
     "exception": false,
     "start_time": "2025-07-28T10:36:13.925631",
     "status": "completed"
    },
    "tags": []
   },
   "source": [
    "Fairness\n",
    "Main fairness target: Equalized Odds. Seems to be a better fit than equal opportunity, since we're not only interested in Y = 1. Seems to be a better fit than demographic parity, since we also care about accuracy, not just equal distribution of preds.\n",
    "\n",
    "Pick column for computation of fairness metrics\n",
    "\n",
    "Performance\n",
    "Overall performance measures, most interesting in relation to the measures split by group below"
   ]
  },
  {
   "cell_type": "code",
   "execution_count": 67,
   "id": "c4e067c6",
   "metadata": {
    "execution": {
     "iopub.execute_input": "2025-07-28T10:36:14.006129Z",
     "iopub.status.busy": "2025-07-28T10:36:14.005566Z",
     "iopub.status.idle": "2025-07-28T10:36:14.014907Z",
     "shell.execute_reply": "2025-07-28T10:36:14.013926Z"
    },
    "papermill": {
     "duration": 0.039909,
     "end_time": "2025-07-28T10:36:14.016630",
     "exception": false,
     "start_time": "2025-07-28T10:36:13.976721",
     "status": "completed"
    },
    "tags": []
   },
   "outputs": [
    {
     "data": {
      "text/plain": [
       "accuracy                   0.217913\n",
       "balanced accuracy          0.534181\n",
       "f1                         0.239422\n",
       "precision                  0.136774\n",
       "false positive rate        0.891230\n",
       "false negative rate        0.040407\n",
       "selection rate             0.900000\n",
       "count                  89710.000000\n",
       "dtype: float64"
      ]
     },
     "execution_count": 67,
     "metadata": {},
     "output_type": "execute_result"
    }
   ],
   "source": [
    "metric_frame.overall"
   ]
  },
  {
   "cell_type": "markdown",
   "id": "e968fe9d",
   "metadata": {
    "papermill": {
     "duration": 0.029646,
     "end_time": "2025-07-28T10:36:14.073418",
     "exception": false,
     "start_time": "2025-07-28T10:36:14.043772",
     "status": "completed"
    },
    "tags": []
   },
   "source": [
    "By Group"
   ]
  },
  {
   "cell_type": "code",
   "execution_count": 68,
   "id": "ec325bce",
   "metadata": {
    "execution": {
     "iopub.execute_input": "2025-07-28T10:36:14.126681Z",
     "iopub.status.busy": "2025-07-28T10:36:14.126308Z",
     "iopub.status.idle": "2025-07-28T10:36:14.144004Z",
     "shell.execute_reply": "2025-07-28T10:36:14.142998Z"
    },
    "papermill": {
     "duration": 0.046581,
     "end_time": "2025-07-28T10:36:14.145966",
     "exception": false,
     "start_time": "2025-07-28T10:36:14.099385",
     "status": "completed"
    },
    "tags": []
   },
   "outputs": [
    {
     "data": {
      "text/html": [
       "<div>\n",
       "<style scoped>\n",
       "    .dataframe tbody tr th:only-of-type {\n",
       "        vertical-align: middle;\n",
       "    }\n",
       "\n",
       "    .dataframe tbody tr th {\n",
       "        vertical-align: top;\n",
       "    }\n",
       "\n",
       "    .dataframe thead th {\n",
       "        text-align: right;\n",
       "    }\n",
       "</style>\n",
       "<table border=\"1\" class=\"dataframe\">\n",
       "  <thead>\n",
       "    <tr style=\"text-align: right;\">\n",
       "      <th></th>\n",
       "      <th>accuracy</th>\n",
       "      <th>balanced accuracy</th>\n",
       "      <th>f1</th>\n",
       "      <th>precision</th>\n",
       "      <th>false positive rate</th>\n",
       "      <th>false negative rate</th>\n",
       "      <th>selection rate</th>\n",
       "      <th>count</th>\n",
       "    </tr>\n",
       "    <tr>\n",
       "      <th>majmin</th>\n",
       "      <th></th>\n",
       "      <th></th>\n",
       "      <th></th>\n",
       "      <th></th>\n",
       "      <th></th>\n",
       "      <th></th>\n",
       "      <th></th>\n",
       "      <th></th>\n",
       "    </tr>\n",
       "  </thead>\n",
       "  <tbody>\n",
       "    <tr>\n",
       "      <th>majority</th>\n",
       "      <td>0.238875</td>\n",
       "      <td>0.541738</td>\n",
       "      <td>0.248705</td>\n",
       "      <td>0.143005</td>\n",
       "      <td>0.869915</td>\n",
       "      <td>0.046608</td>\n",
       "      <td>0.880945</td>\n",
       "      <td>69170.0</td>\n",
       "    </tr>\n",
       "    <tr>\n",
       "      <th>minority</th>\n",
       "      <td>0.147322</td>\n",
       "      <td>0.510943</td>\n",
       "      <td>0.210085</td>\n",
       "      <td>0.117603</td>\n",
       "      <td>0.961644</td>\n",
       "      <td>0.016470</td>\n",
       "      <td>0.964167</td>\n",
       "      <td>20540.0</td>\n",
       "    </tr>\n",
       "  </tbody>\n",
       "</table>\n",
       "</div>"
      ],
      "text/plain": [
       "          accuracy  balanced accuracy        f1  precision  \\\n",
       "majmin                                                       \n",
       "majority  0.238875           0.541738  0.248705   0.143005   \n",
       "minority  0.147322           0.510943  0.210085   0.117603   \n",
       "\n",
       "          false positive rate  false negative rate  selection rate    count  \n",
       "majmin                                                                       \n",
       "majority             0.869915             0.046608        0.880945  69170.0  \n",
       "minority             0.961644             0.016470        0.964167  20540.0  "
      ]
     },
     "execution_count": 68,
     "metadata": {},
     "output_type": "execute_result"
    }
   ],
   "source": [
    "metric_frame.by_group"
   ]
  },
  {
   "cell_type": "code",
   "execution_count": 69,
   "id": "a9ddbe63",
   "metadata": {
    "execution": {
     "iopub.execute_input": "2025-07-28T10:36:14.200085Z",
     "iopub.status.busy": "2025-07-28T10:36:14.199342Z",
     "iopub.status.idle": "2025-07-28T10:36:16.161889Z",
     "shell.execute_reply": "2025-07-28T10:36:16.160874Z"
    },
    "papermill": {
     "duration": 1.990477,
     "end_time": "2025-07-28T10:36:16.163129",
     "exception": false,
     "start_time": "2025-07-28T10:36:14.172652",
     "status": "completed"
    },
    "tags": []
   },
   "outputs": [
    {
     "data": {
      "text/plain": [
       "array([[<Axes: title={'center': 'accuracy'}, xlabel='majmin'>,\n",
       "        <Axes: title={'center': 'balanced accuracy'}, xlabel='majmin'>,\n",
       "        <Axes: title={'center': 'f1'}, xlabel='majmin'>],\n",
       "       [<Axes: title={'center': 'precision'}, xlabel='majmin'>,\n",
       "        <Axes: title={'center': 'false positive rate'}, xlabel='majmin'>,\n",
       "        <Axes: title={'center': 'false negative rate'}, xlabel='majmin'>],\n",
       "       [<Axes: title={'center': 'selection rate'}, xlabel='majmin'>,\n",
       "        <Axes: title={'center': 'count'}, xlabel='majmin'>,\n",
       "        <Axes: xlabel='majmin'>]], dtype=object)"
      ]
     },
     "execution_count": 69,
     "metadata": {},
     "output_type": "execute_result"
    },
    {
     "data": {
      "image/png": "[encoded data removed]",
      "text/plain": [
       "<Figure size 1200x800 with 9 Axes>"
      ]
     },
     "metadata": {},
     "output_type": "display_data"
    }
   ],
   "source": [
    "# In a graphic\n",
    "metric_frame.by_group.plot.bar(\n",
    "    subplots=True,\n",
    "    layout=[3, 3],\n",
    "    legend=False,\n",
    "    figsize=[12, 8],\n",
    "    title=\"Show all metrics\",\n",
    ")"
   ]
  },
  {
   "cell_type": "markdown",
   "id": "f57a0bac",
   "metadata": {
    "papermill": {
     "duration": 0.027608,
     "end_time": "2025-07-28T10:36:16.206726",
     "exception": false,
     "start_time": "2025-07-28T10:36:16.179118",
     "status": "completed"
    },
    "tags": []
   },
   "source": [
    "# Final Output"
   ]
  },
  {
   "cell_type": "code",
   "execution_count": 70,
   "id": "96d280a3",
   "metadata": {
    "execution": {
     "iopub.execute_input": "2025-07-28T10:36:16.263916Z",
     "iopub.status.busy": "2025-07-28T10:36:16.262966Z",
     "iopub.status.idle": "2025-07-28T10:36:16.269743Z",
     "shell.execute_reply": "2025-07-28T10:36:16.269059Z"
    },
    "papermill": {
     "duration": 0.036321,
     "end_time": "2025-07-28T10:36:16.271026",
     "exception": false,
     "start_time": "2025-07-28T10:36:16.234705",
     "status": "completed"
    },
    "tags": []
   },
   "outputs": [
    {
     "data": {
      "text/plain": [
       "4"
      ]
     },
     "execution_count": 70,
     "metadata": {},
     "output_type": "execute_result"
    }
   ],
   "source": [
    "sub_universes = universe_analysis.generate_sub_universes()\n",
    "len(sub_universes)"
   ]
  },
  {
   "cell_type": "code",
   "execution_count": 71,
   "id": "92adf7ba",
   "metadata": {
    "execution": {
     "iopub.execute_input": "2025-07-28T10:36:16.302924Z",
     "iopub.status.busy": "2025-07-28T10:36:16.302545Z",
     "iopub.status.idle": "2025-07-28T10:36:16.307963Z",
     "shell.execute_reply": "2025-07-28T10:36:16.307263Z"
    },
    "papermill": {
     "duration": 0.022421,
     "end_time": "2025-07-28T10:36:16.309297",
     "exception": false,
     "start_time": "2025-07-28T10:36:16.286876",
     "status": "completed"
    },
    "tags": []
   },
   "outputs": [],
   "source": [
    "def filter_sub_universe_data(sub_universe, org_test):\n",
    "    # Keep all rows — no filtering\n",
    "    keep_rows_mask = np.ones(org_test.shape[0], dtype=bool)\n",
    "\n",
    "    print(f\"[INFO] Keeping all rows: {keep_rows_mask.sum()} rows retained.\")\n",
    "    return keep_rows_mask"
   ]
  },
  {
   "cell_type": "code",
   "execution_count": 72,
   "id": "4a759155",
   "metadata": {
    "execution": {
     "iopub.execute_input": "2025-07-28T10:36:16.345802Z",
     "iopub.status.busy": "2025-07-28T10:36:16.345197Z",
     "iopub.status.idle": "2025-07-28T10:36:26.133795Z",
     "shell.execute_reply": "2025-07-28T10:36:26.132577Z"
    },
    "papermill": {
     "duration": 9.80975,
     "end_time": "2025-07-28T10:36:26.135364",
     "exception": false,
     "start_time": "2025-07-28T10:36:16.325614",
     "status": "completed"
    },
    "tags": []
   },
   "outputs": [
    {
     "name": "stdout",
     "output_type": "stream",
     "text": [
      "Stopping execution_time clock.\n",
      "[INFO] Keeping all rows: 89710 rows retained.\n"
     ]
    },
    {
     "name": "stdout",
     "output_type": "stream",
     "text": [
      "[INFO] Keeping all rows: 89710 rows retained.\n"
     ]
    },
    {
     "name": "stdout",
     "output_type": "stream",
     "text": [
      "[INFO] Keeping all rows: 89710 rows retained.\n"
     ]
    },
    {
     "name": "stdout",
     "output_type": "stream",
     "text": [
      "[INFO] Keeping all rows: 89710 rows retained.\n"
     ]
    },
    {
     "data": {
      "text/html": [
       "<div>\n",
       "<style scoped>\n",
       "    .dataframe tbody tr th:only-of-type {\n",
       "        vertical-align: middle;\n",
       "    }\n",
       "\n",
       "    .dataframe tbody tr th {\n",
       "        vertical-align: top;\n",
       "    }\n",
       "\n",
       "    .dataframe thead th {\n",
       "        text-align: right;\n",
       "    }\n",
       "</style>\n",
       "<table border=\"1\" class=\"dataframe\">\n",
       "  <thead>\n",
       "    <tr style=\"text-align: right;\">\n",
       "      <th></th>\n",
       "      <th>run_no</th>\n",
       "      <th>universe_id</th>\n",
       "      <th>universe_settings</th>\n",
       "      <th>execution_time</th>\n",
       "      <th>test_size_n</th>\n",
       "      <th>test_size_frac</th>\n",
       "      <th>fair_main_equalized_odds_difference</th>\n",
       "      <th>fair_main_equalized_odds_ratio</th>\n",
       "      <th>fair_main_demographic_parity_difference</th>\n",
       "      <th>fair_main_demographic_parity_ratio</th>\n",
       "      <th>...</th>\n",
       "      <th>perf_grp_precision_0</th>\n",
       "      <th>perf_grp_precision_1</th>\n",
       "      <th>perf_grp_false positive rate_0</th>\n",
       "      <th>perf_grp_false positive rate_1</th>\n",
       "      <th>perf_grp_false negative rate_0</th>\n",
       "      <th>perf_grp_false negative rate_1</th>\n",
       "      <th>perf_grp_selection rate_0</th>\n",
       "      <th>perf_grp_selection rate_1</th>\n",
       "      <th>perf_grp_count_0</th>\n",
       "      <th>perf_grp_count_1</th>\n",
       "    </tr>\n",
       "  </thead>\n",
       "  <tbody>\n",
       "    <tr>\n",
       "      <th>0</th>\n",
       "      <td>11</td>\n",
       "      <td>f8c2c45aee819eb65a8eb952f29a48a2</td>\n",
       "      <td>{\"cutoff\": \"quantile_0.1\", \"eval_fairness_grou...</td>\n",
       "      <td>27.576454</td>\n",
       "      <td>89710</td>\n",
       "      <td>1.0</td>\n",
       "      <td>0.091729</td>\n",
       "      <td>0.904612</td>\n",
       "      <td>0.083222</td>\n",
       "      <td>0.913685</td>\n",
       "      <td>...</td>\n",
       "      <td>NaN</td>\n",
       "      <td>NaN</td>\n",
       "      <td>NaN</td>\n",
       "      <td>NaN</td>\n",
       "      <td>NaN</td>\n",
       "      <td>NaN</td>\n",
       "      <td>NaN</td>\n",
       "      <td>NaN</td>\n",
       "      <td>NaN</td>\n",
       "      <td>NaN</td>\n",
       "    </tr>\n",
       "    <tr>\n",
       "      <th>0</th>\n",
       "      <td>11</td>\n",
       "      <td>f8c2c45aee819eb65a8eb952f29a48a2</td>\n",
       "      <td>{\"cutoff\": \"quantile_0.1\", \"eval_fairness_grou...</td>\n",
       "      <td>27.576454</td>\n",
       "      <td>89710</td>\n",
       "      <td>1.0</td>\n",
       "      <td>0.091729</td>\n",
       "      <td>0.904612</td>\n",
       "      <td>0.083222</td>\n",
       "      <td>0.913685</td>\n",
       "      <td>...</td>\n",
       "      <td>0.117603</td>\n",
       "      <td>0.143005</td>\n",
       "      <td>0.961644</td>\n",
       "      <td>0.869915</td>\n",
       "      <td>0.016470</td>\n",
       "      <td>0.046608</td>\n",
       "      <td>0.964167</td>\n",
       "      <td>0.880945</td>\n",
       "      <td>20540.0</td>\n",
       "      <td>69170.0</td>\n",
       "    </tr>\n",
       "    <tr>\n",
       "      <th>0</th>\n",
       "      <td>11</td>\n",
       "      <td>f8c2c45aee819eb65a8eb952f29a48a2</td>\n",
       "      <td>{\"cutoff\": \"quantile_0.25\", \"eval_fairness_gro...</td>\n",
       "      <td>27.576454</td>\n",
       "      <td>89710</td>\n",
       "      <td>1.0</td>\n",
       "      <td>0.216358</td>\n",
       "      <td>0.758794</td>\n",
       "      <td>0.198023</td>\n",
       "      <td>0.780628</td>\n",
       "      <td>...</td>\n",
       "      <td>NaN</td>\n",
       "      <td>NaN</td>\n",
       "      <td>NaN</td>\n",
       "      <td>NaN</td>\n",
       "      <td>NaN</td>\n",
       "      <td>NaN</td>\n",
       "      <td>NaN</td>\n",
       "      <td>NaN</td>\n",
       "      <td>NaN</td>\n",
       "      <td>NaN</td>\n",
       "    </tr>\n",
       "    <tr>\n",
       "      <th>0</th>\n",
       "      <td>11</td>\n",
       "      <td>f8c2c45aee819eb65a8eb952f29a48a2</td>\n",
       "      <td>{\"cutoff\": \"quantile_0.25\", \"eval_fairness_gro...</td>\n",
       "      <td>27.576454</td>\n",
       "      <td>89710</td>\n",
       "      <td>1.0</td>\n",
       "      <td>0.216358</td>\n",
       "      <td>0.758794</td>\n",
       "      <td>0.198023</td>\n",
       "      <td>0.780628</td>\n",
       "      <td>...</td>\n",
       "      <td>0.120867</td>\n",
       "      <td>0.161732</td>\n",
       "      <td>0.896984</td>\n",
       "      <td>0.680626</td>\n",
       "      <td>0.053632</td>\n",
       "      <td>0.137527</td>\n",
       "      <td>0.902678</td>\n",
       "      <td>0.704655</td>\n",
       "      <td>20540.0</td>\n",
       "      <td>69170.0</td>\n",
       "    </tr>\n",
       "  </tbody>\n",
       "</table>\n",
       "<p>4 rows × 50 columns</p>\n",
       "</div>"
      ],
      "text/plain": [
       "  run_no                       universe_id  \\\n",
       "0     11  f8c2c45aee819eb65a8eb952f29a48a2   \n",
       "0     11  f8c2c45aee819eb65a8eb952f29a48a2   \n",
       "0     11  f8c2c45aee819eb65a8eb952f29a48a2   \n",
       "0     11  f8c2c45aee819eb65a8eb952f29a48a2   \n",
       "\n",
       "                                   universe_settings  execution_time  \\\n",
       "0  {\"cutoff\": \"quantile_0.1\", \"eval_fairness_grou...       27.576454   \n",
       "0  {\"cutoff\": \"quantile_0.1\", \"eval_fairness_grou...       27.576454   \n",
       "0  {\"cutoff\": \"quantile_0.25\", \"eval_fairness_gro...       27.576454   \n",
       "0  {\"cutoff\": \"quantile_0.25\", \"eval_fairness_gro...       27.576454   \n",
       "\n",
       "   test_size_n  test_size_frac  fair_main_equalized_odds_difference  \\\n",
       "0        89710             1.0                             0.091729   \n",
       "0        89710             1.0                             0.091729   \n",
       "0        89710             1.0                             0.216358   \n",
       "0        89710             1.0                             0.216358   \n",
       "\n",
       "   fair_main_equalized_odds_ratio  fair_main_demographic_parity_difference  \\\n",
       "0                        0.904612                                 0.083222   \n",
       "0                        0.904612                                 0.083222   \n",
       "0                        0.758794                                 0.198023   \n",
       "0                        0.758794                                 0.198023   \n",
       "\n",
       "   fair_main_demographic_parity_ratio  ...  perf_grp_precision_0  \\\n",
       "0                            0.913685  ...                   NaN   \n",
       "0                            0.913685  ...              0.117603   \n",
       "0                            0.780628  ...                   NaN   \n",
       "0                            0.780628  ...              0.120867   \n",
       "\n",
       "   perf_grp_precision_1  perf_grp_false positive rate_0  \\\n",
       "0                   NaN                             NaN   \n",
       "0              0.143005                        0.961644   \n",
       "0                   NaN                             NaN   \n",
       "0              0.161732                        0.896984   \n",
       "\n",
       "   perf_grp_false positive rate_1  perf_grp_false negative rate_0  \\\n",
       "0                             NaN                             NaN   \n",
       "0                        0.869915                        0.016470   \n",
       "0                             NaN                             NaN   \n",
       "0                        0.680626                        0.053632   \n",
       "\n",
       "   perf_grp_false negative rate_1  perf_grp_selection rate_0  \\\n",
       "0                             NaN                        NaN   \n",
       "0                        0.046608                   0.964167   \n",
       "0                             NaN                        NaN   \n",
       "0                        0.137527                   0.902678   \n",
       "\n",
       "   perf_grp_selection rate_1  perf_grp_count_0  perf_grp_count_1  \n",
       "0                        NaN               NaN               NaN  \n",
       "0                   0.880945           20540.0           69170.0  \n",
       "0                        NaN               NaN               NaN  \n",
       "0                   0.704655           20540.0           69170.0  \n",
       "\n",
       "[4 rows x 50 columns]"
      ]
     },
     "execution_count": 72,
     "metadata": {},
     "output_type": "execute_result"
    }
   ],
   "source": [
    "final_output = universe_analysis.generate_final_output(\n",
    "    y_pred_prob=probs_test,\n",
    "    y_test=y_true,\n",
    "    org_test=org_test,\n",
    "    filter_data=filter_sub_universe_data,\n",
    "    cp_metrics_df=cp_metrics_df,\n",
    "    save=True,\n",
    ")\n",
    "final_output"
   ]
  },
  {
   "cell_type": "code",
   "execution_count": null,
   "id": "721ff514-cb11-46f8-b6fc-50392f74b5cb",
   "metadata": {
    "papermill": {
     "duration": 0.030061,
     "end_time": "2025-07-28T10:36:26.187781",
     "exception": false,
     "start_time": "2025-07-28T10:36:26.157720",
     "status": "completed"
    },
    "tags": []
   },
   "outputs": [],
   "source": []
  }
 ],
 "metadata": {
  "celltoolbar": "Tags",
  "kernelspec": {
   "display_name": "Python (CMA Fairness)",
   "language": "python",
   "name": "cma_fair_env"
  },
  "language_info": {
   "codemirror_mode": {
    "name": "ipython",
    "version": 3
   },
   "file_extension": ".py",
   "mimetype": "text/x-python",
   "name": "python",
   "nbconvert_exporter": "python",
   "pygments_lexer": "ipython3",
   "version": "3.10.12"
  },
  "papermill": {
   "default_parameters": {},
   "duration": 41.859333,
   "end_time": "2025-07-28T10:36:26.935269",
   "environment_variables": {},
   "exception": null,
   "input_path": "universe_analysis.ipynb",
   "output_path": "output/runs/11/notebooks/m_11-f8c2c45aee819eb65a8eb952f29a48a2.ipynb",
   "parameters": {
    "output_dir": "output",
    "run_no": "11",
    "seed": "2023",
    "universe": "{\"cutoff\": [\"quantile_0.1\", \"quantile_0.25\"], \"eval_fairness_grouping\": [\"majority-minority\", \"nationality-all\"], \"exclude_features\": \"none\", \"exclude_subgroups\": \"drop-non-german\", \"model\": \"penalized_logreg\", \"scale\": \"do-not-scale\", \"training_size\": \"5k\"}",
    "universe_id": "f8c2c45aee819eb65a8eb952f29a48a2"
   },
   "start_time": "2025-07-28T10:35:45.075936",
   "version": "2.6.0"
  }
 },
 "nbformat": 4,
 "nbformat_minor": 5
}