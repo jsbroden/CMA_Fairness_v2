{
 "cells": [
  {
   "cell_type": "code",
   "execution_count": 1,
   "id": "f159f837-637b-42ba-96b5-ec9a68c44524",
   "metadata": {
    "execution": {
     "iopub.execute_input": "2025-07-28T10:38:55.703033Z",
     "iopub.status.busy": "2025-07-28T10:38:55.702492Z",
     "iopub.status.idle": "2025-07-28T10:38:55.717145Z",
     "shell.execute_reply": "2025-07-28T10:38:55.716001Z"
    },
    "papermill": {
     "duration": 0.038816,
     "end_time": "2025-07-28T10:38:55.719265",
     "exception": false,
     "start_time": "2025-07-28T10:38:55.680449",
     "status": "completed"
    },
    "tags": []
   },
   "outputs": [
    {
     "name": "stdout",
     "output_type": "stream",
     "text": [
      "/dss/dsshome1/0C/ra93lal2/cma/CMA_Fairness_v2\n"
     ]
    },
    {
     "name": "stderr",
     "output_type": "stream",
     "text": [
      "/dss/dsshome1/0C/ra93lal2/.local/share/virtualenvs/CMA_Fairness_v2-3j10GkSs/lib/python3.10/site-packages/IPython/core/magics/osm.py:393: UserWarning: This is now an optional IPython functionality, using bookmarks requires you to install the `pickleshare` library.\n",
      "  bkms = self.shell.db.get('bookmarks', {})\n",
      "/dss/dsshome1/0C/ra93lal2/.local/share/virtualenvs/CMA_Fairness_v2-3j10GkSs/lib/python3.10/site-packages/IPython/core/magics/osm.py:417: UserWarning: This is now an optional IPython functionality, setting dhist requires you to install the `pickleshare` library.\n",
      "  self.shell.db['dhist'] = compress_dhist(dhist)[-100:]\n"
     ]
    }
   ],
   "source": [
    "%cd ~/cma/CMA_Fairness_v2"
   ]
  },
  {
   "cell_type": "markdown",
   "id": "de2603b9",
   "metadata": {
    "papermill": {
     "duration": 0.020943,
     "end_time": "2025-07-28T10:38:55.760714",
     "exception": false,
     "start_time": "2025-07-28T10:38:55.739771",
     "status": "completed"
    },
    "tags": []
   },
   "source": [
    "The following cell holds the definition of our parameters, these values can be overriden by rendering the with e.g. the following command:\n",
    "\n",
    "papermill -p alpha 0.2 -p ratio 0.3 universe_analysis.ipynb output/test_run.ipynb"
   ]
  },
  {
   "cell_type": "code",
   "execution_count": 2,
   "id": "a80968a0-40bb-4fa9-85ef-2d5eefb01975",
   "metadata": {
    "execution": {
     "iopub.execute_input": "2025-07-28T10:38:55.802486Z",
     "iopub.status.busy": "2025-07-28T10:38:55.801811Z",
     "iopub.status.idle": "2025-07-28T10:38:55.807780Z",
     "shell.execute_reply": "2025-07-28T10:38:55.806704Z"
    },
    "papermill": {
     "duration": 0.028675,
     "end_time": "2025-07-28T10:38:55.809677",
     "exception": false,
     "start_time": "2025-07-28T10:38:55.781002",
     "status": "completed"
    },
    "tags": []
   },
   "outputs": [
    {
     "name": "stdout",
     "output_type": "stream",
     "text": [
      "Current working directory: /dss/dsshome1/0C/ra93lal2/cma/CMA_Fairness_v2\n"
     ]
    }
   ],
   "source": [
    "import os\n",
    "print(\"Current working directory:\", os.getcwd())"
   ]
  },
  {
   "cell_type": "code",
   "execution_count": 3,
   "id": "2dce4c03",
   "metadata": {
    "execution": {
     "iopub.execute_input": "2025-07-28T10:38:55.851345Z",
     "iopub.status.busy": "2025-07-28T10:38:55.850965Z",
     "iopub.status.idle": "2025-07-28T10:38:55.856895Z",
     "shell.execute_reply": "2025-07-28T10:38:55.855918Z"
    },
    "papermill": {
     "duration": 0.028337,
     "end_time": "2025-07-28T10:38:55.858530",
     "exception": false,
     "start_time": "2025-07-28T10:38:55.830193",
     "status": "completed"
    },
    "tags": [
     "parameters"
    ]
   },
   "outputs": [],
   "source": [
    "run_no = 0\n",
    "universe_id = \"test\"\n",
    "universe = {\n",
    "    \"training_size\": \"2014\", # \"25k\", \"5k\", \"1k\", \"2014\"\n",
    "    \"scale\": \"scale\", # \"scale\", \"do-not-scale\",\n",
    "    #\"stratify_split\": \"target\", # \"none\", \"target\", \"protected-attribute\", \"both\",\n",
    "    \"model\": \"elasticnet\", # \"logreg\", \"penalized_logreg\", \"rf\", \"gbm\", \"elasticnet\"\n",
    "    \"cutoff\": [\"quantile_0.15\", \"quantile_0.30\"],\n",
    "    \"exclude_features\": \"age\", # \"none\", \"nationality\", \"sex\", \"nationality-sex\", \"age\"\n",
    "    \"exclude_subgroups\": \"keep-all\", # \"keep-all\", \"drop-non-german\"\n",
    "    \"eval_fairness_grouping\": [\"majority-minority\", \"nationality-all\"]\n",
    "}\n",
    "\n",
    "output_dir=\"./output\"\n",
    "seed=0"
   ]
  },
  {
   "cell_type": "code",
   "execution_count": 4,
   "id": "1e701ba7",
   "metadata": {
    "execution": {
     "iopub.execute_input": "2025-07-28T10:38:55.899107Z",
     "iopub.status.busy": "2025-07-28T10:38:55.898256Z",
     "iopub.status.idle": "2025-07-28T10:38:55.903770Z",
     "shell.execute_reply": "2025-07-28T10:38:55.902852Z"
    },
    "papermill": {
     "duration": 0.027217,
     "end_time": "2025-07-28T10:38:55.905545",
     "exception": false,
     "start_time": "2025-07-28T10:38:55.878328",
     "status": "completed"
    },
    "tags": [
     "injected-parameters"
    ]
   },
   "outputs": [],
   "source": [
    "# Parameters\n",
    "universe_id = \"6a5715468602e0d6861240d43259d6c4\"\n",
    "run_no = \"11\"\n",
    "universe = \"{\\\"cutoff\\\": [\\\"quantile_0.1\\\", \\\"quantile_0.25\\\"], \\\"eval_fairness_grouping\\\": [\\\"majority-minority\\\", \\\"nationality-all\\\"], \\\"exclude_features\\\": \\\"none\\\", \\\"exclude_subgroups\\\": \\\"keep-all\\\", \\\"model\\\": \\\"elasticnet\\\", \\\"scale\\\": \\\"do-not-scale\\\", \\\"training_size\\\": \\\"5k\\\"}\"\n",
    "output_dir = \"output\"\n",
    "seed = \"2023\"\n"
   ]
  },
  {
   "cell_type": "code",
   "execution_count": 5,
   "id": "1650acaf",
   "metadata": {
    "execution": {
     "iopub.execute_input": "2025-07-28T10:38:55.947552Z",
     "iopub.status.busy": "2025-07-28T10:38:55.945961Z",
     "iopub.status.idle": "2025-07-28T10:38:55.952711Z",
     "shell.execute_reply": "2025-07-28T10:38:55.951691Z"
    },
    "papermill": {
     "duration": 0.029388,
     "end_time": "2025-07-28T10:38:55.954401",
     "exception": false,
     "start_time": "2025-07-28T10:38:55.925013",
     "status": "completed"
    },
    "tags": []
   },
   "outputs": [],
   "source": [
    "import json\n",
    "# Parse universe into dict if it is passed as a string\n",
    "if isinstance(universe, str):\n",
    "    universe = json.loads(universe)"
   ]
  },
  {
   "cell_type": "code",
   "execution_count": 6,
   "id": "16620c48",
   "metadata": {
    "execution": {
     "iopub.execute_input": "2025-07-28T10:38:55.999295Z",
     "iopub.status.busy": "2025-07-28T10:38:55.998912Z",
     "iopub.status.idle": "2025-07-28T10:38:56.050505Z",
     "shell.execute_reply": "2025-07-28T10:38:56.049496Z"
    },
    "papermill": {
     "duration": 0.078317,
     "end_time": "2025-07-28T10:38:56.052718",
     "exception": false,
     "start_time": "2025-07-28T10:38:55.974401",
     "status": "completed"
    },
    "tags": []
   },
   "outputs": [],
   "source": [
    "# Auto-reload the custom package\n",
    "%load_ext autoreload\n",
    "%autoreload 1\n",
    "%aimport fairness_multiverse"
   ]
  },
  {
   "cell_type": "code",
   "execution_count": 7,
   "id": "01c5c9f3",
   "metadata": {
    "execution": {
     "iopub.execute_input": "2025-07-28T10:38:56.096154Z",
     "iopub.status.busy": "2025-07-28T10:38:56.095219Z",
     "iopub.status.idle": "2025-07-28T10:38:58.292962Z",
     "shell.execute_reply": "2025-07-28T10:38:58.291780Z"
    },
    "papermill": {
     "duration": 2.22108,
     "end_time": "2025-07-28T10:38:58.295245",
     "exception": false,
     "start_time": "2025-07-28T10:38:56.074165",
     "status": "completed"
    },
    "tags": []
   },
   "outputs": [],
   "source": [
    "from fairness_multiverse.universe import UniverseAnalysis\n",
    "\n",
    "universe_analysis = UniverseAnalysis(\n",
    "    run_no = run_no,\n",
    "    universe_id = universe_id,\n",
    "    universe = universe,\n",
    "    output_dir=output_dir,\n",
    ")"
   ]
  },
  {
   "cell_type": "code",
   "execution_count": 8,
   "id": "106241f5",
   "metadata": {
    "execution": {
     "iopub.execute_input": "2025-07-28T10:38:58.338871Z",
     "iopub.status.busy": "2025-07-28T10:38:58.338117Z",
     "iopub.status.idle": "2025-07-28T10:38:58.345423Z",
     "shell.execute_reply": "2025-07-28T10:38:58.344414Z"
    },
    "papermill": {
     "duration": 0.030809,
     "end_time": "2025-07-28T10:38:58.347158",
     "exception": false,
     "start_time": "2025-07-28T10:38:58.316349",
     "status": "completed"
    },
    "tags": []
   },
   "outputs": [
    {
     "name": "stdout",
     "output_type": "stream",
     "text": [
      "Using Seed: 2023\n"
     ]
    }
   ],
   "source": [
    "import numpy as np\n",
    "parsed_seed = int(seed)\n",
    "np.random.seed(parsed_seed)\n",
    "print(f\"Using Seed: {parsed_seed}\")"
   ]
  },
  {
   "cell_type": "markdown",
   "id": "e0ebdc57",
   "metadata": {
    "papermill": {
     "duration": 0.020892,
     "end_time": "2025-07-28T10:38:58.389211",
     "exception": false,
     "start_time": "2025-07-28T10:38:58.368319",
     "status": "completed"
    },
    "tags": []
   },
   "source": [
    "# Loading Data"
   ]
  },
  {
   "cell_type": "markdown",
   "id": "681925a3",
   "metadata": {
    "papermill": {
     "duration": 0.019771,
     "end_time": "2025-07-28T10:38:58.429102",
     "exception": false,
     "start_time": "2025-07-28T10:38:58.409331",
     "status": "completed"
    },
    "tags": []
   },
   "source": [
    "Load siab_train, siab_test, siab_calib and/or \n",
    "load siab_train_features, siab_train_labels"
   ]
  },
  {
   "cell_type": "code",
   "execution_count": 9,
   "id": "f0496b8a",
   "metadata": {
    "execution": {
     "iopub.execute_input": "2025-07-28T10:38:58.472785Z",
     "iopub.status.busy": "2025-07-28T10:38:58.472253Z",
     "iopub.status.idle": "2025-07-28T10:39:10.151832Z",
     "shell.execute_reply": "2025-07-28T10:39:10.150350Z"
    },
    "papermill": {
     "duration": 11.703818,
     "end_time": "2025-07-28T10:39:10.153807",
     "exception": false,
     "start_time": "2025-07-28T10:38:58.449989",
     "status": "completed"
    },
    "tags": []
   },
   "outputs": [
    {
     "name": "stdout",
     "output_type": "stream",
     "text": [
      "Loading SIAB data from cache: data/siab_cached.csv.gz\n"
     ]
    },
    {
     "name": "stdout",
     "output_type": "stream",
     "text": [
      "(643690, 164)\n"
     ]
    }
   ],
   "source": [
    "from pathlib import Path\n",
    "import pandas as pd\n",
    "\n",
    "# File paths\n",
    "raw_file = Path(\"data/raw/siab.csv\")\n",
    "cache_file = Path(\"data/siab_cached.csv.gz\")\n",
    "\n",
    "# Ensure cache directory exists\n",
    "cache_file.parent.mkdir(parents=True, exist_ok=True)\n",
    "\n",
    "# Load with simple caching\n",
    "if cache_file.exists():\n",
    "    print(f\"Loading SIAB data from cache: {cache_file}\")\n",
    "    siab = pd.read_csv(cache_file, compression='gzip')\n",
    "else:\n",
    "    print(f\"Cache not found. Reading raw SIAB data: {raw_file}\")\n",
    "    siab = pd.read_csv(raw_file)\n",
    "    siab.to_csv(cache_file, index=False, compression='gzip')\n",
    "    print(f\"Cached SIAB data to: {cache_file}\")\n",
    "\n",
    "# Now use `siab` DataFrame as needed\n",
    "print(siab.shape)"
   ]
  },
  {
   "cell_type": "code",
   "execution_count": 10,
   "id": "db0ca512-5f53-4dba-abdb-a2888bca41ba",
   "metadata": {
    "execution": {
     "iopub.execute_input": "2025-07-28T10:39:10.200027Z",
     "iopub.status.busy": "2025-07-28T10:39:10.199269Z",
     "iopub.status.idle": "2025-07-28T10:39:10.206175Z",
     "shell.execute_reply": "2025-07-28T10:39:10.205224Z"
    },
    "papermill": {
     "duration": 0.032918,
     "end_time": "2025-07-28T10:39:10.208983",
     "exception": false,
     "start_time": "2025-07-28T10:39:10.176065",
     "status": "completed"
    },
    "tags": []
   },
   "outputs": [],
   "source": [
    "#siab"
   ]
  },
  {
   "cell_type": "code",
   "execution_count": 11,
   "id": "a0edb063",
   "metadata": {
    "execution": {
     "iopub.execute_input": "2025-07-28T10:39:10.270868Z",
     "iopub.status.busy": "2025-07-28T10:39:10.270463Z",
     "iopub.status.idle": "2025-07-28T10:39:10.275910Z",
     "shell.execute_reply": "2025-07-28T10:39:10.274784Z"
    },
    "papermill": {
     "duration": 0.037773,
     "end_time": "2025-07-28T10:39:10.277649",
     "exception": false,
     "start_time": "2025-07-28T10:39:10.239876",
     "status": "completed"
    },
    "tags": []
   },
   "outputs": [],
   "source": [
    "#import pandas as pd\n",
    "#\n",
    "#X_train = pd.read_csv(\"./data/X_train.csv\")\n",
    "#y_train = pd.read_csv(\"./data/y_train.csv\")"
   ]
  },
  {
   "cell_type": "code",
   "execution_count": 12,
   "id": "63d08085",
   "metadata": {
    "execution": {
     "iopub.execute_input": "2025-07-28T10:39:10.319565Z",
     "iopub.status.busy": "2025-07-28T10:39:10.318789Z",
     "iopub.status.idle": "2025-07-28T10:39:10.325636Z",
     "shell.execute_reply": "2025-07-28T10:39:10.324454Z"
    },
    "papermill": {
     "duration": 0.030131,
     "end_time": "2025-07-28T10:39:10.327435",
     "exception": false,
     "start_time": "2025-07-28T10:39:10.297304",
     "status": "completed"
    },
    "tags": []
   },
   "outputs": [],
   "source": [
    "#X_test = pd.read_csv(\"./data/X_test.csv\")\n",
    "#y_true = pd.read_csv(\"./data/y_test.csv\")"
   ]
  },
  {
   "cell_type": "code",
   "execution_count": 13,
   "id": "98a8d0fa-1d3d-4ed8-bb2c-281470e24add",
   "metadata": {
    "execution": {
     "iopub.execute_input": "2025-07-28T10:39:10.369025Z",
     "iopub.status.busy": "2025-07-28T10:39:10.367848Z",
     "iopub.status.idle": "2025-07-28T10:39:10.375065Z",
     "shell.execute_reply": "2025-07-28T10:39:10.374004Z"
    },
    "papermill": {
     "duration": 0.029542,
     "end_time": "2025-07-28T10:39:10.376777",
     "exception": false,
     "start_time": "2025-07-28T10:39:10.347235",
     "status": "completed"
    },
    "tags": []
   },
   "outputs": [],
   "source": [
    "# Calibration data for conformal\n",
    "#X_calib = pd.read_csv(\"./data/X_calib.csv\")\n",
    "#y_calib = pd.read_csv(\"./data/y_calib.csv\")"
   ]
  },
  {
   "cell_type": "markdown",
   "id": "9901737e-04df-44f0-9100-f5ad144ed040",
   "metadata": {
    "papermill": {
     "duration": 0.019155,
     "end_time": "2025-07-28T10:39:10.415720",
     "exception": false,
     "start_time": "2025-07-28T10:39:10.396565",
     "status": "completed"
    },
    "tags": []
   },
   "source": [
    "# Splitting Data and Setting Training Data Size"
   ]
  },
  {
   "cell_type": "code",
   "execution_count": 14,
   "id": "acbc8f7d-8fc8-4e86-8c59-5dcb0f58384b",
   "metadata": {
    "execution": {
     "iopub.execute_input": "2025-07-28T10:39:10.458260Z",
     "iopub.status.busy": "2025-07-28T10:39:10.457210Z",
     "iopub.status.idle": "2025-07-28T10:39:10.468607Z",
     "shell.execute_reply": "2025-07-28T10:39:10.467420Z"
    },
    "papermill": {
     "duration": 0.034165,
     "end_time": "2025-07-28T10:39:10.470646",
     "exception": false,
     "start_time": "2025-07-28T10:39:10.436481",
     "status": "completed"
    },
    "tags": []
   },
   "outputs": [],
   "source": [
    "def sample_by_year(df, training_size, random_state=42):\n",
    "    if training_size == \"2014\":\n",
    "        return df[df[\"year\"] == 2014].reset_index(drop=True)\n",
    "    \n",
    "    size_map = {\n",
    "        \"25k\": 5000,\n",
    "        \"5k\": 1000,\n",
    "        \"1k\": 200\n",
    "    }\n",
    "\n",
    "    if training_size not in size_map:\n",
    "        return df.reset_index(drop=True)  # use all data\n",
    "\n",
    "    n_per_year = size_map[training_size]\n",
    "    grouped = df.groupby(\"year\")\n",
    "    sampled = grouped.apply(lambda x: x.sample(n=min(n_per_year, len(x)), random_state=random_state))\n",
    "    return sampled.reset_index(drop=True)"
   ]
  },
  {
   "cell_type": "code",
   "execution_count": 15,
   "id": "6d931f52-beaf-43ff-9e78-9d44a448d54e",
   "metadata": {
    "execution": {
     "iopub.execute_input": "2025-07-28T10:39:10.514116Z",
     "iopub.status.busy": "2025-07-28T10:39:10.513255Z",
     "iopub.status.idle": "2025-07-28T10:39:11.519624Z",
     "shell.execute_reply": "2025-07-28T10:39:11.518550Z"
    },
    "papermill": {
     "duration": 1.029711,
     "end_time": "2025-07-28T10:39:11.521899",
     "exception": false,
     "start_time": "2025-07-28T10:39:10.492188",
     "status": "completed"
    },
    "tags": []
   },
   "outputs": [],
   "source": [
    "siab_s = sample_by_year(siab, universe[\"training_size\"])"
   ]
  },
  {
   "cell_type": "code",
   "execution_count": 16,
   "id": "5db0a40e-a4e2-4920-be85-b12ae061d70d",
   "metadata": {
    "execution": {
     "iopub.execute_input": "2025-07-28T10:39:11.566726Z",
     "iopub.status.busy": "2025-07-28T10:39:11.566149Z",
     "iopub.status.idle": "2025-07-28T10:39:11.581632Z",
     "shell.execute_reply": "2025-07-28T10:39:11.580542Z"
    },
    "papermill": {
     "duration": 0.040423,
     "end_time": "2025-07-28T10:39:11.583664",
     "exception": false,
     "start_time": "2025-07-28T10:39:11.543241",
     "status": "completed"
    },
    "tags": []
   },
   "outputs": [
    {
     "data": {
      "text/plain": [
       "year\n",
       "2010    1000\n",
       "2011    1000\n",
       "2012    1000\n",
       "2013    1000\n",
       "2014    1000\n",
       "2015    1000\n",
       "2016    1000\n",
       "dtype: int64"
      ]
     },
     "metadata": {},
     "output_type": "display_data"
    }
   ],
   "source": [
    "display(siab_s.groupby(\"year\").size())"
   ]
  },
  {
   "cell_type": "code",
   "execution_count": 17,
   "id": "a561edb4-d032-42cb-8256-22eac1111c64",
   "metadata": {
    "execution": {
     "iopub.execute_input": "2025-07-28T10:39:11.632287Z",
     "iopub.status.busy": "2025-07-28T10:39:11.631683Z",
     "iopub.status.idle": "2025-07-28T10:39:11.890907Z",
     "shell.execute_reply": "2025-07-28T10:39:11.889790Z"
    },
    "papermill": {
     "duration": 0.286128,
     "end_time": "2025-07-28T10:39:11.893105",
     "exception": false,
     "start_time": "2025-07-28T10:39:11.606977",
     "status": "completed"
    },
    "tags": []
   },
   "outputs": [],
   "source": [
    "siab_train = siab_s[siab_s.year < 2015]\n",
    "siab_calib = siab[siab.year == 2015]\n",
    "siab_test = siab[siab.year == 2016]"
   ]
  },
  {
   "cell_type": "code",
   "execution_count": 18,
   "id": "472de16f-c3db-4916-846b-1f0de9cf1746",
   "metadata": {
    "execution": {
     "iopub.execute_input": "2025-07-28T10:39:11.942215Z",
     "iopub.status.busy": "2025-07-28T10:39:11.941436Z",
     "iopub.status.idle": "2025-07-28T10:39:11.950751Z",
     "shell.execute_reply": "2025-07-28T10:39:11.949617Z"
    },
    "papermill": {
     "duration": 0.035949,
     "end_time": "2025-07-28T10:39:11.952654",
     "exception": false,
     "start_time": "2025-07-28T10:39:11.916705",
     "status": "completed"
    },
    "tags": []
   },
   "outputs": [],
   "source": [
    "X_train = siab_train.iloc[:,4:164]\n",
    "y_train = siab_train.iloc[:, [3]]"
   ]
  },
  {
   "cell_type": "code",
   "execution_count": 19,
   "id": "828c96af-f43a-4ed6-ba47-8ac73a47d56c",
   "metadata": {
    "execution": {
     "iopub.execute_input": "2025-07-28T10:39:11.997846Z",
     "iopub.status.busy": "2025-07-28T10:39:11.996912Z",
     "iopub.status.idle": "2025-07-28T10:39:12.050944Z",
     "shell.execute_reply": "2025-07-28T10:39:12.049756Z"
    },
    "papermill": {
     "duration": 0.077475,
     "end_time": "2025-07-28T10:39:12.053182",
     "exception": false,
     "start_time": "2025-07-28T10:39:11.975707",
     "status": "completed"
    },
    "tags": []
   },
   "outputs": [],
   "source": [
    "X_calib = siab_calib.iloc[:,4:164]\n",
    "y_calib = siab_calib.iloc[:, [3]]"
   ]
  },
  {
   "cell_type": "code",
   "execution_count": 20,
   "id": "c34be9c3-6bd6-476e-acd3-845840e303be",
   "metadata": {
    "execution": {
     "iopub.execute_input": "2025-07-28T10:39:12.114418Z",
     "iopub.status.busy": "2025-07-28T10:39:12.113155Z",
     "iopub.status.idle": "2025-07-28T10:39:12.181817Z",
     "shell.execute_reply": "2025-07-28T10:39:12.180558Z"
    },
    "papermill": {
     "duration": 0.107004,
     "end_time": "2025-07-28T10:39:12.184019",
     "exception": false,
     "start_time": "2025-07-28T10:39:12.077015",
     "status": "completed"
    },
    "tags": []
   },
   "outputs": [],
   "source": [
    "X_test = siab_test.iloc[:,4:164]\n",
    "y_true = siab_test.iloc[:, [3]]"
   ]
  },
  {
   "cell_type": "code",
   "execution_count": 21,
   "id": "e6c733c5",
   "metadata": {
    "execution": {
     "iopub.execute_input": "2025-07-28T10:39:12.233759Z",
     "iopub.status.busy": "2025-07-28T10:39:12.233299Z",
     "iopub.status.idle": "2025-07-28T10:39:12.338181Z",
     "shell.execute_reply": "2025-07-28T10:39:12.337002Z"
    },
    "papermill": {
     "duration": 0.131001,
     "end_time": "2025-07-28T10:39:12.340640",
     "exception": false,
     "start_time": "2025-07-28T10:39:12.209639",
     "status": "completed"
    },
    "tags": []
   },
   "outputs": [],
   "source": [
    "# Auxiliary data needed downstream in the pipeline\n",
    "\n",
    "org_train = X_train.copy()\n",
    "org_test = X_test.copy()\n",
    "org_calib = X_calib.copy()"
   ]
  },
  {
   "cell_type": "markdown",
   "id": "0a4a1b33",
   "metadata": {
    "papermill": {
     "duration": 0.0169,
     "end_time": "2025-07-28T10:39:12.386803",
     "exception": false,
     "start_time": "2025-07-28T10:39:12.369903",
     "status": "completed"
    },
    "tags": []
   },
   "source": [
    "# Preprocessing Data"
   ]
  },
  {
   "cell_type": "code",
   "execution_count": 22,
   "id": "ca879031",
   "metadata": {
    "execution": {
     "iopub.execute_input": "2025-07-28T10:39:12.412024Z",
     "iopub.status.busy": "2025-07-28T10:39:12.411632Z",
     "iopub.status.idle": "2025-07-28T10:39:12.417257Z",
     "shell.execute_reply": "2025-07-28T10:39:12.416344Z"
    },
    "papermill": {
     "duration": 0.020066,
     "end_time": "2025-07-28T10:39:12.418757",
     "exception": false,
     "start_time": "2025-07-28T10:39:12.398691",
     "status": "completed"
    },
    "tags": []
   },
   "outputs": [],
   "source": [
    "# EXCLUDE PROTECTED FEATURES\n",
    "# ----------------------\n",
    "# \"exclude_features\": \"none\", # \"nationality\", \"sex\", \"nationality-sex\"\n",
    "\n",
    "excluded_features = universe[\"exclude_features\"].split(\"-\") # split, e.g.: \"nationality-sex\" -> [\"nationality\", \"sex\"]\n",
    "excluded_features_dictionary = {\n",
    "    \"nationality\": [\"maxdeutsch1\", \"maxdeutsch.Missing.\"],\n",
    "    \"sex\": [\"frau1\"],\n",
    "    \"age\": [\"age\"],\n",
    "}\n"
   ]
  },
  {
   "cell_type": "code",
   "execution_count": 23,
   "id": "b745ac60",
   "metadata": {
    "execution": {
     "iopub.execute_input": "2025-07-28T10:39:12.449106Z",
     "iopub.status.busy": "2025-07-28T10:39:12.448381Z",
     "iopub.status.idle": "2025-07-28T10:39:12.453753Z",
     "shell.execute_reply": "2025-07-28T10:39:12.452751Z"
    },
    "papermill": {
     "duration": 0.024534,
     "end_time": "2025-07-28T10:39:12.455580",
     "exception": false,
     "start_time": "2025-07-28T10:39:12.431046",
     "status": "completed"
    },
    "tags": []
   },
   "outputs": [],
   "source": [
    "# Code nice names to column names\n",
    "\n",
    "excluded_features_columns = [\n",
    "    excluded_features_dictionary[f] for f in excluded_features if len(f) > 0 and f != \"none\"\n",
    "]"
   ]
  },
  {
   "cell_type": "code",
   "execution_count": 24,
   "id": "f84f73a2",
   "metadata": {
    "execution": {
     "iopub.execute_input": "2025-07-28T10:39:12.499765Z",
     "iopub.status.busy": "2025-07-28T10:39:12.499117Z",
     "iopub.status.idle": "2025-07-28T10:39:12.508173Z",
     "shell.execute_reply": "2025-07-28T10:39:12.505816Z"
    },
    "papermill": {
     "duration": 0.036141,
     "end_time": "2025-07-28T10:39:12.510583",
     "exception": false,
     "start_time": "2025-07-28T10:39:12.474442",
     "status": "completed"
    },
    "tags": []
   },
   "outputs": [],
   "source": [
    "from utils import flatten_once\n",
    "\n",
    "excluded_features_columns = flatten_once(excluded_features_columns)"
   ]
  },
  {
   "cell_type": "code",
   "execution_count": 25,
   "id": "884dea22",
   "metadata": {
    "execution": {
     "iopub.execute_input": "2025-07-28T10:39:12.561916Z",
     "iopub.status.busy": "2025-07-28T10:39:12.561362Z",
     "iopub.status.idle": "2025-07-28T10:39:12.567596Z",
     "shell.execute_reply": "2025-07-28T10:39:12.566512Z"
    },
    "papermill": {
     "duration": 0.032928,
     "end_time": "2025-07-28T10:39:12.569751",
     "exception": false,
     "start_time": "2025-07-28T10:39:12.536823",
     "status": "completed"
    },
    "tags": []
   },
   "outputs": [],
   "source": [
    "if len(excluded_features_columns) > 0:\n",
    "    print(f\"Dropping features: {excluded_features_columns}\")\n",
    "    X_train.drop(excluded_features_columns, axis=1, inplace=True)"
   ]
  },
  {
   "cell_type": "code",
   "execution_count": 26,
   "id": "95ab8b16",
   "metadata": {
    "execution": {
     "iopub.execute_input": "2025-07-28T10:39:12.616302Z",
     "iopub.status.busy": "2025-07-28T10:39:12.615819Z",
     "iopub.status.idle": "2025-07-28T10:39:12.622725Z",
     "shell.execute_reply": "2025-07-28T10:39:12.621647Z"
    },
    "papermill": {
     "duration": 0.033637,
     "end_time": "2025-07-28T10:39:12.624608",
     "exception": false,
     "start_time": "2025-07-28T10:39:12.590971",
     "status": "completed"
    },
    "tags": []
   },
   "outputs": [],
   "source": [
    "if len(excluded_features_columns) > 0:\n",
    "    print(f\"Dropping features: {excluded_features_columns}\")\n",
    "    X_test.drop(excluded_features_columns, axis=1, inplace=True)"
   ]
  },
  {
   "cell_type": "code",
   "execution_count": 27,
   "id": "1853aaf5-fb9f-46cb-a2b5-8ea4ae2237e4",
   "metadata": {
    "execution": {
     "iopub.execute_input": "2025-07-28T10:39:12.676280Z",
     "iopub.status.busy": "2025-07-28T10:39:12.675690Z",
     "iopub.status.idle": "2025-07-28T10:39:12.681016Z",
     "shell.execute_reply": "2025-07-28T10:39:12.680134Z"
    },
    "papermill": {
     "duration": 0.033631,
     "end_time": "2025-07-28T10:39:12.683115",
     "exception": false,
     "start_time": "2025-07-28T10:39:12.649484",
     "status": "completed"
    },
    "tags": []
   },
   "outputs": [],
   "source": [
    "if len(excluded_features_columns) > 0:\n",
    "    print(f\"Dropping features: {excluded_features_columns}\")\n",
    "    X_calib.drop(excluded_features_columns, axis=1, inplace=True)"
   ]
  },
  {
   "cell_type": "code",
   "execution_count": 28,
   "id": "6727d079-03e5-481e-9d38-292a90b7a0a8",
   "metadata": {
    "execution": {
     "iopub.execute_input": "2025-07-28T10:39:12.734744Z",
     "iopub.status.busy": "2025-07-28T10:39:12.734233Z",
     "iopub.status.idle": "2025-07-28T10:39:12.739558Z",
     "shell.execute_reply": "2025-07-28T10:39:12.738510Z"
    },
    "papermill": {
     "duration": 0.033057,
     "end_time": "2025-07-28T10:39:12.741643",
     "exception": false,
     "start_time": "2025-07-28T10:39:12.708586",
     "status": "completed"
    },
    "tags": []
   },
   "outputs": [],
   "source": [
    "# SPLIT & STRATIFY DATA\n",
    "# ----------------------"
   ]
  },
  {
   "cell_type": "code",
   "execution_count": 29,
   "id": "76c4dc6d",
   "metadata": {
    "execution": {
     "iopub.execute_input": "2025-07-28T10:39:12.793722Z",
     "iopub.status.busy": "2025-07-28T10:39:12.793145Z",
     "iopub.status.idle": "2025-07-28T10:39:12.799218Z",
     "shell.execute_reply": "2025-07-28T10:39:12.798144Z"
    },
    "papermill": {
     "duration": 0.034252,
     "end_time": "2025-07-28T10:39:12.801177",
     "exception": false,
     "start_time": "2025-07-28T10:39:12.766925",
     "status": "completed"
    },
    "tags": []
   },
   "outputs": [],
   "source": [
    "# EXCLUDE CERTAIN SUBGROUPS\n",
    "# ----------------------\n",
    "\n",
    "mode = universe.get(\"exclude_subgroups\", \"keep-all\") \n",
    "# Fetches the exclude_subgroups setting from the universe dict.\n",
    "# Defaults to \"keep-all\" if the key is missing."
   ]
  },
  {
   "cell_type": "code",
   "execution_count": 30,
   "id": "21994072",
   "metadata": {
    "execution": {
     "iopub.execute_input": "2025-07-28T10:39:12.862049Z",
     "iopub.status.busy": "2025-07-28T10:39:12.861695Z",
     "iopub.status.idle": "2025-07-28T10:39:12.867626Z",
     "shell.execute_reply": "2025-07-28T10:39:12.866931Z"
    },
    "papermill": {
     "duration": 0.044099,
     "end_time": "2025-07-28T10:39:12.869820",
     "exception": false,
     "start_time": "2025-07-28T10:39:12.825721",
     "status": "completed"
    },
    "tags": []
   },
   "outputs": [],
   "source": [
    "if mode == \"keep-all\":\n",
    "    keep_mask = pd.Series(True, index=org_train.index)\n",
    "\n",
    "# org_train contains the original feature columns from features_org (in Simson)\n",
    "# features_org contains unprocessed features, for me X_train at beginning ???\n",
    "# For keep-all, creates a boolean Series (keep_mask) of all True, so no rows are removed.\n",
    "\n",
    "elif mode == \"drop-non-german\":\n",
    "    keep_mask = org_train[\"maxdeutsch1\"] == 1 # ??? what about missing values?\n",
    "\n",
    "else:\n",
    "    raise ValueError(f\"Unsupported mode for exclude_subgroups: {mode}\")\n"
   ]
  },
  {
   "cell_type": "code",
   "execution_count": 31,
   "id": "71651440",
   "metadata": {
    "execution": {
     "iopub.execute_input": "2025-07-28T10:39:12.929818Z",
     "iopub.status.busy": "2025-07-28T10:39:12.929312Z",
     "iopub.status.idle": "2025-07-28T10:39:12.936246Z",
     "shell.execute_reply": "2025-07-28T10:39:12.935121Z"
    },
    "papermill": {
     "duration": 0.034944,
     "end_time": "2025-07-28T10:39:12.937995",
     "exception": false,
     "start_time": "2025-07-28T10:39:12.903051",
     "status": "completed"
    },
    "tags": []
   },
   "outputs": [],
   "source": [
    "n_drop = (~keep_mask).sum() # Calculates how many rows are set to be dropped\n",
    "if n_drop > 0:\n",
    "    pct = n_drop / len(keep_mask) * 100\n",
    "    print(f\"Dropping {n_drop} rows ({pct:.2f}%) where mode='{mode}'\")"
   ]
  },
  {
   "cell_type": "code",
   "execution_count": 32,
   "id": "5fb8eee5",
   "metadata": {
    "execution": {
     "iopub.execute_input": "2025-07-28T10:39:12.988673Z",
     "iopub.status.busy": "2025-07-28T10:39:12.987587Z",
     "iopub.status.idle": "2025-07-28T10:39:12.996546Z",
     "shell.execute_reply": "2025-07-28T10:39:12.995496Z"
    },
    "papermill": {
     "duration": 0.035908,
     "end_time": "2025-07-28T10:39:12.998418",
     "exception": false,
     "start_time": "2025-07-28T10:39:12.962510",
     "status": "completed"
    },
    "tags": []
   },
   "outputs": [],
   "source": [
    "X_train = X_train[keep_mask]"
   ]
  },
  {
   "cell_type": "code",
   "execution_count": 33,
   "id": "b202bb3a",
   "metadata": {
    "execution": {
     "iopub.execute_input": "2025-07-28T10:39:13.043382Z",
     "iopub.status.busy": "2025-07-28T10:39:13.042567Z",
     "iopub.status.idle": "2025-07-28T10:39:13.049178Z",
     "shell.execute_reply": "2025-07-28T10:39:13.048096Z"
    },
    "papermill": {
     "duration": 0.035751,
     "end_time": "2025-07-28T10:39:13.053168",
     "exception": false,
     "start_time": "2025-07-28T10:39:13.017417",
     "status": "completed"
    },
    "tags": []
   },
   "outputs": [],
   "source": [
    "y_train = y_train[keep_mask]"
   ]
  },
  {
   "cell_type": "markdown",
   "id": "493e2ac3",
   "metadata": {
    "papermill": {
     "duration": 0.023921,
     "end_time": "2025-07-28T10:39:13.101389",
     "exception": false,
     "start_time": "2025-07-28T10:39:13.077468",
     "status": "completed"
    },
    "tags": []
   },
   "source": [
    "# Model Training"
   ]
  },
  {
   "cell_type": "code",
   "execution_count": 34,
   "id": "679e1268",
   "metadata": {
    "execution": {
     "iopub.execute_input": "2025-07-28T10:39:13.151160Z",
     "iopub.status.busy": "2025-07-28T10:39:13.150311Z",
     "iopub.status.idle": "2025-07-28T10:39:13.264453Z",
     "shell.execute_reply": "2025-07-28T10:39:13.263409Z"
    },
    "papermill": {
     "duration": 0.14159,
     "end_time": "2025-07-28T10:39:13.266564",
     "exception": false,
     "start_time": "2025-07-28T10:39:13.124974",
     "status": "completed"
    },
    "tags": []
   },
   "outputs": [],
   "source": [
    "from sklearn.linear_model import LogisticRegression\n",
    "from sklearn.ensemble import GradientBoostingClassifier, RandomForestClassifier\n",
    "\n",
    "if (universe[\"model\"] == \"logreg\"):\n",
    "    model = LogisticRegression() #penalty=\"none\") #, solver=\"newton-cg\", max_iter=1) # include random_state=19 ?\n",
    "elif (universe[\"model\"] == \"penalized_logreg\"):\n",
    "    model = LogisticRegression(penalty=\"l2\", C=1.0) #, solver=\"newton-cg\", max_iter=1)\n",
    "elif (universe[\"model\"] == \"rf\"):\n",
    "    model = RandomForestClassifier(n_estimators=100, n_jobs=-1)\n",
    "elif (universe[\"model\"] == \"gbm\"):\n",
    "    model = GradientBoostingClassifier()\n",
    "elif (universe[\"model\"] == \"elasticnet\"):\n",
    "    model = LogisticRegression(penalty = 'elasticnet', solver = 'saga', l1_ratio = 0.5, max_iter=5000) # which solver to use?\n",
    "else:\n",
    "    raise \"Unsupported universe.model\""
   ]
  },
  {
   "cell_type": "code",
   "execution_count": 35,
   "id": "0cc8f744",
   "metadata": {
    "execution": {
     "iopub.execute_input": "2025-07-28T10:39:13.312646Z",
     "iopub.status.busy": "2025-07-28T10:39:13.312007Z",
     "iopub.status.idle": "2025-07-28T10:39:13.319874Z",
     "shell.execute_reply": "2025-07-28T10:39:13.318788Z"
    },
    "papermill": {
     "duration": 0.033073,
     "end_time": "2025-07-28T10:39:13.321731",
     "exception": false,
     "start_time": "2025-07-28T10:39:13.288658",
     "status": "completed"
    },
    "tags": []
   },
   "outputs": [],
   "source": [
    "import numpy as np\n",
    "from sklearn.pipeline import Pipeline\n",
    "from sklearn.preprocessing import StandardScaler\n",
    "\n",
    "model = Pipeline([\n",
    "    #(\"continuous_processor\", continuous_processor),\n",
    "    #(\"categorical_preprocessor\", categorical_preprocessor),\n",
    "    (\"scale\", StandardScaler() if universe[\"scale\"] == \"scale\" else None), \n",
    "    (\"model\", model),\n",
    "])"
   ]
  },
  {
   "cell_type": "code",
   "execution_count": 36,
   "id": "9442c04d",
   "metadata": {
    "execution": {
     "iopub.execute_input": "2025-07-28T10:39:13.376094Z",
     "iopub.status.busy": "2025-07-28T10:39:13.375502Z",
     "iopub.status.idle": "2025-07-28T10:40:36.810132Z",
     "shell.execute_reply": "2025-07-28T10:40:36.808974Z"
    },
    "papermill": {
     "duration": 83.474455,
     "end_time": "2025-07-28T10:40:36.822948",
     "exception": false,
     "start_time": "2025-07-28T10:39:13.348493",
     "status": "completed"
    },
    "tags": []
   },
   "outputs": [
    {
     "data": {
      "text/html": [
       "<style>#sk-container-id-1 {color: black;background-color: white;}#sk-container-id-1 pre{padding: 0;}#sk-container-id-1 div.sk-toggleable {background-color: white;}#sk-container-id-1 label.sk-toggleable__label {cursor: pointer;display: block;width: 100%;margin-bottom: 0;padding: 0.3em;box-sizing: border-box;text-align: center;}#sk-container-id-1 label.sk-toggleable__label-arrow:before {content: \"▸\";float: left;margin-right: 0.25em;color: #696969;}#sk-container-id-1 label.sk-toggleable__label-arrow:hover:before {color: black;}#sk-container-id-1 div.sk-estimator:hover label.sk-toggleable__label-arrow:before {color: black;}#sk-container-id-1 div.sk-toggleable__content {max-height: 0;max-width: 0;overflow: hidden;text-align: left;background-color: #f0f8ff;}#sk-container-id-1 div.sk-toggleable__content pre {margin: 0.2em;color: black;border-radius: 0.25em;background-color: #f0f8ff;}#sk-container-id-1 input.sk-toggleable__control:checked~div.sk-toggleable__content {max-height: 200px;max-width: 100%;overflow: auto;}#sk-container-id-1 input.sk-toggleable__control:checked~label.sk-toggleable__label-arrow:before {content: \"▾\";}#sk-container-id-1 div.sk-estimator input.sk-toggleable__control:checked~label.sk-toggleable__label {background-color: #d4ebff;}#sk-container-id-1 div.sk-label input.sk-toggleable__control:checked~label.sk-toggleable__label {background-color: #d4ebff;}#sk-container-id-1 input.sk-hidden--visually {border: 0;clip: rect(1px 1px 1px 1px);clip: rect(1px, 1px, 1px, 1px);height: 1px;margin: -1px;overflow: hidden;padding: 0;position: absolute;width: 1px;}#sk-container-id-1 div.sk-estimator {font-family: monospace;background-color: #f0f8ff;border: 1px dotted black;border-radius: 0.25em;box-sizing: border-box;margin-bottom: 0.5em;}#sk-container-id-1 div.sk-estimator:hover {background-color: #d4ebff;}#sk-container-id-1 div.sk-parallel-item::after {content: \"\";width: 100%;border-bottom: 1px solid gray;flex-grow: 1;}#sk-container-id-1 div.sk-label:hover label.sk-toggleable__label {background-color: #d4ebff;}#sk-container-id-1 div.sk-serial::before {content: \"\";position: absolute;border-left: 1px solid gray;box-sizing: border-box;top: 0;bottom: 0;left: 50%;z-index: 0;}#sk-container-id-1 div.sk-serial {display: flex;flex-direction: column;align-items: center;background-color: white;padding-right: 0.2em;padding-left: 0.2em;position: relative;}#sk-container-id-1 div.sk-item {position: relative;z-index: 1;}#sk-container-id-1 div.sk-parallel {display: flex;align-items: stretch;justify-content: center;background-color: white;position: relative;}#sk-container-id-1 div.sk-item::before, #sk-container-id-1 div.sk-parallel-item::before {content: \"\";position: absolute;border-left: 1px solid gray;box-sizing: border-box;top: 0;bottom: 0;left: 50%;z-index: -1;}#sk-container-id-1 div.sk-parallel-item {display: flex;flex-direction: column;z-index: 1;position: relative;background-color: white;}#sk-container-id-1 div.sk-parallel-item:first-child::after {align-self: flex-end;width: 50%;}#sk-container-id-1 div.sk-parallel-item:last-child::after {align-self: flex-start;width: 50%;}#sk-container-id-1 div.sk-parallel-item:only-child::after {width: 0;}#sk-container-id-1 div.sk-dashed-wrapped {border: 1px dashed gray;margin: 0 0.4em 0.5em 0.4em;box-sizing: border-box;padding-bottom: 0.4em;background-color: white;}#sk-container-id-1 div.sk-label label {font-family: monospace;font-weight: bold;display: inline-block;line-height: 1.2em;}#sk-container-id-1 div.sk-label-container {text-align: center;}#sk-container-id-1 div.sk-container {/* jupyter's `normalize.less` sets `[hidden] { display: none; }` but bootstrap.min.css set `[hidden] { display: none !important; }` so we also need the `!important` here to be able to override the default hidden behavior on the sphinx rendered scikit-learn.org. See: https://github.com/scikit-learn/scikit-learn/issues/21755 */display: inline-block !important;position: relative;}#sk-container-id-1 div.sk-text-repr-fallback {display: none;}</style><div id=\"sk-container-id-1\" class=\"sk-top-container\"><div class=\"sk-text-repr-fallback\"><pre>Pipeline(steps=[(&#x27;scale&#x27;, None),\n",
       "                (&#x27;model&#x27;,\n",
       "                 LogisticRegression(l1_ratio=0.5, max_iter=5000,\n",
       "                                    penalty=&#x27;elasticnet&#x27;, solver=&#x27;saga&#x27;))])</pre><b>In a Jupyter environment, please rerun this cell to show the HTML representation or trust the notebook. <br />On GitHub, the HTML representation is unable to render, please try loading this page with nbviewer.org.</b></div><div class=\"sk-container\" hidden><div class=\"sk-item sk-dashed-wrapped\"><div class=\"sk-label-container\"><div class=\"sk-label sk-toggleable\"><input class=\"sk-toggleable__control sk-hidden--visually\" id=\"sk-estimator-id-1\" type=\"checkbox\" ><label for=\"sk-estimator-id-1\" class=\"sk-toggleable__label sk-toggleable__label-arrow\">Pipeline</label><div class=\"sk-toggleable__content\"><pre>Pipeline(steps=[(&#x27;scale&#x27;, None),\n",
       "                (&#x27;model&#x27;,\n",
       "                 LogisticRegression(l1_ratio=0.5, max_iter=5000,\n",
       "                                    penalty=&#x27;elasticnet&#x27;, solver=&#x27;saga&#x27;))])</pre></div></div></div><div class=\"sk-serial\"><div class=\"sk-item\"><div class=\"sk-estimator sk-toggleable\"><input class=\"sk-toggleable__control sk-hidden--visually\" id=\"sk-estimator-id-2\" type=\"checkbox\" ><label for=\"sk-estimator-id-2\" class=\"sk-toggleable__label sk-toggleable__label-arrow\">None</label><div class=\"sk-toggleable__content\"><pre>None</pre></div></div></div><div class=\"sk-item\"><div class=\"sk-estimator sk-toggleable\"><input class=\"sk-toggleable__control sk-hidden--visually\" id=\"sk-estimator-id-3\" type=\"checkbox\" ><label for=\"sk-estimator-id-3\" class=\"sk-toggleable__label sk-toggleable__label-arrow\">LogisticRegression</label><div class=\"sk-toggleable__content\"><pre>LogisticRegression(l1_ratio=0.5, max_iter=5000, penalty=&#x27;elasticnet&#x27;,\n",
       "                   solver=&#x27;saga&#x27;)</pre></div></div></div></div></div></div></div>"
      ],
      "text/plain": [
       "Pipeline(steps=[('scale', None),\n",
       "                ('model',\n",
       "                 LogisticRegression(l1_ratio=0.5, max_iter=5000,\n",
       "                                    penalty='elasticnet', solver='saga'))])"
      ]
     },
     "execution_count": 36,
     "metadata": {},
     "output_type": "execute_result"
    }
   ],
   "source": [
    "model.fit(X_train, y_train.values.ravel())"
   ]
  },
  {
   "cell_type": "code",
   "execution_count": 37,
   "id": "af59f8c0",
   "metadata": {
    "execution": {
     "iopub.execute_input": "2025-07-28T10:40:36.866195Z",
     "iopub.status.busy": "2025-07-28T10:40:36.865510Z",
     "iopub.status.idle": "2025-07-28T10:40:36.871738Z",
     "shell.execute_reply": "2025-07-28T10:40:36.870755Z"
    },
    "papermill": {
     "duration": 0.029543,
     "end_time": "2025-07-28T10:40:36.873364",
     "exception": false,
     "start_time": "2025-07-28T10:40:36.843821",
     "status": "completed"
    },
    "tags": []
   },
   "outputs": [],
   "source": [
    "from fairness_multiverse.universe import predict_w_threshold"
   ]
  },
  {
   "cell_type": "code",
   "execution_count": 38,
   "id": "a7cf2e16",
   "metadata": {
    "execution": {
     "iopub.execute_input": "2025-07-28T10:40:36.917044Z",
     "iopub.status.busy": "2025-07-28T10:40:36.916264Z",
     "iopub.status.idle": "2025-07-28T10:40:37.021830Z",
     "shell.execute_reply": "2025-07-28T10:40:37.020876Z"
    },
    "papermill": {
     "duration": 0.129049,
     "end_time": "2025-07-28T10:40:37.023652",
     "exception": false,
     "start_time": "2025-07-28T10:40:36.894603",
     "status": "completed"
    },
    "tags": []
   },
   "outputs": [
    {
     "data": {
      "text/plain": [
       "0.8572957306877718"
      ]
     },
     "execution_count": 38,
     "metadata": {},
     "output_type": "execute_result"
    }
   ],
   "source": [
    "probs_test = model.predict_proba(X_test)\n",
    "\n",
    "'''\n",
    "Below code returns a boolean array (or binary 0/1 array depending on how it’s used) where each element \n",
    "is True if the probability of class 1 is greater than or equal to the threshold, and False otherwise.\n",
    "'''\n",
    "y_pred_default = predict_w_threshold(probs_test, 0.5)\n",
    "\n",
    "from sklearn.metrics import accuracy_score\n",
    "\n",
    "# Naive prediction\n",
    "accuracy_score(y_true = y_true, y_pred = y_pred_default)"
   ]
  },
  {
   "cell_type": "code",
   "execution_count": 39,
   "id": "081964c3",
   "metadata": {
    "execution": {
     "iopub.execute_input": "2025-07-28T10:40:37.068477Z",
     "iopub.status.busy": "2025-07-28T10:40:37.067599Z",
     "iopub.status.idle": "2025-07-28T10:40:37.151522Z",
     "shell.execute_reply": "2025-07-28T10:40:37.150544Z"
    },
    "papermill": {
     "duration": 0.107816,
     "end_time": "2025-07-28T10:40:37.153559",
     "exception": false,
     "start_time": "2025-07-28T10:40:37.045743",
     "status": "completed"
    },
    "tags": []
   },
   "outputs": [
    {
     "data": {
      "text/plain": [
       "array([0, 0, 0, ..., 0, 0, 0])"
      ]
     },
     "execution_count": 39,
     "metadata": {},
     "output_type": "execute_result"
    }
   ],
   "source": [
    "model.predict(X_test)"
   ]
  },
  {
   "cell_type": "markdown",
   "id": "56c9705b",
   "metadata": {
    "papermill": {
     "duration": 0.020969,
     "end_time": "2025-07-28T10:40:37.198663",
     "exception": false,
     "start_time": "2025-07-28T10:40:37.177694",
     "status": "completed"
    },
    "tags": []
   },
   "source": [
    "# Conformal Prediction"
   ]
  },
  {
   "cell_type": "code",
   "execution_count": 40,
   "id": "160ec6ff",
   "metadata": {
    "execution": {
     "iopub.execute_input": "2025-07-28T10:40:37.242549Z",
     "iopub.status.busy": "2025-07-28T10:40:37.241941Z",
     "iopub.status.idle": "2025-07-28T10:40:37.247168Z",
     "shell.execute_reply": "2025-07-28T10:40:37.246233Z"
    },
    "papermill": {
     "duration": 0.029037,
     "end_time": "2025-07-28T10:40:37.248724",
     "exception": false,
     "start_time": "2025-07-28T10:40:37.219687",
     "status": "completed"
    },
    "tags": []
   },
   "outputs": [],
   "source": [
    "# Miscoverage level for conformal prediction (10% allowed error rate => 90% target coverage)\n",
    "alpha = 0.1"
   ]
  },
  {
   "cell_type": "code",
   "execution_count": 41,
   "id": "eadf4555-3dd3-440e-8e35-f82a4ad9f855",
   "metadata": {
    "execution": {
     "iopub.execute_input": "2025-07-28T10:40:37.292750Z",
     "iopub.status.busy": "2025-07-28T10:40:37.292139Z",
     "iopub.status.idle": "2025-07-28T10:40:37.376737Z",
     "shell.execute_reply": "2025-07-28T10:40:37.375741Z"
    },
    "papermill": {
     "duration": 0.108894,
     "end_time": "2025-07-28T10:40:37.379031",
     "exception": false,
     "start_time": "2025-07-28T10:40:37.270137",
     "status": "completed"
    },
    "tags": []
   },
   "outputs": [],
   "source": [
    "probs_calib = model.predict_proba(X_calib)"
   ]
  },
  {
   "cell_type": "code",
   "execution_count": 42,
   "id": "2ed93547-6d5d-4983-9b36-1ecb300da49a",
   "metadata": {
    "execution": {
     "iopub.execute_input": "2025-07-28T10:40:37.424302Z",
     "iopub.status.busy": "2025-07-28T10:40:37.423634Z",
     "iopub.status.idle": "2025-07-28T10:40:37.429029Z",
     "shell.execute_reply": "2025-07-28T10:40:37.428144Z"
    },
    "papermill": {
     "duration": 0.02924,
     "end_time": "2025-07-28T10:40:37.430628",
     "exception": false,
     "start_time": "2025-07-28T10:40:37.401388",
     "status": "completed"
    },
    "tags": []
   },
   "outputs": [],
   "source": [
    "y_calib = y_calib.values.ravel().astype(int)"
   ]
  },
  {
   "cell_type": "code",
   "execution_count": 43,
   "id": "65d1320d-f588-4b38-9072-62af1ae97f7d",
   "metadata": {
    "execution": {
     "iopub.execute_input": "2025-07-28T10:40:37.475305Z",
     "iopub.status.busy": "2025-07-28T10:40:37.474491Z",
     "iopub.status.idle": "2025-07-28T10:40:37.481646Z",
     "shell.execute_reply": "2025-07-28T10:40:37.480791Z"
    },
    "papermill": {
     "duration": 0.031232,
     "end_time": "2025-07-28T10:40:37.483456",
     "exception": false,
     "start_time": "2025-07-28T10:40:37.452224",
     "status": "completed"
    },
    "tags": []
   },
   "outputs": [],
   "source": [
    "from fairness_multiverse.conformal import compute_nc_scores\n",
    "\n",
    "# Compute nonconformity scores on calibration set (1 - probability of true class)\n",
    "nc_scores = compute_nc_scores(probs_calib, y_calib)"
   ]
  },
  {
   "cell_type": "code",
   "execution_count": 44,
   "id": "df3b8ca3-53b7-43d5-9667-7c85da7aeda2",
   "metadata": {
    "execution": {
     "iopub.execute_input": "2025-07-28T10:40:37.528291Z",
     "iopub.status.busy": "2025-07-28T10:40:37.527602Z",
     "iopub.status.idle": "2025-07-28T10:40:37.534169Z",
     "shell.execute_reply": "2025-07-28T10:40:37.533275Z"
    },
    "papermill": {
     "duration": 0.030634,
     "end_time": "2025-07-28T10:40:37.535834",
     "exception": false,
     "start_time": "2025-07-28T10:40:37.505200",
     "status": "completed"
    },
    "tags": []
   },
   "outputs": [],
   "source": [
    "from fairness_multiverse.conformal import find_threshold\n",
    "\n",
    "# Find conformal threshold q_hat for the given alpha (split conformal method)\n",
    "q_hat = find_threshold(nc_scores, alpha)"
   ]
  },
  {
   "cell_type": "code",
   "execution_count": 45,
   "id": "4d29e6c1-0ef6-4aa4-b8fe-4fe79b0d033a",
   "metadata": {
    "execution": {
     "iopub.execute_input": "2025-07-28T10:40:37.580894Z",
     "iopub.status.busy": "2025-07-28T10:40:37.580102Z",
     "iopub.status.idle": "2025-07-28T10:40:37.586888Z",
     "shell.execute_reply": "2025-07-28T10:40:37.585974Z"
    },
    "papermill": {
     "duration": 0.030717,
     "end_time": "2025-07-28T10:40:37.588452",
     "exception": false,
     "start_time": "2025-07-28T10:40:37.557735",
     "status": "completed"
    },
    "tags": []
   },
   "outputs": [
    {
     "data": {
      "text/plain": [
       "0.6859161035066637"
      ]
     },
     "execution_count": 45,
     "metadata": {},
     "output_type": "execute_result"
    }
   ],
   "source": [
    "q_hat"
   ]
  },
  {
   "cell_type": "code",
   "execution_count": 46,
   "id": "92460794-cdac-4be2-ba28-f28c0515a6fb",
   "metadata": {
    "execution": {
     "iopub.execute_input": "2025-07-28T10:40:37.634077Z",
     "iopub.status.busy": "2025-07-28T10:40:37.633325Z",
     "iopub.status.idle": "2025-07-28T10:40:38.409142Z",
     "shell.execute_reply": "2025-07-28T10:40:38.408152Z"
    },
    "papermill": {
     "duration": 0.800473,
     "end_time": "2025-07-28T10:40:38.411106",
     "exception": false,
     "start_time": "2025-07-28T10:40:37.610633",
     "status": "completed"
    },
    "tags": []
   },
   "outputs": [],
   "source": [
    "from fairness_multiverse.conformal import predict_conformal_sets\n",
    "\n",
    "# Generate prediction sets for each test example\n",
    "pred_sets = predict_conformal_sets(model, X_test, q_hat)"
   ]
  },
  {
   "cell_type": "code",
   "execution_count": 47,
   "id": "d90c9a65-e6db-4f5d-80cd-e68fb7e46829",
   "metadata": {
    "execution": {
     "iopub.execute_input": "2025-07-28T10:40:38.457845Z",
     "iopub.status.busy": "2025-07-28T10:40:38.456939Z",
     "iopub.status.idle": "2025-07-28T10:40:38.462661Z",
     "shell.execute_reply": "2025-07-28T10:40:38.461698Z"
    },
    "papermill": {
     "duration": 0.030342,
     "end_time": "2025-07-28T10:40:38.464315",
     "exception": false,
     "start_time": "2025-07-28T10:40:38.433973",
     "status": "completed"
    },
    "tags": []
   },
   "outputs": [],
   "source": [
    "y_true = y_true.squeeze()"
   ]
  },
  {
   "cell_type": "code",
   "execution_count": 48,
   "id": "3a58a54a-1e68-46b9-927a-df01f18aebc8",
   "metadata": {
    "execution": {
     "iopub.execute_input": "2025-07-28T10:40:38.509465Z",
     "iopub.status.busy": "2025-07-28T10:40:38.508891Z",
     "iopub.status.idle": "2025-07-28T10:40:39.437693Z",
     "shell.execute_reply": "2025-07-28T10:40:39.436652Z"
    },
    "papermill": {
     "duration": 0.953003,
     "end_time": "2025-07-28T10:40:39.439389",
     "exception": false,
     "start_time": "2025-07-28T10:40:38.486386",
     "status": "completed"
    },
    "tags": []
   },
   "outputs": [],
   "source": [
    "from fairness_multiverse.conformal import evaluate_sets\n",
    "\n",
    "# Evaluate coverage and average set size on test data\n",
    "metrics = evaluate_sets(pred_sets, y_true)"
   ]
  },
  {
   "cell_type": "markdown",
   "id": "2b569c12-9aaa-4c88-98c9-bbcd0cf3ebb8",
   "metadata": {
    "papermill": {
     "duration": 0.025714,
     "end_time": "2025-07-28T10:40:39.491310",
     "exception": false,
     "start_time": "2025-07-28T10:40:39.465596",
     "status": "completed"
    },
    "tags": []
   },
   "source": [
    "# CP Metrics"
   ]
  },
  {
   "cell_type": "code",
   "execution_count": 49,
   "id": "5ce0a5cb-201f-45a0-ade5-94c7f0bd6095",
   "metadata": {
    "execution": {
     "iopub.execute_input": "2025-07-28T10:40:39.544315Z",
     "iopub.status.busy": "2025-07-28T10:40:39.543687Z",
     "iopub.status.idle": "2025-07-28T10:40:39.550860Z",
     "shell.execute_reply": "2025-07-28T10:40:39.549917Z"
    },
    "papermill": {
     "duration": 0.035783,
     "end_time": "2025-07-28T10:40:39.552625",
     "exception": false,
     "start_time": "2025-07-28T10:40:39.516842",
     "status": "completed"
    },
    "tags": []
   },
   "outputs": [
    {
     "data": {
      "text/plain": [
       "{'coverage': 0.9098428268866348, 'avg_size': 1.147553227064987}"
      ]
     },
     "execution_count": 49,
     "metadata": {},
     "output_type": "execute_result"
    }
   ],
   "source": [
    "metrics"
   ]
  },
  {
   "cell_type": "code",
   "execution_count": 50,
   "id": "9b9a838d-31c9-430b-ae14-12baee460d17",
   "metadata": {
    "execution": {
     "iopub.execute_input": "2025-07-28T10:40:39.607583Z",
     "iopub.status.busy": "2025-07-28T10:40:39.606036Z",
     "iopub.status.idle": "2025-07-28T10:40:39.613250Z",
     "shell.execute_reply": "2025-07-28T10:40:39.612199Z"
    },
    "papermill": {
     "duration": 0.035692,
     "end_time": "2025-07-28T10:40:39.614967",
     "exception": false,
     "start_time": "2025-07-28T10:40:39.579275",
     "status": "completed"
    },
    "tags": []
   },
   "outputs": [],
   "source": [
    "example_universe = universe.copy()\n",
    "universe_training_size = example_universe.get(\"training_size\")\n",
    "universe_scale = example_universe.get(\"scale\")\n",
    "universe_model = example_universe.get(\"model\")\n",
    "universe_exclude_features = example_universe.get(\"exclude_features\")\n",
    "universe_exclude_subgroups = example_universe.get(\"exclude_subgroups\")"
   ]
  },
  {
   "cell_type": "code",
   "execution_count": 51,
   "id": "f4b6a8ac-9dc0-4245-8a91-5b3b5999c4f9",
   "metadata": {
    "execution": {
     "iopub.execute_input": "2025-07-28T10:40:39.661122Z",
     "iopub.status.busy": "2025-07-28T10:40:39.660308Z",
     "iopub.status.idle": "2025-07-28T10:40:39.667141Z",
     "shell.execute_reply": "2025-07-28T10:40:39.666128Z"
    },
    "papermill": {
     "duration": 0.031436,
     "end_time": "2025-07-28T10:40:39.668791",
     "exception": false,
     "start_time": "2025-07-28T10:40:39.637355",
     "status": "completed"
    },
    "tags": []
   },
   "outputs": [],
   "source": [
    "cp_metrics_dict = {\n",
    "    \"universe_id\": [universe_id],\n",
    "    \"universe_training_size\": [universe_training_size],\n",
    "    \"universe_scale\": [universe_scale],\n",
    "    \"universe_model\": [universe_model],\n",
    "    \"universe_exclude_features\": [universe_exclude_features],\n",
    "    \"universe_exclude_subgroups\": [universe_exclude_subgroups],\n",
    "    \"q_hat\": [q_hat],\n",
    "    \"coverage\": [metrics[\"coverage\"]],\n",
    "    \"avg_size\": [metrics[\"avg_size\"]],\n",
    "}"
   ]
  },
  {
   "cell_type": "code",
   "execution_count": 52,
   "id": "908acbb1-0371-4915-85ca-3fa520d2efe2",
   "metadata": {
    "execution": {
     "iopub.execute_input": "2025-07-28T10:40:39.714193Z",
     "iopub.status.busy": "2025-07-28T10:40:39.713679Z",
     "iopub.status.idle": "2025-07-28T10:40:39.721501Z",
     "shell.execute_reply": "2025-07-28T10:40:39.720547Z"
    },
    "papermill": {
     "duration": 0.032153,
     "end_time": "2025-07-28T10:40:39.723041",
     "exception": false,
     "start_time": "2025-07-28T10:40:39.690888",
     "status": "completed"
    },
    "tags": []
   },
   "outputs": [
    {
     "data": {
      "text/plain": [
       "{'universe_id': ['6a5715468602e0d6861240d43259d6c4'],\n",
       " 'universe_training_size': ['5k'],\n",
       " 'universe_scale': ['do-not-scale'],\n",
       " 'universe_model': ['elasticnet'],\n",
       " 'universe_exclude_features': ['none'],\n",
       " 'universe_exclude_subgroups': ['keep-all'],\n",
       " 'q_hat': [0.6859161035066637],\n",
       " 'coverage': [0.9098428268866348],\n",
       " 'avg_size': [1.147553227064987]}"
      ]
     },
     "execution_count": 52,
     "metadata": {},
     "output_type": "execute_result"
    }
   ],
   "source": [
    "cp_metrics_dict"
   ]
  },
  {
   "cell_type": "code",
   "execution_count": 53,
   "id": "33007efc-14e9-4ec6-97ac-56a455c82265",
   "metadata": {
    "execution": {
     "iopub.execute_input": "2025-07-28T10:40:39.768968Z",
     "iopub.status.busy": "2025-07-28T10:40:39.768426Z",
     "iopub.status.idle": "2025-07-28T10:40:39.787200Z",
     "shell.execute_reply": "2025-07-28T10:40:39.786403Z"
    },
    "papermill": {
     "duration": 0.043061,
     "end_time": "2025-07-28T10:40:39.788551",
     "exception": false,
     "start_time": "2025-07-28T10:40:39.745490",
     "status": "completed"
    },
    "tags": []
   },
   "outputs": [],
   "source": [
    "cp_metrics_df = pd.DataFrame(cp_metrics_dict)"
   ]
  },
  {
   "cell_type": "code",
   "execution_count": 54,
   "id": "db12611b-57b2-4910-b9d0-355adfd6e7bf",
   "metadata": {
    "execution": {
     "iopub.execute_input": "2025-07-28T10:40:39.815250Z",
     "iopub.status.busy": "2025-07-28T10:40:39.814842Z",
     "iopub.status.idle": "2025-07-28T10:40:39.829660Z",
     "shell.execute_reply": "2025-07-28T10:40:39.828779Z"
    },
    "papermill": {
     "duration": 0.029251,
     "end_time": "2025-07-28T10:40:39.831058",
     "exception": false,
     "start_time": "2025-07-28T10:40:39.801807",
     "status": "completed"
    },
    "tags": []
   },
   "outputs": [
    {
     "data": {
      "text/html": [
       "<div>\n",
       "<style scoped>\n",
       "    .dataframe tbody tr th:only-of-type {\n",
       "        vertical-align: middle;\n",
       "    }\n",
       "\n",
       "    .dataframe tbody tr th {\n",
       "        vertical-align: top;\n",
       "    }\n",
       "\n",
       "    .dataframe thead th {\n",
       "        text-align: right;\n",
       "    }\n",
       "</style>\n",
       "<table border=\"1\" class=\"dataframe\">\n",
       "  <thead>\n",
       "    <tr style=\"text-align: right;\">\n",
       "      <th></th>\n",
       "      <th>universe_id</th>\n",
       "      <th>universe_training_size</th>\n",
       "      <th>universe_scale</th>\n",
       "      <th>universe_model</th>\n",
       "      <th>universe_exclude_features</th>\n",
       "      <th>universe_exclude_subgroups</th>\n",
       "      <th>q_hat</th>\n",
       "      <th>coverage</th>\n",
       "      <th>avg_size</th>\n",
       "    </tr>\n",
       "  </thead>\n",
       "  <tbody>\n",
       "    <tr>\n",
       "      <th>0</th>\n",
       "      <td>6a5715468602e0d6861240d43259d6c4</td>\n",
       "      <td>5k</td>\n",
       "      <td>do-not-scale</td>\n",
       "      <td>elasticnet</td>\n",
       "      <td>none</td>\n",
       "      <td>keep-all</td>\n",
       "      <td>0.685916</td>\n",
       "      <td>0.909843</td>\n",
       "      <td>1.147553</td>\n",
       "    </tr>\n",
       "  </tbody>\n",
       "</table>\n",
       "</div>"
      ],
      "text/plain": [
       "                        universe_id universe_training_size universe_scale  \\\n",
       "0  6a5715468602e0d6861240d43259d6c4                     5k   do-not-scale   \n",
       "\n",
       "  universe_model universe_exclude_features universe_exclude_subgroups  \\\n",
       "0     elasticnet                      none                   keep-all   \n",
       "\n",
       "      q_hat  coverage  avg_size  \n",
       "0  0.685916  0.909843  1.147553  "
      ]
     },
     "execution_count": 54,
     "metadata": {},
     "output_type": "execute_result"
    }
   ],
   "source": [
    "cp_metrics_df"
   ]
  },
  {
   "cell_type": "code",
   "execution_count": 55,
   "id": "b7fbde55-a0a1-47e4-9af6-fe4a17fa8c61",
   "metadata": {
    "execution": {
     "iopub.execute_input": "2025-07-28T10:40:39.858363Z",
     "iopub.status.busy": "2025-07-28T10:40:39.857796Z",
     "iopub.status.idle": "2025-07-28T10:40:39.862117Z",
     "shell.execute_reply": "2025-07-28T10:40:39.861366Z"
    },
    "papermill": {
     "duration": 0.019643,
     "end_time": "2025-07-28T10:40:39.863545",
     "exception": false,
     "start_time": "2025-07-28T10:40:39.843902",
     "status": "completed"
    },
    "tags": []
   },
   "outputs": [],
   "source": [
    "# Conditional Coverage & looking at subgroups"
   ]
  },
  {
   "cell_type": "code",
   "execution_count": 56,
   "id": "027ae886-68dd-4141-96c7-805a5450e1ef",
   "metadata": {
    "execution": {
     "iopub.execute_input": "2025-07-28T10:40:39.891137Z",
     "iopub.status.busy": "2025-07-28T10:40:39.890625Z",
     "iopub.status.idle": "2025-07-28T10:40:40.074696Z",
     "shell.execute_reply": "2025-07-28T10:40:40.073862Z"
    },
    "papermill": {
     "duration": 0.199478,
     "end_time": "2025-07-28T10:40:40.076254",
     "exception": false,
     "start_time": "2025-07-28T10:40:39.876776",
     "status": "completed"
    },
    "tags": []
   },
   "outputs": [],
   "source": [
    "from fairness_multiverse.conformal import build_cp_groups\n",
    "\n",
    "cp_groups_df = build_cp_groups(pred_sets, y_true, X_test.index, org_test)\n",
    "#needs universe_id and setting"
   ]
  },
  {
   "cell_type": "code",
   "execution_count": 57,
   "id": "01d5802c-663a-4d1f-9d69-e036faaffbf7",
   "metadata": {
    "execution": {
     "iopub.execute_input": "2025-07-28T10:40:40.103905Z",
     "iopub.status.busy": "2025-07-28T10:40:40.103220Z",
     "iopub.status.idle": "2025-07-28T10:40:40.107543Z",
     "shell.execute_reply": "2025-07-28T10:40:40.106704Z"
    },
    "papermill": {
     "duration": 0.019096,
     "end_time": "2025-07-28T10:40:40.108895",
     "exception": false,
     "start_time": "2025-07-28T10:40:40.089799",
     "status": "completed"
    },
    "tags": []
   },
   "outputs": [],
   "source": [
    "#delete\n",
    "#cp_groups_df"
   ]
  },
  {
   "cell_type": "code",
   "execution_count": 58,
   "id": "fa424af1-d1eb-443d-b717-2d279ada8408",
   "metadata": {
    "execution": {
     "iopub.execute_input": "2025-07-28T10:40:40.136400Z",
     "iopub.status.busy": "2025-07-28T10:40:40.135698Z",
     "iopub.status.idle": "2025-07-28T10:40:40.140182Z",
     "shell.execute_reply": "2025-07-28T10:40:40.139358Z"
    },
    "papermill": {
     "duration": 0.019367,
     "end_time": "2025-07-28T10:40:40.141543",
     "exception": false,
     "start_time": "2025-07-28T10:40:40.122176",
     "status": "completed"
    },
    "tags": []
   },
   "outputs": [],
   "source": [
    "#delete\n",
    "#percentage = (cp_groups_df['nongerman_female'] == 1).mean() * 100\n",
    "#print(percentage)\n"
   ]
  },
  {
   "cell_type": "code",
   "execution_count": 59,
   "id": "6cbdab96-b2b2-45af-ad54-d0516db2e28d",
   "metadata": {
    "execution": {
     "iopub.execute_input": "2025-07-28T10:40:40.168770Z",
     "iopub.status.busy": "2025-07-28T10:40:40.168130Z",
     "iopub.status.idle": "2025-07-28T10:40:41.220323Z",
     "shell.execute_reply": "2025-07-28T10:40:41.219496Z"
    },
    "papermill": {
     "duration": 1.06709,
     "end_time": "2025-07-28T10:40:41.221871",
     "exception": false,
     "start_time": "2025-07-28T10:40:40.154781",
     "status": "completed"
    },
    "tags": []
   },
   "outputs": [],
   "source": [
    "# Define covered = 1 if true_label is in the predicted set\n",
    "cp_groups_df['covered'] = cp_groups_df.apply(\n",
    "    lambda r: int(r['true_label'] in r['pred_set']),\n",
    "    axis=1\n",
    ")"
   ]
  },
  {
   "cell_type": "code",
   "execution_count": 60,
   "id": "338ff529-1a6b-4b87-a931-8e4788d52aad",
   "metadata": {
    "execution": {
     "iopub.execute_input": "2025-07-28T10:40:41.253945Z",
     "iopub.status.busy": "2025-07-28T10:40:41.253459Z",
     "iopub.status.idle": "2025-07-28T10:40:41.257615Z",
     "shell.execute_reply": "2025-07-28T10:40:41.256818Z"
    },
    "papermill": {
     "duration": 0.019371,
     "end_time": "2025-07-28T10:40:41.259006",
     "exception": false,
     "start_time": "2025-07-28T10:40:41.239635",
     "status": "completed"
    },
    "tags": []
   },
   "outputs": [],
   "source": [
    "#cp_groups_df"
   ]
  },
  {
   "cell_type": "code",
   "execution_count": 61,
   "id": "90032e27-66df-4540-9169-4e89cfbaa758",
   "metadata": {
    "execution": {
     "iopub.execute_input": "2025-07-28T10:40:41.293006Z",
     "iopub.status.busy": "2025-07-28T10:40:41.292543Z",
     "iopub.status.idle": "2025-07-28T10:40:41.303669Z",
     "shell.execute_reply": "2025-07-28T10:40:41.302644Z"
    },
    "papermill": {
     "duration": 0.033046,
     "end_time": "2025-07-28T10:40:41.305467",
     "exception": false,
     "start_time": "2025-07-28T10:40:41.272421",
     "status": "completed"
    },
    "tags": []
   },
   "outputs": [],
   "source": [
    "subgroups = ['frau1','nongerman','nongerman_male','nongerman_female']\n",
    "\n",
    "# Conditional coverage for subgroup==1\n",
    "cond_coverage = {\n",
    "    g: cp_groups_df.loc[cp_groups_df[g]==1, 'covered'].mean()\n",
    "    for g in subgroups\n",
    "}"
   ]
  },
  {
   "cell_type": "code",
   "execution_count": 62,
   "id": "1e348fb1-b9c3-45bc-ba23-f016827a7e0d",
   "metadata": {
    "execution": {
     "iopub.execute_input": "2025-07-28T10:40:41.355381Z",
     "iopub.status.busy": "2025-07-28T10:40:41.354432Z",
     "iopub.status.idle": "2025-07-28T10:40:41.361979Z",
     "shell.execute_reply": "2025-07-28T10:40:41.361047Z"
    },
    "papermill": {
     "duration": 0.034142,
     "end_time": "2025-07-28T10:40:41.363554",
     "exception": false,
     "start_time": "2025-07-28T10:40:41.329412",
     "status": "completed"
    },
    "tags": []
   },
   "outputs": [
    {
     "data": {
      "text/plain": [
       "{'frau1': 0.9095835018196522,\n",
       " 'nongerman': 0.911413012968057,\n",
       " 'nongerman_male': 0.9250652976672972,\n",
       " 'nongerman_female': 0.888822652757079}"
      ]
     },
     "execution_count": 62,
     "metadata": {},
     "output_type": "execute_result"
    }
   ],
   "source": [
    "cond_coverage"
   ]
  },
  {
   "cell_type": "code",
   "execution_count": 63,
   "id": "f5093324-c3dd-4d63-bc4c-8d945e5c8bbb",
   "metadata": {
    "execution": {
     "iopub.execute_input": "2025-07-28T10:40:41.419846Z",
     "iopub.status.busy": "2025-07-28T10:40:41.419143Z",
     "iopub.status.idle": "2025-07-28T10:40:41.479065Z",
     "shell.execute_reply": "2025-07-28T10:40:41.477827Z"
    },
    "papermill": {
     "duration": 0.092892,
     "end_time": "2025-07-28T10:40:41.481386",
     "exception": false,
     "start_time": "2025-07-28T10:40:41.388494",
     "status": "completed"
    },
    "tags": []
   },
   "outputs": [],
   "source": [
    "for subgroup, cov in cond_coverage.items():\n",
    "    cp_metrics_df[f\"cov_{subgroup}\"] = cov"
   ]
  },
  {
   "cell_type": "code",
   "execution_count": 64,
   "id": "6e872e10-dbe5-49e8-b554-5030c98ff75d",
   "metadata": {
    "execution": {
     "iopub.execute_input": "2025-07-28T10:40:41.524045Z",
     "iopub.status.busy": "2025-07-28T10:40:41.523425Z",
     "iopub.status.idle": "2025-07-28T10:40:41.538064Z",
     "shell.execute_reply": "2025-07-28T10:40:41.537333Z"
    },
    "papermill": {
     "duration": 0.030232,
     "end_time": "2025-07-28T10:40:41.539458",
     "exception": false,
     "start_time": "2025-07-28T10:40:41.509226",
     "status": "completed"
    },
    "tags": []
   },
   "outputs": [
    {
     "data": {
      "text/html": [
       "<div>\n",
       "<style scoped>\n",
       "    .dataframe tbody tr th:only-of-type {\n",
       "        vertical-align: middle;\n",
       "    }\n",
       "\n",
       "    .dataframe tbody tr th {\n",
       "        vertical-align: top;\n",
       "    }\n",
       "\n",
       "    .dataframe thead th {\n",
       "        text-align: right;\n",
       "    }\n",
       "</style>\n",
       "<table border=\"1\" class=\"dataframe\">\n",
       "  <thead>\n",
       "    <tr style=\"text-align: right;\">\n",
       "      <th></th>\n",
       "      <th>universe_id</th>\n",
       "      <th>universe_training_size</th>\n",
       "      <th>universe_scale</th>\n",
       "      <th>universe_model</th>\n",
       "      <th>universe_exclude_features</th>\n",
       "      <th>universe_exclude_subgroups</th>\n",
       "      <th>q_hat</th>\n",
       "      <th>coverage</th>\n",
       "      <th>avg_size</th>\n",
       "      <th>cov_frau1</th>\n",
       "      <th>cov_nongerman</th>\n",
       "      <th>cov_nongerman_male</th>\n",
       "      <th>cov_nongerman_female</th>\n",
       "    </tr>\n",
       "  </thead>\n",
       "  <tbody>\n",
       "    <tr>\n",
       "      <th>0</th>\n",
       "      <td>6a5715468602e0d6861240d43259d6c4</td>\n",
       "      <td>5k</td>\n",
       "      <td>do-not-scale</td>\n",
       "      <td>elasticnet</td>\n",
       "      <td>none</td>\n",
       "      <td>keep-all</td>\n",
       "      <td>0.685916</td>\n",
       "      <td>0.909843</td>\n",
       "      <td>1.147553</td>\n",
       "      <td>0.909584</td>\n",
       "      <td>0.911413</td>\n",
       "      <td>0.925065</td>\n",
       "      <td>0.888823</td>\n",
       "    </tr>\n",
       "  </tbody>\n",
       "</table>\n",
       "</div>"
      ],
      "text/plain": [
       "                        universe_id universe_training_size universe_scale  \\\n",
       "0  6a5715468602e0d6861240d43259d6c4                     5k   do-not-scale   \n",
       "\n",
       "  universe_model universe_exclude_features universe_exclude_subgroups  \\\n",
       "0     elasticnet                      none                   keep-all   \n",
       "\n",
       "      q_hat  coverage  avg_size  cov_frau1  cov_nongerman  cov_nongerman_male  \\\n",
       "0  0.685916  0.909843  1.147553   0.909584       0.911413            0.925065   \n",
       "\n",
       "   cov_nongerman_female  \n",
       "0              0.888823  "
      ]
     },
     "execution_count": 64,
     "metadata": {},
     "output_type": "execute_result"
    }
   ],
   "source": [
    "cp_metrics_df"
   ]
  },
  {
   "cell_type": "markdown",
   "id": "33774451",
   "metadata": {
    "papermill": {
     "duration": 0.017124,
     "end_time": "2025-07-28T10:40:41.570434",
     "exception": false,
     "start_time": "2025-07-28T10:40:41.553310",
     "status": "completed"
    },
    "tags": []
   },
   "source": [
    "# (Fairness) Metrics"
   ]
  },
  {
   "cell_type": "code",
   "execution_count": 65,
   "id": "debc5d62",
   "metadata": {
    "execution": {
     "iopub.execute_input": "2025-07-28T10:40:41.598418Z",
     "iopub.status.busy": "2025-07-28T10:40:41.597707Z",
     "iopub.status.idle": "2025-07-28T10:40:41.613510Z",
     "shell.execute_reply": "2025-07-28T10:40:41.612193Z"
    },
    "papermill": {
     "duration": 0.031401,
     "end_time": "2025-07-28T10:40:41.615144",
     "exception": false,
     "start_time": "2025-07-28T10:40:41.583743",
     "status": "completed"
    },
    "tags": []
   },
   "outputs": [],
   "source": [
    "# do I need to include maxdeutsch1.missing?\n",
    "\n",
    "import numpy as np\n",
    "\n",
    "colname_to_bin = \"maxdeutsch1\"\n",
    "majority_value = org_train[colname_to_bin].mode()[0]\n",
    "\n",
    "org_test[\"majmin\"] = np.where(org_test[colname_to_bin] == majority_value, \"majority\", \"minority\")"
   ]
  },
  {
   "cell_type": "code",
   "execution_count": 66,
   "id": "06a50de5",
   "metadata": {
    "execution": {
     "iopub.execute_input": "2025-07-28T10:40:41.666418Z",
     "iopub.status.busy": "2025-07-28T10:40:41.665551Z",
     "iopub.status.idle": "2025-07-28T10:40:44.106993Z",
     "shell.execute_reply": "2025-07-28T10:40:44.106021Z"
    },
    "papermill": {
     "duration": 2.468866,
     "end_time": "2025-07-28T10:40:44.108678",
     "exception": false,
     "start_time": "2025-07-28T10:40:41.639812",
     "status": "completed"
    },
    "tags": []
   },
   "outputs": [],
   "source": [
    "example_universe = universe.copy()\n",
    "example_universe[\"cutoff\"] = example_universe[\"cutoff\"][0]\n",
    "example_universe[\"eval_fairness_grouping\"] = example_universe[\"eval_fairness_grouping\"][0]\n",
    "fairness_dict, metric_frame = universe_analysis.compute_metrics(\n",
    "    example_universe,\n",
    "    y_pred_prob=probs_test,\n",
    "    y_test=y_true,\n",
    "    org_test=org_test,\n",
    ")"
   ]
  },
  {
   "cell_type": "markdown",
   "id": "f95d4e02",
   "metadata": {
    "papermill": {
     "duration": 0.012984,
     "end_time": "2025-07-28T10:40:44.137880",
     "exception": false,
     "start_time": "2025-07-28T10:40:44.124896",
     "status": "completed"
    },
    "tags": []
   },
   "source": [
    "# Overall"
   ]
  },
  {
   "cell_type": "markdown",
   "id": "bdee4871",
   "metadata": {
    "papermill": {
     "duration": 0.01319,
     "end_time": "2025-07-28T10:40:44.164097",
     "exception": false,
     "start_time": "2025-07-28T10:40:44.150907",
     "status": "completed"
    },
    "tags": []
   },
   "source": [
    "Fairness\n",
    "Main fairness target: Equalized Odds. Seems to be a better fit than equal opportunity, since we're not only interested in Y = 1. Seems to be a better fit than demographic parity, since we also care about accuracy, not just equal distribution of preds.\n",
    "\n",
    "Pick column for computation of fairness metrics\n",
    "\n",
    "Performance\n",
    "Overall performance measures, most interesting in relation to the measures split by group below"
   ]
  },
  {
   "cell_type": "code",
   "execution_count": 67,
   "id": "c4e067c6",
   "metadata": {
    "execution": {
     "iopub.execute_input": "2025-07-28T10:40:44.192147Z",
     "iopub.status.busy": "2025-07-28T10:40:44.191674Z",
     "iopub.status.idle": "2025-07-28T10:40:44.200232Z",
     "shell.execute_reply": "2025-07-28T10:40:44.199463Z"
    },
    "papermill": {
     "duration": 0.024204,
     "end_time": "2025-07-28T10:40:44.201633",
     "exception": false,
     "start_time": "2025-07-28T10:40:44.177429",
     "status": "completed"
    },
    "tags": []
   },
   "outputs": [
    {
     "data": {
      "text/plain": [
       "accuracy                   0.219987\n",
       "balanced accuracy          0.538817\n",
       "f1                         0.241439\n",
       "precision                  0.137926\n",
       "false positive rate        0.890041\n",
       "false negative rate        0.032325\n",
       "selection rate             0.900000\n",
       "count                  89710.000000\n",
       "dtype: float64"
      ]
     },
     "execution_count": 67,
     "metadata": {},
     "output_type": "execute_result"
    }
   ],
   "source": [
    "metric_frame.overall"
   ]
  },
  {
   "cell_type": "markdown",
   "id": "e968fe9d",
   "metadata": {
    "papermill": {
     "duration": 0.013422,
     "end_time": "2025-07-28T10:40:44.229282",
     "exception": false,
     "start_time": "2025-07-28T10:40:44.215860",
     "status": "completed"
    },
    "tags": []
   },
   "source": [
    "By Group"
   ]
  },
  {
   "cell_type": "code",
   "execution_count": 68,
   "id": "ec325bce",
   "metadata": {
    "execution": {
     "iopub.execute_input": "2025-07-28T10:40:44.257786Z",
     "iopub.status.busy": "2025-07-28T10:40:44.257316Z",
     "iopub.status.idle": "2025-07-28T10:40:44.270759Z",
     "shell.execute_reply": "2025-07-28T10:40:44.269910Z"
    },
    "papermill": {
     "duration": 0.029376,
     "end_time": "2025-07-28T10:40:44.272272",
     "exception": false,
     "start_time": "2025-07-28T10:40:44.242896",
     "status": "completed"
    },
    "tags": []
   },
   "outputs": [
    {
     "data": {
      "text/html": [
       "<div>\n",
       "<style scoped>\n",
       "    .dataframe tbody tr th:only-of-type {\n",
       "        vertical-align: middle;\n",
       "    }\n",
       "\n",
       "    .dataframe tbody tr th {\n",
       "        vertical-align: top;\n",
       "    }\n",
       "\n",
       "    .dataframe thead th {\n",
       "        text-align: right;\n",
       "    }\n",
       "</style>\n",
       "<table border=\"1\" class=\"dataframe\">\n",
       "  <thead>\n",
       "    <tr style=\"text-align: right;\">\n",
       "      <th></th>\n",
       "      <th>accuracy</th>\n",
       "      <th>balanced accuracy</th>\n",
       "      <th>f1</th>\n",
       "      <th>precision</th>\n",
       "      <th>false positive rate</th>\n",
       "      <th>false negative rate</th>\n",
       "      <th>selection rate</th>\n",
       "      <th>count</th>\n",
       "    </tr>\n",
       "    <tr>\n",
       "      <th>majmin</th>\n",
       "      <th></th>\n",
       "      <th></th>\n",
       "      <th></th>\n",
       "      <th></th>\n",
       "      <th></th>\n",
       "      <th></th>\n",
       "      <th></th>\n",
       "      <th></th>\n",
       "    </tr>\n",
       "  </thead>\n",
       "  <tbody>\n",
       "    <tr>\n",
       "      <th>majority</th>\n",
       "      <td>0.241781</td>\n",
       "      <td>0.547494</td>\n",
       "      <td>0.251306</td>\n",
       "      <td>0.144508</td>\n",
       "      <td>0.868033</td>\n",
       "      <td>0.036980</td>\n",
       "      <td>0.880584</td>\n",
       "      <td>69170.0</td>\n",
       "    </tr>\n",
       "    <tr>\n",
       "      <th>minority</th>\n",
       "      <td>0.146592</td>\n",
       "      <td>0.511449</td>\n",
       "      <td>0.210299</td>\n",
       "      <td>0.117706</td>\n",
       "      <td>0.962745</td>\n",
       "      <td>0.014358</td>\n",
       "      <td>0.965385</td>\n",
       "      <td>20540.0</td>\n",
       "    </tr>\n",
       "  </tbody>\n",
       "</table>\n",
       "</div>"
      ],
      "text/plain": [
       "          accuracy  balanced accuracy        f1  precision  \\\n",
       "majmin                                                       \n",
       "majority  0.241781           0.547494  0.251306   0.144508   \n",
       "minority  0.146592           0.511449  0.210299   0.117706   \n",
       "\n",
       "          false positive rate  false negative rate  selection rate    count  \n",
       "majmin                                                                       \n",
       "majority             0.868033             0.036980        0.880584  69170.0  \n",
       "minority             0.962745             0.014358        0.965385  20540.0  "
      ]
     },
     "execution_count": 68,
     "metadata": {},
     "output_type": "execute_result"
    }
   ],
   "source": [
    "metric_frame.by_group"
   ]
  },
  {
   "cell_type": "code",
   "execution_count": 69,
   "id": "a9ddbe63",
   "metadata": {
    "execution": {
     "iopub.execute_input": "2025-07-28T10:40:44.301339Z",
     "iopub.status.busy": "2025-07-28T10:40:44.300510Z",
     "iopub.status.idle": "2025-07-28T10:40:46.211429Z",
     "shell.execute_reply": "2025-07-28T10:40:46.210639Z"
    },
    "papermill": {
     "duration": 1.92651,
     "end_time": "2025-07-28T10:40:46.212843",
     "exception": false,
     "start_time": "2025-07-28T10:40:44.286333",
     "status": "completed"
    },
    "tags": []
   },
   "outputs": [
    {
     "data": {
      "text/plain": [
       "array([[<Axes: title={'center': 'accuracy'}, xlabel='majmin'>,\n",
       "        <Axes: title={'center': 'balanced accuracy'}, xlabel='majmin'>,\n",
       "        <Axes: title={'center': 'f1'}, xlabel='majmin'>],\n",
       "       [<Axes: title={'center': 'precision'}, xlabel='majmin'>,\n",
       "        <Axes: title={'center': 'false positive rate'}, xlabel='majmin'>,\n",
       "        <Axes: title={'center': 'false negative rate'}, xlabel='majmin'>],\n",
       "       [<Axes: title={'center': 'selection rate'}, xlabel='majmin'>,\n",
       "        <Axes: title={'center': 'count'}, xlabel='majmin'>,\n",
       "        <Axes: xlabel='majmin'>]], dtype=object)"
      ]
     },
     "execution_count": 69,
     "metadata": {},
     "output_type": "execute_result"
    },
    {
     "data": {
      "image/png": "[encoded data removed]",
      "text/plain": [
       "<Figure size 1200x800 with 9 Axes>"
      ]
     },
     "metadata": {},
     "output_type": "display_data"
    }
   ],
   "source": [
    "# In a graphic\n",
    "metric_frame.by_group.plot.bar(\n",
    "    subplots=True,\n",
    "    layout=[3, 3],\n",
    "    legend=False,\n",
    "    figsize=[12, 8],\n",
    "    title=\"Show all metrics\",\n",
    ")"
   ]
  },
  {
   "cell_type": "markdown",
   "id": "f57a0bac",
   "metadata": {
    "papermill": {
     "duration": 0.017881,
     "end_time": "2025-07-28T10:40:46.246236",
     "exception": false,
     "start_time": "2025-07-28T10:40:46.228355",
     "status": "completed"
    },
    "tags": []
   },
   "source": [
    "# Final Output"
   ]
  },
  {
   "cell_type": "code",
   "execution_count": 70,
   "id": "96d280a3",
   "metadata": {
    "execution": {
     "iopub.execute_input": "2025-07-28T10:40:46.277695Z",
     "iopub.status.busy": "2025-07-28T10:40:46.276874Z",
     "iopub.status.idle": "2025-07-28T10:40:46.283803Z",
     "shell.execute_reply": "2025-07-28T10:40:46.283017Z"
    },
    "papermill": {
     "duration": 0.023969,
     "end_time": "2025-07-28T10:40:46.285225",
     "exception": false,
     "start_time": "2025-07-28T10:40:46.261256",
     "status": "completed"
    },
    "tags": []
   },
   "outputs": [
    {
     "data": {
      "text/plain": [
       "4"
      ]
     },
     "execution_count": 70,
     "metadata": {},
     "output_type": "execute_result"
    }
   ],
   "source": [
    "sub_universes = universe_analysis.generate_sub_universes()\n",
    "len(sub_universes)"
   ]
  },
  {
   "cell_type": "code",
   "execution_count": 71,
   "id": "92adf7ba",
   "metadata": {
    "execution": {
     "iopub.execute_input": "2025-07-28T10:40:46.321233Z",
     "iopub.status.busy": "2025-07-28T10:40:46.320725Z",
     "iopub.status.idle": "2025-07-28T10:40:46.325999Z",
     "shell.execute_reply": "2025-07-28T10:40:46.325170Z"
    },
    "papermill": {
     "duration": 0.022,
     "end_time": "2025-07-28T10:40:46.327314",
     "exception": false,
     "start_time": "2025-07-28T10:40:46.305314",
     "status": "completed"
    },
    "tags": []
   },
   "outputs": [],
   "source": [
    "def filter_sub_universe_data(sub_universe, org_test):\n",
    "    # Keep all rows — no filtering\n",
    "    keep_rows_mask = np.ones(org_test.shape[0], dtype=bool)\n",
    "\n",
    "    print(f\"[INFO] Keeping all rows: {keep_rows_mask.sum()} rows retained.\")\n",
    "    return keep_rows_mask"
   ]
  },
  {
   "cell_type": "code",
   "execution_count": 72,
   "id": "4a759155",
   "metadata": {
    "execution": {
     "iopub.execute_input": "2025-07-28T10:40:46.362790Z",
     "iopub.status.busy": "2025-07-28T10:40:46.362369Z",
     "iopub.status.idle": "2025-07-28T10:40:58.350081Z",
     "shell.execute_reply": "2025-07-28T10:40:58.349175Z"
    },
    "papermill": {
     "duration": 12.006929,
     "end_time": "2025-07-28T10:40:58.351701",
     "exception": false,
     "start_time": "2025-07-28T10:40:46.344772",
     "status": "completed"
    },
    "tags": []
   },
   "outputs": [
    {
     "name": "stdout",
     "output_type": "stream",
     "text": [
      "Stopping execution_time clock.\n",
      "[INFO] Keeping all rows: 89710 rows retained.\n"
     ]
    },
    {
     "name": "stdout",
     "output_type": "stream",
     "text": [
      "[INFO] Keeping all rows: 89710 rows retained.\n"
     ]
    },
    {
     "name": "stdout",
     "output_type": "stream",
     "text": [
      "[INFO] Keeping all rows: 89710 rows retained.\n"
     ]
    },
    {
     "name": "stdout",
     "output_type": "stream",
     "text": [
      "[INFO] Keeping all rows: 89710 rows retained.\n"
     ]
    },
    {
     "data": {
      "text/html": [
       "<div>\n",
       "<style scoped>\n",
       "    .dataframe tbody tr th:only-of-type {\n",
       "        vertical-align: middle;\n",
       "    }\n",
       "\n",
       "    .dataframe tbody tr th {\n",
       "        vertical-align: top;\n",
       "    }\n",
       "\n",
       "    .dataframe thead th {\n",
       "        text-align: right;\n",
       "    }\n",
       "</style>\n",
       "<table border=\"1\" class=\"dataframe\">\n",
       "  <thead>\n",
       "    <tr style=\"text-align: right;\">\n",
       "      <th></th>\n",
       "      <th>run_no</th>\n",
       "      <th>universe_id</th>\n",
       "      <th>universe_settings</th>\n",
       "      <th>execution_time</th>\n",
       "      <th>test_size_n</th>\n",
       "      <th>test_size_frac</th>\n",
       "      <th>fair_main_equalized_odds_difference</th>\n",
       "      <th>fair_main_equalized_odds_ratio</th>\n",
       "      <th>fair_main_demographic_parity_difference</th>\n",
       "      <th>fair_main_demographic_parity_ratio</th>\n",
       "      <th>...</th>\n",
       "      <th>perf_grp_precision_0</th>\n",
       "      <th>perf_grp_precision_1</th>\n",
       "      <th>perf_grp_false positive rate_0</th>\n",
       "      <th>perf_grp_false positive rate_1</th>\n",
       "      <th>perf_grp_false negative rate_0</th>\n",
       "      <th>perf_grp_false negative rate_1</th>\n",
       "      <th>perf_grp_selection rate_0</th>\n",
       "      <th>perf_grp_selection rate_1</th>\n",
       "      <th>perf_grp_count_0</th>\n",
       "      <th>perf_grp_count_1</th>\n",
       "    </tr>\n",
       "  </thead>\n",
       "  <tbody>\n",
       "    <tr>\n",
       "      <th>0</th>\n",
       "      <td>11</td>\n",
       "      <td>6a5715468602e0d6861240d43259d6c4</td>\n",
       "      <td>{\"cutoff\": \"quantile_0.1\", \"eval_fairness_grou...</td>\n",
       "      <td>108.132398</td>\n",
       "      <td>89710</td>\n",
       "      <td>1.0</td>\n",
       "      <td>0.094712</td>\n",
       "      <td>0.901623</td>\n",
       "      <td>0.084801</td>\n",
       "      <td>0.912159</td>\n",
       "      <td>...</td>\n",
       "      <td>NaN</td>\n",
       "      <td>NaN</td>\n",
       "      <td>NaN</td>\n",
       "      <td>NaN</td>\n",
       "      <td>NaN</td>\n",
       "      <td>NaN</td>\n",
       "      <td>NaN</td>\n",
       "      <td>NaN</td>\n",
       "      <td>NaN</td>\n",
       "      <td>NaN</td>\n",
       "    </tr>\n",
       "    <tr>\n",
       "      <th>0</th>\n",
       "      <td>11</td>\n",
       "      <td>6a5715468602e0d6861240d43259d6c4</td>\n",
       "      <td>{\"cutoff\": \"quantile_0.1\", \"eval_fairness_grou...</td>\n",
       "      <td>108.132398</td>\n",
       "      <td>89710</td>\n",
       "      <td>1.0</td>\n",
       "      <td>0.094712</td>\n",
       "      <td>0.901623</td>\n",
       "      <td>0.084801</td>\n",
       "      <td>0.912159</td>\n",
       "      <td>...</td>\n",
       "      <td>0.117706</td>\n",
       "      <td>0.144508</td>\n",
       "      <td>0.962745</td>\n",
       "      <td>0.868033</td>\n",
       "      <td>0.014358</td>\n",
       "      <td>0.036980</td>\n",
       "      <td>0.965385</td>\n",
       "      <td>0.880584</td>\n",
       "      <td>20540.0</td>\n",
       "      <td>69170.0</td>\n",
       "    </tr>\n",
       "    <tr>\n",
       "      <th>0</th>\n",
       "      <td>11</td>\n",
       "      <td>6a5715468602e0d6861240d43259d6c4</td>\n",
       "      <td>{\"cutoff\": \"quantile_0.25\", \"eval_fairness_gro...</td>\n",
       "      <td>108.132398</td>\n",
       "      <td>89710</td>\n",
       "      <td>1.0</td>\n",
       "      <td>0.220036</td>\n",
       "      <td>0.754633</td>\n",
       "      <td>0.198086</td>\n",
       "      <td>0.780570</td>\n",
       "      <td>...</td>\n",
       "      <td>NaN</td>\n",
       "      <td>NaN</td>\n",
       "      <td>NaN</td>\n",
       "      <td>NaN</td>\n",
       "      <td>NaN</td>\n",
       "      <td>NaN</td>\n",
       "      <td>NaN</td>\n",
       "      <td>NaN</td>\n",
       "      <td>NaN</td>\n",
       "      <td>NaN</td>\n",
       "    </tr>\n",
       "    <tr>\n",
       "      <th>0</th>\n",
       "      <td>11</td>\n",
       "      <td>6a5715468602e0d6861240d43259d6c4</td>\n",
       "      <td>{\"cutoff\": \"quantile_0.25\", \"eval_fairness_gro...</td>\n",
       "      <td>108.132398</td>\n",
       "      <td>89710</td>\n",
       "      <td>1.0</td>\n",
       "      <td>0.220036</td>\n",
       "      <td>0.754633</td>\n",
       "      <td>0.198086</td>\n",
       "      <td>0.780570</td>\n",
       "      <td>...</td>\n",
       "      <td>0.121130</td>\n",
       "      <td>0.166516</td>\n",
       "      <td>0.896764</td>\n",
       "      <td>0.676728</td>\n",
       "      <td>0.051520</td>\n",
       "      <td>0.112035</td>\n",
       "      <td>0.902726</td>\n",
       "      <td>0.704641</td>\n",
       "      <td>20540.0</td>\n",
       "      <td>69170.0</td>\n",
       "    </tr>\n",
       "  </tbody>\n",
       "</table>\n",
       "<p>4 rows × 50 columns</p>\n",
       "</div>"
      ],
      "text/plain": [
       "  run_no                       universe_id  \\\n",
       "0     11  6a5715468602e0d6861240d43259d6c4   \n",
       "0     11  6a5715468602e0d6861240d43259d6c4   \n",
       "0     11  6a5715468602e0d6861240d43259d6c4   \n",
       "0     11  6a5715468602e0d6861240d43259d6c4   \n",
       "\n",
       "                                   universe_settings  execution_time  \\\n",
       "0  {\"cutoff\": \"quantile_0.1\", \"eval_fairness_grou...      108.132398   \n",
       "0  {\"cutoff\": \"quantile_0.1\", \"eval_fairness_grou...      108.132398   \n",
       "0  {\"cutoff\": \"quantile_0.25\", \"eval_fairness_gro...      108.132398   \n",
       "0  {\"cutoff\": \"quantile_0.25\", \"eval_fairness_gro...      108.132398   \n",
       "\n",
       "   test_size_n  test_size_frac  fair_main_equalized_odds_difference  \\\n",
       "0        89710             1.0                             0.094712   \n",
       "0        89710             1.0                             0.094712   \n",
       "0        89710             1.0                             0.220036   \n",
       "0        89710             1.0                             0.220036   \n",
       "\n",
       "   fair_main_equalized_odds_ratio  fair_main_demographic_parity_difference  \\\n",
       "0                        0.901623                                 0.084801   \n",
       "0                        0.901623                                 0.084801   \n",
       "0                        0.754633                                 0.198086   \n",
       "0                        0.754633                                 0.198086   \n",
       "\n",
       "   fair_main_demographic_parity_ratio  ...  perf_grp_precision_0  \\\n",
       "0                            0.912159  ...                   NaN   \n",
       "0                            0.912159  ...              0.117706   \n",
       "0                            0.780570  ...                   NaN   \n",
       "0                            0.780570  ...              0.121130   \n",
       "\n",
       "   perf_grp_precision_1  perf_grp_false positive rate_0  \\\n",
       "0                   NaN                             NaN   \n",
       "0              0.144508                        0.962745   \n",
       "0                   NaN                             NaN   \n",
       "0              0.166516                        0.896764   \n",
       "\n",
       "   perf_grp_false positive rate_1  perf_grp_false negative rate_0  \\\n",
       "0                             NaN                             NaN   \n",
       "0                        0.868033                        0.014358   \n",
       "0                             NaN                             NaN   \n",
       "0                        0.676728                        0.051520   \n",
       "\n",
       "   perf_grp_false negative rate_1  perf_grp_selection rate_0  \\\n",
       "0                             NaN                        NaN   \n",
       "0                        0.036980                   0.965385   \n",
       "0                             NaN                        NaN   \n",
       "0                        0.112035                   0.902726   \n",
       "\n",
       "   perf_grp_selection rate_1  perf_grp_count_0  perf_grp_count_1  \n",
       "0                        NaN               NaN               NaN  \n",
       "0                   0.880584           20540.0           69170.0  \n",
       "0                        NaN               NaN               NaN  \n",
       "0                   0.704641           20540.0           69170.0  \n",
       "\n",
       "[4 rows x 50 columns]"
      ]
     },
     "execution_count": 72,
     "metadata": {},
     "output_type": "execute_result"
    }
   ],
   "source": [
    "final_output = universe_analysis.generate_final_output(\n",
    "    y_pred_prob=probs_test,\n",
    "    y_test=y_true,\n",
    "    org_test=org_test,\n",
    "    filter_data=filter_sub_universe_data,\n",
    "    cp_metrics_df=cp_metrics_df,\n",
    "    save=True,\n",
    ")\n",
    "final_output"
   ]
  },
  {
   "cell_type": "code",
   "execution_count": null,
   "id": "721ff514-cb11-46f8-b6fc-50392f74b5cb",
   "metadata": {
    "papermill": {
     "duration": 0.028173,
     "end_time": "2025-07-28T10:40:58.411226",
     "exception": false,
     "start_time": "2025-07-28T10:40:58.383053",
     "status": "completed"
    },
    "tags": []
   },
   "outputs": [],
   "source": []
  }
 ],
 "metadata": {
  "celltoolbar": "Tags",
  "kernelspec": {
   "display_name": "Python (CMA Fairness)",
   "language": "python",
   "name": "cma_fair_env"
  },
  "language_info": {
   "codemirror_mode": {
    "name": "ipython",
    "version": 3
   },
   "file_extension": ".py",
   "mimetype": "text/x-python",
   "name": "python",
   "nbconvert_exporter": "python",
   "pygments_lexer": "ipython3",
   "version": "3.10.12"
  },
  "papermill": {
   "default_parameters": {},
   "duration": 124.670587,
   "end_time": "2025-07-28T10:40:59.160389",
   "environment_variables": {},
   "exception": null,
   "input_path": "universe_analysis.ipynb",
   "output_path": "output/runs/11/notebooks/m_11-6a5715468602e0d6861240d43259d6c4.ipynb",
   "parameters": {
    "output_dir": "output",
    "run_no": "11",
    "seed": "2023",
    "universe": "{\"cutoff\": [\"quantile_0.1\", \"quantile_0.25\"], \"eval_fairness_grouping\": [\"majority-minority\", \"nationality-all\"], \"exclude_features\": \"none\", \"exclude_subgroups\": \"keep-all\", \"model\": \"elasticnet\", \"scale\": \"do-not-scale\", \"training_size\": \"5k\"}",
    "universe_id": "6a5715468602e0d6861240d43259d6c4"
   },
   "start_time": "2025-07-28T10:38:54.489802",
   "version": "2.6.0"
  }
 },
 "nbformat": 4,
 "nbformat_minor": 5
}