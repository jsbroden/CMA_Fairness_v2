{
 "cells": [
  {
   "cell_type": "code",
   "execution_count": 1,
   "id": "f159f837-637b-42ba-96b5-ec9a68c44524",
   "metadata": {
    "execution": {
     "iopub.execute_input": "2025-07-28T11:05:25.694804Z",
     "iopub.status.busy": "2025-07-28T11:05:25.694360Z",
     "iopub.status.idle": "2025-07-28T11:05:25.712242Z",
     "shell.execute_reply": "2025-07-28T11:05:25.711151Z"
    },
    "papermill": {
     "duration": 0.07181,
     "end_time": "2025-07-28T11:05:25.713963",
     "exception": false,
     "start_time": "2025-07-28T11:05:25.642153",
     "status": "completed"
    },
    "tags": []
   },
   "outputs": [
    {
     "name": "stdout",
     "output_type": "stream",
     "text": [
      "/dss/dsshome1/0C/ra93lal2/cma/CMA_Fairness_v2\n"
     ]
    },
    {
     "name": "stderr",
     "output_type": "stream",
     "text": [
      "/dss/dsshome1/0C/ra93lal2/.local/share/virtualenvs/CMA_Fairness_v2-3j10GkSs/lib/python3.10/site-packages/IPython/core/magics/osm.py:393: UserWarning: This is now an optional IPython functionality, using bookmarks requires you to install the `pickleshare` library.\n",
      "  bkms = self.shell.db.get('bookmarks', {})\n",
      "/dss/dsshome1/0C/ra93lal2/.local/share/virtualenvs/CMA_Fairness_v2-3j10GkSs/lib/python3.10/site-packages/IPython/core/magics/osm.py:417: UserWarning: This is now an optional IPython functionality, setting dhist requires you to install the `pickleshare` library.\n",
      "  self.shell.db['dhist'] = compress_dhist(dhist)[-100:]\n"
     ]
    }
   ],
   "source": [
    "%cd ~/cma/CMA_Fairness_v2"
   ]
  },
  {
   "cell_type": "markdown",
   "id": "de2603b9",
   "metadata": {
    "papermill": {
     "duration": 0.064085,
     "end_time": "2025-07-28T11:05:25.840431",
     "exception": false,
     "start_time": "2025-07-28T11:05:25.776346",
     "status": "completed"
    },
    "tags": []
   },
   "source": [
    "The following cell holds the definition of our parameters, these values can be overriden by rendering the with e.g. the following command:\n",
    "\n",
    "papermill -p alpha 0.2 -p ratio 0.3 universe_analysis.ipynb output/test_run.ipynb"
   ]
  },
  {
   "cell_type": "code",
   "execution_count": 2,
   "id": "a80968a0-40bb-4fa9-85ef-2d5eefb01975",
   "metadata": {
    "execution": {
     "iopub.execute_input": "2025-07-28T11:05:25.950742Z",
     "iopub.status.busy": "2025-07-28T11:05:25.950030Z",
     "iopub.status.idle": "2025-07-28T11:05:25.956658Z",
     "shell.execute_reply": "2025-07-28T11:05:25.955439Z"
    },
    "papermill": {
     "duration": 0.054026,
     "end_time": "2025-07-28T11:05:25.958302",
     "exception": false,
     "start_time": "2025-07-28T11:05:25.904276",
     "status": "completed"
    },
    "tags": []
   },
   "outputs": [
    {
     "name": "stdout",
     "output_type": "stream",
     "text": [
      "Current working directory: /dss/dsshome1/0C/ra93lal2/cma/CMA_Fairness_v2\n"
     ]
    }
   ],
   "source": [
    "import os\n",
    "print(\"Current working directory:\", os.getcwd())"
   ]
  },
  {
   "cell_type": "code",
   "execution_count": 3,
   "id": "2dce4c03",
   "metadata": {
    "execution": {
     "iopub.execute_input": "2025-07-28T11:05:26.043471Z",
     "iopub.status.busy": "2025-07-28T11:05:26.043073Z",
     "iopub.status.idle": "2025-07-28T11:05:26.050973Z",
     "shell.execute_reply": "2025-07-28T11:05:26.049890Z"
    },
    "papermill": {
     "duration": 0.048695,
     "end_time": "2025-07-28T11:05:26.053254",
     "exception": false,
     "start_time": "2025-07-28T11:05:26.004559",
     "status": "completed"
    },
    "tags": [
     "parameters"
    ]
   },
   "outputs": [],
   "source": [
    "run_no = 0\n",
    "universe_id = \"test\"\n",
    "universe = {\n",
    "    \"training_size\": \"2014\", # \"25k\", \"5k\", \"1k\", \"2014\"\n",
    "    \"scale\": \"scale\", # \"scale\", \"do-not-scale\",\n",
    "    #\"stratify_split\": \"target\", # \"none\", \"target\", \"protected-attribute\", \"both\",\n",
    "    \"model\": \"elasticnet\", # \"logreg\", \"penalized_logreg\", \"rf\", \"gbm\", \"elasticnet\"\n",
    "    \"cutoff\": [\"quantile_0.15\", \"quantile_0.30\"],\n",
    "    \"exclude_features\": \"age\", # \"none\", \"nationality\", \"sex\", \"nationality-sex\", \"age\"\n",
    "    \"exclude_subgroups\": \"keep-all\", # \"keep-all\", \"drop-non-german\"\n",
    "    \"eval_fairness_grouping\": [\"majority-minority\", \"nationality-all\"]\n",
    "}\n",
    "\n",
    "output_dir=\"./output\"\n",
    "seed=0"
   ]
  },
  {
   "cell_type": "code",
   "execution_count": 4,
   "id": "52460856",
   "metadata": {
    "execution": {
     "iopub.execute_input": "2025-07-28T11:05:26.097346Z",
     "iopub.status.busy": "2025-07-28T11:05:26.096896Z",
     "iopub.status.idle": "2025-07-28T11:05:26.102911Z",
     "shell.execute_reply": "2025-07-28T11:05:26.101916Z"
    },
    "papermill": {
     "duration": 0.031024,
     "end_time": "2025-07-28T11:05:26.106225",
     "exception": false,
     "start_time": "2025-07-28T11:05:26.075201",
     "status": "completed"
    },
    "tags": [
     "injected-parameters"
    ]
   },
   "outputs": [],
   "source": [
    "# Parameters\n",
    "universe_id = \"40399500eb84bd5cc8f385349267c749\"\n",
    "run_no = \"11\"\n",
    "universe = \"{\\\"cutoff\\\": [\\\"quantile_0.1\\\", \\\"quantile_0.25\\\"], \\\"eval_fairness_grouping\\\": [\\\"majority-minority\\\", \\\"nationality-all\\\"], \\\"exclude_features\\\": \\\"nationality\\\", \\\"exclude_subgroups\\\": \\\"keep-all\\\", \\\"model\\\": \\\"rf\\\", \\\"scale\\\": \\\"do-not-scale\\\", \\\"training_size\\\": \\\"2014\\\"}\"\n",
    "output_dir = \"output\"\n",
    "seed = \"2023\"\n"
   ]
  },
  {
   "cell_type": "code",
   "execution_count": 5,
   "id": "1650acaf",
   "metadata": {
    "execution": {
     "iopub.execute_input": "2025-07-28T11:05:26.152128Z",
     "iopub.status.busy": "2025-07-28T11:05:26.151691Z",
     "iopub.status.idle": "2025-07-28T11:05:26.157494Z",
     "shell.execute_reply": "2025-07-28T11:05:26.156205Z"
    },
    "papermill": {
     "duration": 0.033561,
     "end_time": "2025-07-28T11:05:26.162859",
     "exception": false,
     "start_time": "2025-07-28T11:05:26.129298",
     "status": "completed"
    },
    "tags": []
   },
   "outputs": [],
   "source": [
    "import json\n",
    "# Parse universe into dict if it is passed as a string\n",
    "if isinstance(universe, str):\n",
    "    universe = json.loads(universe)"
   ]
  },
  {
   "cell_type": "code",
   "execution_count": 6,
   "id": "16620c48",
   "metadata": {
    "execution": {
     "iopub.execute_input": "2025-07-28T11:05:26.207425Z",
     "iopub.status.busy": "2025-07-28T11:05:26.206730Z",
     "iopub.status.idle": "2025-07-28T11:05:26.281050Z",
     "shell.execute_reply": "2025-07-28T11:05:26.279902Z"
    },
    "papermill": {
     "duration": 0.098136,
     "end_time": "2025-07-28T11:05:26.283629",
     "exception": false,
     "start_time": "2025-07-28T11:05:26.185493",
     "status": "completed"
    },
    "tags": []
   },
   "outputs": [],
   "source": [
    "# Auto-reload the custom package\n",
    "%load_ext autoreload\n",
    "%autoreload 1\n",
    "%aimport fairness_multiverse"
   ]
  },
  {
   "cell_type": "code",
   "execution_count": 7,
   "id": "01c5c9f3",
   "metadata": {
    "execution": {
     "iopub.execute_input": "2025-07-28T11:05:26.341850Z",
     "iopub.status.busy": "2025-07-28T11:05:26.341428Z",
     "iopub.status.idle": "2025-07-28T11:05:30.257769Z",
     "shell.execute_reply": "2025-07-28T11:05:30.256186Z"
    },
    "papermill": {
     "duration": 3.940692,
     "end_time": "2025-07-28T11:05:30.260120",
     "exception": false,
     "start_time": "2025-07-28T11:05:26.319428",
     "status": "completed"
    },
    "tags": []
   },
   "outputs": [],
   "source": [
    "from fairness_multiverse.universe import UniverseAnalysis\n",
    "\n",
    "universe_analysis = UniverseAnalysis(\n",
    "    run_no = run_no,\n",
    "    universe_id = universe_id,\n",
    "    universe = universe,\n",
    "    output_dir=output_dir,\n",
    ")"
   ]
  },
  {
   "cell_type": "code",
   "execution_count": 8,
   "id": "106241f5",
   "metadata": {
    "execution": {
     "iopub.execute_input": "2025-07-28T11:05:30.347567Z",
     "iopub.status.busy": "2025-07-28T11:05:30.346633Z",
     "iopub.status.idle": "2025-07-28T11:05:30.355418Z",
     "shell.execute_reply": "2025-07-28T11:05:30.354211Z"
    },
    "papermill": {
     "duration": 0.0566,
     "end_time": "2025-07-28T11:05:30.357232",
     "exception": false,
     "start_time": "2025-07-28T11:05:30.300632",
     "status": "completed"
    },
    "tags": []
   },
   "outputs": [
    {
     "name": "stdout",
     "output_type": "stream",
     "text": [
      "Using Seed: 2023\n"
     ]
    }
   ],
   "source": [
    "import numpy as np\n",
    "parsed_seed = int(seed)\n",
    "np.random.seed(parsed_seed)\n",
    "print(f\"Using Seed: {parsed_seed}\")"
   ]
  },
  {
   "cell_type": "markdown",
   "id": "e0ebdc57",
   "metadata": {
    "papermill": {
     "duration": 0.022444,
     "end_time": "2025-07-28T11:05:30.399218",
     "exception": false,
     "start_time": "2025-07-28T11:05:30.376774",
     "status": "completed"
    },
    "tags": []
   },
   "source": [
    "# Loading Data"
   ]
  },
  {
   "cell_type": "markdown",
   "id": "681925a3",
   "metadata": {
    "papermill": {
     "duration": 0.02097,
     "end_time": "2025-07-28T11:05:30.443185",
     "exception": false,
     "start_time": "2025-07-28T11:05:30.422215",
     "status": "completed"
    },
    "tags": []
   },
   "source": [
    "Load siab_train, siab_test, siab_calib and/or \n",
    "load siab_train_features, siab_train_labels"
   ]
  },
  {
   "cell_type": "code",
   "execution_count": 9,
   "id": "f0496b8a",
   "metadata": {
    "execution": {
     "iopub.execute_input": "2025-07-28T11:05:30.490694Z",
     "iopub.status.busy": "2025-07-28T11:05:30.489895Z",
     "iopub.status.idle": "2025-07-28T11:05:47.355935Z",
     "shell.execute_reply": "2025-07-28T11:05:47.354611Z"
    },
    "papermill": {
     "duration": 16.892943,
     "end_time": "2025-07-28T11:05:47.358229",
     "exception": false,
     "start_time": "2025-07-28T11:05:30.465286",
     "status": "completed"
    },
    "tags": []
   },
   "outputs": [
    {
     "name": "stdout",
     "output_type": "stream",
     "text": [
      "Loading SIAB data from cache: data/siab_cached.csv.gz\n"
     ]
    },
    {
     "name": "stdout",
     "output_type": "stream",
     "text": [
      "(643690, 164)\n"
     ]
    }
   ],
   "source": [
    "from pathlib import Path\n",
    "import pandas as pd\n",
    "\n",
    "# File paths\n",
    "raw_file = Path(\"data/raw/siab.csv\")\n",
    "cache_file = Path(\"data/siab_cached.csv.gz\")\n",
    "\n",
    "# Ensure cache directory exists\n",
    "cache_file.parent.mkdir(parents=True, exist_ok=True)\n",
    "\n",
    "# Load with simple caching\n",
    "if cache_file.exists():\n",
    "    print(f\"Loading SIAB data from cache: {cache_file}\")\n",
    "    siab = pd.read_csv(cache_file, compression='gzip')\n",
    "else:\n",
    "    print(f\"Cache not found. Reading raw SIAB data: {raw_file}\")\n",
    "    siab = pd.read_csv(raw_file)\n",
    "    siab.to_csv(cache_file, index=False, compression='gzip')\n",
    "    print(f\"Cached SIAB data to: {cache_file}\")\n",
    "\n",
    "# Now use `siab` DataFrame as needed\n",
    "print(siab.shape)"
   ]
  },
  {
   "cell_type": "code",
   "execution_count": 10,
   "id": "db0ca512-5f53-4dba-abdb-a2888bca41ba",
   "metadata": {
    "execution": {
     "iopub.execute_input": "2025-07-28T11:05:47.431003Z",
     "iopub.status.busy": "2025-07-28T11:05:47.430449Z",
     "iopub.status.idle": "2025-07-28T11:05:47.436859Z",
     "shell.execute_reply": "2025-07-28T11:05:47.435914Z"
    },
    "papermill": {
     "duration": 0.054779,
     "end_time": "2025-07-28T11:05:47.438658",
     "exception": false,
     "start_time": "2025-07-28T11:05:47.383879",
     "status": "completed"
    },
    "tags": []
   },
   "outputs": [],
   "source": [
    "#siab"
   ]
  },
  {
   "cell_type": "code",
   "execution_count": 11,
   "id": "a0edb063",
   "metadata": {
    "execution": {
     "iopub.execute_input": "2025-07-28T11:05:47.511011Z",
     "iopub.status.busy": "2025-07-28T11:05:47.510521Z",
     "iopub.status.idle": "2025-07-28T11:05:47.516090Z",
     "shell.execute_reply": "2025-07-28T11:05:47.515035Z"
    },
    "papermill": {
     "duration": 0.051077,
     "end_time": "2025-07-28T11:05:47.529431",
     "exception": false,
     "start_time": "2025-07-28T11:05:47.478354",
     "status": "completed"
    },
    "tags": []
   },
   "outputs": [],
   "source": [
    "#import pandas as pd\n",
    "#\n",
    "#X_train = pd.read_csv(\"./data/X_train.csv\")\n",
    "#y_train = pd.read_csv(\"./data/y_train.csv\")"
   ]
  },
  {
   "cell_type": "code",
   "execution_count": 12,
   "id": "63d08085",
   "metadata": {
    "execution": {
     "iopub.execute_input": "2025-07-28T11:05:47.605942Z",
     "iopub.status.busy": "2025-07-28T11:05:47.605142Z",
     "iopub.status.idle": "2025-07-28T11:05:47.610618Z",
     "shell.execute_reply": "2025-07-28T11:05:47.609694Z"
    },
    "papermill": {
     "duration": 0.044872,
     "end_time": "2025-07-28T11:05:47.613023",
     "exception": false,
     "start_time": "2025-07-28T11:05:47.568151",
     "status": "completed"
    },
    "tags": []
   },
   "outputs": [],
   "source": [
    "#X_test = pd.read_csv(\"./data/X_test.csv\")\n",
    "#y_true = pd.read_csv(\"./data/y_test.csv\")"
   ]
  },
  {
   "cell_type": "code",
   "execution_count": 13,
   "id": "98a8d0fa-1d3d-4ed8-bb2c-281470e24add",
   "metadata": {
    "execution": {
     "iopub.execute_input": "2025-07-28T11:05:47.693948Z",
     "iopub.status.busy": "2025-07-28T11:05:47.693524Z",
     "iopub.status.idle": "2025-07-28T11:05:47.699097Z",
     "shell.execute_reply": "2025-07-28T11:05:47.698070Z"
    },
    "papermill": {
     "duration": 0.051745,
     "end_time": "2025-07-28T11:05:47.700928",
     "exception": false,
     "start_time": "2025-07-28T11:05:47.649183",
     "status": "completed"
    },
    "tags": []
   },
   "outputs": [],
   "source": [
    "# Calibration data for conformal\n",
    "#X_calib = pd.read_csv(\"./data/X_calib.csv\")\n",
    "#y_calib = pd.read_csv(\"./data/y_calib.csv\")"
   ]
  },
  {
   "cell_type": "markdown",
   "id": "9901737e-04df-44f0-9100-f5ad144ed040",
   "metadata": {
    "papermill": {
     "duration": 0.02015,
     "end_time": "2025-07-28T11:05:47.757487",
     "exception": false,
     "start_time": "2025-07-28T11:05:47.737337",
     "status": "completed"
    },
    "tags": []
   },
   "source": [
    "# Splitting Data and Setting Training Data Size"
   ]
  },
  {
   "cell_type": "code",
   "execution_count": 14,
   "id": "acbc8f7d-8fc8-4e86-8c59-5dcb0f58384b",
   "metadata": {
    "execution": {
     "iopub.execute_input": "2025-07-28T11:05:47.818556Z",
     "iopub.status.busy": "2025-07-28T11:05:47.818126Z",
     "iopub.status.idle": "2025-07-28T11:05:47.826920Z",
     "shell.execute_reply": "2025-07-28T11:05:47.825885Z"
    },
    "papermill": {
     "duration": 0.051697,
     "end_time": "2025-07-28T11:05:47.829205",
     "exception": false,
     "start_time": "2025-07-28T11:05:47.777508",
     "status": "completed"
    },
    "tags": []
   },
   "outputs": [],
   "source": [
    "def sample_by_year(df, training_size, random_state=42):\n",
    "    if training_size == \"2014\":\n",
    "        return df[df[\"year\"] == 2014].reset_index(drop=True)\n",
    "    \n",
    "    size_map = {\n",
    "        \"25k\": 5000,\n",
    "        \"5k\": 1000,\n",
    "        \"1k\": 200\n",
    "    }\n",
    "\n",
    "    if training_size not in size_map:\n",
    "        return df.reset_index(drop=True)  # use all data\n",
    "\n",
    "    n_per_year = size_map[training_size]\n",
    "    grouped = df.groupby(\"year\")\n",
    "    sampled = grouped.apply(lambda x: x.sample(n=min(n_per_year, len(x)), random_state=random_state))\n",
    "    return sampled.reset_index(drop=True)"
   ]
  },
  {
   "cell_type": "code",
   "execution_count": 15,
   "id": "6d931f52-beaf-43ff-9e78-9d44a448d54e",
   "metadata": {
    "execution": {
     "iopub.execute_input": "2025-07-28T11:05:47.927886Z",
     "iopub.status.busy": "2025-07-28T11:05:47.927473Z",
     "iopub.status.idle": "2025-07-28T11:05:48.226099Z",
     "shell.execute_reply": "2025-07-28T11:05:48.225194Z"
    },
    "papermill": {
     "duration": 0.350562,
     "end_time": "2025-07-28T11:05:48.228077",
     "exception": false,
     "start_time": "2025-07-28T11:05:47.877515",
     "status": "completed"
    },
    "tags": []
   },
   "outputs": [],
   "source": [
    "siab_s = sample_by_year(siab, universe[\"training_size\"])"
   ]
  },
  {
   "cell_type": "code",
   "execution_count": 16,
   "id": "5db0a40e-a4e2-4920-be85-b12ae061d70d",
   "metadata": {
    "execution": {
     "iopub.execute_input": "2025-07-28T11:05:48.273261Z",
     "iopub.status.busy": "2025-07-28T11:05:48.272119Z",
     "iopub.status.idle": "2025-07-28T11:05:48.286793Z",
     "shell.execute_reply": "2025-07-28T11:05:48.285735Z"
    },
    "papermill": {
     "duration": 0.042887,
     "end_time": "2025-07-28T11:05:48.294517",
     "exception": false,
     "start_time": "2025-07-28T11:05:48.251630",
     "status": "completed"
    },
    "tags": []
   },
   "outputs": [
    {
     "data": {
      "text/plain": [
       "year\n",
       "2014    87158\n",
       "dtype: int64"
      ]
     },
     "metadata": {},
     "output_type": "display_data"
    }
   ],
   "source": [
    "display(siab_s.groupby(\"year\").size())"
   ]
  },
  {
   "cell_type": "code",
   "execution_count": 17,
   "id": "a561edb4-d032-42cb-8256-22eac1111c64",
   "metadata": {
    "execution": {
     "iopub.execute_input": "2025-07-28T11:05:48.323780Z",
     "iopub.status.busy": "2025-07-28T11:05:48.321691Z",
     "iopub.status.idle": "2025-07-28T11:05:48.664084Z",
     "shell.execute_reply": "2025-07-28T11:05:48.662943Z"
    },
    "papermill": {
     "duration": 0.357723,
     "end_time": "2025-07-28T11:05:48.666124",
     "exception": false,
     "start_time": "2025-07-28T11:05:48.308401",
     "status": "completed"
    },
    "tags": []
   },
   "outputs": [],
   "source": [
    "siab_train = siab_s[siab_s.year < 2015]\n",
    "siab_calib = siab[siab.year == 2015]\n",
    "siab_test = siab[siab.year == 2016]"
   ]
  },
  {
   "cell_type": "code",
   "execution_count": 18,
   "id": "472de16f-c3db-4916-846b-1f0de9cf1746",
   "metadata": {
    "execution": {
     "iopub.execute_input": "2025-07-28T11:05:48.814580Z",
     "iopub.status.busy": "2025-07-28T11:05:48.814111Z",
     "iopub.status.idle": "2025-07-28T11:05:48.934142Z",
     "shell.execute_reply": "2025-07-28T11:05:48.932903Z"
    },
    "papermill": {
     "duration": 0.188416,
     "end_time": "2025-07-28T11:05:48.936579",
     "exception": false,
     "start_time": "2025-07-28T11:05:48.748163",
     "status": "completed"
    },
    "tags": []
   },
   "outputs": [],
   "source": [
    "X_train = siab_train.iloc[:,4:164]\n",
    "y_train = siab_train.iloc[:, [3]]"
   ]
  },
  {
   "cell_type": "code",
   "execution_count": 19,
   "id": "828c96af-f43a-4ed6-ba47-8ac73a47d56c",
   "metadata": {
    "execution": {
     "iopub.execute_input": "2025-07-28T11:05:49.047324Z",
     "iopub.status.busy": "2025-07-28T11:05:49.046894Z",
     "iopub.status.idle": "2025-07-28T11:05:49.144761Z",
     "shell.execute_reply": "2025-07-28T11:05:49.143660Z"
    },
    "papermill": {
     "duration": 0.165121,
     "end_time": "2025-07-28T11:05:49.147001",
     "exception": false,
     "start_time": "2025-07-28T11:05:48.981880",
     "status": "completed"
    },
    "tags": []
   },
   "outputs": [],
   "source": [
    "X_calib = siab_calib.iloc[:,4:164]\n",
    "y_calib = siab_calib.iloc[:, [3]]"
   ]
  },
  {
   "cell_type": "code",
   "execution_count": 20,
   "id": "c34be9c3-6bd6-476e-acd3-845840e303be",
   "metadata": {
    "execution": {
     "iopub.execute_input": "2025-07-28T11:05:49.250993Z",
     "iopub.status.busy": "2025-07-28T11:05:49.250566Z",
     "iopub.status.idle": "2025-07-28T11:05:49.361533Z",
     "shell.execute_reply": "2025-07-28T11:05:49.360474Z"
    },
    "papermill": {
     "duration": 0.174719,
     "end_time": "2025-07-28T11:05:49.363513",
     "exception": false,
     "start_time": "2025-07-28T11:05:49.188794",
     "status": "completed"
    },
    "tags": []
   },
   "outputs": [],
   "source": [
    "X_test = siab_test.iloc[:,4:164]\n",
    "y_true = siab_test.iloc[:, [3]]"
   ]
  },
  {
   "cell_type": "code",
   "execution_count": 21,
   "id": "e6c733c5",
   "metadata": {
    "execution": {
     "iopub.execute_input": "2025-07-28T11:05:49.471454Z",
     "iopub.status.busy": "2025-07-28T11:05:49.470964Z",
     "iopub.status.idle": "2025-07-28T11:05:49.680308Z",
     "shell.execute_reply": "2025-07-28T11:05:49.679155Z"
    },
    "papermill": {
     "duration": 0.27422,
     "end_time": "2025-07-28T11:05:49.682544",
     "exception": false,
     "start_time": "2025-07-28T11:05:49.408324",
     "status": "completed"
    },
    "tags": []
   },
   "outputs": [],
   "source": [
    "# Auxiliary data needed downstream in the pipeline\n",
    "\n",
    "org_train = X_train.copy()\n",
    "org_test = X_test.copy()\n",
    "org_calib = X_calib.copy()"
   ]
  },
  {
   "cell_type": "markdown",
   "id": "0a4a1b33",
   "metadata": {
    "papermill": {
     "duration": 0.022805,
     "end_time": "2025-07-28T11:05:49.737972",
     "exception": false,
     "start_time": "2025-07-28T11:05:49.715167",
     "status": "completed"
    },
    "tags": []
   },
   "source": [
    "# Preprocessing Data"
   ]
  },
  {
   "cell_type": "code",
   "execution_count": 22,
   "id": "ca879031",
   "metadata": {
    "execution": {
     "iopub.execute_input": "2025-07-28T11:05:49.761881Z",
     "iopub.status.busy": "2025-07-28T11:05:49.761524Z",
     "iopub.status.idle": "2025-07-28T11:05:49.766630Z",
     "shell.execute_reply": "2025-07-28T11:05:49.765855Z"
    },
    "papermill": {
     "duration": 0.018423,
     "end_time": "2025-07-28T11:05:49.767966",
     "exception": false,
     "start_time": "2025-07-28T11:05:49.749543",
     "status": "completed"
    },
    "tags": []
   },
   "outputs": [],
   "source": [
    "# EXCLUDE PROTECTED FEATURES\n",
    "# ----------------------\n",
    "# \"exclude_features\": \"none\", # \"nationality\", \"sex\", \"nationality-sex\"\n",
    "\n",
    "excluded_features = universe[\"exclude_features\"].split(\"-\") # split, e.g.: \"nationality-sex\" -> [\"nationality\", \"sex\"]\n",
    "excluded_features_dictionary = {\n",
    "    \"nationality\": [\"maxdeutsch1\", \"maxdeutsch.Missing.\"],\n",
    "    \"sex\": [\"frau1\"],\n",
    "    \"age\": [\"age\"],\n",
    "}\n"
   ]
  },
  {
   "cell_type": "code",
   "execution_count": 23,
   "id": "b745ac60",
   "metadata": {
    "execution": {
     "iopub.execute_input": "2025-07-28T11:05:49.798695Z",
     "iopub.status.busy": "2025-07-28T11:05:49.798395Z",
     "iopub.status.idle": "2025-07-28T11:05:49.802908Z",
     "shell.execute_reply": "2025-07-28T11:05:49.802220Z"
    },
    "papermill": {
     "duration": 0.023561,
     "end_time": "2025-07-28T11:05:49.804466",
     "exception": false,
     "start_time": "2025-07-28T11:05:49.780905",
     "status": "completed"
    },
    "tags": []
   },
   "outputs": [],
   "source": [
    "# Code nice names to column names\n",
    "\n",
    "excluded_features_columns = [\n",
    "    excluded_features_dictionary[f] for f in excluded_features if len(f) > 0 and f != \"none\"\n",
    "]"
   ]
  },
  {
   "cell_type": "code",
   "execution_count": 24,
   "id": "f84f73a2",
   "metadata": {
    "execution": {
     "iopub.execute_input": "2025-07-28T11:05:49.828676Z",
     "iopub.status.busy": "2025-07-28T11:05:49.827980Z",
     "iopub.status.idle": "2025-07-28T11:05:49.833357Z",
     "shell.execute_reply": "2025-07-28T11:05:49.832622Z"
    },
    "papermill": {
     "duration": 0.019356,
     "end_time": "2025-07-28T11:05:49.835093",
     "exception": false,
     "start_time": "2025-07-28T11:05:49.815737",
     "status": "completed"
    },
    "tags": []
   },
   "outputs": [],
   "source": [
    "from utils import flatten_once\n",
    "\n",
    "excluded_features_columns = flatten_once(excluded_features_columns)"
   ]
  },
  {
   "cell_type": "code",
   "execution_count": 25,
   "id": "884dea22",
   "metadata": {
    "execution": {
     "iopub.execute_input": "2025-07-28T11:05:49.885410Z",
     "iopub.status.busy": "2025-07-28T11:05:49.884390Z",
     "iopub.status.idle": "2025-07-28T11:05:49.957058Z",
     "shell.execute_reply": "2025-07-28T11:05:49.955859Z"
    },
    "papermill": {
     "duration": 0.106709,
     "end_time": "2025-07-28T11:05:49.958934",
     "exception": false,
     "start_time": "2025-07-28T11:05:49.852225",
     "status": "completed"
    },
    "tags": []
   },
   "outputs": [
    {
     "name": "stdout",
     "output_type": "stream",
     "text": [
      "Dropping features: ['maxdeutsch1', 'maxdeutsch.Missing.']\n"
     ]
    }
   ],
   "source": [
    "if len(excluded_features_columns) > 0:\n",
    "    print(f\"Dropping features: {excluded_features_columns}\")\n",
    "    X_train.drop(excluded_features_columns, axis=1, inplace=True)"
   ]
  },
  {
   "cell_type": "code",
   "execution_count": 26,
   "id": "95ab8b16",
   "metadata": {
    "execution": {
     "iopub.execute_input": "2025-07-28T11:05:50.042702Z",
     "iopub.status.busy": "2025-07-28T11:05:50.040936Z",
     "iopub.status.idle": "2025-07-28T11:05:50.111640Z",
     "shell.execute_reply": "2025-07-28T11:05:50.107057Z"
    },
    "papermill": {
     "duration": 0.127685,
     "end_time": "2025-07-28T11:05:50.114566",
     "exception": false,
     "start_time": "2025-07-28T11:05:49.986881",
     "status": "completed"
    },
    "tags": []
   },
   "outputs": [
    {
     "name": "stdout",
     "output_type": "stream",
     "text": [
      "Dropping features: ['maxdeutsch1', 'maxdeutsch.Missing.']\n"
     ]
    }
   ],
   "source": [
    "if len(excluded_features_columns) > 0:\n",
    "    print(f\"Dropping features: {excluded_features_columns}\")\n",
    "    X_test.drop(excluded_features_columns, axis=1, inplace=True)"
   ]
  },
  {
   "cell_type": "code",
   "execution_count": 27,
   "id": "1853aaf5-fb9f-46cb-a2b5-8ea4ae2237e4",
   "metadata": {
    "execution": {
     "iopub.execute_input": "2025-07-28T11:05:50.234568Z",
     "iopub.status.busy": "2025-07-28T11:05:50.234106Z",
     "iopub.status.idle": "2025-07-28T11:05:50.348585Z",
     "shell.execute_reply": "2025-07-28T11:05:50.347486Z"
    },
    "papermill": {
     "duration": 0.182259,
     "end_time": "2025-07-28T11:05:50.350710",
     "exception": false,
     "start_time": "2025-07-28T11:05:50.168451",
     "status": "completed"
    },
    "tags": []
   },
   "outputs": [
    {
     "name": "stdout",
     "output_type": "stream",
     "text": [
      "Dropping features: ['maxdeutsch1', 'maxdeutsch.Missing.']\n"
     ]
    }
   ],
   "source": [
    "if len(excluded_features_columns) > 0:\n",
    "    print(f\"Dropping features: {excluded_features_columns}\")\n",
    "    X_calib.drop(excluded_features_columns, axis=1, inplace=True)"
   ]
  },
  {
   "cell_type": "code",
   "execution_count": 28,
   "id": "6727d079-03e5-481e-9d38-292a90b7a0a8",
   "metadata": {
    "execution": {
     "iopub.execute_input": "2025-07-28T11:05:50.482540Z",
     "iopub.status.busy": "2025-07-28T11:05:50.482088Z",
     "iopub.status.idle": "2025-07-28T11:05:50.487521Z",
     "shell.execute_reply": "2025-07-28T11:05:50.486363Z"
    },
    "papermill": {
     "duration": 0.09574,
     "end_time": "2025-07-28T11:05:50.489325",
     "exception": false,
     "start_time": "2025-07-28T11:05:50.393585",
     "status": "completed"
    },
    "tags": []
   },
   "outputs": [],
   "source": [
    "# SPLIT & STRATIFY DATA\n",
    "# ----------------------"
   ]
  },
  {
   "cell_type": "code",
   "execution_count": 29,
   "id": "76c4dc6d",
   "metadata": {
    "execution": {
     "iopub.execute_input": "2025-07-28T11:05:50.598083Z",
     "iopub.status.busy": "2025-07-28T11:05:50.597582Z",
     "iopub.status.idle": "2025-07-28T11:05:50.604894Z",
     "shell.execute_reply": "2025-07-28T11:05:50.603952Z"
    },
    "papermill": {
     "duration": 0.078256,
     "end_time": "2025-07-28T11:05:50.606699",
     "exception": false,
     "start_time": "2025-07-28T11:05:50.528443",
     "status": "completed"
    },
    "tags": []
   },
   "outputs": [],
   "source": [
    "# EXCLUDE CERTAIN SUBGROUPS\n",
    "# ----------------------\n",
    "\n",
    "mode = universe.get(\"exclude_subgroups\", \"keep-all\") \n",
    "# Fetches the exclude_subgroups setting from the universe dict.\n",
    "# Defaults to \"keep-all\" if the key is missing."
   ]
  },
  {
   "cell_type": "code",
   "execution_count": 30,
   "id": "21994072",
   "metadata": {
    "execution": {
     "iopub.execute_input": "2025-07-28T11:05:50.714574Z",
     "iopub.status.busy": "2025-07-28T11:05:50.714133Z",
     "iopub.status.idle": "2025-07-28T11:05:50.723212Z",
     "shell.execute_reply": "2025-07-28T11:05:50.722120Z"
    },
    "papermill": {
     "duration": 0.066097,
     "end_time": "2025-07-28T11:05:50.725154",
     "exception": false,
     "start_time": "2025-07-28T11:05:50.659057",
     "status": "completed"
    },
    "tags": []
   },
   "outputs": [],
   "source": [
    "if mode == \"keep-all\":\n",
    "    keep_mask = pd.Series(True, index=org_train.index)\n",
    "\n",
    "# org_train contains the original feature columns from features_org (in Simson)\n",
    "# features_org contains unprocessed features, for me X_train at beginning ???\n",
    "# For keep-all, creates a boolean Series (keep_mask) of all True, so no rows are removed.\n",
    "\n",
    "elif mode == \"drop-non-german\":\n",
    "    keep_mask = org_train[\"maxdeutsch1\"] == 1 # ??? what about missing values?\n",
    "\n",
    "else:\n",
    "    raise ValueError(f\"Unsupported mode for exclude_subgroups: {mode}\")\n"
   ]
  },
  {
   "cell_type": "code",
   "execution_count": 31,
   "id": "71651440",
   "metadata": {
    "execution": {
     "iopub.execute_input": "2025-07-28T11:05:50.805407Z",
     "iopub.status.busy": "2025-07-28T11:05:50.804977Z",
     "iopub.status.idle": "2025-07-28T11:05:50.812150Z",
     "shell.execute_reply": "2025-07-28T11:05:50.811238Z"
    },
    "papermill": {
     "duration": 0.059567,
     "end_time": "2025-07-28T11:05:50.815765",
     "exception": false,
     "start_time": "2025-07-28T11:05:50.756198",
     "status": "completed"
    },
    "tags": []
   },
   "outputs": [],
   "source": [
    "n_drop = (~keep_mask).sum() # Calculates how many rows are set to be dropped\n",
    "if n_drop > 0:\n",
    "    pct = n_drop / len(keep_mask) * 100\n",
    "    print(f\"Dropping {n_drop} rows ({pct:.2f}%) where mode='{mode}'\")"
   ]
  },
  {
   "cell_type": "code",
   "execution_count": 32,
   "id": "5fb8eee5",
   "metadata": {
    "execution": {
     "iopub.execute_input": "2025-07-28T11:05:50.879726Z",
     "iopub.status.busy": "2025-07-28T11:05:50.879265Z",
     "iopub.status.idle": "2025-07-28T11:05:50.947751Z",
     "shell.execute_reply": "2025-07-28T11:05:50.944793Z"
    },
    "papermill": {
     "duration": 0.097333,
     "end_time": "2025-07-28T11:05:50.949960",
     "exception": false,
     "start_time": "2025-07-28T11:05:50.852627",
     "status": "completed"
    },
    "tags": []
   },
   "outputs": [],
   "source": [
    "X_train = X_train[keep_mask]"
   ]
  },
  {
   "cell_type": "code",
   "execution_count": 33,
   "id": "b202bb3a",
   "metadata": {
    "execution": {
     "iopub.execute_input": "2025-07-28T11:05:50.999384Z",
     "iopub.status.busy": "2025-07-28T11:05:50.998938Z",
     "iopub.status.idle": "2025-07-28T11:05:51.010165Z",
     "shell.execute_reply": "2025-07-28T11:05:51.009100Z"
    },
    "papermill": {
     "duration": 0.039627,
     "end_time": "2025-07-28T11:05:51.012215",
     "exception": false,
     "start_time": "2025-07-28T11:05:50.972588",
     "status": "completed"
    },
    "tags": []
   },
   "outputs": [],
   "source": [
    "y_train = y_train[keep_mask]"
   ]
  },
  {
   "cell_type": "markdown",
   "id": "493e2ac3",
   "metadata": {
    "papermill": {
     "duration": 0.027743,
     "end_time": "2025-07-28T11:05:51.063035",
     "exception": false,
     "start_time": "2025-07-28T11:05:51.035292",
     "status": "completed"
    },
    "tags": []
   },
   "source": [
    "# Model Training"
   ]
  },
  {
   "cell_type": "code",
   "execution_count": 34,
   "id": "679e1268",
   "metadata": {
    "execution": {
     "iopub.execute_input": "2025-07-28T11:05:51.118211Z",
     "iopub.status.busy": "2025-07-28T11:05:51.117189Z",
     "iopub.status.idle": "2025-07-28T11:05:51.240163Z",
     "shell.execute_reply": "2025-07-28T11:05:51.238715Z"
    },
    "papermill": {
     "duration": 0.148311,
     "end_time": "2025-07-28T11:05:51.242587",
     "exception": false,
     "start_time": "2025-07-28T11:05:51.094276",
     "status": "completed"
    },
    "tags": []
   },
   "outputs": [],
   "source": [
    "from sklearn.linear_model import LogisticRegression\n",
    "from sklearn.ensemble import GradientBoostingClassifier, RandomForestClassifier\n",
    "\n",
    "if (universe[\"model\"] == \"logreg\"):\n",
    "    model = LogisticRegression() #penalty=\"none\") #, solver=\"newton-cg\", max_iter=1) # include random_state=19 ?\n",
    "elif (universe[\"model\"] == \"penalized_logreg\"):\n",
    "    model = LogisticRegression(penalty=\"l2\", C=1.0) #, solver=\"newton-cg\", max_iter=1)\n",
    "elif (universe[\"model\"] == \"rf\"):\n",
    "    model = RandomForestClassifier(n_estimators=100, n_jobs=-1)\n",
    "elif (universe[\"model\"] == \"gbm\"):\n",
    "    model = GradientBoostingClassifier()\n",
    "elif (universe[\"model\"] == \"elasticnet\"):\n",
    "    model = LogisticRegression(penalty = 'elasticnet', solver = 'saga', l1_ratio = 0.5, max_iter=5000) # which solver to use?\n",
    "else:\n",
    "    raise \"Unsupported universe.model\""
   ]
  },
  {
   "cell_type": "code",
   "execution_count": 35,
   "id": "0cc8f744",
   "metadata": {
    "execution": {
     "iopub.execute_input": "2025-07-28T11:05:51.279648Z",
     "iopub.status.busy": "2025-07-28T11:05:51.279154Z",
     "iopub.status.idle": "2025-07-28T11:05:51.286185Z",
     "shell.execute_reply": "2025-07-28T11:05:51.285246Z"
    },
    "papermill": {
     "duration": 0.021221,
     "end_time": "2025-07-28T11:05:51.287555",
     "exception": false,
     "start_time": "2025-07-28T11:05:51.266334",
     "status": "completed"
    },
    "tags": []
   },
   "outputs": [],
   "source": [
    "import numpy as np\n",
    "from sklearn.pipeline import Pipeline\n",
    "from sklearn.preprocessing import StandardScaler\n",
    "\n",
    "model = Pipeline([\n",
    "    #(\"continuous_processor\", continuous_processor),\n",
    "    #(\"categorical_preprocessor\", categorical_preprocessor),\n",
    "    (\"scale\", StandardScaler() if universe[\"scale\"] == \"scale\" else None), \n",
    "    (\"model\", model),\n",
    "])"
   ]
  },
  {
   "cell_type": "code",
   "execution_count": 36,
   "id": "9442c04d",
   "metadata": {
    "execution": {
     "iopub.execute_input": "2025-07-28T11:05:51.315060Z",
     "iopub.status.busy": "2025-07-28T11:05:51.314465Z",
     "iopub.status.idle": "2025-07-28T11:06:08.912330Z",
     "shell.execute_reply": "2025-07-28T11:06:08.907099Z"
    },
    "papermill": {
     "duration": 17.615179,
     "end_time": "2025-07-28T11:06:08.914690",
     "exception": false,
     "start_time": "2025-07-28T11:05:51.299511",
     "status": "completed"
    },
    "tags": []
   },
   "outputs": [
    {
     "data": {
      "text/html": [
       "<style>#sk-container-id-1 {color: black;background-color: white;}#sk-container-id-1 pre{padding: 0;}#sk-container-id-1 div.sk-toggleable {background-color: white;}#sk-container-id-1 label.sk-toggleable__label {cursor: pointer;display: block;width: 100%;margin-bottom: 0;padding: 0.3em;box-sizing: border-box;text-align: center;}#sk-container-id-1 label.sk-toggleable__label-arrow:before {content: \"▸\";float: left;margin-right: 0.25em;color: #696969;}#sk-container-id-1 label.sk-toggleable__label-arrow:hover:before {color: black;}#sk-container-id-1 div.sk-estimator:hover label.sk-toggleable__label-arrow:before {color: black;}#sk-container-id-1 div.sk-toggleable__content {max-height: 0;max-width: 0;overflow: hidden;text-align: left;background-color: #f0f8ff;}#sk-container-id-1 div.sk-toggleable__content pre {margin: 0.2em;color: black;border-radius: 0.25em;background-color: #f0f8ff;}#sk-container-id-1 input.sk-toggleable__control:checked~div.sk-toggleable__content {max-height: 200px;max-width: 100%;overflow: auto;}#sk-container-id-1 input.sk-toggleable__control:checked~label.sk-toggleable__label-arrow:before {content: \"▾\";}#sk-container-id-1 div.sk-estimator input.sk-toggleable__control:checked~label.sk-toggleable__label {background-color: #d4ebff;}#sk-container-id-1 div.sk-label input.sk-toggleable__control:checked~label.sk-toggleable__label {background-color: #d4ebff;}#sk-container-id-1 input.sk-hidden--visually {border: 0;clip: rect(1px 1px 1px 1px);clip: rect(1px, 1px, 1px, 1px);height: 1px;margin: -1px;overflow: hidden;padding: 0;position: absolute;width: 1px;}#sk-container-id-1 div.sk-estimator {font-family: monospace;background-color: #f0f8ff;border: 1px dotted black;border-radius: 0.25em;box-sizing: border-box;margin-bottom: 0.5em;}#sk-container-id-1 div.sk-estimator:hover {background-color: #d4ebff;}#sk-container-id-1 div.sk-parallel-item::after {content: \"\";width: 100%;border-bottom: 1px solid gray;flex-grow: 1;}#sk-container-id-1 div.sk-label:hover label.sk-toggleable__label {background-color: #d4ebff;}#sk-container-id-1 div.sk-serial::before {content: \"\";position: absolute;border-left: 1px solid gray;box-sizing: border-box;top: 0;bottom: 0;left: 50%;z-index: 0;}#sk-container-id-1 div.sk-serial {display: flex;flex-direction: column;align-items: center;background-color: white;padding-right: 0.2em;padding-left: 0.2em;position: relative;}#sk-container-id-1 div.sk-item {position: relative;z-index: 1;}#sk-container-id-1 div.sk-parallel {display: flex;align-items: stretch;justify-content: center;background-color: white;position: relative;}#sk-container-id-1 div.sk-item::before, #sk-container-id-1 div.sk-parallel-item::before {content: \"\";position: absolute;border-left: 1px solid gray;box-sizing: border-box;top: 0;bottom: 0;left: 50%;z-index: -1;}#sk-container-id-1 div.sk-parallel-item {display: flex;flex-direction: column;z-index: 1;position: relative;background-color: white;}#sk-container-id-1 div.sk-parallel-item:first-child::after {align-self: flex-end;width: 50%;}#sk-container-id-1 div.sk-parallel-item:last-child::after {align-self: flex-start;width: 50%;}#sk-container-id-1 div.sk-parallel-item:only-child::after {width: 0;}#sk-container-id-1 div.sk-dashed-wrapped {border: 1px dashed gray;margin: 0 0.4em 0.5em 0.4em;box-sizing: border-box;padding-bottom: 0.4em;background-color: white;}#sk-container-id-1 div.sk-label label {font-family: monospace;font-weight: bold;display: inline-block;line-height: 1.2em;}#sk-container-id-1 div.sk-label-container {text-align: center;}#sk-container-id-1 div.sk-container {/* jupyter's `normalize.less` sets `[hidden] { display: none; }` but bootstrap.min.css set `[hidden] { display: none !important; }` so we also need the `!important` here to be able to override the default hidden behavior on the sphinx rendered scikit-learn.org. See: https://github.com/scikit-learn/scikit-learn/issues/21755 */display: inline-block !important;position: relative;}#sk-container-id-1 div.sk-text-repr-fallback {display: none;}</style><div id=\"sk-container-id-1\" class=\"sk-top-container\"><div class=\"sk-text-repr-fallback\"><pre>Pipeline(steps=[(&#x27;scale&#x27;, None), (&#x27;model&#x27;, RandomForestClassifier(n_jobs=-1))])</pre><b>In a Jupyter environment, please rerun this cell to show the HTML representation or trust the notebook. <br />On GitHub, the HTML representation is unable to render, please try loading this page with nbviewer.org.</b></div><div class=\"sk-container\" hidden><div class=\"sk-item sk-dashed-wrapped\"><div class=\"sk-label-container\"><div class=\"sk-label sk-toggleable\"><input class=\"sk-toggleable__control sk-hidden--visually\" id=\"sk-estimator-id-1\" type=\"checkbox\" ><label for=\"sk-estimator-id-1\" class=\"sk-toggleable__label sk-toggleable__label-arrow\">Pipeline</label><div class=\"sk-toggleable__content\"><pre>Pipeline(steps=[(&#x27;scale&#x27;, None), (&#x27;model&#x27;, RandomForestClassifier(n_jobs=-1))])</pre></div></div></div><div class=\"sk-serial\"><div class=\"sk-item\"><div class=\"sk-estimator sk-toggleable\"><input class=\"sk-toggleable__control sk-hidden--visually\" id=\"sk-estimator-id-2\" type=\"checkbox\" ><label for=\"sk-estimator-id-2\" class=\"sk-toggleable__label sk-toggleable__label-arrow\">None</label><div class=\"sk-toggleable__content\"><pre>None</pre></div></div></div><div class=\"sk-item\"><div class=\"sk-estimator sk-toggleable\"><input class=\"sk-toggleable__control sk-hidden--visually\" id=\"sk-estimator-id-3\" type=\"checkbox\" ><label for=\"sk-estimator-id-3\" class=\"sk-toggleable__label sk-toggleable__label-arrow\">RandomForestClassifier</label><div class=\"sk-toggleable__content\"><pre>RandomForestClassifier(n_jobs=-1)</pre></div></div></div></div></div></div></div>"
      ],
      "text/plain": [
       "Pipeline(steps=[('scale', None), ('model', RandomForestClassifier(n_jobs=-1))])"
      ]
     },
     "execution_count": 36,
     "metadata": {},
     "output_type": "execute_result"
    }
   ],
   "source": [
    "model.fit(X_train, y_train.values.ravel())"
   ]
  },
  {
   "cell_type": "code",
   "execution_count": 37,
   "id": "af59f8c0",
   "metadata": {
    "execution": {
     "iopub.execute_input": "2025-07-28T11:06:09.042175Z",
     "iopub.status.busy": "2025-07-28T11:06:09.041611Z",
     "iopub.status.idle": "2025-07-28T11:06:09.048393Z",
     "shell.execute_reply": "2025-07-28T11:06:09.047282Z"
    },
    "papermill": {
     "duration": 0.075907,
     "end_time": "2025-07-28T11:06:09.054587",
     "exception": false,
     "start_time": "2025-07-28T11:06:08.978680",
     "status": "completed"
    },
    "tags": []
   },
   "outputs": [],
   "source": [
    "from fairness_multiverse.universe import predict_w_threshold"
   ]
  },
  {
   "cell_type": "code",
   "execution_count": 38,
   "id": "a7cf2e16",
   "metadata": {
    "execution": {
     "iopub.execute_input": "2025-07-28T11:06:09.171316Z",
     "iopub.status.busy": "2025-07-28T11:06:09.170879Z",
     "iopub.status.idle": "2025-07-28T11:06:10.767334Z",
     "shell.execute_reply": "2025-07-28T11:06:10.766308Z"
    },
    "papermill": {
     "duration": 1.651443,
     "end_time": "2025-07-28T11:06:10.769888",
     "exception": false,
     "start_time": "2025-07-28T11:06:09.118445",
     "status": "completed"
    },
    "tags": []
   },
   "outputs": [
    {
     "data": {
      "text/plain": [
       "0.8660684427600045"
      ]
     },
     "execution_count": 38,
     "metadata": {},
     "output_type": "execute_result"
    }
   ],
   "source": [
    "probs_test = model.predict_proba(X_test)\n",
    "\n",
    "'''\n",
    "Below code returns a boolean array (or binary 0/1 array depending on how it’s used) where each element \n",
    "is True if the probability of class 1 is greater than or equal to the threshold, and False otherwise.\n",
    "'''\n",
    "y_pred_default = predict_w_threshold(probs_test, 0.5)\n",
    "\n",
    "from sklearn.metrics import accuracy_score\n",
    "\n",
    "# Naive prediction\n",
    "accuracy_score(y_true = y_true, y_pred = y_pred_default)"
   ]
  },
  {
   "cell_type": "code",
   "execution_count": 39,
   "id": "081964c3",
   "metadata": {
    "execution": {
     "iopub.execute_input": "2025-07-28T11:06:10.865164Z",
     "iopub.status.busy": "2025-07-28T11:06:10.864692Z",
     "iopub.status.idle": "2025-07-28T11:06:12.469767Z",
     "shell.execute_reply": "2025-07-28T11:06:12.468727Z"
    },
    "papermill": {
     "duration": 1.6491,
     "end_time": "2025-07-28T11:06:12.471936",
     "exception": false,
     "start_time": "2025-07-28T11:06:10.822836",
     "status": "completed"
    },
    "tags": []
   },
   "outputs": [
    {
     "data": {
      "text/plain": [
       "array([0, 0, 0, ..., 0, 0, 0])"
      ]
     },
     "execution_count": 39,
     "metadata": {},
     "output_type": "execute_result"
    }
   ],
   "source": [
    "model.predict(X_test)"
   ]
  },
  {
   "cell_type": "markdown",
   "id": "56c9705b",
   "metadata": {
    "papermill": {
     "duration": 0.039486,
     "end_time": "2025-07-28T11:06:12.577299",
     "exception": false,
     "start_time": "2025-07-28T11:06:12.537813",
     "status": "completed"
    },
    "tags": []
   },
   "source": [
    "# Conformal Prediction"
   ]
  },
  {
   "cell_type": "code",
   "execution_count": 40,
   "id": "160ec6ff",
   "metadata": {
    "execution": {
     "iopub.execute_input": "2025-07-28T11:06:12.636608Z",
     "iopub.status.busy": "2025-07-28T11:06:12.636149Z",
     "iopub.status.idle": "2025-07-28T11:06:12.641954Z",
     "shell.execute_reply": "2025-07-28T11:06:12.640891Z"
    },
    "papermill": {
     "duration": 0.038589,
     "end_time": "2025-07-28T11:06:12.645151",
     "exception": false,
     "start_time": "2025-07-28T11:06:12.606562",
     "status": "completed"
    },
    "tags": []
   },
   "outputs": [],
   "source": [
    "# Miscoverage level for conformal prediction (10% allowed error rate => 90% target coverage)\n",
    "alpha = 0.1"
   ]
  },
  {
   "cell_type": "code",
   "execution_count": 41,
   "id": "eadf4555-3dd3-440e-8e35-f82a4ad9f855",
   "metadata": {
    "execution": {
     "iopub.execute_input": "2025-07-28T11:06:12.703611Z",
     "iopub.status.busy": "2025-07-28T11:06:12.703115Z",
     "iopub.status.idle": "2025-07-28T11:06:14.245535Z",
     "shell.execute_reply": "2025-07-28T11:06:14.244428Z"
    },
    "papermill": {
     "duration": 1.574052,
     "end_time": "2025-07-28T11:06:14.247560",
     "exception": false,
     "start_time": "2025-07-28T11:06:12.673508",
     "status": "completed"
    },
    "tags": []
   },
   "outputs": [],
   "source": [
    "probs_calib = model.predict_proba(X_calib)"
   ]
  },
  {
   "cell_type": "code",
   "execution_count": 42,
   "id": "2ed93547-6d5d-4983-9b36-1ecb300da49a",
   "metadata": {
    "execution": {
     "iopub.execute_input": "2025-07-28T11:06:14.280236Z",
     "iopub.status.busy": "2025-07-28T11:06:14.279724Z",
     "iopub.status.idle": "2025-07-28T11:06:14.285785Z",
     "shell.execute_reply": "2025-07-28T11:06:14.284800Z"
    },
    "papermill": {
     "duration": 0.02259,
     "end_time": "2025-07-28T11:06:14.287493",
     "exception": false,
     "start_time": "2025-07-28T11:06:14.264903",
     "status": "completed"
    },
    "tags": []
   },
   "outputs": [],
   "source": [
    "y_calib = y_calib.values.ravel().astype(int)"
   ]
  },
  {
   "cell_type": "code",
   "execution_count": 43,
   "id": "65d1320d-f588-4b38-9072-62af1ae97f7d",
   "metadata": {
    "execution": {
     "iopub.execute_input": "2025-07-28T11:06:14.336359Z",
     "iopub.status.busy": "2025-07-28T11:06:14.335598Z",
     "iopub.status.idle": "2025-07-28T11:06:14.343719Z",
     "shell.execute_reply": "2025-07-28T11:06:14.342680Z"
    },
    "papermill": {
     "duration": 0.034251,
     "end_time": "2025-07-28T11:06:14.345660",
     "exception": false,
     "start_time": "2025-07-28T11:06:14.311409",
     "status": "completed"
    },
    "tags": []
   },
   "outputs": [],
   "source": [
    "from fairness_multiverse.conformal import compute_nc_scores\n",
    "\n",
    "# Compute nonconformity scores on calibration set (1 - probability of true class)\n",
    "nc_scores = compute_nc_scores(probs_calib, y_calib)"
   ]
  },
  {
   "cell_type": "code",
   "execution_count": 44,
   "id": "df3b8ca3-53b7-43d5-9667-7c85da7aeda2",
   "metadata": {
    "execution": {
     "iopub.execute_input": "2025-07-28T11:06:14.380142Z",
     "iopub.status.busy": "2025-07-28T11:06:14.379715Z",
     "iopub.status.idle": "2025-07-28T11:06:14.385444Z",
     "shell.execute_reply": "2025-07-28T11:06:14.384704Z"
    },
    "papermill": {
     "duration": 0.020346,
     "end_time": "2025-07-28T11:06:14.386805",
     "exception": false,
     "start_time": "2025-07-28T11:06:14.366459",
     "status": "completed"
    },
    "tags": []
   },
   "outputs": [],
   "source": [
    "from fairness_multiverse.conformal import find_threshold\n",
    "\n",
    "# Find conformal threshold q_hat for the given alpha (split conformal method)\n",
    "q_hat = find_threshold(nc_scores, alpha)"
   ]
  },
  {
   "cell_type": "code",
   "execution_count": 45,
   "id": "4d29e6c1-0ef6-4aa4-b8fe-4fe79b0d033a",
   "metadata": {
    "execution": {
     "iopub.execute_input": "2025-07-28T11:06:14.417023Z",
     "iopub.status.busy": "2025-07-28T11:06:14.416325Z",
     "iopub.status.idle": "2025-07-28T11:06:14.422851Z",
     "shell.execute_reply": "2025-07-28T11:06:14.421884Z"
    },
    "papermill": {
     "duration": 0.024596,
     "end_time": "2025-07-28T11:06:14.424491",
     "exception": false,
     "start_time": "2025-07-28T11:06:14.399895",
     "status": "completed"
    },
    "tags": []
   },
   "outputs": [
    {
     "data": {
      "text/plain": [
       "0.6599999999999999"
      ]
     },
     "execution_count": 45,
     "metadata": {},
     "output_type": "execute_result"
    }
   ],
   "source": [
    "q_hat"
   ]
  },
  {
   "cell_type": "code",
   "execution_count": 46,
   "id": "92460794-cdac-4be2-ba28-f28c0515a6fb",
   "metadata": {
    "execution": {
     "iopub.execute_input": "2025-07-28T11:06:14.464294Z",
     "iopub.status.busy": "2025-07-28T11:06:14.463840Z",
     "iopub.status.idle": "2025-07-28T11:06:17.710020Z",
     "shell.execute_reply": "2025-07-28T11:06:17.708852Z"
    },
    "papermill": {
     "duration": 3.269425,
     "end_time": "2025-07-28T11:06:17.712223",
     "exception": false,
     "start_time": "2025-07-28T11:06:14.442798",
     "status": "completed"
    },
    "tags": []
   },
   "outputs": [],
   "source": [
    "from fairness_multiverse.conformal import predict_conformal_sets\n",
    "\n",
    "# Generate prediction sets for each test example\n",
    "pred_sets = predict_conformal_sets(model, X_test, q_hat)"
   ]
  },
  {
   "cell_type": "code",
   "execution_count": 47,
   "id": "d90c9a65-e6db-4f5d-80cd-e68fb7e46829",
   "metadata": {
    "execution": {
     "iopub.execute_input": "2025-07-28T11:06:17.817835Z",
     "iopub.status.busy": "2025-07-28T11:06:17.817526Z",
     "iopub.status.idle": "2025-07-28T11:06:17.825265Z",
     "shell.execute_reply": "2025-07-28T11:06:17.823941Z"
    },
    "papermill": {
     "duration": 0.077224,
     "end_time": "2025-07-28T11:06:17.826983",
     "exception": false,
     "start_time": "2025-07-28T11:06:17.749759",
     "status": "completed"
    },
    "tags": []
   },
   "outputs": [],
   "source": [
    "y_true = y_true.squeeze()"
   ]
  },
  {
   "cell_type": "code",
   "execution_count": 48,
   "id": "3a58a54a-1e68-46b9-927a-df01f18aebc8",
   "metadata": {
    "execution": {
     "iopub.execute_input": "2025-07-28T11:06:17.914733Z",
     "iopub.status.busy": "2025-07-28T11:06:17.914258Z",
     "iopub.status.idle": "2025-07-28T11:06:19.378964Z",
     "shell.execute_reply": "2025-07-28T11:06:19.377708Z"
    },
    "papermill": {
     "duration": 1.498303,
     "end_time": "2025-07-28T11:06:19.381341",
     "exception": false,
     "start_time": "2025-07-28T11:06:17.883038",
     "status": "completed"
    },
    "tags": []
   },
   "outputs": [],
   "source": [
    "from fairness_multiverse.conformal import evaluate_sets\n",
    "\n",
    "# Evaluate coverage and average set size on test data\n",
    "metrics = evaluate_sets(pred_sets, y_true)"
   ]
  },
  {
   "cell_type": "markdown",
   "id": "2b569c12-9aaa-4c88-98c9-bbcd0cf3ebb8",
   "metadata": {
    "papermill": {
     "duration": 0.073046,
     "end_time": "2025-07-28T11:06:19.500903",
     "exception": false,
     "start_time": "2025-07-28T11:06:19.427857",
     "status": "completed"
    },
    "tags": []
   },
   "source": [
    "# CP Metrics"
   ]
  },
  {
   "cell_type": "code",
   "execution_count": 49,
   "id": "5ce0a5cb-201f-45a0-ade5-94c7f0bd6095",
   "metadata": {
    "execution": {
     "iopub.execute_input": "2025-07-28T11:06:19.670161Z",
     "iopub.status.busy": "2025-07-28T11:06:19.669741Z",
     "iopub.status.idle": "2025-07-28T11:06:19.678110Z",
     "shell.execute_reply": "2025-07-28T11:06:19.677038Z"
    },
    "papermill": {
     "duration": 0.111241,
     "end_time": "2025-07-28T11:06:19.682930",
     "exception": false,
     "start_time": "2025-07-28T11:06:19.571689",
     "status": "completed"
    },
    "tags": []
   },
   "outputs": [
    {
     "data": {
      "text/plain": [
       "{'coverage': 0.9166871028870806, 'avg_size': 1.144465499944265}"
      ]
     },
     "execution_count": 49,
     "metadata": {},
     "output_type": "execute_result"
    }
   ],
   "source": [
    "metrics"
   ]
  },
  {
   "cell_type": "code",
   "execution_count": 50,
   "id": "9b9a838d-31c9-430b-ae14-12baee460d17",
   "metadata": {
    "execution": {
     "iopub.execute_input": "2025-07-28T11:06:19.902219Z",
     "iopub.status.busy": "2025-07-28T11:06:19.901756Z",
     "iopub.status.idle": "2025-07-28T11:06:19.910098Z",
     "shell.execute_reply": "2025-07-28T11:06:19.909086Z"
    },
    "papermill": {
     "duration": 0.109298,
     "end_time": "2025-07-28T11:06:19.912451",
     "exception": false,
     "start_time": "2025-07-28T11:06:19.803153",
     "status": "completed"
    },
    "tags": []
   },
   "outputs": [],
   "source": [
    "example_universe = universe.copy()\n",
    "universe_training_size = example_universe.get(\"training_size\")\n",
    "universe_scale = example_universe.get(\"scale\")\n",
    "universe_model = example_universe.get(\"model\")\n",
    "universe_exclude_features = example_universe.get(\"exclude_features\")\n",
    "universe_exclude_subgroups = example_universe.get(\"exclude_subgroups\")"
   ]
  },
  {
   "cell_type": "code",
   "execution_count": 51,
   "id": "f4b6a8ac-9dc0-4245-8a91-5b3b5999c4f9",
   "metadata": {
    "execution": {
     "iopub.execute_input": "2025-07-28T11:06:20.082677Z",
     "iopub.status.busy": "2025-07-28T11:06:20.082241Z",
     "iopub.status.idle": "2025-07-28T11:06:20.091100Z",
     "shell.execute_reply": "2025-07-28T11:06:20.089927Z"
    },
    "papermill": {
     "duration": 0.088856,
     "end_time": "2025-07-28T11:06:20.093482",
     "exception": false,
     "start_time": "2025-07-28T11:06:20.004626",
     "status": "completed"
    },
    "tags": []
   },
   "outputs": [],
   "source": [
    "cp_metrics_dict = {\n",
    "    \"universe_id\": [universe_id],\n",
    "    \"universe_training_size\": [universe_training_size],\n",
    "    \"universe_scale\": [universe_scale],\n",
    "    \"universe_model\": [universe_model],\n",
    "    \"universe_exclude_features\": [universe_exclude_features],\n",
    "    \"universe_exclude_subgroups\": [universe_exclude_subgroups],\n",
    "    \"q_hat\": [q_hat],\n",
    "    \"coverage\": [metrics[\"coverage\"]],\n",
    "    \"avg_size\": [metrics[\"avg_size\"]],\n",
    "}"
   ]
  },
  {
   "cell_type": "code",
   "execution_count": 52,
   "id": "908acbb1-0371-4915-85ca-3fa520d2efe2",
   "metadata": {
    "execution": {
     "iopub.execute_input": "2025-07-28T11:06:20.291053Z",
     "iopub.status.busy": "2025-07-28T11:06:20.290623Z",
     "iopub.status.idle": "2025-07-28T11:06:20.301226Z",
     "shell.execute_reply": "2025-07-28T11:06:20.300067Z"
    },
    "papermill": {
     "duration": 0.112037,
     "end_time": "2025-07-28T11:06:20.304177",
     "exception": false,
     "start_time": "2025-07-28T11:06:20.192140",
     "status": "completed"
    },
    "tags": []
   },
   "outputs": [
    {
     "data": {
      "text/plain": [
       "{'universe_id': ['40399500eb84bd5cc8f385349267c749'],\n",
       " 'universe_training_size': ['2014'],\n",
       " 'universe_scale': ['do-not-scale'],\n",
       " 'universe_model': ['rf'],\n",
       " 'universe_exclude_features': ['nationality'],\n",
       " 'universe_exclude_subgroups': ['keep-all'],\n",
       " 'q_hat': [0.6599999999999999],\n",
       " 'coverage': [0.9166871028870806],\n",
       " 'avg_size': [1.144465499944265]}"
      ]
     },
     "execution_count": 52,
     "metadata": {},
     "output_type": "execute_result"
    }
   ],
   "source": [
    "cp_metrics_dict"
   ]
  },
  {
   "cell_type": "code",
   "execution_count": 53,
   "id": "33007efc-14e9-4ec6-97ac-56a455c82265",
   "metadata": {
    "execution": {
     "iopub.execute_input": "2025-07-28T11:06:20.486418Z",
     "iopub.status.busy": "2025-07-28T11:06:20.485938Z",
     "iopub.status.idle": "2025-07-28T11:06:20.494988Z",
     "shell.execute_reply": "2025-07-28T11:06:20.493750Z"
    },
    "papermill": {
     "duration": 0.108205,
     "end_time": "2025-07-28T11:06:20.497428",
     "exception": false,
     "start_time": "2025-07-28T11:06:20.389223",
     "status": "completed"
    },
    "tags": []
   },
   "outputs": [],
   "source": [
    "cp_metrics_df = pd.DataFrame(cp_metrics_dict)"
   ]
  },
  {
   "cell_type": "code",
   "execution_count": 54,
   "id": "db12611b-57b2-4910-b9d0-355adfd6e7bf",
   "metadata": {
    "execution": {
     "iopub.execute_input": "2025-07-28T11:06:20.686756Z",
     "iopub.status.busy": "2025-07-28T11:06:20.686309Z",
     "iopub.status.idle": "2025-07-28T11:06:20.734561Z",
     "shell.execute_reply": "2025-07-28T11:06:20.733441Z"
    },
    "papermill": {
     "duration": 0.148479,
     "end_time": "2025-07-28T11:06:20.736783",
     "exception": false,
     "start_time": "2025-07-28T11:06:20.588304",
     "status": "completed"
    },
    "tags": []
   },
   "outputs": [
    {
     "data": {
      "text/html": [
       "<div>\n",
       "<style scoped>\n",
       "    .dataframe tbody tr th:only-of-type {\n",
       "        vertical-align: middle;\n",
       "    }\n",
       "\n",
       "    .dataframe tbody tr th {\n",
       "        vertical-align: top;\n",
       "    }\n",
       "\n",
       "    .dataframe thead th {\n",
       "        text-align: right;\n",
       "    }\n",
       "</style>\n",
       "<table border=\"1\" class=\"dataframe\">\n",
       "  <thead>\n",
       "    <tr style=\"text-align: right;\">\n",
       "      <th></th>\n",
       "      <th>universe_id</th>\n",
       "      <th>universe_training_size</th>\n",
       "      <th>universe_scale</th>\n",
       "      <th>universe_model</th>\n",
       "      <th>universe_exclude_features</th>\n",
       "      <th>universe_exclude_subgroups</th>\n",
       "      <th>q_hat</th>\n",
       "      <th>coverage</th>\n",
       "      <th>avg_size</th>\n",
       "    </tr>\n",
       "  </thead>\n",
       "  <tbody>\n",
       "    <tr>\n",
       "      <th>0</th>\n",
       "      <td>40399500eb84bd5cc8f385349267c749</td>\n",
       "      <td>2014</td>\n",
       "      <td>do-not-scale</td>\n",
       "      <td>rf</td>\n",
       "      <td>nationality</td>\n",
       "      <td>keep-all</td>\n",
       "      <td>0.66</td>\n",
       "      <td>0.916687</td>\n",
       "      <td>1.144465</td>\n",
       "    </tr>\n",
       "  </tbody>\n",
       "</table>\n",
       "</div>"
      ],
      "text/plain": [
       "                        universe_id universe_training_size universe_scale  \\\n",
       "0  40399500eb84bd5cc8f385349267c749                   2014   do-not-scale   \n",
       "\n",
       "  universe_model universe_exclude_features universe_exclude_subgroups  q_hat  \\\n",
       "0             rf               nationality                   keep-all   0.66   \n",
       "\n",
       "   coverage  avg_size  \n",
       "0  0.916687  1.144465  "
      ]
     },
     "execution_count": 54,
     "metadata": {},
     "output_type": "execute_result"
    }
   ],
   "source": [
    "cp_metrics_df"
   ]
  },
  {
   "cell_type": "code",
   "execution_count": 55,
   "id": "b7fbde55-a0a1-47e4-9af6-fe4a17fa8c61",
   "metadata": {
    "execution": {
     "iopub.execute_input": "2025-07-28T11:06:20.934742Z",
     "iopub.status.busy": "2025-07-28T11:06:20.934246Z",
     "iopub.status.idle": "2025-07-28T11:06:20.941259Z",
     "shell.execute_reply": "2025-07-28T11:06:20.940108Z"
    },
    "papermill": {
     "duration": 0.116279,
     "end_time": "2025-07-28T11:06:20.944435",
     "exception": false,
     "start_time": "2025-07-28T11:06:20.828156",
     "status": "completed"
    },
    "tags": []
   },
   "outputs": [],
   "source": [
    "# Conditional Coverage & looking at subgroups"
   ]
  },
  {
   "cell_type": "code",
   "execution_count": 56,
   "id": "027ae886-68dd-4141-96c7-805a5450e1ef",
   "metadata": {
    "execution": {
     "iopub.execute_input": "2025-07-28T11:06:21.140514Z",
     "iopub.status.busy": "2025-07-28T11:06:21.140062Z",
     "iopub.status.idle": "2025-07-28T11:06:22.093411Z",
     "shell.execute_reply": "2025-07-28T11:06:22.092114Z"
    },
    "papermill": {
     "duration": 1.05838,
     "end_time": "2025-07-28T11:06:22.095866",
     "exception": false,
     "start_time": "2025-07-28T11:06:21.037486",
     "status": "completed"
    },
    "tags": []
   },
   "outputs": [],
   "source": [
    "from fairness_multiverse.conformal import build_cp_groups\n",
    "\n",
    "cp_groups_df = build_cp_groups(pred_sets, y_true, X_test.index, org_test)\n",
    "#needs universe_id and setting"
   ]
  },
  {
   "cell_type": "code",
   "execution_count": 57,
   "id": "01d5802c-663a-4d1f-9d69-e036faaffbf7",
   "metadata": {
    "execution": {
     "iopub.execute_input": "2025-07-28T11:06:22.250824Z",
     "iopub.status.busy": "2025-07-28T11:06:22.250379Z",
     "iopub.status.idle": "2025-07-28T11:06:22.257007Z",
     "shell.execute_reply": "2025-07-28T11:06:22.255966Z"
    },
    "papermill": {
     "duration": 0.097825,
     "end_time": "2025-07-28T11:06:22.259252",
     "exception": false,
     "start_time": "2025-07-28T11:06:22.161427",
     "status": "completed"
    },
    "tags": []
   },
   "outputs": [],
   "source": [
    "#delete\n",
    "#cp_groups_df"
   ]
  },
  {
   "cell_type": "code",
   "execution_count": 58,
   "id": "fa424af1-d1eb-443d-b717-2d279ada8408",
   "metadata": {
    "execution": {
     "iopub.execute_input": "2025-07-28T11:06:22.424263Z",
     "iopub.status.busy": "2025-07-28T11:06:22.423766Z",
     "iopub.status.idle": "2025-07-28T11:06:22.429445Z",
     "shell.execute_reply": "2025-07-28T11:06:22.428386Z"
    },
    "papermill": {
     "duration": 0.091111,
     "end_time": "2025-07-28T11:06:22.431377",
     "exception": false,
     "start_time": "2025-07-28T11:06:22.340266",
     "status": "completed"
    },
    "tags": []
   },
   "outputs": [],
   "source": [
    "#delete\n",
    "#percentage = (cp_groups_df['nongerman_female'] == 1).mean() * 100\n",
    "#print(percentage)\n"
   ]
  },
  {
   "cell_type": "code",
   "execution_count": 59,
   "id": "6cbdab96-b2b2-45af-ad54-d0516db2e28d",
   "metadata": {
    "execution": {
     "iopub.execute_input": "2025-07-28T11:06:22.569751Z",
     "iopub.status.busy": "2025-07-28T11:06:22.569297Z",
     "iopub.status.idle": "2025-07-28T11:06:27.193393Z",
     "shell.execute_reply": "2025-07-28T11:06:27.192196Z"
    },
    "papermill": {
     "duration": 4.6832,
     "end_time": "2025-07-28T11:06:27.195485",
     "exception": false,
     "start_time": "2025-07-28T11:06:22.512285",
     "status": "completed"
    },
    "tags": []
   },
   "outputs": [],
   "source": [
    "# Define covered = 1 if true_label is in the predicted set\n",
    "cp_groups_df['covered'] = cp_groups_df.apply(\n",
    "    lambda r: int(r['true_label'] in r['pred_set']),\n",
    "    axis=1\n",
    ")"
   ]
  },
  {
   "cell_type": "code",
   "execution_count": 60,
   "id": "338ff529-1a6b-4b87-a931-8e4788d52aad",
   "metadata": {
    "execution": {
     "iopub.execute_input": "2025-07-28T11:06:27.345787Z",
     "iopub.status.busy": "2025-07-28T11:06:27.345298Z",
     "iopub.status.idle": "2025-07-28T11:06:27.352776Z",
     "shell.execute_reply": "2025-07-28T11:06:27.351482Z"
    },
    "papermill": {
     "duration": 0.065435,
     "end_time": "2025-07-28T11:06:27.355023",
     "exception": false,
     "start_time": "2025-07-28T11:06:27.289588",
     "status": "completed"
    },
    "tags": []
   },
   "outputs": [],
   "source": [
    "#cp_groups_df"
   ]
  },
  {
   "cell_type": "code",
   "execution_count": 61,
   "id": "90032e27-66df-4540-9169-4e89cfbaa758",
   "metadata": {
    "execution": {
     "iopub.execute_input": "2025-07-28T11:06:27.467721Z",
     "iopub.status.busy": "2025-07-28T11:06:27.467220Z",
     "iopub.status.idle": "2025-07-28T11:06:27.483210Z",
     "shell.execute_reply": "2025-07-28T11:06:27.481973Z"
    },
    "papermill": {
     "duration": 0.07822,
     "end_time": "2025-07-28T11:06:27.491390",
     "exception": false,
     "start_time": "2025-07-28T11:06:27.413170",
     "status": "completed"
    },
    "tags": []
   },
   "outputs": [],
   "source": [
    "subgroups = ['frau1','nongerman','nongerman_male','nongerman_female']\n",
    "\n",
    "# Conditional coverage for subgroup==1\n",
    "cond_coverage = {\n",
    "    g: cp_groups_df.loc[cp_groups_df[g]==1, 'covered'].mean()\n",
    "    for g in subgroups\n",
    "}"
   ]
  },
  {
   "cell_type": "code",
   "execution_count": 62,
   "id": "1e348fb1-b9c3-45bc-ba23-f016827a7e0d",
   "metadata": {
    "execution": {
     "iopub.execute_input": "2025-07-28T11:06:27.667605Z",
     "iopub.status.busy": "2025-07-28T11:06:27.667086Z",
     "iopub.status.idle": "2025-07-28T11:06:27.676264Z",
     "shell.execute_reply": "2025-07-28T11:06:27.674950Z"
    },
    "papermill": {
     "duration": 0.096232,
     "end_time": "2025-07-28T11:06:27.680929",
     "exception": false,
     "start_time": "2025-07-28T11:06:27.584697",
     "status": "completed"
    },
    "tags": []
   },
   "outputs": [
    {
     "data": {
      "text/plain": [
       "{'frau1': 0.9174012670171182,\n",
       " 'nongerman': 0.9151181721214843,\n",
       " 'nongerman_male': 0.9282175988471584,\n",
       " 'nongerman_female': 0.8934426229508197}"
      ]
     },
     "execution_count": 62,
     "metadata": {},
     "output_type": "execute_result"
    }
   ],
   "source": [
    "cond_coverage"
   ]
  },
  {
   "cell_type": "code",
   "execution_count": 63,
   "id": "f5093324-c3dd-4d63-bc4c-8d945e5c8bbb",
   "metadata": {
    "execution": {
     "iopub.execute_input": "2025-07-28T11:06:27.839224Z",
     "iopub.status.busy": "2025-07-28T11:06:27.838722Z",
     "iopub.status.idle": "2025-07-28T11:06:27.847904Z",
     "shell.execute_reply": "2025-07-28T11:06:27.846722Z"
    },
    "papermill": {
     "duration": 0.087017,
     "end_time": "2025-07-28T11:06:27.851665",
     "exception": false,
     "start_time": "2025-07-28T11:06:27.764648",
     "status": "completed"
    },
    "tags": []
   },
   "outputs": [],
   "source": [
    "for subgroup, cov in cond_coverage.items():\n",
    "    cp_metrics_df[f\"cov_{subgroup}\"] = cov"
   ]
  },
  {
   "cell_type": "code",
   "execution_count": 64,
   "id": "6e872e10-dbe5-49e8-b554-5030c98ff75d",
   "metadata": {
    "execution": {
     "iopub.execute_input": "2025-07-28T11:06:27.990905Z",
     "iopub.status.busy": "2025-07-28T11:06:27.990434Z",
     "iopub.status.idle": "2025-07-28T11:06:28.031912Z",
     "shell.execute_reply": "2025-07-28T11:06:28.030740Z"
    },
    "papermill": {
     "duration": 0.110155,
     "end_time": "2025-07-28T11:06:28.034312",
     "exception": false,
     "start_time": "2025-07-28T11:06:27.924157",
     "status": "completed"
    },
    "tags": []
   },
   "outputs": [
    {
     "data": {
      "text/html": [
       "<div>\n",
       "<style scoped>\n",
       "    .dataframe tbody tr th:only-of-type {\n",
       "        vertical-align: middle;\n",
       "    }\n",
       "\n",
       "    .dataframe tbody tr th {\n",
       "        vertical-align: top;\n",
       "    }\n",
       "\n",
       "    .dataframe thead th {\n",
       "        text-align: right;\n",
       "    }\n",
       "</style>\n",
       "<table border=\"1\" class=\"dataframe\">\n",
       "  <thead>\n",
       "    <tr style=\"text-align: right;\">\n",
       "      <th></th>\n",
       "      <th>universe_id</th>\n",
       "      <th>universe_training_size</th>\n",
       "      <th>universe_scale</th>\n",
       "      <th>universe_model</th>\n",
       "      <th>universe_exclude_features</th>\n",
       "      <th>universe_exclude_subgroups</th>\n",
       "      <th>q_hat</th>\n",
       "      <th>coverage</th>\n",
       "      <th>avg_size</th>\n",
       "      <th>cov_frau1</th>\n",
       "      <th>cov_nongerman</th>\n",
       "      <th>cov_nongerman_male</th>\n",
       "      <th>cov_nongerman_female</th>\n",
       "    </tr>\n",
       "  </thead>\n",
       "  <tbody>\n",
       "    <tr>\n",
       "      <th>0</th>\n",
       "      <td>40399500eb84bd5cc8f385349267c749</td>\n",
       "      <td>2014</td>\n",
       "      <td>do-not-scale</td>\n",
       "      <td>rf</td>\n",
       "      <td>nationality</td>\n",
       "      <td>keep-all</td>\n",
       "      <td>0.66</td>\n",
       "      <td>0.916687</td>\n",
       "      <td>1.144465</td>\n",
       "      <td>0.917401</td>\n",
       "      <td>0.915118</td>\n",
       "      <td>0.928218</td>\n",
       "      <td>0.893443</td>\n",
       "    </tr>\n",
       "  </tbody>\n",
       "</table>\n",
       "</div>"
      ],
      "text/plain": [
       "                        universe_id universe_training_size universe_scale  \\\n",
       "0  40399500eb84bd5cc8f385349267c749                   2014   do-not-scale   \n",
       "\n",
       "  universe_model universe_exclude_features universe_exclude_subgroups  q_hat  \\\n",
       "0             rf               nationality                   keep-all   0.66   \n",
       "\n",
       "   coverage  avg_size  cov_frau1  cov_nongerman  cov_nongerman_male  \\\n",
       "0  0.916687  1.144465   0.917401       0.915118            0.928218   \n",
       "\n",
       "   cov_nongerman_female  \n",
       "0              0.893443  "
      ]
     },
     "execution_count": 64,
     "metadata": {},
     "output_type": "execute_result"
    }
   ],
   "source": [
    "cp_metrics_df"
   ]
  },
  {
   "cell_type": "markdown",
   "id": "33774451",
   "metadata": {
    "papermill": {
     "duration": 0.060451,
     "end_time": "2025-07-28T11:06:28.151094",
     "exception": false,
     "start_time": "2025-07-28T11:06:28.090643",
     "status": "completed"
    },
    "tags": []
   },
   "source": [
    "# (Fairness) Metrics"
   ]
  },
  {
   "cell_type": "code",
   "execution_count": 65,
   "id": "debc5d62",
   "metadata": {
    "execution": {
     "iopub.execute_input": "2025-07-28T11:06:28.314469Z",
     "iopub.status.busy": "2025-07-28T11:06:28.314009Z",
     "iopub.status.idle": "2025-07-28T11:06:28.364841Z",
     "shell.execute_reply": "2025-07-28T11:06:28.363750Z"
    },
    "papermill": {
     "duration": 0.146203,
     "end_time": "2025-07-28T11:06:28.366916",
     "exception": false,
     "start_time": "2025-07-28T11:06:28.220713",
     "status": "completed"
    },
    "tags": []
   },
   "outputs": [],
   "source": [
    "# do I need to include maxdeutsch1.missing?\n",
    "\n",
    "import numpy as np\n",
    "\n",
    "colname_to_bin = \"maxdeutsch1\"\n",
    "majority_value = org_train[colname_to_bin].mode()[0]\n",
    "\n",
    "org_test[\"majmin\"] = np.where(org_test[colname_to_bin] == majority_value, \"majority\", \"minority\")"
   ]
  },
  {
   "cell_type": "code",
   "execution_count": 66,
   "id": "06a50de5",
   "metadata": {
    "execution": {
     "iopub.execute_input": "2025-07-28T11:06:28.515179Z",
     "iopub.status.busy": "2025-07-28T11:06:28.514662Z",
     "iopub.status.idle": "2025-07-28T11:06:34.462160Z",
     "shell.execute_reply": "2025-07-28T11:06:34.460821Z"
    },
    "papermill": {
     "duration": 6.028741,
     "end_time": "2025-07-28T11:06:34.464334",
     "exception": false,
     "start_time": "2025-07-28T11:06:28.435593",
     "status": "completed"
    },
    "tags": []
   },
   "outputs": [],
   "source": [
    "example_universe = universe.copy()\n",
    "example_universe[\"cutoff\"] = example_universe[\"cutoff\"][0]\n",
    "example_universe[\"eval_fairness_grouping\"] = example_universe[\"eval_fairness_grouping\"][0]\n",
    "fairness_dict, metric_frame = universe_analysis.compute_metrics(\n",
    "    example_universe,\n",
    "    y_pred_prob=probs_test,\n",
    "    y_test=y_true,\n",
    "    org_test=org_test,\n",
    ")"
   ]
  },
  {
   "cell_type": "markdown",
   "id": "f95d4e02",
   "metadata": {
    "papermill": {
     "duration": 0.079877,
     "end_time": "2025-07-28T11:06:34.635085",
     "exception": false,
     "start_time": "2025-07-28T11:06:34.555208",
     "status": "completed"
    },
    "tags": []
   },
   "source": [
    "# Overall"
   ]
  },
  {
   "cell_type": "markdown",
   "id": "bdee4871",
   "metadata": {
    "papermill": {
     "duration": 0.087246,
     "end_time": "2025-07-28T11:06:34.772537",
     "exception": false,
     "start_time": "2025-07-28T11:06:34.685291",
     "status": "completed"
    },
    "tags": []
   },
   "source": [
    "Fairness\n",
    "Main fairness target: Equalized Odds. Seems to be a better fit than equal opportunity, since we're not only interested in Y = 1. Seems to be a better fit than demographic parity, since we also care about accuracy, not just equal distribution of preds.\n",
    "\n",
    "Pick column for computation of fairness metrics\n",
    "\n",
    "Performance\n",
    "Overall performance measures, most interesting in relation to the measures split by group below"
   ]
  },
  {
   "cell_type": "code",
   "execution_count": 67,
   "id": "c4e067c6",
   "metadata": {
    "execution": {
     "iopub.execute_input": "2025-07-28T11:06:34.912428Z",
     "iopub.status.busy": "2025-07-28T11:06:34.910606Z",
     "iopub.status.idle": "2025-07-28T11:06:34.921620Z",
     "shell.execute_reply": "2025-07-28T11:06:34.920596Z"
    },
    "papermill": {
     "duration": 0.082563,
     "end_time": "2025-07-28T11:06:34.923357",
     "exception": false,
     "start_time": "2025-07-28T11:06:34.840794",
     "status": "completed"
    },
    "tags": []
   },
   "outputs": [
    {
     "data": {
      "text/plain": [
       "accuracy                   0.208371\n",
       "balanced accuracy          0.535638\n",
       "f1                         0.240273\n",
       "precision                  0.137003\n",
       "false positive rate        0.904568\n",
       "false negative rate        0.024157\n",
       "selection rate             0.913711\n",
       "count                  89710.000000\n",
       "dtype: float64"
      ]
     },
     "execution_count": 67,
     "metadata": {},
     "output_type": "execute_result"
    }
   ],
   "source": [
    "metric_frame.overall"
   ]
  },
  {
   "cell_type": "markdown",
   "id": "e968fe9d",
   "metadata": {
    "papermill": {
     "duration": 0.036747,
     "end_time": "2025-07-28T11:06:35.030368",
     "exception": false,
     "start_time": "2025-07-28T11:06:34.993621",
     "status": "completed"
    },
    "tags": []
   },
   "source": [
    "By Group"
   ]
  },
  {
   "cell_type": "code",
   "execution_count": 68,
   "id": "ec325bce",
   "metadata": {
    "execution": {
     "iopub.execute_input": "2025-07-28T11:06:35.107053Z",
     "iopub.status.busy": "2025-07-28T11:06:35.106649Z",
     "iopub.status.idle": "2025-07-28T11:06:35.145234Z",
     "shell.execute_reply": "2025-07-28T11:06:35.144090Z"
    },
    "papermill": {
     "duration": 0.088408,
     "end_time": "2025-07-28T11:06:35.147356",
     "exception": false,
     "start_time": "2025-07-28T11:06:35.058948",
     "status": "completed"
    },
    "tags": []
   },
   "outputs": [
    {
     "data": {
      "text/html": [
       "<div>\n",
       "<style scoped>\n",
       "    .dataframe tbody tr th:only-of-type {\n",
       "        vertical-align: middle;\n",
       "    }\n",
       "\n",
       "    .dataframe tbody tr th {\n",
       "        vertical-align: top;\n",
       "    }\n",
       "\n",
       "    .dataframe thead th {\n",
       "        text-align: right;\n",
       "    }\n",
       "</style>\n",
       "<table border=\"1\" class=\"dataframe\">\n",
       "  <thead>\n",
       "    <tr style=\"text-align: right;\">\n",
       "      <th></th>\n",
       "      <th>accuracy</th>\n",
       "      <th>balanced accuracy</th>\n",
       "      <th>f1</th>\n",
       "      <th>precision</th>\n",
       "      <th>false positive rate</th>\n",
       "      <th>false negative rate</th>\n",
       "      <th>selection rate</th>\n",
       "      <th>count</th>\n",
       "    </tr>\n",
       "    <tr>\n",
       "      <th>majmin</th>\n",
       "      <th></th>\n",
       "      <th></th>\n",
       "      <th></th>\n",
       "      <th></th>\n",
       "      <th></th>\n",
       "      <th></th>\n",
       "      <th></th>\n",
       "      <th></th>\n",
       "    </tr>\n",
       "  </thead>\n",
       "  <tbody>\n",
       "    <tr>\n",
       "      <th>majority</th>\n",
       "      <td>0.197297</td>\n",
       "      <td>0.533598</td>\n",
       "      <td>0.24595</td>\n",
       "      <td>0.140403</td>\n",
       "      <td>0.923505</td>\n",
       "      <td>0.009300</td>\n",
       "      <td>0.932384</td>\n",
       "      <td>69170.0</td>\n",
       "    </tr>\n",
       "    <tr>\n",
       "      <th>minority</th>\n",
       "      <td>0.245667</td>\n",
       "      <td>0.538243</td>\n",
       "      <td>0.21921</td>\n",
       "      <td>0.124456</td>\n",
       "      <td>0.842010</td>\n",
       "      <td>0.081503</td>\n",
       "      <td>0.850828</td>\n",
       "      <td>20540.0</td>\n",
       "    </tr>\n",
       "  </tbody>\n",
       "</table>\n",
       "</div>"
      ],
      "text/plain": [
       "          accuracy  balanced accuracy       f1  precision  \\\n",
       "majmin                                                      \n",
       "majority  0.197297           0.533598  0.24595   0.140403   \n",
       "minority  0.245667           0.538243  0.21921   0.124456   \n",
       "\n",
       "          false positive rate  false negative rate  selection rate    count  \n",
       "majmin                                                                       \n",
       "majority             0.923505             0.009300        0.932384  69170.0  \n",
       "minority             0.842010             0.081503        0.850828  20540.0  "
      ]
     },
     "execution_count": 68,
     "metadata": {},
     "output_type": "execute_result"
    }
   ],
   "source": [
    "metric_frame.by_group"
   ]
  },
  {
   "cell_type": "code",
   "execution_count": 69,
   "id": "a9ddbe63",
   "metadata": {
    "execution": {
     "iopub.execute_input": "2025-07-28T11:06:35.307296Z",
     "iopub.status.busy": "2025-07-28T11:06:35.306852Z",
     "iopub.status.idle": "2025-07-28T11:06:41.183812Z",
     "shell.execute_reply": "2025-07-28T11:06:41.182691Z"
    },
    "papermill": {
     "duration": 5.953484,
     "end_time": "2025-07-28T11:06:41.185800",
     "exception": false,
     "start_time": "2025-07-28T11:06:35.232316",
     "status": "completed"
    },
    "tags": []
   },
   "outputs": [
    {
     "data": {
      "text/plain": [
       "array([[<Axes: title={'center': 'accuracy'}, xlabel='majmin'>,\n",
       "        <Axes: title={'center': 'balanced accuracy'}, xlabel='majmin'>,\n",
       "        <Axes: title={'center': 'f1'}, xlabel='majmin'>],\n",
       "       [<Axes: title={'center': 'precision'}, xlabel='majmin'>,\n",
       "        <Axes: title={'center': 'false positive rate'}, xlabel='majmin'>,\n",
       "        <Axes: title={'center': 'false negative rate'}, xlabel='majmin'>],\n",
       "       [<Axes: title={'center': 'selection rate'}, xlabel='majmin'>,\n",
       "        <Axes: title={'center': 'count'}, xlabel='majmin'>,\n",
       "        <Axes: xlabel='majmin'>]], dtype=object)"
      ]
     },
     "execution_count": 69,
     "metadata": {},
     "output_type": "execute_result"
    },
    {
     "data": {
      "image/png": "[encoded data removed]",
      "text/plain": [
       "<Figure size 1200x800 with 9 Axes>"
      ]
     },
     "metadata": {},
     "output_type": "display_data"
    }
   ],
   "source": [
    "# In a graphic\n",
    "metric_frame.by_group.plot.bar(\n",
    "    subplots=True,\n",
    "    layout=[3, 3],\n",
    "    legend=False,\n",
    "    figsize=[12, 8],\n",
    "    title=\"Show all metrics\",\n",
    ")"
   ]
  },
  {
   "cell_type": "markdown",
   "id": "f57a0bac",
   "metadata": {
    "papermill": {
     "duration": 0.096489,
     "end_time": "2025-07-28T11:06:41.337172",
     "exception": false,
     "start_time": "2025-07-28T11:06:41.240683",
     "status": "completed"
    },
    "tags": []
   },
   "source": [
    "# Final Output"
   ]
  },
  {
   "cell_type": "code",
   "execution_count": 70,
   "id": "96d280a3",
   "metadata": {
    "execution": {
     "iopub.execute_input": "2025-07-28T11:06:41.518579Z",
     "iopub.status.busy": "2025-07-28T11:06:41.517956Z",
     "iopub.status.idle": "2025-07-28T11:06:41.528011Z",
     "shell.execute_reply": "2025-07-28T11:06:41.527012Z"
    },
    "papermill": {
     "duration": 0.111297,
     "end_time": "2025-07-28T11:06:41.529643",
     "exception": false,
     "start_time": "2025-07-28T11:06:41.418346",
     "status": "completed"
    },
    "tags": []
   },
   "outputs": [
    {
     "data": {
      "text/plain": [
       "4"
      ]
     },
     "execution_count": 70,
     "metadata": {},
     "output_type": "execute_result"
    }
   ],
   "source": [
    "sub_universes = universe_analysis.generate_sub_universes()\n",
    "len(sub_universes)"
   ]
  },
  {
   "cell_type": "code",
   "execution_count": 71,
   "id": "92adf7ba",
   "metadata": {
    "execution": {
     "iopub.execute_input": "2025-07-28T11:06:41.659867Z",
     "iopub.status.busy": "2025-07-28T11:06:41.659416Z",
     "iopub.status.idle": "2025-07-28T11:06:41.666615Z",
     "shell.execute_reply": "2025-07-28T11:06:41.665575Z"
    },
    "papermill": {
     "duration": 0.06756,
     "end_time": "2025-07-28T11:06:41.668210",
     "exception": false,
     "start_time": "2025-07-28T11:06:41.600650",
     "status": "completed"
    },
    "tags": []
   },
   "outputs": [],
   "source": [
    "def filter_sub_universe_data(sub_universe, org_test):\n",
    "    # Keep all rows — no filtering\n",
    "    keep_rows_mask = np.ones(org_test.shape[0], dtype=bool)\n",
    "\n",
    "    print(f\"[INFO] Keeping all rows: {keep_rows_mask.sum()} rows retained.\")\n",
    "    return keep_rows_mask"
   ]
  },
  {
   "cell_type": "code",
   "execution_count": 72,
   "id": "4a759155",
   "metadata": {
    "execution": {
     "iopub.execute_input": "2025-07-28T11:06:41.814930Z",
     "iopub.status.busy": "2025-07-28T11:06:41.814477Z",
     "iopub.status.idle": "2025-07-28T11:06:56.177409Z",
     "shell.execute_reply": "2025-07-28T11:06:56.176111Z"
    },
    "papermill": {
     "duration": 14.450307,
     "end_time": "2025-07-28T11:06:56.179407",
     "exception": false,
     "start_time": "2025-07-28T11:06:41.729100",
     "status": "completed"
    },
    "tags": []
   },
   "outputs": [
    {
     "name": "stdout",
     "output_type": "stream",
     "text": [
      "Stopping execution_time clock.\n",
      "[INFO] Keeping all rows: 89710 rows retained.\n"
     ]
    },
    {
     "name": "stdout",
     "output_type": "stream",
     "text": [
      "[INFO] Keeping all rows: 89710 rows retained.\n"
     ]
    },
    {
     "name": "stdout",
     "output_type": "stream",
     "text": [
      "[INFO] Keeping all rows: 89710 rows retained.\n"
     ]
    },
    {
     "name": "stdout",
     "output_type": "stream",
     "text": [
      "[INFO] Keeping all rows: 89710 rows retained.\n"
     ]
    },
    {
     "data": {
      "text/html": [
       "<div>\n",
       "<style scoped>\n",
       "    .dataframe tbody tr th:only-of-type {\n",
       "        vertical-align: middle;\n",
       "    }\n",
       "\n",
       "    .dataframe tbody tr th {\n",
       "        vertical-align: top;\n",
       "    }\n",
       "\n",
       "    .dataframe thead th {\n",
       "        text-align: right;\n",
       "    }\n",
       "</style>\n",
       "<table border=\"1\" class=\"dataframe\">\n",
       "  <thead>\n",
       "    <tr style=\"text-align: right;\">\n",
       "      <th></th>\n",
       "      <th>run_no</th>\n",
       "      <th>universe_id</th>\n",
       "      <th>universe_settings</th>\n",
       "      <th>execution_time</th>\n",
       "      <th>test_size_n</th>\n",
       "      <th>test_size_frac</th>\n",
       "      <th>fair_main_equalized_odds_difference</th>\n",
       "      <th>fair_main_equalized_odds_ratio</th>\n",
       "      <th>fair_main_demographic_parity_difference</th>\n",
       "      <th>fair_main_demographic_parity_ratio</th>\n",
       "      <th>...</th>\n",
       "      <th>perf_grp_precision_0</th>\n",
       "      <th>perf_grp_precision_1</th>\n",
       "      <th>perf_grp_false positive rate_0</th>\n",
       "      <th>perf_grp_false positive rate_1</th>\n",
       "      <th>perf_grp_false negative rate_0</th>\n",
       "      <th>perf_grp_false negative rate_1</th>\n",
       "      <th>perf_grp_selection rate_0</th>\n",
       "      <th>perf_grp_selection rate_1</th>\n",
       "      <th>perf_grp_count_0</th>\n",
       "      <th>perf_grp_count_1</th>\n",
       "    </tr>\n",
       "  </thead>\n",
       "  <tbody>\n",
       "    <tr>\n",
       "      <th>0</th>\n",
       "      <td>11</td>\n",
       "      <td>40399500eb84bd5cc8f385349267c749</td>\n",
       "      <td>{\"cutoff\": \"quantile_0.1\", \"eval_fairness_grou...</td>\n",
       "      <td>71.634643</td>\n",
       "      <td>89710</td>\n",
       "      <td>1.0</td>\n",
       "      <td>0.081495</td>\n",
       "      <td>0.911754</td>\n",
       "      <td>0.081556</td>\n",
       "      <td>0.912529</td>\n",
       "      <td>...</td>\n",
       "      <td>NaN</td>\n",
       "      <td>NaN</td>\n",
       "      <td>NaN</td>\n",
       "      <td>NaN</td>\n",
       "      <td>NaN</td>\n",
       "      <td>NaN</td>\n",
       "      <td>NaN</td>\n",
       "      <td>NaN</td>\n",
       "      <td>NaN</td>\n",
       "      <td>NaN</td>\n",
       "    </tr>\n",
       "    <tr>\n",
       "      <th>0</th>\n",
       "      <td>11</td>\n",
       "      <td>40399500eb84bd5cc8f385349267c749</td>\n",
       "      <td>{\"cutoff\": \"quantile_0.1\", \"eval_fairness_grou...</td>\n",
       "      <td>71.634643</td>\n",
       "      <td>89710</td>\n",
       "      <td>1.0</td>\n",
       "      <td>0.081495</td>\n",
       "      <td>0.911754</td>\n",
       "      <td>0.081556</td>\n",
       "      <td>0.912529</td>\n",
       "      <td>...</td>\n",
       "      <td>0.124456</td>\n",
       "      <td>0.140403</td>\n",
       "      <td>0.84201</td>\n",
       "      <td>0.923505</td>\n",
       "      <td>0.081503</td>\n",
       "      <td>0.009300</td>\n",
       "      <td>0.850828</td>\n",
       "      <td>0.932384</td>\n",
       "      <td>20540.0</td>\n",
       "      <td>69170.0</td>\n",
       "    </tr>\n",
       "    <tr>\n",
       "      <th>0</th>\n",
       "      <td>11</td>\n",
       "      <td>40399500eb84bd5cc8f385349267c749</td>\n",
       "      <td>{\"cutoff\": \"quantile_0.25\", \"eval_fairness_gro...</td>\n",
       "      <td>71.634643</td>\n",
       "      <td>89710</td>\n",
       "      <td>1.0</td>\n",
       "      <td>0.110812</td>\n",
       "      <td>0.884169</td>\n",
       "      <td>0.092842</td>\n",
       "      <td>0.880933</td>\n",
       "      <td>...</td>\n",
       "      <td>NaN</td>\n",
       "      <td>NaN</td>\n",
       "      <td>NaN</td>\n",
       "      <td>NaN</td>\n",
       "      <td>NaN</td>\n",
       "      <td>NaN</td>\n",
       "      <td>NaN</td>\n",
       "      <td>NaN</td>\n",
       "      <td>NaN</td>\n",
       "      <td>NaN</td>\n",
       "    </tr>\n",
       "    <tr>\n",
       "      <th>0</th>\n",
       "      <td>11</td>\n",
       "      <td>40399500eb84bd5cc8f385349267c749</td>\n",
       "      <td>{\"cutoff\": \"quantile_0.25\", \"eval_fairness_gro...</td>\n",
       "      <td>71.634643</td>\n",
       "      <td>89710</td>\n",
       "      <td>1.0</td>\n",
       "      <td>0.110812</td>\n",
       "      <td>0.884169</td>\n",
       "      <td>0.092842</td>\n",
       "      <td>0.880933</td>\n",
       "      <td>...</td>\n",
       "      <td>0.141966</td>\n",
       "      <td>0.162121</td>\n",
       "      <td>0.66619</td>\n",
       "      <td>0.752807</td>\n",
       "      <td>0.154139</td>\n",
       "      <td>0.043326</td>\n",
       "      <td>0.686904</td>\n",
       "      <td>0.779746</td>\n",
       "      <td>20540.0</td>\n",
       "      <td>69170.0</td>\n",
       "    </tr>\n",
       "  </tbody>\n",
       "</table>\n",
       "<p>4 rows × 50 columns</p>\n",
       "</div>"
      ],
      "text/plain": [
       "  run_no                       universe_id  \\\n",
       "0     11  40399500eb84bd5cc8f385349267c749   \n",
       "0     11  40399500eb84bd5cc8f385349267c749   \n",
       "0     11  40399500eb84bd5cc8f385349267c749   \n",
       "0     11  40399500eb84bd5cc8f385349267c749   \n",
       "\n",
       "                                   universe_settings  execution_time  \\\n",
       "0  {\"cutoff\": \"quantile_0.1\", \"eval_fairness_grou...       71.634643   \n",
       "0  {\"cutoff\": \"quantile_0.1\", \"eval_fairness_grou...       71.634643   \n",
       "0  {\"cutoff\": \"quantile_0.25\", \"eval_fairness_gro...       71.634643   \n",
       "0  {\"cutoff\": \"quantile_0.25\", \"eval_fairness_gro...       71.634643   \n",
       "\n",
       "   test_size_n  test_size_frac  fair_main_equalized_odds_difference  \\\n",
       "0        89710             1.0                             0.081495   \n",
       "0        89710             1.0                             0.081495   \n",
       "0        89710             1.0                             0.110812   \n",
       "0        89710             1.0                             0.110812   \n",
       "\n",
       "   fair_main_equalized_odds_ratio  fair_main_demographic_parity_difference  \\\n",
       "0                        0.911754                                 0.081556   \n",
       "0                        0.911754                                 0.081556   \n",
       "0                        0.884169                                 0.092842   \n",
       "0                        0.884169                                 0.092842   \n",
       "\n",
       "   fair_main_demographic_parity_ratio  ...  perf_grp_precision_0  \\\n",
       "0                            0.912529  ...                   NaN   \n",
       "0                            0.912529  ...              0.124456   \n",
       "0                            0.880933  ...                   NaN   \n",
       "0                            0.880933  ...              0.141966   \n",
       "\n",
       "   perf_grp_precision_1  perf_grp_false positive rate_0  \\\n",
       "0                   NaN                             NaN   \n",
       "0              0.140403                         0.84201   \n",
       "0                   NaN                             NaN   \n",
       "0              0.162121                         0.66619   \n",
       "\n",
       "   perf_grp_false positive rate_1  perf_grp_false negative rate_0  \\\n",
       "0                             NaN                             NaN   \n",
       "0                        0.923505                        0.081503   \n",
       "0                             NaN                             NaN   \n",
       "0                        0.752807                        0.154139   \n",
       "\n",
       "   perf_grp_false negative rate_1  perf_grp_selection rate_0  \\\n",
       "0                             NaN                        NaN   \n",
       "0                        0.009300                   0.850828   \n",
       "0                             NaN                        NaN   \n",
       "0                        0.043326                   0.686904   \n",
       "\n",
       "   perf_grp_selection rate_1  perf_grp_count_0  perf_grp_count_1  \n",
       "0                        NaN               NaN               NaN  \n",
       "0                   0.932384           20540.0           69170.0  \n",
       "0                        NaN               NaN               NaN  \n",
       "0                   0.779746           20540.0           69170.0  \n",
       "\n",
       "[4 rows x 50 columns]"
      ]
     },
     "execution_count": 72,
     "metadata": {},
     "output_type": "execute_result"
    }
   ],
   "source": [
    "final_output = universe_analysis.generate_final_output(\n",
    "    y_pred_prob=probs_test,\n",
    "    y_test=y_true,\n",
    "    org_test=org_test,\n",
    "    filter_data=filter_sub_universe_data,\n",
    "    cp_metrics_df=cp_metrics_df,\n",
    "    save=True,\n",
    ")\n",
    "final_output"
   ]
  },
  {
   "cell_type": "code",
   "execution_count": null,
   "id": "721ff514-cb11-46f8-b6fc-50392f74b5cb",
   "metadata": {
    "papermill": {
     "duration": 0.065445,
     "end_time": "2025-07-28T11:06:56.311531",
     "exception": false,
     "start_time": "2025-07-28T11:06:56.246086",
     "status": "completed"
    },
    "tags": []
   },
   "outputs": [],
   "source": []
  }
 ],
 "metadata": {
  "celltoolbar": "Tags",
  "kernelspec": {
   "display_name": "Python (CMA Fairness)",
   "language": "python",
   "name": "cma_fair_env"
  },
  "language_info": {
   "codemirror_mode": {
    "name": "ipython",
    "version": 3
   },
   "file_extension": ".py",
   "mimetype": "text/x-python",
   "name": "python",
   "nbconvert_exporter": "python",
   "pygments_lexer": "ipython3",
   "version": "3.10.12"
  },
  "papermill": {
   "default_parameters": {},
   "duration": 94.764589,
   "end_time": "2025-07-28T11:06:58.003451",
   "environment_variables": {},
   "exception": null,
   "input_path": "universe_analysis.ipynb",
   "output_path": "output/runs/11/notebooks/m_11-40399500eb84bd5cc8f385349267c749.ipynb",
   "parameters": {
    "output_dir": "output",
    "run_no": "11",
    "seed": "2023",
    "universe": "{\"cutoff\": [\"quantile_0.1\", \"quantile_0.25\"], \"eval_fairness_grouping\": [\"majority-minority\", \"nationality-all\"], \"exclude_features\": \"nationality\", \"exclude_subgroups\": \"keep-all\", \"model\": \"rf\", \"scale\": \"do-not-scale\", \"training_size\": \"2014\"}",
    "universe_id": "40399500eb84bd5cc8f385349267c749"
   },
   "start_time": "2025-07-28T11:05:23.238862",
   "version": "2.6.0"
  }
 },
 "nbformat": 4,
 "nbformat_minor": 5
}