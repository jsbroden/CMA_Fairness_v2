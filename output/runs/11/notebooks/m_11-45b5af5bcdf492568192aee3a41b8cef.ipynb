{
 "cells": [
  {
   "cell_type": "code",
   "execution_count": 1,
   "id": "f159f837-637b-42ba-96b5-ec9a68c44524",
   "metadata": {
    "execution": {
     "iopub.execute_input": "2025-07-28T11:00:38.390485Z",
     "iopub.status.busy": "2025-07-28T11:00:38.389716Z",
     "iopub.status.idle": "2025-07-28T11:00:38.404563Z",
     "shell.execute_reply": "2025-07-28T11:00:38.403622Z"
    },
    "papermill": {
     "duration": 0.038408,
     "end_time": "2025-07-28T11:00:38.406328",
     "exception": false,
     "start_time": "2025-07-28T11:00:38.367920",
     "status": "completed"
    },
    "tags": []
   },
   "outputs": [
    {
     "name": "stdout",
     "output_type": "stream",
     "text": [
      "/dss/dsshome1/0C/ra93lal2/cma/CMA_Fairness_v2\n"
     ]
    },
    {
     "name": "stderr",
     "output_type": "stream",
     "text": [
      "/dss/dsshome1/0C/ra93lal2/.local/share/virtualenvs/CMA_Fairness_v2-3j10GkSs/lib/python3.10/site-packages/IPython/core/magics/osm.py:393: UserWarning: This is now an optional IPython functionality, using bookmarks requires you to install the `pickleshare` library.\n",
      "  bkms = self.shell.db.get('bookmarks', {})\n",
      "/dss/dsshome1/0C/ra93lal2/.local/share/virtualenvs/CMA_Fairness_v2-3j10GkSs/lib/python3.10/site-packages/IPython/core/magics/osm.py:417: UserWarning: This is now an optional IPython functionality, setting dhist requires you to install the `pickleshare` library.\n",
      "  self.shell.db['dhist'] = compress_dhist(dhist)[-100:]\n"
     ]
    }
   ],
   "source": [
    "%cd ~/cma/CMA_Fairness_v2"
   ]
  },
  {
   "cell_type": "markdown",
   "id": "de2603b9",
   "metadata": {
    "papermill": {
     "duration": 0.019834,
     "end_time": "2025-07-28T11:00:38.449105",
     "exception": false,
     "start_time": "2025-07-28T11:00:38.429271",
     "status": "completed"
    },
    "tags": []
   },
   "source": [
    "The following cell holds the definition of our parameters, these values can be overriden by rendering the with e.g. the following command:\n",
    "\n",
    "papermill -p alpha 0.2 -p ratio 0.3 universe_analysis.ipynb output/test_run.ipynb"
   ]
  },
  {
   "cell_type": "code",
   "execution_count": 2,
   "id": "a80968a0-40bb-4fa9-85ef-2d5eefb01975",
   "metadata": {
    "execution": {
     "iopub.execute_input": "2025-07-28T11:00:38.489925Z",
     "iopub.status.busy": "2025-07-28T11:00:38.489190Z",
     "iopub.status.idle": "2025-07-28T11:00:38.495222Z",
     "shell.execute_reply": "2025-07-28T11:00:38.494192Z"
    },
    "papermill": {
     "duration": 0.028446,
     "end_time": "2025-07-28T11:00:38.496948",
     "exception": false,
     "start_time": "2025-07-28T11:00:38.468502",
     "status": "completed"
    },
    "tags": []
   },
   "outputs": [
    {
     "name": "stdout",
     "output_type": "stream",
     "text": [
      "Current working directory: /dss/dsshome1/0C/ra93lal2/cma/CMA_Fairness_v2\n"
     ]
    }
   ],
   "source": [
    "import os\n",
    "print(\"Current working directory:\", os.getcwd())"
   ]
  },
  {
   "cell_type": "code",
   "execution_count": 3,
   "id": "2dce4c03",
   "metadata": {
    "execution": {
     "iopub.execute_input": "2025-07-28T11:00:38.538928Z",
     "iopub.status.busy": "2025-07-28T11:00:38.538223Z",
     "iopub.status.idle": "2025-07-28T11:00:38.544731Z",
     "shell.execute_reply": "2025-07-28T11:00:38.543729Z"
    },
    "papermill": {
     "duration": 0.029453,
     "end_time": "2025-07-28T11:00:38.546515",
     "exception": false,
     "start_time": "2025-07-28T11:00:38.517062",
     "status": "completed"
    },
    "tags": [
     "parameters"
    ]
   },
   "outputs": [],
   "source": [
    "run_no = 0\n",
    "universe_id = \"test\"\n",
    "universe = {\n",
    "    \"training_size\": \"2014\", # \"25k\", \"5k\", \"1k\", \"2014\"\n",
    "    \"scale\": \"scale\", # \"scale\", \"do-not-scale\",\n",
    "    #\"stratify_split\": \"target\", # \"none\", \"target\", \"protected-attribute\", \"both\",\n",
    "    \"model\": \"elasticnet\", # \"logreg\", \"penalized_logreg\", \"rf\", \"gbm\", \"elasticnet\"\n",
    "    \"cutoff\": [\"quantile_0.15\", \"quantile_0.30\"],\n",
    "    \"exclude_features\": \"age\", # \"none\", \"nationality\", \"sex\", \"nationality-sex\", \"age\"\n",
    "    \"exclude_subgroups\": \"keep-all\", # \"keep-all\", \"drop-non-german\"\n",
    "    \"eval_fairness_grouping\": [\"majority-minority\", \"nationality-all\"]\n",
    "}\n",
    "\n",
    "output_dir=\"./output\"\n",
    "seed=0"
   ]
  },
  {
   "cell_type": "code",
   "execution_count": 4,
   "id": "c77980fb",
   "metadata": {
    "execution": {
     "iopub.execute_input": "2025-07-28T11:00:38.588663Z",
     "iopub.status.busy": "2025-07-28T11:00:38.587667Z",
     "iopub.status.idle": "2025-07-28T11:00:38.593465Z",
     "shell.execute_reply": "2025-07-28T11:00:38.592498Z"
    },
    "papermill": {
     "duration": 0.029118,
     "end_time": "2025-07-28T11:00:38.595345",
     "exception": false,
     "start_time": "2025-07-28T11:00:38.566227",
     "status": "completed"
    },
    "tags": [
     "injected-parameters"
    ]
   },
   "outputs": [],
   "source": [
    "# Parameters\n",
    "universe_id = \"45b5af5bcdf492568192aee3a41b8cef\"\n",
    "run_no = \"11\"\n",
    "universe = \"{\\\"cutoff\\\": [\\\"quantile_0.1\\\", \\\"quantile_0.25\\\"], \\\"eval_fairness_grouping\\\": [\\\"majority-minority\\\", \\\"nationality-all\\\"], \\\"exclude_features\\\": \\\"nationality\\\", \\\"exclude_subgroups\\\": \\\"keep-all\\\", \\\"model\\\": \\\"elasticnet\\\", \\\"scale\\\": \\\"scale\\\", \\\"training_size\\\": \\\"2014\\\"}\"\n",
    "output_dir = \"output\"\n",
    "seed = \"2023\"\n"
   ]
  },
  {
   "cell_type": "code",
   "execution_count": 5,
   "id": "1650acaf",
   "metadata": {
    "execution": {
     "iopub.execute_input": "2025-07-28T11:00:38.637483Z",
     "iopub.status.busy": "2025-07-28T11:00:38.636360Z",
     "iopub.status.idle": "2025-07-28T11:00:38.641856Z",
     "shell.execute_reply": "2025-07-28T11:00:38.640958Z"
    },
    "papermill": {
     "duration": 0.027736,
     "end_time": "2025-07-28T11:00:38.643669",
     "exception": false,
     "start_time": "2025-07-28T11:00:38.615933",
     "status": "completed"
    },
    "tags": []
   },
   "outputs": [],
   "source": [
    "import json\n",
    "# Parse universe into dict if it is passed as a string\n",
    "if isinstance(universe, str):\n",
    "    universe = json.loads(universe)"
   ]
  },
  {
   "cell_type": "code",
   "execution_count": 6,
   "id": "16620c48",
   "metadata": {
    "execution": {
     "iopub.execute_input": "2025-07-28T11:00:38.685658Z",
     "iopub.status.busy": "2025-07-28T11:00:38.684857Z",
     "iopub.status.idle": "2025-07-28T11:00:38.733246Z",
     "shell.execute_reply": "2025-07-28T11:00:38.732182Z"
    },
    "papermill": {
     "duration": 0.071268,
     "end_time": "2025-07-28T11:00:38.735214",
     "exception": false,
     "start_time": "2025-07-28T11:00:38.663946",
     "status": "completed"
    },
    "tags": []
   },
   "outputs": [],
   "source": [
    "# Auto-reload the custom package\n",
    "%load_ext autoreload\n",
    "%autoreload 1\n",
    "%aimport fairness_multiverse"
   ]
  },
  {
   "cell_type": "code",
   "execution_count": 7,
   "id": "01c5c9f3",
   "metadata": {
    "execution": {
     "iopub.execute_input": "2025-07-28T11:00:38.776745Z",
     "iopub.status.busy": "2025-07-28T11:00:38.775955Z",
     "iopub.status.idle": "2025-07-28T11:00:40.871090Z",
     "shell.execute_reply": "2025-07-28T11:00:40.869977Z"
    },
    "papermill": {
     "duration": 2.117901,
     "end_time": "2025-07-28T11:00:40.873212",
     "exception": false,
     "start_time": "2025-07-28T11:00:38.755311",
     "status": "completed"
    },
    "tags": []
   },
   "outputs": [],
   "source": [
    "from fairness_multiverse.universe import UniverseAnalysis\n",
    "\n",
    "universe_analysis = UniverseAnalysis(\n",
    "    run_no = run_no,\n",
    "    universe_id = universe_id,\n",
    "    universe = universe,\n",
    "    output_dir=output_dir,\n",
    ")"
   ]
  },
  {
   "cell_type": "code",
   "execution_count": 8,
   "id": "106241f5",
   "metadata": {
    "execution": {
     "iopub.execute_input": "2025-07-28T11:00:40.915698Z",
     "iopub.status.busy": "2025-07-28T11:00:40.915027Z",
     "iopub.status.idle": "2025-07-28T11:00:40.922289Z",
     "shell.execute_reply": "2025-07-28T11:00:40.921163Z"
    },
    "papermill": {
     "duration": 0.029862,
     "end_time": "2025-07-28T11:00:40.924052",
     "exception": false,
     "start_time": "2025-07-28T11:00:40.894190",
     "status": "completed"
    },
    "tags": []
   },
   "outputs": [
    {
     "name": "stdout",
     "output_type": "stream",
     "text": [
      "Using Seed: 2023\n"
     ]
    }
   ],
   "source": [
    "import numpy as np\n",
    "parsed_seed = int(seed)\n",
    "np.random.seed(parsed_seed)\n",
    "print(f\"Using Seed: {parsed_seed}\")"
   ]
  },
  {
   "cell_type": "markdown",
   "id": "e0ebdc57",
   "metadata": {
    "papermill": {
     "duration": 0.020776,
     "end_time": "2025-07-28T11:00:40.966235",
     "exception": false,
     "start_time": "2025-07-28T11:00:40.945459",
     "status": "completed"
    },
    "tags": []
   },
   "source": [
    "# Loading Data"
   ]
  },
  {
   "cell_type": "markdown",
   "id": "681925a3",
   "metadata": {
    "papermill": {
     "duration": 0.019893,
     "end_time": "2025-07-28T11:00:41.005898",
     "exception": false,
     "start_time": "2025-07-28T11:00:40.986005",
     "status": "completed"
    },
    "tags": []
   },
   "source": [
    "Load siab_train, siab_test, siab_calib and/or \n",
    "load siab_train_features, siab_train_labels"
   ]
  },
  {
   "cell_type": "code",
   "execution_count": 9,
   "id": "f0496b8a",
   "metadata": {
    "execution": {
     "iopub.execute_input": "2025-07-28T11:00:41.049716Z",
     "iopub.status.busy": "2025-07-28T11:00:41.048735Z",
     "iopub.status.idle": "2025-07-28T11:00:54.282131Z",
     "shell.execute_reply": "2025-07-28T11:00:54.281020Z"
    },
    "papermill": {
     "duration": 13.257015,
     "end_time": "2025-07-28T11:00:54.283861",
     "exception": false,
     "start_time": "2025-07-28T11:00:41.026846",
     "status": "completed"
    },
    "tags": []
   },
   "outputs": [
    {
     "name": "stdout",
     "output_type": "stream",
     "text": [
      "Loading SIAB data from cache: data/siab_cached.csv.gz\n"
     ]
    },
    {
     "name": "stdout",
     "output_type": "stream",
     "text": [
      "(643690, 164)\n"
     ]
    }
   ],
   "source": [
    "from pathlib import Path\n",
    "import pandas as pd\n",
    "\n",
    "# File paths\n",
    "raw_file = Path(\"data/raw/siab.csv\")\n",
    "cache_file = Path(\"data/siab_cached.csv.gz\")\n",
    "\n",
    "# Ensure cache directory exists\n",
    "cache_file.parent.mkdir(parents=True, exist_ok=True)\n",
    "\n",
    "# Load with simple caching\n",
    "if cache_file.exists():\n",
    "    print(f\"Loading SIAB data from cache: {cache_file}\")\n",
    "    siab = pd.read_csv(cache_file, compression='gzip')\n",
    "else:\n",
    "    print(f\"Cache not found. Reading raw SIAB data: {raw_file}\")\n",
    "    siab = pd.read_csv(raw_file)\n",
    "    siab.to_csv(cache_file, index=False, compression='gzip')\n",
    "    print(f\"Cached SIAB data to: {cache_file}\")\n",
    "\n",
    "# Now use `siab` DataFrame as needed\n",
    "print(siab.shape)"
   ]
  },
  {
   "cell_type": "code",
   "execution_count": 10,
   "id": "db0ca512-5f53-4dba-abdb-a2888bca41ba",
   "metadata": {
    "execution": {
     "iopub.execute_input": "2025-07-28T11:00:54.326112Z",
     "iopub.status.busy": "2025-07-28T11:00:54.325362Z",
     "iopub.status.idle": "2025-07-28T11:00:54.331346Z",
     "shell.execute_reply": "2025-07-28T11:00:54.330405Z"
    },
    "papermill": {
     "duration": 0.027697,
     "end_time": "2025-07-28T11:00:54.333048",
     "exception": false,
     "start_time": "2025-07-28T11:00:54.305351",
     "status": "completed"
    },
    "tags": []
   },
   "outputs": [],
   "source": [
    "#siab"
   ]
  },
  {
   "cell_type": "code",
   "execution_count": 11,
   "id": "a0edb063",
   "metadata": {
    "execution": {
     "iopub.execute_input": "2025-07-28T11:00:54.372249Z",
     "iopub.status.busy": "2025-07-28T11:00:54.371628Z",
     "iopub.status.idle": "2025-07-28T11:00:54.376851Z",
     "shell.execute_reply": "2025-07-28T11:00:54.375927Z"
    },
    "papermill": {
     "duration": 0.026645,
     "end_time": "2025-07-28T11:00:54.378672",
     "exception": false,
     "start_time": "2025-07-28T11:00:54.352027",
     "status": "completed"
    },
    "tags": []
   },
   "outputs": [],
   "source": [
    "#import pandas as pd\n",
    "#\n",
    "#X_train = pd.read_csv(\"./data/X_train.csv\")\n",
    "#y_train = pd.read_csv(\"./data/y_train.csv\")"
   ]
  },
  {
   "cell_type": "code",
   "execution_count": 12,
   "id": "63d08085",
   "metadata": {
    "execution": {
     "iopub.execute_input": "2025-07-28T11:00:54.418019Z",
     "iopub.status.busy": "2025-07-28T11:00:54.417491Z",
     "iopub.status.idle": "2025-07-28T11:00:54.422546Z",
     "shell.execute_reply": "2025-07-28T11:00:54.421537Z"
    },
    "papermill": {
     "duration": 0.02657,
     "end_time": "2025-07-28T11:00:54.424157",
     "exception": false,
     "start_time": "2025-07-28T11:00:54.397587",
     "status": "completed"
    },
    "tags": []
   },
   "outputs": [],
   "source": [
    "#X_test = pd.read_csv(\"./data/X_test.csv\")\n",
    "#y_true = pd.read_csv(\"./data/y_test.csv\")"
   ]
  },
  {
   "cell_type": "code",
   "execution_count": 13,
   "id": "98a8d0fa-1d3d-4ed8-bb2c-281470e24add",
   "metadata": {
    "execution": {
     "iopub.execute_input": "2025-07-28T11:00:54.463622Z",
     "iopub.status.busy": "2025-07-28T11:00:54.462833Z",
     "iopub.status.idle": "2025-07-28T11:00:54.468472Z",
     "shell.execute_reply": "2025-07-28T11:00:54.467472Z"
    },
    "papermill": {
     "duration": 0.02715,
     "end_time": "2025-07-28T11:00:54.470245",
     "exception": false,
     "start_time": "2025-07-28T11:00:54.443095",
     "status": "completed"
    },
    "tags": []
   },
   "outputs": [],
   "source": [
    "# Calibration data for conformal\n",
    "#X_calib = pd.read_csv(\"./data/X_calib.csv\")\n",
    "#y_calib = pd.read_csv(\"./data/y_calib.csv\")"
   ]
  },
  {
   "cell_type": "markdown",
   "id": "9901737e-04df-44f0-9100-f5ad144ed040",
   "metadata": {
    "papermill": {
     "duration": 0.018708,
     "end_time": "2025-07-28T11:00:54.508207",
     "exception": false,
     "start_time": "2025-07-28T11:00:54.489499",
     "status": "completed"
    },
    "tags": []
   },
   "source": [
    "# Splitting Data and Setting Training Data Size"
   ]
  },
  {
   "cell_type": "code",
   "execution_count": 14,
   "id": "acbc8f7d-8fc8-4e86-8c59-5dcb0f58384b",
   "metadata": {
    "execution": {
     "iopub.execute_input": "2025-07-28T11:00:54.547651Z",
     "iopub.status.busy": "2025-07-28T11:00:54.546977Z",
     "iopub.status.idle": "2025-07-28T11:00:54.555269Z",
     "shell.execute_reply": "2025-07-28T11:00:54.554366Z"
    },
    "papermill": {
     "duration": 0.030182,
     "end_time": "2025-07-28T11:00:54.556950",
     "exception": false,
     "start_time": "2025-07-28T11:00:54.526768",
     "status": "completed"
    },
    "tags": []
   },
   "outputs": [],
   "source": [
    "def sample_by_year(df, training_size, random_state=42):\n",
    "    if training_size == \"2014\":\n",
    "        return df[df[\"year\"] == 2014].reset_index(drop=True)\n",
    "    \n",
    "    size_map = {\n",
    "        \"25k\": 5000,\n",
    "        \"5k\": 1000,\n",
    "        \"1k\": 200\n",
    "    }\n",
    "\n",
    "    if training_size not in size_map:\n",
    "        return df.reset_index(drop=True)  # use all data\n",
    "\n",
    "    n_per_year = size_map[training_size]\n",
    "    grouped = df.groupby(\"year\")\n",
    "    sampled = grouped.apply(lambda x: x.sample(n=min(n_per_year, len(x)), random_state=random_state))\n",
    "    return sampled.reset_index(drop=True)"
   ]
  },
  {
   "cell_type": "code",
   "execution_count": 15,
   "id": "6d931f52-beaf-43ff-9e78-9d44a448d54e",
   "metadata": {
    "execution": {
     "iopub.execute_input": "2025-07-28T11:00:54.598490Z",
     "iopub.status.busy": "2025-07-28T11:00:54.597788Z",
     "iopub.status.idle": "2025-07-28T11:00:54.777019Z",
     "shell.execute_reply": "2025-07-28T11:00:54.776011Z"
    },
    "papermill": {
     "duration": 0.202083,
     "end_time": "2025-07-28T11:00:54.778948",
     "exception": false,
     "start_time": "2025-07-28T11:00:54.576865",
     "status": "completed"
    },
    "tags": []
   },
   "outputs": [],
   "source": [
    "siab_s = sample_by_year(siab, universe[\"training_size\"])"
   ]
  },
  {
   "cell_type": "code",
   "execution_count": 16,
   "id": "5db0a40e-a4e2-4920-be85-b12ae061d70d",
   "metadata": {
    "execution": {
     "iopub.execute_input": "2025-07-28T11:00:54.819332Z",
     "iopub.status.busy": "2025-07-28T11:00:54.818630Z",
     "iopub.status.idle": "2025-07-28T11:00:54.833931Z",
     "shell.execute_reply": "2025-07-28T11:00:54.832827Z"
    },
    "papermill": {
     "duration": 0.037064,
     "end_time": "2025-07-28T11:00:54.835610",
     "exception": false,
     "start_time": "2025-07-28T11:00:54.798546",
     "status": "completed"
    },
    "tags": []
   },
   "outputs": [
    {
     "data": {
      "text/plain": [
       "year\n",
       "2014    87158\n",
       "dtype: int64"
      ]
     },
     "metadata": {},
     "output_type": "display_data"
    }
   ],
   "source": [
    "display(siab_s.groupby(\"year\").size())"
   ]
  },
  {
   "cell_type": "code",
   "execution_count": 17,
   "id": "a561edb4-d032-42cb-8256-22eac1111c64",
   "metadata": {
    "execution": {
     "iopub.execute_input": "2025-07-28T11:00:54.875999Z",
     "iopub.status.busy": "2025-07-28T11:00:54.875305Z",
     "iopub.status.idle": "2025-07-28T11:00:55.158719Z",
     "shell.execute_reply": "2025-07-28T11:00:55.157743Z"
    },
    "papermill": {
     "duration": 0.305651,
     "end_time": "2025-07-28T11:00:55.160662",
     "exception": false,
     "start_time": "2025-07-28T11:00:54.855011",
     "status": "completed"
    },
    "tags": []
   },
   "outputs": [],
   "source": [
    "siab_train = siab_s[siab_s.year < 2015]\n",
    "siab_calib = siab[siab.year == 2015]\n",
    "siab_test = siab[siab.year == 2016]"
   ]
  },
  {
   "cell_type": "code",
   "execution_count": 18,
   "id": "472de16f-c3db-4916-846b-1f0de9cf1746",
   "metadata": {
    "execution": {
     "iopub.execute_input": "2025-07-28T11:00:55.201193Z",
     "iopub.status.busy": "2025-07-28T11:00:55.200790Z",
     "iopub.status.idle": "2025-07-28T11:00:55.253144Z",
     "shell.execute_reply": "2025-07-28T11:00:55.252143Z"
    },
    "papermill": {
     "duration": 0.074503,
     "end_time": "2025-07-28T11:00:55.254889",
     "exception": false,
     "start_time": "2025-07-28T11:00:55.180386",
     "status": "completed"
    },
    "tags": []
   },
   "outputs": [],
   "source": [
    "X_train = siab_train.iloc[:,4:164]\n",
    "y_train = siab_train.iloc[:, [3]]"
   ]
  },
  {
   "cell_type": "code",
   "execution_count": 19,
   "id": "828c96af-f43a-4ed6-ba47-8ac73a47d56c",
   "metadata": {
    "execution": {
     "iopub.execute_input": "2025-07-28T11:00:55.295418Z",
     "iopub.status.busy": "2025-07-28T11:00:55.294723Z",
     "iopub.status.idle": "2025-07-28T11:00:55.345298Z",
     "shell.execute_reply": "2025-07-28T11:00:55.344236Z"
    },
    "papermill": {
     "duration": 0.072429,
     "end_time": "2025-07-28T11:00:55.347027",
     "exception": false,
     "start_time": "2025-07-28T11:00:55.274598",
     "status": "completed"
    },
    "tags": []
   },
   "outputs": [],
   "source": [
    "X_calib = siab_calib.iloc[:,4:164]\n",
    "y_calib = siab_calib.iloc[:, [3]]"
   ]
  },
  {
   "cell_type": "code",
   "execution_count": 20,
   "id": "c34be9c3-6bd6-476e-acd3-845840e303be",
   "metadata": {
    "execution": {
     "iopub.execute_input": "2025-07-28T11:00:55.388472Z",
     "iopub.status.busy": "2025-07-28T11:00:55.387753Z",
     "iopub.status.idle": "2025-07-28T11:00:55.439316Z",
     "shell.execute_reply": "2025-07-28T11:00:55.438220Z"
    },
    "papermill": {
     "duration": 0.073772,
     "end_time": "2025-07-28T11:00:55.441100",
     "exception": false,
     "start_time": "2025-07-28T11:00:55.367328",
     "status": "completed"
    },
    "tags": []
   },
   "outputs": [],
   "source": [
    "X_test = siab_test.iloc[:,4:164]\n",
    "y_true = siab_test.iloc[:, [3]]"
   ]
  },
  {
   "cell_type": "code",
   "execution_count": 21,
   "id": "e6c733c5",
   "metadata": {
    "execution": {
     "iopub.execute_input": "2025-07-28T11:00:55.485122Z",
     "iopub.status.busy": "2025-07-28T11:00:55.483744Z",
     "iopub.status.idle": "2025-07-28T11:00:55.621442Z",
     "shell.execute_reply": "2025-07-28T11:00:55.620541Z"
    },
    "papermill": {
     "duration": 0.162468,
     "end_time": "2025-07-28T11:00:55.623474",
     "exception": false,
     "start_time": "2025-07-28T11:00:55.461006",
     "status": "completed"
    },
    "tags": []
   },
   "outputs": [],
   "source": [
    "# Auxiliary data needed downstream in the pipeline\n",
    "\n",
    "org_train = X_train.copy()\n",
    "org_test = X_test.copy()\n",
    "org_calib = X_calib.copy()"
   ]
  },
  {
   "cell_type": "markdown",
   "id": "0a4a1b33",
   "metadata": {
    "papermill": {
     "duration": 0.019599,
     "end_time": "2025-07-28T11:00:55.665029",
     "exception": false,
     "start_time": "2025-07-28T11:00:55.645430",
     "status": "completed"
    },
    "tags": []
   },
   "source": [
    "# Preprocessing Data"
   ]
  },
  {
   "cell_type": "code",
   "execution_count": 22,
   "id": "ca879031",
   "metadata": {
    "execution": {
     "iopub.execute_input": "2025-07-28T11:00:55.706582Z",
     "iopub.status.busy": "2025-07-28T11:00:55.705917Z",
     "iopub.status.idle": "2025-07-28T11:00:55.712622Z",
     "shell.execute_reply": "2025-07-28T11:00:55.711616Z"
    },
    "papermill": {
     "duration": 0.029171,
     "end_time": "2025-07-28T11:00:55.714198",
     "exception": false,
     "start_time": "2025-07-28T11:00:55.685027",
     "status": "completed"
    },
    "tags": []
   },
   "outputs": [],
   "source": [
    "# EXCLUDE PROTECTED FEATURES\n",
    "# ----------------------\n",
    "# \"exclude_features\": \"none\", # \"nationality\", \"sex\", \"nationality-sex\"\n",
    "\n",
    "excluded_features = universe[\"exclude_features\"].split(\"-\") # split, e.g.: \"nationality-sex\" -> [\"nationality\", \"sex\"]\n",
    "excluded_features_dictionary = {\n",
    "    \"nationality\": [\"maxdeutsch1\", \"maxdeutsch.Missing.\"],\n",
    "    \"sex\": [\"frau1\"],\n",
    "    \"age\": [\"age\"],\n",
    "}\n"
   ]
  },
  {
   "cell_type": "code",
   "execution_count": 23,
   "id": "b745ac60",
   "metadata": {
    "execution": {
     "iopub.execute_input": "2025-07-28T11:00:55.755519Z",
     "iopub.status.busy": "2025-07-28T11:00:55.754807Z",
     "iopub.status.idle": "2025-07-28T11:00:55.760769Z",
     "shell.execute_reply": "2025-07-28T11:00:55.759816Z"
    },
    "papermill": {
     "duration": 0.028309,
     "end_time": "2025-07-28T11:00:55.762376",
     "exception": false,
     "start_time": "2025-07-28T11:00:55.734067",
     "status": "completed"
    },
    "tags": []
   },
   "outputs": [],
   "source": [
    "# Code nice names to column names\n",
    "\n",
    "excluded_features_columns = [\n",
    "    excluded_features_dictionary[f] for f in excluded_features if len(f) > 0 and f != \"none\"\n",
    "]"
   ]
  },
  {
   "cell_type": "code",
   "execution_count": 24,
   "id": "f84f73a2",
   "metadata": {
    "execution": {
     "iopub.execute_input": "2025-07-28T11:00:55.805981Z",
     "iopub.status.busy": "2025-07-28T11:00:55.805283Z",
     "iopub.status.idle": "2025-07-28T11:00:55.811972Z",
     "shell.execute_reply": "2025-07-28T11:00:55.811153Z"
    },
    "papermill": {
     "duration": 0.029153,
     "end_time": "2025-07-28T11:00:55.813613",
     "exception": false,
     "start_time": "2025-07-28T11:00:55.784460",
     "status": "completed"
    },
    "tags": []
   },
   "outputs": [],
   "source": [
    "from utils import flatten_once\n",
    "\n",
    "excluded_features_columns = flatten_once(excluded_features_columns)"
   ]
  },
  {
   "cell_type": "code",
   "execution_count": 25,
   "id": "884dea22",
   "metadata": {
    "execution": {
     "iopub.execute_input": "2025-07-28T11:00:55.855469Z",
     "iopub.status.busy": "2025-07-28T11:00:55.854804Z",
     "iopub.status.idle": "2025-07-28T11:00:55.908458Z",
     "shell.execute_reply": "2025-07-28T11:00:55.907558Z"
    },
    "papermill": {
     "duration": 0.076613,
     "end_time": "2025-07-28T11:00:55.910218",
     "exception": false,
     "start_time": "2025-07-28T11:00:55.833605",
     "status": "completed"
    },
    "tags": []
   },
   "outputs": [
    {
     "name": "stdout",
     "output_type": "stream",
     "text": [
      "Dropping features: ['maxdeutsch1', 'maxdeutsch.Missing.']\n"
     ]
    }
   ],
   "source": [
    "if len(excluded_features_columns) > 0:\n",
    "    print(f\"Dropping features: {excluded_features_columns}\")\n",
    "    X_train.drop(excluded_features_columns, axis=1, inplace=True)"
   ]
  },
  {
   "cell_type": "code",
   "execution_count": 26,
   "id": "95ab8b16",
   "metadata": {
    "execution": {
     "iopub.execute_input": "2025-07-28T11:00:55.953575Z",
     "iopub.status.busy": "2025-07-28T11:00:55.952668Z",
     "iopub.status.idle": "2025-07-28T11:00:56.007047Z",
     "shell.execute_reply": "2025-07-28T11:00:56.005986Z"
    },
    "papermill": {
     "duration": 0.077943,
     "end_time": "2025-07-28T11:00:56.008843",
     "exception": false,
     "start_time": "2025-07-28T11:00:55.930900",
     "status": "completed"
    },
    "tags": []
   },
   "outputs": [
    {
     "name": "stdout",
     "output_type": "stream",
     "text": [
      "Dropping features: ['maxdeutsch1', 'maxdeutsch.Missing.']\n"
     ]
    }
   ],
   "source": [
    "if len(excluded_features_columns) > 0:\n",
    "    print(f\"Dropping features: {excluded_features_columns}\")\n",
    "    X_test.drop(excluded_features_columns, axis=1, inplace=True)"
   ]
  },
  {
   "cell_type": "code",
   "execution_count": 27,
   "id": "1853aaf5-fb9f-46cb-a2b5-8ea4ae2237e4",
   "metadata": {
    "execution": {
     "iopub.execute_input": "2025-07-28T11:00:56.052138Z",
     "iopub.status.busy": "2025-07-28T11:00:56.051193Z",
     "iopub.status.idle": "2025-07-28T11:00:56.101945Z",
     "shell.execute_reply": "2025-07-28T11:00:56.100994Z"
    },
    "papermill": {
     "duration": 0.074142,
     "end_time": "2025-07-28T11:00:56.103859",
     "exception": false,
     "start_time": "2025-07-28T11:00:56.029717",
     "status": "completed"
    },
    "tags": []
   },
   "outputs": [
    {
     "name": "stdout",
     "output_type": "stream",
     "text": [
      "Dropping features: ['maxdeutsch1', 'maxdeutsch.Missing.']\n"
     ]
    }
   ],
   "source": [
    "if len(excluded_features_columns) > 0:\n",
    "    print(f\"Dropping features: {excluded_features_columns}\")\n",
    "    X_calib.drop(excluded_features_columns, axis=1, inplace=True)"
   ]
  },
  {
   "cell_type": "code",
   "execution_count": 28,
   "id": "6727d079-03e5-481e-9d38-292a90b7a0a8",
   "metadata": {
    "execution": {
     "iopub.execute_input": "2025-07-28T11:00:56.146426Z",
     "iopub.status.busy": "2025-07-28T11:00:56.145775Z",
     "iopub.status.idle": "2025-07-28T11:00:56.150887Z",
     "shell.execute_reply": "2025-07-28T11:00:56.150005Z"
    },
    "papermill": {
     "duration": 0.027874,
     "end_time": "2025-07-28T11:00:56.152428",
     "exception": false,
     "start_time": "2025-07-28T11:00:56.124554",
     "status": "completed"
    },
    "tags": []
   },
   "outputs": [],
   "source": [
    "# SPLIT & STRATIFY DATA\n",
    "# ----------------------"
   ]
  },
  {
   "cell_type": "code",
   "execution_count": 29,
   "id": "76c4dc6d",
   "metadata": {
    "execution": {
     "iopub.execute_input": "2025-07-28T11:00:56.194917Z",
     "iopub.status.busy": "2025-07-28T11:00:56.194238Z",
     "iopub.status.idle": "2025-07-28T11:00:56.199858Z",
     "shell.execute_reply": "2025-07-28T11:00:56.198881Z"
    },
    "papermill": {
     "duration": 0.02878,
     "end_time": "2025-07-28T11:00:56.201674",
     "exception": false,
     "start_time": "2025-07-28T11:00:56.172894",
     "status": "completed"
    },
    "tags": []
   },
   "outputs": [],
   "source": [
    "# EXCLUDE CERTAIN SUBGROUPS\n",
    "# ----------------------\n",
    "\n",
    "mode = universe.get(\"exclude_subgroups\", \"keep-all\") \n",
    "# Fetches the exclude_subgroups setting from the universe dict.\n",
    "# Defaults to \"keep-all\" if the key is missing."
   ]
  },
  {
   "cell_type": "code",
   "execution_count": 30,
   "id": "21994072",
   "metadata": {
    "execution": {
     "iopub.execute_input": "2025-07-28T11:00:56.244590Z",
     "iopub.status.busy": "2025-07-28T11:00:56.243857Z",
     "iopub.status.idle": "2025-07-28T11:00:56.251212Z",
     "shell.execute_reply": "2025-07-28T11:00:56.250306Z"
    },
    "papermill": {
     "duration": 0.030294,
     "end_time": "2025-07-28T11:00:56.252796",
     "exception": false,
     "start_time": "2025-07-28T11:00:56.222502",
     "status": "completed"
    },
    "tags": []
   },
   "outputs": [],
   "source": [
    "if mode == \"keep-all\":\n",
    "    keep_mask = pd.Series(True, index=org_train.index)\n",
    "\n",
    "# org_train contains the original feature columns from features_org (in Simson)\n",
    "# features_org contains unprocessed features, for me X_train at beginning ???\n",
    "# For keep-all, creates a boolean Series (keep_mask) of all True, so no rows are removed.\n",
    "\n",
    "elif mode == \"drop-non-german\":\n",
    "    keep_mask = org_train[\"maxdeutsch1\"] == 1 # ??? what about missing values?\n",
    "\n",
    "else:\n",
    "    raise ValueError(f\"Unsupported mode for exclude_subgroups: {mode}\")\n"
   ]
  },
  {
   "cell_type": "code",
   "execution_count": 31,
   "id": "71651440",
   "metadata": {
    "execution": {
     "iopub.execute_input": "2025-07-28T11:00:56.295817Z",
     "iopub.status.busy": "2025-07-28T11:00:56.295082Z",
     "iopub.status.idle": "2025-07-28T11:00:56.302276Z",
     "shell.execute_reply": "2025-07-28T11:00:56.301424Z"
    },
    "papermill": {
     "duration": 0.030444,
     "end_time": "2025-07-28T11:00:56.303966",
     "exception": false,
     "start_time": "2025-07-28T11:00:56.273522",
     "status": "completed"
    },
    "tags": []
   },
   "outputs": [],
   "source": [
    "n_drop = (~keep_mask).sum() # Calculates how many rows are set to be dropped\n",
    "if n_drop > 0:\n",
    "    pct = n_drop / len(keep_mask) * 100\n",
    "    print(f\"Dropping {n_drop} rows ({pct:.2f}%) where mode='{mode}'\")"
   ]
  },
  {
   "cell_type": "code",
   "execution_count": 32,
   "id": "5fb8eee5",
   "metadata": {
    "execution": {
     "iopub.execute_input": "2025-07-28T11:00:56.347120Z",
     "iopub.status.busy": "2025-07-28T11:00:56.346398Z",
     "iopub.status.idle": "2025-07-28T11:00:56.408378Z",
     "shell.execute_reply": "2025-07-28T11:00:56.407442Z"
    },
    "papermill": {
     "duration": 0.085318,
     "end_time": "2025-07-28T11:00:56.410304",
     "exception": false,
     "start_time": "2025-07-28T11:00:56.324986",
     "status": "completed"
    },
    "tags": []
   },
   "outputs": [],
   "source": [
    "X_train = X_train[keep_mask]"
   ]
  },
  {
   "cell_type": "code",
   "execution_count": 33,
   "id": "b202bb3a",
   "metadata": {
    "execution": {
     "iopub.execute_input": "2025-07-28T11:00:56.454337Z",
     "iopub.status.busy": "2025-07-28T11:00:56.453681Z",
     "iopub.status.idle": "2025-07-28T11:00:56.461527Z",
     "shell.execute_reply": "2025-07-28T11:00:56.460569Z"
    },
    "papermill": {
     "duration": 0.031311,
     "end_time": "2025-07-28T11:00:56.463103",
     "exception": false,
     "start_time": "2025-07-28T11:00:56.431792",
     "status": "completed"
    },
    "tags": []
   },
   "outputs": [],
   "source": [
    "y_train = y_train[keep_mask]"
   ]
  },
  {
   "cell_type": "markdown",
   "id": "493e2ac3",
   "metadata": {
    "papermill": {
     "duration": 0.020687,
     "end_time": "2025-07-28T11:00:56.505205",
     "exception": false,
     "start_time": "2025-07-28T11:00:56.484518",
     "status": "completed"
    },
    "tags": []
   },
   "source": [
    "# Model Training"
   ]
  },
  {
   "cell_type": "code",
   "execution_count": 34,
   "id": "679e1268",
   "metadata": {
    "execution": {
     "iopub.execute_input": "2025-07-28T11:00:56.548541Z",
     "iopub.status.busy": "2025-07-28T11:00:56.547805Z",
     "iopub.status.idle": "2025-07-28T11:00:56.655575Z",
     "shell.execute_reply": "2025-07-28T11:00:56.654641Z"
    },
    "papermill": {
     "duration": 0.131764,
     "end_time": "2025-07-28T11:00:56.657574",
     "exception": false,
     "start_time": "2025-07-28T11:00:56.525810",
     "status": "completed"
    },
    "tags": []
   },
   "outputs": [],
   "source": [
    "from sklearn.linear_model import LogisticRegression\n",
    "from sklearn.ensemble import GradientBoostingClassifier, RandomForestClassifier\n",
    "\n",
    "if (universe[\"model\"] == \"logreg\"):\n",
    "    model = LogisticRegression() #penalty=\"none\") #, solver=\"newton-cg\", max_iter=1) # include random_state=19 ?\n",
    "elif (universe[\"model\"] == \"penalized_logreg\"):\n",
    "    model = LogisticRegression(penalty=\"l2\", C=1.0) #, solver=\"newton-cg\", max_iter=1)\n",
    "elif (universe[\"model\"] == \"rf\"):\n",
    "    model = RandomForestClassifier(n_estimators=100, n_jobs=-1)\n",
    "elif (universe[\"model\"] == \"gbm\"):\n",
    "    model = GradientBoostingClassifier()\n",
    "elif (universe[\"model\"] == \"elasticnet\"):\n",
    "    model = LogisticRegression(penalty = 'elasticnet', solver = 'saga', l1_ratio = 0.5, max_iter=5000) # which solver to use?\n",
    "else:\n",
    "    raise \"Unsupported universe.model\""
   ]
  },
  {
   "cell_type": "code",
   "execution_count": 35,
   "id": "0cc8f744",
   "metadata": {
    "execution": {
     "iopub.execute_input": "2025-07-28T11:00:56.702089Z",
     "iopub.status.busy": "2025-07-28T11:00:56.701334Z",
     "iopub.status.idle": "2025-07-28T11:00:56.707878Z",
     "shell.execute_reply": "2025-07-28T11:00:56.706895Z"
    },
    "papermill": {
     "duration": 0.030273,
     "end_time": "2025-07-28T11:00:56.709520",
     "exception": false,
     "start_time": "2025-07-28T11:00:56.679247",
     "status": "completed"
    },
    "tags": []
   },
   "outputs": [],
   "source": [
    "import numpy as np\n",
    "from sklearn.pipeline import Pipeline\n",
    "from sklearn.preprocessing import StandardScaler\n",
    "\n",
    "model = Pipeline([\n",
    "    #(\"continuous_processor\", continuous_processor),\n",
    "    #(\"categorical_preprocessor\", categorical_preprocessor),\n",
    "    (\"scale\", StandardScaler() if universe[\"scale\"] == \"scale\" else None), \n",
    "    (\"model\", model),\n",
    "])"
   ]
  },
  {
   "cell_type": "code",
   "execution_count": 36,
   "id": "9442c04d",
   "metadata": {
    "execution": {
     "iopub.execute_input": "2025-07-28T11:00:56.754071Z",
     "iopub.status.busy": "2025-07-28T11:00:56.753398Z",
     "iopub.status.idle": "2025-07-28T11:01:31.878208Z",
     "shell.execute_reply": "2025-07-28T11:01:31.876933Z"
    },
    "papermill": {
     "duration": 35.16262,
     "end_time": "2025-07-28T11:01:31.893820",
     "exception": false,
     "start_time": "2025-07-28T11:00:56.731200",
     "status": "completed"
    },
    "tags": []
   },
   "outputs": [
    {
     "data": {
      "text/html": [
       "<style>#sk-container-id-1 {color: black;background-color: white;}#sk-container-id-1 pre{padding: 0;}#sk-container-id-1 div.sk-toggleable {background-color: white;}#sk-container-id-1 label.sk-toggleable__label {cursor: pointer;display: block;width: 100%;margin-bottom: 0;padding: 0.3em;box-sizing: border-box;text-align: center;}#sk-container-id-1 label.sk-toggleable__label-arrow:before {content: \"▸\";float: left;margin-right: 0.25em;color: #696969;}#sk-container-id-1 label.sk-toggleable__label-arrow:hover:before {color: black;}#sk-container-id-1 div.sk-estimator:hover label.sk-toggleable__label-arrow:before {color: black;}#sk-container-id-1 div.sk-toggleable__content {max-height: 0;max-width: 0;overflow: hidden;text-align: left;background-color: #f0f8ff;}#sk-container-id-1 div.sk-toggleable__content pre {margin: 0.2em;color: black;border-radius: 0.25em;background-color: #f0f8ff;}#sk-container-id-1 input.sk-toggleable__control:checked~div.sk-toggleable__content {max-height: 200px;max-width: 100%;overflow: auto;}#sk-container-id-1 input.sk-toggleable__control:checked~label.sk-toggleable__label-arrow:before {content: \"▾\";}#sk-container-id-1 div.sk-estimator input.sk-toggleable__control:checked~label.sk-toggleable__label {background-color: #d4ebff;}#sk-container-id-1 div.sk-label input.sk-toggleable__control:checked~label.sk-toggleable__label {background-color: #d4ebff;}#sk-container-id-1 input.sk-hidden--visually {border: 0;clip: rect(1px 1px 1px 1px);clip: rect(1px, 1px, 1px, 1px);height: 1px;margin: -1px;overflow: hidden;padding: 0;position: absolute;width: 1px;}#sk-container-id-1 div.sk-estimator {font-family: monospace;background-color: #f0f8ff;border: 1px dotted black;border-radius: 0.25em;box-sizing: border-box;margin-bottom: 0.5em;}#sk-container-id-1 div.sk-estimator:hover {background-color: #d4ebff;}#sk-container-id-1 div.sk-parallel-item::after {content: \"\";width: 100%;border-bottom: 1px solid gray;flex-grow: 1;}#sk-container-id-1 div.sk-label:hover label.sk-toggleable__label {background-color: #d4ebff;}#sk-container-id-1 div.sk-serial::before {content: \"\";position: absolute;border-left: 1px solid gray;box-sizing: border-box;top: 0;bottom: 0;left: 50%;z-index: 0;}#sk-container-id-1 div.sk-serial {display: flex;flex-direction: column;align-items: center;background-color: white;padding-right: 0.2em;padding-left: 0.2em;position: relative;}#sk-container-id-1 div.sk-item {position: relative;z-index: 1;}#sk-container-id-1 div.sk-parallel {display: flex;align-items: stretch;justify-content: center;background-color: white;position: relative;}#sk-container-id-1 div.sk-item::before, #sk-container-id-1 div.sk-parallel-item::before {content: \"\";position: absolute;border-left: 1px solid gray;box-sizing: border-box;top: 0;bottom: 0;left: 50%;z-index: -1;}#sk-container-id-1 div.sk-parallel-item {display: flex;flex-direction: column;z-index: 1;position: relative;background-color: white;}#sk-container-id-1 div.sk-parallel-item:first-child::after {align-self: flex-end;width: 50%;}#sk-container-id-1 div.sk-parallel-item:last-child::after {align-self: flex-start;width: 50%;}#sk-container-id-1 div.sk-parallel-item:only-child::after {width: 0;}#sk-container-id-1 div.sk-dashed-wrapped {border: 1px dashed gray;margin: 0 0.4em 0.5em 0.4em;box-sizing: border-box;padding-bottom: 0.4em;background-color: white;}#sk-container-id-1 div.sk-label label {font-family: monospace;font-weight: bold;display: inline-block;line-height: 1.2em;}#sk-container-id-1 div.sk-label-container {text-align: center;}#sk-container-id-1 div.sk-container {/* jupyter's `normalize.less` sets `[hidden] { display: none; }` but bootstrap.min.css set `[hidden] { display: none !important; }` so we also need the `!important` here to be able to override the default hidden behavior on the sphinx rendered scikit-learn.org. See: https://github.com/scikit-learn/scikit-learn/issues/21755 */display: inline-block !important;position: relative;}#sk-container-id-1 div.sk-text-repr-fallback {display: none;}</style><div id=\"sk-container-id-1\" class=\"sk-top-container\"><div class=\"sk-text-repr-fallback\"><pre>Pipeline(steps=[(&#x27;scale&#x27;, StandardScaler()),\n",
       "                (&#x27;model&#x27;,\n",
       "                 LogisticRegression(l1_ratio=0.5, max_iter=5000,\n",
       "                                    penalty=&#x27;elasticnet&#x27;, solver=&#x27;saga&#x27;))])</pre><b>In a Jupyter environment, please rerun this cell to show the HTML representation or trust the notebook. <br />On GitHub, the HTML representation is unable to render, please try loading this page with nbviewer.org.</b></div><div class=\"sk-container\" hidden><div class=\"sk-item sk-dashed-wrapped\"><div class=\"sk-label-container\"><div class=\"sk-label sk-toggleable\"><input class=\"sk-toggleable__control sk-hidden--visually\" id=\"sk-estimator-id-1\" type=\"checkbox\" ><label for=\"sk-estimator-id-1\" class=\"sk-toggleable__label sk-toggleable__label-arrow\">Pipeline</label><div class=\"sk-toggleable__content\"><pre>Pipeline(steps=[(&#x27;scale&#x27;, StandardScaler()),\n",
       "                (&#x27;model&#x27;,\n",
       "                 LogisticRegression(l1_ratio=0.5, max_iter=5000,\n",
       "                                    penalty=&#x27;elasticnet&#x27;, solver=&#x27;saga&#x27;))])</pre></div></div></div><div class=\"sk-serial\"><div class=\"sk-item\"><div class=\"sk-estimator sk-toggleable\"><input class=\"sk-toggleable__control sk-hidden--visually\" id=\"sk-estimator-id-2\" type=\"checkbox\" ><label for=\"sk-estimator-id-2\" class=\"sk-toggleable__label sk-toggleable__label-arrow\">StandardScaler</label><div class=\"sk-toggleable__content\"><pre>StandardScaler()</pre></div></div></div><div class=\"sk-item\"><div class=\"sk-estimator sk-toggleable\"><input class=\"sk-toggleable__control sk-hidden--visually\" id=\"sk-estimator-id-3\" type=\"checkbox\" ><label for=\"sk-estimator-id-3\" class=\"sk-toggleable__label sk-toggleable__label-arrow\">LogisticRegression</label><div class=\"sk-toggleable__content\"><pre>LogisticRegression(l1_ratio=0.5, max_iter=5000, penalty=&#x27;elasticnet&#x27;,\n",
       "                   solver=&#x27;saga&#x27;)</pre></div></div></div></div></div></div></div>"
      ],
      "text/plain": [
       "Pipeline(steps=[('scale', StandardScaler()),\n",
       "                ('model',\n",
       "                 LogisticRegression(l1_ratio=0.5, max_iter=5000,\n",
       "                                    penalty='elasticnet', solver='saga'))])"
      ]
     },
     "execution_count": 36,
     "metadata": {},
     "output_type": "execute_result"
    }
   ],
   "source": [
    "model.fit(X_train, y_train.values.ravel())"
   ]
  },
  {
   "cell_type": "code",
   "execution_count": 37,
   "id": "af59f8c0",
   "metadata": {
    "execution": {
     "iopub.execute_input": "2025-07-28T11:01:31.918878Z",
     "iopub.status.busy": "2025-07-28T11:01:31.918314Z",
     "iopub.status.idle": "2025-07-28T11:01:31.923369Z",
     "shell.execute_reply": "2025-07-28T11:01:31.922391Z"
    },
    "papermill": {
     "duration": 0.019373,
     "end_time": "2025-07-28T11:01:31.924813",
     "exception": false,
     "start_time": "2025-07-28T11:01:31.905440",
     "status": "completed"
    },
    "tags": []
   },
   "outputs": [],
   "source": [
    "from fairness_multiverse.universe import predict_w_threshold"
   ]
  },
  {
   "cell_type": "code",
   "execution_count": 38,
   "id": "a7cf2e16",
   "metadata": {
    "execution": {
     "iopub.execute_input": "2025-07-28T11:01:31.950989Z",
     "iopub.status.busy": "2025-07-28T11:01:31.950167Z",
     "iopub.status.idle": "2025-07-28T11:01:32.137889Z",
     "shell.execute_reply": "2025-07-28T11:01:32.136940Z"
    },
    "papermill": {
     "duration": 0.201766,
     "end_time": "2025-07-28T11:01:32.139335",
     "exception": false,
     "start_time": "2025-07-28T11:01:31.937569",
     "status": "completed"
    },
    "tags": []
   },
   "outputs": [
    {
     "data": {
      "text/plain": [
       "0.8665923531378887"
      ]
     },
     "execution_count": 38,
     "metadata": {},
     "output_type": "execute_result"
    }
   ],
   "source": [
    "probs_test = model.predict_proba(X_test)\n",
    "\n",
    "'''\n",
    "Below code returns a boolean array (or binary 0/1 array depending on how it’s used) where each element \n",
    "is True if the probability of class 1 is greater than or equal to the threshold, and False otherwise.\n",
    "'''\n",
    "y_pred_default = predict_w_threshold(probs_test, 0.5)\n",
    "\n",
    "from sklearn.metrics import accuracy_score\n",
    "\n",
    "# Naive prediction\n",
    "accuracy_score(y_true = y_true, y_pred = y_pred_default)"
   ]
  },
  {
   "cell_type": "code",
   "execution_count": 39,
   "id": "081964c3",
   "metadata": {
    "execution": {
     "iopub.execute_input": "2025-07-28T11:01:32.165133Z",
     "iopub.status.busy": "2025-07-28T11:01:32.164697Z",
     "iopub.status.idle": "2025-07-28T11:01:32.336454Z",
     "shell.execute_reply": "2025-07-28T11:01:32.335533Z"
    },
    "papermill": {
     "duration": 0.185936,
     "end_time": "2025-07-28T11:01:32.337953",
     "exception": false,
     "start_time": "2025-07-28T11:01:32.152017",
     "status": "completed"
    },
    "tags": []
   },
   "outputs": [
    {
     "data": {
      "text/plain": [
       "array([0, 0, 0, ..., 0, 0, 0])"
      ]
     },
     "execution_count": 39,
     "metadata": {},
     "output_type": "execute_result"
    }
   ],
   "source": [
    "model.predict(X_test)"
   ]
  },
  {
   "cell_type": "markdown",
   "id": "56c9705b",
   "metadata": {
    "papermill": {
     "duration": 0.012421,
     "end_time": "2025-07-28T11:01:32.363043",
     "exception": false,
     "start_time": "2025-07-28T11:01:32.350622",
     "status": "completed"
    },
    "tags": []
   },
   "source": [
    "# Conformal Prediction"
   ]
  },
  {
   "cell_type": "code",
   "execution_count": 40,
   "id": "160ec6ff",
   "metadata": {
    "execution": {
     "iopub.execute_input": "2025-07-28T11:01:32.388407Z",
     "iopub.status.busy": "2025-07-28T11:01:32.387746Z",
     "iopub.status.idle": "2025-07-28T11:01:32.392962Z",
     "shell.execute_reply": "2025-07-28T11:01:32.392194Z"
    },
    "papermill": {
     "duration": 0.019456,
     "end_time": "2025-07-28T11:01:32.394401",
     "exception": false,
     "start_time": "2025-07-28T11:01:32.374945",
     "status": "completed"
    },
    "tags": []
   },
   "outputs": [],
   "source": [
    "# Miscoverage level for conformal prediction (10% allowed error rate => 90% target coverage)\n",
    "alpha = 0.1"
   ]
  },
  {
   "cell_type": "code",
   "execution_count": 41,
   "id": "eadf4555-3dd3-440e-8e35-f82a4ad9f855",
   "metadata": {
    "execution": {
     "iopub.execute_input": "2025-07-28T11:01:32.420742Z",
     "iopub.status.busy": "2025-07-28T11:01:32.420136Z",
     "iopub.status.idle": "2025-07-28T11:01:32.595853Z",
     "shell.execute_reply": "2025-07-28T11:01:32.594985Z"
    },
    "papermill": {
     "duration": 0.190279,
     "end_time": "2025-07-28T11:01:32.597728",
     "exception": false,
     "start_time": "2025-07-28T11:01:32.407449",
     "status": "completed"
    },
    "tags": []
   },
   "outputs": [],
   "source": [
    "probs_calib = model.predict_proba(X_calib)"
   ]
  },
  {
   "cell_type": "code",
   "execution_count": 42,
   "id": "2ed93547-6d5d-4983-9b36-1ecb300da49a",
   "metadata": {
    "execution": {
     "iopub.execute_input": "2025-07-28T11:01:32.644973Z",
     "iopub.status.busy": "2025-07-28T11:01:32.644005Z",
     "iopub.status.idle": "2025-07-28T11:01:32.650161Z",
     "shell.execute_reply": "2025-07-28T11:01:32.649165Z"
    },
    "papermill": {
     "duration": 0.031705,
     "end_time": "2025-07-28T11:01:32.651831",
     "exception": false,
     "start_time": "2025-07-28T11:01:32.620126",
     "status": "completed"
    },
    "tags": []
   },
   "outputs": [],
   "source": [
    "y_calib = y_calib.values.ravel().astype(int)"
   ]
  },
  {
   "cell_type": "code",
   "execution_count": 43,
   "id": "65d1320d-f588-4b38-9072-62af1ae97f7d",
   "metadata": {
    "execution": {
     "iopub.execute_input": "2025-07-28T11:01:32.698356Z",
     "iopub.status.busy": "2025-07-28T11:01:32.697676Z",
     "iopub.status.idle": "2025-07-28T11:01:32.706364Z",
     "shell.execute_reply": "2025-07-28T11:01:32.705312Z"
    },
    "papermill": {
     "duration": 0.030991,
     "end_time": "2025-07-28T11:01:32.708174",
     "exception": false,
     "start_time": "2025-07-28T11:01:32.677183",
     "status": "completed"
    },
    "tags": []
   },
   "outputs": [],
   "source": [
    "from fairness_multiverse.conformal import compute_nc_scores\n",
    "\n",
    "# Compute nonconformity scores on calibration set (1 - probability of true class)\n",
    "nc_scores = compute_nc_scores(probs_calib, y_calib)"
   ]
  },
  {
   "cell_type": "code",
   "execution_count": 44,
   "id": "df3b8ca3-53b7-43d5-9667-7c85da7aeda2",
   "metadata": {
    "execution": {
     "iopub.execute_input": "2025-07-28T11:01:32.760767Z",
     "iopub.status.busy": "2025-07-28T11:01:32.760002Z",
     "iopub.status.idle": "2025-07-28T11:01:32.766946Z",
     "shell.execute_reply": "2025-07-28T11:01:32.765996Z"
    },
    "papermill": {
     "duration": 0.034787,
     "end_time": "2025-07-28T11:01:32.768597",
     "exception": false,
     "start_time": "2025-07-28T11:01:32.733810",
     "status": "completed"
    },
    "tags": []
   },
   "outputs": [],
   "source": [
    "from fairness_multiverse.conformal import find_threshold\n",
    "\n",
    "# Find conformal threshold q_hat for the given alpha (split conformal method)\n",
    "q_hat = find_threshold(nc_scores, alpha)"
   ]
  },
  {
   "cell_type": "code",
   "execution_count": 45,
   "id": "4d29e6c1-0ef6-4aa4-b8fe-4fe79b0d033a",
   "metadata": {
    "execution": {
     "iopub.execute_input": "2025-07-28T11:01:32.815016Z",
     "iopub.status.busy": "2025-07-28T11:01:32.814543Z",
     "iopub.status.idle": "2025-07-28T11:01:32.820700Z",
     "shell.execute_reply": "2025-07-28T11:01:32.819816Z"
    },
    "papermill": {
     "duration": 0.039617,
     "end_time": "2025-07-28T11:01:32.830930",
     "exception": false,
     "start_time": "2025-07-28T11:01:32.791313",
     "status": "completed"
    },
    "tags": []
   },
   "outputs": [
    {
     "data": {
      "text/plain": [
       "0.6726800953915784"
      ]
     },
     "execution_count": 45,
     "metadata": {},
     "output_type": "execute_result"
    }
   ],
   "source": [
    "q_hat"
   ]
  },
  {
   "cell_type": "code",
   "execution_count": 46,
   "id": "92460794-cdac-4be2-ba28-f28c0515a6fb",
   "metadata": {
    "execution": {
     "iopub.execute_input": "2025-07-28T11:01:32.878067Z",
     "iopub.status.busy": "2025-07-28T11:01:32.877135Z",
     "iopub.status.idle": "2025-07-28T11:01:33.862869Z",
     "shell.execute_reply": "2025-07-28T11:01:33.861696Z"
    },
    "papermill": {
     "duration": 1.011626,
     "end_time": "2025-07-28T11:01:33.864821",
     "exception": false,
     "start_time": "2025-07-28T11:01:32.853195",
     "status": "completed"
    },
    "tags": []
   },
   "outputs": [],
   "source": [
    "from fairness_multiverse.conformal import predict_conformal_sets\n",
    "\n",
    "# Generate prediction sets for each test example\n",
    "pred_sets = predict_conformal_sets(model, X_test, q_hat)"
   ]
  },
  {
   "cell_type": "code",
   "execution_count": 47,
   "id": "d90c9a65-e6db-4f5d-80cd-e68fb7e46829",
   "metadata": {
    "execution": {
     "iopub.execute_input": "2025-07-28T11:01:33.916445Z",
     "iopub.status.busy": "2025-07-28T11:01:33.915775Z",
     "iopub.status.idle": "2025-07-28T11:01:33.922123Z",
     "shell.execute_reply": "2025-07-28T11:01:33.920899Z"
    },
    "papermill": {
     "duration": 0.034398,
     "end_time": "2025-07-28T11:01:33.923911",
     "exception": false,
     "start_time": "2025-07-28T11:01:33.889513",
     "status": "completed"
    },
    "tags": []
   },
   "outputs": [],
   "source": [
    "y_true = y_true.squeeze()"
   ]
  },
  {
   "cell_type": "code",
   "execution_count": 48,
   "id": "3a58a54a-1e68-46b9-927a-df01f18aebc8",
   "metadata": {
    "execution": {
     "iopub.execute_input": "2025-07-28T11:01:33.977140Z",
     "iopub.status.busy": "2025-07-28T11:01:33.976501Z",
     "iopub.status.idle": "2025-07-28T11:01:35.122680Z",
     "shell.execute_reply": "2025-07-28T11:01:35.121521Z"
    },
    "papermill": {
     "duration": 1.174637,
     "end_time": "2025-07-28T11:01:35.124704",
     "exception": false,
     "start_time": "2025-07-28T11:01:33.950067",
     "status": "completed"
    },
    "tags": []
   },
   "outputs": [],
   "source": [
    "from fairness_multiverse.conformal import evaluate_sets\n",
    "\n",
    "# Evaluate coverage and average set size on test data\n",
    "metrics = evaluate_sets(pred_sets, y_true)"
   ]
  },
  {
   "cell_type": "markdown",
   "id": "2b569c12-9aaa-4c88-98c9-bbcd0cf3ebb8",
   "metadata": {
    "papermill": {
     "duration": 0.025242,
     "end_time": "2025-07-28T11:01:35.176683",
     "exception": false,
     "start_time": "2025-07-28T11:01:35.151441",
     "status": "completed"
    },
    "tags": []
   },
   "source": [
    "# CP Metrics"
   ]
  },
  {
   "cell_type": "code",
   "execution_count": 49,
   "id": "5ce0a5cb-201f-45a0-ade5-94c7f0bd6095",
   "metadata": {
    "execution": {
     "iopub.execute_input": "2025-07-28T11:01:35.230065Z",
     "iopub.status.busy": "2025-07-28T11:01:35.229530Z",
     "iopub.status.idle": "2025-07-28T11:01:35.237030Z",
     "shell.execute_reply": "2025-07-28T11:01:35.236003Z"
    },
    "papermill": {
     "duration": 0.036274,
     "end_time": "2025-07-28T11:01:35.238569",
     "exception": false,
     "start_time": "2025-07-28T11:01:35.202295",
     "status": "completed"
    },
    "tags": []
   },
   "outputs": [
    {
     "data": {
      "text/plain": [
       "{'coverage': 0.9123509084828894, 'avg_size': 1.1204659458254376}"
      ]
     },
     "execution_count": 49,
     "metadata": {},
     "output_type": "execute_result"
    }
   ],
   "source": [
    "metrics"
   ]
  },
  {
   "cell_type": "code",
   "execution_count": 50,
   "id": "9b9a838d-31c9-430b-ae14-12baee460d17",
   "metadata": {
    "execution": {
     "iopub.execute_input": "2025-07-28T11:01:35.292351Z",
     "iopub.status.busy": "2025-07-28T11:01:35.291633Z",
     "iopub.status.idle": "2025-07-28T11:01:35.298891Z",
     "shell.execute_reply": "2025-07-28T11:01:35.297929Z"
    },
    "papermill": {
     "duration": 0.036708,
     "end_time": "2025-07-28T11:01:35.300680",
     "exception": false,
     "start_time": "2025-07-28T11:01:35.263972",
     "status": "completed"
    },
    "tags": []
   },
   "outputs": [],
   "source": [
    "example_universe = universe.copy()\n",
    "universe_training_size = example_universe.get(\"training_size\")\n",
    "universe_scale = example_universe.get(\"scale\")\n",
    "universe_model = example_universe.get(\"model\")\n",
    "universe_exclude_features = example_universe.get(\"exclude_features\")\n",
    "universe_exclude_subgroups = example_universe.get(\"exclude_subgroups\")"
   ]
  },
  {
   "cell_type": "code",
   "execution_count": 51,
   "id": "f4b6a8ac-9dc0-4245-8a91-5b3b5999c4f9",
   "metadata": {
    "execution": {
     "iopub.execute_input": "2025-07-28T11:01:35.347657Z",
     "iopub.status.busy": "2025-07-28T11:01:35.346970Z",
     "iopub.status.idle": "2025-07-28T11:01:35.353678Z",
     "shell.execute_reply": "2025-07-28T11:01:35.352687Z"
    },
    "papermill": {
     "duration": 0.031862,
     "end_time": "2025-07-28T11:01:35.355281",
     "exception": false,
     "start_time": "2025-07-28T11:01:35.323419",
     "status": "completed"
    },
    "tags": []
   },
   "outputs": [],
   "source": [
    "cp_metrics_dict = {\n",
    "    \"universe_id\": [universe_id],\n",
    "    \"universe_training_size\": [universe_training_size],\n",
    "    \"universe_scale\": [universe_scale],\n",
    "    \"universe_model\": [universe_model],\n",
    "    \"universe_exclude_features\": [universe_exclude_features],\n",
    "    \"universe_exclude_subgroups\": [universe_exclude_subgroups],\n",
    "    \"q_hat\": [q_hat],\n",
    "    \"coverage\": [metrics[\"coverage\"]],\n",
    "    \"avg_size\": [metrics[\"avg_size\"]],\n",
    "}"
   ]
  },
  {
   "cell_type": "code",
   "execution_count": 52,
   "id": "908acbb1-0371-4915-85ca-3fa520d2efe2",
   "metadata": {
    "execution": {
     "iopub.execute_input": "2025-07-28T11:01:35.401892Z",
     "iopub.status.busy": "2025-07-28T11:01:35.401322Z",
     "iopub.status.idle": "2025-07-28T11:01:35.409700Z",
     "shell.execute_reply": "2025-07-28T11:01:35.408605Z"
    },
    "papermill": {
     "duration": 0.033556,
     "end_time": "2025-07-28T11:01:35.411364",
     "exception": false,
     "start_time": "2025-07-28T11:01:35.377808",
     "status": "completed"
    },
    "tags": []
   },
   "outputs": [
    {
     "data": {
      "text/plain": [
       "{'universe_id': ['45b5af5bcdf492568192aee3a41b8cef'],\n",
       " 'universe_training_size': ['2014'],\n",
       " 'universe_scale': ['scale'],\n",
       " 'universe_model': ['elasticnet'],\n",
       " 'universe_exclude_features': ['nationality'],\n",
       " 'universe_exclude_subgroups': ['keep-all'],\n",
       " 'q_hat': [0.6726800953915784],\n",
       " 'coverage': [0.9123509084828894],\n",
       " 'avg_size': [1.1204659458254376]}"
      ]
     },
     "execution_count": 52,
     "metadata": {},
     "output_type": "execute_result"
    }
   ],
   "source": [
    "cp_metrics_dict"
   ]
  },
  {
   "cell_type": "code",
   "execution_count": 53,
   "id": "33007efc-14e9-4ec6-97ac-56a455c82265",
   "metadata": {
    "execution": {
     "iopub.execute_input": "2025-07-28T11:01:35.460252Z",
     "iopub.status.busy": "2025-07-28T11:01:35.459531Z",
     "iopub.status.idle": "2025-07-28T11:01:35.466769Z",
     "shell.execute_reply": "2025-07-28T11:01:35.465717Z"
    },
    "papermill": {
     "duration": 0.033803,
     "end_time": "2025-07-28T11:01:35.468476",
     "exception": false,
     "start_time": "2025-07-28T11:01:35.434673",
     "status": "completed"
    },
    "tags": []
   },
   "outputs": [],
   "source": [
    "cp_metrics_df = pd.DataFrame(cp_metrics_dict)"
   ]
  },
  {
   "cell_type": "code",
   "execution_count": 54,
   "id": "db12611b-57b2-4910-b9d0-355adfd6e7bf",
   "metadata": {
    "execution": {
     "iopub.execute_input": "2025-07-28T11:01:35.517025Z",
     "iopub.status.busy": "2025-07-28T11:01:35.516327Z",
     "iopub.status.idle": "2025-07-28T11:01:35.535066Z",
     "shell.execute_reply": "2025-07-28T11:01:35.533943Z"
    },
    "papermill": {
     "duration": 0.044903,
     "end_time": "2025-07-28T11:01:35.536813",
     "exception": false,
     "start_time": "2025-07-28T11:01:35.491910",
     "status": "completed"
    },
    "tags": []
   },
   "outputs": [
    {
     "data": {
      "text/html": [
       "<div>\n",
       "<style scoped>\n",
       "    .dataframe tbody tr th:only-of-type {\n",
       "        vertical-align: middle;\n",
       "    }\n",
       "\n",
       "    .dataframe tbody tr th {\n",
       "        vertical-align: top;\n",
       "    }\n",
       "\n",
       "    .dataframe thead th {\n",
       "        text-align: right;\n",
       "    }\n",
       "</style>\n",
       "<table border=\"1\" class=\"dataframe\">\n",
       "  <thead>\n",
       "    <tr style=\"text-align: right;\">\n",
       "      <th></th>\n",
       "      <th>universe_id</th>\n",
       "      <th>universe_training_size</th>\n",
       "      <th>universe_scale</th>\n",
       "      <th>universe_model</th>\n",
       "      <th>universe_exclude_features</th>\n",
       "      <th>universe_exclude_subgroups</th>\n",
       "      <th>q_hat</th>\n",
       "      <th>coverage</th>\n",
       "      <th>avg_size</th>\n",
       "    </tr>\n",
       "  </thead>\n",
       "  <tbody>\n",
       "    <tr>\n",
       "      <th>0</th>\n",
       "      <td>45b5af5bcdf492568192aee3a41b8cef</td>\n",
       "      <td>2014</td>\n",
       "      <td>scale</td>\n",
       "      <td>elasticnet</td>\n",
       "      <td>nationality</td>\n",
       "      <td>keep-all</td>\n",
       "      <td>0.67268</td>\n",
       "      <td>0.912351</td>\n",
       "      <td>1.120466</td>\n",
       "    </tr>\n",
       "  </tbody>\n",
       "</table>\n",
       "</div>"
      ],
      "text/plain": [
       "                        universe_id universe_training_size universe_scale  \\\n",
       "0  45b5af5bcdf492568192aee3a41b8cef                   2014          scale   \n",
       "\n",
       "  universe_model universe_exclude_features universe_exclude_subgroups  \\\n",
       "0     elasticnet               nationality                   keep-all   \n",
       "\n",
       "     q_hat  coverage  avg_size  \n",
       "0  0.67268  0.912351  1.120466  "
      ]
     },
     "execution_count": 54,
     "metadata": {},
     "output_type": "execute_result"
    }
   ],
   "source": [
    "cp_metrics_df"
   ]
  },
  {
   "cell_type": "code",
   "execution_count": 55,
   "id": "b7fbde55-a0a1-47e4-9af6-fe4a17fa8c61",
   "metadata": {
    "execution": {
     "iopub.execute_input": "2025-07-28T11:01:35.591459Z",
     "iopub.status.busy": "2025-07-28T11:01:35.591033Z",
     "iopub.status.idle": "2025-07-28T11:01:35.596821Z",
     "shell.execute_reply": "2025-07-28T11:01:35.595582Z"
    },
    "papermill": {
     "duration": 0.034378,
     "end_time": "2025-07-28T11:01:35.598425",
     "exception": false,
     "start_time": "2025-07-28T11:01:35.564047",
     "status": "completed"
    },
    "tags": []
   },
   "outputs": [],
   "source": [
    "# Conditional Coverage & looking at subgroups"
   ]
  },
  {
   "cell_type": "code",
   "execution_count": 56,
   "id": "027ae886-68dd-4141-96c7-805a5450e1ef",
   "metadata": {
    "execution": {
     "iopub.execute_input": "2025-07-28T11:01:35.653921Z",
     "iopub.status.busy": "2025-07-28T11:01:35.653054Z",
     "iopub.status.idle": "2025-07-28T11:01:35.975053Z",
     "shell.execute_reply": "2025-07-28T11:01:35.973760Z"
    },
    "papermill": {
     "duration": 0.351525,
     "end_time": "2025-07-28T11:01:35.976925",
     "exception": false,
     "start_time": "2025-07-28T11:01:35.625400",
     "status": "completed"
    },
    "tags": []
   },
   "outputs": [],
   "source": [
    "from fairness_multiverse.conformal import build_cp_groups\n",
    "\n",
    "cp_groups_df = build_cp_groups(pred_sets, y_true, X_test.index, org_test)\n",
    "#needs universe_id and setting"
   ]
  },
  {
   "cell_type": "code",
   "execution_count": 57,
   "id": "01d5802c-663a-4d1f-9d69-e036faaffbf7",
   "metadata": {
    "execution": {
     "iopub.execute_input": "2025-07-28T11:01:36.028354Z",
     "iopub.status.busy": "2025-07-28T11:01:36.027811Z",
     "iopub.status.idle": "2025-07-28T11:01:36.033147Z",
     "shell.execute_reply": "2025-07-28T11:01:36.032264Z"
    },
    "papermill": {
     "duration": 0.034636,
     "end_time": "2025-07-28T11:01:36.034909",
     "exception": false,
     "start_time": "2025-07-28T11:01:36.000273",
     "status": "completed"
    },
    "tags": []
   },
   "outputs": [],
   "source": [
    "#delete\n",
    "#cp_groups_df"
   ]
  },
  {
   "cell_type": "code",
   "execution_count": 58,
   "id": "fa424af1-d1eb-443d-b717-2d279ada8408",
   "metadata": {
    "execution": {
     "iopub.execute_input": "2025-07-28T11:01:36.085320Z",
     "iopub.status.busy": "2025-07-28T11:01:36.084441Z",
     "iopub.status.idle": "2025-07-28T11:01:36.090293Z",
     "shell.execute_reply": "2025-07-28T11:01:36.089214Z"
    },
    "papermill": {
     "duration": 0.033062,
     "end_time": "2025-07-28T11:01:36.091958",
     "exception": false,
     "start_time": "2025-07-28T11:01:36.058896",
     "status": "completed"
    },
    "tags": []
   },
   "outputs": [],
   "source": [
    "#delete\n",
    "#percentage = (cp_groups_df['nongerman_female'] == 1).mean() * 100\n",
    "#print(percentage)\n"
   ]
  },
  {
   "cell_type": "code",
   "execution_count": 59,
   "id": "6cbdab96-b2b2-45af-ad54-d0516db2e28d",
   "metadata": {
    "execution": {
     "iopub.execute_input": "2025-07-28T11:01:36.142451Z",
     "iopub.status.busy": "2025-07-28T11:01:36.141746Z",
     "iopub.status.idle": "2025-07-28T11:01:37.874903Z",
     "shell.execute_reply": "2025-07-28T11:01:37.873893Z"
    },
    "papermill": {
     "duration": 1.760406,
     "end_time": "2025-07-28T11:01:37.876851",
     "exception": false,
     "start_time": "2025-07-28T11:01:36.116445",
     "status": "completed"
    },
    "tags": []
   },
   "outputs": [],
   "source": [
    "# Define covered = 1 if true_label is in the predicted set\n",
    "cp_groups_df['covered'] = cp_groups_df.apply(\n",
    "    lambda r: int(r['true_label'] in r['pred_set']),\n",
    "    axis=1\n",
    ")"
   ]
  },
  {
   "cell_type": "code",
   "execution_count": 60,
   "id": "338ff529-1a6b-4b87-a931-8e4788d52aad",
   "metadata": {
    "execution": {
     "iopub.execute_input": "2025-07-28T11:01:37.927179Z",
     "iopub.status.busy": "2025-07-28T11:01:37.926310Z",
     "iopub.status.idle": "2025-07-28T11:01:37.932302Z",
     "shell.execute_reply": "2025-07-28T11:01:37.931240Z"
    },
    "papermill": {
     "duration": 0.033175,
     "end_time": "2025-07-28T11:01:37.934075",
     "exception": false,
     "start_time": "2025-07-28T11:01:37.900900",
     "status": "completed"
    },
    "tags": []
   },
   "outputs": [],
   "source": [
    "#cp_groups_df"
   ]
  },
  {
   "cell_type": "code",
   "execution_count": 61,
   "id": "90032e27-66df-4540-9169-4e89cfbaa758",
   "metadata": {
    "execution": {
     "iopub.execute_input": "2025-07-28T11:01:37.984514Z",
     "iopub.status.busy": "2025-07-28T11:01:37.983732Z",
     "iopub.status.idle": "2025-07-28T11:01:37.996497Z",
     "shell.execute_reply": "2025-07-28T11:01:37.995464Z"
    },
    "papermill": {
     "duration": 0.040308,
     "end_time": "2025-07-28T11:01:37.998557",
     "exception": false,
     "start_time": "2025-07-28T11:01:37.958249",
     "status": "completed"
    },
    "tags": []
   },
   "outputs": [],
   "source": [
    "subgroups = ['frau1','nongerman','nongerman_male','nongerman_female']\n",
    "\n",
    "# Conditional coverage for subgroup==1\n",
    "cond_coverage = {\n",
    "    g: cp_groups_df.loc[cp_groups_df[g]==1, 'covered'].mean()\n",
    "    for g in subgroups\n",
    "}"
   ]
  },
  {
   "cell_type": "code",
   "execution_count": 62,
   "id": "1e348fb1-b9c3-45bc-ba23-f016827a7e0d",
   "metadata": {
    "execution": {
     "iopub.execute_input": "2025-07-28T11:01:38.054405Z",
     "iopub.status.busy": "2025-07-28T11:01:38.053807Z",
     "iopub.status.idle": "2025-07-28T11:01:38.061468Z",
     "shell.execute_reply": "2025-07-28T11:01:38.060380Z"
    },
    "papermill": {
     "duration": 0.038056,
     "end_time": "2025-07-28T11:01:38.063298",
     "exception": false,
     "start_time": "2025-07-28T11:01:38.025242",
     "status": "completed"
    },
    "tags": []
   },
   "outputs": [
    {
     "data": {
      "text/plain": [
       "{'frau1': 0.9117940423237633,\n",
       " 'nongerman': 0.9104586537921743,\n",
       " 'nongerman_male': 0.9257858236512654,\n",
       " 'nongerman_female': 0.885096870342772}"
      ]
     },
     "execution_count": 62,
     "metadata": {},
     "output_type": "execute_result"
    }
   ],
   "source": [
    "cond_coverage"
   ]
  },
  {
   "cell_type": "code",
   "execution_count": 63,
   "id": "f5093324-c3dd-4d63-bc4c-8d945e5c8bbb",
   "metadata": {
    "execution": {
     "iopub.execute_input": "2025-07-28T11:01:38.119342Z",
     "iopub.status.busy": "2025-07-28T11:01:38.118673Z",
     "iopub.status.idle": "2025-07-28T11:01:38.126998Z",
     "shell.execute_reply": "2025-07-28T11:01:38.125903Z"
    },
    "papermill": {
     "duration": 0.038121,
     "end_time": "2025-07-28T11:01:38.128794",
     "exception": false,
     "start_time": "2025-07-28T11:01:38.090673",
     "status": "completed"
    },
    "tags": []
   },
   "outputs": [],
   "source": [
    "for subgroup, cov in cond_coverage.items():\n",
    "    cp_metrics_df[f\"cov_{subgroup}\"] = cov"
   ]
  },
  {
   "cell_type": "code",
   "execution_count": 64,
   "id": "6e872e10-dbe5-49e8-b554-5030c98ff75d",
   "metadata": {
    "execution": {
     "iopub.execute_input": "2025-07-28T11:01:38.185876Z",
     "iopub.status.busy": "2025-07-28T11:01:38.185158Z",
     "iopub.status.idle": "2025-07-28T11:01:38.205067Z",
     "shell.execute_reply": "2025-07-28T11:01:38.204039Z"
    },
    "papermill": {
     "duration": 0.04984,
     "end_time": "2025-07-28T11:01:38.206747",
     "exception": false,
     "start_time": "2025-07-28T11:01:38.156907",
     "status": "completed"
    },
    "tags": []
   },
   "outputs": [
    {
     "data": {
      "text/html": [
       "<div>\n",
       "<style scoped>\n",
       "    .dataframe tbody tr th:only-of-type {\n",
       "        vertical-align: middle;\n",
       "    }\n",
       "\n",
       "    .dataframe tbody tr th {\n",
       "        vertical-align: top;\n",
       "    }\n",
       "\n",
       "    .dataframe thead th {\n",
       "        text-align: right;\n",
       "    }\n",
       "</style>\n",
       "<table border=\"1\" class=\"dataframe\">\n",
       "  <thead>\n",
       "    <tr style=\"text-align: right;\">\n",
       "      <th></th>\n",
       "      <th>universe_id</th>\n",
       "      <th>universe_training_size</th>\n",
       "      <th>universe_scale</th>\n",
       "      <th>universe_model</th>\n",
       "      <th>universe_exclude_features</th>\n",
       "      <th>universe_exclude_subgroups</th>\n",
       "      <th>q_hat</th>\n",
       "      <th>coverage</th>\n",
       "      <th>avg_size</th>\n",
       "      <th>cov_frau1</th>\n",
       "      <th>cov_nongerman</th>\n",
       "      <th>cov_nongerman_male</th>\n",
       "      <th>cov_nongerman_female</th>\n",
       "    </tr>\n",
       "  </thead>\n",
       "  <tbody>\n",
       "    <tr>\n",
       "      <th>0</th>\n",
       "      <td>45b5af5bcdf492568192aee3a41b8cef</td>\n",
       "      <td>2014</td>\n",
       "      <td>scale</td>\n",
       "      <td>elasticnet</td>\n",
       "      <td>nationality</td>\n",
       "      <td>keep-all</td>\n",
       "      <td>0.67268</td>\n",
       "      <td>0.912351</td>\n",
       "      <td>1.120466</td>\n",
       "      <td>0.911794</td>\n",
       "      <td>0.910459</td>\n",
       "      <td>0.925786</td>\n",
       "      <td>0.885097</td>\n",
       "    </tr>\n",
       "  </tbody>\n",
       "</table>\n",
       "</div>"
      ],
      "text/plain": [
       "                        universe_id universe_training_size universe_scale  \\\n",
       "0  45b5af5bcdf492568192aee3a41b8cef                   2014          scale   \n",
       "\n",
       "  universe_model universe_exclude_features universe_exclude_subgroups  \\\n",
       "0     elasticnet               nationality                   keep-all   \n",
       "\n",
       "     q_hat  coverage  avg_size  cov_frau1  cov_nongerman  cov_nongerman_male  \\\n",
       "0  0.67268  0.912351  1.120466   0.911794       0.910459            0.925786   \n",
       "\n",
       "   cov_nongerman_female  \n",
       "0              0.885097  "
      ]
     },
     "execution_count": 64,
     "metadata": {},
     "output_type": "execute_result"
    }
   ],
   "source": [
    "cp_metrics_df"
   ]
  },
  {
   "cell_type": "markdown",
   "id": "33774451",
   "metadata": {
    "papermill": {
     "duration": 0.026296,
     "end_time": "2025-07-28T11:01:38.261856",
     "exception": false,
     "start_time": "2025-07-28T11:01:38.235560",
     "status": "completed"
    },
    "tags": []
   },
   "source": [
    "# (Fairness) Metrics"
   ]
  },
  {
   "cell_type": "code",
   "execution_count": 65,
   "id": "debc5d62",
   "metadata": {
    "execution": {
     "iopub.execute_input": "2025-07-28T11:01:38.317541Z",
     "iopub.status.busy": "2025-07-28T11:01:38.316832Z",
     "iopub.status.idle": "2025-07-28T11:01:38.339427Z",
     "shell.execute_reply": "2025-07-28T11:01:38.338420Z"
    },
    "papermill": {
     "duration": 0.052306,
     "end_time": "2025-07-28T11:01:38.341428",
     "exception": false,
     "start_time": "2025-07-28T11:01:38.289122",
     "status": "completed"
    },
    "tags": []
   },
   "outputs": [],
   "source": [
    "# do I need to include maxdeutsch1.missing?\n",
    "\n",
    "import numpy as np\n",
    "\n",
    "colname_to_bin = \"maxdeutsch1\"\n",
    "majority_value = org_train[colname_to_bin].mode()[0]\n",
    "\n",
    "org_test[\"majmin\"] = np.where(org_test[colname_to_bin] == majority_value, \"majority\", \"minority\")"
   ]
  },
  {
   "cell_type": "code",
   "execution_count": 66,
   "id": "06a50de5",
   "metadata": {
    "execution": {
     "iopub.execute_input": "2025-07-28T11:01:38.397577Z",
     "iopub.status.busy": "2025-07-28T11:01:38.396881Z",
     "iopub.status.idle": "2025-07-28T11:01:41.406366Z",
     "shell.execute_reply": "2025-07-28T11:01:41.405279Z"
    },
    "papermill": {
     "duration": 3.038975,
     "end_time": "2025-07-28T11:01:41.408246",
     "exception": false,
     "start_time": "2025-07-28T11:01:38.369271",
     "status": "completed"
    },
    "tags": []
   },
   "outputs": [],
   "source": [
    "example_universe = universe.copy()\n",
    "example_universe[\"cutoff\"] = example_universe[\"cutoff\"][0]\n",
    "example_universe[\"eval_fairness_grouping\"] = example_universe[\"eval_fairness_grouping\"][0]\n",
    "fairness_dict, metric_frame = universe_analysis.compute_metrics(\n",
    "    example_universe,\n",
    "    y_pred_prob=probs_test,\n",
    "    y_test=y_true,\n",
    "    org_test=org_test,\n",
    ")"
   ]
  },
  {
   "cell_type": "markdown",
   "id": "f95d4e02",
   "metadata": {
    "papermill": {
     "duration": 0.026885,
     "end_time": "2025-07-28T11:01:41.463633",
     "exception": false,
     "start_time": "2025-07-28T11:01:41.436748",
     "status": "completed"
    },
    "tags": []
   },
   "source": [
    "# Overall"
   ]
  },
  {
   "cell_type": "markdown",
   "id": "bdee4871",
   "metadata": {
    "papermill": {
     "duration": 0.026858,
     "end_time": "2025-07-28T11:01:41.517859",
     "exception": false,
     "start_time": "2025-07-28T11:01:41.491001",
     "status": "completed"
    },
    "tags": []
   },
   "source": [
    "Fairness\n",
    "Main fairness target: Equalized Odds. Seems to be a better fit than equal opportunity, since we're not only interested in Y = 1. Seems to be a better fit than demographic parity, since we also care about accuracy, not just equal distribution of preds.\n",
    "\n",
    "Pick column for computation of fairness metrics\n",
    "\n",
    "Performance\n",
    "Overall performance measures, most interesting in relation to the measures split by group below"
   ]
  },
  {
   "cell_type": "code",
   "execution_count": 67,
   "id": "c4e067c6",
   "metadata": {
    "execution": {
     "iopub.execute_input": "2025-07-28T11:01:41.574857Z",
     "iopub.status.busy": "2025-07-28T11:01:41.574171Z",
     "iopub.status.idle": "2025-07-28T11:01:41.583626Z",
     "shell.execute_reply": "2025-07-28T11:01:41.582634Z"
    },
    "papermill": {
     "duration": 0.040353,
     "end_time": "2025-07-28T11:01:41.585529",
     "exception": false,
     "start_time": "2025-07-28T11:01:41.545176",
     "status": "completed"
    },
    "tags": []
   },
   "outputs": [
    {
     "data": {
      "text/plain": [
       "accuracy                   0.225672\n",
       "balanced accuracy          0.551526\n",
       "f1                         0.246967\n",
       "precision                  0.141084\n",
       "false positive rate        0.886780\n",
       "false negative rate        0.010167\n",
       "selection rate             0.900000\n",
       "count                  89710.000000\n",
       "dtype: float64"
      ]
     },
     "execution_count": 67,
     "metadata": {},
     "output_type": "execute_result"
    }
   ],
   "source": [
    "metric_frame.overall"
   ]
  },
  {
   "cell_type": "markdown",
   "id": "e968fe9d",
   "metadata": {
    "papermill": {
     "duration": 0.028862,
     "end_time": "2025-07-28T11:01:41.643286",
     "exception": false,
     "start_time": "2025-07-28T11:01:41.614424",
     "status": "completed"
    },
    "tags": []
   },
   "source": [
    "By Group"
   ]
  },
  {
   "cell_type": "code",
   "execution_count": 68,
   "id": "ec325bce",
   "metadata": {
    "execution": {
     "iopub.execute_input": "2025-07-28T11:01:41.701452Z",
     "iopub.status.busy": "2025-07-28T11:01:41.700449Z",
     "iopub.status.idle": "2025-07-28T11:01:41.717783Z",
     "shell.execute_reply": "2025-07-28T11:01:41.716670Z"
    },
    "papermill": {
     "duration": 0.048721,
     "end_time": "2025-07-28T11:01:41.719585",
     "exception": false,
     "start_time": "2025-07-28T11:01:41.670864",
     "status": "completed"
    },
    "tags": []
   },
   "outputs": [
    {
     "data": {
      "text/html": [
       "<div>\n",
       "<style scoped>\n",
       "    .dataframe tbody tr th:only-of-type {\n",
       "        vertical-align: middle;\n",
       "    }\n",
       "\n",
       "    .dataframe tbody tr th {\n",
       "        vertical-align: top;\n",
       "    }\n",
       "\n",
       "    .dataframe thead th {\n",
       "        text-align: right;\n",
       "    }\n",
       "</style>\n",
       "<table border=\"1\" class=\"dataframe\">\n",
       "  <thead>\n",
       "    <tr style=\"text-align: right;\">\n",
       "      <th></th>\n",
       "      <th>accuracy</th>\n",
       "      <th>balanced accuracy</th>\n",
       "      <th>f1</th>\n",
       "      <th>precision</th>\n",
       "      <th>false positive rate</th>\n",
       "      <th>false negative rate</th>\n",
       "      <th>selection rate</th>\n",
       "      <th>count</th>\n",
       "    </tr>\n",
       "    <tr>\n",
       "      <th>majmin</th>\n",
       "      <th></th>\n",
       "      <th></th>\n",
       "      <th></th>\n",
       "      <th></th>\n",
       "      <th></th>\n",
       "      <th></th>\n",
       "      <th></th>\n",
       "      <th></th>\n",
       "    </tr>\n",
       "  </thead>\n",
       "  <tbody>\n",
       "    <tr>\n",
       "      <th>majority</th>\n",
       "      <td>0.247188</td>\n",
       "      <td>0.561507</td>\n",
       "      <td>0.257663</td>\n",
       "      <td>0.148133</td>\n",
       "      <td>0.865717</td>\n",
       "      <td>0.011269</td>\n",
       "      <td>0.881972</td>\n",
       "      <td>69170.0</td>\n",
       "    </tr>\n",
       "    <tr>\n",
       "      <th>minority</th>\n",
       "      <td>0.153213</td>\n",
       "      <td>0.518863</td>\n",
       "      <td>0.213022</td>\n",
       "      <td>0.119293</td>\n",
       "      <td>0.956361</td>\n",
       "      <td>0.005912</td>\n",
       "      <td>0.960711</td>\n",
       "      <td>20540.0</td>\n",
       "    </tr>\n",
       "  </tbody>\n",
       "</table>\n",
       "</div>"
      ],
      "text/plain": [
       "          accuracy  balanced accuracy        f1  precision  \\\n",
       "majmin                                                       \n",
       "majority  0.247188           0.561507  0.257663   0.148133   \n",
       "minority  0.153213           0.518863  0.213022   0.119293   \n",
       "\n",
       "          false positive rate  false negative rate  selection rate    count  \n",
       "majmin                                                                       \n",
       "majority             0.865717             0.011269        0.881972  69170.0  \n",
       "minority             0.956361             0.005912        0.960711  20540.0  "
      ]
     },
     "execution_count": 68,
     "metadata": {},
     "output_type": "execute_result"
    }
   ],
   "source": [
    "metric_frame.by_group"
   ]
  },
  {
   "cell_type": "code",
   "execution_count": 69,
   "id": "a9ddbe63",
   "metadata": {
    "execution": {
     "iopub.execute_input": "2025-07-28T11:01:41.779637Z",
     "iopub.status.busy": "2025-07-28T11:01:41.778620Z",
     "iopub.status.idle": "2025-07-28T11:01:44.430534Z",
     "shell.execute_reply": "2025-07-28T11:01:44.429572Z"
    },
    "papermill": {
     "duration": 2.68419,
     "end_time": "2025-07-28T11:01:44.432501",
     "exception": false,
     "start_time": "2025-07-28T11:01:41.748311",
     "status": "completed"
    },
    "tags": []
   },
   "outputs": [
    {
     "data": {
      "text/plain": [
       "array([[<Axes: title={'center': 'accuracy'}, xlabel='majmin'>,\n",
       "        <Axes: title={'center': 'balanced accuracy'}, xlabel='majmin'>,\n",
       "        <Axes: title={'center': 'f1'}, xlabel='majmin'>],\n",
       "       [<Axes: title={'center': 'precision'}, xlabel='majmin'>,\n",
       "        <Axes: title={'center': 'false positive rate'}, xlabel='majmin'>,\n",
       "        <Axes: title={'center': 'false negative rate'}, xlabel='majmin'>],\n",
       "       [<Axes: title={'center': 'selection rate'}, xlabel='majmin'>,\n",
       "        <Axes: title={'center': 'count'}, xlabel='majmin'>,\n",
       "        <Axes: xlabel='majmin'>]], dtype=object)"
      ]
     },
     "execution_count": 69,
     "metadata": {},
     "output_type": "execute_result"
    },
    {
     "data": {
      "image/png": "[encoded data removed]",
      "text/plain": [
       "<Figure size 1200x800 with 9 Axes>"
      ]
     },
     "metadata": {},
     "output_type": "display_data"
    }
   ],
   "source": [
    "# In a graphic\n",
    "metric_frame.by_group.plot.bar(\n",
    "    subplots=True,\n",
    "    layout=[3, 3],\n",
    "    legend=False,\n",
    "    figsize=[12, 8],\n",
    "    title=\"Show all metrics\",\n",
    ")"
   ]
  },
  {
   "cell_type": "markdown",
   "id": "f57a0bac",
   "metadata": {
    "papermill": {
     "duration": 0.029703,
     "end_time": "2025-07-28T11:01:44.492663",
     "exception": false,
     "start_time": "2025-07-28T11:01:44.462960",
     "status": "completed"
    },
    "tags": []
   },
   "source": [
    "# Final Output"
   ]
  },
  {
   "cell_type": "code",
   "execution_count": 70,
   "id": "96d280a3",
   "metadata": {
    "execution": {
     "iopub.execute_input": "2025-07-28T11:01:44.554335Z",
     "iopub.status.busy": "2025-07-28T11:01:44.553639Z",
     "iopub.status.idle": "2025-07-28T11:01:44.562228Z",
     "shell.execute_reply": "2025-07-28T11:01:44.561308Z"
    },
    "papermill": {
     "duration": 0.041274,
     "end_time": "2025-07-28T11:01:44.563945",
     "exception": false,
     "start_time": "2025-07-28T11:01:44.522671",
     "status": "completed"
    },
    "tags": []
   },
   "outputs": [
    {
     "data": {
      "text/plain": [
       "4"
      ]
     },
     "execution_count": 70,
     "metadata": {},
     "output_type": "execute_result"
    }
   ],
   "source": [
    "sub_universes = universe_analysis.generate_sub_universes()\n",
    "len(sub_universes)"
   ]
  },
  {
   "cell_type": "code",
   "execution_count": 71,
   "id": "92adf7ba",
   "metadata": {
    "execution": {
     "iopub.execute_input": "2025-07-28T11:01:44.628243Z",
     "iopub.status.busy": "2025-07-28T11:01:44.627500Z",
     "iopub.status.idle": "2025-07-28T11:01:44.634486Z",
     "shell.execute_reply": "2025-07-28T11:01:44.633373Z"
    },
    "papermill": {
     "duration": 0.041296,
     "end_time": "2025-07-28T11:01:44.636307",
     "exception": false,
     "start_time": "2025-07-28T11:01:44.595011",
     "status": "completed"
    },
    "tags": []
   },
   "outputs": [],
   "source": [
    "def filter_sub_universe_data(sub_universe, org_test):\n",
    "    # Keep all rows — no filtering\n",
    "    keep_rows_mask = np.ones(org_test.shape[0], dtype=bool)\n",
    "\n",
    "    print(f\"[INFO] Keeping all rows: {keep_rows_mask.sum()} rows retained.\")\n",
    "    return keep_rows_mask"
   ]
  },
  {
   "cell_type": "code",
   "execution_count": 72,
   "id": "4a759155",
   "metadata": {
    "execution": {
     "iopub.execute_input": "2025-07-28T11:01:44.699180Z",
     "iopub.status.busy": "2025-07-28T11:01:44.698579Z",
     "iopub.status.idle": "2025-07-28T11:01:55.245476Z",
     "shell.execute_reply": "2025-07-28T11:01:55.244487Z"
    },
    "papermill": {
     "duration": 10.579926,
     "end_time": "2025-07-28T11:01:55.247237",
     "exception": false,
     "start_time": "2025-07-28T11:01:44.667311",
     "status": "completed"
    },
    "tags": []
   },
   "outputs": [
    {
     "name": "stdout",
     "output_type": "stream",
     "text": [
      "Stopping execution_time clock.\n",
      "[INFO] Keeping all rows: 89710 rows retained.\n"
     ]
    },
    {
     "name": "stdout",
     "output_type": "stream",
     "text": [
      "[INFO] Keeping all rows: 89710 rows retained.\n"
     ]
    },
    {
     "name": "stdout",
     "output_type": "stream",
     "text": [
      "[INFO] Keeping all rows: 89710 rows retained.\n"
     ]
    },
    {
     "name": "stdout",
     "output_type": "stream",
     "text": [
      "[INFO] Keeping all rows: 89710 rows retained.\n"
     ]
    },
    {
     "data": {
      "text/html": [
       "<div>\n",
       "<style scoped>\n",
       "    .dataframe tbody tr th:only-of-type {\n",
       "        vertical-align: middle;\n",
       "    }\n",
       "\n",
       "    .dataframe tbody tr th {\n",
       "        vertical-align: top;\n",
       "    }\n",
       "\n",
       "    .dataframe thead th {\n",
       "        text-align: right;\n",
       "    }\n",
       "</style>\n",
       "<table border=\"1\" class=\"dataframe\">\n",
       "  <thead>\n",
       "    <tr style=\"text-align: right;\">\n",
       "      <th></th>\n",
       "      <th>run_no</th>\n",
       "      <th>universe_id</th>\n",
       "      <th>universe_settings</th>\n",
       "      <th>execution_time</th>\n",
       "      <th>test_size_n</th>\n",
       "      <th>test_size_frac</th>\n",
       "      <th>fair_main_equalized_odds_difference</th>\n",
       "      <th>fair_main_equalized_odds_ratio</th>\n",
       "      <th>fair_main_demographic_parity_difference</th>\n",
       "      <th>fair_main_demographic_parity_ratio</th>\n",
       "      <th>...</th>\n",
       "      <th>perf_grp_precision_0</th>\n",
       "      <th>perf_grp_precision_1</th>\n",
       "      <th>perf_grp_false positive rate_0</th>\n",
       "      <th>perf_grp_false positive rate_1</th>\n",
       "      <th>perf_grp_false negative rate_0</th>\n",
       "      <th>perf_grp_false negative rate_1</th>\n",
       "      <th>perf_grp_selection rate_0</th>\n",
       "      <th>perf_grp_selection rate_1</th>\n",
       "      <th>perf_grp_count_0</th>\n",
       "      <th>perf_grp_count_1</th>\n",
       "    </tr>\n",
       "  </thead>\n",
       "  <tbody>\n",
       "    <tr>\n",
       "      <th>0</th>\n",
       "      <td>11</td>\n",
       "      <td>45b5af5bcdf492568192aee3a41b8cef</td>\n",
       "      <td>{\"cutoff\": \"quantile_0.1\", \"eval_fairness_grou...</td>\n",
       "      <td>63.891558</td>\n",
       "      <td>89710</td>\n",
       "      <td>1.0</td>\n",
       "      <td>0.090644</td>\n",
       "      <td>0.905220</td>\n",
       "      <td>0.078739</td>\n",
       "      <td>0.918041</td>\n",
       "      <td>...</td>\n",
       "      <td>NaN</td>\n",
       "      <td>NaN</td>\n",
       "      <td>NaN</td>\n",
       "      <td>NaN</td>\n",
       "      <td>NaN</td>\n",
       "      <td>NaN</td>\n",
       "      <td>NaN</td>\n",
       "      <td>NaN</td>\n",
       "      <td>NaN</td>\n",
       "      <td>NaN</td>\n",
       "    </tr>\n",
       "    <tr>\n",
       "      <th>0</th>\n",
       "      <td>11</td>\n",
       "      <td>45b5af5bcdf492568192aee3a41b8cef</td>\n",
       "      <td>{\"cutoff\": \"quantile_0.1\", \"eval_fairness_grou...</td>\n",
       "      <td>63.891558</td>\n",
       "      <td>89710</td>\n",
       "      <td>1.0</td>\n",
       "      <td>0.090644</td>\n",
       "      <td>0.905220</td>\n",
       "      <td>0.078739</td>\n",
       "      <td>0.918041</td>\n",
       "      <td>...</td>\n",
       "      <td>0.119293</td>\n",
       "      <td>0.148133</td>\n",
       "      <td>0.956361</td>\n",
       "      <td>0.865717</td>\n",
       "      <td>0.005912</td>\n",
       "      <td>0.011269</td>\n",
       "      <td>0.960711</td>\n",
       "      <td>0.881972</td>\n",
       "      <td>20540.0</td>\n",
       "      <td>69170.0</td>\n",
       "    </tr>\n",
       "    <tr>\n",
       "      <th>0</th>\n",
       "      <td>11</td>\n",
       "      <td>45b5af5bcdf492568192aee3a41b8cef</td>\n",
       "      <td>{\"cutoff\": \"quantile_0.25\", \"eval_fairness_gro...</td>\n",
       "      <td>63.891558</td>\n",
       "      <td>89710</td>\n",
       "      <td>1.0</td>\n",
       "      <td>0.158129</td>\n",
       "      <td>0.812065</td>\n",
       "      <td>0.136458</td>\n",
       "      <td>0.840439</td>\n",
       "      <td>...</td>\n",
       "      <td>NaN</td>\n",
       "      <td>NaN</td>\n",
       "      <td>NaN</td>\n",
       "      <td>NaN</td>\n",
       "      <td>NaN</td>\n",
       "      <td>NaN</td>\n",
       "      <td>NaN</td>\n",
       "      <td>NaN</td>\n",
       "      <td>NaN</td>\n",
       "      <td>NaN</td>\n",
       "    </tr>\n",
       "    <tr>\n",
       "      <th>0</th>\n",
       "      <td>11</td>\n",
       "      <td>45b5af5bcdf492568192aee3a41b8cef</td>\n",
       "      <td>{\"cutoff\": \"quantile_0.25\", \"eval_fairness_gro...</td>\n",
       "      <td>63.891558</td>\n",
       "      <td>89710</td>\n",
       "      <td>1.0</td>\n",
       "      <td>0.158129</td>\n",
       "      <td>0.812065</td>\n",
       "      <td>0.136458</td>\n",
       "      <td>0.840439</td>\n",
       "      <td>...</td>\n",
       "      <td>0.129568</td>\n",
       "      <td>0.174974</td>\n",
       "      <td>0.841404</td>\n",
       "      <td>0.683275</td>\n",
       "      <td>0.038851</td>\n",
       "      <td>0.048249</td>\n",
       "      <td>0.855209</td>\n",
       "      <td>0.718751</td>\n",
       "      <td>20540.0</td>\n",
       "      <td>69170.0</td>\n",
       "    </tr>\n",
       "  </tbody>\n",
       "</table>\n",
       "<p>4 rows × 50 columns</p>\n",
       "</div>"
      ],
      "text/plain": [
       "  run_no                       universe_id  \\\n",
       "0     11  45b5af5bcdf492568192aee3a41b8cef   \n",
       "0     11  45b5af5bcdf492568192aee3a41b8cef   \n",
       "0     11  45b5af5bcdf492568192aee3a41b8cef   \n",
       "0     11  45b5af5bcdf492568192aee3a41b8cef   \n",
       "\n",
       "                                   universe_settings  execution_time  \\\n",
       "0  {\"cutoff\": \"quantile_0.1\", \"eval_fairness_grou...       63.891558   \n",
       "0  {\"cutoff\": \"quantile_0.1\", \"eval_fairness_grou...       63.891558   \n",
       "0  {\"cutoff\": \"quantile_0.25\", \"eval_fairness_gro...       63.891558   \n",
       "0  {\"cutoff\": \"quantile_0.25\", \"eval_fairness_gro...       63.891558   \n",
       "\n",
       "   test_size_n  test_size_frac  fair_main_equalized_odds_difference  \\\n",
       "0        89710             1.0                             0.090644   \n",
       "0        89710             1.0                             0.090644   \n",
       "0        89710             1.0                             0.158129   \n",
       "0        89710             1.0                             0.158129   \n",
       "\n",
       "   fair_main_equalized_odds_ratio  fair_main_demographic_parity_difference  \\\n",
       "0                        0.905220                                 0.078739   \n",
       "0                        0.905220                                 0.078739   \n",
       "0                        0.812065                                 0.136458   \n",
       "0                        0.812065                                 0.136458   \n",
       "\n",
       "   fair_main_demographic_parity_ratio  ...  perf_grp_precision_0  \\\n",
       "0                            0.918041  ...                   NaN   \n",
       "0                            0.918041  ...              0.119293   \n",
       "0                            0.840439  ...                   NaN   \n",
       "0                            0.840439  ...              0.129568   \n",
       "\n",
       "   perf_grp_precision_1  perf_grp_false positive rate_0  \\\n",
       "0                   NaN                             NaN   \n",
       "0              0.148133                        0.956361   \n",
       "0                   NaN                             NaN   \n",
       "0              0.174974                        0.841404   \n",
       "\n",
       "   perf_grp_false positive rate_1  perf_grp_false negative rate_0  \\\n",
       "0                             NaN                             NaN   \n",
       "0                        0.865717                        0.005912   \n",
       "0                             NaN                             NaN   \n",
       "0                        0.683275                        0.038851   \n",
       "\n",
       "   perf_grp_false negative rate_1  perf_grp_selection rate_0  \\\n",
       "0                             NaN                        NaN   \n",
       "0                        0.011269                   0.960711   \n",
       "0                             NaN                        NaN   \n",
       "0                        0.048249                   0.855209   \n",
       "\n",
       "   perf_grp_selection rate_1  perf_grp_count_0  perf_grp_count_1  \n",
       "0                        NaN               NaN               NaN  \n",
       "0                   0.881972           20540.0           69170.0  \n",
       "0                        NaN               NaN               NaN  \n",
       "0                   0.718751           20540.0           69170.0  \n",
       "\n",
       "[4 rows x 50 columns]"
      ]
     },
     "execution_count": 72,
     "metadata": {},
     "output_type": "execute_result"
    }
   ],
   "source": [
    "final_output = universe_analysis.generate_final_output(\n",
    "    y_pred_prob=probs_test,\n",
    "    y_test=y_true,\n",
    "    org_test=org_test,\n",
    "    filter_data=filter_sub_universe_data,\n",
    "    cp_metrics_df=cp_metrics_df,\n",
    "    save=True,\n",
    ")\n",
    "final_output"
   ]
  },
  {
   "cell_type": "code",
   "execution_count": null,
   "id": "721ff514-cb11-46f8-b6fc-50392f74b5cb",
   "metadata": {
    "papermill": {
     "duration": 0.029531,
     "end_time": "2025-07-28T11:01:55.310004",
     "exception": false,
     "start_time": "2025-07-28T11:01:55.280473",
     "status": "completed"
    },
    "tags": []
   },
   "outputs": [],
   "source": []
  }
 ],
 "metadata": {
  "celltoolbar": "Tags",
  "kernelspec": {
   "display_name": "Python (CMA Fairness)",
   "language": "python",
   "name": "cma_fair_env"
  },
  "language_info": {
   "codemirror_mode": {
    "name": "ipython",
    "version": 3
   },
   "file_extension": ".py",
   "mimetype": "text/x-python",
   "name": "python",
   "nbconvert_exporter": "python",
   "pygments_lexer": "ipython3",
   "version": "3.10.12"
  },
  "papermill": {
   "default_parameters": {},
   "duration": 79.009943,
   "end_time": "2025-07-28T11:01:56.160149",
   "environment_variables": {},
   "exception": null,
   "input_path": "universe_analysis.ipynb",
   "output_path": "output/runs/11/notebooks/m_11-45b5af5bcdf492568192aee3a41b8cef.ipynb",
   "parameters": {
    "output_dir": "output",
    "run_no": "11",
    "seed": "2023",
    "universe": "{\"cutoff\": [\"quantile_0.1\", \"quantile_0.25\"], \"eval_fairness_grouping\": [\"majority-minority\", \"nationality-all\"], \"exclude_features\": \"nationality\", \"exclude_subgroups\": \"keep-all\", \"model\": \"elasticnet\", \"scale\": \"scale\", \"training_size\": \"2014\"}",
    "universe_id": "45b5af5bcdf492568192aee3a41b8cef"
   },
   "start_time": "2025-07-28T11:00:37.150206",
   "version": "2.6.0"
  }
 },
 "nbformat": 4,
 "nbformat_minor": 5
}