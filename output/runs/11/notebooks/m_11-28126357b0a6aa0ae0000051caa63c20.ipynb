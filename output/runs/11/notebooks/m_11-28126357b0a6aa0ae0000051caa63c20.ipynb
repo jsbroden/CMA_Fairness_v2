{
 "cells": [
  {
   "cell_type": "code",
   "execution_count": 1,
   "id": "f159f837-637b-42ba-96b5-ec9a68c44524",
   "metadata": {
    "execution": {
     "iopub.execute_input": "2025-07-28T11:12:11.512394Z",
     "iopub.status.busy": "2025-07-28T11:12:11.511698Z",
     "iopub.status.idle": "2025-07-28T11:12:11.524873Z",
     "shell.execute_reply": "2025-07-28T11:12:11.524066Z"
    },
    "papermill": {
     "duration": 0.03464,
     "end_time": "2025-07-28T11:12:11.526555",
     "exception": false,
     "start_time": "2025-07-28T11:12:11.491915",
     "status": "completed"
    },
    "tags": []
   },
   "outputs": [
    {
     "name": "stdout",
     "output_type": "stream",
     "text": [
      "/dss/dsshome1/0C/ra93lal2/cma/CMA_Fairness_v2\n"
     ]
    },
    {
     "name": "stderr",
     "output_type": "stream",
     "text": [
      "/dss/dsshome1/0C/ra93lal2/.local/share/virtualenvs/CMA_Fairness_v2-3j10GkSs/lib/python3.10/site-packages/IPython/core/magics/osm.py:393: UserWarning: This is now an optional IPython functionality, using bookmarks requires you to install the `pickleshare` library.\n",
      "  bkms = self.shell.db.get('bookmarks', {})\n",
      "/dss/dsshome1/0C/ra93lal2/.local/share/virtualenvs/CMA_Fairness_v2-3j10GkSs/lib/python3.10/site-packages/IPython/core/magics/osm.py:417: UserWarning: This is now an optional IPython functionality, setting dhist requires you to install the `pickleshare` library.\n",
      "  self.shell.db['dhist'] = compress_dhist(dhist)[-100:]\n"
     ]
    }
   ],
   "source": [
    "%cd ~/cma/CMA_Fairness_v2"
   ]
  },
  {
   "cell_type": "markdown",
   "id": "de2603b9",
   "metadata": {
    "papermill": {
     "duration": 0.017361,
     "end_time": "2025-07-28T11:12:11.561960",
     "exception": false,
     "start_time": "2025-07-28T11:12:11.544599",
     "status": "completed"
    },
    "tags": []
   },
   "source": [
    "The following cell holds the definition of our parameters, these values can be overriden by rendering the with e.g. the following command:\n",
    "\n",
    "papermill -p alpha 0.2 -p ratio 0.3 universe_analysis.ipynb output/test_run.ipynb"
   ]
  },
  {
   "cell_type": "code",
   "execution_count": 2,
   "id": "a80968a0-40bb-4fa9-85ef-2d5eefb01975",
   "metadata": {
    "execution": {
     "iopub.execute_input": "2025-07-28T11:12:11.598932Z",
     "iopub.status.busy": "2025-07-28T11:12:11.598292Z",
     "iopub.status.idle": "2025-07-28T11:12:11.603810Z",
     "shell.execute_reply": "2025-07-28T11:12:11.602954Z"
    },
    "papermill": {
     "duration": 0.025604,
     "end_time": "2025-07-28T11:12:11.605365",
     "exception": false,
     "start_time": "2025-07-28T11:12:11.579761",
     "status": "completed"
    },
    "tags": []
   },
   "outputs": [
    {
     "name": "stdout",
     "output_type": "stream",
     "text": [
      "Current working directory: /dss/dsshome1/0C/ra93lal2/cma/CMA_Fairness_v2\n"
     ]
    }
   ],
   "source": [
    "import os\n",
    "print(\"Current working directory:\", os.getcwd())"
   ]
  },
  {
   "cell_type": "code",
   "execution_count": 3,
   "id": "2dce4c03",
   "metadata": {
    "execution": {
     "iopub.execute_input": "2025-07-28T11:12:11.642413Z",
     "iopub.status.busy": "2025-07-28T11:12:11.641809Z",
     "iopub.status.idle": "2025-07-28T11:12:11.647785Z",
     "shell.execute_reply": "2025-07-28T11:12:11.646894Z"
    },
    "papermill": {
     "duration": 0.026143,
     "end_time": "2025-07-28T11:12:11.649318",
     "exception": false,
     "start_time": "2025-07-28T11:12:11.623175",
     "status": "completed"
    },
    "tags": [
     "parameters"
    ]
   },
   "outputs": [],
   "source": [
    "run_no = 0\n",
    "universe_id = \"test\"\n",
    "universe = {\n",
    "    \"training_size\": \"2014\", # \"25k\", \"5k\", \"1k\", \"2014\"\n",
    "    \"scale\": \"scale\", # \"scale\", \"do-not-scale\",\n",
    "    #\"stratify_split\": \"target\", # \"none\", \"target\", \"protected-attribute\", \"both\",\n",
    "    \"model\": \"elasticnet\", # \"logreg\", \"penalized_logreg\", \"rf\", \"gbm\", \"elasticnet\"\n",
    "    \"cutoff\": [\"quantile_0.15\", \"quantile_0.30\"],\n",
    "    \"exclude_features\": \"age\", # \"none\", \"nationality\", \"sex\", \"nationality-sex\", \"age\"\n",
    "    \"exclude_subgroups\": \"keep-all\", # \"keep-all\", \"drop-non-german\"\n",
    "    \"eval_fairness_grouping\": [\"majority-minority\", \"nationality-all\"]\n",
    "}\n",
    "\n",
    "output_dir=\"./output\"\n",
    "seed=0"
   ]
  },
  {
   "cell_type": "code",
   "execution_count": 4,
   "id": "679b82f7",
   "metadata": {
    "execution": {
     "iopub.execute_input": "2025-07-28T11:12:11.686283Z",
     "iopub.status.busy": "2025-07-28T11:12:11.685660Z",
     "iopub.status.idle": "2025-07-28T11:12:11.690862Z",
     "shell.execute_reply": "2025-07-28T11:12:11.690017Z"
    },
    "papermill": {
     "duration": 0.025241,
     "end_time": "2025-07-28T11:12:11.692411",
     "exception": false,
     "start_time": "2025-07-28T11:12:11.667170",
     "status": "completed"
    },
    "tags": [
     "injected-parameters"
    ]
   },
   "outputs": [],
   "source": [
    "# Parameters\n",
    "universe_id = \"28126357b0a6aa0ae0000051caa63c20\"\n",
    "run_no = \"11\"\n",
    "universe = \"{\\\"cutoff\\\": [\\\"quantile_0.1\\\", \\\"quantile_0.25\\\"], \\\"eval_fairness_grouping\\\": [\\\"majority-minority\\\", \\\"nationality-all\\\"], \\\"exclude_features\\\": \\\"sex\\\", \\\"exclude_subgroups\\\": \\\"keep-all\\\", \\\"model\\\": \\\"elasticnet\\\", \\\"scale\\\": \\\"do-not-scale\\\", \\\"training_size\\\": \\\"2014\\\"}\"\n",
    "output_dir = \"output\"\n",
    "seed = \"2023\"\n"
   ]
  },
  {
   "cell_type": "code",
   "execution_count": 5,
   "id": "1650acaf",
   "metadata": {
    "execution": {
     "iopub.execute_input": "2025-07-28T11:12:11.729575Z",
     "iopub.status.busy": "2025-07-28T11:12:11.728972Z",
     "iopub.status.idle": "2025-07-28T11:12:11.734699Z",
     "shell.execute_reply": "2025-07-28T11:12:11.733899Z"
    },
    "papermill": {
     "duration": 0.026112,
     "end_time": "2025-07-28T11:12:11.736439",
     "exception": false,
     "start_time": "2025-07-28T11:12:11.710327",
     "status": "completed"
    },
    "tags": []
   },
   "outputs": [],
   "source": [
    "import json\n",
    "# Parse universe into dict if it is passed as a string\n",
    "if isinstance(universe, str):\n",
    "    universe = json.loads(universe)"
   ]
  },
  {
   "cell_type": "code",
   "execution_count": 6,
   "id": "16620c48",
   "metadata": {
    "execution": {
     "iopub.execute_input": "2025-07-28T11:12:11.774159Z",
     "iopub.status.busy": "2025-07-28T11:12:11.773534Z",
     "iopub.status.idle": "2025-07-28T11:12:11.816853Z",
     "shell.execute_reply": "2025-07-28T11:12:11.815931Z"
    },
    "papermill": {
     "duration": 0.063805,
     "end_time": "2025-07-28T11:12:11.818549",
     "exception": false,
     "start_time": "2025-07-28T11:12:11.754744",
     "status": "completed"
    },
    "tags": []
   },
   "outputs": [],
   "source": [
    "# Auto-reload the custom package\n",
    "%load_ext autoreload\n",
    "%autoreload 1\n",
    "%aimport fairness_multiverse"
   ]
  },
  {
   "cell_type": "code",
   "execution_count": 7,
   "id": "01c5c9f3",
   "metadata": {
    "execution": {
     "iopub.execute_input": "2025-07-28T11:12:11.856799Z",
     "iopub.status.busy": "2025-07-28T11:12:11.856182Z",
     "iopub.status.idle": "2025-07-28T11:12:13.879620Z",
     "shell.execute_reply": "2025-07-28T11:12:13.878620Z"
    },
    "papermill": {
     "duration": 2.044152,
     "end_time": "2025-07-28T11:12:13.881462",
     "exception": false,
     "start_time": "2025-07-28T11:12:11.837310",
     "status": "completed"
    },
    "tags": []
   },
   "outputs": [],
   "source": [
    "from fairness_multiverse.universe import UniverseAnalysis\n",
    "\n",
    "universe_analysis = UniverseAnalysis(\n",
    "    run_no = run_no,\n",
    "    universe_id = universe_id,\n",
    "    universe = universe,\n",
    "    output_dir=output_dir,\n",
    ")"
   ]
  },
  {
   "cell_type": "code",
   "execution_count": 8,
   "id": "106241f5",
   "metadata": {
    "execution": {
     "iopub.execute_input": "2025-07-28T11:12:13.921773Z",
     "iopub.status.busy": "2025-07-28T11:12:13.921253Z",
     "iopub.status.idle": "2025-07-28T11:12:13.927912Z",
     "shell.execute_reply": "2025-07-28T11:12:13.927024Z"
    },
    "papermill": {
     "duration": 0.028335,
     "end_time": "2025-07-28T11:12:13.929792",
     "exception": false,
     "start_time": "2025-07-28T11:12:13.901457",
     "status": "completed"
    },
    "tags": []
   },
   "outputs": [
    {
     "name": "stdout",
     "output_type": "stream",
     "text": [
      "Using Seed: 2023\n"
     ]
    }
   ],
   "source": [
    "import numpy as np\n",
    "parsed_seed = int(seed)\n",
    "np.random.seed(parsed_seed)\n",
    "print(f\"Using Seed: {parsed_seed}\")"
   ]
  },
  {
   "cell_type": "markdown",
   "id": "e0ebdc57",
   "metadata": {
    "papermill": {
     "duration": 0.018767,
     "end_time": "2025-07-28T11:12:13.967736",
     "exception": false,
     "start_time": "2025-07-28T11:12:13.948969",
     "status": "completed"
    },
    "tags": []
   },
   "source": [
    "# Loading Data"
   ]
  },
  {
   "cell_type": "markdown",
   "id": "681925a3",
   "metadata": {
    "papermill": {
     "duration": 0.018605,
     "end_time": "2025-07-28T11:12:14.005321",
     "exception": false,
     "start_time": "2025-07-28T11:12:13.986716",
     "status": "completed"
    },
    "tags": []
   },
   "source": [
    "Load siab_train, siab_test, siab_calib and/or \n",
    "load siab_train_features, siab_train_labels"
   ]
  },
  {
   "cell_type": "code",
   "execution_count": 9,
   "id": "f0496b8a",
   "metadata": {
    "execution": {
     "iopub.execute_input": "2025-07-28T11:12:14.044209Z",
     "iopub.status.busy": "2025-07-28T11:12:14.043458Z",
     "iopub.status.idle": "2025-07-28T11:12:26.948392Z",
     "shell.execute_reply": "2025-07-28T11:12:26.947115Z"
    },
    "papermill": {
     "duration": 12.925844,
     "end_time": "2025-07-28T11:12:26.950041",
     "exception": false,
     "start_time": "2025-07-28T11:12:14.024197",
     "status": "completed"
    },
    "tags": []
   },
   "outputs": [
    {
     "name": "stdout",
     "output_type": "stream",
     "text": [
      "Loading SIAB data from cache: data/siab_cached.csv.gz\n"
     ]
    },
    {
     "name": "stdout",
     "output_type": "stream",
     "text": [
      "(643690, 164)\n"
     ]
    }
   ],
   "source": [
    "from pathlib import Path\n",
    "import pandas as pd\n",
    "\n",
    "# File paths\n",
    "raw_file = Path(\"data/raw/siab.csv\")\n",
    "cache_file = Path(\"data/siab_cached.csv.gz\")\n",
    "\n",
    "# Ensure cache directory exists\n",
    "cache_file.parent.mkdir(parents=True, exist_ok=True)\n",
    "\n",
    "# Load with simple caching\n",
    "if cache_file.exists():\n",
    "    print(f\"Loading SIAB data from cache: {cache_file}\")\n",
    "    siab = pd.read_csv(cache_file, compression='gzip')\n",
    "else:\n",
    "    print(f\"Cache not found. Reading raw SIAB data: {raw_file}\")\n",
    "    siab = pd.read_csv(raw_file)\n",
    "    siab.to_csv(cache_file, index=False, compression='gzip')\n",
    "    print(f\"Cached SIAB data to: {cache_file}\")\n",
    "\n",
    "# Now use `siab` DataFrame as needed\n",
    "print(siab.shape)"
   ]
  },
  {
   "cell_type": "code",
   "execution_count": 10,
   "id": "db0ca512-5f53-4dba-abdb-a2888bca41ba",
   "metadata": {
    "execution": {
     "iopub.execute_input": "2025-07-28T11:12:26.991833Z",
     "iopub.status.busy": "2025-07-28T11:12:26.991080Z",
     "iopub.status.idle": "2025-07-28T11:12:26.996951Z",
     "shell.execute_reply": "2025-07-28T11:12:26.996004Z"
    },
    "papermill": {
     "duration": 0.027172,
     "end_time": "2025-07-28T11:12:26.998642",
     "exception": false,
     "start_time": "2025-07-28T11:12:26.971470",
     "status": "completed"
    },
    "tags": []
   },
   "outputs": [],
   "source": [
    "#siab"
   ]
  },
  {
   "cell_type": "code",
   "execution_count": 11,
   "id": "a0edb063",
   "metadata": {
    "execution": {
     "iopub.execute_input": "2025-07-28T11:12:27.037619Z",
     "iopub.status.busy": "2025-07-28T11:12:27.036964Z",
     "iopub.status.idle": "2025-07-28T11:12:27.041998Z",
     "shell.execute_reply": "2025-07-28T11:12:27.041004Z"
    },
    "papermill": {
     "duration": 0.026331,
     "end_time": "2025-07-28T11:12:27.043679",
     "exception": false,
     "start_time": "2025-07-28T11:12:27.017348",
     "status": "completed"
    },
    "tags": []
   },
   "outputs": [],
   "source": [
    "#import pandas as pd\n",
    "#\n",
    "#X_train = pd.read_csv(\"./data/X_train.csv\")\n",
    "#y_train = pd.read_csv(\"./data/y_train.csv\")"
   ]
  },
  {
   "cell_type": "code",
   "execution_count": 12,
   "id": "63d08085",
   "metadata": {
    "execution": {
     "iopub.execute_input": "2025-07-28T11:12:27.082880Z",
     "iopub.status.busy": "2025-07-28T11:12:27.082470Z",
     "iopub.status.idle": "2025-07-28T11:12:27.087086Z",
     "shell.execute_reply": "2025-07-28T11:12:27.086208Z"
    },
    "papermill": {
     "duration": 0.026348,
     "end_time": "2025-07-28T11:12:27.088721",
     "exception": false,
     "start_time": "2025-07-28T11:12:27.062373",
     "status": "completed"
    },
    "tags": []
   },
   "outputs": [],
   "source": [
    "#X_test = pd.read_csv(\"./data/X_test.csv\")\n",
    "#y_true = pd.read_csv(\"./data/y_test.csv\")"
   ]
  },
  {
   "cell_type": "code",
   "execution_count": 13,
   "id": "98a8d0fa-1d3d-4ed8-bb2c-281470e24add",
   "metadata": {
    "execution": {
     "iopub.execute_input": "2025-07-28T11:12:27.127597Z",
     "iopub.status.busy": "2025-07-28T11:12:27.126942Z",
     "iopub.status.idle": "2025-07-28T11:12:27.132204Z",
     "shell.execute_reply": "2025-07-28T11:12:27.131206Z"
    },
    "papermill": {
     "duration": 0.026527,
     "end_time": "2025-07-28T11:12:27.133779",
     "exception": false,
     "start_time": "2025-07-28T11:12:27.107252",
     "status": "completed"
    },
    "tags": []
   },
   "outputs": [],
   "source": [
    "# Calibration data for conformal\n",
    "#X_calib = pd.read_csv(\"./data/X_calib.csv\")\n",
    "#y_calib = pd.read_csv(\"./data/y_calib.csv\")"
   ]
  },
  {
   "cell_type": "markdown",
   "id": "9901737e-04df-44f0-9100-f5ad144ed040",
   "metadata": {
    "papermill": {
     "duration": 0.018456,
     "end_time": "2025-07-28T11:12:27.171061",
     "exception": false,
     "start_time": "2025-07-28T11:12:27.152605",
     "status": "completed"
    },
    "tags": []
   },
   "source": [
    "# Splitting Data and Setting Training Data Size"
   ]
  },
  {
   "cell_type": "code",
   "execution_count": 14,
   "id": "acbc8f7d-8fc8-4e86-8c59-5dcb0f58384b",
   "metadata": {
    "execution": {
     "iopub.execute_input": "2025-07-28T11:12:27.210221Z",
     "iopub.status.busy": "2025-07-28T11:12:27.209487Z",
     "iopub.status.idle": "2025-07-28T11:12:27.217809Z",
     "shell.execute_reply": "2025-07-28T11:12:27.216848Z"
    },
    "papermill": {
     "duration": 0.029549,
     "end_time": "2025-07-28T11:12:27.219419",
     "exception": false,
     "start_time": "2025-07-28T11:12:27.189870",
     "status": "completed"
    },
    "tags": []
   },
   "outputs": [],
   "source": [
    "def sample_by_year(df, training_size, random_state=42):\n",
    "    if training_size == \"2014\":\n",
    "        return df[df[\"year\"] == 2014].reset_index(drop=True)\n",
    "    \n",
    "    size_map = {\n",
    "        \"25k\": 5000,\n",
    "        \"5k\": 1000,\n",
    "        \"1k\": 200\n",
    "    }\n",
    "\n",
    "    if training_size not in size_map:\n",
    "        return df.reset_index(drop=True)  # use all data\n",
    "\n",
    "    n_per_year = size_map[training_size]\n",
    "    grouped = df.groupby(\"year\")\n",
    "    sampled = grouped.apply(lambda x: x.sample(n=min(n_per_year, len(x)), random_state=random_state))\n",
    "    return sampled.reset_index(drop=True)"
   ]
  },
  {
   "cell_type": "code",
   "execution_count": 15,
   "id": "6d931f52-beaf-43ff-9e78-9d44a448d54e",
   "metadata": {
    "execution": {
     "iopub.execute_input": "2025-07-28T11:12:27.258880Z",
     "iopub.status.busy": "2025-07-28T11:12:27.258201Z",
     "iopub.status.idle": "2025-07-28T11:12:27.386450Z",
     "shell.execute_reply": "2025-07-28T11:12:27.385527Z"
    },
    "papermill": {
     "duration": 0.150353,
     "end_time": "2025-07-28T11:12:27.388676",
     "exception": false,
     "start_time": "2025-07-28T11:12:27.238323",
     "status": "completed"
    },
    "tags": []
   },
   "outputs": [],
   "source": [
    "siab_s = sample_by_year(siab, universe[\"training_size\"])"
   ]
  },
  {
   "cell_type": "code",
   "execution_count": 16,
   "id": "5db0a40e-a4e2-4920-be85-b12ae061d70d",
   "metadata": {
    "execution": {
     "iopub.execute_input": "2025-07-28T11:12:27.428717Z",
     "iopub.status.busy": "2025-07-28T11:12:27.427975Z",
     "iopub.status.idle": "2025-07-28T11:12:27.444065Z",
     "shell.execute_reply": "2025-07-28T11:12:27.443072Z"
    },
    "papermill": {
     "duration": 0.037425,
     "end_time": "2025-07-28T11:12:27.445658",
     "exception": false,
     "start_time": "2025-07-28T11:12:27.408233",
     "status": "completed"
    },
    "tags": []
   },
   "outputs": [
    {
     "data": {
      "text/plain": [
       "year\n",
       "2014    87158\n",
       "dtype: int64"
      ]
     },
     "metadata": {},
     "output_type": "display_data"
    }
   ],
   "source": [
    "display(siab_s.groupby(\"year\").size())"
   ]
  },
  {
   "cell_type": "code",
   "execution_count": 17,
   "id": "a561edb4-d032-42cb-8256-22eac1111c64",
   "metadata": {
    "execution": {
     "iopub.execute_input": "2025-07-28T11:12:27.485748Z",
     "iopub.status.busy": "2025-07-28T11:12:27.485040Z",
     "iopub.status.idle": "2025-07-28T11:12:27.774677Z",
     "shell.execute_reply": "2025-07-28T11:12:27.773774Z"
    },
    "papermill": {
     "duration": 0.311602,
     "end_time": "2025-07-28T11:12:27.776689",
     "exception": false,
     "start_time": "2025-07-28T11:12:27.465087",
     "status": "completed"
    },
    "tags": []
   },
   "outputs": [],
   "source": [
    "siab_train = siab_s[siab_s.year < 2015]\n",
    "siab_calib = siab[siab.year == 2015]\n",
    "siab_test = siab[siab.year == 2016]"
   ]
  },
  {
   "cell_type": "code",
   "execution_count": 18,
   "id": "472de16f-c3db-4916-846b-1f0de9cf1746",
   "metadata": {
    "execution": {
     "iopub.execute_input": "2025-07-28T11:12:27.817800Z",
     "iopub.status.busy": "2025-07-28T11:12:27.817096Z",
     "iopub.status.idle": "2025-07-28T11:12:27.871415Z",
     "shell.execute_reply": "2025-07-28T11:12:27.870406Z"
    },
    "papermill": {
     "duration": 0.076449,
     "end_time": "2025-07-28T11:12:27.873114",
     "exception": false,
     "start_time": "2025-07-28T11:12:27.796665",
     "status": "completed"
    },
    "tags": []
   },
   "outputs": [],
   "source": [
    "X_train = siab_train.iloc[:,4:164]\n",
    "y_train = siab_train.iloc[:, [3]]"
   ]
  },
  {
   "cell_type": "code",
   "execution_count": 19,
   "id": "828c96af-f43a-4ed6-ba47-8ac73a47d56c",
   "metadata": {
    "execution": {
     "iopub.execute_input": "2025-07-28T11:12:27.913840Z",
     "iopub.status.busy": "2025-07-28T11:12:27.913136Z",
     "iopub.status.idle": "2025-07-28T11:12:27.964233Z",
     "shell.execute_reply": "2025-07-28T11:12:27.963147Z"
    },
    "papermill": {
     "duration": 0.07305,
     "end_time": "2025-07-28T11:12:27.965952",
     "exception": false,
     "start_time": "2025-07-28T11:12:27.892902",
     "status": "completed"
    },
    "tags": []
   },
   "outputs": [],
   "source": [
    "X_calib = siab_calib.iloc[:,4:164]\n",
    "y_calib = siab_calib.iloc[:, [3]]"
   ]
  },
  {
   "cell_type": "code",
   "execution_count": 20,
   "id": "c34be9c3-6bd6-476e-acd3-845840e303be",
   "metadata": {
    "execution": {
     "iopub.execute_input": "2025-07-28T11:12:28.006877Z",
     "iopub.status.busy": "2025-07-28T11:12:28.006168Z",
     "iopub.status.idle": "2025-07-28T11:12:28.059223Z",
     "shell.execute_reply": "2025-07-28T11:12:28.058177Z"
    },
    "papermill": {
     "duration": 0.075139,
     "end_time": "2025-07-28T11:12:28.061104",
     "exception": false,
     "start_time": "2025-07-28T11:12:27.985965",
     "status": "completed"
    },
    "tags": []
   },
   "outputs": [],
   "source": [
    "X_test = siab_test.iloc[:,4:164]\n",
    "y_true = siab_test.iloc[:, [3]]"
   ]
  },
  {
   "cell_type": "code",
   "execution_count": 21,
   "id": "e6c733c5",
   "metadata": {
    "execution": {
     "iopub.execute_input": "2025-07-28T11:12:28.101647Z",
     "iopub.status.busy": "2025-07-28T11:12:28.100941Z",
     "iopub.status.idle": "2025-07-28T11:12:28.241042Z",
     "shell.execute_reply": "2025-07-28T11:12:28.240001Z"
    },
    "papermill": {
     "duration": 0.162252,
     "end_time": "2025-07-28T11:12:28.243123",
     "exception": false,
     "start_time": "2025-07-28T11:12:28.080871",
     "status": "completed"
    },
    "tags": []
   },
   "outputs": [],
   "source": [
    "# Auxiliary data needed downstream in the pipeline\n",
    "\n",
    "org_train = X_train.copy()\n",
    "org_test = X_test.copy()\n",
    "org_calib = X_calib.copy()"
   ]
  },
  {
   "cell_type": "markdown",
   "id": "0a4a1b33",
   "metadata": {
    "papermill": {
     "duration": 0.019147,
     "end_time": "2025-07-28T11:12:28.282130",
     "exception": false,
     "start_time": "2025-07-28T11:12:28.262983",
     "status": "completed"
    },
    "tags": []
   },
   "source": [
    "# Preprocessing Data"
   ]
  },
  {
   "cell_type": "code",
   "execution_count": 22,
   "id": "ca879031",
   "metadata": {
    "execution": {
     "iopub.execute_input": "2025-07-28T11:12:28.322560Z",
     "iopub.status.busy": "2025-07-28T11:12:28.321844Z",
     "iopub.status.idle": "2025-07-28T11:12:28.328041Z",
     "shell.execute_reply": "2025-07-28T11:12:28.327192Z"
    },
    "papermill": {
     "duration": 0.028446,
     "end_time": "2025-07-28T11:12:28.329743",
     "exception": false,
     "start_time": "2025-07-28T11:12:28.301297",
     "status": "completed"
    },
    "tags": []
   },
   "outputs": [],
   "source": [
    "# EXCLUDE PROTECTED FEATURES\n",
    "# ----------------------\n",
    "# \"exclude_features\": \"none\", # \"nationality\", \"sex\", \"nationality-sex\"\n",
    "\n",
    "excluded_features = universe[\"exclude_features\"].split(\"-\") # split, e.g.: \"nationality-sex\" -> [\"nationality\", \"sex\"]\n",
    "excluded_features_dictionary = {\n",
    "    \"nationality\": [\"maxdeutsch1\", \"maxdeutsch.Missing.\"],\n",
    "    \"sex\": [\"frau1\"],\n",
    "    \"age\": [\"age\"],\n",
    "}\n"
   ]
  },
  {
   "cell_type": "code",
   "execution_count": 23,
   "id": "b745ac60",
   "metadata": {
    "execution": {
     "iopub.execute_input": "2025-07-28T11:12:28.370320Z",
     "iopub.status.busy": "2025-07-28T11:12:28.369641Z",
     "iopub.status.idle": "2025-07-28T11:12:28.375338Z",
     "shell.execute_reply": "2025-07-28T11:12:28.374383Z"
    },
    "papermill": {
     "duration": 0.027922,
     "end_time": "2025-07-28T11:12:28.377077",
     "exception": false,
     "start_time": "2025-07-28T11:12:28.349155",
     "status": "completed"
    },
    "tags": []
   },
   "outputs": [],
   "source": [
    "# Code nice names to column names\n",
    "\n",
    "excluded_features_columns = [\n",
    "    excluded_features_dictionary[f] for f in excluded_features if len(f) > 0 and f != \"none\"\n",
    "]"
   ]
  },
  {
   "cell_type": "code",
   "execution_count": 24,
   "id": "f84f73a2",
   "metadata": {
    "execution": {
     "iopub.execute_input": "2025-07-28T11:12:28.418849Z",
     "iopub.status.busy": "2025-07-28T11:12:28.417907Z",
     "iopub.status.idle": "2025-07-28T11:12:28.424940Z",
     "shell.execute_reply": "2025-07-28T11:12:28.424013Z"
    },
    "papermill": {
     "duration": 0.029328,
     "end_time": "2025-07-28T11:12:28.426522",
     "exception": false,
     "start_time": "2025-07-28T11:12:28.397194",
     "status": "completed"
    },
    "tags": []
   },
   "outputs": [],
   "source": [
    "from utils import flatten_once\n",
    "\n",
    "excluded_features_columns = flatten_once(excluded_features_columns)"
   ]
  },
  {
   "cell_type": "code",
   "execution_count": 25,
   "id": "884dea22",
   "metadata": {
    "execution": {
     "iopub.execute_input": "2025-07-28T11:12:28.468390Z",
     "iopub.status.busy": "2025-07-28T11:12:28.467392Z",
     "iopub.status.idle": "2025-07-28T11:12:28.525288Z",
     "shell.execute_reply": "2025-07-28T11:12:28.524279Z"
    },
    "papermill": {
     "duration": 0.080421,
     "end_time": "2025-07-28T11:12:28.526923",
     "exception": false,
     "start_time": "2025-07-28T11:12:28.446502",
     "status": "completed"
    },
    "tags": []
   },
   "outputs": [
    {
     "name": "stdout",
     "output_type": "stream",
     "text": [
      "Dropping features: ['frau1']\n"
     ]
    }
   ],
   "source": [
    "if len(excluded_features_columns) > 0:\n",
    "    print(f\"Dropping features: {excluded_features_columns}\")\n",
    "    X_train.drop(excluded_features_columns, axis=1, inplace=True)"
   ]
  },
  {
   "cell_type": "code",
   "execution_count": 26,
   "id": "95ab8b16",
   "metadata": {
    "execution": {
     "iopub.execute_input": "2025-07-28T11:12:28.568712Z",
     "iopub.status.busy": "2025-07-28T11:12:28.568013Z",
     "iopub.status.idle": "2025-07-28T11:12:28.622870Z",
     "shell.execute_reply": "2025-07-28T11:12:28.621880Z"
    },
    "papermill": {
     "duration": 0.077254,
     "end_time": "2025-07-28T11:12:28.624537",
     "exception": false,
     "start_time": "2025-07-28T11:12:28.547283",
     "status": "completed"
    },
    "tags": []
   },
   "outputs": [
    {
     "name": "stdout",
     "output_type": "stream",
     "text": [
      "Dropping features: ['frau1']\n"
     ]
    }
   ],
   "source": [
    "if len(excluded_features_columns) > 0:\n",
    "    print(f\"Dropping features: {excluded_features_columns}\")\n",
    "    X_test.drop(excluded_features_columns, axis=1, inplace=True)"
   ]
  },
  {
   "cell_type": "code",
   "execution_count": 27,
   "id": "1853aaf5-fb9f-46cb-a2b5-8ea4ae2237e4",
   "metadata": {
    "execution": {
     "iopub.execute_input": "2025-07-28T11:12:28.666815Z",
     "iopub.status.busy": "2025-07-28T11:12:28.666107Z",
     "iopub.status.idle": "2025-07-28T11:12:28.718769Z",
     "shell.execute_reply": "2025-07-28T11:12:28.717721Z"
    },
    "papermill": {
     "duration": 0.076237,
     "end_time": "2025-07-28T11:12:28.721306",
     "exception": false,
     "start_time": "2025-07-28T11:12:28.645069",
     "status": "completed"
    },
    "tags": []
   },
   "outputs": [
    {
     "name": "stdout",
     "output_type": "stream",
     "text": [
      "Dropping features: ['frau1']\n"
     ]
    }
   ],
   "source": [
    "if len(excluded_features_columns) > 0:\n",
    "    print(f\"Dropping features: {excluded_features_columns}\")\n",
    "    X_calib.drop(excluded_features_columns, axis=1, inplace=True)"
   ]
  },
  {
   "cell_type": "code",
   "execution_count": 28,
   "id": "6727d079-03e5-481e-9d38-292a90b7a0a8",
   "metadata": {
    "execution": {
     "iopub.execute_input": "2025-07-28T11:12:28.764191Z",
     "iopub.status.busy": "2025-07-28T11:12:28.763441Z",
     "iopub.status.idle": "2025-07-28T11:12:28.768578Z",
     "shell.execute_reply": "2025-07-28T11:12:28.767683Z"
    },
    "papermill": {
     "duration": 0.028084,
     "end_time": "2025-07-28T11:12:28.770160",
     "exception": false,
     "start_time": "2025-07-28T11:12:28.742076",
     "status": "completed"
    },
    "tags": []
   },
   "outputs": [],
   "source": [
    "# SPLIT & STRATIFY DATA\n",
    "# ----------------------"
   ]
  },
  {
   "cell_type": "code",
   "execution_count": 29,
   "id": "76c4dc6d",
   "metadata": {
    "execution": {
     "iopub.execute_input": "2025-07-28T11:12:28.812532Z",
     "iopub.status.busy": "2025-07-28T11:12:28.811811Z",
     "iopub.status.idle": "2025-07-28T11:12:28.817460Z",
     "shell.execute_reply": "2025-07-28T11:12:28.816561Z"
    },
    "papermill": {
     "duration": 0.028375,
     "end_time": "2025-07-28T11:12:28.819030",
     "exception": false,
     "start_time": "2025-07-28T11:12:28.790655",
     "status": "completed"
    },
    "tags": []
   },
   "outputs": [],
   "source": [
    "# EXCLUDE CERTAIN SUBGROUPS\n",
    "# ----------------------\n",
    "\n",
    "mode = universe.get(\"exclude_subgroups\", \"keep-all\") \n",
    "# Fetches the exclude_subgroups setting from the universe dict.\n",
    "# Defaults to \"keep-all\" if the key is missing."
   ]
  },
  {
   "cell_type": "code",
   "execution_count": 30,
   "id": "21994072",
   "metadata": {
    "execution": {
     "iopub.execute_input": "2025-07-28T11:12:28.861452Z",
     "iopub.status.busy": "2025-07-28T11:12:28.860752Z",
     "iopub.status.idle": "2025-07-28T11:12:28.867778Z",
     "shell.execute_reply": "2025-07-28T11:12:28.866777Z"
    },
    "papermill": {
     "duration": 0.029688,
     "end_time": "2025-07-28T11:12:28.869361",
     "exception": false,
     "start_time": "2025-07-28T11:12:28.839673",
     "status": "completed"
    },
    "tags": []
   },
   "outputs": [],
   "source": [
    "if mode == \"keep-all\":\n",
    "    keep_mask = pd.Series(True, index=org_train.index)\n",
    "\n",
    "# org_train contains the original feature columns from features_org (in Simson)\n",
    "# features_org contains unprocessed features, for me X_train at beginning ???\n",
    "# For keep-all, creates a boolean Series (keep_mask) of all True, so no rows are removed.\n",
    "\n",
    "elif mode == \"drop-non-german\":\n",
    "    keep_mask = org_train[\"maxdeutsch1\"] == 1 # ??? what about missing values?\n",
    "\n",
    "else:\n",
    "    raise ValueError(f\"Unsupported mode for exclude_subgroups: {mode}\")\n"
   ]
  },
  {
   "cell_type": "code",
   "execution_count": 31,
   "id": "71651440",
   "metadata": {
    "execution": {
     "iopub.execute_input": "2025-07-28T11:12:28.911824Z",
     "iopub.status.busy": "2025-07-28T11:12:28.911073Z",
     "iopub.status.idle": "2025-07-28T11:12:28.917970Z",
     "shell.execute_reply": "2025-07-28T11:12:28.917054Z"
    },
    "papermill": {
     "duration": 0.029702,
     "end_time": "2025-07-28T11:12:28.919681",
     "exception": false,
     "start_time": "2025-07-28T11:12:28.889979",
     "status": "completed"
    },
    "tags": []
   },
   "outputs": [],
   "source": [
    "n_drop = (~keep_mask).sum() # Calculates how many rows are set to be dropped\n",
    "if n_drop > 0:\n",
    "    pct = n_drop / len(keep_mask) * 100\n",
    "    print(f\"Dropping {n_drop} rows ({pct:.2f}%) where mode='{mode}'\")"
   ]
  },
  {
   "cell_type": "code",
   "execution_count": 32,
   "id": "5fb8eee5",
   "metadata": {
    "execution": {
     "iopub.execute_input": "2025-07-28T11:12:28.961979Z",
     "iopub.status.busy": "2025-07-28T11:12:28.961277Z",
     "iopub.status.idle": "2025-07-28T11:12:29.022922Z",
     "shell.execute_reply": "2025-07-28T11:12:29.021961Z"
    },
    "papermill": {
     "duration": 0.084709,
     "end_time": "2025-07-28T11:12:29.024925",
     "exception": false,
     "start_time": "2025-07-28T11:12:28.940216",
     "status": "completed"
    },
    "tags": []
   },
   "outputs": [],
   "source": [
    "X_train = X_train[keep_mask]"
   ]
  },
  {
   "cell_type": "code",
   "execution_count": 33,
   "id": "b202bb3a",
   "metadata": {
    "execution": {
     "iopub.execute_input": "2025-07-28T11:12:29.069105Z",
     "iopub.status.busy": "2025-07-28T11:12:29.068205Z",
     "iopub.status.idle": "2025-07-28T11:12:29.076123Z",
     "shell.execute_reply": "2025-07-28T11:12:29.075274Z"
    },
    "papermill": {
     "duration": 0.031464,
     "end_time": "2025-07-28T11:12:29.077636",
     "exception": false,
     "start_time": "2025-07-28T11:12:29.046172",
     "status": "completed"
    },
    "tags": []
   },
   "outputs": [],
   "source": [
    "y_train = y_train[keep_mask]"
   ]
  },
  {
   "cell_type": "markdown",
   "id": "493e2ac3",
   "metadata": {
    "papermill": {
     "duration": 0.020222,
     "end_time": "2025-07-28T11:12:29.118968",
     "exception": false,
     "start_time": "2025-07-28T11:12:29.098746",
     "status": "completed"
    },
    "tags": []
   },
   "source": [
    "# Model Training"
   ]
  },
  {
   "cell_type": "code",
   "execution_count": 34,
   "id": "679e1268",
   "metadata": {
    "execution": {
     "iopub.execute_input": "2025-07-28T11:12:29.161926Z",
     "iopub.status.busy": "2025-07-28T11:12:29.160855Z",
     "iopub.status.idle": "2025-07-28T11:12:29.267238Z",
     "shell.execute_reply": "2025-07-28T11:12:29.266307Z"
    },
    "papermill": {
     "duration": 0.129784,
     "end_time": "2025-07-28T11:12:29.269194",
     "exception": false,
     "start_time": "2025-07-28T11:12:29.139410",
     "status": "completed"
    },
    "tags": []
   },
   "outputs": [],
   "source": [
    "from sklearn.linear_model import LogisticRegression\n",
    "from sklearn.ensemble import GradientBoostingClassifier, RandomForestClassifier\n",
    "\n",
    "if (universe[\"model\"] == \"logreg\"):\n",
    "    model = LogisticRegression() #penalty=\"none\") #, solver=\"newton-cg\", max_iter=1) # include random_state=19 ?\n",
    "elif (universe[\"model\"] == \"penalized_logreg\"):\n",
    "    model = LogisticRegression(penalty=\"l2\", C=1.0) #, solver=\"newton-cg\", max_iter=1)\n",
    "elif (universe[\"model\"] == \"rf\"):\n",
    "    model = RandomForestClassifier(n_estimators=100, n_jobs=-1)\n",
    "elif (universe[\"model\"] == \"gbm\"):\n",
    "    model = GradientBoostingClassifier()\n",
    "elif (universe[\"model\"] == \"elasticnet\"):\n",
    "    model = LogisticRegression(penalty = 'elasticnet', solver = 'saga', l1_ratio = 0.5, max_iter=5000) # which solver to use?\n",
    "else:\n",
    "    raise \"Unsupported universe.model\""
   ]
  },
  {
   "cell_type": "code",
   "execution_count": 35,
   "id": "0cc8f744",
   "metadata": {
    "execution": {
     "iopub.execute_input": "2025-07-28T11:12:29.312771Z",
     "iopub.status.busy": "2025-07-28T11:12:29.311890Z",
     "iopub.status.idle": "2025-07-28T11:12:29.318771Z",
     "shell.execute_reply": "2025-07-28T11:12:29.317891Z"
    },
    "papermill": {
     "duration": 0.030155,
     "end_time": "2025-07-28T11:12:29.320524",
     "exception": false,
     "start_time": "2025-07-28T11:12:29.290369",
     "status": "completed"
    },
    "tags": []
   },
   "outputs": [],
   "source": [
    "import numpy as np\n",
    "from sklearn.pipeline import Pipeline\n",
    "from sklearn.preprocessing import StandardScaler\n",
    "\n",
    "model = Pipeline([\n",
    "    #(\"continuous_processor\", continuous_processor),\n",
    "    #(\"categorical_preprocessor\", categorical_preprocessor),\n",
    "    (\"scale\", StandardScaler() if universe[\"scale\"] == \"scale\" else None), \n",
    "    (\"model\", model),\n",
    "])"
   ]
  },
  {
   "cell_type": "code",
   "execution_count": 36,
   "id": "9442c04d",
   "metadata": {
    "execution": {
     "iopub.execute_input": "2025-07-28T11:12:29.363338Z",
     "iopub.status.busy": "2025-07-28T11:12:29.362675Z",
     "iopub.status.idle": "2025-07-28T11:29:04.757969Z",
     "shell.execute_reply": "2025-07-28T11:29:04.756775Z"
    },
    "papermill": {
     "duration": 995.431751,
     "end_time": "2025-07-28T11:29:04.772951",
     "exception": false,
     "start_time": "2025-07-28T11:12:29.341200",
     "status": "completed"
    },
    "tags": []
   },
   "outputs": [
    {
     "data": {
      "text/html": [
       "<style>#sk-container-id-1 {color: black;background-color: white;}#sk-container-id-1 pre{padding: 0;}#sk-container-id-1 div.sk-toggleable {background-color: white;}#sk-container-id-1 label.sk-toggleable__label {cursor: pointer;display: block;width: 100%;margin-bottom: 0;padding: 0.3em;box-sizing: border-box;text-align: center;}#sk-container-id-1 label.sk-toggleable__label-arrow:before {content: \"▸\";float: left;margin-right: 0.25em;color: #696969;}#sk-container-id-1 label.sk-toggleable__label-arrow:hover:before {color: black;}#sk-container-id-1 div.sk-estimator:hover label.sk-toggleable__label-arrow:before {color: black;}#sk-container-id-1 div.sk-toggleable__content {max-height: 0;max-width: 0;overflow: hidden;text-align: left;background-color: #f0f8ff;}#sk-container-id-1 div.sk-toggleable__content pre {margin: 0.2em;color: black;border-radius: 0.25em;background-color: #f0f8ff;}#sk-container-id-1 input.sk-toggleable__control:checked~div.sk-toggleable__content {max-height: 200px;max-width: 100%;overflow: auto;}#sk-container-id-1 input.sk-toggleable__control:checked~label.sk-toggleable__label-arrow:before {content: \"▾\";}#sk-container-id-1 div.sk-estimator input.sk-toggleable__control:checked~label.sk-toggleable__label {background-color: #d4ebff;}#sk-container-id-1 div.sk-label input.sk-toggleable__control:checked~label.sk-toggleable__label {background-color: #d4ebff;}#sk-container-id-1 input.sk-hidden--visually {border: 0;clip: rect(1px 1px 1px 1px);clip: rect(1px, 1px, 1px, 1px);height: 1px;margin: -1px;overflow: hidden;padding: 0;position: absolute;width: 1px;}#sk-container-id-1 div.sk-estimator {font-family: monospace;background-color: #f0f8ff;border: 1px dotted black;border-radius: 0.25em;box-sizing: border-box;margin-bottom: 0.5em;}#sk-container-id-1 div.sk-estimator:hover {background-color: #d4ebff;}#sk-container-id-1 div.sk-parallel-item::after {content: \"\";width: 100%;border-bottom: 1px solid gray;flex-grow: 1;}#sk-container-id-1 div.sk-label:hover label.sk-toggleable__label {background-color: #d4ebff;}#sk-container-id-1 div.sk-serial::before {content: \"\";position: absolute;border-left: 1px solid gray;box-sizing: border-box;top: 0;bottom: 0;left: 50%;z-index: 0;}#sk-container-id-1 div.sk-serial {display: flex;flex-direction: column;align-items: center;background-color: white;padding-right: 0.2em;padding-left: 0.2em;position: relative;}#sk-container-id-1 div.sk-item {position: relative;z-index: 1;}#sk-container-id-1 div.sk-parallel {display: flex;align-items: stretch;justify-content: center;background-color: white;position: relative;}#sk-container-id-1 div.sk-item::before, #sk-container-id-1 div.sk-parallel-item::before {content: \"\";position: absolute;border-left: 1px solid gray;box-sizing: border-box;top: 0;bottom: 0;left: 50%;z-index: -1;}#sk-container-id-1 div.sk-parallel-item {display: flex;flex-direction: column;z-index: 1;position: relative;background-color: white;}#sk-container-id-1 div.sk-parallel-item:first-child::after {align-self: flex-end;width: 50%;}#sk-container-id-1 div.sk-parallel-item:last-child::after {align-self: flex-start;width: 50%;}#sk-container-id-1 div.sk-parallel-item:only-child::after {width: 0;}#sk-container-id-1 div.sk-dashed-wrapped {border: 1px dashed gray;margin: 0 0.4em 0.5em 0.4em;box-sizing: border-box;padding-bottom: 0.4em;background-color: white;}#sk-container-id-1 div.sk-label label {font-family: monospace;font-weight: bold;display: inline-block;line-height: 1.2em;}#sk-container-id-1 div.sk-label-container {text-align: center;}#sk-container-id-1 div.sk-container {/* jupyter's `normalize.less` sets `[hidden] { display: none; }` but bootstrap.min.css set `[hidden] { display: none !important; }` so we also need the `!important` here to be able to override the default hidden behavior on the sphinx rendered scikit-learn.org. See: https://github.com/scikit-learn/scikit-learn/issues/21755 */display: inline-block !important;position: relative;}#sk-container-id-1 div.sk-text-repr-fallback {display: none;}</style><div id=\"sk-container-id-1\" class=\"sk-top-container\"><div class=\"sk-text-repr-fallback\"><pre>Pipeline(steps=[(&#x27;scale&#x27;, None),\n",
       "                (&#x27;model&#x27;,\n",
       "                 LogisticRegression(l1_ratio=0.5, max_iter=5000,\n",
       "                                    penalty=&#x27;elasticnet&#x27;, solver=&#x27;saga&#x27;))])</pre><b>In a Jupyter environment, please rerun this cell to show the HTML representation or trust the notebook. <br />On GitHub, the HTML representation is unable to render, please try loading this page with nbviewer.org.</b></div><div class=\"sk-container\" hidden><div class=\"sk-item sk-dashed-wrapped\"><div class=\"sk-label-container\"><div class=\"sk-label sk-toggleable\"><input class=\"sk-toggleable__control sk-hidden--visually\" id=\"sk-estimator-id-1\" type=\"checkbox\" ><label for=\"sk-estimator-id-1\" class=\"sk-toggleable__label sk-toggleable__label-arrow\">Pipeline</label><div class=\"sk-toggleable__content\"><pre>Pipeline(steps=[(&#x27;scale&#x27;, None),\n",
       "                (&#x27;model&#x27;,\n",
       "                 LogisticRegression(l1_ratio=0.5, max_iter=5000,\n",
       "                                    penalty=&#x27;elasticnet&#x27;, solver=&#x27;saga&#x27;))])</pre></div></div></div><div class=\"sk-serial\"><div class=\"sk-item\"><div class=\"sk-estimator sk-toggleable\"><input class=\"sk-toggleable__control sk-hidden--visually\" id=\"sk-estimator-id-2\" type=\"checkbox\" ><label for=\"sk-estimator-id-2\" class=\"sk-toggleable__label sk-toggleable__label-arrow\">None</label><div class=\"sk-toggleable__content\"><pre>None</pre></div></div></div><div class=\"sk-item\"><div class=\"sk-estimator sk-toggleable\"><input class=\"sk-toggleable__control sk-hidden--visually\" id=\"sk-estimator-id-3\" type=\"checkbox\" ><label for=\"sk-estimator-id-3\" class=\"sk-toggleable__label sk-toggleable__label-arrow\">LogisticRegression</label><div class=\"sk-toggleable__content\"><pre>LogisticRegression(l1_ratio=0.5, max_iter=5000, penalty=&#x27;elasticnet&#x27;,\n",
       "                   solver=&#x27;saga&#x27;)</pre></div></div></div></div></div></div></div>"
      ],
      "text/plain": [
       "Pipeline(steps=[('scale', None),\n",
       "                ('model',\n",
       "                 LogisticRegression(l1_ratio=0.5, max_iter=5000,\n",
       "                                    penalty='elasticnet', solver='saga'))])"
      ]
     },
     "execution_count": 36,
     "metadata": {},
     "output_type": "execute_result"
    }
   ],
   "source": [
    "model.fit(X_train, y_train.values.ravel())"
   ]
  },
  {
   "cell_type": "code",
   "execution_count": 37,
   "id": "af59f8c0",
   "metadata": {
    "execution": {
     "iopub.execute_input": "2025-07-28T11:29:04.798088Z",
     "iopub.status.busy": "2025-07-28T11:29:04.797638Z",
     "iopub.status.idle": "2025-07-28T11:29:04.802776Z",
     "shell.execute_reply": "2025-07-28T11:29:04.802097Z"
    },
    "papermill": {
     "duration": 0.019445,
     "end_time": "2025-07-28T11:29:04.804087",
     "exception": false,
     "start_time": "2025-07-28T11:29:04.784642",
     "status": "completed"
    },
    "tags": []
   },
   "outputs": [],
   "source": [
    "from fairness_multiverse.universe import predict_w_threshold"
   ]
  },
  {
   "cell_type": "code",
   "execution_count": 38,
   "id": "a7cf2e16",
   "metadata": {
    "execution": {
     "iopub.execute_input": "2025-07-28T11:29:04.828668Z",
     "iopub.status.busy": "2025-07-28T11:29:04.828220Z",
     "iopub.status.idle": "2025-07-28T11:29:05.004974Z",
     "shell.execute_reply": "2025-07-28T11:29:05.004208Z"
    },
    "papermill": {
     "duration": 0.190532,
     "end_time": "2025-07-28T11:29:05.006192",
     "exception": false,
     "start_time": "2025-07-28T11:29:04.815660",
     "status": "completed"
    },
    "tags": []
   },
   "outputs": [
    {
     "data": {
      "text/plain": [
       "0.859458254375209"
      ]
     },
     "execution_count": 38,
     "metadata": {},
     "output_type": "execute_result"
    }
   ],
   "source": [
    "probs_test = model.predict_proba(X_test)\n",
    "\n",
    "'''\n",
    "Below code returns a boolean array (or binary 0/1 array depending on how it’s used) where each element \n",
    "is True if the probability of class 1 is greater than or equal to the threshold, and False otherwise.\n",
    "'''\n",
    "y_pred_default = predict_w_threshold(probs_test, 0.5)\n",
    "\n",
    "from sklearn.metrics import accuracy_score\n",
    "\n",
    "# Naive prediction\n",
    "accuracy_score(y_true = y_true, y_pred = y_pred_default)"
   ]
  },
  {
   "cell_type": "code",
   "execution_count": 39,
   "id": "081964c3",
   "metadata": {
    "execution": {
     "iopub.execute_input": "2025-07-28T11:29:05.031652Z",
     "iopub.status.busy": "2025-07-28T11:29:05.031143Z",
     "iopub.status.idle": "2025-07-28T11:29:05.109544Z",
     "shell.execute_reply": "2025-07-28T11:29:05.108823Z"
    },
    "papermill": {
     "duration": 0.092309,
     "end_time": "2025-07-28T11:29:05.110977",
     "exception": false,
     "start_time": "2025-07-28T11:29:05.018668",
     "status": "completed"
    },
    "tags": []
   },
   "outputs": [
    {
     "data": {
      "text/plain": [
       "array([0, 0, 0, ..., 0, 0, 0])"
      ]
     },
     "execution_count": 39,
     "metadata": {},
     "output_type": "execute_result"
    }
   ],
   "source": [
    "model.predict(X_test)"
   ]
  },
  {
   "cell_type": "markdown",
   "id": "56c9705b",
   "metadata": {
    "papermill": {
     "duration": 0.020363,
     "end_time": "2025-07-28T11:29:05.152508",
     "exception": false,
     "start_time": "2025-07-28T11:29:05.132145",
     "status": "completed"
    },
    "tags": []
   },
   "source": [
    "# Conformal Prediction"
   ]
  },
  {
   "cell_type": "code",
   "execution_count": 40,
   "id": "160ec6ff",
   "metadata": {
    "execution": {
     "iopub.execute_input": "2025-07-28T11:29:05.194244Z",
     "iopub.status.busy": "2025-07-28T11:29:05.193890Z",
     "iopub.status.idle": "2025-07-28T11:29:05.197950Z",
     "shell.execute_reply": "2025-07-28T11:29:05.197154Z"
    },
    "papermill": {
     "duration": 0.026953,
     "end_time": "2025-07-28T11:29:05.199557",
     "exception": false,
     "start_time": "2025-07-28T11:29:05.172604",
     "status": "completed"
    },
    "tags": []
   },
   "outputs": [],
   "source": [
    "# Miscoverage level for conformal prediction (10% allowed error rate => 90% target coverage)\n",
    "alpha = 0.1"
   ]
  },
  {
   "cell_type": "code",
   "execution_count": 41,
   "id": "eadf4555-3dd3-440e-8e35-f82a4ad9f855",
   "metadata": {
    "execution": {
     "iopub.execute_input": "2025-07-28T11:29:05.242759Z",
     "iopub.status.busy": "2025-07-28T11:29:05.242360Z",
     "iopub.status.idle": "2025-07-28T11:29:05.324156Z",
     "shell.execute_reply": "2025-07-28T11:29:05.323267Z"
    },
    "papermill": {
     "duration": 0.105393,
     "end_time": "2025-07-28T11:29:05.325897",
     "exception": false,
     "start_time": "2025-07-28T11:29:05.220504",
     "status": "completed"
    },
    "tags": []
   },
   "outputs": [],
   "source": [
    "probs_calib = model.predict_proba(X_calib)"
   ]
  },
  {
   "cell_type": "code",
   "execution_count": 42,
   "id": "2ed93547-6d5d-4983-9b36-1ecb300da49a",
   "metadata": {
    "execution": {
     "iopub.execute_input": "2025-07-28T11:29:05.362542Z",
     "iopub.status.busy": "2025-07-28T11:29:05.361855Z",
     "iopub.status.idle": "2025-07-28T11:29:05.366932Z",
     "shell.execute_reply": "2025-07-28T11:29:05.366129Z"
    },
    "papermill": {
     "duration": 0.021369,
     "end_time": "2025-07-28T11:29:05.368549",
     "exception": false,
     "start_time": "2025-07-28T11:29:05.347180",
     "status": "completed"
    },
    "tags": []
   },
   "outputs": [],
   "source": [
    "y_calib = y_calib.values.ravel().astype(int)"
   ]
  },
  {
   "cell_type": "code",
   "execution_count": 43,
   "id": "65d1320d-f588-4b38-9072-62af1ae97f7d",
   "metadata": {
    "execution": {
     "iopub.execute_input": "2025-07-28T11:29:05.411889Z",
     "iopub.status.busy": "2025-07-28T11:29:05.411454Z",
     "iopub.status.idle": "2025-07-28T11:29:05.418928Z",
     "shell.execute_reply": "2025-07-28T11:29:05.418093Z"
    },
    "papermill": {
     "duration": 0.030721,
     "end_time": "2025-07-28T11:29:05.420508",
     "exception": false,
     "start_time": "2025-07-28T11:29:05.389787",
     "status": "completed"
    },
    "tags": []
   },
   "outputs": [],
   "source": [
    "from fairness_multiverse.conformal import compute_nc_scores\n",
    "\n",
    "# Compute nonconformity scores on calibration set (1 - probability of true class)\n",
    "nc_scores = compute_nc_scores(probs_calib, y_calib)"
   ]
  },
  {
   "cell_type": "code",
   "execution_count": 44,
   "id": "df3b8ca3-53b7-43d5-9667-7c85da7aeda2",
   "metadata": {
    "execution": {
     "iopub.execute_input": "2025-07-28T11:29:05.464381Z",
     "iopub.status.busy": "2025-07-28T11:29:05.463700Z",
     "iopub.status.idle": "2025-07-28T11:29:05.469866Z",
     "shell.execute_reply": "2025-07-28T11:29:05.469157Z"
    },
    "papermill": {
     "duration": 0.029519,
     "end_time": "2025-07-28T11:29:05.471351",
     "exception": false,
     "start_time": "2025-07-28T11:29:05.441832",
     "status": "completed"
    },
    "tags": []
   },
   "outputs": [],
   "source": [
    "from fairness_multiverse.conformal import find_threshold\n",
    "\n",
    "# Find conformal threshold q_hat for the given alpha (split conformal method)\n",
    "q_hat = find_threshold(nc_scores, alpha)"
   ]
  },
  {
   "cell_type": "code",
   "execution_count": 45,
   "id": "4d29e6c1-0ef6-4aa4-b8fe-4fe79b0d033a",
   "metadata": {
    "execution": {
     "iopub.execute_input": "2025-07-28T11:29:05.514675Z",
     "iopub.status.busy": "2025-07-28T11:29:05.514351Z",
     "iopub.status.idle": "2025-07-28T11:29:05.520821Z",
     "shell.execute_reply": "2025-07-28T11:29:05.519908Z"
    },
    "papermill": {
     "duration": 0.029705,
     "end_time": "2025-07-28T11:29:05.522347",
     "exception": false,
     "start_time": "2025-07-28T11:29:05.492642",
     "status": "completed"
    },
    "tags": []
   },
   "outputs": [
    {
     "data": {
      "text/plain": [
       "0.6864344445886044"
      ]
     },
     "execution_count": 45,
     "metadata": {},
     "output_type": "execute_result"
    }
   ],
   "source": [
    "q_hat"
   ]
  },
  {
   "cell_type": "code",
   "execution_count": 46,
   "id": "92460794-cdac-4be2-ba28-f28c0515a6fb",
   "metadata": {
    "execution": {
     "iopub.execute_input": "2025-07-28T11:29:05.566581Z",
     "iopub.status.busy": "2025-07-28T11:29:05.566151Z",
     "iopub.status.idle": "2025-07-28T11:29:06.083449Z",
     "shell.execute_reply": "2025-07-28T11:29:06.082684Z"
    },
    "papermill": {
     "duration": 0.541492,
     "end_time": "2025-07-28T11:29:06.085279",
     "exception": false,
     "start_time": "2025-07-28T11:29:05.543787",
     "status": "completed"
    },
    "tags": []
   },
   "outputs": [],
   "source": [
    "from fairness_multiverse.conformal import predict_conformal_sets\n",
    "\n",
    "# Generate prediction sets for each test example\n",
    "pred_sets = predict_conformal_sets(model, X_test, q_hat)"
   ]
  },
  {
   "cell_type": "code",
   "execution_count": 47,
   "id": "d90c9a65-e6db-4f5d-80cd-e68fb7e46829",
   "metadata": {
    "execution": {
     "iopub.execute_input": "2025-07-28T11:29:06.130227Z",
     "iopub.status.busy": "2025-07-28T11:29:06.129832Z",
     "iopub.status.idle": "2025-07-28T11:29:06.134303Z",
     "shell.execute_reply": "2025-07-28T11:29:06.133531Z"
    },
    "papermill": {
     "duration": 0.028091,
     "end_time": "2025-07-28T11:29:06.135588",
     "exception": false,
     "start_time": "2025-07-28T11:29:06.107497",
     "status": "completed"
    },
    "tags": []
   },
   "outputs": [],
   "source": [
    "y_true = y_true.squeeze()"
   ]
  },
  {
   "cell_type": "code",
   "execution_count": 48,
   "id": "3a58a54a-1e68-46b9-927a-df01f18aebc8",
   "metadata": {
    "execution": {
     "iopub.execute_input": "2025-07-28T11:29:06.161838Z",
     "iopub.status.busy": "2025-07-28T11:29:06.161435Z",
     "iopub.status.idle": "2025-07-28T11:29:06.740308Z",
     "shell.execute_reply": "2025-07-28T11:29:06.739501Z"
    },
    "papermill": {
     "duration": 0.593485,
     "end_time": "2025-07-28T11:29:06.742029",
     "exception": false,
     "start_time": "2025-07-28T11:29:06.148544",
     "status": "completed"
    },
    "tags": []
   },
   "outputs": [],
   "source": [
    "from fairness_multiverse.conformal import evaluate_sets\n",
    "\n",
    "# Evaluate coverage and average set size on test data\n",
    "metrics = evaluate_sets(pred_sets, y_true)"
   ]
  },
  {
   "cell_type": "markdown",
   "id": "2b569c12-9aaa-4c88-98c9-bbcd0cf3ebb8",
   "metadata": {
    "papermill": {
     "duration": 0.021167,
     "end_time": "2025-07-28T11:29:06.785642",
     "exception": false,
     "start_time": "2025-07-28T11:29:06.764475",
     "status": "completed"
    },
    "tags": []
   },
   "source": [
    "# CP Metrics"
   ]
  },
  {
   "cell_type": "code",
   "execution_count": 49,
   "id": "5ce0a5cb-201f-45a0-ade5-94c7f0bd6095",
   "metadata": {
    "execution": {
     "iopub.execute_input": "2025-07-28T11:29:06.829367Z",
     "iopub.status.busy": "2025-07-28T11:29:06.828999Z",
     "iopub.status.idle": "2025-07-28T11:29:06.834477Z",
     "shell.execute_reply": "2025-07-28T11:29:06.833805Z"
    },
    "papermill": {
     "duration": 0.029038,
     "end_time": "2025-07-28T11:29:06.835904",
     "exception": false,
     "start_time": "2025-07-28T11:29:06.806866",
     "status": "completed"
    },
    "tags": []
   },
   "outputs": [
    {
     "data": {
      "text/plain": [
       "{'coverage': 0.9112362055512206, 'avg_size': 1.1321145914613755}"
      ]
     },
     "execution_count": 49,
     "metadata": {},
     "output_type": "execute_result"
    }
   ],
   "source": [
    "metrics"
   ]
  },
  {
   "cell_type": "code",
   "execution_count": 50,
   "id": "9b9a838d-31c9-430b-ae14-12baee460d17",
   "metadata": {
    "execution": {
     "iopub.execute_input": "2025-07-28T11:29:06.879914Z",
     "iopub.status.busy": "2025-07-28T11:29:06.879595Z",
     "iopub.status.idle": "2025-07-28T11:29:06.884561Z",
     "shell.execute_reply": "2025-07-28T11:29:06.883737Z"
    },
    "papermill": {
     "duration": 0.02833,
     "end_time": "2025-07-28T11:29:06.885730",
     "exception": false,
     "start_time": "2025-07-28T11:29:06.857400",
     "status": "completed"
    },
    "tags": []
   },
   "outputs": [],
   "source": [
    "example_universe = universe.copy()\n",
    "universe_training_size = example_universe.get(\"training_size\")\n",
    "universe_scale = example_universe.get(\"scale\")\n",
    "universe_model = example_universe.get(\"model\")\n",
    "universe_exclude_features = example_universe.get(\"exclude_features\")\n",
    "universe_exclude_subgroups = example_universe.get(\"exclude_subgroups\")"
   ]
  },
  {
   "cell_type": "code",
   "execution_count": 51,
   "id": "f4b6a8ac-9dc0-4245-8a91-5b3b5999c4f9",
   "metadata": {
    "execution": {
     "iopub.execute_input": "2025-07-28T11:29:06.911336Z",
     "iopub.status.busy": "2025-07-28T11:29:06.911031Z",
     "iopub.status.idle": "2025-07-28T11:29:06.915983Z",
     "shell.execute_reply": "2025-07-28T11:29:06.915290Z"
    },
    "papermill": {
     "duration": 0.01918,
     "end_time": "2025-07-28T11:29:06.917558",
     "exception": false,
     "start_time": "2025-07-28T11:29:06.898378",
     "status": "completed"
    },
    "tags": []
   },
   "outputs": [],
   "source": [
    "cp_metrics_dict = {\n",
    "    \"universe_id\": [universe_id],\n",
    "    \"universe_training_size\": [universe_training_size],\n",
    "    \"universe_scale\": [universe_scale],\n",
    "    \"universe_model\": [universe_model],\n",
    "    \"universe_exclude_features\": [universe_exclude_features],\n",
    "    \"universe_exclude_subgroups\": [universe_exclude_subgroups],\n",
    "    \"q_hat\": [q_hat],\n",
    "    \"coverage\": [metrics[\"coverage\"]],\n",
    "    \"avg_size\": [metrics[\"avg_size\"]],\n",
    "}"
   ]
  },
  {
   "cell_type": "code",
   "execution_count": 52,
   "id": "908acbb1-0371-4915-85ca-3fa520d2efe2",
   "metadata": {
    "execution": {
     "iopub.execute_input": "2025-07-28T11:29:06.962033Z",
     "iopub.status.busy": "2025-07-28T11:29:06.961689Z",
     "iopub.status.idle": "2025-07-28T11:29:06.967773Z",
     "shell.execute_reply": "2025-07-28T11:29:06.967035Z"
    },
    "papermill": {
     "duration": 0.029694,
     "end_time": "2025-07-28T11:29:06.969012",
     "exception": false,
     "start_time": "2025-07-28T11:29:06.939318",
     "status": "completed"
    },
    "tags": []
   },
   "outputs": [
    {
     "data": {
      "text/plain": [
       "{'universe_id': ['28126357b0a6aa0ae0000051caa63c20'],\n",
       " 'universe_training_size': ['2014'],\n",
       " 'universe_scale': ['do-not-scale'],\n",
       " 'universe_model': ['elasticnet'],\n",
       " 'universe_exclude_features': ['sex'],\n",
       " 'universe_exclude_subgroups': ['keep-all'],\n",
       " 'q_hat': [0.6864344445886044],\n",
       " 'coverage': [0.9112362055512206],\n",
       " 'avg_size': [1.1321145914613755]}"
      ]
     },
     "execution_count": 52,
     "metadata": {},
     "output_type": "execute_result"
    }
   ],
   "source": [
    "cp_metrics_dict"
   ]
  },
  {
   "cell_type": "code",
   "execution_count": 53,
   "id": "33007efc-14e9-4ec6-97ac-56a455c82265",
   "metadata": {
    "execution": {
     "iopub.execute_input": "2025-07-28T11:29:06.995387Z",
     "iopub.status.busy": "2025-07-28T11:29:06.994690Z",
     "iopub.status.idle": "2025-07-28T11:29:07.001189Z",
     "shell.execute_reply": "2025-07-28T11:29:07.000425Z"
    },
    "papermill": {
     "duration": 0.020879,
     "end_time": "2025-07-28T11:29:07.002326",
     "exception": false,
     "start_time": "2025-07-28T11:29:06.981447",
     "status": "completed"
    },
    "tags": []
   },
   "outputs": [],
   "source": [
    "cp_metrics_df = pd.DataFrame(cp_metrics_dict)"
   ]
  },
  {
   "cell_type": "code",
   "execution_count": 54,
   "id": "db12611b-57b2-4910-b9d0-355adfd6e7bf",
   "metadata": {
    "execution": {
     "iopub.execute_input": "2025-07-28T11:29:07.028449Z",
     "iopub.status.busy": "2025-07-28T11:29:07.027815Z",
     "iopub.status.idle": "2025-07-28T11:29:07.045760Z",
     "shell.execute_reply": "2025-07-28T11:29:07.044948Z"
    },
    "papermill": {
     "duration": 0.032223,
     "end_time": "2025-07-28T11:29:07.047069",
     "exception": false,
     "start_time": "2025-07-28T11:29:07.014846",
     "status": "completed"
    },
    "tags": []
   },
   "outputs": [
    {
     "data": {
      "text/html": [
       "<div>\n",
       "<style scoped>\n",
       "    .dataframe tbody tr th:only-of-type {\n",
       "        vertical-align: middle;\n",
       "    }\n",
       "\n",
       "    .dataframe tbody tr th {\n",
       "        vertical-align: top;\n",
       "    }\n",
       "\n",
       "    .dataframe thead th {\n",
       "        text-align: right;\n",
       "    }\n",
       "</style>\n",
       "<table border=\"1\" class=\"dataframe\">\n",
       "  <thead>\n",
       "    <tr style=\"text-align: right;\">\n",
       "      <th></th>\n",
       "      <th>universe_id</th>\n",
       "      <th>universe_training_size</th>\n",
       "      <th>universe_scale</th>\n",
       "      <th>universe_model</th>\n",
       "      <th>universe_exclude_features</th>\n",
       "      <th>universe_exclude_subgroups</th>\n",
       "      <th>q_hat</th>\n",
       "      <th>coverage</th>\n",
       "      <th>avg_size</th>\n",
       "    </tr>\n",
       "  </thead>\n",
       "  <tbody>\n",
       "    <tr>\n",
       "      <th>0</th>\n",
       "      <td>28126357b0a6aa0ae0000051caa63c20</td>\n",
       "      <td>2014</td>\n",
       "      <td>do-not-scale</td>\n",
       "      <td>elasticnet</td>\n",
       "      <td>sex</td>\n",
       "      <td>keep-all</td>\n",
       "      <td>0.686434</td>\n",
       "      <td>0.911236</td>\n",
       "      <td>1.132115</td>\n",
       "    </tr>\n",
       "  </tbody>\n",
       "</table>\n",
       "</div>"
      ],
      "text/plain": [
       "                        universe_id universe_training_size universe_scale  \\\n",
       "0  28126357b0a6aa0ae0000051caa63c20                   2014   do-not-scale   \n",
       "\n",
       "  universe_model universe_exclude_features universe_exclude_subgroups  \\\n",
       "0     elasticnet                       sex                   keep-all   \n",
       "\n",
       "      q_hat  coverage  avg_size  \n",
       "0  0.686434  0.911236  1.132115  "
      ]
     },
     "execution_count": 54,
     "metadata": {},
     "output_type": "execute_result"
    }
   ],
   "source": [
    "cp_metrics_df"
   ]
  },
  {
   "cell_type": "code",
   "execution_count": 55,
   "id": "b7fbde55-a0a1-47e4-9af6-fe4a17fa8c61",
   "metadata": {
    "execution": {
     "iopub.execute_input": "2025-07-28T11:29:07.073696Z",
     "iopub.status.busy": "2025-07-28T11:29:07.073349Z",
     "iopub.status.idle": "2025-07-28T11:29:07.077742Z",
     "shell.execute_reply": "2025-07-28T11:29:07.077031Z"
    },
    "papermill": {
     "duration": 0.019141,
     "end_time": "2025-07-28T11:29:07.079272",
     "exception": false,
     "start_time": "2025-07-28T11:29:07.060131",
     "status": "completed"
    },
    "tags": []
   },
   "outputs": [],
   "source": [
    "# Conditional Coverage & looking at subgroups"
   ]
  },
  {
   "cell_type": "code",
   "execution_count": 56,
   "id": "027ae886-68dd-4141-96c7-805a5450e1ef",
   "metadata": {
    "execution": {
     "iopub.execute_input": "2025-07-28T11:29:07.125373Z",
     "iopub.status.busy": "2025-07-28T11:29:07.125050Z",
     "iopub.status.idle": "2025-07-28T11:29:07.312085Z",
     "shell.execute_reply": "2025-07-28T11:29:07.311243Z"
    },
    "papermill": {
     "duration": 0.211984,
     "end_time": "2025-07-28T11:29:07.313935",
     "exception": false,
     "start_time": "2025-07-28T11:29:07.101951",
     "status": "completed"
    },
    "tags": []
   },
   "outputs": [],
   "source": [
    "from fairness_multiverse.conformal import build_cp_groups\n",
    "\n",
    "cp_groups_df = build_cp_groups(pred_sets, y_true, X_test.index, org_test)\n",
    "#needs universe_id and setting"
   ]
  },
  {
   "cell_type": "code",
   "execution_count": 57,
   "id": "01d5802c-663a-4d1f-9d69-e036faaffbf7",
   "metadata": {
    "execution": {
     "iopub.execute_input": "2025-07-28T11:29:07.360337Z",
     "iopub.status.busy": "2025-07-28T11:29:07.360019Z",
     "iopub.status.idle": "2025-07-28T11:29:07.364025Z",
     "shell.execute_reply": "2025-07-28T11:29:07.363260Z"
    },
    "papermill": {
     "duration": 0.028445,
     "end_time": "2025-07-28T11:29:07.365257",
     "exception": false,
     "start_time": "2025-07-28T11:29:07.336812",
     "status": "completed"
    },
    "tags": []
   },
   "outputs": [],
   "source": [
    "#delete\n",
    "#cp_groups_df"
   ]
  },
  {
   "cell_type": "code",
   "execution_count": 58,
   "id": "fa424af1-d1eb-443d-b717-2d279ada8408",
   "metadata": {
    "execution": {
     "iopub.execute_input": "2025-07-28T11:29:07.391918Z",
     "iopub.status.busy": "2025-07-28T11:29:07.391260Z",
     "iopub.status.idle": "2025-07-28T11:29:07.395822Z",
     "shell.execute_reply": "2025-07-28T11:29:07.395024Z"
    },
    "papermill": {
     "duration": 0.01904,
     "end_time": "2025-07-28T11:29:07.397082",
     "exception": false,
     "start_time": "2025-07-28T11:29:07.378042",
     "status": "completed"
    },
    "tags": []
   },
   "outputs": [],
   "source": [
    "#delete\n",
    "#percentage = (cp_groups_df['nongerman_female'] == 1).mean() * 100\n",
    "#print(percentage)\n"
   ]
  },
  {
   "cell_type": "code",
   "execution_count": 59,
   "id": "6cbdab96-b2b2-45af-ad54-d0516db2e28d",
   "metadata": {
    "execution": {
     "iopub.execute_input": "2025-07-28T11:29:07.423760Z",
     "iopub.status.busy": "2025-07-28T11:29:07.423164Z",
     "iopub.status.idle": "2025-07-28T11:29:08.438995Z",
     "shell.execute_reply": "2025-07-28T11:29:08.438225Z"
    },
    "papermill": {
     "duration": 1.030984,
     "end_time": "2025-07-28T11:29:08.440753",
     "exception": false,
     "start_time": "2025-07-28T11:29:07.409769",
     "status": "completed"
    },
    "tags": []
   },
   "outputs": [],
   "source": [
    "# Define covered = 1 if true_label is in the predicted set\n",
    "cp_groups_df['covered'] = cp_groups_df.apply(\n",
    "    lambda r: int(r['true_label'] in r['pred_set']),\n",
    "    axis=1\n",
    ")"
   ]
  },
  {
   "cell_type": "code",
   "execution_count": 60,
   "id": "338ff529-1a6b-4b87-a931-8e4788d52aad",
   "metadata": {
    "execution": {
     "iopub.execute_input": "2025-07-28T11:29:08.489880Z",
     "iopub.status.busy": "2025-07-28T11:29:08.489530Z",
     "iopub.status.idle": "2025-07-28T11:29:08.493440Z",
     "shell.execute_reply": "2025-07-28T11:29:08.492738Z"
    },
    "papermill": {
     "duration": 0.02869,
     "end_time": "2025-07-28T11:29:08.494898",
     "exception": false,
     "start_time": "2025-07-28T11:29:08.466208",
     "status": "completed"
    },
    "tags": []
   },
   "outputs": [],
   "source": [
    "#cp_groups_df"
   ]
  },
  {
   "cell_type": "code",
   "execution_count": 61,
   "id": "90032e27-66df-4540-9169-4e89cfbaa758",
   "metadata": {
    "execution": {
     "iopub.execute_input": "2025-07-28T11:29:08.541122Z",
     "iopub.status.busy": "2025-07-28T11:29:08.540795Z",
     "iopub.status.idle": "2025-07-28T11:29:08.549190Z",
     "shell.execute_reply": "2025-07-28T11:29:08.548512Z"
    },
    "papermill": {
     "duration": 0.032902,
     "end_time": "2025-07-28T11:29:08.550680",
     "exception": false,
     "start_time": "2025-07-28T11:29:08.517778",
     "status": "completed"
    },
    "tags": []
   },
   "outputs": [],
   "source": [
    "subgroups = ['frau1','nongerman','nongerman_male','nongerman_female']\n",
    "\n",
    "# Conditional coverage for subgroup==1\n",
    "cond_coverage = {\n",
    "    g: cp_groups_df.loc[cp_groups_df[g]==1, 'covered'].mean()\n",
    "    for g in subgroups\n",
    "}"
   ]
  },
  {
   "cell_type": "code",
   "execution_count": 62,
   "id": "1e348fb1-b9c3-45bc-ba23-f016827a7e0d",
   "metadata": {
    "execution": {
     "iopub.execute_input": "2025-07-28T11:29:08.582001Z",
     "iopub.status.busy": "2025-07-28T11:29:08.581663Z",
     "iopub.status.idle": "2025-07-28T11:29:08.586991Z",
     "shell.execute_reply": "2025-07-28T11:29:08.586274Z"
    },
    "papermill": {
     "duration": 0.0202,
     "end_time": "2025-07-28T11:29:08.588403",
     "exception": false,
     "start_time": "2025-07-28T11:29:08.568203",
     "status": "completed"
    },
    "tags": []
   },
   "outputs": [
    {
     "data": {
      "text/plain": [
       "{'frau1': 0.9102304892842701,\n",
       " 'nongerman': 0.9070903272890586,\n",
       " 'nongerman_male': 0.9228136539673962,\n",
       " 'nongerman_female': 0.8810730253353204}"
      ]
     },
     "execution_count": 62,
     "metadata": {},
     "output_type": "execute_result"
    }
   ],
   "source": [
    "cond_coverage"
   ]
  },
  {
   "cell_type": "code",
   "execution_count": 63,
   "id": "f5093324-c3dd-4d63-bc4c-8d945e5c8bbb",
   "metadata": {
    "execution": {
     "iopub.execute_input": "2025-07-28T11:29:08.635331Z",
     "iopub.status.busy": "2025-07-28T11:29:08.635002Z",
     "iopub.status.idle": "2025-07-28T11:29:08.640507Z",
     "shell.execute_reply": "2025-07-28T11:29:08.639682Z"
    },
    "papermill": {
     "duration": 0.030487,
     "end_time": "2025-07-28T11:29:08.641958",
     "exception": false,
     "start_time": "2025-07-28T11:29:08.611471",
     "status": "completed"
    },
    "tags": []
   },
   "outputs": [],
   "source": [
    "for subgroup, cov in cond_coverage.items():\n",
    "    cp_metrics_df[f\"cov_{subgroup}\"] = cov"
   ]
  },
  {
   "cell_type": "code",
   "execution_count": 64,
   "id": "6e872e10-dbe5-49e8-b554-5030c98ff75d",
   "metadata": {
    "execution": {
     "iopub.execute_input": "2025-07-28T11:29:08.689467Z",
     "iopub.status.busy": "2025-07-28T11:29:08.689139Z",
     "iopub.status.idle": "2025-07-28T11:29:08.701983Z",
     "shell.execute_reply": "2025-07-28T11:29:08.701266Z"
    },
    "papermill": {
     "duration": 0.038042,
     "end_time": "2025-07-28T11:29:08.703414",
     "exception": false,
     "start_time": "2025-07-28T11:29:08.665372",
     "status": "completed"
    },
    "tags": []
   },
   "outputs": [
    {
     "data": {
      "text/html": [
       "<div>\n",
       "<style scoped>\n",
       "    .dataframe tbody tr th:only-of-type {\n",
       "        vertical-align: middle;\n",
       "    }\n",
       "\n",
       "    .dataframe tbody tr th {\n",
       "        vertical-align: top;\n",
       "    }\n",
       "\n",
       "    .dataframe thead th {\n",
       "        text-align: right;\n",
       "    }\n",
       "</style>\n",
       "<table border=\"1\" class=\"dataframe\">\n",
       "  <thead>\n",
       "    <tr style=\"text-align: right;\">\n",
       "      <th></th>\n",
       "      <th>universe_id</th>\n",
       "      <th>universe_training_size</th>\n",
       "      <th>universe_scale</th>\n",
       "      <th>universe_model</th>\n",
       "      <th>universe_exclude_features</th>\n",
       "      <th>universe_exclude_subgroups</th>\n",
       "      <th>q_hat</th>\n",
       "      <th>coverage</th>\n",
       "      <th>avg_size</th>\n",
       "      <th>cov_frau1</th>\n",
       "      <th>cov_nongerman</th>\n",
       "      <th>cov_nongerman_male</th>\n",
       "      <th>cov_nongerman_female</th>\n",
       "    </tr>\n",
       "  </thead>\n",
       "  <tbody>\n",
       "    <tr>\n",
       "      <th>0</th>\n",
       "      <td>28126357b0a6aa0ae0000051caa63c20</td>\n",
       "      <td>2014</td>\n",
       "      <td>do-not-scale</td>\n",
       "      <td>elasticnet</td>\n",
       "      <td>sex</td>\n",
       "      <td>keep-all</td>\n",
       "      <td>0.686434</td>\n",
       "      <td>0.911236</td>\n",
       "      <td>1.132115</td>\n",
       "      <td>0.91023</td>\n",
       "      <td>0.90709</td>\n",
       "      <td>0.922814</td>\n",
       "      <td>0.881073</td>\n",
       "    </tr>\n",
       "  </tbody>\n",
       "</table>\n",
       "</div>"
      ],
      "text/plain": [
       "                        universe_id universe_training_size universe_scale  \\\n",
       "0  28126357b0a6aa0ae0000051caa63c20                   2014   do-not-scale   \n",
       "\n",
       "  universe_model universe_exclude_features universe_exclude_subgroups  \\\n",
       "0     elasticnet                       sex                   keep-all   \n",
       "\n",
       "      q_hat  coverage  avg_size  cov_frau1  cov_nongerman  cov_nongerman_male  \\\n",
       "0  0.686434  0.911236  1.132115    0.91023        0.90709            0.922814   \n",
       "\n",
       "   cov_nongerman_female  \n",
       "0              0.881073  "
      ]
     },
     "execution_count": 64,
     "metadata": {},
     "output_type": "execute_result"
    }
   ],
   "source": [
    "cp_metrics_df"
   ]
  },
  {
   "cell_type": "markdown",
   "id": "33774451",
   "metadata": {
    "papermill": {
     "duration": 0.013176,
     "end_time": "2025-07-28T11:29:08.737571",
     "exception": false,
     "start_time": "2025-07-28T11:29:08.724395",
     "status": "completed"
    },
    "tags": []
   },
   "source": [
    "# (Fairness) Metrics"
   ]
  },
  {
   "cell_type": "code",
   "execution_count": 65,
   "id": "debc5d62",
   "metadata": {
    "execution": {
     "iopub.execute_input": "2025-07-28T11:29:08.764940Z",
     "iopub.status.busy": "2025-07-28T11:29:08.764571Z",
     "iopub.status.idle": "2025-07-28T11:29:08.778577Z",
     "shell.execute_reply": "2025-07-28T11:29:08.777850Z"
    },
    "papermill": {
     "duration": 0.029241,
     "end_time": "2025-07-28T11:29:08.779941",
     "exception": false,
     "start_time": "2025-07-28T11:29:08.750700",
     "status": "completed"
    },
    "tags": []
   },
   "outputs": [],
   "source": [
    "# do I need to include maxdeutsch1.missing?\n",
    "\n",
    "import numpy as np\n",
    "\n",
    "colname_to_bin = \"maxdeutsch1\"\n",
    "majority_value = org_train[colname_to_bin].mode()[0]\n",
    "\n",
    "org_test[\"majmin\"] = np.where(org_test[colname_to_bin] == majority_value, \"majority\", \"minority\")"
   ]
  },
  {
   "cell_type": "code",
   "execution_count": 66,
   "id": "06a50de5",
   "metadata": {
    "execution": {
     "iopub.execute_input": "2025-07-28T11:29:08.808015Z",
     "iopub.status.busy": "2025-07-28T11:29:08.807679Z",
     "iopub.status.idle": "2025-07-28T11:29:10.401927Z",
     "shell.execute_reply": "2025-07-28T11:29:10.401131Z"
    },
    "papermill": {
     "duration": 1.609863,
     "end_time": "2025-07-28T11:29:10.403668",
     "exception": false,
     "start_time": "2025-07-28T11:29:08.793805",
     "status": "completed"
    },
    "tags": []
   },
   "outputs": [],
   "source": [
    "example_universe = universe.copy()\n",
    "example_universe[\"cutoff\"] = example_universe[\"cutoff\"][0]\n",
    "example_universe[\"eval_fairness_grouping\"] = example_universe[\"eval_fairness_grouping\"][0]\n",
    "fairness_dict, metric_frame = universe_analysis.compute_metrics(\n",
    "    example_universe,\n",
    "    y_pred_prob=probs_test,\n",
    "    y_test=y_true,\n",
    "    org_test=org_test,\n",
    ")"
   ]
  },
  {
   "cell_type": "markdown",
   "id": "f95d4e02",
   "metadata": {
    "papermill": {
     "duration": 0.023236,
     "end_time": "2025-07-28T11:29:10.451371",
     "exception": false,
     "start_time": "2025-07-28T11:29:10.428135",
     "status": "completed"
    },
    "tags": []
   },
   "source": [
    "# Overall"
   ]
  },
  {
   "cell_type": "markdown",
   "id": "bdee4871",
   "metadata": {
    "papermill": {
     "duration": 0.023119,
     "end_time": "2025-07-28T11:29:10.497640",
     "exception": false,
     "start_time": "2025-07-28T11:29:10.474521",
     "status": "completed"
    },
    "tags": []
   },
   "source": [
    "Fairness\n",
    "Main fairness target: Equalized Odds. Seems to be a better fit than equal opportunity, since we're not only interested in Y = 1. Seems to be a better fit than demographic parity, since we also care about accuracy, not just equal distribution of preds.\n",
    "\n",
    "Pick column for computation of fairness metrics\n",
    "\n",
    "Performance\n",
    "Overall performance measures, most interesting in relation to the measures split by group below"
   ]
  },
  {
   "cell_type": "code",
   "execution_count": 67,
   "id": "c4e067c6",
   "metadata": {
    "execution": {
     "iopub.execute_input": "2025-07-28T11:29:10.537130Z",
     "iopub.status.busy": "2025-07-28T11:29:10.536615Z",
     "iopub.status.idle": "2025-07-28T11:29:10.544707Z",
     "shell.execute_reply": "2025-07-28T11:29:10.543883Z"
    },
    "papermill": {
     "duration": 0.025078,
     "end_time": "2025-07-28T11:29:10.545904",
     "exception": false,
     "start_time": "2025-07-28T11:29:10.520826",
     "status": "completed"
    },
    "tags": []
   },
   "outputs": [
    {
     "data": {
      "text/plain": [
       "accuracy                   0.221480\n",
       "balanced accuracy          0.542156\n",
       "f1                         0.242891\n",
       "precision                  0.138756\n",
       "false positive rate        0.889184\n",
       "false negative rate        0.026503\n",
       "selection rate             0.900000\n",
       "count                  89710.000000\n",
       "dtype: float64"
      ]
     },
     "execution_count": 67,
     "metadata": {},
     "output_type": "execute_result"
    }
   ],
   "source": [
    "metric_frame.overall"
   ]
  },
  {
   "cell_type": "markdown",
   "id": "e968fe9d",
   "metadata": {
    "papermill": {
     "duration": 0.013706,
     "end_time": "2025-07-28T11:29:10.573315",
     "exception": false,
     "start_time": "2025-07-28T11:29:10.559609",
     "status": "completed"
    },
    "tags": []
   },
   "source": [
    "By Group"
   ]
  },
  {
   "cell_type": "code",
   "execution_count": 68,
   "id": "ec325bce",
   "metadata": {
    "execution": {
     "iopub.execute_input": "2025-07-28T11:29:10.601872Z",
     "iopub.status.busy": "2025-07-28T11:29:10.601409Z",
     "iopub.status.idle": "2025-07-28T11:29:10.616559Z",
     "shell.execute_reply": "2025-07-28T11:29:10.615822Z"
    },
    "papermill": {
     "duration": 0.031042,
     "end_time": "2025-07-28T11:29:10.617957",
     "exception": false,
     "start_time": "2025-07-28T11:29:10.586915",
     "status": "completed"
    },
    "tags": []
   },
   "outputs": [
    {
     "data": {
      "text/html": [
       "<div>\n",
       "<style scoped>\n",
       "    .dataframe tbody tr th:only-of-type {\n",
       "        vertical-align: middle;\n",
       "    }\n",
       "\n",
       "    .dataframe tbody tr th {\n",
       "        vertical-align: top;\n",
       "    }\n",
       "\n",
       "    .dataframe thead th {\n",
       "        text-align: right;\n",
       "    }\n",
       "</style>\n",
       "<table border=\"1\" class=\"dataframe\">\n",
       "  <thead>\n",
       "    <tr style=\"text-align: right;\">\n",
       "      <th></th>\n",
       "      <th>accuracy</th>\n",
       "      <th>balanced accuracy</th>\n",
       "      <th>f1</th>\n",
       "      <th>precision</th>\n",
       "      <th>false positive rate</th>\n",
       "      <th>false negative rate</th>\n",
       "      <th>selection rate</th>\n",
       "      <th>count</th>\n",
       "    </tr>\n",
       "    <tr>\n",
       "      <th>majmin</th>\n",
       "      <th></th>\n",
       "      <th></th>\n",
       "      <th></th>\n",
       "      <th></th>\n",
       "      <th></th>\n",
       "      <th></th>\n",
       "      <th></th>\n",
       "      <th></th>\n",
       "    </tr>\n",
       "  </thead>\n",
       "  <tbody>\n",
       "    <tr>\n",
       "      <th>majority</th>\n",
       "      <td>0.243429</td>\n",
       "      <td>0.551782</td>\n",
       "      <td>0.253253</td>\n",
       "      <td>0.145619</td>\n",
       "      <td>0.867333</td>\n",
       "      <td>0.029103</td>\n",
       "      <td>0.881018</td>\n",
       "      <td>69170.0</td>\n",
       "    </tr>\n",
       "    <tr>\n",
       "      <th>minority</th>\n",
       "      <td>0.147566</td>\n",
       "      <td>0.511081</td>\n",
       "      <td>0.210132</td>\n",
       "      <td>0.117632</td>\n",
       "      <td>0.961369</td>\n",
       "      <td>0.016470</td>\n",
       "      <td>0.963924</td>\n",
       "      <td>20540.0</td>\n",
       "    </tr>\n",
       "  </tbody>\n",
       "</table>\n",
       "</div>"
      ],
      "text/plain": [
       "          accuracy  balanced accuracy        f1  precision  \\\n",
       "majmin                                                       \n",
       "majority  0.243429           0.551782  0.253253   0.145619   \n",
       "minority  0.147566           0.511081  0.210132   0.117632   \n",
       "\n",
       "          false positive rate  false negative rate  selection rate    count  \n",
       "majmin                                                                       \n",
       "majority             0.867333             0.029103        0.881018  69170.0  \n",
       "minority             0.961369             0.016470        0.963924  20540.0  "
      ]
     },
     "execution_count": 68,
     "metadata": {},
     "output_type": "execute_result"
    }
   ],
   "source": [
    "metric_frame.by_group"
   ]
  },
  {
   "cell_type": "code",
   "execution_count": 69,
   "id": "a9ddbe63",
   "metadata": {
    "execution": {
     "iopub.execute_input": "2025-07-28T11:29:10.647179Z",
     "iopub.status.busy": "2025-07-28T11:29:10.646537Z",
     "iopub.status.idle": "2025-07-28T11:29:12.426790Z",
     "shell.execute_reply": "2025-07-28T11:29:12.425857Z"
    },
    "papermill": {
     "duration": 1.796478,
     "end_time": "2025-07-28T11:29:12.428642",
     "exception": false,
     "start_time": "2025-07-28T11:29:10.632164",
     "status": "completed"
    },
    "tags": []
   },
   "outputs": [
    {
     "data": {
      "text/plain": [
       "array([[<Axes: title={'center': 'accuracy'}, xlabel='majmin'>,\n",
       "        <Axes: title={'center': 'balanced accuracy'}, xlabel='majmin'>,\n",
       "        <Axes: title={'center': 'f1'}, xlabel='majmin'>],\n",
       "       [<Axes: title={'center': 'precision'}, xlabel='majmin'>,\n",
       "        <Axes: title={'center': 'false positive rate'}, xlabel='majmin'>,\n",
       "        <Axes: title={'center': 'false negative rate'}, xlabel='majmin'>],\n",
       "       [<Axes: title={'center': 'selection rate'}, xlabel='majmin'>,\n",
       "        <Axes: title={'center': 'count'}, xlabel='majmin'>,\n",
       "        <Axes: xlabel='majmin'>]], dtype=object)"
      ]
     },
     "execution_count": 69,
     "metadata": {},
     "output_type": "execute_result"
    },
    {
     "data": {
      "image/png": "[encoded data removed]",
      "text/plain": [
       "<Figure size 1200x800 with 9 Axes>"
      ]
     },
     "metadata": {},
     "output_type": "display_data"
    }
   ],
   "source": [
    "# In a graphic\n",
    "metric_frame.by_group.plot.bar(\n",
    "    subplots=True,\n",
    "    layout=[3, 3],\n",
    "    legend=False,\n",
    "    figsize=[12, 8],\n",
    "    title=\"Show all metrics\",\n",
    ")"
   ]
  },
  {
   "cell_type": "markdown",
   "id": "f57a0bac",
   "metadata": {
    "papermill": {
     "duration": 0.029146,
     "end_time": "2025-07-28T11:29:12.487740",
     "exception": false,
     "start_time": "2025-07-28T11:29:12.458594",
     "status": "completed"
    },
    "tags": []
   },
   "source": [
    "# Final Output"
   ]
  },
  {
   "cell_type": "code",
   "execution_count": 70,
   "id": "96d280a3",
   "metadata": {
    "execution": {
     "iopub.execute_input": "2025-07-28T11:29:12.547427Z",
     "iopub.status.busy": "2025-07-28T11:29:12.546943Z",
     "iopub.status.idle": "2025-07-28T11:29:12.553956Z",
     "shell.execute_reply": "2025-07-28T11:29:12.553064Z"
    },
    "papermill": {
     "duration": 0.038544,
     "end_time": "2025-07-28T11:29:12.555548",
     "exception": false,
     "start_time": "2025-07-28T11:29:12.517004",
     "status": "completed"
    },
    "tags": []
   },
   "outputs": [
    {
     "data": {
      "text/plain": [
       "4"
      ]
     },
     "execution_count": 70,
     "metadata": {},
     "output_type": "execute_result"
    }
   ],
   "source": [
    "sub_universes = universe_analysis.generate_sub_universes()\n",
    "len(sub_universes)"
   ]
  },
  {
   "cell_type": "code",
   "execution_count": 71,
   "id": "92adf7ba",
   "metadata": {
    "execution": {
     "iopub.execute_input": "2025-07-28T11:29:12.588690Z",
     "iopub.status.busy": "2025-07-28T11:29:12.588262Z",
     "iopub.status.idle": "2025-07-28T11:29:12.593811Z",
     "shell.execute_reply": "2025-07-28T11:29:12.593128Z"
    },
    "papermill": {
     "duration": 0.022275,
     "end_time": "2025-07-28T11:29:12.594940",
     "exception": false,
     "start_time": "2025-07-28T11:29:12.572665",
     "status": "completed"
    },
    "tags": []
   },
   "outputs": [],
   "source": [
    "def filter_sub_universe_data(sub_universe, org_test):\n",
    "    # Keep all rows — no filtering\n",
    "    keep_rows_mask = np.ones(org_test.shape[0], dtype=bool)\n",
    "\n",
    "    print(f\"[INFO] Keeping all rows: {keep_rows_mask.sum()} rows retained.\")\n",
    "    return keep_rows_mask"
   ]
  },
  {
   "cell_type": "code",
   "execution_count": 72,
   "id": "4a759155",
   "metadata": {
    "execution": {
     "iopub.execute_input": "2025-07-28T11:29:12.625949Z",
     "iopub.status.busy": "2025-07-28T11:29:12.625578Z",
     "iopub.status.idle": "2025-07-28T11:29:18.778477Z",
     "shell.execute_reply": "2025-07-28T11:29:18.777657Z"
    },
    "papermill": {
     "duration": 6.170346,
     "end_time": "2025-07-28T11:29:18.780188",
     "exception": false,
     "start_time": "2025-07-28T11:29:12.609842",
     "status": "completed"
    },
    "tags": []
   },
   "outputs": [
    {
     "name": "stdout",
     "output_type": "stream",
     "text": [
      "Stopping execution_time clock.\n",
      "[INFO] Keeping all rows: 89710 rows retained.\n"
     ]
    },
    {
     "name": "stdout",
     "output_type": "stream",
     "text": [
      "[INFO] Keeping all rows: 89710 rows retained.\n"
     ]
    },
    {
     "name": "stdout",
     "output_type": "stream",
     "text": [
      "[INFO] Keeping all rows: 89710 rows retained.\n"
     ]
    },
    {
     "name": "stdout",
     "output_type": "stream",
     "text": [
      "[INFO] Keeping all rows: 89710 rows retained.\n"
     ]
    },
    {
     "data": {
      "text/html": [
       "<div>\n",
       "<style scoped>\n",
       "    .dataframe tbody tr th:only-of-type {\n",
       "        vertical-align: middle;\n",
       "    }\n",
       "\n",
       "    .dataframe tbody tr th {\n",
       "        vertical-align: top;\n",
       "    }\n",
       "\n",
       "    .dataframe thead th {\n",
       "        text-align: right;\n",
       "    }\n",
       "</style>\n",
       "<table border=\"1\" class=\"dataframe\">\n",
       "  <thead>\n",
       "    <tr style=\"text-align: right;\">\n",
       "      <th></th>\n",
       "      <th>run_no</th>\n",
       "      <th>universe_id</th>\n",
       "      <th>universe_settings</th>\n",
       "      <th>execution_time</th>\n",
       "      <th>test_size_n</th>\n",
       "      <th>test_size_frac</th>\n",
       "      <th>fair_main_equalized_odds_difference</th>\n",
       "      <th>fair_main_equalized_odds_ratio</th>\n",
       "      <th>fair_main_demographic_parity_difference</th>\n",
       "      <th>fair_main_demographic_parity_ratio</th>\n",
       "      <th>...</th>\n",
       "      <th>perf_grp_precision_0</th>\n",
       "      <th>perf_grp_precision_1</th>\n",
       "      <th>perf_grp_false positive rate_0</th>\n",
       "      <th>perf_grp_false positive rate_1</th>\n",
       "      <th>perf_grp_false negative rate_0</th>\n",
       "      <th>perf_grp_false negative rate_1</th>\n",
       "      <th>perf_grp_selection rate_0</th>\n",
       "      <th>perf_grp_selection rate_1</th>\n",
       "      <th>perf_grp_count_0</th>\n",
       "      <th>perf_grp_count_1</th>\n",
       "    </tr>\n",
       "  </thead>\n",
       "  <tbody>\n",
       "    <tr>\n",
       "      <th>0</th>\n",
       "      <td>11</td>\n",
       "      <td>28126357b0a6aa0ae0000051caa63c20</td>\n",
       "      <td>{\"cutoff\": \"quantile_0.1\", \"eval_fairness_grou...</td>\n",
       "      <td>1018.807895</td>\n",
       "      <td>89710</td>\n",
       "      <td>1.0</td>\n",
       "      <td>0.094036</td>\n",
       "      <td>0.902185</td>\n",
       "      <td>0.082906</td>\n",
       "      <td>0.913991</td>\n",
       "      <td>...</td>\n",
       "      <td>NaN</td>\n",
       "      <td>NaN</td>\n",
       "      <td>NaN</td>\n",
       "      <td>NaN</td>\n",
       "      <td>NaN</td>\n",
       "      <td>NaN</td>\n",
       "      <td>NaN</td>\n",
       "      <td>NaN</td>\n",
       "      <td>NaN</td>\n",
       "      <td>NaN</td>\n",
       "    </tr>\n",
       "    <tr>\n",
       "      <th>0</th>\n",
       "      <td>11</td>\n",
       "      <td>28126357b0a6aa0ae0000051caa63c20</td>\n",
       "      <td>{\"cutoff\": \"quantile_0.1\", \"eval_fairness_grou...</td>\n",
       "      <td>1018.807895</td>\n",
       "      <td>89710</td>\n",
       "      <td>1.0</td>\n",
       "      <td>0.094036</td>\n",
       "      <td>0.902185</td>\n",
       "      <td>0.082906</td>\n",
       "      <td>0.913991</td>\n",
       "      <td>...</td>\n",
       "      <td>0.117632</td>\n",
       "      <td>0.145619</td>\n",
       "      <td>0.961369</td>\n",
       "      <td>0.867333</td>\n",
       "      <td>0.01647</td>\n",
       "      <td>0.029103</td>\n",
       "      <td>0.963924</td>\n",
       "      <td>0.881018</td>\n",
       "      <td>20540.0</td>\n",
       "      <td>69170.0</td>\n",
       "    </tr>\n",
       "    <tr>\n",
       "      <th>0</th>\n",
       "      <td>11</td>\n",
       "      <td>28126357b0a6aa0ae0000051caa63c20</td>\n",
       "      <td>{\"cutoff\": \"quantile_0.25\", \"eval_fairness_gro...</td>\n",
       "      <td>1018.807895</td>\n",
       "      <td>89710</td>\n",
       "      <td>1.0</td>\n",
       "      <td>0.175450</td>\n",
       "      <td>0.796341</td>\n",
       "      <td>0.152118</td>\n",
       "      <td>0.824604</td>\n",
       "      <td>...</td>\n",
       "      <td>NaN</td>\n",
       "      <td>NaN</td>\n",
       "      <td>NaN</td>\n",
       "      <td>NaN</td>\n",
       "      <td>NaN</td>\n",
       "      <td>NaN</td>\n",
       "      <td>NaN</td>\n",
       "      <td>NaN</td>\n",
       "      <td>NaN</td>\n",
       "      <td>NaN</td>\n",
       "    </tr>\n",
       "    <tr>\n",
       "      <th>0</th>\n",
       "      <td>11</td>\n",
       "      <td>28126357b0a6aa0ae0000051caa63c20</td>\n",
       "      <td>{\"cutoff\": \"quantile_0.25\", \"eval_fairness_gro...</td>\n",
       "      <td>1018.807895</td>\n",
       "      <td>89710</td>\n",
       "      <td>1.0</td>\n",
       "      <td>0.175450</td>\n",
       "      <td>0.796341</td>\n",
       "      <td>0.152118</td>\n",
       "      <td>0.824604</td>\n",
       "      <td>...</td>\n",
       "      <td>0.121197</td>\n",
       "      <td>0.167482</td>\n",
       "      <td>0.861490</td>\n",
       "      <td>0.686040</td>\n",
       "      <td>0.08826</td>\n",
       "      <td>0.093545</td>\n",
       "      <td>0.867283</td>\n",
       "      <td>0.715166</td>\n",
       "      <td>20540.0</td>\n",
       "      <td>69170.0</td>\n",
       "    </tr>\n",
       "  </tbody>\n",
       "</table>\n",
       "<p>4 rows × 50 columns</p>\n",
       "</div>"
      ],
      "text/plain": [
       "  run_no                       universe_id  \\\n",
       "0     11  28126357b0a6aa0ae0000051caa63c20   \n",
       "0     11  28126357b0a6aa0ae0000051caa63c20   \n",
       "0     11  28126357b0a6aa0ae0000051caa63c20   \n",
       "0     11  28126357b0a6aa0ae0000051caa63c20   \n",
       "\n",
       "                                   universe_settings  execution_time  \\\n",
       "0  {\"cutoff\": \"quantile_0.1\", \"eval_fairness_grou...     1018.807895   \n",
       "0  {\"cutoff\": \"quantile_0.1\", \"eval_fairness_grou...     1018.807895   \n",
       "0  {\"cutoff\": \"quantile_0.25\", \"eval_fairness_gro...     1018.807895   \n",
       "0  {\"cutoff\": \"quantile_0.25\", \"eval_fairness_gro...     1018.807895   \n",
       "\n",
       "   test_size_n  test_size_frac  fair_main_equalized_odds_difference  \\\n",
       "0        89710             1.0                             0.094036   \n",
       "0        89710             1.0                             0.094036   \n",
       "0        89710             1.0                             0.175450   \n",
       "0        89710             1.0                             0.175450   \n",
       "\n",
       "   fair_main_equalized_odds_ratio  fair_main_demographic_parity_difference  \\\n",
       "0                        0.902185                                 0.082906   \n",
       "0                        0.902185                                 0.082906   \n",
       "0                        0.796341                                 0.152118   \n",
       "0                        0.796341                                 0.152118   \n",
       "\n",
       "   fair_main_demographic_parity_ratio  ...  perf_grp_precision_0  \\\n",
       "0                            0.913991  ...                   NaN   \n",
       "0                            0.913991  ...              0.117632   \n",
       "0                            0.824604  ...                   NaN   \n",
       "0                            0.824604  ...              0.121197   \n",
       "\n",
       "   perf_grp_precision_1  perf_grp_false positive rate_0  \\\n",
       "0                   NaN                             NaN   \n",
       "0              0.145619                        0.961369   \n",
       "0                   NaN                             NaN   \n",
       "0              0.167482                        0.861490   \n",
       "\n",
       "   perf_grp_false positive rate_1  perf_grp_false negative rate_0  \\\n",
       "0                             NaN                             NaN   \n",
       "0                        0.867333                         0.01647   \n",
       "0                             NaN                             NaN   \n",
       "0                        0.686040                         0.08826   \n",
       "\n",
       "   perf_grp_false negative rate_1  perf_grp_selection rate_0  \\\n",
       "0                             NaN                        NaN   \n",
       "0                        0.029103                   0.963924   \n",
       "0                             NaN                        NaN   \n",
       "0                        0.093545                   0.867283   \n",
       "\n",
       "   perf_grp_selection rate_1  perf_grp_count_0  perf_grp_count_1  \n",
       "0                        NaN               NaN               NaN  \n",
       "0                   0.881018           20540.0           69170.0  \n",
       "0                        NaN               NaN               NaN  \n",
       "0                   0.715166           20540.0           69170.0  \n",
       "\n",
       "[4 rows x 50 columns]"
      ]
     },
     "execution_count": 72,
     "metadata": {},
     "output_type": "execute_result"
    }
   ],
   "source": [
    "final_output = universe_analysis.generate_final_output(\n",
    "    y_pred_prob=probs_test,\n",
    "    y_test=y_true,\n",
    "    org_test=org_test,\n",
    "    filter_data=filter_sub_universe_data,\n",
    "    cp_metrics_df=cp_metrics_df,\n",
    "    save=True,\n",
    ")\n",
    "final_output"
   ]
  },
  {
   "cell_type": "code",
   "execution_count": null,
   "id": "721ff514-cb11-46f8-b6fc-50392f74b5cb",
   "metadata": {
    "papermill": {
     "duration": 0.033295,
     "end_time": "2025-07-28T11:29:18.851341",
     "exception": false,
     "start_time": "2025-07-28T11:29:18.818046",
     "status": "completed"
    },
    "tags": []
   },
   "outputs": [],
   "source": []
  }
 ],
 "metadata": {
  "celltoolbar": "Tags",
  "kernelspec": {
   "display_name": "Python (CMA Fairness)",
   "language": "python",
   "name": "cma_fair_env"
  },
  "language_info": {
   "codemirror_mode": {
    "name": "ipython",
    "version": 3
   },
   "file_extension": ".py",
   "mimetype": "text/x-python",
   "name": "python",
   "nbconvert_exporter": "python",
   "pygments_lexer": "ipython3",
   "version": "3.10.12"
  },
  "papermill": {
   "default_parameters": {},
   "duration": 1029.372778,
   "end_time": "2025-07-28T11:29:19.501898",
   "environment_variables": {},
   "exception": null,
   "input_path": "universe_analysis.ipynb",
   "output_path": "output/runs/11/notebooks/m_11-28126357b0a6aa0ae0000051caa63c20.ipynb",
   "parameters": {
    "output_dir": "output",
    "run_no": "11",
    "seed": "2023",
    "universe": "{\"cutoff\": [\"quantile_0.1\", \"quantile_0.25\"], \"eval_fairness_grouping\": [\"majority-minority\", \"nationality-all\"], \"exclude_features\": \"sex\", \"exclude_subgroups\": \"keep-all\", \"model\": \"elasticnet\", \"scale\": \"do-not-scale\", \"training_size\": \"2014\"}",
    "universe_id": "28126357b0a6aa0ae0000051caa63c20"
   },
   "start_time": "2025-07-28T11:12:10.129120",
   "version": "2.6.0"
  }
 },
 "nbformat": 4,
 "nbformat_minor": 5
}