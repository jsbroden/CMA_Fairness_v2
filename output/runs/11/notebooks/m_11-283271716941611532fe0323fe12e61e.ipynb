{
 "cells": [
  {
   "cell_type": "code",
   "execution_count": 1,
   "id": "f159f837-637b-42ba-96b5-ec9a68c44524",
   "metadata": {
    "execution": {
     "iopub.execute_input": "2025-07-28T10:30:10.458687Z",
     "iopub.status.busy": "2025-07-28T10:30:10.457739Z",
     "iopub.status.idle": "2025-07-28T10:30:10.477565Z",
     "shell.execute_reply": "2025-07-28T10:30:10.476553Z"
    },
    "papermill": {
     "duration": 0.06394,
     "end_time": "2025-07-28T10:30:10.479084",
     "exception": false,
     "start_time": "2025-07-28T10:30:10.415144",
     "status": "completed"
    },
    "tags": []
   },
   "outputs": [
    {
     "name": "stdout",
     "output_type": "stream",
     "text": [
      "/dss/dsshome1/0C/ra93lal2/cma/CMA_Fairness_v2\n"
     ]
    },
    {
     "name": "stderr",
     "output_type": "stream",
     "text": [
      "/dss/dsshome1/0C/ra93lal2/.local/share/virtualenvs/CMA_Fairness_v2-3j10GkSs/lib/python3.10/site-packages/IPython/core/magics/osm.py:393: UserWarning: This is now an optional IPython functionality, using bookmarks requires you to install the `pickleshare` library.\n",
      "  bkms = self.shell.db.get('bookmarks', {})\n",
      "/dss/dsshome1/0C/ra93lal2/.local/share/virtualenvs/CMA_Fairness_v2-3j10GkSs/lib/python3.10/site-packages/IPython/core/magics/osm.py:417: UserWarning: This is now an optional IPython functionality, setting dhist requires you to install the `pickleshare` library.\n",
      "  self.shell.db['dhist'] = compress_dhist(dhist)[-100:]\n"
     ]
    }
   ],
   "source": [
    "%cd ~/cma/CMA_Fairness_v2"
   ]
  },
  {
   "cell_type": "markdown",
   "id": "de2603b9",
   "metadata": {
    "papermill": {
     "duration": 0.040512,
     "end_time": "2025-07-28T10:30:10.560946",
     "exception": false,
     "start_time": "2025-07-28T10:30:10.520434",
     "status": "completed"
    },
    "tags": []
   },
   "source": [
    "The following cell holds the definition of our parameters, these values can be overriden by rendering the with e.g. the following command:\n",
    "\n",
    "papermill -p alpha 0.2 -p ratio 0.3 universe_analysis.ipynb output/test_run.ipynb"
   ]
  },
  {
   "cell_type": "code",
   "execution_count": 2,
   "id": "a80968a0-40bb-4fa9-85ef-2d5eefb01975",
   "metadata": {
    "execution": {
     "iopub.execute_input": "2025-07-28T10:30:10.642797Z",
     "iopub.status.busy": "2025-07-28T10:30:10.642398Z",
     "iopub.status.idle": "2025-07-28T10:30:10.651803Z",
     "shell.execute_reply": "2025-07-28T10:30:10.650715Z"
    },
    "papermill": {
     "duration": 0.061049,
     "end_time": "2025-07-28T10:30:10.654345",
     "exception": false,
     "start_time": "2025-07-28T10:30:10.593296",
     "status": "completed"
    },
    "tags": []
   },
   "outputs": [
    {
     "name": "stdout",
     "output_type": "stream",
     "text": [
      "Current working directory: /dss/dsshome1/0C/ra93lal2/cma/CMA_Fairness_v2\n"
     ]
    }
   ],
   "source": [
    "import os\n",
    "print(\"Current working directory:\", os.getcwd())"
   ]
  },
  {
   "cell_type": "code",
   "execution_count": 3,
   "id": "2dce4c03",
   "metadata": {
    "execution": {
     "iopub.execute_input": "2025-07-28T10:30:10.697549Z",
     "iopub.status.busy": "2025-07-28T10:30:10.697080Z",
     "iopub.status.idle": "2025-07-28T10:30:10.703266Z",
     "shell.execute_reply": "2025-07-28T10:30:10.702340Z"
    },
    "papermill": {
     "duration": 0.029739,
     "end_time": "2025-07-28T10:30:10.704972",
     "exception": false,
     "start_time": "2025-07-28T10:30:10.675233",
     "status": "completed"
    },
    "tags": [
     "parameters"
    ]
   },
   "outputs": [],
   "source": [
    "run_no = 0\n",
    "universe_id = \"test\"\n",
    "universe = {\n",
    "    \"training_size\": \"2014\", # \"25k\", \"5k\", \"1k\", \"2014\"\n",
    "    \"scale\": \"scale\", # \"scale\", \"do-not-scale\",\n",
    "    #\"stratify_split\": \"target\", # \"none\", \"target\", \"protected-attribute\", \"both\",\n",
    "    \"model\": \"elasticnet\", # \"logreg\", \"penalized_logreg\", \"rf\", \"gbm\", \"elasticnet\"\n",
    "    \"cutoff\": [\"quantile_0.15\", \"quantile_0.30\"],\n",
    "    \"exclude_features\": \"age\", # \"none\", \"nationality\", \"sex\", \"nationality-sex\", \"age\"\n",
    "    \"exclude_subgroups\": \"keep-all\", # \"keep-all\", \"drop-non-german\"\n",
    "    #\"training_sample\": \"restricted\", # \"restricted\", \"full\"\n",
    "    \"eval_fairness_grouping\": [\"majority-minority\", \"nationality-all\"]\n",
    "}\n",
    "\n",
    "output_dir=\"./output\"\n",
    "seed=0"
   ]
  },
  {
   "cell_type": "code",
   "execution_count": 4,
   "id": "1f79a87e",
   "metadata": {
    "execution": {
     "iopub.execute_input": "2025-07-28T10:30:10.744588Z",
     "iopub.status.busy": "2025-07-28T10:30:10.743981Z",
     "iopub.status.idle": "2025-07-28T10:30:10.749958Z",
     "shell.execute_reply": "2025-07-28T10:30:10.749028Z"
    },
    "papermill": {
     "duration": 0.027045,
     "end_time": "2025-07-28T10:30:10.751447",
     "exception": false,
     "start_time": "2025-07-28T10:30:10.724402",
     "status": "completed"
    },
    "tags": [
     "injected-parameters"
    ]
   },
   "outputs": [],
   "source": [
    "# Parameters\n",
    "universe_id = \"283271716941611532fe0323fe12e61e\"\n",
    "run_no = \"11\"\n",
    "universe = \"{\\\"cutoff\\\": [\\\"quantile_0.1\\\", \\\"quantile_0.25\\\"], \\\"eval_fairness_grouping\\\": [\\\"majority-minority\\\", \\\"nationality-all\\\"], \\\"exclude_features\\\": \\\"sex\\\", \\\"exclude_subgroups\\\": \\\"keep-all\\\", \\\"model\\\": \\\"rf\\\", \\\"scale\\\": \\\"scale\\\", \\\"training_size\\\": \\\"5k\\\"}\"\n",
    "output_dir = \"output\"\n",
    "seed = \"2023\"\n"
   ]
  },
  {
   "cell_type": "code",
   "execution_count": 5,
   "id": "1650acaf",
   "metadata": {
    "execution": {
     "iopub.execute_input": "2025-07-28T10:30:10.791351Z",
     "iopub.status.busy": "2025-07-28T10:30:10.790423Z",
     "iopub.status.idle": "2025-07-28T10:30:10.796456Z",
     "shell.execute_reply": "2025-07-28T10:30:10.795390Z"
    },
    "papermill": {
     "duration": 0.0274,
     "end_time": "2025-07-28T10:30:10.798146",
     "exception": false,
     "start_time": "2025-07-28T10:30:10.770746",
     "status": "completed"
    },
    "tags": []
   },
   "outputs": [],
   "source": [
    "import json\n",
    "# Parse universe into dict if it is passed as a string\n",
    "if isinstance(universe, str):\n",
    "    universe = json.loads(universe)"
   ]
  },
  {
   "cell_type": "code",
   "execution_count": 6,
   "id": "16620c48",
   "metadata": {
    "execution": {
     "iopub.execute_input": "2025-07-28T10:30:10.849575Z",
     "iopub.status.busy": "2025-07-28T10:30:10.849024Z",
     "iopub.status.idle": "2025-07-28T10:30:10.896104Z",
     "shell.execute_reply": "2025-07-28T10:30:10.895046Z"
    },
    "papermill": {
     "duration": 0.081253,
     "end_time": "2025-07-28T10:30:10.898144",
     "exception": false,
     "start_time": "2025-07-28T10:30:10.816891",
     "status": "completed"
    },
    "tags": []
   },
   "outputs": [],
   "source": [
    "# Auto-reload the custom package\n",
    "%load_ext autoreload\n",
    "%autoreload 1\n",
    "%aimport fairness_multiverse"
   ]
  },
  {
   "cell_type": "code",
   "execution_count": 7,
   "id": "01c5c9f3",
   "metadata": {
    "execution": {
     "iopub.execute_input": "2025-07-28T10:30:10.941724Z",
     "iopub.status.busy": "2025-07-28T10:30:10.941200Z",
     "iopub.status.idle": "2025-07-28T10:30:12.951780Z",
     "shell.execute_reply": "2025-07-28T10:30:12.950604Z"
    },
    "papermill": {
     "duration": 2.037011,
     "end_time": "2025-07-28T10:30:12.953781",
     "exception": false,
     "start_time": "2025-07-28T10:30:10.916770",
     "status": "completed"
    },
    "tags": []
   },
   "outputs": [],
   "source": [
    "from fairness_multiverse.universe import UniverseAnalysis\n",
    "\n",
    "universe_analysis = UniverseAnalysis(\n",
    "    run_no = run_no,\n",
    "    universe_id = universe_id,\n",
    "    universe = universe,\n",
    "    output_dir=output_dir,\n",
    ")"
   ]
  },
  {
   "cell_type": "code",
   "execution_count": 8,
   "id": "106241f5",
   "metadata": {
    "execution": {
     "iopub.execute_input": "2025-07-28T10:30:12.993377Z",
     "iopub.status.busy": "2025-07-28T10:30:12.992789Z",
     "iopub.status.idle": "2025-07-28T10:30:13.000305Z",
     "shell.execute_reply": "2025-07-28T10:30:12.998808Z"
    },
    "papermill": {
     "duration": 0.029854,
     "end_time": "2025-07-28T10:30:13.002453",
     "exception": false,
     "start_time": "2025-07-28T10:30:12.972599",
     "status": "completed"
    },
    "tags": []
   },
   "outputs": [
    {
     "name": "stdout",
     "output_type": "stream",
     "text": [
      "Using Seed: 2023\n"
     ]
    }
   ],
   "source": [
    "import numpy as np\n",
    "parsed_seed = int(seed)\n",
    "np.random.seed(parsed_seed)\n",
    "print(f\"Using Seed: {parsed_seed}\")"
   ]
  },
  {
   "cell_type": "markdown",
   "id": "e0ebdc57",
   "metadata": {
    "papermill": {
     "duration": 0.018632,
     "end_time": "2025-07-28T10:30:13.040082",
     "exception": false,
     "start_time": "2025-07-28T10:30:13.021450",
     "status": "completed"
    },
    "tags": []
   },
   "source": [
    "# Loading Data"
   ]
  },
  {
   "cell_type": "markdown",
   "id": "681925a3",
   "metadata": {
    "papermill": {
     "duration": 0.018482,
     "end_time": "2025-07-28T10:30:13.077057",
     "exception": false,
     "start_time": "2025-07-28T10:30:13.058575",
     "status": "completed"
    },
    "tags": []
   },
   "source": [
    "Load siab_train, siab_test, siab_calib and/or \n",
    "load siab_train_features, siab_train_labels"
   ]
  },
  {
   "cell_type": "code",
   "execution_count": 9,
   "id": "f0496b8a",
   "metadata": {
    "execution": {
     "iopub.execute_input": "2025-07-28T10:30:13.116337Z",
     "iopub.status.busy": "2025-07-28T10:30:13.115334Z",
     "iopub.status.idle": "2025-07-28T10:30:25.617382Z",
     "shell.execute_reply": "2025-07-28T10:30:25.615901Z"
    },
    "papermill": {
     "duration": 12.523386,
     "end_time": "2025-07-28T10:30:25.619060",
     "exception": false,
     "start_time": "2025-07-28T10:30:13.095674",
     "status": "completed"
    },
    "tags": []
   },
   "outputs": [
    {
     "name": "stdout",
     "output_type": "stream",
     "text": [
      "Loading SIAB data from cache: data/siab_cached.csv.gz\n"
     ]
    },
    {
     "name": "stdout",
     "output_type": "stream",
     "text": [
      "(643690, 164)\n"
     ]
    }
   ],
   "source": [
    "from pathlib import Path\n",
    "import pandas as pd\n",
    "\n",
    "# File paths\n",
    "raw_file = Path(\"data/raw/siab.csv\")\n",
    "cache_file = Path(\"data/siab_cached.csv.gz\")\n",
    "\n",
    "# Ensure cache directory exists\n",
    "cache_file.parent.mkdir(parents=True, exist_ok=True)\n",
    "\n",
    "# Load with simple caching\n",
    "if cache_file.exists():\n",
    "    print(f\"Loading SIAB data from cache: {cache_file}\")\n",
    "    siab = pd.read_csv(cache_file, compression='gzip')\n",
    "else:\n",
    "    print(f\"Cache not found. Reading raw SIAB data: {raw_file}\")\n",
    "    siab = pd.read_csv(raw_file)\n",
    "    siab.to_csv(cache_file, index=False, compression='gzip')\n",
    "    print(f\"Cached SIAB data to: {cache_file}\")\n",
    "\n",
    "# Now use `siab` DataFrame as needed\n",
    "print(siab.shape)"
   ]
  },
  {
   "cell_type": "code",
   "execution_count": 10,
   "id": "db0ca512-5f53-4dba-abdb-a2888bca41ba",
   "metadata": {
    "execution": {
     "iopub.execute_input": "2025-07-28T10:30:25.646087Z",
     "iopub.status.busy": "2025-07-28T10:30:25.645709Z",
     "iopub.status.idle": "2025-07-28T10:30:25.650405Z",
     "shell.execute_reply": "2025-07-28T10:30:25.649564Z"
    },
    "papermill": {
     "duration": 0.017199,
     "end_time": "2025-07-28T10:30:25.651667",
     "exception": false,
     "start_time": "2025-07-28T10:30:25.634468",
     "status": "completed"
    },
    "tags": []
   },
   "outputs": [],
   "source": [
    "#siab"
   ]
  },
  {
   "cell_type": "code",
   "execution_count": 11,
   "id": "a0edb063",
   "metadata": {
    "execution": {
     "iopub.execute_input": "2025-07-28T10:30:25.673766Z",
     "iopub.status.busy": "2025-07-28T10:30:25.673267Z",
     "iopub.status.idle": "2025-07-28T10:30:25.678704Z",
     "shell.execute_reply": "2025-07-28T10:30:25.677627Z"
    },
    "papermill": {
     "duration": 0.018429,
     "end_time": "2025-07-28T10:30:25.680854",
     "exception": false,
     "start_time": "2025-07-28T10:30:25.662425",
     "status": "completed"
    },
    "tags": []
   },
   "outputs": [],
   "source": [
    "#import pandas as pd\n",
    "#\n",
    "#X_train = pd.read_csv(\"./data/X_train.csv\")\n",
    "#y_train = pd.read_csv(\"./data/y_train.csv\")"
   ]
  },
  {
   "cell_type": "code",
   "execution_count": 12,
   "id": "63d08085",
   "metadata": {
    "execution": {
     "iopub.execute_input": "2025-07-28T10:30:25.711172Z",
     "iopub.status.busy": "2025-07-28T10:30:25.710853Z",
     "iopub.status.idle": "2025-07-28T10:30:25.715087Z",
     "shell.execute_reply": "2025-07-28T10:30:25.714091Z"
    },
    "papermill": {
     "duration": 0.017468,
     "end_time": "2025-07-28T10:30:25.717081",
     "exception": false,
     "start_time": "2025-07-28T10:30:25.699613",
     "status": "completed"
    },
    "tags": []
   },
   "outputs": [],
   "source": [
    "#X_test = pd.read_csv(\"./data/X_test.csv\")\n",
    "#y_true = pd.read_csv(\"./data/y_test.csv\")"
   ]
  },
  {
   "cell_type": "code",
   "execution_count": 13,
   "id": "98a8d0fa-1d3d-4ed8-bb2c-281470e24add",
   "metadata": {
    "execution": {
     "iopub.execute_input": "2025-07-28T10:30:25.757974Z",
     "iopub.status.busy": "2025-07-28T10:30:25.757205Z",
     "iopub.status.idle": "2025-07-28T10:30:25.763177Z",
     "shell.execute_reply": "2025-07-28T10:30:25.762072Z"
    },
    "papermill": {
     "duration": 0.027917,
     "end_time": "2025-07-28T10:30:25.764973",
     "exception": false,
     "start_time": "2025-07-28T10:30:25.737056",
     "status": "completed"
    },
    "tags": []
   },
   "outputs": [],
   "source": [
    "# Calibration data for conformal\n",
    "#X_calib = pd.read_csv(\"./data/X_calib.csv\")\n",
    "#y_calib = pd.read_csv(\"./data/y_calib.csv\")"
   ]
  },
  {
   "cell_type": "markdown",
   "id": "9901737e-04df-44f0-9100-f5ad144ed040",
   "metadata": {
    "papermill": {
     "duration": 0.019744,
     "end_time": "2025-07-28T10:30:25.804528",
     "exception": false,
     "start_time": "2025-07-28T10:30:25.784784",
     "status": "completed"
    },
    "tags": []
   },
   "source": [
    "# Splitting Data and Setting Training Data Size"
   ]
  },
  {
   "cell_type": "code",
   "execution_count": 14,
   "id": "acbc8f7d-8fc8-4e86-8c59-5dcb0f58384b",
   "metadata": {
    "execution": {
     "iopub.execute_input": "2025-07-28T10:30:25.843821Z",
     "iopub.status.busy": "2025-07-28T10:30:25.843332Z",
     "iopub.status.idle": "2025-07-28T10:30:25.851717Z",
     "shell.execute_reply": "2025-07-28T10:30:25.850737Z"
    },
    "papermill": {
     "duration": 0.030255,
     "end_time": "2025-07-28T10:30:25.853553",
     "exception": false,
     "start_time": "2025-07-28T10:30:25.823298",
     "status": "completed"
    },
    "tags": []
   },
   "outputs": [],
   "source": [
    "def sample_by_year(df, training_size, random_state=42):\n",
    "    if training_size == \"2014\":\n",
    "        return df[df[\"year\"] == 2014].reset_index(drop=True)\n",
    "    \n",
    "    size_map = {\n",
    "        \"25k\": 5000,\n",
    "        \"5k\": 1000,\n",
    "        \"1k\": 200\n",
    "    }\n",
    "\n",
    "    if training_size not in size_map:\n",
    "        return df.reset_index(drop=True)  # use all data\n",
    "\n",
    "    n_per_year = size_map[training_size]\n",
    "    grouped = df.groupby(\"year\")\n",
    "    sampled = grouped.apply(lambda x: x.sample(n=min(n_per_year, len(x)), random_state=random_state))\n",
    "    return sampled.reset_index(drop=True)"
   ]
  },
  {
   "cell_type": "code",
   "execution_count": 15,
   "id": "6d931f52-beaf-43ff-9e78-9d44a448d54e",
   "metadata": {
    "execution": {
     "iopub.execute_input": "2025-07-28T10:30:25.895865Z",
     "iopub.status.busy": "2025-07-28T10:30:25.895215Z",
     "iopub.status.idle": "2025-07-28T10:30:26.549174Z",
     "shell.execute_reply": "2025-07-28T10:30:26.548178Z"
    },
    "papermill": {
     "duration": 0.676515,
     "end_time": "2025-07-28T10:30:26.551258",
     "exception": false,
     "start_time": "2025-07-28T10:30:25.874743",
     "status": "completed"
    },
    "tags": []
   },
   "outputs": [],
   "source": [
    "siab_s = sample_by_year(siab, universe[\"training_size\"])"
   ]
  },
  {
   "cell_type": "code",
   "execution_count": 16,
   "id": "5db0a40e-a4e2-4920-be85-b12ae061d70d",
   "metadata": {
    "execution": {
     "iopub.execute_input": "2025-07-28T10:30:26.599095Z",
     "iopub.status.busy": "2025-07-28T10:30:26.598403Z",
     "iopub.status.idle": "2025-07-28T10:30:26.612505Z",
     "shell.execute_reply": "2025-07-28T10:30:26.611417Z"
    },
    "papermill": {
     "duration": 0.039491,
     "end_time": "2025-07-28T10:30:26.614096",
     "exception": false,
     "start_time": "2025-07-28T10:30:26.574605",
     "status": "completed"
    },
    "tags": []
   },
   "outputs": [
    {
     "data": {
      "text/plain": [
       "year\n",
       "2010    1000\n",
       "2011    1000\n",
       "2012    1000\n",
       "2013    1000\n",
       "2014    1000\n",
       "2015    1000\n",
       "2016    1000\n",
       "dtype: int64"
      ]
     },
     "metadata": {},
     "output_type": "display_data"
    }
   ],
   "source": [
    "display(siab_s.groupby(\"year\").size())"
   ]
  },
  {
   "cell_type": "code",
   "execution_count": 17,
   "id": "a561edb4-d032-42cb-8256-22eac1111c64",
   "metadata": {
    "execution": {
     "iopub.execute_input": "2025-07-28T10:30:26.654800Z",
     "iopub.status.busy": "2025-07-28T10:30:26.654149Z",
     "iopub.status.idle": "2025-07-28T10:30:26.893954Z",
     "shell.execute_reply": "2025-07-28T10:30:26.892821Z"
    },
    "papermill": {
     "duration": 0.262333,
     "end_time": "2025-07-28T10:30:26.896221",
     "exception": false,
     "start_time": "2025-07-28T10:30:26.633888",
     "status": "completed"
    },
    "tags": []
   },
   "outputs": [],
   "source": [
    "siab_train = siab_s[siab_s.year < 2015]\n",
    "siab_calib = siab[siab.year == 2015]\n",
    "siab_test = siab[siab.year == 2016]"
   ]
  },
  {
   "cell_type": "code",
   "execution_count": 18,
   "id": "472de16f-c3db-4916-846b-1f0de9cf1746",
   "metadata": {
    "execution": {
     "iopub.execute_input": "2025-07-28T10:30:26.937710Z",
     "iopub.status.busy": "2025-07-28T10:30:26.937064Z",
     "iopub.status.idle": "2025-07-28T10:30:26.945110Z",
     "shell.execute_reply": "2025-07-28T10:30:26.944199Z"
    },
    "papermill": {
     "duration": 0.030481,
     "end_time": "2025-07-28T10:30:26.946785",
     "exception": false,
     "start_time": "2025-07-28T10:30:26.916304",
     "status": "completed"
    },
    "tags": []
   },
   "outputs": [],
   "source": [
    "X_train = siab_train.iloc[:,4:164]\n",
    "y_train = siab_train.iloc[:, [3]]"
   ]
  },
  {
   "cell_type": "code",
   "execution_count": 19,
   "id": "828c96af-f43a-4ed6-ba47-8ac73a47d56c",
   "metadata": {
    "execution": {
     "iopub.execute_input": "2025-07-28T10:30:26.990260Z",
     "iopub.status.busy": "2025-07-28T10:30:26.989547Z",
     "iopub.status.idle": "2025-07-28T10:30:27.043533Z",
     "shell.execute_reply": "2025-07-28T10:30:27.042405Z"
    },
    "papermill": {
     "duration": 0.077658,
     "end_time": "2025-07-28T10:30:27.045318",
     "exception": false,
     "start_time": "2025-07-28T10:30:26.967660",
     "status": "completed"
    },
    "tags": []
   },
   "outputs": [],
   "source": [
    "X_calib = siab_calib.iloc[:,4:164]\n",
    "y_calib = siab_calib.iloc[:, [3]]"
   ]
  },
  {
   "cell_type": "code",
   "execution_count": 20,
   "id": "c34be9c3-6bd6-476e-acd3-845840e303be",
   "metadata": {
    "execution": {
     "iopub.execute_input": "2025-07-28T10:30:27.086592Z",
     "iopub.status.busy": "2025-07-28T10:30:27.085894Z",
     "iopub.status.idle": "2025-07-28T10:30:27.139449Z",
     "shell.execute_reply": "2025-07-28T10:30:27.138346Z"
    },
    "papermill": {
     "duration": 0.075828,
     "end_time": "2025-07-28T10:30:27.141357",
     "exception": false,
     "start_time": "2025-07-28T10:30:27.065529",
     "status": "completed"
    },
    "tags": []
   },
   "outputs": [],
   "source": [
    "X_test = siab_test.iloc[:,4:164]\n",
    "y_true = siab_test.iloc[:, [3]]"
   ]
  },
  {
   "cell_type": "code",
   "execution_count": 21,
   "id": "e6c733c5",
   "metadata": {
    "execution": {
     "iopub.execute_input": "2025-07-28T10:30:27.182826Z",
     "iopub.status.busy": "2025-07-28T10:30:27.182094Z",
     "iopub.status.idle": "2025-07-28T10:30:27.283684Z",
     "shell.execute_reply": "2025-07-28T10:30:27.282624Z"
    },
    "papermill": {
     "duration": 0.124012,
     "end_time": "2025-07-28T10:30:27.285603",
     "exception": false,
     "start_time": "2025-07-28T10:30:27.161591",
     "status": "completed"
    },
    "tags": []
   },
   "outputs": [],
   "source": [
    "# Auxiliary data needed downstream in the pipeline\n",
    "\n",
    "org_train = X_train.copy()\n",
    "org_test = X_test.copy()\n",
    "org_calib = X_calib.copy()"
   ]
  },
  {
   "cell_type": "markdown",
   "id": "0a4a1b33",
   "metadata": {
    "papermill": {
     "duration": 0.019973,
     "end_time": "2025-07-28T10:30:27.326333",
     "exception": false,
     "start_time": "2025-07-28T10:30:27.306360",
     "status": "completed"
    },
    "tags": []
   },
   "source": [
    "# Preprocessing Data"
   ]
  },
  {
   "cell_type": "code",
   "execution_count": 22,
   "id": "ca879031",
   "metadata": {
    "execution": {
     "iopub.execute_input": "2025-07-28T10:30:27.366588Z",
     "iopub.status.busy": "2025-07-28T10:30:27.365913Z",
     "iopub.status.idle": "2025-07-28T10:30:27.372446Z",
     "shell.execute_reply": "2025-07-28T10:30:27.371487Z"
    },
    "papermill": {
     "duration": 0.028646,
     "end_time": "2025-07-28T10:30:27.374064",
     "exception": false,
     "start_time": "2025-07-28T10:30:27.345418",
     "status": "completed"
    },
    "tags": []
   },
   "outputs": [],
   "source": [
    "# EXCLUDE PROTECTED FEATURES\n",
    "# ----------------------\n",
    "# \"exclude_features\": \"none\", # \"nationality\", \"sex\", \"nationality-sex\"\n",
    "\n",
    "excluded_features = universe[\"exclude_features\"].split(\"-\") # split, e.g.: \"nationality-sex\" -> [\"nationality\", \"sex\"]\n",
    "excluded_features_dictionary = {\n",
    "    \"nationality\": [\"maxdeutsch1\", \"maxdeutsch.Missing.\"],\n",
    "    \"sex\": [\"frau1\"],\n",
    "    \"age\": [\"age\"],\n",
    "}\n"
   ]
  },
  {
   "cell_type": "code",
   "execution_count": 23,
   "id": "b745ac60",
   "metadata": {
    "execution": {
     "iopub.execute_input": "2025-07-28T10:30:27.416197Z",
     "iopub.status.busy": "2025-07-28T10:30:27.415481Z",
     "iopub.status.idle": "2025-07-28T10:30:27.421281Z",
     "shell.execute_reply": "2025-07-28T10:30:27.420313Z"
    },
    "papermill": {
     "duration": 0.028419,
     "end_time": "2025-07-28T10:30:27.422959",
     "exception": false,
     "start_time": "2025-07-28T10:30:27.394540",
     "status": "completed"
    },
    "tags": []
   },
   "outputs": [],
   "source": [
    "# Code nice names to column names\n",
    "\n",
    "excluded_features_columns = [\n",
    "    excluded_features_dictionary[f] for f in excluded_features if len(f) > 0 and f != \"none\"\n",
    "]"
   ]
  },
  {
   "cell_type": "code",
   "execution_count": 24,
   "id": "f84f73a2",
   "metadata": {
    "execution": {
     "iopub.execute_input": "2025-07-28T10:30:27.464900Z",
     "iopub.status.busy": "2025-07-28T10:30:27.464147Z",
     "iopub.status.idle": "2025-07-28T10:30:27.471072Z",
     "shell.execute_reply": "2025-07-28T10:30:27.470087Z"
    },
    "papermill": {
     "duration": 0.030191,
     "end_time": "2025-07-28T10:30:27.472801",
     "exception": false,
     "start_time": "2025-07-28T10:30:27.442610",
     "status": "completed"
    },
    "tags": []
   },
   "outputs": [],
   "source": [
    "from utils import flatten_once\n",
    "\n",
    "excluded_features_columns = flatten_once(excluded_features_columns)"
   ]
  },
  {
   "cell_type": "code",
   "execution_count": 25,
   "id": "884dea22",
   "metadata": {
    "execution": {
     "iopub.execute_input": "2025-07-28T10:30:27.514811Z",
     "iopub.status.busy": "2025-07-28T10:30:27.514135Z",
     "iopub.status.idle": "2025-07-28T10:30:27.524151Z",
     "shell.execute_reply": "2025-07-28T10:30:27.523117Z"
    },
    "papermill": {
     "duration": 0.033321,
     "end_time": "2025-07-28T10:30:27.525713",
     "exception": false,
     "start_time": "2025-07-28T10:30:27.492392",
     "status": "completed"
    },
    "tags": []
   },
   "outputs": [
    {
     "name": "stdout",
     "output_type": "stream",
     "text": [
      "Dropping features: ['frau1']\n"
     ]
    }
   ],
   "source": [
    "if len(excluded_features_columns) > 0:\n",
    "    print(f\"Dropping features: {excluded_features_columns}\")\n",
    "    X_train.drop(excluded_features_columns, axis=1, inplace=True)"
   ]
  },
  {
   "cell_type": "code",
   "execution_count": 26,
   "id": "95ab8b16",
   "metadata": {
    "execution": {
     "iopub.execute_input": "2025-07-28T10:30:27.567485Z",
     "iopub.status.busy": "2025-07-28T10:30:27.566822Z",
     "iopub.status.idle": "2025-07-28T10:30:27.625032Z",
     "shell.execute_reply": "2025-07-28T10:30:27.624010Z"
    },
    "papermill": {
     "duration": 0.080639,
     "end_time": "2025-07-28T10:30:27.626751",
     "exception": false,
     "start_time": "2025-07-28T10:30:27.546112",
     "status": "completed"
    },
    "tags": []
   },
   "outputs": [
    {
     "name": "stdout",
     "output_type": "stream",
     "text": [
      "Dropping features: ['frau1']\n"
     ]
    }
   ],
   "source": [
    "if len(excluded_features_columns) > 0:\n",
    "    print(f\"Dropping features: {excluded_features_columns}\")\n",
    "    X_test.drop(excluded_features_columns, axis=1, inplace=True)"
   ]
  },
  {
   "cell_type": "code",
   "execution_count": 27,
   "id": "1853aaf5-fb9f-46cb-a2b5-8ea4ae2237e4",
   "metadata": {
    "execution": {
     "iopub.execute_input": "2025-07-28T10:30:27.668767Z",
     "iopub.status.busy": "2025-07-28T10:30:27.668213Z",
     "iopub.status.idle": "2025-07-28T10:30:27.721027Z",
     "shell.execute_reply": "2025-07-28T10:30:27.719806Z"
    },
    "papermill": {
     "duration": 0.075473,
     "end_time": "2025-07-28T10:30:27.722808",
     "exception": false,
     "start_time": "2025-07-28T10:30:27.647335",
     "status": "completed"
    },
    "tags": []
   },
   "outputs": [
    {
     "name": "stdout",
     "output_type": "stream",
     "text": [
      "Dropping features: ['frau1']\n"
     ]
    }
   ],
   "source": [
    "if len(excluded_features_columns) > 0:\n",
    "    print(f\"Dropping features: {excluded_features_columns}\")\n",
    "    X_calib.drop(excluded_features_columns, axis=1, inplace=True)"
   ]
  },
  {
   "cell_type": "code",
   "execution_count": 28,
   "id": "6727d079-03e5-481e-9d38-292a90b7a0a8",
   "metadata": {
    "execution": {
     "iopub.execute_input": "2025-07-28T10:30:27.767835Z",
     "iopub.status.busy": "2025-07-28T10:30:27.767159Z",
     "iopub.status.idle": "2025-07-28T10:30:27.773142Z",
     "shell.execute_reply": "2025-07-28T10:30:27.772184Z"
    },
    "papermill": {
     "duration": 0.030102,
     "end_time": "2025-07-28T10:30:27.774764",
     "exception": false,
     "start_time": "2025-07-28T10:30:27.744662",
     "status": "completed"
    },
    "tags": []
   },
   "outputs": [],
   "source": [
    "# SPLIT & STRATIFY DATA\n",
    "# ----------------------"
   ]
  },
  {
   "cell_type": "code",
   "execution_count": 29,
   "id": "76c4dc6d",
   "metadata": {
    "execution": {
     "iopub.execute_input": "2025-07-28T10:30:27.820800Z",
     "iopub.status.busy": "2025-07-28T10:30:27.820114Z",
     "iopub.status.idle": "2025-07-28T10:30:27.826812Z",
     "shell.execute_reply": "2025-07-28T10:30:27.825793Z"
    },
    "papermill": {
     "duration": 0.031385,
     "end_time": "2025-07-28T10:30:27.828499",
     "exception": false,
     "start_time": "2025-07-28T10:30:27.797114",
     "status": "completed"
    },
    "tags": []
   },
   "outputs": [],
   "source": [
    "# EXCLUDE CERTAIN SUBGROUPS\n",
    "# ----------------------\n",
    "\n",
    "mode = universe.get(\"exclude_subgroups\", \"keep-all\") \n",
    "# Fetches the exclude_subgroups setting from the universe dict.\n",
    "# Defaults to \"keep-all\" if the key is missing."
   ]
  },
  {
   "cell_type": "code",
   "execution_count": 30,
   "id": "21994072",
   "metadata": {
    "execution": {
     "iopub.execute_input": "2025-07-28T10:30:27.873197Z",
     "iopub.status.busy": "2025-07-28T10:30:27.872174Z",
     "iopub.status.idle": "2025-07-28T10:30:27.879947Z",
     "shell.execute_reply": "2025-07-28T10:30:27.878830Z"
    },
    "papermill": {
     "duration": 0.031538,
     "end_time": "2025-07-28T10:30:27.881777",
     "exception": false,
     "start_time": "2025-07-28T10:30:27.850239",
     "status": "completed"
    },
    "tags": []
   },
   "outputs": [],
   "source": [
    "if mode == \"keep-all\":\n",
    "    keep_mask = pd.Series(True, index=org_train.index)\n",
    "\n",
    "# org_train contains the original feature columns from features_org (in Simson)\n",
    "# features_org contains unprocessed features, for me X_train at beginning ???\n",
    "# For keep-all, creates a boolean Series (keep_mask) of all True, so no rows are removed.\n",
    "\n",
    "elif mode == \"drop-non-german\":\n",
    "    keep_mask = org_train[\"maxdeutsch1\"] == 1 # ??? what about missing values?\n",
    "\n",
    "else:\n",
    "    raise ValueError(f\"Unsupported mode for exclude_subgroups: {mode}\")\n"
   ]
  },
  {
   "cell_type": "code",
   "execution_count": 31,
   "id": "71651440",
   "metadata": {
    "execution": {
     "iopub.execute_input": "2025-07-28T10:30:27.929637Z",
     "iopub.status.busy": "2025-07-28T10:30:27.929166Z",
     "iopub.status.idle": "2025-07-28T10:30:27.936618Z",
     "shell.execute_reply": "2025-07-28T10:30:27.935611Z"
    },
    "papermill": {
     "duration": 0.033896,
     "end_time": "2025-07-28T10:30:27.938571",
     "exception": false,
     "start_time": "2025-07-28T10:30:27.904675",
     "status": "completed"
    },
    "tags": []
   },
   "outputs": [],
   "source": [
    "n_drop = (~keep_mask).sum() # Calculates how many rows are set to be dropped\n",
    "if n_drop > 0:\n",
    "    pct = n_drop / len(keep_mask) * 100\n",
    "    print(f\"Dropping {n_drop} rows ({pct:.2f}%) where mode='{mode}'\")"
   ]
  },
  {
   "cell_type": "code",
   "execution_count": 32,
   "id": "5fb8eee5",
   "metadata": {
    "execution": {
     "iopub.execute_input": "2025-07-28T10:30:27.983842Z",
     "iopub.status.busy": "2025-07-28T10:30:27.983091Z",
     "iopub.status.idle": "2025-07-28T10:30:27.993427Z",
     "shell.execute_reply": "2025-07-28T10:30:27.992326Z"
    },
    "papermill": {
     "duration": 0.035639,
     "end_time": "2025-07-28T10:30:27.995243",
     "exception": false,
     "start_time": "2025-07-28T10:30:27.959604",
     "status": "completed"
    },
    "tags": []
   },
   "outputs": [],
   "source": [
    "X_train = X_train[keep_mask]"
   ]
  },
  {
   "cell_type": "code",
   "execution_count": 33,
   "id": "b202bb3a",
   "metadata": {
    "execution": {
     "iopub.execute_input": "2025-07-28T10:30:28.044204Z",
     "iopub.status.busy": "2025-07-28T10:30:28.043109Z",
     "iopub.status.idle": "2025-07-28T10:30:28.050701Z",
     "shell.execute_reply": "2025-07-28T10:30:28.049484Z"
    },
    "papermill": {
     "duration": 0.034576,
     "end_time": "2025-07-28T10:30:28.052925",
     "exception": false,
     "start_time": "2025-07-28T10:30:28.018349",
     "status": "completed"
    },
    "tags": []
   },
   "outputs": [],
   "source": [
    "y_train = y_train[keep_mask]"
   ]
  },
  {
   "cell_type": "markdown",
   "id": "493e2ac3",
   "metadata": {
    "papermill": {
     "duration": 0.023519,
     "end_time": "2025-07-28T10:30:28.100919",
     "exception": false,
     "start_time": "2025-07-28T10:30:28.077400",
     "status": "completed"
    },
    "tags": []
   },
   "source": [
    "# Model Training"
   ]
  },
  {
   "cell_type": "code",
   "execution_count": 34,
   "id": "679e1268",
   "metadata": {
    "execution": {
     "iopub.execute_input": "2025-07-28T10:30:28.149498Z",
     "iopub.status.busy": "2025-07-28T10:30:28.148747Z",
     "iopub.status.idle": "2025-07-28T10:30:28.258074Z",
     "shell.execute_reply": "2025-07-28T10:30:28.256900Z"
    },
    "papermill": {
     "duration": 0.137072,
     "end_time": "2025-07-28T10:30:28.260312",
     "exception": false,
     "start_time": "2025-07-28T10:30:28.123240",
     "status": "completed"
    },
    "tags": []
   },
   "outputs": [],
   "source": [
    "from sklearn.linear_model import LogisticRegression\n",
    "from sklearn.ensemble import GradientBoostingClassifier, RandomForestClassifier\n",
    "\n",
    "if (universe[\"model\"] == \"logreg\"):\n",
    "    model = LogisticRegression() #penalty=\"none\") #, solver=\"newton-cg\", max_iter=1) # include random_state=19 ?\n",
    "elif (universe[\"model\"] == \"penalized_logreg\"):\n",
    "    model = LogisticRegression(penalty=\"l2\", C=1.0) #, solver=\"newton-cg\", max_iter=1)\n",
    "elif (universe[\"model\"] == \"rf\"):\n",
    "    model = RandomForestClassifier(n_estimators=100, n_jobs=-1)\n",
    "elif (universe[\"model\"] == \"gbm\"):\n",
    "    model = GradientBoostingClassifier()\n",
    "elif (universe[\"model\"] == \"elasticnet\"):\n",
    "    model = LogisticRegression(penalty = 'elasticnet', solver = 'saga', l1_ratio = 0.5, max_iter=5000) # which solver to use?\n",
    "else:\n",
    "    raise \"Unsupported universe.model\""
   ]
  },
  {
   "cell_type": "code",
   "execution_count": 35,
   "id": "0cc8f744",
   "metadata": {
    "execution": {
     "iopub.execute_input": "2025-07-28T10:30:28.310431Z",
     "iopub.status.busy": "2025-07-28T10:30:28.309671Z",
     "iopub.status.idle": "2025-07-28T10:30:28.316817Z",
     "shell.execute_reply": "2025-07-28T10:30:28.315786Z"
    },
    "papermill": {
     "duration": 0.034482,
     "end_time": "2025-07-28T10:30:28.318502",
     "exception": false,
     "start_time": "2025-07-28T10:30:28.284020",
     "status": "completed"
    },
    "tags": []
   },
   "outputs": [],
   "source": [
    "import numpy as np\n",
    "from sklearn.pipeline import Pipeline\n",
    "from sklearn.preprocessing import StandardScaler\n",
    "\n",
    "model = Pipeline([\n",
    "    #(\"continuous_processor\", continuous_processor),\n",
    "    #(\"categorical_preprocessor\", categorical_preprocessor),\n",
    "    (\"scale\", StandardScaler() if universe[\"scale\"] == \"scale\" else None), \n",
    "    (\"model\", model),\n",
    "])"
   ]
  },
  {
   "cell_type": "code",
   "execution_count": 36,
   "id": "9442c04d",
   "metadata": {
    "execution": {
     "iopub.execute_input": "2025-07-28T10:30:28.368496Z",
     "iopub.status.busy": "2025-07-28T10:30:28.367540Z",
     "iopub.status.idle": "2025-07-28T10:30:29.306732Z",
     "shell.execute_reply": "2025-07-28T10:30:29.305735Z"
    },
    "papermill": {
     "duration": 0.965733,
     "end_time": "2025-07-28T10:30:29.308731",
     "exception": false,
     "start_time": "2025-07-28T10:30:28.342998",
     "status": "completed"
    },
    "tags": []
   },
   "outputs": [
    {
     "data": {
      "text/html": [
       "<style>#sk-container-id-1 {color: black;background-color: white;}#sk-container-id-1 pre{padding: 0;}#sk-container-id-1 div.sk-toggleable {background-color: white;}#sk-container-id-1 label.sk-toggleable__label {cursor: pointer;display: block;width: 100%;margin-bottom: 0;padding: 0.3em;box-sizing: border-box;text-align: center;}#sk-container-id-1 label.sk-toggleable__label-arrow:before {content: \"▸\";float: left;margin-right: 0.25em;color: #696969;}#sk-container-id-1 label.sk-toggleable__label-arrow:hover:before {color: black;}#sk-container-id-1 div.sk-estimator:hover label.sk-toggleable__label-arrow:before {color: black;}#sk-container-id-1 div.sk-toggleable__content {max-height: 0;max-width: 0;overflow: hidden;text-align: left;background-color: #f0f8ff;}#sk-container-id-1 div.sk-toggleable__content pre {margin: 0.2em;color: black;border-radius: 0.25em;background-color: #f0f8ff;}#sk-container-id-1 input.sk-toggleable__control:checked~div.sk-toggleable__content {max-height: 200px;max-width: 100%;overflow: auto;}#sk-container-id-1 input.sk-toggleable__control:checked~label.sk-toggleable__label-arrow:before {content: \"▾\";}#sk-container-id-1 div.sk-estimator input.sk-toggleable__control:checked~label.sk-toggleable__label {background-color: #d4ebff;}#sk-container-id-1 div.sk-label input.sk-toggleable__control:checked~label.sk-toggleable__label {background-color: #d4ebff;}#sk-container-id-1 input.sk-hidden--visually {border: 0;clip: rect(1px 1px 1px 1px);clip: rect(1px, 1px, 1px, 1px);height: 1px;margin: -1px;overflow: hidden;padding: 0;position: absolute;width: 1px;}#sk-container-id-1 div.sk-estimator {font-family: monospace;background-color: #f0f8ff;border: 1px dotted black;border-radius: 0.25em;box-sizing: border-box;margin-bottom: 0.5em;}#sk-container-id-1 div.sk-estimator:hover {background-color: #d4ebff;}#sk-container-id-1 div.sk-parallel-item::after {content: \"\";width: 100%;border-bottom: 1px solid gray;flex-grow: 1;}#sk-container-id-1 div.sk-label:hover label.sk-toggleable__label {background-color: #d4ebff;}#sk-container-id-1 div.sk-serial::before {content: \"\";position: absolute;border-left: 1px solid gray;box-sizing: border-box;top: 0;bottom: 0;left: 50%;z-index: 0;}#sk-container-id-1 div.sk-serial {display: flex;flex-direction: column;align-items: center;background-color: white;padding-right: 0.2em;padding-left: 0.2em;position: relative;}#sk-container-id-1 div.sk-item {position: relative;z-index: 1;}#sk-container-id-1 div.sk-parallel {display: flex;align-items: stretch;justify-content: center;background-color: white;position: relative;}#sk-container-id-1 div.sk-item::before, #sk-container-id-1 div.sk-parallel-item::before {content: \"\";position: absolute;border-left: 1px solid gray;box-sizing: border-box;top: 0;bottom: 0;left: 50%;z-index: -1;}#sk-container-id-1 div.sk-parallel-item {display: flex;flex-direction: column;z-index: 1;position: relative;background-color: white;}#sk-container-id-1 div.sk-parallel-item:first-child::after {align-self: flex-end;width: 50%;}#sk-container-id-1 div.sk-parallel-item:last-child::after {align-self: flex-start;width: 50%;}#sk-container-id-1 div.sk-parallel-item:only-child::after {width: 0;}#sk-container-id-1 div.sk-dashed-wrapped {border: 1px dashed gray;margin: 0 0.4em 0.5em 0.4em;box-sizing: border-box;padding-bottom: 0.4em;background-color: white;}#sk-container-id-1 div.sk-label label {font-family: monospace;font-weight: bold;display: inline-block;line-height: 1.2em;}#sk-container-id-1 div.sk-label-container {text-align: center;}#sk-container-id-1 div.sk-container {/* jupyter's `normalize.less` sets `[hidden] { display: none; }` but bootstrap.min.css set `[hidden] { display: none !important; }` so we also need the `!important` here to be able to override the default hidden behavior on the sphinx rendered scikit-learn.org. See: https://github.com/scikit-learn/scikit-learn/issues/21755 */display: inline-block !important;position: relative;}#sk-container-id-1 div.sk-text-repr-fallback {display: none;}</style><div id=\"sk-container-id-1\" class=\"sk-top-container\"><div class=\"sk-text-repr-fallback\"><pre>Pipeline(steps=[(&#x27;scale&#x27;, StandardScaler()),\n",
       "                (&#x27;model&#x27;, RandomForestClassifier(n_jobs=-1))])</pre><b>In a Jupyter environment, please rerun this cell to show the HTML representation or trust the notebook. <br />On GitHub, the HTML representation is unable to render, please try loading this page with nbviewer.org.</b></div><div class=\"sk-container\" hidden><div class=\"sk-item sk-dashed-wrapped\"><div class=\"sk-label-container\"><div class=\"sk-label sk-toggleable\"><input class=\"sk-toggleable__control sk-hidden--visually\" id=\"sk-estimator-id-1\" type=\"checkbox\" ><label for=\"sk-estimator-id-1\" class=\"sk-toggleable__label sk-toggleable__label-arrow\">Pipeline</label><div class=\"sk-toggleable__content\"><pre>Pipeline(steps=[(&#x27;scale&#x27;, StandardScaler()),\n",
       "                (&#x27;model&#x27;, RandomForestClassifier(n_jobs=-1))])</pre></div></div></div><div class=\"sk-serial\"><div class=\"sk-item\"><div class=\"sk-estimator sk-toggleable\"><input class=\"sk-toggleable__control sk-hidden--visually\" id=\"sk-estimator-id-2\" type=\"checkbox\" ><label for=\"sk-estimator-id-2\" class=\"sk-toggleable__label sk-toggleable__label-arrow\">StandardScaler</label><div class=\"sk-toggleable__content\"><pre>StandardScaler()</pre></div></div></div><div class=\"sk-item\"><div class=\"sk-estimator sk-toggleable\"><input class=\"sk-toggleable__control sk-hidden--visually\" id=\"sk-estimator-id-3\" type=\"checkbox\" ><label for=\"sk-estimator-id-3\" class=\"sk-toggleable__label sk-toggleable__label-arrow\">RandomForestClassifier</label><div class=\"sk-toggleable__content\"><pre>RandomForestClassifier(n_jobs=-1)</pre></div></div></div></div></div></div></div>"
      ],
      "text/plain": [
       "Pipeline(steps=[('scale', StandardScaler()),\n",
       "                ('model', RandomForestClassifier(n_jobs=-1))])"
      ]
     },
     "execution_count": 36,
     "metadata": {},
     "output_type": "execute_result"
    }
   ],
   "source": [
    "model.fit(X_train, y_train.values.ravel())"
   ]
  },
  {
   "cell_type": "code",
   "execution_count": 37,
   "id": "af59f8c0",
   "metadata": {
    "execution": {
     "iopub.execute_input": "2025-07-28T10:30:29.353799Z",
     "iopub.status.busy": "2025-07-28T10:30:29.352960Z",
     "iopub.status.idle": "2025-07-28T10:30:29.359102Z",
     "shell.execute_reply": "2025-07-28T10:30:29.358066Z"
    },
    "papermill": {
     "duration": 0.030393,
     "end_time": "2025-07-28T10:30:29.360922",
     "exception": false,
     "start_time": "2025-07-28T10:30:29.330529",
     "status": "completed"
    },
    "tags": []
   },
   "outputs": [],
   "source": [
    "from fairness_multiverse.universe import predict_w_threshold"
   ]
  },
  {
   "cell_type": "code",
   "execution_count": 38,
   "id": "a7cf2e16",
   "metadata": {
    "execution": {
     "iopub.execute_input": "2025-07-28T10:30:29.406165Z",
     "iopub.status.busy": "2025-07-28T10:30:29.405247Z",
     "iopub.status.idle": "2025-07-28T10:30:30.296435Z",
     "shell.execute_reply": "2025-07-28T10:30:30.295639Z"
    },
    "papermill": {
     "duration": 0.915403,
     "end_time": "2025-07-28T10:30:30.297915",
     "exception": false,
     "start_time": "2025-07-28T10:30:29.382512",
     "status": "completed"
    },
    "tags": []
   },
   "outputs": [
    {
     "data": {
      "text/plain": [
       "0.8668487348121725"
      ]
     },
     "execution_count": 38,
     "metadata": {},
     "output_type": "execute_result"
    }
   ],
   "source": [
    "probs_test = model.predict_proba(X_test)\n",
    "\n",
    "'''\n",
    "Below code returns a boolean array (or binary 0/1 array depending on how it’s used) where each element \n",
    "is True if the probability of class 1 is greater than or equal to the threshold, and False otherwise.\n",
    "'''\n",
    "y_pred_default = predict_w_threshold(probs_test, 0.5)\n",
    "\n",
    "from sklearn.metrics import accuracy_score\n",
    "\n",
    "# Naive prediction\n",
    "accuracy_score(y_true = y_true, y_pred = y_pred_default)"
   ]
  },
  {
   "cell_type": "code",
   "execution_count": 39,
   "id": "081964c3",
   "metadata": {
    "execution": {
     "iopub.execute_input": "2025-07-28T10:30:31.796684Z",
     "iopub.status.busy": "2025-07-28T10:30:31.796164Z",
     "iopub.status.idle": "2025-07-28T10:30:32.776352Z",
     "shell.execute_reply": "2025-07-28T10:30:32.775334Z"
    },
    "papermill": {
     "duration": 1.005086,
     "end_time": "2025-07-28T10:30:32.777786",
     "exception": false,
     "start_time": "2025-07-28T10:30:31.772700",
     "status": "completed"
    },
    "tags": []
   },
   "outputs": [
    {
     "data": {
      "text/plain": [
       "array([0, 0, 0, ..., 0, 0, 0])"
      ]
     },
     "execution_count": 39,
     "metadata": {},
     "output_type": "execute_result"
    }
   ],
   "source": [
    "model.predict(X_test)"
   ]
  },
  {
   "cell_type": "markdown",
   "id": "56c9705b",
   "metadata": {
    "papermill": {
     "duration": 0.011778,
     "end_time": "2025-07-28T10:30:32.811884",
     "exception": false,
     "start_time": "2025-07-28T10:30:32.800106",
     "status": "completed"
    },
    "tags": []
   },
   "source": [
    "# Conformal Prediction"
   ]
  },
  {
   "cell_type": "code",
   "execution_count": 40,
   "id": "160ec6ff",
   "metadata": {
    "execution": {
     "iopub.execute_input": "2025-07-28T10:30:32.842146Z",
     "iopub.status.busy": "2025-07-28T10:30:32.841708Z",
     "iopub.status.idle": "2025-07-28T10:30:32.849773Z",
     "shell.execute_reply": "2025-07-28T10:30:32.846252Z"
    },
    "papermill": {
     "duration": 0.02756,
     "end_time": "2025-07-28T10:30:32.851468",
     "exception": false,
     "start_time": "2025-07-28T10:30:32.823908",
     "status": "completed"
    },
    "tags": []
   },
   "outputs": [],
   "source": [
    "# Miscoverage level for conformal prediction (10% allowed error rate => 90% target coverage)\n",
    "alpha = 0.1"
   ]
  },
  {
   "cell_type": "code",
   "execution_count": 41,
   "id": "eadf4555-3dd3-440e-8e35-f82a4ad9f855",
   "metadata": {
    "execution": {
     "iopub.execute_input": "2025-07-28T10:30:32.900933Z",
     "iopub.status.busy": "2025-07-28T10:30:32.900248Z",
     "iopub.status.idle": "2025-07-28T10:30:33.749073Z",
     "shell.execute_reply": "2025-07-28T10:30:33.747987Z"
    },
    "papermill": {
     "duration": 0.875589,
     "end_time": "2025-07-28T10:30:33.751130",
     "exception": false,
     "start_time": "2025-07-28T10:30:32.875541",
     "status": "completed"
    },
    "tags": []
   },
   "outputs": [],
   "source": [
    "probs_calib = model.predict_proba(X_calib)"
   ]
  },
  {
   "cell_type": "code",
   "execution_count": 42,
   "id": "2ed93547-6d5d-4983-9b36-1ecb300da49a",
   "metadata": {
    "execution": {
     "iopub.execute_input": "2025-07-28T10:30:33.802211Z",
     "iopub.status.busy": "2025-07-28T10:30:33.801746Z",
     "iopub.status.idle": "2025-07-28T10:30:33.807240Z",
     "shell.execute_reply": "2025-07-28T10:30:33.806212Z"
    },
    "papermill": {
     "duration": 0.032502,
     "end_time": "2025-07-28T10:30:33.808923",
     "exception": false,
     "start_time": "2025-07-28T10:30:33.776421",
     "status": "completed"
    },
    "tags": []
   },
   "outputs": [],
   "source": [
    "y_calib = y_calib.values.ravel().astype(int)"
   ]
  },
  {
   "cell_type": "code",
   "execution_count": 43,
   "id": "65d1320d-f588-4b38-9072-62af1ae97f7d",
   "metadata": {
    "execution": {
     "iopub.execute_input": "2025-07-28T10:30:33.849703Z",
     "iopub.status.busy": "2025-07-28T10:30:33.849221Z",
     "iopub.status.idle": "2025-07-28T10:30:33.856317Z",
     "shell.execute_reply": "2025-07-28T10:30:33.855196Z"
    },
    "papermill": {
     "duration": 0.025352,
     "end_time": "2025-07-28T10:30:33.858213",
     "exception": false,
     "start_time": "2025-07-28T10:30:33.832861",
     "status": "completed"
    },
    "tags": []
   },
   "outputs": [],
   "source": [
    "from fairness_multiverse.conformal import compute_nc_scores\n",
    "\n",
    "# Compute nonconformity scores on calibration set (1 - probability of true class)\n",
    "nc_scores = compute_nc_scores(probs_calib, y_calib)"
   ]
  },
  {
   "cell_type": "code",
   "execution_count": 44,
   "id": "df3b8ca3-53b7-43d5-9667-7c85da7aeda2",
   "metadata": {
    "execution": {
     "iopub.execute_input": "2025-07-28T10:30:33.904001Z",
     "iopub.status.busy": "2025-07-28T10:30:33.903634Z",
     "iopub.status.idle": "2025-07-28T10:30:33.909550Z",
     "shell.execute_reply": "2025-07-28T10:30:33.908750Z"
    },
    "papermill": {
     "duration": 0.028951,
     "end_time": "2025-07-28T10:30:33.910888",
     "exception": false,
     "start_time": "2025-07-28T10:30:33.881937",
     "status": "completed"
    },
    "tags": []
   },
   "outputs": [],
   "source": [
    "from fairness_multiverse.conformal import find_threshold\n",
    "\n",
    "# Find conformal threshold q_hat for the given alpha (split conformal method)\n",
    "q_hat = find_threshold(nc_scores, alpha)"
   ]
  },
  {
   "cell_type": "code",
   "execution_count": 45,
   "id": "4d29e6c1-0ef6-4aa4-b8fe-4fe79b0d033a",
   "metadata": {
    "execution": {
     "iopub.execute_input": "2025-07-28T10:30:33.960886Z",
     "iopub.status.busy": "2025-07-28T10:30:33.960383Z",
     "iopub.status.idle": "2025-07-28T10:30:33.967836Z",
     "shell.execute_reply": "2025-07-28T10:30:33.966911Z"
    },
    "papermill": {
     "duration": 0.035203,
     "end_time": "2025-07-28T10:30:33.969523",
     "exception": false,
     "start_time": "2025-07-28T10:30:33.934320",
     "status": "completed"
    },
    "tags": []
   },
   "outputs": [
    {
     "data": {
      "text/plain": [
       "0.6699999999999999"
      ]
     },
     "execution_count": 45,
     "metadata": {},
     "output_type": "execute_result"
    }
   ],
   "source": [
    "q_hat"
   ]
  },
  {
   "cell_type": "code",
   "execution_count": 46,
   "id": "92460794-cdac-4be2-ba28-f28c0515a6fb",
   "metadata": {
    "execution": {
     "iopub.execute_input": "2025-07-28T10:30:34.015608Z",
     "iopub.status.busy": "2025-07-28T10:30:34.015117Z",
     "iopub.status.idle": "2025-07-28T10:30:35.586625Z",
     "shell.execute_reply": "2025-07-28T10:30:35.585625Z"
    },
    "papermill": {
     "duration": 1.596375,
     "end_time": "2025-07-28T10:30:35.588592",
     "exception": false,
     "start_time": "2025-07-28T10:30:33.992217",
     "status": "completed"
    },
    "tags": []
   },
   "outputs": [],
   "source": [
    "from fairness_multiverse.conformal import predict_conformal_sets\n",
    "\n",
    "# Generate prediction sets for each test example\n",
    "pred_sets = predict_conformal_sets(model, X_test, q_hat)"
   ]
  },
  {
   "cell_type": "code",
   "execution_count": 47,
   "id": "d90c9a65-e6db-4f5d-80cd-e68fb7e46829",
   "metadata": {
    "execution": {
     "iopub.execute_input": "2025-07-28T10:30:35.637118Z",
     "iopub.status.busy": "2025-07-28T10:30:35.636542Z",
     "iopub.status.idle": "2025-07-28T10:30:35.642208Z",
     "shell.execute_reply": "2025-07-28T10:30:35.641144Z"
    },
    "papermill": {
     "duration": 0.030713,
     "end_time": "2025-07-28T10:30:35.644004",
     "exception": false,
     "start_time": "2025-07-28T10:30:35.613291",
     "status": "completed"
    },
    "tags": []
   },
   "outputs": [],
   "source": [
    "y_true = y_true.squeeze()"
   ]
  },
  {
   "cell_type": "code",
   "execution_count": 48,
   "id": "3a58a54a-1e68-46b9-927a-df01f18aebc8",
   "metadata": {
    "execution": {
     "iopub.execute_input": "2025-07-28T10:30:35.695171Z",
     "iopub.status.busy": "2025-07-28T10:30:35.694665Z",
     "iopub.status.idle": "2025-07-28T10:30:36.654606Z",
     "shell.execute_reply": "2025-07-28T10:30:36.653584Z"
    },
    "papermill": {
     "duration": 0.987103,
     "end_time": "2025-07-28T10:30:36.656282",
     "exception": false,
     "start_time": "2025-07-28T10:30:35.669179",
     "status": "completed"
    },
    "tags": []
   },
   "outputs": [],
   "source": [
    "from fairness_multiverse.conformal import evaluate_sets\n",
    "\n",
    "# Evaluate coverage and average set size on test data\n",
    "metrics = evaluate_sets(pred_sets, y_true)"
   ]
  },
  {
   "cell_type": "markdown",
   "id": "2b569c12-9aaa-4c88-98c9-bbcd0cf3ebb8",
   "metadata": {
    "papermill": {
     "duration": 0.024887,
     "end_time": "2025-07-28T10:30:36.706113",
     "exception": false,
     "start_time": "2025-07-28T10:30:36.681226",
     "status": "completed"
    },
    "tags": []
   },
   "source": [
    "# CP Metrics"
   ]
  },
  {
   "cell_type": "code",
   "execution_count": 49,
   "id": "5ce0a5cb-201f-45a0-ade5-94c7f0bd6095",
   "metadata": {
    "execution": {
     "iopub.execute_input": "2025-07-28T10:30:36.758258Z",
     "iopub.status.busy": "2025-07-28T10:30:36.757478Z",
     "iopub.status.idle": "2025-07-28T10:30:36.765124Z",
     "shell.execute_reply": "2025-07-28T10:30:36.764097Z"
    },
    "papermill": {
     "duration": 0.035377,
     "end_time": "2025-07-28T10:30:36.766902",
     "exception": false,
     "start_time": "2025-07-28T10:30:36.731525",
     "status": "completed"
    },
    "tags": []
   },
   "outputs": [
    {
     "data": {
      "text/plain": [
       "{'coverage': 0.9157841935124289, 'avg_size': 1.1485007245569057}"
      ]
     },
     "execution_count": 49,
     "metadata": {},
     "output_type": "execute_result"
    }
   ],
   "source": [
    "metrics"
   ]
  },
  {
   "cell_type": "code",
   "execution_count": 50,
   "id": "9b9a838d-31c9-430b-ae14-12baee460d17",
   "metadata": {
    "execution": {
     "iopub.execute_input": "2025-07-28T10:30:36.817322Z",
     "iopub.status.busy": "2025-07-28T10:30:36.816891Z",
     "iopub.status.idle": "2025-07-28T10:30:36.823108Z",
     "shell.execute_reply": "2025-07-28T10:30:36.822251Z"
    },
    "papermill": {
     "duration": 0.031227,
     "end_time": "2025-07-28T10:30:36.824614",
     "exception": false,
     "start_time": "2025-07-28T10:30:36.793387",
     "status": "completed"
    },
    "tags": []
   },
   "outputs": [],
   "source": [
    "example_universe = universe.copy()\n",
    "universe_training_size = example_universe.get(\"training_size\")\n",
    "universe_scale = example_universe.get(\"scale\")\n",
    "universe_model = example_universe.get(\"model\")\n",
    "universe_exclude_features = example_universe.get(\"exclude_features\")\n",
    "universe_exclude_subgroups = example_universe.get(\"exclude_subgroups\")"
   ]
  },
  {
   "cell_type": "code",
   "execution_count": 51,
   "id": "f4b6a8ac-9dc0-4245-8a91-5b3b5999c4f9",
   "metadata": {
    "execution": {
     "iopub.execute_input": "2025-07-28T10:30:36.852015Z",
     "iopub.status.busy": "2025-07-28T10:30:36.851728Z",
     "iopub.status.idle": "2025-07-28T10:30:36.857061Z",
     "shell.execute_reply": "2025-07-28T10:30:36.856258Z"
    },
    "papermill": {
     "duration": 0.020205,
     "end_time": "2025-07-28T10:30:36.858350",
     "exception": false,
     "start_time": "2025-07-28T10:30:36.838145",
     "status": "completed"
    },
    "tags": []
   },
   "outputs": [],
   "source": [
    "cp_metrics_dict = {\n",
    "    \"universe_id\": [universe_id],\n",
    "    \"universe_training_size\": [universe_training_size],\n",
    "    \"universe_scale\": [universe_scale],\n",
    "    \"universe_model\": [universe_model],\n",
    "    \"universe_exclude_features\": [universe_exclude_features],\n",
    "    \"universe_exclude_subgroups\": [universe_exclude_subgroups],\n",
    "    \"q_hat\": [q_hat],\n",
    "    \"coverage\": [metrics[\"coverage\"]],\n",
    "    \"avg_size\": [metrics[\"avg_size\"]],\n",
    "}"
   ]
  },
  {
   "cell_type": "code",
   "execution_count": 52,
   "id": "908acbb1-0371-4915-85ca-3fa520d2efe2",
   "metadata": {
    "execution": {
     "iopub.execute_input": "2025-07-28T10:30:36.887253Z",
     "iopub.status.busy": "2025-07-28T10:30:36.886916Z",
     "iopub.status.idle": "2025-07-28T10:30:36.893898Z",
     "shell.execute_reply": "2025-07-28T10:30:36.893147Z"
    },
    "papermill": {
     "duration": 0.022669,
     "end_time": "2025-07-28T10:30:36.895256",
     "exception": false,
     "start_time": "2025-07-28T10:30:36.872587",
     "status": "completed"
    },
    "tags": []
   },
   "outputs": [
    {
     "data": {
      "text/plain": [
       "{'universe_id': ['283271716941611532fe0323fe12e61e'],\n",
       " 'universe_training_size': ['5k'],\n",
       " 'universe_scale': ['scale'],\n",
       " 'universe_model': ['rf'],\n",
       " 'universe_exclude_features': ['sex'],\n",
       " 'universe_exclude_subgroups': ['keep-all'],\n",
       " 'q_hat': [0.6699999999999999],\n",
       " 'coverage': [0.9157841935124289],\n",
       " 'avg_size': [1.1485007245569057]}"
      ]
     },
     "execution_count": 52,
     "metadata": {},
     "output_type": "execute_result"
    }
   ],
   "source": [
    "cp_metrics_dict"
   ]
  },
  {
   "cell_type": "code",
   "execution_count": 53,
   "id": "33007efc-14e9-4ec6-97ac-56a455c82265",
   "metadata": {
    "execution": {
     "iopub.execute_input": "2025-07-28T10:30:36.923110Z",
     "iopub.status.busy": "2025-07-28T10:30:36.922311Z",
     "iopub.status.idle": "2025-07-28T10:30:36.927849Z",
     "shell.execute_reply": "2025-07-28T10:30:36.926998Z"
    },
    "papermill": {
     "duration": 0.020399,
     "end_time": "2025-07-28T10:30:36.929351",
     "exception": false,
     "start_time": "2025-07-28T10:30:36.908952",
     "status": "completed"
    },
    "tags": []
   },
   "outputs": [],
   "source": [
    "cp_metrics_df = pd.DataFrame(cp_metrics_dict)"
   ]
  },
  {
   "cell_type": "code",
   "execution_count": 54,
   "id": "db12611b-57b2-4910-b9d0-355adfd6e7bf",
   "metadata": {
    "execution": {
     "iopub.execute_input": "2025-07-28T10:30:36.956578Z",
     "iopub.status.busy": "2025-07-28T10:30:36.955809Z",
     "iopub.status.idle": "2025-07-28T10:30:36.969888Z",
     "shell.execute_reply": "2025-07-28T10:30:36.969163Z"
    },
    "papermill": {
     "duration": 0.028653,
     "end_time": "2025-07-28T10:30:36.971179",
     "exception": false,
     "start_time": "2025-07-28T10:30:36.942526",
     "status": "completed"
    },
    "tags": []
   },
   "outputs": [
    {
     "data": {
      "text/html": [
       "<div>\n",
       "<style scoped>\n",
       "    .dataframe tbody tr th:only-of-type {\n",
       "        vertical-align: middle;\n",
       "    }\n",
       "\n",
       "    .dataframe tbody tr th {\n",
       "        vertical-align: top;\n",
       "    }\n",
       "\n",
       "    .dataframe thead th {\n",
       "        text-align: right;\n",
       "    }\n",
       "</style>\n",
       "<table border=\"1\" class=\"dataframe\">\n",
       "  <thead>\n",
       "    <tr style=\"text-align: right;\">\n",
       "      <th></th>\n",
       "      <th>universe_id</th>\n",
       "      <th>universe_training_size</th>\n",
       "      <th>universe_scale</th>\n",
       "      <th>universe_model</th>\n",
       "      <th>universe_exclude_features</th>\n",
       "      <th>universe_exclude_subgroups</th>\n",
       "      <th>q_hat</th>\n",
       "      <th>coverage</th>\n",
       "      <th>avg_size</th>\n",
       "    </tr>\n",
       "  </thead>\n",
       "  <tbody>\n",
       "    <tr>\n",
       "      <th>0</th>\n",
       "      <td>283271716941611532fe0323fe12e61e</td>\n",
       "      <td>5k</td>\n",
       "      <td>scale</td>\n",
       "      <td>rf</td>\n",
       "      <td>sex</td>\n",
       "      <td>keep-all</td>\n",
       "      <td>0.67</td>\n",
       "      <td>0.915784</td>\n",
       "      <td>1.148501</td>\n",
       "    </tr>\n",
       "  </tbody>\n",
       "</table>\n",
       "</div>"
      ],
      "text/plain": [
       "                        universe_id universe_training_size universe_scale  \\\n",
       "0  283271716941611532fe0323fe12e61e                     5k          scale   \n",
       "\n",
       "  universe_model universe_exclude_features universe_exclude_subgroups  q_hat  \\\n",
       "0             rf                       sex                   keep-all   0.67   \n",
       "\n",
       "   coverage  avg_size  \n",
       "0  0.915784  1.148501  "
      ]
     },
     "execution_count": 54,
     "metadata": {},
     "output_type": "execute_result"
    }
   ],
   "source": [
    "cp_metrics_df"
   ]
  },
  {
   "cell_type": "code",
   "execution_count": 55,
   "id": "b7fbde55-a0a1-47e4-9af6-fe4a17fa8c61",
   "metadata": {
    "execution": {
     "iopub.execute_input": "2025-07-28T10:30:36.999278Z",
     "iopub.status.busy": "2025-07-28T10:30:36.998568Z",
     "iopub.status.idle": "2025-07-28T10:30:37.003338Z",
     "shell.execute_reply": "2025-07-28T10:30:37.002458Z"
    },
    "papermill": {
     "duration": 0.020054,
     "end_time": "2025-07-28T10:30:37.004844",
     "exception": false,
     "start_time": "2025-07-28T10:30:36.984790",
     "status": "completed"
    },
    "tags": []
   },
   "outputs": [],
   "source": [
    "# Conditional Coverage & looking at subgroups"
   ]
  },
  {
   "cell_type": "code",
   "execution_count": 56,
   "id": "027ae886-68dd-4141-96c7-805a5450e1ef",
   "metadata": {
    "execution": {
     "iopub.execute_input": "2025-07-28T10:30:37.032480Z",
     "iopub.status.busy": "2025-07-28T10:30:37.031952Z",
     "iopub.status.idle": "2025-07-28T10:30:37.220131Z",
     "shell.execute_reply": "2025-07-28T10:30:37.219260Z"
    },
    "papermill": {
     "duration": 0.203252,
     "end_time": "2025-07-28T10:30:37.221761",
     "exception": false,
     "start_time": "2025-07-28T10:30:37.018509",
     "status": "completed"
    },
    "tags": []
   },
   "outputs": [],
   "source": [
    "from fairness_multiverse.conformal import build_cp_groups\n",
    "\n",
    "cp_groups_df = build_cp_groups(pred_sets, y_true, X_test.index, org_test)\n",
    "#needs universe_id and setting"
   ]
  },
  {
   "cell_type": "code",
   "execution_count": 57,
   "id": "01d5802c-663a-4d1f-9d69-e036faaffbf7",
   "metadata": {
    "execution": {
     "iopub.execute_input": "2025-07-28T10:30:37.249489Z",
     "iopub.status.busy": "2025-07-28T10:30:37.249146Z",
     "iopub.status.idle": "2025-07-28T10:30:37.253127Z",
     "shell.execute_reply": "2025-07-28T10:30:37.252275Z"
    },
    "papermill": {
     "duration": 0.019178,
     "end_time": "2025-07-28T10:30:37.254539",
     "exception": false,
     "start_time": "2025-07-28T10:30:37.235361",
     "status": "completed"
    },
    "tags": []
   },
   "outputs": [],
   "source": [
    "#delete\n",
    "#cp_groups_df"
   ]
  },
  {
   "cell_type": "code",
   "execution_count": 58,
   "id": "fa424af1-d1eb-443d-b717-2d279ada8408",
   "metadata": {
    "execution": {
     "iopub.execute_input": "2025-07-28T10:30:37.282365Z",
     "iopub.status.busy": "2025-07-28T10:30:37.281677Z",
     "iopub.status.idle": "2025-07-28T10:30:37.286418Z",
     "shell.execute_reply": "2025-07-28T10:30:37.285622Z"
    },
    "papermill": {
     "duration": 0.01972,
     "end_time": "2025-07-28T10:30:37.287676",
     "exception": false,
     "start_time": "2025-07-28T10:30:37.267956",
     "status": "completed"
    },
    "tags": []
   },
   "outputs": [],
   "source": [
    "#delete\n",
    "#percentage = (cp_groups_df['nongerman_female'] == 1).mean() * 100\n",
    "#print(percentage)\n"
   ]
  },
  {
   "cell_type": "code",
   "execution_count": 59,
   "id": "6cbdab96-b2b2-45af-ad54-d0516db2e28d",
   "metadata": {
    "execution": {
     "iopub.execute_input": "2025-07-28T10:30:37.315588Z",
     "iopub.status.busy": "2025-07-28T10:30:37.314747Z",
     "iopub.status.idle": "2025-07-28T10:30:38.225599Z",
     "shell.execute_reply": "2025-07-28T10:30:38.224827Z"
    },
    "papermill": {
     "duration": 0.926066,
     "end_time": "2025-07-28T10:30:38.227227",
     "exception": false,
     "start_time": "2025-07-28T10:30:37.301161",
     "status": "completed"
    },
    "tags": []
   },
   "outputs": [],
   "source": [
    "# Define covered = 1 if true_label is in the predicted set\n",
    "cp_groups_df['covered'] = cp_groups_df.apply(\n",
    "    lambda r: int(r['true_label'] in r['pred_set']),\n",
    "    axis=1\n",
    ")"
   ]
  },
  {
   "cell_type": "code",
   "execution_count": 60,
   "id": "338ff529-1a6b-4b87-a931-8e4788d52aad",
   "metadata": {
    "execution": {
     "iopub.execute_input": "2025-07-28T10:30:38.255051Z",
     "iopub.status.busy": "2025-07-28T10:30:38.254703Z",
     "iopub.status.idle": "2025-07-28T10:30:38.259476Z",
     "shell.execute_reply": "2025-07-28T10:30:38.258689Z"
    },
    "papermill": {
     "duration": 0.020071,
     "end_time": "2025-07-28T10:30:38.260927",
     "exception": false,
     "start_time": "2025-07-28T10:30:38.240856",
     "status": "completed"
    },
    "tags": []
   },
   "outputs": [],
   "source": [
    "#cp_groups_df"
   ]
  },
  {
   "cell_type": "code",
   "execution_count": 61,
   "id": "90032e27-66df-4540-9169-4e89cfbaa758",
   "metadata": {
    "execution": {
     "iopub.execute_input": "2025-07-28T10:30:38.289059Z",
     "iopub.status.busy": "2025-07-28T10:30:38.288314Z",
     "iopub.status.idle": "2025-07-28T10:30:38.297550Z",
     "shell.execute_reply": "2025-07-28T10:30:38.296821Z"
    },
    "papermill": {
     "duration": 0.024264,
     "end_time": "2025-07-28T10:30:38.298954",
     "exception": false,
     "start_time": "2025-07-28T10:30:38.274690",
     "status": "completed"
    },
    "tags": []
   },
   "outputs": [],
   "source": [
    "subgroups = ['frau1','nongerman','nongerman_male','nongerman_female']\n",
    "\n",
    "# Conditional coverage for subgroup==1\n",
    "cond_coverage = {\n",
    "    g: cp_groups_df.loc[cp_groups_df[g]==1, 'covered'].mean()\n",
    "    for g in subgroups\n",
    "}"
   ]
  },
  {
   "cell_type": "code",
   "execution_count": 62,
   "id": "1e348fb1-b9c3-45bc-ba23-f016827a7e0d",
   "metadata": {
    "execution": {
     "iopub.execute_input": "2025-07-28T10:30:38.327380Z",
     "iopub.status.busy": "2025-07-28T10:30:38.326886Z",
     "iopub.status.idle": "2025-07-28T10:30:38.333230Z",
     "shell.execute_reply": "2025-07-28T10:30:38.332406Z"
    },
    "papermill": {
     "duration": 0.021815,
     "end_time": "2025-07-28T10:30:38.334591",
     "exception": false,
     "start_time": "2025-07-28T10:30:38.312776",
     "status": "completed"
    },
    "tags": []
   },
   "outputs": [
    {
     "data": {
      "text/plain": [
       "{'frau1': 0.9139506672058229,\n",
       " 'nongerman': 0.910683208892382,\n",
       " 'nongerman_male': 0.9250652976672972,\n",
       " 'nongerman_female': 0.8868852459016393}"
      ]
     },
     "execution_count": 62,
     "metadata": {},
     "output_type": "execute_result"
    }
   ],
   "source": [
    "cond_coverage"
   ]
  },
  {
   "cell_type": "code",
   "execution_count": 63,
   "id": "f5093324-c3dd-4d63-bc4c-8d945e5c8bbb",
   "metadata": {
    "execution": {
     "iopub.execute_input": "2025-07-28T10:30:38.362854Z",
     "iopub.status.busy": "2025-07-28T10:30:38.362175Z",
     "iopub.status.idle": "2025-07-28T10:30:38.368354Z",
     "shell.execute_reply": "2025-07-28T10:30:38.367454Z"
    },
    "papermill": {
     "duration": 0.021384,
     "end_time": "2025-07-28T10:30:38.369826",
     "exception": false,
     "start_time": "2025-07-28T10:30:38.348442",
     "status": "completed"
    },
    "tags": []
   },
   "outputs": [],
   "source": [
    "for subgroup, cov in cond_coverage.items():\n",
    "    cp_metrics_df[f\"cov_{subgroup}\"] = cov"
   ]
  },
  {
   "cell_type": "code",
   "execution_count": 64,
   "id": "6e872e10-dbe5-49e8-b554-5030c98ff75d",
   "metadata": {
    "execution": {
     "iopub.execute_input": "2025-07-28T10:30:38.398231Z",
     "iopub.status.busy": "2025-07-28T10:30:38.397867Z",
     "iopub.status.idle": "2025-07-28T10:30:38.411905Z",
     "shell.execute_reply": "2025-07-28T10:30:38.411099Z"
    },
    "papermill": {
     "duration": 0.029563,
     "end_time": "2025-07-28T10:30:38.413499",
     "exception": false,
     "start_time": "2025-07-28T10:30:38.383936",
     "status": "completed"
    },
    "tags": []
   },
   "outputs": [
    {
     "data": {
      "text/html": [
       "<div>\n",
       "<style scoped>\n",
       "    .dataframe tbody tr th:only-of-type {\n",
       "        vertical-align: middle;\n",
       "    }\n",
       "\n",
       "    .dataframe tbody tr th {\n",
       "        vertical-align: top;\n",
       "    }\n",
       "\n",
       "    .dataframe thead th {\n",
       "        text-align: right;\n",
       "    }\n",
       "</style>\n",
       "<table border=\"1\" class=\"dataframe\">\n",
       "  <thead>\n",
       "    <tr style=\"text-align: right;\">\n",
       "      <th></th>\n",
       "      <th>universe_id</th>\n",
       "      <th>universe_training_size</th>\n",
       "      <th>universe_scale</th>\n",
       "      <th>universe_model</th>\n",
       "      <th>universe_exclude_features</th>\n",
       "      <th>universe_exclude_subgroups</th>\n",
       "      <th>q_hat</th>\n",
       "      <th>coverage</th>\n",
       "      <th>avg_size</th>\n",
       "      <th>cov_frau1</th>\n",
       "      <th>cov_nongerman</th>\n",
       "      <th>cov_nongerman_male</th>\n",
       "      <th>cov_nongerman_female</th>\n",
       "    </tr>\n",
       "  </thead>\n",
       "  <tbody>\n",
       "    <tr>\n",
       "      <th>0</th>\n",
       "      <td>283271716941611532fe0323fe12e61e</td>\n",
       "      <td>5k</td>\n",
       "      <td>scale</td>\n",
       "      <td>rf</td>\n",
       "      <td>sex</td>\n",
       "      <td>keep-all</td>\n",
       "      <td>0.67</td>\n",
       "      <td>0.915784</td>\n",
       "      <td>1.148501</td>\n",
       "      <td>0.913951</td>\n",
       "      <td>0.910683</td>\n",
       "      <td>0.925065</td>\n",
       "      <td>0.886885</td>\n",
       "    </tr>\n",
       "  </tbody>\n",
       "</table>\n",
       "</div>"
      ],
      "text/plain": [
       "                        universe_id universe_training_size universe_scale  \\\n",
       "0  283271716941611532fe0323fe12e61e                     5k          scale   \n",
       "\n",
       "  universe_model universe_exclude_features universe_exclude_subgroups  q_hat  \\\n",
       "0             rf                       sex                   keep-all   0.67   \n",
       "\n",
       "   coverage  avg_size  cov_frau1  cov_nongerman  cov_nongerman_male  \\\n",
       "0  0.915784  1.148501   0.913951       0.910683            0.925065   \n",
       "\n",
       "   cov_nongerman_female  \n",
       "0              0.886885  "
      ]
     },
     "execution_count": 64,
     "metadata": {},
     "output_type": "execute_result"
    }
   ],
   "source": [
    "cp_metrics_df"
   ]
  },
  {
   "cell_type": "markdown",
   "id": "33774451",
   "metadata": {
    "papermill": {
     "duration": 0.013002,
     "end_time": "2025-07-28T10:30:38.440895",
     "exception": false,
     "start_time": "2025-07-28T10:30:38.427893",
     "status": "completed"
    },
    "tags": []
   },
   "source": [
    "# (Fairness) Metrics"
   ]
  },
  {
   "cell_type": "code",
   "execution_count": 65,
   "id": "debc5d62",
   "metadata": {
    "execution": {
     "iopub.execute_input": "2025-07-28T10:30:38.469027Z",
     "iopub.status.busy": "2025-07-28T10:30:38.468518Z",
     "iopub.status.idle": "2025-07-28T10:30:38.483246Z",
     "shell.execute_reply": "2025-07-28T10:30:38.482462Z"
    },
    "papermill": {
     "duration": 0.03035,
     "end_time": "2025-07-28T10:30:38.484612",
     "exception": false,
     "start_time": "2025-07-28T10:30:38.454262",
     "status": "completed"
    },
    "tags": []
   },
   "outputs": [],
   "source": [
    "# do I need to include maxdeutsch1.missing?\n",
    "\n",
    "import numpy as np\n",
    "\n",
    "colname_to_bin = \"maxdeutsch1\"\n",
    "majority_value = org_train[colname_to_bin].mode()[0]\n",
    "\n",
    "org_test[\"majmin\"] = np.where(org_test[colname_to_bin] == majority_value, \"majority\", \"minority\")"
   ]
  },
  {
   "cell_type": "code",
   "execution_count": 66,
   "id": "06a50de5",
   "metadata": {
    "execution": {
     "iopub.execute_input": "2025-07-28T10:30:38.513152Z",
     "iopub.status.busy": "2025-07-28T10:30:38.512663Z",
     "iopub.status.idle": "2025-07-28T10:30:40.058484Z",
     "shell.execute_reply": "2025-07-28T10:30:40.057677Z"
    },
    "papermill": {
     "duration": 1.561553,
     "end_time": "2025-07-28T10:30:40.060120",
     "exception": false,
     "start_time": "2025-07-28T10:30:38.498567",
     "status": "completed"
    },
    "tags": []
   },
   "outputs": [],
   "source": [
    "example_universe = universe.copy()\n",
    "example_universe[\"cutoff\"] = example_universe[\"cutoff\"][0]\n",
    "example_universe[\"eval_fairness_grouping\"] = example_universe[\"eval_fairness_grouping\"][0]\n",
    "fairness_dict, metric_frame = universe_analysis.compute_metrics(\n",
    "    example_universe,\n",
    "    y_pred_prob=probs_test,\n",
    "    y_test=y_true,\n",
    "    org_test=org_test,\n",
    ")"
   ]
  },
  {
   "cell_type": "markdown",
   "id": "f95d4e02",
   "metadata": {
    "papermill": {
     "duration": 0.013191,
     "end_time": "2025-07-28T10:30:40.089570",
     "exception": false,
     "start_time": "2025-07-28T10:30:40.076379",
     "status": "completed"
    },
    "tags": []
   },
   "source": [
    "# Overall"
   ]
  },
  {
   "cell_type": "markdown",
   "id": "bdee4871",
   "metadata": {
    "papermill": {
     "duration": 0.013244,
     "end_time": "2025-07-28T10:30:40.116018",
     "exception": false,
     "start_time": "2025-07-28T10:30:40.102774",
     "status": "completed"
    },
    "tags": []
   },
   "source": [
    "Fairness\n",
    "Main fairness target: Equalized Odds. Seems to be a better fit than equal opportunity, since we're not only interested in Y = 1. Seems to be a better fit than demographic parity, since we also care about accuracy, not just equal distribution of preds.\n",
    "\n",
    "Pick column for computation of fairness metrics\n",
    "\n",
    "Performance\n",
    "Overall performance measures, most interesting in relation to the measures split by group below"
   ]
  },
  {
   "cell_type": "code",
   "execution_count": 67,
   "id": "c4e067c6",
   "metadata": {
    "execution": {
     "iopub.execute_input": "2025-07-28T10:30:40.144591Z",
     "iopub.status.busy": "2025-07-28T10:30:40.143904Z",
     "iopub.status.idle": "2025-07-28T10:30:40.151784Z",
     "shell.execute_reply": "2025-07-28T10:30:40.151072Z"
    },
    "papermill": {
     "duration": 0.023893,
     "end_time": "2025-07-28T10:30:40.153196",
     "exception": false,
     "start_time": "2025-07-28T10:30:40.129303",
     "status": "completed"
    },
    "tags": []
   },
   "outputs": [
    {
     "data": {
      "text/plain": [
       "accuracy                   0.208684\n",
       "balanced accuracy          0.534186\n",
       "f1                         0.239629\n",
       "precision                  0.136660\n",
       "false positive rate        0.903647\n",
       "false negative rate        0.027981\n",
       "selection rate             0.912418\n",
       "count                  89710.000000\n",
       "dtype: float64"
      ]
     },
     "execution_count": 67,
     "metadata": {},
     "output_type": "execute_result"
    }
   ],
   "source": [
    "metric_frame.overall"
   ]
  },
  {
   "cell_type": "markdown",
   "id": "e968fe9d",
   "metadata": {
    "papermill": {
     "duration": 0.01332,
     "end_time": "2025-07-28T10:30:40.180917",
     "exception": false,
     "start_time": "2025-07-28T10:30:40.167597",
     "status": "completed"
    },
    "tags": []
   },
   "source": [
    "By Group"
   ]
  },
  {
   "cell_type": "code",
   "execution_count": 68,
   "id": "ec325bce",
   "metadata": {
    "execution": {
     "iopub.execute_input": "2025-07-28T10:30:40.208904Z",
     "iopub.status.busy": "2025-07-28T10:30:40.208395Z",
     "iopub.status.idle": "2025-07-28T10:30:40.220987Z",
     "shell.execute_reply": "2025-07-28T10:30:40.220263Z"
    },
    "papermill": {
     "duration": 0.028233,
     "end_time": "2025-07-28T10:30:40.222405",
     "exception": false,
     "start_time": "2025-07-28T10:30:40.194172",
     "status": "completed"
    },
    "tags": []
   },
   "outputs": [
    {
     "data": {
      "text/html": [
       "<div>\n",
       "<style scoped>\n",
       "    .dataframe tbody tr th:only-of-type {\n",
       "        vertical-align: middle;\n",
       "    }\n",
       "\n",
       "    .dataframe tbody tr th {\n",
       "        vertical-align: top;\n",
       "    }\n",
       "\n",
       "    .dataframe thead th {\n",
       "        text-align: right;\n",
       "    }\n",
       "</style>\n",
       "<table border=\"1\" class=\"dataframe\">\n",
       "  <thead>\n",
       "    <tr style=\"text-align: right;\">\n",
       "      <th></th>\n",
       "      <th>accuracy</th>\n",
       "      <th>balanced accuracy</th>\n",
       "      <th>f1</th>\n",
       "      <th>precision</th>\n",
       "      <th>false positive rate</th>\n",
       "      <th>false negative rate</th>\n",
       "      <th>selection rate</th>\n",
       "      <th>count</th>\n",
       "    </tr>\n",
       "    <tr>\n",
       "      <th>majmin</th>\n",
       "      <th></th>\n",
       "      <th></th>\n",
       "      <th></th>\n",
       "      <th></th>\n",
       "      <th></th>\n",
       "      <th></th>\n",
       "      <th></th>\n",
       "      <th></th>\n",
       "    </tr>\n",
       "  </thead>\n",
       "  <tbody>\n",
       "    <tr>\n",
       "      <th>majority</th>\n",
       "      <td>0.195764</td>\n",
       "      <td>0.532947</td>\n",
       "      <td>0.245698</td>\n",
       "      <td>0.140228</td>\n",
       "      <td>0.925354</td>\n",
       "      <td>0.008753</td>\n",
       "      <td>0.934061</td>\n",
       "      <td>69170.0</td>\n",
       "    </tr>\n",
       "    <tr>\n",
       "      <th>minority</th>\n",
       "      <td>0.252191</td>\n",
       "      <td>0.532932</td>\n",
       "      <td>0.216806</td>\n",
       "      <td>0.123289</td>\n",
       "      <td>0.831939</td>\n",
       "      <td>0.102196</td>\n",
       "      <td>0.839533</td>\n",
       "      <td>20540.0</td>\n",
       "    </tr>\n",
       "  </tbody>\n",
       "</table>\n",
       "</div>"
      ],
      "text/plain": [
       "          accuracy  balanced accuracy        f1  precision  \\\n",
       "majmin                                                       \n",
       "majority  0.195764           0.532947  0.245698   0.140228   \n",
       "minority  0.252191           0.532932  0.216806   0.123289   \n",
       "\n",
       "          false positive rate  false negative rate  selection rate    count  \n",
       "majmin                                                                       \n",
       "majority             0.925354             0.008753        0.934061  69170.0  \n",
       "minority             0.831939             0.102196        0.839533  20540.0  "
      ]
     },
     "execution_count": 68,
     "metadata": {},
     "output_type": "execute_result"
    }
   ],
   "source": [
    "metric_frame.by_group"
   ]
  },
  {
   "cell_type": "code",
   "execution_count": 69,
   "id": "a9ddbe63",
   "metadata": {
    "execution": {
     "iopub.execute_input": "2025-07-28T10:30:40.252213Z",
     "iopub.status.busy": "2025-07-28T10:30:40.251580Z",
     "iopub.status.idle": "2025-07-28T10:30:41.885656Z",
     "shell.execute_reply": "2025-07-28T10:30:41.884671Z"
    },
    "papermill": {
     "duration": 1.649816,
     "end_time": "2025-07-28T10:30:41.886968",
     "exception": false,
     "start_time": "2025-07-28T10:30:40.237152",
     "status": "completed"
    },
    "tags": []
   },
   "outputs": [
    {
     "data": {
      "text/plain": [
       "array([[<Axes: title={'center': 'accuracy'}, xlabel='majmin'>,\n",
       "        <Axes: title={'center': 'balanced accuracy'}, xlabel='majmin'>,\n",
       "        <Axes: title={'center': 'f1'}, xlabel='majmin'>],\n",
       "       [<Axes: title={'center': 'precision'}, xlabel='majmin'>,\n",
       "        <Axes: title={'center': 'false positive rate'}, xlabel='majmin'>,\n",
       "        <Axes: title={'center': 'false negative rate'}, xlabel='majmin'>],\n",
       "       [<Axes: title={'center': 'selection rate'}, xlabel='majmin'>,\n",
       "        <Axes: title={'center': 'count'}, xlabel='majmin'>,\n",
       "        <Axes: xlabel='majmin'>]], dtype=object)"
      ]
     },
     "execution_count": 69,
     "metadata": {},
     "output_type": "execute_result"
    },
    {
     "data": {
      "image/png": "[encoded data removed]",
      "text/plain": [
       "<Figure size 1200x800 with 9 Axes>"
      ]
     },
     "metadata": {},
     "output_type": "display_data"
    }
   ],
   "source": [
    "# In a graphic\n",
    "metric_frame.by_group.plot.bar(\n",
    "    subplots=True,\n",
    "    layout=[3, 3],\n",
    "    legend=False,\n",
    "    figsize=[12, 8],\n",
    "    title=\"Show all metrics\",\n",
    ")"
   ]
  },
  {
   "cell_type": "markdown",
   "id": "f57a0bac",
   "metadata": {
    "papermill": {
     "duration": 0.014952,
     "end_time": "2025-07-28T10:30:41.917799",
     "exception": false,
     "start_time": "2025-07-28T10:30:41.902847",
     "status": "completed"
    },
    "tags": []
   },
   "source": [
    "# Final Output"
   ]
  },
  {
   "cell_type": "code",
   "execution_count": 70,
   "id": "96d280a3",
   "metadata": {
    "execution": {
     "iopub.execute_input": "2025-07-28T10:30:41.948842Z",
     "iopub.status.busy": "2025-07-28T10:30:41.948350Z",
     "iopub.status.idle": "2025-07-28T10:30:41.955342Z",
     "shell.execute_reply": "2025-07-28T10:30:41.954573Z"
    },
    "papermill": {
     "duration": 0.024147,
     "end_time": "2025-07-28T10:30:41.956704",
     "exception": false,
     "start_time": "2025-07-28T10:30:41.932557",
     "status": "completed"
    },
    "tags": []
   },
   "outputs": [
    {
     "data": {
      "text/plain": [
       "4"
      ]
     },
     "execution_count": 70,
     "metadata": {},
     "output_type": "execute_result"
    }
   ],
   "source": [
    "sub_universes = universe_analysis.generate_sub_universes()\n",
    "len(sub_universes)"
   ]
  },
  {
   "cell_type": "code",
   "execution_count": 71,
   "id": "92adf7ba",
   "metadata": {
    "execution": {
     "iopub.execute_input": "2025-07-28T10:30:41.988693Z",
     "iopub.status.busy": "2025-07-28T10:30:41.988343Z",
     "iopub.status.idle": "2025-07-28T10:30:42.006261Z",
     "shell.execute_reply": "2025-07-28T10:30:42.005425Z"
    },
    "papermill": {
     "duration": 0.035408,
     "end_time": "2025-07-28T10:30:42.007734",
     "exception": false,
     "start_time": "2025-07-28T10:30:41.972326",
     "status": "completed"
    },
    "tags": []
   },
   "outputs": [],
   "source": [
    "def filter_sub_universe_data(sub_universe, org_test):\n",
    "    # Keep all rows — no filtering\n",
    "    keep_rows_mask = np.ones(org_test.shape[0], dtype=bool)\n",
    "\n",
    "    print(f\"[INFO] Keeping all rows: {keep_rows_mask.sum()} rows retained.\")\n",
    "    return keep_rows_mask"
   ]
  },
  {
   "cell_type": "code",
   "execution_count": 72,
   "id": "4a759155",
   "metadata": {
    "execution": {
     "iopub.execute_input": "2025-07-28T10:30:42.040902Z",
     "iopub.status.busy": "2025-07-28T10:30:42.040332Z",
     "iopub.status.idle": "2025-07-28T10:30:49.854425Z",
     "shell.execute_reply": "2025-07-28T10:30:49.853526Z"
    },
    "papermill": {
     "duration": 7.832075,
     "end_time": "2025-07-28T10:30:49.856012",
     "exception": false,
     "start_time": "2025-07-28T10:30:42.023937",
     "status": "completed"
    },
    "tags": []
   },
   "outputs": [
    {
     "name": "stdout",
     "output_type": "stream",
     "text": [
      "Stopping execution_time clock.\n",
      "[INFO] Keeping all rows: 89710 rows retained.\n"
     ]
    },
    {
     "name": "stdout",
     "output_type": "stream",
     "text": [
      "[INFO] Keeping all rows: 89710 rows retained.\n"
     ]
    },
    {
     "name": "stdout",
     "output_type": "stream",
     "text": [
      "[INFO] Keeping all rows: 89710 rows retained.\n"
     ]
    },
    {
     "name": "stdout",
     "output_type": "stream",
     "text": [
      "[INFO] Keeping all rows: 89710 rows retained.\n"
     ]
    },
    {
     "data": {
      "text/html": [
       "<div>\n",
       "<style scoped>\n",
       "    .dataframe tbody tr th:only-of-type {\n",
       "        vertical-align: middle;\n",
       "    }\n",
       "\n",
       "    .dataframe tbody tr th {\n",
       "        vertical-align: top;\n",
       "    }\n",
       "\n",
       "    .dataframe thead th {\n",
       "        text-align: right;\n",
       "    }\n",
       "</style>\n",
       "<table border=\"1\" class=\"dataframe\">\n",
       "  <thead>\n",
       "    <tr style=\"text-align: right;\">\n",
       "      <th></th>\n",
       "      <th>run_no</th>\n",
       "      <th>universe_id</th>\n",
       "      <th>universe_settings</th>\n",
       "      <th>execution_time</th>\n",
       "      <th>test_size_n</th>\n",
       "      <th>test_size_frac</th>\n",
       "      <th>fair_main_equalized_odds_difference</th>\n",
       "      <th>fair_main_equalized_odds_ratio</th>\n",
       "      <th>fair_main_demographic_parity_difference</th>\n",
       "      <th>fair_main_demographic_parity_ratio</th>\n",
       "      <th>...</th>\n",
       "      <th>perf_grp_precision_0</th>\n",
       "      <th>perf_grp_precision_1</th>\n",
       "      <th>perf_grp_false positive rate_0</th>\n",
       "      <th>perf_grp_false positive rate_1</th>\n",
       "      <th>perf_grp_false negative rate_0</th>\n",
       "      <th>perf_grp_false negative rate_1</th>\n",
       "      <th>perf_grp_selection rate_0</th>\n",
       "      <th>perf_grp_selection rate_1</th>\n",
       "      <th>perf_grp_count_0</th>\n",
       "      <th>perf_grp_count_1</th>\n",
       "    </tr>\n",
       "  </thead>\n",
       "  <tbody>\n",
       "    <tr>\n",
       "      <th>0</th>\n",
       "      <td>11</td>\n",
       "      <td>283271716941611532fe0323fe12e61e</td>\n",
       "      <td>{\"cutoff\": \"quantile_0.1\", \"eval_fairness_grou...</td>\n",
       "      <td>29.150448</td>\n",
       "      <td>89710</td>\n",
       "      <td>1.0</td>\n",
       "      <td>0.093443</td>\n",
       "      <td>0.899050</td>\n",
       "      <td>0.094528</td>\n",
       "      <td>0.898798</td>\n",
       "      <td>...</td>\n",
       "      <td>NaN</td>\n",
       "      <td>NaN</td>\n",
       "      <td>NaN</td>\n",
       "      <td>NaN</td>\n",
       "      <td>NaN</td>\n",
       "      <td>NaN</td>\n",
       "      <td>NaN</td>\n",
       "      <td>NaN</td>\n",
       "      <td>NaN</td>\n",
       "      <td>NaN</td>\n",
       "    </tr>\n",
       "    <tr>\n",
       "      <th>0</th>\n",
       "      <td>11</td>\n",
       "      <td>283271716941611532fe0323fe12e61e</td>\n",
       "      <td>{\"cutoff\": \"quantile_0.1\", \"eval_fairness_grou...</td>\n",
       "      <td>29.150448</td>\n",
       "      <td>89710</td>\n",
       "      <td>1.0</td>\n",
       "      <td>0.093443</td>\n",
       "      <td>0.899050</td>\n",
       "      <td>0.094528</td>\n",
       "      <td>0.898798</td>\n",
       "      <td>...</td>\n",
       "      <td>0.123289</td>\n",
       "      <td>0.140228</td>\n",
       "      <td>0.831939</td>\n",
       "      <td>0.925354</td>\n",
       "      <td>0.102196</td>\n",
       "      <td>0.008753</td>\n",
       "      <td>0.839533</td>\n",
       "      <td>0.934061</td>\n",
       "      <td>20540.0</td>\n",
       "      <td>69170.0</td>\n",
       "    </tr>\n",
       "    <tr>\n",
       "      <th>0</th>\n",
       "      <td>11</td>\n",
       "      <td>283271716941611532fe0323fe12e61e</td>\n",
       "      <td>{\"cutoff\": \"quantile_0.25\", \"eval_fairness_gro...</td>\n",
       "      <td>29.150448</td>\n",
       "      <td>89710</td>\n",
       "      <td>1.0</td>\n",
       "      <td>0.148898</td>\n",
       "      <td>0.844234</td>\n",
       "      <td>0.110784</td>\n",
       "      <td>0.859602</td>\n",
       "      <td>...</td>\n",
       "      <td>NaN</td>\n",
       "      <td>NaN</td>\n",
       "      <td>NaN</td>\n",
       "      <td>NaN</td>\n",
       "      <td>NaN</td>\n",
       "      <td>NaN</td>\n",
       "      <td>NaN</td>\n",
       "      <td>NaN</td>\n",
       "      <td>NaN</td>\n",
       "      <td>NaN</td>\n",
       "    </tr>\n",
       "    <tr>\n",
       "      <th>0</th>\n",
       "      <td>11</td>\n",
       "      <td>283271716941611532fe0323fe12e61e</td>\n",
       "      <td>{\"cutoff\": \"quantile_0.25\", \"eval_fairness_gro...</td>\n",
       "      <td>29.150448</td>\n",
       "      <td>89710</td>\n",
       "      <td>1.0</td>\n",
       "      <td>0.148898</td>\n",
       "      <td>0.844234</td>\n",
       "      <td>0.110784</td>\n",
       "      <td>0.859602</td>\n",
       "      <td>...</td>\n",
       "      <td>0.137166</td>\n",
       "      <td>0.160077</td>\n",
       "      <td>0.661512</td>\n",
       "      <td>0.763668</td>\n",
       "      <td>0.192990</td>\n",
       "      <td>0.044092</td>\n",
       "      <td>0.678286</td>\n",
       "      <td>0.789070</td>\n",
       "      <td>20540.0</td>\n",
       "      <td>69170.0</td>\n",
       "    </tr>\n",
       "  </tbody>\n",
       "</table>\n",
       "<p>4 rows × 50 columns</p>\n",
       "</div>"
      ],
      "text/plain": [
       "  run_no                       universe_id  \\\n",
       "0     11  283271716941611532fe0323fe12e61e   \n",
       "0     11  283271716941611532fe0323fe12e61e   \n",
       "0     11  283271716941611532fe0323fe12e61e   \n",
       "0     11  283271716941611532fe0323fe12e61e   \n",
       "\n",
       "                                   universe_settings  execution_time  \\\n",
       "0  {\"cutoff\": \"quantile_0.1\", \"eval_fairness_grou...       29.150448   \n",
       "0  {\"cutoff\": \"quantile_0.1\", \"eval_fairness_grou...       29.150448   \n",
       "0  {\"cutoff\": \"quantile_0.25\", \"eval_fairness_gro...       29.150448   \n",
       "0  {\"cutoff\": \"quantile_0.25\", \"eval_fairness_gro...       29.150448   \n",
       "\n",
       "   test_size_n  test_size_frac  fair_main_equalized_odds_difference  \\\n",
       "0        89710             1.0                             0.093443   \n",
       "0        89710             1.0                             0.093443   \n",
       "0        89710             1.0                             0.148898   \n",
       "0        89710             1.0                             0.148898   \n",
       "\n",
       "   fair_main_equalized_odds_ratio  fair_main_demographic_parity_difference  \\\n",
       "0                        0.899050                                 0.094528   \n",
       "0                        0.899050                                 0.094528   \n",
       "0                        0.844234                                 0.110784   \n",
       "0                        0.844234                                 0.110784   \n",
       "\n",
       "   fair_main_demographic_parity_ratio  ...  perf_grp_precision_0  \\\n",
       "0                            0.898798  ...                   NaN   \n",
       "0                            0.898798  ...              0.123289   \n",
       "0                            0.859602  ...                   NaN   \n",
       "0                            0.859602  ...              0.137166   \n",
       "\n",
       "   perf_grp_precision_1  perf_grp_false positive rate_0  \\\n",
       "0                   NaN                             NaN   \n",
       "0              0.140228                        0.831939   \n",
       "0                   NaN                             NaN   \n",
       "0              0.160077                        0.661512   \n",
       "\n",
       "   perf_grp_false positive rate_1  perf_grp_false negative rate_0  \\\n",
       "0                             NaN                             NaN   \n",
       "0                        0.925354                        0.102196   \n",
       "0                             NaN                             NaN   \n",
       "0                        0.763668                        0.192990   \n",
       "\n",
       "   perf_grp_false negative rate_1  perf_grp_selection rate_0  \\\n",
       "0                             NaN                        NaN   \n",
       "0                        0.008753                   0.839533   \n",
       "0                             NaN                        NaN   \n",
       "0                        0.044092                   0.678286   \n",
       "\n",
       "   perf_grp_selection rate_1  perf_grp_count_0  perf_grp_count_1  \n",
       "0                        NaN               NaN               NaN  \n",
       "0                   0.934061           20540.0           69170.0  \n",
       "0                        NaN               NaN               NaN  \n",
       "0                   0.789070           20540.0           69170.0  \n",
       "\n",
       "[4 rows x 50 columns]"
      ]
     },
     "execution_count": 72,
     "metadata": {},
     "output_type": "execute_result"
    }
   ],
   "source": [
    "final_output = universe_analysis.generate_final_output(\n",
    "    y_pred_prob=probs_test,\n",
    "    y_test=y_true,\n",
    "    org_test=org_test,\n",
    "    filter_data=filter_sub_universe_data,\n",
    "    cp_metrics_df=cp_metrics_df,\n",
    "    save=True,\n",
    ")\n",
    "final_output"
   ]
  },
  {
   "cell_type": "code",
   "execution_count": null,
   "id": "721ff514-cb11-46f8-b6fc-50392f74b5cb",
   "metadata": {
    "papermill": {
     "duration": 0.028679,
     "end_time": "2025-07-28T10:30:49.916441",
     "exception": false,
     "start_time": "2025-07-28T10:30:49.887762",
     "status": "completed"
    },
    "tags": []
   },
   "outputs": [],
   "source": []
  }
 ],
 "metadata": {
  "celltoolbar": "Tags",
  "kernelspec": {
   "display_name": "Python (CMA Fairness)",
   "language": "python",
   "name": "cma_fair_env"
  },
  "language_info": {
   "codemirror_mode": {
    "name": "ipython",
    "version": 3
   },
   "file_extension": ".py",
   "mimetype": "text/x-python",
   "name": "python",
   "nbconvert_exporter": "python",
   "pygments_lexer": "ipython3",
   "version": "3.10.12"
  },
  "papermill": {
   "default_parameters": {},
   "duration": 42.094279,
   "end_time": "2025-07-28T10:30:50.868152",
   "environment_variables": {},
   "exception": null,
   "input_path": "universe_analysis.ipynb",
   "output_path": "output/runs/11/notebooks/m_11-283271716941611532fe0323fe12e61e.ipynb",
   "parameters": {
    "output_dir": "output",
    "run_no": "11",
    "seed": "2023",
    "universe": "{\"cutoff\": [\"quantile_0.1\", \"quantile_0.25\"], \"eval_fairness_grouping\": [\"majority-minority\", \"nationality-all\"], \"exclude_features\": \"sex\", \"exclude_subgroups\": \"keep-all\", \"model\": \"rf\", \"scale\": \"scale\", \"training_size\": \"5k\"}",
    "universe_id": "283271716941611532fe0323fe12e61e"
   },
   "start_time": "2025-07-28T10:30:08.773873",
   "version": "2.6.0"
  }
 },
 "nbformat": 4,
 "nbformat_minor": 5
}