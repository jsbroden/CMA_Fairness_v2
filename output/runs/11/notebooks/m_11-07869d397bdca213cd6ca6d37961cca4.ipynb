{
 "cells": [
  {
   "cell_type": "code",
   "execution_count": 1,
   "id": "f159f837-637b-42ba-96b5-ec9a68c44524",
   "metadata": {
    "execution": {
     "iopub.execute_input": "2025-07-15T13:21:08.346831Z",
     "iopub.status.busy": "2025-07-15T13:21:08.345940Z",
     "iopub.status.idle": "2025-07-15T13:21:08.359564Z",
     "shell.execute_reply": "2025-07-15T13:21:08.358496Z"
    },
    "papermill": {
     "duration": 0.031128,
     "end_time": "2025-07-15T13:21:08.361659",
     "exception": false,
     "start_time": "2025-07-15T13:21:08.330531",
     "status": "completed"
    },
    "tags": []
   },
   "outputs": [
    {
     "name": "stdout",
     "output_type": "stream",
     "text": [
      "/dss/dsshome1/0C/ra93lal2/cma/CMA_Fairness_v2\n"
     ]
    },
    {
     "name": "stderr",
     "output_type": "stream",
     "text": [
      "/dss/dsshome1/0C/ra93lal2/.local/share/virtualenvs/CMA_Fairness_v2-3j10GkSs/lib/python3.10/site-packages/IPython/core/magics/osm.py:393: UserWarning: This is now an optional IPython functionality, using bookmarks requires you to install the `pickleshare` library.\n",
      "  bkms = self.shell.db.get('bookmarks', {})\n",
      "/dss/dsshome1/0C/ra93lal2/.local/share/virtualenvs/CMA_Fairness_v2-3j10GkSs/lib/python3.10/site-packages/IPython/core/magics/osm.py:417: UserWarning: This is now an optional IPython functionality, setting dhist requires you to install the `pickleshare` library.\n",
      "  self.shell.db['dhist'] = compress_dhist(dhist)[-100:]\n"
     ]
    }
   ],
   "source": [
    "%cd ~/cma/CMA_Fairness_v2"
   ]
  },
  {
   "cell_type": "markdown",
   "id": "de2603b9",
   "metadata": {
    "papermill": {
     "duration": 0.013575,
     "end_time": "2025-07-15T13:21:08.390956",
     "exception": false,
     "start_time": "2025-07-15T13:21:08.377381",
     "status": "completed"
    },
    "tags": []
   },
   "source": [
    "The following cell holds the definition of our parameters, these values can be overriden by rendering the with e.g. the following command:\n",
    "\n",
    "papermill -p alpha 0.2 -p ratio 0.3 universe_analysis.ipynb output/test_run.ipynb"
   ]
  },
  {
   "cell_type": "code",
   "execution_count": 2,
   "id": "a80968a0-40bb-4fa9-85ef-2d5eefb01975",
   "metadata": {
    "execution": {
     "iopub.execute_input": "2025-07-15T13:21:08.419971Z",
     "iopub.status.busy": "2025-07-15T13:21:08.419330Z",
     "iopub.status.idle": "2025-07-15T13:21:08.425197Z",
     "shell.execute_reply": "2025-07-15T13:21:08.424267Z"
    },
    "papermill": {
     "duration": 0.022506,
     "end_time": "2025-07-15T13:21:08.426936",
     "exception": false,
     "start_time": "2025-07-15T13:21:08.404430",
     "status": "completed"
    },
    "tags": []
   },
   "outputs": [
    {
     "name": "stdout",
     "output_type": "stream",
     "text": [
      "Current working directory: /dss/dsshome1/0C/ra93lal2/cma/CMA_Fairness_v2\n"
     ]
    }
   ],
   "source": [
    "import os\n",
    "print(\"Current working directory:\", os.getcwd())"
   ]
  },
  {
   "cell_type": "code",
   "execution_count": 3,
   "id": "2dce4c03",
   "metadata": {
    "execution": {
     "iopub.execute_input": "2025-07-15T13:21:08.457075Z",
     "iopub.status.busy": "2025-07-15T13:21:08.456163Z",
     "iopub.status.idle": "2025-07-15T13:21:08.462341Z",
     "shell.execute_reply": "2025-07-15T13:21:08.461456Z"
    },
    "papermill": {
     "duration": 0.022523,
     "end_time": "2025-07-15T13:21:08.464168",
     "exception": false,
     "start_time": "2025-07-15T13:21:08.441645",
     "status": "completed"
    },
    "tags": [
     "parameters"
    ]
   },
   "outputs": [],
   "source": [
    "run_no = 0\n",
    "universe_id = \"test\"\n",
    "universe = {\n",
    "    #\"scale\": \"scale\", # \"scale\", \"do-not-scale\",\n",
    "    #\"encode_categorical\": \"one-hot\", # \"ordinal\", \"one-hot\"\n",
    "    \"model\": \"elasticnet\", # \"logreg\", \"penalized_logreg\", \"rf\", \"gbm\", \"elasticnet\"\n",
    "    \"cutoff\": [\"quantile_0.15\", \"quantile_0.30\"],\n",
    "    \"exclude_features\": \"nationality-sex\", # \"none\", \"nationality\", \"sex\", \"nationality-sex\"\n",
    "    \"exclude_subgroups\": \"keep-all\", # \"keep-all\", \"drop-non-german\"\n",
    "    \"eval_fairness_grouping\": [\"majority-minority\", \"nationality-all\"]\n",
    "}\n",
    "\n",
    "output_dir=\"./output\"\n",
    "seed=0"
   ]
  },
  {
   "cell_type": "code",
   "execution_count": 4,
   "id": "9dbaab6e",
   "metadata": {
    "execution": {
     "iopub.execute_input": "2025-07-15T13:21:08.495448Z",
     "iopub.status.busy": "2025-07-15T13:21:08.494857Z",
     "iopub.status.idle": "2025-07-15T13:21:08.500351Z",
     "shell.execute_reply": "2025-07-15T13:21:08.499354Z"
    },
    "papermill": {
     "duration": 0.023475,
     "end_time": "2025-07-15T13:21:08.503287",
     "exception": false,
     "start_time": "2025-07-15T13:21:08.479812",
     "status": "completed"
    },
    "tags": [
     "injected-parameters"
    ]
   },
   "outputs": [],
   "source": [
    "# Parameters\n",
    "universe_id = \"07869d397bdca213cd6ca6d37961cca4\"\n",
    "run_no = \"11\"\n",
    "universe = \"{\\\"cutoff\\\": [\\\"quantile_0.1\\\", \\\"quantile_0.25\\\"], \\\"eval_fairness_grouping\\\": [\\\"majority-minority\\\", \\\"nationality-all\\\"], \\\"exclude_features\\\": \\\"nationality\\\", \\\"exclude_subgroups\\\": \\\"drop-non-german\\\", \\\"model\\\": \\\"elasticnet\\\"}\"\n",
    "output_dir = \"output\"\n",
    "seed = \"2023\"\n"
   ]
  },
  {
   "cell_type": "code",
   "execution_count": 5,
   "id": "1650acaf",
   "metadata": {
    "execution": {
     "iopub.execute_input": "2025-07-15T13:21:08.533969Z",
     "iopub.status.busy": "2025-07-15T13:21:08.533129Z",
     "iopub.status.idle": "2025-07-15T13:21:08.538254Z",
     "shell.execute_reply": "2025-07-15T13:21:08.537314Z"
    },
    "papermill": {
     "duration": 0.021549,
     "end_time": "2025-07-15T13:21:08.539948",
     "exception": false,
     "start_time": "2025-07-15T13:21:08.518399",
     "status": "completed"
    },
    "tags": []
   },
   "outputs": [],
   "source": [
    "import json\n",
    "# Parse universe into dict if it is passed as a string\n",
    "if isinstance(universe, str):\n",
    "    universe = json.loads(universe)"
   ]
  },
  {
   "cell_type": "code",
   "execution_count": 6,
   "id": "16620c48",
   "metadata": {
    "execution": {
     "iopub.execute_input": "2025-07-15T13:21:08.571008Z",
     "iopub.status.busy": "2025-07-15T13:21:08.570255Z",
     "iopub.status.idle": "2025-07-15T13:21:08.621625Z",
     "shell.execute_reply": "2025-07-15T13:21:08.620530Z"
    },
    "papermill": {
     "duration": 0.068463,
     "end_time": "2025-07-15T13:21:08.623654",
     "exception": false,
     "start_time": "2025-07-15T13:21:08.555191",
     "status": "completed"
    },
    "tags": []
   },
   "outputs": [],
   "source": [
    "# Auto-reload the custom package\n",
    "%load_ext autoreload\n",
    "%autoreload 1\n",
    "%aimport fairness_multiverse"
   ]
  },
  {
   "cell_type": "code",
   "execution_count": 7,
   "id": "01c5c9f3",
   "metadata": {
    "execution": {
     "iopub.execute_input": "2025-07-15T13:21:08.655259Z",
     "iopub.status.busy": "2025-07-15T13:21:08.654290Z",
     "iopub.status.idle": "2025-07-15T13:21:10.749334Z",
     "shell.execute_reply": "2025-07-15T13:21:10.748299Z"
    },
    "papermill": {
     "duration": 2.112782,
     "end_time": "2025-07-15T13:21:10.751199",
     "exception": false,
     "start_time": "2025-07-15T13:21:08.638417",
     "status": "completed"
    },
    "tags": []
   },
   "outputs": [],
   "source": [
    "from fairness_multiverse.universe import UniverseAnalysis\n",
    "\n",
    "universe_analysis = UniverseAnalysis(\n",
    "    run_no = run_no,\n",
    "    universe_id = universe_id,\n",
    "    universe = universe,\n",
    "    output_dir=output_dir,\n",
    ")"
   ]
  },
  {
   "cell_type": "code",
   "execution_count": 8,
   "id": "106241f5",
   "metadata": {
    "execution": {
     "iopub.execute_input": "2025-07-15T13:21:10.783640Z",
     "iopub.status.busy": "2025-07-15T13:21:10.782989Z",
     "iopub.status.idle": "2025-07-15T13:21:10.789527Z",
     "shell.execute_reply": "2025-07-15T13:21:10.788537Z"
    },
    "papermill": {
     "duration": 0.023994,
     "end_time": "2025-07-15T13:21:10.791088",
     "exception": false,
     "start_time": "2025-07-15T13:21:10.767094",
     "status": "completed"
    },
    "tags": []
   },
   "outputs": [
    {
     "name": "stdout",
     "output_type": "stream",
     "text": [
      "Using Seed: 2023\n"
     ]
    }
   ],
   "source": [
    "import numpy as np\n",
    "parsed_seed = int(seed)\n",
    "np.random.seed(parsed_seed)\n",
    "print(f\"Using Seed: {parsed_seed}\")"
   ]
  },
  {
   "cell_type": "markdown",
   "id": "e0ebdc57",
   "metadata": {
    "papermill": {
     "duration": 0.014196,
     "end_time": "2025-07-15T13:21:10.820766",
     "exception": false,
     "start_time": "2025-07-15T13:21:10.806570",
     "status": "completed"
    },
    "tags": []
   },
   "source": [
    "# Loading Data"
   ]
  },
  {
   "cell_type": "markdown",
   "id": "681925a3",
   "metadata": {
    "papermill": {
     "duration": 0.014028,
     "end_time": "2025-07-15T13:21:10.848897",
     "exception": false,
     "start_time": "2025-07-15T13:21:10.834869",
     "status": "completed"
    },
    "tags": []
   },
   "source": [
    "Load siab_train, siab_test, siab_calib and/or \n",
    "load siab_train_features, siab_train_labels"
   ]
  },
  {
   "cell_type": "code",
   "execution_count": 9,
   "id": "f0496b8a",
   "metadata": {
    "execution": {
     "iopub.execute_input": "2025-07-15T13:21:10.878903Z",
     "iopub.status.busy": "2025-07-15T13:21:10.878226Z",
     "iopub.status.idle": "2025-07-15T13:21:20.374285Z",
     "shell.execute_reply": "2025-07-15T13:21:20.373234Z"
    },
    "papermill": {
     "duration": 9.513146,
     "end_time": "2025-07-15T13:21:20.376162",
     "exception": false,
     "start_time": "2025-07-15T13:21:10.863016",
     "status": "completed"
    },
    "tags": []
   },
   "outputs": [
    {
     "name": "stdout",
     "output_type": "stream",
     "text": [
      "Loading SIAB data from cache: data/siab_cached.csv.gz\n"
     ]
    },
    {
     "name": "stdout",
     "output_type": "stream",
     "text": [
      "(643690, 164)\n"
     ]
    }
   ],
   "source": [
    "# Do I need to load siab? Delete this cell?\n",
    "\n",
    "from pathlib import Path\n",
    "import pandas as pd\n",
    "\n",
    "# File paths\n",
    "raw_file = Path(\"data/raw/siab.csv\")\n",
    "cache_file = Path(\"data/siab_cached.csv.gz\")\n",
    "\n",
    "# Ensure cache directory exists\n",
    "cache_file.parent.mkdir(parents=True, exist_ok=True)\n",
    "\n",
    "# Load with simple caching\n",
    "if cache_file.exists():\n",
    "    print(f\"Loading SIAB data from cache: {cache_file}\")\n",
    "    siab = pd.read_csv(cache_file, compression='gzip')\n",
    "else:\n",
    "    print(f\"Cache not found. Reading raw SIAB data: {raw_file}\")\n",
    "    siab = pd.read_csv(raw_file)\n",
    "    siab.to_csv(cache_file, index=False, compression='gzip')\n",
    "    print(f\"Cached SIAB data to: {cache_file}\")\n",
    "\n",
    "# Now use `siab` DataFrame as needed\n",
    "print(siab.shape)\n"
   ]
  },
  {
   "cell_type": "code",
   "execution_count": 10,
   "id": "a0edb063",
   "metadata": {
    "execution": {
     "iopub.execute_input": "2025-07-15T13:21:20.410784Z",
     "iopub.status.busy": "2025-07-15T13:21:20.410288Z",
     "iopub.status.idle": "2025-07-15T13:21:20.784522Z",
     "shell.execute_reply": "2025-07-15T13:21:20.783565Z"
    },
    "papermill": {
     "duration": 0.392704,
     "end_time": "2025-07-15T13:21:20.786508",
     "exception": false,
     "start_time": "2025-07-15T13:21:20.393804",
     "status": "completed"
    },
    "tags": []
   },
   "outputs": [],
   "source": [
    "import pandas as pd\n",
    "\n",
    "X_train = pd.read_csv(\"./data/X_train.csv\")\n",
    "y_train = pd.read_csv(\"./data/y_train.csv\")"
   ]
  },
  {
   "cell_type": "code",
   "execution_count": 11,
   "id": "63d08085",
   "metadata": {
    "execution": {
     "iopub.execute_input": "2025-07-15T13:21:20.818128Z",
     "iopub.status.busy": "2025-07-15T13:21:20.817665Z",
     "iopub.status.idle": "2025-07-15T13:21:22.045291Z",
     "shell.execute_reply": "2025-07-15T13:21:22.044489Z"
    },
    "papermill": {
     "duration": 1.245144,
     "end_time": "2025-07-15T13:21:22.047006",
     "exception": false,
     "start_time": "2025-07-15T13:21:20.801862",
     "status": "completed"
    },
    "tags": []
   },
   "outputs": [],
   "source": [
    "X_test = pd.read_csv(\"./data/X_test.csv\")\n",
    "y_true = pd.read_csv(\"./data/y_test.csv\")"
   ]
  },
  {
   "cell_type": "code",
   "execution_count": 12,
   "id": "98a8d0fa-1d3d-4ed8-bb2c-281470e24add",
   "metadata": {
    "execution": {
     "iopub.execute_input": "2025-07-15T13:21:22.077962Z",
     "iopub.status.busy": "2025-07-15T13:21:22.077625Z",
     "iopub.status.idle": "2025-07-15T13:21:23.308600Z",
     "shell.execute_reply": "2025-07-15T13:21:23.307596Z"
    },
    "papermill": {
     "duration": 1.248405,
     "end_time": "2025-07-15T13:21:23.310553",
     "exception": false,
     "start_time": "2025-07-15T13:21:22.062148",
     "status": "completed"
    },
    "tags": []
   },
   "outputs": [],
   "source": [
    "# Calibration data for conformal\n",
    "X_calib = pd.read_csv(\"./data/X_calib.csv\")\n",
    "y_calib = pd.read_csv(\"./data/y_calib.csv\")"
   ]
  },
  {
   "cell_type": "code",
   "execution_count": 13,
   "id": "e6c733c5",
   "metadata": {
    "execution": {
     "iopub.execute_input": "2025-07-15T13:21:23.345073Z",
     "iopub.status.busy": "2025-07-15T13:21:23.344145Z",
     "iopub.status.idle": "2025-07-15T13:21:23.418508Z",
     "shell.execute_reply": "2025-07-15T13:21:23.417486Z"
    },
    "papermill": {
     "duration": 0.093157,
     "end_time": "2025-07-15T13:21:23.420727",
     "exception": false,
     "start_time": "2025-07-15T13:21:23.327570",
     "status": "completed"
    },
    "tags": []
   },
   "outputs": [],
   "source": [
    "# Auxiliary data needed downstream in the pipeline\n",
    "\n",
    "org_train = X_train.copy()\n",
    "org_test = X_test.copy()\n",
    "org_calib = X_calib.copy()"
   ]
  },
  {
   "cell_type": "code",
   "execution_count": 14,
   "id": "e33f5cce",
   "metadata": {
    "execution": {
     "iopub.execute_input": "2025-07-15T13:21:23.454960Z",
     "iopub.status.busy": "2025-07-15T13:21:23.454136Z",
     "iopub.status.idle": "2025-07-15T13:21:23.568985Z",
     "shell.execute_reply": "2025-07-15T13:21:23.567953Z"
    },
    "papermill": {
     "duration": 0.134033,
     "end_time": "2025-07-15T13:21:23.570931",
     "exception": false,
     "start_time": "2025-07-15T13:21:23.436898",
     "status": "completed"
    },
    "tags": []
   },
   "outputs": [
    {
     "data": {
      "text/html": [
       "<div>\n",
       "<style scoped>\n",
       "    .dataframe tbody tr th:only-of-type {\n",
       "        vertical-align: middle;\n",
       "    }\n",
       "\n",
       "    .dataframe tbody tr th {\n",
       "        vertical-align: top;\n",
       "    }\n",
       "\n",
       "    .dataframe thead th {\n",
       "        text-align: right;\n",
       "    }\n",
       "</style>\n",
       "<table border=\"1\" class=\"dataframe\">\n",
       "  <thead>\n",
       "    <tr style=\"text-align: right;\">\n",
       "      <th></th>\n",
       "      <th>persnr</th>\n",
       "      <th>year</th>\n",
       "      <th>nrEntry</th>\n",
       "      <th>ltue</th>\n",
       "      <th>employed_before</th>\n",
       "      <th>receipt_leh_before</th>\n",
       "      <th>receipt_lhg_before</th>\n",
       "      <th>se_before</th>\n",
       "      <th>ASU_notue_seeking_before</th>\n",
       "      <th>ASU_other_before</th>\n",
       "      <th>...</th>\n",
       "      <th>minijob_tot_dur_byage</th>\n",
       "      <th>ft_tot_dur_byage</th>\n",
       "      <th>befrist_tot_dur_byage</th>\n",
       "      <th>leih_tot_dur_byage</th>\n",
       "      <th>LHG_tot_dur_byage</th>\n",
       "      <th>LEH_tot_dur_byage</th>\n",
       "      <th>almp_tot_dur_byage</th>\n",
       "      <th>almp_aw_tot_dur_byage</th>\n",
       "      <th>se_tot_dur_byage</th>\n",
       "      <th>seeking1_tot_dur_byage</th>\n",
       "    </tr>\n",
       "  </thead>\n",
       "  <tbody>\n",
       "    <tr>\n",
       "      <th>0</th>\n",
       "      <td>7</td>\n",
       "      <td>2015</td>\n",
       "      <td>1</td>\n",
       "      <td>0</td>\n",
       "      <td>1</td>\n",
       "      <td>0</td>\n",
       "      <td>0</td>\n",
       "      <td>0</td>\n",
       "      <td>1</td>\n",
       "      <td>0</td>\n",
       "      <td>...</td>\n",
       "      <td>0.000000</td>\n",
       "      <td>0.000000</td>\n",
       "      <td>15.043478</td>\n",
       "      <td>0.000000</td>\n",
       "      <td>0.000000</td>\n",
       "      <td>0.000000</td>\n",
       "      <td>0.000000</td>\n",
       "      <td>0.000000</td>\n",
       "      <td>0.000000</td>\n",
       "      <td>0.000000</td>\n",
       "    </tr>\n",
       "    <tr>\n",
       "      <th>1</th>\n",
       "      <td>18</td>\n",
       "      <td>2010</td>\n",
       "      <td>1</td>\n",
       "      <td>1</td>\n",
       "      <td>0</td>\n",
       "      <td>0</td>\n",
       "      <td>0</td>\n",
       "      <td>0</td>\n",
       "      <td>0</td>\n",
       "      <td>0</td>\n",
       "      <td>...</td>\n",
       "      <td>0.000000</td>\n",
       "      <td>0.000000</td>\n",
       "      <td>0.000000</td>\n",
       "      <td>0.000000</td>\n",
       "      <td>0.000000</td>\n",
       "      <td>0.000000</td>\n",
       "      <td>0.000000</td>\n",
       "      <td>0.000000</td>\n",
       "      <td>0.000000</td>\n",
       "      <td>0.000000</td>\n",
       "    </tr>\n",
       "    <tr>\n",
       "      <th>2</th>\n",
       "      <td>18</td>\n",
       "      <td>2011</td>\n",
       "      <td>2</td>\n",
       "      <td>0</td>\n",
       "      <td>1</td>\n",
       "      <td>0</td>\n",
       "      <td>1</td>\n",
       "      <td>0</td>\n",
       "      <td>1</td>\n",
       "      <td>0</td>\n",
       "      <td>...</td>\n",
       "      <td>2.714286</td>\n",
       "      <td>2.714286</td>\n",
       "      <td>0.000000</td>\n",
       "      <td>0.000000</td>\n",
       "      <td>10.775510</td>\n",
       "      <td>0.000000</td>\n",
       "      <td>8.367347</td>\n",
       "      <td>0.000000</td>\n",
       "      <td>0.000000</td>\n",
       "      <td>9.836735</td>\n",
       "    </tr>\n",
       "    <tr>\n",
       "      <th>3</th>\n",
       "      <td>18</td>\n",
       "      <td>2012</td>\n",
       "      <td>3</td>\n",
       "      <td>0</td>\n",
       "      <td>1</td>\n",
       "      <td>0</td>\n",
       "      <td>1</td>\n",
       "      <td>0</td>\n",
       "      <td>1</td>\n",
       "      <td>0</td>\n",
       "      <td>...</td>\n",
       "      <td>4.200000</td>\n",
       "      <td>4.200000</td>\n",
       "      <td>0.000000</td>\n",
       "      <td>0.000000</td>\n",
       "      <td>12.100000</td>\n",
       "      <td>0.000000</td>\n",
       "      <td>9.400000</td>\n",
       "      <td>0.000000</td>\n",
       "      <td>0.000000</td>\n",
       "      <td>9.960000</td>\n",
       "    </tr>\n",
       "    <tr>\n",
       "      <th>4</th>\n",
       "      <td>18</td>\n",
       "      <td>2012</td>\n",
       "      <td>4</td>\n",
       "      <td>0</td>\n",
       "      <td>1</td>\n",
       "      <td>0</td>\n",
       "      <td>1</td>\n",
       "      <td>0</td>\n",
       "      <td>1</td>\n",
       "      <td>0</td>\n",
       "      <td>...</td>\n",
       "      <td>5.460000</td>\n",
       "      <td>5.460000</td>\n",
       "      <td>0.000000</td>\n",
       "      <td>0.000000</td>\n",
       "      <td>13.360000</td>\n",
       "      <td>0.000000</td>\n",
       "      <td>10.320000</td>\n",
       "      <td>0.000000</td>\n",
       "      <td>0.000000</td>\n",
       "      <td>10.280000</td>\n",
       "    </tr>\n",
       "    <tr>\n",
       "      <th>...</th>\n",
       "      <td>...</td>\n",
       "      <td>...</td>\n",
       "      <td>...</td>\n",
       "      <td>...</td>\n",
       "      <td>...</td>\n",
       "      <td>...</td>\n",
       "      <td>...</td>\n",
       "      <td>...</td>\n",
       "      <td>...</td>\n",
       "      <td>...</td>\n",
       "      <td>...</td>\n",
       "      <td>...</td>\n",
       "      <td>...</td>\n",
       "      <td>...</td>\n",
       "      <td>...</td>\n",
       "      <td>...</td>\n",
       "      <td>...</td>\n",
       "      <td>...</td>\n",
       "      <td>...</td>\n",
       "      <td>...</td>\n",
       "      <td>...</td>\n",
       "    </tr>\n",
       "    <tr>\n",
       "      <th>643685</th>\n",
       "      <td>1827860</td>\n",
       "      <td>2013</td>\n",
       "      <td>1</td>\n",
       "      <td>0</td>\n",
       "      <td>0</td>\n",
       "      <td>0</td>\n",
       "      <td>1</td>\n",
       "      <td>0</td>\n",
       "      <td>0</td>\n",
       "      <td>1</td>\n",
       "      <td>...</td>\n",
       "      <td>0.000000</td>\n",
       "      <td>0.000000</td>\n",
       "      <td>0.000000</td>\n",
       "      <td>0.000000</td>\n",
       "      <td>0.612903</td>\n",
       "      <td>0.000000</td>\n",
       "      <td>0.000000</td>\n",
       "      <td>0.000000</td>\n",
       "      <td>0.000000</td>\n",
       "      <td>0.000000</td>\n",
       "    </tr>\n",
       "    <tr>\n",
       "      <th>643686</th>\n",
       "      <td>1827860</td>\n",
       "      <td>2015</td>\n",
       "      <td>2</td>\n",
       "      <td>1</td>\n",
       "      <td>0</td>\n",
       "      <td>0</td>\n",
       "      <td>1</td>\n",
       "      <td>0</td>\n",
       "      <td>1</td>\n",
       "      <td>0</td>\n",
       "      <td>...</td>\n",
       "      <td>0.000000</td>\n",
       "      <td>0.000000</td>\n",
       "      <td>0.212121</td>\n",
       "      <td>0.212121</td>\n",
       "      <td>17.363636</td>\n",
       "      <td>0.000000</td>\n",
       "      <td>8.909091</td>\n",
       "      <td>0.000000</td>\n",
       "      <td>0.000000</td>\n",
       "      <td>7.121212</td>\n",
       "    </tr>\n",
       "    <tr>\n",
       "      <th>643687</th>\n",
       "      <td>1827860</td>\n",
       "      <td>2016</td>\n",
       "      <td>3</td>\n",
       "      <td>1</td>\n",
       "      <td>0</td>\n",
       "      <td>0</td>\n",
       "      <td>1</td>\n",
       "      <td>1</td>\n",
       "      <td>0</td>\n",
       "      <td>1</td>\n",
       "      <td>...</td>\n",
       "      <td>0.000000</td>\n",
       "      <td>0.000000</td>\n",
       "      <td>0.294118</td>\n",
       "      <td>0.205882</td>\n",
       "      <td>34.705882</td>\n",
       "      <td>0.000000</td>\n",
       "      <td>10.352941</td>\n",
       "      <td>1.705882</td>\n",
       "      <td>1.705882</td>\n",
       "      <td>23.911765</td>\n",
       "    </tr>\n",
       "    <tr>\n",
       "      <th>643688</th>\n",
       "      <td>1827869</td>\n",
       "      <td>2013</td>\n",
       "      <td>1</td>\n",
       "      <td>1</td>\n",
       "      <td>1</td>\n",
       "      <td>0</td>\n",
       "      <td>0</td>\n",
       "      <td>0</td>\n",
       "      <td>1</td>\n",
       "      <td>0</td>\n",
       "      <td>...</td>\n",
       "      <td>0.000000</td>\n",
       "      <td>0.000000</td>\n",
       "      <td>0.000000</td>\n",
       "      <td>0.000000</td>\n",
       "      <td>0.000000</td>\n",
       "      <td>0.525424</td>\n",
       "      <td>0.000000</td>\n",
       "      <td>0.000000</td>\n",
       "      <td>0.000000</td>\n",
       "      <td>0.000000</td>\n",
       "    </tr>\n",
       "    <tr>\n",
       "      <th>643689</th>\n",
       "      <td>1827869</td>\n",
       "      <td>2014</td>\n",
       "      <td>2</td>\n",
       "      <td>0</td>\n",
       "      <td>0</td>\n",
       "      <td>1</td>\n",
       "      <td>0</td>\n",
       "      <td>0</td>\n",
       "      <td>1</td>\n",
       "      <td>0</td>\n",
       "      <td>...</td>\n",
       "      <td>0.000000</td>\n",
       "      <td>0.666667</td>\n",
       "      <td>0.666667</td>\n",
       "      <td>0.000000</td>\n",
       "      <td>0.000000</td>\n",
       "      <td>8.950000</td>\n",
       "      <td>1.033333</td>\n",
       "      <td>0.083333</td>\n",
       "      <td>0.083333</td>\n",
       "      <td>8.133333</td>\n",
       "    </tr>\n",
       "  </tbody>\n",
       "</table>\n",
       "<p>643690 rows × 164 columns</p>\n",
       "</div>"
      ],
      "text/plain": [
       "         persnr  year  nrEntry  ltue  employed_before  receipt_leh_before  \\\n",
       "0             7  2015        1     0                1                   0   \n",
       "1            18  2010        1     1                0                   0   \n",
       "2            18  2011        2     0                1                   0   \n",
       "3            18  2012        3     0                1                   0   \n",
       "4            18  2012        4     0                1                   0   \n",
       "...         ...   ...      ...   ...              ...                 ...   \n",
       "643685  1827860  2013        1     0                0                   0   \n",
       "643686  1827860  2015        2     1                0                   0   \n",
       "643687  1827860  2016        3     1                0                   0   \n",
       "643688  1827869  2013        1     1                1                   0   \n",
       "643689  1827869  2014        2     0                0                   1   \n",
       "\n",
       "        receipt_lhg_before  se_before  ASU_notue_seeking_before  \\\n",
       "0                        0          0                         1   \n",
       "1                        0          0                         0   \n",
       "2                        1          0                         1   \n",
       "3                        1          0                         1   \n",
       "4                        1          0                         1   \n",
       "...                    ...        ...                       ...   \n",
       "643685                   1          0                         0   \n",
       "643686                   1          0                         1   \n",
       "643687                   1          1                         0   \n",
       "643688                   0          0                         1   \n",
       "643689                   0          0                         1   \n",
       "\n",
       "        ASU_other_before  ...  minijob_tot_dur_byage  ft_tot_dur_byage  \\\n",
       "0                      0  ...               0.000000          0.000000   \n",
       "1                      0  ...               0.000000          0.000000   \n",
       "2                      0  ...               2.714286          2.714286   \n",
       "3                      0  ...               4.200000          4.200000   \n",
       "4                      0  ...               5.460000          5.460000   \n",
       "...                  ...  ...                    ...               ...   \n",
       "643685                 1  ...               0.000000          0.000000   \n",
       "643686                 0  ...               0.000000          0.000000   \n",
       "643687                 1  ...               0.000000          0.000000   \n",
       "643688                 0  ...               0.000000          0.000000   \n",
       "643689                 0  ...               0.000000          0.666667   \n",
       "\n",
       "        befrist_tot_dur_byage  leih_tot_dur_byage  LHG_tot_dur_byage  \\\n",
       "0                   15.043478            0.000000           0.000000   \n",
       "1                    0.000000            0.000000           0.000000   \n",
       "2                    0.000000            0.000000          10.775510   \n",
       "3                    0.000000            0.000000          12.100000   \n",
       "4                    0.000000            0.000000          13.360000   \n",
       "...                       ...                 ...                ...   \n",
       "643685               0.000000            0.000000           0.612903   \n",
       "643686               0.212121            0.212121          17.363636   \n",
       "643687               0.294118            0.205882          34.705882   \n",
       "643688               0.000000            0.000000           0.000000   \n",
       "643689               0.666667            0.000000           0.000000   \n",
       "\n",
       "        LEH_tot_dur_byage  almp_tot_dur_byage  almp_aw_tot_dur_byage  \\\n",
       "0                0.000000            0.000000               0.000000   \n",
       "1                0.000000            0.000000               0.000000   \n",
       "2                0.000000            8.367347               0.000000   \n",
       "3                0.000000            9.400000               0.000000   \n",
       "4                0.000000           10.320000               0.000000   \n",
       "...                   ...                 ...                    ...   \n",
       "643685           0.000000            0.000000               0.000000   \n",
       "643686           0.000000            8.909091               0.000000   \n",
       "643687           0.000000           10.352941               1.705882   \n",
       "643688           0.525424            0.000000               0.000000   \n",
       "643689           8.950000            1.033333               0.083333   \n",
       "\n",
       "        se_tot_dur_byage  seeking1_tot_dur_byage  \n",
       "0               0.000000                0.000000  \n",
       "1               0.000000                0.000000  \n",
       "2               0.000000                9.836735  \n",
       "3               0.000000                9.960000  \n",
       "4               0.000000               10.280000  \n",
       "...                  ...                     ...  \n",
       "643685          0.000000                0.000000  \n",
       "643686          0.000000                7.121212  \n",
       "643687          1.705882               23.911765  \n",
       "643688          0.000000                0.000000  \n",
       "643689          0.083333                8.133333  \n",
       "\n",
       "[643690 rows x 164 columns]"
      ]
     },
     "execution_count": 14,
     "metadata": {},
     "output_type": "execute_result"
    }
   ],
   "source": [
    "siab"
   ]
  },
  {
   "cell_type": "markdown",
   "id": "ad49c3ce",
   "metadata": {
    "papermill": {
     "duration": 0.01717,
     "end_time": "2025-07-15T13:21:23.606246",
     "exception": false,
     "start_time": "2025-07-15T13:21:23.589076",
     "status": "completed"
    },
    "tags": []
   },
   "source": [
    "Pre-Processing for Selected Task -> skipped. I think I don't need this"
   ]
  },
  {
   "cell_type": "markdown",
   "id": "0a4a1b33",
   "metadata": {
    "papermill": {
     "duration": 0.017195,
     "end_time": "2025-07-15T13:21:23.641072",
     "exception": false,
     "start_time": "2025-07-15T13:21:23.623877",
     "status": "completed"
    },
    "tags": []
   },
   "source": [
    "# Preprocessing Data"
   ]
  },
  {
   "cell_type": "code",
   "execution_count": 15,
   "id": "ca879031",
   "metadata": {
    "execution": {
     "iopub.execute_input": "2025-07-15T13:21:23.679341Z",
     "iopub.status.busy": "2025-07-15T13:21:23.678627Z",
     "iopub.status.idle": "2025-07-15T13:21:23.684747Z",
     "shell.execute_reply": "2025-07-15T13:21:23.683791Z"
    },
    "papermill": {
     "duration": 0.027847,
     "end_time": "2025-07-15T13:21:23.686970",
     "exception": false,
     "start_time": "2025-07-15T13:21:23.659123",
     "status": "completed"
    },
    "tags": []
   },
   "outputs": [],
   "source": [
    "# EXCLUDE PROTECTED FEATURES\n",
    "# ----------------------\n",
    "# \"exclude_features\": \"none\", # \"nationality\", \"sex\", \"nationality-sex\"\n",
    "\n",
    "excluded_features = universe[\"exclude_features\"].split(\"-\") # split, e.g.: \"nationality-sex\" -> [\"nationality\", \"sex\"]\n",
    "excluded_features_dictionary = {\n",
    "    \"nationality\": [\"maxdeutsch1\", \"maxdeutsch.Missing.\"],\n",
    "    \"sex\": [\"frau1\"],\n",
    "}\n"
   ]
  },
  {
   "cell_type": "code",
   "execution_count": 16,
   "id": "b745ac60",
   "metadata": {
    "execution": {
     "iopub.execute_input": "2025-07-15T13:21:23.726724Z",
     "iopub.status.busy": "2025-07-15T13:21:23.725833Z",
     "iopub.status.idle": "2025-07-15T13:21:23.730797Z",
     "shell.execute_reply": "2025-07-15T13:21:23.729992Z"
    },
    "papermill": {
     "duration": 0.025614,
     "end_time": "2025-07-15T13:21:23.732173",
     "exception": false,
     "start_time": "2025-07-15T13:21:23.706559",
     "status": "completed"
    },
    "tags": []
   },
   "outputs": [],
   "source": [
    "# Code nice names to column names\n",
    "\n",
    "excluded_features_columns = [\n",
    "    excluded_features_dictionary[f] for f in excluded_features if len(f) > 0 and f != \"none\"\n",
    "]"
   ]
  },
  {
   "cell_type": "code",
   "execution_count": 17,
   "id": "f84f73a2",
   "metadata": {
    "execution": {
     "iopub.execute_input": "2025-07-15T13:21:23.752425Z",
     "iopub.status.busy": "2025-07-15T13:21:23.751797Z",
     "iopub.status.idle": "2025-07-15T13:21:23.757329Z",
     "shell.execute_reply": "2025-07-15T13:21:23.756444Z"
    },
    "papermill": {
     "duration": 0.016396,
     "end_time": "2025-07-15T13:21:23.758923",
     "exception": false,
     "start_time": "2025-07-15T13:21:23.742527",
     "status": "completed"
    },
    "tags": []
   },
   "outputs": [],
   "source": [
    "from utils import flatten_once\n",
    "\n",
    "excluded_features_columns = flatten_once(excluded_features_columns)"
   ]
  },
  {
   "cell_type": "code",
   "execution_count": 18,
   "id": "884dea22",
   "metadata": {
    "execution": {
     "iopub.execute_input": "2025-07-15T13:21:23.779467Z",
     "iopub.status.busy": "2025-07-15T13:21:23.779050Z",
     "iopub.status.idle": "2025-07-15T13:21:23.793189Z",
     "shell.execute_reply": "2025-07-15T13:21:23.791978Z"
    },
    "papermill": {
     "duration": 0.025605,
     "end_time": "2025-07-15T13:21:23.794756",
     "exception": false,
     "start_time": "2025-07-15T13:21:23.769151",
     "status": "completed"
    },
    "tags": []
   },
   "outputs": [
    {
     "name": "stdout",
     "output_type": "stream",
     "text": [
      "Dropping features: ['maxdeutsch1', 'maxdeutsch.Missing.']\n"
     ]
    }
   ],
   "source": [
    "if len(excluded_features_columns) > 0:\n",
    "    print(f\"Dropping features: {excluded_features_columns}\")\n",
    "    X_train.drop(excluded_features_columns, axis=1, inplace=True)"
   ]
  },
  {
   "cell_type": "code",
   "execution_count": 19,
   "id": "95ab8b16",
   "metadata": {
    "execution": {
     "iopub.execute_input": "2025-07-15T13:21:23.815382Z",
     "iopub.status.busy": "2025-07-15T13:21:23.814876Z",
     "iopub.status.idle": "2025-07-15T13:21:23.863966Z",
     "shell.execute_reply": "2025-07-15T13:21:23.863020Z"
    },
    "papermill": {
     "duration": 0.060743,
     "end_time": "2025-07-15T13:21:23.865818",
     "exception": false,
     "start_time": "2025-07-15T13:21:23.805075",
     "status": "completed"
    },
    "tags": []
   },
   "outputs": [
    {
     "name": "stdout",
     "output_type": "stream",
     "text": [
      "Dropping features: ['maxdeutsch1', 'maxdeutsch.Missing.']\n"
     ]
    }
   ],
   "source": [
    "if len(excluded_features_columns) > 0:\n",
    "    print(f\"Dropping features: {excluded_features_columns}\")\n",
    "    X_test.drop(excluded_features_columns, axis=1, inplace=True)"
   ]
  },
  {
   "cell_type": "code",
   "execution_count": 20,
   "id": "1853aaf5-fb9f-46cb-a2b5-8ea4ae2237e4",
   "metadata": {
    "execution": {
     "iopub.execute_input": "2025-07-15T13:21:23.886183Z",
     "iopub.status.busy": "2025-07-15T13:21:23.885715Z",
     "iopub.status.idle": "2025-07-15T13:21:23.917520Z",
     "shell.execute_reply": "2025-07-15T13:21:23.916509Z"
    },
    "papermill": {
     "duration": 0.043021,
     "end_time": "2025-07-15T13:21:23.919104",
     "exception": false,
     "start_time": "2025-07-15T13:21:23.876083",
     "status": "completed"
    },
    "tags": []
   },
   "outputs": [
    {
     "name": "stdout",
     "output_type": "stream",
     "text": [
      "Dropping features: ['maxdeutsch1', 'maxdeutsch.Missing.']\n"
     ]
    }
   ],
   "source": [
    "if len(excluded_features_columns) > 0:\n",
    "    print(f\"Dropping features: {excluded_features_columns}\")\n",
    "    X_calib.drop(excluded_features_columns, axis=1, inplace=True)"
   ]
  },
  {
   "cell_type": "code",
   "execution_count": 21,
   "id": "76c4dc6d",
   "metadata": {
    "execution": {
     "iopub.execute_input": "2025-07-15T13:21:23.940842Z",
     "iopub.status.busy": "2025-07-15T13:21:23.940115Z",
     "iopub.status.idle": "2025-07-15T13:21:23.944886Z",
     "shell.execute_reply": "2025-07-15T13:21:23.944072Z"
    },
    "papermill": {
     "duration": 0.016354,
     "end_time": "2025-07-15T13:21:23.946300",
     "exception": false,
     "start_time": "2025-07-15T13:21:23.929946",
     "status": "completed"
    },
    "tags": []
   },
   "outputs": [],
   "source": [
    "# EXCLUDE CERTAIN SUBGROUPS\n",
    "# ----------------------\n",
    "\n",
    "mode = universe.get(\"exclude_subgroups\", \"keep-all\") \n",
    "# Fetches the exclude_subgroups setting from the universe dict.\n",
    "# Defaults to \"keep-all\" if the key is missing."
   ]
  },
  {
   "cell_type": "code",
   "execution_count": 22,
   "id": "21994072",
   "metadata": {
    "execution": {
     "iopub.execute_input": "2025-07-15T13:21:23.967994Z",
     "iopub.status.busy": "2025-07-15T13:21:23.967531Z",
     "iopub.status.idle": "2025-07-15T13:21:23.973635Z",
     "shell.execute_reply": "2025-07-15T13:21:23.972864Z"
    },
    "papermill": {
     "duration": 0.018111,
     "end_time": "2025-07-15T13:21:23.975105",
     "exception": false,
     "start_time": "2025-07-15T13:21:23.956994",
     "status": "completed"
    },
    "tags": []
   },
   "outputs": [],
   "source": [
    "if mode == \"keep-all\":\n",
    "    keep_mask = pd.Series(True, index=org_train.index)\n",
    "\n",
    "# org_train contains the original feature columns from features_org (in Simson)\n",
    "# features_org contains unprocessed features, for me X_train at beginning ???\n",
    "# For keep-all, creates a boolean Series (keep_mask) of all True, so no rows are removed.\n",
    "\n",
    "elif mode == \"drop-non-german\":\n",
    "    keep_mask = org_train[\"maxdeutsch1\"] == 1 # ??? what about missing values?\n",
    "\n",
    "else:\n",
    "    raise ValueError(f\"Unsupported mode for exclude_subgroups: {mode}\")\n"
   ]
  },
  {
   "cell_type": "code",
   "execution_count": 23,
   "id": "71651440",
   "metadata": {
    "execution": {
     "iopub.execute_input": "2025-07-15T13:21:23.996421Z",
     "iopub.status.busy": "2025-07-15T13:21:23.996024Z",
     "iopub.status.idle": "2025-07-15T13:21:24.002938Z",
     "shell.execute_reply": "2025-07-15T13:21:24.002091Z"
    },
    "papermill": {
     "duration": 0.019072,
     "end_time": "2025-07-15T13:21:24.004685",
     "exception": false,
     "start_time": "2025-07-15T13:21:23.985613",
     "status": "completed"
    },
    "tags": []
   },
   "outputs": [
    {
     "name": "stdout",
     "output_type": "stream",
     "text": [
      "Dropping 3312 rows (13.25%) where mode='drop-non-german'\n"
     ]
    }
   ],
   "source": [
    "n_drop = (~keep_mask).sum() # Calculates how many rows are set to be dropped\n",
    "if n_drop > 0:\n",
    "    pct = n_drop / len(keep_mask) * 100\n",
    "    print(f\"Dropping {n_drop} rows ({pct:.2f}%) where mode='{mode}'\")"
   ]
  },
  {
   "cell_type": "code",
   "execution_count": 24,
   "id": "5fb8eee5",
   "metadata": {
    "execution": {
     "iopub.execute_input": "2025-07-15T13:21:24.026684Z",
     "iopub.status.busy": "2025-07-15T13:21:24.025898Z",
     "iopub.status.idle": "2025-07-15T13:21:24.039356Z",
     "shell.execute_reply": "2025-07-15T13:21:24.038472Z"
    },
    "papermill": {
     "duration": 0.026187,
     "end_time": "2025-07-15T13:21:24.041327",
     "exception": false,
     "start_time": "2025-07-15T13:21:24.015140",
     "status": "completed"
    },
    "tags": []
   },
   "outputs": [],
   "source": [
    "X_train = X_train[keep_mask]"
   ]
  },
  {
   "cell_type": "code",
   "execution_count": 25,
   "id": "b202bb3a",
   "metadata": {
    "execution": {
     "iopub.execute_input": "2025-07-15T13:21:24.063477Z",
     "iopub.status.busy": "2025-07-15T13:21:24.062714Z",
     "iopub.status.idle": "2025-07-15T13:21:24.068102Z",
     "shell.execute_reply": "2025-07-15T13:21:24.067333Z"
    },
    "papermill": {
     "duration": 0.017598,
     "end_time": "2025-07-15T13:21:24.069676",
     "exception": false,
     "start_time": "2025-07-15T13:21:24.052078",
     "status": "completed"
    },
    "tags": []
   },
   "outputs": [],
   "source": [
    "y_train = y_train[keep_mask]"
   ]
  },
  {
   "cell_type": "markdown",
   "id": "493e2ac3",
   "metadata": {
    "papermill": {
     "duration": 0.009589,
     "end_time": "2025-07-15T13:21:24.094113",
     "exception": false,
     "start_time": "2025-07-15T13:21:24.084524",
     "status": "completed"
    },
    "tags": []
   },
   "source": [
    "# Model Training"
   ]
  },
  {
   "cell_type": "code",
   "execution_count": 26,
   "id": "679e1268",
   "metadata": {
    "execution": {
     "iopub.execute_input": "2025-07-15T13:21:24.114097Z",
     "iopub.status.busy": "2025-07-15T13:21:24.113548Z",
     "iopub.status.idle": "2025-07-15T13:21:24.246300Z",
     "shell.execute_reply": "2025-07-15T13:21:24.245494Z"
    },
    "papermill": {
     "duration": 0.144699,
     "end_time": "2025-07-15T13:21:24.247886",
     "exception": false,
     "start_time": "2025-07-15T13:21:24.103187",
     "status": "completed"
    },
    "tags": []
   },
   "outputs": [],
   "source": [
    "from sklearn.linear_model import LogisticRegression\n",
    "from sklearn.ensemble import GradientBoostingClassifier, RandomForestClassifier\n",
    "\n",
    "if (universe[\"model\"] == \"logreg\"):\n",
    "    model = LogisticRegression() #penalty=\"none\") #, solver=\"newton-cg\", max_iter=1) # include random_state=19 ?\n",
    "elif (universe[\"model\"] == \"penalized_logreg\"):\n",
    "    model = LogisticRegression(penalty=\"l2\", C=1.0) #, solver=\"newton-cg\", max_iter=1)\n",
    "elif (universe[\"model\"] == \"rf\"):\n",
    "    model = RandomForestClassifier(n_estimators=100, n_jobs=-1)\n",
    "elif (universe[\"model\"] == \"gbm\"):\n",
    "    model = GradientBoostingClassifier()\n",
    "elif (universe[\"model\"] == \"elasticnet\"):\n",
    "    model = LogisticRegression(penalty = 'elasticnet', solver = 'saga', l1_ratio = 0.5, max_iter=5000) # which solver to use?\n",
    "else:\n",
    "    raise \"Unsupported universe.model\""
   ]
  },
  {
   "cell_type": "code",
   "execution_count": 27,
   "id": "0cc8f744",
   "metadata": {
    "execution": {
     "iopub.execute_input": "2025-07-15T13:21:24.270194Z",
     "iopub.status.busy": "2025-07-15T13:21:24.269422Z",
     "iopub.status.idle": "2025-07-15T13:21:24.275285Z",
     "shell.execute_reply": "2025-07-15T13:21:24.274391Z"
    },
    "papermill": {
     "duration": 0.018602,
     "end_time": "2025-07-15T13:21:24.277104",
     "exception": false,
     "start_time": "2025-07-15T13:21:24.258502",
     "status": "completed"
    },
    "tags": []
   },
   "outputs": [],
   "source": [
    "import numpy as np\n",
    "from sklearn.pipeline import Pipeline\n",
    "from sklearn.preprocessing import StandardScaler\n",
    "from sklearn.metrics import accuracy_score\n",
    "\n",
    "model = Pipeline([\n",
    "    #(\"continuous_processor\", continuous_processor),\n",
    "    #(\"categorical_preprocessor\", categorical_preprocessor),\n",
    "    #(\"scale\", StandardScaler() if universe[\"scale\"] == \"scale\" else None),\n",
    "    (\"model\", model),\n",
    "])"
   ]
  },
  {
   "cell_type": "code",
   "execution_count": 28,
   "id": "9442c04d",
   "metadata": {
    "execution": {
     "iopub.execute_input": "2025-07-15T13:21:24.299232Z",
     "iopub.status.busy": "2025-07-15T13:21:24.298583Z",
     "iopub.status.idle": "2025-07-15T13:24:33.986679Z",
     "shell.execute_reply": "2025-07-15T13:24:33.985478Z"
    },
    "papermill": {
     "duration": 189.711626,
     "end_time": "2025-07-15T13:24:33.999682",
     "exception": false,
     "start_time": "2025-07-15T13:21:24.288056",
     "status": "completed"
    },
    "tags": []
   },
   "outputs": [
    {
     "data": {
      "text/html": [
       "<style>#sk-container-id-1 {color: black;background-color: white;}#sk-container-id-1 pre{padding: 0;}#sk-container-id-1 div.sk-toggleable {background-color: white;}#sk-container-id-1 label.sk-toggleable__label {cursor: pointer;display: block;width: 100%;margin-bottom: 0;padding: 0.3em;box-sizing: border-box;text-align: center;}#sk-container-id-1 label.sk-toggleable__label-arrow:before {content: \"▸\";float: left;margin-right: 0.25em;color: #696969;}#sk-container-id-1 label.sk-toggleable__label-arrow:hover:before {color: black;}#sk-container-id-1 div.sk-estimator:hover label.sk-toggleable__label-arrow:before {color: black;}#sk-container-id-1 div.sk-toggleable__content {max-height: 0;max-width: 0;overflow: hidden;text-align: left;background-color: #f0f8ff;}#sk-container-id-1 div.sk-toggleable__content pre {margin: 0.2em;color: black;border-radius: 0.25em;background-color: #f0f8ff;}#sk-container-id-1 input.sk-toggleable__control:checked~div.sk-toggleable__content {max-height: 200px;max-width: 100%;overflow: auto;}#sk-container-id-1 input.sk-toggleable__control:checked~label.sk-toggleable__label-arrow:before {content: \"▾\";}#sk-container-id-1 div.sk-estimator input.sk-toggleable__control:checked~label.sk-toggleable__label {background-color: #d4ebff;}#sk-container-id-1 div.sk-label input.sk-toggleable__control:checked~label.sk-toggleable__label {background-color: #d4ebff;}#sk-container-id-1 input.sk-hidden--visually {border: 0;clip: rect(1px 1px 1px 1px);clip: rect(1px, 1px, 1px, 1px);height: 1px;margin: -1px;overflow: hidden;padding: 0;position: absolute;width: 1px;}#sk-container-id-1 div.sk-estimator {font-family: monospace;background-color: #f0f8ff;border: 1px dotted black;border-radius: 0.25em;box-sizing: border-box;margin-bottom: 0.5em;}#sk-container-id-1 div.sk-estimator:hover {background-color: #d4ebff;}#sk-container-id-1 div.sk-parallel-item::after {content: \"\";width: 100%;border-bottom: 1px solid gray;flex-grow: 1;}#sk-container-id-1 div.sk-label:hover label.sk-toggleable__label {background-color: #d4ebff;}#sk-container-id-1 div.sk-serial::before {content: \"\";position: absolute;border-left: 1px solid gray;box-sizing: border-box;top: 0;bottom: 0;left: 50%;z-index: 0;}#sk-container-id-1 div.sk-serial {display: flex;flex-direction: column;align-items: center;background-color: white;padding-right: 0.2em;padding-left: 0.2em;position: relative;}#sk-container-id-1 div.sk-item {position: relative;z-index: 1;}#sk-container-id-1 div.sk-parallel {display: flex;align-items: stretch;justify-content: center;background-color: white;position: relative;}#sk-container-id-1 div.sk-item::before, #sk-container-id-1 div.sk-parallel-item::before {content: \"\";position: absolute;border-left: 1px solid gray;box-sizing: border-box;top: 0;bottom: 0;left: 50%;z-index: -1;}#sk-container-id-1 div.sk-parallel-item {display: flex;flex-direction: column;z-index: 1;position: relative;background-color: white;}#sk-container-id-1 div.sk-parallel-item:first-child::after {align-self: flex-end;width: 50%;}#sk-container-id-1 div.sk-parallel-item:last-child::after {align-self: flex-start;width: 50%;}#sk-container-id-1 div.sk-parallel-item:only-child::after {width: 0;}#sk-container-id-1 div.sk-dashed-wrapped {border: 1px dashed gray;margin: 0 0.4em 0.5em 0.4em;box-sizing: border-box;padding-bottom: 0.4em;background-color: white;}#sk-container-id-1 div.sk-label label {font-family: monospace;font-weight: bold;display: inline-block;line-height: 1.2em;}#sk-container-id-1 div.sk-label-container {text-align: center;}#sk-container-id-1 div.sk-container {/* jupyter's `normalize.less` sets `[hidden] { display: none; }` but bootstrap.min.css set `[hidden] { display: none !important; }` so we also need the `!important` here to be able to override the default hidden behavior on the sphinx rendered scikit-learn.org. See: https://github.com/scikit-learn/scikit-learn/issues/21755 */display: inline-block !important;position: relative;}#sk-container-id-1 div.sk-text-repr-fallback {display: none;}</style><div id=\"sk-container-id-1\" class=\"sk-top-container\"><div class=\"sk-text-repr-fallback\"><pre>Pipeline(steps=[(&#x27;model&#x27;,\n",
       "                 LogisticRegression(l1_ratio=0.5, max_iter=5000,\n",
       "                                    penalty=&#x27;elasticnet&#x27;, solver=&#x27;saga&#x27;))])</pre><b>In a Jupyter environment, please rerun this cell to show the HTML representation or trust the notebook. <br />On GitHub, the HTML representation is unable to render, please try loading this page with nbviewer.org.</b></div><div class=\"sk-container\" hidden><div class=\"sk-item sk-dashed-wrapped\"><div class=\"sk-label-container\"><div class=\"sk-label sk-toggleable\"><input class=\"sk-toggleable__control sk-hidden--visually\" id=\"sk-estimator-id-1\" type=\"checkbox\" ><label for=\"sk-estimator-id-1\" class=\"sk-toggleable__label sk-toggleable__label-arrow\">Pipeline</label><div class=\"sk-toggleable__content\"><pre>Pipeline(steps=[(&#x27;model&#x27;,\n",
       "                 LogisticRegression(l1_ratio=0.5, max_iter=5000,\n",
       "                                    penalty=&#x27;elasticnet&#x27;, solver=&#x27;saga&#x27;))])</pre></div></div></div><div class=\"sk-serial\"><div class=\"sk-item\"><div class=\"sk-estimator sk-toggleable\"><input class=\"sk-toggleable__control sk-hidden--visually\" id=\"sk-estimator-id-2\" type=\"checkbox\" ><label for=\"sk-estimator-id-2\" class=\"sk-toggleable__label sk-toggleable__label-arrow\">LogisticRegression</label><div class=\"sk-toggleable__content\"><pre>LogisticRegression(l1_ratio=0.5, max_iter=5000, penalty=&#x27;elasticnet&#x27;,\n",
       "                   solver=&#x27;saga&#x27;)</pre></div></div></div></div></div></div></div>"
      ],
      "text/plain": [
       "Pipeline(steps=[('model',\n",
       "                 LogisticRegression(l1_ratio=0.5, max_iter=5000,\n",
       "                                    penalty='elasticnet', solver='saga'))])"
      ]
     },
     "execution_count": 28,
     "metadata": {},
     "output_type": "execute_result"
    }
   ],
   "source": [
    "model.fit(X_train, y_train.values.ravel())"
   ]
  },
  {
   "cell_type": "code",
   "execution_count": 29,
   "id": "af59f8c0",
   "metadata": {
    "execution": {
     "iopub.execute_input": "2025-07-15T13:24:34.042350Z",
     "iopub.status.busy": "2025-07-15T13:24:34.041620Z",
     "iopub.status.idle": "2025-07-15T13:24:34.049392Z",
     "shell.execute_reply": "2025-07-15T13:24:34.048224Z"
    },
    "papermill": {
     "duration": 0.031205,
     "end_time": "2025-07-15T13:24:34.051336",
     "exception": false,
     "start_time": "2025-07-15T13:24:34.020131",
     "status": "completed"
    },
    "tags": []
   },
   "outputs": [],
   "source": [
    "from fairness_multiverse.universe import predict_w_threshold"
   ]
  },
  {
   "cell_type": "code",
   "execution_count": 30,
   "id": "a7cf2e16",
   "metadata": {
    "execution": {
     "iopub.execute_input": "2025-07-15T13:24:34.094637Z",
     "iopub.status.busy": "2025-07-15T13:24:34.093953Z",
     "iopub.status.idle": "2025-07-15T13:24:34.204978Z",
     "shell.execute_reply": "2025-07-15T13:24:34.203983Z"
    },
    "papermill": {
     "duration": 0.134036,
     "end_time": "2025-07-15T13:24:34.206656",
     "exception": false,
     "start_time": "2025-07-15T13:24:34.072620",
     "status": "completed"
    },
    "tags": []
   },
   "outputs": [
    {
     "data": {
      "text/plain": [
       "0.848378107234422"
      ]
     },
     "execution_count": 30,
     "metadata": {},
     "output_type": "execute_result"
    }
   ],
   "source": [
    "probs_test = model.predict_proba(X_test)\n",
    "\n",
    "'''\n",
    "Below code returns a boolean array (or binary 0/1 array depending on how it’s used) where each element \n",
    "is True if the probability of class 1 is greater than or equal to the threshold, and False otherwise.\n",
    "'''\n",
    "y_pred_default = predict_w_threshold(probs_test, 0.5)\n",
    "\n",
    "# Naive prediction\n",
    "accuracy_score(y_true = y_true, y_pred = y_pred_default)"
   ]
  },
  {
   "cell_type": "code",
   "execution_count": 31,
   "id": "081964c3",
   "metadata": {
    "execution": {
     "iopub.execute_input": "2025-07-15T13:24:34.243854Z",
     "iopub.status.busy": "2025-07-15T13:24:34.243244Z",
     "iopub.status.idle": "2025-07-15T13:24:34.333230Z",
     "shell.execute_reply": "2025-07-15T13:24:34.332234Z"
    },
    "papermill": {
     "duration": 0.110163,
     "end_time": "2025-07-15T13:24:34.334948",
     "exception": false,
     "start_time": "2025-07-15T13:24:34.224785",
     "status": "completed"
    },
    "tags": []
   },
   "outputs": [
    {
     "data": {
      "text/plain": [
       "array([0, 0, 0, ..., 0, 0, 0])"
      ]
     },
     "execution_count": 31,
     "metadata": {},
     "output_type": "execute_result"
    }
   ],
   "source": [
    "model.predict(X_test)"
   ]
  },
  {
   "cell_type": "markdown",
   "id": "56c9705b",
   "metadata": {
    "papermill": {
     "duration": 0.017598,
     "end_time": "2025-07-15T13:24:34.370548",
     "exception": false,
     "start_time": "2025-07-15T13:24:34.352950",
     "status": "completed"
    },
    "tags": []
   },
   "source": [
    "# Conformal Prediction"
   ]
  },
  {
   "cell_type": "code",
   "execution_count": 32,
   "id": "160ec6ff",
   "metadata": {
    "execution": {
     "iopub.execute_input": "2025-07-15T13:24:34.407424Z",
     "iopub.status.busy": "2025-07-15T13:24:34.406687Z",
     "iopub.status.idle": "2025-07-15T13:24:34.412113Z",
     "shell.execute_reply": "2025-07-15T13:24:34.411182Z"
    },
    "papermill": {
     "duration": 0.025855,
     "end_time": "2025-07-15T13:24:34.413753",
     "exception": false,
     "start_time": "2025-07-15T13:24:34.387898",
     "status": "completed"
    },
    "tags": []
   },
   "outputs": [],
   "source": [
    "# Miscoverage level for conformal prediction (10% allowed error rate => 90% target coverage)\n",
    "alpha = 0.10"
   ]
  },
  {
   "cell_type": "code",
   "execution_count": 33,
   "id": "eadf4555-3dd3-440e-8e35-f82a4ad9f855",
   "metadata": {
    "execution": {
     "iopub.execute_input": "2025-07-15T13:24:34.452166Z",
     "iopub.status.busy": "2025-07-15T13:24:34.451259Z",
     "iopub.status.idle": "2025-07-15T13:24:34.564174Z",
     "shell.execute_reply": "2025-07-15T13:24:34.563373Z"
    },
    "papermill": {
     "duration": 0.133264,
     "end_time": "2025-07-15T13:24:34.565960",
     "exception": false,
     "start_time": "2025-07-15T13:24:34.432696",
     "status": "completed"
    },
    "tags": []
   },
   "outputs": [],
   "source": [
    "probs_calib = model.predict_proba(X_calib)"
   ]
  },
  {
   "cell_type": "code",
   "execution_count": 34,
   "id": "2ed93547-6d5d-4983-9b36-1ecb300da49a",
   "metadata": {
    "execution": {
     "iopub.execute_input": "2025-07-15T13:24:34.603493Z",
     "iopub.status.busy": "2025-07-15T13:24:34.602654Z",
     "iopub.status.idle": "2025-07-15T13:24:34.608395Z",
     "shell.execute_reply": "2025-07-15T13:24:34.607437Z"
    },
    "papermill": {
     "duration": 0.025755,
     "end_time": "2025-07-15T13:24:34.609771",
     "exception": false,
     "start_time": "2025-07-15T13:24:34.584016",
     "status": "completed"
    },
    "tags": []
   },
   "outputs": [],
   "source": [
    "y_calib = y_calib.values.ravel().astype(int)"
   ]
  },
  {
   "cell_type": "code",
   "execution_count": 35,
   "id": "65d1320d-f588-4b38-9072-62af1ae97f7d",
   "metadata": {
    "execution": {
     "iopub.execute_input": "2025-07-15T13:24:34.653243Z",
     "iopub.status.busy": "2025-07-15T13:24:34.652742Z",
     "iopub.status.idle": "2025-07-15T13:24:34.660410Z",
     "shell.execute_reply": "2025-07-15T13:24:34.659537Z"
    },
    "papermill": {
     "duration": 0.030072,
     "end_time": "2025-07-15T13:24:34.662166",
     "exception": false,
     "start_time": "2025-07-15T13:24:34.632094",
     "status": "completed"
    },
    "tags": []
   },
   "outputs": [],
   "source": [
    "from fairness_multiverse.conformal import compute_nc_scores\n",
    "\n",
    "# Compute nonconformity scores on calibration set (1 - probability of true class)\n",
    "nc_scores = compute_nc_scores(probs_calib, y_calib)"
   ]
  },
  {
   "cell_type": "code",
   "execution_count": 36,
   "id": "df3b8ca3-53b7-43d5-9667-7c85da7aeda2",
   "metadata": {
    "execution": {
     "iopub.execute_input": "2025-07-15T13:24:34.701790Z",
     "iopub.status.busy": "2025-07-15T13:24:34.701313Z",
     "iopub.status.idle": "2025-07-15T13:24:34.707639Z",
     "shell.execute_reply": "2025-07-15T13:24:34.706866Z"
    },
    "papermill": {
     "duration": 0.026664,
     "end_time": "2025-07-15T13:24:34.709168",
     "exception": false,
     "start_time": "2025-07-15T13:24:34.682504",
     "status": "completed"
    },
    "tags": []
   },
   "outputs": [],
   "source": [
    "from fairness_multiverse.conformal import find_threshold\n",
    "\n",
    "# Find conformal threshold q_hat for the given alpha (split conformal method)\n",
    "q_hat = find_threshold(nc_scores, alpha)"
   ]
  },
  {
   "cell_type": "code",
   "execution_count": 37,
   "id": "4d29e6c1-0ef6-4aa4-b8fe-4fe79b0d033a",
   "metadata": {
    "execution": {
     "iopub.execute_input": "2025-07-15T13:24:34.733000Z",
     "iopub.status.busy": "2025-07-15T13:24:34.732465Z",
     "iopub.status.idle": "2025-07-15T13:24:34.739115Z",
     "shell.execute_reply": "2025-07-15T13:24:34.738387Z"
    },
    "papermill": {
     "duration": 0.02049,
     "end_time": "2025-07-15T13:24:34.740627",
     "exception": false,
     "start_time": "2025-07-15T13:24:34.720137",
     "status": "completed"
    },
    "tags": []
   },
   "outputs": [
    {
     "data": {
      "text/plain": [
       "0.6897468085669285"
      ]
     },
     "execution_count": 37,
     "metadata": {},
     "output_type": "execute_result"
    }
   ],
   "source": [
    "q_hat"
   ]
  },
  {
   "cell_type": "code",
   "execution_count": 38,
   "id": "92460794-cdac-4be2-ba28-f28c0515a6fb",
   "metadata": {
    "execution": {
     "iopub.execute_input": "2025-07-15T13:24:34.763350Z",
     "iopub.status.busy": "2025-07-15T13:24:34.762806Z",
     "iopub.status.idle": "2025-07-15T13:24:35.233722Z",
     "shell.execute_reply": "2025-07-15T13:24:35.232956Z"
    },
    "papermill": {
     "duration": 0.483465,
     "end_time": "2025-07-15T13:24:35.235194",
     "exception": false,
     "start_time": "2025-07-15T13:24:34.751729",
     "status": "completed"
    },
    "tags": []
   },
   "outputs": [],
   "source": [
    "from fairness_multiverse.conformal import predict_conformal_sets\n",
    "\n",
    "# Generate prediction sets for each test example\n",
    "pred_sets = predict_conformal_sets(model, X_test, q_hat)"
   ]
  },
  {
   "cell_type": "code",
   "execution_count": 39,
   "id": "d90c9a65-e6db-4f5d-80cd-e68fb7e46829",
   "metadata": {
    "execution": {
     "iopub.execute_input": "2025-07-15T13:24:35.256813Z",
     "iopub.status.busy": "2025-07-15T13:24:35.256479Z",
     "iopub.status.idle": "2025-07-15T13:24:35.261190Z",
     "shell.execute_reply": "2025-07-15T13:24:35.260232Z"
    },
    "papermill": {
     "duration": 0.016848,
     "end_time": "2025-07-15T13:24:35.262570",
     "exception": false,
     "start_time": "2025-07-15T13:24:35.245722",
     "status": "completed"
    },
    "tags": []
   },
   "outputs": [],
   "source": [
    "y_true = y_true.squeeze()"
   ]
  },
  {
   "cell_type": "code",
   "execution_count": 40,
   "id": "3a58a54a-1e68-46b9-927a-df01f18aebc8",
   "metadata": {
    "execution": {
     "iopub.execute_input": "2025-07-15T13:24:35.285314Z",
     "iopub.status.busy": "2025-07-15T13:24:35.284625Z",
     "iopub.status.idle": "2025-07-15T13:24:35.784947Z",
     "shell.execute_reply": "2025-07-15T13:24:35.784158Z"
    },
    "papermill": {
     "duration": 0.512677,
     "end_time": "2025-07-15T13:24:35.786465",
     "exception": false,
     "start_time": "2025-07-15T13:24:35.273788",
     "status": "completed"
    },
    "tags": []
   },
   "outputs": [],
   "source": [
    "from fairness_multiverse.conformal import evaluate_sets\n",
    "\n",
    "# Evaluate coverage and average set size on test data\n",
    "metrics = evaluate_sets(pred_sets, y_true)"
   ]
  },
  {
   "cell_type": "code",
   "execution_count": 41,
   "id": "5ce0a5cb-201f-45a0-ade5-94c7f0bd6095",
   "metadata": {
    "execution": {
     "iopub.execute_input": "2025-07-15T13:24:35.809293Z",
     "iopub.status.busy": "2025-07-15T13:24:35.808959Z",
     "iopub.status.idle": "2025-07-15T13:24:35.815238Z",
     "shell.execute_reply": "2025-07-15T13:24:35.814517Z"
    },
    "papermill": {
     "duration": 0.019371,
     "end_time": "2025-07-15T13:24:35.816775",
     "exception": false,
     "start_time": "2025-07-15T13:24:35.797404",
     "status": "completed"
    },
    "tags": []
   },
   "outputs": [
    {
     "data": {
      "text/plain": [
       "{'coverage': 0.9061866012707613, 'avg_size': 1.1342436740608628}"
      ]
     },
     "execution_count": 41,
     "metadata": {},
     "output_type": "execute_result"
    }
   ],
   "source": [
    "metrics"
   ]
  },
  {
   "cell_type": "code",
   "execution_count": 42,
   "id": "f4b6a8ac-9dc0-4245-8a91-5b3b5999c4f9",
   "metadata": {
    "execution": {
     "iopub.execute_input": "2025-07-15T13:24:35.840663Z",
     "iopub.status.busy": "2025-07-15T13:24:35.839892Z",
     "iopub.status.idle": "2025-07-15T13:24:35.844945Z",
     "shell.execute_reply": "2025-07-15T13:24:35.844215Z"
    },
    "papermill": {
     "duration": 0.018235,
     "end_time": "2025-07-15T13:24:35.846417",
     "exception": false,
     "start_time": "2025-07-15T13:24:35.828182",
     "status": "completed"
    },
    "tags": []
   },
   "outputs": [],
   "source": [
    "cp_metrics_dict = {\n",
    "    \"universe_id\": [universe_id],\n",
    "    \"q_hat\": [q_hat],\n",
    "    \"coverage\": [metrics[\"coverage\"]],\n",
    "    \"avg_size\": [metrics[\"avg_size\"]],\n",
    "}"
   ]
  },
  {
   "cell_type": "code",
   "execution_count": 43,
   "id": "908acbb1-0371-4915-85ca-3fa520d2efe2",
   "metadata": {
    "execution": {
     "iopub.execute_input": "2025-07-15T13:24:35.870396Z",
     "iopub.status.busy": "2025-07-15T13:24:35.869716Z",
     "iopub.status.idle": "2025-07-15T13:24:35.876160Z",
     "shell.execute_reply": "2025-07-15T13:24:35.875432Z"
    },
    "papermill": {
     "duration": 0.019276,
     "end_time": "2025-07-15T13:24:35.877622",
     "exception": false,
     "start_time": "2025-07-15T13:24:35.858346",
     "status": "completed"
    },
    "tags": []
   },
   "outputs": [
    {
     "data": {
      "text/plain": [
       "{'universe_id': ['07869d397bdca213cd6ca6d37961cca4'],\n",
       " 'q_hat': [0.6897468085669285],\n",
       " 'coverage': [0.9061866012707613],\n",
       " 'avg_size': [1.1342436740608628]}"
      ]
     },
     "execution_count": 43,
     "metadata": {},
     "output_type": "execute_result"
    }
   ],
   "source": [
    "cp_metrics_dict"
   ]
  },
  {
   "cell_type": "code",
   "execution_count": 44,
   "id": "33007efc-14e9-4ec6-97ac-56a455c82265",
   "metadata": {
    "execution": {
     "iopub.execute_input": "2025-07-15T13:24:35.901370Z",
     "iopub.status.busy": "2025-07-15T13:24:35.900691Z",
     "iopub.status.idle": "2025-07-15T13:24:35.906058Z",
     "shell.execute_reply": "2025-07-15T13:24:35.905305Z"
    },
    "papermill": {
     "duration": 0.018179,
     "end_time": "2025-07-15T13:24:35.907546",
     "exception": false,
     "start_time": "2025-07-15T13:24:35.889367",
     "status": "completed"
    },
    "tags": []
   },
   "outputs": [],
   "source": [
    "cp_metrics_df = pd.DataFrame(cp_metrics_dict)"
   ]
  },
  {
   "cell_type": "code",
   "execution_count": 45,
   "id": "e6aa1fe0-b882-4a50-8bdf-05f68c24faeb",
   "metadata": {
    "execution": {
     "iopub.execute_input": "2025-07-15T13:24:35.931275Z",
     "iopub.status.busy": "2025-07-15T13:24:35.930957Z",
     "iopub.status.idle": "2025-07-15T13:24:35.936029Z",
     "shell.execute_reply": "2025-07-15T13:24:35.935182Z"
    },
    "papermill": {
     "duration": 0.017902,
     "end_time": "2025-07-15T13:24:35.937392",
     "exception": false,
     "start_time": "2025-07-15T13:24:35.919490",
     "status": "completed"
    },
    "tags": []
   },
   "outputs": [],
   "source": [
    "output_folder = \"results/cp_metrics\"\n",
    "os.makedirs(output_folder, exist_ok=True)"
   ]
  },
  {
   "cell_type": "code",
   "execution_count": 46,
   "id": "b53d024f-1be6-4b80-9953-843618c45449",
   "metadata": {
    "execution": {
     "iopub.execute_input": "2025-07-15T13:24:35.960883Z",
     "iopub.status.busy": "2025-07-15T13:24:35.960225Z",
     "iopub.status.idle": "2025-07-15T13:24:35.965021Z",
     "shell.execute_reply": "2025-07-15T13:24:35.964278Z"
    },
    "papermill": {
     "duration": 0.017542,
     "end_time": "2025-07-15T13:24:35.966517",
     "exception": false,
     "start_time": "2025-07-15T13:24:35.948975",
     "status": "completed"
    },
    "tags": []
   },
   "outputs": [],
   "source": [
    "output_file = os.path.join(output_folder, f\"metrics_{universe_id}.csv\")"
   ]
  },
  {
   "cell_type": "code",
   "execution_count": 47,
   "id": "c1f366d1-edb8-4383-bdcb-c7ea0c25e9d1",
   "metadata": {
    "execution": {
     "iopub.execute_input": "2025-07-15T13:24:35.990812Z",
     "iopub.status.busy": "2025-07-15T13:24:35.990431Z",
     "iopub.status.idle": "2025-07-15T13:24:35.998124Z",
     "shell.execute_reply": "2025-07-15T13:24:35.997250Z"
    },
    "papermill": {
     "duration": 0.020827,
     "end_time": "2025-07-15T13:24:35.999521",
     "exception": false,
     "start_time": "2025-07-15T13:24:35.978694",
     "status": "completed"
    },
    "tags": []
   },
   "outputs": [],
   "source": [
    "cp_metrics_df.to_csv(output_file, index=False)"
   ]
  },
  {
   "cell_type": "markdown",
   "id": "33774451",
   "metadata": {
    "papermill": {
     "duration": 0.010655,
     "end_time": "2025-07-15T13:24:36.021803",
     "exception": false,
     "start_time": "2025-07-15T13:24:36.011148",
     "status": "completed"
    },
    "tags": []
   },
   "source": [
    "# (Fairness) Metrics"
   ]
  },
  {
   "cell_type": "code",
   "execution_count": 48,
   "id": "debc5d62",
   "metadata": {
    "execution": {
     "iopub.execute_input": "2025-07-15T13:24:36.044592Z",
     "iopub.status.busy": "2025-07-15T13:24:36.044060Z",
     "iopub.status.idle": "2025-07-15T13:24:36.062952Z",
     "shell.execute_reply": "2025-07-15T13:24:36.062120Z"
    },
    "papermill": {
     "duration": 0.03198,
     "end_time": "2025-07-15T13:24:36.064360",
     "exception": false,
     "start_time": "2025-07-15T13:24:36.032380",
     "status": "completed"
    },
    "tags": []
   },
   "outputs": [],
   "source": [
    "# do I need to include maxdeutsch1.missing?\n",
    "\n",
    "import numpy as np\n",
    "\n",
    "colname_to_bin = \"maxdeutsch1\"\n",
    "majority_value = org_train[colname_to_bin].mode()[0]\n",
    "\n",
    "org_test[\"majmin\"] = np.where(org_test[colname_to_bin] == majority_value, \"majority\", \"minority\")"
   ]
  },
  {
   "cell_type": "code",
   "execution_count": 49,
   "id": "06a50de5",
   "metadata": {
    "execution": {
     "iopub.execute_input": "2025-07-15T13:24:36.087988Z",
     "iopub.status.busy": "2025-07-15T13:24:36.087206Z",
     "iopub.status.idle": "2025-07-15T13:24:37.614541Z",
     "shell.execute_reply": "2025-07-15T13:24:37.613772Z"
    },
    "papermill": {
     "duration": 1.540502,
     "end_time": "2025-07-15T13:24:37.616004",
     "exception": false,
     "start_time": "2025-07-15T13:24:36.075502",
     "status": "completed"
    },
    "tags": []
   },
   "outputs": [],
   "source": [
    "example_universe = universe.copy()\n",
    "example_universe[\"cutoff\"] = example_universe[\"cutoff\"][0]\n",
    "example_universe[\"eval_fairness_grouping\"] = example_universe[\"eval_fairness_grouping\"][0]\n",
    "fairness_dict, metric_frame = universe_analysis.compute_metrics(\n",
    "    example_universe,\n",
    "    y_pred_prob=probs_test,\n",
    "    y_test=y_true,\n",
    "    org_test=org_test,\n",
    ")"
   ]
  },
  {
   "cell_type": "markdown",
   "id": "f95d4e02",
   "metadata": {
    "papermill": {
     "duration": 0.010483,
     "end_time": "2025-07-15T13:24:37.638022",
     "exception": false,
     "start_time": "2025-07-15T13:24:37.627539",
     "status": "completed"
    },
    "tags": []
   },
   "source": [
    "# Overall"
   ]
  },
  {
   "cell_type": "markdown",
   "id": "bdee4871",
   "metadata": {
    "papermill": {
     "duration": 0.010533,
     "end_time": "2025-07-15T13:24:37.659109",
     "exception": false,
     "start_time": "2025-07-15T13:24:37.648576",
     "status": "completed"
    },
    "tags": []
   },
   "source": [
    "Fairness\n",
    "Main fairness target: Equalized Odds. Seems to be a better fit than equal opportunity, since we're not only interested in Y = 1. Seems to be a better fit than demographic parity, since we also care about accuracy, not just equal distribution of preds.\n",
    "\n",
    "Pick column for computation of fairness metrics\n",
    "\n",
    "Performance\n",
    "Overall performance measures, most interesting in relation to the measures split by group below"
   ]
  },
  {
   "cell_type": "code",
   "execution_count": 50,
   "id": "c4e067c6",
   "metadata": {
    "execution": {
     "iopub.execute_input": "2025-07-15T13:24:37.682037Z",
     "iopub.status.busy": "2025-07-15T13:24:37.681516Z",
     "iopub.status.idle": "2025-07-15T13:24:37.689205Z",
     "shell.execute_reply": "2025-07-15T13:24:37.688414Z"
    },
    "papermill": {
     "duration": 0.020765,
     "end_time": "2025-07-15T13:24:37.690648",
     "exception": false,
     "start_time": "2025-07-15T13:24:37.669883",
     "status": "completed"
    },
    "tags": []
   },
   "outputs": [
    {
     "data": {
      "text/plain": [
       "accuracy                   0.220901\n",
       "balanced accuracy          0.540860\n",
       "f1                         0.242328\n",
       "precision                  0.138434\n",
       "false positive rate        0.889517\n",
       "false negative rate        0.028763\n",
       "selection rate             0.900000\n",
       "count                  89710.000000\n",
       "dtype: float64"
      ]
     },
     "execution_count": 50,
     "metadata": {},
     "output_type": "execute_result"
    }
   ],
   "source": [
    "metric_frame.overall"
   ]
  },
  {
   "cell_type": "markdown",
   "id": "e968fe9d",
   "metadata": {
    "papermill": {
     "duration": 0.010503,
     "end_time": "2025-07-15T13:24:37.713454",
     "exception": false,
     "start_time": "2025-07-15T13:24:37.702951",
     "status": "completed"
    },
    "tags": []
   },
   "source": [
    "By Group"
   ]
  },
  {
   "cell_type": "code",
   "execution_count": 51,
   "id": "ec325bce",
   "metadata": {
    "execution": {
     "iopub.execute_input": "2025-07-15T13:24:37.735779Z",
     "iopub.status.busy": "2025-07-15T13:24:37.735262Z",
     "iopub.status.idle": "2025-07-15T13:24:37.747816Z",
     "shell.execute_reply": "2025-07-15T13:24:37.747121Z"
    },
    "papermill": {
     "duration": 0.025465,
     "end_time": "2025-07-15T13:24:37.749318",
     "exception": false,
     "start_time": "2025-07-15T13:24:37.723853",
     "status": "completed"
    },
    "tags": []
   },
   "outputs": [
    {
     "data": {
      "text/html": [
       "<div>\n",
       "<style scoped>\n",
       "    .dataframe tbody tr th:only-of-type {\n",
       "        vertical-align: middle;\n",
       "    }\n",
       "\n",
       "    .dataframe tbody tr th {\n",
       "        vertical-align: top;\n",
       "    }\n",
       "\n",
       "    .dataframe thead th {\n",
       "        text-align: right;\n",
       "    }\n",
       "</style>\n",
       "<table border=\"1\" class=\"dataframe\">\n",
       "  <thead>\n",
       "    <tr style=\"text-align: right;\">\n",
       "      <th></th>\n",
       "      <th>accuracy</th>\n",
       "      <th>balanced accuracy</th>\n",
       "      <th>f1</th>\n",
       "      <th>precision</th>\n",
       "      <th>false positive rate</th>\n",
       "      <th>false negative rate</th>\n",
       "      <th>selection rate</th>\n",
       "      <th>count</th>\n",
       "    </tr>\n",
       "    <tr>\n",
       "      <th>majmin</th>\n",
       "      <th></th>\n",
       "      <th></th>\n",
       "      <th></th>\n",
       "      <th></th>\n",
       "      <th></th>\n",
       "      <th></th>\n",
       "      <th></th>\n",
       "      <th></th>\n",
       "    </tr>\n",
       "  </thead>\n",
       "  <tbody>\n",
       "    <tr>\n",
       "      <th>majority</th>\n",
       "      <td>0.242663</td>\n",
       "      <td>0.549810</td>\n",
       "      <td>0.252358</td>\n",
       "      <td>0.145108</td>\n",
       "      <td>0.867666</td>\n",
       "      <td>0.032713</td>\n",
       "      <td>0.880830</td>\n",
       "      <td>69170.0</td>\n",
       "    </tr>\n",
       "    <tr>\n",
       "      <th>minority</th>\n",
       "      <td>0.147614</td>\n",
       "      <td>0.512394</td>\n",
       "      <td>0.210640</td>\n",
       "      <td>0.117908</td>\n",
       "      <td>0.961699</td>\n",
       "      <td>0.013514</td>\n",
       "      <td>0.964557</td>\n",
       "      <td>20540.0</td>\n",
       "    </tr>\n",
       "  </tbody>\n",
       "</table>\n",
       "</div>"
      ],
      "text/plain": [
       "          accuracy  balanced accuracy        f1  precision  \\\n",
       "majmin                                                       \n",
       "majority  0.242663           0.549810  0.252358   0.145108   \n",
       "minority  0.147614           0.512394  0.210640   0.117908   \n",
       "\n",
       "          false positive rate  false negative rate  selection rate    count  \n",
       "majmin                                                                       \n",
       "majority             0.867666             0.032713        0.880830  69170.0  \n",
       "minority             0.961699             0.013514        0.964557  20540.0  "
      ]
     },
     "execution_count": 51,
     "metadata": {},
     "output_type": "execute_result"
    }
   ],
   "source": [
    "metric_frame.by_group"
   ]
  },
  {
   "cell_type": "code",
   "execution_count": 52,
   "id": "a9ddbe63",
   "metadata": {
    "execution": {
     "iopub.execute_input": "2025-07-15T13:24:37.773287Z",
     "iopub.status.busy": "2025-07-15T13:24:37.772631Z",
     "iopub.status.idle": "2025-07-15T13:24:39.319372Z",
     "shell.execute_reply": "2025-07-15T13:24:39.318644Z"
    },
    "papermill": {
     "duration": 1.559388,
     "end_time": "2025-07-15T13:24:39.320649",
     "exception": false,
     "start_time": "2025-07-15T13:24:37.761261",
     "status": "completed"
    },
    "tags": []
   },
   "outputs": [
    {
     "data": {
      "text/plain": [
       "array([[<Axes: title={'center': 'accuracy'}, xlabel='majmin'>,\n",
       "        <Axes: title={'center': 'balanced accuracy'}, xlabel='majmin'>,\n",
       "        <Axes: title={'center': 'f1'}, xlabel='majmin'>],\n",
       "       [<Axes: title={'center': 'precision'}, xlabel='majmin'>,\n",
       "        <Axes: title={'center': 'false positive rate'}, xlabel='majmin'>,\n",
       "        <Axes: title={'center': 'false negative rate'}, xlabel='majmin'>],\n",
       "       [<Axes: title={'center': 'selection rate'}, xlabel='majmin'>,\n",
       "        <Axes: title={'center': 'count'}, xlabel='majmin'>,\n",
       "        <Axes: xlabel='majmin'>]], dtype=object)"
      ]
     },
     "execution_count": 52,
     "metadata": {},
     "output_type": "execute_result"
    },
    {
     "data": {
      "image/png": "[encoded data removed]",
      "text/plain": [
       "<Figure size 1200x800 with 9 Axes>"
      ]
     },
     "metadata": {},
     "output_type": "display_data"
    }
   ],
   "source": [
    "# In a graphic\n",
    "metric_frame.by_group.plot.bar(\n",
    "    subplots=True,\n",
    "    layout=[3, 3],\n",
    "    legend=False,\n",
    "    figsize=[12, 8],\n",
    "    title=\"Show all metrics\",\n",
    ")"
   ]
  },
  {
   "cell_type": "markdown",
   "id": "f57a0bac",
   "metadata": {
    "papermill": {
     "duration": 0.011424,
     "end_time": "2025-07-15T13:24:39.344971",
     "exception": false,
     "start_time": "2025-07-15T13:24:39.333547",
     "status": "completed"
    },
    "tags": []
   },
   "source": [
    "# Final Output"
   ]
  },
  {
   "cell_type": "code",
   "execution_count": 53,
   "id": "96d280a3",
   "metadata": {
    "execution": {
     "iopub.execute_input": "2025-07-15T13:24:39.369766Z",
     "iopub.status.busy": "2025-07-15T13:24:39.369107Z",
     "iopub.status.idle": "2025-07-15T13:24:39.376828Z",
     "shell.execute_reply": "2025-07-15T13:24:39.375969Z"
    },
    "papermill": {
     "duration": 0.021993,
     "end_time": "2025-07-15T13:24:39.378400",
     "exception": false,
     "start_time": "2025-07-15T13:24:39.356407",
     "status": "completed"
    },
    "tags": []
   },
   "outputs": [
    {
     "data": {
      "text/plain": [
       "4"
      ]
     },
     "execution_count": 53,
     "metadata": {},
     "output_type": "execute_result"
    }
   ],
   "source": [
    "sub_universes = universe_analysis.generate_sub_universes()\n",
    "len(sub_universes)"
   ]
  },
  {
   "cell_type": "code",
   "execution_count": 54,
   "id": "92adf7ba",
   "metadata": {
    "execution": {
     "iopub.execute_input": "2025-07-15T13:24:39.407394Z",
     "iopub.status.busy": "2025-07-15T13:24:39.407122Z",
     "iopub.status.idle": "2025-07-15T13:24:39.411985Z",
     "shell.execute_reply": "2025-07-15T13:24:39.411028Z"
    },
    "papermill": {
     "duration": 0.02016,
     "end_time": "2025-07-15T13:24:39.413543",
     "exception": false,
     "start_time": "2025-07-15T13:24:39.393383",
     "status": "completed"
    },
    "tags": []
   },
   "outputs": [],
   "source": [
    "def filter_sub_universe_data(sub_universe, org_test):\n",
    "    # Keep all rows — no filtering\n",
    "    keep_rows_mask = np.ones(org_test.shape[0], dtype=bool)\n",
    "\n",
    "    print(f\"[INFO] Keeping all rows: {keep_rows_mask.sum()} rows retained.\")\n",
    "    return keep_rows_mask"
   ]
  },
  {
   "cell_type": "code",
   "execution_count": 55,
   "id": "4a759155",
   "metadata": {
    "execution": {
     "iopub.execute_input": "2025-07-15T13:24:39.441060Z",
     "iopub.status.busy": "2025-07-15T13:24:39.440385Z",
     "iopub.status.idle": "2025-07-15T13:24:46.045704Z",
     "shell.execute_reply": "2025-07-15T13:24:46.044777Z"
    },
    "papermill": {
     "duration": 6.619987,
     "end_time": "2025-07-15T13:24:46.047195",
     "exception": false,
     "start_time": "2025-07-15T13:24:39.427208",
     "status": "completed"
    },
    "tags": []
   },
   "outputs": [
    {
     "name": "stdout",
     "output_type": "stream",
     "text": [
      "Stopping execution_time clock.\n",
      "[INFO] Keeping all rows: 89710 rows retained.\n"
     ]
    },
    {
     "name": "stdout",
     "output_type": "stream",
     "text": [
      "[INFO] Keeping all rows: 89710 rows retained.\n"
     ]
    },
    {
     "name": "stdout",
     "output_type": "stream",
     "text": [
      "[INFO] Keeping all rows: 89710 rows retained.\n"
     ]
    },
    {
     "name": "stdout",
     "output_type": "stream",
     "text": [
      "[INFO] Keeping all rows: 89710 rows retained.\n"
     ]
    },
    {
     "data": {
      "text/html": [
       "<div>\n",
       "<style scoped>\n",
       "    .dataframe tbody tr th:only-of-type {\n",
       "        vertical-align: middle;\n",
       "    }\n",
       "\n",
       "    .dataframe tbody tr th {\n",
       "        vertical-align: top;\n",
       "    }\n",
       "\n",
       "    .dataframe thead th {\n",
       "        text-align: right;\n",
       "    }\n",
       "</style>\n",
       "<table border=\"1\" class=\"dataframe\">\n",
       "  <thead>\n",
       "    <tr style=\"text-align: right;\">\n",
       "      <th></th>\n",
       "      <th>run_no</th>\n",
       "      <th>universe_id</th>\n",
       "      <th>universe_settings</th>\n",
       "      <th>execution_time</th>\n",
       "      <th>test_size_n</th>\n",
       "      <th>test_size_frac</th>\n",
       "      <th>fair_main_equalized_odds_difference</th>\n",
       "      <th>fair_main_equalized_odds_ratio</th>\n",
       "      <th>fair_main_demographic_parity_difference</th>\n",
       "      <th>fair_main_demographic_parity_ratio</th>\n",
       "      <th>...</th>\n",
       "      <th>perf_grp_precision_0</th>\n",
       "      <th>perf_grp_precision_1</th>\n",
       "      <th>perf_grp_false positive rate_0</th>\n",
       "      <th>perf_grp_false positive rate_1</th>\n",
       "      <th>perf_grp_false negative rate_0</th>\n",
       "      <th>perf_grp_false negative rate_1</th>\n",
       "      <th>perf_grp_selection rate_0</th>\n",
       "      <th>perf_grp_selection rate_1</th>\n",
       "      <th>perf_grp_count_0</th>\n",
       "      <th>perf_grp_count_1</th>\n",
       "    </tr>\n",
       "  </thead>\n",
       "  <tbody>\n",
       "    <tr>\n",
       "      <th>0</th>\n",
       "      <td>11</td>\n",
       "      <td>07869d397bdca213cd6ca6d37961cca4</td>\n",
       "      <td>{\"cutoff\": \"quantile_0.1\", \"eval_fairness_grou...</td>\n",
       "      <td>208.751807</td>\n",
       "      <td>89710</td>\n",
       "      <td>1.0</td>\n",
       "      <td>0.094033</td>\n",
       "      <td>0.902222</td>\n",
       "      <td>0.083727</td>\n",
       "      <td>0.913196</td>\n",
       "      <td>...</td>\n",
       "      <td>NaN</td>\n",
       "      <td>NaN</td>\n",
       "      <td>NaN</td>\n",
       "      <td>NaN</td>\n",
       "      <td>NaN</td>\n",
       "      <td>NaN</td>\n",
       "      <td>NaN</td>\n",
       "      <td>NaN</td>\n",
       "      <td>NaN</td>\n",
       "      <td>NaN</td>\n",
       "    </tr>\n",
       "    <tr>\n",
       "      <th>0</th>\n",
       "      <td>11</td>\n",
       "      <td>07869d397bdca213cd6ca6d37961cca4</td>\n",
       "      <td>{\"cutoff\": \"quantile_0.1\", \"eval_fairness_grou...</td>\n",
       "      <td>208.751807</td>\n",
       "      <td>89710</td>\n",
       "      <td>1.0</td>\n",
       "      <td>0.094033</td>\n",
       "      <td>0.902222</td>\n",
       "      <td>0.083727</td>\n",
       "      <td>0.913196</td>\n",
       "      <td>...</td>\n",
       "      <td>0.117908</td>\n",
       "      <td>0.145108</td>\n",
       "      <td>0.961699</td>\n",
       "      <td>0.867666</td>\n",
       "      <td>0.013514</td>\n",
       "      <td>0.032713</td>\n",
       "      <td>0.964557</td>\n",
       "      <td>0.880830</td>\n",
       "      <td>20540.0</td>\n",
       "      <td>69170.0</td>\n",
       "    </tr>\n",
       "    <tr>\n",
       "      <th>0</th>\n",
       "      <td>11</td>\n",
       "      <td>07869d397bdca213cd6ca6d37961cca4</td>\n",
       "      <td>{\"cutoff\": \"quantile_0.25\", \"eval_fairness_gro...</td>\n",
       "      <td>208.751807</td>\n",
       "      <td>89710</td>\n",
       "      <td>1.0</td>\n",
       "      <td>0.207809</td>\n",
       "      <td>0.765519</td>\n",
       "      <td>0.185015</td>\n",
       "      <td>0.792735</td>\n",
       "      <td>...</td>\n",
       "      <td>NaN</td>\n",
       "      <td>NaN</td>\n",
       "      <td>NaN</td>\n",
       "      <td>NaN</td>\n",
       "      <td>NaN</td>\n",
       "      <td>NaN</td>\n",
       "      <td>NaN</td>\n",
       "      <td>NaN</td>\n",
       "      <td>NaN</td>\n",
       "      <td>NaN</td>\n",
       "    </tr>\n",
       "    <tr>\n",
       "      <th>0</th>\n",
       "      <td>11</td>\n",
       "      <td>07869d397bdca213cd6ca6d37961cca4</td>\n",
       "      <td>{\"cutoff\": \"quantile_0.25\", \"eval_fairness_gro...</td>\n",
       "      <td>208.751807</td>\n",
       "      <td>89710</td>\n",
       "      <td>1.0</td>\n",
       "      <td>0.207809</td>\n",
       "      <td>0.765519</td>\n",
       "      <td>0.185015</td>\n",
       "      <td>0.792735</td>\n",
       "      <td>...</td>\n",
       "      <td>0.121625</td>\n",
       "      <td>0.167937</td>\n",
       "      <td>0.886254</td>\n",
       "      <td>0.678444</td>\n",
       "      <td>0.058277</td>\n",
       "      <td>0.100656</td>\n",
       "      <td>0.892648</td>\n",
       "      <td>0.707633</td>\n",
       "      <td>20540.0</td>\n",
       "      <td>69170.0</td>\n",
       "    </tr>\n",
       "  </tbody>\n",
       "</table>\n",
       "<p>4 rows × 50 columns</p>\n",
       "</div>"
      ],
      "text/plain": [
       "  run_no                       universe_id  \\\n",
       "0     11  07869d397bdca213cd6ca6d37961cca4   \n",
       "0     11  07869d397bdca213cd6ca6d37961cca4   \n",
       "0     11  07869d397bdca213cd6ca6d37961cca4   \n",
       "0     11  07869d397bdca213cd6ca6d37961cca4   \n",
       "\n",
       "                                   universe_settings  execution_time  \\\n",
       "0  {\"cutoff\": \"quantile_0.1\", \"eval_fairness_grou...      208.751807   \n",
       "0  {\"cutoff\": \"quantile_0.1\", \"eval_fairness_grou...      208.751807   \n",
       "0  {\"cutoff\": \"quantile_0.25\", \"eval_fairness_gro...      208.751807   \n",
       "0  {\"cutoff\": \"quantile_0.25\", \"eval_fairness_gro...      208.751807   \n",
       "\n",
       "   test_size_n  test_size_frac  fair_main_equalized_odds_difference  \\\n",
       "0        89710             1.0                             0.094033   \n",
       "0        89710             1.0                             0.094033   \n",
       "0        89710             1.0                             0.207809   \n",
       "0        89710             1.0                             0.207809   \n",
       "\n",
       "   fair_main_equalized_odds_ratio  fair_main_demographic_parity_difference  \\\n",
       "0                        0.902222                                 0.083727   \n",
       "0                        0.902222                                 0.083727   \n",
       "0                        0.765519                                 0.185015   \n",
       "0                        0.765519                                 0.185015   \n",
       "\n",
       "   fair_main_demographic_parity_ratio  ...  perf_grp_precision_0  \\\n",
       "0                            0.913196  ...                   NaN   \n",
       "0                            0.913196  ...              0.117908   \n",
       "0                            0.792735  ...                   NaN   \n",
       "0                            0.792735  ...              0.121625   \n",
       "\n",
       "   perf_grp_precision_1  perf_grp_false positive rate_0  \\\n",
       "0                   NaN                             NaN   \n",
       "0              0.145108                        0.961699   \n",
       "0                   NaN                             NaN   \n",
       "0              0.167937                        0.886254   \n",
       "\n",
       "   perf_grp_false positive rate_1  perf_grp_false negative rate_0  \\\n",
       "0                             NaN                             NaN   \n",
       "0                        0.867666                        0.013514   \n",
       "0                             NaN                             NaN   \n",
       "0                        0.678444                        0.058277   \n",
       "\n",
       "   perf_grp_false negative rate_1  perf_grp_selection rate_0  \\\n",
       "0                             NaN                        NaN   \n",
       "0                        0.032713                   0.964557   \n",
       "0                             NaN                        NaN   \n",
       "0                        0.100656                   0.892648   \n",
       "\n",
       "   perf_grp_selection rate_1  perf_grp_count_0  perf_grp_count_1  \n",
       "0                        NaN               NaN               NaN  \n",
       "0                   0.880830           20540.0           69170.0  \n",
       "0                        NaN               NaN               NaN  \n",
       "0                   0.707633           20540.0           69170.0  \n",
       "\n",
       "[4 rows x 50 columns]"
      ]
     },
     "execution_count": 55,
     "metadata": {},
     "output_type": "execute_result"
    }
   ],
   "source": [
    "final_output = universe_analysis.generate_final_output(\n",
    "    y_pred_prob=probs_test,\n",
    "    y_test=y_true,\n",
    "    org_test=org_test,\n",
    "    save=True,\n",
    "    filter_data=filter_sub_universe_data\n",
    ")\n",
    "final_output"
   ]
  },
  {
   "cell_type": "code",
   "execution_count": null,
   "id": "721ff514-cb11-46f8-b6fc-50392f74b5cb",
   "metadata": {
    "papermill": {
     "duration": 0.012059,
     "end_time": "2025-07-15T13:24:46.076644",
     "exception": false,
     "start_time": "2025-07-15T13:24:46.064585",
     "status": "completed"
    },
    "tags": []
   },
   "outputs": [],
   "source": []
  }
 ],
 "metadata": {
  "celltoolbar": "Tags",
  "kernelspec": {
   "display_name": "Python (CMA Fairness)",
   "language": "python",
   "name": "cma_fair_env"
  },
  "language_info": {
   "codemirror_mode": {
    "name": "ipython",
    "version": 3
   },
   "file_extension": ".py",
   "mimetype": "text/x-python",
   "name": "python",
   "nbconvert_exporter": "python",
   "pygments_lexer": "ipython3",
   "version": "3.10.12"
  },
  "papermill": {
   "default_parameters": {},
   "duration": 219.611731,
   "end_time": "2025-07-15T13:24:46.806932",
   "environment_variables": {},
   "exception": null,
   "input_path": "universe_analysis.ipynb",
   "output_path": "output/runs/11/notebooks/m_11-07869d397bdca213cd6ca6d37961cca4.ipynb",
   "parameters": {
    "output_dir": "output",
    "run_no": "11",
    "seed": "2023",
    "universe": "{\"cutoff\": [\"quantile_0.1\", \"quantile_0.25\"], \"eval_fairness_grouping\": [\"majority-minority\", \"nationality-all\"], \"exclude_features\": \"nationality\", \"exclude_subgroups\": \"drop-non-german\", \"model\": \"elasticnet\"}",
    "universe_id": "07869d397bdca213cd6ca6d37961cca4"
   },
   "start_time": "2025-07-15T13:21:07.195201",
   "version": "2.6.0"
  }
 },
 "nbformat": 4,
 "nbformat_minor": 5
}