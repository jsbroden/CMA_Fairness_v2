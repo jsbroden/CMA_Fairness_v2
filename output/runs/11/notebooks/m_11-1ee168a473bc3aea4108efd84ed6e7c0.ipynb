{
 "cells": [
  {
   "cell_type": "code",
   "execution_count": 1,
   "id": "f159f837-637b-42ba-96b5-ec9a68c44524",
   "metadata": {
    "execution": {
     "iopub.execute_input": "2025-07-28T11:04:15.273252Z",
     "iopub.status.busy": "2025-07-28T11:04:15.272701Z",
     "iopub.status.idle": "2025-07-28T11:04:15.286115Z",
     "shell.execute_reply": "2025-07-28T11:04:15.285096Z"
    },
    "papermill": {
     "duration": 0.039811,
     "end_time": "2025-07-28T11:04:15.288454",
     "exception": false,
     "start_time": "2025-07-28T11:04:15.248643",
     "status": "completed"
    },
    "tags": []
   },
   "outputs": [
    {
     "name": "stdout",
     "output_type": "stream",
     "text": [
      "/dss/dsshome1/0C/ra93lal2/cma/CMA_Fairness_v2\n"
     ]
    },
    {
     "name": "stderr",
     "output_type": "stream",
     "text": [
      "/dss/dsshome1/0C/ra93lal2/.local/share/virtualenvs/CMA_Fairness_v2-3j10GkSs/lib/python3.10/site-packages/IPython/core/magics/osm.py:393: UserWarning: This is now an optional IPython functionality, using bookmarks requires you to install the `pickleshare` library.\n",
      "  bkms = self.shell.db.get('bookmarks', {})\n",
      "/dss/dsshome1/0C/ra93lal2/.local/share/virtualenvs/CMA_Fairness_v2-3j10GkSs/lib/python3.10/site-packages/IPython/core/magics/osm.py:417: UserWarning: This is now an optional IPython functionality, setting dhist requires you to install the `pickleshare` library.\n",
      "  self.shell.db['dhist'] = compress_dhist(dhist)[-100:]\n"
     ]
    }
   ],
   "source": [
    "%cd ~/cma/CMA_Fairness_v2"
   ]
  },
  {
   "cell_type": "markdown",
   "id": "de2603b9",
   "metadata": {
    "papermill": {
     "duration": 0.018295,
     "end_time": "2025-07-28T11:04:15.324907",
     "exception": false,
     "start_time": "2025-07-28T11:04:15.306612",
     "status": "completed"
    },
    "tags": []
   },
   "source": [
    "The following cell holds the definition of our parameters, these values can be overriden by rendering the with e.g. the following command:\n",
    "\n",
    "papermill -p alpha 0.2 -p ratio 0.3 universe_analysis.ipynb output/test_run.ipynb"
   ]
  },
  {
   "cell_type": "code",
   "execution_count": 2,
   "id": "a80968a0-40bb-4fa9-85ef-2d5eefb01975",
   "metadata": {
    "execution": {
     "iopub.execute_input": "2025-07-28T11:04:15.363830Z",
     "iopub.status.busy": "2025-07-28T11:04:15.363339Z",
     "iopub.status.idle": "2025-07-28T11:04:15.368989Z",
     "shell.execute_reply": "2025-07-28T11:04:15.368047Z"
    },
    "papermill": {
     "duration": 0.025998,
     "end_time": "2025-07-28T11:04:15.370577",
     "exception": false,
     "start_time": "2025-07-28T11:04:15.344579",
     "status": "completed"
    },
    "tags": []
   },
   "outputs": [
    {
     "name": "stdout",
     "output_type": "stream",
     "text": [
      "Current working directory: /dss/dsshome1/0C/ra93lal2/cma/CMA_Fairness_v2\n"
     ]
    }
   ],
   "source": [
    "import os\n",
    "print(\"Current working directory:\", os.getcwd())"
   ]
  },
  {
   "cell_type": "code",
   "execution_count": 3,
   "id": "2dce4c03",
   "metadata": {
    "execution": {
     "iopub.execute_input": "2025-07-28T11:04:15.411516Z",
     "iopub.status.busy": "2025-07-28T11:04:15.411057Z",
     "iopub.status.idle": "2025-07-28T11:04:15.417441Z",
     "shell.execute_reply": "2025-07-28T11:04:15.416538Z"
    },
    "papermill": {
     "duration": 0.029697,
     "end_time": "2025-07-28T11:04:15.419405",
     "exception": false,
     "start_time": "2025-07-28T11:04:15.389708",
     "status": "completed"
    },
    "tags": [
     "parameters"
    ]
   },
   "outputs": [],
   "source": [
    "run_no = 0\n",
    "universe_id = \"test\"\n",
    "universe = {\n",
    "    \"training_size\": \"2014\", # \"25k\", \"5k\", \"1k\", \"2014\"\n",
    "    \"scale\": \"scale\", # \"scale\", \"do-not-scale\",\n",
    "    #\"stratify_split\": \"target\", # \"none\", \"target\", \"protected-attribute\", \"both\",\n",
    "    \"model\": \"elasticnet\", # \"logreg\", \"penalized_logreg\", \"rf\", \"gbm\", \"elasticnet\"\n",
    "    \"cutoff\": [\"quantile_0.15\", \"quantile_0.30\"],\n",
    "    \"exclude_features\": \"age\", # \"none\", \"nationality\", \"sex\", \"nationality-sex\", \"age\"\n",
    "    \"exclude_subgroups\": \"keep-all\", # \"keep-all\", \"drop-non-german\"\n",
    "    \"eval_fairness_grouping\": [\"majority-minority\", \"nationality-all\"]\n",
    "}\n",
    "\n",
    "output_dir=\"./output\"\n",
    "seed=0"
   ]
  },
  {
   "cell_type": "code",
   "execution_count": 4,
   "id": "07a3a5cf",
   "metadata": {
    "execution": {
     "iopub.execute_input": "2025-07-28T11:04:15.459895Z",
     "iopub.status.busy": "2025-07-28T11:04:15.459222Z",
     "iopub.status.idle": "2025-07-28T11:04:15.464893Z",
     "shell.execute_reply": "2025-07-28T11:04:15.463731Z"
    },
    "papermill": {
     "duration": 0.027982,
     "end_time": "2025-07-28T11:04:15.467038",
     "exception": false,
     "start_time": "2025-07-28T11:04:15.439056",
     "status": "completed"
    },
    "tags": [
     "injected-parameters"
    ]
   },
   "outputs": [],
   "source": [
    "# Parameters\n",
    "universe_id = \"1ee168a473bc3aea4108efd84ed6e7c0\"\n",
    "run_no = \"11\"\n",
    "universe = \"{\\\"cutoff\\\": [\\\"quantile_0.1\\\", \\\"quantile_0.25\\\"], \\\"eval_fairness_grouping\\\": [\\\"majority-minority\\\", \\\"nationality-all\\\"], \\\"exclude_features\\\": \\\"nationality\\\", \\\"exclude_subgroups\\\": \\\"drop-non-german\\\", \\\"model\\\": \\\"penalized_logreg\\\", \\\"scale\\\": \\\"do-not-scale\\\", \\\"training_size\\\": \\\"2014\\\"}\"\n",
    "output_dir = \"output\"\n",
    "seed = \"2023\"\n"
   ]
  },
  {
   "cell_type": "code",
   "execution_count": 5,
   "id": "1650acaf",
   "metadata": {
    "execution": {
     "iopub.execute_input": "2025-07-28T11:04:15.520490Z",
     "iopub.status.busy": "2025-07-28T11:04:15.520000Z",
     "iopub.status.idle": "2025-07-28T11:04:15.525678Z",
     "shell.execute_reply": "2025-07-28T11:04:15.524471Z"
    },
    "papermill": {
     "duration": 0.035615,
     "end_time": "2025-07-28T11:04:15.528168",
     "exception": false,
     "start_time": "2025-07-28T11:04:15.492553",
     "status": "completed"
    },
    "tags": []
   },
   "outputs": [],
   "source": [
    "import json\n",
    "# Parse universe into dict if it is passed as a string\n",
    "if isinstance(universe, str):\n",
    "    universe = json.loads(universe)"
   ]
  },
  {
   "cell_type": "code",
   "execution_count": 6,
   "id": "16620c48",
   "metadata": {
    "execution": {
     "iopub.execute_input": "2025-07-28T11:04:15.585027Z",
     "iopub.status.busy": "2025-07-28T11:04:15.583978Z",
     "iopub.status.idle": "2025-07-28T11:04:15.630122Z",
     "shell.execute_reply": "2025-07-28T11:04:15.628833Z"
    },
    "papermill": {
     "duration": 0.079121,
     "end_time": "2025-07-28T11:04:15.632932",
     "exception": false,
     "start_time": "2025-07-28T11:04:15.553811",
     "status": "completed"
    },
    "tags": []
   },
   "outputs": [],
   "source": [
    "# Auto-reload the custom package\n",
    "%load_ext autoreload\n",
    "%autoreload 1\n",
    "%aimport fairness_multiverse"
   ]
  },
  {
   "cell_type": "code",
   "execution_count": 7,
   "id": "01c5c9f3",
   "metadata": {
    "execution": {
     "iopub.execute_input": "2025-07-28T11:04:15.693946Z",
     "iopub.status.busy": "2025-07-28T11:04:15.693442Z",
     "iopub.status.idle": "2025-07-28T11:04:17.645056Z",
     "shell.execute_reply": "2025-07-28T11:04:17.643728Z"
    },
    "papermill": {
     "duration": 1.985357,
     "end_time": "2025-07-28T11:04:17.647511",
     "exception": false,
     "start_time": "2025-07-28T11:04:15.662154",
     "status": "completed"
    },
    "tags": []
   },
   "outputs": [],
   "source": [
    "from fairness_multiverse.universe import UniverseAnalysis\n",
    "\n",
    "universe_analysis = UniverseAnalysis(\n",
    "    run_no = run_no,\n",
    "    universe_id = universe_id,\n",
    "    universe = universe,\n",
    "    output_dir=output_dir,\n",
    ")"
   ]
  },
  {
   "cell_type": "code",
   "execution_count": 8,
   "id": "106241f5",
   "metadata": {
    "execution": {
     "iopub.execute_input": "2025-07-28T11:04:17.699233Z",
     "iopub.status.busy": "2025-07-28T11:04:17.698350Z",
     "iopub.status.idle": "2025-07-28T11:04:17.706250Z",
     "shell.execute_reply": "2025-07-28T11:04:17.705120Z"
    },
    "papermill": {
     "duration": 0.035737,
     "end_time": "2025-07-28T11:04:17.708418",
     "exception": false,
     "start_time": "2025-07-28T11:04:17.672681",
     "status": "completed"
    },
    "tags": []
   },
   "outputs": [
    {
     "name": "stdout",
     "output_type": "stream",
     "text": [
      "Using Seed: 2023\n"
     ]
    }
   ],
   "source": [
    "import numpy as np\n",
    "parsed_seed = int(seed)\n",
    "np.random.seed(parsed_seed)\n",
    "print(f\"Using Seed: {parsed_seed}\")"
   ]
  },
  {
   "cell_type": "markdown",
   "id": "e0ebdc57",
   "metadata": {
    "papermill": {
     "duration": 0.037567,
     "end_time": "2025-07-28T11:04:17.771627",
     "exception": false,
     "start_time": "2025-07-28T11:04:17.734060",
     "status": "completed"
    },
    "tags": []
   },
   "source": [
    "# Loading Data"
   ]
  },
  {
   "cell_type": "markdown",
   "id": "681925a3",
   "metadata": {
    "papermill": {
     "duration": 0.010679,
     "end_time": "2025-07-28T11:04:17.792821",
     "exception": false,
     "start_time": "2025-07-28T11:04:17.782142",
     "status": "completed"
    },
    "tags": []
   },
   "source": [
    "Load siab_train, siab_test, siab_calib and/or \n",
    "load siab_train_features, siab_train_labels"
   ]
  },
  {
   "cell_type": "code",
   "execution_count": 9,
   "id": "f0496b8a",
   "metadata": {
    "execution": {
     "iopub.execute_input": "2025-07-28T11:04:17.822320Z",
     "iopub.status.busy": "2025-07-28T11:04:17.821102Z",
     "iopub.status.idle": "2025-07-28T11:04:31.317354Z",
     "shell.execute_reply": "2025-07-28T11:04:31.315942Z"
    },
    "papermill": {
     "duration": 13.516211,
     "end_time": "2025-07-28T11:04:31.319311",
     "exception": false,
     "start_time": "2025-07-28T11:04:17.803100",
     "status": "completed"
    },
    "tags": []
   },
   "outputs": [
    {
     "name": "stdout",
     "output_type": "stream",
     "text": [
      "Loading SIAB data from cache: data/siab_cached.csv.gz\n"
     ]
    },
    {
     "name": "stdout",
     "output_type": "stream",
     "text": [
      "(643690, 164)\n"
     ]
    }
   ],
   "source": [
    "from pathlib import Path\n",
    "import pandas as pd\n",
    "\n",
    "# File paths\n",
    "raw_file = Path(\"data/raw/siab.csv\")\n",
    "cache_file = Path(\"data/siab_cached.csv.gz\")\n",
    "\n",
    "# Ensure cache directory exists\n",
    "cache_file.parent.mkdir(parents=True, exist_ok=True)\n",
    "\n",
    "# Load with simple caching\n",
    "if cache_file.exists():\n",
    "    print(f\"Loading SIAB data from cache: {cache_file}\")\n",
    "    siab = pd.read_csv(cache_file, compression='gzip')\n",
    "else:\n",
    "    print(f\"Cache not found. Reading raw SIAB data: {raw_file}\")\n",
    "    siab = pd.read_csv(raw_file)\n",
    "    siab.to_csv(cache_file, index=False, compression='gzip')\n",
    "    print(f\"Cached SIAB data to: {cache_file}\")\n",
    "\n",
    "# Now use `siab` DataFrame as needed\n",
    "print(siab.shape)"
   ]
  },
  {
   "cell_type": "code",
   "execution_count": 10,
   "id": "db0ca512-5f53-4dba-abdb-a2888bca41ba",
   "metadata": {
    "execution": {
     "iopub.execute_input": "2025-07-28T11:04:31.372242Z",
     "iopub.status.busy": "2025-07-28T11:04:31.371604Z",
     "iopub.status.idle": "2025-07-28T11:04:31.378046Z",
     "shell.execute_reply": "2025-07-28T11:04:31.376879Z"
    },
    "papermill": {
     "duration": 0.034003,
     "end_time": "2025-07-28T11:04:31.380193",
     "exception": false,
     "start_time": "2025-07-28T11:04:31.346190",
     "status": "completed"
    },
    "tags": []
   },
   "outputs": [],
   "source": [
    "#siab"
   ]
  },
  {
   "cell_type": "code",
   "execution_count": 11,
   "id": "a0edb063",
   "metadata": {
    "execution": {
     "iopub.execute_input": "2025-07-28T11:04:31.430954Z",
     "iopub.status.busy": "2025-07-28T11:04:31.429881Z",
     "iopub.status.idle": "2025-07-28T11:04:31.435444Z",
     "shell.execute_reply": "2025-07-28T11:04:31.434339Z"
    },
    "papermill": {
     "duration": 0.033202,
     "end_time": "2025-07-28T11:04:31.437382",
     "exception": false,
     "start_time": "2025-07-28T11:04:31.404180",
     "status": "completed"
    },
    "tags": []
   },
   "outputs": [],
   "source": [
    "#import pandas as pd\n",
    "#\n",
    "#X_train = pd.read_csv(\"./data/X_train.csv\")\n",
    "#y_train = pd.read_csv(\"./data/y_train.csv\")"
   ]
  },
  {
   "cell_type": "code",
   "execution_count": 12,
   "id": "63d08085",
   "metadata": {
    "execution": {
     "iopub.execute_input": "2025-07-28T11:04:31.479823Z",
     "iopub.status.busy": "2025-07-28T11:04:31.478877Z",
     "iopub.status.idle": "2025-07-28T11:04:31.484586Z",
     "shell.execute_reply": "2025-07-28T11:04:31.483530Z"
    },
    "papermill": {
     "duration": 0.0283,
     "end_time": "2025-07-28T11:04:31.486163",
     "exception": false,
     "start_time": "2025-07-28T11:04:31.457863",
     "status": "completed"
    },
    "tags": []
   },
   "outputs": [],
   "source": [
    "#X_test = pd.read_csv(\"./data/X_test.csv\")\n",
    "#y_true = pd.read_csv(\"./data/y_test.csv\")"
   ]
  },
  {
   "cell_type": "code",
   "execution_count": 13,
   "id": "98a8d0fa-1d3d-4ed8-bb2c-281470e24add",
   "metadata": {
    "execution": {
     "iopub.execute_input": "2025-07-28T11:04:31.533010Z",
     "iopub.status.busy": "2025-07-28T11:04:31.532194Z",
     "iopub.status.idle": "2025-07-28T11:04:31.537980Z",
     "shell.execute_reply": "2025-07-28T11:04:31.536818Z"
    },
    "papermill": {
     "duration": 0.031713,
     "end_time": "2025-07-28T11:04:31.539992",
     "exception": false,
     "start_time": "2025-07-28T11:04:31.508279",
     "status": "completed"
    },
    "tags": []
   },
   "outputs": [],
   "source": [
    "# Calibration data for conformal\n",
    "#X_calib = pd.read_csv(\"./data/X_calib.csv\")\n",
    "#y_calib = pd.read_csv(\"./data/y_calib.csv\")"
   ]
  },
  {
   "cell_type": "markdown",
   "id": "9901737e-04df-44f0-9100-f5ad144ed040",
   "metadata": {
    "papermill": {
     "duration": 0.024219,
     "end_time": "2025-07-28T11:04:31.588103",
     "exception": false,
     "start_time": "2025-07-28T11:04:31.563884",
     "status": "completed"
    },
    "tags": []
   },
   "source": [
    "# Splitting Data and Setting Training Data Size"
   ]
  },
  {
   "cell_type": "code",
   "execution_count": 14,
   "id": "acbc8f7d-8fc8-4e86-8c59-5dcb0f58384b",
   "metadata": {
    "execution": {
     "iopub.execute_input": "2025-07-28T11:04:31.638595Z",
     "iopub.status.busy": "2025-07-28T11:04:31.637784Z",
     "iopub.status.idle": "2025-07-28T11:04:31.647202Z",
     "shell.execute_reply": "2025-07-28T11:04:31.646066Z"
    },
    "papermill": {
     "duration": 0.036773,
     "end_time": "2025-07-28T11:04:31.649014",
     "exception": false,
     "start_time": "2025-07-28T11:04:31.612241",
     "status": "completed"
    },
    "tags": []
   },
   "outputs": [],
   "source": [
    "def sample_by_year(df, training_size, random_state=42):\n",
    "    if training_size == \"2014\":\n",
    "        return df[df[\"year\"] == 2014].reset_index(drop=True)\n",
    "    \n",
    "    size_map = {\n",
    "        \"25k\": 5000,\n",
    "        \"5k\": 1000,\n",
    "        \"1k\": 200\n",
    "    }\n",
    "\n",
    "    if training_size not in size_map:\n",
    "        return df.reset_index(drop=True)  # use all data\n",
    "\n",
    "    n_per_year = size_map[training_size]\n",
    "    grouped = df.groupby(\"year\")\n",
    "    sampled = grouped.apply(lambda x: x.sample(n=min(n_per_year, len(x)), random_state=random_state))\n",
    "    return sampled.reset_index(drop=True)"
   ]
  },
  {
   "cell_type": "code",
   "execution_count": 15,
   "id": "6d931f52-beaf-43ff-9e78-9d44a448d54e",
   "metadata": {
    "execution": {
     "iopub.execute_input": "2025-07-28T11:04:31.690221Z",
     "iopub.status.busy": "2025-07-28T11:04:31.689628Z",
     "iopub.status.idle": "2025-07-28T11:04:31.856802Z",
     "shell.execute_reply": "2025-07-28T11:04:31.855728Z"
    },
    "papermill": {
     "duration": 0.190186,
     "end_time": "2025-07-28T11:04:31.858739",
     "exception": false,
     "start_time": "2025-07-28T11:04:31.668553",
     "status": "completed"
    },
    "tags": []
   },
   "outputs": [],
   "source": [
    "siab_s = sample_by_year(siab, universe[\"training_size\"])"
   ]
  },
  {
   "cell_type": "code",
   "execution_count": 16,
   "id": "5db0a40e-a4e2-4920-be85-b12ae061d70d",
   "metadata": {
    "execution": {
     "iopub.execute_input": "2025-07-28T11:04:31.900717Z",
     "iopub.status.busy": "2025-07-28T11:04:31.900153Z",
     "iopub.status.idle": "2025-07-28T11:04:31.918258Z",
     "shell.execute_reply": "2025-07-28T11:04:31.917240Z"
    },
    "papermill": {
     "duration": 0.041032,
     "end_time": "2025-07-28T11:04:31.920100",
     "exception": false,
     "start_time": "2025-07-28T11:04:31.879068",
     "status": "completed"
    },
    "tags": []
   },
   "outputs": [
    {
     "data": {
      "text/plain": [
       "year\n",
       "2014    87158\n",
       "dtype: int64"
      ]
     },
     "metadata": {},
     "output_type": "display_data"
    }
   ],
   "source": [
    "display(siab_s.groupby(\"year\").size())"
   ]
  },
  {
   "cell_type": "code",
   "execution_count": 17,
   "id": "a561edb4-d032-42cb-8256-22eac1111c64",
   "metadata": {
    "execution": {
     "iopub.execute_input": "2025-07-28T11:04:31.962294Z",
     "iopub.status.busy": "2025-07-28T11:04:31.961659Z",
     "iopub.status.idle": "2025-07-28T11:04:32.290521Z",
     "shell.execute_reply": "2025-07-28T11:04:32.289499Z"
    },
    "papermill": {
     "duration": 0.352492,
     "end_time": "2025-07-28T11:04:32.292628",
     "exception": false,
     "start_time": "2025-07-28T11:04:31.940136",
     "status": "completed"
    },
    "tags": []
   },
   "outputs": [],
   "source": [
    "siab_train = siab_s[siab_s.year < 2015]\n",
    "siab_calib = siab[siab.year == 2015]\n",
    "siab_test = siab[siab.year == 2016]"
   ]
  },
  {
   "cell_type": "code",
   "execution_count": 18,
   "id": "472de16f-c3db-4916-846b-1f0de9cf1746",
   "metadata": {
    "execution": {
     "iopub.execute_input": "2025-07-28T11:04:32.334555Z",
     "iopub.status.busy": "2025-07-28T11:04:32.334118Z",
     "iopub.status.idle": "2025-07-28T11:04:32.390016Z",
     "shell.execute_reply": "2025-07-28T11:04:32.388761Z"
    },
    "papermill": {
     "duration": 0.078951,
     "end_time": "2025-07-28T11:04:32.391688",
     "exception": false,
     "start_time": "2025-07-28T11:04:32.312737",
     "status": "completed"
    },
    "tags": []
   },
   "outputs": [],
   "source": [
    "X_train = siab_train.iloc[:,4:164]\n",
    "y_train = siab_train.iloc[:, [3]]"
   ]
  },
  {
   "cell_type": "code",
   "execution_count": 19,
   "id": "828c96af-f43a-4ed6-ba47-8ac73a47d56c",
   "metadata": {
    "execution": {
     "iopub.execute_input": "2025-07-28T11:04:32.433000Z",
     "iopub.status.busy": "2025-07-28T11:04:32.432196Z",
     "iopub.status.idle": "2025-07-28T11:04:32.489981Z",
     "shell.execute_reply": "2025-07-28T11:04:32.488758Z"
    },
    "papermill": {
     "duration": 0.079911,
     "end_time": "2025-07-28T11:04:32.491875",
     "exception": false,
     "start_time": "2025-07-28T11:04:32.411964",
     "status": "completed"
    },
    "tags": []
   },
   "outputs": [],
   "source": [
    "X_calib = siab_calib.iloc[:,4:164]\n",
    "y_calib = siab_calib.iloc[:, [3]]"
   ]
  },
  {
   "cell_type": "code",
   "execution_count": 20,
   "id": "c34be9c3-6bd6-476e-acd3-845840e303be",
   "metadata": {
    "execution": {
     "iopub.execute_input": "2025-07-28T11:04:32.535882Z",
     "iopub.status.busy": "2025-07-28T11:04:32.535389Z",
     "iopub.status.idle": "2025-07-28T11:04:32.624753Z",
     "shell.execute_reply": "2025-07-28T11:04:32.623480Z"
    },
    "papermill": {
     "duration": 0.113037,
     "end_time": "2025-07-28T11:04:32.627118",
     "exception": false,
     "start_time": "2025-07-28T11:04:32.514081",
     "status": "completed"
    },
    "tags": []
   },
   "outputs": [],
   "source": [
    "X_test = siab_test.iloc[:,4:164]\n",
    "y_true = siab_test.iloc[:, [3]]"
   ]
  },
  {
   "cell_type": "code",
   "execution_count": 21,
   "id": "e6c733c5",
   "metadata": {
    "execution": {
     "iopub.execute_input": "2025-07-28T11:04:32.675203Z",
     "iopub.status.busy": "2025-07-28T11:04:32.674298Z",
     "iopub.status.idle": "2025-07-28T11:04:32.817305Z",
     "shell.execute_reply": "2025-07-28T11:04:32.816357Z"
    },
    "papermill": {
     "duration": 0.167324,
     "end_time": "2025-07-28T11:04:32.819174",
     "exception": false,
     "start_time": "2025-07-28T11:04:32.651850",
     "status": "completed"
    },
    "tags": []
   },
   "outputs": [],
   "source": [
    "# Auxiliary data needed downstream in the pipeline\n",
    "\n",
    "org_train = X_train.copy()\n",
    "org_test = X_test.copy()\n",
    "org_calib = X_calib.copy()"
   ]
  },
  {
   "cell_type": "markdown",
   "id": "0a4a1b33",
   "metadata": {
    "papermill": {
     "duration": 0.010682,
     "end_time": "2025-07-28T11:04:32.848393",
     "exception": false,
     "start_time": "2025-07-28T11:04:32.837711",
     "status": "completed"
    },
    "tags": []
   },
   "source": [
    "# Preprocessing Data"
   ]
  },
  {
   "cell_type": "code",
   "execution_count": 22,
   "id": "ca879031",
   "metadata": {
    "execution": {
     "iopub.execute_input": "2025-07-28T11:04:32.879628Z",
     "iopub.status.busy": "2025-07-28T11:04:32.879089Z",
     "iopub.status.idle": "2025-07-28T11:04:32.886274Z",
     "shell.execute_reply": "2025-07-28T11:04:32.885323Z"
    },
    "papermill": {
     "duration": 0.028944,
     "end_time": "2025-07-28T11:04:32.887850",
     "exception": false,
     "start_time": "2025-07-28T11:04:32.858906",
     "status": "completed"
    },
    "tags": []
   },
   "outputs": [],
   "source": [
    "# EXCLUDE PROTECTED FEATURES\n",
    "# ----------------------\n",
    "# \"exclude_features\": \"none\", # \"nationality\", \"sex\", \"nationality-sex\"\n",
    "\n",
    "excluded_features = universe[\"exclude_features\"].split(\"-\") # split, e.g.: \"nationality-sex\" -> [\"nationality\", \"sex\"]\n",
    "excluded_features_dictionary = {\n",
    "    \"nationality\": [\"maxdeutsch1\", \"maxdeutsch.Missing.\"],\n",
    "    \"sex\": [\"frau1\"],\n",
    "    \"age\": [\"age\"],\n",
    "}\n"
   ]
  },
  {
   "cell_type": "code",
   "execution_count": 23,
   "id": "b745ac60",
   "metadata": {
    "execution": {
     "iopub.execute_input": "2025-07-28T11:04:32.929719Z",
     "iopub.status.busy": "2025-07-28T11:04:32.929100Z",
     "iopub.status.idle": "2025-07-28T11:04:32.935191Z",
     "shell.execute_reply": "2025-07-28T11:04:32.934272Z"
    },
    "papermill": {
     "duration": 0.029675,
     "end_time": "2025-07-28T11:04:32.937162",
     "exception": false,
     "start_time": "2025-07-28T11:04:32.907487",
     "status": "completed"
    },
    "tags": []
   },
   "outputs": [],
   "source": [
    "# Code nice names to column names\n",
    "\n",
    "excluded_features_columns = [\n",
    "    excluded_features_dictionary[f] for f in excluded_features if len(f) > 0 and f != \"none\"\n",
    "]"
   ]
  },
  {
   "cell_type": "code",
   "execution_count": 24,
   "id": "f84f73a2",
   "metadata": {
    "execution": {
     "iopub.execute_input": "2025-07-28T11:04:32.980965Z",
     "iopub.status.busy": "2025-07-28T11:04:32.980069Z",
     "iopub.status.idle": "2025-07-28T11:04:32.987695Z",
     "shell.execute_reply": "2025-07-28T11:04:32.986597Z"
    },
    "papermill": {
     "duration": 0.031852,
     "end_time": "2025-07-28T11:04:32.989473",
     "exception": false,
     "start_time": "2025-07-28T11:04:32.957621",
     "status": "completed"
    },
    "tags": []
   },
   "outputs": [],
   "source": [
    "from utils import flatten_once\n",
    "\n",
    "excluded_features_columns = flatten_once(excluded_features_columns)"
   ]
  },
  {
   "cell_type": "code",
   "execution_count": 25,
   "id": "884dea22",
   "metadata": {
    "execution": {
     "iopub.execute_input": "2025-07-28T11:04:33.035299Z",
     "iopub.status.busy": "2025-07-28T11:04:33.034249Z",
     "iopub.status.idle": "2025-07-28T11:04:33.088240Z",
     "shell.execute_reply": "2025-07-28T11:04:33.087132Z"
    },
    "papermill": {
     "duration": 0.077518,
     "end_time": "2025-07-28T11:04:33.090337",
     "exception": false,
     "start_time": "2025-07-28T11:04:33.012819",
     "status": "completed"
    },
    "tags": []
   },
   "outputs": [
    {
     "name": "stdout",
     "output_type": "stream",
     "text": [
      "Dropping features: ['maxdeutsch1', 'maxdeutsch.Missing.']\n"
     ]
    }
   ],
   "source": [
    "if len(excluded_features_columns) > 0:\n",
    "    print(f\"Dropping features: {excluded_features_columns}\")\n",
    "    X_train.drop(excluded_features_columns, axis=1, inplace=True)"
   ]
  },
  {
   "cell_type": "code",
   "execution_count": 26,
   "id": "95ab8b16",
   "metadata": {
    "execution": {
     "iopub.execute_input": "2025-07-28T11:04:33.136770Z",
     "iopub.status.busy": "2025-07-28T11:04:33.135891Z",
     "iopub.status.idle": "2025-07-28T11:04:33.188020Z",
     "shell.execute_reply": "2025-07-28T11:04:33.186924Z"
    },
    "papermill": {
     "duration": 0.07516,
     "end_time": "2025-07-28T11:04:33.189458",
     "exception": false,
     "start_time": "2025-07-28T11:04:33.114298",
     "status": "completed"
    },
    "tags": []
   },
   "outputs": [
    {
     "name": "stdout",
     "output_type": "stream",
     "text": [
      "Dropping features: ['maxdeutsch1', 'maxdeutsch.Missing.']\n"
     ]
    }
   ],
   "source": [
    "if len(excluded_features_columns) > 0:\n",
    "    print(f\"Dropping features: {excluded_features_columns}\")\n",
    "    X_test.drop(excluded_features_columns, axis=1, inplace=True)"
   ]
  },
  {
   "cell_type": "code",
   "execution_count": 27,
   "id": "1853aaf5-fb9f-46cb-a2b5-8ea4ae2237e4",
   "metadata": {
    "execution": {
     "iopub.execute_input": "2025-07-28T11:04:33.234533Z",
     "iopub.status.busy": "2025-07-28T11:04:33.233841Z",
     "iopub.status.idle": "2025-07-28T11:04:33.287735Z",
     "shell.execute_reply": "2025-07-28T11:04:33.286642Z"
    },
    "papermill": {
     "duration": 0.079653,
     "end_time": "2025-07-28T11:04:33.290390",
     "exception": false,
     "start_time": "2025-07-28T11:04:33.210737",
     "status": "completed"
    },
    "tags": []
   },
   "outputs": [
    {
     "name": "stdout",
     "output_type": "stream",
     "text": [
      "Dropping features: ['maxdeutsch1', 'maxdeutsch.Missing.']\n"
     ]
    }
   ],
   "source": [
    "if len(excluded_features_columns) > 0:\n",
    "    print(f\"Dropping features: {excluded_features_columns}\")\n",
    "    X_calib.drop(excluded_features_columns, axis=1, inplace=True)"
   ]
  },
  {
   "cell_type": "code",
   "execution_count": 28,
   "id": "6727d079-03e5-481e-9d38-292a90b7a0a8",
   "metadata": {
    "execution": {
     "iopub.execute_input": "2025-07-28T11:04:33.335078Z",
     "iopub.status.busy": "2025-07-28T11:04:33.334555Z",
     "iopub.status.idle": "2025-07-28T11:04:33.340510Z",
     "shell.execute_reply": "2025-07-28T11:04:33.339372Z"
    },
    "papermill": {
     "duration": 0.029985,
     "end_time": "2025-07-28T11:04:33.342596",
     "exception": false,
     "start_time": "2025-07-28T11:04:33.312611",
     "status": "completed"
    },
    "tags": []
   },
   "outputs": [],
   "source": [
    "# SPLIT & STRATIFY DATA\n",
    "# ----------------------"
   ]
  },
  {
   "cell_type": "code",
   "execution_count": 29,
   "id": "76c4dc6d",
   "metadata": {
    "execution": {
     "iopub.execute_input": "2025-07-28T11:04:33.388821Z",
     "iopub.status.busy": "2025-07-28T11:04:33.387955Z",
     "iopub.status.idle": "2025-07-28T11:04:33.394379Z",
     "shell.execute_reply": "2025-07-28T11:04:33.393333Z"
    },
    "papermill": {
     "duration": 0.031793,
     "end_time": "2025-07-28T11:04:33.396130",
     "exception": false,
     "start_time": "2025-07-28T11:04:33.364337",
     "status": "completed"
    },
    "tags": []
   },
   "outputs": [],
   "source": [
    "# EXCLUDE CERTAIN SUBGROUPS\n",
    "# ----------------------\n",
    "\n",
    "mode = universe.get(\"exclude_subgroups\", \"keep-all\") \n",
    "# Fetches the exclude_subgroups setting from the universe dict.\n",
    "# Defaults to \"keep-all\" if the key is missing."
   ]
  },
  {
   "cell_type": "code",
   "execution_count": 30,
   "id": "21994072",
   "metadata": {
    "execution": {
     "iopub.execute_input": "2025-07-28T11:04:33.451137Z",
     "iopub.status.busy": "2025-07-28T11:04:33.450392Z",
     "iopub.status.idle": "2025-07-28T11:04:33.458198Z",
     "shell.execute_reply": "2025-07-28T11:04:33.457019Z"
    },
    "papermill": {
     "duration": 0.037991,
     "end_time": "2025-07-28T11:04:33.460163",
     "exception": false,
     "start_time": "2025-07-28T11:04:33.422172",
     "status": "completed"
    },
    "tags": []
   },
   "outputs": [],
   "source": [
    "if mode == \"keep-all\":\n",
    "    keep_mask = pd.Series(True, index=org_train.index)\n",
    "\n",
    "# org_train contains the original feature columns from features_org (in Simson)\n",
    "# features_org contains unprocessed features, for me X_train at beginning ???\n",
    "# For keep-all, creates a boolean Series (keep_mask) of all True, so no rows are removed.\n",
    "\n",
    "elif mode == \"drop-non-german\":\n",
    "    keep_mask = org_train[\"maxdeutsch1\"] == 1 # ??? what about missing values?\n",
    "\n",
    "else:\n",
    "    raise ValueError(f\"Unsupported mode for exclude_subgroups: {mode}\")\n"
   ]
  },
  {
   "cell_type": "code",
   "execution_count": 31,
   "id": "71651440",
   "metadata": {
    "execution": {
     "iopub.execute_input": "2025-07-28T11:04:33.499926Z",
     "iopub.status.busy": "2025-07-28T11:04:33.499426Z",
     "iopub.status.idle": "2025-07-28T11:04:33.507369Z",
     "shell.execute_reply": "2025-07-28T11:04:33.506348Z"
    },
    "papermill": {
     "duration": 0.029,
     "end_time": "2025-07-28T11:04:33.509027",
     "exception": false,
     "start_time": "2025-07-28T11:04:33.480027",
     "status": "completed"
    },
    "tags": []
   },
   "outputs": [
    {
     "name": "stdout",
     "output_type": "stream",
     "text": [
      "Dropping 12995 rows (14.91%) where mode='drop-non-german'\n"
     ]
    }
   ],
   "source": [
    "n_drop = (~keep_mask).sum() # Calculates how many rows are set to be dropped\n",
    "if n_drop > 0:\n",
    "    pct = n_drop / len(keep_mask) * 100\n",
    "    print(f\"Dropping {n_drop} rows ({pct:.2f}%) where mode='{mode}'\")"
   ]
  },
  {
   "cell_type": "code",
   "execution_count": 32,
   "id": "5fb8eee5",
   "metadata": {
    "execution": {
     "iopub.execute_input": "2025-07-28T11:04:33.554653Z",
     "iopub.status.busy": "2025-07-28T11:04:33.553924Z",
     "iopub.status.idle": "2025-07-28T11:04:33.608564Z",
     "shell.execute_reply": "2025-07-28T11:04:33.607382Z"
    },
    "papermill": {
     "duration": 0.079133,
     "end_time": "2025-07-28T11:04:33.610712",
     "exception": false,
     "start_time": "2025-07-28T11:04:33.531579",
     "status": "completed"
    },
    "tags": []
   },
   "outputs": [],
   "source": [
    "X_train = X_train[keep_mask]"
   ]
  },
  {
   "cell_type": "code",
   "execution_count": 33,
   "id": "b202bb3a",
   "metadata": {
    "execution": {
     "iopub.execute_input": "2025-07-28T11:04:33.659885Z",
     "iopub.status.busy": "2025-07-28T11:04:33.659310Z",
     "iopub.status.idle": "2025-07-28T11:04:33.666637Z",
     "shell.execute_reply": "2025-07-28T11:04:33.665712Z"
    },
    "papermill": {
     "duration": 0.032728,
     "end_time": "2025-07-28T11:04:33.668313",
     "exception": false,
     "start_time": "2025-07-28T11:04:33.635585",
     "status": "completed"
    },
    "tags": []
   },
   "outputs": [],
   "source": [
    "y_train = y_train[keep_mask]"
   ]
  },
  {
   "cell_type": "markdown",
   "id": "493e2ac3",
   "metadata": {
    "papermill": {
     "duration": 0.020827,
     "end_time": "2025-07-28T11:04:33.712662",
     "exception": false,
     "start_time": "2025-07-28T11:04:33.691835",
     "status": "completed"
    },
    "tags": []
   },
   "source": [
    "# Model Training"
   ]
  },
  {
   "cell_type": "code",
   "execution_count": 34,
   "id": "679e1268",
   "metadata": {
    "execution": {
     "iopub.execute_input": "2025-07-28T11:04:33.760481Z",
     "iopub.status.busy": "2025-07-28T11:04:33.759514Z",
     "iopub.status.idle": "2025-07-28T11:04:33.869059Z",
     "shell.execute_reply": "2025-07-28T11:04:33.867965Z"
    },
    "papermill": {
     "duration": 0.136419,
     "end_time": "2025-07-28T11:04:33.870671",
     "exception": false,
     "start_time": "2025-07-28T11:04:33.734252",
     "status": "completed"
    },
    "tags": []
   },
   "outputs": [],
   "source": [
    "from sklearn.linear_model import LogisticRegression\n",
    "from sklearn.ensemble import GradientBoostingClassifier, RandomForestClassifier\n",
    "\n",
    "if (universe[\"model\"] == \"logreg\"):\n",
    "    model = LogisticRegression() #penalty=\"none\") #, solver=\"newton-cg\", max_iter=1) # include random_state=19 ?\n",
    "elif (universe[\"model\"] == \"penalized_logreg\"):\n",
    "    model = LogisticRegression(penalty=\"l2\", C=1.0) #, solver=\"newton-cg\", max_iter=1)\n",
    "elif (universe[\"model\"] == \"rf\"):\n",
    "    model = RandomForestClassifier(n_estimators=100, n_jobs=-1)\n",
    "elif (universe[\"model\"] == \"gbm\"):\n",
    "    model = GradientBoostingClassifier()\n",
    "elif (universe[\"model\"] == \"elasticnet\"):\n",
    "    model = LogisticRegression(penalty = 'elasticnet', solver = 'saga', l1_ratio = 0.5, max_iter=5000) # which solver to use?\n",
    "else:\n",
    "    raise \"Unsupported universe.model\""
   ]
  },
  {
   "cell_type": "code",
   "execution_count": 35,
   "id": "0cc8f744",
   "metadata": {
    "execution": {
     "iopub.execute_input": "2025-07-28T11:04:33.906492Z",
     "iopub.status.busy": "2025-07-28T11:04:33.906010Z",
     "iopub.status.idle": "2025-07-28T11:04:33.912970Z",
     "shell.execute_reply": "2025-07-28T11:04:33.911984Z"
    },
    "papermill": {
     "duration": 0.02251,
     "end_time": "2025-07-28T11:04:33.914666",
     "exception": false,
     "start_time": "2025-07-28T11:04:33.892156",
     "status": "completed"
    },
    "tags": []
   },
   "outputs": [],
   "source": [
    "import numpy as np\n",
    "from sklearn.pipeline import Pipeline\n",
    "from sklearn.preprocessing import StandardScaler\n",
    "\n",
    "model = Pipeline([\n",
    "    #(\"continuous_processor\", continuous_processor),\n",
    "    #(\"categorical_preprocessor\", categorical_preprocessor),\n",
    "    (\"scale\", StandardScaler() if universe[\"scale\"] == \"scale\" else None), \n",
    "    (\"model\", model),\n",
    "])"
   ]
  },
  {
   "cell_type": "code",
   "execution_count": 36,
   "id": "9442c04d",
   "metadata": {
    "execution": {
     "iopub.execute_input": "2025-07-28T11:04:33.959466Z",
     "iopub.status.busy": "2025-07-28T11:04:33.958914Z",
     "iopub.status.idle": "2025-07-28T11:04:37.272940Z",
     "shell.execute_reply": "2025-07-28T11:04:37.271891Z"
    },
    "papermill": {
     "duration": 3.338394,
     "end_time": "2025-07-28T11:04:37.274736",
     "exception": false,
     "start_time": "2025-07-28T11:04:33.936342",
     "status": "completed"
    },
    "tags": []
   },
   "outputs": [
    {
     "name": "stderr",
     "output_type": "stream",
     "text": [
      "/dss/dsshome1/0C/ra93lal2/.local/share/virtualenvs/CMA_Fairness_v2-3j10GkSs/lib/python3.10/site-packages/sklearn/linear_model/_logistic.py:444: ConvergenceWarning: lbfgs failed to converge (status=1):\n",
      "STOP: TOTAL NO. of ITERATIONS REACHED LIMIT.\n",
      "\n",
      "Increase the number of iterations (max_iter) or scale the data as shown in:\n",
      "    https://scikit-learn.org/stable/modules/preprocessing.html\n",
      "Please also refer to the documentation for alternative solver options:\n",
      "    https://scikit-learn.org/stable/modules/linear_model.html#logistic-regression\n",
      "  n_iter_i = _check_optimize_result(\n"
     ]
    },
    {
     "data": {
      "text/html": [
       "<style>#sk-container-id-1 {color: black;background-color: white;}#sk-container-id-1 pre{padding: 0;}#sk-container-id-1 div.sk-toggleable {background-color: white;}#sk-container-id-1 label.sk-toggleable__label {cursor: pointer;display: block;width: 100%;margin-bottom: 0;padding: 0.3em;box-sizing: border-box;text-align: center;}#sk-container-id-1 label.sk-toggleable__label-arrow:before {content: \"▸\";float: left;margin-right: 0.25em;color: #696969;}#sk-container-id-1 label.sk-toggleable__label-arrow:hover:before {color: black;}#sk-container-id-1 div.sk-estimator:hover label.sk-toggleable__label-arrow:before {color: black;}#sk-container-id-1 div.sk-toggleable__content {max-height: 0;max-width: 0;overflow: hidden;text-align: left;background-color: #f0f8ff;}#sk-container-id-1 div.sk-toggleable__content pre {margin: 0.2em;color: black;border-radius: 0.25em;background-color: #f0f8ff;}#sk-container-id-1 input.sk-toggleable__control:checked~div.sk-toggleable__content {max-height: 200px;max-width: 100%;overflow: auto;}#sk-container-id-1 input.sk-toggleable__control:checked~label.sk-toggleable__label-arrow:before {content: \"▾\";}#sk-container-id-1 div.sk-estimator input.sk-toggleable__control:checked~label.sk-toggleable__label {background-color: #d4ebff;}#sk-container-id-1 div.sk-label input.sk-toggleable__control:checked~label.sk-toggleable__label {background-color: #d4ebff;}#sk-container-id-1 input.sk-hidden--visually {border: 0;clip: rect(1px 1px 1px 1px);clip: rect(1px, 1px, 1px, 1px);height: 1px;margin: -1px;overflow: hidden;padding: 0;position: absolute;width: 1px;}#sk-container-id-1 div.sk-estimator {font-family: monospace;background-color: #f0f8ff;border: 1px dotted black;border-radius: 0.25em;box-sizing: border-box;margin-bottom: 0.5em;}#sk-container-id-1 div.sk-estimator:hover {background-color: #d4ebff;}#sk-container-id-1 div.sk-parallel-item::after {content: \"\";width: 100%;border-bottom: 1px solid gray;flex-grow: 1;}#sk-container-id-1 div.sk-label:hover label.sk-toggleable__label {background-color: #d4ebff;}#sk-container-id-1 div.sk-serial::before {content: \"\";position: absolute;border-left: 1px solid gray;box-sizing: border-box;top: 0;bottom: 0;left: 50%;z-index: 0;}#sk-container-id-1 div.sk-serial {display: flex;flex-direction: column;align-items: center;background-color: white;padding-right: 0.2em;padding-left: 0.2em;position: relative;}#sk-container-id-1 div.sk-item {position: relative;z-index: 1;}#sk-container-id-1 div.sk-parallel {display: flex;align-items: stretch;justify-content: center;background-color: white;position: relative;}#sk-container-id-1 div.sk-item::before, #sk-container-id-1 div.sk-parallel-item::before {content: \"\";position: absolute;border-left: 1px solid gray;box-sizing: border-box;top: 0;bottom: 0;left: 50%;z-index: -1;}#sk-container-id-1 div.sk-parallel-item {display: flex;flex-direction: column;z-index: 1;position: relative;background-color: white;}#sk-container-id-1 div.sk-parallel-item:first-child::after {align-self: flex-end;width: 50%;}#sk-container-id-1 div.sk-parallel-item:last-child::after {align-self: flex-start;width: 50%;}#sk-container-id-1 div.sk-parallel-item:only-child::after {width: 0;}#sk-container-id-1 div.sk-dashed-wrapped {border: 1px dashed gray;margin: 0 0.4em 0.5em 0.4em;box-sizing: border-box;padding-bottom: 0.4em;background-color: white;}#sk-container-id-1 div.sk-label label {font-family: monospace;font-weight: bold;display: inline-block;line-height: 1.2em;}#sk-container-id-1 div.sk-label-container {text-align: center;}#sk-container-id-1 div.sk-container {/* jupyter's `normalize.less` sets `[hidden] { display: none; }` but bootstrap.min.css set `[hidden] { display: none !important; }` so we also need the `!important` here to be able to override the default hidden behavior on the sphinx rendered scikit-learn.org. See: https://github.com/scikit-learn/scikit-learn/issues/21755 */display: inline-block !important;position: relative;}#sk-container-id-1 div.sk-text-repr-fallback {display: none;}</style><div id=\"sk-container-id-1\" class=\"sk-top-container\"><div class=\"sk-text-repr-fallback\"><pre>Pipeline(steps=[(&#x27;scale&#x27;, None), (&#x27;model&#x27;, LogisticRegression())])</pre><b>In a Jupyter environment, please rerun this cell to show the HTML representation or trust the notebook. <br />On GitHub, the HTML representation is unable to render, please try loading this page with nbviewer.org.</b></div><div class=\"sk-container\" hidden><div class=\"sk-item sk-dashed-wrapped\"><div class=\"sk-label-container\"><div class=\"sk-label sk-toggleable\"><input class=\"sk-toggleable__control sk-hidden--visually\" id=\"sk-estimator-id-1\" type=\"checkbox\" ><label for=\"sk-estimator-id-1\" class=\"sk-toggleable__label sk-toggleable__label-arrow\">Pipeline</label><div class=\"sk-toggleable__content\"><pre>Pipeline(steps=[(&#x27;scale&#x27;, None), (&#x27;model&#x27;, LogisticRegression())])</pre></div></div></div><div class=\"sk-serial\"><div class=\"sk-item\"><div class=\"sk-estimator sk-toggleable\"><input class=\"sk-toggleable__control sk-hidden--visually\" id=\"sk-estimator-id-2\" type=\"checkbox\" ><label for=\"sk-estimator-id-2\" class=\"sk-toggleable__label sk-toggleable__label-arrow\">None</label><div class=\"sk-toggleable__content\"><pre>None</pre></div></div></div><div class=\"sk-item\"><div class=\"sk-estimator sk-toggleable\"><input class=\"sk-toggleable__control sk-hidden--visually\" id=\"sk-estimator-id-3\" type=\"checkbox\" ><label for=\"sk-estimator-id-3\" class=\"sk-toggleable__label sk-toggleable__label-arrow\">LogisticRegression</label><div class=\"sk-toggleable__content\"><pre>LogisticRegression()</pre></div></div></div></div></div></div></div>"
      ],
      "text/plain": [
       "Pipeline(steps=[('scale', None), ('model', LogisticRegression())])"
      ]
     },
     "execution_count": 36,
     "metadata": {},
     "output_type": "execute_result"
    }
   ],
   "source": [
    "model.fit(X_train, y_train.values.ravel())"
   ]
  },
  {
   "cell_type": "code",
   "execution_count": 37,
   "id": "af59f8c0",
   "metadata": {
    "execution": {
     "iopub.execute_input": "2025-07-28T11:04:37.322246Z",
     "iopub.status.busy": "2025-07-28T11:04:37.321455Z",
     "iopub.status.idle": "2025-07-28T11:04:37.327266Z",
     "shell.execute_reply": "2025-07-28T11:04:37.326278Z"
    },
    "papermill": {
     "duration": 0.030042,
     "end_time": "2025-07-28T11:04:37.328954",
     "exception": false,
     "start_time": "2025-07-28T11:04:37.298912",
     "status": "completed"
    },
    "tags": []
   },
   "outputs": [],
   "source": [
    "from fairness_multiverse.universe import predict_w_threshold"
   ]
  },
  {
   "cell_type": "code",
   "execution_count": 38,
   "id": "a7cf2e16",
   "metadata": {
    "execution": {
     "iopub.execute_input": "2025-07-28T11:04:37.374659Z",
     "iopub.status.busy": "2025-07-28T11:04:37.374017Z",
     "iopub.status.idle": "2025-07-28T11:04:37.473874Z",
     "shell.execute_reply": "2025-07-28T11:04:37.472370Z"
    },
    "papermill": {
     "duration": 0.124613,
     "end_time": "2025-07-28T11:04:37.475757",
     "exception": false,
     "start_time": "2025-07-28T11:04:37.351144",
     "status": "completed"
    },
    "tags": []
   },
   "outputs": [
    {
     "data": {
      "text/plain": [
       "0.8644521235090848"
      ]
     },
     "execution_count": 38,
     "metadata": {},
     "output_type": "execute_result"
    }
   ],
   "source": [
    "probs_test = model.predict_proba(X_test)\n",
    "\n",
    "'''\n",
    "Below code returns a boolean array (or binary 0/1 array depending on how it’s used) where each element \n",
    "is True if the probability of class 1 is greater than or equal to the threshold, and False otherwise.\n",
    "'''\n",
    "y_pred_default = predict_w_threshold(probs_test, 0.5)\n",
    "\n",
    "from sklearn.metrics import accuracy_score\n",
    "\n",
    "# Naive prediction\n",
    "accuracy_score(y_true = y_true, y_pred = y_pred_default)"
   ]
  },
  {
   "cell_type": "code",
   "execution_count": 39,
   "id": "081964c3",
   "metadata": {
    "execution": {
     "iopub.execute_input": "2025-07-28T11:04:37.524445Z",
     "iopub.status.busy": "2025-07-28T11:04:37.523695Z",
     "iopub.status.idle": "2025-07-28T11:04:37.614039Z",
     "shell.execute_reply": "2025-07-28T11:04:37.612999Z"
    },
    "papermill": {
     "duration": 0.117145,
     "end_time": "2025-07-28T11:04:37.616165",
     "exception": false,
     "start_time": "2025-07-28T11:04:37.499020",
     "status": "completed"
    },
    "tags": []
   },
   "outputs": [
    {
     "data": {
      "text/plain": [
       "array([0, 0, 0, ..., 0, 0, 0])"
      ]
     },
     "execution_count": 39,
     "metadata": {},
     "output_type": "execute_result"
    }
   ],
   "source": [
    "model.predict(X_test)"
   ]
  },
  {
   "cell_type": "markdown",
   "id": "56c9705b",
   "metadata": {
    "papermill": {
     "duration": 0.023374,
     "end_time": "2025-07-28T11:04:37.664203",
     "exception": false,
     "start_time": "2025-07-28T11:04:37.640829",
     "status": "completed"
    },
    "tags": []
   },
   "source": [
    "# Conformal Prediction"
   ]
  },
  {
   "cell_type": "code",
   "execution_count": 40,
   "id": "160ec6ff",
   "metadata": {
    "execution": {
     "iopub.execute_input": "2025-07-28T11:04:37.713590Z",
     "iopub.status.busy": "2025-07-28T11:04:37.713087Z",
     "iopub.status.idle": "2025-07-28T11:04:37.718712Z",
     "shell.execute_reply": "2025-07-28T11:04:37.717676Z"
    },
    "papermill": {
     "duration": 0.033451,
     "end_time": "2025-07-28T11:04:37.720502",
     "exception": false,
     "start_time": "2025-07-28T11:04:37.687051",
     "status": "completed"
    },
    "tags": []
   },
   "outputs": [],
   "source": [
    "# Miscoverage level for conformal prediction (10% allowed error rate => 90% target coverage)\n",
    "alpha = 0.1"
   ]
  },
  {
   "cell_type": "code",
   "execution_count": 41,
   "id": "eadf4555-3dd3-440e-8e35-f82a4ad9f855",
   "metadata": {
    "execution": {
     "iopub.execute_input": "2025-07-28T11:04:37.771279Z",
     "iopub.status.busy": "2025-07-28T11:04:37.770611Z",
     "iopub.status.idle": "2025-07-28T11:04:37.856261Z",
     "shell.execute_reply": "2025-07-28T11:04:37.855336Z"
    },
    "papermill": {
     "duration": 0.113302,
     "end_time": "2025-07-28T11:04:37.858353",
     "exception": false,
     "start_time": "2025-07-28T11:04:37.745051",
     "status": "completed"
    },
    "tags": []
   },
   "outputs": [],
   "source": [
    "probs_calib = model.predict_proba(X_calib)"
   ]
  },
  {
   "cell_type": "code",
   "execution_count": 42,
   "id": "2ed93547-6d5d-4983-9b36-1ecb300da49a",
   "metadata": {
    "execution": {
     "iopub.execute_input": "2025-07-28T11:04:37.922417Z",
     "iopub.status.busy": "2025-07-28T11:04:37.921845Z",
     "iopub.status.idle": "2025-07-28T11:04:37.927662Z",
     "shell.execute_reply": "2025-07-28T11:04:37.926661Z"
    },
    "papermill": {
     "duration": 0.031229,
     "end_time": "2025-07-28T11:04:37.929540",
     "exception": false,
     "start_time": "2025-07-28T11:04:37.898311",
     "status": "completed"
    },
    "tags": []
   },
   "outputs": [],
   "source": [
    "y_calib = y_calib.values.ravel().astype(int)"
   ]
  },
  {
   "cell_type": "code",
   "execution_count": 43,
   "id": "65d1320d-f588-4b38-9072-62af1ae97f7d",
   "metadata": {
    "execution": {
     "iopub.execute_input": "2025-07-28T11:04:37.976366Z",
     "iopub.status.busy": "2025-07-28T11:04:37.975593Z",
     "iopub.status.idle": "2025-07-28T11:04:37.983786Z",
     "shell.execute_reply": "2025-07-28T11:04:37.982790Z"
    },
    "papermill": {
     "duration": 0.033429,
     "end_time": "2025-07-28T11:04:37.985751",
     "exception": false,
     "start_time": "2025-07-28T11:04:37.952322",
     "status": "completed"
    },
    "tags": []
   },
   "outputs": [],
   "source": [
    "from fairness_multiverse.conformal import compute_nc_scores\n",
    "\n",
    "# Compute nonconformity scores on calibration set (1 - probability of true class)\n",
    "nc_scores = compute_nc_scores(probs_calib, y_calib)"
   ]
  },
  {
   "cell_type": "code",
   "execution_count": 44,
   "id": "df3b8ca3-53b7-43d5-9667-7c85da7aeda2",
   "metadata": {
    "execution": {
     "iopub.execute_input": "2025-07-28T11:04:38.032865Z",
     "iopub.status.busy": "2025-07-28T11:04:38.032142Z",
     "iopub.status.idle": "2025-07-28T11:04:38.038926Z",
     "shell.execute_reply": "2025-07-28T11:04:38.038030Z"
    },
    "papermill": {
     "duration": 0.031771,
     "end_time": "2025-07-28T11:04:38.040683",
     "exception": false,
     "start_time": "2025-07-28T11:04:38.008912",
     "status": "completed"
    },
    "tags": []
   },
   "outputs": [],
   "source": [
    "from fairness_multiverse.conformal import find_threshold\n",
    "\n",
    "# Find conformal threshold q_hat for the given alpha (split conformal method)\n",
    "q_hat = find_threshold(nc_scores, alpha)"
   ]
  },
  {
   "cell_type": "code",
   "execution_count": 45,
   "id": "4d29e6c1-0ef6-4aa4-b8fe-4fe79b0d033a",
   "metadata": {
    "execution": {
     "iopub.execute_input": "2025-07-28T11:04:38.090000Z",
     "iopub.status.busy": "2025-07-28T11:04:38.089325Z",
     "iopub.status.idle": "2025-07-28T11:04:38.096927Z",
     "shell.execute_reply": "2025-07-28T11:04:38.095973Z"
    },
    "papermill": {
     "duration": 0.032767,
     "end_time": "2025-07-28T11:04:38.098703",
     "exception": false,
     "start_time": "2025-07-28T11:04:38.065936",
     "status": "completed"
    },
    "tags": []
   },
   "outputs": [
    {
     "data": {
      "text/plain": [
       "0.6614181259316636"
      ]
     },
     "execution_count": 45,
     "metadata": {},
     "output_type": "execute_result"
    }
   ],
   "source": [
    "q_hat"
   ]
  },
  {
   "cell_type": "code",
   "execution_count": 46,
   "id": "92460794-cdac-4be2-ba28-f28c0515a6fb",
   "metadata": {
    "execution": {
     "iopub.execute_input": "2025-07-28T11:04:38.146772Z",
     "iopub.status.busy": "2025-07-28T11:04:38.145945Z",
     "iopub.status.idle": "2025-07-28T11:04:38.967784Z",
     "shell.execute_reply": "2025-07-28T11:04:38.966600Z"
    },
    "papermill": {
     "duration": 0.847566,
     "end_time": "2025-07-28T11:04:38.969691",
     "exception": false,
     "start_time": "2025-07-28T11:04:38.122125",
     "status": "completed"
    },
    "tags": []
   },
   "outputs": [],
   "source": [
    "from fairness_multiverse.conformal import predict_conformal_sets\n",
    "\n",
    "# Generate prediction sets for each test example\n",
    "pred_sets = predict_conformal_sets(model, X_test, q_hat)"
   ]
  },
  {
   "cell_type": "code",
   "execution_count": 47,
   "id": "d90c9a65-e6db-4f5d-80cd-e68fb7e46829",
   "metadata": {
    "execution": {
     "iopub.execute_input": "2025-07-28T11:04:39.018488Z",
     "iopub.status.busy": "2025-07-28T11:04:39.018034Z",
     "iopub.status.idle": "2025-07-28T11:04:39.028451Z",
     "shell.execute_reply": "2025-07-28T11:04:39.022980Z"
    },
    "papermill": {
     "duration": 0.037582,
     "end_time": "2025-07-28T11:04:39.030363",
     "exception": false,
     "start_time": "2025-07-28T11:04:38.992781",
     "status": "completed"
    },
    "tags": []
   },
   "outputs": [],
   "source": [
    "y_true = y_true.squeeze()"
   ]
  },
  {
   "cell_type": "code",
   "execution_count": 48,
   "id": "3a58a54a-1e68-46b9-927a-df01f18aebc8",
   "metadata": {
    "execution": {
     "iopub.execute_input": "2025-07-28T11:04:39.061370Z",
     "iopub.status.busy": "2025-07-28T11:04:39.061007Z",
     "iopub.status.idle": "2025-07-28T11:04:40.094995Z",
     "shell.execute_reply": "2025-07-28T11:04:40.093748Z"
    },
    "papermill": {
     "duration": 1.050347,
     "end_time": "2025-07-28T11:04:40.097582",
     "exception": false,
     "start_time": "2025-07-28T11:04:39.047235",
     "status": "completed"
    },
    "tags": []
   },
   "outputs": [],
   "source": [
    "from fairness_multiverse.conformal import evaluate_sets\n",
    "\n",
    "# Evaluate coverage and average set size on test data\n",
    "metrics = evaluate_sets(pred_sets, y_true)"
   ]
  },
  {
   "cell_type": "markdown",
   "id": "2b569c12-9aaa-4c88-98c9-bbcd0cf3ebb8",
   "metadata": {
    "papermill": {
     "duration": 0.0349,
     "end_time": "2025-07-28T11:04:40.167925",
     "exception": false,
     "start_time": "2025-07-28T11:04:40.133025",
     "status": "completed"
    },
    "tags": []
   },
   "source": [
    "# CP Metrics"
   ]
  },
  {
   "cell_type": "code",
   "execution_count": 49,
   "id": "5ce0a5cb-201f-45a0-ade5-94c7f0bd6095",
   "metadata": {
    "execution": {
     "iopub.execute_input": "2025-07-28T11:04:40.239904Z",
     "iopub.status.busy": "2025-07-28T11:04:40.239078Z",
     "iopub.status.idle": "2025-07-28T11:04:40.250530Z",
     "shell.execute_reply": "2025-07-28T11:04:40.248117Z"
    },
    "papermill": {
     "duration": 0.049908,
     "end_time": "2025-07-28T11:04:40.252746",
     "exception": false,
     "start_time": "2025-07-28T11:04:40.202838",
     "status": "completed"
    },
    "tags": []
   },
   "outputs": [
    {
     "data": {
      "text/plain": [
       "{'coverage': 0.9124177906587895, 'avg_size': 1.2142236094080927}"
      ]
     },
     "execution_count": 49,
     "metadata": {},
     "output_type": "execute_result"
    }
   ],
   "source": [
    "metrics"
   ]
  },
  {
   "cell_type": "code",
   "execution_count": 50,
   "id": "9b9a838d-31c9-430b-ae14-12baee460d17",
   "metadata": {
    "execution": {
     "iopub.execute_input": "2025-07-28T11:04:40.313514Z",
     "iopub.status.busy": "2025-07-28T11:04:40.312378Z",
     "iopub.status.idle": "2025-07-28T11:04:40.320225Z",
     "shell.execute_reply": "2025-07-28T11:04:40.318980Z"
    },
    "papermill": {
     "duration": 0.041782,
     "end_time": "2025-07-28T11:04:40.322665",
     "exception": false,
     "start_time": "2025-07-28T11:04:40.280883",
     "status": "completed"
    },
    "tags": []
   },
   "outputs": [],
   "source": [
    "example_universe = universe.copy()\n",
    "universe_training_size = example_universe.get(\"training_size\")\n",
    "universe_scale = example_universe.get(\"scale\")\n",
    "universe_model = example_universe.get(\"model\")\n",
    "universe_exclude_features = example_universe.get(\"exclude_features\")\n",
    "universe_exclude_subgroups = example_universe.get(\"exclude_subgroups\")"
   ]
  },
  {
   "cell_type": "code",
   "execution_count": 51,
   "id": "f4b6a8ac-9dc0-4245-8a91-5b3b5999c4f9",
   "metadata": {
    "execution": {
     "iopub.execute_input": "2025-07-28T11:04:40.395426Z",
     "iopub.status.busy": "2025-07-28T11:04:40.394554Z",
     "iopub.status.idle": "2025-07-28T11:04:40.402886Z",
     "shell.execute_reply": "2025-07-28T11:04:40.401667Z"
    },
    "papermill": {
     "duration": 0.046465,
     "end_time": "2025-07-28T11:04:40.404879",
     "exception": false,
     "start_time": "2025-07-28T11:04:40.358414",
     "status": "completed"
    },
    "tags": []
   },
   "outputs": [],
   "source": [
    "cp_metrics_dict = {\n",
    "    \"universe_id\": [universe_id],\n",
    "    \"universe_training_size\": [universe_training_size],\n",
    "    \"universe_scale\": [universe_scale],\n",
    "    \"universe_model\": [universe_model],\n",
    "    \"universe_exclude_features\": [universe_exclude_features],\n",
    "    \"universe_exclude_subgroups\": [universe_exclude_subgroups],\n",
    "    \"q_hat\": [q_hat],\n",
    "    \"coverage\": [metrics[\"coverage\"]],\n",
    "    \"avg_size\": [metrics[\"avg_size\"]],\n",
    "}"
   ]
  },
  {
   "cell_type": "code",
   "execution_count": 52,
   "id": "908acbb1-0371-4915-85ca-3fa520d2efe2",
   "metadata": {
    "execution": {
     "iopub.execute_input": "2025-07-28T11:04:40.465569Z",
     "iopub.status.busy": "2025-07-28T11:04:40.464584Z",
     "iopub.status.idle": "2025-07-28T11:04:40.475351Z",
     "shell.execute_reply": "2025-07-28T11:04:40.474103Z"
    },
    "papermill": {
     "duration": 0.043739,
     "end_time": "2025-07-28T11:04:40.477381",
     "exception": false,
     "start_time": "2025-07-28T11:04:40.433642",
     "status": "completed"
    },
    "tags": []
   },
   "outputs": [
    {
     "data": {
      "text/plain": [
       "{'universe_id': ['1ee168a473bc3aea4108efd84ed6e7c0'],\n",
       " 'universe_training_size': ['2014'],\n",
       " 'universe_scale': ['do-not-scale'],\n",
       " 'universe_model': ['penalized_logreg'],\n",
       " 'universe_exclude_features': ['nationality'],\n",
       " 'universe_exclude_subgroups': ['drop-non-german'],\n",
       " 'q_hat': [0.6614181259316636],\n",
       " 'coverage': [0.9124177906587895],\n",
       " 'avg_size': [1.2142236094080927]}"
      ]
     },
     "execution_count": 52,
     "metadata": {},
     "output_type": "execute_result"
    }
   ],
   "source": [
    "cp_metrics_dict"
   ]
  },
  {
   "cell_type": "code",
   "execution_count": 53,
   "id": "33007efc-14e9-4ec6-97ac-56a455c82265",
   "metadata": {
    "execution": {
     "iopub.execute_input": "2025-07-28T11:04:40.538187Z",
     "iopub.status.busy": "2025-07-28T11:04:40.537089Z",
     "iopub.status.idle": "2025-07-28T11:04:40.545789Z",
     "shell.execute_reply": "2025-07-28T11:04:40.544462Z"
    },
    "papermill": {
     "duration": 0.041919,
     "end_time": "2025-07-28T11:04:40.547989",
     "exception": false,
     "start_time": "2025-07-28T11:04:40.506070",
     "status": "completed"
    },
    "tags": []
   },
   "outputs": [],
   "source": [
    "cp_metrics_df = pd.DataFrame(cp_metrics_dict)"
   ]
  },
  {
   "cell_type": "code",
   "execution_count": 54,
   "id": "db12611b-57b2-4910-b9d0-355adfd6e7bf",
   "metadata": {
    "execution": {
     "iopub.execute_input": "2025-07-28T11:04:40.610238Z",
     "iopub.status.busy": "2025-07-28T11:04:40.609153Z",
     "iopub.status.idle": "2025-07-28T11:04:40.634538Z",
     "shell.execute_reply": "2025-07-28T11:04:40.633300Z"
    },
    "papermill": {
     "duration": 0.058619,
     "end_time": "2025-07-28T11:04:40.636672",
     "exception": false,
     "start_time": "2025-07-28T11:04:40.578053",
     "status": "completed"
    },
    "tags": []
   },
   "outputs": [
    {
     "data": {
      "text/html": [
       "<div>\n",
       "<style scoped>\n",
       "    .dataframe tbody tr th:only-of-type {\n",
       "        vertical-align: middle;\n",
       "    }\n",
       "\n",
       "    .dataframe tbody tr th {\n",
       "        vertical-align: top;\n",
       "    }\n",
       "\n",
       "    .dataframe thead th {\n",
       "        text-align: right;\n",
       "    }\n",
       "</style>\n",
       "<table border=\"1\" class=\"dataframe\">\n",
       "  <thead>\n",
       "    <tr style=\"text-align: right;\">\n",
       "      <th></th>\n",
       "      <th>universe_id</th>\n",
       "      <th>universe_training_size</th>\n",
       "      <th>universe_scale</th>\n",
       "      <th>universe_model</th>\n",
       "      <th>universe_exclude_features</th>\n",
       "      <th>universe_exclude_subgroups</th>\n",
       "      <th>q_hat</th>\n",
       "      <th>coverage</th>\n",
       "      <th>avg_size</th>\n",
       "    </tr>\n",
       "  </thead>\n",
       "  <tbody>\n",
       "    <tr>\n",
       "      <th>0</th>\n",
       "      <td>1ee168a473bc3aea4108efd84ed6e7c0</td>\n",
       "      <td>2014</td>\n",
       "      <td>do-not-scale</td>\n",
       "      <td>penalized_logreg</td>\n",
       "      <td>nationality</td>\n",
       "      <td>drop-non-german</td>\n",
       "      <td>0.661418</td>\n",
       "      <td>0.912418</td>\n",
       "      <td>1.214224</td>\n",
       "    </tr>\n",
       "  </tbody>\n",
       "</table>\n",
       "</div>"
      ],
      "text/plain": [
       "                        universe_id universe_training_size universe_scale  \\\n",
       "0  1ee168a473bc3aea4108efd84ed6e7c0                   2014   do-not-scale   \n",
       "\n",
       "     universe_model universe_exclude_features universe_exclude_subgroups  \\\n",
       "0  penalized_logreg               nationality            drop-non-german   \n",
       "\n",
       "      q_hat  coverage  avg_size  \n",
       "0  0.661418  0.912418  1.214224  "
      ]
     },
     "execution_count": 54,
     "metadata": {},
     "output_type": "execute_result"
    }
   ],
   "source": [
    "cp_metrics_df"
   ]
  },
  {
   "cell_type": "code",
   "execution_count": 55,
   "id": "b7fbde55-a0a1-47e4-9af6-fe4a17fa8c61",
   "metadata": {
    "execution": {
     "iopub.execute_input": "2025-07-28T11:04:40.698245Z",
     "iopub.status.busy": "2025-07-28T11:04:40.697203Z",
     "iopub.status.idle": "2025-07-28T11:04:40.704023Z",
     "shell.execute_reply": "2025-07-28T11:04:40.702809Z"
    },
    "papermill": {
     "duration": 0.039992,
     "end_time": "2025-07-28T11:04:40.706183",
     "exception": false,
     "start_time": "2025-07-28T11:04:40.666191",
     "status": "completed"
    },
    "tags": []
   },
   "outputs": [],
   "source": [
    "# Conditional Coverage & looking at subgroups"
   ]
  },
  {
   "cell_type": "code",
   "execution_count": 56,
   "id": "027ae886-68dd-4141-96c7-805a5450e1ef",
   "metadata": {
    "execution": {
     "iopub.execute_input": "2025-07-28T11:04:40.767998Z",
     "iopub.status.busy": "2025-07-28T11:04:40.766890Z",
     "iopub.status.idle": "2025-07-28T11:04:41.080488Z",
     "shell.execute_reply": "2025-07-28T11:04:41.079372Z"
    },
    "papermill": {
     "duration": 0.346837,
     "end_time": "2025-07-28T11:04:41.082661",
     "exception": false,
     "start_time": "2025-07-28T11:04:40.735824",
     "status": "completed"
    },
    "tags": []
   },
   "outputs": [],
   "source": [
    "from fairness_multiverse.conformal import build_cp_groups\n",
    "\n",
    "cp_groups_df = build_cp_groups(pred_sets, y_true, X_test.index, org_test)\n",
    "#needs universe_id and setting"
   ]
  },
  {
   "cell_type": "code",
   "execution_count": 57,
   "id": "01d5802c-663a-4d1f-9d69-e036faaffbf7",
   "metadata": {
    "execution": {
     "iopub.execute_input": "2025-07-28T11:04:41.137081Z",
     "iopub.status.busy": "2025-07-28T11:04:41.136373Z",
     "iopub.status.idle": "2025-07-28T11:04:41.141881Z",
     "shell.execute_reply": "2025-07-28T11:04:41.140826Z"
    },
    "papermill": {
     "duration": 0.033112,
     "end_time": "2025-07-28T11:04:41.143625",
     "exception": false,
     "start_time": "2025-07-28T11:04:41.110513",
     "status": "completed"
    },
    "tags": []
   },
   "outputs": [],
   "source": [
    "#delete\n",
    "#cp_groups_df"
   ]
  },
  {
   "cell_type": "code",
   "execution_count": 58,
   "id": "fa424af1-d1eb-443d-b717-2d279ada8408",
   "metadata": {
    "execution": {
     "iopub.execute_input": "2025-07-28T11:04:41.196825Z",
     "iopub.status.busy": "2025-07-28T11:04:41.196122Z",
     "iopub.status.idle": "2025-07-28T11:04:41.201951Z",
     "shell.execute_reply": "2025-07-28T11:04:41.200877Z"
    },
    "papermill": {
     "duration": 0.03526,
     "end_time": "2025-07-28T11:04:41.203615",
     "exception": false,
     "start_time": "2025-07-28T11:04:41.168355",
     "status": "completed"
    },
    "tags": []
   },
   "outputs": [],
   "source": [
    "#delete\n",
    "#percentage = (cp_groups_df['nongerman_female'] == 1).mean() * 100\n",
    "#print(percentage)\n"
   ]
  },
  {
   "cell_type": "code",
   "execution_count": 59,
   "id": "6cbdab96-b2b2-45af-ad54-d0516db2e28d",
   "metadata": {
    "execution": {
     "iopub.execute_input": "2025-07-28T11:04:41.255437Z",
     "iopub.status.busy": "2025-07-28T11:04:41.254600Z",
     "iopub.status.idle": "2025-07-28T11:04:42.501469Z",
     "shell.execute_reply": "2025-07-28T11:04:42.500105Z"
    },
    "papermill": {
     "duration": 1.277192,
     "end_time": "2025-07-28T11:04:42.503951",
     "exception": false,
     "start_time": "2025-07-28T11:04:41.226759",
     "status": "completed"
    },
    "tags": []
   },
   "outputs": [],
   "source": [
    "# Define covered = 1 if true_label is in the predicted set\n",
    "cp_groups_df['covered'] = cp_groups_df.apply(\n",
    "    lambda r: int(r['true_label'] in r['pred_set']),\n",
    "    axis=1\n",
    ")"
   ]
  },
  {
   "cell_type": "code",
   "execution_count": 60,
   "id": "338ff529-1a6b-4b87-a931-8e4788d52aad",
   "metadata": {
    "execution": {
     "iopub.execute_input": "2025-07-28T11:04:42.556356Z",
     "iopub.status.busy": "2025-07-28T11:04:42.555336Z",
     "iopub.status.idle": "2025-07-28T11:04:42.560694Z",
     "shell.execute_reply": "2025-07-28T11:04:42.559716Z"
    },
    "papermill": {
     "duration": 0.033642,
     "end_time": "2025-07-28T11:04:42.562478",
     "exception": false,
     "start_time": "2025-07-28T11:04:42.528836",
     "status": "completed"
    },
    "tags": []
   },
   "outputs": [],
   "source": [
    "#cp_groups_df"
   ]
  },
  {
   "cell_type": "code",
   "execution_count": 61,
   "id": "90032e27-66df-4540-9169-4e89cfbaa758",
   "metadata": {
    "execution": {
     "iopub.execute_input": "2025-07-28T11:04:42.615610Z",
     "iopub.status.busy": "2025-07-28T11:04:42.614502Z",
     "iopub.status.idle": "2025-07-28T11:04:42.628402Z",
     "shell.execute_reply": "2025-07-28T11:04:42.627255Z"
    },
    "papermill": {
     "duration": 0.043572,
     "end_time": "2025-07-28T11:04:42.630806",
     "exception": false,
     "start_time": "2025-07-28T11:04:42.587234",
     "status": "completed"
    },
    "tags": []
   },
   "outputs": [],
   "source": [
    "subgroups = ['frau1','nongerman','nongerman_male','nongerman_female']\n",
    "\n",
    "# Conditional coverage for subgroup==1\n",
    "cond_coverage = {\n",
    "    g: cp_groups_df.loc[cp_groups_df[g]==1, 'covered'].mean()\n",
    "    for g in subgroups\n",
    "}"
   ]
  },
  {
   "cell_type": "code",
   "execution_count": 62,
   "id": "1e348fb1-b9c3-45bc-ba23-f016827a7e0d",
   "metadata": {
    "execution": {
     "iopub.execute_input": "2025-07-28T11:04:42.684306Z",
     "iopub.status.busy": "2025-07-28T11:04:42.683671Z",
     "iopub.status.idle": "2025-07-28T11:04:42.693057Z",
     "shell.execute_reply": "2025-07-28T11:04:42.691961Z"
    },
    "papermill": {
     "duration": 0.036919,
     "end_time": "2025-07-28T11:04:42.694922",
     "exception": false,
     "start_time": "2025-07-28T11:04:42.658003",
     "status": "completed"
    },
    "tags": []
   },
   "outputs": [
    {
     "data": {
      "text/plain": [
       "{'frau1': 0.9125758188435099,\n",
       " 'nongerman': 0.9376859596923595,\n",
       " 'nongerman_male': 0.948842655138251,\n",
       " 'nongerman_female': 0.9192250372578241}"
      ]
     },
     "execution_count": 62,
     "metadata": {},
     "output_type": "execute_result"
    }
   ],
   "source": [
    "cond_coverage"
   ]
  },
  {
   "cell_type": "code",
   "execution_count": 63,
   "id": "f5093324-c3dd-4d63-bc4c-8d945e5c8bbb",
   "metadata": {
    "execution": {
     "iopub.execute_input": "2025-07-28T11:04:42.745547Z",
     "iopub.status.busy": "2025-07-28T11:04:42.745080Z",
     "iopub.status.idle": "2025-07-28T11:04:42.753018Z",
     "shell.execute_reply": "2025-07-28T11:04:42.752019Z"
    },
    "papermill": {
     "duration": 0.04917,
     "end_time": "2025-07-28T11:04:42.769231",
     "exception": false,
     "start_time": "2025-07-28T11:04:42.720061",
     "status": "completed"
    },
    "tags": []
   },
   "outputs": [],
   "source": [
    "for subgroup, cov in cond_coverage.items():\n",
    "    cp_metrics_df[f\"cov_{subgroup}\"] = cov"
   ]
  },
  {
   "cell_type": "code",
   "execution_count": 64,
   "id": "6e872e10-dbe5-49e8-b554-5030c98ff75d",
   "metadata": {
    "execution": {
     "iopub.execute_input": "2025-07-28T11:04:42.820658Z",
     "iopub.status.busy": "2025-07-28T11:04:42.819936Z",
     "iopub.status.idle": "2025-07-28T11:04:42.842189Z",
     "shell.execute_reply": "2025-07-28T11:04:42.841463Z"
    },
    "papermill": {
     "duration": 0.04933,
     "end_time": "2025-07-28T11:04:42.843712",
     "exception": false,
     "start_time": "2025-07-28T11:04:42.794382",
     "status": "completed"
    },
    "tags": []
   },
   "outputs": [
    {
     "data": {
      "text/html": [
       "<div>\n",
       "<style scoped>\n",
       "    .dataframe tbody tr th:only-of-type {\n",
       "        vertical-align: middle;\n",
       "    }\n",
       "\n",
       "    .dataframe tbody tr th {\n",
       "        vertical-align: top;\n",
       "    }\n",
       "\n",
       "    .dataframe thead th {\n",
       "        text-align: right;\n",
       "    }\n",
       "</style>\n",
       "<table border=\"1\" class=\"dataframe\">\n",
       "  <thead>\n",
       "    <tr style=\"text-align: right;\">\n",
       "      <th></th>\n",
       "      <th>universe_id</th>\n",
       "      <th>universe_training_size</th>\n",
       "      <th>universe_scale</th>\n",
       "      <th>universe_model</th>\n",
       "      <th>universe_exclude_features</th>\n",
       "      <th>universe_exclude_subgroups</th>\n",
       "      <th>q_hat</th>\n",
       "      <th>coverage</th>\n",
       "      <th>avg_size</th>\n",
       "      <th>cov_frau1</th>\n",
       "      <th>cov_nongerman</th>\n",
       "      <th>cov_nongerman_male</th>\n",
       "      <th>cov_nongerman_female</th>\n",
       "    </tr>\n",
       "  </thead>\n",
       "  <tbody>\n",
       "    <tr>\n",
       "      <th>0</th>\n",
       "      <td>1ee168a473bc3aea4108efd84ed6e7c0</td>\n",
       "      <td>2014</td>\n",
       "      <td>do-not-scale</td>\n",
       "      <td>penalized_logreg</td>\n",
       "      <td>nationality</td>\n",
       "      <td>drop-non-german</td>\n",
       "      <td>0.661418</td>\n",
       "      <td>0.912418</td>\n",
       "      <td>1.214224</td>\n",
       "      <td>0.912576</td>\n",
       "      <td>0.937686</td>\n",
       "      <td>0.948843</td>\n",
       "      <td>0.919225</td>\n",
       "    </tr>\n",
       "  </tbody>\n",
       "</table>\n",
       "</div>"
      ],
      "text/plain": [
       "                        universe_id universe_training_size universe_scale  \\\n",
       "0  1ee168a473bc3aea4108efd84ed6e7c0                   2014   do-not-scale   \n",
       "\n",
       "     universe_model universe_exclude_features universe_exclude_subgroups  \\\n",
       "0  penalized_logreg               nationality            drop-non-german   \n",
       "\n",
       "      q_hat  coverage  avg_size  cov_frau1  cov_nongerman  cov_nongerman_male  \\\n",
       "0  0.661418  0.912418  1.214224   0.912576       0.937686            0.948843   \n",
       "\n",
       "   cov_nongerman_female  \n",
       "0              0.919225  "
      ]
     },
     "execution_count": 64,
     "metadata": {},
     "output_type": "execute_result"
    }
   ],
   "source": [
    "cp_metrics_df"
   ]
  },
  {
   "cell_type": "markdown",
   "id": "33774451",
   "metadata": {
    "papermill": {
     "duration": 0.013421,
     "end_time": "2025-07-28T11:04:42.872059",
     "exception": false,
     "start_time": "2025-07-28T11:04:42.858638",
     "status": "completed"
    },
    "tags": []
   },
   "source": [
    "# (Fairness) Metrics"
   ]
  },
  {
   "cell_type": "code",
   "execution_count": 65,
   "id": "debc5d62",
   "metadata": {
    "execution": {
     "iopub.execute_input": "2025-07-28T11:04:42.915254Z",
     "iopub.status.busy": "2025-07-28T11:04:42.914788Z",
     "iopub.status.idle": "2025-07-28T11:04:42.939209Z",
     "shell.execute_reply": "2025-07-28T11:04:42.938333Z"
    },
    "papermill": {
     "duration": 0.054392,
     "end_time": "2025-07-28T11:04:42.940688",
     "exception": false,
     "start_time": "2025-07-28T11:04:42.886296",
     "status": "completed"
    },
    "tags": []
   },
   "outputs": [],
   "source": [
    "# do I need to include maxdeutsch1.missing?\n",
    "\n",
    "import numpy as np\n",
    "\n",
    "colname_to_bin = \"maxdeutsch1\"\n",
    "majority_value = org_train[colname_to_bin].mode()[0]\n",
    "\n",
    "org_test[\"majmin\"] = np.where(org_test[colname_to_bin] == majority_value, \"majority\", \"minority\")"
   ]
  },
  {
   "cell_type": "code",
   "execution_count": 66,
   "id": "06a50de5",
   "metadata": {
    "execution": {
     "iopub.execute_input": "2025-07-28T11:04:42.972047Z",
     "iopub.status.busy": "2025-07-28T11:04:42.971511Z",
     "iopub.status.idle": "2025-07-28T11:04:45.357469Z",
     "shell.execute_reply": "2025-07-28T11:04:45.356697Z"
    },
    "papermill": {
     "duration": 2.403715,
     "end_time": "2025-07-28T11:04:45.359475",
     "exception": false,
     "start_time": "2025-07-28T11:04:42.955760",
     "status": "completed"
    },
    "tags": []
   },
   "outputs": [],
   "source": [
    "example_universe = universe.copy()\n",
    "example_universe[\"cutoff\"] = example_universe[\"cutoff\"][0]\n",
    "example_universe[\"eval_fairness_grouping\"] = example_universe[\"eval_fairness_grouping\"][0]\n",
    "fairness_dict, metric_frame = universe_analysis.compute_metrics(\n",
    "    example_universe,\n",
    "    y_pred_prob=probs_test,\n",
    "    y_test=y_true,\n",
    "    org_test=org_test,\n",
    ")"
   ]
  },
  {
   "cell_type": "markdown",
   "id": "f95d4e02",
   "metadata": {
    "papermill": {
     "duration": 0.027863,
     "end_time": "2025-07-28T11:04:45.425291",
     "exception": false,
     "start_time": "2025-07-28T11:04:45.397428",
     "status": "completed"
    },
    "tags": []
   },
   "source": [
    "# Overall"
   ]
  },
  {
   "cell_type": "markdown",
   "id": "bdee4871",
   "metadata": {
    "papermill": {
     "duration": 0.027994,
     "end_time": "2025-07-28T11:04:45.480890",
     "exception": false,
     "start_time": "2025-07-28T11:04:45.452896",
     "status": "completed"
    },
    "tags": []
   },
   "source": [
    "Fairness\n",
    "Main fairness target: Equalized Odds. Seems to be a better fit than equal opportunity, since we're not only interested in Y = 1. Seems to be a better fit than demographic parity, since we also care about accuracy, not just equal distribution of preds.\n",
    "\n",
    "Pick column for computation of fairness metrics\n",
    "\n",
    "Performance\n",
    "Overall performance measures, most interesting in relation to the measures split by group below"
   ]
  },
  {
   "cell_type": "code",
   "execution_count": 67,
   "id": "c4e067c6",
   "metadata": {
    "execution": {
     "iopub.execute_input": "2025-07-28T11:04:45.538871Z",
     "iopub.status.busy": "2025-07-28T11:04:45.538006Z",
     "iopub.status.idle": "2025-07-28T11:04:45.547124Z",
     "shell.execute_reply": "2025-07-28T11:04:45.546063Z"
    },
    "papermill": {
     "duration": 0.039932,
     "end_time": "2025-07-28T11:04:45.549006",
     "exception": false,
     "start_time": "2025-07-28T11:04:45.509074",
     "status": "completed"
    },
    "tags": []
   },
   "outputs": [
    {
     "data": {
      "text/plain": [
       "accuracy                   0.217891\n",
       "balanced accuracy          0.534132\n",
       "f1                         0.239401\n",
       "precision                  0.136762\n",
       "false positive rate        0.891243\n",
       "false negative rate        0.040494\n",
       "selection rate             0.900000\n",
       "count                  89710.000000\n",
       "dtype: float64"
      ]
     },
     "execution_count": 67,
     "metadata": {},
     "output_type": "execute_result"
    }
   ],
   "source": [
    "metric_frame.overall"
   ]
  },
  {
   "cell_type": "markdown",
   "id": "e968fe9d",
   "metadata": {
    "papermill": {
     "duration": 0.02749,
     "end_time": "2025-07-28T11:04:45.605500",
     "exception": false,
     "start_time": "2025-07-28T11:04:45.578010",
     "status": "completed"
    },
    "tags": []
   },
   "source": [
    "By Group"
   ]
  },
  {
   "cell_type": "code",
   "execution_count": 68,
   "id": "ec325bce",
   "metadata": {
    "execution": {
     "iopub.execute_input": "2025-07-28T11:04:45.666011Z",
     "iopub.status.busy": "2025-07-28T11:04:45.665010Z",
     "iopub.status.idle": "2025-07-28T11:04:45.683435Z",
     "shell.execute_reply": "2025-07-28T11:04:45.682335Z"
    },
    "papermill": {
     "duration": 0.050238,
     "end_time": "2025-07-28T11:04:45.685378",
     "exception": false,
     "start_time": "2025-07-28T11:04:45.635140",
     "status": "completed"
    },
    "tags": []
   },
   "outputs": [
    {
     "data": {
      "text/html": [
       "<div>\n",
       "<style scoped>\n",
       "    .dataframe tbody tr th:only-of-type {\n",
       "        vertical-align: middle;\n",
       "    }\n",
       "\n",
       "    .dataframe tbody tr th {\n",
       "        vertical-align: top;\n",
       "    }\n",
       "\n",
       "    .dataframe thead th {\n",
       "        text-align: right;\n",
       "    }\n",
       "</style>\n",
       "<table border=\"1\" class=\"dataframe\">\n",
       "  <thead>\n",
       "    <tr style=\"text-align: right;\">\n",
       "      <th></th>\n",
       "      <th>accuracy</th>\n",
       "      <th>balanced accuracy</th>\n",
       "      <th>f1</th>\n",
       "      <th>precision</th>\n",
       "      <th>false positive rate</th>\n",
       "      <th>false negative rate</th>\n",
       "      <th>selection rate</th>\n",
       "      <th>count</th>\n",
       "    </tr>\n",
       "    <tr>\n",
       "      <th>majmin</th>\n",
       "      <th></th>\n",
       "      <th></th>\n",
       "      <th></th>\n",
       "      <th></th>\n",
       "      <th></th>\n",
       "      <th></th>\n",
       "      <th></th>\n",
       "      <th></th>\n",
       "    </tr>\n",
       "  </thead>\n",
       "  <tbody>\n",
       "    <tr>\n",
       "      <th>majority</th>\n",
       "      <td>0.240393</td>\n",
       "      <td>0.541964</td>\n",
       "      <td>0.248778</td>\n",
       "      <td>0.143087</td>\n",
       "      <td>0.867933</td>\n",
       "      <td>0.04814</td>\n",
       "      <td>0.879023</td>\n",
       "      <td>69170.0</td>\n",
       "    </tr>\n",
       "    <tr>\n",
       "      <th>minority</th>\n",
       "      <td>0.142113</td>\n",
       "      <td>0.510386</td>\n",
       "      <td>0.209998</td>\n",
       "      <td>0.117470</td>\n",
       "      <td>0.968248</td>\n",
       "      <td>0.01098</td>\n",
       "      <td>0.970643</td>\n",
       "      <td>20540.0</td>\n",
       "    </tr>\n",
       "  </tbody>\n",
       "</table>\n",
       "</div>"
      ],
      "text/plain": [
       "          accuracy  balanced accuracy        f1  precision  \\\n",
       "majmin                                                       \n",
       "majority  0.240393           0.541964  0.248778   0.143087   \n",
       "minority  0.142113           0.510386  0.209998   0.117470   \n",
       "\n",
       "          false positive rate  false negative rate  selection rate    count  \n",
       "majmin                                                                       \n",
       "majority             0.867933              0.04814        0.879023  69170.0  \n",
       "minority             0.968248              0.01098        0.970643  20540.0  "
      ]
     },
     "execution_count": 68,
     "metadata": {},
     "output_type": "execute_result"
    }
   ],
   "source": [
    "metric_frame.by_group"
   ]
  },
  {
   "cell_type": "code",
   "execution_count": 69,
   "id": "a9ddbe63",
   "metadata": {
    "execution": {
     "iopub.execute_input": "2025-07-28T11:04:45.744092Z",
     "iopub.status.busy": "2025-07-28T11:04:45.743560Z",
     "iopub.status.idle": "2025-07-28T11:04:48.429418Z",
     "shell.execute_reply": "2025-07-28T11:04:48.428301Z"
    },
    "papermill": {
     "duration": 2.717127,
     "end_time": "2025-07-28T11:04:48.431145",
     "exception": false,
     "start_time": "2025-07-28T11:04:45.714018",
     "status": "completed"
    },
    "tags": []
   },
   "outputs": [
    {
     "data": {
      "text/plain": [
       "array([[<Axes: title={'center': 'accuracy'}, xlabel='majmin'>,\n",
       "        <Axes: title={'center': 'balanced accuracy'}, xlabel='majmin'>,\n",
       "        <Axes: title={'center': 'f1'}, xlabel='majmin'>],\n",
       "       [<Axes: title={'center': 'precision'}, xlabel='majmin'>,\n",
       "        <Axes: title={'center': 'false positive rate'}, xlabel='majmin'>,\n",
       "        <Axes: title={'center': 'false negative rate'}, xlabel='majmin'>],\n",
       "       [<Axes: title={'center': 'selection rate'}, xlabel='majmin'>,\n",
       "        <Axes: title={'center': 'count'}, xlabel='majmin'>,\n",
       "        <Axes: xlabel='majmin'>]], dtype=object)"
      ]
     },
     "execution_count": 69,
     "metadata": {},
     "output_type": "execute_result"
    },
    {
     "data": {
      "image/png": "[encoded data removed]",
      "text/plain": [
       "<Figure size 1200x800 with 9 Axes>"
      ]
     },
     "metadata": {},
     "output_type": "display_data"
    }
   ],
   "source": [
    "# In a graphic\n",
    "metric_frame.by_group.plot.bar(\n",
    "    subplots=True,\n",
    "    layout=[3, 3],\n",
    "    legend=False,\n",
    "    figsize=[12, 8],\n",
    "    title=\"Show all metrics\",\n",
    ")"
   ]
  },
  {
   "cell_type": "markdown",
   "id": "f57a0bac",
   "metadata": {
    "papermill": {
     "duration": 0.016156,
     "end_time": "2025-07-28T11:04:48.479944",
     "exception": false,
     "start_time": "2025-07-28T11:04:48.463788",
     "status": "completed"
    },
    "tags": []
   },
   "source": [
    "# Final Output"
   ]
  },
  {
   "cell_type": "code",
   "execution_count": 70,
   "id": "96d280a3",
   "metadata": {
    "execution": {
     "iopub.execute_input": "2025-07-28T11:04:48.512116Z",
     "iopub.status.busy": "2025-07-28T11:04:48.511484Z",
     "iopub.status.idle": "2025-07-28T11:04:48.520009Z",
     "shell.execute_reply": "2025-07-28T11:04:48.519022Z"
    },
    "papermill": {
     "duration": 0.026758,
     "end_time": "2025-07-28T11:04:48.521718",
     "exception": false,
     "start_time": "2025-07-28T11:04:48.494960",
     "status": "completed"
    },
    "tags": []
   },
   "outputs": [
    {
     "data": {
      "text/plain": [
       "4"
      ]
     },
     "execution_count": 70,
     "metadata": {},
     "output_type": "execute_result"
    }
   ],
   "source": [
    "sub_universes = universe_analysis.generate_sub_universes()\n",
    "len(sub_universes)"
   ]
  },
  {
   "cell_type": "code",
   "execution_count": 71,
   "id": "92adf7ba",
   "metadata": {
    "execution": {
     "iopub.execute_input": "2025-07-28T11:04:48.581750Z",
     "iopub.status.busy": "2025-07-28T11:04:48.581173Z",
     "iopub.status.idle": "2025-07-28T11:04:48.588053Z",
     "shell.execute_reply": "2025-07-28T11:04:48.586953Z"
    },
    "papermill": {
     "duration": 0.038266,
     "end_time": "2025-07-28T11:04:48.589806",
     "exception": false,
     "start_time": "2025-07-28T11:04:48.551540",
     "status": "completed"
    },
    "tags": []
   },
   "outputs": [],
   "source": [
    "def filter_sub_universe_data(sub_universe, org_test):\n",
    "    # Keep all rows — no filtering\n",
    "    keep_rows_mask = np.ones(org_test.shape[0], dtype=bool)\n",
    "\n",
    "    print(f\"[INFO] Keeping all rows: {keep_rows_mask.sum()} rows retained.\")\n",
    "    return keep_rows_mask"
   ]
  },
  {
   "cell_type": "code",
   "execution_count": 72,
   "id": "4a759155",
   "metadata": {
    "execution": {
     "iopub.execute_input": "2025-07-28T11:04:48.649625Z",
     "iopub.status.busy": "2025-07-28T11:04:48.649059Z",
     "iopub.status.idle": "2025-07-28T11:04:58.366739Z",
     "shell.execute_reply": "2025-07-28T11:04:58.365875Z"
    },
    "papermill": {
     "duration": 9.748184,
     "end_time": "2025-07-28T11:04:58.368336",
     "exception": false,
     "start_time": "2025-07-28T11:04:48.620152",
     "status": "completed"
    },
    "tags": []
   },
   "outputs": [
    {
     "name": "stdout",
     "output_type": "stream",
     "text": [
      "Stopping execution_time clock.\n",
      "[INFO] Keeping all rows: 89710 rows retained.\n"
     ]
    },
    {
     "name": "stdout",
     "output_type": "stream",
     "text": [
      "[INFO] Keeping all rows: 89710 rows retained.\n"
     ]
    },
    {
     "name": "stdout",
     "output_type": "stream",
     "text": [
      "[INFO] Keeping all rows: 89710 rows retained.\n"
     ]
    },
    {
     "name": "stdout",
     "output_type": "stream",
     "text": [
      "[INFO] Keeping all rows: 89710 rows retained.\n"
     ]
    },
    {
     "data": {
      "text/html": [
       "<div>\n",
       "<style scoped>\n",
       "    .dataframe tbody tr th:only-of-type {\n",
       "        vertical-align: middle;\n",
       "    }\n",
       "\n",
       "    .dataframe tbody tr th {\n",
       "        vertical-align: top;\n",
       "    }\n",
       "\n",
       "    .dataframe thead th {\n",
       "        text-align: right;\n",
       "    }\n",
       "</style>\n",
       "<table border=\"1\" class=\"dataframe\">\n",
       "  <thead>\n",
       "    <tr style=\"text-align: right;\">\n",
       "      <th></th>\n",
       "      <th>run_no</th>\n",
       "      <th>universe_id</th>\n",
       "      <th>universe_settings</th>\n",
       "      <th>execution_time</th>\n",
       "      <th>test_size_n</th>\n",
       "      <th>test_size_frac</th>\n",
       "      <th>fair_main_equalized_odds_difference</th>\n",
       "      <th>fair_main_equalized_odds_ratio</th>\n",
       "      <th>fair_main_demographic_parity_difference</th>\n",
       "      <th>fair_main_demographic_parity_ratio</th>\n",
       "      <th>...</th>\n",
       "      <th>perf_grp_precision_0</th>\n",
       "      <th>perf_grp_precision_1</th>\n",
       "      <th>perf_grp_false positive rate_0</th>\n",
       "      <th>perf_grp_false positive rate_1</th>\n",
       "      <th>perf_grp_false negative rate_0</th>\n",
       "      <th>perf_grp_false negative rate_1</th>\n",
       "      <th>perf_grp_selection rate_0</th>\n",
       "      <th>perf_grp_selection rate_1</th>\n",
       "      <th>perf_grp_count_0</th>\n",
       "      <th>perf_grp_count_1</th>\n",
       "    </tr>\n",
       "  </thead>\n",
       "  <tbody>\n",
       "    <tr>\n",
       "      <th>0</th>\n",
       "      <td>11</td>\n",
       "      <td>1ee168a473bc3aea4108efd84ed6e7c0</td>\n",
       "      <td>{\"cutoff\": \"quantile_0.1\", \"eval_fairness_grou...</td>\n",
       "      <td>31.075002</td>\n",
       "      <td>89710</td>\n",
       "      <td>1.0</td>\n",
       "      <td>0.100315</td>\n",
       "      <td>0.896395</td>\n",
       "      <td>0.091620</td>\n",
       "      <td>0.905609</td>\n",
       "      <td>...</td>\n",
       "      <td>NaN</td>\n",
       "      <td>NaN</td>\n",
       "      <td>NaN</td>\n",
       "      <td>NaN</td>\n",
       "      <td>NaN</td>\n",
       "      <td>NaN</td>\n",
       "      <td>NaN</td>\n",
       "      <td>NaN</td>\n",
       "      <td>NaN</td>\n",
       "      <td>NaN</td>\n",
       "    </tr>\n",
       "    <tr>\n",
       "      <th>0</th>\n",
       "      <td>11</td>\n",
       "      <td>1ee168a473bc3aea4108efd84ed6e7c0</td>\n",
       "      <td>{\"cutoff\": \"quantile_0.1\", \"eval_fairness_grou...</td>\n",
       "      <td>31.075002</td>\n",
       "      <td>89710</td>\n",
       "      <td>1.0</td>\n",
       "      <td>0.100315</td>\n",
       "      <td>0.896395</td>\n",
       "      <td>0.091620</td>\n",
       "      <td>0.905609</td>\n",
       "      <td>...</td>\n",
       "      <td>0.117470</td>\n",
       "      <td>0.143087</td>\n",
       "      <td>0.968248</td>\n",
       "      <td>0.867933</td>\n",
       "      <td>0.010980</td>\n",
       "      <td>0.048140</td>\n",
       "      <td>0.970643</td>\n",
       "      <td>0.879023</td>\n",
       "      <td>20540.0</td>\n",
       "      <td>69170.0</td>\n",
       "    </tr>\n",
       "    <tr>\n",
       "      <th>0</th>\n",
       "      <td>11</td>\n",
       "      <td>1ee168a473bc3aea4108efd84ed6e7c0</td>\n",
       "      <td>{\"cutoff\": \"quantile_0.25\", \"eval_fairness_gro...</td>\n",
       "      <td>31.075002</td>\n",
       "      <td>89710</td>\n",
       "      <td>1.0</td>\n",
       "      <td>0.223713</td>\n",
       "      <td>0.752024</td>\n",
       "      <td>0.205031</td>\n",
       "      <td>0.774215</td>\n",
       "      <td>...</td>\n",
       "      <td>NaN</td>\n",
       "      <td>NaN</td>\n",
       "      <td>NaN</td>\n",
       "      <td>NaN</td>\n",
       "      <td>NaN</td>\n",
       "      <td>NaN</td>\n",
       "      <td>NaN</td>\n",
       "      <td>NaN</td>\n",
       "      <td>NaN</td>\n",
       "      <td>NaN</td>\n",
       "    </tr>\n",
       "    <tr>\n",
       "      <th>0</th>\n",
       "      <td>11</td>\n",
       "      <td>1ee168a473bc3aea4108efd84ed6e7c0</td>\n",
       "      <td>{\"cutoff\": \"quantile_0.25\", \"eval_fairness_gro...</td>\n",
       "      <td>31.075002</td>\n",
       "      <td>89710</td>\n",
       "      <td>1.0</td>\n",
       "      <td>0.223713</td>\n",
       "      <td>0.752024</td>\n",
       "      <td>0.205031</td>\n",
       "      <td>0.774215</td>\n",
       "      <td>...</td>\n",
       "      <td>0.121059</td>\n",
       "      <td>0.162513</td>\n",
       "      <td>0.902157</td>\n",
       "      <td>0.678444</td>\n",
       "      <td>0.046453</td>\n",
       "      <td>0.135339</td>\n",
       "      <td>0.908082</td>\n",
       "      <td>0.703050</td>\n",
       "      <td>20540.0</td>\n",
       "      <td>69170.0</td>\n",
       "    </tr>\n",
       "  </tbody>\n",
       "</table>\n",
       "<p>4 rows × 50 columns</p>\n",
       "</div>"
      ],
      "text/plain": [
       "  run_no                       universe_id  \\\n",
       "0     11  1ee168a473bc3aea4108efd84ed6e7c0   \n",
       "0     11  1ee168a473bc3aea4108efd84ed6e7c0   \n",
       "0     11  1ee168a473bc3aea4108efd84ed6e7c0   \n",
       "0     11  1ee168a473bc3aea4108efd84ed6e7c0   \n",
       "\n",
       "                                   universe_settings  execution_time  \\\n",
       "0  {\"cutoff\": \"quantile_0.1\", \"eval_fairness_grou...       31.075002   \n",
       "0  {\"cutoff\": \"quantile_0.1\", \"eval_fairness_grou...       31.075002   \n",
       "0  {\"cutoff\": \"quantile_0.25\", \"eval_fairness_gro...       31.075002   \n",
       "0  {\"cutoff\": \"quantile_0.25\", \"eval_fairness_gro...       31.075002   \n",
       "\n",
       "   test_size_n  test_size_frac  fair_main_equalized_odds_difference  \\\n",
       "0        89710             1.0                             0.100315   \n",
       "0        89710             1.0                             0.100315   \n",
       "0        89710             1.0                             0.223713   \n",
       "0        89710             1.0                             0.223713   \n",
       "\n",
       "   fair_main_equalized_odds_ratio  fair_main_demographic_parity_difference  \\\n",
       "0                        0.896395                                 0.091620   \n",
       "0                        0.896395                                 0.091620   \n",
       "0                        0.752024                                 0.205031   \n",
       "0                        0.752024                                 0.205031   \n",
       "\n",
       "   fair_main_demographic_parity_ratio  ...  perf_grp_precision_0  \\\n",
       "0                            0.905609  ...                   NaN   \n",
       "0                            0.905609  ...              0.117470   \n",
       "0                            0.774215  ...                   NaN   \n",
       "0                            0.774215  ...              0.121059   \n",
       "\n",
       "   perf_grp_precision_1  perf_grp_false positive rate_0  \\\n",
       "0                   NaN                             NaN   \n",
       "0              0.143087                        0.968248   \n",
       "0                   NaN                             NaN   \n",
       "0              0.162513                        0.902157   \n",
       "\n",
       "   perf_grp_false positive rate_1  perf_grp_false negative rate_0  \\\n",
       "0                             NaN                             NaN   \n",
       "0                        0.867933                        0.010980   \n",
       "0                             NaN                             NaN   \n",
       "0                        0.678444                        0.046453   \n",
       "\n",
       "   perf_grp_false negative rate_1  perf_grp_selection rate_0  \\\n",
       "0                             NaN                        NaN   \n",
       "0                        0.048140                   0.970643   \n",
       "0                             NaN                        NaN   \n",
       "0                        0.135339                   0.908082   \n",
       "\n",
       "   perf_grp_selection rate_1  perf_grp_count_0  perf_grp_count_1  \n",
       "0                        NaN               NaN               NaN  \n",
       "0                   0.879023           20540.0           69170.0  \n",
       "0                        NaN               NaN               NaN  \n",
       "0                   0.703050           20540.0           69170.0  \n",
       "\n",
       "[4 rows x 50 columns]"
      ]
     },
     "execution_count": 72,
     "metadata": {},
     "output_type": "execute_result"
    }
   ],
   "source": [
    "final_output = universe_analysis.generate_final_output(\n",
    "    y_pred_prob=probs_test,\n",
    "    y_test=y_true,\n",
    "    org_test=org_test,\n",
    "    filter_data=filter_sub_universe_data,\n",
    "    cp_metrics_df=cp_metrics_df,\n",
    "    save=True,\n",
    ")\n",
    "final_output"
   ]
  },
  {
   "cell_type": "code",
   "execution_count": null,
   "id": "721ff514-cb11-46f8-b6fc-50392f74b5cb",
   "metadata": {
    "papermill": {
     "duration": 0.032105,
     "end_time": "2025-07-28T11:04:58.429714",
     "exception": false,
     "start_time": "2025-07-28T11:04:58.397609",
     "status": "completed"
    },
    "tags": []
   },
   "outputs": [],
   "source": []
  }
 ],
 "metadata": {
  "celltoolbar": "Tags",
  "kernelspec": {
   "display_name": "Python (CMA Fairness)",
   "language": "python",
   "name": "cma_fair_env"
  },
  "language_info": {
   "codemirror_mode": {
    "name": "ipython",
    "version": 3
   },
   "file_extension": ".py",
   "mimetype": "text/x-python",
   "name": "python",
   "nbconvert_exporter": "python",
   "pygments_lexer": "ipython3",
   "version": "3.10.12"
  },
  "papermill": {
   "default_parameters": {},
   "duration": 45.360418,
   "end_time": "2025-07-28T11:04:59.381948",
   "environment_variables": {},
   "exception": null,
   "input_path": "universe_analysis.ipynb",
   "output_path": "output/runs/11/notebooks/m_11-1ee168a473bc3aea4108efd84ed6e7c0.ipynb",
   "parameters": {
    "output_dir": "output",
    "run_no": "11",
    "seed": "2023",
    "universe": "{\"cutoff\": [\"quantile_0.1\", \"quantile_0.25\"], \"eval_fairness_grouping\": [\"majority-minority\", \"nationality-all\"], \"exclude_features\": \"nationality\", \"exclude_subgroups\": \"drop-non-german\", \"model\": \"penalized_logreg\", \"scale\": \"do-not-scale\", \"training_size\": \"2014\"}",
    "universe_id": "1ee168a473bc3aea4108efd84ed6e7c0"
   },
   "start_time": "2025-07-28T11:04:14.021530",
   "version": "2.6.0"
  }
 },
 "nbformat": 4,
 "nbformat_minor": 5
}