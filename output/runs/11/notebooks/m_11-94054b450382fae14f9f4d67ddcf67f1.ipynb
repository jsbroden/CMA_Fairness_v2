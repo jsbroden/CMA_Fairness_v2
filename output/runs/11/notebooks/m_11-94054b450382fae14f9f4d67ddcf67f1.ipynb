{
 "cells": [
  {
   "cell_type": "code",
   "execution_count": 1,
   "id": "f159f837-637b-42ba-96b5-ec9a68c44524",
   "metadata": {
    "execution": {
     "iopub.execute_input": "2025-07-28T10:35:32.721058Z",
     "iopub.status.busy": "2025-07-28T10:35:32.720588Z",
     "iopub.status.idle": "2025-07-28T10:35:32.734153Z",
     "shell.execute_reply": "2025-07-28T10:35:32.733244Z"
    },
    "papermill": {
     "duration": 0.027442,
     "end_time": "2025-07-28T10:35:32.735659",
     "exception": false,
     "start_time": "2025-07-28T10:35:32.708217",
     "status": "completed"
    },
    "tags": []
   },
   "outputs": [
    {
     "name": "stdout",
     "output_type": "stream",
     "text": [
      "/dss/dsshome1/0C/ra93lal2/cma/CMA_Fairness_v2\n"
     ]
    },
    {
     "name": "stderr",
     "output_type": "stream",
     "text": [
      "/dss/dsshome1/0C/ra93lal2/.local/share/virtualenvs/CMA_Fairness_v2-3j10GkSs/lib/python3.10/site-packages/IPython/core/magics/osm.py:393: UserWarning: This is now an optional IPython functionality, using bookmarks requires you to install the `pickleshare` library.\n",
      "  bkms = self.shell.db.get('bookmarks', {})\n",
      "/dss/dsshome1/0C/ra93lal2/.local/share/virtualenvs/CMA_Fairness_v2-3j10GkSs/lib/python3.10/site-packages/IPython/core/magics/osm.py:417: UserWarning: This is now an optional IPython functionality, setting dhist requires you to install the `pickleshare` library.\n",
      "  self.shell.db['dhist'] = compress_dhist(dhist)[-100:]\n"
     ]
    }
   ],
   "source": [
    "%cd ~/cma/CMA_Fairness_v2"
   ]
  },
  {
   "cell_type": "markdown",
   "id": "de2603b9",
   "metadata": {
    "papermill": {
     "duration": 0.013058,
     "end_time": "2025-07-28T10:35:32.758854",
     "exception": false,
     "start_time": "2025-07-28T10:35:32.745796",
     "status": "completed"
    },
    "tags": []
   },
   "source": [
    "The following cell holds the definition of our parameters, these values can be overriden by rendering the with e.g. the following command:\n",
    "\n",
    "papermill -p alpha 0.2 -p ratio 0.3 universe_analysis.ipynb output/test_run.ipynb"
   ]
  },
  {
   "cell_type": "code",
   "execution_count": 2,
   "id": "a80968a0-40bb-4fa9-85ef-2d5eefb01975",
   "metadata": {
    "execution": {
     "iopub.execute_input": "2025-07-28T10:35:32.780058Z",
     "iopub.status.busy": "2025-07-28T10:35:32.779442Z",
     "iopub.status.idle": "2025-07-28T10:35:32.784467Z",
     "shell.execute_reply": "2025-07-28T10:35:32.783520Z"
    },
    "papermill": {
     "duration": 0.017191,
     "end_time": "2025-07-28T10:35:32.785917",
     "exception": false,
     "start_time": "2025-07-28T10:35:32.768726",
     "status": "completed"
    },
    "tags": []
   },
   "outputs": [
    {
     "name": "stdout",
     "output_type": "stream",
     "text": [
      "Current working directory: /dss/dsshome1/0C/ra93lal2/cma/CMA_Fairness_v2\n"
     ]
    }
   ],
   "source": [
    "import os\n",
    "print(\"Current working directory:\", os.getcwd())"
   ]
  },
  {
   "cell_type": "code",
   "execution_count": 3,
   "id": "2dce4c03",
   "metadata": {
    "execution": {
     "iopub.execute_input": "2025-07-28T10:35:32.819312Z",
     "iopub.status.busy": "2025-07-28T10:35:32.818818Z",
     "iopub.status.idle": "2025-07-28T10:35:32.824080Z",
     "shell.execute_reply": "2025-07-28T10:35:32.823312Z"
    },
    "papermill": {
     "duration": 0.024159,
     "end_time": "2025-07-28T10:35:32.825356",
     "exception": false,
     "start_time": "2025-07-28T10:35:32.801197",
     "status": "completed"
    },
    "tags": [
     "parameters"
    ]
   },
   "outputs": [],
   "source": [
    "run_no = 0\n",
    "universe_id = \"test\"\n",
    "universe = {\n",
    "    \"training_size\": \"2014\", # \"25k\", \"5k\", \"1k\", \"2014\"\n",
    "    \"scale\": \"scale\", # \"scale\", \"do-not-scale\",\n",
    "    #\"stratify_split\": \"target\", # \"none\", \"target\", \"protected-attribute\", \"both\",\n",
    "    \"model\": \"elasticnet\", # \"logreg\", \"penalized_logreg\", \"rf\", \"gbm\", \"elasticnet\"\n",
    "    \"cutoff\": [\"quantile_0.15\", \"quantile_0.30\"],\n",
    "    \"exclude_features\": \"age\", # \"none\", \"nationality\", \"sex\", \"nationality-sex\", \"age\"\n",
    "    \"exclude_subgroups\": \"keep-all\", # \"keep-all\", \"drop-non-german\"\n",
    "    #\"training_sample\": \"restricted\", # \"restricted\", \"full\"\n",
    "    \"eval_fairness_grouping\": [\"majority-minority\", \"nationality-all\"]\n",
    "}\n",
    "\n",
    "output_dir=\"./output\"\n",
    "seed=0"
   ]
  },
  {
   "cell_type": "code",
   "execution_count": 4,
   "id": "3cf37c6c",
   "metadata": {
    "execution": {
     "iopub.execute_input": "2025-07-28T10:35:32.851825Z",
     "iopub.status.busy": "2025-07-28T10:35:32.851425Z",
     "iopub.status.idle": "2025-07-28T10:35:32.856440Z",
     "shell.execute_reply": "2025-07-28T10:35:32.855575Z"
    },
    "papermill": {
     "duration": 0.02265,
     "end_time": "2025-07-28T10:35:32.858583",
     "exception": false,
     "start_time": "2025-07-28T10:35:32.835933",
     "status": "completed"
    },
    "tags": [
     "injected-parameters"
    ]
   },
   "outputs": [],
   "source": [
    "# Parameters\n",
    "universe_id = \"94054b450382fae14f9f4d67ddcf67f1\"\n",
    "run_no = \"11\"\n",
    "universe = \"{\\\"cutoff\\\": [\\\"quantile_0.1\\\", \\\"quantile_0.25\\\"], \\\"eval_fairness_grouping\\\": [\\\"majority-minority\\\", \\\"nationality-all\\\"], \\\"exclude_features\\\": \\\"age\\\", \\\"exclude_subgroups\\\": \\\"keep-all\\\", \\\"model\\\": \\\"logreg\\\", \\\"scale\\\": \\\"do-not-scale\\\", \\\"training_size\\\": \\\"5k\\\"}\"\n",
    "output_dir = \"output\"\n",
    "seed = \"2023\"\n"
   ]
  },
  {
   "cell_type": "code",
   "execution_count": 5,
   "id": "1650acaf",
   "metadata": {
    "execution": {
     "iopub.execute_input": "2025-07-28T10:35:32.887626Z",
     "iopub.status.busy": "2025-07-28T10:35:32.887262Z",
     "iopub.status.idle": "2025-07-28T10:35:32.891855Z",
     "shell.execute_reply": "2025-07-28T10:35:32.891046Z"
    },
    "papermill": {
     "duration": 0.017615,
     "end_time": "2025-07-28T10:35:32.893277",
     "exception": false,
     "start_time": "2025-07-28T10:35:32.875662",
     "status": "completed"
    },
    "tags": []
   },
   "outputs": [],
   "source": [
    "import json\n",
    "# Parse universe into dict if it is passed as a string\n",
    "if isinstance(universe, str):\n",
    "    universe = json.loads(universe)"
   ]
  },
  {
   "cell_type": "code",
   "execution_count": 6,
   "id": "16620c48",
   "metadata": {
    "execution": {
     "iopub.execute_input": "2025-07-28T10:35:32.915880Z",
     "iopub.status.busy": "2025-07-28T10:35:32.915576Z",
     "iopub.status.idle": "2025-07-28T10:35:32.944295Z",
     "shell.execute_reply": "2025-07-28T10:35:32.943547Z"
    },
    "papermill": {
     "duration": 0.041745,
     "end_time": "2025-07-28T10:35:32.945620",
     "exception": false,
     "start_time": "2025-07-28T10:35:32.903875",
     "status": "completed"
    },
    "tags": []
   },
   "outputs": [],
   "source": [
    "# Auto-reload the custom package\n",
    "%load_ext autoreload\n",
    "%autoreload 1\n",
    "%aimport fairness_multiverse"
   ]
  },
  {
   "cell_type": "code",
   "execution_count": 7,
   "id": "01c5c9f3",
   "metadata": {
    "execution": {
     "iopub.execute_input": "2025-07-28T10:35:32.972899Z",
     "iopub.status.busy": "2025-07-28T10:35:32.972009Z",
     "iopub.status.idle": "2025-07-28T10:35:35.119985Z",
     "shell.execute_reply": "2025-07-28T10:35:35.118912Z"
    },
    "papermill": {
     "duration": 2.163055,
     "end_time": "2025-07-28T10:35:35.122165",
     "exception": false,
     "start_time": "2025-07-28T10:35:32.959110",
     "status": "completed"
    },
    "tags": []
   },
   "outputs": [],
   "source": [
    "from fairness_multiverse.universe import UniverseAnalysis\n",
    "\n",
    "universe_analysis = UniverseAnalysis(\n",
    "    run_no = run_no,\n",
    "    universe_id = universe_id,\n",
    "    universe = universe,\n",
    "    output_dir=output_dir,\n",
    ")"
   ]
  },
  {
   "cell_type": "code",
   "execution_count": 8,
   "id": "106241f5",
   "metadata": {
    "execution": {
     "iopub.execute_input": "2025-07-28T10:35:35.165210Z",
     "iopub.status.busy": "2025-07-28T10:35:35.164241Z",
     "iopub.status.idle": "2025-07-28T10:35:35.171834Z",
     "shell.execute_reply": "2025-07-28T10:35:35.170712Z"
    },
    "papermill": {
     "duration": 0.031937,
     "end_time": "2025-07-28T10:35:35.173572",
     "exception": false,
     "start_time": "2025-07-28T10:35:35.141635",
     "status": "completed"
    },
    "tags": []
   },
   "outputs": [
    {
     "name": "stdout",
     "output_type": "stream",
     "text": [
      "Using Seed: 2023\n"
     ]
    }
   ],
   "source": [
    "import numpy as np\n",
    "parsed_seed = int(seed)\n",
    "np.random.seed(parsed_seed)\n",
    "print(f\"Using Seed: {parsed_seed}\")"
   ]
  },
  {
   "cell_type": "markdown",
   "id": "e0ebdc57",
   "metadata": {
    "papermill": {
     "duration": 0.017961,
     "end_time": "2025-07-28T10:35:35.210216",
     "exception": false,
     "start_time": "2025-07-28T10:35:35.192255",
     "status": "completed"
    },
    "tags": []
   },
   "source": [
    "# Loading Data"
   ]
  },
  {
   "cell_type": "markdown",
   "id": "681925a3",
   "metadata": {
    "papermill": {
     "duration": 0.018171,
     "end_time": "2025-07-28T10:35:35.247702",
     "exception": false,
     "start_time": "2025-07-28T10:35:35.229531",
     "status": "completed"
    },
    "tags": []
   },
   "source": [
    "Load siab_train, siab_test, siab_calib and/or \n",
    "load siab_train_features, siab_train_labels"
   ]
  },
  {
   "cell_type": "code",
   "execution_count": 9,
   "id": "f0496b8a",
   "metadata": {
    "execution": {
     "iopub.execute_input": "2025-07-28T10:35:35.282836Z",
     "iopub.status.busy": "2025-07-28T10:35:35.282330Z",
     "iopub.status.idle": "2025-07-28T10:35:46.617010Z",
     "shell.execute_reply": "2025-07-28T10:35:46.615553Z"
    },
    "papermill": {
     "duration": 11.352935,
     "end_time": "2025-07-28T10:35:46.618771",
     "exception": false,
     "start_time": "2025-07-28T10:35:35.265836",
     "status": "completed"
    },
    "tags": []
   },
   "outputs": [
    {
     "name": "stdout",
     "output_type": "stream",
     "text": [
      "Loading SIAB data from cache: data/siab_cached.csv.gz\n"
     ]
    },
    {
     "name": "stdout",
     "output_type": "stream",
     "text": [
      "(643690, 164)\n"
     ]
    }
   ],
   "source": [
    "from pathlib import Path\n",
    "import pandas as pd\n",
    "\n",
    "# File paths\n",
    "raw_file = Path(\"data/raw/siab.csv\")\n",
    "cache_file = Path(\"data/siab_cached.csv.gz\")\n",
    "\n",
    "# Ensure cache directory exists\n",
    "cache_file.parent.mkdir(parents=True, exist_ok=True)\n",
    "\n",
    "# Load with simple caching\n",
    "if cache_file.exists():\n",
    "    print(f\"Loading SIAB data from cache: {cache_file}\")\n",
    "    siab = pd.read_csv(cache_file, compression='gzip')\n",
    "else:\n",
    "    print(f\"Cache not found. Reading raw SIAB data: {raw_file}\")\n",
    "    siab = pd.read_csv(raw_file)\n",
    "    siab.to_csv(cache_file, index=False, compression='gzip')\n",
    "    print(f\"Cached SIAB data to: {cache_file}\")\n",
    "\n",
    "# Now use `siab` DataFrame as needed\n",
    "print(siab.shape)"
   ]
  },
  {
   "cell_type": "code",
   "execution_count": 10,
   "id": "db0ca512-5f53-4dba-abdb-a2888bca41ba",
   "metadata": {
    "execution": {
     "iopub.execute_input": "2025-07-28T10:35:46.673900Z",
     "iopub.status.busy": "2025-07-28T10:35:46.673008Z",
     "iopub.status.idle": "2025-07-28T10:35:46.679426Z",
     "shell.execute_reply": "2025-07-28T10:35:46.678328Z"
    },
    "papermill": {
     "duration": 0.03784,
     "end_time": "2025-07-28T10:35:46.681475",
     "exception": false,
     "start_time": "2025-07-28T10:35:46.643635",
     "status": "completed"
    },
    "tags": []
   },
   "outputs": [],
   "source": [
    "#siab"
   ]
  },
  {
   "cell_type": "code",
   "execution_count": 11,
   "id": "a0edb063",
   "metadata": {
    "execution": {
     "iopub.execute_input": "2025-07-28T10:35:46.727024Z",
     "iopub.status.busy": "2025-07-28T10:35:46.726323Z",
     "iopub.status.idle": "2025-07-28T10:35:46.731767Z",
     "shell.execute_reply": "2025-07-28T10:35:46.730789Z"
    },
    "papermill": {
     "duration": 0.029685,
     "end_time": "2025-07-28T10:35:46.733565",
     "exception": false,
     "start_time": "2025-07-28T10:35:46.703880",
     "status": "completed"
    },
    "tags": []
   },
   "outputs": [],
   "source": [
    "#import pandas as pd\n",
    "#\n",
    "#X_train = pd.read_csv(\"./data/X_train.csv\")\n",
    "#y_train = pd.read_csv(\"./data/y_train.csv\")"
   ]
  },
  {
   "cell_type": "code",
   "execution_count": 12,
   "id": "63d08085",
   "metadata": {
    "execution": {
     "iopub.execute_input": "2025-07-28T10:35:46.779678Z",
     "iopub.status.busy": "2025-07-28T10:35:46.779130Z",
     "iopub.status.idle": "2025-07-28T10:35:46.784897Z",
     "shell.execute_reply": "2025-07-28T10:35:46.783916Z"
    },
    "papermill": {
     "duration": 0.03086,
     "end_time": "2025-07-28T10:35:46.786647",
     "exception": false,
     "start_time": "2025-07-28T10:35:46.755787",
     "status": "completed"
    },
    "tags": []
   },
   "outputs": [],
   "source": [
    "#X_test = pd.read_csv(\"./data/X_test.csv\")\n",
    "#y_true = pd.read_csv(\"./data/y_test.csv\")"
   ]
  },
  {
   "cell_type": "code",
   "execution_count": 13,
   "id": "98a8d0fa-1d3d-4ed8-bb2c-281470e24add",
   "metadata": {
    "execution": {
     "iopub.execute_input": "2025-07-28T10:35:46.832458Z",
     "iopub.status.busy": "2025-07-28T10:35:46.831693Z",
     "iopub.status.idle": "2025-07-28T10:35:46.837205Z",
     "shell.execute_reply": "2025-07-28T10:35:46.836090Z"
    },
    "papermill": {
     "duration": 0.030754,
     "end_time": "2025-07-28T10:35:46.839070",
     "exception": false,
     "start_time": "2025-07-28T10:35:46.808316",
     "status": "completed"
    },
    "tags": []
   },
   "outputs": [],
   "source": [
    "# Calibration data for conformal\n",
    "#X_calib = pd.read_csv(\"./data/X_calib.csv\")\n",
    "#y_calib = pd.read_csv(\"./data/y_calib.csv\")"
   ]
  },
  {
   "cell_type": "markdown",
   "id": "9901737e-04df-44f0-9100-f5ad144ed040",
   "metadata": {
    "papermill": {
     "duration": 0.022895,
     "end_time": "2025-07-28T10:35:46.886060",
     "exception": false,
     "start_time": "2025-07-28T10:35:46.863165",
     "status": "completed"
    },
    "tags": []
   },
   "source": [
    "# Splitting Data and Setting Training Data Size"
   ]
  },
  {
   "cell_type": "code",
   "execution_count": 14,
   "id": "acbc8f7d-8fc8-4e86-8c59-5dcb0f58384b",
   "metadata": {
    "execution": {
     "iopub.execute_input": "2025-07-28T10:35:46.934095Z",
     "iopub.status.busy": "2025-07-28T10:35:46.933418Z",
     "iopub.status.idle": "2025-07-28T10:35:46.942544Z",
     "shell.execute_reply": "2025-07-28T10:35:46.941544Z"
    },
    "papermill": {
     "duration": 0.03535,
     "end_time": "2025-07-28T10:35:46.944254",
     "exception": false,
     "start_time": "2025-07-28T10:35:46.908904",
     "status": "completed"
    },
    "tags": []
   },
   "outputs": [],
   "source": [
    "def sample_by_year(df, training_size, random_state=42):\n",
    "    if training_size == \"2014\":\n",
    "        return df[df[\"year\"] == 2014].reset_index(drop=True)\n",
    "    \n",
    "    size_map = {\n",
    "        \"25k\": 5000,\n",
    "        \"5k\": 1000,\n",
    "        \"1k\": 200\n",
    "    }\n",
    "\n",
    "    if training_size not in size_map:\n",
    "        return df.reset_index(drop=True)  # use all data\n",
    "\n",
    "    n_per_year = size_map[training_size]\n",
    "    grouped = df.groupby(\"year\")\n",
    "    sampled = grouped.apply(lambda x: x.sample(n=min(n_per_year, len(x)), random_state=random_state))\n",
    "    return sampled.reset_index(drop=True)"
   ]
  },
  {
   "cell_type": "code",
   "execution_count": 15,
   "id": "6d931f52-beaf-43ff-9e78-9d44a448d54e",
   "metadata": {
    "execution": {
     "iopub.execute_input": "2025-07-28T10:35:46.991576Z",
     "iopub.status.busy": "2025-07-28T10:35:46.991089Z",
     "iopub.status.idle": "2025-07-28T10:35:47.703691Z",
     "shell.execute_reply": "2025-07-28T10:35:47.702915Z"
    },
    "papermill": {
     "duration": 0.738645,
     "end_time": "2025-07-28T10:35:47.705873",
     "exception": false,
     "start_time": "2025-07-28T10:35:46.967228",
     "status": "completed"
    },
    "tags": []
   },
   "outputs": [],
   "source": [
    "siab_s = sample_by_year(siab, universe[\"training_size\"])"
   ]
  },
  {
   "cell_type": "code",
   "execution_count": 16,
   "id": "5db0a40e-a4e2-4920-be85-b12ae061d70d",
   "metadata": {
    "execution": {
     "iopub.execute_input": "2025-07-28T10:35:47.750035Z",
     "iopub.status.busy": "2025-07-28T10:35:47.749569Z",
     "iopub.status.idle": "2025-07-28T10:35:47.763723Z",
     "shell.execute_reply": "2025-07-28T10:35:47.762838Z"
    },
    "papermill": {
     "duration": 0.035901,
     "end_time": "2025-07-28T10:35:47.765271",
     "exception": false,
     "start_time": "2025-07-28T10:35:47.729370",
     "status": "completed"
    },
    "tags": []
   },
   "outputs": [
    {
     "data": {
      "text/plain": [
       "year\n",
       "2010    1000\n",
       "2011    1000\n",
       "2012    1000\n",
       "2013    1000\n",
       "2014    1000\n",
       "2015    1000\n",
       "2016    1000\n",
       "dtype: int64"
      ]
     },
     "metadata": {},
     "output_type": "display_data"
    }
   ],
   "source": [
    "display(siab_s.groupby(\"year\").size())"
   ]
  },
  {
   "cell_type": "code",
   "execution_count": 17,
   "id": "a561edb4-d032-42cb-8256-22eac1111c64",
   "metadata": {
    "execution": {
     "iopub.execute_input": "2025-07-28T10:35:47.804543Z",
     "iopub.status.busy": "2025-07-28T10:35:47.804060Z",
     "iopub.status.idle": "2025-07-28T10:35:48.057639Z",
     "shell.execute_reply": "2025-07-28T10:35:48.056605Z"
    },
    "papermill": {
     "duration": 0.274858,
     "end_time": "2025-07-28T10:35:48.059369",
     "exception": false,
     "start_time": "2025-07-28T10:35:47.784511",
     "status": "completed"
    },
    "tags": []
   },
   "outputs": [],
   "source": [
    "siab_train = siab_s[siab_s.year < 2015]\n",
    "siab_calib = siab[siab.year == 2015]\n",
    "siab_test = siab[siab.year == 2016]"
   ]
  },
  {
   "cell_type": "code",
   "execution_count": 18,
   "id": "472de16f-c3db-4916-846b-1f0de9cf1746",
   "metadata": {
    "execution": {
     "iopub.execute_input": "2025-07-28T10:35:48.103284Z",
     "iopub.status.busy": "2025-07-28T10:35:48.102349Z",
     "iopub.status.idle": "2025-07-28T10:35:48.112193Z",
     "shell.execute_reply": "2025-07-28T10:35:48.110984Z"
    },
    "papermill": {
     "duration": 0.033136,
     "end_time": "2025-07-28T10:35:48.114622",
     "exception": false,
     "start_time": "2025-07-28T10:35:48.081486",
     "status": "completed"
    },
    "tags": []
   },
   "outputs": [],
   "source": [
    "X_train = siab_train.iloc[:,4:164]\n",
    "y_train = siab_train.iloc[:, [3]]"
   ]
  },
  {
   "cell_type": "code",
   "execution_count": 19,
   "id": "828c96af-f43a-4ed6-ba47-8ac73a47d56c",
   "metadata": {
    "execution": {
     "iopub.execute_input": "2025-07-28T10:35:48.166328Z",
     "iopub.status.busy": "2025-07-28T10:35:48.165534Z",
     "iopub.status.idle": "2025-07-28T10:35:48.218792Z",
     "shell.execute_reply": "2025-07-28T10:35:48.217748Z"
    },
    "papermill": {
     "duration": 0.077208,
     "end_time": "2025-07-28T10:35:48.220643",
     "exception": false,
     "start_time": "2025-07-28T10:35:48.143435",
     "status": "completed"
    },
    "tags": []
   },
   "outputs": [],
   "source": [
    "X_calib = siab_calib.iloc[:,4:164]\n",
    "y_calib = siab_calib.iloc[:, [3]]"
   ]
  },
  {
   "cell_type": "code",
   "execution_count": 20,
   "id": "c34be9c3-6bd6-476e-acd3-845840e303be",
   "metadata": {
    "execution": {
     "iopub.execute_input": "2025-07-28T10:35:48.265101Z",
     "iopub.status.busy": "2025-07-28T10:35:48.264384Z",
     "iopub.status.idle": "2025-07-28T10:35:48.322315Z",
     "shell.execute_reply": "2025-07-28T10:35:48.321291Z"
    },
    "papermill": {
     "duration": 0.082955,
     "end_time": "2025-07-28T10:35:48.324539",
     "exception": false,
     "start_time": "2025-07-28T10:35:48.241584",
     "status": "completed"
    },
    "tags": []
   },
   "outputs": [],
   "source": [
    "X_test = siab_test.iloc[:,4:164]\n",
    "y_true = siab_test.iloc[:, [3]]"
   ]
  },
  {
   "cell_type": "code",
   "execution_count": 21,
   "id": "e6c733c5",
   "metadata": {
    "execution": {
     "iopub.execute_input": "2025-07-28T10:35:48.370256Z",
     "iopub.status.busy": "2025-07-28T10:35:48.369678Z",
     "iopub.status.idle": "2025-07-28T10:35:48.478087Z",
     "shell.execute_reply": "2025-07-28T10:35:48.477001Z"
    },
    "papermill": {
     "duration": 0.13302,
     "end_time": "2025-07-28T10:35:48.480244",
     "exception": false,
     "start_time": "2025-07-28T10:35:48.347224",
     "status": "completed"
    },
    "tags": []
   },
   "outputs": [],
   "source": [
    "# Auxiliary data needed downstream in the pipeline\n",
    "\n",
    "org_train = X_train.copy()\n",
    "org_test = X_test.copy()\n",
    "org_calib = X_calib.copy()"
   ]
  },
  {
   "cell_type": "markdown",
   "id": "0a4a1b33",
   "metadata": {
    "papermill": {
     "duration": 0.021721,
     "end_time": "2025-07-28T10:35:48.535480",
     "exception": false,
     "start_time": "2025-07-28T10:35:48.513759",
     "status": "completed"
    },
    "tags": []
   },
   "source": [
    "# Preprocessing Data"
   ]
  },
  {
   "cell_type": "code",
   "execution_count": 22,
   "id": "ca879031",
   "metadata": {
    "execution": {
     "iopub.execute_input": "2025-07-28T10:35:48.580713Z",
     "iopub.status.busy": "2025-07-28T10:35:48.579651Z",
     "iopub.status.idle": "2025-07-28T10:35:48.586769Z",
     "shell.execute_reply": "2025-07-28T10:35:48.585826Z"
    },
    "papermill": {
     "duration": 0.031634,
     "end_time": "2025-07-28T10:35:48.588595",
     "exception": false,
     "start_time": "2025-07-28T10:35:48.556961",
     "status": "completed"
    },
    "tags": []
   },
   "outputs": [],
   "source": [
    "# EXCLUDE PROTECTED FEATURES\n",
    "# ----------------------\n",
    "# \"exclude_features\": \"none\", # \"nationality\", \"sex\", \"nationality-sex\"\n",
    "\n",
    "excluded_features = universe[\"exclude_features\"].split(\"-\") # split, e.g.: \"nationality-sex\" -> [\"nationality\", \"sex\"]\n",
    "excluded_features_dictionary = {\n",
    "    \"nationality\": [\"maxdeutsch1\", \"maxdeutsch.Missing.\"],\n",
    "    \"sex\": [\"frau1\"],\n",
    "    \"age\": [\"age\"],\n",
    "}\n"
   ]
  },
  {
   "cell_type": "code",
   "execution_count": 23,
   "id": "b745ac60",
   "metadata": {
    "execution": {
     "iopub.execute_input": "2025-07-28T10:35:48.633342Z",
     "iopub.status.busy": "2025-07-28T10:35:48.632660Z",
     "iopub.status.idle": "2025-07-28T10:35:48.639931Z",
     "shell.execute_reply": "2025-07-28T10:35:48.638866Z"
    },
    "papermill": {
     "duration": 0.031139,
     "end_time": "2025-07-28T10:35:48.641659",
     "exception": false,
     "start_time": "2025-07-28T10:35:48.610520",
     "status": "completed"
    },
    "tags": []
   },
   "outputs": [],
   "source": [
    "# Code nice names to column names\n",
    "\n",
    "excluded_features_columns = [\n",
    "    excluded_features_dictionary[f] for f in excluded_features if len(f) > 0 and f != \"none\"\n",
    "]"
   ]
  },
  {
   "cell_type": "code",
   "execution_count": 24,
   "id": "f84f73a2",
   "metadata": {
    "execution": {
     "iopub.execute_input": "2025-07-28T10:35:48.684874Z",
     "iopub.status.busy": "2025-07-28T10:35:48.684156Z",
     "iopub.status.idle": "2025-07-28T10:35:48.692265Z",
     "shell.execute_reply": "2025-07-28T10:35:48.691146Z"
    },
    "papermill": {
     "duration": 0.03148,
     "end_time": "2025-07-28T10:35:48.694071",
     "exception": false,
     "start_time": "2025-07-28T10:35:48.662591",
     "status": "completed"
    },
    "tags": []
   },
   "outputs": [],
   "source": [
    "from utils import flatten_once\n",
    "\n",
    "excluded_features_columns = flatten_once(excluded_features_columns)"
   ]
  },
  {
   "cell_type": "code",
   "execution_count": 25,
   "id": "884dea22",
   "metadata": {
    "execution": {
     "iopub.execute_input": "2025-07-28T10:35:48.738445Z",
     "iopub.status.busy": "2025-07-28T10:35:48.737467Z",
     "iopub.status.idle": "2025-07-28T10:35:48.747779Z",
     "shell.execute_reply": "2025-07-28T10:35:48.746687Z"
    },
    "papermill": {
     "duration": 0.03412,
     "end_time": "2025-07-28T10:35:48.749583",
     "exception": false,
     "start_time": "2025-07-28T10:35:48.715463",
     "status": "completed"
    },
    "tags": []
   },
   "outputs": [
    {
     "name": "stdout",
     "output_type": "stream",
     "text": [
      "Dropping features: ['age']\n"
     ]
    }
   ],
   "source": [
    "if len(excluded_features_columns) > 0:\n",
    "    print(f\"Dropping features: {excluded_features_columns}\")\n",
    "    X_train.drop(excluded_features_columns, axis=1, inplace=True)"
   ]
  },
  {
   "cell_type": "code",
   "execution_count": 26,
   "id": "95ab8b16",
   "metadata": {
    "execution": {
     "iopub.execute_input": "2025-07-28T10:35:48.794120Z",
     "iopub.status.busy": "2025-07-28T10:35:48.793453Z",
     "iopub.status.idle": "2025-07-28T10:35:48.849617Z",
     "shell.execute_reply": "2025-07-28T10:35:48.848707Z"
    },
    "papermill": {
     "duration": 0.079946,
     "end_time": "2025-07-28T10:35:48.851187",
     "exception": false,
     "start_time": "2025-07-28T10:35:48.771241",
     "status": "completed"
    },
    "tags": []
   },
   "outputs": [
    {
     "name": "stdout",
     "output_type": "stream",
     "text": [
      "Dropping features: ['age']\n"
     ]
    }
   ],
   "source": [
    "if len(excluded_features_columns) > 0:\n",
    "    print(f\"Dropping features: {excluded_features_columns}\")\n",
    "    X_test.drop(excluded_features_columns, axis=1, inplace=True)"
   ]
  },
  {
   "cell_type": "code",
   "execution_count": 27,
   "id": "1853aaf5-fb9f-46cb-a2b5-8ea4ae2237e4",
   "metadata": {
    "execution": {
     "iopub.execute_input": "2025-07-28T10:35:48.895877Z",
     "iopub.status.busy": "2025-07-28T10:35:48.895424Z",
     "iopub.status.idle": "2025-07-28T10:35:48.950185Z",
     "shell.execute_reply": "2025-07-28T10:35:48.949240Z"
    },
    "papermill": {
     "duration": 0.080129,
     "end_time": "2025-07-28T10:35:48.952063",
     "exception": false,
     "start_time": "2025-07-28T10:35:48.871934",
     "status": "completed"
    },
    "tags": []
   },
   "outputs": [
    {
     "name": "stdout",
     "output_type": "stream",
     "text": [
      "Dropping features: ['age']\n"
     ]
    }
   ],
   "source": [
    "if len(excluded_features_columns) > 0:\n",
    "    print(f\"Dropping features: {excluded_features_columns}\")\n",
    "    X_calib.drop(excluded_features_columns, axis=1, inplace=True)"
   ]
  },
  {
   "cell_type": "code",
   "execution_count": 28,
   "id": "6727d079-03e5-481e-9d38-292a90b7a0a8",
   "metadata": {
    "execution": {
     "iopub.execute_input": "2025-07-28T10:35:48.996303Z",
     "iopub.status.busy": "2025-07-28T10:35:48.995547Z",
     "iopub.status.idle": "2025-07-28T10:35:49.000864Z",
     "shell.execute_reply": "2025-07-28T10:35:48.999910Z"
    },
    "papermill": {
     "duration": 0.028834,
     "end_time": "2025-07-28T10:35:49.002861",
     "exception": false,
     "start_time": "2025-07-28T10:35:48.974027",
     "status": "completed"
    },
    "tags": []
   },
   "outputs": [],
   "source": [
    "# SPLIT & STRATIFY DATA\n",
    "# ----------------------"
   ]
  },
  {
   "cell_type": "code",
   "execution_count": 29,
   "id": "76c4dc6d",
   "metadata": {
    "execution": {
     "iopub.execute_input": "2025-07-28T10:35:49.050569Z",
     "iopub.status.busy": "2025-07-28T10:35:49.050010Z",
     "iopub.status.idle": "2025-07-28T10:35:49.056233Z",
     "shell.execute_reply": "2025-07-28T10:35:49.055189Z"
    },
    "papermill": {
     "duration": 0.030038,
     "end_time": "2025-07-28T10:35:49.058050",
     "exception": false,
     "start_time": "2025-07-28T10:35:49.028012",
     "status": "completed"
    },
    "tags": []
   },
   "outputs": [],
   "source": [
    "# EXCLUDE CERTAIN SUBGROUPS\n",
    "# ----------------------\n",
    "\n",
    "mode = universe.get(\"exclude_subgroups\", \"keep-all\") \n",
    "# Fetches the exclude_subgroups setting from the universe dict.\n",
    "# Defaults to \"keep-all\" if the key is missing."
   ]
  },
  {
   "cell_type": "code",
   "execution_count": 30,
   "id": "21994072",
   "metadata": {
    "execution": {
     "iopub.execute_input": "2025-07-28T10:35:49.106041Z",
     "iopub.status.busy": "2025-07-28T10:35:49.105249Z",
     "iopub.status.idle": "2025-07-28T10:35:49.112905Z",
     "shell.execute_reply": "2025-07-28T10:35:49.111824Z"
    },
    "papermill": {
     "duration": 0.03234,
     "end_time": "2025-07-28T10:35:49.114545",
     "exception": false,
     "start_time": "2025-07-28T10:35:49.082205",
     "status": "completed"
    },
    "tags": []
   },
   "outputs": [],
   "source": [
    "if mode == \"keep-all\":\n",
    "    keep_mask = pd.Series(True, index=org_train.index)\n",
    "\n",
    "# org_train contains the original feature columns from features_org (in Simson)\n",
    "# features_org contains unprocessed features, for me X_train at beginning ???\n",
    "# For keep-all, creates a boolean Series (keep_mask) of all True, so no rows are removed.\n",
    "\n",
    "elif mode == \"drop-non-german\":\n",
    "    keep_mask = org_train[\"maxdeutsch1\"] == 1 # ??? what about missing values?\n",
    "\n",
    "else:\n",
    "    raise ValueError(f\"Unsupported mode for exclude_subgroups: {mode}\")\n"
   ]
  },
  {
   "cell_type": "code",
   "execution_count": 31,
   "id": "71651440",
   "metadata": {
    "execution": {
     "iopub.execute_input": "2025-07-28T10:35:49.160497Z",
     "iopub.status.busy": "2025-07-28T10:35:49.159837Z",
     "iopub.status.idle": "2025-07-28T10:35:49.165873Z",
     "shell.execute_reply": "2025-07-28T10:35:49.165152Z"
    },
    "papermill": {
     "duration": 0.030367,
     "end_time": "2025-07-28T10:35:49.167258",
     "exception": false,
     "start_time": "2025-07-28T10:35:49.136891",
     "status": "completed"
    },
    "tags": []
   },
   "outputs": [],
   "source": [
    "n_drop = (~keep_mask).sum() # Calculates how many rows are set to be dropped\n",
    "if n_drop > 0:\n",
    "    pct = n_drop / len(keep_mask) * 100\n",
    "    print(f\"Dropping {n_drop} rows ({pct:.2f}%) where mode='{mode}'\")"
   ]
  },
  {
   "cell_type": "code",
   "execution_count": 32,
   "id": "5fb8eee5",
   "metadata": {
    "execution": {
     "iopub.execute_input": "2025-07-28T10:35:49.203150Z",
     "iopub.status.busy": "2025-07-28T10:35:49.202595Z",
     "iopub.status.idle": "2025-07-28T10:35:49.210843Z",
     "shell.execute_reply": "2025-07-28T10:35:49.209766Z"
    },
    "papermill": {
     "duration": 0.033254,
     "end_time": "2025-07-28T10:35:49.212956",
     "exception": false,
     "start_time": "2025-07-28T10:35:49.179702",
     "status": "completed"
    },
    "tags": []
   },
   "outputs": [],
   "source": [
    "X_train = X_train[keep_mask]"
   ]
  },
  {
   "cell_type": "code",
   "execution_count": 33,
   "id": "b202bb3a",
   "metadata": {
    "execution": {
     "iopub.execute_input": "2025-07-28T10:35:49.260391Z",
     "iopub.status.busy": "2025-07-28T10:35:49.259813Z",
     "iopub.status.idle": "2025-07-28T10:35:49.266451Z",
     "shell.execute_reply": "2025-07-28T10:35:49.265377Z"
    },
    "papermill": {
     "duration": 0.031572,
     "end_time": "2025-07-28T10:35:49.268064",
     "exception": false,
     "start_time": "2025-07-28T10:35:49.236492",
     "status": "completed"
    },
    "tags": []
   },
   "outputs": [],
   "source": [
    "y_train = y_train[keep_mask]"
   ]
  },
  {
   "cell_type": "markdown",
   "id": "493e2ac3",
   "metadata": {
    "papermill": {
     "duration": 0.022362,
     "end_time": "2025-07-28T10:35:49.314849",
     "exception": false,
     "start_time": "2025-07-28T10:35:49.292487",
     "status": "completed"
    },
    "tags": []
   },
   "source": [
    "# Model Training"
   ]
  },
  {
   "cell_type": "code",
   "execution_count": 34,
   "id": "679e1268",
   "metadata": {
    "execution": {
     "iopub.execute_input": "2025-07-28T10:35:49.361973Z",
     "iopub.status.busy": "2025-07-28T10:35:49.361297Z",
     "iopub.status.idle": "2025-07-28T10:35:49.440620Z",
     "shell.execute_reply": "2025-07-28T10:35:49.439854Z"
    },
    "papermill": {
     "duration": 0.104877,
     "end_time": "2025-07-28T10:35:49.442551",
     "exception": false,
     "start_time": "2025-07-28T10:35:49.337674",
     "status": "completed"
    },
    "tags": []
   },
   "outputs": [],
   "source": [
    "from sklearn.linear_model import LogisticRegression\n",
    "from sklearn.ensemble import GradientBoostingClassifier, RandomForestClassifier\n",
    "\n",
    "if (universe[\"model\"] == \"logreg\"):\n",
    "    model = LogisticRegression() #penalty=\"none\") #, solver=\"newton-cg\", max_iter=1) # include random_state=19 ?\n",
    "elif (universe[\"model\"] == \"penalized_logreg\"):\n",
    "    model = LogisticRegression(penalty=\"l2\", C=1.0) #, solver=\"newton-cg\", max_iter=1)\n",
    "elif (universe[\"model\"] == \"rf\"):\n",
    "    model = RandomForestClassifier(n_estimators=100, n_jobs=-1)\n",
    "elif (universe[\"model\"] == \"gbm\"):\n",
    "    model = GradientBoostingClassifier()\n",
    "elif (universe[\"model\"] == \"elasticnet\"):\n",
    "    model = LogisticRegression(penalty = 'elasticnet', solver = 'saga', l1_ratio = 0.5, max_iter=5000) # which solver to use?\n",
    "else:\n",
    "    raise \"Unsupported universe.model\""
   ]
  },
  {
   "cell_type": "code",
   "execution_count": 35,
   "id": "0cc8f744",
   "metadata": {
    "execution": {
     "iopub.execute_input": "2025-07-28T10:35:49.490663Z",
     "iopub.status.busy": "2025-07-28T10:35:49.489869Z",
     "iopub.status.idle": "2025-07-28T10:35:49.496836Z",
     "shell.execute_reply": "2025-07-28T10:35:49.495776Z"
    },
    "papermill": {
     "duration": 0.032385,
     "end_time": "2025-07-28T10:35:49.498619",
     "exception": false,
     "start_time": "2025-07-28T10:35:49.466234",
     "status": "completed"
    },
    "tags": []
   },
   "outputs": [],
   "source": [
    "import numpy as np\n",
    "from sklearn.pipeline import Pipeline\n",
    "from sklearn.preprocessing import StandardScaler\n",
    "\n",
    "model = Pipeline([\n",
    "    #(\"continuous_processor\", continuous_processor),\n",
    "    #(\"categorical_preprocessor\", categorical_preprocessor),\n",
    "    (\"scale\", StandardScaler() if universe[\"scale\"] == \"scale\" else None), \n",
    "    (\"model\", model),\n",
    "])"
   ]
  },
  {
   "cell_type": "code",
   "execution_count": 36,
   "id": "9442c04d",
   "metadata": {
    "execution": {
     "iopub.execute_input": "2025-07-28T10:35:49.544390Z",
     "iopub.status.busy": "2025-07-28T10:35:49.543445Z",
     "iopub.status.idle": "2025-07-28T10:35:49.693034Z",
     "shell.execute_reply": "2025-07-28T10:35:49.692003Z"
    },
    "papermill": {
     "duration": 0.174245,
     "end_time": "2025-07-28T10:35:49.695065",
     "exception": false,
     "start_time": "2025-07-28T10:35:49.520820",
     "status": "completed"
    },
    "tags": []
   },
   "outputs": [
    {
     "name": "stderr",
     "output_type": "stream",
     "text": [
      "/dss/dsshome1/0C/ra93lal2/.local/share/virtualenvs/CMA_Fairness_v2-3j10GkSs/lib/python3.10/site-packages/sklearn/linear_model/_logistic.py:444: ConvergenceWarning: lbfgs failed to converge (status=1):\n",
      "STOP: TOTAL NO. of ITERATIONS REACHED LIMIT.\n",
      "\n",
      "Increase the number of iterations (max_iter) or scale the data as shown in:\n",
      "    https://scikit-learn.org/stable/modules/preprocessing.html\n",
      "Please also refer to the documentation for alternative solver options:\n",
      "    https://scikit-learn.org/stable/modules/linear_model.html#logistic-regression\n",
      "  n_iter_i = _check_optimize_result(\n"
     ]
    },
    {
     "data": {
      "text/html": [
       "<style>#sk-container-id-1 {color: black;background-color: white;}#sk-container-id-1 pre{padding: 0;}#sk-container-id-1 div.sk-toggleable {background-color: white;}#sk-container-id-1 label.sk-toggleable__label {cursor: pointer;display: block;width: 100%;margin-bottom: 0;padding: 0.3em;box-sizing: border-box;text-align: center;}#sk-container-id-1 label.sk-toggleable__label-arrow:before {content: \"▸\";float: left;margin-right: 0.25em;color: #696969;}#sk-container-id-1 label.sk-toggleable__label-arrow:hover:before {color: black;}#sk-container-id-1 div.sk-estimator:hover label.sk-toggleable__label-arrow:before {color: black;}#sk-container-id-1 div.sk-toggleable__content {max-height: 0;max-width: 0;overflow: hidden;text-align: left;background-color: #f0f8ff;}#sk-container-id-1 div.sk-toggleable__content pre {margin: 0.2em;color: black;border-radius: 0.25em;background-color: #f0f8ff;}#sk-container-id-1 input.sk-toggleable__control:checked~div.sk-toggleable__content {max-height: 200px;max-width: 100%;overflow: auto;}#sk-container-id-1 input.sk-toggleable__control:checked~label.sk-toggleable__label-arrow:before {content: \"▾\";}#sk-container-id-1 div.sk-estimator input.sk-toggleable__control:checked~label.sk-toggleable__label {background-color: #d4ebff;}#sk-container-id-1 div.sk-label input.sk-toggleable__control:checked~label.sk-toggleable__label {background-color: #d4ebff;}#sk-container-id-1 input.sk-hidden--visually {border: 0;clip: rect(1px 1px 1px 1px);clip: rect(1px, 1px, 1px, 1px);height: 1px;margin: -1px;overflow: hidden;padding: 0;position: absolute;width: 1px;}#sk-container-id-1 div.sk-estimator {font-family: monospace;background-color: #f0f8ff;border: 1px dotted black;border-radius: 0.25em;box-sizing: border-box;margin-bottom: 0.5em;}#sk-container-id-1 div.sk-estimator:hover {background-color: #d4ebff;}#sk-container-id-1 div.sk-parallel-item::after {content: \"\";width: 100%;border-bottom: 1px solid gray;flex-grow: 1;}#sk-container-id-1 div.sk-label:hover label.sk-toggleable__label {background-color: #d4ebff;}#sk-container-id-1 div.sk-serial::before {content: \"\";position: absolute;border-left: 1px solid gray;box-sizing: border-box;top: 0;bottom: 0;left: 50%;z-index: 0;}#sk-container-id-1 div.sk-serial {display: flex;flex-direction: column;align-items: center;background-color: white;padding-right: 0.2em;padding-left: 0.2em;position: relative;}#sk-container-id-1 div.sk-item {position: relative;z-index: 1;}#sk-container-id-1 div.sk-parallel {display: flex;align-items: stretch;justify-content: center;background-color: white;position: relative;}#sk-container-id-1 div.sk-item::before, #sk-container-id-1 div.sk-parallel-item::before {content: \"\";position: absolute;border-left: 1px solid gray;box-sizing: border-box;top: 0;bottom: 0;left: 50%;z-index: -1;}#sk-container-id-1 div.sk-parallel-item {display: flex;flex-direction: column;z-index: 1;position: relative;background-color: white;}#sk-container-id-1 div.sk-parallel-item:first-child::after {align-self: flex-end;width: 50%;}#sk-container-id-1 div.sk-parallel-item:last-child::after {align-self: flex-start;width: 50%;}#sk-container-id-1 div.sk-parallel-item:only-child::after {width: 0;}#sk-container-id-1 div.sk-dashed-wrapped {border: 1px dashed gray;margin: 0 0.4em 0.5em 0.4em;box-sizing: border-box;padding-bottom: 0.4em;background-color: white;}#sk-container-id-1 div.sk-label label {font-family: monospace;font-weight: bold;display: inline-block;line-height: 1.2em;}#sk-container-id-1 div.sk-label-container {text-align: center;}#sk-container-id-1 div.sk-container {/* jupyter's `normalize.less` sets `[hidden] { display: none; }` but bootstrap.min.css set `[hidden] { display: none !important; }` so we also need the `!important` here to be able to override the default hidden behavior on the sphinx rendered scikit-learn.org. See: https://github.com/scikit-learn/scikit-learn/issues/21755 */display: inline-block !important;position: relative;}#sk-container-id-1 div.sk-text-repr-fallback {display: none;}</style><div id=\"sk-container-id-1\" class=\"sk-top-container\"><div class=\"sk-text-repr-fallback\"><pre>Pipeline(steps=[(&#x27;scale&#x27;, None), (&#x27;model&#x27;, LogisticRegression())])</pre><b>In a Jupyter environment, please rerun this cell to show the HTML representation or trust the notebook. <br />On GitHub, the HTML representation is unable to render, please try loading this page with nbviewer.org.</b></div><div class=\"sk-container\" hidden><div class=\"sk-item sk-dashed-wrapped\"><div class=\"sk-label-container\"><div class=\"sk-label sk-toggleable\"><input class=\"sk-toggleable__control sk-hidden--visually\" id=\"sk-estimator-id-1\" type=\"checkbox\" ><label for=\"sk-estimator-id-1\" class=\"sk-toggleable__label sk-toggleable__label-arrow\">Pipeline</label><div class=\"sk-toggleable__content\"><pre>Pipeline(steps=[(&#x27;scale&#x27;, None), (&#x27;model&#x27;, LogisticRegression())])</pre></div></div></div><div class=\"sk-serial\"><div class=\"sk-item\"><div class=\"sk-estimator sk-toggleable\"><input class=\"sk-toggleable__control sk-hidden--visually\" id=\"sk-estimator-id-2\" type=\"checkbox\" ><label for=\"sk-estimator-id-2\" class=\"sk-toggleable__label sk-toggleable__label-arrow\">None</label><div class=\"sk-toggleable__content\"><pre>None</pre></div></div></div><div class=\"sk-item\"><div class=\"sk-estimator sk-toggleable\"><input class=\"sk-toggleable__control sk-hidden--visually\" id=\"sk-estimator-id-3\" type=\"checkbox\" ><label for=\"sk-estimator-id-3\" class=\"sk-toggleable__label sk-toggleable__label-arrow\">LogisticRegression</label><div class=\"sk-toggleable__content\"><pre>LogisticRegression()</pre></div></div></div></div></div></div></div>"
      ],
      "text/plain": [
       "Pipeline(steps=[('scale', None), ('model', LogisticRegression())])"
      ]
     },
     "execution_count": 36,
     "metadata": {},
     "output_type": "execute_result"
    }
   ],
   "source": [
    "model.fit(X_train, y_train.values.ravel())"
   ]
  },
  {
   "cell_type": "code",
   "execution_count": 37,
   "id": "af59f8c0",
   "metadata": {
    "execution": {
     "iopub.execute_input": "2025-07-28T10:35:49.747693Z",
     "iopub.status.busy": "2025-07-28T10:35:49.747325Z",
     "iopub.status.idle": "2025-07-28T10:35:49.752388Z",
     "shell.execute_reply": "2025-07-28T10:35:49.751574Z"
    },
    "papermill": {
     "duration": 0.019394,
     "end_time": "2025-07-28T10:35:49.753717",
     "exception": false,
     "start_time": "2025-07-28T10:35:49.734323",
     "status": "completed"
    },
    "tags": []
   },
   "outputs": [],
   "source": [
    "from fairness_multiverse.universe import predict_w_threshold"
   ]
  },
  {
   "cell_type": "code",
   "execution_count": 38,
   "id": "a7cf2e16",
   "metadata": {
    "execution": {
     "iopub.execute_input": "2025-07-28T10:35:49.782466Z",
     "iopub.status.busy": "2025-07-28T10:35:49.781995Z",
     "iopub.status.idle": "2025-07-28T10:35:49.865980Z",
     "shell.execute_reply": "2025-07-28T10:35:49.865123Z"
    },
    "papermill": {
     "duration": 0.098527,
     "end_time": "2025-07-28T10:35:49.867362",
     "exception": false,
     "start_time": "2025-07-28T10:35:49.768835",
     "status": "completed"
    },
    "tags": []
   },
   "outputs": [
    {
     "data": {
      "text/plain": [
       "0.8610857206554453"
      ]
     },
     "execution_count": 38,
     "metadata": {},
     "output_type": "execute_result"
    }
   ],
   "source": [
    "probs_test = model.predict_proba(X_test)\n",
    "\n",
    "'''\n",
    "Below code returns a boolean array (or binary 0/1 array depending on how it’s used) where each element \n",
    "is True if the probability of class 1 is greater than or equal to the threshold, and False otherwise.\n",
    "'''\n",
    "y_pred_default = predict_w_threshold(probs_test, 0.5)\n",
    "\n",
    "from sklearn.metrics import accuracy_score\n",
    "\n",
    "# Naive prediction\n",
    "accuracy_score(y_true = y_true, y_pred = y_pred_default)"
   ]
  },
  {
   "cell_type": "code",
   "execution_count": 39,
   "id": "081964c3",
   "metadata": {
    "execution": {
     "iopub.execute_input": "2025-07-28T10:35:49.912449Z",
     "iopub.status.busy": "2025-07-28T10:35:49.911952Z",
     "iopub.status.idle": "2025-07-28T10:35:49.995523Z",
     "shell.execute_reply": "2025-07-28T10:35:49.994461Z"
    },
    "papermill": {
     "duration": 0.110414,
     "end_time": "2025-07-28T10:35:49.997242",
     "exception": false,
     "start_time": "2025-07-28T10:35:49.886828",
     "status": "completed"
    },
    "tags": []
   },
   "outputs": [
    {
     "data": {
      "text/plain": [
       "array([0, 0, 0, ..., 0, 0, 0])"
      ]
     },
     "execution_count": 39,
     "metadata": {},
     "output_type": "execute_result"
    }
   ],
   "source": [
    "model.predict(X_test)"
   ]
  },
  {
   "cell_type": "markdown",
   "id": "56c9705b",
   "metadata": {
    "papermill": {
     "duration": 0.02293,
     "end_time": "2025-07-28T10:35:50.043769",
     "exception": false,
     "start_time": "2025-07-28T10:35:50.020839",
     "status": "completed"
    },
    "tags": []
   },
   "source": [
    "# Conformal Prediction"
   ]
  },
  {
   "cell_type": "code",
   "execution_count": 40,
   "id": "160ec6ff",
   "metadata": {
    "execution": {
     "iopub.execute_input": "2025-07-28T10:35:50.093288Z",
     "iopub.status.busy": "2025-07-28T10:35:50.092682Z",
     "iopub.status.idle": "2025-07-28T10:35:50.099246Z",
     "shell.execute_reply": "2025-07-28T10:35:50.098077Z"
    },
    "papermill": {
     "duration": 0.033411,
     "end_time": "2025-07-28T10:35:50.101144",
     "exception": false,
     "start_time": "2025-07-28T10:35:50.067733",
     "status": "completed"
    },
    "tags": []
   },
   "outputs": [],
   "source": [
    "# Miscoverage level for conformal prediction (10% allowed error rate => 90% target coverage)\n",
    "alpha = 0.1"
   ]
  },
  {
   "cell_type": "code",
   "execution_count": 41,
   "id": "eadf4555-3dd3-440e-8e35-f82a4ad9f855",
   "metadata": {
    "execution": {
     "iopub.execute_input": "2025-07-28T10:35:50.152367Z",
     "iopub.status.busy": "2025-07-28T10:35:50.151666Z",
     "iopub.status.idle": "2025-07-28T10:35:50.268603Z",
     "shell.execute_reply": "2025-07-28T10:35:50.267454Z"
    },
    "papermill": {
     "duration": 0.145017,
     "end_time": "2025-07-28T10:35:50.270755",
     "exception": false,
     "start_time": "2025-07-28T10:35:50.125738",
     "status": "completed"
    },
    "tags": []
   },
   "outputs": [],
   "source": [
    "probs_calib = model.predict_proba(X_calib)"
   ]
  },
  {
   "cell_type": "code",
   "execution_count": 42,
   "id": "2ed93547-6d5d-4983-9b36-1ecb300da49a",
   "metadata": {
    "execution": {
     "iopub.execute_input": "2025-07-28T10:35:50.323627Z",
     "iopub.status.busy": "2025-07-28T10:35:50.322522Z",
     "iopub.status.idle": "2025-07-28T10:35:50.329140Z",
     "shell.execute_reply": "2025-07-28T10:35:50.328157Z"
    },
    "papermill": {
     "duration": 0.034823,
     "end_time": "2025-07-28T10:35:50.331269",
     "exception": false,
     "start_time": "2025-07-28T10:35:50.296446",
     "status": "completed"
    },
    "tags": []
   },
   "outputs": [],
   "source": [
    "y_calib = y_calib.values.ravel().astype(int)"
   ]
  },
  {
   "cell_type": "code",
   "execution_count": 43,
   "id": "65d1320d-f588-4b38-9072-62af1ae97f7d",
   "metadata": {
    "execution": {
     "iopub.execute_input": "2025-07-28T10:35:50.395011Z",
     "iopub.status.busy": "2025-07-28T10:35:50.394253Z",
     "iopub.status.idle": "2025-07-28T10:35:50.403120Z",
     "shell.execute_reply": "2025-07-28T10:35:50.402017Z"
    },
    "papermill": {
     "duration": 0.043089,
     "end_time": "2025-07-28T10:35:50.405525",
     "exception": false,
     "start_time": "2025-07-28T10:35:50.362436",
     "status": "completed"
    },
    "tags": []
   },
   "outputs": [],
   "source": [
    "from fairness_multiverse.conformal import compute_nc_scores\n",
    "\n",
    "# Compute nonconformity scores on calibration set (1 - probability of true class)\n",
    "nc_scores = compute_nc_scores(probs_calib, y_calib)"
   ]
  },
  {
   "cell_type": "code",
   "execution_count": 44,
   "id": "df3b8ca3-53b7-43d5-9667-7c85da7aeda2",
   "metadata": {
    "execution": {
     "iopub.execute_input": "2025-07-28T10:35:50.469284Z",
     "iopub.status.busy": "2025-07-28T10:35:50.468576Z",
     "iopub.status.idle": "2025-07-28T10:35:50.476420Z",
     "shell.execute_reply": "2025-07-28T10:35:50.475327Z"
    },
    "papermill": {
     "duration": 0.041865,
     "end_time": "2025-07-28T10:35:50.478305",
     "exception": false,
     "start_time": "2025-07-28T10:35:50.436440",
     "status": "completed"
    },
    "tags": []
   },
   "outputs": [],
   "source": [
    "from fairness_multiverse.conformal import find_threshold\n",
    "\n",
    "# Find conformal threshold q_hat for the given alpha (split conformal method)\n",
    "q_hat = find_threshold(nc_scores, alpha)"
   ]
  },
  {
   "cell_type": "code",
   "execution_count": 45,
   "id": "4d29e6c1-0ef6-4aa4-b8fe-4fe79b0d033a",
   "metadata": {
    "execution": {
     "iopub.execute_input": "2025-07-28T10:35:50.542361Z",
     "iopub.status.busy": "2025-07-28T10:35:50.541602Z",
     "iopub.status.idle": "2025-07-28T10:35:50.550179Z",
     "shell.execute_reply": "2025-07-28T10:35:50.549028Z"
    },
    "papermill": {
     "duration": 0.042857,
     "end_time": "2025-07-28T10:35:50.552010",
     "exception": false,
     "start_time": "2025-07-28T10:35:50.509153",
     "status": "completed"
    },
    "tags": []
   },
   "outputs": [
    {
     "data": {
      "text/plain": [
       "0.6751138120294"
      ]
     },
     "execution_count": 45,
     "metadata": {},
     "output_type": "execute_result"
    }
   ],
   "source": [
    "q_hat"
   ]
  },
  {
   "cell_type": "code",
   "execution_count": 46,
   "id": "92460794-cdac-4be2-ba28-f28c0515a6fb",
   "metadata": {
    "execution": {
     "iopub.execute_input": "2025-07-28T10:35:50.618238Z",
     "iopub.status.busy": "2025-07-28T10:35:50.617231Z",
     "iopub.status.idle": "2025-07-28T10:35:51.878569Z",
     "shell.execute_reply": "2025-07-28T10:35:51.877293Z"
    },
    "papermill": {
     "duration": 1.297292,
     "end_time": "2025-07-28T10:35:51.881394",
     "exception": false,
     "start_time": "2025-07-28T10:35:50.584102",
     "status": "completed"
    },
    "tags": []
   },
   "outputs": [],
   "source": [
    "from fairness_multiverse.conformal import predict_conformal_sets\n",
    "\n",
    "# Generate prediction sets for each test example\n",
    "pred_sets = predict_conformal_sets(model, X_test, q_hat)"
   ]
  },
  {
   "cell_type": "code",
   "execution_count": 47,
   "id": "d90c9a65-e6db-4f5d-80cd-e68fb7e46829",
   "metadata": {
    "execution": {
     "iopub.execute_input": "2025-07-28T10:35:51.956985Z",
     "iopub.status.busy": "2025-07-28T10:35:51.955430Z",
     "iopub.status.idle": "2025-07-28T10:35:51.962241Z",
     "shell.execute_reply": "2025-07-28T10:35:51.961058Z"
    },
    "papermill": {
     "duration": 0.046007,
     "end_time": "2025-07-28T10:35:51.963994",
     "exception": false,
     "start_time": "2025-07-28T10:35:51.917987",
     "status": "completed"
    },
    "tags": []
   },
   "outputs": [],
   "source": [
    "y_true = y_true.squeeze()"
   ]
  },
  {
   "cell_type": "code",
   "execution_count": 48,
   "id": "3a58a54a-1e68-46b9-927a-df01f18aebc8",
   "metadata": {
    "execution": {
     "iopub.execute_input": "2025-07-28T10:35:52.020291Z",
     "iopub.status.busy": "2025-07-28T10:35:52.019706Z",
     "iopub.status.idle": "2025-07-28T10:35:52.706209Z",
     "shell.execute_reply": "2025-07-28T10:35:52.705332Z"
    },
    "papermill": {
     "duration": 0.716957,
     "end_time": "2025-07-28T10:35:52.707837",
     "exception": false,
     "start_time": "2025-07-28T10:35:51.990880",
     "status": "completed"
    },
    "tags": []
   },
   "outputs": [],
   "source": [
    "from fairness_multiverse.conformal import evaluate_sets\n",
    "\n",
    "# Evaluate coverage and average set size on test data\n",
    "metrics = evaluate_sets(pred_sets, y_true)"
   ]
  },
  {
   "cell_type": "markdown",
   "id": "2b569c12-9aaa-4c88-98c9-bbcd0cf3ebb8",
   "metadata": {
    "papermill": {
     "duration": 0.013094,
     "end_time": "2025-07-28T10:35:52.734255",
     "exception": false,
     "start_time": "2025-07-28T10:35:52.721161",
     "status": "completed"
    },
    "tags": []
   },
   "source": [
    "# CP Metrics"
   ]
  },
  {
   "cell_type": "code",
   "execution_count": 49,
   "id": "5ce0a5cb-201f-45a0-ade5-94c7f0bd6095",
   "metadata": {
    "execution": {
     "iopub.execute_input": "2025-07-28T10:35:52.762784Z",
     "iopub.status.busy": "2025-07-28T10:35:52.761847Z",
     "iopub.status.idle": "2025-07-28T10:35:52.769047Z",
     "shell.execute_reply": "2025-07-28T10:35:52.768228Z"
    },
    "papermill": {
     "duration": 0.023078,
     "end_time": "2025-07-28T10:35:52.770509",
     "exception": false,
     "start_time": "2025-07-28T10:35:52.747431",
     "status": "completed"
    },
    "tags": []
   },
   "outputs": [
    {
     "data": {
      "text/plain": [
       "{'coverage': 0.9137665812061085, 'avg_size': 1.2558354698472858}"
      ]
     },
     "execution_count": 49,
     "metadata": {},
     "output_type": "execute_result"
    }
   ],
   "source": [
    "metrics"
   ]
  },
  {
   "cell_type": "code",
   "execution_count": 50,
   "id": "9b9a838d-31c9-430b-ae14-12baee460d17",
   "metadata": {
    "execution": {
     "iopub.execute_input": "2025-07-28T10:35:52.799782Z",
     "iopub.status.busy": "2025-07-28T10:35:52.799230Z",
     "iopub.status.idle": "2025-07-28T10:35:52.805146Z",
     "shell.execute_reply": "2025-07-28T10:35:52.804226Z"
    },
    "papermill": {
     "duration": 0.022094,
     "end_time": "2025-07-28T10:35:52.806556",
     "exception": false,
     "start_time": "2025-07-28T10:35:52.784462",
     "status": "completed"
    },
    "tags": []
   },
   "outputs": [],
   "source": [
    "example_universe = universe.copy()\n",
    "universe_training_size = example_universe.get(\"training_size\")\n",
    "universe_scale = example_universe.get(\"scale\")\n",
    "universe_model = example_universe.get(\"model\")\n",
    "universe_exclude_features = example_universe.get(\"exclude_features\")\n",
    "universe_exclude_subgroups = example_universe.get(\"exclude_subgroups\")"
   ]
  },
  {
   "cell_type": "code",
   "execution_count": 51,
   "id": "f4b6a8ac-9dc0-4245-8a91-5b3b5999c4f9",
   "metadata": {
    "execution": {
     "iopub.execute_input": "2025-07-28T10:35:52.835818Z",
     "iopub.status.busy": "2025-07-28T10:35:52.835259Z",
     "iopub.status.idle": "2025-07-28T10:35:52.841297Z",
     "shell.execute_reply": "2025-07-28T10:35:52.840468Z"
    },
    "papermill": {
     "duration": 0.022126,
     "end_time": "2025-07-28T10:35:52.842842",
     "exception": false,
     "start_time": "2025-07-28T10:35:52.820716",
     "status": "completed"
    },
    "tags": []
   },
   "outputs": [],
   "source": [
    "cp_metrics_dict = {\n",
    "    \"universe_id\": [universe_id],\n",
    "    \"universe_training_size\": [universe_training_size],\n",
    "    \"universe_scale\": [universe_scale],\n",
    "    \"universe_model\": [universe_model],\n",
    "    \"universe_exclude_features\": [universe_exclude_features],\n",
    "    \"universe_exclude_subgroups\": [universe_exclude_subgroups],\n",
    "    \"q_hat\": [q_hat],\n",
    "    \"coverage\": [metrics[\"coverage\"]],\n",
    "    \"avg_size\": [metrics[\"avg_size\"]],\n",
    "}"
   ]
  },
  {
   "cell_type": "code",
   "execution_count": 52,
   "id": "908acbb1-0371-4915-85ca-3fa520d2efe2",
   "metadata": {
    "execution": {
     "iopub.execute_input": "2025-07-28T10:35:52.871977Z",
     "iopub.status.busy": "2025-07-28T10:35:52.871556Z",
     "iopub.status.idle": "2025-07-28T10:35:52.878484Z",
     "shell.execute_reply": "2025-07-28T10:35:52.877749Z"
    },
    "papermill": {
     "duration": 0.022851,
     "end_time": "2025-07-28T10:35:52.879930",
     "exception": false,
     "start_time": "2025-07-28T10:35:52.857079",
     "status": "completed"
    },
    "tags": []
   },
   "outputs": [
    {
     "data": {
      "text/plain": [
       "{'universe_id': ['94054b450382fae14f9f4d67ddcf67f1'],\n",
       " 'universe_training_size': ['5k'],\n",
       " 'universe_scale': ['do-not-scale'],\n",
       " 'universe_model': ['logreg'],\n",
       " 'universe_exclude_features': ['age'],\n",
       " 'universe_exclude_subgroups': ['keep-all'],\n",
       " 'q_hat': [0.6751138120294],\n",
       " 'coverage': [0.9137665812061085],\n",
       " 'avg_size': [1.2558354698472858]}"
      ]
     },
     "execution_count": 52,
     "metadata": {},
     "output_type": "execute_result"
    }
   ],
   "source": [
    "cp_metrics_dict"
   ]
  },
  {
   "cell_type": "code",
   "execution_count": 53,
   "id": "33007efc-14e9-4ec6-97ac-56a455c82265",
   "metadata": {
    "execution": {
     "iopub.execute_input": "2025-07-28T10:35:52.909204Z",
     "iopub.status.busy": "2025-07-28T10:35:52.908617Z",
     "iopub.status.idle": "2025-07-28T10:35:52.914809Z",
     "shell.execute_reply": "2025-07-28T10:35:52.914032Z"
    },
    "papermill": {
     "duration": 0.022145,
     "end_time": "2025-07-28T10:35:52.916212",
     "exception": false,
     "start_time": "2025-07-28T10:35:52.894067",
     "status": "completed"
    },
    "tags": []
   },
   "outputs": [],
   "source": [
    "cp_metrics_df = pd.DataFrame(cp_metrics_dict)"
   ]
  },
  {
   "cell_type": "code",
   "execution_count": 54,
   "id": "db12611b-57b2-4910-b9d0-355adfd6e7bf",
   "metadata": {
    "execution": {
     "iopub.execute_input": "2025-07-28T10:35:52.945019Z",
     "iopub.status.busy": "2025-07-28T10:35:52.944499Z",
     "iopub.status.idle": "2025-07-28T10:35:52.960430Z",
     "shell.execute_reply": "2025-07-28T10:35:52.959381Z"
    },
    "papermill": {
     "duration": 0.032309,
     "end_time": "2025-07-28T10:35:52.962476",
     "exception": false,
     "start_time": "2025-07-28T10:35:52.930167",
     "status": "completed"
    },
    "tags": []
   },
   "outputs": [
    {
     "data": {
      "text/html": [
       "<div>\n",
       "<style scoped>\n",
       "    .dataframe tbody tr th:only-of-type {\n",
       "        vertical-align: middle;\n",
       "    }\n",
       "\n",
       "    .dataframe tbody tr th {\n",
       "        vertical-align: top;\n",
       "    }\n",
       "\n",
       "    .dataframe thead th {\n",
       "        text-align: right;\n",
       "    }\n",
       "</style>\n",
       "<table border=\"1\" class=\"dataframe\">\n",
       "  <thead>\n",
       "    <tr style=\"text-align: right;\">\n",
       "      <th></th>\n",
       "      <th>universe_id</th>\n",
       "      <th>universe_training_size</th>\n",
       "      <th>universe_scale</th>\n",
       "      <th>universe_model</th>\n",
       "      <th>universe_exclude_features</th>\n",
       "      <th>universe_exclude_subgroups</th>\n",
       "      <th>q_hat</th>\n",
       "      <th>coverage</th>\n",
       "      <th>avg_size</th>\n",
       "    </tr>\n",
       "  </thead>\n",
       "  <tbody>\n",
       "    <tr>\n",
       "      <th>0</th>\n",
       "      <td>94054b450382fae14f9f4d67ddcf67f1</td>\n",
       "      <td>5k</td>\n",
       "      <td>do-not-scale</td>\n",
       "      <td>logreg</td>\n",
       "      <td>age</td>\n",
       "      <td>keep-all</td>\n",
       "      <td>0.675114</td>\n",
       "      <td>0.913767</td>\n",
       "      <td>1.255835</td>\n",
       "    </tr>\n",
       "  </tbody>\n",
       "</table>\n",
       "</div>"
      ],
      "text/plain": [
       "                        universe_id universe_training_size universe_scale  \\\n",
       "0  94054b450382fae14f9f4d67ddcf67f1                     5k   do-not-scale   \n",
       "\n",
       "  universe_model universe_exclude_features universe_exclude_subgroups  \\\n",
       "0         logreg                       age                   keep-all   \n",
       "\n",
       "      q_hat  coverage  avg_size  \n",
       "0  0.675114  0.913767  1.255835  "
      ]
     },
     "execution_count": 54,
     "metadata": {},
     "output_type": "execute_result"
    }
   ],
   "source": [
    "cp_metrics_df"
   ]
  },
  {
   "cell_type": "code",
   "execution_count": 55,
   "id": "b7fbde55-a0a1-47e4-9af6-fe4a17fa8c61",
   "metadata": {
    "execution": {
     "iopub.execute_input": "2025-07-28T10:35:53.015468Z",
     "iopub.status.busy": "2025-07-28T10:35:53.014614Z",
     "iopub.status.idle": "2025-07-28T10:35:53.020224Z",
     "shell.execute_reply": "2025-07-28T10:35:53.019194Z"
    },
    "papermill": {
     "duration": 0.03435,
     "end_time": "2025-07-28T10:35:53.022066",
     "exception": false,
     "start_time": "2025-07-28T10:35:52.987716",
     "status": "completed"
    },
    "tags": []
   },
   "outputs": [],
   "source": [
    "# Conditional Coverage & looking at subgroups"
   ]
  },
  {
   "cell_type": "code",
   "execution_count": 56,
   "id": "027ae886-68dd-4141-96c7-805a5450e1ef",
   "metadata": {
    "execution": {
     "iopub.execute_input": "2025-07-28T10:35:53.077047Z",
     "iopub.status.busy": "2025-07-28T10:35:53.076006Z",
     "iopub.status.idle": "2025-07-28T10:35:53.356418Z",
     "shell.execute_reply": "2025-07-28T10:35:53.355638Z"
    },
    "papermill": {
     "duration": 0.310246,
     "end_time": "2025-07-28T10:35:53.358410",
     "exception": false,
     "start_time": "2025-07-28T10:35:53.048164",
     "status": "completed"
    },
    "tags": []
   },
   "outputs": [],
   "source": [
    "from fairness_multiverse.conformal import build_cp_groups\n",
    "\n",
    "cp_groups_df = build_cp_groups(pred_sets, y_true, X_test.index, org_test)\n",
    "#needs universe_id and setting"
   ]
  },
  {
   "cell_type": "code",
   "execution_count": 57,
   "id": "01d5802c-663a-4d1f-9d69-e036faaffbf7",
   "metadata": {
    "execution": {
     "iopub.execute_input": "2025-07-28T10:35:53.414428Z",
     "iopub.status.busy": "2025-07-28T10:35:53.413902Z",
     "iopub.status.idle": "2025-07-28T10:35:53.419285Z",
     "shell.execute_reply": "2025-07-28T10:35:53.418194Z"
    },
    "papermill": {
     "duration": 0.034214,
     "end_time": "2025-07-28T10:35:53.421189",
     "exception": false,
     "start_time": "2025-07-28T10:35:53.386975",
     "status": "completed"
    },
    "tags": []
   },
   "outputs": [],
   "source": [
    "#delete\n",
    "#cp_groups_df"
   ]
  },
  {
   "cell_type": "code",
   "execution_count": 58,
   "id": "fa424af1-d1eb-443d-b717-2d279ada8408",
   "metadata": {
    "execution": {
     "iopub.execute_input": "2025-07-28T10:35:53.473729Z",
     "iopub.status.busy": "2025-07-28T10:35:53.473207Z",
     "iopub.status.idle": "2025-07-28T10:35:53.478489Z",
     "shell.execute_reply": "2025-07-28T10:35:53.477451Z"
    },
    "papermill": {
     "duration": 0.033025,
     "end_time": "2025-07-28T10:35:53.480123",
     "exception": false,
     "start_time": "2025-07-28T10:35:53.447098",
     "status": "completed"
    },
    "tags": []
   },
   "outputs": [],
   "source": [
    "#delete\n",
    "#percentage = (cp_groups_df['nongerman_female'] == 1).mean() * 100\n",
    "#print(percentage)\n"
   ]
  },
  {
   "cell_type": "code",
   "execution_count": 59,
   "id": "6cbdab96-b2b2-45af-ad54-d0516db2e28d",
   "metadata": {
    "execution": {
     "iopub.execute_input": "2025-07-28T10:35:53.534689Z",
     "iopub.status.busy": "2025-07-28T10:35:53.533948Z",
     "iopub.status.idle": "2025-07-28T10:35:55.355040Z",
     "shell.execute_reply": "2025-07-28T10:35:55.353963Z"
    },
    "papermill": {
     "duration": 1.850489,
     "end_time": "2025-07-28T10:35:55.357283",
     "exception": false,
     "start_time": "2025-07-28T10:35:53.506794",
     "status": "completed"
    },
    "tags": []
   },
   "outputs": [],
   "source": [
    "# Define covered = 1 if true_label is in the predicted set\n",
    "cp_groups_df['covered'] = cp_groups_df.apply(\n",
    "    lambda r: int(r['true_label'] in r['pred_set']),\n",
    "    axis=1\n",
    ")"
   ]
  },
  {
   "cell_type": "code",
   "execution_count": 60,
   "id": "338ff529-1a6b-4b87-a931-8e4788d52aad",
   "metadata": {
    "execution": {
     "iopub.execute_input": "2025-07-28T10:35:55.418124Z",
     "iopub.status.busy": "2025-07-28T10:35:55.417385Z",
     "iopub.status.idle": "2025-07-28T10:35:55.423237Z",
     "shell.execute_reply": "2025-07-28T10:35:55.422188Z"
    },
    "papermill": {
     "duration": 0.038449,
     "end_time": "2025-07-28T10:35:55.425233",
     "exception": false,
     "start_time": "2025-07-28T10:35:55.386784",
     "status": "completed"
    },
    "tags": []
   },
   "outputs": [],
   "source": [
    "#cp_groups_df"
   ]
  },
  {
   "cell_type": "code",
   "execution_count": 61,
   "id": "90032e27-66df-4540-9169-4e89cfbaa758",
   "metadata": {
    "execution": {
     "iopub.execute_input": "2025-07-28T10:35:55.486420Z",
     "iopub.status.busy": "2025-07-28T10:35:55.485748Z",
     "iopub.status.idle": "2025-07-28T10:35:55.497812Z",
     "shell.execute_reply": "2025-07-28T10:35:55.496703Z"
    },
    "papermill": {
     "duration": 0.044734,
     "end_time": "2025-07-28T10:35:55.499862",
     "exception": false,
     "start_time": "2025-07-28T10:35:55.455128",
     "status": "completed"
    },
    "tags": []
   },
   "outputs": [],
   "source": [
    "subgroups = ['frau1','nongerman','nongerman_male','nongerman_female']\n",
    "\n",
    "# Conditional coverage for subgroup==1\n",
    "cond_coverage = {\n",
    "    g: cp_groups_df.loc[cp_groups_df[g]==1, 'covered'].mean()\n",
    "    for g in subgroups\n",
    "}"
   ]
  },
  {
   "cell_type": "code",
   "execution_count": 62,
   "id": "1e348fb1-b9c3-45bc-ba23-f016827a7e0d",
   "metadata": {
    "execution": {
     "iopub.execute_input": "2025-07-28T10:35:55.557552Z",
     "iopub.status.busy": "2025-07-28T10:35:55.556577Z",
     "iopub.status.idle": "2025-07-28T10:35:55.564511Z",
     "shell.execute_reply": "2025-07-28T10:35:55.563457Z"
    },
    "papermill": {
     "duration": 0.037647,
     "end_time": "2025-07-28T10:35:55.566279",
     "exception": false,
     "start_time": "2025-07-28T10:35:55.528632",
     "status": "completed"
    },
    "tags": []
   },
   "outputs": [
    {
     "data": {
      "text/plain": [
       "{'frau1': 0.914355034371209,\n",
       " 'nongerman': 0.9656430696682199,\n",
       " 'nongerman_male': 0.9700981716653156,\n",
       " 'nongerman_female': 0.9582712369597616}"
      ]
     },
     "execution_count": 62,
     "metadata": {},
     "output_type": "execute_result"
    }
   ],
   "source": [
    "cond_coverage"
   ]
  },
  {
   "cell_type": "code",
   "execution_count": 63,
   "id": "f5093324-c3dd-4d63-bc4c-8d945e5c8bbb",
   "metadata": {
    "execution": {
     "iopub.execute_input": "2025-07-28T10:35:55.628850Z",
     "iopub.status.busy": "2025-07-28T10:35:55.627838Z",
     "iopub.status.idle": "2025-07-28T10:35:55.635575Z",
     "shell.execute_reply": "2025-07-28T10:35:55.634525Z"
    },
    "papermill": {
     "duration": 0.041142,
     "end_time": "2025-07-28T10:35:55.637688",
     "exception": false,
     "start_time": "2025-07-28T10:35:55.596546",
     "status": "completed"
    },
    "tags": []
   },
   "outputs": [],
   "source": [
    "for subgroup, cov in cond_coverage.items():\n",
    "    cp_metrics_df[f\"cov_{subgroup}\"] = cov"
   ]
  },
  {
   "cell_type": "code",
   "execution_count": 64,
   "id": "6e872e10-dbe5-49e8-b554-5030c98ff75d",
   "metadata": {
    "execution": {
     "iopub.execute_input": "2025-07-28T10:35:55.699635Z",
     "iopub.status.busy": "2025-07-28T10:35:55.699125Z",
     "iopub.status.idle": "2025-07-28T10:35:55.719174Z",
     "shell.execute_reply": "2025-07-28T10:35:55.718165Z"
    },
    "papermill": {
     "duration": 0.053415,
     "end_time": "2025-07-28T10:35:55.721341",
     "exception": false,
     "start_time": "2025-07-28T10:35:55.667926",
     "status": "completed"
    },
    "tags": []
   },
   "outputs": [
    {
     "data": {
      "text/html": [
       "<div>\n",
       "<style scoped>\n",
       "    .dataframe tbody tr th:only-of-type {\n",
       "        vertical-align: middle;\n",
       "    }\n",
       "\n",
       "    .dataframe tbody tr th {\n",
       "        vertical-align: top;\n",
       "    }\n",
       "\n",
       "    .dataframe thead th {\n",
       "        text-align: right;\n",
       "    }\n",
       "</style>\n",
       "<table border=\"1\" class=\"dataframe\">\n",
       "  <thead>\n",
       "    <tr style=\"text-align: right;\">\n",
       "      <th></th>\n",
       "      <th>universe_id</th>\n",
       "      <th>universe_training_size</th>\n",
       "      <th>universe_scale</th>\n",
       "      <th>universe_model</th>\n",
       "      <th>universe_exclude_features</th>\n",
       "      <th>universe_exclude_subgroups</th>\n",
       "      <th>q_hat</th>\n",
       "      <th>coverage</th>\n",
       "      <th>avg_size</th>\n",
       "      <th>cov_frau1</th>\n",
       "      <th>cov_nongerman</th>\n",
       "      <th>cov_nongerman_male</th>\n",
       "      <th>cov_nongerman_female</th>\n",
       "    </tr>\n",
       "  </thead>\n",
       "  <tbody>\n",
       "    <tr>\n",
       "      <th>0</th>\n",
       "      <td>94054b450382fae14f9f4d67ddcf67f1</td>\n",
       "      <td>5k</td>\n",
       "      <td>do-not-scale</td>\n",
       "      <td>logreg</td>\n",
       "      <td>age</td>\n",
       "      <td>keep-all</td>\n",
       "      <td>0.675114</td>\n",
       "      <td>0.913767</td>\n",
       "      <td>1.255835</td>\n",
       "      <td>0.914355</td>\n",
       "      <td>0.965643</td>\n",
       "      <td>0.970098</td>\n",
       "      <td>0.958271</td>\n",
       "    </tr>\n",
       "  </tbody>\n",
       "</table>\n",
       "</div>"
      ],
      "text/plain": [
       "                        universe_id universe_training_size universe_scale  \\\n",
       "0  94054b450382fae14f9f4d67ddcf67f1                     5k   do-not-scale   \n",
       "\n",
       "  universe_model universe_exclude_features universe_exclude_subgroups  \\\n",
       "0         logreg                       age                   keep-all   \n",
       "\n",
       "      q_hat  coverage  avg_size  cov_frau1  cov_nongerman  cov_nongerman_male  \\\n",
       "0  0.675114  0.913767  1.255835   0.914355       0.965643            0.970098   \n",
       "\n",
       "   cov_nongerman_female  \n",
       "0              0.958271  "
      ]
     },
     "execution_count": 64,
     "metadata": {},
     "output_type": "execute_result"
    }
   ],
   "source": [
    "cp_metrics_df"
   ]
  },
  {
   "cell_type": "markdown",
   "id": "33774451",
   "metadata": {
    "papermill": {
     "duration": 0.030104,
     "end_time": "2025-07-28T10:35:55.781646",
     "exception": false,
     "start_time": "2025-07-28T10:35:55.751542",
     "status": "completed"
    },
    "tags": []
   },
   "source": [
    "# (Fairness) Metrics"
   ]
  },
  {
   "cell_type": "code",
   "execution_count": 65,
   "id": "debc5d62",
   "metadata": {
    "execution": {
     "iopub.execute_input": "2025-07-28T10:35:55.844266Z",
     "iopub.status.busy": "2025-07-28T10:35:55.843245Z",
     "iopub.status.idle": "2025-07-28T10:35:55.865458Z",
     "shell.execute_reply": "2025-07-28T10:35:55.864401Z"
    },
    "papermill": {
     "duration": 0.056008,
     "end_time": "2025-07-28T10:35:55.867768",
     "exception": false,
     "start_time": "2025-07-28T10:35:55.811760",
     "status": "completed"
    },
    "tags": []
   },
   "outputs": [],
   "source": [
    "# do I need to include maxdeutsch1.missing?\n",
    "\n",
    "import numpy as np\n",
    "\n",
    "colname_to_bin = \"maxdeutsch1\"\n",
    "majority_value = org_train[colname_to_bin].mode()[0]\n",
    "\n",
    "org_test[\"majmin\"] = np.where(org_test[colname_to_bin] == majority_value, \"majority\", \"minority\")"
   ]
  },
  {
   "cell_type": "code",
   "execution_count": 66,
   "id": "06a50de5",
   "metadata": {
    "execution": {
     "iopub.execute_input": "2025-07-28T10:35:55.930467Z",
     "iopub.status.busy": "2025-07-28T10:35:55.929725Z",
     "iopub.status.idle": "2025-07-28T10:35:58.475452Z",
     "shell.execute_reply": "2025-07-28T10:35:58.474406Z"
    },
    "papermill": {
     "duration": 2.579553,
     "end_time": "2025-07-28T10:35:58.477665",
     "exception": false,
     "start_time": "2025-07-28T10:35:55.898112",
     "status": "completed"
    },
    "tags": []
   },
   "outputs": [],
   "source": [
    "example_universe = universe.copy()\n",
    "example_universe[\"cutoff\"] = example_universe[\"cutoff\"][0]\n",
    "example_universe[\"eval_fairness_grouping\"] = example_universe[\"eval_fairness_grouping\"][0]\n",
    "fairness_dict, metric_frame = universe_analysis.compute_metrics(\n",
    "    example_universe,\n",
    "    y_pred_prob=probs_test,\n",
    "    y_test=y_true,\n",
    "    org_test=org_test,\n",
    ")"
   ]
  },
  {
   "cell_type": "markdown",
   "id": "f95d4e02",
   "metadata": {
    "papermill": {
     "duration": 0.013975,
     "end_time": "2025-07-28T10:35:58.516429",
     "exception": false,
     "start_time": "2025-07-28T10:35:58.502454",
     "status": "completed"
    },
    "tags": []
   },
   "source": [
    "# Overall"
   ]
  },
  {
   "cell_type": "markdown",
   "id": "bdee4871",
   "metadata": {
    "papermill": {
     "duration": 0.015342,
     "end_time": "2025-07-28T10:35:58.545091",
     "exception": false,
     "start_time": "2025-07-28T10:35:58.529749",
     "status": "completed"
    },
    "tags": []
   },
   "source": [
    "Fairness\n",
    "Main fairness target: Equalized Odds. Seems to be a better fit than equal opportunity, since we're not only interested in Y = 1. Seems to be a better fit than demographic parity, since we also care about accuracy, not just equal distribution of preds.\n",
    "\n",
    "Pick column for computation of fairness metrics\n",
    "\n",
    "Performance\n",
    "Overall performance measures, most interesting in relation to the measures split by group below"
   ]
  },
  {
   "cell_type": "code",
   "execution_count": 67,
   "id": "c4e067c6",
   "metadata": {
    "execution": {
     "iopub.execute_input": "2025-07-28T10:35:58.582132Z",
     "iopub.status.busy": "2025-07-28T10:35:58.581743Z",
     "iopub.status.idle": "2025-07-28T10:35:58.589695Z",
     "shell.execute_reply": "2025-07-28T10:35:58.588910Z"
    },
    "papermill": {
     "duration": 0.030072,
     "end_time": "2025-07-28T10:35:58.591174",
     "exception": false,
     "start_time": "2025-07-28T10:35:58.561102",
     "status": "completed"
    },
    "tags": []
   },
   "outputs": [
    {
     "data": {
      "text/plain": [
       "accuracy                   0.216932\n",
       "balanced accuracy          0.531988\n",
       "f1                         0.238468\n",
       "precision                  0.136229\n",
       "false positive rate        0.891793\n",
       "false negative rate        0.044230\n",
       "selection rate             0.900000\n",
       "count                  89710.000000\n",
       "dtype: float64"
      ]
     },
     "execution_count": 67,
     "metadata": {},
     "output_type": "execute_result"
    }
   ],
   "source": [
    "metric_frame.overall"
   ]
  },
  {
   "cell_type": "markdown",
   "id": "e968fe9d",
   "metadata": {
    "papermill": {
     "duration": 0.015019,
     "end_time": "2025-07-28T10:35:58.626819",
     "exception": false,
     "start_time": "2025-07-28T10:35:58.611800",
     "status": "completed"
    },
    "tags": []
   },
   "source": [
    "By Group"
   ]
  },
  {
   "cell_type": "code",
   "execution_count": 68,
   "id": "ec325bce",
   "metadata": {
    "execution": {
     "iopub.execute_input": "2025-07-28T10:35:58.659859Z",
     "iopub.status.busy": "2025-07-28T10:35:58.659490Z",
     "iopub.status.idle": "2025-07-28T10:35:58.673218Z",
     "shell.execute_reply": "2025-07-28T10:35:58.672448Z"
    },
    "papermill": {
     "duration": 0.034202,
     "end_time": "2025-07-28T10:35:58.674627",
     "exception": false,
     "start_time": "2025-07-28T10:35:58.640425",
     "status": "completed"
    },
    "tags": []
   },
   "outputs": [
    {
     "data": {
      "text/html": [
       "<div>\n",
       "<style scoped>\n",
       "    .dataframe tbody tr th:only-of-type {\n",
       "        vertical-align: middle;\n",
       "    }\n",
       "\n",
       "    .dataframe tbody tr th {\n",
       "        vertical-align: top;\n",
       "    }\n",
       "\n",
       "    .dataframe thead th {\n",
       "        text-align: right;\n",
       "    }\n",
       "</style>\n",
       "<table border=\"1\" class=\"dataframe\">\n",
       "  <thead>\n",
       "    <tr style=\"text-align: right;\">\n",
       "      <th></th>\n",
       "      <th>accuracy</th>\n",
       "      <th>balanced accuracy</th>\n",
       "      <th>f1</th>\n",
       "      <th>precision</th>\n",
       "      <th>false positive rate</th>\n",
       "      <th>false negative rate</th>\n",
       "      <th>selection rate</th>\n",
       "      <th>count</th>\n",
       "    </tr>\n",
       "    <tr>\n",
       "      <th>majmin</th>\n",
       "      <th></th>\n",
       "      <th></th>\n",
       "      <th></th>\n",
       "      <th></th>\n",
       "      <th></th>\n",
       "      <th></th>\n",
       "      <th></th>\n",
       "      <th></th>\n",
       "    </tr>\n",
       "  </thead>\n",
       "  <tbody>\n",
       "    <tr>\n",
       "      <th>majority</th>\n",
       "      <td>0.239425</td>\n",
       "      <td>0.539643</td>\n",
       "      <td>0.247723</td>\n",
       "      <td>0.142484</td>\n",
       "      <td>0.868416</td>\n",
       "      <td>0.052298</td>\n",
       "      <td>0.878893</td>\n",
       "      <td>69170.0</td>\n",
       "    </tr>\n",
       "    <tr>\n",
       "      <th>minority</th>\n",
       "      <td>0.141188</td>\n",
       "      <td>0.508945</td>\n",
       "      <td>0.209465</td>\n",
       "      <td>0.117166</td>\n",
       "      <td>0.969018</td>\n",
       "      <td>0.013091</td>\n",
       "      <td>0.971081</td>\n",
       "      <td>20540.0</td>\n",
       "    </tr>\n",
       "  </tbody>\n",
       "</table>\n",
       "</div>"
      ],
      "text/plain": [
       "          accuracy  balanced accuracy        f1  precision  \\\n",
       "majmin                                                       \n",
       "majority  0.239425           0.539643  0.247723   0.142484   \n",
       "minority  0.141188           0.508945  0.209465   0.117166   \n",
       "\n",
       "          false positive rate  false negative rate  selection rate    count  \n",
       "majmin                                                                       \n",
       "majority             0.868416             0.052298        0.878893  69170.0  \n",
       "minority             0.969018             0.013091        0.971081  20540.0  "
      ]
     },
     "execution_count": 68,
     "metadata": {},
     "output_type": "execute_result"
    }
   ],
   "source": [
    "metric_frame.by_group"
   ]
  },
  {
   "cell_type": "code",
   "execution_count": 69,
   "id": "a9ddbe63",
   "metadata": {
    "execution": {
     "iopub.execute_input": "2025-07-28T10:35:58.706500Z",
     "iopub.status.busy": "2025-07-28T10:35:58.705731Z",
     "iopub.status.idle": "2025-07-28T10:36:00.984801Z",
     "shell.execute_reply": "2025-07-28T10:36:00.983527Z"
    },
    "papermill": {
     "duration": 2.296443,
     "end_time": "2025-07-28T10:36:00.986842",
     "exception": false,
     "start_time": "2025-07-28T10:35:58.690399",
     "status": "completed"
    },
    "tags": []
   },
   "outputs": [
    {
     "data": {
      "text/plain": [
       "array([[<Axes: title={'center': 'accuracy'}, xlabel='majmin'>,\n",
       "        <Axes: title={'center': 'balanced accuracy'}, xlabel='majmin'>,\n",
       "        <Axes: title={'center': 'f1'}, xlabel='majmin'>],\n",
       "       [<Axes: title={'center': 'precision'}, xlabel='majmin'>,\n",
       "        <Axes: title={'center': 'false positive rate'}, xlabel='majmin'>,\n",
       "        <Axes: title={'center': 'false negative rate'}, xlabel='majmin'>],\n",
       "       [<Axes: title={'center': 'selection rate'}, xlabel='majmin'>,\n",
       "        <Axes: title={'center': 'count'}, xlabel='majmin'>,\n",
       "        <Axes: xlabel='majmin'>]], dtype=object)"
      ]
     },
     "execution_count": 69,
     "metadata": {},
     "output_type": "execute_result"
    },
    {
     "data": {
      "image/png": "[encoded data removed]",
      "text/plain": [
       "<Figure size 1200x800 with 9 Axes>"
      ]
     },
     "metadata": {},
     "output_type": "display_data"
    }
   ],
   "source": [
    "# In a graphic\n",
    "metric_frame.by_group.plot.bar(\n",
    "    subplots=True,\n",
    "    layout=[3, 3],\n",
    "    legend=False,\n",
    "    figsize=[12, 8],\n",
    "    title=\"Show all metrics\",\n",
    ")"
   ]
  },
  {
   "cell_type": "markdown",
   "id": "f57a0bac",
   "metadata": {
    "papermill": {
     "duration": 0.029242,
     "end_time": "2025-07-28T10:36:01.046634",
     "exception": false,
     "start_time": "2025-07-28T10:36:01.017392",
     "status": "completed"
    },
    "tags": []
   },
   "source": [
    "# Final Output"
   ]
  },
  {
   "cell_type": "code",
   "execution_count": 70,
   "id": "96d280a3",
   "metadata": {
    "execution": {
     "iopub.execute_input": "2025-07-28T10:36:01.109156Z",
     "iopub.status.busy": "2025-07-28T10:36:01.108499Z",
     "iopub.status.idle": "2025-07-28T10:36:01.117308Z",
     "shell.execute_reply": "2025-07-28T10:36:01.116378Z"
    },
    "papermill": {
     "duration": 0.041963,
     "end_time": "2025-07-28T10:36:01.119024",
     "exception": false,
     "start_time": "2025-07-28T10:36:01.077061",
     "status": "completed"
    },
    "tags": []
   },
   "outputs": [
    {
     "data": {
      "text/plain": [
       "4"
      ]
     },
     "execution_count": 70,
     "metadata": {},
     "output_type": "execute_result"
    }
   ],
   "source": [
    "sub_universes = universe_analysis.generate_sub_universes()\n",
    "len(sub_universes)"
   ]
  },
  {
   "cell_type": "code",
   "execution_count": 71,
   "id": "92adf7ba",
   "metadata": {
    "execution": {
     "iopub.execute_input": "2025-07-28T10:36:01.182594Z",
     "iopub.status.busy": "2025-07-28T10:36:01.181676Z",
     "iopub.status.idle": "2025-07-28T10:36:01.188421Z",
     "shell.execute_reply": "2025-07-28T10:36:01.187449Z"
    },
    "papermill": {
     "duration": 0.040792,
     "end_time": "2025-07-28T10:36:01.190075",
     "exception": false,
     "start_time": "2025-07-28T10:36:01.149283",
     "status": "completed"
    },
    "tags": []
   },
   "outputs": [],
   "source": [
    "def filter_sub_universe_data(sub_universe, org_test):\n",
    "    # Keep all rows — no filtering\n",
    "    keep_rows_mask = np.ones(org_test.shape[0], dtype=bool)\n",
    "\n",
    "    print(f\"[INFO] Keeping all rows: {keep_rows_mask.sum()} rows retained.\")\n",
    "    return keep_rows_mask"
   ]
  },
  {
   "cell_type": "code",
   "execution_count": 72,
   "id": "4a759155",
   "metadata": {
    "execution": {
     "iopub.execute_input": "2025-07-28T10:36:01.252722Z",
     "iopub.status.busy": "2025-07-28T10:36:01.251906Z",
     "iopub.status.idle": "2025-07-28T10:36:12.099973Z",
     "shell.execute_reply": "2025-07-28T10:36:12.098866Z"
    },
    "papermill": {
     "duration": 10.881924,
     "end_time": "2025-07-28T10:36:12.102085",
     "exception": false,
     "start_time": "2025-07-28T10:36:01.220161",
     "status": "completed"
    },
    "tags": []
   },
   "outputs": [
    {
     "name": "stdout",
     "output_type": "stream",
     "text": [
      "Stopping execution_time clock.\n",
      "[INFO] Keeping all rows: 89710 rows retained.\n"
     ]
    },
    {
     "name": "stdout",
     "output_type": "stream",
     "text": [
      "[INFO] Keeping all rows: 89710 rows retained.\n"
     ]
    },
    {
     "name": "stdout",
     "output_type": "stream",
     "text": [
      "[INFO] Keeping all rows: 89710 rows retained.\n"
     ]
    },
    {
     "name": "stdout",
     "output_type": "stream",
     "text": [
      "[INFO] Keeping all rows: 89710 rows retained.\n"
     ]
    },
    {
     "data": {
      "text/html": [
       "<div>\n",
       "<style scoped>\n",
       "    .dataframe tbody tr th:only-of-type {\n",
       "        vertical-align: middle;\n",
       "    }\n",
       "\n",
       "    .dataframe tbody tr th {\n",
       "        vertical-align: top;\n",
       "    }\n",
       "\n",
       "    .dataframe thead th {\n",
       "        text-align: right;\n",
       "    }\n",
       "</style>\n",
       "<table border=\"1\" class=\"dataframe\">\n",
       "  <thead>\n",
       "    <tr style=\"text-align: right;\">\n",
       "      <th></th>\n",
       "      <th>run_no</th>\n",
       "      <th>universe_id</th>\n",
       "      <th>universe_settings</th>\n",
       "      <th>execution_time</th>\n",
       "      <th>test_size_n</th>\n",
       "      <th>test_size_frac</th>\n",
       "      <th>fair_main_equalized_odds_difference</th>\n",
       "      <th>fair_main_equalized_odds_ratio</th>\n",
       "      <th>fair_main_demographic_parity_difference</th>\n",
       "      <th>fair_main_demographic_parity_ratio</th>\n",
       "      <th>...</th>\n",
       "      <th>perf_grp_precision_0</th>\n",
       "      <th>perf_grp_precision_1</th>\n",
       "      <th>perf_grp_false positive rate_0</th>\n",
       "      <th>perf_grp_false positive rate_1</th>\n",
       "      <th>perf_grp_false negative rate_0</th>\n",
       "      <th>perf_grp_false negative rate_1</th>\n",
       "      <th>perf_grp_selection rate_0</th>\n",
       "      <th>perf_grp_selection rate_1</th>\n",
       "      <th>perf_grp_count_0</th>\n",
       "      <th>perf_grp_count_1</th>\n",
       "    </tr>\n",
       "  </thead>\n",
       "  <tbody>\n",
       "    <tr>\n",
       "      <th>0</th>\n",
       "      <td>11</td>\n",
       "      <td>94054b450382fae14f9f4d67ddcf67f1</td>\n",
       "      <td>{\"cutoff\": \"quantile_0.1\", \"eval_fairness_grou...</td>\n",
       "      <td>26.204283</td>\n",
       "      <td>89710</td>\n",
       "      <td>1.0</td>\n",
       "      <td>0.100602</td>\n",
       "      <td>0.896181</td>\n",
       "      <td>0.092188</td>\n",
       "      <td>0.905066</td>\n",
       "      <td>...</td>\n",
       "      <td>NaN</td>\n",
       "      <td>NaN</td>\n",
       "      <td>NaN</td>\n",
       "      <td>NaN</td>\n",
       "      <td>NaN</td>\n",
       "      <td>NaN</td>\n",
       "      <td>NaN</td>\n",
       "      <td>NaN</td>\n",
       "      <td>NaN</td>\n",
       "      <td>NaN</td>\n",
       "    </tr>\n",
       "    <tr>\n",
       "      <th>0</th>\n",
       "      <td>11</td>\n",
       "      <td>94054b450382fae14f9f4d67ddcf67f1</td>\n",
       "      <td>{\"cutoff\": \"quantile_0.1\", \"eval_fairness_grou...</td>\n",
       "      <td>26.204283</td>\n",
       "      <td>89710</td>\n",
       "      <td>1.0</td>\n",
       "      <td>0.100602</td>\n",
       "      <td>0.896181</td>\n",
       "      <td>0.092188</td>\n",
       "      <td>0.905066</td>\n",
       "      <td>...</td>\n",
       "      <td>0.117166</td>\n",
       "      <td>0.142484</td>\n",
       "      <td>0.969018</td>\n",
       "      <td>0.868416</td>\n",
       "      <td>0.013091</td>\n",
       "      <td>0.052298</td>\n",
       "      <td>0.971081</td>\n",
       "      <td>0.878893</td>\n",
       "      <td>20540.0</td>\n",
       "      <td>69170.0</td>\n",
       "    </tr>\n",
       "    <tr>\n",
       "      <th>0</th>\n",
       "      <td>11</td>\n",
       "      <td>94054b450382fae14f9f4d67ddcf67f1</td>\n",
       "      <td>{\"cutoff\": \"quantile_0.25\", \"eval_fairness_gro...</td>\n",
       "      <td>26.204283</td>\n",
       "      <td>89710</td>\n",
       "      <td>1.0</td>\n",
       "      <td>0.237421</td>\n",
       "      <td>0.740424</td>\n",
       "      <td>0.218796</td>\n",
       "      <td>0.761840</td>\n",
       "      <td>...</td>\n",
       "      <td>NaN</td>\n",
       "      <td>NaN</td>\n",
       "      <td>NaN</td>\n",
       "      <td>NaN</td>\n",
       "      <td>NaN</td>\n",
       "      <td>NaN</td>\n",
       "      <td>NaN</td>\n",
       "      <td>NaN</td>\n",
       "      <td>NaN</td>\n",
       "      <td>NaN</td>\n",
       "    </tr>\n",
       "    <tr>\n",
       "      <th>0</th>\n",
       "      <td>11</td>\n",
       "      <td>94054b450382fae14f9f4d67ddcf67f1</td>\n",
       "      <td>{\"cutoff\": \"quantile_0.25\", \"eval_fairness_gro...</td>\n",
       "      <td>26.204283</td>\n",
       "      <td>89710</td>\n",
       "      <td>1.0</td>\n",
       "      <td>0.237421</td>\n",
       "      <td>0.740424</td>\n",
       "      <td>0.218796</td>\n",
       "      <td>0.761840</td>\n",
       "      <td>...</td>\n",
       "      <td>0.119184</td>\n",
       "      <td>0.160250</td>\n",
       "      <td>0.914649</td>\n",
       "      <td>0.677228</td>\n",
       "      <td>0.050253</td>\n",
       "      <td>0.151204</td>\n",
       "      <td>0.918695</td>\n",
       "      <td>0.699899</td>\n",
       "      <td>20540.0</td>\n",
       "      <td>69170.0</td>\n",
       "    </tr>\n",
       "  </tbody>\n",
       "</table>\n",
       "<p>4 rows × 50 columns</p>\n",
       "</div>"
      ],
      "text/plain": [
       "  run_no                       universe_id  \\\n",
       "0     11  94054b450382fae14f9f4d67ddcf67f1   \n",
       "0     11  94054b450382fae14f9f4d67ddcf67f1   \n",
       "0     11  94054b450382fae14f9f4d67ddcf67f1   \n",
       "0     11  94054b450382fae14f9f4d67ddcf67f1   \n",
       "\n",
       "                                   universe_settings  execution_time  \\\n",
       "0  {\"cutoff\": \"quantile_0.1\", \"eval_fairness_grou...       26.204283   \n",
       "0  {\"cutoff\": \"quantile_0.1\", \"eval_fairness_grou...       26.204283   \n",
       "0  {\"cutoff\": \"quantile_0.25\", \"eval_fairness_gro...       26.204283   \n",
       "0  {\"cutoff\": \"quantile_0.25\", \"eval_fairness_gro...       26.204283   \n",
       "\n",
       "   test_size_n  test_size_frac  fair_main_equalized_odds_difference  \\\n",
       "0        89710             1.0                             0.100602   \n",
       "0        89710             1.0                             0.100602   \n",
       "0        89710             1.0                             0.237421   \n",
       "0        89710             1.0                             0.237421   \n",
       "\n",
       "   fair_main_equalized_odds_ratio  fair_main_demographic_parity_difference  \\\n",
       "0                        0.896181                                 0.092188   \n",
       "0                        0.896181                                 0.092188   \n",
       "0                        0.740424                                 0.218796   \n",
       "0                        0.740424                                 0.218796   \n",
       "\n",
       "   fair_main_demographic_parity_ratio  ...  perf_grp_precision_0  \\\n",
       "0                            0.905066  ...                   NaN   \n",
       "0                            0.905066  ...              0.117166   \n",
       "0                            0.761840  ...                   NaN   \n",
       "0                            0.761840  ...              0.119184   \n",
       "\n",
       "   perf_grp_precision_1  perf_grp_false positive rate_0  \\\n",
       "0                   NaN                             NaN   \n",
       "0              0.142484                        0.969018   \n",
       "0                   NaN                             NaN   \n",
       "0              0.160250                        0.914649   \n",
       "\n",
       "   perf_grp_false positive rate_1  perf_grp_false negative rate_0  \\\n",
       "0                             NaN                             NaN   \n",
       "0                        0.868416                        0.013091   \n",
       "0                             NaN                             NaN   \n",
       "0                        0.677228                        0.050253   \n",
       "\n",
       "   perf_grp_false negative rate_1  perf_grp_selection rate_0  \\\n",
       "0                             NaN                        NaN   \n",
       "0                        0.052298                   0.971081   \n",
       "0                             NaN                        NaN   \n",
       "0                        0.151204                   0.918695   \n",
       "\n",
       "   perf_grp_selection rate_1  perf_grp_count_0  perf_grp_count_1  \n",
       "0                        NaN               NaN               NaN  \n",
       "0                   0.878893           20540.0           69170.0  \n",
       "0                        NaN               NaN               NaN  \n",
       "0                   0.699899           20540.0           69170.0  \n",
       "\n",
       "[4 rows x 50 columns]"
      ]
     },
     "execution_count": 72,
     "metadata": {},
     "output_type": "execute_result"
    }
   ],
   "source": [
    "final_output = universe_analysis.generate_final_output(\n",
    "    y_pred_prob=probs_test,\n",
    "    y_test=y_true,\n",
    "    org_test=org_test,\n",
    "    filter_data=filter_sub_universe_data,\n",
    "    cp_metrics_df=cp_metrics_df,\n",
    "    save=True,\n",
    ")\n",
    "final_output"
   ]
  },
  {
   "cell_type": "code",
   "execution_count": null,
   "id": "721ff514-cb11-46f8-b6fc-50392f74b5cb",
   "metadata": {
    "papermill": {
     "duration": 0.029858,
     "end_time": "2025-07-28T10:36:12.164879",
     "exception": false,
     "start_time": "2025-07-28T10:36:12.135021",
     "status": "completed"
    },
    "tags": []
   },
   "outputs": [],
   "source": []
  }
 ],
 "metadata": {
  "celltoolbar": "Tags",
  "kernelspec": {
   "display_name": "Python (CMA Fairness)",
   "language": "python",
   "name": "cma_fair_env"
  },
  "language_info": {
   "codemirror_mode": {
    "name": "ipython",
    "version": 3
   },
   "file_extension": ".py",
   "mimetype": "text/x-python",
   "name": "python",
   "nbconvert_exporter": "python",
   "pygments_lexer": "ipython3",
   "version": "3.10.12"
  },
  "papermill": {
   "default_parameters": {},
   "duration": 41.609439,
   "end_time": "2025-07-28T10:36:13.013082",
   "environment_variables": {},
   "exception": null,
   "input_path": "universe_analysis.ipynb",
   "output_path": "output/runs/11/notebooks/m_11-94054b450382fae14f9f4d67ddcf67f1.ipynb",
   "parameters": {
    "output_dir": "output",
    "run_no": "11",
    "seed": "2023",
    "universe": "{\"cutoff\": [\"quantile_0.1\", \"quantile_0.25\"], \"eval_fairness_grouping\": [\"majority-minority\", \"nationality-all\"], \"exclude_features\": \"age\", \"exclude_subgroups\": \"keep-all\", \"model\": \"logreg\", \"scale\": \"do-not-scale\", \"training_size\": \"5k\"}",
    "universe_id": "94054b450382fae14f9f4d67ddcf67f1"
   },
   "start_time": "2025-07-28T10:35:31.403643",
   "version": "2.6.0"
  }
 },
 "nbformat": 4,
 "nbformat_minor": 5
}