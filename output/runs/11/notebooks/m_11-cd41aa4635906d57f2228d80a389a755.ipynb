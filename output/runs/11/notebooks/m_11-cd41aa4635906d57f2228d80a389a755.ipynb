{
 "cells": [
  {
   "cell_type": "code",
   "execution_count": 1,
   "id": "f159f837-637b-42ba-96b5-ec9a68c44524",
   "metadata": {
    "execution": {
     "iopub.execute_input": "2025-07-28T10:50:40.627481Z",
     "iopub.status.busy": "2025-07-28T10:50:40.626912Z",
     "iopub.status.idle": "2025-07-28T10:50:40.641256Z",
     "shell.execute_reply": "2025-07-28T10:50:40.640220Z"
    },
    "papermill": {
     "duration": 0.036316,
     "end_time": "2025-07-28T10:50:40.642918",
     "exception": false,
     "start_time": "2025-07-28T10:50:40.606602",
     "status": "completed"
    },
    "tags": []
   },
   "outputs": [
    {
     "name": "stdout",
     "output_type": "stream",
     "text": [
      "/dss/dsshome1/0C/ra93lal2/cma/CMA_Fairness_v2\n"
     ]
    },
    {
     "name": "stderr",
     "output_type": "stream",
     "text": [
      "/dss/dsshome1/0C/ra93lal2/.local/share/virtualenvs/CMA_Fairness_v2-3j10GkSs/lib/python3.10/site-packages/IPython/core/magics/osm.py:393: UserWarning: This is now an optional IPython functionality, using bookmarks requires you to install the `pickleshare` library.\n",
      "  bkms = self.shell.db.get('bookmarks', {})\n",
      "/dss/dsshome1/0C/ra93lal2/.local/share/virtualenvs/CMA_Fairness_v2-3j10GkSs/lib/python3.10/site-packages/IPython/core/magics/osm.py:417: UserWarning: This is now an optional IPython functionality, setting dhist requires you to install the `pickleshare` library.\n",
      "  self.shell.db['dhist'] = compress_dhist(dhist)[-100:]\n"
     ]
    }
   ],
   "source": [
    "%cd ~/cma/CMA_Fairness_v2"
   ]
  },
  {
   "cell_type": "markdown",
   "id": "de2603b9",
   "metadata": {
    "papermill": {
     "duration": 0.020356,
     "end_time": "2025-07-28T10:50:40.683045",
     "exception": false,
     "start_time": "2025-07-28T10:50:40.662689",
     "status": "completed"
    },
    "tags": []
   },
   "source": [
    "The following cell holds the definition of our parameters, these values can be overriden by rendering the with e.g. the following command:\n",
    "\n",
    "papermill -p alpha 0.2 -p ratio 0.3 universe_analysis.ipynb output/test_run.ipynb"
   ]
  },
  {
   "cell_type": "code",
   "execution_count": 2,
   "id": "a80968a0-40bb-4fa9-85ef-2d5eefb01975",
   "metadata": {
    "execution": {
     "iopub.execute_input": "2025-07-28T10:50:40.725502Z",
     "iopub.status.busy": "2025-07-28T10:50:40.725120Z",
     "iopub.status.idle": "2025-07-28T10:50:40.730758Z",
     "shell.execute_reply": "2025-07-28T10:50:40.729805Z"
    },
    "papermill": {
     "duration": 0.028912,
     "end_time": "2025-07-28T10:50:40.732558",
     "exception": false,
     "start_time": "2025-07-28T10:50:40.703646",
     "status": "completed"
    },
    "tags": []
   },
   "outputs": [
    {
     "name": "stdout",
     "output_type": "stream",
     "text": [
      "Current working directory: /dss/dsshome1/0C/ra93lal2/cma/CMA_Fairness_v2\n"
     ]
    }
   ],
   "source": [
    "import os\n",
    "print(\"Current working directory:\", os.getcwd())"
   ]
  },
  {
   "cell_type": "code",
   "execution_count": 3,
   "id": "2dce4c03",
   "metadata": {
    "execution": {
     "iopub.execute_input": "2025-07-28T10:50:40.774479Z",
     "iopub.status.busy": "2025-07-28T10:50:40.773773Z",
     "iopub.status.idle": "2025-07-28T10:50:40.780777Z",
     "shell.execute_reply": "2025-07-28T10:50:40.779690Z"
    },
    "papermill": {
     "duration": 0.029918,
     "end_time": "2025-07-28T10:50:40.782501",
     "exception": false,
     "start_time": "2025-07-28T10:50:40.752583",
     "status": "completed"
    },
    "tags": [
     "parameters"
    ]
   },
   "outputs": [],
   "source": [
    "run_no = 0\n",
    "universe_id = \"test\"\n",
    "universe = {\n",
    "    \"training_size\": \"2014\", # \"25k\", \"5k\", \"1k\", \"2014\"\n",
    "    \"scale\": \"scale\", # \"scale\", \"do-not-scale\",\n",
    "    #\"stratify_split\": \"target\", # \"none\", \"target\", \"protected-attribute\", \"both\",\n",
    "    \"model\": \"elasticnet\", # \"logreg\", \"penalized_logreg\", \"rf\", \"gbm\", \"elasticnet\"\n",
    "    \"cutoff\": [\"quantile_0.15\", \"quantile_0.30\"],\n",
    "    \"exclude_features\": \"age\", # \"none\", \"nationality\", \"sex\", \"nationality-sex\", \"age\"\n",
    "    \"exclude_subgroups\": \"keep-all\", # \"keep-all\", \"drop-non-german\"\n",
    "    \"eval_fairness_grouping\": [\"majority-minority\", \"nationality-all\"]\n",
    "}\n",
    "\n",
    "output_dir=\"./output\"\n",
    "seed=0"
   ]
  },
  {
   "cell_type": "code",
   "execution_count": 4,
   "id": "a2497851",
   "metadata": {
    "execution": {
     "iopub.execute_input": "2025-07-28T10:50:40.820973Z",
     "iopub.status.busy": "2025-07-28T10:50:40.820485Z",
     "iopub.status.idle": "2025-07-28T10:50:40.825769Z",
     "shell.execute_reply": "2025-07-28T10:50:40.824777Z"
    },
    "papermill": {
     "duration": 0.026416,
     "end_time": "2025-07-28T10:50:40.827497",
     "exception": false,
     "start_time": "2025-07-28T10:50:40.801081",
     "status": "completed"
    },
    "tags": [
     "injected-parameters"
    ]
   },
   "outputs": [],
   "source": [
    "# Parameters\n",
    "universe_id = \"cd41aa4635906d57f2228d80a389a755\"\n",
    "run_no = \"11\"\n",
    "universe = \"{\\\"cutoff\\\": [\\\"quantile_0.1\\\", \\\"quantile_0.25\\\"], \\\"eval_fairness_grouping\\\": [\\\"majority-minority\\\", \\\"nationality-all\\\"], \\\"exclude_features\\\": \\\"nationality\\\", \\\"exclude_subgroups\\\": \\\"keep-all\\\", \\\"model\\\": \\\"gbm\\\", \\\"scale\\\": \\\"do-not-scale\\\", \\\"training_size\\\": \\\"1k\\\"}\"\n",
    "output_dir = \"output\"\n",
    "seed = \"2023\"\n"
   ]
  },
  {
   "cell_type": "code",
   "execution_count": 5,
   "id": "1650acaf",
   "metadata": {
    "execution": {
     "iopub.execute_input": "2025-07-28T10:50:40.869631Z",
     "iopub.status.busy": "2025-07-28T10:50:40.868944Z",
     "iopub.status.idle": "2025-07-28T10:50:40.874030Z",
     "shell.execute_reply": "2025-07-28T10:50:40.873150Z"
    },
    "papermill": {
     "duration": 0.027151,
     "end_time": "2025-07-28T10:50:40.875775",
     "exception": false,
     "start_time": "2025-07-28T10:50:40.848624",
     "status": "completed"
    },
    "tags": []
   },
   "outputs": [],
   "source": [
    "import json\n",
    "# Parse universe into dict if it is passed as a string\n",
    "if isinstance(universe, str):\n",
    "    universe = json.loads(universe)"
   ]
  },
  {
   "cell_type": "code",
   "execution_count": 6,
   "id": "16620c48",
   "metadata": {
    "execution": {
     "iopub.execute_input": "2025-07-28T10:50:40.917215Z",
     "iopub.status.busy": "2025-07-28T10:50:40.916301Z",
     "iopub.status.idle": "2025-07-28T10:50:40.965298Z",
     "shell.execute_reply": "2025-07-28T10:50:40.964196Z"
    },
    "papermill": {
     "duration": 0.071346,
     "end_time": "2025-07-28T10:50:40.967356",
     "exception": false,
     "start_time": "2025-07-28T10:50:40.896010",
     "status": "completed"
    },
    "tags": []
   },
   "outputs": [],
   "source": [
    "# Auto-reload the custom package\n",
    "%load_ext autoreload\n",
    "%autoreload 1\n",
    "%aimport fairness_multiverse"
   ]
  },
  {
   "cell_type": "code",
   "execution_count": 7,
   "id": "01c5c9f3",
   "metadata": {
    "execution": {
     "iopub.execute_input": "2025-07-28T10:50:41.012162Z",
     "iopub.status.busy": "2025-07-28T10:50:41.011260Z",
     "iopub.status.idle": "2025-07-28T10:50:43.177364Z",
     "shell.execute_reply": "2025-07-28T10:50:43.176109Z"
    },
    "papermill": {
     "duration": 2.190544,
     "end_time": "2025-07-28T10:50:43.179328",
     "exception": false,
     "start_time": "2025-07-28T10:50:40.988784",
     "status": "completed"
    },
    "tags": []
   },
   "outputs": [],
   "source": [
    "from fairness_multiverse.universe import UniverseAnalysis\n",
    "\n",
    "universe_analysis = UniverseAnalysis(\n",
    "    run_no = run_no,\n",
    "    universe_id = universe_id,\n",
    "    universe = universe,\n",
    "    output_dir=output_dir,\n",
    ")"
   ]
  },
  {
   "cell_type": "code",
   "execution_count": 8,
   "id": "106241f5",
   "metadata": {
    "execution": {
     "iopub.execute_input": "2025-07-28T10:50:43.218655Z",
     "iopub.status.busy": "2025-07-28T10:50:43.217506Z",
     "iopub.status.idle": "2025-07-28T10:50:43.225788Z",
     "shell.execute_reply": "2025-07-28T10:50:43.224694Z"
    },
    "papermill": {
     "duration": 0.037359,
     "end_time": "2025-07-28T10:50:43.236012",
     "exception": false,
     "start_time": "2025-07-28T10:50:43.198653",
     "status": "completed"
    },
    "tags": []
   },
   "outputs": [
    {
     "name": "stdout",
     "output_type": "stream",
     "text": [
      "Using Seed: 2023\n"
     ]
    }
   ],
   "source": [
    "import numpy as np\n",
    "parsed_seed = int(seed)\n",
    "np.random.seed(parsed_seed)\n",
    "print(f\"Using Seed: {parsed_seed}\")"
   ]
  },
  {
   "cell_type": "markdown",
   "id": "e0ebdc57",
   "metadata": {
    "papermill": {
     "duration": 0.020353,
     "end_time": "2025-07-28T10:50:43.281298",
     "exception": false,
     "start_time": "2025-07-28T10:50:43.260945",
     "status": "completed"
    },
    "tags": []
   },
   "source": [
    "# Loading Data"
   ]
  },
  {
   "cell_type": "markdown",
   "id": "681925a3",
   "metadata": {
    "papermill": {
     "duration": 0.019462,
     "end_time": "2025-07-28T10:50:43.320195",
     "exception": false,
     "start_time": "2025-07-28T10:50:43.300733",
     "status": "completed"
    },
    "tags": []
   },
   "source": [
    "Load siab_train, siab_test, siab_calib and/or \n",
    "load siab_train_features, siab_train_labels"
   ]
  },
  {
   "cell_type": "code",
   "execution_count": 9,
   "id": "f0496b8a",
   "metadata": {
    "execution": {
     "iopub.execute_input": "2025-07-28T10:50:43.361711Z",
     "iopub.status.busy": "2025-07-28T10:50:43.361165Z",
     "iopub.status.idle": "2025-07-28T10:50:57.838341Z",
     "shell.execute_reply": "2025-07-28T10:50:57.837209Z"
    },
    "papermill": {
     "duration": 14.500911,
     "end_time": "2025-07-28T10:50:57.840289",
     "exception": false,
     "start_time": "2025-07-28T10:50:43.339378",
     "status": "completed"
    },
    "tags": []
   },
   "outputs": [
    {
     "name": "stdout",
     "output_type": "stream",
     "text": [
      "Loading SIAB data from cache: data/siab_cached.csv.gz\n"
     ]
    },
    {
     "name": "stdout",
     "output_type": "stream",
     "text": [
      "(643690, 164)\n"
     ]
    }
   ],
   "source": [
    "from pathlib import Path\n",
    "import pandas as pd\n",
    "\n",
    "# File paths\n",
    "raw_file = Path(\"data/raw/siab.csv\")\n",
    "cache_file = Path(\"data/siab_cached.csv.gz\")\n",
    "\n",
    "# Ensure cache directory exists\n",
    "cache_file.parent.mkdir(parents=True, exist_ok=True)\n",
    "\n",
    "# Load with simple caching\n",
    "if cache_file.exists():\n",
    "    print(f\"Loading SIAB data from cache: {cache_file}\")\n",
    "    siab = pd.read_csv(cache_file, compression='gzip')\n",
    "else:\n",
    "    print(f\"Cache not found. Reading raw SIAB data: {raw_file}\")\n",
    "    siab = pd.read_csv(raw_file)\n",
    "    siab.to_csv(cache_file, index=False, compression='gzip')\n",
    "    print(f\"Cached SIAB data to: {cache_file}\")\n",
    "\n",
    "# Now use `siab` DataFrame as needed\n",
    "print(siab.shape)"
   ]
  },
  {
   "cell_type": "code",
   "execution_count": 10,
   "id": "db0ca512-5f53-4dba-abdb-a2888bca41ba",
   "metadata": {
    "execution": {
     "iopub.execute_input": "2025-07-28T10:50:57.902784Z",
     "iopub.status.busy": "2025-07-28T10:50:57.902264Z",
     "iopub.status.idle": "2025-07-28T10:50:57.909153Z",
     "shell.execute_reply": "2025-07-28T10:50:57.908080Z"
    },
    "papermill": {
     "duration": 0.030525,
     "end_time": "2025-07-28T10:50:57.910952",
     "exception": false,
     "start_time": "2025-07-28T10:50:57.880427",
     "status": "completed"
    },
    "tags": []
   },
   "outputs": [],
   "source": [
    "#siab"
   ]
  },
  {
   "cell_type": "code",
   "execution_count": 11,
   "id": "a0edb063",
   "metadata": {
    "execution": {
     "iopub.execute_input": "2025-07-28T10:50:57.953646Z",
     "iopub.status.busy": "2025-07-28T10:50:57.953107Z",
     "iopub.status.idle": "2025-07-28T10:50:57.958661Z",
     "shell.execute_reply": "2025-07-28T10:50:57.957658Z"
    },
    "papermill": {
     "duration": 0.028265,
     "end_time": "2025-07-28T10:50:57.960563",
     "exception": false,
     "start_time": "2025-07-28T10:50:57.932298",
     "status": "completed"
    },
    "tags": []
   },
   "outputs": [],
   "source": [
    "#import pandas as pd\n",
    "#\n",
    "#X_train = pd.read_csv(\"./data/X_train.csv\")\n",
    "#y_train = pd.read_csv(\"./data/y_train.csv\")"
   ]
  },
  {
   "cell_type": "code",
   "execution_count": 12,
   "id": "63d08085",
   "metadata": {
    "execution": {
     "iopub.execute_input": "2025-07-28T10:50:58.006974Z",
     "iopub.status.busy": "2025-07-28T10:50:58.006538Z",
     "iopub.status.idle": "2025-07-28T10:50:58.010797Z",
     "shell.execute_reply": "2025-07-28T10:50:58.009842Z"
    },
    "papermill": {
     "duration": 0.028865,
     "end_time": "2025-07-28T10:50:58.012283",
     "exception": false,
     "start_time": "2025-07-28T10:50:57.983418",
     "status": "completed"
    },
    "tags": []
   },
   "outputs": [],
   "source": [
    "#X_test = pd.read_csv(\"./data/X_test.csv\")\n",
    "#y_true = pd.read_csv(\"./data/y_test.csv\")"
   ]
  },
  {
   "cell_type": "code",
   "execution_count": 13,
   "id": "98a8d0fa-1d3d-4ed8-bb2c-281470e24add",
   "metadata": {
    "execution": {
     "iopub.execute_input": "2025-07-28T10:50:58.040835Z",
     "iopub.status.busy": "2025-07-28T10:50:58.040421Z",
     "iopub.status.idle": "2025-07-28T10:50:58.044917Z",
     "shell.execute_reply": "2025-07-28T10:50:58.043923Z"
    },
    "papermill": {
     "duration": 0.019014,
     "end_time": "2025-07-28T10:50:58.046422",
     "exception": false,
     "start_time": "2025-07-28T10:50:58.027408",
     "status": "completed"
    },
    "tags": []
   },
   "outputs": [],
   "source": [
    "# Calibration data for conformal\n",
    "#X_calib = pd.read_csv(\"./data/X_calib.csv\")\n",
    "#y_calib = pd.read_csv(\"./data/y_calib.csv\")"
   ]
  },
  {
   "cell_type": "markdown",
   "id": "9901737e-04df-44f0-9100-f5ad144ed040",
   "metadata": {
    "papermill": {
     "duration": 0.012317,
     "end_time": "2025-07-28T10:50:58.071022",
     "exception": false,
     "start_time": "2025-07-28T10:50:58.058705",
     "status": "completed"
    },
    "tags": []
   },
   "source": [
    "# Splitting Data and Setting Training Data Size"
   ]
  },
  {
   "cell_type": "code",
   "execution_count": 14,
   "id": "acbc8f7d-8fc8-4e86-8c59-5dcb0f58384b",
   "metadata": {
    "execution": {
     "iopub.execute_input": "2025-07-28T10:50:58.096400Z",
     "iopub.status.busy": "2025-07-28T10:50:58.095941Z",
     "iopub.status.idle": "2025-07-28T10:50:58.103271Z",
     "shell.execute_reply": "2025-07-28T10:50:58.102286Z"
    },
    "papermill": {
     "duration": 0.021491,
     "end_time": "2025-07-28T10:50:58.104725",
     "exception": false,
     "start_time": "2025-07-28T10:50:58.083234",
     "status": "completed"
    },
    "tags": []
   },
   "outputs": [],
   "source": [
    "def sample_by_year(df, training_size, random_state=42):\n",
    "    if training_size == \"2014\":\n",
    "        return df[df[\"year\"] == 2014].reset_index(drop=True)\n",
    "    \n",
    "    size_map = {\n",
    "        \"25k\": 5000,\n",
    "        \"5k\": 1000,\n",
    "        \"1k\": 200\n",
    "    }\n",
    "\n",
    "    if training_size not in size_map:\n",
    "        return df.reset_index(drop=True)  # use all data\n",
    "\n",
    "    n_per_year = size_map[training_size]\n",
    "    grouped = df.groupby(\"year\")\n",
    "    sampled = grouped.apply(lambda x: x.sample(n=min(n_per_year, len(x)), random_state=random_state))\n",
    "    return sampled.reset_index(drop=True)"
   ]
  },
  {
   "cell_type": "code",
   "execution_count": 15,
   "id": "6d931f52-beaf-43ff-9e78-9d44a448d54e",
   "metadata": {
    "execution": {
     "iopub.execute_input": "2025-07-28T10:50:58.150057Z",
     "iopub.status.busy": "2025-07-28T10:50:58.149669Z",
     "iopub.status.idle": "2025-07-28T10:50:58.882086Z",
     "shell.execute_reply": "2025-07-28T10:50:58.880907Z"
    },
    "papermill": {
     "duration": 0.758528,
     "end_time": "2025-07-28T10:50:58.884878",
     "exception": false,
     "start_time": "2025-07-28T10:50:58.126350",
     "status": "completed"
    },
    "tags": []
   },
   "outputs": [],
   "source": [
    "siab_s = sample_by_year(siab, universe[\"training_size\"])"
   ]
  },
  {
   "cell_type": "code",
   "execution_count": 16,
   "id": "5db0a40e-a4e2-4920-be85-b12ae061d70d",
   "metadata": {
    "execution": {
     "iopub.execute_input": "2025-07-28T10:50:58.941942Z",
     "iopub.status.busy": "2025-07-28T10:50:58.941290Z",
     "iopub.status.idle": "2025-07-28T10:50:58.963938Z",
     "shell.execute_reply": "2025-07-28T10:50:58.962676Z"
    },
    "papermill": {
     "duration": 0.050131,
     "end_time": "2025-07-28T10:50:58.966213",
     "exception": false,
     "start_time": "2025-07-28T10:50:58.916082",
     "status": "completed"
    },
    "tags": []
   },
   "outputs": [
    {
     "data": {
      "text/plain": [
       "year\n",
       "2010    200\n",
       "2011    200\n",
       "2012    200\n",
       "2013    200\n",
       "2014    200\n",
       "2015    200\n",
       "2016    200\n",
       "dtype: int64"
      ]
     },
     "metadata": {},
     "output_type": "display_data"
    }
   ],
   "source": [
    "display(siab_s.groupby(\"year\").size())"
   ]
  },
  {
   "cell_type": "code",
   "execution_count": 17,
   "id": "a561edb4-d032-42cb-8256-22eac1111c64",
   "metadata": {
    "execution": {
     "iopub.execute_input": "2025-07-28T10:50:59.013486Z",
     "iopub.status.busy": "2025-07-28T10:50:59.012900Z",
     "iopub.status.idle": "2025-07-28T10:50:59.276928Z",
     "shell.execute_reply": "2025-07-28T10:50:59.275998Z"
    },
    "papermill": {
     "duration": 0.28919,
     "end_time": "2025-07-28T10:50:59.279010",
     "exception": false,
     "start_time": "2025-07-28T10:50:58.989820",
     "status": "completed"
    },
    "tags": []
   },
   "outputs": [],
   "source": [
    "siab_train = siab_s[siab_s.year < 2015]\n",
    "siab_calib = siab[siab.year == 2015]\n",
    "siab_test = siab[siab.year == 2016]"
   ]
  },
  {
   "cell_type": "code",
   "execution_count": 18,
   "id": "472de16f-c3db-4916-846b-1f0de9cf1746",
   "metadata": {
    "execution": {
     "iopub.execute_input": "2025-07-28T10:50:59.329053Z",
     "iopub.status.busy": "2025-07-28T10:50:59.328085Z",
     "iopub.status.idle": "2025-07-28T10:50:59.334424Z",
     "shell.execute_reply": "2025-07-28T10:50:59.333584Z"
    },
    "papermill": {
     "duration": 0.020419,
     "end_time": "2025-07-28T10:50:59.336102",
     "exception": false,
     "start_time": "2025-07-28T10:50:59.315683",
     "status": "completed"
    },
    "tags": []
   },
   "outputs": [],
   "source": [
    "X_train = siab_train.iloc[:,4:164]\n",
    "y_train = siab_train.iloc[:, [3]]"
   ]
  },
  {
   "cell_type": "code",
   "execution_count": 19,
   "id": "828c96af-f43a-4ed6-ba47-8ac73a47d56c",
   "metadata": {
    "execution": {
     "iopub.execute_input": "2025-07-28T10:50:59.376529Z",
     "iopub.status.busy": "2025-07-28T10:50:59.375963Z",
     "iopub.status.idle": "2025-07-28T10:50:59.430194Z",
     "shell.execute_reply": "2025-07-28T10:50:59.429141Z"
    },
    "papermill": {
     "duration": 0.080795,
     "end_time": "2025-07-28T10:50:59.432139",
     "exception": false,
     "start_time": "2025-07-28T10:50:59.351344",
     "status": "completed"
    },
    "tags": []
   },
   "outputs": [],
   "source": [
    "X_calib = siab_calib.iloc[:,4:164]\n",
    "y_calib = siab_calib.iloc[:, [3]]"
   ]
  },
  {
   "cell_type": "code",
   "execution_count": 20,
   "id": "c34be9c3-6bd6-476e-acd3-845840e303be",
   "metadata": {
    "execution": {
     "iopub.execute_input": "2025-07-28T10:50:59.477847Z",
     "iopub.status.busy": "2025-07-28T10:50:59.477095Z",
     "iopub.status.idle": "2025-07-28T10:50:59.530614Z",
     "shell.execute_reply": "2025-07-28T10:50:59.529781Z"
    },
    "papermill": {
     "duration": 0.076739,
     "end_time": "2025-07-28T10:50:59.532454",
     "exception": false,
     "start_time": "2025-07-28T10:50:59.455715",
     "status": "completed"
    },
    "tags": []
   },
   "outputs": [],
   "source": [
    "X_test = siab_test.iloc[:,4:164]\n",
    "y_true = siab_test.iloc[:, [3]]"
   ]
  },
  {
   "cell_type": "code",
   "execution_count": 21,
   "id": "e6c733c5",
   "metadata": {
    "execution": {
     "iopub.execute_input": "2025-07-28T10:50:59.579331Z",
     "iopub.status.busy": "2025-07-28T10:50:59.578870Z",
     "iopub.status.idle": "2025-07-28T10:50:59.687077Z",
     "shell.execute_reply": "2025-07-28T10:50:59.686052Z"
    },
    "papermill": {
     "duration": 0.134689,
     "end_time": "2025-07-28T10:50:59.689173",
     "exception": false,
     "start_time": "2025-07-28T10:50:59.554484",
     "status": "completed"
    },
    "tags": []
   },
   "outputs": [],
   "source": [
    "# Auxiliary data needed downstream in the pipeline\n",
    "\n",
    "org_train = X_train.copy()\n",
    "org_test = X_test.copy()\n",
    "org_calib = X_calib.copy()"
   ]
  },
  {
   "cell_type": "markdown",
   "id": "0a4a1b33",
   "metadata": {
    "papermill": {
     "duration": 0.020365,
     "end_time": "2025-07-28T10:50:59.730445",
     "exception": false,
     "start_time": "2025-07-28T10:50:59.710080",
     "status": "completed"
    },
    "tags": []
   },
   "source": [
    "# Preprocessing Data"
   ]
  },
  {
   "cell_type": "code",
   "execution_count": 22,
   "id": "ca879031",
   "metadata": {
    "execution": {
     "iopub.execute_input": "2025-07-28T10:50:59.764280Z",
     "iopub.status.busy": "2025-07-28T10:50:59.763674Z",
     "iopub.status.idle": "2025-07-28T10:50:59.770541Z",
     "shell.execute_reply": "2025-07-28T10:50:59.769423Z"
    },
    "papermill": {
     "duration": 0.023074,
     "end_time": "2025-07-28T10:50:59.772628",
     "exception": false,
     "start_time": "2025-07-28T10:50:59.749554",
     "status": "completed"
    },
    "tags": []
   },
   "outputs": [],
   "source": [
    "# EXCLUDE PROTECTED FEATURES\n",
    "# ----------------------\n",
    "# \"exclude_features\": \"none\", # \"nationality\", \"sex\", \"nationality-sex\"\n",
    "\n",
    "excluded_features = universe[\"exclude_features\"].split(\"-\") # split, e.g.: \"nationality-sex\" -> [\"nationality\", \"sex\"]\n",
    "excluded_features_dictionary = {\n",
    "    \"nationality\": [\"maxdeutsch1\", \"maxdeutsch.Missing.\"],\n",
    "    \"sex\": [\"frau1\"],\n",
    "    \"age\": [\"age\"],\n",
    "}\n"
   ]
  },
  {
   "cell_type": "code",
   "execution_count": 23,
   "id": "b745ac60",
   "metadata": {
    "execution": {
     "iopub.execute_input": "2025-07-28T10:50:59.820129Z",
     "iopub.status.busy": "2025-07-28T10:50:59.819545Z",
     "iopub.status.idle": "2025-07-28T10:50:59.825931Z",
     "shell.execute_reply": "2025-07-28T10:50:59.825161Z"
    },
    "papermill": {
     "duration": 0.031831,
     "end_time": "2025-07-28T10:50:59.827238",
     "exception": false,
     "start_time": "2025-07-28T10:50:59.795407",
     "status": "completed"
    },
    "tags": []
   },
   "outputs": [],
   "source": [
    "# Code nice names to column names\n",
    "\n",
    "excluded_features_columns = [\n",
    "    excluded_features_dictionary[f] for f in excluded_features if len(f) > 0 and f != \"none\"\n",
    "]"
   ]
  },
  {
   "cell_type": "code",
   "execution_count": 24,
   "id": "f84f73a2",
   "metadata": {
    "execution": {
     "iopub.execute_input": "2025-07-28T10:50:59.851739Z",
     "iopub.status.busy": "2025-07-28T10:50:59.851185Z",
     "iopub.status.idle": "2025-07-28T10:50:59.857263Z",
     "shell.execute_reply": "2025-07-28T10:50:59.856531Z"
    },
    "papermill": {
     "duration": 0.019425,
     "end_time": "2025-07-28T10:50:59.858716",
     "exception": false,
     "start_time": "2025-07-28T10:50:59.839291",
     "status": "completed"
    },
    "tags": []
   },
   "outputs": [],
   "source": [
    "from utils import flatten_once\n",
    "\n",
    "excluded_features_columns = flatten_once(excluded_features_columns)"
   ]
  },
  {
   "cell_type": "code",
   "execution_count": 25,
   "id": "884dea22",
   "metadata": {
    "execution": {
     "iopub.execute_input": "2025-07-28T10:50:59.883327Z",
     "iopub.status.busy": "2025-07-28T10:50:59.882769Z",
     "iopub.status.idle": "2025-07-28T10:50:59.891239Z",
     "shell.execute_reply": "2025-07-28T10:50:59.890262Z"
    },
    "papermill": {
     "duration": 0.02244,
     "end_time": "2025-07-28T10:50:59.893116",
     "exception": false,
     "start_time": "2025-07-28T10:50:59.870676",
     "status": "completed"
    },
    "tags": []
   },
   "outputs": [
    {
     "name": "stdout",
     "output_type": "stream",
     "text": [
      "Dropping features: ['maxdeutsch1', 'maxdeutsch.Missing.']\n"
     ]
    }
   ],
   "source": [
    "if len(excluded_features_columns) > 0:\n",
    "    print(f\"Dropping features: {excluded_features_columns}\")\n",
    "    X_train.drop(excluded_features_columns, axis=1, inplace=True)"
   ]
  },
  {
   "cell_type": "code",
   "execution_count": 26,
   "id": "95ab8b16",
   "metadata": {
    "execution": {
     "iopub.execute_input": "2025-07-28T10:50:59.940728Z",
     "iopub.status.busy": "2025-07-28T10:50:59.940136Z",
     "iopub.status.idle": "2025-07-28T10:50:59.996420Z",
     "shell.execute_reply": "2025-07-28T10:50:59.995207Z"
    },
    "papermill": {
     "duration": 0.082977,
     "end_time": "2025-07-28T10:50:59.998784",
     "exception": false,
     "start_time": "2025-07-28T10:50:59.915807",
     "status": "completed"
    },
    "tags": []
   },
   "outputs": [
    {
     "name": "stdout",
     "output_type": "stream",
     "text": [
      "Dropping features: ['maxdeutsch1', 'maxdeutsch.Missing.']\n"
     ]
    }
   ],
   "source": [
    "if len(excluded_features_columns) > 0:\n",
    "    print(f\"Dropping features: {excluded_features_columns}\")\n",
    "    X_test.drop(excluded_features_columns, axis=1, inplace=True)"
   ]
  },
  {
   "cell_type": "code",
   "execution_count": 27,
   "id": "1853aaf5-fb9f-46cb-a2b5-8ea4ae2237e4",
   "metadata": {
    "execution": {
     "iopub.execute_input": "2025-07-28T10:51:00.045373Z",
     "iopub.status.busy": "2025-07-28T10:51:00.044667Z",
     "iopub.status.idle": "2025-07-28T10:51:00.099167Z",
     "shell.execute_reply": "2025-07-28T10:51:00.098109Z"
    },
    "papermill": {
     "duration": 0.079708,
     "end_time": "2025-07-28T10:51:00.101179",
     "exception": false,
     "start_time": "2025-07-28T10:51:00.021471",
     "status": "completed"
    },
    "tags": []
   },
   "outputs": [
    {
     "name": "stdout",
     "output_type": "stream",
     "text": [
      "Dropping features: ['maxdeutsch1', 'maxdeutsch.Missing.']\n"
     ]
    }
   ],
   "source": [
    "if len(excluded_features_columns) > 0:\n",
    "    print(f\"Dropping features: {excluded_features_columns}\")\n",
    "    X_calib.drop(excluded_features_columns, axis=1, inplace=True)"
   ]
  },
  {
   "cell_type": "code",
   "execution_count": 28,
   "id": "6727d079-03e5-481e-9d38-292a90b7a0a8",
   "metadata": {
    "execution": {
     "iopub.execute_input": "2025-07-28T10:51:00.148439Z",
     "iopub.status.busy": "2025-07-28T10:51:00.147651Z",
     "iopub.status.idle": "2025-07-28T10:51:00.152960Z",
     "shell.execute_reply": "2025-07-28T10:51:00.151929Z"
    },
    "papermill": {
     "duration": 0.029444,
     "end_time": "2025-07-28T10:51:00.154843",
     "exception": false,
     "start_time": "2025-07-28T10:51:00.125399",
     "status": "completed"
    },
    "tags": []
   },
   "outputs": [],
   "source": [
    "# SPLIT & STRATIFY DATA\n",
    "# ----------------------"
   ]
  },
  {
   "cell_type": "code",
   "execution_count": 29,
   "id": "76c4dc6d",
   "metadata": {
    "execution": {
     "iopub.execute_input": "2025-07-28T10:51:00.205367Z",
     "iopub.status.busy": "2025-07-28T10:51:00.204857Z",
     "iopub.status.idle": "2025-07-28T10:51:00.210039Z",
     "shell.execute_reply": "2025-07-28T10:51:00.209101Z"
    },
    "papermill": {
     "duration": 0.03212,
     "end_time": "2025-07-28T10:51:00.211878",
     "exception": false,
     "start_time": "2025-07-28T10:51:00.179758",
     "status": "completed"
    },
    "tags": []
   },
   "outputs": [],
   "source": [
    "# EXCLUDE CERTAIN SUBGROUPS\n",
    "# ----------------------\n",
    "\n",
    "mode = universe.get(\"exclude_subgroups\", \"keep-all\") \n",
    "# Fetches the exclude_subgroups setting from the universe dict.\n",
    "# Defaults to \"keep-all\" if the key is missing."
   ]
  },
  {
   "cell_type": "code",
   "execution_count": 30,
   "id": "21994072",
   "metadata": {
    "execution": {
     "iopub.execute_input": "2025-07-28T10:51:00.260383Z",
     "iopub.status.busy": "2025-07-28T10:51:00.259811Z",
     "iopub.status.idle": "2025-07-28T10:51:00.267460Z",
     "shell.execute_reply": "2025-07-28T10:51:00.266384Z"
    },
    "papermill": {
     "duration": 0.033583,
     "end_time": "2025-07-28T10:51:00.269464",
     "exception": false,
     "start_time": "2025-07-28T10:51:00.235881",
     "status": "completed"
    },
    "tags": []
   },
   "outputs": [],
   "source": [
    "if mode == \"keep-all\":\n",
    "    keep_mask = pd.Series(True, index=org_train.index)\n",
    "\n",
    "# org_train contains the original feature columns from features_org (in Simson)\n",
    "# features_org contains unprocessed features, for me X_train at beginning ???\n",
    "# For keep-all, creates a boolean Series (keep_mask) of all True, so no rows are removed.\n",
    "\n",
    "elif mode == \"drop-non-german\":\n",
    "    keep_mask = org_train[\"maxdeutsch1\"] == 1 # ??? what about missing values?\n",
    "\n",
    "else:\n",
    "    raise ValueError(f\"Unsupported mode for exclude_subgroups: {mode}\")\n"
   ]
  },
  {
   "cell_type": "code",
   "execution_count": 31,
   "id": "71651440",
   "metadata": {
    "execution": {
     "iopub.execute_input": "2025-07-28T10:51:00.303789Z",
     "iopub.status.busy": "2025-07-28T10:51:00.303267Z",
     "iopub.status.idle": "2025-07-28T10:51:00.310485Z",
     "shell.execute_reply": "2025-07-28T10:51:00.309387Z"
    },
    "papermill": {
     "duration": 0.021798,
     "end_time": "2025-07-28T10:51:00.312329",
     "exception": false,
     "start_time": "2025-07-28T10:51:00.290531",
     "status": "completed"
    },
    "tags": []
   },
   "outputs": [],
   "source": [
    "n_drop = (~keep_mask).sum() # Calculates how many rows are set to be dropped\n",
    "if n_drop > 0:\n",
    "    pct = n_drop / len(keep_mask) * 100\n",
    "    print(f\"Dropping {n_drop} rows ({pct:.2f}%) where mode='{mode}'\")"
   ]
  },
  {
   "cell_type": "code",
   "execution_count": 32,
   "id": "5fb8eee5",
   "metadata": {
    "execution": {
     "iopub.execute_input": "2025-07-28T10:51:00.359008Z",
     "iopub.status.busy": "2025-07-28T10:51:00.358438Z",
     "iopub.status.idle": "2025-07-28T10:51:00.365711Z",
     "shell.execute_reply": "2025-07-28T10:51:00.364561Z"
    },
    "papermill": {
     "duration": 0.032691,
     "end_time": "2025-07-28T10:51:00.367736",
     "exception": false,
     "start_time": "2025-07-28T10:51:00.335045",
     "status": "completed"
    },
    "tags": []
   },
   "outputs": [],
   "source": [
    "X_train = X_train[keep_mask]"
   ]
  },
  {
   "cell_type": "code",
   "execution_count": 33,
   "id": "b202bb3a",
   "metadata": {
    "execution": {
     "iopub.execute_input": "2025-07-28T10:51:00.417455Z",
     "iopub.status.busy": "2025-07-28T10:51:00.416737Z",
     "iopub.status.idle": "2025-07-28T10:51:00.423332Z",
     "shell.execute_reply": "2025-07-28T10:51:00.422253Z"
    },
    "papermill": {
     "duration": 0.033397,
     "end_time": "2025-07-28T10:51:00.425202",
     "exception": false,
     "start_time": "2025-07-28T10:51:00.391805",
     "status": "completed"
    },
    "tags": []
   },
   "outputs": [],
   "source": [
    "y_train = y_train[keep_mask]"
   ]
  },
  {
   "cell_type": "markdown",
   "id": "493e2ac3",
   "metadata": {
    "papermill": {
     "duration": 0.022459,
     "end_time": "2025-07-28T10:51:00.470212",
     "exception": false,
     "start_time": "2025-07-28T10:51:00.447753",
     "status": "completed"
    },
    "tags": []
   },
   "source": [
    "# Model Training"
   ]
  },
  {
   "cell_type": "code",
   "execution_count": 34,
   "id": "679e1268",
   "metadata": {
    "execution": {
     "iopub.execute_input": "2025-07-28T10:51:00.517468Z",
     "iopub.status.busy": "2025-07-28T10:51:00.516559Z",
     "iopub.status.idle": "2025-07-28T10:51:00.627186Z",
     "shell.execute_reply": "2025-07-28T10:51:00.626244Z"
    },
    "papermill": {
     "duration": 0.135908,
     "end_time": "2025-07-28T10:51:00.629152",
     "exception": false,
     "start_time": "2025-07-28T10:51:00.493244",
     "status": "completed"
    },
    "tags": []
   },
   "outputs": [],
   "source": [
    "from sklearn.linear_model import LogisticRegression\n",
    "from sklearn.ensemble import GradientBoostingClassifier, RandomForestClassifier\n",
    "\n",
    "if (universe[\"model\"] == \"logreg\"):\n",
    "    model = LogisticRegression() #penalty=\"none\") #, solver=\"newton-cg\", max_iter=1) # include random_state=19 ?\n",
    "elif (universe[\"model\"] == \"penalized_logreg\"):\n",
    "    model = LogisticRegression(penalty=\"l2\", C=1.0) #, solver=\"newton-cg\", max_iter=1)\n",
    "elif (universe[\"model\"] == \"rf\"):\n",
    "    model = RandomForestClassifier(n_estimators=100, n_jobs=-1)\n",
    "elif (universe[\"model\"] == \"gbm\"):\n",
    "    model = GradientBoostingClassifier()\n",
    "elif (universe[\"model\"] == \"elasticnet\"):\n",
    "    model = LogisticRegression(penalty = 'elasticnet', solver = 'saga', l1_ratio = 0.5, max_iter=5000) # which solver to use?\n",
    "else:\n",
    "    raise \"Unsupported universe.model\""
   ]
  },
  {
   "cell_type": "code",
   "execution_count": 35,
   "id": "0cc8f744",
   "metadata": {
    "execution": {
     "iopub.execute_input": "2025-07-28T10:51:00.675237Z",
     "iopub.status.busy": "2025-07-28T10:51:00.674704Z",
     "iopub.status.idle": "2025-07-28T10:51:00.681584Z",
     "shell.execute_reply": "2025-07-28T10:51:00.680764Z"
    },
    "papermill": {
     "duration": 0.032075,
     "end_time": "2025-07-28T10:51:00.683446",
     "exception": false,
     "start_time": "2025-07-28T10:51:00.651371",
     "status": "completed"
    },
    "tags": []
   },
   "outputs": [],
   "source": [
    "import numpy as np\n",
    "from sklearn.pipeline import Pipeline\n",
    "from sklearn.preprocessing import StandardScaler\n",
    "\n",
    "model = Pipeline([\n",
    "    #(\"continuous_processor\", continuous_processor),\n",
    "    #(\"categorical_preprocessor\", categorical_preprocessor),\n",
    "    (\"scale\", StandardScaler() if universe[\"scale\"] == \"scale\" else None), \n",
    "    (\"model\", model),\n",
    "])"
   ]
  },
  {
   "cell_type": "code",
   "execution_count": 36,
   "id": "9442c04d",
   "metadata": {
    "execution": {
     "iopub.execute_input": "2025-07-28T10:51:00.732660Z",
     "iopub.status.busy": "2025-07-28T10:51:00.731700Z",
     "iopub.status.idle": "2025-07-28T10:51:01.719713Z",
     "shell.execute_reply": "2025-07-28T10:51:01.718660Z"
    },
    "papermill": {
     "duration": 1.01381,
     "end_time": "2025-07-28T10:51:01.721484",
     "exception": false,
     "start_time": "2025-07-28T10:51:00.707674",
     "status": "completed"
    },
    "tags": []
   },
   "outputs": [
    {
     "data": {
      "text/html": [
       "<style>#sk-container-id-1 {color: black;background-color: white;}#sk-container-id-1 pre{padding: 0;}#sk-container-id-1 div.sk-toggleable {background-color: white;}#sk-container-id-1 label.sk-toggleable__label {cursor: pointer;display: block;width: 100%;margin-bottom: 0;padding: 0.3em;box-sizing: border-box;text-align: center;}#sk-container-id-1 label.sk-toggleable__label-arrow:before {content: \"▸\";float: left;margin-right: 0.25em;color: #696969;}#sk-container-id-1 label.sk-toggleable__label-arrow:hover:before {color: black;}#sk-container-id-1 div.sk-estimator:hover label.sk-toggleable__label-arrow:before {color: black;}#sk-container-id-1 div.sk-toggleable__content {max-height: 0;max-width: 0;overflow: hidden;text-align: left;background-color: #f0f8ff;}#sk-container-id-1 div.sk-toggleable__content pre {margin: 0.2em;color: black;border-radius: 0.25em;background-color: #f0f8ff;}#sk-container-id-1 input.sk-toggleable__control:checked~div.sk-toggleable__content {max-height: 200px;max-width: 100%;overflow: auto;}#sk-container-id-1 input.sk-toggleable__control:checked~label.sk-toggleable__label-arrow:before {content: \"▾\";}#sk-container-id-1 div.sk-estimator input.sk-toggleable__control:checked~label.sk-toggleable__label {background-color: #d4ebff;}#sk-container-id-1 div.sk-label input.sk-toggleable__control:checked~label.sk-toggleable__label {background-color: #d4ebff;}#sk-container-id-1 input.sk-hidden--visually {border: 0;clip: rect(1px 1px 1px 1px);clip: rect(1px, 1px, 1px, 1px);height: 1px;margin: -1px;overflow: hidden;padding: 0;position: absolute;width: 1px;}#sk-container-id-1 div.sk-estimator {font-family: monospace;background-color: #f0f8ff;border: 1px dotted black;border-radius: 0.25em;box-sizing: border-box;margin-bottom: 0.5em;}#sk-container-id-1 div.sk-estimator:hover {background-color: #d4ebff;}#sk-container-id-1 div.sk-parallel-item::after {content: \"\";width: 100%;border-bottom: 1px solid gray;flex-grow: 1;}#sk-container-id-1 div.sk-label:hover label.sk-toggleable__label {background-color: #d4ebff;}#sk-container-id-1 div.sk-serial::before {content: \"\";position: absolute;border-left: 1px solid gray;box-sizing: border-box;top: 0;bottom: 0;left: 50%;z-index: 0;}#sk-container-id-1 div.sk-serial {display: flex;flex-direction: column;align-items: center;background-color: white;padding-right: 0.2em;padding-left: 0.2em;position: relative;}#sk-container-id-1 div.sk-item {position: relative;z-index: 1;}#sk-container-id-1 div.sk-parallel {display: flex;align-items: stretch;justify-content: center;background-color: white;position: relative;}#sk-container-id-1 div.sk-item::before, #sk-container-id-1 div.sk-parallel-item::before {content: \"\";position: absolute;border-left: 1px solid gray;box-sizing: border-box;top: 0;bottom: 0;left: 50%;z-index: -1;}#sk-container-id-1 div.sk-parallel-item {display: flex;flex-direction: column;z-index: 1;position: relative;background-color: white;}#sk-container-id-1 div.sk-parallel-item:first-child::after {align-self: flex-end;width: 50%;}#sk-container-id-1 div.sk-parallel-item:last-child::after {align-self: flex-start;width: 50%;}#sk-container-id-1 div.sk-parallel-item:only-child::after {width: 0;}#sk-container-id-1 div.sk-dashed-wrapped {border: 1px dashed gray;margin: 0 0.4em 0.5em 0.4em;box-sizing: border-box;padding-bottom: 0.4em;background-color: white;}#sk-container-id-1 div.sk-label label {font-family: monospace;font-weight: bold;display: inline-block;line-height: 1.2em;}#sk-container-id-1 div.sk-label-container {text-align: center;}#sk-container-id-1 div.sk-container {/* jupyter's `normalize.less` sets `[hidden] { display: none; }` but bootstrap.min.css set `[hidden] { display: none !important; }` so we also need the `!important` here to be able to override the default hidden behavior on the sphinx rendered scikit-learn.org. See: https://github.com/scikit-learn/scikit-learn/issues/21755 */display: inline-block !important;position: relative;}#sk-container-id-1 div.sk-text-repr-fallback {display: none;}</style><div id=\"sk-container-id-1\" class=\"sk-top-container\"><div class=\"sk-text-repr-fallback\"><pre>Pipeline(steps=[(&#x27;scale&#x27;, None), (&#x27;model&#x27;, GradientBoostingClassifier())])</pre><b>In a Jupyter environment, please rerun this cell to show the HTML representation or trust the notebook. <br />On GitHub, the HTML representation is unable to render, please try loading this page with nbviewer.org.</b></div><div class=\"sk-container\" hidden><div class=\"sk-item sk-dashed-wrapped\"><div class=\"sk-label-container\"><div class=\"sk-label sk-toggleable\"><input class=\"sk-toggleable__control sk-hidden--visually\" id=\"sk-estimator-id-1\" type=\"checkbox\" ><label for=\"sk-estimator-id-1\" class=\"sk-toggleable__label sk-toggleable__label-arrow\">Pipeline</label><div class=\"sk-toggleable__content\"><pre>Pipeline(steps=[(&#x27;scale&#x27;, None), (&#x27;model&#x27;, GradientBoostingClassifier())])</pre></div></div></div><div class=\"sk-serial\"><div class=\"sk-item\"><div class=\"sk-estimator sk-toggleable\"><input class=\"sk-toggleable__control sk-hidden--visually\" id=\"sk-estimator-id-2\" type=\"checkbox\" ><label for=\"sk-estimator-id-2\" class=\"sk-toggleable__label sk-toggleable__label-arrow\">None</label><div class=\"sk-toggleable__content\"><pre>None</pre></div></div></div><div class=\"sk-item\"><div class=\"sk-estimator sk-toggleable\"><input class=\"sk-toggleable__control sk-hidden--visually\" id=\"sk-estimator-id-3\" type=\"checkbox\" ><label for=\"sk-estimator-id-3\" class=\"sk-toggleable__label sk-toggleable__label-arrow\">GradientBoostingClassifier</label><div class=\"sk-toggleable__content\"><pre>GradientBoostingClassifier()</pre></div></div></div></div></div></div></div>"
      ],
      "text/plain": [
       "Pipeline(steps=[('scale', None), ('model', GradientBoostingClassifier())])"
      ]
     },
     "execution_count": 36,
     "metadata": {},
     "output_type": "execute_result"
    }
   ],
   "source": [
    "model.fit(X_train, y_train.values.ravel())"
   ]
  },
  {
   "cell_type": "code",
   "execution_count": 37,
   "id": "af59f8c0",
   "metadata": {
    "execution": {
     "iopub.execute_input": "2025-07-28T10:51:01.771433Z",
     "iopub.status.busy": "2025-07-28T10:51:01.770905Z",
     "iopub.status.idle": "2025-07-28T10:51:01.776810Z",
     "shell.execute_reply": "2025-07-28T10:51:01.775708Z"
    },
    "papermill": {
     "duration": 0.034001,
     "end_time": "2025-07-28T10:51:01.779269",
     "exception": false,
     "start_time": "2025-07-28T10:51:01.745268",
     "status": "completed"
    },
    "tags": []
   },
   "outputs": [],
   "source": [
    "from fairness_multiverse.universe import predict_w_threshold"
   ]
  },
  {
   "cell_type": "code",
   "execution_count": 38,
   "id": "a7cf2e16",
   "metadata": {
    "execution": {
     "iopub.execute_input": "2025-07-28T10:51:01.829458Z",
     "iopub.status.busy": "2025-07-28T10:51:01.828740Z",
     "iopub.status.idle": "2025-07-28T10:51:02.514796Z",
     "shell.execute_reply": "2025-07-28T10:51:02.513679Z"
    },
    "papermill": {
     "duration": 0.712045,
     "end_time": "2025-07-28T10:51:02.516570",
     "exception": false,
     "start_time": "2025-07-28T10:51:01.804525",
     "status": "completed"
    },
    "tags": []
   },
   "outputs": [
    {
     "data": {
      "text/plain": [
       "0.8304536840931892"
      ]
     },
     "execution_count": 38,
     "metadata": {},
     "output_type": "execute_result"
    }
   ],
   "source": [
    "probs_test = model.predict_proba(X_test)\n",
    "\n",
    "'''\n",
    "Below code returns a boolean array (or binary 0/1 array depending on how it’s used) where each element \n",
    "is True if the probability of class 1 is greater than or equal to the threshold, and False otherwise.\n",
    "'''\n",
    "y_pred_default = predict_w_threshold(probs_test, 0.5)\n",
    "\n",
    "from sklearn.metrics import accuracy_score\n",
    "\n",
    "# Naive prediction\n",
    "accuracy_score(y_true = y_true, y_pred = y_pred_default)"
   ]
  },
  {
   "cell_type": "code",
   "execution_count": 39,
   "id": "081964c3",
   "metadata": {
    "execution": {
     "iopub.execute_input": "2025-07-28T10:51:02.565051Z",
     "iopub.status.busy": "2025-07-28T10:51:02.564010Z",
     "iopub.status.idle": "2025-07-28T10:51:03.220575Z",
     "shell.execute_reply": "2025-07-28T10:51:03.219341Z"
    },
    "papermill": {
     "duration": 0.682324,
     "end_time": "2025-07-28T10:51:03.222468",
     "exception": false,
     "start_time": "2025-07-28T10:51:02.540144",
     "status": "completed"
    },
    "tags": []
   },
   "outputs": [
    {
     "data": {
      "text/plain": [
       "array([0, 0, 0, ..., 1, 0, 0])"
      ]
     },
     "execution_count": 39,
     "metadata": {},
     "output_type": "execute_result"
    }
   ],
   "source": [
    "model.predict(X_test)"
   ]
  },
  {
   "cell_type": "markdown",
   "id": "56c9705b",
   "metadata": {
    "papermill": {
     "duration": 0.02345,
     "end_time": "2025-07-28T10:51:03.270487",
     "exception": false,
     "start_time": "2025-07-28T10:51:03.247037",
     "status": "completed"
    },
    "tags": []
   },
   "source": [
    "# Conformal Prediction"
   ]
  },
  {
   "cell_type": "code",
   "execution_count": 40,
   "id": "160ec6ff",
   "metadata": {
    "execution": {
     "iopub.execute_input": "2025-07-28T10:51:03.321703Z",
     "iopub.status.busy": "2025-07-28T10:51:03.320799Z",
     "iopub.status.idle": "2025-07-28T10:51:03.326042Z",
     "shell.execute_reply": "2025-07-28T10:51:03.325048Z"
    },
    "papermill": {
     "duration": 0.032767,
     "end_time": "2025-07-28T10:51:03.327769",
     "exception": false,
     "start_time": "2025-07-28T10:51:03.295002",
     "status": "completed"
    },
    "tags": []
   },
   "outputs": [],
   "source": [
    "# Miscoverage level for conformal prediction (10% allowed error rate => 90% target coverage)\n",
    "alpha = 0.1"
   ]
  },
  {
   "cell_type": "code",
   "execution_count": 41,
   "id": "eadf4555-3dd3-440e-8e35-f82a4ad9f855",
   "metadata": {
    "execution": {
     "iopub.execute_input": "2025-07-28T10:51:03.378820Z",
     "iopub.status.busy": "2025-07-28T10:51:03.378238Z",
     "iopub.status.idle": "2025-07-28T10:51:03.873290Z",
     "shell.execute_reply": "2025-07-28T10:51:03.872469Z"
    },
    "papermill": {
     "duration": 0.523148,
     "end_time": "2025-07-28T10:51:03.875340",
     "exception": false,
     "start_time": "2025-07-28T10:51:03.352192",
     "status": "completed"
    },
    "tags": []
   },
   "outputs": [],
   "source": [
    "probs_calib = model.predict_proba(X_calib)"
   ]
  },
  {
   "cell_type": "code",
   "execution_count": 42,
   "id": "2ed93547-6d5d-4983-9b36-1ecb300da49a",
   "metadata": {
    "execution": {
     "iopub.execute_input": "2025-07-28T10:51:03.927546Z",
     "iopub.status.busy": "2025-07-28T10:51:03.926823Z",
     "iopub.status.idle": "2025-07-28T10:51:03.933432Z",
     "shell.execute_reply": "2025-07-28T10:51:03.932424Z"
    },
    "papermill": {
     "duration": 0.034908,
     "end_time": "2025-07-28T10:51:03.935170",
     "exception": false,
     "start_time": "2025-07-28T10:51:03.900262",
     "status": "completed"
    },
    "tags": []
   },
   "outputs": [],
   "source": [
    "y_calib = y_calib.values.ravel().astype(int)"
   ]
  },
  {
   "cell_type": "code",
   "execution_count": 43,
   "id": "65d1320d-f588-4b38-9072-62af1ae97f7d",
   "metadata": {
    "execution": {
     "iopub.execute_input": "2025-07-28T10:51:03.985752Z",
     "iopub.status.busy": "2025-07-28T10:51:03.985042Z",
     "iopub.status.idle": "2025-07-28T10:51:03.992727Z",
     "shell.execute_reply": "2025-07-28T10:51:03.991748Z"
    },
    "papermill": {
     "duration": 0.034399,
     "end_time": "2025-07-28T10:51:03.994482",
     "exception": false,
     "start_time": "2025-07-28T10:51:03.960083",
     "status": "completed"
    },
    "tags": []
   },
   "outputs": [],
   "source": [
    "from fairness_multiverse.conformal import compute_nc_scores\n",
    "\n",
    "# Compute nonconformity scores on calibration set (1 - probability of true class)\n",
    "nc_scores = compute_nc_scores(probs_calib, y_calib)"
   ]
  },
  {
   "cell_type": "code",
   "execution_count": 44,
   "id": "df3b8ca3-53b7-43d5-9667-7c85da7aeda2",
   "metadata": {
    "execution": {
     "iopub.execute_input": "2025-07-28T10:51:04.045150Z",
     "iopub.status.busy": "2025-07-28T10:51:04.044424Z",
     "iopub.status.idle": "2025-07-28T10:51:04.051796Z",
     "shell.execute_reply": "2025-07-28T10:51:04.050714Z"
    },
    "papermill": {
     "duration": 0.034267,
     "end_time": "2025-07-28T10:51:04.053614",
     "exception": false,
     "start_time": "2025-07-28T10:51:04.019347",
     "status": "completed"
    },
    "tags": []
   },
   "outputs": [],
   "source": [
    "from fairness_multiverse.conformal import find_threshold\n",
    "\n",
    "# Find conformal threshold q_hat for the given alpha (split conformal method)\n",
    "q_hat = find_threshold(nc_scores, alpha)"
   ]
  },
  {
   "cell_type": "code",
   "execution_count": 45,
   "id": "4d29e6c1-0ef6-4aa4-b8fe-4fe79b0d033a",
   "metadata": {
    "execution": {
     "iopub.execute_input": "2025-07-28T10:51:04.104105Z",
     "iopub.status.busy": "2025-07-28T10:51:04.103439Z",
     "iopub.status.idle": "2025-07-28T10:51:04.111098Z",
     "shell.execute_reply": "2025-07-28T10:51:04.109818Z"
    },
    "papermill": {
     "duration": 0.034487,
     "end_time": "2025-07-28T10:51:04.112721",
     "exception": false,
     "start_time": "2025-07-28T10:51:04.078234",
     "status": "completed"
    },
    "tags": []
   },
   "outputs": [
    {
     "data": {
      "text/plain": [
       "0.7593369842495312"
      ]
     },
     "execution_count": 45,
     "metadata": {},
     "output_type": "execute_result"
    }
   ],
   "source": [
    "q_hat"
   ]
  },
  {
   "cell_type": "code",
   "execution_count": 46,
   "id": "92460794-cdac-4be2-ba28-f28c0515a6fb",
   "metadata": {
    "execution": {
     "iopub.execute_input": "2025-07-28T10:51:04.163257Z",
     "iopub.status.busy": "2025-07-28T10:51:04.162654Z",
     "iopub.status.idle": "2025-07-28T10:51:05.498327Z",
     "shell.execute_reply": "2025-07-28T10:51:05.497324Z"
    },
    "papermill": {
     "duration": 1.363259,
     "end_time": "2025-07-28T10:51:05.500311",
     "exception": false,
     "start_time": "2025-07-28T10:51:04.137052",
     "status": "completed"
    },
    "tags": []
   },
   "outputs": [],
   "source": [
    "from fairness_multiverse.conformal import predict_conformal_sets\n",
    "\n",
    "# Generate prediction sets for each test example\n",
    "pred_sets = predict_conformal_sets(model, X_test, q_hat)"
   ]
  },
  {
   "cell_type": "code",
   "execution_count": 47,
   "id": "d90c9a65-e6db-4f5d-80cd-e68fb7e46829",
   "metadata": {
    "execution": {
     "iopub.execute_input": "2025-07-28T10:51:05.550769Z",
     "iopub.status.busy": "2025-07-28T10:51:05.550302Z",
     "iopub.status.idle": "2025-07-28T10:51:05.556256Z",
     "shell.execute_reply": "2025-07-28T10:51:05.555192Z"
    },
    "papermill": {
     "duration": 0.033001,
     "end_time": "2025-07-28T10:51:05.557917",
     "exception": false,
     "start_time": "2025-07-28T10:51:05.524916",
     "status": "completed"
    },
    "tags": []
   },
   "outputs": [],
   "source": [
    "y_true = y_true.squeeze()"
   ]
  },
  {
   "cell_type": "code",
   "execution_count": 48,
   "id": "3a58a54a-1e68-46b9-927a-df01f18aebc8",
   "metadata": {
    "execution": {
     "iopub.execute_input": "2025-07-28T10:51:05.607718Z",
     "iopub.status.busy": "2025-07-28T10:51:05.607018Z",
     "iopub.status.idle": "2025-07-28T10:51:06.557434Z",
     "shell.execute_reply": "2025-07-28T10:51:06.556408Z"
    },
    "papermill": {
     "duration": 0.9771,
     "end_time": "2025-07-28T10:51:06.559618",
     "exception": false,
     "start_time": "2025-07-28T10:51:05.582518",
     "status": "completed"
    },
    "tags": []
   },
   "outputs": [],
   "source": [
    "from fairness_multiverse.conformal import evaluate_sets\n",
    "\n",
    "# Evaluate coverage and average set size on test data\n",
    "metrics = evaluate_sets(pred_sets, y_true)"
   ]
  },
  {
   "cell_type": "markdown",
   "id": "2b569c12-9aaa-4c88-98c9-bbcd0cf3ebb8",
   "metadata": {
    "papermill": {
     "duration": 0.024104,
     "end_time": "2025-07-28T10:51:06.609364",
     "exception": false,
     "start_time": "2025-07-28T10:51:06.585260",
     "status": "completed"
    },
    "tags": []
   },
   "source": [
    "# CP Metrics"
   ]
  },
  {
   "cell_type": "code",
   "execution_count": 49,
   "id": "5ce0a5cb-201f-45a0-ade5-94c7f0bd6095",
   "metadata": {
    "execution": {
     "iopub.execute_input": "2025-07-28T10:51:06.660882Z",
     "iopub.status.busy": "2025-07-28T10:51:06.660341Z",
     "iopub.status.idle": "2025-07-28T10:51:06.667864Z",
     "shell.execute_reply": "2025-07-28T10:51:06.666828Z"
    },
    "papermill": {
     "duration": 0.035332,
     "end_time": "2025-07-28T10:51:06.669458",
     "exception": false,
     "start_time": "2025-07-28T10:51:06.634126",
     "status": "completed"
    },
    "tags": []
   },
   "outputs": [
    {
     "data": {
      "text/plain": [
       "{'coverage': 0.909653327388251, 'avg_size': 1.186500947497492}"
      ]
     },
     "execution_count": 49,
     "metadata": {},
     "output_type": "execute_result"
    }
   ],
   "source": [
    "metrics"
   ]
  },
  {
   "cell_type": "code",
   "execution_count": 50,
   "id": "9b9a838d-31c9-430b-ae14-12baee460d17",
   "metadata": {
    "execution": {
     "iopub.execute_input": "2025-07-28T10:51:06.720659Z",
     "iopub.status.busy": "2025-07-28T10:51:06.720221Z",
     "iopub.status.idle": "2025-07-28T10:51:06.727170Z",
     "shell.execute_reply": "2025-07-28T10:51:06.726128Z"
    },
    "papermill": {
     "duration": 0.035301,
     "end_time": "2025-07-28T10:51:06.728905",
     "exception": false,
     "start_time": "2025-07-28T10:51:06.693604",
     "status": "completed"
    },
    "tags": []
   },
   "outputs": [],
   "source": [
    "example_universe = universe.copy()\n",
    "universe_training_size = example_universe.get(\"training_size\")\n",
    "universe_scale = example_universe.get(\"scale\")\n",
    "universe_model = example_universe.get(\"model\")\n",
    "universe_exclude_features = example_universe.get(\"exclude_features\")\n",
    "universe_exclude_subgroups = example_universe.get(\"exclude_subgroups\")"
   ]
  },
  {
   "cell_type": "code",
   "execution_count": 51,
   "id": "f4b6a8ac-9dc0-4245-8a91-5b3b5999c4f9",
   "metadata": {
    "execution": {
     "iopub.execute_input": "2025-07-28T10:51:06.781447Z",
     "iopub.status.busy": "2025-07-28T10:51:06.780471Z",
     "iopub.status.idle": "2025-07-28T10:51:06.787928Z",
     "shell.execute_reply": "2025-07-28T10:51:06.786865Z"
    },
    "papermill": {
     "duration": 0.036179,
     "end_time": "2025-07-28T10:51:06.789810",
     "exception": false,
     "start_time": "2025-07-28T10:51:06.753631",
     "status": "completed"
    },
    "tags": []
   },
   "outputs": [],
   "source": [
    "cp_metrics_dict = {\n",
    "    \"universe_id\": [universe_id],\n",
    "    \"universe_training_size\": [universe_training_size],\n",
    "    \"universe_scale\": [universe_scale],\n",
    "    \"universe_model\": [universe_model],\n",
    "    \"universe_exclude_features\": [universe_exclude_features],\n",
    "    \"universe_exclude_subgroups\": [universe_exclude_subgroups],\n",
    "    \"q_hat\": [q_hat],\n",
    "    \"coverage\": [metrics[\"coverage\"]],\n",
    "    \"avg_size\": [metrics[\"avg_size\"]],\n",
    "}"
   ]
  },
  {
   "cell_type": "code",
   "execution_count": 52,
   "id": "908acbb1-0371-4915-85ca-3fa520d2efe2",
   "metadata": {
    "execution": {
     "iopub.execute_input": "2025-07-28T10:51:06.842834Z",
     "iopub.status.busy": "2025-07-28T10:51:06.842252Z",
     "iopub.status.idle": "2025-07-28T10:51:06.850545Z",
     "shell.execute_reply": "2025-07-28T10:51:06.849516Z"
    },
    "papermill": {
     "duration": 0.036428,
     "end_time": "2025-07-28T10:51:06.852177",
     "exception": false,
     "start_time": "2025-07-28T10:51:06.815749",
     "status": "completed"
    },
    "tags": []
   },
   "outputs": [
    {
     "data": {
      "text/plain": [
       "{'universe_id': ['cd41aa4635906d57f2228d80a389a755'],\n",
       " 'universe_training_size': ['1k'],\n",
       " 'universe_scale': ['do-not-scale'],\n",
       " 'universe_model': ['gbm'],\n",
       " 'universe_exclude_features': ['nationality'],\n",
       " 'universe_exclude_subgroups': ['keep-all'],\n",
       " 'q_hat': [0.7593369842495312],\n",
       " 'coverage': [0.909653327388251],\n",
       " 'avg_size': [1.186500947497492]}"
      ]
     },
     "execution_count": 52,
     "metadata": {},
     "output_type": "execute_result"
    }
   ],
   "source": [
    "cp_metrics_dict"
   ]
  },
  {
   "cell_type": "code",
   "execution_count": 53,
   "id": "33007efc-14e9-4ec6-97ac-56a455c82265",
   "metadata": {
    "execution": {
     "iopub.execute_input": "2025-07-28T10:51:06.904893Z",
     "iopub.status.busy": "2025-07-28T10:51:06.904172Z",
     "iopub.status.idle": "2025-07-28T10:51:06.911546Z",
     "shell.execute_reply": "2025-07-28T10:51:06.910496Z"
    },
    "papermill": {
     "duration": 0.035203,
     "end_time": "2025-07-28T10:51:06.913402",
     "exception": false,
     "start_time": "2025-07-28T10:51:06.878199",
     "status": "completed"
    },
    "tags": []
   },
   "outputs": [],
   "source": [
    "cp_metrics_df = pd.DataFrame(cp_metrics_dict)"
   ]
  },
  {
   "cell_type": "code",
   "execution_count": 54,
   "id": "db12611b-57b2-4910-b9d0-355adfd6e7bf",
   "metadata": {
    "execution": {
     "iopub.execute_input": "2025-07-28T10:51:06.966780Z",
     "iopub.status.busy": "2025-07-28T10:51:06.966067Z",
     "iopub.status.idle": "2025-07-28T10:51:06.984584Z",
     "shell.execute_reply": "2025-07-28T10:51:06.983585Z"
    },
    "papermill": {
     "duration": 0.046701,
     "end_time": "2025-07-28T10:51:06.986408",
     "exception": false,
     "start_time": "2025-07-28T10:51:06.939707",
     "status": "completed"
    },
    "tags": []
   },
   "outputs": [
    {
     "data": {
      "text/html": [
       "<div>\n",
       "<style scoped>\n",
       "    .dataframe tbody tr th:only-of-type {\n",
       "        vertical-align: middle;\n",
       "    }\n",
       "\n",
       "    .dataframe tbody tr th {\n",
       "        vertical-align: top;\n",
       "    }\n",
       "\n",
       "    .dataframe thead th {\n",
       "        text-align: right;\n",
       "    }\n",
       "</style>\n",
       "<table border=\"1\" class=\"dataframe\">\n",
       "  <thead>\n",
       "    <tr style=\"text-align: right;\">\n",
       "      <th></th>\n",
       "      <th>universe_id</th>\n",
       "      <th>universe_training_size</th>\n",
       "      <th>universe_scale</th>\n",
       "      <th>universe_model</th>\n",
       "      <th>universe_exclude_features</th>\n",
       "      <th>universe_exclude_subgroups</th>\n",
       "      <th>q_hat</th>\n",
       "      <th>coverage</th>\n",
       "      <th>avg_size</th>\n",
       "    </tr>\n",
       "  </thead>\n",
       "  <tbody>\n",
       "    <tr>\n",
       "      <th>0</th>\n",
       "      <td>cd41aa4635906d57f2228d80a389a755</td>\n",
       "      <td>1k</td>\n",
       "      <td>do-not-scale</td>\n",
       "      <td>gbm</td>\n",
       "      <td>nationality</td>\n",
       "      <td>keep-all</td>\n",
       "      <td>0.759337</td>\n",
       "      <td>0.909653</td>\n",
       "      <td>1.186501</td>\n",
       "    </tr>\n",
       "  </tbody>\n",
       "</table>\n",
       "</div>"
      ],
      "text/plain": [
       "                        universe_id universe_training_size universe_scale  \\\n",
       "0  cd41aa4635906d57f2228d80a389a755                     1k   do-not-scale   \n",
       "\n",
       "  universe_model universe_exclude_features universe_exclude_subgroups  \\\n",
       "0            gbm               nationality                   keep-all   \n",
       "\n",
       "      q_hat  coverage  avg_size  \n",
       "0  0.759337  0.909653  1.186501  "
      ]
     },
     "execution_count": 54,
     "metadata": {},
     "output_type": "execute_result"
    }
   ],
   "source": [
    "cp_metrics_df"
   ]
  },
  {
   "cell_type": "code",
   "execution_count": 55,
   "id": "b7fbde55-a0a1-47e4-9af6-fe4a17fa8c61",
   "metadata": {
    "execution": {
     "iopub.execute_input": "2025-07-28T10:51:07.035499Z",
     "iopub.status.busy": "2025-07-28T10:51:07.034869Z",
     "iopub.status.idle": "2025-07-28T10:51:07.040696Z",
     "shell.execute_reply": "2025-07-28T10:51:07.039385Z"
    },
    "papermill": {
     "duration": 0.032,
     "end_time": "2025-07-28T10:51:07.042428",
     "exception": false,
     "start_time": "2025-07-28T10:51:07.010428",
     "status": "completed"
    },
    "tags": []
   },
   "outputs": [],
   "source": [
    "# Conditional Coverage & looking at subgroups"
   ]
  },
  {
   "cell_type": "code",
   "execution_count": 56,
   "id": "027ae886-68dd-4141-96c7-805a5450e1ef",
   "metadata": {
    "execution": {
     "iopub.execute_input": "2025-07-28T10:51:07.097403Z",
     "iopub.status.busy": "2025-07-28T10:51:07.096632Z",
     "iopub.status.idle": "2025-07-28T10:51:07.385941Z",
     "shell.execute_reply": "2025-07-28T10:51:07.384815Z"
    },
    "papermill": {
     "duration": 0.318673,
     "end_time": "2025-07-28T10:51:07.388150",
     "exception": false,
     "start_time": "2025-07-28T10:51:07.069477",
     "status": "completed"
    },
    "tags": []
   },
   "outputs": [],
   "source": [
    "from fairness_multiverse.conformal import build_cp_groups\n",
    "\n",
    "cp_groups_df = build_cp_groups(pred_sets, y_true, X_test.index, org_test)\n",
    "#needs universe_id and setting"
   ]
  },
  {
   "cell_type": "code",
   "execution_count": 57,
   "id": "01d5802c-663a-4d1f-9d69-e036faaffbf7",
   "metadata": {
    "execution": {
     "iopub.execute_input": "2025-07-28T10:51:07.445785Z",
     "iopub.status.busy": "2025-07-28T10:51:07.445057Z",
     "iopub.status.idle": "2025-07-28T10:51:07.450590Z",
     "shell.execute_reply": "2025-07-28T10:51:07.449477Z"
    },
    "papermill": {
     "duration": 0.035887,
     "end_time": "2025-07-28T10:51:07.452521",
     "exception": false,
     "start_time": "2025-07-28T10:51:07.416634",
     "status": "completed"
    },
    "tags": []
   },
   "outputs": [],
   "source": [
    "#delete\n",
    "#cp_groups_df"
   ]
  },
  {
   "cell_type": "code",
   "execution_count": 58,
   "id": "fa424af1-d1eb-443d-b717-2d279ada8408",
   "metadata": {
    "execution": {
     "iopub.execute_input": "2025-07-28T10:51:07.510179Z",
     "iopub.status.busy": "2025-07-28T10:51:07.509143Z",
     "iopub.status.idle": "2025-07-28T10:51:07.514794Z",
     "shell.execute_reply": "2025-07-28T10:51:07.513786Z"
    },
    "papermill": {
     "duration": 0.036399,
     "end_time": "2025-07-28T10:51:07.516650",
     "exception": false,
     "start_time": "2025-07-28T10:51:07.480251",
     "status": "completed"
    },
    "tags": []
   },
   "outputs": [],
   "source": [
    "#delete\n",
    "#percentage = (cp_groups_df['nongerman_female'] == 1).mean() * 100\n",
    "#print(percentage)\n"
   ]
  },
  {
   "cell_type": "code",
   "execution_count": 59,
   "id": "6cbdab96-b2b2-45af-ad54-d0516db2e28d",
   "metadata": {
    "execution": {
     "iopub.execute_input": "2025-07-28T10:51:07.572444Z",
     "iopub.status.busy": "2025-07-28T10:51:07.571926Z",
     "iopub.status.idle": "2025-07-28T10:51:09.126854Z",
     "shell.execute_reply": "2025-07-28T10:51:09.126018Z"
    },
    "papermill": {
     "duration": 1.583748,
     "end_time": "2025-07-28T10:51:09.128458",
     "exception": false,
     "start_time": "2025-07-28T10:51:07.544710",
     "status": "completed"
    },
    "tags": []
   },
   "outputs": [],
   "source": [
    "# Define covered = 1 if true_label is in the predicted set\n",
    "cp_groups_df['covered'] = cp_groups_df.apply(\n",
    "    lambda r: int(r['true_label'] in r['pred_set']),\n",
    "    axis=1\n",
    ")"
   ]
  },
  {
   "cell_type": "code",
   "execution_count": 60,
   "id": "338ff529-1a6b-4b87-a931-8e4788d52aad",
   "metadata": {
    "execution": {
     "iopub.execute_input": "2025-07-28T10:51:09.156649Z",
     "iopub.status.busy": "2025-07-28T10:51:09.156236Z",
     "iopub.status.idle": "2025-07-28T10:51:09.160649Z",
     "shell.execute_reply": "2025-07-28T10:51:09.159707Z"
    },
    "papermill": {
     "duration": 0.020053,
     "end_time": "2025-07-28T10:51:09.162206",
     "exception": false,
     "start_time": "2025-07-28T10:51:09.142153",
     "status": "completed"
    },
    "tags": []
   },
   "outputs": [],
   "source": [
    "#cp_groups_df"
   ]
  },
  {
   "cell_type": "code",
   "execution_count": 61,
   "id": "90032e27-66df-4540-9169-4e89cfbaa758",
   "metadata": {
    "execution": {
     "iopub.execute_input": "2025-07-28T10:51:09.217365Z",
     "iopub.status.busy": "2025-07-28T10:51:09.216856Z",
     "iopub.status.idle": "2025-07-28T10:51:09.229237Z",
     "shell.execute_reply": "2025-07-28T10:51:09.228072Z"
    },
    "papermill": {
     "duration": 0.040207,
     "end_time": "2025-07-28T10:51:09.231297",
     "exception": false,
     "start_time": "2025-07-28T10:51:09.191090",
     "status": "completed"
    },
    "tags": []
   },
   "outputs": [],
   "source": [
    "subgroups = ['frau1','nongerman','nongerman_male','nongerman_female']\n",
    "\n",
    "# Conditional coverage for subgroup==1\n",
    "cond_coverage = {\n",
    "    g: cp_groups_df.loc[cp_groups_df[g]==1, 'covered'].mean()\n",
    "    for g in subgroups\n",
    "}"
   ]
  },
  {
   "cell_type": "code",
   "execution_count": 62,
   "id": "1e348fb1-b9c3-45bc-ba23-f016827a7e0d",
   "metadata": {
    "execution": {
     "iopub.execute_input": "2025-07-28T10:51:09.285230Z",
     "iopub.status.busy": "2025-07-28T10:51:09.284944Z",
     "iopub.status.idle": "2025-07-28T10:51:09.293253Z",
     "shell.execute_reply": "2025-07-28T10:51:09.292450Z"
    },
    "papermill": {
     "duration": 0.035909,
     "end_time": "2025-07-28T10:51:09.294489",
     "exception": false,
     "start_time": "2025-07-28T10:51:09.258580",
     "status": "completed"
    },
    "tags": []
   },
   "outputs": [
    {
     "data": {
      "text/plain": [
       "{'frau1': 0.9079660331581075,\n",
       " 'nongerman': 0.9095604333913434,\n",
       " 'nongerman_male': 0.9266864811312258,\n",
       " 'nongerman_female': 0.8812220566318927}"
      ]
     },
     "execution_count": 62,
     "metadata": {},
     "output_type": "execute_result"
    }
   ],
   "source": [
    "cond_coverage"
   ]
  },
  {
   "cell_type": "code",
   "execution_count": 63,
   "id": "f5093324-c3dd-4d63-bc4c-8d945e5c8bbb",
   "metadata": {
    "execution": {
     "iopub.execute_input": "2025-07-28T10:51:09.322902Z",
     "iopub.status.busy": "2025-07-28T10:51:09.322206Z",
     "iopub.status.idle": "2025-07-28T10:51:09.431292Z",
     "shell.execute_reply": "2025-07-28T10:51:09.430510Z"
    },
    "papermill": {
     "duration": 0.125059,
     "end_time": "2025-07-28T10:51:09.433038",
     "exception": false,
     "start_time": "2025-07-28T10:51:09.307979",
     "status": "completed"
    },
    "tags": []
   },
   "outputs": [],
   "source": [
    "for subgroup, cov in cond_coverage.items():\n",
    "    cp_metrics_df[f\"cov_{subgroup}\"] = cov"
   ]
  },
  {
   "cell_type": "code",
   "execution_count": 64,
   "id": "6e872e10-dbe5-49e8-b554-5030c98ff75d",
   "metadata": {
    "execution": {
     "iopub.execute_input": "2025-07-28T10:51:09.464206Z",
     "iopub.status.busy": "2025-07-28T10:51:09.463811Z",
     "iopub.status.idle": "2025-07-28T10:51:09.478674Z",
     "shell.execute_reply": "2025-07-28T10:51:09.477879Z"
    },
    "papermill": {
     "duration": 0.031168,
     "end_time": "2025-07-28T10:51:09.480295",
     "exception": false,
     "start_time": "2025-07-28T10:51:09.449127",
     "status": "completed"
    },
    "tags": []
   },
   "outputs": [
    {
     "data": {
      "text/html": [
       "<div>\n",
       "<style scoped>\n",
       "    .dataframe tbody tr th:only-of-type {\n",
       "        vertical-align: middle;\n",
       "    }\n",
       "\n",
       "    .dataframe tbody tr th {\n",
       "        vertical-align: top;\n",
       "    }\n",
       "\n",
       "    .dataframe thead th {\n",
       "        text-align: right;\n",
       "    }\n",
       "</style>\n",
       "<table border=\"1\" class=\"dataframe\">\n",
       "  <thead>\n",
       "    <tr style=\"text-align: right;\">\n",
       "      <th></th>\n",
       "      <th>universe_id</th>\n",
       "      <th>universe_training_size</th>\n",
       "      <th>universe_scale</th>\n",
       "      <th>universe_model</th>\n",
       "      <th>universe_exclude_features</th>\n",
       "      <th>universe_exclude_subgroups</th>\n",
       "      <th>q_hat</th>\n",
       "      <th>coverage</th>\n",
       "      <th>avg_size</th>\n",
       "      <th>cov_frau1</th>\n",
       "      <th>cov_nongerman</th>\n",
       "      <th>cov_nongerman_male</th>\n",
       "      <th>cov_nongerman_female</th>\n",
       "    </tr>\n",
       "  </thead>\n",
       "  <tbody>\n",
       "    <tr>\n",
       "      <th>0</th>\n",
       "      <td>cd41aa4635906d57f2228d80a389a755</td>\n",
       "      <td>1k</td>\n",
       "      <td>do-not-scale</td>\n",
       "      <td>gbm</td>\n",
       "      <td>nationality</td>\n",
       "      <td>keep-all</td>\n",
       "      <td>0.759337</td>\n",
       "      <td>0.909653</td>\n",
       "      <td>1.186501</td>\n",
       "      <td>0.907966</td>\n",
       "      <td>0.90956</td>\n",
       "      <td>0.926686</td>\n",
       "      <td>0.881222</td>\n",
       "    </tr>\n",
       "  </tbody>\n",
       "</table>\n",
       "</div>"
      ],
      "text/plain": [
       "                        universe_id universe_training_size universe_scale  \\\n",
       "0  cd41aa4635906d57f2228d80a389a755                     1k   do-not-scale   \n",
       "\n",
       "  universe_model universe_exclude_features universe_exclude_subgroups  \\\n",
       "0            gbm               nationality                   keep-all   \n",
       "\n",
       "      q_hat  coverage  avg_size  cov_frau1  cov_nongerman  cov_nongerman_male  \\\n",
       "0  0.759337  0.909653  1.186501   0.907966        0.90956            0.926686   \n",
       "\n",
       "   cov_nongerman_female  \n",
       "0              0.881222  "
      ]
     },
     "execution_count": 64,
     "metadata": {},
     "output_type": "execute_result"
    }
   ],
   "source": [
    "cp_metrics_df"
   ]
  },
  {
   "cell_type": "markdown",
   "id": "33774451",
   "metadata": {
    "papermill": {
     "duration": 0.013821,
     "end_time": "2025-07-28T10:51:09.519166",
     "exception": false,
     "start_time": "2025-07-28T10:51:09.505345",
     "status": "completed"
    },
    "tags": []
   },
   "source": [
    "# (Fairness) Metrics"
   ]
  },
  {
   "cell_type": "code",
   "execution_count": 65,
   "id": "debc5d62",
   "metadata": {
    "execution": {
     "iopub.execute_input": "2025-07-28T10:51:09.547878Z",
     "iopub.status.busy": "2025-07-28T10:51:09.547271Z",
     "iopub.status.idle": "2025-07-28T10:51:09.569689Z",
     "shell.execute_reply": "2025-07-28T10:51:09.568560Z"
    },
    "papermill": {
     "duration": 0.038427,
     "end_time": "2025-07-28T10:51:09.571449",
     "exception": false,
     "start_time": "2025-07-28T10:51:09.533022",
     "status": "completed"
    },
    "tags": []
   },
   "outputs": [],
   "source": [
    "# do I need to include maxdeutsch1.missing?\n",
    "\n",
    "import numpy as np\n",
    "\n",
    "colname_to_bin = \"maxdeutsch1\"\n",
    "majority_value = org_train[colname_to_bin].mode()[0]\n",
    "\n",
    "org_test[\"majmin\"] = np.where(org_test[colname_to_bin] == majority_value, \"majority\", \"minority\")"
   ]
  },
  {
   "cell_type": "code",
   "execution_count": 66,
   "id": "06a50de5",
   "metadata": {
    "execution": {
     "iopub.execute_input": "2025-07-28T10:51:09.630022Z",
     "iopub.status.busy": "2025-07-28T10:51:09.629121Z",
     "iopub.status.idle": "2025-07-28T10:51:12.561866Z",
     "shell.execute_reply": "2025-07-28T10:51:12.561029Z"
    },
    "papermill": {
     "duration": 2.963345,
     "end_time": "2025-07-28T10:51:12.563476",
     "exception": false,
     "start_time": "2025-07-28T10:51:09.600131",
     "status": "completed"
    },
    "tags": []
   },
   "outputs": [],
   "source": [
    "example_universe = universe.copy()\n",
    "example_universe[\"cutoff\"] = example_universe[\"cutoff\"][0]\n",
    "example_universe[\"eval_fairness_grouping\"] = example_universe[\"eval_fairness_grouping\"][0]\n",
    "fairness_dict, metric_frame = universe_analysis.compute_metrics(\n",
    "    example_universe,\n",
    "    y_pred_prob=probs_test,\n",
    "    y_test=y_true,\n",
    "    org_test=org_test,\n",
    ")"
   ]
  },
  {
   "cell_type": "markdown",
   "id": "f95d4e02",
   "metadata": {
    "papermill": {
     "duration": 0.013842,
     "end_time": "2025-07-28T10:51:12.591572",
     "exception": false,
     "start_time": "2025-07-28T10:51:12.577730",
     "status": "completed"
    },
    "tags": []
   },
   "source": [
    "# Overall"
   ]
  },
  {
   "cell_type": "markdown",
   "id": "bdee4871",
   "metadata": {
    "papermill": {
     "duration": 0.013903,
     "end_time": "2025-07-28T10:51:12.619358",
     "exception": false,
     "start_time": "2025-07-28T10:51:12.605455",
     "status": "completed"
    },
    "tags": []
   },
   "source": [
    "Fairness\n",
    "Main fairness target: Equalized Odds. Seems to be a better fit than equal opportunity, since we're not only interested in Y = 1. Seems to be a better fit than demographic parity, since we also care about accuracy, not just equal distribution of preds.\n",
    "\n",
    "Pick column for computation of fairness metrics\n",
    "\n",
    "Performance\n",
    "Overall performance measures, most interesting in relation to the measures split by group below"
   ]
  },
  {
   "cell_type": "code",
   "execution_count": 67,
   "id": "c4e067c6",
   "metadata": {
    "execution": {
     "iopub.execute_input": "2025-07-28T10:51:12.657870Z",
     "iopub.status.busy": "2025-07-28T10:51:12.657029Z",
     "iopub.status.idle": "2025-07-28T10:51:12.667088Z",
     "shell.execute_reply": "2025-07-28T10:51:12.665686Z"
    },
    "papermill": {
     "duration": 0.036008,
     "end_time": "2025-07-28T10:51:12.669599",
     "exception": false,
     "start_time": "2025-07-28T10:51:12.633591",
     "status": "completed"
    },
    "tags": []
   },
   "outputs": [
    {
     "data": {
      "text/plain": [
       "accuracy                   0.222484\n",
       "balanced accuracy          0.544399\n",
       "f1                         0.243867\n",
       "precision                  0.139313\n",
       "false positive rate        0.888609\n",
       "false negative rate        0.022593\n",
       "selection rate             0.900000\n",
       "count                  89710.000000\n",
       "dtype: float64"
      ]
     },
     "execution_count": 67,
     "metadata": {},
     "output_type": "execute_result"
    }
   ],
   "source": [
    "metric_frame.overall"
   ]
  },
  {
   "cell_type": "markdown",
   "id": "e968fe9d",
   "metadata": {
    "papermill": {
     "duration": 0.039656,
     "end_time": "2025-07-28T10:51:12.748746",
     "exception": false,
     "start_time": "2025-07-28T10:51:12.709090",
     "status": "completed"
    },
    "tags": []
   },
   "source": [
    "By Group"
   ]
  },
  {
   "cell_type": "code",
   "execution_count": 68,
   "id": "ec325bce",
   "metadata": {
    "execution": {
     "iopub.execute_input": "2025-07-28T10:51:12.826456Z",
     "iopub.status.busy": "2025-07-28T10:51:12.825610Z",
     "iopub.status.idle": "2025-07-28T10:51:12.850502Z",
     "shell.execute_reply": "2025-07-28T10:51:12.848985Z"
    },
    "papermill": {
     "duration": 0.068227,
     "end_time": "2025-07-28T10:51:12.852710",
     "exception": false,
     "start_time": "2025-07-28T10:51:12.784483",
     "status": "completed"
    },
    "tags": []
   },
   "outputs": [
    {
     "data": {
      "text/html": [
       "<div>\n",
       "<style scoped>\n",
       "    .dataframe tbody tr th:only-of-type {\n",
       "        vertical-align: middle;\n",
       "    }\n",
       "\n",
       "    .dataframe tbody tr th {\n",
       "        vertical-align: top;\n",
       "    }\n",
       "\n",
       "    .dataframe thead th {\n",
       "        text-align: right;\n",
       "    }\n",
       "</style>\n",
       "<table border=\"1\" class=\"dataframe\">\n",
       "  <thead>\n",
       "    <tr style=\"text-align: right;\">\n",
       "      <th></th>\n",
       "      <th>accuracy</th>\n",
       "      <th>balanced accuracy</th>\n",
       "      <th>f1</th>\n",
       "      <th>precision</th>\n",
       "      <th>false positive rate</th>\n",
       "      <th>false negative rate</th>\n",
       "      <th>selection rate</th>\n",
       "      <th>count</th>\n",
       "    </tr>\n",
       "    <tr>\n",
       "      <th>majmin</th>\n",
       "      <th></th>\n",
       "      <th></th>\n",
       "      <th></th>\n",
       "      <th></th>\n",
       "      <th></th>\n",
       "      <th></th>\n",
       "      <th></th>\n",
       "      <th></th>\n",
       "    </tr>\n",
       "  </thead>\n",
       "  <tbody>\n",
       "    <tr>\n",
       "      <th>majority</th>\n",
       "      <td>0.237140</td>\n",
       "      <td>0.55057</td>\n",
       "      <td>0.252793</td>\n",
       "      <td>0.145188</td>\n",
       "      <td>0.875446</td>\n",
       "      <td>0.023414</td>\n",
       "      <td>0.888810</td>\n",
       "      <td>69170.0</td>\n",
       "    </tr>\n",
       "    <tr>\n",
       "      <th>minority</th>\n",
       "      <td>0.173126</td>\n",
       "      <td>0.52424</td>\n",
       "      <td>0.214722</td>\n",
       "      <td>0.120561</td>\n",
       "      <td>0.932093</td>\n",
       "      <td>0.019426</td>\n",
       "      <td>0.937683</td>\n",
       "      <td>20540.0</td>\n",
       "    </tr>\n",
       "  </tbody>\n",
       "</table>\n",
       "</div>"
      ],
      "text/plain": [
       "          accuracy  balanced accuracy        f1  precision  \\\n",
       "majmin                                                       \n",
       "majority  0.237140            0.55057  0.252793   0.145188   \n",
       "minority  0.173126            0.52424  0.214722   0.120561   \n",
       "\n",
       "          false positive rate  false negative rate  selection rate    count  \n",
       "majmin                                                                       \n",
       "majority             0.875446             0.023414        0.888810  69170.0  \n",
       "minority             0.932093             0.019426        0.937683  20540.0  "
      ]
     },
     "execution_count": 68,
     "metadata": {},
     "output_type": "execute_result"
    }
   ],
   "source": [
    "metric_frame.by_group"
   ]
  },
  {
   "cell_type": "code",
   "execution_count": 69,
   "id": "a9ddbe63",
   "metadata": {
    "execution": {
     "iopub.execute_input": "2025-07-28T10:51:12.911652Z",
     "iopub.status.busy": "2025-07-28T10:51:12.910552Z",
     "iopub.status.idle": "2025-07-28T10:51:15.113784Z",
     "shell.execute_reply": "2025-07-28T10:51:15.112581Z"
    },
    "papermill": {
     "duration": 2.235627,
     "end_time": "2025-07-28T10:51:15.117050",
     "exception": false,
     "start_time": "2025-07-28T10:51:12.881423",
     "status": "completed"
    },
    "tags": []
   },
   "outputs": [
    {
     "data": {
      "text/plain": [
       "array([[<Axes: title={'center': 'accuracy'}, xlabel='majmin'>,\n",
       "        <Axes: title={'center': 'balanced accuracy'}, xlabel='majmin'>,\n",
       "        <Axes: title={'center': 'f1'}, xlabel='majmin'>],\n",
       "       [<Axes: title={'center': 'precision'}, xlabel='majmin'>,\n",
       "        <Axes: title={'center': 'false positive rate'}, xlabel='majmin'>,\n",
       "        <Axes: title={'center': 'false negative rate'}, xlabel='majmin'>],\n",
       "       [<Axes: title={'center': 'selection rate'}, xlabel='majmin'>,\n",
       "        <Axes: title={'center': 'count'}, xlabel='majmin'>,\n",
       "        <Axes: xlabel='majmin'>]], dtype=object)"
      ]
     },
     "execution_count": 69,
     "metadata": {},
     "output_type": "execute_result"
    },
    {
     "data": {
      "image/png": "[encoded data removed]",
      "text/plain": [
       "<Figure size 1200x800 with 9 Axes>"
      ]
     },
     "metadata": {},
     "output_type": "display_data"
    }
   ],
   "source": [
    "# In a graphic\n",
    "metric_frame.by_group.plot.bar(\n",
    "    subplots=True,\n",
    "    layout=[3, 3],\n",
    "    legend=False,\n",
    "    figsize=[12, 8],\n",
    "    title=\"Show all metrics\",\n",
    ")"
   ]
  },
  {
   "cell_type": "markdown",
   "id": "f57a0bac",
   "metadata": {
    "papermill": {
     "duration": 0.025708,
     "end_time": "2025-07-28T10:51:15.173644",
     "exception": false,
     "start_time": "2025-07-28T10:51:15.147936",
     "status": "completed"
    },
    "tags": []
   },
   "source": [
    "# Final Output"
   ]
  },
  {
   "cell_type": "code",
   "execution_count": 70,
   "id": "96d280a3",
   "metadata": {
    "execution": {
     "iopub.execute_input": "2025-07-28T10:51:15.209507Z",
     "iopub.status.busy": "2025-07-28T10:51:15.208910Z",
     "iopub.status.idle": "2025-07-28T10:51:15.216602Z",
     "shell.execute_reply": "2025-07-28T10:51:15.215840Z"
    },
    "papermill": {
     "duration": 0.024912,
     "end_time": "2025-07-28T10:51:15.217828",
     "exception": false,
     "start_time": "2025-07-28T10:51:15.192916",
     "status": "completed"
    },
    "tags": []
   },
   "outputs": [
    {
     "data": {
      "text/plain": [
       "4"
      ]
     },
     "execution_count": 70,
     "metadata": {},
     "output_type": "execute_result"
    }
   ],
   "source": [
    "sub_universes = universe_analysis.generate_sub_universes()\n",
    "len(sub_universes)"
   ]
  },
  {
   "cell_type": "code",
   "execution_count": 71,
   "id": "92adf7ba",
   "metadata": {
    "execution": {
     "iopub.execute_input": "2025-07-28T10:51:15.280265Z",
     "iopub.status.busy": "2025-07-28T10:51:15.279741Z",
     "iopub.status.idle": "2025-07-28T10:51:15.286487Z",
     "shell.execute_reply": "2025-07-28T10:51:15.285476Z"
    },
    "papermill": {
     "duration": 0.057739,
     "end_time": "2025-07-28T10:51:15.297801",
     "exception": false,
     "start_time": "2025-07-28T10:51:15.240062",
     "status": "completed"
    },
    "tags": []
   },
   "outputs": [],
   "source": [
    "def filter_sub_universe_data(sub_universe, org_test):\n",
    "    # Keep all rows — no filtering\n",
    "    keep_rows_mask = np.ones(org_test.shape[0], dtype=bool)\n",
    "\n",
    "    print(f\"[INFO] Keeping all rows: {keep_rows_mask.sum()} rows retained.\")\n",
    "    return keep_rows_mask"
   ]
  },
  {
   "cell_type": "code",
   "execution_count": 72,
   "id": "4a759155",
   "metadata": {
    "execution": {
     "iopub.execute_input": "2025-07-28T10:51:15.362596Z",
     "iopub.status.busy": "2025-07-28T10:51:15.362151Z",
     "iopub.status.idle": "2025-07-28T10:51:24.947449Z",
     "shell.execute_reply": "2025-07-28T10:51:24.946392Z"
    },
    "papermill": {
     "duration": 9.611608,
     "end_time": "2025-07-28T10:51:24.949207",
     "exception": false,
     "start_time": "2025-07-28T10:51:15.337599",
     "status": "completed"
    },
    "tags": []
   },
   "outputs": [
    {
     "name": "stdout",
     "output_type": "stream",
     "text": [
      "Stopping execution_time clock.\n",
      "[INFO] Keeping all rows: 89710 rows retained.\n"
     ]
    },
    {
     "name": "stdout",
     "output_type": "stream",
     "text": [
      "[INFO] Keeping all rows: 89710 rows retained.\n"
     ]
    },
    {
     "name": "stdout",
     "output_type": "stream",
     "text": [
      "[INFO] Keeping all rows: 89710 rows retained.\n"
     ]
    },
    {
     "name": "stdout",
     "output_type": "stream",
     "text": [
      "[INFO] Keeping all rows: 89710 rows retained.\n"
     ]
    },
    {
     "data": {
      "text/html": [
       "<div>\n",
       "<style scoped>\n",
       "    .dataframe tbody tr th:only-of-type {\n",
       "        vertical-align: middle;\n",
       "    }\n",
       "\n",
       "    .dataframe tbody tr th {\n",
       "        vertical-align: top;\n",
       "    }\n",
       "\n",
       "    .dataframe thead th {\n",
       "        text-align: right;\n",
       "    }\n",
       "</style>\n",
       "<table border=\"1\" class=\"dataframe\">\n",
       "  <thead>\n",
       "    <tr style=\"text-align: right;\">\n",
       "      <th></th>\n",
       "      <th>run_no</th>\n",
       "      <th>universe_id</th>\n",
       "      <th>universe_settings</th>\n",
       "      <th>execution_time</th>\n",
       "      <th>test_size_n</th>\n",
       "      <th>test_size_frac</th>\n",
       "      <th>fair_main_equalized_odds_difference</th>\n",
       "      <th>fair_main_equalized_odds_ratio</th>\n",
       "      <th>fair_main_demographic_parity_difference</th>\n",
       "      <th>fair_main_demographic_parity_ratio</th>\n",
       "      <th>...</th>\n",
       "      <th>perf_grp_precision_0</th>\n",
       "      <th>perf_grp_precision_1</th>\n",
       "      <th>perf_grp_false positive rate_0</th>\n",
       "      <th>perf_grp_false positive rate_1</th>\n",
       "      <th>perf_grp_false negative rate_0</th>\n",
       "      <th>perf_grp_false negative rate_1</th>\n",
       "      <th>perf_grp_selection rate_0</th>\n",
       "      <th>perf_grp_selection rate_1</th>\n",
       "      <th>perf_grp_count_0</th>\n",
       "      <th>perf_grp_count_1</th>\n",
       "    </tr>\n",
       "  </thead>\n",
       "  <tbody>\n",
       "    <tr>\n",
       "      <th>0</th>\n",
       "      <td>11</td>\n",
       "      <td>cd41aa4635906d57f2228d80a389a755</td>\n",
       "      <td>{\"cutoff\": \"quantile_0.1\", \"eval_fairness_grou...</td>\n",
       "      <td>32.27342</td>\n",
       "      <td>89710</td>\n",
       "      <td>1.0</td>\n",
       "      <td>0.056648</td>\n",
       "      <td>0.939225</td>\n",
       "      <td>0.048872</td>\n",
       "      <td>0.94788</td>\n",
       "      <td>...</td>\n",
       "      <td>NaN</td>\n",
       "      <td>NaN</td>\n",
       "      <td>NaN</td>\n",
       "      <td>NaN</td>\n",
       "      <td>NaN</td>\n",
       "      <td>NaN</td>\n",
       "      <td>NaN</td>\n",
       "      <td>NaN</td>\n",
       "      <td>NaN</td>\n",
       "      <td>NaN</td>\n",
       "    </tr>\n",
       "    <tr>\n",
       "      <th>0</th>\n",
       "      <td>11</td>\n",
       "      <td>cd41aa4635906d57f2228d80a389a755</td>\n",
       "      <td>{\"cutoff\": \"quantile_0.1\", \"eval_fairness_grou...</td>\n",
       "      <td>32.27342</td>\n",
       "      <td>89710</td>\n",
       "      <td>1.0</td>\n",
       "      <td>0.056648</td>\n",
       "      <td>0.939225</td>\n",
       "      <td>0.048872</td>\n",
       "      <td>0.94788</td>\n",
       "      <td>...</td>\n",
       "      <td>0.120561</td>\n",
       "      <td>0.145188</td>\n",
       "      <td>0.932093</td>\n",
       "      <td>0.875446</td>\n",
       "      <td>0.019426</td>\n",
       "      <td>0.023414</td>\n",
       "      <td>0.937683</td>\n",
       "      <td>0.888810</td>\n",
       "      <td>20540.0</td>\n",
       "      <td>69170.0</td>\n",
       "    </tr>\n",
       "    <tr>\n",
       "      <th>0</th>\n",
       "      <td>11</td>\n",
       "      <td>cd41aa4635906d57f2228d80a389a755</td>\n",
       "      <td>{\"cutoff\": \"quantile_0.25\", \"eval_fairness_gro...</td>\n",
       "      <td>32.27342</td>\n",
       "      <td>89710</td>\n",
       "      <td>1.0</td>\n",
       "      <td>0.137866</td>\n",
       "      <td>0.833877</td>\n",
       "      <td>0.120105</td>\n",
       "      <td>0.85746</td>\n",
       "      <td>...</td>\n",
       "      <td>NaN</td>\n",
       "      <td>NaN</td>\n",
       "      <td>NaN</td>\n",
       "      <td>NaN</td>\n",
       "      <td>NaN</td>\n",
       "      <td>NaN</td>\n",
       "      <td>NaN</td>\n",
       "      <td>NaN</td>\n",
       "      <td>NaN</td>\n",
       "      <td>NaN</td>\n",
       "    </tr>\n",
       "    <tr>\n",
       "      <th>0</th>\n",
       "      <td>11</td>\n",
       "      <td>cd41aa4635906d57f2228d80a389a755</td>\n",
       "      <td>{\"cutoff\": \"quantile_0.25\", \"eval_fairness_gro...</td>\n",
       "      <td>32.27342</td>\n",
       "      <td>89710</td>\n",
       "      <td>1.0</td>\n",
       "      <td>0.137866</td>\n",
       "      <td>0.833877</td>\n",
       "      <td>0.120105</td>\n",
       "      <td>0.85746</td>\n",
       "      <td>...</td>\n",
       "      <td>0.128618</td>\n",
       "      <td>0.168724</td>\n",
       "      <td>0.829903</td>\n",
       "      <td>0.692037</td>\n",
       "      <td>0.059966</td>\n",
       "      <td>0.077462</td>\n",
       "      <td>0.842600</td>\n",
       "      <td>0.722495</td>\n",
       "      <td>20540.0</td>\n",
       "      <td>69170.0</td>\n",
       "    </tr>\n",
       "  </tbody>\n",
       "</table>\n",
       "<p>4 rows × 50 columns</p>\n",
       "</div>"
      ],
      "text/plain": [
       "  run_no                       universe_id  \\\n",
       "0     11  cd41aa4635906d57f2228d80a389a755   \n",
       "0     11  cd41aa4635906d57f2228d80a389a755   \n",
       "0     11  cd41aa4635906d57f2228d80a389a755   \n",
       "0     11  cd41aa4635906d57f2228d80a389a755   \n",
       "\n",
       "                                   universe_settings  execution_time  \\\n",
       "0  {\"cutoff\": \"quantile_0.1\", \"eval_fairness_grou...        32.27342   \n",
       "0  {\"cutoff\": \"quantile_0.1\", \"eval_fairness_grou...        32.27342   \n",
       "0  {\"cutoff\": \"quantile_0.25\", \"eval_fairness_gro...        32.27342   \n",
       "0  {\"cutoff\": \"quantile_0.25\", \"eval_fairness_gro...        32.27342   \n",
       "\n",
       "   test_size_n  test_size_frac  fair_main_equalized_odds_difference  \\\n",
       "0        89710             1.0                             0.056648   \n",
       "0        89710             1.0                             0.056648   \n",
       "0        89710             1.0                             0.137866   \n",
       "0        89710             1.0                             0.137866   \n",
       "\n",
       "   fair_main_equalized_odds_ratio  fair_main_demographic_parity_difference  \\\n",
       "0                        0.939225                                 0.048872   \n",
       "0                        0.939225                                 0.048872   \n",
       "0                        0.833877                                 0.120105   \n",
       "0                        0.833877                                 0.120105   \n",
       "\n",
       "   fair_main_demographic_parity_ratio  ...  perf_grp_precision_0  \\\n",
       "0                             0.94788  ...                   NaN   \n",
       "0                             0.94788  ...              0.120561   \n",
       "0                             0.85746  ...                   NaN   \n",
       "0                             0.85746  ...              0.128618   \n",
       "\n",
       "   perf_grp_precision_1  perf_grp_false positive rate_0  \\\n",
       "0                   NaN                             NaN   \n",
       "0              0.145188                        0.932093   \n",
       "0                   NaN                             NaN   \n",
       "0              0.168724                        0.829903   \n",
       "\n",
       "   perf_grp_false positive rate_1  perf_grp_false negative rate_0  \\\n",
       "0                             NaN                             NaN   \n",
       "0                        0.875446                        0.019426   \n",
       "0                             NaN                             NaN   \n",
       "0                        0.692037                        0.059966   \n",
       "\n",
       "   perf_grp_false negative rate_1  perf_grp_selection rate_0  \\\n",
       "0                             NaN                        NaN   \n",
       "0                        0.023414                   0.937683   \n",
       "0                             NaN                        NaN   \n",
       "0                        0.077462                   0.842600   \n",
       "\n",
       "   perf_grp_selection rate_1  perf_grp_count_0  perf_grp_count_1  \n",
       "0                        NaN               NaN               NaN  \n",
       "0                   0.888810           20540.0           69170.0  \n",
       "0                        NaN               NaN               NaN  \n",
       "0                   0.722495           20540.0           69170.0  \n",
       "\n",
       "[4 rows x 50 columns]"
      ]
     },
     "execution_count": 72,
     "metadata": {},
     "output_type": "execute_result"
    }
   ],
   "source": [
    "final_output = universe_analysis.generate_final_output(\n",
    "    y_pred_prob=probs_test,\n",
    "    y_test=y_true,\n",
    "    org_test=org_test,\n",
    "    filter_data=filter_sub_universe_data,\n",
    "    cp_metrics_df=cp_metrics_df,\n",
    "    save=True,\n",
    ")\n",
    "final_output"
   ]
  },
  {
   "cell_type": "code",
   "execution_count": null,
   "id": "721ff514-cb11-46f8-b6fc-50392f74b5cb",
   "metadata": {
    "papermill": {
     "duration": 0.030788,
     "end_time": "2025-07-28T10:51:25.011149",
     "exception": false,
     "start_time": "2025-07-28T10:51:24.980361",
     "status": "completed"
    },
    "tags": []
   },
   "outputs": [],
   "source": []
  }
 ],
 "metadata": {
  "celltoolbar": "Tags",
  "kernelspec": {
   "display_name": "Python (CMA Fairness)",
   "language": "python",
   "name": "cma_fair_env"
  },
  "language_info": {
   "codemirror_mode": {
    "name": "ipython",
    "version": 3
   },
   "file_extension": ".py",
   "mimetype": "text/x-python",
   "name": "python",
   "nbconvert_exporter": "python",
   "pygments_lexer": "ipython3",
   "version": "3.10.12"
  },
  "papermill": {
   "default_parameters": {},
   "duration": 46.399793,
   "end_time": "2025-07-28T10:51:25.862523",
   "environment_variables": {},
   "exception": null,
   "input_path": "universe_analysis.ipynb",
   "output_path": "output/runs/11/notebooks/m_11-cd41aa4635906d57f2228d80a389a755.ipynb",
   "parameters": {
    "output_dir": "output",
    "run_no": "11",
    "seed": "2023",
    "universe": "{\"cutoff\": [\"quantile_0.1\", \"quantile_0.25\"], \"eval_fairness_grouping\": [\"majority-minority\", \"nationality-all\"], \"exclude_features\": \"nationality\", \"exclude_subgroups\": \"keep-all\", \"model\": \"gbm\", \"scale\": \"do-not-scale\", \"training_size\": \"1k\"}",
    "universe_id": "cd41aa4635906d57f2228d80a389a755"
   },
   "start_time": "2025-07-28T10:50:39.462730",
   "version": "2.6.0"
  }
 },
 "nbformat": 4,
 "nbformat_minor": 5
}