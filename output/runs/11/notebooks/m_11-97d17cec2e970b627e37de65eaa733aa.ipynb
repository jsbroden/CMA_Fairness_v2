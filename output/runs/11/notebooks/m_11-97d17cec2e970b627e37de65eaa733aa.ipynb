{
 "cells": [
  {
   "cell_type": "code",
   "execution_count": 1,
   "id": "f159f837-637b-42ba-96b5-ec9a68c44524",
   "metadata": {
    "execution": {
     "iopub.execute_input": "2025-07-28T10:18:44.442965Z",
     "iopub.status.busy": "2025-07-28T10:18:44.442121Z",
     "iopub.status.idle": "2025-07-28T10:18:44.455836Z",
     "shell.execute_reply": "2025-07-28T10:18:44.455103Z"
    },
    "papermill": {
     "duration": 0.037612,
     "end_time": "2025-07-28T10:18:44.457487",
     "exception": false,
     "start_time": "2025-07-28T10:18:44.419875",
     "status": "completed"
    },
    "tags": []
   },
   "outputs": [
    {
     "name": "stdout",
     "output_type": "stream",
     "text": [
      "/dss/dsshome1/0C/ra93lal2/cma/CMA_Fairness_v2\n"
     ]
    },
    {
     "name": "stderr",
     "output_type": "stream",
     "text": [
      "/dss/dsshome1/0C/ra93lal2/.local/share/virtualenvs/CMA_Fairness_v2-3j10GkSs/lib/python3.10/site-packages/IPython/core/magics/osm.py:393: UserWarning: This is now an optional IPython functionality, using bookmarks requires you to install the `pickleshare` library.\n",
      "  bkms = self.shell.db.get('bookmarks', {})\n",
      "/dss/dsshome1/0C/ra93lal2/.local/share/virtualenvs/CMA_Fairness_v2-3j10GkSs/lib/python3.10/site-packages/IPython/core/magics/osm.py:417: UserWarning: This is now an optional IPython functionality, setting dhist requires you to install the `pickleshare` library.\n",
      "  self.shell.db['dhist'] = compress_dhist(dhist)[-100:]\n"
     ]
    }
   ],
   "source": [
    "%cd ~/cma/CMA_Fairness_v2"
   ]
  },
  {
   "cell_type": "markdown",
   "id": "de2603b9",
   "metadata": {
    "papermill": {
     "duration": 0.022337,
     "end_time": "2025-07-28T10:18:44.490828",
     "exception": false,
     "start_time": "2025-07-28T10:18:44.468491",
     "status": "completed"
    },
    "tags": []
   },
   "source": [
    "The following cell holds the definition of our parameters, these values can be overriden by rendering the with e.g. the following command:\n",
    "\n",
    "papermill -p alpha 0.2 -p ratio 0.3 universe_analysis.ipynb output/test_run.ipynb"
   ]
  },
  {
   "cell_type": "code",
   "execution_count": 2,
   "id": "a80968a0-40bb-4fa9-85ef-2d5eefb01975",
   "metadata": {
    "execution": {
     "iopub.execute_input": "2025-07-28T10:18:44.533658Z",
     "iopub.status.busy": "2025-07-28T10:18:44.533003Z",
     "iopub.status.idle": "2025-07-28T10:18:44.537903Z",
     "shell.execute_reply": "2025-07-28T10:18:44.536997Z"
    },
    "papermill": {
     "duration": 0.028438,
     "end_time": "2025-07-28T10:18:44.539313",
     "exception": false,
     "start_time": "2025-07-28T10:18:44.510875",
     "status": "completed"
    },
    "tags": []
   },
   "outputs": [
    {
     "name": "stdout",
     "output_type": "stream",
     "text": [
      "Current working directory: /dss/dsshome1/0C/ra93lal2/cma/CMA_Fairness_v2\n"
     ]
    }
   ],
   "source": [
    "import os\n",
    "print(\"Current working directory:\", os.getcwd())"
   ]
  },
  {
   "cell_type": "code",
   "execution_count": 3,
   "id": "2dce4c03",
   "metadata": {
    "execution": {
     "iopub.execute_input": "2025-07-28T10:18:44.569025Z",
     "iopub.status.busy": "2025-07-28T10:18:44.568424Z",
     "iopub.status.idle": "2025-07-28T10:18:44.574801Z",
     "shell.execute_reply": "2025-07-28T10:18:44.573717Z"
    },
    "papermill": {
     "duration": 0.026472,
     "end_time": "2025-07-28T10:18:44.576488",
     "exception": false,
     "start_time": "2025-07-28T10:18:44.550016",
     "status": "completed"
    },
    "tags": [
     "parameters"
    ]
   },
   "outputs": [],
   "source": [
    "run_no = 0\n",
    "universe_id = \"test\"\n",
    "universe = {\n",
    "    \"training_size\": \"2014\", # \"25k\", \"5k\", \"1k\", \"2014\"\n",
    "    \"scale\": \"scale\", # \"scale\", \"do-not-scale\",\n",
    "    #\"stratify_split\": \"target\", # \"none\", \"target\", \"protected-attribute\", \"both\",\n",
    "    \"model\": \"elasticnet\", # \"logreg\", \"penalized_logreg\", \"rf\", \"gbm\", \"elasticnet\"\n",
    "    \"cutoff\": [\"quantile_0.15\", \"quantile_0.30\"],\n",
    "    \"exclude_features\": \"age\", # \"none\", \"nationality\", \"sex\", \"nationality-sex\", \"age\"\n",
    "    \"exclude_subgroups\": \"keep-all\", # \"keep-all\", \"drop-non-german\"\n",
    "    #\"training_sample\": \"restricted\", # \"restricted\", \"full\"\n",
    "    \"eval_fairness_grouping\": [\"majority-minority\", \"nationality-all\"]\n",
    "}\n",
    "\n",
    "output_dir=\"./output\"\n",
    "seed=0"
   ]
  },
  {
   "cell_type": "code",
   "execution_count": 4,
   "id": "3039bb07",
   "metadata": {
    "execution": {
     "iopub.execute_input": "2025-07-28T10:18:44.617012Z",
     "iopub.status.busy": "2025-07-28T10:18:44.615995Z",
     "iopub.status.idle": "2025-07-28T10:18:44.633460Z",
     "shell.execute_reply": "2025-07-28T10:18:44.632701Z"
    },
    "papermill": {
     "duration": 0.038474,
     "end_time": "2025-07-28T10:18:44.634825",
     "exception": false,
     "start_time": "2025-07-28T10:18:44.596351",
     "status": "completed"
    },
    "tags": [
     "injected-parameters"
    ]
   },
   "outputs": [],
   "source": [
    "# Parameters\n",
    "universe_id = \"97d17cec2e970b627e37de65eaa733aa\"\n",
    "run_no = \"11\"\n",
    "universe = \"{\\\"cutoff\\\": [\\\"quantile_0.1\\\", \\\"quantile_0.25\\\"], \\\"eval_fairness_grouping\\\": [\\\"majority-minority\\\", \\\"nationality-all\\\"], \\\"exclude_features\\\": \\\"none\\\", \\\"exclude_subgroups\\\": \\\"drop-non-german\\\", \\\"model\\\": \\\"rf\\\", \\\"scale\\\": \\\"do-not-scale\\\", \\\"training_size\\\": \\\"25k\\\"}\"\n",
    "output_dir = \"output\"\n",
    "seed = \"2023\"\n"
   ]
  },
  {
   "cell_type": "code",
   "execution_count": 5,
   "id": "1650acaf",
   "metadata": {
    "execution": {
     "iopub.execute_input": "2025-07-28T10:18:44.661255Z",
     "iopub.status.busy": "2025-07-28T10:18:44.660936Z",
     "iopub.status.idle": "2025-07-28T10:18:44.665863Z",
     "shell.execute_reply": "2025-07-28T10:18:44.664949Z"
    },
    "papermill": {
     "duration": 0.022567,
     "end_time": "2025-07-28T10:18:44.667679",
     "exception": false,
     "start_time": "2025-07-28T10:18:44.645112",
     "status": "completed"
    },
    "tags": []
   },
   "outputs": [],
   "source": [
    "import json\n",
    "# Parse universe into dict if it is passed as a string\n",
    "if isinstance(universe, str):\n",
    "    universe = json.loads(universe)"
   ]
  },
  {
   "cell_type": "code",
   "execution_count": 6,
   "id": "16620c48",
   "metadata": {
    "execution": {
     "iopub.execute_input": "2025-07-28T10:18:44.710811Z",
     "iopub.status.busy": "2025-07-28T10:18:44.710345Z",
     "iopub.status.idle": "2025-07-28T10:18:44.745888Z",
     "shell.execute_reply": "2025-07-28T10:18:44.744862Z"
    },
    "papermill": {
     "duration": 0.058724,
     "end_time": "2025-07-28T10:18:44.747333",
     "exception": false,
     "start_time": "2025-07-28T10:18:44.688609",
     "status": "completed"
    },
    "tags": []
   },
   "outputs": [],
   "source": [
    "# Auto-reload the custom package\n",
    "%load_ext autoreload\n",
    "%autoreload 1\n",
    "%aimport fairness_multiverse"
   ]
  },
  {
   "cell_type": "code",
   "execution_count": 7,
   "id": "01c5c9f3",
   "metadata": {
    "execution": {
     "iopub.execute_input": "2025-07-28T10:18:44.791960Z",
     "iopub.status.busy": "2025-07-28T10:18:44.790974Z",
     "iopub.status.idle": "2025-07-28T10:18:46.749471Z",
     "shell.execute_reply": "2025-07-28T10:18:46.748491Z"
    },
    "papermill": {
     "duration": 1.983466,
     "end_time": "2025-07-28T10:18:46.751663",
     "exception": false,
     "start_time": "2025-07-28T10:18:44.768197",
     "status": "completed"
    },
    "tags": []
   },
   "outputs": [],
   "source": [
    "from fairness_multiverse.universe import UniverseAnalysis\n",
    "\n",
    "universe_analysis = UniverseAnalysis(\n",
    "    run_no = run_no,\n",
    "    universe_id = universe_id,\n",
    "    universe = universe,\n",
    "    output_dir=output_dir,\n",
    ")"
   ]
  },
  {
   "cell_type": "code",
   "execution_count": 8,
   "id": "106241f5",
   "metadata": {
    "execution": {
     "iopub.execute_input": "2025-07-28T10:18:46.776107Z",
     "iopub.status.busy": "2025-07-28T10:18:46.775653Z",
     "iopub.status.idle": "2025-07-28T10:18:46.783092Z",
     "shell.execute_reply": "2025-07-28T10:18:46.781969Z"
    },
    "papermill": {
     "duration": 0.020619,
     "end_time": "2025-07-28T10:18:46.785029",
     "exception": false,
     "start_time": "2025-07-28T10:18:46.764410",
     "status": "completed"
    },
    "tags": []
   },
   "outputs": [
    {
     "name": "stdout",
     "output_type": "stream",
     "text": [
      "Using Seed: 2023\n"
     ]
    }
   ],
   "source": [
    "import numpy as np\n",
    "parsed_seed = int(seed)\n",
    "np.random.seed(parsed_seed)\n",
    "print(f\"Using Seed: {parsed_seed}\")"
   ]
  },
  {
   "cell_type": "markdown",
   "id": "e0ebdc57",
   "metadata": {
    "papermill": {
     "duration": 0.02172,
     "end_time": "2025-07-28T10:18:46.828768",
     "exception": false,
     "start_time": "2025-07-28T10:18:46.807048",
     "status": "completed"
    },
    "tags": []
   },
   "source": [
    "# Loading Data"
   ]
  },
  {
   "cell_type": "markdown",
   "id": "681925a3",
   "metadata": {
    "papermill": {
     "duration": 0.021187,
     "end_time": "2025-07-28T10:18:46.871643",
     "exception": false,
     "start_time": "2025-07-28T10:18:46.850456",
     "status": "completed"
    },
    "tags": []
   },
   "source": [
    "Load siab_train, siab_test, siab_calib and/or \n",
    "load siab_train_features, siab_train_labels"
   ]
  },
  {
   "cell_type": "code",
   "execution_count": 9,
   "id": "f0496b8a",
   "metadata": {
    "execution": {
     "iopub.execute_input": "2025-07-28T10:18:46.915949Z",
     "iopub.status.busy": "2025-07-28T10:18:46.915449Z",
     "iopub.status.idle": "2025-07-28T10:19:00.994859Z",
     "shell.execute_reply": "2025-07-28T10:19:00.993727Z"
    },
    "papermill": {
     "duration": 14.103793,
     "end_time": "2025-07-28T10:19:00.996735",
     "exception": false,
     "start_time": "2025-07-28T10:18:46.892942",
     "status": "completed"
    },
    "tags": []
   },
   "outputs": [
    {
     "name": "stdout",
     "output_type": "stream",
     "text": [
      "Loading SIAB data from cache: data/siab_cached.csv.gz\n"
     ]
    },
    {
     "name": "stdout",
     "output_type": "stream",
     "text": [
      "(643690, 164)\n"
     ]
    }
   ],
   "source": [
    "from pathlib import Path\n",
    "import pandas as pd\n",
    "\n",
    "# File paths\n",
    "raw_file = Path(\"data/raw/siab.csv\")\n",
    "cache_file = Path(\"data/siab_cached.csv.gz\")\n",
    "\n",
    "# Ensure cache directory exists\n",
    "cache_file.parent.mkdir(parents=True, exist_ok=True)\n",
    "\n",
    "# Load with simple caching\n",
    "if cache_file.exists():\n",
    "    print(f\"Loading SIAB data from cache: {cache_file}\")\n",
    "    siab = pd.read_csv(cache_file, compression='gzip')\n",
    "else:\n",
    "    print(f\"Cache not found. Reading raw SIAB data: {raw_file}\")\n",
    "    siab = pd.read_csv(raw_file)\n",
    "    siab.to_csv(cache_file, index=False, compression='gzip')\n",
    "    print(f\"Cached SIAB data to: {cache_file}\")\n",
    "\n",
    "# Now use `siab` DataFrame as needed\n",
    "print(siab.shape)"
   ]
  },
  {
   "cell_type": "code",
   "execution_count": 10,
   "id": "db0ca512-5f53-4dba-abdb-a2888bca41ba",
   "metadata": {
    "execution": {
     "iopub.execute_input": "2025-07-28T10:19:01.049613Z",
     "iopub.status.busy": "2025-07-28T10:19:01.049152Z",
     "iopub.status.idle": "2025-07-28T10:19:01.055500Z",
     "shell.execute_reply": "2025-07-28T10:19:01.054568Z"
    },
    "papermill": {
     "duration": 0.040206,
     "end_time": "2025-07-28T10:19:01.058907",
     "exception": false,
     "start_time": "2025-07-28T10:19:01.018701",
     "status": "completed"
    },
    "tags": []
   },
   "outputs": [],
   "source": [
    "#siab"
   ]
  },
  {
   "cell_type": "code",
   "execution_count": 11,
   "id": "a0edb063",
   "metadata": {
    "execution": {
     "iopub.execute_input": "2025-07-28T10:19:01.152966Z",
     "iopub.status.busy": "2025-07-28T10:19:01.152556Z",
     "iopub.status.idle": "2025-07-28T10:19:01.157893Z",
     "shell.execute_reply": "2025-07-28T10:19:01.156982Z"
    },
    "papermill": {
     "duration": 0.052513,
     "end_time": "2025-07-28T10:19:01.161128",
     "exception": false,
     "start_time": "2025-07-28T10:19:01.108615",
     "status": "completed"
    },
    "tags": []
   },
   "outputs": [],
   "source": [
    "#import pandas as pd\n",
    "#\n",
    "#X_train = pd.read_csv(\"./data/X_train.csv\")\n",
    "#y_train = pd.read_csv(\"./data/y_train.csv\")"
   ]
  },
  {
   "cell_type": "code",
   "execution_count": 12,
   "id": "63d08085",
   "metadata": {
    "execution": {
     "iopub.execute_input": "2025-07-28T10:19:01.253967Z",
     "iopub.status.busy": "2025-07-28T10:19:01.253565Z",
     "iopub.status.idle": "2025-07-28T10:19:01.259512Z",
     "shell.execute_reply": "2025-07-28T10:19:01.258478Z"
    },
    "papermill": {
     "duration": 0.046469,
     "end_time": "2025-07-28T10:19:01.261368",
     "exception": false,
     "start_time": "2025-07-28T10:19:01.214899",
     "status": "completed"
    },
    "tags": []
   },
   "outputs": [],
   "source": [
    "#X_test = pd.read_csv(\"./data/X_test.csv\")\n",
    "#y_true = pd.read_csv(\"./data/y_test.csv\")"
   ]
  },
  {
   "cell_type": "code",
   "execution_count": 13,
   "id": "98a8d0fa-1d3d-4ed8-bb2c-281470e24add",
   "metadata": {
    "execution": {
     "iopub.execute_input": "2025-07-28T10:19:01.306200Z",
     "iopub.status.busy": "2025-07-28T10:19:01.305652Z",
     "iopub.status.idle": "2025-07-28T10:19:01.310815Z",
     "shell.execute_reply": "2025-07-28T10:19:01.309892Z"
    },
    "papermill": {
     "duration": 0.034932,
     "end_time": "2025-07-28T10:19:01.318427",
     "exception": false,
     "start_time": "2025-07-28T10:19:01.283495",
     "status": "completed"
    },
    "tags": []
   },
   "outputs": [],
   "source": [
    "# Calibration data for conformal\n",
    "#X_calib = pd.read_csv(\"./data/X_calib.csv\")\n",
    "#y_calib = pd.read_csv(\"./data/y_calib.csv\")"
   ]
  },
  {
   "cell_type": "markdown",
   "id": "9901737e-04df-44f0-9100-f5ad144ed040",
   "metadata": {
    "papermill": {
     "duration": 0.02145,
     "end_time": "2025-07-28T10:19:01.360546",
     "exception": false,
     "start_time": "2025-07-28T10:19:01.339096",
     "status": "completed"
    },
    "tags": []
   },
   "source": [
    "# Splitting Data and Setting Training Data Size"
   ]
  },
  {
   "cell_type": "code",
   "execution_count": 14,
   "id": "acbc8f7d-8fc8-4e86-8c59-5dcb0f58384b",
   "metadata": {
    "execution": {
     "iopub.execute_input": "2025-07-28T10:19:01.403363Z",
     "iopub.status.busy": "2025-07-28T10:19:01.402805Z",
     "iopub.status.idle": "2025-07-28T10:19:01.412137Z",
     "shell.execute_reply": "2025-07-28T10:19:01.410993Z"
    },
    "papermill": {
     "duration": 0.03221,
     "end_time": "2025-07-28T10:19:01.414029",
     "exception": false,
     "start_time": "2025-07-28T10:19:01.381819",
     "status": "completed"
    },
    "tags": []
   },
   "outputs": [],
   "source": [
    "def sample_by_year(df, training_size, random_state=42):\n",
    "    if training_size == \"2014\":\n",
    "        return df[df[\"year\"] == 2014].reset_index(drop=True)\n",
    "    \n",
    "    size_map = {\n",
    "        \"25k\": 5000,\n",
    "        \"5k\": 1000,\n",
    "        \"1k\": 200\n",
    "    }\n",
    "\n",
    "    if training_size not in size_map:\n",
    "        return df.reset_index(drop=True)  # use all data\n",
    "\n",
    "    n_per_year = size_map[training_size]\n",
    "    grouped = df.groupby(\"year\")\n",
    "    sampled = grouped.apply(lambda x: x.sample(n=min(n_per_year, len(x)), random_state=random_state))\n",
    "    return sampled.reset_index(drop=True)"
   ]
  },
  {
   "cell_type": "code",
   "execution_count": 15,
   "id": "6d931f52-beaf-43ff-9e78-9d44a448d54e",
   "metadata": {
    "execution": {
     "iopub.execute_input": "2025-07-28T10:19:01.458668Z",
     "iopub.status.busy": "2025-07-28T10:19:01.457844Z",
     "iopub.status.idle": "2025-07-28T10:19:02.260316Z",
     "shell.execute_reply": "2025-07-28T10:19:02.259131Z"
    },
    "papermill": {
     "duration": 0.826475,
     "end_time": "2025-07-28T10:19:02.262304",
     "exception": false,
     "start_time": "2025-07-28T10:19:01.435829",
     "status": "completed"
    },
    "tags": []
   },
   "outputs": [],
   "source": [
    "siab_s = sample_by_year(siab, universe[\"training_size\"])"
   ]
  },
  {
   "cell_type": "code",
   "execution_count": 16,
   "id": "5db0a40e-a4e2-4920-be85-b12ae061d70d",
   "metadata": {
    "execution": {
     "iopub.execute_input": "2025-07-28T10:19:02.322523Z",
     "iopub.status.busy": "2025-07-28T10:19:02.321858Z",
     "iopub.status.idle": "2025-07-28T10:19:02.335822Z",
     "shell.execute_reply": "2025-07-28T10:19:02.334949Z"
    },
    "papermill": {
     "duration": 0.038265,
     "end_time": "2025-07-28T10:19:02.337716",
     "exception": false,
     "start_time": "2025-07-28T10:19:02.299451",
     "status": "completed"
    },
    "tags": []
   },
   "outputs": [
    {
     "data": {
      "text/plain": [
       "year\n",
       "2010    5000\n",
       "2011    5000\n",
       "2012    5000\n",
       "2013    5000\n",
       "2014    5000\n",
       "2015    5000\n",
       "2016    5000\n",
       "dtype: int64"
      ]
     },
     "metadata": {},
     "output_type": "display_data"
    }
   ],
   "source": [
    "display(siab_s.groupby(\"year\").size())"
   ]
  },
  {
   "cell_type": "code",
   "execution_count": 17,
   "id": "a561edb4-d032-42cb-8256-22eac1111c64",
   "metadata": {
    "execution": {
     "iopub.execute_input": "2025-07-28T10:19:02.382833Z",
     "iopub.status.busy": "2025-07-28T10:19:02.382322Z",
     "iopub.status.idle": "2025-07-28T10:19:02.640914Z",
     "shell.execute_reply": "2025-07-28T10:19:02.639837Z"
    },
    "papermill": {
     "duration": 0.284564,
     "end_time": "2025-07-28T10:19:02.642948",
     "exception": false,
     "start_time": "2025-07-28T10:19:02.358384",
     "status": "completed"
    },
    "tags": []
   },
   "outputs": [],
   "source": [
    "siab_train = siab_s[siab_s.year < 2015]\n",
    "siab_calib = siab[siab.year == 2015]\n",
    "siab_test = siab[siab.year == 2016]"
   ]
  },
  {
   "cell_type": "code",
   "execution_count": 18,
   "id": "472de16f-c3db-4916-846b-1f0de9cf1746",
   "metadata": {
    "execution": {
     "iopub.execute_input": "2025-07-28T10:19:02.688455Z",
     "iopub.status.busy": "2025-07-28T10:19:02.687956Z",
     "iopub.status.idle": "2025-07-28T10:19:02.703556Z",
     "shell.execute_reply": "2025-07-28T10:19:02.702595Z"
    },
    "papermill": {
     "duration": 0.040727,
     "end_time": "2025-07-28T10:19:02.705242",
     "exception": false,
     "start_time": "2025-07-28T10:19:02.664515",
     "status": "completed"
    },
    "tags": []
   },
   "outputs": [],
   "source": [
    "X_train = siab_train.iloc[:,4:164]\n",
    "y_train = siab_train.iloc[:, [3]]"
   ]
  },
  {
   "cell_type": "code",
   "execution_count": 19,
   "id": "828c96af-f43a-4ed6-ba47-8ac73a47d56c",
   "metadata": {
    "execution": {
     "iopub.execute_input": "2025-07-28T10:19:02.750990Z",
     "iopub.status.busy": "2025-07-28T10:19:02.750214Z",
     "iopub.status.idle": "2025-07-28T10:19:02.805964Z",
     "shell.execute_reply": "2025-07-28T10:19:02.804708Z"
    },
    "papermill": {
     "duration": 0.081219,
     "end_time": "2025-07-28T10:19:02.807847",
     "exception": false,
     "start_time": "2025-07-28T10:19:02.726628",
     "status": "completed"
    },
    "tags": []
   },
   "outputs": [],
   "source": [
    "X_calib = siab_calib.iloc[:,4:164]\n",
    "y_calib = siab_calib.iloc[:, [3]]"
   ]
  },
  {
   "cell_type": "code",
   "execution_count": 20,
   "id": "c34be9c3-6bd6-476e-acd3-845840e303be",
   "metadata": {
    "execution": {
     "iopub.execute_input": "2025-07-28T10:19:02.852883Z",
     "iopub.status.busy": "2025-07-28T10:19:02.852193Z",
     "iopub.status.idle": "2025-07-28T10:19:02.906909Z",
     "shell.execute_reply": "2025-07-28T10:19:02.906106Z"
    },
    "papermill": {
     "duration": 0.078877,
     "end_time": "2025-07-28T10:19:02.908580",
     "exception": false,
     "start_time": "2025-07-28T10:19:02.829703",
     "status": "completed"
    },
    "tags": []
   },
   "outputs": [],
   "source": [
    "X_test = siab_test.iloc[:,4:164]\n",
    "y_true = siab_test.iloc[:, [3]]"
   ]
  },
  {
   "cell_type": "code",
   "execution_count": 21,
   "id": "e6c733c5",
   "metadata": {
    "execution": {
     "iopub.execute_input": "2025-07-28T10:19:02.955252Z",
     "iopub.status.busy": "2025-07-28T10:19:02.954777Z",
     "iopub.status.idle": "2025-07-28T10:19:03.065351Z",
     "shell.execute_reply": "2025-07-28T10:19:03.064387Z"
    },
    "papermill": {
     "duration": 0.137447,
     "end_time": "2025-07-28T10:19:03.069339",
     "exception": false,
     "start_time": "2025-07-28T10:19:02.931892",
     "status": "completed"
    },
    "tags": []
   },
   "outputs": [],
   "source": [
    "# Auxiliary data needed downstream in the pipeline\n",
    "\n",
    "org_train = X_train.copy()\n",
    "org_test = X_test.copy()\n",
    "org_calib = X_calib.copy()"
   ]
  },
  {
   "cell_type": "markdown",
   "id": "0a4a1b33",
   "metadata": {
    "papermill": {
     "duration": 0.022177,
     "end_time": "2025-07-28T10:19:03.115903",
     "exception": false,
     "start_time": "2025-07-28T10:19:03.093726",
     "status": "completed"
    },
    "tags": []
   },
   "source": [
    "# Preprocessing Data"
   ]
  },
  {
   "cell_type": "code",
   "execution_count": 22,
   "id": "ca879031",
   "metadata": {
    "execution": {
     "iopub.execute_input": "2025-07-28T10:19:03.159576Z",
     "iopub.status.busy": "2025-07-28T10:19:03.159083Z",
     "iopub.status.idle": "2025-07-28T10:19:03.165832Z",
     "shell.execute_reply": "2025-07-28T10:19:03.164756Z"
    },
    "papermill": {
     "duration": 0.031062,
     "end_time": "2025-07-28T10:19:03.167956",
     "exception": false,
     "start_time": "2025-07-28T10:19:03.136894",
     "status": "completed"
    },
    "tags": []
   },
   "outputs": [],
   "source": [
    "# EXCLUDE PROTECTED FEATURES\n",
    "# ----------------------\n",
    "# \"exclude_features\": \"none\", # \"nationality\", \"sex\", \"nationality-sex\"\n",
    "\n",
    "excluded_features = universe[\"exclude_features\"].split(\"-\") # split, e.g.: \"nationality-sex\" -> [\"nationality\", \"sex\"]\n",
    "excluded_features_dictionary = {\n",
    "    \"nationality\": [\"maxdeutsch1\", \"maxdeutsch.Missing.\"],\n",
    "    \"sex\": [\"frau1\"],\n",
    "    \"age\": [\"age\"],\n",
    "}\n"
   ]
  },
  {
   "cell_type": "code",
   "execution_count": 23,
   "id": "b745ac60",
   "metadata": {
    "execution": {
     "iopub.execute_input": "2025-07-28T10:19:03.214187Z",
     "iopub.status.busy": "2025-07-28T10:19:03.213456Z",
     "iopub.status.idle": "2025-07-28T10:19:03.219683Z",
     "shell.execute_reply": "2025-07-28T10:19:03.218620Z"
    },
    "papermill": {
     "duration": 0.030489,
     "end_time": "2025-07-28T10:19:03.221369",
     "exception": false,
     "start_time": "2025-07-28T10:19:03.190880",
     "status": "completed"
    },
    "tags": []
   },
   "outputs": [],
   "source": [
    "# Code nice names to column names\n",
    "\n",
    "excluded_features_columns = [\n",
    "    excluded_features_dictionary[f] for f in excluded_features if len(f) > 0 and f != \"none\"\n",
    "]"
   ]
  },
  {
   "cell_type": "code",
   "execution_count": 24,
   "id": "f84f73a2",
   "metadata": {
    "execution": {
     "iopub.execute_input": "2025-07-28T10:19:03.268347Z",
     "iopub.status.busy": "2025-07-28T10:19:03.267605Z",
     "iopub.status.idle": "2025-07-28T10:19:03.274738Z",
     "shell.execute_reply": "2025-07-28T10:19:03.273764Z"
    },
    "papermill": {
     "duration": 0.032297,
     "end_time": "2025-07-28T10:19:03.276474",
     "exception": false,
     "start_time": "2025-07-28T10:19:03.244177",
     "status": "completed"
    },
    "tags": []
   },
   "outputs": [],
   "source": [
    "from utils import flatten_once\n",
    "\n",
    "excluded_features_columns = flatten_once(excluded_features_columns)"
   ]
  },
  {
   "cell_type": "code",
   "execution_count": 25,
   "id": "884dea22",
   "metadata": {
    "execution": {
     "iopub.execute_input": "2025-07-28T10:19:03.322781Z",
     "iopub.status.busy": "2025-07-28T10:19:03.321869Z",
     "iopub.status.idle": "2025-07-28T10:19:03.328315Z",
     "shell.execute_reply": "2025-07-28T10:19:03.327241Z"
    },
    "papermill": {
     "duration": 0.031546,
     "end_time": "2025-07-28T10:19:03.330166",
     "exception": false,
     "start_time": "2025-07-28T10:19:03.298620",
     "status": "completed"
    },
    "tags": []
   },
   "outputs": [],
   "source": [
    "if len(excluded_features_columns) > 0:\n",
    "    print(f\"Dropping features: {excluded_features_columns}\")\n",
    "    X_train.drop(excluded_features_columns, axis=1, inplace=True)"
   ]
  },
  {
   "cell_type": "code",
   "execution_count": 26,
   "id": "95ab8b16",
   "metadata": {
    "execution": {
     "iopub.execute_input": "2025-07-28T10:19:03.374015Z",
     "iopub.status.busy": "2025-07-28T10:19:03.373518Z",
     "iopub.status.idle": "2025-07-28T10:19:03.379480Z",
     "shell.execute_reply": "2025-07-28T10:19:03.378465Z"
    },
    "papermill": {
     "duration": 0.029675,
     "end_time": "2025-07-28T10:19:03.381092",
     "exception": false,
     "start_time": "2025-07-28T10:19:03.351417",
     "status": "completed"
    },
    "tags": []
   },
   "outputs": [],
   "source": [
    "if len(excluded_features_columns) > 0:\n",
    "    print(f\"Dropping features: {excluded_features_columns}\")\n",
    "    X_test.drop(excluded_features_columns, axis=1, inplace=True)"
   ]
  },
  {
   "cell_type": "code",
   "execution_count": 27,
   "id": "1853aaf5-fb9f-46cb-a2b5-8ea4ae2237e4",
   "metadata": {
    "execution": {
     "iopub.execute_input": "2025-07-28T10:19:03.425149Z",
     "iopub.status.busy": "2025-07-28T10:19:03.424278Z",
     "iopub.status.idle": "2025-07-28T10:19:03.430228Z",
     "shell.execute_reply": "2025-07-28T10:19:03.429388Z"
    },
    "papermill": {
     "duration": 0.029524,
     "end_time": "2025-07-28T10:19:03.431497",
     "exception": false,
     "start_time": "2025-07-28T10:19:03.401973",
     "status": "completed"
    },
    "tags": []
   },
   "outputs": [],
   "source": [
    "if len(excluded_features_columns) > 0:\n",
    "    print(f\"Dropping features: {excluded_features_columns}\")\n",
    "    X_calib.drop(excluded_features_columns, axis=1, inplace=True)"
   ]
  },
  {
   "cell_type": "code",
   "execution_count": 28,
   "id": "6727d079-03e5-481e-9d38-292a90b7a0a8",
   "metadata": {
    "execution": {
     "iopub.execute_input": "2025-07-28T10:19:03.455203Z",
     "iopub.status.busy": "2025-07-28T10:19:03.454668Z",
     "iopub.status.idle": "2025-07-28T10:19:03.458967Z",
     "shell.execute_reply": "2025-07-28T10:19:03.457853Z"
    },
    "papermill": {
     "duration": 0.017671,
     "end_time": "2025-07-28T10:19:03.460703",
     "exception": false,
     "start_time": "2025-07-28T10:19:03.443032",
     "status": "completed"
    },
    "tags": []
   },
   "outputs": [],
   "source": [
    "# SPLIT & STRATIFY DATA\n",
    "# ----------------------"
   ]
  },
  {
   "cell_type": "code",
   "execution_count": 29,
   "id": "76c4dc6d",
   "metadata": {
    "execution": {
     "iopub.execute_input": "2025-07-28T10:19:03.505474Z",
     "iopub.status.busy": "2025-07-28T10:19:03.504719Z",
     "iopub.status.idle": "2025-07-28T10:19:03.510318Z",
     "shell.execute_reply": "2025-07-28T10:19:03.509372Z"
    },
    "papermill": {
     "duration": 0.029981,
     "end_time": "2025-07-28T10:19:03.511992",
     "exception": false,
     "start_time": "2025-07-28T10:19:03.482011",
     "status": "completed"
    },
    "tags": []
   },
   "outputs": [],
   "source": [
    "# EXCLUDE CERTAIN SUBGROUPS\n",
    "# ----------------------\n",
    "\n",
    "mode = universe.get(\"exclude_subgroups\", \"keep-all\") \n",
    "# Fetches the exclude_subgroups setting from the universe dict.\n",
    "# Defaults to \"keep-all\" if the key is missing."
   ]
  },
  {
   "cell_type": "code",
   "execution_count": 30,
   "id": "21994072",
   "metadata": {
    "execution": {
     "iopub.execute_input": "2025-07-28T10:19:03.555898Z",
     "iopub.status.busy": "2025-07-28T10:19:03.555418Z",
     "iopub.status.idle": "2025-07-28T10:19:03.563294Z",
     "shell.execute_reply": "2025-07-28T10:19:03.562323Z"
    },
    "papermill": {
     "duration": 0.032005,
     "end_time": "2025-07-28T10:19:03.564999",
     "exception": false,
     "start_time": "2025-07-28T10:19:03.532994",
     "status": "completed"
    },
    "tags": []
   },
   "outputs": [],
   "source": [
    "if mode == \"keep-all\":\n",
    "    keep_mask = pd.Series(True, index=org_train.index)\n",
    "\n",
    "# org_train contains the original feature columns from features_org (in Simson)\n",
    "# features_org contains unprocessed features, for me X_train at beginning ???\n",
    "# For keep-all, creates a boolean Series (keep_mask) of all True, so no rows are removed.\n",
    "\n",
    "elif mode == \"drop-non-german\":\n",
    "    keep_mask = org_train[\"maxdeutsch1\"] == 1 # ??? what about missing values?\n",
    "\n",
    "else:\n",
    "    raise ValueError(f\"Unsupported mode for exclude_subgroups: {mode}\")\n"
   ]
  },
  {
   "cell_type": "code",
   "execution_count": 31,
   "id": "71651440",
   "metadata": {
    "execution": {
     "iopub.execute_input": "2025-07-28T10:19:03.609904Z",
     "iopub.status.busy": "2025-07-28T10:19:03.609384Z",
     "iopub.status.idle": "2025-07-28T10:19:03.617195Z",
     "shell.execute_reply": "2025-07-28T10:19:03.616147Z"
    },
    "papermill": {
     "duration": 0.031895,
     "end_time": "2025-07-28T10:19:03.618918",
     "exception": false,
     "start_time": "2025-07-28T10:19:03.587023",
     "status": "completed"
    },
    "tags": []
   },
   "outputs": [
    {
     "name": "stdout",
     "output_type": "stream",
     "text": [
      "Dropping 3312 rows (13.25%) where mode='drop-non-german'\n"
     ]
    }
   ],
   "source": [
    "n_drop = (~keep_mask).sum() # Calculates how many rows are set to be dropped\n",
    "if n_drop > 0:\n",
    "    pct = n_drop / len(keep_mask) * 100\n",
    "    print(f\"Dropping {n_drop} rows ({pct:.2f}%) where mode='{mode}'\")"
   ]
  },
  {
   "cell_type": "code",
   "execution_count": 32,
   "id": "5fb8eee5",
   "metadata": {
    "execution": {
     "iopub.execute_input": "2025-07-28T10:19:03.677587Z",
     "iopub.status.busy": "2025-07-28T10:19:03.677005Z",
     "iopub.status.idle": "2025-07-28T10:19:03.692347Z",
     "shell.execute_reply": "2025-07-28T10:19:03.691166Z"
    },
    "papermill": {
     "duration": 0.053303,
     "end_time": "2025-07-28T10:19:03.694504",
     "exception": false,
     "start_time": "2025-07-28T10:19:03.641201",
     "status": "completed"
    },
    "tags": []
   },
   "outputs": [],
   "source": [
    "X_train = X_train[keep_mask]"
   ]
  },
  {
   "cell_type": "code",
   "execution_count": 33,
   "id": "b202bb3a",
   "metadata": {
    "execution": {
     "iopub.execute_input": "2025-07-28T10:19:03.741330Z",
     "iopub.status.busy": "2025-07-28T10:19:03.740547Z",
     "iopub.status.idle": "2025-07-28T10:19:03.747864Z",
     "shell.execute_reply": "2025-07-28T10:19:03.746896Z"
    },
    "papermill": {
     "duration": 0.032241,
     "end_time": "2025-07-28T10:19:03.749710",
     "exception": false,
     "start_time": "2025-07-28T10:19:03.717469",
     "status": "completed"
    },
    "tags": []
   },
   "outputs": [],
   "source": [
    "y_train = y_train[keep_mask]"
   ]
  },
  {
   "cell_type": "markdown",
   "id": "493e2ac3",
   "metadata": {
    "papermill": {
     "duration": 0.02282,
     "end_time": "2025-07-28T10:19:03.794987",
     "exception": false,
     "start_time": "2025-07-28T10:19:03.772167",
     "status": "completed"
    },
    "tags": []
   },
   "source": [
    "# Model Training"
   ]
  },
  {
   "cell_type": "code",
   "execution_count": 34,
   "id": "679e1268",
   "metadata": {
    "execution": {
     "iopub.execute_input": "2025-07-28T10:19:03.842262Z",
     "iopub.status.busy": "2025-07-28T10:19:03.841704Z",
     "iopub.status.idle": "2025-07-28T10:19:03.955837Z",
     "shell.execute_reply": "2025-07-28T10:19:03.954869Z"
    },
    "papermill": {
     "duration": 0.140177,
     "end_time": "2025-07-28T10:19:03.957808",
     "exception": false,
     "start_time": "2025-07-28T10:19:03.817631",
     "status": "completed"
    },
    "tags": []
   },
   "outputs": [],
   "source": [
    "from sklearn.linear_model import LogisticRegression\n",
    "from sklearn.ensemble import GradientBoostingClassifier, RandomForestClassifier\n",
    "\n",
    "if (universe[\"model\"] == \"logreg\"):\n",
    "    model = LogisticRegression() #penalty=\"none\") #, solver=\"newton-cg\", max_iter=1) # include random_state=19 ?\n",
    "elif (universe[\"model\"] == \"penalized_logreg\"):\n",
    "    model = LogisticRegression(penalty=\"l2\", C=1.0) #, solver=\"newton-cg\", max_iter=1)\n",
    "elif (universe[\"model\"] == \"rf\"):\n",
    "    model = RandomForestClassifier(n_estimators=100, n_jobs=-1)\n",
    "elif (universe[\"model\"] == \"gbm\"):\n",
    "    model = GradientBoostingClassifier()\n",
    "elif (universe[\"model\"] == \"elasticnet\"):\n",
    "    model = LogisticRegression(penalty = 'elasticnet', solver = 'saga', l1_ratio = 0.5, max_iter=5000) # which solver to use?\n",
    "else:\n",
    "    raise \"Unsupported universe.model\""
   ]
  },
  {
   "cell_type": "code",
   "execution_count": 35,
   "id": "0cc8f744",
   "metadata": {
    "execution": {
     "iopub.execute_input": "2025-07-28T10:19:04.001811Z",
     "iopub.status.busy": "2025-07-28T10:19:04.001275Z",
     "iopub.status.idle": "2025-07-28T10:19:04.008294Z",
     "shell.execute_reply": "2025-07-28T10:19:04.007276Z"
    },
    "papermill": {
     "duration": 0.02889,
     "end_time": "2025-07-28T10:19:04.010101",
     "exception": false,
     "start_time": "2025-07-28T10:19:03.981211",
     "status": "completed"
    },
    "tags": []
   },
   "outputs": [],
   "source": [
    "import numpy as np\n",
    "from sklearn.pipeline import Pipeline\n",
    "from sklearn.preprocessing import StandardScaler\n",
    "\n",
    "model = Pipeline([\n",
    "    #(\"continuous_processor\", continuous_processor),\n",
    "    #(\"categorical_preprocessor\", categorical_preprocessor),\n",
    "    (\"scale\", StandardScaler() if universe[\"scale\"] == \"scale\" else None), \n",
    "    (\"model\", model),\n",
    "])"
   ]
  },
  {
   "cell_type": "code",
   "execution_count": 36,
   "id": "9442c04d",
   "metadata": {
    "execution": {
     "iopub.execute_input": "2025-07-28T10:19:04.056596Z",
     "iopub.status.busy": "2025-07-28T10:19:04.055928Z",
     "iopub.status.idle": "2025-07-28T10:19:06.737601Z",
     "shell.execute_reply": "2025-07-28T10:19:06.736524Z"
    },
    "papermill": {
     "duration": 2.713759,
     "end_time": "2025-07-28T10:19:06.746593",
     "exception": false,
     "start_time": "2025-07-28T10:19:04.032834",
     "status": "completed"
    },
    "tags": []
   },
   "outputs": [
    {
     "data": {
      "text/html": [
       "<style>#sk-container-id-1 {color: black;background-color: white;}#sk-container-id-1 pre{padding: 0;}#sk-container-id-1 div.sk-toggleable {background-color: white;}#sk-container-id-1 label.sk-toggleable__label {cursor: pointer;display: block;width: 100%;margin-bottom: 0;padding: 0.3em;box-sizing: border-box;text-align: center;}#sk-container-id-1 label.sk-toggleable__label-arrow:before {content: \"▸\";float: left;margin-right: 0.25em;color: #696969;}#sk-container-id-1 label.sk-toggleable__label-arrow:hover:before {color: black;}#sk-container-id-1 div.sk-estimator:hover label.sk-toggleable__label-arrow:before {color: black;}#sk-container-id-1 div.sk-toggleable__content {max-height: 0;max-width: 0;overflow: hidden;text-align: left;background-color: #f0f8ff;}#sk-container-id-1 div.sk-toggleable__content pre {margin: 0.2em;color: black;border-radius: 0.25em;background-color: #f0f8ff;}#sk-container-id-1 input.sk-toggleable__control:checked~div.sk-toggleable__content {max-height: 200px;max-width: 100%;overflow: auto;}#sk-container-id-1 input.sk-toggleable__control:checked~label.sk-toggleable__label-arrow:before {content: \"▾\";}#sk-container-id-1 div.sk-estimator input.sk-toggleable__control:checked~label.sk-toggleable__label {background-color: #d4ebff;}#sk-container-id-1 div.sk-label input.sk-toggleable__control:checked~label.sk-toggleable__label {background-color: #d4ebff;}#sk-container-id-1 input.sk-hidden--visually {border: 0;clip: rect(1px 1px 1px 1px);clip: rect(1px, 1px, 1px, 1px);height: 1px;margin: -1px;overflow: hidden;padding: 0;position: absolute;width: 1px;}#sk-container-id-1 div.sk-estimator {font-family: monospace;background-color: #f0f8ff;border: 1px dotted black;border-radius: 0.25em;box-sizing: border-box;margin-bottom: 0.5em;}#sk-container-id-1 div.sk-estimator:hover {background-color: #d4ebff;}#sk-container-id-1 div.sk-parallel-item::after {content: \"\";width: 100%;border-bottom: 1px solid gray;flex-grow: 1;}#sk-container-id-1 div.sk-label:hover label.sk-toggleable__label {background-color: #d4ebff;}#sk-container-id-1 div.sk-serial::before {content: \"\";position: absolute;border-left: 1px solid gray;box-sizing: border-box;top: 0;bottom: 0;left: 50%;z-index: 0;}#sk-container-id-1 div.sk-serial {display: flex;flex-direction: column;align-items: center;background-color: white;padding-right: 0.2em;padding-left: 0.2em;position: relative;}#sk-container-id-1 div.sk-item {position: relative;z-index: 1;}#sk-container-id-1 div.sk-parallel {display: flex;align-items: stretch;justify-content: center;background-color: white;position: relative;}#sk-container-id-1 div.sk-item::before, #sk-container-id-1 div.sk-parallel-item::before {content: \"\";position: absolute;border-left: 1px solid gray;box-sizing: border-box;top: 0;bottom: 0;left: 50%;z-index: -1;}#sk-container-id-1 div.sk-parallel-item {display: flex;flex-direction: column;z-index: 1;position: relative;background-color: white;}#sk-container-id-1 div.sk-parallel-item:first-child::after {align-self: flex-end;width: 50%;}#sk-container-id-1 div.sk-parallel-item:last-child::after {align-self: flex-start;width: 50%;}#sk-container-id-1 div.sk-parallel-item:only-child::after {width: 0;}#sk-container-id-1 div.sk-dashed-wrapped {border: 1px dashed gray;margin: 0 0.4em 0.5em 0.4em;box-sizing: border-box;padding-bottom: 0.4em;background-color: white;}#sk-container-id-1 div.sk-label label {font-family: monospace;font-weight: bold;display: inline-block;line-height: 1.2em;}#sk-container-id-1 div.sk-label-container {text-align: center;}#sk-container-id-1 div.sk-container {/* jupyter's `normalize.less` sets `[hidden] { display: none; }` but bootstrap.min.css set `[hidden] { display: none !important; }` so we also need the `!important` here to be able to override the default hidden behavior on the sphinx rendered scikit-learn.org. See: https://github.com/scikit-learn/scikit-learn/issues/21755 */display: inline-block !important;position: relative;}#sk-container-id-1 div.sk-text-repr-fallback {display: none;}</style><div id=\"sk-container-id-1\" class=\"sk-top-container\"><div class=\"sk-text-repr-fallback\"><pre>Pipeline(steps=[(&#x27;scale&#x27;, None), (&#x27;model&#x27;, RandomForestClassifier(n_jobs=-1))])</pre><b>In a Jupyter environment, please rerun this cell to show the HTML representation or trust the notebook. <br />On GitHub, the HTML representation is unable to render, please try loading this page with nbviewer.org.</b></div><div class=\"sk-container\" hidden><div class=\"sk-item sk-dashed-wrapped\"><div class=\"sk-label-container\"><div class=\"sk-label sk-toggleable\"><input class=\"sk-toggleable__control sk-hidden--visually\" id=\"sk-estimator-id-1\" type=\"checkbox\" ><label for=\"sk-estimator-id-1\" class=\"sk-toggleable__label sk-toggleable__label-arrow\">Pipeline</label><div class=\"sk-toggleable__content\"><pre>Pipeline(steps=[(&#x27;scale&#x27;, None), (&#x27;model&#x27;, RandomForestClassifier(n_jobs=-1))])</pre></div></div></div><div class=\"sk-serial\"><div class=\"sk-item\"><div class=\"sk-estimator sk-toggleable\"><input class=\"sk-toggleable__control sk-hidden--visually\" id=\"sk-estimator-id-2\" type=\"checkbox\" ><label for=\"sk-estimator-id-2\" class=\"sk-toggleable__label sk-toggleable__label-arrow\">None</label><div class=\"sk-toggleable__content\"><pre>None</pre></div></div></div><div class=\"sk-item\"><div class=\"sk-estimator sk-toggleable\"><input class=\"sk-toggleable__control sk-hidden--visually\" id=\"sk-estimator-id-3\" type=\"checkbox\" ><label for=\"sk-estimator-id-3\" class=\"sk-toggleable__label sk-toggleable__label-arrow\">RandomForestClassifier</label><div class=\"sk-toggleable__content\"><pre>RandomForestClassifier(n_jobs=-1)</pre></div></div></div></div></div></div></div>"
      ],
      "text/plain": [
       "Pipeline(steps=[('scale', None), ('model', RandomForestClassifier(n_jobs=-1))])"
      ]
     },
     "execution_count": 36,
     "metadata": {},
     "output_type": "execute_result"
    }
   ],
   "source": [
    "model.fit(X_train, y_train.values.ravel())"
   ]
  },
  {
   "cell_type": "code",
   "execution_count": 37,
   "id": "af59f8c0",
   "metadata": {
    "execution": {
     "iopub.execute_input": "2025-07-28T10:19:06.773330Z",
     "iopub.status.busy": "2025-07-28T10:19:06.772954Z",
     "iopub.status.idle": "2025-07-28T10:19:06.777256Z",
     "shell.execute_reply": "2025-07-28T10:19:06.776545Z"
    },
    "papermill": {
     "duration": 0.017892,
     "end_time": "2025-07-28T10:19:06.778558",
     "exception": false,
     "start_time": "2025-07-28T10:19:06.760666",
     "status": "completed"
    },
    "tags": []
   },
   "outputs": [],
   "source": [
    "from fairness_multiverse.universe import predict_w_threshold"
   ]
  },
  {
   "cell_type": "code",
   "execution_count": 38,
   "id": "a7cf2e16",
   "metadata": {
    "execution": {
     "iopub.execute_input": "2025-07-28T10:19:06.803102Z",
     "iopub.status.busy": "2025-07-28T10:19:06.802768Z",
     "iopub.status.idle": "2025-07-28T10:19:07.848885Z",
     "shell.execute_reply": "2025-07-28T10:19:07.847727Z"
    },
    "papermill": {
     "duration": 1.060018,
     "end_time": "2025-07-28T10:19:07.850726",
     "exception": false,
     "start_time": "2025-07-28T10:19:06.790708",
     "status": "completed"
    },
    "tags": []
   },
   "outputs": [
    {
     "data": {
      "text/plain": [
       "0.8651543863560361"
      ]
     },
     "execution_count": 38,
     "metadata": {},
     "output_type": "execute_result"
    }
   ],
   "source": [
    "probs_test = model.predict_proba(X_test)\n",
    "\n",
    "'''\n",
    "Below code returns a boolean array (or binary 0/1 array depending on how it’s used) where each element \n",
    "is True if the probability of class 1 is greater than or equal to the threshold, and False otherwise.\n",
    "'''\n",
    "y_pred_default = predict_w_threshold(probs_test, 0.5)\n",
    "\n",
    "from sklearn.metrics import accuracy_score\n",
    "\n",
    "# Naive prediction\n",
    "accuracy_score(y_true = y_true, y_pred = y_pred_default)"
   ]
  },
  {
   "cell_type": "code",
   "execution_count": 39,
   "id": "081964c3",
   "metadata": {
    "execution": {
     "iopub.execute_input": "2025-07-28T10:19:07.898296Z",
     "iopub.status.busy": "2025-07-28T10:19:07.897760Z",
     "iopub.status.idle": "2025-07-28T10:19:08.912825Z",
     "shell.execute_reply": "2025-07-28T10:19:08.911805Z"
    },
    "papermill": {
     "duration": 1.040814,
     "end_time": "2025-07-28T10:19:08.914709",
     "exception": false,
     "start_time": "2025-07-28T10:19:07.873895",
     "status": "completed"
    },
    "tags": []
   },
   "outputs": [
    {
     "data": {
      "text/plain": [
       "array([0, 0, 0, ..., 0, 0, 0])"
      ]
     },
     "execution_count": 39,
     "metadata": {},
     "output_type": "execute_result"
    }
   ],
   "source": [
    "model.predict(X_test)"
   ]
  },
  {
   "cell_type": "markdown",
   "id": "56c9705b",
   "metadata": {
    "papermill": {
     "duration": 0.023916,
     "end_time": "2025-07-28T10:19:08.962848",
     "exception": false,
     "start_time": "2025-07-28T10:19:08.938932",
     "status": "completed"
    },
    "tags": []
   },
   "source": [
    "# Conformal Prediction"
   ]
  },
  {
   "cell_type": "code",
   "execution_count": 40,
   "id": "160ec6ff",
   "metadata": {
    "execution": {
     "iopub.execute_input": "2025-07-28T10:19:09.010517Z",
     "iopub.status.busy": "2025-07-28T10:19:09.009990Z",
     "iopub.status.idle": "2025-07-28T10:19:09.015447Z",
     "shell.execute_reply": "2025-07-28T10:19:09.014453Z"
    },
    "papermill": {
     "duration": 0.031458,
     "end_time": "2025-07-28T10:19:09.017172",
     "exception": false,
     "start_time": "2025-07-28T10:19:08.985714",
     "status": "completed"
    },
    "tags": []
   },
   "outputs": [],
   "source": [
    "# Miscoverage level for conformal prediction (10% allowed error rate => 90% target coverage)\n",
    "alpha = 0.1"
   ]
  },
  {
   "cell_type": "code",
   "execution_count": 41,
   "id": "eadf4555-3dd3-440e-8e35-f82a4ad9f855",
   "metadata": {
    "execution": {
     "iopub.execute_input": "2025-07-28T10:19:09.066233Z",
     "iopub.status.busy": "2025-07-28T10:19:09.065286Z",
     "iopub.status.idle": "2025-07-28T10:19:10.149425Z",
     "shell.execute_reply": "2025-07-28T10:19:10.148118Z"
    },
    "papermill": {
     "duration": 1.110779,
     "end_time": "2025-07-28T10:19:10.151648",
     "exception": false,
     "start_time": "2025-07-28T10:19:09.040869",
     "status": "completed"
    },
    "tags": []
   },
   "outputs": [],
   "source": [
    "probs_calib = model.predict_proba(X_calib)"
   ]
  },
  {
   "cell_type": "code",
   "execution_count": 42,
   "id": "2ed93547-6d5d-4983-9b36-1ecb300da49a",
   "metadata": {
    "execution": {
     "iopub.execute_input": "2025-07-28T10:19:10.202644Z",
     "iopub.status.busy": "2025-07-28T10:19:10.201749Z",
     "iopub.status.idle": "2025-07-28T10:19:10.209463Z",
     "shell.execute_reply": "2025-07-28T10:19:10.208101Z"
    },
    "papermill": {
     "duration": 0.034259,
     "end_time": "2025-07-28T10:19:10.211316",
     "exception": false,
     "start_time": "2025-07-28T10:19:10.177057",
     "status": "completed"
    },
    "tags": []
   },
   "outputs": [],
   "source": [
    "y_calib = y_calib.values.ravel().astype(int)"
   ]
  },
  {
   "cell_type": "code",
   "execution_count": 43,
   "id": "65d1320d-f588-4b38-9072-62af1ae97f7d",
   "metadata": {
    "execution": {
     "iopub.execute_input": "2025-07-28T10:19:10.259474Z",
     "iopub.status.busy": "2025-07-28T10:19:10.259008Z",
     "iopub.status.idle": "2025-07-28T10:19:10.268318Z",
     "shell.execute_reply": "2025-07-28T10:19:10.267203Z"
    },
    "papermill": {
     "duration": 0.035476,
     "end_time": "2025-07-28T10:19:10.270168",
     "exception": false,
     "start_time": "2025-07-28T10:19:10.234692",
     "status": "completed"
    },
    "tags": []
   },
   "outputs": [],
   "source": [
    "from fairness_multiverse.conformal import compute_nc_scores\n",
    "\n",
    "# Compute nonconformity scores on calibration set (1 - probability of true class)\n",
    "nc_scores = compute_nc_scores(probs_calib, y_calib)"
   ]
  },
  {
   "cell_type": "code",
   "execution_count": 44,
   "id": "df3b8ca3-53b7-43d5-9667-7c85da7aeda2",
   "metadata": {
    "execution": {
     "iopub.execute_input": "2025-07-28T10:19:10.322118Z",
     "iopub.status.busy": "2025-07-28T10:19:10.321594Z",
     "iopub.status.idle": "2025-07-28T10:19:10.330122Z",
     "shell.execute_reply": "2025-07-28T10:19:10.328817Z"
    },
    "papermill": {
     "duration": 0.036824,
     "end_time": "2025-07-28T10:19:10.332113",
     "exception": false,
     "start_time": "2025-07-28T10:19:10.295289",
     "status": "completed"
    },
    "tags": []
   },
   "outputs": [],
   "source": [
    "from fairness_multiverse.conformal import find_threshold\n",
    "\n",
    "# Find conformal threshold q_hat for the given alpha (split conformal method)\n",
    "q_hat = find_threshold(nc_scores, alpha)"
   ]
  },
  {
   "cell_type": "code",
   "execution_count": 45,
   "id": "4d29e6c1-0ef6-4aa4-b8fe-4fe79b0d033a",
   "metadata": {
    "execution": {
     "iopub.execute_input": "2025-07-28T10:19:10.381642Z",
     "iopub.status.busy": "2025-07-28T10:19:10.380928Z",
     "iopub.status.idle": "2025-07-28T10:19:10.392027Z",
     "shell.execute_reply": "2025-07-28T10:19:10.390615Z"
    },
    "papermill": {
     "duration": 0.037887,
     "end_time": "2025-07-28T10:19:10.394148",
     "exception": false,
     "start_time": "2025-07-28T10:19:10.356261",
     "status": "completed"
    },
    "tags": []
   },
   "outputs": [
    {
     "data": {
      "text/plain": [
       "0.65"
      ]
     },
     "execution_count": 45,
     "metadata": {},
     "output_type": "execute_result"
    }
   ],
   "source": [
    "q_hat"
   ]
  },
  {
   "cell_type": "code",
   "execution_count": 46,
   "id": "92460794-cdac-4be2-ba28-f28c0515a6fb",
   "metadata": {
    "execution": {
     "iopub.execute_input": "2025-07-28T10:19:10.444325Z",
     "iopub.status.busy": "2025-07-28T10:19:10.443418Z",
     "iopub.status.idle": "2025-07-28T10:19:12.182866Z",
     "shell.execute_reply": "2025-07-28T10:19:12.182027Z"
    },
    "papermill": {
     "duration": 1.765746,
     "end_time": "2025-07-28T10:19:12.184437",
     "exception": false,
     "start_time": "2025-07-28T10:19:10.418691",
     "status": "completed"
    },
    "tags": []
   },
   "outputs": [],
   "source": [
    "from fairness_multiverse.conformal import predict_conformal_sets\n",
    "\n",
    "# Generate prediction sets for each test example\n",
    "pred_sets = predict_conformal_sets(model, X_test, q_hat)"
   ]
  },
  {
   "cell_type": "code",
   "execution_count": 47,
   "id": "d90c9a65-e6db-4f5d-80cd-e68fb7e46829",
   "metadata": {
    "execution": {
     "iopub.execute_input": "2025-07-28T10:19:12.212091Z",
     "iopub.status.busy": "2025-07-28T10:19:12.211535Z",
     "iopub.status.idle": "2025-07-28T10:19:12.216473Z",
     "shell.execute_reply": "2025-07-28T10:19:12.215691Z"
    },
    "papermill": {
     "duration": 0.031028,
     "end_time": "2025-07-28T10:19:12.229483",
     "exception": false,
     "start_time": "2025-07-28T10:19:12.198455",
     "status": "completed"
    },
    "tags": []
   },
   "outputs": [],
   "source": [
    "y_true = y_true.squeeze()"
   ]
  },
  {
   "cell_type": "code",
   "execution_count": 48,
   "id": "3a58a54a-1e68-46b9-927a-df01f18aebc8",
   "metadata": {
    "execution": {
     "iopub.execute_input": "2025-07-28T10:19:12.286704Z",
     "iopub.status.busy": "2025-07-28T10:19:12.285678Z",
     "iopub.status.idle": "2025-07-28T10:19:13.147686Z",
     "shell.execute_reply": "2025-07-28T10:19:13.146393Z"
    },
    "papermill": {
     "duration": 0.892327,
     "end_time": "2025-07-28T10:19:13.149421",
     "exception": false,
     "start_time": "2025-07-28T10:19:12.257094",
     "status": "completed"
    },
    "tags": []
   },
   "outputs": [],
   "source": [
    "from fairness_multiverse.conformal import evaluate_sets\n",
    "\n",
    "# Evaluate coverage and average set size on test data\n",
    "metrics = evaluate_sets(pred_sets, y_true)"
   ]
  },
  {
   "cell_type": "markdown",
   "id": "2b569c12-9aaa-4c88-98c9-bbcd0cf3ebb8",
   "metadata": {
    "papermill": {
     "duration": 0.01204,
     "end_time": "2025-07-28T10:19:13.177704",
     "exception": false,
     "start_time": "2025-07-28T10:19:13.165664",
     "status": "completed"
    },
    "tags": []
   },
   "source": [
    "# CP Metrics"
   ]
  },
  {
   "cell_type": "code",
   "execution_count": 49,
   "id": "5ce0a5cb-201f-45a0-ade5-94c7f0bd6095",
   "metadata": {
    "execution": {
     "iopub.execute_input": "2025-07-28T10:19:13.204099Z",
     "iopub.status.busy": "2025-07-28T10:19:13.203493Z",
     "iopub.status.idle": "2025-07-28T10:19:13.214620Z",
     "shell.execute_reply": "2025-07-28T10:19:13.210501Z"
    },
    "papermill": {
     "duration": 0.027601,
     "end_time": "2025-07-28T10:19:13.217253",
     "exception": false,
     "start_time": "2025-07-28T10:19:13.189652",
     "status": "completed"
    },
    "tags": []
   },
   "outputs": [
    {
     "data": {
      "text/plain": [
       "{'coverage': 0.9140675509976591, 'avg_size': 1.1427265633708616}"
      ]
     },
     "execution_count": 49,
     "metadata": {},
     "output_type": "execute_result"
    }
   ],
   "source": [
    "metrics"
   ]
  },
  {
   "cell_type": "code",
   "execution_count": 50,
   "id": "9b9a838d-31c9-430b-ae14-12baee460d17",
   "metadata": {
    "execution": {
     "iopub.execute_input": "2025-07-28T10:19:13.250563Z",
     "iopub.status.busy": "2025-07-28T10:19:13.249975Z",
     "iopub.status.idle": "2025-07-28T10:19:13.255169Z",
     "shell.execute_reply": "2025-07-28T10:19:13.254327Z"
    },
    "papermill": {
     "duration": 0.021058,
     "end_time": "2025-07-28T10:19:13.256833",
     "exception": false,
     "start_time": "2025-07-28T10:19:13.235775",
     "status": "completed"
    },
    "tags": []
   },
   "outputs": [],
   "source": [
    "example_universe = universe.copy()\n",
    "universe_training_size = example_universe.get(\"training_size\")\n",
    "universe_scale = example_universe.get(\"scale\")\n",
    "universe_model = example_universe.get(\"model\")\n",
    "universe_exclude_features = example_universe.get(\"exclude_features\")\n",
    "universe_exclude_subgroups = example_universe.get(\"exclude_subgroups\")"
   ]
  },
  {
   "cell_type": "code",
   "execution_count": 51,
   "id": "f4b6a8ac-9dc0-4245-8a91-5b3b5999c4f9",
   "metadata": {
    "execution": {
     "iopub.execute_input": "2025-07-28T10:19:13.283912Z",
     "iopub.status.busy": "2025-07-28T10:19:13.283398Z",
     "iopub.status.idle": "2025-07-28T10:19:13.289756Z",
     "shell.execute_reply": "2025-07-28T10:19:13.288794Z"
    },
    "papermill": {
     "duration": 0.021363,
     "end_time": "2025-07-28T10:19:13.291141",
     "exception": false,
     "start_time": "2025-07-28T10:19:13.269778",
     "status": "completed"
    },
    "tags": []
   },
   "outputs": [],
   "source": [
    "cp_metrics_dict = {\n",
    "    \"universe_id\": [universe_id],\n",
    "    \"universe_training_size\": [universe_training_size],\n",
    "    \"universe_scale\": [universe_scale],\n",
    "    \"universe_model\": [universe_model],\n",
    "    \"universe_exclude_features\": [universe_exclude_features],\n",
    "    \"universe_exclude_subgroups\": [universe_exclude_subgroups],\n",
    "    \"q_hat\": [q_hat],\n",
    "    \"coverage\": [metrics[\"coverage\"]],\n",
    "    \"avg_size\": [metrics[\"avg_size\"]],\n",
    "}"
   ]
  },
  {
   "cell_type": "code",
   "execution_count": 52,
   "id": "908acbb1-0371-4915-85ca-3fa520d2efe2",
   "metadata": {
    "execution": {
     "iopub.execute_input": "2025-07-28T10:19:13.357722Z",
     "iopub.status.busy": "2025-07-28T10:19:13.357140Z",
     "iopub.status.idle": "2025-07-28T10:19:13.366093Z",
     "shell.execute_reply": "2025-07-28T10:19:13.365120Z"
    },
    "papermill": {
     "duration": 0.046371,
     "end_time": "2025-07-28T10:19:13.367831",
     "exception": false,
     "start_time": "2025-07-28T10:19:13.321460",
     "status": "completed"
    },
    "tags": []
   },
   "outputs": [
    {
     "data": {
      "text/plain": [
       "{'universe_id': ['97d17cec2e970b627e37de65eaa733aa'],\n",
       " 'universe_training_size': ['25k'],\n",
       " 'universe_scale': ['do-not-scale'],\n",
       " 'universe_model': ['rf'],\n",
       " 'universe_exclude_features': ['none'],\n",
       " 'universe_exclude_subgroups': ['drop-non-german'],\n",
       " 'q_hat': [0.65],\n",
       " 'coverage': [0.9140675509976591],\n",
       " 'avg_size': [1.1427265633708616]}"
      ]
     },
     "execution_count": 52,
     "metadata": {},
     "output_type": "execute_result"
    }
   ],
   "source": [
    "cp_metrics_dict"
   ]
  },
  {
   "cell_type": "code",
   "execution_count": 53,
   "id": "33007efc-14e9-4ec6-97ac-56a455c82265",
   "metadata": {
    "execution": {
     "iopub.execute_input": "2025-07-28T10:19:13.418480Z",
     "iopub.status.busy": "2025-07-28T10:19:13.417944Z",
     "iopub.status.idle": "2025-07-28T10:19:13.425240Z",
     "shell.execute_reply": "2025-07-28T10:19:13.424217Z"
    },
    "papermill": {
     "duration": 0.034657,
     "end_time": "2025-07-28T10:19:13.427171",
     "exception": false,
     "start_time": "2025-07-28T10:19:13.392514",
     "status": "completed"
    },
    "tags": []
   },
   "outputs": [],
   "source": [
    "cp_metrics_df = pd.DataFrame(cp_metrics_dict)"
   ]
  },
  {
   "cell_type": "code",
   "execution_count": 54,
   "id": "db12611b-57b2-4910-b9d0-355adfd6e7bf",
   "metadata": {
    "execution": {
     "iopub.execute_input": "2025-07-28T10:19:13.475814Z",
     "iopub.status.busy": "2025-07-28T10:19:13.475303Z",
     "iopub.status.idle": "2025-07-28T10:19:13.509333Z",
     "shell.execute_reply": "2025-07-28T10:19:13.508085Z"
    },
    "papermill": {
     "duration": 0.060532,
     "end_time": "2025-07-28T10:19:13.511530",
     "exception": false,
     "start_time": "2025-07-28T10:19:13.450998",
     "status": "completed"
    },
    "tags": []
   },
   "outputs": [
    {
     "data": {
      "text/html": [
       "<div>\n",
       "<style scoped>\n",
       "    .dataframe tbody tr th:only-of-type {\n",
       "        vertical-align: middle;\n",
       "    }\n",
       "\n",
       "    .dataframe tbody tr th {\n",
       "        vertical-align: top;\n",
       "    }\n",
       "\n",
       "    .dataframe thead th {\n",
       "        text-align: right;\n",
       "    }\n",
       "</style>\n",
       "<table border=\"1\" class=\"dataframe\">\n",
       "  <thead>\n",
       "    <tr style=\"text-align: right;\">\n",
       "      <th></th>\n",
       "      <th>universe_id</th>\n",
       "      <th>universe_training_size</th>\n",
       "      <th>universe_scale</th>\n",
       "      <th>universe_model</th>\n",
       "      <th>universe_exclude_features</th>\n",
       "      <th>universe_exclude_subgroups</th>\n",
       "      <th>q_hat</th>\n",
       "      <th>coverage</th>\n",
       "      <th>avg_size</th>\n",
       "    </tr>\n",
       "  </thead>\n",
       "  <tbody>\n",
       "    <tr>\n",
       "      <th>0</th>\n",
       "      <td>97d17cec2e970b627e37de65eaa733aa</td>\n",
       "      <td>25k</td>\n",
       "      <td>do-not-scale</td>\n",
       "      <td>rf</td>\n",
       "      <td>none</td>\n",
       "      <td>drop-non-german</td>\n",
       "      <td>0.65</td>\n",
       "      <td>0.914068</td>\n",
       "      <td>1.142727</td>\n",
       "    </tr>\n",
       "  </tbody>\n",
       "</table>\n",
       "</div>"
      ],
      "text/plain": [
       "                        universe_id universe_training_size universe_scale  \\\n",
       "0  97d17cec2e970b627e37de65eaa733aa                    25k   do-not-scale   \n",
       "\n",
       "  universe_model universe_exclude_features universe_exclude_subgroups  q_hat  \\\n",
       "0             rf                      none            drop-non-german   0.65   \n",
       "\n",
       "   coverage  avg_size  \n",
       "0  0.914068  1.142727  "
      ]
     },
     "execution_count": 54,
     "metadata": {},
     "output_type": "execute_result"
    }
   ],
   "source": [
    "cp_metrics_df"
   ]
  },
  {
   "cell_type": "code",
   "execution_count": 55,
   "id": "b7fbde55-a0a1-47e4-9af6-fe4a17fa8c61",
   "metadata": {
    "execution": {
     "iopub.execute_input": "2025-07-28T10:19:13.564185Z",
     "iopub.status.busy": "2025-07-28T10:19:13.563245Z",
     "iopub.status.idle": "2025-07-28T10:19:13.568365Z",
     "shell.execute_reply": "2025-07-28T10:19:13.567382Z"
    },
    "papermill": {
     "duration": 0.033559,
     "end_time": "2025-07-28T10:19:13.570128",
     "exception": false,
     "start_time": "2025-07-28T10:19:13.536569",
     "status": "completed"
    },
    "tags": []
   },
   "outputs": [],
   "source": [
    "# Conditional Coverage & looking at subgroups"
   ]
  },
  {
   "cell_type": "code",
   "execution_count": 56,
   "id": "027ae886-68dd-4141-96c7-805a5450e1ef",
   "metadata": {
    "execution": {
     "iopub.execute_input": "2025-07-28T10:19:13.622345Z",
     "iopub.status.busy": "2025-07-28T10:19:13.621857Z",
     "iopub.status.idle": "2025-07-28T10:19:13.904141Z",
     "shell.execute_reply": "2025-07-28T10:19:13.903186Z"
    },
    "papermill": {
     "duration": 0.310387,
     "end_time": "2025-07-28T10:19:13.906252",
     "exception": false,
     "start_time": "2025-07-28T10:19:13.595865",
     "status": "completed"
    },
    "tags": []
   },
   "outputs": [],
   "source": [
    "from fairness_multiverse.conformal import build_cp_groups\n",
    "\n",
    "cp_groups_df = build_cp_groups(pred_sets, y_true, X_test.index, org_test)\n",
    "#needs universe_id and setting"
   ]
  },
  {
   "cell_type": "code",
   "execution_count": 57,
   "id": "01d5802c-663a-4d1f-9d69-e036faaffbf7",
   "metadata": {
    "execution": {
     "iopub.execute_input": "2025-07-28T10:19:13.960858Z",
     "iopub.status.busy": "2025-07-28T10:19:13.960350Z",
     "iopub.status.idle": "2025-07-28T10:19:13.965580Z",
     "shell.execute_reply": "2025-07-28T10:19:13.964576Z"
    },
    "papermill": {
     "duration": 0.033232,
     "end_time": "2025-07-28T10:19:13.967344",
     "exception": false,
     "start_time": "2025-07-28T10:19:13.934112",
     "status": "completed"
    },
    "tags": []
   },
   "outputs": [],
   "source": [
    "#delete\n",
    "#cp_groups_df"
   ]
  },
  {
   "cell_type": "code",
   "execution_count": 58,
   "id": "fa424af1-d1eb-443d-b717-2d279ada8408",
   "metadata": {
    "execution": {
     "iopub.execute_input": "2025-07-28T10:19:14.019177Z",
     "iopub.status.busy": "2025-07-28T10:19:14.018231Z",
     "iopub.status.idle": "2025-07-28T10:19:14.023817Z",
     "shell.execute_reply": "2025-07-28T10:19:14.022774Z"
    },
    "papermill": {
     "duration": 0.033837,
     "end_time": "2025-07-28T10:19:14.025584",
     "exception": false,
     "start_time": "2025-07-28T10:19:13.991747",
     "status": "completed"
    },
    "tags": []
   },
   "outputs": [],
   "source": [
    "#delete\n",
    "#percentage = (cp_groups_df['nongerman_female'] == 1).mean() * 100\n",
    "#print(percentage)\n"
   ]
  },
  {
   "cell_type": "code",
   "execution_count": 59,
   "id": "6cbdab96-b2b2-45af-ad54-d0516db2e28d",
   "metadata": {
    "execution": {
     "iopub.execute_input": "2025-07-28T10:19:14.078235Z",
     "iopub.status.busy": "2025-07-28T10:19:14.077642Z",
     "iopub.status.idle": "2025-07-28T10:19:15.929369Z",
     "shell.execute_reply": "2025-07-28T10:19:15.928098Z"
    },
    "papermill": {
     "duration": 1.880002,
     "end_time": "2025-07-28T10:19:15.931437",
     "exception": false,
     "start_time": "2025-07-28T10:19:14.051435",
     "status": "completed"
    },
    "tags": []
   },
   "outputs": [],
   "source": [
    "# Define covered = 1 if true_label is in the predicted set\n",
    "cp_groups_df['covered'] = cp_groups_df.apply(\n",
    "    lambda r: int(r['true_label'] in r['pred_set']),\n",
    "    axis=1\n",
    ")"
   ]
  },
  {
   "cell_type": "code",
   "execution_count": 60,
   "id": "338ff529-1a6b-4b87-a931-8e4788d52aad",
   "metadata": {
    "execution": {
     "iopub.execute_input": "2025-07-28T10:19:16.042843Z",
     "iopub.status.busy": "2025-07-28T10:19:16.042391Z",
     "iopub.status.idle": "2025-07-28T10:19:16.048529Z",
     "shell.execute_reply": "2025-07-28T10:19:16.047409Z"
    },
    "papermill": {
     "duration": 0.058445,
     "end_time": "2025-07-28T10:19:16.050346",
     "exception": false,
     "start_time": "2025-07-28T10:19:15.991901",
     "status": "completed"
    },
    "tags": []
   },
   "outputs": [],
   "source": [
    "#cp_groups_df"
   ]
  },
  {
   "cell_type": "code",
   "execution_count": 61,
   "id": "90032e27-66df-4540-9169-4e89cfbaa758",
   "metadata": {
    "execution": {
     "iopub.execute_input": "2025-07-28T10:19:16.115695Z",
     "iopub.status.busy": "2025-07-28T10:19:16.115296Z",
     "iopub.status.idle": "2025-07-28T10:19:16.127904Z",
     "shell.execute_reply": "2025-07-28T10:19:16.126843Z"
    },
    "papermill": {
     "duration": 0.041024,
     "end_time": "2025-07-28T10:19:16.129753",
     "exception": false,
     "start_time": "2025-07-28T10:19:16.088729",
     "status": "completed"
    },
    "tags": []
   },
   "outputs": [],
   "source": [
    "subgroups = ['frau1','nongerman','nongerman_male','nongerman_female']\n",
    "\n",
    "# Conditional coverage for subgroup==1\n",
    "cond_coverage = {\n",
    "    g: cp_groups_df.loc[cp_groups_df[g]==1, 'covered'].mean()\n",
    "    for g in subgroups\n",
    "}"
   ]
  },
  {
   "cell_type": "code",
   "execution_count": 62,
   "id": "1e348fb1-b9c3-45bc-ba23-f016827a7e0d",
   "metadata": {
    "execution": {
     "iopub.execute_input": "2025-07-28T10:19:16.182949Z",
     "iopub.status.busy": "2025-07-28T10:19:16.182459Z",
     "iopub.status.idle": "2025-07-28T10:19:16.190336Z",
     "shell.execute_reply": "2025-07-28T10:19:16.189315Z"
    },
    "papermill": {
     "duration": 0.039173,
     "end_time": "2025-07-28T10:19:16.194628",
     "exception": false,
     "start_time": "2025-07-28T10:19:16.155455",
     "status": "completed"
    },
    "tags": []
   },
   "outputs": [
    {
     "data": {
      "text/plain": [
       "{'frau1': 0.9136810890955654,\n",
       " 'nongerman': 0.9079885476898895,\n",
       " 'nongerman_male': 0.9231739169593803,\n",
       " 'nongerman_female': 0.8828614008941877}"
      ]
     },
     "execution_count": 62,
     "metadata": {},
     "output_type": "execute_result"
    }
   ],
   "source": [
    "cond_coverage"
   ]
  },
  {
   "cell_type": "code",
   "execution_count": 63,
   "id": "f5093324-c3dd-4d63-bc4c-8d945e5c8bbb",
   "metadata": {
    "execution": {
     "iopub.execute_input": "2025-07-28T10:19:16.251566Z",
     "iopub.status.busy": "2025-07-28T10:19:16.251140Z",
     "iopub.status.idle": "2025-07-28T10:19:16.259392Z",
     "shell.execute_reply": "2025-07-28T10:19:16.258285Z"
    },
    "papermill": {
     "duration": 0.038443,
     "end_time": "2025-07-28T10:19:16.261693",
     "exception": false,
     "start_time": "2025-07-28T10:19:16.223250",
     "status": "completed"
    },
    "tags": []
   },
   "outputs": [],
   "source": [
    "for subgroup, cov in cond_coverage.items():\n",
    "    cp_metrics_df[f\"cov_{subgroup}\"] = cov"
   ]
  },
  {
   "cell_type": "code",
   "execution_count": 64,
   "id": "6e872e10-dbe5-49e8-b554-5030c98ff75d",
   "metadata": {
    "execution": {
     "iopub.execute_input": "2025-07-28T10:19:16.319485Z",
     "iopub.status.busy": "2025-07-28T10:19:16.319023Z",
     "iopub.status.idle": "2025-07-28T10:19:16.344151Z",
     "shell.execute_reply": "2025-07-28T10:19:16.343065Z"
    },
    "papermill": {
     "duration": 0.057503,
     "end_time": "2025-07-28T10:19:16.346593",
     "exception": false,
     "start_time": "2025-07-28T10:19:16.289090",
     "status": "completed"
    },
    "tags": []
   },
   "outputs": [
    {
     "data": {
      "text/html": [
       "<div>\n",
       "<style scoped>\n",
       "    .dataframe tbody tr th:only-of-type {\n",
       "        vertical-align: middle;\n",
       "    }\n",
       "\n",
       "    .dataframe tbody tr th {\n",
       "        vertical-align: top;\n",
       "    }\n",
       "\n",
       "    .dataframe thead th {\n",
       "        text-align: right;\n",
       "    }\n",
       "</style>\n",
       "<table border=\"1\" class=\"dataframe\">\n",
       "  <thead>\n",
       "    <tr style=\"text-align: right;\">\n",
       "      <th></th>\n",
       "      <th>universe_id</th>\n",
       "      <th>universe_training_size</th>\n",
       "      <th>universe_scale</th>\n",
       "      <th>universe_model</th>\n",
       "      <th>universe_exclude_features</th>\n",
       "      <th>universe_exclude_subgroups</th>\n",
       "      <th>q_hat</th>\n",
       "      <th>coverage</th>\n",
       "      <th>avg_size</th>\n",
       "      <th>cov_frau1</th>\n",
       "      <th>cov_nongerman</th>\n",
       "      <th>cov_nongerman_male</th>\n",
       "      <th>cov_nongerman_female</th>\n",
       "    </tr>\n",
       "  </thead>\n",
       "  <tbody>\n",
       "    <tr>\n",
       "      <th>0</th>\n",
       "      <td>97d17cec2e970b627e37de65eaa733aa</td>\n",
       "      <td>25k</td>\n",
       "      <td>do-not-scale</td>\n",
       "      <td>rf</td>\n",
       "      <td>none</td>\n",
       "      <td>drop-non-german</td>\n",
       "      <td>0.65</td>\n",
       "      <td>0.914068</td>\n",
       "      <td>1.142727</td>\n",
       "      <td>0.913681</td>\n",
       "      <td>0.907989</td>\n",
       "      <td>0.923174</td>\n",
       "      <td>0.882861</td>\n",
       "    </tr>\n",
       "  </tbody>\n",
       "</table>\n",
       "</div>"
      ],
      "text/plain": [
       "                        universe_id universe_training_size universe_scale  \\\n",
       "0  97d17cec2e970b627e37de65eaa733aa                    25k   do-not-scale   \n",
       "\n",
       "  universe_model universe_exclude_features universe_exclude_subgroups  q_hat  \\\n",
       "0             rf                      none            drop-non-german   0.65   \n",
       "\n",
       "   coverage  avg_size  cov_frau1  cov_nongerman  cov_nongerman_male  \\\n",
       "0  0.914068  1.142727   0.913681       0.907989            0.923174   \n",
       "\n",
       "   cov_nongerman_female  \n",
       "0              0.882861  "
      ]
     },
     "execution_count": 64,
     "metadata": {},
     "output_type": "execute_result"
    }
   ],
   "source": [
    "cp_metrics_df"
   ]
  },
  {
   "cell_type": "markdown",
   "id": "33774451",
   "metadata": {
    "papermill": {
     "duration": 0.027247,
     "end_time": "2025-07-28T10:19:16.402398",
     "exception": false,
     "start_time": "2025-07-28T10:19:16.375151",
     "status": "completed"
    },
    "tags": []
   },
   "source": [
    "# (Fairness) Metrics"
   ]
  },
  {
   "cell_type": "code",
   "execution_count": 65,
   "id": "debc5d62",
   "metadata": {
    "execution": {
     "iopub.execute_input": "2025-07-28T10:19:16.460135Z",
     "iopub.status.busy": "2025-07-28T10:19:16.459660Z",
     "iopub.status.idle": "2025-07-28T10:19:16.485091Z",
     "shell.execute_reply": "2025-07-28T10:19:16.484019Z"
    },
    "papermill": {
     "duration": 0.057246,
     "end_time": "2025-07-28T10:19:16.487141",
     "exception": false,
     "start_time": "2025-07-28T10:19:16.429895",
     "status": "completed"
    },
    "tags": []
   },
   "outputs": [],
   "source": [
    "# do I need to include maxdeutsch1.missing?\n",
    "\n",
    "import numpy as np\n",
    "\n",
    "colname_to_bin = \"maxdeutsch1\"\n",
    "majority_value = org_train[colname_to_bin].mode()[0]\n",
    "\n",
    "org_test[\"majmin\"] = np.where(org_test[colname_to_bin] == majority_value, \"majority\", \"minority\")"
   ]
  },
  {
   "cell_type": "code",
   "execution_count": 66,
   "id": "06a50de5",
   "metadata": {
    "execution": {
     "iopub.execute_input": "2025-07-28T10:19:16.551587Z",
     "iopub.status.busy": "2025-07-28T10:19:16.551070Z",
     "iopub.status.idle": "2025-07-28T10:19:19.685642Z",
     "shell.execute_reply": "2025-07-28T10:19:19.684639Z"
    },
    "papermill": {
     "duration": 3.172483,
     "end_time": "2025-07-28T10:19:19.687726",
     "exception": false,
     "start_time": "2025-07-28T10:19:16.515243",
     "status": "completed"
    },
    "tags": []
   },
   "outputs": [],
   "source": [
    "example_universe = universe.copy()\n",
    "example_universe[\"cutoff\"] = example_universe[\"cutoff\"][0]\n",
    "example_universe[\"eval_fairness_grouping\"] = example_universe[\"eval_fairness_grouping\"][0]\n",
    "fairness_dict, metric_frame = universe_analysis.compute_metrics(\n",
    "    example_universe,\n",
    "    y_pred_prob=probs_test,\n",
    "    y_test=y_true,\n",
    "    org_test=org_test,\n",
    ")"
   ]
  },
  {
   "cell_type": "markdown",
   "id": "f95d4e02",
   "metadata": {
    "papermill": {
     "duration": 0.036038,
     "end_time": "2025-07-28T10:19:19.776430",
     "exception": false,
     "start_time": "2025-07-28T10:19:19.740392",
     "status": "completed"
    },
    "tags": []
   },
   "source": [
    "# Overall"
   ]
  },
  {
   "cell_type": "markdown",
   "id": "bdee4871",
   "metadata": {
    "papermill": {
     "duration": 0.068631,
     "end_time": "2025-07-28T10:19:19.920904",
     "exception": false,
     "start_time": "2025-07-28T10:19:19.852273",
     "status": "completed"
    },
    "tags": []
   },
   "source": [
    "Fairness\n",
    "Main fairness target: Equalized Odds. Seems to be a better fit than equal opportunity, since we're not only interested in Y = 1. Seems to be a better fit than demographic parity, since we also care about accuracy, not just equal distribution of preds.\n",
    "\n",
    "Pick column for computation of fairness metrics\n",
    "\n",
    "Performance\n",
    "Overall performance measures, most interesting in relation to the measures split by group below"
   ]
  },
  {
   "cell_type": "code",
   "execution_count": 67,
   "id": "c4e067c6",
   "metadata": {
    "execution": {
     "iopub.execute_input": "2025-07-28T10:19:20.090068Z",
     "iopub.status.busy": "2025-07-28T10:19:20.089640Z",
     "iopub.status.idle": "2025-07-28T10:19:20.099501Z",
     "shell.execute_reply": "2025-07-28T10:19:20.098458Z"
    },
    "papermill": {
     "duration": 0.13125,
     "end_time": "2025-07-28T10:19:20.101401",
     "exception": false,
     "start_time": "2025-07-28T10:19:19.970151",
     "status": "completed"
    },
    "tags": []
   },
   "outputs": [
    {
     "data": {
      "text/plain": [
       "accuracy                   0.189355\n",
       "balanced accuracy          0.528398\n",
       "f1                         0.237553\n",
       "precision                  0.135073\n",
       "false positive rate        0.927649\n",
       "false negative rate        0.015554\n",
       "selection rate             0.934935\n",
       "count                  89710.000000\n",
       "dtype: float64"
      ]
     },
     "execution_count": 67,
     "metadata": {},
     "output_type": "execute_result"
    }
   ],
   "source": [
    "metric_frame.overall"
   ]
  },
  {
   "cell_type": "markdown",
   "id": "e968fe9d",
   "metadata": {
    "papermill": {
     "duration": 0.067113,
     "end_time": "2025-07-28T10:19:20.255374",
     "exception": false,
     "start_time": "2025-07-28T10:19:20.188261",
     "status": "completed"
    },
    "tags": []
   },
   "source": [
    "By Group"
   ]
  },
  {
   "cell_type": "code",
   "execution_count": 68,
   "id": "ec325bce",
   "metadata": {
    "execution": {
     "iopub.execute_input": "2025-07-28T10:19:20.342943Z",
     "iopub.status.busy": "2025-07-28T10:19:20.342518Z",
     "iopub.status.idle": "2025-07-28T10:19:20.368971Z",
     "shell.execute_reply": "2025-07-28T10:19:20.367947Z"
    },
    "papermill": {
     "duration": 0.076782,
     "end_time": "2025-07-28T10:19:20.378379",
     "exception": false,
     "start_time": "2025-07-28T10:19:20.301597",
     "status": "completed"
    },
    "tags": []
   },
   "outputs": [
    {
     "data": {
      "text/html": [
       "<div>\n",
       "<style scoped>\n",
       "    .dataframe tbody tr th:only-of-type {\n",
       "        vertical-align: middle;\n",
       "    }\n",
       "\n",
       "    .dataframe tbody tr th {\n",
       "        vertical-align: top;\n",
       "    }\n",
       "\n",
       "    .dataframe thead th {\n",
       "        text-align: right;\n",
       "    }\n",
       "</style>\n",
       "<table border=\"1\" class=\"dataframe\">\n",
       "  <thead>\n",
       "    <tr style=\"text-align: right;\">\n",
       "      <th></th>\n",
       "      <th>accuracy</th>\n",
       "      <th>balanced accuracy</th>\n",
       "      <th>f1</th>\n",
       "      <th>precision</th>\n",
       "      <th>false positive rate</th>\n",
       "      <th>false negative rate</th>\n",
       "      <th>selection rate</th>\n",
       "      <th>count</th>\n",
       "    </tr>\n",
       "    <tr>\n",
       "      <th>majmin</th>\n",
       "      <th></th>\n",
       "      <th></th>\n",
       "      <th></th>\n",
       "      <th></th>\n",
       "      <th></th>\n",
       "      <th></th>\n",
       "      <th></th>\n",
       "      <th></th>\n",
       "    </tr>\n",
       "  </thead>\n",
       "  <tbody>\n",
       "    <tr>\n",
       "      <th>majority</th>\n",
       "      <td>0.189316</td>\n",
       "      <td>0.529278</td>\n",
       "      <td>0.244242</td>\n",
       "      <td>0.139278</td>\n",
       "      <td>0.932800</td>\n",
       "      <td>0.008643</td>\n",
       "      <td>0.940538</td>\n",
       "      <td>69170.0</td>\n",
       "    </tr>\n",
       "    <tr>\n",
       "      <th>minority</th>\n",
       "      <td>0.189484</td>\n",
       "      <td>0.523569</td>\n",
       "      <td>0.214124</td>\n",
       "      <td>0.120536</td>\n",
       "      <td>0.910632</td>\n",
       "      <td>0.042230</td>\n",
       "      <td>0.916066</td>\n",
       "      <td>20540.0</td>\n",
       "    </tr>\n",
       "  </tbody>\n",
       "</table>\n",
       "</div>"
      ],
      "text/plain": [
       "          accuracy  balanced accuracy        f1  precision  \\\n",
       "majmin                                                       \n",
       "majority  0.189316           0.529278  0.244242   0.139278   \n",
       "minority  0.189484           0.523569  0.214124   0.120536   \n",
       "\n",
       "          false positive rate  false negative rate  selection rate    count  \n",
       "majmin                                                                       \n",
       "majority             0.932800             0.008643        0.940538  69170.0  \n",
       "minority             0.910632             0.042230        0.916066  20540.0  "
      ]
     },
     "execution_count": 68,
     "metadata": {},
     "output_type": "execute_result"
    }
   ],
   "source": [
    "metric_frame.by_group"
   ]
  },
  {
   "cell_type": "code",
   "execution_count": 69,
   "id": "a9ddbe63",
   "metadata": {
    "execution": {
     "iopub.execute_input": "2025-07-28T10:19:20.490686Z",
     "iopub.status.busy": "2025-07-28T10:19:20.490181Z",
     "iopub.status.idle": "2025-07-28T10:19:25.042266Z",
     "shell.execute_reply": "2025-07-28T10:19:25.040733Z"
    },
    "papermill": {
     "duration": 4.608223,
     "end_time": "2025-07-28T10:19:25.044670",
     "exception": false,
     "start_time": "2025-07-28T10:19:20.436447",
     "status": "completed"
    },
    "tags": []
   },
   "outputs": [
    {
     "data": {
      "text/plain": [
       "array([[<Axes: title={'center': 'accuracy'}, xlabel='majmin'>,\n",
       "        <Axes: title={'center': 'balanced accuracy'}, xlabel='majmin'>,\n",
       "        <Axes: title={'center': 'f1'}, xlabel='majmin'>],\n",
       "       [<Axes: title={'center': 'precision'}, xlabel='majmin'>,\n",
       "        <Axes: title={'center': 'false positive rate'}, xlabel='majmin'>,\n",
       "        <Axes: title={'center': 'false negative rate'}, xlabel='majmin'>],\n",
       "       [<Axes: title={'center': 'selection rate'}, xlabel='majmin'>,\n",
       "        <Axes: title={'center': 'count'}, xlabel='majmin'>,\n",
       "        <Axes: xlabel='majmin'>]], dtype=object)"
      ]
     },
     "execution_count": 69,
     "metadata": {},
     "output_type": "execute_result"
    },
    {
     "data": {
      "image/png": "[encoded data removed]",
      "text/plain": [
       "<Figure size 1200x800 with 9 Axes>"
      ]
     },
     "metadata": {},
     "output_type": "display_data"
    }
   ],
   "source": [
    "# In a graphic\n",
    "metric_frame.by_group.plot.bar(\n",
    "    subplots=True,\n",
    "    layout=[3, 3],\n",
    "    legend=False,\n",
    "    figsize=[12, 8],\n",
    "    title=\"Show all metrics\",\n",
    ")"
   ]
  },
  {
   "cell_type": "markdown",
   "id": "f57a0bac",
   "metadata": {
    "papermill": {
     "duration": 0.060957,
     "end_time": "2025-07-28T10:19:25.172699",
     "exception": false,
     "start_time": "2025-07-28T10:19:25.111742",
     "status": "completed"
    },
    "tags": []
   },
   "source": [
    "# Final Output"
   ]
  },
  {
   "cell_type": "code",
   "execution_count": 70,
   "id": "96d280a3",
   "metadata": {
    "execution": {
     "iopub.execute_input": "2025-07-28T10:19:25.277200Z",
     "iopub.status.busy": "2025-07-28T10:19:25.276274Z",
     "iopub.status.idle": "2025-07-28T10:19:25.285347Z",
     "shell.execute_reply": "2025-07-28T10:19:25.284348Z"
    },
    "papermill": {
     "duration": 0.046279,
     "end_time": "2025-07-28T10:19:25.287147",
     "exception": false,
     "start_time": "2025-07-28T10:19:25.240868",
     "status": "completed"
    },
    "tags": []
   },
   "outputs": [
    {
     "data": {
      "text/plain": [
       "4"
      ]
     },
     "execution_count": 70,
     "metadata": {},
     "output_type": "execute_result"
    }
   ],
   "source": [
    "sub_universes = universe_analysis.generate_sub_universes()\n",
    "len(sub_universes)"
   ]
  },
  {
   "cell_type": "code",
   "execution_count": 71,
   "id": "92adf7ba",
   "metadata": {
    "execution": {
     "iopub.execute_input": "2025-07-28T10:19:25.343705Z",
     "iopub.status.busy": "2025-07-28T10:19:25.343306Z",
     "iopub.status.idle": "2025-07-28T10:19:25.349654Z",
     "shell.execute_reply": "2025-07-28T10:19:25.348644Z"
    },
    "papermill": {
     "duration": 0.037434,
     "end_time": "2025-07-28T10:19:25.351644",
     "exception": false,
     "start_time": "2025-07-28T10:19:25.314210",
     "status": "completed"
    },
    "tags": []
   },
   "outputs": [],
   "source": [
    "def filter_sub_universe_data(sub_universe, org_test):\n",
    "    # Keep all rows — no filtering\n",
    "    keep_rows_mask = np.ones(org_test.shape[0], dtype=bool)\n",
    "\n",
    "    print(f\"[INFO] Keeping all rows: {keep_rows_mask.sum()} rows retained.\")\n",
    "    return keep_rows_mask"
   ]
  },
  {
   "cell_type": "code",
   "execution_count": 72,
   "id": "4a759155",
   "metadata": {
    "execution": {
     "iopub.execute_input": "2025-07-28T10:19:25.409234Z",
     "iopub.status.busy": "2025-07-28T10:19:25.408824Z",
     "iopub.status.idle": "2025-07-28T10:19:41.968851Z",
     "shell.execute_reply": "2025-07-28T10:19:41.967763Z"
    },
    "papermill": {
     "duration": 16.589925,
     "end_time": "2025-07-28T10:19:41.970155",
     "exception": false,
     "start_time": "2025-07-28T10:19:25.380230",
     "status": "completed"
    },
    "tags": []
   },
   "outputs": [
    {
     "name": "stdout",
     "output_type": "stream",
     "text": [
      "Stopping execution_time clock.\n",
      "[INFO] Keeping all rows: 89710 rows retained.\n"
     ]
    },
    {
     "name": "stdout",
     "output_type": "stream",
     "text": [
      "[INFO] Keeping all rows: 89710 rows retained.\n"
     ]
    },
    {
     "name": "stdout",
     "output_type": "stream",
     "text": [
      "[INFO] Keeping all rows: 89710 rows retained.\n"
     ]
    },
    {
     "name": "stdout",
     "output_type": "stream",
     "text": [
      "[INFO] Keeping all rows: 89710 rows retained.\n"
     ]
    },
    {
     "data": {
      "text/html": [
       "<div>\n",
       "<style scoped>\n",
       "    .dataframe tbody tr th:only-of-type {\n",
       "        vertical-align: middle;\n",
       "    }\n",
       "\n",
       "    .dataframe tbody tr th {\n",
       "        vertical-align: top;\n",
       "    }\n",
       "\n",
       "    .dataframe thead th {\n",
       "        text-align: right;\n",
       "    }\n",
       "</style>\n",
       "<table border=\"1\" class=\"dataframe\">\n",
       "  <thead>\n",
       "    <tr style=\"text-align: right;\">\n",
       "      <th></th>\n",
       "      <th>run_no</th>\n",
       "      <th>universe_id</th>\n",
       "      <th>universe_settings</th>\n",
       "      <th>execution_time</th>\n",
       "      <th>test_size_n</th>\n",
       "      <th>test_size_frac</th>\n",
       "      <th>fair_main_equalized_odds_difference</th>\n",
       "      <th>fair_main_equalized_odds_ratio</th>\n",
       "      <th>fair_main_demographic_parity_difference</th>\n",
       "      <th>fair_main_demographic_parity_ratio</th>\n",
       "      <th>...</th>\n",
       "      <th>perf_grp_precision_0</th>\n",
       "      <th>perf_grp_precision_1</th>\n",
       "      <th>perf_grp_false positive rate_0</th>\n",
       "      <th>perf_grp_false positive rate_1</th>\n",
       "      <th>perf_grp_false negative rate_0</th>\n",
       "      <th>perf_grp_false negative rate_1</th>\n",
       "      <th>perf_grp_selection rate_0</th>\n",
       "      <th>perf_grp_selection rate_1</th>\n",
       "      <th>perf_grp_count_0</th>\n",
       "      <th>perf_grp_count_1</th>\n",
       "    </tr>\n",
       "  </thead>\n",
       "  <tbody>\n",
       "    <tr>\n",
       "      <th>0</th>\n",
       "      <td>11</td>\n",
       "      <td>97d17cec2e970b627e37de65eaa733aa</td>\n",
       "      <td>{\"cutoff\": \"quantile_0.1\", \"eval_fairness_grou...</td>\n",
       "      <td>38.723172</td>\n",
       "      <td>89710</td>\n",
       "      <td>1.0</td>\n",
       "      <td>0.033586</td>\n",
       "      <td>0.966121</td>\n",
       "      <td>0.024472</td>\n",
       "      <td>0.973981</td>\n",
       "      <td>...</td>\n",
       "      <td>NaN</td>\n",
       "      <td>NaN</td>\n",
       "      <td>NaN</td>\n",
       "      <td>NaN</td>\n",
       "      <td>NaN</td>\n",
       "      <td>NaN</td>\n",
       "      <td>NaN</td>\n",
       "      <td>NaN</td>\n",
       "      <td>NaN</td>\n",
       "      <td>NaN</td>\n",
       "    </tr>\n",
       "    <tr>\n",
       "      <th>0</th>\n",
       "      <td>11</td>\n",
       "      <td>97d17cec2e970b627e37de65eaa733aa</td>\n",
       "      <td>{\"cutoff\": \"quantile_0.1\", \"eval_fairness_grou...</td>\n",
       "      <td>38.723172</td>\n",
       "      <td>89710</td>\n",
       "      <td>1.0</td>\n",
       "      <td>0.033586</td>\n",
       "      <td>0.966121</td>\n",
       "      <td>0.024472</td>\n",
       "      <td>0.973981</td>\n",
       "      <td>...</td>\n",
       "      <td>0.120536</td>\n",
       "      <td>0.139278</td>\n",
       "      <td>0.910632</td>\n",
       "      <td>0.932800</td>\n",
       "      <td>0.042230</td>\n",
       "      <td>0.008643</td>\n",
       "      <td>0.916066</td>\n",
       "      <td>0.940538</td>\n",
       "      <td>20540.0</td>\n",
       "      <td>69170.0</td>\n",
       "    </tr>\n",
       "    <tr>\n",
       "      <th>0</th>\n",
       "      <td>11</td>\n",
       "      <td>97d17cec2e970b627e37de65eaa733aa</td>\n",
       "      <td>{\"cutoff\": \"quantile_0.25\", \"eval_fairness_gro...</td>\n",
       "      <td>38.723172</td>\n",
       "      <td>89710</td>\n",
       "      <td>1.0</td>\n",
       "      <td>0.080687</td>\n",
       "      <td>0.915832</td>\n",
       "      <td>0.041547</td>\n",
       "      <td>0.947580</td>\n",
       "      <td>...</td>\n",
       "      <td>NaN</td>\n",
       "      <td>NaN</td>\n",
       "      <td>NaN</td>\n",
       "      <td>NaN</td>\n",
       "      <td>NaN</td>\n",
       "      <td>NaN</td>\n",
       "      <td>NaN</td>\n",
       "      <td>NaN</td>\n",
       "      <td>NaN</td>\n",
       "      <td>NaN</td>\n",
       "    </tr>\n",
       "    <tr>\n",
       "      <th>0</th>\n",
       "      <td>11</td>\n",
       "      <td>97d17cec2e970b627e37de65eaa733aa</td>\n",
       "      <td>{\"cutoff\": \"quantile_0.25\", \"eval_fairness_gro...</td>\n",
       "      <td>38.723172</td>\n",
       "      <td>89710</td>\n",
       "      <td>1.0</td>\n",
       "      <td>0.080687</td>\n",
       "      <td>0.915832</td>\n",
       "      <td>0.041547</td>\n",
       "      <td>0.947580</td>\n",
       "      <td>...</td>\n",
       "      <td>0.134772</td>\n",
       "      <td>0.159826</td>\n",
       "      <td>0.734482</td>\n",
       "      <td>0.767283</td>\n",
       "      <td>0.122044</td>\n",
       "      <td>0.041357</td>\n",
       "      <td>0.751022</td>\n",
       "      <td>0.792569</td>\n",
       "      <td>20540.0</td>\n",
       "      <td>69170.0</td>\n",
       "    </tr>\n",
       "  </tbody>\n",
       "</table>\n",
       "<p>4 rows × 50 columns</p>\n",
       "</div>"
      ],
      "text/plain": [
       "  run_no                       universe_id  \\\n",
       "0     11  97d17cec2e970b627e37de65eaa733aa   \n",
       "0     11  97d17cec2e970b627e37de65eaa733aa   \n",
       "0     11  97d17cec2e970b627e37de65eaa733aa   \n",
       "0     11  97d17cec2e970b627e37de65eaa733aa   \n",
       "\n",
       "                                   universe_settings  execution_time  \\\n",
       "0  {\"cutoff\": \"quantile_0.1\", \"eval_fairness_grou...       38.723172   \n",
       "0  {\"cutoff\": \"quantile_0.1\", \"eval_fairness_grou...       38.723172   \n",
       "0  {\"cutoff\": \"quantile_0.25\", \"eval_fairness_gro...       38.723172   \n",
       "0  {\"cutoff\": \"quantile_0.25\", \"eval_fairness_gro...       38.723172   \n",
       "\n",
       "   test_size_n  test_size_frac  fair_main_equalized_odds_difference  \\\n",
       "0        89710             1.0                             0.033586   \n",
       "0        89710             1.0                             0.033586   \n",
       "0        89710             1.0                             0.080687   \n",
       "0        89710             1.0                             0.080687   \n",
       "\n",
       "   fair_main_equalized_odds_ratio  fair_main_demographic_parity_difference  \\\n",
       "0                        0.966121                                 0.024472   \n",
       "0                        0.966121                                 0.024472   \n",
       "0                        0.915832                                 0.041547   \n",
       "0                        0.915832                                 0.041547   \n",
       "\n",
       "   fair_main_demographic_parity_ratio  ...  perf_grp_precision_0  \\\n",
       "0                            0.973981  ...                   NaN   \n",
       "0                            0.973981  ...              0.120536   \n",
       "0                            0.947580  ...                   NaN   \n",
       "0                            0.947580  ...              0.134772   \n",
       "\n",
       "   perf_grp_precision_1  perf_grp_false positive rate_0  \\\n",
       "0                   NaN                             NaN   \n",
       "0              0.139278                        0.910632   \n",
       "0                   NaN                             NaN   \n",
       "0              0.159826                        0.734482   \n",
       "\n",
       "   perf_grp_false positive rate_1  perf_grp_false negative rate_0  \\\n",
       "0                             NaN                             NaN   \n",
       "0                        0.932800                        0.042230   \n",
       "0                             NaN                             NaN   \n",
       "0                        0.767283                        0.122044   \n",
       "\n",
       "   perf_grp_false negative rate_1  perf_grp_selection rate_0  \\\n",
       "0                             NaN                        NaN   \n",
       "0                        0.008643                   0.916066   \n",
       "0                             NaN                        NaN   \n",
       "0                        0.041357                   0.751022   \n",
       "\n",
       "   perf_grp_selection rate_1  perf_grp_count_0  perf_grp_count_1  \n",
       "0                        NaN               NaN               NaN  \n",
       "0                   0.940538           20540.0           69170.0  \n",
       "0                        NaN               NaN               NaN  \n",
       "0                   0.792569           20540.0           69170.0  \n",
       "\n",
       "[4 rows x 50 columns]"
      ]
     },
     "execution_count": 72,
     "metadata": {},
     "output_type": "execute_result"
    }
   ],
   "source": [
    "final_output = universe_analysis.generate_final_output(\n",
    "    y_pred_prob=probs_test,\n",
    "    y_test=y_true,\n",
    "    org_test=org_test,\n",
    "    filter_data=filter_sub_universe_data,\n",
    "    cp_metrics_df=cp_metrics_df,\n",
    "    save=True,\n",
    ")\n",
    "final_output"
   ]
  },
  {
   "cell_type": "code",
   "execution_count": null,
   "id": "721ff514-cb11-46f8-b6fc-50392f74b5cb",
   "metadata": {
    "papermill": {
     "duration": 0.017915,
     "end_time": "2025-07-28T10:19:42.008949",
     "exception": false,
     "start_time": "2025-07-28T10:19:41.991034",
     "status": "completed"
    },
    "tags": []
   },
   "outputs": [],
   "source": []
  }
 ],
 "metadata": {
  "celltoolbar": "Tags",
  "kernelspec": {
   "display_name": "Python (CMA Fairness)",
   "language": "python",
   "name": "cma_fair_env"
  },
  "language_info": {
   "codemirror_mode": {
    "name": "ipython",
    "version": 3
   },
   "file_extension": ".py",
   "mimetype": "text/x-python",
   "name": "python",
   "nbconvert_exporter": "python",
   "pygments_lexer": "ipython3",
   "version": "3.10.12"
  },
  "papermill": {
   "default_parameters": {},
   "duration": 59.840971,
   "end_time": "2025-07-28T10:19:43.042545",
   "environment_variables": {},
   "exception": null,
   "input_path": "universe_analysis.ipynb",
   "output_path": "output/runs/11/notebooks/m_11-97d17cec2e970b627e37de65eaa733aa.ipynb",
   "parameters": {
    "output_dir": "output",
    "run_no": "11",
    "seed": "2023",
    "universe": "{\"cutoff\": [\"quantile_0.1\", \"quantile_0.25\"], \"eval_fairness_grouping\": [\"majority-minority\", \"nationality-all\"], \"exclude_features\": \"none\", \"exclude_subgroups\": \"drop-non-german\", \"model\": \"rf\", \"scale\": \"do-not-scale\", \"training_size\": \"25k\"}",
    "universe_id": "97d17cec2e970b627e37de65eaa733aa"
   },
   "start_time": "2025-07-28T10:18:43.201574",
   "version": "2.6.0"
  }
 },
 "nbformat": 4,
 "nbformat_minor": 5
}