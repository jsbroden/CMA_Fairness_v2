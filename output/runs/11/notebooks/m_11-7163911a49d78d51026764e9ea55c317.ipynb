{
 "cells": [
  {
   "cell_type": "code",
   "execution_count": 1,
   "id": "f159f837-637b-42ba-96b5-ec9a68c44524",
   "metadata": {
    "execution": {
     "iopub.execute_input": "2025-07-28T11:05:51.437369Z",
     "iopub.status.busy": "2025-07-28T11:05:51.436890Z",
     "iopub.status.idle": "2025-07-28T11:05:51.458835Z",
     "shell.execute_reply": "2025-07-28T11:05:51.457792Z"
    },
    "papermill": {
     "duration": 0.091078,
     "end_time": "2025-07-28T11:05:51.460879",
     "exception": false,
     "start_time": "2025-07-28T11:05:51.369801",
     "status": "completed"
    },
    "tags": []
   },
   "outputs": [
    {
     "name": "stdout",
     "output_type": "stream",
     "text": [
      "/dss/dsshome1/0C/ra93lal2/cma/CMA_Fairness_v2\n"
     ]
    },
    {
     "name": "stderr",
     "output_type": "stream",
     "text": [
      "/dss/dsshome1/0C/ra93lal2/.local/share/virtualenvs/CMA_Fairness_v2-3j10GkSs/lib/python3.10/site-packages/IPython/core/magics/osm.py:393: UserWarning: This is now an optional IPython functionality, using bookmarks requires you to install the `pickleshare` library.\n",
      "  bkms = self.shell.db.get('bookmarks', {})\n",
      "/dss/dsshome1/0C/ra93lal2/.local/share/virtualenvs/CMA_Fairness_v2-3j10GkSs/lib/python3.10/site-packages/IPython/core/magics/osm.py:417: UserWarning: This is now an optional IPython functionality, setting dhist requires you to install the `pickleshare` library.\n",
      "  self.shell.db['dhist'] = compress_dhist(dhist)[-100:]\n"
     ]
    }
   ],
   "source": [
    "%cd ~/cma/CMA_Fairness_v2"
   ]
  },
  {
   "cell_type": "markdown",
   "id": "de2603b9",
   "metadata": {
    "papermill": {
     "duration": 0.024188,
     "end_time": "2025-07-28T11:05:51.519258",
     "exception": false,
     "start_time": "2025-07-28T11:05:51.495070",
     "status": "completed"
    },
    "tags": []
   },
   "source": [
    "The following cell holds the definition of our parameters, these values can be overriden by rendering the with e.g. the following command:\n",
    "\n",
    "papermill -p alpha 0.2 -p ratio 0.3 universe_analysis.ipynb output/test_run.ipynb"
   ]
  },
  {
   "cell_type": "code",
   "execution_count": 2,
   "id": "a80968a0-40bb-4fa9-85ef-2d5eefb01975",
   "metadata": {
    "execution": {
     "iopub.execute_input": "2025-07-28T11:05:51.556724Z",
     "iopub.status.busy": "2025-07-28T11:05:51.556302Z",
     "iopub.status.idle": "2025-07-28T11:05:51.562478Z",
     "shell.execute_reply": "2025-07-28T11:05:51.561345Z"
    },
    "papermill": {
     "duration": 0.037193,
     "end_time": "2025-07-28T11:05:51.572007",
     "exception": false,
     "start_time": "2025-07-28T11:05:51.534814",
     "status": "completed"
    },
    "tags": []
   },
   "outputs": [
    {
     "name": "stdout",
     "output_type": "stream",
     "text": [
      "Current working directory: /dss/dsshome1/0C/ra93lal2/cma/CMA_Fairness_v2\n"
     ]
    }
   ],
   "source": [
    "import os\n",
    "print(\"Current working directory:\", os.getcwd())"
   ]
  },
  {
   "cell_type": "code",
   "execution_count": 3,
   "id": "2dce4c03",
   "metadata": {
    "execution": {
     "iopub.execute_input": "2025-07-28T11:05:51.618212Z",
     "iopub.status.busy": "2025-07-28T11:05:51.617782Z",
     "iopub.status.idle": "2025-07-28T11:05:51.625018Z",
     "shell.execute_reply": "2025-07-28T11:05:51.623892Z"
    },
    "papermill": {
     "duration": 0.035916,
     "end_time": "2025-07-28T11:05:51.628794",
     "exception": false,
     "start_time": "2025-07-28T11:05:51.592878",
     "status": "completed"
    },
    "tags": [
     "parameters"
    ]
   },
   "outputs": [],
   "source": [
    "run_no = 0\n",
    "universe_id = \"test\"\n",
    "universe = {\n",
    "    \"training_size\": \"2014\", # \"25k\", \"5k\", \"1k\", \"2014\"\n",
    "    \"scale\": \"scale\", # \"scale\", \"do-not-scale\",\n",
    "    #\"stratify_split\": \"target\", # \"none\", \"target\", \"protected-attribute\", \"both\",\n",
    "    \"model\": \"elasticnet\", # \"logreg\", \"penalized_logreg\", \"rf\", \"gbm\", \"elasticnet\"\n",
    "    \"cutoff\": [\"quantile_0.15\", \"quantile_0.30\"],\n",
    "    \"exclude_features\": \"age\", # \"none\", \"nationality\", \"sex\", \"nationality-sex\", \"age\"\n",
    "    \"exclude_subgroups\": \"keep-all\", # \"keep-all\", \"drop-non-german\"\n",
    "    \"eval_fairness_grouping\": [\"majority-minority\", \"nationality-all\"]\n",
    "}\n",
    "\n",
    "output_dir=\"./output\"\n",
    "seed=0"
   ]
  },
  {
   "cell_type": "code",
   "execution_count": 4,
   "id": "19446938",
   "metadata": {
    "execution": {
     "iopub.execute_input": "2025-07-28T11:05:51.718693Z",
     "iopub.status.busy": "2025-07-28T11:05:51.718257Z",
     "iopub.status.idle": "2025-07-28T11:05:51.725745Z",
     "shell.execute_reply": "2025-07-28T11:05:51.724586Z"
    },
    "papermill": {
     "duration": 0.043646,
     "end_time": "2025-07-28T11:05:51.728275",
     "exception": false,
     "start_time": "2025-07-28T11:05:51.684629",
     "status": "completed"
    },
    "tags": [
     "injected-parameters"
    ]
   },
   "outputs": [],
   "source": [
    "# Parameters\n",
    "universe_id = \"7163911a49d78d51026764e9ea55c317\"\n",
    "run_no = \"11\"\n",
    "universe = \"{\\\"cutoff\\\": [\\\"quantile_0.1\\\", \\\"quantile_0.25\\\"], \\\"eval_fairness_grouping\\\": [\\\"majority-minority\\\", \\\"nationality-all\\\"], \\\"exclude_features\\\": \\\"nationality-sex\\\", \\\"exclude_subgroups\\\": \\\"keep-all\\\", \\\"model\\\": \\\"rf\\\", \\\"scale\\\": \\\"do-not-scale\\\", \\\"training_size\\\": \\\"2014\\\"}\"\n",
    "output_dir = \"output\"\n",
    "seed = \"2023\"\n"
   ]
  },
  {
   "cell_type": "code",
   "execution_count": 5,
   "id": "1650acaf",
   "metadata": {
    "execution": {
     "iopub.execute_input": "2025-07-28T11:05:51.828358Z",
     "iopub.status.busy": "2025-07-28T11:05:51.827867Z",
     "iopub.status.idle": "2025-07-28T11:05:51.833709Z",
     "shell.execute_reply": "2025-07-28T11:05:51.832639Z"
    },
    "papermill": {
     "duration": 0.06049,
     "end_time": "2025-07-28T11:05:51.838101",
     "exception": false,
     "start_time": "2025-07-28T11:05:51.777611",
     "status": "completed"
    },
    "tags": []
   },
   "outputs": [],
   "source": [
    "import json\n",
    "# Parse universe into dict if it is passed as a string\n",
    "if isinstance(universe, str):\n",
    "    universe = json.loads(universe)"
   ]
  },
  {
   "cell_type": "code",
   "execution_count": 6,
   "id": "16620c48",
   "metadata": {
    "execution": {
     "iopub.execute_input": "2025-07-28T11:05:51.966849Z",
     "iopub.status.busy": "2025-07-28T11:05:51.966423Z",
     "iopub.status.idle": "2025-07-28T11:05:52.063295Z",
     "shell.execute_reply": "2025-07-28T11:05:52.059597Z"
    },
    "papermill": {
     "duration": 0.164402,
     "end_time": "2025-07-28T11:05:52.066073",
     "exception": false,
     "start_time": "2025-07-28T11:05:51.901671",
     "status": "completed"
    },
    "tags": []
   },
   "outputs": [],
   "source": [
    "# Auto-reload the custom package\n",
    "%load_ext autoreload\n",
    "%autoreload 1\n",
    "%aimport fairness_multiverse"
   ]
  },
  {
   "cell_type": "code",
   "execution_count": 7,
   "id": "01c5c9f3",
   "metadata": {
    "execution": {
     "iopub.execute_input": "2025-07-28T11:05:52.147813Z",
     "iopub.status.busy": "2025-07-28T11:05:52.147183Z",
     "iopub.status.idle": "2025-07-28T11:05:58.258007Z",
     "shell.execute_reply": "2025-07-28T11:05:58.256639Z"
    },
    "papermill": {
     "duration": 6.156182,
     "end_time": "2025-07-28T11:05:58.260081",
     "exception": false,
     "start_time": "2025-07-28T11:05:52.103899",
     "status": "completed"
    },
    "tags": []
   },
   "outputs": [],
   "source": [
    "from fairness_multiverse.universe import UniverseAnalysis\n",
    "\n",
    "universe_analysis = UniverseAnalysis(\n",
    "    run_no = run_no,\n",
    "    universe_id = universe_id,\n",
    "    universe = universe,\n",
    "    output_dir=output_dir,\n",
    ")"
   ]
  },
  {
   "cell_type": "code",
   "execution_count": 8,
   "id": "106241f5",
   "metadata": {
    "execution": {
     "iopub.execute_input": "2025-07-28T11:05:58.402410Z",
     "iopub.status.busy": "2025-07-28T11:05:58.401895Z",
     "iopub.status.idle": "2025-07-28T11:05:58.409819Z",
     "shell.execute_reply": "2025-07-28T11:05:58.408857Z"
    },
    "papermill": {
     "duration": 0.084983,
     "end_time": "2025-07-28T11:05:58.411557",
     "exception": false,
     "start_time": "2025-07-28T11:05:58.326574",
     "status": "completed"
    },
    "tags": []
   },
   "outputs": [
    {
     "name": "stdout",
     "output_type": "stream",
     "text": [
      "Using Seed: 2023\n"
     ]
    }
   ],
   "source": [
    "import numpy as np\n",
    "parsed_seed = int(seed)\n",
    "np.random.seed(parsed_seed)\n",
    "print(f\"Using Seed: {parsed_seed}\")"
   ]
  },
  {
   "cell_type": "markdown",
   "id": "e0ebdc57",
   "metadata": {
    "papermill": {
     "duration": 0.060262,
     "end_time": "2025-07-28T11:05:58.544573",
     "exception": false,
     "start_time": "2025-07-28T11:05:58.484311",
     "status": "completed"
    },
    "tags": []
   },
   "source": [
    "# Loading Data"
   ]
  },
  {
   "cell_type": "markdown",
   "id": "681925a3",
   "metadata": {
    "papermill": {
     "duration": 0.071014,
     "end_time": "2025-07-28T11:05:58.676558",
     "exception": false,
     "start_time": "2025-07-28T11:05:58.605544",
     "status": "completed"
    },
    "tags": []
   },
   "source": [
    "Load siab_train, siab_test, siab_calib and/or \n",
    "load siab_train_features, siab_train_labels"
   ]
  },
  {
   "cell_type": "code",
   "execution_count": 9,
   "id": "f0496b8a",
   "metadata": {
    "execution": {
     "iopub.execute_input": "2025-07-28T11:05:58.799746Z",
     "iopub.status.busy": "2025-07-28T11:05:58.799312Z",
     "iopub.status.idle": "2025-07-28T11:06:29.446321Z",
     "shell.execute_reply": "2025-07-28T11:06:29.445156Z"
    },
    "papermill": {
     "duration": 30.741049,
     "end_time": "2025-07-28T11:06:29.477796",
     "exception": false,
     "start_time": "2025-07-28T11:05:58.736747",
     "status": "completed"
    },
    "tags": []
   },
   "outputs": [
    {
     "name": "stdout",
     "output_type": "stream",
     "text": [
      "Loading SIAB data from cache: data/siab_cached.csv.gz\n"
     ]
    },
    {
     "name": "stdout",
     "output_type": "stream",
     "text": [
      "(643690, 164)\n"
     ]
    }
   ],
   "source": [
    "from pathlib import Path\n",
    "import pandas as pd\n",
    "\n",
    "# File paths\n",
    "raw_file = Path(\"data/raw/siab.csv\")\n",
    "cache_file = Path(\"data/siab_cached.csv.gz\")\n",
    "\n",
    "# Ensure cache directory exists\n",
    "cache_file.parent.mkdir(parents=True, exist_ok=True)\n",
    "\n",
    "# Load with simple caching\n",
    "if cache_file.exists():\n",
    "    print(f\"Loading SIAB data from cache: {cache_file}\")\n",
    "    siab = pd.read_csv(cache_file, compression='gzip')\n",
    "else:\n",
    "    print(f\"Cache not found. Reading raw SIAB data: {raw_file}\")\n",
    "    siab = pd.read_csv(raw_file)\n",
    "    siab.to_csv(cache_file, index=False, compression='gzip')\n",
    "    print(f\"Cached SIAB data to: {cache_file}\")\n",
    "\n",
    "# Now use `siab` DataFrame as needed\n",
    "print(siab.shape)"
   ]
  },
  {
   "cell_type": "code",
   "execution_count": 10,
   "id": "db0ca512-5f53-4dba-abdb-a2888bca41ba",
   "metadata": {
    "execution": {
     "iopub.execute_input": "2025-07-28T11:06:29.562692Z",
     "iopub.status.busy": "2025-07-28T11:06:29.562156Z",
     "iopub.status.idle": "2025-07-28T11:06:29.568683Z",
     "shell.execute_reply": "2025-07-28T11:06:29.567411Z"
    },
    "papermill": {
     "duration": 0.052362,
     "end_time": "2025-07-28T11:06:29.570538",
     "exception": false,
     "start_time": "2025-07-28T11:06:29.518176",
     "status": "completed"
    },
    "tags": []
   },
   "outputs": [],
   "source": [
    "#siab"
   ]
  },
  {
   "cell_type": "code",
   "execution_count": 11,
   "id": "a0edb063",
   "metadata": {
    "execution": {
     "iopub.execute_input": "2025-07-28T11:06:29.661993Z",
     "iopub.status.busy": "2025-07-28T11:06:29.661535Z",
     "iopub.status.idle": "2025-07-28T11:06:29.668361Z",
     "shell.execute_reply": "2025-07-28T11:06:29.667334Z"
    },
    "papermill": {
     "duration": 0.057967,
     "end_time": "2025-07-28T11:06:29.670593",
     "exception": false,
     "start_time": "2025-07-28T11:06:29.612626",
     "status": "completed"
    },
    "tags": []
   },
   "outputs": [],
   "source": [
    "#import pandas as pd\n",
    "#\n",
    "#X_train = pd.read_csv(\"./data/X_train.csv\")\n",
    "#y_train = pd.read_csv(\"./data/y_train.csv\")"
   ]
  },
  {
   "cell_type": "code",
   "execution_count": 12,
   "id": "63d08085",
   "metadata": {
    "execution": {
     "iopub.execute_input": "2025-07-28T11:06:29.765163Z",
     "iopub.status.busy": "2025-07-28T11:06:29.764304Z",
     "iopub.status.idle": "2025-07-28T11:06:29.770365Z",
     "shell.execute_reply": "2025-07-28T11:06:29.769157Z"
    },
    "papermill": {
     "duration": 0.058796,
     "end_time": "2025-07-28T11:06:29.772486",
     "exception": false,
     "start_time": "2025-07-28T11:06:29.713690",
     "status": "completed"
    },
    "tags": []
   },
   "outputs": [],
   "source": [
    "#X_test = pd.read_csv(\"./data/X_test.csv\")\n",
    "#y_true = pd.read_csv(\"./data/y_test.csv\")"
   ]
  },
  {
   "cell_type": "code",
   "execution_count": 13,
   "id": "98a8d0fa-1d3d-4ed8-bb2c-281470e24add",
   "metadata": {
    "execution": {
     "iopub.execute_input": "2025-07-28T11:06:29.854970Z",
     "iopub.status.busy": "2025-07-28T11:06:29.854499Z",
     "iopub.status.idle": "2025-07-28T11:06:29.860526Z",
     "shell.execute_reply": "2025-07-28T11:06:29.859195Z"
    },
    "papermill": {
     "duration": 0.05327,
     "end_time": "2025-07-28T11:06:29.864234",
     "exception": false,
     "start_time": "2025-07-28T11:06:29.810964",
     "status": "completed"
    },
    "tags": []
   },
   "outputs": [],
   "source": [
    "# Calibration data for conformal\n",
    "#X_calib = pd.read_csv(\"./data/X_calib.csv\")\n",
    "#y_calib = pd.read_csv(\"./data/y_calib.csv\")"
   ]
  },
  {
   "cell_type": "markdown",
   "id": "9901737e-04df-44f0-9100-f5ad144ed040",
   "metadata": {
    "papermill": {
     "duration": 0.042859,
     "end_time": "2025-07-28T11:06:29.958730",
     "exception": false,
     "start_time": "2025-07-28T11:06:29.915871",
     "status": "completed"
    },
    "tags": []
   },
   "source": [
    "# Splitting Data and Setting Training Data Size"
   ]
  },
  {
   "cell_type": "code",
   "execution_count": 14,
   "id": "acbc8f7d-8fc8-4e86-8c59-5dcb0f58384b",
   "metadata": {
    "execution": {
     "iopub.execute_input": "2025-07-28T11:06:30.086441Z",
     "iopub.status.busy": "2025-07-28T11:06:30.086005Z",
     "iopub.status.idle": "2025-07-28T11:06:30.097718Z",
     "shell.execute_reply": "2025-07-28T11:06:30.096523Z"
    },
    "papermill": {
     "duration": 0.067201,
     "end_time": "2025-07-28T11:06:30.099900",
     "exception": false,
     "start_time": "2025-07-28T11:06:30.032699",
     "status": "completed"
    },
    "tags": []
   },
   "outputs": [],
   "source": [
    "def sample_by_year(df, training_size, random_state=42):\n",
    "    if training_size == \"2014\":\n",
    "        return df[df[\"year\"] == 2014].reset_index(drop=True)\n",
    "    \n",
    "    size_map = {\n",
    "        \"25k\": 5000,\n",
    "        \"5k\": 1000,\n",
    "        \"1k\": 200\n",
    "    }\n",
    "\n",
    "    if training_size not in size_map:\n",
    "        return df.reset_index(drop=True)  # use all data\n",
    "\n",
    "    n_per_year = size_map[training_size]\n",
    "    grouped = df.groupby(\"year\")\n",
    "    sampled = grouped.apply(lambda x: x.sample(n=min(n_per_year, len(x)), random_state=random_state))\n",
    "    return sampled.reset_index(drop=True)"
   ]
  },
  {
   "cell_type": "code",
   "execution_count": 15,
   "id": "6d931f52-beaf-43ff-9e78-9d44a448d54e",
   "metadata": {
    "execution": {
     "iopub.execute_input": "2025-07-28T11:06:30.210772Z",
     "iopub.status.busy": "2025-07-28T11:06:30.210345Z",
     "iopub.status.idle": "2025-07-28T11:06:30.505814Z",
     "shell.execute_reply": "2025-07-28T11:06:30.504687Z"
    },
    "papermill": {
     "duration": 0.35931,
     "end_time": "2025-07-28T11:06:30.507975",
     "exception": false,
     "start_time": "2025-07-28T11:06:30.148665",
     "status": "completed"
    },
    "tags": []
   },
   "outputs": [],
   "source": [
    "siab_s = sample_by_year(siab, universe[\"training_size\"])"
   ]
  },
  {
   "cell_type": "code",
   "execution_count": 16,
   "id": "5db0a40e-a4e2-4920-be85-b12ae061d70d",
   "metadata": {
    "execution": {
     "iopub.execute_input": "2025-07-28T11:06:30.617195Z",
     "iopub.status.busy": "2025-07-28T11:06:30.616745Z",
     "iopub.status.idle": "2025-07-28T11:06:30.645848Z",
     "shell.execute_reply": "2025-07-28T11:06:30.644757Z"
    },
    "papermill": {
     "duration": 0.083747,
     "end_time": "2025-07-28T11:06:30.647903",
     "exception": false,
     "start_time": "2025-07-28T11:06:30.564156",
     "status": "completed"
    },
    "tags": []
   },
   "outputs": [
    {
     "data": {
      "text/plain": [
       "year\n",
       "2014    87158\n",
       "dtype: int64"
      ]
     },
     "metadata": {},
     "output_type": "display_data"
    }
   ],
   "source": [
    "display(siab_s.groupby(\"year\").size())"
   ]
  },
  {
   "cell_type": "code",
   "execution_count": 17,
   "id": "a561edb4-d032-42cb-8256-22eac1111c64",
   "metadata": {
    "execution": {
     "iopub.execute_input": "2025-07-28T11:06:30.756749Z",
     "iopub.status.busy": "2025-07-28T11:06:30.756268Z",
     "iopub.status.idle": "2025-07-28T11:06:31.577400Z",
     "shell.execute_reply": "2025-07-28T11:06:31.576106Z"
    },
    "papermill": {
     "duration": 0.868234,
     "end_time": "2025-07-28T11:06:31.579329",
     "exception": false,
     "start_time": "2025-07-28T11:06:30.711095",
     "status": "completed"
    },
    "tags": []
   },
   "outputs": [],
   "source": [
    "siab_train = siab_s[siab_s.year < 2015]\n",
    "siab_calib = siab[siab.year == 2015]\n",
    "siab_test = siab[siab.year == 2016]"
   ]
  },
  {
   "cell_type": "code",
   "execution_count": 18,
   "id": "472de16f-c3db-4916-846b-1f0de9cf1746",
   "metadata": {
    "execution": {
     "iopub.execute_input": "2025-07-28T11:06:31.714919Z",
     "iopub.status.busy": "2025-07-28T11:06:31.714505Z",
     "iopub.status.idle": "2025-07-28T11:06:31.812062Z",
     "shell.execute_reply": "2025-07-28T11:06:31.810769Z"
    },
    "papermill": {
     "duration": 0.169496,
     "end_time": "2025-07-28T11:06:31.813693",
     "exception": false,
     "start_time": "2025-07-28T11:06:31.644197",
     "status": "completed"
    },
    "tags": []
   },
   "outputs": [],
   "source": [
    "X_train = siab_train.iloc[:,4:164]\n",
    "y_train = siab_train.iloc[:, [3]]"
   ]
  },
  {
   "cell_type": "code",
   "execution_count": 19,
   "id": "828c96af-f43a-4ed6-ba47-8ac73a47d56c",
   "metadata": {
    "execution": {
     "iopub.execute_input": "2025-07-28T11:06:31.946458Z",
     "iopub.status.busy": "2025-07-28T11:06:31.946034Z",
     "iopub.status.idle": "2025-07-28T11:06:32.017321Z",
     "shell.execute_reply": "2025-07-28T11:06:32.015987Z"
    },
    "papermill": {
     "duration": 0.143111,
     "end_time": "2025-07-28T11:06:32.019469",
     "exception": false,
     "start_time": "2025-07-28T11:06:31.876358",
     "status": "completed"
    },
    "tags": []
   },
   "outputs": [],
   "source": [
    "X_calib = siab_calib.iloc[:,4:164]\n",
    "y_calib = siab_calib.iloc[:, [3]]"
   ]
  },
  {
   "cell_type": "code",
   "execution_count": 20,
   "id": "c34be9c3-6bd6-476e-acd3-845840e303be",
   "metadata": {
    "execution": {
     "iopub.execute_input": "2025-07-28T11:06:32.078708Z",
     "iopub.status.busy": "2025-07-28T11:06:32.078294Z",
     "iopub.status.idle": "2025-07-28T11:06:32.134767Z",
     "shell.execute_reply": "2025-07-28T11:06:32.133566Z"
    },
    "papermill": {
     "duration": 0.09556,
     "end_time": "2025-07-28T11:06:32.136982",
     "exception": false,
     "start_time": "2025-07-28T11:06:32.041422",
     "status": "completed"
    },
    "tags": []
   },
   "outputs": [],
   "source": [
    "X_test = siab_test.iloc[:,4:164]\n",
    "y_true = siab_test.iloc[:, [3]]"
   ]
  },
  {
   "cell_type": "code",
   "execution_count": 21,
   "id": "e6c733c5",
   "metadata": {
    "execution": {
     "iopub.execute_input": "2025-07-28T11:06:32.218945Z",
     "iopub.status.busy": "2025-07-28T11:06:32.218554Z",
     "iopub.status.idle": "2025-07-28T11:06:32.486434Z",
     "shell.execute_reply": "2025-07-28T11:06:32.485373Z"
    },
    "papermill": {
     "duration": 0.311919,
     "end_time": "2025-07-28T11:06:32.488701",
     "exception": false,
     "start_time": "2025-07-28T11:06:32.176782",
     "status": "completed"
    },
    "tags": []
   },
   "outputs": [],
   "source": [
    "# Auxiliary data needed downstream in the pipeline\n",
    "\n",
    "org_train = X_train.copy()\n",
    "org_test = X_test.copy()\n",
    "org_calib = X_calib.copy()"
   ]
  },
  {
   "cell_type": "markdown",
   "id": "0a4a1b33",
   "metadata": {
    "papermill": {
     "duration": 0.058709,
     "end_time": "2025-07-28T11:06:32.584951",
     "exception": false,
     "start_time": "2025-07-28T11:06:32.526242",
     "status": "completed"
    },
    "tags": []
   },
   "source": [
    "# Preprocessing Data"
   ]
  },
  {
   "cell_type": "code",
   "execution_count": 22,
   "id": "ca879031",
   "metadata": {
    "execution": {
     "iopub.execute_input": "2025-07-28T11:06:32.657800Z",
     "iopub.status.busy": "2025-07-28T11:06:32.657387Z",
     "iopub.status.idle": "2025-07-28T11:06:32.664089Z",
     "shell.execute_reply": "2025-07-28T11:06:32.663045Z"
    },
    "papermill": {
     "duration": 0.056364,
     "end_time": "2025-07-28T11:06:32.673495",
     "exception": false,
     "start_time": "2025-07-28T11:06:32.617131",
     "status": "completed"
    },
    "tags": []
   },
   "outputs": [],
   "source": [
    "# EXCLUDE PROTECTED FEATURES\n",
    "# ----------------------\n",
    "# \"exclude_features\": \"none\", # \"nationality\", \"sex\", \"nationality-sex\"\n",
    "\n",
    "excluded_features = universe[\"exclude_features\"].split(\"-\") # split, e.g.: \"nationality-sex\" -> [\"nationality\", \"sex\"]\n",
    "excluded_features_dictionary = {\n",
    "    \"nationality\": [\"maxdeutsch1\", \"maxdeutsch.Missing.\"],\n",
    "    \"sex\": [\"frau1\"],\n",
    "    \"age\": [\"age\"],\n",
    "}\n"
   ]
  },
  {
   "cell_type": "code",
   "execution_count": 23,
   "id": "b745ac60",
   "metadata": {
    "execution": {
     "iopub.execute_input": "2025-07-28T11:06:32.823073Z",
     "iopub.status.busy": "2025-07-28T11:06:32.822635Z",
     "iopub.status.idle": "2025-07-28T11:06:32.830294Z",
     "shell.execute_reply": "2025-07-28T11:06:32.829191Z"
    },
    "papermill": {
     "duration": 0.091732,
     "end_time": "2025-07-28T11:06:32.832514",
     "exception": false,
     "start_time": "2025-07-28T11:06:32.740782",
     "status": "completed"
    },
    "tags": []
   },
   "outputs": [],
   "source": [
    "# Code nice names to column names\n",
    "\n",
    "excluded_features_columns = [\n",
    "    excluded_features_dictionary[f] for f in excluded_features if len(f) > 0 and f != \"none\"\n",
    "]"
   ]
  },
  {
   "cell_type": "code",
   "execution_count": 24,
   "id": "f84f73a2",
   "metadata": {
    "execution": {
     "iopub.execute_input": "2025-07-28T11:06:32.949745Z",
     "iopub.status.busy": "2025-07-28T11:06:32.949293Z",
     "iopub.status.idle": "2025-07-28T11:06:32.956284Z",
     "shell.execute_reply": "2025-07-28T11:06:32.955420Z"
    },
    "papermill": {
     "duration": 0.064466,
     "end_time": "2025-07-28T11:06:32.958976",
     "exception": false,
     "start_time": "2025-07-28T11:06:32.894510",
     "status": "completed"
    },
    "tags": []
   },
   "outputs": [],
   "source": [
    "from utils import flatten_once\n",
    "\n",
    "excluded_features_columns = flatten_once(excluded_features_columns)"
   ]
  },
  {
   "cell_type": "code",
   "execution_count": 25,
   "id": "884dea22",
   "metadata": {
    "execution": {
     "iopub.execute_input": "2025-07-28T11:06:33.054996Z",
     "iopub.status.busy": "2025-07-28T11:06:33.054548Z",
     "iopub.status.idle": "2025-07-28T11:06:33.163653Z",
     "shell.execute_reply": "2025-07-28T11:06:33.162487Z"
    },
    "papermill": {
     "duration": 0.144948,
     "end_time": "2025-07-28T11:06:33.165733",
     "exception": false,
     "start_time": "2025-07-28T11:06:33.020785",
     "status": "completed"
    },
    "tags": []
   },
   "outputs": [
    {
     "name": "stdout",
     "output_type": "stream",
     "text": [
      "Dropping features: ['maxdeutsch1', 'maxdeutsch.Missing.', 'frau1']\n"
     ]
    }
   ],
   "source": [
    "if len(excluded_features_columns) > 0:\n",
    "    print(f\"Dropping features: {excluded_features_columns}\")\n",
    "    X_train.drop(excluded_features_columns, axis=1, inplace=True)"
   ]
  },
  {
   "cell_type": "code",
   "execution_count": 26,
   "id": "95ab8b16",
   "metadata": {
    "execution": {
     "iopub.execute_input": "2025-07-28T11:06:33.227198Z",
     "iopub.status.busy": "2025-07-28T11:06:33.226695Z",
     "iopub.status.idle": "2025-07-28T11:06:33.281442Z",
     "shell.execute_reply": "2025-07-28T11:06:33.280137Z"
    },
    "papermill": {
     "duration": 0.080572,
     "end_time": "2025-07-28T11:06:33.283271",
     "exception": false,
     "start_time": "2025-07-28T11:06:33.202699",
     "status": "completed"
    },
    "tags": []
   },
   "outputs": [
    {
     "name": "stdout",
     "output_type": "stream",
     "text": [
      "Dropping features: ['maxdeutsch1', 'maxdeutsch.Missing.', 'frau1']\n"
     ]
    }
   ],
   "source": [
    "if len(excluded_features_columns) > 0:\n",
    "    print(f\"Dropping features: {excluded_features_columns}\")\n",
    "    X_test.drop(excluded_features_columns, axis=1, inplace=True)"
   ]
  },
  {
   "cell_type": "code",
   "execution_count": 27,
   "id": "1853aaf5-fb9f-46cb-a2b5-8ea4ae2237e4",
   "metadata": {
    "execution": {
     "iopub.execute_input": "2025-07-28T11:06:33.326798Z",
     "iopub.status.busy": "2025-07-28T11:06:33.326179Z",
     "iopub.status.idle": "2025-07-28T11:06:33.377769Z",
     "shell.execute_reply": "2025-07-28T11:06:33.376747Z"
    },
    "papermill": {
     "duration": 0.074976,
     "end_time": "2025-07-28T11:06:33.379566",
     "exception": false,
     "start_time": "2025-07-28T11:06:33.304590",
     "status": "completed"
    },
    "tags": []
   },
   "outputs": [
    {
     "name": "stdout",
     "output_type": "stream",
     "text": [
      "Dropping features: ['maxdeutsch1', 'maxdeutsch.Missing.', 'frau1']\n"
     ]
    }
   ],
   "source": [
    "if len(excluded_features_columns) > 0:\n",
    "    print(f\"Dropping features: {excluded_features_columns}\")\n",
    "    X_calib.drop(excluded_features_columns, axis=1, inplace=True)"
   ]
  },
  {
   "cell_type": "code",
   "execution_count": 28,
   "id": "6727d079-03e5-481e-9d38-292a90b7a0a8",
   "metadata": {
    "execution": {
     "iopub.execute_input": "2025-07-28T11:06:33.426301Z",
     "iopub.status.busy": "2025-07-28T11:06:33.425653Z",
     "iopub.status.idle": "2025-07-28T11:06:33.431759Z",
     "shell.execute_reply": "2025-07-28T11:06:33.430570Z"
    },
    "papermill": {
     "duration": 0.032901,
     "end_time": "2025-07-28T11:06:33.434064",
     "exception": false,
     "start_time": "2025-07-28T11:06:33.401163",
     "status": "completed"
    },
    "tags": []
   },
   "outputs": [],
   "source": [
    "# SPLIT & STRATIFY DATA\n",
    "# ----------------------"
   ]
  },
  {
   "cell_type": "code",
   "execution_count": 29,
   "id": "76c4dc6d",
   "metadata": {
    "execution": {
     "iopub.execute_input": "2025-07-28T11:06:33.488300Z",
     "iopub.status.busy": "2025-07-28T11:06:33.487833Z",
     "iopub.status.idle": "2025-07-28T11:06:33.493948Z",
     "shell.execute_reply": "2025-07-28T11:06:33.492777Z"
    },
    "papermill": {
     "duration": 0.032929,
     "end_time": "2025-07-28T11:06:33.497344",
     "exception": false,
     "start_time": "2025-07-28T11:06:33.464415",
     "status": "completed"
    },
    "tags": []
   },
   "outputs": [],
   "source": [
    "# EXCLUDE CERTAIN SUBGROUPS\n",
    "# ----------------------\n",
    "\n",
    "mode = universe.get(\"exclude_subgroups\", \"keep-all\") \n",
    "# Fetches the exclude_subgroups setting from the universe dict.\n",
    "# Defaults to \"keep-all\" if the key is missing."
   ]
  },
  {
   "cell_type": "code",
   "execution_count": 30,
   "id": "21994072",
   "metadata": {
    "execution": {
     "iopub.execute_input": "2025-07-28T11:06:33.547135Z",
     "iopub.status.busy": "2025-07-28T11:06:33.546687Z",
     "iopub.status.idle": "2025-07-28T11:06:33.554494Z",
     "shell.execute_reply": "2025-07-28T11:06:33.553161Z"
    },
    "papermill": {
     "duration": 0.035284,
     "end_time": "2025-07-28T11:06:33.557618",
     "exception": false,
     "start_time": "2025-07-28T11:06:33.522334",
     "status": "completed"
    },
    "tags": []
   },
   "outputs": [],
   "source": [
    "if mode == \"keep-all\":\n",
    "    keep_mask = pd.Series(True, index=org_train.index)\n",
    "\n",
    "# org_train contains the original feature columns from features_org (in Simson)\n",
    "# features_org contains unprocessed features, for me X_train at beginning ???\n",
    "# For keep-all, creates a boolean Series (keep_mask) of all True, so no rows are removed.\n",
    "\n",
    "elif mode == \"drop-non-german\":\n",
    "    keep_mask = org_train[\"maxdeutsch1\"] == 1 # ??? what about missing values?\n",
    "\n",
    "else:\n",
    "    raise ValueError(f\"Unsupported mode for exclude_subgroups: {mode}\")\n"
   ]
  },
  {
   "cell_type": "code",
   "execution_count": 31,
   "id": "71651440",
   "metadata": {
    "execution": {
     "iopub.execute_input": "2025-07-28T11:06:33.606214Z",
     "iopub.status.busy": "2025-07-28T11:06:33.605735Z",
     "iopub.status.idle": "2025-07-28T11:06:33.613200Z",
     "shell.execute_reply": "2025-07-28T11:06:33.611953Z"
    },
    "papermill": {
     "duration": 0.035274,
     "end_time": "2025-07-28T11:06:33.616505",
     "exception": false,
     "start_time": "2025-07-28T11:06:33.581231",
     "status": "completed"
    },
    "tags": []
   },
   "outputs": [],
   "source": [
    "n_drop = (~keep_mask).sum() # Calculates how many rows are set to be dropped\n",
    "if n_drop > 0:\n",
    "    pct = n_drop / len(keep_mask) * 100\n",
    "    print(f\"Dropping {n_drop} rows ({pct:.2f}%) where mode='{mode}'\")"
   ]
  },
  {
   "cell_type": "code",
   "execution_count": 32,
   "id": "5fb8eee5",
   "metadata": {
    "execution": {
     "iopub.execute_input": "2025-07-28T11:06:33.664666Z",
     "iopub.status.busy": "2025-07-28T11:06:33.664218Z",
     "iopub.status.idle": "2025-07-28T11:06:33.795958Z",
     "shell.execute_reply": "2025-07-28T11:06:33.794862Z"
    },
    "papermill": {
     "duration": 0.15888,
     "end_time": "2025-07-28T11:06:33.798332",
     "exception": false,
     "start_time": "2025-07-28T11:06:33.639452",
     "status": "completed"
    },
    "tags": []
   },
   "outputs": [],
   "source": [
    "X_train = X_train[keep_mask]"
   ]
  },
  {
   "cell_type": "code",
   "execution_count": 33,
   "id": "b202bb3a",
   "metadata": {
    "execution": {
     "iopub.execute_input": "2025-07-28T11:06:33.907302Z",
     "iopub.status.busy": "2025-07-28T11:06:33.906870Z",
     "iopub.status.idle": "2025-07-28T11:06:33.915634Z",
     "shell.execute_reply": "2025-07-28T11:06:33.914398Z"
    },
    "papermill": {
     "duration": 0.080163,
     "end_time": "2025-07-28T11:06:33.917340",
     "exception": false,
     "start_time": "2025-07-28T11:06:33.837177",
     "status": "completed"
    },
    "tags": []
   },
   "outputs": [],
   "source": [
    "y_train = y_train[keep_mask]"
   ]
  },
  {
   "cell_type": "markdown",
   "id": "493e2ac3",
   "metadata": {
    "papermill": {
     "duration": 0.051085,
     "end_time": "2025-07-28T11:06:34.036797",
     "exception": false,
     "start_time": "2025-07-28T11:06:33.985712",
     "status": "completed"
    },
    "tags": []
   },
   "source": [
    "# Model Training"
   ]
  },
  {
   "cell_type": "code",
   "execution_count": 34,
   "id": "679e1268",
   "metadata": {
    "execution": {
     "iopub.execute_input": "2025-07-28T11:06:34.134589Z",
     "iopub.status.busy": "2025-07-28T11:06:34.134132Z",
     "iopub.status.idle": "2025-07-28T11:06:34.366442Z",
     "shell.execute_reply": "2025-07-28T11:06:34.365322Z"
    },
    "papermill": {
     "duration": 0.276517,
     "end_time": "2025-07-28T11:06:34.369311",
     "exception": false,
     "start_time": "2025-07-28T11:06:34.092794",
     "status": "completed"
    },
    "tags": []
   },
   "outputs": [],
   "source": [
    "from sklearn.linear_model import LogisticRegression\n",
    "from sklearn.ensemble import GradientBoostingClassifier, RandomForestClassifier\n",
    "\n",
    "if (universe[\"model\"] == \"logreg\"):\n",
    "    model = LogisticRegression() #penalty=\"none\") #, solver=\"newton-cg\", max_iter=1) # include random_state=19 ?\n",
    "elif (universe[\"model\"] == \"penalized_logreg\"):\n",
    "    model = LogisticRegression(penalty=\"l2\", C=1.0) #, solver=\"newton-cg\", max_iter=1)\n",
    "elif (universe[\"model\"] == \"rf\"):\n",
    "    model = RandomForestClassifier(n_estimators=100, n_jobs=-1)\n",
    "elif (universe[\"model\"] == \"gbm\"):\n",
    "    model = GradientBoostingClassifier()\n",
    "elif (universe[\"model\"] == \"elasticnet\"):\n",
    "    model = LogisticRegression(penalty = 'elasticnet', solver = 'saga', l1_ratio = 0.5, max_iter=5000) # which solver to use?\n",
    "else:\n",
    "    raise \"Unsupported universe.model\""
   ]
  },
  {
   "cell_type": "code",
   "execution_count": 35,
   "id": "0cc8f744",
   "metadata": {
    "execution": {
     "iopub.execute_input": "2025-07-28T11:06:34.452578Z",
     "iopub.status.busy": "2025-07-28T11:06:34.452163Z",
     "iopub.status.idle": "2025-07-28T11:06:34.463288Z",
     "shell.execute_reply": "2025-07-28T11:06:34.462019Z"
    },
    "papermill": {
     "duration": 0.070062,
     "end_time": "2025-07-28T11:06:34.498216",
     "exception": false,
     "start_time": "2025-07-28T11:06:34.428154",
     "status": "completed"
    },
    "tags": []
   },
   "outputs": [],
   "source": [
    "import numpy as np\n",
    "from sklearn.pipeline import Pipeline\n",
    "from sklearn.preprocessing import StandardScaler\n",
    "\n",
    "model = Pipeline([\n",
    "    #(\"continuous_processor\", continuous_processor),\n",
    "    #(\"categorical_preprocessor\", categorical_preprocessor),\n",
    "    (\"scale\", StandardScaler() if universe[\"scale\"] == \"scale\" else None), \n",
    "    (\"model\", model),\n",
    "])"
   ]
  },
  {
   "cell_type": "code",
   "execution_count": 36,
   "id": "9442c04d",
   "metadata": {
    "execution": {
     "iopub.execute_input": "2025-07-28T11:06:34.635632Z",
     "iopub.status.busy": "2025-07-28T11:06:34.635176Z",
     "iopub.status.idle": "2025-07-28T11:06:48.270476Z",
     "shell.execute_reply": "2025-07-28T11:06:48.269481Z"
    },
    "papermill": {
     "duration": 13.707798,
     "end_time": "2025-07-28T11:06:48.272108",
     "exception": false,
     "start_time": "2025-07-28T11:06:34.564310",
     "status": "completed"
    },
    "tags": []
   },
   "outputs": [
    {
     "data": {
      "text/html": [
       "<style>#sk-container-id-1 {color: black;background-color: white;}#sk-container-id-1 pre{padding: 0;}#sk-container-id-1 div.sk-toggleable {background-color: white;}#sk-container-id-1 label.sk-toggleable__label {cursor: pointer;display: block;width: 100%;margin-bottom: 0;padding: 0.3em;box-sizing: border-box;text-align: center;}#sk-container-id-1 label.sk-toggleable__label-arrow:before {content: \"▸\";float: left;margin-right: 0.25em;color: #696969;}#sk-container-id-1 label.sk-toggleable__label-arrow:hover:before {color: black;}#sk-container-id-1 div.sk-estimator:hover label.sk-toggleable__label-arrow:before {color: black;}#sk-container-id-1 div.sk-toggleable__content {max-height: 0;max-width: 0;overflow: hidden;text-align: left;background-color: #f0f8ff;}#sk-container-id-1 div.sk-toggleable__content pre {margin: 0.2em;color: black;border-radius: 0.25em;background-color: #f0f8ff;}#sk-container-id-1 input.sk-toggleable__control:checked~div.sk-toggleable__content {max-height: 200px;max-width: 100%;overflow: auto;}#sk-container-id-1 input.sk-toggleable__control:checked~label.sk-toggleable__label-arrow:before {content: \"▾\";}#sk-container-id-1 div.sk-estimator input.sk-toggleable__control:checked~label.sk-toggleable__label {background-color: #d4ebff;}#sk-container-id-1 div.sk-label input.sk-toggleable__control:checked~label.sk-toggleable__label {background-color: #d4ebff;}#sk-container-id-1 input.sk-hidden--visually {border: 0;clip: rect(1px 1px 1px 1px);clip: rect(1px, 1px, 1px, 1px);height: 1px;margin: -1px;overflow: hidden;padding: 0;position: absolute;width: 1px;}#sk-container-id-1 div.sk-estimator {font-family: monospace;background-color: #f0f8ff;border: 1px dotted black;border-radius: 0.25em;box-sizing: border-box;margin-bottom: 0.5em;}#sk-container-id-1 div.sk-estimator:hover {background-color: #d4ebff;}#sk-container-id-1 div.sk-parallel-item::after {content: \"\";width: 100%;border-bottom: 1px solid gray;flex-grow: 1;}#sk-container-id-1 div.sk-label:hover label.sk-toggleable__label {background-color: #d4ebff;}#sk-container-id-1 div.sk-serial::before {content: \"\";position: absolute;border-left: 1px solid gray;box-sizing: border-box;top: 0;bottom: 0;left: 50%;z-index: 0;}#sk-container-id-1 div.sk-serial {display: flex;flex-direction: column;align-items: center;background-color: white;padding-right: 0.2em;padding-left: 0.2em;position: relative;}#sk-container-id-1 div.sk-item {position: relative;z-index: 1;}#sk-container-id-1 div.sk-parallel {display: flex;align-items: stretch;justify-content: center;background-color: white;position: relative;}#sk-container-id-1 div.sk-item::before, #sk-container-id-1 div.sk-parallel-item::before {content: \"\";position: absolute;border-left: 1px solid gray;box-sizing: border-box;top: 0;bottom: 0;left: 50%;z-index: -1;}#sk-container-id-1 div.sk-parallel-item {display: flex;flex-direction: column;z-index: 1;position: relative;background-color: white;}#sk-container-id-1 div.sk-parallel-item:first-child::after {align-self: flex-end;width: 50%;}#sk-container-id-1 div.sk-parallel-item:last-child::after {align-self: flex-start;width: 50%;}#sk-container-id-1 div.sk-parallel-item:only-child::after {width: 0;}#sk-container-id-1 div.sk-dashed-wrapped {border: 1px dashed gray;margin: 0 0.4em 0.5em 0.4em;box-sizing: border-box;padding-bottom: 0.4em;background-color: white;}#sk-container-id-1 div.sk-label label {font-family: monospace;font-weight: bold;display: inline-block;line-height: 1.2em;}#sk-container-id-1 div.sk-label-container {text-align: center;}#sk-container-id-1 div.sk-container {/* jupyter's `normalize.less` sets `[hidden] { display: none; }` but bootstrap.min.css set `[hidden] { display: none !important; }` so we also need the `!important` here to be able to override the default hidden behavior on the sphinx rendered scikit-learn.org. See: https://github.com/scikit-learn/scikit-learn/issues/21755 */display: inline-block !important;position: relative;}#sk-container-id-1 div.sk-text-repr-fallback {display: none;}</style><div id=\"sk-container-id-1\" class=\"sk-top-container\"><div class=\"sk-text-repr-fallback\"><pre>Pipeline(steps=[(&#x27;scale&#x27;, None), (&#x27;model&#x27;, RandomForestClassifier(n_jobs=-1))])</pre><b>In a Jupyter environment, please rerun this cell to show the HTML representation or trust the notebook. <br />On GitHub, the HTML representation is unable to render, please try loading this page with nbviewer.org.</b></div><div class=\"sk-container\" hidden><div class=\"sk-item sk-dashed-wrapped\"><div class=\"sk-label-container\"><div class=\"sk-label sk-toggleable\"><input class=\"sk-toggleable__control sk-hidden--visually\" id=\"sk-estimator-id-1\" type=\"checkbox\" ><label for=\"sk-estimator-id-1\" class=\"sk-toggleable__label sk-toggleable__label-arrow\">Pipeline</label><div class=\"sk-toggleable__content\"><pre>Pipeline(steps=[(&#x27;scale&#x27;, None), (&#x27;model&#x27;, RandomForestClassifier(n_jobs=-1))])</pre></div></div></div><div class=\"sk-serial\"><div class=\"sk-item\"><div class=\"sk-estimator sk-toggleable\"><input class=\"sk-toggleable__control sk-hidden--visually\" id=\"sk-estimator-id-2\" type=\"checkbox\" ><label for=\"sk-estimator-id-2\" class=\"sk-toggleable__label sk-toggleable__label-arrow\">None</label><div class=\"sk-toggleable__content\"><pre>None</pre></div></div></div><div class=\"sk-item\"><div class=\"sk-estimator sk-toggleable\"><input class=\"sk-toggleable__control sk-hidden--visually\" id=\"sk-estimator-id-3\" type=\"checkbox\" ><label for=\"sk-estimator-id-3\" class=\"sk-toggleable__label sk-toggleable__label-arrow\">RandomForestClassifier</label><div class=\"sk-toggleable__content\"><pre>RandomForestClassifier(n_jobs=-1)</pre></div></div></div></div></div></div></div>"
      ],
      "text/plain": [
       "Pipeline(steps=[('scale', None), ('model', RandomForestClassifier(n_jobs=-1))])"
      ]
     },
     "execution_count": 36,
     "metadata": {},
     "output_type": "execute_result"
    }
   ],
   "source": [
    "model.fit(X_train, y_train.values.ravel())"
   ]
  },
  {
   "cell_type": "code",
   "execution_count": 37,
   "id": "af59f8c0",
   "metadata": {
    "execution": {
     "iopub.execute_input": "2025-07-28T11:06:48.319713Z",
     "iopub.status.busy": "2025-07-28T11:06:48.318701Z",
     "iopub.status.idle": "2025-07-28T11:06:48.325011Z",
     "shell.execute_reply": "2025-07-28T11:06:48.323978Z"
    },
    "papermill": {
     "duration": 0.030424,
     "end_time": "2025-07-28T11:06:48.326760",
     "exception": false,
     "start_time": "2025-07-28T11:06:48.296336",
     "status": "completed"
    },
    "tags": []
   },
   "outputs": [],
   "source": [
    "from fairness_multiverse.universe import predict_w_threshold"
   ]
  },
  {
   "cell_type": "code",
   "execution_count": 38,
   "id": "a7cf2e16",
   "metadata": {
    "execution": {
     "iopub.execute_input": "2025-07-28T11:06:48.372296Z",
     "iopub.status.busy": "2025-07-28T11:06:48.371425Z",
     "iopub.status.idle": "2025-07-28T11:06:49.708063Z",
     "shell.execute_reply": "2025-07-28T11:06:49.707022Z"
    },
    "papermill": {
     "duration": 1.361466,
     "end_time": "2025-07-28T11:06:49.709986",
     "exception": false,
     "start_time": "2025-07-28T11:06:48.348520",
     "status": "completed"
    },
    "tags": []
   },
   "outputs": [
    {
     "data": {
      "text/plain": [
       "0.8655668264407536"
      ]
     },
     "execution_count": 38,
     "metadata": {},
     "output_type": "execute_result"
    }
   ],
   "source": [
    "probs_test = model.predict_proba(X_test)\n",
    "\n",
    "'''\n",
    "Below code returns a boolean array (or binary 0/1 array depending on how it’s used) where each element \n",
    "is True if the probability of class 1 is greater than or equal to the threshold, and False otherwise.\n",
    "'''\n",
    "y_pred_default = predict_w_threshold(probs_test, 0.5)\n",
    "\n",
    "from sklearn.metrics import accuracy_score\n",
    "\n",
    "# Naive prediction\n",
    "accuracy_score(y_true = y_true, y_pred = y_pred_default)"
   ]
  },
  {
   "cell_type": "code",
   "execution_count": 39,
   "id": "081964c3",
   "metadata": {
    "execution": {
     "iopub.execute_input": "2025-07-28T11:06:49.751726Z",
     "iopub.status.busy": "2025-07-28T11:06:49.751305Z",
     "iopub.status.idle": "2025-07-28T11:06:51.150476Z",
     "shell.execute_reply": "2025-07-28T11:06:51.149432Z"
    },
    "papermill": {
     "duration": 1.417299,
     "end_time": "2025-07-28T11:06:51.152252",
     "exception": false,
     "start_time": "2025-07-28T11:06:49.734953",
     "status": "completed"
    },
    "tags": []
   },
   "outputs": [
    {
     "data": {
      "text/plain": [
       "array([0, 0, 0, ..., 0, 0, 0])"
      ]
     },
     "execution_count": 39,
     "metadata": {},
     "output_type": "execute_result"
    }
   ],
   "source": [
    "model.predict(X_test)"
   ]
  },
  {
   "cell_type": "markdown",
   "id": "56c9705b",
   "metadata": {
    "papermill": {
     "duration": 0.024804,
     "end_time": "2025-07-28T11:06:51.203391",
     "exception": false,
     "start_time": "2025-07-28T11:06:51.178587",
     "status": "completed"
    },
    "tags": []
   },
   "source": [
    "# Conformal Prediction"
   ]
  },
  {
   "cell_type": "code",
   "execution_count": 40,
   "id": "160ec6ff",
   "metadata": {
    "execution": {
     "iopub.execute_input": "2025-07-28T11:06:51.252733Z",
     "iopub.status.busy": "2025-07-28T11:06:51.252016Z",
     "iopub.status.idle": "2025-07-28T11:06:51.257666Z",
     "shell.execute_reply": "2025-07-28T11:06:51.256755Z"
    },
    "papermill": {
     "duration": 0.031843,
     "end_time": "2025-07-28T11:06:51.259272",
     "exception": false,
     "start_time": "2025-07-28T11:06:51.227429",
     "status": "completed"
    },
    "tags": []
   },
   "outputs": [],
   "source": [
    "# Miscoverage level for conformal prediction (10% allowed error rate => 90% target coverage)\n",
    "alpha = 0.1"
   ]
  },
  {
   "cell_type": "code",
   "execution_count": 41,
   "id": "eadf4555-3dd3-440e-8e35-f82a4ad9f855",
   "metadata": {
    "execution": {
     "iopub.execute_input": "2025-07-28T11:06:51.307729Z",
     "iopub.status.busy": "2025-07-28T11:06:51.306999Z",
     "iopub.status.idle": "2025-07-28T11:06:52.527520Z",
     "shell.execute_reply": "2025-07-28T11:06:52.526452Z"
    },
    "papermill": {
     "duration": 1.247169,
     "end_time": "2025-07-28T11:06:52.529671",
     "exception": false,
     "start_time": "2025-07-28T11:06:51.282502",
     "status": "completed"
    },
    "tags": []
   },
   "outputs": [],
   "source": [
    "probs_calib = model.predict_proba(X_calib)"
   ]
  },
  {
   "cell_type": "code",
   "execution_count": 42,
   "id": "2ed93547-6d5d-4983-9b36-1ecb300da49a",
   "metadata": {
    "execution": {
     "iopub.execute_input": "2025-07-28T11:06:52.562988Z",
     "iopub.status.busy": "2025-07-28T11:06:52.562625Z",
     "iopub.status.idle": "2025-07-28T11:06:52.567812Z",
     "shell.execute_reply": "2025-07-28T11:06:52.567089Z"
    },
    "papermill": {
     "duration": 0.019515,
     "end_time": "2025-07-28T11:06:52.569423",
     "exception": false,
     "start_time": "2025-07-28T11:06:52.549908",
     "status": "completed"
    },
    "tags": []
   },
   "outputs": [],
   "source": [
    "y_calib = y_calib.values.ravel().astype(int)"
   ]
  },
  {
   "cell_type": "code",
   "execution_count": 43,
   "id": "65d1320d-f588-4b38-9072-62af1ae97f7d",
   "metadata": {
    "execution": {
     "iopub.execute_input": "2025-07-28T11:06:52.620577Z",
     "iopub.status.busy": "2025-07-28T11:06:52.619576Z",
     "iopub.status.idle": "2025-07-28T11:06:52.629441Z",
     "shell.execute_reply": "2025-07-28T11:06:52.628181Z"
    },
    "papermill": {
     "duration": 0.037038,
     "end_time": "2025-07-28T11:06:52.631311",
     "exception": false,
     "start_time": "2025-07-28T11:06:52.594273",
     "status": "completed"
    },
    "tags": []
   },
   "outputs": [],
   "source": [
    "from fairness_multiverse.conformal import compute_nc_scores\n",
    "\n",
    "# Compute nonconformity scores on calibration set (1 - probability of true class)\n",
    "nc_scores = compute_nc_scores(probs_calib, y_calib)"
   ]
  },
  {
   "cell_type": "code",
   "execution_count": 44,
   "id": "df3b8ca3-53b7-43d5-9667-7c85da7aeda2",
   "metadata": {
    "execution": {
     "iopub.execute_input": "2025-07-28T11:06:52.688419Z",
     "iopub.status.busy": "2025-07-28T11:06:52.687621Z",
     "iopub.status.idle": "2025-07-28T11:06:52.695648Z",
     "shell.execute_reply": "2025-07-28T11:06:52.694497Z"
    },
    "papermill": {
     "duration": 0.044696,
     "end_time": "2025-07-28T11:06:52.697794",
     "exception": false,
     "start_time": "2025-07-28T11:06:52.653098",
     "status": "completed"
    },
    "tags": []
   },
   "outputs": [],
   "source": [
    "from fairness_multiverse.conformal import find_threshold\n",
    "\n",
    "# Find conformal threshold q_hat for the given alpha (split conformal method)\n",
    "q_hat = find_threshold(nc_scores, alpha)"
   ]
  },
  {
   "cell_type": "code",
   "execution_count": 45,
   "id": "4d29e6c1-0ef6-4aa4-b8fe-4fe79b0d033a",
   "metadata": {
    "execution": {
     "iopub.execute_input": "2025-07-28T11:06:52.762377Z",
     "iopub.status.busy": "2025-07-28T11:06:52.761592Z",
     "iopub.status.idle": "2025-07-28T11:06:52.769518Z",
     "shell.execute_reply": "2025-07-28T11:06:52.768430Z"
    },
    "papermill": {
     "duration": 0.04286,
     "end_time": "2025-07-28T11:06:52.771566",
     "exception": false,
     "start_time": "2025-07-28T11:06:52.728706",
     "status": "completed"
    },
    "tags": []
   },
   "outputs": [
    {
     "data": {
      "text/plain": [
       "0.6599999999999999"
      ]
     },
     "execution_count": 45,
     "metadata": {},
     "output_type": "execute_result"
    }
   ],
   "source": [
    "q_hat"
   ]
  },
  {
   "cell_type": "code",
   "execution_count": 46,
   "id": "92460794-cdac-4be2-ba28-f28c0515a6fb",
   "metadata": {
    "execution": {
     "iopub.execute_input": "2025-07-28T11:06:52.835008Z",
     "iopub.status.busy": "2025-07-28T11:06:52.834288Z",
     "iopub.status.idle": "2025-07-28T11:06:54.980090Z",
     "shell.execute_reply": "2025-07-28T11:06:54.972084Z"
    },
    "papermill": {
     "duration": 2.179132,
     "end_time": "2025-07-28T11:06:54.982203",
     "exception": false,
     "start_time": "2025-07-28T11:06:52.803071",
     "status": "completed"
    },
    "tags": []
   },
   "outputs": [],
   "source": [
    "from fairness_multiverse.conformal import predict_conformal_sets\n",
    "\n",
    "# Generate prediction sets for each test example\n",
    "pred_sets = predict_conformal_sets(model, X_test, q_hat)"
   ]
  },
  {
   "cell_type": "code",
   "execution_count": 47,
   "id": "d90c9a65-e6db-4f5d-80cd-e68fb7e46829",
   "metadata": {
    "execution": {
     "iopub.execute_input": "2025-07-28T11:06:55.142832Z",
     "iopub.status.busy": "2025-07-28T11:06:55.142251Z",
     "iopub.status.idle": "2025-07-28T11:06:55.148963Z",
     "shell.execute_reply": "2025-07-28T11:06:55.147789Z"
    },
    "papermill": {
     "duration": 0.097984,
     "end_time": "2025-07-28T11:06:55.150751",
     "exception": false,
     "start_time": "2025-07-28T11:06:55.052767",
     "status": "completed"
    },
    "tags": []
   },
   "outputs": [],
   "source": [
    "y_true = y_true.squeeze()"
   ]
  },
  {
   "cell_type": "code",
   "execution_count": 48,
   "id": "3a58a54a-1e68-46b9-927a-df01f18aebc8",
   "metadata": {
    "execution": {
     "iopub.execute_input": "2025-07-28T11:06:55.310689Z",
     "iopub.status.busy": "2025-07-28T11:06:55.310256Z",
     "iopub.status.idle": "2025-07-28T11:06:57.216780Z",
     "shell.execute_reply": "2025-07-28T11:06:57.205623Z"
    },
    "papermill": {
     "duration": 1.979262,
     "end_time": "2025-07-28T11:06:57.218964",
     "exception": false,
     "start_time": "2025-07-28T11:06:55.239702",
     "status": "completed"
    },
    "tags": []
   },
   "outputs": [],
   "source": [
    "from fairness_multiverse.conformal import evaluate_sets\n",
    "\n",
    "# Evaluate coverage and average set size on test data\n",
    "metrics = evaluate_sets(pred_sets, y_true)"
   ]
  },
  {
   "cell_type": "markdown",
   "id": "2b569c12-9aaa-4c88-98c9-bbcd0cf3ebb8",
   "metadata": {
    "papermill": {
     "duration": 0.051189,
     "end_time": "2025-07-28T11:06:57.329503",
     "exception": false,
     "start_time": "2025-07-28T11:06:57.278314",
     "status": "completed"
    },
    "tags": []
   },
   "source": [
    "# CP Metrics"
   ]
  },
  {
   "cell_type": "code",
   "execution_count": 49,
   "id": "5ce0a5cb-201f-45a0-ade5-94c7f0bd6095",
   "metadata": {
    "execution": {
     "iopub.execute_input": "2025-07-28T11:06:57.441993Z",
     "iopub.status.busy": "2025-07-28T11:06:57.441554Z",
     "iopub.status.idle": "2025-07-28T11:06:57.449956Z",
     "shell.execute_reply": "2025-07-28T11:06:57.448590Z"
    },
    "papermill": {
     "duration": 0.069676,
     "end_time": "2025-07-28T11:06:57.451706",
     "exception": false,
     "start_time": "2025-07-28T11:06:57.382030",
     "status": "completed"
    },
    "tags": []
   },
   "outputs": [
    {
     "data": {
      "text/plain": [
       "{'coverage': 0.9167316910043474, 'avg_size': 1.1430163861330955}"
      ]
     },
     "execution_count": 49,
     "metadata": {},
     "output_type": "execute_result"
    }
   ],
   "source": [
    "metrics"
   ]
  },
  {
   "cell_type": "code",
   "execution_count": 50,
   "id": "9b9a838d-31c9-430b-ae14-12baee460d17",
   "metadata": {
    "execution": {
     "iopub.execute_input": "2025-07-28T11:06:57.606193Z",
     "iopub.status.busy": "2025-07-28T11:06:57.605764Z",
     "iopub.status.idle": "2025-07-28T11:06:57.614663Z",
     "shell.execute_reply": "2025-07-28T11:06:57.613457Z"
    },
    "papermill": {
     "duration": 0.096698,
     "end_time": "2025-07-28T11:06:57.616871",
     "exception": false,
     "start_time": "2025-07-28T11:06:57.520173",
     "status": "completed"
    },
    "tags": []
   },
   "outputs": [],
   "source": [
    "example_universe = universe.copy()\n",
    "universe_training_size = example_universe.get(\"training_size\")\n",
    "universe_scale = example_universe.get(\"scale\")\n",
    "universe_model = example_universe.get(\"model\")\n",
    "universe_exclude_features = example_universe.get(\"exclude_features\")\n",
    "universe_exclude_subgroups = example_universe.get(\"exclude_subgroups\")"
   ]
  },
  {
   "cell_type": "code",
   "execution_count": 51,
   "id": "f4b6a8ac-9dc0-4245-8a91-5b3b5999c4f9",
   "metadata": {
    "execution": {
     "iopub.execute_input": "2025-07-28T11:06:57.717314Z",
     "iopub.status.busy": "2025-07-28T11:06:57.716866Z",
     "iopub.status.idle": "2025-07-28T11:06:57.724198Z",
     "shell.execute_reply": "2025-07-28T11:06:57.723247Z"
    },
    "papermill": {
     "duration": 0.058746,
     "end_time": "2025-07-28T11:06:57.727534",
     "exception": false,
     "start_time": "2025-07-28T11:06:57.668788",
     "status": "completed"
    },
    "tags": []
   },
   "outputs": [],
   "source": [
    "cp_metrics_dict = {\n",
    "    \"universe_id\": [universe_id],\n",
    "    \"universe_training_size\": [universe_training_size],\n",
    "    \"universe_scale\": [universe_scale],\n",
    "    \"universe_model\": [universe_model],\n",
    "    \"universe_exclude_features\": [universe_exclude_features],\n",
    "    \"universe_exclude_subgroups\": [universe_exclude_subgroups],\n",
    "    \"q_hat\": [q_hat],\n",
    "    \"coverage\": [metrics[\"coverage\"]],\n",
    "    \"avg_size\": [metrics[\"avg_size\"]],\n",
    "}"
   ]
  },
  {
   "cell_type": "code",
   "execution_count": 52,
   "id": "908acbb1-0371-4915-85ca-3fa520d2efe2",
   "metadata": {
    "execution": {
     "iopub.execute_input": "2025-07-28T11:06:57.815577Z",
     "iopub.status.busy": "2025-07-28T11:06:57.815172Z",
     "iopub.status.idle": "2025-07-28T11:06:57.824768Z",
     "shell.execute_reply": "2025-07-28T11:06:57.823884Z"
    },
    "papermill": {
     "duration": 0.064665,
     "end_time": "2025-07-28T11:06:57.827493",
     "exception": false,
     "start_time": "2025-07-28T11:06:57.762828",
     "status": "completed"
    },
    "tags": []
   },
   "outputs": [
    {
     "data": {
      "text/plain": [
       "{'universe_id': ['7163911a49d78d51026764e9ea55c317'],\n",
       " 'universe_training_size': ['2014'],\n",
       " 'universe_scale': ['do-not-scale'],\n",
       " 'universe_model': ['rf'],\n",
       " 'universe_exclude_features': ['nationality-sex'],\n",
       " 'universe_exclude_subgroups': ['keep-all'],\n",
       " 'q_hat': [0.6599999999999999],\n",
       " 'coverage': [0.9167316910043474],\n",
       " 'avg_size': [1.1430163861330955]}"
      ]
     },
     "execution_count": 52,
     "metadata": {},
     "output_type": "execute_result"
    }
   ],
   "source": [
    "cp_metrics_dict"
   ]
  },
  {
   "cell_type": "code",
   "execution_count": 53,
   "id": "33007efc-14e9-4ec6-97ac-56a455c82265",
   "metadata": {
    "execution": {
     "iopub.execute_input": "2025-07-28T11:06:57.951081Z",
     "iopub.status.busy": "2025-07-28T11:06:57.950627Z",
     "iopub.status.idle": "2025-07-28T11:06:57.959219Z",
     "shell.execute_reply": "2025-07-28T11:06:57.958141Z"
    },
    "papermill": {
     "duration": 0.064919,
     "end_time": "2025-07-28T11:06:57.961317",
     "exception": false,
     "start_time": "2025-07-28T11:06:57.896398",
     "status": "completed"
    },
    "tags": []
   },
   "outputs": [],
   "source": [
    "cp_metrics_df = pd.DataFrame(cp_metrics_dict)"
   ]
  },
  {
   "cell_type": "code",
   "execution_count": 54,
   "id": "db12611b-57b2-4910-b9d0-355adfd6e7bf",
   "metadata": {
    "execution": {
     "iopub.execute_input": "2025-07-28T11:06:58.068346Z",
     "iopub.status.busy": "2025-07-28T11:06:58.067891Z",
     "iopub.status.idle": "2025-07-28T11:06:58.091156Z",
     "shell.execute_reply": "2025-07-28T11:06:58.090106Z"
    },
    "papermill": {
     "duration": 0.068578,
     "end_time": "2025-07-28T11:06:58.093223",
     "exception": false,
     "start_time": "2025-07-28T11:06:58.024645",
     "status": "completed"
    },
    "tags": []
   },
   "outputs": [
    {
     "data": {
      "text/html": [
       "<div>\n",
       "<style scoped>\n",
       "    .dataframe tbody tr th:only-of-type {\n",
       "        vertical-align: middle;\n",
       "    }\n",
       "\n",
       "    .dataframe tbody tr th {\n",
       "        vertical-align: top;\n",
       "    }\n",
       "\n",
       "    .dataframe thead th {\n",
       "        text-align: right;\n",
       "    }\n",
       "</style>\n",
       "<table border=\"1\" class=\"dataframe\">\n",
       "  <thead>\n",
       "    <tr style=\"text-align: right;\">\n",
       "      <th></th>\n",
       "      <th>universe_id</th>\n",
       "      <th>universe_training_size</th>\n",
       "      <th>universe_scale</th>\n",
       "      <th>universe_model</th>\n",
       "      <th>universe_exclude_features</th>\n",
       "      <th>universe_exclude_subgroups</th>\n",
       "      <th>q_hat</th>\n",
       "      <th>coverage</th>\n",
       "      <th>avg_size</th>\n",
       "    </tr>\n",
       "  </thead>\n",
       "  <tbody>\n",
       "    <tr>\n",
       "      <th>0</th>\n",
       "      <td>7163911a49d78d51026764e9ea55c317</td>\n",
       "      <td>2014</td>\n",
       "      <td>do-not-scale</td>\n",
       "      <td>rf</td>\n",
       "      <td>nationality-sex</td>\n",
       "      <td>keep-all</td>\n",
       "      <td>0.66</td>\n",
       "      <td>0.916732</td>\n",
       "      <td>1.143016</td>\n",
       "    </tr>\n",
       "  </tbody>\n",
       "</table>\n",
       "</div>"
      ],
      "text/plain": [
       "                        universe_id universe_training_size universe_scale  \\\n",
       "0  7163911a49d78d51026764e9ea55c317                   2014   do-not-scale   \n",
       "\n",
       "  universe_model universe_exclude_features universe_exclude_subgroups  q_hat  \\\n",
       "0             rf           nationality-sex                   keep-all   0.66   \n",
       "\n",
       "   coverage  avg_size  \n",
       "0  0.916732  1.143016  "
      ]
     },
     "execution_count": 54,
     "metadata": {},
     "output_type": "execute_result"
    }
   ],
   "source": [
    "cp_metrics_df"
   ]
  },
  {
   "cell_type": "code",
   "execution_count": 55,
   "id": "b7fbde55-a0a1-47e4-9af6-fe4a17fa8c61",
   "metadata": {
    "execution": {
     "iopub.execute_input": "2025-07-28T11:06:58.147717Z",
     "iopub.status.busy": "2025-07-28T11:06:58.147270Z",
     "iopub.status.idle": "2025-07-28T11:06:58.152809Z",
     "shell.execute_reply": "2025-07-28T11:06:58.151620Z"
    },
    "papermill": {
     "duration": 0.035711,
     "end_time": "2025-07-28T11:06:58.155696",
     "exception": false,
     "start_time": "2025-07-28T11:06:58.119985",
     "status": "completed"
    },
    "tags": []
   },
   "outputs": [],
   "source": [
    "# Conditional Coverage & looking at subgroups"
   ]
  },
  {
   "cell_type": "code",
   "execution_count": 56,
   "id": "027ae886-68dd-4141-96c7-805a5450e1ef",
   "metadata": {
    "execution": {
     "iopub.execute_input": "2025-07-28T11:06:58.267069Z",
     "iopub.status.busy": "2025-07-28T11:06:58.266648Z",
     "iopub.status.idle": "2025-07-28T11:06:58.565917Z",
     "shell.execute_reply": "2025-07-28T11:06:58.564867Z"
    },
    "papermill": {
     "duration": 0.360093,
     "end_time": "2025-07-28T11:06:58.568814",
     "exception": false,
     "start_time": "2025-07-28T11:06:58.208721",
     "status": "completed"
    },
    "tags": []
   },
   "outputs": [],
   "source": [
    "from fairness_multiverse.conformal import build_cp_groups\n",
    "\n",
    "cp_groups_df = build_cp_groups(pred_sets, y_true, X_test.index, org_test)\n",
    "#needs universe_id and setting"
   ]
  },
  {
   "cell_type": "code",
   "execution_count": 57,
   "id": "01d5802c-663a-4d1f-9d69-e036faaffbf7",
   "metadata": {
    "execution": {
     "iopub.execute_input": "2025-07-28T11:06:58.622046Z",
     "iopub.status.busy": "2025-07-28T11:06:58.621591Z",
     "iopub.status.idle": "2025-07-28T11:06:58.627107Z",
     "shell.execute_reply": "2025-07-28T11:06:58.626065Z"
    },
    "papermill": {
     "duration": 0.03515,
     "end_time": "2025-07-28T11:06:58.630504",
     "exception": false,
     "start_time": "2025-07-28T11:06:58.595354",
     "status": "completed"
    },
    "tags": []
   },
   "outputs": [],
   "source": [
    "#delete\n",
    "#cp_groups_df"
   ]
  },
  {
   "cell_type": "code",
   "execution_count": 58,
   "id": "fa424af1-d1eb-443d-b717-2d279ada8408",
   "metadata": {
    "execution": {
     "iopub.execute_input": "2025-07-28T11:06:58.685043Z",
     "iopub.status.busy": "2025-07-28T11:06:58.684663Z",
     "iopub.status.idle": "2025-07-28T11:06:58.689865Z",
     "shell.execute_reply": "2025-07-28T11:06:58.688995Z"
    },
    "papermill": {
     "duration": 0.03549,
     "end_time": "2025-07-28T11:06:58.693006",
     "exception": false,
     "start_time": "2025-07-28T11:06:58.657516",
     "status": "completed"
    },
    "tags": []
   },
   "outputs": [],
   "source": [
    "#delete\n",
    "#percentage = (cp_groups_df['nongerman_female'] == 1).mean() * 100\n",
    "#print(percentage)\n"
   ]
  },
  {
   "cell_type": "code",
   "execution_count": 59,
   "id": "6cbdab96-b2b2-45af-ad54-d0516db2e28d",
   "metadata": {
    "execution": {
     "iopub.execute_input": "2025-07-28T11:06:58.748149Z",
     "iopub.status.busy": "2025-07-28T11:06:58.747718Z",
     "iopub.status.idle": "2025-07-28T11:07:01.947344Z",
     "shell.execute_reply": "2025-07-28T11:07:01.946154Z"
    },
    "papermill": {
     "duration": 3.228955,
     "end_time": "2025-07-28T11:07:01.949307",
     "exception": false,
     "start_time": "2025-07-28T11:06:58.720352",
     "status": "completed"
    },
    "tags": []
   },
   "outputs": [],
   "source": [
    "# Define covered = 1 if true_label is in the predicted set\n",
    "cp_groups_df['covered'] = cp_groups_df.apply(\n",
    "    lambda r: int(r['true_label'] in r['pred_set']),\n",
    "    axis=1\n",
    ")"
   ]
  },
  {
   "cell_type": "code",
   "execution_count": 60,
   "id": "338ff529-1a6b-4b87-a931-8e4788d52aad",
   "metadata": {
    "execution": {
     "iopub.execute_input": "2025-07-28T11:07:02.080936Z",
     "iopub.status.busy": "2025-07-28T11:07:02.080320Z",
     "iopub.status.idle": "2025-07-28T11:07:02.086437Z",
     "shell.execute_reply": "2025-07-28T11:07:02.085449Z"
    },
    "papermill": {
     "duration": 0.067632,
     "end_time": "2025-07-28T11:07:02.088244",
     "exception": false,
     "start_time": "2025-07-28T11:07:02.020612",
     "status": "completed"
    },
    "tags": []
   },
   "outputs": [],
   "source": [
    "#cp_groups_df"
   ]
  },
  {
   "cell_type": "code",
   "execution_count": 61,
   "id": "90032e27-66df-4540-9169-4e89cfbaa758",
   "metadata": {
    "execution": {
     "iopub.execute_input": "2025-07-28T11:07:02.186595Z",
     "iopub.status.busy": "2025-07-28T11:07:02.186176Z",
     "iopub.status.idle": "2025-07-28T11:07:02.200310Z",
     "shell.execute_reply": "2025-07-28T11:07:02.199128Z"
    },
    "papermill": {
     "duration": 0.086299,
     "end_time": "2025-07-28T11:07:02.202183",
     "exception": false,
     "start_time": "2025-07-28T11:07:02.115884",
     "status": "completed"
    },
    "tags": []
   },
   "outputs": [],
   "source": [
    "subgroups = ['frau1','nongerman','nongerman_male','nongerman_female']\n",
    "\n",
    "# Conditional coverage for subgroup==1\n",
    "cond_coverage = {\n",
    "    g: cp_groups_df.loc[cp_groups_df[g]==1, 'covered'].mean()\n",
    "    for g in subgroups\n",
    "}"
   ]
  },
  {
   "cell_type": "code",
   "execution_count": 62,
   "id": "1e348fb1-b9c3-45bc-ba23-f016827a7e0d",
   "metadata": {
    "execution": {
     "iopub.execute_input": "2025-07-28T11:07:02.292161Z",
     "iopub.status.busy": "2025-07-28T11:07:02.291634Z",
     "iopub.status.idle": "2025-07-28T11:07:02.299481Z",
     "shell.execute_reply": "2025-07-28T11:07:02.298411Z"
    },
    "papermill": {
     "duration": 0.059504,
     "end_time": "2025-07-28T11:07:02.302280",
     "exception": false,
     "start_time": "2025-07-28T11:07:02.242776",
     "status": "completed"
    },
    "tags": []
   },
   "outputs": [
    {
     "data": {
      "text/plain": [
       "{'frau1': 0.9169699420407063,\n",
       " 'nongerman': 0.9143322292707573,\n",
       " 'nongerman_male': 0.9275871386111861,\n",
       " 'nongerman_female': 0.8923994038748138}"
      ]
     },
     "execution_count": 62,
     "metadata": {},
     "output_type": "execute_result"
    }
   ],
   "source": [
    "cond_coverage"
   ]
  },
  {
   "cell_type": "code",
   "execution_count": 63,
   "id": "f5093324-c3dd-4d63-bc4c-8d945e5c8bbb",
   "metadata": {
    "execution": {
     "iopub.execute_input": "2025-07-28T11:07:02.389905Z",
     "iopub.status.busy": "2025-07-28T11:07:02.389511Z",
     "iopub.status.idle": "2025-07-28T11:07:02.397070Z",
     "shell.execute_reply": "2025-07-28T11:07:02.396167Z"
    },
    "papermill": {
     "duration": 0.055513,
     "end_time": "2025-07-28T11:07:02.400060",
     "exception": false,
     "start_time": "2025-07-28T11:07:02.344547",
     "status": "completed"
    },
    "tags": []
   },
   "outputs": [],
   "source": [
    "for subgroup, cov in cond_coverage.items():\n",
    "    cp_metrics_df[f\"cov_{subgroup}\"] = cov"
   ]
  },
  {
   "cell_type": "code",
   "execution_count": 64,
   "id": "6e872e10-dbe5-49e8-b554-5030c98ff75d",
   "metadata": {
    "execution": {
     "iopub.execute_input": "2025-07-28T11:07:02.470919Z",
     "iopub.status.busy": "2025-07-28T11:07:02.470493Z",
     "iopub.status.idle": "2025-07-28T11:07:02.510247Z",
     "shell.execute_reply": "2025-07-28T11:07:02.509208Z"
    },
    "papermill": {
     "duration": 0.08498,
     "end_time": "2025-07-28T11:07:02.512181",
     "exception": false,
     "start_time": "2025-07-28T11:07:02.427201",
     "status": "completed"
    },
    "tags": []
   },
   "outputs": [
    {
     "data": {
      "text/html": [
       "<div>\n",
       "<style scoped>\n",
       "    .dataframe tbody tr th:only-of-type {\n",
       "        vertical-align: middle;\n",
       "    }\n",
       "\n",
       "    .dataframe tbody tr th {\n",
       "        vertical-align: top;\n",
       "    }\n",
       "\n",
       "    .dataframe thead th {\n",
       "        text-align: right;\n",
       "    }\n",
       "</style>\n",
       "<table border=\"1\" class=\"dataframe\">\n",
       "  <thead>\n",
       "    <tr style=\"text-align: right;\">\n",
       "      <th></th>\n",
       "      <th>universe_id</th>\n",
       "      <th>universe_training_size</th>\n",
       "      <th>universe_scale</th>\n",
       "      <th>universe_model</th>\n",
       "      <th>universe_exclude_features</th>\n",
       "      <th>universe_exclude_subgroups</th>\n",
       "      <th>q_hat</th>\n",
       "      <th>coverage</th>\n",
       "      <th>avg_size</th>\n",
       "      <th>cov_frau1</th>\n",
       "      <th>cov_nongerman</th>\n",
       "      <th>cov_nongerman_male</th>\n",
       "      <th>cov_nongerman_female</th>\n",
       "    </tr>\n",
       "  </thead>\n",
       "  <tbody>\n",
       "    <tr>\n",
       "      <th>0</th>\n",
       "      <td>7163911a49d78d51026764e9ea55c317</td>\n",
       "      <td>2014</td>\n",
       "      <td>do-not-scale</td>\n",
       "      <td>rf</td>\n",
       "      <td>nationality-sex</td>\n",
       "      <td>keep-all</td>\n",
       "      <td>0.66</td>\n",
       "      <td>0.916732</td>\n",
       "      <td>1.143016</td>\n",
       "      <td>0.91697</td>\n",
       "      <td>0.914332</td>\n",
       "      <td>0.927587</td>\n",
       "      <td>0.892399</td>\n",
       "    </tr>\n",
       "  </tbody>\n",
       "</table>\n",
       "</div>"
      ],
      "text/plain": [
       "                        universe_id universe_training_size universe_scale  \\\n",
       "0  7163911a49d78d51026764e9ea55c317                   2014   do-not-scale   \n",
       "\n",
       "  universe_model universe_exclude_features universe_exclude_subgroups  q_hat  \\\n",
       "0             rf           nationality-sex                   keep-all   0.66   \n",
       "\n",
       "   coverage  avg_size  cov_frau1  cov_nongerman  cov_nongerman_male  \\\n",
       "0  0.916732  1.143016    0.91697       0.914332            0.927587   \n",
       "\n",
       "   cov_nongerman_female  \n",
       "0              0.892399  "
      ]
     },
     "execution_count": 64,
     "metadata": {},
     "output_type": "execute_result"
    }
   ],
   "source": [
    "cp_metrics_df"
   ]
  },
  {
   "cell_type": "markdown",
   "id": "33774451",
   "metadata": {
    "papermill": {
     "duration": 0.050241,
     "end_time": "2025-07-28T11:07:02.618865",
     "exception": false,
     "start_time": "2025-07-28T11:07:02.568624",
     "status": "completed"
    },
    "tags": []
   },
   "source": [
    "# (Fairness) Metrics"
   ]
  },
  {
   "cell_type": "code",
   "execution_count": 65,
   "id": "debc5d62",
   "metadata": {
    "execution": {
     "iopub.execute_input": "2025-07-28T11:07:02.739361Z",
     "iopub.status.busy": "2025-07-28T11:07:02.738614Z",
     "iopub.status.idle": "2025-07-28T11:07:02.790318Z",
     "shell.execute_reply": "2025-07-28T11:07:02.789162Z"
    },
    "papermill": {
     "duration": 0.116263,
     "end_time": "2025-07-28T11:07:02.792922",
     "exception": false,
     "start_time": "2025-07-28T11:07:02.676659",
     "status": "completed"
    },
    "tags": []
   },
   "outputs": [],
   "source": [
    "# do I need to include maxdeutsch1.missing?\n",
    "\n",
    "import numpy as np\n",
    "\n",
    "colname_to_bin = \"maxdeutsch1\"\n",
    "majority_value = org_train[colname_to_bin].mode()[0]\n",
    "\n",
    "org_test[\"majmin\"] = np.where(org_test[colname_to_bin] == majority_value, \"majority\", \"minority\")"
   ]
  },
  {
   "cell_type": "code",
   "execution_count": 66,
   "id": "06a50de5",
   "metadata": {
    "execution": {
     "iopub.execute_input": "2025-07-28T11:07:02.907033Z",
     "iopub.status.busy": "2025-07-28T11:07:02.906573Z",
     "iopub.status.idle": "2025-07-28T11:07:06.032646Z",
     "shell.execute_reply": "2025-07-28T11:07:06.031537Z"
    },
    "papermill": {
     "duration": 3.182036,
     "end_time": "2025-07-28T11:07:06.034682",
     "exception": false,
     "start_time": "2025-07-28T11:07:02.852646",
     "status": "completed"
    },
    "tags": []
   },
   "outputs": [],
   "source": [
    "example_universe = universe.copy()\n",
    "example_universe[\"cutoff\"] = example_universe[\"cutoff\"][0]\n",
    "example_universe[\"eval_fairness_grouping\"] = example_universe[\"eval_fairness_grouping\"][0]\n",
    "fairness_dict, metric_frame = universe_analysis.compute_metrics(\n",
    "    example_universe,\n",
    "    y_pred_prob=probs_test,\n",
    "    y_test=y_true,\n",
    "    org_test=org_test,\n",
    ")"
   ]
  },
  {
   "cell_type": "markdown",
   "id": "f95d4e02",
   "metadata": {
    "papermill": {
     "duration": 0.027042,
     "end_time": "2025-07-28T11:07:06.088432",
     "exception": false,
     "start_time": "2025-07-28T11:07:06.061390",
     "status": "completed"
    },
    "tags": []
   },
   "source": [
    "# Overall"
   ]
  },
  {
   "cell_type": "markdown",
   "id": "bdee4871",
   "metadata": {
    "papermill": {
     "duration": 0.025607,
     "end_time": "2025-07-28T11:07:06.140506",
     "exception": false,
     "start_time": "2025-07-28T11:07:06.114899",
     "status": "completed"
    },
    "tags": []
   },
   "source": [
    "Fairness\n",
    "Main fairness target: Equalized Odds. Seems to be a better fit than equal opportunity, since we're not only interested in Y = 1. Seems to be a better fit than demographic parity, since we also care about accuracy, not just equal distribution of preds.\n",
    "\n",
    "Pick column for computation of fairness metrics\n",
    "\n",
    "Performance\n",
    "Overall performance measures, most interesting in relation to the measures split by group below"
   ]
  },
  {
   "cell_type": "code",
   "execution_count": 67,
   "id": "c4e067c6",
   "metadata": {
    "execution": {
     "iopub.execute_input": "2025-07-28T11:07:06.196093Z",
     "iopub.status.busy": "2025-07-28T11:07:06.195682Z",
     "iopub.status.idle": "2025-07-28T11:07:06.204957Z",
     "shell.execute_reply": "2025-07-28T11:07:06.203986Z"
    },
    "papermill": {
     "duration": 0.041992,
     "end_time": "2025-07-28T11:07:06.209279",
     "exception": false,
     "start_time": "2025-07-28T11:07:06.167287",
     "status": "completed"
    },
    "tags": []
   },
   "outputs": [
    {
     "data": {
      "text/plain": [
       "accuracy                   0.210021\n",
       "balanced accuracy          0.537103\n",
       "f1                         0.240882\n",
       "precision                  0.137375\n",
       "false positive rate        0.902854\n",
       "false negative rate        0.022941\n",
       "selection rate             0.912373\n",
       "count                  89710.000000\n",
       "dtype: float64"
      ]
     },
     "execution_count": 67,
     "metadata": {},
     "output_type": "execute_result"
    }
   ],
   "source": [
    "metric_frame.overall"
   ]
  },
  {
   "cell_type": "markdown",
   "id": "e968fe9d",
   "metadata": {
    "papermill": {
     "duration": 0.027117,
     "end_time": "2025-07-28T11:07:06.264199",
     "exception": false,
     "start_time": "2025-07-28T11:07:06.237082",
     "status": "completed"
    },
    "tags": []
   },
   "source": [
    "By Group"
   ]
  },
  {
   "cell_type": "code",
   "execution_count": 68,
   "id": "ec325bce",
   "metadata": {
    "execution": {
     "iopub.execute_input": "2025-07-28T11:07:06.319158Z",
     "iopub.status.busy": "2025-07-28T11:07:06.318728Z",
     "iopub.status.idle": "2025-07-28T11:07:06.339122Z",
     "shell.execute_reply": "2025-07-28T11:07:06.338137Z"
    },
    "papermill": {
     "duration": 0.050855,
     "end_time": "2025-07-28T11:07:06.341236",
     "exception": false,
     "start_time": "2025-07-28T11:07:06.290381",
     "status": "completed"
    },
    "tags": []
   },
   "outputs": [
    {
     "data": {
      "text/html": [
       "<div>\n",
       "<style scoped>\n",
       "    .dataframe tbody tr th:only-of-type {\n",
       "        vertical-align: middle;\n",
       "    }\n",
       "\n",
       "    .dataframe tbody tr th {\n",
       "        vertical-align: top;\n",
       "    }\n",
       "\n",
       "    .dataframe thead th {\n",
       "        text-align: right;\n",
       "    }\n",
       "</style>\n",
       "<table border=\"1\" class=\"dataframe\">\n",
       "  <thead>\n",
       "    <tr style=\"text-align: right;\">\n",
       "      <th></th>\n",
       "      <th>accuracy</th>\n",
       "      <th>balanced accuracy</th>\n",
       "      <th>f1</th>\n",
       "      <th>precision</th>\n",
       "      <th>false positive rate</th>\n",
       "      <th>false negative rate</th>\n",
       "      <th>selection rate</th>\n",
       "      <th>count</th>\n",
       "    </tr>\n",
       "    <tr>\n",
       "      <th>majmin</th>\n",
       "      <th></th>\n",
       "      <th></th>\n",
       "      <th></th>\n",
       "      <th></th>\n",
       "      <th></th>\n",
       "      <th></th>\n",
       "      <th></th>\n",
       "      <th></th>\n",
       "    </tr>\n",
       "  </thead>\n",
       "  <tbody>\n",
       "    <tr>\n",
       "      <th>majority</th>\n",
       "      <td>0.198800</td>\n",
       "      <td>0.534371</td>\n",
       "      <td>0.246256</td>\n",
       "      <td>0.140607</td>\n",
       "      <td>0.921739</td>\n",
       "      <td>0.009519</td>\n",
       "      <td>0.930823</td>\n",
       "      <td>69170.0</td>\n",
       "    </tr>\n",
       "    <tr>\n",
       "      <th>minority</th>\n",
       "      <td>0.247809</td>\n",
       "      <td>0.542392</td>\n",
       "      <td>0.220956</td>\n",
       "      <td>0.125458</td>\n",
       "      <td>0.840469</td>\n",
       "      <td>0.074747</td>\n",
       "      <td>0.850243</td>\n",
       "      <td>20540.0</td>\n",
       "    </tr>\n",
       "  </tbody>\n",
       "</table>\n",
       "</div>"
      ],
      "text/plain": [
       "          accuracy  balanced accuracy        f1  precision  \\\n",
       "majmin                                                       \n",
       "majority  0.198800           0.534371  0.246256   0.140607   \n",
       "minority  0.247809           0.542392  0.220956   0.125458   \n",
       "\n",
       "          false positive rate  false negative rate  selection rate    count  \n",
       "majmin                                                                       \n",
       "majority             0.921739             0.009519        0.930823  69170.0  \n",
       "minority             0.840469             0.074747        0.850243  20540.0  "
      ]
     },
     "execution_count": 68,
     "metadata": {},
     "output_type": "execute_result"
    }
   ],
   "source": [
    "metric_frame.by_group"
   ]
  },
  {
   "cell_type": "code",
   "execution_count": 69,
   "id": "a9ddbe63",
   "metadata": {
    "execution": {
     "iopub.execute_input": "2025-07-28T11:07:06.397147Z",
     "iopub.status.busy": "2025-07-28T11:07:06.396680Z",
     "iopub.status.idle": "2025-07-28T11:07:09.623210Z",
     "shell.execute_reply": "2025-07-28T11:07:09.622218Z"
    },
    "papermill": {
     "duration": 3.257419,
     "end_time": "2025-07-28T11:07:09.625127",
     "exception": false,
     "start_time": "2025-07-28T11:07:06.367708",
     "status": "completed"
    },
    "tags": []
   },
   "outputs": [
    {
     "data": {
      "text/plain": [
       "array([[<Axes: title={'center': 'accuracy'}, xlabel='majmin'>,\n",
       "        <Axes: title={'center': 'balanced accuracy'}, xlabel='majmin'>,\n",
       "        <Axes: title={'center': 'f1'}, xlabel='majmin'>],\n",
       "       [<Axes: title={'center': 'precision'}, xlabel='majmin'>,\n",
       "        <Axes: title={'center': 'false positive rate'}, xlabel='majmin'>,\n",
       "        <Axes: title={'center': 'false negative rate'}, xlabel='majmin'>],\n",
       "       [<Axes: title={'center': 'selection rate'}, xlabel='majmin'>,\n",
       "        <Axes: title={'center': 'count'}, xlabel='majmin'>,\n",
       "        <Axes: xlabel='majmin'>]], dtype=object)"
      ]
     },
     "execution_count": 69,
     "metadata": {},
     "output_type": "execute_result"
    },
    {
     "data": {
      "image/png": "[encoded data removed]",
      "text/plain": [
       "<Figure size 1200x800 with 9 Axes>"
      ]
     },
     "metadata": {},
     "output_type": "display_data"
    }
   ],
   "source": [
    "# In a graphic\n",
    "metric_frame.by_group.plot.bar(\n",
    "    subplots=True,\n",
    "    layout=[3, 3],\n",
    "    legend=False,\n",
    "    figsize=[12, 8],\n",
    "    title=\"Show all metrics\",\n",
    ")"
   ]
  },
  {
   "cell_type": "markdown",
   "id": "f57a0bac",
   "metadata": {
    "papermill": {
     "duration": 0.056069,
     "end_time": "2025-07-28T11:07:09.741064",
     "exception": false,
     "start_time": "2025-07-28T11:07:09.684995",
     "status": "completed"
    },
    "tags": []
   },
   "source": [
    "# Final Output"
   ]
  },
  {
   "cell_type": "code",
   "execution_count": 70,
   "id": "96d280a3",
   "metadata": {
    "execution": {
     "iopub.execute_input": "2025-07-28T11:07:09.790209Z",
     "iopub.status.busy": "2025-07-28T11:07:09.789535Z",
     "iopub.status.idle": "2025-07-28T11:07:09.797868Z",
     "shell.execute_reply": "2025-07-28T11:07:09.796887Z"
    },
    "papermill": {
     "duration": 0.034082,
     "end_time": "2025-07-28T11:07:09.803616",
     "exception": false,
     "start_time": "2025-07-28T11:07:09.769534",
     "status": "completed"
    },
    "tags": []
   },
   "outputs": [
    {
     "data": {
      "text/plain": [
       "4"
      ]
     },
     "execution_count": 70,
     "metadata": {},
     "output_type": "execute_result"
    }
   ],
   "source": [
    "sub_universes = universe_analysis.generate_sub_universes()\n",
    "len(sub_universes)"
   ]
  },
  {
   "cell_type": "code",
   "execution_count": 71,
   "id": "92adf7ba",
   "metadata": {
    "execution": {
     "iopub.execute_input": "2025-07-28T11:07:09.862701Z",
     "iopub.status.busy": "2025-07-28T11:07:09.862189Z",
     "iopub.status.idle": "2025-07-28T11:07:09.869248Z",
     "shell.execute_reply": "2025-07-28T11:07:09.868099Z"
    },
    "papermill": {
     "duration": 0.037642,
     "end_time": "2025-07-28T11:07:09.871346",
     "exception": false,
     "start_time": "2025-07-28T11:07:09.833704",
     "status": "completed"
    },
    "tags": []
   },
   "outputs": [],
   "source": [
    "def filter_sub_universe_data(sub_universe, org_test):\n",
    "    # Keep all rows — no filtering\n",
    "    keep_rows_mask = np.ones(org_test.shape[0], dtype=bool)\n",
    "\n",
    "    print(f\"[INFO] Keeping all rows: {keep_rows_mask.sum()} rows retained.\")\n",
    "    return keep_rows_mask"
   ]
  },
  {
   "cell_type": "code",
   "execution_count": 72,
   "id": "4a759155",
   "metadata": {
    "execution": {
     "iopub.execute_input": "2025-07-28T11:07:09.940556Z",
     "iopub.status.busy": "2025-07-28T11:07:09.940017Z",
     "iopub.status.idle": "2025-07-28T11:07:23.778028Z",
     "shell.execute_reply": "2025-07-28T11:07:23.777039Z"
    },
    "papermill": {
     "duration": 13.880246,
     "end_time": "2025-07-28T11:07:23.780113",
     "exception": false,
     "start_time": "2025-07-28T11:07:09.899867",
     "status": "completed"
    },
    "tags": []
   },
   "outputs": [
    {
     "name": "stdout",
     "output_type": "stream",
     "text": [
      "Stopping execution_time clock.\n",
      "[INFO] Keeping all rows: 89710 rows retained.\n"
     ]
    },
    {
     "name": "stdout",
     "output_type": "stream",
     "text": [
      "[INFO] Keeping all rows: 89710 rows retained.\n"
     ]
    },
    {
     "name": "stdout",
     "output_type": "stream",
     "text": [
      "[INFO] Keeping all rows: 89710 rows retained.\n"
     ]
    },
    {
     "name": "stdout",
     "output_type": "stream",
     "text": [
      "[INFO] Keeping all rows: 89710 rows retained.\n"
     ]
    },
    {
     "data": {
      "text/html": [
       "<div>\n",
       "<style scoped>\n",
       "    .dataframe tbody tr th:only-of-type {\n",
       "        vertical-align: middle;\n",
       "    }\n",
       "\n",
       "    .dataframe tbody tr th {\n",
       "        vertical-align: top;\n",
       "    }\n",
       "\n",
       "    .dataframe thead th {\n",
       "        text-align: right;\n",
       "    }\n",
       "</style>\n",
       "<table border=\"1\" class=\"dataframe\">\n",
       "  <thead>\n",
       "    <tr style=\"text-align: right;\">\n",
       "      <th></th>\n",
       "      <th>run_no</th>\n",
       "      <th>universe_id</th>\n",
       "      <th>universe_settings</th>\n",
       "      <th>execution_time</th>\n",
       "      <th>test_size_n</th>\n",
       "      <th>test_size_frac</th>\n",
       "      <th>fair_main_equalized_odds_difference</th>\n",
       "      <th>fair_main_equalized_odds_ratio</th>\n",
       "      <th>fair_main_demographic_parity_difference</th>\n",
       "      <th>fair_main_demographic_parity_ratio</th>\n",
       "      <th>...</th>\n",
       "      <th>perf_grp_precision_0</th>\n",
       "      <th>perf_grp_precision_1</th>\n",
       "      <th>perf_grp_false positive rate_0</th>\n",
       "      <th>perf_grp_false positive rate_1</th>\n",
       "      <th>perf_grp_false negative rate_0</th>\n",
       "      <th>perf_grp_false negative rate_1</th>\n",
       "      <th>perf_grp_selection rate_0</th>\n",
       "      <th>perf_grp_selection rate_1</th>\n",
       "      <th>perf_grp_count_0</th>\n",
       "      <th>perf_grp_count_1</th>\n",
       "    </tr>\n",
       "  </thead>\n",
       "  <tbody>\n",
       "    <tr>\n",
       "      <th>0</th>\n",
       "      <td>11</td>\n",
       "      <td>7163911a49d78d51026764e9ea55c317</td>\n",
       "      <td>{\"cutoff\": \"quantile_0.1\", \"eval_fairness_grou...</td>\n",
       "      <td>71.930769</td>\n",
       "      <td>89710</td>\n",
       "      <td>1.0</td>\n",
       "      <td>0.081270</td>\n",
       "      <td>0.911829</td>\n",
       "      <td>0.080579</td>\n",
       "      <td>0.913432</td>\n",
       "      <td>...</td>\n",
       "      <td>NaN</td>\n",
       "      <td>NaN</td>\n",
       "      <td>NaN</td>\n",
       "      <td>NaN</td>\n",
       "      <td>NaN</td>\n",
       "      <td>NaN</td>\n",
       "      <td>NaN</td>\n",
       "      <td>NaN</td>\n",
       "      <td>NaN</td>\n",
       "      <td>NaN</td>\n",
       "    </tr>\n",
       "    <tr>\n",
       "      <th>0</th>\n",
       "      <td>11</td>\n",
       "      <td>7163911a49d78d51026764e9ea55c317</td>\n",
       "      <td>{\"cutoff\": \"quantile_0.1\", \"eval_fairness_grou...</td>\n",
       "      <td>71.930769</td>\n",
       "      <td>89710</td>\n",
       "      <td>1.0</td>\n",
       "      <td>0.081270</td>\n",
       "      <td>0.911829</td>\n",
       "      <td>0.080579</td>\n",
       "      <td>0.913432</td>\n",
       "      <td>...</td>\n",
       "      <td>0.125458</td>\n",
       "      <td>0.140607</td>\n",
       "      <td>0.840469</td>\n",
       "      <td>0.921739</td>\n",
       "      <td>0.074747</td>\n",
       "      <td>0.009519</td>\n",
       "      <td>0.850243</td>\n",
       "      <td>0.930823</td>\n",
       "      <td>20540.0</td>\n",
       "      <td>69170.0</td>\n",
       "    </tr>\n",
       "    <tr>\n",
       "      <th>0</th>\n",
       "      <td>11</td>\n",
       "      <td>7163911a49d78d51026764e9ea55c317</td>\n",
       "      <td>{\"cutoff\": \"quantile_0.25\", \"eval_fairness_gro...</td>\n",
       "      <td>71.930769</td>\n",
       "      <td>89710</td>\n",
       "      <td>1.0</td>\n",
       "      <td>0.102321</td>\n",
       "      <td>0.885510</td>\n",
       "      <td>0.091206</td>\n",
       "      <td>0.882609</td>\n",
       "      <td>...</td>\n",
       "      <td>NaN</td>\n",
       "      <td>NaN</td>\n",
       "      <td>NaN</td>\n",
       "      <td>NaN</td>\n",
       "      <td>NaN</td>\n",
       "      <td>NaN</td>\n",
       "      <td>NaN</td>\n",
       "      <td>NaN</td>\n",
       "      <td>NaN</td>\n",
       "      <td>NaN</td>\n",
       "    </tr>\n",
       "    <tr>\n",
       "      <th>0</th>\n",
       "      <td>11</td>\n",
       "      <td>7163911a49d78d51026764e9ea55c317</td>\n",
       "      <td>{\"cutoff\": \"quantile_0.25\", \"eval_fairness_gro...</td>\n",
       "      <td>71.930769</td>\n",
       "      <td>89710</td>\n",
       "      <td>1.0</td>\n",
       "      <td>0.102321</td>\n",
       "      <td>0.885510</td>\n",
       "      <td>0.091206</td>\n",
       "      <td>0.882609</td>\n",
       "      <td>...</td>\n",
       "      <td>0.143415</td>\n",
       "      <td>0.162483</td>\n",
       "      <td>0.663934</td>\n",
       "      <td>0.749775</td>\n",
       "      <td>0.146959</td>\n",
       "      <td>0.044639</td>\n",
       "      <td>0.685735</td>\n",
       "      <td>0.776941</td>\n",
       "      <td>20540.0</td>\n",
       "      <td>69170.0</td>\n",
       "    </tr>\n",
       "  </tbody>\n",
       "</table>\n",
       "<p>4 rows × 50 columns</p>\n",
       "</div>"
      ],
      "text/plain": [
       "  run_no                       universe_id  \\\n",
       "0     11  7163911a49d78d51026764e9ea55c317   \n",
       "0     11  7163911a49d78d51026764e9ea55c317   \n",
       "0     11  7163911a49d78d51026764e9ea55c317   \n",
       "0     11  7163911a49d78d51026764e9ea55c317   \n",
       "\n",
       "                                   universe_settings  execution_time  \\\n",
       "0  {\"cutoff\": \"quantile_0.1\", \"eval_fairness_grou...       71.930769   \n",
       "0  {\"cutoff\": \"quantile_0.1\", \"eval_fairness_grou...       71.930769   \n",
       "0  {\"cutoff\": \"quantile_0.25\", \"eval_fairness_gro...       71.930769   \n",
       "0  {\"cutoff\": \"quantile_0.25\", \"eval_fairness_gro...       71.930769   \n",
       "\n",
       "   test_size_n  test_size_frac  fair_main_equalized_odds_difference  \\\n",
       "0        89710             1.0                             0.081270   \n",
       "0        89710             1.0                             0.081270   \n",
       "0        89710             1.0                             0.102321   \n",
       "0        89710             1.0                             0.102321   \n",
       "\n",
       "   fair_main_equalized_odds_ratio  fair_main_demographic_parity_difference  \\\n",
       "0                        0.911829                                 0.080579   \n",
       "0                        0.911829                                 0.080579   \n",
       "0                        0.885510                                 0.091206   \n",
       "0                        0.885510                                 0.091206   \n",
       "\n",
       "   fair_main_demographic_parity_ratio  ...  perf_grp_precision_0  \\\n",
       "0                            0.913432  ...                   NaN   \n",
       "0                            0.913432  ...              0.125458   \n",
       "0                            0.882609  ...                   NaN   \n",
       "0                            0.882609  ...              0.143415   \n",
       "\n",
       "   perf_grp_precision_1  perf_grp_false positive rate_0  \\\n",
       "0                   NaN                             NaN   \n",
       "0              0.140607                        0.840469   \n",
       "0                   NaN                             NaN   \n",
       "0              0.162483                        0.663934   \n",
       "\n",
       "   perf_grp_false positive rate_1  perf_grp_false negative rate_0  \\\n",
       "0                             NaN                             NaN   \n",
       "0                        0.921739                        0.074747   \n",
       "0                             NaN                             NaN   \n",
       "0                        0.749775                        0.146959   \n",
       "\n",
       "   perf_grp_false negative rate_1  perf_grp_selection rate_0  \\\n",
       "0                             NaN                        NaN   \n",
       "0                        0.009519                   0.850243   \n",
       "0                             NaN                        NaN   \n",
       "0                        0.044639                   0.685735   \n",
       "\n",
       "   perf_grp_selection rate_1  perf_grp_count_0  perf_grp_count_1  \n",
       "0                        NaN               NaN               NaN  \n",
       "0                   0.930823           20540.0           69170.0  \n",
       "0                        NaN               NaN               NaN  \n",
       "0                   0.776941           20540.0           69170.0  \n",
       "\n",
       "[4 rows x 50 columns]"
      ]
     },
     "execution_count": 72,
     "metadata": {},
     "output_type": "execute_result"
    }
   ],
   "source": [
    "final_output = universe_analysis.generate_final_output(\n",
    "    y_pred_prob=probs_test,\n",
    "    y_test=y_true,\n",
    "    org_test=org_test,\n",
    "    filter_data=filter_sub_universe_data,\n",
    "    cp_metrics_df=cp_metrics_df,\n",
    "    save=True,\n",
    ")\n",
    "final_output"
   ]
  },
  {
   "cell_type": "code",
   "execution_count": null,
   "id": "721ff514-cb11-46f8-b6fc-50392f74b5cb",
   "metadata": {
    "papermill": {
     "duration": 0.059662,
     "end_time": "2025-07-28T11:07:23.875854",
     "exception": false,
     "start_time": "2025-07-28T11:07:23.816192",
     "status": "completed"
    },
    "tags": []
   },
   "outputs": [],
   "source": []
  }
 ],
 "metadata": {
  "celltoolbar": "Tags",
  "kernelspec": {
   "display_name": "Python (CMA Fairness)",
   "language": "python",
   "name": "cma_fair_env"
  },
  "language_info": {
   "codemirror_mode": {
    "name": "ipython",
    "version": 3
   },
   "file_extension": ".py",
   "mimetype": "text/x-python",
   "name": "python",
   "nbconvert_exporter": "python",
   "pygments_lexer": "ipython3",
   "version": "3.10.12"
  },
  "papermill": {
   "default_parameters": {},
   "duration": 95.637348,
   "end_time": "2025-07-28T11:07:25.163301",
   "environment_variables": {},
   "exception": null,
   "input_path": "universe_analysis.ipynb",
   "output_path": "output/runs/11/notebooks/m_11-7163911a49d78d51026764e9ea55c317.ipynb",
   "parameters": {
    "output_dir": "output",
    "run_no": "11",
    "seed": "2023",
    "universe": "{\"cutoff\": [\"quantile_0.1\", \"quantile_0.25\"], \"eval_fairness_grouping\": [\"majority-minority\", \"nationality-all\"], \"exclude_features\": \"nationality-sex\", \"exclude_subgroups\": \"keep-all\", \"model\": \"rf\", \"scale\": \"do-not-scale\", \"training_size\": \"2014\"}",
    "universe_id": "7163911a49d78d51026764e9ea55c317"
   },
   "start_time": "2025-07-28T11:05:49.525953",
   "version": "2.6.0"
  }
 },
 "nbformat": 4,
 "nbformat_minor": 5
}