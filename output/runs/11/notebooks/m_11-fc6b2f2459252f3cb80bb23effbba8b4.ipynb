{
 "cells": [
  {
   "cell_type": "code",
   "execution_count": 1,
   "id": "f159f837-637b-42ba-96b5-ec9a68c44524",
   "metadata": {
    "execution": {
     "iopub.execute_input": "2025-07-28T10:13:10.730813Z",
     "iopub.status.busy": "2025-07-28T10:13:10.730368Z",
     "iopub.status.idle": "2025-07-28T10:13:10.743259Z",
     "shell.execute_reply": "2025-07-28T10:13:10.742385Z"
    },
    "papermill": {
     "duration": 0.026394,
     "end_time": "2025-07-28T10:13:10.744914",
     "exception": false,
     "start_time": "2025-07-28T10:13:10.718520",
     "status": "completed"
    },
    "tags": []
   },
   "outputs": [
    {
     "name": "stdout",
     "output_type": "stream",
     "text": [
      "/dss/dsshome1/0C/ra93lal2/cma/CMA_Fairness_v2\n"
     ]
    },
    {
     "name": "stderr",
     "output_type": "stream",
     "text": [
      "/dss/dsshome1/0C/ra93lal2/.local/share/virtualenvs/CMA_Fairness_v2-3j10GkSs/lib/python3.10/site-packages/IPython/core/magics/osm.py:393: UserWarning: This is now an optional IPython functionality, using bookmarks requires you to install the `pickleshare` library.\n",
      "  bkms = self.shell.db.get('bookmarks', {})\n",
      "/dss/dsshome1/0C/ra93lal2/.local/share/virtualenvs/CMA_Fairness_v2-3j10GkSs/lib/python3.10/site-packages/IPython/core/magics/osm.py:417: UserWarning: This is now an optional IPython functionality, setting dhist requires you to install the `pickleshare` library.\n",
      "  self.shell.db['dhist'] = compress_dhist(dhist)[-100:]\n"
     ]
    }
   ],
   "source": [
    "%cd ~/cma/CMA_Fairness_v2"
   ]
  },
  {
   "cell_type": "markdown",
   "id": "de2603b9",
   "metadata": {
    "papermill": {
     "duration": 0.016766,
     "end_time": "2025-07-28T10:13:10.772674",
     "exception": false,
     "start_time": "2025-07-28T10:13:10.755908",
     "status": "completed"
    },
    "tags": []
   },
   "source": [
    "The following cell holds the definition of our parameters, these values can be overriden by rendering the with e.g. the following command:\n",
    "\n",
    "papermill -p alpha 0.2 -p ratio 0.3 universe_analysis.ipynb output/test_run.ipynb"
   ]
  },
  {
   "cell_type": "code",
   "execution_count": 2,
   "id": "a80968a0-40bb-4fa9-85ef-2d5eefb01975",
   "metadata": {
    "execution": {
     "iopub.execute_input": "2025-07-28T10:13:10.805969Z",
     "iopub.status.busy": "2025-07-28T10:13:10.805534Z",
     "iopub.status.idle": "2025-07-28T10:13:10.810281Z",
     "shell.execute_reply": "2025-07-28T10:13:10.809210Z"
    },
    "papermill": {
     "duration": 0.018325,
     "end_time": "2025-07-28T10:13:10.811646",
     "exception": false,
     "start_time": "2025-07-28T10:13:10.793321",
     "status": "completed"
    },
    "tags": []
   },
   "outputs": [
    {
     "name": "stdout",
     "output_type": "stream",
     "text": [
      "Current working directory: /dss/dsshome1/0C/ra93lal2/cma/CMA_Fairness_v2\n"
     ]
    }
   ],
   "source": [
    "import os\n",
    "print(\"Current working directory:\", os.getcwd())"
   ]
  },
  {
   "cell_type": "code",
   "execution_count": 3,
   "id": "2dce4c03",
   "metadata": {
    "execution": {
     "iopub.execute_input": "2025-07-28T10:13:10.833521Z",
     "iopub.status.busy": "2025-07-28T10:13:10.833105Z",
     "iopub.status.idle": "2025-07-28T10:13:10.838607Z",
     "shell.execute_reply": "2025-07-28T10:13:10.837544Z"
    },
    "papermill": {
     "duration": 0.018842,
     "end_time": "2025-07-28T10:13:10.840617",
     "exception": false,
     "start_time": "2025-07-28T10:13:10.821775",
     "status": "completed"
    },
    "tags": [
     "parameters"
    ]
   },
   "outputs": [],
   "source": [
    "run_no = 0\n",
    "universe_id = \"test\"\n",
    "universe = {\n",
    "    \"training_size\": \"2014\", # \"25k\", \"5k\", \"1k\", \"2014\"\n",
    "    \"scale\": \"scale\", # \"scale\", \"do-not-scale\",\n",
    "    #\"stratify_split\": \"target\", # \"none\", \"target\", \"protected-attribute\", \"both\",\n",
    "    \"model\": \"elasticnet\", # \"logreg\", \"penalized_logreg\", \"rf\", \"gbm\", \"elasticnet\"\n",
    "    \"cutoff\": [\"quantile_0.15\", \"quantile_0.30\"],\n",
    "    \"exclude_features\": \"age\", # \"none\", \"nationality\", \"sex\", \"nationality-sex\", \"age\"\n",
    "    \"exclude_subgroups\": \"keep-all\", # \"keep-all\", \"drop-non-german\"\n",
    "    #\"training_sample\": \"restricted\", # \"restricted\", \"full\"\n",
    "    \"eval_fairness_grouping\": [\"majority-minority\", \"nationality-all\"]\n",
    "}\n",
    "\n",
    "output_dir=\"./output\"\n",
    "seed=0"
   ]
  },
  {
   "cell_type": "code",
   "execution_count": 4,
   "id": "fc76ba28",
   "metadata": {
    "execution": {
     "iopub.execute_input": "2025-07-28T10:13:10.882866Z",
     "iopub.status.busy": "2025-07-28T10:13:10.882464Z",
     "iopub.status.idle": "2025-07-28T10:13:10.887607Z",
     "shell.execute_reply": "2025-07-28T10:13:10.886734Z"
    },
    "papermill": {
     "duration": 0.028076,
     "end_time": "2025-07-28T10:13:10.889505",
     "exception": false,
     "start_time": "2025-07-28T10:13:10.861429",
     "status": "completed"
    },
    "tags": [
     "injected-parameters"
    ]
   },
   "outputs": [],
   "source": [
    "# Parameters\n",
    "universe_id = \"fc6b2f2459252f3cb80bb23effbba8b4\"\n",
    "run_no = \"11\"\n",
    "universe = \"{\\\"cutoff\\\": [\\\"quantile_0.1\\\", \\\"quantile_0.25\\\"], \\\"eval_fairness_grouping\\\": [\\\"majority-minority\\\", \\\"nationality-all\\\"], \\\"exclude_features\\\": \\\"age\\\", \\\"exclude_subgroups\\\": \\\"keep-all\\\", \\\"model\\\": \\\"rf\\\", \\\"scale\\\": \\\"scale\\\", \\\"training_size\\\": \\\"25k\\\"}\"\n",
    "output_dir = \"output\"\n",
    "seed = \"2023\"\n"
   ]
  },
  {
   "cell_type": "code",
   "execution_count": 5,
   "id": "1650acaf",
   "metadata": {
    "execution": {
     "iopub.execute_input": "2025-07-28T10:13:10.927040Z",
     "iopub.status.busy": "2025-07-28T10:13:10.926314Z",
     "iopub.status.idle": "2025-07-28T10:13:10.931158Z",
     "shell.execute_reply": "2025-07-28T10:13:10.930390Z"
    },
    "papermill": {
     "duration": 0.024957,
     "end_time": "2025-07-28T10:13:10.932726",
     "exception": false,
     "start_time": "2025-07-28T10:13:10.907769",
     "status": "completed"
    },
    "tags": []
   },
   "outputs": [],
   "source": [
    "import json\n",
    "# Parse universe into dict if it is passed as a string\n",
    "if isinstance(universe, str):\n",
    "    universe = json.loads(universe)"
   ]
  },
  {
   "cell_type": "code",
   "execution_count": 6,
   "id": "16620c48",
   "metadata": {
    "execution": {
     "iopub.execute_input": "2025-07-28T10:13:10.972919Z",
     "iopub.status.busy": "2025-07-28T10:13:10.971954Z",
     "iopub.status.idle": "2025-07-28T10:13:11.021394Z",
     "shell.execute_reply": "2025-07-28T10:13:11.020422Z"
    },
    "papermill": {
     "duration": 0.071095,
     "end_time": "2025-07-28T10:13:11.023298",
     "exception": false,
     "start_time": "2025-07-28T10:13:10.952203",
     "status": "completed"
    },
    "tags": []
   },
   "outputs": [],
   "source": [
    "# Auto-reload the custom package\n",
    "%load_ext autoreload\n",
    "%autoreload 1\n",
    "%aimport fairness_multiverse"
   ]
  },
  {
   "cell_type": "code",
   "execution_count": 7,
   "id": "01c5c9f3",
   "metadata": {
    "execution": {
     "iopub.execute_input": "2025-07-28T10:13:11.061689Z",
     "iopub.status.busy": "2025-07-28T10:13:11.061215Z",
     "iopub.status.idle": "2025-07-28T10:13:12.879039Z",
     "shell.execute_reply": "2025-07-28T10:13:12.878000Z"
    },
    "papermill": {
     "duration": 1.838979,
     "end_time": "2025-07-28T10:13:12.881044",
     "exception": false,
     "start_time": "2025-07-28T10:13:11.042065",
     "status": "completed"
    },
    "tags": []
   },
   "outputs": [],
   "source": [
    "from fairness_multiverse.universe import UniverseAnalysis\n",
    "\n",
    "universe_analysis = UniverseAnalysis(\n",
    "    run_no = run_no,\n",
    "    universe_id = universe_id,\n",
    "    universe = universe,\n",
    "    output_dir=output_dir,\n",
    ")"
   ]
  },
  {
   "cell_type": "code",
   "execution_count": 8,
   "id": "106241f5",
   "metadata": {
    "execution": {
     "iopub.execute_input": "2025-07-28T10:13:12.921670Z",
     "iopub.status.busy": "2025-07-28T10:13:12.920932Z",
     "iopub.status.idle": "2025-07-28T10:13:12.927904Z",
     "shell.execute_reply": "2025-07-28T10:13:12.926933Z"
    },
    "papermill": {
     "duration": 0.029599,
     "end_time": "2025-07-28T10:13:12.929696",
     "exception": false,
     "start_time": "2025-07-28T10:13:12.900097",
     "status": "completed"
    },
    "tags": []
   },
   "outputs": [
    {
     "name": "stdout",
     "output_type": "stream",
     "text": [
      "Using Seed: 2023\n"
     ]
    }
   ],
   "source": [
    "import numpy as np\n",
    "parsed_seed = int(seed)\n",
    "np.random.seed(parsed_seed)\n",
    "print(f\"Using Seed: {parsed_seed}\")"
   ]
  },
  {
   "cell_type": "markdown",
   "id": "e0ebdc57",
   "metadata": {
    "papermill": {
     "duration": 0.018268,
     "end_time": "2025-07-28T10:13:12.967285",
     "exception": false,
     "start_time": "2025-07-28T10:13:12.949017",
     "status": "completed"
    },
    "tags": []
   },
   "source": [
    "# Loading Data"
   ]
  },
  {
   "cell_type": "markdown",
   "id": "681925a3",
   "metadata": {
    "papermill": {
     "duration": 0.018229,
     "end_time": "2025-07-28T10:13:13.003917",
     "exception": false,
     "start_time": "2025-07-28T10:13:12.985688",
     "status": "completed"
    },
    "tags": []
   },
   "source": [
    "Load siab_train, siab_test, siab_calib and/or \n",
    "load siab_train_features, siab_train_labels"
   ]
  },
  {
   "cell_type": "code",
   "execution_count": 9,
   "id": "f0496b8a",
   "metadata": {
    "execution": {
     "iopub.execute_input": "2025-07-28T10:13:13.044200Z",
     "iopub.status.busy": "2025-07-28T10:13:13.043051Z",
     "iopub.status.idle": "2025-07-28T10:13:26.352672Z",
     "shell.execute_reply": "2025-07-28T10:13:26.351007Z"
    },
    "papermill": {
     "duration": 13.331898,
     "end_time": "2025-07-28T10:13:26.354390",
     "exception": false,
     "start_time": "2025-07-28T10:13:13.022492",
     "status": "completed"
    },
    "tags": []
   },
   "outputs": [
    {
     "name": "stdout",
     "output_type": "stream",
     "text": [
      "Loading SIAB data from cache: data/siab_cached.csv.gz\n"
     ]
    },
    {
     "name": "stdout",
     "output_type": "stream",
     "text": [
      "(643690, 164)\n"
     ]
    }
   ],
   "source": [
    "from pathlib import Path\n",
    "import pandas as pd\n",
    "\n",
    "# File paths\n",
    "raw_file = Path(\"data/raw/siab.csv\")\n",
    "cache_file = Path(\"data/siab_cached.csv.gz\")\n",
    "\n",
    "# Ensure cache directory exists\n",
    "cache_file.parent.mkdir(parents=True, exist_ok=True)\n",
    "\n",
    "# Load with simple caching\n",
    "if cache_file.exists():\n",
    "    print(f\"Loading SIAB data from cache: {cache_file}\")\n",
    "    siab = pd.read_csv(cache_file, compression='gzip')\n",
    "else:\n",
    "    print(f\"Cache not found. Reading raw SIAB data: {raw_file}\")\n",
    "    siab = pd.read_csv(raw_file)\n",
    "    siab.to_csv(cache_file, index=False, compression='gzip')\n",
    "    print(f\"Cached SIAB data to: {cache_file}\")\n",
    "\n",
    "# Now use `siab` DataFrame as needed\n",
    "print(siab.shape)"
   ]
  },
  {
   "cell_type": "code",
   "execution_count": 10,
   "id": "db0ca512-5f53-4dba-abdb-a2888bca41ba",
   "metadata": {
    "execution": {
     "iopub.execute_input": "2025-07-28T10:13:26.405340Z",
     "iopub.status.busy": "2025-07-28T10:13:26.404842Z",
     "iopub.status.idle": "2025-07-28T10:13:26.410198Z",
     "shell.execute_reply": "2025-07-28T10:13:26.409430Z"
    },
    "papermill": {
     "duration": 0.030065,
     "end_time": "2025-07-28T10:13:26.411630",
     "exception": false,
     "start_time": "2025-07-28T10:13:26.381565",
     "status": "completed"
    },
    "tags": []
   },
   "outputs": [],
   "source": [
    "#siab"
   ]
  },
  {
   "cell_type": "code",
   "execution_count": 11,
   "id": "a0edb063",
   "metadata": {
    "execution": {
     "iopub.execute_input": "2025-07-28T10:13:26.442158Z",
     "iopub.status.busy": "2025-07-28T10:13:26.441645Z",
     "iopub.status.idle": "2025-07-28T10:13:26.447071Z",
     "shell.execute_reply": "2025-07-28T10:13:26.446327Z"
    },
    "papermill": {
     "duration": 0.023493,
     "end_time": "2025-07-28T10:13:26.448477",
     "exception": false,
     "start_time": "2025-07-28T10:13:26.424984",
     "status": "completed"
    },
    "tags": []
   },
   "outputs": [],
   "source": [
    "#import pandas as pd\n",
    "#\n",
    "#X_train = pd.read_csv(\"./data/X_train.csv\")\n",
    "#y_train = pd.read_csv(\"./data/y_train.csv\")"
   ]
  },
  {
   "cell_type": "code",
   "execution_count": 12,
   "id": "63d08085",
   "metadata": {
    "execution": {
     "iopub.execute_input": "2025-07-28T10:13:26.475250Z",
     "iopub.status.busy": "2025-07-28T10:13:26.474843Z",
     "iopub.status.idle": "2025-07-28T10:13:26.479927Z",
     "shell.execute_reply": "2025-07-28T10:13:26.479114Z"
    },
    "papermill": {
     "duration": 0.019524,
     "end_time": "2025-07-28T10:13:26.482157",
     "exception": false,
     "start_time": "2025-07-28T10:13:26.462633",
     "status": "completed"
    },
    "tags": []
   },
   "outputs": [],
   "source": [
    "#X_test = pd.read_csv(\"./data/X_test.csv\")\n",
    "#y_true = pd.read_csv(\"./data/y_test.csv\")"
   ]
  },
  {
   "cell_type": "code",
   "execution_count": 13,
   "id": "98a8d0fa-1d3d-4ed8-bb2c-281470e24add",
   "metadata": {
    "execution": {
     "iopub.execute_input": "2025-07-28T10:13:26.538441Z",
     "iopub.status.busy": "2025-07-28T10:13:26.537886Z",
     "iopub.status.idle": "2025-07-28T10:13:26.544257Z",
     "shell.execute_reply": "2025-07-28T10:13:26.542932Z"
    },
    "papermill": {
     "duration": 0.037046,
     "end_time": "2025-07-28T10:13:26.546494",
     "exception": false,
     "start_time": "2025-07-28T10:13:26.509448",
     "status": "completed"
    },
    "tags": []
   },
   "outputs": [],
   "source": [
    "# Calibration data for conformal\n",
    "#X_calib = pd.read_csv(\"./data/X_calib.csv\")\n",
    "#y_calib = pd.read_csv(\"./data/y_calib.csv\")"
   ]
  },
  {
   "cell_type": "markdown",
   "id": "9901737e-04df-44f0-9100-f5ad144ed040",
   "metadata": {
    "papermill": {
     "duration": 0.010965,
     "end_time": "2025-07-28T10:13:26.583598",
     "exception": false,
     "start_time": "2025-07-28T10:13:26.572633",
     "status": "completed"
    },
    "tags": []
   },
   "source": [
    "# Splitting Data and Setting Training Data Size"
   ]
  },
  {
   "cell_type": "code",
   "execution_count": 14,
   "id": "acbc8f7d-8fc8-4e86-8c59-5dcb0f58384b",
   "metadata": {
    "execution": {
     "iopub.execute_input": "2025-07-28T10:13:26.607003Z",
     "iopub.status.busy": "2025-07-28T10:13:26.606619Z",
     "iopub.status.idle": "2025-07-28T10:13:26.613205Z",
     "shell.execute_reply": "2025-07-28T10:13:26.612290Z"
    },
    "papermill": {
     "duration": 0.019938,
     "end_time": "2025-07-28T10:13:26.614652",
     "exception": false,
     "start_time": "2025-07-28T10:13:26.594714",
     "status": "completed"
    },
    "tags": []
   },
   "outputs": [],
   "source": [
    "def sample_by_year(df, training_size, random_state=42):\n",
    "    if training_size == \"2014\":\n",
    "        return df[df[\"year\"] == 2014].reset_index(drop=True)\n",
    "    \n",
    "    size_map = {\n",
    "        \"25k\": 5000,\n",
    "        \"5k\": 1000,\n",
    "        \"1k\": 200\n",
    "    }\n",
    "\n",
    "    if training_size not in size_map:\n",
    "        return df.reset_index(drop=True)  # use all data\n",
    "\n",
    "    n_per_year = size_map[training_size]\n",
    "    grouped = df.groupby(\"year\")\n",
    "    sampled = grouped.apply(lambda x: x.sample(n=min(n_per_year, len(x)), random_state=random_state))\n",
    "    return sampled.reset_index(drop=True)"
   ]
  },
  {
   "cell_type": "code",
   "execution_count": 15,
   "id": "6d931f52-beaf-43ff-9e78-9d44a448d54e",
   "metadata": {
    "execution": {
     "iopub.execute_input": "2025-07-28T10:13:26.638926Z",
     "iopub.status.busy": "2025-07-28T10:13:26.638336Z",
     "iopub.status.idle": "2025-07-28T10:13:27.565652Z",
     "shell.execute_reply": "2025-07-28T10:13:27.564419Z"
    },
    "papermill": {
     "duration": 0.941416,
     "end_time": "2025-07-28T10:13:27.567703",
     "exception": false,
     "start_time": "2025-07-28T10:13:26.626287",
     "status": "completed"
    },
    "tags": []
   },
   "outputs": [],
   "source": [
    "siab_s = sample_by_year(siab, universe[\"training_size\"])"
   ]
  },
  {
   "cell_type": "code",
   "execution_count": 16,
   "id": "5db0a40e-a4e2-4920-be85-b12ae061d70d",
   "metadata": {
    "execution": {
     "iopub.execute_input": "2025-07-28T10:13:27.611249Z",
     "iopub.status.busy": "2025-07-28T10:13:27.610781Z",
     "iopub.status.idle": "2025-07-28T10:13:27.627782Z",
     "shell.execute_reply": "2025-07-28T10:13:27.626677Z"
    },
    "papermill": {
     "duration": 0.041248,
     "end_time": "2025-07-28T10:13:27.629702",
     "exception": false,
     "start_time": "2025-07-28T10:13:27.588454",
     "status": "completed"
    },
    "tags": []
   },
   "outputs": [
    {
     "data": {
      "text/plain": [
       "year\n",
       "2010    5000\n",
       "2011    5000\n",
       "2012    5000\n",
       "2013    5000\n",
       "2014    5000\n",
       "2015    5000\n",
       "2016    5000\n",
       "dtype: int64"
      ]
     },
     "metadata": {},
     "output_type": "display_data"
    }
   ],
   "source": [
    "display(siab_s.groupby(\"year\").size())"
   ]
  },
  {
   "cell_type": "code",
   "execution_count": 17,
   "id": "a561edb4-d032-42cb-8256-22eac1111c64",
   "metadata": {
    "execution": {
     "iopub.execute_input": "2025-07-28T10:13:27.676167Z",
     "iopub.status.busy": "2025-07-28T10:13:27.675515Z",
     "iopub.status.idle": "2025-07-28T10:13:28.041744Z",
     "shell.execute_reply": "2025-07-28T10:13:28.040504Z"
    },
    "papermill": {
     "duration": 0.392282,
     "end_time": "2025-07-28T10:13:28.044359",
     "exception": false,
     "start_time": "2025-07-28T10:13:27.652077",
     "status": "completed"
    },
    "tags": []
   },
   "outputs": [],
   "source": [
    "siab_train = siab_s[siab_s.year < 2015]\n",
    "siab_calib = siab[siab.year == 2015]\n",
    "siab_test = siab[siab.year == 2016]"
   ]
  },
  {
   "cell_type": "code",
   "execution_count": 18,
   "id": "472de16f-c3db-4916-846b-1f0de9cf1746",
   "metadata": {
    "execution": {
     "iopub.execute_input": "2025-07-28T10:13:28.105990Z",
     "iopub.status.busy": "2025-07-28T10:13:28.104978Z",
     "iopub.status.idle": "2025-07-28T10:13:28.122400Z",
     "shell.execute_reply": "2025-07-28T10:13:28.121181Z"
    },
    "papermill": {
     "duration": 0.051523,
     "end_time": "2025-07-28T10:13:28.125424",
     "exception": false,
     "start_time": "2025-07-28T10:13:28.073901",
     "status": "completed"
    },
    "tags": []
   },
   "outputs": [],
   "source": [
    "X_train = siab_train.iloc[:,4:164]\n",
    "y_train = siab_train.iloc[:, [3]]"
   ]
  },
  {
   "cell_type": "code",
   "execution_count": 19,
   "id": "828c96af-f43a-4ed6-ba47-8ac73a47d56c",
   "metadata": {
    "execution": {
     "iopub.execute_input": "2025-07-28T10:13:28.189618Z",
     "iopub.status.busy": "2025-07-28T10:13:28.188477Z",
     "iopub.status.idle": "2025-07-28T10:13:28.243526Z",
     "shell.execute_reply": "2025-07-28T10:13:28.242291Z"
    },
    "papermill": {
     "duration": 0.090633,
     "end_time": "2025-07-28T10:13:28.246480",
     "exception": false,
     "start_time": "2025-07-28T10:13:28.155847",
     "status": "completed"
    },
    "tags": []
   },
   "outputs": [],
   "source": [
    "X_calib = siab_calib.iloc[:,4:164]\n",
    "y_calib = siab_calib.iloc[:, [3]]"
   ]
  },
  {
   "cell_type": "code",
   "execution_count": 20,
   "id": "c34be9c3-6bd6-476e-acd3-845840e303be",
   "metadata": {
    "execution": {
     "iopub.execute_input": "2025-07-28T10:13:28.308664Z",
     "iopub.status.busy": "2025-07-28T10:13:28.308090Z",
     "iopub.status.idle": "2025-07-28T10:13:28.368650Z",
     "shell.execute_reply": "2025-07-28T10:13:28.367475Z"
    },
    "papermill": {
     "duration": 0.094147,
     "end_time": "2025-07-28T10:13:28.370739",
     "exception": false,
     "start_time": "2025-07-28T10:13:28.276592",
     "status": "completed"
    },
    "tags": []
   },
   "outputs": [],
   "source": [
    "X_test = siab_test.iloc[:,4:164]\n",
    "y_true = siab_test.iloc[:, [3]]"
   ]
  },
  {
   "cell_type": "code",
   "execution_count": 21,
   "id": "e6c733c5",
   "metadata": {
    "execution": {
     "iopub.execute_input": "2025-07-28T10:13:28.416177Z",
     "iopub.status.busy": "2025-07-28T10:13:28.415668Z",
     "iopub.status.idle": "2025-07-28T10:13:28.526098Z",
     "shell.execute_reply": "2025-07-28T10:13:28.524984Z"
    },
    "papermill": {
     "duration": 0.134629,
     "end_time": "2025-07-28T10:13:28.528207",
     "exception": false,
     "start_time": "2025-07-28T10:13:28.393578",
     "status": "completed"
    },
    "tags": []
   },
   "outputs": [],
   "source": [
    "# Auxiliary data needed downstream in the pipeline\n",
    "\n",
    "org_train = X_train.copy()\n",
    "org_test = X_test.copy()\n",
    "org_calib = X_calib.copy()"
   ]
  },
  {
   "cell_type": "markdown",
   "id": "0a4a1b33",
   "metadata": {
    "papermill": {
     "duration": 0.021106,
     "end_time": "2025-07-28T10:13:28.582221",
     "exception": false,
     "start_time": "2025-07-28T10:13:28.561115",
     "status": "completed"
    },
    "tags": []
   },
   "source": [
    "# Preprocessing Data"
   ]
  },
  {
   "cell_type": "code",
   "execution_count": 22,
   "id": "ca879031",
   "metadata": {
    "execution": {
     "iopub.execute_input": "2025-07-28T10:13:28.627212Z",
     "iopub.status.busy": "2025-07-28T10:13:28.626631Z",
     "iopub.status.idle": "2025-07-28T10:13:28.633251Z",
     "shell.execute_reply": "2025-07-28T10:13:28.632262Z"
    },
    "papermill": {
     "duration": 0.031202,
     "end_time": "2025-07-28T10:13:28.634992",
     "exception": false,
     "start_time": "2025-07-28T10:13:28.603790",
     "status": "completed"
    },
    "tags": []
   },
   "outputs": [],
   "source": [
    "# EXCLUDE PROTECTED FEATURES\n",
    "# ----------------------\n",
    "# \"exclude_features\": \"none\", # \"nationality\", \"sex\", \"nationality-sex\"\n",
    "\n",
    "excluded_features = universe[\"exclude_features\"].split(\"-\") # split, e.g.: \"nationality-sex\" -> [\"nationality\", \"sex\"]\n",
    "excluded_features_dictionary = {\n",
    "    \"nationality\": [\"maxdeutsch1\", \"maxdeutsch.Missing.\"],\n",
    "    \"sex\": [\"frau1\"],\n",
    "    \"age\": [\"age\"],\n",
    "}\n"
   ]
  },
  {
   "cell_type": "code",
   "execution_count": 23,
   "id": "b745ac60",
   "metadata": {
    "execution": {
     "iopub.execute_input": "2025-07-28T10:13:28.681349Z",
     "iopub.status.busy": "2025-07-28T10:13:28.680775Z",
     "iopub.status.idle": "2025-07-28T10:13:28.686857Z",
     "shell.execute_reply": "2025-07-28T10:13:28.685821Z"
    },
    "papermill": {
     "duration": 0.03118,
     "end_time": "2025-07-28T10:13:28.688902",
     "exception": false,
     "start_time": "2025-07-28T10:13:28.657722",
     "status": "completed"
    },
    "tags": []
   },
   "outputs": [],
   "source": [
    "# Code nice names to column names\n",
    "\n",
    "excluded_features_columns = [\n",
    "    excluded_features_dictionary[f] for f in excluded_features if len(f) > 0 and f != \"none\"\n",
    "]"
   ]
  },
  {
   "cell_type": "code",
   "execution_count": 24,
   "id": "f84f73a2",
   "metadata": {
    "execution": {
     "iopub.execute_input": "2025-07-28T10:13:28.735963Z",
     "iopub.status.busy": "2025-07-28T10:13:28.735266Z",
     "iopub.status.idle": "2025-07-28T10:13:28.742113Z",
     "shell.execute_reply": "2025-07-28T10:13:28.741073Z"
    },
    "papermill": {
     "duration": 0.032968,
     "end_time": "2025-07-28T10:13:28.744059",
     "exception": false,
     "start_time": "2025-07-28T10:13:28.711091",
     "status": "completed"
    },
    "tags": []
   },
   "outputs": [],
   "source": [
    "from utils import flatten_once\n",
    "\n",
    "excluded_features_columns = flatten_once(excluded_features_columns)"
   ]
  },
  {
   "cell_type": "code",
   "execution_count": 25,
   "id": "884dea22",
   "metadata": {
    "execution": {
     "iopub.execute_input": "2025-07-28T10:13:28.789966Z",
     "iopub.status.busy": "2025-07-28T10:13:28.789335Z",
     "iopub.status.idle": "2025-07-28T10:13:28.806209Z",
     "shell.execute_reply": "2025-07-28T10:13:28.805053Z"
    },
    "papermill": {
     "duration": 0.042054,
     "end_time": "2025-07-28T10:13:28.807873",
     "exception": false,
     "start_time": "2025-07-28T10:13:28.765819",
     "status": "completed"
    },
    "tags": []
   },
   "outputs": [
    {
     "name": "stdout",
     "output_type": "stream",
     "text": [
      "Dropping features: ['age']\n"
     ]
    }
   ],
   "source": [
    "if len(excluded_features_columns) > 0:\n",
    "    print(f\"Dropping features: {excluded_features_columns}\")\n",
    "    X_train.drop(excluded_features_columns, axis=1, inplace=True)"
   ]
  },
  {
   "cell_type": "code",
   "execution_count": 26,
   "id": "95ab8b16",
   "metadata": {
    "execution": {
     "iopub.execute_input": "2025-07-28T10:13:28.854490Z",
     "iopub.status.busy": "2025-07-28T10:13:28.853437Z",
     "iopub.status.idle": "2025-07-28T10:13:28.915038Z",
     "shell.execute_reply": "2025-07-28T10:13:28.913398Z"
    },
    "papermill": {
     "duration": 0.086774,
     "end_time": "2025-07-28T10:13:28.916924",
     "exception": false,
     "start_time": "2025-07-28T10:13:28.830150",
     "status": "completed"
    },
    "tags": []
   },
   "outputs": [
    {
     "name": "stdout",
     "output_type": "stream",
     "text": [
      "Dropping features: ['age']\n"
     ]
    }
   ],
   "source": [
    "if len(excluded_features_columns) > 0:\n",
    "    print(f\"Dropping features: {excluded_features_columns}\")\n",
    "    X_test.drop(excluded_features_columns, axis=1, inplace=True)"
   ]
  },
  {
   "cell_type": "code",
   "execution_count": 27,
   "id": "1853aaf5-fb9f-46cb-a2b5-8ea4ae2237e4",
   "metadata": {
    "execution": {
     "iopub.execute_input": "2025-07-28T10:13:28.962685Z",
     "iopub.status.busy": "2025-07-28T10:13:28.962212Z",
     "iopub.status.idle": "2025-07-28T10:13:29.020263Z",
     "shell.execute_reply": "2025-07-28T10:13:29.019502Z"
    },
    "papermill": {
     "duration": 0.082764,
     "end_time": "2025-07-28T10:13:29.021997",
     "exception": false,
     "start_time": "2025-07-28T10:13:28.939233",
     "status": "completed"
    },
    "tags": []
   },
   "outputs": [
    {
     "name": "stdout",
     "output_type": "stream",
     "text": [
      "Dropping features: ['age']\n"
     ]
    }
   ],
   "source": [
    "if len(excluded_features_columns) > 0:\n",
    "    print(f\"Dropping features: {excluded_features_columns}\")\n",
    "    X_calib.drop(excluded_features_columns, axis=1, inplace=True)"
   ]
  },
  {
   "cell_type": "code",
   "execution_count": 28,
   "id": "6727d079-03e5-481e-9d38-292a90b7a0a8",
   "metadata": {
    "execution": {
     "iopub.execute_input": "2025-07-28T10:13:29.047310Z",
     "iopub.status.busy": "2025-07-28T10:13:29.046738Z",
     "iopub.status.idle": "2025-07-28T10:13:29.051718Z",
     "shell.execute_reply": "2025-07-28T10:13:29.050899Z"
    },
    "papermill": {
     "duration": 0.018914,
     "end_time": "2025-07-28T10:13:29.053185",
     "exception": false,
     "start_time": "2025-07-28T10:13:29.034271",
     "status": "completed"
    },
    "tags": []
   },
   "outputs": [],
   "source": [
    "# SPLIT & STRATIFY DATA\n",
    "# ----------------------"
   ]
  },
  {
   "cell_type": "code",
   "execution_count": 29,
   "id": "76c4dc6d",
   "metadata": {
    "execution": {
     "iopub.execute_input": "2025-07-28T10:13:29.083116Z",
     "iopub.status.busy": "2025-07-28T10:13:29.082478Z",
     "iopub.status.idle": "2025-07-28T10:13:29.087552Z",
     "shell.execute_reply": "2025-07-28T10:13:29.086859Z"
    },
    "papermill": {
     "duration": 0.023562,
     "end_time": "2025-07-28T10:13:29.088905",
     "exception": false,
     "start_time": "2025-07-28T10:13:29.065343",
     "status": "completed"
    },
    "tags": []
   },
   "outputs": [],
   "source": [
    "# EXCLUDE CERTAIN SUBGROUPS\n",
    "# ----------------------\n",
    "\n",
    "mode = universe.get(\"exclude_subgroups\", \"keep-all\") \n",
    "# Fetches the exclude_subgroups setting from the universe dict.\n",
    "# Defaults to \"keep-all\" if the key is missing."
   ]
  },
  {
   "cell_type": "code",
   "execution_count": 30,
   "id": "21994072",
   "metadata": {
    "execution": {
     "iopub.execute_input": "2025-07-28T10:13:29.113219Z",
     "iopub.status.busy": "2025-07-28T10:13:29.112515Z",
     "iopub.status.idle": "2025-07-28T10:13:29.118504Z",
     "shell.execute_reply": "2025-07-28T10:13:29.117764Z"
    },
    "papermill": {
     "duration": 0.019535,
     "end_time": "2025-07-28T10:13:29.120140",
     "exception": false,
     "start_time": "2025-07-28T10:13:29.100605",
     "status": "completed"
    },
    "tags": []
   },
   "outputs": [],
   "source": [
    "if mode == \"keep-all\":\n",
    "    keep_mask = pd.Series(True, index=org_train.index)\n",
    "\n",
    "# org_train contains the original feature columns from features_org (in Simson)\n",
    "# features_org contains unprocessed features, for me X_train at beginning ???\n",
    "# For keep-all, creates a boolean Series (keep_mask) of all True, so no rows are removed.\n",
    "\n",
    "elif mode == \"drop-non-german\":\n",
    "    keep_mask = org_train[\"maxdeutsch1\"] == 1 # ??? what about missing values?\n",
    "\n",
    "else:\n",
    "    raise ValueError(f\"Unsupported mode for exclude_subgroups: {mode}\")\n"
   ]
  },
  {
   "cell_type": "code",
   "execution_count": 31,
   "id": "71651440",
   "metadata": {
    "execution": {
     "iopub.execute_input": "2025-07-28T10:13:29.168359Z",
     "iopub.status.busy": "2025-07-28T10:13:29.167791Z",
     "iopub.status.idle": "2025-07-28T10:13:29.174610Z",
     "shell.execute_reply": "2025-07-28T10:13:29.173836Z"
    },
    "papermill": {
     "duration": 0.032336,
     "end_time": "2025-07-28T10:13:29.176102",
     "exception": false,
     "start_time": "2025-07-28T10:13:29.143766",
     "status": "completed"
    },
    "tags": []
   },
   "outputs": [],
   "source": [
    "n_drop = (~keep_mask).sum() # Calculates how many rows are set to be dropped\n",
    "if n_drop > 0:\n",
    "    pct = n_drop / len(keep_mask) * 100\n",
    "    print(f\"Dropping {n_drop} rows ({pct:.2f}%) where mode='{mode}'\")"
   ]
  },
  {
   "cell_type": "code",
   "execution_count": 32,
   "id": "5fb8eee5",
   "metadata": {
    "execution": {
     "iopub.execute_input": "2025-07-28T10:13:29.222052Z",
     "iopub.status.busy": "2025-07-28T10:13:29.221587Z",
     "iopub.status.idle": "2025-07-28T10:13:29.237638Z",
     "shell.execute_reply": "2025-07-28T10:13:29.235370Z"
    },
    "papermill": {
     "duration": 0.041156,
     "end_time": "2025-07-28T10:13:29.239282",
     "exception": false,
     "start_time": "2025-07-28T10:13:29.198126",
     "status": "completed"
    },
    "tags": []
   },
   "outputs": [],
   "source": [
    "X_train = X_train[keep_mask]"
   ]
  },
  {
   "cell_type": "code",
   "execution_count": 33,
   "id": "b202bb3a",
   "metadata": {
    "execution": {
     "iopub.execute_input": "2025-07-28T10:13:29.303851Z",
     "iopub.status.busy": "2025-07-28T10:13:29.303046Z",
     "iopub.status.idle": "2025-07-28T10:13:29.311156Z",
     "shell.execute_reply": "2025-07-28T10:13:29.309964Z"
    },
    "papermill": {
     "duration": 0.043377,
     "end_time": "2025-07-28T10:13:29.313846",
     "exception": false,
     "start_time": "2025-07-28T10:13:29.270469",
     "status": "completed"
    },
    "tags": []
   },
   "outputs": [],
   "source": [
    "y_train = y_train[keep_mask]"
   ]
  },
  {
   "cell_type": "markdown",
   "id": "493e2ac3",
   "metadata": {
    "papermill": {
     "duration": 0.022879,
     "end_time": "2025-07-28T10:13:29.365239",
     "exception": false,
     "start_time": "2025-07-28T10:13:29.342360",
     "status": "completed"
    },
    "tags": []
   },
   "source": [
    "# Model Training"
   ]
  },
  {
   "cell_type": "code",
   "execution_count": 34,
   "id": "679e1268",
   "metadata": {
    "execution": {
     "iopub.execute_input": "2025-07-28T10:13:29.412079Z",
     "iopub.status.busy": "2025-07-28T10:13:29.411086Z",
     "iopub.status.idle": "2025-07-28T10:13:29.523208Z",
     "shell.execute_reply": "2025-07-28T10:13:29.522139Z"
    },
    "papermill": {
     "duration": 0.137695,
     "end_time": "2025-07-28T10:13:29.525275",
     "exception": false,
     "start_time": "2025-07-28T10:13:29.387580",
     "status": "completed"
    },
    "tags": []
   },
   "outputs": [],
   "source": [
    "from sklearn.linear_model import LogisticRegression\n",
    "from sklearn.ensemble import GradientBoostingClassifier, RandomForestClassifier\n",
    "\n",
    "if (universe[\"model\"] == \"logreg\"):\n",
    "    model = LogisticRegression() #penalty=\"none\") #, solver=\"newton-cg\", max_iter=1) # include random_state=19 ?\n",
    "elif (universe[\"model\"] == \"penalized_logreg\"):\n",
    "    model = LogisticRegression(penalty=\"l2\", C=1.0) #, solver=\"newton-cg\", max_iter=1)\n",
    "elif (universe[\"model\"] == \"rf\"):\n",
    "    model = RandomForestClassifier(n_estimators=100, n_jobs=-1)\n",
    "elif (universe[\"model\"] == \"gbm\"):\n",
    "    model = GradientBoostingClassifier()\n",
    "elif (universe[\"model\"] == \"elasticnet\"):\n",
    "    model = LogisticRegression(penalty = 'elasticnet', solver = 'saga', l1_ratio = 0.5, max_iter=5000) # which solver to use?\n",
    "else:\n",
    "    raise \"Unsupported universe.model\""
   ]
  },
  {
   "cell_type": "code",
   "execution_count": 35,
   "id": "0cc8f744",
   "metadata": {
    "execution": {
     "iopub.execute_input": "2025-07-28T10:13:29.573128Z",
     "iopub.status.busy": "2025-07-28T10:13:29.572651Z",
     "iopub.status.idle": "2025-07-28T10:13:29.579553Z",
     "shell.execute_reply": "2025-07-28T10:13:29.578469Z"
    },
    "papermill": {
     "duration": 0.032904,
     "end_time": "2025-07-28T10:13:29.581663",
     "exception": false,
     "start_time": "2025-07-28T10:13:29.548759",
     "status": "completed"
    },
    "tags": []
   },
   "outputs": [],
   "source": [
    "import numpy as np\n",
    "from sklearn.pipeline import Pipeline\n",
    "from sklearn.preprocessing import StandardScaler\n",
    "\n",
    "model = Pipeline([\n",
    "    #(\"continuous_processor\", continuous_processor),\n",
    "    #(\"categorical_preprocessor\", categorical_preprocessor),\n",
    "    (\"scale\", StandardScaler() if universe[\"scale\"] == \"scale\" else None), \n",
    "    (\"model\", model),\n",
    "])"
   ]
  },
  {
   "cell_type": "code",
   "execution_count": 36,
   "id": "9442c04d",
   "metadata": {
    "execution": {
     "iopub.execute_input": "2025-07-28T10:13:29.630434Z",
     "iopub.status.busy": "2025-07-28T10:13:29.629872Z",
     "iopub.status.idle": "2025-07-28T10:13:33.804393Z",
     "shell.execute_reply": "2025-07-28T10:13:33.803188Z"
    },
    "papermill": {
     "duration": 4.200605,
     "end_time": "2025-07-28T10:13:33.806240",
     "exception": false,
     "start_time": "2025-07-28T10:13:29.605635",
     "status": "completed"
    },
    "tags": []
   },
   "outputs": [
    {
     "data": {
      "text/html": [
       "<style>#sk-container-id-1 {color: black;background-color: white;}#sk-container-id-1 pre{padding: 0;}#sk-container-id-1 div.sk-toggleable {background-color: white;}#sk-container-id-1 label.sk-toggleable__label {cursor: pointer;display: block;width: 100%;margin-bottom: 0;padding: 0.3em;box-sizing: border-box;text-align: center;}#sk-container-id-1 label.sk-toggleable__label-arrow:before {content: \"▸\";float: left;margin-right: 0.25em;color: #696969;}#sk-container-id-1 label.sk-toggleable__label-arrow:hover:before {color: black;}#sk-container-id-1 div.sk-estimator:hover label.sk-toggleable__label-arrow:before {color: black;}#sk-container-id-1 div.sk-toggleable__content {max-height: 0;max-width: 0;overflow: hidden;text-align: left;background-color: #f0f8ff;}#sk-container-id-1 div.sk-toggleable__content pre {margin: 0.2em;color: black;border-radius: 0.25em;background-color: #f0f8ff;}#sk-container-id-1 input.sk-toggleable__control:checked~div.sk-toggleable__content {max-height: 200px;max-width: 100%;overflow: auto;}#sk-container-id-1 input.sk-toggleable__control:checked~label.sk-toggleable__label-arrow:before {content: \"▾\";}#sk-container-id-1 div.sk-estimator input.sk-toggleable__control:checked~label.sk-toggleable__label {background-color: #d4ebff;}#sk-container-id-1 div.sk-label input.sk-toggleable__control:checked~label.sk-toggleable__label {background-color: #d4ebff;}#sk-container-id-1 input.sk-hidden--visually {border: 0;clip: rect(1px 1px 1px 1px);clip: rect(1px, 1px, 1px, 1px);height: 1px;margin: -1px;overflow: hidden;padding: 0;position: absolute;width: 1px;}#sk-container-id-1 div.sk-estimator {font-family: monospace;background-color: #f0f8ff;border: 1px dotted black;border-radius: 0.25em;box-sizing: border-box;margin-bottom: 0.5em;}#sk-container-id-1 div.sk-estimator:hover {background-color: #d4ebff;}#sk-container-id-1 div.sk-parallel-item::after {content: \"\";width: 100%;border-bottom: 1px solid gray;flex-grow: 1;}#sk-container-id-1 div.sk-label:hover label.sk-toggleable__label {background-color: #d4ebff;}#sk-container-id-1 div.sk-serial::before {content: \"\";position: absolute;border-left: 1px solid gray;box-sizing: border-box;top: 0;bottom: 0;left: 50%;z-index: 0;}#sk-container-id-1 div.sk-serial {display: flex;flex-direction: column;align-items: center;background-color: white;padding-right: 0.2em;padding-left: 0.2em;position: relative;}#sk-container-id-1 div.sk-item {position: relative;z-index: 1;}#sk-container-id-1 div.sk-parallel {display: flex;align-items: stretch;justify-content: center;background-color: white;position: relative;}#sk-container-id-1 div.sk-item::before, #sk-container-id-1 div.sk-parallel-item::before {content: \"\";position: absolute;border-left: 1px solid gray;box-sizing: border-box;top: 0;bottom: 0;left: 50%;z-index: -1;}#sk-container-id-1 div.sk-parallel-item {display: flex;flex-direction: column;z-index: 1;position: relative;background-color: white;}#sk-container-id-1 div.sk-parallel-item:first-child::after {align-self: flex-end;width: 50%;}#sk-container-id-1 div.sk-parallel-item:last-child::after {align-self: flex-start;width: 50%;}#sk-container-id-1 div.sk-parallel-item:only-child::after {width: 0;}#sk-container-id-1 div.sk-dashed-wrapped {border: 1px dashed gray;margin: 0 0.4em 0.5em 0.4em;box-sizing: border-box;padding-bottom: 0.4em;background-color: white;}#sk-container-id-1 div.sk-label label {font-family: monospace;font-weight: bold;display: inline-block;line-height: 1.2em;}#sk-container-id-1 div.sk-label-container {text-align: center;}#sk-container-id-1 div.sk-container {/* jupyter's `normalize.less` sets `[hidden] { display: none; }` but bootstrap.min.css set `[hidden] { display: none !important; }` so we also need the `!important` here to be able to override the default hidden behavior on the sphinx rendered scikit-learn.org. See: https://github.com/scikit-learn/scikit-learn/issues/21755 */display: inline-block !important;position: relative;}#sk-container-id-1 div.sk-text-repr-fallback {display: none;}</style><div id=\"sk-container-id-1\" class=\"sk-top-container\"><div class=\"sk-text-repr-fallback\"><pre>Pipeline(steps=[(&#x27;scale&#x27;, StandardScaler()),\n",
       "                (&#x27;model&#x27;, RandomForestClassifier(n_jobs=-1))])</pre><b>In a Jupyter environment, please rerun this cell to show the HTML representation or trust the notebook. <br />On GitHub, the HTML representation is unable to render, please try loading this page with nbviewer.org.</b></div><div class=\"sk-container\" hidden><div class=\"sk-item sk-dashed-wrapped\"><div class=\"sk-label-container\"><div class=\"sk-label sk-toggleable\"><input class=\"sk-toggleable__control sk-hidden--visually\" id=\"sk-estimator-id-1\" type=\"checkbox\" ><label for=\"sk-estimator-id-1\" class=\"sk-toggleable__label sk-toggleable__label-arrow\">Pipeline</label><div class=\"sk-toggleable__content\"><pre>Pipeline(steps=[(&#x27;scale&#x27;, StandardScaler()),\n",
       "                (&#x27;model&#x27;, RandomForestClassifier(n_jobs=-1))])</pre></div></div></div><div class=\"sk-serial\"><div class=\"sk-item\"><div class=\"sk-estimator sk-toggleable\"><input class=\"sk-toggleable__control sk-hidden--visually\" id=\"sk-estimator-id-2\" type=\"checkbox\" ><label for=\"sk-estimator-id-2\" class=\"sk-toggleable__label sk-toggleable__label-arrow\">StandardScaler</label><div class=\"sk-toggleable__content\"><pre>StandardScaler()</pre></div></div></div><div class=\"sk-item\"><div class=\"sk-estimator sk-toggleable\"><input class=\"sk-toggleable__control sk-hidden--visually\" id=\"sk-estimator-id-3\" type=\"checkbox\" ><label for=\"sk-estimator-id-3\" class=\"sk-toggleable__label sk-toggleable__label-arrow\">RandomForestClassifier</label><div class=\"sk-toggleable__content\"><pre>RandomForestClassifier(n_jobs=-1)</pre></div></div></div></div></div></div></div>"
      ],
      "text/plain": [
       "Pipeline(steps=[('scale', StandardScaler()),\n",
       "                ('model', RandomForestClassifier(n_jobs=-1))])"
      ]
     },
     "execution_count": 36,
     "metadata": {},
     "output_type": "execute_result"
    }
   ],
   "source": [
    "model.fit(X_train, y_train.values.ravel())"
   ]
  },
  {
   "cell_type": "code",
   "execution_count": 37,
   "id": "af59f8c0",
   "metadata": {
    "execution": {
     "iopub.execute_input": "2025-07-28T10:13:33.859217Z",
     "iopub.status.busy": "2025-07-28T10:13:33.858775Z",
     "iopub.status.idle": "2025-07-28T10:13:33.865108Z",
     "shell.execute_reply": "2025-07-28T10:13:33.863998Z"
    },
    "papermill": {
     "duration": 0.038477,
     "end_time": "2025-07-28T10:13:33.868778",
     "exception": false,
     "start_time": "2025-07-28T10:13:33.830301",
     "status": "completed"
    },
    "tags": []
   },
   "outputs": [],
   "source": [
    "from fairness_multiverse.universe import predict_w_threshold"
   ]
  },
  {
   "cell_type": "code",
   "execution_count": 38,
   "id": "a7cf2e16",
   "metadata": {
    "execution": {
     "iopub.execute_input": "2025-07-28T10:13:33.918961Z",
     "iopub.status.busy": "2025-07-28T10:13:33.918545Z",
     "iopub.status.idle": "2025-07-28T10:13:35.439858Z",
     "shell.execute_reply": "2025-07-28T10:13:35.438934Z"
    },
    "papermill": {
     "duration": 1.547707,
     "end_time": "2025-07-28T10:13:35.441213",
     "exception": false,
     "start_time": "2025-07-28T10:13:33.893506",
     "status": "completed"
    },
    "tags": []
   },
   "outputs": [
    {
     "data": {
      "text/plain": [
       "0.8677293501281909"
      ]
     },
     "execution_count": 38,
     "metadata": {},
     "output_type": "execute_result"
    }
   ],
   "source": [
    "probs_test = model.predict_proba(X_test)\n",
    "\n",
    "'''\n",
    "Below code returns a boolean array (or binary 0/1 array depending on how it’s used) where each element \n",
    "is True if the probability of class 1 is greater than or equal to the threshold, and False otherwise.\n",
    "'''\n",
    "y_pred_default = predict_w_threshold(probs_test, 0.5)\n",
    "\n",
    "from sklearn.metrics import accuracy_score\n",
    "\n",
    "# Naive prediction\n",
    "accuracy_score(y_true = y_true, y_pred = y_pred_default)"
   ]
  },
  {
   "cell_type": "code",
   "execution_count": 39,
   "id": "081964c3",
   "metadata": {
    "execution": {
     "iopub.execute_input": "2025-07-28T10:13:35.470171Z",
     "iopub.status.busy": "2025-07-28T10:13:35.469633Z",
     "iopub.status.idle": "2025-07-28T10:13:37.066462Z",
     "shell.execute_reply": "2025-07-28T10:13:37.065282Z"
    },
    "papermill": {
     "duration": 1.612984,
     "end_time": "2025-07-28T10:13:37.068969",
     "exception": false,
     "start_time": "2025-07-28T10:13:35.455985",
     "status": "completed"
    },
    "tags": []
   },
   "outputs": [
    {
     "data": {
      "text/plain": [
       "array([0, 0, 0, ..., 0, 0, 0])"
      ]
     },
     "execution_count": 39,
     "metadata": {},
     "output_type": "execute_result"
    }
   ],
   "source": [
    "model.predict(X_test)"
   ]
  },
  {
   "cell_type": "markdown",
   "id": "56c9705b",
   "metadata": {
    "papermill": {
     "duration": 0.031368,
     "end_time": "2025-07-28T10:13:37.131249",
     "exception": false,
     "start_time": "2025-07-28T10:13:37.099881",
     "status": "completed"
    },
    "tags": []
   },
   "source": [
    "# Conformal Prediction"
   ]
  },
  {
   "cell_type": "code",
   "execution_count": 40,
   "id": "160ec6ff",
   "metadata": {
    "execution": {
     "iopub.execute_input": "2025-07-28T10:13:37.196420Z",
     "iopub.status.busy": "2025-07-28T10:13:37.195736Z",
     "iopub.status.idle": "2025-07-28T10:13:37.202523Z",
     "shell.execute_reply": "2025-07-28T10:13:37.201353Z"
    },
    "papermill": {
     "duration": 0.044142,
     "end_time": "2025-07-28T10:13:37.206644",
     "exception": false,
     "start_time": "2025-07-28T10:13:37.162502",
     "status": "completed"
    },
    "tags": []
   },
   "outputs": [],
   "source": [
    "# Miscoverage level for conformal prediction (10% allowed error rate => 90% target coverage)\n",
    "alpha = 0.1"
   ]
  },
  {
   "cell_type": "code",
   "execution_count": 41,
   "id": "eadf4555-3dd3-440e-8e35-f82a4ad9f855",
   "metadata": {
    "execution": {
     "iopub.execute_input": "2025-07-28T10:13:37.261385Z",
     "iopub.status.busy": "2025-07-28T10:13:37.260916Z",
     "iopub.status.idle": "2025-07-28T10:13:38.727468Z",
     "shell.execute_reply": "2025-07-28T10:13:38.726407Z"
    },
    "papermill": {
     "duration": 1.493395,
     "end_time": "2025-07-28T10:13:38.729214",
     "exception": false,
     "start_time": "2025-07-28T10:13:37.235819",
     "status": "completed"
    },
    "tags": []
   },
   "outputs": [],
   "source": [
    "probs_calib = model.predict_proba(X_calib)"
   ]
  },
  {
   "cell_type": "code",
   "execution_count": 42,
   "id": "2ed93547-6d5d-4983-9b36-1ecb300da49a",
   "metadata": {
    "execution": {
     "iopub.execute_input": "2025-07-28T10:13:38.778980Z",
     "iopub.status.busy": "2025-07-28T10:13:38.778221Z",
     "iopub.status.idle": "2025-07-28T10:13:38.784445Z",
     "shell.execute_reply": "2025-07-28T10:13:38.783467Z"
    },
    "papermill": {
     "duration": 0.033028,
     "end_time": "2025-07-28T10:13:38.786087",
     "exception": false,
     "start_time": "2025-07-28T10:13:38.753059",
     "status": "completed"
    },
    "tags": []
   },
   "outputs": [],
   "source": [
    "y_calib = y_calib.values.ravel().astype(int)"
   ]
  },
  {
   "cell_type": "code",
   "execution_count": 43,
   "id": "65d1320d-f588-4b38-9072-62af1ae97f7d",
   "metadata": {
    "execution": {
     "iopub.execute_input": "2025-07-28T10:13:38.836014Z",
     "iopub.status.busy": "2025-07-28T10:13:38.835059Z",
     "iopub.status.idle": "2025-07-28T10:13:38.843208Z",
     "shell.execute_reply": "2025-07-28T10:13:38.842199Z"
    },
    "papermill": {
     "duration": 0.035341,
     "end_time": "2025-07-28T10:13:38.845109",
     "exception": false,
     "start_time": "2025-07-28T10:13:38.809768",
     "status": "completed"
    },
    "tags": []
   },
   "outputs": [],
   "source": [
    "from fairness_multiverse.conformal import compute_nc_scores\n",
    "\n",
    "# Compute nonconformity scores on calibration set (1 - probability of true class)\n",
    "nc_scores = compute_nc_scores(probs_calib, y_calib)"
   ]
  },
  {
   "cell_type": "code",
   "execution_count": 44,
   "id": "df3b8ca3-53b7-43d5-9667-7c85da7aeda2",
   "metadata": {
    "execution": {
     "iopub.execute_input": "2025-07-28T10:13:38.926599Z",
     "iopub.status.busy": "2025-07-28T10:13:38.926177Z",
     "iopub.status.idle": "2025-07-28T10:13:38.933530Z",
     "shell.execute_reply": "2025-07-28T10:13:38.932588Z"
    },
    "papermill": {
     "duration": 0.065611,
     "end_time": "2025-07-28T10:13:38.935175",
     "exception": false,
     "start_time": "2025-07-28T10:13:38.869564",
     "status": "completed"
    },
    "tags": []
   },
   "outputs": [],
   "source": [
    "from fairness_multiverse.conformal import find_threshold\n",
    "\n",
    "# Find conformal threshold q_hat for the given alpha (split conformal method)\n",
    "q_hat = find_threshold(nc_scores, alpha)"
   ]
  },
  {
   "cell_type": "code",
   "execution_count": 45,
   "id": "4d29e6c1-0ef6-4aa4-b8fe-4fe79b0d033a",
   "metadata": {
    "execution": {
     "iopub.execute_input": "2025-07-28T10:13:39.008572Z",
     "iopub.status.busy": "2025-07-28T10:13:39.008130Z",
     "iopub.status.idle": "2025-07-28T10:13:39.020271Z",
     "shell.execute_reply": "2025-07-28T10:13:39.015059Z"
    },
    "papermill": {
     "duration": 0.052532,
     "end_time": "2025-07-28T10:13:39.037424",
     "exception": false,
     "start_time": "2025-07-28T10:13:38.984892",
     "status": "completed"
    },
    "tags": []
   },
   "outputs": [
    {
     "data": {
      "text/plain": [
       "0.6599999999999999"
      ]
     },
     "execution_count": 45,
     "metadata": {},
     "output_type": "execute_result"
    }
   ],
   "source": [
    "q_hat"
   ]
  },
  {
   "cell_type": "code",
   "execution_count": 46,
   "id": "92460794-cdac-4be2-ba28-f28c0515a6fb",
   "metadata": {
    "execution": {
     "iopub.execute_input": "2025-07-28T10:13:39.183679Z",
     "iopub.status.busy": "2025-07-28T10:13:39.183241Z",
     "iopub.status.idle": "2025-07-28T10:13:41.403109Z",
     "shell.execute_reply": "2025-07-28T10:13:41.401985Z"
    },
    "papermill": {
     "duration": 2.324223,
     "end_time": "2025-07-28T10:13:41.405111",
     "exception": false,
     "start_time": "2025-07-28T10:13:39.080888",
     "status": "completed"
    },
    "tags": []
   },
   "outputs": [],
   "source": [
    "from fairness_multiverse.conformal import predict_conformal_sets\n",
    "\n",
    "# Generate prediction sets for each test example\n",
    "pred_sets = predict_conformal_sets(model, X_test, q_hat)"
   ]
  },
  {
   "cell_type": "code",
   "execution_count": 47,
   "id": "d90c9a65-e6db-4f5d-80cd-e68fb7e46829",
   "metadata": {
    "execution": {
     "iopub.execute_input": "2025-07-28T10:13:41.526481Z",
     "iopub.status.busy": "2025-07-28T10:13:41.525990Z",
     "iopub.status.idle": "2025-07-28T10:13:41.537272Z",
     "shell.execute_reply": "2025-07-28T10:13:41.535973Z"
    },
    "papermill": {
     "duration": 0.076264,
     "end_time": "2025-07-28T10:13:41.540589",
     "exception": false,
     "start_time": "2025-07-28T10:13:41.464325",
     "status": "completed"
    },
    "tags": []
   },
   "outputs": [],
   "source": [
    "y_true = y_true.squeeze()"
   ]
  },
  {
   "cell_type": "code",
   "execution_count": 48,
   "id": "3a58a54a-1e68-46b9-927a-df01f18aebc8",
   "metadata": {
    "execution": {
     "iopub.execute_input": "2025-07-28T10:13:41.657601Z",
     "iopub.status.busy": "2025-07-28T10:13:41.657119Z",
     "iopub.status.idle": "2025-07-28T10:13:42.680147Z",
     "shell.execute_reply": "2025-07-28T10:13:42.679359Z"
    },
    "papermill": {
     "duration": 1.072952,
     "end_time": "2025-07-28T10:13:42.681657",
     "exception": false,
     "start_time": "2025-07-28T10:13:41.608705",
     "status": "completed"
    },
    "tags": []
   },
   "outputs": [],
   "source": [
    "from fairness_multiverse.conformal import evaluate_sets\n",
    "\n",
    "# Evaluate coverage and average set size on test data\n",
    "metrics = evaluate_sets(pred_sets, y_true)"
   ]
  },
  {
   "cell_type": "markdown",
   "id": "2b569c12-9aaa-4c88-98c9-bbcd0cf3ebb8",
   "metadata": {
    "papermill": {
     "duration": 0.012412,
     "end_time": "2025-07-28T10:13:42.709742",
     "exception": false,
     "start_time": "2025-07-28T10:13:42.697330",
     "status": "completed"
    },
    "tags": []
   },
   "source": [
    "# CP Metrics"
   ]
  },
  {
   "cell_type": "code",
   "execution_count": 49,
   "id": "5ce0a5cb-201f-45a0-ade5-94c7f0bd6095",
   "metadata": {
    "execution": {
     "iopub.execute_input": "2025-07-28T10:13:42.735689Z",
     "iopub.status.busy": "2025-07-28T10:13:42.735150Z",
     "iopub.status.idle": "2025-07-28T10:13:42.741891Z",
     "shell.execute_reply": "2025-07-28T10:13:42.741199Z"
    },
    "papermill": {
     "duration": 0.021457,
     "end_time": "2025-07-28T10:13:42.743353",
     "exception": false,
     "start_time": "2025-07-28T10:13:42.721896",
     "status": "completed"
    },
    "tags": []
   },
   "outputs": [
    {
     "data": {
      "text/plain": [
       "{'coverage': 0.9144688440530598, 'avg_size': 1.142002006465277}"
      ]
     },
     "execution_count": 49,
     "metadata": {},
     "output_type": "execute_result"
    }
   ],
   "source": [
    "metrics"
   ]
  },
  {
   "cell_type": "code",
   "execution_count": 50,
   "id": "9b9a838d-31c9-430b-ae14-12baee460d17",
   "metadata": {
    "execution": {
     "iopub.execute_input": "2025-07-28T10:13:42.770427Z",
     "iopub.status.busy": "2025-07-28T10:13:42.769925Z",
     "iopub.status.idle": "2025-07-28T10:13:42.775396Z",
     "shell.execute_reply": "2025-07-28T10:13:42.774652Z"
    },
    "papermill": {
     "duration": 0.02034,
     "end_time": "2025-07-28T10:13:42.776834",
     "exception": false,
     "start_time": "2025-07-28T10:13:42.756494",
     "status": "completed"
    },
    "tags": []
   },
   "outputs": [],
   "source": [
    "example_universe = universe.copy()\n",
    "universe_training_size = example_universe.get(\"training_size\")\n",
    "universe_scale = example_universe.get(\"scale\")\n",
    "universe_model = example_universe.get(\"model\")\n",
    "universe_exclude_features = example_universe.get(\"exclude_features\")\n",
    "universe_exclude_subgroups = example_universe.get(\"exclude_subgroups\")"
   ]
  },
  {
   "cell_type": "code",
   "execution_count": 51,
   "id": "f4b6a8ac-9dc0-4245-8a91-5b3b5999c4f9",
   "metadata": {
    "execution": {
     "iopub.execute_input": "2025-07-28T10:13:42.804246Z",
     "iopub.status.busy": "2025-07-28T10:13:42.803701Z",
     "iopub.status.idle": "2025-07-28T10:13:42.809204Z",
     "shell.execute_reply": "2025-07-28T10:13:42.808525Z"
    },
    "papermill": {
     "duration": 0.02036,
     "end_time": "2025-07-28T10:13:42.810699",
     "exception": false,
     "start_time": "2025-07-28T10:13:42.790339",
     "status": "completed"
    },
    "tags": []
   },
   "outputs": [],
   "source": [
    "cp_metrics_dict = {\n",
    "    \"universe_id\": [universe_id],\n",
    "    \"universe_training_size\": [universe_training_size],\n",
    "    \"universe_scale\": [universe_scale],\n",
    "    \"universe_model\": [universe_model],\n",
    "    \"universe_exclude_features\": [universe_exclude_features],\n",
    "    \"universe_exclude_subgroups\": [universe_exclude_subgroups],\n",
    "    \"q_hat\": [q_hat],\n",
    "    \"coverage\": [metrics[\"coverage\"]],\n",
    "    \"avg_size\": [metrics[\"avg_size\"]],\n",
    "}"
   ]
  },
  {
   "cell_type": "code",
   "execution_count": 52,
   "id": "908acbb1-0371-4915-85ca-3fa520d2efe2",
   "metadata": {
    "execution": {
     "iopub.execute_input": "2025-07-28T10:13:42.838205Z",
     "iopub.status.busy": "2025-07-28T10:13:42.837665Z",
     "iopub.status.idle": "2025-07-28T10:13:42.844734Z",
     "shell.execute_reply": "2025-07-28T10:13:42.843989Z"
    },
    "papermill": {
     "duration": 0.022133,
     "end_time": "2025-07-28T10:13:42.846057",
     "exception": false,
     "start_time": "2025-07-28T10:13:42.823924",
     "status": "completed"
    },
    "tags": []
   },
   "outputs": [
    {
     "data": {
      "text/plain": [
       "{'universe_id': ['fc6b2f2459252f3cb80bb23effbba8b4'],\n",
       " 'universe_training_size': ['25k'],\n",
       " 'universe_scale': ['scale'],\n",
       " 'universe_model': ['rf'],\n",
       " 'universe_exclude_features': ['age'],\n",
       " 'universe_exclude_subgroups': ['keep-all'],\n",
       " 'q_hat': [0.6599999999999999],\n",
       " 'coverage': [0.9144688440530598],\n",
       " 'avg_size': [1.142002006465277]}"
      ]
     },
     "execution_count": 52,
     "metadata": {},
     "output_type": "execute_result"
    }
   ],
   "source": [
    "cp_metrics_dict"
   ]
  },
  {
   "cell_type": "code",
   "execution_count": 53,
   "id": "33007efc-14e9-4ec6-97ac-56a455c82265",
   "metadata": {
    "execution": {
     "iopub.execute_input": "2025-07-28T10:13:42.873208Z",
     "iopub.status.busy": "2025-07-28T10:13:42.872922Z",
     "iopub.status.idle": "2025-07-28T10:13:42.877828Z",
     "shell.execute_reply": "2025-07-28T10:13:42.876891Z"
    },
    "papermill": {
     "duration": 0.019855,
     "end_time": "2025-07-28T10:13:42.879176",
     "exception": false,
     "start_time": "2025-07-28T10:13:42.859321",
     "status": "completed"
    },
    "tags": []
   },
   "outputs": [],
   "source": [
    "cp_metrics_df = pd.DataFrame(cp_metrics_dict)"
   ]
  },
  {
   "cell_type": "code",
   "execution_count": 54,
   "id": "db12611b-57b2-4910-b9d0-355adfd6e7bf",
   "metadata": {
    "execution": {
     "iopub.execute_input": "2025-07-28T10:13:42.906699Z",
     "iopub.status.busy": "2025-07-28T10:13:42.906155Z",
     "iopub.status.idle": "2025-07-28T10:13:42.920281Z",
     "shell.execute_reply": "2025-07-28T10:13:42.919570Z"
    },
    "papermill": {
     "duration": 0.02885,
     "end_time": "2025-07-28T10:13:42.921610",
     "exception": false,
     "start_time": "2025-07-28T10:13:42.892760",
     "status": "completed"
    },
    "tags": []
   },
   "outputs": [
    {
     "data": {
      "text/html": [
       "<div>\n",
       "<style scoped>\n",
       "    .dataframe tbody tr th:only-of-type {\n",
       "        vertical-align: middle;\n",
       "    }\n",
       "\n",
       "    .dataframe tbody tr th {\n",
       "        vertical-align: top;\n",
       "    }\n",
       "\n",
       "    .dataframe thead th {\n",
       "        text-align: right;\n",
       "    }\n",
       "</style>\n",
       "<table border=\"1\" class=\"dataframe\">\n",
       "  <thead>\n",
       "    <tr style=\"text-align: right;\">\n",
       "      <th></th>\n",
       "      <th>universe_id</th>\n",
       "      <th>universe_training_size</th>\n",
       "      <th>universe_scale</th>\n",
       "      <th>universe_model</th>\n",
       "      <th>universe_exclude_features</th>\n",
       "      <th>universe_exclude_subgroups</th>\n",
       "      <th>q_hat</th>\n",
       "      <th>coverage</th>\n",
       "      <th>avg_size</th>\n",
       "    </tr>\n",
       "  </thead>\n",
       "  <tbody>\n",
       "    <tr>\n",
       "      <th>0</th>\n",
       "      <td>fc6b2f2459252f3cb80bb23effbba8b4</td>\n",
       "      <td>25k</td>\n",
       "      <td>scale</td>\n",
       "      <td>rf</td>\n",
       "      <td>age</td>\n",
       "      <td>keep-all</td>\n",
       "      <td>0.66</td>\n",
       "      <td>0.914469</td>\n",
       "      <td>1.142002</td>\n",
       "    </tr>\n",
       "  </tbody>\n",
       "</table>\n",
       "</div>"
      ],
      "text/plain": [
       "                        universe_id universe_training_size universe_scale  \\\n",
       "0  fc6b2f2459252f3cb80bb23effbba8b4                    25k          scale   \n",
       "\n",
       "  universe_model universe_exclude_features universe_exclude_subgroups  q_hat  \\\n",
       "0             rf                       age                   keep-all   0.66   \n",
       "\n",
       "   coverage  avg_size  \n",
       "0  0.914469  1.142002  "
      ]
     },
     "execution_count": 54,
     "metadata": {},
     "output_type": "execute_result"
    }
   ],
   "source": [
    "cp_metrics_df"
   ]
  },
  {
   "cell_type": "code",
   "execution_count": 55,
   "id": "b7fbde55-a0a1-47e4-9af6-fe4a17fa8c61",
   "metadata": {
    "execution": {
     "iopub.execute_input": "2025-07-28T10:13:42.949387Z",
     "iopub.status.busy": "2025-07-28T10:13:42.948877Z",
     "iopub.status.idle": "2025-07-28T10:13:42.953699Z",
     "shell.execute_reply": "2025-07-28T10:13:42.952961Z"
    },
    "papermill": {
     "duration": 0.020063,
     "end_time": "2025-07-28T10:13:42.955038",
     "exception": false,
     "start_time": "2025-07-28T10:13:42.934975",
     "status": "completed"
    },
    "tags": []
   },
   "outputs": [],
   "source": [
    "# Conditional Coverage & looking at subgroups"
   ]
  },
  {
   "cell_type": "code",
   "execution_count": 56,
   "id": "027ae886-68dd-4141-96c7-805a5450e1ef",
   "metadata": {
    "execution": {
     "iopub.execute_input": "2025-07-28T10:13:42.983303Z",
     "iopub.status.busy": "2025-07-28T10:13:42.982741Z",
     "iopub.status.idle": "2025-07-28T10:13:43.214398Z",
     "shell.execute_reply": "2025-07-28T10:13:43.213412Z"
    },
    "papermill": {
     "duration": 0.247374,
     "end_time": "2025-07-28T10:13:43.216038",
     "exception": false,
     "start_time": "2025-07-28T10:13:42.968664",
     "status": "completed"
    },
    "tags": []
   },
   "outputs": [],
   "source": [
    "from fairness_multiverse.conformal import build_cp_groups\n",
    "\n",
    "cp_groups_df = build_cp_groups(pred_sets, y_true, X_test.index, org_test)\n",
    "#needs universe_id and setting"
   ]
  },
  {
   "cell_type": "code",
   "execution_count": 57,
   "id": "01d5802c-663a-4d1f-9d69-e036faaffbf7",
   "metadata": {
    "execution": {
     "iopub.execute_input": "2025-07-28T10:13:43.247684Z",
     "iopub.status.busy": "2025-07-28T10:13:43.247242Z",
     "iopub.status.idle": "2025-07-28T10:13:43.251402Z",
     "shell.execute_reply": "2025-07-28T10:13:43.250615Z"
    },
    "papermill": {
     "duration": 0.018914,
     "end_time": "2025-07-28T10:13:43.252814",
     "exception": false,
     "start_time": "2025-07-28T10:13:43.233900",
     "status": "completed"
    },
    "tags": []
   },
   "outputs": [],
   "source": [
    "#delete\n",
    "#cp_groups_df"
   ]
  },
  {
   "cell_type": "code",
   "execution_count": 58,
   "id": "fa424af1-d1eb-443d-b717-2d279ada8408",
   "metadata": {
    "execution": {
     "iopub.execute_input": "2025-07-28T10:13:43.283403Z",
     "iopub.status.busy": "2025-07-28T10:13:43.282683Z",
     "iopub.status.idle": "2025-07-28T10:13:43.287345Z",
     "shell.execute_reply": "2025-07-28T10:13:43.286535Z"
    },
    "papermill": {
     "duration": 0.022688,
     "end_time": "2025-07-28T10:13:43.288687",
     "exception": false,
     "start_time": "2025-07-28T10:13:43.265999",
     "status": "completed"
    },
    "tags": []
   },
   "outputs": [],
   "source": [
    "#delete\n",
    "#percentage = (cp_groups_df['nongerman_female'] == 1).mean() * 100\n",
    "#print(percentage)\n"
   ]
  },
  {
   "cell_type": "code",
   "execution_count": 59,
   "id": "6cbdab96-b2b2-45af-ad54-d0516db2e28d",
   "metadata": {
    "execution": {
     "iopub.execute_input": "2025-07-28T10:13:43.316151Z",
     "iopub.status.busy": "2025-07-28T10:13:43.315619Z",
     "iopub.status.idle": "2025-07-28T10:13:45.120166Z",
     "shell.execute_reply": "2025-07-28T10:13:45.119360Z"
    },
    "papermill": {
     "duration": 1.819709,
     "end_time": "2025-07-28T10:13:45.121701",
     "exception": false,
     "start_time": "2025-07-28T10:13:43.301992",
     "status": "completed"
    },
    "tags": []
   },
   "outputs": [],
   "source": [
    "# Define covered = 1 if true_label is in the predicted set\n",
    "cp_groups_df['covered'] = cp_groups_df.apply(\n",
    "    lambda r: int(r['true_label'] in r['pred_set']),\n",
    "    axis=1\n",
    ")"
   ]
  },
  {
   "cell_type": "code",
   "execution_count": 60,
   "id": "338ff529-1a6b-4b87-a931-8e4788d52aad",
   "metadata": {
    "execution": {
     "iopub.execute_input": "2025-07-28T10:13:45.181855Z",
     "iopub.status.busy": "2025-07-28T10:13:45.181352Z",
     "iopub.status.idle": "2025-07-28T10:13:45.186411Z",
     "shell.execute_reply": "2025-07-28T10:13:45.185609Z"
    },
    "papermill": {
     "duration": 0.050204,
     "end_time": "2025-07-28T10:13:45.187734",
     "exception": false,
     "start_time": "2025-07-28T10:13:45.137530",
     "status": "completed"
    },
    "tags": []
   },
   "outputs": [],
   "source": [
    "#cp_groups_df"
   ]
  },
  {
   "cell_type": "code",
   "execution_count": 61,
   "id": "90032e27-66df-4540-9169-4e89cfbaa758",
   "metadata": {
    "execution": {
     "iopub.execute_input": "2025-07-28T10:13:45.220408Z",
     "iopub.status.busy": "2025-07-28T10:13:45.219383Z",
     "iopub.status.idle": "2025-07-28T10:13:45.231352Z",
     "shell.execute_reply": "2025-07-28T10:13:45.230362Z"
    },
    "papermill": {
     "duration": 0.031597,
     "end_time": "2025-07-28T10:13:45.233415",
     "exception": false,
     "start_time": "2025-07-28T10:13:45.201818",
     "status": "completed"
    },
    "tags": []
   },
   "outputs": [],
   "source": [
    "subgroups = ['frau1','nongerman','nongerman_male','nongerman_female']\n",
    "\n",
    "# Conditional coverage for subgroup==1\n",
    "cond_coverage = {\n",
    "    g: cp_groups_df.loc[cp_groups_df[g]==1, 'covered'].mean()\n",
    "    for g in subgroups\n",
    "}"
   ]
  },
  {
   "cell_type": "code",
   "execution_count": 62,
   "id": "1e348fb1-b9c3-45bc-ba23-f016827a7e0d",
   "metadata": {
    "execution": {
     "iopub.execute_input": "2025-07-28T10:13:45.286033Z",
     "iopub.status.busy": "2025-07-28T10:13:45.285542Z",
     "iopub.status.idle": "2025-07-28T10:13:45.294800Z",
     "shell.execute_reply": "2025-07-28T10:13:45.293729Z"
    },
    "papermill": {
     "duration": 0.038109,
     "end_time": "2025-07-28T10:13:45.296491",
     "exception": false,
     "start_time": "2025-07-28T10:13:45.258382",
     "status": "completed"
    },
    "tags": []
   },
   "outputs": [
    {
     "data": {
      "text/plain": [
       "{'frau1': 0.9132497641191535,\n",
       " 'nongerman': 0.9097288497164991,\n",
       " 'nongerman_male': 0.924795100423309,\n",
       " 'nongerman_female': 0.8847988077496274}"
      ]
     },
     "execution_count": 62,
     "metadata": {},
     "output_type": "execute_result"
    }
   ],
   "source": [
    "cond_coverage"
   ]
  },
  {
   "cell_type": "code",
   "execution_count": 63,
   "id": "f5093324-c3dd-4d63-bc4c-8d945e5c8bbb",
   "metadata": {
    "execution": {
     "iopub.execute_input": "2025-07-28T10:13:45.346375Z",
     "iopub.status.busy": "2025-07-28T10:13:45.345890Z",
     "iopub.status.idle": "2025-07-28T10:13:45.353865Z",
     "shell.execute_reply": "2025-07-28T10:13:45.353112Z"
    },
    "papermill": {
     "duration": 0.03819,
     "end_time": "2025-07-28T10:13:45.355131",
     "exception": false,
     "start_time": "2025-07-28T10:13:45.316941",
     "status": "completed"
    },
    "tags": []
   },
   "outputs": [],
   "source": [
    "for subgroup, cov in cond_coverage.items():\n",
    "    cp_metrics_df[f\"cov_{subgroup}\"] = cov"
   ]
  },
  {
   "cell_type": "code",
   "execution_count": 64,
   "id": "6e872e10-dbe5-49e8-b554-5030c98ff75d",
   "metadata": {
    "execution": {
     "iopub.execute_input": "2025-07-28T10:13:45.385882Z",
     "iopub.status.busy": "2025-07-28T10:13:45.385294Z",
     "iopub.status.idle": "2025-07-28T10:13:45.402000Z",
     "shell.execute_reply": "2025-07-28T10:13:45.400603Z"
    },
    "papermill": {
     "duration": 0.034047,
     "end_time": "2025-07-28T10:13:45.403653",
     "exception": false,
     "start_time": "2025-07-28T10:13:45.369606",
     "status": "completed"
    },
    "tags": []
   },
   "outputs": [
    {
     "data": {
      "text/html": [
       "<div>\n",
       "<style scoped>\n",
       "    .dataframe tbody tr th:only-of-type {\n",
       "        vertical-align: middle;\n",
       "    }\n",
       "\n",
       "    .dataframe tbody tr th {\n",
       "        vertical-align: top;\n",
       "    }\n",
       "\n",
       "    .dataframe thead th {\n",
       "        text-align: right;\n",
       "    }\n",
       "</style>\n",
       "<table border=\"1\" class=\"dataframe\">\n",
       "  <thead>\n",
       "    <tr style=\"text-align: right;\">\n",
       "      <th></th>\n",
       "      <th>universe_id</th>\n",
       "      <th>universe_training_size</th>\n",
       "      <th>universe_scale</th>\n",
       "      <th>universe_model</th>\n",
       "      <th>universe_exclude_features</th>\n",
       "      <th>universe_exclude_subgroups</th>\n",
       "      <th>q_hat</th>\n",
       "      <th>coverage</th>\n",
       "      <th>avg_size</th>\n",
       "      <th>cov_frau1</th>\n",
       "      <th>cov_nongerman</th>\n",
       "      <th>cov_nongerman_male</th>\n",
       "      <th>cov_nongerman_female</th>\n",
       "    </tr>\n",
       "  </thead>\n",
       "  <tbody>\n",
       "    <tr>\n",
       "      <th>0</th>\n",
       "      <td>fc6b2f2459252f3cb80bb23effbba8b4</td>\n",
       "      <td>25k</td>\n",
       "      <td>scale</td>\n",
       "      <td>rf</td>\n",
       "      <td>age</td>\n",
       "      <td>keep-all</td>\n",
       "      <td>0.66</td>\n",
       "      <td>0.914469</td>\n",
       "      <td>1.142002</td>\n",
       "      <td>0.91325</td>\n",
       "      <td>0.909729</td>\n",
       "      <td>0.924795</td>\n",
       "      <td>0.884799</td>\n",
       "    </tr>\n",
       "  </tbody>\n",
       "</table>\n",
       "</div>"
      ],
      "text/plain": [
       "                        universe_id universe_training_size universe_scale  \\\n",
       "0  fc6b2f2459252f3cb80bb23effbba8b4                    25k          scale   \n",
       "\n",
       "  universe_model universe_exclude_features universe_exclude_subgroups  q_hat  \\\n",
       "0             rf                       age                   keep-all   0.66   \n",
       "\n",
       "   coverage  avg_size  cov_frau1  cov_nongerman  cov_nongerman_male  \\\n",
       "0  0.914469  1.142002    0.91325       0.909729            0.924795   \n",
       "\n",
       "   cov_nongerman_female  \n",
       "0              0.884799  "
      ]
     },
     "execution_count": 64,
     "metadata": {},
     "output_type": "execute_result"
    }
   ],
   "source": [
    "cp_metrics_df"
   ]
  },
  {
   "cell_type": "markdown",
   "id": "33774451",
   "metadata": {
    "papermill": {
     "duration": 0.0144,
     "end_time": "2025-07-28T10:13:45.448454",
     "exception": false,
     "start_time": "2025-07-28T10:13:45.434054",
     "status": "completed"
    },
    "tags": []
   },
   "source": [
    "# (Fairness) Metrics"
   ]
  },
  {
   "cell_type": "code",
   "execution_count": 65,
   "id": "debc5d62",
   "metadata": {
    "execution": {
     "iopub.execute_input": "2025-07-28T10:13:45.509094Z",
     "iopub.status.busy": "2025-07-28T10:13:45.508645Z",
     "iopub.status.idle": "2025-07-28T10:13:45.530414Z",
     "shell.execute_reply": "2025-07-28T10:13:45.529381Z"
    },
    "papermill": {
     "duration": 0.066164,
     "end_time": "2025-07-28T10:13:45.532359",
     "exception": false,
     "start_time": "2025-07-28T10:13:45.466195",
     "status": "completed"
    },
    "tags": []
   },
   "outputs": [],
   "source": [
    "# do I need to include maxdeutsch1.missing?\n",
    "\n",
    "import numpy as np\n",
    "\n",
    "colname_to_bin = \"maxdeutsch1\"\n",
    "majority_value = org_train[colname_to_bin].mode()[0]\n",
    "\n",
    "org_test[\"majmin\"] = np.where(org_test[colname_to_bin] == majority_value, \"majority\", \"minority\")"
   ]
  },
  {
   "cell_type": "code",
   "execution_count": 66,
   "id": "06a50de5",
   "metadata": {
    "execution": {
     "iopub.execute_input": "2025-07-28T10:13:45.593713Z",
     "iopub.status.busy": "2025-07-28T10:13:45.593264Z",
     "iopub.status.idle": "2025-07-28T10:13:48.753204Z",
     "shell.execute_reply": "2025-07-28T10:13:48.752100Z"
    },
    "papermill": {
     "duration": 3.193287,
     "end_time": "2025-07-28T10:13:48.755265",
     "exception": false,
     "start_time": "2025-07-28T10:13:45.561978",
     "status": "completed"
    },
    "tags": []
   },
   "outputs": [],
   "source": [
    "example_universe = universe.copy()\n",
    "example_universe[\"cutoff\"] = example_universe[\"cutoff\"][0]\n",
    "example_universe[\"eval_fairness_grouping\"] = example_universe[\"eval_fairness_grouping\"][0]\n",
    "fairness_dict, metric_frame = universe_analysis.compute_metrics(\n",
    "    example_universe,\n",
    "    y_pred_prob=probs_test,\n",
    "    y_test=y_true,\n",
    "    org_test=org_test,\n",
    ")"
   ]
  },
  {
   "cell_type": "markdown",
   "id": "f95d4e02",
   "metadata": {
    "papermill": {
     "duration": 0.024406,
     "end_time": "2025-07-28T10:13:48.811508",
     "exception": false,
     "start_time": "2025-07-28T10:13:48.787102",
     "status": "completed"
    },
    "tags": []
   },
   "source": [
    "# Overall"
   ]
  },
  {
   "cell_type": "markdown",
   "id": "bdee4871",
   "metadata": {
    "papermill": {
     "duration": 0.027049,
     "end_time": "2025-07-28T10:13:48.866478",
     "exception": false,
     "start_time": "2025-07-28T10:13:48.839429",
     "status": "completed"
    },
    "tags": []
   },
   "source": [
    "Fairness\n",
    "Main fairness target: Equalized Odds. Seems to be a better fit than equal opportunity, since we're not only interested in Y = 1. Seems to be a better fit than demographic parity, since we also care about accuracy, not just equal distribution of preds.\n",
    "\n",
    "Pick column for computation of fairness metrics\n",
    "\n",
    "Performance\n",
    "Overall performance measures, most interesting in relation to the measures split by group below"
   ]
  },
  {
   "cell_type": "code",
   "execution_count": 67,
   "id": "c4e067c6",
   "metadata": {
    "execution": {
     "iopub.execute_input": "2025-07-28T10:13:48.922403Z",
     "iopub.status.busy": "2025-07-28T10:13:48.921877Z",
     "iopub.status.idle": "2025-07-28T10:13:48.931500Z",
     "shell.execute_reply": "2025-07-28T10:13:48.930418Z"
    },
    "papermill": {
     "duration": 0.039653,
     "end_time": "2025-07-28T10:13:48.933341",
     "exception": false,
     "start_time": "2025-07-28T10:13:48.893688",
     "status": "completed"
    },
    "tags": []
   },
   "outputs": [
    {
     "data": {
      "text/plain": [
       "accuracy                   0.219206\n",
       "balanced accuracy          0.543186\n",
       "f1                         0.243387\n",
       "precision                  0.138968\n",
       "false positive rate        0.892599\n",
       "false negative rate        0.021029\n",
       "selection rate             0.903679\n",
       "count                  89710.000000\n",
       "dtype: float64"
      ]
     },
     "execution_count": 67,
     "metadata": {},
     "output_type": "execute_result"
    }
   ],
   "source": [
    "metric_frame.overall"
   ]
  },
  {
   "cell_type": "markdown",
   "id": "e968fe9d",
   "metadata": {
    "papermill": {
     "duration": 0.028115,
     "end_time": "2025-07-28T10:13:48.990888",
     "exception": false,
     "start_time": "2025-07-28T10:13:48.962773",
     "status": "completed"
    },
    "tags": []
   },
   "source": [
    "By Group"
   ]
  },
  {
   "cell_type": "code",
   "execution_count": 68,
   "id": "ec325bce",
   "metadata": {
    "execution": {
     "iopub.execute_input": "2025-07-28T10:13:49.049203Z",
     "iopub.status.busy": "2025-07-28T10:13:49.048721Z",
     "iopub.status.idle": "2025-07-28T10:13:49.066888Z",
     "shell.execute_reply": "2025-07-28T10:13:49.065735Z"
    },
    "papermill": {
     "duration": 0.049828,
     "end_time": "2025-07-28T10:13:49.068795",
     "exception": false,
     "start_time": "2025-07-28T10:13:49.018967",
     "status": "completed"
    },
    "tags": []
   },
   "outputs": [
    {
     "data": {
      "text/html": [
       "<div>\n",
       "<style scoped>\n",
       "    .dataframe tbody tr th:only-of-type {\n",
       "        vertical-align: middle;\n",
       "    }\n",
       "\n",
       "    .dataframe tbody tr th {\n",
       "        vertical-align: top;\n",
       "    }\n",
       "\n",
       "    .dataframe thead th {\n",
       "        text-align: right;\n",
       "    }\n",
       "</style>\n",
       "<table border=\"1\" class=\"dataframe\">\n",
       "  <thead>\n",
       "    <tr style=\"text-align: right;\">\n",
       "      <th></th>\n",
       "      <th>accuracy</th>\n",
       "      <th>balanced accuracy</th>\n",
       "      <th>f1</th>\n",
       "      <th>precision</th>\n",
       "      <th>false positive rate</th>\n",
       "      <th>false negative rate</th>\n",
       "      <th>selection rate</th>\n",
       "      <th>count</th>\n",
       "    </tr>\n",
       "    <tr>\n",
       "      <th>majmin</th>\n",
       "      <th></th>\n",
       "      <th></th>\n",
       "      <th></th>\n",
       "      <th></th>\n",
       "      <th></th>\n",
       "      <th></th>\n",
       "      <th></th>\n",
       "      <th></th>\n",
       "    </tr>\n",
       "  </thead>\n",
       "  <tbody>\n",
       "    <tr>\n",
       "      <th>majority</th>\n",
       "      <td>0.215137</td>\n",
       "      <td>0.542299</td>\n",
       "      <td>0.249437</td>\n",
       "      <td>0.142758</td>\n",
       "      <td>0.902382</td>\n",
       "      <td>0.013020</td>\n",
       "      <td>0.913561</td>\n",
       "      <td>69170.0</td>\n",
       "    </tr>\n",
       "    <tr>\n",
       "      <th>minority</th>\n",
       "      <td>0.232911</td>\n",
       "      <td>0.543889</td>\n",
       "      <td>0.221772</td>\n",
       "      <td>0.125573</td>\n",
       "      <td>0.860280</td>\n",
       "      <td>0.051943</td>\n",
       "      <td>0.870399</td>\n",
       "      <td>20540.0</td>\n",
       "    </tr>\n",
       "  </tbody>\n",
       "</table>\n",
       "</div>"
      ],
      "text/plain": [
       "          accuracy  balanced accuracy        f1  precision  \\\n",
       "majmin                                                       \n",
       "majority  0.215137           0.542299  0.249437   0.142758   \n",
       "minority  0.232911           0.543889  0.221772   0.125573   \n",
       "\n",
       "          false positive rate  false negative rate  selection rate    count  \n",
       "majmin                                                                       \n",
       "majority             0.902382             0.013020        0.913561  69170.0  \n",
       "minority             0.860280             0.051943        0.870399  20540.0  "
      ]
     },
     "execution_count": 68,
     "metadata": {},
     "output_type": "execute_result"
    }
   ],
   "source": [
    "metric_frame.by_group"
   ]
  },
  {
   "cell_type": "code",
   "execution_count": 69,
   "id": "a9ddbe63",
   "metadata": {
    "execution": {
     "iopub.execute_input": "2025-07-28T10:13:49.128711Z",
     "iopub.status.busy": "2025-07-28T10:13:49.127661Z",
     "iopub.status.idle": "2025-07-28T10:13:51.354993Z",
     "shell.execute_reply": "2025-07-28T10:13:51.353964Z"
    },
    "papermill": {
     "duration": 2.259659,
     "end_time": "2025-07-28T10:13:51.356777",
     "exception": false,
     "start_time": "2025-07-28T10:13:49.097118",
     "status": "completed"
    },
    "tags": []
   },
   "outputs": [
    {
     "data": {
      "text/plain": [
       "array([[<Axes: title={'center': 'accuracy'}, xlabel='majmin'>,\n",
       "        <Axes: title={'center': 'balanced accuracy'}, xlabel='majmin'>,\n",
       "        <Axes: title={'center': 'f1'}, xlabel='majmin'>],\n",
       "       [<Axes: title={'center': 'precision'}, xlabel='majmin'>,\n",
       "        <Axes: title={'center': 'false positive rate'}, xlabel='majmin'>,\n",
       "        <Axes: title={'center': 'false negative rate'}, xlabel='majmin'>],\n",
       "       [<Axes: title={'center': 'selection rate'}, xlabel='majmin'>,\n",
       "        <Axes: title={'center': 'count'}, xlabel='majmin'>,\n",
       "        <Axes: xlabel='majmin'>]], dtype=object)"
      ]
     },
     "execution_count": 69,
     "metadata": {},
     "output_type": "execute_result"
    },
    {
     "data": {
      "image/png": "[encoded data removed]",
      "text/plain": [
       "<Figure size 1200x800 with 9 Axes>"
      ]
     },
     "metadata": {},
     "output_type": "display_data"
    }
   ],
   "source": [
    "# In a graphic\n",
    "metric_frame.by_group.plot.bar(\n",
    "    subplots=True,\n",
    "    layout=[3, 3],\n",
    "    legend=False,\n",
    "    figsize=[12, 8],\n",
    "    title=\"Show all metrics\",\n",
    ")"
   ]
  },
  {
   "cell_type": "markdown",
   "id": "f57a0bac",
   "metadata": {
    "papermill": {
     "duration": 0.014963,
     "end_time": "2025-07-28T10:13:51.404258",
     "exception": false,
     "start_time": "2025-07-28T10:13:51.389295",
     "status": "completed"
    },
    "tags": []
   },
   "source": [
    "# Final Output"
   ]
  },
  {
   "cell_type": "code",
   "execution_count": 70,
   "id": "96d280a3",
   "metadata": {
    "execution": {
     "iopub.execute_input": "2025-07-28T10:13:51.436265Z",
     "iopub.status.busy": "2025-07-28T10:13:51.435515Z",
     "iopub.status.idle": "2025-07-28T10:13:51.444589Z",
     "shell.execute_reply": "2025-07-28T10:13:51.443495Z"
    },
    "papermill": {
     "duration": 0.027862,
     "end_time": "2025-07-28T10:13:51.446790",
     "exception": false,
     "start_time": "2025-07-28T10:13:51.418928",
     "status": "completed"
    },
    "tags": []
   },
   "outputs": [
    {
     "data": {
      "text/plain": [
       "4"
      ]
     },
     "execution_count": 70,
     "metadata": {},
     "output_type": "execute_result"
    }
   ],
   "source": [
    "sub_universes = universe_analysis.generate_sub_universes()\n",
    "len(sub_universes)"
   ]
  },
  {
   "cell_type": "code",
   "execution_count": 71,
   "id": "92adf7ba",
   "metadata": {
    "execution": {
     "iopub.execute_input": "2025-07-28T10:13:51.488917Z",
     "iopub.status.busy": "2025-07-28T10:13:51.488541Z",
     "iopub.status.idle": "2025-07-28T10:13:51.494126Z",
     "shell.execute_reply": "2025-07-28T10:13:51.493418Z"
    },
    "papermill": {
     "duration": 0.023249,
     "end_time": "2025-07-28T10:13:51.495474",
     "exception": false,
     "start_time": "2025-07-28T10:13:51.472225",
     "status": "completed"
    },
    "tags": []
   },
   "outputs": [],
   "source": [
    "def filter_sub_universe_data(sub_universe, org_test):\n",
    "    # Keep all rows — no filtering\n",
    "    keep_rows_mask = np.ones(org_test.shape[0], dtype=bool)\n",
    "\n",
    "    print(f\"[INFO] Keeping all rows: {keep_rows_mask.sum()} rows retained.\")\n",
    "    return keep_rows_mask"
   ]
  },
  {
   "cell_type": "code",
   "execution_count": 72,
   "id": "4a759155",
   "metadata": {
    "execution": {
     "iopub.execute_input": "2025-07-28T10:13:51.528006Z",
     "iopub.status.busy": "2025-07-28T10:13:51.527276Z",
     "iopub.status.idle": "2025-07-28T10:14:00.645978Z",
     "shell.execute_reply": "2025-07-28T10:14:00.644913Z"
    },
    "papermill": {
     "duration": 9.136395,
     "end_time": "2025-07-28T10:14:00.647385",
     "exception": false,
     "start_time": "2025-07-28T10:13:51.510990",
     "status": "completed"
    },
    "tags": []
   },
   "outputs": [
    {
     "name": "stdout",
     "output_type": "stream",
     "text": [
      "Stopping execution_time clock.\n",
      "[INFO] Keeping all rows: 89710 rows retained.\n"
     ]
    },
    {
     "name": "stdout",
     "output_type": "stream",
     "text": [
      "[INFO] Keeping all rows: 89710 rows retained.\n"
     ]
    },
    {
     "name": "stdout",
     "output_type": "stream",
     "text": [
      "[INFO] Keeping all rows: 89710 rows retained.\n"
     ]
    },
    {
     "name": "stdout",
     "output_type": "stream",
     "text": [
      "[INFO] Keeping all rows: 89710 rows retained.\n"
     ]
    },
    {
     "data": {
      "text/html": [
       "<div>\n",
       "<style scoped>\n",
       "    .dataframe tbody tr th:only-of-type {\n",
       "        vertical-align: middle;\n",
       "    }\n",
       "\n",
       "    .dataframe tbody tr th {\n",
       "        vertical-align: top;\n",
       "    }\n",
       "\n",
       "    .dataframe thead th {\n",
       "        text-align: right;\n",
       "    }\n",
       "</style>\n",
       "<table border=\"1\" class=\"dataframe\">\n",
       "  <thead>\n",
       "    <tr style=\"text-align: right;\">\n",
       "      <th></th>\n",
       "      <th>run_no</th>\n",
       "      <th>universe_id</th>\n",
       "      <th>universe_settings</th>\n",
       "      <th>execution_time</th>\n",
       "      <th>test_size_n</th>\n",
       "      <th>test_size_frac</th>\n",
       "      <th>fair_main_equalized_odds_difference</th>\n",
       "      <th>fair_main_equalized_odds_ratio</th>\n",
       "      <th>fair_main_demographic_parity_difference</th>\n",
       "      <th>fair_main_demographic_parity_ratio</th>\n",
       "      <th>...</th>\n",
       "      <th>perf_grp_precision_0</th>\n",
       "      <th>perf_grp_precision_1</th>\n",
       "      <th>perf_grp_false positive rate_0</th>\n",
       "      <th>perf_grp_false positive rate_1</th>\n",
       "      <th>perf_grp_false negative rate_0</th>\n",
       "      <th>perf_grp_false negative rate_1</th>\n",
       "      <th>perf_grp_selection rate_0</th>\n",
       "      <th>perf_grp_selection rate_1</th>\n",
       "      <th>perf_grp_count_0</th>\n",
       "      <th>perf_grp_count_1</th>\n",
       "    </tr>\n",
       "  </thead>\n",
       "  <tbody>\n",
       "    <tr>\n",
       "      <th>0</th>\n",
       "      <td>11</td>\n",
       "      <td>fc6b2f2459252f3cb80bb23effbba8b4</td>\n",
       "      <td>{\"cutoff\": \"quantile_0.1\", \"eval_fairness_grou...</td>\n",
       "      <td>38.713816</td>\n",
       "      <td>89710</td>\n",
       "      <td>1.0</td>\n",
       "      <td>0.042103</td>\n",
       "      <td>0.953343</td>\n",
       "      <td>0.043162</td>\n",
       "      <td>0.952755</td>\n",
       "      <td>...</td>\n",
       "      <td>NaN</td>\n",
       "      <td>NaN</td>\n",
       "      <td>NaN</td>\n",
       "      <td>NaN</td>\n",
       "      <td>NaN</td>\n",
       "      <td>NaN</td>\n",
       "      <td>NaN</td>\n",
       "      <td>NaN</td>\n",
       "      <td>NaN</td>\n",
       "      <td>NaN</td>\n",
       "    </tr>\n",
       "    <tr>\n",
       "      <th>0</th>\n",
       "      <td>11</td>\n",
       "      <td>fc6b2f2459252f3cb80bb23effbba8b4</td>\n",
       "      <td>{\"cutoff\": \"quantile_0.1\", \"eval_fairness_grou...</td>\n",
       "      <td>38.713816</td>\n",
       "      <td>89710</td>\n",
       "      <td>1.0</td>\n",
       "      <td>0.042103</td>\n",
       "      <td>0.953343</td>\n",
       "      <td>0.043162</td>\n",
       "      <td>0.952755</td>\n",
       "      <td>...</td>\n",
       "      <td>0.125573</td>\n",
       "      <td>0.142758</td>\n",
       "      <td>0.860280</td>\n",
       "      <td>0.902382</td>\n",
       "      <td>0.051943</td>\n",
       "      <td>0.013020</td>\n",
       "      <td>0.870399</td>\n",
       "      <td>0.913561</td>\n",
       "      <td>20540.0</td>\n",
       "      <td>69170.0</td>\n",
       "    </tr>\n",
       "    <tr>\n",
       "      <th>0</th>\n",
       "      <td>11</td>\n",
       "      <td>fc6b2f2459252f3cb80bb23effbba8b4</td>\n",
       "      <td>{\"cutoff\": \"quantile_0.25\", \"eval_fairness_gro...</td>\n",
       "      <td>38.713816</td>\n",
       "      <td>89710</td>\n",
       "      <td>1.0</td>\n",
       "      <td>0.069337</td>\n",
       "      <td>0.927097</td>\n",
       "      <td>0.043815</td>\n",
       "      <td>0.943123</td>\n",
       "      <td>...</td>\n",
       "      <td>NaN</td>\n",
       "      <td>NaN</td>\n",
       "      <td>NaN</td>\n",
       "      <td>NaN</td>\n",
       "      <td>NaN</td>\n",
       "      <td>NaN</td>\n",
       "      <td>NaN</td>\n",
       "      <td>NaN</td>\n",
       "      <td>NaN</td>\n",
       "      <td>NaN</td>\n",
       "    </tr>\n",
       "    <tr>\n",
       "      <th>0</th>\n",
       "      <td>11</td>\n",
       "      <td>fc6b2f2459252f3cb80bb23effbba8b4</td>\n",
       "      <td>{\"cutoff\": \"quantile_0.25\", \"eval_fairness_gro...</td>\n",
       "      <td>38.713816</td>\n",
       "      <td>89710</td>\n",
       "      <td>1.0</td>\n",
       "      <td>0.069337</td>\n",
       "      <td>0.927097</td>\n",
       "      <td>0.043815</td>\n",
       "      <td>0.943123</td>\n",
       "      <td>...</td>\n",
       "      <td>0.139918</td>\n",
       "      <td>0.163142</td>\n",
       "      <td>0.706306</td>\n",
       "      <td>0.742829</td>\n",
       "      <td>0.118243</td>\n",
       "      <td>0.048906</td>\n",
       "      <td>0.726534</td>\n",
       "      <td>0.770348</td>\n",
       "      <td>20540.0</td>\n",
       "      <td>69170.0</td>\n",
       "    </tr>\n",
       "  </tbody>\n",
       "</table>\n",
       "<p>4 rows × 50 columns</p>\n",
       "</div>"
      ],
      "text/plain": [
       "  run_no                       universe_id  \\\n",
       "0     11  fc6b2f2459252f3cb80bb23effbba8b4   \n",
       "0     11  fc6b2f2459252f3cb80bb23effbba8b4   \n",
       "0     11  fc6b2f2459252f3cb80bb23effbba8b4   \n",
       "0     11  fc6b2f2459252f3cb80bb23effbba8b4   \n",
       "\n",
       "                                   universe_settings  execution_time  \\\n",
       "0  {\"cutoff\": \"quantile_0.1\", \"eval_fairness_grou...       38.713816   \n",
       "0  {\"cutoff\": \"quantile_0.1\", \"eval_fairness_grou...       38.713816   \n",
       "0  {\"cutoff\": \"quantile_0.25\", \"eval_fairness_gro...       38.713816   \n",
       "0  {\"cutoff\": \"quantile_0.25\", \"eval_fairness_gro...       38.713816   \n",
       "\n",
       "   test_size_n  test_size_frac  fair_main_equalized_odds_difference  \\\n",
       "0        89710             1.0                             0.042103   \n",
       "0        89710             1.0                             0.042103   \n",
       "0        89710             1.0                             0.069337   \n",
       "0        89710             1.0                             0.069337   \n",
       "\n",
       "   fair_main_equalized_odds_ratio  fair_main_demographic_parity_difference  \\\n",
       "0                        0.953343                                 0.043162   \n",
       "0                        0.953343                                 0.043162   \n",
       "0                        0.927097                                 0.043815   \n",
       "0                        0.927097                                 0.043815   \n",
       "\n",
       "   fair_main_demographic_parity_ratio  ...  perf_grp_precision_0  \\\n",
       "0                            0.952755  ...                   NaN   \n",
       "0                            0.952755  ...              0.125573   \n",
       "0                            0.943123  ...                   NaN   \n",
       "0                            0.943123  ...              0.139918   \n",
       "\n",
       "   perf_grp_precision_1  perf_grp_false positive rate_0  \\\n",
       "0                   NaN                             NaN   \n",
       "0              0.142758                        0.860280   \n",
       "0                   NaN                             NaN   \n",
       "0              0.163142                        0.706306   \n",
       "\n",
       "   perf_grp_false positive rate_1  perf_grp_false negative rate_0  \\\n",
       "0                             NaN                             NaN   \n",
       "0                        0.902382                        0.051943   \n",
       "0                             NaN                             NaN   \n",
       "0                        0.742829                        0.118243   \n",
       "\n",
       "   perf_grp_false negative rate_1  perf_grp_selection rate_0  \\\n",
       "0                             NaN                        NaN   \n",
       "0                        0.013020                   0.870399   \n",
       "0                             NaN                        NaN   \n",
       "0                        0.048906                   0.726534   \n",
       "\n",
       "   perf_grp_selection rate_1  perf_grp_count_0  perf_grp_count_1  \n",
       "0                        NaN               NaN               NaN  \n",
       "0                   0.913561           20540.0           69170.0  \n",
       "0                        NaN               NaN               NaN  \n",
       "0                   0.770348           20540.0           69170.0  \n",
       "\n",
       "[4 rows x 50 columns]"
      ]
     },
     "execution_count": 72,
     "metadata": {},
     "output_type": "execute_result"
    }
   ],
   "source": [
    "final_output = universe_analysis.generate_final_output(\n",
    "    y_pred_prob=probs_test,\n",
    "    y_test=y_true,\n",
    "    org_test=org_test,\n",
    "    filter_data=filter_sub_universe_data,\n",
    "    cp_metrics_df=cp_metrics_df,\n",
    "    save=True,\n",
    ")\n",
    "final_output"
   ]
  },
  {
   "cell_type": "code",
   "execution_count": null,
   "id": "721ff514-cb11-46f8-b6fc-50392f74b5cb",
   "metadata": {
    "papermill": {
     "duration": 0.015364,
     "end_time": "2025-07-28T10:14:00.681502",
     "exception": false,
     "start_time": "2025-07-28T10:14:00.666138",
     "status": "completed"
    },
    "tags": []
   },
   "outputs": [],
   "source": []
  }
 ],
 "metadata": {
  "celltoolbar": "Tags",
  "kernelspec": {
   "display_name": "Python (CMA Fairness)",
   "language": "python",
   "name": "cma_fair_env"
  },
  "language_info": {
   "codemirror_mode": {
    "name": "ipython",
    "version": 3
   },
   "file_extension": ".py",
   "mimetype": "text/x-python",
   "name": "python",
   "nbconvert_exporter": "python",
   "pygments_lexer": "ipython3",
   "version": "3.10.12"
  },
  "papermill": {
   "default_parameters": {},
   "duration": 51.810696,
   "end_time": "2025-07-28T10:14:01.316275",
   "environment_variables": {},
   "exception": null,
   "input_path": "universe_analysis.ipynb",
   "output_path": "output/runs/11/notebooks/m_11-fc6b2f2459252f3cb80bb23effbba8b4.ipynb",
   "parameters": {
    "output_dir": "output",
    "run_no": "11",
    "seed": "2023",
    "universe": "{\"cutoff\": [\"quantile_0.1\", \"quantile_0.25\"], \"eval_fairness_grouping\": [\"majority-minority\", \"nationality-all\"], \"exclude_features\": \"age\", \"exclude_subgroups\": \"keep-all\", \"model\": \"rf\", \"scale\": \"scale\", \"training_size\": \"25k\"}",
    "universe_id": "fc6b2f2459252f3cb80bb23effbba8b4"
   },
   "start_time": "2025-07-28T10:13:09.505579",
   "version": "2.6.0"
  }
 },
 "nbformat": 4,
 "nbformat_minor": 5
}