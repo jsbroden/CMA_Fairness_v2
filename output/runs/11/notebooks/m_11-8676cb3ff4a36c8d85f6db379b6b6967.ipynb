{
 "cells": [
  {
   "cell_type": "code",
   "execution_count": 1,
   "id": "f159f837-637b-42ba-96b5-ec9a68c44524",
   "metadata": {
    "execution": {
     "iopub.execute_input": "2025-07-28T10:55:35.197214Z",
     "iopub.status.busy": "2025-07-28T10:55:35.196742Z",
     "iopub.status.idle": "2025-07-28T10:55:35.213483Z",
     "shell.execute_reply": "2025-07-28T10:55:35.211976Z"
    },
    "papermill": {
     "duration": 0.041057,
     "end_time": "2025-07-28T10:55:35.215566",
     "exception": false,
     "start_time": "2025-07-28T10:55:35.174509",
     "status": "completed"
    },
    "tags": []
   },
   "outputs": [
    {
     "name": "stdout",
     "output_type": "stream",
     "text": [
      "/dss/dsshome1/0C/ra93lal2/cma/CMA_Fairness_v2\n"
     ]
    },
    {
     "name": "stderr",
     "output_type": "stream",
     "text": [
      "/dss/dsshome1/0C/ra93lal2/.local/share/virtualenvs/CMA_Fairness_v2-3j10GkSs/lib/python3.10/site-packages/IPython/core/magics/osm.py:393: UserWarning: This is now an optional IPython functionality, using bookmarks requires you to install the `pickleshare` library.\n",
      "  bkms = self.shell.db.get('bookmarks', {})\n",
      "/dss/dsshome1/0C/ra93lal2/.local/share/virtualenvs/CMA_Fairness_v2-3j10GkSs/lib/python3.10/site-packages/IPython/core/magics/osm.py:417: UserWarning: This is now an optional IPython functionality, setting dhist requires you to install the `pickleshare` library.\n",
      "  self.shell.db['dhist'] = compress_dhist(dhist)[-100:]\n"
     ]
    }
   ],
   "source": [
    "%cd ~/cma/CMA_Fairness_v2"
   ]
  },
  {
   "cell_type": "markdown",
   "id": "de2603b9",
   "metadata": {
    "papermill": {
     "duration": 0.024833,
     "end_time": "2025-07-28T10:55:35.261115",
     "exception": false,
     "start_time": "2025-07-28T10:55:35.236282",
     "status": "completed"
    },
    "tags": []
   },
   "source": [
    "The following cell holds the definition of our parameters, these values can be overriden by rendering the with e.g. the following command:\n",
    "\n",
    "papermill -p alpha 0.2 -p ratio 0.3 universe_analysis.ipynb output/test_run.ipynb"
   ]
  },
  {
   "cell_type": "code",
   "execution_count": 2,
   "id": "a80968a0-40bb-4fa9-85ef-2d5eefb01975",
   "metadata": {
    "execution": {
     "iopub.execute_input": "2025-07-28T10:55:35.297935Z",
     "iopub.status.busy": "2025-07-28T10:55:35.297168Z",
     "iopub.status.idle": "2025-07-28T10:55:35.302787Z",
     "shell.execute_reply": "2025-07-28T10:55:35.302033Z"
    },
    "papermill": {
     "duration": 0.022449,
     "end_time": "2025-07-28T10:55:35.304343",
     "exception": false,
     "start_time": "2025-07-28T10:55:35.281894",
     "status": "completed"
    },
    "tags": []
   },
   "outputs": [
    {
     "name": "stdout",
     "output_type": "stream",
     "text": [
      "Current working directory: /dss/dsshome1/0C/ra93lal2/cma/CMA_Fairness_v2\n"
     ]
    }
   ],
   "source": [
    "import os\n",
    "print(\"Current working directory:\", os.getcwd())"
   ]
  },
  {
   "cell_type": "code",
   "execution_count": 3,
   "id": "2dce4c03",
   "metadata": {
    "execution": {
     "iopub.execute_input": "2025-07-28T10:55:35.328168Z",
     "iopub.status.busy": "2025-07-28T10:55:35.327600Z",
     "iopub.status.idle": "2025-07-28T10:55:35.333273Z",
     "shell.execute_reply": "2025-07-28T10:55:35.332509Z"
    },
    "papermill": {
     "duration": 0.018885,
     "end_time": "2025-07-28T10:55:35.334774",
     "exception": false,
     "start_time": "2025-07-28T10:55:35.315889",
     "status": "completed"
    },
    "tags": [
     "parameters"
    ]
   },
   "outputs": [],
   "source": [
    "run_no = 0\n",
    "universe_id = \"test\"\n",
    "universe = {\n",
    "    \"training_size\": \"2014\", # \"25k\", \"5k\", \"1k\", \"2014\"\n",
    "    \"scale\": \"scale\", # \"scale\", \"do-not-scale\",\n",
    "    #\"stratify_split\": \"target\", # \"none\", \"target\", \"protected-attribute\", \"both\",\n",
    "    \"model\": \"elasticnet\", # \"logreg\", \"penalized_logreg\", \"rf\", \"gbm\", \"elasticnet\"\n",
    "    \"cutoff\": [\"quantile_0.15\", \"quantile_0.30\"],\n",
    "    \"exclude_features\": \"age\", # \"none\", \"nationality\", \"sex\", \"nationality-sex\", \"age\"\n",
    "    \"exclude_subgroups\": \"keep-all\", # \"keep-all\", \"drop-non-german\"\n",
    "    \"eval_fairness_grouping\": [\"majority-minority\", \"nationality-all\"]\n",
    "}\n",
    "\n",
    "output_dir=\"./output\"\n",
    "seed=0"
   ]
  },
  {
   "cell_type": "code",
   "execution_count": 4,
   "id": "05ac624f",
   "metadata": {
    "execution": {
     "iopub.execute_input": "2025-07-28T10:55:35.364464Z",
     "iopub.status.busy": "2025-07-28T10:55:35.363925Z",
     "iopub.status.idle": "2025-07-28T10:55:35.369310Z",
     "shell.execute_reply": "2025-07-28T10:55:35.368581Z"
    },
    "papermill": {
     "duration": 0.018666,
     "end_time": "2025-07-28T10:55:35.370773",
     "exception": false,
     "start_time": "2025-07-28T10:55:35.352107",
     "status": "completed"
    },
    "tags": [
     "injected-parameters"
    ]
   },
   "outputs": [],
   "source": [
    "# Parameters\n",
    "universe_id = \"8676cb3ff4a36c8d85f6db379b6b6967\"\n",
    "run_no = \"11\"\n",
    "universe = \"{\\\"cutoff\\\": [\\\"quantile_0.1\\\", \\\"quantile_0.25\\\"], \\\"eval_fairness_grouping\\\": [\\\"majority-minority\\\", \\\"nationality-all\\\"], \\\"exclude_features\\\": \\\"nationality\\\", \\\"exclude_subgroups\\\": \\\"drop-non-german\\\", \\\"model\\\": \\\"rf\\\", \\\"scale\\\": \\\"scale\\\", \\\"training_size\\\": \\\"2014\\\"}\"\n",
    "output_dir = \"output\"\n",
    "seed = \"2023\"\n"
   ]
  },
  {
   "cell_type": "code",
   "execution_count": 5,
   "id": "1650acaf",
   "metadata": {
    "execution": {
     "iopub.execute_input": "2025-07-28T10:55:35.394373Z",
     "iopub.status.busy": "2025-07-28T10:55:35.393910Z",
     "iopub.status.idle": "2025-07-28T10:55:35.399692Z",
     "shell.execute_reply": "2025-07-28T10:55:35.398501Z"
    },
    "papermill": {
     "duration": 0.019662,
     "end_time": "2025-07-28T10:55:35.402067",
     "exception": false,
     "start_time": "2025-07-28T10:55:35.382405",
     "status": "completed"
    },
    "tags": []
   },
   "outputs": [],
   "source": [
    "import json\n",
    "# Parse universe into dict if it is passed as a string\n",
    "if isinstance(universe, str):\n",
    "    universe = json.loads(universe)"
   ]
  },
  {
   "cell_type": "code",
   "execution_count": 6,
   "id": "16620c48",
   "metadata": {
    "execution": {
     "iopub.execute_input": "2025-07-28T10:55:35.459839Z",
     "iopub.status.busy": "2025-07-28T10:55:35.458952Z",
     "iopub.status.idle": "2025-07-28T10:55:35.491516Z",
     "shell.execute_reply": "2025-07-28T10:55:35.490672Z"
    },
    "papermill": {
     "duration": 0.058797,
     "end_time": "2025-07-28T10:55:35.493061",
     "exception": false,
     "start_time": "2025-07-28T10:55:35.434264",
     "status": "completed"
    },
    "tags": []
   },
   "outputs": [],
   "source": [
    "# Auto-reload the custom package\n",
    "%load_ext autoreload\n",
    "%autoreload 1\n",
    "%aimport fairness_multiverse"
   ]
  },
  {
   "cell_type": "code",
   "execution_count": 7,
   "id": "01c5c9f3",
   "metadata": {
    "execution": {
     "iopub.execute_input": "2025-07-28T10:55:35.517593Z",
     "iopub.status.busy": "2025-07-28T10:55:35.517060Z",
     "iopub.status.idle": "2025-07-28T10:55:38.314618Z",
     "shell.execute_reply": "2025-07-28T10:55:38.313368Z"
    },
    "papermill": {
     "duration": 2.811876,
     "end_time": "2025-07-28T10:55:38.316677",
     "exception": false,
     "start_time": "2025-07-28T10:55:35.504801",
     "status": "completed"
    },
    "tags": []
   },
   "outputs": [],
   "source": [
    "from fairness_multiverse.universe import UniverseAnalysis\n",
    "\n",
    "universe_analysis = UniverseAnalysis(\n",
    "    run_no = run_no,\n",
    "    universe_id = universe_id,\n",
    "    universe = universe,\n",
    "    output_dir=output_dir,\n",
    ")"
   ]
  },
  {
   "cell_type": "code",
   "execution_count": 8,
   "id": "106241f5",
   "metadata": {
    "execution": {
     "iopub.execute_input": "2025-07-28T10:55:38.424391Z",
     "iopub.status.busy": "2025-07-28T10:55:38.423152Z",
     "iopub.status.idle": "2025-07-28T10:55:38.432386Z",
     "shell.execute_reply": "2025-07-28T10:55:38.431362Z"
    },
    "papermill": {
     "duration": 0.058052,
     "end_time": "2025-07-28T10:55:38.434187",
     "exception": false,
     "start_time": "2025-07-28T10:55:38.376135",
     "status": "completed"
    },
    "tags": []
   },
   "outputs": [
    {
     "name": "stdout",
     "output_type": "stream",
     "text": [
      "Using Seed: 2023\n"
     ]
    }
   ],
   "source": [
    "import numpy as np\n",
    "parsed_seed = int(seed)\n",
    "np.random.seed(parsed_seed)\n",
    "print(f\"Using Seed: {parsed_seed}\")"
   ]
  },
  {
   "cell_type": "markdown",
   "id": "e0ebdc57",
   "metadata": {
    "papermill": {
     "duration": 0.077208,
     "end_time": "2025-07-28T10:55:38.543462",
     "exception": false,
     "start_time": "2025-07-28T10:55:38.466254",
     "status": "completed"
    },
    "tags": []
   },
   "source": [
    "# Loading Data"
   ]
  },
  {
   "cell_type": "markdown",
   "id": "681925a3",
   "metadata": {
    "papermill": {
     "duration": 0.06614,
     "end_time": "2025-07-28T10:55:38.653089",
     "exception": false,
     "start_time": "2025-07-28T10:55:38.586949",
     "status": "completed"
    },
    "tags": []
   },
   "source": [
    "Load siab_train, siab_test, siab_calib and/or \n",
    "load siab_train_features, siab_train_labels"
   ]
  },
  {
   "cell_type": "code",
   "execution_count": 9,
   "id": "f0496b8a",
   "metadata": {
    "execution": {
     "iopub.execute_input": "2025-07-28T10:55:38.741765Z",
     "iopub.status.busy": "2025-07-28T10:55:38.741310Z",
     "iopub.status.idle": "2025-07-28T10:56:07.249758Z",
     "shell.execute_reply": "2025-07-28T10:56:07.248149Z"
    },
    "papermill": {
     "duration": 28.549341,
     "end_time": "2025-07-28T10:56:07.252049",
     "exception": false,
     "start_time": "2025-07-28T10:55:38.702708",
     "status": "completed"
    },
    "tags": []
   },
   "outputs": [
    {
     "name": "stdout",
     "output_type": "stream",
     "text": [
      "Loading SIAB data from cache: data/siab_cached.csv.gz\n"
     ]
    },
    {
     "name": "stdout",
     "output_type": "stream",
     "text": [
      "(643690, 164)\n"
     ]
    }
   ],
   "source": [
    "from pathlib import Path\n",
    "import pandas as pd\n",
    "\n",
    "# File paths\n",
    "raw_file = Path(\"data/raw/siab.csv\")\n",
    "cache_file = Path(\"data/siab_cached.csv.gz\")\n",
    "\n",
    "# Ensure cache directory exists\n",
    "cache_file.parent.mkdir(parents=True, exist_ok=True)\n",
    "\n",
    "# Load with simple caching\n",
    "if cache_file.exists():\n",
    "    print(f\"Loading SIAB data from cache: {cache_file}\")\n",
    "    siab = pd.read_csv(cache_file, compression='gzip')\n",
    "else:\n",
    "    print(f\"Cache not found. Reading raw SIAB data: {raw_file}\")\n",
    "    siab = pd.read_csv(raw_file)\n",
    "    siab.to_csv(cache_file, index=False, compression='gzip')\n",
    "    print(f\"Cached SIAB data to: {cache_file}\")\n",
    "\n",
    "# Now use `siab` DataFrame as needed\n",
    "print(siab.shape)"
   ]
  },
  {
   "cell_type": "code",
   "execution_count": 10,
   "id": "db0ca512-5f53-4dba-abdb-a2888bca41ba",
   "metadata": {
    "execution": {
     "iopub.execute_input": "2025-07-28T10:56:07.351385Z",
     "iopub.status.busy": "2025-07-28T10:56:07.350877Z",
     "iopub.status.idle": "2025-07-28T10:56:07.357920Z",
     "shell.execute_reply": "2025-07-28T10:56:07.356516Z"
    },
    "papermill": {
     "duration": 0.067764,
     "end_time": "2025-07-28T10:56:07.360041",
     "exception": false,
     "start_time": "2025-07-28T10:56:07.292277",
     "status": "completed"
    },
    "tags": []
   },
   "outputs": [],
   "source": [
    "#siab"
   ]
  },
  {
   "cell_type": "code",
   "execution_count": 11,
   "id": "a0edb063",
   "metadata": {
    "execution": {
     "iopub.execute_input": "2025-07-28T10:56:07.458998Z",
     "iopub.status.busy": "2025-07-28T10:56:07.458520Z",
     "iopub.status.idle": "2025-07-28T10:56:07.464645Z",
     "shell.execute_reply": "2025-07-28T10:56:07.463252Z"
    },
    "papermill": {
     "duration": 0.050153,
     "end_time": "2025-07-28T10:56:07.466816",
     "exception": false,
     "start_time": "2025-07-28T10:56:07.416663",
     "status": "completed"
    },
    "tags": []
   },
   "outputs": [],
   "source": [
    "#import pandas as pd\n",
    "#\n",
    "#X_train = pd.read_csv(\"./data/X_train.csv\")\n",
    "#y_train = pd.read_csv(\"./data/y_train.csv\")"
   ]
  },
  {
   "cell_type": "code",
   "execution_count": 12,
   "id": "63d08085",
   "metadata": {
    "execution": {
     "iopub.execute_input": "2025-07-28T10:56:07.567634Z",
     "iopub.status.busy": "2025-07-28T10:56:07.566587Z",
     "iopub.status.idle": "2025-07-28T10:56:07.572725Z",
     "shell.execute_reply": "2025-07-28T10:56:07.571493Z"
    },
    "papermill": {
     "duration": 0.065498,
     "end_time": "2025-07-28T10:56:07.574903",
     "exception": false,
     "start_time": "2025-07-28T10:56:07.509405",
     "status": "completed"
    },
    "tags": []
   },
   "outputs": [],
   "source": [
    "#X_test = pd.read_csv(\"./data/X_test.csv\")\n",
    "#y_true = pd.read_csv(\"./data/y_test.csv\")"
   ]
  },
  {
   "cell_type": "code",
   "execution_count": 13,
   "id": "98a8d0fa-1d3d-4ed8-bb2c-281470e24add",
   "metadata": {
    "execution": {
     "iopub.execute_input": "2025-07-28T10:56:07.671516Z",
     "iopub.status.busy": "2025-07-28T10:56:07.670971Z",
     "iopub.status.idle": "2025-07-28T10:56:07.679449Z",
     "shell.execute_reply": "2025-07-28T10:56:07.678057Z"
    },
    "papermill": {
     "duration": 0.060706,
     "end_time": "2025-07-28T10:56:07.681403",
     "exception": false,
     "start_time": "2025-07-28T10:56:07.620697",
     "status": "completed"
    },
    "tags": []
   },
   "outputs": [],
   "source": [
    "# Calibration data for conformal\n",
    "#X_calib = pd.read_csv(\"./data/X_calib.csv\")\n",
    "#y_calib = pd.read_csv(\"./data/y_calib.csv\")"
   ]
  },
  {
   "cell_type": "markdown",
   "id": "9901737e-04df-44f0-9100-f5ad144ed040",
   "metadata": {
    "papermill": {
     "duration": 0.052145,
     "end_time": "2025-07-28T10:56:07.784729",
     "exception": false,
     "start_time": "2025-07-28T10:56:07.732584",
     "status": "completed"
    },
    "tags": []
   },
   "source": [
    "# Splitting Data and Setting Training Data Size"
   ]
  },
  {
   "cell_type": "code",
   "execution_count": 14,
   "id": "acbc8f7d-8fc8-4e86-8c59-5dcb0f58384b",
   "metadata": {
    "execution": {
     "iopub.execute_input": "2025-07-28T10:56:07.879370Z",
     "iopub.status.busy": "2025-07-28T10:56:07.878818Z",
     "iopub.status.idle": "2025-07-28T10:56:07.891359Z",
     "shell.execute_reply": "2025-07-28T10:56:07.890074Z"
    },
    "papermill": {
     "duration": 0.068874,
     "end_time": "2025-07-28T10:56:07.893661",
     "exception": false,
     "start_time": "2025-07-28T10:56:07.824787",
     "status": "completed"
    },
    "tags": []
   },
   "outputs": [],
   "source": [
    "def sample_by_year(df, training_size, random_state=42):\n",
    "    if training_size == \"2014\":\n",
    "        return df[df[\"year\"] == 2014].reset_index(drop=True)\n",
    "    \n",
    "    size_map = {\n",
    "        \"25k\": 5000,\n",
    "        \"5k\": 1000,\n",
    "        \"1k\": 200\n",
    "    }\n",
    "\n",
    "    if training_size not in size_map:\n",
    "        return df.reset_index(drop=True)  # use all data\n",
    "\n",
    "    n_per_year = size_map[training_size]\n",
    "    grouped = df.groupby(\"year\")\n",
    "    sampled = grouped.apply(lambda x: x.sample(n=min(n_per_year, len(x)), random_state=random_state))\n",
    "    return sampled.reset_index(drop=True)"
   ]
  },
  {
   "cell_type": "code",
   "execution_count": 15,
   "id": "6d931f52-beaf-43ff-9e78-9d44a448d54e",
   "metadata": {
    "execution": {
     "iopub.execute_input": "2025-07-28T10:56:08.003765Z",
     "iopub.status.busy": "2025-07-28T10:56:08.003164Z",
     "iopub.status.idle": "2025-07-28T10:56:08.438421Z",
     "shell.execute_reply": "2025-07-28T10:56:08.437287Z"
    },
    "papermill": {
     "duration": 0.491987,
     "end_time": "2025-07-28T10:56:08.440690",
     "exception": false,
     "start_time": "2025-07-28T10:56:07.948703",
     "status": "completed"
    },
    "tags": []
   },
   "outputs": [],
   "source": [
    "siab_s = sample_by_year(siab, universe[\"training_size\"])"
   ]
  },
  {
   "cell_type": "code",
   "execution_count": 16,
   "id": "5db0a40e-a4e2-4920-be85-b12ae061d70d",
   "metadata": {
    "execution": {
     "iopub.execute_input": "2025-07-28T10:56:08.537463Z",
     "iopub.status.busy": "2025-07-28T10:56:08.537011Z",
     "iopub.status.idle": "2025-07-28T10:56:08.585745Z",
     "shell.execute_reply": "2025-07-28T10:56:08.584133Z"
    },
    "papermill": {
     "duration": 0.092161,
     "end_time": "2025-07-28T10:56:08.588738",
     "exception": false,
     "start_time": "2025-07-28T10:56:08.496577",
     "status": "completed"
    },
    "tags": []
   },
   "outputs": [
    {
     "data": {
      "text/plain": [
       "year\n",
       "2014    87158\n",
       "dtype: int64"
      ]
     },
     "metadata": {},
     "output_type": "display_data"
    }
   ],
   "source": [
    "display(siab_s.groupby(\"year\").size())"
   ]
  },
  {
   "cell_type": "code",
   "execution_count": 17,
   "id": "a561edb4-d032-42cb-8256-22eac1111c64",
   "metadata": {
    "execution": {
     "iopub.execute_input": "2025-07-28T10:56:08.686375Z",
     "iopub.status.busy": "2025-07-28T10:56:08.685919Z",
     "iopub.status.idle": "2025-07-28T10:56:09.266760Z",
     "shell.execute_reply": "2025-07-28T10:56:09.265449Z"
    },
    "papermill": {
     "duration": 0.644789,
     "end_time": "2025-07-28T10:56:09.269341",
     "exception": false,
     "start_time": "2025-07-28T10:56:08.624552",
     "status": "completed"
    },
    "tags": []
   },
   "outputs": [],
   "source": [
    "siab_train = siab_s[siab_s.year < 2015]\n",
    "siab_calib = siab[siab.year == 2015]\n",
    "siab_test = siab[siab.year == 2016]"
   ]
  },
  {
   "cell_type": "code",
   "execution_count": 18,
   "id": "472de16f-c3db-4916-846b-1f0de9cf1746",
   "metadata": {
    "execution": {
     "iopub.execute_input": "2025-07-28T10:56:09.342028Z",
     "iopub.status.busy": "2025-07-28T10:56:09.341485Z",
     "iopub.status.idle": "2025-07-28T10:56:09.415105Z",
     "shell.execute_reply": "2025-07-28T10:56:09.413413Z"
    },
    "papermill": {
     "duration": 0.104464,
     "end_time": "2025-07-28T10:56:09.419784",
     "exception": false,
     "start_time": "2025-07-28T10:56:09.315320",
     "status": "completed"
    },
    "tags": []
   },
   "outputs": [],
   "source": [
    "X_train = siab_train.iloc[:,4:164]\n",
    "y_train = siab_train.iloc[:, [3]]"
   ]
  },
  {
   "cell_type": "code",
   "execution_count": 19,
   "id": "828c96af-f43a-4ed6-ba47-8ac73a47d56c",
   "metadata": {
    "execution": {
     "iopub.execute_input": "2025-07-28T10:56:09.539580Z",
     "iopub.status.busy": "2025-07-28T10:56:09.539021Z",
     "iopub.status.idle": "2025-07-28T10:56:09.650408Z",
     "shell.execute_reply": "2025-07-28T10:56:09.617767Z"
    },
    "papermill": {
     "duration": 0.17574,
     "end_time": "2025-07-28T10:56:09.653145",
     "exception": false,
     "start_time": "2025-07-28T10:56:09.477405",
     "status": "completed"
    },
    "tags": []
   },
   "outputs": [],
   "source": [
    "X_calib = siab_calib.iloc[:,4:164]\n",
    "y_calib = siab_calib.iloc[:, [3]]"
   ]
  },
  {
   "cell_type": "code",
   "execution_count": 20,
   "id": "c34be9c3-6bd6-476e-acd3-845840e303be",
   "metadata": {
    "execution": {
     "iopub.execute_input": "2025-07-28T10:56:09.748720Z",
     "iopub.status.busy": "2025-07-28T10:56:09.748218Z",
     "iopub.status.idle": "2025-07-28T10:56:09.852858Z",
     "shell.execute_reply": "2025-07-28T10:56:09.851088Z"
    },
    "papermill": {
     "duration": 0.146218,
     "end_time": "2025-07-28T10:56:09.855239",
     "exception": false,
     "start_time": "2025-07-28T10:56:09.709021",
     "status": "completed"
    },
    "tags": []
   },
   "outputs": [],
   "source": [
    "X_test = siab_test.iloc[:,4:164]\n",
    "y_true = siab_test.iloc[:, [3]]"
   ]
  },
  {
   "cell_type": "code",
   "execution_count": 21,
   "id": "e6c733c5",
   "metadata": {
    "execution": {
     "iopub.execute_input": "2025-07-28T10:56:10.003040Z",
     "iopub.status.busy": "2025-07-28T10:56:10.002579Z",
     "iopub.status.idle": "2025-07-28T10:56:10.285262Z",
     "shell.execute_reply": "2025-07-28T10:56:10.283968Z"
    },
    "papermill": {
     "duration": 0.370565,
     "end_time": "2025-07-28T10:56:10.287256",
     "exception": false,
     "start_time": "2025-07-28T10:56:09.916691",
     "status": "completed"
    },
    "tags": []
   },
   "outputs": [],
   "source": [
    "# Auxiliary data needed downstream in the pipeline\n",
    "\n",
    "org_train = X_train.copy()\n",
    "org_test = X_test.copy()\n",
    "org_calib = X_calib.copy()"
   ]
  },
  {
   "cell_type": "markdown",
   "id": "0a4a1b33",
   "metadata": {
    "papermill": {
     "duration": 0.044072,
     "end_time": "2025-07-28T10:56:10.376656",
     "exception": false,
     "start_time": "2025-07-28T10:56:10.332584",
     "status": "completed"
    },
    "tags": []
   },
   "source": [
    "# Preprocessing Data"
   ]
  },
  {
   "cell_type": "code",
   "execution_count": 22,
   "id": "ca879031",
   "metadata": {
    "execution": {
     "iopub.execute_input": "2025-07-28T10:56:10.438013Z",
     "iopub.status.busy": "2025-07-28T10:56:10.436885Z",
     "iopub.status.idle": "2025-07-28T10:56:10.443535Z",
     "shell.execute_reply": "2025-07-28T10:56:10.442628Z"
    },
    "papermill": {
     "duration": 0.031751,
     "end_time": "2025-07-28T10:56:10.446144",
     "exception": false,
     "start_time": "2025-07-28T10:56:10.414393",
     "status": "completed"
    },
    "tags": []
   },
   "outputs": [],
   "source": [
    "# EXCLUDE PROTECTED FEATURES\n",
    "# ----------------------\n",
    "# \"exclude_features\": \"none\", # \"nationality\", \"sex\", \"nationality-sex\"\n",
    "\n",
    "excluded_features = universe[\"exclude_features\"].split(\"-\") # split, e.g.: \"nationality-sex\" -> [\"nationality\", \"sex\"]\n",
    "excluded_features_dictionary = {\n",
    "    \"nationality\": [\"maxdeutsch1\", \"maxdeutsch.Missing.\"],\n",
    "    \"sex\": [\"frau1\"],\n",
    "    \"age\": [\"age\"],\n",
    "}\n"
   ]
  },
  {
   "cell_type": "code",
   "execution_count": 23,
   "id": "b745ac60",
   "metadata": {
    "execution": {
     "iopub.execute_input": "2025-07-28T10:56:10.485804Z",
     "iopub.status.busy": "2025-07-28T10:56:10.485406Z",
     "iopub.status.idle": "2025-07-28T10:56:10.494006Z",
     "shell.execute_reply": "2025-07-28T10:56:10.490232Z"
    },
    "papermill": {
     "duration": 0.026025,
     "end_time": "2025-07-28T10:56:10.496408",
     "exception": false,
     "start_time": "2025-07-28T10:56:10.470383",
     "status": "completed"
    },
    "tags": []
   },
   "outputs": [],
   "source": [
    "# Code nice names to column names\n",
    "\n",
    "excluded_features_columns = [\n",
    "    excluded_features_dictionary[f] for f in excluded_features if len(f) > 0 and f != \"none\"\n",
    "]"
   ]
  },
  {
   "cell_type": "code",
   "execution_count": 24,
   "id": "f84f73a2",
   "metadata": {
    "execution": {
     "iopub.execute_input": "2025-07-28T10:56:10.527220Z",
     "iopub.status.busy": "2025-07-28T10:56:10.526782Z",
     "iopub.status.idle": "2025-07-28T10:56:10.537226Z",
     "shell.execute_reply": "2025-07-28T10:56:10.536130Z"
    },
    "papermill": {
     "duration": 0.026025,
     "end_time": "2025-07-28T10:56:10.539362",
     "exception": false,
     "start_time": "2025-07-28T10:56:10.513337",
     "status": "completed"
    },
    "tags": []
   },
   "outputs": [],
   "source": [
    "from utils import flatten_once\n",
    "\n",
    "excluded_features_columns = flatten_once(excluded_features_columns)"
   ]
  },
  {
   "cell_type": "code",
   "execution_count": 25,
   "id": "884dea22",
   "metadata": {
    "execution": {
     "iopub.execute_input": "2025-07-28T10:56:10.580313Z",
     "iopub.status.busy": "2025-07-28T10:56:10.579824Z",
     "iopub.status.idle": "2025-07-28T10:56:10.633155Z",
     "shell.execute_reply": "2025-07-28T10:56:10.632075Z"
    },
    "papermill": {
     "duration": 0.073219,
     "end_time": "2025-07-28T10:56:10.634974",
     "exception": false,
     "start_time": "2025-07-28T10:56:10.561755",
     "status": "completed"
    },
    "tags": []
   },
   "outputs": [
    {
     "name": "stdout",
     "output_type": "stream",
     "text": [
      "Dropping features: ['maxdeutsch1', 'maxdeutsch.Missing.']\n"
     ]
    }
   ],
   "source": [
    "if len(excluded_features_columns) > 0:\n",
    "    print(f\"Dropping features: {excluded_features_columns}\")\n",
    "    X_train.drop(excluded_features_columns, axis=1, inplace=True)"
   ]
  },
  {
   "cell_type": "code",
   "execution_count": 26,
   "id": "95ab8b16",
   "metadata": {
    "execution": {
     "iopub.execute_input": "2025-07-28T10:56:10.682725Z",
     "iopub.status.busy": "2025-07-28T10:56:10.682327Z",
     "iopub.status.idle": "2025-07-28T10:56:10.740487Z",
     "shell.execute_reply": "2025-07-28T10:56:10.739093Z"
    },
    "papermill": {
     "duration": 0.084586,
     "end_time": "2025-07-28T10:56:10.742795",
     "exception": false,
     "start_time": "2025-07-28T10:56:10.658209",
     "status": "completed"
    },
    "tags": []
   },
   "outputs": [
    {
     "name": "stdout",
     "output_type": "stream",
     "text": [
      "Dropping features: ['maxdeutsch1', 'maxdeutsch.Missing.']\n"
     ]
    }
   ],
   "source": [
    "if len(excluded_features_columns) > 0:\n",
    "    print(f\"Dropping features: {excluded_features_columns}\")\n",
    "    X_test.drop(excluded_features_columns, axis=1, inplace=True)"
   ]
  },
  {
   "cell_type": "code",
   "execution_count": 27,
   "id": "1853aaf5-fb9f-46cb-a2b5-8ea4ae2237e4",
   "metadata": {
    "execution": {
     "iopub.execute_input": "2025-07-28T10:56:10.791809Z",
     "iopub.status.busy": "2025-07-28T10:56:10.790926Z",
     "iopub.status.idle": "2025-07-28T10:56:10.849113Z",
     "shell.execute_reply": "2025-07-28T10:56:10.848019Z"
    },
    "papermill": {
     "duration": 0.085156,
     "end_time": "2025-07-28T10:56:10.851410",
     "exception": false,
     "start_time": "2025-07-28T10:56:10.766254",
     "status": "completed"
    },
    "tags": []
   },
   "outputs": [
    {
     "name": "stdout",
     "output_type": "stream",
     "text": [
      "Dropping features: ['maxdeutsch1', 'maxdeutsch.Missing.']\n"
     ]
    }
   ],
   "source": [
    "if len(excluded_features_columns) > 0:\n",
    "    print(f\"Dropping features: {excluded_features_columns}\")\n",
    "    X_calib.drop(excluded_features_columns, axis=1, inplace=True)"
   ]
  },
  {
   "cell_type": "code",
   "execution_count": 28,
   "id": "6727d079-03e5-481e-9d38-292a90b7a0a8",
   "metadata": {
    "execution": {
     "iopub.execute_input": "2025-07-28T10:56:10.898421Z",
     "iopub.status.busy": "2025-07-28T10:56:10.898006Z",
     "iopub.status.idle": "2025-07-28T10:56:10.903316Z",
     "shell.execute_reply": "2025-07-28T10:56:10.902459Z"
    },
    "papermill": {
     "duration": 0.032023,
     "end_time": "2025-07-28T10:56:10.906126",
     "exception": false,
     "start_time": "2025-07-28T10:56:10.874103",
     "status": "completed"
    },
    "tags": []
   },
   "outputs": [],
   "source": [
    "# SPLIT & STRATIFY DATA\n",
    "# ----------------------"
   ]
  },
  {
   "cell_type": "code",
   "execution_count": 29,
   "id": "76c4dc6d",
   "metadata": {
    "execution": {
     "iopub.execute_input": "2025-07-28T10:56:10.970471Z",
     "iopub.status.busy": "2025-07-28T10:56:10.969984Z",
     "iopub.status.idle": "2025-07-28T10:56:10.976320Z",
     "shell.execute_reply": "2025-07-28T10:56:10.975242Z"
    },
    "papermill": {
     "duration": 0.050605,
     "end_time": "2025-07-28T10:56:10.980002",
     "exception": false,
     "start_time": "2025-07-28T10:56:10.929397",
     "status": "completed"
    },
    "tags": []
   },
   "outputs": [],
   "source": [
    "# EXCLUDE CERTAIN SUBGROUPS\n",
    "# ----------------------\n",
    "\n",
    "mode = universe.get(\"exclude_subgroups\", \"keep-all\") \n",
    "# Fetches the exclude_subgroups setting from the universe dict.\n",
    "# Defaults to \"keep-all\" if the key is missing."
   ]
  },
  {
   "cell_type": "code",
   "execution_count": 30,
   "id": "21994072",
   "metadata": {
    "execution": {
     "iopub.execute_input": "2025-07-28T10:56:11.030004Z",
     "iopub.status.busy": "2025-07-28T10:56:11.029511Z",
     "iopub.status.idle": "2025-07-28T10:56:11.039267Z",
     "shell.execute_reply": "2025-07-28T10:56:11.037399Z"
    },
    "papermill": {
     "duration": 0.043101,
     "end_time": "2025-07-28T10:56:11.046692",
     "exception": false,
     "start_time": "2025-07-28T10:56:11.003591",
     "status": "completed"
    },
    "tags": []
   },
   "outputs": [],
   "source": [
    "if mode == \"keep-all\":\n",
    "    keep_mask = pd.Series(True, index=org_train.index)\n",
    "\n",
    "# org_train contains the original feature columns from features_org (in Simson)\n",
    "# features_org contains unprocessed features, for me X_train at beginning ???\n",
    "# For keep-all, creates a boolean Series (keep_mask) of all True, so no rows are removed.\n",
    "\n",
    "elif mode == \"drop-non-german\":\n",
    "    keep_mask = org_train[\"maxdeutsch1\"] == 1 # ??? what about missing values?\n",
    "\n",
    "else:\n",
    "    raise ValueError(f\"Unsupported mode for exclude_subgroups: {mode}\")\n"
   ]
  },
  {
   "cell_type": "code",
   "execution_count": 31,
   "id": "71651440",
   "metadata": {
    "execution": {
     "iopub.execute_input": "2025-07-28T10:56:11.105872Z",
     "iopub.status.busy": "2025-07-28T10:56:11.105453Z",
     "iopub.status.idle": "2025-07-28T10:56:11.113252Z",
     "shell.execute_reply": "2025-07-28T10:56:11.112271Z"
    },
    "papermill": {
     "duration": 0.036241,
     "end_time": "2025-07-28T10:56:11.117919",
     "exception": false,
     "start_time": "2025-07-28T10:56:11.081678",
     "status": "completed"
    },
    "tags": []
   },
   "outputs": [
    {
     "name": "stdout",
     "output_type": "stream",
     "text": [
      "Dropping 12995 rows (14.91%) where mode='drop-non-german'\n"
     ]
    }
   ],
   "source": [
    "n_drop = (~keep_mask).sum() # Calculates how many rows are set to be dropped\n",
    "if n_drop > 0:\n",
    "    pct = n_drop / len(keep_mask) * 100\n",
    "    print(f\"Dropping {n_drop} rows ({pct:.2f}%) where mode='{mode}'\")"
   ]
  },
  {
   "cell_type": "code",
   "execution_count": 32,
   "id": "5fb8eee5",
   "metadata": {
    "execution": {
     "iopub.execute_input": "2025-07-28T10:56:11.165549Z",
     "iopub.status.busy": "2025-07-28T10:56:11.165108Z",
     "iopub.status.idle": "2025-07-28T10:56:11.214782Z",
     "shell.execute_reply": "2025-07-28T10:56:11.213563Z"
    },
    "papermill": {
     "duration": 0.075742,
     "end_time": "2025-07-28T10:56:11.217090",
     "exception": false,
     "start_time": "2025-07-28T10:56:11.141348",
     "status": "completed"
    },
    "tags": []
   },
   "outputs": [],
   "source": [
    "X_train = X_train[keep_mask]"
   ]
  },
  {
   "cell_type": "code",
   "execution_count": 33,
   "id": "b202bb3a",
   "metadata": {
    "execution": {
     "iopub.execute_input": "2025-07-28T10:56:11.271822Z",
     "iopub.status.busy": "2025-07-28T10:56:11.271395Z",
     "iopub.status.idle": "2025-07-28T10:56:11.284439Z",
     "shell.execute_reply": "2025-07-28T10:56:11.282687Z"
    },
    "papermill": {
     "duration": 0.062395,
     "end_time": "2025-07-28T10:56:11.304434",
     "exception": false,
     "start_time": "2025-07-28T10:56:11.242039",
     "status": "completed"
    },
    "tags": []
   },
   "outputs": [],
   "source": [
    "y_train = y_train[keep_mask]"
   ]
  },
  {
   "cell_type": "markdown",
   "id": "493e2ac3",
   "metadata": {
    "papermill": {
     "duration": 0.02283,
     "end_time": "2025-07-28T10:56:11.349671",
     "exception": false,
     "start_time": "2025-07-28T10:56:11.326841",
     "status": "completed"
    },
    "tags": []
   },
   "source": [
    "# Model Training"
   ]
  },
  {
   "cell_type": "code",
   "execution_count": 34,
   "id": "679e1268",
   "metadata": {
    "execution": {
     "iopub.execute_input": "2025-07-28T10:56:11.397482Z",
     "iopub.status.busy": "2025-07-28T10:56:11.397006Z",
     "iopub.status.idle": "2025-07-28T10:56:11.709078Z",
     "shell.execute_reply": "2025-07-28T10:56:11.707552Z"
    },
    "papermill": {
     "duration": 0.337892,
     "end_time": "2025-07-28T10:56:11.710980",
     "exception": false,
     "start_time": "2025-07-28T10:56:11.373088",
     "status": "completed"
    },
    "tags": []
   },
   "outputs": [],
   "source": [
    "from sklearn.linear_model import LogisticRegression\n",
    "from sklearn.ensemble import GradientBoostingClassifier, RandomForestClassifier\n",
    "\n",
    "if (universe[\"model\"] == \"logreg\"):\n",
    "    model = LogisticRegression() #penalty=\"none\") #, solver=\"newton-cg\", max_iter=1) # include random_state=19 ?\n",
    "elif (universe[\"model\"] == \"penalized_logreg\"):\n",
    "    model = LogisticRegression(penalty=\"l2\", C=1.0) #, solver=\"newton-cg\", max_iter=1)\n",
    "elif (universe[\"model\"] == \"rf\"):\n",
    "    model = RandomForestClassifier(n_estimators=100, n_jobs=-1)\n",
    "elif (universe[\"model\"] == \"gbm\"):\n",
    "    model = GradientBoostingClassifier()\n",
    "elif (universe[\"model\"] == \"elasticnet\"):\n",
    "    model = LogisticRegression(penalty = 'elasticnet', solver = 'saga', l1_ratio = 0.5, max_iter=5000) # which solver to use?\n",
    "else:\n",
    "    raise \"Unsupported universe.model\""
   ]
  },
  {
   "cell_type": "code",
   "execution_count": 35,
   "id": "0cc8f744",
   "metadata": {
    "execution": {
     "iopub.execute_input": "2025-07-28T10:56:11.782918Z",
     "iopub.status.busy": "2025-07-28T10:56:11.782281Z",
     "iopub.status.idle": "2025-07-28T10:56:11.791479Z",
     "shell.execute_reply": "2025-07-28T10:56:11.789888Z"
    },
    "papermill": {
     "duration": 0.050157,
     "end_time": "2025-07-28T10:56:11.796381",
     "exception": false,
     "start_time": "2025-07-28T10:56:11.746224",
     "status": "completed"
    },
    "tags": []
   },
   "outputs": [],
   "source": [
    "import numpy as np\n",
    "from sklearn.pipeline import Pipeline\n",
    "from sklearn.preprocessing import StandardScaler\n",
    "\n",
    "model = Pipeline([\n",
    "    #(\"continuous_processor\", continuous_processor),\n",
    "    #(\"categorical_preprocessor\", categorical_preprocessor),\n",
    "    (\"scale\", StandardScaler() if universe[\"scale\"] == \"scale\" else None), \n",
    "    (\"model\", model),\n",
    "])"
   ]
  },
  {
   "cell_type": "code",
   "execution_count": 36,
   "id": "9442c04d",
   "metadata": {
    "execution": {
     "iopub.execute_input": "2025-07-28T10:56:11.862251Z",
     "iopub.status.busy": "2025-07-28T10:56:11.860996Z",
     "iopub.status.idle": "2025-07-28T10:56:27.506109Z",
     "shell.execute_reply": "2025-07-28T10:56:27.504911Z"
    },
    "papermill": {
     "duration": 15.679096,
     "end_time": "2025-07-28T10:56:27.507873",
     "exception": false,
     "start_time": "2025-07-28T10:56:11.828777",
     "status": "completed"
    },
    "tags": []
   },
   "outputs": [
    {
     "data": {
      "text/html": [
       "<style>#sk-container-id-1 {color: black;background-color: white;}#sk-container-id-1 pre{padding: 0;}#sk-container-id-1 div.sk-toggleable {background-color: white;}#sk-container-id-1 label.sk-toggleable__label {cursor: pointer;display: block;width: 100%;margin-bottom: 0;padding: 0.3em;box-sizing: border-box;text-align: center;}#sk-container-id-1 label.sk-toggleable__label-arrow:before {content: \"▸\";float: left;margin-right: 0.25em;color: #696969;}#sk-container-id-1 label.sk-toggleable__label-arrow:hover:before {color: black;}#sk-container-id-1 div.sk-estimator:hover label.sk-toggleable__label-arrow:before {color: black;}#sk-container-id-1 div.sk-toggleable__content {max-height: 0;max-width: 0;overflow: hidden;text-align: left;background-color: #f0f8ff;}#sk-container-id-1 div.sk-toggleable__content pre {margin: 0.2em;color: black;border-radius: 0.25em;background-color: #f0f8ff;}#sk-container-id-1 input.sk-toggleable__control:checked~div.sk-toggleable__content {max-height: 200px;max-width: 100%;overflow: auto;}#sk-container-id-1 input.sk-toggleable__control:checked~label.sk-toggleable__label-arrow:before {content: \"▾\";}#sk-container-id-1 div.sk-estimator input.sk-toggleable__control:checked~label.sk-toggleable__label {background-color: #d4ebff;}#sk-container-id-1 div.sk-label input.sk-toggleable__control:checked~label.sk-toggleable__label {background-color: #d4ebff;}#sk-container-id-1 input.sk-hidden--visually {border: 0;clip: rect(1px 1px 1px 1px);clip: rect(1px, 1px, 1px, 1px);height: 1px;margin: -1px;overflow: hidden;padding: 0;position: absolute;width: 1px;}#sk-container-id-1 div.sk-estimator {font-family: monospace;background-color: #f0f8ff;border: 1px dotted black;border-radius: 0.25em;box-sizing: border-box;margin-bottom: 0.5em;}#sk-container-id-1 div.sk-estimator:hover {background-color: #d4ebff;}#sk-container-id-1 div.sk-parallel-item::after {content: \"\";width: 100%;border-bottom: 1px solid gray;flex-grow: 1;}#sk-container-id-1 div.sk-label:hover label.sk-toggleable__label {background-color: #d4ebff;}#sk-container-id-1 div.sk-serial::before {content: \"\";position: absolute;border-left: 1px solid gray;box-sizing: border-box;top: 0;bottom: 0;left: 50%;z-index: 0;}#sk-container-id-1 div.sk-serial {display: flex;flex-direction: column;align-items: center;background-color: white;padding-right: 0.2em;padding-left: 0.2em;position: relative;}#sk-container-id-1 div.sk-item {position: relative;z-index: 1;}#sk-container-id-1 div.sk-parallel {display: flex;align-items: stretch;justify-content: center;background-color: white;position: relative;}#sk-container-id-1 div.sk-item::before, #sk-container-id-1 div.sk-parallel-item::before {content: \"\";position: absolute;border-left: 1px solid gray;box-sizing: border-box;top: 0;bottom: 0;left: 50%;z-index: -1;}#sk-container-id-1 div.sk-parallel-item {display: flex;flex-direction: column;z-index: 1;position: relative;background-color: white;}#sk-container-id-1 div.sk-parallel-item:first-child::after {align-self: flex-end;width: 50%;}#sk-container-id-1 div.sk-parallel-item:last-child::after {align-self: flex-start;width: 50%;}#sk-container-id-1 div.sk-parallel-item:only-child::after {width: 0;}#sk-container-id-1 div.sk-dashed-wrapped {border: 1px dashed gray;margin: 0 0.4em 0.5em 0.4em;box-sizing: border-box;padding-bottom: 0.4em;background-color: white;}#sk-container-id-1 div.sk-label label {font-family: monospace;font-weight: bold;display: inline-block;line-height: 1.2em;}#sk-container-id-1 div.sk-label-container {text-align: center;}#sk-container-id-1 div.sk-container {/* jupyter's `normalize.less` sets `[hidden] { display: none; }` but bootstrap.min.css set `[hidden] { display: none !important; }` so we also need the `!important` here to be able to override the default hidden behavior on the sphinx rendered scikit-learn.org. See: https://github.com/scikit-learn/scikit-learn/issues/21755 */display: inline-block !important;position: relative;}#sk-container-id-1 div.sk-text-repr-fallback {display: none;}</style><div id=\"sk-container-id-1\" class=\"sk-top-container\"><div class=\"sk-text-repr-fallback\"><pre>Pipeline(steps=[(&#x27;scale&#x27;, StandardScaler()),\n",
       "                (&#x27;model&#x27;, RandomForestClassifier(n_jobs=-1))])</pre><b>In a Jupyter environment, please rerun this cell to show the HTML representation or trust the notebook. <br />On GitHub, the HTML representation is unable to render, please try loading this page with nbviewer.org.</b></div><div class=\"sk-container\" hidden><div class=\"sk-item sk-dashed-wrapped\"><div class=\"sk-label-container\"><div class=\"sk-label sk-toggleable\"><input class=\"sk-toggleable__control sk-hidden--visually\" id=\"sk-estimator-id-1\" type=\"checkbox\" ><label for=\"sk-estimator-id-1\" class=\"sk-toggleable__label sk-toggleable__label-arrow\">Pipeline</label><div class=\"sk-toggleable__content\"><pre>Pipeline(steps=[(&#x27;scale&#x27;, StandardScaler()),\n",
       "                (&#x27;model&#x27;, RandomForestClassifier(n_jobs=-1))])</pre></div></div></div><div class=\"sk-serial\"><div class=\"sk-item\"><div class=\"sk-estimator sk-toggleable\"><input class=\"sk-toggleable__control sk-hidden--visually\" id=\"sk-estimator-id-2\" type=\"checkbox\" ><label for=\"sk-estimator-id-2\" class=\"sk-toggleable__label sk-toggleable__label-arrow\">StandardScaler</label><div class=\"sk-toggleable__content\"><pre>StandardScaler()</pre></div></div></div><div class=\"sk-item\"><div class=\"sk-estimator sk-toggleable\"><input class=\"sk-toggleable__control sk-hidden--visually\" id=\"sk-estimator-id-3\" type=\"checkbox\" ><label for=\"sk-estimator-id-3\" class=\"sk-toggleable__label sk-toggleable__label-arrow\">RandomForestClassifier</label><div class=\"sk-toggleable__content\"><pre>RandomForestClassifier(n_jobs=-1)</pre></div></div></div></div></div></div></div>"
      ],
      "text/plain": [
       "Pipeline(steps=[('scale', StandardScaler()),\n",
       "                ('model', RandomForestClassifier(n_jobs=-1))])"
      ]
     },
     "execution_count": 36,
     "metadata": {},
     "output_type": "execute_result"
    }
   ],
   "source": [
    "model.fit(X_train, y_train.values.ravel())"
   ]
  },
  {
   "cell_type": "code",
   "execution_count": 37,
   "id": "af59f8c0",
   "metadata": {
    "execution": {
     "iopub.execute_input": "2025-07-28T10:56:27.626751Z",
     "iopub.status.busy": "2025-07-28T10:56:27.626304Z",
     "iopub.status.idle": "2025-07-28T10:56:27.632974Z",
     "shell.execute_reply": "2025-07-28T10:56:27.631923Z"
    },
    "papermill": {
     "duration": 0.061196,
     "end_time": "2025-07-28T10:56:27.635278",
     "exception": false,
     "start_time": "2025-07-28T10:56:27.574082",
     "status": "completed"
    },
    "tags": []
   },
   "outputs": [],
   "source": [
    "from fairness_multiverse.universe import predict_w_threshold"
   ]
  },
  {
   "cell_type": "code",
   "execution_count": 38,
   "id": "a7cf2e16",
   "metadata": {
    "execution": {
     "iopub.execute_input": "2025-07-28T10:56:27.743474Z",
     "iopub.status.busy": "2025-07-28T10:56:27.743067Z",
     "iopub.status.idle": "2025-07-28T10:56:30.012342Z",
     "shell.execute_reply": "2025-07-28T10:56:30.011205Z"
    },
    "papermill": {
     "duration": 2.32502,
     "end_time": "2025-07-28T10:56:30.014511",
     "exception": false,
     "start_time": "2025-07-28T10:56:27.689491",
     "status": "completed"
    },
    "tags": []
   },
   "outputs": [
    {
     "data": {
      "text/plain": [
       "0.8659346784082043"
      ]
     },
     "execution_count": 38,
     "metadata": {},
     "output_type": "execute_result"
    }
   ],
   "source": [
    "probs_test = model.predict_proba(X_test)\n",
    "\n",
    "'''\n",
    "Below code returns a boolean array (or binary 0/1 array depending on how it’s used) where each element \n",
    "is True if the probability of class 1 is greater than or equal to the threshold, and False otherwise.\n",
    "'''\n",
    "y_pred_default = predict_w_threshold(probs_test, 0.5)\n",
    "\n",
    "from sklearn.metrics import accuracy_score\n",
    "\n",
    "# Naive prediction\n",
    "accuracy_score(y_true = y_true, y_pred = y_pred_default)"
   ]
  },
  {
   "cell_type": "code",
   "execution_count": 39,
   "id": "081964c3",
   "metadata": {
    "execution": {
     "iopub.execute_input": "2025-07-28T10:56:30.086229Z",
     "iopub.status.busy": "2025-07-28T10:56:30.085782Z",
     "iopub.status.idle": "2025-07-28T10:56:32.033071Z",
     "shell.execute_reply": "2025-07-28T10:56:32.031891Z"
    },
    "papermill": {
     "duration": 1.990556,
     "end_time": "2025-07-28T10:56:32.034941",
     "exception": false,
     "start_time": "2025-07-28T10:56:30.044385",
     "status": "completed"
    },
    "tags": []
   },
   "outputs": [
    {
     "data": {
      "text/plain": [
       "array([0, 0, 0, ..., 0, 0, 0])"
      ]
     },
     "execution_count": 39,
     "metadata": {},
     "output_type": "execute_result"
    }
   ],
   "source": [
    "model.predict(X_test)"
   ]
  },
  {
   "cell_type": "markdown",
   "id": "56c9705b",
   "metadata": {
    "papermill": {
     "duration": 0.024251,
     "end_time": "2025-07-28T10:56:32.087106",
     "exception": false,
     "start_time": "2025-07-28T10:56:32.062855",
     "status": "completed"
    },
    "tags": []
   },
   "source": [
    "# Conformal Prediction"
   ]
  },
  {
   "cell_type": "code",
   "execution_count": 40,
   "id": "160ec6ff",
   "metadata": {
    "execution": {
     "iopub.execute_input": "2025-07-28T10:56:32.137892Z",
     "iopub.status.busy": "2025-07-28T10:56:32.137363Z",
     "iopub.status.idle": "2025-07-28T10:56:32.143264Z",
     "shell.execute_reply": "2025-07-28T10:56:32.142301Z"
    },
    "papermill": {
     "duration": 0.035003,
     "end_time": "2025-07-28T10:56:32.145230",
     "exception": false,
     "start_time": "2025-07-28T10:56:32.110227",
     "status": "completed"
    },
    "tags": []
   },
   "outputs": [],
   "source": [
    "# Miscoverage level for conformal prediction (10% allowed error rate => 90% target coverage)\n",
    "alpha = 0.1"
   ]
  },
  {
   "cell_type": "code",
   "execution_count": 41,
   "id": "eadf4555-3dd3-440e-8e35-f82a4ad9f855",
   "metadata": {
    "execution": {
     "iopub.execute_input": "2025-07-28T10:56:32.197339Z",
     "iopub.status.busy": "2025-07-28T10:56:32.196756Z",
     "iopub.status.idle": "2025-07-28T10:56:33.911655Z",
     "shell.execute_reply": "2025-07-28T10:56:33.910766Z"
    },
    "papermill": {
     "duration": 1.74344,
     "end_time": "2025-07-28T10:56:33.913768",
     "exception": false,
     "start_time": "2025-07-28T10:56:32.170328",
     "status": "completed"
    },
    "tags": []
   },
   "outputs": [],
   "source": [
    "probs_calib = model.predict_proba(X_calib)"
   ]
  },
  {
   "cell_type": "code",
   "execution_count": 42,
   "id": "2ed93547-6d5d-4983-9b36-1ecb300da49a",
   "metadata": {
    "execution": {
     "iopub.execute_input": "2025-07-28T10:56:33.953223Z",
     "iopub.status.busy": "2025-07-28T10:56:33.952654Z",
     "iopub.status.idle": "2025-07-28T10:56:33.958146Z",
     "shell.execute_reply": "2025-07-28T10:56:33.957377Z"
    },
    "papermill": {
     "duration": 0.020667,
     "end_time": "2025-07-28T10:56:33.959520",
     "exception": false,
     "start_time": "2025-07-28T10:56:33.938853",
     "status": "completed"
    },
    "tags": []
   },
   "outputs": [],
   "source": [
    "y_calib = y_calib.values.ravel().astype(int)"
   ]
  },
  {
   "cell_type": "code",
   "execution_count": 43,
   "id": "65d1320d-f588-4b38-9072-62af1ae97f7d",
   "metadata": {
    "execution": {
     "iopub.execute_input": "2025-07-28T10:56:33.987914Z",
     "iopub.status.busy": "2025-07-28T10:56:33.987128Z",
     "iopub.status.idle": "2025-07-28T10:56:33.993836Z",
     "shell.execute_reply": "2025-07-28T10:56:33.993000Z"
    },
    "papermill": {
     "duration": 0.022235,
     "end_time": "2025-07-28T10:56:33.995362",
     "exception": false,
     "start_time": "2025-07-28T10:56:33.973127",
     "status": "completed"
    },
    "tags": []
   },
   "outputs": [],
   "source": [
    "from fairness_multiverse.conformal import compute_nc_scores\n",
    "\n",
    "# Compute nonconformity scores on calibration set (1 - probability of true class)\n",
    "nc_scores = compute_nc_scores(probs_calib, y_calib)"
   ]
  },
  {
   "cell_type": "code",
   "execution_count": 44,
   "id": "df3b8ca3-53b7-43d5-9667-7c85da7aeda2",
   "metadata": {
    "execution": {
     "iopub.execute_input": "2025-07-28T10:56:34.022658Z",
     "iopub.status.busy": "2025-07-28T10:56:34.022096Z",
     "iopub.status.idle": "2025-07-28T10:56:34.028709Z",
     "shell.execute_reply": "2025-07-28T10:56:34.027766Z"
    },
    "papermill": {
     "duration": 0.021648,
     "end_time": "2025-07-28T10:56:34.030314",
     "exception": false,
     "start_time": "2025-07-28T10:56:34.008666",
     "status": "completed"
    },
    "tags": []
   },
   "outputs": [],
   "source": [
    "from fairness_multiverse.conformal import find_threshold\n",
    "\n",
    "# Find conformal threshold q_hat for the given alpha (split conformal method)\n",
    "q_hat = find_threshold(nc_scores, alpha)"
   ]
  },
  {
   "cell_type": "code",
   "execution_count": 45,
   "id": "4d29e6c1-0ef6-4aa4-b8fe-4fe79b0d033a",
   "metadata": {
    "execution": {
     "iopub.execute_input": "2025-07-28T10:56:34.058874Z",
     "iopub.status.busy": "2025-07-28T10:56:34.058087Z",
     "iopub.status.idle": "2025-07-28T10:56:34.065186Z",
     "shell.execute_reply": "2025-07-28T10:56:34.064392Z"
    },
    "papermill": {
     "duration": 0.02286,
     "end_time": "2025-07-28T10:56:34.066547",
     "exception": false,
     "start_time": "2025-07-28T10:56:34.043687",
     "status": "completed"
    },
    "tags": []
   },
   "outputs": [
    {
     "data": {
      "text/plain": [
       "0.6599999999999999"
      ]
     },
     "execution_count": 45,
     "metadata": {},
     "output_type": "execute_result"
    }
   ],
   "source": [
    "q_hat"
   ]
  },
  {
   "cell_type": "code",
   "execution_count": 46,
   "id": "92460794-cdac-4be2-ba28-f28c0515a6fb",
   "metadata": {
    "execution": {
     "iopub.execute_input": "2025-07-28T10:56:34.094891Z",
     "iopub.status.busy": "2025-07-28T10:56:34.094117Z",
     "iopub.status.idle": "2025-07-28T10:56:36.625799Z",
     "shell.execute_reply": "2025-07-28T10:56:36.624684Z"
    },
    "papermill": {
     "duration": 2.547051,
     "end_time": "2025-07-28T10:56:36.627449",
     "exception": false,
     "start_time": "2025-07-28T10:56:34.080398",
     "status": "completed"
    },
    "tags": []
   },
   "outputs": [],
   "source": [
    "from fairness_multiverse.conformal import predict_conformal_sets\n",
    "\n",
    "# Generate prediction sets for each test example\n",
    "pred_sets = predict_conformal_sets(model, X_test, q_hat)"
   ]
  },
  {
   "cell_type": "code",
   "execution_count": 47,
   "id": "d90c9a65-e6db-4f5d-80cd-e68fb7e46829",
   "metadata": {
    "execution": {
     "iopub.execute_input": "2025-07-28T10:56:36.738697Z",
     "iopub.status.busy": "2025-07-28T10:56:36.738233Z",
     "iopub.status.idle": "2025-07-28T10:56:36.745187Z",
     "shell.execute_reply": "2025-07-28T10:56:36.744150Z"
    },
    "papermill": {
     "duration": 0.064333,
     "end_time": "2025-07-28T10:56:36.747188",
     "exception": false,
     "start_time": "2025-07-28T10:56:36.682855",
     "status": "completed"
    },
    "tags": []
   },
   "outputs": [],
   "source": [
    "y_true = y_true.squeeze()"
   ]
  },
  {
   "cell_type": "code",
   "execution_count": 48,
   "id": "3a58a54a-1e68-46b9-927a-df01f18aebc8",
   "metadata": {
    "execution": {
     "iopub.execute_input": "2025-07-28T10:56:36.831479Z",
     "iopub.status.busy": "2025-07-28T10:56:36.831048Z",
     "iopub.status.idle": "2025-07-28T10:56:37.837498Z",
     "shell.execute_reply": "2025-07-28T10:56:37.836127Z"
    },
    "papermill": {
     "duration": 1.034764,
     "end_time": "2025-07-28T10:56:37.839469",
     "exception": false,
     "start_time": "2025-07-28T10:56:36.804705",
     "status": "completed"
    },
    "tags": []
   },
   "outputs": [],
   "source": [
    "from fairness_multiverse.conformal import evaluate_sets\n",
    "\n",
    "# Evaluate coverage and average set size on test data\n",
    "metrics = evaluate_sets(pred_sets, y_true)"
   ]
  },
  {
   "cell_type": "markdown",
   "id": "2b569c12-9aaa-4c88-98c9-bbcd0cf3ebb8",
   "metadata": {
    "papermill": {
     "duration": 0.116227,
     "end_time": "2025-07-28T10:56:38.000069",
     "exception": false,
     "start_time": "2025-07-28T10:56:37.883842",
     "status": "completed"
    },
    "tags": []
   },
   "source": [
    "# CP Metrics"
   ]
  },
  {
   "cell_type": "code",
   "execution_count": 49,
   "id": "5ce0a5cb-201f-45a0-ade5-94c7f0bd6095",
   "metadata": {
    "execution": {
     "iopub.execute_input": "2025-07-28T10:56:38.133229Z",
     "iopub.status.busy": "2025-07-28T10:56:38.132708Z",
     "iopub.status.idle": "2025-07-28T10:56:38.141549Z",
     "shell.execute_reply": "2025-07-28T10:56:38.140368Z"
    },
    "papermill": {
     "duration": 0.072773,
     "end_time": "2025-07-28T10:56:38.143440",
     "exception": false,
     "start_time": "2025-07-28T10:56:38.070667",
     "status": "completed"
    },
    "tags": []
   },
   "outputs": [
    {
     "data": {
      "text/plain": [
       "{'coverage': 0.9164641623007469, 'avg_size': 1.1429495039571953}"
      ]
     },
     "execution_count": 49,
     "metadata": {},
     "output_type": "execute_result"
    }
   ],
   "source": [
    "metrics"
   ]
  },
  {
   "cell_type": "code",
   "execution_count": 50,
   "id": "9b9a838d-31c9-430b-ae14-12baee460d17",
   "metadata": {
    "execution": {
     "iopub.execute_input": "2025-07-28T10:56:38.262416Z",
     "iopub.status.busy": "2025-07-28T10:56:38.261845Z",
     "iopub.status.idle": "2025-07-28T10:56:38.268977Z",
     "shell.execute_reply": "2025-07-28T10:56:38.267910Z"
    },
    "papermill": {
     "duration": 0.065259,
     "end_time": "2025-07-28T10:56:38.270622",
     "exception": false,
     "start_time": "2025-07-28T10:56:38.205363",
     "status": "completed"
    },
    "tags": []
   },
   "outputs": [],
   "source": [
    "example_universe = universe.copy()\n",
    "universe_training_size = example_universe.get(\"training_size\")\n",
    "universe_scale = example_universe.get(\"scale\")\n",
    "universe_model = example_universe.get(\"model\")\n",
    "universe_exclude_features = example_universe.get(\"exclude_features\")\n",
    "universe_exclude_subgroups = example_universe.get(\"exclude_subgroups\")"
   ]
  },
  {
   "cell_type": "code",
   "execution_count": 51,
   "id": "f4b6a8ac-9dc0-4245-8a91-5b3b5999c4f9",
   "metadata": {
    "execution": {
     "iopub.execute_input": "2025-07-28T10:56:38.390568Z",
     "iopub.status.busy": "2025-07-28T10:56:38.390126Z",
     "iopub.status.idle": "2025-07-28T10:56:38.397524Z",
     "shell.execute_reply": "2025-07-28T10:56:38.396477Z"
    },
    "papermill": {
     "duration": 0.055936,
     "end_time": "2025-07-28T10:56:38.402672",
     "exception": false,
     "start_time": "2025-07-28T10:56:38.346736",
     "status": "completed"
    },
    "tags": []
   },
   "outputs": [],
   "source": [
    "cp_metrics_dict = {\n",
    "    \"universe_id\": [universe_id],\n",
    "    \"universe_training_size\": [universe_training_size],\n",
    "    \"universe_scale\": [universe_scale],\n",
    "    \"universe_model\": [universe_model],\n",
    "    \"universe_exclude_features\": [universe_exclude_features],\n",
    "    \"universe_exclude_subgroups\": [universe_exclude_subgroups],\n",
    "    \"q_hat\": [q_hat],\n",
    "    \"coverage\": [metrics[\"coverage\"]],\n",
    "    \"avg_size\": [metrics[\"avg_size\"]],\n",
    "}"
   ]
  },
  {
   "cell_type": "code",
   "execution_count": 52,
   "id": "908acbb1-0371-4915-85ca-3fa520d2efe2",
   "metadata": {
    "execution": {
     "iopub.execute_input": "2025-07-28T10:56:38.550287Z",
     "iopub.status.busy": "2025-07-28T10:56:38.549821Z",
     "iopub.status.idle": "2025-07-28T10:56:38.558984Z",
     "shell.execute_reply": "2025-07-28T10:56:38.557817Z"
    },
    "papermill": {
     "duration": 0.106876,
     "end_time": "2025-07-28T10:56:38.560814",
     "exception": false,
     "start_time": "2025-07-28T10:56:38.453938",
     "status": "completed"
    },
    "tags": []
   },
   "outputs": [
    {
     "data": {
      "text/plain": [
       "{'universe_id': ['8676cb3ff4a36c8d85f6db379b6b6967'],\n",
       " 'universe_training_size': ['2014'],\n",
       " 'universe_scale': ['scale'],\n",
       " 'universe_model': ['rf'],\n",
       " 'universe_exclude_features': ['nationality'],\n",
       " 'universe_exclude_subgroups': ['drop-non-german'],\n",
       " 'q_hat': [0.6599999999999999],\n",
       " 'coverage': [0.9164641623007469],\n",
       " 'avg_size': [1.1429495039571953]}"
      ]
     },
     "execution_count": 52,
     "metadata": {},
     "output_type": "execute_result"
    }
   ],
   "source": [
    "cp_metrics_dict"
   ]
  },
  {
   "cell_type": "code",
   "execution_count": 53,
   "id": "33007efc-14e9-4ec6-97ac-56a455c82265",
   "metadata": {
    "execution": {
     "iopub.execute_input": "2025-07-28T10:56:38.638323Z",
     "iopub.status.busy": "2025-07-28T10:56:38.637884Z",
     "iopub.status.idle": "2025-07-28T10:56:38.645376Z",
     "shell.execute_reply": "2025-07-28T10:56:38.644278Z"
    },
    "papermill": {
     "duration": 0.04011,
     "end_time": "2025-07-28T10:56:38.648824",
     "exception": false,
     "start_time": "2025-07-28T10:56:38.608714",
     "status": "completed"
    },
    "tags": []
   },
   "outputs": [],
   "source": [
    "cp_metrics_df = pd.DataFrame(cp_metrics_dict)"
   ]
  },
  {
   "cell_type": "code",
   "execution_count": 54,
   "id": "db12611b-57b2-4910-b9d0-355adfd6e7bf",
   "metadata": {
    "execution": {
     "iopub.execute_input": "2025-07-28T10:56:38.706639Z",
     "iopub.status.busy": "2025-07-28T10:56:38.706207Z",
     "iopub.status.idle": "2025-07-28T10:56:38.750727Z",
     "shell.execute_reply": "2025-07-28T10:56:38.749486Z"
    },
    "papermill": {
     "duration": 0.07623,
     "end_time": "2025-07-28T10:56:38.753370",
     "exception": false,
     "start_time": "2025-07-28T10:56:38.677140",
     "status": "completed"
    },
    "tags": []
   },
   "outputs": [
    {
     "data": {
      "text/html": [
       "<div>\n",
       "<style scoped>\n",
       "    .dataframe tbody tr th:only-of-type {\n",
       "        vertical-align: middle;\n",
       "    }\n",
       "\n",
       "    .dataframe tbody tr th {\n",
       "        vertical-align: top;\n",
       "    }\n",
       "\n",
       "    .dataframe thead th {\n",
       "        text-align: right;\n",
       "    }\n",
       "</style>\n",
       "<table border=\"1\" class=\"dataframe\">\n",
       "  <thead>\n",
       "    <tr style=\"text-align: right;\">\n",
       "      <th></th>\n",
       "      <th>universe_id</th>\n",
       "      <th>universe_training_size</th>\n",
       "      <th>universe_scale</th>\n",
       "      <th>universe_model</th>\n",
       "      <th>universe_exclude_features</th>\n",
       "      <th>universe_exclude_subgroups</th>\n",
       "      <th>q_hat</th>\n",
       "      <th>coverage</th>\n",
       "      <th>avg_size</th>\n",
       "    </tr>\n",
       "  </thead>\n",
       "  <tbody>\n",
       "    <tr>\n",
       "      <th>0</th>\n",
       "      <td>8676cb3ff4a36c8d85f6db379b6b6967</td>\n",
       "      <td>2014</td>\n",
       "      <td>scale</td>\n",
       "      <td>rf</td>\n",
       "      <td>nationality</td>\n",
       "      <td>drop-non-german</td>\n",
       "      <td>0.66</td>\n",
       "      <td>0.916464</td>\n",
       "      <td>1.14295</td>\n",
       "    </tr>\n",
       "  </tbody>\n",
       "</table>\n",
       "</div>"
      ],
      "text/plain": [
       "                        universe_id universe_training_size universe_scale  \\\n",
       "0  8676cb3ff4a36c8d85f6db379b6b6967                   2014          scale   \n",
       "\n",
       "  universe_model universe_exclude_features universe_exclude_subgroups  q_hat  \\\n",
       "0             rf               nationality            drop-non-german   0.66   \n",
       "\n",
       "   coverage  avg_size  \n",
       "0  0.916464   1.14295  "
      ]
     },
     "execution_count": 54,
     "metadata": {},
     "output_type": "execute_result"
    }
   ],
   "source": [
    "cp_metrics_df"
   ]
  },
  {
   "cell_type": "code",
   "execution_count": 55,
   "id": "b7fbde55-a0a1-47e4-9af6-fe4a17fa8c61",
   "metadata": {
    "execution": {
     "iopub.execute_input": "2025-07-28T10:56:38.827184Z",
     "iopub.status.busy": "2025-07-28T10:56:38.826699Z",
     "iopub.status.idle": "2025-07-28T10:56:38.832586Z",
     "shell.execute_reply": "2025-07-28T10:56:38.831420Z"
    },
    "papermill": {
     "duration": 0.039532,
     "end_time": "2025-07-28T10:56:38.836650",
     "exception": false,
     "start_time": "2025-07-28T10:56:38.797118",
     "status": "completed"
    },
    "tags": []
   },
   "outputs": [],
   "source": [
    "# Conditional Coverage & looking at subgroups"
   ]
  },
  {
   "cell_type": "code",
   "execution_count": 56,
   "id": "027ae886-68dd-4141-96c7-805a5450e1ef",
   "metadata": {
    "execution": {
     "iopub.execute_input": "2025-07-28T10:56:38.895379Z",
     "iopub.status.busy": "2025-07-28T10:56:38.894879Z",
     "iopub.status.idle": "2025-07-28T10:56:39.220713Z",
     "shell.execute_reply": "2025-07-28T10:56:39.219613Z"
    },
    "papermill": {
     "duration": 0.357448,
     "end_time": "2025-07-28T10:56:39.222600",
     "exception": false,
     "start_time": "2025-07-28T10:56:38.865152",
     "status": "completed"
    },
    "tags": []
   },
   "outputs": [],
   "source": [
    "from fairness_multiverse.conformal import build_cp_groups\n",
    "\n",
    "cp_groups_df = build_cp_groups(pred_sets, y_true, X_test.index, org_test)\n",
    "#needs universe_id and setting"
   ]
  },
  {
   "cell_type": "code",
   "execution_count": 57,
   "id": "01d5802c-663a-4d1f-9d69-e036faaffbf7",
   "metadata": {
    "execution": {
     "iopub.execute_input": "2025-07-28T10:56:39.278982Z",
     "iopub.status.busy": "2025-07-28T10:56:39.277935Z",
     "iopub.status.idle": "2025-07-28T10:56:39.284478Z",
     "shell.execute_reply": "2025-07-28T10:56:39.282703Z"
    },
    "papermill": {
     "duration": 0.038114,
     "end_time": "2025-07-28T10:56:39.287632",
     "exception": false,
     "start_time": "2025-07-28T10:56:39.249518",
     "status": "completed"
    },
    "tags": []
   },
   "outputs": [],
   "source": [
    "#delete\n",
    "#cp_groups_df"
   ]
  },
  {
   "cell_type": "code",
   "execution_count": 58,
   "id": "fa424af1-d1eb-443d-b717-2d279ada8408",
   "metadata": {
    "execution": {
     "iopub.execute_input": "2025-07-28T10:56:39.343965Z",
     "iopub.status.busy": "2025-07-28T10:56:39.343182Z",
     "iopub.status.idle": "2025-07-28T10:56:39.348961Z",
     "shell.execute_reply": "2025-07-28T10:56:39.347833Z"
    },
    "papermill": {
     "duration": 0.035687,
     "end_time": "2025-07-28T10:56:39.350617",
     "exception": false,
     "start_time": "2025-07-28T10:56:39.314930",
     "status": "completed"
    },
    "tags": []
   },
   "outputs": [],
   "source": [
    "#delete\n",
    "#percentage = (cp_groups_df['nongerman_female'] == 1).mean() * 100\n",
    "#print(percentage)\n"
   ]
  },
  {
   "cell_type": "code",
   "execution_count": 59,
   "id": "6cbdab96-b2b2-45af-ad54-d0516db2e28d",
   "metadata": {
    "execution": {
     "iopub.execute_input": "2025-07-28T10:56:39.383348Z",
     "iopub.status.busy": "2025-07-28T10:56:39.382878Z",
     "iopub.status.idle": "2025-07-28T10:56:40.946321Z",
     "shell.execute_reply": "2025-07-28T10:56:40.945544Z"
    },
    "papermill": {
     "duration": 1.580431,
     "end_time": "2025-07-28T10:56:40.947789",
     "exception": false,
     "start_time": "2025-07-28T10:56:39.367358",
     "status": "completed"
    },
    "tags": []
   },
   "outputs": [],
   "source": [
    "# Define covered = 1 if true_label is in the predicted set\n",
    "cp_groups_df['covered'] = cp_groups_df.apply(\n",
    "    lambda r: int(r['true_label'] in r['pred_set']),\n",
    "    axis=1\n",
    ")"
   ]
  },
  {
   "cell_type": "code",
   "execution_count": 60,
   "id": "338ff529-1a6b-4b87-a931-8e4788d52aad",
   "metadata": {
    "execution": {
     "iopub.execute_input": "2025-07-28T10:56:40.981927Z",
     "iopub.status.busy": "2025-07-28T10:56:40.981164Z",
     "iopub.status.idle": "2025-07-28T10:56:40.987855Z",
     "shell.execute_reply": "2025-07-28T10:56:40.986706Z"
    },
    "papermill": {
     "duration": 0.025542,
     "end_time": "2025-07-28T10:56:40.989550",
     "exception": false,
     "start_time": "2025-07-28T10:56:40.964008",
     "status": "completed"
    },
    "tags": []
   },
   "outputs": [],
   "source": [
    "#cp_groups_df"
   ]
  },
  {
   "cell_type": "code",
   "execution_count": 61,
   "id": "90032e27-66df-4540-9169-4e89cfbaa758",
   "metadata": {
    "execution": {
     "iopub.execute_input": "2025-07-28T10:56:41.045713Z",
     "iopub.status.busy": "2025-07-28T10:56:41.044775Z",
     "iopub.status.idle": "2025-07-28T10:56:41.056632Z",
     "shell.execute_reply": "2025-07-28T10:56:41.055650Z"
    },
    "papermill": {
     "duration": 0.043133,
     "end_time": "2025-07-28T10:56:41.058346",
     "exception": false,
     "start_time": "2025-07-28T10:56:41.015213",
     "status": "completed"
    },
    "tags": []
   },
   "outputs": [],
   "source": [
    "subgroups = ['frau1','nongerman','nongerman_male','nongerman_female']\n",
    "\n",
    "# Conditional coverage for subgroup==1\n",
    "cond_coverage = {\n",
    "    g: cp_groups_df.loc[cp_groups_df[g]==1, 'covered'].mean()\n",
    "    for g in subgroups\n",
    "}"
   ]
  },
  {
   "cell_type": "code",
   "execution_count": 62,
   "id": "1e348fb1-b9c3-45bc-ba23-f016827a7e0d",
   "metadata": {
    "execution": {
     "iopub.execute_input": "2025-07-28T10:56:41.112557Z",
     "iopub.status.busy": "2025-07-28T10:56:41.111640Z",
     "iopub.status.idle": "2025-07-28T10:56:41.120236Z",
     "shell.execute_reply": "2025-07-28T10:56:41.119046Z"
    },
    "papermill": {
     "duration": 0.038582,
     "end_time": "2025-07-28T10:56:41.121950",
     "exception": false,
     "start_time": "2025-07-28T10:56:41.083368",
     "status": "completed"
    },
    "tags": []
   },
   "outputs": [
    {
     "data": {
      "text/plain": [
       "{'frau1': 0.9160803342768568,\n",
       " 'nongerman': 0.9124796496940437,\n",
       " 'nongerman_male': 0.9266864811312258,\n",
       " 'nongerman_female': 0.8889716840536512}"
      ]
     },
     "execution_count": 62,
     "metadata": {},
     "output_type": "execute_result"
    }
   ],
   "source": [
    "cond_coverage"
   ]
  },
  {
   "cell_type": "code",
   "execution_count": 63,
   "id": "f5093324-c3dd-4d63-bc4c-8d945e5c8bbb",
   "metadata": {
    "execution": {
     "iopub.execute_input": "2025-07-28T10:56:41.175337Z",
     "iopub.status.busy": "2025-07-28T10:56:41.174576Z",
     "iopub.status.idle": "2025-07-28T10:56:41.183166Z",
     "shell.execute_reply": "2025-07-28T10:56:41.181973Z"
    },
    "papermill": {
     "duration": 0.0393,
     "end_time": "2025-07-28T10:56:41.187248",
     "exception": false,
     "start_time": "2025-07-28T10:56:41.147948",
     "status": "completed"
    },
    "tags": []
   },
   "outputs": [],
   "source": [
    "for subgroup, cov in cond_coverage.items():\n",
    "    cp_metrics_df[f\"cov_{subgroup}\"] = cov"
   ]
  },
  {
   "cell_type": "code",
   "execution_count": 64,
   "id": "6e872e10-dbe5-49e8-b554-5030c98ff75d",
   "metadata": {
    "execution": {
     "iopub.execute_input": "2025-07-28T10:56:41.241197Z",
     "iopub.status.busy": "2025-07-28T10:56:41.240513Z",
     "iopub.status.idle": "2025-07-28T10:56:41.261792Z",
     "shell.execute_reply": "2025-07-28T10:56:41.260665Z"
    },
    "papermill": {
     "duration": 0.050843,
     "end_time": "2025-07-28T10:56:41.263799",
     "exception": false,
     "start_time": "2025-07-28T10:56:41.212956",
     "status": "completed"
    },
    "tags": []
   },
   "outputs": [
    {
     "data": {
      "text/html": [
       "<div>\n",
       "<style scoped>\n",
       "    .dataframe tbody tr th:only-of-type {\n",
       "        vertical-align: middle;\n",
       "    }\n",
       "\n",
       "    .dataframe tbody tr th {\n",
       "        vertical-align: top;\n",
       "    }\n",
       "\n",
       "    .dataframe thead th {\n",
       "        text-align: right;\n",
       "    }\n",
       "</style>\n",
       "<table border=\"1\" class=\"dataframe\">\n",
       "  <thead>\n",
       "    <tr style=\"text-align: right;\">\n",
       "      <th></th>\n",
       "      <th>universe_id</th>\n",
       "      <th>universe_training_size</th>\n",
       "      <th>universe_scale</th>\n",
       "      <th>universe_model</th>\n",
       "      <th>universe_exclude_features</th>\n",
       "      <th>universe_exclude_subgroups</th>\n",
       "      <th>q_hat</th>\n",
       "      <th>coverage</th>\n",
       "      <th>avg_size</th>\n",
       "      <th>cov_frau1</th>\n",
       "      <th>cov_nongerman</th>\n",
       "      <th>cov_nongerman_male</th>\n",
       "      <th>cov_nongerman_female</th>\n",
       "    </tr>\n",
       "  </thead>\n",
       "  <tbody>\n",
       "    <tr>\n",
       "      <th>0</th>\n",
       "      <td>8676cb3ff4a36c8d85f6db379b6b6967</td>\n",
       "      <td>2014</td>\n",
       "      <td>scale</td>\n",
       "      <td>rf</td>\n",
       "      <td>nationality</td>\n",
       "      <td>drop-non-german</td>\n",
       "      <td>0.66</td>\n",
       "      <td>0.916464</td>\n",
       "      <td>1.14295</td>\n",
       "      <td>0.91608</td>\n",
       "      <td>0.91248</td>\n",
       "      <td>0.926686</td>\n",
       "      <td>0.888972</td>\n",
       "    </tr>\n",
       "  </tbody>\n",
       "</table>\n",
       "</div>"
      ],
      "text/plain": [
       "                        universe_id universe_training_size universe_scale  \\\n",
       "0  8676cb3ff4a36c8d85f6db379b6b6967                   2014          scale   \n",
       "\n",
       "  universe_model universe_exclude_features universe_exclude_subgroups  q_hat  \\\n",
       "0             rf               nationality            drop-non-german   0.66   \n",
       "\n",
       "   coverage  avg_size  cov_frau1  cov_nongerman  cov_nongerman_male  \\\n",
       "0  0.916464   1.14295    0.91608        0.91248            0.926686   \n",
       "\n",
       "   cov_nongerman_female  \n",
       "0              0.888972  "
      ]
     },
     "execution_count": 64,
     "metadata": {},
     "output_type": "execute_result"
    }
   ],
   "source": [
    "cp_metrics_df"
   ]
  },
  {
   "cell_type": "markdown",
   "id": "33774451",
   "metadata": {
    "papermill": {
     "duration": 0.034038,
     "end_time": "2025-07-28T10:56:41.332943",
     "exception": false,
     "start_time": "2025-07-28T10:56:41.298905",
     "status": "completed"
    },
    "tags": []
   },
   "source": [
    "# (Fairness) Metrics"
   ]
  },
  {
   "cell_type": "code",
   "execution_count": 65,
   "id": "debc5d62",
   "metadata": {
    "execution": {
     "iopub.execute_input": "2025-07-28T10:56:41.400205Z",
     "iopub.status.busy": "2025-07-28T10:56:41.399697Z",
     "iopub.status.idle": "2025-07-28T10:56:41.423027Z",
     "shell.execute_reply": "2025-07-28T10:56:41.421909Z"
    },
    "papermill": {
     "duration": 0.058639,
     "end_time": "2025-07-28T10:56:41.425772",
     "exception": false,
     "start_time": "2025-07-28T10:56:41.367133",
     "status": "completed"
    },
    "tags": []
   },
   "outputs": [],
   "source": [
    "# do I need to include maxdeutsch1.missing?\n",
    "\n",
    "import numpy as np\n",
    "\n",
    "colname_to_bin = \"maxdeutsch1\"\n",
    "majority_value = org_train[colname_to_bin].mode()[0]\n",
    "\n",
    "org_test[\"majmin\"] = np.where(org_test[colname_to_bin] == majority_value, \"majority\", \"minority\")"
   ]
  },
  {
   "cell_type": "code",
   "execution_count": 66,
   "id": "06a50de5",
   "metadata": {
    "execution": {
     "iopub.execute_input": "2025-07-28T10:56:41.488636Z",
     "iopub.status.busy": "2025-07-28T10:56:41.487529Z",
     "iopub.status.idle": "2025-07-28T10:56:44.034901Z",
     "shell.execute_reply": "2025-07-28T10:56:44.033822Z"
    },
    "papermill": {
     "duration": 2.570455,
     "end_time": "2025-07-28T10:56:44.036900",
     "exception": false,
     "start_time": "2025-07-28T10:56:41.466445",
     "status": "completed"
    },
    "tags": []
   },
   "outputs": [],
   "source": [
    "example_universe = universe.copy()\n",
    "example_universe[\"cutoff\"] = example_universe[\"cutoff\"][0]\n",
    "example_universe[\"eval_fairness_grouping\"] = example_universe[\"eval_fairness_grouping\"][0]\n",
    "fairness_dict, metric_frame = universe_analysis.compute_metrics(\n",
    "    example_universe,\n",
    "    y_pred_prob=probs_test,\n",
    "    y_test=y_true,\n",
    "    org_test=org_test,\n",
    ")"
   ]
  },
  {
   "cell_type": "markdown",
   "id": "f95d4e02",
   "metadata": {
    "papermill": {
     "duration": 0.057937,
     "end_time": "2025-07-28T10:56:44.146840",
     "exception": false,
     "start_time": "2025-07-28T10:56:44.088903",
     "status": "completed"
    },
    "tags": []
   },
   "source": [
    "# Overall"
   ]
  },
  {
   "cell_type": "markdown",
   "id": "bdee4871",
   "metadata": {
    "papermill": {
     "duration": 0.056211,
     "end_time": "2025-07-28T10:56:44.260798",
     "exception": false,
     "start_time": "2025-07-28T10:56:44.204587",
     "status": "completed"
    },
    "tags": []
   },
   "source": [
    "Fairness\n",
    "Main fairness target: Equalized Odds. Seems to be a better fit than equal opportunity, since we're not only interested in Y = 1. Seems to be a better fit than demographic parity, since we also care about accuracy, not just equal distribution of preds.\n",
    "\n",
    "Pick column for computation of fairness metrics\n",
    "\n",
    "Performance\n",
    "Overall performance measures, most interesting in relation to the measures split by group below"
   ]
  },
  {
   "cell_type": "code",
   "execution_count": 67,
   "id": "c4e067c6",
   "metadata": {
    "execution": {
     "iopub.execute_input": "2025-07-28T10:56:44.368181Z",
     "iopub.status.busy": "2025-07-28T10:56:44.367712Z",
     "iopub.status.idle": "2025-07-28T10:56:44.377606Z",
     "shell.execute_reply": "2025-07-28T10:56:44.376472Z"
    },
    "papermill": {
     "duration": 0.069693,
     "end_time": "2025-07-28T10:56:44.379549",
     "exception": false,
     "start_time": "2025-07-28T10:56:44.309856",
     "status": "completed"
    },
    "tags": []
   },
   "outputs": [
    {
     "data": {
      "text/plain": [
       "accuracy                   0.208026\n",
       "balanced accuracy          0.534735\n",
       "f1                         0.239884\n",
       "precision                  0.136783\n",
       "false positive rate        0.904721\n",
       "false negative rate        0.025808\n",
       "selection rate             0.913633\n",
       "count                  89710.000000\n",
       "dtype: float64"
      ]
     },
     "execution_count": 67,
     "metadata": {},
     "output_type": "execute_result"
    }
   ],
   "source": [
    "metric_frame.overall"
   ]
  },
  {
   "cell_type": "markdown",
   "id": "e968fe9d",
   "metadata": {
    "papermill": {
     "duration": 0.060223,
     "end_time": "2025-07-28T10:56:44.496784",
     "exception": false,
     "start_time": "2025-07-28T10:56:44.436561",
     "status": "completed"
    },
    "tags": []
   },
   "source": [
    "By Group"
   ]
  },
  {
   "cell_type": "code",
   "execution_count": 68,
   "id": "ec325bce",
   "metadata": {
    "execution": {
     "iopub.execute_input": "2025-07-28T10:56:44.593862Z",
     "iopub.status.busy": "2025-07-28T10:56:44.593415Z",
     "iopub.status.idle": "2025-07-28T10:56:44.630611Z",
     "shell.execute_reply": "2025-07-28T10:56:44.629543Z"
    },
    "papermill": {
     "duration": 0.084642,
     "end_time": "2025-07-28T10:56:44.633247",
     "exception": false,
     "start_time": "2025-07-28T10:56:44.548605",
     "status": "completed"
    },
    "tags": []
   },
   "outputs": [
    {
     "data": {
      "text/html": [
       "<div>\n",
       "<style scoped>\n",
       "    .dataframe tbody tr th:only-of-type {\n",
       "        vertical-align: middle;\n",
       "    }\n",
       "\n",
       "    .dataframe tbody tr th {\n",
       "        vertical-align: top;\n",
       "    }\n",
       "\n",
       "    .dataframe thead th {\n",
       "        text-align: right;\n",
       "    }\n",
       "</style>\n",
       "<table border=\"1\" class=\"dataframe\">\n",
       "  <thead>\n",
       "    <tr style=\"text-align: right;\">\n",
       "      <th></th>\n",
       "      <th>accuracy</th>\n",
       "      <th>balanced accuracy</th>\n",
       "      <th>f1</th>\n",
       "      <th>precision</th>\n",
       "      <th>false positive rate</th>\n",
       "      <th>false negative rate</th>\n",
       "      <th>selection rate</th>\n",
       "      <th>count</th>\n",
       "    </tr>\n",
       "    <tr>\n",
       "      <th>majmin</th>\n",
       "      <th></th>\n",
       "      <th></th>\n",
       "      <th></th>\n",
       "      <th></th>\n",
       "      <th></th>\n",
       "      <th></th>\n",
       "      <th></th>\n",
       "      <th></th>\n",
       "    </tr>\n",
       "  </thead>\n",
       "  <tbody>\n",
       "    <tr>\n",
       "      <th>majority</th>\n",
       "      <td>0.200260</td>\n",
       "      <td>0.534795</td>\n",
       "      <td>0.246410</td>\n",
       "      <td>0.140728</td>\n",
       "      <td>0.919907</td>\n",
       "      <td>0.010503</td>\n",
       "      <td>0.929102</td>\n",
       "      <td>69170.0</td>\n",
       "    </tr>\n",
       "    <tr>\n",
       "      <th>minority</th>\n",
       "      <td>0.234177</td>\n",
       "      <td>0.530281</td>\n",
       "      <td>0.216009</td>\n",
       "      <td>0.122457</td>\n",
       "      <td>0.854556</td>\n",
       "      <td>0.084882</td>\n",
       "      <td>0.861538</td>\n",
       "      <td>20540.0</td>\n",
       "    </tr>\n",
       "  </tbody>\n",
       "</table>\n",
       "</div>"
      ],
      "text/plain": [
       "          accuracy  balanced accuracy        f1  precision  \\\n",
       "majmin                                                       \n",
       "majority  0.200260           0.534795  0.246410   0.140728   \n",
       "minority  0.234177           0.530281  0.216009   0.122457   \n",
       "\n",
       "          false positive rate  false negative rate  selection rate    count  \n",
       "majmin                                                                       \n",
       "majority             0.919907             0.010503        0.929102  69170.0  \n",
       "minority             0.854556             0.084882        0.861538  20540.0  "
      ]
     },
     "execution_count": 68,
     "metadata": {},
     "output_type": "execute_result"
    }
   ],
   "source": [
    "metric_frame.by_group"
   ]
  },
  {
   "cell_type": "code",
   "execution_count": 69,
   "id": "a9ddbe63",
   "metadata": {
    "execution": {
     "iopub.execute_input": "2025-07-28T10:56:44.753578Z",
     "iopub.status.busy": "2025-07-28T10:56:44.753115Z",
     "iopub.status.idle": "2025-07-28T10:56:49.541485Z",
     "shell.execute_reply": "2025-07-28T10:56:49.540467Z"
    },
    "papermill": {
     "duration": 4.850407,
     "end_time": "2025-07-28T10:56:49.543147",
     "exception": false,
     "start_time": "2025-07-28T10:56:44.692740",
     "status": "completed"
    },
    "tags": []
   },
   "outputs": [
    {
     "data": {
      "text/plain": [
       "array([[<Axes: title={'center': 'accuracy'}, xlabel='majmin'>,\n",
       "        <Axes: title={'center': 'balanced accuracy'}, xlabel='majmin'>,\n",
       "        <Axes: title={'center': 'f1'}, xlabel='majmin'>],\n",
       "       [<Axes: title={'center': 'precision'}, xlabel='majmin'>,\n",
       "        <Axes: title={'center': 'false positive rate'}, xlabel='majmin'>,\n",
       "        <Axes: title={'center': 'false negative rate'}, xlabel='majmin'>],\n",
       "       [<Axes: title={'center': 'selection rate'}, xlabel='majmin'>,\n",
       "        <Axes: title={'center': 'count'}, xlabel='majmin'>,\n",
       "        <Axes: xlabel='majmin'>]], dtype=object)"
      ]
     },
     "execution_count": 69,
     "metadata": {},
     "output_type": "execute_result"
    },
    {
     "data": {
      "image/png": "[encoded data removed]",
      "text/plain": [
       "<Figure size 1200x800 with 9 Axes>"
      ]
     },
     "metadata": {},
     "output_type": "display_data"
    }
   ],
   "source": [
    "# In a graphic\n",
    "metric_frame.by_group.plot.bar(\n",
    "    subplots=True,\n",
    "    layout=[3, 3],\n",
    "    legend=False,\n",
    "    figsize=[12, 8],\n",
    "    title=\"Show all metrics\",\n",
    ")"
   ]
  },
  {
   "cell_type": "markdown",
   "id": "f57a0bac",
   "metadata": {
    "papermill": {
     "duration": 0.028562,
     "end_time": "2025-07-28T10:56:49.630013",
     "exception": false,
     "start_time": "2025-07-28T10:56:49.601451",
     "status": "completed"
    },
    "tags": []
   },
   "source": [
    "# Final Output"
   ]
  },
  {
   "cell_type": "code",
   "execution_count": 70,
   "id": "96d280a3",
   "metadata": {
    "execution": {
     "iopub.execute_input": "2025-07-28T10:56:49.688946Z",
     "iopub.status.busy": "2025-07-28T10:56:49.688343Z",
     "iopub.status.idle": "2025-07-28T10:56:49.698339Z",
     "shell.execute_reply": "2025-07-28T10:56:49.697394Z"
    },
    "papermill": {
     "duration": 0.042376,
     "end_time": "2025-07-28T10:56:49.701754",
     "exception": false,
     "start_time": "2025-07-28T10:56:49.659378",
     "status": "completed"
    },
    "tags": []
   },
   "outputs": [
    {
     "data": {
      "text/plain": [
       "4"
      ]
     },
     "execution_count": 70,
     "metadata": {},
     "output_type": "execute_result"
    }
   ],
   "source": [
    "sub_universes = universe_analysis.generate_sub_universes()\n",
    "len(sub_universes)"
   ]
  },
  {
   "cell_type": "code",
   "execution_count": 71,
   "id": "92adf7ba",
   "metadata": {
    "execution": {
     "iopub.execute_input": "2025-07-28T10:56:49.763719Z",
     "iopub.status.busy": "2025-07-28T10:56:49.763322Z",
     "iopub.status.idle": "2025-07-28T10:56:49.769792Z",
     "shell.execute_reply": "2025-07-28T10:56:49.768930Z"
    },
    "papermill": {
     "duration": 0.041196,
     "end_time": "2025-07-28T10:56:49.773161",
     "exception": false,
     "start_time": "2025-07-28T10:56:49.731965",
     "status": "completed"
    },
    "tags": []
   },
   "outputs": [],
   "source": [
    "def filter_sub_universe_data(sub_universe, org_test):\n",
    "    # Keep all rows — no filtering\n",
    "    keep_rows_mask = np.ones(org_test.shape[0], dtype=bool)\n",
    "\n",
    "    print(f\"[INFO] Keeping all rows: {keep_rows_mask.sum()} rows retained.\")\n",
    "    return keep_rows_mask"
   ]
  },
  {
   "cell_type": "code",
   "execution_count": 72,
   "id": "4a759155",
   "metadata": {
    "execution": {
     "iopub.execute_input": "2025-07-28T10:56:49.867204Z",
     "iopub.status.busy": "2025-07-28T10:56:49.866756Z",
     "iopub.status.idle": "2025-07-28T10:57:07.541845Z",
     "shell.execute_reply": "2025-07-28T10:57:07.540810Z"
    },
    "papermill": {
     "duration": 17.738837,
     "end_time": "2025-07-28T10:57:07.543505",
     "exception": false,
     "start_time": "2025-07-28T10:56:49.804668",
     "status": "completed"
    },
    "tags": []
   },
   "outputs": [
    {
     "name": "stdout",
     "output_type": "stream",
     "text": [
      "Stopping execution_time clock.\n",
      "[INFO] Keeping all rows: 89710 rows retained.\n"
     ]
    },
    {
     "name": "stdout",
     "output_type": "stream",
     "text": [
      "[INFO] Keeping all rows: 89710 rows retained.\n"
     ]
    },
    {
     "name": "stdout",
     "output_type": "stream",
     "text": [
      "[INFO] Keeping all rows: 89710 rows retained.\n"
     ]
    },
    {
     "name": "stdout",
     "output_type": "stream",
     "text": [
      "[INFO] Keeping all rows: 89710 rows retained.\n"
     ]
    },
    {
     "data": {
      "text/html": [
       "<div>\n",
       "<style scoped>\n",
       "    .dataframe tbody tr th:only-of-type {\n",
       "        vertical-align: middle;\n",
       "    }\n",
       "\n",
       "    .dataframe tbody tr th {\n",
       "        vertical-align: top;\n",
       "    }\n",
       "\n",
       "    .dataframe thead th {\n",
       "        text-align: right;\n",
       "    }\n",
       "</style>\n",
       "<table border=\"1\" class=\"dataframe\">\n",
       "  <thead>\n",
       "    <tr style=\"text-align: right;\">\n",
       "      <th></th>\n",
       "      <th>run_no</th>\n",
       "      <th>universe_id</th>\n",
       "      <th>universe_settings</th>\n",
       "      <th>execution_time</th>\n",
       "      <th>test_size_n</th>\n",
       "      <th>test_size_frac</th>\n",
       "      <th>fair_main_equalized_odds_difference</th>\n",
       "      <th>fair_main_equalized_odds_ratio</th>\n",
       "      <th>fair_main_demographic_parity_difference</th>\n",
       "      <th>fair_main_demographic_parity_ratio</th>\n",
       "      <th>...</th>\n",
       "      <th>perf_grp_precision_0</th>\n",
       "      <th>perf_grp_precision_1</th>\n",
       "      <th>perf_grp_false positive rate_0</th>\n",
       "      <th>perf_grp_false positive rate_1</th>\n",
       "      <th>perf_grp_false negative rate_0</th>\n",
       "      <th>perf_grp_false negative rate_1</th>\n",
       "      <th>perf_grp_selection rate_0</th>\n",
       "      <th>perf_grp_selection rate_1</th>\n",
       "      <th>perf_grp_count_0</th>\n",
       "      <th>perf_grp_count_1</th>\n",
       "    </tr>\n",
       "  </thead>\n",
       "  <tbody>\n",
       "    <tr>\n",
       "      <th>0</th>\n",
       "      <td>11</td>\n",
       "      <td>8676cb3ff4a36c8d85f6db379b6b6967</td>\n",
       "      <td>{\"cutoff\": \"quantile_0.1\", \"eval_fairness_grou...</td>\n",
       "      <td>71.679212</td>\n",
       "      <td>89710</td>\n",
       "      <td>1.0</td>\n",
       "      <td>0.074378</td>\n",
       "      <td>0.924832</td>\n",
       "      <td>0.067564</td>\n",
       "      <td>0.927281</td>\n",
       "      <td>...</td>\n",
       "      <td>NaN</td>\n",
       "      <td>NaN</td>\n",
       "      <td>NaN</td>\n",
       "      <td>NaN</td>\n",
       "      <td>NaN</td>\n",
       "      <td>NaN</td>\n",
       "      <td>NaN</td>\n",
       "      <td>NaN</td>\n",
       "      <td>NaN</td>\n",
       "      <td>NaN</td>\n",
       "    </tr>\n",
       "    <tr>\n",
       "      <th>0</th>\n",
       "      <td>11</td>\n",
       "      <td>8676cb3ff4a36c8d85f6db379b6b6967</td>\n",
       "      <td>{\"cutoff\": \"quantile_0.1\", \"eval_fairness_grou...</td>\n",
       "      <td>71.679212</td>\n",
       "      <td>89710</td>\n",
       "      <td>1.0</td>\n",
       "      <td>0.074378</td>\n",
       "      <td>0.924832</td>\n",
       "      <td>0.067564</td>\n",
       "      <td>0.927281</td>\n",
       "      <td>...</td>\n",
       "      <td>0.122457</td>\n",
       "      <td>0.140728</td>\n",
       "      <td>0.854556</td>\n",
       "      <td>0.919907</td>\n",
       "      <td>0.084882</td>\n",
       "      <td>0.010503</td>\n",
       "      <td>0.861538</td>\n",
       "      <td>0.929102</td>\n",
       "      <td>20540.0</td>\n",
       "      <td>69170.0</td>\n",
       "    </tr>\n",
       "    <tr>\n",
       "      <th>0</th>\n",
       "      <td>11</td>\n",
       "      <td>8676cb3ff4a36c8d85f6db379b6b6967</td>\n",
       "      <td>{\"cutoff\": \"quantile_0.25\", \"eval_fairness_gro...</td>\n",
       "      <td>71.679212</td>\n",
       "      <td>89710</td>\n",
       "      <td>1.0</td>\n",
       "      <td>0.119713</td>\n",
       "      <td>0.874592</td>\n",
       "      <td>0.072551</td>\n",
       "      <td>0.905858</td>\n",
       "      <td>...</td>\n",
       "      <td>NaN</td>\n",
       "      <td>NaN</td>\n",
       "      <td>NaN</td>\n",
       "      <td>NaN</td>\n",
       "      <td>NaN</td>\n",
       "      <td>NaN</td>\n",
       "      <td>NaN</td>\n",
       "      <td>NaN</td>\n",
       "      <td>NaN</td>\n",
       "      <td>NaN</td>\n",
       "    </tr>\n",
       "    <tr>\n",
       "      <th>0</th>\n",
       "      <td>11</td>\n",
       "      <td>8676cb3ff4a36c8d85f6db379b6b6967</td>\n",
       "      <td>{\"cutoff\": \"quantile_0.25\", \"eval_fairness_gro...</td>\n",
       "      <td>71.679212</td>\n",
       "      <td>89710</td>\n",
       "      <td>1.0</td>\n",
       "      <td>0.119713</td>\n",
       "      <td>0.874592</td>\n",
       "      <td>0.072551</td>\n",
       "      <td>0.905858</td>\n",
       "      <td>...</td>\n",
       "      <td>0.137876</td>\n",
       "      <td>0.163678</td>\n",
       "      <td>0.680277</td>\n",
       "      <td>0.742645</td>\n",
       "      <td>0.165118</td>\n",
       "      <td>0.045405</td>\n",
       "      <td>0.698101</td>\n",
       "      <td>0.770652</td>\n",
       "      <td>20540.0</td>\n",
       "      <td>69170.0</td>\n",
       "    </tr>\n",
       "  </tbody>\n",
       "</table>\n",
       "<p>4 rows × 50 columns</p>\n",
       "</div>"
      ],
      "text/plain": [
       "  run_no                       universe_id  \\\n",
       "0     11  8676cb3ff4a36c8d85f6db379b6b6967   \n",
       "0     11  8676cb3ff4a36c8d85f6db379b6b6967   \n",
       "0     11  8676cb3ff4a36c8d85f6db379b6b6967   \n",
       "0     11  8676cb3ff4a36c8d85f6db379b6b6967   \n",
       "\n",
       "                                   universe_settings  execution_time  \\\n",
       "0  {\"cutoff\": \"quantile_0.1\", \"eval_fairness_grou...       71.679212   \n",
       "0  {\"cutoff\": \"quantile_0.1\", \"eval_fairness_grou...       71.679212   \n",
       "0  {\"cutoff\": \"quantile_0.25\", \"eval_fairness_gro...       71.679212   \n",
       "0  {\"cutoff\": \"quantile_0.25\", \"eval_fairness_gro...       71.679212   \n",
       "\n",
       "   test_size_n  test_size_frac  fair_main_equalized_odds_difference  \\\n",
       "0        89710             1.0                             0.074378   \n",
       "0        89710             1.0                             0.074378   \n",
       "0        89710             1.0                             0.119713   \n",
       "0        89710             1.0                             0.119713   \n",
       "\n",
       "   fair_main_equalized_odds_ratio  fair_main_demographic_parity_difference  \\\n",
       "0                        0.924832                                 0.067564   \n",
       "0                        0.924832                                 0.067564   \n",
       "0                        0.874592                                 0.072551   \n",
       "0                        0.874592                                 0.072551   \n",
       "\n",
       "   fair_main_demographic_parity_ratio  ...  perf_grp_precision_0  \\\n",
       "0                            0.927281  ...                   NaN   \n",
       "0                            0.927281  ...              0.122457   \n",
       "0                            0.905858  ...                   NaN   \n",
       "0                            0.905858  ...              0.137876   \n",
       "\n",
       "   perf_grp_precision_1  perf_grp_false positive rate_0  \\\n",
       "0                   NaN                             NaN   \n",
       "0              0.140728                        0.854556   \n",
       "0                   NaN                             NaN   \n",
       "0              0.163678                        0.680277   \n",
       "\n",
       "   perf_grp_false positive rate_1  perf_grp_false negative rate_0  \\\n",
       "0                             NaN                             NaN   \n",
       "0                        0.919907                        0.084882   \n",
       "0                             NaN                             NaN   \n",
       "0                        0.742645                        0.165118   \n",
       "\n",
       "   perf_grp_false negative rate_1  perf_grp_selection rate_0  \\\n",
       "0                             NaN                        NaN   \n",
       "0                        0.010503                   0.861538   \n",
       "0                             NaN                        NaN   \n",
       "0                        0.045405                   0.698101   \n",
       "\n",
       "   perf_grp_selection rate_1  perf_grp_count_0  perf_grp_count_1  \n",
       "0                        NaN               NaN               NaN  \n",
       "0                   0.929102           20540.0           69170.0  \n",
       "0                        NaN               NaN               NaN  \n",
       "0                   0.770652           20540.0           69170.0  \n",
       "\n",
       "[4 rows x 50 columns]"
      ]
     },
     "execution_count": 72,
     "metadata": {},
     "output_type": "execute_result"
    }
   ],
   "source": [
    "final_output = universe_analysis.generate_final_output(\n",
    "    y_pred_prob=probs_test,\n",
    "    y_test=y_true,\n",
    "    org_test=org_test,\n",
    "    filter_data=filter_sub_universe_data,\n",
    "    cp_metrics_df=cp_metrics_df,\n",
    "    save=True,\n",
    ")\n",
    "final_output"
   ]
  },
  {
   "cell_type": "code",
   "execution_count": null,
   "id": "721ff514-cb11-46f8-b6fc-50392f74b5cb",
   "metadata": {
    "papermill": {
     "duration": 0.071968,
     "end_time": "2025-07-28T10:57:07.677190",
     "exception": false,
     "start_time": "2025-07-28T10:57:07.605222",
     "status": "completed"
    },
    "tags": []
   },
   "outputs": [],
   "source": []
  }
 ],
 "metadata": {
  "celltoolbar": "Tags",
  "kernelspec": {
   "display_name": "Python (CMA Fairness)",
   "language": "python",
   "name": "cma_fair_env"
  },
  "language_info": {
   "codemirror_mode": {
    "name": "ipython",
    "version": 3
   },
   "file_extension": ".py",
   "mimetype": "text/x-python",
   "name": "python",
   "nbconvert_exporter": "python",
   "pygments_lexer": "ipython3",
   "version": "3.10.12"
  },
  "papermill": {
   "default_parameters": {},
   "duration": 95.088131,
   "end_time": "2025-07-28T10:57:09.062939",
   "environment_variables": {},
   "exception": null,
   "input_path": "universe_analysis.ipynb",
   "output_path": "output/runs/11/notebooks/m_11-8676cb3ff4a36c8d85f6db379b6b6967.ipynb",
   "parameters": {
    "output_dir": "output",
    "run_no": "11",
    "seed": "2023",
    "universe": "{\"cutoff\": [\"quantile_0.1\", \"quantile_0.25\"], \"eval_fairness_grouping\": [\"majority-minority\", \"nationality-all\"], \"exclude_features\": \"nationality\", \"exclude_subgroups\": \"drop-non-german\", \"model\": \"rf\", \"scale\": \"scale\", \"training_size\": \"2014\"}",
    "universe_id": "8676cb3ff4a36c8d85f6db379b6b6967"
   },
   "start_time": "2025-07-28T10:55:33.974808",
   "version": "2.6.0"
  }
 },
 "nbformat": 4,
 "nbformat_minor": 5
}