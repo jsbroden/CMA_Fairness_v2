{
 "cells": [
  {
   "cell_type": "code",
   "execution_count": 1,
   "id": "f159f837-637b-42ba-96b5-ec9a68c44524",
   "metadata": {
    "execution": {
     "iopub.execute_input": "2025-07-28T10:37:07.190696Z",
     "iopub.status.busy": "2025-07-28T10:37:07.190155Z",
     "iopub.status.idle": "2025-07-28T10:37:07.204347Z",
     "shell.execute_reply": "2025-07-28T10:37:07.203279Z"
    },
    "papermill": {
     "duration": 0.037877,
     "end_time": "2025-07-28T10:37:07.206565",
     "exception": false,
     "start_time": "2025-07-28T10:37:07.168688",
     "status": "completed"
    },
    "tags": []
   },
   "outputs": [
    {
     "name": "stdout",
     "output_type": "stream",
     "text": [
      "/dss/dsshome1/0C/ra93lal2/cma/CMA_Fairness_v2\n"
     ]
    },
    {
     "name": "stderr",
     "output_type": "stream",
     "text": [
      "/dss/dsshome1/0C/ra93lal2/.local/share/virtualenvs/CMA_Fairness_v2-3j10GkSs/lib/python3.10/site-packages/IPython/core/magics/osm.py:393: UserWarning: This is now an optional IPython functionality, using bookmarks requires you to install the `pickleshare` library.\n",
      "  bkms = self.shell.db.get('bookmarks', {})\n",
      "/dss/dsshome1/0C/ra93lal2/.local/share/virtualenvs/CMA_Fairness_v2-3j10GkSs/lib/python3.10/site-packages/IPython/core/magics/osm.py:417: UserWarning: This is now an optional IPython functionality, setting dhist requires you to install the `pickleshare` library.\n",
      "  self.shell.db['dhist'] = compress_dhist(dhist)[-100:]\n"
     ]
    }
   ],
   "source": [
    "%cd ~/cma/CMA_Fairness_v2"
   ]
  },
  {
   "cell_type": "markdown",
   "id": "de2603b9",
   "metadata": {
    "papermill": {
     "duration": 0.021372,
     "end_time": "2025-07-28T10:37:07.246376",
     "exception": false,
     "start_time": "2025-07-28T10:37:07.225004",
     "status": "completed"
    },
    "tags": []
   },
   "source": [
    "The following cell holds the definition of our parameters, these values can be overriden by rendering the with e.g. the following command:\n",
    "\n",
    "papermill -p alpha 0.2 -p ratio 0.3 universe_analysis.ipynb output/test_run.ipynb"
   ]
  },
  {
   "cell_type": "code",
   "execution_count": 2,
   "id": "a80968a0-40bb-4fa9-85ef-2d5eefb01975",
   "metadata": {
    "execution": {
     "iopub.execute_input": "2025-07-28T10:37:07.284811Z",
     "iopub.status.busy": "2025-07-28T10:37:07.284306Z",
     "iopub.status.idle": "2025-07-28T10:37:07.290153Z",
     "shell.execute_reply": "2025-07-28T10:37:07.289130Z"
    },
    "papermill": {
     "duration": 0.027239,
     "end_time": "2025-07-28T10:37:07.292221",
     "exception": false,
     "start_time": "2025-07-28T10:37:07.264982",
     "status": "completed"
    },
    "tags": []
   },
   "outputs": [
    {
     "name": "stdout",
     "output_type": "stream",
     "text": [
      "Current working directory: /dss/dsshome1/0C/ra93lal2/cma/CMA_Fairness_v2\n"
     ]
    }
   ],
   "source": [
    "import os\n",
    "print(\"Current working directory:\", os.getcwd())"
   ]
  },
  {
   "cell_type": "code",
   "execution_count": 3,
   "id": "2dce4c03",
   "metadata": {
    "execution": {
     "iopub.execute_input": "2025-07-28T10:37:07.332144Z",
     "iopub.status.busy": "2025-07-28T10:37:07.331535Z",
     "iopub.status.idle": "2025-07-28T10:37:07.339015Z",
     "shell.execute_reply": "2025-07-28T10:37:07.337745Z"
    },
    "papermill": {
     "duration": 0.029701,
     "end_time": "2025-07-28T10:37:07.340850",
     "exception": false,
     "start_time": "2025-07-28T10:37:07.311149",
     "status": "completed"
    },
    "tags": [
     "parameters"
    ]
   },
   "outputs": [],
   "source": [
    "run_no = 0\n",
    "universe_id = \"test\"\n",
    "universe = {\n",
    "    \"training_size\": \"2014\", # \"25k\", \"5k\", \"1k\", \"2014\"\n",
    "    \"scale\": \"scale\", # \"scale\", \"do-not-scale\",\n",
    "    #\"stratify_split\": \"target\", # \"none\", \"target\", \"protected-attribute\", \"both\",\n",
    "    \"model\": \"elasticnet\", # \"logreg\", \"penalized_logreg\", \"rf\", \"gbm\", \"elasticnet\"\n",
    "    \"cutoff\": [\"quantile_0.15\", \"quantile_0.30\"],\n",
    "    \"exclude_features\": \"age\", # \"none\", \"nationality\", \"sex\", \"nationality-sex\", \"age\"\n",
    "    \"exclude_subgroups\": \"keep-all\", # \"keep-all\", \"drop-non-german\"\n",
    "    #\"training_sample\": \"restricted\", # \"restricted\", \"full\"\n",
    "    \"eval_fairness_grouping\": [\"majority-minority\", \"nationality-all\"]\n",
    "}\n",
    "\n",
    "output_dir=\"./output\"\n",
    "seed=0"
   ]
  },
  {
   "cell_type": "code",
   "execution_count": 4,
   "id": "bc226ecc",
   "metadata": {
    "execution": {
     "iopub.execute_input": "2025-07-28T10:37:07.382248Z",
     "iopub.status.busy": "2025-07-28T10:37:07.381501Z",
     "iopub.status.idle": "2025-07-28T10:37:07.387410Z",
     "shell.execute_reply": "2025-07-28T10:37:07.386419Z"
    },
    "papermill": {
     "duration": 0.027953,
     "end_time": "2025-07-28T10:37:07.389132",
     "exception": false,
     "start_time": "2025-07-28T10:37:07.361179",
     "status": "completed"
    },
    "tags": [
     "injected-parameters"
    ]
   },
   "outputs": [],
   "source": [
    "# Parameters\n",
    "universe_id = \"f0cf0a8d1e47054d406d5e494a7d250f\"\n",
    "run_no = \"11\"\n",
    "universe = \"{\\\"cutoff\\\": [\\\"quantile_0.1\\\", \\\"quantile_0.25\\\"], \\\"eval_fairness_grouping\\\": [\\\"majority-minority\\\", \\\"nationality-all\\\"], \\\"exclude_features\\\": \\\"sex\\\", \\\"exclude_subgroups\\\": \\\"keep-all\\\", \\\"model\\\": \\\"rf\\\", \\\"scale\\\": \\\"do-not-scale\\\", \\\"training_size\\\": \\\"5k\\\"}\"\n",
    "output_dir = \"output\"\n",
    "seed = \"2023\"\n"
   ]
  },
  {
   "cell_type": "code",
   "execution_count": 5,
   "id": "1650acaf",
   "metadata": {
    "execution": {
     "iopub.execute_input": "2025-07-28T10:37:07.428527Z",
     "iopub.status.busy": "2025-07-28T10:37:07.428146Z",
     "iopub.status.idle": "2025-07-28T10:37:07.433399Z",
     "shell.execute_reply": "2025-07-28T10:37:07.432509Z"
    },
    "papermill": {
     "duration": 0.027982,
     "end_time": "2025-07-28T10:37:07.436378",
     "exception": false,
     "start_time": "2025-07-28T10:37:07.408396",
     "status": "completed"
    },
    "tags": []
   },
   "outputs": [],
   "source": [
    "import json\n",
    "# Parse universe into dict if it is passed as a string\n",
    "if isinstance(universe, str):\n",
    "    universe = json.loads(universe)"
   ]
  },
  {
   "cell_type": "code",
   "execution_count": 6,
   "id": "16620c48",
   "metadata": {
    "execution": {
     "iopub.execute_input": "2025-07-28T10:37:07.476423Z",
     "iopub.status.busy": "2025-07-28T10:37:07.475996Z",
     "iopub.status.idle": "2025-07-28T10:37:07.525002Z",
     "shell.execute_reply": "2025-07-28T10:37:07.524083Z"
    },
    "papermill": {
     "duration": 0.071322,
     "end_time": "2025-07-28T10:37:07.527141",
     "exception": false,
     "start_time": "2025-07-28T10:37:07.455819",
     "status": "completed"
    },
    "tags": []
   },
   "outputs": [],
   "source": [
    "# Auto-reload the custom package\n",
    "%load_ext autoreload\n",
    "%autoreload 1\n",
    "%aimport fairness_multiverse"
   ]
  },
  {
   "cell_type": "code",
   "execution_count": 7,
   "id": "01c5c9f3",
   "metadata": {
    "execution": {
     "iopub.execute_input": "2025-07-28T10:37:07.567247Z",
     "iopub.status.busy": "2025-07-28T10:37:07.566860Z",
     "iopub.status.idle": "2025-07-28T10:37:09.842344Z",
     "shell.execute_reply": "2025-07-28T10:37:09.841189Z"
    },
    "papermill": {
     "duration": 2.297435,
     "end_time": "2025-07-28T10:37:09.844572",
     "exception": false,
     "start_time": "2025-07-28T10:37:07.547137",
     "status": "completed"
    },
    "tags": []
   },
   "outputs": [],
   "source": [
    "from fairness_multiverse.universe import UniverseAnalysis\n",
    "\n",
    "universe_analysis = UniverseAnalysis(\n",
    "    run_no = run_no,\n",
    "    universe_id = universe_id,\n",
    "    universe = universe,\n",
    "    output_dir=output_dir,\n",
    ")"
   ]
  },
  {
   "cell_type": "code",
   "execution_count": 8,
   "id": "106241f5",
   "metadata": {
    "execution": {
     "iopub.execute_input": "2025-07-28T10:37:09.897895Z",
     "iopub.status.busy": "2025-07-28T10:37:09.897365Z",
     "iopub.status.idle": "2025-07-28T10:37:09.905965Z",
     "shell.execute_reply": "2025-07-28T10:37:09.904706Z"
    },
    "papermill": {
     "duration": 0.040347,
     "end_time": "2025-07-28T10:37:09.908105",
     "exception": false,
     "start_time": "2025-07-28T10:37:09.867758",
     "status": "completed"
    },
    "tags": []
   },
   "outputs": [
    {
     "name": "stdout",
     "output_type": "stream",
     "text": [
      "Using Seed: 2023\n"
     ]
    }
   ],
   "source": [
    "import numpy as np\n",
    "parsed_seed = int(seed)\n",
    "np.random.seed(parsed_seed)\n",
    "print(f\"Using Seed: {parsed_seed}\")"
   ]
  },
  {
   "cell_type": "markdown",
   "id": "e0ebdc57",
   "metadata": {
    "papermill": {
     "duration": 0.023651,
     "end_time": "2025-07-28T10:37:09.955462",
     "exception": false,
     "start_time": "2025-07-28T10:37:09.931811",
     "status": "completed"
    },
    "tags": []
   },
   "source": [
    "# Loading Data"
   ]
  },
  {
   "cell_type": "markdown",
   "id": "681925a3",
   "metadata": {
    "papermill": {
     "duration": 0.023029,
     "end_time": "2025-07-28T10:37:10.002074",
     "exception": false,
     "start_time": "2025-07-28T10:37:09.979045",
     "status": "completed"
    },
    "tags": []
   },
   "source": [
    "Load siab_train, siab_test, siab_calib and/or \n",
    "load siab_train_features, siab_train_labels"
   ]
  },
  {
   "cell_type": "code",
   "execution_count": 9,
   "id": "f0496b8a",
   "metadata": {
    "execution": {
     "iopub.execute_input": "2025-07-28T10:37:10.050794Z",
     "iopub.status.busy": "2025-07-28T10:37:10.050224Z",
     "iopub.status.idle": "2025-07-28T10:37:24.125455Z",
     "shell.execute_reply": "2025-07-28T10:37:24.124128Z"
    },
    "papermill": {
     "duration": 14.102114,
     "end_time": "2025-07-28T10:37:24.127612",
     "exception": false,
     "start_time": "2025-07-28T10:37:10.025498",
     "status": "completed"
    },
    "tags": []
   },
   "outputs": [
    {
     "name": "stdout",
     "output_type": "stream",
     "text": [
      "Loading SIAB data from cache: data/siab_cached.csv.gz\n"
     ]
    },
    {
     "name": "stdout",
     "output_type": "stream",
     "text": [
      "(643690, 164)\n"
     ]
    }
   ],
   "source": [
    "from pathlib import Path\n",
    "import pandas as pd\n",
    "\n",
    "# File paths\n",
    "raw_file = Path(\"data/raw/siab.csv\")\n",
    "cache_file = Path(\"data/siab_cached.csv.gz\")\n",
    "\n",
    "# Ensure cache directory exists\n",
    "cache_file.parent.mkdir(parents=True, exist_ok=True)\n",
    "\n",
    "# Load with simple caching\n",
    "if cache_file.exists():\n",
    "    print(f\"Loading SIAB data from cache: {cache_file}\")\n",
    "    siab = pd.read_csv(cache_file, compression='gzip')\n",
    "else:\n",
    "    print(f\"Cache not found. Reading raw SIAB data: {raw_file}\")\n",
    "    siab = pd.read_csv(raw_file)\n",
    "    siab.to_csv(cache_file, index=False, compression='gzip')\n",
    "    print(f\"Cached SIAB data to: {cache_file}\")\n",
    "\n",
    "# Now use `siab` DataFrame as needed\n",
    "print(siab.shape)"
   ]
  },
  {
   "cell_type": "code",
   "execution_count": 10,
   "id": "db0ca512-5f53-4dba-abdb-a2888bca41ba",
   "metadata": {
    "execution": {
     "iopub.execute_input": "2025-07-28T10:37:24.176361Z",
     "iopub.status.busy": "2025-07-28T10:37:24.175779Z",
     "iopub.status.idle": "2025-07-28T10:37:24.181859Z",
     "shell.execute_reply": "2025-07-28T10:37:24.180749Z"
    },
    "papermill": {
     "duration": 0.030318,
     "end_time": "2025-07-28T10:37:24.185447",
     "exception": false,
     "start_time": "2025-07-28T10:37:24.155129",
     "status": "completed"
    },
    "tags": []
   },
   "outputs": [],
   "source": [
    "#siab"
   ]
  },
  {
   "cell_type": "code",
   "execution_count": 11,
   "id": "a0edb063",
   "metadata": {
    "execution": {
     "iopub.execute_input": "2025-07-28T10:37:24.233027Z",
     "iopub.status.busy": "2025-07-28T10:37:24.232513Z",
     "iopub.status.idle": "2025-07-28T10:37:24.242163Z",
     "shell.execute_reply": "2025-07-28T10:37:24.241123Z"
    },
    "papermill": {
     "duration": 0.041781,
     "end_time": "2025-07-28T10:37:24.250602",
     "exception": false,
     "start_time": "2025-07-28T10:37:24.208821",
     "status": "completed"
    },
    "tags": []
   },
   "outputs": [],
   "source": [
    "#import pandas as pd\n",
    "#\n",
    "#X_train = pd.read_csv(\"./data/X_train.csv\")\n",
    "#y_train = pd.read_csv(\"./data/y_train.csv\")"
   ]
  },
  {
   "cell_type": "code",
   "execution_count": 12,
   "id": "63d08085",
   "metadata": {
    "execution": {
     "iopub.execute_input": "2025-07-28T10:37:24.308581Z",
     "iopub.status.busy": "2025-07-28T10:37:24.308147Z",
     "iopub.status.idle": "2025-07-28T10:37:24.313839Z",
     "shell.execute_reply": "2025-07-28T10:37:24.312857Z"
    },
    "papermill": {
     "duration": 0.027927,
     "end_time": "2025-07-28T10:37:24.317034",
     "exception": false,
     "start_time": "2025-07-28T10:37:24.289107",
     "status": "completed"
    },
    "tags": []
   },
   "outputs": [],
   "source": [
    "#X_test = pd.read_csv(\"./data/X_test.csv\")\n",
    "#y_true = pd.read_csv(\"./data/y_test.csv\")"
   ]
  },
  {
   "cell_type": "code",
   "execution_count": 13,
   "id": "98a8d0fa-1d3d-4ed8-bb2c-281470e24add",
   "metadata": {
    "execution": {
     "iopub.execute_input": "2025-07-28T10:37:24.452671Z",
     "iopub.status.busy": "2025-07-28T10:37:24.452145Z",
     "iopub.status.idle": "2025-07-28T10:37:24.457216Z",
     "shell.execute_reply": "2025-07-28T10:37:24.456356Z"
    },
    "papermill": {
     "duration": 0.026823,
     "end_time": "2025-07-28T10:37:24.458612",
     "exception": false,
     "start_time": "2025-07-28T10:37:24.431789",
     "status": "completed"
    },
    "tags": []
   },
   "outputs": [],
   "source": [
    "# Calibration data for conformal\n",
    "#X_calib = pd.read_csv(\"./data/X_calib.csv\")\n",
    "#y_calib = pd.read_csv(\"./data/y_calib.csv\")"
   ]
  },
  {
   "cell_type": "markdown",
   "id": "9901737e-04df-44f0-9100-f5ad144ed040",
   "metadata": {
    "papermill": {
     "duration": 0.010568,
     "end_time": "2025-07-28T10:37:24.480567",
     "exception": false,
     "start_time": "2025-07-28T10:37:24.469999",
     "status": "completed"
    },
    "tags": []
   },
   "source": [
    "# Splitting Data and Setting Training Data Size"
   ]
  },
  {
   "cell_type": "code",
   "execution_count": 14,
   "id": "acbc8f7d-8fc8-4e86-8c59-5dcb0f58384b",
   "metadata": {
    "execution": {
     "iopub.execute_input": "2025-07-28T10:37:24.502634Z",
     "iopub.status.busy": "2025-07-28T10:37:24.502217Z",
     "iopub.status.idle": "2025-07-28T10:37:24.508640Z",
     "shell.execute_reply": "2025-07-28T10:37:24.507842Z"
    },
    "papermill": {
     "duration": 0.019309,
     "end_time": "2025-07-28T10:37:24.510124",
     "exception": false,
     "start_time": "2025-07-28T10:37:24.490815",
     "status": "completed"
    },
    "tags": []
   },
   "outputs": [],
   "source": [
    "def sample_by_year(df, training_size, random_state=42):\n",
    "    if training_size == \"2014\":\n",
    "        return df[df[\"year\"] == 2014].reset_index(drop=True)\n",
    "    \n",
    "    size_map = {\n",
    "        \"25k\": 5000,\n",
    "        \"5k\": 1000,\n",
    "        \"1k\": 200\n",
    "    }\n",
    "\n",
    "    if training_size not in size_map:\n",
    "        return df.reset_index(drop=True)  # use all data\n",
    "\n",
    "    n_per_year = size_map[training_size]\n",
    "    grouped = df.groupby(\"year\")\n",
    "    sampled = grouped.apply(lambda x: x.sample(n=min(n_per_year, len(x)), random_state=random_state))\n",
    "    return sampled.reset_index(drop=True)"
   ]
  },
  {
   "cell_type": "code",
   "execution_count": 15,
   "id": "6d931f52-beaf-43ff-9e78-9d44a448d54e",
   "metadata": {
    "execution": {
     "iopub.execute_input": "2025-07-28T10:37:24.533134Z",
     "iopub.status.busy": "2025-07-28T10:37:24.532503Z",
     "iopub.status.idle": "2025-07-28T10:37:25.289170Z",
     "shell.execute_reply": "2025-07-28T10:37:25.286876Z"
    },
    "papermill": {
     "duration": 0.770224,
     "end_time": "2025-07-28T10:37:25.291367",
     "exception": false,
     "start_time": "2025-07-28T10:37:24.521143",
     "status": "completed"
    },
    "tags": []
   },
   "outputs": [],
   "source": [
    "siab_s = sample_by_year(siab, universe[\"training_size\"])"
   ]
  },
  {
   "cell_type": "code",
   "execution_count": 16,
   "id": "5db0a40e-a4e2-4920-be85-b12ae061d70d",
   "metadata": {
    "execution": {
     "iopub.execute_input": "2025-07-28T10:37:25.339679Z",
     "iopub.status.busy": "2025-07-28T10:37:25.339206Z",
     "iopub.status.idle": "2025-07-28T10:37:25.357433Z",
     "shell.execute_reply": "2025-07-28T10:37:25.356094Z"
    },
    "papermill": {
     "duration": 0.045823,
     "end_time": "2025-07-28T10:37:25.361092",
     "exception": false,
     "start_time": "2025-07-28T10:37:25.315269",
     "status": "completed"
    },
    "tags": []
   },
   "outputs": [
    {
     "data": {
      "text/plain": [
       "year\n",
       "2010    1000\n",
       "2011    1000\n",
       "2012    1000\n",
       "2013    1000\n",
       "2014    1000\n",
       "2015    1000\n",
       "2016    1000\n",
       "dtype: int64"
      ]
     },
     "metadata": {},
     "output_type": "display_data"
    }
   ],
   "source": [
    "display(siab_s.groupby(\"year\").size())"
   ]
  },
  {
   "cell_type": "code",
   "execution_count": 17,
   "id": "a561edb4-d032-42cb-8256-22eac1111c64",
   "metadata": {
    "execution": {
     "iopub.execute_input": "2025-07-28T10:37:25.410861Z",
     "iopub.status.busy": "2025-07-28T10:37:25.409882Z",
     "iopub.status.idle": "2025-07-28T10:37:25.657235Z",
     "shell.execute_reply": "2025-07-28T10:37:25.656465Z"
    },
    "papermill": {
     "duration": 0.273829,
     "end_time": "2025-07-28T10:37:25.658683",
     "exception": false,
     "start_time": "2025-07-28T10:37:25.384854",
     "status": "completed"
    },
    "tags": []
   },
   "outputs": [],
   "source": [
    "siab_train = siab_s[siab_s.year < 2015]\n",
    "siab_calib = siab[siab.year == 2015]\n",
    "siab_test = siab[siab.year == 2016]"
   ]
  },
  {
   "cell_type": "code",
   "execution_count": 18,
   "id": "472de16f-c3db-4916-846b-1f0de9cf1746",
   "metadata": {
    "execution": {
     "iopub.execute_input": "2025-07-28T10:37:25.697344Z",
     "iopub.status.busy": "2025-07-28T10:37:25.696806Z",
     "iopub.status.idle": "2025-07-28T10:37:25.705594Z",
     "shell.execute_reply": "2025-07-28T10:37:25.704551Z"
    },
    "papermill": {
     "duration": 0.03728,
     "end_time": "2025-07-28T10:37:25.707466",
     "exception": false,
     "start_time": "2025-07-28T10:37:25.670186",
     "status": "completed"
    },
    "tags": []
   },
   "outputs": [],
   "source": [
    "X_train = siab_train.iloc[:,4:164]\n",
    "y_train = siab_train.iloc[:, [3]]"
   ]
  },
  {
   "cell_type": "code",
   "execution_count": 19,
   "id": "828c96af-f43a-4ed6-ba47-8ac73a47d56c",
   "metadata": {
    "execution": {
     "iopub.execute_input": "2025-07-28T10:37:25.757234Z",
     "iopub.status.busy": "2025-07-28T10:37:25.756715Z",
     "iopub.status.idle": "2025-07-28T10:37:25.810936Z",
     "shell.execute_reply": "2025-07-28T10:37:25.809789Z"
    },
    "papermill": {
     "duration": 0.081677,
     "end_time": "2025-07-28T10:37:25.812888",
     "exception": false,
     "start_time": "2025-07-28T10:37:25.731211",
     "status": "completed"
    },
    "tags": []
   },
   "outputs": [],
   "source": [
    "X_calib = siab_calib.iloc[:,4:164]\n",
    "y_calib = siab_calib.iloc[:, [3]]"
   ]
  },
  {
   "cell_type": "code",
   "execution_count": 20,
   "id": "c34be9c3-6bd6-476e-acd3-845840e303be",
   "metadata": {
    "execution": {
     "iopub.execute_input": "2025-07-28T10:37:25.860612Z",
     "iopub.status.busy": "2025-07-28T10:37:25.859813Z",
     "iopub.status.idle": "2025-07-28T10:37:25.961438Z",
     "shell.execute_reply": "2025-07-28T10:37:25.960118Z"
    },
    "papermill": {
     "duration": 0.128206,
     "end_time": "2025-07-28T10:37:25.963574",
     "exception": false,
     "start_time": "2025-07-28T10:37:25.835368",
     "status": "completed"
    },
    "tags": []
   },
   "outputs": [],
   "source": [
    "X_test = siab_test.iloc[:,4:164]\n",
    "y_true = siab_test.iloc[:, [3]]"
   ]
  },
  {
   "cell_type": "code",
   "execution_count": 21,
   "id": "e6c733c5",
   "metadata": {
    "execution": {
     "iopub.execute_input": "2025-07-28T10:37:26.038377Z",
     "iopub.status.busy": "2025-07-28T10:37:26.037975Z",
     "iopub.status.idle": "2025-07-28T10:37:26.244684Z",
     "shell.execute_reply": "2025-07-28T10:37:26.231150Z"
    },
    "papermill": {
     "duration": 0.245688,
     "end_time": "2025-07-28T10:37:26.246739",
     "exception": false,
     "start_time": "2025-07-28T10:37:26.001051",
     "status": "completed"
    },
    "tags": []
   },
   "outputs": [],
   "source": [
    "# Auxiliary data needed downstream in the pipeline\n",
    "\n",
    "org_train = X_train.copy()\n",
    "org_test = X_test.copy()\n",
    "org_calib = X_calib.copy()"
   ]
  },
  {
   "cell_type": "markdown",
   "id": "0a4a1b33",
   "metadata": {
    "papermill": {
     "duration": 0.020913,
     "end_time": "2025-07-28T10:37:26.290805",
     "exception": false,
     "start_time": "2025-07-28T10:37:26.269892",
     "status": "completed"
    },
    "tags": []
   },
   "source": [
    "# Preprocessing Data"
   ]
  },
  {
   "cell_type": "code",
   "execution_count": 22,
   "id": "ca879031",
   "metadata": {
    "execution": {
     "iopub.execute_input": "2025-07-28T10:37:26.338817Z",
     "iopub.status.busy": "2025-07-28T10:37:26.338418Z",
     "iopub.status.idle": "2025-07-28T10:37:26.345319Z",
     "shell.execute_reply": "2025-07-28T10:37:26.344165Z"
    },
    "papermill": {
     "duration": 0.037259,
     "end_time": "2025-07-28T10:37:26.347757",
     "exception": false,
     "start_time": "2025-07-28T10:37:26.310498",
     "status": "completed"
    },
    "tags": []
   },
   "outputs": [],
   "source": [
    "# EXCLUDE PROTECTED FEATURES\n",
    "# ----------------------\n",
    "# \"exclude_features\": \"none\", # \"nationality\", \"sex\", \"nationality-sex\"\n",
    "\n",
    "excluded_features = universe[\"exclude_features\"].split(\"-\") # split, e.g.: \"nationality-sex\" -> [\"nationality\", \"sex\"]\n",
    "excluded_features_dictionary = {\n",
    "    \"nationality\": [\"maxdeutsch1\", \"maxdeutsch.Missing.\"],\n",
    "    \"sex\": [\"frau1\"],\n",
    "    \"age\": [\"age\"],\n",
    "}\n"
   ]
  },
  {
   "cell_type": "code",
   "execution_count": 23,
   "id": "b745ac60",
   "metadata": {
    "execution": {
     "iopub.execute_input": "2025-07-28T10:37:26.417568Z",
     "iopub.status.busy": "2025-07-28T10:37:26.417158Z",
     "iopub.status.idle": "2025-07-28T10:37:26.423356Z",
     "shell.execute_reply": "2025-07-28T10:37:26.422266Z"
    },
    "papermill": {
     "duration": 0.038055,
     "end_time": "2025-07-28T10:37:26.426499",
     "exception": false,
     "start_time": "2025-07-28T10:37:26.388444",
     "status": "completed"
    },
    "tags": []
   },
   "outputs": [],
   "source": [
    "# Code nice names to column names\n",
    "\n",
    "excluded_features_columns = [\n",
    "    excluded_features_dictionary[f] for f in excluded_features if len(f) > 0 and f != \"none\"\n",
    "]"
   ]
  },
  {
   "cell_type": "code",
   "execution_count": 24,
   "id": "f84f73a2",
   "metadata": {
    "execution": {
     "iopub.execute_input": "2025-07-28T10:37:26.463700Z",
     "iopub.status.busy": "2025-07-28T10:37:26.463276Z",
     "iopub.status.idle": "2025-07-28T10:37:26.470092Z",
     "shell.execute_reply": "2025-07-28T10:37:26.469173Z"
    },
    "papermill": {
     "duration": 0.028894,
     "end_time": "2025-07-28T10:37:26.473520",
     "exception": false,
     "start_time": "2025-07-28T10:37:26.444626",
     "status": "completed"
    },
    "tags": []
   },
   "outputs": [],
   "source": [
    "from utils import flatten_once\n",
    "\n",
    "excluded_features_columns = flatten_once(excluded_features_columns)"
   ]
  },
  {
   "cell_type": "code",
   "execution_count": 25,
   "id": "884dea22",
   "metadata": {
    "execution": {
     "iopub.execute_input": "2025-07-28T10:37:26.537171Z",
     "iopub.status.busy": "2025-07-28T10:37:26.536732Z",
     "iopub.status.idle": "2025-07-28T10:37:26.547090Z",
     "shell.execute_reply": "2025-07-28T10:37:26.545913Z"
    },
    "papermill": {
     "duration": 0.039367,
     "end_time": "2025-07-28T10:37:26.551521",
     "exception": false,
     "start_time": "2025-07-28T10:37:26.512154",
     "status": "completed"
    },
    "tags": []
   },
   "outputs": [
    {
     "name": "stdout",
     "output_type": "stream",
     "text": [
      "Dropping features: ['frau1']\n"
     ]
    }
   ],
   "source": [
    "if len(excluded_features_columns) > 0:\n",
    "    print(f\"Dropping features: {excluded_features_columns}\")\n",
    "    X_train.drop(excluded_features_columns, axis=1, inplace=True)"
   ]
  },
  {
   "cell_type": "code",
   "execution_count": 26,
   "id": "95ab8b16",
   "metadata": {
    "execution": {
     "iopub.execute_input": "2025-07-28T10:37:26.598549Z",
     "iopub.status.busy": "2025-07-28T10:37:26.598083Z",
     "iopub.status.idle": "2025-07-28T10:37:26.651345Z",
     "shell.execute_reply": "2025-07-28T10:37:26.650206Z"
    },
    "papermill": {
     "duration": 0.079273,
     "end_time": "2025-07-28T10:37:26.652937",
     "exception": false,
     "start_time": "2025-07-28T10:37:26.573664",
     "status": "completed"
    },
    "tags": []
   },
   "outputs": [
    {
     "name": "stdout",
     "output_type": "stream",
     "text": [
      "Dropping features: ['frau1']\n"
     ]
    }
   ],
   "source": [
    "if len(excluded_features_columns) > 0:\n",
    "    print(f\"Dropping features: {excluded_features_columns}\")\n",
    "    X_test.drop(excluded_features_columns, axis=1, inplace=True)"
   ]
  },
  {
   "cell_type": "code",
   "execution_count": 27,
   "id": "1853aaf5-fb9f-46cb-a2b5-8ea4ae2237e4",
   "metadata": {
    "execution": {
     "iopub.execute_input": "2025-07-28T10:37:26.681996Z",
     "iopub.status.busy": "2025-07-28T10:37:26.681358Z",
     "iopub.status.idle": "2025-07-28T10:37:26.744537Z",
     "shell.execute_reply": "2025-07-28T10:37:26.742883Z"
    },
    "papermill": {
     "duration": 0.080858,
     "end_time": "2025-07-28T10:37:26.746459",
     "exception": false,
     "start_time": "2025-07-28T10:37:26.665601",
     "status": "completed"
    },
    "tags": []
   },
   "outputs": [
    {
     "name": "stdout",
     "output_type": "stream",
     "text": [
      "Dropping features: ['frau1']\n"
     ]
    }
   ],
   "source": [
    "if len(excluded_features_columns) > 0:\n",
    "    print(f\"Dropping features: {excluded_features_columns}\")\n",
    "    X_calib.drop(excluded_features_columns, axis=1, inplace=True)"
   ]
  },
  {
   "cell_type": "code",
   "execution_count": 28,
   "id": "6727d079-03e5-481e-9d38-292a90b7a0a8",
   "metadata": {
    "execution": {
     "iopub.execute_input": "2025-07-28T10:37:26.796707Z",
     "iopub.status.busy": "2025-07-28T10:37:26.796202Z",
     "iopub.status.idle": "2025-07-28T10:37:26.801471Z",
     "shell.execute_reply": "2025-07-28T10:37:26.800425Z"
    },
    "papermill": {
     "duration": 0.031367,
     "end_time": "2025-07-28T10:37:26.803180",
     "exception": false,
     "start_time": "2025-07-28T10:37:26.771813",
     "status": "completed"
    },
    "tags": []
   },
   "outputs": [],
   "source": [
    "# SPLIT & STRATIFY DATA\n",
    "# ----------------------"
   ]
  },
  {
   "cell_type": "code",
   "execution_count": 29,
   "id": "76c4dc6d",
   "metadata": {
    "execution": {
     "iopub.execute_input": "2025-07-28T10:37:26.854389Z",
     "iopub.status.busy": "2025-07-28T10:37:26.853526Z",
     "iopub.status.idle": "2025-07-28T10:37:26.859877Z",
     "shell.execute_reply": "2025-07-28T10:37:26.858876Z"
    },
    "papermill": {
     "duration": 0.033203,
     "end_time": "2025-07-28T10:37:26.861850",
     "exception": false,
     "start_time": "2025-07-28T10:37:26.828647",
     "status": "completed"
    },
    "tags": []
   },
   "outputs": [],
   "source": [
    "# EXCLUDE CERTAIN SUBGROUPS\n",
    "# ----------------------\n",
    "\n",
    "mode = universe.get(\"exclude_subgroups\", \"keep-all\") \n",
    "# Fetches the exclude_subgroups setting from the universe dict.\n",
    "# Defaults to \"keep-all\" if the key is missing."
   ]
  },
  {
   "cell_type": "code",
   "execution_count": 30,
   "id": "21994072",
   "metadata": {
    "execution": {
     "iopub.execute_input": "2025-07-28T10:37:26.912689Z",
     "iopub.status.busy": "2025-07-28T10:37:26.912248Z",
     "iopub.status.idle": "2025-07-28T10:37:26.918109Z",
     "shell.execute_reply": "2025-07-28T10:37:26.917389Z"
    },
    "papermill": {
     "duration": 0.03627,
     "end_time": "2025-07-28T10:37:26.919688",
     "exception": false,
     "start_time": "2025-07-28T10:37:26.883418",
     "status": "completed"
    },
    "tags": []
   },
   "outputs": [],
   "source": [
    "if mode == \"keep-all\":\n",
    "    keep_mask = pd.Series(True, index=org_train.index)\n",
    "\n",
    "# org_train contains the original feature columns from features_org (in Simson)\n",
    "# features_org contains unprocessed features, for me X_train at beginning ???\n",
    "# For keep-all, creates a boolean Series (keep_mask) of all True, so no rows are removed.\n",
    "\n",
    "elif mode == \"drop-non-german\":\n",
    "    keep_mask = org_train[\"maxdeutsch1\"] == 1 # ??? what about missing values?\n",
    "\n",
    "else:\n",
    "    raise ValueError(f\"Unsupported mode for exclude_subgroups: {mode}\")\n"
   ]
  },
  {
   "cell_type": "code",
   "execution_count": 31,
   "id": "71651440",
   "metadata": {
    "execution": {
     "iopub.execute_input": "2025-07-28T10:37:26.945067Z",
     "iopub.status.busy": "2025-07-28T10:37:26.944711Z",
     "iopub.status.idle": "2025-07-28T10:37:26.950527Z",
     "shell.execute_reply": "2025-07-28T10:37:26.949408Z"
    },
    "papermill": {
     "duration": 0.020565,
     "end_time": "2025-07-28T10:37:26.952678",
     "exception": false,
     "start_time": "2025-07-28T10:37:26.932113",
     "status": "completed"
    },
    "tags": []
   },
   "outputs": [],
   "source": [
    "n_drop = (~keep_mask).sum() # Calculates how many rows are set to be dropped\n",
    "if n_drop > 0:\n",
    "    pct = n_drop / len(keep_mask) * 100\n",
    "    print(f\"Dropping {n_drop} rows ({pct:.2f}%) where mode='{mode}'\")"
   ]
  },
  {
   "cell_type": "code",
   "execution_count": 32,
   "id": "5fb8eee5",
   "metadata": {
    "execution": {
     "iopub.execute_input": "2025-07-28T10:37:27.001416Z",
     "iopub.status.busy": "2025-07-28T10:37:27.000854Z",
     "iopub.status.idle": "2025-07-28T10:37:27.010884Z",
     "shell.execute_reply": "2025-07-28T10:37:27.009806Z"
    },
    "papermill": {
     "duration": 0.036499,
     "end_time": "2025-07-28T10:37:27.013052",
     "exception": false,
     "start_time": "2025-07-28T10:37:26.976553",
     "status": "completed"
    },
    "tags": []
   },
   "outputs": [],
   "source": [
    "X_train = X_train[keep_mask]"
   ]
  },
  {
   "cell_type": "code",
   "execution_count": 33,
   "id": "b202bb3a",
   "metadata": {
    "execution": {
     "iopub.execute_input": "2025-07-28T10:37:27.063150Z",
     "iopub.status.busy": "2025-07-28T10:37:27.062621Z",
     "iopub.status.idle": "2025-07-28T10:37:27.069584Z",
     "shell.execute_reply": "2025-07-28T10:37:27.068541Z"
    },
    "papermill": {
     "duration": 0.033912,
     "end_time": "2025-07-28T10:37:27.071331",
     "exception": false,
     "start_time": "2025-07-28T10:37:27.037419",
     "status": "completed"
    },
    "tags": []
   },
   "outputs": [],
   "source": [
    "y_train = y_train[keep_mask]"
   ]
  },
  {
   "cell_type": "markdown",
   "id": "493e2ac3",
   "metadata": {
    "papermill": {
     "duration": 0.023924,
     "end_time": "2025-07-28T10:37:27.119824",
     "exception": false,
     "start_time": "2025-07-28T10:37:27.095900",
     "status": "completed"
    },
    "tags": []
   },
   "source": [
    "# Model Training"
   ]
  },
  {
   "cell_type": "code",
   "execution_count": 34,
   "id": "679e1268",
   "metadata": {
    "execution": {
     "iopub.execute_input": "2025-07-28T10:37:27.168165Z",
     "iopub.status.busy": "2025-07-28T10:37:27.167344Z",
     "iopub.status.idle": "2025-07-28T10:37:27.284340Z",
     "shell.execute_reply": "2025-07-28T10:37:27.283206Z"
    },
    "papermill": {
     "duration": 0.143637,
     "end_time": "2025-07-28T10:37:27.286514",
     "exception": false,
     "start_time": "2025-07-28T10:37:27.142877",
     "status": "completed"
    },
    "tags": []
   },
   "outputs": [],
   "source": [
    "from sklearn.linear_model import LogisticRegression\n",
    "from sklearn.ensemble import GradientBoostingClassifier, RandomForestClassifier\n",
    "\n",
    "if (universe[\"model\"] == \"logreg\"):\n",
    "    model = LogisticRegression() #penalty=\"none\") #, solver=\"newton-cg\", max_iter=1) # include random_state=19 ?\n",
    "elif (universe[\"model\"] == \"penalized_logreg\"):\n",
    "    model = LogisticRegression(penalty=\"l2\", C=1.0) #, solver=\"newton-cg\", max_iter=1)\n",
    "elif (universe[\"model\"] == \"rf\"):\n",
    "    model = RandomForestClassifier(n_estimators=100, n_jobs=-1)\n",
    "elif (universe[\"model\"] == \"gbm\"):\n",
    "    model = GradientBoostingClassifier()\n",
    "elif (universe[\"model\"] == \"elasticnet\"):\n",
    "    model = LogisticRegression(penalty = 'elasticnet', solver = 'saga', l1_ratio = 0.5, max_iter=5000) # which solver to use?\n",
    "else:\n",
    "    raise \"Unsupported universe.model\""
   ]
  },
  {
   "cell_type": "code",
   "execution_count": 35,
   "id": "0cc8f744",
   "metadata": {
    "execution": {
     "iopub.execute_input": "2025-07-28T10:37:27.336066Z",
     "iopub.status.busy": "2025-07-28T10:37:27.334958Z",
     "iopub.status.idle": "2025-07-28T10:37:27.342178Z",
     "shell.execute_reply": "2025-07-28T10:37:27.341078Z"
    },
    "papermill": {
     "duration": 0.035609,
     "end_time": "2025-07-28T10:37:27.344113",
     "exception": false,
     "start_time": "2025-07-28T10:37:27.308504",
     "status": "completed"
    },
    "tags": []
   },
   "outputs": [],
   "source": [
    "import numpy as np\n",
    "from sklearn.pipeline import Pipeline\n",
    "from sklearn.preprocessing import StandardScaler\n",
    "\n",
    "model = Pipeline([\n",
    "    #(\"continuous_processor\", continuous_processor),\n",
    "    #(\"categorical_preprocessor\", categorical_preprocessor),\n",
    "    (\"scale\", StandardScaler() if universe[\"scale\"] == \"scale\" else None), \n",
    "    (\"model\", model),\n",
    "])"
   ]
  },
  {
   "cell_type": "code",
   "execution_count": 36,
   "id": "9442c04d",
   "metadata": {
    "execution": {
     "iopub.execute_input": "2025-07-28T10:37:27.396119Z",
     "iopub.status.busy": "2025-07-28T10:37:27.395610Z",
     "iopub.status.idle": "2025-07-28T10:37:28.359691Z",
     "shell.execute_reply": "2025-07-28T10:37:28.358906Z"
    },
    "papermill": {
     "duration": 0.991653,
     "end_time": "2025-07-28T10:37:28.361194",
     "exception": false,
     "start_time": "2025-07-28T10:37:27.369541",
     "status": "completed"
    },
    "tags": []
   },
   "outputs": [
    {
     "data": {
      "text/html": [
       "<style>#sk-container-id-1 {color: black;background-color: white;}#sk-container-id-1 pre{padding: 0;}#sk-container-id-1 div.sk-toggleable {background-color: white;}#sk-container-id-1 label.sk-toggleable__label {cursor: pointer;display: block;width: 100%;margin-bottom: 0;padding: 0.3em;box-sizing: border-box;text-align: center;}#sk-container-id-1 label.sk-toggleable__label-arrow:before {content: \"▸\";float: left;margin-right: 0.25em;color: #696969;}#sk-container-id-1 label.sk-toggleable__label-arrow:hover:before {color: black;}#sk-container-id-1 div.sk-estimator:hover label.sk-toggleable__label-arrow:before {color: black;}#sk-container-id-1 div.sk-toggleable__content {max-height: 0;max-width: 0;overflow: hidden;text-align: left;background-color: #f0f8ff;}#sk-container-id-1 div.sk-toggleable__content pre {margin: 0.2em;color: black;border-radius: 0.25em;background-color: #f0f8ff;}#sk-container-id-1 input.sk-toggleable__control:checked~div.sk-toggleable__content {max-height: 200px;max-width: 100%;overflow: auto;}#sk-container-id-1 input.sk-toggleable__control:checked~label.sk-toggleable__label-arrow:before {content: \"▾\";}#sk-container-id-1 div.sk-estimator input.sk-toggleable__control:checked~label.sk-toggleable__label {background-color: #d4ebff;}#sk-container-id-1 div.sk-label input.sk-toggleable__control:checked~label.sk-toggleable__label {background-color: #d4ebff;}#sk-container-id-1 input.sk-hidden--visually {border: 0;clip: rect(1px 1px 1px 1px);clip: rect(1px, 1px, 1px, 1px);height: 1px;margin: -1px;overflow: hidden;padding: 0;position: absolute;width: 1px;}#sk-container-id-1 div.sk-estimator {font-family: monospace;background-color: #f0f8ff;border: 1px dotted black;border-radius: 0.25em;box-sizing: border-box;margin-bottom: 0.5em;}#sk-container-id-1 div.sk-estimator:hover {background-color: #d4ebff;}#sk-container-id-1 div.sk-parallel-item::after {content: \"\";width: 100%;border-bottom: 1px solid gray;flex-grow: 1;}#sk-container-id-1 div.sk-label:hover label.sk-toggleable__label {background-color: #d4ebff;}#sk-container-id-1 div.sk-serial::before {content: \"\";position: absolute;border-left: 1px solid gray;box-sizing: border-box;top: 0;bottom: 0;left: 50%;z-index: 0;}#sk-container-id-1 div.sk-serial {display: flex;flex-direction: column;align-items: center;background-color: white;padding-right: 0.2em;padding-left: 0.2em;position: relative;}#sk-container-id-1 div.sk-item {position: relative;z-index: 1;}#sk-container-id-1 div.sk-parallel {display: flex;align-items: stretch;justify-content: center;background-color: white;position: relative;}#sk-container-id-1 div.sk-item::before, #sk-container-id-1 div.sk-parallel-item::before {content: \"\";position: absolute;border-left: 1px solid gray;box-sizing: border-box;top: 0;bottom: 0;left: 50%;z-index: -1;}#sk-container-id-1 div.sk-parallel-item {display: flex;flex-direction: column;z-index: 1;position: relative;background-color: white;}#sk-container-id-1 div.sk-parallel-item:first-child::after {align-self: flex-end;width: 50%;}#sk-container-id-1 div.sk-parallel-item:last-child::after {align-self: flex-start;width: 50%;}#sk-container-id-1 div.sk-parallel-item:only-child::after {width: 0;}#sk-container-id-1 div.sk-dashed-wrapped {border: 1px dashed gray;margin: 0 0.4em 0.5em 0.4em;box-sizing: border-box;padding-bottom: 0.4em;background-color: white;}#sk-container-id-1 div.sk-label label {font-family: monospace;font-weight: bold;display: inline-block;line-height: 1.2em;}#sk-container-id-1 div.sk-label-container {text-align: center;}#sk-container-id-1 div.sk-container {/* jupyter's `normalize.less` sets `[hidden] { display: none; }` but bootstrap.min.css set `[hidden] { display: none !important; }` so we also need the `!important` here to be able to override the default hidden behavior on the sphinx rendered scikit-learn.org. See: https://github.com/scikit-learn/scikit-learn/issues/21755 */display: inline-block !important;position: relative;}#sk-container-id-1 div.sk-text-repr-fallback {display: none;}</style><div id=\"sk-container-id-1\" class=\"sk-top-container\"><div class=\"sk-text-repr-fallback\"><pre>Pipeline(steps=[(&#x27;scale&#x27;, None), (&#x27;model&#x27;, RandomForestClassifier(n_jobs=-1))])</pre><b>In a Jupyter environment, please rerun this cell to show the HTML representation or trust the notebook. <br />On GitHub, the HTML representation is unable to render, please try loading this page with nbviewer.org.</b></div><div class=\"sk-container\" hidden><div class=\"sk-item sk-dashed-wrapped\"><div class=\"sk-label-container\"><div class=\"sk-label sk-toggleable\"><input class=\"sk-toggleable__control sk-hidden--visually\" id=\"sk-estimator-id-1\" type=\"checkbox\" ><label for=\"sk-estimator-id-1\" class=\"sk-toggleable__label sk-toggleable__label-arrow\">Pipeline</label><div class=\"sk-toggleable__content\"><pre>Pipeline(steps=[(&#x27;scale&#x27;, None), (&#x27;model&#x27;, RandomForestClassifier(n_jobs=-1))])</pre></div></div></div><div class=\"sk-serial\"><div class=\"sk-item\"><div class=\"sk-estimator sk-toggleable\"><input class=\"sk-toggleable__control sk-hidden--visually\" id=\"sk-estimator-id-2\" type=\"checkbox\" ><label for=\"sk-estimator-id-2\" class=\"sk-toggleable__label sk-toggleable__label-arrow\">None</label><div class=\"sk-toggleable__content\"><pre>None</pre></div></div></div><div class=\"sk-item\"><div class=\"sk-estimator sk-toggleable\"><input class=\"sk-toggleable__control sk-hidden--visually\" id=\"sk-estimator-id-3\" type=\"checkbox\" ><label for=\"sk-estimator-id-3\" class=\"sk-toggleable__label sk-toggleable__label-arrow\">RandomForestClassifier</label><div class=\"sk-toggleable__content\"><pre>RandomForestClassifier(n_jobs=-1)</pre></div></div></div></div></div></div></div>"
      ],
      "text/plain": [
       "Pipeline(steps=[('scale', None), ('model', RandomForestClassifier(n_jobs=-1))])"
      ]
     },
     "execution_count": 36,
     "metadata": {},
     "output_type": "execute_result"
    }
   ],
   "source": [
    "model.fit(X_train, y_train.values.ravel())"
   ]
  },
  {
   "cell_type": "code",
   "execution_count": 37,
   "id": "af59f8c0",
   "metadata": {
    "execution": {
     "iopub.execute_input": "2025-07-28T10:37:28.386932Z",
     "iopub.status.busy": "2025-07-28T10:37:28.386565Z",
     "iopub.status.idle": "2025-07-28T10:37:28.391242Z",
     "shell.execute_reply": "2025-07-28T10:37:28.390328Z"
    },
    "papermill": {
     "duration": 0.019017,
     "end_time": "2025-07-28T10:37:28.392720",
     "exception": false,
     "start_time": "2025-07-28T10:37:28.373703",
     "status": "completed"
    },
    "tags": []
   },
   "outputs": [],
   "source": [
    "from fairness_multiverse.universe import predict_w_threshold"
   ]
  },
  {
   "cell_type": "code",
   "execution_count": 38,
   "id": "a7cf2e16",
   "metadata": {
    "execution": {
     "iopub.execute_input": "2025-07-28T10:37:28.419098Z",
     "iopub.status.busy": "2025-07-28T10:37:28.418423Z",
     "iopub.status.idle": "2025-07-28T10:37:29.343106Z",
     "shell.execute_reply": "2025-07-28T10:37:29.341801Z"
    },
    "papermill": {
     "duration": 0.940697,
     "end_time": "2025-07-28T10:37:29.345936",
     "exception": false,
     "start_time": "2025-07-28T10:37:28.405239",
     "status": "completed"
    },
    "tags": []
   },
   "outputs": [
    {
     "data": {
      "text/plain": [
       "0.8668487348121725"
      ]
     },
     "execution_count": 38,
     "metadata": {},
     "output_type": "execute_result"
    }
   ],
   "source": [
    "probs_test = model.predict_proba(X_test)\n",
    "\n",
    "'''\n",
    "Below code returns a boolean array (or binary 0/1 array depending on how it’s used) where each element \n",
    "is True if the probability of class 1 is greater than or equal to the threshold, and False otherwise.\n",
    "'''\n",
    "y_pred_default = predict_w_threshold(probs_test, 0.5)\n",
    "\n",
    "from sklearn.metrics import accuracy_score\n",
    "\n",
    "# Naive prediction\n",
    "accuracy_score(y_true = y_true, y_pred = y_pred_default)"
   ]
  },
  {
   "cell_type": "code",
   "execution_count": 39,
   "id": "081964c3",
   "metadata": {
    "execution": {
     "iopub.execute_input": "2025-07-28T10:37:29.398479Z",
     "iopub.status.busy": "2025-07-28T10:37:29.398129Z",
     "iopub.status.idle": "2025-07-28T10:37:30.296021Z",
     "shell.execute_reply": "2025-07-28T10:37:30.294867Z"
    },
    "papermill": {
     "duration": 0.918253,
     "end_time": "2025-07-28T10:37:30.297773",
     "exception": false,
     "start_time": "2025-07-28T10:37:29.379520",
     "status": "completed"
    },
    "tags": []
   },
   "outputs": [
    {
     "data": {
      "text/plain": [
       "array([0, 0, 0, ..., 0, 0, 0])"
      ]
     },
     "execution_count": 39,
     "metadata": {},
     "output_type": "execute_result"
    }
   ],
   "source": [
    "model.predict(X_test)"
   ]
  },
  {
   "cell_type": "markdown",
   "id": "56c9705b",
   "metadata": {
    "papermill": {
     "duration": 0.024798,
     "end_time": "2025-07-28T10:37:30.347733",
     "exception": false,
     "start_time": "2025-07-28T10:37:30.322935",
     "status": "completed"
    },
    "tags": []
   },
   "source": [
    "# Conformal Prediction"
   ]
  },
  {
   "cell_type": "code",
   "execution_count": 40,
   "id": "160ec6ff",
   "metadata": {
    "execution": {
     "iopub.execute_input": "2025-07-28T10:37:30.399464Z",
     "iopub.status.busy": "2025-07-28T10:37:30.398993Z",
     "iopub.status.idle": "2025-07-28T10:37:30.404785Z",
     "shell.execute_reply": "2025-07-28T10:37:30.403725Z"
    },
    "papermill": {
     "duration": 0.033344,
     "end_time": "2025-07-28T10:37:30.406318",
     "exception": false,
     "start_time": "2025-07-28T10:37:30.372974",
     "status": "completed"
    },
    "tags": []
   },
   "outputs": [],
   "source": [
    "# Miscoverage level for conformal prediction (10% allowed error rate => 90% target coverage)\n",
    "alpha = 0.1"
   ]
  },
  {
   "cell_type": "code",
   "execution_count": 41,
   "id": "eadf4555-3dd3-440e-8e35-f82a4ad9f855",
   "metadata": {
    "execution": {
     "iopub.execute_input": "2025-07-28T10:37:30.459525Z",
     "iopub.status.busy": "2025-07-28T10:37:30.458767Z",
     "iopub.status.idle": "2025-07-28T10:37:31.380423Z",
     "shell.execute_reply": "2025-07-28T10:37:31.379184Z"
    },
    "papermill": {
     "duration": 0.951072,
     "end_time": "2025-07-28T10:37:31.382631",
     "exception": false,
     "start_time": "2025-07-28T10:37:30.431559",
     "status": "completed"
    },
    "tags": []
   },
   "outputs": [],
   "source": [
    "probs_calib = model.predict_proba(X_calib)"
   ]
  },
  {
   "cell_type": "code",
   "execution_count": 42,
   "id": "2ed93547-6d5d-4983-9b36-1ecb300da49a",
   "metadata": {
    "execution": {
     "iopub.execute_input": "2025-07-28T10:37:31.433671Z",
     "iopub.status.busy": "2025-07-28T10:37:31.432974Z",
     "iopub.status.idle": "2025-07-28T10:37:31.439518Z",
     "shell.execute_reply": "2025-07-28T10:37:31.438749Z"
    },
    "papermill": {
     "duration": 0.035994,
     "end_time": "2025-07-28T10:37:31.441230",
     "exception": false,
     "start_time": "2025-07-28T10:37:31.405236",
     "status": "completed"
    },
    "tags": []
   },
   "outputs": [],
   "source": [
    "y_calib = y_calib.values.ravel().astype(int)"
   ]
  },
  {
   "cell_type": "code",
   "execution_count": 43,
   "id": "65d1320d-f588-4b38-9072-62af1ae97f7d",
   "metadata": {
    "execution": {
     "iopub.execute_input": "2025-07-28T10:37:31.472378Z",
     "iopub.status.busy": "2025-07-28T10:37:31.471661Z",
     "iopub.status.idle": "2025-07-28T10:37:31.478613Z",
     "shell.execute_reply": "2025-07-28T10:37:31.477783Z"
    },
    "papermill": {
     "duration": 0.023142,
     "end_time": "2025-07-28T10:37:31.480133",
     "exception": false,
     "start_time": "2025-07-28T10:37:31.456991",
     "status": "completed"
    },
    "tags": []
   },
   "outputs": [],
   "source": [
    "from fairness_multiverse.conformal import compute_nc_scores\n",
    "\n",
    "# Compute nonconformity scores on calibration set (1 - probability of true class)\n",
    "nc_scores = compute_nc_scores(probs_calib, y_calib)"
   ]
  },
  {
   "cell_type": "code",
   "execution_count": 44,
   "id": "df3b8ca3-53b7-43d5-9667-7c85da7aeda2",
   "metadata": {
    "execution": {
     "iopub.execute_input": "2025-07-28T10:37:31.509347Z",
     "iopub.status.busy": "2025-07-28T10:37:31.508621Z",
     "iopub.status.idle": "2025-07-28T10:37:31.515887Z",
     "shell.execute_reply": "2025-07-28T10:37:31.514577Z"
    },
    "papermill": {
     "duration": 0.024185,
     "end_time": "2025-07-28T10:37:31.517910",
     "exception": false,
     "start_time": "2025-07-28T10:37:31.493725",
     "status": "completed"
    },
    "tags": []
   },
   "outputs": [],
   "source": [
    "from fairness_multiverse.conformal import find_threshold\n",
    "\n",
    "# Find conformal threshold q_hat for the given alpha (split conformal method)\n",
    "q_hat = find_threshold(nc_scores, alpha)"
   ]
  },
  {
   "cell_type": "code",
   "execution_count": 45,
   "id": "4d29e6c1-0ef6-4aa4-b8fe-4fe79b0d033a",
   "metadata": {
    "execution": {
     "iopub.execute_input": "2025-07-28T10:37:31.570894Z",
     "iopub.status.busy": "2025-07-28T10:37:31.569294Z",
     "iopub.status.idle": "2025-07-28T10:37:31.577717Z",
     "shell.execute_reply": "2025-07-28T10:37:31.576574Z"
    },
    "papermill": {
     "duration": 0.035785,
     "end_time": "2025-07-28T10:37:31.579639",
     "exception": false,
     "start_time": "2025-07-28T10:37:31.543854",
     "status": "completed"
    },
    "tags": []
   },
   "outputs": [
    {
     "data": {
      "text/plain": [
       "0.6699999999999999"
      ]
     },
     "execution_count": 45,
     "metadata": {},
     "output_type": "execute_result"
    }
   ],
   "source": [
    "q_hat"
   ]
  },
  {
   "cell_type": "code",
   "execution_count": 46,
   "id": "92460794-cdac-4be2-ba28-f28c0515a6fb",
   "metadata": {
    "execution": {
     "iopub.execute_input": "2025-07-28T10:37:31.633914Z",
     "iopub.status.busy": "2025-07-28T10:37:31.632773Z",
     "iopub.status.idle": "2025-07-28T10:37:33.233033Z",
     "shell.execute_reply": "2025-07-28T10:37:33.231810Z"
    },
    "papermill": {
     "duration": 1.627868,
     "end_time": "2025-07-28T10:37:33.234911",
     "exception": false,
     "start_time": "2025-07-28T10:37:31.607043",
     "status": "completed"
    },
    "tags": []
   },
   "outputs": [],
   "source": [
    "from fairness_multiverse.conformal import predict_conformal_sets\n",
    "\n",
    "# Generate prediction sets for each test example\n",
    "pred_sets = predict_conformal_sets(model, X_test, q_hat)"
   ]
  },
  {
   "cell_type": "code",
   "execution_count": 47,
   "id": "d90c9a65-e6db-4f5d-80cd-e68fb7e46829",
   "metadata": {
    "execution": {
     "iopub.execute_input": "2025-07-28T10:37:33.282271Z",
     "iopub.status.busy": "2025-07-28T10:37:33.281767Z",
     "iopub.status.idle": "2025-07-28T10:37:33.294499Z",
     "shell.execute_reply": "2025-07-28T10:37:33.293391Z"
    },
    "papermill": {
     "duration": 0.039045,
     "end_time": "2025-07-28T10:37:33.296135",
     "exception": false,
     "start_time": "2025-07-28T10:37:33.257090",
     "status": "completed"
    },
    "tags": []
   },
   "outputs": [],
   "source": [
    "y_true = y_true.squeeze()"
   ]
  },
  {
   "cell_type": "code",
   "execution_count": 48,
   "id": "3a58a54a-1e68-46b9-927a-df01f18aebc8",
   "metadata": {
    "execution": {
     "iopub.execute_input": "2025-07-28T10:37:33.347825Z",
     "iopub.status.busy": "2025-07-28T10:37:33.347268Z",
     "iopub.status.idle": "2025-07-28T10:37:34.573899Z",
     "shell.execute_reply": "2025-07-28T10:37:34.572800Z"
    },
    "papermill": {
     "duration": 1.252786,
     "end_time": "2025-07-28T10:37:34.575991",
     "exception": false,
     "start_time": "2025-07-28T10:37:33.323205",
     "status": "completed"
    },
    "tags": []
   },
   "outputs": [],
   "source": [
    "from fairness_multiverse.conformal import evaluate_sets\n",
    "\n",
    "# Evaluate coverage and average set size on test data\n",
    "metrics = evaluate_sets(pred_sets, y_true)"
   ]
  },
  {
   "cell_type": "markdown",
   "id": "2b569c12-9aaa-4c88-98c9-bbcd0cf3ebb8",
   "metadata": {
    "papermill": {
     "duration": 0.028267,
     "end_time": "2025-07-28T10:37:34.630023",
     "exception": false,
     "start_time": "2025-07-28T10:37:34.601756",
     "status": "completed"
    },
    "tags": []
   },
   "source": [
    "# CP Metrics"
   ]
  },
  {
   "cell_type": "code",
   "execution_count": 49,
   "id": "5ce0a5cb-201f-45a0-ade5-94c7f0bd6095",
   "metadata": {
    "execution": {
     "iopub.execute_input": "2025-07-28T10:37:34.690197Z",
     "iopub.status.busy": "2025-07-28T10:37:34.689702Z",
     "iopub.status.idle": "2025-07-28T10:37:34.698483Z",
     "shell.execute_reply": "2025-07-28T10:37:34.697270Z"
    },
    "papermill": {
     "duration": 0.045309,
     "end_time": "2025-07-28T10:37:34.703212",
     "exception": false,
     "start_time": "2025-07-28T10:37:34.657903",
     "status": "completed"
    },
    "tags": []
   },
   "outputs": [
    {
     "data": {
      "text/plain": [
       "{'coverage': 0.9157284583658455, 'avg_size': 1.1485118715862224}"
      ]
     },
     "execution_count": 49,
     "metadata": {},
     "output_type": "execute_result"
    }
   ],
   "source": [
    "metrics"
   ]
  },
  {
   "cell_type": "code",
   "execution_count": 50,
   "id": "9b9a838d-31c9-430b-ae14-12baee460d17",
   "metadata": {
    "execution": {
     "iopub.execute_input": "2025-07-28T10:37:34.762220Z",
     "iopub.status.busy": "2025-07-28T10:37:34.761713Z",
     "iopub.status.idle": "2025-07-28T10:37:34.769539Z",
     "shell.execute_reply": "2025-07-28T10:37:34.768383Z"
    },
    "papermill": {
     "duration": 0.039398,
     "end_time": "2025-07-28T10:37:34.771405",
     "exception": false,
     "start_time": "2025-07-28T10:37:34.732007",
     "status": "completed"
    },
    "tags": []
   },
   "outputs": [],
   "source": [
    "example_universe = universe.copy()\n",
    "universe_training_size = example_universe.get(\"training_size\")\n",
    "universe_scale = example_universe.get(\"scale\")\n",
    "universe_model = example_universe.get(\"model\")\n",
    "universe_exclude_features = example_universe.get(\"exclude_features\")\n",
    "universe_exclude_subgroups = example_universe.get(\"exclude_subgroups\")"
   ]
  },
  {
   "cell_type": "code",
   "execution_count": 51,
   "id": "f4b6a8ac-9dc0-4245-8a91-5b3b5999c4f9",
   "metadata": {
    "execution": {
     "iopub.execute_input": "2025-07-28T10:37:34.824868Z",
     "iopub.status.busy": "2025-07-28T10:37:34.824350Z",
     "iopub.status.idle": "2025-07-28T10:37:34.845024Z",
     "shell.execute_reply": "2025-07-28T10:37:34.840276Z"
    },
    "papermill": {
     "duration": 0.050594,
     "end_time": "2025-07-28T10:37:34.847847",
     "exception": false,
     "start_time": "2025-07-28T10:37:34.797253",
     "status": "completed"
    },
    "tags": []
   },
   "outputs": [],
   "source": [
    "cp_metrics_dict = {\n",
    "    \"universe_id\": [universe_id],\n",
    "    \"universe_training_size\": [universe_training_size],\n",
    "    \"universe_scale\": [universe_scale],\n",
    "    \"universe_model\": [universe_model],\n",
    "    \"universe_exclude_features\": [universe_exclude_features],\n",
    "    \"universe_exclude_subgroups\": [universe_exclude_subgroups],\n",
    "    \"q_hat\": [q_hat],\n",
    "    \"coverage\": [metrics[\"coverage\"]],\n",
    "    \"avg_size\": [metrics[\"avg_size\"]],\n",
    "}"
   ]
  },
  {
   "cell_type": "code",
   "execution_count": 52,
   "id": "908acbb1-0371-4915-85ca-3fa520d2efe2",
   "metadata": {
    "execution": {
     "iopub.execute_input": "2025-07-28T10:37:34.963099Z",
     "iopub.status.busy": "2025-07-28T10:37:34.962654Z",
     "iopub.status.idle": "2025-07-28T10:37:34.972268Z",
     "shell.execute_reply": "2025-07-28T10:37:34.971256Z"
    },
    "papermill": {
     "duration": 0.066075,
     "end_time": "2025-07-28T10:37:34.974798",
     "exception": false,
     "start_time": "2025-07-28T10:37:34.908723",
     "status": "completed"
    },
    "tags": []
   },
   "outputs": [
    {
     "data": {
      "text/plain": [
       "{'universe_id': ['f0cf0a8d1e47054d406d5e494a7d250f'],\n",
       " 'universe_training_size': ['5k'],\n",
       " 'universe_scale': ['do-not-scale'],\n",
       " 'universe_model': ['rf'],\n",
       " 'universe_exclude_features': ['sex'],\n",
       " 'universe_exclude_subgroups': ['keep-all'],\n",
       " 'q_hat': [0.6699999999999999],\n",
       " 'coverage': [0.9157284583658455],\n",
       " 'avg_size': [1.1485118715862224]}"
      ]
     },
     "execution_count": 52,
     "metadata": {},
     "output_type": "execute_result"
    }
   ],
   "source": [
    "cp_metrics_dict"
   ]
  },
  {
   "cell_type": "code",
   "execution_count": 53,
   "id": "33007efc-14e9-4ec6-97ac-56a455c82265",
   "metadata": {
    "execution": {
     "iopub.execute_input": "2025-07-28T10:37:35.114530Z",
     "iopub.status.busy": "2025-07-28T10:37:35.114082Z",
     "iopub.status.idle": "2025-07-28T10:37:35.122662Z",
     "shell.execute_reply": "2025-07-28T10:37:35.121654Z"
    },
    "papermill": {
     "duration": 0.084075,
     "end_time": "2025-07-28T10:37:35.124300",
     "exception": false,
     "start_time": "2025-07-28T10:37:35.040225",
     "status": "completed"
    },
    "tags": []
   },
   "outputs": [],
   "source": [
    "cp_metrics_df = pd.DataFrame(cp_metrics_dict)"
   ]
  },
  {
   "cell_type": "code",
   "execution_count": 54,
   "id": "db12611b-57b2-4910-b9d0-355adfd6e7bf",
   "metadata": {
    "execution": {
     "iopub.execute_input": "2025-07-28T10:37:35.206946Z",
     "iopub.status.busy": "2025-07-28T10:37:35.206474Z",
     "iopub.status.idle": "2025-07-28T10:37:35.253154Z",
     "shell.execute_reply": "2025-07-28T10:37:35.252101Z"
    },
    "papermill": {
     "duration": 0.094378,
     "end_time": "2025-07-28T10:37:35.255115",
     "exception": false,
     "start_time": "2025-07-28T10:37:35.160737",
     "status": "completed"
    },
    "tags": []
   },
   "outputs": [
    {
     "data": {
      "text/html": [
       "<div>\n",
       "<style scoped>\n",
       "    .dataframe tbody tr th:only-of-type {\n",
       "        vertical-align: middle;\n",
       "    }\n",
       "\n",
       "    .dataframe tbody tr th {\n",
       "        vertical-align: top;\n",
       "    }\n",
       "\n",
       "    .dataframe thead th {\n",
       "        text-align: right;\n",
       "    }\n",
       "</style>\n",
       "<table border=\"1\" class=\"dataframe\">\n",
       "  <thead>\n",
       "    <tr style=\"text-align: right;\">\n",
       "      <th></th>\n",
       "      <th>universe_id</th>\n",
       "      <th>universe_training_size</th>\n",
       "      <th>universe_scale</th>\n",
       "      <th>universe_model</th>\n",
       "      <th>universe_exclude_features</th>\n",
       "      <th>universe_exclude_subgroups</th>\n",
       "      <th>q_hat</th>\n",
       "      <th>coverage</th>\n",
       "      <th>avg_size</th>\n",
       "    </tr>\n",
       "  </thead>\n",
       "  <tbody>\n",
       "    <tr>\n",
       "      <th>0</th>\n",
       "      <td>f0cf0a8d1e47054d406d5e494a7d250f</td>\n",
       "      <td>5k</td>\n",
       "      <td>do-not-scale</td>\n",
       "      <td>rf</td>\n",
       "      <td>sex</td>\n",
       "      <td>keep-all</td>\n",
       "      <td>0.67</td>\n",
       "      <td>0.915728</td>\n",
       "      <td>1.148512</td>\n",
       "    </tr>\n",
       "  </tbody>\n",
       "</table>\n",
       "</div>"
      ],
      "text/plain": [
       "                        universe_id universe_training_size universe_scale  \\\n",
       "0  f0cf0a8d1e47054d406d5e494a7d250f                     5k   do-not-scale   \n",
       "\n",
       "  universe_model universe_exclude_features universe_exclude_subgroups  q_hat  \\\n",
       "0             rf                       sex                   keep-all   0.67   \n",
       "\n",
       "   coverage  avg_size  \n",
       "0  0.915728  1.148512  "
      ]
     },
     "execution_count": 54,
     "metadata": {},
     "output_type": "execute_result"
    }
   ],
   "source": [
    "cp_metrics_df"
   ]
  },
  {
   "cell_type": "code",
   "execution_count": 55,
   "id": "b7fbde55-a0a1-47e4-9af6-fe4a17fa8c61",
   "metadata": {
    "execution": {
     "iopub.execute_input": "2025-07-28T10:37:35.386486Z",
     "iopub.status.busy": "2025-07-28T10:37:35.386083Z",
     "iopub.status.idle": "2025-07-28T10:37:35.392111Z",
     "shell.execute_reply": "2025-07-28T10:37:35.390808Z"
    },
    "papermill": {
     "duration": 0.094377,
     "end_time": "2025-07-28T10:37:35.401325",
     "exception": false,
     "start_time": "2025-07-28T10:37:35.306948",
     "status": "completed"
    },
    "tags": []
   },
   "outputs": [],
   "source": [
    "# Conditional Coverage & looking at subgroups"
   ]
  },
  {
   "cell_type": "code",
   "execution_count": 56,
   "id": "027ae886-68dd-4141-96c7-805a5450e1ef",
   "metadata": {
    "execution": {
     "iopub.execute_input": "2025-07-28T10:37:35.515221Z",
     "iopub.status.busy": "2025-07-28T10:37:35.514780Z",
     "iopub.status.idle": "2025-07-28T10:37:35.861414Z",
     "shell.execute_reply": "2025-07-28T10:37:35.860131Z"
    },
    "papermill": {
     "duration": 0.403229,
     "end_time": "2025-07-28T10:37:35.863519",
     "exception": false,
     "start_time": "2025-07-28T10:37:35.460290",
     "status": "completed"
    },
    "tags": []
   },
   "outputs": [],
   "source": [
    "from fairness_multiverse.conformal import build_cp_groups\n",
    "\n",
    "cp_groups_df = build_cp_groups(pred_sets, y_true, X_test.index, org_test)\n",
    "#needs universe_id and setting"
   ]
  },
  {
   "cell_type": "code",
   "execution_count": 57,
   "id": "01d5802c-663a-4d1f-9d69-e036faaffbf7",
   "metadata": {
    "execution": {
     "iopub.execute_input": "2025-07-28T10:37:35.944296Z",
     "iopub.status.busy": "2025-07-28T10:37:35.943274Z",
     "iopub.status.idle": "2025-07-28T10:37:35.950976Z",
     "shell.execute_reply": "2025-07-28T10:37:35.950010Z"
    },
    "papermill": {
     "duration": 0.051082,
     "end_time": "2025-07-28T10:37:35.965852",
     "exception": false,
     "start_time": "2025-07-28T10:37:35.914770",
     "status": "completed"
    },
    "tags": []
   },
   "outputs": [],
   "source": [
    "#delete\n",
    "#cp_groups_df"
   ]
  },
  {
   "cell_type": "code",
   "execution_count": 58,
   "id": "fa424af1-d1eb-443d-b717-2d279ada8408",
   "metadata": {
    "execution": {
     "iopub.execute_input": "2025-07-28T10:37:36.059666Z",
     "iopub.status.busy": "2025-07-28T10:37:36.059245Z",
     "iopub.status.idle": "2025-07-28T10:37:36.065195Z",
     "shell.execute_reply": "2025-07-28T10:37:36.063945Z"
    },
    "papermill": {
     "duration": 0.036282,
     "end_time": "2025-07-28T10:37:36.068601",
     "exception": false,
     "start_time": "2025-07-28T10:37:36.032319",
     "status": "completed"
    },
    "tags": []
   },
   "outputs": [],
   "source": [
    "#delete\n",
    "#percentage = (cp_groups_df['nongerman_female'] == 1).mean() * 100\n",
    "#print(percentage)\n"
   ]
  },
  {
   "cell_type": "code",
   "execution_count": 59,
   "id": "6cbdab96-b2b2-45af-ad54-d0516db2e28d",
   "metadata": {
    "execution": {
     "iopub.execute_input": "2025-07-28T10:37:36.124293Z",
     "iopub.status.busy": "2025-07-28T10:37:36.123807Z",
     "iopub.status.idle": "2025-07-28T10:37:38.060603Z",
     "shell.execute_reply": "2025-07-28T10:37:38.059545Z"
    },
    "papermill": {
     "duration": 1.966522,
     "end_time": "2025-07-28T10:37:38.062391",
     "exception": false,
     "start_time": "2025-07-28T10:37:36.095869",
     "status": "completed"
    },
    "tags": []
   },
   "outputs": [],
   "source": [
    "# Define covered = 1 if true_label is in the predicted set\n",
    "cp_groups_df['covered'] = cp_groups_df.apply(\n",
    "    lambda r: int(r['true_label'] in r['pred_set']),\n",
    "    axis=1\n",
    ")"
   ]
  },
  {
   "cell_type": "code",
   "execution_count": 60,
   "id": "338ff529-1a6b-4b87-a931-8e4788d52aad",
   "metadata": {
    "execution": {
     "iopub.execute_input": "2025-07-28T10:37:38.183240Z",
     "iopub.status.busy": "2025-07-28T10:37:38.182165Z",
     "iopub.status.idle": "2025-07-28T10:37:38.188003Z",
     "shell.execute_reply": "2025-07-28T10:37:38.187032Z"
    },
    "papermill": {
     "duration": 0.071119,
     "end_time": "2025-07-28T10:37:38.189900",
     "exception": false,
     "start_time": "2025-07-28T10:37:38.118781",
     "status": "completed"
    },
    "tags": []
   },
   "outputs": [],
   "source": [
    "#cp_groups_df"
   ]
  },
  {
   "cell_type": "code",
   "execution_count": 61,
   "id": "90032e27-66df-4540-9169-4e89cfbaa758",
   "metadata": {
    "execution": {
     "iopub.execute_input": "2025-07-28T10:37:38.277084Z",
     "iopub.status.busy": "2025-07-28T10:37:38.276671Z",
     "iopub.status.idle": "2025-07-28T10:37:38.289159Z",
     "shell.execute_reply": "2025-07-28T10:37:38.288040Z"
    },
    "papermill": {
     "duration": 0.042443,
     "end_time": "2025-07-28T10:37:38.290759",
     "exception": false,
     "start_time": "2025-07-28T10:37:38.248316",
     "status": "completed"
    },
    "tags": []
   },
   "outputs": [],
   "source": [
    "subgroups = ['frau1','nongerman','nongerman_male','nongerman_female']\n",
    "\n",
    "# Conditional coverage for subgroup==1\n",
    "cond_coverage = {\n",
    "    g: cp_groups_df.loc[cp_groups_df[g]==1, 'covered'].mean()\n",
    "    for g in subgroups\n",
    "}"
   ]
  },
  {
   "cell_type": "code",
   "execution_count": 62,
   "id": "1e348fb1-b9c3-45bc-ba23-f016827a7e0d",
   "metadata": {
    "execution": {
     "iopub.execute_input": "2025-07-28T10:37:38.341918Z",
     "iopub.status.busy": "2025-07-28T10:37:38.341487Z",
     "iopub.status.idle": "2025-07-28T10:37:38.349968Z",
     "shell.execute_reply": "2025-07-28T10:37:38.348987Z"
    },
    "papermill": {
     "duration": 0.035016,
     "end_time": "2025-07-28T10:37:38.354552",
     "exception": false,
     "start_time": "2025-07-28T10:37:38.319536",
     "status": "completed"
    },
    "tags": []
   },
   "outputs": [
    {
     "data": {
      "text/plain": [
       "{'frau1': 0.9140045828278743,\n",
       " 'nongerman': 0.910683208892382,\n",
       " 'nongerman_male': 0.924885166171305,\n",
       " 'nongerman_female': 0.8871833084947839}"
      ]
     },
     "execution_count": 62,
     "metadata": {},
     "output_type": "execute_result"
    }
   ],
   "source": [
    "cond_coverage"
   ]
  },
  {
   "cell_type": "code",
   "execution_count": 63,
   "id": "f5093324-c3dd-4d63-bc4c-8d945e5c8bbb",
   "metadata": {
    "execution": {
     "iopub.execute_input": "2025-07-28T10:37:38.498747Z",
     "iopub.status.busy": "2025-07-28T10:37:38.498305Z",
     "iopub.status.idle": "2025-07-28T10:37:38.507028Z",
     "shell.execute_reply": "2025-07-28T10:37:38.505875Z"
    },
    "papermill": {
     "duration": 0.092756,
     "end_time": "2025-07-28T10:37:38.508911",
     "exception": false,
     "start_time": "2025-07-28T10:37:38.416155",
     "status": "completed"
    },
    "tags": []
   },
   "outputs": [],
   "source": [
    "for subgroup, cov in cond_coverage.items():\n",
    "    cp_metrics_df[f\"cov_{subgroup}\"] = cov"
   ]
  },
  {
   "cell_type": "code",
   "execution_count": 64,
   "id": "6e872e10-dbe5-49e8-b554-5030c98ff75d",
   "metadata": {
    "execution": {
     "iopub.execute_input": "2025-07-28T10:37:38.568139Z",
     "iopub.status.busy": "2025-07-28T10:37:38.567630Z",
     "iopub.status.idle": "2025-07-28T10:37:38.611514Z",
     "shell.execute_reply": "2025-07-28T10:37:38.610336Z"
    },
    "papermill": {
     "duration": 0.076615,
     "end_time": "2025-07-28T10:37:38.613746",
     "exception": false,
     "start_time": "2025-07-28T10:37:38.537131",
     "status": "completed"
    },
    "tags": []
   },
   "outputs": [
    {
     "data": {
      "text/html": [
       "<div>\n",
       "<style scoped>\n",
       "    .dataframe tbody tr th:only-of-type {\n",
       "        vertical-align: middle;\n",
       "    }\n",
       "\n",
       "    .dataframe tbody tr th {\n",
       "        vertical-align: top;\n",
       "    }\n",
       "\n",
       "    .dataframe thead th {\n",
       "        text-align: right;\n",
       "    }\n",
       "</style>\n",
       "<table border=\"1\" class=\"dataframe\">\n",
       "  <thead>\n",
       "    <tr style=\"text-align: right;\">\n",
       "      <th></th>\n",
       "      <th>universe_id</th>\n",
       "      <th>universe_training_size</th>\n",
       "      <th>universe_scale</th>\n",
       "      <th>universe_model</th>\n",
       "      <th>universe_exclude_features</th>\n",
       "      <th>universe_exclude_subgroups</th>\n",
       "      <th>q_hat</th>\n",
       "      <th>coverage</th>\n",
       "      <th>avg_size</th>\n",
       "      <th>cov_frau1</th>\n",
       "      <th>cov_nongerman</th>\n",
       "      <th>cov_nongerman_male</th>\n",
       "      <th>cov_nongerman_female</th>\n",
       "    </tr>\n",
       "  </thead>\n",
       "  <tbody>\n",
       "    <tr>\n",
       "      <th>0</th>\n",
       "      <td>f0cf0a8d1e47054d406d5e494a7d250f</td>\n",
       "      <td>5k</td>\n",
       "      <td>do-not-scale</td>\n",
       "      <td>rf</td>\n",
       "      <td>sex</td>\n",
       "      <td>keep-all</td>\n",
       "      <td>0.67</td>\n",
       "      <td>0.915728</td>\n",
       "      <td>1.148512</td>\n",
       "      <td>0.914005</td>\n",
       "      <td>0.910683</td>\n",
       "      <td>0.924885</td>\n",
       "      <td>0.887183</td>\n",
       "    </tr>\n",
       "  </tbody>\n",
       "</table>\n",
       "</div>"
      ],
      "text/plain": [
       "                        universe_id universe_training_size universe_scale  \\\n",
       "0  f0cf0a8d1e47054d406d5e494a7d250f                     5k   do-not-scale   \n",
       "\n",
       "  universe_model universe_exclude_features universe_exclude_subgroups  q_hat  \\\n",
       "0             rf                       sex                   keep-all   0.67   \n",
       "\n",
       "   coverage  avg_size  cov_frau1  cov_nongerman  cov_nongerman_male  \\\n",
       "0  0.915728  1.148512   0.914005       0.910683            0.924885   \n",
       "\n",
       "   cov_nongerman_female  \n",
       "0              0.887183  "
      ]
     },
     "execution_count": 64,
     "metadata": {},
     "output_type": "execute_result"
    }
   ],
   "source": [
    "cp_metrics_df"
   ]
  },
  {
   "cell_type": "markdown",
   "id": "33774451",
   "metadata": {
    "papermill": {
     "duration": 0.026634,
     "end_time": "2025-07-28T10:37:38.668553",
     "exception": false,
     "start_time": "2025-07-28T10:37:38.641919",
     "status": "completed"
    },
    "tags": []
   },
   "source": [
    "# (Fairness) Metrics"
   ]
  },
  {
   "cell_type": "code",
   "execution_count": 65,
   "id": "debc5d62",
   "metadata": {
    "execution": {
     "iopub.execute_input": "2025-07-28T10:37:38.724809Z",
     "iopub.status.busy": "2025-07-28T10:37:38.724382Z",
     "iopub.status.idle": "2025-07-28T10:37:38.750051Z",
     "shell.execute_reply": "2025-07-28T10:37:38.748733Z"
    },
    "papermill": {
     "duration": 0.056801,
     "end_time": "2025-07-28T10:37:38.752149",
     "exception": false,
     "start_time": "2025-07-28T10:37:38.695348",
     "status": "completed"
    },
    "tags": []
   },
   "outputs": [],
   "source": [
    "# do I need to include maxdeutsch1.missing?\n",
    "\n",
    "import numpy as np\n",
    "\n",
    "colname_to_bin = \"maxdeutsch1\"\n",
    "majority_value = org_train[colname_to_bin].mode()[0]\n",
    "\n",
    "org_test[\"majmin\"] = np.where(org_test[colname_to_bin] == majority_value, \"majority\", \"minority\")"
   ]
  },
  {
   "cell_type": "code",
   "execution_count": 66,
   "id": "06a50de5",
   "metadata": {
    "execution": {
     "iopub.execute_input": "2025-07-28T10:37:38.822126Z",
     "iopub.status.busy": "2025-07-28T10:37:38.821707Z",
     "iopub.status.idle": "2025-07-28T10:37:41.853758Z",
     "shell.execute_reply": "2025-07-28T10:37:41.852508Z"
    },
    "papermill": {
     "duration": 3.075275,
     "end_time": "2025-07-28T10:37:41.856267",
     "exception": false,
     "start_time": "2025-07-28T10:37:38.780992",
     "status": "completed"
    },
    "tags": []
   },
   "outputs": [],
   "source": [
    "example_universe = universe.copy()\n",
    "example_universe[\"cutoff\"] = example_universe[\"cutoff\"][0]\n",
    "example_universe[\"eval_fairness_grouping\"] = example_universe[\"eval_fairness_grouping\"][0]\n",
    "fairness_dict, metric_frame = universe_analysis.compute_metrics(\n",
    "    example_universe,\n",
    "    y_pred_prob=probs_test,\n",
    "    y_test=y_true,\n",
    "    org_test=org_test,\n",
    ")"
   ]
  },
  {
   "cell_type": "markdown",
   "id": "f95d4e02",
   "metadata": {
    "papermill": {
     "duration": 0.033499,
     "end_time": "2025-07-28T10:37:41.923832",
     "exception": false,
     "start_time": "2025-07-28T10:37:41.890333",
     "status": "completed"
    },
    "tags": []
   },
   "source": [
    "# Overall"
   ]
  },
  {
   "cell_type": "markdown",
   "id": "bdee4871",
   "metadata": {
    "papermill": {
     "duration": 0.036081,
     "end_time": "2025-07-28T10:37:41.993852",
     "exception": false,
     "start_time": "2025-07-28T10:37:41.957771",
     "status": "completed"
    },
    "tags": []
   },
   "source": [
    "Fairness\n",
    "Main fairness target: Equalized Odds. Seems to be a better fit than equal opportunity, since we're not only interested in Y = 1. Seems to be a better fit than demographic parity, since we also care about accuracy, not just equal distribution of preds.\n",
    "\n",
    "Pick column for computation of fairness metrics\n",
    "\n",
    "Performance\n",
    "Overall performance measures, most interesting in relation to the measures split by group below"
   ]
  },
  {
   "cell_type": "code",
   "execution_count": 67,
   "id": "c4e067c6",
   "metadata": {
    "execution": {
     "iopub.execute_input": "2025-07-28T10:37:42.064777Z",
     "iopub.status.busy": "2025-07-28T10:37:42.063829Z",
     "iopub.status.idle": "2025-07-28T10:37:42.075104Z",
     "shell.execute_reply": "2025-07-28T10:37:42.073889Z"
    },
    "papermill": {
     "duration": 0.04892,
     "end_time": "2025-07-28T10:37:42.077092",
     "exception": false,
     "start_time": "2025-07-28T10:37:42.028172",
     "status": "completed"
    },
    "tags": []
   },
   "outputs": [
    {
     "data": {
      "text/plain": [
       "accuracy                   0.207870\n",
       "balanced accuracy          0.534090\n",
       "f1                         0.239605\n",
       "precision                  0.136627\n",
       "false positive rate        0.904708\n",
       "false negative rate        0.027112\n",
       "selection rate             0.913454\n",
       "count                  89710.000000\n",
       "dtype: float64"
      ]
     },
     "execution_count": 67,
     "metadata": {},
     "output_type": "execute_result"
    }
   ],
   "source": [
    "metric_frame.overall"
   ]
  },
  {
   "cell_type": "markdown",
   "id": "e968fe9d",
   "metadata": {
    "papermill": {
     "duration": 0.026248,
     "end_time": "2025-07-28T10:37:42.130983",
     "exception": false,
     "start_time": "2025-07-28T10:37:42.104735",
     "status": "completed"
    },
    "tags": []
   },
   "source": [
    "By Group"
   ]
  },
  {
   "cell_type": "code",
   "execution_count": 68,
   "id": "ec325bce",
   "metadata": {
    "execution": {
     "iopub.execute_input": "2025-07-28T10:37:42.187788Z",
     "iopub.status.busy": "2025-07-28T10:37:42.186901Z",
     "iopub.status.idle": "2025-07-28T10:37:42.210998Z",
     "shell.execute_reply": "2025-07-28T10:37:42.209732Z"
    },
    "papermill": {
     "duration": 0.054838,
     "end_time": "2025-07-28T10:37:42.213038",
     "exception": false,
     "start_time": "2025-07-28T10:37:42.158200",
     "status": "completed"
    },
    "tags": []
   },
   "outputs": [
    {
     "data": {
      "text/html": [
       "<div>\n",
       "<style scoped>\n",
       "    .dataframe tbody tr th:only-of-type {\n",
       "        vertical-align: middle;\n",
       "    }\n",
       "\n",
       "    .dataframe tbody tr th {\n",
       "        vertical-align: top;\n",
       "    }\n",
       "\n",
       "    .dataframe thead th {\n",
       "        text-align: right;\n",
       "    }\n",
       "</style>\n",
       "<table border=\"1\" class=\"dataframe\">\n",
       "  <thead>\n",
       "    <tr style=\"text-align: right;\">\n",
       "      <th></th>\n",
       "      <th>accuracy</th>\n",
       "      <th>balanced accuracy</th>\n",
       "      <th>f1</th>\n",
       "      <th>precision</th>\n",
       "      <th>false positive rate</th>\n",
       "      <th>false negative rate</th>\n",
       "      <th>selection rate</th>\n",
       "      <th>count</th>\n",
       "    </tr>\n",
       "    <tr>\n",
       "      <th>majmin</th>\n",
       "      <th></th>\n",
       "      <th></th>\n",
       "      <th></th>\n",
       "      <th></th>\n",
       "      <th></th>\n",
       "      <th></th>\n",
       "      <th></th>\n",
       "      <th></th>\n",
       "    </tr>\n",
       "  </thead>\n",
       "  <tbody>\n",
       "    <tr>\n",
       "      <th>majority</th>\n",
       "      <td>0.195634</td>\n",
       "      <td>0.532872</td>\n",
       "      <td>0.245668</td>\n",
       "      <td>0.140209</td>\n",
       "      <td>0.925504</td>\n",
       "      <td>0.008753</td>\n",
       "      <td>0.934191</td>\n",
       "      <td>69170.0</td>\n",
       "    </tr>\n",
       "    <tr>\n",
       "      <th>minority</th>\n",
       "      <td>0.249075</td>\n",
       "      <td>0.533008</td>\n",
       "      <td>0.216897</td>\n",
       "      <td>0.123269</td>\n",
       "      <td>0.836011</td>\n",
       "      <td>0.097973</td>\n",
       "      <td>0.843622</td>\n",
       "      <td>20540.0</td>\n",
       "    </tr>\n",
       "  </tbody>\n",
       "</table>\n",
       "</div>"
      ],
      "text/plain": [
       "          accuracy  balanced accuracy        f1  precision  \\\n",
       "majmin                                                       \n",
       "majority  0.195634           0.532872  0.245668   0.140209   \n",
       "minority  0.249075           0.533008  0.216897   0.123269   \n",
       "\n",
       "          false positive rate  false negative rate  selection rate    count  \n",
       "majmin                                                                       \n",
       "majority             0.925504             0.008753        0.934191  69170.0  \n",
       "minority             0.836011             0.097973        0.843622  20540.0  "
      ]
     },
     "execution_count": 68,
     "metadata": {},
     "output_type": "execute_result"
    }
   ],
   "source": [
    "metric_frame.by_group"
   ]
  },
  {
   "cell_type": "code",
   "execution_count": 69,
   "id": "a9ddbe63",
   "metadata": {
    "execution": {
     "iopub.execute_input": "2025-07-28T10:37:42.269611Z",
     "iopub.status.busy": "2025-07-28T10:37:42.268999Z",
     "iopub.status.idle": "2025-07-28T10:37:44.859863Z",
     "shell.execute_reply": "2025-07-28T10:37:44.858649Z"
    },
    "papermill": {
     "duration": 2.621339,
     "end_time": "2025-07-28T10:37:44.862127",
     "exception": false,
     "start_time": "2025-07-28T10:37:42.240788",
     "status": "completed"
    },
    "tags": []
   },
   "outputs": [
    {
     "data": {
      "text/plain": [
       "array([[<Axes: title={'center': 'accuracy'}, xlabel='majmin'>,\n",
       "        <Axes: title={'center': 'balanced accuracy'}, xlabel='majmin'>,\n",
       "        <Axes: title={'center': 'f1'}, xlabel='majmin'>],\n",
       "       [<Axes: title={'center': 'precision'}, xlabel='majmin'>,\n",
       "        <Axes: title={'center': 'false positive rate'}, xlabel='majmin'>,\n",
       "        <Axes: title={'center': 'false negative rate'}, xlabel='majmin'>],\n",
       "       [<Axes: title={'center': 'selection rate'}, xlabel='majmin'>,\n",
       "        <Axes: title={'center': 'count'}, xlabel='majmin'>,\n",
       "        <Axes: xlabel='majmin'>]], dtype=object)"
      ]
     },
     "execution_count": 69,
     "metadata": {},
     "output_type": "execute_result"
    },
    {
     "data": {
      "image/png": "[encoded data removed]",
      "text/plain": [
       "<Figure size 1200x800 with 9 Axes>"
      ]
     },
     "metadata": {},
     "output_type": "display_data"
    }
   ],
   "source": [
    "# In a graphic\n",
    "metric_frame.by_group.plot.bar(\n",
    "    subplots=True,\n",
    "    layout=[3, 3],\n",
    "    legend=False,\n",
    "    figsize=[12, 8],\n",
    "    title=\"Show all metrics\",\n",
    ")"
   ]
  },
  {
   "cell_type": "markdown",
   "id": "f57a0bac",
   "metadata": {
    "papermill": {
     "duration": 0.014911,
     "end_time": "2025-07-28T10:37:44.898690",
     "exception": false,
     "start_time": "2025-07-28T10:37:44.883779",
     "status": "completed"
    },
    "tags": []
   },
   "source": [
    "# Final Output"
   ]
  },
  {
   "cell_type": "code",
   "execution_count": 70,
   "id": "96d280a3",
   "metadata": {
    "execution": {
     "iopub.execute_input": "2025-07-28T10:37:44.952356Z",
     "iopub.status.busy": "2025-07-28T10:37:44.951632Z",
     "iopub.status.idle": "2025-07-28T10:37:44.961043Z",
     "shell.execute_reply": "2025-07-28T10:37:44.959870Z"
    },
    "papermill": {
     "duration": 0.049978,
     "end_time": "2025-07-28T10:37:44.963411",
     "exception": false,
     "start_time": "2025-07-28T10:37:44.913433",
     "status": "completed"
    },
    "tags": []
   },
   "outputs": [
    {
     "data": {
      "text/plain": [
       "4"
      ]
     },
     "execution_count": 70,
     "metadata": {},
     "output_type": "execute_result"
    }
   ],
   "source": [
    "sub_universes = universe_analysis.generate_sub_universes()\n",
    "len(sub_universes)"
   ]
  },
  {
   "cell_type": "code",
   "execution_count": 71,
   "id": "92adf7ba",
   "metadata": {
    "execution": {
     "iopub.execute_input": "2025-07-28T10:37:45.001069Z",
     "iopub.status.busy": "2025-07-28T10:37:45.000705Z",
     "iopub.status.idle": "2025-07-28T10:37:45.006166Z",
     "shell.execute_reply": "2025-07-28T10:37:45.005396Z"
    },
    "papermill": {
     "duration": 0.023537,
     "end_time": "2025-07-28T10:37:45.007613",
     "exception": false,
     "start_time": "2025-07-28T10:37:44.984076",
     "status": "completed"
    },
    "tags": []
   },
   "outputs": [],
   "source": [
    "def filter_sub_universe_data(sub_universe, org_test):\n",
    "    # Keep all rows — no filtering\n",
    "    keep_rows_mask = np.ones(org_test.shape[0], dtype=bool)\n",
    "\n",
    "    print(f\"[INFO] Keeping all rows: {keep_rows_mask.sum()} rows retained.\")\n",
    "    return keep_rows_mask"
   ]
  },
  {
   "cell_type": "code",
   "execution_count": 72,
   "id": "4a759155",
   "metadata": {
    "execution": {
     "iopub.execute_input": "2025-07-28T10:37:45.062558Z",
     "iopub.status.busy": "2025-07-28T10:37:45.062061Z",
     "iopub.status.idle": "2025-07-28T10:37:56.417933Z",
     "shell.execute_reply": "2025-07-28T10:37:56.412965Z"
    },
    "papermill": {
     "duration": 11.394716,
     "end_time": "2025-07-28T10:37:56.419744",
     "exception": false,
     "start_time": "2025-07-28T10:37:45.025028",
     "status": "completed"
    },
    "tags": []
   },
   "outputs": [
    {
     "name": "stdout",
     "output_type": "stream",
     "text": [
      "Stopping execution_time clock.\n",
      "[INFO] Keeping all rows: 89710 rows retained.\n"
     ]
    },
    {
     "name": "stdout",
     "output_type": "stream",
     "text": [
      "[INFO] Keeping all rows: 89710 rows retained.\n"
     ]
    },
    {
     "name": "stdout",
     "output_type": "stream",
     "text": [
      "[INFO] Keeping all rows: 89710 rows retained.\n"
     ]
    },
    {
     "name": "stdout",
     "output_type": "stream",
     "text": [
      "[INFO] Keeping all rows: 89710 rows retained.\n"
     ]
    },
    {
     "data": {
      "text/html": [
       "<div>\n",
       "<style scoped>\n",
       "    .dataframe tbody tr th:only-of-type {\n",
       "        vertical-align: middle;\n",
       "    }\n",
       "\n",
       "    .dataframe tbody tr th {\n",
       "        vertical-align: top;\n",
       "    }\n",
       "\n",
       "    .dataframe thead th {\n",
       "        text-align: right;\n",
       "    }\n",
       "</style>\n",
       "<table border=\"1\" class=\"dataframe\">\n",
       "  <thead>\n",
       "    <tr style=\"text-align: right;\">\n",
       "      <th></th>\n",
       "      <th>run_no</th>\n",
       "      <th>universe_id</th>\n",
       "      <th>universe_settings</th>\n",
       "      <th>execution_time</th>\n",
       "      <th>test_size_n</th>\n",
       "      <th>test_size_frac</th>\n",
       "      <th>fair_main_equalized_odds_difference</th>\n",
       "      <th>fair_main_equalized_odds_ratio</th>\n",
       "      <th>fair_main_demographic_parity_difference</th>\n",
       "      <th>fair_main_demographic_parity_ratio</th>\n",
       "      <th>...</th>\n",
       "      <th>perf_grp_precision_0</th>\n",
       "      <th>perf_grp_precision_1</th>\n",
       "      <th>perf_grp_false positive rate_0</th>\n",
       "      <th>perf_grp_false positive rate_1</th>\n",
       "      <th>perf_grp_false negative rate_0</th>\n",
       "      <th>perf_grp_false negative rate_1</th>\n",
       "      <th>perf_grp_selection rate_0</th>\n",
       "      <th>perf_grp_selection rate_1</th>\n",
       "      <th>perf_grp_count_0</th>\n",
       "      <th>perf_grp_count_1</th>\n",
       "    </tr>\n",
       "  </thead>\n",
       "  <tbody>\n",
       "    <tr>\n",
       "      <th>0</th>\n",
       "      <td>11</td>\n",
       "      <td>f0cf0a8d1e47054d406d5e494a7d250f</td>\n",
       "      <td>{\"cutoff\": \"quantile_0.1\", \"eval_fairness_grou...</td>\n",
       "      <td>35.290497</td>\n",
       "      <td>89710</td>\n",
       "      <td>1.0</td>\n",
       "      <td>0.089492</td>\n",
       "      <td>0.903304</td>\n",
       "      <td>0.090569</td>\n",
       "      <td>0.903051</td>\n",
       "      <td>...</td>\n",
       "      <td>NaN</td>\n",
       "      <td>NaN</td>\n",
       "      <td>NaN</td>\n",
       "      <td>NaN</td>\n",
       "      <td>NaN</td>\n",
       "      <td>NaN</td>\n",
       "      <td>NaN</td>\n",
       "      <td>NaN</td>\n",
       "      <td>NaN</td>\n",
       "      <td>NaN</td>\n",
       "    </tr>\n",
       "    <tr>\n",
       "      <th>0</th>\n",
       "      <td>11</td>\n",
       "      <td>f0cf0a8d1e47054d406d5e494a7d250f</td>\n",
       "      <td>{\"cutoff\": \"quantile_0.1\", \"eval_fairness_grou...</td>\n",
       "      <td>35.290497</td>\n",
       "      <td>89710</td>\n",
       "      <td>1.0</td>\n",
       "      <td>0.089492</td>\n",
       "      <td>0.903304</td>\n",
       "      <td>0.090569</td>\n",
       "      <td>0.903051</td>\n",
       "      <td>...</td>\n",
       "      <td>0.123269</td>\n",
       "      <td>0.140209</td>\n",
       "      <td>0.836011</td>\n",
       "      <td>0.925504</td>\n",
       "      <td>0.097973</td>\n",
       "      <td>0.008753</td>\n",
       "      <td>0.843622</td>\n",
       "      <td>0.934191</td>\n",
       "      <td>20540.0</td>\n",
       "      <td>69170.0</td>\n",
       "    </tr>\n",
       "    <tr>\n",
       "      <th>0</th>\n",
       "      <td>11</td>\n",
       "      <td>f0cf0a8d1e47054d406d5e494a7d250f</td>\n",
       "      <td>{\"cutoff\": \"quantile_0.25\", \"eval_fairness_gro...</td>\n",
       "      <td>35.290497</td>\n",
       "      <td>89710</td>\n",
       "      <td>1.0</td>\n",
       "      <td>0.147115</td>\n",
       "      <td>0.846152</td>\n",
       "      <td>0.109276</td>\n",
       "      <td>0.861487</td>\n",
       "      <td>...</td>\n",
       "      <td>NaN</td>\n",
       "      <td>NaN</td>\n",
       "      <td>NaN</td>\n",
       "      <td>NaN</td>\n",
       "      <td>NaN</td>\n",
       "      <td>NaN</td>\n",
       "      <td>NaN</td>\n",
       "      <td>NaN</td>\n",
       "      <td>NaN</td>\n",
       "      <td>NaN</td>\n",
       "    </tr>\n",
       "    <tr>\n",
       "      <th>0</th>\n",
       "      <td>11</td>\n",
       "      <td>f0cf0a8d1e47054d406d5e494a7d250f</td>\n",
       "      <td>{\"cutoff\": \"quantile_0.25\", \"eval_fairness_gro...</td>\n",
       "      <td>35.290497</td>\n",
       "      <td>89710</td>\n",
       "      <td>1.0</td>\n",
       "      <td>0.147115</td>\n",
       "      <td>0.846152</td>\n",
       "      <td>0.109276</td>\n",
       "      <td>0.861487</td>\n",
       "      <td>...</td>\n",
       "      <td>0.137249</td>\n",
       "      <td>0.160161</td>\n",
       "      <td>0.662778</td>\n",
       "      <td>0.763452</td>\n",
       "      <td>0.190878</td>\n",
       "      <td>0.043764</td>\n",
       "      <td>0.679649</td>\n",
       "      <td>0.788926</td>\n",
       "      <td>20540.0</td>\n",
       "      <td>69170.0</td>\n",
       "    </tr>\n",
       "  </tbody>\n",
       "</table>\n",
       "<p>4 rows × 50 columns</p>\n",
       "</div>"
      ],
      "text/plain": [
       "  run_no                       universe_id  \\\n",
       "0     11  f0cf0a8d1e47054d406d5e494a7d250f   \n",
       "0     11  f0cf0a8d1e47054d406d5e494a7d250f   \n",
       "0     11  f0cf0a8d1e47054d406d5e494a7d250f   \n",
       "0     11  f0cf0a8d1e47054d406d5e494a7d250f   \n",
       "\n",
       "                                   universe_settings  execution_time  \\\n",
       "0  {\"cutoff\": \"quantile_0.1\", \"eval_fairness_grou...       35.290497   \n",
       "0  {\"cutoff\": \"quantile_0.1\", \"eval_fairness_grou...       35.290497   \n",
       "0  {\"cutoff\": \"quantile_0.25\", \"eval_fairness_gro...       35.290497   \n",
       "0  {\"cutoff\": \"quantile_0.25\", \"eval_fairness_gro...       35.290497   \n",
       "\n",
       "   test_size_n  test_size_frac  fair_main_equalized_odds_difference  \\\n",
       "0        89710             1.0                             0.089492   \n",
       "0        89710             1.0                             0.089492   \n",
       "0        89710             1.0                             0.147115   \n",
       "0        89710             1.0                             0.147115   \n",
       "\n",
       "   fair_main_equalized_odds_ratio  fair_main_demographic_parity_difference  \\\n",
       "0                        0.903304                                 0.090569   \n",
       "0                        0.903304                                 0.090569   \n",
       "0                        0.846152                                 0.109276   \n",
       "0                        0.846152                                 0.109276   \n",
       "\n",
       "   fair_main_demographic_parity_ratio  ...  perf_grp_precision_0  \\\n",
       "0                            0.903051  ...                   NaN   \n",
       "0                            0.903051  ...              0.123269   \n",
       "0                            0.861487  ...                   NaN   \n",
       "0                            0.861487  ...              0.137249   \n",
       "\n",
       "   perf_grp_precision_1  perf_grp_false positive rate_0  \\\n",
       "0                   NaN                             NaN   \n",
       "0              0.140209                        0.836011   \n",
       "0                   NaN                             NaN   \n",
       "0              0.160161                        0.662778   \n",
       "\n",
       "   perf_grp_false positive rate_1  perf_grp_false negative rate_0  \\\n",
       "0                             NaN                             NaN   \n",
       "0                        0.925504                        0.097973   \n",
       "0                             NaN                             NaN   \n",
       "0                        0.763452                        0.190878   \n",
       "\n",
       "   perf_grp_false negative rate_1  perf_grp_selection rate_0  \\\n",
       "0                             NaN                        NaN   \n",
       "0                        0.008753                   0.843622   \n",
       "0                             NaN                        NaN   \n",
       "0                        0.043764                   0.679649   \n",
       "\n",
       "   perf_grp_selection rate_1  perf_grp_count_0  perf_grp_count_1  \n",
       "0                        NaN               NaN               NaN  \n",
       "0                   0.934191           20540.0           69170.0  \n",
       "0                        NaN               NaN               NaN  \n",
       "0                   0.788926           20540.0           69170.0  \n",
       "\n",
       "[4 rows x 50 columns]"
      ]
     },
     "execution_count": 72,
     "metadata": {},
     "output_type": "execute_result"
    }
   ],
   "source": [
    "final_output = universe_analysis.generate_final_output(\n",
    "    y_pred_prob=probs_test,\n",
    "    y_test=y_true,\n",
    "    org_test=org_test,\n",
    "    filter_data=filter_sub_universe_data,\n",
    "    cp_metrics_df=cp_metrics_df,\n",
    "    save=True,\n",
    ")\n",
    "final_output"
   ]
  },
  {
   "cell_type": "code",
   "execution_count": null,
   "id": "721ff514-cb11-46f8-b6fc-50392f74b5cb",
   "metadata": {
    "papermill": {
     "duration": 0.065772,
     "end_time": "2025-07-28T10:37:56.538155",
     "exception": false,
     "start_time": "2025-07-28T10:37:56.472383",
     "status": "completed"
    },
    "tags": []
   },
   "outputs": [],
   "source": []
  }
 ],
 "metadata": {
  "celltoolbar": "Tags",
  "kernelspec": {
   "display_name": "Python (CMA Fairness)",
   "language": "python",
   "name": "cma_fair_env"
  },
  "language_info": {
   "codemirror_mode": {
    "name": "ipython",
    "version": 3
   },
   "file_extension": ".py",
   "mimetype": "text/x-python",
   "name": "python",
   "nbconvert_exporter": "python",
   "pygments_lexer": "ipython3",
   "version": "3.10.12"
  },
  "papermill": {
   "default_parameters": {},
   "duration": 52.24067,
   "end_time": "2025-07-28T10:37:57.531197",
   "environment_variables": {},
   "exception": null,
   "input_path": "universe_analysis.ipynb",
   "output_path": "output/runs/11/notebooks/m_11-f0cf0a8d1e47054d406d5e494a7d250f.ipynb",
   "parameters": {
    "output_dir": "output",
    "run_no": "11",
    "seed": "2023",
    "universe": "{\"cutoff\": [\"quantile_0.1\", \"quantile_0.25\"], \"eval_fairness_grouping\": [\"majority-minority\", \"nationality-all\"], \"exclude_features\": \"sex\", \"exclude_subgroups\": \"keep-all\", \"model\": \"rf\", \"scale\": \"do-not-scale\", \"training_size\": \"5k\"}",
    "universe_id": "f0cf0a8d1e47054d406d5e494a7d250f"
   },
   "start_time": "2025-07-28T10:37:05.290527",
   "version": "2.6.0"
  }
 },
 "nbformat": 4,
 "nbformat_minor": 5
}