{
 "cells": [
  {
   "cell_type": "code",
   "execution_count": 1,
   "id": "f159f837-637b-42ba-96b5-ec9a68c44524",
   "metadata": {
    "execution": {
     "iopub.execute_input": "2025-07-28T11:09:59.431234Z",
     "iopub.status.busy": "2025-07-28T11:09:59.430680Z",
     "iopub.status.idle": "2025-07-28T11:09:59.446273Z",
     "shell.execute_reply": "2025-07-28T11:09:59.445094Z"
    },
    "papermill": {
     "duration": 0.037743,
     "end_time": "2025-07-28T11:09:59.450507",
     "exception": false,
     "start_time": "2025-07-28T11:09:59.412764",
     "status": "completed"
    },
    "tags": []
   },
   "outputs": [
    {
     "name": "stdout",
     "output_type": "stream",
     "text": [
      "/dss/dsshome1/0C/ra93lal2/cma/CMA_Fairness_v2\n"
     ]
    },
    {
     "name": "stderr",
     "output_type": "stream",
     "text": [
      "/dss/dsshome1/0C/ra93lal2/.local/share/virtualenvs/CMA_Fairness_v2-3j10GkSs/lib/python3.10/site-packages/IPython/core/magics/osm.py:393: UserWarning: This is now an optional IPython functionality, using bookmarks requires you to install the `pickleshare` library.\n",
      "  bkms = self.shell.db.get('bookmarks', {})\n",
      "/dss/dsshome1/0C/ra93lal2/.local/share/virtualenvs/CMA_Fairness_v2-3j10GkSs/lib/python3.10/site-packages/IPython/core/magics/osm.py:417: UserWarning: This is now an optional IPython functionality, setting dhist requires you to install the `pickleshare` library.\n",
      "  self.shell.db['dhist'] = compress_dhist(dhist)[-100:]\n"
     ]
    }
   ],
   "source": [
    "%cd ~/cma/CMA_Fairness_v2"
   ]
  },
  {
   "cell_type": "markdown",
   "id": "de2603b9",
   "metadata": {
    "papermill": {
     "duration": 0.020804,
     "end_time": "2025-07-28T11:09:59.493005",
     "exception": false,
     "start_time": "2025-07-28T11:09:59.472201",
     "status": "completed"
    },
    "tags": []
   },
   "source": [
    "The following cell holds the definition of our parameters, these values can be overriden by rendering the with e.g. the following command:\n",
    "\n",
    "papermill -p alpha 0.2 -p ratio 0.3 universe_analysis.ipynb output/test_run.ipynb"
   ]
  },
  {
   "cell_type": "code",
   "execution_count": 2,
   "id": "a80968a0-40bb-4fa9-85ef-2d5eefb01975",
   "metadata": {
    "execution": {
     "iopub.execute_input": "2025-07-28T11:09:59.534683Z",
     "iopub.status.busy": "2025-07-28T11:09:59.534233Z",
     "iopub.status.idle": "2025-07-28T11:09:59.540396Z",
     "shell.execute_reply": "2025-07-28T11:09:59.539226Z"
    },
    "papermill": {
     "duration": 0.028598,
     "end_time": "2025-07-28T11:09:59.541951",
     "exception": false,
     "start_time": "2025-07-28T11:09:59.513353",
     "status": "completed"
    },
    "tags": []
   },
   "outputs": [
    {
     "name": "stdout",
     "output_type": "stream",
     "text": [
      "Current working directory: /dss/dsshome1/0C/ra93lal2/cma/CMA_Fairness_v2\n"
     ]
    }
   ],
   "source": [
    "import os\n",
    "print(\"Current working directory:\", os.getcwd())"
   ]
  },
  {
   "cell_type": "code",
   "execution_count": 3,
   "id": "2dce4c03",
   "metadata": {
    "execution": {
     "iopub.execute_input": "2025-07-28T11:09:59.564831Z",
     "iopub.status.busy": "2025-07-28T11:09:59.564302Z",
     "iopub.status.idle": "2025-07-28T11:09:59.569731Z",
     "shell.execute_reply": "2025-07-28T11:09:59.569088Z"
    },
    "papermill": {
     "duration": 0.018143,
     "end_time": "2025-07-28T11:09:59.571063",
     "exception": false,
     "start_time": "2025-07-28T11:09:59.552920",
     "status": "completed"
    },
    "tags": [
     "parameters"
    ]
   },
   "outputs": [],
   "source": [
    "run_no = 0\n",
    "universe_id = \"test\"\n",
    "universe = {\n",
    "    \"training_size\": \"2014\", # \"25k\", \"5k\", \"1k\", \"2014\"\n",
    "    \"scale\": \"scale\", # \"scale\", \"do-not-scale\",\n",
    "    #\"stratify_split\": \"target\", # \"none\", \"target\", \"protected-attribute\", \"both\",\n",
    "    \"model\": \"elasticnet\", # \"logreg\", \"penalized_logreg\", \"rf\", \"gbm\", \"elasticnet\"\n",
    "    \"cutoff\": [\"quantile_0.15\", \"quantile_0.30\"],\n",
    "    \"exclude_features\": \"age\", # \"none\", \"nationality\", \"sex\", \"nationality-sex\", \"age\"\n",
    "    \"exclude_subgroups\": \"keep-all\", # \"keep-all\", \"drop-non-german\"\n",
    "    \"eval_fairness_grouping\": [\"majority-minority\", \"nationality-all\"]\n",
    "}\n",
    "\n",
    "output_dir=\"./output\"\n",
    "seed=0"
   ]
  },
  {
   "cell_type": "code",
   "execution_count": 4,
   "id": "986e86fb",
   "metadata": {
    "execution": {
     "iopub.execute_input": "2025-07-28T11:09:59.592670Z",
     "iopub.status.busy": "2025-07-28T11:09:59.592102Z",
     "iopub.status.idle": "2025-07-28T11:09:59.598590Z",
     "shell.execute_reply": "2025-07-28T11:09:59.596405Z"
    },
    "papermill": {
     "duration": 0.019504,
     "end_time": "2025-07-28T11:09:59.601267",
     "exception": false,
     "start_time": "2025-07-28T11:09:59.581763",
     "status": "completed"
    },
    "tags": [
     "injected-parameters"
    ]
   },
   "outputs": [],
   "source": [
    "# Parameters\n",
    "universe_id = \"f1d5675ced168a0513f64b542fa7256d\"\n",
    "run_no = \"11\"\n",
    "universe = \"{\\\"cutoff\\\": [\\\"quantile_0.1\\\", \\\"quantile_0.25\\\"], \\\"eval_fairness_grouping\\\": [\\\"majority-minority\\\", \\\"nationality-all\\\"], \\\"exclude_features\\\": \\\"age\\\", \\\"exclude_subgroups\\\": \\\"drop-non-german\\\", \\\"model\\\": \\\"gbm\\\", \\\"scale\\\": \\\"do-not-scale\\\", \\\"training_size\\\": \\\"2014\\\"}\"\n",
    "output_dir = \"output\"\n",
    "seed = \"2023\"\n"
   ]
  },
  {
   "cell_type": "code",
   "execution_count": 5,
   "id": "1650acaf",
   "metadata": {
    "execution": {
     "iopub.execute_input": "2025-07-28T11:09:59.628925Z",
     "iopub.status.busy": "2025-07-28T11:09:59.628574Z",
     "iopub.status.idle": "2025-07-28T11:09:59.633215Z",
     "shell.execute_reply": "2025-07-28T11:09:59.632429Z"
    },
    "papermill": {
     "duration": 0.016469,
     "end_time": "2025-07-28T11:09:59.634452",
     "exception": false,
     "start_time": "2025-07-28T11:09:59.617983",
     "status": "completed"
    },
    "tags": []
   },
   "outputs": [],
   "source": [
    "import json\n",
    "# Parse universe into dict if it is passed as a string\n",
    "if isinstance(universe, str):\n",
    "    universe = json.loads(universe)"
   ]
  },
  {
   "cell_type": "code",
   "execution_count": 6,
   "id": "16620c48",
   "metadata": {
    "execution": {
     "iopub.execute_input": "2025-07-28T11:09:59.667115Z",
     "iopub.status.busy": "2025-07-28T11:09:59.666265Z",
     "iopub.status.idle": "2025-07-28T11:09:59.715088Z",
     "shell.execute_reply": "2025-07-28T11:09:59.714161Z"
    },
    "papermill": {
     "duration": 0.071882,
     "end_time": "2025-07-28T11:09:59.717074",
     "exception": false,
     "start_time": "2025-07-28T11:09:59.645192",
     "status": "completed"
    },
    "tags": []
   },
   "outputs": [],
   "source": [
    "# Auto-reload the custom package\n",
    "%load_ext autoreload\n",
    "%autoreload 1\n",
    "%aimport fairness_multiverse"
   ]
  },
  {
   "cell_type": "code",
   "execution_count": 7,
   "id": "01c5c9f3",
   "metadata": {
    "execution": {
     "iopub.execute_input": "2025-07-28T11:09:59.757454Z",
     "iopub.status.busy": "2025-07-28T11:09:59.756986Z",
     "iopub.status.idle": "2025-07-28T11:10:01.905139Z",
     "shell.execute_reply": "2025-07-28T11:10:01.904077Z"
    },
    "papermill": {
     "duration": 2.17063,
     "end_time": "2025-07-28T11:10:01.907134",
     "exception": false,
     "start_time": "2025-07-28T11:09:59.736504",
     "status": "completed"
    },
    "tags": []
   },
   "outputs": [],
   "source": [
    "from fairness_multiverse.universe import UniverseAnalysis\n",
    "\n",
    "universe_analysis = UniverseAnalysis(\n",
    "    run_no = run_no,\n",
    "    universe_id = universe_id,\n",
    "    universe = universe,\n",
    "    output_dir=output_dir,\n",
    ")"
   ]
  },
  {
   "cell_type": "code",
   "execution_count": 8,
   "id": "106241f5",
   "metadata": {
    "execution": {
     "iopub.execute_input": "2025-07-28T11:10:01.947577Z",
     "iopub.status.busy": "2025-07-28T11:10:01.946740Z",
     "iopub.status.idle": "2025-07-28T11:10:01.954415Z",
     "shell.execute_reply": "2025-07-28T11:10:01.953326Z"
    },
    "papermill": {
     "duration": 0.030323,
     "end_time": "2025-07-28T11:10:01.956644",
     "exception": false,
     "start_time": "2025-07-28T11:10:01.926321",
     "status": "completed"
    },
    "tags": []
   },
   "outputs": [
    {
     "name": "stdout",
     "output_type": "stream",
     "text": [
      "Using Seed: 2023\n"
     ]
    }
   ],
   "source": [
    "import numpy as np\n",
    "parsed_seed = int(seed)\n",
    "np.random.seed(parsed_seed)\n",
    "print(f\"Using Seed: {parsed_seed}\")"
   ]
  },
  {
   "cell_type": "markdown",
   "id": "e0ebdc57",
   "metadata": {
    "papermill": {
     "duration": 0.018669,
     "end_time": "2025-07-28T11:10:01.994960",
     "exception": false,
     "start_time": "2025-07-28T11:10:01.976291",
     "status": "completed"
    },
    "tags": []
   },
   "source": [
    "# Loading Data"
   ]
  },
  {
   "cell_type": "markdown",
   "id": "681925a3",
   "metadata": {
    "papermill": {
     "duration": 0.021131,
     "end_time": "2025-07-28T11:10:02.035331",
     "exception": false,
     "start_time": "2025-07-28T11:10:02.014200",
     "status": "completed"
    },
    "tags": []
   },
   "source": [
    "Load siab_train, siab_test, siab_calib and/or \n",
    "load siab_train_features, siab_train_labels"
   ]
  },
  {
   "cell_type": "code",
   "execution_count": 9,
   "id": "f0496b8a",
   "metadata": {
    "execution": {
     "iopub.execute_input": "2025-07-28T11:10:02.074487Z",
     "iopub.status.busy": "2025-07-28T11:10:02.073699Z",
     "iopub.status.idle": "2025-07-28T11:10:16.148746Z",
     "shell.execute_reply": "2025-07-28T11:10:16.147616Z"
    },
    "papermill": {
     "duration": 14.095959,
     "end_time": "2025-07-28T11:10:16.150191",
     "exception": false,
     "start_time": "2025-07-28T11:10:02.054232",
     "status": "completed"
    },
    "tags": []
   },
   "outputs": [
    {
     "name": "stdout",
     "output_type": "stream",
     "text": [
      "Loading SIAB data from cache: data/siab_cached.csv.gz\n"
     ]
    },
    {
     "name": "stdout",
     "output_type": "stream",
     "text": [
      "(643690, 164)\n"
     ]
    }
   ],
   "source": [
    "from pathlib import Path\n",
    "import pandas as pd\n",
    "\n",
    "# File paths\n",
    "raw_file = Path(\"data/raw/siab.csv\")\n",
    "cache_file = Path(\"data/siab_cached.csv.gz\")\n",
    "\n",
    "# Ensure cache directory exists\n",
    "cache_file.parent.mkdir(parents=True, exist_ok=True)\n",
    "\n",
    "# Load with simple caching\n",
    "if cache_file.exists():\n",
    "    print(f\"Loading SIAB data from cache: {cache_file}\")\n",
    "    siab = pd.read_csv(cache_file, compression='gzip')\n",
    "else:\n",
    "    print(f\"Cache not found. Reading raw SIAB data: {raw_file}\")\n",
    "    siab = pd.read_csv(raw_file)\n",
    "    siab.to_csv(cache_file, index=False, compression='gzip')\n",
    "    print(f\"Cached SIAB data to: {cache_file}\")\n",
    "\n",
    "# Now use `siab` DataFrame as needed\n",
    "print(siab.shape)"
   ]
  },
  {
   "cell_type": "code",
   "execution_count": 10,
   "id": "db0ca512-5f53-4dba-abdb-a2888bca41ba",
   "metadata": {
    "execution": {
     "iopub.execute_input": "2025-07-28T11:10:16.175473Z",
     "iopub.status.busy": "2025-07-28T11:10:16.174804Z",
     "iopub.status.idle": "2025-07-28T11:10:16.179914Z",
     "shell.execute_reply": "2025-07-28T11:10:16.179106Z"
    },
    "papermill": {
     "duration": 0.018159,
     "end_time": "2025-07-28T11:10:16.181357",
     "exception": false,
     "start_time": "2025-07-28T11:10:16.163198",
     "status": "completed"
    },
    "tags": []
   },
   "outputs": [],
   "source": [
    "#siab"
   ]
  },
  {
   "cell_type": "code",
   "execution_count": 11,
   "id": "a0edb063",
   "metadata": {
    "execution": {
     "iopub.execute_input": "2025-07-28T11:10:16.204130Z",
     "iopub.status.busy": "2025-07-28T11:10:16.203366Z",
     "iopub.status.idle": "2025-07-28T11:10:16.207820Z",
     "shell.execute_reply": "2025-07-28T11:10:16.207015Z"
    },
    "papermill": {
     "duration": 0.017024,
     "end_time": "2025-07-28T11:10:16.209229",
     "exception": false,
     "start_time": "2025-07-28T11:10:16.192205",
     "status": "completed"
    },
    "tags": []
   },
   "outputs": [],
   "source": [
    "#import pandas as pd\n",
    "#\n",
    "#X_train = pd.read_csv(\"./data/X_train.csv\")\n",
    "#y_train = pd.read_csv(\"./data/y_train.csv\")"
   ]
  },
  {
   "cell_type": "code",
   "execution_count": 12,
   "id": "63d08085",
   "metadata": {
    "execution": {
     "iopub.execute_input": "2025-07-28T11:10:16.232603Z",
     "iopub.status.busy": "2025-07-28T11:10:16.232090Z",
     "iopub.status.idle": "2025-07-28T11:10:16.236853Z",
     "shell.execute_reply": "2025-07-28T11:10:16.235984Z"
    },
    "papermill": {
     "duration": 0.017924,
     "end_time": "2025-07-28T11:10:16.238306",
     "exception": false,
     "start_time": "2025-07-28T11:10:16.220382",
     "status": "completed"
    },
    "tags": []
   },
   "outputs": [],
   "source": [
    "#X_test = pd.read_csv(\"./data/X_test.csv\")\n",
    "#y_true = pd.read_csv(\"./data/y_test.csv\")"
   ]
  },
  {
   "cell_type": "code",
   "execution_count": 13,
   "id": "98a8d0fa-1d3d-4ed8-bb2c-281470e24add",
   "metadata": {
    "execution": {
     "iopub.execute_input": "2025-07-28T11:10:16.261237Z",
     "iopub.status.busy": "2025-07-28T11:10:16.260842Z",
     "iopub.status.idle": "2025-07-28T11:10:16.265045Z",
     "shell.execute_reply": "2025-07-28T11:10:16.264250Z"
    },
    "papermill": {
     "duration": 0.016882,
     "end_time": "2025-07-28T11:10:16.266430",
     "exception": false,
     "start_time": "2025-07-28T11:10:16.249548",
     "status": "completed"
    },
    "tags": []
   },
   "outputs": [],
   "source": [
    "# Calibration data for conformal\n",
    "#X_calib = pd.read_csv(\"./data/X_calib.csv\")\n",
    "#y_calib = pd.read_csv(\"./data/y_calib.csv\")"
   ]
  },
  {
   "cell_type": "markdown",
   "id": "9901737e-04df-44f0-9100-f5ad144ed040",
   "metadata": {
    "papermill": {
     "duration": 0.010422,
     "end_time": "2025-07-28T11:10:16.288272",
     "exception": false,
     "start_time": "2025-07-28T11:10:16.277850",
     "status": "completed"
    },
    "tags": []
   },
   "source": [
    "# Splitting Data and Setting Training Data Size"
   ]
  },
  {
   "cell_type": "code",
   "execution_count": 14,
   "id": "acbc8f7d-8fc8-4e86-8c59-5dcb0f58384b",
   "metadata": {
    "execution": {
     "iopub.execute_input": "2025-07-28T11:10:16.310784Z",
     "iopub.status.busy": "2025-07-28T11:10:16.310236Z",
     "iopub.status.idle": "2025-07-28T11:10:16.316978Z",
     "shell.execute_reply": "2025-07-28T11:10:16.316180Z"
    },
    "papermill": {
     "duration": 0.019389,
     "end_time": "2025-07-28T11:10:16.318442",
     "exception": false,
     "start_time": "2025-07-28T11:10:16.299053",
     "status": "completed"
    },
    "tags": []
   },
   "outputs": [],
   "source": [
    "def sample_by_year(df, training_size, random_state=42):\n",
    "    if training_size == \"2014\":\n",
    "        return df[df[\"year\"] == 2014].reset_index(drop=True)\n",
    "    \n",
    "    size_map = {\n",
    "        \"25k\": 5000,\n",
    "        \"5k\": 1000,\n",
    "        \"1k\": 200\n",
    "    }\n",
    "\n",
    "    if training_size not in size_map:\n",
    "        return df.reset_index(drop=True)  # use all data\n",
    "\n",
    "    n_per_year = size_map[training_size]\n",
    "    grouped = df.groupby(\"year\")\n",
    "    sampled = grouped.apply(lambda x: x.sample(n=min(n_per_year, len(x)), random_state=random_state))\n",
    "    return sampled.reset_index(drop=True)"
   ]
  },
  {
   "cell_type": "code",
   "execution_count": 15,
   "id": "6d931f52-beaf-43ff-9e78-9d44a448d54e",
   "metadata": {
    "execution": {
     "iopub.execute_input": "2025-07-28T11:10:16.342345Z",
     "iopub.status.busy": "2025-07-28T11:10:16.341773Z",
     "iopub.status.idle": "2025-07-28T11:10:16.489095Z",
     "shell.execute_reply": "2025-07-28T11:10:16.488300Z"
    },
    "papermill": {
     "duration": 0.160506,
     "end_time": "2025-07-28T11:10:16.490641",
     "exception": false,
     "start_time": "2025-07-28T11:10:16.330135",
     "status": "completed"
    },
    "tags": []
   },
   "outputs": [],
   "source": [
    "siab_s = sample_by_year(siab, universe[\"training_size\"])"
   ]
  },
  {
   "cell_type": "code",
   "execution_count": 16,
   "id": "5db0a40e-a4e2-4920-be85-b12ae061d70d",
   "metadata": {
    "execution": {
     "iopub.execute_input": "2025-07-28T11:10:16.516131Z",
     "iopub.status.busy": "2025-07-28T11:10:16.515736Z",
     "iopub.status.idle": "2025-07-28T11:10:16.528189Z",
     "shell.execute_reply": "2025-07-28T11:10:16.527163Z"
    },
    "papermill": {
     "duration": 0.025756,
     "end_time": "2025-07-28T11:10:16.529867",
     "exception": false,
     "start_time": "2025-07-28T11:10:16.504111",
     "status": "completed"
    },
    "tags": []
   },
   "outputs": [
    {
     "data": {
      "text/plain": [
       "year\n",
       "2014    87158\n",
       "dtype: int64"
      ]
     },
     "metadata": {},
     "output_type": "display_data"
    }
   ],
   "source": [
    "display(siab_s.groupby(\"year\").size())"
   ]
  },
  {
   "cell_type": "code",
   "execution_count": 17,
   "id": "a561edb4-d032-42cb-8256-22eac1111c64",
   "metadata": {
    "execution": {
     "iopub.execute_input": "2025-07-28T11:10:16.553392Z",
     "iopub.status.busy": "2025-07-28T11:10:16.552840Z",
     "iopub.status.idle": "2025-07-28T11:10:16.824435Z",
     "shell.execute_reply": "2025-07-28T11:10:16.823607Z"
    },
    "papermill": {
     "duration": 0.2849,
     "end_time": "2025-07-28T11:10:16.826091",
     "exception": false,
     "start_time": "2025-07-28T11:10:16.541191",
     "status": "completed"
    },
    "tags": []
   },
   "outputs": [],
   "source": [
    "siab_train = siab_s[siab_s.year < 2015]\n",
    "siab_calib = siab[siab.year == 2015]\n",
    "siab_test = siab[siab.year == 2016]"
   ]
  },
  {
   "cell_type": "code",
   "execution_count": 18,
   "id": "472de16f-c3db-4916-846b-1f0de9cf1746",
   "metadata": {
    "execution": {
     "iopub.execute_input": "2025-07-28T11:10:16.850365Z",
     "iopub.status.busy": "2025-07-28T11:10:16.849962Z",
     "iopub.status.idle": "2025-07-28T11:10:16.901548Z",
     "shell.execute_reply": "2025-07-28T11:10:16.900484Z"
    },
    "papermill": {
     "duration": 0.065639,
     "end_time": "2025-07-28T11:10:16.903176",
     "exception": false,
     "start_time": "2025-07-28T11:10:16.837537",
     "status": "completed"
    },
    "tags": []
   },
   "outputs": [],
   "source": [
    "X_train = siab_train.iloc[:,4:164]\n",
    "y_train = siab_train.iloc[:, [3]]"
   ]
  },
  {
   "cell_type": "code",
   "execution_count": 19,
   "id": "828c96af-f43a-4ed6-ba47-8ac73a47d56c",
   "metadata": {
    "execution": {
     "iopub.execute_input": "2025-07-28T11:10:16.930707Z",
     "iopub.status.busy": "2025-07-28T11:10:16.929117Z",
     "iopub.status.idle": "2025-07-28T11:10:16.983638Z",
     "shell.execute_reply": "2025-07-28T11:10:16.982780Z"
    },
    "papermill": {
     "duration": 0.070475,
     "end_time": "2025-07-28T11:10:16.985398",
     "exception": false,
     "start_time": "2025-07-28T11:10:16.914923",
     "status": "completed"
    },
    "tags": []
   },
   "outputs": [],
   "source": [
    "X_calib = siab_calib.iloc[:,4:164]\n",
    "y_calib = siab_calib.iloc[:, [3]]"
   ]
  },
  {
   "cell_type": "code",
   "execution_count": 20,
   "id": "c34be9c3-6bd6-476e-acd3-845840e303be",
   "metadata": {
    "execution": {
     "iopub.execute_input": "2025-07-28T11:10:17.009550Z",
     "iopub.status.busy": "2025-07-28T11:10:17.009076Z",
     "iopub.status.idle": "2025-07-28T11:10:17.060171Z",
     "shell.execute_reply": "2025-07-28T11:10:17.059152Z"
    },
    "papermill": {
     "duration": 0.064317,
     "end_time": "2025-07-28T11:10:17.061596",
     "exception": false,
     "start_time": "2025-07-28T11:10:16.997279",
     "status": "completed"
    },
    "tags": []
   },
   "outputs": [],
   "source": [
    "X_test = siab_test.iloc[:,4:164]\n",
    "y_true = siab_test.iloc[:, [3]]"
   ]
  },
  {
   "cell_type": "code",
   "execution_count": 21,
   "id": "e6c733c5",
   "metadata": {
    "execution": {
     "iopub.execute_input": "2025-07-28T11:10:17.085654Z",
     "iopub.status.busy": "2025-07-28T11:10:17.085147Z",
     "iopub.status.idle": "2025-07-28T11:10:17.221502Z",
     "shell.execute_reply": "2025-07-28T11:10:17.220667Z"
    },
    "papermill": {
     "duration": 0.149239,
     "end_time": "2025-07-28T11:10:17.223047",
     "exception": false,
     "start_time": "2025-07-28T11:10:17.073808",
     "status": "completed"
    },
    "tags": []
   },
   "outputs": [],
   "source": [
    "# Auxiliary data needed downstream in the pipeline\n",
    "\n",
    "org_train = X_train.copy()\n",
    "org_test = X_test.copy()\n",
    "org_calib = X_calib.copy()"
   ]
  },
  {
   "cell_type": "markdown",
   "id": "0a4a1b33",
   "metadata": {
    "papermill": {
     "duration": 0.011014,
     "end_time": "2025-07-28T11:10:17.245507",
     "exception": false,
     "start_time": "2025-07-28T11:10:17.234493",
     "status": "completed"
    },
    "tags": []
   },
   "source": [
    "# Preprocessing Data"
   ]
  },
  {
   "cell_type": "code",
   "execution_count": 22,
   "id": "ca879031",
   "metadata": {
    "execution": {
     "iopub.execute_input": "2025-07-28T11:10:17.268345Z",
     "iopub.status.busy": "2025-07-28T11:10:17.267814Z",
     "iopub.status.idle": "2025-07-28T11:10:17.272917Z",
     "shell.execute_reply": "2025-07-28T11:10:17.272037Z"
    },
    "papermill": {
     "duration": 0.018203,
     "end_time": "2025-07-28T11:10:17.274245",
     "exception": false,
     "start_time": "2025-07-28T11:10:17.256042",
     "status": "completed"
    },
    "tags": []
   },
   "outputs": [],
   "source": [
    "# EXCLUDE PROTECTED FEATURES\n",
    "# ----------------------\n",
    "# \"exclude_features\": \"none\", # \"nationality\", \"sex\", \"nationality-sex\"\n",
    "\n",
    "excluded_features = universe[\"exclude_features\"].split(\"-\") # split, e.g.: \"nationality-sex\" -> [\"nationality\", \"sex\"]\n",
    "excluded_features_dictionary = {\n",
    "    \"nationality\": [\"maxdeutsch1\", \"maxdeutsch.Missing.\"],\n",
    "    \"sex\": [\"frau1\"],\n",
    "    \"age\": [\"age\"],\n",
    "}\n"
   ]
  },
  {
   "cell_type": "code",
   "execution_count": 23,
   "id": "b745ac60",
   "metadata": {
    "execution": {
     "iopub.execute_input": "2025-07-28T11:10:17.298188Z",
     "iopub.status.busy": "2025-07-28T11:10:17.297389Z",
     "iopub.status.idle": "2025-07-28T11:10:17.302898Z",
     "shell.execute_reply": "2025-07-28T11:10:17.302092Z"
    },
    "papermill": {
     "duration": 0.018507,
     "end_time": "2025-07-28T11:10:17.304252",
     "exception": false,
     "start_time": "2025-07-28T11:10:17.285745",
     "status": "completed"
    },
    "tags": []
   },
   "outputs": [],
   "source": [
    "# Code nice names to column names\n",
    "\n",
    "excluded_features_columns = [\n",
    "    excluded_features_dictionary[f] for f in excluded_features if len(f) > 0 and f != \"none\"\n",
    "]"
   ]
  },
  {
   "cell_type": "code",
   "execution_count": 24,
   "id": "f84f73a2",
   "metadata": {
    "execution": {
     "iopub.execute_input": "2025-07-28T11:10:17.328618Z",
     "iopub.status.busy": "2025-07-28T11:10:17.327805Z",
     "iopub.status.idle": "2025-07-28T11:10:17.333643Z",
     "shell.execute_reply": "2025-07-28T11:10:17.332881Z"
    },
    "papermill": {
     "duration": 0.019183,
     "end_time": "2025-07-28T11:10:17.335068",
     "exception": false,
     "start_time": "2025-07-28T11:10:17.315885",
     "status": "completed"
    },
    "tags": []
   },
   "outputs": [],
   "source": [
    "from utils import flatten_once\n",
    "\n",
    "excluded_features_columns = flatten_once(excluded_features_columns)"
   ]
  },
  {
   "cell_type": "code",
   "execution_count": 25,
   "id": "884dea22",
   "metadata": {
    "execution": {
     "iopub.execute_input": "2025-07-28T11:10:17.359142Z",
     "iopub.status.busy": "2025-07-28T11:10:17.358614Z",
     "iopub.status.idle": "2025-07-28T11:10:17.409441Z",
     "shell.execute_reply": "2025-07-28T11:10:17.408697Z"
    },
    "papermill": {
     "duration": 0.064059,
     "end_time": "2025-07-28T11:10:17.410997",
     "exception": false,
     "start_time": "2025-07-28T11:10:17.346938",
     "status": "completed"
    },
    "tags": []
   },
   "outputs": [
    {
     "name": "stdout",
     "output_type": "stream",
     "text": [
      "Dropping features: ['age']\n"
     ]
    }
   ],
   "source": [
    "if len(excluded_features_columns) > 0:\n",
    "    print(f\"Dropping features: {excluded_features_columns}\")\n",
    "    X_train.drop(excluded_features_columns, axis=1, inplace=True)"
   ]
  },
  {
   "cell_type": "code",
   "execution_count": 26,
   "id": "95ab8b16",
   "metadata": {
    "execution": {
     "iopub.execute_input": "2025-07-28T11:10:17.436017Z",
     "iopub.status.busy": "2025-07-28T11:10:17.435205Z",
     "iopub.status.idle": "2025-07-28T11:10:17.486536Z",
     "shell.execute_reply": "2025-07-28T11:10:17.485637Z"
    },
    "papermill": {
     "duration": 0.065021,
     "end_time": "2025-07-28T11:10:17.488125",
     "exception": false,
     "start_time": "2025-07-28T11:10:17.423104",
     "status": "completed"
    },
    "tags": []
   },
   "outputs": [
    {
     "name": "stdout",
     "output_type": "stream",
     "text": [
      "Dropping features: ['age']\n"
     ]
    }
   ],
   "source": [
    "if len(excluded_features_columns) > 0:\n",
    "    print(f\"Dropping features: {excluded_features_columns}\")\n",
    "    X_test.drop(excluded_features_columns, axis=1, inplace=True)"
   ]
  },
  {
   "cell_type": "code",
   "execution_count": 27,
   "id": "1853aaf5-fb9f-46cb-a2b5-8ea4ae2237e4",
   "metadata": {
    "execution": {
     "iopub.execute_input": "2025-07-28T11:10:17.513099Z",
     "iopub.status.busy": "2025-07-28T11:10:17.512578Z",
     "iopub.status.idle": "2025-07-28T11:10:17.563768Z",
     "shell.execute_reply": "2025-07-28T11:10:17.562923Z"
    },
    "papermill": {
     "duration": 0.06495,
     "end_time": "2025-07-28T11:10:17.565147",
     "exception": false,
     "start_time": "2025-07-28T11:10:17.500197",
     "status": "completed"
    },
    "tags": []
   },
   "outputs": [
    {
     "name": "stdout",
     "output_type": "stream",
     "text": [
      "Dropping features: ['age']\n"
     ]
    }
   ],
   "source": [
    "if len(excluded_features_columns) > 0:\n",
    "    print(f\"Dropping features: {excluded_features_columns}\")\n",
    "    X_calib.drop(excluded_features_columns, axis=1, inplace=True)"
   ]
  },
  {
   "cell_type": "code",
   "execution_count": 28,
   "id": "6727d079-03e5-481e-9d38-292a90b7a0a8",
   "metadata": {
    "execution": {
     "iopub.execute_input": "2025-07-28T11:10:17.590643Z",
     "iopub.status.busy": "2025-07-28T11:10:17.590067Z",
     "iopub.status.idle": "2025-07-28T11:10:17.594480Z",
     "shell.execute_reply": "2025-07-28T11:10:17.593636Z"
    },
    "papermill": {
     "duration": 0.018029,
     "end_time": "2025-07-28T11:10:17.595833",
     "exception": false,
     "start_time": "2025-07-28T11:10:17.577804",
     "status": "completed"
    },
    "tags": []
   },
   "outputs": [],
   "source": [
    "# SPLIT & STRATIFY DATA\n",
    "# ----------------------"
   ]
  },
  {
   "cell_type": "code",
   "execution_count": 29,
   "id": "76c4dc6d",
   "metadata": {
    "execution": {
     "iopub.execute_input": "2025-07-28T11:10:17.621215Z",
     "iopub.status.busy": "2025-07-28T11:10:17.620640Z",
     "iopub.status.idle": "2025-07-28T11:10:17.625996Z",
     "shell.execute_reply": "2025-07-28T11:10:17.625219Z"
    },
    "papermill": {
     "duration": 0.01914,
     "end_time": "2025-07-28T11:10:17.627311",
     "exception": false,
     "start_time": "2025-07-28T11:10:17.608171",
     "status": "completed"
    },
    "tags": []
   },
   "outputs": [],
   "source": [
    "# EXCLUDE CERTAIN SUBGROUPS\n",
    "# ----------------------\n",
    "\n",
    "mode = universe.get(\"exclude_subgroups\", \"keep-all\") \n",
    "# Fetches the exclude_subgroups setting from the universe dict.\n",
    "# Defaults to \"keep-all\" if the key is missing."
   ]
  },
  {
   "cell_type": "code",
   "execution_count": 30,
   "id": "21994072",
   "metadata": {
    "execution": {
     "iopub.execute_input": "2025-07-28T11:10:17.652709Z",
     "iopub.status.busy": "2025-07-28T11:10:17.652098Z",
     "iopub.status.idle": "2025-07-28T11:10:17.658123Z",
     "shell.execute_reply": "2025-07-28T11:10:17.657365Z"
    },
    "papermill": {
     "duration": 0.019869,
     "end_time": "2025-07-28T11:10:17.659562",
     "exception": false,
     "start_time": "2025-07-28T11:10:17.639693",
     "status": "completed"
    },
    "tags": []
   },
   "outputs": [],
   "source": [
    "if mode == \"keep-all\":\n",
    "    keep_mask = pd.Series(True, index=org_train.index)\n",
    "\n",
    "# org_train contains the original feature columns from features_org (in Simson)\n",
    "# features_org contains unprocessed features, for me X_train at beginning ???\n",
    "# For keep-all, creates a boolean Series (keep_mask) of all True, so no rows are removed.\n",
    "\n",
    "elif mode == \"drop-non-german\":\n",
    "    keep_mask = org_train[\"maxdeutsch1\"] == 1 # ??? what about missing values?\n",
    "\n",
    "else:\n",
    "    raise ValueError(f\"Unsupported mode for exclude_subgroups: {mode}\")\n"
   ]
  },
  {
   "cell_type": "code",
   "execution_count": 31,
   "id": "71651440",
   "metadata": {
    "execution": {
     "iopub.execute_input": "2025-07-28T11:10:17.684978Z",
     "iopub.status.busy": "2025-07-28T11:10:17.684456Z",
     "iopub.status.idle": "2025-07-28T11:10:17.691127Z",
     "shell.execute_reply": "2025-07-28T11:10:17.690409Z"
    },
    "papermill": {
     "duration": 0.020548,
     "end_time": "2025-07-28T11:10:17.692593",
     "exception": false,
     "start_time": "2025-07-28T11:10:17.672045",
     "status": "completed"
    },
    "tags": []
   },
   "outputs": [
    {
     "name": "stdout",
     "output_type": "stream",
     "text": [
      "Dropping 12995 rows (14.91%) where mode='drop-non-german'\n"
     ]
    }
   ],
   "source": [
    "n_drop = (~keep_mask).sum() # Calculates how many rows are set to be dropped\n",
    "if n_drop > 0:\n",
    "    pct = n_drop / len(keep_mask) * 100\n",
    "    print(f\"Dropping {n_drop} rows ({pct:.2f}%) where mode='{mode}'\")"
   ]
  },
  {
   "cell_type": "code",
   "execution_count": 32,
   "id": "5fb8eee5",
   "metadata": {
    "execution": {
     "iopub.execute_input": "2025-07-28T11:10:17.718343Z",
     "iopub.status.busy": "2025-07-28T11:10:17.717776Z",
     "iopub.status.idle": "2025-07-28T11:10:17.768265Z",
     "shell.execute_reply": "2025-07-28T11:10:17.767367Z"
    },
    "papermill": {
     "duration": 0.064833,
     "end_time": "2025-07-28T11:10:17.770091",
     "exception": false,
     "start_time": "2025-07-28T11:10:17.705258",
     "status": "completed"
    },
    "tags": []
   },
   "outputs": [],
   "source": [
    "X_train = X_train[keep_mask]"
   ]
  },
  {
   "cell_type": "code",
   "execution_count": 33,
   "id": "b202bb3a",
   "metadata": {
    "execution": {
     "iopub.execute_input": "2025-07-28T11:10:17.795991Z",
     "iopub.status.busy": "2025-07-28T11:10:17.795626Z",
     "iopub.status.idle": "2025-07-28T11:10:17.801580Z",
     "shell.execute_reply": "2025-07-28T11:10:17.800804Z"
    },
    "papermill": {
     "duration": 0.020153,
     "end_time": "2025-07-28T11:10:17.802988",
     "exception": false,
     "start_time": "2025-07-28T11:10:17.782835",
     "status": "completed"
    },
    "tags": []
   },
   "outputs": [],
   "source": [
    "y_train = y_train[keep_mask]"
   ]
  },
  {
   "cell_type": "markdown",
   "id": "493e2ac3",
   "metadata": {
    "papermill": {
     "duration": 0.01163,
     "end_time": "2025-07-28T11:10:17.827191",
     "exception": false,
     "start_time": "2025-07-28T11:10:17.815561",
     "status": "completed"
    },
    "tags": []
   },
   "source": [
    "# Model Training"
   ]
  },
  {
   "cell_type": "code",
   "execution_count": 34,
   "id": "679e1268",
   "metadata": {
    "execution": {
     "iopub.execute_input": "2025-07-28T11:10:17.851883Z",
     "iopub.status.busy": "2025-07-28T11:10:17.851333Z",
     "iopub.status.idle": "2025-07-28T11:10:17.930626Z",
     "shell.execute_reply": "2025-07-28T11:10:17.929847Z"
    },
    "papermill": {
     "duration": 0.093349,
     "end_time": "2025-07-28T11:10:17.932264",
     "exception": false,
     "start_time": "2025-07-28T11:10:17.838915",
     "status": "completed"
    },
    "tags": []
   },
   "outputs": [],
   "source": [
    "from sklearn.linear_model import LogisticRegression\n",
    "from sklearn.ensemble import GradientBoostingClassifier, RandomForestClassifier\n",
    "\n",
    "if (universe[\"model\"] == \"logreg\"):\n",
    "    model = LogisticRegression() #penalty=\"none\") #, solver=\"newton-cg\", max_iter=1) # include random_state=19 ?\n",
    "elif (universe[\"model\"] == \"penalized_logreg\"):\n",
    "    model = LogisticRegression(penalty=\"l2\", C=1.0) #, solver=\"newton-cg\", max_iter=1)\n",
    "elif (universe[\"model\"] == \"rf\"):\n",
    "    model = RandomForestClassifier(n_estimators=100, n_jobs=-1)\n",
    "elif (universe[\"model\"] == \"gbm\"):\n",
    "    model = GradientBoostingClassifier()\n",
    "elif (universe[\"model\"] == \"elasticnet\"):\n",
    "    model = LogisticRegression(penalty = 'elasticnet', solver = 'saga', l1_ratio = 0.5, max_iter=5000) # which solver to use?\n",
    "else:\n",
    "    raise \"Unsupported universe.model\""
   ]
  },
  {
   "cell_type": "code",
   "execution_count": 35,
   "id": "0cc8f744",
   "metadata": {
    "execution": {
     "iopub.execute_input": "2025-07-28T11:10:17.958288Z",
     "iopub.status.busy": "2025-07-28T11:10:17.957771Z",
     "iopub.status.idle": "2025-07-28T11:10:17.963587Z",
     "shell.execute_reply": "2025-07-28T11:10:17.962630Z"
    },
    "papermill": {
     "duration": 0.020334,
     "end_time": "2025-07-28T11:10:17.965094",
     "exception": false,
     "start_time": "2025-07-28T11:10:17.944760",
     "status": "completed"
    },
    "tags": []
   },
   "outputs": [],
   "source": [
    "import numpy as np\n",
    "from sklearn.pipeline import Pipeline\n",
    "from sklearn.preprocessing import StandardScaler\n",
    "\n",
    "model = Pipeline([\n",
    "    #(\"continuous_processor\", continuous_processor),\n",
    "    #(\"categorical_preprocessor\", categorical_preprocessor),\n",
    "    (\"scale\", StandardScaler() if universe[\"scale\"] == \"scale\" else None), \n",
    "    (\"model\", model),\n",
    "])"
   ]
  },
  {
   "cell_type": "code",
   "execution_count": 36,
   "id": "9442c04d",
   "metadata": {
    "execution": {
     "iopub.execute_input": "2025-07-28T11:10:17.991280Z",
     "iopub.status.busy": "2025-07-28T11:10:17.990759Z",
     "iopub.status.idle": "2025-07-28T11:11:50.334114Z",
     "shell.execute_reply": "2025-07-28T11:11:50.333012Z"
    },
    "papermill": {
     "duration": 92.366383,
     "end_time": "2025-07-28T11:11:50.344301",
     "exception": false,
     "start_time": "2025-07-28T11:10:17.977918",
     "status": "completed"
    },
    "tags": []
   },
   "outputs": [
    {
     "data": {
      "text/html": [
       "<style>#sk-container-id-1 {color: black;background-color: white;}#sk-container-id-1 pre{padding: 0;}#sk-container-id-1 div.sk-toggleable {background-color: white;}#sk-container-id-1 label.sk-toggleable__label {cursor: pointer;display: block;width: 100%;margin-bottom: 0;padding: 0.3em;box-sizing: border-box;text-align: center;}#sk-container-id-1 label.sk-toggleable__label-arrow:before {content: \"▸\";float: left;margin-right: 0.25em;color: #696969;}#sk-container-id-1 label.sk-toggleable__label-arrow:hover:before {color: black;}#sk-container-id-1 div.sk-estimator:hover label.sk-toggleable__label-arrow:before {color: black;}#sk-container-id-1 div.sk-toggleable__content {max-height: 0;max-width: 0;overflow: hidden;text-align: left;background-color: #f0f8ff;}#sk-container-id-1 div.sk-toggleable__content pre {margin: 0.2em;color: black;border-radius: 0.25em;background-color: #f0f8ff;}#sk-container-id-1 input.sk-toggleable__control:checked~div.sk-toggleable__content {max-height: 200px;max-width: 100%;overflow: auto;}#sk-container-id-1 input.sk-toggleable__control:checked~label.sk-toggleable__label-arrow:before {content: \"▾\";}#sk-container-id-1 div.sk-estimator input.sk-toggleable__control:checked~label.sk-toggleable__label {background-color: #d4ebff;}#sk-container-id-1 div.sk-label input.sk-toggleable__control:checked~label.sk-toggleable__label {background-color: #d4ebff;}#sk-container-id-1 input.sk-hidden--visually {border: 0;clip: rect(1px 1px 1px 1px);clip: rect(1px, 1px, 1px, 1px);height: 1px;margin: -1px;overflow: hidden;padding: 0;position: absolute;width: 1px;}#sk-container-id-1 div.sk-estimator {font-family: monospace;background-color: #f0f8ff;border: 1px dotted black;border-radius: 0.25em;box-sizing: border-box;margin-bottom: 0.5em;}#sk-container-id-1 div.sk-estimator:hover {background-color: #d4ebff;}#sk-container-id-1 div.sk-parallel-item::after {content: \"\";width: 100%;border-bottom: 1px solid gray;flex-grow: 1;}#sk-container-id-1 div.sk-label:hover label.sk-toggleable__label {background-color: #d4ebff;}#sk-container-id-1 div.sk-serial::before {content: \"\";position: absolute;border-left: 1px solid gray;box-sizing: border-box;top: 0;bottom: 0;left: 50%;z-index: 0;}#sk-container-id-1 div.sk-serial {display: flex;flex-direction: column;align-items: center;background-color: white;padding-right: 0.2em;padding-left: 0.2em;position: relative;}#sk-container-id-1 div.sk-item {position: relative;z-index: 1;}#sk-container-id-1 div.sk-parallel {display: flex;align-items: stretch;justify-content: center;background-color: white;position: relative;}#sk-container-id-1 div.sk-item::before, #sk-container-id-1 div.sk-parallel-item::before {content: \"\";position: absolute;border-left: 1px solid gray;box-sizing: border-box;top: 0;bottom: 0;left: 50%;z-index: -1;}#sk-container-id-1 div.sk-parallel-item {display: flex;flex-direction: column;z-index: 1;position: relative;background-color: white;}#sk-container-id-1 div.sk-parallel-item:first-child::after {align-self: flex-end;width: 50%;}#sk-container-id-1 div.sk-parallel-item:last-child::after {align-self: flex-start;width: 50%;}#sk-container-id-1 div.sk-parallel-item:only-child::after {width: 0;}#sk-container-id-1 div.sk-dashed-wrapped {border: 1px dashed gray;margin: 0 0.4em 0.5em 0.4em;box-sizing: border-box;padding-bottom: 0.4em;background-color: white;}#sk-container-id-1 div.sk-label label {font-family: monospace;font-weight: bold;display: inline-block;line-height: 1.2em;}#sk-container-id-1 div.sk-label-container {text-align: center;}#sk-container-id-1 div.sk-container {/* jupyter's `normalize.less` sets `[hidden] { display: none; }` but bootstrap.min.css set `[hidden] { display: none !important; }` so we also need the `!important` here to be able to override the default hidden behavior on the sphinx rendered scikit-learn.org. See: https://github.com/scikit-learn/scikit-learn/issues/21755 */display: inline-block !important;position: relative;}#sk-container-id-1 div.sk-text-repr-fallback {display: none;}</style><div id=\"sk-container-id-1\" class=\"sk-top-container\"><div class=\"sk-text-repr-fallback\"><pre>Pipeline(steps=[(&#x27;scale&#x27;, None), (&#x27;model&#x27;, GradientBoostingClassifier())])</pre><b>In a Jupyter environment, please rerun this cell to show the HTML representation or trust the notebook. <br />On GitHub, the HTML representation is unable to render, please try loading this page with nbviewer.org.</b></div><div class=\"sk-container\" hidden><div class=\"sk-item sk-dashed-wrapped\"><div class=\"sk-label-container\"><div class=\"sk-label sk-toggleable\"><input class=\"sk-toggleable__control sk-hidden--visually\" id=\"sk-estimator-id-1\" type=\"checkbox\" ><label for=\"sk-estimator-id-1\" class=\"sk-toggleable__label sk-toggleable__label-arrow\">Pipeline</label><div class=\"sk-toggleable__content\"><pre>Pipeline(steps=[(&#x27;scale&#x27;, None), (&#x27;model&#x27;, GradientBoostingClassifier())])</pre></div></div></div><div class=\"sk-serial\"><div class=\"sk-item\"><div class=\"sk-estimator sk-toggleable\"><input class=\"sk-toggleable__control sk-hidden--visually\" id=\"sk-estimator-id-2\" type=\"checkbox\" ><label for=\"sk-estimator-id-2\" class=\"sk-toggleable__label sk-toggleable__label-arrow\">None</label><div class=\"sk-toggleable__content\"><pre>None</pre></div></div></div><div class=\"sk-item\"><div class=\"sk-estimator sk-toggleable\"><input class=\"sk-toggleable__control sk-hidden--visually\" id=\"sk-estimator-id-3\" type=\"checkbox\" ><label for=\"sk-estimator-id-3\" class=\"sk-toggleable__label sk-toggleable__label-arrow\">GradientBoostingClassifier</label><div class=\"sk-toggleable__content\"><pre>GradientBoostingClassifier()</pre></div></div></div></div></div></div></div>"
      ],
      "text/plain": [
       "Pipeline(steps=[('scale', None), ('model', GradientBoostingClassifier())])"
      ]
     },
     "execution_count": 36,
     "metadata": {},
     "output_type": "execute_result"
    }
   ],
   "source": [
    "model.fit(X_train, y_train.values.ravel())"
   ]
  },
  {
   "cell_type": "code",
   "execution_count": 37,
   "id": "af59f8c0",
   "metadata": {
    "execution": {
     "iopub.execute_input": "2025-07-28T11:11:50.387900Z",
     "iopub.status.busy": "2025-07-28T11:11:50.387199Z",
     "iopub.status.idle": "2025-07-28T11:11:50.393161Z",
     "shell.execute_reply": "2025-07-28T11:11:50.392233Z"
    },
    "papermill": {
     "duration": 0.029545,
     "end_time": "2025-07-28T11:11:50.394730",
     "exception": false,
     "start_time": "2025-07-28T11:11:50.365185",
     "status": "completed"
    },
    "tags": []
   },
   "outputs": [],
   "source": [
    "from fairness_multiverse.universe import predict_w_threshold"
   ]
  },
  {
   "cell_type": "code",
   "execution_count": 38,
   "id": "a7cf2e16",
   "metadata": {
    "execution": {
     "iopub.execute_input": "2025-07-28T11:11:50.439155Z",
     "iopub.status.busy": "2025-07-28T11:11:50.438493Z",
     "iopub.status.idle": "2025-07-28T11:11:51.110856Z",
     "shell.execute_reply": "2025-07-28T11:11:51.110020Z"
    },
    "papermill": {
     "duration": 0.696347,
     "end_time": "2025-07-28T11:11:51.112590",
     "exception": false,
     "start_time": "2025-07-28T11:11:50.416243",
     "status": "completed"
    },
    "tags": []
   },
   "outputs": [
    {
     "data": {
      "text/plain": [
       "0.8707279010143797"
      ]
     },
     "execution_count": 38,
     "metadata": {},
     "output_type": "execute_result"
    }
   ],
   "source": [
    "probs_test = model.predict_proba(X_test)\n",
    "\n",
    "'''\n",
    "Below code returns a boolean array (or binary 0/1 array depending on how it’s used) where each element \n",
    "is True if the probability of class 1 is greater than or equal to the threshold, and False otherwise.\n",
    "'''\n",
    "y_pred_default = predict_w_threshold(probs_test, 0.5)\n",
    "\n",
    "from sklearn.metrics import accuracy_score\n",
    "\n",
    "# Naive prediction\n",
    "accuracy_score(y_true = y_true, y_pred = y_pred_default)"
   ]
  },
  {
   "cell_type": "code",
   "execution_count": 39,
   "id": "081964c3",
   "metadata": {
    "execution": {
     "iopub.execute_input": "2025-07-28T11:11:51.157205Z",
     "iopub.status.busy": "2025-07-28T11:11:51.156498Z",
     "iopub.status.idle": "2025-07-28T11:11:51.830689Z",
     "shell.execute_reply": "2025-07-28T11:11:51.829784Z"
    },
    "papermill": {
     "duration": 0.697943,
     "end_time": "2025-07-28T11:11:51.832370",
     "exception": false,
     "start_time": "2025-07-28T11:11:51.134427",
     "status": "completed"
    },
    "tags": []
   },
   "outputs": [
    {
     "data": {
      "text/plain": [
       "array([0, 0, 0, ..., 0, 0, 0])"
      ]
     },
     "execution_count": 39,
     "metadata": {},
     "output_type": "execute_result"
    }
   ],
   "source": [
    "model.predict(X_test)"
   ]
  },
  {
   "cell_type": "markdown",
   "id": "56c9705b",
   "metadata": {
    "papermill": {
     "duration": 0.021095,
     "end_time": "2025-07-28T11:11:51.875367",
     "exception": false,
     "start_time": "2025-07-28T11:11:51.854272",
     "status": "completed"
    },
    "tags": []
   },
   "source": [
    "# Conformal Prediction"
   ]
  },
  {
   "cell_type": "code",
   "execution_count": 40,
   "id": "160ec6ff",
   "metadata": {
    "execution": {
     "iopub.execute_input": "2025-07-28T11:11:51.919629Z",
     "iopub.status.busy": "2025-07-28T11:11:51.918909Z",
     "iopub.status.idle": "2025-07-28T11:11:51.924221Z",
     "shell.execute_reply": "2025-07-28T11:11:51.923299Z"
    },
    "papermill": {
     "duration": 0.029363,
     "end_time": "2025-07-28T11:11:51.925828",
     "exception": false,
     "start_time": "2025-07-28T11:11:51.896465",
     "status": "completed"
    },
    "tags": []
   },
   "outputs": [],
   "source": [
    "# Miscoverage level for conformal prediction (10% allowed error rate => 90% target coverage)\n",
    "alpha = 0.1"
   ]
  },
  {
   "cell_type": "code",
   "execution_count": 41,
   "id": "eadf4555-3dd3-440e-8e35-f82a4ad9f855",
   "metadata": {
    "execution": {
     "iopub.execute_input": "2025-07-28T11:11:51.970818Z",
     "iopub.status.busy": "2025-07-28T11:11:51.969902Z",
     "iopub.status.idle": "2025-07-28T11:11:52.588107Z",
     "shell.execute_reply": "2025-07-28T11:11:52.587120Z"
    },
    "papermill": {
     "duration": 0.642866,
     "end_time": "2025-07-28T11:11:52.590344",
     "exception": false,
     "start_time": "2025-07-28T11:11:51.947478",
     "status": "completed"
    },
    "tags": []
   },
   "outputs": [],
   "source": [
    "probs_calib = model.predict_proba(X_calib)"
   ]
  },
  {
   "cell_type": "code",
   "execution_count": 42,
   "id": "2ed93547-6d5d-4983-9b36-1ecb300da49a",
   "metadata": {
    "execution": {
     "iopub.execute_input": "2025-07-28T11:11:52.636241Z",
     "iopub.status.busy": "2025-07-28T11:11:52.635517Z",
     "iopub.status.idle": "2025-07-28T11:11:52.641237Z",
     "shell.execute_reply": "2025-07-28T11:11:52.640291Z"
    },
    "papermill": {
     "duration": 0.030457,
     "end_time": "2025-07-28T11:11:52.642942",
     "exception": false,
     "start_time": "2025-07-28T11:11:52.612485",
     "status": "completed"
    },
    "tags": []
   },
   "outputs": [],
   "source": [
    "y_calib = y_calib.values.ravel().astype(int)"
   ]
  },
  {
   "cell_type": "code",
   "execution_count": 43,
   "id": "65d1320d-f588-4b38-9072-62af1ae97f7d",
   "metadata": {
    "execution": {
     "iopub.execute_input": "2025-07-28T11:11:52.688547Z",
     "iopub.status.busy": "2025-07-28T11:11:52.688018Z",
     "iopub.status.idle": "2025-07-28T11:11:52.695890Z",
     "shell.execute_reply": "2025-07-28T11:11:52.695030Z"
    },
    "papermill": {
     "duration": 0.03248,
     "end_time": "2025-07-28T11:11:52.697539",
     "exception": false,
     "start_time": "2025-07-28T11:11:52.665059",
     "status": "completed"
    },
    "tags": []
   },
   "outputs": [],
   "source": [
    "from fairness_multiverse.conformal import compute_nc_scores\n",
    "\n",
    "# Compute nonconformity scores on calibration set (1 - probability of true class)\n",
    "nc_scores = compute_nc_scores(probs_calib, y_calib)"
   ]
  },
  {
   "cell_type": "code",
   "execution_count": 44,
   "id": "df3b8ca3-53b7-43d5-9667-7c85da7aeda2",
   "metadata": {
    "execution": {
     "iopub.execute_input": "2025-07-28T11:11:52.743535Z",
     "iopub.status.busy": "2025-07-28T11:11:52.742813Z",
     "iopub.status.idle": "2025-07-28T11:11:52.749704Z",
     "shell.execute_reply": "2025-07-28T11:11:52.748817Z"
    },
    "papermill": {
     "duration": 0.03147,
     "end_time": "2025-07-28T11:11:52.751362",
     "exception": false,
     "start_time": "2025-07-28T11:11:52.719892",
     "status": "completed"
    },
    "tags": []
   },
   "outputs": [],
   "source": [
    "from fairness_multiverse.conformal import find_threshold\n",
    "\n",
    "# Find conformal threshold q_hat for the given alpha (split conformal method)\n",
    "q_hat = find_threshold(nc_scores, alpha)"
   ]
  },
  {
   "cell_type": "code",
   "execution_count": 45,
   "id": "4d29e6c1-0ef6-4aa4-b8fe-4fe79b0d033a",
   "metadata": {
    "execution": {
     "iopub.execute_input": "2025-07-28T11:11:52.796907Z",
     "iopub.status.busy": "2025-07-28T11:11:52.796165Z",
     "iopub.status.idle": "2025-07-28T11:11:52.803555Z",
     "shell.execute_reply": "2025-07-28T11:11:52.802634Z"
    },
    "papermill": {
     "duration": 0.03175,
     "end_time": "2025-07-28T11:11:52.805336",
     "exception": false,
     "start_time": "2025-07-28T11:11:52.773586",
     "status": "completed"
    },
    "tags": []
   },
   "outputs": [
    {
     "data": {
      "text/plain": [
       "0.685187584553103"
      ]
     },
     "execution_count": 45,
     "metadata": {},
     "output_type": "execute_result"
    }
   ],
   "source": [
    "q_hat"
   ]
  },
  {
   "cell_type": "code",
   "execution_count": 46,
   "id": "92460794-cdac-4be2-ba28-f28c0515a6fb",
   "metadata": {
    "execution": {
     "iopub.execute_input": "2025-07-28T11:11:52.851325Z",
     "iopub.status.busy": "2025-07-28T11:11:52.850656Z",
     "iopub.status.idle": "2025-07-28T11:11:54.192478Z",
     "shell.execute_reply": "2025-07-28T11:11:54.191509Z"
    },
    "papermill": {
     "duration": 1.366724,
     "end_time": "2025-07-28T11:11:54.194469",
     "exception": false,
     "start_time": "2025-07-28T11:11:52.827745",
     "status": "completed"
    },
    "tags": []
   },
   "outputs": [],
   "source": [
    "from fairness_multiverse.conformal import predict_conformal_sets\n",
    "\n",
    "# Generate prediction sets for each test example\n",
    "pred_sets = predict_conformal_sets(model, X_test, q_hat)"
   ]
  },
  {
   "cell_type": "code",
   "execution_count": 47,
   "id": "d90c9a65-e6db-4f5d-80cd-e68fb7e46829",
   "metadata": {
    "execution": {
     "iopub.execute_input": "2025-07-28T11:11:54.240375Z",
     "iopub.status.busy": "2025-07-28T11:11:54.239893Z",
     "iopub.status.idle": "2025-07-28T11:11:54.245998Z",
     "shell.execute_reply": "2025-07-28T11:11:54.245107Z"
    },
    "papermill": {
     "duration": 0.030543,
     "end_time": "2025-07-28T11:11:54.247541",
     "exception": false,
     "start_time": "2025-07-28T11:11:54.216998",
     "status": "completed"
    },
    "tags": []
   },
   "outputs": [],
   "source": [
    "y_true = y_true.squeeze()"
   ]
  },
  {
   "cell_type": "code",
   "execution_count": 48,
   "id": "3a58a54a-1e68-46b9-927a-df01f18aebc8",
   "metadata": {
    "execution": {
     "iopub.execute_input": "2025-07-28T11:11:54.294029Z",
     "iopub.status.busy": "2025-07-28T11:11:54.293331Z",
     "iopub.status.idle": "2025-07-28T11:11:55.240412Z",
     "shell.execute_reply": "2025-07-28T11:11:55.239359Z"
    },
    "papermill": {
     "duration": 0.972177,
     "end_time": "2025-07-28T11:11:55.242410",
     "exception": false,
     "start_time": "2025-07-28T11:11:54.270233",
     "status": "completed"
    },
    "tags": []
   },
   "outputs": [],
   "source": [
    "from fairness_multiverse.conformal import evaluate_sets\n",
    "\n",
    "# Evaluate coverage and average set size on test data\n",
    "metrics = evaluate_sets(pred_sets, y_true)"
   ]
  },
  {
   "cell_type": "markdown",
   "id": "2b569c12-9aaa-4c88-98c9-bbcd0cf3ebb8",
   "metadata": {
    "papermill": {
     "duration": 0.022174,
     "end_time": "2025-07-28T11:11:55.287954",
     "exception": false,
     "start_time": "2025-07-28T11:11:55.265780",
     "status": "completed"
    },
    "tags": []
   },
   "source": [
    "# CP Metrics"
   ]
  },
  {
   "cell_type": "code",
   "execution_count": 49,
   "id": "5ce0a5cb-201f-45a0-ade5-94c7f0bd6095",
   "metadata": {
    "execution": {
     "iopub.execute_input": "2025-07-28T11:11:55.333761Z",
     "iopub.status.busy": "2025-07-28T11:11:55.333092Z",
     "iopub.status.idle": "2025-07-28T11:11:55.341549Z",
     "shell.execute_reply": "2025-07-28T11:11:55.340682Z"
    },
    "papermill": {
     "duration": 0.033403,
     "end_time": "2025-07-28T11:11:55.343338",
     "exception": false,
     "start_time": "2025-07-28T11:11:55.309935",
     "status": "completed"
    },
    "tags": []
   },
   "outputs": [
    {
     "data": {
      "text/plain": [
       "{'coverage': 0.9114591461375543, 'avg_size': 1.115137665812061}"
      ]
     },
     "execution_count": 49,
     "metadata": {},
     "output_type": "execute_result"
    }
   ],
   "source": [
    "metrics"
   ]
  },
  {
   "cell_type": "code",
   "execution_count": 50,
   "id": "9b9a838d-31c9-430b-ae14-12baee460d17",
   "metadata": {
    "execution": {
     "iopub.execute_input": "2025-07-28T11:11:55.389624Z",
     "iopub.status.busy": "2025-07-28T11:11:55.388949Z",
     "iopub.status.idle": "2025-07-28T11:11:55.395201Z",
     "shell.execute_reply": "2025-07-28T11:11:55.394251Z"
    },
    "papermill": {
     "duration": 0.031249,
     "end_time": "2025-07-28T11:11:55.397057",
     "exception": false,
     "start_time": "2025-07-28T11:11:55.365808",
     "status": "completed"
    },
    "tags": []
   },
   "outputs": [],
   "source": [
    "example_universe = universe.copy()\n",
    "universe_training_size = example_universe.get(\"training_size\")\n",
    "universe_scale = example_universe.get(\"scale\")\n",
    "universe_model = example_universe.get(\"model\")\n",
    "universe_exclude_features = example_universe.get(\"exclude_features\")\n",
    "universe_exclude_subgroups = example_universe.get(\"exclude_subgroups\")"
   ]
  },
  {
   "cell_type": "code",
   "execution_count": 51,
   "id": "f4b6a8ac-9dc0-4245-8a91-5b3b5999c4f9",
   "metadata": {
    "execution": {
     "iopub.execute_input": "2025-07-28T11:11:55.443964Z",
     "iopub.status.busy": "2025-07-28T11:11:55.443266Z",
     "iopub.status.idle": "2025-07-28T11:11:55.450081Z",
     "shell.execute_reply": "2025-07-28T11:11:55.449193Z"
    },
    "papermill": {
     "duration": 0.031576,
     "end_time": "2025-07-28T11:11:55.451581",
     "exception": false,
     "start_time": "2025-07-28T11:11:55.420005",
     "status": "completed"
    },
    "tags": []
   },
   "outputs": [],
   "source": [
    "cp_metrics_dict = {\n",
    "    \"universe_id\": [universe_id],\n",
    "    \"universe_training_size\": [universe_training_size],\n",
    "    \"universe_scale\": [universe_scale],\n",
    "    \"universe_model\": [universe_model],\n",
    "    \"universe_exclude_features\": [universe_exclude_features],\n",
    "    \"universe_exclude_subgroups\": [universe_exclude_subgroups],\n",
    "    \"q_hat\": [q_hat],\n",
    "    \"coverage\": [metrics[\"coverage\"]],\n",
    "    \"avg_size\": [metrics[\"avg_size\"]],\n",
    "}"
   ]
  },
  {
   "cell_type": "code",
   "execution_count": 52,
   "id": "908acbb1-0371-4915-85ca-3fa520d2efe2",
   "metadata": {
    "execution": {
     "iopub.execute_input": "2025-07-28T11:11:55.498514Z",
     "iopub.status.busy": "2025-07-28T11:11:55.497628Z",
     "iopub.status.idle": "2025-07-28T11:11:55.505354Z",
     "shell.execute_reply": "2025-07-28T11:11:55.504384Z"
    },
    "papermill": {
     "duration": 0.032628,
     "end_time": "2025-07-28T11:11:55.506923",
     "exception": false,
     "start_time": "2025-07-28T11:11:55.474295",
     "status": "completed"
    },
    "tags": []
   },
   "outputs": [
    {
     "data": {
      "text/plain": [
       "{'universe_id': ['f1d5675ced168a0513f64b542fa7256d'],\n",
       " 'universe_training_size': ['2014'],\n",
       " 'universe_scale': ['do-not-scale'],\n",
       " 'universe_model': ['gbm'],\n",
       " 'universe_exclude_features': ['age'],\n",
       " 'universe_exclude_subgroups': ['drop-non-german'],\n",
       " 'q_hat': [0.685187584553103],\n",
       " 'coverage': [0.9114591461375543],\n",
       " 'avg_size': [1.115137665812061]}"
      ]
     },
     "execution_count": 52,
     "metadata": {},
     "output_type": "execute_result"
    }
   ],
   "source": [
    "cp_metrics_dict"
   ]
  },
  {
   "cell_type": "code",
   "execution_count": 53,
   "id": "33007efc-14e9-4ec6-97ac-56a455c82265",
   "metadata": {
    "execution": {
     "iopub.execute_input": "2025-07-28T11:11:55.554875Z",
     "iopub.status.busy": "2025-07-28T11:11:55.554028Z",
     "iopub.status.idle": "2025-07-28T11:11:55.560571Z",
     "shell.execute_reply": "2025-07-28T11:11:55.559566Z"
    },
    "papermill": {
     "duration": 0.031786,
     "end_time": "2025-07-28T11:11:55.562076",
     "exception": false,
     "start_time": "2025-07-28T11:11:55.530290",
     "status": "completed"
    },
    "tags": []
   },
   "outputs": [],
   "source": [
    "cp_metrics_df = pd.DataFrame(cp_metrics_dict)"
   ]
  },
  {
   "cell_type": "code",
   "execution_count": 54,
   "id": "db12611b-57b2-4910-b9d0-355adfd6e7bf",
   "metadata": {
    "execution": {
     "iopub.execute_input": "2025-07-28T11:11:55.609749Z",
     "iopub.status.busy": "2025-07-28T11:11:55.609002Z",
     "iopub.status.idle": "2025-07-28T11:11:55.627465Z",
     "shell.execute_reply": "2025-07-28T11:11:55.626567Z"
    },
    "papermill": {
     "duration": 0.04385,
     "end_time": "2025-07-28T11:11:55.629057",
     "exception": false,
     "start_time": "2025-07-28T11:11:55.585207",
     "status": "completed"
    },
    "tags": []
   },
   "outputs": [
    {
     "data": {
      "text/html": [
       "<div>\n",
       "<style scoped>\n",
       "    .dataframe tbody tr th:only-of-type {\n",
       "        vertical-align: middle;\n",
       "    }\n",
       "\n",
       "    .dataframe tbody tr th {\n",
       "        vertical-align: top;\n",
       "    }\n",
       "\n",
       "    .dataframe thead th {\n",
       "        text-align: right;\n",
       "    }\n",
       "</style>\n",
       "<table border=\"1\" class=\"dataframe\">\n",
       "  <thead>\n",
       "    <tr style=\"text-align: right;\">\n",
       "      <th></th>\n",
       "      <th>universe_id</th>\n",
       "      <th>universe_training_size</th>\n",
       "      <th>universe_scale</th>\n",
       "      <th>universe_model</th>\n",
       "      <th>universe_exclude_features</th>\n",
       "      <th>universe_exclude_subgroups</th>\n",
       "      <th>q_hat</th>\n",
       "      <th>coverage</th>\n",
       "      <th>avg_size</th>\n",
       "    </tr>\n",
       "  </thead>\n",
       "  <tbody>\n",
       "    <tr>\n",
       "      <th>0</th>\n",
       "      <td>f1d5675ced168a0513f64b542fa7256d</td>\n",
       "      <td>2014</td>\n",
       "      <td>do-not-scale</td>\n",
       "      <td>gbm</td>\n",
       "      <td>age</td>\n",
       "      <td>drop-non-german</td>\n",
       "      <td>0.685188</td>\n",
       "      <td>0.911459</td>\n",
       "      <td>1.115138</td>\n",
       "    </tr>\n",
       "  </tbody>\n",
       "</table>\n",
       "</div>"
      ],
      "text/plain": [
       "                        universe_id universe_training_size universe_scale  \\\n",
       "0  f1d5675ced168a0513f64b542fa7256d                   2014   do-not-scale   \n",
       "\n",
       "  universe_model universe_exclude_features universe_exclude_subgroups  \\\n",
       "0            gbm                       age            drop-non-german   \n",
       "\n",
       "      q_hat  coverage  avg_size  \n",
       "0  0.685188  0.911459  1.115138  "
      ]
     },
     "execution_count": 54,
     "metadata": {},
     "output_type": "execute_result"
    }
   ],
   "source": [
    "cp_metrics_df"
   ]
  },
  {
   "cell_type": "code",
   "execution_count": 55,
   "id": "b7fbde55-a0a1-47e4-9af6-fe4a17fa8c61",
   "metadata": {
    "execution": {
     "iopub.execute_input": "2025-07-28T11:11:55.677443Z",
     "iopub.status.busy": "2025-07-28T11:11:55.676775Z",
     "iopub.status.idle": "2025-07-28T11:11:55.682036Z",
     "shell.execute_reply": "2025-07-28T11:11:55.681086Z"
    },
    "papermill": {
     "duration": 0.031109,
     "end_time": "2025-07-28T11:11:55.683653",
     "exception": false,
     "start_time": "2025-07-28T11:11:55.652544",
     "status": "completed"
    },
    "tags": []
   },
   "outputs": [],
   "source": [
    "# Conditional Coverage & looking at subgroups"
   ]
  },
  {
   "cell_type": "code",
   "execution_count": 56,
   "id": "027ae886-68dd-4141-96c7-805a5450e1ef",
   "metadata": {
    "execution": {
     "iopub.execute_input": "2025-07-28T11:11:55.732022Z",
     "iopub.status.busy": "2025-07-28T11:11:55.731369Z",
     "iopub.status.idle": "2025-07-28T11:11:55.997220Z",
     "shell.execute_reply": "2025-07-28T11:11:55.996278Z"
    },
    "papermill": {
     "duration": 0.291958,
     "end_time": "2025-07-28T11:11:55.999033",
     "exception": false,
     "start_time": "2025-07-28T11:11:55.707075",
     "status": "completed"
    },
    "tags": []
   },
   "outputs": [],
   "source": [
    "from fairness_multiverse.conformal import build_cp_groups\n",
    "\n",
    "cp_groups_df = build_cp_groups(pred_sets, y_true, X_test.index, org_test)\n",
    "#needs universe_id and setting"
   ]
  },
  {
   "cell_type": "code",
   "execution_count": 57,
   "id": "01d5802c-663a-4d1f-9d69-e036faaffbf7",
   "metadata": {
    "execution": {
     "iopub.execute_input": "2025-07-28T11:11:56.048748Z",
     "iopub.status.busy": "2025-07-28T11:11:56.047783Z",
     "iopub.status.idle": "2025-07-28T11:11:56.053216Z",
     "shell.execute_reply": "2025-07-28T11:11:56.052211Z"
    },
    "papermill": {
     "duration": 0.031579,
     "end_time": "2025-07-28T11:11:56.054826",
     "exception": false,
     "start_time": "2025-07-28T11:11:56.023247",
     "status": "completed"
    },
    "tags": []
   },
   "outputs": [],
   "source": [
    "#delete\n",
    "#cp_groups_df"
   ]
  },
  {
   "cell_type": "code",
   "execution_count": 58,
   "id": "fa424af1-d1eb-443d-b717-2d279ada8408",
   "metadata": {
    "execution": {
     "iopub.execute_input": "2025-07-28T11:11:56.103604Z",
     "iopub.status.busy": "2025-07-28T11:11:56.102911Z",
     "iopub.status.idle": "2025-07-28T11:11:56.108077Z",
     "shell.execute_reply": "2025-07-28T11:11:56.107145Z"
    },
    "papermill": {
     "duration": 0.030964,
     "end_time": "2025-07-28T11:11:56.109666",
     "exception": false,
     "start_time": "2025-07-28T11:11:56.078702",
     "status": "completed"
    },
    "tags": []
   },
   "outputs": [],
   "source": [
    "#delete\n",
    "#percentage = (cp_groups_df['nongerman_female'] == 1).mean() * 100\n",
    "#print(percentage)\n"
   ]
  },
  {
   "cell_type": "code",
   "execution_count": 59,
   "id": "6cbdab96-b2b2-45af-ad54-d0516db2e28d",
   "metadata": {
    "execution": {
     "iopub.execute_input": "2025-07-28T11:11:56.158699Z",
     "iopub.status.busy": "2025-07-28T11:11:56.158008Z",
     "iopub.status.idle": "2025-07-28T11:11:57.767656Z",
     "shell.execute_reply": "2025-07-28T11:11:57.766725Z"
    },
    "papermill": {
     "duration": 1.635849,
     "end_time": "2025-07-28T11:11:57.769525",
     "exception": false,
     "start_time": "2025-07-28T11:11:56.133676",
     "status": "completed"
    },
    "tags": []
   },
   "outputs": [],
   "source": [
    "# Define covered = 1 if true_label is in the predicted set\n",
    "cp_groups_df['covered'] = cp_groups_df.apply(\n",
    "    lambda r: int(r['true_label'] in r['pred_set']),\n",
    "    axis=1\n",
    ")"
   ]
  },
  {
   "cell_type": "code",
   "execution_count": 60,
   "id": "338ff529-1a6b-4b87-a931-8e4788d52aad",
   "metadata": {
    "execution": {
     "iopub.execute_input": "2025-07-28T11:11:57.819014Z",
     "iopub.status.busy": "2025-07-28T11:11:57.818319Z",
     "iopub.status.idle": "2025-07-28T11:11:57.823382Z",
     "shell.execute_reply": "2025-07-28T11:11:57.822414Z"
    },
    "papermill": {
     "duration": 0.031211,
     "end_time": "2025-07-28T11:11:57.825061",
     "exception": false,
     "start_time": "2025-07-28T11:11:57.793850",
     "status": "completed"
    },
    "tags": []
   },
   "outputs": [],
   "source": [
    "#cp_groups_df"
   ]
  },
  {
   "cell_type": "code",
   "execution_count": 61,
   "id": "90032e27-66df-4540-9169-4e89cfbaa758",
   "metadata": {
    "execution": {
     "iopub.execute_input": "2025-07-28T11:11:57.873742Z",
     "iopub.status.busy": "2025-07-28T11:11:57.873030Z",
     "iopub.status.idle": "2025-07-28T11:11:57.885744Z",
     "shell.execute_reply": "2025-07-28T11:11:57.884928Z"
    },
    "papermill": {
     "duration": 0.03858,
     "end_time": "2025-07-28T11:11:57.887313",
     "exception": false,
     "start_time": "2025-07-28T11:11:57.848733",
     "status": "completed"
    },
    "tags": []
   },
   "outputs": [],
   "source": [
    "subgroups = ['frau1','nongerman','nongerman_male','nongerman_female']\n",
    "\n",
    "# Conditional coverage for subgroup==1\n",
    "cond_coverage = {\n",
    "    g: cp_groups_df.loc[cp_groups_df[g]==1, 'covered'].mean()\n",
    "    for g in subgroups\n",
    "}"
   ]
  },
  {
   "cell_type": "code",
   "execution_count": 62,
   "id": "1e348fb1-b9c3-45bc-ba23-f016827a7e0d",
   "metadata": {
    "execution": {
     "iopub.execute_input": "2025-07-28T11:11:57.936736Z",
     "iopub.status.busy": "2025-07-28T11:11:57.936069Z",
     "iopub.status.idle": "2025-07-28T11:11:57.943440Z",
     "shell.execute_reply": "2025-07-28T11:11:57.942530Z"
    },
    "papermill": {
     "duration": 0.033769,
     "end_time": "2025-07-28T11:11:57.945042",
     "exception": false,
     "start_time": "2025-07-28T11:11:57.911273",
     "status": "completed"
    },
    "tags": []
   },
   "outputs": [
    {
     "data": {
      "text/plain": [
       "{'frau1': 0.9115783798355573,\n",
       " 'nongerman': 0.9061359681131758,\n",
       " 'nongerman_male': 0.9229037197153922,\n",
       " 'nongerman_female': 0.8783904619970194}"
      ]
     },
     "execution_count": 62,
     "metadata": {},
     "output_type": "execute_result"
    }
   ],
   "source": [
    "cond_coverage"
   ]
  },
  {
   "cell_type": "code",
   "execution_count": 63,
   "id": "f5093324-c3dd-4d63-bc4c-8d945e5c8bbb",
   "metadata": {
    "execution": {
     "iopub.execute_input": "2025-07-28T11:11:57.994330Z",
     "iopub.status.busy": "2025-07-28T11:11:57.993654Z",
     "iopub.status.idle": "2025-07-28T11:11:58.001396Z",
     "shell.execute_reply": "2025-07-28T11:11:58.000511Z"
    },
    "papermill": {
     "duration": 0.034156,
     "end_time": "2025-07-28T11:11:58.003022",
     "exception": false,
     "start_time": "2025-07-28T11:11:57.968866",
     "status": "completed"
    },
    "tags": []
   },
   "outputs": [],
   "source": [
    "for subgroup, cov in cond_coverage.items():\n",
    "    cp_metrics_df[f\"cov_{subgroup}\"] = cov"
   ]
  },
  {
   "cell_type": "code",
   "execution_count": 64,
   "id": "6e872e10-dbe5-49e8-b554-5030c98ff75d",
   "metadata": {
    "execution": {
     "iopub.execute_input": "2025-07-28T11:11:58.052711Z",
     "iopub.status.busy": "2025-07-28T11:11:58.051970Z",
     "iopub.status.idle": "2025-07-28T11:11:58.070123Z",
     "shell.execute_reply": "2025-07-28T11:11:58.069189Z"
    },
    "papermill": {
     "duration": 0.044752,
     "end_time": "2025-07-28T11:11:58.072025",
     "exception": false,
     "start_time": "2025-07-28T11:11:58.027273",
     "status": "completed"
    },
    "tags": []
   },
   "outputs": [
    {
     "data": {
      "text/html": [
       "<div>\n",
       "<style scoped>\n",
       "    .dataframe tbody tr th:only-of-type {\n",
       "        vertical-align: middle;\n",
       "    }\n",
       "\n",
       "    .dataframe tbody tr th {\n",
       "        vertical-align: top;\n",
       "    }\n",
       "\n",
       "    .dataframe thead th {\n",
       "        text-align: right;\n",
       "    }\n",
       "</style>\n",
       "<table border=\"1\" class=\"dataframe\">\n",
       "  <thead>\n",
       "    <tr style=\"text-align: right;\">\n",
       "      <th></th>\n",
       "      <th>universe_id</th>\n",
       "      <th>universe_training_size</th>\n",
       "      <th>universe_scale</th>\n",
       "      <th>universe_model</th>\n",
       "      <th>universe_exclude_features</th>\n",
       "      <th>universe_exclude_subgroups</th>\n",
       "      <th>q_hat</th>\n",
       "      <th>coverage</th>\n",
       "      <th>avg_size</th>\n",
       "      <th>cov_frau1</th>\n",
       "      <th>cov_nongerman</th>\n",
       "      <th>cov_nongerman_male</th>\n",
       "      <th>cov_nongerman_female</th>\n",
       "    </tr>\n",
       "  </thead>\n",
       "  <tbody>\n",
       "    <tr>\n",
       "      <th>0</th>\n",
       "      <td>f1d5675ced168a0513f64b542fa7256d</td>\n",
       "      <td>2014</td>\n",
       "      <td>do-not-scale</td>\n",
       "      <td>gbm</td>\n",
       "      <td>age</td>\n",
       "      <td>drop-non-german</td>\n",
       "      <td>0.685188</td>\n",
       "      <td>0.911459</td>\n",
       "      <td>1.115138</td>\n",
       "      <td>0.911578</td>\n",
       "      <td>0.906136</td>\n",
       "      <td>0.922904</td>\n",
       "      <td>0.87839</td>\n",
       "    </tr>\n",
       "  </tbody>\n",
       "</table>\n",
       "</div>"
      ],
      "text/plain": [
       "                        universe_id universe_training_size universe_scale  \\\n",
       "0  f1d5675ced168a0513f64b542fa7256d                   2014   do-not-scale   \n",
       "\n",
       "  universe_model universe_exclude_features universe_exclude_subgroups  \\\n",
       "0            gbm                       age            drop-non-german   \n",
       "\n",
       "      q_hat  coverage  avg_size  cov_frau1  cov_nongerman  cov_nongerman_male  \\\n",
       "0  0.685188  0.911459  1.115138   0.911578       0.906136            0.922904   \n",
       "\n",
       "   cov_nongerman_female  \n",
       "0               0.87839  "
      ]
     },
     "execution_count": 64,
     "metadata": {},
     "output_type": "execute_result"
    }
   ],
   "source": [
    "cp_metrics_df"
   ]
  },
  {
   "cell_type": "markdown",
   "id": "33774451",
   "metadata": {
    "papermill": {
     "duration": 0.023732,
     "end_time": "2025-07-28T11:11:58.120414",
     "exception": false,
     "start_time": "2025-07-28T11:11:58.096682",
     "status": "completed"
    },
    "tags": []
   },
   "source": [
    "# (Fairness) Metrics"
   ]
  },
  {
   "cell_type": "code",
   "execution_count": 65,
   "id": "debc5d62",
   "metadata": {
    "execution": {
     "iopub.execute_input": "2025-07-28T11:11:58.170047Z",
     "iopub.status.busy": "2025-07-28T11:11:58.169375Z",
     "iopub.status.idle": "2025-07-28T11:11:58.194102Z",
     "shell.execute_reply": "2025-07-28T11:11:58.193249Z"
    },
    "papermill": {
     "duration": 0.051458,
     "end_time": "2025-07-28T11:11:58.195817",
     "exception": false,
     "start_time": "2025-07-28T11:11:58.144359",
     "status": "completed"
    },
    "tags": []
   },
   "outputs": [],
   "source": [
    "# do I need to include maxdeutsch1.missing?\n",
    "\n",
    "import numpy as np\n",
    "\n",
    "colname_to_bin = \"maxdeutsch1\"\n",
    "majority_value = org_train[colname_to_bin].mode()[0]\n",
    "\n",
    "org_test[\"majmin\"] = np.where(org_test[colname_to_bin] == majority_value, \"majority\", \"minority\")"
   ]
  },
  {
   "cell_type": "code",
   "execution_count": 66,
   "id": "06a50de5",
   "metadata": {
    "execution": {
     "iopub.execute_input": "2025-07-28T11:11:58.247593Z",
     "iopub.status.busy": "2025-07-28T11:11:58.246886Z",
     "iopub.status.idle": "2025-07-28T11:12:01.346063Z",
     "shell.execute_reply": "2025-07-28T11:12:01.344801Z"
    },
    "papermill": {
     "duration": 3.126889,
     "end_time": "2025-07-28T11:12:01.347956",
     "exception": false,
     "start_time": "2025-07-28T11:11:58.221067",
     "status": "completed"
    },
    "tags": []
   },
   "outputs": [],
   "source": [
    "example_universe = universe.copy()\n",
    "example_universe[\"cutoff\"] = example_universe[\"cutoff\"][0]\n",
    "example_universe[\"eval_fairness_grouping\"] = example_universe[\"eval_fairness_grouping\"][0]\n",
    "fairness_dict, metric_frame = universe_analysis.compute_metrics(\n",
    "    example_universe,\n",
    "    y_pred_prob=probs_test,\n",
    "    y_test=y_true,\n",
    "    org_test=org_test,\n",
    ")"
   ]
  },
  {
   "cell_type": "markdown",
   "id": "f95d4e02",
   "metadata": {
    "papermill": {
     "duration": 0.023873,
     "end_time": "2025-07-28T11:12:01.396753",
     "exception": false,
     "start_time": "2025-07-28T11:12:01.372880",
     "status": "completed"
    },
    "tags": []
   },
   "source": [
    "# Overall"
   ]
  },
  {
   "cell_type": "markdown",
   "id": "bdee4871",
   "metadata": {
    "papermill": {
     "duration": 0.024019,
     "end_time": "2025-07-28T11:12:01.444853",
     "exception": false,
     "start_time": "2025-07-28T11:12:01.420834",
     "status": "completed"
    },
    "tags": []
   },
   "source": [
    "Fairness\n",
    "Main fairness target: Equalized Odds. Seems to be a better fit than equal opportunity, since we're not only interested in Y = 1. Seems to be a better fit than demographic parity, since we also care about accuracy, not just equal distribution of preds.\n",
    "\n",
    "Pick column for computation of fairness metrics\n",
    "\n",
    "Performance\n",
    "Overall performance measures, most interesting in relation to the measures split by group below"
   ]
  },
  {
   "cell_type": "code",
   "execution_count": 67,
   "id": "c4e067c6",
   "metadata": {
    "execution": {
     "iopub.execute_input": "2025-07-28T11:12:01.495027Z",
     "iopub.status.busy": "2025-07-28T11:12:01.494321Z",
     "iopub.status.idle": "2025-07-28T11:12:01.503817Z",
     "shell.execute_reply": "2025-07-28T11:12:01.502940Z"
    },
    "papermill": {
     "duration": 0.036494,
     "end_time": "2025-07-28T11:12:01.505385",
     "exception": false,
     "start_time": "2025-07-28T11:12:01.468891",
     "status": "completed"
    },
    "tags": []
   },
   "outputs": [
    {
     "data": {
      "text/plain": [
       "accuracy                   0.225181\n",
       "balanced accuracy          0.550430\n",
       "f1                         0.246490\n",
       "precision                  0.140812\n",
       "false positive rate        0.887062\n",
       "false negative rate        0.012079\n",
       "selection rate             0.900000\n",
       "count                  89710.000000\n",
       "dtype: float64"
      ]
     },
     "execution_count": 67,
     "metadata": {},
     "output_type": "execute_result"
    }
   ],
   "source": [
    "metric_frame.overall"
   ]
  },
  {
   "cell_type": "markdown",
   "id": "e968fe9d",
   "metadata": {
    "papermill": {
     "duration": 0.02395,
     "end_time": "2025-07-28T11:12:01.554160",
     "exception": false,
     "start_time": "2025-07-28T11:12:01.530210",
     "status": "completed"
    },
    "tags": []
   },
   "source": [
    "By Group"
   ]
  },
  {
   "cell_type": "code",
   "execution_count": 68,
   "id": "ec325bce",
   "metadata": {
    "execution": {
     "iopub.execute_input": "2025-07-28T11:12:01.604039Z",
     "iopub.status.busy": "2025-07-28T11:12:01.603335Z",
     "iopub.status.idle": "2025-07-28T11:12:01.619444Z",
     "shell.execute_reply": "2025-07-28T11:12:01.618552Z"
    },
    "papermill": {
     "duration": 0.04297,
     "end_time": "2025-07-28T11:12:01.621076",
     "exception": false,
     "start_time": "2025-07-28T11:12:01.578106",
     "status": "completed"
    },
    "tags": []
   },
   "outputs": [
    {
     "data": {
      "text/html": [
       "<div>\n",
       "<style scoped>\n",
       "    .dataframe tbody tr th:only-of-type {\n",
       "        vertical-align: middle;\n",
       "    }\n",
       "\n",
       "    .dataframe tbody tr th {\n",
       "        vertical-align: top;\n",
       "    }\n",
       "\n",
       "    .dataframe thead th {\n",
       "        text-align: right;\n",
       "    }\n",
       "</style>\n",
       "<table border=\"1\" class=\"dataframe\">\n",
       "  <thead>\n",
       "    <tr style=\"text-align: right;\">\n",
       "      <th></th>\n",
       "      <th>accuracy</th>\n",
       "      <th>balanced accuracy</th>\n",
       "      <th>f1</th>\n",
       "      <th>precision</th>\n",
       "      <th>false positive rate</th>\n",
       "      <th>false negative rate</th>\n",
       "      <th>selection rate</th>\n",
       "      <th>count</th>\n",
       "    </tr>\n",
       "    <tr>\n",
       "      <th>majmin</th>\n",
       "      <th></th>\n",
       "      <th></th>\n",
       "      <th></th>\n",
       "      <th></th>\n",
       "      <th></th>\n",
       "      <th></th>\n",
       "      <th></th>\n",
       "      <th></th>\n",
       "    </tr>\n",
       "  </thead>\n",
       "  <tbody>\n",
       "    <tr>\n",
       "      <th>majority</th>\n",
       "      <td>0.238123</td>\n",
       "      <td>0.556053</td>\n",
       "      <td>0.255275</td>\n",
       "      <td>0.146569</td>\n",
       "      <td>0.876079</td>\n",
       "      <td>0.011816</td>\n",
       "      <td>0.890892</td>\n",
       "      <td>69170.0</td>\n",
       "    </tr>\n",
       "    <tr>\n",
       "      <th>minority</th>\n",
       "      <td>0.181597</td>\n",
       "      <td>0.531783</td>\n",
       "      <td>0.217557</td>\n",
       "      <td>0.122254</td>\n",
       "      <td>0.923344</td>\n",
       "      <td>0.013091</td>\n",
       "      <td>0.930672</td>\n",
       "      <td>20540.0</td>\n",
       "    </tr>\n",
       "  </tbody>\n",
       "</table>\n",
       "</div>"
      ],
      "text/plain": [
       "          accuracy  balanced accuracy        f1  precision  \\\n",
       "majmin                                                       \n",
       "majority  0.238123           0.556053  0.255275   0.146569   \n",
       "minority  0.181597           0.531783  0.217557   0.122254   \n",
       "\n",
       "          false positive rate  false negative rate  selection rate    count  \n",
       "majmin                                                                       \n",
       "majority             0.876079             0.011816        0.890892  69170.0  \n",
       "minority             0.923344             0.013091        0.930672  20540.0  "
      ]
     },
     "execution_count": 68,
     "metadata": {},
     "output_type": "execute_result"
    }
   ],
   "source": [
    "metric_frame.by_group"
   ]
  },
  {
   "cell_type": "code",
   "execution_count": 69,
   "id": "a9ddbe63",
   "metadata": {
    "execution": {
     "iopub.execute_input": "2025-07-28T11:12:01.672449Z",
     "iopub.status.busy": "2025-07-28T11:12:01.671746Z",
     "iopub.status.idle": "2025-07-28T11:12:04.085845Z",
     "shell.execute_reply": "2025-07-28T11:12:04.084917Z"
    },
    "papermill": {
     "duration": 2.44133,
     "end_time": "2025-07-28T11:12:04.087505",
     "exception": false,
     "start_time": "2025-07-28T11:12:01.646175",
     "status": "completed"
    },
    "tags": []
   },
   "outputs": [
    {
     "data": {
      "text/plain": [
       "array([[<Axes: title={'center': 'accuracy'}, xlabel='majmin'>,\n",
       "        <Axes: title={'center': 'balanced accuracy'}, xlabel='majmin'>,\n",
       "        <Axes: title={'center': 'f1'}, xlabel='majmin'>],\n",
       "       [<Axes: title={'center': 'precision'}, xlabel='majmin'>,\n",
       "        <Axes: title={'center': 'false positive rate'}, xlabel='majmin'>,\n",
       "        <Axes: title={'center': 'false negative rate'}, xlabel='majmin'>],\n",
       "       [<Axes: title={'center': 'selection rate'}, xlabel='majmin'>,\n",
       "        <Axes: title={'center': 'count'}, xlabel='majmin'>,\n",
       "        <Axes: xlabel='majmin'>]], dtype=object)"
      ]
     },
     "execution_count": 69,
     "metadata": {},
     "output_type": "execute_result"
    },
    {
     "data": {
      "image/png": "[encoded data removed]",
      "text/plain": [
       "<Figure size 1200x800 with 9 Axes>"
      ]
     },
     "metadata": {},
     "output_type": "display_data"
    }
   ],
   "source": [
    "# In a graphic\n",
    "metric_frame.by_group.plot.bar(\n",
    "    subplots=True,\n",
    "    layout=[3, 3],\n",
    "    legend=False,\n",
    "    figsize=[12, 8],\n",
    "    title=\"Show all metrics\",\n",
    ")"
   ]
  },
  {
   "cell_type": "markdown",
   "id": "f57a0bac",
   "metadata": {
    "papermill": {
     "duration": 0.026051,
     "end_time": "2025-07-28T11:12:04.142538",
     "exception": false,
     "start_time": "2025-07-28T11:12:04.116487",
     "status": "completed"
    },
    "tags": []
   },
   "source": [
    "# Final Output"
   ]
  },
  {
   "cell_type": "code",
   "execution_count": 70,
   "id": "96d280a3",
   "metadata": {
    "execution": {
     "iopub.execute_input": "2025-07-28T11:12:04.196672Z",
     "iopub.status.busy": "2025-07-28T11:12:04.196003Z",
     "iopub.status.idle": "2025-07-28T11:12:04.204484Z",
     "shell.execute_reply": "2025-07-28T11:12:04.203581Z"
    },
    "papermill": {
     "duration": 0.037466,
     "end_time": "2025-07-28T11:12:04.206025",
     "exception": false,
     "start_time": "2025-07-28T11:12:04.168559",
     "status": "completed"
    },
    "tags": []
   },
   "outputs": [
    {
     "data": {
      "text/plain": [
       "4"
      ]
     },
     "execution_count": 70,
     "metadata": {},
     "output_type": "execute_result"
    }
   ],
   "source": [
    "sub_universes = universe_analysis.generate_sub_universes()\n",
    "len(sub_universes)"
   ]
  },
  {
   "cell_type": "code",
   "execution_count": 71,
   "id": "92adf7ba",
   "metadata": {
    "execution": {
     "iopub.execute_input": "2025-07-28T11:12:04.261251Z",
     "iopub.status.busy": "2025-07-28T11:12:04.260586Z",
     "iopub.status.idle": "2025-07-28T11:12:04.266884Z",
     "shell.execute_reply": "2025-07-28T11:12:04.266000Z"
    },
    "papermill": {
     "duration": 0.035976,
     "end_time": "2025-07-28T11:12:04.268489",
     "exception": false,
     "start_time": "2025-07-28T11:12:04.232513",
     "status": "completed"
    },
    "tags": []
   },
   "outputs": [],
   "source": [
    "def filter_sub_universe_data(sub_universe, org_test):\n",
    "    # Keep all rows — no filtering\n",
    "    keep_rows_mask = np.ones(org_test.shape[0], dtype=bool)\n",
    "\n",
    "    print(f\"[INFO] Keeping all rows: {keep_rows_mask.sum()} rows retained.\")\n",
    "    return keep_rows_mask"
   ]
  },
  {
   "cell_type": "code",
   "execution_count": 72,
   "id": "4a759155",
   "metadata": {
    "execution": {
     "iopub.execute_input": "2025-07-28T11:12:04.323302Z",
     "iopub.status.busy": "2025-07-28T11:12:04.322601Z",
     "iopub.status.idle": "2025-07-28T11:12:16.268530Z",
     "shell.execute_reply": "2025-07-28T11:12:16.267588Z"
    },
    "papermill": {
     "duration": 11.974792,
     "end_time": "2025-07-28T11:12:16.270193",
     "exception": false,
     "start_time": "2025-07-28T11:12:04.295401",
     "status": "completed"
    },
    "tags": []
   },
   "outputs": [
    {
     "name": "stdout",
     "output_type": "stream",
     "text": [
      "Stopping execution_time clock.\n",
      "[INFO] Keeping all rows: 89710 rows retained.\n"
     ]
    },
    {
     "name": "stdout",
     "output_type": "stream",
     "text": [
      "[INFO] Keeping all rows: 89710 rows retained.\n"
     ]
    },
    {
     "name": "stdout",
     "output_type": "stream",
     "text": [
      "[INFO] Keeping all rows: 89710 rows retained.\n"
     ]
    },
    {
     "name": "stdout",
     "output_type": "stream",
     "text": [
      "[INFO] Keeping all rows: 89710 rows retained.\n"
     ]
    },
    {
     "data": {
      "text/html": [
       "<div>\n",
       "<style scoped>\n",
       "    .dataframe tbody tr th:only-of-type {\n",
       "        vertical-align: middle;\n",
       "    }\n",
       "\n",
       "    .dataframe tbody tr th {\n",
       "        vertical-align: top;\n",
       "    }\n",
       "\n",
       "    .dataframe thead th {\n",
       "        text-align: right;\n",
       "    }\n",
       "</style>\n",
       "<table border=\"1\" class=\"dataframe\">\n",
       "  <thead>\n",
       "    <tr style=\"text-align: right;\">\n",
       "      <th></th>\n",
       "      <th>run_no</th>\n",
       "      <th>universe_id</th>\n",
       "      <th>universe_settings</th>\n",
       "      <th>execution_time</th>\n",
       "      <th>test_size_n</th>\n",
       "      <th>test_size_frac</th>\n",
       "      <th>fair_main_equalized_odds_difference</th>\n",
       "      <th>fair_main_equalized_odds_ratio</th>\n",
       "      <th>fair_main_demographic_parity_difference</th>\n",
       "      <th>fair_main_demographic_parity_ratio</th>\n",
       "      <th>...</th>\n",
       "      <th>perf_grp_precision_0</th>\n",
       "      <th>perf_grp_precision_1</th>\n",
       "      <th>perf_grp_false positive rate_0</th>\n",
       "      <th>perf_grp_false positive rate_1</th>\n",
       "      <th>perf_grp_false negative rate_0</th>\n",
       "      <th>perf_grp_false negative rate_1</th>\n",
       "      <th>perf_grp_selection rate_0</th>\n",
       "      <th>perf_grp_selection rate_1</th>\n",
       "      <th>perf_grp_count_0</th>\n",
       "      <th>perf_grp_count_1</th>\n",
       "    </tr>\n",
       "  </thead>\n",
       "  <tbody>\n",
       "    <tr>\n",
       "      <th>0</th>\n",
       "      <td>11</td>\n",
       "      <td>f1d5675ced168a0513f64b542fa7256d</td>\n",
       "      <td>{\"cutoff\": \"quantile_0.1\", \"eval_fairness_grou...</td>\n",
       "      <td>122.485638</td>\n",
       "      <td>89710</td>\n",
       "      <td>1.0</td>\n",
       "      <td>0.047265</td>\n",
       "      <td>0.948811</td>\n",
       "      <td>0.039780</td>\n",
       "      <td>0.957257</td>\n",
       "      <td>...</td>\n",
       "      <td>NaN</td>\n",
       "      <td>NaN</td>\n",
       "      <td>NaN</td>\n",
       "      <td>NaN</td>\n",
       "      <td>NaN</td>\n",
       "      <td>NaN</td>\n",
       "      <td>NaN</td>\n",
       "      <td>NaN</td>\n",
       "      <td>NaN</td>\n",
       "      <td>NaN</td>\n",
       "    </tr>\n",
       "    <tr>\n",
       "      <th>0</th>\n",
       "      <td>11</td>\n",
       "      <td>f1d5675ced168a0513f64b542fa7256d</td>\n",
       "      <td>{\"cutoff\": \"quantile_0.1\", \"eval_fairness_grou...</td>\n",
       "      <td>122.485638</td>\n",
       "      <td>89710</td>\n",
       "      <td>1.0</td>\n",
       "      <td>0.047265</td>\n",
       "      <td>0.948811</td>\n",
       "      <td>0.039780</td>\n",
       "      <td>0.957257</td>\n",
       "      <td>...</td>\n",
       "      <td>0.122254</td>\n",
       "      <td>0.146569</td>\n",
       "      <td>0.923344</td>\n",
       "      <td>0.876079</td>\n",
       "      <td>0.013091</td>\n",
       "      <td>0.011816</td>\n",
       "      <td>0.930672</td>\n",
       "      <td>0.890892</td>\n",
       "      <td>20540.0</td>\n",
       "      <td>69170.0</td>\n",
       "    </tr>\n",
       "    <tr>\n",
       "      <th>0</th>\n",
       "      <td>11</td>\n",
       "      <td>f1d5675ced168a0513f64b542fa7256d</td>\n",
       "      <td>{\"cutoff\": \"quantile_0.25\", \"eval_fairness_gro...</td>\n",
       "      <td>122.485638</td>\n",
       "      <td>89710</td>\n",
       "      <td>1.0</td>\n",
       "      <td>0.069064</td>\n",
       "      <td>0.911518</td>\n",
       "      <td>0.053338</td>\n",
       "      <td>0.933055</td>\n",
       "      <td>...</td>\n",
       "      <td>NaN</td>\n",
       "      <td>NaN</td>\n",
       "      <td>NaN</td>\n",
       "      <td>NaN</td>\n",
       "      <td>NaN</td>\n",
       "      <td>NaN</td>\n",
       "      <td>NaN</td>\n",
       "      <td>NaN</td>\n",
       "      <td>NaN</td>\n",
       "      <td>NaN</td>\n",
       "    </tr>\n",
       "    <tr>\n",
       "      <th>0</th>\n",
       "      <td>11</td>\n",
       "      <td>f1d5675ced168a0513f64b542fa7256d</td>\n",
       "      <td>{\"cutoff\": \"quantile_0.25\", \"eval_fairness_gro...</td>\n",
       "      <td>122.485638</td>\n",
       "      <td>89710</td>\n",
       "      <td>1.0</td>\n",
       "      <td>0.069064</td>\n",
       "      <td>0.911518</td>\n",
       "      <td>0.053338</td>\n",
       "      <td>0.933055</td>\n",
       "      <td>...</td>\n",
       "      <td>0.133272</td>\n",
       "      <td>0.169405</td>\n",
       "      <td>0.780541</td>\n",
       "      <td>0.711478</td>\n",
       "      <td>0.078970</td>\n",
       "      <td>0.046937</td>\n",
       "      <td>0.796738</td>\n",
       "      <td>0.743400</td>\n",
       "      <td>20540.0</td>\n",
       "      <td>69170.0</td>\n",
       "    </tr>\n",
       "  </tbody>\n",
       "</table>\n",
       "<p>4 rows × 50 columns</p>\n",
       "</div>"
      ],
      "text/plain": [
       "  run_no                       universe_id  \\\n",
       "0     11  f1d5675ced168a0513f64b542fa7256d   \n",
       "0     11  f1d5675ced168a0513f64b542fa7256d   \n",
       "0     11  f1d5675ced168a0513f64b542fa7256d   \n",
       "0     11  f1d5675ced168a0513f64b542fa7256d   \n",
       "\n",
       "                                   universe_settings  execution_time  \\\n",
       "0  {\"cutoff\": \"quantile_0.1\", \"eval_fairness_grou...      122.485638   \n",
       "0  {\"cutoff\": \"quantile_0.1\", \"eval_fairness_grou...      122.485638   \n",
       "0  {\"cutoff\": \"quantile_0.25\", \"eval_fairness_gro...      122.485638   \n",
       "0  {\"cutoff\": \"quantile_0.25\", \"eval_fairness_gro...      122.485638   \n",
       "\n",
       "   test_size_n  test_size_frac  fair_main_equalized_odds_difference  \\\n",
       "0        89710             1.0                             0.047265   \n",
       "0        89710             1.0                             0.047265   \n",
       "0        89710             1.0                             0.069064   \n",
       "0        89710             1.0                             0.069064   \n",
       "\n",
       "   fair_main_equalized_odds_ratio  fair_main_demographic_parity_difference  \\\n",
       "0                        0.948811                                 0.039780   \n",
       "0                        0.948811                                 0.039780   \n",
       "0                        0.911518                                 0.053338   \n",
       "0                        0.911518                                 0.053338   \n",
       "\n",
       "   fair_main_demographic_parity_ratio  ...  perf_grp_precision_0  \\\n",
       "0                            0.957257  ...                   NaN   \n",
       "0                            0.957257  ...              0.122254   \n",
       "0                            0.933055  ...                   NaN   \n",
       "0                            0.933055  ...              0.133272   \n",
       "\n",
       "   perf_grp_precision_1  perf_grp_false positive rate_0  \\\n",
       "0                   NaN                             NaN   \n",
       "0              0.146569                        0.923344   \n",
       "0                   NaN                             NaN   \n",
       "0              0.169405                        0.780541   \n",
       "\n",
       "   perf_grp_false positive rate_1  perf_grp_false negative rate_0  \\\n",
       "0                             NaN                             NaN   \n",
       "0                        0.876079                        0.013091   \n",
       "0                             NaN                             NaN   \n",
       "0                        0.711478                        0.078970   \n",
       "\n",
       "   perf_grp_false negative rate_1  perf_grp_selection rate_0  \\\n",
       "0                             NaN                        NaN   \n",
       "0                        0.011816                   0.930672   \n",
       "0                             NaN                        NaN   \n",
       "0                        0.046937                   0.796738   \n",
       "\n",
       "   perf_grp_selection rate_1  perf_grp_count_0  perf_grp_count_1  \n",
       "0                        NaN               NaN               NaN  \n",
       "0                   0.890892           20540.0           69170.0  \n",
       "0                        NaN               NaN               NaN  \n",
       "0                   0.743400           20540.0           69170.0  \n",
       "\n",
       "[4 rows x 50 columns]"
      ]
     },
     "execution_count": 72,
     "metadata": {},
     "output_type": "execute_result"
    }
   ],
   "source": [
    "final_output = universe_analysis.generate_final_output(\n",
    "    y_pred_prob=probs_test,\n",
    "    y_test=y_true,\n",
    "    org_test=org_test,\n",
    "    filter_data=filter_sub_universe_data,\n",
    "    cp_metrics_df=cp_metrics_df,\n",
    "    save=True,\n",
    ")\n",
    "final_output"
   ]
  },
  {
   "cell_type": "code",
   "execution_count": null,
   "id": "721ff514-cb11-46f8-b6fc-50392f74b5cb",
   "metadata": {
    "papermill": {
     "duration": 0.027356,
     "end_time": "2025-07-28T11:12:16.328118",
     "exception": false,
     "start_time": "2025-07-28T11:12:16.300762",
     "status": "completed"
    },
    "tags": []
   },
   "outputs": [],
   "source": []
  }
 ],
 "metadata": {
  "celltoolbar": "Tags",
  "kernelspec": {
   "display_name": "Python (CMA Fairness)",
   "language": "python",
   "name": "cma_fair_env"
  },
  "language_info": {
   "codemirror_mode": {
    "name": "ipython",
    "version": 3
   },
   "file_extension": ".py",
   "mimetype": "text/x-python",
   "name": "python",
   "nbconvert_exporter": "python",
   "pygments_lexer": "ipython3",
   "version": "3.10.12"
  },
  "papermill": {
   "default_parameters": {},
   "duration": 138.834741,
   "end_time": "2025-07-28T11:12:17.075492",
   "environment_variables": {},
   "exception": null,
   "input_path": "universe_analysis.ipynb",
   "output_path": "output/runs/11/notebooks/m_11-f1d5675ced168a0513f64b542fa7256d.ipynb",
   "parameters": {
    "output_dir": "output",
    "run_no": "11",
    "seed": "2023",
    "universe": "{\"cutoff\": [\"quantile_0.1\", \"quantile_0.25\"], \"eval_fairness_grouping\": [\"majority-minority\", \"nationality-all\"], \"exclude_features\": \"age\", \"exclude_subgroups\": \"drop-non-german\", \"model\": \"gbm\", \"scale\": \"do-not-scale\", \"training_size\": \"2014\"}",
    "universe_id": "f1d5675ced168a0513f64b542fa7256d"
   },
   "start_time": "2025-07-28T11:09:58.240751",
   "version": "2.6.0"
  }
 },
 "nbformat": 4,
 "nbformat_minor": 5
}