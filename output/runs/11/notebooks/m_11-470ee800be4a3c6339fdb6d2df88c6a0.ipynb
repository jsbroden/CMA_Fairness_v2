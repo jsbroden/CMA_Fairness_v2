{
 "cells": [
  {
   "cell_type": "code",
   "execution_count": 1,
   "id": "f159f837-637b-42ba-96b5-ec9a68c44524",
   "metadata": {
    "execution": {
     "iopub.execute_input": "2025-07-28T10:37:02.460158Z",
     "iopub.status.busy": "2025-07-28T10:37:02.459624Z",
     "iopub.status.idle": "2025-07-28T10:37:02.474478Z",
     "shell.execute_reply": "2025-07-28T10:37:02.473447Z"
    },
    "papermill": {
     "duration": 0.038678,
     "end_time": "2025-07-28T10:37:02.476375",
     "exception": false,
     "start_time": "2025-07-28T10:37:02.437697",
     "status": "completed"
    },
    "tags": []
   },
   "outputs": [
    {
     "name": "stdout",
     "output_type": "stream",
     "text": [
      "/dss/dsshome1/0C/ra93lal2/cma/CMA_Fairness_v2\n"
     ]
    },
    {
     "name": "stderr",
     "output_type": "stream",
     "text": [
      "/dss/dsshome1/0C/ra93lal2/.local/share/virtualenvs/CMA_Fairness_v2-3j10GkSs/lib/python3.10/site-packages/IPython/core/magics/osm.py:393: UserWarning: This is now an optional IPython functionality, using bookmarks requires you to install the `pickleshare` library.\n",
      "  bkms = self.shell.db.get('bookmarks', {})\n",
      "/dss/dsshome1/0C/ra93lal2/.local/share/virtualenvs/CMA_Fairness_v2-3j10GkSs/lib/python3.10/site-packages/IPython/core/magics/osm.py:417: UserWarning: This is now an optional IPython functionality, setting dhist requires you to install the `pickleshare` library.\n",
      "  self.shell.db['dhist'] = compress_dhist(dhist)[-100:]\n"
     ]
    }
   ],
   "source": [
    "%cd ~/cma/CMA_Fairness_v2"
   ]
  },
  {
   "cell_type": "markdown",
   "id": "de2603b9",
   "metadata": {
    "papermill": {
     "duration": 0.019632,
     "end_time": "2025-07-28T10:37:02.516223",
     "exception": false,
     "start_time": "2025-07-28T10:37:02.496591",
     "status": "completed"
    },
    "tags": []
   },
   "source": [
    "The following cell holds the definition of our parameters, these values can be overriden by rendering the with e.g. the following command:\n",
    "\n",
    "papermill -p alpha 0.2 -p ratio 0.3 universe_analysis.ipynb output/test_run.ipynb"
   ]
  },
  {
   "cell_type": "code",
   "execution_count": 2,
   "id": "a80968a0-40bb-4fa9-85ef-2d5eefb01975",
   "metadata": {
    "execution": {
     "iopub.execute_input": "2025-07-28T10:37:02.556672Z",
     "iopub.status.busy": "2025-07-28T10:37:02.555688Z",
     "iopub.status.idle": "2025-07-28T10:37:02.561637Z",
     "shell.execute_reply": "2025-07-28T10:37:02.560668Z"
    },
    "papermill": {
     "duration": 0.028002,
     "end_time": "2025-07-28T10:37:02.563200",
     "exception": false,
     "start_time": "2025-07-28T10:37:02.535198",
     "status": "completed"
    },
    "tags": []
   },
   "outputs": [
    {
     "name": "stdout",
     "output_type": "stream",
     "text": [
      "Current working directory: /dss/dsshome1/0C/ra93lal2/cma/CMA_Fairness_v2\n"
     ]
    }
   ],
   "source": [
    "import os\n",
    "print(\"Current working directory:\", os.getcwd())"
   ]
  },
  {
   "cell_type": "code",
   "execution_count": 3,
   "id": "2dce4c03",
   "metadata": {
    "execution": {
     "iopub.execute_input": "2025-07-28T10:37:02.603982Z",
     "iopub.status.busy": "2025-07-28T10:37:02.603576Z",
     "iopub.status.idle": "2025-07-28T10:37:02.610386Z",
     "shell.execute_reply": "2025-07-28T10:37:02.609351Z"
    },
    "papermill": {
     "duration": 0.027851,
     "end_time": "2025-07-28T10:37:02.612228",
     "exception": false,
     "start_time": "2025-07-28T10:37:02.584377",
     "status": "completed"
    },
    "tags": [
     "parameters"
    ]
   },
   "outputs": [],
   "source": [
    "run_no = 0\n",
    "universe_id = \"test\"\n",
    "universe = {\n",
    "    \"training_size\": \"2014\", # \"25k\", \"5k\", \"1k\", \"2014\"\n",
    "    \"scale\": \"scale\", # \"scale\", \"do-not-scale\",\n",
    "    #\"stratify_split\": \"target\", # \"none\", \"target\", \"protected-attribute\", \"both\",\n",
    "    \"model\": \"elasticnet\", # \"logreg\", \"penalized_logreg\", \"rf\", \"gbm\", \"elasticnet\"\n",
    "    \"cutoff\": [\"quantile_0.15\", \"quantile_0.30\"],\n",
    "    \"exclude_features\": \"age\", # \"none\", \"nationality\", \"sex\", \"nationality-sex\", \"age\"\n",
    "    \"exclude_subgroups\": \"keep-all\", # \"keep-all\", \"drop-non-german\"\n",
    "    #\"training_sample\": \"restricted\", # \"restricted\", \"full\"\n",
    "    \"eval_fairness_grouping\": [\"majority-minority\", \"nationality-all\"]\n",
    "}\n",
    "\n",
    "output_dir=\"./output\"\n",
    "seed=0"
   ]
  },
  {
   "cell_type": "code",
   "execution_count": 4,
   "id": "0665cb1c",
   "metadata": {
    "execution": {
     "iopub.execute_input": "2025-07-28T10:37:02.652456Z",
     "iopub.status.busy": "2025-07-28T10:37:02.651806Z",
     "iopub.status.idle": "2025-07-28T10:37:02.657369Z",
     "shell.execute_reply": "2025-07-28T10:37:02.656321Z"
    },
    "papermill": {
     "duration": 0.025095,
     "end_time": "2025-07-28T10:37:02.659017",
     "exception": false,
     "start_time": "2025-07-28T10:37:02.633922",
     "status": "completed"
    },
    "tags": [
     "injected-parameters"
    ]
   },
   "outputs": [],
   "source": [
    "# Parameters\n",
    "universe_id = \"470ee800be4a3c6339fdb6d2df88c6a0\"\n",
    "run_no = \"11\"\n",
    "universe = \"{\\\"cutoff\\\": [\\\"quantile_0.1\\\", \\\"quantile_0.25\\\"], \\\"eval_fairness_grouping\\\": [\\\"majority-minority\\\", \\\"nationality-all\\\"], \\\"exclude_features\\\": \\\"nationality\\\", \\\"exclude_subgroups\\\": \\\"drop-non-german\\\", \\\"model\\\": \\\"rf\\\", \\\"scale\\\": \\\"do-not-scale\\\", \\\"training_size\\\": \\\"5k\\\"}\"\n",
    "output_dir = \"output\"\n",
    "seed = \"2023\"\n"
   ]
  },
  {
   "cell_type": "code",
   "execution_count": 5,
   "id": "1650acaf",
   "metadata": {
    "execution": {
     "iopub.execute_input": "2025-07-28T10:37:02.701821Z",
     "iopub.status.busy": "2025-07-28T10:37:02.701400Z",
     "iopub.status.idle": "2025-07-28T10:37:02.706969Z",
     "shell.execute_reply": "2025-07-28T10:37:02.706155Z"
    },
    "papermill": {
     "duration": 0.028712,
     "end_time": "2025-07-28T10:37:02.708351",
     "exception": false,
     "start_time": "2025-07-28T10:37:02.679639",
     "status": "completed"
    },
    "tags": []
   },
   "outputs": [],
   "source": [
    "import json\n",
    "# Parse universe into dict if it is passed as a string\n",
    "if isinstance(universe, str):\n",
    "    universe = json.loads(universe)"
   ]
  },
  {
   "cell_type": "code",
   "execution_count": 6,
   "id": "16620c48",
   "metadata": {
    "execution": {
     "iopub.execute_input": "2025-07-28T10:37:02.732166Z",
     "iopub.status.busy": "2025-07-28T10:37:02.731350Z",
     "iopub.status.idle": "2025-07-28T10:37:02.763860Z",
     "shell.execute_reply": "2025-07-28T10:37:02.763066Z"
    },
    "papermill": {
     "duration": 0.045791,
     "end_time": "2025-07-28T10:37:02.765352",
     "exception": false,
     "start_time": "2025-07-28T10:37:02.719561",
     "status": "completed"
    },
    "tags": []
   },
   "outputs": [],
   "source": [
    "# Auto-reload the custom package\n",
    "%load_ext autoreload\n",
    "%autoreload 1\n",
    "%aimport fairness_multiverse"
   ]
  },
  {
   "cell_type": "code",
   "execution_count": 7,
   "id": "01c5c9f3",
   "metadata": {
    "execution": {
     "iopub.execute_input": "2025-07-28T10:37:02.791766Z",
     "iopub.status.busy": "2025-07-28T10:37:02.791383Z",
     "iopub.status.idle": "2025-07-28T10:37:04.998541Z",
     "shell.execute_reply": "2025-07-28T10:37:04.997322Z"
    },
    "papermill": {
     "duration": 2.224399,
     "end_time": "2025-07-28T10:37:05.000659",
     "exception": false,
     "start_time": "2025-07-28T10:37:02.776260",
     "status": "completed"
    },
    "tags": []
   },
   "outputs": [],
   "source": [
    "from fairness_multiverse.universe import UniverseAnalysis\n",
    "\n",
    "universe_analysis = UniverseAnalysis(\n",
    "    run_no = run_no,\n",
    "    universe_id = universe_id,\n",
    "    universe = universe,\n",
    "    output_dir=output_dir,\n",
    ")"
   ]
  },
  {
   "cell_type": "code",
   "execution_count": 8,
   "id": "106241f5",
   "metadata": {
    "execution": {
     "iopub.execute_input": "2025-07-28T10:37:05.079062Z",
     "iopub.status.busy": "2025-07-28T10:37:05.078592Z",
     "iopub.status.idle": "2025-07-28T10:37:05.085790Z",
     "shell.execute_reply": "2025-07-28T10:37:05.084667Z"
    },
    "papermill": {
     "duration": 0.039272,
     "end_time": "2025-07-28T10:37:05.087480",
     "exception": false,
     "start_time": "2025-07-28T10:37:05.048208",
     "status": "completed"
    },
    "tags": []
   },
   "outputs": [
    {
     "name": "stdout",
     "output_type": "stream",
     "text": [
      "Using Seed: 2023\n"
     ]
    }
   ],
   "source": [
    "import numpy as np\n",
    "parsed_seed = int(seed)\n",
    "np.random.seed(parsed_seed)\n",
    "print(f\"Using Seed: {parsed_seed}\")"
   ]
  },
  {
   "cell_type": "markdown",
   "id": "e0ebdc57",
   "metadata": {
    "papermill": {
     "duration": 0.032086,
     "end_time": "2025-07-28T10:37:05.172381",
     "exception": false,
     "start_time": "2025-07-28T10:37:05.140295",
     "status": "completed"
    },
    "tags": []
   },
   "source": [
    "# Loading Data"
   ]
  },
  {
   "cell_type": "markdown",
   "id": "681925a3",
   "metadata": {
    "papermill": {
     "duration": 0.038996,
     "end_time": "2025-07-28T10:37:05.237866",
     "exception": false,
     "start_time": "2025-07-28T10:37:05.198870",
     "status": "completed"
    },
    "tags": []
   },
   "source": [
    "Load siab_train, siab_test, siab_calib and/or \n",
    "load siab_train_features, siab_train_labels"
   ]
  },
  {
   "cell_type": "code",
   "execution_count": 9,
   "id": "f0496b8a",
   "metadata": {
    "execution": {
     "iopub.execute_input": "2025-07-28T10:37:05.281369Z",
     "iopub.status.busy": "2025-07-28T10:37:05.280873Z",
     "iopub.status.idle": "2025-07-28T10:37:17.420596Z",
     "shell.execute_reply": "2025-07-28T10:37:17.418788Z"
    },
    "papermill": {
     "duration": 12.16475,
     "end_time": "2025-07-28T10:37:17.422840",
     "exception": false,
     "start_time": "2025-07-28T10:37:05.258090",
     "status": "completed"
    },
    "tags": []
   },
   "outputs": [
    {
     "name": "stdout",
     "output_type": "stream",
     "text": [
      "Loading SIAB data from cache: data/siab_cached.csv.gz\n"
     ]
    },
    {
     "name": "stdout",
     "output_type": "stream",
     "text": [
      "(643690, 164)\n"
     ]
    }
   ],
   "source": [
    "from pathlib import Path\n",
    "import pandas as pd\n",
    "\n",
    "# File paths\n",
    "raw_file = Path(\"data/raw/siab.csv\")\n",
    "cache_file = Path(\"data/siab_cached.csv.gz\")\n",
    "\n",
    "# Ensure cache directory exists\n",
    "cache_file.parent.mkdir(parents=True, exist_ok=True)\n",
    "\n",
    "# Load with simple caching\n",
    "if cache_file.exists():\n",
    "    print(f\"Loading SIAB data from cache: {cache_file}\")\n",
    "    siab = pd.read_csv(cache_file, compression='gzip')\n",
    "else:\n",
    "    print(f\"Cache not found. Reading raw SIAB data: {raw_file}\")\n",
    "    siab = pd.read_csv(raw_file)\n",
    "    siab.to_csv(cache_file, index=False, compression='gzip')\n",
    "    print(f\"Cached SIAB data to: {cache_file}\")\n",
    "\n",
    "# Now use `siab` DataFrame as needed\n",
    "print(siab.shape)"
   ]
  },
  {
   "cell_type": "code",
   "execution_count": 10,
   "id": "db0ca512-5f53-4dba-abdb-a2888bca41ba",
   "metadata": {
    "execution": {
     "iopub.execute_input": "2025-07-28T10:37:17.475831Z",
     "iopub.status.busy": "2025-07-28T10:37:17.475130Z",
     "iopub.status.idle": "2025-07-28T10:37:17.482849Z",
     "shell.execute_reply": "2025-07-28T10:37:17.481627Z"
    },
    "papermill": {
     "duration": 0.035528,
     "end_time": "2025-07-28T10:37:17.484881",
     "exception": false,
     "start_time": "2025-07-28T10:37:17.449353",
     "status": "completed"
    },
    "tags": []
   },
   "outputs": [],
   "source": [
    "#siab"
   ]
  },
  {
   "cell_type": "code",
   "execution_count": 11,
   "id": "a0edb063",
   "metadata": {
    "execution": {
     "iopub.execute_input": "2025-07-28T10:37:17.534778Z",
     "iopub.status.busy": "2025-07-28T10:37:17.533728Z",
     "iopub.status.idle": "2025-07-28T10:37:17.540929Z",
     "shell.execute_reply": "2025-07-28T10:37:17.539755Z"
    },
    "papermill": {
     "duration": 0.034036,
     "end_time": "2025-07-28T10:37:17.543096",
     "exception": false,
     "start_time": "2025-07-28T10:37:17.509060",
     "status": "completed"
    },
    "tags": []
   },
   "outputs": [],
   "source": [
    "#import pandas as pd\n",
    "#\n",
    "#X_train = pd.read_csv(\"./data/X_train.csv\")\n",
    "#y_train = pd.read_csv(\"./data/y_train.csv\")"
   ]
  },
  {
   "cell_type": "code",
   "execution_count": 12,
   "id": "63d08085",
   "metadata": {
    "execution": {
     "iopub.execute_input": "2025-07-28T10:37:17.592877Z",
     "iopub.status.busy": "2025-07-28T10:37:17.592367Z",
     "iopub.status.idle": "2025-07-28T10:37:17.597837Z",
     "shell.execute_reply": "2025-07-28T10:37:17.596769Z"
    },
    "papermill": {
     "duration": 0.032156,
     "end_time": "2025-07-28T10:37:17.599651",
     "exception": false,
     "start_time": "2025-07-28T10:37:17.567495",
     "status": "completed"
    },
    "tags": []
   },
   "outputs": [],
   "source": [
    "#X_test = pd.read_csv(\"./data/X_test.csv\")\n",
    "#y_true = pd.read_csv(\"./data/y_test.csv\")"
   ]
  },
  {
   "cell_type": "code",
   "execution_count": 13,
   "id": "98a8d0fa-1d3d-4ed8-bb2c-281470e24add",
   "metadata": {
    "execution": {
     "iopub.execute_input": "2025-07-28T10:37:17.648815Z",
     "iopub.status.busy": "2025-07-28T10:37:17.648273Z",
     "iopub.status.idle": "2025-07-28T10:37:17.653749Z",
     "shell.execute_reply": "2025-07-28T10:37:17.652678Z"
    },
    "papermill": {
     "duration": 0.032125,
     "end_time": "2025-07-28T10:37:17.655745",
     "exception": false,
     "start_time": "2025-07-28T10:37:17.623620",
     "status": "completed"
    },
    "tags": []
   },
   "outputs": [],
   "source": [
    "# Calibration data for conformal\n",
    "#X_calib = pd.read_csv(\"./data/X_calib.csv\")\n",
    "#y_calib = pd.read_csv(\"./data/y_calib.csv\")"
   ]
  },
  {
   "cell_type": "markdown",
   "id": "9901737e-04df-44f0-9100-f5ad144ed040",
   "metadata": {
    "papermill": {
     "duration": 0.023516,
     "end_time": "2025-07-28T10:37:17.703597",
     "exception": false,
     "start_time": "2025-07-28T10:37:17.680081",
     "status": "completed"
    },
    "tags": []
   },
   "source": [
    "# Splitting Data and Setting Training Data Size"
   ]
  },
  {
   "cell_type": "code",
   "execution_count": 14,
   "id": "acbc8f7d-8fc8-4e86-8c59-5dcb0f58384b",
   "metadata": {
    "execution": {
     "iopub.execute_input": "2025-07-28T10:37:17.752889Z",
     "iopub.status.busy": "2025-07-28T10:37:17.752348Z",
     "iopub.status.idle": "2025-07-28T10:37:17.763967Z",
     "shell.execute_reply": "2025-07-28T10:37:17.760388Z"
    },
    "papermill": {
     "duration": 0.0391,
     "end_time": "2025-07-28T10:37:17.765920",
     "exception": false,
     "start_time": "2025-07-28T10:37:17.726820",
     "status": "completed"
    },
    "tags": []
   },
   "outputs": [],
   "source": [
    "def sample_by_year(df, training_size, random_state=42):\n",
    "    if training_size == \"2014\":\n",
    "        return df[df[\"year\"] == 2014].reset_index(drop=True)\n",
    "    \n",
    "    size_map = {\n",
    "        \"25k\": 5000,\n",
    "        \"5k\": 1000,\n",
    "        \"1k\": 200\n",
    "    }\n",
    "\n",
    "    if training_size not in size_map:\n",
    "        return df.reset_index(drop=True)  # use all data\n",
    "\n",
    "    n_per_year = size_map[training_size]\n",
    "    grouped = df.groupby(\"year\")\n",
    "    sampled = grouped.apply(lambda x: x.sample(n=min(n_per_year, len(x)), random_state=random_state))\n",
    "    return sampled.reset_index(drop=True)"
   ]
  },
  {
   "cell_type": "code",
   "execution_count": 15,
   "id": "6d931f52-beaf-43ff-9e78-9d44a448d54e",
   "metadata": {
    "execution": {
     "iopub.execute_input": "2025-07-28T10:37:17.803518Z",
     "iopub.status.busy": "2025-07-28T10:37:17.802623Z",
     "iopub.status.idle": "2025-07-28T10:37:18.567520Z",
     "shell.execute_reply": "2025-07-28T10:37:18.564431Z"
    },
    "papermill": {
     "duration": 0.792488,
     "end_time": "2025-07-28T10:37:18.573084",
     "exception": false,
     "start_time": "2025-07-28T10:37:17.780596",
     "status": "completed"
    },
    "tags": []
   },
   "outputs": [],
   "source": [
    "siab_s = sample_by_year(siab, universe[\"training_size\"])"
   ]
  },
  {
   "cell_type": "code",
   "execution_count": 16,
   "id": "5db0a40e-a4e2-4920-be85-b12ae061d70d",
   "metadata": {
    "execution": {
     "iopub.execute_input": "2025-07-28T10:37:18.623756Z",
     "iopub.status.busy": "2025-07-28T10:37:18.623372Z",
     "iopub.status.idle": "2025-07-28T10:37:18.639150Z",
     "shell.execute_reply": "2025-07-28T10:37:18.638124Z"
    },
    "papermill": {
     "duration": 0.048399,
     "end_time": "2025-07-28T10:37:18.643523",
     "exception": false,
     "start_time": "2025-07-28T10:37:18.595124",
     "status": "completed"
    },
    "tags": []
   },
   "outputs": [
    {
     "data": {
      "text/plain": [
       "year\n",
       "2010    1000\n",
       "2011    1000\n",
       "2012    1000\n",
       "2013    1000\n",
       "2014    1000\n",
       "2015    1000\n",
       "2016    1000\n",
       "dtype: int64"
      ]
     },
     "metadata": {},
     "output_type": "display_data"
    }
   ],
   "source": [
    "display(siab_s.groupby(\"year\").size())"
   ]
  },
  {
   "cell_type": "code",
   "execution_count": 17,
   "id": "a561edb4-d032-42cb-8256-22eac1111c64",
   "metadata": {
    "execution": {
     "iopub.execute_input": "2025-07-28T10:37:18.684789Z",
     "iopub.status.busy": "2025-07-28T10:37:18.684322Z",
     "iopub.status.idle": "2025-07-28T10:37:18.903477Z",
     "shell.execute_reply": "2025-07-28T10:37:18.902526Z"
    },
    "papermill": {
     "duration": 0.242037,
     "end_time": "2025-07-28T10:37:18.905564",
     "exception": false,
     "start_time": "2025-07-28T10:37:18.663527",
     "status": "completed"
    },
    "tags": []
   },
   "outputs": [],
   "source": [
    "siab_train = siab_s[siab_s.year < 2015]\n",
    "siab_calib = siab[siab.year == 2015]\n",
    "siab_test = siab[siab.year == 2016]"
   ]
  },
  {
   "cell_type": "code",
   "execution_count": 18,
   "id": "472de16f-c3db-4916-846b-1f0de9cf1746",
   "metadata": {
    "execution": {
     "iopub.execute_input": "2025-07-28T10:37:18.956584Z",
     "iopub.status.busy": "2025-07-28T10:37:18.956155Z",
     "iopub.status.idle": "2025-07-28T10:37:18.964732Z",
     "shell.execute_reply": "2025-07-28T10:37:18.963666Z"
    },
    "papermill": {
     "duration": 0.034062,
     "end_time": "2025-07-28T10:37:18.967801",
     "exception": false,
     "start_time": "2025-07-28T10:37:18.933739",
     "status": "completed"
    },
    "tags": []
   },
   "outputs": [],
   "source": [
    "X_train = siab_train.iloc[:,4:164]\n",
    "y_train = siab_train.iloc[:, [3]]"
   ]
  },
  {
   "cell_type": "code",
   "execution_count": 19,
   "id": "828c96af-f43a-4ed6-ba47-8ac73a47d56c",
   "metadata": {
    "execution": {
     "iopub.execute_input": "2025-07-28T10:37:19.012998Z",
     "iopub.status.busy": "2025-07-28T10:37:19.012549Z",
     "iopub.status.idle": "2025-07-28T10:37:19.067409Z",
     "shell.execute_reply": "2025-07-28T10:37:19.065952Z"
    },
    "papermill": {
     "duration": 0.08375,
     "end_time": "2025-07-28T10:37:19.073286",
     "exception": false,
     "start_time": "2025-07-28T10:37:18.989536",
     "status": "completed"
    },
    "tags": []
   },
   "outputs": [],
   "source": [
    "X_calib = siab_calib.iloc[:,4:164]\n",
    "y_calib = siab_calib.iloc[:, [3]]"
   ]
  },
  {
   "cell_type": "code",
   "execution_count": 20,
   "id": "c34be9c3-6bd6-476e-acd3-845840e303be",
   "metadata": {
    "execution": {
     "iopub.execute_input": "2025-07-28T10:37:19.117602Z",
     "iopub.status.busy": "2025-07-28T10:37:19.116531Z",
     "iopub.status.idle": "2025-07-28T10:37:19.171232Z",
     "shell.execute_reply": "2025-07-28T10:37:19.170360Z"
    },
    "papermill": {
     "duration": 0.080196,
     "end_time": "2025-07-28T10:37:19.173288",
     "exception": false,
     "start_time": "2025-07-28T10:37:19.093092",
     "status": "completed"
    },
    "tags": []
   },
   "outputs": [],
   "source": [
    "X_test = siab_test.iloc[:,4:164]\n",
    "y_true = siab_test.iloc[:, [3]]"
   ]
  },
  {
   "cell_type": "code",
   "execution_count": 21,
   "id": "e6c733c5",
   "metadata": {
    "execution": {
     "iopub.execute_input": "2025-07-28T10:37:19.218577Z",
     "iopub.status.busy": "2025-07-28T10:37:19.217854Z",
     "iopub.status.idle": "2025-07-28T10:37:19.326519Z",
     "shell.execute_reply": "2025-07-28T10:37:19.325460Z"
    },
    "papermill": {
     "duration": 0.133508,
     "end_time": "2025-07-28T10:37:19.328461",
     "exception": false,
     "start_time": "2025-07-28T10:37:19.194953",
     "status": "completed"
    },
    "tags": []
   },
   "outputs": [],
   "source": [
    "# Auxiliary data needed downstream in the pipeline\n",
    "\n",
    "org_train = X_train.copy()\n",
    "org_test = X_test.copy()\n",
    "org_calib = X_calib.copy()"
   ]
  },
  {
   "cell_type": "markdown",
   "id": "0a4a1b33",
   "metadata": {
    "papermill": {
     "duration": 0.058557,
     "end_time": "2025-07-28T10:37:19.430018",
     "exception": false,
     "start_time": "2025-07-28T10:37:19.371461",
     "status": "completed"
    },
    "tags": []
   },
   "source": [
    "# Preprocessing Data"
   ]
  },
  {
   "cell_type": "code",
   "execution_count": 22,
   "id": "ca879031",
   "metadata": {
    "execution": {
     "iopub.execute_input": "2025-07-28T10:37:19.530613Z",
     "iopub.status.busy": "2025-07-28T10:37:19.529562Z",
     "iopub.status.idle": "2025-07-28T10:37:19.536942Z",
     "shell.execute_reply": "2025-07-28T10:37:19.536023Z"
    },
    "papermill": {
     "duration": 0.046271,
     "end_time": "2025-07-28T10:37:19.538630",
     "exception": false,
     "start_time": "2025-07-28T10:37:19.492359",
     "status": "completed"
    },
    "tags": []
   },
   "outputs": [],
   "source": [
    "# EXCLUDE PROTECTED FEATURES\n",
    "# ----------------------\n",
    "# \"exclude_features\": \"none\", # \"nationality\", \"sex\", \"nationality-sex\"\n",
    "\n",
    "excluded_features = universe[\"exclude_features\"].split(\"-\") # split, e.g.: \"nationality-sex\" -> [\"nationality\", \"sex\"]\n",
    "excluded_features_dictionary = {\n",
    "    \"nationality\": [\"maxdeutsch1\", \"maxdeutsch.Missing.\"],\n",
    "    \"sex\": [\"frau1\"],\n",
    "    \"age\": [\"age\"],\n",
    "}\n"
   ]
  },
  {
   "cell_type": "code",
   "execution_count": 23,
   "id": "b745ac60",
   "metadata": {
    "execution": {
     "iopub.execute_input": "2025-07-28T10:37:19.616526Z",
     "iopub.status.busy": "2025-07-28T10:37:19.616071Z",
     "iopub.status.idle": "2025-07-28T10:37:19.622252Z",
     "shell.execute_reply": "2025-07-28T10:37:19.621392Z"
    },
    "papermill": {
     "duration": 0.055252,
     "end_time": "2025-07-28T10:37:19.625288",
     "exception": false,
     "start_time": "2025-07-28T10:37:19.570036",
     "status": "completed"
    },
    "tags": []
   },
   "outputs": [],
   "source": [
    "# Code nice names to column names\n",
    "\n",
    "excluded_features_columns = [\n",
    "    excluded_features_dictionary[f] for f in excluded_features if len(f) > 0 and f != \"none\"\n",
    "]"
   ]
  },
  {
   "cell_type": "code",
   "execution_count": 24,
   "id": "f84f73a2",
   "metadata": {
    "execution": {
     "iopub.execute_input": "2025-07-28T10:37:19.672447Z",
     "iopub.status.busy": "2025-07-28T10:37:19.671986Z",
     "iopub.status.idle": "2025-07-28T10:37:19.678860Z",
     "shell.execute_reply": "2025-07-28T10:37:19.677896Z"
    },
    "papermill": {
     "duration": 0.046663,
     "end_time": "2025-07-28T10:37:19.692743",
     "exception": false,
     "start_time": "2025-07-28T10:37:19.646080",
     "status": "completed"
    },
    "tags": []
   },
   "outputs": [],
   "source": [
    "from utils import flatten_once\n",
    "\n",
    "excluded_features_columns = flatten_once(excluded_features_columns)"
   ]
  },
  {
   "cell_type": "code",
   "execution_count": 25,
   "id": "884dea22",
   "metadata": {
    "execution": {
     "iopub.execute_input": "2025-07-28T10:37:19.794531Z",
     "iopub.status.busy": "2025-07-28T10:37:19.794117Z",
     "iopub.status.idle": "2025-07-28T10:37:19.804661Z",
     "shell.execute_reply": "2025-07-28T10:37:19.803594Z"
    },
    "papermill": {
     "duration": 0.061669,
     "end_time": "2025-07-28T10:37:19.806333",
     "exception": false,
     "start_time": "2025-07-28T10:37:19.744664",
     "status": "completed"
    },
    "tags": []
   },
   "outputs": [
    {
     "name": "stdout",
     "output_type": "stream",
     "text": [
      "Dropping features: ['maxdeutsch1', 'maxdeutsch.Missing.']\n"
     ]
    }
   ],
   "source": [
    "if len(excluded_features_columns) > 0:\n",
    "    print(f\"Dropping features: {excluded_features_columns}\")\n",
    "    X_train.drop(excluded_features_columns, axis=1, inplace=True)"
   ]
  },
  {
   "cell_type": "code",
   "execution_count": 26,
   "id": "95ab8b16",
   "metadata": {
    "execution": {
     "iopub.execute_input": "2025-07-28T10:37:19.886977Z",
     "iopub.status.busy": "2025-07-28T10:37:19.886586Z",
     "iopub.status.idle": "2025-07-28T10:37:19.953747Z",
     "shell.execute_reply": "2025-07-28T10:37:19.952815Z"
    },
    "papermill": {
     "duration": 0.111796,
     "end_time": "2025-07-28T10:37:19.955588",
     "exception": false,
     "start_time": "2025-07-28T10:37:19.843792",
     "status": "completed"
    },
    "tags": []
   },
   "outputs": [
    {
     "name": "stdout",
     "output_type": "stream",
     "text": [
      "Dropping features: ['maxdeutsch1', 'maxdeutsch.Missing.']\n"
     ]
    }
   ],
   "source": [
    "if len(excluded_features_columns) > 0:\n",
    "    print(f\"Dropping features: {excluded_features_columns}\")\n",
    "    X_test.drop(excluded_features_columns, axis=1, inplace=True)"
   ]
  },
  {
   "cell_type": "code",
   "execution_count": 27,
   "id": "1853aaf5-fb9f-46cb-a2b5-8ea4ae2237e4",
   "metadata": {
    "execution": {
     "iopub.execute_input": "2025-07-28T10:37:19.996062Z",
     "iopub.status.busy": "2025-07-28T10:37:19.995637Z",
     "iopub.status.idle": "2025-07-28T10:37:20.100388Z",
     "shell.execute_reply": "2025-07-28T10:37:20.099271Z"
    },
    "papermill": {
     "duration": 0.125476,
     "end_time": "2025-07-28T10:37:20.102144",
     "exception": false,
     "start_time": "2025-07-28T10:37:19.976668",
     "status": "completed"
    },
    "tags": []
   },
   "outputs": [
    {
     "name": "stdout",
     "output_type": "stream",
     "text": [
      "Dropping features: ['maxdeutsch1', 'maxdeutsch.Missing.']\n"
     ]
    }
   ],
   "source": [
    "if len(excluded_features_columns) > 0:\n",
    "    print(f\"Dropping features: {excluded_features_columns}\")\n",
    "    X_calib.drop(excluded_features_columns, axis=1, inplace=True)"
   ]
  },
  {
   "cell_type": "code",
   "execution_count": 28,
   "id": "6727d079-03e5-481e-9d38-292a90b7a0a8",
   "metadata": {
    "execution": {
     "iopub.execute_input": "2025-07-28T10:37:20.159274Z",
     "iopub.status.busy": "2025-07-28T10:37:20.158923Z",
     "iopub.status.idle": "2025-07-28T10:37:20.163534Z",
     "shell.execute_reply": "2025-07-28T10:37:20.162824Z"
    },
    "papermill": {
     "duration": 0.025028,
     "end_time": "2025-07-28T10:37:20.165097",
     "exception": false,
     "start_time": "2025-07-28T10:37:20.140069",
     "status": "completed"
    },
    "tags": []
   },
   "outputs": [],
   "source": [
    "# SPLIT & STRATIFY DATA\n",
    "# ----------------------"
   ]
  },
  {
   "cell_type": "code",
   "execution_count": 29,
   "id": "76c4dc6d",
   "metadata": {
    "execution": {
     "iopub.execute_input": "2025-07-28T10:37:20.212235Z",
     "iopub.status.busy": "2025-07-28T10:37:20.211718Z",
     "iopub.status.idle": "2025-07-28T10:37:20.219407Z",
     "shell.execute_reply": "2025-07-28T10:37:20.218496Z"
    },
    "papermill": {
     "duration": 0.036853,
     "end_time": "2025-07-28T10:37:20.224976",
     "exception": false,
     "start_time": "2025-07-28T10:37:20.188123",
     "status": "completed"
    },
    "tags": []
   },
   "outputs": [],
   "source": [
    "# EXCLUDE CERTAIN SUBGROUPS\n",
    "# ----------------------\n",
    "\n",
    "mode = universe.get(\"exclude_subgroups\", \"keep-all\") \n",
    "# Fetches the exclude_subgroups setting from the universe dict.\n",
    "# Defaults to \"keep-all\" if the key is missing."
   ]
  },
  {
   "cell_type": "code",
   "execution_count": 30,
   "id": "21994072",
   "metadata": {
    "execution": {
     "iopub.execute_input": "2025-07-28T10:37:20.251383Z",
     "iopub.status.busy": "2025-07-28T10:37:20.251030Z",
     "iopub.status.idle": "2025-07-28T10:37:20.256705Z",
     "shell.execute_reply": "2025-07-28T10:37:20.255788Z"
    },
    "papermill": {
     "duration": 0.020618,
     "end_time": "2025-07-28T10:37:20.258049",
     "exception": false,
     "start_time": "2025-07-28T10:37:20.237431",
     "status": "completed"
    },
    "tags": []
   },
   "outputs": [],
   "source": [
    "if mode == \"keep-all\":\n",
    "    keep_mask = pd.Series(True, index=org_train.index)\n",
    "\n",
    "# org_train contains the original feature columns from features_org (in Simson)\n",
    "# features_org contains unprocessed features, for me X_train at beginning ???\n",
    "# For keep-all, creates a boolean Series (keep_mask) of all True, so no rows are removed.\n",
    "\n",
    "elif mode == \"drop-non-german\":\n",
    "    keep_mask = org_train[\"maxdeutsch1\"] == 1 # ??? what about missing values?\n",
    "\n",
    "else:\n",
    "    raise ValueError(f\"Unsupported mode for exclude_subgroups: {mode}\")\n"
   ]
  },
  {
   "cell_type": "code",
   "execution_count": 31,
   "id": "71651440",
   "metadata": {
    "execution": {
     "iopub.execute_input": "2025-07-28T10:37:20.284210Z",
     "iopub.status.busy": "2025-07-28T10:37:20.283888Z",
     "iopub.status.idle": "2025-07-28T10:37:20.290598Z",
     "shell.execute_reply": "2025-07-28T10:37:20.289556Z"
    },
    "papermill": {
     "duration": 0.021537,
     "end_time": "2025-07-28T10:37:20.292081",
     "exception": false,
     "start_time": "2025-07-28T10:37:20.270544",
     "status": "completed"
    },
    "tags": []
   },
   "outputs": [
    {
     "name": "stdout",
     "output_type": "stream",
     "text": [
      "Dropping 657 rows (13.14%) where mode='drop-non-german'\n"
     ]
    }
   ],
   "source": [
    "n_drop = (~keep_mask).sum() # Calculates how many rows are set to be dropped\n",
    "if n_drop > 0:\n",
    "    pct = n_drop / len(keep_mask) * 100\n",
    "    print(f\"Dropping {n_drop} rows ({pct:.2f}%) where mode='{mode}'\")"
   ]
  },
  {
   "cell_type": "code",
   "execution_count": 32,
   "id": "5fb8eee5",
   "metadata": {
    "execution": {
     "iopub.execute_input": "2025-07-28T10:37:20.320581Z",
     "iopub.status.busy": "2025-07-28T10:37:20.320099Z",
     "iopub.status.idle": "2025-07-28T10:37:20.327899Z",
     "shell.execute_reply": "2025-07-28T10:37:20.326952Z"
    },
    "papermill": {
     "duration": 0.025463,
     "end_time": "2025-07-28T10:37:20.331151",
     "exception": false,
     "start_time": "2025-07-28T10:37:20.305688",
     "status": "completed"
    },
    "tags": []
   },
   "outputs": [],
   "source": [
    "X_train = X_train[keep_mask]"
   ]
  },
  {
   "cell_type": "code",
   "execution_count": 33,
   "id": "b202bb3a",
   "metadata": {
    "execution": {
     "iopub.execute_input": "2025-07-28T10:37:20.413032Z",
     "iopub.status.busy": "2025-07-28T10:37:20.412608Z",
     "iopub.status.idle": "2025-07-28T10:37:20.418851Z",
     "shell.execute_reply": "2025-07-28T10:37:20.417867Z"
    },
    "papermill": {
     "duration": 0.030066,
     "end_time": "2025-07-28T10:37:20.422122",
     "exception": false,
     "start_time": "2025-07-28T10:37:20.392056",
     "status": "completed"
    },
    "tags": []
   },
   "outputs": [],
   "source": [
    "y_train = y_train[keep_mask]"
   ]
  },
  {
   "cell_type": "markdown",
   "id": "493e2ac3",
   "metadata": {
    "papermill": {
     "duration": 0.051546,
     "end_time": "2025-07-28T10:37:20.533912",
     "exception": false,
     "start_time": "2025-07-28T10:37:20.482366",
     "status": "completed"
    },
    "tags": []
   },
   "source": [
    "# Model Training"
   ]
  },
  {
   "cell_type": "code",
   "execution_count": 34,
   "id": "679e1268",
   "metadata": {
    "execution": {
     "iopub.execute_input": "2025-07-28T10:37:20.609763Z",
     "iopub.status.busy": "2025-07-28T10:37:20.609372Z",
     "iopub.status.idle": "2025-07-28T10:37:20.838280Z",
     "shell.execute_reply": "2025-07-28T10:37:20.837185Z"
    },
    "papermill": {
     "duration": 0.271741,
     "end_time": "2025-07-28T10:37:20.840296",
     "exception": false,
     "start_time": "2025-07-28T10:37:20.568555",
     "status": "completed"
    },
    "tags": []
   },
   "outputs": [],
   "source": [
    "from sklearn.linear_model import LogisticRegression\n",
    "from sklearn.ensemble import GradientBoostingClassifier, RandomForestClassifier\n",
    "\n",
    "if (universe[\"model\"] == \"logreg\"):\n",
    "    model = LogisticRegression() #penalty=\"none\") #, solver=\"newton-cg\", max_iter=1) # include random_state=19 ?\n",
    "elif (universe[\"model\"] == \"penalized_logreg\"):\n",
    "    model = LogisticRegression(penalty=\"l2\", C=1.0) #, solver=\"newton-cg\", max_iter=1)\n",
    "elif (universe[\"model\"] == \"rf\"):\n",
    "    model = RandomForestClassifier(n_estimators=100, n_jobs=-1)\n",
    "elif (universe[\"model\"] == \"gbm\"):\n",
    "    model = GradientBoostingClassifier()\n",
    "elif (universe[\"model\"] == \"elasticnet\"):\n",
    "    model = LogisticRegression(penalty = 'elasticnet', solver = 'saga', l1_ratio = 0.5, max_iter=5000) # which solver to use?\n",
    "else:\n",
    "    raise \"Unsupported universe.model\""
   ]
  },
  {
   "cell_type": "code",
   "execution_count": 35,
   "id": "0cc8f744",
   "metadata": {
    "execution": {
     "iopub.execute_input": "2025-07-28T10:37:20.966794Z",
     "iopub.status.busy": "2025-07-28T10:37:20.966382Z",
     "iopub.status.idle": "2025-07-28T10:37:20.973631Z",
     "shell.execute_reply": "2025-07-28T10:37:20.972657Z"
    },
    "papermill": {
     "duration": 0.079837,
     "end_time": "2025-07-28T10:37:20.975357",
     "exception": false,
     "start_time": "2025-07-28T10:37:20.895520",
     "status": "completed"
    },
    "tags": []
   },
   "outputs": [],
   "source": [
    "import numpy as np\n",
    "from sklearn.pipeline import Pipeline\n",
    "from sklearn.preprocessing import StandardScaler\n",
    "\n",
    "model = Pipeline([\n",
    "    #(\"continuous_processor\", continuous_processor),\n",
    "    #(\"categorical_preprocessor\", categorical_preprocessor),\n",
    "    (\"scale\", StandardScaler() if universe[\"scale\"] == \"scale\" else None), \n",
    "    (\"model\", model),\n",
    "])"
   ]
  },
  {
   "cell_type": "code",
   "execution_count": 36,
   "id": "9442c04d",
   "metadata": {
    "execution": {
     "iopub.execute_input": "2025-07-28T10:37:21.109767Z",
     "iopub.status.busy": "2025-07-28T10:37:21.109338Z",
     "iopub.status.idle": "2025-07-28T10:37:22.387418Z",
     "shell.execute_reply": "2025-07-28T10:37:22.386307Z"
    },
    "papermill": {
     "duration": 1.347324,
     "end_time": "2025-07-28T10:37:22.389151",
     "exception": false,
     "start_time": "2025-07-28T10:37:21.041827",
     "status": "completed"
    },
    "tags": []
   },
   "outputs": [
    {
     "data": {
      "text/html": [
       "<style>#sk-container-id-1 {color: black;background-color: white;}#sk-container-id-1 pre{padding: 0;}#sk-container-id-1 div.sk-toggleable {background-color: white;}#sk-container-id-1 label.sk-toggleable__label {cursor: pointer;display: block;width: 100%;margin-bottom: 0;padding: 0.3em;box-sizing: border-box;text-align: center;}#sk-container-id-1 label.sk-toggleable__label-arrow:before {content: \"▸\";float: left;margin-right: 0.25em;color: #696969;}#sk-container-id-1 label.sk-toggleable__label-arrow:hover:before {color: black;}#sk-container-id-1 div.sk-estimator:hover label.sk-toggleable__label-arrow:before {color: black;}#sk-container-id-1 div.sk-toggleable__content {max-height: 0;max-width: 0;overflow: hidden;text-align: left;background-color: #f0f8ff;}#sk-container-id-1 div.sk-toggleable__content pre {margin: 0.2em;color: black;border-radius: 0.25em;background-color: #f0f8ff;}#sk-container-id-1 input.sk-toggleable__control:checked~div.sk-toggleable__content {max-height: 200px;max-width: 100%;overflow: auto;}#sk-container-id-1 input.sk-toggleable__control:checked~label.sk-toggleable__label-arrow:before {content: \"▾\";}#sk-container-id-1 div.sk-estimator input.sk-toggleable__control:checked~label.sk-toggleable__label {background-color: #d4ebff;}#sk-container-id-1 div.sk-label input.sk-toggleable__control:checked~label.sk-toggleable__label {background-color: #d4ebff;}#sk-container-id-1 input.sk-hidden--visually {border: 0;clip: rect(1px 1px 1px 1px);clip: rect(1px, 1px, 1px, 1px);height: 1px;margin: -1px;overflow: hidden;padding: 0;position: absolute;width: 1px;}#sk-container-id-1 div.sk-estimator {font-family: monospace;background-color: #f0f8ff;border: 1px dotted black;border-radius: 0.25em;box-sizing: border-box;margin-bottom: 0.5em;}#sk-container-id-1 div.sk-estimator:hover {background-color: #d4ebff;}#sk-container-id-1 div.sk-parallel-item::after {content: \"\";width: 100%;border-bottom: 1px solid gray;flex-grow: 1;}#sk-container-id-1 div.sk-label:hover label.sk-toggleable__label {background-color: #d4ebff;}#sk-container-id-1 div.sk-serial::before {content: \"\";position: absolute;border-left: 1px solid gray;box-sizing: border-box;top: 0;bottom: 0;left: 50%;z-index: 0;}#sk-container-id-1 div.sk-serial {display: flex;flex-direction: column;align-items: center;background-color: white;padding-right: 0.2em;padding-left: 0.2em;position: relative;}#sk-container-id-1 div.sk-item {position: relative;z-index: 1;}#sk-container-id-1 div.sk-parallel {display: flex;align-items: stretch;justify-content: center;background-color: white;position: relative;}#sk-container-id-1 div.sk-item::before, #sk-container-id-1 div.sk-parallel-item::before {content: \"\";position: absolute;border-left: 1px solid gray;box-sizing: border-box;top: 0;bottom: 0;left: 50%;z-index: -1;}#sk-container-id-1 div.sk-parallel-item {display: flex;flex-direction: column;z-index: 1;position: relative;background-color: white;}#sk-container-id-1 div.sk-parallel-item:first-child::after {align-self: flex-end;width: 50%;}#sk-container-id-1 div.sk-parallel-item:last-child::after {align-self: flex-start;width: 50%;}#sk-container-id-1 div.sk-parallel-item:only-child::after {width: 0;}#sk-container-id-1 div.sk-dashed-wrapped {border: 1px dashed gray;margin: 0 0.4em 0.5em 0.4em;box-sizing: border-box;padding-bottom: 0.4em;background-color: white;}#sk-container-id-1 div.sk-label label {font-family: monospace;font-weight: bold;display: inline-block;line-height: 1.2em;}#sk-container-id-1 div.sk-label-container {text-align: center;}#sk-container-id-1 div.sk-container {/* jupyter's `normalize.less` sets `[hidden] { display: none; }` but bootstrap.min.css set `[hidden] { display: none !important; }` so we also need the `!important` here to be able to override the default hidden behavior on the sphinx rendered scikit-learn.org. See: https://github.com/scikit-learn/scikit-learn/issues/21755 */display: inline-block !important;position: relative;}#sk-container-id-1 div.sk-text-repr-fallback {display: none;}</style><div id=\"sk-container-id-1\" class=\"sk-top-container\"><div class=\"sk-text-repr-fallback\"><pre>Pipeline(steps=[(&#x27;scale&#x27;, None), (&#x27;model&#x27;, RandomForestClassifier(n_jobs=-1))])</pre><b>In a Jupyter environment, please rerun this cell to show the HTML representation or trust the notebook. <br />On GitHub, the HTML representation is unable to render, please try loading this page with nbviewer.org.</b></div><div class=\"sk-container\" hidden><div class=\"sk-item sk-dashed-wrapped\"><div class=\"sk-label-container\"><div class=\"sk-label sk-toggleable\"><input class=\"sk-toggleable__control sk-hidden--visually\" id=\"sk-estimator-id-1\" type=\"checkbox\" ><label for=\"sk-estimator-id-1\" class=\"sk-toggleable__label sk-toggleable__label-arrow\">Pipeline</label><div class=\"sk-toggleable__content\"><pre>Pipeline(steps=[(&#x27;scale&#x27;, None), (&#x27;model&#x27;, RandomForestClassifier(n_jobs=-1))])</pre></div></div></div><div class=\"sk-serial\"><div class=\"sk-item\"><div class=\"sk-estimator sk-toggleable\"><input class=\"sk-toggleable__control sk-hidden--visually\" id=\"sk-estimator-id-2\" type=\"checkbox\" ><label for=\"sk-estimator-id-2\" class=\"sk-toggleable__label sk-toggleable__label-arrow\">None</label><div class=\"sk-toggleable__content\"><pre>None</pre></div></div></div><div class=\"sk-item\"><div class=\"sk-estimator sk-toggleable\"><input class=\"sk-toggleable__control sk-hidden--visually\" id=\"sk-estimator-id-3\" type=\"checkbox\" ><label for=\"sk-estimator-id-3\" class=\"sk-toggleable__label sk-toggleable__label-arrow\">RandomForestClassifier</label><div class=\"sk-toggleable__content\"><pre>RandomForestClassifier(n_jobs=-1)</pre></div></div></div></div></div></div></div>"
      ],
      "text/plain": [
       "Pipeline(steps=[('scale', None), ('model', RandomForestClassifier(n_jobs=-1))])"
      ]
     },
     "execution_count": 36,
     "metadata": {},
     "output_type": "execute_result"
    }
   ],
   "source": [
    "model.fit(X_train, y_train.values.ravel())"
   ]
  },
  {
   "cell_type": "code",
   "execution_count": 37,
   "id": "af59f8c0",
   "metadata": {
    "execution": {
     "iopub.execute_input": "2025-07-28T10:37:22.416445Z",
     "iopub.status.busy": "2025-07-28T10:37:22.415819Z",
     "iopub.status.idle": "2025-07-28T10:37:22.421038Z",
     "shell.execute_reply": "2025-07-28T10:37:22.420132Z"
    },
    "papermill": {
     "duration": 0.02009,
     "end_time": "2025-07-28T10:37:22.422530",
     "exception": false,
     "start_time": "2025-07-28T10:37:22.402440",
     "status": "completed"
    },
    "tags": []
   },
   "outputs": [],
   "source": [
    "from fairness_multiverse.universe import predict_w_threshold"
   ]
  },
  {
   "cell_type": "code",
   "execution_count": 38,
   "id": "a7cf2e16",
   "metadata": {
    "execution": {
     "iopub.execute_input": "2025-07-28T10:37:22.450509Z",
     "iopub.status.busy": "2025-07-28T10:37:22.449981Z",
     "iopub.status.idle": "2025-07-28T10:37:23.456295Z",
     "shell.execute_reply": "2025-07-28T10:37:23.455138Z"
    },
    "papermill": {
     "duration": 1.022305,
     "end_time": "2025-07-28T10:37:23.457893",
     "exception": false,
     "start_time": "2025-07-28T10:37:22.435588",
     "status": "completed"
    },
    "tags": []
   },
   "outputs": [
    {
     "data": {
      "text/plain": [
       "0.8627912161408985"
      ]
     },
     "execution_count": 38,
     "metadata": {},
     "output_type": "execute_result"
    }
   ],
   "source": [
    "probs_test = model.predict_proba(X_test)\n",
    "\n",
    "'''\n",
    "Below code returns a boolean array (or binary 0/1 array depending on how it’s used) where each element \n",
    "is True if the probability of class 1 is greater than or equal to the threshold, and False otherwise.\n",
    "'''\n",
    "y_pred_default = predict_w_threshold(probs_test, 0.5)\n",
    "\n",
    "from sklearn.metrics import accuracy_score\n",
    "\n",
    "# Naive prediction\n",
    "accuracy_score(y_true = y_true, y_pred = y_pred_default)"
   ]
  },
  {
   "cell_type": "code",
   "execution_count": 39,
   "id": "081964c3",
   "metadata": {
    "execution": {
     "iopub.execute_input": "2025-07-28T10:37:23.505475Z",
     "iopub.status.busy": "2025-07-28T10:37:23.504981Z",
     "iopub.status.idle": "2025-07-28T10:37:24.448750Z",
     "shell.execute_reply": "2025-07-28T10:37:24.447650Z"
    },
    "papermill": {
     "duration": 0.970704,
     "end_time": "2025-07-28T10:37:24.450660",
     "exception": false,
     "start_time": "2025-07-28T10:37:23.479956",
     "status": "completed"
    },
    "tags": []
   },
   "outputs": [
    {
     "data": {
      "text/plain": [
       "array([0, 0, 0, ..., 0, 0, 0])"
      ]
     },
     "execution_count": 39,
     "metadata": {},
     "output_type": "execute_result"
    }
   ],
   "source": [
    "model.predict(X_test)"
   ]
  },
  {
   "cell_type": "markdown",
   "id": "56c9705b",
   "metadata": {
    "papermill": {
     "duration": 0.025614,
     "end_time": "2025-07-28T10:37:24.503085",
     "exception": false,
     "start_time": "2025-07-28T10:37:24.477471",
     "status": "completed"
    },
    "tags": []
   },
   "source": [
    "# Conformal Prediction"
   ]
  },
  {
   "cell_type": "code",
   "execution_count": 40,
   "id": "160ec6ff",
   "metadata": {
    "execution": {
     "iopub.execute_input": "2025-07-28T10:37:24.558342Z",
     "iopub.status.busy": "2025-07-28T10:37:24.557176Z",
     "iopub.status.idle": "2025-07-28T10:37:24.563900Z",
     "shell.execute_reply": "2025-07-28T10:37:24.562658Z"
    },
    "papermill": {
     "duration": 0.036836,
     "end_time": "2025-07-28T10:37:24.565690",
     "exception": false,
     "start_time": "2025-07-28T10:37:24.528854",
     "status": "completed"
    },
    "tags": []
   },
   "outputs": [],
   "source": [
    "# Miscoverage level for conformal prediction (10% allowed error rate => 90% target coverage)\n",
    "alpha = 0.1"
   ]
  },
  {
   "cell_type": "code",
   "execution_count": 41,
   "id": "eadf4555-3dd3-440e-8e35-f82a4ad9f855",
   "metadata": {
    "execution": {
     "iopub.execute_input": "2025-07-28T10:37:24.614294Z",
     "iopub.status.busy": "2025-07-28T10:37:24.613232Z",
     "iopub.status.idle": "2025-07-28T10:37:25.473530Z",
     "shell.execute_reply": "2025-07-28T10:37:25.472448Z"
    },
    "papermill": {
     "duration": 0.887102,
     "end_time": "2025-07-28T10:37:25.475848",
     "exception": false,
     "start_time": "2025-07-28T10:37:24.588746",
     "status": "completed"
    },
    "tags": []
   },
   "outputs": [],
   "source": [
    "probs_calib = model.predict_proba(X_calib)"
   ]
  },
  {
   "cell_type": "code",
   "execution_count": 42,
   "id": "2ed93547-6d5d-4983-9b36-1ecb300da49a",
   "metadata": {
    "execution": {
     "iopub.execute_input": "2025-07-28T10:37:25.538864Z",
     "iopub.status.busy": "2025-07-28T10:37:25.538439Z",
     "iopub.status.idle": "2025-07-28T10:37:25.545211Z",
     "shell.execute_reply": "2025-07-28T10:37:25.544108Z"
    },
    "papermill": {
     "duration": 0.040519,
     "end_time": "2025-07-28T10:37:25.547339",
     "exception": false,
     "start_time": "2025-07-28T10:37:25.506820",
     "status": "completed"
    },
    "tags": []
   },
   "outputs": [],
   "source": [
    "y_calib = y_calib.values.ravel().astype(int)"
   ]
  },
  {
   "cell_type": "code",
   "execution_count": 43,
   "id": "65d1320d-f588-4b38-9072-62af1ae97f7d",
   "metadata": {
    "execution": {
     "iopub.execute_input": "2025-07-28T10:37:25.611344Z",
     "iopub.status.busy": "2025-07-28T10:37:25.610780Z",
     "iopub.status.idle": "2025-07-28T10:37:25.619441Z",
     "shell.execute_reply": "2025-07-28T10:37:25.618347Z"
    },
    "papermill": {
     "duration": 0.042799,
     "end_time": "2025-07-28T10:37:25.621416",
     "exception": false,
     "start_time": "2025-07-28T10:37:25.578617",
     "status": "completed"
    },
    "tags": []
   },
   "outputs": [],
   "source": [
    "from fairness_multiverse.conformal import compute_nc_scores\n",
    "\n",
    "# Compute nonconformity scores on calibration set (1 - probability of true class)\n",
    "nc_scores = compute_nc_scores(probs_calib, y_calib)"
   ]
  },
  {
   "cell_type": "code",
   "execution_count": 44,
   "id": "df3b8ca3-53b7-43d5-9667-7c85da7aeda2",
   "metadata": {
    "execution": {
     "iopub.execute_input": "2025-07-28T10:37:25.676654Z",
     "iopub.status.busy": "2025-07-28T10:37:25.675685Z",
     "iopub.status.idle": "2025-07-28T10:37:25.683006Z",
     "shell.execute_reply": "2025-07-28T10:37:25.681970Z"
    },
    "papermill": {
     "duration": 0.036314,
     "end_time": "2025-07-28T10:37:25.684756",
     "exception": false,
     "start_time": "2025-07-28T10:37:25.648442",
     "status": "completed"
    },
    "tags": []
   },
   "outputs": [],
   "source": [
    "from fairness_multiverse.conformal import find_threshold\n",
    "\n",
    "# Find conformal threshold q_hat for the given alpha (split conformal method)\n",
    "q_hat = find_threshold(nc_scores, alpha)"
   ]
  },
  {
   "cell_type": "code",
   "execution_count": 45,
   "id": "4d29e6c1-0ef6-4aa4-b8fe-4fe79b0d033a",
   "metadata": {
    "execution": {
     "iopub.execute_input": "2025-07-28T10:37:25.734939Z",
     "iopub.status.busy": "2025-07-28T10:37:25.734345Z",
     "iopub.status.idle": "2025-07-28T10:37:25.742242Z",
     "shell.execute_reply": "2025-07-28T10:37:25.741060Z"
    },
    "papermill": {
     "duration": 0.034884,
     "end_time": "2025-07-28T10:37:25.743963",
     "exception": false,
     "start_time": "2025-07-28T10:37:25.709079",
     "status": "completed"
    },
    "tags": []
   },
   "outputs": [
    {
     "data": {
      "text/plain": [
       "0.6699999999999999"
      ]
     },
     "execution_count": 45,
     "metadata": {},
     "output_type": "execute_result"
    }
   ],
   "source": [
    "q_hat"
   ]
  },
  {
   "cell_type": "code",
   "execution_count": 46,
   "id": "92460794-cdac-4be2-ba28-f28c0515a6fb",
   "metadata": {
    "execution": {
     "iopub.execute_input": "2025-07-28T10:37:25.795022Z",
     "iopub.status.busy": "2025-07-28T10:37:25.794525Z",
     "iopub.status.idle": "2025-07-28T10:37:27.370444Z",
     "shell.execute_reply": "2025-07-28T10:37:27.369229Z"
    },
    "papermill": {
     "duration": 1.604002,
     "end_time": "2025-07-28T10:37:27.372504",
     "exception": false,
     "start_time": "2025-07-28T10:37:25.768502",
     "status": "completed"
    },
    "tags": []
   },
   "outputs": [],
   "source": [
    "from fairness_multiverse.conformal import predict_conformal_sets\n",
    "\n",
    "# Generate prediction sets for each test example\n",
    "pred_sets = predict_conformal_sets(model, X_test, q_hat)"
   ]
  },
  {
   "cell_type": "code",
   "execution_count": 47,
   "id": "d90c9a65-e6db-4f5d-80cd-e68fb7e46829",
   "metadata": {
    "execution": {
     "iopub.execute_input": "2025-07-28T10:37:27.430008Z",
     "iopub.status.busy": "2025-07-28T10:37:27.429438Z",
     "iopub.status.idle": "2025-07-28T10:37:27.435848Z",
     "shell.execute_reply": "2025-07-28T10:37:27.434696Z"
    },
    "papermill": {
     "duration": 0.037214,
     "end_time": "2025-07-28T10:37:27.437804",
     "exception": false,
     "start_time": "2025-07-28T10:37:27.400590",
     "status": "completed"
    },
    "tags": []
   },
   "outputs": [],
   "source": [
    "y_true = y_true.squeeze()"
   ]
  },
  {
   "cell_type": "code",
   "execution_count": 48,
   "id": "3a58a54a-1e68-46b9-927a-df01f18aebc8",
   "metadata": {
    "execution": {
     "iopub.execute_input": "2025-07-28T10:37:27.493532Z",
     "iopub.status.busy": "2025-07-28T10:37:27.493129Z",
     "iopub.status.idle": "2025-07-28T10:37:28.505543Z",
     "shell.execute_reply": "2025-07-28T10:37:28.504353Z"
    },
    "papermill": {
     "duration": 1.043103,
     "end_time": "2025-07-28T10:37:28.507838",
     "exception": false,
     "start_time": "2025-07-28T10:37:27.464735",
     "status": "completed"
    },
    "tags": []
   },
   "outputs": [],
   "source": [
    "from fairness_multiverse.conformal import evaluate_sets\n",
    "\n",
    "# Evaluate coverage and average set size on test data\n",
    "metrics = evaluate_sets(pred_sets, y_true)"
   ]
  },
  {
   "cell_type": "markdown",
   "id": "2b569c12-9aaa-4c88-98c9-bbcd0cf3ebb8",
   "metadata": {
    "papermill": {
     "duration": 0.039096,
     "end_time": "2025-07-28T10:37:28.571658",
     "exception": false,
     "start_time": "2025-07-28T10:37:28.532562",
     "status": "completed"
    },
    "tags": []
   },
   "source": [
    "# CP Metrics"
   ]
  },
  {
   "cell_type": "code",
   "execution_count": 49,
   "id": "5ce0a5cb-201f-45a0-ade5-94c7f0bd6095",
   "metadata": {
    "execution": {
     "iopub.execute_input": "2025-07-28T10:37:28.680411Z",
     "iopub.status.busy": "2025-07-28T10:37:28.679989Z",
     "iopub.status.idle": "2025-07-28T10:37:28.687652Z",
     "shell.execute_reply": "2025-07-28T10:37:28.686778Z"
    },
    "papermill": {
     "duration": 0.072756,
     "end_time": "2025-07-28T10:37:28.695032",
     "exception": false,
     "start_time": "2025-07-28T10:37:28.622276",
     "status": "completed"
    },
    "tags": []
   },
   "outputs": [
    {
     "data": {
      "text/plain": [
       "{'coverage': 0.9132984059748077, 'avg_size': 1.1551666480882845}"
      ]
     },
     "execution_count": 49,
     "metadata": {},
     "output_type": "execute_result"
    }
   ],
   "source": [
    "metrics"
   ]
  },
  {
   "cell_type": "code",
   "execution_count": 50,
   "id": "9b9a838d-31c9-430b-ae14-12baee460d17",
   "metadata": {
    "execution": {
     "iopub.execute_input": "2025-07-28T10:37:28.813389Z",
     "iopub.status.busy": "2025-07-28T10:37:28.812960Z",
     "iopub.status.idle": "2025-07-28T10:37:28.820073Z",
     "shell.execute_reply": "2025-07-28T10:37:28.818760Z"
    },
    "papermill": {
     "duration": 0.098998,
     "end_time": "2025-07-28T10:37:28.822387",
     "exception": false,
     "start_time": "2025-07-28T10:37:28.723389",
     "status": "completed"
    },
    "tags": []
   },
   "outputs": [],
   "source": [
    "example_universe = universe.copy()\n",
    "universe_training_size = example_universe.get(\"training_size\")\n",
    "universe_scale = example_universe.get(\"scale\")\n",
    "universe_model = example_universe.get(\"model\")\n",
    "universe_exclude_features = example_universe.get(\"exclude_features\")\n",
    "universe_exclude_subgroups = example_universe.get(\"exclude_subgroups\")"
   ]
  },
  {
   "cell_type": "code",
   "execution_count": 51,
   "id": "f4b6a8ac-9dc0-4245-8a91-5b3b5999c4f9",
   "metadata": {
    "execution": {
     "iopub.execute_input": "2025-07-28T10:37:28.962934Z",
     "iopub.status.busy": "2025-07-28T10:37:28.962487Z",
     "iopub.status.idle": "2025-07-28T10:37:28.970418Z",
     "shell.execute_reply": "2025-07-28T10:37:28.968886Z"
    },
    "papermill": {
     "duration": 0.071897,
     "end_time": "2025-07-28T10:37:28.972186",
     "exception": false,
     "start_time": "2025-07-28T10:37:28.900289",
     "status": "completed"
    },
    "tags": []
   },
   "outputs": [],
   "source": [
    "cp_metrics_dict = {\n",
    "    \"universe_id\": [universe_id],\n",
    "    \"universe_training_size\": [universe_training_size],\n",
    "    \"universe_scale\": [universe_scale],\n",
    "    \"universe_model\": [universe_model],\n",
    "    \"universe_exclude_features\": [universe_exclude_features],\n",
    "    \"universe_exclude_subgroups\": [universe_exclude_subgroups],\n",
    "    \"q_hat\": [q_hat],\n",
    "    \"coverage\": [metrics[\"coverage\"]],\n",
    "    \"avg_size\": [metrics[\"avg_size\"]],\n",
    "}"
   ]
  },
  {
   "cell_type": "code",
   "execution_count": 52,
   "id": "908acbb1-0371-4915-85ca-3fa520d2efe2",
   "metadata": {
    "execution": {
     "iopub.execute_input": "2025-07-28T10:37:29.024356Z",
     "iopub.status.busy": "2025-07-28T10:37:29.023896Z",
     "iopub.status.idle": "2025-07-28T10:37:29.035869Z",
     "shell.execute_reply": "2025-07-28T10:37:29.034250Z"
    },
    "papermill": {
     "duration": 0.040918,
     "end_time": "2025-07-28T10:37:29.038209",
     "exception": false,
     "start_time": "2025-07-28T10:37:28.997291",
     "status": "completed"
    },
    "tags": []
   },
   "outputs": [
    {
     "data": {
      "text/plain": [
       "{'universe_id': ['470ee800be4a3c6339fdb6d2df88c6a0'],\n",
       " 'universe_training_size': ['5k'],\n",
       " 'universe_scale': ['do-not-scale'],\n",
       " 'universe_model': ['rf'],\n",
       " 'universe_exclude_features': ['nationality'],\n",
       " 'universe_exclude_subgroups': ['drop-non-german'],\n",
       " 'q_hat': [0.6699999999999999],\n",
       " 'coverage': [0.9132984059748077],\n",
       " 'avg_size': [1.1551666480882845]}"
      ]
     },
     "execution_count": 52,
     "metadata": {},
     "output_type": "execute_result"
    }
   ],
   "source": [
    "cp_metrics_dict"
   ]
  },
  {
   "cell_type": "code",
   "execution_count": 53,
   "id": "33007efc-14e9-4ec6-97ac-56a455c82265",
   "metadata": {
    "execution": {
     "iopub.execute_input": "2025-07-28T10:37:29.096425Z",
     "iopub.status.busy": "2025-07-28T10:37:29.095987Z",
     "iopub.status.idle": "2025-07-28T10:37:29.103350Z",
     "shell.execute_reply": "2025-07-28T10:37:29.102187Z"
    },
    "papermill": {
     "duration": 0.04015,
     "end_time": "2025-07-28T10:37:29.106274",
     "exception": false,
     "start_time": "2025-07-28T10:37:29.066124",
     "status": "completed"
    },
    "tags": []
   },
   "outputs": [],
   "source": [
    "cp_metrics_df = pd.DataFrame(cp_metrics_dict)"
   ]
  },
  {
   "cell_type": "code",
   "execution_count": 54,
   "id": "db12611b-57b2-4910-b9d0-355adfd6e7bf",
   "metadata": {
    "execution": {
     "iopub.execute_input": "2025-07-28T10:37:29.164421Z",
     "iopub.status.busy": "2025-07-28T10:37:29.163881Z",
     "iopub.status.idle": "2025-07-28T10:37:29.187970Z",
     "shell.execute_reply": "2025-07-28T10:37:29.186880Z"
    },
    "papermill": {
     "duration": 0.056164,
     "end_time": "2025-07-28T10:37:29.190380",
     "exception": false,
     "start_time": "2025-07-28T10:37:29.134216",
     "status": "completed"
    },
    "tags": []
   },
   "outputs": [
    {
     "data": {
      "text/html": [
       "<div>\n",
       "<style scoped>\n",
       "    .dataframe tbody tr th:only-of-type {\n",
       "        vertical-align: middle;\n",
       "    }\n",
       "\n",
       "    .dataframe tbody tr th {\n",
       "        vertical-align: top;\n",
       "    }\n",
       "\n",
       "    .dataframe thead th {\n",
       "        text-align: right;\n",
       "    }\n",
       "</style>\n",
       "<table border=\"1\" class=\"dataframe\">\n",
       "  <thead>\n",
       "    <tr style=\"text-align: right;\">\n",
       "      <th></th>\n",
       "      <th>universe_id</th>\n",
       "      <th>universe_training_size</th>\n",
       "      <th>universe_scale</th>\n",
       "      <th>universe_model</th>\n",
       "      <th>universe_exclude_features</th>\n",
       "      <th>universe_exclude_subgroups</th>\n",
       "      <th>q_hat</th>\n",
       "      <th>coverage</th>\n",
       "      <th>avg_size</th>\n",
       "    </tr>\n",
       "  </thead>\n",
       "  <tbody>\n",
       "    <tr>\n",
       "      <th>0</th>\n",
       "      <td>470ee800be4a3c6339fdb6d2df88c6a0</td>\n",
       "      <td>5k</td>\n",
       "      <td>do-not-scale</td>\n",
       "      <td>rf</td>\n",
       "      <td>nationality</td>\n",
       "      <td>drop-non-german</td>\n",
       "      <td>0.67</td>\n",
       "      <td>0.913298</td>\n",
       "      <td>1.155167</td>\n",
       "    </tr>\n",
       "  </tbody>\n",
       "</table>\n",
       "</div>"
      ],
      "text/plain": [
       "                        universe_id universe_training_size universe_scale  \\\n",
       "0  470ee800be4a3c6339fdb6d2df88c6a0                     5k   do-not-scale   \n",
       "\n",
       "  universe_model universe_exclude_features universe_exclude_subgroups  q_hat  \\\n",
       "0             rf               nationality            drop-non-german   0.67   \n",
       "\n",
       "   coverage  avg_size  \n",
       "0  0.913298  1.155167  "
      ]
     },
     "execution_count": 54,
     "metadata": {},
     "output_type": "execute_result"
    }
   ],
   "source": [
    "cp_metrics_df"
   ]
  },
  {
   "cell_type": "code",
   "execution_count": 55,
   "id": "b7fbde55-a0a1-47e4-9af6-fe4a17fa8c61",
   "metadata": {
    "execution": {
     "iopub.execute_input": "2025-07-28T10:37:29.262667Z",
     "iopub.status.busy": "2025-07-28T10:37:29.262175Z",
     "iopub.status.idle": "2025-07-28T10:37:29.269662Z",
     "shell.execute_reply": "2025-07-28T10:37:29.268485Z"
    },
    "papermill": {
     "duration": 0.053059,
     "end_time": "2025-07-28T10:37:29.271828",
     "exception": false,
     "start_time": "2025-07-28T10:37:29.218769",
     "status": "completed"
    },
    "tags": []
   },
   "outputs": [],
   "source": [
    "# Conditional Coverage & looking at subgroups"
   ]
  },
  {
   "cell_type": "code",
   "execution_count": 56,
   "id": "027ae886-68dd-4141-96c7-805a5450e1ef",
   "metadata": {
    "execution": {
     "iopub.execute_input": "2025-07-28T10:37:29.344613Z",
     "iopub.status.busy": "2025-07-28T10:37:29.344145Z",
     "iopub.status.idle": "2025-07-28T10:37:29.647515Z",
     "shell.execute_reply": "2025-07-28T10:37:29.646378Z"
    },
    "papermill": {
     "duration": 0.344706,
     "end_time": "2025-07-28T10:37:29.650311",
     "exception": false,
     "start_time": "2025-07-28T10:37:29.305605",
     "status": "completed"
    },
    "tags": []
   },
   "outputs": [],
   "source": [
    "from fairness_multiverse.conformal import build_cp_groups\n",
    "\n",
    "cp_groups_df = build_cp_groups(pred_sets, y_true, X_test.index, org_test)\n",
    "#needs universe_id and setting"
   ]
  },
  {
   "cell_type": "code",
   "execution_count": 57,
   "id": "01d5802c-663a-4d1f-9d69-e036faaffbf7",
   "metadata": {
    "execution": {
     "iopub.execute_input": "2025-07-28T10:37:29.772894Z",
     "iopub.status.busy": "2025-07-28T10:37:29.772180Z",
     "iopub.status.idle": "2025-07-28T10:37:29.778300Z",
     "shell.execute_reply": "2025-07-28T10:37:29.777108Z"
    },
    "papermill": {
     "duration": 0.077473,
     "end_time": "2025-07-28T10:37:29.794187",
     "exception": false,
     "start_time": "2025-07-28T10:37:29.716714",
     "status": "completed"
    },
    "tags": []
   },
   "outputs": [],
   "source": [
    "#delete\n",
    "#cp_groups_df"
   ]
  },
  {
   "cell_type": "code",
   "execution_count": 58,
   "id": "fa424af1-d1eb-443d-b717-2d279ada8408",
   "metadata": {
    "execution": {
     "iopub.execute_input": "2025-07-28T10:37:29.854252Z",
     "iopub.status.busy": "2025-07-28T10:37:29.853678Z",
     "iopub.status.idle": "2025-07-28T10:37:29.859878Z",
     "shell.execute_reply": "2025-07-28T10:37:29.858570Z"
    },
    "papermill": {
     "duration": 0.034946,
     "end_time": "2025-07-28T10:37:29.864218",
     "exception": false,
     "start_time": "2025-07-28T10:37:29.829272",
     "status": "completed"
    },
    "tags": []
   },
   "outputs": [],
   "source": [
    "#delete\n",
    "#percentage = (cp_groups_df['nongerman_female'] == 1).mean() * 100\n",
    "#print(percentage)\n"
   ]
  },
  {
   "cell_type": "code",
   "execution_count": 59,
   "id": "6cbdab96-b2b2-45af-ad54-d0516db2e28d",
   "metadata": {
    "execution": {
     "iopub.execute_input": "2025-07-28T10:37:29.947779Z",
     "iopub.status.busy": "2025-07-28T10:37:29.947393Z",
     "iopub.status.idle": "2025-07-28T10:37:31.791762Z",
     "shell.execute_reply": "2025-07-28T10:37:31.788152Z"
    },
    "papermill": {
     "duration": 1.8955,
     "end_time": "2025-07-28T10:37:31.793879",
     "exception": false,
     "start_time": "2025-07-28T10:37:29.898379",
     "status": "completed"
    },
    "tags": []
   },
   "outputs": [],
   "source": [
    "# Define covered = 1 if true_label is in the predicted set\n",
    "cp_groups_df['covered'] = cp_groups_df.apply(\n",
    "    lambda r: int(r['true_label'] in r['pred_set']),\n",
    "    axis=1\n",
    ")"
   ]
  },
  {
   "cell_type": "code",
   "execution_count": 60,
   "id": "338ff529-1a6b-4b87-a931-8e4788d52aad",
   "metadata": {
    "execution": {
     "iopub.execute_input": "2025-07-28T10:37:31.881625Z",
     "iopub.status.busy": "2025-07-28T10:37:31.881206Z",
     "iopub.status.idle": "2025-07-28T10:37:31.886764Z",
     "shell.execute_reply": "2025-07-28T10:37:31.885671Z"
    },
    "papermill": {
     "duration": 0.03671,
     "end_time": "2025-07-28T10:37:31.889316",
     "exception": false,
     "start_time": "2025-07-28T10:37:31.852606",
     "status": "completed"
    },
    "tags": []
   },
   "outputs": [],
   "source": [
    "#cp_groups_df"
   ]
  },
  {
   "cell_type": "code",
   "execution_count": 61,
   "id": "90032e27-66df-4540-9169-4e89cfbaa758",
   "metadata": {
    "execution": {
     "iopub.execute_input": "2025-07-28T10:37:31.968808Z",
     "iopub.status.busy": "2025-07-28T10:37:31.968375Z",
     "iopub.status.idle": "2025-07-28T10:37:31.994562Z",
     "shell.execute_reply": "2025-07-28T10:37:31.993230Z"
    },
    "papermill": {
     "duration": 0.068626,
     "end_time": "2025-07-28T10:37:31.996797",
     "exception": false,
     "start_time": "2025-07-28T10:37:31.928171",
     "status": "completed"
    },
    "tags": []
   },
   "outputs": [],
   "source": [
    "subgroups = ['frau1','nongerman','nongerman_male','nongerman_female']\n",
    "\n",
    "# Conditional coverage for subgroup==1\n",
    "cond_coverage = {\n",
    "    g: cp_groups_df.loc[cp_groups_df[g]==1, 'covered'].mean()\n",
    "    for g in subgroups\n",
    "}"
   ]
  },
  {
   "cell_type": "code",
   "execution_count": 62,
   "id": "1e348fb1-b9c3-45bc-ba23-f016827a7e0d",
   "metadata": {
    "execution": {
     "iopub.execute_input": "2025-07-28T10:37:32.077515Z",
     "iopub.status.busy": "2025-07-28T10:37:32.077109Z",
     "iopub.status.idle": "2025-07-28T10:37:32.085271Z",
     "shell.execute_reply": "2025-07-28T10:37:32.084262Z"
    },
    "papermill": {
     "duration": 0.039465,
     "end_time": "2025-07-28T10:37:32.089810",
     "exception": false,
     "start_time": "2025-07-28T10:37:32.050345",
     "status": "completed"
    },
    "tags": []
   },
   "outputs": [
    {
     "data": {
      "text/plain": [
       "{'frau1': 0.9116322954576088,\n",
       " 'nongerman': 0.9029360579352158,\n",
       " 'nongerman_male': 0.9165090516076736,\n",
       " 'nongerman_female': 0.8804769001490313}"
      ]
     },
     "execution_count": 62,
     "metadata": {},
     "output_type": "execute_result"
    }
   ],
   "source": [
    "cond_coverage"
   ]
  },
  {
   "cell_type": "code",
   "execution_count": 63,
   "id": "f5093324-c3dd-4d63-bc4c-8d945e5c8bbb",
   "metadata": {
    "execution": {
     "iopub.execute_input": "2025-07-28T10:37:32.176953Z",
     "iopub.status.busy": "2025-07-28T10:37:32.176471Z",
     "iopub.status.idle": "2025-07-28T10:37:32.192546Z",
     "shell.execute_reply": "2025-07-28T10:37:32.189029Z"
    },
    "papermill": {
     "duration": 0.076828,
     "end_time": "2025-07-28T10:37:32.195390",
     "exception": false,
     "start_time": "2025-07-28T10:37:32.118562",
     "status": "completed"
    },
    "tags": []
   },
   "outputs": [],
   "source": [
    "for subgroup, cov in cond_coverage.items():\n",
    "    cp_metrics_df[f\"cov_{subgroup}\"] = cov"
   ]
  },
  {
   "cell_type": "code",
   "execution_count": 64,
   "id": "6e872e10-dbe5-49e8-b554-5030c98ff75d",
   "metadata": {
    "execution": {
     "iopub.execute_input": "2025-07-28T10:37:32.270636Z",
     "iopub.status.busy": "2025-07-28T10:37:32.270215Z",
     "iopub.status.idle": "2025-07-28T10:37:32.294318Z",
     "shell.execute_reply": "2025-07-28T10:37:32.293316Z"
    },
    "papermill": {
     "duration": 0.057221,
     "end_time": "2025-07-28T10:37:32.296311",
     "exception": false,
     "start_time": "2025-07-28T10:37:32.239090",
     "status": "completed"
    },
    "tags": []
   },
   "outputs": [
    {
     "data": {
      "text/html": [
       "<div>\n",
       "<style scoped>\n",
       "    .dataframe tbody tr th:only-of-type {\n",
       "        vertical-align: middle;\n",
       "    }\n",
       "\n",
       "    .dataframe tbody tr th {\n",
       "        vertical-align: top;\n",
       "    }\n",
       "\n",
       "    .dataframe thead th {\n",
       "        text-align: right;\n",
       "    }\n",
       "</style>\n",
       "<table border=\"1\" class=\"dataframe\">\n",
       "  <thead>\n",
       "    <tr style=\"text-align: right;\">\n",
       "      <th></th>\n",
       "      <th>universe_id</th>\n",
       "      <th>universe_training_size</th>\n",
       "      <th>universe_scale</th>\n",
       "      <th>universe_model</th>\n",
       "      <th>universe_exclude_features</th>\n",
       "      <th>universe_exclude_subgroups</th>\n",
       "      <th>q_hat</th>\n",
       "      <th>coverage</th>\n",
       "      <th>avg_size</th>\n",
       "      <th>cov_frau1</th>\n",
       "      <th>cov_nongerman</th>\n",
       "      <th>cov_nongerman_male</th>\n",
       "      <th>cov_nongerman_female</th>\n",
       "    </tr>\n",
       "  </thead>\n",
       "  <tbody>\n",
       "    <tr>\n",
       "      <th>0</th>\n",
       "      <td>470ee800be4a3c6339fdb6d2df88c6a0</td>\n",
       "      <td>5k</td>\n",
       "      <td>do-not-scale</td>\n",
       "      <td>rf</td>\n",
       "      <td>nationality</td>\n",
       "      <td>drop-non-german</td>\n",
       "      <td>0.67</td>\n",
       "      <td>0.913298</td>\n",
       "      <td>1.155167</td>\n",
       "      <td>0.911632</td>\n",
       "      <td>0.902936</td>\n",
       "      <td>0.916509</td>\n",
       "      <td>0.880477</td>\n",
       "    </tr>\n",
       "  </tbody>\n",
       "</table>\n",
       "</div>"
      ],
      "text/plain": [
       "                        universe_id universe_training_size universe_scale  \\\n",
       "0  470ee800be4a3c6339fdb6d2df88c6a0                     5k   do-not-scale   \n",
       "\n",
       "  universe_model universe_exclude_features universe_exclude_subgroups  q_hat  \\\n",
       "0             rf               nationality            drop-non-german   0.67   \n",
       "\n",
       "   coverage  avg_size  cov_frau1  cov_nongerman  cov_nongerman_male  \\\n",
       "0  0.913298  1.155167   0.911632       0.902936            0.916509   \n",
       "\n",
       "   cov_nongerman_female  \n",
       "0              0.880477  "
      ]
     },
     "execution_count": 64,
     "metadata": {},
     "output_type": "execute_result"
    }
   ],
   "source": [
    "cp_metrics_df"
   ]
  },
  {
   "cell_type": "markdown",
   "id": "33774451",
   "metadata": {
    "papermill": {
     "duration": 0.026909,
     "end_time": "2025-07-28T10:37:32.352233",
     "exception": false,
     "start_time": "2025-07-28T10:37:32.325324",
     "status": "completed"
    },
    "tags": []
   },
   "source": [
    "# (Fairness) Metrics"
   ]
  },
  {
   "cell_type": "code",
   "execution_count": 65,
   "id": "debc5d62",
   "metadata": {
    "execution": {
     "iopub.execute_input": "2025-07-28T10:37:32.416815Z",
     "iopub.status.busy": "2025-07-28T10:37:32.415619Z",
     "iopub.status.idle": "2025-07-28T10:37:32.441329Z",
     "shell.execute_reply": "2025-07-28T10:37:32.440095Z"
    },
    "papermill": {
     "duration": 0.065518,
     "end_time": "2025-07-28T10:37:32.443102",
     "exception": false,
     "start_time": "2025-07-28T10:37:32.377584",
     "status": "completed"
    },
    "tags": []
   },
   "outputs": [],
   "source": [
    "# do I need to include maxdeutsch1.missing?\n",
    "\n",
    "import numpy as np\n",
    "\n",
    "colname_to_bin = \"maxdeutsch1\"\n",
    "majority_value = org_train[colname_to_bin].mode()[0]\n",
    "\n",
    "org_test[\"majmin\"] = np.where(org_test[colname_to_bin] == majority_value, \"majority\", \"minority\")"
   ]
  },
  {
   "cell_type": "code",
   "execution_count": 66,
   "id": "06a50de5",
   "metadata": {
    "execution": {
     "iopub.execute_input": "2025-07-28T10:37:32.500070Z",
     "iopub.status.busy": "2025-07-28T10:37:32.499484Z",
     "iopub.status.idle": "2025-07-28T10:37:35.685249Z",
     "shell.execute_reply": "2025-07-28T10:37:35.683782Z"
    },
    "papermill": {
     "duration": 3.217109,
     "end_time": "2025-07-28T10:37:35.688002",
     "exception": false,
     "start_time": "2025-07-28T10:37:32.470893",
     "status": "completed"
    },
    "tags": []
   },
   "outputs": [],
   "source": [
    "example_universe = universe.copy()\n",
    "example_universe[\"cutoff\"] = example_universe[\"cutoff\"][0]\n",
    "example_universe[\"eval_fairness_grouping\"] = example_universe[\"eval_fairness_grouping\"][0]\n",
    "fairness_dict, metric_frame = universe_analysis.compute_metrics(\n",
    "    example_universe,\n",
    "    y_pred_prob=probs_test,\n",
    "    y_test=y_true,\n",
    "    org_test=org_test,\n",
    ")"
   ]
  },
  {
   "cell_type": "markdown",
   "id": "f95d4e02",
   "metadata": {
    "papermill": {
     "duration": 0.026401,
     "end_time": "2025-07-28T10:37:35.750569",
     "exception": false,
     "start_time": "2025-07-28T10:37:35.724168",
     "status": "completed"
    },
    "tags": []
   },
   "source": [
    "# Overall"
   ]
  },
  {
   "cell_type": "markdown",
   "id": "bdee4871",
   "metadata": {
    "papermill": {
     "duration": 0.035739,
     "end_time": "2025-07-28T10:37:35.831102",
     "exception": false,
     "start_time": "2025-07-28T10:37:35.795363",
     "status": "completed"
    },
    "tags": []
   },
   "source": [
    "Fairness\n",
    "Main fairness target: Equalized Odds. Seems to be a better fit than equal opportunity, since we're not only interested in Y = 1. Seems to be a better fit than demographic parity, since we also care about accuracy, not just equal distribution of preds.\n",
    "\n",
    "Pick column for computation of fairness metrics\n",
    "\n",
    "Performance\n",
    "Overall performance measures, most interesting in relation to the measures split by group below"
   ]
  },
  {
   "cell_type": "code",
   "execution_count": 67,
   "id": "c4e067c6",
   "metadata": {
    "execution": {
     "iopub.execute_input": "2025-07-28T10:37:35.942344Z",
     "iopub.status.busy": "2025-07-28T10:37:35.941928Z",
     "iopub.status.idle": "2025-07-28T10:37:35.951044Z",
     "shell.execute_reply": "2025-07-28T10:37:35.950024Z"
    },
    "papermill": {
     "duration": 0.092854,
     "end_time": "2025-07-28T10:37:35.953214",
     "exception": false,
     "start_time": "2025-07-28T10:37:35.860360",
     "status": "completed"
    },
    "tags": []
   },
   "outputs": [
    {
     "data": {
      "text/plain": [
       "accuracy                   0.194850\n",
       "balanced accuracy          0.531587\n",
       "f1                         0.238803\n",
       "precision                  0.135881\n",
       "false positive rate        0.921358\n",
       "false negative rate        0.015468\n",
       "selection rate             0.929462\n",
       "count                  89710.000000\n",
       "dtype: float64"
      ]
     },
     "execution_count": 67,
     "metadata": {},
     "output_type": "execute_result"
    }
   ],
   "source": [
    "metric_frame.overall"
   ]
  },
  {
   "cell_type": "markdown",
   "id": "e968fe9d",
   "metadata": {
    "papermill": {
     "duration": 0.053212,
     "end_time": "2025-07-28T10:37:36.060816",
     "exception": false,
     "start_time": "2025-07-28T10:37:36.007604",
     "status": "completed"
    },
    "tags": []
   },
   "source": [
    "By Group"
   ]
  },
  {
   "cell_type": "code",
   "execution_count": 68,
   "id": "ec325bce",
   "metadata": {
    "execution": {
     "iopub.execute_input": "2025-07-28T10:37:36.178012Z",
     "iopub.status.busy": "2025-07-28T10:37:36.177554Z",
     "iopub.status.idle": "2025-07-28T10:37:36.208216Z",
     "shell.execute_reply": "2025-07-28T10:37:36.207102Z"
    },
    "papermill": {
     "duration": 0.103214,
     "end_time": "2025-07-28T10:37:36.210077",
     "exception": false,
     "start_time": "2025-07-28T10:37:36.106863",
     "status": "completed"
    },
    "tags": []
   },
   "outputs": [
    {
     "data": {
      "text/html": [
       "<div>\n",
       "<style scoped>\n",
       "    .dataframe tbody tr th:only-of-type {\n",
       "        vertical-align: middle;\n",
       "    }\n",
       "\n",
       "    .dataframe tbody tr th {\n",
       "        vertical-align: top;\n",
       "    }\n",
       "\n",
       "    .dataframe thead th {\n",
       "        text-align: right;\n",
       "    }\n",
       "</style>\n",
       "<table border=\"1\" class=\"dataframe\">\n",
       "  <thead>\n",
       "    <tr style=\"text-align: right;\">\n",
       "      <th></th>\n",
       "      <th>accuracy</th>\n",
       "      <th>balanced accuracy</th>\n",
       "      <th>f1</th>\n",
       "      <th>precision</th>\n",
       "      <th>false positive rate</th>\n",
       "      <th>false negative rate</th>\n",
       "      <th>selection rate</th>\n",
       "      <th>count</th>\n",
       "    </tr>\n",
       "    <tr>\n",
       "      <th>majmin</th>\n",
       "      <th></th>\n",
       "      <th></th>\n",
       "      <th></th>\n",
       "      <th></th>\n",
       "      <th></th>\n",
       "      <th></th>\n",
       "      <th></th>\n",
       "      <th></th>\n",
       "    </tr>\n",
       "  </thead>\n",
       "  <tbody>\n",
       "    <tr>\n",
       "      <th>majority</th>\n",
       "      <td>0.198482</td>\n",
       "      <td>0.534420</td>\n",
       "      <td>0.246285</td>\n",
       "      <td>0.140615</td>\n",
       "      <td>0.922189</td>\n",
       "      <td>0.008972</td>\n",
       "      <td>0.931285</td>\n",
       "      <td>69170.0</td>\n",
       "    </tr>\n",
       "    <tr>\n",
       "      <th>minority</th>\n",
       "      <td>0.182619</td>\n",
       "      <td>0.520424</td>\n",
       "      <td>0.213003</td>\n",
       "      <td>0.119800</td>\n",
       "      <td>0.918611</td>\n",
       "      <td>0.040541</td>\n",
       "      <td>0.923320</td>\n",
       "      <td>20540.0</td>\n",
       "    </tr>\n",
       "  </tbody>\n",
       "</table>\n",
       "</div>"
      ],
      "text/plain": [
       "          accuracy  balanced accuracy        f1  precision  \\\n",
       "majmin                                                       \n",
       "majority  0.198482           0.534420  0.246285   0.140615   \n",
       "minority  0.182619           0.520424  0.213003   0.119800   \n",
       "\n",
       "          false positive rate  false negative rate  selection rate    count  \n",
       "majmin                                                                       \n",
       "majority             0.922189             0.008972        0.931285  69170.0  \n",
       "minority             0.918611             0.040541        0.923320  20540.0  "
      ]
     },
     "execution_count": 68,
     "metadata": {},
     "output_type": "execute_result"
    }
   ],
   "source": [
    "metric_frame.by_group"
   ]
  },
  {
   "cell_type": "code",
   "execution_count": 69,
   "id": "a9ddbe63",
   "metadata": {
    "execution": {
     "iopub.execute_input": "2025-07-28T10:37:36.338782Z",
     "iopub.status.busy": "2025-07-28T10:37:36.338352Z",
     "iopub.status.idle": "2025-07-28T10:37:39.582071Z",
     "shell.execute_reply": "2025-07-28T10:37:39.580913Z"
    },
    "papermill": {
     "duration": 3.322352,
     "end_time": "2025-07-28T10:37:39.583869",
     "exception": false,
     "start_time": "2025-07-28T10:37:36.261517",
     "status": "completed"
    },
    "tags": []
   },
   "outputs": [
    {
     "data": {
      "text/plain": [
       "array([[<Axes: title={'center': 'accuracy'}, xlabel='majmin'>,\n",
       "        <Axes: title={'center': 'balanced accuracy'}, xlabel='majmin'>,\n",
       "        <Axes: title={'center': 'f1'}, xlabel='majmin'>],\n",
       "       [<Axes: title={'center': 'precision'}, xlabel='majmin'>,\n",
       "        <Axes: title={'center': 'false positive rate'}, xlabel='majmin'>,\n",
       "        <Axes: title={'center': 'false negative rate'}, xlabel='majmin'>],\n",
       "       [<Axes: title={'center': 'selection rate'}, xlabel='majmin'>,\n",
       "        <Axes: title={'center': 'count'}, xlabel='majmin'>,\n",
       "        <Axes: xlabel='majmin'>]], dtype=object)"
      ]
     },
     "execution_count": 69,
     "metadata": {},
     "output_type": "execute_result"
    },
    {
     "data": {
      "image/png": "[encoded data removed]",
      "text/plain": [
       "<Figure size 1200x800 with 9 Axes>"
      ]
     },
     "metadata": {},
     "output_type": "display_data"
    }
   ],
   "source": [
    "# In a graphic\n",
    "metric_frame.by_group.plot.bar(\n",
    "    subplots=True,\n",
    "    layout=[3, 3],\n",
    "    legend=False,\n",
    "    figsize=[12, 8],\n",
    "    title=\"Show all metrics\",\n",
    ")"
   ]
  },
  {
   "cell_type": "markdown",
   "id": "f57a0bac",
   "metadata": {
    "papermill": {
     "duration": 0.029794,
     "end_time": "2025-07-28T10:37:39.647338",
     "exception": false,
     "start_time": "2025-07-28T10:37:39.617544",
     "status": "completed"
    },
    "tags": []
   },
   "source": [
    "# Final Output"
   ]
  },
  {
   "cell_type": "code",
   "execution_count": 70,
   "id": "96d280a3",
   "metadata": {
    "execution": {
     "iopub.execute_input": "2025-07-28T10:37:39.709352Z",
     "iopub.status.busy": "2025-07-28T10:37:39.708700Z",
     "iopub.status.idle": "2025-07-28T10:37:39.717323Z",
     "shell.execute_reply": "2025-07-28T10:37:39.716399Z"
    },
    "papermill": {
     "duration": 0.041372,
     "end_time": "2025-07-28T10:37:39.718897",
     "exception": false,
     "start_time": "2025-07-28T10:37:39.677525",
     "status": "completed"
    },
    "tags": []
   },
   "outputs": [
    {
     "data": {
      "text/plain": [
       "4"
      ]
     },
     "execution_count": 70,
     "metadata": {},
     "output_type": "execute_result"
    }
   ],
   "source": [
    "sub_universes = universe_analysis.generate_sub_universes()\n",
    "len(sub_universes)"
   ]
  },
  {
   "cell_type": "code",
   "execution_count": 71,
   "id": "92adf7ba",
   "metadata": {
    "execution": {
     "iopub.execute_input": "2025-07-28T10:37:39.782110Z",
     "iopub.status.busy": "2025-07-28T10:37:39.781391Z",
     "iopub.status.idle": "2025-07-28T10:37:39.788148Z",
     "shell.execute_reply": "2025-07-28T10:37:39.787136Z"
    },
    "papermill": {
     "duration": 0.040358,
     "end_time": "2025-07-28T10:37:39.789824",
     "exception": false,
     "start_time": "2025-07-28T10:37:39.749466",
     "status": "completed"
    },
    "tags": []
   },
   "outputs": [],
   "source": [
    "def filter_sub_universe_data(sub_universe, org_test):\n",
    "    # Keep all rows — no filtering\n",
    "    keep_rows_mask = np.ones(org_test.shape[0], dtype=bool)\n",
    "\n",
    "    print(f\"[INFO] Keeping all rows: {keep_rows_mask.sum()} rows retained.\")\n",
    "    return keep_rows_mask"
   ]
  },
  {
   "cell_type": "code",
   "execution_count": 72,
   "id": "4a759155",
   "metadata": {
    "execution": {
     "iopub.execute_input": "2025-07-28T10:37:39.852186Z",
     "iopub.status.busy": "2025-07-28T10:37:39.851484Z",
     "iopub.status.idle": "2025-07-28T10:37:51.775447Z",
     "shell.execute_reply": "2025-07-28T10:37:51.774332Z"
    },
    "papermill": {
     "duration": 11.957093,
     "end_time": "2025-07-28T10:37:51.777395",
     "exception": false,
     "start_time": "2025-07-28T10:37:39.820302",
     "status": "completed"
    },
    "tags": []
   },
   "outputs": [
    {
     "name": "stdout",
     "output_type": "stream",
     "text": [
      "Stopping execution_time clock.\n",
      "[INFO] Keeping all rows: 89710 rows retained.\n"
     ]
    },
    {
     "name": "stdout",
     "output_type": "stream",
     "text": [
      "[INFO] Keeping all rows: 89710 rows retained.\n"
     ]
    },
    {
     "name": "stdout",
     "output_type": "stream",
     "text": [
      "[INFO] Keeping all rows: 89710 rows retained.\n"
     ]
    },
    {
     "name": "stdout",
     "output_type": "stream",
     "text": [
      "[INFO] Keeping all rows: 89710 rows retained.\n"
     ]
    },
    {
     "data": {
      "text/html": [
       "<div>\n",
       "<style scoped>\n",
       "    .dataframe tbody tr th:only-of-type {\n",
       "        vertical-align: middle;\n",
       "    }\n",
       "\n",
       "    .dataframe tbody tr th {\n",
       "        vertical-align: top;\n",
       "    }\n",
       "\n",
       "    .dataframe thead th {\n",
       "        text-align: right;\n",
       "    }\n",
       "</style>\n",
       "<table border=\"1\" class=\"dataframe\">\n",
       "  <thead>\n",
       "    <tr style=\"text-align: right;\">\n",
       "      <th></th>\n",
       "      <th>run_no</th>\n",
       "      <th>universe_id</th>\n",
       "      <th>universe_settings</th>\n",
       "      <th>execution_time</th>\n",
       "      <th>test_size_n</th>\n",
       "      <th>test_size_frac</th>\n",
       "      <th>fair_main_equalized_odds_difference</th>\n",
       "      <th>fair_main_equalized_odds_ratio</th>\n",
       "      <th>fair_main_demographic_parity_difference</th>\n",
       "      <th>fair_main_demographic_parity_ratio</th>\n",
       "      <th>...</th>\n",
       "      <th>perf_grp_precision_0</th>\n",
       "      <th>perf_grp_precision_1</th>\n",
       "      <th>perf_grp_false positive rate_0</th>\n",
       "      <th>perf_grp_false positive rate_1</th>\n",
       "      <th>perf_grp_false negative rate_0</th>\n",
       "      <th>perf_grp_false negative rate_1</th>\n",
       "      <th>perf_grp_selection rate_0</th>\n",
       "      <th>perf_grp_selection rate_1</th>\n",
       "      <th>perf_grp_count_0</th>\n",
       "      <th>perf_grp_count_1</th>\n",
       "    </tr>\n",
       "  </thead>\n",
       "  <tbody>\n",
       "    <tr>\n",
       "      <th>0</th>\n",
       "      <td>11</td>\n",
       "      <td>470ee800be4a3c6339fdb6d2df88c6a0</td>\n",
       "      <td>{\"cutoff\": \"quantile_0.1\", \"eval_fairness_grou...</td>\n",
       "      <td>34.976145</td>\n",
       "      <td>89710</td>\n",
       "      <td>1.0</td>\n",
       "      <td>0.031569</td>\n",
       "      <td>0.968145</td>\n",
       "      <td>0.007965</td>\n",
       "      <td>0.991447</td>\n",
       "      <td>...</td>\n",
       "      <td>NaN</td>\n",
       "      <td>NaN</td>\n",
       "      <td>NaN</td>\n",
       "      <td>NaN</td>\n",
       "      <td>NaN</td>\n",
       "      <td>NaN</td>\n",
       "      <td>NaN</td>\n",
       "      <td>NaN</td>\n",
       "      <td>NaN</td>\n",
       "      <td>NaN</td>\n",
       "    </tr>\n",
       "    <tr>\n",
       "      <th>0</th>\n",
       "      <td>11</td>\n",
       "      <td>470ee800be4a3c6339fdb6d2df88c6a0</td>\n",
       "      <td>{\"cutoff\": \"quantile_0.1\", \"eval_fairness_grou...</td>\n",
       "      <td>34.976145</td>\n",
       "      <td>89710</td>\n",
       "      <td>1.0</td>\n",
       "      <td>0.031569</td>\n",
       "      <td>0.968145</td>\n",
       "      <td>0.007965</td>\n",
       "      <td>0.991447</td>\n",
       "      <td>...</td>\n",
       "      <td>0.119800</td>\n",
       "      <td>0.140615</td>\n",
       "      <td>0.918611</td>\n",
       "      <td>0.922189</td>\n",
       "      <td>0.040541</td>\n",
       "      <td>0.008972</td>\n",
       "      <td>0.923320</td>\n",
       "      <td>0.931285</td>\n",
       "      <td>20540.0</td>\n",
       "      <td>69170.0</td>\n",
       "    </tr>\n",
       "    <tr>\n",
       "      <th>0</th>\n",
       "      <td>11</td>\n",
       "      <td>470ee800be4a3c6339fdb6d2df88c6a0</td>\n",
       "      <td>{\"cutoff\": \"quantile_0.25\", \"eval_fairness_gro...</td>\n",
       "      <td>34.976145</td>\n",
       "      <td>89710</td>\n",
       "      <td>1.0</td>\n",
       "      <td>0.090909</td>\n",
       "      <td>0.903908</td>\n",
       "      <td>0.004585</td>\n",
       "      <td>0.993905</td>\n",
       "      <td>...</td>\n",
       "      <td>NaN</td>\n",
       "      <td>NaN</td>\n",
       "      <td>NaN</td>\n",
       "      <td>NaN</td>\n",
       "      <td>NaN</td>\n",
       "      <td>NaN</td>\n",
       "      <td>NaN</td>\n",
       "      <td>NaN</td>\n",
       "      <td>NaN</td>\n",
       "      <td>NaN</td>\n",
       "    </tr>\n",
       "    <tr>\n",
       "      <th>0</th>\n",
       "      <td>11</td>\n",
       "      <td>470ee800be4a3c6339fdb6d2df88c6a0</td>\n",
       "      <td>{\"cutoff\": \"quantile_0.25\", \"eval_fairness_gro...</td>\n",
       "      <td>34.976145</td>\n",
       "      <td>89710</td>\n",
       "      <td>1.0</td>\n",
       "      <td>0.090909</td>\n",
       "      <td>0.903908</td>\n",
       "      <td>0.004585</td>\n",
       "      <td>0.993905</td>\n",
       "      <td>...</td>\n",
       "      <td>0.131862</td>\n",
       "      <td>0.166183</td>\n",
       "      <td>0.733656</td>\n",
       "      <td>0.722739</td>\n",
       "      <td>0.144848</td>\n",
       "      <td>0.053939</td>\n",
       "      <td>0.747663</td>\n",
       "      <td>0.752248</td>\n",
       "      <td>20540.0</td>\n",
       "      <td>69170.0</td>\n",
       "    </tr>\n",
       "  </tbody>\n",
       "</table>\n",
       "<p>4 rows × 50 columns</p>\n",
       "</div>"
      ],
      "text/plain": [
       "  run_no                       universe_id  \\\n",
       "0     11  470ee800be4a3c6339fdb6d2df88c6a0   \n",
       "0     11  470ee800be4a3c6339fdb6d2df88c6a0   \n",
       "0     11  470ee800be4a3c6339fdb6d2df88c6a0   \n",
       "0     11  470ee800be4a3c6339fdb6d2df88c6a0   \n",
       "\n",
       "                                   universe_settings  execution_time  \\\n",
       "0  {\"cutoff\": \"quantile_0.1\", \"eval_fairness_grou...       34.976145   \n",
       "0  {\"cutoff\": \"quantile_0.1\", \"eval_fairness_grou...       34.976145   \n",
       "0  {\"cutoff\": \"quantile_0.25\", \"eval_fairness_gro...       34.976145   \n",
       "0  {\"cutoff\": \"quantile_0.25\", \"eval_fairness_gro...       34.976145   \n",
       "\n",
       "   test_size_n  test_size_frac  fair_main_equalized_odds_difference  \\\n",
       "0        89710             1.0                             0.031569   \n",
       "0        89710             1.0                             0.031569   \n",
       "0        89710             1.0                             0.090909   \n",
       "0        89710             1.0                             0.090909   \n",
       "\n",
       "   fair_main_equalized_odds_ratio  fair_main_demographic_parity_difference  \\\n",
       "0                        0.968145                                 0.007965   \n",
       "0                        0.968145                                 0.007965   \n",
       "0                        0.903908                                 0.004585   \n",
       "0                        0.903908                                 0.004585   \n",
       "\n",
       "   fair_main_demographic_parity_ratio  ...  perf_grp_precision_0  \\\n",
       "0                            0.991447  ...                   NaN   \n",
       "0                            0.991447  ...              0.119800   \n",
       "0                            0.993905  ...                   NaN   \n",
       "0                            0.993905  ...              0.131862   \n",
       "\n",
       "   perf_grp_precision_1  perf_grp_false positive rate_0  \\\n",
       "0                   NaN                             NaN   \n",
       "0              0.140615                        0.918611   \n",
       "0                   NaN                             NaN   \n",
       "0              0.166183                        0.733656   \n",
       "\n",
       "   perf_grp_false positive rate_1  perf_grp_false negative rate_0  \\\n",
       "0                             NaN                             NaN   \n",
       "0                        0.922189                        0.040541   \n",
       "0                             NaN                             NaN   \n",
       "0                        0.722739                        0.144848   \n",
       "\n",
       "   perf_grp_false negative rate_1  perf_grp_selection rate_0  \\\n",
       "0                             NaN                        NaN   \n",
       "0                        0.008972                   0.923320   \n",
       "0                             NaN                        NaN   \n",
       "0                        0.053939                   0.747663   \n",
       "\n",
       "   perf_grp_selection rate_1  perf_grp_count_0  perf_grp_count_1  \n",
       "0                        NaN               NaN               NaN  \n",
       "0                   0.931285           20540.0           69170.0  \n",
       "0                        NaN               NaN               NaN  \n",
       "0                   0.752248           20540.0           69170.0  \n",
       "\n",
       "[4 rows x 50 columns]"
      ]
     },
     "execution_count": 72,
     "metadata": {},
     "output_type": "execute_result"
    }
   ],
   "source": [
    "final_output = universe_analysis.generate_final_output(\n",
    "    y_pred_prob=probs_test,\n",
    "    y_test=y_true,\n",
    "    org_test=org_test,\n",
    "    filter_data=filter_sub_universe_data,\n",
    "    cp_metrics_df=cp_metrics_df,\n",
    "    save=True,\n",
    ")\n",
    "final_output"
   ]
  },
  {
   "cell_type": "code",
   "execution_count": null,
   "id": "721ff514-cb11-46f8-b6fc-50392f74b5cb",
   "metadata": {
    "papermill": {
     "duration": 0.033615,
     "end_time": "2025-07-28T10:37:51.847100",
     "exception": false,
     "start_time": "2025-07-28T10:37:51.813485",
     "status": "completed"
    },
    "tags": []
   },
   "outputs": [],
   "source": []
  }
 ],
 "metadata": {
  "celltoolbar": "Tags",
  "kernelspec": {
   "display_name": "Python (CMA Fairness)",
   "language": "python",
   "name": "cma_fair_env"
  },
  "language_info": {
   "codemirror_mode": {
    "name": "ipython",
    "version": 3
   },
   "file_extension": ".py",
   "mimetype": "text/x-python",
   "name": "python",
   "nbconvert_exporter": "python",
   "pygments_lexer": "ipython3",
   "version": "3.10.12"
  },
  "papermill": {
   "default_parameters": {},
   "duration": 51.383652,
   "end_time": "2025-07-28T10:37:52.598496",
   "environment_variables": {},
   "exception": null,
   "input_path": "universe_analysis.ipynb",
   "output_path": "output/runs/11/notebooks/m_11-470ee800be4a3c6339fdb6d2df88c6a0.ipynb",
   "parameters": {
    "output_dir": "output",
    "run_no": "11",
    "seed": "2023",
    "universe": "{\"cutoff\": [\"quantile_0.1\", \"quantile_0.25\"], \"eval_fairness_grouping\": [\"majority-minority\", \"nationality-all\"], \"exclude_features\": \"nationality\", \"exclude_subgroups\": \"drop-non-german\", \"model\": \"rf\", \"scale\": \"do-not-scale\", \"training_size\": \"5k\"}",
    "universe_id": "470ee800be4a3c6339fdb6d2df88c6a0"
   },
   "start_time": "2025-07-28T10:37:01.214844",
   "version": "2.6.0"
  }
 },
 "nbformat": 4,
 "nbformat_minor": 5
}