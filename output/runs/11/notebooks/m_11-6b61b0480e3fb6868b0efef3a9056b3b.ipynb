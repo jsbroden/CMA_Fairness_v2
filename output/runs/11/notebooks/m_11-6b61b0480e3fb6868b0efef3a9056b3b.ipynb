{
 "cells": [
  {
   "cell_type": "code",
   "execution_count": 1,
   "id": "f159f837-637b-42ba-96b5-ec9a68c44524",
   "metadata": {
    "execution": {
     "iopub.execute_input": "2025-07-28T11:05:44.129041Z",
     "iopub.status.busy": "2025-07-28T11:05:44.128572Z",
     "iopub.status.idle": "2025-07-28T11:05:44.146367Z",
     "shell.execute_reply": "2025-07-28T11:05:44.145350Z"
    },
    "papermill": {
     "duration": 0.056093,
     "end_time": "2025-07-28T11:05:44.148355",
     "exception": false,
     "start_time": "2025-07-28T11:05:44.092262",
     "status": "completed"
    },
    "tags": []
   },
   "outputs": [
    {
     "name": "stdout",
     "output_type": "stream",
     "text": [
      "/dss/dsshome1/0C/ra93lal2/cma/CMA_Fairness_v2\n"
     ]
    },
    {
     "name": "stderr",
     "output_type": "stream",
     "text": [
      "/dss/dsshome1/0C/ra93lal2/.local/share/virtualenvs/CMA_Fairness_v2-3j10GkSs/lib/python3.10/site-packages/IPython/core/magics/osm.py:393: UserWarning: This is now an optional IPython functionality, using bookmarks requires you to install the `pickleshare` library.\n",
      "  bkms = self.shell.db.get('bookmarks', {})\n",
      "/dss/dsshome1/0C/ra93lal2/.local/share/virtualenvs/CMA_Fairness_v2-3j10GkSs/lib/python3.10/site-packages/IPython/core/magics/osm.py:417: UserWarning: This is now an optional IPython functionality, setting dhist requires you to install the `pickleshare` library.\n",
      "  self.shell.db['dhist'] = compress_dhist(dhist)[-100:]\n"
     ]
    }
   ],
   "source": [
    "%cd ~/cma/CMA_Fairness_v2"
   ]
  },
  {
   "cell_type": "markdown",
   "id": "de2603b9",
   "metadata": {
    "papermill": {
     "duration": 0.040905,
     "end_time": "2025-07-28T11:05:44.224708",
     "exception": false,
     "start_time": "2025-07-28T11:05:44.183803",
     "status": "completed"
    },
    "tags": []
   },
   "source": [
    "The following cell holds the definition of our parameters, these values can be overriden by rendering the with e.g. the following command:\n",
    "\n",
    "papermill -p alpha 0.2 -p ratio 0.3 universe_analysis.ipynb output/test_run.ipynb"
   ]
  },
  {
   "cell_type": "code",
   "execution_count": 2,
   "id": "a80968a0-40bb-4fa9-85ef-2d5eefb01975",
   "metadata": {
    "execution": {
     "iopub.execute_input": "2025-07-28T11:05:44.310525Z",
     "iopub.status.busy": "2025-07-28T11:05:44.310099Z",
     "iopub.status.idle": "2025-07-28T11:05:44.315895Z",
     "shell.execute_reply": "2025-07-28T11:05:44.314870Z"
    },
    "papermill": {
     "duration": 0.058084,
     "end_time": "2025-07-28T11:05:44.317760",
     "exception": false,
     "start_time": "2025-07-28T11:05:44.259676",
     "status": "completed"
    },
    "tags": []
   },
   "outputs": [
    {
     "name": "stdout",
     "output_type": "stream",
     "text": [
      "Current working directory: /dss/dsshome1/0C/ra93lal2/cma/CMA_Fairness_v2\n"
     ]
    }
   ],
   "source": [
    "import os\n",
    "print(\"Current working directory:\", os.getcwd())"
   ]
  },
  {
   "cell_type": "code",
   "execution_count": 3,
   "id": "2dce4c03",
   "metadata": {
    "execution": {
     "iopub.execute_input": "2025-07-28T11:05:44.397971Z",
     "iopub.status.busy": "2025-07-28T11:05:44.397602Z",
     "iopub.status.idle": "2025-07-28T11:05:44.404092Z",
     "shell.execute_reply": "2025-07-28T11:05:44.403076Z"
    },
    "papermill": {
     "duration": 0.047307,
     "end_time": "2025-07-28T11:05:44.414438",
     "exception": false,
     "start_time": "2025-07-28T11:05:44.367131",
     "status": "completed"
    },
    "tags": [
     "parameters"
    ]
   },
   "outputs": [],
   "source": [
    "run_no = 0\n",
    "universe_id = \"test\"\n",
    "universe = {\n",
    "    \"training_size\": \"2014\", # \"25k\", \"5k\", \"1k\", \"2014\"\n",
    "    \"scale\": \"scale\", # \"scale\", \"do-not-scale\",\n",
    "    #\"stratify_split\": \"target\", # \"none\", \"target\", \"protected-attribute\", \"both\",\n",
    "    \"model\": \"elasticnet\", # \"logreg\", \"penalized_logreg\", \"rf\", \"gbm\", \"elasticnet\"\n",
    "    \"cutoff\": [\"quantile_0.15\", \"quantile_0.30\"],\n",
    "    \"exclude_features\": \"age\", # \"none\", \"nationality\", \"sex\", \"nationality-sex\", \"age\"\n",
    "    \"exclude_subgroups\": \"keep-all\", # \"keep-all\", \"drop-non-german\"\n",
    "    \"eval_fairness_grouping\": [\"majority-minority\", \"nationality-all\"]\n",
    "}\n",
    "\n",
    "output_dir=\"./output\"\n",
    "seed=0"
   ]
  },
  {
   "cell_type": "code",
   "execution_count": 4,
   "id": "fe323567",
   "metadata": {
    "execution": {
     "iopub.execute_input": "2025-07-28T11:05:44.482625Z",
     "iopub.status.busy": "2025-07-28T11:05:44.482201Z",
     "iopub.status.idle": "2025-07-28T11:05:44.488266Z",
     "shell.execute_reply": "2025-07-28T11:05:44.487247Z"
    },
    "papermill": {
     "duration": 0.031142,
     "end_time": "2025-07-28T11:05:44.491647",
     "exception": false,
     "start_time": "2025-07-28T11:05:44.460505",
     "status": "completed"
    },
    "tags": [
     "injected-parameters"
    ]
   },
   "outputs": [],
   "source": [
    "# Parameters\n",
    "universe_id = \"6b61b0480e3fb6868b0efef3a9056b3b\"\n",
    "run_no = \"11\"\n",
    "universe = \"{\\\"cutoff\\\": [\\\"quantile_0.1\\\", \\\"quantile_0.25\\\"], \\\"eval_fairness_grouping\\\": [\\\"majority-minority\\\", \\\"nationality-all\\\"], \\\"exclude_features\\\": \\\"sex\\\", \\\"exclude_subgroups\\\": \\\"drop-non-german\\\", \\\"model\\\": \\\"rf\\\", \\\"scale\\\": \\\"do-not-scale\\\", \\\"training_size\\\": \\\"2014\\\"}\"\n",
    "output_dir = \"output\"\n",
    "seed = \"2023\"\n"
   ]
  },
  {
   "cell_type": "code",
   "execution_count": 5,
   "id": "1650acaf",
   "metadata": {
    "execution": {
     "iopub.execute_input": "2025-07-28T11:05:44.534511Z",
     "iopub.status.busy": "2025-07-28T11:05:44.534142Z",
     "iopub.status.idle": "2025-07-28T11:05:44.539547Z",
     "shell.execute_reply": "2025-07-28T11:05:44.538602Z"
    },
    "papermill": {
     "duration": 0.029812,
     "end_time": "2025-07-28T11:05:44.542596",
     "exception": false,
     "start_time": "2025-07-28T11:05:44.512784",
     "status": "completed"
    },
    "tags": []
   },
   "outputs": [],
   "source": [
    "import json\n",
    "# Parse universe into dict if it is passed as a string\n",
    "if isinstance(universe, str):\n",
    "    universe = json.loads(universe)"
   ]
  },
  {
   "cell_type": "code",
   "execution_count": 6,
   "id": "16620c48",
   "metadata": {
    "execution": {
     "iopub.execute_input": "2025-07-28T11:05:44.595760Z",
     "iopub.status.busy": "2025-07-28T11:05:44.595321Z",
     "iopub.status.idle": "2025-07-28T11:05:44.702790Z",
     "shell.execute_reply": "2025-07-28T11:05:44.701438Z"
    },
    "papermill": {
     "duration": 0.141641,
     "end_time": "2025-07-28T11:05:44.705630",
     "exception": false,
     "start_time": "2025-07-28T11:05:44.563989",
     "status": "completed"
    },
    "tags": []
   },
   "outputs": [],
   "source": [
    "# Auto-reload the custom package\n",
    "%load_ext autoreload\n",
    "%autoreload 1\n",
    "%aimport fairness_multiverse"
   ]
  },
  {
   "cell_type": "code",
   "execution_count": 7,
   "id": "01c5c9f3",
   "metadata": {
    "execution": {
     "iopub.execute_input": "2025-07-28T11:05:44.767092Z",
     "iopub.status.busy": "2025-07-28T11:05:44.766624Z",
     "iopub.status.idle": "2025-07-28T11:05:48.272436Z",
     "shell.execute_reply": "2025-07-28T11:05:48.271143Z"
    },
    "papermill": {
     "duration": 3.545594,
     "end_time": "2025-07-28T11:05:48.274583",
     "exception": false,
     "start_time": "2025-07-28T11:05:44.728989",
     "status": "completed"
    },
    "tags": []
   },
   "outputs": [],
   "source": [
    "from fairness_multiverse.universe import UniverseAnalysis\n",
    "\n",
    "universe_analysis = UniverseAnalysis(\n",
    "    run_no = run_no,\n",
    "    universe_id = universe_id,\n",
    "    universe = universe,\n",
    "    output_dir=output_dir,\n",
    ")"
   ]
  },
  {
   "cell_type": "code",
   "execution_count": 8,
   "id": "106241f5",
   "metadata": {
    "execution": {
     "iopub.execute_input": "2025-07-28T11:05:48.323752Z",
     "iopub.status.busy": "2025-07-28T11:05:48.323058Z",
     "iopub.status.idle": "2025-07-28T11:05:48.332646Z",
     "shell.execute_reply": "2025-07-28T11:05:48.331271Z"
    },
    "papermill": {
     "duration": 0.035072,
     "end_time": "2025-07-28T11:05:48.334619",
     "exception": false,
     "start_time": "2025-07-28T11:05:48.299547",
     "status": "completed"
    },
    "tags": []
   },
   "outputs": [
    {
     "name": "stdout",
     "output_type": "stream",
     "text": [
      "Using Seed: 2023\n"
     ]
    }
   ],
   "source": [
    "import numpy as np\n",
    "parsed_seed = int(seed)\n",
    "np.random.seed(parsed_seed)\n",
    "print(f\"Using Seed: {parsed_seed}\")"
   ]
  },
  {
   "cell_type": "markdown",
   "id": "e0ebdc57",
   "metadata": {
    "papermill": {
     "duration": 0.021736,
     "end_time": "2025-07-28T11:05:48.377290",
     "exception": false,
     "start_time": "2025-07-28T11:05:48.355554",
     "status": "completed"
    },
    "tags": []
   },
   "source": [
    "# Loading Data"
   ]
  },
  {
   "cell_type": "markdown",
   "id": "681925a3",
   "metadata": {
    "papermill": {
     "duration": 0.021321,
     "end_time": "2025-07-28T11:05:48.419781",
     "exception": false,
     "start_time": "2025-07-28T11:05:48.398460",
     "status": "completed"
    },
    "tags": []
   },
   "source": [
    "Load siab_train, siab_test, siab_calib and/or \n",
    "load siab_train_features, siab_train_labels"
   ]
  },
  {
   "cell_type": "code",
   "execution_count": 9,
   "id": "f0496b8a",
   "metadata": {
    "execution": {
     "iopub.execute_input": "2025-07-28T11:05:48.464348Z",
     "iopub.status.busy": "2025-07-28T11:05:48.463918Z",
     "iopub.status.idle": "2025-07-28T11:06:14.204711Z",
     "shell.execute_reply": "2025-07-28T11:06:14.203386Z"
    },
    "papermill": {
     "duration": 25.765459,
     "end_time": "2025-07-28T11:06:14.206407",
     "exception": false,
     "start_time": "2025-07-28T11:05:48.440948",
     "status": "completed"
    },
    "tags": []
   },
   "outputs": [
    {
     "name": "stdout",
     "output_type": "stream",
     "text": [
      "Loading SIAB data from cache: data/siab_cached.csv.gz\n"
     ]
    },
    {
     "name": "stdout",
     "output_type": "stream",
     "text": [
      "(643690, 164)\n"
     ]
    }
   ],
   "source": [
    "from pathlib import Path\n",
    "import pandas as pd\n",
    "\n",
    "# File paths\n",
    "raw_file = Path(\"data/raw/siab.csv\")\n",
    "cache_file = Path(\"data/siab_cached.csv.gz\")\n",
    "\n",
    "# Ensure cache directory exists\n",
    "cache_file.parent.mkdir(parents=True, exist_ok=True)\n",
    "\n",
    "# Load with simple caching\n",
    "if cache_file.exists():\n",
    "    print(f\"Loading SIAB data from cache: {cache_file}\")\n",
    "    siab = pd.read_csv(cache_file, compression='gzip')\n",
    "else:\n",
    "    print(f\"Cache not found. Reading raw SIAB data: {raw_file}\")\n",
    "    siab = pd.read_csv(raw_file)\n",
    "    siab.to_csv(cache_file, index=False, compression='gzip')\n",
    "    print(f\"Cached SIAB data to: {cache_file}\")\n",
    "\n",
    "# Now use `siab` DataFrame as needed\n",
    "print(siab.shape)"
   ]
  },
  {
   "cell_type": "code",
   "execution_count": 10,
   "id": "db0ca512-5f53-4dba-abdb-a2888bca41ba",
   "metadata": {
    "execution": {
     "iopub.execute_input": "2025-07-28T11:06:14.254887Z",
     "iopub.status.busy": "2025-07-28T11:06:14.254341Z",
     "iopub.status.idle": "2025-07-28T11:06:14.260823Z",
     "shell.execute_reply": "2025-07-28T11:06:14.259766Z"
    },
    "papermill": {
     "duration": 0.029233,
     "end_time": "2025-07-28T11:06:14.262727",
     "exception": false,
     "start_time": "2025-07-28T11:06:14.233494",
     "status": "completed"
    },
    "tags": []
   },
   "outputs": [],
   "source": [
    "#siab"
   ]
  },
  {
   "cell_type": "code",
   "execution_count": 11,
   "id": "a0edb063",
   "metadata": {
    "execution": {
     "iopub.execute_input": "2025-07-28T11:06:14.307949Z",
     "iopub.status.busy": "2025-07-28T11:06:14.307442Z",
     "iopub.status.idle": "2025-07-28T11:06:14.312836Z",
     "shell.execute_reply": "2025-07-28T11:06:14.311634Z"
    },
    "papermill": {
     "duration": 0.033186,
     "end_time": "2025-07-28T11:06:14.317258",
     "exception": false,
     "start_time": "2025-07-28T11:06:14.284072",
     "status": "completed"
    },
    "tags": []
   },
   "outputs": [],
   "source": [
    "#import pandas as pd\n",
    "#\n",
    "#X_train = pd.read_csv(\"./data/X_train.csv\")\n",
    "#y_train = pd.read_csv(\"./data/y_train.csv\")"
   ]
  },
  {
   "cell_type": "code",
   "execution_count": 12,
   "id": "63d08085",
   "metadata": {
    "execution": {
     "iopub.execute_input": "2025-07-28T11:06:14.358801Z",
     "iopub.status.busy": "2025-07-28T11:06:14.357979Z",
     "iopub.status.idle": "2025-07-28T11:06:14.363409Z",
     "shell.execute_reply": "2025-07-28T11:06:14.362403Z"
    },
    "papermill": {
     "duration": 0.027957,
     "end_time": "2025-07-28T11:06:14.365203",
     "exception": false,
     "start_time": "2025-07-28T11:06:14.337246",
     "status": "completed"
    },
    "tags": []
   },
   "outputs": [],
   "source": [
    "#X_test = pd.read_csv(\"./data/X_test.csv\")\n",
    "#y_true = pd.read_csv(\"./data/y_test.csv\")"
   ]
  },
  {
   "cell_type": "code",
   "execution_count": 13,
   "id": "98a8d0fa-1d3d-4ed8-bb2c-281470e24add",
   "metadata": {
    "execution": {
     "iopub.execute_input": "2025-07-28T11:06:14.408455Z",
     "iopub.status.busy": "2025-07-28T11:06:14.407788Z",
     "iopub.status.idle": "2025-07-28T11:06:14.412879Z",
     "shell.execute_reply": "2025-07-28T11:06:14.411883Z"
    },
    "papermill": {
     "duration": 0.02828,
     "end_time": "2025-07-28T11:06:14.414658",
     "exception": false,
     "start_time": "2025-07-28T11:06:14.386378",
     "status": "completed"
    },
    "tags": []
   },
   "outputs": [],
   "source": [
    "# Calibration data for conformal\n",
    "#X_calib = pd.read_csv(\"./data/X_calib.csv\")\n",
    "#y_calib = pd.read_csv(\"./data/y_calib.csv\")"
   ]
  },
  {
   "cell_type": "markdown",
   "id": "9901737e-04df-44f0-9100-f5ad144ed040",
   "metadata": {
    "papermill": {
     "duration": 0.023397,
     "end_time": "2025-07-28T11:06:14.458068",
     "exception": false,
     "start_time": "2025-07-28T11:06:14.434671",
     "status": "completed"
    },
    "tags": []
   },
   "source": [
    "# Splitting Data and Setting Training Data Size"
   ]
  },
  {
   "cell_type": "code",
   "execution_count": 14,
   "id": "acbc8f7d-8fc8-4e86-8c59-5dcb0f58384b",
   "metadata": {
    "execution": {
     "iopub.execute_input": "2025-07-28T11:06:14.512908Z",
     "iopub.status.busy": "2025-07-28T11:06:14.511667Z",
     "iopub.status.idle": "2025-07-28T11:06:14.521449Z",
     "shell.execute_reply": "2025-07-28T11:06:14.520214Z"
    },
    "papermill": {
     "duration": 0.049901,
     "end_time": "2025-07-28T11:06:14.530617",
     "exception": false,
     "start_time": "2025-07-28T11:06:14.480716",
     "status": "completed"
    },
    "tags": []
   },
   "outputs": [],
   "source": [
    "def sample_by_year(df, training_size, random_state=42):\n",
    "    if training_size == \"2014\":\n",
    "        return df[df[\"year\"] == 2014].reset_index(drop=True)\n",
    "    \n",
    "    size_map = {\n",
    "        \"25k\": 5000,\n",
    "        \"5k\": 1000,\n",
    "        \"1k\": 200\n",
    "    }\n",
    "\n",
    "    if training_size not in size_map:\n",
    "        return df.reset_index(drop=True)  # use all data\n",
    "\n",
    "    n_per_year = size_map[training_size]\n",
    "    grouped = df.groupby(\"year\")\n",
    "    sampled = grouped.apply(lambda x: x.sample(n=min(n_per_year, len(x)), random_state=random_state))\n",
    "    return sampled.reset_index(drop=True)"
   ]
  },
  {
   "cell_type": "code",
   "execution_count": 15,
   "id": "6d931f52-beaf-43ff-9e78-9d44a448d54e",
   "metadata": {
    "execution": {
     "iopub.execute_input": "2025-07-28T11:06:14.594175Z",
     "iopub.status.busy": "2025-07-28T11:06:14.593864Z",
     "iopub.status.idle": "2025-07-28T11:06:14.955053Z",
     "shell.execute_reply": "2025-07-28T11:06:14.954029Z"
    },
    "papermill": {
     "duration": 0.386481,
     "end_time": "2025-07-28T11:06:14.957446",
     "exception": false,
     "start_time": "2025-07-28T11:06:14.570965",
     "status": "completed"
    },
    "tags": []
   },
   "outputs": [],
   "source": [
    "siab_s = sample_by_year(siab, universe[\"training_size\"])"
   ]
  },
  {
   "cell_type": "code",
   "execution_count": 16,
   "id": "5db0a40e-a4e2-4920-be85-b12ae061d70d",
   "metadata": {
    "execution": {
     "iopub.execute_input": "2025-07-28T11:06:15.074006Z",
     "iopub.status.busy": "2025-07-28T11:06:15.073554Z",
     "iopub.status.idle": "2025-07-28T11:06:15.104469Z",
     "shell.execute_reply": "2025-07-28T11:06:15.103335Z"
    },
    "papermill": {
     "duration": 0.10466,
     "end_time": "2025-07-28T11:06:15.117349",
     "exception": false,
     "start_time": "2025-07-28T11:06:15.012689",
     "status": "completed"
    },
    "tags": []
   },
   "outputs": [
    {
     "data": {
      "text/plain": [
       "year\n",
       "2014    87158\n",
       "dtype: int64"
      ]
     },
     "metadata": {},
     "output_type": "display_data"
    }
   ],
   "source": [
    "display(siab_s.groupby(\"year\").size())"
   ]
  },
  {
   "cell_type": "code",
   "execution_count": 17,
   "id": "a561edb4-d032-42cb-8256-22eac1111c64",
   "metadata": {
    "execution": {
     "iopub.execute_input": "2025-07-28T11:06:15.240717Z",
     "iopub.status.busy": "2025-07-28T11:06:15.240245Z",
     "iopub.status.idle": "2025-07-28T11:06:16.054915Z",
     "shell.execute_reply": "2025-07-28T11:06:16.053752Z"
    },
    "papermill": {
     "duration": 0.868816,
     "end_time": "2025-07-28T11:06:16.057099",
     "exception": false,
     "start_time": "2025-07-28T11:06:15.188283",
     "status": "completed"
    },
    "tags": []
   },
   "outputs": [],
   "source": [
    "siab_train = siab_s[siab_s.year < 2015]\n",
    "siab_calib = siab[siab.year == 2015]\n",
    "siab_test = siab[siab.year == 2016]"
   ]
  },
  {
   "cell_type": "code",
   "execution_count": 18,
   "id": "472de16f-c3db-4916-846b-1f0de9cf1746",
   "metadata": {
    "execution": {
     "iopub.execute_input": "2025-07-28T11:06:16.133606Z",
     "iopub.status.busy": "2025-07-28T11:06:16.133149Z",
     "iopub.status.idle": "2025-07-28T11:06:16.237990Z",
     "shell.execute_reply": "2025-07-28T11:06:16.236760Z"
    },
    "papermill": {
     "duration": 0.159584,
     "end_time": "2025-07-28T11:06:16.240207",
     "exception": false,
     "start_time": "2025-07-28T11:06:16.080623",
     "status": "completed"
    },
    "tags": []
   },
   "outputs": [],
   "source": [
    "X_train = siab_train.iloc[:,4:164]\n",
    "y_train = siab_train.iloc[:, [3]]"
   ]
  },
  {
   "cell_type": "code",
   "execution_count": 19,
   "id": "828c96af-f43a-4ed6-ba47-8ac73a47d56c",
   "metadata": {
    "execution": {
     "iopub.execute_input": "2025-07-28T11:06:16.337627Z",
     "iopub.status.busy": "2025-07-28T11:06:16.337178Z",
     "iopub.status.idle": "2025-07-28T11:06:16.408408Z",
     "shell.execute_reply": "2025-07-28T11:06:16.407065Z"
    },
    "papermill": {
     "duration": 0.120452,
     "end_time": "2025-07-28T11:06:16.415716",
     "exception": false,
     "start_time": "2025-07-28T11:06:16.295264",
     "status": "completed"
    },
    "tags": []
   },
   "outputs": [],
   "source": [
    "X_calib = siab_calib.iloc[:,4:164]\n",
    "y_calib = siab_calib.iloc[:, [3]]"
   ]
  },
  {
   "cell_type": "code",
   "execution_count": 20,
   "id": "c34be9c3-6bd6-476e-acd3-845840e303be",
   "metadata": {
    "execution": {
     "iopub.execute_input": "2025-07-28T11:06:16.485535Z",
     "iopub.status.busy": "2025-07-28T11:06:16.485091Z",
     "iopub.status.idle": "2025-07-28T11:06:16.571518Z",
     "shell.execute_reply": "2025-07-28T11:06:16.570099Z"
    },
    "papermill": {
     "duration": 0.113254,
     "end_time": "2025-07-28T11:06:16.573998",
     "exception": false,
     "start_time": "2025-07-28T11:06:16.460744",
     "status": "completed"
    },
    "tags": []
   },
   "outputs": [],
   "source": [
    "X_test = siab_test.iloc[:,4:164]\n",
    "y_true = siab_test.iloc[:, [3]]"
   ]
  },
  {
   "cell_type": "code",
   "execution_count": 21,
   "id": "e6c733c5",
   "metadata": {
    "execution": {
     "iopub.execute_input": "2025-07-28T11:06:16.670763Z",
     "iopub.status.busy": "2025-07-28T11:06:16.670259Z",
     "iopub.status.idle": "2025-07-28T11:06:16.959731Z",
     "shell.execute_reply": "2025-07-28T11:06:16.958631Z"
    },
    "papermill": {
     "duration": 0.341539,
     "end_time": "2025-07-28T11:06:16.961833",
     "exception": false,
     "start_time": "2025-07-28T11:06:16.620294",
     "status": "completed"
    },
    "tags": []
   },
   "outputs": [],
   "source": [
    "# Auxiliary data needed downstream in the pipeline\n",
    "\n",
    "org_train = X_train.copy()\n",
    "org_test = X_test.copy()\n",
    "org_calib = X_calib.copy()"
   ]
  },
  {
   "cell_type": "markdown",
   "id": "0a4a1b33",
   "metadata": {
    "papermill": {
     "duration": 0.03765,
     "end_time": "2025-07-28T11:06:17.045939",
     "exception": false,
     "start_time": "2025-07-28T11:06:17.008289",
     "status": "completed"
    },
    "tags": []
   },
   "source": [
    "# Preprocessing Data"
   ]
  },
  {
   "cell_type": "code",
   "execution_count": 22,
   "id": "ca879031",
   "metadata": {
    "execution": {
     "iopub.execute_input": "2025-07-28T11:06:17.136937Z",
     "iopub.status.busy": "2025-07-28T11:06:17.136372Z",
     "iopub.status.idle": "2025-07-28T11:06:17.144310Z",
     "shell.execute_reply": "2025-07-28T11:06:17.143240Z"
    },
    "papermill": {
     "duration": 0.050078,
     "end_time": "2025-07-28T11:06:17.146696",
     "exception": false,
     "start_time": "2025-07-28T11:06:17.096618",
     "status": "completed"
    },
    "tags": []
   },
   "outputs": [],
   "source": [
    "# EXCLUDE PROTECTED FEATURES\n",
    "# ----------------------\n",
    "# \"exclude_features\": \"none\", # \"nationality\", \"sex\", \"nationality-sex\"\n",
    "\n",
    "excluded_features = universe[\"exclude_features\"].split(\"-\") # split, e.g.: \"nationality-sex\" -> [\"nationality\", \"sex\"]\n",
    "excluded_features_dictionary = {\n",
    "    \"nationality\": [\"maxdeutsch1\", \"maxdeutsch.Missing.\"],\n",
    "    \"sex\": [\"frau1\"],\n",
    "    \"age\": [\"age\"],\n",
    "}\n"
   ]
  },
  {
   "cell_type": "code",
   "execution_count": 23,
   "id": "b745ac60",
   "metadata": {
    "execution": {
     "iopub.execute_input": "2025-07-28T11:06:17.242838Z",
     "iopub.status.busy": "2025-07-28T11:06:17.242354Z",
     "iopub.status.idle": "2025-07-28T11:06:17.249345Z",
     "shell.execute_reply": "2025-07-28T11:06:17.248225Z"
    },
    "papermill": {
     "duration": 0.058557,
     "end_time": "2025-07-28T11:06:17.252176",
     "exception": false,
     "start_time": "2025-07-28T11:06:17.193619",
     "status": "completed"
    },
    "tags": []
   },
   "outputs": [],
   "source": [
    "# Code nice names to column names\n",
    "\n",
    "excluded_features_columns = [\n",
    "    excluded_features_dictionary[f] for f in excluded_features if len(f) > 0 and f != \"none\"\n",
    "]"
   ]
  },
  {
   "cell_type": "code",
   "execution_count": 24,
   "id": "f84f73a2",
   "metadata": {
    "execution": {
     "iopub.execute_input": "2025-07-28T11:06:17.334479Z",
     "iopub.status.busy": "2025-07-28T11:06:17.334024Z",
     "iopub.status.idle": "2025-07-28T11:06:17.341427Z",
     "shell.execute_reply": "2025-07-28T11:06:17.340300Z"
    },
    "papermill": {
     "duration": 0.044518,
     "end_time": "2025-07-28T11:06:17.345187",
     "exception": false,
     "start_time": "2025-07-28T11:06:17.300669",
     "status": "completed"
    },
    "tags": []
   },
   "outputs": [],
   "source": [
    "from utils import flatten_once\n",
    "\n",
    "excluded_features_columns = flatten_once(excluded_features_columns)"
   ]
  },
  {
   "cell_type": "code",
   "execution_count": 25,
   "id": "884dea22",
   "metadata": {
    "execution": {
     "iopub.execute_input": "2025-07-28T11:06:17.406907Z",
     "iopub.status.busy": "2025-07-28T11:06:17.406493Z",
     "iopub.status.idle": "2025-07-28T11:06:17.487373Z",
     "shell.execute_reply": "2025-07-28T11:06:17.486109Z"
    },
    "papermill": {
     "duration": 0.123258,
     "end_time": "2025-07-28T11:06:17.489713",
     "exception": false,
     "start_time": "2025-07-28T11:06:17.366455",
     "status": "completed"
    },
    "tags": []
   },
   "outputs": [
    {
     "name": "stdout",
     "output_type": "stream",
     "text": [
      "Dropping features: ['frau1']\n"
     ]
    }
   ],
   "source": [
    "if len(excluded_features_columns) > 0:\n",
    "    print(f\"Dropping features: {excluded_features_columns}\")\n",
    "    X_train.drop(excluded_features_columns, axis=1, inplace=True)"
   ]
  },
  {
   "cell_type": "code",
   "execution_count": 26,
   "id": "95ab8b16",
   "metadata": {
    "execution": {
     "iopub.execute_input": "2025-07-28T11:06:17.561440Z",
     "iopub.status.busy": "2025-07-28T11:06:17.560956Z",
     "iopub.status.idle": "2025-07-28T11:06:17.662771Z",
     "shell.execute_reply": "2025-07-28T11:06:17.661465Z"
    },
    "papermill": {
     "duration": 0.148201,
     "end_time": "2025-07-28T11:06:17.664837",
     "exception": false,
     "start_time": "2025-07-28T11:06:17.516636",
     "status": "completed"
    },
    "tags": []
   },
   "outputs": [
    {
     "name": "stdout",
     "output_type": "stream",
     "text": [
      "Dropping features: ['frau1']\n"
     ]
    }
   ],
   "source": [
    "if len(excluded_features_columns) > 0:\n",
    "    print(f\"Dropping features: {excluded_features_columns}\")\n",
    "    X_test.drop(excluded_features_columns, axis=1, inplace=True)"
   ]
  },
  {
   "cell_type": "code",
   "execution_count": 27,
   "id": "1853aaf5-fb9f-46cb-a2b5-8ea4ae2237e4",
   "metadata": {
    "execution": {
     "iopub.execute_input": "2025-07-28T11:06:17.743163Z",
     "iopub.status.busy": "2025-07-28T11:06:17.742662Z",
     "iopub.status.idle": "2025-07-28T11:06:17.830310Z",
     "shell.execute_reply": "2025-07-28T11:06:17.829097Z"
    },
    "papermill": {
     "duration": 0.142338,
     "end_time": "2025-07-28T11:06:17.832568",
     "exception": false,
     "start_time": "2025-07-28T11:06:17.690230",
     "status": "completed"
    },
    "tags": []
   },
   "outputs": [
    {
     "name": "stdout",
     "output_type": "stream",
     "text": [
      "Dropping features: ['frau1']\n"
     ]
    }
   ],
   "source": [
    "if len(excluded_features_columns) > 0:\n",
    "    print(f\"Dropping features: {excluded_features_columns}\")\n",
    "    X_calib.drop(excluded_features_columns, axis=1, inplace=True)"
   ]
  },
  {
   "cell_type": "code",
   "execution_count": 28,
   "id": "6727d079-03e5-481e-9d38-292a90b7a0a8",
   "metadata": {
    "execution": {
     "iopub.execute_input": "2025-07-28T11:06:17.921438Z",
     "iopub.status.busy": "2025-07-28T11:06:17.920973Z",
     "iopub.status.idle": "2025-07-28T11:06:17.930119Z",
     "shell.execute_reply": "2025-07-28T11:06:17.928995Z"
    },
    "papermill": {
     "duration": 0.072695,
     "end_time": "2025-07-28T11:06:17.932461",
     "exception": false,
     "start_time": "2025-07-28T11:06:17.859766",
     "status": "completed"
    },
    "tags": []
   },
   "outputs": [],
   "source": [
    "# SPLIT & STRATIFY DATA\n",
    "# ----------------------"
   ]
  },
  {
   "cell_type": "code",
   "execution_count": 29,
   "id": "76c4dc6d",
   "metadata": {
    "execution": {
     "iopub.execute_input": "2025-07-28T11:06:17.987427Z",
     "iopub.status.busy": "2025-07-28T11:06:17.986988Z",
     "iopub.status.idle": "2025-07-28T11:06:17.993253Z",
     "shell.execute_reply": "2025-07-28T11:06:17.992218Z"
    },
    "papermill": {
     "duration": 0.03469,
     "end_time": "2025-07-28T11:06:17.997032",
     "exception": false,
     "start_time": "2025-07-28T11:06:17.962342",
     "status": "completed"
    },
    "tags": []
   },
   "outputs": [],
   "source": [
    "# EXCLUDE CERTAIN SUBGROUPS\n",
    "# ----------------------\n",
    "\n",
    "mode = universe.get(\"exclude_subgroups\", \"keep-all\") \n",
    "# Fetches the exclude_subgroups setting from the universe dict.\n",
    "# Defaults to \"keep-all\" if the key is missing."
   ]
  },
  {
   "cell_type": "code",
   "execution_count": 30,
   "id": "21994072",
   "metadata": {
    "execution": {
     "iopub.execute_input": "2025-07-28T11:06:18.047518Z",
     "iopub.status.busy": "2025-07-28T11:06:18.047107Z",
     "iopub.status.idle": "2025-07-28T11:06:18.054987Z",
     "shell.execute_reply": "2025-07-28T11:06:18.053957Z"
    },
    "papermill": {
     "duration": 0.037027,
     "end_time": "2025-07-28T11:06:18.058456",
     "exception": false,
     "start_time": "2025-07-28T11:06:18.021429",
     "status": "completed"
    },
    "tags": []
   },
   "outputs": [],
   "source": [
    "if mode == \"keep-all\":\n",
    "    keep_mask = pd.Series(True, index=org_train.index)\n",
    "\n",
    "# org_train contains the original feature columns from features_org (in Simson)\n",
    "# features_org contains unprocessed features, for me X_train at beginning ???\n",
    "# For keep-all, creates a boolean Series (keep_mask) of all True, so no rows are removed.\n",
    "\n",
    "elif mode == \"drop-non-german\":\n",
    "    keep_mask = org_train[\"maxdeutsch1\"] == 1 # ??? what about missing values?\n",
    "\n",
    "else:\n",
    "    raise ValueError(f\"Unsupported mode for exclude_subgroups: {mode}\")\n"
   ]
  },
  {
   "cell_type": "code",
   "execution_count": 31,
   "id": "71651440",
   "metadata": {
    "execution": {
     "iopub.execute_input": "2025-07-28T11:06:18.112069Z",
     "iopub.status.busy": "2025-07-28T11:06:18.111575Z",
     "iopub.status.idle": "2025-07-28T11:06:18.120089Z",
     "shell.execute_reply": "2025-07-28T11:06:18.119053Z"
    },
    "papermill": {
     "duration": 0.039376,
     "end_time": "2025-07-28T11:06:18.124743",
     "exception": false,
     "start_time": "2025-07-28T11:06:18.085367",
     "status": "completed"
    },
    "tags": []
   },
   "outputs": [
    {
     "name": "stdout",
     "output_type": "stream",
     "text": [
      "Dropping 12995 rows (14.91%) where mode='drop-non-german'\n"
     ]
    }
   ],
   "source": [
    "n_drop = (~keep_mask).sum() # Calculates how many rows are set to be dropped\n",
    "if n_drop > 0:\n",
    "    pct = n_drop / len(keep_mask) * 100\n",
    "    print(f\"Dropping {n_drop} rows ({pct:.2f}%) where mode='{mode}'\")"
   ]
  },
  {
   "cell_type": "code",
   "execution_count": 32,
   "id": "5fb8eee5",
   "metadata": {
    "execution": {
     "iopub.execute_input": "2025-07-28T11:06:18.178833Z",
     "iopub.status.busy": "2025-07-28T11:06:18.178374Z",
     "iopub.status.idle": "2025-07-28T11:06:18.220631Z",
     "shell.execute_reply": "2025-07-28T11:06:18.219304Z"
    },
    "papermill": {
     "duration": 0.073063,
     "end_time": "2025-07-28T11:06:18.223259",
     "exception": false,
     "start_time": "2025-07-28T11:06:18.150196",
     "status": "completed"
    },
    "tags": []
   },
   "outputs": [],
   "source": [
    "X_train = X_train[keep_mask]"
   ]
  },
  {
   "cell_type": "code",
   "execution_count": 33,
   "id": "b202bb3a",
   "metadata": {
    "execution": {
     "iopub.execute_input": "2025-07-28T11:06:18.282338Z",
     "iopub.status.busy": "2025-07-28T11:06:18.281939Z",
     "iopub.status.idle": "2025-07-28T11:06:18.288078Z",
     "shell.execute_reply": "2025-07-28T11:06:18.287074Z"
    },
    "papermill": {
     "duration": 0.04344,
     "end_time": "2025-07-28T11:06:18.291918",
     "exception": false,
     "start_time": "2025-07-28T11:06:18.248478",
     "status": "completed"
    },
    "tags": []
   },
   "outputs": [],
   "source": [
    "y_train = y_train[keep_mask]"
   ]
  },
  {
   "cell_type": "markdown",
   "id": "493e2ac3",
   "metadata": {
    "papermill": {
     "duration": 0.043186,
     "end_time": "2025-07-28T11:06:18.403844",
     "exception": false,
     "start_time": "2025-07-28T11:06:18.360658",
     "status": "completed"
    },
    "tags": []
   },
   "source": [
    "# Model Training"
   ]
  },
  {
   "cell_type": "code",
   "execution_count": 34,
   "id": "679e1268",
   "metadata": {
    "execution": {
     "iopub.execute_input": "2025-07-28T11:06:18.502598Z",
     "iopub.status.busy": "2025-07-28T11:06:18.501517Z",
     "iopub.status.idle": "2025-07-28T11:06:18.708818Z",
     "shell.execute_reply": "2025-07-28T11:06:18.707678Z"
    },
    "papermill": {
     "duration": 0.250408,
     "end_time": "2025-07-28T11:06:18.711106",
     "exception": false,
     "start_time": "2025-07-28T11:06:18.460698",
     "status": "completed"
    },
    "tags": []
   },
   "outputs": [],
   "source": [
    "from sklearn.linear_model import LogisticRegression\n",
    "from sklearn.ensemble import GradientBoostingClassifier, RandomForestClassifier\n",
    "\n",
    "if (universe[\"model\"] == \"logreg\"):\n",
    "    model = LogisticRegression() #penalty=\"none\") #, solver=\"newton-cg\", max_iter=1) # include random_state=19 ?\n",
    "elif (universe[\"model\"] == \"penalized_logreg\"):\n",
    "    model = LogisticRegression(penalty=\"l2\", C=1.0) #, solver=\"newton-cg\", max_iter=1)\n",
    "elif (universe[\"model\"] == \"rf\"):\n",
    "    model = RandomForestClassifier(n_estimators=100, n_jobs=-1)\n",
    "elif (universe[\"model\"] == \"gbm\"):\n",
    "    model = GradientBoostingClassifier()\n",
    "elif (universe[\"model\"] == \"elasticnet\"):\n",
    "    model = LogisticRegression(penalty = 'elasticnet', solver = 'saga', l1_ratio = 0.5, max_iter=5000) # which solver to use?\n",
    "else:\n",
    "    raise \"Unsupported universe.model\""
   ]
  },
  {
   "cell_type": "code",
   "execution_count": 35,
   "id": "0cc8f744",
   "metadata": {
    "execution": {
     "iopub.execute_input": "2025-07-28T11:06:18.764504Z",
     "iopub.status.busy": "2025-07-28T11:06:18.763949Z",
     "iopub.status.idle": "2025-07-28T11:06:18.771929Z",
     "shell.execute_reply": "2025-07-28T11:06:18.770772Z"
    },
    "papermill": {
     "duration": 0.039147,
     "end_time": "2025-07-28T11:06:18.775725",
     "exception": false,
     "start_time": "2025-07-28T11:06:18.736578",
     "status": "completed"
    },
    "tags": []
   },
   "outputs": [],
   "source": [
    "import numpy as np\n",
    "from sklearn.pipeline import Pipeline\n",
    "from sklearn.preprocessing import StandardScaler\n",
    "\n",
    "model = Pipeline([\n",
    "    #(\"continuous_processor\", continuous_processor),\n",
    "    #(\"categorical_preprocessor\", categorical_preprocessor),\n",
    "    (\"scale\", StandardScaler() if universe[\"scale\"] == \"scale\" else None), \n",
    "    (\"model\", model),\n",
    "])"
   ]
  },
  {
   "cell_type": "code",
   "execution_count": 36,
   "id": "9442c04d",
   "metadata": {
    "execution": {
     "iopub.execute_input": "2025-07-28T11:06:18.862659Z",
     "iopub.status.busy": "2025-07-28T11:06:18.862219Z",
     "iopub.status.idle": "2025-07-28T11:06:33.267370Z",
     "shell.execute_reply": "2025-07-28T11:06:33.266437Z"
    },
    "papermill": {
     "duration": 14.458767,
     "end_time": "2025-07-28T11:06:33.268908",
     "exception": false,
     "start_time": "2025-07-28T11:06:18.810141",
     "status": "completed"
    },
    "tags": []
   },
   "outputs": [
    {
     "data": {
      "text/html": [
       "<style>#sk-container-id-1 {color: black;background-color: white;}#sk-container-id-1 pre{padding: 0;}#sk-container-id-1 div.sk-toggleable {background-color: white;}#sk-container-id-1 label.sk-toggleable__label {cursor: pointer;display: block;width: 100%;margin-bottom: 0;padding: 0.3em;box-sizing: border-box;text-align: center;}#sk-container-id-1 label.sk-toggleable__label-arrow:before {content: \"▸\";float: left;margin-right: 0.25em;color: #696969;}#sk-container-id-1 label.sk-toggleable__label-arrow:hover:before {color: black;}#sk-container-id-1 div.sk-estimator:hover label.sk-toggleable__label-arrow:before {color: black;}#sk-container-id-1 div.sk-toggleable__content {max-height: 0;max-width: 0;overflow: hidden;text-align: left;background-color: #f0f8ff;}#sk-container-id-1 div.sk-toggleable__content pre {margin: 0.2em;color: black;border-radius: 0.25em;background-color: #f0f8ff;}#sk-container-id-1 input.sk-toggleable__control:checked~div.sk-toggleable__content {max-height: 200px;max-width: 100%;overflow: auto;}#sk-container-id-1 input.sk-toggleable__control:checked~label.sk-toggleable__label-arrow:before {content: \"▾\";}#sk-container-id-1 div.sk-estimator input.sk-toggleable__control:checked~label.sk-toggleable__label {background-color: #d4ebff;}#sk-container-id-1 div.sk-label input.sk-toggleable__control:checked~label.sk-toggleable__label {background-color: #d4ebff;}#sk-container-id-1 input.sk-hidden--visually {border: 0;clip: rect(1px 1px 1px 1px);clip: rect(1px, 1px, 1px, 1px);height: 1px;margin: -1px;overflow: hidden;padding: 0;position: absolute;width: 1px;}#sk-container-id-1 div.sk-estimator {font-family: monospace;background-color: #f0f8ff;border: 1px dotted black;border-radius: 0.25em;box-sizing: border-box;margin-bottom: 0.5em;}#sk-container-id-1 div.sk-estimator:hover {background-color: #d4ebff;}#sk-container-id-1 div.sk-parallel-item::after {content: \"\";width: 100%;border-bottom: 1px solid gray;flex-grow: 1;}#sk-container-id-1 div.sk-label:hover label.sk-toggleable__label {background-color: #d4ebff;}#sk-container-id-1 div.sk-serial::before {content: \"\";position: absolute;border-left: 1px solid gray;box-sizing: border-box;top: 0;bottom: 0;left: 50%;z-index: 0;}#sk-container-id-1 div.sk-serial {display: flex;flex-direction: column;align-items: center;background-color: white;padding-right: 0.2em;padding-left: 0.2em;position: relative;}#sk-container-id-1 div.sk-item {position: relative;z-index: 1;}#sk-container-id-1 div.sk-parallel {display: flex;align-items: stretch;justify-content: center;background-color: white;position: relative;}#sk-container-id-1 div.sk-item::before, #sk-container-id-1 div.sk-parallel-item::before {content: \"\";position: absolute;border-left: 1px solid gray;box-sizing: border-box;top: 0;bottom: 0;left: 50%;z-index: -1;}#sk-container-id-1 div.sk-parallel-item {display: flex;flex-direction: column;z-index: 1;position: relative;background-color: white;}#sk-container-id-1 div.sk-parallel-item:first-child::after {align-self: flex-end;width: 50%;}#sk-container-id-1 div.sk-parallel-item:last-child::after {align-self: flex-start;width: 50%;}#sk-container-id-1 div.sk-parallel-item:only-child::after {width: 0;}#sk-container-id-1 div.sk-dashed-wrapped {border: 1px dashed gray;margin: 0 0.4em 0.5em 0.4em;box-sizing: border-box;padding-bottom: 0.4em;background-color: white;}#sk-container-id-1 div.sk-label label {font-family: monospace;font-weight: bold;display: inline-block;line-height: 1.2em;}#sk-container-id-1 div.sk-label-container {text-align: center;}#sk-container-id-1 div.sk-container {/* jupyter's `normalize.less` sets `[hidden] { display: none; }` but bootstrap.min.css set `[hidden] { display: none !important; }` so we also need the `!important` here to be able to override the default hidden behavior on the sphinx rendered scikit-learn.org. See: https://github.com/scikit-learn/scikit-learn/issues/21755 */display: inline-block !important;position: relative;}#sk-container-id-1 div.sk-text-repr-fallback {display: none;}</style><div id=\"sk-container-id-1\" class=\"sk-top-container\"><div class=\"sk-text-repr-fallback\"><pre>Pipeline(steps=[(&#x27;scale&#x27;, None), (&#x27;model&#x27;, RandomForestClassifier(n_jobs=-1))])</pre><b>In a Jupyter environment, please rerun this cell to show the HTML representation or trust the notebook. <br />On GitHub, the HTML representation is unable to render, please try loading this page with nbviewer.org.</b></div><div class=\"sk-container\" hidden><div class=\"sk-item sk-dashed-wrapped\"><div class=\"sk-label-container\"><div class=\"sk-label sk-toggleable\"><input class=\"sk-toggleable__control sk-hidden--visually\" id=\"sk-estimator-id-1\" type=\"checkbox\" ><label for=\"sk-estimator-id-1\" class=\"sk-toggleable__label sk-toggleable__label-arrow\">Pipeline</label><div class=\"sk-toggleable__content\"><pre>Pipeline(steps=[(&#x27;scale&#x27;, None), (&#x27;model&#x27;, RandomForestClassifier(n_jobs=-1))])</pre></div></div></div><div class=\"sk-serial\"><div class=\"sk-item\"><div class=\"sk-estimator sk-toggleable\"><input class=\"sk-toggleable__control sk-hidden--visually\" id=\"sk-estimator-id-2\" type=\"checkbox\" ><label for=\"sk-estimator-id-2\" class=\"sk-toggleable__label sk-toggleable__label-arrow\">None</label><div class=\"sk-toggleable__content\"><pre>None</pre></div></div></div><div class=\"sk-item\"><div class=\"sk-estimator sk-toggleable\"><input class=\"sk-toggleable__control sk-hidden--visually\" id=\"sk-estimator-id-3\" type=\"checkbox\" ><label for=\"sk-estimator-id-3\" class=\"sk-toggleable__label sk-toggleable__label-arrow\">RandomForestClassifier</label><div class=\"sk-toggleable__content\"><pre>RandomForestClassifier(n_jobs=-1)</pre></div></div></div></div></div></div></div>"
      ],
      "text/plain": [
       "Pipeline(steps=[('scale', None), ('model', RandomForestClassifier(n_jobs=-1))])"
      ]
     },
     "execution_count": 36,
     "metadata": {},
     "output_type": "execute_result"
    }
   ],
   "source": [
    "model.fit(X_train, y_train.values.ravel())"
   ]
  },
  {
   "cell_type": "code",
   "execution_count": 37,
   "id": "af59f8c0",
   "metadata": {
    "execution": {
     "iopub.execute_input": "2025-07-28T11:06:33.313284Z",
     "iopub.status.busy": "2025-07-28T11:06:33.312786Z",
     "iopub.status.idle": "2025-07-28T11:06:33.318522Z",
     "shell.execute_reply": "2025-07-28T11:06:33.317553Z"
    },
    "papermill": {
     "duration": 0.032735,
     "end_time": "2025-07-28T11:06:33.320360",
     "exception": false,
     "start_time": "2025-07-28T11:06:33.287625",
     "status": "completed"
    },
    "tags": []
   },
   "outputs": [],
   "source": [
    "from fairness_multiverse.universe import predict_w_threshold"
   ]
  },
  {
   "cell_type": "code",
   "execution_count": 38,
   "id": "a7cf2e16",
   "metadata": {
    "execution": {
     "iopub.execute_input": "2025-07-28T11:06:33.366841Z",
     "iopub.status.busy": "2025-07-28T11:06:33.366357Z",
     "iopub.status.idle": "2025-07-28T11:06:34.893002Z",
     "shell.execute_reply": "2025-07-28T11:06:34.891903Z"
    },
    "papermill": {
     "duration": 1.55451,
     "end_time": "2025-07-28T11:06:34.894776",
     "exception": false,
     "start_time": "2025-07-28T11:06:33.340266",
     "status": "completed"
    },
    "tags": []
   },
   "outputs": [
    {
     "data": {
      "text/plain": [
       "0.8675287036004905"
      ]
     },
     "execution_count": 38,
     "metadata": {},
     "output_type": "execute_result"
    }
   ],
   "source": [
    "probs_test = model.predict_proba(X_test)\n",
    "\n",
    "'''\n",
    "Below code returns a boolean array (or binary 0/1 array depending on how it’s used) where each element \n",
    "is True if the probability of class 1 is greater than or equal to the threshold, and False otherwise.\n",
    "'''\n",
    "y_pred_default = predict_w_threshold(probs_test, 0.5)\n",
    "\n",
    "from sklearn.metrics import accuracy_score\n",
    "\n",
    "# Naive prediction\n",
    "accuracy_score(y_true = y_true, y_pred = y_pred_default)"
   ]
  },
  {
   "cell_type": "code",
   "execution_count": 39,
   "id": "081964c3",
   "metadata": {
    "execution": {
     "iopub.execute_input": "2025-07-28T11:06:34.974740Z",
     "iopub.status.busy": "2025-07-28T11:06:34.974188Z",
     "iopub.status.idle": "2025-07-28T11:06:36.995890Z",
     "shell.execute_reply": "2025-07-28T11:06:36.994690Z"
    },
    "papermill": {
     "duration": 2.049504,
     "end_time": "2025-07-28T11:06:36.998106",
     "exception": false,
     "start_time": "2025-07-28T11:06:34.948602",
     "status": "completed"
    },
    "tags": []
   },
   "outputs": [
    {
     "data": {
      "text/plain": [
       "array([0, 0, 0, ..., 0, 0, 0])"
      ]
     },
     "execution_count": 39,
     "metadata": {},
     "output_type": "execute_result"
    }
   ],
   "source": [
    "model.predict(X_test)"
   ]
  },
  {
   "cell_type": "markdown",
   "id": "56c9705b",
   "metadata": {
    "papermill": {
     "duration": 0.047259,
     "end_time": "2025-07-28T11:06:37.103961",
     "exception": false,
     "start_time": "2025-07-28T11:06:37.056702",
     "status": "completed"
    },
    "tags": []
   },
   "source": [
    "# Conformal Prediction"
   ]
  },
  {
   "cell_type": "code",
   "execution_count": 40,
   "id": "160ec6ff",
   "metadata": {
    "execution": {
     "iopub.execute_input": "2025-07-28T11:06:37.189612Z",
     "iopub.status.busy": "2025-07-28T11:06:37.189148Z",
     "iopub.status.idle": "2025-07-28T11:06:37.195413Z",
     "shell.execute_reply": "2025-07-28T11:06:37.194227Z"
    },
    "papermill": {
     "duration": 0.038207,
     "end_time": "2025-07-28T11:06:37.198989",
     "exception": false,
     "start_time": "2025-07-28T11:06:37.160782",
     "status": "completed"
    },
    "tags": []
   },
   "outputs": [],
   "source": [
    "# Miscoverage level for conformal prediction (10% allowed error rate => 90% target coverage)\n",
    "alpha = 0.1"
   ]
  },
  {
   "cell_type": "code",
   "execution_count": 41,
   "id": "eadf4555-3dd3-440e-8e35-f82a4ad9f855",
   "metadata": {
    "execution": {
     "iopub.execute_input": "2025-07-28T11:06:37.254604Z",
     "iopub.status.busy": "2025-07-28T11:06:37.254149Z",
     "iopub.status.idle": "2025-07-28T11:06:39.290529Z",
     "shell.execute_reply": "2025-07-28T11:06:39.289435Z"
    },
    "papermill": {
     "duration": 2.06644,
     "end_time": "2025-07-28T11:06:39.292537",
     "exception": false,
     "start_time": "2025-07-28T11:06:37.226097",
     "status": "completed"
    },
    "tags": []
   },
   "outputs": [],
   "source": [
    "probs_calib = model.predict_proba(X_calib)"
   ]
  },
  {
   "cell_type": "code",
   "execution_count": 42,
   "id": "2ed93547-6d5d-4983-9b36-1ecb300da49a",
   "metadata": {
    "execution": {
     "iopub.execute_input": "2025-07-28T11:06:39.398458Z",
     "iopub.status.busy": "2025-07-28T11:06:39.397966Z",
     "iopub.status.idle": "2025-07-28T11:06:39.404785Z",
     "shell.execute_reply": "2025-07-28T11:06:39.403649Z"
    },
    "papermill": {
     "duration": 0.061855,
     "end_time": "2025-07-28T11:06:39.406508",
     "exception": false,
     "start_time": "2025-07-28T11:06:39.344653",
     "status": "completed"
    },
    "tags": []
   },
   "outputs": [],
   "source": [
    "y_calib = y_calib.values.ravel().astype(int)"
   ]
  },
  {
   "cell_type": "code",
   "execution_count": 43,
   "id": "65d1320d-f588-4b38-9072-62af1ae97f7d",
   "metadata": {
    "execution": {
     "iopub.execute_input": "2025-07-28T11:06:39.514663Z",
     "iopub.status.busy": "2025-07-28T11:06:39.514254Z",
     "iopub.status.idle": "2025-07-28T11:06:39.522267Z",
     "shell.execute_reply": "2025-07-28T11:06:39.521230Z"
    },
    "papermill": {
     "duration": 0.063214,
     "end_time": "2025-07-28T11:06:39.523861",
     "exception": false,
     "start_time": "2025-07-28T11:06:39.460647",
     "status": "completed"
    },
    "tags": []
   },
   "outputs": [],
   "source": [
    "from fairness_multiverse.conformal import compute_nc_scores\n",
    "\n",
    "# Compute nonconformity scores on calibration set (1 - probability of true class)\n",
    "nc_scores = compute_nc_scores(probs_calib, y_calib)"
   ]
  },
  {
   "cell_type": "code",
   "execution_count": 44,
   "id": "df3b8ca3-53b7-43d5-9667-7c85da7aeda2",
   "metadata": {
    "execution": {
     "iopub.execute_input": "2025-07-28T11:06:39.631089Z",
     "iopub.status.busy": "2025-07-28T11:06:39.630631Z",
     "iopub.status.idle": "2025-07-28T11:06:39.639745Z",
     "shell.execute_reply": "2025-07-28T11:06:39.638518Z"
    },
    "papermill": {
     "duration": 0.064976,
     "end_time": "2025-07-28T11:06:39.641602",
     "exception": false,
     "start_time": "2025-07-28T11:06:39.576626",
     "status": "completed"
    },
    "tags": []
   },
   "outputs": [],
   "source": [
    "from fairness_multiverse.conformal import find_threshold\n",
    "\n",
    "# Find conformal threshold q_hat for the given alpha (split conformal method)\n",
    "q_hat = find_threshold(nc_scores, alpha)"
   ]
  },
  {
   "cell_type": "code",
   "execution_count": 45,
   "id": "4d29e6c1-0ef6-4aa4-b8fe-4fe79b0d033a",
   "metadata": {
    "execution": {
     "iopub.execute_input": "2025-07-28T11:06:39.747066Z",
     "iopub.status.busy": "2025-07-28T11:06:39.746631Z",
     "iopub.status.idle": "2025-07-28T11:06:39.757606Z",
     "shell.execute_reply": "2025-07-28T11:06:39.756605Z"
    },
    "papermill": {
     "duration": 0.067212,
     "end_time": "2025-07-28T11:06:39.759884",
     "exception": false,
     "start_time": "2025-07-28T11:06:39.692672",
     "status": "completed"
    },
    "tags": []
   },
   "outputs": [
    {
     "data": {
      "text/plain": [
       "0.6699999999999999"
      ]
     },
     "execution_count": 45,
     "metadata": {},
     "output_type": "execute_result"
    }
   ],
   "source": [
    "q_hat"
   ]
  },
  {
   "cell_type": "code",
   "execution_count": 46,
   "id": "92460794-cdac-4be2-ba28-f28c0515a6fb",
   "metadata": {
    "execution": {
     "iopub.execute_input": "2025-07-28T11:06:39.871003Z",
     "iopub.status.busy": "2025-07-28T11:06:39.870584Z",
     "iopub.status.idle": "2025-07-28T11:06:42.977385Z",
     "shell.execute_reply": "2025-07-28T11:06:42.976111Z"
    },
    "papermill": {
     "duration": 3.162976,
     "end_time": "2025-07-28T11:06:42.979697",
     "exception": false,
     "start_time": "2025-07-28T11:06:39.816721",
     "status": "completed"
    },
    "tags": []
   },
   "outputs": [],
   "source": [
    "from fairness_multiverse.conformal import predict_conformal_sets\n",
    "\n",
    "# Generate prediction sets for each test example\n",
    "pred_sets = predict_conformal_sets(model, X_test, q_hat)"
   ]
  },
  {
   "cell_type": "code",
   "execution_count": 47,
   "id": "d90c9a65-e6db-4f5d-80cd-e68fb7e46829",
   "metadata": {
    "execution": {
     "iopub.execute_input": "2025-07-28T11:06:43.074973Z",
     "iopub.status.busy": "2025-07-28T11:06:43.074533Z",
     "iopub.status.idle": "2025-07-28T11:06:43.082208Z",
     "shell.execute_reply": "2025-07-28T11:06:43.081088Z"
    },
    "papermill": {
     "duration": 0.063706,
     "end_time": "2025-07-28T11:06:43.084387",
     "exception": false,
     "start_time": "2025-07-28T11:06:43.020681",
     "status": "completed"
    },
    "tags": []
   },
   "outputs": [],
   "source": [
    "y_true = y_true.squeeze()"
   ]
  },
  {
   "cell_type": "code",
   "execution_count": 48,
   "id": "3a58a54a-1e68-46b9-927a-df01f18aebc8",
   "metadata": {
    "execution": {
     "iopub.execute_input": "2025-07-28T11:06:43.148455Z",
     "iopub.status.busy": "2025-07-28T11:06:43.148016Z",
     "iopub.status.idle": "2025-07-28T11:06:44.659131Z",
     "shell.execute_reply": "2025-07-28T11:06:44.649085Z"
    },
    "papermill": {
     "duration": 1.550297,
     "end_time": "2025-07-28T11:06:44.661688",
     "exception": false,
     "start_time": "2025-07-28T11:06:43.111391",
     "status": "completed"
    },
    "tags": []
   },
   "outputs": [],
   "source": [
    "from fairness_multiverse.conformal import evaluate_sets\n",
    "\n",
    "# Evaluate coverage and average set size on test data\n",
    "metrics = evaluate_sets(pred_sets, y_true)"
   ]
  },
  {
   "cell_type": "markdown",
   "id": "2b569c12-9aaa-4c88-98c9-bbcd0cf3ebb8",
   "metadata": {
    "papermill": {
     "duration": 0.051895,
     "end_time": "2025-07-28T11:06:44.776576",
     "exception": false,
     "start_time": "2025-07-28T11:06:44.724681",
     "status": "completed"
    },
    "tags": []
   },
   "source": [
    "# CP Metrics"
   ]
  },
  {
   "cell_type": "code",
   "execution_count": 49,
   "id": "5ce0a5cb-201f-45a0-ade5-94c7f0bd6095",
   "metadata": {
    "execution": {
     "iopub.execute_input": "2025-07-28T11:06:44.883098Z",
     "iopub.status.busy": "2025-07-28T11:06:44.882634Z",
     "iopub.status.idle": "2025-07-28T11:06:44.890884Z",
     "shell.execute_reply": "2025-07-28T11:06:44.889764Z"
    },
    "papermill": {
     "duration": 0.063961,
     "end_time": "2025-07-28T11:06:44.892609",
     "exception": false,
     "start_time": "2025-07-28T11:06:44.828648",
     "status": "completed"
    },
    "tags": []
   },
   "outputs": [
    {
     "data": {
      "text/plain": [
       "{'coverage': 0.9194069780403522, 'avg_size': 1.1543194738602163}"
      ]
     },
     "execution_count": 49,
     "metadata": {},
     "output_type": "execute_result"
    }
   ],
   "source": [
    "metrics"
   ]
  },
  {
   "cell_type": "code",
   "execution_count": 50,
   "id": "9b9a838d-31c9-430b-ae14-12baee460d17",
   "metadata": {
    "execution": {
     "iopub.execute_input": "2025-07-28T11:06:45.003424Z",
     "iopub.status.busy": "2025-07-28T11:06:45.002987Z",
     "iopub.status.idle": "2025-07-28T11:06:45.011706Z",
     "shell.execute_reply": "2025-07-28T11:06:45.010647Z"
    },
    "papermill": {
     "duration": 0.06753,
     "end_time": "2025-07-28T11:06:45.013348",
     "exception": false,
     "start_time": "2025-07-28T11:06:44.945818",
     "status": "completed"
    },
    "tags": []
   },
   "outputs": [],
   "source": [
    "example_universe = universe.copy()\n",
    "universe_training_size = example_universe.get(\"training_size\")\n",
    "universe_scale = example_universe.get(\"scale\")\n",
    "universe_model = example_universe.get(\"model\")\n",
    "universe_exclude_features = example_universe.get(\"exclude_features\")\n",
    "universe_exclude_subgroups = example_universe.get(\"exclude_subgroups\")"
   ]
  },
  {
   "cell_type": "code",
   "execution_count": 51,
   "id": "f4b6a8ac-9dc0-4245-8a91-5b3b5999c4f9",
   "metadata": {
    "execution": {
     "iopub.execute_input": "2025-07-28T11:06:45.147002Z",
     "iopub.status.busy": "2025-07-28T11:06:45.146501Z",
     "iopub.status.idle": "2025-07-28T11:06:45.155311Z",
     "shell.execute_reply": "2025-07-28T11:06:45.154345Z"
    },
    "papermill": {
     "duration": 0.076587,
     "end_time": "2025-07-28T11:06:45.157314",
     "exception": false,
     "start_time": "2025-07-28T11:06:45.080727",
     "status": "completed"
    },
    "tags": []
   },
   "outputs": [],
   "source": [
    "cp_metrics_dict = {\n",
    "    \"universe_id\": [universe_id],\n",
    "    \"universe_training_size\": [universe_training_size],\n",
    "    \"universe_scale\": [universe_scale],\n",
    "    \"universe_model\": [universe_model],\n",
    "    \"universe_exclude_features\": [universe_exclude_features],\n",
    "    \"universe_exclude_subgroups\": [universe_exclude_subgroups],\n",
    "    \"q_hat\": [q_hat],\n",
    "    \"coverage\": [metrics[\"coverage\"]],\n",
    "    \"avg_size\": [metrics[\"avg_size\"]],\n",
    "}"
   ]
  },
  {
   "cell_type": "code",
   "execution_count": 52,
   "id": "908acbb1-0371-4915-85ca-3fa520d2efe2",
   "metadata": {
    "execution": {
     "iopub.execute_input": "2025-07-28T11:06:45.275364Z",
     "iopub.status.busy": "2025-07-28T11:06:45.274872Z",
     "iopub.status.idle": "2025-07-28T11:06:45.285106Z",
     "shell.execute_reply": "2025-07-28T11:06:45.283545Z"
    },
    "papermill": {
     "duration": 0.074259,
     "end_time": "2025-07-28T11:06:45.286998",
     "exception": false,
     "start_time": "2025-07-28T11:06:45.212739",
     "status": "completed"
    },
    "tags": []
   },
   "outputs": [
    {
     "data": {
      "text/plain": [
       "{'universe_id': ['6b61b0480e3fb6868b0efef3a9056b3b'],\n",
       " 'universe_training_size': ['2014'],\n",
       " 'universe_scale': ['do-not-scale'],\n",
       " 'universe_model': ['rf'],\n",
       " 'universe_exclude_features': ['sex'],\n",
       " 'universe_exclude_subgroups': ['drop-non-german'],\n",
       " 'q_hat': [0.6699999999999999],\n",
       " 'coverage': [0.9194069780403522],\n",
       " 'avg_size': [1.1543194738602163]}"
      ]
     },
     "execution_count": 52,
     "metadata": {},
     "output_type": "execute_result"
    }
   ],
   "source": [
    "cp_metrics_dict"
   ]
  },
  {
   "cell_type": "code",
   "execution_count": 53,
   "id": "33007efc-14e9-4ec6-97ac-56a455c82265",
   "metadata": {
    "execution": {
     "iopub.execute_input": "2025-07-28T11:06:45.398962Z",
     "iopub.status.busy": "2025-07-28T11:06:45.398478Z",
     "iopub.status.idle": "2025-07-28T11:06:45.405863Z",
     "shell.execute_reply": "2025-07-28T11:06:45.404728Z"
    },
    "papermill": {
     "duration": 0.066692,
     "end_time": "2025-07-28T11:06:45.407589",
     "exception": false,
     "start_time": "2025-07-28T11:06:45.340897",
     "status": "completed"
    },
    "tags": []
   },
   "outputs": [],
   "source": [
    "cp_metrics_df = pd.DataFrame(cp_metrics_dict)"
   ]
  },
  {
   "cell_type": "code",
   "execution_count": 54,
   "id": "db12611b-57b2-4910-b9d0-355adfd6e7bf",
   "metadata": {
    "execution": {
     "iopub.execute_input": "2025-07-28T11:06:45.511186Z",
     "iopub.status.busy": "2025-07-28T11:06:45.510773Z",
     "iopub.status.idle": "2025-07-28T11:06:45.540738Z",
     "shell.execute_reply": "2025-07-28T11:06:45.539742Z"
    },
    "papermill": {
     "duration": 0.079096,
     "end_time": "2025-07-28T11:06:45.542699",
     "exception": false,
     "start_time": "2025-07-28T11:06:45.463603",
     "status": "completed"
    },
    "tags": []
   },
   "outputs": [
    {
     "data": {
      "text/html": [
       "<div>\n",
       "<style scoped>\n",
       "    .dataframe tbody tr th:only-of-type {\n",
       "        vertical-align: middle;\n",
       "    }\n",
       "\n",
       "    .dataframe tbody tr th {\n",
       "        vertical-align: top;\n",
       "    }\n",
       "\n",
       "    .dataframe thead th {\n",
       "        text-align: right;\n",
       "    }\n",
       "</style>\n",
       "<table border=\"1\" class=\"dataframe\">\n",
       "  <thead>\n",
       "    <tr style=\"text-align: right;\">\n",
       "      <th></th>\n",
       "      <th>universe_id</th>\n",
       "      <th>universe_training_size</th>\n",
       "      <th>universe_scale</th>\n",
       "      <th>universe_model</th>\n",
       "      <th>universe_exclude_features</th>\n",
       "      <th>universe_exclude_subgroups</th>\n",
       "      <th>q_hat</th>\n",
       "      <th>coverage</th>\n",
       "      <th>avg_size</th>\n",
       "    </tr>\n",
       "  </thead>\n",
       "  <tbody>\n",
       "    <tr>\n",
       "      <th>0</th>\n",
       "      <td>6b61b0480e3fb6868b0efef3a9056b3b</td>\n",
       "      <td>2014</td>\n",
       "      <td>do-not-scale</td>\n",
       "      <td>rf</td>\n",
       "      <td>sex</td>\n",
       "      <td>drop-non-german</td>\n",
       "      <td>0.67</td>\n",
       "      <td>0.919407</td>\n",
       "      <td>1.154319</td>\n",
       "    </tr>\n",
       "  </tbody>\n",
       "</table>\n",
       "</div>"
      ],
      "text/plain": [
       "                        universe_id universe_training_size universe_scale  \\\n",
       "0  6b61b0480e3fb6868b0efef3a9056b3b                   2014   do-not-scale   \n",
       "\n",
       "  universe_model universe_exclude_features universe_exclude_subgroups  q_hat  \\\n",
       "0             rf                       sex            drop-non-german   0.67   \n",
       "\n",
       "   coverage  avg_size  \n",
       "0  0.919407  1.154319  "
      ]
     },
     "execution_count": 54,
     "metadata": {},
     "output_type": "execute_result"
    }
   ],
   "source": [
    "cp_metrics_df"
   ]
  },
  {
   "cell_type": "code",
   "execution_count": 55,
   "id": "b7fbde55-a0a1-47e4-9af6-fe4a17fa8c61",
   "metadata": {
    "execution": {
     "iopub.execute_input": "2025-07-28T11:06:45.650988Z",
     "iopub.status.busy": "2025-07-28T11:06:45.650555Z",
     "iopub.status.idle": "2025-07-28T11:06:45.657404Z",
     "shell.execute_reply": "2025-07-28T11:06:45.656304Z"
    },
    "papermill": {
     "duration": 0.062951,
     "end_time": "2025-07-28T11:06:45.659514",
     "exception": false,
     "start_time": "2025-07-28T11:06:45.596563",
     "status": "completed"
    },
    "tags": []
   },
   "outputs": [],
   "source": [
    "# Conditional Coverage & looking at subgroups"
   ]
  },
  {
   "cell_type": "code",
   "execution_count": 56,
   "id": "027ae886-68dd-4141-96c7-805a5450e1ef",
   "metadata": {
    "execution": {
     "iopub.execute_input": "2025-07-28T11:06:45.762771Z",
     "iopub.status.busy": "2025-07-28T11:06:45.762332Z",
     "iopub.status.idle": "2025-07-28T11:06:46.254479Z",
     "shell.execute_reply": "2025-07-28T11:06:46.253351Z"
    },
    "papermill": {
     "duration": 0.550372,
     "end_time": "2025-07-28T11:06:46.256834",
     "exception": false,
     "start_time": "2025-07-28T11:06:45.706462",
     "status": "completed"
    },
    "tags": []
   },
   "outputs": [],
   "source": [
    "from fairness_multiverse.conformal import build_cp_groups\n",
    "\n",
    "cp_groups_df = build_cp_groups(pred_sets, y_true, X_test.index, org_test)\n",
    "#needs universe_id and setting"
   ]
  },
  {
   "cell_type": "code",
   "execution_count": 57,
   "id": "01d5802c-663a-4d1f-9d69-e036faaffbf7",
   "metadata": {
    "execution": {
     "iopub.execute_input": "2025-07-28T11:06:46.430309Z",
     "iopub.status.busy": "2025-07-28T11:06:46.429839Z",
     "iopub.status.idle": "2025-07-28T11:06:46.435189Z",
     "shell.execute_reply": "2025-07-28T11:06:46.434297Z"
    },
    "papermill": {
     "duration": 0.102468,
     "end_time": "2025-07-28T11:06:46.437021",
     "exception": false,
     "start_time": "2025-07-28T11:06:46.334553",
     "status": "completed"
    },
    "tags": []
   },
   "outputs": [],
   "source": [
    "#delete\n",
    "#cp_groups_df"
   ]
  },
  {
   "cell_type": "code",
   "execution_count": 58,
   "id": "fa424af1-d1eb-443d-b717-2d279ada8408",
   "metadata": {
    "execution": {
     "iopub.execute_input": "2025-07-28T11:06:46.573332Z",
     "iopub.status.busy": "2025-07-28T11:06:46.572953Z",
     "iopub.status.idle": "2025-07-28T11:06:46.578203Z",
     "shell.execute_reply": "2025-07-28T11:06:46.577149Z"
    },
    "papermill": {
     "duration": 0.0638,
     "end_time": "2025-07-28T11:06:46.580099",
     "exception": false,
     "start_time": "2025-07-28T11:06:46.516299",
     "status": "completed"
    },
    "tags": []
   },
   "outputs": [],
   "source": [
    "#delete\n",
    "#percentage = (cp_groups_df['nongerman_female'] == 1).mean() * 100\n",
    "#print(percentage)\n"
   ]
  },
  {
   "cell_type": "code",
   "execution_count": 59,
   "id": "6cbdab96-b2b2-45af-ad54-d0516db2e28d",
   "metadata": {
    "execution": {
     "iopub.execute_input": "2025-07-28T11:06:46.722258Z",
     "iopub.status.busy": "2025-07-28T11:06:46.721843Z",
     "iopub.status.idle": "2025-07-28T11:06:48.959361Z",
     "shell.execute_reply": "2025-07-28T11:06:48.958161Z"
    },
    "papermill": {
     "duration": 2.308623,
     "end_time": "2025-07-28T11:06:48.961296",
     "exception": false,
     "start_time": "2025-07-28T11:06:46.652673",
     "status": "completed"
    },
    "tags": []
   },
   "outputs": [],
   "source": [
    "# Define covered = 1 if true_label is in the predicted set\n",
    "cp_groups_df['covered'] = cp_groups_df.apply(\n",
    "    lambda r: int(r['true_label'] in r['pred_set']),\n",
    "    axis=1\n",
    ")"
   ]
  },
  {
   "cell_type": "code",
   "execution_count": 60,
   "id": "338ff529-1a6b-4b87-a931-8e4788d52aad",
   "metadata": {
    "execution": {
     "iopub.execute_input": "2025-07-28T11:06:49.071008Z",
     "iopub.status.busy": "2025-07-28T11:06:49.069930Z",
     "iopub.status.idle": "2025-07-28T11:06:49.076218Z",
     "shell.execute_reply": "2025-07-28T11:06:49.075071Z"
    },
    "papermill": {
     "duration": 0.060176,
     "end_time": "2025-07-28T11:06:49.078080",
     "exception": false,
     "start_time": "2025-07-28T11:06:49.017904",
     "status": "completed"
    },
    "tags": []
   },
   "outputs": [],
   "source": [
    "#cp_groups_df"
   ]
  },
  {
   "cell_type": "code",
   "execution_count": 61,
   "id": "90032e27-66df-4540-9169-4e89cfbaa758",
   "metadata": {
    "execution": {
     "iopub.execute_input": "2025-07-28T11:06:49.186827Z",
     "iopub.status.busy": "2025-07-28T11:06:49.186386Z",
     "iopub.status.idle": "2025-07-28T11:06:49.207265Z",
     "shell.execute_reply": "2025-07-28T11:06:49.205962Z"
    },
    "papermill": {
     "duration": 0.074298,
     "end_time": "2025-07-28T11:06:49.209396",
     "exception": false,
     "start_time": "2025-07-28T11:06:49.135098",
     "status": "completed"
    },
    "tags": []
   },
   "outputs": [],
   "source": [
    "subgroups = ['frau1','nongerman','nongerman_male','nongerman_female']\n",
    "\n",
    "# Conditional coverage for subgroup==1\n",
    "cond_coverage = {\n",
    "    g: cp_groups_df.loc[cp_groups_df[g]==1, 'covered'].mean()\n",
    "    for g in subgroups\n",
    "}"
   ]
  },
  {
   "cell_type": "code",
   "execution_count": 62,
   "id": "1e348fb1-b9c3-45bc-ba23-f016827a7e0d",
   "metadata": {
    "execution": {
     "iopub.execute_input": "2025-07-28T11:06:49.312090Z",
     "iopub.status.busy": "2025-07-28T11:06:49.311641Z",
     "iopub.status.idle": "2025-07-28T11:06:49.319434Z",
     "shell.execute_reply": "2025-07-28T11:06:49.318457Z"
    },
    "papermill": {
     "duration": 0.065104,
     "end_time": "2025-07-28T11:06:49.329240",
     "exception": false,
     "start_time": "2025-07-28T11:06:49.264136",
     "status": "completed"
    },
    "tags": []
   },
   "outputs": [
    {
     "data": {
      "text/plain": [
       "{'frau1': 0.919423102844049,\n",
       " 'nongerman': 0.9147252006961208,\n",
       " 'nongerman_male': 0.9279474016031704,\n",
       " 'nongerman_female': 0.8928464977645305}"
      ]
     },
     "execution_count": 62,
     "metadata": {},
     "output_type": "execute_result"
    }
   ],
   "source": [
    "cond_coverage"
   ]
  },
  {
   "cell_type": "code",
   "execution_count": 63,
   "id": "f5093324-c3dd-4d63-bc4c-8d945e5c8bbb",
   "metadata": {
    "execution": {
     "iopub.execute_input": "2025-07-28T11:06:49.427326Z",
     "iopub.status.busy": "2025-07-28T11:06:49.426793Z",
     "iopub.status.idle": "2025-07-28T11:06:49.435127Z",
     "shell.execute_reply": "2025-07-28T11:06:49.434063Z"
    },
    "papermill": {
     "duration": 0.044499,
     "end_time": "2025-07-28T11:06:49.437191",
     "exception": false,
     "start_time": "2025-07-28T11:06:49.392692",
     "status": "completed"
    },
    "tags": []
   },
   "outputs": [],
   "source": [
    "for subgroup, cov in cond_coverage.items():\n",
    "    cp_metrics_df[f\"cov_{subgroup}\"] = cov"
   ]
  },
  {
   "cell_type": "code",
   "execution_count": 64,
   "id": "6e872e10-dbe5-49e8-b554-5030c98ff75d",
   "metadata": {
    "execution": {
     "iopub.execute_input": "2025-07-28T11:06:49.612462Z",
     "iopub.status.busy": "2025-07-28T11:06:49.611287Z",
     "iopub.status.idle": "2025-07-28T11:06:49.650885Z",
     "shell.execute_reply": "2025-07-28T11:06:49.649756Z"
    },
    "papermill": {
     "duration": 0.113754,
     "end_time": "2025-07-28T11:06:49.653065",
     "exception": false,
     "start_time": "2025-07-28T11:06:49.539311",
     "status": "completed"
    },
    "tags": []
   },
   "outputs": [
    {
     "data": {
      "text/html": [
       "<div>\n",
       "<style scoped>\n",
       "    .dataframe tbody tr th:only-of-type {\n",
       "        vertical-align: middle;\n",
       "    }\n",
       "\n",
       "    .dataframe tbody tr th {\n",
       "        vertical-align: top;\n",
       "    }\n",
       "\n",
       "    .dataframe thead th {\n",
       "        text-align: right;\n",
       "    }\n",
       "</style>\n",
       "<table border=\"1\" class=\"dataframe\">\n",
       "  <thead>\n",
       "    <tr style=\"text-align: right;\">\n",
       "      <th></th>\n",
       "      <th>universe_id</th>\n",
       "      <th>universe_training_size</th>\n",
       "      <th>universe_scale</th>\n",
       "      <th>universe_model</th>\n",
       "      <th>universe_exclude_features</th>\n",
       "      <th>universe_exclude_subgroups</th>\n",
       "      <th>q_hat</th>\n",
       "      <th>coverage</th>\n",
       "      <th>avg_size</th>\n",
       "      <th>cov_frau1</th>\n",
       "      <th>cov_nongerman</th>\n",
       "      <th>cov_nongerman_male</th>\n",
       "      <th>cov_nongerman_female</th>\n",
       "    </tr>\n",
       "  </thead>\n",
       "  <tbody>\n",
       "    <tr>\n",
       "      <th>0</th>\n",
       "      <td>6b61b0480e3fb6868b0efef3a9056b3b</td>\n",
       "      <td>2014</td>\n",
       "      <td>do-not-scale</td>\n",
       "      <td>rf</td>\n",
       "      <td>sex</td>\n",
       "      <td>drop-non-german</td>\n",
       "      <td>0.67</td>\n",
       "      <td>0.919407</td>\n",
       "      <td>1.154319</td>\n",
       "      <td>0.919423</td>\n",
       "      <td>0.914725</td>\n",
       "      <td>0.927947</td>\n",
       "      <td>0.892846</td>\n",
       "    </tr>\n",
       "  </tbody>\n",
       "</table>\n",
       "</div>"
      ],
      "text/plain": [
       "                        universe_id universe_training_size universe_scale  \\\n",
       "0  6b61b0480e3fb6868b0efef3a9056b3b                   2014   do-not-scale   \n",
       "\n",
       "  universe_model universe_exclude_features universe_exclude_subgroups  q_hat  \\\n",
       "0             rf                       sex            drop-non-german   0.67   \n",
       "\n",
       "   coverage  avg_size  cov_frau1  cov_nongerman  cov_nongerman_male  \\\n",
       "0  0.919407  1.154319   0.919423       0.914725            0.927947   \n",
       "\n",
       "   cov_nongerman_female  \n",
       "0              0.892846  "
      ]
     },
     "execution_count": 64,
     "metadata": {},
     "output_type": "execute_result"
    }
   ],
   "source": [
    "cp_metrics_df"
   ]
  },
  {
   "cell_type": "markdown",
   "id": "33774451",
   "metadata": {
    "papermill": {
     "duration": 0.013833,
     "end_time": "2025-07-28T11:06:49.694272",
     "exception": false,
     "start_time": "2025-07-28T11:06:49.680439",
     "status": "completed"
    },
    "tags": []
   },
   "source": [
    "# (Fairness) Metrics"
   ]
  },
  {
   "cell_type": "code",
   "execution_count": 65,
   "id": "debc5d62",
   "metadata": {
    "execution": {
     "iopub.execute_input": "2025-07-28T11:06:49.739062Z",
     "iopub.status.busy": "2025-07-28T11:06:49.738544Z",
     "iopub.status.idle": "2025-07-28T11:06:49.762122Z",
     "shell.execute_reply": "2025-07-28T11:06:49.761185Z"
    },
    "papermill": {
     "duration": 0.053341,
     "end_time": "2025-07-28T11:06:49.763945",
     "exception": false,
     "start_time": "2025-07-28T11:06:49.710604",
     "status": "completed"
    },
    "tags": []
   },
   "outputs": [],
   "source": [
    "# do I need to include maxdeutsch1.missing?\n",
    "\n",
    "import numpy as np\n",
    "\n",
    "colname_to_bin = \"maxdeutsch1\"\n",
    "majority_value = org_train[colname_to_bin].mode()[0]\n",
    "\n",
    "org_test[\"majmin\"] = np.where(org_test[colname_to_bin] == majority_value, \"majority\", \"minority\")"
   ]
  },
  {
   "cell_type": "code",
   "execution_count": 66,
   "id": "06a50de5",
   "metadata": {
    "execution": {
     "iopub.execute_input": "2025-07-28T11:06:49.818953Z",
     "iopub.status.busy": "2025-07-28T11:06:49.818213Z",
     "iopub.status.idle": "2025-07-28T11:06:53.217277Z",
     "shell.execute_reply": "2025-07-28T11:06:53.216102Z"
    },
    "papermill": {
     "duration": 3.429881,
     "end_time": "2025-07-28T11:06:53.219668",
     "exception": false,
     "start_time": "2025-07-28T11:06:49.789787",
     "status": "completed"
    },
    "tags": []
   },
   "outputs": [],
   "source": [
    "example_universe = universe.copy()\n",
    "example_universe[\"cutoff\"] = example_universe[\"cutoff\"][0]\n",
    "example_universe[\"eval_fairness_grouping\"] = example_universe[\"eval_fairness_grouping\"][0]\n",
    "fairness_dict, metric_frame = universe_analysis.compute_metrics(\n",
    "    example_universe,\n",
    "    y_pred_prob=probs_test,\n",
    "    y_test=y_true,\n",
    "    org_test=org_test,\n",
    ")"
   ]
  },
  {
   "cell_type": "markdown",
   "id": "f95d4e02",
   "metadata": {
    "papermill": {
     "duration": 0.108408,
     "end_time": "2025-07-28T11:06:53.404722",
     "exception": false,
     "start_time": "2025-07-28T11:06:53.296314",
     "status": "completed"
    },
    "tags": []
   },
   "source": [
    "# Overall"
   ]
  },
  {
   "cell_type": "markdown",
   "id": "bdee4871",
   "metadata": {
    "papermill": {
     "duration": 0.087652,
     "end_time": "2025-07-28T11:06:53.549390",
     "exception": false,
     "start_time": "2025-07-28T11:06:53.461738",
     "status": "completed"
    },
    "tags": []
   },
   "source": [
    "Fairness\n",
    "Main fairness target: Equalized Odds. Seems to be a better fit than equal opportunity, since we're not only interested in Y = 1. Seems to be a better fit than demographic parity, since we also care about accuracy, not just equal distribution of preds.\n",
    "\n",
    "Pick column for computation of fairness metrics\n",
    "\n",
    "Performance\n",
    "Overall performance measures, most interesting in relation to the measures split by group below"
   ]
  },
  {
   "cell_type": "code",
   "execution_count": 67,
   "id": "c4e067c6",
   "metadata": {
    "execution": {
     "iopub.execute_input": "2025-07-28T11:06:53.651087Z",
     "iopub.status.busy": "2025-07-28T11:06:53.650542Z",
     "iopub.status.idle": "2025-07-28T11:06:53.660295Z",
     "shell.execute_reply": "2025-07-28T11:06:53.659264Z"
    },
    "papermill": {
     "duration": 0.062267,
     "end_time": "2025-07-28T11:06:53.667412",
     "exception": false,
     "start_time": "2025-07-28T11:06:53.605145",
     "status": "completed"
    },
    "tags": []
   },
   "outputs": [
    {
     "data": {
      "text/plain": [
       "accuracy                   0.211337\n",
       "balanced accuracy          0.536560\n",
       "f1                         0.240617\n",
       "precision                  0.137263\n",
       "false positive rate        0.900898\n",
       "false negative rate        0.025982\n",
       "selection rate             0.910278\n",
       "count                  89710.000000\n",
       "dtype: float64"
      ]
     },
     "execution_count": 67,
     "metadata": {},
     "output_type": "execute_result"
    }
   ],
   "source": [
    "metric_frame.overall"
   ]
  },
  {
   "cell_type": "markdown",
   "id": "e968fe9d",
   "metadata": {
    "papermill": {
     "duration": 0.068954,
     "end_time": "2025-07-28T11:06:53.817630",
     "exception": false,
     "start_time": "2025-07-28T11:06:53.748676",
     "status": "completed"
    },
    "tags": []
   },
   "source": [
    "By Group"
   ]
  },
  {
   "cell_type": "code",
   "execution_count": 68,
   "id": "ec325bce",
   "metadata": {
    "execution": {
     "iopub.execute_input": "2025-07-28T11:06:53.915465Z",
     "iopub.status.busy": "2025-07-28T11:06:53.915002Z",
     "iopub.status.idle": "2025-07-28T11:06:53.949243Z",
     "shell.execute_reply": "2025-07-28T11:06:53.948090Z"
    },
    "papermill": {
     "duration": 0.081128,
     "end_time": "2025-07-28T11:06:53.957869",
     "exception": false,
     "start_time": "2025-07-28T11:06:53.876741",
     "status": "completed"
    },
    "tags": []
   },
   "outputs": [
    {
     "data": {
      "text/html": [
       "<div>\n",
       "<style scoped>\n",
       "    .dataframe tbody tr th:only-of-type {\n",
       "        vertical-align: middle;\n",
       "    }\n",
       "\n",
       "    .dataframe tbody tr th {\n",
       "        vertical-align: top;\n",
       "    }\n",
       "\n",
       "    .dataframe thead th {\n",
       "        text-align: right;\n",
       "    }\n",
       "</style>\n",
       "<table border=\"1\" class=\"dataframe\">\n",
       "  <thead>\n",
       "    <tr style=\"text-align: right;\">\n",
       "      <th></th>\n",
       "      <th>accuracy</th>\n",
       "      <th>balanced accuracy</th>\n",
       "      <th>f1</th>\n",
       "      <th>precision</th>\n",
       "      <th>false positive rate</th>\n",
       "      <th>false negative rate</th>\n",
       "      <th>selection rate</th>\n",
       "      <th>count</th>\n",
       "    </tr>\n",
       "    <tr>\n",
       "      <th>majmin</th>\n",
       "      <th></th>\n",
       "      <th></th>\n",
       "      <th></th>\n",
       "      <th></th>\n",
       "      <th></th>\n",
       "      <th></th>\n",
       "      <th></th>\n",
       "      <th></th>\n",
       "    </tr>\n",
       "  </thead>\n",
       "  <tbody>\n",
       "    <tr>\n",
       "      <th>majority</th>\n",
       "      <td>0.201099</td>\n",
       "      <td>0.535927</td>\n",
       "      <td>0.246893</td>\n",
       "      <td>0.141011</td>\n",
       "      <td>0.919174</td>\n",
       "      <td>0.008972</td>\n",
       "      <td>0.928668</td>\n",
       "      <td>69170.0</td>\n",
       "    </tr>\n",
       "    <tr>\n",
       "      <th>minority</th>\n",
       "      <td>0.245813</td>\n",
       "      <td>0.533919</td>\n",
       "      <td>0.217350</td>\n",
       "      <td>0.123443</td>\n",
       "      <td>0.840524</td>\n",
       "      <td>0.091639</td>\n",
       "      <td>0.848345</td>\n",
       "      <td>20540.0</td>\n",
       "    </tr>\n",
       "  </tbody>\n",
       "</table>\n",
       "</div>"
      ],
      "text/plain": [
       "          accuracy  balanced accuracy        f1  precision  \\\n",
       "majmin                                                       \n",
       "majority  0.201099           0.535927  0.246893   0.141011   \n",
       "minority  0.245813           0.533919  0.217350   0.123443   \n",
       "\n",
       "          false positive rate  false negative rate  selection rate    count  \n",
       "majmin                                                                       \n",
       "majority             0.919174             0.008972        0.928668  69170.0  \n",
       "minority             0.840524             0.091639        0.848345  20540.0  "
      ]
     },
     "execution_count": 68,
     "metadata": {},
     "output_type": "execute_result"
    }
   ],
   "source": [
    "metric_frame.by_group"
   ]
  },
  {
   "cell_type": "code",
   "execution_count": 69,
   "id": "a9ddbe63",
   "metadata": {
    "execution": {
     "iopub.execute_input": "2025-07-28T11:06:54.070536Z",
     "iopub.status.busy": "2025-07-28T11:06:54.070157Z",
     "iopub.status.idle": "2025-07-28T11:06:57.374166Z",
     "shell.execute_reply": "2025-07-28T11:06:57.372960Z"
    },
    "papermill": {
     "duration": 3.369916,
     "end_time": "2025-07-28T11:06:57.376641",
     "exception": false,
     "start_time": "2025-07-28T11:06:54.006725",
     "status": "completed"
    },
    "tags": []
   },
   "outputs": [
    {
     "data": {
      "text/plain": [
       "array([[<Axes: title={'center': 'accuracy'}, xlabel='majmin'>,\n",
       "        <Axes: title={'center': 'balanced accuracy'}, xlabel='majmin'>,\n",
       "        <Axes: title={'center': 'f1'}, xlabel='majmin'>],\n",
       "       [<Axes: title={'center': 'precision'}, xlabel='majmin'>,\n",
       "        <Axes: title={'center': 'false positive rate'}, xlabel='majmin'>,\n",
       "        <Axes: title={'center': 'false negative rate'}, xlabel='majmin'>],\n",
       "       [<Axes: title={'center': 'selection rate'}, xlabel='majmin'>,\n",
       "        <Axes: title={'center': 'count'}, xlabel='majmin'>,\n",
       "        <Axes: xlabel='majmin'>]], dtype=object)"
      ]
     },
     "execution_count": 69,
     "metadata": {},
     "output_type": "execute_result"
    },
    {
     "data": {
      "image/png": "[encoded data removed]",
      "text/plain": [
       "<Figure size 1200x800 with 9 Axes>"
      ]
     },
     "metadata": {},
     "output_type": "display_data"
    }
   ],
   "source": [
    "# In a graphic\n",
    "metric_frame.by_group.plot.bar(\n",
    "    subplots=True,\n",
    "    layout=[3, 3],\n",
    "    legend=False,\n",
    "    figsize=[12, 8],\n",
    "    title=\"Show all metrics\",\n",
    ")"
   ]
  },
  {
   "cell_type": "markdown",
   "id": "f57a0bac",
   "metadata": {
    "papermill": {
     "duration": 0.028214,
     "end_time": "2025-07-28T11:06:57.436076",
     "exception": false,
     "start_time": "2025-07-28T11:06:57.407862",
     "status": "completed"
    },
    "tags": []
   },
   "source": [
    "# Final Output"
   ]
  },
  {
   "cell_type": "code",
   "execution_count": 70,
   "id": "96d280a3",
   "metadata": {
    "execution": {
     "iopub.execute_input": "2025-07-28T11:06:57.495355Z",
     "iopub.status.busy": "2025-07-28T11:06:57.494652Z",
     "iopub.status.idle": "2025-07-28T11:06:57.503369Z",
     "shell.execute_reply": "2025-07-28T11:06:57.502229Z"
    },
    "papermill": {
     "duration": 0.043045,
     "end_time": "2025-07-28T11:06:57.507652",
     "exception": false,
     "start_time": "2025-07-28T11:06:57.464607",
     "status": "completed"
    },
    "tags": []
   },
   "outputs": [
    {
     "data": {
      "text/plain": [
       "4"
      ]
     },
     "execution_count": 70,
     "metadata": {},
     "output_type": "execute_result"
    }
   ],
   "source": [
    "sub_universes = universe_analysis.generate_sub_universes()\n",
    "len(sub_universes)"
   ]
  },
  {
   "cell_type": "code",
   "execution_count": 71,
   "id": "92adf7ba",
   "metadata": {
    "execution": {
     "iopub.execute_input": "2025-07-28T11:06:57.566661Z",
     "iopub.status.busy": "2025-07-28T11:06:57.566251Z",
     "iopub.status.idle": "2025-07-28T11:06:57.573195Z",
     "shell.execute_reply": "2025-07-28T11:06:57.572026Z"
    },
    "papermill": {
     "duration": 0.039787,
     "end_time": "2025-07-28T11:06:57.576223",
     "exception": false,
     "start_time": "2025-07-28T11:06:57.536436",
     "status": "completed"
    },
    "tags": []
   },
   "outputs": [],
   "source": [
    "def filter_sub_universe_data(sub_universe, org_test):\n",
    "    # Keep all rows — no filtering\n",
    "    keep_rows_mask = np.ones(org_test.shape[0], dtype=bool)\n",
    "\n",
    "    print(f\"[INFO] Keeping all rows: {keep_rows_mask.sum()} rows retained.\")\n",
    "    return keep_rows_mask"
   ]
  },
  {
   "cell_type": "code",
   "execution_count": 72,
   "id": "4a759155",
   "metadata": {
    "execution": {
     "iopub.execute_input": "2025-07-28T11:06:57.635435Z",
     "iopub.status.busy": "2025-07-28T11:06:57.635034Z",
     "iopub.status.idle": "2025-07-28T11:07:10.728450Z",
     "shell.execute_reply": "2025-07-28T11:07:10.727431Z"
    },
    "papermill": {
     "duration": 13.124978,
     "end_time": "2025-07-28T11:07:10.730292",
     "exception": false,
     "start_time": "2025-07-28T11:06:57.605314",
     "status": "completed"
    },
    "tags": []
   },
   "outputs": [
    {
     "name": "stdout",
     "output_type": "stream",
     "text": [
      "Stopping execution_time clock.\n",
      "[INFO] Keeping all rows: 89710 rows retained.\n"
     ]
    },
    {
     "name": "stdout",
     "output_type": "stream",
     "text": [
      "[INFO] Keeping all rows: 89710 rows retained.\n"
     ]
    },
    {
     "name": "stdout",
     "output_type": "stream",
     "text": [
      "[INFO] Keeping all rows: 89710 rows retained.\n"
     ]
    },
    {
     "name": "stdout",
     "output_type": "stream",
     "text": [
      "[INFO] Keeping all rows: 89710 rows retained.\n"
     ]
    },
    {
     "data": {
      "text/html": [
       "<div>\n",
       "<style scoped>\n",
       "    .dataframe tbody tr th:only-of-type {\n",
       "        vertical-align: middle;\n",
       "    }\n",
       "\n",
       "    .dataframe tbody tr th {\n",
       "        vertical-align: top;\n",
       "    }\n",
       "\n",
       "    .dataframe thead th {\n",
       "        text-align: right;\n",
       "    }\n",
       "</style>\n",
       "<table border=\"1\" class=\"dataframe\">\n",
       "  <thead>\n",
       "    <tr style=\"text-align: right;\">\n",
       "      <th></th>\n",
       "      <th>run_no</th>\n",
       "      <th>universe_id</th>\n",
       "      <th>universe_settings</th>\n",
       "      <th>execution_time</th>\n",
       "      <th>test_size_n</th>\n",
       "      <th>test_size_frac</th>\n",
       "      <th>fair_main_equalized_odds_difference</th>\n",
       "      <th>fair_main_equalized_odds_ratio</th>\n",
       "      <th>fair_main_demographic_parity_difference</th>\n",
       "      <th>fair_main_demographic_parity_ratio</th>\n",
       "      <th>...</th>\n",
       "      <th>perf_grp_precision_0</th>\n",
       "      <th>perf_grp_precision_1</th>\n",
       "      <th>perf_grp_false positive rate_0</th>\n",
       "      <th>perf_grp_false positive rate_1</th>\n",
       "      <th>perf_grp_false negative rate_0</th>\n",
       "      <th>perf_grp_false negative rate_1</th>\n",
       "      <th>perf_grp_selection rate_0</th>\n",
       "      <th>perf_grp_selection rate_1</th>\n",
       "      <th>perf_grp_count_0</th>\n",
       "      <th>perf_grp_count_1</th>\n",
       "    </tr>\n",
       "  </thead>\n",
       "  <tbody>\n",
       "    <tr>\n",
       "      <th>0</th>\n",
       "      <td>11</td>\n",
       "      <td>6b61b0480e3fb6868b0efef3a9056b3b</td>\n",
       "      <td>{\"cutoff\": \"quantile_0.1\", \"eval_fairness_grou...</td>\n",
       "      <td>69.428584</td>\n",
       "      <td>89710</td>\n",
       "      <td>1.0</td>\n",
       "      <td>0.082667</td>\n",
       "      <td>0.914434</td>\n",
       "      <td>0.080324</td>\n",
       "      <td>0.913506</td>\n",
       "      <td>...</td>\n",
       "      <td>NaN</td>\n",
       "      <td>NaN</td>\n",
       "      <td>NaN</td>\n",
       "      <td>NaN</td>\n",
       "      <td>NaN</td>\n",
       "      <td>NaN</td>\n",
       "      <td>NaN</td>\n",
       "      <td>NaN</td>\n",
       "      <td>NaN</td>\n",
       "      <td>NaN</td>\n",
       "    </tr>\n",
       "    <tr>\n",
       "      <th>0</th>\n",
       "      <td>11</td>\n",
       "      <td>6b61b0480e3fb6868b0efef3a9056b3b</td>\n",
       "      <td>{\"cutoff\": \"quantile_0.1\", \"eval_fairness_grou...</td>\n",
       "      <td>69.428584</td>\n",
       "      <td>89710</td>\n",
       "      <td>1.0</td>\n",
       "      <td>0.082667</td>\n",
       "      <td>0.914434</td>\n",
       "      <td>0.080324</td>\n",
       "      <td>0.913506</td>\n",
       "      <td>...</td>\n",
       "      <td>0.123443</td>\n",
       "      <td>0.141011</td>\n",
       "      <td>0.840524</td>\n",
       "      <td>0.919174</td>\n",
       "      <td>0.091639</td>\n",
       "      <td>0.008972</td>\n",
       "      <td>0.848345</td>\n",
       "      <td>0.928668</td>\n",
       "      <td>20540.0</td>\n",
       "      <td>69170.0</td>\n",
       "    </tr>\n",
       "    <tr>\n",
       "      <th>0</th>\n",
       "      <td>11</td>\n",
       "      <td>6b61b0480e3fb6868b0efef3a9056b3b</td>\n",
       "      <td>{\"cutoff\": \"quantile_0.25\", \"eval_fairness_gro...</td>\n",
       "      <td>69.428584</td>\n",
       "      <td>89710</td>\n",
       "      <td>1.0</td>\n",
       "      <td>0.126798</td>\n",
       "      <td>0.867216</td>\n",
       "      <td>0.090820</td>\n",
       "      <td>0.882258</td>\n",
       "      <td>...</td>\n",
       "      <td>NaN</td>\n",
       "      <td>NaN</td>\n",
       "      <td>NaN</td>\n",
       "      <td>NaN</td>\n",
       "      <td>NaN</td>\n",
       "      <td>NaN</td>\n",
       "      <td>NaN</td>\n",
       "      <td>NaN</td>\n",
       "      <td>NaN</td>\n",
       "      <td>NaN</td>\n",
       "    </tr>\n",
       "    <tr>\n",
       "      <th>0</th>\n",
       "      <td>11</td>\n",
       "      <td>6b61b0480e3fb6868b0efef3a9056b3b</td>\n",
       "      <td>{\"cutoff\": \"quantile_0.25\", \"eval_fairness_gro...</td>\n",
       "      <td>69.428584</td>\n",
       "      <td>89710</td>\n",
       "      <td>1.0</td>\n",
       "      <td>0.126798</td>\n",
       "      <td>0.867216</td>\n",
       "      <td>0.090820</td>\n",
       "      <td>0.882258</td>\n",
       "      <td>...</td>\n",
       "      <td>0.140292</td>\n",
       "      <td>0.163587</td>\n",
       "      <td>0.661292</td>\n",
       "      <td>0.743395</td>\n",
       "      <td>0.171875</td>\n",
       "      <td>0.045077</td>\n",
       "      <td>0.680526</td>\n",
       "      <td>0.771346</td>\n",
       "      <td>20540.0</td>\n",
       "      <td>69170.0</td>\n",
       "    </tr>\n",
       "  </tbody>\n",
       "</table>\n",
       "<p>4 rows × 50 columns</p>\n",
       "</div>"
      ],
      "text/plain": [
       "  run_no                       universe_id  \\\n",
       "0     11  6b61b0480e3fb6868b0efef3a9056b3b   \n",
       "0     11  6b61b0480e3fb6868b0efef3a9056b3b   \n",
       "0     11  6b61b0480e3fb6868b0efef3a9056b3b   \n",
       "0     11  6b61b0480e3fb6868b0efef3a9056b3b   \n",
       "\n",
       "                                   universe_settings  execution_time  \\\n",
       "0  {\"cutoff\": \"quantile_0.1\", \"eval_fairness_grou...       69.428584   \n",
       "0  {\"cutoff\": \"quantile_0.1\", \"eval_fairness_grou...       69.428584   \n",
       "0  {\"cutoff\": \"quantile_0.25\", \"eval_fairness_gro...       69.428584   \n",
       "0  {\"cutoff\": \"quantile_0.25\", \"eval_fairness_gro...       69.428584   \n",
       "\n",
       "   test_size_n  test_size_frac  fair_main_equalized_odds_difference  \\\n",
       "0        89710             1.0                             0.082667   \n",
       "0        89710             1.0                             0.082667   \n",
       "0        89710             1.0                             0.126798   \n",
       "0        89710             1.0                             0.126798   \n",
       "\n",
       "   fair_main_equalized_odds_ratio  fair_main_demographic_parity_difference  \\\n",
       "0                        0.914434                                 0.080324   \n",
       "0                        0.914434                                 0.080324   \n",
       "0                        0.867216                                 0.090820   \n",
       "0                        0.867216                                 0.090820   \n",
       "\n",
       "   fair_main_demographic_parity_ratio  ...  perf_grp_precision_0  \\\n",
       "0                            0.913506  ...                   NaN   \n",
       "0                            0.913506  ...              0.123443   \n",
       "0                            0.882258  ...                   NaN   \n",
       "0                            0.882258  ...              0.140292   \n",
       "\n",
       "   perf_grp_precision_1  perf_grp_false positive rate_0  \\\n",
       "0                   NaN                             NaN   \n",
       "0              0.141011                        0.840524   \n",
       "0                   NaN                             NaN   \n",
       "0              0.163587                        0.661292   \n",
       "\n",
       "   perf_grp_false positive rate_1  perf_grp_false negative rate_0  \\\n",
       "0                             NaN                             NaN   \n",
       "0                        0.919174                        0.091639   \n",
       "0                             NaN                             NaN   \n",
       "0                        0.743395                        0.171875   \n",
       "\n",
       "   perf_grp_false negative rate_1  perf_grp_selection rate_0  \\\n",
       "0                             NaN                        NaN   \n",
       "0                        0.008972                   0.848345   \n",
       "0                             NaN                        NaN   \n",
       "0                        0.045077                   0.680526   \n",
       "\n",
       "   perf_grp_selection rate_1  perf_grp_count_0  perf_grp_count_1  \n",
       "0                        NaN               NaN               NaN  \n",
       "0                   0.928668           20540.0           69170.0  \n",
       "0                        NaN               NaN               NaN  \n",
       "0                   0.771346           20540.0           69170.0  \n",
       "\n",
       "[4 rows x 50 columns]"
      ]
     },
     "execution_count": 72,
     "metadata": {},
     "output_type": "execute_result"
    }
   ],
   "source": [
    "final_output = universe_analysis.generate_final_output(\n",
    "    y_pred_prob=probs_test,\n",
    "    y_test=y_true,\n",
    "    org_test=org_test,\n",
    "    filter_data=filter_sub_universe_data,\n",
    "    cp_metrics_df=cp_metrics_df,\n",
    "    save=True,\n",
    ")\n",
    "final_output"
   ]
  },
  {
   "cell_type": "code",
   "execution_count": null,
   "id": "721ff514-cb11-46f8-b6fc-50392f74b5cb",
   "metadata": {
    "papermill": {
     "duration": 0.087002,
     "end_time": "2025-07-28T11:07:10.872377",
     "exception": false,
     "start_time": "2025-07-28T11:07:10.785375",
     "status": "completed"
    },
    "tags": []
   },
   "outputs": [],
   "source": []
  }
 ],
 "metadata": {
  "celltoolbar": "Tags",
  "kernelspec": {
   "display_name": "Python (CMA Fairness)",
   "language": "python",
   "name": "cma_fair_env"
  },
  "language_info": {
   "codemirror_mode": {
    "name": "ipython",
    "version": 3
   },
   "file_extension": ".py",
   "mimetype": "text/x-python",
   "name": "python",
   "nbconvert_exporter": "python",
   "pygments_lexer": "ipython3",
   "version": "3.10.12"
  },
  "papermill": {
   "default_parameters": {},
   "duration": 90.14865,
   "end_time": "2025-07-28T11:07:11.860535",
   "environment_variables": {},
   "exception": null,
   "input_path": "universe_analysis.ipynb",
   "output_path": "output/runs/11/notebooks/m_11-6b61b0480e3fb6868b0efef3a9056b3b.ipynb",
   "parameters": {
    "output_dir": "output",
    "run_no": "11",
    "seed": "2023",
    "universe": "{\"cutoff\": [\"quantile_0.1\", \"quantile_0.25\"], \"eval_fairness_grouping\": [\"majority-minority\", \"nationality-all\"], \"exclude_features\": \"sex\", \"exclude_subgroups\": \"drop-non-german\", \"model\": \"rf\", \"scale\": \"do-not-scale\", \"training_size\": \"2014\"}",
    "universe_id": "6b61b0480e3fb6868b0efef3a9056b3b"
   },
   "start_time": "2025-07-28T11:05:41.711885",
   "version": "2.6.0"
  }
 },
 "nbformat": 4,
 "nbformat_minor": 5
}