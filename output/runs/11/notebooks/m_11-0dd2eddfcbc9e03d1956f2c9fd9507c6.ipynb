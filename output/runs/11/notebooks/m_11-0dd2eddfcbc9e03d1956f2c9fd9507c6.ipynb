{
 "cells": [
  {
   "cell_type": "code",
   "execution_count": 1,
   "id": "f159f837-637b-42ba-96b5-ec9a68c44524",
   "metadata": {
    "execution": {
     "iopub.execute_input": "2025-07-28T11:04:46.341517Z",
     "iopub.status.busy": "2025-07-28T11:04:46.341046Z",
     "iopub.status.idle": "2025-07-28T11:04:46.355751Z",
     "shell.execute_reply": "2025-07-28T11:04:46.354845Z"
    },
    "papermill": {
     "duration": 0.036775,
     "end_time": "2025-07-28T11:04:46.357613",
     "exception": false,
     "start_time": "2025-07-28T11:04:46.320838",
     "status": "completed"
    },
    "tags": []
   },
   "outputs": [
    {
     "name": "stdout",
     "output_type": "stream",
     "text": [
      "/dss/dsshome1/0C/ra93lal2/cma/CMA_Fairness_v2\n"
     ]
    },
    {
     "name": "stderr",
     "output_type": "stream",
     "text": [
      "/dss/dsshome1/0C/ra93lal2/.local/share/virtualenvs/CMA_Fairness_v2-3j10GkSs/lib/python3.10/site-packages/IPython/core/magics/osm.py:393: UserWarning: This is now an optional IPython functionality, using bookmarks requires you to install the `pickleshare` library.\n",
      "  bkms = self.shell.db.get('bookmarks', {})\n",
      "/dss/dsshome1/0C/ra93lal2/.local/share/virtualenvs/CMA_Fairness_v2-3j10GkSs/lib/python3.10/site-packages/IPython/core/magics/osm.py:417: UserWarning: This is now an optional IPython functionality, setting dhist requires you to install the `pickleshare` library.\n",
      "  self.shell.db['dhist'] = compress_dhist(dhist)[-100:]\n"
     ]
    }
   ],
   "source": [
    "%cd ~/cma/CMA_Fairness_v2"
   ]
  },
  {
   "cell_type": "markdown",
   "id": "de2603b9",
   "metadata": {
    "papermill": {
     "duration": 0.028305,
     "end_time": "2025-07-28T11:04:46.409040",
     "exception": false,
     "start_time": "2025-07-28T11:04:46.380735",
     "status": "completed"
    },
    "tags": []
   },
   "source": [
    "The following cell holds the definition of our parameters, these values can be overriden by rendering the with e.g. the following command:\n",
    "\n",
    "papermill -p alpha 0.2 -p ratio 0.3 universe_analysis.ipynb output/test_run.ipynb"
   ]
  },
  {
   "cell_type": "code",
   "execution_count": 2,
   "id": "a80968a0-40bb-4fa9-85ef-2d5eefb01975",
   "metadata": {
    "execution": {
     "iopub.execute_input": "2025-07-28T11:04:46.456982Z",
     "iopub.status.busy": "2025-07-28T11:04:46.456265Z",
     "iopub.status.idle": "2025-07-28T11:04:46.462330Z",
     "shell.execute_reply": "2025-07-28T11:04:46.461290Z"
    },
    "papermill": {
     "duration": 0.031911,
     "end_time": "2025-07-28T11:04:46.464456",
     "exception": false,
     "start_time": "2025-07-28T11:04:46.432545",
     "status": "completed"
    },
    "tags": []
   },
   "outputs": [
    {
     "name": "stdout",
     "output_type": "stream",
     "text": [
      "Current working directory: /dss/dsshome1/0C/ra93lal2/cma/CMA_Fairness_v2\n"
     ]
    }
   ],
   "source": [
    "import os\n",
    "print(\"Current working directory:\", os.getcwd())"
   ]
  },
  {
   "cell_type": "code",
   "execution_count": 3,
   "id": "2dce4c03",
   "metadata": {
    "execution": {
     "iopub.execute_input": "2025-07-28T11:04:46.512605Z",
     "iopub.status.busy": "2025-07-28T11:04:46.511821Z",
     "iopub.status.idle": "2025-07-28T11:04:46.518573Z",
     "shell.execute_reply": "2025-07-28T11:04:46.517454Z"
    },
    "papermill": {
     "duration": 0.033369,
     "end_time": "2025-07-28T11:04:46.520442",
     "exception": false,
     "start_time": "2025-07-28T11:04:46.487073",
     "status": "completed"
    },
    "tags": [
     "parameters"
    ]
   },
   "outputs": [],
   "source": [
    "run_no = 0\n",
    "universe_id = \"test\"\n",
    "universe = {\n",
    "    \"training_size\": \"2014\", # \"25k\", \"5k\", \"1k\", \"2014\"\n",
    "    \"scale\": \"scale\", # \"scale\", \"do-not-scale\",\n",
    "    #\"stratify_split\": \"target\", # \"none\", \"target\", \"protected-attribute\", \"both\",\n",
    "    \"model\": \"elasticnet\", # \"logreg\", \"penalized_logreg\", \"rf\", \"gbm\", \"elasticnet\"\n",
    "    \"cutoff\": [\"quantile_0.15\", \"quantile_0.30\"],\n",
    "    \"exclude_features\": \"age\", # \"none\", \"nationality\", \"sex\", \"nationality-sex\", \"age\"\n",
    "    \"exclude_subgroups\": \"keep-all\", # \"keep-all\", \"drop-non-german\"\n",
    "    \"eval_fairness_grouping\": [\"majority-minority\", \"nationality-all\"]\n",
    "}\n",
    "\n",
    "output_dir=\"./output\"\n",
    "seed=0"
   ]
  },
  {
   "cell_type": "code",
   "execution_count": 4,
   "id": "1876b49e",
   "metadata": {
    "execution": {
     "iopub.execute_input": "2025-07-28T11:04:46.570157Z",
     "iopub.status.busy": "2025-07-28T11:04:46.569479Z",
     "iopub.status.idle": "2025-07-28T11:04:46.575437Z",
     "shell.execute_reply": "2025-07-28T11:04:46.574437Z"
    },
    "papermill": {
     "duration": 0.033881,
     "end_time": "2025-07-28T11:04:46.577417",
     "exception": false,
     "start_time": "2025-07-28T11:04:46.543536",
     "status": "completed"
    },
    "tags": [
     "injected-parameters"
    ]
   },
   "outputs": [],
   "source": [
    "# Parameters\n",
    "universe_id = \"0dd2eddfcbc9e03d1956f2c9fd9507c6\"\n",
    "run_no = \"11\"\n",
    "universe = \"{\\\"cutoff\\\": [\\\"quantile_0.1\\\", \\\"quantile_0.25\\\"], \\\"eval_fairness_grouping\\\": [\\\"majority-minority\\\", \\\"nationality-all\\\"], \\\"exclude_features\\\": \\\"age\\\", \\\"exclude_subgroups\\\": \\\"keep-all\\\", \\\"model\\\": \\\"penalized_logreg\\\", \\\"scale\\\": \\\"do-not-scale\\\", \\\"training_size\\\": \\\"2014\\\"}\"\n",
    "output_dir = \"output\"\n",
    "seed = \"2023\"\n"
   ]
  },
  {
   "cell_type": "code",
   "execution_count": 5,
   "id": "1650acaf",
   "metadata": {
    "execution": {
     "iopub.execute_input": "2025-07-28T11:04:46.627279Z",
     "iopub.status.busy": "2025-07-28T11:04:46.626530Z",
     "iopub.status.idle": "2025-07-28T11:04:46.632235Z",
     "shell.execute_reply": "2025-07-28T11:04:46.631175Z"
    },
    "papermill": {
     "duration": 0.031837,
     "end_time": "2025-07-28T11:04:46.633794",
     "exception": false,
     "start_time": "2025-07-28T11:04:46.601957",
     "status": "completed"
    },
    "tags": []
   },
   "outputs": [],
   "source": [
    "import json\n",
    "# Parse universe into dict if it is passed as a string\n",
    "if isinstance(universe, str):\n",
    "    universe = json.loads(universe)"
   ]
  },
  {
   "cell_type": "code",
   "execution_count": 6,
   "id": "16620c48",
   "metadata": {
    "execution": {
     "iopub.execute_input": "2025-07-28T11:04:46.673694Z",
     "iopub.status.busy": "2025-07-28T11:04:46.672608Z",
     "iopub.status.idle": "2025-07-28T11:04:46.725473Z",
     "shell.execute_reply": "2025-07-28T11:04:46.724486Z"
    },
    "papermill": {
     "duration": 0.074856,
     "end_time": "2025-07-28T11:04:46.727440",
     "exception": false,
     "start_time": "2025-07-28T11:04:46.652584",
     "status": "completed"
    },
    "tags": []
   },
   "outputs": [],
   "source": [
    "# Auto-reload the custom package\n",
    "%load_ext autoreload\n",
    "%autoreload 1\n",
    "%aimport fairness_multiverse"
   ]
  },
  {
   "cell_type": "code",
   "execution_count": 7,
   "id": "01c5c9f3",
   "metadata": {
    "execution": {
     "iopub.execute_input": "2025-07-28T11:04:46.769933Z",
     "iopub.status.busy": "2025-07-28T11:04:46.768972Z",
     "iopub.status.idle": "2025-07-28T11:04:48.938869Z",
     "shell.execute_reply": "2025-07-28T11:04:48.938058Z"
    },
    "papermill": {
     "duration": 2.193066,
     "end_time": "2025-07-28T11:04:48.940557",
     "exception": false,
     "start_time": "2025-07-28T11:04:46.747491",
     "status": "completed"
    },
    "tags": []
   },
   "outputs": [],
   "source": [
    "from fairness_multiverse.universe import UniverseAnalysis\n",
    "\n",
    "universe_analysis = UniverseAnalysis(\n",
    "    run_no = run_no,\n",
    "    universe_id = universe_id,\n",
    "    universe = universe,\n",
    "    output_dir=output_dir,\n",
    ")"
   ]
  },
  {
   "cell_type": "code",
   "execution_count": 8,
   "id": "106241f5",
   "metadata": {
    "execution": {
     "iopub.execute_input": "2025-07-28T11:04:48.964707Z",
     "iopub.status.busy": "2025-07-28T11:04:48.964125Z",
     "iopub.status.idle": "2025-07-28T11:04:48.970234Z",
     "shell.execute_reply": "2025-07-28T11:04:48.969472Z"
    },
    "papermill": {
     "duration": 0.019605,
     "end_time": "2025-07-28T11:04:48.971599",
     "exception": false,
     "start_time": "2025-07-28T11:04:48.951994",
     "status": "completed"
    },
    "tags": []
   },
   "outputs": [
    {
     "name": "stdout",
     "output_type": "stream",
     "text": [
      "Using Seed: 2023\n"
     ]
    }
   ],
   "source": [
    "import numpy as np\n",
    "parsed_seed = int(seed)\n",
    "np.random.seed(parsed_seed)\n",
    "print(f\"Using Seed: {parsed_seed}\")"
   ]
  },
  {
   "cell_type": "markdown",
   "id": "e0ebdc57",
   "metadata": {
    "papermill": {
     "duration": 0.010759,
     "end_time": "2025-07-28T11:04:48.993475",
     "exception": false,
     "start_time": "2025-07-28T11:04:48.982716",
     "status": "completed"
    },
    "tags": []
   },
   "source": [
    "# Loading Data"
   ]
  },
  {
   "cell_type": "markdown",
   "id": "681925a3",
   "metadata": {
    "papermill": {
     "duration": 0.010492,
     "end_time": "2025-07-28T11:04:49.014877",
     "exception": false,
     "start_time": "2025-07-28T11:04:49.004385",
     "status": "completed"
    },
    "tags": []
   },
   "source": [
    "Load siab_train, siab_test, siab_calib and/or \n",
    "load siab_train_features, siab_train_labels"
   ]
  },
  {
   "cell_type": "code",
   "execution_count": 9,
   "id": "f0496b8a",
   "metadata": {
    "execution": {
     "iopub.execute_input": "2025-07-28T11:04:49.039316Z",
     "iopub.status.busy": "2025-07-28T11:04:49.038783Z",
     "iopub.status.idle": "2025-07-28T11:05:03.472256Z",
     "shell.execute_reply": "2025-07-28T11:05:03.470934Z"
    },
    "papermill": {
     "duration": 14.447185,
     "end_time": "2025-07-28T11:05:03.473938",
     "exception": false,
     "start_time": "2025-07-28T11:04:49.026753",
     "status": "completed"
    },
    "tags": []
   },
   "outputs": [
    {
     "name": "stdout",
     "output_type": "stream",
     "text": [
      "Loading SIAB data from cache: data/siab_cached.csv.gz\n"
     ]
    },
    {
     "name": "stdout",
     "output_type": "stream",
     "text": [
      "(643690, 164)\n"
     ]
    }
   ],
   "source": [
    "from pathlib import Path\n",
    "import pandas as pd\n",
    "\n",
    "# File paths\n",
    "raw_file = Path(\"data/raw/siab.csv\")\n",
    "cache_file = Path(\"data/siab_cached.csv.gz\")\n",
    "\n",
    "# Ensure cache directory exists\n",
    "cache_file.parent.mkdir(parents=True, exist_ok=True)\n",
    "\n",
    "# Load with simple caching\n",
    "if cache_file.exists():\n",
    "    print(f\"Loading SIAB data from cache: {cache_file}\")\n",
    "    siab = pd.read_csv(cache_file, compression='gzip')\n",
    "else:\n",
    "    print(f\"Cache not found. Reading raw SIAB data: {raw_file}\")\n",
    "    siab = pd.read_csv(raw_file)\n",
    "    siab.to_csv(cache_file, index=False, compression='gzip')\n",
    "    print(f\"Cached SIAB data to: {cache_file}\")\n",
    "\n",
    "# Now use `siab` DataFrame as needed\n",
    "print(siab.shape)"
   ]
  },
  {
   "cell_type": "code",
   "execution_count": 10,
   "id": "db0ca512-5f53-4dba-abdb-a2888bca41ba",
   "metadata": {
    "execution": {
     "iopub.execute_input": "2025-07-28T11:05:03.522172Z",
     "iopub.status.busy": "2025-07-28T11:05:03.521444Z",
     "iopub.status.idle": "2025-07-28T11:05:03.527285Z",
     "shell.execute_reply": "2025-07-28T11:05:03.526261Z"
    },
    "papermill": {
     "duration": 0.032002,
     "end_time": "2025-07-28T11:05:03.529165",
     "exception": false,
     "start_time": "2025-07-28T11:05:03.497163",
     "status": "completed"
    },
    "tags": []
   },
   "outputs": [],
   "source": [
    "#siab"
   ]
  },
  {
   "cell_type": "code",
   "execution_count": 11,
   "id": "a0edb063",
   "metadata": {
    "execution": {
     "iopub.execute_input": "2025-07-28T11:05:03.572933Z",
     "iopub.status.busy": "2025-07-28T11:05:03.572204Z",
     "iopub.status.idle": "2025-07-28T11:05:03.577542Z",
     "shell.execute_reply": "2025-07-28T11:05:03.576503Z"
    },
    "papermill": {
     "duration": 0.029502,
     "end_time": "2025-07-28T11:05:03.579414",
     "exception": false,
     "start_time": "2025-07-28T11:05:03.549912",
     "status": "completed"
    },
    "tags": []
   },
   "outputs": [],
   "source": [
    "#import pandas as pd\n",
    "#\n",
    "#X_train = pd.read_csv(\"./data/X_train.csv\")\n",
    "#y_train = pd.read_csv(\"./data/y_train.csv\")"
   ]
  },
  {
   "cell_type": "code",
   "execution_count": 12,
   "id": "63d08085",
   "metadata": {
    "execution": {
     "iopub.execute_input": "2025-07-28T11:05:03.624027Z",
     "iopub.status.busy": "2025-07-28T11:05:03.623357Z",
     "iopub.status.idle": "2025-07-28T11:05:03.628457Z",
     "shell.execute_reply": "2025-07-28T11:05:03.627517Z"
    },
    "papermill": {
     "duration": 0.028959,
     "end_time": "2025-07-28T11:05:03.630124",
     "exception": false,
     "start_time": "2025-07-28T11:05:03.601165",
     "status": "completed"
    },
    "tags": []
   },
   "outputs": [],
   "source": [
    "#X_test = pd.read_csv(\"./data/X_test.csv\")\n",
    "#y_true = pd.read_csv(\"./data/y_test.csv\")"
   ]
  },
  {
   "cell_type": "code",
   "execution_count": 13,
   "id": "98a8d0fa-1d3d-4ed8-bb2c-281470e24add",
   "metadata": {
    "execution": {
     "iopub.execute_input": "2025-07-28T11:05:03.676017Z",
     "iopub.status.busy": "2025-07-28T11:05:03.675336Z",
     "iopub.status.idle": "2025-07-28T11:05:03.680703Z",
     "shell.execute_reply": "2025-07-28T11:05:03.679544Z"
    },
    "papermill": {
     "duration": 0.030155,
     "end_time": "2025-07-28T11:05:03.682337",
     "exception": false,
     "start_time": "2025-07-28T11:05:03.652182",
     "status": "completed"
    },
    "tags": []
   },
   "outputs": [],
   "source": [
    "# Calibration data for conformal\n",
    "#X_calib = pd.read_csv(\"./data/X_calib.csv\")\n",
    "#y_calib = pd.read_csv(\"./data/y_calib.csv\")"
   ]
  },
  {
   "cell_type": "markdown",
   "id": "9901737e-04df-44f0-9100-f5ad144ed040",
   "metadata": {
    "papermill": {
     "duration": 0.036211,
     "end_time": "2025-07-28T11:05:03.740149",
     "exception": false,
     "start_time": "2025-07-28T11:05:03.703938",
     "status": "completed"
    },
    "tags": []
   },
   "source": [
    "# Splitting Data and Setting Training Data Size"
   ]
  },
  {
   "cell_type": "code",
   "execution_count": 14,
   "id": "acbc8f7d-8fc8-4e86-8c59-5dcb0f58384b",
   "metadata": {
    "execution": {
     "iopub.execute_input": "2025-07-28T11:05:03.787670Z",
     "iopub.status.busy": "2025-07-28T11:05:03.787151Z",
     "iopub.status.idle": "2025-07-28T11:05:03.796415Z",
     "shell.execute_reply": "2025-07-28T11:05:03.795275Z"
    },
    "papermill": {
     "duration": 0.032526,
     "end_time": "2025-07-28T11:05:03.798230",
     "exception": false,
     "start_time": "2025-07-28T11:05:03.765704",
     "status": "completed"
    },
    "tags": []
   },
   "outputs": [],
   "source": [
    "def sample_by_year(df, training_size, random_state=42):\n",
    "    if training_size == \"2014\":\n",
    "        return df[df[\"year\"] == 2014].reset_index(drop=True)\n",
    "    \n",
    "    size_map = {\n",
    "        \"25k\": 5000,\n",
    "        \"5k\": 1000,\n",
    "        \"1k\": 200\n",
    "    }\n",
    "\n",
    "    if training_size not in size_map:\n",
    "        return df.reset_index(drop=True)  # use all data\n",
    "\n",
    "    n_per_year = size_map[training_size]\n",
    "    grouped = df.groupby(\"year\")\n",
    "    sampled = grouped.apply(lambda x: x.sample(n=min(n_per_year, len(x)), random_state=random_state))\n",
    "    return sampled.reset_index(drop=True)"
   ]
  },
  {
   "cell_type": "code",
   "execution_count": 15,
   "id": "6d931f52-beaf-43ff-9e78-9d44a448d54e",
   "metadata": {
    "execution": {
     "iopub.execute_input": "2025-07-28T11:05:03.843637Z",
     "iopub.status.busy": "2025-07-28T11:05:03.843012Z",
     "iopub.status.idle": "2025-07-28T11:05:04.016469Z",
     "shell.execute_reply": "2025-07-28T11:05:04.015540Z"
    },
    "papermill": {
     "duration": 0.198372,
     "end_time": "2025-07-28T11:05:04.018510",
     "exception": false,
     "start_time": "2025-07-28T11:05:03.820138",
     "status": "completed"
    },
    "tags": []
   },
   "outputs": [],
   "source": [
    "siab_s = sample_by_year(siab, universe[\"training_size\"])"
   ]
  },
  {
   "cell_type": "code",
   "execution_count": 16,
   "id": "5db0a40e-a4e2-4920-be85-b12ae061d70d",
   "metadata": {
    "execution": {
     "iopub.execute_input": "2025-07-28T11:05:04.063185Z",
     "iopub.status.busy": "2025-07-28T11:05:04.062648Z",
     "iopub.status.idle": "2025-07-28T11:05:04.080607Z",
     "shell.execute_reply": "2025-07-28T11:05:04.079626Z"
    },
    "papermill": {
     "duration": 0.042117,
     "end_time": "2025-07-28T11:05:04.082256",
     "exception": false,
     "start_time": "2025-07-28T11:05:04.040139",
     "status": "completed"
    },
    "tags": []
   },
   "outputs": [
    {
     "data": {
      "text/plain": [
       "year\n",
       "2014    87158\n",
       "dtype: int64"
      ]
     },
     "metadata": {},
     "output_type": "display_data"
    }
   ],
   "source": [
    "display(siab_s.groupby(\"year\").size())"
   ]
  },
  {
   "cell_type": "code",
   "execution_count": 17,
   "id": "a561edb4-d032-42cb-8256-22eac1111c64",
   "metadata": {
    "execution": {
     "iopub.execute_input": "2025-07-28T11:05:04.126834Z",
     "iopub.status.busy": "2025-07-28T11:05:04.126125Z",
     "iopub.status.idle": "2025-07-28T11:05:04.434748Z",
     "shell.execute_reply": "2025-07-28T11:05:04.433827Z"
    },
    "papermill": {
     "duration": 0.333148,
     "end_time": "2025-07-28T11:05:04.436689",
     "exception": false,
     "start_time": "2025-07-28T11:05:04.103541",
     "status": "completed"
    },
    "tags": []
   },
   "outputs": [],
   "source": [
    "siab_train = siab_s[siab_s.year < 2015]\n",
    "siab_calib = siab[siab.year == 2015]\n",
    "siab_test = siab[siab.year == 2016]"
   ]
  },
  {
   "cell_type": "code",
   "execution_count": 18,
   "id": "472de16f-c3db-4916-846b-1f0de9cf1746",
   "metadata": {
    "execution": {
     "iopub.execute_input": "2025-07-28T11:05:04.479201Z",
     "iopub.status.busy": "2025-07-28T11:05:04.478477Z",
     "iopub.status.idle": "2025-07-28T11:05:04.536331Z",
     "shell.execute_reply": "2025-07-28T11:05:04.535212Z"
    },
    "papermill": {
     "duration": 0.080757,
     "end_time": "2025-07-28T11:05:04.538384",
     "exception": false,
     "start_time": "2025-07-28T11:05:04.457627",
     "status": "completed"
    },
    "tags": []
   },
   "outputs": [],
   "source": [
    "X_train = siab_train.iloc[:,4:164]\n",
    "y_train = siab_train.iloc[:, [3]]"
   ]
  },
  {
   "cell_type": "code",
   "execution_count": 19,
   "id": "828c96af-f43a-4ed6-ba47-8ac73a47d56c",
   "metadata": {
    "execution": {
     "iopub.execute_input": "2025-07-28T11:05:04.583584Z",
     "iopub.status.busy": "2025-07-28T11:05:04.583039Z",
     "iopub.status.idle": "2025-07-28T11:05:04.636746Z",
     "shell.execute_reply": "2025-07-28T11:05:04.635611Z"
    },
    "papermill": {
     "duration": 0.077799,
     "end_time": "2025-07-28T11:05:04.638544",
     "exception": false,
     "start_time": "2025-07-28T11:05:04.560745",
     "status": "completed"
    },
    "tags": []
   },
   "outputs": [],
   "source": [
    "X_calib = siab_calib.iloc[:,4:164]\n",
    "y_calib = siab_calib.iloc[:, [3]]"
   ]
  },
  {
   "cell_type": "code",
   "execution_count": 20,
   "id": "c34be9c3-6bd6-476e-acd3-845840e303be",
   "metadata": {
    "execution": {
     "iopub.execute_input": "2025-07-28T11:05:04.682502Z",
     "iopub.status.busy": "2025-07-28T11:05:04.682026Z",
     "iopub.status.idle": "2025-07-28T11:05:04.735123Z",
     "shell.execute_reply": "2025-07-28T11:05:04.734129Z"
    },
    "papermill": {
     "duration": 0.076347,
     "end_time": "2025-07-28T11:05:04.736959",
     "exception": false,
     "start_time": "2025-07-28T11:05:04.660612",
     "status": "completed"
    },
    "tags": []
   },
   "outputs": [],
   "source": [
    "X_test = siab_test.iloc[:,4:164]\n",
    "y_true = siab_test.iloc[:, [3]]"
   ]
  },
  {
   "cell_type": "code",
   "execution_count": 21,
   "id": "e6c733c5",
   "metadata": {
    "execution": {
     "iopub.execute_input": "2025-07-28T11:05:04.782986Z",
     "iopub.status.busy": "2025-07-28T11:05:04.782029Z",
     "iopub.status.idle": "2025-07-28T11:05:04.927099Z",
     "shell.execute_reply": "2025-07-28T11:05:04.925935Z"
    },
    "papermill": {
     "duration": 0.170485,
     "end_time": "2025-07-28T11:05:04.929267",
     "exception": false,
     "start_time": "2025-07-28T11:05:04.758782",
     "status": "completed"
    },
    "tags": []
   },
   "outputs": [],
   "source": [
    "# Auxiliary data needed downstream in the pipeline\n",
    "\n",
    "org_train = X_train.copy()\n",
    "org_test = X_test.copy()\n",
    "org_calib = X_calib.copy()"
   ]
  },
  {
   "cell_type": "markdown",
   "id": "0a4a1b33",
   "metadata": {
    "papermill": {
     "duration": 0.019725,
     "end_time": "2025-07-28T11:05:04.971130",
     "exception": false,
     "start_time": "2025-07-28T11:05:04.951405",
     "status": "completed"
    },
    "tags": []
   },
   "source": [
    "# Preprocessing Data"
   ]
  },
  {
   "cell_type": "code",
   "execution_count": 22,
   "id": "ca879031",
   "metadata": {
    "execution": {
     "iopub.execute_input": "2025-07-28T11:05:05.012728Z",
     "iopub.status.busy": "2025-07-28T11:05:05.012237Z",
     "iopub.status.idle": "2025-07-28T11:05:05.018764Z",
     "shell.execute_reply": "2025-07-28T11:05:05.017803Z"
    },
    "papermill": {
     "duration": 0.029406,
     "end_time": "2025-07-28T11:05:05.020362",
     "exception": false,
     "start_time": "2025-07-28T11:05:04.990956",
     "status": "completed"
    },
    "tags": []
   },
   "outputs": [],
   "source": [
    "# EXCLUDE PROTECTED FEATURES\n",
    "# ----------------------\n",
    "# \"exclude_features\": \"none\", # \"nationality\", \"sex\", \"nationality-sex\"\n",
    "\n",
    "excluded_features = universe[\"exclude_features\"].split(\"-\") # split, e.g.: \"nationality-sex\" -> [\"nationality\", \"sex\"]\n",
    "excluded_features_dictionary = {\n",
    "    \"nationality\": [\"maxdeutsch1\", \"maxdeutsch.Missing.\"],\n",
    "    \"sex\": [\"frau1\"],\n",
    "    \"age\": [\"age\"],\n",
    "}\n"
   ]
  },
  {
   "cell_type": "code",
   "execution_count": 23,
   "id": "b745ac60",
   "metadata": {
    "execution": {
     "iopub.execute_input": "2025-07-28T11:05:05.066388Z",
     "iopub.status.busy": "2025-07-28T11:05:05.065837Z",
     "iopub.status.idle": "2025-07-28T11:05:05.071662Z",
     "shell.execute_reply": "2025-07-28T11:05:05.070842Z"
    },
    "papermill": {
     "duration": 0.03085,
     "end_time": "2025-07-28T11:05:05.073695",
     "exception": false,
     "start_time": "2025-07-28T11:05:05.042845",
     "status": "completed"
    },
    "tags": []
   },
   "outputs": [],
   "source": [
    "# Code nice names to column names\n",
    "\n",
    "excluded_features_columns = [\n",
    "    excluded_features_dictionary[f] for f in excluded_features if len(f) > 0 and f != \"none\"\n",
    "]"
   ]
  },
  {
   "cell_type": "code",
   "execution_count": 24,
   "id": "f84f73a2",
   "metadata": {
    "execution": {
     "iopub.execute_input": "2025-07-28T11:05:05.118599Z",
     "iopub.status.busy": "2025-07-28T11:05:05.118053Z",
     "iopub.status.idle": "2025-07-28T11:05:05.124933Z",
     "shell.execute_reply": "2025-07-28T11:05:05.123919Z"
    },
    "papermill": {
     "duration": 0.031004,
     "end_time": "2025-07-28T11:05:05.126713",
     "exception": false,
     "start_time": "2025-07-28T11:05:05.095709",
     "status": "completed"
    },
    "tags": []
   },
   "outputs": [],
   "source": [
    "from utils import flatten_once\n",
    "\n",
    "excluded_features_columns = flatten_once(excluded_features_columns)"
   ]
  },
  {
   "cell_type": "code",
   "execution_count": 25,
   "id": "884dea22",
   "metadata": {
    "execution": {
     "iopub.execute_input": "2025-07-28T11:05:05.170849Z",
     "iopub.status.busy": "2025-07-28T11:05:05.170136Z",
     "iopub.status.idle": "2025-07-28T11:05:05.232591Z",
     "shell.execute_reply": "2025-07-28T11:05:05.231533Z"
    },
    "papermill": {
     "duration": 0.088372,
     "end_time": "2025-07-28T11:05:05.236248",
     "exception": false,
     "start_time": "2025-07-28T11:05:05.147876",
     "status": "completed"
    },
    "tags": []
   },
   "outputs": [
    {
     "name": "stdout",
     "output_type": "stream",
     "text": [
      "Dropping features: ['age']\n"
     ]
    }
   ],
   "source": [
    "if len(excluded_features_columns) > 0:\n",
    "    print(f\"Dropping features: {excluded_features_columns}\")\n",
    "    X_train.drop(excluded_features_columns, axis=1, inplace=True)"
   ]
  },
  {
   "cell_type": "code",
   "execution_count": 26,
   "id": "95ab8b16",
   "metadata": {
    "execution": {
     "iopub.execute_input": "2025-07-28T11:05:05.285367Z",
     "iopub.status.busy": "2025-07-28T11:05:05.284426Z",
     "iopub.status.idle": "2025-07-28T11:05:05.339765Z",
     "shell.execute_reply": "2025-07-28T11:05:05.338759Z"
    },
    "papermill": {
     "duration": 0.081485,
     "end_time": "2025-07-28T11:05:05.341884",
     "exception": false,
     "start_time": "2025-07-28T11:05:05.260399",
     "status": "completed"
    },
    "tags": []
   },
   "outputs": [
    {
     "name": "stdout",
     "output_type": "stream",
     "text": [
      "Dropping features: ['age']\n"
     ]
    }
   ],
   "source": [
    "if len(excluded_features_columns) > 0:\n",
    "    print(f\"Dropping features: {excluded_features_columns}\")\n",
    "    X_test.drop(excluded_features_columns, axis=1, inplace=True)"
   ]
  },
  {
   "cell_type": "code",
   "execution_count": 27,
   "id": "1853aaf5-fb9f-46cb-a2b5-8ea4ae2237e4",
   "metadata": {
    "execution": {
     "iopub.execute_input": "2025-07-28T11:05:05.388555Z",
     "iopub.status.busy": "2025-07-28T11:05:05.387449Z",
     "iopub.status.idle": "2025-07-28T11:05:05.445076Z",
     "shell.execute_reply": "2025-07-28T11:05:05.443780Z"
    },
    "papermill": {
     "duration": 0.082892,
     "end_time": "2025-07-28T11:05:05.446955",
     "exception": false,
     "start_time": "2025-07-28T11:05:05.364063",
     "status": "completed"
    },
    "tags": []
   },
   "outputs": [
    {
     "name": "stdout",
     "output_type": "stream",
     "text": [
      "Dropping features: ['age']\n"
     ]
    }
   ],
   "source": [
    "if len(excluded_features_columns) > 0:\n",
    "    print(f\"Dropping features: {excluded_features_columns}\")\n",
    "    X_calib.drop(excluded_features_columns, axis=1, inplace=True)"
   ]
  },
  {
   "cell_type": "code",
   "execution_count": 28,
   "id": "6727d079-03e5-481e-9d38-292a90b7a0a8",
   "metadata": {
    "execution": {
     "iopub.execute_input": "2025-07-28T11:05:05.495652Z",
     "iopub.status.busy": "2025-07-28T11:05:05.494993Z",
     "iopub.status.idle": "2025-07-28T11:05:05.500376Z",
     "shell.execute_reply": "2025-07-28T11:05:05.499044Z"
    },
    "papermill": {
     "duration": 0.030729,
     "end_time": "2025-07-28T11:05:05.501985",
     "exception": false,
     "start_time": "2025-07-28T11:05:05.471256",
     "status": "completed"
    },
    "tags": []
   },
   "outputs": [],
   "source": [
    "# SPLIT & STRATIFY DATA\n",
    "# ----------------------"
   ]
  },
  {
   "cell_type": "code",
   "execution_count": 29,
   "id": "76c4dc6d",
   "metadata": {
    "execution": {
     "iopub.execute_input": "2025-07-28T11:05:05.549988Z",
     "iopub.status.busy": "2025-07-28T11:05:05.549271Z",
     "iopub.status.idle": "2025-07-28T11:05:05.555539Z",
     "shell.execute_reply": "2025-07-28T11:05:05.554633Z"
    },
    "papermill": {
     "duration": 0.032432,
     "end_time": "2025-07-28T11:05:05.557209",
     "exception": false,
     "start_time": "2025-07-28T11:05:05.524777",
     "status": "completed"
    },
    "tags": []
   },
   "outputs": [],
   "source": [
    "# EXCLUDE CERTAIN SUBGROUPS\n",
    "# ----------------------\n",
    "\n",
    "mode = universe.get(\"exclude_subgroups\", \"keep-all\") \n",
    "# Fetches the exclude_subgroups setting from the universe dict.\n",
    "# Defaults to \"keep-all\" if the key is missing."
   ]
  },
  {
   "cell_type": "code",
   "execution_count": 30,
   "id": "21994072",
   "metadata": {
    "execution": {
     "iopub.execute_input": "2025-07-28T11:05:05.602374Z",
     "iopub.status.busy": "2025-07-28T11:05:05.601419Z",
     "iopub.status.idle": "2025-07-28T11:05:05.608747Z",
     "shell.execute_reply": "2025-07-28T11:05:05.607769Z"
    },
    "papermill": {
     "duration": 0.031531,
     "end_time": "2025-07-28T11:05:05.610587",
     "exception": false,
     "start_time": "2025-07-28T11:05:05.579056",
     "status": "completed"
    },
    "tags": []
   },
   "outputs": [],
   "source": [
    "if mode == \"keep-all\":\n",
    "    keep_mask = pd.Series(True, index=org_train.index)\n",
    "\n",
    "# org_train contains the original feature columns from features_org (in Simson)\n",
    "# features_org contains unprocessed features, for me X_train at beginning ???\n",
    "# For keep-all, creates a boolean Series (keep_mask) of all True, so no rows are removed.\n",
    "\n",
    "elif mode == \"drop-non-german\":\n",
    "    keep_mask = org_train[\"maxdeutsch1\"] == 1 # ??? what about missing values?\n",
    "\n",
    "else:\n",
    "    raise ValueError(f\"Unsupported mode for exclude_subgroups: {mode}\")\n"
   ]
  },
  {
   "cell_type": "code",
   "execution_count": 31,
   "id": "71651440",
   "metadata": {
    "execution": {
     "iopub.execute_input": "2025-07-28T11:05:05.658954Z",
     "iopub.status.busy": "2025-07-28T11:05:05.658247Z",
     "iopub.status.idle": "2025-07-28T11:05:05.665541Z",
     "shell.execute_reply": "2025-07-28T11:05:05.664584Z"
    },
    "papermill": {
     "duration": 0.034076,
     "end_time": "2025-07-28T11:05:05.667304",
     "exception": false,
     "start_time": "2025-07-28T11:05:05.633228",
     "status": "completed"
    },
    "tags": []
   },
   "outputs": [],
   "source": [
    "n_drop = (~keep_mask).sum() # Calculates how many rows are set to be dropped\n",
    "if n_drop > 0:\n",
    "    pct = n_drop / len(keep_mask) * 100\n",
    "    print(f\"Dropping {n_drop} rows ({pct:.2f}%) where mode='{mode}'\")"
   ]
  },
  {
   "cell_type": "code",
   "execution_count": 32,
   "id": "5fb8eee5",
   "metadata": {
    "execution": {
     "iopub.execute_input": "2025-07-28T11:05:05.715147Z",
     "iopub.status.busy": "2025-07-28T11:05:05.714441Z",
     "iopub.status.idle": "2025-07-28T11:05:05.781340Z",
     "shell.execute_reply": "2025-07-28T11:05:05.780365Z"
    },
    "papermill": {
     "duration": 0.09274,
     "end_time": "2025-07-28T11:05:05.783454",
     "exception": false,
     "start_time": "2025-07-28T11:05:05.690714",
     "status": "completed"
    },
    "tags": []
   },
   "outputs": [],
   "source": [
    "X_train = X_train[keep_mask]"
   ]
  },
  {
   "cell_type": "code",
   "execution_count": 33,
   "id": "b202bb3a",
   "metadata": {
    "execution": {
     "iopub.execute_input": "2025-07-28T11:05:05.831541Z",
     "iopub.status.busy": "2025-07-28T11:05:05.830731Z",
     "iopub.status.idle": "2025-07-28T11:05:05.839402Z",
     "shell.execute_reply": "2025-07-28T11:05:05.838360Z"
    },
    "papermill": {
     "duration": 0.034603,
     "end_time": "2025-07-28T11:05:05.841343",
     "exception": false,
     "start_time": "2025-07-28T11:05:05.806740",
     "status": "completed"
    },
    "tags": []
   },
   "outputs": [],
   "source": [
    "y_train = y_train[keep_mask]"
   ]
  },
  {
   "cell_type": "markdown",
   "id": "493e2ac3",
   "metadata": {
    "papermill": {
     "duration": 0.022659,
     "end_time": "2025-07-28T11:05:05.887876",
     "exception": false,
     "start_time": "2025-07-28T11:05:05.865217",
     "status": "completed"
    },
    "tags": []
   },
   "source": [
    "# Model Training"
   ]
  },
  {
   "cell_type": "code",
   "execution_count": 34,
   "id": "679e1268",
   "metadata": {
    "execution": {
     "iopub.execute_input": "2025-07-28T11:05:05.935872Z",
     "iopub.status.busy": "2025-07-28T11:05:05.935330Z",
     "iopub.status.idle": "2025-07-28T11:05:06.052150Z",
     "shell.execute_reply": "2025-07-28T11:05:06.051009Z"
    },
    "papermill": {
     "duration": 0.143843,
     "end_time": "2025-07-28T11:05:06.054170",
     "exception": false,
     "start_time": "2025-07-28T11:05:05.910327",
     "status": "completed"
    },
    "tags": []
   },
   "outputs": [],
   "source": [
    "from sklearn.linear_model import LogisticRegression\n",
    "from sklearn.ensemble import GradientBoostingClassifier, RandomForestClassifier\n",
    "\n",
    "if (universe[\"model\"] == \"logreg\"):\n",
    "    model = LogisticRegression() #penalty=\"none\") #, solver=\"newton-cg\", max_iter=1) # include random_state=19 ?\n",
    "elif (universe[\"model\"] == \"penalized_logreg\"):\n",
    "    model = LogisticRegression(penalty=\"l2\", C=1.0) #, solver=\"newton-cg\", max_iter=1)\n",
    "elif (universe[\"model\"] == \"rf\"):\n",
    "    model = RandomForestClassifier(n_estimators=100, n_jobs=-1)\n",
    "elif (universe[\"model\"] == \"gbm\"):\n",
    "    model = GradientBoostingClassifier()\n",
    "elif (universe[\"model\"] == \"elasticnet\"):\n",
    "    model = LogisticRegression(penalty = 'elasticnet', solver = 'saga', l1_ratio = 0.5, max_iter=5000) # which solver to use?\n",
    "else:\n",
    "    raise \"Unsupported universe.model\""
   ]
  },
  {
   "cell_type": "code",
   "execution_count": 35,
   "id": "0cc8f744",
   "metadata": {
    "execution": {
     "iopub.execute_input": "2025-07-28T11:05:06.103349Z",
     "iopub.status.busy": "2025-07-28T11:05:06.102622Z",
     "iopub.status.idle": "2025-07-28T11:05:06.109867Z",
     "shell.execute_reply": "2025-07-28T11:05:06.108782Z"
    },
    "papermill": {
     "duration": 0.034333,
     "end_time": "2025-07-28T11:05:06.111700",
     "exception": false,
     "start_time": "2025-07-28T11:05:06.077367",
     "status": "completed"
    },
    "tags": []
   },
   "outputs": [],
   "source": [
    "import numpy as np\n",
    "from sklearn.pipeline import Pipeline\n",
    "from sklearn.preprocessing import StandardScaler\n",
    "\n",
    "model = Pipeline([\n",
    "    #(\"continuous_processor\", continuous_processor),\n",
    "    #(\"categorical_preprocessor\", categorical_preprocessor),\n",
    "    (\"scale\", StandardScaler() if universe[\"scale\"] == \"scale\" else None), \n",
    "    (\"model\", model),\n",
    "])"
   ]
  },
  {
   "cell_type": "code",
   "execution_count": 36,
   "id": "9442c04d",
   "metadata": {
    "execution": {
     "iopub.execute_input": "2025-07-28T11:05:06.159627Z",
     "iopub.status.busy": "2025-07-28T11:05:06.159059Z",
     "iopub.status.idle": "2025-07-28T11:05:10.432287Z",
     "shell.execute_reply": "2025-07-28T11:05:10.431229Z"
    },
    "papermill": {
     "duration": 4.298915,
     "end_time": "2025-07-28T11:05:10.434065",
     "exception": false,
     "start_time": "2025-07-28T11:05:06.135150",
     "status": "completed"
    },
    "tags": []
   },
   "outputs": [
    {
     "name": "stderr",
     "output_type": "stream",
     "text": [
      "/dss/dsshome1/0C/ra93lal2/.local/share/virtualenvs/CMA_Fairness_v2-3j10GkSs/lib/python3.10/site-packages/sklearn/linear_model/_logistic.py:444: ConvergenceWarning: lbfgs failed to converge (status=1):\n",
      "STOP: TOTAL NO. of ITERATIONS REACHED LIMIT.\n",
      "\n",
      "Increase the number of iterations (max_iter) or scale the data as shown in:\n",
      "    https://scikit-learn.org/stable/modules/preprocessing.html\n",
      "Please also refer to the documentation for alternative solver options:\n",
      "    https://scikit-learn.org/stable/modules/linear_model.html#logistic-regression\n",
      "  n_iter_i = _check_optimize_result(\n"
     ]
    },
    {
     "data": {
      "text/html": [
       "<style>#sk-container-id-1 {color: black;background-color: white;}#sk-container-id-1 pre{padding: 0;}#sk-container-id-1 div.sk-toggleable {background-color: white;}#sk-container-id-1 label.sk-toggleable__label {cursor: pointer;display: block;width: 100%;margin-bottom: 0;padding: 0.3em;box-sizing: border-box;text-align: center;}#sk-container-id-1 label.sk-toggleable__label-arrow:before {content: \"▸\";float: left;margin-right: 0.25em;color: #696969;}#sk-container-id-1 label.sk-toggleable__label-arrow:hover:before {color: black;}#sk-container-id-1 div.sk-estimator:hover label.sk-toggleable__label-arrow:before {color: black;}#sk-container-id-1 div.sk-toggleable__content {max-height: 0;max-width: 0;overflow: hidden;text-align: left;background-color: #f0f8ff;}#sk-container-id-1 div.sk-toggleable__content pre {margin: 0.2em;color: black;border-radius: 0.25em;background-color: #f0f8ff;}#sk-container-id-1 input.sk-toggleable__control:checked~div.sk-toggleable__content {max-height: 200px;max-width: 100%;overflow: auto;}#sk-container-id-1 input.sk-toggleable__control:checked~label.sk-toggleable__label-arrow:before {content: \"▾\";}#sk-container-id-1 div.sk-estimator input.sk-toggleable__control:checked~label.sk-toggleable__label {background-color: #d4ebff;}#sk-container-id-1 div.sk-label input.sk-toggleable__control:checked~label.sk-toggleable__label {background-color: #d4ebff;}#sk-container-id-1 input.sk-hidden--visually {border: 0;clip: rect(1px 1px 1px 1px);clip: rect(1px, 1px, 1px, 1px);height: 1px;margin: -1px;overflow: hidden;padding: 0;position: absolute;width: 1px;}#sk-container-id-1 div.sk-estimator {font-family: monospace;background-color: #f0f8ff;border: 1px dotted black;border-radius: 0.25em;box-sizing: border-box;margin-bottom: 0.5em;}#sk-container-id-1 div.sk-estimator:hover {background-color: #d4ebff;}#sk-container-id-1 div.sk-parallel-item::after {content: \"\";width: 100%;border-bottom: 1px solid gray;flex-grow: 1;}#sk-container-id-1 div.sk-label:hover label.sk-toggleable__label {background-color: #d4ebff;}#sk-container-id-1 div.sk-serial::before {content: \"\";position: absolute;border-left: 1px solid gray;box-sizing: border-box;top: 0;bottom: 0;left: 50%;z-index: 0;}#sk-container-id-1 div.sk-serial {display: flex;flex-direction: column;align-items: center;background-color: white;padding-right: 0.2em;padding-left: 0.2em;position: relative;}#sk-container-id-1 div.sk-item {position: relative;z-index: 1;}#sk-container-id-1 div.sk-parallel {display: flex;align-items: stretch;justify-content: center;background-color: white;position: relative;}#sk-container-id-1 div.sk-item::before, #sk-container-id-1 div.sk-parallel-item::before {content: \"\";position: absolute;border-left: 1px solid gray;box-sizing: border-box;top: 0;bottom: 0;left: 50%;z-index: -1;}#sk-container-id-1 div.sk-parallel-item {display: flex;flex-direction: column;z-index: 1;position: relative;background-color: white;}#sk-container-id-1 div.sk-parallel-item:first-child::after {align-self: flex-end;width: 50%;}#sk-container-id-1 div.sk-parallel-item:last-child::after {align-self: flex-start;width: 50%;}#sk-container-id-1 div.sk-parallel-item:only-child::after {width: 0;}#sk-container-id-1 div.sk-dashed-wrapped {border: 1px dashed gray;margin: 0 0.4em 0.5em 0.4em;box-sizing: border-box;padding-bottom: 0.4em;background-color: white;}#sk-container-id-1 div.sk-label label {font-family: monospace;font-weight: bold;display: inline-block;line-height: 1.2em;}#sk-container-id-1 div.sk-label-container {text-align: center;}#sk-container-id-1 div.sk-container {/* jupyter's `normalize.less` sets `[hidden] { display: none; }` but bootstrap.min.css set `[hidden] { display: none !important; }` so we also need the `!important` here to be able to override the default hidden behavior on the sphinx rendered scikit-learn.org. See: https://github.com/scikit-learn/scikit-learn/issues/21755 */display: inline-block !important;position: relative;}#sk-container-id-1 div.sk-text-repr-fallback {display: none;}</style><div id=\"sk-container-id-1\" class=\"sk-top-container\"><div class=\"sk-text-repr-fallback\"><pre>Pipeline(steps=[(&#x27;scale&#x27;, None), (&#x27;model&#x27;, LogisticRegression())])</pre><b>In a Jupyter environment, please rerun this cell to show the HTML representation or trust the notebook. <br />On GitHub, the HTML representation is unable to render, please try loading this page with nbviewer.org.</b></div><div class=\"sk-container\" hidden><div class=\"sk-item sk-dashed-wrapped\"><div class=\"sk-label-container\"><div class=\"sk-label sk-toggleable\"><input class=\"sk-toggleable__control sk-hidden--visually\" id=\"sk-estimator-id-1\" type=\"checkbox\" ><label for=\"sk-estimator-id-1\" class=\"sk-toggleable__label sk-toggleable__label-arrow\">Pipeline</label><div class=\"sk-toggleable__content\"><pre>Pipeline(steps=[(&#x27;scale&#x27;, None), (&#x27;model&#x27;, LogisticRegression())])</pre></div></div></div><div class=\"sk-serial\"><div class=\"sk-item\"><div class=\"sk-estimator sk-toggleable\"><input class=\"sk-toggleable__control sk-hidden--visually\" id=\"sk-estimator-id-2\" type=\"checkbox\" ><label for=\"sk-estimator-id-2\" class=\"sk-toggleable__label sk-toggleable__label-arrow\">None</label><div class=\"sk-toggleable__content\"><pre>None</pre></div></div></div><div class=\"sk-item\"><div class=\"sk-estimator sk-toggleable\"><input class=\"sk-toggleable__control sk-hidden--visually\" id=\"sk-estimator-id-3\" type=\"checkbox\" ><label for=\"sk-estimator-id-3\" class=\"sk-toggleable__label sk-toggleable__label-arrow\">LogisticRegression</label><div class=\"sk-toggleable__content\"><pre>LogisticRegression()</pre></div></div></div></div></div></div></div>"
      ],
      "text/plain": [
       "Pipeline(steps=[('scale', None), ('model', LogisticRegression())])"
      ]
     },
     "execution_count": 36,
     "metadata": {},
     "output_type": "execute_result"
    }
   ],
   "source": [
    "model.fit(X_train, y_train.values.ravel())"
   ]
  },
  {
   "cell_type": "code",
   "execution_count": 37,
   "id": "af59f8c0",
   "metadata": {
    "execution": {
     "iopub.execute_input": "2025-07-28T11:05:10.485356Z",
     "iopub.status.busy": "2025-07-28T11:05:10.484644Z",
     "iopub.status.idle": "2025-07-28T11:05:10.492053Z",
     "shell.execute_reply": "2025-07-28T11:05:10.490771Z"
    },
    "papermill": {
     "duration": 0.034953,
     "end_time": "2025-07-28T11:05:10.494340",
     "exception": false,
     "start_time": "2025-07-28T11:05:10.459387",
     "status": "completed"
    },
    "tags": []
   },
   "outputs": [],
   "source": [
    "from fairness_multiverse.universe import predict_w_threshold"
   ]
  },
  {
   "cell_type": "code",
   "execution_count": 38,
   "id": "a7cf2e16",
   "metadata": {
    "execution": {
     "iopub.execute_input": "2025-07-28T11:05:10.553184Z",
     "iopub.status.busy": "2025-07-28T11:05:10.552428Z",
     "iopub.status.idle": "2025-07-28T11:05:10.658519Z",
     "shell.execute_reply": "2025-07-28T11:05:10.657373Z"
    },
    "papermill": {
     "duration": 0.135101,
     "end_time": "2025-07-28T11:05:10.660672",
     "exception": false,
     "start_time": "2025-07-28T11:05:10.525571",
     "status": "completed"
    },
    "tags": []
   },
   "outputs": [
    {
     "data": {
      "text/plain": [
       "0.8638836250139338"
      ]
     },
     "execution_count": 38,
     "metadata": {},
     "output_type": "execute_result"
    }
   ],
   "source": [
    "probs_test = model.predict_proba(X_test)\n",
    "\n",
    "'''\n",
    "Below code returns a boolean array (or binary 0/1 array depending on how it’s used) where each element \n",
    "is True if the probability of class 1 is greater than or equal to the threshold, and False otherwise.\n",
    "'''\n",
    "y_pred_default = predict_w_threshold(probs_test, 0.5)\n",
    "\n",
    "from sklearn.metrics import accuracy_score\n",
    "\n",
    "# Naive prediction\n",
    "accuracy_score(y_true = y_true, y_pred = y_pred_default)"
   ]
  },
  {
   "cell_type": "code",
   "execution_count": 39,
   "id": "081964c3",
   "metadata": {
    "execution": {
     "iopub.execute_input": "2025-07-28T11:05:10.710647Z",
     "iopub.status.busy": "2025-07-28T11:05:10.709869Z",
     "iopub.status.idle": "2025-07-28T11:05:10.806713Z",
     "shell.execute_reply": "2025-07-28T11:05:10.805807Z"
    },
    "papermill": {
     "duration": 0.123355,
     "end_time": "2025-07-28T11:05:10.808555",
     "exception": false,
     "start_time": "2025-07-28T11:05:10.685200",
     "status": "completed"
    },
    "tags": []
   },
   "outputs": [
    {
     "data": {
      "text/plain": [
       "array([0, 0, 0, ..., 0, 0, 0])"
      ]
     },
     "execution_count": 39,
     "metadata": {},
     "output_type": "execute_result"
    }
   ],
   "source": [
    "model.predict(X_test)"
   ]
  },
  {
   "cell_type": "markdown",
   "id": "56c9705b",
   "metadata": {
    "papermill": {
     "duration": 0.024267,
     "end_time": "2025-07-28T11:05:10.858253",
     "exception": false,
     "start_time": "2025-07-28T11:05:10.833986",
     "status": "completed"
    },
    "tags": []
   },
   "source": [
    "# Conformal Prediction"
   ]
  },
  {
   "cell_type": "code",
   "execution_count": 40,
   "id": "160ec6ff",
   "metadata": {
    "execution": {
     "iopub.execute_input": "2025-07-28T11:05:10.907390Z",
     "iopub.status.busy": "2025-07-28T11:05:10.906859Z",
     "iopub.status.idle": "2025-07-28T11:05:10.912629Z",
     "shell.execute_reply": "2025-07-28T11:05:10.911570Z"
    },
    "papermill": {
     "duration": 0.032482,
     "end_time": "2025-07-28T11:05:10.914613",
     "exception": false,
     "start_time": "2025-07-28T11:05:10.882131",
     "status": "completed"
    },
    "tags": []
   },
   "outputs": [],
   "source": [
    "# Miscoverage level for conformal prediction (10% allowed error rate => 90% target coverage)\n",
    "alpha = 0.1"
   ]
  },
  {
   "cell_type": "code",
   "execution_count": 41,
   "id": "eadf4555-3dd3-440e-8e35-f82a4ad9f855",
   "metadata": {
    "execution": {
     "iopub.execute_input": "2025-07-28T11:05:11.012524Z",
     "iopub.status.busy": "2025-07-28T11:05:11.011949Z",
     "iopub.status.idle": "2025-07-28T11:05:11.101079Z",
     "shell.execute_reply": "2025-07-28T11:05:11.099950Z"
    },
    "papermill": {
     "duration": 0.163951,
     "end_time": "2025-07-28T11:05:11.102611",
     "exception": false,
     "start_time": "2025-07-28T11:05:10.938660",
     "status": "completed"
    },
    "tags": []
   },
   "outputs": [],
   "source": [
    "probs_calib = model.predict_proba(X_calib)"
   ]
  },
  {
   "cell_type": "code",
   "execution_count": 42,
   "id": "2ed93547-6d5d-4983-9b36-1ecb300da49a",
   "metadata": {
    "execution": {
     "iopub.execute_input": "2025-07-28T11:05:11.152702Z",
     "iopub.status.busy": "2025-07-28T11:05:11.152348Z",
     "iopub.status.idle": "2025-07-28T11:05:11.157377Z",
     "shell.execute_reply": "2025-07-28T11:05:11.156709Z"
    },
    "papermill": {
     "duration": 0.032428,
     "end_time": "2025-07-28T11:05:11.159015",
     "exception": false,
     "start_time": "2025-07-28T11:05:11.126587",
     "status": "completed"
    },
    "tags": []
   },
   "outputs": [],
   "source": [
    "y_calib = y_calib.values.ravel().astype(int)"
   ]
  },
  {
   "cell_type": "code",
   "execution_count": 43,
   "id": "65d1320d-f588-4b38-9072-62af1ae97f7d",
   "metadata": {
    "execution": {
     "iopub.execute_input": "2025-07-28T11:05:11.193560Z",
     "iopub.status.busy": "2025-07-28T11:05:11.192895Z",
     "iopub.status.idle": "2025-07-28T11:05:11.201113Z",
     "shell.execute_reply": "2025-07-28T11:05:11.200147Z"
    },
    "papermill": {
     "duration": 0.031002,
     "end_time": "2025-07-28T11:05:11.202924",
     "exception": false,
     "start_time": "2025-07-28T11:05:11.171922",
     "status": "completed"
    },
    "tags": []
   },
   "outputs": [],
   "source": [
    "from fairness_multiverse.conformal import compute_nc_scores\n",
    "\n",
    "# Compute nonconformity scores on calibration set (1 - probability of true class)\n",
    "nc_scores = compute_nc_scores(probs_calib, y_calib)"
   ]
  },
  {
   "cell_type": "code",
   "execution_count": 44,
   "id": "df3b8ca3-53b7-43d5-9667-7c85da7aeda2",
   "metadata": {
    "execution": {
     "iopub.execute_input": "2025-07-28T11:05:11.253883Z",
     "iopub.status.busy": "2025-07-28T11:05:11.253383Z",
     "iopub.status.idle": "2025-07-28T11:05:11.260549Z",
     "shell.execute_reply": "2025-07-28T11:05:11.259511Z"
    },
    "papermill": {
     "duration": 0.034622,
     "end_time": "2025-07-28T11:05:11.262575",
     "exception": false,
     "start_time": "2025-07-28T11:05:11.227953",
     "status": "completed"
    },
    "tags": []
   },
   "outputs": [],
   "source": [
    "from fairness_multiverse.conformal import find_threshold\n",
    "\n",
    "# Find conformal threshold q_hat for the given alpha (split conformal method)\n",
    "q_hat = find_threshold(nc_scores, alpha)"
   ]
  },
  {
   "cell_type": "code",
   "execution_count": 45,
   "id": "4d29e6c1-0ef6-4aa4-b8fe-4fe79b0d033a",
   "metadata": {
    "execution": {
     "iopub.execute_input": "2025-07-28T11:05:11.298313Z",
     "iopub.status.busy": "2025-07-28T11:05:11.297714Z",
     "iopub.status.idle": "2025-07-28T11:05:11.305430Z",
     "shell.execute_reply": "2025-07-28T11:05:11.304460Z"
    },
    "papermill": {
     "duration": 0.026197,
     "end_time": "2025-07-28T11:05:11.307823",
     "exception": false,
     "start_time": "2025-07-28T11:05:11.281626",
     "status": "completed"
    },
    "tags": []
   },
   "outputs": [
    {
     "data": {
      "text/plain": [
       "0.647023415505382"
      ]
     },
     "execution_count": 45,
     "metadata": {},
     "output_type": "execute_result"
    }
   ],
   "source": [
    "q_hat"
   ]
  },
  {
   "cell_type": "code",
   "execution_count": 46,
   "id": "92460794-cdac-4be2-ba28-f28c0515a6fb",
   "metadata": {
    "execution": {
     "iopub.execute_input": "2025-07-28T11:05:11.344414Z",
     "iopub.status.busy": "2025-07-28T11:05:11.344003Z",
     "iopub.status.idle": "2025-07-28T11:05:12.072920Z",
     "shell.execute_reply": "2025-07-28T11:05:12.071801Z"
    },
    "papermill": {
     "duration": 0.744159,
     "end_time": "2025-07-28T11:05:12.074850",
     "exception": false,
     "start_time": "2025-07-28T11:05:11.330691",
     "status": "completed"
    },
    "tags": []
   },
   "outputs": [],
   "source": [
    "from fairness_multiverse.conformal import predict_conformal_sets\n",
    "\n",
    "# Generate prediction sets for each test example\n",
    "pred_sets = predict_conformal_sets(model, X_test, q_hat)"
   ]
  },
  {
   "cell_type": "code",
   "execution_count": 47,
   "id": "d90c9a65-e6db-4f5d-80cd-e68fb7e46829",
   "metadata": {
    "execution": {
     "iopub.execute_input": "2025-07-28T11:05:12.126336Z",
     "iopub.status.busy": "2025-07-28T11:05:12.125489Z",
     "iopub.status.idle": "2025-07-28T11:05:12.131686Z",
     "shell.execute_reply": "2025-07-28T11:05:12.130568Z"
    },
    "papermill": {
     "duration": 0.034234,
     "end_time": "2025-07-28T11:05:12.133472",
     "exception": false,
     "start_time": "2025-07-28T11:05:12.099238",
     "status": "completed"
    },
    "tags": []
   },
   "outputs": [],
   "source": [
    "y_true = y_true.squeeze()"
   ]
  },
  {
   "cell_type": "code",
   "execution_count": 48,
   "id": "3a58a54a-1e68-46b9-927a-df01f18aebc8",
   "metadata": {
    "execution": {
     "iopub.execute_input": "2025-07-28T11:05:12.189870Z",
     "iopub.status.busy": "2025-07-28T11:05:12.188906Z",
     "iopub.status.idle": "2025-07-28T11:05:12.934050Z",
     "shell.execute_reply": "2025-07-28T11:05:12.932979Z"
    },
    "papermill": {
     "duration": 0.77746,
     "end_time": "2025-07-28T11:05:12.936234",
     "exception": false,
     "start_time": "2025-07-28T11:05:12.158774",
     "status": "completed"
    },
    "tags": []
   },
   "outputs": [],
   "source": [
    "from fairness_multiverse.conformal import evaluate_sets\n",
    "\n",
    "# Evaluate coverage and average set size on test data\n",
    "metrics = evaluate_sets(pred_sets, y_true)"
   ]
  },
  {
   "cell_type": "markdown",
   "id": "2b569c12-9aaa-4c88-98c9-bbcd0cf3ebb8",
   "metadata": {
    "papermill": {
     "duration": 0.026927,
     "end_time": "2025-07-28T11:05:12.989968",
     "exception": false,
     "start_time": "2025-07-28T11:05:12.963041",
     "status": "completed"
    },
    "tags": []
   },
   "source": [
    "# CP Metrics"
   ]
  },
  {
   "cell_type": "code",
   "execution_count": 49,
   "id": "5ce0a5cb-201f-45a0-ade5-94c7f0bd6095",
   "metadata": {
    "execution": {
     "iopub.execute_input": "2025-07-28T11:05:13.043620Z",
     "iopub.status.busy": "2025-07-28T11:05:13.042853Z",
     "iopub.status.idle": "2025-07-28T11:05:13.050916Z",
     "shell.execute_reply": "2025-07-28T11:05:13.049980Z"
    },
    "papermill": {
     "duration": 0.03667,
     "end_time": "2025-07-28T11:05:13.052773",
     "exception": false,
     "start_time": "2025-07-28T11:05:13.016103",
     "status": "completed"
    },
    "tags": []
   },
   "outputs": [
    {
     "data": {
      "text/plain": [
       "{'coverage': 0.9127410545089734, 'avg_size': 1.2509196299186267}"
      ]
     },
     "execution_count": 49,
     "metadata": {},
     "output_type": "execute_result"
    }
   ],
   "source": [
    "metrics"
   ]
  },
  {
   "cell_type": "code",
   "execution_count": 50,
   "id": "9b9a838d-31c9-430b-ae14-12baee460d17",
   "metadata": {
    "execution": {
     "iopub.execute_input": "2025-07-28T11:05:13.106197Z",
     "iopub.status.busy": "2025-07-28T11:05:13.105356Z",
     "iopub.status.idle": "2025-07-28T11:05:13.112575Z",
     "shell.execute_reply": "2025-07-28T11:05:13.111566Z"
    },
    "papermill": {
     "duration": 0.03599,
     "end_time": "2025-07-28T11:05:13.114407",
     "exception": false,
     "start_time": "2025-07-28T11:05:13.078417",
     "status": "completed"
    },
    "tags": []
   },
   "outputs": [],
   "source": [
    "example_universe = universe.copy()\n",
    "universe_training_size = example_universe.get(\"training_size\")\n",
    "universe_scale = example_universe.get(\"scale\")\n",
    "universe_model = example_universe.get(\"model\")\n",
    "universe_exclude_features = example_universe.get(\"exclude_features\")\n",
    "universe_exclude_subgroups = example_universe.get(\"exclude_subgroups\")"
   ]
  },
  {
   "cell_type": "code",
   "execution_count": 51,
   "id": "f4b6a8ac-9dc0-4245-8a91-5b3b5999c4f9",
   "metadata": {
    "execution": {
     "iopub.execute_input": "2025-07-28T11:05:13.170122Z",
     "iopub.status.busy": "2025-07-28T11:05:13.169397Z",
     "iopub.status.idle": "2025-07-28T11:05:13.177147Z",
     "shell.execute_reply": "2025-07-28T11:05:13.176024Z"
    },
    "papermill": {
     "duration": 0.037879,
     "end_time": "2025-07-28T11:05:13.179001",
     "exception": false,
     "start_time": "2025-07-28T11:05:13.141122",
     "status": "completed"
    },
    "tags": []
   },
   "outputs": [],
   "source": [
    "cp_metrics_dict = {\n",
    "    \"universe_id\": [universe_id],\n",
    "    \"universe_training_size\": [universe_training_size],\n",
    "    \"universe_scale\": [universe_scale],\n",
    "    \"universe_model\": [universe_model],\n",
    "    \"universe_exclude_features\": [universe_exclude_features],\n",
    "    \"universe_exclude_subgroups\": [universe_exclude_subgroups],\n",
    "    \"q_hat\": [q_hat],\n",
    "    \"coverage\": [metrics[\"coverage\"]],\n",
    "    \"avg_size\": [metrics[\"avg_size\"]],\n",
    "}"
   ]
  },
  {
   "cell_type": "code",
   "execution_count": 52,
   "id": "908acbb1-0371-4915-85ca-3fa520d2efe2",
   "metadata": {
    "execution": {
     "iopub.execute_input": "2025-07-28T11:05:13.231546Z",
     "iopub.status.busy": "2025-07-28T11:05:13.230819Z",
     "iopub.status.idle": "2025-07-28T11:05:13.239445Z",
     "shell.execute_reply": "2025-07-28T11:05:13.238369Z"
    },
    "papermill": {
     "duration": 0.036431,
     "end_time": "2025-07-28T11:05:13.241490",
     "exception": false,
     "start_time": "2025-07-28T11:05:13.205059",
     "status": "completed"
    },
    "tags": []
   },
   "outputs": [
    {
     "data": {
      "text/plain": [
       "{'universe_id': ['0dd2eddfcbc9e03d1956f2c9fd9507c6'],\n",
       " 'universe_training_size': ['2014'],\n",
       " 'universe_scale': ['do-not-scale'],\n",
       " 'universe_model': ['penalized_logreg'],\n",
       " 'universe_exclude_features': ['age'],\n",
       " 'universe_exclude_subgroups': ['keep-all'],\n",
       " 'q_hat': [0.647023415505382],\n",
       " 'coverage': [0.9127410545089734],\n",
       " 'avg_size': [1.2509196299186267]}"
      ]
     },
     "execution_count": 52,
     "metadata": {},
     "output_type": "execute_result"
    }
   ],
   "source": [
    "cp_metrics_dict"
   ]
  },
  {
   "cell_type": "code",
   "execution_count": 53,
   "id": "33007efc-14e9-4ec6-97ac-56a455c82265",
   "metadata": {
    "execution": {
     "iopub.execute_input": "2025-07-28T11:05:13.298303Z",
     "iopub.status.busy": "2025-07-28T11:05:13.297786Z",
     "iopub.status.idle": "2025-07-28T11:05:13.304937Z",
     "shell.execute_reply": "2025-07-28T11:05:13.303930Z"
    },
    "papermill": {
     "duration": 0.038381,
     "end_time": "2025-07-28T11:05:13.306832",
     "exception": false,
     "start_time": "2025-07-28T11:05:13.268451",
     "status": "completed"
    },
    "tags": []
   },
   "outputs": [],
   "source": [
    "cp_metrics_df = pd.DataFrame(cp_metrics_dict)"
   ]
  },
  {
   "cell_type": "code",
   "execution_count": 54,
   "id": "db12611b-57b2-4910-b9d0-355adfd6e7bf",
   "metadata": {
    "execution": {
     "iopub.execute_input": "2025-07-28T11:05:13.365297Z",
     "iopub.status.busy": "2025-07-28T11:05:13.364398Z",
     "iopub.status.idle": "2025-07-28T11:05:13.384190Z",
     "shell.execute_reply": "2025-07-28T11:05:13.382949Z"
    },
    "papermill": {
     "duration": 0.051004,
     "end_time": "2025-07-28T11:05:13.386039",
     "exception": false,
     "start_time": "2025-07-28T11:05:13.335035",
     "status": "completed"
    },
    "tags": []
   },
   "outputs": [
    {
     "data": {
      "text/html": [
       "<div>\n",
       "<style scoped>\n",
       "    .dataframe tbody tr th:only-of-type {\n",
       "        vertical-align: middle;\n",
       "    }\n",
       "\n",
       "    .dataframe tbody tr th {\n",
       "        vertical-align: top;\n",
       "    }\n",
       "\n",
       "    .dataframe thead th {\n",
       "        text-align: right;\n",
       "    }\n",
       "</style>\n",
       "<table border=\"1\" class=\"dataframe\">\n",
       "  <thead>\n",
       "    <tr style=\"text-align: right;\">\n",
       "      <th></th>\n",
       "      <th>universe_id</th>\n",
       "      <th>universe_training_size</th>\n",
       "      <th>universe_scale</th>\n",
       "      <th>universe_model</th>\n",
       "      <th>universe_exclude_features</th>\n",
       "      <th>universe_exclude_subgroups</th>\n",
       "      <th>q_hat</th>\n",
       "      <th>coverage</th>\n",
       "      <th>avg_size</th>\n",
       "    </tr>\n",
       "  </thead>\n",
       "  <tbody>\n",
       "    <tr>\n",
       "      <th>0</th>\n",
       "      <td>0dd2eddfcbc9e03d1956f2c9fd9507c6</td>\n",
       "      <td>2014</td>\n",
       "      <td>do-not-scale</td>\n",
       "      <td>penalized_logreg</td>\n",
       "      <td>age</td>\n",
       "      <td>keep-all</td>\n",
       "      <td>0.647023</td>\n",
       "      <td>0.912741</td>\n",
       "      <td>1.25092</td>\n",
       "    </tr>\n",
       "  </tbody>\n",
       "</table>\n",
       "</div>"
      ],
      "text/plain": [
       "                        universe_id universe_training_size universe_scale  \\\n",
       "0  0dd2eddfcbc9e03d1956f2c9fd9507c6                   2014   do-not-scale   \n",
       "\n",
       "     universe_model universe_exclude_features universe_exclude_subgroups  \\\n",
       "0  penalized_logreg                       age                   keep-all   \n",
       "\n",
       "      q_hat  coverage  avg_size  \n",
       "0  0.647023  0.912741   1.25092  "
      ]
     },
     "execution_count": 54,
     "metadata": {},
     "output_type": "execute_result"
    }
   ],
   "source": [
    "cp_metrics_df"
   ]
  },
  {
   "cell_type": "code",
   "execution_count": 55,
   "id": "b7fbde55-a0a1-47e4-9af6-fe4a17fa8c61",
   "metadata": {
    "execution": {
     "iopub.execute_input": "2025-07-28T11:05:13.446236Z",
     "iopub.status.busy": "2025-07-28T11:05:13.445237Z",
     "iopub.status.idle": "2025-07-28T11:05:13.450729Z",
     "shell.execute_reply": "2025-07-28T11:05:13.449977Z"
    },
    "papermill": {
     "duration": 0.03728,
     "end_time": "2025-07-28T11:05:13.452165",
     "exception": false,
     "start_time": "2025-07-28T11:05:13.414885",
     "status": "completed"
    },
    "tags": []
   },
   "outputs": [],
   "source": [
    "# Conditional Coverage & looking at subgroups"
   ]
  },
  {
   "cell_type": "code",
   "execution_count": 56,
   "id": "027ae886-68dd-4141-96c7-805a5450e1ef",
   "metadata": {
    "execution": {
     "iopub.execute_input": "2025-07-28T11:05:13.481613Z",
     "iopub.status.busy": "2025-07-28T11:05:13.481090Z",
     "iopub.status.idle": "2025-07-28T11:05:13.678716Z",
     "shell.execute_reply": "2025-07-28T11:05:13.677943Z"
    },
    "papermill": {
     "duration": 0.213795,
     "end_time": "2025-07-28T11:05:13.680393",
     "exception": false,
     "start_time": "2025-07-28T11:05:13.466598",
     "status": "completed"
    },
    "tags": []
   },
   "outputs": [],
   "source": [
    "from fairness_multiverse.conformal import build_cp_groups\n",
    "\n",
    "cp_groups_df = build_cp_groups(pred_sets, y_true, X_test.index, org_test)\n",
    "#needs universe_id and setting"
   ]
  },
  {
   "cell_type": "code",
   "execution_count": 57,
   "id": "01d5802c-663a-4d1f-9d69-e036faaffbf7",
   "metadata": {
    "execution": {
     "iopub.execute_input": "2025-07-28T11:05:13.709773Z",
     "iopub.status.busy": "2025-07-28T11:05:13.709264Z",
     "iopub.status.idle": "2025-07-28T11:05:13.713765Z",
     "shell.execute_reply": "2025-07-28T11:05:13.713041Z"
    },
    "papermill": {
     "duration": 0.020699,
     "end_time": "2025-07-28T11:05:13.715107",
     "exception": false,
     "start_time": "2025-07-28T11:05:13.694408",
     "status": "completed"
    },
    "tags": []
   },
   "outputs": [],
   "source": [
    "#delete\n",
    "#cp_groups_df"
   ]
  },
  {
   "cell_type": "code",
   "execution_count": 58,
   "id": "fa424af1-d1eb-443d-b717-2d279ada8408",
   "metadata": {
    "execution": {
     "iopub.execute_input": "2025-07-28T11:05:13.745656Z",
     "iopub.status.busy": "2025-07-28T11:05:13.745148Z",
     "iopub.status.idle": "2025-07-28T11:05:13.749291Z",
     "shell.execute_reply": "2025-07-28T11:05:13.748487Z"
    },
    "papermill": {
     "duration": 0.020177,
     "end_time": "2025-07-28T11:05:13.750764",
     "exception": false,
     "start_time": "2025-07-28T11:05:13.730587",
     "status": "completed"
    },
    "tags": []
   },
   "outputs": [],
   "source": [
    "#delete\n",
    "#percentage = (cp_groups_df['nongerman_female'] == 1).mean() * 100\n",
    "#print(percentage)\n"
   ]
  },
  {
   "cell_type": "code",
   "execution_count": 59,
   "id": "6cbdab96-b2b2-45af-ad54-d0516db2e28d",
   "metadata": {
    "execution": {
     "iopub.execute_input": "2025-07-28T11:05:13.779811Z",
     "iopub.status.busy": "2025-07-28T11:05:13.779342Z",
     "iopub.status.idle": "2025-07-28T11:05:15.462770Z",
     "shell.execute_reply": "2025-07-28T11:05:15.461782Z"
    },
    "papermill": {
     "duration": 1.699994,
     "end_time": "2025-07-28T11:05:15.464804",
     "exception": false,
     "start_time": "2025-07-28T11:05:13.764810",
     "status": "completed"
    },
    "tags": []
   },
   "outputs": [],
   "source": [
    "# Define covered = 1 if true_label is in the predicted set\n",
    "cp_groups_df['covered'] = cp_groups_df.apply(\n",
    "    lambda r: int(r['true_label'] in r['pred_set']),\n",
    "    axis=1\n",
    ")"
   ]
  },
  {
   "cell_type": "code",
   "execution_count": 60,
   "id": "338ff529-1a6b-4b87-a931-8e4788d52aad",
   "metadata": {
    "execution": {
     "iopub.execute_input": "2025-07-28T11:05:15.521048Z",
     "iopub.status.busy": "2025-07-28T11:05:15.520302Z",
     "iopub.status.idle": "2025-07-28T11:05:15.525932Z",
     "shell.execute_reply": "2025-07-28T11:05:15.524864Z"
    },
    "papermill": {
     "duration": 0.035531,
     "end_time": "2025-07-28T11:05:15.527866",
     "exception": false,
     "start_time": "2025-07-28T11:05:15.492335",
     "status": "completed"
    },
    "tags": []
   },
   "outputs": [],
   "source": [
    "#cp_groups_df"
   ]
  },
  {
   "cell_type": "code",
   "execution_count": 61,
   "id": "90032e27-66df-4540-9169-4e89cfbaa758",
   "metadata": {
    "execution": {
     "iopub.execute_input": "2025-07-28T11:05:15.580164Z",
     "iopub.status.busy": "2025-07-28T11:05:15.579665Z",
     "iopub.status.idle": "2025-07-28T11:05:15.591783Z",
     "shell.execute_reply": "2025-07-28T11:05:15.590840Z"
    },
    "papermill": {
     "duration": 0.040631,
     "end_time": "2025-07-28T11:05:15.593707",
     "exception": false,
     "start_time": "2025-07-28T11:05:15.553076",
     "status": "completed"
    },
    "tags": []
   },
   "outputs": [],
   "source": [
    "subgroups = ['frau1','nongerman','nongerman_male','nongerman_female']\n",
    "\n",
    "# Conditional coverage for subgroup==1\n",
    "cond_coverage = {\n",
    "    g: cp_groups_df.loc[cp_groups_df[g]==1, 'covered'].mean()\n",
    "    for g in subgroups\n",
    "}"
   ]
  },
  {
   "cell_type": "code",
   "execution_count": 62,
   "id": "1e348fb1-b9c3-45bc-ba23-f016827a7e0d",
   "metadata": {
    "execution": {
     "iopub.execute_input": "2025-07-28T11:05:15.648607Z",
     "iopub.status.busy": "2025-07-28T11:05:15.647894Z",
     "iopub.status.idle": "2025-07-28T11:05:15.656355Z",
     "shell.execute_reply": "2025-07-28T11:05:15.655284Z"
    },
    "papermill": {
     "duration": 0.038166,
     "end_time": "2025-07-28T11:05:15.658182",
     "exception": false,
     "start_time": "2025-07-28T11:05:15.620016",
     "status": "completed"
    },
    "tags": []
   },
   "outputs": [
    {
     "data": {
      "text/plain": [
       "{'frau1': 0.9129532281978703,\n",
       " 'nongerman': 0.9625554370403637,\n",
       " 'nongerman_male': 0.968386922453391,\n",
       " 'nongerman_female': 0.9529061102831594}"
      ]
     },
     "execution_count": 62,
     "metadata": {},
     "output_type": "execute_result"
    }
   ],
   "source": [
    "cond_coverage"
   ]
  },
  {
   "cell_type": "code",
   "execution_count": 63,
   "id": "f5093324-c3dd-4d63-bc4c-8d945e5c8bbb",
   "metadata": {
    "execution": {
     "iopub.execute_input": "2025-07-28T11:05:15.712316Z",
     "iopub.status.busy": "2025-07-28T11:05:15.711864Z",
     "iopub.status.idle": "2025-07-28T11:05:15.720019Z",
     "shell.execute_reply": "2025-07-28T11:05:15.718994Z"
    },
    "papermill": {
     "duration": 0.036446,
     "end_time": "2025-07-28T11:05:15.721681",
     "exception": false,
     "start_time": "2025-07-28T11:05:15.685235",
     "status": "completed"
    },
    "tags": []
   },
   "outputs": [],
   "source": [
    "for subgroup, cov in cond_coverage.items():\n",
    "    cp_metrics_df[f\"cov_{subgroup}\"] = cov"
   ]
  },
  {
   "cell_type": "code",
   "execution_count": 64,
   "id": "6e872e10-dbe5-49e8-b554-5030c98ff75d",
   "metadata": {
    "execution": {
     "iopub.execute_input": "2025-07-28T11:05:15.775993Z",
     "iopub.status.busy": "2025-07-28T11:05:15.774904Z",
     "iopub.status.idle": "2025-07-28T11:05:15.797434Z",
     "shell.execute_reply": "2025-07-28T11:05:15.796098Z"
    },
    "papermill": {
     "duration": 0.051634,
     "end_time": "2025-07-28T11:05:15.799079",
     "exception": false,
     "start_time": "2025-07-28T11:05:15.747445",
     "status": "completed"
    },
    "tags": []
   },
   "outputs": [
    {
     "data": {
      "text/html": [
       "<div>\n",
       "<style scoped>\n",
       "    .dataframe tbody tr th:only-of-type {\n",
       "        vertical-align: middle;\n",
       "    }\n",
       "\n",
       "    .dataframe tbody tr th {\n",
       "        vertical-align: top;\n",
       "    }\n",
       "\n",
       "    .dataframe thead th {\n",
       "        text-align: right;\n",
       "    }\n",
       "</style>\n",
       "<table border=\"1\" class=\"dataframe\">\n",
       "  <thead>\n",
       "    <tr style=\"text-align: right;\">\n",
       "      <th></th>\n",
       "      <th>universe_id</th>\n",
       "      <th>universe_training_size</th>\n",
       "      <th>universe_scale</th>\n",
       "      <th>universe_model</th>\n",
       "      <th>universe_exclude_features</th>\n",
       "      <th>universe_exclude_subgroups</th>\n",
       "      <th>q_hat</th>\n",
       "      <th>coverage</th>\n",
       "      <th>avg_size</th>\n",
       "      <th>cov_frau1</th>\n",
       "      <th>cov_nongerman</th>\n",
       "      <th>cov_nongerman_male</th>\n",
       "      <th>cov_nongerman_female</th>\n",
       "    </tr>\n",
       "  </thead>\n",
       "  <tbody>\n",
       "    <tr>\n",
       "      <th>0</th>\n",
       "      <td>0dd2eddfcbc9e03d1956f2c9fd9507c6</td>\n",
       "      <td>2014</td>\n",
       "      <td>do-not-scale</td>\n",
       "      <td>penalized_logreg</td>\n",
       "      <td>age</td>\n",
       "      <td>keep-all</td>\n",
       "      <td>0.647023</td>\n",
       "      <td>0.912741</td>\n",
       "      <td>1.25092</td>\n",
       "      <td>0.912953</td>\n",
       "      <td>0.962555</td>\n",
       "      <td>0.968387</td>\n",
       "      <td>0.952906</td>\n",
       "    </tr>\n",
       "  </tbody>\n",
       "</table>\n",
       "</div>"
      ],
      "text/plain": [
       "                        universe_id universe_training_size universe_scale  \\\n",
       "0  0dd2eddfcbc9e03d1956f2c9fd9507c6                   2014   do-not-scale   \n",
       "\n",
       "     universe_model universe_exclude_features universe_exclude_subgroups  \\\n",
       "0  penalized_logreg                       age                   keep-all   \n",
       "\n",
       "      q_hat  coverage  avg_size  cov_frau1  cov_nongerman  cov_nongerman_male  \\\n",
       "0  0.647023  0.912741   1.25092   0.912953       0.962555            0.968387   \n",
       "\n",
       "   cov_nongerman_female  \n",
       "0              0.952906  "
      ]
     },
     "execution_count": 64,
     "metadata": {},
     "output_type": "execute_result"
    }
   ],
   "source": [
    "cp_metrics_df"
   ]
  },
  {
   "cell_type": "markdown",
   "id": "33774451",
   "metadata": {
    "papermill": {
     "duration": 0.025615,
     "end_time": "2025-07-28T11:05:15.850488",
     "exception": false,
     "start_time": "2025-07-28T11:05:15.824873",
     "status": "completed"
    },
    "tags": []
   },
   "source": [
    "# (Fairness) Metrics"
   ]
  },
  {
   "cell_type": "code",
   "execution_count": 65,
   "id": "debc5d62",
   "metadata": {
    "execution": {
     "iopub.execute_input": "2025-07-28T11:05:15.905795Z",
     "iopub.status.busy": "2025-07-28T11:05:15.904728Z",
     "iopub.status.idle": "2025-07-28T11:05:15.928021Z",
     "shell.execute_reply": "2025-07-28T11:05:15.926914Z"
    },
    "papermill": {
     "duration": 0.054066,
     "end_time": "2025-07-28T11:05:15.930194",
     "exception": false,
     "start_time": "2025-07-28T11:05:15.876128",
     "status": "completed"
    },
    "tags": []
   },
   "outputs": [],
   "source": [
    "# do I need to include maxdeutsch1.missing?\n",
    "\n",
    "import numpy as np\n",
    "\n",
    "colname_to_bin = \"maxdeutsch1\"\n",
    "majority_value = org_train[colname_to_bin].mode()[0]\n",
    "\n",
    "org_test[\"majmin\"] = np.where(org_test[colname_to_bin] == majority_value, \"majority\", \"minority\")"
   ]
  },
  {
   "cell_type": "code",
   "execution_count": 66,
   "id": "06a50de5",
   "metadata": {
    "execution": {
     "iopub.execute_input": "2025-07-28T11:05:15.983882Z",
     "iopub.status.busy": "2025-07-28T11:05:15.983401Z",
     "iopub.status.idle": "2025-07-28T11:05:19.632765Z",
     "shell.execute_reply": "2025-07-28T11:05:19.631754Z"
    },
    "papermill": {
     "duration": 3.687147,
     "end_time": "2025-07-28T11:05:19.643987",
     "exception": false,
     "start_time": "2025-07-28T11:05:15.956840",
     "status": "completed"
    },
    "tags": []
   },
   "outputs": [],
   "source": [
    "example_universe = universe.copy()\n",
    "example_universe[\"cutoff\"] = example_universe[\"cutoff\"][0]\n",
    "example_universe[\"eval_fairness_grouping\"] = example_universe[\"eval_fairness_grouping\"][0]\n",
    "fairness_dict, metric_frame = universe_analysis.compute_metrics(\n",
    "    example_universe,\n",
    "    y_pred_prob=probs_test,\n",
    "    y_test=y_true,\n",
    "    org_test=org_test,\n",
    ")"
   ]
  },
  {
   "cell_type": "markdown",
   "id": "f95d4e02",
   "metadata": {
    "papermill": {
     "duration": 0.07755,
     "end_time": "2025-07-28T11:05:19.792526",
     "exception": false,
     "start_time": "2025-07-28T11:05:19.714976",
     "status": "completed"
    },
    "tags": []
   },
   "source": [
    "# Overall"
   ]
  },
  {
   "cell_type": "markdown",
   "id": "bdee4871",
   "metadata": {
    "papermill": {
     "duration": 0.050942,
     "end_time": "2025-07-28T11:05:19.901769",
     "exception": false,
     "start_time": "2025-07-28T11:05:19.850827",
     "status": "completed"
    },
    "tags": []
   },
   "source": [
    "Fairness\n",
    "Main fairness target: Equalized Odds. Seems to be a better fit than equal opportunity, since we're not only interested in Y = 1. Seems to be a better fit than demographic parity, since we also care about accuracy, not just equal distribution of preds.\n",
    "\n",
    "Pick column for computation of fairness metrics\n",
    "\n",
    "Performance\n",
    "Overall performance measures, most interesting in relation to the measures split by group below"
   ]
  },
  {
   "cell_type": "code",
   "execution_count": 67,
   "id": "c4e067c6",
   "metadata": {
    "execution": {
     "iopub.execute_input": "2025-07-28T11:05:20.014593Z",
     "iopub.status.busy": "2025-07-28T11:05:20.014167Z",
     "iopub.status.idle": "2025-07-28T11:05:20.026730Z",
     "shell.execute_reply": "2025-07-28T11:05:20.025601Z"
    },
    "papermill": {
     "duration": 0.076826,
     "end_time": "2025-07-28T11:05:20.028849",
     "exception": false,
     "start_time": "2025-07-28T11:05:19.952023",
     "status": "completed"
    },
    "tags": []
   },
   "outputs": [
    {
     "data": {
      "text/plain": [
       "accuracy                   0.216754\n",
       "balanced accuracy          0.531590\n",
       "f1                         0.238295\n",
       "precision                  0.136130\n",
       "false positive rate        0.891895\n",
       "false negative rate        0.044925\n",
       "selection rate             0.900000\n",
       "count                  89710.000000\n",
       "dtype: float64"
      ]
     },
     "execution_count": 67,
     "metadata": {},
     "output_type": "execute_result"
    }
   ],
   "source": [
    "metric_frame.overall"
   ]
  },
  {
   "cell_type": "markdown",
   "id": "e968fe9d",
   "metadata": {
    "papermill": {
     "duration": 0.060267,
     "end_time": "2025-07-28T11:05:20.143546",
     "exception": false,
     "start_time": "2025-07-28T11:05:20.083279",
     "status": "completed"
    },
    "tags": []
   },
   "source": [
    "By Group"
   ]
  },
  {
   "cell_type": "code",
   "execution_count": 68,
   "id": "ec325bce",
   "metadata": {
    "execution": {
     "iopub.execute_input": "2025-07-28T11:05:20.256684Z",
     "iopub.status.busy": "2025-07-28T11:05:20.256271Z",
     "iopub.status.idle": "2025-07-28T11:05:20.286020Z",
     "shell.execute_reply": "2025-07-28T11:05:20.285026Z"
    },
    "papermill": {
     "duration": 0.093923,
     "end_time": "2025-07-28T11:05:20.288077",
     "exception": false,
     "start_time": "2025-07-28T11:05:20.194154",
     "status": "completed"
    },
    "tags": []
   },
   "outputs": [
    {
     "data": {
      "text/html": [
       "<div>\n",
       "<style scoped>\n",
       "    .dataframe tbody tr th:only-of-type {\n",
       "        vertical-align: middle;\n",
       "    }\n",
       "\n",
       "    .dataframe tbody tr th {\n",
       "        vertical-align: top;\n",
       "    }\n",
       "\n",
       "    .dataframe thead th {\n",
       "        text-align: right;\n",
       "    }\n",
       "</style>\n",
       "<table border=\"1\" class=\"dataframe\">\n",
       "  <thead>\n",
       "    <tr style=\"text-align: right;\">\n",
       "      <th></th>\n",
       "      <th>accuracy</th>\n",
       "      <th>balanced accuracy</th>\n",
       "      <th>f1</th>\n",
       "      <th>precision</th>\n",
       "      <th>false positive rate</th>\n",
       "      <th>false negative rate</th>\n",
       "      <th>selection rate</th>\n",
       "      <th>count</th>\n",
       "    </tr>\n",
       "    <tr>\n",
       "      <th>majmin</th>\n",
       "      <th></th>\n",
       "      <th></th>\n",
       "      <th></th>\n",
       "      <th></th>\n",
       "      <th></th>\n",
       "      <th></th>\n",
       "      <th></th>\n",
       "      <th></th>\n",
       "    </tr>\n",
       "  </thead>\n",
       "  <tbody>\n",
       "    <tr>\n",
       "      <th>majority</th>\n",
       "      <td>0.239193</td>\n",
       "      <td>0.539325</td>\n",
       "      <td>0.247580</td>\n",
       "      <td>0.142399</td>\n",
       "      <td>0.868616</td>\n",
       "      <td>0.052735</td>\n",
       "      <td>0.879008</td>\n",
       "      <td>69170.0</td>\n",
       "    </tr>\n",
       "    <tr>\n",
       "      <th>minority</th>\n",
       "      <td>0.141188</td>\n",
       "      <td>0.508211</td>\n",
       "      <td>0.209181</td>\n",
       "      <td>0.117013</td>\n",
       "      <td>0.968798</td>\n",
       "      <td>0.014780</td>\n",
       "      <td>0.970691</td>\n",
       "      <td>20540.0</td>\n",
       "    </tr>\n",
       "  </tbody>\n",
       "</table>\n",
       "</div>"
      ],
      "text/plain": [
       "          accuracy  balanced accuracy        f1  precision  \\\n",
       "majmin                                                       \n",
       "majority  0.239193           0.539325  0.247580   0.142399   \n",
       "minority  0.141188           0.508211  0.209181   0.117013   \n",
       "\n",
       "          false positive rate  false negative rate  selection rate    count  \n",
       "majmin                                                                       \n",
       "majority             0.868616             0.052735        0.879008  69170.0  \n",
       "minority             0.968798             0.014780        0.970691  20540.0  "
      ]
     },
     "execution_count": 68,
     "metadata": {},
     "output_type": "execute_result"
    }
   ],
   "source": [
    "metric_frame.by_group"
   ]
  },
  {
   "cell_type": "code",
   "execution_count": 69,
   "id": "a9ddbe63",
   "metadata": {
    "execution": {
     "iopub.execute_input": "2025-07-28T11:05:20.392244Z",
     "iopub.status.busy": "2025-07-28T11:05:20.391305Z",
     "iopub.status.idle": "2025-07-28T11:05:25.431702Z",
     "shell.execute_reply": "2025-07-28T11:05:25.430641Z"
    },
    "papermill": {
     "duration": 5.0982,
     "end_time": "2025-07-28T11:05:25.433710",
     "exception": false,
     "start_time": "2025-07-28T11:05:20.335510",
     "status": "completed"
    },
    "tags": []
   },
   "outputs": [
    {
     "data": {
      "text/plain": [
       "array([[<Axes: title={'center': 'accuracy'}, xlabel='majmin'>,\n",
       "        <Axes: title={'center': 'balanced accuracy'}, xlabel='majmin'>,\n",
       "        <Axes: title={'center': 'f1'}, xlabel='majmin'>],\n",
       "       [<Axes: title={'center': 'precision'}, xlabel='majmin'>,\n",
       "        <Axes: title={'center': 'false positive rate'}, xlabel='majmin'>,\n",
       "        <Axes: title={'center': 'false negative rate'}, xlabel='majmin'>],\n",
       "       [<Axes: title={'center': 'selection rate'}, xlabel='majmin'>,\n",
       "        <Axes: title={'center': 'count'}, xlabel='majmin'>,\n",
       "        <Axes: xlabel='majmin'>]], dtype=object)"
      ]
     },
     "execution_count": 69,
     "metadata": {},
     "output_type": "execute_result"
    },
    {
     "data": {
      "image/png": "[encoded data removed]",
      "text/plain": [
       "<Figure size 1200x800 with 9 Axes>"
      ]
     },
     "metadata": {},
     "output_type": "display_data"
    }
   ],
   "source": [
    "# In a graphic\n",
    "metric_frame.by_group.plot.bar(\n",
    "    subplots=True,\n",
    "    layout=[3, 3],\n",
    "    legend=False,\n",
    "    figsize=[12, 8],\n",
    "    title=\"Show all metrics\",\n",
    ")"
   ]
  },
  {
   "cell_type": "markdown",
   "id": "f57a0bac",
   "metadata": {
    "papermill": {
     "duration": 0.06116,
     "end_time": "2025-07-28T11:05:25.581360",
     "exception": false,
     "start_time": "2025-07-28T11:05:25.520200",
     "status": "completed"
    },
    "tags": []
   },
   "source": [
    "# Final Output"
   ]
  },
  {
   "cell_type": "code",
   "execution_count": 70,
   "id": "96d280a3",
   "metadata": {
    "execution": {
     "iopub.execute_input": "2025-07-28T11:05:25.729488Z",
     "iopub.status.busy": "2025-07-28T11:05:25.728493Z",
     "iopub.status.idle": "2025-07-28T11:05:25.740874Z",
     "shell.execute_reply": "2025-07-28T11:05:25.739796Z"
    },
    "papermill": {
     "duration": 0.078493,
     "end_time": "2025-07-28T11:05:25.742819",
     "exception": false,
     "start_time": "2025-07-28T11:05:25.664326",
     "status": "completed"
    },
    "tags": []
   },
   "outputs": [
    {
     "data": {
      "text/plain": [
       "4"
      ]
     },
     "execution_count": 70,
     "metadata": {},
     "output_type": "execute_result"
    }
   ],
   "source": [
    "sub_universes = universe_analysis.generate_sub_universes()\n",
    "len(sub_universes)"
   ]
  },
  {
   "cell_type": "code",
   "execution_count": 71,
   "id": "92adf7ba",
   "metadata": {
    "execution": {
     "iopub.execute_input": "2025-07-28T11:05:25.875246Z",
     "iopub.status.busy": "2025-07-28T11:05:25.874830Z",
     "iopub.status.idle": "2025-07-28T11:05:25.883112Z",
     "shell.execute_reply": "2025-07-28T11:05:25.882089Z"
    },
    "papermill": {
     "duration": 0.072109,
     "end_time": "2025-07-28T11:05:25.885003",
     "exception": false,
     "start_time": "2025-07-28T11:05:25.812894",
     "status": "completed"
    },
    "tags": []
   },
   "outputs": [],
   "source": [
    "def filter_sub_universe_data(sub_universe, org_test):\n",
    "    # Keep all rows — no filtering\n",
    "    keep_rows_mask = np.ones(org_test.shape[0], dtype=bool)\n",
    "\n",
    "    print(f\"[INFO] Keeping all rows: {keep_rows_mask.sum()} rows retained.\")\n",
    "    return keep_rows_mask"
   ]
  },
  {
   "cell_type": "code",
   "execution_count": 72,
   "id": "4a759155",
   "metadata": {
    "execution": {
     "iopub.execute_input": "2025-07-28T11:05:26.011546Z",
     "iopub.status.busy": "2025-07-28T11:05:26.011142Z",
     "iopub.status.idle": "2025-07-28T11:05:40.270159Z",
     "shell.execute_reply": "2025-07-28T11:05:40.259284Z"
    },
    "papermill": {
     "duration": 14.329345,
     "end_time": "2025-07-28T11:05:40.272539",
     "exception": false,
     "start_time": "2025-07-28T11:05:25.943194",
     "status": "completed"
    },
    "tags": []
   },
   "outputs": [
    {
     "name": "stdout",
     "output_type": "stream",
     "text": [
      "Stopping execution_time clock.\n",
      "[INFO] Keeping all rows: 89710 rows retained.\n"
     ]
    },
    {
     "name": "stdout",
     "output_type": "stream",
     "text": [
      "[INFO] Keeping all rows: 89710 rows retained.\n"
     ]
    },
    {
     "name": "stdout",
     "output_type": "stream",
     "text": [
      "[INFO] Keeping all rows: 89710 rows retained.\n"
     ]
    },
    {
     "name": "stdout",
     "output_type": "stream",
     "text": [
      "[INFO] Keeping all rows: 89710 rows retained.\n"
     ]
    },
    {
     "data": {
      "text/html": [
       "<div>\n",
       "<style scoped>\n",
       "    .dataframe tbody tr th:only-of-type {\n",
       "        vertical-align: middle;\n",
       "    }\n",
       "\n",
       "    .dataframe tbody tr th {\n",
       "        vertical-align: top;\n",
       "    }\n",
       "\n",
       "    .dataframe thead th {\n",
       "        text-align: right;\n",
       "    }\n",
       "</style>\n",
       "<table border=\"1\" class=\"dataframe\">\n",
       "  <thead>\n",
       "    <tr style=\"text-align: right;\">\n",
       "      <th></th>\n",
       "      <th>run_no</th>\n",
       "      <th>universe_id</th>\n",
       "      <th>universe_settings</th>\n",
       "      <th>execution_time</th>\n",
       "      <th>test_size_n</th>\n",
       "      <th>test_size_frac</th>\n",
       "      <th>fair_main_equalized_odds_difference</th>\n",
       "      <th>fair_main_equalized_odds_ratio</th>\n",
       "      <th>fair_main_demographic_parity_difference</th>\n",
       "      <th>fair_main_demographic_parity_ratio</th>\n",
       "      <th>...</th>\n",
       "      <th>perf_grp_precision_0</th>\n",
       "      <th>perf_grp_precision_1</th>\n",
       "      <th>perf_grp_false positive rate_0</th>\n",
       "      <th>perf_grp_false positive rate_1</th>\n",
       "      <th>perf_grp_false negative rate_0</th>\n",
       "      <th>perf_grp_false negative rate_1</th>\n",
       "      <th>perf_grp_selection rate_0</th>\n",
       "      <th>perf_grp_selection rate_1</th>\n",
       "      <th>perf_grp_count_0</th>\n",
       "      <th>perf_grp_count_1</th>\n",
       "    </tr>\n",
       "  </thead>\n",
       "  <tbody>\n",
       "    <tr>\n",
       "      <th>0</th>\n",
       "      <td>11</td>\n",
       "      <td>0dd2eddfcbc9e03d1956f2c9fd9507c6</td>\n",
       "      <td>{\"cutoff\": \"quantile_0.1\", \"eval_fairness_grou...</td>\n",
       "      <td>37.113963</td>\n",
       "      <td>89710</td>\n",
       "      <td>1.0</td>\n",
       "      <td>0.100182</td>\n",
       "      <td>0.896591</td>\n",
       "      <td>0.091683</td>\n",
       "      <td>0.905549</td>\n",
       "      <td>...</td>\n",
       "      <td>NaN</td>\n",
       "      <td>NaN</td>\n",
       "      <td>NaN</td>\n",
       "      <td>NaN</td>\n",
       "      <td>NaN</td>\n",
       "      <td>NaN</td>\n",
       "      <td>NaN</td>\n",
       "      <td>NaN</td>\n",
       "      <td>NaN</td>\n",
       "      <td>NaN</td>\n",
       "    </tr>\n",
       "    <tr>\n",
       "      <th>0</th>\n",
       "      <td>11</td>\n",
       "      <td>0dd2eddfcbc9e03d1956f2c9fd9507c6</td>\n",
       "      <td>{\"cutoff\": \"quantile_0.1\", \"eval_fairness_grou...</td>\n",
       "      <td>37.113963</td>\n",
       "      <td>89710</td>\n",
       "      <td>1.0</td>\n",
       "      <td>0.100182</td>\n",
       "      <td>0.896591</td>\n",
       "      <td>0.091683</td>\n",
       "      <td>0.905549</td>\n",
       "      <td>...</td>\n",
       "      <td>0.117013</td>\n",
       "      <td>0.142399</td>\n",
       "      <td>0.968798</td>\n",
       "      <td>0.868616</td>\n",
       "      <td>0.01478</td>\n",
       "      <td>0.052735</td>\n",
       "      <td>0.970691</td>\n",
       "      <td>0.879008</td>\n",
       "      <td>20540.0</td>\n",
       "      <td>69170.0</td>\n",
       "    </tr>\n",
       "    <tr>\n",
       "      <th>0</th>\n",
       "      <td>11</td>\n",
       "      <td>0dd2eddfcbc9e03d1956f2c9fd9507c6</td>\n",
       "      <td>{\"cutoff\": \"quantile_0.25\", \"eval_fairness_gro...</td>\n",
       "      <td>37.113963</td>\n",
       "      <td>89710</td>\n",
       "      <td>1.0</td>\n",
       "      <td>0.233523</td>\n",
       "      <td>0.743823</td>\n",
       "      <td>0.215892</td>\n",
       "      <td>0.764427</td>\n",
       "      <td>...</td>\n",
       "      <td>NaN</td>\n",
       "      <td>NaN</td>\n",
       "      <td>NaN</td>\n",
       "      <td>NaN</td>\n",
       "      <td>NaN</td>\n",
       "      <td>NaN</td>\n",
       "      <td>NaN</td>\n",
       "      <td>NaN</td>\n",
       "      <td>NaN</td>\n",
       "      <td>NaN</td>\n",
       "    </tr>\n",
       "    <tr>\n",
       "      <th>0</th>\n",
       "      <td>11</td>\n",
       "      <td>0dd2eddfcbc9e03d1956f2c9fd9507c6</td>\n",
       "      <td>{\"cutoff\": \"quantile_0.25\", \"eval_fairness_gro...</td>\n",
       "      <td>37.113963</td>\n",
       "      <td>89710</td>\n",
       "      <td>1.0</td>\n",
       "      <td>0.233523</td>\n",
       "      <td>0.743823</td>\n",
       "      <td>0.215892</td>\n",
       "      <td>0.764427</td>\n",
       "      <td>...</td>\n",
       "      <td>0.120006</td>\n",
       "      <td>0.160035</td>\n",
       "      <td>0.911567</td>\n",
       "      <td>0.678044</td>\n",
       "      <td>0.04603</td>\n",
       "      <td>0.151532</td>\n",
       "      <td>0.916456</td>\n",
       "      <td>0.700564</td>\n",
       "      <td>20540.0</td>\n",
       "      <td>69170.0</td>\n",
       "    </tr>\n",
       "  </tbody>\n",
       "</table>\n",
       "<p>4 rows × 50 columns</p>\n",
       "</div>"
      ],
      "text/plain": [
       "  run_no                       universe_id  \\\n",
       "0     11  0dd2eddfcbc9e03d1956f2c9fd9507c6   \n",
       "0     11  0dd2eddfcbc9e03d1956f2c9fd9507c6   \n",
       "0     11  0dd2eddfcbc9e03d1956f2c9fd9507c6   \n",
       "0     11  0dd2eddfcbc9e03d1956f2c9fd9507c6   \n",
       "\n",
       "                                   universe_settings  execution_time  \\\n",
       "0  {\"cutoff\": \"quantile_0.1\", \"eval_fairness_grou...       37.113963   \n",
       "0  {\"cutoff\": \"quantile_0.1\", \"eval_fairness_grou...       37.113963   \n",
       "0  {\"cutoff\": \"quantile_0.25\", \"eval_fairness_gro...       37.113963   \n",
       "0  {\"cutoff\": \"quantile_0.25\", \"eval_fairness_gro...       37.113963   \n",
       "\n",
       "   test_size_n  test_size_frac  fair_main_equalized_odds_difference  \\\n",
       "0        89710             1.0                             0.100182   \n",
       "0        89710             1.0                             0.100182   \n",
       "0        89710             1.0                             0.233523   \n",
       "0        89710             1.0                             0.233523   \n",
       "\n",
       "   fair_main_equalized_odds_ratio  fair_main_demographic_parity_difference  \\\n",
       "0                        0.896591                                 0.091683   \n",
       "0                        0.896591                                 0.091683   \n",
       "0                        0.743823                                 0.215892   \n",
       "0                        0.743823                                 0.215892   \n",
       "\n",
       "   fair_main_demographic_parity_ratio  ...  perf_grp_precision_0  \\\n",
       "0                            0.905549  ...                   NaN   \n",
       "0                            0.905549  ...              0.117013   \n",
       "0                            0.764427  ...                   NaN   \n",
       "0                            0.764427  ...              0.120006   \n",
       "\n",
       "   perf_grp_precision_1  perf_grp_false positive rate_0  \\\n",
       "0                   NaN                             NaN   \n",
       "0              0.142399                        0.968798   \n",
       "0                   NaN                             NaN   \n",
       "0              0.160035                        0.911567   \n",
       "\n",
       "   perf_grp_false positive rate_1  perf_grp_false negative rate_0  \\\n",
       "0                             NaN                             NaN   \n",
       "0                        0.868616                         0.01478   \n",
       "0                             NaN                             NaN   \n",
       "0                        0.678044                         0.04603   \n",
       "\n",
       "   perf_grp_false negative rate_1  perf_grp_selection rate_0  \\\n",
       "0                             NaN                        NaN   \n",
       "0                        0.052735                   0.970691   \n",
       "0                             NaN                        NaN   \n",
       "0                        0.151532                   0.916456   \n",
       "\n",
       "   perf_grp_selection rate_1  perf_grp_count_0  perf_grp_count_1  \n",
       "0                        NaN               NaN               NaN  \n",
       "0                   0.879008           20540.0           69170.0  \n",
       "0                        NaN               NaN               NaN  \n",
       "0                   0.700564           20540.0           69170.0  \n",
       "\n",
       "[4 rows x 50 columns]"
      ]
     },
     "execution_count": 72,
     "metadata": {},
     "output_type": "execute_result"
    }
   ],
   "source": [
    "final_output = universe_analysis.generate_final_output(\n",
    "    y_pred_prob=probs_test,\n",
    "    y_test=y_true,\n",
    "    org_test=org_test,\n",
    "    filter_data=filter_sub_universe_data,\n",
    "    cp_metrics_df=cp_metrics_df,\n",
    "    save=True,\n",
    ")\n",
    "final_output"
   ]
  },
  {
   "cell_type": "code",
   "execution_count": null,
   "id": "721ff514-cb11-46f8-b6fc-50392f74b5cb",
   "metadata": {
    "papermill": {
     "duration": 0.047945,
     "end_time": "2025-07-28T11:05:40.386885",
     "exception": false,
     "start_time": "2025-07-28T11:05:40.338940",
     "status": "completed"
    },
    "tags": []
   },
   "outputs": [],
   "source": []
  }
 ],
 "metadata": {
  "celltoolbar": "Tags",
  "kernelspec": {
   "display_name": "Python (CMA Fairness)",
   "language": "python",
   "name": "cma_fair_env"
  },
  "language_info": {
   "codemirror_mode": {
    "name": "ipython",
    "version": 3
   },
   "file_extension": ".py",
   "mimetype": "text/x-python",
   "name": "python",
   "nbconvert_exporter": "python",
   "pygments_lexer": "ipython3",
   "version": "3.10.12"
  },
  "papermill": {
   "default_parameters": {},
   "duration": 56.356292,
   "end_time": "2025-07-28T11:05:41.564122",
   "environment_variables": {},
   "exception": null,
   "input_path": "universe_analysis.ipynb",
   "output_path": "output/runs/11/notebooks/m_11-0dd2eddfcbc9e03d1956f2c9fd9507c6.ipynb",
   "parameters": {
    "output_dir": "output",
    "run_no": "11",
    "seed": "2023",
    "universe": "{\"cutoff\": [\"quantile_0.1\", \"quantile_0.25\"], \"eval_fairness_grouping\": [\"majority-minority\", \"nationality-all\"], \"exclude_features\": \"age\", \"exclude_subgroups\": \"keep-all\", \"model\": \"penalized_logreg\", \"scale\": \"do-not-scale\", \"training_size\": \"2014\"}",
    "universe_id": "0dd2eddfcbc9e03d1956f2c9fd9507c6"
   },
   "start_time": "2025-07-28T11:04:45.207830",
   "version": "2.6.0"
  }
 },
 "nbformat": 4,
 "nbformat_minor": 5
}