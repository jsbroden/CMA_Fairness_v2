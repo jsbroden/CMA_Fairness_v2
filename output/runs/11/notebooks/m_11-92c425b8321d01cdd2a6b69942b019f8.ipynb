{
 "cells": [
  {
   "cell_type": "code",
   "execution_count": 1,
   "id": "f159f837-637b-42ba-96b5-ec9a68c44524",
   "metadata": {
    "execution": {
     "iopub.execute_input": "2025-07-28T11:07:00.653089Z",
     "iopub.status.busy": "2025-07-28T11:07:00.652692Z",
     "iopub.status.idle": "2025-07-28T11:07:00.671500Z",
     "shell.execute_reply": "2025-07-28T11:07:00.670409Z"
    },
    "papermill": {
     "duration": 0.061243,
     "end_time": "2025-07-28T11:07:00.673152",
     "exception": false,
     "start_time": "2025-07-28T11:07:00.611909",
     "status": "completed"
    },
    "tags": []
   },
   "outputs": [
    {
     "name": "stdout",
     "output_type": "stream",
     "text": [
      "/dss/dsshome1/0C/ra93lal2/cma/CMA_Fairness_v2\n"
     ]
    },
    {
     "name": "stderr",
     "output_type": "stream",
     "text": [
      "/dss/dsshome1/0C/ra93lal2/.local/share/virtualenvs/CMA_Fairness_v2-3j10GkSs/lib/python3.10/site-packages/IPython/core/magics/osm.py:393: UserWarning: This is now an optional IPython functionality, using bookmarks requires you to install the `pickleshare` library.\n",
      "  bkms = self.shell.db.get('bookmarks', {})\n",
      "/dss/dsshome1/0C/ra93lal2/.local/share/virtualenvs/CMA_Fairness_v2-3j10GkSs/lib/python3.10/site-packages/IPython/core/magics/osm.py:417: UserWarning: This is now an optional IPython functionality, setting dhist requires you to install the `pickleshare` library.\n",
      "  self.shell.db['dhist'] = compress_dhist(dhist)[-100:]\n"
     ]
    }
   ],
   "source": [
    "%cd ~/cma/CMA_Fairness_v2"
   ]
  },
  {
   "cell_type": "markdown",
   "id": "de2603b9",
   "metadata": {
    "papermill": {
     "duration": 0.034571,
     "end_time": "2025-07-28T11:07:00.741966",
     "exception": false,
     "start_time": "2025-07-28T11:07:00.707395",
     "status": "completed"
    },
    "tags": []
   },
   "source": [
    "The following cell holds the definition of our parameters, these values can be overriden by rendering the with e.g. the following command:\n",
    "\n",
    "papermill -p alpha 0.2 -p ratio 0.3 universe_analysis.ipynb output/test_run.ipynb"
   ]
  },
  {
   "cell_type": "code",
   "execution_count": 2,
   "id": "a80968a0-40bb-4fa9-85ef-2d5eefb01975",
   "metadata": {
    "execution": {
     "iopub.execute_input": "2025-07-28T11:07:00.794566Z",
     "iopub.status.busy": "2025-07-28T11:07:00.794093Z",
     "iopub.status.idle": "2025-07-28T11:07:00.800517Z",
     "shell.execute_reply": "2025-07-28T11:07:00.799429Z"
    },
    "papermill": {
     "duration": 0.042087,
     "end_time": "2025-07-28T11:07:00.802273",
     "exception": false,
     "start_time": "2025-07-28T11:07:00.760186",
     "status": "completed"
    },
    "tags": []
   },
   "outputs": [
    {
     "name": "stdout",
     "output_type": "stream",
     "text": [
      "Current working directory: /dss/dsshome1/0C/ra93lal2/cma/CMA_Fairness_v2\n"
     ]
    }
   ],
   "source": [
    "import os\n",
    "print(\"Current working directory:\", os.getcwd())"
   ]
  },
  {
   "cell_type": "code",
   "execution_count": 3,
   "id": "2dce4c03",
   "metadata": {
    "execution": {
     "iopub.execute_input": "2025-07-28T11:07:00.886323Z",
     "iopub.status.busy": "2025-07-28T11:07:00.885891Z",
     "iopub.status.idle": "2025-07-28T11:07:00.892836Z",
     "shell.execute_reply": "2025-07-28T11:07:00.891765Z"
    },
    "papermill": {
     "duration": 0.057517,
     "end_time": "2025-07-28T11:07:00.894302",
     "exception": false,
     "start_time": "2025-07-28T11:07:00.836785",
     "status": "completed"
    },
    "tags": [
     "parameters"
    ]
   },
   "outputs": [],
   "source": [
    "run_no = 0\n",
    "universe_id = \"test\"\n",
    "universe = {\n",
    "    \"training_size\": \"2014\", # \"25k\", \"5k\", \"1k\", \"2014\"\n",
    "    \"scale\": \"scale\", # \"scale\", \"do-not-scale\",\n",
    "    #\"stratify_split\": \"target\", # \"none\", \"target\", \"protected-attribute\", \"both\",\n",
    "    \"model\": \"elasticnet\", # \"logreg\", \"penalized_logreg\", \"rf\", \"gbm\", \"elasticnet\"\n",
    "    \"cutoff\": [\"quantile_0.15\", \"quantile_0.30\"],\n",
    "    \"exclude_features\": \"age\", # \"none\", \"nationality\", \"sex\", \"nationality-sex\", \"age\"\n",
    "    \"exclude_subgroups\": \"keep-all\", # \"keep-all\", \"drop-non-german\"\n",
    "    \"eval_fairness_grouping\": [\"majority-minority\", \"nationality-all\"]\n",
    "}\n",
    "\n",
    "output_dir=\"./output\"\n",
    "seed=0"
   ]
  },
  {
   "cell_type": "code",
   "execution_count": 4,
   "id": "ff959860",
   "metadata": {
    "execution": {
     "iopub.execute_input": "2025-07-28T11:07:00.966738Z",
     "iopub.status.busy": "2025-07-28T11:07:00.966313Z",
     "iopub.status.idle": "2025-07-28T11:07:00.972418Z",
     "shell.execute_reply": "2025-07-28T11:07:00.971372Z"
    },
    "papermill": {
     "duration": 0.044597,
     "end_time": "2025-07-28T11:07:00.974112",
     "exception": false,
     "start_time": "2025-07-28T11:07:00.929515",
     "status": "completed"
    },
    "tags": [
     "injected-parameters"
    ]
   },
   "outputs": [],
   "source": [
    "# Parameters\n",
    "universe_id = \"92c425b8321d01cdd2a6b69942b019f8\"\n",
    "run_no = \"11\"\n",
    "universe = \"{\\\"cutoff\\\": [\\\"quantile_0.1\\\", \\\"quantile_0.25\\\"], \\\"eval_fairness_grouping\\\": [\\\"majority-minority\\\", \\\"nationality-all\\\"], \\\"exclude_features\\\": \\\"none\\\", \\\"exclude_subgroups\\\": \\\"keep-all\\\", \\\"model\\\": \\\"gbm\\\", \\\"scale\\\": \\\"do-not-scale\\\", \\\"training_size\\\": \\\"2014\\\"}\"\n",
    "output_dir = \"output\"\n",
    "seed = \"2023\"\n"
   ]
  },
  {
   "cell_type": "code",
   "execution_count": 5,
   "id": "1650acaf",
   "metadata": {
    "execution": {
     "iopub.execute_input": "2025-07-28T11:07:01.037077Z",
     "iopub.status.busy": "2025-07-28T11:07:01.036563Z",
     "iopub.status.idle": "2025-07-28T11:07:01.042531Z",
     "shell.execute_reply": "2025-07-28T11:07:01.041577Z"
    },
    "papermill": {
     "duration": 0.02957,
     "end_time": "2025-07-28T11:07:01.046215",
     "exception": false,
     "start_time": "2025-07-28T11:07:01.016645",
     "status": "completed"
    },
    "tags": []
   },
   "outputs": [],
   "source": [
    "import json\n",
    "# Parse universe into dict if it is passed as a string\n",
    "if isinstance(universe, str):\n",
    "    universe = json.loads(universe)"
   ]
  },
  {
   "cell_type": "code",
   "execution_count": 6,
   "id": "16620c48",
   "metadata": {
    "execution": {
     "iopub.execute_input": "2025-07-28T11:07:01.085995Z",
     "iopub.status.busy": "2025-07-28T11:07:01.085599Z",
     "iopub.status.idle": "2025-07-28T11:07:01.142455Z",
     "shell.execute_reply": "2025-07-28T11:07:01.141398Z"
    },
    "papermill": {
     "duration": 0.079247,
     "end_time": "2025-07-28T11:07:01.144577",
     "exception": false,
     "start_time": "2025-07-28T11:07:01.065330",
     "status": "completed"
    },
    "tags": []
   },
   "outputs": [],
   "source": [
    "# Auto-reload the custom package\n",
    "%load_ext autoreload\n",
    "%autoreload 1\n",
    "%aimport fairness_multiverse"
   ]
  },
  {
   "cell_type": "code",
   "execution_count": 7,
   "id": "01c5c9f3",
   "metadata": {
    "execution": {
     "iopub.execute_input": "2025-07-28T11:07:01.214440Z",
     "iopub.status.busy": "2025-07-28T11:07:01.213885Z",
     "iopub.status.idle": "2025-07-28T11:07:05.568509Z",
     "shell.execute_reply": "2025-07-28T11:07:05.567206Z"
    },
    "papermill": {
     "duration": 4.394125,
     "end_time": "2025-07-28T11:07:05.570673",
     "exception": false,
     "start_time": "2025-07-28T11:07:01.176548",
     "status": "completed"
    },
    "tags": []
   },
   "outputs": [],
   "source": [
    "from fairness_multiverse.universe import UniverseAnalysis\n",
    "\n",
    "universe_analysis = UniverseAnalysis(\n",
    "    run_no = run_no,\n",
    "    universe_id = universe_id,\n",
    "    universe = universe,\n",
    "    output_dir=output_dir,\n",
    ")"
   ]
  },
  {
   "cell_type": "code",
   "execution_count": 8,
   "id": "106241f5",
   "metadata": {
    "execution": {
     "iopub.execute_input": "2025-07-28T11:07:05.621395Z",
     "iopub.status.busy": "2025-07-28T11:07:05.620592Z",
     "iopub.status.idle": "2025-07-28T11:07:05.631913Z",
     "shell.execute_reply": "2025-07-28T11:07:05.630828Z"
    },
    "papermill": {
     "duration": 0.042461,
     "end_time": "2025-07-28T11:07:05.634064",
     "exception": false,
     "start_time": "2025-07-28T11:07:05.591603",
     "status": "completed"
    },
    "tags": []
   },
   "outputs": [
    {
     "name": "stdout",
     "output_type": "stream",
     "text": [
      "Using Seed: 2023\n"
     ]
    }
   ],
   "source": [
    "import numpy as np\n",
    "parsed_seed = int(seed)\n",
    "np.random.seed(parsed_seed)\n",
    "print(f\"Using Seed: {parsed_seed}\")"
   ]
  },
  {
   "cell_type": "markdown",
   "id": "e0ebdc57",
   "metadata": {
    "papermill": {
     "duration": 0.022585,
     "end_time": "2025-07-28T11:07:05.685057",
     "exception": false,
     "start_time": "2025-07-28T11:07:05.662472",
     "status": "completed"
    },
    "tags": []
   },
   "source": [
    "# Loading Data"
   ]
  },
  {
   "cell_type": "markdown",
   "id": "681925a3",
   "metadata": {
    "papermill": {
     "duration": 0.020682,
     "end_time": "2025-07-28T11:07:05.725599",
     "exception": false,
     "start_time": "2025-07-28T11:07:05.704917",
     "status": "completed"
    },
    "tags": []
   },
   "source": [
    "Load siab_train, siab_test, siab_calib and/or \n",
    "load siab_train_features, siab_train_labels"
   ]
  },
  {
   "cell_type": "code",
   "execution_count": 9,
   "id": "f0496b8a",
   "metadata": {
    "execution": {
     "iopub.execute_input": "2025-07-28T11:07:05.767682Z",
     "iopub.status.busy": "2025-07-28T11:07:05.767226Z",
     "iopub.status.idle": "2025-07-28T11:07:22.809668Z",
     "shell.execute_reply": "2025-07-28T11:07:22.808126Z"
    },
    "papermill": {
     "duration": 17.065965,
     "end_time": "2025-07-28T11:07:22.811675",
     "exception": false,
     "start_time": "2025-07-28T11:07:05.745710",
     "status": "completed"
    },
    "tags": []
   },
   "outputs": [
    {
     "name": "stdout",
     "output_type": "stream",
     "text": [
      "Loading SIAB data from cache: data/siab_cached.csv.gz\n"
     ]
    },
    {
     "name": "stdout",
     "output_type": "stream",
     "text": [
      "(643690, 164)\n"
     ]
    }
   ],
   "source": [
    "from pathlib import Path\n",
    "import pandas as pd\n",
    "\n",
    "# File paths\n",
    "raw_file = Path(\"data/raw/siab.csv\")\n",
    "cache_file = Path(\"data/siab_cached.csv.gz\")\n",
    "\n",
    "# Ensure cache directory exists\n",
    "cache_file.parent.mkdir(parents=True, exist_ok=True)\n",
    "\n",
    "# Load with simple caching\n",
    "if cache_file.exists():\n",
    "    print(f\"Loading SIAB data from cache: {cache_file}\")\n",
    "    siab = pd.read_csv(cache_file, compression='gzip')\n",
    "else:\n",
    "    print(f\"Cache not found. Reading raw SIAB data: {raw_file}\")\n",
    "    siab = pd.read_csv(raw_file)\n",
    "    siab.to_csv(cache_file, index=False, compression='gzip')\n",
    "    print(f\"Cached SIAB data to: {cache_file}\")\n",
    "\n",
    "# Now use `siab` DataFrame as needed\n",
    "print(siab.shape)"
   ]
  },
  {
   "cell_type": "code",
   "execution_count": 10,
   "id": "db0ca512-5f53-4dba-abdb-a2888bca41ba",
   "metadata": {
    "execution": {
     "iopub.execute_input": "2025-07-28T11:07:22.899391Z",
     "iopub.status.busy": "2025-07-28T11:07:22.898924Z",
     "iopub.status.idle": "2025-07-28T11:07:22.905215Z",
     "shell.execute_reply": "2025-07-28T11:07:22.904112Z"
    },
    "papermill": {
     "duration": 0.056303,
     "end_time": "2025-07-28T11:07:22.906879",
     "exception": false,
     "start_time": "2025-07-28T11:07:22.850576",
     "status": "completed"
    },
    "tags": []
   },
   "outputs": [],
   "source": [
    "#siab"
   ]
  },
  {
   "cell_type": "code",
   "execution_count": 11,
   "id": "a0edb063",
   "metadata": {
    "execution": {
     "iopub.execute_input": "2025-07-28T11:07:22.982444Z",
     "iopub.status.busy": "2025-07-28T11:07:22.982052Z",
     "iopub.status.idle": "2025-07-28T11:07:22.987932Z",
     "shell.execute_reply": "2025-07-28T11:07:22.986996Z"
    },
    "papermill": {
     "duration": 0.044873,
     "end_time": "2025-07-28T11:07:22.989496",
     "exception": false,
     "start_time": "2025-07-28T11:07:22.944623",
     "status": "completed"
    },
    "tags": []
   },
   "outputs": [],
   "source": [
    "#import pandas as pd\n",
    "#\n",
    "#X_train = pd.read_csv(\"./data/X_train.csv\")\n",
    "#y_train = pd.read_csv(\"./data/y_train.csv\")"
   ]
  },
  {
   "cell_type": "code",
   "execution_count": 12,
   "id": "63d08085",
   "metadata": {
    "execution": {
     "iopub.execute_input": "2025-07-28T11:07:23.061946Z",
     "iopub.status.busy": "2025-07-28T11:07:23.061502Z",
     "iopub.status.idle": "2025-07-28T11:07:23.066721Z",
     "shell.execute_reply": "2025-07-28T11:07:23.065857Z"
    },
    "papermill": {
     "duration": 0.044677,
     "end_time": "2025-07-28T11:07:23.070037",
     "exception": false,
     "start_time": "2025-07-28T11:07:23.025360",
     "status": "completed"
    },
    "tags": []
   },
   "outputs": [],
   "source": [
    "#X_test = pd.read_csv(\"./data/X_test.csv\")\n",
    "#y_true = pd.read_csv(\"./data/y_test.csv\")"
   ]
  },
  {
   "cell_type": "code",
   "execution_count": 13,
   "id": "98a8d0fa-1d3d-4ed8-bb2c-281470e24add",
   "metadata": {
    "execution": {
     "iopub.execute_input": "2025-07-28T11:07:23.112216Z",
     "iopub.status.busy": "2025-07-28T11:07:23.111787Z",
     "iopub.status.idle": "2025-07-28T11:07:23.117388Z",
     "shell.execute_reply": "2025-07-28T11:07:23.116423Z"
    },
    "papermill": {
     "duration": 0.030351,
     "end_time": "2025-07-28T11:07:23.120642",
     "exception": false,
     "start_time": "2025-07-28T11:07:23.090291",
     "status": "completed"
    },
    "tags": []
   },
   "outputs": [],
   "source": [
    "# Calibration data for conformal\n",
    "#X_calib = pd.read_csv(\"./data/X_calib.csv\")\n",
    "#y_calib = pd.read_csv(\"./data/y_calib.csv\")"
   ]
  },
  {
   "cell_type": "markdown",
   "id": "9901737e-04df-44f0-9100-f5ad144ed040",
   "metadata": {
    "papermill": {
     "duration": 0.019827,
     "end_time": "2025-07-28T11:07:23.161152",
     "exception": false,
     "start_time": "2025-07-28T11:07:23.141325",
     "status": "completed"
    },
    "tags": []
   },
   "source": [
    "# Splitting Data and Setting Training Data Size"
   ]
  },
  {
   "cell_type": "code",
   "execution_count": 14,
   "id": "acbc8f7d-8fc8-4e86-8c59-5dcb0f58384b",
   "metadata": {
    "execution": {
     "iopub.execute_input": "2025-07-28T11:07:23.203895Z",
     "iopub.status.busy": "2025-07-28T11:07:23.203463Z",
     "iopub.status.idle": "2025-07-28T11:07:23.212424Z",
     "shell.execute_reply": "2025-07-28T11:07:23.211256Z"
    },
    "papermill": {
     "duration": 0.033318,
     "end_time": "2025-07-28T11:07:23.214979",
     "exception": false,
     "start_time": "2025-07-28T11:07:23.181661",
     "status": "completed"
    },
    "tags": []
   },
   "outputs": [],
   "source": [
    "def sample_by_year(df, training_size, random_state=42):\n",
    "    if training_size == \"2014\":\n",
    "        return df[df[\"year\"] == 2014].reset_index(drop=True)\n",
    "    \n",
    "    size_map = {\n",
    "        \"25k\": 5000,\n",
    "        \"5k\": 1000,\n",
    "        \"1k\": 200\n",
    "    }\n",
    "\n",
    "    if training_size not in size_map:\n",
    "        return df.reset_index(drop=True)  # use all data\n",
    "\n",
    "    n_per_year = size_map[training_size]\n",
    "    grouped = df.groupby(\"year\")\n",
    "    sampled = grouped.apply(lambda x: x.sample(n=min(n_per_year, len(x)), random_state=random_state))\n",
    "    return sampled.reset_index(drop=True)"
   ]
  },
  {
   "cell_type": "code",
   "execution_count": 15,
   "id": "6d931f52-beaf-43ff-9e78-9d44a448d54e",
   "metadata": {
    "execution": {
     "iopub.execute_input": "2025-07-28T11:07:23.256432Z",
     "iopub.status.busy": "2025-07-28T11:07:23.255956Z",
     "iopub.status.idle": "2025-07-28T11:07:23.550284Z",
     "shell.execute_reply": "2025-07-28T11:07:23.549191Z"
    },
    "papermill": {
     "duration": 0.316861,
     "end_time": "2025-07-28T11:07:23.552274",
     "exception": false,
     "start_time": "2025-07-28T11:07:23.235413",
     "status": "completed"
    },
    "tags": []
   },
   "outputs": [],
   "source": [
    "siab_s = sample_by_year(siab, universe[\"training_size\"])"
   ]
  },
  {
   "cell_type": "code",
   "execution_count": 16,
   "id": "5db0a40e-a4e2-4920-be85-b12ae061d70d",
   "metadata": {
    "execution": {
     "iopub.execute_input": "2025-07-28T11:07:23.634831Z",
     "iopub.status.busy": "2025-07-28T11:07:23.634448Z",
     "iopub.status.idle": "2025-07-28T11:07:23.665696Z",
     "shell.execute_reply": "2025-07-28T11:07:23.664515Z"
    },
    "papermill": {
     "duration": 0.083107,
     "end_time": "2025-07-28T11:07:23.667678",
     "exception": false,
     "start_time": "2025-07-28T11:07:23.584571",
     "status": "completed"
    },
    "tags": []
   },
   "outputs": [
    {
     "data": {
      "text/plain": [
       "year\n",
       "2014    87158\n",
       "dtype: int64"
      ]
     },
     "metadata": {},
     "output_type": "display_data"
    }
   ],
   "source": [
    "display(siab_s.groupby(\"year\").size())"
   ]
  },
  {
   "cell_type": "code",
   "execution_count": 17,
   "id": "a561edb4-d032-42cb-8256-22eac1111c64",
   "metadata": {
    "execution": {
     "iopub.execute_input": "2025-07-28T11:07:23.756963Z",
     "iopub.status.busy": "2025-07-28T11:07:23.756535Z",
     "iopub.status.idle": "2025-07-28T11:07:24.302518Z",
     "shell.execute_reply": "2025-07-28T11:07:24.301458Z"
    },
    "papermill": {
     "duration": 0.588271,
     "end_time": "2025-07-28T11:07:24.304808",
     "exception": false,
     "start_time": "2025-07-28T11:07:23.716537",
     "status": "completed"
    },
    "tags": []
   },
   "outputs": [],
   "source": [
    "siab_train = siab_s[siab_s.year < 2015]\n",
    "siab_calib = siab[siab.year == 2015]\n",
    "siab_test = siab[siab.year == 2016]"
   ]
  },
  {
   "cell_type": "code",
   "execution_count": 18,
   "id": "472de16f-c3db-4916-846b-1f0de9cf1746",
   "metadata": {
    "execution": {
     "iopub.execute_input": "2025-07-28T11:07:24.361138Z",
     "iopub.status.busy": "2025-07-28T11:07:24.360691Z",
     "iopub.status.idle": "2025-07-28T11:07:24.471270Z",
     "shell.execute_reply": "2025-07-28T11:07:24.470103Z"
    },
    "papermill": {
     "duration": 0.135133,
     "end_time": "2025-07-28T11:07:24.473338",
     "exception": false,
     "start_time": "2025-07-28T11:07:24.338205",
     "status": "completed"
    },
    "tags": []
   },
   "outputs": [],
   "source": [
    "X_train = siab_train.iloc[:,4:164]\n",
    "y_train = siab_train.iloc[:, [3]]"
   ]
  },
  {
   "cell_type": "code",
   "execution_count": 19,
   "id": "828c96af-f43a-4ed6-ba47-8ac73a47d56c",
   "metadata": {
    "execution": {
     "iopub.execute_input": "2025-07-28T11:07:24.563518Z",
     "iopub.status.busy": "2025-07-28T11:07:24.562540Z",
     "iopub.status.idle": "2025-07-28T11:07:24.668161Z",
     "shell.execute_reply": "2025-07-28T11:07:24.667152Z"
    },
    "papermill": {
     "duration": 0.157249,
     "end_time": "2025-07-28T11:07:24.670229",
     "exception": false,
     "start_time": "2025-07-28T11:07:24.512980",
     "status": "completed"
    },
    "tags": []
   },
   "outputs": [],
   "source": [
    "X_calib = siab_calib.iloc[:,4:164]\n",
    "y_calib = siab_calib.iloc[:, [3]]"
   ]
  },
  {
   "cell_type": "code",
   "execution_count": 20,
   "id": "c34be9c3-6bd6-476e-acd3-845840e303be",
   "metadata": {
    "execution": {
     "iopub.execute_input": "2025-07-28T11:07:24.738700Z",
     "iopub.status.busy": "2025-07-28T11:07:24.737741Z",
     "iopub.status.idle": "2025-07-28T11:07:24.797490Z",
     "shell.execute_reply": "2025-07-28T11:07:24.796248Z"
    },
    "papermill": {
     "duration": 0.088849,
     "end_time": "2025-07-28T11:07:24.799876",
     "exception": false,
     "start_time": "2025-07-28T11:07:24.711027",
     "status": "completed"
    },
    "tags": []
   },
   "outputs": [],
   "source": [
    "X_test = siab_test.iloc[:,4:164]\n",
    "y_true = siab_test.iloc[:, [3]]"
   ]
  },
  {
   "cell_type": "code",
   "execution_count": 21,
   "id": "e6c733c5",
   "metadata": {
    "execution": {
     "iopub.execute_input": "2025-07-28T11:07:24.845319Z",
     "iopub.status.busy": "2025-07-28T11:07:24.844878Z",
     "iopub.status.idle": "2025-07-28T11:07:24.994363Z",
     "shell.execute_reply": "2025-07-28T11:07:24.993273Z"
    },
    "papermill": {
     "duration": 0.1745,
     "end_time": "2025-07-28T11:07:24.996630",
     "exception": false,
     "start_time": "2025-07-28T11:07:24.822130",
     "status": "completed"
    },
    "tags": []
   },
   "outputs": [],
   "source": [
    "# Auxiliary data needed downstream in the pipeline\n",
    "\n",
    "org_train = X_train.copy()\n",
    "org_test = X_test.copy()\n",
    "org_calib = X_calib.copy()"
   ]
  },
  {
   "cell_type": "markdown",
   "id": "0a4a1b33",
   "metadata": {
    "papermill": {
     "duration": 0.020734,
     "end_time": "2025-07-28T11:07:25.042717",
     "exception": false,
     "start_time": "2025-07-28T11:07:25.021983",
     "status": "completed"
    },
    "tags": []
   },
   "source": [
    "# Preprocessing Data"
   ]
  },
  {
   "cell_type": "code",
   "execution_count": 22,
   "id": "ca879031",
   "metadata": {
    "execution": {
     "iopub.execute_input": "2025-07-28T11:07:25.112754Z",
     "iopub.status.busy": "2025-07-28T11:07:25.112210Z",
     "iopub.status.idle": "2025-07-28T11:07:25.119670Z",
     "shell.execute_reply": "2025-07-28T11:07:25.118509Z"
    },
    "papermill": {
     "duration": 0.045767,
     "end_time": "2025-07-28T11:07:25.121740",
     "exception": false,
     "start_time": "2025-07-28T11:07:25.075973",
     "status": "completed"
    },
    "tags": []
   },
   "outputs": [],
   "source": [
    "# EXCLUDE PROTECTED FEATURES\n",
    "# ----------------------\n",
    "# \"exclude_features\": \"none\", # \"nationality\", \"sex\", \"nationality-sex\"\n",
    "\n",
    "excluded_features = universe[\"exclude_features\"].split(\"-\") # split, e.g.: \"nationality-sex\" -> [\"nationality\", \"sex\"]\n",
    "excluded_features_dictionary = {\n",
    "    \"nationality\": [\"maxdeutsch1\", \"maxdeutsch.Missing.\"],\n",
    "    \"sex\": [\"frau1\"],\n",
    "    \"age\": [\"age\"],\n",
    "}\n"
   ]
  },
  {
   "cell_type": "code",
   "execution_count": 23,
   "id": "b745ac60",
   "metadata": {
    "execution": {
     "iopub.execute_input": "2025-07-28T11:07:25.163646Z",
     "iopub.status.busy": "2025-07-28T11:07:25.162988Z",
     "iopub.status.idle": "2025-07-28T11:07:25.169053Z",
     "shell.execute_reply": "2025-07-28T11:07:25.168070Z"
    },
    "papermill": {
     "duration": 0.02598,
     "end_time": "2025-07-28T11:07:25.170747",
     "exception": false,
     "start_time": "2025-07-28T11:07:25.144767",
     "status": "completed"
    },
    "tags": []
   },
   "outputs": [],
   "source": [
    "# Code nice names to column names\n",
    "\n",
    "excluded_features_columns = [\n",
    "    excluded_features_dictionary[f] for f in excluded_features if len(f) > 0 and f != \"none\"\n",
    "]"
   ]
  },
  {
   "cell_type": "code",
   "execution_count": 24,
   "id": "f84f73a2",
   "metadata": {
    "execution": {
     "iopub.execute_input": "2025-07-28T11:07:25.217270Z",
     "iopub.status.busy": "2025-07-28T11:07:25.216691Z",
     "iopub.status.idle": "2025-07-28T11:07:25.223719Z",
     "shell.execute_reply": "2025-07-28T11:07:25.222952Z"
    },
    "papermill": {
     "duration": 0.031884,
     "end_time": "2025-07-28T11:07:25.225433",
     "exception": false,
     "start_time": "2025-07-28T11:07:25.193549",
     "status": "completed"
    },
    "tags": []
   },
   "outputs": [],
   "source": [
    "from utils import flatten_once\n",
    "\n",
    "excluded_features_columns = flatten_once(excluded_features_columns)"
   ]
  },
  {
   "cell_type": "code",
   "execution_count": 25,
   "id": "884dea22",
   "metadata": {
    "execution": {
     "iopub.execute_input": "2025-07-28T11:07:25.271244Z",
     "iopub.status.busy": "2025-07-28T11:07:25.270845Z",
     "iopub.status.idle": "2025-07-28T11:07:25.276086Z",
     "shell.execute_reply": "2025-07-28T11:07:25.275209Z"
    },
    "papermill": {
     "duration": 0.029805,
     "end_time": "2025-07-28T11:07:25.277437",
     "exception": false,
     "start_time": "2025-07-28T11:07:25.247632",
     "status": "completed"
    },
    "tags": []
   },
   "outputs": [],
   "source": [
    "if len(excluded_features_columns) > 0:\n",
    "    print(f\"Dropping features: {excluded_features_columns}\")\n",
    "    X_train.drop(excluded_features_columns, axis=1, inplace=True)"
   ]
  },
  {
   "cell_type": "code",
   "execution_count": 26,
   "id": "95ab8b16",
   "metadata": {
    "execution": {
     "iopub.execute_input": "2025-07-28T11:07:25.329705Z",
     "iopub.status.busy": "2025-07-28T11:07:25.328508Z",
     "iopub.status.idle": "2025-07-28T11:07:25.335580Z",
     "shell.execute_reply": "2025-07-28T11:07:25.334439Z"
    },
    "papermill": {
     "duration": 0.035234,
     "end_time": "2025-07-28T11:07:25.337809",
     "exception": false,
     "start_time": "2025-07-28T11:07:25.302575",
     "status": "completed"
    },
    "tags": []
   },
   "outputs": [],
   "source": [
    "if len(excluded_features_columns) > 0:\n",
    "    print(f\"Dropping features: {excluded_features_columns}\")\n",
    "    X_test.drop(excluded_features_columns, axis=1, inplace=True)"
   ]
  },
  {
   "cell_type": "code",
   "execution_count": 27,
   "id": "1853aaf5-fb9f-46cb-a2b5-8ea4ae2237e4",
   "metadata": {
    "execution": {
     "iopub.execute_input": "2025-07-28T11:07:25.379276Z",
     "iopub.status.busy": "2025-07-28T11:07:25.378699Z",
     "iopub.status.idle": "2025-07-28T11:07:25.384758Z",
     "shell.execute_reply": "2025-07-28T11:07:25.383491Z"
    },
    "papermill": {
     "duration": 0.024889,
     "end_time": "2025-07-28T11:07:25.386076",
     "exception": false,
     "start_time": "2025-07-28T11:07:25.361187",
     "status": "completed"
    },
    "tags": []
   },
   "outputs": [],
   "source": [
    "if len(excluded_features_columns) > 0:\n",
    "    print(f\"Dropping features: {excluded_features_columns}\")\n",
    "    X_calib.drop(excluded_features_columns, axis=1, inplace=True)"
   ]
  },
  {
   "cell_type": "code",
   "execution_count": 28,
   "id": "6727d079-03e5-481e-9d38-292a90b7a0a8",
   "metadata": {
    "execution": {
     "iopub.execute_input": "2025-07-28T11:07:25.434493Z",
     "iopub.status.busy": "2025-07-28T11:07:25.434087Z",
     "iopub.status.idle": "2025-07-28T11:07:25.438902Z",
     "shell.execute_reply": "2025-07-28T11:07:25.437961Z"
    },
    "papermill": {
     "duration": 0.030531,
     "end_time": "2025-07-28T11:07:25.440832",
     "exception": false,
     "start_time": "2025-07-28T11:07:25.410301",
     "status": "completed"
    },
    "tags": []
   },
   "outputs": [],
   "source": [
    "# SPLIT & STRATIFY DATA\n",
    "# ----------------------"
   ]
  },
  {
   "cell_type": "code",
   "execution_count": 29,
   "id": "76c4dc6d",
   "metadata": {
    "execution": {
     "iopub.execute_input": "2025-07-28T11:07:25.509479Z",
     "iopub.status.busy": "2025-07-28T11:07:25.508950Z",
     "iopub.status.idle": "2025-07-28T11:07:25.521823Z",
     "shell.execute_reply": "2025-07-28T11:07:25.520751Z"
    },
    "papermill": {
     "duration": 0.049365,
     "end_time": "2025-07-28T11:07:25.524342",
     "exception": false,
     "start_time": "2025-07-28T11:07:25.474977",
     "status": "completed"
    },
    "tags": []
   },
   "outputs": [],
   "source": [
    "# EXCLUDE CERTAIN SUBGROUPS\n",
    "# ----------------------\n",
    "\n",
    "mode = universe.get(\"exclude_subgroups\", \"keep-all\") \n",
    "# Fetches the exclude_subgroups setting from the universe dict.\n",
    "# Defaults to \"keep-all\" if the key is missing."
   ]
  },
  {
   "cell_type": "code",
   "execution_count": 30,
   "id": "21994072",
   "metadata": {
    "execution": {
     "iopub.execute_input": "2025-07-28T11:07:25.617751Z",
     "iopub.status.busy": "2025-07-28T11:07:25.617319Z",
     "iopub.status.idle": "2025-07-28T11:07:25.625172Z",
     "shell.execute_reply": "2025-07-28T11:07:25.624135Z"
    },
    "papermill": {
     "duration": 0.045481,
     "end_time": "2025-07-28T11:07:25.629368",
     "exception": false,
     "start_time": "2025-07-28T11:07:25.583887",
     "status": "completed"
    },
    "tags": []
   },
   "outputs": [],
   "source": [
    "if mode == \"keep-all\":\n",
    "    keep_mask = pd.Series(True, index=org_train.index)\n",
    "\n",
    "# org_train contains the original feature columns from features_org (in Simson)\n",
    "# features_org contains unprocessed features, for me X_train at beginning ???\n",
    "# For keep-all, creates a boolean Series (keep_mask) of all True, so no rows are removed.\n",
    "\n",
    "elif mode == \"drop-non-german\":\n",
    "    keep_mask = org_train[\"maxdeutsch1\"] == 1 # ??? what about missing values?\n",
    "\n",
    "else:\n",
    "    raise ValueError(f\"Unsupported mode for exclude_subgroups: {mode}\")\n"
   ]
  },
  {
   "cell_type": "code",
   "execution_count": 31,
   "id": "71651440",
   "metadata": {
    "execution": {
     "iopub.execute_input": "2025-07-28T11:07:25.739260Z",
     "iopub.status.busy": "2025-07-28T11:07:25.738785Z",
     "iopub.status.idle": "2025-07-28T11:07:25.746320Z",
     "shell.execute_reply": "2025-07-28T11:07:25.745181Z"
    },
    "papermill": {
     "duration": 0.062588,
     "end_time": "2025-07-28T11:07:25.748135",
     "exception": false,
     "start_time": "2025-07-28T11:07:25.685547",
     "status": "completed"
    },
    "tags": []
   },
   "outputs": [],
   "source": [
    "n_drop = (~keep_mask).sum() # Calculates how many rows are set to be dropped\n",
    "if n_drop > 0:\n",
    "    pct = n_drop / len(keep_mask) * 100\n",
    "    print(f\"Dropping {n_drop} rows ({pct:.2f}%) where mode='{mode}'\")"
   ]
  },
  {
   "cell_type": "code",
   "execution_count": 32,
   "id": "5fb8eee5",
   "metadata": {
    "execution": {
     "iopub.execute_input": "2025-07-28T11:07:25.858959Z",
     "iopub.status.busy": "2025-07-28T11:07:25.858484Z",
     "iopub.status.idle": "2025-07-28T11:07:26.001562Z",
     "shell.execute_reply": "2025-07-28T11:07:26.000098Z"
    },
    "papermill": {
     "duration": 0.203368,
     "end_time": "2025-07-28T11:07:26.003725",
     "exception": false,
     "start_time": "2025-07-28T11:07:25.800357",
     "status": "completed"
    },
    "tags": []
   },
   "outputs": [],
   "source": [
    "X_train = X_train[keep_mask]"
   ]
  },
  {
   "cell_type": "code",
   "execution_count": 33,
   "id": "b202bb3a",
   "metadata": {
    "execution": {
     "iopub.execute_input": "2025-07-28T11:07:26.092784Z",
     "iopub.status.busy": "2025-07-28T11:07:26.092281Z",
     "iopub.status.idle": "2025-07-28T11:07:26.100793Z",
     "shell.execute_reply": "2025-07-28T11:07:26.099586Z"
    },
    "papermill": {
     "duration": 0.049062,
     "end_time": "2025-07-28T11:07:26.111993",
     "exception": false,
     "start_time": "2025-07-28T11:07:26.062931",
     "status": "completed"
    },
    "tags": []
   },
   "outputs": [],
   "source": [
    "y_train = y_train[keep_mask]"
   ]
  },
  {
   "cell_type": "markdown",
   "id": "493e2ac3",
   "metadata": {
    "papermill": {
     "duration": 0.053647,
     "end_time": "2025-07-28T11:07:26.280312",
     "exception": false,
     "start_time": "2025-07-28T11:07:26.226665",
     "status": "completed"
    },
    "tags": []
   },
   "source": [
    "# Model Training"
   ]
  },
  {
   "cell_type": "code",
   "execution_count": 34,
   "id": "679e1268",
   "metadata": {
    "execution": {
     "iopub.execute_input": "2025-07-28T11:07:26.385064Z",
     "iopub.status.busy": "2025-07-28T11:07:26.384650Z",
     "iopub.status.idle": "2025-07-28T11:07:26.545484Z",
     "shell.execute_reply": "2025-07-28T11:07:26.544753Z"
    },
    "papermill": {
     "duration": 0.199165,
     "end_time": "2025-07-28T11:07:26.547467",
     "exception": false,
     "start_time": "2025-07-28T11:07:26.348302",
     "status": "completed"
    },
    "tags": []
   },
   "outputs": [],
   "source": [
    "from sklearn.linear_model import LogisticRegression\n",
    "from sklearn.ensemble import GradientBoostingClassifier, RandomForestClassifier\n",
    "\n",
    "if (universe[\"model\"] == \"logreg\"):\n",
    "    model = LogisticRegression() #penalty=\"none\") #, solver=\"newton-cg\", max_iter=1) # include random_state=19 ?\n",
    "elif (universe[\"model\"] == \"penalized_logreg\"):\n",
    "    model = LogisticRegression(penalty=\"l2\", C=1.0) #, solver=\"newton-cg\", max_iter=1)\n",
    "elif (universe[\"model\"] == \"rf\"):\n",
    "    model = RandomForestClassifier(n_estimators=100, n_jobs=-1)\n",
    "elif (universe[\"model\"] == \"gbm\"):\n",
    "    model = GradientBoostingClassifier()\n",
    "elif (universe[\"model\"] == \"elasticnet\"):\n",
    "    model = LogisticRegression(penalty = 'elasticnet', solver = 'saga', l1_ratio = 0.5, max_iter=5000) # which solver to use?\n",
    "else:\n",
    "    raise \"Unsupported universe.model\""
   ]
  },
  {
   "cell_type": "code",
   "execution_count": 35,
   "id": "0cc8f744",
   "metadata": {
    "execution": {
     "iopub.execute_input": "2025-07-28T11:07:26.595470Z",
     "iopub.status.busy": "2025-07-28T11:07:26.594776Z",
     "iopub.status.idle": "2025-07-28T11:07:26.600648Z",
     "shell.execute_reply": "2025-07-28T11:07:26.599527Z"
    },
    "papermill": {
     "duration": 0.032427,
     "end_time": "2025-07-28T11:07:26.603085",
     "exception": false,
     "start_time": "2025-07-28T11:07:26.570658",
     "status": "completed"
    },
    "tags": []
   },
   "outputs": [],
   "source": [
    "import numpy as np\n",
    "from sklearn.pipeline import Pipeline\n",
    "from sklearn.preprocessing import StandardScaler\n",
    "\n",
    "model = Pipeline([\n",
    "    #(\"continuous_processor\", continuous_processor),\n",
    "    #(\"categorical_preprocessor\", categorical_preprocessor),\n",
    "    (\"scale\", StandardScaler() if universe[\"scale\"] == \"scale\" else None), \n",
    "    (\"model\", model),\n",
    "])"
   ]
  },
  {
   "cell_type": "code",
   "execution_count": 36,
   "id": "9442c04d",
   "metadata": {
    "execution": {
     "iopub.execute_input": "2025-07-28T11:07:26.669174Z",
     "iopub.status.busy": "2025-07-28T11:07:26.667914Z",
     "iopub.status.idle": "2025-07-28T11:09:29.553930Z",
     "shell.execute_reply": "2025-07-28T11:09:29.552994Z"
    },
    "papermill": {
     "duration": 122.944981,
     "end_time": "2025-07-28T11:09:29.579395",
     "exception": false,
     "start_time": "2025-07-28T11:07:26.634414",
     "status": "completed"
    },
    "tags": []
   },
   "outputs": [
    {
     "data": {
      "text/html": [
       "<style>#sk-container-id-1 {color: black;background-color: white;}#sk-container-id-1 pre{padding: 0;}#sk-container-id-1 div.sk-toggleable {background-color: white;}#sk-container-id-1 label.sk-toggleable__label {cursor: pointer;display: block;width: 100%;margin-bottom: 0;padding: 0.3em;box-sizing: border-box;text-align: center;}#sk-container-id-1 label.sk-toggleable__label-arrow:before {content: \"▸\";float: left;margin-right: 0.25em;color: #696969;}#sk-container-id-1 label.sk-toggleable__label-arrow:hover:before {color: black;}#sk-container-id-1 div.sk-estimator:hover label.sk-toggleable__label-arrow:before {color: black;}#sk-container-id-1 div.sk-toggleable__content {max-height: 0;max-width: 0;overflow: hidden;text-align: left;background-color: #f0f8ff;}#sk-container-id-1 div.sk-toggleable__content pre {margin: 0.2em;color: black;border-radius: 0.25em;background-color: #f0f8ff;}#sk-container-id-1 input.sk-toggleable__control:checked~div.sk-toggleable__content {max-height: 200px;max-width: 100%;overflow: auto;}#sk-container-id-1 input.sk-toggleable__control:checked~label.sk-toggleable__label-arrow:before {content: \"▾\";}#sk-container-id-1 div.sk-estimator input.sk-toggleable__control:checked~label.sk-toggleable__label {background-color: #d4ebff;}#sk-container-id-1 div.sk-label input.sk-toggleable__control:checked~label.sk-toggleable__label {background-color: #d4ebff;}#sk-container-id-1 input.sk-hidden--visually {border: 0;clip: rect(1px 1px 1px 1px);clip: rect(1px, 1px, 1px, 1px);height: 1px;margin: -1px;overflow: hidden;padding: 0;position: absolute;width: 1px;}#sk-container-id-1 div.sk-estimator {font-family: monospace;background-color: #f0f8ff;border: 1px dotted black;border-radius: 0.25em;box-sizing: border-box;margin-bottom: 0.5em;}#sk-container-id-1 div.sk-estimator:hover {background-color: #d4ebff;}#sk-container-id-1 div.sk-parallel-item::after {content: \"\";width: 100%;border-bottom: 1px solid gray;flex-grow: 1;}#sk-container-id-1 div.sk-label:hover label.sk-toggleable__label {background-color: #d4ebff;}#sk-container-id-1 div.sk-serial::before {content: \"\";position: absolute;border-left: 1px solid gray;box-sizing: border-box;top: 0;bottom: 0;left: 50%;z-index: 0;}#sk-container-id-1 div.sk-serial {display: flex;flex-direction: column;align-items: center;background-color: white;padding-right: 0.2em;padding-left: 0.2em;position: relative;}#sk-container-id-1 div.sk-item {position: relative;z-index: 1;}#sk-container-id-1 div.sk-parallel {display: flex;align-items: stretch;justify-content: center;background-color: white;position: relative;}#sk-container-id-1 div.sk-item::before, #sk-container-id-1 div.sk-parallel-item::before {content: \"\";position: absolute;border-left: 1px solid gray;box-sizing: border-box;top: 0;bottom: 0;left: 50%;z-index: -1;}#sk-container-id-1 div.sk-parallel-item {display: flex;flex-direction: column;z-index: 1;position: relative;background-color: white;}#sk-container-id-1 div.sk-parallel-item:first-child::after {align-self: flex-end;width: 50%;}#sk-container-id-1 div.sk-parallel-item:last-child::after {align-self: flex-start;width: 50%;}#sk-container-id-1 div.sk-parallel-item:only-child::after {width: 0;}#sk-container-id-1 div.sk-dashed-wrapped {border: 1px dashed gray;margin: 0 0.4em 0.5em 0.4em;box-sizing: border-box;padding-bottom: 0.4em;background-color: white;}#sk-container-id-1 div.sk-label label {font-family: monospace;font-weight: bold;display: inline-block;line-height: 1.2em;}#sk-container-id-1 div.sk-label-container {text-align: center;}#sk-container-id-1 div.sk-container {/* jupyter's `normalize.less` sets `[hidden] { display: none; }` but bootstrap.min.css set `[hidden] { display: none !important; }` so we also need the `!important` here to be able to override the default hidden behavior on the sphinx rendered scikit-learn.org. See: https://github.com/scikit-learn/scikit-learn/issues/21755 */display: inline-block !important;position: relative;}#sk-container-id-1 div.sk-text-repr-fallback {display: none;}</style><div id=\"sk-container-id-1\" class=\"sk-top-container\"><div class=\"sk-text-repr-fallback\"><pre>Pipeline(steps=[(&#x27;scale&#x27;, None), (&#x27;model&#x27;, GradientBoostingClassifier())])</pre><b>In a Jupyter environment, please rerun this cell to show the HTML representation or trust the notebook. <br />On GitHub, the HTML representation is unable to render, please try loading this page with nbviewer.org.</b></div><div class=\"sk-container\" hidden><div class=\"sk-item sk-dashed-wrapped\"><div class=\"sk-label-container\"><div class=\"sk-label sk-toggleable\"><input class=\"sk-toggleable__control sk-hidden--visually\" id=\"sk-estimator-id-1\" type=\"checkbox\" ><label for=\"sk-estimator-id-1\" class=\"sk-toggleable__label sk-toggleable__label-arrow\">Pipeline</label><div class=\"sk-toggleable__content\"><pre>Pipeline(steps=[(&#x27;scale&#x27;, None), (&#x27;model&#x27;, GradientBoostingClassifier())])</pre></div></div></div><div class=\"sk-serial\"><div class=\"sk-item\"><div class=\"sk-estimator sk-toggleable\"><input class=\"sk-toggleable__control sk-hidden--visually\" id=\"sk-estimator-id-2\" type=\"checkbox\" ><label for=\"sk-estimator-id-2\" class=\"sk-toggleable__label sk-toggleable__label-arrow\">None</label><div class=\"sk-toggleable__content\"><pre>None</pre></div></div></div><div class=\"sk-item\"><div class=\"sk-estimator sk-toggleable\"><input class=\"sk-toggleable__control sk-hidden--visually\" id=\"sk-estimator-id-3\" type=\"checkbox\" ><label for=\"sk-estimator-id-3\" class=\"sk-toggleable__label sk-toggleable__label-arrow\">GradientBoostingClassifier</label><div class=\"sk-toggleable__content\"><pre>GradientBoostingClassifier()</pre></div></div></div></div></div></div></div>"
      ],
      "text/plain": [
       "Pipeline(steps=[('scale', None), ('model', GradientBoostingClassifier())])"
      ]
     },
     "execution_count": 36,
     "metadata": {},
     "output_type": "execute_result"
    }
   ],
   "source": [
    "model.fit(X_train, y_train.values.ravel())"
   ]
  },
  {
   "cell_type": "code",
   "execution_count": 37,
   "id": "af59f8c0",
   "metadata": {
    "execution": {
     "iopub.execute_input": "2025-07-28T11:09:29.626487Z",
     "iopub.status.busy": "2025-07-28T11:09:29.625928Z",
     "iopub.status.idle": "2025-07-28T11:09:29.632426Z",
     "shell.execute_reply": "2025-07-28T11:09:29.631296Z"
    },
    "papermill": {
     "duration": 0.031788,
     "end_time": "2025-07-28T11:09:29.634255",
     "exception": false,
     "start_time": "2025-07-28T11:09:29.602467",
     "status": "completed"
    },
    "tags": []
   },
   "outputs": [],
   "source": [
    "from fairness_multiverse.universe import predict_w_threshold"
   ]
  },
  {
   "cell_type": "code",
   "execution_count": 38,
   "id": "a7cf2e16",
   "metadata": {
    "execution": {
     "iopub.execute_input": "2025-07-28T11:09:29.684016Z",
     "iopub.status.busy": "2025-07-28T11:09:29.683471Z",
     "iopub.status.idle": "2025-07-28T11:09:30.410199Z",
     "shell.execute_reply": "2025-07-28T11:09:30.409192Z"
    },
    "papermill": {
     "duration": 0.754185,
     "end_time": "2025-07-28T11:09:30.412039",
     "exception": false,
     "start_time": "2025-07-28T11:09:29.657854",
     "status": "completed"
    },
    "tags": []
   },
   "outputs": [
    {
     "data": {
      "text/plain": [
       "0.8716642514769813"
      ]
     },
     "execution_count": 38,
     "metadata": {},
     "output_type": "execute_result"
    }
   ],
   "source": [
    "probs_test = model.predict_proba(X_test)\n",
    "\n",
    "'''\n",
    "Below code returns a boolean array (or binary 0/1 array depending on how it’s used) where each element \n",
    "is True if the probability of class 1 is greater than or equal to the threshold, and False otherwise.\n",
    "'''\n",
    "y_pred_default = predict_w_threshold(probs_test, 0.5)\n",
    "\n",
    "from sklearn.metrics import accuracy_score\n",
    "\n",
    "# Naive prediction\n",
    "accuracy_score(y_true = y_true, y_pred = y_pred_default)"
   ]
  },
  {
   "cell_type": "code",
   "execution_count": 39,
   "id": "081964c3",
   "metadata": {
    "execution": {
     "iopub.execute_input": "2025-07-28T11:09:30.461079Z",
     "iopub.status.busy": "2025-07-28T11:09:30.459974Z",
     "iopub.status.idle": "2025-07-28T11:09:31.190487Z",
     "shell.execute_reply": "2025-07-28T11:09:31.189449Z"
    },
    "papermill": {
     "duration": 0.756606,
     "end_time": "2025-07-28T11:09:31.192251",
     "exception": false,
     "start_time": "2025-07-28T11:09:30.435645",
     "status": "completed"
    },
    "tags": []
   },
   "outputs": [
    {
     "data": {
      "text/plain": [
       "array([0, 0, 0, ..., 0, 0, 0])"
      ]
     },
     "execution_count": 39,
     "metadata": {},
     "output_type": "execute_result"
    }
   ],
   "source": [
    "model.predict(X_test)"
   ]
  },
  {
   "cell_type": "markdown",
   "id": "56c9705b",
   "metadata": {
    "papermill": {
     "duration": 0.021563,
     "end_time": "2025-07-28T11:09:31.237173",
     "exception": false,
     "start_time": "2025-07-28T11:09:31.215610",
     "status": "completed"
    },
    "tags": []
   },
   "source": [
    "# Conformal Prediction"
   ]
  },
  {
   "cell_type": "code",
   "execution_count": 40,
   "id": "160ec6ff",
   "metadata": {
    "execution": {
     "iopub.execute_input": "2025-07-28T11:09:31.285242Z",
     "iopub.status.busy": "2025-07-28T11:09:31.284512Z",
     "iopub.status.idle": "2025-07-28T11:09:31.291730Z",
     "shell.execute_reply": "2025-07-28T11:09:31.290690Z"
    },
    "papermill": {
     "duration": 0.033534,
     "end_time": "2025-07-28T11:09:31.293858",
     "exception": false,
     "start_time": "2025-07-28T11:09:31.260324",
     "status": "completed"
    },
    "tags": []
   },
   "outputs": [],
   "source": [
    "# Miscoverage level for conformal prediction (10% allowed error rate => 90% target coverage)\n",
    "alpha = 0.1"
   ]
  },
  {
   "cell_type": "code",
   "execution_count": 41,
   "id": "eadf4555-3dd3-440e-8e35-f82a4ad9f855",
   "metadata": {
    "execution": {
     "iopub.execute_input": "2025-07-28T11:09:31.341231Z",
     "iopub.status.busy": "2025-07-28T11:09:31.340684Z",
     "iopub.status.idle": "2025-07-28T11:09:32.038900Z",
     "shell.execute_reply": "2025-07-28T11:09:32.037904Z"
    },
    "papermill": {
     "duration": 0.723171,
     "end_time": "2025-07-28T11:09:32.040822",
     "exception": false,
     "start_time": "2025-07-28T11:09:31.317651",
     "status": "completed"
    },
    "tags": []
   },
   "outputs": [],
   "source": [
    "probs_calib = model.predict_proba(X_calib)"
   ]
  },
  {
   "cell_type": "code",
   "execution_count": 42,
   "id": "2ed93547-6d5d-4983-9b36-1ecb300da49a",
   "metadata": {
    "execution": {
     "iopub.execute_input": "2025-07-28T11:09:32.088146Z",
     "iopub.status.busy": "2025-07-28T11:09:32.087473Z",
     "iopub.status.idle": "2025-07-28T11:09:32.093783Z",
     "shell.execute_reply": "2025-07-28T11:09:32.092841Z"
    },
    "papermill": {
     "duration": 0.031398,
     "end_time": "2025-07-28T11:09:32.095418",
     "exception": false,
     "start_time": "2025-07-28T11:09:32.064020",
     "status": "completed"
    },
    "tags": []
   },
   "outputs": [],
   "source": [
    "y_calib = y_calib.values.ravel().astype(int)"
   ]
  },
  {
   "cell_type": "code",
   "execution_count": 43,
   "id": "65d1320d-f588-4b38-9072-62af1ae97f7d",
   "metadata": {
    "execution": {
     "iopub.execute_input": "2025-07-28T11:09:32.143443Z",
     "iopub.status.busy": "2025-07-28T11:09:32.142680Z",
     "iopub.status.idle": "2025-07-28T11:09:32.152244Z",
     "shell.execute_reply": "2025-07-28T11:09:32.151178Z"
    },
    "papermill": {
     "duration": 0.035423,
     "end_time": "2025-07-28T11:09:32.154096",
     "exception": false,
     "start_time": "2025-07-28T11:09:32.118673",
     "status": "completed"
    },
    "tags": []
   },
   "outputs": [],
   "source": [
    "from fairness_multiverse.conformal import compute_nc_scores\n",
    "\n",
    "# Compute nonconformity scores on calibration set (1 - probability of true class)\n",
    "nc_scores = compute_nc_scores(probs_calib, y_calib)"
   ]
  },
  {
   "cell_type": "code",
   "execution_count": 44,
   "id": "df3b8ca3-53b7-43d5-9667-7c85da7aeda2",
   "metadata": {
    "execution": {
     "iopub.execute_input": "2025-07-28T11:09:32.202820Z",
     "iopub.status.busy": "2025-07-28T11:09:32.201902Z",
     "iopub.status.idle": "2025-07-28T11:09:32.209010Z",
     "shell.execute_reply": "2025-07-28T11:09:32.207908Z"
    },
    "papermill": {
     "duration": 0.033802,
     "end_time": "2025-07-28T11:09:32.211095",
     "exception": false,
     "start_time": "2025-07-28T11:09:32.177293",
     "status": "completed"
    },
    "tags": []
   },
   "outputs": [],
   "source": [
    "from fairness_multiverse.conformal import find_threshold\n",
    "\n",
    "# Find conformal threshold q_hat for the given alpha (split conformal method)\n",
    "q_hat = find_threshold(nc_scores, alpha)"
   ]
  },
  {
   "cell_type": "code",
   "execution_count": 45,
   "id": "4d29e6c1-0ef6-4aa4-b8fe-4fe79b0d033a",
   "metadata": {
    "execution": {
     "iopub.execute_input": "2025-07-28T11:09:32.263073Z",
     "iopub.status.busy": "2025-07-28T11:09:32.262357Z",
     "iopub.status.idle": "2025-07-28T11:09:32.270407Z",
     "shell.execute_reply": "2025-07-28T11:09:32.269423Z"
    },
    "papermill": {
     "duration": 0.035659,
     "end_time": "2025-07-28T11:09:32.272129",
     "exception": false,
     "start_time": "2025-07-28T11:09:32.236470",
     "status": "completed"
    },
    "tags": []
   },
   "outputs": [
    {
     "data": {
      "text/plain": [
       "0.6636777454620961"
      ]
     },
     "execution_count": 45,
     "metadata": {},
     "output_type": "execute_result"
    }
   ],
   "source": [
    "q_hat"
   ]
  },
  {
   "cell_type": "code",
   "execution_count": 46,
   "id": "92460794-cdac-4be2-ba28-f28c0515a6fb",
   "metadata": {
    "execution": {
     "iopub.execute_input": "2025-07-28T11:09:32.324319Z",
     "iopub.status.busy": "2025-07-28T11:09:32.323567Z",
     "iopub.status.idle": "2025-07-28T11:09:33.627176Z",
     "shell.execute_reply": "2025-07-28T11:09:33.626340Z"
    },
    "papermill": {
     "duration": 1.331418,
     "end_time": "2025-07-28T11:09:33.628803",
     "exception": false,
     "start_time": "2025-07-28T11:09:32.297385",
     "status": "completed"
    },
    "tags": []
   },
   "outputs": [],
   "source": [
    "from fairness_multiverse.conformal import predict_conformal_sets\n",
    "\n",
    "# Generate prediction sets for each test example\n",
    "pred_sets = predict_conformal_sets(model, X_test, q_hat)"
   ]
  },
  {
   "cell_type": "code",
   "execution_count": 47,
   "id": "d90c9a65-e6db-4f5d-80cd-e68fb7e46829",
   "metadata": {
    "execution": {
     "iopub.execute_input": "2025-07-28T11:09:33.656393Z",
     "iopub.status.busy": "2025-07-28T11:09:33.655737Z",
     "iopub.status.idle": "2025-07-28T11:09:33.660747Z",
     "shell.execute_reply": "2025-07-28T11:09:33.659976Z"
    },
    "papermill": {
     "duration": 0.020162,
     "end_time": "2025-07-28T11:09:33.662176",
     "exception": false,
     "start_time": "2025-07-28T11:09:33.642014",
     "status": "completed"
    },
    "tags": []
   },
   "outputs": [],
   "source": [
    "y_true = y_true.squeeze()"
   ]
  },
  {
   "cell_type": "code",
   "execution_count": 48,
   "id": "3a58a54a-1e68-46b9-927a-df01f18aebc8",
   "metadata": {
    "execution": {
     "iopub.execute_input": "2025-07-28T11:09:33.711687Z",
     "iopub.status.busy": "2025-07-28T11:09:33.711135Z",
     "iopub.status.idle": "2025-07-28T11:09:34.757640Z",
     "shell.execute_reply": "2025-07-28T11:09:34.756497Z"
    },
    "papermill": {
     "duration": 1.077152,
     "end_time": "2025-07-28T11:09:34.759878",
     "exception": false,
     "start_time": "2025-07-28T11:09:33.682726",
     "status": "completed"
    },
    "tags": []
   },
   "outputs": [],
   "source": [
    "from fairness_multiverse.conformal import evaluate_sets\n",
    "\n",
    "# Evaluate coverage and average set size on test data\n",
    "metrics = evaluate_sets(pred_sets, y_true)"
   ]
  },
  {
   "cell_type": "markdown",
   "id": "2b569c12-9aaa-4c88-98c9-bbcd0cf3ebb8",
   "metadata": {
    "papermill": {
     "duration": 0.027877,
     "end_time": "2025-07-28T11:09:34.816086",
     "exception": false,
     "start_time": "2025-07-28T11:09:34.788209",
     "status": "completed"
    },
    "tags": []
   },
   "source": [
    "# CP Metrics"
   ]
  },
  {
   "cell_type": "code",
   "execution_count": 49,
   "id": "5ce0a5cb-201f-45a0-ade5-94c7f0bd6095",
   "metadata": {
    "execution": {
     "iopub.execute_input": "2025-07-28T11:09:34.873765Z",
     "iopub.status.busy": "2025-07-28T11:09:34.873062Z",
     "iopub.status.idle": "2025-07-28T11:09:34.881541Z",
     "shell.execute_reply": "2025-07-28T11:09:34.880528Z"
    },
    "papermill": {
     "duration": 0.03943,
     "end_time": "2025-07-28T11:09:34.883486",
     "exception": false,
     "start_time": "2025-07-28T11:09:34.844056",
     "status": "completed"
    },
    "tags": []
   },
   "outputs": [
    {
     "data": {
      "text/plain": [
       "{'coverage': 0.9105673837922194, 'avg_size': 1.1069000111470293}"
      ]
     },
     "execution_count": 49,
     "metadata": {},
     "output_type": "execute_result"
    }
   ],
   "source": [
    "metrics"
   ]
  },
  {
   "cell_type": "code",
   "execution_count": 50,
   "id": "9b9a838d-31c9-430b-ae14-12baee460d17",
   "metadata": {
    "execution": {
     "iopub.execute_input": "2025-07-28T11:09:34.936117Z",
     "iopub.status.busy": "2025-07-28T11:09:34.935023Z",
     "iopub.status.idle": "2025-07-28T11:09:34.942459Z",
     "shell.execute_reply": "2025-07-28T11:09:34.941348Z"
    },
    "papermill": {
     "duration": 0.036517,
     "end_time": "2025-07-28T11:09:34.944448",
     "exception": false,
     "start_time": "2025-07-28T11:09:34.907931",
     "status": "completed"
    },
    "tags": []
   },
   "outputs": [],
   "source": [
    "example_universe = universe.copy()\n",
    "universe_training_size = example_universe.get(\"training_size\")\n",
    "universe_scale = example_universe.get(\"scale\")\n",
    "universe_model = example_universe.get(\"model\")\n",
    "universe_exclude_features = example_universe.get(\"exclude_features\")\n",
    "universe_exclude_subgroups = example_universe.get(\"exclude_subgroups\")"
   ]
  },
  {
   "cell_type": "code",
   "execution_count": 51,
   "id": "f4b6a8ac-9dc0-4245-8a91-5b3b5999c4f9",
   "metadata": {
    "execution": {
     "iopub.execute_input": "2025-07-28T11:09:34.997781Z",
     "iopub.status.busy": "2025-07-28T11:09:34.996888Z",
     "iopub.status.idle": "2025-07-28T11:09:35.004290Z",
     "shell.execute_reply": "2025-07-28T11:09:35.003140Z"
    },
    "papermill": {
     "duration": 0.036166,
     "end_time": "2025-07-28T11:09:35.006340",
     "exception": false,
     "start_time": "2025-07-28T11:09:34.970174",
     "status": "completed"
    },
    "tags": []
   },
   "outputs": [],
   "source": [
    "cp_metrics_dict = {\n",
    "    \"universe_id\": [universe_id],\n",
    "    \"universe_training_size\": [universe_training_size],\n",
    "    \"universe_scale\": [universe_scale],\n",
    "    \"universe_model\": [universe_model],\n",
    "    \"universe_exclude_features\": [universe_exclude_features],\n",
    "    \"universe_exclude_subgroups\": [universe_exclude_subgroups],\n",
    "    \"q_hat\": [q_hat],\n",
    "    \"coverage\": [metrics[\"coverage\"]],\n",
    "    \"avg_size\": [metrics[\"avg_size\"]],\n",
    "}"
   ]
  },
  {
   "cell_type": "code",
   "execution_count": 52,
   "id": "908acbb1-0371-4915-85ca-3fa520d2efe2",
   "metadata": {
    "execution": {
     "iopub.execute_input": "2025-07-28T11:09:35.066286Z",
     "iopub.status.busy": "2025-07-28T11:09:35.065546Z",
     "iopub.status.idle": "2025-07-28T11:09:35.074413Z",
     "shell.execute_reply": "2025-07-28T11:09:35.073372Z"
    },
    "papermill": {
     "duration": 0.041034,
     "end_time": "2025-07-28T11:09:35.076164",
     "exception": false,
     "start_time": "2025-07-28T11:09:35.035130",
     "status": "completed"
    },
    "tags": []
   },
   "outputs": [
    {
     "data": {
      "text/plain": [
       "{'universe_id': ['92c425b8321d01cdd2a6b69942b019f8'],\n",
       " 'universe_training_size': ['2014'],\n",
       " 'universe_scale': ['do-not-scale'],\n",
       " 'universe_model': ['gbm'],\n",
       " 'universe_exclude_features': ['none'],\n",
       " 'universe_exclude_subgroups': ['keep-all'],\n",
       " 'q_hat': [0.6636777454620961],\n",
       " 'coverage': [0.9105673837922194],\n",
       " 'avg_size': [1.1069000111470293]}"
      ]
     },
     "execution_count": 52,
     "metadata": {},
     "output_type": "execute_result"
    }
   ],
   "source": [
    "cp_metrics_dict"
   ]
  },
  {
   "cell_type": "code",
   "execution_count": 53,
   "id": "33007efc-14e9-4ec6-97ac-56a455c82265",
   "metadata": {
    "execution": {
     "iopub.execute_input": "2025-07-28T11:09:35.129910Z",
     "iopub.status.busy": "2025-07-28T11:09:35.128963Z",
     "iopub.status.idle": "2025-07-28T11:09:35.136164Z",
     "shell.execute_reply": "2025-07-28T11:09:35.135152Z"
    },
    "papermill": {
     "duration": 0.035977,
     "end_time": "2025-07-28T11:09:35.138219",
     "exception": false,
     "start_time": "2025-07-28T11:09:35.102242",
     "status": "completed"
    },
    "tags": []
   },
   "outputs": [],
   "source": [
    "cp_metrics_df = pd.DataFrame(cp_metrics_dict)"
   ]
  },
  {
   "cell_type": "code",
   "execution_count": 54,
   "id": "db12611b-57b2-4910-b9d0-355adfd6e7bf",
   "metadata": {
    "execution": {
     "iopub.execute_input": "2025-07-28T11:09:35.197921Z",
     "iopub.status.busy": "2025-07-28T11:09:35.197110Z",
     "iopub.status.idle": "2025-07-28T11:09:35.217915Z",
     "shell.execute_reply": "2025-07-28T11:09:35.216817Z"
    },
    "papermill": {
     "duration": 0.052715,
     "end_time": "2025-07-28T11:09:35.219739",
     "exception": false,
     "start_time": "2025-07-28T11:09:35.167024",
     "status": "completed"
    },
    "tags": []
   },
   "outputs": [
    {
     "data": {
      "text/html": [
       "<div>\n",
       "<style scoped>\n",
       "    .dataframe tbody tr th:only-of-type {\n",
       "        vertical-align: middle;\n",
       "    }\n",
       "\n",
       "    .dataframe tbody tr th {\n",
       "        vertical-align: top;\n",
       "    }\n",
       "\n",
       "    .dataframe thead th {\n",
       "        text-align: right;\n",
       "    }\n",
       "</style>\n",
       "<table border=\"1\" class=\"dataframe\">\n",
       "  <thead>\n",
       "    <tr style=\"text-align: right;\">\n",
       "      <th></th>\n",
       "      <th>universe_id</th>\n",
       "      <th>universe_training_size</th>\n",
       "      <th>universe_scale</th>\n",
       "      <th>universe_model</th>\n",
       "      <th>universe_exclude_features</th>\n",
       "      <th>universe_exclude_subgroups</th>\n",
       "      <th>q_hat</th>\n",
       "      <th>coverage</th>\n",
       "      <th>avg_size</th>\n",
       "    </tr>\n",
       "  </thead>\n",
       "  <tbody>\n",
       "    <tr>\n",
       "      <th>0</th>\n",
       "      <td>92c425b8321d01cdd2a6b69942b019f8</td>\n",
       "      <td>2014</td>\n",
       "      <td>do-not-scale</td>\n",
       "      <td>gbm</td>\n",
       "      <td>none</td>\n",
       "      <td>keep-all</td>\n",
       "      <td>0.663678</td>\n",
       "      <td>0.910567</td>\n",
       "      <td>1.1069</td>\n",
       "    </tr>\n",
       "  </tbody>\n",
       "</table>\n",
       "</div>"
      ],
      "text/plain": [
       "                        universe_id universe_training_size universe_scale  \\\n",
       "0  92c425b8321d01cdd2a6b69942b019f8                   2014   do-not-scale   \n",
       "\n",
       "  universe_model universe_exclude_features universe_exclude_subgroups  \\\n",
       "0            gbm                      none                   keep-all   \n",
       "\n",
       "      q_hat  coverage  avg_size  \n",
       "0  0.663678  0.910567    1.1069  "
      ]
     },
     "execution_count": 54,
     "metadata": {},
     "output_type": "execute_result"
    }
   ],
   "source": [
    "cp_metrics_df"
   ]
  },
  {
   "cell_type": "code",
   "execution_count": 55,
   "id": "b7fbde55-a0a1-47e4-9af6-fe4a17fa8c61",
   "metadata": {
    "execution": {
     "iopub.execute_input": "2025-07-28T11:09:35.279520Z",
     "iopub.status.busy": "2025-07-28T11:09:35.278812Z",
     "iopub.status.idle": "2025-07-28T11:09:35.285271Z",
     "shell.execute_reply": "2025-07-28T11:09:35.284197Z"
    },
    "papermill": {
     "duration": 0.038163,
     "end_time": "2025-07-28T11:09:35.287158",
     "exception": false,
     "start_time": "2025-07-28T11:09:35.248995",
     "status": "completed"
    },
    "tags": []
   },
   "outputs": [],
   "source": [
    "# Conditional Coverage & looking at subgroups"
   ]
  },
  {
   "cell_type": "code",
   "execution_count": 56,
   "id": "027ae886-68dd-4141-96c7-805a5450e1ef",
   "metadata": {
    "execution": {
     "iopub.execute_input": "2025-07-28T11:09:35.346043Z",
     "iopub.status.busy": "2025-07-28T11:09:35.345343Z",
     "iopub.status.idle": "2025-07-28T11:09:35.643060Z",
     "shell.execute_reply": "2025-07-28T11:09:35.641958Z"
    },
    "papermill": {
     "duration": 0.329169,
     "end_time": "2025-07-28T11:09:35.644992",
     "exception": false,
     "start_time": "2025-07-28T11:09:35.315823",
     "status": "completed"
    },
    "tags": []
   },
   "outputs": [],
   "source": [
    "from fairness_multiverse.conformal import build_cp_groups\n",
    "\n",
    "cp_groups_df = build_cp_groups(pred_sets, y_true, X_test.index, org_test)\n",
    "#needs universe_id and setting"
   ]
  },
  {
   "cell_type": "code",
   "execution_count": 57,
   "id": "01d5802c-663a-4d1f-9d69-e036faaffbf7",
   "metadata": {
    "execution": {
     "iopub.execute_input": "2025-07-28T11:09:35.672956Z",
     "iopub.status.busy": "2025-07-28T11:09:35.672204Z",
     "iopub.status.idle": "2025-07-28T11:09:35.677018Z",
     "shell.execute_reply": "2025-07-28T11:09:35.676123Z"
    },
    "papermill": {
     "duration": 0.019974,
     "end_time": "2025-07-28T11:09:35.678450",
     "exception": false,
     "start_time": "2025-07-28T11:09:35.658476",
     "status": "completed"
    },
    "tags": []
   },
   "outputs": [],
   "source": [
    "#delete\n",
    "#cp_groups_df"
   ]
  },
  {
   "cell_type": "code",
   "execution_count": 58,
   "id": "fa424af1-d1eb-443d-b717-2d279ada8408",
   "metadata": {
    "execution": {
     "iopub.execute_input": "2025-07-28T11:09:35.706382Z",
     "iopub.status.busy": "2025-07-28T11:09:35.705643Z",
     "iopub.status.idle": "2025-07-28T11:09:35.710461Z",
     "shell.execute_reply": "2025-07-28T11:09:35.709696Z"
    },
    "papermill": {
     "duration": 0.019785,
     "end_time": "2025-07-28T11:09:35.711805",
     "exception": false,
     "start_time": "2025-07-28T11:09:35.692020",
     "status": "completed"
    },
    "tags": []
   },
   "outputs": [],
   "source": [
    "#delete\n",
    "#percentage = (cp_groups_df['nongerman_female'] == 1).mean() * 100\n",
    "#print(percentage)\n"
   ]
  },
  {
   "cell_type": "code",
   "execution_count": 59,
   "id": "6cbdab96-b2b2-45af-ad54-d0516db2e28d",
   "metadata": {
    "execution": {
     "iopub.execute_input": "2025-07-28T11:09:35.739841Z",
     "iopub.status.busy": "2025-07-28T11:09:35.739330Z",
     "iopub.status.idle": "2025-07-28T11:09:37.401479Z",
     "shell.execute_reply": "2025-07-28T11:09:37.400481Z"
    },
    "papermill": {
     "duration": 1.677716,
     "end_time": "2025-07-28T11:09:37.403335",
     "exception": false,
     "start_time": "2025-07-28T11:09:35.725619",
     "status": "completed"
    },
    "tags": []
   },
   "outputs": [],
   "source": [
    "# Define covered = 1 if true_label is in the predicted set\n",
    "cp_groups_df['covered'] = cp_groups_df.apply(\n",
    "    lambda r: int(r['true_label'] in r['pred_set']),\n",
    "    axis=1\n",
    ")"
   ]
  },
  {
   "cell_type": "code",
   "execution_count": 60,
   "id": "338ff529-1a6b-4b87-a931-8e4788d52aad",
   "metadata": {
    "execution": {
     "iopub.execute_input": "2025-07-28T11:09:37.456158Z",
     "iopub.status.busy": "2025-07-28T11:09:37.455151Z",
     "iopub.status.idle": "2025-07-28T11:09:37.460711Z",
     "shell.execute_reply": "2025-07-28T11:09:37.459746Z"
    },
    "papermill": {
     "duration": 0.033101,
     "end_time": "2025-07-28T11:09:37.462223",
     "exception": false,
     "start_time": "2025-07-28T11:09:37.429122",
     "status": "completed"
    },
    "tags": []
   },
   "outputs": [],
   "source": [
    "#cp_groups_df"
   ]
  },
  {
   "cell_type": "code",
   "execution_count": 61,
   "id": "90032e27-66df-4540-9169-4e89cfbaa758",
   "metadata": {
    "execution": {
     "iopub.execute_input": "2025-07-28T11:09:37.511462Z",
     "iopub.status.busy": "2025-07-28T11:09:37.510565Z",
     "iopub.status.idle": "2025-07-28T11:09:37.522927Z",
     "shell.execute_reply": "2025-07-28T11:09:37.521986Z"
    },
    "papermill": {
     "duration": 0.038584,
     "end_time": "2025-07-28T11:09:37.524702",
     "exception": false,
     "start_time": "2025-07-28T11:09:37.486118",
     "status": "completed"
    },
    "tags": []
   },
   "outputs": [],
   "source": [
    "subgroups = ['frau1','nongerman','nongerman_male','nongerman_female']\n",
    "\n",
    "# Conditional coverage for subgroup==1\n",
    "cond_coverage = {\n",
    "    g: cp_groups_df.loc[cp_groups_df[g]==1, 'covered'].mean()\n",
    "    for g in subgroups\n",
    "}"
   ]
  },
  {
   "cell_type": "code",
   "execution_count": 62,
   "id": "1e348fb1-b9c3-45bc-ba23-f016827a7e0d",
   "metadata": {
    "execution": {
     "iopub.execute_input": "2025-07-28T11:09:37.575567Z",
     "iopub.status.busy": "2025-07-28T11:09:37.574601Z",
     "iopub.status.idle": "2025-07-28T11:09:37.582520Z",
     "shell.execute_reply": "2025-07-28T11:09:37.581594Z"
    },
    "papermill": {
     "duration": 0.035287,
     "end_time": "2025-07-28T11:09:37.584145",
     "exception": false,
     "start_time": "2025-07-28T11:09:37.548858",
     "status": "completed"
    },
    "tags": []
   },
   "outputs": [
    {
     "data": {
      "text/plain": [
       "{'frau1': 0.9119827470009435,\n",
       " 'nongerman': 0.9088306293156684,\n",
       " 'nongerman_male': 0.9234441142033685,\n",
       " 'nongerman_female': 0.8846497764530551}"
      ]
     },
     "execution_count": 62,
     "metadata": {},
     "output_type": "execute_result"
    }
   ],
   "source": [
    "cond_coverage"
   ]
  },
  {
   "cell_type": "code",
   "execution_count": 63,
   "id": "f5093324-c3dd-4d63-bc4c-8d945e5c8bbb",
   "metadata": {
    "execution": {
     "iopub.execute_input": "2025-07-28T11:09:37.634295Z",
     "iopub.status.busy": "2025-07-28T11:09:37.633457Z",
     "iopub.status.idle": "2025-07-28T11:09:37.641226Z",
     "shell.execute_reply": "2025-07-28T11:09:37.640231Z"
    },
    "papermill": {
     "duration": 0.034514,
     "end_time": "2025-07-28T11:09:37.642888",
     "exception": false,
     "start_time": "2025-07-28T11:09:37.608374",
     "status": "completed"
    },
    "tags": []
   },
   "outputs": [],
   "source": [
    "for subgroup, cov in cond_coverage.items():\n",
    "    cp_metrics_df[f\"cov_{subgroup}\"] = cov"
   ]
  },
  {
   "cell_type": "code",
   "execution_count": 64,
   "id": "6e872e10-dbe5-49e8-b554-5030c98ff75d",
   "metadata": {
    "execution": {
     "iopub.execute_input": "2025-07-28T11:09:37.696637Z",
     "iopub.status.busy": "2025-07-28T11:09:37.695650Z",
     "iopub.status.idle": "2025-07-28T11:09:37.715638Z",
     "shell.execute_reply": "2025-07-28T11:09:37.714651Z"
    },
    "papermill": {
     "duration": 0.049091,
     "end_time": "2025-07-28T11:09:37.717632",
     "exception": false,
     "start_time": "2025-07-28T11:09:37.668541",
     "status": "completed"
    },
    "tags": []
   },
   "outputs": [
    {
     "data": {
      "text/html": [
       "<div>\n",
       "<style scoped>\n",
       "    .dataframe tbody tr th:only-of-type {\n",
       "        vertical-align: middle;\n",
       "    }\n",
       "\n",
       "    .dataframe tbody tr th {\n",
       "        vertical-align: top;\n",
       "    }\n",
       "\n",
       "    .dataframe thead th {\n",
       "        text-align: right;\n",
       "    }\n",
       "</style>\n",
       "<table border=\"1\" class=\"dataframe\">\n",
       "  <thead>\n",
       "    <tr style=\"text-align: right;\">\n",
       "      <th></th>\n",
       "      <th>universe_id</th>\n",
       "      <th>universe_training_size</th>\n",
       "      <th>universe_scale</th>\n",
       "      <th>universe_model</th>\n",
       "      <th>universe_exclude_features</th>\n",
       "      <th>universe_exclude_subgroups</th>\n",
       "      <th>q_hat</th>\n",
       "      <th>coverage</th>\n",
       "      <th>avg_size</th>\n",
       "      <th>cov_frau1</th>\n",
       "      <th>cov_nongerman</th>\n",
       "      <th>cov_nongerman_male</th>\n",
       "      <th>cov_nongerman_female</th>\n",
       "    </tr>\n",
       "  </thead>\n",
       "  <tbody>\n",
       "    <tr>\n",
       "      <th>0</th>\n",
       "      <td>92c425b8321d01cdd2a6b69942b019f8</td>\n",
       "      <td>2014</td>\n",
       "      <td>do-not-scale</td>\n",
       "      <td>gbm</td>\n",
       "      <td>none</td>\n",
       "      <td>keep-all</td>\n",
       "      <td>0.663678</td>\n",
       "      <td>0.910567</td>\n",
       "      <td>1.1069</td>\n",
       "      <td>0.911983</td>\n",
       "      <td>0.908831</td>\n",
       "      <td>0.923444</td>\n",
       "      <td>0.88465</td>\n",
       "    </tr>\n",
       "  </tbody>\n",
       "</table>\n",
       "</div>"
      ],
      "text/plain": [
       "                        universe_id universe_training_size universe_scale  \\\n",
       "0  92c425b8321d01cdd2a6b69942b019f8                   2014   do-not-scale   \n",
       "\n",
       "  universe_model universe_exclude_features universe_exclude_subgroups  \\\n",
       "0            gbm                      none                   keep-all   \n",
       "\n",
       "      q_hat  coverage  avg_size  cov_frau1  cov_nongerman  cov_nongerman_male  \\\n",
       "0  0.663678  0.910567    1.1069   0.911983       0.908831            0.923444   \n",
       "\n",
       "   cov_nongerman_female  \n",
       "0               0.88465  "
      ]
     },
     "execution_count": 64,
     "metadata": {},
     "output_type": "execute_result"
    }
   ],
   "source": [
    "cp_metrics_df"
   ]
  },
  {
   "cell_type": "markdown",
   "id": "33774451",
   "metadata": {
    "papermill": {
     "duration": 0.025567,
     "end_time": "2025-07-28T11:09:37.769572",
     "exception": false,
     "start_time": "2025-07-28T11:09:37.744005",
     "status": "completed"
    },
    "tags": []
   },
   "source": [
    "# (Fairness) Metrics"
   ]
  },
  {
   "cell_type": "code",
   "execution_count": 65,
   "id": "debc5d62",
   "metadata": {
    "execution": {
     "iopub.execute_input": "2025-07-28T11:09:37.827014Z",
     "iopub.status.busy": "2025-07-28T11:09:37.826287Z",
     "iopub.status.idle": "2025-07-28T11:09:37.849567Z",
     "shell.execute_reply": "2025-07-28T11:09:37.848571Z"
    },
    "papermill": {
     "duration": 0.052292,
     "end_time": "2025-07-28T11:09:37.851474",
     "exception": false,
     "start_time": "2025-07-28T11:09:37.799182",
     "status": "completed"
    },
    "tags": []
   },
   "outputs": [],
   "source": [
    "# do I need to include maxdeutsch1.missing?\n",
    "\n",
    "import numpy as np\n",
    "\n",
    "colname_to_bin = \"maxdeutsch1\"\n",
    "majority_value = org_train[colname_to_bin].mode()[0]\n",
    "\n",
    "org_test[\"majmin\"] = np.where(org_test[colname_to_bin] == majority_value, \"majority\", \"minority\")"
   ]
  },
  {
   "cell_type": "code",
   "execution_count": 66,
   "id": "06a50de5",
   "metadata": {
    "execution": {
     "iopub.execute_input": "2025-07-28T11:09:37.904667Z",
     "iopub.status.busy": "2025-07-28T11:09:37.903883Z",
     "iopub.status.idle": "2025-07-28T11:09:40.998834Z",
     "shell.execute_reply": "2025-07-28T11:09:40.997861Z"
    },
    "papermill": {
     "duration": 3.123775,
     "end_time": "2025-07-28T11:09:41.000814",
     "exception": false,
     "start_time": "2025-07-28T11:09:37.877039",
     "status": "completed"
    },
    "tags": []
   },
   "outputs": [],
   "source": [
    "example_universe = universe.copy()\n",
    "example_universe[\"cutoff\"] = example_universe[\"cutoff\"][0]\n",
    "example_universe[\"eval_fairness_grouping\"] = example_universe[\"eval_fairness_grouping\"][0]\n",
    "fairness_dict, metric_frame = universe_analysis.compute_metrics(\n",
    "    example_universe,\n",
    "    y_pred_prob=probs_test,\n",
    "    y_test=y_true,\n",
    "    org_test=org_test,\n",
    ")"
   ]
  },
  {
   "cell_type": "markdown",
   "id": "f95d4e02",
   "metadata": {
    "papermill": {
     "duration": 0.026079,
     "end_time": "2025-07-28T11:09:41.054505",
     "exception": false,
     "start_time": "2025-07-28T11:09:41.028426",
     "status": "completed"
    },
    "tags": []
   },
   "source": [
    "# Overall"
   ]
  },
  {
   "cell_type": "markdown",
   "id": "bdee4871",
   "metadata": {
    "papermill": {
     "duration": 0.026189,
     "end_time": "2025-07-28T11:09:41.108010",
     "exception": false,
     "start_time": "2025-07-28T11:09:41.081821",
     "status": "completed"
    },
    "tags": []
   },
   "source": [
    "Fairness\n",
    "Main fairness target: Equalized Odds. Seems to be a better fit than equal opportunity, since we're not only interested in Y = 1. Seems to be a better fit than demographic parity, since we also care about accuracy, not just equal distribution of preds.\n",
    "\n",
    "Pick column for computation of fairness metrics\n",
    "\n",
    "Performance\n",
    "Overall performance measures, most interesting in relation to the measures split by group below"
   ]
  },
  {
   "cell_type": "code",
   "execution_count": 67,
   "id": "c4e067c6",
   "metadata": {
    "execution": {
     "iopub.execute_input": "2025-07-28T11:09:41.165178Z",
     "iopub.status.busy": "2025-07-28T11:09:41.164646Z",
     "iopub.status.idle": "2025-07-28T11:09:41.174060Z",
     "shell.execute_reply": "2025-07-28T11:09:41.173059Z"
    },
    "papermill": {
     "duration": 0.03943,
     "end_time": "2025-07-28T11:09:41.175881",
     "exception": false,
     "start_time": "2025-07-28T11:09:41.136451",
     "status": "completed"
    },
    "tags": []
   },
   "outputs": [
    {
     "data": {
      "text/plain": [
       "accuracy                   0.225070\n",
       "balanced accuracy          0.550181\n",
       "f1                         0.246382\n",
       "precision                  0.140750\n",
       "false positive rate        0.887126\n",
       "false negative rate        0.012513\n",
       "selection rate             0.900000\n",
       "count                  89710.000000\n",
       "dtype: float64"
      ]
     },
     "execution_count": 67,
     "metadata": {},
     "output_type": "execute_result"
    }
   ],
   "source": [
    "metric_frame.overall"
   ]
  },
  {
   "cell_type": "markdown",
   "id": "e968fe9d",
   "metadata": {
    "papermill": {
     "duration": 0.028196,
     "end_time": "2025-07-28T11:09:41.231698",
     "exception": false,
     "start_time": "2025-07-28T11:09:41.203502",
     "status": "completed"
    },
    "tags": []
   },
   "source": [
    "By Group"
   ]
  },
  {
   "cell_type": "code",
   "execution_count": 68,
   "id": "ec325bce",
   "metadata": {
    "execution": {
     "iopub.execute_input": "2025-07-28T11:09:41.292512Z",
     "iopub.status.busy": "2025-07-28T11:09:41.291439Z",
     "iopub.status.idle": "2025-07-28T11:09:41.308904Z",
     "shell.execute_reply": "2025-07-28T11:09:41.307790Z"
    },
    "papermill": {
     "duration": 0.052232,
     "end_time": "2025-07-28T11:09:41.310779",
     "exception": false,
     "start_time": "2025-07-28T11:09:41.258547",
     "status": "completed"
    },
    "tags": []
   },
   "outputs": [
    {
     "data": {
      "text/html": [
       "<div>\n",
       "<style scoped>\n",
       "    .dataframe tbody tr th:only-of-type {\n",
       "        vertical-align: middle;\n",
       "    }\n",
       "\n",
       "    .dataframe tbody tr th {\n",
       "        vertical-align: top;\n",
       "    }\n",
       "\n",
       "    .dataframe thead th {\n",
       "        text-align: right;\n",
       "    }\n",
       "</style>\n",
       "<table border=\"1\" class=\"dataframe\">\n",
       "  <thead>\n",
       "    <tr style=\"text-align: right;\">\n",
       "      <th></th>\n",
       "      <th>accuracy</th>\n",
       "      <th>balanced accuracy</th>\n",
       "      <th>f1</th>\n",
       "      <th>precision</th>\n",
       "      <th>false positive rate</th>\n",
       "      <th>false negative rate</th>\n",
       "      <th>selection rate</th>\n",
       "      <th>count</th>\n",
       "    </tr>\n",
       "    <tr>\n",
       "      <th>majmin</th>\n",
       "      <th></th>\n",
       "      <th></th>\n",
       "      <th></th>\n",
       "      <th></th>\n",
       "      <th></th>\n",
       "      <th></th>\n",
       "      <th></th>\n",
       "      <th></th>\n",
       "    </tr>\n",
       "  </thead>\n",
       "  <tbody>\n",
       "    <tr>\n",
       "      <th>majority</th>\n",
       "      <td>0.245540</td>\n",
       "      <td>0.559444</td>\n",
       "      <td>0.256737</td>\n",
       "      <td>0.14758</td>\n",
       "      <td>0.867216</td>\n",
       "      <td>0.013895</td>\n",
       "      <td>0.882926</td>\n",
       "      <td>69170.0</td>\n",
       "    </tr>\n",
       "    <tr>\n",
       "      <th>minority</th>\n",
       "      <td>0.156134</td>\n",
       "      <td>0.519963</td>\n",
       "      <td>0.213388</td>\n",
       "      <td>0.11954</td>\n",
       "      <td>0.952895</td>\n",
       "      <td>0.007179</td>\n",
       "      <td>0.957498</td>\n",
       "      <td>20540.0</td>\n",
       "    </tr>\n",
       "  </tbody>\n",
       "</table>\n",
       "</div>"
      ],
      "text/plain": [
       "          accuracy  balanced accuracy        f1  precision  \\\n",
       "majmin                                                       \n",
       "majority  0.245540           0.559444  0.256737    0.14758   \n",
       "minority  0.156134           0.519963  0.213388    0.11954   \n",
       "\n",
       "          false positive rate  false negative rate  selection rate    count  \n",
       "majmin                                                                       \n",
       "majority             0.867216             0.013895        0.882926  69170.0  \n",
       "minority             0.952895             0.007179        0.957498  20540.0  "
      ]
     },
     "execution_count": 68,
     "metadata": {},
     "output_type": "execute_result"
    }
   ],
   "source": [
    "metric_frame.by_group"
   ]
  },
  {
   "cell_type": "code",
   "execution_count": 69,
   "id": "a9ddbe63",
   "metadata": {
    "execution": {
     "iopub.execute_input": "2025-07-28T11:09:41.371196Z",
     "iopub.status.busy": "2025-07-28T11:09:41.370505Z",
     "iopub.status.idle": "2025-07-28T11:09:44.089516Z",
     "shell.execute_reply": "2025-07-28T11:09:44.088456Z"
    },
    "papermill": {
     "duration": 2.750724,
     "end_time": "2025-07-28T11:09:44.091343",
     "exception": false,
     "start_time": "2025-07-28T11:09:41.340619",
     "status": "completed"
    },
    "tags": []
   },
   "outputs": [
    {
     "data": {
      "text/plain": [
       "array([[<Axes: title={'center': 'accuracy'}, xlabel='majmin'>,\n",
       "        <Axes: title={'center': 'balanced accuracy'}, xlabel='majmin'>,\n",
       "        <Axes: title={'center': 'f1'}, xlabel='majmin'>],\n",
       "       [<Axes: title={'center': 'precision'}, xlabel='majmin'>,\n",
       "        <Axes: title={'center': 'false positive rate'}, xlabel='majmin'>,\n",
       "        <Axes: title={'center': 'false negative rate'}, xlabel='majmin'>],\n",
       "       [<Axes: title={'center': 'selection rate'}, xlabel='majmin'>,\n",
       "        <Axes: title={'center': 'count'}, xlabel='majmin'>,\n",
       "        <Axes: xlabel='majmin'>]], dtype=object)"
      ]
     },
     "execution_count": 69,
     "metadata": {},
     "output_type": "execute_result"
    },
    {
     "data": {
      "image/png": "[encoded data removed]",
      "text/plain": [
       "<Figure size 1200x800 with 9 Axes>"
      ]
     },
     "metadata": {},
     "output_type": "display_data"
    }
   ],
   "source": [
    "# In a graphic\n",
    "metric_frame.by_group.plot.bar(\n",
    "    subplots=True,\n",
    "    layout=[3, 3],\n",
    "    legend=False,\n",
    "    figsize=[12, 8],\n",
    "    title=\"Show all metrics\",\n",
    ")"
   ]
  },
  {
   "cell_type": "markdown",
   "id": "f57a0bac",
   "metadata": {
    "papermill": {
     "duration": 0.030395,
     "end_time": "2025-07-28T11:09:44.153686",
     "exception": false,
     "start_time": "2025-07-28T11:09:44.123291",
     "status": "completed"
    },
    "tags": []
   },
   "source": [
    "# Final Output"
   ]
  },
  {
   "cell_type": "code",
   "execution_count": 70,
   "id": "96d280a3",
   "metadata": {
    "execution": {
     "iopub.execute_input": "2025-07-28T11:09:44.216298Z",
     "iopub.status.busy": "2025-07-28T11:09:44.215607Z",
     "iopub.status.idle": "2025-07-28T11:09:44.224685Z",
     "shell.execute_reply": "2025-07-28T11:09:44.223652Z"
    },
    "papermill": {
     "duration": 0.043024,
     "end_time": "2025-07-28T11:09:44.226325",
     "exception": false,
     "start_time": "2025-07-28T11:09:44.183301",
     "status": "completed"
    },
    "tags": []
   },
   "outputs": [
    {
     "data": {
      "text/plain": [
       "4"
      ]
     },
     "execution_count": 70,
     "metadata": {},
     "output_type": "execute_result"
    }
   ],
   "source": [
    "sub_universes = universe_analysis.generate_sub_universes()\n",
    "len(sub_universes)"
   ]
  },
  {
   "cell_type": "code",
   "execution_count": 71,
   "id": "92adf7ba",
   "metadata": {
    "execution": {
     "iopub.execute_input": "2025-07-28T11:09:44.285990Z",
     "iopub.status.busy": "2025-07-28T11:09:44.285306Z",
     "iopub.status.idle": "2025-07-28T11:09:44.291639Z",
     "shell.execute_reply": "2025-07-28T11:09:44.290641Z"
    },
    "papermill": {
     "duration": 0.03749,
     "end_time": "2025-07-28T11:09:44.293344",
     "exception": false,
     "start_time": "2025-07-28T11:09:44.255854",
     "status": "completed"
    },
    "tags": []
   },
   "outputs": [],
   "source": [
    "def filter_sub_universe_data(sub_universe, org_test):\n",
    "    # Keep all rows — no filtering\n",
    "    keep_rows_mask = np.ones(org_test.shape[0], dtype=bool)\n",
    "\n",
    "    print(f\"[INFO] Keeping all rows: {keep_rows_mask.sum()} rows retained.\")\n",
    "    return keep_rows_mask"
   ]
  },
  {
   "cell_type": "code",
   "execution_count": 72,
   "id": "4a759155",
   "metadata": {
    "execution": {
     "iopub.execute_input": "2025-07-28T11:09:44.354231Z",
     "iopub.status.busy": "2025-07-28T11:09:44.353550Z",
     "iopub.status.idle": "2025-07-28T11:09:54.205394Z",
     "shell.execute_reply": "2025-07-28T11:09:54.204530Z"
    },
    "papermill": {
     "duration": 9.88394,
     "end_time": "2025-07-28T11:09:54.206817",
     "exception": false,
     "start_time": "2025-07-28T11:09:44.322877",
     "status": "completed"
    },
    "tags": []
   },
   "outputs": [
    {
     "name": "stdout",
     "output_type": "stream",
     "text": [
      "Stopping execution_time clock.\n",
      "[INFO] Keeping all rows: 89710 rows retained.\n"
     ]
    },
    {
     "name": "stdout",
     "output_type": "stream",
     "text": [
      "[INFO] Keeping all rows: 89710 rows retained.\n"
     ]
    },
    {
     "name": "stdout",
     "output_type": "stream",
     "text": [
      "[INFO] Keeping all rows: 89710 rows retained.\n"
     ]
    },
    {
     "name": "stdout",
     "output_type": "stream",
     "text": [
      "[INFO] Keeping all rows: 89710 rows retained.\n"
     ]
    },
    {
     "data": {
      "text/html": [
       "<div>\n",
       "<style scoped>\n",
       "    .dataframe tbody tr th:only-of-type {\n",
       "        vertical-align: middle;\n",
       "    }\n",
       "\n",
       "    .dataframe tbody tr th {\n",
       "        vertical-align: top;\n",
       "    }\n",
       "\n",
       "    .dataframe thead th {\n",
       "        text-align: right;\n",
       "    }\n",
       "</style>\n",
       "<table border=\"1\" class=\"dataframe\">\n",
       "  <thead>\n",
       "    <tr style=\"text-align: right;\">\n",
       "      <th></th>\n",
       "      <th>run_no</th>\n",
       "      <th>universe_id</th>\n",
       "      <th>universe_settings</th>\n",
       "      <th>execution_time</th>\n",
       "      <th>test_size_n</th>\n",
       "      <th>test_size_frac</th>\n",
       "      <th>fair_main_equalized_odds_difference</th>\n",
       "      <th>fair_main_equalized_odds_ratio</th>\n",
       "      <th>fair_main_demographic_parity_difference</th>\n",
       "      <th>fair_main_demographic_parity_ratio</th>\n",
       "      <th>...</th>\n",
       "      <th>perf_grp_precision_0</th>\n",
       "      <th>perf_grp_precision_1</th>\n",
       "      <th>perf_grp_false positive rate_0</th>\n",
       "      <th>perf_grp_false positive rate_1</th>\n",
       "      <th>perf_grp_false negative rate_0</th>\n",
       "      <th>perf_grp_false negative rate_1</th>\n",
       "      <th>perf_grp_selection rate_0</th>\n",
       "      <th>perf_grp_selection rate_1</th>\n",
       "      <th>perf_grp_count_0</th>\n",
       "      <th>perf_grp_count_1</th>\n",
       "    </tr>\n",
       "  </thead>\n",
       "  <tbody>\n",
       "    <tr>\n",
       "      <th>0</th>\n",
       "      <td>11</td>\n",
       "      <td>92c425b8321d01cdd2a6b69942b019f8</td>\n",
       "      <td>{\"cutoff\": \"quantile_0.1\", \"eval_fairness_grou...</td>\n",
       "      <td>158.856395</td>\n",
       "      <td>89710</td>\n",
       "      <td>1.0</td>\n",
       "      <td>0.085678</td>\n",
       "      <td>0.910086</td>\n",
       "      <td>0.074571</td>\n",
       "      <td>0.922118</td>\n",
       "      <td>...</td>\n",
       "      <td>NaN</td>\n",
       "      <td>NaN</td>\n",
       "      <td>NaN</td>\n",
       "      <td>NaN</td>\n",
       "      <td>NaN</td>\n",
       "      <td>NaN</td>\n",
       "      <td>NaN</td>\n",
       "      <td>NaN</td>\n",
       "      <td>NaN</td>\n",
       "      <td>NaN</td>\n",
       "    </tr>\n",
       "    <tr>\n",
       "      <th>0</th>\n",
       "      <td>11</td>\n",
       "      <td>92c425b8321d01cdd2a6b69942b019f8</td>\n",
       "      <td>{\"cutoff\": \"quantile_0.1\", \"eval_fairness_grou...</td>\n",
       "      <td>158.856395</td>\n",
       "      <td>89710</td>\n",
       "      <td>1.0</td>\n",
       "      <td>0.085678</td>\n",
       "      <td>0.910086</td>\n",
       "      <td>0.074571</td>\n",
       "      <td>0.922118</td>\n",
       "      <td>...</td>\n",
       "      <td>0.119540</td>\n",
       "      <td>0.147580</td>\n",
       "      <td>0.952895</td>\n",
       "      <td>0.867216</td>\n",
       "      <td>0.007179</td>\n",
       "      <td>0.013895</td>\n",
       "      <td>0.957498</td>\n",
       "      <td>0.882926</td>\n",
       "      <td>20540.0</td>\n",
       "      <td>69170.0</td>\n",
       "    </tr>\n",
       "    <tr>\n",
       "      <th>0</th>\n",
       "      <td>11</td>\n",
       "      <td>92c425b8321d01cdd2a6b69942b019f8</td>\n",
       "      <td>{\"cutoff\": \"quantile_0.25\", \"eval_fairness_gro...</td>\n",
       "      <td>158.856395</td>\n",
       "      <td>89710</td>\n",
       "      <td>1.0</td>\n",
       "      <td>0.082229</td>\n",
       "      <td>0.895073</td>\n",
       "      <td>0.066307</td>\n",
       "      <td>0.917232</td>\n",
       "      <td>...</td>\n",
       "      <td>NaN</td>\n",
       "      <td>NaN</td>\n",
       "      <td>NaN</td>\n",
       "      <td>NaN</td>\n",
       "      <td>NaN</td>\n",
       "      <td>NaN</td>\n",
       "      <td>NaN</td>\n",
       "      <td>NaN</td>\n",
       "      <td>NaN</td>\n",
       "      <td>NaN</td>\n",
       "    </tr>\n",
       "    <tr>\n",
       "      <th>0</th>\n",
       "      <td>11</td>\n",
       "      <td>92c425b8321d01cdd2a6b69942b019f8</td>\n",
       "      <td>{\"cutoff\": \"quantile_0.25\", \"eval_fairness_gro...</td>\n",
       "      <td>158.856395</td>\n",
       "      <td>89710</td>\n",
       "      <td>1.0</td>\n",
       "      <td>0.082229</td>\n",
       "      <td>0.895073</td>\n",
       "      <td>0.066307</td>\n",
       "      <td>0.917232</td>\n",
       "      <td>...</td>\n",
       "      <td>0.134549</td>\n",
       "      <td>0.171543</td>\n",
       "      <td>0.783678</td>\n",
       "      <td>0.701449</td>\n",
       "      <td>0.065034</td>\n",
       "      <td>0.046061</td>\n",
       "      <td>0.801120</td>\n",
       "      <td>0.734813</td>\n",
       "      <td>20540.0</td>\n",
       "      <td>69170.0</td>\n",
       "    </tr>\n",
       "  </tbody>\n",
       "</table>\n",
       "<p>4 rows × 50 columns</p>\n",
       "</div>"
      ],
      "text/plain": [
       "  run_no                       universe_id  \\\n",
       "0     11  92c425b8321d01cdd2a6b69942b019f8   \n",
       "0     11  92c425b8321d01cdd2a6b69942b019f8   \n",
       "0     11  92c425b8321d01cdd2a6b69942b019f8   \n",
       "0     11  92c425b8321d01cdd2a6b69942b019f8   \n",
       "\n",
       "                                   universe_settings  execution_time  \\\n",
       "0  {\"cutoff\": \"quantile_0.1\", \"eval_fairness_grou...      158.856395   \n",
       "0  {\"cutoff\": \"quantile_0.1\", \"eval_fairness_grou...      158.856395   \n",
       "0  {\"cutoff\": \"quantile_0.25\", \"eval_fairness_gro...      158.856395   \n",
       "0  {\"cutoff\": \"quantile_0.25\", \"eval_fairness_gro...      158.856395   \n",
       "\n",
       "   test_size_n  test_size_frac  fair_main_equalized_odds_difference  \\\n",
       "0        89710             1.0                             0.085678   \n",
       "0        89710             1.0                             0.085678   \n",
       "0        89710             1.0                             0.082229   \n",
       "0        89710             1.0                             0.082229   \n",
       "\n",
       "   fair_main_equalized_odds_ratio  fair_main_demographic_parity_difference  \\\n",
       "0                        0.910086                                 0.074571   \n",
       "0                        0.910086                                 0.074571   \n",
       "0                        0.895073                                 0.066307   \n",
       "0                        0.895073                                 0.066307   \n",
       "\n",
       "   fair_main_demographic_parity_ratio  ...  perf_grp_precision_0  \\\n",
       "0                            0.922118  ...                   NaN   \n",
       "0                            0.922118  ...              0.119540   \n",
       "0                            0.917232  ...                   NaN   \n",
       "0                            0.917232  ...              0.134549   \n",
       "\n",
       "   perf_grp_precision_1  perf_grp_false positive rate_0  \\\n",
       "0                   NaN                             NaN   \n",
       "0              0.147580                        0.952895   \n",
       "0                   NaN                             NaN   \n",
       "0              0.171543                        0.783678   \n",
       "\n",
       "   perf_grp_false positive rate_1  perf_grp_false negative rate_0  \\\n",
       "0                             NaN                             NaN   \n",
       "0                        0.867216                        0.007179   \n",
       "0                             NaN                             NaN   \n",
       "0                        0.701449                        0.065034   \n",
       "\n",
       "   perf_grp_false negative rate_1  perf_grp_selection rate_0  \\\n",
       "0                             NaN                        NaN   \n",
       "0                        0.013895                   0.957498   \n",
       "0                             NaN                        NaN   \n",
       "0                        0.046061                   0.801120   \n",
       "\n",
       "   perf_grp_selection rate_1  perf_grp_count_0  perf_grp_count_1  \n",
       "0                        NaN               NaN               NaN  \n",
       "0                   0.882926           20540.0           69170.0  \n",
       "0                        NaN               NaN               NaN  \n",
       "0                   0.734813           20540.0           69170.0  \n",
       "\n",
       "[4 rows x 50 columns]"
      ]
     },
     "execution_count": 72,
     "metadata": {},
     "output_type": "execute_result"
    }
   ],
   "source": [
    "final_output = universe_analysis.generate_final_output(\n",
    "    y_pred_prob=probs_test,\n",
    "    y_test=y_true,\n",
    "    org_test=org_test,\n",
    "    filter_data=filter_sub_universe_data,\n",
    "    cp_metrics_df=cp_metrics_df,\n",
    "    save=True,\n",
    ")\n",
    "final_output"
   ]
  },
  {
   "cell_type": "code",
   "execution_count": null,
   "id": "721ff514-cb11-46f8-b6fc-50392f74b5cb",
   "metadata": {
    "papermill": {
     "duration": 0.014817,
     "end_time": "2025-07-28T11:09:54.239814",
     "exception": false,
     "start_time": "2025-07-28T11:09:54.224997",
     "status": "completed"
    },
    "tags": []
   },
   "outputs": [],
   "source": []
  }
 ],
 "metadata": {
  "celltoolbar": "Tags",
  "kernelspec": {
   "display_name": "Python (CMA Fairness)",
   "language": "python",
   "name": "cma_fair_env"
  },
  "language_info": {
   "codemirror_mode": {
    "name": "ipython",
    "version": 3
   },
   "file_extension": ".py",
   "mimetype": "text/x-python",
   "name": "python",
   "nbconvert_exporter": "python",
   "pygments_lexer": "ipython3",
   "version": "3.10.12"
  },
  "papermill": {
   "default_parameters": {},
   "duration": 177.024328,
   "end_time": "2025-07-28T11:09:55.182908",
   "environment_variables": {},
   "exception": null,
   "input_path": "universe_analysis.ipynb",
   "output_path": "output/runs/11/notebooks/m_11-92c425b8321d01cdd2a6b69942b019f8.ipynb",
   "parameters": {
    "output_dir": "output",
    "run_no": "11",
    "seed": "2023",
    "universe": "{\"cutoff\": [\"quantile_0.1\", \"quantile_0.25\"], \"eval_fairness_grouping\": [\"majority-minority\", \"nationality-all\"], \"exclude_features\": \"none\", \"exclude_subgroups\": \"keep-all\", \"model\": \"gbm\", \"scale\": \"do-not-scale\", \"training_size\": \"2014\"}",
    "universe_id": "92c425b8321d01cdd2a6b69942b019f8"
   },
   "start_time": "2025-07-28T11:06:58.158580",
   "version": "2.6.0"
  }
 },
 "nbformat": 4,
 "nbformat_minor": 5
}