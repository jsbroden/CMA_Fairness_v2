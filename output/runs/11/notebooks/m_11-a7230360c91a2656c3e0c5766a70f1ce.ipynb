{
 "cells": [
  {
   "cell_type": "code",
   "execution_count": 1,
   "id": "f159f837-637b-42ba-96b5-ec9a68c44524",
   "metadata": {
    "execution": {
     "iopub.execute_input": "2025-07-28T10:44:43.598264Z",
     "iopub.status.busy": "2025-07-28T10:44:43.597492Z",
     "iopub.status.idle": "2025-07-28T10:44:43.612618Z",
     "shell.execute_reply": "2025-07-28T10:44:43.611541Z"
    },
    "papermill": {
     "duration": 0.040414,
     "end_time": "2025-07-28T10:44:43.614490",
     "exception": false,
     "start_time": "2025-07-28T10:44:43.574076",
     "status": "completed"
    },
    "tags": []
   },
   "outputs": [
    {
     "name": "stdout",
     "output_type": "stream",
     "text": [
      "/dss/dsshome1/0C/ra93lal2/cma/CMA_Fairness_v2\n"
     ]
    },
    {
     "name": "stderr",
     "output_type": "stream",
     "text": [
      "/dss/dsshome1/0C/ra93lal2/.local/share/virtualenvs/CMA_Fairness_v2-3j10GkSs/lib/python3.10/site-packages/IPython/core/magics/osm.py:393: UserWarning: This is now an optional IPython functionality, using bookmarks requires you to install the `pickleshare` library.\n",
      "  bkms = self.shell.db.get('bookmarks', {})\n",
      "/dss/dsshome1/0C/ra93lal2/.local/share/virtualenvs/CMA_Fairness_v2-3j10GkSs/lib/python3.10/site-packages/IPython/core/magics/osm.py:417: UserWarning: This is now an optional IPython functionality, setting dhist requires you to install the `pickleshare` library.\n",
      "  self.shell.db['dhist'] = compress_dhist(dhist)[-100:]\n"
     ]
    }
   ],
   "source": [
    "%cd ~/cma/CMA_Fairness_v2"
   ]
  },
  {
   "cell_type": "markdown",
   "id": "de2603b9",
   "metadata": {
    "papermill": {
     "duration": 0.023287,
     "end_time": "2025-07-28T10:44:43.660641",
     "exception": false,
     "start_time": "2025-07-28T10:44:43.637354",
     "status": "completed"
    },
    "tags": []
   },
   "source": [
    "The following cell holds the definition of our parameters, these values can be overriden by rendering the with e.g. the following command:\n",
    "\n",
    "papermill -p alpha 0.2 -p ratio 0.3 universe_analysis.ipynb output/test_run.ipynb"
   ]
  },
  {
   "cell_type": "code",
   "execution_count": 2,
   "id": "a80968a0-40bb-4fa9-85ef-2d5eefb01975",
   "metadata": {
    "execution": {
     "iopub.execute_input": "2025-07-28T10:44:43.708713Z",
     "iopub.status.busy": "2025-07-28T10:44:43.707682Z",
     "iopub.status.idle": "2025-07-28T10:44:43.714267Z",
     "shell.execute_reply": "2025-07-28T10:44:43.713154Z"
    },
    "papermill": {
     "duration": 0.03218,
     "end_time": "2025-07-28T10:44:43.715942",
     "exception": false,
     "start_time": "2025-07-28T10:44:43.683762",
     "status": "completed"
    },
    "tags": []
   },
   "outputs": [
    {
     "name": "stdout",
     "output_type": "stream",
     "text": [
      "Current working directory: /dss/dsshome1/0C/ra93lal2/cma/CMA_Fairness_v2\n"
     ]
    }
   ],
   "source": [
    "import os\n",
    "print(\"Current working directory:\", os.getcwd())"
   ]
  },
  {
   "cell_type": "code",
   "execution_count": 3,
   "id": "2dce4c03",
   "metadata": {
    "execution": {
     "iopub.execute_input": "2025-07-28T10:44:43.756714Z",
     "iopub.status.busy": "2025-07-28T10:44:43.756019Z",
     "iopub.status.idle": "2025-07-28T10:44:43.763015Z",
     "shell.execute_reply": "2025-07-28T10:44:43.761898Z"
    },
    "papermill": {
     "duration": 0.029015,
     "end_time": "2025-07-28T10:44:43.764781",
     "exception": false,
     "start_time": "2025-07-28T10:44:43.735766",
     "status": "completed"
    },
    "tags": [
     "parameters"
    ]
   },
   "outputs": [],
   "source": [
    "run_no = 0\n",
    "universe_id = \"test\"\n",
    "universe = {\n",
    "    \"training_size\": \"2014\", # \"25k\", \"5k\", \"1k\", \"2014\"\n",
    "    \"scale\": \"scale\", # \"scale\", \"do-not-scale\",\n",
    "    #\"stratify_split\": \"target\", # \"none\", \"target\", \"protected-attribute\", \"both\",\n",
    "    \"model\": \"elasticnet\", # \"logreg\", \"penalized_logreg\", \"rf\", \"gbm\", \"elasticnet\"\n",
    "    \"cutoff\": [\"quantile_0.15\", \"quantile_0.30\"],\n",
    "    \"exclude_features\": \"age\", # \"none\", \"nationality\", \"sex\", \"nationality-sex\", \"age\"\n",
    "    \"exclude_subgroups\": \"keep-all\", # \"keep-all\", \"drop-non-german\"\n",
    "    \"eval_fairness_grouping\": [\"majority-minority\", \"nationality-all\"]\n",
    "}\n",
    "\n",
    "output_dir=\"./output\"\n",
    "seed=0"
   ]
  },
  {
   "cell_type": "code",
   "execution_count": 4,
   "id": "d24bb759",
   "metadata": {
    "execution": {
     "iopub.execute_input": "2025-07-28T10:44:43.805700Z",
     "iopub.status.busy": "2025-07-28T10:44:43.804687Z",
     "iopub.status.idle": "2025-07-28T10:44:43.810814Z",
     "shell.execute_reply": "2025-07-28T10:44:43.809865Z"
    },
    "papermill": {
     "duration": 0.028972,
     "end_time": "2025-07-28T10:44:43.812688",
     "exception": false,
     "start_time": "2025-07-28T10:44:43.783716",
     "status": "completed"
    },
    "tags": [
     "injected-parameters"
    ]
   },
   "outputs": [],
   "source": [
    "# Parameters\n",
    "universe_id = \"a7230360c91a2656c3e0c5766a70f1ce\"\n",
    "run_no = \"11\"\n",
    "universe = \"{\\\"cutoff\\\": [\\\"quantile_0.1\\\", \\\"quantile_0.25\\\"], \\\"eval_fairness_grouping\\\": [\\\"majority-minority\\\", \\\"nationality-all\\\"], \\\"exclude_features\\\": \\\"nationality-sex\\\", \\\"exclude_subgroups\\\": \\\"drop-non-german\\\", \\\"model\\\": \\\"rf\\\", \\\"scale\\\": \\\"scale\\\", \\\"training_size\\\": \\\"1k\\\"}\"\n",
    "output_dir = \"output\"\n",
    "seed = \"2023\"\n"
   ]
  },
  {
   "cell_type": "code",
   "execution_count": 5,
   "id": "1650acaf",
   "metadata": {
    "execution": {
     "iopub.execute_input": "2025-07-28T10:44:43.852424Z",
     "iopub.status.busy": "2025-07-28T10:44:43.851675Z",
     "iopub.status.idle": "2025-07-28T10:44:43.857377Z",
     "shell.execute_reply": "2025-07-28T10:44:43.856179Z"
    },
    "papermill": {
     "duration": 0.027295,
     "end_time": "2025-07-28T10:44:43.859168",
     "exception": false,
     "start_time": "2025-07-28T10:44:43.831873",
     "status": "completed"
    },
    "tags": []
   },
   "outputs": [],
   "source": [
    "import json\n",
    "# Parse universe into dict if it is passed as a string\n",
    "if isinstance(universe, str):\n",
    "    universe = json.loads(universe)"
   ]
  },
  {
   "cell_type": "code",
   "execution_count": 6,
   "id": "16620c48",
   "metadata": {
    "execution": {
     "iopub.execute_input": "2025-07-28T10:44:43.900144Z",
     "iopub.status.busy": "2025-07-28T10:44:43.899424Z",
     "iopub.status.idle": "2025-07-28T10:44:43.949560Z",
     "shell.execute_reply": "2025-07-28T10:44:43.948588Z"
    },
    "papermill": {
     "duration": 0.071911,
     "end_time": "2025-07-28T10:44:43.951424",
     "exception": false,
     "start_time": "2025-07-28T10:44:43.879513",
     "status": "completed"
    },
    "tags": []
   },
   "outputs": [],
   "source": [
    "# Auto-reload the custom package\n",
    "%load_ext autoreload\n",
    "%autoreload 1\n",
    "%aimport fairness_multiverse"
   ]
  },
  {
   "cell_type": "code",
   "execution_count": 7,
   "id": "01c5c9f3",
   "metadata": {
    "execution": {
     "iopub.execute_input": "2025-07-28T10:44:43.993266Z",
     "iopub.status.busy": "2025-07-28T10:44:43.992244Z",
     "iopub.status.idle": "2025-07-28T10:44:45.667578Z",
     "shell.execute_reply": "2025-07-28T10:44:45.666759Z"
    },
    "papermill": {
     "duration": 1.698755,
     "end_time": "2025-07-28T10:44:45.669421",
     "exception": false,
     "start_time": "2025-07-28T10:44:43.970666",
     "status": "completed"
    },
    "tags": []
   },
   "outputs": [],
   "source": [
    "from fairness_multiverse.universe import UniverseAnalysis\n",
    "\n",
    "universe_analysis = UniverseAnalysis(\n",
    "    run_no = run_no,\n",
    "    universe_id = universe_id,\n",
    "    universe = universe,\n",
    "    output_dir=output_dir,\n",
    ")"
   ]
  },
  {
   "cell_type": "code",
   "execution_count": 8,
   "id": "106241f5",
   "metadata": {
    "execution": {
     "iopub.execute_input": "2025-07-28T10:44:45.693044Z",
     "iopub.status.busy": "2025-07-28T10:44:45.692635Z",
     "iopub.status.idle": "2025-07-28T10:44:45.698618Z",
     "shell.execute_reply": "2025-07-28T10:44:45.697424Z"
    },
    "papermill": {
     "duration": 0.019883,
     "end_time": "2025-07-28T10:44:45.700300",
     "exception": false,
     "start_time": "2025-07-28T10:44:45.680417",
     "status": "completed"
    },
    "tags": []
   },
   "outputs": [
    {
     "name": "stdout",
     "output_type": "stream",
     "text": [
      "Using Seed: 2023\n"
     ]
    }
   ],
   "source": [
    "import numpy as np\n",
    "parsed_seed = int(seed)\n",
    "np.random.seed(parsed_seed)\n",
    "print(f\"Using Seed: {parsed_seed}\")"
   ]
  },
  {
   "cell_type": "markdown",
   "id": "e0ebdc57",
   "metadata": {
    "papermill": {
     "duration": 0.012156,
     "end_time": "2025-07-28T10:44:45.727361",
     "exception": false,
     "start_time": "2025-07-28T10:44:45.715205",
     "status": "completed"
    },
    "tags": []
   },
   "source": [
    "# Loading Data"
   ]
  },
  {
   "cell_type": "markdown",
   "id": "681925a3",
   "metadata": {
    "papermill": {
     "duration": 0.011015,
     "end_time": "2025-07-28T10:44:45.749533",
     "exception": false,
     "start_time": "2025-07-28T10:44:45.738518",
     "status": "completed"
    },
    "tags": []
   },
   "source": [
    "Load siab_train, siab_test, siab_calib and/or \n",
    "load siab_train_features, siab_train_labels"
   ]
  },
  {
   "cell_type": "code",
   "execution_count": 9,
   "id": "f0496b8a",
   "metadata": {
    "execution": {
     "iopub.execute_input": "2025-07-28T10:44:45.772592Z",
     "iopub.status.busy": "2025-07-28T10:44:45.772204Z",
     "iopub.status.idle": "2025-07-28T10:44:59.742028Z",
     "shell.execute_reply": "2025-07-28T10:44:59.740861Z"
    },
    "papermill": {
     "duration": 13.98345,
     "end_time": "2025-07-28T10:44:59.743683",
     "exception": false,
     "start_time": "2025-07-28T10:44:45.760233",
     "status": "completed"
    },
    "tags": []
   },
   "outputs": [
    {
     "name": "stdout",
     "output_type": "stream",
     "text": [
      "Loading SIAB data from cache: data/siab_cached.csv.gz\n"
     ]
    },
    {
     "name": "stdout",
     "output_type": "stream",
     "text": [
      "(643690, 164)\n"
     ]
    }
   ],
   "source": [
    "from pathlib import Path\n",
    "import pandas as pd\n",
    "\n",
    "# File paths\n",
    "raw_file = Path(\"data/raw/siab.csv\")\n",
    "cache_file = Path(\"data/siab_cached.csv.gz\")\n",
    "\n",
    "# Ensure cache directory exists\n",
    "cache_file.parent.mkdir(parents=True, exist_ok=True)\n",
    "\n",
    "# Load with simple caching\n",
    "if cache_file.exists():\n",
    "    print(f\"Loading SIAB data from cache: {cache_file}\")\n",
    "    siab = pd.read_csv(cache_file, compression='gzip')\n",
    "else:\n",
    "    print(f\"Cache not found. Reading raw SIAB data: {raw_file}\")\n",
    "    siab = pd.read_csv(raw_file)\n",
    "    siab.to_csv(cache_file, index=False, compression='gzip')\n",
    "    print(f\"Cached SIAB data to: {cache_file}\")\n",
    "\n",
    "# Now use `siab` DataFrame as needed\n",
    "print(siab.shape)"
   ]
  },
  {
   "cell_type": "code",
   "execution_count": 10,
   "id": "db0ca512-5f53-4dba-abdb-a2888bca41ba",
   "metadata": {
    "execution": {
     "iopub.execute_input": "2025-07-28T10:44:59.778583Z",
     "iopub.status.busy": "2025-07-28T10:44:59.778085Z",
     "iopub.status.idle": "2025-07-28T10:44:59.783865Z",
     "shell.execute_reply": "2025-07-28T10:44:59.782768Z"
    },
    "papermill": {
     "duration": 0.019967,
     "end_time": "2025-07-28T10:44:59.785823",
     "exception": false,
     "start_time": "2025-07-28T10:44:59.765856",
     "status": "completed"
    },
    "tags": []
   },
   "outputs": [],
   "source": [
    "#siab"
   ]
  },
  {
   "cell_type": "code",
   "execution_count": 11,
   "id": "a0edb063",
   "metadata": {
    "execution": {
     "iopub.execute_input": "2025-07-28T10:44:59.827984Z",
     "iopub.status.busy": "2025-07-28T10:44:59.827304Z",
     "iopub.status.idle": "2025-07-28T10:44:59.832882Z",
     "shell.execute_reply": "2025-07-28T10:44:59.831945Z"
    },
    "papermill": {
     "duration": 0.026595,
     "end_time": "2025-07-28T10:44:59.834486",
     "exception": false,
     "start_time": "2025-07-28T10:44:59.807891",
     "status": "completed"
    },
    "tags": []
   },
   "outputs": [],
   "source": [
    "#import pandas as pd\n",
    "#\n",
    "#X_train = pd.read_csv(\"./data/X_train.csv\")\n",
    "#y_train = pd.read_csv(\"./data/y_train.csv\")"
   ]
  },
  {
   "cell_type": "code",
   "execution_count": 12,
   "id": "63d08085",
   "metadata": {
    "execution": {
     "iopub.execute_input": "2025-07-28T10:44:59.879090Z",
     "iopub.status.busy": "2025-07-28T10:44:59.878193Z",
     "iopub.status.idle": "2025-07-28T10:44:59.883643Z",
     "shell.execute_reply": "2025-07-28T10:44:59.882602Z"
    },
    "papermill": {
     "duration": 0.029397,
     "end_time": "2025-07-28T10:44:59.885365",
     "exception": false,
     "start_time": "2025-07-28T10:44:59.855968",
     "status": "completed"
    },
    "tags": []
   },
   "outputs": [],
   "source": [
    "#X_test = pd.read_csv(\"./data/X_test.csv\")\n",
    "#y_true = pd.read_csv(\"./data/y_test.csv\")"
   ]
  },
  {
   "cell_type": "code",
   "execution_count": 13,
   "id": "98a8d0fa-1d3d-4ed8-bb2c-281470e24add",
   "metadata": {
    "execution": {
     "iopub.execute_input": "2025-07-28T10:44:59.928766Z",
     "iopub.status.busy": "2025-07-28T10:44:59.928302Z",
     "iopub.status.idle": "2025-07-28T10:44:59.933605Z",
     "shell.execute_reply": "2025-07-28T10:44:59.932607Z"
    },
    "papermill": {
     "duration": 0.02991,
     "end_time": "2025-07-28T10:44:59.935422",
     "exception": false,
     "start_time": "2025-07-28T10:44:59.905512",
     "status": "completed"
    },
    "tags": []
   },
   "outputs": [],
   "source": [
    "# Calibration data for conformal\n",
    "#X_calib = pd.read_csv(\"./data/X_calib.csv\")\n",
    "#y_calib = pd.read_csv(\"./data/y_calib.csv\")"
   ]
  },
  {
   "cell_type": "markdown",
   "id": "9901737e-04df-44f0-9100-f5ad144ed040",
   "metadata": {
    "papermill": {
     "duration": 0.019959,
     "end_time": "2025-07-28T10:44:59.976292",
     "exception": false,
     "start_time": "2025-07-28T10:44:59.956333",
     "status": "completed"
    },
    "tags": []
   },
   "source": [
    "# Splitting Data and Setting Training Data Size"
   ]
  },
  {
   "cell_type": "code",
   "execution_count": 14,
   "id": "acbc8f7d-8fc8-4e86-8c59-5dcb0f58384b",
   "metadata": {
    "execution": {
     "iopub.execute_input": "2025-07-28T10:45:00.019641Z",
     "iopub.status.busy": "2025-07-28T10:45:00.019095Z",
     "iopub.status.idle": "2025-07-28T10:45:00.029512Z",
     "shell.execute_reply": "2025-07-28T10:45:00.028427Z"
    },
    "papermill": {
     "duration": 0.034161,
     "end_time": "2025-07-28T10:45:00.031433",
     "exception": false,
     "start_time": "2025-07-28T10:44:59.997272",
     "status": "completed"
    },
    "tags": []
   },
   "outputs": [],
   "source": [
    "def sample_by_year(df, training_size, random_state=42):\n",
    "    if training_size == \"2014\":\n",
    "        return df[df[\"year\"] == 2014].reset_index(drop=True)\n",
    "    \n",
    "    size_map = {\n",
    "        \"25k\": 5000,\n",
    "        \"5k\": 1000,\n",
    "        \"1k\": 200\n",
    "    }\n",
    "\n",
    "    if training_size not in size_map:\n",
    "        return df.reset_index(drop=True)  # use all data\n",
    "\n",
    "    n_per_year = size_map[training_size]\n",
    "    grouped = df.groupby(\"year\")\n",
    "    sampled = grouped.apply(lambda x: x.sample(n=min(n_per_year, len(x)), random_state=random_state))\n",
    "    return sampled.reset_index(drop=True)"
   ]
  },
  {
   "cell_type": "code",
   "execution_count": 15,
   "id": "6d931f52-beaf-43ff-9e78-9d44a448d54e",
   "metadata": {
    "execution": {
     "iopub.execute_input": "2025-07-28T10:45:00.075000Z",
     "iopub.status.busy": "2025-07-28T10:45:00.074426Z",
     "iopub.status.idle": "2025-07-28T10:45:00.736931Z",
     "shell.execute_reply": "2025-07-28T10:45:00.735945Z"
    },
    "papermill": {
     "duration": 0.687632,
     "end_time": "2025-07-28T10:45:00.739869",
     "exception": false,
     "start_time": "2025-07-28T10:45:00.052237",
     "status": "completed"
    },
    "tags": []
   },
   "outputs": [],
   "source": [
    "siab_s = sample_by_year(siab, universe[\"training_size\"])"
   ]
  },
  {
   "cell_type": "code",
   "execution_count": 16,
   "id": "5db0a40e-a4e2-4920-be85-b12ae061d70d",
   "metadata": {
    "execution": {
     "iopub.execute_input": "2025-07-28T10:45:00.799743Z",
     "iopub.status.busy": "2025-07-28T10:45:00.799207Z",
     "iopub.status.idle": "2025-07-28T10:45:00.813770Z",
     "shell.execute_reply": "2025-07-28T10:45:00.812783Z"
    },
    "papermill": {
     "duration": 0.045362,
     "end_time": "2025-07-28T10:45:00.815187",
     "exception": false,
     "start_time": "2025-07-28T10:45:00.769825",
     "status": "completed"
    },
    "tags": []
   },
   "outputs": [
    {
     "data": {
      "text/plain": [
       "year\n",
       "2010    200\n",
       "2011    200\n",
       "2012    200\n",
       "2013    200\n",
       "2014    200\n",
       "2015    200\n",
       "2016    200\n",
       "dtype: int64"
      ]
     },
     "metadata": {},
     "output_type": "display_data"
    }
   ],
   "source": [
    "display(siab_s.groupby(\"year\").size())"
   ]
  },
  {
   "cell_type": "code",
   "execution_count": 17,
   "id": "a561edb4-d032-42cb-8256-22eac1111c64",
   "metadata": {
    "execution": {
     "iopub.execute_input": "2025-07-28T10:45:00.853606Z",
     "iopub.status.busy": "2025-07-28T10:45:00.853156Z",
     "iopub.status.idle": "2025-07-28T10:45:01.150767Z",
     "shell.execute_reply": "2025-07-28T10:45:01.148168Z"
    },
    "papermill": {
     "duration": 0.319492,
     "end_time": "2025-07-28T10:45:01.152739",
     "exception": false,
     "start_time": "2025-07-28T10:45:00.833247",
     "status": "completed"
    },
    "tags": []
   },
   "outputs": [],
   "source": [
    "siab_train = siab_s[siab_s.year < 2015]\n",
    "siab_calib = siab[siab.year == 2015]\n",
    "siab_test = siab[siab.year == 2016]"
   ]
  },
  {
   "cell_type": "code",
   "execution_count": 18,
   "id": "472de16f-c3db-4916-846b-1f0de9cf1746",
   "metadata": {
    "execution": {
     "iopub.execute_input": "2025-07-28T10:45:01.200230Z",
     "iopub.status.busy": "2025-07-28T10:45:01.199777Z",
     "iopub.status.idle": "2025-07-28T10:45:01.207721Z",
     "shell.execute_reply": "2025-07-28T10:45:01.206353Z"
    },
    "papermill": {
     "duration": 0.034111,
     "end_time": "2025-07-28T10:45:01.210673",
     "exception": false,
     "start_time": "2025-07-28T10:45:01.176562",
     "status": "completed"
    },
    "tags": []
   },
   "outputs": [],
   "source": [
    "X_train = siab_train.iloc[:,4:164]\n",
    "y_train = siab_train.iloc[:, [3]]"
   ]
  },
  {
   "cell_type": "code",
   "execution_count": 19,
   "id": "828c96af-f43a-4ed6-ba47-8ac73a47d56c",
   "metadata": {
    "execution": {
     "iopub.execute_input": "2025-07-28T10:45:01.246930Z",
     "iopub.status.busy": "2025-07-28T10:45:01.246516Z",
     "iopub.status.idle": "2025-07-28T10:45:01.294783Z",
     "shell.execute_reply": "2025-07-28T10:45:01.287016Z"
    },
    "papermill": {
     "duration": 0.071616,
     "end_time": "2025-07-28T10:45:01.296625",
     "exception": false,
     "start_time": "2025-07-28T10:45:01.225009",
     "status": "completed"
    },
    "tags": []
   },
   "outputs": [],
   "source": [
    "X_calib = siab_calib.iloc[:,4:164]\n",
    "y_calib = siab_calib.iloc[:, [3]]"
   ]
  },
  {
   "cell_type": "code",
   "execution_count": 20,
   "id": "c34be9c3-6bd6-476e-acd3-845840e303be",
   "metadata": {
    "execution": {
     "iopub.execute_input": "2025-07-28T10:45:01.372991Z",
     "iopub.status.busy": "2025-07-28T10:45:01.372578Z",
     "iopub.status.idle": "2025-07-28T10:45:01.453599Z",
     "shell.execute_reply": "2025-07-28T10:45:01.452549Z"
    },
    "papermill": {
     "duration": 0.120888,
     "end_time": "2025-07-28T10:45:01.455498",
     "exception": false,
     "start_time": "2025-07-28T10:45:01.334610",
     "status": "completed"
    },
    "tags": []
   },
   "outputs": [],
   "source": [
    "X_test = siab_test.iloc[:,4:164]\n",
    "y_true = siab_test.iloc[:, [3]]"
   ]
  },
  {
   "cell_type": "code",
   "execution_count": 21,
   "id": "e6c733c5",
   "metadata": {
    "execution": {
     "iopub.execute_input": "2025-07-28T10:45:01.502003Z",
     "iopub.status.busy": "2025-07-28T10:45:01.501279Z",
     "iopub.status.idle": "2025-07-28T10:45:01.604259Z",
     "shell.execute_reply": "2025-07-28T10:45:01.602978Z"
    },
    "papermill": {
     "duration": 0.129967,
     "end_time": "2025-07-28T10:45:01.607184",
     "exception": false,
     "start_time": "2025-07-28T10:45:01.477217",
     "status": "completed"
    },
    "tags": []
   },
   "outputs": [],
   "source": [
    "# Auxiliary data needed downstream in the pipeline\n",
    "\n",
    "org_train = X_train.copy()\n",
    "org_test = X_test.copy()\n",
    "org_calib = X_calib.copy()"
   ]
  },
  {
   "cell_type": "markdown",
   "id": "0a4a1b33",
   "metadata": {
    "papermill": {
     "duration": 0.029011,
     "end_time": "2025-07-28T10:45:01.663278",
     "exception": false,
     "start_time": "2025-07-28T10:45:01.634267",
     "status": "completed"
    },
    "tags": []
   },
   "source": [
    "# Preprocessing Data"
   ]
  },
  {
   "cell_type": "code",
   "execution_count": 22,
   "id": "ca879031",
   "metadata": {
    "execution": {
     "iopub.execute_input": "2025-07-28T10:45:01.772151Z",
     "iopub.status.busy": "2025-07-28T10:45:01.771638Z",
     "iopub.status.idle": "2025-07-28T10:45:01.778425Z",
     "shell.execute_reply": "2025-07-28T10:45:01.777401Z"
    },
    "papermill": {
     "duration": 0.05839,
     "end_time": "2025-07-28T10:45:01.793410",
     "exception": false,
     "start_time": "2025-07-28T10:45:01.735020",
     "status": "completed"
    },
    "tags": []
   },
   "outputs": [],
   "source": [
    "# EXCLUDE PROTECTED FEATURES\n",
    "# ----------------------\n",
    "# \"exclude_features\": \"none\", # \"nationality\", \"sex\", \"nationality-sex\"\n",
    "\n",
    "excluded_features = universe[\"exclude_features\"].split(\"-\") # split, e.g.: \"nationality-sex\" -> [\"nationality\", \"sex\"]\n",
    "excluded_features_dictionary = {\n",
    "    \"nationality\": [\"maxdeutsch1\", \"maxdeutsch.Missing.\"],\n",
    "    \"sex\": [\"frau1\"],\n",
    "    \"age\": [\"age\"],\n",
    "}\n"
   ]
  },
  {
   "cell_type": "code",
   "execution_count": 23,
   "id": "b745ac60",
   "metadata": {
    "execution": {
     "iopub.execute_input": "2025-07-28T10:45:01.860632Z",
     "iopub.status.busy": "2025-07-28T10:45:01.860124Z",
     "iopub.status.idle": "2025-07-28T10:45:01.866272Z",
     "shell.execute_reply": "2025-07-28T10:45:01.865234Z"
    },
    "papermill": {
     "duration": 0.038728,
     "end_time": "2025-07-28T10:45:01.870912",
     "exception": false,
     "start_time": "2025-07-28T10:45:01.832184",
     "status": "completed"
    },
    "tags": []
   },
   "outputs": [],
   "source": [
    "# Code nice names to column names\n",
    "\n",
    "excluded_features_columns = [\n",
    "    excluded_features_dictionary[f] for f in excluded_features if len(f) > 0 and f != \"none\"\n",
    "]"
   ]
  },
  {
   "cell_type": "code",
   "execution_count": 24,
   "id": "f84f73a2",
   "metadata": {
    "execution": {
     "iopub.execute_input": "2025-07-28T10:45:01.916794Z",
     "iopub.status.busy": "2025-07-28T10:45:01.916299Z",
     "iopub.status.idle": "2025-07-28T10:45:01.923579Z",
     "shell.execute_reply": "2025-07-28T10:45:01.922479Z"
    },
    "papermill": {
     "duration": 0.032092,
     "end_time": "2025-07-28T10:45:01.925505",
     "exception": false,
     "start_time": "2025-07-28T10:45:01.893413",
     "status": "completed"
    },
    "tags": []
   },
   "outputs": [],
   "source": [
    "from utils import flatten_once\n",
    "\n",
    "excluded_features_columns = flatten_once(excluded_features_columns)"
   ]
  },
  {
   "cell_type": "code",
   "execution_count": 25,
   "id": "884dea22",
   "metadata": {
    "execution": {
     "iopub.execute_input": "2025-07-28T10:45:01.973213Z",
     "iopub.status.busy": "2025-07-28T10:45:01.972700Z",
     "iopub.status.idle": "2025-07-28T10:45:01.981689Z",
     "shell.execute_reply": "2025-07-28T10:45:01.980894Z"
    },
    "papermill": {
     "duration": 0.034221,
     "end_time": "2025-07-28T10:45:01.983064",
     "exception": false,
     "start_time": "2025-07-28T10:45:01.948843",
     "status": "completed"
    },
    "tags": []
   },
   "outputs": [
    {
     "name": "stdout",
     "output_type": "stream",
     "text": [
      "Dropping features: ['maxdeutsch1', 'maxdeutsch.Missing.', 'frau1']\n"
     ]
    }
   ],
   "source": [
    "if len(excluded_features_columns) > 0:\n",
    "    print(f\"Dropping features: {excluded_features_columns}\")\n",
    "    X_train.drop(excluded_features_columns, axis=1, inplace=True)"
   ]
  },
  {
   "cell_type": "code",
   "execution_count": 26,
   "id": "95ab8b16",
   "metadata": {
    "execution": {
     "iopub.execute_input": "2025-07-28T10:45:02.021909Z",
     "iopub.status.busy": "2025-07-28T10:45:02.020878Z",
     "iopub.status.idle": "2025-07-28T10:45:02.081620Z",
     "shell.execute_reply": "2025-07-28T10:45:02.080765Z"
    },
    "papermill": {
     "duration": 0.082559,
     "end_time": "2025-07-28T10:45:02.083107",
     "exception": false,
     "start_time": "2025-07-28T10:45:02.000548",
     "status": "completed"
    },
    "tags": []
   },
   "outputs": [
    {
     "name": "stdout",
     "output_type": "stream",
     "text": [
      "Dropping features: ['maxdeutsch1', 'maxdeutsch.Missing.', 'frau1']\n"
     ]
    }
   ],
   "source": [
    "if len(excluded_features_columns) > 0:\n",
    "    print(f\"Dropping features: {excluded_features_columns}\")\n",
    "    X_test.drop(excluded_features_columns, axis=1, inplace=True)"
   ]
  },
  {
   "cell_type": "code",
   "execution_count": 27,
   "id": "1853aaf5-fb9f-46cb-a2b5-8ea4ae2237e4",
   "metadata": {
    "execution": {
     "iopub.execute_input": "2025-07-28T10:45:02.122478Z",
     "iopub.status.busy": "2025-07-28T10:45:02.121053Z",
     "iopub.status.idle": "2025-07-28T10:45:02.243068Z",
     "shell.execute_reply": "2025-07-28T10:45:02.242172Z"
    },
    "papermill": {
     "duration": 0.149194,
     "end_time": "2025-07-28T10:45:02.244663",
     "exception": false,
     "start_time": "2025-07-28T10:45:02.095469",
     "status": "completed"
    },
    "tags": []
   },
   "outputs": [
    {
     "name": "stdout",
     "output_type": "stream",
     "text": [
      "Dropping features: ['maxdeutsch1', 'maxdeutsch.Missing.', 'frau1']\n"
     ]
    }
   ],
   "source": [
    "if len(excluded_features_columns) > 0:\n",
    "    print(f\"Dropping features: {excluded_features_columns}\")\n",
    "    X_calib.drop(excluded_features_columns, axis=1, inplace=True)"
   ]
  },
  {
   "cell_type": "code",
   "execution_count": 28,
   "id": "6727d079-03e5-481e-9d38-292a90b7a0a8",
   "metadata": {
    "execution": {
     "iopub.execute_input": "2025-07-28T10:45:02.284890Z",
     "iopub.status.busy": "2025-07-28T10:45:02.284309Z",
     "iopub.status.idle": "2025-07-28T10:45:02.289559Z",
     "shell.execute_reply": "2025-07-28T10:45:02.288330Z"
    },
    "papermill": {
     "duration": 0.029038,
     "end_time": "2025-07-28T10:45:02.291269",
     "exception": false,
     "start_time": "2025-07-28T10:45:02.262231",
     "status": "completed"
    },
    "tags": []
   },
   "outputs": [],
   "source": [
    "# SPLIT & STRATIFY DATA\n",
    "# ----------------------"
   ]
  },
  {
   "cell_type": "code",
   "execution_count": 29,
   "id": "76c4dc6d",
   "metadata": {
    "execution": {
     "iopub.execute_input": "2025-07-28T10:45:02.339863Z",
     "iopub.status.busy": "2025-07-28T10:45:02.338911Z",
     "iopub.status.idle": "2025-07-28T10:45:02.345058Z",
     "shell.execute_reply": "2025-07-28T10:45:02.344019Z"
    },
    "papermill": {
     "duration": 0.032462,
     "end_time": "2025-07-28T10:45:02.346992",
     "exception": false,
     "start_time": "2025-07-28T10:45:02.314530",
     "status": "completed"
    },
    "tags": []
   },
   "outputs": [],
   "source": [
    "# EXCLUDE CERTAIN SUBGROUPS\n",
    "# ----------------------\n",
    "\n",
    "mode = universe.get(\"exclude_subgroups\", \"keep-all\") \n",
    "# Fetches the exclude_subgroups setting from the universe dict.\n",
    "# Defaults to \"keep-all\" if the key is missing."
   ]
  },
  {
   "cell_type": "code",
   "execution_count": 30,
   "id": "21994072",
   "metadata": {
    "execution": {
     "iopub.execute_input": "2025-07-28T10:45:02.384194Z",
     "iopub.status.busy": "2025-07-28T10:45:02.383836Z",
     "iopub.status.idle": "2025-07-28T10:45:02.389090Z",
     "shell.execute_reply": "2025-07-28T10:45:02.388307Z"
    },
    "papermill": {
     "duration": 0.021078,
     "end_time": "2025-07-28T10:45:02.390381",
     "exception": false,
     "start_time": "2025-07-28T10:45:02.369303",
     "status": "completed"
    },
    "tags": []
   },
   "outputs": [],
   "source": [
    "if mode == \"keep-all\":\n",
    "    keep_mask = pd.Series(True, index=org_train.index)\n",
    "\n",
    "# org_train contains the original feature columns from features_org (in Simson)\n",
    "# features_org contains unprocessed features, for me X_train at beginning ???\n",
    "# For keep-all, creates a boolean Series (keep_mask) of all True, so no rows are removed.\n",
    "\n",
    "elif mode == \"drop-non-german\":\n",
    "    keep_mask = org_train[\"maxdeutsch1\"] == 1 # ??? what about missing values?\n",
    "\n",
    "else:\n",
    "    raise ValueError(f\"Unsupported mode for exclude_subgroups: {mode}\")\n"
   ]
  },
  {
   "cell_type": "code",
   "execution_count": 31,
   "id": "71651440",
   "metadata": {
    "execution": {
     "iopub.execute_input": "2025-07-28T10:45:02.414665Z",
     "iopub.status.busy": "2025-07-28T10:45:02.413989Z",
     "iopub.status.idle": "2025-07-28T10:45:02.422430Z",
     "shell.execute_reply": "2025-07-28T10:45:02.420589Z"
    },
    "papermill": {
     "duration": 0.035402,
     "end_time": "2025-07-28T10:45:02.437591",
     "exception": false,
     "start_time": "2025-07-28T10:45:02.402189",
     "status": "completed"
    },
    "tags": []
   },
   "outputs": [
    {
     "name": "stdout",
     "output_type": "stream",
     "text": [
      "Dropping 131 rows (13.10%) where mode='drop-non-german'\n"
     ]
    }
   ],
   "source": [
    "n_drop = (~keep_mask).sum() # Calculates how many rows are set to be dropped\n",
    "if n_drop > 0:\n",
    "    pct = n_drop / len(keep_mask) * 100\n",
    "    print(f\"Dropping {n_drop} rows ({pct:.2f}%) where mode='{mode}'\")"
   ]
  },
  {
   "cell_type": "code",
   "execution_count": 32,
   "id": "5fb8eee5",
   "metadata": {
    "execution": {
     "iopub.execute_input": "2025-07-28T10:45:02.488679Z",
     "iopub.status.busy": "2025-07-28T10:45:02.487580Z",
     "iopub.status.idle": "2025-07-28T10:45:02.495833Z",
     "shell.execute_reply": "2025-07-28T10:45:02.494620Z"
    },
    "papermill": {
     "duration": 0.036034,
     "end_time": "2025-07-28T10:45:02.497873",
     "exception": false,
     "start_time": "2025-07-28T10:45:02.461839",
     "status": "completed"
    },
    "tags": []
   },
   "outputs": [],
   "source": [
    "X_train = X_train[keep_mask]"
   ]
  },
  {
   "cell_type": "code",
   "execution_count": 33,
   "id": "b202bb3a",
   "metadata": {
    "execution": {
     "iopub.execute_input": "2025-07-28T10:45:02.548355Z",
     "iopub.status.busy": "2025-07-28T10:45:02.547505Z",
     "iopub.status.idle": "2025-07-28T10:45:02.556273Z",
     "shell.execute_reply": "2025-07-28T10:45:02.554898Z"
    },
    "papermill": {
     "duration": 0.03671,
     "end_time": "2025-07-28T10:45:02.558306",
     "exception": false,
     "start_time": "2025-07-28T10:45:02.521596",
     "status": "completed"
    },
    "tags": []
   },
   "outputs": [],
   "source": [
    "y_train = y_train[keep_mask]"
   ]
  },
  {
   "cell_type": "markdown",
   "id": "493e2ac3",
   "metadata": {
    "papermill": {
     "duration": 0.024548,
     "end_time": "2025-07-28T10:45:02.607867",
     "exception": false,
     "start_time": "2025-07-28T10:45:02.583319",
     "status": "completed"
    },
    "tags": []
   },
   "source": [
    "# Model Training"
   ]
  },
  {
   "cell_type": "code",
   "execution_count": 34,
   "id": "679e1268",
   "metadata": {
    "execution": {
     "iopub.execute_input": "2025-07-28T10:45:02.698138Z",
     "iopub.status.busy": "2025-07-28T10:45:02.697679Z",
     "iopub.status.idle": "2025-07-28T10:45:02.957267Z",
     "shell.execute_reply": "2025-07-28T10:45:02.956167Z"
    },
    "papermill": {
     "duration": 0.302674,
     "end_time": "2025-07-28T10:45:02.959527",
     "exception": false,
     "start_time": "2025-07-28T10:45:02.656853",
     "status": "completed"
    },
    "tags": []
   },
   "outputs": [],
   "source": [
    "from sklearn.linear_model import LogisticRegression\n",
    "from sklearn.ensemble import GradientBoostingClassifier, RandomForestClassifier\n",
    "\n",
    "if (universe[\"model\"] == \"logreg\"):\n",
    "    model = LogisticRegression() #penalty=\"none\") #, solver=\"newton-cg\", max_iter=1) # include random_state=19 ?\n",
    "elif (universe[\"model\"] == \"penalized_logreg\"):\n",
    "    model = LogisticRegression(penalty=\"l2\", C=1.0) #, solver=\"newton-cg\", max_iter=1)\n",
    "elif (universe[\"model\"] == \"rf\"):\n",
    "    model = RandomForestClassifier(n_estimators=100, n_jobs=-1)\n",
    "elif (universe[\"model\"] == \"gbm\"):\n",
    "    model = GradientBoostingClassifier()\n",
    "elif (universe[\"model\"] == \"elasticnet\"):\n",
    "    model = LogisticRegression(penalty = 'elasticnet', solver = 'saga', l1_ratio = 0.5, max_iter=5000) # which solver to use?\n",
    "else:\n",
    "    raise \"Unsupported universe.model\""
   ]
  },
  {
   "cell_type": "code",
   "execution_count": 35,
   "id": "0cc8f744",
   "metadata": {
    "execution": {
     "iopub.execute_input": "2025-07-28T10:45:03.087620Z",
     "iopub.status.busy": "2025-07-28T10:45:03.086496Z",
     "iopub.status.idle": "2025-07-28T10:45:03.094247Z",
     "shell.execute_reply": "2025-07-28T10:45:03.093273Z"
    },
    "papermill": {
     "duration": 0.086892,
     "end_time": "2025-07-28T10:45:03.115058",
     "exception": false,
     "start_time": "2025-07-28T10:45:03.028166",
     "status": "completed"
    },
    "tags": []
   },
   "outputs": [],
   "source": [
    "import numpy as np\n",
    "from sklearn.pipeline import Pipeline\n",
    "from sklearn.preprocessing import StandardScaler\n",
    "\n",
    "model = Pipeline([\n",
    "    #(\"continuous_processor\", continuous_processor),\n",
    "    #(\"categorical_preprocessor\", categorical_preprocessor),\n",
    "    (\"scale\", StandardScaler() if universe[\"scale\"] == \"scale\" else None), \n",
    "    (\"model\", model),\n",
    "])"
   ]
  },
  {
   "cell_type": "code",
   "execution_count": 36,
   "id": "9442c04d",
   "metadata": {
    "execution": {
     "iopub.execute_input": "2025-07-28T10:45:03.181776Z",
     "iopub.status.busy": "2025-07-28T10:45:03.181318Z",
     "iopub.status.idle": "2025-07-28T10:45:03.628184Z",
     "shell.execute_reply": "2025-07-28T10:45:03.626829Z"
    },
    "papermill": {
     "duration": 0.476991,
     "end_time": "2025-07-28T10:45:03.630452",
     "exception": false,
     "start_time": "2025-07-28T10:45:03.153461",
     "status": "completed"
    },
    "tags": []
   },
   "outputs": [
    {
     "data": {
      "text/html": [
       "<style>#sk-container-id-1 {color: black;background-color: white;}#sk-container-id-1 pre{padding: 0;}#sk-container-id-1 div.sk-toggleable {background-color: white;}#sk-container-id-1 label.sk-toggleable__label {cursor: pointer;display: block;width: 100%;margin-bottom: 0;padding: 0.3em;box-sizing: border-box;text-align: center;}#sk-container-id-1 label.sk-toggleable__label-arrow:before {content: \"▸\";float: left;margin-right: 0.25em;color: #696969;}#sk-container-id-1 label.sk-toggleable__label-arrow:hover:before {color: black;}#sk-container-id-1 div.sk-estimator:hover label.sk-toggleable__label-arrow:before {color: black;}#sk-container-id-1 div.sk-toggleable__content {max-height: 0;max-width: 0;overflow: hidden;text-align: left;background-color: #f0f8ff;}#sk-container-id-1 div.sk-toggleable__content pre {margin: 0.2em;color: black;border-radius: 0.25em;background-color: #f0f8ff;}#sk-container-id-1 input.sk-toggleable__control:checked~div.sk-toggleable__content {max-height: 200px;max-width: 100%;overflow: auto;}#sk-container-id-1 input.sk-toggleable__control:checked~label.sk-toggleable__label-arrow:before {content: \"▾\";}#sk-container-id-1 div.sk-estimator input.sk-toggleable__control:checked~label.sk-toggleable__label {background-color: #d4ebff;}#sk-container-id-1 div.sk-label input.sk-toggleable__control:checked~label.sk-toggleable__label {background-color: #d4ebff;}#sk-container-id-1 input.sk-hidden--visually {border: 0;clip: rect(1px 1px 1px 1px);clip: rect(1px, 1px, 1px, 1px);height: 1px;margin: -1px;overflow: hidden;padding: 0;position: absolute;width: 1px;}#sk-container-id-1 div.sk-estimator {font-family: monospace;background-color: #f0f8ff;border: 1px dotted black;border-radius: 0.25em;box-sizing: border-box;margin-bottom: 0.5em;}#sk-container-id-1 div.sk-estimator:hover {background-color: #d4ebff;}#sk-container-id-1 div.sk-parallel-item::after {content: \"\";width: 100%;border-bottom: 1px solid gray;flex-grow: 1;}#sk-container-id-1 div.sk-label:hover label.sk-toggleable__label {background-color: #d4ebff;}#sk-container-id-1 div.sk-serial::before {content: \"\";position: absolute;border-left: 1px solid gray;box-sizing: border-box;top: 0;bottom: 0;left: 50%;z-index: 0;}#sk-container-id-1 div.sk-serial {display: flex;flex-direction: column;align-items: center;background-color: white;padding-right: 0.2em;padding-left: 0.2em;position: relative;}#sk-container-id-1 div.sk-item {position: relative;z-index: 1;}#sk-container-id-1 div.sk-parallel {display: flex;align-items: stretch;justify-content: center;background-color: white;position: relative;}#sk-container-id-1 div.sk-item::before, #sk-container-id-1 div.sk-parallel-item::before {content: \"\";position: absolute;border-left: 1px solid gray;box-sizing: border-box;top: 0;bottom: 0;left: 50%;z-index: -1;}#sk-container-id-1 div.sk-parallel-item {display: flex;flex-direction: column;z-index: 1;position: relative;background-color: white;}#sk-container-id-1 div.sk-parallel-item:first-child::after {align-self: flex-end;width: 50%;}#sk-container-id-1 div.sk-parallel-item:last-child::after {align-self: flex-start;width: 50%;}#sk-container-id-1 div.sk-parallel-item:only-child::after {width: 0;}#sk-container-id-1 div.sk-dashed-wrapped {border: 1px dashed gray;margin: 0 0.4em 0.5em 0.4em;box-sizing: border-box;padding-bottom: 0.4em;background-color: white;}#sk-container-id-1 div.sk-label label {font-family: monospace;font-weight: bold;display: inline-block;line-height: 1.2em;}#sk-container-id-1 div.sk-label-container {text-align: center;}#sk-container-id-1 div.sk-container {/* jupyter's `normalize.less` sets `[hidden] { display: none; }` but bootstrap.min.css set `[hidden] { display: none !important; }` so we also need the `!important` here to be able to override the default hidden behavior on the sphinx rendered scikit-learn.org. See: https://github.com/scikit-learn/scikit-learn/issues/21755 */display: inline-block !important;position: relative;}#sk-container-id-1 div.sk-text-repr-fallback {display: none;}</style><div id=\"sk-container-id-1\" class=\"sk-top-container\"><div class=\"sk-text-repr-fallback\"><pre>Pipeline(steps=[(&#x27;scale&#x27;, StandardScaler()),\n",
       "                (&#x27;model&#x27;, RandomForestClassifier(n_jobs=-1))])</pre><b>In a Jupyter environment, please rerun this cell to show the HTML representation or trust the notebook. <br />On GitHub, the HTML representation is unable to render, please try loading this page with nbviewer.org.</b></div><div class=\"sk-container\" hidden><div class=\"sk-item sk-dashed-wrapped\"><div class=\"sk-label-container\"><div class=\"sk-label sk-toggleable\"><input class=\"sk-toggleable__control sk-hidden--visually\" id=\"sk-estimator-id-1\" type=\"checkbox\" ><label for=\"sk-estimator-id-1\" class=\"sk-toggleable__label sk-toggleable__label-arrow\">Pipeline</label><div class=\"sk-toggleable__content\"><pre>Pipeline(steps=[(&#x27;scale&#x27;, StandardScaler()),\n",
       "                (&#x27;model&#x27;, RandomForestClassifier(n_jobs=-1))])</pre></div></div></div><div class=\"sk-serial\"><div class=\"sk-item\"><div class=\"sk-estimator sk-toggleable\"><input class=\"sk-toggleable__control sk-hidden--visually\" id=\"sk-estimator-id-2\" type=\"checkbox\" ><label for=\"sk-estimator-id-2\" class=\"sk-toggleable__label sk-toggleable__label-arrow\">StandardScaler</label><div class=\"sk-toggleable__content\"><pre>StandardScaler()</pre></div></div></div><div class=\"sk-item\"><div class=\"sk-estimator sk-toggleable\"><input class=\"sk-toggleable__control sk-hidden--visually\" id=\"sk-estimator-id-3\" type=\"checkbox\" ><label for=\"sk-estimator-id-3\" class=\"sk-toggleable__label sk-toggleable__label-arrow\">RandomForestClassifier</label><div class=\"sk-toggleable__content\"><pre>RandomForestClassifier(n_jobs=-1)</pre></div></div></div></div></div></div></div>"
      ],
      "text/plain": [
       "Pipeline(steps=[('scale', StandardScaler()),\n",
       "                ('model', RandomForestClassifier(n_jobs=-1))])"
      ]
     },
     "execution_count": 36,
     "metadata": {},
     "output_type": "execute_result"
    }
   ],
   "source": [
    "model.fit(X_train, y_train.values.ravel())"
   ]
  },
  {
   "cell_type": "code",
   "execution_count": 37,
   "id": "af59f8c0",
   "metadata": {
    "execution": {
     "iopub.execute_input": "2025-07-28T10:45:03.687437Z",
     "iopub.status.busy": "2025-07-28T10:45:03.686945Z",
     "iopub.status.idle": "2025-07-28T10:45:03.692867Z",
     "shell.execute_reply": "2025-07-28T10:45:03.691757Z"
    },
    "papermill": {
     "duration": 0.037164,
     "end_time": "2025-07-28T10:45:03.694818",
     "exception": false,
     "start_time": "2025-07-28T10:45:03.657654",
     "status": "completed"
    },
    "tags": []
   },
   "outputs": [],
   "source": [
    "from fairness_multiverse.universe import predict_w_threshold"
   ]
  },
  {
   "cell_type": "code",
   "execution_count": 38,
   "id": "a7cf2e16",
   "metadata": {
    "execution": {
     "iopub.execute_input": "2025-07-28T10:45:03.767749Z",
     "iopub.status.busy": "2025-07-28T10:45:03.767288Z",
     "iopub.status.idle": "2025-07-28T10:45:04.803966Z",
     "shell.execute_reply": "2025-07-28T10:45:04.802967Z"
    },
    "papermill": {
     "duration": 1.083834,
     "end_time": "2025-07-28T10:45:04.805682",
     "exception": false,
     "start_time": "2025-07-28T10:45:03.721848",
     "status": "completed"
    },
    "tags": []
   },
   "outputs": [
    {
     "data": {
      "text/plain": [
       "0.8577750529483893"
      ]
     },
     "execution_count": 38,
     "metadata": {},
     "output_type": "execute_result"
    }
   ],
   "source": [
    "probs_test = model.predict_proba(X_test)\n",
    "\n",
    "'''\n",
    "Below code returns a boolean array (or binary 0/1 array depending on how it’s used) where each element \n",
    "is True if the probability of class 1 is greater than or equal to the threshold, and False otherwise.\n",
    "'''\n",
    "y_pred_default = predict_w_threshold(probs_test, 0.5)\n",
    "\n",
    "from sklearn.metrics import accuracy_score\n",
    "\n",
    "# Naive prediction\n",
    "accuracy_score(y_true = y_true, y_pred = y_pred_default)"
   ]
  },
  {
   "cell_type": "code",
   "execution_count": 39,
   "id": "081964c3",
   "metadata": {
    "execution": {
     "iopub.execute_input": "2025-07-28T10:45:04.854643Z",
     "iopub.status.busy": "2025-07-28T10:45:04.853727Z",
     "iopub.status.idle": "2025-07-28T10:45:05.716787Z",
     "shell.execute_reply": "2025-07-28T10:45:05.715831Z"
    },
    "papermill": {
     "duration": 0.888701,
     "end_time": "2025-07-28T10:45:05.718385",
     "exception": false,
     "start_time": "2025-07-28T10:45:04.829684",
     "status": "completed"
    },
    "tags": []
   },
   "outputs": [
    {
     "data": {
      "text/plain": [
       "array([0, 0, 0, ..., 0, 0, 0])"
      ]
     },
     "execution_count": 39,
     "metadata": {},
     "output_type": "execute_result"
    }
   ],
   "source": [
    "model.predict(X_test)"
   ]
  },
  {
   "cell_type": "markdown",
   "id": "56c9705b",
   "metadata": {
    "papermill": {
     "duration": 0.021913,
     "end_time": "2025-07-28T10:45:05.762650",
     "exception": false,
     "start_time": "2025-07-28T10:45:05.740737",
     "status": "completed"
    },
    "tags": []
   },
   "source": [
    "# Conformal Prediction"
   ]
  },
  {
   "cell_type": "code",
   "execution_count": 40,
   "id": "160ec6ff",
   "metadata": {
    "execution": {
     "iopub.execute_input": "2025-07-28T10:45:05.811635Z",
     "iopub.status.busy": "2025-07-28T10:45:05.811058Z",
     "iopub.status.idle": "2025-07-28T10:45:05.817114Z",
     "shell.execute_reply": "2025-07-28T10:45:05.816127Z"
    },
    "papermill": {
     "duration": 0.031425,
     "end_time": "2025-07-28T10:45:05.818888",
     "exception": false,
     "start_time": "2025-07-28T10:45:05.787463",
     "status": "completed"
    },
    "tags": []
   },
   "outputs": [],
   "source": [
    "# Miscoverage level for conformal prediction (10% allowed error rate => 90% target coverage)\n",
    "alpha = 0.1"
   ]
  },
  {
   "cell_type": "code",
   "execution_count": 41,
   "id": "eadf4555-3dd3-440e-8e35-f82a4ad9f855",
   "metadata": {
    "execution": {
     "iopub.execute_input": "2025-07-28T10:45:05.865255Z",
     "iopub.status.busy": "2025-07-28T10:45:05.864528Z",
     "iopub.status.idle": "2025-07-28T10:45:06.677886Z",
     "shell.execute_reply": "2025-07-28T10:45:06.677076Z"
    },
    "papermill": {
     "duration": 0.838186,
     "end_time": "2025-07-28T10:45:06.679425",
     "exception": false,
     "start_time": "2025-07-28T10:45:05.841239",
     "status": "completed"
    },
    "tags": []
   },
   "outputs": [],
   "source": [
    "probs_calib = model.predict_proba(X_calib)"
   ]
  },
  {
   "cell_type": "code",
   "execution_count": 42,
   "id": "2ed93547-6d5d-4983-9b36-1ecb300da49a",
   "metadata": {
    "execution": {
     "iopub.execute_input": "2025-07-28T10:45:06.710373Z",
     "iopub.status.busy": "2025-07-28T10:45:06.709675Z",
     "iopub.status.idle": "2025-07-28T10:45:06.715714Z",
     "shell.execute_reply": "2025-07-28T10:45:06.714690Z"
    },
    "papermill": {
     "duration": 0.025084,
     "end_time": "2025-07-28T10:45:06.717227",
     "exception": false,
     "start_time": "2025-07-28T10:45:06.692143",
     "status": "completed"
    },
    "tags": []
   },
   "outputs": [],
   "source": [
    "y_calib = y_calib.values.ravel().astype(int)"
   ]
  },
  {
   "cell_type": "code",
   "execution_count": 43,
   "id": "65d1320d-f588-4b38-9072-62af1ae97f7d",
   "metadata": {
    "execution": {
     "iopub.execute_input": "2025-07-28T10:45:06.743975Z",
     "iopub.status.busy": "2025-07-28T10:45:06.743440Z",
     "iopub.status.idle": "2025-07-28T10:45:06.749952Z",
     "shell.execute_reply": "2025-07-28T10:45:06.749226Z"
    },
    "papermill": {
     "duration": 0.021061,
     "end_time": "2025-07-28T10:45:06.751391",
     "exception": false,
     "start_time": "2025-07-28T10:45:06.730330",
     "status": "completed"
    },
    "tags": []
   },
   "outputs": [],
   "source": [
    "from fairness_multiverse.conformal import compute_nc_scores\n",
    "\n",
    "# Compute nonconformity scores on calibration set (1 - probability of true class)\n",
    "nc_scores = compute_nc_scores(probs_calib, y_calib)"
   ]
  },
  {
   "cell_type": "code",
   "execution_count": 44,
   "id": "df3b8ca3-53b7-43d5-9667-7c85da7aeda2",
   "metadata": {
    "execution": {
     "iopub.execute_input": "2025-07-28T10:45:06.791710Z",
     "iopub.status.busy": "2025-07-28T10:45:06.790767Z",
     "iopub.status.idle": "2025-07-28T10:45:06.798334Z",
     "shell.execute_reply": "2025-07-28T10:45:06.797221Z"
    },
    "papermill": {
     "duration": 0.035166,
     "end_time": "2025-07-28T10:45:06.800357",
     "exception": false,
     "start_time": "2025-07-28T10:45:06.765191",
     "status": "completed"
    },
    "tags": []
   },
   "outputs": [],
   "source": [
    "from fairness_multiverse.conformal import find_threshold\n",
    "\n",
    "# Find conformal threshold q_hat for the given alpha (split conformal method)\n",
    "q_hat = find_threshold(nc_scores, alpha)"
   ]
  },
  {
   "cell_type": "code",
   "execution_count": 45,
   "id": "4d29e6c1-0ef6-4aa4-b8fe-4fe79b0d033a",
   "metadata": {
    "execution": {
     "iopub.execute_input": "2025-07-28T10:45:06.848961Z",
     "iopub.status.busy": "2025-07-28T10:45:06.848292Z",
     "iopub.status.idle": "2025-07-28T10:45:06.856599Z",
     "shell.execute_reply": "2025-07-28T10:45:06.855572Z"
    },
    "papermill": {
     "duration": 0.037117,
     "end_time": "2025-07-28T10:45:06.858484",
     "exception": false,
     "start_time": "2025-07-28T10:45:06.821367",
     "status": "completed"
    },
    "tags": []
   },
   "outputs": [
    {
     "data": {
      "text/plain": [
       "0.64"
      ]
     },
     "execution_count": 45,
     "metadata": {},
     "output_type": "execute_result"
    }
   ],
   "source": [
    "q_hat"
   ]
  },
  {
   "cell_type": "code",
   "execution_count": 46,
   "id": "92460794-cdac-4be2-ba28-f28c0515a6fb",
   "metadata": {
    "execution": {
     "iopub.execute_input": "2025-07-28T10:45:06.908420Z",
     "iopub.status.busy": "2025-07-28T10:45:06.907240Z",
     "iopub.status.idle": "2025-07-28T10:45:08.465768Z",
     "shell.execute_reply": "2025-07-28T10:45:08.464918Z"
    },
    "papermill": {
     "duration": 1.586863,
     "end_time": "2025-07-28T10:45:08.467249",
     "exception": false,
     "start_time": "2025-07-28T10:45:06.880386",
     "status": "completed"
    },
    "tags": []
   },
   "outputs": [],
   "source": [
    "from fairness_multiverse.conformal import predict_conformal_sets\n",
    "\n",
    "# Generate prediction sets for each test example\n",
    "pred_sets = predict_conformal_sets(model, X_test, q_hat)"
   ]
  },
  {
   "cell_type": "code",
   "execution_count": 47,
   "id": "d90c9a65-e6db-4f5d-80cd-e68fb7e46829",
   "metadata": {
    "execution": {
     "iopub.execute_input": "2025-07-28T10:45:08.496948Z",
     "iopub.status.busy": "2025-07-28T10:45:08.496383Z",
     "iopub.status.idle": "2025-07-28T10:45:08.501246Z",
     "shell.execute_reply": "2025-07-28T10:45:08.500474Z"
    },
    "papermill": {
     "duration": 0.019973,
     "end_time": "2025-07-28T10:45:08.502700",
     "exception": false,
     "start_time": "2025-07-28T10:45:08.482727",
     "status": "completed"
    },
    "tags": []
   },
   "outputs": [],
   "source": [
    "y_true = y_true.squeeze()"
   ]
  },
  {
   "cell_type": "code",
   "execution_count": 48,
   "id": "3a58a54a-1e68-46b9-927a-df01f18aebc8",
   "metadata": {
    "execution": {
     "iopub.execute_input": "2025-07-28T10:45:08.530248Z",
     "iopub.status.busy": "2025-07-28T10:45:08.529701Z",
     "iopub.status.idle": "2025-07-28T10:45:09.156457Z",
     "shell.execute_reply": "2025-07-28T10:45:09.155609Z"
    },
    "papermill": {
     "duration": 0.641693,
     "end_time": "2025-07-28T10:45:09.157977",
     "exception": false,
     "start_time": "2025-07-28T10:45:08.516284",
     "status": "completed"
    },
    "tags": []
   },
   "outputs": [],
   "source": [
    "from fairness_multiverse.conformal import evaluate_sets\n",
    "\n",
    "# Evaluate coverage and average set size on test data\n",
    "metrics = evaluate_sets(pred_sets, y_true)"
   ]
  },
  {
   "cell_type": "markdown",
   "id": "2b569c12-9aaa-4c88-98c9-bbcd0cf3ebb8",
   "metadata": {
    "papermill": {
     "duration": 0.012431,
     "end_time": "2025-07-28T10:45:09.183919",
     "exception": false,
     "start_time": "2025-07-28T10:45:09.171488",
     "status": "completed"
    },
    "tags": []
   },
   "source": [
    "# CP Metrics"
   ]
  },
  {
   "cell_type": "code",
   "execution_count": 49,
   "id": "5ce0a5cb-201f-45a0-ade5-94c7f0bd6095",
   "metadata": {
    "execution": {
     "iopub.execute_input": "2025-07-28T10:45:09.210840Z",
     "iopub.status.busy": "2025-07-28T10:45:09.210258Z",
     "iopub.status.idle": "2025-07-28T10:45:09.217216Z",
     "shell.execute_reply": "2025-07-28T10:45:09.216470Z"
    },
    "papermill": {
     "duration": 0.022258,
     "end_time": "2025-07-28T10:45:09.218593",
     "exception": false,
     "start_time": "2025-07-28T10:45:09.196335",
     "status": "completed"
    },
    "tags": []
   },
   "outputs": [
    {
     "data": {
      "text/plain": [
       "{'coverage': 0.9139003455579088, 'avg_size': 1.1498272210455913}"
      ]
     },
     "execution_count": 49,
     "metadata": {},
     "output_type": "execute_result"
    }
   ],
   "source": [
    "metrics"
   ]
  },
  {
   "cell_type": "code",
   "execution_count": 50,
   "id": "9b9a838d-31c9-430b-ae14-12baee460d17",
   "metadata": {
    "execution": {
     "iopub.execute_input": "2025-07-28T10:45:09.246681Z",
     "iopub.status.busy": "2025-07-28T10:45:09.246121Z",
     "iopub.status.idle": "2025-07-28T10:45:09.251932Z",
     "shell.execute_reply": "2025-07-28T10:45:09.251164Z"
    },
    "papermill": {
     "duration": 0.021188,
     "end_time": "2025-07-28T10:45:09.253383",
     "exception": false,
     "start_time": "2025-07-28T10:45:09.232195",
     "status": "completed"
    },
    "tags": []
   },
   "outputs": [],
   "source": [
    "example_universe = universe.copy()\n",
    "universe_training_size = example_universe.get(\"training_size\")\n",
    "universe_scale = example_universe.get(\"scale\")\n",
    "universe_model = example_universe.get(\"model\")\n",
    "universe_exclude_features = example_universe.get(\"exclude_features\")\n",
    "universe_exclude_subgroups = example_universe.get(\"exclude_subgroups\")"
   ]
  },
  {
   "cell_type": "code",
   "execution_count": 51,
   "id": "f4b6a8ac-9dc0-4245-8a91-5b3b5999c4f9",
   "metadata": {
    "execution": {
     "iopub.execute_input": "2025-07-28T10:45:09.281327Z",
     "iopub.status.busy": "2025-07-28T10:45:09.280753Z",
     "iopub.status.idle": "2025-07-28T10:45:09.286481Z",
     "shell.execute_reply": "2025-07-28T10:45:09.285697Z"
    },
    "papermill": {
     "duration": 0.020946,
     "end_time": "2025-07-28T10:45:09.287867",
     "exception": false,
     "start_time": "2025-07-28T10:45:09.266921",
     "status": "completed"
    },
    "tags": []
   },
   "outputs": [],
   "source": [
    "cp_metrics_dict = {\n",
    "    \"universe_id\": [universe_id],\n",
    "    \"universe_training_size\": [universe_training_size],\n",
    "    \"universe_scale\": [universe_scale],\n",
    "    \"universe_model\": [universe_model],\n",
    "    \"universe_exclude_features\": [universe_exclude_features],\n",
    "    \"universe_exclude_subgroups\": [universe_exclude_subgroups],\n",
    "    \"q_hat\": [q_hat],\n",
    "    \"coverage\": [metrics[\"coverage\"]],\n",
    "    \"avg_size\": [metrics[\"avg_size\"]],\n",
    "}"
   ]
  },
  {
   "cell_type": "code",
   "execution_count": 52,
   "id": "908acbb1-0371-4915-85ca-3fa520d2efe2",
   "metadata": {
    "execution": {
     "iopub.execute_input": "2025-07-28T10:45:09.315233Z",
     "iopub.status.busy": "2025-07-28T10:45:09.314881Z",
     "iopub.status.idle": "2025-07-28T10:45:09.321612Z",
     "shell.execute_reply": "2025-07-28T10:45:09.320902Z"
    },
    "papermill": {
     "duration": 0.021531,
     "end_time": "2025-07-28T10:45:09.323018",
     "exception": false,
     "start_time": "2025-07-28T10:45:09.301487",
     "status": "completed"
    },
    "tags": []
   },
   "outputs": [
    {
     "data": {
      "text/plain": [
       "{'universe_id': ['a7230360c91a2656c3e0c5766a70f1ce'],\n",
       " 'universe_training_size': ['1k'],\n",
       " 'universe_scale': ['scale'],\n",
       " 'universe_model': ['rf'],\n",
       " 'universe_exclude_features': ['nationality-sex'],\n",
       " 'universe_exclude_subgroups': ['drop-non-german'],\n",
       " 'q_hat': [0.64],\n",
       " 'coverage': [0.9139003455579088],\n",
       " 'avg_size': [1.1498272210455913]}"
      ]
     },
     "execution_count": 52,
     "metadata": {},
     "output_type": "execute_result"
    }
   ],
   "source": [
    "cp_metrics_dict"
   ]
  },
  {
   "cell_type": "code",
   "execution_count": 53,
   "id": "33007efc-14e9-4ec6-97ac-56a455c82265",
   "metadata": {
    "execution": {
     "iopub.execute_input": "2025-07-28T10:45:09.351138Z",
     "iopub.status.busy": "2025-07-28T10:45:09.350618Z",
     "iopub.status.idle": "2025-07-28T10:45:09.356933Z",
     "shell.execute_reply": "2025-07-28T10:45:09.355852Z"
    },
    "papermill": {
     "duration": 0.021864,
     "end_time": "2025-07-28T10:45:09.358602",
     "exception": false,
     "start_time": "2025-07-28T10:45:09.336738",
     "status": "completed"
    },
    "tags": []
   },
   "outputs": [],
   "source": [
    "cp_metrics_df = pd.DataFrame(cp_metrics_dict)"
   ]
  },
  {
   "cell_type": "code",
   "execution_count": 54,
   "id": "db12611b-57b2-4910-b9d0-355adfd6e7bf",
   "metadata": {
    "execution": {
     "iopub.execute_input": "2025-07-28T10:45:09.410291Z",
     "iopub.status.busy": "2025-07-28T10:45:09.409470Z",
     "iopub.status.idle": "2025-07-28T10:45:09.433538Z",
     "shell.execute_reply": "2025-07-28T10:45:09.432437Z"
    },
    "papermill": {
     "duration": 0.051058,
     "end_time": "2025-07-28T10:45:09.435478",
     "exception": false,
     "start_time": "2025-07-28T10:45:09.384420",
     "status": "completed"
    },
    "tags": []
   },
   "outputs": [
    {
     "data": {
      "text/html": [
       "<div>\n",
       "<style scoped>\n",
       "    .dataframe tbody tr th:only-of-type {\n",
       "        vertical-align: middle;\n",
       "    }\n",
       "\n",
       "    .dataframe tbody tr th {\n",
       "        vertical-align: top;\n",
       "    }\n",
       "\n",
       "    .dataframe thead th {\n",
       "        text-align: right;\n",
       "    }\n",
       "</style>\n",
       "<table border=\"1\" class=\"dataframe\">\n",
       "  <thead>\n",
       "    <tr style=\"text-align: right;\">\n",
       "      <th></th>\n",
       "      <th>universe_id</th>\n",
       "      <th>universe_training_size</th>\n",
       "      <th>universe_scale</th>\n",
       "      <th>universe_model</th>\n",
       "      <th>universe_exclude_features</th>\n",
       "      <th>universe_exclude_subgroups</th>\n",
       "      <th>q_hat</th>\n",
       "      <th>coverage</th>\n",
       "      <th>avg_size</th>\n",
       "    </tr>\n",
       "  </thead>\n",
       "  <tbody>\n",
       "    <tr>\n",
       "      <th>0</th>\n",
       "      <td>a7230360c91a2656c3e0c5766a70f1ce</td>\n",
       "      <td>1k</td>\n",
       "      <td>scale</td>\n",
       "      <td>rf</td>\n",
       "      <td>nationality-sex</td>\n",
       "      <td>drop-non-german</td>\n",
       "      <td>0.64</td>\n",
       "      <td>0.9139</td>\n",
       "      <td>1.149827</td>\n",
       "    </tr>\n",
       "  </tbody>\n",
       "</table>\n",
       "</div>"
      ],
      "text/plain": [
       "                        universe_id universe_training_size universe_scale  \\\n",
       "0  a7230360c91a2656c3e0c5766a70f1ce                     1k          scale   \n",
       "\n",
       "  universe_model universe_exclude_features universe_exclude_subgroups  q_hat  \\\n",
       "0             rf           nationality-sex            drop-non-german   0.64   \n",
       "\n",
       "   coverage  avg_size  \n",
       "0    0.9139  1.149827  "
      ]
     },
     "execution_count": 54,
     "metadata": {},
     "output_type": "execute_result"
    }
   ],
   "source": [
    "cp_metrics_df"
   ]
  },
  {
   "cell_type": "code",
   "execution_count": 55,
   "id": "b7fbde55-a0a1-47e4-9af6-fe4a17fa8c61",
   "metadata": {
    "execution": {
     "iopub.execute_input": "2025-07-28T10:45:09.490435Z",
     "iopub.status.busy": "2025-07-28T10:45:09.489893Z",
     "iopub.status.idle": "2025-07-28T10:45:09.495441Z",
     "shell.execute_reply": "2025-07-28T10:45:09.494332Z"
    },
    "papermill": {
     "duration": 0.034433,
     "end_time": "2025-07-28T10:45:09.497175",
     "exception": false,
     "start_time": "2025-07-28T10:45:09.462742",
     "status": "completed"
    },
    "tags": []
   },
   "outputs": [],
   "source": [
    "# Conditional Coverage & looking at subgroups"
   ]
  },
  {
   "cell_type": "code",
   "execution_count": 56,
   "id": "027ae886-68dd-4141-96c7-805a5450e1ef",
   "metadata": {
    "execution": {
     "iopub.execute_input": "2025-07-28T10:45:09.550131Z",
     "iopub.status.busy": "2025-07-28T10:45:09.549663Z",
     "iopub.status.idle": "2025-07-28T10:45:09.854829Z",
     "shell.execute_reply": "2025-07-28T10:45:09.853624Z"
    },
    "papermill": {
     "duration": 0.335271,
     "end_time": "2025-07-28T10:45:09.856956",
     "exception": false,
     "start_time": "2025-07-28T10:45:09.521685",
     "status": "completed"
    },
    "tags": []
   },
   "outputs": [],
   "source": [
    "from fairness_multiverse.conformal import build_cp_groups\n",
    "\n",
    "cp_groups_df = build_cp_groups(pred_sets, y_true, X_test.index, org_test)\n",
    "#needs universe_id and setting"
   ]
  },
  {
   "cell_type": "code",
   "execution_count": 57,
   "id": "01d5802c-663a-4d1f-9d69-e036faaffbf7",
   "metadata": {
    "execution": {
     "iopub.execute_input": "2025-07-28T10:45:09.908418Z",
     "iopub.status.busy": "2025-07-28T10:45:09.907735Z",
     "iopub.status.idle": "2025-07-28T10:45:09.914621Z",
     "shell.execute_reply": "2025-07-28T10:45:09.913538Z"
    },
    "papermill": {
     "duration": 0.034839,
     "end_time": "2025-07-28T10:45:09.916461",
     "exception": false,
     "start_time": "2025-07-28T10:45:09.881622",
     "status": "completed"
    },
    "tags": []
   },
   "outputs": [],
   "source": [
    "#delete\n",
    "#cp_groups_df"
   ]
  },
  {
   "cell_type": "code",
   "execution_count": 58,
   "id": "fa424af1-d1eb-443d-b717-2d279ada8408",
   "metadata": {
    "execution": {
     "iopub.execute_input": "2025-07-28T10:45:09.970375Z",
     "iopub.status.busy": "2025-07-28T10:45:09.969422Z",
     "iopub.status.idle": "2025-07-28T10:45:09.975005Z",
     "shell.execute_reply": "2025-07-28T10:45:09.974029Z"
    },
    "papermill": {
     "duration": 0.034685,
     "end_time": "2025-07-28T10:45:09.976712",
     "exception": false,
     "start_time": "2025-07-28T10:45:09.942027",
     "status": "completed"
    },
    "tags": []
   },
   "outputs": [],
   "source": [
    "#delete\n",
    "#percentage = (cp_groups_df['nongerman_female'] == 1).mean() * 100\n",
    "#print(percentage)\n"
   ]
  },
  {
   "cell_type": "code",
   "execution_count": 59,
   "id": "6cbdab96-b2b2-45af-ad54-d0516db2e28d",
   "metadata": {
    "execution": {
     "iopub.execute_input": "2025-07-28T10:45:10.030936Z",
     "iopub.status.busy": "2025-07-28T10:45:10.030365Z",
     "iopub.status.idle": "2025-07-28T10:45:11.844376Z",
     "shell.execute_reply": "2025-07-28T10:45:11.843398Z"
    },
    "papermill": {
     "duration": 1.842626,
     "end_time": "2025-07-28T10:45:11.846289",
     "exception": false,
     "start_time": "2025-07-28T10:45:10.003663",
     "status": "completed"
    },
    "tags": []
   },
   "outputs": [],
   "source": [
    "# Define covered = 1 if true_label is in the predicted set\n",
    "cp_groups_df['covered'] = cp_groups_df.apply(\n",
    "    lambda r: int(r['true_label'] in r['pred_set']),\n",
    "    axis=1\n",
    ")"
   ]
  },
  {
   "cell_type": "code",
   "execution_count": 60,
   "id": "338ff529-1a6b-4b87-a931-8e4788d52aad",
   "metadata": {
    "execution": {
     "iopub.execute_input": "2025-07-28T10:45:11.899181Z",
     "iopub.status.busy": "2025-07-28T10:45:11.898643Z",
     "iopub.status.idle": "2025-07-28T10:45:11.903876Z",
     "shell.execute_reply": "2025-07-28T10:45:11.903002Z"
    },
    "papermill": {
     "duration": 0.033618,
     "end_time": "2025-07-28T10:45:11.905527",
     "exception": false,
     "start_time": "2025-07-28T10:45:11.871909",
     "status": "completed"
    },
    "tags": []
   },
   "outputs": [],
   "source": [
    "#cp_groups_df"
   ]
  },
  {
   "cell_type": "code",
   "execution_count": 61,
   "id": "90032e27-66df-4540-9169-4e89cfbaa758",
   "metadata": {
    "execution": {
     "iopub.execute_input": "2025-07-28T10:45:11.957365Z",
     "iopub.status.busy": "2025-07-28T10:45:11.956377Z",
     "iopub.status.idle": "2025-07-28T10:45:11.968925Z",
     "shell.execute_reply": "2025-07-28T10:45:11.967722Z"
    },
    "papermill": {
     "duration": 0.040383,
     "end_time": "2025-07-28T10:45:11.970665",
     "exception": false,
     "start_time": "2025-07-28T10:45:11.930282",
     "status": "completed"
    },
    "tags": []
   },
   "outputs": [],
   "source": [
    "subgroups = ['frau1','nongerman','nongerman_male','nongerman_female']\n",
    "\n",
    "# Conditional coverage for subgroup==1\n",
    "cond_coverage = {\n",
    "    g: cp_groups_df.loc[cp_groups_df[g]==1, 'covered'].mean()\n",
    "    for g in subgroups\n",
    "}"
   ]
  },
  {
   "cell_type": "code",
   "execution_count": 62,
   "id": "1e348fb1-b9c3-45bc-ba23-f016827a7e0d",
   "metadata": {
    "execution": {
     "iopub.execute_input": "2025-07-28T10:45:12.023554Z",
     "iopub.status.busy": "2025-07-28T10:45:12.022538Z",
     "iopub.status.idle": "2025-07-28T10:45:12.030954Z",
     "shell.execute_reply": "2025-07-28T10:45:12.029852Z"
    },
    "papermill": {
     "duration": 0.036101,
     "end_time": "2025-07-28T10:45:12.032752",
     "exception": false,
     "start_time": "2025-07-28T10:45:11.996651",
     "status": "completed"
    },
    "tags": []
   },
   "outputs": [
    {
     "data": {
      "text/plain": [
       "{'frau1': 0.9113357595363256,\n",
       " 'nongerman': 0.902823780385112,\n",
       " 'nongerman_male': 0.9232639827073764,\n",
       " 'nongerman_female': 0.8690014903129657}"
      ]
     },
     "execution_count": 62,
     "metadata": {},
     "output_type": "execute_result"
    }
   ],
   "source": [
    "cond_coverage"
   ]
  },
  {
   "cell_type": "code",
   "execution_count": 63,
   "id": "f5093324-c3dd-4d63-bc4c-8d945e5c8bbb",
   "metadata": {
    "execution": {
     "iopub.execute_input": "2025-07-28T10:45:12.084712Z",
     "iopub.status.busy": "2025-07-28T10:45:12.083508Z",
     "iopub.status.idle": "2025-07-28T10:45:12.092782Z",
     "shell.execute_reply": "2025-07-28T10:45:12.091625Z"
    },
    "papermill": {
     "duration": 0.036576,
     "end_time": "2025-07-28T10:45:12.094422",
     "exception": false,
     "start_time": "2025-07-28T10:45:12.057846",
     "status": "completed"
    },
    "tags": []
   },
   "outputs": [],
   "source": [
    "for subgroup, cov in cond_coverage.items():\n",
    "    cp_metrics_df[f\"cov_{subgroup}\"] = cov"
   ]
  },
  {
   "cell_type": "code",
   "execution_count": 64,
   "id": "6e872e10-dbe5-49e8-b554-5030c98ff75d",
   "metadata": {
    "execution": {
     "iopub.execute_input": "2025-07-28T10:45:12.149078Z",
     "iopub.status.busy": "2025-07-28T10:45:12.148020Z",
     "iopub.status.idle": "2025-07-28T10:45:12.168684Z",
     "shell.execute_reply": "2025-07-28T10:45:12.167560Z"
    },
    "papermill": {
     "duration": 0.050165,
     "end_time": "2025-07-28T10:45:12.170492",
     "exception": false,
     "start_time": "2025-07-28T10:45:12.120327",
     "status": "completed"
    },
    "tags": []
   },
   "outputs": [
    {
     "data": {
      "text/html": [
       "<div>\n",
       "<style scoped>\n",
       "    .dataframe tbody tr th:only-of-type {\n",
       "        vertical-align: middle;\n",
       "    }\n",
       "\n",
       "    .dataframe tbody tr th {\n",
       "        vertical-align: top;\n",
       "    }\n",
       "\n",
       "    .dataframe thead th {\n",
       "        text-align: right;\n",
       "    }\n",
       "</style>\n",
       "<table border=\"1\" class=\"dataframe\">\n",
       "  <thead>\n",
       "    <tr style=\"text-align: right;\">\n",
       "      <th></th>\n",
       "      <th>universe_id</th>\n",
       "      <th>universe_training_size</th>\n",
       "      <th>universe_scale</th>\n",
       "      <th>universe_model</th>\n",
       "      <th>universe_exclude_features</th>\n",
       "      <th>universe_exclude_subgroups</th>\n",
       "      <th>q_hat</th>\n",
       "      <th>coverage</th>\n",
       "      <th>avg_size</th>\n",
       "      <th>cov_frau1</th>\n",
       "      <th>cov_nongerman</th>\n",
       "      <th>cov_nongerman_male</th>\n",
       "      <th>cov_nongerman_female</th>\n",
       "    </tr>\n",
       "  </thead>\n",
       "  <tbody>\n",
       "    <tr>\n",
       "      <th>0</th>\n",
       "      <td>a7230360c91a2656c3e0c5766a70f1ce</td>\n",
       "      <td>1k</td>\n",
       "      <td>scale</td>\n",
       "      <td>rf</td>\n",
       "      <td>nationality-sex</td>\n",
       "      <td>drop-non-german</td>\n",
       "      <td>0.64</td>\n",
       "      <td>0.9139</td>\n",
       "      <td>1.149827</td>\n",
       "      <td>0.911336</td>\n",
       "      <td>0.902824</td>\n",
       "      <td>0.923264</td>\n",
       "      <td>0.869001</td>\n",
       "    </tr>\n",
       "  </tbody>\n",
       "</table>\n",
       "</div>"
      ],
      "text/plain": [
       "                        universe_id universe_training_size universe_scale  \\\n",
       "0  a7230360c91a2656c3e0c5766a70f1ce                     1k          scale   \n",
       "\n",
       "  universe_model universe_exclude_features universe_exclude_subgroups  q_hat  \\\n",
       "0             rf           nationality-sex            drop-non-german   0.64   \n",
       "\n",
       "   coverage  avg_size  cov_frau1  cov_nongerman  cov_nongerman_male  \\\n",
       "0    0.9139  1.149827   0.911336       0.902824            0.923264   \n",
       "\n",
       "   cov_nongerman_female  \n",
       "0              0.869001  "
      ]
     },
     "execution_count": 64,
     "metadata": {},
     "output_type": "execute_result"
    }
   ],
   "source": [
    "cp_metrics_df"
   ]
  },
  {
   "cell_type": "markdown",
   "id": "33774451",
   "metadata": {
    "papermill": {
     "duration": 0.024699,
     "end_time": "2025-07-28T10:45:12.221590",
     "exception": false,
     "start_time": "2025-07-28T10:45:12.196891",
     "status": "completed"
    },
    "tags": []
   },
   "source": [
    "# (Fairness) Metrics"
   ]
  },
  {
   "cell_type": "code",
   "execution_count": 65,
   "id": "debc5d62",
   "metadata": {
    "execution": {
     "iopub.execute_input": "2025-07-28T10:45:12.273833Z",
     "iopub.status.busy": "2025-07-28T10:45:12.272794Z",
     "iopub.status.idle": "2025-07-28T10:45:12.296487Z",
     "shell.execute_reply": "2025-07-28T10:45:12.295246Z"
    },
    "papermill": {
     "duration": 0.05193,
     "end_time": "2025-07-28T10:45:12.298552",
     "exception": false,
     "start_time": "2025-07-28T10:45:12.246622",
     "status": "completed"
    },
    "tags": []
   },
   "outputs": [],
   "source": [
    "# do I need to include maxdeutsch1.missing?\n",
    "\n",
    "import numpy as np\n",
    "\n",
    "colname_to_bin = \"maxdeutsch1\"\n",
    "majority_value = org_train[colname_to_bin].mode()[0]\n",
    "\n",
    "org_test[\"majmin\"] = np.where(org_test[colname_to_bin] == majority_value, \"majority\", \"minority\")"
   ]
  },
  {
   "cell_type": "code",
   "execution_count": 66,
   "id": "06a50de5",
   "metadata": {
    "execution": {
     "iopub.execute_input": "2025-07-28T10:45:12.354832Z",
     "iopub.status.busy": "2025-07-28T10:45:12.354359Z",
     "iopub.status.idle": "2025-07-28T10:45:15.223569Z",
     "shell.execute_reply": "2025-07-28T10:45:15.222293Z"
    },
    "papermill": {
     "duration": 2.899214,
     "end_time": "2025-07-28T10:45:15.226043",
     "exception": false,
     "start_time": "2025-07-28T10:45:12.326829",
     "status": "completed"
    },
    "tags": []
   },
   "outputs": [],
   "source": [
    "example_universe = universe.copy()\n",
    "example_universe[\"cutoff\"] = example_universe[\"cutoff\"][0]\n",
    "example_universe[\"eval_fairness_grouping\"] = example_universe[\"eval_fairness_grouping\"][0]\n",
    "fairness_dict, metric_frame = universe_analysis.compute_metrics(\n",
    "    example_universe,\n",
    "    y_pred_prob=probs_test,\n",
    "    y_test=y_true,\n",
    "    org_test=org_test,\n",
    ")"
   ]
  },
  {
   "cell_type": "markdown",
   "id": "f95d4e02",
   "metadata": {
    "papermill": {
     "duration": 0.032668,
     "end_time": "2025-07-28T10:45:15.305404",
     "exception": false,
     "start_time": "2025-07-28T10:45:15.272736",
     "status": "completed"
    },
    "tags": []
   },
   "source": [
    "# Overall"
   ]
  },
  {
   "cell_type": "markdown",
   "id": "bdee4871",
   "metadata": {
    "papermill": {
     "duration": 0.083215,
     "end_time": "2025-07-28T10:45:15.432282",
     "exception": false,
     "start_time": "2025-07-28T10:45:15.349067",
     "status": "completed"
    },
    "tags": []
   },
   "source": [
    "Fairness\n",
    "Main fairness target: Equalized Odds. Seems to be a better fit than equal opportunity, since we're not only interested in Y = 1. Seems to be a better fit than demographic parity, since we also care about accuracy, not just equal distribution of preds.\n",
    "\n",
    "Pick column for computation of fairness metrics\n",
    "\n",
    "Performance\n",
    "Overall performance measures, most interesting in relation to the measures split by group below"
   ]
  },
  {
   "cell_type": "code",
   "execution_count": 67,
   "id": "c4e067c6",
   "metadata": {
    "execution": {
     "iopub.execute_input": "2025-07-28T10:45:15.487409Z",
     "iopub.status.busy": "2025-07-28T10:45:15.486973Z",
     "iopub.status.idle": "2025-07-28T10:45:15.496930Z",
     "shell.execute_reply": "2025-07-28T10:45:15.495754Z"
    },
    "papermill": {
     "duration": 0.038912,
     "end_time": "2025-07-28T10:45:15.502469",
     "exception": false,
     "start_time": "2025-07-28T10:45:15.463557",
     "status": "completed"
    },
    "tags": []
   },
   "outputs": [
    {
     "data": {
      "text/plain": [
       "accuracy                   0.221558\n",
       "balanced accuracy          0.545091\n",
       "f1                         0.244188\n",
       "precision                  0.139464\n",
       "false positive rate        0.890092\n",
       "false negative rate        0.019725\n",
       "selection rate             0.901661\n",
       "count                  89710.000000\n",
       "dtype: float64"
      ]
     },
     "execution_count": 67,
     "metadata": {},
     "output_type": "execute_result"
    }
   ],
   "source": [
    "metric_frame.overall"
   ]
  },
  {
   "cell_type": "markdown",
   "id": "e968fe9d",
   "metadata": {
    "papermill": {
     "duration": 0.02612,
     "end_time": "2025-07-28T10:45:15.555127",
     "exception": false,
     "start_time": "2025-07-28T10:45:15.529007",
     "status": "completed"
    },
    "tags": []
   },
   "source": [
    "By Group"
   ]
  },
  {
   "cell_type": "code",
   "execution_count": 68,
   "id": "ec325bce",
   "metadata": {
    "execution": {
     "iopub.execute_input": "2025-07-28T10:45:15.660812Z",
     "iopub.status.busy": "2025-07-28T10:45:15.660369Z",
     "iopub.status.idle": "2025-07-28T10:45:15.684566Z",
     "shell.execute_reply": "2025-07-28T10:45:15.683301Z"
    },
    "papermill": {
     "duration": 0.070299,
     "end_time": "2025-07-28T10:45:15.686419",
     "exception": false,
     "start_time": "2025-07-28T10:45:15.616120",
     "status": "completed"
    },
    "tags": []
   },
   "outputs": [
    {
     "data": {
      "text/html": [
       "<div>\n",
       "<style scoped>\n",
       "    .dataframe tbody tr th:only-of-type {\n",
       "        vertical-align: middle;\n",
       "    }\n",
       "\n",
       "    .dataframe tbody tr th {\n",
       "        vertical-align: top;\n",
       "    }\n",
       "\n",
       "    .dataframe thead th {\n",
       "        text-align: right;\n",
       "    }\n",
       "</style>\n",
       "<table border=\"1\" class=\"dataframe\">\n",
       "  <thead>\n",
       "    <tr style=\"text-align: right;\">\n",
       "      <th></th>\n",
       "      <th>accuracy</th>\n",
       "      <th>balanced accuracy</th>\n",
       "      <th>f1</th>\n",
       "      <th>precision</th>\n",
       "      <th>false positive rate</th>\n",
       "      <th>false negative rate</th>\n",
       "      <th>selection rate</th>\n",
       "      <th>count</th>\n",
       "    </tr>\n",
       "    <tr>\n",
       "      <th>majmin</th>\n",
       "      <th></th>\n",
       "      <th></th>\n",
       "      <th></th>\n",
       "      <th></th>\n",
       "      <th></th>\n",
       "      <th></th>\n",
       "      <th></th>\n",
       "      <th></th>\n",
       "    </tr>\n",
       "  </thead>\n",
       "  <tbody>\n",
       "    <tr>\n",
       "      <th>majority</th>\n",
       "      <td>0.227772</td>\n",
       "      <td>0.547306</td>\n",
       "      <td>0.251461</td>\n",
       "      <td>0.144200</td>\n",
       "      <td>0.887006</td>\n",
       "      <td>0.018381</td>\n",
       "      <td>0.899508</td>\n",
       "      <td>69170.0</td>\n",
       "    </tr>\n",
       "    <tr>\n",
       "      <th>minority</th>\n",
       "      <td>0.200633</td>\n",
       "      <td>0.537399</td>\n",
       "      <td>0.219518</td>\n",
       "      <td>0.123681</td>\n",
       "      <td>0.900286</td>\n",
       "      <td>0.024916</td>\n",
       "      <td>0.908909</td>\n",
       "      <td>20540.0</td>\n",
       "    </tr>\n",
       "  </tbody>\n",
       "</table>\n",
       "</div>"
      ],
      "text/plain": [
       "          accuracy  balanced accuracy        f1  precision  \\\n",
       "majmin                                                       \n",
       "majority  0.227772           0.547306  0.251461   0.144200   \n",
       "minority  0.200633           0.537399  0.219518   0.123681   \n",
       "\n",
       "          false positive rate  false negative rate  selection rate    count  \n",
       "majmin                                                                       \n",
       "majority             0.887006             0.018381        0.899508  69170.0  \n",
       "minority             0.900286             0.024916        0.908909  20540.0  "
      ]
     },
     "execution_count": 68,
     "metadata": {},
     "output_type": "execute_result"
    }
   ],
   "source": [
    "metric_frame.by_group"
   ]
  },
  {
   "cell_type": "code",
   "execution_count": 69,
   "id": "a9ddbe63",
   "metadata": {
    "execution": {
     "iopub.execute_input": "2025-07-28T10:45:15.732423Z",
     "iopub.status.busy": "2025-07-28T10:45:15.731989Z",
     "iopub.status.idle": "2025-07-28T10:45:18.434591Z",
     "shell.execute_reply": "2025-07-28T10:45:18.433830Z"
    },
    "papermill": {
     "duration": 2.722796,
     "end_time": "2025-07-28T10:45:18.436026",
     "exception": false,
     "start_time": "2025-07-28T10:45:15.713230",
     "status": "completed"
    },
    "tags": []
   },
   "outputs": [
    {
     "data": {
      "text/plain": [
       "array([[<Axes: title={'center': 'accuracy'}, xlabel='majmin'>,\n",
       "        <Axes: title={'center': 'balanced accuracy'}, xlabel='majmin'>,\n",
       "        <Axes: title={'center': 'f1'}, xlabel='majmin'>],\n",
       "       [<Axes: title={'center': 'precision'}, xlabel='majmin'>,\n",
       "        <Axes: title={'center': 'false positive rate'}, xlabel='majmin'>,\n",
       "        <Axes: title={'center': 'false negative rate'}, xlabel='majmin'>],\n",
       "       [<Axes: title={'center': 'selection rate'}, xlabel='majmin'>,\n",
       "        <Axes: title={'center': 'count'}, xlabel='majmin'>,\n",
       "        <Axes: xlabel='majmin'>]], dtype=object)"
      ]
     },
     "execution_count": 69,
     "metadata": {},
     "output_type": "execute_result"
    },
    {
     "data": {
      "image/png": "[encoded data removed]",
      "text/plain": [
       "<Figure size 1200x800 with 9 Axes>"
      ]
     },
     "metadata": {},
     "output_type": "display_data"
    }
   ],
   "source": [
    "# In a graphic\n",
    "metric_frame.by_group.plot.bar(\n",
    "    subplots=True,\n",
    "    layout=[3, 3],\n",
    "    legend=False,\n",
    "    figsize=[12, 8],\n",
    "    title=\"Show all metrics\",\n",
    ")"
   ]
  },
  {
   "cell_type": "markdown",
   "id": "f57a0bac",
   "metadata": {
    "papermill": {
     "duration": 0.015425,
     "end_time": "2025-07-28T10:45:18.470431",
     "exception": false,
     "start_time": "2025-07-28T10:45:18.455006",
     "status": "completed"
    },
    "tags": []
   },
   "source": [
    "# Final Output"
   ]
  },
  {
   "cell_type": "code",
   "execution_count": 70,
   "id": "96d280a3",
   "metadata": {
    "execution": {
     "iopub.execute_input": "2025-07-28T10:45:18.514275Z",
     "iopub.status.busy": "2025-07-28T10:45:18.513805Z",
     "iopub.status.idle": "2025-07-28T10:45:18.522217Z",
     "shell.execute_reply": "2025-07-28T10:45:18.521277Z"
    },
    "papermill": {
     "duration": 0.033435,
     "end_time": "2025-07-28T10:45:18.523516",
     "exception": false,
     "start_time": "2025-07-28T10:45:18.490081",
     "status": "completed"
    },
    "tags": []
   },
   "outputs": [
    {
     "data": {
      "text/plain": [
       "4"
      ]
     },
     "execution_count": 70,
     "metadata": {},
     "output_type": "execute_result"
    }
   ],
   "source": [
    "sub_universes = universe_analysis.generate_sub_universes()\n",
    "len(sub_universes)"
   ]
  },
  {
   "cell_type": "code",
   "execution_count": 71,
   "id": "92adf7ba",
   "metadata": {
    "execution": {
     "iopub.execute_input": "2025-07-28T10:45:18.585632Z",
     "iopub.status.busy": "2025-07-28T10:45:18.585127Z",
     "iopub.status.idle": "2025-07-28T10:45:18.591817Z",
     "shell.execute_reply": "2025-07-28T10:45:18.590786Z"
    },
    "papermill": {
     "duration": 0.040406,
     "end_time": "2025-07-28T10:45:18.594075",
     "exception": false,
     "start_time": "2025-07-28T10:45:18.553669",
     "status": "completed"
    },
    "tags": []
   },
   "outputs": [],
   "source": [
    "def filter_sub_universe_data(sub_universe, org_test):\n",
    "    # Keep all rows — no filtering\n",
    "    keep_rows_mask = np.ones(org_test.shape[0], dtype=bool)\n",
    "\n",
    "    print(f\"[INFO] Keeping all rows: {keep_rows_mask.sum()} rows retained.\")\n",
    "    return keep_rows_mask"
   ]
  },
  {
   "cell_type": "code",
   "execution_count": 72,
   "id": "4a759155",
   "metadata": {
    "execution": {
     "iopub.execute_input": "2025-07-28T10:45:18.655142Z",
     "iopub.status.busy": "2025-07-28T10:45:18.654701Z",
     "iopub.status.idle": "2025-07-28T10:45:27.976939Z",
     "shell.execute_reply": "2025-07-28T10:45:27.975907Z"
    },
    "papermill": {
     "duration": 9.354094,
     "end_time": "2025-07-28T10:45:27.978288",
     "exception": false,
     "start_time": "2025-07-28T10:45:18.624194",
     "status": "completed"
    },
    "tags": []
   },
   "outputs": [
    {
     "name": "stdout",
     "output_type": "stream",
     "text": [
      "Stopping execution_time clock.\n",
      "[INFO] Keeping all rows: 89710 rows retained.\n"
     ]
    },
    {
     "name": "stdout",
     "output_type": "stream",
     "text": [
      "[INFO] Keeping all rows: 89710 rows retained.\n"
     ]
    },
    {
     "name": "stdout",
     "output_type": "stream",
     "text": [
      "[INFO] Keeping all rows: 89710 rows retained.\n"
     ]
    },
    {
     "name": "stdout",
     "output_type": "stream",
     "text": [
      "[INFO] Keeping all rows: 89710 rows retained.\n"
     ]
    },
    {
     "data": {
      "text/html": [
       "<div>\n",
       "<style scoped>\n",
       "    .dataframe tbody tr th:only-of-type {\n",
       "        vertical-align: middle;\n",
       "    }\n",
       "\n",
       "    .dataframe tbody tr th {\n",
       "        vertical-align: top;\n",
       "    }\n",
       "\n",
       "    .dataframe thead th {\n",
       "        text-align: right;\n",
       "    }\n",
       "</style>\n",
       "<table border=\"1\" class=\"dataframe\">\n",
       "  <thead>\n",
       "    <tr style=\"text-align: right;\">\n",
       "      <th></th>\n",
       "      <th>run_no</th>\n",
       "      <th>universe_id</th>\n",
       "      <th>universe_settings</th>\n",
       "      <th>execution_time</th>\n",
       "      <th>test_size_n</th>\n",
       "      <th>test_size_frac</th>\n",
       "      <th>fair_main_equalized_odds_difference</th>\n",
       "      <th>fair_main_equalized_odds_ratio</th>\n",
       "      <th>fair_main_demographic_parity_difference</th>\n",
       "      <th>fair_main_demographic_parity_ratio</th>\n",
       "      <th>...</th>\n",
       "      <th>perf_grp_precision_0</th>\n",
       "      <th>perf_grp_precision_1</th>\n",
       "      <th>perf_grp_false positive rate_0</th>\n",
       "      <th>perf_grp_false positive rate_1</th>\n",
       "      <th>perf_grp_false negative rate_0</th>\n",
       "      <th>perf_grp_false negative rate_1</th>\n",
       "      <th>perf_grp_selection rate_0</th>\n",
       "      <th>perf_grp_selection rate_1</th>\n",
       "      <th>perf_grp_count_0</th>\n",
       "      <th>perf_grp_count_1</th>\n",
       "    </tr>\n",
       "  </thead>\n",
       "  <tbody>\n",
       "    <tr>\n",
       "      <th>0</th>\n",
       "      <td>11</td>\n",
       "      <td>a7230360c91a2656c3e0c5766a70f1ce</td>\n",
       "      <td>{\"cutoff\": \"quantile_0.1\", \"eval_fairness_grou...</td>\n",
       "      <td>33.027476</td>\n",
       "      <td>89710</td>\n",
       "      <td>1.0</td>\n",
       "      <td>0.01328</td>\n",
       "      <td>0.985250</td>\n",
       "      <td>0.009401</td>\n",
       "      <td>0.989657</td>\n",
       "      <td>...</td>\n",
       "      <td>NaN</td>\n",
       "      <td>NaN</td>\n",
       "      <td>NaN</td>\n",
       "      <td>NaN</td>\n",
       "      <td>NaN</td>\n",
       "      <td>NaN</td>\n",
       "      <td>NaN</td>\n",
       "      <td>NaN</td>\n",
       "      <td>NaN</td>\n",
       "      <td>NaN</td>\n",
       "    </tr>\n",
       "    <tr>\n",
       "      <th>0</th>\n",
       "      <td>11</td>\n",
       "      <td>a7230360c91a2656c3e0c5766a70f1ce</td>\n",
       "      <td>{\"cutoff\": \"quantile_0.1\", \"eval_fairness_grou...</td>\n",
       "      <td>33.027476</td>\n",
       "      <td>89710</td>\n",
       "      <td>1.0</td>\n",
       "      <td>0.01328</td>\n",
       "      <td>0.985250</td>\n",
       "      <td>0.009401</td>\n",
       "      <td>0.989657</td>\n",
       "      <td>...</td>\n",
       "      <td>0.123681</td>\n",
       "      <td>0.144200</td>\n",
       "      <td>0.900286</td>\n",
       "      <td>0.887006</td>\n",
       "      <td>0.024916</td>\n",
       "      <td>0.018381</td>\n",
       "      <td>0.908909</td>\n",
       "      <td>0.899508</td>\n",
       "      <td>20540.0</td>\n",
       "      <td>69170.0</td>\n",
       "    </tr>\n",
       "    <tr>\n",
       "      <th>0</th>\n",
       "      <td>11</td>\n",
       "      <td>a7230360c91a2656c3e0c5766a70f1ce</td>\n",
       "      <td>{\"cutoff\": \"quantile_0.25\", \"eval_fairness_gro...</td>\n",
       "      <td>33.027476</td>\n",
       "      <td>89710</td>\n",
       "      <td>1.0</td>\n",
       "      <td>0.05545</td>\n",
       "      <td>0.929932</td>\n",
       "      <td>0.043287</td>\n",
       "      <td>0.946319</td>\n",
       "      <td>...</td>\n",
       "      <td>NaN</td>\n",
       "      <td>NaN</td>\n",
       "      <td>NaN</td>\n",
       "      <td>NaN</td>\n",
       "      <td>NaN</td>\n",
       "      <td>NaN</td>\n",
       "      <td>NaN</td>\n",
       "      <td>NaN</td>\n",
       "      <td>NaN</td>\n",
       "      <td>NaN</td>\n",
       "    </tr>\n",
       "    <tr>\n",
       "      <th>0</th>\n",
       "      <td>11</td>\n",
       "      <td>a7230360c91a2656c3e0c5766a70f1ce</td>\n",
       "      <td>{\"cutoff\": \"quantile_0.25\", \"eval_fairness_gro...</td>\n",
       "      <td>33.027476</td>\n",
       "      <td>89710</td>\n",
       "      <td>1.0</td>\n",
       "      <td>0.05545</td>\n",
       "      <td>0.929932</td>\n",
       "      <td>0.043287</td>\n",
       "      <td>0.946319</td>\n",
       "      <td>...</td>\n",
       "      <td>0.131739</td>\n",
       "      <td>0.163026</td>\n",
       "      <td>0.791382</td>\n",
       "      <td>0.735932</td>\n",
       "      <td>0.078547</td>\n",
       "      <td>0.058534</td>\n",
       "      <td>0.806378</td>\n",
       "      <td>0.763091</td>\n",
       "      <td>20540.0</td>\n",
       "      <td>69170.0</td>\n",
       "    </tr>\n",
       "  </tbody>\n",
       "</table>\n",
       "<p>4 rows × 50 columns</p>\n",
       "</div>"
      ],
      "text/plain": [
       "  run_no                       universe_id  \\\n",
       "0     11  a7230360c91a2656c3e0c5766a70f1ce   \n",
       "0     11  a7230360c91a2656c3e0c5766a70f1ce   \n",
       "0     11  a7230360c91a2656c3e0c5766a70f1ce   \n",
       "0     11  a7230360c91a2656c3e0c5766a70f1ce   \n",
       "\n",
       "                                   universe_settings  execution_time  \\\n",
       "0  {\"cutoff\": \"quantile_0.1\", \"eval_fairness_grou...       33.027476   \n",
       "0  {\"cutoff\": \"quantile_0.1\", \"eval_fairness_grou...       33.027476   \n",
       "0  {\"cutoff\": \"quantile_0.25\", \"eval_fairness_gro...       33.027476   \n",
       "0  {\"cutoff\": \"quantile_0.25\", \"eval_fairness_gro...       33.027476   \n",
       "\n",
       "   test_size_n  test_size_frac  fair_main_equalized_odds_difference  \\\n",
       "0        89710             1.0                              0.01328   \n",
       "0        89710             1.0                              0.01328   \n",
       "0        89710             1.0                              0.05545   \n",
       "0        89710             1.0                              0.05545   \n",
       "\n",
       "   fair_main_equalized_odds_ratio  fair_main_demographic_parity_difference  \\\n",
       "0                        0.985250                                 0.009401   \n",
       "0                        0.985250                                 0.009401   \n",
       "0                        0.929932                                 0.043287   \n",
       "0                        0.929932                                 0.043287   \n",
       "\n",
       "   fair_main_demographic_parity_ratio  ...  perf_grp_precision_0  \\\n",
       "0                            0.989657  ...                   NaN   \n",
       "0                            0.989657  ...              0.123681   \n",
       "0                            0.946319  ...                   NaN   \n",
       "0                            0.946319  ...              0.131739   \n",
       "\n",
       "   perf_grp_precision_1  perf_grp_false positive rate_0  \\\n",
       "0                   NaN                             NaN   \n",
       "0              0.144200                        0.900286   \n",
       "0                   NaN                             NaN   \n",
       "0              0.163026                        0.791382   \n",
       "\n",
       "   perf_grp_false positive rate_1  perf_grp_false negative rate_0  \\\n",
       "0                             NaN                             NaN   \n",
       "0                        0.887006                        0.024916   \n",
       "0                             NaN                             NaN   \n",
       "0                        0.735932                        0.078547   \n",
       "\n",
       "   perf_grp_false negative rate_1  perf_grp_selection rate_0  \\\n",
       "0                             NaN                        NaN   \n",
       "0                        0.018381                   0.908909   \n",
       "0                             NaN                        NaN   \n",
       "0                        0.058534                   0.806378   \n",
       "\n",
       "   perf_grp_selection rate_1  perf_grp_count_0  perf_grp_count_1  \n",
       "0                        NaN               NaN               NaN  \n",
       "0                   0.899508           20540.0           69170.0  \n",
       "0                        NaN               NaN               NaN  \n",
       "0                   0.763091           20540.0           69170.0  \n",
       "\n",
       "[4 rows x 50 columns]"
      ]
     },
     "execution_count": 72,
     "metadata": {},
     "output_type": "execute_result"
    }
   ],
   "source": [
    "final_output = universe_analysis.generate_final_output(\n",
    "    y_pred_prob=probs_test,\n",
    "    y_test=y_true,\n",
    "    org_test=org_test,\n",
    "    filter_data=filter_sub_universe_data,\n",
    "    cp_metrics_df=cp_metrics_df,\n",
    "    save=True,\n",
    ")\n",
    "final_output"
   ]
  },
  {
   "cell_type": "code",
   "execution_count": null,
   "id": "721ff514-cb11-46f8-b6fc-50392f74b5cb",
   "metadata": {
    "papermill": {
     "duration": 0.022892,
     "end_time": "2025-07-28T10:45:28.019900",
     "exception": false,
     "start_time": "2025-07-28T10:45:27.997008",
     "status": "completed"
    },
    "tags": []
   },
   "outputs": [],
   "source": []
  }
 ],
 "metadata": {
  "celltoolbar": "Tags",
  "kernelspec": {
   "display_name": "Python (CMA Fairness)",
   "language": "python",
   "name": "cma_fair_env"
  },
  "language_info": {
   "codemirror_mode": {
    "name": "ipython",
    "version": 3
   },
   "file_extension": ".py",
   "mimetype": "text/x-python",
   "name": "python",
   "nbconvert_exporter": "python",
   "pygments_lexer": "ipython3",
   "version": "3.10.12"
  },
  "papermill": {
   "default_parameters": {},
   "duration": 46.735298,
   "end_time": "2025-07-28T10:45:28.870915",
   "environment_variables": {},
   "exception": null,
   "input_path": "universe_analysis.ipynb",
   "output_path": "output/runs/11/notebooks/m_11-a7230360c91a2656c3e0c5766a70f1ce.ipynb",
   "parameters": {
    "output_dir": "output",
    "run_no": "11",
    "seed": "2023",
    "universe": "{\"cutoff\": [\"quantile_0.1\", \"quantile_0.25\"], \"eval_fairness_grouping\": [\"majority-minority\", \"nationality-all\"], \"exclude_features\": \"nationality-sex\", \"exclude_subgroups\": \"drop-non-german\", \"model\": \"rf\", \"scale\": \"scale\", \"training_size\": \"1k\"}",
    "universe_id": "a7230360c91a2656c3e0c5766a70f1ce"
   },
   "start_time": "2025-07-28T10:44:42.135617",
   "version": "2.6.0"
  }
 },
 "nbformat": 4,
 "nbformat_minor": 5
}