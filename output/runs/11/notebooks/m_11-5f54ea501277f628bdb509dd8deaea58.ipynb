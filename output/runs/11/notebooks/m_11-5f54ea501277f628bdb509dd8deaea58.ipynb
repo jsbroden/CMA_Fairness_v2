{
 "cells": [
  {
   "cell_type": "code",
   "execution_count": 1,
   "id": "f159f837-637b-42ba-96b5-ec9a68c44524",
   "metadata": {
    "execution": {
     "iopub.execute_input": "2025-07-28T10:28:04.593927Z",
     "iopub.status.busy": "2025-07-28T10:28:04.593187Z",
     "iopub.status.idle": "2025-07-28T10:28:04.608524Z",
     "shell.execute_reply": "2025-07-28T10:28:04.607409Z"
    },
    "papermill": {
     "duration": 0.049092,
     "end_time": "2025-07-28T10:28:04.610712",
     "exception": false,
     "start_time": "2025-07-28T10:28:04.561620",
     "status": "completed"
    },
    "tags": []
   },
   "outputs": [
    {
     "name": "stdout",
     "output_type": "stream",
     "text": [
      "/dss/dsshome1/0C/ra93lal2/cma/CMA_Fairness_v2\n"
     ]
    },
    {
     "name": "stderr",
     "output_type": "stream",
     "text": [
      "/dss/dsshome1/0C/ra93lal2/.local/share/virtualenvs/CMA_Fairness_v2-3j10GkSs/lib/python3.10/site-packages/IPython/core/magics/osm.py:393: UserWarning: This is now an optional IPython functionality, using bookmarks requires you to install the `pickleshare` library.\n",
      "  bkms = self.shell.db.get('bookmarks', {})\n",
      "/dss/dsshome1/0C/ra93lal2/.local/share/virtualenvs/CMA_Fairness_v2-3j10GkSs/lib/python3.10/site-packages/IPython/core/magics/osm.py:417: UserWarning: This is now an optional IPython functionality, setting dhist requires you to install the `pickleshare` library.\n",
      "  self.shell.db['dhist'] = compress_dhist(dhist)[-100:]\n"
     ]
    }
   ],
   "source": [
    "%cd ~/cma/CMA_Fairness_v2"
   ]
  },
  {
   "cell_type": "markdown",
   "id": "de2603b9",
   "metadata": {
    "papermill": {
     "duration": 0.027739,
     "end_time": "2025-07-28T10:28:04.665496",
     "exception": false,
     "start_time": "2025-07-28T10:28:04.637757",
     "status": "completed"
    },
    "tags": []
   },
   "source": [
    "The following cell holds the definition of our parameters, these values can be overriden by rendering the with e.g. the following command:\n",
    "\n",
    "papermill -p alpha 0.2 -p ratio 0.3 universe_analysis.ipynb output/test_run.ipynb"
   ]
  },
  {
   "cell_type": "code",
   "execution_count": 2,
   "id": "a80968a0-40bb-4fa9-85ef-2d5eefb01975",
   "metadata": {
    "execution": {
     "iopub.execute_input": "2025-07-28T10:28:04.709580Z",
     "iopub.status.busy": "2025-07-28T10:28:04.708859Z",
     "iopub.status.idle": "2025-07-28T10:28:04.714970Z",
     "shell.execute_reply": "2025-07-28T10:28:04.713943Z"
    },
    "papermill": {
     "duration": 0.029375,
     "end_time": "2025-07-28T10:28:04.716877",
     "exception": false,
     "start_time": "2025-07-28T10:28:04.687502",
     "status": "completed"
    },
    "tags": []
   },
   "outputs": [
    {
     "name": "stdout",
     "output_type": "stream",
     "text": [
      "Current working directory: /dss/dsshome1/0C/ra93lal2/cma/CMA_Fairness_v2\n"
     ]
    }
   ],
   "source": [
    "import os\n",
    "print(\"Current working directory:\", os.getcwd())"
   ]
  },
  {
   "cell_type": "code",
   "execution_count": 3,
   "id": "2dce4c03",
   "metadata": {
    "execution": {
     "iopub.execute_input": "2025-07-28T10:28:04.760982Z",
     "iopub.status.busy": "2025-07-28T10:28:04.760128Z",
     "iopub.status.idle": "2025-07-28T10:28:04.766700Z",
     "shell.execute_reply": "2025-07-28T10:28:04.765795Z"
    },
    "papermill": {
     "duration": 0.029901,
     "end_time": "2025-07-28T10:28:04.768232",
     "exception": false,
     "start_time": "2025-07-28T10:28:04.738331",
     "status": "completed"
    },
    "tags": [
     "parameters"
    ]
   },
   "outputs": [],
   "source": [
    "run_no = 0\n",
    "universe_id = \"test\"\n",
    "universe = {\n",
    "    \"training_size\": \"2014\", # \"25k\", \"5k\", \"1k\", \"2014\"\n",
    "    \"scale\": \"scale\", # \"scale\", \"do-not-scale\",\n",
    "    #\"stratify_split\": \"target\", # \"none\", \"target\", \"protected-attribute\", \"both\",\n",
    "    \"model\": \"elasticnet\", # \"logreg\", \"penalized_logreg\", \"rf\", \"gbm\", \"elasticnet\"\n",
    "    \"cutoff\": [\"quantile_0.15\", \"quantile_0.30\"],\n",
    "    \"exclude_features\": \"age\", # \"none\", \"nationality\", \"sex\", \"nationality-sex\", \"age\"\n",
    "    \"exclude_subgroups\": \"keep-all\", # \"keep-all\", \"drop-non-german\"\n",
    "    #\"training_sample\": \"restricted\", # \"restricted\", \"full\"\n",
    "    \"eval_fairness_grouping\": [\"majority-minority\", \"nationality-all\"]\n",
    "}\n",
    "\n",
    "output_dir=\"./output\"\n",
    "seed=0"
   ]
  },
  {
   "cell_type": "code",
   "execution_count": 4,
   "id": "fb98b058",
   "metadata": {
    "execution": {
     "iopub.execute_input": "2025-07-28T10:28:04.806255Z",
     "iopub.status.busy": "2025-07-28T10:28:04.805480Z",
     "iopub.status.idle": "2025-07-28T10:28:04.811537Z",
     "shell.execute_reply": "2025-07-28T10:28:04.810535Z"
    },
    "papermill": {
     "duration": 0.026844,
     "end_time": "2025-07-28T10:28:04.813168",
     "exception": false,
     "start_time": "2025-07-28T10:28:04.786324",
     "status": "completed"
    },
    "tags": [
     "injected-parameters"
    ]
   },
   "outputs": [],
   "source": [
    "# Parameters\n",
    "universe_id = \"5f54ea501277f628bdb509dd8deaea58\"\n",
    "run_no = \"11\"\n",
    "universe = \"{\\\"cutoff\\\": [\\\"quantile_0.1\\\", \\\"quantile_0.25\\\"], \\\"eval_fairness_grouping\\\": [\\\"majority-minority\\\", \\\"nationality-all\\\"], \\\"exclude_features\\\": \\\"none\\\", \\\"exclude_subgroups\\\": \\\"keep-all\\\", \\\"model\\\": \\\"penalized_logreg\\\", \\\"scale\\\": \\\"scale\\\", \\\"training_size\\\": \\\"5k\\\"}\"\n",
    "output_dir = \"output\"\n",
    "seed = \"2023\"\n"
   ]
  },
  {
   "cell_type": "code",
   "execution_count": 5,
   "id": "1650acaf",
   "metadata": {
    "execution": {
     "iopub.execute_input": "2025-07-28T10:28:04.852433Z",
     "iopub.status.busy": "2025-07-28T10:28:04.851825Z",
     "iopub.status.idle": "2025-07-28T10:28:04.857056Z",
     "shell.execute_reply": "2025-07-28T10:28:04.856088Z"
    },
    "papermill": {
     "duration": 0.034412,
     "end_time": "2025-07-28T10:28:04.865476",
     "exception": false,
     "start_time": "2025-07-28T10:28:04.831064",
     "status": "completed"
    },
    "tags": []
   },
   "outputs": [],
   "source": [
    "import json\n",
    "# Parse universe into dict if it is passed as a string\n",
    "if isinstance(universe, str):\n",
    "    universe = json.loads(universe)"
   ]
  },
  {
   "cell_type": "code",
   "execution_count": 6,
   "id": "16620c48",
   "metadata": {
    "execution": {
     "iopub.execute_input": "2025-07-28T10:28:04.887279Z",
     "iopub.status.busy": "2025-07-28T10:28:04.886929Z",
     "iopub.status.idle": "2025-07-28T10:28:04.933497Z",
     "shell.execute_reply": "2025-07-28T10:28:04.932418Z"
    },
    "papermill": {
     "duration": 0.059937,
     "end_time": "2025-07-28T10:28:04.935996",
     "exception": false,
     "start_time": "2025-07-28T10:28:04.876059",
     "status": "completed"
    },
    "tags": []
   },
   "outputs": [],
   "source": [
    "# Auto-reload the custom package\n",
    "%load_ext autoreload\n",
    "%autoreload 1\n",
    "%aimport fairness_multiverse"
   ]
  },
  {
   "cell_type": "code",
   "execution_count": 7,
   "id": "01c5c9f3",
   "metadata": {
    "execution": {
     "iopub.execute_input": "2025-07-28T10:28:04.975756Z",
     "iopub.status.busy": "2025-07-28T10:28:04.975039Z",
     "iopub.status.idle": "2025-07-28T10:28:07.124371Z",
     "shell.execute_reply": "2025-07-28T10:28:07.123315Z"
    },
    "papermill": {
     "duration": 2.171729,
     "end_time": "2025-07-28T10:28:07.126527",
     "exception": false,
     "start_time": "2025-07-28T10:28:04.954798",
     "status": "completed"
    },
    "tags": []
   },
   "outputs": [],
   "source": [
    "from fairness_multiverse.universe import UniverseAnalysis\n",
    "\n",
    "universe_analysis = UniverseAnalysis(\n",
    "    run_no = run_no,\n",
    "    universe_id = universe_id,\n",
    "    universe = universe,\n",
    "    output_dir=output_dir,\n",
    ")"
   ]
  },
  {
   "cell_type": "code",
   "execution_count": 8,
   "id": "106241f5",
   "metadata": {
    "execution": {
     "iopub.execute_input": "2025-07-28T10:28:07.176273Z",
     "iopub.status.busy": "2025-07-28T10:28:07.175558Z",
     "iopub.status.idle": "2025-07-28T10:28:07.182034Z",
     "shell.execute_reply": "2025-07-28T10:28:07.181093Z"
    },
    "papermill": {
     "duration": 0.032108,
     "end_time": "2025-07-28T10:28:07.183747",
     "exception": false,
     "start_time": "2025-07-28T10:28:07.151639",
     "status": "completed"
    },
    "tags": []
   },
   "outputs": [
    {
     "name": "stdout",
     "output_type": "stream",
     "text": [
      "Using Seed: 2023\n"
     ]
    }
   ],
   "source": [
    "import numpy as np\n",
    "parsed_seed = int(seed)\n",
    "np.random.seed(parsed_seed)\n",
    "print(f\"Using Seed: {parsed_seed}\")"
   ]
  },
  {
   "cell_type": "markdown",
   "id": "e0ebdc57",
   "metadata": {
    "papermill": {
     "duration": 0.022949,
     "end_time": "2025-07-28T10:28:07.230268",
     "exception": false,
     "start_time": "2025-07-28T10:28:07.207319",
     "status": "completed"
    },
    "tags": []
   },
   "source": [
    "# Loading Data"
   ]
  },
  {
   "cell_type": "markdown",
   "id": "681925a3",
   "metadata": {
    "papermill": {
     "duration": 0.022156,
     "end_time": "2025-07-28T10:28:07.277091",
     "exception": false,
     "start_time": "2025-07-28T10:28:07.254935",
     "status": "completed"
    },
    "tags": []
   },
   "source": [
    "Load siab_train, siab_test, siab_calib and/or \n",
    "load siab_train_features, siab_train_labels"
   ]
  },
  {
   "cell_type": "code",
   "execution_count": 9,
   "id": "f0496b8a",
   "metadata": {
    "execution": {
     "iopub.execute_input": "2025-07-28T10:28:07.322304Z",
     "iopub.status.busy": "2025-07-28T10:28:07.321919Z",
     "iopub.status.idle": "2025-07-28T10:28:19.669550Z",
     "shell.execute_reply": "2025-07-28T10:28:19.668430Z"
    },
    "papermill": {
     "duration": 12.372399,
     "end_time": "2025-07-28T10:28:19.671238",
     "exception": false,
     "start_time": "2025-07-28T10:28:07.298839",
     "status": "completed"
    },
    "tags": []
   },
   "outputs": [
    {
     "name": "stdout",
     "output_type": "stream",
     "text": [
      "Loading SIAB data from cache: data/siab_cached.csv.gz\n"
     ]
    },
    {
     "name": "stdout",
     "output_type": "stream",
     "text": [
      "(643690, 164)\n"
     ]
    }
   ],
   "source": [
    "from pathlib import Path\n",
    "import pandas as pd\n",
    "\n",
    "# File paths\n",
    "raw_file = Path(\"data/raw/siab.csv\")\n",
    "cache_file = Path(\"data/siab_cached.csv.gz\")\n",
    "\n",
    "# Ensure cache directory exists\n",
    "cache_file.parent.mkdir(parents=True, exist_ok=True)\n",
    "\n",
    "# Load with simple caching\n",
    "if cache_file.exists():\n",
    "    print(f\"Loading SIAB data from cache: {cache_file}\")\n",
    "    siab = pd.read_csv(cache_file, compression='gzip')\n",
    "else:\n",
    "    print(f\"Cache not found. Reading raw SIAB data: {raw_file}\")\n",
    "    siab = pd.read_csv(raw_file)\n",
    "    siab.to_csv(cache_file, index=False, compression='gzip')\n",
    "    print(f\"Cached SIAB data to: {cache_file}\")\n",
    "\n",
    "# Now use `siab` DataFrame as needed\n",
    "print(siab.shape)"
   ]
  },
  {
   "cell_type": "code",
   "execution_count": 10,
   "id": "db0ca512-5f53-4dba-abdb-a2888bca41ba",
   "metadata": {
    "execution": {
     "iopub.execute_input": "2025-07-28T10:28:19.729530Z",
     "iopub.status.busy": "2025-07-28T10:28:19.728812Z",
     "iopub.status.idle": "2025-07-28T10:28:19.735215Z",
     "shell.execute_reply": "2025-07-28T10:28:19.733971Z"
    },
    "papermill": {
     "duration": 0.027943,
     "end_time": "2025-07-28T10:28:19.736856",
     "exception": false,
     "start_time": "2025-07-28T10:28:19.708913",
     "status": "completed"
    },
    "tags": []
   },
   "outputs": [],
   "source": [
    "#siab"
   ]
  },
  {
   "cell_type": "code",
   "execution_count": 11,
   "id": "a0edb063",
   "metadata": {
    "execution": {
     "iopub.execute_input": "2025-07-28T10:28:19.775922Z",
     "iopub.status.busy": "2025-07-28T10:28:19.775075Z",
     "iopub.status.idle": "2025-07-28T10:28:19.780122Z",
     "shell.execute_reply": "2025-07-28T10:28:19.779183Z"
    },
    "papermill": {
     "duration": 0.026248,
     "end_time": "2025-07-28T10:28:19.781755",
     "exception": false,
     "start_time": "2025-07-28T10:28:19.755507",
     "status": "completed"
    },
    "tags": []
   },
   "outputs": [],
   "source": [
    "#import pandas as pd\n",
    "#\n",
    "#X_train = pd.read_csv(\"./data/X_train.csv\")\n",
    "#y_train = pd.read_csv(\"./data/y_train.csv\")"
   ]
  },
  {
   "cell_type": "code",
   "execution_count": 12,
   "id": "63d08085",
   "metadata": {
    "execution": {
     "iopub.execute_input": "2025-07-28T10:28:19.821050Z",
     "iopub.status.busy": "2025-07-28T10:28:19.820379Z",
     "iopub.status.idle": "2025-07-28T10:28:19.825375Z",
     "shell.execute_reply": "2025-07-28T10:28:19.824482Z"
    },
    "papermill": {
     "duration": 0.026343,
     "end_time": "2025-07-28T10:28:19.826860",
     "exception": false,
     "start_time": "2025-07-28T10:28:19.800517",
     "status": "completed"
    },
    "tags": []
   },
   "outputs": [],
   "source": [
    "#X_test = pd.read_csv(\"./data/X_test.csv\")\n",
    "#y_true = pd.read_csv(\"./data/y_test.csv\")"
   ]
  },
  {
   "cell_type": "code",
   "execution_count": 13,
   "id": "98a8d0fa-1d3d-4ed8-bb2c-281470e24add",
   "metadata": {
    "execution": {
     "iopub.execute_input": "2025-07-28T10:28:19.866031Z",
     "iopub.status.busy": "2025-07-28T10:28:19.865388Z",
     "iopub.status.idle": "2025-07-28T10:28:19.870326Z",
     "shell.execute_reply": "2025-07-28T10:28:19.869406Z"
    },
    "papermill": {
     "duration": 0.026166,
     "end_time": "2025-07-28T10:28:19.871930",
     "exception": false,
     "start_time": "2025-07-28T10:28:19.845764",
     "status": "completed"
    },
    "tags": []
   },
   "outputs": [],
   "source": [
    "# Calibration data for conformal\n",
    "#X_calib = pd.read_csv(\"./data/X_calib.csv\")\n",
    "#y_calib = pd.read_csv(\"./data/y_calib.csv\")"
   ]
  },
  {
   "cell_type": "markdown",
   "id": "9901737e-04df-44f0-9100-f5ad144ed040",
   "metadata": {
    "papermill": {
     "duration": 0.018689,
     "end_time": "2025-07-28T10:28:19.909932",
     "exception": false,
     "start_time": "2025-07-28T10:28:19.891243",
     "status": "completed"
    },
    "tags": []
   },
   "source": [
    "# Splitting Data and Setting Training Data Size"
   ]
  },
  {
   "cell_type": "code",
   "execution_count": 14,
   "id": "acbc8f7d-8fc8-4e86-8c59-5dcb0f58384b",
   "metadata": {
    "execution": {
     "iopub.execute_input": "2025-07-28T10:28:19.948941Z",
     "iopub.status.busy": "2025-07-28T10:28:19.948211Z",
     "iopub.status.idle": "2025-07-28T10:28:19.956589Z",
     "shell.execute_reply": "2025-07-28T10:28:19.955599Z"
    },
    "papermill": {
     "duration": 0.029617,
     "end_time": "2025-07-28T10:28:19.958228",
     "exception": false,
     "start_time": "2025-07-28T10:28:19.928611",
     "status": "completed"
    },
    "tags": []
   },
   "outputs": [],
   "source": [
    "def sample_by_year(df, training_size, random_state=42):\n",
    "    if training_size == \"2014\":\n",
    "        return df[df[\"year\"] == 2014].reset_index(drop=True)\n",
    "    \n",
    "    size_map = {\n",
    "        \"25k\": 5000,\n",
    "        \"5k\": 1000,\n",
    "        \"1k\": 200\n",
    "    }\n",
    "\n",
    "    if training_size not in size_map:\n",
    "        return df.reset_index(drop=True)  # use all data\n",
    "\n",
    "    n_per_year = size_map[training_size]\n",
    "    grouped = df.groupby(\"year\")\n",
    "    sampled = grouped.apply(lambda x: x.sample(n=min(n_per_year, len(x)), random_state=random_state))\n",
    "    return sampled.reset_index(drop=True)"
   ]
  },
  {
   "cell_type": "code",
   "execution_count": 15,
   "id": "6d931f52-beaf-43ff-9e78-9d44a448d54e",
   "metadata": {
    "execution": {
     "iopub.execute_input": "2025-07-28T10:28:19.997774Z",
     "iopub.status.busy": "2025-07-28T10:28:19.997128Z",
     "iopub.status.idle": "2025-07-28T10:28:20.655372Z",
     "shell.execute_reply": "2025-07-28T10:28:20.654430Z"
    },
    "papermill": {
     "duration": 0.679978,
     "end_time": "2025-07-28T10:28:20.657348",
     "exception": false,
     "start_time": "2025-07-28T10:28:19.977370",
     "status": "completed"
    },
    "tags": []
   },
   "outputs": [],
   "source": [
    "siab_s = sample_by_year(siab, universe[\"training_size\"])"
   ]
  },
  {
   "cell_type": "code",
   "execution_count": 16,
   "id": "5db0a40e-a4e2-4920-be85-b12ae061d70d",
   "metadata": {
    "execution": {
     "iopub.execute_input": "2025-07-28T10:28:20.697538Z",
     "iopub.status.busy": "2025-07-28T10:28:20.696891Z",
     "iopub.status.idle": "2025-07-28T10:28:20.710445Z",
     "shell.execute_reply": "2025-07-28T10:28:20.709454Z"
    },
    "papermill": {
     "duration": 0.03518,
     "end_time": "2025-07-28T10:28:20.711961",
     "exception": false,
     "start_time": "2025-07-28T10:28:20.676781",
     "status": "completed"
    },
    "tags": []
   },
   "outputs": [
    {
     "data": {
      "text/plain": [
       "year\n",
       "2010    1000\n",
       "2011    1000\n",
       "2012    1000\n",
       "2013    1000\n",
       "2014    1000\n",
       "2015    1000\n",
       "2016    1000\n",
       "dtype: int64"
      ]
     },
     "metadata": {},
     "output_type": "display_data"
    }
   ],
   "source": [
    "display(siab_s.groupby(\"year\").size())"
   ]
  },
  {
   "cell_type": "code",
   "execution_count": 17,
   "id": "a561edb4-d032-42cb-8256-22eac1111c64",
   "metadata": {
    "execution": {
     "iopub.execute_input": "2025-07-28T10:28:20.752474Z",
     "iopub.status.busy": "2025-07-28T10:28:20.751790Z",
     "iopub.status.idle": "2025-07-28T10:28:20.958362Z",
     "shell.execute_reply": "2025-07-28T10:28:20.957059Z"
    },
    "papermill": {
     "duration": 0.228945,
     "end_time": "2025-07-28T10:28:20.960489",
     "exception": false,
     "start_time": "2025-07-28T10:28:20.731544",
     "status": "completed"
    },
    "tags": []
   },
   "outputs": [],
   "source": [
    "siab_train = siab_s[siab_s.year < 2015]\n",
    "siab_calib = siab[siab.year == 2015]\n",
    "siab_test = siab[siab.year == 2016]"
   ]
  },
  {
   "cell_type": "code",
   "execution_count": 18,
   "id": "472de16f-c3db-4916-846b-1f0de9cf1746",
   "metadata": {
    "execution": {
     "iopub.execute_input": "2025-07-28T10:28:21.000810Z",
     "iopub.status.busy": "2025-07-28T10:28:21.000296Z",
     "iopub.status.idle": "2025-07-28T10:28:21.008928Z",
     "shell.execute_reply": "2025-07-28T10:28:21.007694Z"
    },
    "papermill": {
     "duration": 0.030262,
     "end_time": "2025-07-28T10:28:21.010563",
     "exception": false,
     "start_time": "2025-07-28T10:28:20.980301",
     "status": "completed"
    },
    "tags": []
   },
   "outputs": [],
   "source": [
    "X_train = siab_train.iloc[:,4:164]\n",
    "y_train = siab_train.iloc[:, [3]]"
   ]
  },
  {
   "cell_type": "code",
   "execution_count": 19,
   "id": "828c96af-f43a-4ed6-ba47-8ac73a47d56c",
   "metadata": {
    "execution": {
     "iopub.execute_input": "2025-07-28T10:28:21.050808Z",
     "iopub.status.busy": "2025-07-28T10:28:21.050162Z",
     "iopub.status.idle": "2025-07-28T10:28:21.102483Z",
     "shell.execute_reply": "2025-07-28T10:28:21.101525Z"
    },
    "papermill": {
     "duration": 0.075523,
     "end_time": "2025-07-28T10:28:21.105527",
     "exception": false,
     "start_time": "2025-07-28T10:28:21.030004",
     "status": "completed"
    },
    "tags": []
   },
   "outputs": [],
   "source": [
    "X_calib = siab_calib.iloc[:,4:164]\n",
    "y_calib = siab_calib.iloc[:, [3]]"
   ]
  },
  {
   "cell_type": "code",
   "execution_count": 20,
   "id": "c34be9c3-6bd6-476e-acd3-845840e303be",
   "metadata": {
    "execution": {
     "iopub.execute_input": "2025-07-28T10:28:21.146734Z",
     "iopub.status.busy": "2025-07-28T10:28:21.146258Z",
     "iopub.status.idle": "2025-07-28T10:28:21.199420Z",
     "shell.execute_reply": "2025-07-28T10:28:21.198386Z"
    },
    "papermill": {
     "duration": 0.075742,
     "end_time": "2025-07-28T10:28:21.201221",
     "exception": false,
     "start_time": "2025-07-28T10:28:21.125479",
     "status": "completed"
    },
    "tags": []
   },
   "outputs": [],
   "source": [
    "X_test = siab_test.iloc[:,4:164]\n",
    "y_true = siab_test.iloc[:, [3]]"
   ]
  },
  {
   "cell_type": "code",
   "execution_count": 21,
   "id": "e6c733c5",
   "metadata": {
    "execution": {
     "iopub.execute_input": "2025-07-28T10:28:21.245795Z",
     "iopub.status.busy": "2025-07-28T10:28:21.245108Z",
     "iopub.status.idle": "2025-07-28T10:28:21.345061Z",
     "shell.execute_reply": "2025-07-28T10:28:21.344090Z"
    },
    "papermill": {
     "duration": 0.124433,
     "end_time": "2025-07-28T10:28:21.347001",
     "exception": false,
     "start_time": "2025-07-28T10:28:21.222568",
     "status": "completed"
    },
    "tags": []
   },
   "outputs": [],
   "source": [
    "# Auxiliary data needed downstream in the pipeline\n",
    "\n",
    "org_train = X_train.copy()\n",
    "org_test = X_test.copy()\n",
    "org_calib = X_calib.copy()"
   ]
  },
  {
   "cell_type": "markdown",
   "id": "0a4a1b33",
   "metadata": {
    "papermill": {
     "duration": 0.019249,
     "end_time": "2025-07-28T10:28:21.394564",
     "exception": false,
     "start_time": "2025-07-28T10:28:21.375315",
     "status": "completed"
    },
    "tags": []
   },
   "source": [
    "# Preprocessing Data"
   ]
  },
  {
   "cell_type": "code",
   "execution_count": 22,
   "id": "ca879031",
   "metadata": {
    "execution": {
     "iopub.execute_input": "2025-07-28T10:28:21.435410Z",
     "iopub.status.busy": "2025-07-28T10:28:21.434747Z",
     "iopub.status.idle": "2025-07-28T10:28:21.440885Z",
     "shell.execute_reply": "2025-07-28T10:28:21.439894Z"
    },
    "papermill": {
     "duration": 0.028419,
     "end_time": "2025-07-28T10:28:21.442434",
     "exception": false,
     "start_time": "2025-07-28T10:28:21.414015",
     "status": "completed"
    },
    "tags": []
   },
   "outputs": [],
   "source": [
    "# EXCLUDE PROTECTED FEATURES\n",
    "# ----------------------\n",
    "# \"exclude_features\": \"none\", # \"nationality\", \"sex\", \"nationality-sex\"\n",
    "\n",
    "excluded_features = universe[\"exclude_features\"].split(\"-\") # split, e.g.: \"nationality-sex\" -> [\"nationality\", \"sex\"]\n",
    "excluded_features_dictionary = {\n",
    "    \"nationality\": [\"maxdeutsch1\", \"maxdeutsch.Missing.\"],\n",
    "    \"sex\": [\"frau1\"],\n",
    "    \"age\": [\"age\"],\n",
    "}\n"
   ]
  },
  {
   "cell_type": "code",
   "execution_count": 23,
   "id": "b745ac60",
   "metadata": {
    "execution": {
     "iopub.execute_input": "2025-07-28T10:28:21.483552Z",
     "iopub.status.busy": "2025-07-28T10:28:21.482803Z",
     "iopub.status.idle": "2025-07-28T10:28:21.488842Z",
     "shell.execute_reply": "2025-07-28T10:28:21.487909Z"
    },
    "papermill": {
     "duration": 0.028159,
     "end_time": "2025-07-28T10:28:21.490332",
     "exception": false,
     "start_time": "2025-07-28T10:28:21.462173",
     "status": "completed"
    },
    "tags": []
   },
   "outputs": [],
   "source": [
    "# Code nice names to column names\n",
    "\n",
    "excluded_features_columns = [\n",
    "    excluded_features_dictionary[f] for f in excluded_features if len(f) > 0 and f != \"none\"\n",
    "]"
   ]
  },
  {
   "cell_type": "code",
   "execution_count": 24,
   "id": "f84f73a2",
   "metadata": {
    "execution": {
     "iopub.execute_input": "2025-07-28T10:28:21.531673Z",
     "iopub.status.busy": "2025-07-28T10:28:21.531018Z",
     "iopub.status.idle": "2025-07-28T10:28:21.537649Z",
     "shell.execute_reply": "2025-07-28T10:28:21.536776Z"
    },
    "papermill": {
     "duration": 0.028834,
     "end_time": "2025-07-28T10:28:21.539157",
     "exception": false,
     "start_time": "2025-07-28T10:28:21.510323",
     "status": "completed"
    },
    "tags": []
   },
   "outputs": [],
   "source": [
    "from utils import flatten_once\n",
    "\n",
    "excluded_features_columns = flatten_once(excluded_features_columns)"
   ]
  },
  {
   "cell_type": "code",
   "execution_count": 25,
   "id": "884dea22",
   "metadata": {
    "execution": {
     "iopub.execute_input": "2025-07-28T10:28:21.580766Z",
     "iopub.status.busy": "2025-07-28T10:28:21.580064Z",
     "iopub.status.idle": "2025-07-28T10:28:21.585922Z",
     "shell.execute_reply": "2025-07-28T10:28:21.585072Z"
    },
    "papermill": {
     "duration": 0.028335,
     "end_time": "2025-07-28T10:28:21.587558",
     "exception": false,
     "start_time": "2025-07-28T10:28:21.559223",
     "status": "completed"
    },
    "tags": []
   },
   "outputs": [],
   "source": [
    "if len(excluded_features_columns) > 0:\n",
    "    print(f\"Dropping features: {excluded_features_columns}\")\n",
    "    X_train.drop(excluded_features_columns, axis=1, inplace=True)"
   ]
  },
  {
   "cell_type": "code",
   "execution_count": 26,
   "id": "95ab8b16",
   "metadata": {
    "execution": {
     "iopub.execute_input": "2025-07-28T10:28:21.629064Z",
     "iopub.status.busy": "2025-07-28T10:28:21.628377Z",
     "iopub.status.idle": "2025-07-28T10:28:21.634258Z",
     "shell.execute_reply": "2025-07-28T10:28:21.633314Z"
    },
    "papermill": {
     "duration": 0.028063,
     "end_time": "2025-07-28T10:28:21.635715",
     "exception": false,
     "start_time": "2025-07-28T10:28:21.607652",
     "status": "completed"
    },
    "tags": []
   },
   "outputs": [],
   "source": [
    "if len(excluded_features_columns) > 0:\n",
    "    print(f\"Dropping features: {excluded_features_columns}\")\n",
    "    X_test.drop(excluded_features_columns, axis=1, inplace=True)"
   ]
  },
  {
   "cell_type": "code",
   "execution_count": 27,
   "id": "1853aaf5-fb9f-46cb-a2b5-8ea4ae2237e4",
   "metadata": {
    "execution": {
     "iopub.execute_input": "2025-07-28T10:28:21.677141Z",
     "iopub.status.busy": "2025-07-28T10:28:21.676442Z",
     "iopub.status.idle": "2025-07-28T10:28:21.682357Z",
     "shell.execute_reply": "2025-07-28T10:28:21.681488Z"
    },
    "papermill": {
     "duration": 0.028216,
     "end_time": "2025-07-28T10:28:21.683929",
     "exception": false,
     "start_time": "2025-07-28T10:28:21.655713",
     "status": "completed"
    },
    "tags": []
   },
   "outputs": [],
   "source": [
    "if len(excluded_features_columns) > 0:\n",
    "    print(f\"Dropping features: {excluded_features_columns}\")\n",
    "    X_calib.drop(excluded_features_columns, axis=1, inplace=True)"
   ]
  },
  {
   "cell_type": "code",
   "execution_count": 28,
   "id": "6727d079-03e5-481e-9d38-292a90b7a0a8",
   "metadata": {
    "execution": {
     "iopub.execute_input": "2025-07-28T10:28:21.725393Z",
     "iopub.status.busy": "2025-07-28T10:28:21.724708Z",
     "iopub.status.idle": "2025-07-28T10:28:21.729582Z",
     "shell.execute_reply": "2025-07-28T10:28:21.728653Z"
    },
    "papermill": {
     "duration": 0.027078,
     "end_time": "2025-07-28T10:28:21.731149",
     "exception": false,
     "start_time": "2025-07-28T10:28:21.704071",
     "status": "completed"
    },
    "tags": []
   },
   "outputs": [],
   "source": [
    "# SPLIT & STRATIFY DATA\n",
    "# ----------------------"
   ]
  },
  {
   "cell_type": "code",
   "execution_count": 29,
   "id": "76c4dc6d",
   "metadata": {
    "execution": {
     "iopub.execute_input": "2025-07-28T10:28:21.771986Z",
     "iopub.status.busy": "2025-07-28T10:28:21.771528Z",
     "iopub.status.idle": "2025-07-28T10:28:21.776978Z",
     "shell.execute_reply": "2025-07-28T10:28:21.775974Z"
    },
    "papermill": {
     "duration": 0.027567,
     "end_time": "2025-07-28T10:28:21.778594",
     "exception": false,
     "start_time": "2025-07-28T10:28:21.751027",
     "status": "completed"
    },
    "tags": []
   },
   "outputs": [],
   "source": [
    "# EXCLUDE CERTAIN SUBGROUPS\n",
    "# ----------------------\n",
    "\n",
    "mode = universe.get(\"exclude_subgroups\", \"keep-all\") \n",
    "# Fetches the exclude_subgroups setting from the universe dict.\n",
    "# Defaults to \"keep-all\" if the key is missing."
   ]
  },
  {
   "cell_type": "code",
   "execution_count": 30,
   "id": "21994072",
   "metadata": {
    "execution": {
     "iopub.execute_input": "2025-07-28T10:28:21.820234Z",
     "iopub.status.busy": "2025-07-28T10:28:21.819474Z",
     "iopub.status.idle": "2025-07-28T10:28:21.826478Z",
     "shell.execute_reply": "2025-07-28T10:28:21.825480Z"
    },
    "papermill": {
     "duration": 0.029466,
     "end_time": "2025-07-28T10:28:21.828357",
     "exception": false,
     "start_time": "2025-07-28T10:28:21.798891",
     "status": "completed"
    },
    "tags": []
   },
   "outputs": [],
   "source": [
    "if mode == \"keep-all\":\n",
    "    keep_mask = pd.Series(True, index=org_train.index)\n",
    "\n",
    "# org_train contains the original feature columns from features_org (in Simson)\n",
    "# features_org contains unprocessed features, for me X_train at beginning ???\n",
    "# For keep-all, creates a boolean Series (keep_mask) of all True, so no rows are removed.\n",
    "\n",
    "elif mode == \"drop-non-german\":\n",
    "    keep_mask = org_train[\"maxdeutsch1\"] == 1 # ??? what about missing values?\n",
    "\n",
    "else:\n",
    "    raise ValueError(f\"Unsupported mode for exclude_subgroups: {mode}\")\n"
   ]
  },
  {
   "cell_type": "code",
   "execution_count": 31,
   "id": "71651440",
   "metadata": {
    "execution": {
     "iopub.execute_input": "2025-07-28T10:28:21.870007Z",
     "iopub.status.busy": "2025-07-28T10:28:21.869189Z",
     "iopub.status.idle": "2025-07-28T10:28:21.875786Z",
     "shell.execute_reply": "2025-07-28T10:28:21.874897Z"
    },
    "papermill": {
     "duration": 0.029141,
     "end_time": "2025-07-28T10:28:21.877717",
     "exception": false,
     "start_time": "2025-07-28T10:28:21.848576",
     "status": "completed"
    },
    "tags": []
   },
   "outputs": [],
   "source": [
    "n_drop = (~keep_mask).sum() # Calculates how many rows are set to be dropped\n",
    "if n_drop > 0:\n",
    "    pct = n_drop / len(keep_mask) * 100\n",
    "    print(f\"Dropping {n_drop} rows ({pct:.2f}%) where mode='{mode}'\")"
   ]
  },
  {
   "cell_type": "code",
   "execution_count": 32,
   "id": "5fb8eee5",
   "metadata": {
    "execution": {
     "iopub.execute_input": "2025-07-28T10:28:21.919223Z",
     "iopub.status.busy": "2025-07-28T10:28:21.918770Z",
     "iopub.status.idle": "2025-07-28T10:28:21.927177Z",
     "shell.execute_reply": "2025-07-28T10:28:21.926346Z"
    },
    "papermill": {
     "duration": 0.030854,
     "end_time": "2025-07-28T10:28:21.928724",
     "exception": false,
     "start_time": "2025-07-28T10:28:21.897870",
     "status": "completed"
    },
    "tags": []
   },
   "outputs": [],
   "source": [
    "X_train = X_train[keep_mask]"
   ]
  },
  {
   "cell_type": "code",
   "execution_count": 33,
   "id": "b202bb3a",
   "metadata": {
    "execution": {
     "iopub.execute_input": "2025-07-28T10:28:21.971015Z",
     "iopub.status.busy": "2025-07-28T10:28:21.970569Z",
     "iopub.status.idle": "2025-07-28T10:28:21.976867Z",
     "shell.execute_reply": "2025-07-28T10:28:21.976007Z"
    },
    "papermill": {
     "duration": 0.028793,
     "end_time": "2025-07-28T10:28:21.978359",
     "exception": false,
     "start_time": "2025-07-28T10:28:21.949566",
     "status": "completed"
    },
    "tags": []
   },
   "outputs": [],
   "source": [
    "y_train = y_train[keep_mask]"
   ]
  },
  {
   "cell_type": "markdown",
   "id": "493e2ac3",
   "metadata": {
    "papermill": {
     "duration": 0.019588,
     "end_time": "2025-07-28T10:28:22.018712",
     "exception": false,
     "start_time": "2025-07-28T10:28:21.999124",
     "status": "completed"
    },
    "tags": []
   },
   "source": [
    "# Model Training"
   ]
  },
  {
   "cell_type": "code",
   "execution_count": 34,
   "id": "679e1268",
   "metadata": {
    "execution": {
     "iopub.execute_input": "2025-07-28T10:28:22.059944Z",
     "iopub.status.busy": "2025-07-28T10:28:22.059412Z",
     "iopub.status.idle": "2025-07-28T10:28:22.183646Z",
     "shell.execute_reply": "2025-07-28T10:28:22.182727Z"
    },
    "papermill": {
     "duration": 0.147246,
     "end_time": "2025-07-28T10:28:22.185532",
     "exception": false,
     "start_time": "2025-07-28T10:28:22.038286",
     "status": "completed"
    },
    "tags": []
   },
   "outputs": [],
   "source": [
    "from sklearn.linear_model import LogisticRegression\n",
    "from sklearn.ensemble import GradientBoostingClassifier, RandomForestClassifier\n",
    "\n",
    "if (universe[\"model\"] == \"logreg\"):\n",
    "    model = LogisticRegression() #penalty=\"none\") #, solver=\"newton-cg\", max_iter=1) # include random_state=19 ?\n",
    "elif (universe[\"model\"] == \"penalized_logreg\"):\n",
    "    model = LogisticRegression(penalty=\"l2\", C=1.0) #, solver=\"newton-cg\", max_iter=1)\n",
    "elif (universe[\"model\"] == \"rf\"):\n",
    "    model = RandomForestClassifier(n_estimators=100, n_jobs=-1)\n",
    "elif (universe[\"model\"] == \"gbm\"):\n",
    "    model = GradientBoostingClassifier()\n",
    "elif (universe[\"model\"] == \"elasticnet\"):\n",
    "    model = LogisticRegression(penalty = 'elasticnet', solver = 'saga', l1_ratio = 0.5, max_iter=5000) # which solver to use?\n",
    "else:\n",
    "    raise \"Unsupported universe.model\""
   ]
  },
  {
   "cell_type": "code",
   "execution_count": 35,
   "id": "0cc8f744",
   "metadata": {
    "execution": {
     "iopub.execute_input": "2025-07-28T10:28:22.228193Z",
     "iopub.status.busy": "2025-07-28T10:28:22.227273Z",
     "iopub.status.idle": "2025-07-28T10:28:22.234480Z",
     "shell.execute_reply": "2025-07-28T10:28:22.233524Z"
    },
    "papermill": {
     "duration": 0.02972,
     "end_time": "2025-07-28T10:28:22.236004",
     "exception": false,
     "start_time": "2025-07-28T10:28:22.206284",
     "status": "completed"
    },
    "tags": []
   },
   "outputs": [],
   "source": [
    "import numpy as np\n",
    "from sklearn.pipeline import Pipeline\n",
    "from sklearn.preprocessing import StandardScaler\n",
    "\n",
    "model = Pipeline([\n",
    "    #(\"continuous_processor\", continuous_processor),\n",
    "    #(\"categorical_preprocessor\", categorical_preprocessor),\n",
    "    (\"scale\", StandardScaler() if universe[\"scale\"] == \"scale\" else None), \n",
    "    (\"model\", model),\n",
    "])"
   ]
  },
  {
   "cell_type": "code",
   "execution_count": 36,
   "id": "9442c04d",
   "metadata": {
    "execution": {
     "iopub.execute_input": "2025-07-28T10:28:22.277977Z",
     "iopub.status.busy": "2025-07-28T10:28:22.277300Z",
     "iopub.status.idle": "2025-07-28T10:28:22.419493Z",
     "shell.execute_reply": "2025-07-28T10:28:22.418591Z"
    },
    "papermill": {
     "duration": 0.164587,
     "end_time": "2025-07-28T10:28:22.421188",
     "exception": false,
     "start_time": "2025-07-28T10:28:22.256601",
     "status": "completed"
    },
    "tags": []
   },
   "outputs": [
    {
     "name": "stderr",
     "output_type": "stream",
     "text": [
      "/dss/dsshome1/0C/ra93lal2/.local/share/virtualenvs/CMA_Fairness_v2-3j10GkSs/lib/python3.10/site-packages/sklearn/linear_model/_logistic.py:444: ConvergenceWarning: lbfgs failed to converge (status=1):\n",
      "STOP: TOTAL NO. of ITERATIONS REACHED LIMIT.\n",
      "\n",
      "Increase the number of iterations (max_iter) or scale the data as shown in:\n",
      "    https://scikit-learn.org/stable/modules/preprocessing.html\n",
      "Please also refer to the documentation for alternative solver options:\n",
      "    https://scikit-learn.org/stable/modules/linear_model.html#logistic-regression\n",
      "  n_iter_i = _check_optimize_result(\n"
     ]
    },
    {
     "data": {
      "text/html": [
       "<style>#sk-container-id-1 {color: black;background-color: white;}#sk-container-id-1 pre{padding: 0;}#sk-container-id-1 div.sk-toggleable {background-color: white;}#sk-container-id-1 label.sk-toggleable__label {cursor: pointer;display: block;width: 100%;margin-bottom: 0;padding: 0.3em;box-sizing: border-box;text-align: center;}#sk-container-id-1 label.sk-toggleable__label-arrow:before {content: \"▸\";float: left;margin-right: 0.25em;color: #696969;}#sk-container-id-1 label.sk-toggleable__label-arrow:hover:before {color: black;}#sk-container-id-1 div.sk-estimator:hover label.sk-toggleable__label-arrow:before {color: black;}#sk-container-id-1 div.sk-toggleable__content {max-height: 0;max-width: 0;overflow: hidden;text-align: left;background-color: #f0f8ff;}#sk-container-id-1 div.sk-toggleable__content pre {margin: 0.2em;color: black;border-radius: 0.25em;background-color: #f0f8ff;}#sk-container-id-1 input.sk-toggleable__control:checked~div.sk-toggleable__content {max-height: 200px;max-width: 100%;overflow: auto;}#sk-container-id-1 input.sk-toggleable__control:checked~label.sk-toggleable__label-arrow:before {content: \"▾\";}#sk-container-id-1 div.sk-estimator input.sk-toggleable__control:checked~label.sk-toggleable__label {background-color: #d4ebff;}#sk-container-id-1 div.sk-label input.sk-toggleable__control:checked~label.sk-toggleable__label {background-color: #d4ebff;}#sk-container-id-1 input.sk-hidden--visually {border: 0;clip: rect(1px 1px 1px 1px);clip: rect(1px, 1px, 1px, 1px);height: 1px;margin: -1px;overflow: hidden;padding: 0;position: absolute;width: 1px;}#sk-container-id-1 div.sk-estimator {font-family: monospace;background-color: #f0f8ff;border: 1px dotted black;border-radius: 0.25em;box-sizing: border-box;margin-bottom: 0.5em;}#sk-container-id-1 div.sk-estimator:hover {background-color: #d4ebff;}#sk-container-id-1 div.sk-parallel-item::after {content: \"\";width: 100%;border-bottom: 1px solid gray;flex-grow: 1;}#sk-container-id-1 div.sk-label:hover label.sk-toggleable__label {background-color: #d4ebff;}#sk-container-id-1 div.sk-serial::before {content: \"\";position: absolute;border-left: 1px solid gray;box-sizing: border-box;top: 0;bottom: 0;left: 50%;z-index: 0;}#sk-container-id-1 div.sk-serial {display: flex;flex-direction: column;align-items: center;background-color: white;padding-right: 0.2em;padding-left: 0.2em;position: relative;}#sk-container-id-1 div.sk-item {position: relative;z-index: 1;}#sk-container-id-1 div.sk-parallel {display: flex;align-items: stretch;justify-content: center;background-color: white;position: relative;}#sk-container-id-1 div.sk-item::before, #sk-container-id-1 div.sk-parallel-item::before {content: \"\";position: absolute;border-left: 1px solid gray;box-sizing: border-box;top: 0;bottom: 0;left: 50%;z-index: -1;}#sk-container-id-1 div.sk-parallel-item {display: flex;flex-direction: column;z-index: 1;position: relative;background-color: white;}#sk-container-id-1 div.sk-parallel-item:first-child::after {align-self: flex-end;width: 50%;}#sk-container-id-1 div.sk-parallel-item:last-child::after {align-self: flex-start;width: 50%;}#sk-container-id-1 div.sk-parallel-item:only-child::after {width: 0;}#sk-container-id-1 div.sk-dashed-wrapped {border: 1px dashed gray;margin: 0 0.4em 0.5em 0.4em;box-sizing: border-box;padding-bottom: 0.4em;background-color: white;}#sk-container-id-1 div.sk-label label {font-family: monospace;font-weight: bold;display: inline-block;line-height: 1.2em;}#sk-container-id-1 div.sk-label-container {text-align: center;}#sk-container-id-1 div.sk-container {/* jupyter's `normalize.less` sets `[hidden] { display: none; }` but bootstrap.min.css set `[hidden] { display: none !important; }` so we also need the `!important` here to be able to override the default hidden behavior on the sphinx rendered scikit-learn.org. See: https://github.com/scikit-learn/scikit-learn/issues/21755 */display: inline-block !important;position: relative;}#sk-container-id-1 div.sk-text-repr-fallback {display: none;}</style><div id=\"sk-container-id-1\" class=\"sk-top-container\"><div class=\"sk-text-repr-fallback\"><pre>Pipeline(steps=[(&#x27;scale&#x27;, StandardScaler()), (&#x27;model&#x27;, LogisticRegression())])</pre><b>In a Jupyter environment, please rerun this cell to show the HTML representation or trust the notebook. <br />On GitHub, the HTML representation is unable to render, please try loading this page with nbviewer.org.</b></div><div class=\"sk-container\" hidden><div class=\"sk-item sk-dashed-wrapped\"><div class=\"sk-label-container\"><div class=\"sk-label sk-toggleable\"><input class=\"sk-toggleable__control sk-hidden--visually\" id=\"sk-estimator-id-1\" type=\"checkbox\" ><label for=\"sk-estimator-id-1\" class=\"sk-toggleable__label sk-toggleable__label-arrow\">Pipeline</label><div class=\"sk-toggleable__content\"><pre>Pipeline(steps=[(&#x27;scale&#x27;, StandardScaler()), (&#x27;model&#x27;, LogisticRegression())])</pre></div></div></div><div class=\"sk-serial\"><div class=\"sk-item\"><div class=\"sk-estimator sk-toggleable\"><input class=\"sk-toggleable__control sk-hidden--visually\" id=\"sk-estimator-id-2\" type=\"checkbox\" ><label for=\"sk-estimator-id-2\" class=\"sk-toggleable__label sk-toggleable__label-arrow\">StandardScaler</label><div class=\"sk-toggleable__content\"><pre>StandardScaler()</pre></div></div></div><div class=\"sk-item\"><div class=\"sk-estimator sk-toggleable\"><input class=\"sk-toggleable__control sk-hidden--visually\" id=\"sk-estimator-id-3\" type=\"checkbox\" ><label for=\"sk-estimator-id-3\" class=\"sk-toggleable__label sk-toggleable__label-arrow\">LogisticRegression</label><div class=\"sk-toggleable__content\"><pre>LogisticRegression()</pre></div></div></div></div></div></div></div>"
      ],
      "text/plain": [
       "Pipeline(steps=[('scale', StandardScaler()), ('model', LogisticRegression())])"
      ]
     },
     "execution_count": 36,
     "metadata": {},
     "output_type": "execute_result"
    }
   ],
   "source": [
    "model.fit(X_train, y_train.values.ravel())"
   ]
  },
  {
   "cell_type": "code",
   "execution_count": 37,
   "id": "af59f8c0",
   "metadata": {
    "execution": {
     "iopub.execute_input": "2025-07-28T10:28:22.464264Z",
     "iopub.status.busy": "2025-07-28T10:28:22.463593Z",
     "iopub.status.idle": "2025-07-28T10:28:22.468723Z",
     "shell.execute_reply": "2025-07-28T10:28:22.467708Z"
    },
    "papermill": {
     "duration": 0.028016,
     "end_time": "2025-07-28T10:28:22.470366",
     "exception": false,
     "start_time": "2025-07-28T10:28:22.442350",
     "status": "completed"
    },
    "tags": []
   },
   "outputs": [],
   "source": [
    "from fairness_multiverse.universe import predict_w_threshold"
   ]
  },
  {
   "cell_type": "code",
   "execution_count": 38,
   "id": "a7cf2e16",
   "metadata": {
    "execution": {
     "iopub.execute_input": "2025-07-28T10:28:22.513722Z",
     "iopub.status.busy": "2025-07-28T10:28:22.513041Z",
     "iopub.status.idle": "2025-07-28T10:28:22.706574Z",
     "shell.execute_reply": "2025-07-28T10:28:22.705622Z"
    },
    "papermill": {
     "duration": 0.216636,
     "end_time": "2025-07-28T10:28:22.708105",
     "exception": false,
     "start_time": "2025-07-28T10:28:22.491469",
     "status": "completed"
    },
    "tags": []
   },
   "outputs": [
    {
     "data": {
      "text/plain": [
       "0.8526474194627132"
      ]
     },
     "execution_count": 38,
     "metadata": {},
     "output_type": "execute_result"
    }
   ],
   "source": [
    "probs_test = model.predict_proba(X_test)\n",
    "\n",
    "'''\n",
    "Below code returns a boolean array (or binary 0/1 array depending on how it’s used) where each element \n",
    "is True if the probability of class 1 is greater than or equal to the threshold, and False otherwise.\n",
    "'''\n",
    "y_pred_default = predict_w_threshold(probs_test, 0.5)\n",
    "\n",
    "from sklearn.metrics import accuracy_score\n",
    "\n",
    "# Naive prediction\n",
    "accuracy_score(y_true = y_true, y_pred = y_pred_default)"
   ]
  },
  {
   "cell_type": "code",
   "execution_count": 39,
   "id": "081964c3",
   "metadata": {
    "execution": {
     "iopub.execute_input": "2025-07-28T10:28:22.751596Z",
     "iopub.status.busy": "2025-07-28T10:28:22.751132Z",
     "iopub.status.idle": "2025-07-28T10:28:22.934664Z",
     "shell.execute_reply": "2025-07-28T10:28:22.933637Z"
    },
    "papermill": {
     "duration": 0.207084,
     "end_time": "2025-07-28T10:28:22.936446",
     "exception": false,
     "start_time": "2025-07-28T10:28:22.729362",
     "status": "completed"
    },
    "tags": []
   },
   "outputs": [
    {
     "data": {
      "text/plain": [
       "array([0, 0, 0, ..., 0, 0, 0])"
      ]
     },
     "execution_count": 39,
     "metadata": {},
     "output_type": "execute_result"
    }
   ],
   "source": [
    "model.predict(X_test)"
   ]
  },
  {
   "cell_type": "markdown",
   "id": "56c9705b",
   "metadata": {
    "papermill": {
     "duration": 0.02119,
     "end_time": "2025-07-28T10:28:22.979296",
     "exception": false,
     "start_time": "2025-07-28T10:28:22.958106",
     "status": "completed"
    },
    "tags": []
   },
   "source": [
    "# Conformal Prediction"
   ]
  },
  {
   "cell_type": "code",
   "execution_count": 40,
   "id": "160ec6ff",
   "metadata": {
    "execution": {
     "iopub.execute_input": "2025-07-28T10:28:23.023800Z",
     "iopub.status.busy": "2025-07-28T10:28:23.023310Z",
     "iopub.status.idle": "2025-07-28T10:28:23.028386Z",
     "shell.execute_reply": "2025-07-28T10:28:23.027459Z"
    },
    "papermill": {
     "duration": 0.029267,
     "end_time": "2025-07-28T10:28:23.029941",
     "exception": false,
     "start_time": "2025-07-28T10:28:23.000674",
     "status": "completed"
    },
    "tags": []
   },
   "outputs": [],
   "source": [
    "# Miscoverage level for conformal prediction (10% allowed error rate => 90% target coverage)\n",
    "alpha = 0.1"
   ]
  },
  {
   "cell_type": "code",
   "execution_count": 41,
   "id": "eadf4555-3dd3-440e-8e35-f82a4ad9f855",
   "metadata": {
    "execution": {
     "iopub.execute_input": "2025-07-28T10:28:23.075155Z",
     "iopub.status.busy": "2025-07-28T10:28:23.074668Z",
     "iopub.status.idle": "2025-07-28T10:28:23.250138Z",
     "shell.execute_reply": "2025-07-28T10:28:23.249154Z"
    },
    "papermill": {
     "duration": 0.199943,
     "end_time": "2025-07-28T10:28:23.252143",
     "exception": false,
     "start_time": "2025-07-28T10:28:23.052200",
     "status": "completed"
    },
    "tags": []
   },
   "outputs": [],
   "source": [
    "probs_calib = model.predict_proba(X_calib)"
   ]
  },
  {
   "cell_type": "code",
   "execution_count": 42,
   "id": "2ed93547-6d5d-4983-9b36-1ecb300da49a",
   "metadata": {
    "execution": {
     "iopub.execute_input": "2025-07-28T10:28:23.298757Z",
     "iopub.status.busy": "2025-07-28T10:28:23.297627Z",
     "iopub.status.idle": "2025-07-28T10:28:23.303415Z",
     "shell.execute_reply": "2025-07-28T10:28:23.302601Z"
    },
    "papermill": {
     "duration": 0.030712,
     "end_time": "2025-07-28T10:28:23.304962",
     "exception": false,
     "start_time": "2025-07-28T10:28:23.274250",
     "status": "completed"
    },
    "tags": []
   },
   "outputs": [],
   "source": [
    "y_calib = y_calib.values.ravel().astype(int)"
   ]
  },
  {
   "cell_type": "code",
   "execution_count": 43,
   "id": "65d1320d-f588-4b38-9072-62af1ae97f7d",
   "metadata": {
    "execution": {
     "iopub.execute_input": "2025-07-28T10:28:23.350088Z",
     "iopub.status.busy": "2025-07-28T10:28:23.348846Z",
     "iopub.status.idle": "2025-07-28T10:28:23.356727Z",
     "shell.execute_reply": "2025-07-28T10:28:23.355866Z"
    },
    "papermill": {
     "duration": 0.031834,
     "end_time": "2025-07-28T10:28:23.358545",
     "exception": false,
     "start_time": "2025-07-28T10:28:23.326711",
     "status": "completed"
    },
    "tags": []
   },
   "outputs": [],
   "source": [
    "from fairness_multiverse.conformal import compute_nc_scores\n",
    "\n",
    "# Compute nonconformity scores on calibration set (1 - probability of true class)\n",
    "nc_scores = compute_nc_scores(probs_calib, y_calib)"
   ]
  },
  {
   "cell_type": "code",
   "execution_count": 44,
   "id": "df3b8ca3-53b7-43d5-9667-7c85da7aeda2",
   "metadata": {
    "execution": {
     "iopub.execute_input": "2025-07-28T10:28:23.402435Z",
     "iopub.status.busy": "2025-07-28T10:28:23.401962Z",
     "iopub.status.idle": "2025-07-28T10:28:23.408802Z",
     "shell.execute_reply": "2025-07-28T10:28:23.407849Z"
    },
    "papermill": {
     "duration": 0.030644,
     "end_time": "2025-07-28T10:28:23.410582",
     "exception": false,
     "start_time": "2025-07-28T10:28:23.379938",
     "status": "completed"
    },
    "tags": []
   },
   "outputs": [],
   "source": [
    "from fairness_multiverse.conformal import find_threshold\n",
    "\n",
    "# Find conformal threshold q_hat for the given alpha (split conformal method)\n",
    "q_hat = find_threshold(nc_scores, alpha)"
   ]
  },
  {
   "cell_type": "code",
   "execution_count": 45,
   "id": "4d29e6c1-0ef6-4aa4-b8fe-4fe79b0d033a",
   "metadata": {
    "execution": {
     "iopub.execute_input": "2025-07-28T10:28:23.455529Z",
     "iopub.status.busy": "2025-07-28T10:28:23.455035Z",
     "iopub.status.idle": "2025-07-28T10:28:23.462773Z",
     "shell.execute_reply": "2025-07-28T10:28:23.461802Z"
    },
    "papermill": {
     "duration": 0.031854,
     "end_time": "2025-07-28T10:28:23.464324",
     "exception": false,
     "start_time": "2025-07-28T10:28:23.432470",
     "status": "completed"
    },
    "tags": []
   },
   "outputs": [
    {
     "data": {
      "text/plain": [
       "0.6807116222978773"
      ]
     },
     "execution_count": 45,
     "metadata": {},
     "output_type": "execute_result"
    }
   ],
   "source": [
    "q_hat"
   ]
  },
  {
   "cell_type": "code",
   "execution_count": 46,
   "id": "92460794-cdac-4be2-ba28-f28c0515a6fb",
   "metadata": {
    "execution": {
     "iopub.execute_input": "2025-07-28T10:28:23.509315Z",
     "iopub.status.busy": "2025-07-28T10:28:23.508866Z",
     "iopub.status.idle": "2025-07-28T10:28:24.564926Z",
     "shell.execute_reply": "2025-07-28T10:28:24.563897Z"
    },
    "papermill": {
     "duration": 1.080391,
     "end_time": "2025-07-28T10:28:24.566761",
     "exception": false,
     "start_time": "2025-07-28T10:28:23.486370",
     "status": "completed"
    },
    "tags": []
   },
   "outputs": [],
   "source": [
    "from fairness_multiverse.conformal import predict_conformal_sets\n",
    "\n",
    "# Generate prediction sets for each test example\n",
    "pred_sets = predict_conformal_sets(model, X_test, q_hat)"
   ]
  },
  {
   "cell_type": "code",
   "execution_count": 47,
   "id": "d90c9a65-e6db-4f5d-80cd-e68fb7e46829",
   "metadata": {
    "execution": {
     "iopub.execute_input": "2025-07-28T10:28:24.613551Z",
     "iopub.status.busy": "2025-07-28T10:28:24.613083Z",
     "iopub.status.idle": "2025-07-28T10:28:24.618960Z",
     "shell.execute_reply": "2025-07-28T10:28:24.618009Z"
    },
    "papermill": {
     "duration": 0.030013,
     "end_time": "2025-07-28T10:28:24.620582",
     "exception": false,
     "start_time": "2025-07-28T10:28:24.590569",
     "status": "completed"
    },
    "tags": []
   },
   "outputs": [],
   "source": [
    "y_true = y_true.squeeze()"
   ]
  },
  {
   "cell_type": "code",
   "execution_count": 48,
   "id": "3a58a54a-1e68-46b9-927a-df01f18aebc8",
   "metadata": {
    "execution": {
     "iopub.execute_input": "2025-07-28T10:28:24.666625Z",
     "iopub.status.busy": "2025-07-28T10:28:24.665599Z",
     "iopub.status.idle": "2025-07-28T10:28:25.652933Z",
     "shell.execute_reply": "2025-07-28T10:28:25.651970Z"
    },
    "papermill": {
     "duration": 1.011915,
     "end_time": "2025-07-28T10:28:25.654820",
     "exception": false,
     "start_time": "2025-07-28T10:28:24.642905",
     "status": "completed"
    },
    "tags": []
   },
   "outputs": [],
   "source": [
    "from fairness_multiverse.conformal import evaluate_sets\n",
    "\n",
    "# Evaluate coverage and average set size on test data\n",
    "metrics = evaluate_sets(pred_sets, y_true)"
   ]
  },
  {
   "cell_type": "markdown",
   "id": "2b569c12-9aaa-4c88-98c9-bbcd0cf3ebb8",
   "metadata": {
    "papermill": {
     "duration": 0.021861,
     "end_time": "2025-07-28T10:28:25.703128",
     "exception": false,
     "start_time": "2025-07-28T10:28:25.681267",
     "status": "completed"
    },
    "tags": []
   },
   "source": [
    "# CP Metrics"
   ]
  },
  {
   "cell_type": "code",
   "execution_count": 49,
   "id": "5ce0a5cb-201f-45a0-ade5-94c7f0bd6095",
   "metadata": {
    "execution": {
     "iopub.execute_input": "2025-07-28T10:28:25.748459Z",
     "iopub.status.busy": "2025-07-28T10:28:25.747920Z",
     "iopub.status.idle": "2025-07-28T10:28:25.755115Z",
     "shell.execute_reply": "2025-07-28T10:28:25.754165Z"
    },
    "papermill": {
     "duration": 0.031984,
     "end_time": "2025-07-28T10:28:25.756828",
     "exception": false,
     "start_time": "2025-07-28T10:28:25.724844",
     "status": "completed"
    },
    "tags": []
   },
   "outputs": [
    {
     "data": {
      "text/plain": [
       "{'coverage': 0.910723442202653, 'avg_size': 1.1463270538401515}"
      ]
     },
     "execution_count": 49,
     "metadata": {},
     "output_type": "execute_result"
    }
   ],
   "source": [
    "metrics"
   ]
  },
  {
   "cell_type": "code",
   "execution_count": 50,
   "id": "9b9a838d-31c9-430b-ae14-12baee460d17",
   "metadata": {
    "execution": {
     "iopub.execute_input": "2025-07-28T10:28:25.803087Z",
     "iopub.status.busy": "2025-07-28T10:28:25.802400Z",
     "iopub.status.idle": "2025-07-28T10:28:25.808861Z",
     "shell.execute_reply": "2025-07-28T10:28:25.807950Z"
    },
    "papermill": {
     "duration": 0.030912,
     "end_time": "2025-07-28T10:28:25.810422",
     "exception": false,
     "start_time": "2025-07-28T10:28:25.779510",
     "status": "completed"
    },
    "tags": []
   },
   "outputs": [],
   "source": [
    "example_universe = universe.copy()\n",
    "universe_training_size = example_universe.get(\"training_size\")\n",
    "universe_scale = example_universe.get(\"scale\")\n",
    "universe_model = example_universe.get(\"model\")\n",
    "universe_exclude_features = example_universe.get(\"exclude_features\")\n",
    "universe_exclude_subgroups = example_universe.get(\"exclude_subgroups\")"
   ]
  },
  {
   "cell_type": "code",
   "execution_count": 51,
   "id": "f4b6a8ac-9dc0-4245-8a91-5b3b5999c4f9",
   "metadata": {
    "execution": {
     "iopub.execute_input": "2025-07-28T10:28:25.856628Z",
     "iopub.status.busy": "2025-07-28T10:28:25.855919Z",
     "iopub.status.idle": "2025-07-28T10:28:25.862513Z",
     "shell.execute_reply": "2025-07-28T10:28:25.861642Z"
    },
    "papermill": {
     "duration": 0.030944,
     "end_time": "2025-07-28T10:28:25.863937",
     "exception": false,
     "start_time": "2025-07-28T10:28:25.832993",
     "status": "completed"
    },
    "tags": []
   },
   "outputs": [],
   "source": [
    "cp_metrics_dict = {\n",
    "    \"universe_id\": [universe_id],\n",
    "    \"universe_training_size\": [universe_training_size],\n",
    "    \"universe_scale\": [universe_scale],\n",
    "    \"universe_model\": [universe_model],\n",
    "    \"universe_exclude_features\": [universe_exclude_features],\n",
    "    \"universe_exclude_subgroups\": [universe_exclude_subgroups],\n",
    "    \"q_hat\": [q_hat],\n",
    "    \"coverage\": [metrics[\"coverage\"]],\n",
    "    \"avg_size\": [metrics[\"avg_size\"]],\n",
    "}"
   ]
  },
  {
   "cell_type": "code",
   "execution_count": 52,
   "id": "908acbb1-0371-4915-85ca-3fa520d2efe2",
   "metadata": {
    "execution": {
     "iopub.execute_input": "2025-07-28T10:28:25.910625Z",
     "iopub.status.busy": "2025-07-28T10:28:25.910226Z",
     "iopub.status.idle": "2025-07-28T10:28:25.917858Z",
     "shell.execute_reply": "2025-07-28T10:28:25.916964Z"
    },
    "papermill": {
     "duration": 0.03283,
     "end_time": "2025-07-28T10:28:25.919473",
     "exception": false,
     "start_time": "2025-07-28T10:28:25.886643",
     "status": "completed"
    },
    "tags": []
   },
   "outputs": [
    {
     "data": {
      "text/plain": [
       "{'universe_id': ['5f54ea501277f628bdb509dd8deaea58'],\n",
       " 'universe_training_size': ['5k'],\n",
       " 'universe_scale': ['scale'],\n",
       " 'universe_model': ['penalized_logreg'],\n",
       " 'universe_exclude_features': ['none'],\n",
       " 'universe_exclude_subgroups': ['keep-all'],\n",
       " 'q_hat': [0.6807116222978773],\n",
       " 'coverage': [0.910723442202653],\n",
       " 'avg_size': [1.1463270538401515]}"
      ]
     },
     "execution_count": 52,
     "metadata": {},
     "output_type": "execute_result"
    }
   ],
   "source": [
    "cp_metrics_dict"
   ]
  },
  {
   "cell_type": "code",
   "execution_count": 53,
   "id": "33007efc-14e9-4ec6-97ac-56a455c82265",
   "metadata": {
    "execution": {
     "iopub.execute_input": "2025-07-28T10:28:25.966443Z",
     "iopub.status.busy": "2025-07-28T10:28:25.965795Z",
     "iopub.status.idle": "2025-07-28T10:28:25.972272Z",
     "shell.execute_reply": "2025-07-28T10:28:25.971375Z"
    },
    "papermill": {
     "duration": 0.031531,
     "end_time": "2025-07-28T10:28:25.973864",
     "exception": false,
     "start_time": "2025-07-28T10:28:25.942333",
     "status": "completed"
    },
    "tags": []
   },
   "outputs": [],
   "source": [
    "cp_metrics_df = pd.DataFrame(cp_metrics_dict)"
   ]
  },
  {
   "cell_type": "code",
   "execution_count": 54,
   "id": "db12611b-57b2-4910-b9d0-355adfd6e7bf",
   "metadata": {
    "execution": {
     "iopub.execute_input": "2025-07-28T10:28:26.021170Z",
     "iopub.status.busy": "2025-07-28T10:28:26.020484Z",
     "iopub.status.idle": "2025-07-28T10:28:26.038077Z",
     "shell.execute_reply": "2025-07-28T10:28:26.037153Z"
    },
    "papermill": {
     "duration": 0.042792,
     "end_time": "2025-07-28T10:28:26.039617",
     "exception": false,
     "start_time": "2025-07-28T10:28:25.996825",
     "status": "completed"
    },
    "tags": []
   },
   "outputs": [
    {
     "data": {
      "text/html": [
       "<div>\n",
       "<style scoped>\n",
       "    .dataframe tbody tr th:only-of-type {\n",
       "        vertical-align: middle;\n",
       "    }\n",
       "\n",
       "    .dataframe tbody tr th {\n",
       "        vertical-align: top;\n",
       "    }\n",
       "\n",
       "    .dataframe thead th {\n",
       "        text-align: right;\n",
       "    }\n",
       "</style>\n",
       "<table border=\"1\" class=\"dataframe\">\n",
       "  <thead>\n",
       "    <tr style=\"text-align: right;\">\n",
       "      <th></th>\n",
       "      <th>universe_id</th>\n",
       "      <th>universe_training_size</th>\n",
       "      <th>universe_scale</th>\n",
       "      <th>universe_model</th>\n",
       "      <th>universe_exclude_features</th>\n",
       "      <th>universe_exclude_subgroups</th>\n",
       "      <th>q_hat</th>\n",
       "      <th>coverage</th>\n",
       "      <th>avg_size</th>\n",
       "    </tr>\n",
       "  </thead>\n",
       "  <tbody>\n",
       "    <tr>\n",
       "      <th>0</th>\n",
       "      <td>5f54ea501277f628bdb509dd8deaea58</td>\n",
       "      <td>5k</td>\n",
       "      <td>scale</td>\n",
       "      <td>penalized_logreg</td>\n",
       "      <td>none</td>\n",
       "      <td>keep-all</td>\n",
       "      <td>0.680712</td>\n",
       "      <td>0.910723</td>\n",
       "      <td>1.146327</td>\n",
       "    </tr>\n",
       "  </tbody>\n",
       "</table>\n",
       "</div>"
      ],
      "text/plain": [
       "                        universe_id universe_training_size universe_scale  \\\n",
       "0  5f54ea501277f628bdb509dd8deaea58                     5k          scale   \n",
       "\n",
       "     universe_model universe_exclude_features universe_exclude_subgroups  \\\n",
       "0  penalized_logreg                      none                   keep-all   \n",
       "\n",
       "      q_hat  coverage  avg_size  \n",
       "0  0.680712  0.910723  1.146327  "
      ]
     },
     "execution_count": 54,
     "metadata": {},
     "output_type": "execute_result"
    }
   ],
   "source": [
    "cp_metrics_df"
   ]
  },
  {
   "cell_type": "code",
   "execution_count": 55,
   "id": "b7fbde55-a0a1-47e4-9af6-fe4a17fa8c61",
   "metadata": {
    "execution": {
     "iopub.execute_input": "2025-07-28T10:28:26.087324Z",
     "iopub.status.busy": "2025-07-28T10:28:26.086629Z",
     "iopub.status.idle": "2025-07-28T10:28:26.091655Z",
     "shell.execute_reply": "2025-07-28T10:28:26.090831Z"
    },
    "papermill": {
     "duration": 0.03032,
     "end_time": "2025-07-28T10:28:26.093197",
     "exception": false,
     "start_time": "2025-07-28T10:28:26.062877",
     "status": "completed"
    },
    "tags": []
   },
   "outputs": [],
   "source": [
    "# Conditional Coverage & looking at subgroups"
   ]
  },
  {
   "cell_type": "code",
   "execution_count": 56,
   "id": "027ae886-68dd-4141-96c7-805a5450e1ef",
   "metadata": {
    "execution": {
     "iopub.execute_input": "2025-07-28T10:28:26.141174Z",
     "iopub.status.busy": "2025-07-28T10:28:26.140496Z",
     "iopub.status.idle": "2025-07-28T10:28:26.402640Z",
     "shell.execute_reply": "2025-07-28T10:28:26.401769Z"
    },
    "papermill": {
     "duration": 0.288064,
     "end_time": "2025-07-28T10:28:26.404537",
     "exception": false,
     "start_time": "2025-07-28T10:28:26.116473",
     "status": "completed"
    },
    "tags": []
   },
   "outputs": [],
   "source": [
    "from fairness_multiverse.conformal import build_cp_groups\n",
    "\n",
    "cp_groups_df = build_cp_groups(pred_sets, y_true, X_test.index, org_test)\n",
    "#needs universe_id and setting"
   ]
  },
  {
   "cell_type": "code",
   "execution_count": 57,
   "id": "01d5802c-663a-4d1f-9d69-e036faaffbf7",
   "metadata": {
    "execution": {
     "iopub.execute_input": "2025-07-28T10:28:26.452537Z",
     "iopub.status.busy": "2025-07-28T10:28:26.451860Z",
     "iopub.status.idle": "2025-07-28T10:28:26.456832Z",
     "shell.execute_reply": "2025-07-28T10:28:26.455901Z"
    },
    "papermill": {
     "duration": 0.030421,
     "end_time": "2025-07-28T10:28:26.458429",
     "exception": false,
     "start_time": "2025-07-28T10:28:26.428008",
     "status": "completed"
    },
    "tags": []
   },
   "outputs": [],
   "source": [
    "#delete\n",
    "#cp_groups_df"
   ]
  },
  {
   "cell_type": "code",
   "execution_count": 58,
   "id": "fa424af1-d1eb-443d-b717-2d279ada8408",
   "metadata": {
    "execution": {
     "iopub.execute_input": "2025-07-28T10:28:26.506310Z",
     "iopub.status.busy": "2025-07-28T10:28:26.505670Z",
     "iopub.status.idle": "2025-07-28T10:28:26.510703Z",
     "shell.execute_reply": "2025-07-28T10:28:26.509868Z"
    },
    "papermill": {
     "duration": 0.030578,
     "end_time": "2025-07-28T10:28:26.512308",
     "exception": false,
     "start_time": "2025-07-28T10:28:26.481730",
     "status": "completed"
    },
    "tags": []
   },
   "outputs": [],
   "source": [
    "#delete\n",
    "#percentage = (cp_groups_df['nongerman_female'] == 1).mean() * 100\n",
    "#print(percentage)\n"
   ]
  },
  {
   "cell_type": "code",
   "execution_count": 59,
   "id": "6cbdab96-b2b2-45af-ad54-d0516db2e28d",
   "metadata": {
    "execution": {
     "iopub.execute_input": "2025-07-28T10:28:26.560733Z",
     "iopub.status.busy": "2025-07-28T10:28:26.560047Z",
     "iopub.status.idle": "2025-07-28T10:28:28.207409Z",
     "shell.execute_reply": "2025-07-28T10:28:28.206459Z"
    },
    "papermill": {
     "duration": 1.673595,
     "end_time": "2025-07-28T10:28:28.209337",
     "exception": false,
     "start_time": "2025-07-28T10:28:26.535742",
     "status": "completed"
    },
    "tags": []
   },
   "outputs": [],
   "source": [
    "# Define covered = 1 if true_label is in the predicted set\n",
    "cp_groups_df['covered'] = cp_groups_df.apply(\n",
    "    lambda r: int(r['true_label'] in r['pred_set']),\n",
    "    axis=1\n",
    ")"
   ]
  },
  {
   "cell_type": "code",
   "execution_count": 60,
   "id": "338ff529-1a6b-4b87-a931-8e4788d52aad",
   "metadata": {
    "execution": {
     "iopub.execute_input": "2025-07-28T10:28:28.257952Z",
     "iopub.status.busy": "2025-07-28T10:28:28.257268Z",
     "iopub.status.idle": "2025-07-28T10:28:28.262315Z",
     "shell.execute_reply": "2025-07-28T10:28:28.261467Z"
    },
    "papermill": {
     "duration": 0.03071,
     "end_time": "2025-07-28T10:28:28.263825",
     "exception": false,
     "start_time": "2025-07-28T10:28:28.233115",
     "status": "completed"
    },
    "tags": []
   },
   "outputs": [],
   "source": [
    "#cp_groups_df"
   ]
  },
  {
   "cell_type": "code",
   "execution_count": 61,
   "id": "90032e27-66df-4540-9169-4e89cfbaa758",
   "metadata": {
    "execution": {
     "iopub.execute_input": "2025-07-28T10:28:28.312670Z",
     "iopub.status.busy": "2025-07-28T10:28:28.312010Z",
     "iopub.status.idle": "2025-07-28T10:28:28.324115Z",
     "shell.execute_reply": "2025-07-28T10:28:28.323196Z"
    },
    "papermill": {
     "duration": 0.038134,
     "end_time": "2025-07-28T10:28:28.325721",
     "exception": false,
     "start_time": "2025-07-28T10:28:28.287587",
     "status": "completed"
    },
    "tags": []
   },
   "outputs": [],
   "source": [
    "subgroups = ['frau1','nongerman','nongerman_male','nongerman_female']\n",
    "\n",
    "# Conditional coverage for subgroup==1\n",
    "cond_coverage = {\n",
    "    g: cp_groups_df.loc[cp_groups_df[g]==1, 'covered'].mean()\n",
    "    for g in subgroups\n",
    "}"
   ]
  },
  {
   "cell_type": "code",
   "execution_count": 62,
   "id": "1e348fb1-b9c3-45bc-ba23-f016827a7e0d",
   "metadata": {
    "execution": {
     "iopub.execute_input": "2025-07-28T10:28:28.374212Z",
     "iopub.status.busy": "2025-07-28T10:28:28.373568Z",
     "iopub.status.idle": "2025-07-28T10:28:28.380962Z",
     "shell.execute_reply": "2025-07-28T10:28:28.380093Z"
    },
    "papermill": {
     "duration": 0.033093,
     "end_time": "2025-07-28T10:28:28.382527",
     "exception": false,
     "start_time": "2025-07-28T10:28:28.349434",
     "status": "completed"
    },
    "tags": []
   },
   "outputs": [
    {
     "data": {
      "text/plain": [
       "{'frau1': 0.9085051893786225,\n",
       " 'nongerman': 0.9108516252175377,\n",
       " 'nongerman_male': 0.9277672701071782,\n",
       " 'nongerman_female': 0.8828614008941877}"
      ]
     },
     "execution_count": 62,
     "metadata": {},
     "output_type": "execute_result"
    }
   ],
   "source": [
    "cond_coverage"
   ]
  },
  {
   "cell_type": "code",
   "execution_count": 63,
   "id": "f5093324-c3dd-4d63-bc4c-8d945e5c8bbb",
   "metadata": {
    "execution": {
     "iopub.execute_input": "2025-07-28T10:28:28.431667Z",
     "iopub.status.busy": "2025-07-28T10:28:28.431004Z",
     "iopub.status.idle": "2025-07-28T10:28:28.438359Z",
     "shell.execute_reply": "2025-07-28T10:28:28.437401Z"
    },
    "papermill": {
     "duration": 0.033385,
     "end_time": "2025-07-28T10:28:28.439811",
     "exception": false,
     "start_time": "2025-07-28T10:28:28.406426",
     "status": "completed"
    },
    "tags": []
   },
   "outputs": [],
   "source": [
    "for subgroup, cov in cond_coverage.items():\n",
    "    cp_metrics_df[f\"cov_{subgroup}\"] = cov"
   ]
  },
  {
   "cell_type": "code",
   "execution_count": 64,
   "id": "6e872e10-dbe5-49e8-b554-5030c98ff75d",
   "metadata": {
    "execution": {
     "iopub.execute_input": "2025-07-28T10:28:28.488943Z",
     "iopub.status.busy": "2025-07-28T10:28:28.488242Z",
     "iopub.status.idle": "2025-07-28T10:28:28.506312Z",
     "shell.execute_reply": "2025-07-28T10:28:28.505413Z"
    },
    "papermill": {
     "duration": 0.044301,
     "end_time": "2025-07-28T10:28:28.508060",
     "exception": false,
     "start_time": "2025-07-28T10:28:28.463759",
     "status": "completed"
    },
    "tags": []
   },
   "outputs": [
    {
     "data": {
      "text/html": [
       "<div>\n",
       "<style scoped>\n",
       "    .dataframe tbody tr th:only-of-type {\n",
       "        vertical-align: middle;\n",
       "    }\n",
       "\n",
       "    .dataframe tbody tr th {\n",
       "        vertical-align: top;\n",
       "    }\n",
       "\n",
       "    .dataframe thead th {\n",
       "        text-align: right;\n",
       "    }\n",
       "</style>\n",
       "<table border=\"1\" class=\"dataframe\">\n",
       "  <thead>\n",
       "    <tr style=\"text-align: right;\">\n",
       "      <th></th>\n",
       "      <th>universe_id</th>\n",
       "      <th>universe_training_size</th>\n",
       "      <th>universe_scale</th>\n",
       "      <th>universe_model</th>\n",
       "      <th>universe_exclude_features</th>\n",
       "      <th>universe_exclude_subgroups</th>\n",
       "      <th>q_hat</th>\n",
       "      <th>coverage</th>\n",
       "      <th>avg_size</th>\n",
       "      <th>cov_frau1</th>\n",
       "      <th>cov_nongerman</th>\n",
       "      <th>cov_nongerman_male</th>\n",
       "      <th>cov_nongerman_female</th>\n",
       "    </tr>\n",
       "  </thead>\n",
       "  <tbody>\n",
       "    <tr>\n",
       "      <th>0</th>\n",
       "      <td>5f54ea501277f628bdb509dd8deaea58</td>\n",
       "      <td>5k</td>\n",
       "      <td>scale</td>\n",
       "      <td>penalized_logreg</td>\n",
       "      <td>none</td>\n",
       "      <td>keep-all</td>\n",
       "      <td>0.680712</td>\n",
       "      <td>0.910723</td>\n",
       "      <td>1.146327</td>\n",
       "      <td>0.908505</td>\n",
       "      <td>0.910852</td>\n",
       "      <td>0.927767</td>\n",
       "      <td>0.882861</td>\n",
       "    </tr>\n",
       "  </tbody>\n",
       "</table>\n",
       "</div>"
      ],
      "text/plain": [
       "                        universe_id universe_training_size universe_scale  \\\n",
       "0  5f54ea501277f628bdb509dd8deaea58                     5k          scale   \n",
       "\n",
       "     universe_model universe_exclude_features universe_exclude_subgroups  \\\n",
       "0  penalized_logreg                      none                   keep-all   \n",
       "\n",
       "      q_hat  coverage  avg_size  cov_frau1  cov_nongerman  cov_nongerman_male  \\\n",
       "0  0.680712  0.910723  1.146327   0.908505       0.910852            0.927767   \n",
       "\n",
       "   cov_nongerman_female  \n",
       "0              0.882861  "
      ]
     },
     "execution_count": 64,
     "metadata": {},
     "output_type": "execute_result"
    }
   ],
   "source": [
    "cp_metrics_df"
   ]
  },
  {
   "cell_type": "markdown",
   "id": "33774451",
   "metadata": {
    "papermill": {
     "duration": 0.023896,
     "end_time": "2025-07-28T10:28:28.556508",
     "exception": false,
     "start_time": "2025-07-28T10:28:28.532612",
     "status": "completed"
    },
    "tags": []
   },
   "source": [
    "# (Fairness) Metrics"
   ]
  },
  {
   "cell_type": "code",
   "execution_count": 65,
   "id": "debc5d62",
   "metadata": {
    "execution": {
     "iopub.execute_input": "2025-07-28T10:28:28.606015Z",
     "iopub.status.busy": "2025-07-28T10:28:28.605313Z",
     "iopub.status.idle": "2025-07-28T10:28:28.627877Z",
     "shell.execute_reply": "2025-07-28T10:28:28.626957Z"
    },
    "papermill": {
     "duration": 0.04915,
     "end_time": "2025-07-28T10:28:28.629641",
     "exception": false,
     "start_time": "2025-07-28T10:28:28.580491",
     "status": "completed"
    },
    "tags": []
   },
   "outputs": [],
   "source": [
    "# do I need to include maxdeutsch1.missing?\n",
    "\n",
    "import numpy as np\n",
    "\n",
    "colname_to_bin = \"maxdeutsch1\"\n",
    "majority_value = org_train[colname_to_bin].mode()[0]\n",
    "\n",
    "org_test[\"majmin\"] = np.where(org_test[colname_to_bin] == majority_value, \"majority\", \"minority\")"
   ]
  },
  {
   "cell_type": "code",
   "execution_count": 66,
   "id": "06a50de5",
   "metadata": {
    "execution": {
     "iopub.execute_input": "2025-07-28T10:28:28.679975Z",
     "iopub.status.busy": "2025-07-28T10:28:28.679307Z",
     "iopub.status.idle": "2025-07-28T10:28:31.770357Z",
     "shell.execute_reply": "2025-07-28T10:28:31.769405Z"
    },
    "papermill": {
     "duration": 3.118184,
     "end_time": "2025-07-28T10:28:31.772526",
     "exception": false,
     "start_time": "2025-07-28T10:28:28.654342",
     "status": "completed"
    },
    "tags": []
   },
   "outputs": [],
   "source": [
    "example_universe = universe.copy()\n",
    "example_universe[\"cutoff\"] = example_universe[\"cutoff\"][0]\n",
    "example_universe[\"eval_fairness_grouping\"] = example_universe[\"eval_fairness_grouping\"][0]\n",
    "fairness_dict, metric_frame = universe_analysis.compute_metrics(\n",
    "    example_universe,\n",
    "    y_pred_prob=probs_test,\n",
    "    y_test=y_true,\n",
    "    org_test=org_test,\n",
    ")"
   ]
  },
  {
   "cell_type": "markdown",
   "id": "f95d4e02",
   "metadata": {
    "papermill": {
     "duration": 0.02728,
     "end_time": "2025-07-28T10:28:31.828623",
     "exception": false,
     "start_time": "2025-07-28T10:28:31.801343",
     "status": "completed"
    },
    "tags": []
   },
   "source": [
    "# Overall"
   ]
  },
  {
   "cell_type": "markdown",
   "id": "bdee4871",
   "metadata": {
    "papermill": {
     "duration": 0.025578,
     "end_time": "2025-07-28T10:28:31.879903",
     "exception": false,
     "start_time": "2025-07-28T10:28:31.854325",
     "status": "completed"
    },
    "tags": []
   },
   "source": [
    "Fairness\n",
    "Main fairness target: Equalized Odds. Seems to be a better fit than equal opportunity, since we're not only interested in Y = 1. Seems to be a better fit than demographic parity, since we also care about accuracy, not just equal distribution of preds.\n",
    "\n",
    "Pick column for computation of fairness metrics\n",
    "\n",
    "Performance\n",
    "Overall performance measures, most interesting in relation to the measures split by group below"
   ]
  },
  {
   "cell_type": "code",
   "execution_count": 67,
   "id": "c4e067c6",
   "metadata": {
    "execution": {
     "iopub.execute_input": "2025-07-28T10:28:31.939526Z",
     "iopub.status.busy": "2025-07-28T10:28:31.938971Z",
     "iopub.status.idle": "2025-07-28T10:28:31.948556Z",
     "shell.execute_reply": "2025-07-28T10:28:31.947599Z"
    },
    "papermill": {
     "duration": 0.040776,
     "end_time": "2025-07-28T10:28:31.950215",
     "exception": false,
     "start_time": "2025-07-28T10:28:31.909439",
     "status": "completed"
    },
    "tags": []
   },
   "outputs": [
    {
     "data": {
      "text/plain": [
       "accuracy                   0.223420\n",
       "balanced accuracy          0.546492\n",
       "f1                         0.244778\n",
       "precision                  0.139833\n",
       "false positive rate        0.888072\n",
       "false negative rate        0.018943\n",
       "selection rate             0.900000\n",
       "count                  89710.000000\n",
       "dtype: float64"
      ]
     },
     "execution_count": 67,
     "metadata": {},
     "output_type": "execute_result"
    }
   ],
   "source": [
    "metric_frame.overall"
   ]
  },
  {
   "cell_type": "markdown",
   "id": "e968fe9d",
   "metadata": {
    "papermill": {
     "duration": 0.024522,
     "end_time": "2025-07-28T10:28:31.999651",
     "exception": false,
     "start_time": "2025-07-28T10:28:31.975129",
     "status": "completed"
    },
    "tags": []
   },
   "source": [
    "By Group"
   ]
  },
  {
   "cell_type": "code",
   "execution_count": 68,
   "id": "ec325bce",
   "metadata": {
    "execution": {
     "iopub.execute_input": "2025-07-28T10:28:32.050321Z",
     "iopub.status.busy": "2025-07-28T10:28:32.049802Z",
     "iopub.status.idle": "2025-07-28T10:28:32.069544Z",
     "shell.execute_reply": "2025-07-28T10:28:32.068518Z"
    },
    "papermill": {
     "duration": 0.04753,
     "end_time": "2025-07-28T10:28:32.071486",
     "exception": false,
     "start_time": "2025-07-28T10:28:32.023956",
     "status": "completed"
    },
    "tags": []
   },
   "outputs": [
    {
     "data": {
      "text/html": [
       "<div>\n",
       "<style scoped>\n",
       "    .dataframe tbody tr th:only-of-type {\n",
       "        vertical-align: middle;\n",
       "    }\n",
       "\n",
       "    .dataframe tbody tr th {\n",
       "        vertical-align: top;\n",
       "    }\n",
       "\n",
       "    .dataframe thead th {\n",
       "        text-align: right;\n",
       "    }\n",
       "</style>\n",
       "<table border=\"1\" class=\"dataframe\">\n",
       "  <thead>\n",
       "    <tr style=\"text-align: right;\">\n",
       "      <th></th>\n",
       "      <th>accuracy</th>\n",
       "      <th>balanced accuracy</th>\n",
       "      <th>f1</th>\n",
       "      <th>precision</th>\n",
       "      <th>false positive rate</th>\n",
       "      <th>false negative rate</th>\n",
       "      <th>selection rate</th>\n",
       "      <th>count</th>\n",
       "    </tr>\n",
       "    <tr>\n",
       "      <th>majmin</th>\n",
       "      <th></th>\n",
       "      <th></th>\n",
       "      <th></th>\n",
       "      <th></th>\n",
       "      <th></th>\n",
       "      <th></th>\n",
       "      <th></th>\n",
       "      <th></th>\n",
       "    </tr>\n",
       "  </thead>\n",
       "  <tbody>\n",
       "    <tr>\n",
       "      <th>majority</th>\n",
       "      <td>0.243979</td>\n",
       "      <td>0.555994</td>\n",
       "      <td>0.255177</td>\n",
       "      <td>0.146684</td>\n",
       "      <td>0.868099</td>\n",
       "      <td>0.019912</td>\n",
       "      <td>0.882897</td>\n",
       "      <td>69170.0</td>\n",
       "    </tr>\n",
       "    <tr>\n",
       "      <th>minority</th>\n",
       "      <td>0.154187</td>\n",
       "      <td>0.515374</td>\n",
       "      <td>0.211644</td>\n",
       "      <td>0.118562</td>\n",
       "      <td>0.954050</td>\n",
       "      <td>0.015203</td>\n",
       "      <td>0.957595</td>\n",
       "      <td>20540.0</td>\n",
       "    </tr>\n",
       "  </tbody>\n",
       "</table>\n",
       "</div>"
      ],
      "text/plain": [
       "          accuracy  balanced accuracy        f1  precision  \\\n",
       "majmin                                                       \n",
       "majority  0.243979           0.555994  0.255177   0.146684   \n",
       "minority  0.154187           0.515374  0.211644   0.118562   \n",
       "\n",
       "          false positive rate  false negative rate  selection rate    count  \n",
       "majmin                                                                       \n",
       "majority             0.868099             0.019912        0.882897  69170.0  \n",
       "minority             0.954050             0.015203        0.957595  20540.0  "
      ]
     },
     "execution_count": 68,
     "metadata": {},
     "output_type": "execute_result"
    }
   ],
   "source": [
    "metric_frame.by_group"
   ]
  },
  {
   "cell_type": "code",
   "execution_count": 69,
   "id": "a9ddbe63",
   "metadata": {
    "execution": {
     "iopub.execute_input": "2025-07-28T10:28:32.132078Z",
     "iopub.status.busy": "2025-07-28T10:28:32.131573Z",
     "iopub.status.idle": "2025-07-28T10:28:34.652819Z",
     "shell.execute_reply": "2025-07-28T10:28:34.651844Z"
    },
    "papermill": {
     "duration": 2.553244,
     "end_time": "2025-07-28T10:28:34.654497",
     "exception": false,
     "start_time": "2025-07-28T10:28:32.101253",
     "status": "completed"
    },
    "tags": []
   },
   "outputs": [
    {
     "data": {
      "text/plain": [
       "array([[<Axes: title={'center': 'accuracy'}, xlabel='majmin'>,\n",
       "        <Axes: title={'center': 'balanced accuracy'}, xlabel='majmin'>,\n",
       "        <Axes: title={'center': 'f1'}, xlabel='majmin'>],\n",
       "       [<Axes: title={'center': 'precision'}, xlabel='majmin'>,\n",
       "        <Axes: title={'center': 'false positive rate'}, xlabel='majmin'>,\n",
       "        <Axes: title={'center': 'false negative rate'}, xlabel='majmin'>],\n",
       "       [<Axes: title={'center': 'selection rate'}, xlabel='majmin'>,\n",
       "        <Axes: title={'center': 'count'}, xlabel='majmin'>,\n",
       "        <Axes: xlabel='majmin'>]], dtype=object)"
      ]
     },
     "execution_count": 69,
     "metadata": {},
     "output_type": "execute_result"
    },
    {
     "data": {
      "image/png": "[encoded data removed]",
      "text/plain": [
       "<Figure size 1200x800 with 9 Axes>"
      ]
     },
     "metadata": {},
     "output_type": "display_data"
    }
   ],
   "source": [
    "# In a graphic\n",
    "metric_frame.by_group.plot.bar(\n",
    "    subplots=True,\n",
    "    layout=[3, 3],\n",
    "    legend=False,\n",
    "    figsize=[12, 8],\n",
    "    title=\"Show all metrics\",\n",
    ")"
   ]
  },
  {
   "cell_type": "markdown",
   "id": "f57a0bac",
   "metadata": {
    "papermill": {
     "duration": 0.014637,
     "end_time": "2025-07-28T10:28:34.684907",
     "exception": false,
     "start_time": "2025-07-28T10:28:34.670270",
     "status": "completed"
    },
    "tags": []
   },
   "source": [
    "# Final Output"
   ]
  },
  {
   "cell_type": "code",
   "execution_count": 70,
   "id": "96d280a3",
   "metadata": {
    "execution": {
     "iopub.execute_input": "2025-07-28T10:28:34.719601Z",
     "iopub.status.busy": "2025-07-28T10:28:34.718998Z",
     "iopub.status.idle": "2025-07-28T10:28:34.728079Z",
     "shell.execute_reply": "2025-07-28T10:28:34.727161Z"
    },
    "papermill": {
     "duration": 0.030036,
     "end_time": "2025-07-28T10:28:34.729675",
     "exception": false,
     "start_time": "2025-07-28T10:28:34.699639",
     "status": "completed"
    },
    "tags": []
   },
   "outputs": [
    {
     "data": {
      "text/plain": [
       "4"
      ]
     },
     "execution_count": 70,
     "metadata": {},
     "output_type": "execute_result"
    }
   ],
   "source": [
    "sub_universes = universe_analysis.generate_sub_universes()\n",
    "len(sub_universes)"
   ]
  },
  {
   "cell_type": "code",
   "execution_count": 71,
   "id": "92adf7ba",
   "metadata": {
    "execution": {
     "iopub.execute_input": "2025-07-28T10:28:34.793456Z",
     "iopub.status.busy": "2025-07-28T10:28:34.792527Z",
     "iopub.status.idle": "2025-07-28T10:28:34.799015Z",
     "shell.execute_reply": "2025-07-28T10:28:34.797992Z"
    },
    "papermill": {
     "duration": 0.036846,
     "end_time": "2025-07-28T10:28:34.800697",
     "exception": false,
     "start_time": "2025-07-28T10:28:34.763851",
     "status": "completed"
    },
    "tags": []
   },
   "outputs": [],
   "source": [
    "def filter_sub_universe_data(sub_universe, org_test):\n",
    "    # Keep all rows — no filtering\n",
    "    keep_rows_mask = np.ones(org_test.shape[0], dtype=bool)\n",
    "\n",
    "    print(f\"[INFO] Keeping all rows: {keep_rows_mask.sum()} rows retained.\")\n",
    "    return keep_rows_mask"
   ]
  },
  {
   "cell_type": "code",
   "execution_count": 72,
   "id": "4a759155",
   "metadata": {
    "execution": {
     "iopub.execute_input": "2025-07-28T10:28:34.857689Z",
     "iopub.status.busy": "2025-07-28T10:28:34.857189Z",
     "iopub.status.idle": "2025-07-28T10:28:43.454813Z",
     "shell.execute_reply": "2025-07-28T10:28:43.453812Z"
    },
    "papermill": {
     "duration": 8.62832,
     "end_time": "2025-07-28T10:28:43.456717",
     "exception": false,
     "start_time": "2025-07-28T10:28:34.828397",
     "status": "completed"
    },
    "tags": []
   },
   "outputs": [
    {
     "name": "stdout",
     "output_type": "stream",
     "text": [
      "Stopping execution_time clock.\n",
      "[INFO] Keeping all rows: 89710 rows retained.\n"
     ]
    },
    {
     "name": "stdout",
     "output_type": "stream",
     "text": [
      "[INFO] Keeping all rows: 89710 rows retained.\n"
     ]
    },
    {
     "name": "stdout",
     "output_type": "stream",
     "text": [
      "[INFO] Keeping all rows: 89710 rows retained.\n"
     ]
    },
    {
     "name": "stdout",
     "output_type": "stream",
     "text": [
      "[INFO] Keeping all rows: 89710 rows retained.\n"
     ]
    },
    {
     "data": {
      "text/html": [
       "<div>\n",
       "<style scoped>\n",
       "    .dataframe tbody tr th:only-of-type {\n",
       "        vertical-align: middle;\n",
       "    }\n",
       "\n",
       "    .dataframe tbody tr th {\n",
       "        vertical-align: top;\n",
       "    }\n",
       "\n",
       "    .dataframe thead th {\n",
       "        text-align: right;\n",
       "    }\n",
       "</style>\n",
       "<table border=\"1\" class=\"dataframe\">\n",
       "  <thead>\n",
       "    <tr style=\"text-align: right;\">\n",
       "      <th></th>\n",
       "      <th>run_no</th>\n",
       "      <th>universe_id</th>\n",
       "      <th>universe_settings</th>\n",
       "      <th>execution_time</th>\n",
       "      <th>test_size_n</th>\n",
       "      <th>test_size_frac</th>\n",
       "      <th>fair_main_equalized_odds_difference</th>\n",
       "      <th>fair_main_equalized_odds_ratio</th>\n",
       "      <th>fair_main_demographic_parity_difference</th>\n",
       "      <th>fair_main_demographic_parity_ratio</th>\n",
       "      <th>...</th>\n",
       "      <th>perf_grp_precision_0</th>\n",
       "      <th>perf_grp_precision_1</th>\n",
       "      <th>perf_grp_false positive rate_0</th>\n",
       "      <th>perf_grp_false positive rate_1</th>\n",
       "      <th>perf_grp_false negative rate_0</th>\n",
       "      <th>perf_grp_false negative rate_1</th>\n",
       "      <th>perf_grp_selection rate_0</th>\n",
       "      <th>perf_grp_selection rate_1</th>\n",
       "      <th>perf_grp_count_0</th>\n",
       "      <th>perf_grp_count_1</th>\n",
       "    </tr>\n",
       "  </thead>\n",
       "  <tbody>\n",
       "    <tr>\n",
       "      <th>0</th>\n",
       "      <td>11</td>\n",
       "      <td>5f54ea501277f628bdb509dd8deaea58</td>\n",
       "      <td>{\"cutoff\": \"quantile_0.1\", \"eval_fairness_grou...</td>\n",
       "      <td>27.796057</td>\n",
       "      <td>89710</td>\n",
       "      <td>1.0</td>\n",
       "      <td>0.085951</td>\n",
       "      <td>0.909909</td>\n",
       "      <td>0.074698</td>\n",
       "      <td>0.921994</td>\n",
       "      <td>...</td>\n",
       "      <td>NaN</td>\n",
       "      <td>NaN</td>\n",
       "      <td>NaN</td>\n",
       "      <td>NaN</td>\n",
       "      <td>NaN</td>\n",
       "      <td>NaN</td>\n",
       "      <td>NaN</td>\n",
       "      <td>NaN</td>\n",
       "      <td>NaN</td>\n",
       "      <td>NaN</td>\n",
       "    </tr>\n",
       "    <tr>\n",
       "      <th>0</th>\n",
       "      <td>11</td>\n",
       "      <td>5f54ea501277f628bdb509dd8deaea58</td>\n",
       "      <td>{\"cutoff\": \"quantile_0.1\", \"eval_fairness_grou...</td>\n",
       "      <td>27.796057</td>\n",
       "      <td>89710</td>\n",
       "      <td>1.0</td>\n",
       "      <td>0.085951</td>\n",
       "      <td>0.909909</td>\n",
       "      <td>0.074698</td>\n",
       "      <td>0.921994</td>\n",
       "      <td>...</td>\n",
       "      <td>0.118562</td>\n",
       "      <td>0.146684</td>\n",
       "      <td>0.954050</td>\n",
       "      <td>0.868099</td>\n",
       "      <td>0.015203</td>\n",
       "      <td>0.019912</td>\n",
       "      <td>0.957595</td>\n",
       "      <td>0.882897</td>\n",
       "      <td>20540.0</td>\n",
       "      <td>69170.0</td>\n",
       "    </tr>\n",
       "    <tr>\n",
       "      <th>0</th>\n",
       "      <td>11</td>\n",
       "      <td>5f54ea501277f628bdb509dd8deaea58</td>\n",
       "      <td>{\"cutoff\": \"quantile_0.25\", \"eval_fairness_gro...</td>\n",
       "      <td>27.796057</td>\n",
       "      <td>89710</td>\n",
       "      <td>1.0</td>\n",
       "      <td>0.163749</td>\n",
       "      <td>0.807064</td>\n",
       "      <td>0.142646</td>\n",
       "      <td>0.834128</td>\n",
       "      <td>...</td>\n",
       "      <td>NaN</td>\n",
       "      <td>NaN</td>\n",
       "      <td>NaN</td>\n",
       "      <td>NaN</td>\n",
       "      <td>NaN</td>\n",
       "      <td>NaN</td>\n",
       "      <td>NaN</td>\n",
       "      <td>NaN</td>\n",
       "      <td>NaN</td>\n",
       "      <td>NaN</td>\n",
       "    </tr>\n",
       "    <tr>\n",
       "      <th>0</th>\n",
       "      <td>11</td>\n",
       "      <td>5f54ea501277f628bdb509dd8deaea58</td>\n",
       "      <td>{\"cutoff\": \"quantile_0.25\", \"eval_fairness_gro...</td>\n",
       "      <td>27.796057</td>\n",
       "      <td>89710</td>\n",
       "      <td>1.0</td>\n",
       "      <td>0.163749</td>\n",
       "      <td>0.807064</td>\n",
       "      <td>0.142646</td>\n",
       "      <td>0.834128</td>\n",
       "      <td>...</td>\n",
       "      <td>0.126868</td>\n",
       "      <td>0.171289</td>\n",
       "      <td>0.848723</td>\n",
       "      <td>0.684974</td>\n",
       "      <td>0.053632</td>\n",
       "      <td>0.070131</td>\n",
       "      <td>0.859981</td>\n",
       "      <td>0.717334</td>\n",
       "      <td>20540.0</td>\n",
       "      <td>69170.0</td>\n",
       "    </tr>\n",
       "  </tbody>\n",
       "</table>\n",
       "<p>4 rows × 50 columns</p>\n",
       "</div>"
      ],
      "text/plain": [
       "  run_no                       universe_id  \\\n",
       "0     11  5f54ea501277f628bdb509dd8deaea58   \n",
       "0     11  5f54ea501277f628bdb509dd8deaea58   \n",
       "0     11  5f54ea501277f628bdb509dd8deaea58   \n",
       "0     11  5f54ea501277f628bdb509dd8deaea58   \n",
       "\n",
       "                                   universe_settings  execution_time  \\\n",
       "0  {\"cutoff\": \"quantile_0.1\", \"eval_fairness_grou...       27.796057   \n",
       "0  {\"cutoff\": \"quantile_0.1\", \"eval_fairness_grou...       27.796057   \n",
       "0  {\"cutoff\": \"quantile_0.25\", \"eval_fairness_gro...       27.796057   \n",
       "0  {\"cutoff\": \"quantile_0.25\", \"eval_fairness_gro...       27.796057   \n",
       "\n",
       "   test_size_n  test_size_frac  fair_main_equalized_odds_difference  \\\n",
       "0        89710             1.0                             0.085951   \n",
       "0        89710             1.0                             0.085951   \n",
       "0        89710             1.0                             0.163749   \n",
       "0        89710             1.0                             0.163749   \n",
       "\n",
       "   fair_main_equalized_odds_ratio  fair_main_demographic_parity_difference  \\\n",
       "0                        0.909909                                 0.074698   \n",
       "0                        0.909909                                 0.074698   \n",
       "0                        0.807064                                 0.142646   \n",
       "0                        0.807064                                 0.142646   \n",
       "\n",
       "   fair_main_demographic_parity_ratio  ...  perf_grp_precision_0  \\\n",
       "0                            0.921994  ...                   NaN   \n",
       "0                            0.921994  ...              0.118562   \n",
       "0                            0.834128  ...                   NaN   \n",
       "0                            0.834128  ...              0.126868   \n",
       "\n",
       "   perf_grp_precision_1  perf_grp_false positive rate_0  \\\n",
       "0                   NaN                             NaN   \n",
       "0              0.146684                        0.954050   \n",
       "0                   NaN                             NaN   \n",
       "0              0.171289                        0.848723   \n",
       "\n",
       "   perf_grp_false positive rate_1  perf_grp_false negative rate_0  \\\n",
       "0                             NaN                             NaN   \n",
       "0                        0.868099                        0.015203   \n",
       "0                             NaN                             NaN   \n",
       "0                        0.684974                        0.053632   \n",
       "\n",
       "   perf_grp_false negative rate_1  perf_grp_selection rate_0  \\\n",
       "0                             NaN                        NaN   \n",
       "0                        0.019912                   0.957595   \n",
       "0                             NaN                        NaN   \n",
       "0                        0.070131                   0.859981   \n",
       "\n",
       "   perf_grp_selection rate_1  perf_grp_count_0  perf_grp_count_1  \n",
       "0                        NaN               NaN               NaN  \n",
       "0                   0.882897           20540.0           69170.0  \n",
       "0                        NaN               NaN               NaN  \n",
       "0                   0.717334           20540.0           69170.0  \n",
       "\n",
       "[4 rows x 50 columns]"
      ]
     },
     "execution_count": 72,
     "metadata": {},
     "output_type": "execute_result"
    }
   ],
   "source": [
    "final_output = universe_analysis.generate_final_output(\n",
    "    y_pred_prob=probs_test,\n",
    "    y_test=y_true,\n",
    "    org_test=org_test,\n",
    "    filter_data=filter_sub_universe_data,\n",
    "    cp_metrics_df=cp_metrics_df,\n",
    "    save=True,\n",
    ")\n",
    "final_output"
   ]
  },
  {
   "cell_type": "code",
   "execution_count": null,
   "id": "721ff514-cb11-46f8-b6fc-50392f74b5cb",
   "metadata": {
    "papermill": {
     "duration": 0.028444,
     "end_time": "2025-07-28T10:28:43.518229",
     "exception": false,
     "start_time": "2025-07-28T10:28:43.489785",
     "status": "completed"
    },
    "tags": []
   },
   "outputs": [],
   "source": []
  }
 ],
 "metadata": {
  "celltoolbar": "Tags",
  "kernelspec": {
   "display_name": "Python (CMA Fairness)",
   "language": "python",
   "name": "cma_fair_env"
  },
  "language_info": {
   "codemirror_mode": {
    "name": "ipython",
    "version": 3
   },
   "file_extension": ".py",
   "mimetype": "text/x-python",
   "name": "python",
   "nbconvert_exporter": "python",
   "pygments_lexer": "ipython3",
   "version": "3.10.12"
  },
  "papermill": {
   "default_parameters": {},
   "duration": 40.782077,
   "end_time": "2025-07-28T10:28:44.265674",
   "environment_variables": {},
   "exception": null,
   "input_path": "universe_analysis.ipynb",
   "output_path": "output/runs/11/notebooks/m_11-5f54ea501277f628bdb509dd8deaea58.ipynb",
   "parameters": {
    "output_dir": "output",
    "run_no": "11",
    "seed": "2023",
    "universe": "{\"cutoff\": [\"quantile_0.1\", \"quantile_0.25\"], \"eval_fairness_grouping\": [\"majority-minority\", \"nationality-all\"], \"exclude_features\": \"none\", \"exclude_subgroups\": \"keep-all\", \"model\": \"penalized_logreg\", \"scale\": \"scale\", \"training_size\": \"5k\"}",
    "universe_id": "5f54ea501277f628bdb509dd8deaea58"
   },
   "start_time": "2025-07-28T10:28:03.483597",
   "version": "2.6.0"
  }
 },
 "nbformat": 4,
 "nbformat_minor": 5
}