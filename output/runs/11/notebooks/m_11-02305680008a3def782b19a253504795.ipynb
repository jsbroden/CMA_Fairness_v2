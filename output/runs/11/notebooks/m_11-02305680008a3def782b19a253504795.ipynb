{
 "cells": [
  {
   "cell_type": "code",
   "execution_count": 1,
   "id": "f159f837-637b-42ba-96b5-ec9a68c44524",
   "metadata": {
    "execution": {
     "iopub.execute_input": "2025-07-28T10:36:36.226794Z",
     "iopub.status.busy": "2025-07-28T10:36:36.226231Z",
     "iopub.status.idle": "2025-07-28T10:36:36.241595Z",
     "shell.execute_reply": "2025-07-28T10:36:36.240289Z"
    },
    "papermill": {
     "duration": 0.038829,
     "end_time": "2025-07-28T10:36:36.243515",
     "exception": false,
     "start_time": "2025-07-28T10:36:36.204686",
     "status": "completed"
    },
    "tags": []
   },
   "outputs": [
    {
     "name": "stdout",
     "output_type": "stream",
     "text": [
      "/dss/dsshome1/0C/ra93lal2/cma/CMA_Fairness_v2\n"
     ]
    },
    {
     "name": "stderr",
     "output_type": "stream",
     "text": [
      "/dss/dsshome1/0C/ra93lal2/.local/share/virtualenvs/CMA_Fairness_v2-3j10GkSs/lib/python3.10/site-packages/IPython/core/magics/osm.py:393: UserWarning: This is now an optional IPython functionality, using bookmarks requires you to install the `pickleshare` library.\n",
      "  bkms = self.shell.db.get('bookmarks', {})\n",
      "/dss/dsshome1/0C/ra93lal2/.local/share/virtualenvs/CMA_Fairness_v2-3j10GkSs/lib/python3.10/site-packages/IPython/core/magics/osm.py:417: UserWarning: This is now an optional IPython functionality, setting dhist requires you to install the `pickleshare` library.\n",
      "  self.shell.db['dhist'] = compress_dhist(dhist)[-100:]\n"
     ]
    }
   ],
   "source": [
    "%cd ~/cma/CMA_Fairness_v2"
   ]
  },
  {
   "cell_type": "markdown",
   "id": "de2603b9",
   "metadata": {
    "papermill": {
     "duration": 0.019494,
     "end_time": "2025-07-28T10:36:36.283541",
     "exception": false,
     "start_time": "2025-07-28T10:36:36.264047",
     "status": "completed"
    },
    "tags": []
   },
   "source": [
    "The following cell holds the definition of our parameters, these values can be overriden by rendering the with e.g. the following command:\n",
    "\n",
    "papermill -p alpha 0.2 -p ratio 0.3 universe_analysis.ipynb output/test_run.ipynb"
   ]
  },
  {
   "cell_type": "code",
   "execution_count": 2,
   "id": "a80968a0-40bb-4fa9-85ef-2d5eefb01975",
   "metadata": {
    "execution": {
     "iopub.execute_input": "2025-07-28T10:36:36.324012Z",
     "iopub.status.busy": "2025-07-28T10:36:36.323257Z",
     "iopub.status.idle": "2025-07-28T10:36:36.329189Z",
     "shell.execute_reply": "2025-07-28T10:36:36.328072Z"
    },
    "papermill": {
     "duration": 0.028475,
     "end_time": "2025-07-28T10:36:36.330979",
     "exception": false,
     "start_time": "2025-07-28T10:36:36.302504",
     "status": "completed"
    },
    "tags": []
   },
   "outputs": [
    {
     "name": "stdout",
     "output_type": "stream",
     "text": [
      "Current working directory: /dss/dsshome1/0C/ra93lal2/cma/CMA_Fairness_v2\n"
     ]
    }
   ],
   "source": [
    "import os\n",
    "print(\"Current working directory:\", os.getcwd())"
   ]
  },
  {
   "cell_type": "code",
   "execution_count": 3,
   "id": "2dce4c03",
   "metadata": {
    "execution": {
     "iopub.execute_input": "2025-07-28T10:36:36.373408Z",
     "iopub.status.busy": "2025-07-28T10:36:36.372752Z",
     "iopub.status.idle": "2025-07-28T10:36:36.379174Z",
     "shell.execute_reply": "2025-07-28T10:36:36.378158Z"
    },
    "papermill": {
     "duration": 0.028338,
     "end_time": "2025-07-28T10:36:36.380805",
     "exception": false,
     "start_time": "2025-07-28T10:36:36.352467",
     "status": "completed"
    },
    "tags": [
     "parameters"
    ]
   },
   "outputs": [],
   "source": [
    "run_no = 0\n",
    "universe_id = \"test\"\n",
    "universe = {\n",
    "    \"training_size\": \"2014\", # \"25k\", \"5k\", \"1k\", \"2014\"\n",
    "    \"scale\": \"scale\", # \"scale\", \"do-not-scale\",\n",
    "    #\"stratify_split\": \"target\", # \"none\", \"target\", \"protected-attribute\", \"both\",\n",
    "    \"model\": \"elasticnet\", # \"logreg\", \"penalized_logreg\", \"rf\", \"gbm\", \"elasticnet\"\n",
    "    \"cutoff\": [\"quantile_0.15\", \"quantile_0.30\"],\n",
    "    \"exclude_features\": \"age\", # \"none\", \"nationality\", \"sex\", \"nationality-sex\", \"age\"\n",
    "    \"exclude_subgroups\": \"keep-all\", # \"keep-all\", \"drop-non-german\"\n",
    "    #\"training_sample\": \"restricted\", # \"restricted\", \"full\"\n",
    "    \"eval_fairness_grouping\": [\"majority-minority\", \"nationality-all\"]\n",
    "}\n",
    "\n",
    "output_dir=\"./output\"\n",
    "seed=0"
   ]
  },
  {
   "cell_type": "code",
   "execution_count": 4,
   "id": "9b6ed6be",
   "metadata": {
    "execution": {
     "iopub.execute_input": "2025-07-28T10:36:36.423205Z",
     "iopub.status.busy": "2025-07-28T10:36:36.422672Z",
     "iopub.status.idle": "2025-07-28T10:36:36.428283Z",
     "shell.execute_reply": "2025-07-28T10:36:36.427183Z"
    },
    "papermill": {
     "duration": 0.028822,
     "end_time": "2025-07-28T10:36:36.429866",
     "exception": false,
     "start_time": "2025-07-28T10:36:36.401044",
     "status": "completed"
    },
    "tags": [
     "injected-parameters"
    ]
   },
   "outputs": [],
   "source": [
    "# Parameters\n",
    "universe_id = \"02305680008a3def782b19a253504795\"\n",
    "run_no = \"11\"\n",
    "universe = \"{\\\"cutoff\\\": [\\\"quantile_0.1\\\", \\\"quantile_0.25\\\"], \\\"eval_fairness_grouping\\\": [\\\"majority-minority\\\", \\\"nationality-all\\\"], \\\"exclude_features\\\": \\\"none\\\", \\\"exclude_subgroups\\\": \\\"keep-all\\\", \\\"model\\\": \\\"rf\\\", \\\"scale\\\": \\\"do-not-scale\\\", \\\"training_size\\\": \\\"5k\\\"}\"\n",
    "output_dir = \"output\"\n",
    "seed = \"2023\"\n"
   ]
  },
  {
   "cell_type": "code",
   "execution_count": 5,
   "id": "1650acaf",
   "metadata": {
    "execution": {
     "iopub.execute_input": "2025-07-28T10:36:36.471042Z",
     "iopub.status.busy": "2025-07-28T10:36:36.470240Z",
     "iopub.status.idle": "2025-07-28T10:36:36.475661Z",
     "shell.execute_reply": "2025-07-28T10:36:36.474627Z"
    },
    "papermill": {
     "duration": 0.027783,
     "end_time": "2025-07-28T10:36:36.477490",
     "exception": false,
     "start_time": "2025-07-28T10:36:36.449707",
     "status": "completed"
    },
    "tags": []
   },
   "outputs": [],
   "source": [
    "import json\n",
    "# Parse universe into dict if it is passed as a string\n",
    "if isinstance(universe, str):\n",
    "    universe = json.loads(universe)"
   ]
  },
  {
   "cell_type": "code",
   "execution_count": 6,
   "id": "16620c48",
   "metadata": {
    "execution": {
     "iopub.execute_input": "2025-07-28T10:36:36.519190Z",
     "iopub.status.busy": "2025-07-28T10:36:36.518710Z",
     "iopub.status.idle": "2025-07-28T10:36:36.568451Z",
     "shell.execute_reply": "2025-07-28T10:36:36.567449Z"
    },
    "papermill": {
     "duration": 0.072292,
     "end_time": "2025-07-28T10:36:36.570368",
     "exception": false,
     "start_time": "2025-07-28T10:36:36.498076",
     "status": "completed"
    },
    "tags": []
   },
   "outputs": [],
   "source": [
    "# Auto-reload the custom package\n",
    "%load_ext autoreload\n",
    "%autoreload 1\n",
    "%aimport fairness_multiverse"
   ]
  },
  {
   "cell_type": "code",
   "execution_count": 7,
   "id": "01c5c9f3",
   "metadata": {
    "execution": {
     "iopub.execute_input": "2025-07-28T10:36:36.613278Z",
     "iopub.status.busy": "2025-07-28T10:36:36.612581Z",
     "iopub.status.idle": "2025-07-28T10:36:38.796017Z",
     "shell.execute_reply": "2025-07-28T10:36:38.794945Z"
    },
    "papermill": {
     "duration": 2.207529,
     "end_time": "2025-07-28T10:36:38.798176",
     "exception": false,
     "start_time": "2025-07-28T10:36:36.590647",
     "status": "completed"
    },
    "tags": []
   },
   "outputs": [],
   "source": [
    "from fairness_multiverse.universe import UniverseAnalysis\n",
    "\n",
    "universe_analysis = UniverseAnalysis(\n",
    "    run_no = run_no,\n",
    "    universe_id = universe_id,\n",
    "    universe = universe,\n",
    "    output_dir=output_dir,\n",
    ")"
   ]
  },
  {
   "cell_type": "code",
   "execution_count": 8,
   "id": "106241f5",
   "metadata": {
    "execution": {
     "iopub.execute_input": "2025-07-28T10:36:38.840505Z",
     "iopub.status.busy": "2025-07-28T10:36:38.839926Z",
     "iopub.status.idle": "2025-07-28T10:36:38.847588Z",
     "shell.execute_reply": "2025-07-28T10:36:38.846547Z"
    },
    "papermill": {
     "duration": 0.030515,
     "end_time": "2025-07-28T10:36:38.849307",
     "exception": false,
     "start_time": "2025-07-28T10:36:38.818792",
     "status": "completed"
    },
    "tags": []
   },
   "outputs": [
    {
     "name": "stdout",
     "output_type": "stream",
     "text": [
      "Using Seed: 2023\n"
     ]
    }
   ],
   "source": [
    "import numpy as np\n",
    "parsed_seed = int(seed)\n",
    "np.random.seed(parsed_seed)\n",
    "print(f\"Using Seed: {parsed_seed}\")"
   ]
  },
  {
   "cell_type": "markdown",
   "id": "e0ebdc57",
   "metadata": {
    "papermill": {
     "duration": 0.020753,
     "end_time": "2025-07-28T10:36:38.890672",
     "exception": false,
     "start_time": "2025-07-28T10:36:38.869919",
     "status": "completed"
    },
    "tags": []
   },
   "source": [
    "# Loading Data"
   ]
  },
  {
   "cell_type": "markdown",
   "id": "681925a3",
   "metadata": {
    "papermill": {
     "duration": 0.020163,
     "end_time": "2025-07-28T10:36:38.931517",
     "exception": false,
     "start_time": "2025-07-28T10:36:38.911354",
     "status": "completed"
    },
    "tags": []
   },
   "source": [
    "Load siab_train, siab_test, siab_calib and/or \n",
    "load siab_train_features, siab_train_labels"
   ]
  },
  {
   "cell_type": "code",
   "execution_count": 9,
   "id": "f0496b8a",
   "metadata": {
    "execution": {
     "iopub.execute_input": "2025-07-28T10:36:38.973838Z",
     "iopub.status.busy": "2025-07-28T10:36:38.973113Z",
     "iopub.status.idle": "2025-07-28T10:36:52.642825Z",
     "shell.execute_reply": "2025-07-28T10:36:52.641549Z"
    },
    "papermill": {
     "duration": 13.693504,
     "end_time": "2025-07-28T10:36:52.644657",
     "exception": false,
     "start_time": "2025-07-28T10:36:38.951153",
     "status": "completed"
    },
    "tags": []
   },
   "outputs": [
    {
     "name": "stdout",
     "output_type": "stream",
     "text": [
      "Loading SIAB data from cache: data/siab_cached.csv.gz\n"
     ]
    },
    {
     "name": "stdout",
     "output_type": "stream",
     "text": [
      "(643690, 164)\n"
     ]
    }
   ],
   "source": [
    "from pathlib import Path\n",
    "import pandas as pd\n",
    "\n",
    "# File paths\n",
    "raw_file = Path(\"data/raw/siab.csv\")\n",
    "cache_file = Path(\"data/siab_cached.csv.gz\")\n",
    "\n",
    "# Ensure cache directory exists\n",
    "cache_file.parent.mkdir(parents=True, exist_ok=True)\n",
    "\n",
    "# Load with simple caching\n",
    "if cache_file.exists():\n",
    "    print(f\"Loading SIAB data from cache: {cache_file}\")\n",
    "    siab = pd.read_csv(cache_file, compression='gzip')\n",
    "else:\n",
    "    print(f\"Cache not found. Reading raw SIAB data: {raw_file}\")\n",
    "    siab = pd.read_csv(raw_file)\n",
    "    siab.to_csv(cache_file, index=False, compression='gzip')\n",
    "    print(f\"Cached SIAB data to: {cache_file}\")\n",
    "\n",
    "# Now use `siab` DataFrame as needed\n",
    "print(siab.shape)"
   ]
  },
  {
   "cell_type": "code",
   "execution_count": 10,
   "id": "db0ca512-5f53-4dba-abdb-a2888bca41ba",
   "metadata": {
    "execution": {
     "iopub.execute_input": "2025-07-28T10:36:52.689520Z",
     "iopub.status.busy": "2025-07-28T10:36:52.688606Z",
     "iopub.status.idle": "2025-07-28T10:36:52.694855Z",
     "shell.execute_reply": "2025-07-28T10:36:52.693851Z"
    },
    "papermill": {
     "duration": 0.030106,
     "end_time": "2025-07-28T10:36:52.696561",
     "exception": false,
     "start_time": "2025-07-28T10:36:52.666455",
     "status": "completed"
    },
    "tags": []
   },
   "outputs": [],
   "source": [
    "#siab"
   ]
  },
  {
   "cell_type": "code",
   "execution_count": 11,
   "id": "a0edb063",
   "metadata": {
    "execution": {
     "iopub.execute_input": "2025-07-28T10:36:52.737689Z",
     "iopub.status.busy": "2025-07-28T10:36:52.736098Z",
     "iopub.status.idle": "2025-07-28T10:36:52.743466Z",
     "shell.execute_reply": "2025-07-28T10:36:52.741363Z"
    },
    "papermill": {
     "duration": 0.029262,
     "end_time": "2025-07-28T10:36:52.745231",
     "exception": false,
     "start_time": "2025-07-28T10:36:52.715969",
     "status": "completed"
    },
    "tags": []
   },
   "outputs": [],
   "source": [
    "#import pandas as pd\n",
    "#\n",
    "#X_train = pd.read_csv(\"./data/X_train.csv\")\n",
    "#y_train = pd.read_csv(\"./data/y_train.csv\")"
   ]
  },
  {
   "cell_type": "code",
   "execution_count": 12,
   "id": "63d08085",
   "metadata": {
    "execution": {
     "iopub.execute_input": "2025-07-28T10:36:52.788362Z",
     "iopub.status.busy": "2025-07-28T10:36:52.787639Z",
     "iopub.status.idle": "2025-07-28T10:36:52.792673Z",
     "shell.execute_reply": "2025-07-28T10:36:52.791677Z"
    },
    "papermill": {
     "duration": 0.027765,
     "end_time": "2025-07-28T10:36:52.794194",
     "exception": false,
     "start_time": "2025-07-28T10:36:52.766429",
     "status": "completed"
    },
    "tags": []
   },
   "outputs": [],
   "source": [
    "#X_test = pd.read_csv(\"./data/X_test.csv\")\n",
    "#y_true = pd.read_csv(\"./data/y_test.csv\")"
   ]
  },
  {
   "cell_type": "code",
   "execution_count": 13,
   "id": "98a8d0fa-1d3d-4ed8-bb2c-281470e24add",
   "metadata": {
    "execution": {
     "iopub.execute_input": "2025-07-28T10:36:52.836929Z",
     "iopub.status.busy": "2025-07-28T10:36:52.836213Z",
     "iopub.status.idle": "2025-07-28T10:36:52.841404Z",
     "shell.execute_reply": "2025-07-28T10:36:52.840426Z"
    },
    "papermill": {
     "duration": 0.028599,
     "end_time": "2025-07-28T10:36:52.843059",
     "exception": false,
     "start_time": "2025-07-28T10:36:52.814460",
     "status": "completed"
    },
    "tags": []
   },
   "outputs": [],
   "source": [
    "# Calibration data for conformal\n",
    "#X_calib = pd.read_csv(\"./data/X_calib.csv\")\n",
    "#y_calib = pd.read_csv(\"./data/y_calib.csv\")"
   ]
  },
  {
   "cell_type": "markdown",
   "id": "9901737e-04df-44f0-9100-f5ad144ed040",
   "metadata": {
    "papermill": {
     "duration": 0.019957,
     "end_time": "2025-07-28T10:36:52.882432",
     "exception": false,
     "start_time": "2025-07-28T10:36:52.862475",
     "status": "completed"
    },
    "tags": []
   },
   "source": [
    "# Splitting Data and Setting Training Data Size"
   ]
  },
  {
   "cell_type": "code",
   "execution_count": 14,
   "id": "acbc8f7d-8fc8-4e86-8c59-5dcb0f58384b",
   "metadata": {
    "execution": {
     "iopub.execute_input": "2025-07-28T10:36:52.924982Z",
     "iopub.status.busy": "2025-07-28T10:36:52.924235Z",
     "iopub.status.idle": "2025-07-28T10:36:52.933141Z",
     "shell.execute_reply": "2025-07-28T10:36:52.932159Z"
    },
    "papermill": {
     "duration": 0.030948,
     "end_time": "2025-07-28T10:36:52.934914",
     "exception": false,
     "start_time": "2025-07-28T10:36:52.903966",
     "status": "completed"
    },
    "tags": []
   },
   "outputs": [],
   "source": [
    "def sample_by_year(df, training_size, random_state=42):\n",
    "    if training_size == \"2014\":\n",
    "        return df[df[\"year\"] == 2014].reset_index(drop=True)\n",
    "    \n",
    "    size_map = {\n",
    "        \"25k\": 5000,\n",
    "        \"5k\": 1000,\n",
    "        \"1k\": 200\n",
    "    }\n",
    "\n",
    "    if training_size not in size_map:\n",
    "        return df.reset_index(drop=True)  # use all data\n",
    "\n",
    "    n_per_year = size_map[training_size]\n",
    "    grouped = df.groupby(\"year\")\n",
    "    sampled = grouped.apply(lambda x: x.sample(n=min(n_per_year, len(x)), random_state=random_state))\n",
    "    return sampled.reset_index(drop=True)"
   ]
  },
  {
   "cell_type": "code",
   "execution_count": 15,
   "id": "6d931f52-beaf-43ff-9e78-9d44a448d54e",
   "metadata": {
    "execution": {
     "iopub.execute_input": "2025-07-28T10:36:52.976695Z",
     "iopub.status.busy": "2025-07-28T10:36:52.975639Z",
     "iopub.status.idle": "2025-07-28T10:36:53.687152Z",
     "shell.execute_reply": "2025-07-28T10:36:53.686103Z"
    },
    "papermill": {
     "duration": 0.733703,
     "end_time": "2025-07-28T10:36:53.689281",
     "exception": false,
     "start_time": "2025-07-28T10:36:52.955578",
     "status": "completed"
    },
    "tags": []
   },
   "outputs": [],
   "source": [
    "siab_s = sample_by_year(siab, universe[\"training_size\"])"
   ]
  },
  {
   "cell_type": "code",
   "execution_count": 16,
   "id": "5db0a40e-a4e2-4920-be85-b12ae061d70d",
   "metadata": {
    "execution": {
     "iopub.execute_input": "2025-07-28T10:36:53.736880Z",
     "iopub.status.busy": "2025-07-28T10:36:53.736361Z",
     "iopub.status.idle": "2025-07-28T10:36:53.750463Z",
     "shell.execute_reply": "2025-07-28T10:36:53.749585Z"
    },
    "papermill": {
     "duration": 0.037146,
     "end_time": "2025-07-28T10:36:53.752377",
     "exception": false,
     "start_time": "2025-07-28T10:36:53.715231",
     "status": "completed"
    },
    "tags": []
   },
   "outputs": [
    {
     "data": {
      "text/plain": [
       "year\n",
       "2010    1000\n",
       "2011    1000\n",
       "2012    1000\n",
       "2013    1000\n",
       "2014    1000\n",
       "2015    1000\n",
       "2016    1000\n",
       "dtype: int64"
      ]
     },
     "metadata": {},
     "output_type": "display_data"
    }
   ],
   "source": [
    "display(siab_s.groupby(\"year\").size())"
   ]
  },
  {
   "cell_type": "code",
   "execution_count": 17,
   "id": "a561edb4-d032-42cb-8256-22eac1111c64",
   "metadata": {
    "execution": {
     "iopub.execute_input": "2025-07-28T10:36:53.794062Z",
     "iopub.status.busy": "2025-07-28T10:36:53.793400Z",
     "iopub.status.idle": "2025-07-28T10:36:54.030966Z",
     "shell.execute_reply": "2025-07-28T10:36:54.029907Z"
    },
    "papermill": {
     "duration": 0.260652,
     "end_time": "2025-07-28T10:36:54.033221",
     "exception": false,
     "start_time": "2025-07-28T10:36:53.772569",
     "status": "completed"
    },
    "tags": []
   },
   "outputs": [],
   "source": [
    "siab_train = siab_s[siab_s.year < 2015]\n",
    "siab_calib = siab[siab.year == 2015]\n",
    "siab_test = siab[siab.year == 2016]"
   ]
  },
  {
   "cell_type": "code",
   "execution_count": 18,
   "id": "472de16f-c3db-4916-846b-1f0de9cf1746",
   "metadata": {
    "execution": {
     "iopub.execute_input": "2025-07-28T10:36:54.075637Z",
     "iopub.status.busy": "2025-07-28T10:36:54.075029Z",
     "iopub.status.idle": "2025-07-28T10:36:54.083221Z",
     "shell.execute_reply": "2025-07-28T10:36:54.082242Z"
    },
    "papermill": {
     "duration": 0.03038,
     "end_time": "2025-07-28T10:36:54.084914",
     "exception": false,
     "start_time": "2025-07-28T10:36:54.054534",
     "status": "completed"
    },
    "tags": []
   },
   "outputs": [],
   "source": [
    "X_train = siab_train.iloc[:,4:164]\n",
    "y_train = siab_train.iloc[:, [3]]"
   ]
  },
  {
   "cell_type": "code",
   "execution_count": 19,
   "id": "828c96af-f43a-4ed6-ba47-8ac73a47d56c",
   "metadata": {
    "execution": {
     "iopub.execute_input": "2025-07-28T10:36:54.125790Z",
     "iopub.status.busy": "2025-07-28T10:36:54.125103Z",
     "iopub.status.idle": "2025-07-28T10:36:54.176633Z",
     "shell.execute_reply": "2025-07-28T10:36:54.175602Z"
    },
    "papermill": {
     "duration": 0.073975,
     "end_time": "2025-07-28T10:36:54.178742",
     "exception": false,
     "start_time": "2025-07-28T10:36:54.104767",
     "status": "completed"
    },
    "tags": []
   },
   "outputs": [],
   "source": [
    "X_calib = siab_calib.iloc[:,4:164]\n",
    "y_calib = siab_calib.iloc[:, [3]]"
   ]
  },
  {
   "cell_type": "code",
   "execution_count": 20,
   "id": "c34be9c3-6bd6-476e-acd3-845840e303be",
   "metadata": {
    "execution": {
     "iopub.execute_input": "2025-07-28T10:36:54.221315Z",
     "iopub.status.busy": "2025-07-28T10:36:54.220657Z",
     "iopub.status.idle": "2025-07-28T10:36:54.276666Z",
     "shell.execute_reply": "2025-07-28T10:36:54.275573Z"
    },
    "papermill": {
     "duration": 0.078508,
     "end_time": "2025-07-28T10:36:54.278298",
     "exception": false,
     "start_time": "2025-07-28T10:36:54.199790",
     "status": "completed"
    },
    "tags": []
   },
   "outputs": [],
   "source": [
    "X_test = siab_test.iloc[:,4:164]\n",
    "y_true = siab_test.iloc[:, [3]]"
   ]
  },
  {
   "cell_type": "code",
   "execution_count": 21,
   "id": "e6c733c5",
   "metadata": {
    "execution": {
     "iopub.execute_input": "2025-07-28T10:36:54.322535Z",
     "iopub.status.busy": "2025-07-28T10:36:54.321562Z",
     "iopub.status.idle": "2025-07-28T10:36:54.423791Z",
     "shell.execute_reply": "2025-07-28T10:36:54.422679Z"
    },
    "papermill": {
     "duration": 0.125425,
     "end_time": "2025-07-28T10:36:54.425389",
     "exception": false,
     "start_time": "2025-07-28T10:36:54.299964",
     "status": "completed"
    },
    "tags": []
   },
   "outputs": [],
   "source": [
    "# Auxiliary data needed downstream in the pipeline\n",
    "\n",
    "org_train = X_train.copy()\n",
    "org_test = X_test.copy()\n",
    "org_calib = X_calib.copy()"
   ]
  },
  {
   "cell_type": "markdown",
   "id": "0a4a1b33",
   "metadata": {
    "papermill": {
     "duration": 0.02143,
     "end_time": "2025-07-28T10:36:54.463921",
     "exception": false,
     "start_time": "2025-07-28T10:36:54.442491",
     "status": "completed"
    },
    "tags": []
   },
   "source": [
    "# Preprocessing Data"
   ]
  },
  {
   "cell_type": "code",
   "execution_count": 22,
   "id": "ca879031",
   "metadata": {
    "execution": {
     "iopub.execute_input": "2025-07-28T10:36:54.509042Z",
     "iopub.status.busy": "2025-07-28T10:36:54.508389Z",
     "iopub.status.idle": "2025-07-28T10:36:54.515333Z",
     "shell.execute_reply": "2025-07-28T10:36:54.514261Z"
    },
    "papermill": {
     "duration": 0.031618,
     "end_time": "2025-07-28T10:36:54.517081",
     "exception": false,
     "start_time": "2025-07-28T10:36:54.485463",
     "status": "completed"
    },
    "tags": []
   },
   "outputs": [],
   "source": [
    "# EXCLUDE PROTECTED FEATURES\n",
    "# ----------------------\n",
    "# \"exclude_features\": \"none\", # \"nationality\", \"sex\", \"nationality-sex\"\n",
    "\n",
    "excluded_features = universe[\"exclude_features\"].split(\"-\") # split, e.g.: \"nationality-sex\" -> [\"nationality\", \"sex\"]\n",
    "excluded_features_dictionary = {\n",
    "    \"nationality\": [\"maxdeutsch1\", \"maxdeutsch.Missing.\"],\n",
    "    \"sex\": [\"frau1\"],\n",
    "    \"age\": [\"age\"],\n",
    "}\n"
   ]
  },
  {
   "cell_type": "code",
   "execution_count": 23,
   "id": "b745ac60",
   "metadata": {
    "execution": {
     "iopub.execute_input": "2025-07-28T10:36:54.570530Z",
     "iopub.status.busy": "2025-07-28T10:36:54.570041Z",
     "iopub.status.idle": "2025-07-28T10:36:54.577115Z",
     "shell.execute_reply": "2025-07-28T10:36:54.575511Z"
    },
    "papermill": {
     "duration": 0.039863,
     "end_time": "2025-07-28T10:36:54.579211",
     "exception": false,
     "start_time": "2025-07-28T10:36:54.539348",
     "status": "completed"
    },
    "tags": []
   },
   "outputs": [],
   "source": [
    "# Code nice names to column names\n",
    "\n",
    "excluded_features_columns = [\n",
    "    excluded_features_dictionary[f] for f in excluded_features if len(f) > 0 and f != \"none\"\n",
    "]"
   ]
  },
  {
   "cell_type": "code",
   "execution_count": 24,
   "id": "f84f73a2",
   "metadata": {
    "execution": {
     "iopub.execute_input": "2025-07-28T10:36:54.625576Z",
     "iopub.status.busy": "2025-07-28T10:36:54.625042Z",
     "iopub.status.idle": "2025-07-28T10:36:54.631906Z",
     "shell.execute_reply": "2025-07-28T10:36:54.630870Z"
    },
    "papermill": {
     "duration": 0.031057,
     "end_time": "2025-07-28T10:36:54.633311",
     "exception": false,
     "start_time": "2025-07-28T10:36:54.602254",
     "status": "completed"
    },
    "tags": []
   },
   "outputs": [],
   "source": [
    "from utils import flatten_once\n",
    "\n",
    "excluded_features_columns = flatten_once(excluded_features_columns)"
   ]
  },
  {
   "cell_type": "code",
   "execution_count": 25,
   "id": "884dea22",
   "metadata": {
    "execution": {
     "iopub.execute_input": "2025-07-28T10:36:54.675808Z",
     "iopub.status.busy": "2025-07-28T10:36:54.675286Z",
     "iopub.status.idle": "2025-07-28T10:36:54.681428Z",
     "shell.execute_reply": "2025-07-28T10:36:54.680375Z"
    },
    "papermill": {
     "duration": 0.032304,
     "end_time": "2025-07-28T10:36:54.683310",
     "exception": false,
     "start_time": "2025-07-28T10:36:54.651006",
     "status": "completed"
    },
    "tags": []
   },
   "outputs": [],
   "source": [
    "if len(excluded_features_columns) > 0:\n",
    "    print(f\"Dropping features: {excluded_features_columns}\")\n",
    "    X_train.drop(excluded_features_columns, axis=1, inplace=True)"
   ]
  },
  {
   "cell_type": "code",
   "execution_count": 26,
   "id": "95ab8b16",
   "metadata": {
    "execution": {
     "iopub.execute_input": "2025-07-28T10:36:54.733502Z",
     "iopub.status.busy": "2025-07-28T10:36:54.732728Z",
     "iopub.status.idle": "2025-07-28T10:36:54.738854Z",
     "shell.execute_reply": "2025-07-28T10:36:54.737777Z"
    },
    "papermill": {
     "duration": 0.034798,
     "end_time": "2025-07-28T10:36:54.740672",
     "exception": false,
     "start_time": "2025-07-28T10:36:54.705874",
     "status": "completed"
    },
    "tags": []
   },
   "outputs": [],
   "source": [
    "if len(excluded_features_columns) > 0:\n",
    "    print(f\"Dropping features: {excluded_features_columns}\")\n",
    "    X_test.drop(excluded_features_columns, axis=1, inplace=True)"
   ]
  },
  {
   "cell_type": "code",
   "execution_count": 27,
   "id": "1853aaf5-fb9f-46cb-a2b5-8ea4ae2237e4",
   "metadata": {
    "execution": {
     "iopub.execute_input": "2025-07-28T10:36:54.787709Z",
     "iopub.status.busy": "2025-07-28T10:36:54.786942Z",
     "iopub.status.idle": "2025-07-28T10:36:54.792928Z",
     "shell.execute_reply": "2025-07-28T10:36:54.791895Z"
    },
    "papermill": {
     "duration": 0.030045,
     "end_time": "2025-07-28T10:36:54.794488",
     "exception": false,
     "start_time": "2025-07-28T10:36:54.764443",
     "status": "completed"
    },
    "tags": []
   },
   "outputs": [],
   "source": [
    "if len(excluded_features_columns) > 0:\n",
    "    print(f\"Dropping features: {excluded_features_columns}\")\n",
    "    X_calib.drop(excluded_features_columns, axis=1, inplace=True)"
   ]
  },
  {
   "cell_type": "code",
   "execution_count": 28,
   "id": "6727d079-03e5-481e-9d38-292a90b7a0a8",
   "metadata": {
    "execution": {
     "iopub.execute_input": "2025-07-28T10:36:54.838787Z",
     "iopub.status.busy": "2025-07-28T10:36:54.838214Z",
     "iopub.status.idle": "2025-07-28T10:36:54.843815Z",
     "shell.execute_reply": "2025-07-28T10:36:54.842779Z"
    },
    "papermill": {
     "duration": 0.030311,
     "end_time": "2025-07-28T10:36:54.845548",
     "exception": false,
     "start_time": "2025-07-28T10:36:54.815237",
     "status": "completed"
    },
    "tags": []
   },
   "outputs": [],
   "source": [
    "# SPLIT & STRATIFY DATA\n",
    "# ----------------------"
   ]
  },
  {
   "cell_type": "code",
   "execution_count": 29,
   "id": "76c4dc6d",
   "metadata": {
    "execution": {
     "iopub.execute_input": "2025-07-28T10:36:54.894353Z",
     "iopub.status.busy": "2025-07-28T10:36:54.893855Z",
     "iopub.status.idle": "2025-07-28T10:36:54.899938Z",
     "shell.execute_reply": "2025-07-28T10:36:54.898931Z"
    },
    "papermill": {
     "duration": 0.033111,
     "end_time": "2025-07-28T10:36:54.901801",
     "exception": false,
     "start_time": "2025-07-28T10:36:54.868690",
     "status": "completed"
    },
    "tags": []
   },
   "outputs": [],
   "source": [
    "# EXCLUDE CERTAIN SUBGROUPS\n",
    "# ----------------------\n",
    "\n",
    "mode = universe.get(\"exclude_subgroups\", \"keep-all\") \n",
    "# Fetches the exclude_subgroups setting from the universe dict.\n",
    "# Defaults to \"keep-all\" if the key is missing."
   ]
  },
  {
   "cell_type": "code",
   "execution_count": 30,
   "id": "21994072",
   "metadata": {
    "execution": {
     "iopub.execute_input": "2025-07-28T10:36:54.948809Z",
     "iopub.status.busy": "2025-07-28T10:36:54.947932Z",
     "iopub.status.idle": "2025-07-28T10:36:54.954187Z",
     "shell.execute_reply": "2025-07-28T10:36:54.953487Z"
    },
    "papermill": {
     "duration": 0.030343,
     "end_time": "2025-07-28T10:36:54.955650",
     "exception": false,
     "start_time": "2025-07-28T10:36:54.925307",
     "status": "completed"
    },
    "tags": []
   },
   "outputs": [],
   "source": [
    "if mode == \"keep-all\":\n",
    "    keep_mask = pd.Series(True, index=org_train.index)\n",
    "\n",
    "# org_train contains the original feature columns from features_org (in Simson)\n",
    "# features_org contains unprocessed features, for me X_train at beginning ???\n",
    "# For keep-all, creates a boolean Series (keep_mask) of all True, so no rows are removed.\n",
    "\n",
    "elif mode == \"drop-non-german\":\n",
    "    keep_mask = org_train[\"maxdeutsch1\"] == 1 # ??? what about missing values?\n",
    "\n",
    "else:\n",
    "    raise ValueError(f\"Unsupported mode for exclude_subgroups: {mode}\")\n"
   ]
  },
  {
   "cell_type": "code",
   "execution_count": 31,
   "id": "71651440",
   "metadata": {
    "execution": {
     "iopub.execute_input": "2025-07-28T10:36:54.979503Z",
     "iopub.status.busy": "2025-07-28T10:36:54.979096Z",
     "iopub.status.idle": "2025-07-28T10:36:54.984814Z",
     "shell.execute_reply": "2025-07-28T10:36:54.984083Z"
    },
    "papermill": {
     "duration": 0.018957,
     "end_time": "2025-07-28T10:36:54.986207",
     "exception": false,
     "start_time": "2025-07-28T10:36:54.967250",
     "status": "completed"
    },
    "tags": []
   },
   "outputs": [],
   "source": [
    "n_drop = (~keep_mask).sum() # Calculates how many rows are set to be dropped\n",
    "if n_drop > 0:\n",
    "    pct = n_drop / len(keep_mask) * 100\n",
    "    print(f\"Dropping {n_drop} rows ({pct:.2f}%) where mode='{mode}'\")"
   ]
  },
  {
   "cell_type": "code",
   "execution_count": 32,
   "id": "5fb8eee5",
   "metadata": {
    "execution": {
     "iopub.execute_input": "2025-07-28T10:36:55.011256Z",
     "iopub.status.busy": "2025-07-28T10:36:55.010721Z",
     "iopub.status.idle": "2025-07-28T10:36:55.019067Z",
     "shell.execute_reply": "2025-07-28T10:36:55.018285Z"
    },
    "papermill": {
     "duration": 0.022358,
     "end_time": "2025-07-28T10:36:55.020516",
     "exception": false,
     "start_time": "2025-07-28T10:36:54.998158",
     "status": "completed"
    },
    "tags": []
   },
   "outputs": [],
   "source": [
    "X_train = X_train[keep_mask]"
   ]
  },
  {
   "cell_type": "code",
   "execution_count": 33,
   "id": "b202bb3a",
   "metadata": {
    "execution": {
     "iopub.execute_input": "2025-07-28T10:36:55.045798Z",
     "iopub.status.busy": "2025-07-28T10:36:55.045290Z",
     "iopub.status.idle": "2025-07-28T10:36:55.051170Z",
     "shell.execute_reply": "2025-07-28T10:36:55.050418Z"
    },
    "papermill": {
     "duration": 0.019951,
     "end_time": "2025-07-28T10:36:55.052560",
     "exception": false,
     "start_time": "2025-07-28T10:36:55.032609",
     "status": "completed"
    },
    "tags": []
   },
   "outputs": [],
   "source": [
    "y_train = y_train[keep_mask]"
   ]
  },
  {
   "cell_type": "markdown",
   "id": "493e2ac3",
   "metadata": {
    "papermill": {
     "duration": 0.011445,
     "end_time": "2025-07-28T10:36:55.076106",
     "exception": false,
     "start_time": "2025-07-28T10:36:55.064661",
     "status": "completed"
    },
    "tags": []
   },
   "source": [
    "# Model Training"
   ]
  },
  {
   "cell_type": "code",
   "execution_count": 34,
   "id": "679e1268",
   "metadata": {
    "execution": {
     "iopub.execute_input": "2025-07-28T10:36:55.100668Z",
     "iopub.status.busy": "2025-07-28T10:36:55.100272Z",
     "iopub.status.idle": "2025-07-28T10:36:55.176575Z",
     "shell.execute_reply": "2025-07-28T10:36:55.175783Z"
    },
    "papermill": {
     "duration": 0.090598,
     "end_time": "2025-07-28T10:36:55.178085",
     "exception": false,
     "start_time": "2025-07-28T10:36:55.087487",
     "status": "completed"
    },
    "tags": []
   },
   "outputs": [],
   "source": [
    "from sklearn.linear_model import LogisticRegression\n",
    "from sklearn.ensemble import GradientBoostingClassifier, RandomForestClassifier\n",
    "\n",
    "if (universe[\"model\"] == \"logreg\"):\n",
    "    model = LogisticRegression() #penalty=\"none\") #, solver=\"newton-cg\", max_iter=1) # include random_state=19 ?\n",
    "elif (universe[\"model\"] == \"penalized_logreg\"):\n",
    "    model = LogisticRegression(penalty=\"l2\", C=1.0) #, solver=\"newton-cg\", max_iter=1)\n",
    "elif (universe[\"model\"] == \"rf\"):\n",
    "    model = RandomForestClassifier(n_estimators=100, n_jobs=-1)\n",
    "elif (universe[\"model\"] == \"gbm\"):\n",
    "    model = GradientBoostingClassifier()\n",
    "elif (universe[\"model\"] == \"elasticnet\"):\n",
    "    model = LogisticRegression(penalty = 'elasticnet', solver = 'saga', l1_ratio = 0.5, max_iter=5000) # which solver to use?\n",
    "else:\n",
    "    raise \"Unsupported universe.model\""
   ]
  },
  {
   "cell_type": "code",
   "execution_count": 35,
   "id": "0cc8f744",
   "metadata": {
    "execution": {
     "iopub.execute_input": "2025-07-28T10:36:55.202788Z",
     "iopub.status.busy": "2025-07-28T10:36:55.202224Z",
     "iopub.status.idle": "2025-07-28T10:36:55.207624Z",
     "shell.execute_reply": "2025-07-28T10:36:55.206925Z"
    },
    "papermill": {
     "duration": 0.01905,
     "end_time": "2025-07-28T10:36:55.208950",
     "exception": false,
     "start_time": "2025-07-28T10:36:55.189900",
     "status": "completed"
    },
    "tags": []
   },
   "outputs": [],
   "source": [
    "import numpy as np\n",
    "from sklearn.pipeline import Pipeline\n",
    "from sklearn.preprocessing import StandardScaler\n",
    "\n",
    "model = Pipeline([\n",
    "    #(\"continuous_processor\", continuous_processor),\n",
    "    #(\"categorical_preprocessor\", categorical_preprocessor),\n",
    "    (\"scale\", StandardScaler() if universe[\"scale\"] == \"scale\" else None), \n",
    "    (\"model\", model),\n",
    "])"
   ]
  },
  {
   "cell_type": "code",
   "execution_count": 36,
   "id": "9442c04d",
   "metadata": {
    "execution": {
     "iopub.execute_input": "2025-07-28T10:36:55.233215Z",
     "iopub.status.busy": "2025-07-28T10:36:55.232647Z",
     "iopub.status.idle": "2025-07-28T10:36:56.156901Z",
     "shell.execute_reply": "2025-07-28T10:36:56.155757Z"
    },
    "papermill": {
     "duration": 0.938173,
     "end_time": "2025-07-28T10:36:56.158905",
     "exception": false,
     "start_time": "2025-07-28T10:36:55.220732",
     "status": "completed"
    },
    "tags": []
   },
   "outputs": [
    {
     "data": {
      "text/html": [
       "<style>#sk-container-id-1 {color: black;background-color: white;}#sk-container-id-1 pre{padding: 0;}#sk-container-id-1 div.sk-toggleable {background-color: white;}#sk-container-id-1 label.sk-toggleable__label {cursor: pointer;display: block;width: 100%;margin-bottom: 0;padding: 0.3em;box-sizing: border-box;text-align: center;}#sk-container-id-1 label.sk-toggleable__label-arrow:before {content: \"▸\";float: left;margin-right: 0.25em;color: #696969;}#sk-container-id-1 label.sk-toggleable__label-arrow:hover:before {color: black;}#sk-container-id-1 div.sk-estimator:hover label.sk-toggleable__label-arrow:before {color: black;}#sk-container-id-1 div.sk-toggleable__content {max-height: 0;max-width: 0;overflow: hidden;text-align: left;background-color: #f0f8ff;}#sk-container-id-1 div.sk-toggleable__content pre {margin: 0.2em;color: black;border-radius: 0.25em;background-color: #f0f8ff;}#sk-container-id-1 input.sk-toggleable__control:checked~div.sk-toggleable__content {max-height: 200px;max-width: 100%;overflow: auto;}#sk-container-id-1 input.sk-toggleable__control:checked~label.sk-toggleable__label-arrow:before {content: \"▾\";}#sk-container-id-1 div.sk-estimator input.sk-toggleable__control:checked~label.sk-toggleable__label {background-color: #d4ebff;}#sk-container-id-1 div.sk-label input.sk-toggleable__control:checked~label.sk-toggleable__label {background-color: #d4ebff;}#sk-container-id-1 input.sk-hidden--visually {border: 0;clip: rect(1px 1px 1px 1px);clip: rect(1px, 1px, 1px, 1px);height: 1px;margin: -1px;overflow: hidden;padding: 0;position: absolute;width: 1px;}#sk-container-id-1 div.sk-estimator {font-family: monospace;background-color: #f0f8ff;border: 1px dotted black;border-radius: 0.25em;box-sizing: border-box;margin-bottom: 0.5em;}#sk-container-id-1 div.sk-estimator:hover {background-color: #d4ebff;}#sk-container-id-1 div.sk-parallel-item::after {content: \"\";width: 100%;border-bottom: 1px solid gray;flex-grow: 1;}#sk-container-id-1 div.sk-label:hover label.sk-toggleable__label {background-color: #d4ebff;}#sk-container-id-1 div.sk-serial::before {content: \"\";position: absolute;border-left: 1px solid gray;box-sizing: border-box;top: 0;bottom: 0;left: 50%;z-index: 0;}#sk-container-id-1 div.sk-serial {display: flex;flex-direction: column;align-items: center;background-color: white;padding-right: 0.2em;padding-left: 0.2em;position: relative;}#sk-container-id-1 div.sk-item {position: relative;z-index: 1;}#sk-container-id-1 div.sk-parallel {display: flex;align-items: stretch;justify-content: center;background-color: white;position: relative;}#sk-container-id-1 div.sk-item::before, #sk-container-id-1 div.sk-parallel-item::before {content: \"\";position: absolute;border-left: 1px solid gray;box-sizing: border-box;top: 0;bottom: 0;left: 50%;z-index: -1;}#sk-container-id-1 div.sk-parallel-item {display: flex;flex-direction: column;z-index: 1;position: relative;background-color: white;}#sk-container-id-1 div.sk-parallel-item:first-child::after {align-self: flex-end;width: 50%;}#sk-container-id-1 div.sk-parallel-item:last-child::after {align-self: flex-start;width: 50%;}#sk-container-id-1 div.sk-parallel-item:only-child::after {width: 0;}#sk-container-id-1 div.sk-dashed-wrapped {border: 1px dashed gray;margin: 0 0.4em 0.5em 0.4em;box-sizing: border-box;padding-bottom: 0.4em;background-color: white;}#sk-container-id-1 div.sk-label label {font-family: monospace;font-weight: bold;display: inline-block;line-height: 1.2em;}#sk-container-id-1 div.sk-label-container {text-align: center;}#sk-container-id-1 div.sk-container {/* jupyter's `normalize.less` sets `[hidden] { display: none; }` but bootstrap.min.css set `[hidden] { display: none !important; }` so we also need the `!important` here to be able to override the default hidden behavior on the sphinx rendered scikit-learn.org. See: https://github.com/scikit-learn/scikit-learn/issues/21755 */display: inline-block !important;position: relative;}#sk-container-id-1 div.sk-text-repr-fallback {display: none;}</style><div id=\"sk-container-id-1\" class=\"sk-top-container\"><div class=\"sk-text-repr-fallback\"><pre>Pipeline(steps=[(&#x27;scale&#x27;, None), (&#x27;model&#x27;, RandomForestClassifier(n_jobs=-1))])</pre><b>In a Jupyter environment, please rerun this cell to show the HTML representation or trust the notebook. <br />On GitHub, the HTML representation is unable to render, please try loading this page with nbviewer.org.</b></div><div class=\"sk-container\" hidden><div class=\"sk-item sk-dashed-wrapped\"><div class=\"sk-label-container\"><div class=\"sk-label sk-toggleable\"><input class=\"sk-toggleable__control sk-hidden--visually\" id=\"sk-estimator-id-1\" type=\"checkbox\" ><label for=\"sk-estimator-id-1\" class=\"sk-toggleable__label sk-toggleable__label-arrow\">Pipeline</label><div class=\"sk-toggleable__content\"><pre>Pipeline(steps=[(&#x27;scale&#x27;, None), (&#x27;model&#x27;, RandomForestClassifier(n_jobs=-1))])</pre></div></div></div><div class=\"sk-serial\"><div class=\"sk-item\"><div class=\"sk-estimator sk-toggleable\"><input class=\"sk-toggleable__control sk-hidden--visually\" id=\"sk-estimator-id-2\" type=\"checkbox\" ><label for=\"sk-estimator-id-2\" class=\"sk-toggleable__label sk-toggleable__label-arrow\">None</label><div class=\"sk-toggleable__content\"><pre>None</pre></div></div></div><div class=\"sk-item\"><div class=\"sk-estimator sk-toggleable\"><input class=\"sk-toggleable__control sk-hidden--visually\" id=\"sk-estimator-id-3\" type=\"checkbox\" ><label for=\"sk-estimator-id-3\" class=\"sk-toggleable__label sk-toggleable__label-arrow\">RandomForestClassifier</label><div class=\"sk-toggleable__content\"><pre>RandomForestClassifier(n_jobs=-1)</pre></div></div></div></div></div></div></div>"
      ],
      "text/plain": [
       "Pipeline(steps=[('scale', None), ('model', RandomForestClassifier(n_jobs=-1))])"
      ]
     },
     "execution_count": 36,
     "metadata": {},
     "output_type": "execute_result"
    }
   ],
   "source": [
    "model.fit(X_train, y_train.values.ravel())"
   ]
  },
  {
   "cell_type": "code",
   "execution_count": 37,
   "id": "af59f8c0",
   "metadata": {
    "execution": {
     "iopub.execute_input": "2025-07-28T10:36:56.212198Z",
     "iopub.status.busy": "2025-07-28T10:36:56.211643Z",
     "iopub.status.idle": "2025-07-28T10:36:56.217565Z",
     "shell.execute_reply": "2025-07-28T10:36:56.216578Z"
    },
    "papermill": {
     "duration": 0.035635,
     "end_time": "2025-07-28T10:36:56.219773",
     "exception": false,
     "start_time": "2025-07-28T10:36:56.184138",
     "status": "completed"
    },
    "tags": []
   },
   "outputs": [],
   "source": [
    "from fairness_multiverse.universe import predict_w_threshold"
   ]
  },
  {
   "cell_type": "code",
   "execution_count": 38,
   "id": "a7cf2e16",
   "metadata": {
    "execution": {
     "iopub.execute_input": "2025-07-28T10:36:56.275325Z",
     "iopub.status.busy": "2025-07-28T10:36:56.274341Z",
     "iopub.status.idle": "2025-07-28T10:36:57.174793Z",
     "shell.execute_reply": "2025-07-28T10:36:57.173713Z"
    },
    "papermill": {
     "duration": 0.930222,
     "end_time": "2025-07-28T10:36:57.176745",
     "exception": false,
     "start_time": "2025-07-28T10:36:56.246523",
     "status": "completed"
    },
    "tags": []
   },
   "outputs": [
    {
     "data": {
      "text/plain": [
       "0.867439527365957"
      ]
     },
     "execution_count": 38,
     "metadata": {},
     "output_type": "execute_result"
    }
   ],
   "source": [
    "probs_test = model.predict_proba(X_test)\n",
    "\n",
    "'''\n",
    "Below code returns a boolean array (or binary 0/1 array depending on how it’s used) where each element \n",
    "is True if the probability of class 1 is greater than or equal to the threshold, and False otherwise.\n",
    "'''\n",
    "y_pred_default = predict_w_threshold(probs_test, 0.5)\n",
    "\n",
    "from sklearn.metrics import accuracy_score\n",
    "\n",
    "# Naive prediction\n",
    "accuracy_score(y_true = y_true, y_pred = y_pred_default)"
   ]
  },
  {
   "cell_type": "code",
   "execution_count": 39,
   "id": "081964c3",
   "metadata": {
    "execution": {
     "iopub.execute_input": "2025-07-28T10:36:57.229739Z",
     "iopub.status.busy": "2025-07-28T10:36:57.228841Z",
     "iopub.status.idle": "2025-07-28T10:36:58.061421Z",
     "shell.execute_reply": "2025-07-28T10:36:58.060399Z"
    },
    "papermill": {
     "duration": 0.860339,
     "end_time": "2025-07-28T10:36:58.063062",
     "exception": false,
     "start_time": "2025-07-28T10:36:57.202723",
     "status": "completed"
    },
    "tags": []
   },
   "outputs": [
    {
     "data": {
      "text/plain": [
       "array([0, 0, 0, ..., 0, 0, 0])"
      ]
     },
     "execution_count": 39,
     "metadata": {},
     "output_type": "execute_result"
    }
   ],
   "source": [
    "model.predict(X_test)"
   ]
  },
  {
   "cell_type": "markdown",
   "id": "56c9705b",
   "metadata": {
    "papermill": {
     "duration": 0.02128,
     "end_time": "2025-07-28T10:36:58.106520",
     "exception": false,
     "start_time": "2025-07-28T10:36:58.085240",
     "status": "completed"
    },
    "tags": []
   },
   "source": [
    "# Conformal Prediction"
   ]
  },
  {
   "cell_type": "code",
   "execution_count": 40,
   "id": "160ec6ff",
   "metadata": {
    "execution": {
     "iopub.execute_input": "2025-07-28T10:36:58.151189Z",
     "iopub.status.busy": "2025-07-28T10:36:58.150513Z",
     "iopub.status.idle": "2025-07-28T10:36:58.156185Z",
     "shell.execute_reply": "2025-07-28T10:36:58.155298Z"
    },
    "papermill": {
     "duration": 0.029934,
     "end_time": "2025-07-28T10:36:58.157688",
     "exception": false,
     "start_time": "2025-07-28T10:36:58.127754",
     "status": "completed"
    },
    "tags": []
   },
   "outputs": [],
   "source": [
    "# Miscoverage level for conformal prediction (10% allowed error rate => 90% target coverage)\n",
    "alpha = 0.1"
   ]
  },
  {
   "cell_type": "code",
   "execution_count": 41,
   "id": "eadf4555-3dd3-440e-8e35-f82a4ad9f855",
   "metadata": {
    "execution": {
     "iopub.execute_input": "2025-07-28T10:36:58.203811Z",
     "iopub.status.busy": "2025-07-28T10:36:58.202860Z",
     "iopub.status.idle": "2025-07-28T10:36:59.066998Z",
     "shell.execute_reply": "2025-07-28T10:36:59.065104Z"
    },
    "papermill": {
     "duration": 0.888782,
     "end_time": "2025-07-28T10:36:59.069343",
     "exception": false,
     "start_time": "2025-07-28T10:36:58.180561",
     "status": "completed"
    },
    "tags": []
   },
   "outputs": [],
   "source": [
    "probs_calib = model.predict_proba(X_calib)"
   ]
  },
  {
   "cell_type": "code",
   "execution_count": 42,
   "id": "2ed93547-6d5d-4983-9b36-1ecb300da49a",
   "metadata": {
    "execution": {
     "iopub.execute_input": "2025-07-28T10:36:59.118234Z",
     "iopub.status.busy": "2025-07-28T10:36:59.117779Z",
     "iopub.status.idle": "2025-07-28T10:36:59.122844Z",
     "shell.execute_reply": "2025-07-28T10:36:59.121881Z"
    },
    "papermill": {
     "duration": 0.019908,
     "end_time": "2025-07-28T10:36:59.124235",
     "exception": false,
     "start_time": "2025-07-28T10:36:59.104327",
     "status": "completed"
    },
    "tags": []
   },
   "outputs": [],
   "source": [
    "y_calib = y_calib.values.ravel().astype(int)"
   ]
  },
  {
   "cell_type": "code",
   "execution_count": 43,
   "id": "65d1320d-f588-4b38-9072-62af1ae97f7d",
   "metadata": {
    "execution": {
     "iopub.execute_input": "2025-07-28T10:36:59.163440Z",
     "iopub.status.busy": "2025-07-28T10:36:59.162854Z",
     "iopub.status.idle": "2025-07-28T10:36:59.169325Z",
     "shell.execute_reply": "2025-07-28T10:36:59.168530Z"
    },
    "papermill": {
     "duration": 0.0333,
     "end_time": "2025-07-28T10:36:59.170714",
     "exception": false,
     "start_time": "2025-07-28T10:36:59.137414",
     "status": "completed"
    },
    "tags": []
   },
   "outputs": [],
   "source": [
    "from fairness_multiverse.conformal import compute_nc_scores\n",
    "\n",
    "# Compute nonconformity scores on calibration set (1 - probability of true class)\n",
    "nc_scores = compute_nc_scores(probs_calib, y_calib)"
   ]
  },
  {
   "cell_type": "code",
   "execution_count": 44,
   "id": "df3b8ca3-53b7-43d5-9667-7c85da7aeda2",
   "metadata": {
    "execution": {
     "iopub.execute_input": "2025-07-28T10:36:59.200261Z",
     "iopub.status.busy": "2025-07-28T10:36:59.199532Z",
     "iopub.status.idle": "2025-07-28T10:36:59.206005Z",
     "shell.execute_reply": "2025-07-28T10:36:59.205259Z"
    },
    "papermill": {
     "duration": 0.022858,
     "end_time": "2025-07-28T10:36:59.207388",
     "exception": false,
     "start_time": "2025-07-28T10:36:59.184530",
     "status": "completed"
    },
    "tags": []
   },
   "outputs": [],
   "source": [
    "from fairness_multiverse.conformal import find_threshold\n",
    "\n",
    "# Find conformal threshold q_hat for the given alpha (split conformal method)\n",
    "q_hat = find_threshold(nc_scores, alpha)"
   ]
  },
  {
   "cell_type": "code",
   "execution_count": 45,
   "id": "4d29e6c1-0ef6-4aa4-b8fe-4fe79b0d033a",
   "metadata": {
    "execution": {
     "iopub.execute_input": "2025-07-28T10:36:59.233887Z",
     "iopub.status.busy": "2025-07-28T10:36:59.233310Z",
     "iopub.status.idle": "2025-07-28T10:36:59.240598Z",
     "shell.execute_reply": "2025-07-28T10:36:59.239677Z"
    },
    "papermill": {
     "duration": 0.021676,
     "end_time": "2025-07-28T10:36:59.242050",
     "exception": false,
     "start_time": "2025-07-28T10:36:59.220374",
     "status": "completed"
    },
    "tags": []
   },
   "outputs": [
    {
     "data": {
      "text/plain": [
       "0.6699999999999999"
      ]
     },
     "execution_count": 45,
     "metadata": {},
     "output_type": "execute_result"
    }
   ],
   "source": [
    "q_hat"
   ]
  },
  {
   "cell_type": "code",
   "execution_count": 46,
   "id": "92460794-cdac-4be2-ba28-f28c0515a6fb",
   "metadata": {
    "execution": {
     "iopub.execute_input": "2025-07-28T10:36:59.269063Z",
     "iopub.status.busy": "2025-07-28T10:36:59.268508Z",
     "iopub.status.idle": "2025-07-28T10:37:01.114455Z",
     "shell.execute_reply": "2025-07-28T10:37:01.113408Z"
    },
    "papermill": {
     "duration": 1.861762,
     "end_time": "2025-07-28T10:37:01.116888",
     "exception": false,
     "start_time": "2025-07-28T10:36:59.255126",
     "status": "completed"
    },
    "tags": []
   },
   "outputs": [],
   "source": [
    "from fairness_multiverse.conformal import predict_conformal_sets\n",
    "\n",
    "# Generate prediction sets for each test example\n",
    "pred_sets = predict_conformal_sets(model, X_test, q_hat)"
   ]
  },
  {
   "cell_type": "code",
   "execution_count": 47,
   "id": "d90c9a65-e6db-4f5d-80cd-e68fb7e46829",
   "metadata": {
    "execution": {
     "iopub.execute_input": "2025-07-28T10:37:01.165743Z",
     "iopub.status.busy": "2025-07-28T10:37:01.165158Z",
     "iopub.status.idle": "2025-07-28T10:37:01.171855Z",
     "shell.execute_reply": "2025-07-28T10:37:01.170731Z"
    },
    "papermill": {
     "duration": 0.032683,
     "end_time": "2025-07-28T10:37:01.173920",
     "exception": false,
     "start_time": "2025-07-28T10:37:01.141237",
     "status": "completed"
    },
    "tags": []
   },
   "outputs": [],
   "source": [
    "y_true = y_true.squeeze()"
   ]
  },
  {
   "cell_type": "code",
   "execution_count": 48,
   "id": "3a58a54a-1e68-46b9-927a-df01f18aebc8",
   "metadata": {
    "execution": {
     "iopub.execute_input": "2025-07-28T10:37:01.243703Z",
     "iopub.status.busy": "2025-07-28T10:37:01.243174Z",
     "iopub.status.idle": "2025-07-28T10:37:02.208511Z",
     "shell.execute_reply": "2025-07-28T10:37:02.207450Z"
    },
    "papermill": {
     "duration": 1.002099,
     "end_time": "2025-07-28T10:37:02.210001",
     "exception": false,
     "start_time": "2025-07-28T10:37:01.207902",
     "status": "completed"
    },
    "tags": []
   },
   "outputs": [],
   "source": [
    "from fairness_multiverse.conformal import evaluate_sets\n",
    "\n",
    "# Evaluate coverage and average set size on test data\n",
    "metrics = evaluate_sets(pred_sets, y_true)"
   ]
  },
  {
   "cell_type": "markdown",
   "id": "2b569c12-9aaa-4c88-98c9-bbcd0cf3ebb8",
   "metadata": {
    "papermill": {
     "duration": 0.014227,
     "end_time": "2025-07-28T10:37:02.245872",
     "exception": false,
     "start_time": "2025-07-28T10:37:02.231645",
     "status": "completed"
    },
    "tags": []
   },
   "source": [
    "# CP Metrics"
   ]
  },
  {
   "cell_type": "code",
   "execution_count": 49,
   "id": "5ce0a5cb-201f-45a0-ade5-94c7f0bd6095",
   "metadata": {
    "execution": {
     "iopub.execute_input": "2025-07-28T10:37:02.272147Z",
     "iopub.status.busy": "2025-07-28T10:37:02.271608Z",
     "iopub.status.idle": "2025-07-28T10:37:02.279074Z",
     "shell.execute_reply": "2025-07-28T10:37:02.278250Z"
    },
    "papermill": {
     "duration": 0.022536,
     "end_time": "2025-07-28T10:37:02.280447",
     "exception": false,
     "start_time": "2025-07-28T10:37:02.257911",
     "status": "completed"
    },
    "tags": []
   },
   "outputs": [
    {
     "data": {
      "text/plain": [
       "{'coverage': 0.9160628692453461, 'avg_size': 1.1492810166090737}"
      ]
     },
     "execution_count": 49,
     "metadata": {},
     "output_type": "execute_result"
    }
   ],
   "source": [
    "metrics"
   ]
  },
  {
   "cell_type": "code",
   "execution_count": 50,
   "id": "9b9a838d-31c9-430b-ae14-12baee460d17",
   "metadata": {
    "execution": {
     "iopub.execute_input": "2025-07-28T10:37:02.308765Z",
     "iopub.status.busy": "2025-07-28T10:37:02.308242Z",
     "iopub.status.idle": "2025-07-28T10:37:02.314842Z",
     "shell.execute_reply": "2025-07-28T10:37:02.313818Z"
    },
    "papermill": {
     "duration": 0.022837,
     "end_time": "2025-07-28T10:37:02.316536",
     "exception": false,
     "start_time": "2025-07-28T10:37:02.293699",
     "status": "completed"
    },
    "tags": []
   },
   "outputs": [],
   "source": [
    "example_universe = universe.copy()\n",
    "universe_training_size = example_universe.get(\"training_size\")\n",
    "universe_scale = example_universe.get(\"scale\")\n",
    "universe_model = example_universe.get(\"model\")\n",
    "universe_exclude_features = example_universe.get(\"exclude_features\")\n",
    "universe_exclude_subgroups = example_universe.get(\"exclude_subgroups\")"
   ]
  },
  {
   "cell_type": "code",
   "execution_count": 51,
   "id": "f4b6a8ac-9dc0-4245-8a91-5b3b5999c4f9",
   "metadata": {
    "execution": {
     "iopub.execute_input": "2025-07-28T10:37:02.365554Z",
     "iopub.status.busy": "2025-07-28T10:37:02.364995Z",
     "iopub.status.idle": "2025-07-28T10:37:02.372038Z",
     "shell.execute_reply": "2025-07-28T10:37:02.371066Z"
    },
    "papermill": {
     "duration": 0.033562,
     "end_time": "2025-07-28T10:37:02.374235",
     "exception": false,
     "start_time": "2025-07-28T10:37:02.340673",
     "status": "completed"
    },
    "tags": []
   },
   "outputs": [],
   "source": [
    "cp_metrics_dict = {\n",
    "    \"universe_id\": [universe_id],\n",
    "    \"universe_training_size\": [universe_training_size],\n",
    "    \"universe_scale\": [universe_scale],\n",
    "    \"universe_model\": [universe_model],\n",
    "    \"universe_exclude_features\": [universe_exclude_features],\n",
    "    \"universe_exclude_subgroups\": [universe_exclude_subgroups],\n",
    "    \"q_hat\": [q_hat],\n",
    "    \"coverage\": [metrics[\"coverage\"]],\n",
    "    \"avg_size\": [metrics[\"avg_size\"]],\n",
    "}"
   ]
  },
  {
   "cell_type": "code",
   "execution_count": 52,
   "id": "908acbb1-0371-4915-85ca-3fa520d2efe2",
   "metadata": {
    "execution": {
     "iopub.execute_input": "2025-07-28T10:37:02.443033Z",
     "iopub.status.busy": "2025-07-28T10:37:02.442601Z",
     "iopub.status.idle": "2025-07-28T10:37:02.450552Z",
     "shell.execute_reply": "2025-07-28T10:37:02.449405Z"
    },
    "papermill": {
     "duration": 0.043729,
     "end_time": "2025-07-28T10:37:02.452299",
     "exception": false,
     "start_time": "2025-07-28T10:37:02.408570",
     "status": "completed"
    },
    "tags": []
   },
   "outputs": [
    {
     "data": {
      "text/plain": [
       "{'universe_id': ['02305680008a3def782b19a253504795'],\n",
       " 'universe_training_size': ['5k'],\n",
       " 'universe_scale': ['do-not-scale'],\n",
       " 'universe_model': ['rf'],\n",
       " 'universe_exclude_features': ['none'],\n",
       " 'universe_exclude_subgroups': ['keep-all'],\n",
       " 'q_hat': [0.6699999999999999],\n",
       " 'coverage': [0.9160628692453461],\n",
       " 'avg_size': [1.1492810166090737]}"
      ]
     },
     "execution_count": 52,
     "metadata": {},
     "output_type": "execute_result"
    }
   ],
   "source": [
    "cp_metrics_dict"
   ]
  },
  {
   "cell_type": "code",
   "execution_count": 53,
   "id": "33007efc-14e9-4ec6-97ac-56a455c82265",
   "metadata": {
    "execution": {
     "iopub.execute_input": "2025-07-28T10:37:02.505861Z",
     "iopub.status.busy": "2025-07-28T10:37:02.505009Z",
     "iopub.status.idle": "2025-07-28T10:37:02.512210Z",
     "shell.execute_reply": "2025-07-28T10:37:02.511149Z"
    },
    "papermill": {
     "duration": 0.035541,
     "end_time": "2025-07-28T10:37:02.513941",
     "exception": false,
     "start_time": "2025-07-28T10:37:02.478400",
     "status": "completed"
    },
    "tags": []
   },
   "outputs": [],
   "source": [
    "cp_metrics_df = pd.DataFrame(cp_metrics_dict)"
   ]
  },
  {
   "cell_type": "code",
   "execution_count": 54,
   "id": "db12611b-57b2-4910-b9d0-355adfd6e7bf",
   "metadata": {
    "execution": {
     "iopub.execute_input": "2025-07-28T10:37:02.565713Z",
     "iopub.status.busy": "2025-07-28T10:37:02.564785Z",
     "iopub.status.idle": "2025-07-28T10:37:02.586210Z",
     "shell.execute_reply": "2025-07-28T10:37:02.585139Z"
    },
    "papermill": {
     "duration": 0.04991,
     "end_time": "2025-07-28T10:37:02.587963",
     "exception": false,
     "start_time": "2025-07-28T10:37:02.538053",
     "status": "completed"
    },
    "tags": []
   },
   "outputs": [
    {
     "data": {
      "text/html": [
       "<div>\n",
       "<style scoped>\n",
       "    .dataframe tbody tr th:only-of-type {\n",
       "        vertical-align: middle;\n",
       "    }\n",
       "\n",
       "    .dataframe tbody tr th {\n",
       "        vertical-align: top;\n",
       "    }\n",
       "\n",
       "    .dataframe thead th {\n",
       "        text-align: right;\n",
       "    }\n",
       "</style>\n",
       "<table border=\"1\" class=\"dataframe\">\n",
       "  <thead>\n",
       "    <tr style=\"text-align: right;\">\n",
       "      <th></th>\n",
       "      <th>universe_id</th>\n",
       "      <th>universe_training_size</th>\n",
       "      <th>universe_scale</th>\n",
       "      <th>universe_model</th>\n",
       "      <th>universe_exclude_features</th>\n",
       "      <th>universe_exclude_subgroups</th>\n",
       "      <th>q_hat</th>\n",
       "      <th>coverage</th>\n",
       "      <th>avg_size</th>\n",
       "    </tr>\n",
       "  </thead>\n",
       "  <tbody>\n",
       "    <tr>\n",
       "      <th>0</th>\n",
       "      <td>02305680008a3def782b19a253504795</td>\n",
       "      <td>5k</td>\n",
       "      <td>do-not-scale</td>\n",
       "      <td>rf</td>\n",
       "      <td>none</td>\n",
       "      <td>keep-all</td>\n",
       "      <td>0.67</td>\n",
       "      <td>0.916063</td>\n",
       "      <td>1.149281</td>\n",
       "    </tr>\n",
       "  </tbody>\n",
       "</table>\n",
       "</div>"
      ],
      "text/plain": [
       "                        universe_id universe_training_size universe_scale  \\\n",
       "0  02305680008a3def782b19a253504795                     5k   do-not-scale   \n",
       "\n",
       "  universe_model universe_exclude_features universe_exclude_subgroups  q_hat  \\\n",
       "0             rf                      none                   keep-all   0.67   \n",
       "\n",
       "   coverage  avg_size  \n",
       "0  0.916063  1.149281  "
      ]
     },
     "execution_count": 54,
     "metadata": {},
     "output_type": "execute_result"
    }
   ],
   "source": [
    "cp_metrics_df"
   ]
  },
  {
   "cell_type": "code",
   "execution_count": 55,
   "id": "b7fbde55-a0a1-47e4-9af6-fe4a17fa8c61",
   "metadata": {
    "execution": {
     "iopub.execute_input": "2025-07-28T10:37:02.643372Z",
     "iopub.status.busy": "2025-07-28T10:37:02.642470Z",
     "iopub.status.idle": "2025-07-28T10:37:02.648363Z",
     "shell.execute_reply": "2025-07-28T10:37:02.647317Z"
    },
    "papermill": {
     "duration": 0.035777,
     "end_time": "2025-07-28T10:37:02.650053",
     "exception": false,
     "start_time": "2025-07-28T10:37:02.614276",
     "status": "completed"
    },
    "tags": []
   },
   "outputs": [],
   "source": [
    "# Conditional Coverage & looking at subgroups"
   ]
  },
  {
   "cell_type": "code",
   "execution_count": 56,
   "id": "027ae886-68dd-4141-96c7-805a5450e1ef",
   "metadata": {
    "execution": {
     "iopub.execute_input": "2025-07-28T10:37:02.705152Z",
     "iopub.status.busy": "2025-07-28T10:37:02.704230Z",
     "iopub.status.idle": "2025-07-28T10:37:02.985207Z",
     "shell.execute_reply": "2025-07-28T10:37:02.984113Z"
    },
    "papermill": {
     "duration": 0.313108,
     "end_time": "2025-07-28T10:37:02.986926",
     "exception": false,
     "start_time": "2025-07-28T10:37:02.673818",
     "status": "completed"
    },
    "tags": []
   },
   "outputs": [],
   "source": [
    "from fairness_multiverse.conformal import build_cp_groups\n",
    "\n",
    "cp_groups_df = build_cp_groups(pred_sets, y_true, X_test.index, org_test)\n",
    "#needs universe_id and setting"
   ]
  },
  {
   "cell_type": "code",
   "execution_count": 57,
   "id": "01d5802c-663a-4d1f-9d69-e036faaffbf7",
   "metadata": {
    "execution": {
     "iopub.execute_input": "2025-07-28T10:37:03.057835Z",
     "iopub.status.busy": "2025-07-28T10:37:03.056697Z",
     "iopub.status.idle": "2025-07-28T10:37:03.062213Z",
     "shell.execute_reply": "2025-07-28T10:37:03.061208Z"
    },
    "papermill": {
     "duration": 0.035279,
     "end_time": "2025-07-28T10:37:03.064205",
     "exception": false,
     "start_time": "2025-07-28T10:37:03.028926",
     "status": "completed"
    },
    "tags": []
   },
   "outputs": [],
   "source": [
    "#delete\n",
    "#cp_groups_df"
   ]
  },
  {
   "cell_type": "code",
   "execution_count": 58,
   "id": "fa424af1-d1eb-443d-b717-2d279ada8408",
   "metadata": {
    "execution": {
     "iopub.execute_input": "2025-07-28T10:37:03.116958Z",
     "iopub.status.busy": "2025-07-28T10:37:03.116399Z",
     "iopub.status.idle": "2025-07-28T10:37:03.121866Z",
     "shell.execute_reply": "2025-07-28T10:37:03.120754Z"
    },
    "papermill": {
     "duration": 0.034301,
     "end_time": "2025-07-28T10:37:03.123728",
     "exception": false,
     "start_time": "2025-07-28T10:37:03.089427",
     "status": "completed"
    },
    "tags": []
   },
   "outputs": [],
   "source": [
    "#delete\n",
    "#percentage = (cp_groups_df['nongerman_female'] == 1).mean() * 100\n",
    "#print(percentage)\n"
   ]
  },
  {
   "cell_type": "code",
   "execution_count": 59,
   "id": "6cbdab96-b2b2-45af-ad54-d0516db2e28d",
   "metadata": {
    "execution": {
     "iopub.execute_input": "2025-07-28T10:37:03.172042Z",
     "iopub.status.busy": "2025-07-28T10:37:03.171566Z",
     "iopub.status.idle": "2025-07-28T10:37:05.006390Z",
     "shell.execute_reply": "2025-07-28T10:37:04.968092Z"
    },
    "papermill": {
     "duration": 1.857579,
     "end_time": "2025-07-28T10:37:05.008129",
     "exception": false,
     "start_time": "2025-07-28T10:37:03.150550",
     "status": "completed"
    },
    "tags": []
   },
   "outputs": [],
   "source": [
    "# Define covered = 1 if true_label is in the predicted set\n",
    "cp_groups_df['covered'] = cp_groups_df.apply(\n",
    "    lambda r: int(r['true_label'] in r['pred_set']),\n",
    "    axis=1\n",
    ")"
   ]
  },
  {
   "cell_type": "code",
   "execution_count": 60,
   "id": "338ff529-1a6b-4b87-a931-8e4788d52aad",
   "metadata": {
    "execution": {
     "iopub.execute_input": "2025-07-28T10:37:05.053274Z",
     "iopub.status.busy": "2025-07-28T10:37:05.052853Z",
     "iopub.status.idle": "2025-07-28T10:37:05.058855Z",
     "shell.execute_reply": "2025-07-28T10:37:05.057799Z"
    },
    "papermill": {
     "duration": 0.032026,
     "end_time": "2025-07-28T10:37:05.062183",
     "exception": false,
     "start_time": "2025-07-28T10:37:05.030157",
     "status": "completed"
    },
    "tags": []
   },
   "outputs": [],
   "source": [
    "#cp_groups_df"
   ]
  },
  {
   "cell_type": "code",
   "execution_count": 61,
   "id": "90032e27-66df-4540-9169-4e89cfbaa758",
   "metadata": {
    "execution": {
     "iopub.execute_input": "2025-07-28T10:37:05.125786Z",
     "iopub.status.busy": "2025-07-28T10:37:05.125367Z",
     "iopub.status.idle": "2025-07-28T10:37:05.138539Z",
     "shell.execute_reply": "2025-07-28T10:37:05.137595Z"
    },
    "papermill": {
     "duration": 0.041272,
     "end_time": "2025-07-28T10:37:05.140883",
     "exception": false,
     "start_time": "2025-07-28T10:37:05.099611",
     "status": "completed"
    },
    "tags": []
   },
   "outputs": [],
   "source": [
    "subgroups = ['frau1','nongerman','nongerman_male','nongerman_female']\n",
    "\n",
    "# Conditional coverage for subgroup==1\n",
    "cond_coverage = {\n",
    "    g: cp_groups_df.loc[cp_groups_df[g]==1, 'covered'].mean()\n",
    "    for g in subgroups\n",
    "}"
   ]
  },
  {
   "cell_type": "code",
   "execution_count": 62,
   "id": "1e348fb1-b9c3-45bc-ba23-f016827a7e0d",
   "metadata": {
    "execution": {
     "iopub.execute_input": "2025-07-28T10:37:05.190840Z",
     "iopub.status.busy": "2025-07-28T10:37:05.190429Z",
     "iopub.status.idle": "2025-07-28T10:37:05.206130Z",
     "shell.execute_reply": "2025-07-28T10:37:05.205077Z"
    },
    "papermill": {
     "duration": 0.04248,
     "end_time": "2025-07-28T10:37:05.207927",
     "exception": false,
     "start_time": "2025-07-28T10:37:05.165447",
     "status": "completed"
    },
    "tags": []
   },
   "outputs": [
    {
     "data": {
      "text/plain": [
       "{'frau1': 0.9145167812373636,\n",
       " 'nongerman': 0.9111323190927973,\n",
       " 'nongerman_male': 0.9250652976672972,\n",
       " 'nongerman_female': 0.8880774962742176}"
      ]
     },
     "execution_count": 62,
     "metadata": {},
     "output_type": "execute_result"
    }
   ],
   "source": [
    "cond_coverage"
   ]
  },
  {
   "cell_type": "code",
   "execution_count": 63,
   "id": "f5093324-c3dd-4d63-bc4c-8d945e5c8bbb",
   "metadata": {
    "execution": {
     "iopub.execute_input": "2025-07-28T10:37:05.254652Z",
     "iopub.status.busy": "2025-07-28T10:37:05.254232Z",
     "iopub.status.idle": "2025-07-28T10:37:05.261989Z",
     "shell.execute_reply": "2025-07-28T10:37:05.261013Z"
    },
    "papermill": {
     "duration": 0.028237,
     "end_time": "2025-07-28T10:37:05.266555",
     "exception": false,
     "start_time": "2025-07-28T10:37:05.238318",
     "status": "completed"
    },
    "tags": []
   },
   "outputs": [],
   "source": [
    "for subgroup, cov in cond_coverage.items():\n",
    "    cp_metrics_df[f\"cov_{subgroup}\"] = cov"
   ]
  },
  {
   "cell_type": "code",
   "execution_count": 64,
   "id": "6e872e10-dbe5-49e8-b554-5030c98ff75d",
   "metadata": {
    "execution": {
     "iopub.execute_input": "2025-07-28T10:37:05.314014Z",
     "iopub.status.busy": "2025-07-28T10:37:05.313500Z",
     "iopub.status.idle": "2025-07-28T10:37:05.333316Z",
     "shell.execute_reply": "2025-07-28T10:37:05.332256Z"
    },
    "papermill": {
     "duration": 0.040536,
     "end_time": "2025-07-28T10:37:05.334641",
     "exception": false,
     "start_time": "2025-07-28T10:37:05.294105",
     "status": "completed"
    },
    "tags": []
   },
   "outputs": [
    {
     "data": {
      "text/html": [
       "<div>\n",
       "<style scoped>\n",
       "    .dataframe tbody tr th:only-of-type {\n",
       "        vertical-align: middle;\n",
       "    }\n",
       "\n",
       "    .dataframe tbody tr th {\n",
       "        vertical-align: top;\n",
       "    }\n",
       "\n",
       "    .dataframe thead th {\n",
       "        text-align: right;\n",
       "    }\n",
       "</style>\n",
       "<table border=\"1\" class=\"dataframe\">\n",
       "  <thead>\n",
       "    <tr style=\"text-align: right;\">\n",
       "      <th></th>\n",
       "      <th>universe_id</th>\n",
       "      <th>universe_training_size</th>\n",
       "      <th>universe_scale</th>\n",
       "      <th>universe_model</th>\n",
       "      <th>universe_exclude_features</th>\n",
       "      <th>universe_exclude_subgroups</th>\n",
       "      <th>q_hat</th>\n",
       "      <th>coverage</th>\n",
       "      <th>avg_size</th>\n",
       "      <th>cov_frau1</th>\n",
       "      <th>cov_nongerman</th>\n",
       "      <th>cov_nongerman_male</th>\n",
       "      <th>cov_nongerman_female</th>\n",
       "    </tr>\n",
       "  </thead>\n",
       "  <tbody>\n",
       "    <tr>\n",
       "      <th>0</th>\n",
       "      <td>02305680008a3def782b19a253504795</td>\n",
       "      <td>5k</td>\n",
       "      <td>do-not-scale</td>\n",
       "      <td>rf</td>\n",
       "      <td>none</td>\n",
       "      <td>keep-all</td>\n",
       "      <td>0.67</td>\n",
       "      <td>0.916063</td>\n",
       "      <td>1.149281</td>\n",
       "      <td>0.914517</td>\n",
       "      <td>0.911132</td>\n",
       "      <td>0.925065</td>\n",
       "      <td>0.888077</td>\n",
       "    </tr>\n",
       "  </tbody>\n",
       "</table>\n",
       "</div>"
      ],
      "text/plain": [
       "                        universe_id universe_training_size universe_scale  \\\n",
       "0  02305680008a3def782b19a253504795                     5k   do-not-scale   \n",
       "\n",
       "  universe_model universe_exclude_features universe_exclude_subgroups  q_hat  \\\n",
       "0             rf                      none                   keep-all   0.67   \n",
       "\n",
       "   coverage  avg_size  cov_frau1  cov_nongerman  cov_nongerman_male  \\\n",
       "0  0.916063  1.149281   0.914517       0.911132            0.925065   \n",
       "\n",
       "   cov_nongerman_female  \n",
       "0              0.888077  "
      ]
     },
     "execution_count": 64,
     "metadata": {},
     "output_type": "execute_result"
    }
   ],
   "source": [
    "cp_metrics_df"
   ]
  },
  {
   "cell_type": "markdown",
   "id": "33774451",
   "metadata": {
    "papermill": {
     "duration": 0.028343,
     "end_time": "2025-07-28T10:37:05.390675",
     "exception": false,
     "start_time": "2025-07-28T10:37:05.362332",
     "status": "completed"
    },
    "tags": []
   },
   "source": [
    "# (Fairness) Metrics"
   ]
  },
  {
   "cell_type": "code",
   "execution_count": 65,
   "id": "debc5d62",
   "metadata": {
    "execution": {
     "iopub.execute_input": "2025-07-28T10:37:05.448895Z",
     "iopub.status.busy": "2025-07-28T10:37:05.448388Z",
     "iopub.status.idle": "2025-07-28T10:37:05.474765Z",
     "shell.execute_reply": "2025-07-28T10:37:05.473382Z"
    },
    "papermill": {
     "duration": 0.058753,
     "end_time": "2025-07-28T10:37:05.477011",
     "exception": false,
     "start_time": "2025-07-28T10:37:05.418258",
     "status": "completed"
    },
    "tags": []
   },
   "outputs": [],
   "source": [
    "# do I need to include maxdeutsch1.missing?\n",
    "\n",
    "import numpy as np\n",
    "\n",
    "colname_to_bin = \"maxdeutsch1\"\n",
    "majority_value = org_train[colname_to_bin].mode()[0]\n",
    "\n",
    "org_test[\"majmin\"] = np.where(org_test[colname_to_bin] == majority_value, \"majority\", \"minority\")"
   ]
  },
  {
   "cell_type": "code",
   "execution_count": 66,
   "id": "06a50de5",
   "metadata": {
    "execution": {
     "iopub.execute_input": "2025-07-28T10:37:05.535352Z",
     "iopub.status.busy": "2025-07-28T10:37:05.534882Z",
     "iopub.status.idle": "2025-07-28T10:37:08.487661Z",
     "shell.execute_reply": "2025-07-28T10:37:08.486905Z"
    },
    "papermill": {
     "duration": 2.983711,
     "end_time": "2025-07-28T10:37:08.489155",
     "exception": false,
     "start_time": "2025-07-28T10:37:05.505444",
     "status": "completed"
    },
    "tags": []
   },
   "outputs": [],
   "source": [
    "example_universe = universe.copy()\n",
    "example_universe[\"cutoff\"] = example_universe[\"cutoff\"][0]\n",
    "example_universe[\"eval_fairness_grouping\"] = example_universe[\"eval_fairness_grouping\"][0]\n",
    "fairness_dict, metric_frame = universe_analysis.compute_metrics(\n",
    "    example_universe,\n",
    "    y_pred_prob=probs_test,\n",
    "    y_test=y_true,\n",
    "    org_test=org_test,\n",
    ")"
   ]
  },
  {
   "cell_type": "markdown",
   "id": "f95d4e02",
   "metadata": {
    "papermill": {
     "duration": 0.013223,
     "end_time": "2025-07-28T10:37:08.518787",
     "exception": false,
     "start_time": "2025-07-28T10:37:08.505564",
     "status": "completed"
    },
    "tags": []
   },
   "source": [
    "# Overall"
   ]
  },
  {
   "cell_type": "markdown",
   "id": "bdee4871",
   "metadata": {
    "papermill": {
     "duration": 0.012944,
     "end_time": "2025-07-28T10:37:08.545242",
     "exception": false,
     "start_time": "2025-07-28T10:37:08.532298",
     "status": "completed"
    },
    "tags": []
   },
   "source": [
    "Fairness\n",
    "Main fairness target: Equalized Odds. Seems to be a better fit than equal opportunity, since we're not only interested in Y = 1. Seems to be a better fit than demographic parity, since we also care about accuracy, not just equal distribution of preds.\n",
    "\n",
    "Pick column for computation of fairness metrics\n",
    "\n",
    "Performance\n",
    "Overall performance measures, most interesting in relation to the measures split by group below"
   ]
  },
  {
   "cell_type": "code",
   "execution_count": 67,
   "id": "c4e067c6",
   "metadata": {
    "execution": {
     "iopub.execute_input": "2025-07-28T10:37:08.572898Z",
     "iopub.status.busy": "2025-07-28T10:37:08.572348Z",
     "iopub.status.idle": "2025-07-28T10:37:08.581908Z",
     "shell.execute_reply": "2025-07-28T10:37:08.580847Z"
    },
    "papermill": {
     "duration": 0.027855,
     "end_time": "2025-07-28T10:37:08.586075",
     "exception": false,
     "start_time": "2025-07-28T10:37:08.558220",
     "status": "completed"
    },
    "tags": []
   },
   "outputs": [
    {
     "data": {
      "text/plain": [
       "accuracy                   0.198094\n",
       "balanced accuracy          0.530076\n",
       "f1                         0.238072\n",
       "precision                  0.135558\n",
       "false positive rate        0.916473\n",
       "false negative rate        0.023375\n",
       "selection rate             0.924189\n",
       "count                  89710.000000\n",
       "dtype: float64"
      ]
     },
     "execution_count": 67,
     "metadata": {},
     "output_type": "execute_result"
    }
   ],
   "source": [
    "metric_frame.overall"
   ]
  },
  {
   "cell_type": "markdown",
   "id": "e968fe9d",
   "metadata": {
    "papermill": {
     "duration": 0.020845,
     "end_time": "2025-07-28T10:37:08.626803",
     "exception": false,
     "start_time": "2025-07-28T10:37:08.605958",
     "status": "completed"
    },
    "tags": []
   },
   "source": [
    "By Group"
   ]
  },
  {
   "cell_type": "code",
   "execution_count": 68,
   "id": "ec325bce",
   "metadata": {
    "execution": {
     "iopub.execute_input": "2025-07-28T10:37:08.654562Z",
     "iopub.status.busy": "2025-07-28T10:37:08.654212Z",
     "iopub.status.idle": "2025-07-28T10:37:08.667111Z",
     "shell.execute_reply": "2025-07-28T10:37:08.666012Z"
    },
    "papermill": {
     "duration": 0.029094,
     "end_time": "2025-07-28T10:37:08.669074",
     "exception": false,
     "start_time": "2025-07-28T10:37:08.639980",
     "status": "completed"
    },
    "tags": []
   },
   "outputs": [
    {
     "data": {
      "text/html": [
       "<div>\n",
       "<style scoped>\n",
       "    .dataframe tbody tr th:only-of-type {\n",
       "        vertical-align: middle;\n",
       "    }\n",
       "\n",
       "    .dataframe tbody tr th {\n",
       "        vertical-align: top;\n",
       "    }\n",
       "\n",
       "    .dataframe thead th {\n",
       "        text-align: right;\n",
       "    }\n",
       "</style>\n",
       "<table border=\"1\" class=\"dataframe\">\n",
       "  <thead>\n",
       "    <tr style=\"text-align: right;\">\n",
       "      <th></th>\n",
       "      <th>accuracy</th>\n",
       "      <th>balanced accuracy</th>\n",
       "      <th>f1</th>\n",
       "      <th>precision</th>\n",
       "      <th>false positive rate</th>\n",
       "      <th>false negative rate</th>\n",
       "      <th>selection rate</th>\n",
       "      <th>count</th>\n",
       "    </tr>\n",
       "    <tr>\n",
       "      <th>majmin</th>\n",
       "      <th></th>\n",
       "      <th></th>\n",
       "      <th></th>\n",
       "      <th></th>\n",
       "      <th></th>\n",
       "      <th></th>\n",
       "      <th></th>\n",
       "      <th></th>\n",
       "    </tr>\n",
       "  </thead>\n",
       "  <tbody>\n",
       "    <tr>\n",
       "      <th>majority</th>\n",
       "      <td>0.189490</td>\n",
       "      <td>0.529703</td>\n",
       "      <td>0.244424</td>\n",
       "      <td>0.139381</td>\n",
       "      <td>0.932717</td>\n",
       "      <td>0.007877</td>\n",
       "      <td>0.940567</td>\n",
       "      <td>69170.0</td>\n",
       "    </tr>\n",
       "    <tr>\n",
       "      <th>minority</th>\n",
       "      <td>0.227069</td>\n",
       "      <td>0.526998</td>\n",
       "      <td>0.214759</td>\n",
       "      <td>0.121625</td>\n",
       "      <td>0.862811</td>\n",
       "      <td>0.083193</td>\n",
       "      <td>0.869036</td>\n",
       "      <td>20540.0</td>\n",
       "    </tr>\n",
       "  </tbody>\n",
       "</table>\n",
       "</div>"
      ],
      "text/plain": [
       "          accuracy  balanced accuracy        f1  precision  \\\n",
       "majmin                                                       \n",
       "majority  0.189490           0.529703  0.244424   0.139381   \n",
       "minority  0.227069           0.526998  0.214759   0.121625   \n",
       "\n",
       "          false positive rate  false negative rate  selection rate    count  \n",
       "majmin                                                                       \n",
       "majority             0.932717             0.007877        0.940567  69170.0  \n",
       "minority             0.862811             0.083193        0.869036  20540.0  "
      ]
     },
     "execution_count": 68,
     "metadata": {},
     "output_type": "execute_result"
    }
   ],
   "source": [
    "metric_frame.by_group"
   ]
  },
  {
   "cell_type": "code",
   "execution_count": 69,
   "id": "a9ddbe63",
   "metadata": {
    "execution": {
     "iopub.execute_input": "2025-07-28T10:37:08.727446Z",
     "iopub.status.busy": "2025-07-28T10:37:08.726955Z",
     "iopub.status.idle": "2025-07-28T10:37:10.975943Z",
     "shell.execute_reply": "2025-07-28T10:37:10.975146Z"
    },
    "papermill": {
     "duration": 2.281899,
     "end_time": "2025-07-28T10:37:10.977428",
     "exception": false,
     "start_time": "2025-07-28T10:37:08.695529",
     "status": "completed"
    },
    "tags": []
   },
   "outputs": [
    {
     "data": {
      "text/plain": [
       "array([[<Axes: title={'center': 'accuracy'}, xlabel='majmin'>,\n",
       "        <Axes: title={'center': 'balanced accuracy'}, xlabel='majmin'>,\n",
       "        <Axes: title={'center': 'f1'}, xlabel='majmin'>],\n",
       "       [<Axes: title={'center': 'precision'}, xlabel='majmin'>,\n",
       "        <Axes: title={'center': 'false positive rate'}, xlabel='majmin'>,\n",
       "        <Axes: title={'center': 'false negative rate'}, xlabel='majmin'>],\n",
       "       [<Axes: title={'center': 'selection rate'}, xlabel='majmin'>,\n",
       "        <Axes: title={'center': 'count'}, xlabel='majmin'>,\n",
       "        <Axes: xlabel='majmin'>]], dtype=object)"
      ]
     },
     "execution_count": 69,
     "metadata": {},
     "output_type": "execute_result"
    },
    {
     "data": {
      "image/png": "[encoded data removed]",
      "text/plain": [
       "<Figure size 1200x800 with 9 Axes>"
      ]
     },
     "metadata": {},
     "output_type": "display_data"
    }
   ],
   "source": [
    "# In a graphic\n",
    "metric_frame.by_group.plot.bar(\n",
    "    subplots=True,\n",
    "    layout=[3, 3],\n",
    "    legend=False,\n",
    "    figsize=[12, 8],\n",
    "    title=\"Show all metrics\",\n",
    ")"
   ]
  },
  {
   "cell_type": "markdown",
   "id": "f57a0bac",
   "metadata": {
    "papermill": {
     "duration": 0.015009,
     "end_time": "2025-07-28T10:37:11.008093",
     "exception": false,
     "start_time": "2025-07-28T10:37:10.993084",
     "status": "completed"
    },
    "tags": []
   },
   "source": [
    "# Final Output"
   ]
  },
  {
   "cell_type": "code",
   "execution_count": 70,
   "id": "96d280a3",
   "metadata": {
    "execution": {
     "iopub.execute_input": "2025-07-28T10:37:11.039754Z",
     "iopub.status.busy": "2025-07-28T10:37:11.039195Z",
     "iopub.status.idle": "2025-07-28T10:37:11.046859Z",
     "shell.execute_reply": "2025-07-28T10:37:11.045630Z"
    },
    "papermill": {
     "duration": 0.025647,
     "end_time": "2025-07-28T10:37:11.048694",
     "exception": false,
     "start_time": "2025-07-28T10:37:11.023047",
     "status": "completed"
    },
    "tags": []
   },
   "outputs": [
    {
     "data": {
      "text/plain": [
       "4"
      ]
     },
     "execution_count": 70,
     "metadata": {},
     "output_type": "execute_result"
    }
   ],
   "source": [
    "sub_universes = universe_analysis.generate_sub_universes()\n",
    "len(sub_universes)"
   ]
  },
  {
   "cell_type": "code",
   "execution_count": 71,
   "id": "92adf7ba",
   "metadata": {
    "execution": {
     "iopub.execute_input": "2025-07-28T10:37:11.113885Z",
     "iopub.status.busy": "2025-07-28T10:37:11.113477Z",
     "iopub.status.idle": "2025-07-28T10:37:11.119498Z",
     "shell.execute_reply": "2025-07-28T10:37:11.118417Z"
    },
    "papermill": {
     "duration": 0.040609,
     "end_time": "2025-07-28T10:37:11.121216",
     "exception": false,
     "start_time": "2025-07-28T10:37:11.080607",
     "status": "completed"
    },
    "tags": []
   },
   "outputs": [],
   "source": [
    "def filter_sub_universe_data(sub_universe, org_test):\n",
    "    # Keep all rows — no filtering\n",
    "    keep_rows_mask = np.ones(org_test.shape[0], dtype=bool)\n",
    "\n",
    "    print(f\"[INFO] Keeping all rows: {keep_rows_mask.sum()} rows retained.\")\n",
    "    return keep_rows_mask"
   ]
  },
  {
   "cell_type": "code",
   "execution_count": 72,
   "id": "4a759155",
   "metadata": {
    "execution": {
     "iopub.execute_input": "2025-07-28T10:37:11.181159Z",
     "iopub.status.busy": "2025-07-28T10:37:11.180251Z",
     "iopub.status.idle": "2025-07-28T10:37:21.801118Z",
     "shell.execute_reply": "2025-07-28T10:37:21.799862Z"
    },
    "papermill": {
     "duration": 10.652484,
     "end_time": "2025-07-28T10:37:21.803012",
     "exception": false,
     "start_time": "2025-07-28T10:37:11.150528",
     "status": "completed"
    },
    "tags": []
   },
   "outputs": [
    {
     "name": "stdout",
     "output_type": "stream",
     "text": [
      "Stopping execution_time clock.\n",
      "[INFO] Keeping all rows: 89710 rows retained.\n"
     ]
    },
    {
     "name": "stdout",
     "output_type": "stream",
     "text": [
      "[INFO] Keeping all rows: 89710 rows retained.\n"
     ]
    },
    {
     "name": "stdout",
     "output_type": "stream",
     "text": [
      "[INFO] Keeping all rows: 89710 rows retained.\n"
     ]
    },
    {
     "name": "stdout",
     "output_type": "stream",
     "text": [
      "[INFO] Keeping all rows: 89710 rows retained.\n"
     ]
    },
    {
     "data": {
      "text/html": [
       "<div>\n",
       "<style scoped>\n",
       "    .dataframe tbody tr th:only-of-type {\n",
       "        vertical-align: middle;\n",
       "    }\n",
       "\n",
       "    .dataframe tbody tr th {\n",
       "        vertical-align: top;\n",
       "    }\n",
       "\n",
       "    .dataframe thead th {\n",
       "        text-align: right;\n",
       "    }\n",
       "</style>\n",
       "<table border=\"1\" class=\"dataframe\">\n",
       "  <thead>\n",
       "    <tr style=\"text-align: right;\">\n",
       "      <th></th>\n",
       "      <th>run_no</th>\n",
       "      <th>universe_id</th>\n",
       "      <th>universe_settings</th>\n",
       "      <th>execution_time</th>\n",
       "      <th>test_size_n</th>\n",
       "      <th>test_size_frac</th>\n",
       "      <th>fair_main_equalized_odds_difference</th>\n",
       "      <th>fair_main_equalized_odds_ratio</th>\n",
       "      <th>fair_main_demographic_parity_difference</th>\n",
       "      <th>fair_main_demographic_parity_ratio</th>\n",
       "      <th>...</th>\n",
       "      <th>perf_grp_precision_0</th>\n",
       "      <th>perf_grp_precision_1</th>\n",
       "      <th>perf_grp_false positive rate_0</th>\n",
       "      <th>perf_grp_false positive rate_1</th>\n",
       "      <th>perf_grp_false negative rate_0</th>\n",
       "      <th>perf_grp_false negative rate_1</th>\n",
       "      <th>perf_grp_selection rate_0</th>\n",
       "      <th>perf_grp_selection rate_1</th>\n",
       "      <th>perf_grp_count_0</th>\n",
       "      <th>perf_grp_count_1</th>\n",
       "    </tr>\n",
       "  </thead>\n",
       "  <tbody>\n",
       "    <tr>\n",
       "      <th>0</th>\n",
       "      <td>11</td>\n",
       "      <td>02305680008a3def782b19a253504795</td>\n",
       "      <td>{\"cutoff\": \"quantile_0.1\", \"eval_fairness_grou...</td>\n",
       "      <td>32.450641</td>\n",
       "      <td>89710</td>\n",
       "      <td>1.0</td>\n",
       "      <td>0.075315</td>\n",
       "      <td>0.924087</td>\n",
       "      <td>0.071531</td>\n",
       "      <td>0.923949</td>\n",
       "      <td>...</td>\n",
       "      <td>NaN</td>\n",
       "      <td>NaN</td>\n",
       "      <td>NaN</td>\n",
       "      <td>NaN</td>\n",
       "      <td>NaN</td>\n",
       "      <td>NaN</td>\n",
       "      <td>NaN</td>\n",
       "      <td>NaN</td>\n",
       "      <td>NaN</td>\n",
       "      <td>NaN</td>\n",
       "    </tr>\n",
       "    <tr>\n",
       "      <th>0</th>\n",
       "      <td>11</td>\n",
       "      <td>02305680008a3def782b19a253504795</td>\n",
       "      <td>{\"cutoff\": \"quantile_0.1\", \"eval_fairness_grou...</td>\n",
       "      <td>32.450641</td>\n",
       "      <td>89710</td>\n",
       "      <td>1.0</td>\n",
       "      <td>0.075315</td>\n",
       "      <td>0.924087</td>\n",
       "      <td>0.071531</td>\n",
       "      <td>0.923949</td>\n",
       "      <td>...</td>\n",
       "      <td>0.121625</td>\n",
       "      <td>0.139381</td>\n",
       "      <td>0.862811</td>\n",
       "      <td>0.932717</td>\n",
       "      <td>0.083193</td>\n",
       "      <td>0.007877</td>\n",
       "      <td>0.869036</td>\n",
       "      <td>0.940567</td>\n",
       "      <td>20540.0</td>\n",
       "      <td>69170.0</td>\n",
       "    </tr>\n",
       "    <tr>\n",
       "      <th>0</th>\n",
       "      <td>11</td>\n",
       "      <td>02305680008a3def782b19a253504795</td>\n",
       "      <td>{\"cutoff\": \"quantile_0.25\", \"eval_fairness_gro...</td>\n",
       "      <td>32.450641</td>\n",
       "      <td>89710</td>\n",
       "      <td>1.0</td>\n",
       "      <td>0.128750</td>\n",
       "      <td>0.865802</td>\n",
       "      <td>0.083388</td>\n",
       "      <td>0.895777</td>\n",
       "      <td>...</td>\n",
       "      <td>NaN</td>\n",
       "      <td>NaN</td>\n",
       "      <td>NaN</td>\n",
       "      <td>NaN</td>\n",
       "      <td>NaN</td>\n",
       "      <td>NaN</td>\n",
       "      <td>NaN</td>\n",
       "      <td>NaN</td>\n",
       "      <td>NaN</td>\n",
       "      <td>NaN</td>\n",
       "    </tr>\n",
       "    <tr>\n",
       "      <th>0</th>\n",
       "      <td>11</td>\n",
       "      <td>02305680008a3def782b19a253504795</td>\n",
       "      <td>{\"cutoff\": \"quantile_0.25\", \"eval_fairness_gro...</td>\n",
       "      <td>32.450641</td>\n",
       "      <td>89710</td>\n",
       "      <td>1.0</td>\n",
       "      <td>0.128750</td>\n",
       "      <td>0.865802</td>\n",
       "      <td>0.083388</td>\n",
       "      <td>0.895777</td>\n",
       "      <td>...</td>\n",
       "      <td>0.133619</td>\n",
       "      <td>0.158451</td>\n",
       "      <td>0.701849</td>\n",
       "      <td>0.775829</td>\n",
       "      <td>0.169341</td>\n",
       "      <td>0.040591</td>\n",
       "      <td>0.716699</td>\n",
       "      <td>0.800087</td>\n",
       "      <td>20540.0</td>\n",
       "      <td>69170.0</td>\n",
       "    </tr>\n",
       "  </tbody>\n",
       "</table>\n",
       "<p>4 rows × 50 columns</p>\n",
       "</div>"
      ],
      "text/plain": [
       "  run_no                       universe_id  \\\n",
       "0     11  02305680008a3def782b19a253504795   \n",
       "0     11  02305680008a3def782b19a253504795   \n",
       "0     11  02305680008a3def782b19a253504795   \n",
       "0     11  02305680008a3def782b19a253504795   \n",
       "\n",
       "                                   universe_settings  execution_time  \\\n",
       "0  {\"cutoff\": \"quantile_0.1\", \"eval_fairness_grou...       32.450641   \n",
       "0  {\"cutoff\": \"quantile_0.1\", \"eval_fairness_grou...       32.450641   \n",
       "0  {\"cutoff\": \"quantile_0.25\", \"eval_fairness_gro...       32.450641   \n",
       "0  {\"cutoff\": \"quantile_0.25\", \"eval_fairness_gro...       32.450641   \n",
       "\n",
       "   test_size_n  test_size_frac  fair_main_equalized_odds_difference  \\\n",
       "0        89710             1.0                             0.075315   \n",
       "0        89710             1.0                             0.075315   \n",
       "0        89710             1.0                             0.128750   \n",
       "0        89710             1.0                             0.128750   \n",
       "\n",
       "   fair_main_equalized_odds_ratio  fair_main_demographic_parity_difference  \\\n",
       "0                        0.924087                                 0.071531   \n",
       "0                        0.924087                                 0.071531   \n",
       "0                        0.865802                                 0.083388   \n",
       "0                        0.865802                                 0.083388   \n",
       "\n",
       "   fair_main_demographic_parity_ratio  ...  perf_grp_precision_0  \\\n",
       "0                            0.923949  ...                   NaN   \n",
       "0                            0.923949  ...              0.121625   \n",
       "0                            0.895777  ...                   NaN   \n",
       "0                            0.895777  ...              0.133619   \n",
       "\n",
       "   perf_grp_precision_1  perf_grp_false positive rate_0  \\\n",
       "0                   NaN                             NaN   \n",
       "0              0.139381                        0.862811   \n",
       "0                   NaN                             NaN   \n",
       "0              0.158451                        0.701849   \n",
       "\n",
       "   perf_grp_false positive rate_1  perf_grp_false negative rate_0  \\\n",
       "0                             NaN                             NaN   \n",
       "0                        0.932717                        0.083193   \n",
       "0                             NaN                             NaN   \n",
       "0                        0.775829                        0.169341   \n",
       "\n",
       "   perf_grp_false negative rate_1  perf_grp_selection rate_0  \\\n",
       "0                             NaN                        NaN   \n",
       "0                        0.007877                   0.869036   \n",
       "0                             NaN                        NaN   \n",
       "0                        0.040591                   0.716699   \n",
       "\n",
       "   perf_grp_selection rate_1  perf_grp_count_0  perf_grp_count_1  \n",
       "0                        NaN               NaN               NaN  \n",
       "0                   0.940567           20540.0           69170.0  \n",
       "0                        NaN               NaN               NaN  \n",
       "0                   0.800087           20540.0           69170.0  \n",
       "\n",
       "[4 rows x 50 columns]"
      ]
     },
     "execution_count": 72,
     "metadata": {},
     "output_type": "execute_result"
    }
   ],
   "source": [
    "final_output = universe_analysis.generate_final_output(\n",
    "    y_pred_prob=probs_test,\n",
    "    y_test=y_true,\n",
    "    org_test=org_test,\n",
    "    filter_data=filter_sub_universe_data,\n",
    "    cp_metrics_df=cp_metrics_df,\n",
    "    save=True,\n",
    ")\n",
    "final_output"
   ]
  },
  {
   "cell_type": "code",
   "execution_count": null,
   "id": "721ff514-cb11-46f8-b6fc-50392f74b5cb",
   "metadata": {
    "papermill": {
     "duration": 0.029005,
     "end_time": "2025-07-28T10:37:21.863547",
     "exception": false,
     "start_time": "2025-07-28T10:37:21.834542",
     "status": "completed"
    },
    "tags": []
   },
   "outputs": [],
   "source": []
  }
 ],
 "metadata": {
  "celltoolbar": "Tags",
  "kernelspec": {
   "display_name": "Python (CMA Fairness)",
   "language": "python",
   "name": "cma_fair_env"
  },
  "language_info": {
   "codemirror_mode": {
    "name": "ipython",
    "version": 3
   },
   "file_extension": ".py",
   "mimetype": "text/x-python",
   "name": "python",
   "nbconvert_exporter": "python",
   "pygments_lexer": "ipython3",
   "version": "3.10.12"
  },
  "papermill": {
   "default_parameters": {},
   "duration": 47.987284,
   "end_time": "2025-07-28T10:37:22.937856",
   "environment_variables": {},
   "exception": null,
   "input_path": "universe_analysis.ipynb",
   "output_path": "output/runs/11/notebooks/m_11-02305680008a3def782b19a253504795.ipynb",
   "parameters": {
    "output_dir": "output",
    "run_no": "11",
    "seed": "2023",
    "universe": "{\"cutoff\": [\"quantile_0.1\", \"quantile_0.25\"], \"eval_fairness_grouping\": [\"majority-minority\", \"nationality-all\"], \"exclude_features\": \"none\", \"exclude_subgroups\": \"keep-all\", \"model\": \"rf\", \"scale\": \"do-not-scale\", \"training_size\": \"5k\"}",
    "universe_id": "02305680008a3def782b19a253504795"
   },
   "start_time": "2025-07-28T10:36:34.950572",
   "version": "2.6.0"
  }
 },
 "nbformat": 4,
 "nbformat_minor": 5
}