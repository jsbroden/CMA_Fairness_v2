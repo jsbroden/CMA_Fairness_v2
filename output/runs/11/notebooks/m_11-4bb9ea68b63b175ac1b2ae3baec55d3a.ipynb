{
 "cells": [
  {
   "cell_type": "code",
   "execution_count": 1,
   "id": "f159f837-637b-42ba-96b5-ec9a68c44524",
   "metadata": {
    "execution": {
     "iopub.execute_input": "2025-07-28T10:52:31.376402Z",
     "iopub.status.busy": "2025-07-28T10:52:31.375582Z",
     "iopub.status.idle": "2025-07-28T10:52:31.397298Z",
     "shell.execute_reply": "2025-07-28T10:52:31.396062Z"
    },
    "papermill": {
     "duration": 0.039335,
     "end_time": "2025-07-28T10:52:31.400078",
     "exception": false,
     "start_time": "2025-07-28T10:52:31.360743",
     "status": "completed"
    },
    "tags": []
   },
   "outputs": [
    {
     "name": "stdout",
     "output_type": "stream",
     "text": [
      "/dss/dsshome1/0C/ra93lal2/cma/CMA_Fairness_v2\n"
     ]
    },
    {
     "name": "stderr",
     "output_type": "stream",
     "text": [
      "/dss/dsshome1/0C/ra93lal2/.local/share/virtualenvs/CMA_Fairness_v2-3j10GkSs/lib/python3.10/site-packages/IPython/core/magics/osm.py:393: UserWarning: This is now an optional IPython functionality, using bookmarks requires you to install the `pickleshare` library.\n",
      "  bkms = self.shell.db.get('bookmarks', {})\n",
      "/dss/dsshome1/0C/ra93lal2/.local/share/virtualenvs/CMA_Fairness_v2-3j10GkSs/lib/python3.10/site-packages/IPython/core/magics/osm.py:417: UserWarning: This is now an optional IPython functionality, setting dhist requires you to install the `pickleshare` library.\n",
      "  self.shell.db['dhist'] = compress_dhist(dhist)[-100:]\n"
     ]
    }
   ],
   "source": [
    "%cd ~/cma/CMA_Fairness_v2"
   ]
  },
  {
   "cell_type": "markdown",
   "id": "de2603b9",
   "metadata": {
    "papermill": {
     "duration": 0.011188,
     "end_time": "2025-07-28T10:52:31.436518",
     "exception": false,
     "start_time": "2025-07-28T10:52:31.425330",
     "status": "completed"
    },
    "tags": []
   },
   "source": [
    "The following cell holds the definition of our parameters, these values can be overriden by rendering the with e.g. the following command:\n",
    "\n",
    "papermill -p alpha 0.2 -p ratio 0.3 universe_analysis.ipynb output/test_run.ipynb"
   ]
  },
  {
   "cell_type": "code",
   "execution_count": 2,
   "id": "a80968a0-40bb-4fa9-85ef-2d5eefb01975",
   "metadata": {
    "execution": {
     "iopub.execute_input": "2025-07-28T10:52:31.492698Z",
     "iopub.status.busy": "2025-07-28T10:52:31.492234Z",
     "iopub.status.idle": "2025-07-28T10:52:31.498315Z",
     "shell.execute_reply": "2025-07-28T10:52:31.497339Z"
    },
    "papermill": {
     "duration": 0.037707,
     "end_time": "2025-07-28T10:52:31.500093",
     "exception": false,
     "start_time": "2025-07-28T10:52:31.462386",
     "status": "completed"
    },
    "tags": []
   },
   "outputs": [
    {
     "name": "stdout",
     "output_type": "stream",
     "text": [
      "Current working directory: /dss/dsshome1/0C/ra93lal2/cma/CMA_Fairness_v2\n"
     ]
    }
   ],
   "source": [
    "import os\n",
    "print(\"Current working directory:\", os.getcwd())"
   ]
  },
  {
   "cell_type": "code",
   "execution_count": 3,
   "id": "2dce4c03",
   "metadata": {
    "execution": {
     "iopub.execute_input": "2025-07-28T10:52:31.543728Z",
     "iopub.status.busy": "2025-07-28T10:52:31.542623Z",
     "iopub.status.idle": "2025-07-28T10:52:31.549326Z",
     "shell.execute_reply": "2025-07-28T10:52:31.548499Z"
    },
    "papermill": {
     "duration": 0.030386,
     "end_time": "2025-07-28T10:52:31.550671",
     "exception": false,
     "start_time": "2025-07-28T10:52:31.520285",
     "status": "completed"
    },
    "tags": [
     "parameters"
    ]
   },
   "outputs": [],
   "source": [
    "run_no = 0\n",
    "universe_id = \"test\"\n",
    "universe = {\n",
    "    \"training_size\": \"2014\", # \"25k\", \"5k\", \"1k\", \"2014\"\n",
    "    \"scale\": \"scale\", # \"scale\", \"do-not-scale\",\n",
    "    #\"stratify_split\": \"target\", # \"none\", \"target\", \"protected-attribute\", \"both\",\n",
    "    \"model\": \"elasticnet\", # \"logreg\", \"penalized_logreg\", \"rf\", \"gbm\", \"elasticnet\"\n",
    "    \"cutoff\": [\"quantile_0.15\", \"quantile_0.30\"],\n",
    "    \"exclude_features\": \"age\", # \"none\", \"nationality\", \"sex\", \"nationality-sex\", \"age\"\n",
    "    \"exclude_subgroups\": \"keep-all\", # \"keep-all\", \"drop-non-german\"\n",
    "    \"eval_fairness_grouping\": [\"majority-minority\", \"nationality-all\"]\n",
    "}\n",
    "\n",
    "output_dir=\"./output\"\n",
    "seed=0"
   ]
  },
  {
   "cell_type": "code",
   "execution_count": 4,
   "id": "c6a7e7ce",
   "metadata": {
    "execution": {
     "iopub.execute_input": "2025-07-28T10:52:31.593837Z",
     "iopub.status.busy": "2025-07-28T10:52:31.593500Z",
     "iopub.status.idle": "2025-07-28T10:52:31.598632Z",
     "shell.execute_reply": "2025-07-28T10:52:31.597551Z"
    },
    "papermill": {
     "duration": 0.028569,
     "end_time": "2025-07-28T10:52:31.600383",
     "exception": false,
     "start_time": "2025-07-28T10:52:31.571814",
     "status": "completed"
    },
    "tags": [
     "injected-parameters"
    ]
   },
   "outputs": [],
   "source": [
    "# Parameters\n",
    "universe_id = \"4bb9ea68b63b175ac1b2ae3baec55d3a\"\n",
    "run_no = \"11\"\n",
    "universe = \"{\\\"cutoff\\\": [\\\"quantile_0.1\\\", \\\"quantile_0.25\\\"], \\\"eval_fairness_grouping\\\": [\\\"majority-minority\\\", \\\"nationality-all\\\"], \\\"exclude_features\\\": \\\"nationality-sex\\\", \\\"exclude_subgroups\\\": \\\"drop-non-german\\\", \\\"model\\\": \\\"elasticnet\\\", \\\"scale\\\": \\\"do-not-scale\\\", \\\"training_size\\\": \\\"1k\\\"}\"\n",
    "output_dir = \"output\"\n",
    "seed = \"2023\"\n"
   ]
  },
  {
   "cell_type": "code",
   "execution_count": 5,
   "id": "1650acaf",
   "metadata": {
    "execution": {
     "iopub.execute_input": "2025-07-28T10:52:31.638658Z",
     "iopub.status.busy": "2025-07-28T10:52:31.638244Z",
     "iopub.status.idle": "2025-07-28T10:52:31.643834Z",
     "shell.execute_reply": "2025-07-28T10:52:31.642738Z"
    },
    "papermill": {
     "duration": 0.024343,
     "end_time": "2025-07-28T10:52:31.645453",
     "exception": false,
     "start_time": "2025-07-28T10:52:31.621110",
     "status": "completed"
    },
    "tags": []
   },
   "outputs": [],
   "source": [
    "import json\n",
    "# Parse universe into dict if it is passed as a string\n",
    "if isinstance(universe, str):\n",
    "    universe = json.loads(universe)"
   ]
  },
  {
   "cell_type": "code",
   "execution_count": 6,
   "id": "16620c48",
   "metadata": {
    "execution": {
     "iopub.execute_input": "2025-07-28T10:52:31.672112Z",
     "iopub.status.busy": "2025-07-28T10:52:31.671614Z",
     "iopub.status.idle": "2025-07-28T10:52:31.707106Z",
     "shell.execute_reply": "2025-07-28T10:52:31.706035Z"
    },
    "papermill": {
     "duration": 0.05264,
     "end_time": "2025-07-28T10:52:31.709120",
     "exception": false,
     "start_time": "2025-07-28T10:52:31.656480",
     "status": "completed"
    },
    "tags": []
   },
   "outputs": [],
   "source": [
    "# Auto-reload the custom package\n",
    "%load_ext autoreload\n",
    "%autoreload 1\n",
    "%aimport fairness_multiverse"
   ]
  },
  {
   "cell_type": "code",
   "execution_count": 7,
   "id": "01c5c9f3",
   "metadata": {
    "execution": {
     "iopub.execute_input": "2025-07-28T10:52:31.751817Z",
     "iopub.status.busy": "2025-07-28T10:52:31.751290Z",
     "iopub.status.idle": "2025-07-28T10:52:33.645832Z",
     "shell.execute_reply": "2025-07-28T10:52:33.645054Z"
    },
    "papermill": {
     "duration": 1.917082,
     "end_time": "2025-07-28T10:52:33.647426",
     "exception": false,
     "start_time": "2025-07-28T10:52:31.730344",
     "status": "completed"
    },
    "tags": []
   },
   "outputs": [],
   "source": [
    "from fairness_multiverse.universe import UniverseAnalysis\n",
    "\n",
    "universe_analysis = UniverseAnalysis(\n",
    "    run_no = run_no,\n",
    "    universe_id = universe_id,\n",
    "    universe = universe,\n",
    "    output_dir=output_dir,\n",
    ")"
   ]
  },
  {
   "cell_type": "code",
   "execution_count": 8,
   "id": "106241f5",
   "metadata": {
    "execution": {
     "iopub.execute_input": "2025-07-28T10:52:33.670241Z",
     "iopub.status.busy": "2025-07-28T10:52:33.669416Z",
     "iopub.status.idle": "2025-07-28T10:52:33.675115Z",
     "shell.execute_reply": "2025-07-28T10:52:33.674293Z"
    },
    "papermill": {
     "duration": 0.018183,
     "end_time": "2025-07-28T10:52:33.676600",
     "exception": false,
     "start_time": "2025-07-28T10:52:33.658417",
     "status": "completed"
    },
    "tags": []
   },
   "outputs": [
    {
     "name": "stdout",
     "output_type": "stream",
     "text": [
      "Using Seed: 2023\n"
     ]
    }
   ],
   "source": [
    "import numpy as np\n",
    "parsed_seed = int(seed)\n",
    "np.random.seed(parsed_seed)\n",
    "print(f\"Using Seed: {parsed_seed}\")"
   ]
  },
  {
   "cell_type": "markdown",
   "id": "e0ebdc57",
   "metadata": {
    "papermill": {
     "duration": 0.010141,
     "end_time": "2025-07-28T10:52:33.697609",
     "exception": false,
     "start_time": "2025-07-28T10:52:33.687468",
     "status": "completed"
    },
    "tags": []
   },
   "source": [
    "# Loading Data"
   ]
  },
  {
   "cell_type": "markdown",
   "id": "681925a3",
   "metadata": {
    "papermill": {
     "duration": 0.010242,
     "end_time": "2025-07-28T10:52:33.718241",
     "exception": false,
     "start_time": "2025-07-28T10:52:33.707999",
     "status": "completed"
    },
    "tags": []
   },
   "source": [
    "Load siab_train, siab_test, siab_calib and/or \n",
    "load siab_train_features, siab_train_labels"
   ]
  },
  {
   "cell_type": "code",
   "execution_count": 9,
   "id": "f0496b8a",
   "metadata": {
    "execution": {
     "iopub.execute_input": "2025-07-28T10:52:33.739952Z",
     "iopub.status.busy": "2025-07-28T10:52:33.739435Z",
     "iopub.status.idle": "2025-07-28T10:52:46.107443Z",
     "shell.execute_reply": "2025-07-28T10:52:46.106278Z"
    },
    "papermill": {
     "duration": 12.380599,
     "end_time": "2025-07-28T10:52:46.109116",
     "exception": false,
     "start_time": "2025-07-28T10:52:33.728517",
     "status": "completed"
    },
    "tags": []
   },
   "outputs": [
    {
     "name": "stdout",
     "output_type": "stream",
     "text": [
      "Loading SIAB data from cache: data/siab_cached.csv.gz\n"
     ]
    },
    {
     "name": "stdout",
     "output_type": "stream",
     "text": [
      "(643690, 164)\n"
     ]
    }
   ],
   "source": [
    "from pathlib import Path\n",
    "import pandas as pd\n",
    "\n",
    "# File paths\n",
    "raw_file = Path(\"data/raw/siab.csv\")\n",
    "cache_file = Path(\"data/siab_cached.csv.gz\")\n",
    "\n",
    "# Ensure cache directory exists\n",
    "cache_file.parent.mkdir(parents=True, exist_ok=True)\n",
    "\n",
    "# Load with simple caching\n",
    "if cache_file.exists():\n",
    "    print(f\"Loading SIAB data from cache: {cache_file}\")\n",
    "    siab = pd.read_csv(cache_file, compression='gzip')\n",
    "else:\n",
    "    print(f\"Cache not found. Reading raw SIAB data: {raw_file}\")\n",
    "    siab = pd.read_csv(raw_file)\n",
    "    siab.to_csv(cache_file, index=False, compression='gzip')\n",
    "    print(f\"Cached SIAB data to: {cache_file}\")\n",
    "\n",
    "# Now use `siab` DataFrame as needed\n",
    "print(siab.shape)"
   ]
  },
  {
   "cell_type": "code",
   "execution_count": 10,
   "id": "db0ca512-5f53-4dba-abdb-a2888bca41ba",
   "metadata": {
    "execution": {
     "iopub.execute_input": "2025-07-28T10:52:46.150857Z",
     "iopub.status.busy": "2025-07-28T10:52:46.150369Z",
     "iopub.status.idle": "2025-07-28T10:52:46.156201Z",
     "shell.execute_reply": "2025-07-28T10:52:46.155283Z"
    },
    "papermill": {
     "duration": 0.027247,
     "end_time": "2025-07-28T10:52:46.158063",
     "exception": false,
     "start_time": "2025-07-28T10:52:46.130816",
     "status": "completed"
    },
    "tags": []
   },
   "outputs": [],
   "source": [
    "#siab"
   ]
  },
  {
   "cell_type": "code",
   "execution_count": 11,
   "id": "a0edb063",
   "metadata": {
    "execution": {
     "iopub.execute_input": "2025-07-28T10:52:46.198973Z",
     "iopub.status.busy": "2025-07-28T10:52:46.198276Z",
     "iopub.status.idle": "2025-07-28T10:52:46.203012Z",
     "shell.execute_reply": "2025-07-28T10:52:46.202119Z"
    },
    "papermill": {
     "duration": 0.026344,
     "end_time": "2025-07-28T10:52:46.204705",
     "exception": false,
     "start_time": "2025-07-28T10:52:46.178361",
     "status": "completed"
    },
    "tags": []
   },
   "outputs": [],
   "source": [
    "#import pandas as pd\n",
    "#\n",
    "#X_train = pd.read_csv(\"./data/X_train.csv\")\n",
    "#y_train = pd.read_csv(\"./data/y_train.csv\")"
   ]
  },
  {
   "cell_type": "code",
   "execution_count": 12,
   "id": "63d08085",
   "metadata": {
    "execution": {
     "iopub.execute_input": "2025-07-28T10:52:46.245015Z",
     "iopub.status.busy": "2025-07-28T10:52:46.244303Z",
     "iopub.status.idle": "2025-07-28T10:52:46.249072Z",
     "shell.execute_reply": "2025-07-28T10:52:46.248177Z"
    },
    "papermill": {
     "duration": 0.026914,
     "end_time": "2025-07-28T10:52:46.250688",
     "exception": false,
     "start_time": "2025-07-28T10:52:46.223774",
     "status": "completed"
    },
    "tags": []
   },
   "outputs": [],
   "source": [
    "#X_test = pd.read_csv(\"./data/X_test.csv\")\n",
    "#y_true = pd.read_csv(\"./data/y_test.csv\")"
   ]
  },
  {
   "cell_type": "code",
   "execution_count": 13,
   "id": "98a8d0fa-1d3d-4ed8-bb2c-281470e24add",
   "metadata": {
    "execution": {
     "iopub.execute_input": "2025-07-28T10:52:46.291246Z",
     "iopub.status.busy": "2025-07-28T10:52:46.290347Z",
     "iopub.status.idle": "2025-07-28T10:52:46.295135Z",
     "shell.execute_reply": "2025-07-28T10:52:46.294257Z"
    },
    "papermill": {
     "duration": 0.026785,
     "end_time": "2025-07-28T10:52:46.296623",
     "exception": false,
     "start_time": "2025-07-28T10:52:46.269838",
     "status": "completed"
    },
    "tags": []
   },
   "outputs": [],
   "source": [
    "# Calibration data for conformal\n",
    "#X_calib = pd.read_csv(\"./data/X_calib.csv\")\n",
    "#y_calib = pd.read_csv(\"./data/y_calib.csv\")"
   ]
  },
  {
   "cell_type": "markdown",
   "id": "9901737e-04df-44f0-9100-f5ad144ed040",
   "metadata": {
    "papermill": {
     "duration": 0.020009,
     "end_time": "2025-07-28T10:52:46.335782",
     "exception": false,
     "start_time": "2025-07-28T10:52:46.315773",
     "status": "completed"
    },
    "tags": []
   },
   "source": [
    "# Splitting Data and Setting Training Data Size"
   ]
  },
  {
   "cell_type": "code",
   "execution_count": 14,
   "id": "acbc8f7d-8fc8-4e86-8c59-5dcb0f58384b",
   "metadata": {
    "execution": {
     "iopub.execute_input": "2025-07-28T10:52:46.375496Z",
     "iopub.status.busy": "2025-07-28T10:52:46.374651Z",
     "iopub.status.idle": "2025-07-28T10:52:46.382673Z",
     "shell.execute_reply": "2025-07-28T10:52:46.381819Z"
    },
    "papermill": {
     "duration": 0.029663,
     "end_time": "2025-07-28T10:52:46.384257",
     "exception": false,
     "start_time": "2025-07-28T10:52:46.354594",
     "status": "completed"
    },
    "tags": []
   },
   "outputs": [],
   "source": [
    "def sample_by_year(df, training_size, random_state=42):\n",
    "    if training_size == \"2014\":\n",
    "        return df[df[\"year\"] == 2014].reset_index(drop=True)\n",
    "    \n",
    "    size_map = {\n",
    "        \"25k\": 5000,\n",
    "        \"5k\": 1000,\n",
    "        \"1k\": 200\n",
    "    }\n",
    "\n",
    "    if training_size not in size_map:\n",
    "        return df.reset_index(drop=True)  # use all data\n",
    "\n",
    "    n_per_year = size_map[training_size]\n",
    "    grouped = df.groupby(\"year\")\n",
    "    sampled = grouped.apply(lambda x: x.sample(n=min(n_per_year, len(x)), random_state=random_state))\n",
    "    return sampled.reset_index(drop=True)"
   ]
  },
  {
   "cell_type": "code",
   "execution_count": 15,
   "id": "6d931f52-beaf-43ff-9e78-9d44a448d54e",
   "metadata": {
    "execution": {
     "iopub.execute_input": "2025-07-28T10:52:46.429396Z",
     "iopub.status.busy": "2025-07-28T10:52:46.429032Z",
     "iopub.status.idle": "2025-07-28T10:52:47.052886Z",
     "shell.execute_reply": "2025-07-28T10:52:47.051821Z"
    },
    "papermill": {
     "duration": 0.65021,
     "end_time": "2025-07-28T10:52:47.054913",
     "exception": false,
     "start_time": "2025-07-28T10:52:46.404703",
     "status": "completed"
    },
    "tags": []
   },
   "outputs": [],
   "source": [
    "siab_s = sample_by_year(siab, universe[\"training_size\"])"
   ]
  },
  {
   "cell_type": "code",
   "execution_count": 16,
   "id": "5db0a40e-a4e2-4920-be85-b12ae061d70d",
   "metadata": {
    "execution": {
     "iopub.execute_input": "2025-07-28T10:52:47.095137Z",
     "iopub.status.busy": "2025-07-28T10:52:47.094712Z",
     "iopub.status.idle": "2025-07-28T10:52:47.108924Z",
     "shell.execute_reply": "2025-07-28T10:52:47.107939Z"
    },
    "papermill": {
     "duration": 0.036186,
     "end_time": "2025-07-28T10:52:47.110782",
     "exception": false,
     "start_time": "2025-07-28T10:52:47.074596",
     "status": "completed"
    },
    "tags": []
   },
   "outputs": [
    {
     "data": {
      "text/plain": [
       "year\n",
       "2010    200\n",
       "2011    200\n",
       "2012    200\n",
       "2013    200\n",
       "2014    200\n",
       "2015    200\n",
       "2016    200\n",
       "dtype: int64"
      ]
     },
     "metadata": {},
     "output_type": "display_data"
    }
   ],
   "source": [
    "display(siab_s.groupby(\"year\").size())"
   ]
  },
  {
   "cell_type": "code",
   "execution_count": 17,
   "id": "a561edb4-d032-42cb-8256-22eac1111c64",
   "metadata": {
    "execution": {
     "iopub.execute_input": "2025-07-28T10:52:47.152596Z",
     "iopub.status.busy": "2025-07-28T10:52:47.151906Z",
     "iopub.status.idle": "2025-07-28T10:52:47.399135Z",
     "shell.execute_reply": "2025-07-28T10:52:47.398205Z"
    },
    "papermill": {
     "duration": 0.270504,
     "end_time": "2025-07-28T10:52:47.401056",
     "exception": false,
     "start_time": "2025-07-28T10:52:47.130552",
     "status": "completed"
    },
    "tags": []
   },
   "outputs": [],
   "source": [
    "siab_train = siab_s[siab_s.year < 2015]\n",
    "siab_calib = siab[siab.year == 2015]\n",
    "siab_test = siab[siab.year == 2016]"
   ]
  },
  {
   "cell_type": "code",
   "execution_count": 18,
   "id": "472de16f-c3db-4916-846b-1f0de9cf1746",
   "metadata": {
    "execution": {
     "iopub.execute_input": "2025-07-28T10:52:47.443947Z",
     "iopub.status.busy": "2025-07-28T10:52:47.443432Z",
     "iopub.status.idle": "2025-07-28T10:52:47.450968Z",
     "shell.execute_reply": "2025-07-28T10:52:47.449864Z"
    },
    "papermill": {
     "duration": 0.031285,
     "end_time": "2025-07-28T10:52:47.452744",
     "exception": false,
     "start_time": "2025-07-28T10:52:47.421459",
     "status": "completed"
    },
    "tags": []
   },
   "outputs": [],
   "source": [
    "X_train = siab_train.iloc[:,4:164]\n",
    "y_train = siab_train.iloc[:, [3]]"
   ]
  },
  {
   "cell_type": "code",
   "execution_count": 19,
   "id": "828c96af-f43a-4ed6-ba47-8ac73a47d56c",
   "metadata": {
    "execution": {
     "iopub.execute_input": "2025-07-28T10:52:47.494968Z",
     "iopub.status.busy": "2025-07-28T10:52:47.494135Z",
     "iopub.status.idle": "2025-07-28T10:52:47.547633Z",
     "shell.execute_reply": "2025-07-28T10:52:47.546519Z"
    },
    "papermill": {
     "duration": 0.076038,
     "end_time": "2025-07-28T10:52:47.549362",
     "exception": false,
     "start_time": "2025-07-28T10:52:47.473324",
     "status": "completed"
    },
    "tags": []
   },
   "outputs": [],
   "source": [
    "X_calib = siab_calib.iloc[:,4:164]\n",
    "y_calib = siab_calib.iloc[:, [3]]"
   ]
  },
  {
   "cell_type": "code",
   "execution_count": 20,
   "id": "c34be9c3-6bd6-476e-acd3-845840e303be",
   "metadata": {
    "execution": {
     "iopub.execute_input": "2025-07-28T10:52:47.593385Z",
     "iopub.status.busy": "2025-07-28T10:52:47.592793Z",
     "iopub.status.idle": "2025-07-28T10:52:47.649064Z",
     "shell.execute_reply": "2025-07-28T10:52:47.647766Z"
    },
    "papermill": {
     "duration": 0.079744,
     "end_time": "2025-07-28T10:52:47.650748",
     "exception": false,
     "start_time": "2025-07-28T10:52:47.571004",
     "status": "completed"
    },
    "tags": []
   },
   "outputs": [],
   "source": [
    "X_test = siab_test.iloc[:,4:164]\n",
    "y_true = siab_test.iloc[:, [3]]"
   ]
  },
  {
   "cell_type": "code",
   "execution_count": 21,
   "id": "e6c733c5",
   "metadata": {
    "execution": {
     "iopub.execute_input": "2025-07-28T10:52:47.696475Z",
     "iopub.status.busy": "2025-07-28T10:52:47.695820Z",
     "iopub.status.idle": "2025-07-28T10:52:47.792745Z",
     "shell.execute_reply": "2025-07-28T10:52:47.791789Z"
    },
    "papermill": {
     "duration": 0.122036,
     "end_time": "2025-07-28T10:52:47.794775",
     "exception": false,
     "start_time": "2025-07-28T10:52:47.672739",
     "status": "completed"
    },
    "tags": []
   },
   "outputs": [],
   "source": [
    "# Auxiliary data needed downstream in the pipeline\n",
    "\n",
    "org_train = X_train.copy()\n",
    "org_test = X_test.copy()\n",
    "org_calib = X_calib.copy()"
   ]
  },
  {
   "cell_type": "markdown",
   "id": "0a4a1b33",
   "metadata": {
    "papermill": {
     "duration": 0.020381,
     "end_time": "2025-07-28T10:52:47.837420",
     "exception": false,
     "start_time": "2025-07-28T10:52:47.817039",
     "status": "completed"
    },
    "tags": []
   },
   "source": [
    "# Preprocessing Data"
   ]
  },
  {
   "cell_type": "code",
   "execution_count": 22,
   "id": "ca879031",
   "metadata": {
    "execution": {
     "iopub.execute_input": "2025-07-28T10:52:47.883155Z",
     "iopub.status.busy": "2025-07-28T10:52:47.882615Z",
     "iopub.status.idle": "2025-07-28T10:52:47.889470Z",
     "shell.execute_reply": "2025-07-28T10:52:47.888469Z"
    },
    "papermill": {
     "duration": 0.031849,
     "end_time": "2025-07-28T10:52:47.891219",
     "exception": false,
     "start_time": "2025-07-28T10:52:47.859370",
     "status": "completed"
    },
    "tags": []
   },
   "outputs": [],
   "source": [
    "# EXCLUDE PROTECTED FEATURES\n",
    "# ----------------------\n",
    "# \"exclude_features\": \"none\", # \"nationality\", \"sex\", \"nationality-sex\"\n",
    "\n",
    "excluded_features = universe[\"exclude_features\"].split(\"-\") # split, e.g.: \"nationality-sex\" -> [\"nationality\", \"sex\"]\n",
    "excluded_features_dictionary = {\n",
    "    \"nationality\": [\"maxdeutsch1\", \"maxdeutsch.Missing.\"],\n",
    "    \"sex\": [\"frau1\"],\n",
    "    \"age\": [\"age\"],\n",
    "}\n"
   ]
  },
  {
   "cell_type": "code",
   "execution_count": 23,
   "id": "b745ac60",
   "metadata": {
    "execution": {
     "iopub.execute_input": "2025-07-28T10:52:47.932434Z",
     "iopub.status.busy": "2025-07-28T10:52:47.931940Z",
     "iopub.status.idle": "2025-07-28T10:52:47.937768Z",
     "shell.execute_reply": "2025-07-28T10:52:47.936747Z"
    },
    "papermill": {
     "duration": 0.027948,
     "end_time": "2025-07-28T10:52:47.939350",
     "exception": false,
     "start_time": "2025-07-28T10:52:47.911402",
     "status": "completed"
    },
    "tags": []
   },
   "outputs": [],
   "source": [
    "# Code nice names to column names\n",
    "\n",
    "excluded_features_columns = [\n",
    "    excluded_features_dictionary[f] for f in excluded_features if len(f) > 0 and f != \"none\"\n",
    "]"
   ]
  },
  {
   "cell_type": "code",
   "execution_count": 24,
   "id": "f84f73a2",
   "metadata": {
    "execution": {
     "iopub.execute_input": "2025-07-28T10:52:47.980987Z",
     "iopub.status.busy": "2025-07-28T10:52:47.980629Z",
     "iopub.status.idle": "2025-07-28T10:52:47.986841Z",
     "shell.execute_reply": "2025-07-28T10:52:47.985926Z"
    },
    "papermill": {
     "duration": 0.028694,
     "end_time": "2025-07-28T10:52:47.988658",
     "exception": false,
     "start_time": "2025-07-28T10:52:47.959964",
     "status": "completed"
    },
    "tags": []
   },
   "outputs": [],
   "source": [
    "from utils import flatten_once\n",
    "\n",
    "excluded_features_columns = flatten_once(excluded_features_columns)"
   ]
  },
  {
   "cell_type": "code",
   "execution_count": 25,
   "id": "884dea22",
   "metadata": {
    "execution": {
     "iopub.execute_input": "2025-07-28T10:52:48.032056Z",
     "iopub.status.busy": "2025-07-28T10:52:48.031350Z",
     "iopub.status.idle": "2025-07-28T10:52:48.039908Z",
     "shell.execute_reply": "2025-07-28T10:52:48.039018Z"
    },
    "papermill": {
     "duration": 0.032246,
     "end_time": "2025-07-28T10:52:48.041602",
     "exception": false,
     "start_time": "2025-07-28T10:52:48.009356",
     "status": "completed"
    },
    "tags": []
   },
   "outputs": [
    {
     "name": "stdout",
     "output_type": "stream",
     "text": [
      "Dropping features: ['maxdeutsch1', 'maxdeutsch.Missing.', 'frau1']\n"
     ]
    }
   ],
   "source": [
    "if len(excluded_features_columns) > 0:\n",
    "    print(f\"Dropping features: {excluded_features_columns}\")\n",
    "    X_train.drop(excluded_features_columns, axis=1, inplace=True)"
   ]
  },
  {
   "cell_type": "code",
   "execution_count": 26,
   "id": "95ab8b16",
   "metadata": {
    "execution": {
     "iopub.execute_input": "2025-07-28T10:52:48.085935Z",
     "iopub.status.busy": "2025-07-28T10:52:48.085270Z",
     "iopub.status.idle": "2025-07-28T10:52:48.141468Z",
     "shell.execute_reply": "2025-07-28T10:52:48.140286Z"
    },
    "papermill": {
     "duration": 0.080665,
     "end_time": "2025-07-28T10:52:48.143121",
     "exception": false,
     "start_time": "2025-07-28T10:52:48.062456",
     "status": "completed"
    },
    "tags": []
   },
   "outputs": [
    {
     "name": "stdout",
     "output_type": "stream",
     "text": [
      "Dropping features: ['maxdeutsch1', 'maxdeutsch.Missing.', 'frau1']\n"
     ]
    }
   ],
   "source": [
    "if len(excluded_features_columns) > 0:\n",
    "    print(f\"Dropping features: {excluded_features_columns}\")\n",
    "    X_test.drop(excluded_features_columns, axis=1, inplace=True)"
   ]
  },
  {
   "cell_type": "code",
   "execution_count": 27,
   "id": "1853aaf5-fb9f-46cb-a2b5-8ea4ae2237e4",
   "metadata": {
    "execution": {
     "iopub.execute_input": "2025-07-28T10:52:48.187267Z",
     "iopub.status.busy": "2025-07-28T10:52:48.186477Z",
     "iopub.status.idle": "2025-07-28T10:52:48.240547Z",
     "shell.execute_reply": "2025-07-28T10:52:48.239470Z"
    },
    "papermill": {
     "duration": 0.078299,
     "end_time": "2025-07-28T10:52:48.242518",
     "exception": false,
     "start_time": "2025-07-28T10:52:48.164219",
     "status": "completed"
    },
    "tags": []
   },
   "outputs": [
    {
     "name": "stdout",
     "output_type": "stream",
     "text": [
      "Dropping features: ['maxdeutsch1', 'maxdeutsch.Missing.', 'frau1']\n"
     ]
    }
   ],
   "source": [
    "if len(excluded_features_columns) > 0:\n",
    "    print(f\"Dropping features: {excluded_features_columns}\")\n",
    "    X_calib.drop(excluded_features_columns, axis=1, inplace=True)"
   ]
  },
  {
   "cell_type": "code",
   "execution_count": 28,
   "id": "6727d079-03e5-481e-9d38-292a90b7a0a8",
   "metadata": {
    "execution": {
     "iopub.execute_input": "2025-07-28T10:52:48.286291Z",
     "iopub.status.busy": "2025-07-28T10:52:48.285530Z",
     "iopub.status.idle": "2025-07-28T10:52:48.290693Z",
     "shell.execute_reply": "2025-07-28T10:52:48.289793Z"
    },
    "papermill": {
     "duration": 0.028692,
     "end_time": "2025-07-28T10:52:48.292272",
     "exception": false,
     "start_time": "2025-07-28T10:52:48.263580",
     "status": "completed"
    },
    "tags": []
   },
   "outputs": [],
   "source": [
    "# SPLIT & STRATIFY DATA\n",
    "# ----------------------"
   ]
  },
  {
   "cell_type": "code",
   "execution_count": 29,
   "id": "76c4dc6d",
   "metadata": {
    "execution": {
     "iopub.execute_input": "2025-07-28T10:52:48.336056Z",
     "iopub.status.busy": "2025-07-28T10:52:48.335470Z",
     "iopub.status.idle": "2025-07-28T10:52:48.341051Z",
     "shell.execute_reply": "2025-07-28T10:52:48.340055Z"
    },
    "papermill": {
     "duration": 0.029546,
     "end_time": "2025-07-28T10:52:48.342523",
     "exception": false,
     "start_time": "2025-07-28T10:52:48.312977",
     "status": "completed"
    },
    "tags": []
   },
   "outputs": [],
   "source": [
    "# EXCLUDE CERTAIN SUBGROUPS\n",
    "# ----------------------\n",
    "\n",
    "mode = universe.get(\"exclude_subgroups\", \"keep-all\") \n",
    "# Fetches the exclude_subgroups setting from the universe dict.\n",
    "# Defaults to \"keep-all\" if the key is missing."
   ]
  },
  {
   "cell_type": "code",
   "execution_count": 30,
   "id": "21994072",
   "metadata": {
    "execution": {
     "iopub.execute_input": "2025-07-28T10:52:48.386648Z",
     "iopub.status.busy": "2025-07-28T10:52:48.385809Z",
     "iopub.status.idle": "2025-07-28T10:52:48.393157Z",
     "shell.execute_reply": "2025-07-28T10:52:48.392190Z"
    },
    "papermill": {
     "duration": 0.031499,
     "end_time": "2025-07-28T10:52:48.394834",
     "exception": false,
     "start_time": "2025-07-28T10:52:48.363335",
     "status": "completed"
    },
    "tags": []
   },
   "outputs": [],
   "source": [
    "if mode == \"keep-all\":\n",
    "    keep_mask = pd.Series(True, index=org_train.index)\n",
    "\n",
    "# org_train contains the original feature columns from features_org (in Simson)\n",
    "# features_org contains unprocessed features, for me X_train at beginning ???\n",
    "# For keep-all, creates a boolean Series (keep_mask) of all True, so no rows are removed.\n",
    "\n",
    "elif mode == \"drop-non-german\":\n",
    "    keep_mask = org_train[\"maxdeutsch1\"] == 1 # ??? what about missing values?\n",
    "\n",
    "else:\n",
    "    raise ValueError(f\"Unsupported mode for exclude_subgroups: {mode}\")\n"
   ]
  },
  {
   "cell_type": "code",
   "execution_count": 31,
   "id": "71651440",
   "metadata": {
    "execution": {
     "iopub.execute_input": "2025-07-28T10:52:48.438583Z",
     "iopub.status.busy": "2025-07-28T10:52:48.437959Z",
     "iopub.status.idle": "2025-07-28T10:52:48.445866Z",
     "shell.execute_reply": "2025-07-28T10:52:48.444915Z"
    },
    "papermill": {
     "duration": 0.032021,
     "end_time": "2025-07-28T10:52:48.447456",
     "exception": false,
     "start_time": "2025-07-28T10:52:48.415435",
     "status": "completed"
    },
    "tags": []
   },
   "outputs": [
    {
     "name": "stdout",
     "output_type": "stream",
     "text": [
      "Dropping 131 rows (13.10%) where mode='drop-non-german'\n"
     ]
    }
   ],
   "source": [
    "n_drop = (~keep_mask).sum() # Calculates how many rows are set to be dropped\n",
    "if n_drop > 0:\n",
    "    pct = n_drop / len(keep_mask) * 100\n",
    "    print(f\"Dropping {n_drop} rows ({pct:.2f}%) where mode='{mode}'\")"
   ]
  },
  {
   "cell_type": "code",
   "execution_count": 32,
   "id": "5fb8eee5",
   "metadata": {
    "execution": {
     "iopub.execute_input": "2025-07-28T10:52:48.491368Z",
     "iopub.status.busy": "2025-07-28T10:52:48.490619Z",
     "iopub.status.idle": "2025-07-28T10:52:48.497451Z",
     "shell.execute_reply": "2025-07-28T10:52:48.496530Z"
    },
    "papermill": {
     "duration": 0.030861,
     "end_time": "2025-07-28T10:52:48.499120",
     "exception": false,
     "start_time": "2025-07-28T10:52:48.468259",
     "status": "completed"
    },
    "tags": []
   },
   "outputs": [],
   "source": [
    "X_train = X_train[keep_mask]"
   ]
  },
  {
   "cell_type": "code",
   "execution_count": 33,
   "id": "b202bb3a",
   "metadata": {
    "execution": {
     "iopub.execute_input": "2025-07-28T10:52:48.543134Z",
     "iopub.status.busy": "2025-07-28T10:52:48.542613Z",
     "iopub.status.idle": "2025-07-28T10:52:48.548912Z",
     "shell.execute_reply": "2025-07-28T10:52:48.548024Z"
    },
    "papermill": {
     "duration": 0.030443,
     "end_time": "2025-07-28T10:52:48.550483",
     "exception": false,
     "start_time": "2025-07-28T10:52:48.520040",
     "status": "completed"
    },
    "tags": []
   },
   "outputs": [],
   "source": [
    "y_train = y_train[keep_mask]"
   ]
  },
  {
   "cell_type": "markdown",
   "id": "493e2ac3",
   "metadata": {
    "papermill": {
     "duration": 0.020845,
     "end_time": "2025-07-28T10:52:48.592393",
     "exception": false,
     "start_time": "2025-07-28T10:52:48.571548",
     "status": "completed"
    },
    "tags": []
   },
   "source": [
    "# Model Training"
   ]
  },
  {
   "cell_type": "code",
   "execution_count": 34,
   "id": "679e1268",
   "metadata": {
    "execution": {
     "iopub.execute_input": "2025-07-28T10:52:48.636361Z",
     "iopub.status.busy": "2025-07-28T10:52:48.635483Z",
     "iopub.status.idle": "2025-07-28T10:52:48.747836Z",
     "shell.execute_reply": "2025-07-28T10:52:48.746707Z"
    },
    "papermill": {
     "duration": 0.137363,
     "end_time": "2025-07-28T10:52:48.750634",
     "exception": false,
     "start_time": "2025-07-28T10:52:48.613271",
     "status": "completed"
    },
    "tags": []
   },
   "outputs": [],
   "source": [
    "from sklearn.linear_model import LogisticRegression\n",
    "from sklearn.ensemble import GradientBoostingClassifier, RandomForestClassifier\n",
    "\n",
    "if (universe[\"model\"] == \"logreg\"):\n",
    "    model = LogisticRegression() #penalty=\"none\") #, solver=\"newton-cg\", max_iter=1) # include random_state=19 ?\n",
    "elif (universe[\"model\"] == \"penalized_logreg\"):\n",
    "    model = LogisticRegression(penalty=\"l2\", C=1.0) #, solver=\"newton-cg\", max_iter=1)\n",
    "elif (universe[\"model\"] == \"rf\"):\n",
    "    model = RandomForestClassifier(n_estimators=100, n_jobs=-1)\n",
    "elif (universe[\"model\"] == \"gbm\"):\n",
    "    model = GradientBoostingClassifier()\n",
    "elif (universe[\"model\"] == \"elasticnet\"):\n",
    "    model = LogisticRegression(penalty = 'elasticnet', solver = 'saga', l1_ratio = 0.5, max_iter=5000) # which solver to use?\n",
    "else:\n",
    "    raise \"Unsupported universe.model\""
   ]
  },
  {
   "cell_type": "code",
   "execution_count": 35,
   "id": "0cc8f744",
   "metadata": {
    "execution": {
     "iopub.execute_input": "2025-07-28T10:52:48.801127Z",
     "iopub.status.busy": "2025-07-28T10:52:48.800496Z",
     "iopub.status.idle": "2025-07-28T10:52:48.807813Z",
     "shell.execute_reply": "2025-07-28T10:52:48.806828Z"
    },
    "papermill": {
     "duration": 0.031357,
     "end_time": "2025-07-28T10:52:48.809439",
     "exception": false,
     "start_time": "2025-07-28T10:52:48.778082",
     "status": "completed"
    },
    "tags": []
   },
   "outputs": [],
   "source": [
    "import numpy as np\n",
    "from sklearn.pipeline import Pipeline\n",
    "from sklearn.preprocessing import StandardScaler\n",
    "\n",
    "model = Pipeline([\n",
    "    #(\"continuous_processor\", continuous_processor),\n",
    "    #(\"categorical_preprocessor\", categorical_preprocessor),\n",
    "    (\"scale\", StandardScaler() if universe[\"scale\"] == \"scale\" else None), \n",
    "    (\"model\", model),\n",
    "])"
   ]
  },
  {
   "cell_type": "code",
   "execution_count": 36,
   "id": "9442c04d",
   "metadata": {
    "execution": {
     "iopub.execute_input": "2025-07-28T10:52:48.853261Z",
     "iopub.status.busy": "2025-07-28T10:52:48.852463Z",
     "iopub.status.idle": "2025-07-28T10:53:06.090443Z",
     "shell.execute_reply": "2025-07-28T10:53:06.089504Z"
    },
    "papermill": {
     "duration": 17.261761,
     "end_time": "2025-07-28T10:53:06.092512",
     "exception": false,
     "start_time": "2025-07-28T10:52:48.830751",
     "status": "completed"
    },
    "tags": []
   },
   "outputs": [
    {
     "name": "stderr",
     "output_type": "stream",
     "text": [
      "/dss/dsshome1/0C/ra93lal2/.local/share/virtualenvs/CMA_Fairness_v2-3j10GkSs/lib/python3.10/site-packages/sklearn/linear_model/_sag.py:350: ConvergenceWarning: The max_iter was reached which means the coef_ did not converge\n",
      "  warnings.warn(\n"
     ]
    },
    {
     "data": {
      "text/html": [
       "<style>#sk-container-id-1 {color: black;background-color: white;}#sk-container-id-1 pre{padding: 0;}#sk-container-id-1 div.sk-toggleable {background-color: white;}#sk-container-id-1 label.sk-toggleable__label {cursor: pointer;display: block;width: 100%;margin-bottom: 0;padding: 0.3em;box-sizing: border-box;text-align: center;}#sk-container-id-1 label.sk-toggleable__label-arrow:before {content: \"▸\";float: left;margin-right: 0.25em;color: #696969;}#sk-container-id-1 label.sk-toggleable__label-arrow:hover:before {color: black;}#sk-container-id-1 div.sk-estimator:hover label.sk-toggleable__label-arrow:before {color: black;}#sk-container-id-1 div.sk-toggleable__content {max-height: 0;max-width: 0;overflow: hidden;text-align: left;background-color: #f0f8ff;}#sk-container-id-1 div.sk-toggleable__content pre {margin: 0.2em;color: black;border-radius: 0.25em;background-color: #f0f8ff;}#sk-container-id-1 input.sk-toggleable__control:checked~div.sk-toggleable__content {max-height: 200px;max-width: 100%;overflow: auto;}#sk-container-id-1 input.sk-toggleable__control:checked~label.sk-toggleable__label-arrow:before {content: \"▾\";}#sk-container-id-1 div.sk-estimator input.sk-toggleable__control:checked~label.sk-toggleable__label {background-color: #d4ebff;}#sk-container-id-1 div.sk-label input.sk-toggleable__control:checked~label.sk-toggleable__label {background-color: #d4ebff;}#sk-container-id-1 input.sk-hidden--visually {border: 0;clip: rect(1px 1px 1px 1px);clip: rect(1px, 1px, 1px, 1px);height: 1px;margin: -1px;overflow: hidden;padding: 0;position: absolute;width: 1px;}#sk-container-id-1 div.sk-estimator {font-family: monospace;background-color: #f0f8ff;border: 1px dotted black;border-radius: 0.25em;box-sizing: border-box;margin-bottom: 0.5em;}#sk-container-id-1 div.sk-estimator:hover {background-color: #d4ebff;}#sk-container-id-1 div.sk-parallel-item::after {content: \"\";width: 100%;border-bottom: 1px solid gray;flex-grow: 1;}#sk-container-id-1 div.sk-label:hover label.sk-toggleable__label {background-color: #d4ebff;}#sk-container-id-1 div.sk-serial::before {content: \"\";position: absolute;border-left: 1px solid gray;box-sizing: border-box;top: 0;bottom: 0;left: 50%;z-index: 0;}#sk-container-id-1 div.sk-serial {display: flex;flex-direction: column;align-items: center;background-color: white;padding-right: 0.2em;padding-left: 0.2em;position: relative;}#sk-container-id-1 div.sk-item {position: relative;z-index: 1;}#sk-container-id-1 div.sk-parallel {display: flex;align-items: stretch;justify-content: center;background-color: white;position: relative;}#sk-container-id-1 div.sk-item::before, #sk-container-id-1 div.sk-parallel-item::before {content: \"\";position: absolute;border-left: 1px solid gray;box-sizing: border-box;top: 0;bottom: 0;left: 50%;z-index: -1;}#sk-container-id-1 div.sk-parallel-item {display: flex;flex-direction: column;z-index: 1;position: relative;background-color: white;}#sk-container-id-1 div.sk-parallel-item:first-child::after {align-self: flex-end;width: 50%;}#sk-container-id-1 div.sk-parallel-item:last-child::after {align-self: flex-start;width: 50%;}#sk-container-id-1 div.sk-parallel-item:only-child::after {width: 0;}#sk-container-id-1 div.sk-dashed-wrapped {border: 1px dashed gray;margin: 0 0.4em 0.5em 0.4em;box-sizing: border-box;padding-bottom: 0.4em;background-color: white;}#sk-container-id-1 div.sk-label label {font-family: monospace;font-weight: bold;display: inline-block;line-height: 1.2em;}#sk-container-id-1 div.sk-label-container {text-align: center;}#sk-container-id-1 div.sk-container {/* jupyter's `normalize.less` sets `[hidden] { display: none; }` but bootstrap.min.css set `[hidden] { display: none !important; }` so we also need the `!important` here to be able to override the default hidden behavior on the sphinx rendered scikit-learn.org. See: https://github.com/scikit-learn/scikit-learn/issues/21755 */display: inline-block !important;position: relative;}#sk-container-id-1 div.sk-text-repr-fallback {display: none;}</style><div id=\"sk-container-id-1\" class=\"sk-top-container\"><div class=\"sk-text-repr-fallback\"><pre>Pipeline(steps=[(&#x27;scale&#x27;, None),\n",
       "                (&#x27;model&#x27;,\n",
       "                 LogisticRegression(l1_ratio=0.5, max_iter=5000,\n",
       "                                    penalty=&#x27;elasticnet&#x27;, solver=&#x27;saga&#x27;))])</pre><b>In a Jupyter environment, please rerun this cell to show the HTML representation or trust the notebook. <br />On GitHub, the HTML representation is unable to render, please try loading this page with nbviewer.org.</b></div><div class=\"sk-container\" hidden><div class=\"sk-item sk-dashed-wrapped\"><div class=\"sk-label-container\"><div class=\"sk-label sk-toggleable\"><input class=\"sk-toggleable__control sk-hidden--visually\" id=\"sk-estimator-id-1\" type=\"checkbox\" ><label for=\"sk-estimator-id-1\" class=\"sk-toggleable__label sk-toggleable__label-arrow\">Pipeline</label><div class=\"sk-toggleable__content\"><pre>Pipeline(steps=[(&#x27;scale&#x27;, None),\n",
       "                (&#x27;model&#x27;,\n",
       "                 LogisticRegression(l1_ratio=0.5, max_iter=5000,\n",
       "                                    penalty=&#x27;elasticnet&#x27;, solver=&#x27;saga&#x27;))])</pre></div></div></div><div class=\"sk-serial\"><div class=\"sk-item\"><div class=\"sk-estimator sk-toggleable\"><input class=\"sk-toggleable__control sk-hidden--visually\" id=\"sk-estimator-id-2\" type=\"checkbox\" ><label for=\"sk-estimator-id-2\" class=\"sk-toggleable__label sk-toggleable__label-arrow\">None</label><div class=\"sk-toggleable__content\"><pre>None</pre></div></div></div><div class=\"sk-item\"><div class=\"sk-estimator sk-toggleable\"><input class=\"sk-toggleable__control sk-hidden--visually\" id=\"sk-estimator-id-3\" type=\"checkbox\" ><label for=\"sk-estimator-id-3\" class=\"sk-toggleable__label sk-toggleable__label-arrow\">LogisticRegression</label><div class=\"sk-toggleable__content\"><pre>LogisticRegression(l1_ratio=0.5, max_iter=5000, penalty=&#x27;elasticnet&#x27;,\n",
       "                   solver=&#x27;saga&#x27;)</pre></div></div></div></div></div></div></div>"
      ],
      "text/plain": [
       "Pipeline(steps=[('scale', None),\n",
       "                ('model',\n",
       "                 LogisticRegression(l1_ratio=0.5, max_iter=5000,\n",
       "                                    penalty='elasticnet', solver='saga'))])"
      ]
     },
     "execution_count": 36,
     "metadata": {},
     "output_type": "execute_result"
    }
   ],
   "source": [
    "model.fit(X_train, y_train.values.ravel())"
   ]
  },
  {
   "cell_type": "code",
   "execution_count": 37,
   "id": "af59f8c0",
   "metadata": {
    "execution": {
     "iopub.execute_input": "2025-07-28T10:53:06.144253Z",
     "iopub.status.busy": "2025-07-28T10:53:06.143766Z",
     "iopub.status.idle": "2025-07-28T10:53:06.149240Z",
     "shell.execute_reply": "2025-07-28T10:53:06.148129Z"
    },
    "papermill": {
     "duration": 0.032092,
     "end_time": "2025-07-28T10:53:06.150658",
     "exception": false,
     "start_time": "2025-07-28T10:53:06.118566",
     "status": "completed"
    },
    "tags": []
   },
   "outputs": [],
   "source": [
    "from fairness_multiverse.universe import predict_w_threshold"
   ]
  },
  {
   "cell_type": "code",
   "execution_count": 38,
   "id": "a7cf2e16",
   "metadata": {
    "execution": {
     "iopub.execute_input": "2025-07-28T10:53:06.177760Z",
     "iopub.status.busy": "2025-07-28T10:53:06.177248Z",
     "iopub.status.idle": "2025-07-28T10:53:06.264748Z",
     "shell.execute_reply": "2025-07-28T10:53:06.263976Z"
    },
    "papermill": {
     "duration": 0.101931,
     "end_time": "2025-07-28T10:53:06.266139",
     "exception": false,
     "start_time": "2025-07-28T10:53:06.164208",
     "status": "completed"
    },
    "tags": []
   },
   "outputs": [
    {
     "data": {
      "text/plain": [
       "0.8631590681083491"
      ]
     },
     "execution_count": 38,
     "metadata": {},
     "output_type": "execute_result"
    }
   ],
   "source": [
    "probs_test = model.predict_proba(X_test)\n",
    "\n",
    "'''\n",
    "Below code returns a boolean array (or binary 0/1 array depending on how it’s used) where each element \n",
    "is True if the probability of class 1 is greater than or equal to the threshold, and False otherwise.\n",
    "'''\n",
    "y_pred_default = predict_w_threshold(probs_test, 0.5)\n",
    "\n",
    "from sklearn.metrics import accuracy_score\n",
    "\n",
    "# Naive prediction\n",
    "accuracy_score(y_true = y_true, y_pred = y_pred_default)"
   ]
  },
  {
   "cell_type": "code",
   "execution_count": 39,
   "id": "081964c3",
   "metadata": {
    "execution": {
     "iopub.execute_input": "2025-07-28T10:53:06.308236Z",
     "iopub.status.busy": "2025-07-28T10:53:06.307751Z",
     "iopub.status.idle": "2025-07-28T10:53:06.396277Z",
     "shell.execute_reply": "2025-07-28T10:53:06.395232Z"
    },
    "papermill": {
     "duration": 0.115941,
     "end_time": "2025-07-28T10:53:06.397973",
     "exception": false,
     "start_time": "2025-07-28T10:53:06.282032",
     "status": "completed"
    },
    "tags": []
   },
   "outputs": [
    {
     "data": {
      "text/plain": [
       "array([0, 0, 0, ..., 0, 0, 0])"
      ]
     },
     "execution_count": 39,
     "metadata": {},
     "output_type": "execute_result"
    }
   ],
   "source": [
    "model.predict(X_test)"
   ]
  },
  {
   "cell_type": "markdown",
   "id": "56c9705b",
   "metadata": {
    "papermill": {
     "duration": 0.021966,
     "end_time": "2025-07-28T10:53:06.442830",
     "exception": false,
     "start_time": "2025-07-28T10:53:06.420864",
     "status": "completed"
    },
    "tags": []
   },
   "source": [
    "# Conformal Prediction"
   ]
  },
  {
   "cell_type": "code",
   "execution_count": 40,
   "id": "160ec6ff",
   "metadata": {
    "execution": {
     "iopub.execute_input": "2025-07-28T10:53:06.491049Z",
     "iopub.status.busy": "2025-07-28T10:53:06.490615Z",
     "iopub.status.idle": "2025-07-28T10:53:06.498200Z",
     "shell.execute_reply": "2025-07-28T10:53:06.495398Z"
    },
    "papermill": {
     "duration": 0.034276,
     "end_time": "2025-07-28T10:53:06.499636",
     "exception": false,
     "start_time": "2025-07-28T10:53:06.465360",
     "status": "completed"
    },
    "tags": []
   },
   "outputs": [],
   "source": [
    "# Miscoverage level for conformal prediction (10% allowed error rate => 90% target coverage)\n",
    "alpha = 0.1"
   ]
  },
  {
   "cell_type": "code",
   "execution_count": 41,
   "id": "eadf4555-3dd3-440e-8e35-f82a4ad9f855",
   "metadata": {
    "execution": {
     "iopub.execute_input": "2025-07-28T10:53:06.526236Z",
     "iopub.status.busy": "2025-07-28T10:53:06.525798Z",
     "iopub.status.idle": "2025-07-28T10:53:06.613500Z",
     "shell.execute_reply": "2025-07-28T10:53:06.612473Z"
    },
    "papermill": {
     "duration": 0.10248,
     "end_time": "2025-07-28T10:53:06.614994",
     "exception": false,
     "start_time": "2025-07-28T10:53:06.512514",
     "status": "completed"
    },
    "tags": []
   },
   "outputs": [],
   "source": [
    "probs_calib = model.predict_proba(X_calib)"
   ]
  },
  {
   "cell_type": "code",
   "execution_count": 42,
   "id": "2ed93547-6d5d-4983-9b36-1ecb300da49a",
   "metadata": {
    "execution": {
     "iopub.execute_input": "2025-07-28T10:53:06.642079Z",
     "iopub.status.busy": "2025-07-28T10:53:06.641295Z",
     "iopub.status.idle": "2025-07-28T10:53:06.646855Z",
     "shell.execute_reply": "2025-07-28T10:53:06.646076Z"
    },
    "papermill": {
     "duration": 0.020326,
     "end_time": "2025-07-28T10:53:06.648229",
     "exception": false,
     "start_time": "2025-07-28T10:53:06.627903",
     "status": "completed"
    },
    "tags": []
   },
   "outputs": [],
   "source": [
    "y_calib = y_calib.values.ravel().astype(int)"
   ]
  },
  {
   "cell_type": "code",
   "execution_count": 43,
   "id": "65d1320d-f588-4b38-9072-62af1ae97f7d",
   "metadata": {
    "execution": {
     "iopub.execute_input": "2025-07-28T10:53:06.674961Z",
     "iopub.status.busy": "2025-07-28T10:53:06.674553Z",
     "iopub.status.idle": "2025-07-28T10:53:06.681160Z",
     "shell.execute_reply": "2025-07-28T10:53:06.680388Z"
    },
    "papermill": {
     "duration": 0.021037,
     "end_time": "2025-07-28T10:53:06.682413",
     "exception": false,
     "start_time": "2025-07-28T10:53:06.661376",
     "status": "completed"
    },
    "tags": []
   },
   "outputs": [],
   "source": [
    "from fairness_multiverse.conformal import compute_nc_scores\n",
    "\n",
    "# Compute nonconformity scores on calibration set (1 - probability of true class)\n",
    "nc_scores = compute_nc_scores(probs_calib, y_calib)"
   ]
  },
  {
   "cell_type": "code",
   "execution_count": 44,
   "id": "df3b8ca3-53b7-43d5-9667-7c85da7aeda2",
   "metadata": {
    "execution": {
     "iopub.execute_input": "2025-07-28T10:53:06.719275Z",
     "iopub.status.busy": "2025-07-28T10:53:06.718825Z",
     "iopub.status.idle": "2025-07-28T10:53:06.726329Z",
     "shell.execute_reply": "2025-07-28T10:53:06.725343Z"
    },
    "papermill": {
     "duration": 0.032833,
     "end_time": "2025-07-28T10:53:06.728269",
     "exception": false,
     "start_time": "2025-07-28T10:53:06.695436",
     "status": "completed"
    },
    "tags": []
   },
   "outputs": [],
   "source": [
    "from fairness_multiverse.conformal import find_threshold\n",
    "\n",
    "# Find conformal threshold q_hat for the given alpha (split conformal method)\n",
    "q_hat = find_threshold(nc_scores, alpha)"
   ]
  },
  {
   "cell_type": "code",
   "execution_count": 45,
   "id": "4d29e6c1-0ef6-4aa4-b8fe-4fe79b0d033a",
   "metadata": {
    "execution": {
     "iopub.execute_input": "2025-07-28T10:53:06.758725Z",
     "iopub.status.busy": "2025-07-28T10:53:06.758357Z",
     "iopub.status.idle": "2025-07-28T10:53:06.765090Z",
     "shell.execute_reply": "2025-07-28T10:53:06.764400Z"
    },
    "papermill": {
     "duration": 0.021817,
     "end_time": "2025-07-28T10:53:06.766454",
     "exception": false,
     "start_time": "2025-07-28T10:53:06.744637",
     "status": "completed"
    },
    "tags": []
   },
   "outputs": [
    {
     "data": {
      "text/plain": [
       "0.6909946666424505"
      ]
     },
     "execution_count": 45,
     "metadata": {},
     "output_type": "execute_result"
    }
   ],
   "source": [
    "q_hat"
   ]
  },
  {
   "cell_type": "code",
   "execution_count": 46,
   "id": "92460794-cdac-4be2-ba28-f28c0515a6fb",
   "metadata": {
    "execution": {
     "iopub.execute_input": "2025-07-28T10:53:06.796011Z",
     "iopub.status.busy": "2025-07-28T10:53:06.795048Z",
     "iopub.status.idle": "2025-07-28T10:53:07.561233Z",
     "shell.execute_reply": "2025-07-28T10:53:07.560217Z"
    },
    "papermill": {
     "duration": 0.783057,
     "end_time": "2025-07-28T10:53:07.562922",
     "exception": false,
     "start_time": "2025-07-28T10:53:06.779865",
     "status": "completed"
    },
    "tags": []
   },
   "outputs": [],
   "source": [
    "from fairness_multiverse.conformal import predict_conformal_sets\n",
    "\n",
    "# Generate prediction sets for each test example\n",
    "pred_sets = predict_conformal_sets(model, X_test, q_hat)"
   ]
  },
  {
   "cell_type": "code",
   "execution_count": 47,
   "id": "d90c9a65-e6db-4f5d-80cd-e68fb7e46829",
   "metadata": {
    "execution": {
     "iopub.execute_input": "2025-07-28T10:53:07.614251Z",
     "iopub.status.busy": "2025-07-28T10:53:07.613771Z",
     "iopub.status.idle": "2025-07-28T10:53:07.619746Z",
     "shell.execute_reply": "2025-07-28T10:53:07.618506Z"
    },
    "papermill": {
     "duration": 0.034774,
     "end_time": "2025-07-28T10:53:07.621480",
     "exception": false,
     "start_time": "2025-07-28T10:53:07.586706",
     "status": "completed"
    },
    "tags": []
   },
   "outputs": [],
   "source": [
    "y_true = y_true.squeeze()"
   ]
  },
  {
   "cell_type": "code",
   "execution_count": 48,
   "id": "3a58a54a-1e68-46b9-927a-df01f18aebc8",
   "metadata": {
    "execution": {
     "iopub.execute_input": "2025-07-28T10:53:07.674496Z",
     "iopub.status.busy": "2025-07-28T10:53:07.673459Z",
     "iopub.status.idle": "2025-07-28T10:53:08.323855Z",
     "shell.execute_reply": "2025-07-28T10:53:08.323110Z"
    },
    "papermill": {
     "duration": 0.678877,
     "end_time": "2025-07-28T10:53:08.325629",
     "exception": false,
     "start_time": "2025-07-28T10:53:07.646752",
     "status": "completed"
    },
    "tags": []
   },
   "outputs": [],
   "source": [
    "from fairness_multiverse.conformal import evaluate_sets\n",
    "\n",
    "# Evaluate coverage and average set size on test data\n",
    "metrics = evaluate_sets(pred_sets, y_true)"
   ]
  },
  {
   "cell_type": "markdown",
   "id": "2b569c12-9aaa-4c88-98c9-bbcd0cf3ebb8",
   "metadata": {
    "papermill": {
     "duration": 0.02329,
     "end_time": "2025-07-28T10:53:08.385724",
     "exception": false,
     "start_time": "2025-07-28T10:53:08.362434",
     "status": "completed"
    },
    "tags": []
   },
   "source": [
    "# CP Metrics"
   ]
  },
  {
   "cell_type": "code",
   "execution_count": 49,
   "id": "5ce0a5cb-201f-45a0-ade5-94c7f0bd6095",
   "metadata": {
    "execution": {
     "iopub.execute_input": "2025-07-28T10:53:08.440152Z",
     "iopub.status.busy": "2025-07-28T10:53:08.439378Z",
     "iopub.status.idle": "2025-07-28T10:53:08.448875Z",
     "shell.execute_reply": "2025-07-28T10:53:08.447821Z"
    },
    "papermill": {
     "duration": 0.038996,
     "end_time": "2025-07-28T10:53:08.450608",
     "exception": false,
     "start_time": "2025-07-28T10:53:08.411612",
     "status": "completed"
    },
    "tags": []
   },
   "outputs": [
    {
     "data": {
      "text/plain": [
       "{'coverage': 0.9131646416230075, 'avg_size': 1.2532159179578641}"
      ]
     },
     "execution_count": 49,
     "metadata": {},
     "output_type": "execute_result"
    }
   ],
   "source": [
    "metrics"
   ]
  },
  {
   "cell_type": "code",
   "execution_count": 50,
   "id": "9b9a838d-31c9-430b-ae14-12baee460d17",
   "metadata": {
    "execution": {
     "iopub.execute_input": "2025-07-28T10:53:08.500206Z",
     "iopub.status.busy": "2025-07-28T10:53:08.499511Z",
     "iopub.status.idle": "2025-07-28T10:53:08.507464Z",
     "shell.execute_reply": "2025-07-28T10:53:08.506341Z"
    },
    "papermill": {
     "duration": 0.034827,
     "end_time": "2025-07-28T10:53:08.509180",
     "exception": false,
     "start_time": "2025-07-28T10:53:08.474353",
     "status": "completed"
    },
    "tags": []
   },
   "outputs": [],
   "source": [
    "example_universe = universe.copy()\n",
    "universe_training_size = example_universe.get(\"training_size\")\n",
    "universe_scale = example_universe.get(\"scale\")\n",
    "universe_model = example_universe.get(\"model\")\n",
    "universe_exclude_features = example_universe.get(\"exclude_features\")\n",
    "universe_exclude_subgroups = example_universe.get(\"exclude_subgroups\")"
   ]
  },
  {
   "cell_type": "code",
   "execution_count": 51,
   "id": "f4b6a8ac-9dc0-4245-8a91-5b3b5999c4f9",
   "metadata": {
    "execution": {
     "iopub.execute_input": "2025-07-28T10:53:08.559647Z",
     "iopub.status.busy": "2025-07-28T10:53:08.559101Z",
     "iopub.status.idle": "2025-07-28T10:53:08.566128Z",
     "shell.execute_reply": "2025-07-28T10:53:08.565152Z"
    },
    "papermill": {
     "duration": 0.033777,
     "end_time": "2025-07-28T10:53:08.567732",
     "exception": false,
     "start_time": "2025-07-28T10:53:08.533955",
     "status": "completed"
    },
    "tags": []
   },
   "outputs": [],
   "source": [
    "cp_metrics_dict = {\n",
    "    \"universe_id\": [universe_id],\n",
    "    \"universe_training_size\": [universe_training_size],\n",
    "    \"universe_scale\": [universe_scale],\n",
    "    \"universe_model\": [universe_model],\n",
    "    \"universe_exclude_features\": [universe_exclude_features],\n",
    "    \"universe_exclude_subgroups\": [universe_exclude_subgroups],\n",
    "    \"q_hat\": [q_hat],\n",
    "    \"coverage\": [metrics[\"coverage\"]],\n",
    "    \"avg_size\": [metrics[\"avg_size\"]],\n",
    "}"
   ]
  },
  {
   "cell_type": "code",
   "execution_count": 52,
   "id": "908acbb1-0371-4915-85ca-3fa520d2efe2",
   "metadata": {
    "execution": {
     "iopub.execute_input": "2025-07-28T10:53:08.616416Z",
     "iopub.status.busy": "2025-07-28T10:53:08.615877Z",
     "iopub.status.idle": "2025-07-28T10:53:08.623980Z",
     "shell.execute_reply": "2025-07-28T10:53:08.622941Z"
    },
    "papermill": {
     "duration": 0.034271,
     "end_time": "2025-07-28T10:53:08.625579",
     "exception": false,
     "start_time": "2025-07-28T10:53:08.591308",
     "status": "completed"
    },
    "tags": []
   },
   "outputs": [
    {
     "data": {
      "text/plain": [
       "{'universe_id': ['4bb9ea68b63b175ac1b2ae3baec55d3a'],\n",
       " 'universe_training_size': ['1k'],\n",
       " 'universe_scale': ['do-not-scale'],\n",
       " 'universe_model': ['elasticnet'],\n",
       " 'universe_exclude_features': ['nationality-sex'],\n",
       " 'universe_exclude_subgroups': ['drop-non-german'],\n",
       " 'q_hat': [0.6909946666424505],\n",
       " 'coverage': [0.9131646416230075],\n",
       " 'avg_size': [1.2532159179578641]}"
      ]
     },
     "execution_count": 52,
     "metadata": {},
     "output_type": "execute_result"
    }
   ],
   "source": [
    "cp_metrics_dict"
   ]
  },
  {
   "cell_type": "code",
   "execution_count": 53,
   "id": "33007efc-14e9-4ec6-97ac-56a455c82265",
   "metadata": {
    "execution": {
     "iopub.execute_input": "2025-07-28T10:53:08.676565Z",
     "iopub.status.busy": "2025-07-28T10:53:08.675798Z",
     "iopub.status.idle": "2025-07-28T10:53:08.682590Z",
     "shell.execute_reply": "2025-07-28T10:53:08.681540Z"
    },
    "papermill": {
     "duration": 0.033759,
     "end_time": "2025-07-28T10:53:08.684216",
     "exception": false,
     "start_time": "2025-07-28T10:53:08.650457",
     "status": "completed"
    },
    "tags": []
   },
   "outputs": [],
   "source": [
    "cp_metrics_df = pd.DataFrame(cp_metrics_dict)"
   ]
  },
  {
   "cell_type": "code",
   "execution_count": 54,
   "id": "db12611b-57b2-4910-b9d0-355adfd6e7bf",
   "metadata": {
    "execution": {
     "iopub.execute_input": "2025-07-28T10:53:08.734294Z",
     "iopub.status.busy": "2025-07-28T10:53:08.733480Z",
     "iopub.status.idle": "2025-07-28T10:53:08.750776Z",
     "shell.execute_reply": "2025-07-28T10:53:08.749607Z"
    },
    "papermill": {
     "duration": 0.043231,
     "end_time": "2025-07-28T10:53:08.752655",
     "exception": false,
     "start_time": "2025-07-28T10:53:08.709424",
     "status": "completed"
    },
    "tags": []
   },
   "outputs": [
    {
     "data": {
      "text/html": [
       "<div>\n",
       "<style scoped>\n",
       "    .dataframe tbody tr th:only-of-type {\n",
       "        vertical-align: middle;\n",
       "    }\n",
       "\n",
       "    .dataframe tbody tr th {\n",
       "        vertical-align: top;\n",
       "    }\n",
       "\n",
       "    .dataframe thead th {\n",
       "        text-align: right;\n",
       "    }\n",
       "</style>\n",
       "<table border=\"1\" class=\"dataframe\">\n",
       "  <thead>\n",
       "    <tr style=\"text-align: right;\">\n",
       "      <th></th>\n",
       "      <th>universe_id</th>\n",
       "      <th>universe_training_size</th>\n",
       "      <th>universe_scale</th>\n",
       "      <th>universe_model</th>\n",
       "      <th>universe_exclude_features</th>\n",
       "      <th>universe_exclude_subgroups</th>\n",
       "      <th>q_hat</th>\n",
       "      <th>coverage</th>\n",
       "      <th>avg_size</th>\n",
       "    </tr>\n",
       "  </thead>\n",
       "  <tbody>\n",
       "    <tr>\n",
       "      <th>0</th>\n",
       "      <td>4bb9ea68b63b175ac1b2ae3baec55d3a</td>\n",
       "      <td>1k</td>\n",
       "      <td>do-not-scale</td>\n",
       "      <td>elasticnet</td>\n",
       "      <td>nationality-sex</td>\n",
       "      <td>drop-non-german</td>\n",
       "      <td>0.690995</td>\n",
       "      <td>0.913165</td>\n",
       "      <td>1.253216</td>\n",
       "    </tr>\n",
       "  </tbody>\n",
       "</table>\n",
       "</div>"
      ],
      "text/plain": [
       "                        universe_id universe_training_size universe_scale  \\\n",
       "0  4bb9ea68b63b175ac1b2ae3baec55d3a                     1k   do-not-scale   \n",
       "\n",
       "  universe_model universe_exclude_features universe_exclude_subgroups  \\\n",
       "0     elasticnet           nationality-sex            drop-non-german   \n",
       "\n",
       "      q_hat  coverage  avg_size  \n",
       "0  0.690995  0.913165  1.253216  "
      ]
     },
     "execution_count": 54,
     "metadata": {},
     "output_type": "execute_result"
    }
   ],
   "source": [
    "cp_metrics_df"
   ]
  },
  {
   "cell_type": "code",
   "execution_count": 55,
   "id": "b7fbde55-a0a1-47e4-9af6-fe4a17fa8c61",
   "metadata": {
    "execution": {
     "iopub.execute_input": "2025-07-28T10:53:08.803386Z",
     "iopub.status.busy": "2025-07-28T10:53:08.802396Z",
     "iopub.status.idle": "2025-07-28T10:53:08.808735Z",
     "shell.execute_reply": "2025-07-28T10:53:08.807576Z"
    },
    "papermill": {
     "duration": 0.033615,
     "end_time": "2025-07-28T10:53:08.810401",
     "exception": false,
     "start_time": "2025-07-28T10:53:08.776786",
     "status": "completed"
    },
    "tags": []
   },
   "outputs": [],
   "source": [
    "# Conditional Coverage & looking at subgroups"
   ]
  },
  {
   "cell_type": "code",
   "execution_count": 56,
   "id": "027ae886-68dd-4141-96c7-805a5450e1ef",
   "metadata": {
    "execution": {
     "iopub.execute_input": "2025-07-28T10:53:08.864417Z",
     "iopub.status.busy": "2025-07-28T10:53:08.863741Z",
     "iopub.status.idle": "2025-07-28T10:53:09.145953Z",
     "shell.execute_reply": "2025-07-28T10:53:09.144703Z"
    },
    "papermill": {
     "duration": 0.313346,
     "end_time": "2025-07-28T10:53:09.147876",
     "exception": false,
     "start_time": "2025-07-28T10:53:08.834530",
     "status": "completed"
    },
    "tags": []
   },
   "outputs": [],
   "source": [
    "from fairness_multiverse.conformal import build_cp_groups\n",
    "\n",
    "cp_groups_df = build_cp_groups(pred_sets, y_true, X_test.index, org_test)\n",
    "#needs universe_id and setting"
   ]
  },
  {
   "cell_type": "code",
   "execution_count": 57,
   "id": "01d5802c-663a-4d1f-9d69-e036faaffbf7",
   "metadata": {
    "execution": {
     "iopub.execute_input": "2025-07-28T10:53:09.199222Z",
     "iopub.status.busy": "2025-07-28T10:53:09.198422Z",
     "iopub.status.idle": "2025-07-28T10:53:09.204977Z",
     "shell.execute_reply": "2025-07-28T10:53:09.203561Z"
    },
    "papermill": {
     "duration": 0.033715,
     "end_time": "2025-07-28T10:53:09.206672",
     "exception": false,
     "start_time": "2025-07-28T10:53:09.172957",
     "status": "completed"
    },
    "tags": []
   },
   "outputs": [],
   "source": [
    "#delete\n",
    "#cp_groups_df"
   ]
  },
  {
   "cell_type": "code",
   "execution_count": 58,
   "id": "fa424af1-d1eb-443d-b717-2d279ada8408",
   "metadata": {
    "execution": {
     "iopub.execute_input": "2025-07-28T10:53:09.260609Z",
     "iopub.status.busy": "2025-07-28T10:53:09.260087Z",
     "iopub.status.idle": "2025-07-28T10:53:09.265336Z",
     "shell.execute_reply": "2025-07-28T10:53:09.264430Z"
    },
    "papermill": {
     "duration": 0.033335,
     "end_time": "2025-07-28T10:53:09.267313",
     "exception": false,
     "start_time": "2025-07-28T10:53:09.233978",
     "status": "completed"
    },
    "tags": []
   },
   "outputs": [],
   "source": [
    "#delete\n",
    "#percentage = (cp_groups_df['nongerman_female'] == 1).mean() * 100\n",
    "#print(percentage)\n"
   ]
  },
  {
   "cell_type": "code",
   "execution_count": 59,
   "id": "6cbdab96-b2b2-45af-ad54-d0516db2e28d",
   "metadata": {
    "execution": {
     "iopub.execute_input": "2025-07-28T10:53:09.320433Z",
     "iopub.status.busy": "2025-07-28T10:53:09.319881Z",
     "iopub.status.idle": "2025-07-28T10:53:11.023231Z",
     "shell.execute_reply": "2025-07-28T10:53:11.022024Z"
    },
    "papermill": {
     "duration": 1.731002,
     "end_time": "2025-07-28T10:53:11.025257",
     "exception": false,
     "start_time": "2025-07-28T10:53:09.294255",
     "status": "completed"
    },
    "tags": []
   },
   "outputs": [],
   "source": [
    "# Define covered = 1 if true_label is in the predicted set\n",
    "cp_groups_df['covered'] = cp_groups_df.apply(\n",
    "    lambda r: int(r['true_label'] in r['pred_set']),\n",
    "    axis=1\n",
    ")"
   ]
  },
  {
   "cell_type": "code",
   "execution_count": 60,
   "id": "338ff529-1a6b-4b87-a931-8e4788d52aad",
   "metadata": {
    "execution": {
     "iopub.execute_input": "2025-07-28T10:53:11.079288Z",
     "iopub.status.busy": "2025-07-28T10:53:11.078728Z",
     "iopub.status.idle": "2025-07-28T10:53:11.084090Z",
     "shell.execute_reply": "2025-07-28T10:53:11.083130Z"
    },
    "papermill": {
     "duration": 0.031776,
     "end_time": "2025-07-28T10:53:11.085689",
     "exception": false,
     "start_time": "2025-07-28T10:53:11.053913",
     "status": "completed"
    },
    "tags": []
   },
   "outputs": [],
   "source": [
    "#cp_groups_df"
   ]
  },
  {
   "cell_type": "code",
   "execution_count": 61,
   "id": "90032e27-66df-4540-9169-4e89cfbaa758",
   "metadata": {
    "execution": {
     "iopub.execute_input": "2025-07-28T10:53:11.138434Z",
     "iopub.status.busy": "2025-07-28T10:53:11.137483Z",
     "iopub.status.idle": "2025-07-28T10:53:11.149474Z",
     "shell.execute_reply": "2025-07-28T10:53:11.148491Z"
    },
    "papermill": {
     "duration": 0.040814,
     "end_time": "2025-07-28T10:53:11.151480",
     "exception": false,
     "start_time": "2025-07-28T10:53:11.110666",
     "status": "completed"
    },
    "tags": []
   },
   "outputs": [],
   "source": [
    "subgroups = ['frau1','nongerman','nongerman_male','nongerman_female']\n",
    "\n",
    "# Conditional coverage for subgroup==1\n",
    "cond_coverage = {\n",
    "    g: cp_groups_df.loc[cp_groups_df[g]==1, 'covered'].mean()\n",
    "    for g in subgroups\n",
    "}"
   ]
  },
  {
   "cell_type": "code",
   "execution_count": 62,
   "id": "1e348fb1-b9c3-45bc-ba23-f016827a7e0d",
   "metadata": {
    "execution": {
     "iopub.execute_input": "2025-07-28T10:53:11.203638Z",
     "iopub.status.busy": "2025-07-28T10:53:11.202929Z",
     "iopub.status.idle": "2025-07-28T10:53:11.210563Z",
     "shell.execute_reply": "2025-07-28T10:53:11.209702Z"
    },
    "papermill": {
     "duration": 0.03548,
     "end_time": "2025-07-28T10:53:11.212282",
     "exception": false,
     "start_time": "2025-07-28T10:53:11.176802",
     "status": "completed"
    },
    "tags": []
   },
   "outputs": [
    {
     "data": {
      "text/plain": [
       "{'frau1': 0.9118749157568405,\n",
       " 'nongerman': 0.9511031269297704,\n",
       " 'nongerman_male': 0.9597406106457714,\n",
       " 'nongerman_female': 0.9368107302533532}"
      ]
     },
     "execution_count": 62,
     "metadata": {},
     "output_type": "execute_result"
    }
   ],
   "source": [
    "cond_coverage"
   ]
  },
  {
   "cell_type": "code",
   "execution_count": 63,
   "id": "f5093324-c3dd-4d63-bc4c-8d945e5c8bbb",
   "metadata": {
    "execution": {
     "iopub.execute_input": "2025-07-28T10:53:11.263352Z",
     "iopub.status.busy": "2025-07-28T10:53:11.262837Z",
     "iopub.status.idle": "2025-07-28T10:53:11.270143Z",
     "shell.execute_reply": "2025-07-28T10:53:11.269265Z"
    },
    "papermill": {
     "duration": 0.034488,
     "end_time": "2025-07-28T10:53:11.271712",
     "exception": false,
     "start_time": "2025-07-28T10:53:11.237224",
     "status": "completed"
    },
    "tags": []
   },
   "outputs": [],
   "source": [
    "for subgroup, cov in cond_coverage.items():\n",
    "    cp_metrics_df[f\"cov_{subgroup}\"] = cov"
   ]
  },
  {
   "cell_type": "code",
   "execution_count": 64,
   "id": "6e872e10-dbe5-49e8-b554-5030c98ff75d",
   "metadata": {
    "execution": {
     "iopub.execute_input": "2025-07-28T10:53:11.382664Z",
     "iopub.status.busy": "2025-07-28T10:53:11.382156Z",
     "iopub.status.idle": "2025-07-28T10:53:11.401995Z",
     "shell.execute_reply": "2025-07-28T10:53:11.401018Z"
    },
    "papermill": {
     "duration": 0.049154,
     "end_time": "2025-07-28T10:53:11.403796",
     "exception": false,
     "start_time": "2025-07-28T10:53:11.354642",
     "status": "completed"
    },
    "tags": []
   },
   "outputs": [
    {
     "data": {
      "text/html": [
       "<div>\n",
       "<style scoped>\n",
       "    .dataframe tbody tr th:only-of-type {\n",
       "        vertical-align: middle;\n",
       "    }\n",
       "\n",
       "    .dataframe tbody tr th {\n",
       "        vertical-align: top;\n",
       "    }\n",
       "\n",
       "    .dataframe thead th {\n",
       "        text-align: right;\n",
       "    }\n",
       "</style>\n",
       "<table border=\"1\" class=\"dataframe\">\n",
       "  <thead>\n",
       "    <tr style=\"text-align: right;\">\n",
       "      <th></th>\n",
       "      <th>universe_id</th>\n",
       "      <th>universe_training_size</th>\n",
       "      <th>universe_scale</th>\n",
       "      <th>universe_model</th>\n",
       "      <th>universe_exclude_features</th>\n",
       "      <th>universe_exclude_subgroups</th>\n",
       "      <th>q_hat</th>\n",
       "      <th>coverage</th>\n",
       "      <th>avg_size</th>\n",
       "      <th>cov_frau1</th>\n",
       "      <th>cov_nongerman</th>\n",
       "      <th>cov_nongerman_male</th>\n",
       "      <th>cov_nongerman_female</th>\n",
       "    </tr>\n",
       "  </thead>\n",
       "  <tbody>\n",
       "    <tr>\n",
       "      <th>0</th>\n",
       "      <td>4bb9ea68b63b175ac1b2ae3baec55d3a</td>\n",
       "      <td>1k</td>\n",
       "      <td>do-not-scale</td>\n",
       "      <td>elasticnet</td>\n",
       "      <td>nationality-sex</td>\n",
       "      <td>drop-non-german</td>\n",
       "      <td>0.690995</td>\n",
       "      <td>0.913165</td>\n",
       "      <td>1.253216</td>\n",
       "      <td>0.911875</td>\n",
       "      <td>0.951103</td>\n",
       "      <td>0.959741</td>\n",
       "      <td>0.936811</td>\n",
       "    </tr>\n",
       "  </tbody>\n",
       "</table>\n",
       "</div>"
      ],
      "text/plain": [
       "                        universe_id universe_training_size universe_scale  \\\n",
       "0  4bb9ea68b63b175ac1b2ae3baec55d3a                     1k   do-not-scale   \n",
       "\n",
       "  universe_model universe_exclude_features universe_exclude_subgroups  \\\n",
       "0     elasticnet           nationality-sex            drop-non-german   \n",
       "\n",
       "      q_hat  coverage  avg_size  cov_frau1  cov_nongerman  cov_nongerman_male  \\\n",
       "0  0.690995  0.913165  1.253216   0.911875       0.951103            0.959741   \n",
       "\n",
       "   cov_nongerman_female  \n",
       "0              0.936811  "
      ]
     },
     "execution_count": 64,
     "metadata": {},
     "output_type": "execute_result"
    }
   ],
   "source": [
    "cp_metrics_df"
   ]
  },
  {
   "cell_type": "markdown",
   "id": "33774451",
   "metadata": {
    "papermill": {
     "duration": 0.025674,
     "end_time": "2025-07-28T10:53:11.455605",
     "exception": false,
     "start_time": "2025-07-28T10:53:11.429931",
     "status": "completed"
    },
    "tags": []
   },
   "source": [
    "# (Fairness) Metrics"
   ]
  },
  {
   "cell_type": "code",
   "execution_count": 65,
   "id": "debc5d62",
   "metadata": {
    "execution": {
     "iopub.execute_input": "2025-07-28T10:53:11.509096Z",
     "iopub.status.busy": "2025-07-28T10:53:11.508359Z",
     "iopub.status.idle": "2025-07-28T10:53:11.530761Z",
     "shell.execute_reply": "2025-07-28T10:53:11.529823Z"
    },
    "papermill": {
     "duration": 0.051468,
     "end_time": "2025-07-28T10:53:11.532896",
     "exception": false,
     "start_time": "2025-07-28T10:53:11.481428",
     "status": "completed"
    },
    "tags": []
   },
   "outputs": [],
   "source": [
    "# do I need to include maxdeutsch1.missing?\n",
    "\n",
    "import numpy as np\n",
    "\n",
    "colname_to_bin = \"maxdeutsch1\"\n",
    "majority_value = org_train[colname_to_bin].mode()[0]\n",
    "\n",
    "org_test[\"majmin\"] = np.where(org_test[colname_to_bin] == majority_value, \"majority\", \"minority\")"
   ]
  },
  {
   "cell_type": "code",
   "execution_count": 66,
   "id": "06a50de5",
   "metadata": {
    "execution": {
     "iopub.execute_input": "2025-07-28T10:53:11.586382Z",
     "iopub.status.busy": "2025-07-28T10:53:11.585871Z",
     "iopub.status.idle": "2025-07-28T10:53:14.823273Z",
     "shell.execute_reply": "2025-07-28T10:53:14.822116Z"
    },
    "papermill": {
     "duration": 3.266696,
     "end_time": "2025-07-28T10:53:14.825334",
     "exception": false,
     "start_time": "2025-07-28T10:53:11.558638",
     "status": "completed"
    },
    "tags": []
   },
   "outputs": [],
   "source": [
    "example_universe = universe.copy()\n",
    "example_universe[\"cutoff\"] = example_universe[\"cutoff\"][0]\n",
    "example_universe[\"eval_fairness_grouping\"] = example_universe[\"eval_fairness_grouping\"][0]\n",
    "fairness_dict, metric_frame = universe_analysis.compute_metrics(\n",
    "    example_universe,\n",
    "    y_pred_prob=probs_test,\n",
    "    y_test=y_true,\n",
    "    org_test=org_test,\n",
    ")"
   ]
  },
  {
   "cell_type": "markdown",
   "id": "f95d4e02",
   "metadata": {
    "papermill": {
     "duration": 0.027088,
     "end_time": "2025-07-28T10:53:14.879685",
     "exception": false,
     "start_time": "2025-07-28T10:53:14.852597",
     "status": "completed"
    },
    "tags": []
   },
   "source": [
    "# Overall"
   ]
  },
  {
   "cell_type": "markdown",
   "id": "bdee4871",
   "metadata": {
    "papermill": {
     "duration": 0.026876,
     "end_time": "2025-07-28T10:53:14.934312",
     "exception": false,
     "start_time": "2025-07-28T10:53:14.907436",
     "status": "completed"
    },
    "tags": []
   },
   "source": [
    "Fairness\n",
    "Main fairness target: Equalized Odds. Seems to be a better fit than equal opportunity, since we're not only interested in Y = 1. Seems to be a better fit than demographic parity, since we also care about accuracy, not just equal distribution of preds.\n",
    "\n",
    "Pick column for computation of fairness metrics\n",
    "\n",
    "Performance\n",
    "Overall performance measures, most interesting in relation to the measures split by group below"
   ]
  },
  {
   "cell_type": "code",
   "execution_count": 67,
   "id": "c4e067c6",
   "metadata": {
    "execution": {
     "iopub.execute_input": "2025-07-28T10:53:14.992284Z",
     "iopub.status.busy": "2025-07-28T10:53:14.991530Z",
     "iopub.status.idle": "2025-07-28T10:53:15.000939Z",
     "shell.execute_reply": "2025-07-28T10:53:14.999929Z"
    },
    "papermill": {
     "duration": 0.040401,
     "end_time": "2025-07-28T10:53:15.002517",
     "exception": false,
     "start_time": "2025-07-28T10:53:14.962116",
     "status": "completed"
    },
    "tags": []
   },
   "outputs": [
    {
     "data": {
      "text/plain": [
       "accuracy                   0.214012\n",
       "balanced accuracy          0.525459\n",
       "f1                         0.235628\n",
       "precision                  0.134607\n",
       "false positive rate        0.893468\n",
       "false negative rate        0.055613\n",
       "selection rate             0.900000\n",
       "count                  89710.000000\n",
       "dtype: float64"
      ]
     },
     "execution_count": 67,
     "metadata": {},
     "output_type": "execute_result"
    }
   ],
   "source": [
    "metric_frame.overall"
   ]
  },
  {
   "cell_type": "markdown",
   "id": "e968fe9d",
   "metadata": {
    "papermill": {
     "duration": 0.028272,
     "end_time": "2025-07-28T10:53:15.058886",
     "exception": false,
     "start_time": "2025-07-28T10:53:15.030614",
     "status": "completed"
    },
    "tags": []
   },
   "source": [
    "By Group"
   ]
  },
  {
   "cell_type": "code",
   "execution_count": 68,
   "id": "ec325bce",
   "metadata": {
    "execution": {
     "iopub.execute_input": "2025-07-28T10:53:15.116756Z",
     "iopub.status.busy": "2025-07-28T10:53:15.116067Z",
     "iopub.status.idle": "2025-07-28T10:53:15.133453Z",
     "shell.execute_reply": "2025-07-28T10:53:15.132388Z"
    },
    "papermill": {
     "duration": 0.048953,
     "end_time": "2025-07-28T10:53:15.135201",
     "exception": false,
     "start_time": "2025-07-28T10:53:15.086248",
     "status": "completed"
    },
    "tags": []
   },
   "outputs": [
    {
     "data": {
      "text/html": [
       "<div>\n",
       "<style scoped>\n",
       "    .dataframe tbody tr th:only-of-type {\n",
       "        vertical-align: middle;\n",
       "    }\n",
       "\n",
       "    .dataframe tbody tr th {\n",
       "        vertical-align: top;\n",
       "    }\n",
       "\n",
       "    .dataframe thead th {\n",
       "        text-align: right;\n",
       "    }\n",
       "</style>\n",
       "<table border=\"1\" class=\"dataframe\">\n",
       "  <thead>\n",
       "    <tr style=\"text-align: right;\">\n",
       "      <th></th>\n",
       "      <th>accuracy</th>\n",
       "      <th>balanced accuracy</th>\n",
       "      <th>f1</th>\n",
       "      <th>precision</th>\n",
       "      <th>false positive rate</th>\n",
       "      <th>false negative rate</th>\n",
       "      <th>selection rate</th>\n",
       "      <th>count</th>\n",
       "    </tr>\n",
       "    <tr>\n",
       "      <th>majmin</th>\n",
       "      <th></th>\n",
       "      <th></th>\n",
       "      <th></th>\n",
       "      <th></th>\n",
       "      <th></th>\n",
       "      <th></th>\n",
       "      <th></th>\n",
       "      <th></th>\n",
       "    </tr>\n",
       "  </thead>\n",
       "  <tbody>\n",
       "    <tr>\n",
       "      <th>majority</th>\n",
       "      <td>0.235290</td>\n",
       "      <td>0.531789</td>\n",
       "      <td>0.244174</td>\n",
       "      <td>0.140427</td>\n",
       "      <td>0.871214</td>\n",
       "      <td>0.065208</td>\n",
       "      <td>0.879615</td>\n",
       "      <td>69170.0</td>\n",
       "    </tr>\n",
       "    <tr>\n",
       "      <th>minority</th>\n",
       "      <td>0.142356</td>\n",
       "      <td>0.507218</td>\n",
       "      <td>0.208768</td>\n",
       "      <td>0.116807</td>\n",
       "      <td>0.966982</td>\n",
       "      <td>0.018581</td>\n",
       "      <td>0.968647</td>\n",
       "      <td>20540.0</td>\n",
       "    </tr>\n",
       "  </tbody>\n",
       "</table>\n",
       "</div>"
      ],
      "text/plain": [
       "          accuracy  balanced accuracy        f1  precision  \\\n",
       "majmin                                                       \n",
       "majority  0.235290           0.531789  0.244174   0.140427   \n",
       "minority  0.142356           0.507218  0.208768   0.116807   \n",
       "\n",
       "          false positive rate  false negative rate  selection rate    count  \n",
       "majmin                                                                       \n",
       "majority             0.871214             0.065208        0.879615  69170.0  \n",
       "minority             0.966982             0.018581        0.968647  20540.0  "
      ]
     },
     "execution_count": 68,
     "metadata": {},
     "output_type": "execute_result"
    }
   ],
   "source": [
    "metric_frame.by_group"
   ]
  },
  {
   "cell_type": "code",
   "execution_count": 69,
   "id": "a9ddbe63",
   "metadata": {
    "execution": {
     "iopub.execute_input": "2025-07-28T10:53:15.193857Z",
     "iopub.status.busy": "2025-07-28T10:53:15.192917Z",
     "iopub.status.idle": "2025-07-28T10:53:17.900397Z",
     "shell.execute_reply": "2025-07-28T10:53:17.899364Z"
    },
    "papermill": {
     "duration": 2.739452,
     "end_time": "2025-07-28T10:53:17.902184",
     "exception": false,
     "start_time": "2025-07-28T10:53:15.162732",
     "status": "completed"
    },
    "tags": []
   },
   "outputs": [
    {
     "data": {
      "text/plain": [
       "array([[<Axes: title={'center': 'accuracy'}, xlabel='majmin'>,\n",
       "        <Axes: title={'center': 'balanced accuracy'}, xlabel='majmin'>,\n",
       "        <Axes: title={'center': 'f1'}, xlabel='majmin'>],\n",
       "       [<Axes: title={'center': 'precision'}, xlabel='majmin'>,\n",
       "        <Axes: title={'center': 'false positive rate'}, xlabel='majmin'>,\n",
       "        <Axes: title={'center': 'false negative rate'}, xlabel='majmin'>],\n",
       "       [<Axes: title={'center': 'selection rate'}, xlabel='majmin'>,\n",
       "        <Axes: title={'center': 'count'}, xlabel='majmin'>,\n",
       "        <Axes: xlabel='majmin'>]], dtype=object)"
      ]
     },
     "execution_count": 69,
     "metadata": {},
     "output_type": "execute_result"
    },
    {
     "data": {
      "image/png": "[encoded data removed]",
      "text/plain": [
       "<Figure size 1200x800 with 9 Axes>"
      ]
     },
     "metadata": {},
     "output_type": "display_data"
    }
   ],
   "source": [
    "# In a graphic\n",
    "metric_frame.by_group.plot.bar(\n",
    "    subplots=True,\n",
    "    layout=[3, 3],\n",
    "    legend=False,\n",
    "    figsize=[12, 8],\n",
    "    title=\"Show all metrics\",\n",
    ")"
   ]
  },
  {
   "cell_type": "markdown",
   "id": "f57a0bac",
   "metadata": {
    "papermill": {
     "duration": 0.02897,
     "end_time": "2025-07-28T10:53:17.964473",
     "exception": false,
     "start_time": "2025-07-28T10:53:17.935503",
     "status": "completed"
    },
    "tags": []
   },
   "source": [
    "# Final Output"
   ]
  },
  {
   "cell_type": "code",
   "execution_count": 70,
   "id": "96d280a3",
   "metadata": {
    "execution": {
     "iopub.execute_input": "2025-07-28T10:53:18.026914Z",
     "iopub.status.busy": "2025-07-28T10:53:18.026316Z",
     "iopub.status.idle": "2025-07-28T10:53:18.034452Z",
     "shell.execute_reply": "2025-07-28T10:53:18.033476Z"
    },
    "papermill": {
     "duration": 0.041408,
     "end_time": "2025-07-28T10:53:18.036126",
     "exception": false,
     "start_time": "2025-07-28T10:53:17.994718",
     "status": "completed"
    },
    "tags": []
   },
   "outputs": [
    {
     "data": {
      "text/plain": [
       "4"
      ]
     },
     "execution_count": 70,
     "metadata": {},
     "output_type": "execute_result"
    }
   ],
   "source": [
    "sub_universes = universe_analysis.generate_sub_universes()\n",
    "len(sub_universes)"
   ]
  },
  {
   "cell_type": "code",
   "execution_count": 71,
   "id": "92adf7ba",
   "metadata": {
    "execution": {
     "iopub.execute_input": "2025-07-28T10:53:18.098105Z",
     "iopub.status.busy": "2025-07-28T10:53:18.097371Z",
     "iopub.status.idle": "2025-07-28T10:53:18.104043Z",
     "shell.execute_reply": "2025-07-28T10:53:18.103127Z"
    },
    "papermill": {
     "duration": 0.039112,
     "end_time": "2025-07-28T10:53:18.105679",
     "exception": false,
     "start_time": "2025-07-28T10:53:18.066567",
     "status": "completed"
    },
    "tags": []
   },
   "outputs": [],
   "source": [
    "def filter_sub_universe_data(sub_universe, org_test):\n",
    "    # Keep all rows — no filtering\n",
    "    keep_rows_mask = np.ones(org_test.shape[0], dtype=bool)\n",
    "\n",
    "    print(f\"[INFO] Keeping all rows: {keep_rows_mask.sum()} rows retained.\")\n",
    "    return keep_rows_mask"
   ]
  },
  {
   "cell_type": "code",
   "execution_count": 72,
   "id": "4a759155",
   "metadata": {
    "execution": {
     "iopub.execute_input": "2025-07-28T10:53:18.166308Z",
     "iopub.status.busy": "2025-07-28T10:53:18.165287Z",
     "iopub.status.idle": "2025-07-28T10:53:29.147645Z",
     "shell.execute_reply": "2025-07-28T10:53:29.146610Z"
    },
    "papermill": {
     "duration": 11.014467,
     "end_time": "2025-07-28T10:53:29.149536",
     "exception": false,
     "start_time": "2025-07-28T10:53:18.135069",
     "status": "completed"
    },
    "tags": []
   },
   "outputs": [
    {
     "name": "stdout",
     "output_type": "stream",
     "text": [
      "Stopping execution_time clock.\n",
      "[INFO] Keeping all rows: 89710 rows retained.\n"
     ]
    },
    {
     "name": "stdout",
     "output_type": "stream",
     "text": [
      "[INFO] Keeping all rows: 89710 rows retained.\n"
     ]
    },
    {
     "name": "stdout",
     "output_type": "stream",
     "text": [
      "[INFO] Keeping all rows: 89710 rows retained.\n"
     ]
    },
    {
     "name": "stdout",
     "output_type": "stream",
     "text": [
      "[INFO] Keeping all rows: 89710 rows retained.\n"
     ]
    },
    {
     "data": {
      "text/html": [
       "<div>\n",
       "<style scoped>\n",
       "    .dataframe tbody tr th:only-of-type {\n",
       "        vertical-align: middle;\n",
       "    }\n",
       "\n",
       "    .dataframe tbody tr th {\n",
       "        vertical-align: top;\n",
       "    }\n",
       "\n",
       "    .dataframe thead th {\n",
       "        text-align: right;\n",
       "    }\n",
       "</style>\n",
       "<table border=\"1\" class=\"dataframe\">\n",
       "  <thead>\n",
       "    <tr style=\"text-align: right;\">\n",
       "      <th></th>\n",
       "      <th>run_no</th>\n",
       "      <th>universe_id</th>\n",
       "      <th>universe_settings</th>\n",
       "      <th>execution_time</th>\n",
       "      <th>test_size_n</th>\n",
       "      <th>test_size_frac</th>\n",
       "      <th>fair_main_equalized_odds_difference</th>\n",
       "      <th>fair_main_equalized_odds_ratio</th>\n",
       "      <th>fair_main_demographic_parity_difference</th>\n",
       "      <th>fair_main_demographic_parity_ratio</th>\n",
       "      <th>...</th>\n",
       "      <th>perf_grp_precision_0</th>\n",
       "      <th>perf_grp_precision_1</th>\n",
       "      <th>perf_grp_false positive rate_0</th>\n",
       "      <th>perf_grp_false positive rate_1</th>\n",
       "      <th>perf_grp_false negative rate_0</th>\n",
       "      <th>perf_grp_false negative rate_1</th>\n",
       "      <th>perf_grp_selection rate_0</th>\n",
       "      <th>perf_grp_selection rate_1</th>\n",
       "      <th>perf_grp_count_0</th>\n",
       "      <th>perf_grp_count_1</th>\n",
       "    </tr>\n",
       "  </thead>\n",
       "  <tbody>\n",
       "    <tr>\n",
       "      <th>0</th>\n",
       "      <td>11</td>\n",
       "      <td>4bb9ea68b63b175ac1b2ae3baec55d3a</td>\n",
       "      <td>{\"cutoff\": \"quantile_0.1\", \"eval_fairness_grou...</td>\n",
       "      <td>44.562234</td>\n",
       "      <td>89710</td>\n",
       "      <td>1.0</td>\n",
       "      <td>0.095768</td>\n",
       "      <td>0.900962</td>\n",
       "      <td>0.089031</td>\n",
       "      <td>0.908087</td>\n",
       "      <td>...</td>\n",
       "      <td>NaN</td>\n",
       "      <td>NaN</td>\n",
       "      <td>NaN</td>\n",
       "      <td>NaN</td>\n",
       "      <td>NaN</td>\n",
       "      <td>NaN</td>\n",
       "      <td>NaN</td>\n",
       "      <td>NaN</td>\n",
       "      <td>NaN</td>\n",
       "      <td>NaN</td>\n",
       "    </tr>\n",
       "    <tr>\n",
       "      <th>0</th>\n",
       "      <td>11</td>\n",
       "      <td>4bb9ea68b63b175ac1b2ae3baec55d3a</td>\n",
       "      <td>{\"cutoff\": \"quantile_0.1\", \"eval_fairness_grou...</td>\n",
       "      <td>44.562234</td>\n",
       "      <td>89710</td>\n",
       "      <td>1.0</td>\n",
       "      <td>0.095768</td>\n",
       "      <td>0.900962</td>\n",
       "      <td>0.089031</td>\n",
       "      <td>0.908087</td>\n",
       "      <td>...</td>\n",
       "      <td>0.116807</td>\n",
       "      <td>0.140427</td>\n",
       "      <td>0.966982</td>\n",
       "      <td>0.871214</td>\n",
       "      <td>0.018581</td>\n",
       "      <td>0.065208</td>\n",
       "      <td>0.968647</td>\n",
       "      <td>0.879615</td>\n",
       "      <td>20540.0</td>\n",
       "      <td>69170.0</td>\n",
       "    </tr>\n",
       "    <tr>\n",
       "      <th>0</th>\n",
       "      <td>11</td>\n",
       "      <td>4bb9ea68b63b175ac1b2ae3baec55d3a</td>\n",
       "      <td>{\"cutoff\": \"quantile_0.25\", \"eval_fairness_gro...</td>\n",
       "      <td>44.562234</td>\n",
       "      <td>89710</td>\n",
       "      <td>1.0</td>\n",
       "      <td>0.222517</td>\n",
       "      <td>0.754101</td>\n",
       "      <td>0.207115</td>\n",
       "      <td>0.772323</td>\n",
       "      <td>...</td>\n",
       "      <td>NaN</td>\n",
       "      <td>NaN</td>\n",
       "      <td>NaN</td>\n",
       "      <td>NaN</td>\n",
       "      <td>NaN</td>\n",
       "      <td>NaN</td>\n",
       "      <td>NaN</td>\n",
       "      <td>NaN</td>\n",
       "      <td>NaN</td>\n",
       "      <td>NaN</td>\n",
       "    </tr>\n",
       "    <tr>\n",
       "      <th>0</th>\n",
       "      <td>11</td>\n",
       "      <td>4bb9ea68b63b175ac1b2ae3baec55d3a</td>\n",
       "      <td>{\"cutoff\": \"quantile_0.25\", \"eval_fairness_gro...</td>\n",
       "      <td>44.562234</td>\n",
       "      <td>89710</td>\n",
       "      <td>1.0</td>\n",
       "      <td>0.222517</td>\n",
       "      <td>0.754101</td>\n",
       "      <td>0.207115</td>\n",
       "      <td>0.772323</td>\n",
       "      <td>...</td>\n",
       "      <td>0.119936</td>\n",
       "      <td>0.157067</td>\n",
       "      <td>0.904909</td>\n",
       "      <td>0.682392</td>\n",
       "      <td>0.053632</td>\n",
       "      <td>0.164880</td>\n",
       "      <td>0.909688</td>\n",
       "      <td>0.702573</td>\n",
       "      <td>20540.0</td>\n",
       "      <td>69170.0</td>\n",
       "    </tr>\n",
       "  </tbody>\n",
       "</table>\n",
       "<p>4 rows × 50 columns</p>\n",
       "</div>"
      ],
      "text/plain": [
       "  run_no                       universe_id  \\\n",
       "0     11  4bb9ea68b63b175ac1b2ae3baec55d3a   \n",
       "0     11  4bb9ea68b63b175ac1b2ae3baec55d3a   \n",
       "0     11  4bb9ea68b63b175ac1b2ae3baec55d3a   \n",
       "0     11  4bb9ea68b63b175ac1b2ae3baec55d3a   \n",
       "\n",
       "                                   universe_settings  execution_time  \\\n",
       "0  {\"cutoff\": \"quantile_0.1\", \"eval_fairness_grou...       44.562234   \n",
       "0  {\"cutoff\": \"quantile_0.1\", \"eval_fairness_grou...       44.562234   \n",
       "0  {\"cutoff\": \"quantile_0.25\", \"eval_fairness_gro...       44.562234   \n",
       "0  {\"cutoff\": \"quantile_0.25\", \"eval_fairness_gro...       44.562234   \n",
       "\n",
       "   test_size_n  test_size_frac  fair_main_equalized_odds_difference  \\\n",
       "0        89710             1.0                             0.095768   \n",
       "0        89710             1.0                             0.095768   \n",
       "0        89710             1.0                             0.222517   \n",
       "0        89710             1.0                             0.222517   \n",
       "\n",
       "   fair_main_equalized_odds_ratio  fair_main_demographic_parity_difference  \\\n",
       "0                        0.900962                                 0.089031   \n",
       "0                        0.900962                                 0.089031   \n",
       "0                        0.754101                                 0.207115   \n",
       "0                        0.754101                                 0.207115   \n",
       "\n",
       "   fair_main_demographic_parity_ratio  ...  perf_grp_precision_0  \\\n",
       "0                            0.908087  ...                   NaN   \n",
       "0                            0.908087  ...              0.116807   \n",
       "0                            0.772323  ...                   NaN   \n",
       "0                            0.772323  ...              0.119936   \n",
       "\n",
       "   perf_grp_precision_1  perf_grp_false positive rate_0  \\\n",
       "0                   NaN                             NaN   \n",
       "0              0.140427                        0.966982   \n",
       "0                   NaN                             NaN   \n",
       "0              0.157067                        0.904909   \n",
       "\n",
       "   perf_grp_false positive rate_1  perf_grp_false negative rate_0  \\\n",
       "0                             NaN                             NaN   \n",
       "0                        0.871214                        0.018581   \n",
       "0                             NaN                             NaN   \n",
       "0                        0.682392                        0.053632   \n",
       "\n",
       "   perf_grp_false negative rate_1  perf_grp_selection rate_0  \\\n",
       "0                             NaN                        NaN   \n",
       "0                        0.065208                   0.968647   \n",
       "0                             NaN                        NaN   \n",
       "0                        0.164880                   0.909688   \n",
       "\n",
       "   perf_grp_selection rate_1  perf_grp_count_0  perf_grp_count_1  \n",
       "0                        NaN               NaN               NaN  \n",
       "0                   0.879615           20540.0           69170.0  \n",
       "0                        NaN               NaN               NaN  \n",
       "0                   0.702573           20540.0           69170.0  \n",
       "\n",
       "[4 rows x 50 columns]"
      ]
     },
     "execution_count": 72,
     "metadata": {},
     "output_type": "execute_result"
    }
   ],
   "source": [
    "final_output = universe_analysis.generate_final_output(\n",
    "    y_pred_prob=probs_test,\n",
    "    y_test=y_true,\n",
    "    org_test=org_test,\n",
    "    filter_data=filter_sub_universe_data,\n",
    "    cp_metrics_df=cp_metrics_df,\n",
    "    save=True,\n",
    ")\n",
    "final_output"
   ]
  },
  {
   "cell_type": "code",
   "execution_count": null,
   "id": "721ff514-cb11-46f8-b6fc-50392f74b5cb",
   "metadata": {
    "papermill": {
     "duration": 0.029903,
     "end_time": "2025-07-28T10:53:29.211015",
     "exception": false,
     "start_time": "2025-07-28T10:53:29.181112",
     "status": "completed"
    },
    "tags": []
   },
   "outputs": [],
   "source": []
  }
 ],
 "metadata": {
  "celltoolbar": "Tags",
  "kernelspec": {
   "display_name": "Python (CMA Fairness)",
   "language": "python",
   "name": "cma_fair_env"
  },
  "language_info": {
   "codemirror_mode": {
    "name": "ipython",
    "version": 3
   },
   "file_extension": ".py",
   "mimetype": "text/x-python",
   "name": "python",
   "nbconvert_exporter": "python",
   "pygments_lexer": "ipython3",
   "version": "3.10.12"
  },
  "papermill": {
   "default_parameters": {},
   "duration": 60.032673,
   "end_time": "2025-07-28T10:53:30.060323",
   "environment_variables": {},
   "exception": null,
   "input_path": "universe_analysis.ipynb",
   "output_path": "output/runs/11/notebooks/m_11-4bb9ea68b63b175ac1b2ae3baec55d3a.ipynb",
   "parameters": {
    "output_dir": "output",
    "run_no": "11",
    "seed": "2023",
    "universe": "{\"cutoff\": [\"quantile_0.1\", \"quantile_0.25\"], \"eval_fairness_grouping\": [\"majority-minority\", \"nationality-all\"], \"exclude_features\": \"nationality-sex\", \"exclude_subgroups\": \"drop-non-german\", \"model\": \"elasticnet\", \"scale\": \"do-not-scale\", \"training_size\": \"1k\"}",
    "universe_id": "4bb9ea68b63b175ac1b2ae3baec55d3a"
   },
   "start_time": "2025-07-28T10:52:30.027650",
   "version": "2.6.0"
  }
 },
 "nbformat": 4,
 "nbformat_minor": 5
}