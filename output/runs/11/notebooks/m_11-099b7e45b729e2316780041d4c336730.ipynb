{
 "cells": [
  {
   "cell_type": "code",
   "execution_count": 1,
   "id": "f159f837-637b-42ba-96b5-ec9a68c44524",
   "metadata": {
    "execution": {
     "iopub.execute_input": "2025-07-28T10:56:30.778389Z",
     "iopub.status.busy": "2025-07-28T10:56:30.777876Z",
     "iopub.status.idle": "2025-07-28T10:56:30.806456Z",
     "shell.execute_reply": "2025-07-28T10:56:30.805035Z"
    },
    "papermill": {
     "duration": 0.091855,
     "end_time": "2025-07-28T10:56:30.808253",
     "exception": false,
     "start_time": "2025-07-28T10:56:30.716398",
     "status": "completed"
    },
    "tags": []
   },
   "outputs": [
    {
     "name": "stdout",
     "output_type": "stream",
     "text": [
      "/dss/dsshome1/0C/ra93lal2/cma/CMA_Fairness_v2\n"
     ]
    },
    {
     "name": "stderr",
     "output_type": "stream",
     "text": [
      "/dss/dsshome1/0C/ra93lal2/.local/share/virtualenvs/CMA_Fairness_v2-3j10GkSs/lib/python3.10/site-packages/IPython/core/magics/osm.py:393: UserWarning: This is now an optional IPython functionality, using bookmarks requires you to install the `pickleshare` library.\n",
      "  bkms = self.shell.db.get('bookmarks', {})\n",
      "/dss/dsshome1/0C/ra93lal2/.local/share/virtualenvs/CMA_Fairness_v2-3j10GkSs/lib/python3.10/site-packages/IPython/core/magics/osm.py:417: UserWarning: This is now an optional IPython functionality, setting dhist requires you to install the `pickleshare` library.\n",
      "  self.shell.db['dhist'] = compress_dhist(dhist)[-100:]\n"
     ]
    }
   ],
   "source": [
    "%cd ~/cma/CMA_Fairness_v2"
   ]
  },
  {
   "cell_type": "markdown",
   "id": "de2603b9",
   "metadata": {
    "papermill": {
     "duration": 0.077024,
     "end_time": "2025-07-28T10:56:30.948398",
     "exception": false,
     "start_time": "2025-07-28T10:56:30.871374",
     "status": "completed"
    },
    "tags": []
   },
   "source": [
    "The following cell holds the definition of our parameters, these values can be overriden by rendering the with e.g. the following command:\n",
    "\n",
    "papermill -p alpha 0.2 -p ratio 0.3 universe_analysis.ipynb output/test_run.ipynb"
   ]
  },
  {
   "cell_type": "code",
   "execution_count": 2,
   "id": "a80968a0-40bb-4fa9-85ef-2d5eefb01975",
   "metadata": {
    "execution": {
     "iopub.execute_input": "2025-07-28T10:56:31.045042Z",
     "iopub.status.busy": "2025-07-28T10:56:31.044619Z",
     "iopub.status.idle": "2025-07-28T10:56:31.051030Z",
     "shell.execute_reply": "2025-07-28T10:56:31.049969Z"
    },
    "papermill": {
     "duration": 0.044733,
     "end_time": "2025-07-28T10:56:31.052702",
     "exception": false,
     "start_time": "2025-07-28T10:56:31.007969",
     "status": "completed"
    },
    "tags": []
   },
   "outputs": [
    {
     "name": "stdout",
     "output_type": "stream",
     "text": [
      "Current working directory: /dss/dsshome1/0C/ra93lal2/cma/CMA_Fairness_v2\n"
     ]
    }
   ],
   "source": [
    "import os\n",
    "print(\"Current working directory:\", os.getcwd())"
   ]
  },
  {
   "cell_type": "code",
   "execution_count": 3,
   "id": "2dce4c03",
   "metadata": {
    "execution": {
     "iopub.execute_input": "2025-07-28T10:56:31.145672Z",
     "iopub.status.busy": "2025-07-28T10:56:31.145229Z",
     "iopub.status.idle": "2025-07-28T10:56:31.152548Z",
     "shell.execute_reply": "2025-07-28T10:56:31.151360Z"
    },
    "papermill": {
     "duration": 0.060977,
     "end_time": "2025-07-28T10:56:31.154574",
     "exception": false,
     "start_time": "2025-07-28T10:56:31.093597",
     "status": "completed"
    },
    "tags": [
     "parameters"
    ]
   },
   "outputs": [],
   "source": [
    "run_no = 0\n",
    "universe_id = \"test\"\n",
    "universe = {\n",
    "    \"training_size\": \"2014\", # \"25k\", \"5k\", \"1k\", \"2014\"\n",
    "    \"scale\": \"scale\", # \"scale\", \"do-not-scale\",\n",
    "    #\"stratify_split\": \"target\", # \"none\", \"target\", \"protected-attribute\", \"both\",\n",
    "    \"model\": \"elasticnet\", # \"logreg\", \"penalized_logreg\", \"rf\", \"gbm\", \"elasticnet\"\n",
    "    \"cutoff\": [\"quantile_0.15\", \"quantile_0.30\"],\n",
    "    \"exclude_features\": \"age\", # \"none\", \"nationality\", \"sex\", \"nationality-sex\", \"age\"\n",
    "    \"exclude_subgroups\": \"keep-all\", # \"keep-all\", \"drop-non-german\"\n",
    "    \"eval_fairness_grouping\": [\"majority-minority\", \"nationality-all\"]\n",
    "}\n",
    "\n",
    "output_dir=\"./output\"\n",
    "seed=0"
   ]
  },
  {
   "cell_type": "code",
   "execution_count": 4,
   "id": "a5d0865d",
   "metadata": {
    "execution": {
     "iopub.execute_input": "2025-07-28T10:56:31.266297Z",
     "iopub.status.busy": "2025-07-28T10:56:31.265836Z",
     "iopub.status.idle": "2025-07-28T10:56:31.271977Z",
     "shell.execute_reply": "2025-07-28T10:56:31.270988Z"
    },
    "papermill": {
     "duration": 0.094479,
     "end_time": "2025-07-28T10:56:31.275632",
     "exception": false,
     "start_time": "2025-07-28T10:56:31.181153",
     "status": "completed"
    },
    "tags": [
     "injected-parameters"
    ]
   },
   "outputs": [],
   "source": [
    "# Parameters\n",
    "universe_id = \"099b7e45b729e2316780041d4c336730\"\n",
    "run_no = \"11\"\n",
    "universe = \"{\\\"cutoff\\\": [\\\"quantile_0.1\\\", \\\"quantile_0.25\\\"], \\\"eval_fairness_grouping\\\": [\\\"majority-minority\\\", \\\"nationality-all\\\"], \\\"exclude_features\\\": \\\"nationality-sex\\\", \\\"exclude_subgroups\\\": \\\"keep-all\\\", \\\"model\\\": \\\"rf\\\", \\\"scale\\\": \\\"scale\\\", \\\"training_size\\\": \\\"2014\\\"}\"\n",
    "output_dir = \"output\"\n",
    "seed = \"2023\"\n"
   ]
  },
  {
   "cell_type": "code",
   "execution_count": 5,
   "id": "1650acaf",
   "metadata": {
    "execution": {
     "iopub.execute_input": "2025-07-28T10:56:31.341233Z",
     "iopub.status.busy": "2025-07-28T10:56:31.340820Z",
     "iopub.status.idle": "2025-07-28T10:56:31.346735Z",
     "shell.execute_reply": "2025-07-28T10:56:31.345703Z"
    },
    "papermill": {
     "duration": 0.031425,
     "end_time": "2025-07-28T10:56:31.350398",
     "exception": false,
     "start_time": "2025-07-28T10:56:31.318973",
     "status": "completed"
    },
    "tags": []
   },
   "outputs": [],
   "source": [
    "import json\n",
    "# Parse universe into dict if it is passed as a string\n",
    "if isinstance(universe, str):\n",
    "    universe = json.loads(universe)"
   ]
  },
  {
   "cell_type": "code",
   "execution_count": 6,
   "id": "16620c48",
   "metadata": {
    "execution": {
     "iopub.execute_input": "2025-07-28T10:56:31.397962Z",
     "iopub.status.busy": "2025-07-28T10:56:31.397516Z",
     "iopub.status.idle": "2025-07-28T10:56:31.457629Z",
     "shell.execute_reply": "2025-07-28T10:56:31.456485Z"
    },
    "papermill": {
     "duration": 0.088445,
     "end_time": "2025-07-28T10:56:31.459885",
     "exception": false,
     "start_time": "2025-07-28T10:56:31.371440",
     "status": "completed"
    },
    "tags": []
   },
   "outputs": [],
   "source": [
    "# Auto-reload the custom package\n",
    "%load_ext autoreload\n",
    "%autoreload 1\n",
    "%aimport fairness_multiverse"
   ]
  },
  {
   "cell_type": "code",
   "execution_count": 7,
   "id": "01c5c9f3",
   "metadata": {
    "execution": {
     "iopub.execute_input": "2025-07-28T10:56:31.503792Z",
     "iopub.status.busy": "2025-07-28T10:56:31.503380Z",
     "iopub.status.idle": "2025-07-28T10:56:35.386578Z",
     "shell.execute_reply": "2025-07-28T10:56:35.385418Z"
    },
    "papermill": {
     "duration": 3.907642,
     "end_time": "2025-07-28T10:56:35.388746",
     "exception": false,
     "start_time": "2025-07-28T10:56:31.481104",
     "status": "completed"
    },
    "tags": []
   },
   "outputs": [],
   "source": [
    "from fairness_multiverse.universe import UniverseAnalysis\n",
    "\n",
    "universe_analysis = UniverseAnalysis(\n",
    "    run_no = run_no,\n",
    "    universe_id = universe_id,\n",
    "    universe = universe,\n",
    "    output_dir=output_dir,\n",
    ")"
   ]
  },
  {
   "cell_type": "code",
   "execution_count": 8,
   "id": "106241f5",
   "metadata": {
    "execution": {
     "iopub.execute_input": "2025-07-28T10:56:35.523559Z",
     "iopub.status.busy": "2025-07-28T10:56:35.522501Z",
     "iopub.status.idle": "2025-07-28T10:56:35.529819Z",
     "shell.execute_reply": "2025-07-28T10:56:35.528832Z"
    },
    "papermill": {
     "duration": 0.064587,
     "end_time": "2025-07-28T10:56:35.532817",
     "exception": false,
     "start_time": "2025-07-28T10:56:35.468230",
     "status": "completed"
    },
    "tags": []
   },
   "outputs": [
    {
     "name": "stdout",
     "output_type": "stream",
     "text": [
      "Using Seed: 2023\n"
     ]
    }
   ],
   "source": [
    "import numpy as np\n",
    "parsed_seed = int(seed)\n",
    "np.random.seed(parsed_seed)\n",
    "print(f\"Using Seed: {parsed_seed}\")"
   ]
  },
  {
   "cell_type": "markdown",
   "id": "e0ebdc57",
   "metadata": {
    "papermill": {
     "duration": 0.032154,
     "end_time": "2025-07-28T10:56:35.628457",
     "exception": false,
     "start_time": "2025-07-28T10:56:35.596303",
     "status": "completed"
    },
    "tags": []
   },
   "source": [
    "# Loading Data"
   ]
  },
  {
   "cell_type": "markdown",
   "id": "681925a3",
   "metadata": {
    "papermill": {
     "duration": 0.038756,
     "end_time": "2025-07-28T10:56:35.687490",
     "exception": false,
     "start_time": "2025-07-28T10:56:35.648734",
     "status": "completed"
    },
    "tags": []
   },
   "source": [
    "Load siab_train, siab_test, siab_calib and/or \n",
    "load siab_train_features, siab_train_labels"
   ]
  },
  {
   "cell_type": "code",
   "execution_count": 9,
   "id": "f0496b8a",
   "metadata": {
    "execution": {
     "iopub.execute_input": "2025-07-28T10:56:35.742956Z",
     "iopub.status.busy": "2025-07-28T10:56:35.742539Z",
     "iopub.status.idle": "2025-07-28T10:56:52.662958Z",
     "shell.execute_reply": "2025-07-28T10:56:52.661488Z"
    },
    "papermill": {
     "duration": 16.957126,
     "end_time": "2025-07-28T10:56:52.665291",
     "exception": false,
     "start_time": "2025-07-28T10:56:35.708165",
     "status": "completed"
    },
    "tags": []
   },
   "outputs": [
    {
     "name": "stdout",
     "output_type": "stream",
     "text": [
      "Loading SIAB data from cache: data/siab_cached.csv.gz\n"
     ]
    },
    {
     "name": "stdout",
     "output_type": "stream",
     "text": [
      "(643690, 164)\n"
     ]
    }
   ],
   "source": [
    "from pathlib import Path\n",
    "import pandas as pd\n",
    "\n",
    "# File paths\n",
    "raw_file = Path(\"data/raw/siab.csv\")\n",
    "cache_file = Path(\"data/siab_cached.csv.gz\")\n",
    "\n",
    "# Ensure cache directory exists\n",
    "cache_file.parent.mkdir(parents=True, exist_ok=True)\n",
    "\n",
    "# Load with simple caching\n",
    "if cache_file.exists():\n",
    "    print(f\"Loading SIAB data from cache: {cache_file}\")\n",
    "    siab = pd.read_csv(cache_file, compression='gzip')\n",
    "else:\n",
    "    print(f\"Cache not found. Reading raw SIAB data: {raw_file}\")\n",
    "    siab = pd.read_csv(raw_file)\n",
    "    siab.to_csv(cache_file, index=False, compression='gzip')\n",
    "    print(f\"Cached SIAB data to: {cache_file}\")\n",
    "\n",
    "# Now use `siab` DataFrame as needed\n",
    "print(siab.shape)"
   ]
  },
  {
   "cell_type": "code",
   "execution_count": 10,
   "id": "db0ca512-5f53-4dba-abdb-a2888bca41ba",
   "metadata": {
    "execution": {
     "iopub.execute_input": "2025-07-28T10:56:52.738164Z",
     "iopub.status.busy": "2025-07-28T10:56:52.737583Z",
     "iopub.status.idle": "2025-07-28T10:56:52.743942Z",
     "shell.execute_reply": "2025-07-28T10:56:52.742812Z"
    },
    "papermill": {
     "duration": 0.043129,
     "end_time": "2025-07-28T10:56:52.745942",
     "exception": false,
     "start_time": "2025-07-28T10:56:52.702813",
     "status": "completed"
    },
    "tags": []
   },
   "outputs": [],
   "source": [
    "#siab"
   ]
  },
  {
   "cell_type": "code",
   "execution_count": 11,
   "id": "a0edb063",
   "metadata": {
    "execution": {
     "iopub.execute_input": "2025-07-28T10:56:52.788025Z",
     "iopub.status.busy": "2025-07-28T10:56:52.787370Z",
     "iopub.status.idle": "2025-07-28T10:56:52.792568Z",
     "shell.execute_reply": "2025-07-28T10:56:52.791508Z"
    },
    "papermill": {
     "duration": 0.027545,
     "end_time": "2025-07-28T10:56:52.794270",
     "exception": false,
     "start_time": "2025-07-28T10:56:52.766725",
     "status": "completed"
    },
    "tags": []
   },
   "outputs": [],
   "source": [
    "#import pandas as pd\n",
    "#\n",
    "#X_train = pd.read_csv(\"./data/X_train.csv\")\n",
    "#y_train = pd.read_csv(\"./data/y_train.csv\")"
   ]
  },
  {
   "cell_type": "code",
   "execution_count": 12,
   "id": "63d08085",
   "metadata": {
    "execution": {
     "iopub.execute_input": "2025-07-28T10:56:52.834867Z",
     "iopub.status.busy": "2025-07-28T10:56:52.834319Z",
     "iopub.status.idle": "2025-07-28T10:56:52.839759Z",
     "shell.execute_reply": "2025-07-28T10:56:52.838767Z"
    },
    "papermill": {
     "duration": 0.027239,
     "end_time": "2025-07-28T10:56:52.841703",
     "exception": false,
     "start_time": "2025-07-28T10:56:52.814464",
     "status": "completed"
    },
    "tags": []
   },
   "outputs": [],
   "source": [
    "#X_test = pd.read_csv(\"./data/X_test.csv\")\n",
    "#y_true = pd.read_csv(\"./data/y_test.csv\")"
   ]
  },
  {
   "cell_type": "code",
   "execution_count": 13,
   "id": "98a8d0fa-1d3d-4ed8-bb2c-281470e24add",
   "metadata": {
    "execution": {
     "iopub.execute_input": "2025-07-28T10:56:52.884789Z",
     "iopub.status.busy": "2025-07-28T10:56:52.884275Z",
     "iopub.status.idle": "2025-07-28T10:56:52.889976Z",
     "shell.execute_reply": "2025-07-28T10:56:52.888998Z"
    },
    "papermill": {
     "duration": 0.030505,
     "end_time": "2025-07-28T10:56:52.891959",
     "exception": false,
     "start_time": "2025-07-28T10:56:52.861454",
     "status": "completed"
    },
    "tags": []
   },
   "outputs": [],
   "source": [
    "# Calibration data for conformal\n",
    "#X_calib = pd.read_csv(\"./data/X_calib.csv\")\n",
    "#y_calib = pd.read_csv(\"./data/y_calib.csv\")"
   ]
  },
  {
   "cell_type": "markdown",
   "id": "9901737e-04df-44f0-9100-f5ad144ed040",
   "metadata": {
    "papermill": {
     "duration": 0.020014,
     "end_time": "2025-07-28T10:56:52.933104",
     "exception": false,
     "start_time": "2025-07-28T10:56:52.913090",
     "status": "completed"
    },
    "tags": []
   },
   "source": [
    "# Splitting Data and Setting Training Data Size"
   ]
  },
  {
   "cell_type": "code",
   "execution_count": 14,
   "id": "acbc8f7d-8fc8-4e86-8c59-5dcb0f58384b",
   "metadata": {
    "execution": {
     "iopub.execute_input": "2025-07-28T10:56:52.979617Z",
     "iopub.status.busy": "2025-07-28T10:56:52.979136Z",
     "iopub.status.idle": "2025-07-28T10:56:52.987948Z",
     "shell.execute_reply": "2025-07-28T10:56:52.986929Z"
    },
    "papermill": {
     "duration": 0.03387,
     "end_time": "2025-07-28T10:56:52.989714",
     "exception": false,
     "start_time": "2025-07-28T10:56:52.955844",
     "status": "completed"
    },
    "tags": []
   },
   "outputs": [],
   "source": [
    "def sample_by_year(df, training_size, random_state=42):\n",
    "    if training_size == \"2014\":\n",
    "        return df[df[\"year\"] == 2014].reset_index(drop=True)\n",
    "    \n",
    "    size_map = {\n",
    "        \"25k\": 5000,\n",
    "        \"5k\": 1000,\n",
    "        \"1k\": 200\n",
    "    }\n",
    "\n",
    "    if training_size not in size_map:\n",
    "        return df.reset_index(drop=True)  # use all data\n",
    "\n",
    "    n_per_year = size_map[training_size]\n",
    "    grouped = df.groupby(\"year\")\n",
    "    sampled = grouped.apply(lambda x: x.sample(n=min(n_per_year, len(x)), random_state=random_state))\n",
    "    return sampled.reset_index(drop=True)"
   ]
  },
  {
   "cell_type": "code",
   "execution_count": 15,
   "id": "6d931f52-beaf-43ff-9e78-9d44a448d54e",
   "metadata": {
    "execution": {
     "iopub.execute_input": "2025-07-28T10:56:53.036746Z",
     "iopub.status.busy": "2025-07-28T10:56:53.036330Z",
     "iopub.status.idle": "2025-07-28T10:56:53.297887Z",
     "shell.execute_reply": "2025-07-28T10:56:53.296699Z"
    },
    "papermill": {
     "duration": 0.288978,
     "end_time": "2025-07-28T10:56:53.300542",
     "exception": false,
     "start_time": "2025-07-28T10:56:53.011564",
     "status": "completed"
    },
    "tags": []
   },
   "outputs": [],
   "source": [
    "siab_s = sample_by_year(siab, universe[\"training_size\"])"
   ]
  },
  {
   "cell_type": "code",
   "execution_count": 16,
   "id": "5db0a40e-a4e2-4920-be85-b12ae061d70d",
   "metadata": {
    "execution": {
     "iopub.execute_input": "2025-07-28T10:56:53.398935Z",
     "iopub.status.busy": "2025-07-28T10:56:53.398509Z",
     "iopub.status.idle": "2025-07-28T10:56:53.421019Z",
     "shell.execute_reply": "2025-07-28T10:56:53.419969Z"
    },
    "papermill": {
     "duration": 0.078098,
     "end_time": "2025-07-28T10:56:53.422581",
     "exception": false,
     "start_time": "2025-07-28T10:56:53.344483",
     "status": "completed"
    },
    "tags": []
   },
   "outputs": [
    {
     "data": {
      "text/plain": [
       "year\n",
       "2014    87158\n",
       "dtype: int64"
      ]
     },
     "metadata": {},
     "output_type": "display_data"
    }
   ],
   "source": [
    "display(siab_s.groupby(\"year\").size())"
   ]
  },
  {
   "cell_type": "code",
   "execution_count": 17,
   "id": "a561edb4-d032-42cb-8256-22eac1111c64",
   "metadata": {
    "execution": {
     "iopub.execute_input": "2025-07-28T10:56:53.525114Z",
     "iopub.status.busy": "2025-07-28T10:56:53.524677Z",
     "iopub.status.idle": "2025-07-28T10:56:53.973639Z",
     "shell.execute_reply": "2025-07-28T10:56:53.972263Z"
    },
    "papermill": {
     "duration": 0.499204,
     "end_time": "2025-07-28T10:56:53.975714",
     "exception": false,
     "start_time": "2025-07-28T10:56:53.476510",
     "status": "completed"
    },
    "tags": []
   },
   "outputs": [],
   "source": [
    "siab_train = siab_s[siab_s.year < 2015]\n",
    "siab_calib = siab[siab.year == 2015]\n",
    "siab_test = siab[siab.year == 2016]"
   ]
  },
  {
   "cell_type": "code",
   "execution_count": 18,
   "id": "472de16f-c3db-4916-846b-1f0de9cf1746",
   "metadata": {
    "execution": {
     "iopub.execute_input": "2025-07-28T10:56:54.055037Z",
     "iopub.status.busy": "2025-07-28T10:56:54.054580Z",
     "iopub.status.idle": "2025-07-28T10:56:54.124437Z",
     "shell.execute_reply": "2025-07-28T10:56:54.123131Z"
    },
    "papermill": {
     "duration": 0.122621,
     "end_time": "2025-07-28T10:56:54.126512",
     "exception": false,
     "start_time": "2025-07-28T10:56:54.003891",
     "status": "completed"
    },
    "tags": []
   },
   "outputs": [],
   "source": [
    "X_train = siab_train.iloc[:,4:164]\n",
    "y_train = siab_train.iloc[:, [3]]"
   ]
  },
  {
   "cell_type": "code",
   "execution_count": 19,
   "id": "828c96af-f43a-4ed6-ba47-8ac73a47d56c",
   "metadata": {
    "execution": {
     "iopub.execute_input": "2025-07-28T10:56:54.204761Z",
     "iopub.status.busy": "2025-07-28T10:56:54.204318Z",
     "iopub.status.idle": "2025-07-28T10:56:54.271934Z",
     "shell.execute_reply": "2025-07-28T10:56:54.270908Z"
    },
    "papermill": {
     "duration": 0.108521,
     "end_time": "2025-07-28T10:56:54.273467",
     "exception": false,
     "start_time": "2025-07-28T10:56:54.164946",
     "status": "completed"
    },
    "tags": []
   },
   "outputs": [],
   "source": [
    "X_calib = siab_calib.iloc[:,4:164]\n",
    "y_calib = siab_calib.iloc[:, [3]]"
   ]
  },
  {
   "cell_type": "code",
   "execution_count": 20,
   "id": "c34be9c3-6bd6-476e-acd3-845840e303be",
   "metadata": {
    "execution": {
     "iopub.execute_input": "2025-07-28T10:56:54.315385Z",
     "iopub.status.busy": "2025-07-28T10:56:54.314666Z",
     "iopub.status.idle": "2025-07-28T10:56:54.376530Z",
     "shell.execute_reply": "2025-07-28T10:56:54.373909Z"
    },
    "papermill": {
     "duration": 0.084889,
     "end_time": "2025-07-28T10:56:54.378674",
     "exception": false,
     "start_time": "2025-07-28T10:56:54.293785",
     "status": "completed"
    },
    "tags": []
   },
   "outputs": [],
   "source": [
    "X_test = siab_test.iloc[:,4:164]\n",
    "y_true = siab_test.iloc[:, [3]]"
   ]
  },
  {
   "cell_type": "code",
   "execution_count": 21,
   "id": "e6c733c5",
   "metadata": {
    "execution": {
     "iopub.execute_input": "2025-07-28T10:56:54.431278Z",
     "iopub.status.busy": "2025-07-28T10:56:54.430444Z",
     "iopub.status.idle": "2025-07-28T10:56:54.601402Z",
     "shell.execute_reply": "2025-07-28T10:56:54.600115Z"
    },
    "papermill": {
     "duration": 0.199949,
     "end_time": "2025-07-28T10:56:54.603540",
     "exception": false,
     "start_time": "2025-07-28T10:56:54.403591",
     "status": "completed"
    },
    "tags": []
   },
   "outputs": [],
   "source": [
    "# Auxiliary data needed downstream in the pipeline\n",
    "\n",
    "org_train = X_train.copy()\n",
    "org_test = X_test.copy()\n",
    "org_calib = X_calib.copy()"
   ]
  },
  {
   "cell_type": "markdown",
   "id": "0a4a1b33",
   "metadata": {
    "papermill": {
     "duration": 0.053403,
     "end_time": "2025-07-28T10:56:54.691373",
     "exception": false,
     "start_time": "2025-07-28T10:56:54.637970",
     "status": "completed"
    },
    "tags": []
   },
   "source": [
    "# Preprocessing Data"
   ]
  },
  {
   "cell_type": "code",
   "execution_count": 22,
   "id": "ca879031",
   "metadata": {
    "execution": {
     "iopub.execute_input": "2025-07-28T10:56:54.786839Z",
     "iopub.status.busy": "2025-07-28T10:56:54.786334Z",
     "iopub.status.idle": "2025-07-28T10:56:54.794445Z",
     "shell.execute_reply": "2025-07-28T10:56:54.793418Z"
    },
    "papermill": {
     "duration": 0.061759,
     "end_time": "2025-07-28T10:56:54.796819",
     "exception": false,
     "start_time": "2025-07-28T10:56:54.735060",
     "status": "completed"
    },
    "tags": []
   },
   "outputs": [],
   "source": [
    "# EXCLUDE PROTECTED FEATURES\n",
    "# ----------------------\n",
    "# \"exclude_features\": \"none\", # \"nationality\", \"sex\", \"nationality-sex\"\n",
    "\n",
    "excluded_features = universe[\"exclude_features\"].split(\"-\") # split, e.g.: \"nationality-sex\" -> [\"nationality\", \"sex\"]\n",
    "excluded_features_dictionary = {\n",
    "    \"nationality\": [\"maxdeutsch1\", \"maxdeutsch.Missing.\"],\n",
    "    \"sex\": [\"frau1\"],\n",
    "    \"age\": [\"age\"],\n",
    "}\n"
   ]
  },
  {
   "cell_type": "code",
   "execution_count": 23,
   "id": "b745ac60",
   "metadata": {
    "execution": {
     "iopub.execute_input": "2025-07-28T10:56:54.884343Z",
     "iopub.status.busy": "2025-07-28T10:56:54.883865Z",
     "iopub.status.idle": "2025-07-28T10:56:54.890423Z",
     "shell.execute_reply": "2025-07-28T10:56:54.889260Z"
    },
    "papermill": {
     "duration": 0.047481,
     "end_time": "2025-07-28T10:56:54.892087",
     "exception": false,
     "start_time": "2025-07-28T10:56:54.844606",
     "status": "completed"
    },
    "tags": []
   },
   "outputs": [],
   "source": [
    "# Code nice names to column names\n",
    "\n",
    "excluded_features_columns = [\n",
    "    excluded_features_dictionary[f] for f in excluded_features if len(f) > 0 and f != \"none\"\n",
    "]"
   ]
  },
  {
   "cell_type": "code",
   "execution_count": 24,
   "id": "f84f73a2",
   "metadata": {
    "execution": {
     "iopub.execute_input": "2025-07-28T10:56:54.994163Z",
     "iopub.status.busy": "2025-07-28T10:56:54.993729Z",
     "iopub.status.idle": "2025-07-28T10:56:55.001374Z",
     "shell.execute_reply": "2025-07-28T10:56:55.000511Z"
    },
    "papermill": {
     "duration": 0.06247,
     "end_time": "2025-07-28T10:56:55.002981",
     "exception": false,
     "start_time": "2025-07-28T10:56:54.940511",
     "status": "completed"
    },
    "tags": []
   },
   "outputs": [],
   "source": [
    "from utils import flatten_once\n",
    "\n",
    "excluded_features_columns = flatten_once(excluded_features_columns)"
   ]
  },
  {
   "cell_type": "code",
   "execution_count": 25,
   "id": "884dea22",
   "metadata": {
    "execution": {
     "iopub.execute_input": "2025-07-28T10:56:55.065646Z",
     "iopub.status.busy": "2025-07-28T10:56:55.065195Z",
     "iopub.status.idle": "2025-07-28T10:56:55.144440Z",
     "shell.execute_reply": "2025-07-28T10:56:55.143294Z"
    },
    "papermill": {
     "duration": 0.104879,
     "end_time": "2025-07-28T10:56:55.146475",
     "exception": false,
     "start_time": "2025-07-28T10:56:55.041596",
     "status": "completed"
    },
    "tags": []
   },
   "outputs": [
    {
     "name": "stdout",
     "output_type": "stream",
     "text": [
      "Dropping features: ['maxdeutsch1', 'maxdeutsch.Missing.', 'frau1']\n"
     ]
    }
   ],
   "source": [
    "if len(excluded_features_columns) > 0:\n",
    "    print(f\"Dropping features: {excluded_features_columns}\")\n",
    "    X_train.drop(excluded_features_columns, axis=1, inplace=True)"
   ]
  },
  {
   "cell_type": "code",
   "execution_count": 26,
   "id": "95ab8b16",
   "metadata": {
    "execution": {
     "iopub.execute_input": "2025-07-28T10:56:55.210626Z",
     "iopub.status.busy": "2025-07-28T10:56:55.210171Z",
     "iopub.status.idle": "2025-07-28T10:56:55.319474Z",
     "shell.execute_reply": "2025-07-28T10:56:55.318340Z"
    },
    "papermill": {
     "duration": 0.152219,
     "end_time": "2025-07-28T10:56:55.321478",
     "exception": false,
     "start_time": "2025-07-28T10:56:55.169259",
     "status": "completed"
    },
    "tags": []
   },
   "outputs": [
    {
     "name": "stdout",
     "output_type": "stream",
     "text": [
      "Dropping features: ['maxdeutsch1', 'maxdeutsch.Missing.', 'frau1']\n"
     ]
    }
   ],
   "source": [
    "if len(excluded_features_columns) > 0:\n",
    "    print(f\"Dropping features: {excluded_features_columns}\")\n",
    "    X_test.drop(excluded_features_columns, axis=1, inplace=True)"
   ]
  },
  {
   "cell_type": "code",
   "execution_count": 27,
   "id": "1853aaf5-fb9f-46cb-a2b5-8ea4ae2237e4",
   "metadata": {
    "execution": {
     "iopub.execute_input": "2025-07-28T10:56:55.370896Z",
     "iopub.status.busy": "2025-07-28T10:56:55.370469Z",
     "iopub.status.idle": "2025-07-28T10:56:55.496612Z",
     "shell.execute_reply": "2025-07-28T10:56:55.467396Z"
    },
    "papermill": {
     "duration": 0.151746,
     "end_time": "2025-07-28T10:56:55.498628",
     "exception": false,
     "start_time": "2025-07-28T10:56:55.346882",
     "status": "completed"
    },
    "tags": []
   },
   "outputs": [
    {
     "name": "stdout",
     "output_type": "stream",
     "text": [
      "Dropping features: ['maxdeutsch1', 'maxdeutsch.Missing.', 'frau1']\n"
     ]
    }
   ],
   "source": [
    "if len(excluded_features_columns) > 0:\n",
    "    print(f\"Dropping features: {excluded_features_columns}\")\n",
    "    X_calib.drop(excluded_features_columns, axis=1, inplace=True)"
   ]
  },
  {
   "cell_type": "code",
   "execution_count": 28,
   "id": "6727d079-03e5-481e-9d38-292a90b7a0a8",
   "metadata": {
    "execution": {
     "iopub.execute_input": "2025-07-28T10:56:55.551074Z",
     "iopub.status.busy": "2025-07-28T10:56:55.550700Z",
     "iopub.status.idle": "2025-07-28T10:56:55.555059Z",
     "shell.execute_reply": "2025-07-28T10:56:55.554315Z"
    },
    "papermill": {
     "duration": 0.029485,
     "end_time": "2025-07-28T10:56:55.556467",
     "exception": false,
     "start_time": "2025-07-28T10:56:55.526982",
     "status": "completed"
    },
    "tags": []
   },
   "outputs": [],
   "source": [
    "# SPLIT & STRATIFY DATA\n",
    "# ----------------------"
   ]
  },
  {
   "cell_type": "code",
   "execution_count": 29,
   "id": "76c4dc6d",
   "metadata": {
    "execution": {
     "iopub.execute_input": "2025-07-28T10:56:55.580587Z",
     "iopub.status.busy": "2025-07-28T10:56:55.580010Z",
     "iopub.status.idle": "2025-07-28T10:56:55.584902Z",
     "shell.execute_reply": "2025-07-28T10:56:55.584101Z"
    },
    "papermill": {
     "duration": 0.018283,
     "end_time": "2025-07-28T10:56:55.586290",
     "exception": false,
     "start_time": "2025-07-28T10:56:55.568007",
     "status": "completed"
    },
    "tags": []
   },
   "outputs": [],
   "source": [
    "# EXCLUDE CERTAIN SUBGROUPS\n",
    "# ----------------------\n",
    "\n",
    "mode = universe.get(\"exclude_subgroups\", \"keep-all\") \n",
    "# Fetches the exclude_subgroups setting from the universe dict.\n",
    "# Defaults to \"keep-all\" if the key is missing."
   ]
  },
  {
   "cell_type": "code",
   "execution_count": 30,
   "id": "21994072",
   "metadata": {
    "execution": {
     "iopub.execute_input": "2025-07-28T10:56:55.610213Z",
     "iopub.status.busy": "2025-07-28T10:56:55.609787Z",
     "iopub.status.idle": "2025-07-28T10:56:55.615600Z",
     "shell.execute_reply": "2025-07-28T10:56:55.614851Z"
    },
    "papermill": {
     "duration": 0.019827,
     "end_time": "2025-07-28T10:56:55.617361",
     "exception": false,
     "start_time": "2025-07-28T10:56:55.597534",
     "status": "completed"
    },
    "tags": []
   },
   "outputs": [],
   "source": [
    "if mode == \"keep-all\":\n",
    "    keep_mask = pd.Series(True, index=org_train.index)\n",
    "\n",
    "# org_train contains the original feature columns from features_org (in Simson)\n",
    "# features_org contains unprocessed features, for me X_train at beginning ???\n",
    "# For keep-all, creates a boolean Series (keep_mask) of all True, so no rows are removed.\n",
    "\n",
    "elif mode == \"drop-non-german\":\n",
    "    keep_mask = org_train[\"maxdeutsch1\"] == 1 # ??? what about missing values?\n",
    "\n",
    "else:\n",
    "    raise ValueError(f\"Unsupported mode for exclude_subgroups: {mode}\")\n"
   ]
  },
  {
   "cell_type": "code",
   "execution_count": 31,
   "id": "71651440",
   "metadata": {
    "execution": {
     "iopub.execute_input": "2025-07-28T10:56:55.658878Z",
     "iopub.status.busy": "2025-07-28T10:56:55.658230Z",
     "iopub.status.idle": "2025-07-28T10:56:55.664227Z",
     "shell.execute_reply": "2025-07-28T10:56:55.663466Z"
    },
    "papermill": {
     "duration": 0.025147,
     "end_time": "2025-07-28T10:56:55.665729",
     "exception": false,
     "start_time": "2025-07-28T10:56:55.640582",
     "status": "completed"
    },
    "tags": []
   },
   "outputs": [],
   "source": [
    "n_drop = (~keep_mask).sum() # Calculates how many rows are set to be dropped\n",
    "if n_drop > 0:\n",
    "    pct = n_drop / len(keep_mask) * 100\n",
    "    print(f\"Dropping {n_drop} rows ({pct:.2f}%) where mode='{mode}'\")"
   ]
  },
  {
   "cell_type": "code",
   "execution_count": 32,
   "id": "5fb8eee5",
   "metadata": {
    "execution": {
     "iopub.execute_input": "2025-07-28T10:56:55.690383Z",
     "iopub.status.busy": "2025-07-28T10:56:55.689788Z",
     "iopub.status.idle": "2025-07-28T10:56:55.775510Z",
     "shell.execute_reply": "2025-07-28T10:56:55.774271Z"
    },
    "papermill": {
     "duration": 0.099867,
     "end_time": "2025-07-28T10:56:55.777443",
     "exception": false,
     "start_time": "2025-07-28T10:56:55.677576",
     "status": "completed"
    },
    "tags": []
   },
   "outputs": [],
   "source": [
    "X_train = X_train[keep_mask]"
   ]
  },
  {
   "cell_type": "code",
   "execution_count": 33,
   "id": "b202bb3a",
   "metadata": {
    "execution": {
     "iopub.execute_input": "2025-07-28T10:56:55.824298Z",
     "iopub.status.busy": "2025-07-28T10:56:55.823716Z",
     "iopub.status.idle": "2025-07-28T10:56:55.832619Z",
     "shell.execute_reply": "2025-07-28T10:56:55.831414Z"
    },
    "papermill": {
     "duration": 0.034831,
     "end_time": "2025-07-28T10:56:55.834463",
     "exception": false,
     "start_time": "2025-07-28T10:56:55.799632",
     "status": "completed"
    },
    "tags": []
   },
   "outputs": [],
   "source": [
    "y_train = y_train[keep_mask]"
   ]
  },
  {
   "cell_type": "markdown",
   "id": "493e2ac3",
   "metadata": {
    "papermill": {
     "duration": 0.022243,
     "end_time": "2025-07-28T10:56:55.879552",
     "exception": false,
     "start_time": "2025-07-28T10:56:55.857309",
     "status": "completed"
    },
    "tags": []
   },
   "source": [
    "# Model Training"
   ]
  },
  {
   "cell_type": "code",
   "execution_count": 34,
   "id": "679e1268",
   "metadata": {
    "execution": {
     "iopub.execute_input": "2025-07-28T10:56:55.927871Z",
     "iopub.status.busy": "2025-07-28T10:56:55.927455Z",
     "iopub.status.idle": "2025-07-28T10:56:56.146454Z",
     "shell.execute_reply": "2025-07-28T10:56:56.145358Z"
    },
    "papermill": {
     "duration": 0.245047,
     "end_time": "2025-07-28T10:56:56.148224",
     "exception": false,
     "start_time": "2025-07-28T10:56:55.903177",
     "status": "completed"
    },
    "tags": []
   },
   "outputs": [],
   "source": [
    "from sklearn.linear_model import LogisticRegression\n",
    "from sklearn.ensemble import GradientBoostingClassifier, RandomForestClassifier\n",
    "\n",
    "if (universe[\"model\"] == \"logreg\"):\n",
    "    model = LogisticRegression() #penalty=\"none\") #, solver=\"newton-cg\", max_iter=1) # include random_state=19 ?\n",
    "elif (universe[\"model\"] == \"penalized_logreg\"):\n",
    "    model = LogisticRegression(penalty=\"l2\", C=1.0) #, solver=\"newton-cg\", max_iter=1)\n",
    "elif (universe[\"model\"] == \"rf\"):\n",
    "    model = RandomForestClassifier(n_estimators=100, n_jobs=-1)\n",
    "elif (universe[\"model\"] == \"gbm\"):\n",
    "    model = GradientBoostingClassifier()\n",
    "elif (universe[\"model\"] == \"elasticnet\"):\n",
    "    model = LogisticRegression(penalty = 'elasticnet', solver = 'saga', l1_ratio = 0.5, max_iter=5000) # which solver to use?\n",
    "else:\n",
    "    raise \"Unsupported universe.model\""
   ]
  },
  {
   "cell_type": "code",
   "execution_count": 35,
   "id": "0cc8f744",
   "metadata": {
    "execution": {
     "iopub.execute_input": "2025-07-28T10:56:56.218192Z",
     "iopub.status.busy": "2025-07-28T10:56:56.217777Z",
     "iopub.status.idle": "2025-07-28T10:56:56.225069Z",
     "shell.execute_reply": "2025-07-28T10:56:56.224196Z"
    },
    "papermill": {
     "duration": 0.055875,
     "end_time": "2025-07-28T10:56:56.226658",
     "exception": false,
     "start_time": "2025-07-28T10:56:56.170783",
     "status": "completed"
    },
    "tags": []
   },
   "outputs": [],
   "source": [
    "import numpy as np\n",
    "from sklearn.pipeline import Pipeline\n",
    "from sklearn.preprocessing import StandardScaler\n",
    "\n",
    "model = Pipeline([\n",
    "    #(\"continuous_processor\", continuous_processor),\n",
    "    #(\"categorical_preprocessor\", categorical_preprocessor),\n",
    "    (\"scale\", StandardScaler() if universe[\"scale\"] == \"scale\" else None), \n",
    "    (\"model\", model),\n",
    "])"
   ]
  },
  {
   "cell_type": "code",
   "execution_count": 36,
   "id": "9442c04d",
   "metadata": {
    "execution": {
     "iopub.execute_input": "2025-07-28T10:56:56.350754Z",
     "iopub.status.busy": "2025-07-28T10:56:56.350321Z",
     "iopub.status.idle": "2025-07-28T10:57:09.018021Z",
     "shell.execute_reply": "2025-07-28T10:57:09.016897Z"
    },
    "papermill": {
     "duration": 12.750031,
     "end_time": "2025-07-28T10:57:09.019903",
     "exception": false,
     "start_time": "2025-07-28T10:56:56.269872",
     "status": "completed"
    },
    "tags": []
   },
   "outputs": [
    {
     "data": {
      "text/html": [
       "<style>#sk-container-id-1 {color: black;background-color: white;}#sk-container-id-1 pre{padding: 0;}#sk-container-id-1 div.sk-toggleable {background-color: white;}#sk-container-id-1 label.sk-toggleable__label {cursor: pointer;display: block;width: 100%;margin-bottom: 0;padding: 0.3em;box-sizing: border-box;text-align: center;}#sk-container-id-1 label.sk-toggleable__label-arrow:before {content: \"▸\";float: left;margin-right: 0.25em;color: #696969;}#sk-container-id-1 label.sk-toggleable__label-arrow:hover:before {color: black;}#sk-container-id-1 div.sk-estimator:hover label.sk-toggleable__label-arrow:before {color: black;}#sk-container-id-1 div.sk-toggleable__content {max-height: 0;max-width: 0;overflow: hidden;text-align: left;background-color: #f0f8ff;}#sk-container-id-1 div.sk-toggleable__content pre {margin: 0.2em;color: black;border-radius: 0.25em;background-color: #f0f8ff;}#sk-container-id-1 input.sk-toggleable__control:checked~div.sk-toggleable__content {max-height: 200px;max-width: 100%;overflow: auto;}#sk-container-id-1 input.sk-toggleable__control:checked~label.sk-toggleable__label-arrow:before {content: \"▾\";}#sk-container-id-1 div.sk-estimator input.sk-toggleable__control:checked~label.sk-toggleable__label {background-color: #d4ebff;}#sk-container-id-1 div.sk-label input.sk-toggleable__control:checked~label.sk-toggleable__label {background-color: #d4ebff;}#sk-container-id-1 input.sk-hidden--visually {border: 0;clip: rect(1px 1px 1px 1px);clip: rect(1px, 1px, 1px, 1px);height: 1px;margin: -1px;overflow: hidden;padding: 0;position: absolute;width: 1px;}#sk-container-id-1 div.sk-estimator {font-family: monospace;background-color: #f0f8ff;border: 1px dotted black;border-radius: 0.25em;box-sizing: border-box;margin-bottom: 0.5em;}#sk-container-id-1 div.sk-estimator:hover {background-color: #d4ebff;}#sk-container-id-1 div.sk-parallel-item::after {content: \"\";width: 100%;border-bottom: 1px solid gray;flex-grow: 1;}#sk-container-id-1 div.sk-label:hover label.sk-toggleable__label {background-color: #d4ebff;}#sk-container-id-1 div.sk-serial::before {content: \"\";position: absolute;border-left: 1px solid gray;box-sizing: border-box;top: 0;bottom: 0;left: 50%;z-index: 0;}#sk-container-id-1 div.sk-serial {display: flex;flex-direction: column;align-items: center;background-color: white;padding-right: 0.2em;padding-left: 0.2em;position: relative;}#sk-container-id-1 div.sk-item {position: relative;z-index: 1;}#sk-container-id-1 div.sk-parallel {display: flex;align-items: stretch;justify-content: center;background-color: white;position: relative;}#sk-container-id-1 div.sk-item::before, #sk-container-id-1 div.sk-parallel-item::before {content: \"\";position: absolute;border-left: 1px solid gray;box-sizing: border-box;top: 0;bottom: 0;left: 50%;z-index: -1;}#sk-container-id-1 div.sk-parallel-item {display: flex;flex-direction: column;z-index: 1;position: relative;background-color: white;}#sk-container-id-1 div.sk-parallel-item:first-child::after {align-self: flex-end;width: 50%;}#sk-container-id-1 div.sk-parallel-item:last-child::after {align-self: flex-start;width: 50%;}#sk-container-id-1 div.sk-parallel-item:only-child::after {width: 0;}#sk-container-id-1 div.sk-dashed-wrapped {border: 1px dashed gray;margin: 0 0.4em 0.5em 0.4em;box-sizing: border-box;padding-bottom: 0.4em;background-color: white;}#sk-container-id-1 div.sk-label label {font-family: monospace;font-weight: bold;display: inline-block;line-height: 1.2em;}#sk-container-id-1 div.sk-label-container {text-align: center;}#sk-container-id-1 div.sk-container {/* jupyter's `normalize.less` sets `[hidden] { display: none; }` but bootstrap.min.css set `[hidden] { display: none !important; }` so we also need the `!important` here to be able to override the default hidden behavior on the sphinx rendered scikit-learn.org. See: https://github.com/scikit-learn/scikit-learn/issues/21755 */display: inline-block !important;position: relative;}#sk-container-id-1 div.sk-text-repr-fallback {display: none;}</style><div id=\"sk-container-id-1\" class=\"sk-top-container\"><div class=\"sk-text-repr-fallback\"><pre>Pipeline(steps=[(&#x27;scale&#x27;, StandardScaler()),\n",
       "                (&#x27;model&#x27;, RandomForestClassifier(n_jobs=-1))])</pre><b>In a Jupyter environment, please rerun this cell to show the HTML representation or trust the notebook. <br />On GitHub, the HTML representation is unable to render, please try loading this page with nbviewer.org.</b></div><div class=\"sk-container\" hidden><div class=\"sk-item sk-dashed-wrapped\"><div class=\"sk-label-container\"><div class=\"sk-label sk-toggleable\"><input class=\"sk-toggleable__control sk-hidden--visually\" id=\"sk-estimator-id-1\" type=\"checkbox\" ><label for=\"sk-estimator-id-1\" class=\"sk-toggleable__label sk-toggleable__label-arrow\">Pipeline</label><div class=\"sk-toggleable__content\"><pre>Pipeline(steps=[(&#x27;scale&#x27;, StandardScaler()),\n",
       "                (&#x27;model&#x27;, RandomForestClassifier(n_jobs=-1))])</pre></div></div></div><div class=\"sk-serial\"><div class=\"sk-item\"><div class=\"sk-estimator sk-toggleable\"><input class=\"sk-toggleable__control sk-hidden--visually\" id=\"sk-estimator-id-2\" type=\"checkbox\" ><label for=\"sk-estimator-id-2\" class=\"sk-toggleable__label sk-toggleable__label-arrow\">StandardScaler</label><div class=\"sk-toggleable__content\"><pre>StandardScaler()</pre></div></div></div><div class=\"sk-item\"><div class=\"sk-estimator sk-toggleable\"><input class=\"sk-toggleable__control sk-hidden--visually\" id=\"sk-estimator-id-3\" type=\"checkbox\" ><label for=\"sk-estimator-id-3\" class=\"sk-toggleable__label sk-toggleable__label-arrow\">RandomForestClassifier</label><div class=\"sk-toggleable__content\"><pre>RandomForestClassifier(n_jobs=-1)</pre></div></div></div></div></div></div></div>"
      ],
      "text/plain": [
       "Pipeline(steps=[('scale', StandardScaler()),\n",
       "                ('model', RandomForestClassifier(n_jobs=-1))])"
      ]
     },
     "execution_count": 36,
     "metadata": {},
     "output_type": "execute_result"
    }
   ],
   "source": [
    "model.fit(X_train, y_train.values.ravel())"
   ]
  },
  {
   "cell_type": "code",
   "execution_count": 37,
   "id": "af59f8c0",
   "metadata": {
    "execution": {
     "iopub.execute_input": "2025-07-28T10:57:09.077975Z",
     "iopub.status.busy": "2025-07-28T10:57:09.077021Z",
     "iopub.status.idle": "2025-07-28T10:57:09.083306Z",
     "shell.execute_reply": "2025-07-28T10:57:09.082399Z"
    },
    "papermill": {
     "duration": 0.041055,
     "end_time": "2025-07-28T10:57:09.085039",
     "exception": false,
     "start_time": "2025-07-28T10:57:09.043984",
     "status": "completed"
    },
    "tags": []
   },
   "outputs": [],
   "source": [
    "from fairness_multiverse.universe import predict_w_threshold"
   ]
  },
  {
   "cell_type": "code",
   "execution_count": 38,
   "id": "a7cf2e16",
   "metadata": {
    "execution": {
     "iopub.execute_input": "2025-07-28T10:57:09.131141Z",
     "iopub.status.busy": "2025-07-28T10:57:09.130441Z",
     "iopub.status.idle": "2025-07-28T10:57:10.500339Z",
     "shell.execute_reply": "2025-07-28T10:57:10.499405Z"
    },
    "papermill": {
     "duration": 1.39424,
     "end_time": "2025-07-28T10:57:10.501624",
     "exception": false,
     "start_time": "2025-07-28T10:57:09.107384",
     "status": "completed"
    },
    "tags": []
   },
   "outputs": [
    {
     "data": {
      "text/plain": [
       "0.8655779734700703"
      ]
     },
     "execution_count": 38,
     "metadata": {},
     "output_type": "execute_result"
    }
   ],
   "source": [
    "probs_test = model.predict_proba(X_test)\n",
    "\n",
    "'''\n",
    "Below code returns a boolean array (or binary 0/1 array depending on how it’s used) where each element \n",
    "is True if the probability of class 1 is greater than or equal to the threshold, and False otherwise.\n",
    "'''\n",
    "y_pred_default = predict_w_threshold(probs_test, 0.5)\n",
    "\n",
    "from sklearn.metrics import accuracy_score\n",
    "\n",
    "# Naive prediction\n",
    "accuracy_score(y_true = y_true, y_pred = y_pred_default)"
   ]
  },
  {
   "cell_type": "code",
   "execution_count": 39,
   "id": "081964c3",
   "metadata": {
    "execution": {
     "iopub.execute_input": "2025-07-28T10:57:10.531889Z",
     "iopub.status.busy": "2025-07-28T10:57:10.531437Z",
     "iopub.status.idle": "2025-07-28T10:57:12.041811Z",
     "shell.execute_reply": "2025-07-28T10:57:12.040780Z"
    },
    "papermill": {
     "duration": 1.528445,
     "end_time": "2025-07-28T10:57:12.043484",
     "exception": false,
     "start_time": "2025-07-28T10:57:10.515039",
     "status": "completed"
    },
    "tags": []
   },
   "outputs": [
    {
     "data": {
      "text/plain": [
       "array([0, 0, 0, ..., 0, 0, 0])"
      ]
     },
     "execution_count": 39,
     "metadata": {},
     "output_type": "execute_result"
    }
   ],
   "source": [
    "model.predict(X_test)"
   ]
  },
  {
   "cell_type": "markdown",
   "id": "56c9705b",
   "metadata": {
    "papermill": {
     "duration": 0.024184,
     "end_time": "2025-07-28T10:57:12.093920",
     "exception": false,
     "start_time": "2025-07-28T10:57:12.069736",
     "status": "completed"
    },
    "tags": []
   },
   "source": [
    "# Conformal Prediction"
   ]
  },
  {
   "cell_type": "code",
   "execution_count": 40,
   "id": "160ec6ff",
   "metadata": {
    "execution": {
     "iopub.execute_input": "2025-07-28T10:57:12.145286Z",
     "iopub.status.busy": "2025-07-28T10:57:12.144667Z",
     "iopub.status.idle": "2025-07-28T10:57:12.150333Z",
     "shell.execute_reply": "2025-07-28T10:57:12.149291Z"
    },
    "papermill": {
     "duration": 0.03398,
     "end_time": "2025-07-28T10:57:12.152217",
     "exception": false,
     "start_time": "2025-07-28T10:57:12.118237",
     "status": "completed"
    },
    "tags": []
   },
   "outputs": [],
   "source": [
    "# Miscoverage level for conformal prediction (10% allowed error rate => 90% target coverage)\n",
    "alpha = 0.1"
   ]
  },
  {
   "cell_type": "code",
   "execution_count": 41,
   "id": "eadf4555-3dd3-440e-8e35-f82a4ad9f855",
   "metadata": {
    "execution": {
     "iopub.execute_input": "2025-07-28T10:57:12.204486Z",
     "iopub.status.busy": "2025-07-28T10:57:12.203751Z",
     "iopub.status.idle": "2025-07-28T10:57:13.600555Z",
     "shell.execute_reply": "2025-07-28T10:57:13.599305Z"
    },
    "papermill": {
     "duration": 1.424746,
     "end_time": "2025-07-28T10:57:13.602678",
     "exception": false,
     "start_time": "2025-07-28T10:57:12.177932",
     "status": "completed"
    },
    "tags": []
   },
   "outputs": [],
   "source": [
    "probs_calib = model.predict_proba(X_calib)"
   ]
  },
  {
   "cell_type": "code",
   "execution_count": 42,
   "id": "2ed93547-6d5d-4983-9b36-1ecb300da49a",
   "metadata": {
    "execution": {
     "iopub.execute_input": "2025-07-28T10:57:13.653913Z",
     "iopub.status.busy": "2025-07-28T10:57:13.653398Z",
     "iopub.status.idle": "2025-07-28T10:57:13.659648Z",
     "shell.execute_reply": "2025-07-28T10:57:13.658755Z"
    },
    "papermill": {
     "duration": 0.03356,
     "end_time": "2025-07-28T10:57:13.661079",
     "exception": false,
     "start_time": "2025-07-28T10:57:13.627519",
     "status": "completed"
    },
    "tags": []
   },
   "outputs": [],
   "source": [
    "y_calib = y_calib.values.ravel().astype(int)"
   ]
  },
  {
   "cell_type": "code",
   "execution_count": 43,
   "id": "65d1320d-f588-4b38-9072-62af1ae97f7d",
   "metadata": {
    "execution": {
     "iopub.execute_input": "2025-07-28T10:57:13.710115Z",
     "iopub.status.busy": "2025-07-28T10:57:13.709650Z",
     "iopub.status.idle": "2025-07-28T10:57:13.717404Z",
     "shell.execute_reply": "2025-07-28T10:57:13.716491Z"
    },
    "papermill": {
     "duration": 0.034433,
     "end_time": "2025-07-28T10:57:13.719104",
     "exception": false,
     "start_time": "2025-07-28T10:57:13.684671",
     "status": "completed"
    },
    "tags": []
   },
   "outputs": [],
   "source": [
    "from fairness_multiverse.conformal import compute_nc_scores\n",
    "\n",
    "# Compute nonconformity scores on calibration set (1 - probability of true class)\n",
    "nc_scores = compute_nc_scores(probs_calib, y_calib)"
   ]
  },
  {
   "cell_type": "code",
   "execution_count": 44,
   "id": "df3b8ca3-53b7-43d5-9667-7c85da7aeda2",
   "metadata": {
    "execution": {
     "iopub.execute_input": "2025-07-28T10:57:13.769645Z",
     "iopub.status.busy": "2025-07-28T10:57:13.769184Z",
     "iopub.status.idle": "2025-07-28T10:57:13.776590Z",
     "shell.execute_reply": "2025-07-28T10:57:13.775553Z"
    },
    "papermill": {
     "duration": 0.034224,
     "end_time": "2025-07-28T10:57:13.778303",
     "exception": false,
     "start_time": "2025-07-28T10:57:13.744079",
     "status": "completed"
    },
    "tags": []
   },
   "outputs": [],
   "source": [
    "from fairness_multiverse.conformal import find_threshold\n",
    "\n",
    "# Find conformal threshold q_hat for the given alpha (split conformal method)\n",
    "q_hat = find_threshold(nc_scores, alpha)"
   ]
  },
  {
   "cell_type": "code",
   "execution_count": 45,
   "id": "4d29e6c1-0ef6-4aa4-b8fe-4fe79b0d033a",
   "metadata": {
    "execution": {
     "iopub.execute_input": "2025-07-28T10:57:13.827946Z",
     "iopub.status.busy": "2025-07-28T10:57:13.827567Z",
     "iopub.status.idle": "2025-07-28T10:57:13.833792Z",
     "shell.execute_reply": "2025-07-28T10:57:13.833049Z"
    },
    "papermill": {
     "duration": 0.032392,
     "end_time": "2025-07-28T10:57:13.835087",
     "exception": false,
     "start_time": "2025-07-28T10:57:13.802695",
     "status": "completed"
    },
    "tags": []
   },
   "outputs": [
    {
     "data": {
      "text/plain": [
       "0.6599999999999999"
      ]
     },
     "execution_count": 45,
     "metadata": {},
     "output_type": "execute_result"
    }
   ],
   "source": [
    "q_hat"
   ]
  },
  {
   "cell_type": "code",
   "execution_count": 46,
   "id": "92460794-cdac-4be2-ba28-f28c0515a6fb",
   "metadata": {
    "execution": {
     "iopub.execute_input": "2025-07-28T10:57:13.862666Z",
     "iopub.status.busy": "2025-07-28T10:57:13.862289Z",
     "iopub.status.idle": "2025-07-28T10:57:17.130640Z",
     "shell.execute_reply": "2025-07-28T10:57:17.129481Z"
    },
    "papermill": {
     "duration": 3.283955,
     "end_time": "2025-07-28T10:57:17.132691",
     "exception": false,
     "start_time": "2025-07-28T10:57:13.848736",
     "status": "completed"
    },
    "tags": []
   },
   "outputs": [],
   "source": [
    "from fairness_multiverse.conformal import predict_conformal_sets\n",
    "\n",
    "# Generate prediction sets for each test example\n",
    "pred_sets = predict_conformal_sets(model, X_test, q_hat)"
   ]
  },
  {
   "cell_type": "code",
   "execution_count": 47,
   "id": "d90c9a65-e6db-4f5d-80cd-e68fb7e46829",
   "metadata": {
    "execution": {
     "iopub.execute_input": "2025-07-28T10:57:17.251215Z",
     "iopub.status.busy": "2025-07-28T10:57:17.250708Z",
     "iopub.status.idle": "2025-07-28T10:57:17.262881Z",
     "shell.execute_reply": "2025-07-28T10:57:17.261983Z"
    },
    "papermill": {
     "duration": 0.078225,
     "end_time": "2025-07-28T10:57:17.264871",
     "exception": false,
     "start_time": "2025-07-28T10:57:17.186646",
     "status": "completed"
    },
    "tags": []
   },
   "outputs": [],
   "source": [
    "y_true = y_true.squeeze()"
   ]
  },
  {
   "cell_type": "code",
   "execution_count": 48,
   "id": "3a58a54a-1e68-46b9-927a-df01f18aebc8",
   "metadata": {
    "execution": {
     "iopub.execute_input": "2025-07-28T10:57:17.398595Z",
     "iopub.status.busy": "2025-07-28T10:57:17.398168Z",
     "iopub.status.idle": "2025-07-28T10:57:18.834609Z",
     "shell.execute_reply": "2025-07-28T10:57:18.833329Z"
    },
    "papermill": {
     "duration": 1.50435,
     "end_time": "2025-07-28T10:57:18.836942",
     "exception": false,
     "start_time": "2025-07-28T10:57:17.332592",
     "status": "completed"
    },
    "tags": []
   },
   "outputs": [],
   "source": [
    "from fairness_multiverse.conformal import evaluate_sets\n",
    "\n",
    "# Evaluate coverage and average set size on test data\n",
    "metrics = evaluate_sets(pred_sets, y_true)"
   ]
  },
  {
   "cell_type": "markdown",
   "id": "2b569c12-9aaa-4c88-98c9-bbcd0cf3ebb8",
   "metadata": {
    "papermill": {
     "duration": 0.052233,
     "end_time": "2025-07-28T10:57:18.940875",
     "exception": false,
     "start_time": "2025-07-28T10:57:18.888642",
     "status": "completed"
    },
    "tags": []
   },
   "source": [
    "# CP Metrics"
   ]
  },
  {
   "cell_type": "code",
   "execution_count": 49,
   "id": "5ce0a5cb-201f-45a0-ade5-94c7f0bd6095",
   "metadata": {
    "execution": {
     "iopub.execute_input": "2025-07-28T10:57:19.039272Z",
     "iopub.status.busy": "2025-07-28T10:57:19.038180Z",
     "iopub.status.idle": "2025-07-28T10:57:19.049686Z",
     "shell.execute_reply": "2025-07-28T10:57:19.048689Z"
    },
    "papermill": {
     "duration": 0.059213,
     "end_time": "2025-07-28T10:57:19.051549",
     "exception": false,
     "start_time": "2025-07-28T10:57:18.992336",
     "status": "completed"
    },
    "tags": []
   },
   "outputs": [
    {
     "data": {
      "text/plain": [
       "{'coverage': 0.9167316910043474, 'avg_size': 1.1432950618660127}"
      ]
     },
     "execution_count": 49,
     "metadata": {},
     "output_type": "execute_result"
    }
   ],
   "source": [
    "metrics"
   ]
  },
  {
   "cell_type": "code",
   "execution_count": 50,
   "id": "9b9a838d-31c9-430b-ae14-12baee460d17",
   "metadata": {
    "execution": {
     "iopub.execute_input": "2025-07-28T10:57:19.191211Z",
     "iopub.status.busy": "2025-07-28T10:57:19.190738Z",
     "iopub.status.idle": "2025-07-28T10:57:19.197598Z",
     "shell.execute_reply": "2025-07-28T10:57:19.196543Z"
    },
    "papermill": {
     "duration": 0.066671,
     "end_time": "2025-07-28T10:57:19.199297",
     "exception": false,
     "start_time": "2025-07-28T10:57:19.132626",
     "status": "completed"
    },
    "tags": []
   },
   "outputs": [],
   "source": [
    "example_universe = universe.copy()\n",
    "universe_training_size = example_universe.get(\"training_size\")\n",
    "universe_scale = example_universe.get(\"scale\")\n",
    "universe_model = example_universe.get(\"model\")\n",
    "universe_exclude_features = example_universe.get(\"exclude_features\")\n",
    "universe_exclude_subgroups = example_universe.get(\"exclude_subgroups\")"
   ]
  },
  {
   "cell_type": "code",
   "execution_count": 51,
   "id": "f4b6a8ac-9dc0-4245-8a91-5b3b5999c4f9",
   "metadata": {
    "execution": {
     "iopub.execute_input": "2025-07-28T10:57:19.302849Z",
     "iopub.status.busy": "2025-07-28T10:57:19.302356Z",
     "iopub.status.idle": "2025-07-28T10:57:19.309588Z",
     "shell.execute_reply": "2025-07-28T10:57:19.308602Z"
    },
    "papermill": {
     "duration": 0.065666,
     "end_time": "2025-07-28T10:57:19.311375",
     "exception": false,
     "start_time": "2025-07-28T10:57:19.245709",
     "status": "completed"
    },
    "tags": []
   },
   "outputs": [],
   "source": [
    "cp_metrics_dict = {\n",
    "    \"universe_id\": [universe_id],\n",
    "    \"universe_training_size\": [universe_training_size],\n",
    "    \"universe_scale\": [universe_scale],\n",
    "    \"universe_model\": [universe_model],\n",
    "    \"universe_exclude_features\": [universe_exclude_features],\n",
    "    \"universe_exclude_subgroups\": [universe_exclude_subgroups],\n",
    "    \"q_hat\": [q_hat],\n",
    "    \"coverage\": [metrics[\"coverage\"]],\n",
    "    \"avg_size\": [metrics[\"avg_size\"]],\n",
    "}"
   ]
  },
  {
   "cell_type": "code",
   "execution_count": 52,
   "id": "908acbb1-0371-4915-85ca-3fa520d2efe2",
   "metadata": {
    "execution": {
     "iopub.execute_input": "2025-07-28T10:57:19.423136Z",
     "iopub.status.busy": "2025-07-28T10:57:19.422664Z",
     "iopub.status.idle": "2025-07-28T10:57:19.430843Z",
     "shell.execute_reply": "2025-07-28T10:57:19.429744Z"
    },
    "papermill": {
     "duration": 0.063924,
     "end_time": "2025-07-28T10:57:19.432590",
     "exception": false,
     "start_time": "2025-07-28T10:57:19.368666",
     "status": "completed"
    },
    "tags": []
   },
   "outputs": [
    {
     "data": {
      "text/plain": [
       "{'universe_id': ['099b7e45b729e2316780041d4c336730'],\n",
       " 'universe_training_size': ['2014'],\n",
       " 'universe_scale': ['scale'],\n",
       " 'universe_model': ['rf'],\n",
       " 'universe_exclude_features': ['nationality-sex'],\n",
       " 'universe_exclude_subgroups': ['keep-all'],\n",
       " 'q_hat': [0.6599999999999999],\n",
       " 'coverage': [0.9167316910043474],\n",
       " 'avg_size': [1.1432950618660127]}"
      ]
     },
     "execution_count": 52,
     "metadata": {},
     "output_type": "execute_result"
    }
   ],
   "source": [
    "cp_metrics_dict"
   ]
  },
  {
   "cell_type": "code",
   "execution_count": 53,
   "id": "33007efc-14e9-4ec6-97ac-56a455c82265",
   "metadata": {
    "execution": {
     "iopub.execute_input": "2025-07-28T10:57:19.538864Z",
     "iopub.status.busy": "2025-07-28T10:57:19.538409Z",
     "iopub.status.idle": "2025-07-28T10:57:19.545625Z",
     "shell.execute_reply": "2025-07-28T10:57:19.544658Z"
    },
    "papermill": {
     "duration": 0.058478,
     "end_time": "2025-07-28T10:57:19.547146",
     "exception": false,
     "start_time": "2025-07-28T10:57:19.488668",
     "status": "completed"
    },
    "tags": []
   },
   "outputs": [],
   "source": [
    "cp_metrics_df = pd.DataFrame(cp_metrics_dict)"
   ]
  },
  {
   "cell_type": "code",
   "execution_count": 54,
   "id": "db12611b-57b2-4910-b9d0-355adfd6e7bf",
   "metadata": {
    "execution": {
     "iopub.execute_input": "2025-07-28T10:57:19.647325Z",
     "iopub.status.busy": "2025-07-28T10:57:19.646832Z",
     "iopub.status.idle": "2025-07-28T10:57:19.690389Z",
     "shell.execute_reply": "2025-07-28T10:57:19.689407Z"
    },
    "papermill": {
     "duration": 0.092198,
     "end_time": "2025-07-28T10:57:19.692780",
     "exception": false,
     "start_time": "2025-07-28T10:57:19.600582",
     "status": "completed"
    },
    "tags": []
   },
   "outputs": [
    {
     "data": {
      "text/html": [
       "<div>\n",
       "<style scoped>\n",
       "    .dataframe tbody tr th:only-of-type {\n",
       "        vertical-align: middle;\n",
       "    }\n",
       "\n",
       "    .dataframe tbody tr th {\n",
       "        vertical-align: top;\n",
       "    }\n",
       "\n",
       "    .dataframe thead th {\n",
       "        text-align: right;\n",
       "    }\n",
       "</style>\n",
       "<table border=\"1\" class=\"dataframe\">\n",
       "  <thead>\n",
       "    <tr style=\"text-align: right;\">\n",
       "      <th></th>\n",
       "      <th>universe_id</th>\n",
       "      <th>universe_training_size</th>\n",
       "      <th>universe_scale</th>\n",
       "      <th>universe_model</th>\n",
       "      <th>universe_exclude_features</th>\n",
       "      <th>universe_exclude_subgroups</th>\n",
       "      <th>q_hat</th>\n",
       "      <th>coverage</th>\n",
       "      <th>avg_size</th>\n",
       "    </tr>\n",
       "  </thead>\n",
       "  <tbody>\n",
       "    <tr>\n",
       "      <th>0</th>\n",
       "      <td>099b7e45b729e2316780041d4c336730</td>\n",
       "      <td>2014</td>\n",
       "      <td>scale</td>\n",
       "      <td>rf</td>\n",
       "      <td>nationality-sex</td>\n",
       "      <td>keep-all</td>\n",
       "      <td>0.66</td>\n",
       "      <td>0.916732</td>\n",
       "      <td>1.143295</td>\n",
       "    </tr>\n",
       "  </tbody>\n",
       "</table>\n",
       "</div>"
      ],
      "text/plain": [
       "                        universe_id universe_training_size universe_scale  \\\n",
       "0  099b7e45b729e2316780041d4c336730                   2014          scale   \n",
       "\n",
       "  universe_model universe_exclude_features universe_exclude_subgroups  q_hat  \\\n",
       "0             rf           nationality-sex                   keep-all   0.66   \n",
       "\n",
       "   coverage  avg_size  \n",
       "0  0.916732  1.143295  "
      ]
     },
     "execution_count": 54,
     "metadata": {},
     "output_type": "execute_result"
    }
   ],
   "source": [
    "cp_metrics_df"
   ]
  },
  {
   "cell_type": "code",
   "execution_count": 55,
   "id": "b7fbde55-a0a1-47e4-9af6-fe4a17fa8c61",
   "metadata": {
    "execution": {
     "iopub.execute_input": "2025-07-28T10:57:19.797120Z",
     "iopub.status.busy": "2025-07-28T10:57:19.796661Z",
     "iopub.status.idle": "2025-07-28T10:57:19.802431Z",
     "shell.execute_reply": "2025-07-28T10:57:19.801475Z"
    },
    "papermill": {
     "duration": 0.060273,
     "end_time": "2025-07-28T10:57:19.804509",
     "exception": false,
     "start_time": "2025-07-28T10:57:19.744236",
     "status": "completed"
    },
    "tags": []
   },
   "outputs": [],
   "source": [
    "# Conditional Coverage & looking at subgroups"
   ]
  },
  {
   "cell_type": "code",
   "execution_count": 56,
   "id": "027ae886-68dd-4141-96c7-805a5450e1ef",
   "metadata": {
    "execution": {
     "iopub.execute_input": "2025-07-28T10:57:19.967192Z",
     "iopub.status.busy": "2025-07-28T10:57:19.966755Z",
     "iopub.status.idle": "2025-07-28T10:57:20.726785Z",
     "shell.execute_reply": "2025-07-28T10:57:20.725616Z"
    },
    "papermill": {
     "duration": 0.853044,
     "end_time": "2025-07-28T10:57:20.728817",
     "exception": false,
     "start_time": "2025-07-28T10:57:19.875773",
     "status": "completed"
    },
    "tags": []
   },
   "outputs": [],
   "source": [
    "from fairness_multiverse.conformal import build_cp_groups\n",
    "\n",
    "cp_groups_df = build_cp_groups(pred_sets, y_true, X_test.index, org_test)\n",
    "#needs universe_id and setting"
   ]
  },
  {
   "cell_type": "code",
   "execution_count": 57,
   "id": "01d5802c-663a-4d1f-9d69-e036faaffbf7",
   "metadata": {
    "execution": {
     "iopub.execute_input": "2025-07-28T10:57:20.847831Z",
     "iopub.status.busy": "2025-07-28T10:57:20.847325Z",
     "iopub.status.idle": "2025-07-28T10:57:20.853675Z",
     "shell.execute_reply": "2025-07-28T10:57:20.852443Z"
    },
    "papermill": {
     "duration": 0.060229,
     "end_time": "2025-07-28T10:57:20.855672",
     "exception": false,
     "start_time": "2025-07-28T10:57:20.795443",
     "status": "completed"
    },
    "tags": []
   },
   "outputs": [],
   "source": [
    "#delete\n",
    "#cp_groups_df"
   ]
  },
  {
   "cell_type": "code",
   "execution_count": 58,
   "id": "fa424af1-d1eb-443d-b717-2d279ada8408",
   "metadata": {
    "execution": {
     "iopub.execute_input": "2025-07-28T10:57:20.970673Z",
     "iopub.status.busy": "2025-07-28T10:57:20.970239Z",
     "iopub.status.idle": "2025-07-28T10:57:20.975595Z",
     "shell.execute_reply": "2025-07-28T10:57:20.974678Z"
    },
    "papermill": {
     "duration": 0.061002,
     "end_time": "2025-07-28T10:57:20.977368",
     "exception": false,
     "start_time": "2025-07-28T10:57:20.916366",
     "status": "completed"
    },
    "tags": []
   },
   "outputs": [],
   "source": [
    "#delete\n",
    "#percentage = (cp_groups_df['nongerman_female'] == 1).mean() * 100\n",
    "#print(percentage)\n"
   ]
  },
  {
   "cell_type": "code",
   "execution_count": 59,
   "id": "6cbdab96-b2b2-45af-ad54-d0516db2e28d",
   "metadata": {
    "execution": {
     "iopub.execute_input": "2025-07-28T10:57:21.083932Z",
     "iopub.status.busy": "2025-07-28T10:57:21.083465Z",
     "iopub.status.idle": "2025-07-28T10:57:26.285563Z",
     "shell.execute_reply": "2025-07-28T10:57:26.284124Z"
    },
    "papermill": {
     "duration": 5.253935,
     "end_time": "2025-07-28T10:57:26.287655",
     "exception": false,
     "start_time": "2025-07-28T10:57:21.033720",
     "status": "completed"
    },
    "tags": []
   },
   "outputs": [],
   "source": [
    "# Define covered = 1 if true_label is in the predicted set\n",
    "cp_groups_df['covered'] = cp_groups_df.apply(\n",
    "    lambda r: int(r['true_label'] in r['pred_set']),\n",
    "    axis=1\n",
    ")"
   ]
  },
  {
   "cell_type": "code",
   "execution_count": 60,
   "id": "338ff529-1a6b-4b87-a931-8e4788d52aad",
   "metadata": {
    "execution": {
     "iopub.execute_input": "2025-07-28T10:57:26.430897Z",
     "iopub.status.busy": "2025-07-28T10:57:26.429869Z",
     "iopub.status.idle": "2025-07-28T10:57:26.435902Z",
     "shell.execute_reply": "2025-07-28T10:57:26.434904Z"
    },
    "papermill": {
     "duration": 0.081645,
     "end_time": "2025-07-28T10:57:26.437815",
     "exception": false,
     "start_time": "2025-07-28T10:57:26.356170",
     "status": "completed"
    },
    "tags": []
   },
   "outputs": [],
   "source": [
    "#cp_groups_df"
   ]
  },
  {
   "cell_type": "code",
   "execution_count": 61,
   "id": "90032e27-66df-4540-9169-4e89cfbaa758",
   "metadata": {
    "execution": {
     "iopub.execute_input": "2025-07-28T10:57:26.674776Z",
     "iopub.status.busy": "2025-07-28T10:57:26.674334Z",
     "iopub.status.idle": "2025-07-28T10:57:26.688428Z",
     "shell.execute_reply": "2025-07-28T10:57:26.687309Z"
    },
    "papermill": {
     "duration": 0.134263,
     "end_time": "2025-07-28T10:57:26.690416",
     "exception": false,
     "start_time": "2025-07-28T10:57:26.556153",
     "status": "completed"
    },
    "tags": []
   },
   "outputs": [],
   "source": [
    "subgroups = ['frau1','nongerman','nongerman_male','nongerman_female']\n",
    "\n",
    "# Conditional coverage for subgroup==1\n",
    "cond_coverage = {\n",
    "    g: cp_groups_df.loc[cp_groups_df[g]==1, 'covered'].mean()\n",
    "    for g in subgroups\n",
    "}"
   ]
  },
  {
   "cell_type": "code",
   "execution_count": 62,
   "id": "1e348fb1-b9c3-45bc-ba23-f016827a7e0d",
   "metadata": {
    "execution": {
     "iopub.execute_input": "2025-07-28T10:57:26.938194Z",
     "iopub.status.busy": "2025-07-28T10:57:26.937724Z",
     "iopub.status.idle": "2025-07-28T10:57:26.946149Z",
     "shell.execute_reply": "2025-07-28T10:57:26.945019Z"
    },
    "papermill": {
     "duration": 0.128662,
     "end_time": "2025-07-28T10:57:26.948842",
     "exception": false,
     "start_time": "2025-07-28T10:57:26.820180",
     "status": "completed"
    },
    "tags": []
   },
   "outputs": [
    {
     "data": {
      "text/plain": [
       "{'frau1': 0.9169429842296806,\n",
       " 'nongerman': 0.9143322292707573,\n",
       " 'nongerman_male': 0.9274970728631902,\n",
       " 'nongerman_female': 0.892548435171386}"
      ]
     },
     "execution_count": 62,
     "metadata": {},
     "output_type": "execute_result"
    }
   ],
   "source": [
    "cond_coverage"
   ]
  },
  {
   "cell_type": "code",
   "execution_count": 63,
   "id": "f5093324-c3dd-4d63-bc4c-8d945e5c8bbb",
   "metadata": {
    "execution": {
     "iopub.execute_input": "2025-07-28T10:57:27.178300Z",
     "iopub.status.busy": "2025-07-28T10:57:27.177804Z",
     "iopub.status.idle": "2025-07-28T10:57:27.186186Z",
     "shell.execute_reply": "2025-07-28T10:57:27.184922Z"
    },
    "papermill": {
     "duration": 0.119813,
     "end_time": "2025-07-28T10:57:27.187972",
     "exception": false,
     "start_time": "2025-07-28T10:57:27.068159",
     "status": "completed"
    },
    "tags": []
   },
   "outputs": [],
   "source": [
    "for subgroup, cov in cond_coverage.items():\n",
    "    cp_metrics_df[f\"cov_{subgroup}\"] = cov"
   ]
  },
  {
   "cell_type": "code",
   "execution_count": 64,
   "id": "6e872e10-dbe5-49e8-b554-5030c98ff75d",
   "metadata": {
    "execution": {
     "iopub.execute_input": "2025-07-28T10:57:27.430476Z",
     "iopub.status.busy": "2025-07-28T10:57:27.429966Z",
     "iopub.status.idle": "2025-07-28T10:57:27.462021Z",
     "shell.execute_reply": "2025-07-28T10:57:27.460999Z"
    },
    "papermill": {
     "duration": 0.147572,
     "end_time": "2025-07-28T10:57:27.463756",
     "exception": false,
     "start_time": "2025-07-28T10:57:27.316184",
     "status": "completed"
    },
    "tags": []
   },
   "outputs": [
    {
     "data": {
      "text/html": [
       "<div>\n",
       "<style scoped>\n",
       "    .dataframe tbody tr th:only-of-type {\n",
       "        vertical-align: middle;\n",
       "    }\n",
       "\n",
       "    .dataframe tbody tr th {\n",
       "        vertical-align: top;\n",
       "    }\n",
       "\n",
       "    .dataframe thead th {\n",
       "        text-align: right;\n",
       "    }\n",
       "</style>\n",
       "<table border=\"1\" class=\"dataframe\">\n",
       "  <thead>\n",
       "    <tr style=\"text-align: right;\">\n",
       "      <th></th>\n",
       "      <th>universe_id</th>\n",
       "      <th>universe_training_size</th>\n",
       "      <th>universe_scale</th>\n",
       "      <th>universe_model</th>\n",
       "      <th>universe_exclude_features</th>\n",
       "      <th>universe_exclude_subgroups</th>\n",
       "      <th>q_hat</th>\n",
       "      <th>coverage</th>\n",
       "      <th>avg_size</th>\n",
       "      <th>cov_frau1</th>\n",
       "      <th>cov_nongerman</th>\n",
       "      <th>cov_nongerman_male</th>\n",
       "      <th>cov_nongerman_female</th>\n",
       "    </tr>\n",
       "  </thead>\n",
       "  <tbody>\n",
       "    <tr>\n",
       "      <th>0</th>\n",
       "      <td>099b7e45b729e2316780041d4c336730</td>\n",
       "      <td>2014</td>\n",
       "      <td>scale</td>\n",
       "      <td>rf</td>\n",
       "      <td>nationality-sex</td>\n",
       "      <td>keep-all</td>\n",
       "      <td>0.66</td>\n",
       "      <td>0.916732</td>\n",
       "      <td>1.143295</td>\n",
       "      <td>0.916943</td>\n",
       "      <td>0.914332</td>\n",
       "      <td>0.927497</td>\n",
       "      <td>0.892548</td>\n",
       "    </tr>\n",
       "  </tbody>\n",
       "</table>\n",
       "</div>"
      ],
      "text/plain": [
       "                        universe_id universe_training_size universe_scale  \\\n",
       "0  099b7e45b729e2316780041d4c336730                   2014          scale   \n",
       "\n",
       "  universe_model universe_exclude_features universe_exclude_subgroups  q_hat  \\\n",
       "0             rf           nationality-sex                   keep-all   0.66   \n",
       "\n",
       "   coverage  avg_size  cov_frau1  cov_nongerman  cov_nongerman_male  \\\n",
       "0  0.916732  1.143295   0.916943       0.914332            0.927497   \n",
       "\n",
       "   cov_nongerman_female  \n",
       "0              0.892548  "
      ]
     },
     "execution_count": 64,
     "metadata": {},
     "output_type": "execute_result"
    }
   ],
   "source": [
    "cp_metrics_df"
   ]
  },
  {
   "cell_type": "markdown",
   "id": "33774451",
   "metadata": {
    "papermill": {
     "duration": 0.120036,
     "end_time": "2025-07-28T10:57:27.684347",
     "exception": false,
     "start_time": "2025-07-28T10:57:27.564311",
     "status": "completed"
    },
    "tags": []
   },
   "source": [
    "# (Fairness) Metrics"
   ]
  },
  {
   "cell_type": "code",
   "execution_count": 65,
   "id": "debc5d62",
   "metadata": {
    "execution": {
     "iopub.execute_input": "2025-07-28T10:57:27.918093Z",
     "iopub.status.busy": "2025-07-28T10:57:27.917663Z",
     "iopub.status.idle": "2025-07-28T10:57:27.976990Z",
     "shell.execute_reply": "2025-07-28T10:57:27.975929Z"
    },
    "papermill": {
     "duration": 0.18279,
     "end_time": "2025-07-28T10:57:27.978958",
     "exception": false,
     "start_time": "2025-07-28T10:57:27.796168",
     "status": "completed"
    },
    "tags": []
   },
   "outputs": [],
   "source": [
    "# do I need to include maxdeutsch1.missing?\n",
    "\n",
    "import numpy as np\n",
    "\n",
    "colname_to_bin = \"maxdeutsch1\"\n",
    "majority_value = org_train[colname_to_bin].mode()[0]\n",
    "\n",
    "org_test[\"majmin\"] = np.where(org_test[colname_to_bin] == majority_value, \"majority\", \"minority\")"
   ]
  },
  {
   "cell_type": "code",
   "execution_count": 66,
   "id": "06a50de5",
   "metadata": {
    "execution": {
     "iopub.execute_input": "2025-07-28T10:57:28.183411Z",
     "iopub.status.busy": "2025-07-28T10:57:28.182968Z",
     "iopub.status.idle": "2025-07-28T10:57:38.288858Z",
     "shell.execute_reply": "2025-07-28T10:57:38.287694Z"
    },
    "papermill": {
     "duration": 10.210718,
     "end_time": "2025-07-28T10:57:38.291078",
     "exception": false,
     "start_time": "2025-07-28T10:57:28.080360",
     "status": "completed"
    },
    "tags": []
   },
   "outputs": [],
   "source": [
    "example_universe = universe.copy()\n",
    "example_universe[\"cutoff\"] = example_universe[\"cutoff\"][0]\n",
    "example_universe[\"eval_fairness_grouping\"] = example_universe[\"eval_fairness_grouping\"][0]\n",
    "fairness_dict, metric_frame = universe_analysis.compute_metrics(\n",
    "    example_universe,\n",
    "    y_pred_prob=probs_test,\n",
    "    y_test=y_true,\n",
    "    org_test=org_test,\n",
    ")"
   ]
  },
  {
   "cell_type": "markdown",
   "id": "f95d4e02",
   "metadata": {
    "papermill": {
     "duration": 0.084131,
     "end_time": "2025-07-28T10:57:38.464529",
     "exception": false,
     "start_time": "2025-07-28T10:57:38.380398",
     "status": "completed"
    },
    "tags": []
   },
   "source": [
    "# Overall"
   ]
  },
  {
   "cell_type": "markdown",
   "id": "bdee4871",
   "metadata": {
    "papermill": {
     "duration": 0.08417,
     "end_time": "2025-07-28T10:57:38.632854",
     "exception": false,
     "start_time": "2025-07-28T10:57:38.548684",
     "status": "completed"
    },
    "tags": []
   },
   "source": [
    "Fairness\n",
    "Main fairness target: Equalized Odds. Seems to be a better fit than equal opportunity, since we're not only interested in Y = 1. Seems to be a better fit than demographic parity, since we also care about accuracy, not just equal distribution of preds.\n",
    "\n",
    "Pick column for computation of fairness metrics\n",
    "\n",
    "Performance\n",
    "Overall performance measures, most interesting in relation to the measures split by group below"
   ]
  },
  {
   "cell_type": "code",
   "execution_count": 67,
   "id": "c4e067c6",
   "metadata": {
    "execution": {
     "iopub.execute_input": "2025-07-28T10:57:38.803709Z",
     "iopub.status.busy": "2025-07-28T10:57:38.802566Z",
     "iopub.status.idle": "2025-07-28T10:57:38.813941Z",
     "shell.execute_reply": "2025-07-28T10:57:38.812896Z"
    },
    "papermill": {
     "duration": 0.093133,
     "end_time": "2025-07-28T10:57:38.817426",
     "exception": false,
     "start_time": "2025-07-28T10:57:38.724293",
     "status": "completed"
    },
    "tags": []
   },
   "outputs": [
    {
     "data": {
      "text/plain": [
       "accuracy                   0.210211\n",
       "balanced accuracy          0.537248\n",
       "f1                         0.240942\n",
       "precision                  0.137412\n",
       "false positive rate        0.902650\n",
       "false negative rate        0.022854\n",
       "selection rate             0.912206\n",
       "count                  89710.000000\n",
       "dtype: float64"
      ]
     },
     "execution_count": 67,
     "metadata": {},
     "output_type": "execute_result"
    }
   ],
   "source": [
    "metric_frame.overall"
   ]
  },
  {
   "cell_type": "markdown",
   "id": "e968fe9d",
   "metadata": {
    "papermill": {
     "duration": 0.080157,
     "end_time": "2025-07-28T10:57:39.000881",
     "exception": false,
     "start_time": "2025-07-28T10:57:38.920724",
     "status": "completed"
    },
    "tags": []
   },
   "source": [
    "By Group"
   ]
  },
  {
   "cell_type": "code",
   "execution_count": 68,
   "id": "ec325bce",
   "metadata": {
    "execution": {
     "iopub.execute_input": "2025-07-28T10:57:39.162388Z",
     "iopub.status.busy": "2025-07-28T10:57:39.161931Z",
     "iopub.status.idle": "2025-07-28T10:57:39.185088Z",
     "shell.execute_reply": "2025-07-28T10:57:39.184050Z"
    },
    "papermill": {
     "duration": 0.08672,
     "end_time": "2025-07-28T10:57:39.187055",
     "exception": false,
     "start_time": "2025-07-28T10:57:39.100335",
     "status": "completed"
    },
    "tags": []
   },
   "outputs": [
    {
     "data": {
      "text/html": [
       "<div>\n",
       "<style scoped>\n",
       "    .dataframe tbody tr th:only-of-type {\n",
       "        vertical-align: middle;\n",
       "    }\n",
       "\n",
       "    .dataframe tbody tr th {\n",
       "        vertical-align: top;\n",
       "    }\n",
       "\n",
       "    .dataframe thead th {\n",
       "        text-align: right;\n",
       "    }\n",
       "</style>\n",
       "<table border=\"1\" class=\"dataframe\">\n",
       "  <thead>\n",
       "    <tr style=\"text-align: right;\">\n",
       "      <th></th>\n",
       "      <th>accuracy</th>\n",
       "      <th>balanced accuracy</th>\n",
       "      <th>f1</th>\n",
       "      <th>precision</th>\n",
       "      <th>false positive rate</th>\n",
       "      <th>false negative rate</th>\n",
       "      <th>selection rate</th>\n",
       "      <th>count</th>\n",
       "    </tr>\n",
       "    <tr>\n",
       "      <th>majmin</th>\n",
       "      <th></th>\n",
       "      <th></th>\n",
       "      <th></th>\n",
       "      <th></th>\n",
       "      <th></th>\n",
       "      <th></th>\n",
       "      <th></th>\n",
       "      <th></th>\n",
       "    </tr>\n",
       "  </thead>\n",
       "  <tbody>\n",
       "    <tr>\n",
       "      <th>majority</th>\n",
       "      <td>0.198757</td>\n",
       "      <td>0.534393</td>\n",
       "      <td>0.246267</td>\n",
       "      <td>0.140612</td>\n",
       "      <td>0.921806</td>\n",
       "      <td>0.009409</td>\n",
       "      <td>0.930895</td>\n",
       "      <td>69170.0</td>\n",
       "    </tr>\n",
       "    <tr>\n",
       "      <th>minority</th>\n",
       "      <td>0.248783</td>\n",
       "      <td>0.542943</td>\n",
       "      <td>0.221179</td>\n",
       "      <td>0.125602</td>\n",
       "      <td>0.839368</td>\n",
       "      <td>0.074747</td>\n",
       "      <td>0.849270</td>\n",
       "      <td>20540.0</td>\n",
       "    </tr>\n",
       "  </tbody>\n",
       "</table>\n",
       "</div>"
      ],
      "text/plain": [
       "          accuracy  balanced accuracy        f1  precision  \\\n",
       "majmin                                                       \n",
       "majority  0.198757           0.534393  0.246267   0.140612   \n",
       "minority  0.248783           0.542943  0.221179   0.125602   \n",
       "\n",
       "          false positive rate  false negative rate  selection rate    count  \n",
       "majmin                                                                       \n",
       "majority             0.921806             0.009409        0.930895  69170.0  \n",
       "minority             0.839368             0.074747        0.849270  20540.0  "
      ]
     },
     "execution_count": 68,
     "metadata": {},
     "output_type": "execute_result"
    }
   ],
   "source": [
    "metric_frame.by_group"
   ]
  },
  {
   "cell_type": "code",
   "execution_count": 69,
   "id": "a9ddbe63",
   "metadata": {
    "execution": {
     "iopub.execute_input": "2025-07-28T10:57:39.279237Z",
     "iopub.status.busy": "2025-07-28T10:57:39.278795Z",
     "iopub.status.idle": "2025-07-28T10:57:43.774823Z",
     "shell.execute_reply": "2025-07-28T10:57:43.773655Z"
    },
    "papermill": {
     "duration": 4.558198,
     "end_time": "2025-07-28T10:57:43.777078",
     "exception": false,
     "start_time": "2025-07-28T10:57:39.218880",
     "status": "completed"
    },
    "tags": []
   },
   "outputs": [
    {
     "data": {
      "text/plain": [
       "array([[<Axes: title={'center': 'accuracy'}, xlabel='majmin'>,\n",
       "        <Axes: title={'center': 'balanced accuracy'}, xlabel='majmin'>,\n",
       "        <Axes: title={'center': 'f1'}, xlabel='majmin'>],\n",
       "       [<Axes: title={'center': 'precision'}, xlabel='majmin'>,\n",
       "        <Axes: title={'center': 'false positive rate'}, xlabel='majmin'>,\n",
       "        <Axes: title={'center': 'false negative rate'}, xlabel='majmin'>],\n",
       "       [<Axes: title={'center': 'selection rate'}, xlabel='majmin'>,\n",
       "        <Axes: title={'center': 'count'}, xlabel='majmin'>,\n",
       "        <Axes: xlabel='majmin'>]], dtype=object)"
      ]
     },
     "execution_count": 69,
     "metadata": {},
     "output_type": "execute_result"
    },
    {
     "data": {
      "image/png": "[encoded data removed]",
      "text/plain": [
       "<Figure size 1200x800 with 9 Axes>"
      ]
     },
     "metadata": {},
     "output_type": "display_data"
    }
   ],
   "source": [
    "# In a graphic\n",
    "metric_frame.by_group.plot.bar(\n",
    "    subplots=True,\n",
    "    layout=[3, 3],\n",
    "    legend=False,\n",
    "    figsize=[12, 8],\n",
    "    title=\"Show all metrics\",\n",
    ")"
   ]
  },
  {
   "cell_type": "markdown",
   "id": "f57a0bac",
   "metadata": {
    "papermill": {
     "duration": 0.037848,
     "end_time": "2025-07-28T10:57:43.859407",
     "exception": false,
     "start_time": "2025-07-28T10:57:43.821559",
     "status": "completed"
    },
    "tags": []
   },
   "source": [
    "# Final Output"
   ]
  },
  {
   "cell_type": "code",
   "execution_count": 70,
   "id": "96d280a3",
   "metadata": {
    "execution": {
     "iopub.execute_input": "2025-07-28T10:57:43.923826Z",
     "iopub.status.busy": "2025-07-28T10:57:43.923178Z",
     "iopub.status.idle": "2025-07-28T10:57:43.932610Z",
     "shell.execute_reply": "2025-07-28T10:57:43.931427Z"
    },
    "papermill": {
     "duration": 0.045579,
     "end_time": "2025-07-28T10:57:43.936503",
     "exception": false,
     "start_time": "2025-07-28T10:57:43.890924",
     "status": "completed"
    },
    "tags": []
   },
   "outputs": [
    {
     "data": {
      "text/plain": [
       "4"
      ]
     },
     "execution_count": 70,
     "metadata": {},
     "output_type": "execute_result"
    }
   ],
   "source": [
    "sub_universes = universe_analysis.generate_sub_universes()\n",
    "len(sub_universes)"
   ]
  },
  {
   "cell_type": "code",
   "execution_count": 71,
   "id": "92adf7ba",
   "metadata": {
    "execution": {
     "iopub.execute_input": "2025-07-28T10:57:43.999819Z",
     "iopub.status.busy": "2025-07-28T10:57:43.999351Z",
     "iopub.status.idle": "2025-07-28T10:57:44.013522Z",
     "shell.execute_reply": "2025-07-28T10:57:44.012405Z"
    },
    "papermill": {
     "duration": 0.04924,
     "end_time": "2025-07-28T10:57:44.016568",
     "exception": false,
     "start_time": "2025-07-28T10:57:43.967328",
     "status": "completed"
    },
    "tags": []
   },
   "outputs": [],
   "source": [
    "def filter_sub_universe_data(sub_universe, org_test):\n",
    "    # Keep all rows — no filtering\n",
    "    keep_rows_mask = np.ones(org_test.shape[0], dtype=bool)\n",
    "\n",
    "    print(f\"[INFO] Keeping all rows: {keep_rows_mask.sum()} rows retained.\")\n",
    "    return keep_rows_mask"
   ]
  },
  {
   "cell_type": "code",
   "execution_count": 72,
   "id": "4a759155",
   "metadata": {
    "execution": {
     "iopub.execute_input": "2025-07-28T10:57:44.117156Z",
     "iopub.status.busy": "2025-07-28T10:57:44.116716Z",
     "iopub.status.idle": "2025-07-28T10:57:56.700439Z",
     "shell.execute_reply": "2025-07-28T10:57:56.699376Z"
    },
    "papermill": {
     "duration": 12.634159,
     "end_time": "2025-07-28T10:57:56.702020",
     "exception": false,
     "start_time": "2025-07-28T10:57:44.067861",
     "status": "completed"
    },
    "tags": []
   },
   "outputs": [
    {
     "name": "stdout",
     "output_type": "stream",
     "text": [
      "Stopping execution_time clock.\n",
      "[INFO] Keeping all rows: 89710 rows retained.\n"
     ]
    },
    {
     "name": "stdout",
     "output_type": "stream",
     "text": [
      "[INFO] Keeping all rows: 89710 rows retained.\n"
     ]
    },
    {
     "name": "stdout",
     "output_type": "stream",
     "text": [
      "[INFO] Keeping all rows: 89710 rows retained.\n"
     ]
    },
    {
     "name": "stdout",
     "output_type": "stream",
     "text": [
      "[INFO] Keeping all rows: 89710 rows retained.\n"
     ]
    },
    {
     "data": {
      "text/html": [
       "<div>\n",
       "<style scoped>\n",
       "    .dataframe tbody tr th:only-of-type {\n",
       "        vertical-align: middle;\n",
       "    }\n",
       "\n",
       "    .dataframe tbody tr th {\n",
       "        vertical-align: top;\n",
       "    }\n",
       "\n",
       "    .dataframe thead th {\n",
       "        text-align: right;\n",
       "    }\n",
       "</style>\n",
       "<table border=\"1\" class=\"dataframe\">\n",
       "  <thead>\n",
       "    <tr style=\"text-align: right;\">\n",
       "      <th></th>\n",
       "      <th>run_no</th>\n",
       "      <th>universe_id</th>\n",
       "      <th>universe_settings</th>\n",
       "      <th>execution_time</th>\n",
       "      <th>test_size_n</th>\n",
       "      <th>test_size_frac</th>\n",
       "      <th>fair_main_equalized_odds_difference</th>\n",
       "      <th>fair_main_equalized_odds_ratio</th>\n",
       "      <th>fair_main_demographic_parity_difference</th>\n",
       "      <th>fair_main_demographic_parity_ratio</th>\n",
       "      <th>...</th>\n",
       "      <th>perf_grp_precision_0</th>\n",
       "      <th>perf_grp_precision_1</th>\n",
       "      <th>perf_grp_false positive rate_0</th>\n",
       "      <th>perf_grp_false positive rate_1</th>\n",
       "      <th>perf_grp_false negative rate_0</th>\n",
       "      <th>perf_grp_false negative rate_1</th>\n",
       "      <th>perf_grp_selection rate_0</th>\n",
       "      <th>perf_grp_selection rate_1</th>\n",
       "      <th>perf_grp_count_0</th>\n",
       "      <th>perf_grp_count_1</th>\n",
       "    </tr>\n",
       "  </thead>\n",
       "  <tbody>\n",
       "    <tr>\n",
       "      <th>0</th>\n",
       "      <td>11</td>\n",
       "      <td>099b7e45b729e2316780041d4c336730</td>\n",
       "      <td>{\"cutoff\": \"quantile_0.1\", \"eval_fairness_grou...</td>\n",
       "      <td>68.875766</td>\n",
       "      <td>89710</td>\n",
       "      <td>1.0</td>\n",
       "      <td>0.082438</td>\n",
       "      <td>0.910570</td>\n",
       "      <td>0.081625</td>\n",
       "      <td>0.912315</td>\n",
       "      <td>...</td>\n",
       "      <td>NaN</td>\n",
       "      <td>NaN</td>\n",
       "      <td>NaN</td>\n",
       "      <td>NaN</td>\n",
       "      <td>NaN</td>\n",
       "      <td>NaN</td>\n",
       "      <td>NaN</td>\n",
       "      <td>NaN</td>\n",
       "      <td>NaN</td>\n",
       "      <td>NaN</td>\n",
       "    </tr>\n",
       "    <tr>\n",
       "      <th>0</th>\n",
       "      <td>11</td>\n",
       "      <td>099b7e45b729e2316780041d4c336730</td>\n",
       "      <td>{\"cutoff\": \"quantile_0.1\", \"eval_fairness_grou...</td>\n",
       "      <td>68.875766</td>\n",
       "      <td>89710</td>\n",
       "      <td>1.0</td>\n",
       "      <td>0.082438</td>\n",
       "      <td>0.910570</td>\n",
       "      <td>0.081625</td>\n",
       "      <td>0.912315</td>\n",
       "      <td>...</td>\n",
       "      <td>0.125602</td>\n",
       "      <td>0.140612</td>\n",
       "      <td>0.839368</td>\n",
       "      <td>0.921806</td>\n",
       "      <td>0.074747</td>\n",
       "      <td>0.009409</td>\n",
       "      <td>0.849270</td>\n",
       "      <td>0.930895</td>\n",
       "      <td>20540.0</td>\n",
       "      <td>69170.0</td>\n",
       "    </tr>\n",
       "    <tr>\n",
       "      <th>0</th>\n",
       "      <td>11</td>\n",
       "      <td>099b7e45b729e2316780041d4c336730</td>\n",
       "      <td>{\"cutoff\": \"quantile_0.25\", \"eval_fairness_gro...</td>\n",
       "      <td>68.875766</td>\n",
       "      <td>89710</td>\n",
       "      <td>1.0</td>\n",
       "      <td>0.102946</td>\n",
       "      <td>0.886429</td>\n",
       "      <td>0.090683</td>\n",
       "      <td>0.883306</td>\n",
       "      <td>...</td>\n",
       "      <td>NaN</td>\n",
       "      <td>NaN</td>\n",
       "      <td>NaN</td>\n",
       "      <td>NaN</td>\n",
       "      <td>NaN</td>\n",
       "      <td>NaN</td>\n",
       "      <td>NaN</td>\n",
       "      <td>NaN</td>\n",
       "      <td>NaN</td>\n",
       "      <td>NaN</td>\n",
       "    </tr>\n",
       "    <tr>\n",
       "      <th>0</th>\n",
       "      <td>11</td>\n",
       "      <td>099b7e45b729e2316780041d4c336730</td>\n",
       "      <td>{\"cutoff\": \"quantile_0.25\", \"eval_fairness_gro...</td>\n",
       "      <td>68.875766</td>\n",
       "      <td>89710</td>\n",
       "      <td>1.0</td>\n",
       "      <td>0.102946</td>\n",
       "      <td>0.886429</td>\n",
       "      <td>0.090683</td>\n",
       "      <td>0.883306</td>\n",
       "      <td>...</td>\n",
       "      <td>0.143131</td>\n",
       "      <td>0.162413</td>\n",
       "      <td>0.664814</td>\n",
       "      <td>0.749992</td>\n",
       "      <td>0.147804</td>\n",
       "      <td>0.044858</td>\n",
       "      <td>0.686417</td>\n",
       "      <td>0.777100</td>\n",
       "      <td>20540.0</td>\n",
       "      <td>69170.0</td>\n",
       "    </tr>\n",
       "  </tbody>\n",
       "</table>\n",
       "<p>4 rows × 50 columns</p>\n",
       "</div>"
      ],
      "text/plain": [
       "  run_no                       universe_id  \\\n",
       "0     11  099b7e45b729e2316780041d4c336730   \n",
       "0     11  099b7e45b729e2316780041d4c336730   \n",
       "0     11  099b7e45b729e2316780041d4c336730   \n",
       "0     11  099b7e45b729e2316780041d4c336730   \n",
       "\n",
       "                                   universe_settings  execution_time  \\\n",
       "0  {\"cutoff\": \"quantile_0.1\", \"eval_fairness_grou...       68.875766   \n",
       "0  {\"cutoff\": \"quantile_0.1\", \"eval_fairness_grou...       68.875766   \n",
       "0  {\"cutoff\": \"quantile_0.25\", \"eval_fairness_gro...       68.875766   \n",
       "0  {\"cutoff\": \"quantile_0.25\", \"eval_fairness_gro...       68.875766   \n",
       "\n",
       "   test_size_n  test_size_frac  fair_main_equalized_odds_difference  \\\n",
       "0        89710             1.0                             0.082438   \n",
       "0        89710             1.0                             0.082438   \n",
       "0        89710             1.0                             0.102946   \n",
       "0        89710             1.0                             0.102946   \n",
       "\n",
       "   fair_main_equalized_odds_ratio  fair_main_demographic_parity_difference  \\\n",
       "0                        0.910570                                 0.081625   \n",
       "0                        0.910570                                 0.081625   \n",
       "0                        0.886429                                 0.090683   \n",
       "0                        0.886429                                 0.090683   \n",
       "\n",
       "   fair_main_demographic_parity_ratio  ...  perf_grp_precision_0  \\\n",
       "0                            0.912315  ...                   NaN   \n",
       "0                            0.912315  ...              0.125602   \n",
       "0                            0.883306  ...                   NaN   \n",
       "0                            0.883306  ...              0.143131   \n",
       "\n",
       "   perf_grp_precision_1  perf_grp_false positive rate_0  \\\n",
       "0                   NaN                             NaN   \n",
       "0              0.140612                        0.839368   \n",
       "0                   NaN                             NaN   \n",
       "0              0.162413                        0.664814   \n",
       "\n",
       "   perf_grp_false positive rate_1  perf_grp_false negative rate_0  \\\n",
       "0                             NaN                             NaN   \n",
       "0                        0.921806                        0.074747   \n",
       "0                             NaN                             NaN   \n",
       "0                        0.749992                        0.147804   \n",
       "\n",
       "   perf_grp_false negative rate_1  perf_grp_selection rate_0  \\\n",
       "0                             NaN                        NaN   \n",
       "0                        0.009409                   0.849270   \n",
       "0                             NaN                        NaN   \n",
       "0                        0.044858                   0.686417   \n",
       "\n",
       "   perf_grp_selection rate_1  perf_grp_count_0  perf_grp_count_1  \n",
       "0                        NaN               NaN               NaN  \n",
       "0                   0.930895           20540.0           69170.0  \n",
       "0                        NaN               NaN               NaN  \n",
       "0                   0.777100           20540.0           69170.0  \n",
       "\n",
       "[4 rows x 50 columns]"
      ]
     },
     "execution_count": 72,
     "metadata": {},
     "output_type": "execute_result"
    }
   ],
   "source": [
    "final_output = universe_analysis.generate_final_output(\n",
    "    y_pred_prob=probs_test,\n",
    "    y_test=y_true,\n",
    "    org_test=org_test,\n",
    "    filter_data=filter_sub_universe_data,\n",
    "    cp_metrics_df=cp_metrics_df,\n",
    "    save=True,\n",
    ")\n",
    "final_output"
   ]
  },
  {
   "cell_type": "code",
   "execution_count": null,
   "id": "721ff514-cb11-46f8-b6fc-50392f74b5cb",
   "metadata": {
    "papermill": {
     "duration": 0.028512,
     "end_time": "2025-07-28T10:57:56.761867",
     "exception": false,
     "start_time": "2025-07-28T10:57:56.733355",
     "status": "completed"
    },
    "tags": []
   },
   "outputs": [],
   "source": []
  }
 ],
 "metadata": {
  "celltoolbar": "Tags",
  "kernelspec": {
   "display_name": "Python (CMA Fairness)",
   "language": "python",
   "name": "cma_fair_env"
  },
  "language_info": {
   "codemirror_mode": {
    "name": "ipython",
    "version": 3
   },
   "file_extension": ".py",
   "mimetype": "text/x-python",
   "name": "python",
   "nbconvert_exporter": "python",
   "pygments_lexer": "ipython3",
   "version": "3.10.12"
  },
  "papermill": {
   "default_parameters": {},
   "duration": 89.728525,
   "end_time": "2025-07-28T10:57:57.709649",
   "environment_variables": {},
   "exception": null,
   "input_path": "universe_analysis.ipynb",
   "output_path": "output/runs/11/notebooks/m_11-099b7e45b729e2316780041d4c336730.ipynb",
   "parameters": {
    "output_dir": "output",
    "run_no": "11",
    "seed": "2023",
    "universe": "{\"cutoff\": [\"quantile_0.1\", \"quantile_0.25\"], \"eval_fairness_grouping\": [\"majority-minority\", \"nationality-all\"], \"exclude_features\": \"nationality-sex\", \"exclude_subgroups\": \"keep-all\", \"model\": \"rf\", \"scale\": \"scale\", \"training_size\": \"2014\"}",
    "universe_id": "099b7e45b729e2316780041d4c336730"
   },
   "start_time": "2025-07-28T10:56:27.981124",
   "version": "2.6.0"
  }
 },
 "nbformat": 4,
 "nbformat_minor": 5
}