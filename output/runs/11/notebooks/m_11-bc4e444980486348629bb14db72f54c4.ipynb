{
 "cells": [
  {
   "cell_type": "code",
   "execution_count": 1,
   "id": "f159f837-637b-42ba-96b5-ec9a68c44524",
   "metadata": {
    "execution": {
     "iopub.execute_input": "2025-07-28T10:42:47.571658Z",
     "iopub.status.busy": "2025-07-28T10:42:47.571198Z",
     "iopub.status.idle": "2025-07-28T10:42:47.584448Z",
     "shell.execute_reply": "2025-07-28T10:42:47.583464Z"
    },
    "papermill": {
     "duration": 0.044907,
     "end_time": "2025-07-28T10:42:47.595431",
     "exception": false,
     "start_time": "2025-07-28T10:42:47.550524",
     "status": "completed"
    },
    "tags": []
   },
   "outputs": [
    {
     "name": "stdout",
     "output_type": "stream",
     "text": [
      "/dss/dsshome1/0C/ra93lal2/cma/CMA_Fairness_v2\n"
     ]
    },
    {
     "name": "stderr",
     "output_type": "stream",
     "text": [
      "/dss/dsshome1/0C/ra93lal2/.local/share/virtualenvs/CMA_Fairness_v2-3j10GkSs/lib/python3.10/site-packages/IPython/core/magics/osm.py:393: UserWarning: This is now an optional IPython functionality, using bookmarks requires you to install the `pickleshare` library.\n",
      "  bkms = self.shell.db.get('bookmarks', {})\n",
      "/dss/dsshome1/0C/ra93lal2/.local/share/virtualenvs/CMA_Fairness_v2-3j10GkSs/lib/python3.10/site-packages/IPython/core/magics/osm.py:417: UserWarning: This is now an optional IPython functionality, setting dhist requires you to install the `pickleshare` library.\n",
      "  self.shell.db['dhist'] = compress_dhist(dhist)[-100:]\n"
     ]
    }
   ],
   "source": [
    "%cd ~/cma/CMA_Fairness_v2"
   ]
  },
  {
   "cell_type": "markdown",
   "id": "de2603b9",
   "metadata": {
    "papermill": {
     "duration": 0.019227,
     "end_time": "2025-07-28T10:42:47.635102",
     "exception": false,
     "start_time": "2025-07-28T10:42:47.615875",
     "status": "completed"
    },
    "tags": []
   },
   "source": [
    "The following cell holds the definition of our parameters, these values can be overriden by rendering the with e.g. the following command:\n",
    "\n",
    "papermill -p alpha 0.2 -p ratio 0.3 universe_analysis.ipynb output/test_run.ipynb"
   ]
  },
  {
   "cell_type": "code",
   "execution_count": 2,
   "id": "a80968a0-40bb-4fa9-85ef-2d5eefb01975",
   "metadata": {
    "execution": {
     "iopub.execute_input": "2025-07-28T10:42:47.676708Z",
     "iopub.status.busy": "2025-07-28T10:42:47.676176Z",
     "iopub.status.idle": "2025-07-28T10:42:47.682170Z",
     "shell.execute_reply": "2025-07-28T10:42:47.681193Z"
    },
    "papermill": {
     "duration": 0.029855,
     "end_time": "2025-07-28T10:42:47.684186",
     "exception": false,
     "start_time": "2025-07-28T10:42:47.654331",
     "status": "completed"
    },
    "tags": []
   },
   "outputs": [
    {
     "name": "stdout",
     "output_type": "stream",
     "text": [
      "Current working directory: /dss/dsshome1/0C/ra93lal2/cma/CMA_Fairness_v2\n"
     ]
    }
   ],
   "source": [
    "import os\n",
    "print(\"Current working directory:\", os.getcwd())"
   ]
  },
  {
   "cell_type": "code",
   "execution_count": 3,
   "id": "2dce4c03",
   "metadata": {
    "execution": {
     "iopub.execute_input": "2025-07-28T10:42:47.726822Z",
     "iopub.status.busy": "2025-07-28T10:42:47.726100Z",
     "iopub.status.idle": "2025-07-28T10:42:47.733196Z",
     "shell.execute_reply": "2025-07-28T10:42:47.732181Z"
    },
    "papermill": {
     "duration": 0.029714,
     "end_time": "2025-07-28T10:42:47.734943",
     "exception": false,
     "start_time": "2025-07-28T10:42:47.705229",
     "status": "completed"
    },
    "tags": [
     "parameters"
    ]
   },
   "outputs": [],
   "source": [
    "run_no = 0\n",
    "universe_id = \"test\"\n",
    "universe = {\n",
    "    \"training_size\": \"2014\", # \"25k\", \"5k\", \"1k\", \"2014\"\n",
    "    \"scale\": \"scale\", # \"scale\", \"do-not-scale\",\n",
    "    #\"stratify_split\": \"target\", # \"none\", \"target\", \"protected-attribute\", \"both\",\n",
    "    \"model\": \"elasticnet\", # \"logreg\", \"penalized_logreg\", \"rf\", \"gbm\", \"elasticnet\"\n",
    "    \"cutoff\": [\"quantile_0.15\", \"quantile_0.30\"],\n",
    "    \"exclude_features\": \"age\", # \"none\", \"nationality\", \"sex\", \"nationality-sex\", \"age\"\n",
    "    \"exclude_subgroups\": \"keep-all\", # \"keep-all\", \"drop-non-german\"\n",
    "    \"eval_fairness_grouping\": [\"majority-minority\", \"nationality-all\"]\n",
    "}\n",
    "\n",
    "output_dir=\"./output\"\n",
    "seed=0"
   ]
  },
  {
   "cell_type": "code",
   "execution_count": 4,
   "id": "79289a4e",
   "metadata": {
    "execution": {
     "iopub.execute_input": "2025-07-28T10:42:47.778653Z",
     "iopub.status.busy": "2025-07-28T10:42:47.777952Z",
     "iopub.status.idle": "2025-07-28T10:42:47.784115Z",
     "shell.execute_reply": "2025-07-28T10:42:47.783064Z"
    },
    "papermill": {
     "duration": 0.029535,
     "end_time": "2025-07-28T10:42:47.785665",
     "exception": false,
     "start_time": "2025-07-28T10:42:47.756130",
     "status": "completed"
    },
    "tags": [
     "injected-parameters"
    ]
   },
   "outputs": [],
   "source": [
    "# Parameters\n",
    "universe_id = \"bc4e444980486348629bb14db72f54c4\"\n",
    "run_no = \"11\"\n",
    "universe = \"{\\\"cutoff\\\": [\\\"quantile_0.1\\\", \\\"quantile_0.25\\\"], \\\"eval_fairness_grouping\\\": [\\\"majority-minority\\\", \\\"nationality-all\\\"], \\\"exclude_features\\\": \\\"age\\\", \\\"exclude_subgroups\\\": \\\"keep-all\\\", \\\"model\\\": \\\"logreg\\\", \\\"scale\\\": \\\"scale\\\", \\\"training_size\\\": \\\"1k\\\"}\"\n",
    "output_dir = \"output\"\n",
    "seed = \"2023\"\n"
   ]
  },
  {
   "cell_type": "code",
   "execution_count": 5,
   "id": "1650acaf",
   "metadata": {
    "execution": {
     "iopub.execute_input": "2025-07-28T10:42:47.828536Z",
     "iopub.status.busy": "2025-07-28T10:42:47.827866Z",
     "iopub.status.idle": "2025-07-28T10:42:47.833550Z",
     "shell.execute_reply": "2025-07-28T10:42:47.832422Z"
    },
    "papermill": {
     "duration": 0.029531,
     "end_time": "2025-07-28T10:42:47.835264",
     "exception": false,
     "start_time": "2025-07-28T10:42:47.805733",
     "status": "completed"
    },
    "tags": []
   },
   "outputs": [],
   "source": [
    "import json\n",
    "# Parse universe into dict if it is passed as a string\n",
    "if isinstance(universe, str):\n",
    "    universe = json.loads(universe)"
   ]
  },
  {
   "cell_type": "code",
   "execution_count": 6,
   "id": "16620c48",
   "metadata": {
    "execution": {
     "iopub.execute_input": "2025-07-28T10:42:47.876851Z",
     "iopub.status.busy": "2025-07-28T10:42:47.876323Z",
     "iopub.status.idle": "2025-07-28T10:42:47.925113Z",
     "shell.execute_reply": "2025-07-28T10:42:47.924078Z"
    },
    "papermill": {
     "duration": 0.071105,
     "end_time": "2025-07-28T10:42:47.926966",
     "exception": false,
     "start_time": "2025-07-28T10:42:47.855861",
     "status": "completed"
    },
    "tags": []
   },
   "outputs": [],
   "source": [
    "# Auto-reload the custom package\n",
    "%load_ext autoreload\n",
    "%autoreload 1\n",
    "%aimport fairness_multiverse"
   ]
  },
  {
   "cell_type": "code",
   "execution_count": 7,
   "id": "01c5c9f3",
   "metadata": {
    "execution": {
     "iopub.execute_input": "2025-07-28T10:42:47.967597Z",
     "iopub.status.busy": "2025-07-28T10:42:47.967098Z",
     "iopub.status.idle": "2025-07-28T10:42:49.722513Z",
     "shell.execute_reply": "2025-07-28T10:42:49.721633Z"
    },
    "papermill": {
     "duration": 1.777555,
     "end_time": "2025-07-28T10:42:49.724134",
     "exception": false,
     "start_time": "2025-07-28T10:42:47.946579",
     "status": "completed"
    },
    "tags": []
   },
   "outputs": [],
   "source": [
    "from fairness_multiverse.universe import UniverseAnalysis\n",
    "\n",
    "universe_analysis = UniverseAnalysis(\n",
    "    run_no = run_no,\n",
    "    universe_id = universe_id,\n",
    "    universe = universe,\n",
    "    output_dir=output_dir,\n",
    ")"
   ]
  },
  {
   "cell_type": "code",
   "execution_count": 8,
   "id": "106241f5",
   "metadata": {
    "execution": {
     "iopub.execute_input": "2025-07-28T10:42:49.746602Z",
     "iopub.status.busy": "2025-07-28T10:42:49.746071Z",
     "iopub.status.idle": "2025-07-28T10:42:49.751686Z",
     "shell.execute_reply": "2025-07-28T10:42:49.750743Z"
    },
    "papermill": {
     "duration": 0.018461,
     "end_time": "2025-07-28T10:42:49.753124",
     "exception": false,
     "start_time": "2025-07-28T10:42:49.734663",
     "status": "completed"
    },
    "tags": []
   },
   "outputs": [
    {
     "name": "stdout",
     "output_type": "stream",
     "text": [
      "Using Seed: 2023\n"
     ]
    }
   ],
   "source": [
    "import numpy as np\n",
    "parsed_seed = int(seed)\n",
    "np.random.seed(parsed_seed)\n",
    "print(f\"Using Seed: {parsed_seed}\")"
   ]
  },
  {
   "cell_type": "markdown",
   "id": "e0ebdc57",
   "metadata": {
    "papermill": {
     "duration": 0.010171,
     "end_time": "2025-07-28T10:42:49.774065",
     "exception": false,
     "start_time": "2025-07-28T10:42:49.763894",
     "status": "completed"
    },
    "tags": []
   },
   "source": [
    "# Loading Data"
   ]
  },
  {
   "cell_type": "markdown",
   "id": "681925a3",
   "metadata": {
    "papermill": {
     "duration": 0.00986,
     "end_time": "2025-07-28T10:42:49.793872",
     "exception": false,
     "start_time": "2025-07-28T10:42:49.784012",
     "status": "completed"
    },
    "tags": []
   },
   "source": [
    "Load siab_train, siab_test, siab_calib and/or \n",
    "load siab_train_features, siab_train_labels"
   ]
  },
  {
   "cell_type": "code",
   "execution_count": 9,
   "id": "f0496b8a",
   "metadata": {
    "execution": {
     "iopub.execute_input": "2025-07-28T10:42:49.815468Z",
     "iopub.status.busy": "2025-07-28T10:42:49.814951Z",
     "iopub.status.idle": "2025-07-28T10:43:01.447996Z",
     "shell.execute_reply": "2025-07-28T10:43:01.446887Z"
    },
    "papermill": {
     "duration": 11.645958,
     "end_time": "2025-07-28T10:43:01.449908",
     "exception": false,
     "start_time": "2025-07-28T10:42:49.803950",
     "status": "completed"
    },
    "tags": []
   },
   "outputs": [
    {
     "name": "stdout",
     "output_type": "stream",
     "text": [
      "Loading SIAB data from cache: data/siab_cached.csv.gz\n"
     ]
    },
    {
     "name": "stdout",
     "output_type": "stream",
     "text": [
      "(643690, 164)\n"
     ]
    }
   ],
   "source": [
    "from pathlib import Path\n",
    "import pandas as pd\n",
    "\n",
    "# File paths\n",
    "raw_file = Path(\"data/raw/siab.csv\")\n",
    "cache_file = Path(\"data/siab_cached.csv.gz\")\n",
    "\n",
    "# Ensure cache directory exists\n",
    "cache_file.parent.mkdir(parents=True, exist_ok=True)\n",
    "\n",
    "# Load with simple caching\n",
    "if cache_file.exists():\n",
    "    print(f\"Loading SIAB data from cache: {cache_file}\")\n",
    "    siab = pd.read_csv(cache_file, compression='gzip')\n",
    "else:\n",
    "    print(f\"Cache not found. Reading raw SIAB data: {raw_file}\")\n",
    "    siab = pd.read_csv(raw_file)\n",
    "    siab.to_csv(cache_file, index=False, compression='gzip')\n",
    "    print(f\"Cached SIAB data to: {cache_file}\")\n",
    "\n",
    "# Now use `siab` DataFrame as needed\n",
    "print(siab.shape)"
   ]
  },
  {
   "cell_type": "code",
   "execution_count": 10,
   "id": "db0ca512-5f53-4dba-abdb-a2888bca41ba",
   "metadata": {
    "execution": {
     "iopub.execute_input": "2025-07-28T10:43:01.497327Z",
     "iopub.status.busy": "2025-07-28T10:43:01.496433Z",
     "iopub.status.idle": "2025-07-28T10:43:01.502676Z",
     "shell.execute_reply": "2025-07-28T10:43:01.501602Z"
    },
    "papermill": {
     "duration": 0.029047,
     "end_time": "2025-07-28T10:43:01.504428",
     "exception": false,
     "start_time": "2025-07-28T10:43:01.475381",
     "status": "completed"
    },
    "tags": []
   },
   "outputs": [],
   "source": [
    "#siab"
   ]
  },
  {
   "cell_type": "code",
   "execution_count": 11,
   "id": "a0edb063",
   "metadata": {
    "execution": {
     "iopub.execute_input": "2025-07-28T10:43:01.553393Z",
     "iopub.status.busy": "2025-07-28T10:43:01.552855Z",
     "iopub.status.idle": "2025-07-28T10:43:01.558230Z",
     "shell.execute_reply": "2025-07-28T10:43:01.557254Z"
    },
    "papermill": {
     "duration": 0.035745,
     "end_time": "2025-07-28T10:43:01.560084",
     "exception": false,
     "start_time": "2025-07-28T10:43:01.524339",
     "status": "completed"
    },
    "tags": []
   },
   "outputs": [],
   "source": [
    "#import pandas as pd\n",
    "#\n",
    "#X_train = pd.read_csv(\"./data/X_train.csv\")\n",
    "#y_train = pd.read_csv(\"./data/y_train.csv\")"
   ]
  },
  {
   "cell_type": "code",
   "execution_count": 12,
   "id": "63d08085",
   "metadata": {
    "execution": {
     "iopub.execute_input": "2025-07-28T10:43:01.602127Z",
     "iopub.status.busy": "2025-07-28T10:43:01.601451Z",
     "iopub.status.idle": "2025-07-28T10:43:01.606666Z",
     "shell.execute_reply": "2025-07-28T10:43:01.605533Z"
    },
    "papermill": {
     "duration": 0.027295,
     "end_time": "2025-07-28T10:43:01.608416",
     "exception": false,
     "start_time": "2025-07-28T10:43:01.581121",
     "status": "completed"
    },
    "tags": []
   },
   "outputs": [],
   "source": [
    "#X_test = pd.read_csv(\"./data/X_test.csv\")\n",
    "#y_true = pd.read_csv(\"./data/y_test.csv\")"
   ]
  },
  {
   "cell_type": "code",
   "execution_count": 13,
   "id": "98a8d0fa-1d3d-4ed8-bb2c-281470e24add",
   "metadata": {
    "execution": {
     "iopub.execute_input": "2025-07-28T10:43:01.656354Z",
     "iopub.status.busy": "2025-07-28T10:43:01.655615Z",
     "iopub.status.idle": "2025-07-28T10:43:01.660957Z",
     "shell.execute_reply": "2025-07-28T10:43:01.659941Z"
    },
    "papermill": {
     "duration": 0.031582,
     "end_time": "2025-07-28T10:43:01.662641",
     "exception": false,
     "start_time": "2025-07-28T10:43:01.631059",
     "status": "completed"
    },
    "tags": []
   },
   "outputs": [],
   "source": [
    "# Calibration data for conformal\n",
    "#X_calib = pd.read_csv(\"./data/X_calib.csv\")\n",
    "#y_calib = pd.read_csv(\"./data/y_calib.csv\")"
   ]
  },
  {
   "cell_type": "markdown",
   "id": "9901737e-04df-44f0-9100-f5ad144ed040",
   "metadata": {
    "papermill": {
     "duration": 0.020392,
     "end_time": "2025-07-28T10:43:01.704180",
     "exception": false,
     "start_time": "2025-07-28T10:43:01.683788",
     "status": "completed"
    },
    "tags": []
   },
   "source": [
    "# Splitting Data and Setting Training Data Size"
   ]
  },
  {
   "cell_type": "code",
   "execution_count": 14,
   "id": "acbc8f7d-8fc8-4e86-8c59-5dcb0f58384b",
   "metadata": {
    "execution": {
     "iopub.execute_input": "2025-07-28T10:43:01.746667Z",
     "iopub.status.busy": "2025-07-28T10:43:01.745700Z",
     "iopub.status.idle": "2025-07-28T10:43:01.755055Z",
     "shell.execute_reply": "2025-07-28T10:43:01.753974Z"
    },
    "papermill": {
     "duration": 0.033473,
     "end_time": "2025-07-28T10:43:01.757014",
     "exception": false,
     "start_time": "2025-07-28T10:43:01.723541",
     "status": "completed"
    },
    "tags": []
   },
   "outputs": [],
   "source": [
    "def sample_by_year(df, training_size, random_state=42):\n",
    "    if training_size == \"2014\":\n",
    "        return df[df[\"year\"] == 2014].reset_index(drop=True)\n",
    "    \n",
    "    size_map = {\n",
    "        \"25k\": 5000,\n",
    "        \"5k\": 1000,\n",
    "        \"1k\": 200\n",
    "    }\n",
    "\n",
    "    if training_size not in size_map:\n",
    "        return df.reset_index(drop=True)  # use all data\n",
    "\n",
    "    n_per_year = size_map[training_size]\n",
    "    grouped = df.groupby(\"year\")\n",
    "    sampled = grouped.apply(lambda x: x.sample(n=min(n_per_year, len(x)), random_state=random_state))\n",
    "    return sampled.reset_index(drop=True)"
   ]
  },
  {
   "cell_type": "code",
   "execution_count": 15,
   "id": "6d931f52-beaf-43ff-9e78-9d44a448d54e",
   "metadata": {
    "execution": {
     "iopub.execute_input": "2025-07-28T10:43:01.802106Z",
     "iopub.status.busy": "2025-07-28T10:43:01.801150Z",
     "iopub.status.idle": "2025-07-28T10:43:02.452252Z",
     "shell.execute_reply": "2025-07-28T10:43:02.451218Z"
    },
    "papermill": {
     "duration": 0.675117,
     "end_time": "2025-07-28T10:43:02.454276",
     "exception": false,
     "start_time": "2025-07-28T10:43:01.779159",
     "status": "completed"
    },
    "tags": []
   },
   "outputs": [],
   "source": [
    "siab_s = sample_by_year(siab, universe[\"training_size\"])"
   ]
  },
  {
   "cell_type": "code",
   "execution_count": 16,
   "id": "5db0a40e-a4e2-4920-be85-b12ae061d70d",
   "metadata": {
    "execution": {
     "iopub.execute_input": "2025-07-28T10:43:02.505126Z",
     "iopub.status.busy": "2025-07-28T10:43:02.504583Z",
     "iopub.status.idle": "2025-07-28T10:43:02.519128Z",
     "shell.execute_reply": "2025-07-28T10:43:02.518101Z"
    },
    "papermill": {
     "duration": 0.040833,
     "end_time": "2025-07-28T10:43:02.521055",
     "exception": false,
     "start_time": "2025-07-28T10:43:02.480222",
     "status": "completed"
    },
    "tags": []
   },
   "outputs": [
    {
     "data": {
      "text/plain": [
       "year\n",
       "2010    200\n",
       "2011    200\n",
       "2012    200\n",
       "2013    200\n",
       "2014    200\n",
       "2015    200\n",
       "2016    200\n",
       "dtype: int64"
      ]
     },
     "metadata": {},
     "output_type": "display_data"
    }
   ],
   "source": [
    "display(siab_s.groupby(\"year\").size())"
   ]
  },
  {
   "cell_type": "code",
   "execution_count": 17,
   "id": "a561edb4-d032-42cb-8256-22eac1111c64",
   "metadata": {
    "execution": {
     "iopub.execute_input": "2025-07-28T10:43:02.568271Z",
     "iopub.status.busy": "2025-07-28T10:43:02.567582Z",
     "iopub.status.idle": "2025-07-28T10:43:02.824486Z",
     "shell.execute_reply": "2025-07-28T10:43:02.823400Z"
    },
    "papermill": {
     "duration": 0.282748,
     "end_time": "2025-07-28T10:43:02.826706",
     "exception": false,
     "start_time": "2025-07-28T10:43:02.543958",
     "status": "completed"
    },
    "tags": []
   },
   "outputs": [],
   "source": [
    "siab_train = siab_s[siab_s.year < 2015]\n",
    "siab_calib = siab[siab.year == 2015]\n",
    "siab_test = siab[siab.year == 2016]"
   ]
  },
  {
   "cell_type": "code",
   "execution_count": 18,
   "id": "472de16f-c3db-4916-846b-1f0de9cf1746",
   "metadata": {
    "execution": {
     "iopub.execute_input": "2025-07-28T10:43:02.883973Z",
     "iopub.status.busy": "2025-07-28T10:43:02.883193Z",
     "iopub.status.idle": "2025-07-28T10:43:02.890863Z",
     "shell.execute_reply": "2025-07-28T10:43:02.889782Z"
    },
    "papermill": {
     "duration": 0.039938,
     "end_time": "2025-07-28T10:43:02.892623",
     "exception": false,
     "start_time": "2025-07-28T10:43:02.852685",
     "status": "completed"
    },
    "tags": []
   },
   "outputs": [],
   "source": [
    "X_train = siab_train.iloc[:,4:164]\n",
    "y_train = siab_train.iloc[:, [3]]"
   ]
  },
  {
   "cell_type": "code",
   "execution_count": 19,
   "id": "828c96af-f43a-4ed6-ba47-8ac73a47d56c",
   "metadata": {
    "execution": {
     "iopub.execute_input": "2025-07-28T10:43:02.934352Z",
     "iopub.status.busy": "2025-07-28T10:43:02.933533Z",
     "iopub.status.idle": "2025-07-28T10:43:02.985338Z",
     "shell.execute_reply": "2025-07-28T10:43:02.983923Z"
    },
    "papermill": {
     "duration": 0.074434,
     "end_time": "2025-07-28T10:43:02.987130",
     "exception": false,
     "start_time": "2025-07-28T10:43:02.912696",
     "status": "completed"
    },
    "tags": []
   },
   "outputs": [],
   "source": [
    "X_calib = siab_calib.iloc[:,4:164]\n",
    "y_calib = siab_calib.iloc[:, [3]]"
   ]
  },
  {
   "cell_type": "code",
   "execution_count": 20,
   "id": "c34be9c3-6bd6-476e-acd3-845840e303be",
   "metadata": {
    "execution": {
     "iopub.execute_input": "2025-07-28T10:43:03.030276Z",
     "iopub.status.busy": "2025-07-28T10:43:03.029639Z",
     "iopub.status.idle": "2025-07-28T10:43:03.084169Z",
     "shell.execute_reply": "2025-07-28T10:43:03.083030Z"
    },
    "papermill": {
     "duration": 0.076821,
     "end_time": "2025-07-28T10:43:03.085783",
     "exception": false,
     "start_time": "2025-07-28T10:43:03.008962",
     "status": "completed"
    },
    "tags": []
   },
   "outputs": [],
   "source": [
    "X_test = siab_test.iloc[:,4:164]\n",
    "y_true = siab_test.iloc[:, [3]]"
   ]
  },
  {
   "cell_type": "code",
   "execution_count": 21,
   "id": "e6c733c5",
   "metadata": {
    "execution": {
     "iopub.execute_input": "2025-07-28T10:43:03.128308Z",
     "iopub.status.busy": "2025-07-28T10:43:03.127829Z",
     "iopub.status.idle": "2025-07-28T10:43:03.232580Z",
     "shell.execute_reply": "2025-07-28T10:43:03.231619Z"
    },
    "papermill": {
     "duration": 0.128086,
     "end_time": "2025-07-28T10:43:03.234424",
     "exception": false,
     "start_time": "2025-07-28T10:43:03.106338",
     "status": "completed"
    },
    "tags": []
   },
   "outputs": [],
   "source": [
    "# Auxiliary data needed downstream in the pipeline\n",
    "\n",
    "org_train = X_train.copy()\n",
    "org_test = X_test.copy()\n",
    "org_calib = X_calib.copy()"
   ]
  },
  {
   "cell_type": "markdown",
   "id": "0a4a1b33",
   "metadata": {
    "papermill": {
     "duration": 0.019778,
     "end_time": "2025-07-28T10:43:03.274817",
     "exception": false,
     "start_time": "2025-07-28T10:43:03.255039",
     "status": "completed"
    },
    "tags": []
   },
   "source": [
    "# Preprocessing Data"
   ]
  },
  {
   "cell_type": "code",
   "execution_count": 22,
   "id": "ca879031",
   "metadata": {
    "execution": {
     "iopub.execute_input": "2025-07-28T10:43:03.316734Z",
     "iopub.status.busy": "2025-07-28T10:43:03.315955Z",
     "iopub.status.idle": "2025-07-28T10:43:03.321482Z",
     "shell.execute_reply": "2025-07-28T10:43:03.320661Z"
    },
    "papermill": {
     "duration": 0.0282,
     "end_time": "2025-07-28T10:43:03.322687",
     "exception": false,
     "start_time": "2025-07-28T10:43:03.294487",
     "status": "completed"
    },
    "tags": []
   },
   "outputs": [],
   "source": [
    "# EXCLUDE PROTECTED FEATURES\n",
    "# ----------------------\n",
    "# \"exclude_features\": \"none\", # \"nationality\", \"sex\", \"nationality-sex\"\n",
    "\n",
    "excluded_features = universe[\"exclude_features\"].split(\"-\") # split, e.g.: \"nationality-sex\" -> [\"nationality\", \"sex\"]\n",
    "excluded_features_dictionary = {\n",
    "    \"nationality\": [\"maxdeutsch1\", \"maxdeutsch.Missing.\"],\n",
    "    \"sex\": [\"frau1\"],\n",
    "    \"age\": [\"age\"],\n",
    "}\n"
   ]
  },
  {
   "cell_type": "code",
   "execution_count": 23,
   "id": "b745ac60",
   "metadata": {
    "execution": {
     "iopub.execute_input": "2025-07-28T10:43:03.346056Z",
     "iopub.status.busy": "2025-07-28T10:43:03.345747Z",
     "iopub.status.idle": "2025-07-28T10:43:03.350256Z",
     "shell.execute_reply": "2025-07-28T10:43:03.349424Z"
    },
    "papermill": {
     "duration": 0.017262,
     "end_time": "2025-07-28T10:43:03.351535",
     "exception": false,
     "start_time": "2025-07-28T10:43:03.334273",
     "status": "completed"
    },
    "tags": []
   },
   "outputs": [],
   "source": [
    "# Code nice names to column names\n",
    "\n",
    "excluded_features_columns = [\n",
    "    excluded_features_dictionary[f] for f in excluded_features if len(f) > 0 and f != \"none\"\n",
    "]"
   ]
  },
  {
   "cell_type": "code",
   "execution_count": 24,
   "id": "f84f73a2",
   "metadata": {
    "execution": {
     "iopub.execute_input": "2025-07-28T10:43:03.375079Z",
     "iopub.status.busy": "2025-07-28T10:43:03.374680Z",
     "iopub.status.idle": "2025-07-28T10:43:03.379632Z",
     "shell.execute_reply": "2025-07-28T10:43:03.378879Z"
    },
    "papermill": {
     "duration": 0.018804,
     "end_time": "2025-07-28T10:43:03.381367",
     "exception": false,
     "start_time": "2025-07-28T10:43:03.362563",
     "status": "completed"
    },
    "tags": []
   },
   "outputs": [],
   "source": [
    "from utils import flatten_once\n",
    "\n",
    "excluded_features_columns = flatten_once(excluded_features_columns)"
   ]
  },
  {
   "cell_type": "code",
   "execution_count": 25,
   "id": "884dea22",
   "metadata": {
    "execution": {
     "iopub.execute_input": "2025-07-28T10:43:03.424111Z",
     "iopub.status.busy": "2025-07-28T10:43:03.423574Z",
     "iopub.status.idle": "2025-07-28T10:43:03.432675Z",
     "shell.execute_reply": "2025-07-28T10:43:03.431526Z"
    },
    "papermill": {
     "duration": 0.03175,
     "end_time": "2025-07-28T10:43:03.434269",
     "exception": false,
     "start_time": "2025-07-28T10:43:03.402519",
     "status": "completed"
    },
    "tags": []
   },
   "outputs": [
    {
     "name": "stdout",
     "output_type": "stream",
     "text": [
      "Dropping features: ['age']\n"
     ]
    }
   ],
   "source": [
    "if len(excluded_features_columns) > 0:\n",
    "    print(f\"Dropping features: {excluded_features_columns}\")\n",
    "    X_train.drop(excluded_features_columns, axis=1, inplace=True)"
   ]
  },
  {
   "cell_type": "code",
   "execution_count": 26,
   "id": "95ab8b16",
   "metadata": {
    "execution": {
     "iopub.execute_input": "2025-07-28T10:43:03.476744Z",
     "iopub.status.busy": "2025-07-28T10:43:03.476281Z",
     "iopub.status.idle": "2025-07-28T10:43:03.532138Z",
     "shell.execute_reply": "2025-07-28T10:43:03.531083Z"
    },
    "papermill": {
     "duration": 0.078757,
     "end_time": "2025-07-28T10:43:03.533839",
     "exception": false,
     "start_time": "2025-07-28T10:43:03.455082",
     "status": "completed"
    },
    "tags": []
   },
   "outputs": [
    {
     "name": "stdout",
     "output_type": "stream",
     "text": [
      "Dropping features: ['age']\n"
     ]
    }
   ],
   "source": [
    "if len(excluded_features_columns) > 0:\n",
    "    print(f\"Dropping features: {excluded_features_columns}\")\n",
    "    X_test.drop(excluded_features_columns, axis=1, inplace=True)"
   ]
  },
  {
   "cell_type": "code",
   "execution_count": 27,
   "id": "1853aaf5-fb9f-46cb-a2b5-8ea4ae2237e4",
   "metadata": {
    "execution": {
     "iopub.execute_input": "2025-07-28T10:43:03.581114Z",
     "iopub.status.busy": "2025-07-28T10:43:03.580618Z",
     "iopub.status.idle": "2025-07-28T10:43:03.643911Z",
     "shell.execute_reply": "2025-07-28T10:43:03.642615Z"
    },
    "papermill": {
     "duration": 0.090396,
     "end_time": "2025-07-28T10:43:03.646283",
     "exception": false,
     "start_time": "2025-07-28T10:43:03.555887",
     "status": "completed"
    },
    "tags": []
   },
   "outputs": [
    {
     "name": "stdout",
     "output_type": "stream",
     "text": [
      "Dropping features: ['age']\n"
     ]
    }
   ],
   "source": [
    "if len(excluded_features_columns) > 0:\n",
    "    print(f\"Dropping features: {excluded_features_columns}\")\n",
    "    X_calib.drop(excluded_features_columns, axis=1, inplace=True)"
   ]
  },
  {
   "cell_type": "code",
   "execution_count": 28,
   "id": "6727d079-03e5-481e-9d38-292a90b7a0a8",
   "metadata": {
    "execution": {
     "iopub.execute_input": "2025-07-28T10:43:03.701368Z",
     "iopub.status.busy": "2025-07-28T10:43:03.700878Z",
     "iopub.status.idle": "2025-07-28T10:43:03.705997Z",
     "shell.execute_reply": "2025-07-28T10:43:03.705027Z"
    },
    "papermill": {
     "duration": 0.032635,
     "end_time": "2025-07-28T10:43:03.710185",
     "exception": false,
     "start_time": "2025-07-28T10:43:03.677550",
     "status": "completed"
    },
    "tags": []
   },
   "outputs": [],
   "source": [
    "# SPLIT & STRATIFY DATA\n",
    "# ----------------------"
   ]
  },
  {
   "cell_type": "code",
   "execution_count": 29,
   "id": "76c4dc6d",
   "metadata": {
    "execution": {
     "iopub.execute_input": "2025-07-28T10:43:03.755110Z",
     "iopub.status.busy": "2025-07-28T10:43:03.754634Z",
     "iopub.status.idle": "2025-07-28T10:43:03.760130Z",
     "shell.execute_reply": "2025-07-28T10:43:03.759155Z"
    },
    "papermill": {
     "duration": 0.02883,
     "end_time": "2025-07-28T10:43:03.761705",
     "exception": false,
     "start_time": "2025-07-28T10:43:03.732875",
     "status": "completed"
    },
    "tags": []
   },
   "outputs": [],
   "source": [
    "# EXCLUDE CERTAIN SUBGROUPS\n",
    "# ----------------------\n",
    "\n",
    "mode = universe.get(\"exclude_subgroups\", \"keep-all\") \n",
    "# Fetches the exclude_subgroups setting from the universe dict.\n",
    "# Defaults to \"keep-all\" if the key is missing."
   ]
  },
  {
   "cell_type": "code",
   "execution_count": 30,
   "id": "21994072",
   "metadata": {
    "execution": {
     "iopub.execute_input": "2025-07-28T10:43:03.807727Z",
     "iopub.status.busy": "2025-07-28T10:43:03.807278Z",
     "iopub.status.idle": "2025-07-28T10:43:03.813958Z",
     "shell.execute_reply": "2025-07-28T10:43:03.813008Z"
    },
    "papermill": {
     "duration": 0.030823,
     "end_time": "2025-07-28T10:43:03.815526",
     "exception": false,
     "start_time": "2025-07-28T10:43:03.784703",
     "status": "completed"
    },
    "tags": []
   },
   "outputs": [],
   "source": [
    "if mode == \"keep-all\":\n",
    "    keep_mask = pd.Series(True, index=org_train.index)\n",
    "\n",
    "# org_train contains the original feature columns from features_org (in Simson)\n",
    "# features_org contains unprocessed features, for me X_train at beginning ???\n",
    "# For keep-all, creates a boolean Series (keep_mask) of all True, so no rows are removed.\n",
    "\n",
    "elif mode == \"drop-non-german\":\n",
    "    keep_mask = org_train[\"maxdeutsch1\"] == 1 # ??? what about missing values?\n",
    "\n",
    "else:\n",
    "    raise ValueError(f\"Unsupported mode for exclude_subgroups: {mode}\")\n"
   ]
  },
  {
   "cell_type": "code",
   "execution_count": 31,
   "id": "71651440",
   "metadata": {
    "execution": {
     "iopub.execute_input": "2025-07-28T10:43:03.859265Z",
     "iopub.status.busy": "2025-07-28T10:43:03.858780Z",
     "iopub.status.idle": "2025-07-28T10:43:03.865393Z",
     "shell.execute_reply": "2025-07-28T10:43:03.864373Z"
    },
    "papermill": {
     "duration": 0.030333,
     "end_time": "2025-07-28T10:43:03.866946",
     "exception": false,
     "start_time": "2025-07-28T10:43:03.836613",
     "status": "completed"
    },
    "tags": []
   },
   "outputs": [],
   "source": [
    "n_drop = (~keep_mask).sum() # Calculates how many rows are set to be dropped\n",
    "if n_drop > 0:\n",
    "    pct = n_drop / len(keep_mask) * 100\n",
    "    print(f\"Dropping {n_drop} rows ({pct:.2f}%) where mode='{mode}'\")"
   ]
  },
  {
   "cell_type": "code",
   "execution_count": 32,
   "id": "5fb8eee5",
   "metadata": {
    "execution": {
     "iopub.execute_input": "2025-07-28T10:43:03.911376Z",
     "iopub.status.busy": "2025-07-28T10:43:03.910725Z",
     "iopub.status.idle": "2025-07-28T10:43:03.917880Z",
     "shell.execute_reply": "2025-07-28T10:43:03.916973Z"
    },
    "papermill": {
     "duration": 0.031291,
     "end_time": "2025-07-28T10:43:03.919460",
     "exception": false,
     "start_time": "2025-07-28T10:43:03.888169",
     "status": "completed"
    },
    "tags": []
   },
   "outputs": [],
   "source": [
    "X_train = X_train[keep_mask]"
   ]
  },
  {
   "cell_type": "code",
   "execution_count": 33,
   "id": "b202bb3a",
   "metadata": {
    "execution": {
     "iopub.execute_input": "2025-07-28T10:43:03.963176Z",
     "iopub.status.busy": "2025-07-28T10:43:03.962505Z",
     "iopub.status.idle": "2025-07-28T10:43:03.968645Z",
     "shell.execute_reply": "2025-07-28T10:43:03.967631Z"
    },
    "papermill": {
     "duration": 0.029695,
     "end_time": "2025-07-28T10:43:03.970149",
     "exception": false,
     "start_time": "2025-07-28T10:43:03.940454",
     "status": "completed"
    },
    "tags": []
   },
   "outputs": [],
   "source": [
    "y_train = y_train[keep_mask]"
   ]
  },
  {
   "cell_type": "markdown",
   "id": "493e2ac3",
   "metadata": {
    "papermill": {
     "duration": 0.021022,
     "end_time": "2025-07-28T10:43:04.012986",
     "exception": false,
     "start_time": "2025-07-28T10:43:03.991964",
     "status": "completed"
    },
    "tags": []
   },
   "source": [
    "# Model Training"
   ]
  },
  {
   "cell_type": "code",
   "execution_count": 34,
   "id": "679e1268",
   "metadata": {
    "execution": {
     "iopub.execute_input": "2025-07-28T10:43:04.058751Z",
     "iopub.status.busy": "2025-07-28T10:43:04.058085Z",
     "iopub.status.idle": "2025-07-28T10:43:04.165769Z",
     "shell.execute_reply": "2025-07-28T10:43:04.164809Z"
    },
    "papermill": {
     "duration": 0.133569,
     "end_time": "2025-07-28T10:43:04.167582",
     "exception": false,
     "start_time": "2025-07-28T10:43:04.034013",
     "status": "completed"
    },
    "tags": []
   },
   "outputs": [],
   "source": [
    "from sklearn.linear_model import LogisticRegression\n",
    "from sklearn.ensemble import GradientBoostingClassifier, RandomForestClassifier\n",
    "\n",
    "if (universe[\"model\"] == \"logreg\"):\n",
    "    model = LogisticRegression() #penalty=\"none\") #, solver=\"newton-cg\", max_iter=1) # include random_state=19 ?\n",
    "elif (universe[\"model\"] == \"penalized_logreg\"):\n",
    "    model = LogisticRegression(penalty=\"l2\", C=1.0) #, solver=\"newton-cg\", max_iter=1)\n",
    "elif (universe[\"model\"] == \"rf\"):\n",
    "    model = RandomForestClassifier(n_estimators=100, n_jobs=-1)\n",
    "elif (universe[\"model\"] == \"gbm\"):\n",
    "    model = GradientBoostingClassifier()\n",
    "elif (universe[\"model\"] == \"elasticnet\"):\n",
    "    model = LogisticRegression(penalty = 'elasticnet', solver = 'saga', l1_ratio = 0.5, max_iter=5000) # which solver to use?\n",
    "else:\n",
    "    raise \"Unsupported universe.model\""
   ]
  },
  {
   "cell_type": "code",
   "execution_count": 35,
   "id": "0cc8f744",
   "metadata": {
    "execution": {
     "iopub.execute_input": "2025-07-28T10:43:04.212236Z",
     "iopub.status.busy": "2025-07-28T10:43:04.211757Z",
     "iopub.status.idle": "2025-07-28T10:43:04.218687Z",
     "shell.execute_reply": "2025-07-28T10:43:04.217739Z"
    },
    "papermill": {
     "duration": 0.031364,
     "end_time": "2025-07-28T10:43:04.220458",
     "exception": false,
     "start_time": "2025-07-28T10:43:04.189094",
     "status": "completed"
    },
    "tags": []
   },
   "outputs": [],
   "source": [
    "import numpy as np\n",
    "from sklearn.pipeline import Pipeline\n",
    "from sklearn.preprocessing import StandardScaler\n",
    "\n",
    "model = Pipeline([\n",
    "    #(\"continuous_processor\", continuous_processor),\n",
    "    #(\"categorical_preprocessor\", categorical_preprocessor),\n",
    "    (\"scale\", StandardScaler() if universe[\"scale\"] == \"scale\" else None), \n",
    "    (\"model\", model),\n",
    "])"
   ]
  },
  {
   "cell_type": "code",
   "execution_count": 36,
   "id": "9442c04d",
   "metadata": {
    "execution": {
     "iopub.execute_input": "2025-07-28T10:43:04.265353Z",
     "iopub.status.busy": "2025-07-28T10:43:04.264431Z",
     "iopub.status.idle": "2025-07-28T10:43:04.335536Z",
     "shell.execute_reply": "2025-07-28T10:43:04.334560Z"
    },
    "papermill": {
     "duration": 0.094727,
     "end_time": "2025-07-28T10:43:04.337109",
     "exception": false,
     "start_time": "2025-07-28T10:43:04.242382",
     "status": "completed"
    },
    "tags": []
   },
   "outputs": [
    {
     "name": "stderr",
     "output_type": "stream",
     "text": [
      "/dss/dsshome1/0C/ra93lal2/.local/share/virtualenvs/CMA_Fairness_v2-3j10GkSs/lib/python3.10/site-packages/sklearn/linear_model/_logistic.py:444: ConvergenceWarning: lbfgs failed to converge (status=1):\n",
      "STOP: TOTAL NO. of ITERATIONS REACHED LIMIT.\n",
      "\n",
      "Increase the number of iterations (max_iter) or scale the data as shown in:\n",
      "    https://scikit-learn.org/stable/modules/preprocessing.html\n",
      "Please also refer to the documentation for alternative solver options:\n",
      "    https://scikit-learn.org/stable/modules/linear_model.html#logistic-regression\n",
      "  n_iter_i = _check_optimize_result(\n"
     ]
    },
    {
     "data": {
      "text/html": [
       "<style>#sk-container-id-1 {color: black;background-color: white;}#sk-container-id-1 pre{padding: 0;}#sk-container-id-1 div.sk-toggleable {background-color: white;}#sk-container-id-1 label.sk-toggleable__label {cursor: pointer;display: block;width: 100%;margin-bottom: 0;padding: 0.3em;box-sizing: border-box;text-align: center;}#sk-container-id-1 label.sk-toggleable__label-arrow:before {content: \"▸\";float: left;margin-right: 0.25em;color: #696969;}#sk-container-id-1 label.sk-toggleable__label-arrow:hover:before {color: black;}#sk-container-id-1 div.sk-estimator:hover label.sk-toggleable__label-arrow:before {color: black;}#sk-container-id-1 div.sk-toggleable__content {max-height: 0;max-width: 0;overflow: hidden;text-align: left;background-color: #f0f8ff;}#sk-container-id-1 div.sk-toggleable__content pre {margin: 0.2em;color: black;border-radius: 0.25em;background-color: #f0f8ff;}#sk-container-id-1 input.sk-toggleable__control:checked~div.sk-toggleable__content {max-height: 200px;max-width: 100%;overflow: auto;}#sk-container-id-1 input.sk-toggleable__control:checked~label.sk-toggleable__label-arrow:before {content: \"▾\";}#sk-container-id-1 div.sk-estimator input.sk-toggleable__control:checked~label.sk-toggleable__label {background-color: #d4ebff;}#sk-container-id-1 div.sk-label input.sk-toggleable__control:checked~label.sk-toggleable__label {background-color: #d4ebff;}#sk-container-id-1 input.sk-hidden--visually {border: 0;clip: rect(1px 1px 1px 1px);clip: rect(1px, 1px, 1px, 1px);height: 1px;margin: -1px;overflow: hidden;padding: 0;position: absolute;width: 1px;}#sk-container-id-1 div.sk-estimator {font-family: monospace;background-color: #f0f8ff;border: 1px dotted black;border-radius: 0.25em;box-sizing: border-box;margin-bottom: 0.5em;}#sk-container-id-1 div.sk-estimator:hover {background-color: #d4ebff;}#sk-container-id-1 div.sk-parallel-item::after {content: \"\";width: 100%;border-bottom: 1px solid gray;flex-grow: 1;}#sk-container-id-1 div.sk-label:hover label.sk-toggleable__label {background-color: #d4ebff;}#sk-container-id-1 div.sk-serial::before {content: \"\";position: absolute;border-left: 1px solid gray;box-sizing: border-box;top: 0;bottom: 0;left: 50%;z-index: 0;}#sk-container-id-1 div.sk-serial {display: flex;flex-direction: column;align-items: center;background-color: white;padding-right: 0.2em;padding-left: 0.2em;position: relative;}#sk-container-id-1 div.sk-item {position: relative;z-index: 1;}#sk-container-id-1 div.sk-parallel {display: flex;align-items: stretch;justify-content: center;background-color: white;position: relative;}#sk-container-id-1 div.sk-item::before, #sk-container-id-1 div.sk-parallel-item::before {content: \"\";position: absolute;border-left: 1px solid gray;box-sizing: border-box;top: 0;bottom: 0;left: 50%;z-index: -1;}#sk-container-id-1 div.sk-parallel-item {display: flex;flex-direction: column;z-index: 1;position: relative;background-color: white;}#sk-container-id-1 div.sk-parallel-item:first-child::after {align-self: flex-end;width: 50%;}#sk-container-id-1 div.sk-parallel-item:last-child::after {align-self: flex-start;width: 50%;}#sk-container-id-1 div.sk-parallel-item:only-child::after {width: 0;}#sk-container-id-1 div.sk-dashed-wrapped {border: 1px dashed gray;margin: 0 0.4em 0.5em 0.4em;box-sizing: border-box;padding-bottom: 0.4em;background-color: white;}#sk-container-id-1 div.sk-label label {font-family: monospace;font-weight: bold;display: inline-block;line-height: 1.2em;}#sk-container-id-1 div.sk-label-container {text-align: center;}#sk-container-id-1 div.sk-container {/* jupyter's `normalize.less` sets `[hidden] { display: none; }` but bootstrap.min.css set `[hidden] { display: none !important; }` so we also need the `!important` here to be able to override the default hidden behavior on the sphinx rendered scikit-learn.org. See: https://github.com/scikit-learn/scikit-learn/issues/21755 */display: inline-block !important;position: relative;}#sk-container-id-1 div.sk-text-repr-fallback {display: none;}</style><div id=\"sk-container-id-1\" class=\"sk-top-container\"><div class=\"sk-text-repr-fallback\"><pre>Pipeline(steps=[(&#x27;scale&#x27;, StandardScaler()), (&#x27;model&#x27;, LogisticRegression())])</pre><b>In a Jupyter environment, please rerun this cell to show the HTML representation or trust the notebook. <br />On GitHub, the HTML representation is unable to render, please try loading this page with nbviewer.org.</b></div><div class=\"sk-container\" hidden><div class=\"sk-item sk-dashed-wrapped\"><div class=\"sk-label-container\"><div class=\"sk-label sk-toggleable\"><input class=\"sk-toggleable__control sk-hidden--visually\" id=\"sk-estimator-id-1\" type=\"checkbox\" ><label for=\"sk-estimator-id-1\" class=\"sk-toggleable__label sk-toggleable__label-arrow\">Pipeline</label><div class=\"sk-toggleable__content\"><pre>Pipeline(steps=[(&#x27;scale&#x27;, StandardScaler()), (&#x27;model&#x27;, LogisticRegression())])</pre></div></div></div><div class=\"sk-serial\"><div class=\"sk-item\"><div class=\"sk-estimator sk-toggleable\"><input class=\"sk-toggleable__control sk-hidden--visually\" id=\"sk-estimator-id-2\" type=\"checkbox\" ><label for=\"sk-estimator-id-2\" class=\"sk-toggleable__label sk-toggleable__label-arrow\">StandardScaler</label><div class=\"sk-toggleable__content\"><pre>StandardScaler()</pre></div></div></div><div class=\"sk-item\"><div class=\"sk-estimator sk-toggleable\"><input class=\"sk-toggleable__control sk-hidden--visually\" id=\"sk-estimator-id-3\" type=\"checkbox\" ><label for=\"sk-estimator-id-3\" class=\"sk-toggleable__label sk-toggleable__label-arrow\">LogisticRegression</label><div class=\"sk-toggleable__content\"><pre>LogisticRegression()</pre></div></div></div></div></div></div></div>"
      ],
      "text/plain": [
       "Pipeline(steps=[('scale', StandardScaler()), ('model', LogisticRegression())])"
      ]
     },
     "execution_count": 36,
     "metadata": {},
     "output_type": "execute_result"
    }
   ],
   "source": [
    "model.fit(X_train, y_train.values.ravel())"
   ]
  },
  {
   "cell_type": "code",
   "execution_count": 37,
   "id": "af59f8c0",
   "metadata": {
    "execution": {
     "iopub.execute_input": "2025-07-28T10:43:04.381761Z",
     "iopub.status.busy": "2025-07-28T10:43:04.381235Z",
     "iopub.status.idle": "2025-07-28T10:43:04.386708Z",
     "shell.execute_reply": "2025-07-28T10:43:04.385691Z"
    },
    "papermill": {
     "duration": 0.029378,
     "end_time": "2025-07-28T10:43:04.388237",
     "exception": false,
     "start_time": "2025-07-28T10:43:04.358859",
     "status": "completed"
    },
    "tags": []
   },
   "outputs": [],
   "source": [
    "from fairness_multiverse.universe import predict_w_threshold"
   ]
  },
  {
   "cell_type": "code",
   "execution_count": 38,
   "id": "a7cf2e16",
   "metadata": {
    "execution": {
     "iopub.execute_input": "2025-07-28T10:43:04.433488Z",
     "iopub.status.busy": "2025-07-28T10:43:04.432754Z",
     "iopub.status.idle": "2025-07-28T10:43:04.632825Z",
     "shell.execute_reply": "2025-07-28T10:43:04.631829Z"
    },
    "papermill": {
     "duration": 0.224986,
     "end_time": "2025-07-28T10:43:04.634671",
     "exception": false,
     "start_time": "2025-07-28T10:43:04.409685",
     "status": "completed"
    },
    "tags": []
   },
   "outputs": [
    {
     "data": {
      "text/plain": [
       "0.8157284583658455"
      ]
     },
     "execution_count": 38,
     "metadata": {},
     "output_type": "execute_result"
    }
   ],
   "source": [
    "probs_test = model.predict_proba(X_test)\n",
    "\n",
    "'''\n",
    "Below code returns a boolean array (or binary 0/1 array depending on how it’s used) where each element \n",
    "is True if the probability of class 1 is greater than or equal to the threshold, and False otherwise.\n",
    "'''\n",
    "y_pred_default = predict_w_threshold(probs_test, 0.5)\n",
    "\n",
    "from sklearn.metrics import accuracy_score\n",
    "\n",
    "# Naive prediction\n",
    "accuracy_score(y_true = y_true, y_pred = y_pred_default)"
   ]
  },
  {
   "cell_type": "code",
   "execution_count": 39,
   "id": "081964c3",
   "metadata": {
    "execution": {
     "iopub.execute_input": "2025-07-28T10:43:04.680021Z",
     "iopub.status.busy": "2025-07-28T10:43:04.679315Z",
     "iopub.status.idle": "2025-07-28T10:43:04.866700Z",
     "shell.execute_reply": "2025-07-28T10:43:04.865723Z"
    },
    "papermill": {
     "duration": 0.211264,
     "end_time": "2025-07-28T10:43:04.868495",
     "exception": false,
     "start_time": "2025-07-28T10:43:04.657231",
     "status": "completed"
    },
    "tags": []
   },
   "outputs": [
    {
     "data": {
      "text/plain": [
       "array([0, 0, 0, ..., 0, 0, 0])"
      ]
     },
     "execution_count": 39,
     "metadata": {},
     "output_type": "execute_result"
    }
   ],
   "source": [
    "model.predict(X_test)"
   ]
  },
  {
   "cell_type": "markdown",
   "id": "56c9705b",
   "metadata": {
    "papermill": {
     "duration": 0.021858,
     "end_time": "2025-07-28T10:43:04.912762",
     "exception": false,
     "start_time": "2025-07-28T10:43:04.890904",
     "status": "completed"
    },
    "tags": []
   },
   "source": [
    "# Conformal Prediction"
   ]
  },
  {
   "cell_type": "code",
   "execution_count": 40,
   "id": "160ec6ff",
   "metadata": {
    "execution": {
     "iopub.execute_input": "2025-07-28T10:43:04.958045Z",
     "iopub.status.busy": "2025-07-28T10:43:04.957191Z",
     "iopub.status.idle": "2025-07-28T10:43:04.963015Z",
     "shell.execute_reply": "2025-07-28T10:43:04.961863Z"
    },
    "papermill": {
     "duration": 0.030491,
     "end_time": "2025-07-28T10:43:04.964693",
     "exception": false,
     "start_time": "2025-07-28T10:43:04.934202",
     "status": "completed"
    },
    "tags": []
   },
   "outputs": [],
   "source": [
    "# Miscoverage level for conformal prediction (10% allowed error rate => 90% target coverage)\n",
    "alpha = 0.1"
   ]
  },
  {
   "cell_type": "code",
   "execution_count": 41,
   "id": "eadf4555-3dd3-440e-8e35-f82a4ad9f855",
   "metadata": {
    "execution": {
     "iopub.execute_input": "2025-07-28T10:43:05.010666Z",
     "iopub.status.busy": "2025-07-28T10:43:05.010172Z",
     "iopub.status.idle": "2025-07-28T10:43:05.185666Z",
     "shell.execute_reply": "2025-07-28T10:43:05.184801Z"
    },
    "papermill": {
     "duration": 0.200214,
     "end_time": "2025-07-28T10:43:05.187557",
     "exception": false,
     "start_time": "2025-07-28T10:43:04.987343",
     "status": "completed"
    },
    "tags": []
   },
   "outputs": [],
   "source": [
    "probs_calib = model.predict_proba(X_calib)"
   ]
  },
  {
   "cell_type": "code",
   "execution_count": 42,
   "id": "2ed93547-6d5d-4983-9b36-1ecb300da49a",
   "metadata": {
    "execution": {
     "iopub.execute_input": "2025-07-28T10:43:05.234620Z",
     "iopub.status.busy": "2025-07-28T10:43:05.233881Z",
     "iopub.status.idle": "2025-07-28T10:43:05.240572Z",
     "shell.execute_reply": "2025-07-28T10:43:05.239532Z"
    },
    "papermill": {
     "duration": 0.032123,
     "end_time": "2025-07-28T10:43:05.242343",
     "exception": false,
     "start_time": "2025-07-28T10:43:05.210220",
     "status": "completed"
    },
    "tags": []
   },
   "outputs": [],
   "source": [
    "y_calib = y_calib.values.ravel().astype(int)"
   ]
  },
  {
   "cell_type": "code",
   "execution_count": 43,
   "id": "65d1320d-f588-4b38-9072-62af1ae97f7d",
   "metadata": {
    "execution": {
     "iopub.execute_input": "2025-07-28T10:43:05.290294Z",
     "iopub.status.busy": "2025-07-28T10:43:05.289433Z",
     "iopub.status.idle": "2025-07-28T10:43:05.297694Z",
     "shell.execute_reply": "2025-07-28T10:43:05.296657Z"
    },
    "papermill": {
     "duration": 0.034106,
     "end_time": "2025-07-28T10:43:05.299319",
     "exception": false,
     "start_time": "2025-07-28T10:43:05.265213",
     "status": "completed"
    },
    "tags": []
   },
   "outputs": [],
   "source": [
    "from fairness_multiverse.conformal import compute_nc_scores\n",
    "\n",
    "# Compute nonconformity scores on calibration set (1 - probability of true class)\n",
    "nc_scores = compute_nc_scores(probs_calib, y_calib)"
   ]
  },
  {
   "cell_type": "code",
   "execution_count": 44,
   "id": "df3b8ca3-53b7-43d5-9667-7c85da7aeda2",
   "metadata": {
    "execution": {
     "iopub.execute_input": "2025-07-28T10:43:05.347366Z",
     "iopub.status.busy": "2025-07-28T10:43:05.346907Z",
     "iopub.status.idle": "2025-07-28T10:43:05.353853Z",
     "shell.execute_reply": "2025-07-28T10:43:05.352897Z"
    },
    "papermill": {
     "duration": 0.032672,
     "end_time": "2025-07-28T10:43:05.355595",
     "exception": false,
     "start_time": "2025-07-28T10:43:05.322923",
     "status": "completed"
    },
    "tags": []
   },
   "outputs": [],
   "source": [
    "from fairness_multiverse.conformal import find_threshold\n",
    "\n",
    "# Find conformal threshold q_hat for the given alpha (split conformal method)\n",
    "q_hat = find_threshold(nc_scores, alpha)"
   ]
  },
  {
   "cell_type": "code",
   "execution_count": 45,
   "id": "4d29e6c1-0ef6-4aa4-b8fe-4fe79b0d033a",
   "metadata": {
    "execution": {
     "iopub.execute_input": "2025-07-28T10:43:05.409746Z",
     "iopub.status.busy": "2025-07-28T10:43:05.409276Z",
     "iopub.status.idle": "2025-07-28T10:43:05.417142Z",
     "shell.execute_reply": "2025-07-28T10:43:05.416168Z"
    },
    "papermill": {
     "duration": 0.036666,
     "end_time": "2025-07-28T10:43:05.418825",
     "exception": false,
     "start_time": "2025-07-28T10:43:05.382159",
     "status": "completed"
    },
    "tags": []
   },
   "outputs": [
    {
     "data": {
      "text/plain": [
       "0.7762589703718816"
      ]
     },
     "execution_count": 45,
     "metadata": {},
     "output_type": "execute_result"
    }
   ],
   "source": [
    "q_hat"
   ]
  },
  {
   "cell_type": "code",
   "execution_count": 46,
   "id": "92460794-cdac-4be2-ba28-f28c0515a6fb",
   "metadata": {
    "execution": {
     "iopub.execute_input": "2025-07-28T10:43:05.466961Z",
     "iopub.status.busy": "2025-07-28T10:43:05.466055Z",
     "iopub.status.idle": "2025-07-28T10:43:06.405100Z",
     "shell.execute_reply": "2025-07-28T10:43:06.404084Z"
    },
    "papermill": {
     "duration": 0.96484,
     "end_time": "2025-07-28T10:43:06.407106",
     "exception": false,
     "start_time": "2025-07-28T10:43:05.442266",
     "status": "completed"
    },
    "tags": []
   },
   "outputs": [],
   "source": [
    "from fairness_multiverse.conformal import predict_conformal_sets\n",
    "\n",
    "# Generate prediction sets for each test example\n",
    "pred_sets = predict_conformal_sets(model, X_test, q_hat)"
   ]
  },
  {
   "cell_type": "code",
   "execution_count": 47,
   "id": "d90c9a65-e6db-4f5d-80cd-e68fb7e46829",
   "metadata": {
    "execution": {
     "iopub.execute_input": "2025-07-28T10:43:06.461092Z",
     "iopub.status.busy": "2025-07-28T10:43:06.460372Z",
     "iopub.status.idle": "2025-07-28T10:43:06.466198Z",
     "shell.execute_reply": "2025-07-28T10:43:06.465156Z"
    },
    "papermill": {
     "duration": 0.034531,
     "end_time": "2025-07-28T10:43:06.467944",
     "exception": false,
     "start_time": "2025-07-28T10:43:06.433413",
     "status": "completed"
    },
    "tags": []
   },
   "outputs": [],
   "source": [
    "y_true = y_true.squeeze()"
   ]
  },
  {
   "cell_type": "code",
   "execution_count": 48,
   "id": "3a58a54a-1e68-46b9-927a-df01f18aebc8",
   "metadata": {
    "execution": {
     "iopub.execute_input": "2025-07-28T10:43:06.520944Z",
     "iopub.status.busy": "2025-07-28T10:43:06.520074Z",
     "iopub.status.idle": "2025-07-28T10:43:07.601536Z",
     "shell.execute_reply": "2025-07-28T10:43:07.600515Z"
    },
    "papermill": {
     "duration": 1.110619,
     "end_time": "2025-07-28T10:43:07.603609",
     "exception": false,
     "start_time": "2025-07-28T10:43:06.492990",
     "status": "completed"
    },
    "tags": []
   },
   "outputs": [],
   "source": [
    "from fairness_multiverse.conformal import evaluate_sets\n",
    "\n",
    "# Evaluate coverage and average set size on test data\n",
    "metrics = evaluate_sets(pred_sets, y_true)"
   ]
  },
  {
   "cell_type": "markdown",
   "id": "2b569c12-9aaa-4c88-98c9-bbcd0cf3ebb8",
   "metadata": {
    "papermill": {
     "duration": 0.025038,
     "end_time": "2025-07-28T10:43:07.656568",
     "exception": false,
     "start_time": "2025-07-28T10:43:07.631530",
     "status": "completed"
    },
    "tags": []
   },
   "source": [
    "# CP Metrics"
   ]
  },
  {
   "cell_type": "code",
   "execution_count": 49,
   "id": "5ce0a5cb-201f-45a0-ade5-94c7f0bd6095",
   "metadata": {
    "execution": {
     "iopub.execute_input": "2025-07-28T10:43:07.709096Z",
     "iopub.status.busy": "2025-07-28T10:43:07.708271Z",
     "iopub.status.idle": "2025-07-28T10:43:07.716023Z",
     "shell.execute_reply": "2025-07-28T10:43:07.715102Z"
    },
    "papermill": {
     "duration": 0.036093,
     "end_time": "2025-07-28T10:43:07.717776",
     "exception": false,
     "start_time": "2025-07-28T10:43:07.681683",
     "status": "completed"
    },
    "tags": []
   },
   "outputs": [
    {
     "data": {
      "text/plain": [
       "{'coverage': 0.9069668933229295, 'avg_size': 1.2526697135213465}"
      ]
     },
     "execution_count": 49,
     "metadata": {},
     "output_type": "execute_result"
    }
   ],
   "source": [
    "metrics"
   ]
  },
  {
   "cell_type": "code",
   "execution_count": 50,
   "id": "9b9a838d-31c9-430b-ae14-12baee460d17",
   "metadata": {
    "execution": {
     "iopub.execute_input": "2025-07-28T10:43:07.765952Z",
     "iopub.status.busy": "2025-07-28T10:43:07.765424Z",
     "iopub.status.idle": "2025-07-28T10:43:07.772239Z",
     "shell.execute_reply": "2025-07-28T10:43:07.771049Z"
    },
    "papermill": {
     "duration": 0.0334,
     "end_time": "2025-07-28T10:43:07.774094",
     "exception": false,
     "start_time": "2025-07-28T10:43:07.740694",
     "status": "completed"
    },
    "tags": []
   },
   "outputs": [],
   "source": [
    "example_universe = universe.copy()\n",
    "universe_training_size = example_universe.get(\"training_size\")\n",
    "universe_scale = example_universe.get(\"scale\")\n",
    "universe_model = example_universe.get(\"model\")\n",
    "universe_exclude_features = example_universe.get(\"exclude_features\")\n",
    "universe_exclude_subgroups = example_universe.get(\"exclude_subgroups\")"
   ]
  },
  {
   "cell_type": "code",
   "execution_count": 51,
   "id": "f4b6a8ac-9dc0-4245-8a91-5b3b5999c4f9",
   "metadata": {
    "execution": {
     "iopub.execute_input": "2025-07-28T10:43:07.829541Z",
     "iopub.status.busy": "2025-07-28T10:43:07.828988Z",
     "iopub.status.idle": "2025-07-28T10:43:07.836226Z",
     "shell.execute_reply": "2025-07-28T10:43:07.834848Z"
    },
    "papermill": {
     "duration": 0.036969,
     "end_time": "2025-07-28T10:43:07.839454",
     "exception": false,
     "start_time": "2025-07-28T10:43:07.802485",
     "status": "completed"
    },
    "tags": []
   },
   "outputs": [],
   "source": [
    "cp_metrics_dict = {\n",
    "    \"universe_id\": [universe_id],\n",
    "    \"universe_training_size\": [universe_training_size],\n",
    "    \"universe_scale\": [universe_scale],\n",
    "    \"universe_model\": [universe_model],\n",
    "    \"universe_exclude_features\": [universe_exclude_features],\n",
    "    \"universe_exclude_subgroups\": [universe_exclude_subgroups],\n",
    "    \"q_hat\": [q_hat],\n",
    "    \"coverage\": [metrics[\"coverage\"]],\n",
    "    \"avg_size\": [metrics[\"avg_size\"]],\n",
    "}"
   ]
  },
  {
   "cell_type": "code",
   "execution_count": 52,
   "id": "908acbb1-0371-4915-85ca-3fa520d2efe2",
   "metadata": {
    "execution": {
     "iopub.execute_input": "2025-07-28T10:43:07.890589Z",
     "iopub.status.busy": "2025-07-28T10:43:07.889703Z",
     "iopub.status.idle": "2025-07-28T10:43:07.897861Z",
     "shell.execute_reply": "2025-07-28T10:43:07.896714Z"
    },
    "papermill": {
     "duration": 0.035383,
     "end_time": "2025-07-28T10:43:07.899400",
     "exception": false,
     "start_time": "2025-07-28T10:43:07.864017",
     "status": "completed"
    },
    "tags": []
   },
   "outputs": [
    {
     "data": {
      "text/plain": [
       "{'universe_id': ['bc4e444980486348629bb14db72f54c4'],\n",
       " 'universe_training_size': ['1k'],\n",
       " 'universe_scale': ['scale'],\n",
       " 'universe_model': ['logreg'],\n",
       " 'universe_exclude_features': ['age'],\n",
       " 'universe_exclude_subgroups': ['keep-all'],\n",
       " 'q_hat': [0.7762589703718816],\n",
       " 'coverage': [0.9069668933229295],\n",
       " 'avg_size': [1.2526697135213465]}"
      ]
     },
     "execution_count": 52,
     "metadata": {},
     "output_type": "execute_result"
    }
   ],
   "source": [
    "cp_metrics_dict"
   ]
  },
  {
   "cell_type": "code",
   "execution_count": 53,
   "id": "33007efc-14e9-4ec6-97ac-56a455c82265",
   "metadata": {
    "execution": {
     "iopub.execute_input": "2025-07-28T10:43:07.951744Z",
     "iopub.status.busy": "2025-07-28T10:43:07.951246Z",
     "iopub.status.idle": "2025-07-28T10:43:07.958088Z",
     "shell.execute_reply": "2025-07-28T10:43:07.957063Z"
    },
    "papermill": {
     "duration": 0.035147,
     "end_time": "2025-07-28T10:43:07.959883",
     "exception": false,
     "start_time": "2025-07-28T10:43:07.924736",
     "status": "completed"
    },
    "tags": []
   },
   "outputs": [],
   "source": [
    "cp_metrics_df = pd.DataFrame(cp_metrics_dict)"
   ]
  },
  {
   "cell_type": "code",
   "execution_count": 54,
   "id": "db12611b-57b2-4910-b9d0-355adfd6e7bf",
   "metadata": {
    "execution": {
     "iopub.execute_input": "2025-07-28T10:43:08.012841Z",
     "iopub.status.busy": "2025-07-28T10:43:08.012218Z",
     "iopub.status.idle": "2025-07-28T10:43:08.029226Z",
     "shell.execute_reply": "2025-07-28T10:43:08.028305Z"
    },
    "papermill": {
     "duration": 0.044488,
     "end_time": "2025-07-28T10:43:08.031068",
     "exception": false,
     "start_time": "2025-07-28T10:43:07.986580",
     "status": "completed"
    },
    "tags": []
   },
   "outputs": [
    {
     "data": {
      "text/html": [
       "<div>\n",
       "<style scoped>\n",
       "    .dataframe tbody tr th:only-of-type {\n",
       "        vertical-align: middle;\n",
       "    }\n",
       "\n",
       "    .dataframe tbody tr th {\n",
       "        vertical-align: top;\n",
       "    }\n",
       "\n",
       "    .dataframe thead th {\n",
       "        text-align: right;\n",
       "    }\n",
       "</style>\n",
       "<table border=\"1\" class=\"dataframe\">\n",
       "  <thead>\n",
       "    <tr style=\"text-align: right;\">\n",
       "      <th></th>\n",
       "      <th>universe_id</th>\n",
       "      <th>universe_training_size</th>\n",
       "      <th>universe_scale</th>\n",
       "      <th>universe_model</th>\n",
       "      <th>universe_exclude_features</th>\n",
       "      <th>universe_exclude_subgroups</th>\n",
       "      <th>q_hat</th>\n",
       "      <th>coverage</th>\n",
       "      <th>avg_size</th>\n",
       "    </tr>\n",
       "  </thead>\n",
       "  <tbody>\n",
       "    <tr>\n",
       "      <th>0</th>\n",
       "      <td>bc4e444980486348629bb14db72f54c4</td>\n",
       "      <td>1k</td>\n",
       "      <td>scale</td>\n",
       "      <td>logreg</td>\n",
       "      <td>age</td>\n",
       "      <td>keep-all</td>\n",
       "      <td>0.776259</td>\n",
       "      <td>0.906967</td>\n",
       "      <td>1.25267</td>\n",
       "    </tr>\n",
       "  </tbody>\n",
       "</table>\n",
       "</div>"
      ],
      "text/plain": [
       "                        universe_id universe_training_size universe_scale  \\\n",
       "0  bc4e444980486348629bb14db72f54c4                     1k          scale   \n",
       "\n",
       "  universe_model universe_exclude_features universe_exclude_subgroups  \\\n",
       "0         logreg                       age                   keep-all   \n",
       "\n",
       "      q_hat  coverage  avg_size  \n",
       "0  0.776259  0.906967   1.25267  "
      ]
     },
     "execution_count": 54,
     "metadata": {},
     "output_type": "execute_result"
    }
   ],
   "source": [
    "cp_metrics_df"
   ]
  },
  {
   "cell_type": "code",
   "execution_count": 55,
   "id": "b7fbde55-a0a1-47e4-9af6-fe4a17fa8c61",
   "metadata": {
    "execution": {
     "iopub.execute_input": "2025-07-28T10:43:08.092009Z",
     "iopub.status.busy": "2025-07-28T10:43:08.090941Z",
     "iopub.status.idle": "2025-07-28T10:43:08.097587Z",
     "shell.execute_reply": "2025-07-28T10:43:08.096453Z"
    },
    "papermill": {
     "duration": 0.039057,
     "end_time": "2025-07-28T10:43:08.099291",
     "exception": false,
     "start_time": "2025-07-28T10:43:08.060234",
     "status": "completed"
    },
    "tags": []
   },
   "outputs": [],
   "source": [
    "# Conditional Coverage & looking at subgroups"
   ]
  },
  {
   "cell_type": "code",
   "execution_count": 56,
   "id": "027ae886-68dd-4141-96c7-805a5450e1ef",
   "metadata": {
    "execution": {
     "iopub.execute_input": "2025-07-28T10:43:08.140894Z",
     "iopub.status.busy": "2025-07-28T10:43:08.140350Z",
     "iopub.status.idle": "2025-07-28T10:43:08.438599Z",
     "shell.execute_reply": "2025-07-28T10:43:08.437481Z"
    },
    "papermill": {
     "duration": 0.326939,
     "end_time": "2025-07-28T10:43:08.440923",
     "exception": false,
     "start_time": "2025-07-28T10:43:08.113984",
     "status": "completed"
    },
    "tags": []
   },
   "outputs": [],
   "source": [
    "from fairness_multiverse.conformal import build_cp_groups\n",
    "\n",
    "cp_groups_df = build_cp_groups(pred_sets, y_true, X_test.index, org_test)\n",
    "#needs universe_id and setting"
   ]
  },
  {
   "cell_type": "code",
   "execution_count": 57,
   "id": "01d5802c-663a-4d1f-9d69-e036faaffbf7",
   "metadata": {
    "execution": {
     "iopub.execute_input": "2025-07-28T10:43:08.494140Z",
     "iopub.status.busy": "2025-07-28T10:43:08.493621Z",
     "iopub.status.idle": "2025-07-28T10:43:08.498755Z",
     "shell.execute_reply": "2025-07-28T10:43:08.497733Z"
    },
    "papermill": {
     "duration": 0.03287,
     "end_time": "2025-07-28T10:43:08.500514",
     "exception": false,
     "start_time": "2025-07-28T10:43:08.467644",
     "status": "completed"
    },
    "tags": []
   },
   "outputs": [],
   "source": [
    "#delete\n",
    "#cp_groups_df"
   ]
  },
  {
   "cell_type": "code",
   "execution_count": 58,
   "id": "fa424af1-d1eb-443d-b717-2d279ada8408",
   "metadata": {
    "execution": {
     "iopub.execute_input": "2025-07-28T10:43:08.551206Z",
     "iopub.status.busy": "2025-07-28T10:43:08.550459Z",
     "iopub.status.idle": "2025-07-28T10:43:08.555587Z",
     "shell.execute_reply": "2025-07-28T10:43:08.554711Z"
    },
    "papermill": {
     "duration": 0.031815,
     "end_time": "2025-07-28T10:43:08.557267",
     "exception": false,
     "start_time": "2025-07-28T10:43:08.525452",
     "status": "completed"
    },
    "tags": []
   },
   "outputs": [],
   "source": [
    "#delete\n",
    "#percentage = (cp_groups_df['nongerman_female'] == 1).mean() * 100\n",
    "#print(percentage)\n"
   ]
  },
  {
   "cell_type": "code",
   "execution_count": 59,
   "id": "6cbdab96-b2b2-45af-ad54-d0516db2e28d",
   "metadata": {
    "execution": {
     "iopub.execute_input": "2025-07-28T10:43:08.586255Z",
     "iopub.status.busy": "2025-07-28T10:43:08.585750Z",
     "iopub.status.idle": "2025-07-28T10:43:10.115436Z",
     "shell.execute_reply": "2025-07-28T10:43:10.114310Z"
    },
    "papermill": {
     "duration": 1.546427,
     "end_time": "2025-07-28T10:43:10.117599",
     "exception": false,
     "start_time": "2025-07-28T10:43:08.571172",
     "status": "completed"
    },
    "tags": []
   },
   "outputs": [],
   "source": [
    "# Define covered = 1 if true_label is in the predicted set\n",
    "cp_groups_df['covered'] = cp_groups_df.apply(\n",
    "    lambda r: int(r['true_label'] in r['pred_set']),\n",
    "    axis=1\n",
    ")"
   ]
  },
  {
   "cell_type": "code",
   "execution_count": 60,
   "id": "338ff529-1a6b-4b87-a931-8e4788d52aad",
   "metadata": {
    "execution": {
     "iopub.execute_input": "2025-07-28T10:43:10.175983Z",
     "iopub.status.busy": "2025-07-28T10:43:10.175452Z",
     "iopub.status.idle": "2025-07-28T10:43:10.180563Z",
     "shell.execute_reply": "2025-07-28T10:43:10.179642Z"
    },
    "papermill": {
     "duration": 0.03595,
     "end_time": "2025-07-28T10:43:10.182317",
     "exception": false,
     "start_time": "2025-07-28T10:43:10.146367",
     "status": "completed"
    },
    "tags": []
   },
   "outputs": [],
   "source": [
    "#cp_groups_df"
   ]
  },
  {
   "cell_type": "code",
   "execution_count": 61,
   "id": "90032e27-66df-4540-9169-4e89cfbaa758",
   "metadata": {
    "execution": {
     "iopub.execute_input": "2025-07-28T10:43:10.237611Z",
     "iopub.status.busy": "2025-07-28T10:43:10.236931Z",
     "iopub.status.idle": "2025-07-28T10:43:10.249476Z",
     "shell.execute_reply": "2025-07-28T10:43:10.248293Z"
    },
    "papermill": {
     "duration": 0.042077,
     "end_time": "2025-07-28T10:43:10.251307",
     "exception": false,
     "start_time": "2025-07-28T10:43:10.209230",
     "status": "completed"
    },
    "tags": []
   },
   "outputs": [],
   "source": [
    "subgroups = ['frau1','nongerman','nongerman_male','nongerman_female']\n",
    "\n",
    "# Conditional coverage for subgroup==1\n",
    "cond_coverage = {\n",
    "    g: cp_groups_df.loc[cp_groups_df[g]==1, 'covered'].mean()\n",
    "    for g in subgroups\n",
    "}"
   ]
  },
  {
   "cell_type": "code",
   "execution_count": 62,
   "id": "1e348fb1-b9c3-45bc-ba23-f016827a7e0d",
   "metadata": {
    "execution": {
     "iopub.execute_input": "2025-07-28T10:43:10.305519Z",
     "iopub.status.busy": "2025-07-28T10:43:10.305016Z",
     "iopub.status.idle": "2025-07-28T10:43:10.313605Z",
     "shell.execute_reply": "2025-07-28T10:43:10.312569Z"
    },
    "papermill": {
     "duration": 0.037331,
     "end_time": "2025-07-28T10:43:10.315532",
     "exception": false,
     "start_time": "2025-07-28T10:43:10.278201",
     "status": "completed"
    },
    "tags": []
   },
   "outputs": [
    {
     "data": {
      "text/plain": [
       "{'frau1': 0.9078582019140046,\n",
       " 'nongerman': 0.9150620333464324,\n",
       " 'nongerman_male': 0.9289381248311267,\n",
       " 'nongerman_female': 0.8921013412816692}"
      ]
     },
     "execution_count": 62,
     "metadata": {},
     "output_type": "execute_result"
    }
   ],
   "source": [
    "cond_coverage"
   ]
  },
  {
   "cell_type": "code",
   "execution_count": 63,
   "id": "f5093324-c3dd-4d63-bc4c-8d945e5c8bbb",
   "metadata": {
    "execution": {
     "iopub.execute_input": "2025-07-28T10:43:10.371831Z",
     "iopub.status.busy": "2025-07-28T10:43:10.371321Z",
     "iopub.status.idle": "2025-07-28T10:43:10.379720Z",
     "shell.execute_reply": "2025-07-28T10:43:10.378773Z"
    },
    "papermill": {
     "duration": 0.038539,
     "end_time": "2025-07-28T10:43:10.381596",
     "exception": false,
     "start_time": "2025-07-28T10:43:10.343057",
     "status": "completed"
    },
    "tags": []
   },
   "outputs": [],
   "source": [
    "for subgroup, cov in cond_coverage.items():\n",
    "    cp_metrics_df[f\"cov_{subgroup}\"] = cov"
   ]
  },
  {
   "cell_type": "code",
   "execution_count": 64,
   "id": "6e872e10-dbe5-49e8-b554-5030c98ff75d",
   "metadata": {
    "execution": {
     "iopub.execute_input": "2025-07-28T10:43:10.437933Z",
     "iopub.status.busy": "2025-07-28T10:43:10.437308Z",
     "iopub.status.idle": "2025-07-28T10:43:10.463492Z",
     "shell.execute_reply": "2025-07-28T10:43:10.462086Z"
    },
    "papermill": {
     "duration": 0.05694,
     "end_time": "2025-07-28T10:43:10.465539",
     "exception": false,
     "start_time": "2025-07-28T10:43:10.408599",
     "status": "completed"
    },
    "tags": []
   },
   "outputs": [
    {
     "data": {
      "text/html": [
       "<div>\n",
       "<style scoped>\n",
       "    .dataframe tbody tr th:only-of-type {\n",
       "        vertical-align: middle;\n",
       "    }\n",
       "\n",
       "    .dataframe tbody tr th {\n",
       "        vertical-align: top;\n",
       "    }\n",
       "\n",
       "    .dataframe thead th {\n",
       "        text-align: right;\n",
       "    }\n",
       "</style>\n",
       "<table border=\"1\" class=\"dataframe\">\n",
       "  <thead>\n",
       "    <tr style=\"text-align: right;\">\n",
       "      <th></th>\n",
       "      <th>universe_id</th>\n",
       "      <th>universe_training_size</th>\n",
       "      <th>universe_scale</th>\n",
       "      <th>universe_model</th>\n",
       "      <th>universe_exclude_features</th>\n",
       "      <th>universe_exclude_subgroups</th>\n",
       "      <th>q_hat</th>\n",
       "      <th>coverage</th>\n",
       "      <th>avg_size</th>\n",
       "      <th>cov_frau1</th>\n",
       "      <th>cov_nongerman</th>\n",
       "      <th>cov_nongerman_male</th>\n",
       "      <th>cov_nongerman_female</th>\n",
       "    </tr>\n",
       "  </thead>\n",
       "  <tbody>\n",
       "    <tr>\n",
       "      <th>0</th>\n",
       "      <td>bc4e444980486348629bb14db72f54c4</td>\n",
       "      <td>1k</td>\n",
       "      <td>scale</td>\n",
       "      <td>logreg</td>\n",
       "      <td>age</td>\n",
       "      <td>keep-all</td>\n",
       "      <td>0.776259</td>\n",
       "      <td>0.906967</td>\n",
       "      <td>1.25267</td>\n",
       "      <td>0.907858</td>\n",
       "      <td>0.915062</td>\n",
       "      <td>0.928938</td>\n",
       "      <td>0.892101</td>\n",
       "    </tr>\n",
       "  </tbody>\n",
       "</table>\n",
       "</div>"
      ],
      "text/plain": [
       "                        universe_id universe_training_size universe_scale  \\\n",
       "0  bc4e444980486348629bb14db72f54c4                     1k          scale   \n",
       "\n",
       "  universe_model universe_exclude_features universe_exclude_subgroups  \\\n",
       "0         logreg                       age                   keep-all   \n",
       "\n",
       "      q_hat  coverage  avg_size  cov_frau1  cov_nongerman  cov_nongerman_male  \\\n",
       "0  0.776259  0.906967   1.25267   0.907858       0.915062            0.928938   \n",
       "\n",
       "   cov_nongerman_female  \n",
       "0              0.892101  "
      ]
     },
     "execution_count": 64,
     "metadata": {},
     "output_type": "execute_result"
    }
   ],
   "source": [
    "cp_metrics_df"
   ]
  },
  {
   "cell_type": "markdown",
   "id": "33774451",
   "metadata": {
    "papermill": {
     "duration": 0.026746,
     "end_time": "2025-07-28T10:43:10.519626",
     "exception": false,
     "start_time": "2025-07-28T10:43:10.492880",
     "status": "completed"
    },
    "tags": []
   },
   "source": [
    "# (Fairness) Metrics"
   ]
  },
  {
   "cell_type": "code",
   "execution_count": 65,
   "id": "debc5d62",
   "metadata": {
    "execution": {
     "iopub.execute_input": "2025-07-28T10:43:10.576779Z",
     "iopub.status.busy": "2025-07-28T10:43:10.576269Z",
     "iopub.status.idle": "2025-07-28T10:43:10.599947Z",
     "shell.execute_reply": "2025-07-28T10:43:10.598911Z"
    },
    "papermill": {
     "duration": 0.055512,
     "end_time": "2025-07-28T10:43:10.602303",
     "exception": false,
     "start_time": "2025-07-28T10:43:10.546791",
     "status": "completed"
    },
    "tags": []
   },
   "outputs": [],
   "source": [
    "# do I need to include maxdeutsch1.missing?\n",
    "\n",
    "import numpy as np\n",
    "\n",
    "colname_to_bin = \"maxdeutsch1\"\n",
    "majority_value = org_train[colname_to_bin].mode()[0]\n",
    "\n",
    "org_test[\"majmin\"] = np.where(org_test[colname_to_bin] == majority_value, \"majority\", \"minority\")"
   ]
  },
  {
   "cell_type": "code",
   "execution_count": 66,
   "id": "06a50de5",
   "metadata": {
    "execution": {
     "iopub.execute_input": "2025-07-28T10:43:10.660154Z",
     "iopub.status.busy": "2025-07-28T10:43:10.659087Z",
     "iopub.status.idle": "2025-07-28T10:43:12.900022Z",
     "shell.execute_reply": "2025-07-28T10:43:12.899250Z"
    },
    "papermill": {
     "duration": 2.271743,
     "end_time": "2025-07-28T10:43:12.901920",
     "exception": false,
     "start_time": "2025-07-28T10:43:10.630177",
     "status": "completed"
    },
    "tags": []
   },
   "outputs": [],
   "source": [
    "example_universe = universe.copy()\n",
    "example_universe[\"cutoff\"] = example_universe[\"cutoff\"][0]\n",
    "example_universe[\"eval_fairness_grouping\"] = example_universe[\"eval_fairness_grouping\"][0]\n",
    "fairness_dict, metric_frame = universe_analysis.compute_metrics(\n",
    "    example_universe,\n",
    "    y_pred_prob=probs_test,\n",
    "    y_test=y_true,\n",
    "    org_test=org_test,\n",
    ")"
   ]
  },
  {
   "cell_type": "markdown",
   "id": "f95d4e02",
   "metadata": {
    "papermill": {
     "duration": 0.02708,
     "end_time": "2025-07-28T10:43:12.968010",
     "exception": false,
     "start_time": "2025-07-28T10:43:12.940930",
     "status": "completed"
    },
    "tags": []
   },
   "source": [
    "# Overall"
   ]
  },
  {
   "cell_type": "markdown",
   "id": "bdee4871",
   "metadata": {
    "papermill": {
     "duration": 0.027438,
     "end_time": "2025-07-28T10:43:13.022258",
     "exception": false,
     "start_time": "2025-07-28T10:43:12.994820",
     "status": "completed"
    },
    "tags": []
   },
   "source": [
    "Fairness\n",
    "Main fairness target: Equalized Odds. Seems to be a better fit than equal opportunity, since we're not only interested in Y = 1. Seems to be a better fit than demographic parity, since we also care about accuracy, not just equal distribution of preds.\n",
    "\n",
    "Pick column for computation of fairness metrics\n",
    "\n",
    "Performance\n",
    "Overall performance measures, most interesting in relation to the measures split by group below"
   ]
  },
  {
   "cell_type": "code",
   "execution_count": 67,
   "id": "c4e067c6",
   "metadata": {
    "execution": {
     "iopub.execute_input": "2025-07-28T10:43:13.080012Z",
     "iopub.status.busy": "2025-07-28T10:43:13.079354Z",
     "iopub.status.idle": "2025-07-28T10:43:13.092219Z",
     "shell.execute_reply": "2025-07-28T10:43:13.090952Z"
    },
    "papermill": {
     "duration": 0.044023,
     "end_time": "2025-07-28T10:43:13.094204",
     "exception": false,
     "start_time": "2025-07-28T10:43:13.050181",
     "status": "completed"
    },
    "tags": []
   },
   "outputs": [
    {
     "data": {
      "text/plain": [
       "accuracy                   0.217869\n",
       "balanced accuracy          0.534082\n",
       "f1                         0.239379\n",
       "precision                  0.136749\n",
       "false positive rate        0.891256\n",
       "false negative rate        0.040580\n",
       "selection rate             0.900000\n",
       "count                  89710.000000\n",
       "dtype: float64"
      ]
     },
     "execution_count": 67,
     "metadata": {},
     "output_type": "execute_result"
    }
   ],
   "source": [
    "metric_frame.overall"
   ]
  },
  {
   "cell_type": "markdown",
   "id": "e968fe9d",
   "metadata": {
    "papermill": {
     "duration": 0.027166,
     "end_time": "2025-07-28T10:43:13.150107",
     "exception": false,
     "start_time": "2025-07-28T10:43:13.122941",
     "status": "completed"
    },
    "tags": []
   },
   "source": [
    "By Group"
   ]
  },
  {
   "cell_type": "code",
   "execution_count": 68,
   "id": "ec325bce",
   "metadata": {
    "execution": {
     "iopub.execute_input": "2025-07-28T10:43:13.207457Z",
     "iopub.status.busy": "2025-07-28T10:43:13.206407Z",
     "iopub.status.idle": "2025-07-28T10:43:13.229444Z",
     "shell.execute_reply": "2025-07-28T10:43:13.228227Z"
    },
    "papermill": {
     "duration": 0.054048,
     "end_time": "2025-07-28T10:43:13.231370",
     "exception": false,
     "start_time": "2025-07-28T10:43:13.177322",
     "status": "completed"
    },
    "tags": []
   },
   "outputs": [
    {
     "data": {
      "text/html": [
       "<div>\n",
       "<style scoped>\n",
       "    .dataframe tbody tr th:only-of-type {\n",
       "        vertical-align: middle;\n",
       "    }\n",
       "\n",
       "    .dataframe tbody tr th {\n",
       "        vertical-align: top;\n",
       "    }\n",
       "\n",
       "    .dataframe thead th {\n",
       "        text-align: right;\n",
       "    }\n",
       "</style>\n",
       "<table border=\"1\" class=\"dataframe\">\n",
       "  <thead>\n",
       "    <tr style=\"text-align: right;\">\n",
       "      <th></th>\n",
       "      <th>accuracy</th>\n",
       "      <th>balanced accuracy</th>\n",
       "      <th>f1</th>\n",
       "      <th>precision</th>\n",
       "      <th>false positive rate</th>\n",
       "      <th>false negative rate</th>\n",
       "      <th>selection rate</th>\n",
       "      <th>count</th>\n",
       "    </tr>\n",
       "    <tr>\n",
       "      <th>majmin</th>\n",
       "      <th></th>\n",
       "      <th></th>\n",
       "      <th></th>\n",
       "      <th></th>\n",
       "      <th></th>\n",
       "      <th></th>\n",
       "      <th></th>\n",
       "      <th></th>\n",
       "    </tr>\n",
       "  </thead>\n",
       "  <tbody>\n",
       "    <tr>\n",
       "      <th>majority</th>\n",
       "      <td>0.232066</td>\n",
       "      <td>0.538928</td>\n",
       "      <td>0.247556</td>\n",
       "      <td>0.142188</td>\n",
       "      <td>0.878161</td>\n",
       "      <td>0.043982</td>\n",
       "      <td>0.888449</td>\n",
       "      <td>69170.0</td>\n",
       "    </tr>\n",
       "    <tr>\n",
       "      <th>minority</th>\n",
       "      <td>0.170058</td>\n",
       "      <td>0.519018</td>\n",
       "      <td>0.212719</td>\n",
       "      <td>0.119419</td>\n",
       "      <td>0.934515</td>\n",
       "      <td>0.027449</td>\n",
       "      <td>0.938900</td>\n",
       "      <td>20540.0</td>\n",
       "    </tr>\n",
       "  </tbody>\n",
       "</table>\n",
       "</div>"
      ],
      "text/plain": [
       "          accuracy  balanced accuracy        f1  precision  \\\n",
       "majmin                                                       \n",
       "majority  0.232066           0.538928  0.247556   0.142188   \n",
       "minority  0.170058           0.519018  0.212719   0.119419   \n",
       "\n",
       "          false positive rate  false negative rate  selection rate    count  \n",
       "majmin                                                                       \n",
       "majority             0.878161             0.043982        0.888449  69170.0  \n",
       "minority             0.934515             0.027449        0.938900  20540.0  "
      ]
     },
     "execution_count": 68,
     "metadata": {},
     "output_type": "execute_result"
    }
   ],
   "source": [
    "metric_frame.by_group"
   ]
  },
  {
   "cell_type": "code",
   "execution_count": 69,
   "id": "a9ddbe63",
   "metadata": {
    "execution": {
     "iopub.execute_input": "2025-07-28T10:43:13.290155Z",
     "iopub.status.busy": "2025-07-28T10:43:13.289043Z",
     "iopub.status.idle": "2025-07-28T10:43:15.785954Z",
     "shell.execute_reply": "2025-07-28T10:43:15.784973Z"
    },
    "papermill": {
     "duration": 2.527665,
     "end_time": "2025-07-28T10:43:15.787673",
     "exception": false,
     "start_time": "2025-07-28T10:43:13.260008",
     "status": "completed"
    },
    "tags": []
   },
   "outputs": [
    {
     "data": {
      "text/plain": [
       "array([[<Axes: title={'center': 'accuracy'}, xlabel='majmin'>,\n",
       "        <Axes: title={'center': 'balanced accuracy'}, xlabel='majmin'>,\n",
       "        <Axes: title={'center': 'f1'}, xlabel='majmin'>],\n",
       "       [<Axes: title={'center': 'precision'}, xlabel='majmin'>,\n",
       "        <Axes: title={'center': 'false positive rate'}, xlabel='majmin'>,\n",
       "        <Axes: title={'center': 'false negative rate'}, xlabel='majmin'>],\n",
       "       [<Axes: title={'center': 'selection rate'}, xlabel='majmin'>,\n",
       "        <Axes: title={'center': 'count'}, xlabel='majmin'>,\n",
       "        <Axes: xlabel='majmin'>]], dtype=object)"
      ]
     },
     "execution_count": 69,
     "metadata": {},
     "output_type": "execute_result"
    },
    {
     "data": {
      "image/png": "[encoded data removed]",
      "text/plain": [
       "<Figure size 1200x800 with 9 Axes>"
      ]
     },
     "metadata": {},
     "output_type": "display_data"
    }
   ],
   "source": [
    "# In a graphic\n",
    "metric_frame.by_group.plot.bar(\n",
    "    subplots=True,\n",
    "    layout=[3, 3],\n",
    "    legend=False,\n",
    "    figsize=[12, 8],\n",
    "    title=\"Show all metrics\",\n",
    ")"
   ]
  },
  {
   "cell_type": "markdown",
   "id": "f57a0bac",
   "metadata": {
    "papermill": {
     "duration": 0.028129,
     "end_time": "2025-07-28T10:43:15.850628",
     "exception": false,
     "start_time": "2025-07-28T10:43:15.822499",
     "status": "completed"
    },
    "tags": []
   },
   "source": [
    "# Final Output"
   ]
  },
  {
   "cell_type": "code",
   "execution_count": 70,
   "id": "96d280a3",
   "metadata": {
    "execution": {
     "iopub.execute_input": "2025-07-28T10:43:15.910255Z",
     "iopub.status.busy": "2025-07-28T10:43:15.909521Z",
     "iopub.status.idle": "2025-07-28T10:43:15.918360Z",
     "shell.execute_reply": "2025-07-28T10:43:15.917510Z"
    },
    "papermill": {
     "duration": 0.040641,
     "end_time": "2025-07-28T10:43:15.920021",
     "exception": false,
     "start_time": "2025-07-28T10:43:15.879380",
     "status": "completed"
    },
    "tags": []
   },
   "outputs": [
    {
     "data": {
      "text/plain": [
       "4"
      ]
     },
     "execution_count": 70,
     "metadata": {},
     "output_type": "execute_result"
    }
   ],
   "source": [
    "sub_universes = universe_analysis.generate_sub_universes()\n",
    "len(sub_universes)"
   ]
  },
  {
   "cell_type": "code",
   "execution_count": 71,
   "id": "92adf7ba",
   "metadata": {
    "execution": {
     "iopub.execute_input": "2025-07-28T10:43:15.980729Z",
     "iopub.status.busy": "2025-07-28T10:43:15.979892Z",
     "iopub.status.idle": "2025-07-28T10:43:15.986772Z",
     "shell.execute_reply": "2025-07-28T10:43:15.985824Z"
    },
    "papermill": {
     "duration": 0.039719,
     "end_time": "2025-07-28T10:43:15.988665",
     "exception": false,
     "start_time": "2025-07-28T10:43:15.948946",
     "status": "completed"
    },
    "tags": []
   },
   "outputs": [],
   "source": [
    "def filter_sub_universe_data(sub_universe, org_test):\n",
    "    # Keep all rows — no filtering\n",
    "    keep_rows_mask = np.ones(org_test.shape[0], dtype=bool)\n",
    "\n",
    "    print(f\"[INFO] Keeping all rows: {keep_rows_mask.sum()} rows retained.\")\n",
    "    return keep_rows_mask"
   ]
  },
  {
   "cell_type": "code",
   "execution_count": 72,
   "id": "4a759155",
   "metadata": {
    "execution": {
     "iopub.execute_input": "2025-07-28T10:43:16.075536Z",
     "iopub.status.busy": "2025-07-28T10:43:16.074531Z",
     "iopub.status.idle": "2025-07-28T10:43:25.245235Z",
     "shell.execute_reply": "2025-07-28T10:43:25.244101Z"
    },
    "papermill": {
     "duration": 9.229502,
     "end_time": "2025-07-28T10:43:25.247313",
     "exception": false,
     "start_time": "2025-07-28T10:43:16.017811",
     "status": "completed"
    },
    "tags": []
   },
   "outputs": [
    {
     "name": "stdout",
     "output_type": "stream",
     "text": [
      "Stopping execution_time clock.\n",
      "[INFO] Keeping all rows: 89710 rows retained.\n"
     ]
    },
    {
     "name": "stdout",
     "output_type": "stream",
     "text": [
      "[INFO] Keeping all rows: 89710 rows retained.\n"
     ]
    },
    {
     "name": "stdout",
     "output_type": "stream",
     "text": [
      "[INFO] Keeping all rows: 89710 rows retained.\n"
     ]
    },
    {
     "name": "stdout",
     "output_type": "stream",
     "text": [
      "[INFO] Keeping all rows: 89710 rows retained.\n"
     ]
    },
    {
     "data": {
      "text/html": [
       "<div>\n",
       "<style scoped>\n",
       "    .dataframe tbody tr th:only-of-type {\n",
       "        vertical-align: middle;\n",
       "    }\n",
       "\n",
       "    .dataframe tbody tr th {\n",
       "        vertical-align: top;\n",
       "    }\n",
       "\n",
       "    .dataframe thead th {\n",
       "        text-align: right;\n",
       "    }\n",
       "</style>\n",
       "<table border=\"1\" class=\"dataframe\">\n",
       "  <thead>\n",
       "    <tr style=\"text-align: right;\">\n",
       "      <th></th>\n",
       "      <th>run_no</th>\n",
       "      <th>universe_id</th>\n",
       "      <th>universe_settings</th>\n",
       "      <th>execution_time</th>\n",
       "      <th>test_size_n</th>\n",
       "      <th>test_size_frac</th>\n",
       "      <th>fair_main_equalized_odds_difference</th>\n",
       "      <th>fair_main_equalized_odds_ratio</th>\n",
       "      <th>fair_main_demographic_parity_difference</th>\n",
       "      <th>fair_main_demographic_parity_ratio</th>\n",
       "      <th>...</th>\n",
       "      <th>perf_grp_precision_0</th>\n",
       "      <th>perf_grp_precision_1</th>\n",
       "      <th>perf_grp_false positive rate_0</th>\n",
       "      <th>perf_grp_false positive rate_1</th>\n",
       "      <th>perf_grp_false negative rate_0</th>\n",
       "      <th>perf_grp_false negative rate_1</th>\n",
       "      <th>perf_grp_selection rate_0</th>\n",
       "      <th>perf_grp_selection rate_1</th>\n",
       "      <th>perf_grp_count_0</th>\n",
       "      <th>perf_grp_count_1</th>\n",
       "    </tr>\n",
       "  </thead>\n",
       "  <tbody>\n",
       "    <tr>\n",
       "      <th>0</th>\n",
       "      <td>11</td>\n",
       "      <td>bc4e444980486348629bb14db72f54c4</td>\n",
       "      <td>{\"cutoff\": \"quantile_0.1\", \"eval_fairness_grou...</td>\n",
       "      <td>26.392344</td>\n",
       "      <td>89710</td>\n",
       "      <td>1.0</td>\n",
       "      <td>0.056354</td>\n",
       "      <td>0.939697</td>\n",
       "      <td>0.050451</td>\n",
       "      <td>0.946266</td>\n",
       "      <td>...</td>\n",
       "      <td>NaN</td>\n",
       "      <td>NaN</td>\n",
       "      <td>NaN</td>\n",
       "      <td>NaN</td>\n",
       "      <td>NaN</td>\n",
       "      <td>NaN</td>\n",
       "      <td>NaN</td>\n",
       "      <td>NaN</td>\n",
       "      <td>NaN</td>\n",
       "      <td>NaN</td>\n",
       "    </tr>\n",
       "    <tr>\n",
       "      <th>0</th>\n",
       "      <td>11</td>\n",
       "      <td>bc4e444980486348629bb14db72f54c4</td>\n",
       "      <td>{\"cutoff\": \"quantile_0.1\", \"eval_fairness_grou...</td>\n",
       "      <td>26.392344</td>\n",
       "      <td>89710</td>\n",
       "      <td>1.0</td>\n",
       "      <td>0.056354</td>\n",
       "      <td>0.939697</td>\n",
       "      <td>0.050451</td>\n",
       "      <td>0.946266</td>\n",
       "      <td>...</td>\n",
       "      <td>0.119419</td>\n",
       "      <td>0.142188</td>\n",
       "      <td>0.934515</td>\n",
       "      <td>0.878161</td>\n",
       "      <td>0.027449</td>\n",
       "      <td>0.043982</td>\n",
       "      <td>0.93890</td>\n",
       "      <td>0.888449</td>\n",
       "      <td>20540.0</td>\n",
       "      <td>69170.0</td>\n",
       "    </tr>\n",
       "    <tr>\n",
       "      <th>0</th>\n",
       "      <td>11</td>\n",
       "      <td>bc4e444980486348629bb14db72f54c4</td>\n",
       "      <td>{\"cutoff\": \"quantile_0.25\", \"eval_fairness_gro...</td>\n",
       "      <td>26.392344</td>\n",
       "      <td>89710</td>\n",
       "      <td>1.0</td>\n",
       "      <td>0.128778</td>\n",
       "      <td>0.856425</td>\n",
       "      <td>0.068692</td>\n",
       "      <td>0.910291</td>\n",
       "      <td>...</td>\n",
       "      <td>NaN</td>\n",
       "      <td>NaN</td>\n",
       "      <td>NaN</td>\n",
       "      <td>NaN</td>\n",
       "      <td>NaN</td>\n",
       "      <td>NaN</td>\n",
       "      <td>NaN</td>\n",
       "      <td>NaN</td>\n",
       "      <td>NaN</td>\n",
       "      <td>NaN</td>\n",
       "    </tr>\n",
       "    <tr>\n",
       "      <th>0</th>\n",
       "      <td>11</td>\n",
       "      <td>bc4e444980486348629bb14db72f54c4</td>\n",
       "      <td>{\"cutoff\": \"quantile_0.25\", \"eval_fairness_gro...</td>\n",
       "      <td>26.392344</td>\n",
       "      <td>89710</td>\n",
       "      <td>1.0</td>\n",
       "      <td>0.128778</td>\n",
       "      <td>0.856425</td>\n",
       "      <td>0.068692</td>\n",
       "      <td>0.910291</td>\n",
       "      <td>...</td>\n",
       "      <td>0.127052</td>\n",
       "      <td>0.154781</td>\n",
       "      <td>0.687761</td>\n",
       "      <td>0.745744</td>\n",
       "      <td>0.231841</td>\n",
       "      <td>0.103063</td>\n",
       "      <td>0.69703</td>\n",
       "      <td>0.765722</td>\n",
       "      <td>20540.0</td>\n",
       "      <td>69170.0</td>\n",
       "    </tr>\n",
       "  </tbody>\n",
       "</table>\n",
       "<p>4 rows × 50 columns</p>\n",
       "</div>"
      ],
      "text/plain": [
       "  run_no                       universe_id  \\\n",
       "0     11  bc4e444980486348629bb14db72f54c4   \n",
       "0     11  bc4e444980486348629bb14db72f54c4   \n",
       "0     11  bc4e444980486348629bb14db72f54c4   \n",
       "0     11  bc4e444980486348629bb14db72f54c4   \n",
       "\n",
       "                                   universe_settings  execution_time  \\\n",
       "0  {\"cutoff\": \"quantile_0.1\", \"eval_fairness_grou...       26.392344   \n",
       "0  {\"cutoff\": \"quantile_0.1\", \"eval_fairness_grou...       26.392344   \n",
       "0  {\"cutoff\": \"quantile_0.25\", \"eval_fairness_gro...       26.392344   \n",
       "0  {\"cutoff\": \"quantile_0.25\", \"eval_fairness_gro...       26.392344   \n",
       "\n",
       "   test_size_n  test_size_frac  fair_main_equalized_odds_difference  \\\n",
       "0        89710             1.0                             0.056354   \n",
       "0        89710             1.0                             0.056354   \n",
       "0        89710             1.0                             0.128778   \n",
       "0        89710             1.0                             0.128778   \n",
       "\n",
       "   fair_main_equalized_odds_ratio  fair_main_demographic_parity_difference  \\\n",
       "0                        0.939697                                 0.050451   \n",
       "0                        0.939697                                 0.050451   \n",
       "0                        0.856425                                 0.068692   \n",
       "0                        0.856425                                 0.068692   \n",
       "\n",
       "   fair_main_demographic_parity_ratio  ...  perf_grp_precision_0  \\\n",
       "0                            0.946266  ...                   NaN   \n",
       "0                            0.946266  ...              0.119419   \n",
       "0                            0.910291  ...                   NaN   \n",
       "0                            0.910291  ...              0.127052   \n",
       "\n",
       "   perf_grp_precision_1  perf_grp_false positive rate_0  \\\n",
       "0                   NaN                             NaN   \n",
       "0              0.142188                        0.934515   \n",
       "0                   NaN                             NaN   \n",
       "0              0.154781                        0.687761   \n",
       "\n",
       "   perf_grp_false positive rate_1  perf_grp_false negative rate_0  \\\n",
       "0                             NaN                             NaN   \n",
       "0                        0.878161                        0.027449   \n",
       "0                             NaN                             NaN   \n",
       "0                        0.745744                        0.231841   \n",
       "\n",
       "   perf_grp_false negative rate_1  perf_grp_selection rate_0  \\\n",
       "0                             NaN                        NaN   \n",
       "0                        0.043982                    0.93890   \n",
       "0                             NaN                        NaN   \n",
       "0                        0.103063                    0.69703   \n",
       "\n",
       "   perf_grp_selection rate_1  perf_grp_count_0  perf_grp_count_1  \n",
       "0                        NaN               NaN               NaN  \n",
       "0                   0.888449           20540.0           69170.0  \n",
       "0                        NaN               NaN               NaN  \n",
       "0                   0.765722           20540.0           69170.0  \n",
       "\n",
       "[4 rows x 50 columns]"
      ]
     },
     "execution_count": 72,
     "metadata": {},
     "output_type": "execute_result"
    }
   ],
   "source": [
    "final_output = universe_analysis.generate_final_output(\n",
    "    y_pred_prob=probs_test,\n",
    "    y_test=y_true,\n",
    "    org_test=org_test,\n",
    "    filter_data=filter_sub_universe_data,\n",
    "    cp_metrics_df=cp_metrics_df,\n",
    "    save=True,\n",
    ")\n",
    "final_output"
   ]
  },
  {
   "cell_type": "code",
   "execution_count": null,
   "id": "721ff514-cb11-46f8-b6fc-50392f74b5cb",
   "metadata": {
    "papermill": {
     "duration": 0.034012,
     "end_time": "2025-07-28T10:43:25.318143",
     "exception": false,
     "start_time": "2025-07-28T10:43:25.284131",
     "status": "completed"
    },
    "tags": []
   },
   "outputs": [],
   "source": []
  }
 ],
 "metadata": {
  "celltoolbar": "Tags",
  "kernelspec": {
   "display_name": "Python (CMA Fairness)",
   "language": "python",
   "name": "cma_fair_env"
  },
  "language_info": {
   "codemirror_mode": {
    "name": "ipython",
    "version": 3
   },
   "file_extension": ".py",
   "mimetype": "text/x-python",
   "name": "python",
   "nbconvert_exporter": "python",
   "pygments_lexer": "ipython3",
   "version": "3.10.12"
  },
  "papermill": {
   "default_parameters": {},
   "duration": 39.886538,
   "end_time": "2025-07-28T10:43:26.172577",
   "environment_variables": {},
   "exception": null,
   "input_path": "universe_analysis.ipynb",
   "output_path": "output/runs/11/notebooks/m_11-bc4e444980486348629bb14db72f54c4.ipynb",
   "parameters": {
    "output_dir": "output",
    "run_no": "11",
    "seed": "2023",
    "universe": "{\"cutoff\": [\"quantile_0.1\", \"quantile_0.25\"], \"eval_fairness_grouping\": [\"majority-minority\", \"nationality-all\"], \"exclude_features\": \"age\", \"exclude_subgroups\": \"keep-all\", \"model\": \"logreg\", \"scale\": \"scale\", \"training_size\": \"1k\"}",
    "universe_id": "bc4e444980486348629bb14db72f54c4"
   },
   "start_time": "2025-07-28T10:42:46.286039",
   "version": "2.6.0"
  }
 },
 "nbformat": 4,
 "nbformat_minor": 5
}