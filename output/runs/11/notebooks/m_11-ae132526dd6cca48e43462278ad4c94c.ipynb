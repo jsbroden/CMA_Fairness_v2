{
 "cells": [
  {
   "cell_type": "code",
   "execution_count": 1,
   "id": "f159f837-637b-42ba-96b5-ec9a68c44524",
   "metadata": {
    "execution": {
     "iopub.execute_input": "2025-07-28T10:44:28.586668Z",
     "iopub.status.busy": "2025-07-28T10:44:28.585892Z",
     "iopub.status.idle": "2025-07-28T10:44:28.601584Z",
     "shell.execute_reply": "2025-07-28T10:44:28.600386Z"
    },
    "papermill": {
     "duration": 0.043171,
     "end_time": "2025-07-28T10:44:28.604876",
     "exception": false,
     "start_time": "2025-07-28T10:44:28.561705",
     "status": "completed"
    },
    "tags": []
   },
   "outputs": [
    {
     "name": "stdout",
     "output_type": "stream",
     "text": [
      "/dss/dsshome1/0C/ra93lal2/cma/CMA_Fairness_v2\n"
     ]
    },
    {
     "name": "stderr",
     "output_type": "stream",
     "text": [
      "/dss/dsshome1/0C/ra93lal2/.local/share/virtualenvs/CMA_Fairness_v2-3j10GkSs/lib/python3.10/site-packages/IPython/core/magics/osm.py:393: UserWarning: This is now an optional IPython functionality, using bookmarks requires you to install the `pickleshare` library.\n",
      "  bkms = self.shell.db.get('bookmarks', {})\n",
      "/dss/dsshome1/0C/ra93lal2/.local/share/virtualenvs/CMA_Fairness_v2-3j10GkSs/lib/python3.10/site-packages/IPython/core/magics/osm.py:417: UserWarning: This is now an optional IPython functionality, setting dhist requires you to install the `pickleshare` library.\n",
      "  self.shell.db['dhist'] = compress_dhist(dhist)[-100:]\n"
     ]
    }
   ],
   "source": [
    "%cd ~/cma/CMA_Fairness_v2"
   ]
  },
  {
   "cell_type": "markdown",
   "id": "de2603b9",
   "metadata": {
    "papermill": {
     "duration": 0.021631,
     "end_time": "2025-07-28T10:44:28.648393",
     "exception": false,
     "start_time": "2025-07-28T10:44:28.626762",
     "status": "completed"
    },
    "tags": []
   },
   "source": [
    "The following cell holds the definition of our parameters, these values can be overriden by rendering the with e.g. the following command:\n",
    "\n",
    "papermill -p alpha 0.2 -p ratio 0.3 universe_analysis.ipynb output/test_run.ipynb"
   ]
  },
  {
   "cell_type": "code",
   "execution_count": 2,
   "id": "a80968a0-40bb-4fa9-85ef-2d5eefb01975",
   "metadata": {
    "execution": {
     "iopub.execute_input": "2025-07-28T10:44:28.693581Z",
     "iopub.status.busy": "2025-07-28T10:44:28.693080Z",
     "iopub.status.idle": "2025-07-28T10:44:28.699116Z",
     "shell.execute_reply": "2025-07-28T10:44:28.698074Z"
    },
    "papermill": {
     "duration": 0.031119,
     "end_time": "2025-07-28T10:44:28.701013",
     "exception": false,
     "start_time": "2025-07-28T10:44:28.669894",
     "status": "completed"
    },
    "tags": []
   },
   "outputs": [
    {
     "name": "stdout",
     "output_type": "stream",
     "text": [
      "Current working directory: /dss/dsshome1/0C/ra93lal2/cma/CMA_Fairness_v2\n"
     ]
    }
   ],
   "source": [
    "import os\n",
    "print(\"Current working directory:\", os.getcwd())"
   ]
  },
  {
   "cell_type": "code",
   "execution_count": 3,
   "id": "2dce4c03",
   "metadata": {
    "execution": {
     "iopub.execute_input": "2025-07-28T10:44:28.750372Z",
     "iopub.status.busy": "2025-07-28T10:44:28.749832Z",
     "iopub.status.idle": "2025-07-28T10:44:28.756695Z",
     "shell.execute_reply": "2025-07-28T10:44:28.755546Z"
    },
    "papermill": {
     "duration": 0.03529,
     "end_time": "2025-07-28T10:44:28.758790",
     "exception": false,
     "start_time": "2025-07-28T10:44:28.723500",
     "status": "completed"
    },
    "tags": [
     "parameters"
    ]
   },
   "outputs": [],
   "source": [
    "run_no = 0\n",
    "universe_id = \"test\"\n",
    "universe = {\n",
    "    \"training_size\": \"2014\", # \"25k\", \"5k\", \"1k\", \"2014\"\n",
    "    \"scale\": \"scale\", # \"scale\", \"do-not-scale\",\n",
    "    #\"stratify_split\": \"target\", # \"none\", \"target\", \"protected-attribute\", \"both\",\n",
    "    \"model\": \"elasticnet\", # \"logreg\", \"penalized_logreg\", \"rf\", \"gbm\", \"elasticnet\"\n",
    "    \"cutoff\": [\"quantile_0.15\", \"quantile_0.30\"],\n",
    "    \"exclude_features\": \"age\", # \"none\", \"nationality\", \"sex\", \"nationality-sex\", \"age\"\n",
    "    \"exclude_subgroups\": \"keep-all\", # \"keep-all\", \"drop-non-german\"\n",
    "    \"eval_fairness_grouping\": [\"majority-minority\", \"nationality-all\"]\n",
    "}\n",
    "\n",
    "output_dir=\"./output\"\n",
    "seed=0"
   ]
  },
  {
   "cell_type": "code",
   "execution_count": 4,
   "id": "8d509ff4",
   "metadata": {
    "execution": {
     "iopub.execute_input": "2025-07-28T10:44:28.803669Z",
     "iopub.status.busy": "2025-07-28T10:44:28.802979Z",
     "iopub.status.idle": "2025-07-28T10:44:28.808768Z",
     "shell.execute_reply": "2025-07-28T10:44:28.807561Z"
    },
    "papermill": {
     "duration": 0.029895,
     "end_time": "2025-07-28T10:44:28.810798",
     "exception": false,
     "start_time": "2025-07-28T10:44:28.780903",
     "status": "completed"
    },
    "tags": [
     "injected-parameters"
    ]
   },
   "outputs": [],
   "source": [
    "# Parameters\n",
    "universe_id = \"ae132526dd6cca48e43462278ad4c94c\"\n",
    "run_no = \"11\"\n",
    "universe = \"{\\\"cutoff\\\": [\\\"quantile_0.1\\\", \\\"quantile_0.25\\\"], \\\"eval_fairness_grouping\\\": [\\\"majority-minority\\\", \\\"nationality-all\\\"], \\\"exclude_features\\\": \\\"sex\\\", \\\"exclude_subgroups\\\": \\\"keep-all\\\", \\\"model\\\": \\\"rf\\\", \\\"scale\\\": \\\"scale\\\", \\\"training_size\\\": \\\"1k\\\"}\"\n",
    "output_dir = \"output\"\n",
    "seed = \"2023\"\n"
   ]
  },
  {
   "cell_type": "code",
   "execution_count": 5,
   "id": "1650acaf",
   "metadata": {
    "execution": {
     "iopub.execute_input": "2025-07-28T10:44:28.856608Z",
     "iopub.status.busy": "2025-07-28T10:44:28.856098Z",
     "iopub.status.idle": "2025-07-28T10:44:28.861430Z",
     "shell.execute_reply": "2025-07-28T10:44:28.860319Z"
    },
    "papermill": {
     "duration": 0.030429,
     "end_time": "2025-07-28T10:44:28.863261",
     "exception": false,
     "start_time": "2025-07-28T10:44:28.832832",
     "status": "completed"
    },
    "tags": []
   },
   "outputs": [],
   "source": [
    "import json\n",
    "# Parse universe into dict if it is passed as a string\n",
    "if isinstance(universe, str):\n",
    "    universe = json.loads(universe)"
   ]
  },
  {
   "cell_type": "code",
   "execution_count": 6,
   "id": "16620c48",
   "metadata": {
    "execution": {
     "iopub.execute_input": "2025-07-28T10:44:28.956355Z",
     "iopub.status.busy": "2025-07-28T10:44:28.955805Z",
     "iopub.status.idle": "2025-07-28T10:44:29.005825Z",
     "shell.execute_reply": "2025-07-28T10:44:29.004824Z"
    },
    "papermill": {
     "duration": 0.122196,
     "end_time": "2025-07-28T10:44:29.007690",
     "exception": false,
     "start_time": "2025-07-28T10:44:28.885494",
     "status": "completed"
    },
    "tags": []
   },
   "outputs": [],
   "source": [
    "# Auto-reload the custom package\n",
    "%load_ext autoreload\n",
    "%autoreload 1\n",
    "%aimport fairness_multiverse"
   ]
  },
  {
   "cell_type": "code",
   "execution_count": 7,
   "id": "01c5c9f3",
   "metadata": {
    "execution": {
     "iopub.execute_input": "2025-07-28T10:44:29.057622Z",
     "iopub.status.busy": "2025-07-28T10:44:29.057111Z",
     "iopub.status.idle": "2025-07-28T10:44:31.258838Z",
     "shell.execute_reply": "2025-07-28T10:44:31.257723Z"
    },
    "papermill": {
     "duration": 2.232265,
     "end_time": "2025-07-28T10:44:31.260842",
     "exception": false,
     "start_time": "2025-07-28T10:44:29.028577",
     "status": "completed"
    },
    "tags": []
   },
   "outputs": [],
   "source": [
    "from fairness_multiverse.universe import UniverseAnalysis\n",
    "\n",
    "universe_analysis = UniverseAnalysis(\n",
    "    run_no = run_no,\n",
    "    universe_id = universe_id,\n",
    "    universe = universe,\n",
    "    output_dir=output_dir,\n",
    ")"
   ]
  },
  {
   "cell_type": "code",
   "execution_count": 8,
   "id": "106241f5",
   "metadata": {
    "execution": {
     "iopub.execute_input": "2025-07-28T10:44:31.309106Z",
     "iopub.status.busy": "2025-07-28T10:44:31.308600Z",
     "iopub.status.idle": "2025-07-28T10:44:31.315791Z",
     "shell.execute_reply": "2025-07-28T10:44:31.314635Z"
    },
    "papermill": {
     "duration": 0.032323,
     "end_time": "2025-07-28T10:44:31.317695",
     "exception": false,
     "start_time": "2025-07-28T10:44:31.285372",
     "status": "completed"
    },
    "tags": []
   },
   "outputs": [
    {
     "name": "stdout",
     "output_type": "stream",
     "text": [
      "Using Seed: 2023\n"
     ]
    }
   ],
   "source": [
    "import numpy as np\n",
    "parsed_seed = int(seed)\n",
    "np.random.seed(parsed_seed)\n",
    "print(f\"Using Seed: {parsed_seed}\")"
   ]
  },
  {
   "cell_type": "markdown",
   "id": "e0ebdc57",
   "metadata": {
    "papermill": {
     "duration": 0.022555,
     "end_time": "2025-07-28T10:44:31.363251",
     "exception": false,
     "start_time": "2025-07-28T10:44:31.340696",
     "status": "completed"
    },
    "tags": []
   },
   "source": [
    "# Loading Data"
   ]
  },
  {
   "cell_type": "markdown",
   "id": "681925a3",
   "metadata": {
    "papermill": {
     "duration": 0.022278,
     "end_time": "2025-07-28T10:44:31.408157",
     "exception": false,
     "start_time": "2025-07-28T10:44:31.385879",
     "status": "completed"
    },
    "tags": []
   },
   "source": [
    "Load siab_train, siab_test, siab_calib and/or \n",
    "load siab_train_features, siab_train_labels"
   ]
  },
  {
   "cell_type": "code",
   "execution_count": 9,
   "id": "f0496b8a",
   "metadata": {
    "execution": {
     "iopub.execute_input": "2025-07-28T10:44:31.439431Z",
     "iopub.status.busy": "2025-07-28T10:44:31.438941Z",
     "iopub.status.idle": "2025-07-28T10:44:45.188654Z",
     "shell.execute_reply": "2025-07-28T10:44:45.187155Z"
    },
    "papermill": {
     "duration": 13.772008,
     "end_time": "2025-07-28T10:44:45.190690",
     "exception": false,
     "start_time": "2025-07-28T10:44:31.418682",
     "status": "completed"
    },
    "tags": []
   },
   "outputs": [
    {
     "name": "stdout",
     "output_type": "stream",
     "text": [
      "Loading SIAB data from cache: data/siab_cached.csv.gz\n"
     ]
    },
    {
     "name": "stdout",
     "output_type": "stream",
     "text": [
      "(643690, 164)\n"
     ]
    }
   ],
   "source": [
    "from pathlib import Path\n",
    "import pandas as pd\n",
    "\n",
    "# File paths\n",
    "raw_file = Path(\"data/raw/siab.csv\")\n",
    "cache_file = Path(\"data/siab_cached.csv.gz\")\n",
    "\n",
    "# Ensure cache directory exists\n",
    "cache_file.parent.mkdir(parents=True, exist_ok=True)\n",
    "\n",
    "# Load with simple caching\n",
    "if cache_file.exists():\n",
    "    print(f\"Loading SIAB data from cache: {cache_file}\")\n",
    "    siab = pd.read_csv(cache_file, compression='gzip')\n",
    "else:\n",
    "    print(f\"Cache not found. Reading raw SIAB data: {raw_file}\")\n",
    "    siab = pd.read_csv(raw_file)\n",
    "    siab.to_csv(cache_file, index=False, compression='gzip')\n",
    "    print(f\"Cached SIAB data to: {cache_file}\")\n",
    "\n",
    "# Now use `siab` DataFrame as needed\n",
    "print(siab.shape)"
   ]
  },
  {
   "cell_type": "code",
   "execution_count": 10,
   "id": "db0ca512-5f53-4dba-abdb-a2888bca41ba",
   "metadata": {
    "execution": {
     "iopub.execute_input": "2025-07-28T10:44:45.240278Z",
     "iopub.status.busy": "2025-07-28T10:44:45.238994Z",
     "iopub.status.idle": "2025-07-28T10:44:45.246859Z",
     "shell.execute_reply": "2025-07-28T10:44:45.245578Z"
    },
    "papermill": {
     "duration": 0.034299,
     "end_time": "2025-07-28T10:44:45.248745",
     "exception": false,
     "start_time": "2025-07-28T10:44:45.214446",
     "status": "completed"
    },
    "tags": []
   },
   "outputs": [],
   "source": [
    "#siab"
   ]
  },
  {
   "cell_type": "code",
   "execution_count": 11,
   "id": "a0edb063",
   "metadata": {
    "execution": {
     "iopub.execute_input": "2025-07-28T10:44:45.294043Z",
     "iopub.status.busy": "2025-07-28T10:44:45.293246Z",
     "iopub.status.idle": "2025-07-28T10:44:45.300256Z",
     "shell.execute_reply": "2025-07-28T10:44:45.298855Z"
    },
    "papermill": {
     "duration": 0.031583,
     "end_time": "2025-07-28T10:44:45.302222",
     "exception": false,
     "start_time": "2025-07-28T10:44:45.270639",
     "status": "completed"
    },
    "tags": []
   },
   "outputs": [],
   "source": [
    "#import pandas as pd\n",
    "#\n",
    "#X_train = pd.read_csv(\"./data/X_train.csv\")\n",
    "#y_train = pd.read_csv(\"./data/y_train.csv\")"
   ]
  },
  {
   "cell_type": "code",
   "execution_count": 12,
   "id": "63d08085",
   "metadata": {
    "execution": {
     "iopub.execute_input": "2025-07-28T10:44:45.347795Z",
     "iopub.status.busy": "2025-07-28T10:44:45.347267Z",
     "iopub.status.idle": "2025-07-28T10:44:45.352647Z",
     "shell.execute_reply": "2025-07-28T10:44:45.351571Z"
    },
    "papermill": {
     "duration": 0.029662,
     "end_time": "2025-07-28T10:44:45.354446",
     "exception": false,
     "start_time": "2025-07-28T10:44:45.324784",
     "status": "completed"
    },
    "tags": []
   },
   "outputs": [],
   "source": [
    "#X_test = pd.read_csv(\"./data/X_test.csv\")\n",
    "#y_true = pd.read_csv(\"./data/y_test.csv\")"
   ]
  },
  {
   "cell_type": "code",
   "execution_count": 13,
   "id": "98a8d0fa-1d3d-4ed8-bb2c-281470e24add",
   "metadata": {
    "execution": {
     "iopub.execute_input": "2025-07-28T10:44:45.395759Z",
     "iopub.status.busy": "2025-07-28T10:44:45.395268Z",
     "iopub.status.idle": "2025-07-28T10:44:45.399991Z",
     "shell.execute_reply": "2025-07-28T10:44:45.398900Z"
    },
    "papermill": {
     "duration": 0.025141,
     "end_time": "2025-07-28T10:44:45.401846",
     "exception": false,
     "start_time": "2025-07-28T10:44:45.376705",
     "status": "completed"
    },
    "tags": []
   },
   "outputs": [],
   "source": [
    "# Calibration data for conformal\n",
    "#X_calib = pd.read_csv(\"./data/X_calib.csv\")\n",
    "#y_calib = pd.read_csv(\"./data/y_calib.csv\")"
   ]
  },
  {
   "cell_type": "markdown",
   "id": "9901737e-04df-44f0-9100-f5ad144ed040",
   "metadata": {
    "papermill": {
     "duration": 0.020634,
     "end_time": "2025-07-28T10:44:45.444719",
     "exception": false,
     "start_time": "2025-07-28T10:44:45.424085",
     "status": "completed"
    },
    "tags": []
   },
   "source": [
    "# Splitting Data and Setting Training Data Size"
   ]
  },
  {
   "cell_type": "code",
   "execution_count": 14,
   "id": "acbc8f7d-8fc8-4e86-8c59-5dcb0f58384b",
   "metadata": {
    "execution": {
     "iopub.execute_input": "2025-07-28T10:44:45.488901Z",
     "iopub.status.busy": "2025-07-28T10:44:45.487701Z",
     "iopub.status.idle": "2025-07-28T10:44:45.498959Z",
     "shell.execute_reply": "2025-07-28T10:44:45.497745Z"
    },
    "papermill": {
     "duration": 0.03573,
     "end_time": "2025-07-28T10:44:45.500959",
     "exception": false,
     "start_time": "2025-07-28T10:44:45.465229",
     "status": "completed"
    },
    "tags": []
   },
   "outputs": [],
   "source": [
    "def sample_by_year(df, training_size, random_state=42):\n",
    "    if training_size == \"2014\":\n",
    "        return df[df[\"year\"] == 2014].reset_index(drop=True)\n",
    "    \n",
    "    size_map = {\n",
    "        \"25k\": 5000,\n",
    "        \"5k\": 1000,\n",
    "        \"1k\": 200\n",
    "    }\n",
    "\n",
    "    if training_size not in size_map:\n",
    "        return df.reset_index(drop=True)  # use all data\n",
    "\n",
    "    n_per_year = size_map[training_size]\n",
    "    grouped = df.groupby(\"year\")\n",
    "    sampled = grouped.apply(lambda x: x.sample(n=min(n_per_year, len(x)), random_state=random_state))\n",
    "    return sampled.reset_index(drop=True)"
   ]
  },
  {
   "cell_type": "code",
   "execution_count": 15,
   "id": "6d931f52-beaf-43ff-9e78-9d44a448d54e",
   "metadata": {
    "execution": {
     "iopub.execute_input": "2025-07-28T10:44:45.544312Z",
     "iopub.status.busy": "2025-07-28T10:44:45.543788Z",
     "iopub.status.idle": "2025-07-28T10:44:46.204089Z",
     "shell.execute_reply": "2025-07-28T10:44:46.202846Z"
    },
    "papermill": {
     "duration": 0.684608,
     "end_time": "2025-07-28T10:44:46.206677",
     "exception": false,
     "start_time": "2025-07-28T10:44:45.522069",
     "status": "completed"
    },
    "tags": []
   },
   "outputs": [],
   "source": [
    "siab_s = sample_by_year(siab, universe[\"training_size\"])"
   ]
  },
  {
   "cell_type": "code",
   "execution_count": 16,
   "id": "5db0a40e-a4e2-4920-be85-b12ae061d70d",
   "metadata": {
    "execution": {
     "iopub.execute_input": "2025-07-28T10:44:46.268151Z",
     "iopub.status.busy": "2025-07-28T10:44:46.267411Z",
     "iopub.status.idle": "2025-07-28T10:44:46.285892Z",
     "shell.execute_reply": "2025-07-28T10:44:46.284799Z"
    },
    "papermill": {
     "duration": 0.062816,
     "end_time": "2025-07-28T10:44:46.299405",
     "exception": false,
     "start_time": "2025-07-28T10:44:46.236589",
     "status": "completed"
    },
    "tags": []
   },
   "outputs": [
    {
     "data": {
      "text/plain": [
       "year\n",
       "2010    200\n",
       "2011    200\n",
       "2012    200\n",
       "2013    200\n",
       "2014    200\n",
       "2015    200\n",
       "2016    200\n",
       "dtype: int64"
      ]
     },
     "metadata": {},
     "output_type": "display_data"
    }
   ],
   "source": [
    "display(siab_s.groupby(\"year\").size())"
   ]
  },
  {
   "cell_type": "code",
   "execution_count": 17,
   "id": "a561edb4-d032-42cb-8256-22eac1111c64",
   "metadata": {
    "execution": {
     "iopub.execute_input": "2025-07-28T10:44:46.362384Z",
     "iopub.status.busy": "2025-07-28T10:44:46.361973Z",
     "iopub.status.idle": "2025-07-28T10:44:46.612712Z",
     "shell.execute_reply": "2025-07-28T10:44:46.611516Z"
    },
    "papermill": {
     "duration": 0.285229,
     "end_time": "2025-07-28T10:44:46.615296",
     "exception": false,
     "start_time": "2025-07-28T10:44:46.330067",
     "status": "completed"
    },
    "tags": []
   },
   "outputs": [],
   "source": [
    "siab_train = siab_s[siab_s.year < 2015]\n",
    "siab_calib = siab[siab.year == 2015]\n",
    "siab_test = siab[siab.year == 2016]"
   ]
  },
  {
   "cell_type": "code",
   "execution_count": 18,
   "id": "472de16f-c3db-4916-846b-1f0de9cf1746",
   "metadata": {
    "execution": {
     "iopub.execute_input": "2025-07-28T10:44:46.677260Z",
     "iopub.status.busy": "2025-07-28T10:44:46.676498Z",
     "iopub.status.idle": "2025-07-28T10:44:46.685263Z",
     "shell.execute_reply": "2025-07-28T10:44:46.684015Z"
    },
    "papermill": {
     "duration": 0.042415,
     "end_time": "2025-07-28T10:44:46.687598",
     "exception": false,
     "start_time": "2025-07-28T10:44:46.645183",
     "status": "completed"
    },
    "tags": []
   },
   "outputs": [],
   "source": [
    "X_train = siab_train.iloc[:,4:164]\n",
    "y_train = siab_train.iloc[:, [3]]"
   ]
  },
  {
   "cell_type": "code",
   "execution_count": 19,
   "id": "828c96af-f43a-4ed6-ba47-8ac73a47d56c",
   "metadata": {
    "execution": {
     "iopub.execute_input": "2025-07-28T10:44:46.745638Z",
     "iopub.status.busy": "2025-07-28T10:44:46.743958Z",
     "iopub.status.idle": "2025-07-28T10:44:46.805009Z",
     "shell.execute_reply": "2025-07-28T10:44:46.803750Z"
    },
    "papermill": {
     "duration": 0.088981,
     "end_time": "2025-07-28T10:44:46.806897",
     "exception": false,
     "start_time": "2025-07-28T10:44:46.717916",
     "status": "completed"
    },
    "tags": []
   },
   "outputs": [],
   "source": [
    "X_calib = siab_calib.iloc[:,4:164]\n",
    "y_calib = siab_calib.iloc[:, [3]]"
   ]
  },
  {
   "cell_type": "code",
   "execution_count": 20,
   "id": "c34be9c3-6bd6-476e-acd3-845840e303be",
   "metadata": {
    "execution": {
     "iopub.execute_input": "2025-07-28T10:44:46.852973Z",
     "iopub.status.busy": "2025-07-28T10:44:46.851559Z",
     "iopub.status.idle": "2025-07-28T10:44:46.908486Z",
     "shell.execute_reply": "2025-07-28T10:44:46.907317Z"
    },
    "papermill": {
     "duration": 0.080074,
     "end_time": "2025-07-28T10:44:46.910314",
     "exception": false,
     "start_time": "2025-07-28T10:44:46.830240",
     "status": "completed"
    },
    "tags": []
   },
   "outputs": [],
   "source": [
    "X_test = siab_test.iloc[:,4:164]\n",
    "y_true = siab_test.iloc[:, [3]]"
   ]
  },
  {
   "cell_type": "code",
   "execution_count": 21,
   "id": "e6c733c5",
   "metadata": {
    "execution": {
     "iopub.execute_input": "2025-07-28T10:44:46.943653Z",
     "iopub.status.busy": "2025-07-28T10:44:46.943027Z",
     "iopub.status.idle": "2025-07-28T10:44:47.036607Z",
     "shell.execute_reply": "2025-07-28T10:44:47.035821Z"
    },
    "papermill": {
     "duration": 0.1085,
     "end_time": "2025-07-28T10:44:47.038214",
     "exception": false,
     "start_time": "2025-07-28T10:44:46.929714",
     "status": "completed"
    },
    "tags": []
   },
   "outputs": [],
   "source": [
    "# Auxiliary data needed downstream in the pipeline\n",
    "\n",
    "org_train = X_train.copy()\n",
    "org_test = X_test.copy()\n",
    "org_calib = X_calib.copy()"
   ]
  },
  {
   "cell_type": "markdown",
   "id": "0a4a1b33",
   "metadata": {
    "papermill": {
     "duration": 0.011594,
     "end_time": "2025-07-28T10:44:47.061730",
     "exception": false,
     "start_time": "2025-07-28T10:44:47.050136",
     "status": "completed"
    },
    "tags": []
   },
   "source": [
    "# Preprocessing Data"
   ]
  },
  {
   "cell_type": "code",
   "execution_count": 22,
   "id": "ca879031",
   "metadata": {
    "execution": {
     "iopub.execute_input": "2025-07-28T10:44:47.086755Z",
     "iopub.status.busy": "2025-07-28T10:44:47.086233Z",
     "iopub.status.idle": "2025-07-28T10:44:47.091889Z",
     "shell.execute_reply": "2025-07-28T10:44:47.091049Z"
    },
    "papermill": {
     "duration": 0.020073,
     "end_time": "2025-07-28T10:44:47.093387",
     "exception": false,
     "start_time": "2025-07-28T10:44:47.073314",
     "status": "completed"
    },
    "tags": []
   },
   "outputs": [],
   "source": [
    "# EXCLUDE PROTECTED FEATURES\n",
    "# ----------------------\n",
    "# \"exclude_features\": \"none\", # \"nationality\", \"sex\", \"nationality-sex\"\n",
    "\n",
    "excluded_features = universe[\"exclude_features\"].split(\"-\") # split, e.g.: \"nationality-sex\" -> [\"nationality\", \"sex\"]\n",
    "excluded_features_dictionary = {\n",
    "    \"nationality\": [\"maxdeutsch1\", \"maxdeutsch.Missing.\"],\n",
    "    \"sex\": [\"frau1\"],\n",
    "    \"age\": [\"age\"],\n",
    "}\n"
   ]
  },
  {
   "cell_type": "code",
   "execution_count": 23,
   "id": "b745ac60",
   "metadata": {
    "execution": {
     "iopub.execute_input": "2025-07-28T10:44:47.119363Z",
     "iopub.status.busy": "2025-07-28T10:44:47.118988Z",
     "iopub.status.idle": "2025-07-28T10:44:47.124132Z",
     "shell.execute_reply": "2025-07-28T10:44:47.123333Z"
    },
    "papermill": {
     "duration": 0.019306,
     "end_time": "2025-07-28T10:44:47.125561",
     "exception": false,
     "start_time": "2025-07-28T10:44:47.106255",
     "status": "completed"
    },
    "tags": []
   },
   "outputs": [],
   "source": [
    "# Code nice names to column names\n",
    "\n",
    "excluded_features_columns = [\n",
    "    excluded_features_dictionary[f] for f in excluded_features if len(f) > 0 and f != \"none\"\n",
    "]"
   ]
  },
  {
   "cell_type": "code",
   "execution_count": 24,
   "id": "f84f73a2",
   "metadata": {
    "execution": {
     "iopub.execute_input": "2025-07-28T10:44:47.151475Z",
     "iopub.status.busy": "2025-07-28T10:44:47.150694Z",
     "iopub.status.idle": "2025-07-28T10:44:47.156708Z",
     "shell.execute_reply": "2025-07-28T10:44:47.155899Z"
    },
    "papermill": {
     "duration": 0.020225,
     "end_time": "2025-07-28T10:44:47.158198",
     "exception": false,
     "start_time": "2025-07-28T10:44:47.137973",
     "status": "completed"
    },
    "tags": []
   },
   "outputs": [],
   "source": [
    "from utils import flatten_once\n",
    "\n",
    "excluded_features_columns = flatten_once(excluded_features_columns)"
   ]
  },
  {
   "cell_type": "code",
   "execution_count": 25,
   "id": "884dea22",
   "metadata": {
    "execution": {
     "iopub.execute_input": "2025-07-28T10:44:47.184390Z",
     "iopub.status.busy": "2025-07-28T10:44:47.183796Z",
     "iopub.status.idle": "2025-07-28T10:44:47.191353Z",
     "shell.execute_reply": "2025-07-28T10:44:47.190564Z"
    },
    "papermill": {
     "duration": 0.021731,
     "end_time": "2025-07-28T10:44:47.192863",
     "exception": false,
     "start_time": "2025-07-28T10:44:47.171132",
     "status": "completed"
    },
    "tags": []
   },
   "outputs": [
    {
     "name": "stdout",
     "output_type": "stream",
     "text": [
      "Dropping features: ['frau1']\n"
     ]
    }
   ],
   "source": [
    "if len(excluded_features_columns) > 0:\n",
    "    print(f\"Dropping features: {excluded_features_columns}\")\n",
    "    X_train.drop(excluded_features_columns, axis=1, inplace=True)"
   ]
  },
  {
   "cell_type": "code",
   "execution_count": 26,
   "id": "95ab8b16",
   "metadata": {
    "execution": {
     "iopub.execute_input": "2025-07-28T10:44:47.231131Z",
     "iopub.status.busy": "2025-07-28T10:44:47.230683Z",
     "iopub.status.idle": "2025-07-28T10:44:47.285537Z",
     "shell.execute_reply": "2025-07-28T10:44:47.284527Z"
    },
    "papermill": {
     "duration": 0.08101,
     "end_time": "2025-07-28T10:44:47.288547",
     "exception": false,
     "start_time": "2025-07-28T10:44:47.207537",
     "status": "completed"
    },
    "tags": []
   },
   "outputs": [
    {
     "name": "stdout",
     "output_type": "stream",
     "text": [
      "Dropping features: ['frau1']\n"
     ]
    }
   ],
   "source": [
    "if len(excluded_features_columns) > 0:\n",
    "    print(f\"Dropping features: {excluded_features_columns}\")\n",
    "    X_test.drop(excluded_features_columns, axis=1, inplace=True)"
   ]
  },
  {
   "cell_type": "code",
   "execution_count": 27,
   "id": "1853aaf5-fb9f-46cb-a2b5-8ea4ae2237e4",
   "metadata": {
    "execution": {
     "iopub.execute_input": "2025-07-28T10:44:47.348062Z",
     "iopub.status.busy": "2025-07-28T10:44:47.347167Z",
     "iopub.status.idle": "2025-07-28T10:44:47.401593Z",
     "shell.execute_reply": "2025-07-28T10:44:47.400792Z"
    },
    "papermill": {
     "duration": 0.080662,
     "end_time": "2025-07-28T10:44:47.403021",
     "exception": false,
     "start_time": "2025-07-28T10:44:47.322359",
     "status": "completed"
    },
    "tags": []
   },
   "outputs": [
    {
     "name": "stdout",
     "output_type": "stream",
     "text": [
      "Dropping features: ['frau1']\n"
     ]
    }
   ],
   "source": [
    "if len(excluded_features_columns) > 0:\n",
    "    print(f\"Dropping features: {excluded_features_columns}\")\n",
    "    X_calib.drop(excluded_features_columns, axis=1, inplace=True)"
   ]
  },
  {
   "cell_type": "code",
   "execution_count": 28,
   "id": "6727d079-03e5-481e-9d38-292a90b7a0a8",
   "metadata": {
    "execution": {
     "iopub.execute_input": "2025-07-28T10:44:47.431768Z",
     "iopub.status.busy": "2025-07-28T10:44:47.431243Z",
     "iopub.status.idle": "2025-07-28T10:44:47.436950Z",
     "shell.execute_reply": "2025-07-28T10:44:47.435465Z"
    },
    "papermill": {
     "duration": 0.023924,
     "end_time": "2025-07-28T10:44:47.438988",
     "exception": false,
     "start_time": "2025-07-28T10:44:47.415064",
     "status": "completed"
    },
    "tags": []
   },
   "outputs": [],
   "source": [
    "# SPLIT & STRATIFY DATA\n",
    "# ----------------------"
   ]
  },
  {
   "cell_type": "code",
   "execution_count": 29,
   "id": "76c4dc6d",
   "metadata": {
    "execution": {
     "iopub.execute_input": "2025-07-28T10:44:47.482891Z",
     "iopub.status.busy": "2025-07-28T10:44:47.482233Z",
     "iopub.status.idle": "2025-07-28T10:44:47.487593Z",
     "shell.execute_reply": "2025-07-28T10:44:47.486840Z"
    },
    "papermill": {
     "duration": 0.026665,
     "end_time": "2025-07-28T10:44:47.489228",
     "exception": false,
     "start_time": "2025-07-28T10:44:47.462563",
     "status": "completed"
    },
    "tags": []
   },
   "outputs": [],
   "source": [
    "# EXCLUDE CERTAIN SUBGROUPS\n",
    "# ----------------------\n",
    "\n",
    "mode = universe.get(\"exclude_subgroups\", \"keep-all\") \n",
    "# Fetches the exclude_subgroups setting from the universe dict.\n",
    "# Defaults to \"keep-all\" if the key is missing."
   ]
  },
  {
   "cell_type": "code",
   "execution_count": 30,
   "id": "21994072",
   "metadata": {
    "execution": {
     "iopub.execute_input": "2025-07-28T10:44:47.514788Z",
     "iopub.status.busy": "2025-07-28T10:44:47.514270Z",
     "iopub.status.idle": "2025-07-28T10:44:47.520536Z",
     "shell.execute_reply": "2025-07-28T10:44:47.519729Z"
    },
    "papermill": {
     "duration": 0.020099,
     "end_time": "2025-07-28T10:44:47.521938",
     "exception": false,
     "start_time": "2025-07-28T10:44:47.501839",
     "status": "completed"
    },
    "tags": []
   },
   "outputs": [],
   "source": [
    "if mode == \"keep-all\":\n",
    "    keep_mask = pd.Series(True, index=org_train.index)\n",
    "\n",
    "# org_train contains the original feature columns from features_org (in Simson)\n",
    "# features_org contains unprocessed features, for me X_train at beginning ???\n",
    "# For keep-all, creates a boolean Series (keep_mask) of all True, so no rows are removed.\n",
    "\n",
    "elif mode == \"drop-non-german\":\n",
    "    keep_mask = org_train[\"maxdeutsch1\"] == 1 # ??? what about missing values?\n",
    "\n",
    "else:\n",
    "    raise ValueError(f\"Unsupported mode for exclude_subgroups: {mode}\")\n"
   ]
  },
  {
   "cell_type": "code",
   "execution_count": 31,
   "id": "71651440",
   "metadata": {
    "execution": {
     "iopub.execute_input": "2025-07-28T10:44:47.547475Z",
     "iopub.status.busy": "2025-07-28T10:44:47.547084Z",
     "iopub.status.idle": "2025-07-28T10:44:47.552601Z",
     "shell.execute_reply": "2025-07-28T10:44:47.551712Z"
    },
    "papermill": {
     "duration": 0.019408,
     "end_time": "2025-07-28T10:44:47.554039",
     "exception": false,
     "start_time": "2025-07-28T10:44:47.534631",
     "status": "completed"
    },
    "tags": []
   },
   "outputs": [],
   "source": [
    "n_drop = (~keep_mask).sum() # Calculates how many rows are set to be dropped\n",
    "if n_drop > 0:\n",
    "    pct = n_drop / len(keep_mask) * 100\n",
    "    print(f\"Dropping {n_drop} rows ({pct:.2f}%) where mode='{mode}'\")"
   ]
  },
  {
   "cell_type": "code",
   "execution_count": 32,
   "id": "5fb8eee5",
   "metadata": {
    "execution": {
     "iopub.execute_input": "2025-07-28T10:44:47.583589Z",
     "iopub.status.busy": "2025-07-28T10:44:47.583036Z",
     "iopub.status.idle": "2025-07-28T10:44:47.589991Z",
     "shell.execute_reply": "2025-07-28T10:44:47.588990Z"
    },
    "papermill": {
     "duration": 0.025385,
     "end_time": "2025-07-28T10:44:47.591831",
     "exception": false,
     "start_time": "2025-07-28T10:44:47.566446",
     "status": "completed"
    },
    "tags": []
   },
   "outputs": [],
   "source": [
    "X_train = X_train[keep_mask]"
   ]
  },
  {
   "cell_type": "code",
   "execution_count": 33,
   "id": "b202bb3a",
   "metadata": {
    "execution": {
     "iopub.execute_input": "2025-07-28T10:44:47.640812Z",
     "iopub.status.busy": "2025-07-28T10:44:47.639737Z",
     "iopub.status.idle": "2025-07-28T10:44:47.646177Z",
     "shell.execute_reply": "2025-07-28T10:44:47.645236Z"
    },
    "papermill": {
     "duration": 0.032284,
     "end_time": "2025-07-28T10:44:47.647889",
     "exception": false,
     "start_time": "2025-07-28T10:44:47.615605",
     "status": "completed"
    },
    "tags": []
   },
   "outputs": [],
   "source": [
    "y_train = y_train[keep_mask]"
   ]
  },
  {
   "cell_type": "markdown",
   "id": "493e2ac3",
   "metadata": {
    "papermill": {
     "duration": 0.023764,
     "end_time": "2025-07-28T10:44:47.691904",
     "exception": false,
     "start_time": "2025-07-28T10:44:47.668140",
     "status": "completed"
    },
    "tags": []
   },
   "source": [
    "# Model Training"
   ]
  },
  {
   "cell_type": "code",
   "execution_count": 34,
   "id": "679e1268",
   "metadata": {
    "execution": {
     "iopub.execute_input": "2025-07-28T10:44:47.732821Z",
     "iopub.status.busy": "2025-07-28T10:44:47.732319Z",
     "iopub.status.idle": "2025-07-28T10:44:47.831703Z",
     "shell.execute_reply": "2025-07-28T10:44:47.830555Z"
    },
    "papermill": {
     "duration": 0.11692,
     "end_time": "2025-07-28T10:44:47.833990",
     "exception": false,
     "start_time": "2025-07-28T10:44:47.717070",
     "status": "completed"
    },
    "tags": []
   },
   "outputs": [],
   "source": [
    "from sklearn.linear_model import LogisticRegression\n",
    "from sklearn.ensemble import GradientBoostingClassifier, RandomForestClassifier\n",
    "\n",
    "if (universe[\"model\"] == \"logreg\"):\n",
    "    model = LogisticRegression() #penalty=\"none\") #, solver=\"newton-cg\", max_iter=1) # include random_state=19 ?\n",
    "elif (universe[\"model\"] == \"penalized_logreg\"):\n",
    "    model = LogisticRegression(penalty=\"l2\", C=1.0) #, solver=\"newton-cg\", max_iter=1)\n",
    "elif (universe[\"model\"] == \"rf\"):\n",
    "    model = RandomForestClassifier(n_estimators=100, n_jobs=-1)\n",
    "elif (universe[\"model\"] == \"gbm\"):\n",
    "    model = GradientBoostingClassifier()\n",
    "elif (universe[\"model\"] == \"elasticnet\"):\n",
    "    model = LogisticRegression(penalty = 'elasticnet', solver = 'saga', l1_ratio = 0.5, max_iter=5000) # which solver to use?\n",
    "else:\n",
    "    raise \"Unsupported universe.model\""
   ]
  },
  {
   "cell_type": "code",
   "execution_count": 35,
   "id": "0cc8f744",
   "metadata": {
    "execution": {
     "iopub.execute_input": "2025-07-28T10:44:47.881470Z",
     "iopub.status.busy": "2025-07-28T10:44:47.881030Z",
     "iopub.status.idle": "2025-07-28T10:44:47.886612Z",
     "shell.execute_reply": "2025-07-28T10:44:47.885826Z"
    },
    "papermill": {
     "duration": 0.029806,
     "end_time": "2025-07-28T10:44:47.887987",
     "exception": false,
     "start_time": "2025-07-28T10:44:47.858181",
     "status": "completed"
    },
    "tags": []
   },
   "outputs": [],
   "source": [
    "import numpy as np\n",
    "from sklearn.pipeline import Pipeline\n",
    "from sklearn.preprocessing import StandardScaler\n",
    "\n",
    "model = Pipeline([\n",
    "    #(\"continuous_processor\", continuous_processor),\n",
    "    #(\"categorical_preprocessor\", categorical_preprocessor),\n",
    "    (\"scale\", StandardScaler() if universe[\"scale\"] == \"scale\" else None), \n",
    "    (\"model\", model),\n",
    "])"
   ]
  },
  {
   "cell_type": "code",
   "execution_count": 36,
   "id": "9442c04d",
   "metadata": {
    "execution": {
     "iopub.execute_input": "2025-07-28T10:44:47.914531Z",
     "iopub.status.busy": "2025-07-28T10:44:47.913977Z",
     "iopub.status.idle": "2025-07-28T10:44:48.385875Z",
     "shell.execute_reply": "2025-07-28T10:44:48.384934Z"
    },
    "papermill": {
     "duration": 0.486939,
     "end_time": "2025-07-28T10:44:48.387748",
     "exception": false,
     "start_time": "2025-07-28T10:44:47.900809",
     "status": "completed"
    },
    "tags": []
   },
   "outputs": [
    {
     "data": {
      "text/html": [
       "<style>#sk-container-id-1 {color: black;background-color: white;}#sk-container-id-1 pre{padding: 0;}#sk-container-id-1 div.sk-toggleable {background-color: white;}#sk-container-id-1 label.sk-toggleable__label {cursor: pointer;display: block;width: 100%;margin-bottom: 0;padding: 0.3em;box-sizing: border-box;text-align: center;}#sk-container-id-1 label.sk-toggleable__label-arrow:before {content: \"▸\";float: left;margin-right: 0.25em;color: #696969;}#sk-container-id-1 label.sk-toggleable__label-arrow:hover:before {color: black;}#sk-container-id-1 div.sk-estimator:hover label.sk-toggleable__label-arrow:before {color: black;}#sk-container-id-1 div.sk-toggleable__content {max-height: 0;max-width: 0;overflow: hidden;text-align: left;background-color: #f0f8ff;}#sk-container-id-1 div.sk-toggleable__content pre {margin: 0.2em;color: black;border-radius: 0.25em;background-color: #f0f8ff;}#sk-container-id-1 input.sk-toggleable__control:checked~div.sk-toggleable__content {max-height: 200px;max-width: 100%;overflow: auto;}#sk-container-id-1 input.sk-toggleable__control:checked~label.sk-toggleable__label-arrow:before {content: \"▾\";}#sk-container-id-1 div.sk-estimator input.sk-toggleable__control:checked~label.sk-toggleable__label {background-color: #d4ebff;}#sk-container-id-1 div.sk-label input.sk-toggleable__control:checked~label.sk-toggleable__label {background-color: #d4ebff;}#sk-container-id-1 input.sk-hidden--visually {border: 0;clip: rect(1px 1px 1px 1px);clip: rect(1px, 1px, 1px, 1px);height: 1px;margin: -1px;overflow: hidden;padding: 0;position: absolute;width: 1px;}#sk-container-id-1 div.sk-estimator {font-family: monospace;background-color: #f0f8ff;border: 1px dotted black;border-radius: 0.25em;box-sizing: border-box;margin-bottom: 0.5em;}#sk-container-id-1 div.sk-estimator:hover {background-color: #d4ebff;}#sk-container-id-1 div.sk-parallel-item::after {content: \"\";width: 100%;border-bottom: 1px solid gray;flex-grow: 1;}#sk-container-id-1 div.sk-label:hover label.sk-toggleable__label {background-color: #d4ebff;}#sk-container-id-1 div.sk-serial::before {content: \"\";position: absolute;border-left: 1px solid gray;box-sizing: border-box;top: 0;bottom: 0;left: 50%;z-index: 0;}#sk-container-id-1 div.sk-serial {display: flex;flex-direction: column;align-items: center;background-color: white;padding-right: 0.2em;padding-left: 0.2em;position: relative;}#sk-container-id-1 div.sk-item {position: relative;z-index: 1;}#sk-container-id-1 div.sk-parallel {display: flex;align-items: stretch;justify-content: center;background-color: white;position: relative;}#sk-container-id-1 div.sk-item::before, #sk-container-id-1 div.sk-parallel-item::before {content: \"\";position: absolute;border-left: 1px solid gray;box-sizing: border-box;top: 0;bottom: 0;left: 50%;z-index: -1;}#sk-container-id-1 div.sk-parallel-item {display: flex;flex-direction: column;z-index: 1;position: relative;background-color: white;}#sk-container-id-1 div.sk-parallel-item:first-child::after {align-self: flex-end;width: 50%;}#sk-container-id-1 div.sk-parallel-item:last-child::after {align-self: flex-start;width: 50%;}#sk-container-id-1 div.sk-parallel-item:only-child::after {width: 0;}#sk-container-id-1 div.sk-dashed-wrapped {border: 1px dashed gray;margin: 0 0.4em 0.5em 0.4em;box-sizing: border-box;padding-bottom: 0.4em;background-color: white;}#sk-container-id-1 div.sk-label label {font-family: monospace;font-weight: bold;display: inline-block;line-height: 1.2em;}#sk-container-id-1 div.sk-label-container {text-align: center;}#sk-container-id-1 div.sk-container {/* jupyter's `normalize.less` sets `[hidden] { display: none; }` but bootstrap.min.css set `[hidden] { display: none !important; }` so we also need the `!important` here to be able to override the default hidden behavior on the sphinx rendered scikit-learn.org. See: https://github.com/scikit-learn/scikit-learn/issues/21755 */display: inline-block !important;position: relative;}#sk-container-id-1 div.sk-text-repr-fallback {display: none;}</style><div id=\"sk-container-id-1\" class=\"sk-top-container\"><div class=\"sk-text-repr-fallback\"><pre>Pipeline(steps=[(&#x27;scale&#x27;, StandardScaler()),\n",
       "                (&#x27;model&#x27;, RandomForestClassifier(n_jobs=-1))])</pre><b>In a Jupyter environment, please rerun this cell to show the HTML representation or trust the notebook. <br />On GitHub, the HTML representation is unable to render, please try loading this page with nbviewer.org.</b></div><div class=\"sk-container\" hidden><div class=\"sk-item sk-dashed-wrapped\"><div class=\"sk-label-container\"><div class=\"sk-label sk-toggleable\"><input class=\"sk-toggleable__control sk-hidden--visually\" id=\"sk-estimator-id-1\" type=\"checkbox\" ><label for=\"sk-estimator-id-1\" class=\"sk-toggleable__label sk-toggleable__label-arrow\">Pipeline</label><div class=\"sk-toggleable__content\"><pre>Pipeline(steps=[(&#x27;scale&#x27;, StandardScaler()),\n",
       "                (&#x27;model&#x27;, RandomForestClassifier(n_jobs=-1))])</pre></div></div></div><div class=\"sk-serial\"><div class=\"sk-item\"><div class=\"sk-estimator sk-toggleable\"><input class=\"sk-toggleable__control sk-hidden--visually\" id=\"sk-estimator-id-2\" type=\"checkbox\" ><label for=\"sk-estimator-id-2\" class=\"sk-toggleable__label sk-toggleable__label-arrow\">StandardScaler</label><div class=\"sk-toggleable__content\"><pre>StandardScaler()</pre></div></div></div><div class=\"sk-item\"><div class=\"sk-estimator sk-toggleable\"><input class=\"sk-toggleable__control sk-hidden--visually\" id=\"sk-estimator-id-3\" type=\"checkbox\" ><label for=\"sk-estimator-id-3\" class=\"sk-toggleable__label sk-toggleable__label-arrow\">RandomForestClassifier</label><div class=\"sk-toggleable__content\"><pre>RandomForestClassifier(n_jobs=-1)</pre></div></div></div></div></div></div></div>"
      ],
      "text/plain": [
       "Pipeline(steps=[('scale', StandardScaler()),\n",
       "                ('model', RandomForestClassifier(n_jobs=-1))])"
      ]
     },
     "execution_count": 36,
     "metadata": {},
     "output_type": "execute_result"
    }
   ],
   "source": [
    "model.fit(X_train, y_train.values.ravel())"
   ]
  },
  {
   "cell_type": "code",
   "execution_count": 37,
   "id": "af59f8c0",
   "metadata": {
    "execution": {
     "iopub.execute_input": "2025-07-28T10:44:48.434161Z",
     "iopub.status.busy": "2025-07-28T10:44:48.433120Z",
     "iopub.status.idle": "2025-07-28T10:44:48.438784Z",
     "shell.execute_reply": "2025-07-28T10:44:48.437847Z"
    },
    "papermill": {
     "duration": 0.035254,
     "end_time": "2025-07-28T10:44:48.441086",
     "exception": false,
     "start_time": "2025-07-28T10:44:48.405832",
     "status": "completed"
    },
    "tags": []
   },
   "outputs": [],
   "source": [
    "from fairness_multiverse.universe import predict_w_threshold"
   ]
  },
  {
   "cell_type": "code",
   "execution_count": 38,
   "id": "a7cf2e16",
   "metadata": {
    "execution": {
     "iopub.execute_input": "2025-07-28T10:44:48.489889Z",
     "iopub.status.busy": "2025-07-28T10:44:48.488987Z",
     "iopub.status.idle": "2025-07-28T10:44:49.326830Z",
     "shell.execute_reply": "2025-07-28T10:44:49.325835Z"
    },
    "papermill": {
     "duration": 0.863358,
     "end_time": "2025-07-28T10:44:49.328455",
     "exception": false,
     "start_time": "2025-07-28T10:44:48.465097",
     "status": "completed"
    },
    "tags": []
   },
   "outputs": [
    {
     "data": {
      "text/plain": [
       "0.861275220153829"
      ]
     },
     "execution_count": 38,
     "metadata": {},
     "output_type": "execute_result"
    }
   ],
   "source": [
    "probs_test = model.predict_proba(X_test)\n",
    "\n",
    "'''\n",
    "Below code returns a boolean array (or binary 0/1 array depending on how it’s used) where each element \n",
    "is True if the probability of class 1 is greater than or equal to the threshold, and False otherwise.\n",
    "'''\n",
    "y_pred_default = predict_w_threshold(probs_test, 0.5)\n",
    "\n",
    "from sklearn.metrics import accuracy_score\n",
    "\n",
    "# Naive prediction\n",
    "accuracy_score(y_true = y_true, y_pred = y_pred_default)"
   ]
  },
  {
   "cell_type": "code",
   "execution_count": 39,
   "id": "081964c3",
   "metadata": {
    "execution": {
     "iopub.execute_input": "2025-07-28T10:44:49.378744Z",
     "iopub.status.busy": "2025-07-28T10:44:49.378103Z",
     "iopub.status.idle": "2025-07-28T10:44:50.462382Z",
     "shell.execute_reply": "2025-07-28T10:44:50.461278Z"
    },
    "papermill": {
     "duration": 1.112911,
     "end_time": "2025-07-28T10:44:50.464470",
     "exception": false,
     "start_time": "2025-07-28T10:44:49.351559",
     "status": "completed"
    },
    "tags": []
   },
   "outputs": [
    {
     "data": {
      "text/plain": [
       "array([0, 0, 0, ..., 0, 0, 0])"
      ]
     },
     "execution_count": 39,
     "metadata": {},
     "output_type": "execute_result"
    }
   ],
   "source": [
    "model.predict(X_test)"
   ]
  },
  {
   "cell_type": "markdown",
   "id": "56c9705b",
   "metadata": {
    "papermill": {
     "duration": 0.022151,
     "end_time": "2025-07-28T10:44:50.509826",
     "exception": false,
     "start_time": "2025-07-28T10:44:50.487675",
     "status": "completed"
    },
    "tags": []
   },
   "source": [
    "# Conformal Prediction"
   ]
  },
  {
   "cell_type": "code",
   "execution_count": 40,
   "id": "160ec6ff",
   "metadata": {
    "execution": {
     "iopub.execute_input": "2025-07-28T10:44:50.556238Z",
     "iopub.status.busy": "2025-07-28T10:44:50.555741Z",
     "iopub.status.idle": "2025-07-28T10:44:50.561565Z",
     "shell.execute_reply": "2025-07-28T10:44:50.560606Z"
    },
    "papermill": {
     "duration": 0.033086,
     "end_time": "2025-07-28T10:44:50.564777",
     "exception": false,
     "start_time": "2025-07-28T10:44:50.531691",
     "status": "completed"
    },
    "tags": []
   },
   "outputs": [],
   "source": [
    "# Miscoverage level for conformal prediction (10% allowed error rate => 90% target coverage)\n",
    "alpha = 0.1"
   ]
  },
  {
   "cell_type": "code",
   "execution_count": 41,
   "id": "eadf4555-3dd3-440e-8e35-f82a4ad9f855",
   "metadata": {
    "execution": {
     "iopub.execute_input": "2025-07-28T10:44:50.610959Z",
     "iopub.status.busy": "2025-07-28T10:44:50.610558Z",
     "iopub.status.idle": "2025-07-28T10:44:51.566949Z",
     "shell.execute_reply": "2025-07-28T10:44:51.566212Z"
    },
    "papermill": {
     "duration": 0.982148,
     "end_time": "2025-07-28T10:44:51.569072",
     "exception": false,
     "start_time": "2025-07-28T10:44:50.586924",
     "status": "completed"
    },
    "tags": []
   },
   "outputs": [],
   "source": [
    "probs_calib = model.predict_proba(X_calib)"
   ]
  },
  {
   "cell_type": "code",
   "execution_count": 42,
   "id": "2ed93547-6d5d-4983-9b36-1ecb300da49a",
   "metadata": {
    "execution": {
     "iopub.execute_input": "2025-07-28T10:44:51.616619Z",
     "iopub.status.busy": "2025-07-28T10:44:51.616203Z",
     "iopub.status.idle": "2025-07-28T10:44:51.622766Z",
     "shell.execute_reply": "2025-07-28T10:44:51.621716Z"
    },
    "papermill": {
     "duration": 0.03354,
     "end_time": "2025-07-28T10:44:51.625767",
     "exception": false,
     "start_time": "2025-07-28T10:44:51.592227",
     "status": "completed"
    },
    "tags": []
   },
   "outputs": [],
   "source": [
    "y_calib = y_calib.values.ravel().astype(int)"
   ]
  },
  {
   "cell_type": "code",
   "execution_count": 43,
   "id": "65d1320d-f588-4b38-9072-62af1ae97f7d",
   "metadata": {
    "execution": {
     "iopub.execute_input": "2025-07-28T10:44:51.694011Z",
     "iopub.status.busy": "2025-07-28T10:44:51.693596Z",
     "iopub.status.idle": "2025-07-28T10:44:51.701077Z",
     "shell.execute_reply": "2025-07-28T10:44:51.700196Z"
    },
    "papermill": {
     "duration": 0.055146,
     "end_time": "2025-07-28T10:44:51.710936",
     "exception": false,
     "start_time": "2025-07-28T10:44:51.655790",
     "status": "completed"
    },
    "tags": []
   },
   "outputs": [],
   "source": [
    "from fairness_multiverse.conformal import compute_nc_scores\n",
    "\n",
    "# Compute nonconformity scores on calibration set (1 - probability of true class)\n",
    "nc_scores = compute_nc_scores(probs_calib, y_calib)"
   ]
  },
  {
   "cell_type": "code",
   "execution_count": 44,
   "id": "df3b8ca3-53b7-43d5-9667-7c85da7aeda2",
   "metadata": {
    "execution": {
     "iopub.execute_input": "2025-07-28T10:44:51.798793Z",
     "iopub.status.busy": "2025-07-28T10:44:51.798368Z",
     "iopub.status.idle": "2025-07-28T10:44:51.805279Z",
     "shell.execute_reply": "2025-07-28T10:44:51.804303Z"
    },
    "papermill": {
     "duration": 0.03681,
     "end_time": "2025-07-28T10:44:51.808962",
     "exception": false,
     "start_time": "2025-07-28T10:44:51.772152",
     "status": "completed"
    },
    "tags": []
   },
   "outputs": [],
   "source": [
    "from fairness_multiverse.conformal import find_threshold\n",
    "\n",
    "# Find conformal threshold q_hat for the given alpha (split conformal method)\n",
    "q_hat = find_threshold(nc_scores, alpha)"
   ]
  },
  {
   "cell_type": "code",
   "execution_count": 45,
   "id": "4d29e6c1-0ef6-4aa4-b8fe-4fe79b0d033a",
   "metadata": {
    "execution": {
     "iopub.execute_input": "2025-07-28T10:44:51.877676Z",
     "iopub.status.busy": "2025-07-28T10:44:51.877232Z",
     "iopub.status.idle": "2025-07-28T10:44:51.885344Z",
     "shell.execute_reply": "2025-07-28T10:44:51.884403Z"
    },
    "papermill": {
     "duration": 0.055856,
     "end_time": "2025-07-28T10:44:51.889682",
     "exception": false,
     "start_time": "2025-07-28T10:44:51.833826",
     "status": "completed"
    },
    "tags": []
   },
   "outputs": [
    {
     "data": {
      "text/plain": [
       "0.65"
      ]
     },
     "execution_count": 45,
     "metadata": {},
     "output_type": "execute_result"
    }
   ],
   "source": [
    "q_hat"
   ]
  },
  {
   "cell_type": "code",
   "execution_count": 46,
   "id": "92460794-cdac-4be2-ba28-f28c0515a6fb",
   "metadata": {
    "execution": {
     "iopub.execute_input": "2025-07-28T10:44:51.953484Z",
     "iopub.status.busy": "2025-07-28T10:44:51.953050Z",
     "iopub.status.idle": "2025-07-28T10:44:53.590827Z",
     "shell.execute_reply": "2025-07-28T10:44:53.589737Z"
    },
    "papermill": {
     "duration": 1.680183,
     "end_time": "2025-07-28T10:44:53.592984",
     "exception": false,
     "start_time": "2025-07-28T10:44:51.912801",
     "status": "completed"
    },
    "tags": []
   },
   "outputs": [],
   "source": [
    "from fairness_multiverse.conformal import predict_conformal_sets\n",
    "\n",
    "# Generate prediction sets for each test example\n",
    "pred_sets = predict_conformal_sets(model, X_test, q_hat)"
   ]
  },
  {
   "cell_type": "code",
   "execution_count": 47,
   "id": "d90c9a65-e6db-4f5d-80cd-e68fb7e46829",
   "metadata": {
    "execution": {
     "iopub.execute_input": "2025-07-28T10:44:53.651061Z",
     "iopub.status.busy": "2025-07-28T10:44:53.650335Z",
     "iopub.status.idle": "2025-07-28T10:44:53.656938Z",
     "shell.execute_reply": "2025-07-28T10:44:53.655755Z"
    },
    "papermill": {
     "duration": 0.035975,
     "end_time": "2025-07-28T10:44:53.658611",
     "exception": false,
     "start_time": "2025-07-28T10:44:53.622636",
     "status": "completed"
    },
    "tags": []
   },
   "outputs": [],
   "source": [
    "y_true = y_true.squeeze()"
   ]
  },
  {
   "cell_type": "code",
   "execution_count": 48,
   "id": "3a58a54a-1e68-46b9-927a-df01f18aebc8",
   "metadata": {
    "execution": {
     "iopub.execute_input": "2025-07-28T10:44:53.709735Z",
     "iopub.status.busy": "2025-07-28T10:44:53.708929Z",
     "iopub.status.idle": "2025-07-28T10:44:54.813162Z",
     "shell.execute_reply": "2025-07-28T10:44:54.812094Z"
    },
    "papermill": {
     "duration": 1.131958,
     "end_time": "2025-07-28T10:44:54.815198",
     "exception": false,
     "start_time": "2025-07-28T10:44:53.683240",
     "status": "completed"
    },
    "tags": []
   },
   "outputs": [],
   "source": [
    "from fairness_multiverse.conformal import evaluate_sets\n",
    "\n",
    "# Evaluate coverage and average set size on test data\n",
    "metrics = evaluate_sets(pred_sets, y_true)"
   ]
  },
  {
   "cell_type": "markdown",
   "id": "2b569c12-9aaa-4c88-98c9-bbcd0cf3ebb8",
   "metadata": {
    "papermill": {
     "duration": 0.023532,
     "end_time": "2025-07-28T10:44:54.864142",
     "exception": false,
     "start_time": "2025-07-28T10:44:54.840610",
     "status": "completed"
    },
    "tags": []
   },
   "source": [
    "# CP Metrics"
   ]
  },
  {
   "cell_type": "code",
   "execution_count": 49,
   "id": "5ce0a5cb-201f-45a0-ade5-94c7f0bd6095",
   "metadata": {
    "execution": {
     "iopub.execute_input": "2025-07-28T10:44:54.914548Z",
     "iopub.status.busy": "2025-07-28T10:44:54.913807Z",
     "iopub.status.idle": "2025-07-28T10:44:54.921694Z",
     "shell.execute_reply": "2025-07-28T10:44:54.920685Z"
    },
    "papermill": {
     "duration": 0.035397,
     "end_time": "2025-07-28T10:44:54.923363",
     "exception": false,
     "start_time": "2025-07-28T10:44:54.887966",
     "status": "completed"
    },
    "tags": []
   },
   "outputs": [
    {
     "data": {
      "text/plain": [
       "{'coverage': 0.9126407312451231, 'avg_size': 1.1462490246349348}"
      ]
     },
     "execution_count": 49,
     "metadata": {},
     "output_type": "execute_result"
    }
   ],
   "source": [
    "metrics"
   ]
  },
  {
   "cell_type": "code",
   "execution_count": 50,
   "id": "9b9a838d-31c9-430b-ae14-12baee460d17",
   "metadata": {
    "execution": {
     "iopub.execute_input": "2025-07-28T10:44:54.975204Z",
     "iopub.status.busy": "2025-07-28T10:44:54.974504Z",
     "iopub.status.idle": "2025-07-28T10:44:54.981385Z",
     "shell.execute_reply": "2025-07-28T10:44:54.980375Z"
    },
    "papermill": {
     "duration": 0.035112,
     "end_time": "2025-07-28T10:44:54.983112",
     "exception": false,
     "start_time": "2025-07-28T10:44:54.948000",
     "status": "completed"
    },
    "tags": []
   },
   "outputs": [],
   "source": [
    "example_universe = universe.copy()\n",
    "universe_training_size = example_universe.get(\"training_size\")\n",
    "universe_scale = example_universe.get(\"scale\")\n",
    "universe_model = example_universe.get(\"model\")\n",
    "universe_exclude_features = example_universe.get(\"exclude_features\")\n",
    "universe_exclude_subgroups = example_universe.get(\"exclude_subgroups\")"
   ]
  },
  {
   "cell_type": "code",
   "execution_count": 51,
   "id": "f4b6a8ac-9dc0-4245-8a91-5b3b5999c4f9",
   "metadata": {
    "execution": {
     "iopub.execute_input": "2025-07-28T10:44:55.036417Z",
     "iopub.status.busy": "2025-07-28T10:44:55.035379Z",
     "iopub.status.idle": "2025-07-28T10:44:55.042993Z",
     "shell.execute_reply": "2025-07-28T10:44:55.041926Z"
    },
    "papermill": {
     "duration": 0.037107,
     "end_time": "2025-07-28T10:44:55.044769",
     "exception": false,
     "start_time": "2025-07-28T10:44:55.007662",
     "status": "completed"
    },
    "tags": []
   },
   "outputs": [],
   "source": [
    "cp_metrics_dict = {\n",
    "    \"universe_id\": [universe_id],\n",
    "    \"universe_training_size\": [universe_training_size],\n",
    "    \"universe_scale\": [universe_scale],\n",
    "    \"universe_model\": [universe_model],\n",
    "    \"universe_exclude_features\": [universe_exclude_features],\n",
    "    \"universe_exclude_subgroups\": [universe_exclude_subgroups],\n",
    "    \"q_hat\": [q_hat],\n",
    "    \"coverage\": [metrics[\"coverage\"]],\n",
    "    \"avg_size\": [metrics[\"avg_size\"]],\n",
    "}"
   ]
  },
  {
   "cell_type": "code",
   "execution_count": 52,
   "id": "908acbb1-0371-4915-85ca-3fa520d2efe2",
   "metadata": {
    "execution": {
     "iopub.execute_input": "2025-07-28T10:44:55.095979Z",
     "iopub.status.busy": "2025-07-28T10:44:55.095074Z",
     "iopub.status.idle": "2025-07-28T10:44:55.103315Z",
     "shell.execute_reply": "2025-07-28T10:44:55.102177Z"
    },
    "papermill": {
     "duration": 0.03488,
     "end_time": "2025-07-28T10:44:55.105055",
     "exception": false,
     "start_time": "2025-07-28T10:44:55.070175",
     "status": "completed"
    },
    "tags": []
   },
   "outputs": [
    {
     "data": {
      "text/plain": [
       "{'universe_id': ['ae132526dd6cca48e43462278ad4c94c'],\n",
       " 'universe_training_size': ['1k'],\n",
       " 'universe_scale': ['scale'],\n",
       " 'universe_model': ['rf'],\n",
       " 'universe_exclude_features': ['sex'],\n",
       " 'universe_exclude_subgroups': ['keep-all'],\n",
       " 'q_hat': [0.65],\n",
       " 'coverage': [0.9126407312451231],\n",
       " 'avg_size': [1.1462490246349348]}"
      ]
     },
     "execution_count": 52,
     "metadata": {},
     "output_type": "execute_result"
    }
   ],
   "source": [
    "cp_metrics_dict"
   ]
  },
  {
   "cell_type": "code",
   "execution_count": 53,
   "id": "33007efc-14e9-4ec6-97ac-56a455c82265",
   "metadata": {
    "execution": {
     "iopub.execute_input": "2025-07-28T10:44:55.137050Z",
     "iopub.status.busy": "2025-07-28T10:44:55.136592Z",
     "iopub.status.idle": "2025-07-28T10:44:55.142844Z",
     "shell.execute_reply": "2025-07-28T10:44:55.141990Z"
    },
    "papermill": {
     "duration": 0.022725,
     "end_time": "2025-07-28T10:44:55.145107",
     "exception": false,
     "start_time": "2025-07-28T10:44:55.122382",
     "status": "completed"
    },
    "tags": []
   },
   "outputs": [],
   "source": [
    "cp_metrics_df = pd.DataFrame(cp_metrics_dict)"
   ]
  },
  {
   "cell_type": "code",
   "execution_count": 54,
   "id": "db12611b-57b2-4910-b9d0-355adfd6e7bf",
   "metadata": {
    "execution": {
     "iopub.execute_input": "2025-07-28T10:44:55.204078Z",
     "iopub.status.busy": "2025-07-28T10:44:55.203224Z",
     "iopub.status.idle": "2025-07-28T10:44:55.223707Z",
     "shell.execute_reply": "2025-07-28T10:44:55.222603Z"
    },
    "papermill": {
     "duration": 0.051701,
     "end_time": "2025-07-28T10:44:55.225689",
     "exception": false,
     "start_time": "2025-07-28T10:44:55.173988",
     "status": "completed"
    },
    "tags": []
   },
   "outputs": [
    {
     "data": {
      "text/html": [
       "<div>\n",
       "<style scoped>\n",
       "    .dataframe tbody tr th:only-of-type {\n",
       "        vertical-align: middle;\n",
       "    }\n",
       "\n",
       "    .dataframe tbody tr th {\n",
       "        vertical-align: top;\n",
       "    }\n",
       "\n",
       "    .dataframe thead th {\n",
       "        text-align: right;\n",
       "    }\n",
       "</style>\n",
       "<table border=\"1\" class=\"dataframe\">\n",
       "  <thead>\n",
       "    <tr style=\"text-align: right;\">\n",
       "      <th></th>\n",
       "      <th>universe_id</th>\n",
       "      <th>universe_training_size</th>\n",
       "      <th>universe_scale</th>\n",
       "      <th>universe_model</th>\n",
       "      <th>universe_exclude_features</th>\n",
       "      <th>universe_exclude_subgroups</th>\n",
       "      <th>q_hat</th>\n",
       "      <th>coverage</th>\n",
       "      <th>avg_size</th>\n",
       "    </tr>\n",
       "  </thead>\n",
       "  <tbody>\n",
       "    <tr>\n",
       "      <th>0</th>\n",
       "      <td>ae132526dd6cca48e43462278ad4c94c</td>\n",
       "      <td>1k</td>\n",
       "      <td>scale</td>\n",
       "      <td>rf</td>\n",
       "      <td>sex</td>\n",
       "      <td>keep-all</td>\n",
       "      <td>0.65</td>\n",
       "      <td>0.912641</td>\n",
       "      <td>1.146249</td>\n",
       "    </tr>\n",
       "  </tbody>\n",
       "</table>\n",
       "</div>"
      ],
      "text/plain": [
       "                        universe_id universe_training_size universe_scale  \\\n",
       "0  ae132526dd6cca48e43462278ad4c94c                     1k          scale   \n",
       "\n",
       "  universe_model universe_exclude_features universe_exclude_subgroups  q_hat  \\\n",
       "0             rf                       sex                   keep-all   0.65   \n",
       "\n",
       "   coverage  avg_size  \n",
       "0  0.912641  1.146249  "
      ]
     },
     "execution_count": 54,
     "metadata": {},
     "output_type": "execute_result"
    }
   ],
   "source": [
    "cp_metrics_df"
   ]
  },
  {
   "cell_type": "code",
   "execution_count": 55,
   "id": "b7fbde55-a0a1-47e4-9af6-fe4a17fa8c61",
   "metadata": {
    "execution": {
     "iopub.execute_input": "2025-07-28T10:44:55.285510Z",
     "iopub.status.busy": "2025-07-28T10:44:55.284952Z",
     "iopub.status.idle": "2025-07-28T10:44:55.291139Z",
     "shell.execute_reply": "2025-07-28T10:44:55.290081Z"
    },
    "papermill": {
     "duration": 0.038019,
     "end_time": "2025-07-28T10:44:55.293074",
     "exception": false,
     "start_time": "2025-07-28T10:44:55.255055",
     "status": "completed"
    },
    "tags": []
   },
   "outputs": [],
   "source": [
    "# Conditional Coverage & looking at subgroups"
   ]
  },
  {
   "cell_type": "code",
   "execution_count": 56,
   "id": "027ae886-68dd-4141-96c7-805a5450e1ef",
   "metadata": {
    "execution": {
     "iopub.execute_input": "2025-07-28T10:44:55.355013Z",
     "iopub.status.busy": "2025-07-28T10:44:55.354486Z",
     "iopub.status.idle": "2025-07-28T10:44:55.642589Z",
     "shell.execute_reply": "2025-07-28T10:44:55.641516Z"
    },
    "papermill": {
     "duration": 0.321512,
     "end_time": "2025-07-28T10:44:55.644584",
     "exception": false,
     "start_time": "2025-07-28T10:44:55.323072",
     "status": "completed"
    },
    "tags": []
   },
   "outputs": [],
   "source": [
    "from fairness_multiverse.conformal import build_cp_groups\n",
    "\n",
    "cp_groups_df = build_cp_groups(pred_sets, y_true, X_test.index, org_test)\n",
    "#needs universe_id and setting"
   ]
  },
  {
   "cell_type": "code",
   "execution_count": 57,
   "id": "01d5802c-663a-4d1f-9d69-e036faaffbf7",
   "metadata": {
    "execution": {
     "iopub.execute_input": "2025-07-28T10:44:55.700783Z",
     "iopub.status.busy": "2025-07-28T10:44:55.699912Z",
     "iopub.status.idle": "2025-07-28T10:44:55.704251Z",
     "shell.execute_reply": "2025-07-28T10:44:55.703451Z"
    },
    "papermill": {
     "duration": 0.046553,
     "end_time": "2025-07-28T10:44:55.717513",
     "exception": false,
     "start_time": "2025-07-28T10:44:55.670960",
     "status": "completed"
    },
    "tags": []
   },
   "outputs": [],
   "source": [
    "#delete\n",
    "#cp_groups_df"
   ]
  },
  {
   "cell_type": "code",
   "execution_count": 58,
   "id": "fa424af1-d1eb-443d-b717-2d279ada8408",
   "metadata": {
    "execution": {
     "iopub.execute_input": "2025-07-28T10:44:55.763460Z",
     "iopub.status.busy": "2025-07-28T10:44:55.763094Z",
     "iopub.status.idle": "2025-07-28T10:44:55.767880Z",
     "shell.execute_reply": "2025-07-28T10:44:55.767085Z"
    },
    "papermill": {
     "duration": 0.021169,
     "end_time": "2025-07-28T10:44:55.769321",
     "exception": false,
     "start_time": "2025-07-28T10:44:55.748152",
     "status": "completed"
    },
    "tags": []
   },
   "outputs": [],
   "source": [
    "#delete\n",
    "#percentage = (cp_groups_df['nongerman_female'] == 1).mean() * 100\n",
    "#print(percentage)\n"
   ]
  },
  {
   "cell_type": "code",
   "execution_count": 59,
   "id": "6cbdab96-b2b2-45af-ad54-d0516db2e28d",
   "metadata": {
    "execution": {
     "iopub.execute_input": "2025-07-28T10:44:55.798676Z",
     "iopub.status.busy": "2025-07-28T10:44:55.798153Z",
     "iopub.status.idle": "2025-07-28T10:44:57.692891Z",
     "shell.execute_reply": "2025-07-28T10:44:57.691856Z"
    },
    "papermill": {
     "duration": 1.911113,
     "end_time": "2025-07-28T10:44:57.695074",
     "exception": false,
     "start_time": "2025-07-28T10:44:55.783961",
     "status": "completed"
    },
    "tags": []
   },
   "outputs": [],
   "source": [
    "# Define covered = 1 if true_label is in the predicted set\n",
    "cp_groups_df['covered'] = cp_groups_df.apply(\n",
    "    lambda r: int(r['true_label'] in r['pred_set']),\n",
    "    axis=1\n",
    ")"
   ]
  },
  {
   "cell_type": "code",
   "execution_count": 60,
   "id": "338ff529-1a6b-4b87-a931-8e4788d52aad",
   "metadata": {
    "execution": {
     "iopub.execute_input": "2025-07-28T10:44:57.751351Z",
     "iopub.status.busy": "2025-07-28T10:44:57.750514Z",
     "iopub.status.idle": "2025-07-28T10:44:57.755955Z",
     "shell.execute_reply": "2025-07-28T10:44:57.755153Z"
    },
    "papermill": {
     "duration": 0.032889,
     "end_time": "2025-07-28T10:44:57.757675",
     "exception": false,
     "start_time": "2025-07-28T10:44:57.724786",
     "status": "completed"
    },
    "tags": []
   },
   "outputs": [],
   "source": [
    "#cp_groups_df"
   ]
  },
  {
   "cell_type": "code",
   "execution_count": 61,
   "id": "90032e27-66df-4540-9169-4e89cfbaa758",
   "metadata": {
    "execution": {
     "iopub.execute_input": "2025-07-28T10:44:57.810750Z",
     "iopub.status.busy": "2025-07-28T10:44:57.809774Z",
     "iopub.status.idle": "2025-07-28T10:44:57.823155Z",
     "shell.execute_reply": "2025-07-28T10:44:57.822015Z"
    },
    "papermill": {
     "duration": 0.042326,
     "end_time": "2025-07-28T10:44:57.825093",
     "exception": false,
     "start_time": "2025-07-28T10:44:57.782767",
     "status": "completed"
    },
    "tags": []
   },
   "outputs": [],
   "source": [
    "subgroups = ['frau1','nongerman','nongerman_male','nongerman_female']\n",
    "\n",
    "# Conditional coverage for subgroup==1\n",
    "cond_coverage = {\n",
    "    g: cp_groups_df.loc[cp_groups_df[g]==1, 'covered'].mean()\n",
    "    for g in subgroups\n",
    "}"
   ]
  },
  {
   "cell_type": "code",
   "execution_count": 62,
   "id": "1e348fb1-b9c3-45bc-ba23-f016827a7e0d",
   "metadata": {
    "execution": {
     "iopub.execute_input": "2025-07-28T10:44:57.871462Z",
     "iopub.status.busy": "2025-07-28T10:44:57.870912Z",
     "iopub.status.idle": "2025-07-28T10:44:57.879375Z",
     "shell.execute_reply": "2025-07-28T10:44:57.878347Z"
    },
    "papermill": {
     "duration": 0.029019,
     "end_time": "2025-07-28T10:44:57.881665",
     "exception": false,
     "start_time": "2025-07-28T10:44:57.852646",
     "status": "completed"
    },
    "tags": []
   },
   "outputs": [
    {
     "data": {
      "text/plain": [
       "{'frau1': 0.9107157298827335,\n",
       " 'nongerman': 0.9072587436142143,\n",
       " 'nongerman_male': 0.9235341799513644,\n",
       " 'nongerman_female': 0.8803278688524591}"
      ]
     },
     "execution_count": 62,
     "metadata": {},
     "output_type": "execute_result"
    }
   ],
   "source": [
    "cond_coverage"
   ]
  },
  {
   "cell_type": "code",
   "execution_count": 63,
   "id": "f5093324-c3dd-4d63-bc4c-8d945e5c8bbb",
   "metadata": {
    "execution": {
     "iopub.execute_input": "2025-07-28T10:44:57.958070Z",
     "iopub.status.busy": "2025-07-28T10:44:57.957492Z",
     "iopub.status.idle": "2025-07-28T10:44:57.967522Z",
     "shell.execute_reply": "2025-07-28T10:44:57.965635Z"
    },
    "papermill": {
     "duration": 0.051857,
     "end_time": "2025-07-28T10:44:57.970341",
     "exception": false,
     "start_time": "2025-07-28T10:44:57.918484",
     "status": "completed"
    },
    "tags": []
   },
   "outputs": [],
   "source": [
    "for subgroup, cov in cond_coverage.items():\n",
    "    cp_metrics_df[f\"cov_{subgroup}\"] = cov"
   ]
  },
  {
   "cell_type": "code",
   "execution_count": 64,
   "id": "6e872e10-dbe5-49e8-b554-5030c98ff75d",
   "metadata": {
    "execution": {
     "iopub.execute_input": "2025-07-28T10:44:58.046134Z",
     "iopub.status.busy": "2025-07-28T10:44:58.045650Z",
     "iopub.status.idle": "2025-07-28T10:44:58.065722Z",
     "shell.execute_reply": "2025-07-28T10:44:58.064723Z"
    },
    "papermill": {
     "duration": 0.060368,
     "end_time": "2025-07-28T10:44:58.067576",
     "exception": false,
     "start_time": "2025-07-28T10:44:58.007208",
     "status": "completed"
    },
    "tags": []
   },
   "outputs": [
    {
     "data": {
      "text/html": [
       "<div>\n",
       "<style scoped>\n",
       "    .dataframe tbody tr th:only-of-type {\n",
       "        vertical-align: middle;\n",
       "    }\n",
       "\n",
       "    .dataframe tbody tr th {\n",
       "        vertical-align: top;\n",
       "    }\n",
       "\n",
       "    .dataframe thead th {\n",
       "        text-align: right;\n",
       "    }\n",
       "</style>\n",
       "<table border=\"1\" class=\"dataframe\">\n",
       "  <thead>\n",
       "    <tr style=\"text-align: right;\">\n",
       "      <th></th>\n",
       "      <th>universe_id</th>\n",
       "      <th>universe_training_size</th>\n",
       "      <th>universe_scale</th>\n",
       "      <th>universe_model</th>\n",
       "      <th>universe_exclude_features</th>\n",
       "      <th>universe_exclude_subgroups</th>\n",
       "      <th>q_hat</th>\n",
       "      <th>coverage</th>\n",
       "      <th>avg_size</th>\n",
       "      <th>cov_frau1</th>\n",
       "      <th>cov_nongerman</th>\n",
       "      <th>cov_nongerman_male</th>\n",
       "      <th>cov_nongerman_female</th>\n",
       "    </tr>\n",
       "  </thead>\n",
       "  <tbody>\n",
       "    <tr>\n",
       "      <th>0</th>\n",
       "      <td>ae132526dd6cca48e43462278ad4c94c</td>\n",
       "      <td>1k</td>\n",
       "      <td>scale</td>\n",
       "      <td>rf</td>\n",
       "      <td>sex</td>\n",
       "      <td>keep-all</td>\n",
       "      <td>0.65</td>\n",
       "      <td>0.912641</td>\n",
       "      <td>1.146249</td>\n",
       "      <td>0.910716</td>\n",
       "      <td>0.907259</td>\n",
       "      <td>0.923534</td>\n",
       "      <td>0.880328</td>\n",
       "    </tr>\n",
       "  </tbody>\n",
       "</table>\n",
       "</div>"
      ],
      "text/plain": [
       "                        universe_id universe_training_size universe_scale  \\\n",
       "0  ae132526dd6cca48e43462278ad4c94c                     1k          scale   \n",
       "\n",
       "  universe_model universe_exclude_features universe_exclude_subgroups  q_hat  \\\n",
       "0             rf                       sex                   keep-all   0.65   \n",
       "\n",
       "   coverage  avg_size  cov_frau1  cov_nongerman  cov_nongerman_male  \\\n",
       "0  0.912641  1.146249   0.910716       0.907259            0.923534   \n",
       "\n",
       "   cov_nongerman_female  \n",
       "0              0.880328  "
      ]
     },
     "execution_count": 64,
     "metadata": {},
     "output_type": "execute_result"
    }
   ],
   "source": [
    "cp_metrics_df"
   ]
  },
  {
   "cell_type": "markdown",
   "id": "33774451",
   "metadata": {
    "papermill": {
     "duration": 0.014598,
     "end_time": "2025-07-28T10:44:58.105703",
     "exception": false,
     "start_time": "2025-07-28T10:44:58.091105",
     "status": "completed"
    },
    "tags": []
   },
   "source": [
    "# (Fairness) Metrics"
   ]
  },
  {
   "cell_type": "code",
   "execution_count": 65,
   "id": "debc5d62",
   "metadata": {
    "execution": {
     "iopub.execute_input": "2025-07-28T10:44:58.158236Z",
     "iopub.status.busy": "2025-07-28T10:44:58.157833Z",
     "iopub.status.idle": "2025-07-28T10:44:58.182725Z",
     "shell.execute_reply": "2025-07-28T10:44:58.181687Z"
    },
    "papermill": {
     "duration": 0.056539,
     "end_time": "2025-07-28T10:44:58.184876",
     "exception": false,
     "start_time": "2025-07-28T10:44:58.128337",
     "status": "completed"
    },
    "tags": []
   },
   "outputs": [],
   "source": [
    "# do I need to include maxdeutsch1.missing?\n",
    "\n",
    "import numpy as np\n",
    "\n",
    "colname_to_bin = \"maxdeutsch1\"\n",
    "majority_value = org_train[colname_to_bin].mode()[0]\n",
    "\n",
    "org_test[\"majmin\"] = np.where(org_test[colname_to_bin] == majority_value, \"majority\", \"minority\")"
   ]
  },
  {
   "cell_type": "code",
   "execution_count": 66,
   "id": "06a50de5",
   "metadata": {
    "execution": {
     "iopub.execute_input": "2025-07-28T10:44:58.244267Z",
     "iopub.status.busy": "2025-07-28T10:44:58.243138Z",
     "iopub.status.idle": "2025-07-28T10:45:00.689007Z",
     "shell.execute_reply": "2025-07-28T10:45:00.687917Z"
    },
    "papermill": {
     "duration": 2.477704,
     "end_time": "2025-07-28T10:45:00.690959",
     "exception": false,
     "start_time": "2025-07-28T10:44:58.213255",
     "status": "completed"
    },
    "tags": []
   },
   "outputs": [],
   "source": [
    "example_universe = universe.copy()\n",
    "example_universe[\"cutoff\"] = example_universe[\"cutoff\"][0]\n",
    "example_universe[\"eval_fairness_grouping\"] = example_universe[\"eval_fairness_grouping\"][0]\n",
    "fairness_dict, metric_frame = universe_analysis.compute_metrics(\n",
    "    example_universe,\n",
    "    y_pred_prob=probs_test,\n",
    "    y_test=y_true,\n",
    "    org_test=org_test,\n",
    ")"
   ]
  },
  {
   "cell_type": "markdown",
   "id": "f95d4e02",
   "metadata": {
    "papermill": {
     "duration": 0.027625,
     "end_time": "2025-07-28T10:45:00.746860",
     "exception": false,
     "start_time": "2025-07-28T10:45:00.719235",
     "status": "completed"
    },
    "tags": []
   },
   "source": [
    "# Overall"
   ]
  },
  {
   "cell_type": "markdown",
   "id": "bdee4871",
   "metadata": {
    "papermill": {
     "duration": 0.028242,
     "end_time": "2025-07-28T10:45:00.801772",
     "exception": false,
     "start_time": "2025-07-28T10:45:00.773530",
     "status": "completed"
    },
    "tags": []
   },
   "source": [
    "Fairness\n",
    "Main fairness target: Equalized Odds. Seems to be a better fit than equal opportunity, since we're not only interested in Y = 1. Seems to be a better fit than demographic parity, since we also care about accuracy, not just equal distribution of preds.\n",
    "\n",
    "Pick column for computation of fairness metrics\n",
    "\n",
    "Performance\n",
    "Overall performance measures, most interesting in relation to the measures split by group below"
   ]
  },
  {
   "cell_type": "code",
   "execution_count": 67,
   "id": "c4e067c6",
   "metadata": {
    "execution": {
     "iopub.execute_input": "2025-07-28T10:45:00.856577Z",
     "iopub.status.busy": "2025-07-28T10:45:00.856142Z",
     "iopub.status.idle": "2025-07-28T10:45:00.868661Z",
     "shell.execute_reply": "2025-07-28T10:45:00.866764Z"
    },
    "papermill": {
     "duration": 0.042602,
     "end_time": "2025-07-28T10:45:00.871546",
     "exception": false,
     "start_time": "2025-07-28T10:45:00.828944",
     "status": "completed"
    },
    "tags": []
   },
   "outputs": [
    {
     "data": {
      "text/plain": [
       "accuracy                   0.206265\n",
       "balanced accuracy          0.532095\n",
       "f1                         0.238764\n",
       "precision                  0.136130\n",
       "false positive rate        0.906179\n",
       "false negative rate        0.029632\n",
       "selection rate             0.914413\n",
       "count                  89710.000000\n",
       "dtype: float64"
      ]
     },
     "execution_count": 67,
     "metadata": {},
     "output_type": "execute_result"
    }
   ],
   "source": [
    "metric_frame.overall"
   ]
  },
  {
   "cell_type": "markdown",
   "id": "e968fe9d",
   "metadata": {
    "papermill": {
     "duration": 0.027599,
     "end_time": "2025-07-28T10:45:00.928224",
     "exception": false,
     "start_time": "2025-07-28T10:45:00.900625",
     "status": "completed"
    },
    "tags": []
   },
   "source": [
    "By Group"
   ]
  },
  {
   "cell_type": "code",
   "execution_count": 68,
   "id": "ec325bce",
   "metadata": {
    "execution": {
     "iopub.execute_input": "2025-07-28T10:45:00.992450Z",
     "iopub.status.busy": "2025-07-28T10:45:00.992025Z",
     "iopub.status.idle": "2025-07-28T10:45:01.014719Z",
     "shell.execute_reply": "2025-07-28T10:45:01.013686Z"
    },
    "papermill": {
     "duration": 0.053836,
     "end_time": "2025-07-28T10:45:01.016760",
     "exception": false,
     "start_time": "2025-07-28T10:45:00.962924",
     "status": "completed"
    },
    "tags": []
   },
   "outputs": [
    {
     "data": {
      "text/html": [
       "<div>\n",
       "<style scoped>\n",
       "    .dataframe tbody tr th:only-of-type {\n",
       "        vertical-align: middle;\n",
       "    }\n",
       "\n",
       "    .dataframe tbody tr th {\n",
       "        vertical-align: top;\n",
       "    }\n",
       "\n",
       "    .dataframe thead th {\n",
       "        text-align: right;\n",
       "    }\n",
       "</style>\n",
       "<table border=\"1\" class=\"dataframe\">\n",
       "  <thead>\n",
       "    <tr style=\"text-align: right;\">\n",
       "      <th></th>\n",
       "      <th>accuracy</th>\n",
       "      <th>balanced accuracy</th>\n",
       "      <th>f1</th>\n",
       "      <th>precision</th>\n",
       "      <th>false positive rate</th>\n",
       "      <th>false negative rate</th>\n",
       "      <th>selection rate</th>\n",
       "      <th>count</th>\n",
       "    </tr>\n",
       "    <tr>\n",
       "      <th>majmin</th>\n",
       "      <th></th>\n",
       "      <th></th>\n",
       "      <th></th>\n",
       "      <th></th>\n",
       "      <th></th>\n",
       "      <th></th>\n",
       "      <th></th>\n",
       "      <th></th>\n",
       "    </tr>\n",
       "  </thead>\n",
       "  <tbody>\n",
       "    <tr>\n",
       "      <th>majority</th>\n",
       "      <td>0.195287</td>\n",
       "      <td>0.531327</td>\n",
       "      <td>0.244995</td>\n",
       "      <td>0.139833</td>\n",
       "      <td>0.925421</td>\n",
       "      <td>0.011926</td>\n",
       "      <td>0.933700</td>\n",
       "      <td>69170.0</td>\n",
       "    </tr>\n",
       "    <tr>\n",
       "      <th>minority</th>\n",
       "      <td>0.243233</td>\n",
       "      <td>0.529706</td>\n",
       "      <td>0.215583</td>\n",
       "      <td>0.122421</td>\n",
       "      <td>0.842615</td>\n",
       "      <td>0.097973</td>\n",
       "      <td>0.849464</td>\n",
       "      <td>20540.0</td>\n",
       "    </tr>\n",
       "  </tbody>\n",
       "</table>\n",
       "</div>"
      ],
      "text/plain": [
       "          accuracy  balanced accuracy        f1  precision  \\\n",
       "majmin                                                       \n",
       "majority  0.195287           0.531327  0.244995   0.139833   \n",
       "minority  0.243233           0.529706  0.215583   0.122421   \n",
       "\n",
       "          false positive rate  false negative rate  selection rate    count  \n",
       "majmin                                                                       \n",
       "majority             0.925421             0.011926        0.933700  69170.0  \n",
       "minority             0.842615             0.097973        0.849464  20540.0  "
      ]
     },
     "execution_count": 68,
     "metadata": {},
     "output_type": "execute_result"
    }
   ],
   "source": [
    "metric_frame.by_group"
   ]
  },
  {
   "cell_type": "code",
   "execution_count": 69,
   "id": "a9ddbe63",
   "metadata": {
    "execution": {
     "iopub.execute_input": "2025-07-28T10:45:01.093456Z",
     "iopub.status.busy": "2025-07-28T10:45:01.093018Z",
     "iopub.status.idle": "2025-07-28T10:45:03.730709Z",
     "shell.execute_reply": "2025-07-28T10:45:03.729857Z"
    },
    "papermill": {
     "duration": 2.686404,
     "end_time": "2025-07-28T10:45:03.732563",
     "exception": false,
     "start_time": "2025-07-28T10:45:01.046159",
     "status": "completed"
    },
    "tags": []
   },
   "outputs": [
    {
     "data": {
      "text/plain": [
       "array([[<Axes: title={'center': 'accuracy'}, xlabel='majmin'>,\n",
       "        <Axes: title={'center': 'balanced accuracy'}, xlabel='majmin'>,\n",
       "        <Axes: title={'center': 'f1'}, xlabel='majmin'>],\n",
       "       [<Axes: title={'center': 'precision'}, xlabel='majmin'>,\n",
       "        <Axes: title={'center': 'false positive rate'}, xlabel='majmin'>,\n",
       "        <Axes: title={'center': 'false negative rate'}, xlabel='majmin'>],\n",
       "       [<Axes: title={'center': 'selection rate'}, xlabel='majmin'>,\n",
       "        <Axes: title={'center': 'count'}, xlabel='majmin'>,\n",
       "        <Axes: xlabel='majmin'>]], dtype=object)"
      ]
     },
     "execution_count": 69,
     "metadata": {},
     "output_type": "execute_result"
    },
    {
     "data": {
      "image/png": "[encoded data removed]",
      "text/plain": [
       "<Figure size 1200x800 with 9 Axes>"
      ]
     },
     "metadata": {},
     "output_type": "display_data"
    }
   ],
   "source": [
    "# In a graphic\n",
    "metric_frame.by_group.plot.bar(\n",
    "    subplots=True,\n",
    "    layout=[3, 3],\n",
    "    legend=False,\n",
    "    figsize=[12, 8],\n",
    "    title=\"Show all metrics\",\n",
    ")"
   ]
  },
  {
   "cell_type": "markdown",
   "id": "f57a0bac",
   "metadata": {
    "papermill": {
     "duration": 0.027717,
     "end_time": "2025-07-28T10:45:03.791874",
     "exception": false,
     "start_time": "2025-07-28T10:45:03.764157",
     "status": "completed"
    },
    "tags": []
   },
   "source": [
    "# Final Output"
   ]
  },
  {
   "cell_type": "code",
   "execution_count": 70,
   "id": "96d280a3",
   "metadata": {
    "execution": {
     "iopub.execute_input": "2025-07-28T10:45:03.850246Z",
     "iopub.status.busy": "2025-07-28T10:45:03.849592Z",
     "iopub.status.idle": "2025-07-28T10:45:03.858949Z",
     "shell.execute_reply": "2025-07-28T10:45:03.857961Z"
    },
    "papermill": {
     "duration": 0.042742,
     "end_time": "2025-07-28T10:45:03.866633",
     "exception": false,
     "start_time": "2025-07-28T10:45:03.823891",
     "status": "completed"
    },
    "tags": []
   },
   "outputs": [
    {
     "data": {
      "text/plain": [
       "4"
      ]
     },
     "execution_count": 70,
     "metadata": {},
     "output_type": "execute_result"
    }
   ],
   "source": [
    "sub_universes = universe_analysis.generate_sub_universes()\n",
    "len(sub_universes)"
   ]
  },
  {
   "cell_type": "code",
   "execution_count": 71,
   "id": "92adf7ba",
   "metadata": {
    "execution": {
     "iopub.execute_input": "2025-07-28T10:45:03.953158Z",
     "iopub.status.busy": "2025-07-28T10:45:03.952744Z",
     "iopub.status.idle": "2025-07-28T10:45:03.958764Z",
     "shell.execute_reply": "2025-07-28T10:45:03.957838Z"
    },
    "papermill": {
     "duration": 0.051595,
     "end_time": "2025-07-28T10:45:03.961708",
     "exception": false,
     "start_time": "2025-07-28T10:45:03.910113",
     "status": "completed"
    },
    "tags": []
   },
   "outputs": [],
   "source": [
    "def filter_sub_universe_data(sub_universe, org_test):\n",
    "    # Keep all rows — no filtering\n",
    "    keep_rows_mask = np.ones(org_test.shape[0], dtype=bool)\n",
    "\n",
    "    print(f\"[INFO] Keeping all rows: {keep_rows_mask.sum()} rows retained.\")\n",
    "    return keep_rows_mask"
   ]
  },
  {
   "cell_type": "code",
   "execution_count": 72,
   "id": "4a759155",
   "metadata": {
    "execution": {
     "iopub.execute_input": "2025-07-28T10:45:04.069494Z",
     "iopub.status.busy": "2025-07-28T10:45:04.069059Z",
     "iopub.status.idle": "2025-07-28T10:45:16.094484Z",
     "shell.execute_reply": "2025-07-28T10:45:16.093225Z"
    },
    "papermill": {
     "duration": 12.091128,
     "end_time": "2025-07-28T10:45:16.096472",
     "exception": false,
     "start_time": "2025-07-28T10:45:04.005344",
     "status": "completed"
    },
    "tags": []
   },
   "outputs": [
    {
     "name": "stdout",
     "output_type": "stream",
     "text": [
      "Stopping execution_time clock.\n",
      "[INFO] Keeping all rows: 89710 rows retained.\n"
     ]
    },
    {
     "name": "stdout",
     "output_type": "stream",
     "text": [
      "[INFO] Keeping all rows: 89710 rows retained.\n"
     ]
    },
    {
     "name": "stdout",
     "output_type": "stream",
     "text": [
      "[INFO] Keeping all rows: 89710 rows retained.\n"
     ]
    },
    {
     "name": "stdout",
     "output_type": "stream",
     "text": [
      "[INFO] Keeping all rows: 89710 rows retained.\n"
     ]
    },
    {
     "data": {
      "text/html": [
       "<div>\n",
       "<style scoped>\n",
       "    .dataframe tbody tr th:only-of-type {\n",
       "        vertical-align: middle;\n",
       "    }\n",
       "\n",
       "    .dataframe tbody tr th {\n",
       "        vertical-align: top;\n",
       "    }\n",
       "\n",
       "    .dataframe thead th {\n",
       "        text-align: right;\n",
       "    }\n",
       "</style>\n",
       "<table border=\"1\" class=\"dataframe\">\n",
       "  <thead>\n",
       "    <tr style=\"text-align: right;\">\n",
       "      <th></th>\n",
       "      <th>run_no</th>\n",
       "      <th>universe_id</th>\n",
       "      <th>universe_settings</th>\n",
       "      <th>execution_time</th>\n",
       "      <th>test_size_n</th>\n",
       "      <th>test_size_frac</th>\n",
       "      <th>fair_main_equalized_odds_difference</th>\n",
       "      <th>fair_main_equalized_odds_ratio</th>\n",
       "      <th>fair_main_demographic_parity_difference</th>\n",
       "      <th>fair_main_demographic_parity_ratio</th>\n",
       "      <th>...</th>\n",
       "      <th>perf_grp_precision_0</th>\n",
       "      <th>perf_grp_precision_1</th>\n",
       "      <th>perf_grp_false positive rate_0</th>\n",
       "      <th>perf_grp_false positive rate_1</th>\n",
       "      <th>perf_grp_false negative rate_0</th>\n",
       "      <th>perf_grp_false negative rate_1</th>\n",
       "      <th>perf_grp_selection rate_0</th>\n",
       "      <th>perf_grp_selection rate_1</th>\n",
       "      <th>perf_grp_count_0</th>\n",
       "      <th>perf_grp_count_1</th>\n",
       "    </tr>\n",
       "  </thead>\n",
       "  <tbody>\n",
       "    <tr>\n",
       "      <th>0</th>\n",
       "      <td>11</td>\n",
       "      <td>ae132526dd6cca48e43462278ad4c94c</td>\n",
       "      <td>{\"cutoff\": \"quantile_0.1\", \"eval_fairness_grou...</td>\n",
       "      <td>32.878942</td>\n",
       "      <td>89710</td>\n",
       "      <td>1.0</td>\n",
       "      <td>0.086047</td>\n",
       "      <td>0.910521</td>\n",
       "      <td>0.084235</td>\n",
       "      <td>0.909783</td>\n",
       "      <td>...</td>\n",
       "      <td>NaN</td>\n",
       "      <td>NaN</td>\n",
       "      <td>NaN</td>\n",
       "      <td>NaN</td>\n",
       "      <td>NaN</td>\n",
       "      <td>NaN</td>\n",
       "      <td>NaN</td>\n",
       "      <td>NaN</td>\n",
       "      <td>NaN</td>\n",
       "      <td>NaN</td>\n",
       "    </tr>\n",
       "    <tr>\n",
       "      <th>0</th>\n",
       "      <td>11</td>\n",
       "      <td>ae132526dd6cca48e43462278ad4c94c</td>\n",
       "      <td>{\"cutoff\": \"quantile_0.1\", \"eval_fairness_grou...</td>\n",
       "      <td>32.878942</td>\n",
       "      <td>89710</td>\n",
       "      <td>1.0</td>\n",
       "      <td>0.086047</td>\n",
       "      <td>0.910521</td>\n",
       "      <td>0.084235</td>\n",
       "      <td>0.909783</td>\n",
       "      <td>...</td>\n",
       "      <td>0.122421</td>\n",
       "      <td>0.139833</td>\n",
       "      <td>0.842615</td>\n",
       "      <td>0.925421</td>\n",
       "      <td>0.097973</td>\n",
       "      <td>0.011926</td>\n",
       "      <td>0.849464</td>\n",
       "      <td>0.933700</td>\n",
       "      <td>20540.0</td>\n",
       "      <td>69170.0</td>\n",
       "    </tr>\n",
       "    <tr>\n",
       "      <th>0</th>\n",
       "      <td>11</td>\n",
       "      <td>ae132526dd6cca48e43462278ad4c94c</td>\n",
       "      <td>{\"cutoff\": \"quantile_0.25\", \"eval_fairness_gro...</td>\n",
       "      <td>32.878942</td>\n",
       "      <td>89710</td>\n",
       "      <td>1.0</td>\n",
       "      <td>0.154077</td>\n",
       "      <td>0.838335</td>\n",
       "      <td>0.107972</td>\n",
       "      <td>0.865629</td>\n",
       "      <td>...</td>\n",
       "      <td>NaN</td>\n",
       "      <td>NaN</td>\n",
       "      <td>NaN</td>\n",
       "      <td>NaN</td>\n",
       "      <td>NaN</td>\n",
       "      <td>NaN</td>\n",
       "      <td>NaN</td>\n",
       "      <td>NaN</td>\n",
       "      <td>NaN</td>\n",
       "      <td>NaN</td>\n",
       "    </tr>\n",
       "    <tr>\n",
       "      <th>0</th>\n",
       "      <td>11</td>\n",
       "      <td>ae132526dd6cca48e43462278ad4c94c</td>\n",
       "      <td>{\"cutoff\": \"quantile_0.25\", \"eval_fairness_gro...</td>\n",
       "      <td>32.878942</td>\n",
       "      <td>89710</td>\n",
       "      <td>1.0</td>\n",
       "      <td>0.154077</td>\n",
       "      <td>0.838335</td>\n",
       "      <td>0.107972</td>\n",
       "      <td>0.865629</td>\n",
       "      <td>...</td>\n",
       "      <td>0.132428</td>\n",
       "      <td>0.156726</td>\n",
       "      <td>0.682093</td>\n",
       "      <td>0.780776</td>\n",
       "      <td>0.201014</td>\n",
       "      <td>0.046937</td>\n",
       "      <td>0.695570</td>\n",
       "      <td>0.803542</td>\n",
       "      <td>20540.0</td>\n",
       "      <td>69170.0</td>\n",
       "    </tr>\n",
       "  </tbody>\n",
       "</table>\n",
       "<p>4 rows × 50 columns</p>\n",
       "</div>"
      ],
      "text/plain": [
       "  run_no                       universe_id  \\\n",
       "0     11  ae132526dd6cca48e43462278ad4c94c   \n",
       "0     11  ae132526dd6cca48e43462278ad4c94c   \n",
       "0     11  ae132526dd6cca48e43462278ad4c94c   \n",
       "0     11  ae132526dd6cca48e43462278ad4c94c   \n",
       "\n",
       "                                   universe_settings  execution_time  \\\n",
       "0  {\"cutoff\": \"quantile_0.1\", \"eval_fairness_grou...       32.878942   \n",
       "0  {\"cutoff\": \"quantile_0.1\", \"eval_fairness_grou...       32.878942   \n",
       "0  {\"cutoff\": \"quantile_0.25\", \"eval_fairness_gro...       32.878942   \n",
       "0  {\"cutoff\": \"quantile_0.25\", \"eval_fairness_gro...       32.878942   \n",
       "\n",
       "   test_size_n  test_size_frac  fair_main_equalized_odds_difference  \\\n",
       "0        89710             1.0                             0.086047   \n",
       "0        89710             1.0                             0.086047   \n",
       "0        89710             1.0                             0.154077   \n",
       "0        89710             1.0                             0.154077   \n",
       "\n",
       "   fair_main_equalized_odds_ratio  fair_main_demographic_parity_difference  \\\n",
       "0                        0.910521                                 0.084235   \n",
       "0                        0.910521                                 0.084235   \n",
       "0                        0.838335                                 0.107972   \n",
       "0                        0.838335                                 0.107972   \n",
       "\n",
       "   fair_main_demographic_parity_ratio  ...  perf_grp_precision_0  \\\n",
       "0                            0.909783  ...                   NaN   \n",
       "0                            0.909783  ...              0.122421   \n",
       "0                            0.865629  ...                   NaN   \n",
       "0                            0.865629  ...              0.132428   \n",
       "\n",
       "   perf_grp_precision_1  perf_grp_false positive rate_0  \\\n",
       "0                   NaN                             NaN   \n",
       "0              0.139833                        0.842615   \n",
       "0                   NaN                             NaN   \n",
       "0              0.156726                        0.682093   \n",
       "\n",
       "   perf_grp_false positive rate_1  perf_grp_false negative rate_0  \\\n",
       "0                             NaN                             NaN   \n",
       "0                        0.925421                        0.097973   \n",
       "0                             NaN                             NaN   \n",
       "0                        0.780776                        0.201014   \n",
       "\n",
       "   perf_grp_false negative rate_1  perf_grp_selection rate_0  \\\n",
       "0                             NaN                        NaN   \n",
       "0                        0.011926                   0.849464   \n",
       "0                             NaN                        NaN   \n",
       "0                        0.046937                   0.695570   \n",
       "\n",
       "   perf_grp_selection rate_1  perf_grp_count_0  perf_grp_count_1  \n",
       "0                        NaN               NaN               NaN  \n",
       "0                   0.933700           20540.0           69170.0  \n",
       "0                        NaN               NaN               NaN  \n",
       "0                   0.803542           20540.0           69170.0  \n",
       "\n",
       "[4 rows x 50 columns]"
      ]
     },
     "execution_count": 72,
     "metadata": {},
     "output_type": "execute_result"
    }
   ],
   "source": [
    "final_output = universe_analysis.generate_final_output(\n",
    "    y_pred_prob=probs_test,\n",
    "    y_test=y_true,\n",
    "    org_test=org_test,\n",
    "    filter_data=filter_sub_universe_data,\n",
    "    cp_metrics_df=cp_metrics_df,\n",
    "    save=True,\n",
    ")\n",
    "final_output"
   ]
  },
  {
   "cell_type": "code",
   "execution_count": null,
   "id": "721ff514-cb11-46f8-b6fc-50392f74b5cb",
   "metadata": {
    "papermill": {
     "duration": 0.030906,
     "end_time": "2025-07-28T10:45:16.162262",
     "exception": false,
     "start_time": "2025-07-28T10:45:16.131356",
     "status": "completed"
    },
    "tags": []
   },
   "outputs": [],
   "source": []
  }
 ],
 "metadata": {
  "celltoolbar": "Tags",
  "kernelspec": {
   "display_name": "Python (CMA Fairness)",
   "language": "python",
   "name": "cma_fair_env"
  },
  "language_info": {
   "codemirror_mode": {
    "name": "ipython",
    "version": 3
   },
   "file_extension": ".py",
   "mimetype": "text/x-python",
   "name": "python",
   "nbconvert_exporter": "python",
   "pygments_lexer": "ipython3",
   "version": "3.10.12"
  },
  "papermill": {
   "default_parameters": {},
   "duration": 49.947639,
   "end_time": "2025-07-28T10:45:17.215915",
   "environment_variables": {},
   "exception": null,
   "input_path": "universe_analysis.ipynb",
   "output_path": "output/runs/11/notebooks/m_11-ae132526dd6cca48e43462278ad4c94c.ipynb",
   "parameters": {
    "output_dir": "output",
    "run_no": "11",
    "seed": "2023",
    "universe": "{\"cutoff\": [\"quantile_0.1\", \"quantile_0.25\"], \"eval_fairness_grouping\": [\"majority-minority\", \"nationality-all\"], \"exclude_features\": \"sex\", \"exclude_subgroups\": \"keep-all\", \"model\": \"rf\", \"scale\": \"scale\", \"training_size\": \"1k\"}",
    "universe_id": "ae132526dd6cca48e43462278ad4c94c"
   },
   "start_time": "2025-07-28T10:44:27.268276",
   "version": "2.6.0"
  }
 },
 "nbformat": 4,
 "nbformat_minor": 5
}