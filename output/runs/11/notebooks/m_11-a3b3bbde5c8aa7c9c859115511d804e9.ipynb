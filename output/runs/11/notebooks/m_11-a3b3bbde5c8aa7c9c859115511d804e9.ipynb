{
 "cells": [
  {
   "cell_type": "code",
   "execution_count": 1,
   "id": "f159f837-637b-42ba-96b5-ec9a68c44524",
   "metadata": {
    "execution": {
     "iopub.execute_input": "2025-07-28T10:31:34.195497Z",
     "iopub.status.busy": "2025-07-28T10:31:34.194545Z",
     "iopub.status.idle": "2025-07-28T10:31:34.208648Z",
     "shell.execute_reply": "2025-07-28T10:31:34.207505Z"
    },
    "papermill": {
     "duration": 0.035962,
     "end_time": "2025-07-28T10:31:34.210549",
     "exception": false,
     "start_time": "2025-07-28T10:31:34.174587",
     "status": "completed"
    },
    "tags": []
   },
   "outputs": [
    {
     "name": "stdout",
     "output_type": "stream",
     "text": [
      "/dss/dsshome1/0C/ra93lal2/cma/CMA_Fairness_v2\n"
     ]
    },
    {
     "name": "stderr",
     "output_type": "stream",
     "text": [
      "/dss/dsshome1/0C/ra93lal2/.local/share/virtualenvs/CMA_Fairness_v2-3j10GkSs/lib/python3.10/site-packages/IPython/core/magics/osm.py:393: UserWarning: This is now an optional IPython functionality, using bookmarks requires you to install the `pickleshare` library.\n",
      "  bkms = self.shell.db.get('bookmarks', {})\n",
      "/dss/dsshome1/0C/ra93lal2/.local/share/virtualenvs/CMA_Fairness_v2-3j10GkSs/lib/python3.10/site-packages/IPython/core/magics/osm.py:417: UserWarning: This is now an optional IPython functionality, setting dhist requires you to install the `pickleshare` library.\n",
      "  self.shell.db['dhist'] = compress_dhist(dhist)[-100:]\n"
     ]
    }
   ],
   "source": [
    "%cd ~/cma/CMA_Fairness_v2"
   ]
  },
  {
   "cell_type": "markdown",
   "id": "de2603b9",
   "metadata": {
    "papermill": {
     "duration": 0.020021,
     "end_time": "2025-07-28T10:31:34.249449",
     "exception": false,
     "start_time": "2025-07-28T10:31:34.229428",
     "status": "completed"
    },
    "tags": []
   },
   "source": [
    "The following cell holds the definition of our parameters, these values can be overriden by rendering the with e.g. the following command:\n",
    "\n",
    "papermill -p alpha 0.2 -p ratio 0.3 universe_analysis.ipynb output/test_run.ipynb"
   ]
  },
  {
   "cell_type": "code",
   "execution_count": 2,
   "id": "a80968a0-40bb-4fa9-85ef-2d5eefb01975",
   "metadata": {
    "execution": {
     "iopub.execute_input": "2025-07-28T10:31:34.288526Z",
     "iopub.status.busy": "2025-07-28T10:31:34.287734Z",
     "iopub.status.idle": "2025-07-28T10:31:34.294251Z",
     "shell.execute_reply": "2025-07-28T10:31:34.293247Z"
    },
    "papermill": {
     "duration": 0.02815,
     "end_time": "2025-07-28T10:31:34.295888",
     "exception": false,
     "start_time": "2025-07-28T10:31:34.267738",
     "status": "completed"
    },
    "tags": []
   },
   "outputs": [
    {
     "name": "stdout",
     "output_type": "stream",
     "text": [
      "Current working directory: /dss/dsshome1/0C/ra93lal2/cma/CMA_Fairness_v2\n"
     ]
    }
   ],
   "source": [
    "import os\n",
    "print(\"Current working directory:\", os.getcwd())"
   ]
  },
  {
   "cell_type": "code",
   "execution_count": 3,
   "id": "2dce4c03",
   "metadata": {
    "execution": {
     "iopub.execute_input": "2025-07-28T10:31:34.338748Z",
     "iopub.status.busy": "2025-07-28T10:31:34.337804Z",
     "iopub.status.idle": "2025-07-28T10:31:34.344829Z",
     "shell.execute_reply": "2025-07-28T10:31:34.343761Z"
    },
    "papermill": {
     "duration": 0.029375,
     "end_time": "2025-07-28T10:31:34.346485",
     "exception": false,
     "start_time": "2025-07-28T10:31:34.317110",
     "status": "completed"
    },
    "tags": [
     "parameters"
    ]
   },
   "outputs": [],
   "source": [
    "run_no = 0\n",
    "universe_id = \"test\"\n",
    "universe = {\n",
    "    \"training_size\": \"2014\", # \"25k\", \"5k\", \"1k\", \"2014\"\n",
    "    \"scale\": \"scale\", # \"scale\", \"do-not-scale\",\n",
    "    #\"stratify_split\": \"target\", # \"none\", \"target\", \"protected-attribute\", \"both\",\n",
    "    \"model\": \"elasticnet\", # \"logreg\", \"penalized_logreg\", \"rf\", \"gbm\", \"elasticnet\"\n",
    "    \"cutoff\": [\"quantile_0.15\", \"quantile_0.30\"],\n",
    "    \"exclude_features\": \"age\", # \"none\", \"nationality\", \"sex\", \"nationality-sex\", \"age\"\n",
    "    \"exclude_subgroups\": \"keep-all\", # \"keep-all\", \"drop-non-german\"\n",
    "    #\"training_sample\": \"restricted\", # \"restricted\", \"full\"\n",
    "    \"eval_fairness_grouping\": [\"majority-minority\", \"nationality-all\"]\n",
    "}\n",
    "\n",
    "output_dir=\"./output\"\n",
    "seed=0"
   ]
  },
  {
   "cell_type": "code",
   "execution_count": 4,
   "id": "05fc1d92",
   "metadata": {
    "execution": {
     "iopub.execute_input": "2025-07-28T10:31:34.387628Z",
     "iopub.status.busy": "2025-07-28T10:31:34.386862Z",
     "iopub.status.idle": "2025-07-28T10:31:34.393089Z",
     "shell.execute_reply": "2025-07-28T10:31:34.392112Z"
    },
    "papermill": {
     "duration": 0.029117,
     "end_time": "2025-07-28T10:31:34.394757",
     "exception": false,
     "start_time": "2025-07-28T10:31:34.365640",
     "status": "completed"
    },
    "tags": [
     "injected-parameters"
    ]
   },
   "outputs": [],
   "source": [
    "# Parameters\n",
    "universe_id = \"a3b3bbde5c8aa7c9c859115511d804e9\"\n",
    "run_no = \"11\"\n",
    "universe = \"{\\\"cutoff\\\": [\\\"quantile_0.1\\\", \\\"quantile_0.25\\\"], \\\"eval_fairness_grouping\\\": [\\\"majority-minority\\\", \\\"nationality-all\\\"], \\\"exclude_features\\\": \\\"nationality\\\", \\\"exclude_subgroups\\\": \\\"drop-non-german\\\", \\\"model\\\": \\\"gbm\\\", \\\"scale\\\": \\\"scale\\\", \\\"training_size\\\": \\\"5k\\\"}\"\n",
    "output_dir = \"output\"\n",
    "seed = \"2023\"\n"
   ]
  },
  {
   "cell_type": "code",
   "execution_count": 5,
   "id": "1650acaf",
   "metadata": {
    "execution": {
     "iopub.execute_input": "2025-07-28T10:31:34.437153Z",
     "iopub.status.busy": "2025-07-28T10:31:34.436426Z",
     "iopub.status.idle": "2025-07-28T10:31:34.442332Z",
     "shell.execute_reply": "2025-07-28T10:31:34.441363Z"
    },
    "papermill": {
     "duration": 0.030088,
     "end_time": "2025-07-28T10:31:34.443966",
     "exception": false,
     "start_time": "2025-07-28T10:31:34.413878",
     "status": "completed"
    },
    "tags": []
   },
   "outputs": [],
   "source": [
    "import json\n",
    "# Parse universe into dict if it is passed as a string\n",
    "if isinstance(universe, str):\n",
    "    universe = json.loads(universe)"
   ]
  },
  {
   "cell_type": "code",
   "execution_count": 6,
   "id": "16620c48",
   "metadata": {
    "execution": {
     "iopub.execute_input": "2025-07-28T10:31:34.486189Z",
     "iopub.status.busy": "2025-07-28T10:31:34.485409Z",
     "iopub.status.idle": "2025-07-28T10:31:34.531883Z",
     "shell.execute_reply": "2025-07-28T10:31:34.530908Z"
    },
    "papermill": {
     "duration": 0.068465,
     "end_time": "2025-07-28T10:31:34.533867",
     "exception": false,
     "start_time": "2025-07-28T10:31:34.465402",
     "status": "completed"
    },
    "tags": []
   },
   "outputs": [],
   "source": [
    "# Auto-reload the custom package\n",
    "%load_ext autoreload\n",
    "%autoreload 1\n",
    "%aimport fairness_multiverse"
   ]
  },
  {
   "cell_type": "code",
   "execution_count": 7,
   "id": "01c5c9f3",
   "metadata": {
    "execution": {
     "iopub.execute_input": "2025-07-28T10:31:34.575535Z",
     "iopub.status.busy": "2025-07-28T10:31:34.574811Z",
     "iopub.status.idle": "2025-07-28T10:31:36.717319Z",
     "shell.execute_reply": "2025-07-28T10:31:36.716362Z"
    },
    "papermill": {
     "duration": 2.165588,
     "end_time": "2025-07-28T10:31:36.719263",
     "exception": false,
     "start_time": "2025-07-28T10:31:34.553675",
     "status": "completed"
    },
    "tags": []
   },
   "outputs": [],
   "source": [
    "from fairness_multiverse.universe import UniverseAnalysis\n",
    "\n",
    "universe_analysis = UniverseAnalysis(\n",
    "    run_no = run_no,\n",
    "    universe_id = universe_id,\n",
    "    universe = universe,\n",
    "    output_dir=output_dir,\n",
    ")"
   ]
  },
  {
   "cell_type": "code",
   "execution_count": 8,
   "id": "106241f5",
   "metadata": {
    "execution": {
     "iopub.execute_input": "2025-07-28T10:31:36.760817Z",
     "iopub.status.busy": "2025-07-28T10:31:36.760023Z",
     "iopub.status.idle": "2025-07-28T10:31:36.766644Z",
     "shell.execute_reply": "2025-07-28T10:31:36.765637Z"
    },
    "papermill": {
     "duration": 0.028144,
     "end_time": "2025-07-28T10:31:36.768213",
     "exception": false,
     "start_time": "2025-07-28T10:31:36.740069",
     "status": "completed"
    },
    "tags": []
   },
   "outputs": [
    {
     "name": "stdout",
     "output_type": "stream",
     "text": [
      "Using Seed: 2023\n"
     ]
    }
   ],
   "source": [
    "import numpy as np\n",
    "parsed_seed = int(seed)\n",
    "np.random.seed(parsed_seed)\n",
    "print(f\"Using Seed: {parsed_seed}\")"
   ]
  },
  {
   "cell_type": "markdown",
   "id": "e0ebdc57",
   "metadata": {
    "papermill": {
     "duration": 0.021273,
     "end_time": "2025-07-28T10:31:36.808575",
     "exception": false,
     "start_time": "2025-07-28T10:31:36.787302",
     "status": "completed"
    },
    "tags": []
   },
   "source": [
    "# Loading Data"
   ]
  },
  {
   "cell_type": "markdown",
   "id": "681925a3",
   "metadata": {
    "papermill": {
     "duration": 0.019029,
     "end_time": "2025-07-28T10:31:36.846194",
     "exception": false,
     "start_time": "2025-07-28T10:31:36.827165",
     "status": "completed"
    },
    "tags": []
   },
   "source": [
    "Load siab_train, siab_test, siab_calib and/or \n",
    "load siab_train_features, siab_train_labels"
   ]
  },
  {
   "cell_type": "code",
   "execution_count": 9,
   "id": "f0496b8a",
   "metadata": {
    "execution": {
     "iopub.execute_input": "2025-07-28T10:31:36.885609Z",
     "iopub.status.busy": "2025-07-28T10:31:36.884889Z",
     "iopub.status.idle": "2025-07-28T10:31:49.507564Z",
     "shell.execute_reply": "2025-07-28T10:31:49.506473Z"
    },
    "papermill": {
     "duration": 12.644503,
     "end_time": "2025-07-28T10:31:49.509464",
     "exception": false,
     "start_time": "2025-07-28T10:31:36.864961",
     "status": "completed"
    },
    "tags": []
   },
   "outputs": [
    {
     "name": "stdout",
     "output_type": "stream",
     "text": [
      "Loading SIAB data from cache: data/siab_cached.csv.gz\n"
     ]
    },
    {
     "name": "stdout",
     "output_type": "stream",
     "text": [
      "(643690, 164)\n"
     ]
    }
   ],
   "source": [
    "from pathlib import Path\n",
    "import pandas as pd\n",
    "\n",
    "# File paths\n",
    "raw_file = Path(\"data/raw/siab.csv\")\n",
    "cache_file = Path(\"data/siab_cached.csv.gz\")\n",
    "\n",
    "# Ensure cache directory exists\n",
    "cache_file.parent.mkdir(parents=True, exist_ok=True)\n",
    "\n",
    "# Load with simple caching\n",
    "if cache_file.exists():\n",
    "    print(f\"Loading SIAB data from cache: {cache_file}\")\n",
    "    siab = pd.read_csv(cache_file, compression='gzip')\n",
    "else:\n",
    "    print(f\"Cache not found. Reading raw SIAB data: {raw_file}\")\n",
    "    siab = pd.read_csv(raw_file)\n",
    "    siab.to_csv(cache_file, index=False, compression='gzip')\n",
    "    print(f\"Cached SIAB data to: {cache_file}\")\n",
    "\n",
    "# Now use `siab` DataFrame as needed\n",
    "print(siab.shape)"
   ]
  },
  {
   "cell_type": "code",
   "execution_count": 10,
   "id": "db0ca512-5f53-4dba-abdb-a2888bca41ba",
   "metadata": {
    "execution": {
     "iopub.execute_input": "2025-07-28T10:31:49.554915Z",
     "iopub.status.busy": "2025-07-28T10:31:49.554120Z",
     "iopub.status.idle": "2025-07-28T10:31:49.559957Z",
     "shell.execute_reply": "2025-07-28T10:31:49.558991Z"
    },
    "papermill": {
     "duration": 0.030257,
     "end_time": "2025-07-28T10:31:49.561824",
     "exception": false,
     "start_time": "2025-07-28T10:31:49.531567",
     "status": "completed"
    },
    "tags": []
   },
   "outputs": [],
   "source": [
    "#siab"
   ]
  },
  {
   "cell_type": "code",
   "execution_count": 11,
   "id": "a0edb063",
   "metadata": {
    "execution": {
     "iopub.execute_input": "2025-07-28T10:31:49.605188Z",
     "iopub.status.busy": "2025-07-28T10:31:49.604529Z",
     "iopub.status.idle": "2025-07-28T10:31:49.609709Z",
     "shell.execute_reply": "2025-07-28T10:31:49.608800Z"
    },
    "papermill": {
     "duration": 0.029097,
     "end_time": "2025-07-28T10:31:49.611517",
     "exception": false,
     "start_time": "2025-07-28T10:31:49.582420",
     "status": "completed"
    },
    "tags": []
   },
   "outputs": [],
   "source": [
    "#import pandas as pd\n",
    "#\n",
    "#X_train = pd.read_csv(\"./data/X_train.csv\")\n",
    "#y_train = pd.read_csv(\"./data/y_train.csv\")"
   ]
  },
  {
   "cell_type": "code",
   "execution_count": 12,
   "id": "63d08085",
   "metadata": {
    "execution": {
     "iopub.execute_input": "2025-07-28T10:31:49.655480Z",
     "iopub.status.busy": "2025-07-28T10:31:49.654796Z",
     "iopub.status.idle": "2025-07-28T10:31:49.659737Z",
     "shell.execute_reply": "2025-07-28T10:31:49.658770Z"
    },
    "papermill": {
     "duration": 0.028368,
     "end_time": "2025-07-28T10:31:49.661457",
     "exception": false,
     "start_time": "2025-07-28T10:31:49.633089",
     "status": "completed"
    },
    "tags": []
   },
   "outputs": [],
   "source": [
    "#X_test = pd.read_csv(\"./data/X_test.csv\")\n",
    "#y_true = pd.read_csv(\"./data/y_test.csv\")"
   ]
  },
  {
   "cell_type": "code",
   "execution_count": 13,
   "id": "98a8d0fa-1d3d-4ed8-bb2c-281470e24add",
   "metadata": {
    "execution": {
     "iopub.execute_input": "2025-07-28T10:31:49.705636Z",
     "iopub.status.busy": "2025-07-28T10:31:49.704915Z",
     "iopub.status.idle": "2025-07-28T10:31:49.710399Z",
     "shell.execute_reply": "2025-07-28T10:31:49.709503Z"
    },
    "papermill": {
     "duration": 0.029767,
     "end_time": "2025-07-28T10:31:49.712229",
     "exception": false,
     "start_time": "2025-07-28T10:31:49.682462",
     "status": "completed"
    },
    "tags": []
   },
   "outputs": [],
   "source": [
    "# Calibration data for conformal\n",
    "#X_calib = pd.read_csv(\"./data/X_calib.csv\")\n",
    "#y_calib = pd.read_csv(\"./data/y_calib.csv\")"
   ]
  },
  {
   "cell_type": "markdown",
   "id": "9901737e-04df-44f0-9100-f5ad144ed040",
   "metadata": {
    "papermill": {
     "duration": 0.020158,
     "end_time": "2025-07-28T10:31:49.753054",
     "exception": false,
     "start_time": "2025-07-28T10:31:49.732896",
     "status": "completed"
    },
    "tags": []
   },
   "source": [
    "# Splitting Data and Setting Training Data Size"
   ]
  },
  {
   "cell_type": "code",
   "execution_count": 14,
   "id": "acbc8f7d-8fc8-4e86-8c59-5dcb0f58384b",
   "metadata": {
    "execution": {
     "iopub.execute_input": "2025-07-28T10:31:49.795763Z",
     "iopub.status.busy": "2025-07-28T10:31:49.795231Z",
     "iopub.status.idle": "2025-07-28T10:31:49.804394Z",
     "shell.execute_reply": "2025-07-28T10:31:49.803312Z"
    },
    "papermill": {
     "duration": 0.032691,
     "end_time": "2025-07-28T10:31:49.806076",
     "exception": false,
     "start_time": "2025-07-28T10:31:49.773385",
     "status": "completed"
    },
    "tags": []
   },
   "outputs": [],
   "source": [
    "def sample_by_year(df, training_size, random_state=42):\n",
    "    if training_size == \"2014\":\n",
    "        return df[df[\"year\"] == 2014].reset_index(drop=True)\n",
    "    \n",
    "    size_map = {\n",
    "        \"25k\": 5000,\n",
    "        \"5k\": 1000,\n",
    "        \"1k\": 200\n",
    "    }\n",
    "\n",
    "    if training_size not in size_map:\n",
    "        return df.reset_index(drop=True)  # use all data\n",
    "\n",
    "    n_per_year = size_map[training_size]\n",
    "    grouped = df.groupby(\"year\")\n",
    "    sampled = grouped.apply(lambda x: x.sample(n=min(n_per_year, len(x)), random_state=random_state))\n",
    "    return sampled.reset_index(drop=True)"
   ]
  },
  {
   "cell_type": "code",
   "execution_count": 15,
   "id": "6d931f52-beaf-43ff-9e78-9d44a448d54e",
   "metadata": {
    "execution": {
     "iopub.execute_input": "2025-07-28T10:31:49.851241Z",
     "iopub.status.busy": "2025-07-28T10:31:49.850766Z",
     "iopub.status.idle": "2025-07-28T10:31:50.523300Z",
     "shell.execute_reply": "2025-07-28T10:31:50.522310Z"
    },
    "papermill": {
     "duration": 0.698146,
     "end_time": "2025-07-28T10:31:50.525251",
     "exception": false,
     "start_time": "2025-07-28T10:31:49.827105",
     "status": "completed"
    },
    "tags": []
   },
   "outputs": [],
   "source": [
    "siab_s = sample_by_year(siab, universe[\"training_size\"])"
   ]
  },
  {
   "cell_type": "code",
   "execution_count": 16,
   "id": "5db0a40e-a4e2-4920-be85-b12ae061d70d",
   "metadata": {
    "execution": {
     "iopub.execute_input": "2025-07-28T10:31:50.569831Z",
     "iopub.status.busy": "2025-07-28T10:31:50.569161Z",
     "iopub.status.idle": "2025-07-28T10:31:50.583609Z",
     "shell.execute_reply": "2025-07-28T10:31:50.582650Z"
    },
    "papermill": {
     "duration": 0.039687,
     "end_time": "2025-07-28T10:31:50.585834",
     "exception": false,
     "start_time": "2025-07-28T10:31:50.546147",
     "status": "completed"
    },
    "tags": []
   },
   "outputs": [
    {
     "data": {
      "text/plain": [
       "year\n",
       "2010    1000\n",
       "2011    1000\n",
       "2012    1000\n",
       "2013    1000\n",
       "2014    1000\n",
       "2015    1000\n",
       "2016    1000\n",
       "dtype: int64"
      ]
     },
     "metadata": {},
     "output_type": "display_data"
    }
   ],
   "source": [
    "display(siab_s.groupby(\"year\").size())"
   ]
  },
  {
   "cell_type": "code",
   "execution_count": 17,
   "id": "a561edb4-d032-42cb-8256-22eac1111c64",
   "metadata": {
    "execution": {
     "iopub.execute_input": "2025-07-28T10:31:50.634129Z",
     "iopub.status.busy": "2025-07-28T10:31:50.633576Z",
     "iopub.status.idle": "2025-07-28T10:31:50.891306Z",
     "shell.execute_reply": "2025-07-28T10:31:50.890315Z"
    },
    "papermill": {
     "duration": 0.283831,
     "end_time": "2025-07-28T10:31:50.893322",
     "exception": false,
     "start_time": "2025-07-28T10:31:50.609491",
     "status": "completed"
    },
    "tags": []
   },
   "outputs": [],
   "source": [
    "siab_train = siab_s[siab_s.year < 2015]\n",
    "siab_calib = siab[siab.year == 2015]\n",
    "siab_test = siab[siab.year == 2016]"
   ]
  },
  {
   "cell_type": "code",
   "execution_count": 18,
   "id": "472de16f-c3db-4916-846b-1f0de9cf1746",
   "metadata": {
    "execution": {
     "iopub.execute_input": "2025-07-28T10:31:50.936059Z",
     "iopub.status.busy": "2025-07-28T10:31:50.935422Z",
     "iopub.status.idle": "2025-07-28T10:31:50.944606Z",
     "shell.execute_reply": "2025-07-28T10:31:50.943334Z"
    },
    "papermill": {
     "duration": 0.033324,
     "end_time": "2025-07-28T10:31:50.946396",
     "exception": false,
     "start_time": "2025-07-28T10:31:50.913072",
     "status": "completed"
    },
    "tags": []
   },
   "outputs": [],
   "source": [
    "X_train = siab_train.iloc[:,4:164]\n",
    "y_train = siab_train.iloc[:, [3]]"
   ]
  },
  {
   "cell_type": "code",
   "execution_count": 19,
   "id": "828c96af-f43a-4ed6-ba47-8ac73a47d56c",
   "metadata": {
    "execution": {
     "iopub.execute_input": "2025-07-28T10:31:50.988745Z",
     "iopub.status.busy": "2025-07-28T10:31:50.987684Z",
     "iopub.status.idle": "2025-07-28T10:31:51.040902Z",
     "shell.execute_reply": "2025-07-28T10:31:51.039851Z"
    },
    "papermill": {
     "duration": 0.076261,
     "end_time": "2025-07-28T10:31:51.042938",
     "exception": false,
     "start_time": "2025-07-28T10:31:50.966677",
     "status": "completed"
    },
    "tags": []
   },
   "outputs": [],
   "source": [
    "X_calib = siab_calib.iloc[:,4:164]\n",
    "y_calib = siab_calib.iloc[:, [3]]"
   ]
  },
  {
   "cell_type": "code",
   "execution_count": 20,
   "id": "c34be9c3-6bd6-476e-acd3-845840e303be",
   "metadata": {
    "execution": {
     "iopub.execute_input": "2025-07-28T10:31:51.093833Z",
     "iopub.status.busy": "2025-07-28T10:31:51.093225Z",
     "iopub.status.idle": "2025-07-28T10:31:51.148403Z",
     "shell.execute_reply": "2025-07-28T10:31:51.147236Z"
    },
    "papermill": {
     "duration": 0.08335,
     "end_time": "2025-07-28T10:31:51.150664",
     "exception": false,
     "start_time": "2025-07-28T10:31:51.067314",
     "status": "completed"
    },
    "tags": []
   },
   "outputs": [],
   "source": [
    "X_test = siab_test.iloc[:,4:164]\n",
    "y_true = siab_test.iloc[:, [3]]"
   ]
  },
  {
   "cell_type": "code",
   "execution_count": 21,
   "id": "e6c733c5",
   "metadata": {
    "execution": {
     "iopub.execute_input": "2025-07-28T10:31:51.193481Z",
     "iopub.status.busy": "2025-07-28T10:31:51.192583Z",
     "iopub.status.idle": "2025-07-28T10:31:51.297196Z",
     "shell.execute_reply": "2025-07-28T10:31:51.296157Z"
    },
    "papermill": {
     "duration": 0.128167,
     "end_time": "2025-07-28T10:31:51.299208",
     "exception": false,
     "start_time": "2025-07-28T10:31:51.171041",
     "status": "completed"
    },
    "tags": []
   },
   "outputs": [],
   "source": [
    "# Auxiliary data needed downstream in the pipeline\n",
    "\n",
    "org_train = X_train.copy()\n",
    "org_test = X_test.copy()\n",
    "org_calib = X_calib.copy()"
   ]
  },
  {
   "cell_type": "markdown",
   "id": "0a4a1b33",
   "metadata": {
    "papermill": {
     "duration": 0.020164,
     "end_time": "2025-07-28T10:31:51.339786",
     "exception": false,
     "start_time": "2025-07-28T10:31:51.319622",
     "status": "completed"
    },
    "tags": []
   },
   "source": [
    "# Preprocessing Data"
   ]
  },
  {
   "cell_type": "code",
   "execution_count": 22,
   "id": "ca879031",
   "metadata": {
    "execution": {
     "iopub.execute_input": "2025-07-28T10:31:51.382082Z",
     "iopub.status.busy": "2025-07-28T10:31:51.381589Z",
     "iopub.status.idle": "2025-07-28T10:31:51.389436Z",
     "shell.execute_reply": "2025-07-28T10:31:51.388300Z"
    },
    "papermill": {
     "duration": 0.031299,
     "end_time": "2025-07-28T10:31:51.391092",
     "exception": false,
     "start_time": "2025-07-28T10:31:51.359793",
     "status": "completed"
    },
    "tags": []
   },
   "outputs": [],
   "source": [
    "# EXCLUDE PROTECTED FEATURES\n",
    "# ----------------------\n",
    "# \"exclude_features\": \"none\", # \"nationality\", \"sex\", \"nationality-sex\"\n",
    "\n",
    "excluded_features = universe[\"exclude_features\"].split(\"-\") # split, e.g.: \"nationality-sex\" -> [\"nationality\", \"sex\"]\n",
    "excluded_features_dictionary = {\n",
    "    \"nationality\": [\"maxdeutsch1\", \"maxdeutsch.Missing.\"],\n",
    "    \"sex\": [\"frau1\"],\n",
    "    \"age\": [\"age\"],\n",
    "}\n"
   ]
  },
  {
   "cell_type": "code",
   "execution_count": 23,
   "id": "b745ac60",
   "metadata": {
    "execution": {
     "iopub.execute_input": "2025-07-28T10:31:51.433992Z",
     "iopub.status.busy": "2025-07-28T10:31:51.433513Z",
     "iopub.status.idle": "2025-07-28T10:31:51.439679Z",
     "shell.execute_reply": "2025-07-28T10:31:51.438754Z"
    },
    "papermill": {
     "duration": 0.029514,
     "end_time": "2025-07-28T10:31:51.441359",
     "exception": false,
     "start_time": "2025-07-28T10:31:51.411845",
     "status": "completed"
    },
    "tags": []
   },
   "outputs": [],
   "source": [
    "# Code nice names to column names\n",
    "\n",
    "excluded_features_columns = [\n",
    "    excluded_features_dictionary[f] for f in excluded_features if len(f) > 0 and f != \"none\"\n",
    "]"
   ]
  },
  {
   "cell_type": "code",
   "execution_count": 24,
   "id": "f84f73a2",
   "metadata": {
    "execution": {
     "iopub.execute_input": "2025-07-28T10:31:51.483447Z",
     "iopub.status.busy": "2025-07-28T10:31:51.482942Z",
     "iopub.status.idle": "2025-07-28T10:31:51.489804Z",
     "shell.execute_reply": "2025-07-28T10:31:51.488865Z"
    },
    "papermill": {
     "duration": 0.029698,
     "end_time": "2025-07-28T10:31:51.491569",
     "exception": false,
     "start_time": "2025-07-28T10:31:51.461871",
     "status": "completed"
    },
    "tags": []
   },
   "outputs": [],
   "source": [
    "from utils import flatten_once\n",
    "\n",
    "excluded_features_columns = flatten_once(excluded_features_columns)"
   ]
  },
  {
   "cell_type": "code",
   "execution_count": 25,
   "id": "884dea22",
   "metadata": {
    "execution": {
     "iopub.execute_input": "2025-07-28T10:31:51.533136Z",
     "iopub.status.busy": "2025-07-28T10:31:51.532656Z",
     "iopub.status.idle": "2025-07-28T10:31:51.542406Z",
     "shell.execute_reply": "2025-07-28T10:31:51.541412Z"
    },
    "papermill": {
     "duration": 0.032272,
     "end_time": "2025-07-28T10:31:51.543986",
     "exception": false,
     "start_time": "2025-07-28T10:31:51.511714",
     "status": "completed"
    },
    "tags": []
   },
   "outputs": [
    {
     "name": "stdout",
     "output_type": "stream",
     "text": [
      "Dropping features: ['maxdeutsch1', 'maxdeutsch.Missing.']\n"
     ]
    }
   ],
   "source": [
    "if len(excluded_features_columns) > 0:\n",
    "    print(f\"Dropping features: {excluded_features_columns}\")\n",
    "    X_train.drop(excluded_features_columns, axis=1, inplace=True)"
   ]
  },
  {
   "cell_type": "code",
   "execution_count": 26,
   "id": "95ab8b16",
   "metadata": {
    "execution": {
     "iopub.execute_input": "2025-07-28T10:31:51.600575Z",
     "iopub.status.busy": "2025-07-28T10:31:51.600077Z",
     "iopub.status.idle": "2025-07-28T10:31:51.653429Z",
     "shell.execute_reply": "2025-07-28T10:31:51.652582Z"
    },
    "papermill": {
     "duration": 0.090211,
     "end_time": "2025-07-28T10:31:51.654848",
     "exception": false,
     "start_time": "2025-07-28T10:31:51.564637",
     "status": "completed"
    },
    "tags": []
   },
   "outputs": [
    {
     "name": "stdout",
     "output_type": "stream",
     "text": [
      "Dropping features: ['maxdeutsch1', 'maxdeutsch.Missing.']\n"
     ]
    }
   ],
   "source": [
    "if len(excluded_features_columns) > 0:\n",
    "    print(f\"Dropping features: {excluded_features_columns}\")\n",
    "    X_test.drop(excluded_features_columns, axis=1, inplace=True)"
   ]
  },
  {
   "cell_type": "code",
   "execution_count": 27,
   "id": "1853aaf5-fb9f-46cb-a2b5-8ea4ae2237e4",
   "metadata": {
    "execution": {
     "iopub.execute_input": "2025-07-28T10:31:51.680374Z",
     "iopub.status.busy": "2025-07-28T10:31:51.679818Z",
     "iopub.status.idle": "2025-07-28T10:31:51.736455Z",
     "shell.execute_reply": "2025-07-28T10:31:51.735328Z"
    },
    "papermill": {
     "duration": 0.070333,
     "end_time": "2025-07-28T10:31:51.738400",
     "exception": false,
     "start_time": "2025-07-28T10:31:51.668067",
     "status": "completed"
    },
    "tags": []
   },
   "outputs": [
    {
     "name": "stdout",
     "output_type": "stream",
     "text": [
      "Dropping features: ['maxdeutsch1', 'maxdeutsch.Missing.']\n"
     ]
    }
   ],
   "source": [
    "if len(excluded_features_columns) > 0:\n",
    "    print(f\"Dropping features: {excluded_features_columns}\")\n",
    "    X_calib.drop(excluded_features_columns, axis=1, inplace=True)"
   ]
  },
  {
   "cell_type": "code",
   "execution_count": 28,
   "id": "6727d079-03e5-481e-9d38-292a90b7a0a8",
   "metadata": {
    "execution": {
     "iopub.execute_input": "2025-07-28T10:31:51.795454Z",
     "iopub.status.busy": "2025-07-28T10:31:51.794985Z",
     "iopub.status.idle": "2025-07-28T10:31:51.799899Z",
     "shell.execute_reply": "2025-07-28T10:31:51.799050Z"
    },
    "papermill": {
     "duration": 0.043889,
     "end_time": "2025-07-28T10:31:51.806454",
     "exception": false,
     "start_time": "2025-07-28T10:31:51.762565",
     "status": "completed"
    },
    "tags": []
   },
   "outputs": [],
   "source": [
    "# SPLIT & STRATIFY DATA\n",
    "# ----------------------"
   ]
  },
  {
   "cell_type": "code",
   "execution_count": 29,
   "id": "76c4dc6d",
   "metadata": {
    "execution": {
     "iopub.execute_input": "2025-07-28T10:31:51.851591Z",
     "iopub.status.busy": "2025-07-28T10:31:51.850572Z",
     "iopub.status.idle": "2025-07-28T10:31:51.856366Z",
     "shell.execute_reply": "2025-07-28T10:31:51.855390Z"
    },
    "papermill": {
     "duration": 0.029668,
     "end_time": "2025-07-28T10:31:51.857970",
     "exception": false,
     "start_time": "2025-07-28T10:31:51.828302",
     "status": "completed"
    },
    "tags": []
   },
   "outputs": [],
   "source": [
    "# EXCLUDE CERTAIN SUBGROUPS\n",
    "# ----------------------\n",
    "\n",
    "mode = universe.get(\"exclude_subgroups\", \"keep-all\") \n",
    "# Fetches the exclude_subgroups setting from the universe dict.\n",
    "# Defaults to \"keep-all\" if the key is missing."
   ]
  },
  {
   "cell_type": "code",
   "execution_count": 30,
   "id": "21994072",
   "metadata": {
    "execution": {
     "iopub.execute_input": "2025-07-28T10:31:51.903187Z",
     "iopub.status.busy": "2025-07-28T10:31:51.902449Z",
     "iopub.status.idle": "2025-07-28T10:31:51.909881Z",
     "shell.execute_reply": "2025-07-28T10:31:51.908815Z"
    },
    "papermill": {
     "duration": 0.031828,
     "end_time": "2025-07-28T10:31:51.911624",
     "exception": false,
     "start_time": "2025-07-28T10:31:51.879796",
     "status": "completed"
    },
    "tags": []
   },
   "outputs": [],
   "source": [
    "if mode == \"keep-all\":\n",
    "    keep_mask = pd.Series(True, index=org_train.index)\n",
    "\n",
    "# org_train contains the original feature columns from features_org (in Simson)\n",
    "# features_org contains unprocessed features, for me X_train at beginning ???\n",
    "# For keep-all, creates a boolean Series (keep_mask) of all True, so no rows are removed.\n",
    "\n",
    "elif mode == \"drop-non-german\":\n",
    "    keep_mask = org_train[\"maxdeutsch1\"] == 1 # ??? what about missing values?\n",
    "\n",
    "else:\n",
    "    raise ValueError(f\"Unsupported mode for exclude_subgroups: {mode}\")\n"
   ]
  },
  {
   "cell_type": "code",
   "execution_count": 31,
   "id": "71651440",
   "metadata": {
    "execution": {
     "iopub.execute_input": "2025-07-28T10:31:51.956001Z",
     "iopub.status.busy": "2025-07-28T10:31:51.955495Z",
     "iopub.status.idle": "2025-07-28T10:31:51.963254Z",
     "shell.execute_reply": "2025-07-28T10:31:51.962328Z"
    },
    "papermill": {
     "duration": 0.031685,
     "end_time": "2025-07-28T10:31:51.964946",
     "exception": false,
     "start_time": "2025-07-28T10:31:51.933261",
     "status": "completed"
    },
    "tags": []
   },
   "outputs": [
    {
     "name": "stdout",
     "output_type": "stream",
     "text": [
      "Dropping 657 rows (13.14%) where mode='drop-non-german'\n"
     ]
    }
   ],
   "source": [
    "n_drop = (~keep_mask).sum() # Calculates how many rows are set to be dropped\n",
    "if n_drop > 0:\n",
    "    pct = n_drop / len(keep_mask) * 100\n",
    "    print(f\"Dropping {n_drop} rows ({pct:.2f}%) where mode='{mode}'\")"
   ]
  },
  {
   "cell_type": "code",
   "execution_count": 32,
   "id": "5fb8eee5",
   "metadata": {
    "execution": {
     "iopub.execute_input": "2025-07-28T10:31:52.009715Z",
     "iopub.status.busy": "2025-07-28T10:31:52.008988Z",
     "iopub.status.idle": "2025-07-28T10:31:52.017382Z",
     "shell.execute_reply": "2025-07-28T10:31:52.016398Z"
    },
    "papermill": {
     "duration": 0.032646,
     "end_time": "2025-07-28T10:31:52.019198",
     "exception": false,
     "start_time": "2025-07-28T10:31:51.986552",
     "status": "completed"
    },
    "tags": []
   },
   "outputs": [],
   "source": [
    "X_train = X_train[keep_mask]"
   ]
  },
  {
   "cell_type": "code",
   "execution_count": 33,
   "id": "b202bb3a",
   "metadata": {
    "execution": {
     "iopub.execute_input": "2025-07-28T10:31:52.064677Z",
     "iopub.status.busy": "2025-07-28T10:31:52.063962Z",
     "iopub.status.idle": "2025-07-28T10:31:52.070498Z",
     "shell.execute_reply": "2025-07-28T10:31:52.069538Z"
    },
    "papermill": {
     "duration": 0.030804,
     "end_time": "2025-07-28T10:31:52.072138",
     "exception": false,
     "start_time": "2025-07-28T10:31:52.041334",
     "status": "completed"
    },
    "tags": []
   },
   "outputs": [],
   "source": [
    "y_train = y_train[keep_mask]"
   ]
  },
  {
   "cell_type": "markdown",
   "id": "493e2ac3",
   "metadata": {
    "papermill": {
     "duration": 0.021354,
     "end_time": "2025-07-28T10:31:52.115240",
     "exception": false,
     "start_time": "2025-07-28T10:31:52.093886",
     "status": "completed"
    },
    "tags": []
   },
   "source": [
    "# Model Training"
   ]
  },
  {
   "cell_type": "code",
   "execution_count": 34,
   "id": "679e1268",
   "metadata": {
    "execution": {
     "iopub.execute_input": "2025-07-28T10:31:52.160090Z",
     "iopub.status.busy": "2025-07-28T10:31:52.159355Z",
     "iopub.status.idle": "2025-07-28T10:31:52.270921Z",
     "shell.execute_reply": "2025-07-28T10:31:52.269935Z"
    },
    "papermill": {
     "duration": 0.136293,
     "end_time": "2025-07-28T10:31:52.272958",
     "exception": false,
     "start_time": "2025-07-28T10:31:52.136665",
     "status": "completed"
    },
    "tags": []
   },
   "outputs": [],
   "source": [
    "from sklearn.linear_model import LogisticRegression\n",
    "from sklearn.ensemble import GradientBoostingClassifier, RandomForestClassifier\n",
    "\n",
    "if (universe[\"model\"] == \"logreg\"):\n",
    "    model = LogisticRegression() #penalty=\"none\") #, solver=\"newton-cg\", max_iter=1) # include random_state=19 ?\n",
    "elif (universe[\"model\"] == \"penalized_logreg\"):\n",
    "    model = LogisticRegression(penalty=\"l2\", C=1.0) #, solver=\"newton-cg\", max_iter=1)\n",
    "elif (universe[\"model\"] == \"rf\"):\n",
    "    model = RandomForestClassifier(n_estimators=100, n_jobs=-1)\n",
    "elif (universe[\"model\"] == \"gbm\"):\n",
    "    model = GradientBoostingClassifier()\n",
    "elif (universe[\"model\"] == \"elasticnet\"):\n",
    "    model = LogisticRegression(penalty = 'elasticnet', solver = 'saga', l1_ratio = 0.5, max_iter=5000) # which solver to use?\n",
    "else:\n",
    "    raise \"Unsupported universe.model\""
   ]
  },
  {
   "cell_type": "code",
   "execution_count": 35,
   "id": "0cc8f744",
   "metadata": {
    "execution": {
     "iopub.execute_input": "2025-07-28T10:31:52.318167Z",
     "iopub.status.busy": "2025-07-28T10:31:52.317496Z",
     "iopub.status.idle": "2025-07-28T10:31:52.324257Z",
     "shell.execute_reply": "2025-07-28T10:31:52.323191Z"
    },
    "papermill": {
     "duration": 0.031176,
     "end_time": "2025-07-28T10:31:52.325937",
     "exception": false,
     "start_time": "2025-07-28T10:31:52.294761",
     "status": "completed"
    },
    "tags": []
   },
   "outputs": [],
   "source": [
    "import numpy as np\n",
    "from sklearn.pipeline import Pipeline\n",
    "from sklearn.preprocessing import StandardScaler\n",
    "\n",
    "model = Pipeline([\n",
    "    #(\"continuous_processor\", continuous_processor),\n",
    "    #(\"categorical_preprocessor\", categorical_preprocessor),\n",
    "    (\"scale\", StandardScaler() if universe[\"scale\"] == \"scale\" else None), \n",
    "    (\"model\", model),\n",
    "])"
   ]
  },
  {
   "cell_type": "code",
   "execution_count": 36,
   "id": "9442c04d",
   "metadata": {
    "execution": {
     "iopub.execute_input": "2025-07-28T10:31:52.370870Z",
     "iopub.status.busy": "2025-07-28T10:31:52.370383Z",
     "iopub.status.idle": "2025-07-28T10:31:57.544759Z",
     "shell.execute_reply": "2025-07-28T10:31:57.543691Z"
    },
    "papermill": {
     "duration": 5.198623,
     "end_time": "2025-07-28T10:31:57.546463",
     "exception": false,
     "start_time": "2025-07-28T10:31:52.347840",
     "status": "completed"
    },
    "tags": []
   },
   "outputs": [
    {
     "data": {
      "text/html": [
       "<style>#sk-container-id-1 {color: black;background-color: white;}#sk-container-id-1 pre{padding: 0;}#sk-container-id-1 div.sk-toggleable {background-color: white;}#sk-container-id-1 label.sk-toggleable__label {cursor: pointer;display: block;width: 100%;margin-bottom: 0;padding: 0.3em;box-sizing: border-box;text-align: center;}#sk-container-id-1 label.sk-toggleable__label-arrow:before {content: \"▸\";float: left;margin-right: 0.25em;color: #696969;}#sk-container-id-1 label.sk-toggleable__label-arrow:hover:before {color: black;}#sk-container-id-1 div.sk-estimator:hover label.sk-toggleable__label-arrow:before {color: black;}#sk-container-id-1 div.sk-toggleable__content {max-height: 0;max-width: 0;overflow: hidden;text-align: left;background-color: #f0f8ff;}#sk-container-id-1 div.sk-toggleable__content pre {margin: 0.2em;color: black;border-radius: 0.25em;background-color: #f0f8ff;}#sk-container-id-1 input.sk-toggleable__control:checked~div.sk-toggleable__content {max-height: 200px;max-width: 100%;overflow: auto;}#sk-container-id-1 input.sk-toggleable__control:checked~label.sk-toggleable__label-arrow:before {content: \"▾\";}#sk-container-id-1 div.sk-estimator input.sk-toggleable__control:checked~label.sk-toggleable__label {background-color: #d4ebff;}#sk-container-id-1 div.sk-label input.sk-toggleable__control:checked~label.sk-toggleable__label {background-color: #d4ebff;}#sk-container-id-1 input.sk-hidden--visually {border: 0;clip: rect(1px 1px 1px 1px);clip: rect(1px, 1px, 1px, 1px);height: 1px;margin: -1px;overflow: hidden;padding: 0;position: absolute;width: 1px;}#sk-container-id-1 div.sk-estimator {font-family: monospace;background-color: #f0f8ff;border: 1px dotted black;border-radius: 0.25em;box-sizing: border-box;margin-bottom: 0.5em;}#sk-container-id-1 div.sk-estimator:hover {background-color: #d4ebff;}#sk-container-id-1 div.sk-parallel-item::after {content: \"\";width: 100%;border-bottom: 1px solid gray;flex-grow: 1;}#sk-container-id-1 div.sk-label:hover label.sk-toggleable__label {background-color: #d4ebff;}#sk-container-id-1 div.sk-serial::before {content: \"\";position: absolute;border-left: 1px solid gray;box-sizing: border-box;top: 0;bottom: 0;left: 50%;z-index: 0;}#sk-container-id-1 div.sk-serial {display: flex;flex-direction: column;align-items: center;background-color: white;padding-right: 0.2em;padding-left: 0.2em;position: relative;}#sk-container-id-1 div.sk-item {position: relative;z-index: 1;}#sk-container-id-1 div.sk-parallel {display: flex;align-items: stretch;justify-content: center;background-color: white;position: relative;}#sk-container-id-1 div.sk-item::before, #sk-container-id-1 div.sk-parallel-item::before {content: \"\";position: absolute;border-left: 1px solid gray;box-sizing: border-box;top: 0;bottom: 0;left: 50%;z-index: -1;}#sk-container-id-1 div.sk-parallel-item {display: flex;flex-direction: column;z-index: 1;position: relative;background-color: white;}#sk-container-id-1 div.sk-parallel-item:first-child::after {align-self: flex-end;width: 50%;}#sk-container-id-1 div.sk-parallel-item:last-child::after {align-self: flex-start;width: 50%;}#sk-container-id-1 div.sk-parallel-item:only-child::after {width: 0;}#sk-container-id-1 div.sk-dashed-wrapped {border: 1px dashed gray;margin: 0 0.4em 0.5em 0.4em;box-sizing: border-box;padding-bottom: 0.4em;background-color: white;}#sk-container-id-1 div.sk-label label {font-family: monospace;font-weight: bold;display: inline-block;line-height: 1.2em;}#sk-container-id-1 div.sk-label-container {text-align: center;}#sk-container-id-1 div.sk-container {/* jupyter's `normalize.less` sets `[hidden] { display: none; }` but bootstrap.min.css set `[hidden] { display: none !important; }` so we also need the `!important` here to be able to override the default hidden behavior on the sphinx rendered scikit-learn.org. See: https://github.com/scikit-learn/scikit-learn/issues/21755 */display: inline-block !important;position: relative;}#sk-container-id-1 div.sk-text-repr-fallback {display: none;}</style><div id=\"sk-container-id-1\" class=\"sk-top-container\"><div class=\"sk-text-repr-fallback\"><pre>Pipeline(steps=[(&#x27;scale&#x27;, StandardScaler()),\n",
       "                (&#x27;model&#x27;, GradientBoostingClassifier())])</pre><b>In a Jupyter environment, please rerun this cell to show the HTML representation or trust the notebook. <br />On GitHub, the HTML representation is unable to render, please try loading this page with nbviewer.org.</b></div><div class=\"sk-container\" hidden><div class=\"sk-item sk-dashed-wrapped\"><div class=\"sk-label-container\"><div class=\"sk-label sk-toggleable\"><input class=\"sk-toggleable__control sk-hidden--visually\" id=\"sk-estimator-id-1\" type=\"checkbox\" ><label for=\"sk-estimator-id-1\" class=\"sk-toggleable__label sk-toggleable__label-arrow\">Pipeline</label><div class=\"sk-toggleable__content\"><pre>Pipeline(steps=[(&#x27;scale&#x27;, StandardScaler()),\n",
       "                (&#x27;model&#x27;, GradientBoostingClassifier())])</pre></div></div></div><div class=\"sk-serial\"><div class=\"sk-item\"><div class=\"sk-estimator sk-toggleable\"><input class=\"sk-toggleable__control sk-hidden--visually\" id=\"sk-estimator-id-2\" type=\"checkbox\" ><label for=\"sk-estimator-id-2\" class=\"sk-toggleable__label sk-toggleable__label-arrow\">StandardScaler</label><div class=\"sk-toggleable__content\"><pre>StandardScaler()</pre></div></div></div><div class=\"sk-item\"><div class=\"sk-estimator sk-toggleable\"><input class=\"sk-toggleable__control sk-hidden--visually\" id=\"sk-estimator-id-3\" type=\"checkbox\" ><label for=\"sk-estimator-id-3\" class=\"sk-toggleable__label sk-toggleable__label-arrow\">GradientBoostingClassifier</label><div class=\"sk-toggleable__content\"><pre>GradientBoostingClassifier()</pre></div></div></div></div></div></div></div>"
      ],
      "text/plain": [
       "Pipeline(steps=[('scale', StandardScaler()),\n",
       "                ('model', GradientBoostingClassifier())])"
      ]
     },
     "execution_count": 36,
     "metadata": {},
     "output_type": "execute_result"
    }
   ],
   "source": [
    "model.fit(X_train, y_train.values.ravel())"
   ]
  },
  {
   "cell_type": "code",
   "execution_count": 37,
   "id": "af59f8c0",
   "metadata": {
    "execution": {
     "iopub.execute_input": "2025-07-28T10:31:57.594813Z",
     "iopub.status.busy": "2025-07-28T10:31:57.594087Z",
     "iopub.status.idle": "2025-07-28T10:31:57.600476Z",
     "shell.execute_reply": "2025-07-28T10:31:57.599409Z"
    },
    "papermill": {
     "duration": 0.031482,
     "end_time": "2025-07-28T10:31:57.602180",
     "exception": false,
     "start_time": "2025-07-28T10:31:57.570698",
     "status": "completed"
    },
    "tags": []
   },
   "outputs": [],
   "source": [
    "from fairness_multiverse.universe import predict_w_threshold"
   ]
  },
  {
   "cell_type": "code",
   "execution_count": 38,
   "id": "a7cf2e16",
   "metadata": {
    "execution": {
     "iopub.execute_input": "2025-07-28T10:31:57.648978Z",
     "iopub.status.busy": "2025-07-28T10:31:57.647760Z",
     "iopub.status.idle": "2025-07-28T10:31:58.287697Z",
     "shell.execute_reply": "2025-07-28T10:31:58.286723Z"
    },
    "papermill": {
     "duration": 0.665034,
     "end_time": "2025-07-28T10:31:58.289355",
     "exception": false,
     "start_time": "2025-07-28T10:31:57.624321",
     "status": "completed"
    },
    "tags": []
   },
   "outputs": [
    {
     "data": {
      "text/plain": [
       "0.8517890982053283"
      ]
     },
     "execution_count": 38,
     "metadata": {},
     "output_type": "execute_result"
    }
   ],
   "source": [
    "probs_test = model.predict_proba(X_test)\n",
    "\n",
    "'''\n",
    "Below code returns a boolean array (or binary 0/1 array depending on how it’s used) where each element \n",
    "is True if the probability of class 1 is greater than or equal to the threshold, and False otherwise.\n",
    "'''\n",
    "y_pred_default = predict_w_threshold(probs_test, 0.5)\n",
    "\n",
    "from sklearn.metrics import accuracy_score\n",
    "\n",
    "# Naive prediction\n",
    "accuracy_score(y_true = y_true, y_pred = y_pred_default)"
   ]
  },
  {
   "cell_type": "code",
   "execution_count": 39,
   "id": "081964c3",
   "metadata": {
    "execution": {
     "iopub.execute_input": "2025-07-28T10:31:58.336262Z",
     "iopub.status.busy": "2025-07-28T10:31:58.335794Z",
     "iopub.status.idle": "2025-07-28T10:31:58.925488Z",
     "shell.execute_reply": "2025-07-28T10:31:58.924755Z"
    },
    "papermill": {
     "duration": 0.613306,
     "end_time": "2025-07-28T10:31:58.926738",
     "exception": false,
     "start_time": "2025-07-28T10:31:58.313432",
     "status": "completed"
    },
    "tags": []
   },
   "outputs": [
    {
     "data": {
      "text/plain": [
       "array([0, 0, 0, ..., 0, 0, 0])"
      ]
     },
     "execution_count": 39,
     "metadata": {},
     "output_type": "execute_result"
    }
   ],
   "source": [
    "model.predict(X_test)"
   ]
  },
  {
   "cell_type": "markdown",
   "id": "56c9705b",
   "metadata": {
    "papermill": {
     "duration": 0.012144,
     "end_time": "2025-07-28T10:31:58.951516",
     "exception": false,
     "start_time": "2025-07-28T10:31:58.939372",
     "status": "completed"
    },
    "tags": []
   },
   "source": [
    "# Conformal Prediction"
   ]
  },
  {
   "cell_type": "code",
   "execution_count": 40,
   "id": "160ec6ff",
   "metadata": {
    "execution": {
     "iopub.execute_input": "2025-07-28T10:31:58.980011Z",
     "iopub.status.busy": "2025-07-28T10:31:58.979643Z",
     "iopub.status.idle": "2025-07-28T10:31:58.984932Z",
     "shell.execute_reply": "2025-07-28T10:31:58.983881Z"
    },
    "papermill": {
     "duration": 0.019598,
     "end_time": "2025-07-28T10:31:58.986647",
     "exception": false,
     "start_time": "2025-07-28T10:31:58.967049",
     "status": "completed"
    },
    "tags": []
   },
   "outputs": [],
   "source": [
    "# Miscoverage level for conformal prediction (10% allowed error rate => 90% target coverage)\n",
    "alpha = 0.1"
   ]
  },
  {
   "cell_type": "code",
   "execution_count": 41,
   "id": "eadf4555-3dd3-440e-8e35-f82a4ad9f855",
   "metadata": {
    "execution": {
     "iopub.execute_input": "2025-07-28T10:31:59.037858Z",
     "iopub.status.busy": "2025-07-28T10:31:59.037204Z",
     "iopub.status.idle": "2025-07-28T10:31:59.717669Z",
     "shell.execute_reply": "2025-07-28T10:31:59.716638Z"
    },
    "papermill": {
     "duration": 0.707861,
     "end_time": "2025-07-28T10:31:59.719530",
     "exception": false,
     "start_time": "2025-07-28T10:31:59.011669",
     "status": "completed"
    },
    "tags": []
   },
   "outputs": [],
   "source": [
    "probs_calib = model.predict_proba(X_calib)"
   ]
  },
  {
   "cell_type": "code",
   "execution_count": 42,
   "id": "2ed93547-6d5d-4983-9b36-1ecb300da49a",
   "metadata": {
    "execution": {
     "iopub.execute_input": "2025-07-28T10:31:59.770918Z",
     "iopub.status.busy": "2025-07-28T10:31:59.770399Z",
     "iopub.status.idle": "2025-07-28T10:31:59.776411Z",
     "shell.execute_reply": "2025-07-28T10:31:59.775243Z"
    },
    "papermill": {
     "duration": 0.032215,
     "end_time": "2025-07-28T10:31:59.778139",
     "exception": false,
     "start_time": "2025-07-28T10:31:59.745924",
     "status": "completed"
    },
    "tags": []
   },
   "outputs": [],
   "source": [
    "y_calib = y_calib.values.ravel().astype(int)"
   ]
  },
  {
   "cell_type": "code",
   "execution_count": 43,
   "id": "65d1320d-f588-4b38-9072-62af1ae97f7d",
   "metadata": {
    "execution": {
     "iopub.execute_input": "2025-07-28T10:31:59.824667Z",
     "iopub.status.busy": "2025-07-28T10:31:59.823786Z",
     "iopub.status.idle": "2025-07-28T10:31:59.831441Z",
     "shell.execute_reply": "2025-07-28T10:31:59.830567Z"
    },
    "papermill": {
     "duration": 0.032388,
     "end_time": "2025-07-28T10:31:59.833295",
     "exception": false,
     "start_time": "2025-07-28T10:31:59.800907",
     "status": "completed"
    },
    "tags": []
   },
   "outputs": [],
   "source": [
    "from fairness_multiverse.conformal import compute_nc_scores\n",
    "\n",
    "# Compute nonconformity scores on calibration set (1 - probability of true class)\n",
    "nc_scores = compute_nc_scores(probs_calib, y_calib)"
   ]
  },
  {
   "cell_type": "code",
   "execution_count": 44,
   "id": "df3b8ca3-53b7-43d5-9667-7c85da7aeda2",
   "metadata": {
    "execution": {
     "iopub.execute_input": "2025-07-28T10:31:59.882081Z",
     "iopub.status.busy": "2025-07-28T10:31:59.881279Z",
     "iopub.status.idle": "2025-07-28T10:31:59.887675Z",
     "shell.execute_reply": "2025-07-28T10:31:59.886764Z"
    },
    "papermill": {
     "duration": 0.03243,
     "end_time": "2025-07-28T10:31:59.889238",
     "exception": false,
     "start_time": "2025-07-28T10:31:59.856808",
     "status": "completed"
    },
    "tags": []
   },
   "outputs": [],
   "source": [
    "from fairness_multiverse.conformal import find_threshold\n",
    "\n",
    "# Find conformal threshold q_hat for the given alpha (split conformal method)\n",
    "q_hat = find_threshold(nc_scores, alpha)"
   ]
  },
  {
   "cell_type": "code",
   "execution_count": 45,
   "id": "4d29e6c1-0ef6-4aa4-b8fe-4fe79b0d033a",
   "metadata": {
    "execution": {
     "iopub.execute_input": "2025-07-28T10:31:59.937755Z",
     "iopub.status.busy": "2025-07-28T10:31:59.936971Z",
     "iopub.status.idle": "2025-07-28T10:31:59.944964Z",
     "shell.execute_reply": "2025-07-28T10:31:59.943968Z"
    },
    "papermill": {
     "duration": 0.034402,
     "end_time": "2025-07-28T10:31:59.946739",
     "exception": false,
     "start_time": "2025-07-28T10:31:59.912337",
     "status": "completed"
    },
    "tags": []
   },
   "outputs": [
    {
     "data": {
      "text/plain": [
       "0.6923169436549125"
      ]
     },
     "execution_count": 45,
     "metadata": {},
     "output_type": "execute_result"
    }
   ],
   "source": [
    "q_hat"
   ]
  },
  {
   "cell_type": "code",
   "execution_count": 46,
   "id": "92460794-cdac-4be2-ba28-f28c0515a6fb",
   "metadata": {
    "execution": {
     "iopub.execute_input": "2025-07-28T10:32:00.009684Z",
     "iopub.status.busy": "2025-07-28T10:32:00.009148Z",
     "iopub.status.idle": "2025-07-28T10:32:01.410987Z",
     "shell.execute_reply": "2025-07-28T10:32:01.410029Z"
    },
    "papermill": {
     "duration": 1.442293,
     "end_time": "2025-07-28T10:32:01.413010",
     "exception": false,
     "start_time": "2025-07-28T10:31:59.970717",
     "status": "completed"
    },
    "tags": []
   },
   "outputs": [],
   "source": [
    "from fairness_multiverse.conformal import predict_conformal_sets\n",
    "\n",
    "# Generate prediction sets for each test example\n",
    "pred_sets = predict_conformal_sets(model, X_test, q_hat)"
   ]
  },
  {
   "cell_type": "code",
   "execution_count": 47,
   "id": "d90c9a65-e6db-4f5d-80cd-e68fb7e46829",
   "metadata": {
    "execution": {
     "iopub.execute_input": "2025-07-28T10:32:01.463962Z",
     "iopub.status.busy": "2025-07-28T10:32:01.463487Z",
     "iopub.status.idle": "2025-07-28T10:32:01.469362Z",
     "shell.execute_reply": "2025-07-28T10:32:01.468449Z"
    },
    "papermill": {
     "duration": 0.032567,
     "end_time": "2025-07-28T10:32:01.470987",
     "exception": false,
     "start_time": "2025-07-28T10:32:01.438420",
     "status": "completed"
    },
    "tags": []
   },
   "outputs": [],
   "source": [
    "y_true = y_true.squeeze()"
   ]
  },
  {
   "cell_type": "code",
   "execution_count": 48,
   "id": "3a58a54a-1e68-46b9-927a-df01f18aebc8",
   "metadata": {
    "execution": {
     "iopub.execute_input": "2025-07-28T10:32:01.520789Z",
     "iopub.status.busy": "2025-07-28T10:32:01.520046Z",
     "iopub.status.idle": "2025-07-28T10:32:02.464514Z",
     "shell.execute_reply": "2025-07-28T10:32:02.463560Z"
    },
    "papermill": {
     "duration": 0.971532,
     "end_time": "2025-07-28T10:32:02.466415",
     "exception": false,
     "start_time": "2025-07-28T10:32:01.494883",
     "status": "completed"
    },
    "tags": []
   },
   "outputs": [],
   "source": [
    "from fairness_multiverse.conformal import evaluate_sets\n",
    "\n",
    "# Evaluate coverage and average set size on test data\n",
    "metrics = evaluate_sets(pred_sets, y_true)"
   ]
  },
  {
   "cell_type": "markdown",
   "id": "2b569c12-9aaa-4c88-98c9-bbcd0cf3ebb8",
   "metadata": {
    "papermill": {
     "duration": 0.023325,
     "end_time": "2025-07-28T10:32:02.514350",
     "exception": false,
     "start_time": "2025-07-28T10:32:02.491025",
     "status": "completed"
    },
    "tags": []
   },
   "source": [
    "# CP Metrics"
   ]
  },
  {
   "cell_type": "code",
   "execution_count": 49,
   "id": "5ce0a5cb-201f-45a0-ade5-94c7f0bd6095",
   "metadata": {
    "execution": {
     "iopub.execute_input": "2025-07-28T10:32:02.563621Z",
     "iopub.status.busy": "2025-07-28T10:32:02.562906Z",
     "iopub.status.idle": "2025-07-28T10:32:02.570414Z",
     "shell.execute_reply": "2025-07-28T10:32:02.569500Z"
    },
    "papermill": {
     "duration": 0.034423,
     "end_time": "2025-07-28T10:32:02.572143",
     "exception": false,
     "start_time": "2025-07-28T10:32:02.537720",
     "status": "completed"
    },
    "tags": []
   },
   "outputs": [
    {
     "data": {
      "text/plain": [
       "{'coverage': 0.9118158510756883, 'avg_size': 1.1468398171887193}"
      ]
     },
     "execution_count": 49,
     "metadata": {},
     "output_type": "execute_result"
    }
   ],
   "source": [
    "metrics"
   ]
  },
  {
   "cell_type": "code",
   "execution_count": 50,
   "id": "9b9a838d-31c9-430b-ae14-12baee460d17",
   "metadata": {
    "execution": {
     "iopub.execute_input": "2025-07-28T10:32:02.622201Z",
     "iopub.status.busy": "2025-07-28T10:32:02.621525Z",
     "iopub.status.idle": "2025-07-28T10:32:02.628226Z",
     "shell.execute_reply": "2025-07-28T10:32:02.627243Z"
    },
    "papermill": {
     "duration": 0.033618,
     "end_time": "2025-07-28T10:32:02.629930",
     "exception": false,
     "start_time": "2025-07-28T10:32:02.596312",
     "status": "completed"
    },
    "tags": []
   },
   "outputs": [],
   "source": [
    "example_universe = universe.copy()\n",
    "universe_training_size = example_universe.get(\"training_size\")\n",
    "universe_scale = example_universe.get(\"scale\")\n",
    "universe_model = example_universe.get(\"model\")\n",
    "universe_exclude_features = example_universe.get(\"exclude_features\")\n",
    "universe_exclude_subgroups = example_universe.get(\"exclude_subgroups\")"
   ]
  },
  {
   "cell_type": "code",
   "execution_count": 51,
   "id": "f4b6a8ac-9dc0-4245-8a91-5b3b5999c4f9",
   "metadata": {
    "execution": {
     "iopub.execute_input": "2025-07-28T10:32:02.679915Z",
     "iopub.status.busy": "2025-07-28T10:32:02.679319Z",
     "iopub.status.idle": "2025-07-28T10:32:02.686792Z",
     "shell.execute_reply": "2025-07-28T10:32:02.685931Z"
    },
    "papermill": {
     "duration": 0.034028,
     "end_time": "2025-07-28T10:32:02.688482",
     "exception": false,
     "start_time": "2025-07-28T10:32:02.654454",
     "status": "completed"
    },
    "tags": []
   },
   "outputs": [],
   "source": [
    "cp_metrics_dict = {\n",
    "    \"universe_id\": [universe_id],\n",
    "    \"universe_training_size\": [universe_training_size],\n",
    "    \"universe_scale\": [universe_scale],\n",
    "    \"universe_model\": [universe_model],\n",
    "    \"universe_exclude_features\": [universe_exclude_features],\n",
    "    \"universe_exclude_subgroups\": [universe_exclude_subgroups],\n",
    "    \"q_hat\": [q_hat],\n",
    "    \"coverage\": [metrics[\"coverage\"]],\n",
    "    \"avg_size\": [metrics[\"avg_size\"]],\n",
    "}"
   ]
  },
  {
   "cell_type": "code",
   "execution_count": 52,
   "id": "908acbb1-0371-4915-85ca-3fa520d2efe2",
   "metadata": {
    "execution": {
     "iopub.execute_input": "2025-07-28T10:32:02.738489Z",
     "iopub.status.busy": "2025-07-28T10:32:02.737641Z",
     "iopub.status.idle": "2025-07-28T10:32:02.745345Z",
     "shell.execute_reply": "2025-07-28T10:32:02.744396Z"
    },
    "papermill": {
     "duration": 0.03428,
     "end_time": "2025-07-28T10:32:02.746965",
     "exception": false,
     "start_time": "2025-07-28T10:32:02.712685",
     "status": "completed"
    },
    "tags": []
   },
   "outputs": [
    {
     "data": {
      "text/plain": [
       "{'universe_id': ['a3b3bbde5c8aa7c9c859115511d804e9'],\n",
       " 'universe_training_size': ['5k'],\n",
       " 'universe_scale': ['scale'],\n",
       " 'universe_model': ['gbm'],\n",
       " 'universe_exclude_features': ['nationality'],\n",
       " 'universe_exclude_subgroups': ['drop-non-german'],\n",
       " 'q_hat': [0.6923169436549125],\n",
       " 'coverage': [0.9118158510756883],\n",
       " 'avg_size': [1.1468398171887193]}"
      ]
     },
     "execution_count": 52,
     "metadata": {},
     "output_type": "execute_result"
    }
   ],
   "source": [
    "cp_metrics_dict"
   ]
  },
  {
   "cell_type": "code",
   "execution_count": 53,
   "id": "33007efc-14e9-4ec6-97ac-56a455c82265",
   "metadata": {
    "execution": {
     "iopub.execute_input": "2025-07-28T10:32:02.797752Z",
     "iopub.status.busy": "2025-07-28T10:32:02.797222Z",
     "iopub.status.idle": "2025-07-28T10:32:02.803580Z",
     "shell.execute_reply": "2025-07-28T10:32:02.802583Z"
    },
    "papermill": {
     "duration": 0.033235,
     "end_time": "2025-07-28T10:32:02.805144",
     "exception": false,
     "start_time": "2025-07-28T10:32:02.771909",
     "status": "completed"
    },
    "tags": []
   },
   "outputs": [],
   "source": [
    "cp_metrics_df = pd.DataFrame(cp_metrics_dict)"
   ]
  },
  {
   "cell_type": "code",
   "execution_count": 54,
   "id": "db12611b-57b2-4910-b9d0-355adfd6e7bf",
   "metadata": {
    "execution": {
     "iopub.execute_input": "2025-07-28T10:32:02.857007Z",
     "iopub.status.busy": "2025-07-28T10:32:02.856289Z",
     "iopub.status.idle": "2025-07-28T10:32:02.875196Z",
     "shell.execute_reply": "2025-07-28T10:32:02.874042Z"
    },
    "papermill": {
     "duration": 0.046813,
     "end_time": "2025-07-28T10:32:02.877029",
     "exception": false,
     "start_time": "2025-07-28T10:32:02.830216",
     "status": "completed"
    },
    "tags": []
   },
   "outputs": [
    {
     "data": {
      "text/html": [
       "<div>\n",
       "<style scoped>\n",
       "    .dataframe tbody tr th:only-of-type {\n",
       "        vertical-align: middle;\n",
       "    }\n",
       "\n",
       "    .dataframe tbody tr th {\n",
       "        vertical-align: top;\n",
       "    }\n",
       "\n",
       "    .dataframe thead th {\n",
       "        text-align: right;\n",
       "    }\n",
       "</style>\n",
       "<table border=\"1\" class=\"dataframe\">\n",
       "  <thead>\n",
       "    <tr style=\"text-align: right;\">\n",
       "      <th></th>\n",
       "      <th>universe_id</th>\n",
       "      <th>universe_training_size</th>\n",
       "      <th>universe_scale</th>\n",
       "      <th>universe_model</th>\n",
       "      <th>universe_exclude_features</th>\n",
       "      <th>universe_exclude_subgroups</th>\n",
       "      <th>q_hat</th>\n",
       "      <th>coverage</th>\n",
       "      <th>avg_size</th>\n",
       "    </tr>\n",
       "  </thead>\n",
       "  <tbody>\n",
       "    <tr>\n",
       "      <th>0</th>\n",
       "      <td>a3b3bbde5c8aa7c9c859115511d804e9</td>\n",
       "      <td>5k</td>\n",
       "      <td>scale</td>\n",
       "      <td>gbm</td>\n",
       "      <td>nationality</td>\n",
       "      <td>drop-non-german</td>\n",
       "      <td>0.692317</td>\n",
       "      <td>0.911816</td>\n",
       "      <td>1.14684</td>\n",
       "    </tr>\n",
       "  </tbody>\n",
       "</table>\n",
       "</div>"
      ],
      "text/plain": [
       "                        universe_id universe_training_size universe_scale  \\\n",
       "0  a3b3bbde5c8aa7c9c859115511d804e9                     5k          scale   \n",
       "\n",
       "  universe_model universe_exclude_features universe_exclude_subgroups  \\\n",
       "0            gbm               nationality            drop-non-german   \n",
       "\n",
       "      q_hat  coverage  avg_size  \n",
       "0  0.692317  0.911816   1.14684  "
      ]
     },
     "execution_count": 54,
     "metadata": {},
     "output_type": "execute_result"
    }
   ],
   "source": [
    "cp_metrics_df"
   ]
  },
  {
   "cell_type": "code",
   "execution_count": 55,
   "id": "b7fbde55-a0a1-47e4-9af6-fe4a17fa8c61",
   "metadata": {
    "execution": {
     "iopub.execute_input": "2025-07-28T10:32:02.930605Z",
     "iopub.status.busy": "2025-07-28T10:32:02.929898Z",
     "iopub.status.idle": "2025-07-28T10:32:02.935133Z",
     "shell.execute_reply": "2025-07-28T10:32:02.934134Z"
    },
    "papermill": {
     "duration": 0.034084,
     "end_time": "2025-07-28T10:32:02.936802",
     "exception": false,
     "start_time": "2025-07-28T10:32:02.902718",
     "status": "completed"
    },
    "tags": []
   },
   "outputs": [],
   "source": [
    "# Conditional Coverage & looking at subgroups"
   ]
  },
  {
   "cell_type": "code",
   "execution_count": 56,
   "id": "027ae886-68dd-4141-96c7-805a5450e1ef",
   "metadata": {
    "execution": {
     "iopub.execute_input": "2025-07-28T10:32:02.988582Z",
     "iopub.status.busy": "2025-07-28T10:32:02.987842Z",
     "iopub.status.idle": "2025-07-28T10:32:03.252171Z",
     "shell.execute_reply": "2025-07-28T10:32:03.251156Z"
    },
    "papermill": {
     "duration": 0.292557,
     "end_time": "2025-07-28T10:32:03.254312",
     "exception": false,
     "start_time": "2025-07-28T10:32:02.961755",
     "status": "completed"
    },
    "tags": []
   },
   "outputs": [],
   "source": [
    "from fairness_multiverse.conformal import build_cp_groups\n",
    "\n",
    "cp_groups_df = build_cp_groups(pred_sets, y_true, X_test.index, org_test)\n",
    "#needs universe_id and setting"
   ]
  },
  {
   "cell_type": "code",
   "execution_count": 57,
   "id": "01d5802c-663a-4d1f-9d69-e036faaffbf7",
   "metadata": {
    "execution": {
     "iopub.execute_input": "2025-07-28T10:32:03.306079Z",
     "iopub.status.busy": "2025-07-28T10:32:03.305396Z",
     "iopub.status.idle": "2025-07-28T10:32:03.310625Z",
     "shell.execute_reply": "2025-07-28T10:32:03.309559Z"
    },
    "papermill": {
     "duration": 0.032618,
     "end_time": "2025-07-28T10:32:03.312404",
     "exception": false,
     "start_time": "2025-07-28T10:32:03.279786",
     "status": "completed"
    },
    "tags": []
   },
   "outputs": [],
   "source": [
    "#delete\n",
    "#cp_groups_df"
   ]
  },
  {
   "cell_type": "code",
   "execution_count": 58,
   "id": "fa424af1-d1eb-443d-b717-2d279ada8408",
   "metadata": {
    "execution": {
     "iopub.execute_input": "2025-07-28T10:32:03.364680Z",
     "iopub.status.busy": "2025-07-28T10:32:03.363693Z",
     "iopub.status.idle": "2025-07-28T10:32:03.369144Z",
     "shell.execute_reply": "2025-07-28T10:32:03.368199Z"
    },
    "papermill": {
     "duration": 0.032817,
     "end_time": "2025-07-28T10:32:03.370812",
     "exception": false,
     "start_time": "2025-07-28T10:32:03.337995",
     "status": "completed"
    },
    "tags": []
   },
   "outputs": [],
   "source": [
    "#delete\n",
    "#percentage = (cp_groups_df['nongerman_female'] == 1).mean() * 100\n",
    "#print(percentage)\n"
   ]
  },
  {
   "cell_type": "code",
   "execution_count": 59,
   "id": "6cbdab96-b2b2-45af-ad54-d0516db2e28d",
   "metadata": {
    "execution": {
     "iopub.execute_input": "2025-07-28T10:32:03.421059Z",
     "iopub.status.busy": "2025-07-28T10:32:03.420594Z",
     "iopub.status.idle": "2025-07-28T10:32:05.058978Z",
     "shell.execute_reply": "2025-07-28T10:32:05.058006Z"
    },
    "papermill": {
     "duration": 1.664853,
     "end_time": "2025-07-28T10:32:05.060866",
     "exception": false,
     "start_time": "2025-07-28T10:32:03.396013",
     "status": "completed"
    },
    "tags": []
   },
   "outputs": [],
   "source": [
    "# Define covered = 1 if true_label is in the predicted set\n",
    "cp_groups_df['covered'] = cp_groups_df.apply(\n",
    "    lambda r: int(r['true_label'] in r['pred_set']),\n",
    "    axis=1\n",
    ")"
   ]
  },
  {
   "cell_type": "code",
   "execution_count": 60,
   "id": "338ff529-1a6b-4b87-a931-8e4788d52aad",
   "metadata": {
    "execution": {
     "iopub.execute_input": "2025-07-28T10:32:05.112129Z",
     "iopub.status.busy": "2025-07-28T10:32:05.111404Z",
     "iopub.status.idle": "2025-07-28T10:32:05.116713Z",
     "shell.execute_reply": "2025-07-28T10:32:05.115805Z"
    },
    "papermill": {
     "duration": 0.032883,
     "end_time": "2025-07-28T10:32:05.118410",
     "exception": false,
     "start_time": "2025-07-28T10:32:05.085527",
     "status": "completed"
    },
    "tags": []
   },
   "outputs": [],
   "source": [
    "#cp_groups_df"
   ]
  },
  {
   "cell_type": "code",
   "execution_count": 61,
   "id": "90032e27-66df-4540-9169-4e89cfbaa758",
   "metadata": {
    "execution": {
     "iopub.execute_input": "2025-07-28T10:32:05.168393Z",
     "iopub.status.busy": "2025-07-28T10:32:05.167840Z",
     "iopub.status.idle": "2025-07-28T10:32:05.179568Z",
     "shell.execute_reply": "2025-07-28T10:32:05.178579Z"
    },
    "papermill": {
     "duration": 0.038268,
     "end_time": "2025-07-28T10:32:05.181410",
     "exception": false,
     "start_time": "2025-07-28T10:32:05.143142",
     "status": "completed"
    },
    "tags": []
   },
   "outputs": [],
   "source": [
    "subgroups = ['frau1','nongerman','nongerman_male','nongerman_female']\n",
    "\n",
    "# Conditional coverage for subgroup==1\n",
    "cond_coverage = {\n",
    "    g: cp_groups_df.loc[cp_groups_df[g]==1, 'covered'].mean()\n",
    "    for g in subgroups\n",
    "}"
   ]
  },
  {
   "cell_type": "code",
   "execution_count": 62,
   "id": "1e348fb1-b9c3-45bc-ba23-f016827a7e0d",
   "metadata": {
    "execution": {
     "iopub.execute_input": "2025-07-28T10:32:05.233079Z",
     "iopub.status.busy": "2025-07-28T10:32:05.232571Z",
     "iopub.status.idle": "2025-07-28T10:32:05.239528Z",
     "shell.execute_reply": "2025-07-28T10:32:05.238584Z"
    },
    "papermill": {
     "duration": 0.033978,
     "end_time": "2025-07-28T10:32:05.241002",
     "exception": false,
     "start_time": "2025-07-28T10:32:05.207024",
     "status": "completed"
    },
    "tags": []
   },
   "outputs": [
    {
     "data": {
      "text/plain": [
       "{'frau1': 0.9124949454104326,\n",
       " 'nongerman': 0.9122550945938359,\n",
       " 'nongerman_male': 0.9251553634152931,\n",
       " 'nongerman_female': 0.8909090909090909}"
      ]
     },
     "execution_count": 62,
     "metadata": {},
     "output_type": "execute_result"
    }
   ],
   "source": [
    "cond_coverage"
   ]
  },
  {
   "cell_type": "code",
   "execution_count": 63,
   "id": "f5093324-c3dd-4d63-bc4c-8d945e5c8bbb",
   "metadata": {
    "execution": {
     "iopub.execute_input": "2025-07-28T10:32:05.292388Z",
     "iopub.status.busy": "2025-07-28T10:32:05.291783Z",
     "iopub.status.idle": "2025-07-28T10:32:05.299574Z",
     "shell.execute_reply": "2025-07-28T10:32:05.298487Z"
    },
    "papermill": {
     "duration": 0.035206,
     "end_time": "2025-07-28T10:32:05.301283",
     "exception": false,
     "start_time": "2025-07-28T10:32:05.266077",
     "status": "completed"
    },
    "tags": []
   },
   "outputs": [],
   "source": [
    "for subgroup, cov in cond_coverage.items():\n",
    "    cp_metrics_df[f\"cov_{subgroup}\"] = cov"
   ]
  },
  {
   "cell_type": "code",
   "execution_count": 64,
   "id": "6e872e10-dbe5-49e8-b554-5030c98ff75d",
   "metadata": {
    "execution": {
     "iopub.execute_input": "2025-07-28T10:32:05.353759Z",
     "iopub.status.busy": "2025-07-28T10:32:05.353077Z",
     "iopub.status.idle": "2025-07-28T10:32:05.372542Z",
     "shell.execute_reply": "2025-07-28T10:32:05.371496Z"
    },
    "papermill": {
     "duration": 0.047138,
     "end_time": "2025-07-28T10:32:05.374246",
     "exception": false,
     "start_time": "2025-07-28T10:32:05.327108",
     "status": "completed"
    },
    "tags": []
   },
   "outputs": [
    {
     "data": {
      "text/html": [
       "<div>\n",
       "<style scoped>\n",
       "    .dataframe tbody tr th:only-of-type {\n",
       "        vertical-align: middle;\n",
       "    }\n",
       "\n",
       "    .dataframe tbody tr th {\n",
       "        vertical-align: top;\n",
       "    }\n",
       "\n",
       "    .dataframe thead th {\n",
       "        text-align: right;\n",
       "    }\n",
       "</style>\n",
       "<table border=\"1\" class=\"dataframe\">\n",
       "  <thead>\n",
       "    <tr style=\"text-align: right;\">\n",
       "      <th></th>\n",
       "      <th>universe_id</th>\n",
       "      <th>universe_training_size</th>\n",
       "      <th>universe_scale</th>\n",
       "      <th>universe_model</th>\n",
       "      <th>universe_exclude_features</th>\n",
       "      <th>universe_exclude_subgroups</th>\n",
       "      <th>q_hat</th>\n",
       "      <th>coverage</th>\n",
       "      <th>avg_size</th>\n",
       "      <th>cov_frau1</th>\n",
       "      <th>cov_nongerman</th>\n",
       "      <th>cov_nongerman_male</th>\n",
       "      <th>cov_nongerman_female</th>\n",
       "    </tr>\n",
       "  </thead>\n",
       "  <tbody>\n",
       "    <tr>\n",
       "      <th>0</th>\n",
       "      <td>a3b3bbde5c8aa7c9c859115511d804e9</td>\n",
       "      <td>5k</td>\n",
       "      <td>scale</td>\n",
       "      <td>gbm</td>\n",
       "      <td>nationality</td>\n",
       "      <td>drop-non-german</td>\n",
       "      <td>0.692317</td>\n",
       "      <td>0.911816</td>\n",
       "      <td>1.14684</td>\n",
       "      <td>0.912495</td>\n",
       "      <td>0.912255</td>\n",
       "      <td>0.925155</td>\n",
       "      <td>0.890909</td>\n",
       "    </tr>\n",
       "  </tbody>\n",
       "</table>\n",
       "</div>"
      ],
      "text/plain": [
       "                        universe_id universe_training_size universe_scale  \\\n",
       "0  a3b3bbde5c8aa7c9c859115511d804e9                     5k          scale   \n",
       "\n",
       "  universe_model universe_exclude_features universe_exclude_subgroups  \\\n",
       "0            gbm               nationality            drop-non-german   \n",
       "\n",
       "      q_hat  coverage  avg_size  cov_frau1  cov_nongerman  cov_nongerman_male  \\\n",
       "0  0.692317  0.911816   1.14684   0.912495       0.912255            0.925155   \n",
       "\n",
       "   cov_nongerman_female  \n",
       "0              0.890909  "
      ]
     },
     "execution_count": 64,
     "metadata": {},
     "output_type": "execute_result"
    }
   ],
   "source": [
    "cp_metrics_df"
   ]
  },
  {
   "cell_type": "markdown",
   "id": "33774451",
   "metadata": {
    "papermill": {
     "duration": 0.0255,
     "end_time": "2025-07-28T10:32:05.425135",
     "exception": false,
     "start_time": "2025-07-28T10:32:05.399635",
     "status": "completed"
    },
    "tags": []
   },
   "source": [
    "# (Fairness) Metrics"
   ]
  },
  {
   "cell_type": "code",
   "execution_count": 65,
   "id": "debc5d62",
   "metadata": {
    "execution": {
     "iopub.execute_input": "2025-07-28T10:32:05.479011Z",
     "iopub.status.busy": "2025-07-28T10:32:05.478337Z",
     "iopub.status.idle": "2025-07-28T10:32:05.500620Z",
     "shell.execute_reply": "2025-07-28T10:32:05.499622Z"
    },
    "papermill": {
     "duration": 0.051909,
     "end_time": "2025-07-28T10:32:05.502528",
     "exception": false,
     "start_time": "2025-07-28T10:32:05.450619",
     "status": "completed"
    },
    "tags": []
   },
   "outputs": [],
   "source": [
    "# do I need to include maxdeutsch1.missing?\n",
    "\n",
    "import numpy as np\n",
    "\n",
    "colname_to_bin = \"maxdeutsch1\"\n",
    "majority_value = org_train[colname_to_bin].mode()[0]\n",
    "\n",
    "org_test[\"majmin\"] = np.where(org_test[colname_to_bin] == majority_value, \"majority\", \"minority\")"
   ]
  },
  {
   "cell_type": "code",
   "execution_count": 66,
   "id": "06a50de5",
   "metadata": {
    "execution": {
     "iopub.execute_input": "2025-07-28T10:32:05.555695Z",
     "iopub.status.busy": "2025-07-28T10:32:05.555020Z",
     "iopub.status.idle": "2025-07-28T10:32:08.665978Z",
     "shell.execute_reply": "2025-07-28T10:32:08.664639Z"
    },
    "papermill": {
     "duration": 3.140122,
     "end_time": "2025-07-28T10:32:08.668025",
     "exception": false,
     "start_time": "2025-07-28T10:32:05.527903",
     "status": "completed"
    },
    "tags": []
   },
   "outputs": [],
   "source": [
    "example_universe = universe.copy()\n",
    "example_universe[\"cutoff\"] = example_universe[\"cutoff\"][0]\n",
    "example_universe[\"eval_fairness_grouping\"] = example_universe[\"eval_fairness_grouping\"][0]\n",
    "fairness_dict, metric_frame = universe_analysis.compute_metrics(\n",
    "    example_universe,\n",
    "    y_pred_prob=probs_test,\n",
    "    y_test=y_true,\n",
    "    org_test=org_test,\n",
    ")"
   ]
  },
  {
   "cell_type": "markdown",
   "id": "f95d4e02",
   "metadata": {
    "papermill": {
     "duration": 0.026048,
     "end_time": "2025-07-28T10:32:08.724482",
     "exception": false,
     "start_time": "2025-07-28T10:32:08.698434",
     "status": "completed"
    },
    "tags": []
   },
   "source": [
    "# Overall"
   ]
  },
  {
   "cell_type": "markdown",
   "id": "bdee4871",
   "metadata": {
    "papermill": {
     "duration": 0.027738,
     "end_time": "2025-07-28T10:32:08.777820",
     "exception": false,
     "start_time": "2025-07-28T10:32:08.750082",
     "status": "completed"
    },
    "tags": []
   },
   "source": [
    "Fairness\n",
    "Main fairness target: Equalized Odds. Seems to be a better fit than equal opportunity, since we're not only interested in Y = 1. Seems to be a better fit than demographic parity, since we also care about accuracy, not just equal distribution of preds.\n",
    "\n",
    "Pick column for computation of fairness metrics\n",
    "\n",
    "Performance\n",
    "Overall performance measures, most interesting in relation to the measures split by group below"
   ]
  },
  {
   "cell_type": "code",
   "execution_count": 67,
   "id": "c4e067c6",
   "metadata": {
    "execution": {
     "iopub.execute_input": "2025-07-28T10:32:08.832005Z",
     "iopub.status.busy": "2025-07-28T10:32:08.831483Z",
     "iopub.status.idle": "2025-07-28T10:32:08.841010Z",
     "shell.execute_reply": "2025-07-28T10:32:08.840097Z"
    },
    "papermill": {
     "duration": 0.03879,
     "end_time": "2025-07-28T10:32:08.842510",
     "exception": false,
     "start_time": "2025-07-28T10:32:08.803720",
     "status": "completed"
    },
    "tags": []
   },
   "outputs": [
    {
     "data": {
      "text/plain": [
       "accuracy                   0.224780\n",
       "balanced accuracy          0.549533\n",
       "f1                         0.246100\n",
       "precision                  0.140589\n",
       "false positive rate        0.887292\n",
       "false negative rate        0.013643\n",
       "selection rate             0.900000\n",
       "count                  89710.000000\n",
       "dtype: float64"
      ]
     },
     "execution_count": 67,
     "metadata": {},
     "output_type": "execute_result"
    }
   ],
   "source": [
    "metric_frame.overall"
   ]
  },
  {
   "cell_type": "markdown",
   "id": "e968fe9d",
   "metadata": {
    "papermill": {
     "duration": 0.024033,
     "end_time": "2025-07-28T10:32:08.891919",
     "exception": false,
     "start_time": "2025-07-28T10:32:08.867886",
     "status": "completed"
    },
    "tags": []
   },
   "source": [
    "By Group"
   ]
  },
  {
   "cell_type": "code",
   "execution_count": 68,
   "id": "ec325bce",
   "metadata": {
    "execution": {
     "iopub.execute_input": "2025-07-28T10:32:08.943307Z",
     "iopub.status.busy": "2025-07-28T10:32:08.942846Z",
     "iopub.status.idle": "2025-07-28T10:32:08.958768Z",
     "shell.execute_reply": "2025-07-28T10:32:08.957809Z"
    },
    "papermill": {
     "duration": 0.042642,
     "end_time": "2025-07-28T10:32:08.960261",
     "exception": false,
     "start_time": "2025-07-28T10:32:08.917619",
     "status": "completed"
    },
    "tags": []
   },
   "outputs": [
    {
     "data": {
      "text/html": [
       "<div>\n",
       "<style scoped>\n",
       "    .dataframe tbody tr th:only-of-type {\n",
       "        vertical-align: middle;\n",
       "    }\n",
       "\n",
       "    .dataframe tbody tr th {\n",
       "        vertical-align: top;\n",
       "    }\n",
       "\n",
       "    .dataframe thead th {\n",
       "        text-align: right;\n",
       "    }\n",
       "</style>\n",
       "<table border=\"1\" class=\"dataframe\">\n",
       "  <thead>\n",
       "    <tr style=\"text-align: right;\">\n",
       "      <th></th>\n",
       "      <th>accuracy</th>\n",
       "      <th>balanced accuracy</th>\n",
       "      <th>f1</th>\n",
       "      <th>precision</th>\n",
       "      <th>false positive rate</th>\n",
       "      <th>false negative rate</th>\n",
       "      <th>selection rate</th>\n",
       "      <th>count</th>\n",
       "    </tr>\n",
       "    <tr>\n",
       "      <th>majmin</th>\n",
       "      <th></th>\n",
       "      <th></th>\n",
       "      <th></th>\n",
       "      <th></th>\n",
       "      <th></th>\n",
       "      <th></th>\n",
       "      <th></th>\n",
       "      <th></th>\n",
       "    </tr>\n",
       "  </thead>\n",
       "  <tbody>\n",
       "    <tr>\n",
       "      <th>majority</th>\n",
       "      <td>0.245786</td>\n",
       "      <td>0.559076</td>\n",
       "      <td>0.256566</td>\n",
       "      <td>0.147494</td>\n",
       "      <td>0.866750</td>\n",
       "      <td>0.015098</td>\n",
       "      <td>0.882362</td>\n",
       "      <td>69170.0</td>\n",
       "    </tr>\n",
       "    <tr>\n",
       "      <th>minority</th>\n",
       "      <td>0.154041</td>\n",
       "      <td>0.518413</td>\n",
       "      <td>0.212830</td>\n",
       "      <td>0.119202</td>\n",
       "      <td>0.955151</td>\n",
       "      <td>0.008024</td>\n",
       "      <td>0.959396</td>\n",
       "      <td>20540.0</td>\n",
       "    </tr>\n",
       "  </tbody>\n",
       "</table>\n",
       "</div>"
      ],
      "text/plain": [
       "          accuracy  balanced accuracy        f1  precision  \\\n",
       "majmin                                                       \n",
       "majority  0.245786           0.559076  0.256566   0.147494   \n",
       "minority  0.154041           0.518413  0.212830   0.119202   \n",
       "\n",
       "          false positive rate  false negative rate  selection rate    count  \n",
       "majmin                                                                       \n",
       "majority             0.866750             0.015098        0.882362  69170.0  \n",
       "minority             0.955151             0.008024        0.959396  20540.0  "
      ]
     },
     "execution_count": 68,
     "metadata": {},
     "output_type": "execute_result"
    }
   ],
   "source": [
    "metric_frame.by_group"
   ]
  },
  {
   "cell_type": "code",
   "execution_count": 69,
   "id": "a9ddbe63",
   "metadata": {
    "execution": {
     "iopub.execute_input": "2025-07-28T10:32:09.015430Z",
     "iopub.status.busy": "2025-07-28T10:32:09.014779Z",
     "iopub.status.idle": "2025-07-28T10:32:11.446919Z",
     "shell.execute_reply": "2025-07-28T10:32:11.445828Z"
    },
    "papermill": {
     "duration": 2.461927,
     "end_time": "2025-07-28T10:32:11.448786",
     "exception": false,
     "start_time": "2025-07-28T10:32:08.986859",
     "status": "completed"
    },
    "tags": []
   },
   "outputs": [
    {
     "data": {
      "text/plain": [
       "array([[<Axes: title={'center': 'accuracy'}, xlabel='majmin'>,\n",
       "        <Axes: title={'center': 'balanced accuracy'}, xlabel='majmin'>,\n",
       "        <Axes: title={'center': 'f1'}, xlabel='majmin'>],\n",
       "       [<Axes: title={'center': 'precision'}, xlabel='majmin'>,\n",
       "        <Axes: title={'center': 'false positive rate'}, xlabel='majmin'>,\n",
       "        <Axes: title={'center': 'false negative rate'}, xlabel='majmin'>],\n",
       "       [<Axes: title={'center': 'selection rate'}, xlabel='majmin'>,\n",
       "        <Axes: title={'center': 'count'}, xlabel='majmin'>,\n",
       "        <Axes: xlabel='majmin'>]], dtype=object)"
      ]
     },
     "execution_count": 69,
     "metadata": {},
     "output_type": "execute_result"
    },
    {
     "data": {
      "image/png": "[encoded data removed]",
      "text/plain": [
       "<Figure size 1200x800 with 9 Axes>"
      ]
     },
     "metadata": {},
     "output_type": "display_data"
    }
   ],
   "source": [
    "# In a graphic\n",
    "metric_frame.by_group.plot.bar(\n",
    "    subplots=True,\n",
    "    layout=[3, 3],\n",
    "    legend=False,\n",
    "    figsize=[12, 8],\n",
    "    title=\"Show all metrics\",\n",
    ")"
   ]
  },
  {
   "cell_type": "markdown",
   "id": "f57a0bac",
   "metadata": {
    "papermill": {
     "duration": 0.02615,
     "end_time": "2025-07-28T10:32:11.504730",
     "exception": false,
     "start_time": "2025-07-28T10:32:11.478580",
     "status": "completed"
    },
    "tags": []
   },
   "source": [
    "# Final Output"
   ]
  },
  {
   "cell_type": "code",
   "execution_count": 70,
   "id": "96d280a3",
   "metadata": {
    "execution": {
     "iopub.execute_input": "2025-07-28T10:32:11.561841Z",
     "iopub.status.busy": "2025-07-28T10:32:11.561218Z",
     "iopub.status.idle": "2025-07-28T10:32:11.569533Z",
     "shell.execute_reply": "2025-07-28T10:32:11.568605Z"
    },
    "papermill": {
     "duration": 0.040238,
     "end_time": "2025-07-28T10:32:11.571794",
     "exception": false,
     "start_time": "2025-07-28T10:32:11.531556",
     "status": "completed"
    },
    "tags": []
   },
   "outputs": [
    {
     "data": {
      "text/plain": [
       "4"
      ]
     },
     "execution_count": 70,
     "metadata": {},
     "output_type": "execute_result"
    }
   ],
   "source": [
    "sub_universes = universe_analysis.generate_sub_universes()\n",
    "len(sub_universes)"
   ]
  },
  {
   "cell_type": "code",
   "execution_count": 71,
   "id": "92adf7ba",
   "metadata": {
    "execution": {
     "iopub.execute_input": "2025-07-28T10:32:11.635851Z",
     "iopub.status.busy": "2025-07-28T10:32:11.635378Z",
     "iopub.status.idle": "2025-07-28T10:32:11.641613Z",
     "shell.execute_reply": "2025-07-28T10:32:11.640724Z"
    },
    "papermill": {
     "duration": 0.036376,
     "end_time": "2025-07-28T10:32:11.643250",
     "exception": false,
     "start_time": "2025-07-28T10:32:11.606874",
     "status": "completed"
    },
    "tags": []
   },
   "outputs": [],
   "source": [
    "def filter_sub_universe_data(sub_universe, org_test):\n",
    "    # Keep all rows — no filtering\n",
    "    keep_rows_mask = np.ones(org_test.shape[0], dtype=bool)\n",
    "\n",
    "    print(f\"[INFO] Keeping all rows: {keep_rows_mask.sum()} rows retained.\")\n",
    "    return keep_rows_mask"
   ]
  },
  {
   "cell_type": "code",
   "execution_count": 72,
   "id": "4a759155",
   "metadata": {
    "execution": {
     "iopub.execute_input": "2025-07-28T10:32:11.699565Z",
     "iopub.status.busy": "2025-07-28T10:32:11.698866Z",
     "iopub.status.idle": "2025-07-28T10:32:23.551203Z",
     "shell.execute_reply": "2025-07-28T10:32:23.550036Z"
    },
    "papermill": {
     "duration": 11.882771,
     "end_time": "2025-07-28T10:32:23.553641",
     "exception": false,
     "start_time": "2025-07-28T10:32:11.670870",
     "status": "completed"
    },
    "tags": []
   },
   "outputs": [
    {
     "name": "stdout",
     "output_type": "stream",
     "text": [
      "Stopping execution_time clock.\n",
      "[INFO] Keeping all rows: 89710 rows retained.\n"
     ]
    },
    {
     "name": "stdout",
     "output_type": "stream",
     "text": [
      "[INFO] Keeping all rows: 89710 rows retained.\n"
     ]
    },
    {
     "name": "stdout",
     "output_type": "stream",
     "text": [
      "[INFO] Keeping all rows: 89710 rows retained.\n"
     ]
    },
    {
     "name": "stdout",
     "output_type": "stream",
     "text": [
      "[INFO] Keeping all rows: 89710 rows retained.\n"
     ]
    },
    {
     "data": {
      "text/html": [
       "<div>\n",
       "<style scoped>\n",
       "    .dataframe tbody tr th:only-of-type {\n",
       "        vertical-align: middle;\n",
       "    }\n",
       "\n",
       "    .dataframe tbody tr th {\n",
       "        vertical-align: top;\n",
       "    }\n",
       "\n",
       "    .dataframe thead th {\n",
       "        text-align: right;\n",
       "    }\n",
       "</style>\n",
       "<table border=\"1\" class=\"dataframe\">\n",
       "  <thead>\n",
       "    <tr style=\"text-align: right;\">\n",
       "      <th></th>\n",
       "      <th>run_no</th>\n",
       "      <th>universe_id</th>\n",
       "      <th>universe_settings</th>\n",
       "      <th>execution_time</th>\n",
       "      <th>test_size_n</th>\n",
       "      <th>test_size_frac</th>\n",
       "      <th>fair_main_equalized_odds_difference</th>\n",
       "      <th>fair_main_equalized_odds_ratio</th>\n",
       "      <th>fair_main_demographic_parity_difference</th>\n",
       "      <th>fair_main_demographic_parity_ratio</th>\n",
       "      <th>...</th>\n",
       "      <th>perf_grp_precision_0</th>\n",
       "      <th>perf_grp_precision_1</th>\n",
       "      <th>perf_grp_false positive rate_0</th>\n",
       "      <th>perf_grp_false positive rate_1</th>\n",
       "      <th>perf_grp_false negative rate_0</th>\n",
       "      <th>perf_grp_false negative rate_1</th>\n",
       "      <th>perf_grp_selection rate_0</th>\n",
       "      <th>perf_grp_selection rate_1</th>\n",
       "      <th>perf_grp_count_0</th>\n",
       "      <th>perf_grp_count_1</th>\n",
       "    </tr>\n",
       "  </thead>\n",
       "  <tbody>\n",
       "    <tr>\n",
       "      <th>0</th>\n",
       "      <td>11</td>\n",
       "      <td>a3b3bbde5c8aa7c9c859115511d804e9</td>\n",
       "      <td>{\"cutoff\": \"quantile_0.1\", \"eval_fairness_grou...</td>\n",
       "      <td>35.044781</td>\n",
       "      <td>89710</td>\n",
       "      <td>1.0</td>\n",
       "      <td>0.088401</td>\n",
       "      <td>0.907448</td>\n",
       "      <td>0.077034</td>\n",
       "      <td>0.919706</td>\n",
       "      <td>...</td>\n",
       "      <td>NaN</td>\n",
       "      <td>NaN</td>\n",
       "      <td>NaN</td>\n",
       "      <td>NaN</td>\n",
       "      <td>NaN</td>\n",
       "      <td>NaN</td>\n",
       "      <td>NaN</td>\n",
       "      <td>NaN</td>\n",
       "      <td>NaN</td>\n",
       "      <td>NaN</td>\n",
       "    </tr>\n",
       "    <tr>\n",
       "      <th>0</th>\n",
       "      <td>11</td>\n",
       "      <td>a3b3bbde5c8aa7c9c859115511d804e9</td>\n",
       "      <td>{\"cutoff\": \"quantile_0.1\", \"eval_fairness_grou...</td>\n",
       "      <td>35.044781</td>\n",
       "      <td>89710</td>\n",
       "      <td>1.0</td>\n",
       "      <td>0.088401</td>\n",
       "      <td>0.907448</td>\n",
       "      <td>0.077034</td>\n",
       "      <td>0.919706</td>\n",
       "      <td>...</td>\n",
       "      <td>0.119202</td>\n",
       "      <td>0.147494</td>\n",
       "      <td>0.955151</td>\n",
       "      <td>0.866750</td>\n",
       "      <td>0.008024</td>\n",
       "      <td>0.015098</td>\n",
       "      <td>0.959396</td>\n",
       "      <td>0.882362</td>\n",
       "      <td>20540.0</td>\n",
       "      <td>69170.0</td>\n",
       "    </tr>\n",
       "    <tr>\n",
       "      <th>0</th>\n",
       "      <td>11</td>\n",
       "      <td>a3b3bbde5c8aa7c9c859115511d804e9</td>\n",
       "      <td>{\"cutoff\": \"quantile_0.25\", \"eval_fairness_gro...</td>\n",
       "      <td>35.044781</td>\n",
       "      <td>89710</td>\n",
       "      <td>1.0</td>\n",
       "      <td>0.145106</td>\n",
       "      <td>0.825824</td>\n",
       "      <td>0.125156</td>\n",
       "      <td>0.852148</td>\n",
       "      <td>...</td>\n",
       "      <td>NaN</td>\n",
       "      <td>NaN</td>\n",
       "      <td>NaN</td>\n",
       "      <td>NaN</td>\n",
       "      <td>NaN</td>\n",
       "      <td>NaN</td>\n",
       "      <td>NaN</td>\n",
       "      <td>NaN</td>\n",
       "      <td>NaN</td>\n",
       "      <td>NaN</td>\n",
       "    </tr>\n",
       "    <tr>\n",
       "      <th>0</th>\n",
       "      <td>11</td>\n",
       "      <td>a3b3bbde5c8aa7c9c859115511d804e9</td>\n",
       "      <td>{\"cutoff\": \"quantile_0.25\", \"eval_fairness_gro...</td>\n",
       "      <td>35.044781</td>\n",
       "      <td>89710</td>\n",
       "      <td>1.0</td>\n",
       "      <td>0.145106</td>\n",
       "      <td>0.825824</td>\n",
       "      <td>0.125156</td>\n",
       "      <td>0.852148</td>\n",
       "      <td>...</td>\n",
       "      <td>0.129292</td>\n",
       "      <td>0.172262</td>\n",
       "      <td>0.833095</td>\n",
       "      <td>0.687989</td>\n",
       "      <td>0.050676</td>\n",
       "      <td>0.059628</td>\n",
       "      <td>0.846495</td>\n",
       "      <td>0.721339</td>\n",
       "      <td>20540.0</td>\n",
       "      <td>69170.0</td>\n",
       "    </tr>\n",
       "  </tbody>\n",
       "</table>\n",
       "<p>4 rows × 50 columns</p>\n",
       "</div>"
      ],
      "text/plain": [
       "  run_no                       universe_id  \\\n",
       "0     11  a3b3bbde5c8aa7c9c859115511d804e9   \n",
       "0     11  a3b3bbde5c8aa7c9c859115511d804e9   \n",
       "0     11  a3b3bbde5c8aa7c9c859115511d804e9   \n",
       "0     11  a3b3bbde5c8aa7c9c859115511d804e9   \n",
       "\n",
       "                                   universe_settings  execution_time  \\\n",
       "0  {\"cutoff\": \"quantile_0.1\", \"eval_fairness_grou...       35.044781   \n",
       "0  {\"cutoff\": \"quantile_0.1\", \"eval_fairness_grou...       35.044781   \n",
       "0  {\"cutoff\": \"quantile_0.25\", \"eval_fairness_gro...       35.044781   \n",
       "0  {\"cutoff\": \"quantile_0.25\", \"eval_fairness_gro...       35.044781   \n",
       "\n",
       "   test_size_n  test_size_frac  fair_main_equalized_odds_difference  \\\n",
       "0        89710             1.0                             0.088401   \n",
       "0        89710             1.0                             0.088401   \n",
       "0        89710             1.0                             0.145106   \n",
       "0        89710             1.0                             0.145106   \n",
       "\n",
       "   fair_main_equalized_odds_ratio  fair_main_demographic_parity_difference  \\\n",
       "0                        0.907448                                 0.077034   \n",
       "0                        0.907448                                 0.077034   \n",
       "0                        0.825824                                 0.125156   \n",
       "0                        0.825824                                 0.125156   \n",
       "\n",
       "   fair_main_demographic_parity_ratio  ...  perf_grp_precision_0  \\\n",
       "0                            0.919706  ...                   NaN   \n",
       "0                            0.919706  ...              0.119202   \n",
       "0                            0.852148  ...                   NaN   \n",
       "0                            0.852148  ...              0.129292   \n",
       "\n",
       "   perf_grp_precision_1  perf_grp_false positive rate_0  \\\n",
       "0                   NaN                             NaN   \n",
       "0              0.147494                        0.955151   \n",
       "0                   NaN                             NaN   \n",
       "0              0.172262                        0.833095   \n",
       "\n",
       "   perf_grp_false positive rate_1  perf_grp_false negative rate_0  \\\n",
       "0                             NaN                             NaN   \n",
       "0                        0.866750                        0.008024   \n",
       "0                             NaN                             NaN   \n",
       "0                        0.687989                        0.050676   \n",
       "\n",
       "   perf_grp_false negative rate_1  perf_grp_selection rate_0  \\\n",
       "0                             NaN                        NaN   \n",
       "0                        0.015098                   0.959396   \n",
       "0                             NaN                        NaN   \n",
       "0                        0.059628                   0.846495   \n",
       "\n",
       "   perf_grp_selection rate_1  perf_grp_count_0  perf_grp_count_1  \n",
       "0                        NaN               NaN               NaN  \n",
       "0                   0.882362           20540.0           69170.0  \n",
       "0                        NaN               NaN               NaN  \n",
       "0                   0.721339           20540.0           69170.0  \n",
       "\n",
       "[4 rows x 50 columns]"
      ]
     },
     "execution_count": 72,
     "metadata": {},
     "output_type": "execute_result"
    }
   ],
   "source": [
    "final_output = universe_analysis.generate_final_output(\n",
    "    y_pred_prob=probs_test,\n",
    "    y_test=y_true,\n",
    "    org_test=org_test,\n",
    "    filter_data=filter_sub_universe_data,\n",
    "    cp_metrics_df=cp_metrics_df,\n",
    "    save=True,\n",
    ")\n",
    "final_output"
   ]
  },
  {
   "cell_type": "code",
   "execution_count": null,
   "id": "721ff514-cb11-46f8-b6fc-50392f74b5cb",
   "metadata": {
    "papermill": {
     "duration": 0.044486,
     "end_time": "2025-07-28T10:32:23.644157",
     "exception": false,
     "start_time": "2025-07-28T10:32:23.599671",
     "status": "completed"
    },
    "tags": []
   },
   "outputs": [],
   "source": []
  }
 ],
 "metadata": {
  "celltoolbar": "Tags",
  "kernelspec": {
   "display_name": "Python (CMA Fairness)",
   "language": "python",
   "name": "cma_fair_env"
  },
  "language_info": {
   "codemirror_mode": {
    "name": "ipython",
    "version": 3
   },
   "file_extension": ".py",
   "mimetype": "text/x-python",
   "name": "python",
   "nbconvert_exporter": "python",
   "pygments_lexer": "ipython3",
   "version": "3.10.12"
  },
  "papermill": {
   "default_parameters": {},
   "duration": 51.351187,
   "end_time": "2025-07-28T10:32:24.507797",
   "environment_variables": {},
   "exception": null,
   "input_path": "universe_analysis.ipynb",
   "output_path": "output/runs/11/notebooks/m_11-a3b3bbde5c8aa7c9c859115511d804e9.ipynb",
   "parameters": {
    "output_dir": "output",
    "run_no": "11",
    "seed": "2023",
    "universe": "{\"cutoff\": [\"quantile_0.1\", \"quantile_0.25\"], \"eval_fairness_grouping\": [\"majority-minority\", \"nationality-all\"], \"exclude_features\": \"nationality\", \"exclude_subgroups\": \"drop-non-german\", \"model\": \"gbm\", \"scale\": \"scale\", \"training_size\": \"5k\"}",
    "universe_id": "a3b3bbde5c8aa7c9c859115511d804e9"
   },
   "start_time": "2025-07-28T10:31:33.156610",
   "version": "2.6.0"
  }
 },
 "nbformat": 4,
 "nbformat_minor": 5
}