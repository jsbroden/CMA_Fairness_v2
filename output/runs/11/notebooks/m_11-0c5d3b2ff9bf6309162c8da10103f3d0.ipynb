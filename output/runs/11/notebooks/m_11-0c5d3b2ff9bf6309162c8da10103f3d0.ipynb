{
 "cells": [
  {
   "cell_type": "code",
   "execution_count": 1,
   "id": "f159f837-637b-42ba-96b5-ec9a68c44524",
   "metadata": {
    "execution": {
     "iopub.execute_input": "2025-07-28T10:42:04.397200Z",
     "iopub.status.busy": "2025-07-28T10:42:04.396729Z",
     "iopub.status.idle": "2025-07-28T10:42:04.411905Z",
     "shell.execute_reply": "2025-07-28T10:42:04.410487Z"
    },
    "papermill": {
     "duration": 0.043084,
     "end_time": "2025-07-28T10:42:04.417358",
     "exception": false,
     "start_time": "2025-07-28T10:42:04.374274",
     "status": "completed"
    },
    "tags": []
   },
   "outputs": [
    {
     "name": "stdout",
     "output_type": "stream",
     "text": [
      "/dss/dsshome1/0C/ra93lal2/cma/CMA_Fairness_v2\n"
     ]
    },
    {
     "name": "stderr",
     "output_type": "stream",
     "text": [
      "/dss/dsshome1/0C/ra93lal2/.local/share/virtualenvs/CMA_Fairness_v2-3j10GkSs/lib/python3.10/site-packages/IPython/core/magics/osm.py:393: UserWarning: This is now an optional IPython functionality, using bookmarks requires you to install the `pickleshare` library.\n",
      "  bkms = self.shell.db.get('bookmarks', {})\n",
      "/dss/dsshome1/0C/ra93lal2/.local/share/virtualenvs/CMA_Fairness_v2-3j10GkSs/lib/python3.10/site-packages/IPython/core/magics/osm.py:417: UserWarning: This is now an optional IPython functionality, setting dhist requires you to install the `pickleshare` library.\n",
      "  self.shell.db['dhist'] = compress_dhist(dhist)[-100:]\n"
     ]
    }
   ],
   "source": [
    "%cd ~/cma/CMA_Fairness_v2"
   ]
  },
  {
   "cell_type": "markdown",
   "id": "de2603b9",
   "metadata": {
    "papermill": {
     "duration": 0.019996,
     "end_time": "2025-07-28T10:42:04.457541",
     "exception": false,
     "start_time": "2025-07-28T10:42:04.437545",
     "status": "completed"
    },
    "tags": []
   },
   "source": [
    "The following cell holds the definition of our parameters, these values can be overriden by rendering the with e.g. the following command:\n",
    "\n",
    "papermill -p alpha 0.2 -p ratio 0.3 universe_analysis.ipynb output/test_run.ipynb"
   ]
  },
  {
   "cell_type": "code",
   "execution_count": 2,
   "id": "a80968a0-40bb-4fa9-85ef-2d5eefb01975",
   "metadata": {
    "execution": {
     "iopub.execute_input": "2025-07-28T10:42:04.484720Z",
     "iopub.status.busy": "2025-07-28T10:42:04.484224Z",
     "iopub.status.idle": "2025-07-28T10:42:04.489047Z",
     "shell.execute_reply": "2025-07-28T10:42:04.488082Z"
    },
    "papermill": {
     "duration": 0.01746,
     "end_time": "2025-07-28T10:42:04.490463",
     "exception": false,
     "start_time": "2025-07-28T10:42:04.473003",
     "status": "completed"
    },
    "tags": []
   },
   "outputs": [
    {
     "name": "stdout",
     "output_type": "stream",
     "text": [
      "Current working directory: /dss/dsshome1/0C/ra93lal2/cma/CMA_Fairness_v2\n"
     ]
    }
   ],
   "source": [
    "import os\n",
    "print(\"Current working directory:\", os.getcwd())"
   ]
  },
  {
   "cell_type": "code",
   "execution_count": 3,
   "id": "2dce4c03",
   "metadata": {
    "execution": {
     "iopub.execute_input": "2025-07-28T10:42:04.512346Z",
     "iopub.status.busy": "2025-07-28T10:42:04.511917Z",
     "iopub.status.idle": "2025-07-28T10:42:04.516728Z",
     "shell.execute_reply": "2025-07-28T10:42:04.515954Z"
    },
    "papermill": {
     "duration": 0.016748,
     "end_time": "2025-07-28T10:42:04.518041",
     "exception": false,
     "start_time": "2025-07-28T10:42:04.501293",
     "status": "completed"
    },
    "tags": [
     "parameters"
    ]
   },
   "outputs": [],
   "source": [
    "run_no = 0\n",
    "universe_id = \"test\"\n",
    "universe = {\n",
    "    \"training_size\": \"2014\", # \"25k\", \"5k\", \"1k\", \"2014\"\n",
    "    \"scale\": \"scale\", # \"scale\", \"do-not-scale\",\n",
    "    #\"stratify_split\": \"target\", # \"none\", \"target\", \"protected-attribute\", \"both\",\n",
    "    \"model\": \"elasticnet\", # \"logreg\", \"penalized_logreg\", \"rf\", \"gbm\", \"elasticnet\"\n",
    "    \"cutoff\": [\"quantile_0.15\", \"quantile_0.30\"],\n",
    "    \"exclude_features\": \"age\", # \"none\", \"nationality\", \"sex\", \"nationality-sex\", \"age\"\n",
    "    \"exclude_subgroups\": \"keep-all\", # \"keep-all\", \"drop-non-german\"\n",
    "    \"eval_fairness_grouping\": [\"majority-minority\", \"nationality-all\"]\n",
    "}\n",
    "\n",
    "output_dir=\"./output\"\n",
    "seed=0"
   ]
  },
  {
   "cell_type": "code",
   "execution_count": 4,
   "id": "c7c78191",
   "metadata": {
    "execution": {
     "iopub.execute_input": "2025-07-28T10:42:04.539497Z",
     "iopub.status.busy": "2025-07-28T10:42:04.539149Z",
     "iopub.status.idle": "2025-07-28T10:42:04.543352Z",
     "shell.execute_reply": "2025-07-28T10:42:04.542546Z"
    },
    "papermill": {
     "duration": 0.016047,
     "end_time": "2025-07-28T10:42:04.544742",
     "exception": false,
     "start_time": "2025-07-28T10:42:04.528695",
     "status": "completed"
    },
    "tags": [
     "injected-parameters"
    ]
   },
   "outputs": [],
   "source": [
    "# Parameters\n",
    "universe_id = \"0c5d3b2ff9bf6309162c8da10103f3d0\"\n",
    "run_no = \"11\"\n",
    "universe = \"{\\\"cutoff\\\": [\\\"quantile_0.1\\\", \\\"quantile_0.25\\\"], \\\"eval_fairness_grouping\\\": [\\\"majority-minority\\\", \\\"nationality-all\\\"], \\\"exclude_features\\\": \\\"sex\\\", \\\"exclude_subgroups\\\": \\\"keep-all\\\", \\\"model\\\": \\\"logreg\\\", \\\"scale\\\": \\\"scale\\\", \\\"training_size\\\": \\\"1k\\\"}\"\n",
    "output_dir = \"output\"\n",
    "seed = \"2023\"\n"
   ]
  },
  {
   "cell_type": "code",
   "execution_count": 5,
   "id": "1650acaf",
   "metadata": {
    "execution": {
     "iopub.execute_input": "2025-07-28T10:42:04.566801Z",
     "iopub.status.busy": "2025-07-28T10:42:04.566224Z",
     "iopub.status.idle": "2025-07-28T10:42:04.570512Z",
     "shell.execute_reply": "2025-07-28T10:42:04.569758Z"
    },
    "papermill": {
     "duration": 0.016605,
     "end_time": "2025-07-28T10:42:04.571925",
     "exception": false,
     "start_time": "2025-07-28T10:42:04.555320",
     "status": "completed"
    },
    "tags": []
   },
   "outputs": [],
   "source": [
    "import json\n",
    "# Parse universe into dict if it is passed as a string\n",
    "if isinstance(universe, str):\n",
    "    universe = json.loads(universe)"
   ]
  },
  {
   "cell_type": "code",
   "execution_count": 6,
   "id": "16620c48",
   "metadata": {
    "execution": {
     "iopub.execute_input": "2025-07-28T10:42:04.593694Z",
     "iopub.status.busy": "2025-07-28T10:42:04.593059Z",
     "iopub.status.idle": "2025-07-28T10:42:04.622451Z",
     "shell.execute_reply": "2025-07-28T10:42:04.621680Z"
    },
    "papermill": {
     "duration": 0.041385,
     "end_time": "2025-07-28T10:42:04.623839",
     "exception": false,
     "start_time": "2025-07-28T10:42:04.582454",
     "status": "completed"
    },
    "tags": []
   },
   "outputs": [],
   "source": [
    "# Auto-reload the custom package\n",
    "%load_ext autoreload\n",
    "%autoreload 1\n",
    "%aimport fairness_multiverse"
   ]
  },
  {
   "cell_type": "code",
   "execution_count": 7,
   "id": "01c5c9f3",
   "metadata": {
    "execution": {
     "iopub.execute_input": "2025-07-28T10:42:04.646092Z",
     "iopub.status.busy": "2025-07-28T10:42:04.645307Z",
     "iopub.status.idle": "2025-07-28T10:42:06.505794Z",
     "shell.execute_reply": "2025-07-28T10:42:06.504853Z"
    },
    "papermill": {
     "duration": 1.873173,
     "end_time": "2025-07-28T10:42:06.507523",
     "exception": false,
     "start_time": "2025-07-28T10:42:04.634350",
     "status": "completed"
    },
    "tags": []
   },
   "outputs": [],
   "source": [
    "from fairness_multiverse.universe import UniverseAnalysis\n",
    "\n",
    "universe_analysis = UniverseAnalysis(\n",
    "    run_no = run_no,\n",
    "    universe_id = universe_id,\n",
    "    universe = universe,\n",
    "    output_dir=output_dir,\n",
    ")"
   ]
  },
  {
   "cell_type": "code",
   "execution_count": 8,
   "id": "106241f5",
   "metadata": {
    "execution": {
     "iopub.execute_input": "2025-07-28T10:42:06.533014Z",
     "iopub.status.busy": "2025-07-28T10:42:06.532173Z",
     "iopub.status.idle": "2025-07-28T10:42:06.538102Z",
     "shell.execute_reply": "2025-07-28T10:42:06.537247Z"
    },
    "papermill": {
     "duration": 0.018403,
     "end_time": "2025-07-28T10:42:06.539432",
     "exception": false,
     "start_time": "2025-07-28T10:42:06.521029",
     "status": "completed"
    },
    "tags": []
   },
   "outputs": [
    {
     "name": "stdout",
     "output_type": "stream",
     "text": [
      "Using Seed: 2023\n"
     ]
    }
   ],
   "source": [
    "import numpy as np\n",
    "parsed_seed = int(seed)\n",
    "np.random.seed(parsed_seed)\n",
    "print(f\"Using Seed: {parsed_seed}\")"
   ]
  },
  {
   "cell_type": "markdown",
   "id": "e0ebdc57",
   "metadata": {
    "papermill": {
     "duration": 0.0104,
     "end_time": "2025-07-28T10:42:06.560790",
     "exception": false,
     "start_time": "2025-07-28T10:42:06.550390",
     "status": "completed"
    },
    "tags": []
   },
   "source": [
    "# Loading Data"
   ]
  },
  {
   "cell_type": "markdown",
   "id": "681925a3",
   "metadata": {
    "papermill": {
     "duration": 0.012217,
     "end_time": "2025-07-28T10:42:06.586361",
     "exception": false,
     "start_time": "2025-07-28T10:42:06.574144",
     "status": "completed"
    },
    "tags": []
   },
   "source": [
    "Load siab_train, siab_test, siab_calib and/or \n",
    "load siab_train_features, siab_train_labels"
   ]
  },
  {
   "cell_type": "code",
   "execution_count": 9,
   "id": "f0496b8a",
   "metadata": {
    "execution": {
     "iopub.execute_input": "2025-07-28T10:42:06.608514Z",
     "iopub.status.busy": "2025-07-28T10:42:06.607844Z",
     "iopub.status.idle": "2025-07-28T10:42:19.658686Z",
     "shell.execute_reply": "2025-07-28T10:42:19.657482Z"
    },
    "papermill": {
     "duration": 13.064486,
     "end_time": "2025-07-28T10:42:19.660988",
     "exception": false,
     "start_time": "2025-07-28T10:42:06.596502",
     "status": "completed"
    },
    "tags": []
   },
   "outputs": [
    {
     "name": "stdout",
     "output_type": "stream",
     "text": [
      "Loading SIAB data from cache: data/siab_cached.csv.gz\n"
     ]
    },
    {
     "name": "stdout",
     "output_type": "stream",
     "text": [
      "(643690, 164)\n"
     ]
    }
   ],
   "source": [
    "from pathlib import Path\n",
    "import pandas as pd\n",
    "\n",
    "# File paths\n",
    "raw_file = Path(\"data/raw/siab.csv\")\n",
    "cache_file = Path(\"data/siab_cached.csv.gz\")\n",
    "\n",
    "# Ensure cache directory exists\n",
    "cache_file.parent.mkdir(parents=True, exist_ok=True)\n",
    "\n",
    "# Load with simple caching\n",
    "if cache_file.exists():\n",
    "    print(f\"Loading SIAB data from cache: {cache_file}\")\n",
    "    siab = pd.read_csv(cache_file, compression='gzip')\n",
    "else:\n",
    "    print(f\"Cache not found. Reading raw SIAB data: {raw_file}\")\n",
    "    siab = pd.read_csv(raw_file)\n",
    "    siab.to_csv(cache_file, index=False, compression='gzip')\n",
    "    print(f\"Cached SIAB data to: {cache_file}\")\n",
    "\n",
    "# Now use `siab` DataFrame as needed\n",
    "print(siab.shape)"
   ]
  },
  {
   "cell_type": "code",
   "execution_count": 10,
   "id": "db0ca512-5f53-4dba-abdb-a2888bca41ba",
   "metadata": {
    "execution": {
     "iopub.execute_input": "2025-07-28T10:42:19.709241Z",
     "iopub.status.busy": "2025-07-28T10:42:19.708518Z",
     "iopub.status.idle": "2025-07-28T10:42:19.714243Z",
     "shell.execute_reply": "2025-07-28T10:42:19.713287Z"
    },
    "papermill": {
     "duration": 0.027892,
     "end_time": "2025-07-28T10:42:19.715844",
     "exception": false,
     "start_time": "2025-07-28T10:42:19.687952",
     "status": "completed"
    },
    "tags": []
   },
   "outputs": [],
   "source": [
    "#siab"
   ]
  },
  {
   "cell_type": "code",
   "execution_count": 11,
   "id": "a0edb063",
   "metadata": {
    "execution": {
     "iopub.execute_input": "2025-07-28T10:42:19.756156Z",
     "iopub.status.busy": "2025-07-28T10:42:19.755309Z",
     "iopub.status.idle": "2025-07-28T10:42:19.760361Z",
     "shell.execute_reply": "2025-07-28T10:42:19.759428Z"
    },
    "papermill": {
     "duration": 0.026593,
     "end_time": "2025-07-28T10:42:19.761869",
     "exception": false,
     "start_time": "2025-07-28T10:42:19.735276",
     "status": "completed"
    },
    "tags": []
   },
   "outputs": [],
   "source": [
    "#import pandas as pd\n",
    "#\n",
    "#X_train = pd.read_csv(\"./data/X_train.csv\")\n",
    "#y_train = pd.read_csv(\"./data/y_train.csv\")"
   ]
  },
  {
   "cell_type": "code",
   "execution_count": 12,
   "id": "63d08085",
   "metadata": {
    "execution": {
     "iopub.execute_input": "2025-07-28T10:42:19.802106Z",
     "iopub.status.busy": "2025-07-28T10:42:19.801294Z",
     "iopub.status.idle": "2025-07-28T10:42:19.806285Z",
     "shell.execute_reply": "2025-07-28T10:42:19.805409Z"
    },
    "papermill": {
     "duration": 0.026489,
     "end_time": "2025-07-28T10:42:19.807870",
     "exception": false,
     "start_time": "2025-07-28T10:42:19.781381",
     "status": "completed"
    },
    "tags": []
   },
   "outputs": [],
   "source": [
    "#X_test = pd.read_csv(\"./data/X_test.csv\")\n",
    "#y_true = pd.read_csv(\"./data/y_test.csv\")"
   ]
  },
  {
   "cell_type": "code",
   "execution_count": 13,
   "id": "98a8d0fa-1d3d-4ed8-bb2c-281470e24add",
   "metadata": {
    "execution": {
     "iopub.execute_input": "2025-07-28T10:42:19.847774Z",
     "iopub.status.busy": "2025-07-28T10:42:19.847031Z",
     "iopub.status.idle": "2025-07-28T10:42:19.852274Z",
     "shell.execute_reply": "2025-07-28T10:42:19.851328Z"
    },
    "papermill": {
     "duration": 0.026741,
     "end_time": "2025-07-28T10:42:19.853917",
     "exception": false,
     "start_time": "2025-07-28T10:42:19.827176",
     "status": "completed"
    },
    "tags": []
   },
   "outputs": [],
   "source": [
    "# Calibration data for conformal\n",
    "#X_calib = pd.read_csv(\"./data/X_calib.csv\")\n",
    "#y_calib = pd.read_csv(\"./data/y_calib.csv\")"
   ]
  },
  {
   "cell_type": "markdown",
   "id": "9901737e-04df-44f0-9100-f5ad144ed040",
   "metadata": {
    "papermill": {
     "duration": 0.018968,
     "end_time": "2025-07-28T10:42:19.892410",
     "exception": false,
     "start_time": "2025-07-28T10:42:19.873442",
     "status": "completed"
    },
    "tags": []
   },
   "source": [
    "# Splitting Data and Setting Training Data Size"
   ]
  },
  {
   "cell_type": "code",
   "execution_count": 14,
   "id": "acbc8f7d-8fc8-4e86-8c59-5dcb0f58384b",
   "metadata": {
    "execution": {
     "iopub.execute_input": "2025-07-28T10:42:19.932595Z",
     "iopub.status.busy": "2025-07-28T10:42:19.931822Z",
     "iopub.status.idle": "2025-07-28T10:42:19.941126Z",
     "shell.execute_reply": "2025-07-28T10:42:19.940093Z"
    },
    "papermill": {
     "duration": 0.031163,
     "end_time": "2025-07-28T10:42:19.942721",
     "exception": false,
     "start_time": "2025-07-28T10:42:19.911558",
     "status": "completed"
    },
    "tags": []
   },
   "outputs": [],
   "source": [
    "def sample_by_year(df, training_size, random_state=42):\n",
    "    if training_size == \"2014\":\n",
    "        return df[df[\"year\"] == 2014].reset_index(drop=True)\n",
    "    \n",
    "    size_map = {\n",
    "        \"25k\": 5000,\n",
    "        \"5k\": 1000,\n",
    "        \"1k\": 200\n",
    "    }\n",
    "\n",
    "    if training_size not in size_map:\n",
    "        return df.reset_index(drop=True)  # use all data\n",
    "\n",
    "    n_per_year = size_map[training_size]\n",
    "    grouped = df.groupby(\"year\")\n",
    "    sampled = grouped.apply(lambda x: x.sample(n=min(n_per_year, len(x)), random_state=random_state))\n",
    "    return sampled.reset_index(drop=True)"
   ]
  },
  {
   "cell_type": "code",
   "execution_count": 15,
   "id": "6d931f52-beaf-43ff-9e78-9d44a448d54e",
   "metadata": {
    "execution": {
     "iopub.execute_input": "2025-07-28T10:42:19.983033Z",
     "iopub.status.busy": "2025-07-28T10:42:19.982203Z",
     "iopub.status.idle": "2025-07-28T10:42:20.613877Z",
     "shell.execute_reply": "2025-07-28T10:42:20.612993Z"
    },
    "papermill": {
     "duration": 0.653566,
     "end_time": "2025-07-28T10:42:20.615746",
     "exception": false,
     "start_time": "2025-07-28T10:42:19.962180",
     "status": "completed"
    },
    "tags": []
   },
   "outputs": [],
   "source": [
    "siab_s = sample_by_year(siab, universe[\"training_size\"])"
   ]
  },
  {
   "cell_type": "code",
   "execution_count": 16,
   "id": "5db0a40e-a4e2-4920-be85-b12ae061d70d",
   "metadata": {
    "execution": {
     "iopub.execute_input": "2025-07-28T10:42:20.656408Z",
     "iopub.status.busy": "2025-07-28T10:42:20.655986Z",
     "iopub.status.idle": "2025-07-28T10:42:20.669671Z",
     "shell.execute_reply": "2025-07-28T10:42:20.668714Z"
    },
    "papermill": {
     "duration": 0.035696,
     "end_time": "2025-07-28T10:42:20.671356",
     "exception": false,
     "start_time": "2025-07-28T10:42:20.635660",
     "status": "completed"
    },
    "tags": []
   },
   "outputs": [
    {
     "data": {
      "text/plain": [
       "year\n",
       "2010    200\n",
       "2011    200\n",
       "2012    200\n",
       "2013    200\n",
       "2014    200\n",
       "2015    200\n",
       "2016    200\n",
       "dtype: int64"
      ]
     },
     "metadata": {},
     "output_type": "display_data"
    }
   ],
   "source": [
    "display(siab_s.groupby(\"year\").size())"
   ]
  },
  {
   "cell_type": "code",
   "execution_count": 17,
   "id": "a561edb4-d032-42cb-8256-22eac1111c64",
   "metadata": {
    "execution": {
     "iopub.execute_input": "2025-07-28T10:42:20.712055Z",
     "iopub.status.busy": "2025-07-28T10:42:20.711395Z",
     "iopub.status.idle": "2025-07-28T10:42:20.939582Z",
     "shell.execute_reply": "2025-07-28T10:42:20.938655Z"
    },
    "papermill": {
     "duration": 0.250288,
     "end_time": "2025-07-28T10:42:20.941725",
     "exception": false,
     "start_time": "2025-07-28T10:42:20.691437",
     "status": "completed"
    },
    "tags": []
   },
   "outputs": [],
   "source": [
    "siab_train = siab_s[siab_s.year < 2015]\n",
    "siab_calib = siab[siab.year == 2015]\n",
    "siab_test = siab[siab.year == 2016]"
   ]
  },
  {
   "cell_type": "code",
   "execution_count": 18,
   "id": "472de16f-c3db-4916-846b-1f0de9cf1746",
   "metadata": {
    "execution": {
     "iopub.execute_input": "2025-07-28T10:42:20.983379Z",
     "iopub.status.busy": "2025-07-28T10:42:20.982799Z",
     "iopub.status.idle": "2025-07-28T10:42:20.989615Z",
     "shell.execute_reply": "2025-07-28T10:42:20.988687Z"
    },
    "papermill": {
     "duration": 0.028694,
     "end_time": "2025-07-28T10:42:20.991212",
     "exception": false,
     "start_time": "2025-07-28T10:42:20.962518",
     "status": "completed"
    },
    "tags": []
   },
   "outputs": [],
   "source": [
    "X_train = siab_train.iloc[:,4:164]\n",
    "y_train = siab_train.iloc[:, [3]]"
   ]
  },
  {
   "cell_type": "code",
   "execution_count": 19,
   "id": "828c96af-f43a-4ed6-ba47-8ac73a47d56c",
   "metadata": {
    "execution": {
     "iopub.execute_input": "2025-07-28T10:42:21.033929Z",
     "iopub.status.busy": "2025-07-28T10:42:21.033118Z",
     "iopub.status.idle": "2025-07-28T10:42:21.084204Z",
     "shell.execute_reply": "2025-07-28T10:42:21.083170Z"
    },
    "papermill": {
     "duration": 0.074299,
     "end_time": "2025-07-28T10:42:21.086233",
     "exception": false,
     "start_time": "2025-07-28T10:42:21.011934",
     "status": "completed"
    },
    "tags": []
   },
   "outputs": [],
   "source": [
    "X_calib = siab_calib.iloc[:,4:164]\n",
    "y_calib = siab_calib.iloc[:, [3]]"
   ]
  },
  {
   "cell_type": "code",
   "execution_count": 20,
   "id": "c34be9c3-6bd6-476e-acd3-845840e303be",
   "metadata": {
    "execution": {
     "iopub.execute_input": "2025-07-28T10:42:21.129207Z",
     "iopub.status.busy": "2025-07-28T10:42:21.128356Z",
     "iopub.status.idle": "2025-07-28T10:42:21.180560Z",
     "shell.execute_reply": "2025-07-28T10:42:21.179539Z"
    },
    "papermill": {
     "duration": 0.074334,
     "end_time": "2025-07-28T10:42:21.182429",
     "exception": false,
     "start_time": "2025-07-28T10:42:21.108095",
     "status": "completed"
    },
    "tags": []
   },
   "outputs": [],
   "source": [
    "X_test = siab_test.iloc[:,4:164]\n",
    "y_true = siab_test.iloc[:, [3]]"
   ]
  },
  {
   "cell_type": "code",
   "execution_count": 21,
   "id": "e6c733c5",
   "metadata": {
    "execution": {
     "iopub.execute_input": "2025-07-28T10:42:21.226737Z",
     "iopub.status.busy": "2025-07-28T10:42:21.225813Z",
     "iopub.status.idle": "2025-07-28T10:42:21.326258Z",
     "shell.execute_reply": "2025-07-28T10:42:21.325275Z"
    },
    "papermill": {
     "duration": 0.12347,
     "end_time": "2025-07-28T10:42:21.328168",
     "exception": false,
     "start_time": "2025-07-28T10:42:21.204698",
     "status": "completed"
    },
    "tags": []
   },
   "outputs": [],
   "source": [
    "# Auxiliary data needed downstream in the pipeline\n",
    "\n",
    "org_train = X_train.copy()\n",
    "org_test = X_test.copy()\n",
    "org_calib = X_calib.copy()"
   ]
  },
  {
   "cell_type": "markdown",
   "id": "0a4a1b33",
   "metadata": {
    "papermill": {
     "duration": 0.019518,
     "end_time": "2025-07-28T10:42:21.367982",
     "exception": false,
     "start_time": "2025-07-28T10:42:21.348464",
     "status": "completed"
    },
    "tags": []
   },
   "source": [
    "# Preprocessing Data"
   ]
  },
  {
   "cell_type": "code",
   "execution_count": 22,
   "id": "ca879031",
   "metadata": {
    "execution": {
     "iopub.execute_input": "2025-07-28T10:42:21.409192Z",
     "iopub.status.busy": "2025-07-28T10:42:21.408495Z",
     "iopub.status.idle": "2025-07-28T10:42:21.414756Z",
     "shell.execute_reply": "2025-07-28T10:42:21.413796Z"
    },
    "papermill": {
     "duration": 0.028636,
     "end_time": "2025-07-28T10:42:21.416305",
     "exception": false,
     "start_time": "2025-07-28T10:42:21.387669",
     "status": "completed"
    },
    "tags": []
   },
   "outputs": [],
   "source": [
    "# EXCLUDE PROTECTED FEATURES\n",
    "# ----------------------\n",
    "# \"exclude_features\": \"none\", # \"nationality\", \"sex\", \"nationality-sex\"\n",
    "\n",
    "excluded_features = universe[\"exclude_features\"].split(\"-\") # split, e.g.: \"nationality-sex\" -> [\"nationality\", \"sex\"]\n",
    "excluded_features_dictionary = {\n",
    "    \"nationality\": [\"maxdeutsch1\", \"maxdeutsch.Missing.\"],\n",
    "    \"sex\": [\"frau1\"],\n",
    "    \"age\": [\"age\"],\n",
    "}\n"
   ]
  },
  {
   "cell_type": "code",
   "execution_count": 23,
   "id": "b745ac60",
   "metadata": {
    "execution": {
     "iopub.execute_input": "2025-07-28T10:42:21.457341Z",
     "iopub.status.busy": "2025-07-28T10:42:21.456830Z",
     "iopub.status.idle": "2025-07-28T10:42:21.462231Z",
     "shell.execute_reply": "2025-07-28T10:42:21.461327Z"
    },
    "papermill": {
     "duration": 0.027397,
     "end_time": "2025-07-28T10:42:21.463792",
     "exception": false,
     "start_time": "2025-07-28T10:42:21.436395",
     "status": "completed"
    },
    "tags": []
   },
   "outputs": [],
   "source": [
    "# Code nice names to column names\n",
    "\n",
    "excluded_features_columns = [\n",
    "    excluded_features_dictionary[f] for f in excluded_features if len(f) > 0 and f != \"none\"\n",
    "]"
   ]
  },
  {
   "cell_type": "code",
   "execution_count": 24,
   "id": "f84f73a2",
   "metadata": {
    "execution": {
     "iopub.execute_input": "2025-07-28T10:42:21.505199Z",
     "iopub.status.busy": "2025-07-28T10:42:21.504441Z",
     "iopub.status.idle": "2025-07-28T10:42:21.510298Z",
     "shell.execute_reply": "2025-07-28T10:42:21.509467Z"
    },
    "papermill": {
     "duration": 0.027867,
     "end_time": "2025-07-28T10:42:21.511938",
     "exception": false,
     "start_time": "2025-07-28T10:42:21.484071",
     "status": "completed"
    },
    "tags": []
   },
   "outputs": [],
   "source": [
    "from utils import flatten_once\n",
    "\n",
    "excluded_features_columns = flatten_once(excluded_features_columns)"
   ]
  },
  {
   "cell_type": "code",
   "execution_count": 25,
   "id": "884dea22",
   "metadata": {
    "execution": {
     "iopub.execute_input": "2025-07-28T10:42:21.553721Z",
     "iopub.status.busy": "2025-07-28T10:42:21.552995Z",
     "iopub.status.idle": "2025-07-28T10:42:21.561388Z",
     "shell.execute_reply": "2025-07-28T10:42:21.560268Z"
    },
    "papermill": {
     "duration": 0.031093,
     "end_time": "2025-07-28T10:42:21.563089",
     "exception": false,
     "start_time": "2025-07-28T10:42:21.531996",
     "status": "completed"
    },
    "tags": []
   },
   "outputs": [
    {
     "name": "stdout",
     "output_type": "stream",
     "text": [
      "Dropping features: ['frau1']\n"
     ]
    }
   ],
   "source": [
    "if len(excluded_features_columns) > 0:\n",
    "    print(f\"Dropping features: {excluded_features_columns}\")\n",
    "    X_train.drop(excluded_features_columns, axis=1, inplace=True)"
   ]
  },
  {
   "cell_type": "code",
   "execution_count": 26,
   "id": "95ab8b16",
   "metadata": {
    "execution": {
     "iopub.execute_input": "2025-07-28T10:42:21.607118Z",
     "iopub.status.busy": "2025-07-28T10:42:21.606629Z",
     "iopub.status.idle": "2025-07-28T10:42:21.664927Z",
     "shell.execute_reply": "2025-07-28T10:42:21.663875Z"
    },
    "papermill": {
     "duration": 0.081454,
     "end_time": "2025-07-28T10:42:21.667017",
     "exception": false,
     "start_time": "2025-07-28T10:42:21.585563",
     "status": "completed"
    },
    "tags": []
   },
   "outputs": [
    {
     "name": "stdout",
     "output_type": "stream",
     "text": [
      "Dropping features: ['frau1']\n"
     ]
    }
   ],
   "source": [
    "if len(excluded_features_columns) > 0:\n",
    "    print(f\"Dropping features: {excluded_features_columns}\")\n",
    "    X_test.drop(excluded_features_columns, axis=1, inplace=True)"
   ]
  },
  {
   "cell_type": "code",
   "execution_count": 27,
   "id": "1853aaf5-fb9f-46cb-a2b5-8ea4ae2237e4",
   "metadata": {
    "execution": {
     "iopub.execute_input": "2025-07-28T10:42:21.693187Z",
     "iopub.status.busy": "2025-07-28T10:42:21.692829Z",
     "iopub.status.idle": "2025-07-28T10:42:21.745890Z",
     "shell.execute_reply": "2025-07-28T10:42:21.744776Z"
    },
    "papermill": {
     "duration": 0.066844,
     "end_time": "2025-07-28T10:42:21.747606",
     "exception": false,
     "start_time": "2025-07-28T10:42:21.680762",
     "status": "completed"
    },
    "tags": []
   },
   "outputs": [
    {
     "name": "stdout",
     "output_type": "stream",
     "text": [
      "Dropping features: ['frau1']\n"
     ]
    }
   ],
   "source": [
    "if len(excluded_features_columns) > 0:\n",
    "    print(f\"Dropping features: {excluded_features_columns}\")\n",
    "    X_calib.drop(excluded_features_columns, axis=1, inplace=True)"
   ]
  },
  {
   "cell_type": "code",
   "execution_count": 28,
   "id": "6727d079-03e5-481e-9d38-292a90b7a0a8",
   "metadata": {
    "execution": {
     "iopub.execute_input": "2025-07-28T10:42:21.791781Z",
     "iopub.status.busy": "2025-07-28T10:42:21.791041Z",
     "iopub.status.idle": "2025-07-28T10:42:21.796145Z",
     "shell.execute_reply": "2025-07-28T10:42:21.795144Z"
    },
    "papermill": {
     "duration": 0.028986,
     "end_time": "2025-07-28T10:42:21.797876",
     "exception": false,
     "start_time": "2025-07-28T10:42:21.768890",
     "status": "completed"
    },
    "tags": []
   },
   "outputs": [],
   "source": [
    "# SPLIT & STRATIFY DATA\n",
    "# ----------------------"
   ]
  },
  {
   "cell_type": "code",
   "execution_count": 29,
   "id": "76c4dc6d",
   "metadata": {
    "execution": {
     "iopub.execute_input": "2025-07-28T10:42:21.842241Z",
     "iopub.status.busy": "2025-07-28T10:42:21.841463Z",
     "iopub.status.idle": "2025-07-28T10:42:21.847510Z",
     "shell.execute_reply": "2025-07-28T10:42:21.846543Z"
    },
    "papermill": {
     "duration": 0.029856,
     "end_time": "2025-07-28T10:42:21.849084",
     "exception": false,
     "start_time": "2025-07-28T10:42:21.819228",
     "status": "completed"
    },
    "tags": []
   },
   "outputs": [],
   "source": [
    "# EXCLUDE CERTAIN SUBGROUPS\n",
    "# ----------------------\n",
    "\n",
    "mode = universe.get(\"exclude_subgroups\", \"keep-all\") \n",
    "# Fetches the exclude_subgroups setting from the universe dict.\n",
    "# Defaults to \"keep-all\" if the key is missing."
   ]
  },
  {
   "cell_type": "code",
   "execution_count": 30,
   "id": "21994072",
   "metadata": {
    "execution": {
     "iopub.execute_input": "2025-07-28T10:42:21.894159Z",
     "iopub.status.busy": "2025-07-28T10:42:21.893035Z",
     "iopub.status.idle": "2025-07-28T10:42:21.900776Z",
     "shell.execute_reply": "2025-07-28T10:42:21.899769Z"
    },
    "papermill": {
     "duration": 0.03226,
     "end_time": "2025-07-28T10:42:21.902458",
     "exception": false,
     "start_time": "2025-07-28T10:42:21.870198",
     "status": "completed"
    },
    "tags": []
   },
   "outputs": [],
   "source": [
    "if mode == \"keep-all\":\n",
    "    keep_mask = pd.Series(True, index=org_train.index)\n",
    "\n",
    "# org_train contains the original feature columns from features_org (in Simson)\n",
    "# features_org contains unprocessed features, for me X_train at beginning ???\n",
    "# For keep-all, creates a boolean Series (keep_mask) of all True, so no rows are removed.\n",
    "\n",
    "elif mode == \"drop-non-german\":\n",
    "    keep_mask = org_train[\"maxdeutsch1\"] == 1 # ??? what about missing values?\n",
    "\n",
    "else:\n",
    "    raise ValueError(f\"Unsupported mode for exclude_subgroups: {mode}\")\n"
   ]
  },
  {
   "cell_type": "code",
   "execution_count": 31,
   "id": "71651440",
   "metadata": {
    "execution": {
     "iopub.execute_input": "2025-07-28T10:42:21.946851Z",
     "iopub.status.busy": "2025-07-28T10:42:21.946101Z",
     "iopub.status.idle": "2025-07-28T10:42:21.953246Z",
     "shell.execute_reply": "2025-07-28T10:42:21.952089Z"
    },
    "papermill": {
     "duration": 0.030975,
     "end_time": "2025-07-28T10:42:21.954912",
     "exception": false,
     "start_time": "2025-07-28T10:42:21.923937",
     "status": "completed"
    },
    "tags": []
   },
   "outputs": [],
   "source": [
    "n_drop = (~keep_mask).sum() # Calculates how many rows are set to be dropped\n",
    "if n_drop > 0:\n",
    "    pct = n_drop / len(keep_mask) * 100\n",
    "    print(f\"Dropping {n_drop} rows ({pct:.2f}%) where mode='{mode}'\")"
   ]
  },
  {
   "cell_type": "code",
   "execution_count": 32,
   "id": "5fb8eee5",
   "metadata": {
    "execution": {
     "iopub.execute_input": "2025-07-28T10:42:22.000653Z",
     "iopub.status.busy": "2025-07-28T10:42:21.999757Z",
     "iopub.status.idle": "2025-07-28T10:42:22.006947Z",
     "shell.execute_reply": "2025-07-28T10:42:22.006140Z"
    },
    "papermill": {
     "duration": 0.031773,
     "end_time": "2025-07-28T10:42:22.008629",
     "exception": false,
     "start_time": "2025-07-28T10:42:21.976856",
     "status": "completed"
    },
    "tags": []
   },
   "outputs": [],
   "source": [
    "X_train = X_train[keep_mask]"
   ]
  },
  {
   "cell_type": "code",
   "execution_count": 33,
   "id": "b202bb3a",
   "metadata": {
    "execution": {
     "iopub.execute_input": "2025-07-28T10:42:22.053596Z",
     "iopub.status.busy": "2025-07-28T10:42:22.052889Z",
     "iopub.status.idle": "2025-07-28T10:42:22.059711Z",
     "shell.execute_reply": "2025-07-28T10:42:22.058775Z"
    },
    "papermill": {
     "duration": 0.030877,
     "end_time": "2025-07-28T10:42:22.061392",
     "exception": false,
     "start_time": "2025-07-28T10:42:22.030515",
     "status": "completed"
    },
    "tags": []
   },
   "outputs": [],
   "source": [
    "y_train = y_train[keep_mask]"
   ]
  },
  {
   "cell_type": "markdown",
   "id": "493e2ac3",
   "metadata": {
    "papermill": {
     "duration": 0.021054,
     "end_time": "2025-07-28T10:42:22.104144",
     "exception": false,
     "start_time": "2025-07-28T10:42:22.083090",
     "status": "completed"
    },
    "tags": []
   },
   "source": [
    "# Model Training"
   ]
  },
  {
   "cell_type": "code",
   "execution_count": 34,
   "id": "679e1268",
   "metadata": {
    "execution": {
     "iopub.execute_input": "2025-07-28T10:42:22.148800Z",
     "iopub.status.busy": "2025-07-28T10:42:22.148271Z",
     "iopub.status.idle": "2025-07-28T10:42:22.256834Z",
     "shell.execute_reply": "2025-07-28T10:42:22.255557Z"
    },
    "papermill": {
     "duration": 0.134778,
     "end_time": "2025-07-28T10:42:22.260505",
     "exception": false,
     "start_time": "2025-07-28T10:42:22.125727",
     "status": "completed"
    },
    "tags": []
   },
   "outputs": [],
   "source": [
    "from sklearn.linear_model import LogisticRegression\n",
    "from sklearn.ensemble import GradientBoostingClassifier, RandomForestClassifier\n",
    "\n",
    "if (universe[\"model\"] == \"logreg\"):\n",
    "    model = LogisticRegression() #penalty=\"none\") #, solver=\"newton-cg\", max_iter=1) # include random_state=19 ?\n",
    "elif (universe[\"model\"] == \"penalized_logreg\"):\n",
    "    model = LogisticRegression(penalty=\"l2\", C=1.0) #, solver=\"newton-cg\", max_iter=1)\n",
    "elif (universe[\"model\"] == \"rf\"):\n",
    "    model = RandomForestClassifier(n_estimators=100, n_jobs=-1)\n",
    "elif (universe[\"model\"] == \"gbm\"):\n",
    "    model = GradientBoostingClassifier()\n",
    "elif (universe[\"model\"] == \"elasticnet\"):\n",
    "    model = LogisticRegression(penalty = 'elasticnet', solver = 'saga', l1_ratio = 0.5, max_iter=5000) # which solver to use?\n",
    "else:\n",
    "    raise \"Unsupported universe.model\""
   ]
  },
  {
   "cell_type": "code",
   "execution_count": 35,
   "id": "0cc8f744",
   "metadata": {
    "execution": {
     "iopub.execute_input": "2025-07-28T10:42:22.304388Z",
     "iopub.status.busy": "2025-07-28T10:42:22.303889Z",
     "iopub.status.idle": "2025-07-28T10:42:22.310187Z",
     "shell.execute_reply": "2025-07-28T10:42:22.309214Z"
    },
    "papermill": {
     "duration": 0.029538,
     "end_time": "2025-07-28T10:42:22.311665",
     "exception": false,
     "start_time": "2025-07-28T10:42:22.282127",
     "status": "completed"
    },
    "tags": []
   },
   "outputs": [],
   "source": [
    "import numpy as np\n",
    "from sklearn.pipeline import Pipeline\n",
    "from sklearn.preprocessing import StandardScaler\n",
    "\n",
    "model = Pipeline([\n",
    "    #(\"continuous_processor\", continuous_processor),\n",
    "    #(\"categorical_preprocessor\", categorical_preprocessor),\n",
    "    (\"scale\", StandardScaler() if universe[\"scale\"] == \"scale\" else None), \n",
    "    (\"model\", model),\n",
    "])"
   ]
  },
  {
   "cell_type": "code",
   "execution_count": 36,
   "id": "9442c04d",
   "metadata": {
    "execution": {
     "iopub.execute_input": "2025-07-28T10:42:22.355092Z",
     "iopub.status.busy": "2025-07-28T10:42:22.354668Z",
     "iopub.status.idle": "2025-07-28T10:42:22.422894Z",
     "shell.execute_reply": "2025-07-28T10:42:22.422093Z"
    },
    "papermill": {
     "duration": 0.091736,
     "end_time": "2025-07-28T10:42:22.424502",
     "exception": false,
     "start_time": "2025-07-28T10:42:22.332766",
     "status": "completed"
    },
    "tags": []
   },
   "outputs": [
    {
     "name": "stderr",
     "output_type": "stream",
     "text": [
      "/dss/dsshome1/0C/ra93lal2/.local/share/virtualenvs/CMA_Fairness_v2-3j10GkSs/lib/python3.10/site-packages/sklearn/linear_model/_logistic.py:444: ConvergenceWarning: lbfgs failed to converge (status=1):\n",
      "STOP: TOTAL NO. of ITERATIONS REACHED LIMIT.\n",
      "\n",
      "Increase the number of iterations (max_iter) or scale the data as shown in:\n",
      "    https://scikit-learn.org/stable/modules/preprocessing.html\n",
      "Please also refer to the documentation for alternative solver options:\n",
      "    https://scikit-learn.org/stable/modules/linear_model.html#logistic-regression\n",
      "  n_iter_i = _check_optimize_result(\n"
     ]
    },
    {
     "data": {
      "text/html": [
       "<style>#sk-container-id-1 {color: black;background-color: white;}#sk-container-id-1 pre{padding: 0;}#sk-container-id-1 div.sk-toggleable {background-color: white;}#sk-container-id-1 label.sk-toggleable__label {cursor: pointer;display: block;width: 100%;margin-bottom: 0;padding: 0.3em;box-sizing: border-box;text-align: center;}#sk-container-id-1 label.sk-toggleable__label-arrow:before {content: \"▸\";float: left;margin-right: 0.25em;color: #696969;}#sk-container-id-1 label.sk-toggleable__label-arrow:hover:before {color: black;}#sk-container-id-1 div.sk-estimator:hover label.sk-toggleable__label-arrow:before {color: black;}#sk-container-id-1 div.sk-toggleable__content {max-height: 0;max-width: 0;overflow: hidden;text-align: left;background-color: #f0f8ff;}#sk-container-id-1 div.sk-toggleable__content pre {margin: 0.2em;color: black;border-radius: 0.25em;background-color: #f0f8ff;}#sk-container-id-1 input.sk-toggleable__control:checked~div.sk-toggleable__content {max-height: 200px;max-width: 100%;overflow: auto;}#sk-container-id-1 input.sk-toggleable__control:checked~label.sk-toggleable__label-arrow:before {content: \"▾\";}#sk-container-id-1 div.sk-estimator input.sk-toggleable__control:checked~label.sk-toggleable__label {background-color: #d4ebff;}#sk-container-id-1 div.sk-label input.sk-toggleable__control:checked~label.sk-toggleable__label {background-color: #d4ebff;}#sk-container-id-1 input.sk-hidden--visually {border: 0;clip: rect(1px 1px 1px 1px);clip: rect(1px, 1px, 1px, 1px);height: 1px;margin: -1px;overflow: hidden;padding: 0;position: absolute;width: 1px;}#sk-container-id-1 div.sk-estimator {font-family: monospace;background-color: #f0f8ff;border: 1px dotted black;border-radius: 0.25em;box-sizing: border-box;margin-bottom: 0.5em;}#sk-container-id-1 div.sk-estimator:hover {background-color: #d4ebff;}#sk-container-id-1 div.sk-parallel-item::after {content: \"\";width: 100%;border-bottom: 1px solid gray;flex-grow: 1;}#sk-container-id-1 div.sk-label:hover label.sk-toggleable__label {background-color: #d4ebff;}#sk-container-id-1 div.sk-serial::before {content: \"\";position: absolute;border-left: 1px solid gray;box-sizing: border-box;top: 0;bottom: 0;left: 50%;z-index: 0;}#sk-container-id-1 div.sk-serial {display: flex;flex-direction: column;align-items: center;background-color: white;padding-right: 0.2em;padding-left: 0.2em;position: relative;}#sk-container-id-1 div.sk-item {position: relative;z-index: 1;}#sk-container-id-1 div.sk-parallel {display: flex;align-items: stretch;justify-content: center;background-color: white;position: relative;}#sk-container-id-1 div.sk-item::before, #sk-container-id-1 div.sk-parallel-item::before {content: \"\";position: absolute;border-left: 1px solid gray;box-sizing: border-box;top: 0;bottom: 0;left: 50%;z-index: -1;}#sk-container-id-1 div.sk-parallel-item {display: flex;flex-direction: column;z-index: 1;position: relative;background-color: white;}#sk-container-id-1 div.sk-parallel-item:first-child::after {align-self: flex-end;width: 50%;}#sk-container-id-1 div.sk-parallel-item:last-child::after {align-self: flex-start;width: 50%;}#sk-container-id-1 div.sk-parallel-item:only-child::after {width: 0;}#sk-container-id-1 div.sk-dashed-wrapped {border: 1px dashed gray;margin: 0 0.4em 0.5em 0.4em;box-sizing: border-box;padding-bottom: 0.4em;background-color: white;}#sk-container-id-1 div.sk-label label {font-family: monospace;font-weight: bold;display: inline-block;line-height: 1.2em;}#sk-container-id-1 div.sk-label-container {text-align: center;}#sk-container-id-1 div.sk-container {/* jupyter's `normalize.less` sets `[hidden] { display: none; }` but bootstrap.min.css set `[hidden] { display: none !important; }` so we also need the `!important` here to be able to override the default hidden behavior on the sphinx rendered scikit-learn.org. See: https://github.com/scikit-learn/scikit-learn/issues/21755 */display: inline-block !important;position: relative;}#sk-container-id-1 div.sk-text-repr-fallback {display: none;}</style><div id=\"sk-container-id-1\" class=\"sk-top-container\"><div class=\"sk-text-repr-fallback\"><pre>Pipeline(steps=[(&#x27;scale&#x27;, StandardScaler()), (&#x27;model&#x27;, LogisticRegression())])</pre><b>In a Jupyter environment, please rerun this cell to show the HTML representation or trust the notebook. <br />On GitHub, the HTML representation is unable to render, please try loading this page with nbviewer.org.</b></div><div class=\"sk-container\" hidden><div class=\"sk-item sk-dashed-wrapped\"><div class=\"sk-label-container\"><div class=\"sk-label sk-toggleable\"><input class=\"sk-toggleable__control sk-hidden--visually\" id=\"sk-estimator-id-1\" type=\"checkbox\" ><label for=\"sk-estimator-id-1\" class=\"sk-toggleable__label sk-toggleable__label-arrow\">Pipeline</label><div class=\"sk-toggleable__content\"><pre>Pipeline(steps=[(&#x27;scale&#x27;, StandardScaler()), (&#x27;model&#x27;, LogisticRegression())])</pre></div></div></div><div class=\"sk-serial\"><div class=\"sk-item\"><div class=\"sk-estimator sk-toggleable\"><input class=\"sk-toggleable__control sk-hidden--visually\" id=\"sk-estimator-id-2\" type=\"checkbox\" ><label for=\"sk-estimator-id-2\" class=\"sk-toggleable__label sk-toggleable__label-arrow\">StandardScaler</label><div class=\"sk-toggleable__content\"><pre>StandardScaler()</pre></div></div></div><div class=\"sk-item\"><div class=\"sk-estimator sk-toggleable\"><input class=\"sk-toggleable__control sk-hidden--visually\" id=\"sk-estimator-id-3\" type=\"checkbox\" ><label for=\"sk-estimator-id-3\" class=\"sk-toggleable__label sk-toggleable__label-arrow\">LogisticRegression</label><div class=\"sk-toggleable__content\"><pre>LogisticRegression()</pre></div></div></div></div></div></div></div>"
      ],
      "text/plain": [
       "Pipeline(steps=[('scale', StandardScaler()), ('model', LogisticRegression())])"
      ]
     },
     "execution_count": 36,
     "metadata": {},
     "output_type": "execute_result"
    }
   ],
   "source": [
    "model.fit(X_train, y_train.values.ravel())"
   ]
  },
  {
   "cell_type": "code",
   "execution_count": 37,
   "id": "af59f8c0",
   "metadata": {
    "execution": {
     "iopub.execute_input": "2025-07-28T10:42:22.471890Z",
     "iopub.status.busy": "2025-07-28T10:42:22.471395Z",
     "iopub.status.idle": "2025-07-28T10:42:22.477170Z",
     "shell.execute_reply": "2025-07-28T10:42:22.476117Z"
    },
    "papermill": {
     "duration": 0.030735,
     "end_time": "2025-07-28T10:42:22.478834",
     "exception": false,
     "start_time": "2025-07-28T10:42:22.448099",
     "status": "completed"
    },
    "tags": []
   },
   "outputs": [],
   "source": [
    "from fairness_multiverse.universe import predict_w_threshold"
   ]
  },
  {
   "cell_type": "code",
   "execution_count": 38,
   "id": "a7cf2e16",
   "metadata": {
    "execution": {
     "iopub.execute_input": "2025-07-28T10:42:22.525052Z",
     "iopub.status.busy": "2025-07-28T10:42:22.524560Z",
     "iopub.status.idle": "2025-07-28T10:42:22.717591Z",
     "shell.execute_reply": "2025-07-28T10:42:22.716664Z"
    },
    "papermill": {
     "duration": 0.218028,
     "end_time": "2025-07-28T10:42:22.719241",
     "exception": false,
     "start_time": "2025-07-28T10:42:22.501213",
     "status": "completed"
    },
    "tags": []
   },
   "outputs": [
    {
     "data": {
      "text/plain": [
       "0.8187270092520343"
      ]
     },
     "execution_count": 38,
     "metadata": {},
     "output_type": "execute_result"
    }
   ],
   "source": [
    "probs_test = model.predict_proba(X_test)\n",
    "\n",
    "'''\n",
    "Below code returns a boolean array (or binary 0/1 array depending on how it’s used) where each element \n",
    "is True if the probability of class 1 is greater than or equal to the threshold, and False otherwise.\n",
    "'''\n",
    "y_pred_default = predict_w_threshold(probs_test, 0.5)\n",
    "\n",
    "from sklearn.metrics import accuracy_score\n",
    "\n",
    "# Naive prediction\n",
    "accuracy_score(y_true = y_true, y_pred = y_pred_default)"
   ]
  },
  {
   "cell_type": "code",
   "execution_count": 39,
   "id": "081964c3",
   "metadata": {
    "execution": {
     "iopub.execute_input": "2025-07-28T10:42:22.763995Z",
     "iopub.status.busy": "2025-07-28T10:42:22.763491Z",
     "iopub.status.idle": "2025-07-28T10:42:22.944844Z",
     "shell.execute_reply": "2025-07-28T10:42:22.943835Z"
    },
    "papermill": {
     "duration": 0.205433,
     "end_time": "2025-07-28T10:42:22.946608",
     "exception": false,
     "start_time": "2025-07-28T10:42:22.741175",
     "status": "completed"
    },
    "tags": []
   },
   "outputs": [
    {
     "data": {
      "text/plain": [
       "array([0, 0, 0, ..., 0, 0, 0])"
      ]
     },
     "execution_count": 39,
     "metadata": {},
     "output_type": "execute_result"
    }
   ],
   "source": [
    "model.predict(X_test)"
   ]
  },
  {
   "cell_type": "markdown",
   "id": "56c9705b",
   "metadata": {
    "papermill": {
     "duration": 0.021491,
     "end_time": "2025-07-28T10:42:22.990788",
     "exception": false,
     "start_time": "2025-07-28T10:42:22.969297",
     "status": "completed"
    },
    "tags": []
   },
   "source": [
    "# Conformal Prediction"
   ]
  },
  {
   "cell_type": "code",
   "execution_count": 40,
   "id": "160ec6ff",
   "metadata": {
    "execution": {
     "iopub.execute_input": "2025-07-28T10:42:23.036705Z",
     "iopub.status.busy": "2025-07-28T10:42:23.036050Z",
     "iopub.status.idle": "2025-07-28T10:42:23.041401Z",
     "shell.execute_reply": "2025-07-28T10:42:23.040485Z"
    },
    "papermill": {
     "duration": 0.030409,
     "end_time": "2025-07-28T10:42:23.042911",
     "exception": false,
     "start_time": "2025-07-28T10:42:23.012502",
     "status": "completed"
    },
    "tags": []
   },
   "outputs": [],
   "source": [
    "# Miscoverage level for conformal prediction (10% allowed error rate => 90% target coverage)\n",
    "alpha = 0.1"
   ]
  },
  {
   "cell_type": "code",
   "execution_count": 41,
   "id": "eadf4555-3dd3-440e-8e35-f82a4ad9f855",
   "metadata": {
    "execution": {
     "iopub.execute_input": "2025-07-28T10:42:23.088176Z",
     "iopub.status.busy": "2025-07-28T10:42:23.087524Z",
     "iopub.status.idle": "2025-07-28T10:42:23.261727Z",
     "shell.execute_reply": "2025-07-28T10:42:23.260736Z"
    },
    "papermill": {
     "duration": 0.198585,
     "end_time": "2025-07-28T10:42:23.263632",
     "exception": false,
     "start_time": "2025-07-28T10:42:23.065047",
     "status": "completed"
    },
    "tags": []
   },
   "outputs": [],
   "source": [
    "probs_calib = model.predict_proba(X_calib)"
   ]
  },
  {
   "cell_type": "code",
   "execution_count": 42,
   "id": "2ed93547-6d5d-4983-9b36-1ecb300da49a",
   "metadata": {
    "execution": {
     "iopub.execute_input": "2025-07-28T10:42:23.308624Z",
     "iopub.status.busy": "2025-07-28T10:42:23.308104Z",
     "iopub.status.idle": "2025-07-28T10:42:23.313483Z",
     "shell.execute_reply": "2025-07-28T10:42:23.312437Z"
    },
    "papermill": {
     "duration": 0.029424,
     "end_time": "2025-07-28T10:42:23.315159",
     "exception": false,
     "start_time": "2025-07-28T10:42:23.285735",
     "status": "completed"
    },
    "tags": []
   },
   "outputs": [],
   "source": [
    "y_calib = y_calib.values.ravel().astype(int)"
   ]
  },
  {
   "cell_type": "code",
   "execution_count": 43,
   "id": "65d1320d-f588-4b38-9072-62af1ae97f7d",
   "metadata": {
    "execution": {
     "iopub.execute_input": "2025-07-28T10:42:23.360448Z",
     "iopub.status.busy": "2025-07-28T10:42:23.359833Z",
     "iopub.status.idle": "2025-07-28T10:42:23.367317Z",
     "shell.execute_reply": "2025-07-28T10:42:23.366395Z"
    },
    "papermill": {
     "duration": 0.03178,
     "end_time": "2025-07-28T10:42:23.369072",
     "exception": false,
     "start_time": "2025-07-28T10:42:23.337292",
     "status": "completed"
    },
    "tags": []
   },
   "outputs": [],
   "source": [
    "from fairness_multiverse.conformal import compute_nc_scores\n",
    "\n",
    "# Compute nonconformity scores on calibration set (1 - probability of true class)\n",
    "nc_scores = compute_nc_scores(probs_calib, y_calib)"
   ]
  },
  {
   "cell_type": "code",
   "execution_count": 44,
   "id": "df3b8ca3-53b7-43d5-9667-7c85da7aeda2",
   "metadata": {
    "execution": {
     "iopub.execute_input": "2025-07-28T10:42:23.414524Z",
     "iopub.status.busy": "2025-07-28T10:42:23.413858Z",
     "iopub.status.idle": "2025-07-28T10:42:23.420653Z",
     "shell.execute_reply": "2025-07-28T10:42:23.419640Z"
    },
    "papermill": {
     "duration": 0.030821,
     "end_time": "2025-07-28T10:42:23.422113",
     "exception": false,
     "start_time": "2025-07-28T10:42:23.391292",
     "status": "completed"
    },
    "tags": []
   },
   "outputs": [],
   "source": [
    "from fairness_multiverse.conformal import find_threshold\n",
    "\n",
    "# Find conformal threshold q_hat for the given alpha (split conformal method)\n",
    "q_hat = find_threshold(nc_scores, alpha)"
   ]
  },
  {
   "cell_type": "code",
   "execution_count": 45,
   "id": "4d29e6c1-0ef6-4aa4-b8fe-4fe79b0d033a",
   "metadata": {
    "execution": {
     "iopub.execute_input": "2025-07-28T10:42:23.468733Z",
     "iopub.status.busy": "2025-07-28T10:42:23.468074Z",
     "iopub.status.idle": "2025-07-28T10:42:23.474536Z",
     "shell.execute_reply": "2025-07-28T10:42:23.473677Z"
    },
    "papermill": {
     "duration": 0.030991,
     "end_time": "2025-07-28T10:42:23.476105",
     "exception": false,
     "start_time": "2025-07-28T10:42:23.445114",
     "status": "completed"
    },
    "tags": []
   },
   "outputs": [
    {
     "data": {
      "text/plain": [
       "0.7709247527207012"
      ]
     },
     "execution_count": 45,
     "metadata": {},
     "output_type": "execute_result"
    }
   ],
   "source": [
    "q_hat"
   ]
  },
  {
   "cell_type": "code",
   "execution_count": 46,
   "id": "92460794-cdac-4be2-ba28-f28c0515a6fb",
   "metadata": {
    "execution": {
     "iopub.execute_input": "2025-07-28T10:42:23.520974Z",
     "iopub.status.busy": "2025-07-28T10:42:23.520574Z",
     "iopub.status.idle": "2025-07-28T10:42:24.433217Z",
     "shell.execute_reply": "2025-07-28T10:42:24.432203Z"
    },
    "papermill": {
     "duration": 0.937142,
     "end_time": "2025-07-28T10:42:24.435503",
     "exception": false,
     "start_time": "2025-07-28T10:42:23.498361",
     "status": "completed"
    },
    "tags": []
   },
   "outputs": [],
   "source": [
    "from fairness_multiverse.conformal import predict_conformal_sets\n",
    "\n",
    "# Generate prediction sets for each test example\n",
    "pred_sets = predict_conformal_sets(model, X_test, q_hat)"
   ]
  },
  {
   "cell_type": "code",
   "execution_count": 47,
   "id": "d90c9a65-e6db-4f5d-80cd-e68fb7e46829",
   "metadata": {
    "execution": {
     "iopub.execute_input": "2025-07-28T10:42:24.488102Z",
     "iopub.status.busy": "2025-07-28T10:42:24.487351Z",
     "iopub.status.idle": "2025-07-28T10:42:24.493505Z",
     "shell.execute_reply": "2025-07-28T10:42:24.492478Z"
    },
    "papermill": {
     "duration": 0.034049,
     "end_time": "2025-07-28T10:42:24.495289",
     "exception": false,
     "start_time": "2025-07-28T10:42:24.461240",
     "status": "completed"
    },
    "tags": []
   },
   "outputs": [],
   "source": [
    "y_true = y_true.squeeze()"
   ]
  },
  {
   "cell_type": "code",
   "execution_count": 48,
   "id": "3a58a54a-1e68-46b9-927a-df01f18aebc8",
   "metadata": {
    "execution": {
     "iopub.execute_input": "2025-07-28T10:42:24.548231Z",
     "iopub.status.busy": "2025-07-28T10:42:24.547271Z",
     "iopub.status.idle": "2025-07-28T10:42:25.459779Z",
     "shell.execute_reply": "2025-07-28T10:42:25.458950Z"
    },
    "papermill": {
     "duration": 0.940394,
     "end_time": "2025-07-28T10:42:25.461339",
     "exception": false,
     "start_time": "2025-07-28T10:42:24.520945",
     "status": "completed"
    },
    "tags": []
   },
   "outputs": [],
   "source": [
    "from fairness_multiverse.conformal import evaluate_sets\n",
    "\n",
    "# Evaluate coverage and average set size on test data\n",
    "metrics = evaluate_sets(pred_sets, y_true)"
   ]
  },
  {
   "cell_type": "markdown",
   "id": "2b569c12-9aaa-4c88-98c9-bbcd0cf3ebb8",
   "metadata": {
    "papermill": {
     "duration": 0.012033,
     "end_time": "2025-07-28T10:42:25.486377",
     "exception": false,
     "start_time": "2025-07-28T10:42:25.474344",
     "status": "completed"
    },
    "tags": []
   },
   "source": [
    "# CP Metrics"
   ]
  },
  {
   "cell_type": "code",
   "execution_count": 49,
   "id": "5ce0a5cb-201f-45a0-ade5-94c7f0bd6095",
   "metadata": {
    "execution": {
     "iopub.execute_input": "2025-07-28T10:42:25.513407Z",
     "iopub.status.busy": "2025-07-28T10:42:25.512758Z",
     "iopub.status.idle": "2025-07-28T10:42:25.522507Z",
     "shell.execute_reply": "2025-07-28T10:42:25.521537Z"
    },
    "papermill": {
     "duration": 0.025485,
     "end_time": "2025-07-28T10:42:25.524315",
     "exception": false,
     "start_time": "2025-07-28T10:42:25.498830",
     "status": "completed"
    },
    "tags": []
   },
   "outputs": [
    {
     "data": {
      "text/plain": [
       "{'coverage': 0.9067885408538624, 'avg_size': 1.2381562813510198}"
      ]
     },
     "execution_count": 49,
     "metadata": {},
     "output_type": "execute_result"
    }
   ],
   "source": [
    "metrics"
   ]
  },
  {
   "cell_type": "code",
   "execution_count": 50,
   "id": "9b9a838d-31c9-430b-ae14-12baee460d17",
   "metadata": {
    "execution": {
     "iopub.execute_input": "2025-07-28T10:42:25.576174Z",
     "iopub.status.busy": "2025-07-28T10:42:25.575503Z",
     "iopub.status.idle": "2025-07-28T10:42:25.581538Z",
     "shell.execute_reply": "2025-07-28T10:42:25.580800Z"
    },
    "papermill": {
     "duration": 0.033341,
     "end_time": "2025-07-28T10:42:25.582942",
     "exception": false,
     "start_time": "2025-07-28T10:42:25.549601",
     "status": "completed"
    },
    "tags": []
   },
   "outputs": [],
   "source": [
    "example_universe = universe.copy()\n",
    "universe_training_size = example_universe.get(\"training_size\")\n",
    "universe_scale = example_universe.get(\"scale\")\n",
    "universe_model = example_universe.get(\"model\")\n",
    "universe_exclude_features = example_universe.get(\"exclude_features\")\n",
    "universe_exclude_subgroups = example_universe.get(\"exclude_subgroups\")"
   ]
  },
  {
   "cell_type": "code",
   "execution_count": 51,
   "id": "f4b6a8ac-9dc0-4245-8a91-5b3b5999c4f9",
   "metadata": {
    "execution": {
     "iopub.execute_input": "2025-07-28T10:42:25.610937Z",
     "iopub.status.busy": "2025-07-28T10:42:25.610271Z",
     "iopub.status.idle": "2025-07-28T10:42:25.615682Z",
     "shell.execute_reply": "2025-07-28T10:42:25.614974Z"
    },
    "papermill": {
     "duration": 0.020422,
     "end_time": "2025-07-28T10:42:25.617086",
     "exception": false,
     "start_time": "2025-07-28T10:42:25.596664",
     "status": "completed"
    },
    "tags": []
   },
   "outputs": [],
   "source": [
    "cp_metrics_dict = {\n",
    "    \"universe_id\": [universe_id],\n",
    "    \"universe_training_size\": [universe_training_size],\n",
    "    \"universe_scale\": [universe_scale],\n",
    "    \"universe_model\": [universe_model],\n",
    "    \"universe_exclude_features\": [universe_exclude_features],\n",
    "    \"universe_exclude_subgroups\": [universe_exclude_subgroups],\n",
    "    \"q_hat\": [q_hat],\n",
    "    \"coverage\": [metrics[\"coverage\"]],\n",
    "    \"avg_size\": [metrics[\"avg_size\"]],\n",
    "}"
   ]
  },
  {
   "cell_type": "code",
   "execution_count": 52,
   "id": "908acbb1-0371-4915-85ca-3fa520d2efe2",
   "metadata": {
    "execution": {
     "iopub.execute_input": "2025-07-28T10:42:25.644464Z",
     "iopub.status.busy": "2025-07-28T10:42:25.643623Z",
     "iopub.status.idle": "2025-07-28T10:42:25.650298Z",
     "shell.execute_reply": "2025-07-28T10:42:25.649249Z"
    },
    "papermill": {
     "duration": 0.021756,
     "end_time": "2025-07-28T10:42:25.652098",
     "exception": false,
     "start_time": "2025-07-28T10:42:25.630342",
     "status": "completed"
    },
    "tags": []
   },
   "outputs": [
    {
     "data": {
      "text/plain": [
       "{'universe_id': ['0c5d3b2ff9bf6309162c8da10103f3d0'],\n",
       " 'universe_training_size': ['1k'],\n",
       " 'universe_scale': ['scale'],\n",
       " 'universe_model': ['logreg'],\n",
       " 'universe_exclude_features': ['sex'],\n",
       " 'universe_exclude_subgroups': ['keep-all'],\n",
       " 'q_hat': [0.7709247527207012],\n",
       " 'coverage': [0.9067885408538624],\n",
       " 'avg_size': [1.2381562813510198]}"
      ]
     },
     "execution_count": 52,
     "metadata": {},
     "output_type": "execute_result"
    }
   ],
   "source": [
    "cp_metrics_dict"
   ]
  },
  {
   "cell_type": "code",
   "execution_count": 53,
   "id": "33007efc-14e9-4ec6-97ac-56a455c82265",
   "metadata": {
    "execution": {
     "iopub.execute_input": "2025-07-28T10:42:25.703194Z",
     "iopub.status.busy": "2025-07-28T10:42:25.702758Z",
     "iopub.status.idle": "2025-07-28T10:42:25.708539Z",
     "shell.execute_reply": "2025-07-28T10:42:25.707540Z"
    },
    "papermill": {
     "duration": 0.033589,
     "end_time": "2025-07-28T10:42:25.710591",
     "exception": false,
     "start_time": "2025-07-28T10:42:25.677002",
     "status": "completed"
    },
    "tags": []
   },
   "outputs": [],
   "source": [
    "cp_metrics_df = pd.DataFrame(cp_metrics_dict)"
   ]
  },
  {
   "cell_type": "code",
   "execution_count": 54,
   "id": "db12611b-57b2-4910-b9d0-355adfd6e7bf",
   "metadata": {
    "execution": {
     "iopub.execute_input": "2025-07-28T10:42:25.764176Z",
     "iopub.status.busy": "2025-07-28T10:42:25.763715Z",
     "iopub.status.idle": "2025-07-28T10:42:25.781045Z",
     "shell.execute_reply": "2025-07-28T10:42:25.780009Z"
    },
    "papermill": {
     "duration": 0.045613,
     "end_time": "2025-07-28T10:42:25.782802",
     "exception": false,
     "start_time": "2025-07-28T10:42:25.737189",
     "status": "completed"
    },
    "tags": []
   },
   "outputs": [
    {
     "data": {
      "text/html": [
       "<div>\n",
       "<style scoped>\n",
       "    .dataframe tbody tr th:only-of-type {\n",
       "        vertical-align: middle;\n",
       "    }\n",
       "\n",
       "    .dataframe tbody tr th {\n",
       "        vertical-align: top;\n",
       "    }\n",
       "\n",
       "    .dataframe thead th {\n",
       "        text-align: right;\n",
       "    }\n",
       "</style>\n",
       "<table border=\"1\" class=\"dataframe\">\n",
       "  <thead>\n",
       "    <tr style=\"text-align: right;\">\n",
       "      <th></th>\n",
       "      <th>universe_id</th>\n",
       "      <th>universe_training_size</th>\n",
       "      <th>universe_scale</th>\n",
       "      <th>universe_model</th>\n",
       "      <th>universe_exclude_features</th>\n",
       "      <th>universe_exclude_subgroups</th>\n",
       "      <th>q_hat</th>\n",
       "      <th>coverage</th>\n",
       "      <th>avg_size</th>\n",
       "    </tr>\n",
       "  </thead>\n",
       "  <tbody>\n",
       "    <tr>\n",
       "      <th>0</th>\n",
       "      <td>0c5d3b2ff9bf6309162c8da10103f3d0</td>\n",
       "      <td>1k</td>\n",
       "      <td>scale</td>\n",
       "      <td>logreg</td>\n",
       "      <td>sex</td>\n",
       "      <td>keep-all</td>\n",
       "      <td>0.770925</td>\n",
       "      <td>0.906789</td>\n",
       "      <td>1.238156</td>\n",
       "    </tr>\n",
       "  </tbody>\n",
       "</table>\n",
       "</div>"
      ],
      "text/plain": [
       "                        universe_id universe_training_size universe_scale  \\\n",
       "0  0c5d3b2ff9bf6309162c8da10103f3d0                     1k          scale   \n",
       "\n",
       "  universe_model universe_exclude_features universe_exclude_subgroups  \\\n",
       "0         logreg                       sex                   keep-all   \n",
       "\n",
       "      q_hat  coverage  avg_size  \n",
       "0  0.770925  0.906789  1.238156  "
      ]
     },
     "execution_count": 54,
     "metadata": {},
     "output_type": "execute_result"
    }
   ],
   "source": [
    "cp_metrics_df"
   ]
  },
  {
   "cell_type": "code",
   "execution_count": 55,
   "id": "b7fbde55-a0a1-47e4-9af6-fe4a17fa8c61",
   "metadata": {
    "execution": {
     "iopub.execute_input": "2025-07-28T10:42:25.831419Z",
     "iopub.status.busy": "2025-07-28T10:42:25.831017Z",
     "iopub.status.idle": "2025-07-28T10:42:25.836128Z",
     "shell.execute_reply": "2025-07-28T10:42:25.835243Z"
    },
    "papermill": {
     "duration": 0.030799,
     "end_time": "2025-07-28T10:42:25.837661",
     "exception": false,
     "start_time": "2025-07-28T10:42:25.806862",
     "status": "completed"
    },
    "tags": []
   },
   "outputs": [],
   "source": [
    "# Conditional Coverage & looking at subgroups"
   ]
  },
  {
   "cell_type": "code",
   "execution_count": 56,
   "id": "027ae886-68dd-4141-96c7-805a5450e1ef",
   "metadata": {
    "execution": {
     "iopub.execute_input": "2025-07-28T10:42:25.885956Z",
     "iopub.status.busy": "2025-07-28T10:42:25.885125Z",
     "iopub.status.idle": "2025-07-28T10:42:26.145193Z",
     "shell.execute_reply": "2025-07-28T10:42:26.144104Z"
    },
    "papermill": {
     "duration": 0.285706,
     "end_time": "2025-07-28T10:42:26.147005",
     "exception": false,
     "start_time": "2025-07-28T10:42:25.861299",
     "status": "completed"
    },
    "tags": []
   },
   "outputs": [],
   "source": [
    "from fairness_multiverse.conformal import build_cp_groups\n",
    "\n",
    "cp_groups_df = build_cp_groups(pred_sets, y_true, X_test.index, org_test)\n",
    "#needs universe_id and setting"
   ]
  },
  {
   "cell_type": "code",
   "execution_count": 57,
   "id": "01d5802c-663a-4d1f-9d69-e036faaffbf7",
   "metadata": {
    "execution": {
     "iopub.execute_input": "2025-07-28T10:42:26.201166Z",
     "iopub.status.busy": "2025-07-28T10:42:26.200492Z",
     "iopub.status.idle": "2025-07-28T10:42:26.205496Z",
     "shell.execute_reply": "2025-07-28T10:42:26.204590Z"
    },
    "papermill": {
     "duration": 0.034337,
     "end_time": "2025-07-28T10:42:26.207179",
     "exception": false,
     "start_time": "2025-07-28T10:42:26.172842",
     "status": "completed"
    },
    "tags": []
   },
   "outputs": [],
   "source": [
    "#delete\n",
    "#cp_groups_df"
   ]
  },
  {
   "cell_type": "code",
   "execution_count": 58,
   "id": "fa424af1-d1eb-443d-b717-2d279ada8408",
   "metadata": {
    "execution": {
     "iopub.execute_input": "2025-07-28T10:42:26.260990Z",
     "iopub.status.busy": "2025-07-28T10:42:26.259997Z",
     "iopub.status.idle": "2025-07-28T10:42:26.265463Z",
     "shell.execute_reply": "2025-07-28T10:42:26.264452Z"
    },
    "papermill": {
     "duration": 0.033969,
     "end_time": "2025-07-28T10:42:26.267475",
     "exception": false,
     "start_time": "2025-07-28T10:42:26.233506",
     "status": "completed"
    },
    "tags": []
   },
   "outputs": [],
   "source": [
    "#delete\n",
    "#percentage = (cp_groups_df['nongerman_female'] == 1).mean() * 100\n",
    "#print(percentage)\n"
   ]
  },
  {
   "cell_type": "code",
   "execution_count": 59,
   "id": "6cbdab96-b2b2-45af-ad54-d0516db2e28d",
   "metadata": {
    "execution": {
     "iopub.execute_input": "2025-07-28T10:42:26.320298Z",
     "iopub.status.busy": "2025-07-28T10:42:26.319834Z",
     "iopub.status.idle": "2025-07-28T10:42:27.946545Z",
     "shell.execute_reply": "2025-07-28T10:42:27.945586Z"
    },
    "papermill": {
     "duration": 1.654762,
     "end_time": "2025-07-28T10:42:27.948555",
     "exception": false,
     "start_time": "2025-07-28T10:42:26.293793",
     "status": "completed"
    },
    "tags": []
   },
   "outputs": [],
   "source": [
    "# Define covered = 1 if true_label is in the predicted set\n",
    "cp_groups_df['covered'] = cp_groups_df.apply(\n",
    "    lambda r: int(r['true_label'] in r['pred_set']),\n",
    "    axis=1\n",
    ")"
   ]
  },
  {
   "cell_type": "code",
   "execution_count": 60,
   "id": "338ff529-1a6b-4b87-a931-8e4788d52aad",
   "metadata": {
    "execution": {
     "iopub.execute_input": "2025-07-28T10:42:28.003115Z",
     "iopub.status.busy": "2025-07-28T10:42:28.002474Z",
     "iopub.status.idle": "2025-07-28T10:42:28.007686Z",
     "shell.execute_reply": "2025-07-28T10:42:28.006673Z"
    },
    "papermill": {
     "duration": 0.034573,
     "end_time": "2025-07-28T10:42:28.009454",
     "exception": false,
     "start_time": "2025-07-28T10:42:27.974881",
     "status": "completed"
    },
    "tags": []
   },
   "outputs": [],
   "source": [
    "#cp_groups_df"
   ]
  },
  {
   "cell_type": "code",
   "execution_count": 61,
   "id": "90032e27-66df-4540-9169-4e89cfbaa758",
   "metadata": {
    "execution": {
     "iopub.execute_input": "2025-07-28T10:42:28.063036Z",
     "iopub.status.busy": "2025-07-28T10:42:28.062046Z",
     "iopub.status.idle": "2025-07-28T10:42:28.074311Z",
     "shell.execute_reply": "2025-07-28T10:42:28.073380Z"
    },
    "papermill": {
     "duration": 0.040444,
     "end_time": "2025-07-28T10:42:28.075985",
     "exception": false,
     "start_time": "2025-07-28T10:42:28.035541",
     "status": "completed"
    },
    "tags": []
   },
   "outputs": [],
   "source": [
    "subgroups = ['frau1','nongerman','nongerman_male','nongerman_female']\n",
    "\n",
    "# Conditional coverage for subgroup==1\n",
    "cond_coverage = {\n",
    "    g: cp_groups_df.loc[cp_groups_df[g]==1, 'covered'].mean()\n",
    "    for g in subgroups\n",
    "}"
   ]
  },
  {
   "cell_type": "code",
   "execution_count": 62,
   "id": "1e348fb1-b9c3-45bc-ba23-f016827a7e0d",
   "metadata": {
    "execution": {
     "iopub.execute_input": "2025-07-28T10:42:28.126554Z",
     "iopub.status.busy": "2025-07-28T10:42:28.125952Z",
     "iopub.status.idle": "2025-07-28T10:42:28.133598Z",
     "shell.execute_reply": "2025-07-28T10:42:28.132586Z"
    },
    "papermill": {
     "duration": 0.034373,
     "end_time": "2025-07-28T10:42:28.135131",
     "exception": false,
     "start_time": "2025-07-28T10:42:28.100758",
     "status": "completed"
    },
    "tags": []
   },
   "outputs": [
    {
     "data": {
      "text/plain": [
       "{'frau1': 0.9076964550478501,\n",
       " 'nongerman': 0.9152865884466401,\n",
       " 'nongerman_male': 0.929658650815095,\n",
       " 'nongerman_female': 0.89150521609538}"
      ]
     },
     "execution_count": 62,
     "metadata": {},
     "output_type": "execute_result"
    }
   ],
   "source": [
    "cond_coverage"
   ]
  },
  {
   "cell_type": "code",
   "execution_count": 63,
   "id": "f5093324-c3dd-4d63-bc4c-8d945e5c8bbb",
   "metadata": {
    "execution": {
     "iopub.execute_input": "2025-07-28T10:42:28.186094Z",
     "iopub.status.busy": "2025-07-28T10:42:28.185575Z",
     "iopub.status.idle": "2025-07-28T10:42:28.193115Z",
     "shell.execute_reply": "2025-07-28T10:42:28.192151Z"
    },
    "papermill": {
     "duration": 0.034722,
     "end_time": "2025-07-28T10:42:28.194618",
     "exception": false,
     "start_time": "2025-07-28T10:42:28.159896",
     "status": "completed"
    },
    "tags": []
   },
   "outputs": [],
   "source": [
    "for subgroup, cov in cond_coverage.items():\n",
    "    cp_metrics_df[f\"cov_{subgroup}\"] = cov"
   ]
  },
  {
   "cell_type": "code",
   "execution_count": 64,
   "id": "6e872e10-dbe5-49e8-b554-5030c98ff75d",
   "metadata": {
    "execution": {
     "iopub.execute_input": "2025-07-28T10:42:28.246344Z",
     "iopub.status.busy": "2025-07-28T10:42:28.245688Z",
     "iopub.status.idle": "2025-07-28T10:42:28.264976Z",
     "shell.execute_reply": "2025-07-28T10:42:28.264001Z"
    },
    "papermill": {
     "duration": 0.046971,
     "end_time": "2025-07-28T10:42:28.266579",
     "exception": false,
     "start_time": "2025-07-28T10:42:28.219608",
     "status": "completed"
    },
    "tags": []
   },
   "outputs": [
    {
     "data": {
      "text/html": [
       "<div>\n",
       "<style scoped>\n",
       "    .dataframe tbody tr th:only-of-type {\n",
       "        vertical-align: middle;\n",
       "    }\n",
       "\n",
       "    .dataframe tbody tr th {\n",
       "        vertical-align: top;\n",
       "    }\n",
       "\n",
       "    .dataframe thead th {\n",
       "        text-align: right;\n",
       "    }\n",
       "</style>\n",
       "<table border=\"1\" class=\"dataframe\">\n",
       "  <thead>\n",
       "    <tr style=\"text-align: right;\">\n",
       "      <th></th>\n",
       "      <th>universe_id</th>\n",
       "      <th>universe_training_size</th>\n",
       "      <th>universe_scale</th>\n",
       "      <th>universe_model</th>\n",
       "      <th>universe_exclude_features</th>\n",
       "      <th>universe_exclude_subgroups</th>\n",
       "      <th>q_hat</th>\n",
       "      <th>coverage</th>\n",
       "      <th>avg_size</th>\n",
       "      <th>cov_frau1</th>\n",
       "      <th>cov_nongerman</th>\n",
       "      <th>cov_nongerman_male</th>\n",
       "      <th>cov_nongerman_female</th>\n",
       "    </tr>\n",
       "  </thead>\n",
       "  <tbody>\n",
       "    <tr>\n",
       "      <th>0</th>\n",
       "      <td>0c5d3b2ff9bf6309162c8da10103f3d0</td>\n",
       "      <td>1k</td>\n",
       "      <td>scale</td>\n",
       "      <td>logreg</td>\n",
       "      <td>sex</td>\n",
       "      <td>keep-all</td>\n",
       "      <td>0.770925</td>\n",
       "      <td>0.906789</td>\n",
       "      <td>1.238156</td>\n",
       "      <td>0.907696</td>\n",
       "      <td>0.915287</td>\n",
       "      <td>0.929659</td>\n",
       "      <td>0.891505</td>\n",
       "    </tr>\n",
       "  </tbody>\n",
       "</table>\n",
       "</div>"
      ],
      "text/plain": [
       "                        universe_id universe_training_size universe_scale  \\\n",
       "0  0c5d3b2ff9bf6309162c8da10103f3d0                     1k          scale   \n",
       "\n",
       "  universe_model universe_exclude_features universe_exclude_subgroups  \\\n",
       "0         logreg                       sex                   keep-all   \n",
       "\n",
       "      q_hat  coverage  avg_size  cov_frau1  cov_nongerman  cov_nongerman_male  \\\n",
       "0  0.770925  0.906789  1.238156   0.907696       0.915287            0.929659   \n",
       "\n",
       "   cov_nongerman_female  \n",
       "0              0.891505  "
      ]
     },
     "execution_count": 64,
     "metadata": {},
     "output_type": "execute_result"
    }
   ],
   "source": [
    "cp_metrics_df"
   ]
  },
  {
   "cell_type": "markdown",
   "id": "33774451",
   "metadata": {
    "papermill": {
     "duration": 0.02487,
     "end_time": "2025-07-28T10:42:28.316816",
     "exception": false,
     "start_time": "2025-07-28T10:42:28.291946",
     "status": "completed"
    },
    "tags": []
   },
   "source": [
    "# (Fairness) Metrics"
   ]
  },
  {
   "cell_type": "code",
   "execution_count": 65,
   "id": "debc5d62",
   "metadata": {
    "execution": {
     "iopub.execute_input": "2025-07-28T10:42:28.368664Z",
     "iopub.status.busy": "2025-07-28T10:42:28.367675Z",
     "iopub.status.idle": "2025-07-28T10:42:28.390779Z",
     "shell.execute_reply": "2025-07-28T10:42:28.389771Z"
    },
    "papermill": {
     "duration": 0.051277,
     "end_time": "2025-07-28T10:42:28.392742",
     "exception": false,
     "start_time": "2025-07-28T10:42:28.341465",
     "status": "completed"
    },
    "tags": []
   },
   "outputs": [],
   "source": [
    "# do I need to include maxdeutsch1.missing?\n",
    "\n",
    "import numpy as np\n",
    "\n",
    "colname_to_bin = \"maxdeutsch1\"\n",
    "majority_value = org_train[colname_to_bin].mode()[0]\n",
    "\n",
    "org_test[\"majmin\"] = np.where(org_test[colname_to_bin] == majority_value, \"majority\", \"minority\")"
   ]
  },
  {
   "cell_type": "code",
   "execution_count": 66,
   "id": "06a50de5",
   "metadata": {
    "execution": {
     "iopub.execute_input": "2025-07-28T10:42:28.445818Z",
     "iopub.status.busy": "2025-07-28T10:42:28.445159Z",
     "iopub.status.idle": "2025-07-28T10:42:31.429247Z",
     "shell.execute_reply": "2025-07-28T10:42:31.428354Z"
    },
    "papermill": {
     "duration": 3.012591,
     "end_time": "2025-07-28T10:42:31.431067",
     "exception": false,
     "start_time": "2025-07-28T10:42:28.418476",
     "status": "completed"
    },
    "tags": []
   },
   "outputs": [],
   "source": [
    "example_universe = universe.copy()\n",
    "example_universe[\"cutoff\"] = example_universe[\"cutoff\"][0]\n",
    "example_universe[\"eval_fairness_grouping\"] = example_universe[\"eval_fairness_grouping\"][0]\n",
    "fairness_dict, metric_frame = universe_analysis.compute_metrics(\n",
    "    example_universe,\n",
    "    y_pred_prob=probs_test,\n",
    "    y_test=y_true,\n",
    "    org_test=org_test,\n",
    ")"
   ]
  },
  {
   "cell_type": "markdown",
   "id": "f95d4e02",
   "metadata": {
    "papermill": {
     "duration": 0.024786,
     "end_time": "2025-07-28T10:42:31.481550",
     "exception": false,
     "start_time": "2025-07-28T10:42:31.456764",
     "status": "completed"
    },
    "tags": []
   },
   "source": [
    "# Overall"
   ]
  },
  {
   "cell_type": "markdown",
   "id": "bdee4871",
   "metadata": {
    "papermill": {
     "duration": 0.024822,
     "end_time": "2025-07-28T10:42:31.531382",
     "exception": false,
     "start_time": "2025-07-28T10:42:31.506560",
     "status": "completed"
    },
    "tags": []
   },
   "source": [
    "Fairness\n",
    "Main fairness target: Equalized Odds. Seems to be a better fit than equal opportunity, since we're not only interested in Y = 1. Seems to be a better fit than demographic parity, since we also care about accuracy, not just equal distribution of preds.\n",
    "\n",
    "Pick column for computation of fairness metrics\n",
    "\n",
    "Performance\n",
    "Overall performance measures, most interesting in relation to the measures split by group below"
   ]
  },
  {
   "cell_type": "code",
   "execution_count": 67,
   "id": "c4e067c6",
   "metadata": {
    "execution": {
     "iopub.execute_input": "2025-07-28T10:42:31.583690Z",
     "iopub.status.busy": "2025-07-28T10:42:31.582806Z",
     "iopub.status.idle": "2025-07-28T10:42:31.592120Z",
     "shell.execute_reply": "2025-07-28T10:42:31.591115Z"
    },
    "papermill": {
     "duration": 0.037548,
     "end_time": "2025-07-28T10:42:31.593890",
     "exception": false,
     "start_time": "2025-07-28T10:42:31.556342",
     "status": "completed"
    },
    "tags": []
   },
   "outputs": [
    {
     "data": {
      "text/plain": [
       "accuracy                   0.218181\n",
       "balanced accuracy          0.534780\n",
       "f1                         0.239683\n",
       "precision                  0.136923\n",
       "false positive rate        0.891077\n",
       "false negative rate        0.039364\n",
       "selection rate             0.900000\n",
       "count                  89710.000000\n",
       "dtype: float64"
      ]
     },
     "execution_count": 67,
     "metadata": {},
     "output_type": "execute_result"
    }
   ],
   "source": [
    "metric_frame.overall"
   ]
  },
  {
   "cell_type": "markdown",
   "id": "e968fe9d",
   "metadata": {
    "papermill": {
     "duration": 0.024876,
     "end_time": "2025-07-28T10:42:31.644567",
     "exception": false,
     "start_time": "2025-07-28T10:42:31.619691",
     "status": "completed"
    },
    "tags": []
   },
   "source": [
    "By Group"
   ]
  },
  {
   "cell_type": "code",
   "execution_count": 68,
   "id": "ec325bce",
   "metadata": {
    "execution": {
     "iopub.execute_input": "2025-07-28T10:42:31.708050Z",
     "iopub.status.busy": "2025-07-28T10:42:31.707326Z",
     "iopub.status.idle": "2025-07-28T10:42:31.724387Z",
     "shell.execute_reply": "2025-07-28T10:42:31.723235Z"
    },
    "papermill": {
     "duration": 0.04581,
     "end_time": "2025-07-28T10:42:31.726061",
     "exception": false,
     "start_time": "2025-07-28T10:42:31.680251",
     "status": "completed"
    },
    "tags": []
   },
   "outputs": [
    {
     "data": {
      "text/html": [
       "<div>\n",
       "<style scoped>\n",
       "    .dataframe tbody tr th:only-of-type {\n",
       "        vertical-align: middle;\n",
       "    }\n",
       "\n",
       "    .dataframe tbody tr th {\n",
       "        vertical-align: top;\n",
       "    }\n",
       "\n",
       "    .dataframe thead th {\n",
       "        text-align: right;\n",
       "    }\n",
       "</style>\n",
       "<table border=\"1\" class=\"dataframe\">\n",
       "  <thead>\n",
       "    <tr style=\"text-align: right;\">\n",
       "      <th></th>\n",
       "      <th>accuracy</th>\n",
       "      <th>balanced accuracy</th>\n",
       "      <th>f1</th>\n",
       "      <th>precision</th>\n",
       "      <th>false positive rate</th>\n",
       "      <th>false negative rate</th>\n",
       "      <th>selection rate</th>\n",
       "      <th>count</th>\n",
       "    </tr>\n",
       "    <tr>\n",
       "      <th>majmin</th>\n",
       "      <th></th>\n",
       "      <th></th>\n",
       "      <th></th>\n",
       "      <th></th>\n",
       "      <th></th>\n",
       "      <th></th>\n",
       "      <th></th>\n",
       "      <th></th>\n",
       "    </tr>\n",
       "  </thead>\n",
       "  <tbody>\n",
       "    <tr>\n",
       "      <th>majority</th>\n",
       "      <td>0.232341</td>\n",
       "      <td>0.539643</td>\n",
       "      <td>0.247879</td>\n",
       "      <td>0.142371</td>\n",
       "      <td>0.878044</td>\n",
       "      <td>0.042670</td>\n",
       "      <td>0.888521</td>\n",
       "      <td>69170.0</td>\n",
       "    </tr>\n",
       "    <tr>\n",
       "      <th>minority</th>\n",
       "      <td>0.170497</td>\n",
       "      <td>0.519633</td>\n",
       "      <td>0.212953</td>\n",
       "      <td>0.119554</td>\n",
       "      <td>0.934129</td>\n",
       "      <td>0.026605</td>\n",
       "      <td>0.938656</td>\n",
       "      <td>20540.0</td>\n",
       "    </tr>\n",
       "  </tbody>\n",
       "</table>\n",
       "</div>"
      ],
      "text/plain": [
       "          accuracy  balanced accuracy        f1  precision  \\\n",
       "majmin                                                       \n",
       "majority  0.232341           0.539643  0.247879   0.142371   \n",
       "minority  0.170497           0.519633  0.212953   0.119554   \n",
       "\n",
       "          false positive rate  false negative rate  selection rate    count  \n",
       "majmin                                                                       \n",
       "majority             0.878044             0.042670        0.888521  69170.0  \n",
       "minority             0.934129             0.026605        0.938656  20540.0  "
      ]
     },
     "execution_count": 68,
     "metadata": {},
     "output_type": "execute_result"
    }
   ],
   "source": [
    "metric_frame.by_group"
   ]
  },
  {
   "cell_type": "code",
   "execution_count": 69,
   "id": "a9ddbe63",
   "metadata": {
    "execution": {
     "iopub.execute_input": "2025-07-28T10:42:31.786539Z",
     "iopub.status.busy": "2025-07-28T10:42:31.785805Z",
     "iopub.status.idle": "2025-07-28T10:42:34.434110Z",
     "shell.execute_reply": "2025-07-28T10:42:34.433008Z"
    },
    "papermill": {
     "duration": 2.683034,
     "end_time": "2025-07-28T10:42:34.436042",
     "exception": false,
     "start_time": "2025-07-28T10:42:31.753008",
     "status": "completed"
    },
    "tags": []
   },
   "outputs": [
    {
     "data": {
      "text/plain": [
       "array([[<Axes: title={'center': 'accuracy'}, xlabel='majmin'>,\n",
       "        <Axes: title={'center': 'balanced accuracy'}, xlabel='majmin'>,\n",
       "        <Axes: title={'center': 'f1'}, xlabel='majmin'>],\n",
       "       [<Axes: title={'center': 'precision'}, xlabel='majmin'>,\n",
       "        <Axes: title={'center': 'false positive rate'}, xlabel='majmin'>,\n",
       "        <Axes: title={'center': 'false negative rate'}, xlabel='majmin'>],\n",
       "       [<Axes: title={'center': 'selection rate'}, xlabel='majmin'>,\n",
       "        <Axes: title={'center': 'count'}, xlabel='majmin'>,\n",
       "        <Axes: xlabel='majmin'>]], dtype=object)"
      ]
     },
     "execution_count": 69,
     "metadata": {},
     "output_type": "execute_result"
    },
    {
     "data": {
      "image/png": "[encoded data removed]",
      "text/plain": [
       "<Figure size 1200x800 with 9 Axes>"
      ]
     },
     "metadata": {},
     "output_type": "display_data"
    }
   ],
   "source": [
    "# In a graphic\n",
    "metric_frame.by_group.plot.bar(\n",
    "    subplots=True,\n",
    "    layout=[3, 3],\n",
    "    legend=False,\n",
    "    figsize=[12, 8],\n",
    "    title=\"Show all metrics\",\n",
    ")"
   ]
  },
  {
   "cell_type": "markdown",
   "id": "f57a0bac",
   "metadata": {
    "papermill": {
     "duration": 0.028052,
     "end_time": "2025-07-28T10:42:34.496709",
     "exception": false,
     "start_time": "2025-07-28T10:42:34.468657",
     "status": "completed"
    },
    "tags": []
   },
   "source": [
    "# Final Output"
   ]
  },
  {
   "cell_type": "code",
   "execution_count": 70,
   "id": "96d280a3",
   "metadata": {
    "execution": {
     "iopub.execute_input": "2025-07-28T10:42:34.557390Z",
     "iopub.status.busy": "2025-07-28T10:42:34.556688Z",
     "iopub.status.idle": "2025-07-28T10:42:34.565547Z",
     "shell.execute_reply": "2025-07-28T10:42:34.564525Z"
    },
    "papermill": {
     "duration": 0.040888,
     "end_time": "2025-07-28T10:42:34.567212",
     "exception": false,
     "start_time": "2025-07-28T10:42:34.526324",
     "status": "completed"
    },
    "tags": []
   },
   "outputs": [
    {
     "data": {
      "text/plain": [
       "4"
      ]
     },
     "execution_count": 70,
     "metadata": {},
     "output_type": "execute_result"
    }
   ],
   "source": [
    "sub_universes = universe_analysis.generate_sub_universes()\n",
    "len(sub_universes)"
   ]
  },
  {
   "cell_type": "code",
   "execution_count": 71,
   "id": "92adf7ba",
   "metadata": {
    "execution": {
     "iopub.execute_input": "2025-07-28T10:42:34.629691Z",
     "iopub.status.busy": "2025-07-28T10:42:34.628798Z",
     "iopub.status.idle": "2025-07-28T10:42:34.635522Z",
     "shell.execute_reply": "2025-07-28T10:42:34.634444Z"
    },
    "papermill": {
     "duration": 0.039674,
     "end_time": "2025-07-28T10:42:34.637475",
     "exception": false,
     "start_time": "2025-07-28T10:42:34.597801",
     "status": "completed"
    },
    "tags": []
   },
   "outputs": [],
   "source": [
    "def filter_sub_universe_data(sub_universe, org_test):\n",
    "    # Keep all rows — no filtering\n",
    "    keep_rows_mask = np.ones(org_test.shape[0], dtype=bool)\n",
    "\n",
    "    print(f\"[INFO] Keeping all rows: {keep_rows_mask.sum()} rows retained.\")\n",
    "    return keep_rows_mask"
   ]
  },
  {
   "cell_type": "code",
   "execution_count": 72,
   "id": "4a759155",
   "metadata": {
    "execution": {
     "iopub.execute_input": "2025-07-28T10:42:34.703494Z",
     "iopub.status.busy": "2025-07-28T10:42:34.702658Z",
     "iopub.status.idle": "2025-07-28T10:42:45.283988Z",
     "shell.execute_reply": "2025-07-28T10:42:45.282932Z"
    },
    "papermill": {
     "duration": 10.615903,
     "end_time": "2025-07-28T10:42:45.285816",
     "exception": false,
     "start_time": "2025-07-28T10:42:34.669913",
     "status": "completed"
    },
    "tags": []
   },
   "outputs": [
    {
     "name": "stdout",
     "output_type": "stream",
     "text": [
      "Stopping execution_time clock.\n",
      "[INFO] Keeping all rows: 89710 rows retained.\n"
     ]
    },
    {
     "name": "stdout",
     "output_type": "stream",
     "text": [
      "[INFO] Keeping all rows: 89710 rows retained.\n"
     ]
    },
    {
     "name": "stdout",
     "output_type": "stream",
     "text": [
      "[INFO] Keeping all rows: 89710 rows retained.\n"
     ]
    },
    {
     "name": "stdout",
     "output_type": "stream",
     "text": [
      "[INFO] Keeping all rows: 89710 rows retained.\n"
     ]
    },
    {
     "data": {
      "text/html": [
       "<div>\n",
       "<style scoped>\n",
       "    .dataframe tbody tr th:only-of-type {\n",
       "        vertical-align: middle;\n",
       "    }\n",
       "\n",
       "    .dataframe tbody tr th {\n",
       "        vertical-align: top;\n",
       "    }\n",
       "\n",
       "    .dataframe thead th {\n",
       "        text-align: right;\n",
       "    }\n",
       "</style>\n",
       "<table border=\"1\" class=\"dataframe\">\n",
       "  <thead>\n",
       "    <tr style=\"text-align: right;\">\n",
       "      <th></th>\n",
       "      <th>run_no</th>\n",
       "      <th>universe_id</th>\n",
       "      <th>universe_settings</th>\n",
       "      <th>execution_time</th>\n",
       "      <th>test_size_n</th>\n",
       "      <th>test_size_frac</th>\n",
       "      <th>fair_main_equalized_odds_difference</th>\n",
       "      <th>fair_main_equalized_odds_ratio</th>\n",
       "      <th>fair_main_demographic_parity_difference</th>\n",
       "      <th>fair_main_demographic_parity_ratio</th>\n",
       "      <th>...</th>\n",
       "      <th>perf_grp_precision_0</th>\n",
       "      <th>perf_grp_precision_1</th>\n",
       "      <th>perf_grp_false positive rate_0</th>\n",
       "      <th>perf_grp_false positive rate_1</th>\n",
       "      <th>perf_grp_false negative rate_0</th>\n",
       "      <th>perf_grp_false negative rate_1</th>\n",
       "      <th>perf_grp_selection rate_0</th>\n",
       "      <th>perf_grp_selection rate_1</th>\n",
       "      <th>perf_grp_count_0</th>\n",
       "      <th>perf_grp_count_1</th>\n",
       "    </tr>\n",
       "  </thead>\n",
       "  <tbody>\n",
       "    <tr>\n",
       "      <th>0</th>\n",
       "      <td>11</td>\n",
       "      <td>0c5d3b2ff9bf6309162c8da10103f3d0</td>\n",
       "      <td>{\"cutoff\": \"quantile_0.1\", \"eval_fairness_grou...</td>\n",
       "      <td>28.260138</td>\n",
       "      <td>89710</td>\n",
       "      <td>1.0</td>\n",
       "      <td>0.056085</td>\n",
       "      <td>0.939960</td>\n",
       "      <td>0.050135</td>\n",
       "      <td>0.946588</td>\n",
       "      <td>...</td>\n",
       "      <td>NaN</td>\n",
       "      <td>NaN</td>\n",
       "      <td>NaN</td>\n",
       "      <td>NaN</td>\n",
       "      <td>NaN</td>\n",
       "      <td>NaN</td>\n",
       "      <td>NaN</td>\n",
       "      <td>NaN</td>\n",
       "      <td>NaN</td>\n",
       "      <td>NaN</td>\n",
       "    </tr>\n",
       "    <tr>\n",
       "      <th>0</th>\n",
       "      <td>11</td>\n",
       "      <td>0c5d3b2ff9bf6309162c8da10103f3d0</td>\n",
       "      <td>{\"cutoff\": \"quantile_0.1\", \"eval_fairness_grou...</td>\n",
       "      <td>28.260138</td>\n",
       "      <td>89710</td>\n",
       "      <td>1.0</td>\n",
       "      <td>0.056085</td>\n",
       "      <td>0.939960</td>\n",
       "      <td>0.050135</td>\n",
       "      <td>0.946588</td>\n",
       "      <td>...</td>\n",
       "      <td>0.119554</td>\n",
       "      <td>0.142371</td>\n",
       "      <td>0.934129</td>\n",
       "      <td>0.878044</td>\n",
       "      <td>0.026605</td>\n",
       "      <td>0.042670</td>\n",
       "      <td>0.938656</td>\n",
       "      <td>0.888521</td>\n",
       "      <td>20540.0</td>\n",
       "      <td>69170.0</td>\n",
       "    </tr>\n",
       "    <tr>\n",
       "      <th>0</th>\n",
       "      <td>11</td>\n",
       "      <td>0c5d3b2ff9bf6309162c8da10103f3d0</td>\n",
       "      <td>{\"cutoff\": \"quantile_0.25\", \"eval_fairness_gro...</td>\n",
       "      <td>28.260138</td>\n",
       "      <td>89710</td>\n",
       "      <td>1.0</td>\n",
       "      <td>0.089034</td>\n",
       "      <td>0.900917</td>\n",
       "      <td>0.039078</td>\n",
       "      <td>0.948510</td>\n",
       "      <td>...</td>\n",
       "      <td>NaN</td>\n",
       "      <td>NaN</td>\n",
       "      <td>NaN</td>\n",
       "      <td>NaN</td>\n",
       "      <td>NaN</td>\n",
       "      <td>NaN</td>\n",
       "      <td>NaN</td>\n",
       "      <td>NaN</td>\n",
       "      <td>NaN</td>\n",
       "      <td>NaN</td>\n",
       "    </tr>\n",
       "    <tr>\n",
       "      <th>0</th>\n",
       "      <td>11</td>\n",
       "      <td>0c5d3b2ff9bf6309162c8da10103f3d0</td>\n",
       "      <td>{\"cutoff\": \"quantile_0.25\", \"eval_fairness_gro...</td>\n",
       "      <td>28.260138</td>\n",
       "      <td>89710</td>\n",
       "      <td>1.0</td>\n",
       "      <td>0.089034</td>\n",
       "      <td>0.900917</td>\n",
       "      <td>0.039078</td>\n",
       "      <td>0.948510</td>\n",
       "      <td>...</td>\n",
       "      <td>0.129650</td>\n",
       "      <td>0.156450</td>\n",
       "      <td>0.708177</td>\n",
       "      <td>0.737681</td>\n",
       "      <td>0.190456</td>\n",
       "      <td>0.101422</td>\n",
       "      <td>0.719864</td>\n",
       "      <td>0.758942</td>\n",
       "      <td>20540.0</td>\n",
       "      <td>69170.0</td>\n",
       "    </tr>\n",
       "  </tbody>\n",
       "</table>\n",
       "<p>4 rows × 50 columns</p>\n",
       "</div>"
      ],
      "text/plain": [
       "  run_no                       universe_id  \\\n",
       "0     11  0c5d3b2ff9bf6309162c8da10103f3d0   \n",
       "0     11  0c5d3b2ff9bf6309162c8da10103f3d0   \n",
       "0     11  0c5d3b2ff9bf6309162c8da10103f3d0   \n",
       "0     11  0c5d3b2ff9bf6309162c8da10103f3d0   \n",
       "\n",
       "                                   universe_settings  execution_time  \\\n",
       "0  {\"cutoff\": \"quantile_0.1\", \"eval_fairness_grou...       28.260138   \n",
       "0  {\"cutoff\": \"quantile_0.1\", \"eval_fairness_grou...       28.260138   \n",
       "0  {\"cutoff\": \"quantile_0.25\", \"eval_fairness_gro...       28.260138   \n",
       "0  {\"cutoff\": \"quantile_0.25\", \"eval_fairness_gro...       28.260138   \n",
       "\n",
       "   test_size_n  test_size_frac  fair_main_equalized_odds_difference  \\\n",
       "0        89710             1.0                             0.056085   \n",
       "0        89710             1.0                             0.056085   \n",
       "0        89710             1.0                             0.089034   \n",
       "0        89710             1.0                             0.089034   \n",
       "\n",
       "   fair_main_equalized_odds_ratio  fair_main_demographic_parity_difference  \\\n",
       "0                        0.939960                                 0.050135   \n",
       "0                        0.939960                                 0.050135   \n",
       "0                        0.900917                                 0.039078   \n",
       "0                        0.900917                                 0.039078   \n",
       "\n",
       "   fair_main_demographic_parity_ratio  ...  perf_grp_precision_0  \\\n",
       "0                            0.946588  ...                   NaN   \n",
       "0                            0.946588  ...              0.119554   \n",
       "0                            0.948510  ...                   NaN   \n",
       "0                            0.948510  ...              0.129650   \n",
       "\n",
       "   perf_grp_precision_1  perf_grp_false positive rate_0  \\\n",
       "0                   NaN                             NaN   \n",
       "0              0.142371                        0.934129   \n",
       "0                   NaN                             NaN   \n",
       "0              0.156450                        0.708177   \n",
       "\n",
       "   perf_grp_false positive rate_1  perf_grp_false negative rate_0  \\\n",
       "0                             NaN                             NaN   \n",
       "0                        0.878044                        0.026605   \n",
       "0                             NaN                             NaN   \n",
       "0                        0.737681                        0.190456   \n",
       "\n",
       "   perf_grp_false negative rate_1  perf_grp_selection rate_0  \\\n",
       "0                             NaN                        NaN   \n",
       "0                        0.042670                   0.938656   \n",
       "0                             NaN                        NaN   \n",
       "0                        0.101422                   0.719864   \n",
       "\n",
       "   perf_grp_selection rate_1  perf_grp_count_0  perf_grp_count_1  \n",
       "0                        NaN               NaN               NaN  \n",
       "0                   0.888521           20540.0           69170.0  \n",
       "0                        NaN               NaN               NaN  \n",
       "0                   0.758942           20540.0           69170.0  \n",
       "\n",
       "[4 rows x 50 columns]"
      ]
     },
     "execution_count": 72,
     "metadata": {},
     "output_type": "execute_result"
    }
   ],
   "source": [
    "final_output = universe_analysis.generate_final_output(\n",
    "    y_pred_prob=probs_test,\n",
    "    y_test=y_true,\n",
    "    org_test=org_test,\n",
    "    filter_data=filter_sub_universe_data,\n",
    "    cp_metrics_df=cp_metrics_df,\n",
    "    save=True,\n",
    ")\n",
    "final_output"
   ]
  },
  {
   "cell_type": "code",
   "execution_count": null,
   "id": "721ff514-cb11-46f8-b6fc-50392f74b5cb",
   "metadata": {
    "papermill": {
     "duration": 0.033813,
     "end_time": "2025-07-28T10:42:45.355881",
     "exception": false,
     "start_time": "2025-07-28T10:42:45.322068",
     "status": "completed"
    },
    "tags": []
   },
   "outputs": [],
   "source": []
  }
 ],
 "metadata": {
  "celltoolbar": "Tags",
  "kernelspec": {
   "display_name": "Python (CMA Fairness)",
   "language": "python",
   "name": "cma_fair_env"
  },
  "language_info": {
   "codemirror_mode": {
    "name": "ipython",
    "version": 3
   },
   "file_extension": ".py",
   "mimetype": "text/x-python",
   "name": "python",
   "nbconvert_exporter": "python",
   "pygments_lexer": "ipython3",
   "version": "3.10.12"
  },
  "papermill": {
   "default_parameters": {},
   "duration": 43.033211,
   "end_time": "2025-07-28T10:42:46.210497",
   "environment_variables": {},
   "exception": null,
   "input_path": "universe_analysis.ipynb",
   "output_path": "output/runs/11/notebooks/m_11-0c5d3b2ff9bf6309162c8da10103f3d0.ipynb",
   "parameters": {
    "output_dir": "output",
    "run_no": "11",
    "seed": "2023",
    "universe": "{\"cutoff\": [\"quantile_0.1\", \"quantile_0.25\"], \"eval_fairness_grouping\": [\"majority-minority\", \"nationality-all\"], \"exclude_features\": \"sex\", \"exclude_subgroups\": \"keep-all\", \"model\": \"logreg\", \"scale\": \"scale\", \"training_size\": \"1k\"}",
    "universe_id": "0c5d3b2ff9bf6309162c8da10103f3d0"
   },
   "start_time": "2025-07-28T10:42:03.177286",
   "version": "2.6.0"
  }
 },
 "nbformat": 4,
 "nbformat_minor": 5
}