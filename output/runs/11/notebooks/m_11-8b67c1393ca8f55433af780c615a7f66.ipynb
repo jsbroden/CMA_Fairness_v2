{
 "cells": [
  {
   "cell_type": "code",
   "execution_count": 1,
   "id": "f159f837-637b-42ba-96b5-ec9a68c44524",
   "metadata": {
    "execution": {
     "iopub.execute_input": "2025-07-28T10:56:10.269769Z",
     "iopub.status.busy": "2025-07-28T10:56:10.269317Z",
     "iopub.status.idle": "2025-07-28T10:56:10.290192Z",
     "shell.execute_reply": "2025-07-28T10:56:10.289010Z"
    },
    "papermill": {
     "duration": 0.055721,
     "end_time": "2025-07-28T10:56:10.291989",
     "exception": false,
     "start_time": "2025-07-28T10:56:10.236268",
     "status": "completed"
    },
    "tags": []
   },
   "outputs": [
    {
     "name": "stdout",
     "output_type": "stream",
     "text": [
      "/dss/dsshome1/0C/ra93lal2/cma/CMA_Fairness_v2\n"
     ]
    },
    {
     "name": "stderr",
     "output_type": "stream",
     "text": [
      "/dss/dsshome1/0C/ra93lal2/.local/share/virtualenvs/CMA_Fairness_v2-3j10GkSs/lib/python3.10/site-packages/IPython/core/magics/osm.py:393: UserWarning: This is now an optional IPython functionality, using bookmarks requires you to install the `pickleshare` library.\n",
      "  bkms = self.shell.db.get('bookmarks', {})\n",
      "/dss/dsshome1/0C/ra93lal2/.local/share/virtualenvs/CMA_Fairness_v2-3j10GkSs/lib/python3.10/site-packages/IPython/core/magics/osm.py:417: UserWarning: This is now an optional IPython functionality, setting dhist requires you to install the `pickleshare` library.\n",
      "  self.shell.db['dhist'] = compress_dhist(dhist)[-100:]\n"
     ]
    }
   ],
   "source": [
    "%cd ~/cma/CMA_Fairness_v2"
   ]
  },
  {
   "cell_type": "markdown",
   "id": "de2603b9",
   "metadata": {
    "papermill": {
     "duration": 0.024765,
     "end_time": "2025-07-28T10:56:10.338945",
     "exception": false,
     "start_time": "2025-07-28T10:56:10.314180",
     "status": "completed"
    },
    "tags": []
   },
   "source": [
    "The following cell holds the definition of our parameters, these values can be overriden by rendering the with e.g. the following command:\n",
    "\n",
    "papermill -p alpha 0.2 -p ratio 0.3 universe_analysis.ipynb output/test_run.ipynb"
   ]
  },
  {
   "cell_type": "code",
   "execution_count": 2,
   "id": "a80968a0-40bb-4fa9-85ef-2d5eefb01975",
   "metadata": {
    "execution": {
     "iopub.execute_input": "2025-07-28T10:56:10.386037Z",
     "iopub.status.busy": "2025-07-28T10:56:10.385534Z",
     "iopub.status.idle": "2025-07-28T10:56:10.391613Z",
     "shell.execute_reply": "2025-07-28T10:56:10.390646Z"
    },
    "papermill": {
     "duration": 0.033284,
     "end_time": "2025-07-28T10:56:10.394305",
     "exception": false,
     "start_time": "2025-07-28T10:56:10.361021",
     "status": "completed"
    },
    "tags": []
   },
   "outputs": [
    {
     "name": "stdout",
     "output_type": "stream",
     "text": [
      "Current working directory: /dss/dsshome1/0C/ra93lal2/cma/CMA_Fairness_v2\n"
     ]
    }
   ],
   "source": [
    "import os\n",
    "print(\"Current working directory:\", os.getcwd())"
   ]
  },
  {
   "cell_type": "code",
   "execution_count": 3,
   "id": "2dce4c03",
   "metadata": {
    "execution": {
     "iopub.execute_input": "2025-07-28T10:56:10.442673Z",
     "iopub.status.busy": "2025-07-28T10:56:10.442135Z",
     "iopub.status.idle": "2025-07-28T10:56:10.449299Z",
     "shell.execute_reply": "2025-07-28T10:56:10.447498Z"
    },
    "papermill": {
     "duration": 0.035466,
     "end_time": "2025-07-28T10:56:10.451738",
     "exception": false,
     "start_time": "2025-07-28T10:56:10.416272",
     "status": "completed"
    },
    "tags": [
     "parameters"
    ]
   },
   "outputs": [],
   "source": [
    "run_no = 0\n",
    "universe_id = \"test\"\n",
    "universe = {\n",
    "    \"training_size\": \"2014\", # \"25k\", \"5k\", \"1k\", \"2014\"\n",
    "    \"scale\": \"scale\", # \"scale\", \"do-not-scale\",\n",
    "    #\"stratify_split\": \"target\", # \"none\", \"target\", \"protected-attribute\", \"both\",\n",
    "    \"model\": \"elasticnet\", # \"logreg\", \"penalized_logreg\", \"rf\", \"gbm\", \"elasticnet\"\n",
    "    \"cutoff\": [\"quantile_0.15\", \"quantile_0.30\"],\n",
    "    \"exclude_features\": \"age\", # \"none\", \"nationality\", \"sex\", \"nationality-sex\", \"age\"\n",
    "    \"exclude_subgroups\": \"keep-all\", # \"keep-all\", \"drop-non-german\"\n",
    "    \"eval_fairness_grouping\": [\"majority-minority\", \"nationality-all\"]\n",
    "}\n",
    "\n",
    "output_dir=\"./output\"\n",
    "seed=0"
   ]
  },
  {
   "cell_type": "code",
   "execution_count": 4,
   "id": "a08035c8",
   "metadata": {
    "execution": {
     "iopub.execute_input": "2025-07-28T10:56:10.502546Z",
     "iopub.status.busy": "2025-07-28T10:56:10.502163Z",
     "iopub.status.idle": "2025-07-28T10:56:10.507806Z",
     "shell.execute_reply": "2025-07-28T10:56:10.506690Z"
    },
    "papermill": {
     "duration": 0.040117,
     "end_time": "2025-07-28T10:56:10.514559",
     "exception": false,
     "start_time": "2025-07-28T10:56:10.474442",
     "status": "completed"
    },
    "tags": [
     "injected-parameters"
    ]
   },
   "outputs": [],
   "source": [
    "# Parameters\n",
    "universe_id = \"8b67c1393ca8f55433af780c615a7f66\"\n",
    "run_no = \"11\"\n",
    "universe = \"{\\\"cutoff\\\": [\\\"quantile_0.1\\\", \\\"quantile_0.25\\\"], \\\"eval_fairness_grouping\\\": [\\\"majority-minority\\\", \\\"nationality-all\\\"], \\\"exclude_features\\\": \\\"sex\\\", \\\"exclude_subgroups\\\": \\\"drop-non-german\\\", \\\"model\\\": \\\"rf\\\", \\\"scale\\\": \\\"scale\\\", \\\"training_size\\\": \\\"2014\\\"}\"\n",
    "output_dir = \"output\"\n",
    "seed = \"2023\"\n"
   ]
  },
  {
   "cell_type": "code",
   "execution_count": 5,
   "id": "1650acaf",
   "metadata": {
    "execution": {
     "iopub.execute_input": "2025-07-28T10:56:10.555230Z",
     "iopub.status.busy": "2025-07-28T10:56:10.554694Z",
     "iopub.status.idle": "2025-07-28T10:56:10.560237Z",
     "shell.execute_reply": "2025-07-28T10:56:10.559065Z"
    },
    "papermill": {
     "duration": 0.02796,
     "end_time": "2025-07-28T10:56:10.562188",
     "exception": false,
     "start_time": "2025-07-28T10:56:10.534228",
     "status": "completed"
    },
    "tags": []
   },
   "outputs": [],
   "source": [
    "import json\n",
    "# Parse universe into dict if it is passed as a string\n",
    "if isinstance(universe, str):\n",
    "    universe = json.loads(universe)"
   ]
  },
  {
   "cell_type": "code",
   "execution_count": 6,
   "id": "16620c48",
   "metadata": {
    "execution": {
     "iopub.execute_input": "2025-07-28T10:56:10.605087Z",
     "iopub.status.busy": "2025-07-28T10:56:10.604598Z",
     "iopub.status.idle": "2025-07-28T10:56:10.671368Z",
     "shell.execute_reply": "2025-07-28T10:56:10.670135Z"
    },
    "papermill": {
     "duration": 0.090374,
     "end_time": "2025-07-28T10:56:10.673825",
     "exception": false,
     "start_time": "2025-07-28T10:56:10.583451",
     "status": "completed"
    },
    "tags": []
   },
   "outputs": [],
   "source": [
    "# Auto-reload the custom package\n",
    "%load_ext autoreload\n",
    "%autoreload 1\n",
    "%aimport fairness_multiverse"
   ]
  },
  {
   "cell_type": "code",
   "execution_count": 7,
   "id": "01c5c9f3",
   "metadata": {
    "execution": {
     "iopub.execute_input": "2025-07-28T10:56:10.734376Z",
     "iopub.status.busy": "2025-07-28T10:56:10.733794Z",
     "iopub.status.idle": "2025-07-28T10:56:14.785294Z",
     "shell.execute_reply": "2025-07-28T10:56:14.784104Z"
    },
    "papermill": {
     "duration": 4.083729,
     "end_time": "2025-07-28T10:56:14.787564",
     "exception": false,
     "start_time": "2025-07-28T10:56:10.703835",
     "status": "completed"
    },
    "tags": []
   },
   "outputs": [],
   "source": [
    "from fairness_multiverse.universe import UniverseAnalysis\n",
    "\n",
    "universe_analysis = UniverseAnalysis(\n",
    "    run_no = run_no,\n",
    "    universe_id = universe_id,\n",
    "    universe = universe,\n",
    "    output_dir=output_dir,\n",
    ")"
   ]
  },
  {
   "cell_type": "code",
   "execution_count": 8,
   "id": "106241f5",
   "metadata": {
    "execution": {
     "iopub.execute_input": "2025-07-28T10:56:14.918451Z",
     "iopub.status.busy": "2025-07-28T10:56:14.917981Z",
     "iopub.status.idle": "2025-07-28T10:56:14.928134Z",
     "shell.execute_reply": "2025-07-28T10:56:14.927030Z"
    },
    "papermill": {
     "duration": 0.075986,
     "end_time": "2025-07-28T10:56:14.930731",
     "exception": false,
     "start_time": "2025-07-28T10:56:14.854745",
     "status": "completed"
    },
    "tags": []
   },
   "outputs": [
    {
     "name": "stdout",
     "output_type": "stream",
     "text": [
      "Using Seed: 2023\n"
     ]
    }
   ],
   "source": [
    "import numpy as np\n",
    "parsed_seed = int(seed)\n",
    "np.random.seed(parsed_seed)\n",
    "print(f\"Using Seed: {parsed_seed}\")"
   ]
  },
  {
   "cell_type": "markdown",
   "id": "e0ebdc57",
   "metadata": {
    "papermill": {
     "duration": 0.067132,
     "end_time": "2025-07-28T10:56:15.052873",
     "exception": false,
     "start_time": "2025-07-28T10:56:14.985741",
     "status": "completed"
    },
    "tags": []
   },
   "source": [
    "# Loading Data"
   ]
  },
  {
   "cell_type": "markdown",
   "id": "681925a3",
   "metadata": {
    "papermill": {
     "duration": 0.067286,
     "end_time": "2025-07-28T10:56:15.183615",
     "exception": false,
     "start_time": "2025-07-28T10:56:15.116329",
     "status": "completed"
    },
    "tags": []
   },
   "source": [
    "Load siab_train, siab_test, siab_calib and/or \n",
    "load siab_train_features, siab_train_labels"
   ]
  },
  {
   "cell_type": "code",
   "execution_count": 9,
   "id": "f0496b8a",
   "metadata": {
    "execution": {
     "iopub.execute_input": "2025-07-28T10:56:15.331329Z",
     "iopub.status.busy": "2025-07-28T10:56:15.330891Z",
     "iopub.status.idle": "2025-07-28T10:56:40.499489Z",
     "shell.execute_reply": "2025-07-28T10:56:40.498250Z"
    },
    "papermill": {
     "duration": 25.240119,
     "end_time": "2025-07-28T10:56:40.501604",
     "exception": false,
     "start_time": "2025-07-28T10:56:15.261485",
     "status": "completed"
    },
    "tags": []
   },
   "outputs": [
    {
     "name": "stdout",
     "output_type": "stream",
     "text": [
      "Loading SIAB data from cache: data/siab_cached.csv.gz\n"
     ]
    },
    {
     "name": "stdout",
     "output_type": "stream",
     "text": [
      "(643690, 164)\n"
     ]
    }
   ],
   "source": [
    "from pathlib import Path\n",
    "import pandas as pd\n",
    "\n",
    "# File paths\n",
    "raw_file = Path(\"data/raw/siab.csv\")\n",
    "cache_file = Path(\"data/siab_cached.csv.gz\")\n",
    "\n",
    "# Ensure cache directory exists\n",
    "cache_file.parent.mkdir(parents=True, exist_ok=True)\n",
    "\n",
    "# Load with simple caching\n",
    "if cache_file.exists():\n",
    "    print(f\"Loading SIAB data from cache: {cache_file}\")\n",
    "    siab = pd.read_csv(cache_file, compression='gzip')\n",
    "else:\n",
    "    print(f\"Cache not found. Reading raw SIAB data: {raw_file}\")\n",
    "    siab = pd.read_csv(raw_file)\n",
    "    siab.to_csv(cache_file, index=False, compression='gzip')\n",
    "    print(f\"Cached SIAB data to: {cache_file}\")\n",
    "\n",
    "# Now use `siab` DataFrame as needed\n",
    "print(siab.shape)"
   ]
  },
  {
   "cell_type": "code",
   "execution_count": 10,
   "id": "db0ca512-5f53-4dba-abdb-a2888bca41ba",
   "metadata": {
    "execution": {
     "iopub.execute_input": "2025-07-28T10:56:40.544731Z",
     "iopub.status.busy": "2025-07-28T10:56:40.544239Z",
     "iopub.status.idle": "2025-07-28T10:56:40.550178Z",
     "shell.execute_reply": "2025-07-28T10:56:40.549234Z"
    },
    "papermill": {
     "duration": 0.027994,
     "end_time": "2025-07-28T10:56:40.551876",
     "exception": false,
     "start_time": "2025-07-28T10:56:40.523882",
     "status": "completed"
    },
    "tags": []
   },
   "outputs": [],
   "source": [
    "#siab"
   ]
  },
  {
   "cell_type": "code",
   "execution_count": 11,
   "id": "a0edb063",
   "metadata": {
    "execution": {
     "iopub.execute_input": "2025-07-28T10:56:40.592716Z",
     "iopub.status.busy": "2025-07-28T10:56:40.591747Z",
     "iopub.status.idle": "2025-07-28T10:56:40.597648Z",
     "shell.execute_reply": "2025-07-28T10:56:40.596665Z"
    },
    "papermill": {
     "duration": 0.027618,
     "end_time": "2025-07-28T10:56:40.599259",
     "exception": false,
     "start_time": "2025-07-28T10:56:40.571641",
     "status": "completed"
    },
    "tags": []
   },
   "outputs": [],
   "source": [
    "#import pandas as pd\n",
    "#\n",
    "#X_train = pd.read_csv(\"./data/X_train.csv\")\n",
    "#y_train = pd.read_csv(\"./data/y_train.csv\")"
   ]
  },
  {
   "cell_type": "code",
   "execution_count": 12,
   "id": "63d08085",
   "metadata": {
    "execution": {
     "iopub.execute_input": "2025-07-28T10:56:40.639442Z",
     "iopub.status.busy": "2025-07-28T10:56:40.638509Z",
     "iopub.status.idle": "2025-07-28T10:56:40.643370Z",
     "shell.execute_reply": "2025-07-28T10:56:40.642498Z"
    },
    "papermill": {
     "duration": 0.026525,
     "end_time": "2025-07-28T10:56:40.645053",
     "exception": false,
     "start_time": "2025-07-28T10:56:40.618528",
     "status": "completed"
    },
    "tags": []
   },
   "outputs": [],
   "source": [
    "#X_test = pd.read_csv(\"./data/X_test.csv\")\n",
    "#y_true = pd.read_csv(\"./data/y_test.csv\")"
   ]
  },
  {
   "cell_type": "code",
   "execution_count": 13,
   "id": "98a8d0fa-1d3d-4ed8-bb2c-281470e24add",
   "metadata": {
    "execution": {
     "iopub.execute_input": "2025-07-28T10:56:40.686522Z",
     "iopub.status.busy": "2025-07-28T10:56:40.686045Z",
     "iopub.status.idle": "2025-07-28T10:56:40.691035Z",
     "shell.execute_reply": "2025-07-28T10:56:40.690147Z"
    },
    "papermill": {
     "duration": 0.027954,
     "end_time": "2025-07-28T10:56:40.692602",
     "exception": false,
     "start_time": "2025-07-28T10:56:40.664648",
     "status": "completed"
    },
    "tags": []
   },
   "outputs": [],
   "source": [
    "# Calibration data for conformal\n",
    "#X_calib = pd.read_csv(\"./data/X_calib.csv\")\n",
    "#y_calib = pd.read_csv(\"./data/y_calib.csv\")"
   ]
  },
  {
   "cell_type": "markdown",
   "id": "9901737e-04df-44f0-9100-f5ad144ed040",
   "metadata": {
    "papermill": {
     "duration": 0.01922,
     "end_time": "2025-07-28T10:56:40.730917",
     "exception": false,
     "start_time": "2025-07-28T10:56:40.711697",
     "status": "completed"
    },
    "tags": []
   },
   "source": [
    "# Splitting Data and Setting Training Data Size"
   ]
  },
  {
   "cell_type": "code",
   "execution_count": 14,
   "id": "acbc8f7d-8fc8-4e86-8c59-5dcb0f58384b",
   "metadata": {
    "execution": {
     "iopub.execute_input": "2025-07-28T10:56:40.770492Z",
     "iopub.status.busy": "2025-07-28T10:56:40.769837Z",
     "iopub.status.idle": "2025-07-28T10:56:40.778481Z",
     "shell.execute_reply": "2025-07-28T10:56:40.777400Z"
    },
    "papermill": {
     "duration": 0.030375,
     "end_time": "2025-07-28T10:56:40.780076",
     "exception": false,
     "start_time": "2025-07-28T10:56:40.749701",
     "status": "completed"
    },
    "tags": []
   },
   "outputs": [],
   "source": [
    "def sample_by_year(df, training_size, random_state=42):\n",
    "    if training_size == \"2014\":\n",
    "        return df[df[\"year\"] == 2014].reset_index(drop=True)\n",
    "    \n",
    "    size_map = {\n",
    "        \"25k\": 5000,\n",
    "        \"5k\": 1000,\n",
    "        \"1k\": 200\n",
    "    }\n",
    "\n",
    "    if training_size not in size_map:\n",
    "        return df.reset_index(drop=True)  # use all data\n",
    "\n",
    "    n_per_year = size_map[training_size]\n",
    "    grouped = df.groupby(\"year\")\n",
    "    sampled = grouped.apply(lambda x: x.sample(n=min(n_per_year, len(x)), random_state=random_state))\n",
    "    return sampled.reset_index(drop=True)"
   ]
  },
  {
   "cell_type": "code",
   "execution_count": 15,
   "id": "6d931f52-beaf-43ff-9e78-9d44a448d54e",
   "metadata": {
    "execution": {
     "iopub.execute_input": "2025-07-28T10:56:40.820677Z",
     "iopub.status.busy": "2025-07-28T10:56:40.819729Z",
     "iopub.status.idle": "2025-07-28T10:56:40.979330Z",
     "shell.execute_reply": "2025-07-28T10:56:40.978198Z"
    },
    "papermill": {
     "duration": 0.181407,
     "end_time": "2025-07-28T10:56:40.981218",
     "exception": false,
     "start_time": "2025-07-28T10:56:40.799811",
     "status": "completed"
    },
    "tags": []
   },
   "outputs": [],
   "source": [
    "siab_s = sample_by_year(siab, universe[\"training_size\"])"
   ]
  },
  {
   "cell_type": "code",
   "execution_count": 16,
   "id": "5db0a40e-a4e2-4920-be85-b12ae061d70d",
   "metadata": {
    "execution": {
     "iopub.execute_input": "2025-07-28T10:56:41.023681Z",
     "iopub.status.busy": "2025-07-28T10:56:41.022978Z",
     "iopub.status.idle": "2025-07-28T10:56:41.038581Z",
     "shell.execute_reply": "2025-07-28T10:56:41.037605Z"
    },
    "papermill": {
     "duration": 0.039061,
     "end_time": "2025-07-28T10:56:41.040603",
     "exception": false,
     "start_time": "2025-07-28T10:56:41.001542",
     "status": "completed"
    },
    "tags": []
   },
   "outputs": [
    {
     "data": {
      "text/plain": [
       "year\n",
       "2014    87158\n",
       "dtype: int64"
      ]
     },
     "metadata": {},
     "output_type": "display_data"
    }
   ],
   "source": [
    "display(siab_s.groupby(\"year\").size())"
   ]
  },
  {
   "cell_type": "code",
   "execution_count": 17,
   "id": "a561edb4-d032-42cb-8256-22eac1111c64",
   "metadata": {
    "execution": {
     "iopub.execute_input": "2025-07-28T10:56:41.083176Z",
     "iopub.status.busy": "2025-07-28T10:56:41.082152Z",
     "iopub.status.idle": "2025-07-28T10:56:41.391193Z",
     "shell.execute_reply": "2025-07-28T10:56:41.390262Z"
    },
    "papermill": {
     "duration": 0.33082,
     "end_time": "2025-07-28T10:56:41.393704",
     "exception": false,
     "start_time": "2025-07-28T10:56:41.062884",
     "status": "completed"
    },
    "tags": []
   },
   "outputs": [],
   "source": [
    "siab_train = siab_s[siab_s.year < 2015]\n",
    "siab_calib = siab[siab.year == 2015]\n",
    "siab_test = siab[siab.year == 2016]"
   ]
  },
  {
   "cell_type": "code",
   "execution_count": 18,
   "id": "472de16f-c3db-4916-846b-1f0de9cf1746",
   "metadata": {
    "execution": {
     "iopub.execute_input": "2025-07-28T10:56:41.420951Z",
     "iopub.status.busy": "2025-07-28T10:56:41.420451Z",
     "iopub.status.idle": "2025-07-28T10:56:41.478805Z",
     "shell.execute_reply": "2025-07-28T10:56:41.477644Z"
    },
    "papermill": {
     "duration": 0.07201,
     "end_time": "2025-07-28T10:56:41.480542",
     "exception": false,
     "start_time": "2025-07-28T10:56:41.408532",
     "status": "completed"
    },
    "tags": []
   },
   "outputs": [],
   "source": [
    "X_train = siab_train.iloc[:,4:164]\n",
    "y_train = siab_train.iloc[:, [3]]"
   ]
  },
  {
   "cell_type": "code",
   "execution_count": 19,
   "id": "828c96af-f43a-4ed6-ba47-8ac73a47d56c",
   "metadata": {
    "execution": {
     "iopub.execute_input": "2025-07-28T10:56:41.511059Z",
     "iopub.status.busy": "2025-07-28T10:56:41.510124Z",
     "iopub.status.idle": "2025-07-28T10:56:41.545536Z",
     "shell.execute_reply": "2025-07-28T10:56:41.544390Z"
    },
    "papermill": {
     "duration": 0.0504,
     "end_time": "2025-07-28T10:56:41.547235",
     "exception": false,
     "start_time": "2025-07-28T10:56:41.496835",
     "status": "completed"
    },
    "tags": []
   },
   "outputs": [],
   "source": [
    "X_calib = siab_calib.iloc[:,4:164]\n",
    "y_calib = siab_calib.iloc[:, [3]]"
   ]
  },
  {
   "cell_type": "code",
   "execution_count": 20,
   "id": "c34be9c3-6bd6-476e-acd3-845840e303be",
   "metadata": {
    "execution": {
     "iopub.execute_input": "2025-07-28T10:56:41.590210Z",
     "iopub.status.busy": "2025-07-28T10:56:41.589725Z",
     "iopub.status.idle": "2025-07-28T10:56:41.643163Z",
     "shell.execute_reply": "2025-07-28T10:56:41.642202Z"
    },
    "papermill": {
     "duration": 0.076745,
     "end_time": "2025-07-28T10:56:41.644839",
     "exception": false,
     "start_time": "2025-07-28T10:56:41.568094",
     "status": "completed"
    },
    "tags": []
   },
   "outputs": [],
   "source": [
    "X_test = siab_test.iloc[:,4:164]\n",
    "y_true = siab_test.iloc[:, [3]]"
   ]
  },
  {
   "cell_type": "code",
   "execution_count": 21,
   "id": "e6c733c5",
   "metadata": {
    "execution": {
     "iopub.execute_input": "2025-07-28T10:56:41.688513Z",
     "iopub.status.busy": "2025-07-28T10:56:41.687790Z",
     "iopub.status.idle": "2025-07-28T10:56:41.833450Z",
     "shell.execute_reply": "2025-07-28T10:56:41.832310Z"
    },
    "papermill": {
     "duration": 0.170298,
     "end_time": "2025-07-28T10:56:41.835583",
     "exception": false,
     "start_time": "2025-07-28T10:56:41.665285",
     "status": "completed"
    },
    "tags": []
   },
   "outputs": [],
   "source": [
    "# Auxiliary data needed downstream in the pipeline\n",
    "\n",
    "org_train = X_train.copy()\n",
    "org_test = X_test.copy()\n",
    "org_calib = X_calib.copy()"
   ]
  },
  {
   "cell_type": "markdown",
   "id": "0a4a1b33",
   "metadata": {
    "papermill": {
     "duration": 0.021514,
     "end_time": "2025-07-28T10:56:41.879942",
     "exception": false,
     "start_time": "2025-07-28T10:56:41.858428",
     "status": "completed"
    },
    "tags": []
   },
   "source": [
    "# Preprocessing Data"
   ]
  },
  {
   "cell_type": "code",
   "execution_count": 22,
   "id": "ca879031",
   "metadata": {
    "execution": {
     "iopub.execute_input": "2025-07-28T10:56:41.921248Z",
     "iopub.status.busy": "2025-07-28T10:56:41.920716Z",
     "iopub.status.idle": "2025-07-28T10:56:41.927533Z",
     "shell.execute_reply": "2025-07-28T10:56:41.926660Z"
    },
    "papermill": {
     "duration": 0.02942,
     "end_time": "2025-07-28T10:56:41.929194",
     "exception": false,
     "start_time": "2025-07-28T10:56:41.899774",
     "status": "completed"
    },
    "tags": []
   },
   "outputs": [],
   "source": [
    "# EXCLUDE PROTECTED FEATURES\n",
    "# ----------------------\n",
    "# \"exclude_features\": \"none\", # \"nationality\", \"sex\", \"nationality-sex\"\n",
    "\n",
    "excluded_features = universe[\"exclude_features\"].split(\"-\") # split, e.g.: \"nationality-sex\" -> [\"nationality\", \"sex\"]\n",
    "excluded_features_dictionary = {\n",
    "    \"nationality\": [\"maxdeutsch1\", \"maxdeutsch.Missing.\"],\n",
    "    \"sex\": [\"frau1\"],\n",
    "    \"age\": [\"age\"],\n",
    "}\n"
   ]
  },
  {
   "cell_type": "code",
   "execution_count": 23,
   "id": "b745ac60",
   "metadata": {
    "execution": {
     "iopub.execute_input": "2025-07-28T10:56:41.971742Z",
     "iopub.status.busy": "2025-07-28T10:56:41.971096Z",
     "iopub.status.idle": "2025-07-28T10:56:41.977268Z",
     "shell.execute_reply": "2025-07-28T10:56:41.976339Z"
    },
    "papermill": {
     "duration": 0.029352,
     "end_time": "2025-07-28T10:56:41.978798",
     "exception": false,
     "start_time": "2025-07-28T10:56:41.949446",
     "status": "completed"
    },
    "tags": []
   },
   "outputs": [],
   "source": [
    "# Code nice names to column names\n",
    "\n",
    "excluded_features_columns = [\n",
    "    excluded_features_dictionary[f] for f in excluded_features if len(f) > 0 and f != \"none\"\n",
    "]"
   ]
  },
  {
   "cell_type": "code",
   "execution_count": 24,
   "id": "f84f73a2",
   "metadata": {
    "execution": {
     "iopub.execute_input": "2025-07-28T10:56:42.020463Z",
     "iopub.status.busy": "2025-07-28T10:56:42.019549Z",
     "iopub.status.idle": "2025-07-28T10:56:42.026385Z",
     "shell.execute_reply": "2025-07-28T10:56:42.025451Z"
    },
    "papermill": {
     "duration": 0.029367,
     "end_time": "2025-07-28T10:56:42.028070",
     "exception": false,
     "start_time": "2025-07-28T10:56:41.998703",
     "status": "completed"
    },
    "tags": []
   },
   "outputs": [],
   "source": [
    "from utils import flatten_once\n",
    "\n",
    "excluded_features_columns = flatten_once(excluded_features_columns)"
   ]
  },
  {
   "cell_type": "code",
   "execution_count": 25,
   "id": "884dea22",
   "metadata": {
    "execution": {
     "iopub.execute_input": "2025-07-28T10:56:42.069695Z",
     "iopub.status.busy": "2025-07-28T10:56:42.068793Z",
     "iopub.status.idle": "2025-07-28T10:56:42.123402Z",
     "shell.execute_reply": "2025-07-28T10:56:42.122304Z"
    },
    "papermill": {
     "duration": 0.077279,
     "end_time": "2025-07-28T10:56:42.125150",
     "exception": false,
     "start_time": "2025-07-28T10:56:42.047871",
     "status": "completed"
    },
    "tags": []
   },
   "outputs": [
    {
     "name": "stdout",
     "output_type": "stream",
     "text": [
      "Dropping features: ['frau1']\n"
     ]
    }
   ],
   "source": [
    "if len(excluded_features_columns) > 0:\n",
    "    print(f\"Dropping features: {excluded_features_columns}\")\n",
    "    X_train.drop(excluded_features_columns, axis=1, inplace=True)"
   ]
  },
  {
   "cell_type": "code",
   "execution_count": 26,
   "id": "95ab8b16",
   "metadata": {
    "execution": {
     "iopub.execute_input": "2025-07-28T10:56:42.168624Z",
     "iopub.status.busy": "2025-07-28T10:56:42.167857Z",
     "iopub.status.idle": "2025-07-28T10:56:42.221203Z",
     "shell.execute_reply": "2025-07-28T10:56:42.220184Z"
    },
    "papermill": {
     "duration": 0.077421,
     "end_time": "2025-07-28T10:56:42.222823",
     "exception": false,
     "start_time": "2025-07-28T10:56:42.145402",
     "status": "completed"
    },
    "tags": []
   },
   "outputs": [
    {
     "name": "stdout",
     "output_type": "stream",
     "text": [
      "Dropping features: ['frau1']\n"
     ]
    }
   ],
   "source": [
    "if len(excluded_features_columns) > 0:\n",
    "    print(f\"Dropping features: {excluded_features_columns}\")\n",
    "    X_test.drop(excluded_features_columns, axis=1, inplace=True)"
   ]
  },
  {
   "cell_type": "code",
   "execution_count": 27,
   "id": "1853aaf5-fb9f-46cb-a2b5-8ea4ae2237e4",
   "metadata": {
    "execution": {
     "iopub.execute_input": "2025-07-28T10:56:42.265747Z",
     "iopub.status.busy": "2025-07-28T10:56:42.265167Z",
     "iopub.status.idle": "2025-07-28T10:56:42.318374Z",
     "shell.execute_reply": "2025-07-28T10:56:42.317383Z"
    },
    "papermill": {
     "duration": 0.076276,
     "end_time": "2025-07-28T10:56:42.320174",
     "exception": false,
     "start_time": "2025-07-28T10:56:42.243898",
     "status": "completed"
    },
    "tags": []
   },
   "outputs": [
    {
     "name": "stdout",
     "output_type": "stream",
     "text": [
      "Dropping features: ['frau1']\n"
     ]
    }
   ],
   "source": [
    "if len(excluded_features_columns) > 0:\n",
    "    print(f\"Dropping features: {excluded_features_columns}\")\n",
    "    X_calib.drop(excluded_features_columns, axis=1, inplace=True)"
   ]
  },
  {
   "cell_type": "code",
   "execution_count": 28,
   "id": "6727d079-03e5-481e-9d38-292a90b7a0a8",
   "metadata": {
    "execution": {
     "iopub.execute_input": "2025-07-28T10:56:42.362588Z",
     "iopub.status.busy": "2025-07-28T10:56:42.361937Z",
     "iopub.status.idle": "2025-07-28T10:56:42.366614Z",
     "shell.execute_reply": "2025-07-28T10:56:42.365725Z"
    },
    "papermill": {
     "duration": 0.027576,
     "end_time": "2025-07-28T10:56:42.368472",
     "exception": false,
     "start_time": "2025-07-28T10:56:42.340896",
     "status": "completed"
    },
    "tags": []
   },
   "outputs": [],
   "source": [
    "# SPLIT & STRATIFY DATA\n",
    "# ----------------------"
   ]
  },
  {
   "cell_type": "code",
   "execution_count": 29,
   "id": "76c4dc6d",
   "metadata": {
    "execution": {
     "iopub.execute_input": "2025-07-28T10:56:42.410783Z",
     "iopub.status.busy": "2025-07-28T10:56:42.410202Z",
     "iopub.status.idle": "2025-07-28T10:56:42.416006Z",
     "shell.execute_reply": "2025-07-28T10:56:42.415014Z"
    },
    "papermill": {
     "duration": 0.028815,
     "end_time": "2025-07-28T10:56:42.417823",
     "exception": false,
     "start_time": "2025-07-28T10:56:42.389008",
     "status": "completed"
    },
    "tags": []
   },
   "outputs": [],
   "source": [
    "# EXCLUDE CERTAIN SUBGROUPS\n",
    "# ----------------------\n",
    "\n",
    "mode = universe.get(\"exclude_subgroups\", \"keep-all\") \n",
    "# Fetches the exclude_subgroups setting from the universe dict.\n",
    "# Defaults to \"keep-all\" if the key is missing."
   ]
  },
  {
   "cell_type": "code",
   "execution_count": 30,
   "id": "21994072",
   "metadata": {
    "execution": {
     "iopub.execute_input": "2025-07-28T10:56:42.461066Z",
     "iopub.status.busy": "2025-07-28T10:56:42.460411Z",
     "iopub.status.idle": "2025-07-28T10:56:42.467709Z",
     "shell.execute_reply": "2025-07-28T10:56:42.466800Z"
    },
    "papermill": {
     "duration": 0.030584,
     "end_time": "2025-07-28T10:56:42.469332",
     "exception": false,
     "start_time": "2025-07-28T10:56:42.438748",
     "status": "completed"
    },
    "tags": []
   },
   "outputs": [],
   "source": [
    "if mode == \"keep-all\":\n",
    "    keep_mask = pd.Series(True, index=org_train.index)\n",
    "\n",
    "# org_train contains the original feature columns from features_org (in Simson)\n",
    "# features_org contains unprocessed features, for me X_train at beginning ???\n",
    "# For keep-all, creates a boolean Series (keep_mask) of all True, so no rows are removed.\n",
    "\n",
    "elif mode == \"drop-non-german\":\n",
    "    keep_mask = org_train[\"maxdeutsch1\"] == 1 # ??? what about missing values?\n",
    "\n",
    "else:\n",
    "    raise ValueError(f\"Unsupported mode for exclude_subgroups: {mode}\")\n"
   ]
  },
  {
   "cell_type": "code",
   "execution_count": 31,
   "id": "71651440",
   "metadata": {
    "execution": {
     "iopub.execute_input": "2025-07-28T10:56:42.512394Z",
     "iopub.status.busy": "2025-07-28T10:56:42.511620Z",
     "iopub.status.idle": "2025-07-28T10:56:42.520203Z",
     "shell.execute_reply": "2025-07-28T10:56:42.519253Z"
    },
    "papermill": {
     "duration": 0.031664,
     "end_time": "2025-07-28T10:56:42.521845",
     "exception": false,
     "start_time": "2025-07-28T10:56:42.490181",
     "status": "completed"
    },
    "tags": []
   },
   "outputs": [
    {
     "name": "stdout",
     "output_type": "stream",
     "text": [
      "Dropping 12995 rows (14.91%) where mode='drop-non-german'"
     ]
    },
    {
     "name": "stdout",
     "output_type": "stream",
     "text": [
      "\n"
     ]
    }
   ],
   "source": [
    "n_drop = (~keep_mask).sum() # Calculates how many rows are set to be dropped\n",
    "if n_drop > 0:\n",
    "    pct = n_drop / len(keep_mask) * 100\n",
    "    print(f\"Dropping {n_drop} rows ({pct:.2f}%) where mode='{mode}'\")"
   ]
  },
  {
   "cell_type": "code",
   "execution_count": 32,
   "id": "5fb8eee5",
   "metadata": {
    "execution": {
     "iopub.execute_input": "2025-07-28T10:56:42.565902Z",
     "iopub.status.busy": "2025-07-28T10:56:42.565278Z",
     "iopub.status.idle": "2025-07-28T10:56:42.598974Z",
     "shell.execute_reply": "2025-07-28T10:56:42.597965Z"
    },
    "papermill": {
     "duration": 0.057985,
     "end_time": "2025-07-28T10:56:42.601059",
     "exception": false,
     "start_time": "2025-07-28T10:56:42.543074",
     "status": "completed"
    },
    "tags": []
   },
   "outputs": [],
   "source": [
    "X_train = X_train[keep_mask]"
   ]
  },
  {
   "cell_type": "code",
   "execution_count": 33,
   "id": "b202bb3a",
   "metadata": {
    "execution": {
     "iopub.execute_input": "2025-07-28T10:56:42.645803Z",
     "iopub.status.busy": "2025-07-28T10:56:42.645241Z",
     "iopub.status.idle": "2025-07-28T10:56:42.652070Z",
     "shell.execute_reply": "2025-07-28T10:56:42.651125Z"
    },
    "papermill": {
     "duration": 0.030727,
     "end_time": "2025-07-28T10:56:42.653647",
     "exception": false,
     "start_time": "2025-07-28T10:56:42.622920",
     "status": "completed"
    },
    "tags": []
   },
   "outputs": [],
   "source": [
    "y_train = y_train[keep_mask]"
   ]
  },
  {
   "cell_type": "markdown",
   "id": "493e2ac3",
   "metadata": {
    "papermill": {
     "duration": 0.020954,
     "end_time": "2025-07-28T10:56:42.696077",
     "exception": false,
     "start_time": "2025-07-28T10:56:42.675123",
     "status": "completed"
    },
    "tags": []
   },
   "source": [
    "# Model Training"
   ]
  },
  {
   "cell_type": "code",
   "execution_count": 34,
   "id": "679e1268",
   "metadata": {
    "execution": {
     "iopub.execute_input": "2025-07-28T10:56:42.742291Z",
     "iopub.status.busy": "2025-07-28T10:56:42.741645Z",
     "iopub.status.idle": "2025-07-28T10:56:42.847516Z",
     "shell.execute_reply": "2025-07-28T10:56:42.846625Z"
    },
    "papermill": {
     "duration": 0.132779,
     "end_time": "2025-07-28T10:56:42.849502",
     "exception": false,
     "start_time": "2025-07-28T10:56:42.716723",
     "status": "completed"
    },
    "tags": []
   },
   "outputs": [],
   "source": [
    "from sklearn.linear_model import LogisticRegression\n",
    "from sklearn.ensemble import GradientBoostingClassifier, RandomForestClassifier\n",
    "\n",
    "if (universe[\"model\"] == \"logreg\"):\n",
    "    model = LogisticRegression() #penalty=\"none\") #, solver=\"newton-cg\", max_iter=1) # include random_state=19 ?\n",
    "elif (universe[\"model\"] == \"penalized_logreg\"):\n",
    "    model = LogisticRegression(penalty=\"l2\", C=1.0) #, solver=\"newton-cg\", max_iter=1)\n",
    "elif (universe[\"model\"] == \"rf\"):\n",
    "    model = RandomForestClassifier(n_estimators=100, n_jobs=-1)\n",
    "elif (universe[\"model\"] == \"gbm\"):\n",
    "    model = GradientBoostingClassifier()\n",
    "elif (universe[\"model\"] == \"elasticnet\"):\n",
    "    model = LogisticRegression(penalty = 'elasticnet', solver = 'saga', l1_ratio = 0.5, max_iter=5000) # which solver to use?\n",
    "else:\n",
    "    raise \"Unsupported universe.model\""
   ]
  },
  {
   "cell_type": "code",
   "execution_count": 35,
   "id": "0cc8f744",
   "metadata": {
    "execution": {
     "iopub.execute_input": "2025-07-28T10:56:42.895872Z",
     "iopub.status.busy": "2025-07-28T10:56:42.894943Z",
     "iopub.status.idle": "2025-07-28T10:56:42.902021Z",
     "shell.execute_reply": "2025-07-28T10:56:42.900880Z"
    },
    "papermill": {
     "duration": 0.031278,
     "end_time": "2025-07-28T10:56:42.903758",
     "exception": false,
     "start_time": "2025-07-28T10:56:42.872480",
     "status": "completed"
    },
    "tags": []
   },
   "outputs": [],
   "source": [
    "import numpy as np\n",
    "from sklearn.pipeline import Pipeline\n",
    "from sklearn.preprocessing import StandardScaler\n",
    "\n",
    "model = Pipeline([\n",
    "    #(\"continuous_processor\", continuous_processor),\n",
    "    #(\"categorical_preprocessor\", categorical_preprocessor),\n",
    "    (\"scale\", StandardScaler() if universe[\"scale\"] == \"scale\" else None), \n",
    "    (\"model\", model),\n",
    "])"
   ]
  },
  {
   "cell_type": "code",
   "execution_count": 36,
   "id": "9442c04d",
   "metadata": {
    "execution": {
     "iopub.execute_input": "2025-07-28T10:56:42.949499Z",
     "iopub.status.busy": "2025-07-28T10:56:42.948779Z",
     "iopub.status.idle": "2025-07-28T10:56:52.796992Z",
     "shell.execute_reply": "2025-07-28T10:56:52.795786Z"
    },
    "papermill": {
     "duration": 9.872543,
     "end_time": "2025-07-28T10:56:52.798872",
     "exception": false,
     "start_time": "2025-07-28T10:56:42.926329",
     "status": "completed"
    },
    "tags": []
   },
   "outputs": [
    {
     "data": {
      "text/html": [
       "<style>#sk-container-id-1 {color: black;background-color: white;}#sk-container-id-1 pre{padding: 0;}#sk-container-id-1 div.sk-toggleable {background-color: white;}#sk-container-id-1 label.sk-toggleable__label {cursor: pointer;display: block;width: 100%;margin-bottom: 0;padding: 0.3em;box-sizing: border-box;text-align: center;}#sk-container-id-1 label.sk-toggleable__label-arrow:before {content: \"▸\";float: left;margin-right: 0.25em;color: #696969;}#sk-container-id-1 label.sk-toggleable__label-arrow:hover:before {color: black;}#sk-container-id-1 div.sk-estimator:hover label.sk-toggleable__label-arrow:before {color: black;}#sk-container-id-1 div.sk-toggleable__content {max-height: 0;max-width: 0;overflow: hidden;text-align: left;background-color: #f0f8ff;}#sk-container-id-1 div.sk-toggleable__content pre {margin: 0.2em;color: black;border-radius: 0.25em;background-color: #f0f8ff;}#sk-container-id-1 input.sk-toggleable__control:checked~div.sk-toggleable__content {max-height: 200px;max-width: 100%;overflow: auto;}#sk-container-id-1 input.sk-toggleable__control:checked~label.sk-toggleable__label-arrow:before {content: \"▾\";}#sk-container-id-1 div.sk-estimator input.sk-toggleable__control:checked~label.sk-toggleable__label {background-color: #d4ebff;}#sk-container-id-1 div.sk-label input.sk-toggleable__control:checked~label.sk-toggleable__label {background-color: #d4ebff;}#sk-container-id-1 input.sk-hidden--visually {border: 0;clip: rect(1px 1px 1px 1px);clip: rect(1px, 1px, 1px, 1px);height: 1px;margin: -1px;overflow: hidden;padding: 0;position: absolute;width: 1px;}#sk-container-id-1 div.sk-estimator {font-family: monospace;background-color: #f0f8ff;border: 1px dotted black;border-radius: 0.25em;box-sizing: border-box;margin-bottom: 0.5em;}#sk-container-id-1 div.sk-estimator:hover {background-color: #d4ebff;}#sk-container-id-1 div.sk-parallel-item::after {content: \"\";width: 100%;border-bottom: 1px solid gray;flex-grow: 1;}#sk-container-id-1 div.sk-label:hover label.sk-toggleable__label {background-color: #d4ebff;}#sk-container-id-1 div.sk-serial::before {content: \"\";position: absolute;border-left: 1px solid gray;box-sizing: border-box;top: 0;bottom: 0;left: 50%;z-index: 0;}#sk-container-id-1 div.sk-serial {display: flex;flex-direction: column;align-items: center;background-color: white;padding-right: 0.2em;padding-left: 0.2em;position: relative;}#sk-container-id-1 div.sk-item {position: relative;z-index: 1;}#sk-container-id-1 div.sk-parallel {display: flex;align-items: stretch;justify-content: center;background-color: white;position: relative;}#sk-container-id-1 div.sk-item::before, #sk-container-id-1 div.sk-parallel-item::before {content: \"\";position: absolute;border-left: 1px solid gray;box-sizing: border-box;top: 0;bottom: 0;left: 50%;z-index: -1;}#sk-container-id-1 div.sk-parallel-item {display: flex;flex-direction: column;z-index: 1;position: relative;background-color: white;}#sk-container-id-1 div.sk-parallel-item:first-child::after {align-self: flex-end;width: 50%;}#sk-container-id-1 div.sk-parallel-item:last-child::after {align-self: flex-start;width: 50%;}#sk-container-id-1 div.sk-parallel-item:only-child::after {width: 0;}#sk-container-id-1 div.sk-dashed-wrapped {border: 1px dashed gray;margin: 0 0.4em 0.5em 0.4em;box-sizing: border-box;padding-bottom: 0.4em;background-color: white;}#sk-container-id-1 div.sk-label label {font-family: monospace;font-weight: bold;display: inline-block;line-height: 1.2em;}#sk-container-id-1 div.sk-label-container {text-align: center;}#sk-container-id-1 div.sk-container {/* jupyter's `normalize.less` sets `[hidden] { display: none; }` but bootstrap.min.css set `[hidden] { display: none !important; }` so we also need the `!important` here to be able to override the default hidden behavior on the sphinx rendered scikit-learn.org. See: https://github.com/scikit-learn/scikit-learn/issues/21755 */display: inline-block !important;position: relative;}#sk-container-id-1 div.sk-text-repr-fallback {display: none;}</style><div id=\"sk-container-id-1\" class=\"sk-top-container\"><div class=\"sk-text-repr-fallback\"><pre>Pipeline(steps=[(&#x27;scale&#x27;, StandardScaler()),\n",
       "                (&#x27;model&#x27;, RandomForestClassifier(n_jobs=-1))])</pre><b>In a Jupyter environment, please rerun this cell to show the HTML representation or trust the notebook. <br />On GitHub, the HTML representation is unable to render, please try loading this page with nbviewer.org.</b></div><div class=\"sk-container\" hidden><div class=\"sk-item sk-dashed-wrapped\"><div class=\"sk-label-container\"><div class=\"sk-label sk-toggleable\"><input class=\"sk-toggleable__control sk-hidden--visually\" id=\"sk-estimator-id-1\" type=\"checkbox\" ><label for=\"sk-estimator-id-1\" class=\"sk-toggleable__label sk-toggleable__label-arrow\">Pipeline</label><div class=\"sk-toggleable__content\"><pre>Pipeline(steps=[(&#x27;scale&#x27;, StandardScaler()),\n",
       "                (&#x27;model&#x27;, RandomForestClassifier(n_jobs=-1))])</pre></div></div></div><div class=\"sk-serial\"><div class=\"sk-item\"><div class=\"sk-estimator sk-toggleable\"><input class=\"sk-toggleable__control sk-hidden--visually\" id=\"sk-estimator-id-2\" type=\"checkbox\" ><label for=\"sk-estimator-id-2\" class=\"sk-toggleable__label sk-toggleable__label-arrow\">StandardScaler</label><div class=\"sk-toggleable__content\"><pre>StandardScaler()</pre></div></div></div><div class=\"sk-item\"><div class=\"sk-estimator sk-toggleable\"><input class=\"sk-toggleable__control sk-hidden--visually\" id=\"sk-estimator-id-3\" type=\"checkbox\" ><label for=\"sk-estimator-id-3\" class=\"sk-toggleable__label sk-toggleable__label-arrow\">RandomForestClassifier</label><div class=\"sk-toggleable__content\"><pre>RandomForestClassifier(n_jobs=-1)</pre></div></div></div></div></div></div></div>"
      ],
      "text/plain": [
       "Pipeline(steps=[('scale', StandardScaler()),\n",
       "                ('model', RandomForestClassifier(n_jobs=-1))])"
      ]
     },
     "execution_count": 36,
     "metadata": {},
     "output_type": "execute_result"
    }
   ],
   "source": [
    "model.fit(X_train, y_train.values.ravel())"
   ]
  },
  {
   "cell_type": "code",
   "execution_count": 37,
   "id": "af59f8c0",
   "metadata": {
    "execution": {
     "iopub.execute_input": "2025-07-28T10:56:52.855690Z",
     "iopub.status.busy": "2025-07-28T10:56:52.854837Z",
     "iopub.status.idle": "2025-07-28T10:56:52.862146Z",
     "shell.execute_reply": "2025-07-28T10:56:52.861226Z"
    },
    "papermill": {
     "duration": 0.036282,
     "end_time": "2025-07-28T10:56:52.863874",
     "exception": false,
     "start_time": "2025-07-28T10:56:52.827592",
     "status": "completed"
    },
    "tags": []
   },
   "outputs": [],
   "source": [
    "from fairness_multiverse.universe import predict_w_threshold"
   ]
  },
  {
   "cell_type": "code",
   "execution_count": 38,
   "id": "a7cf2e16",
   "metadata": {
    "execution": {
     "iopub.execute_input": "2025-07-28T10:56:52.911460Z",
     "iopub.status.busy": "2025-07-28T10:56:52.910584Z",
     "iopub.status.idle": "2025-07-28T10:56:54.242557Z",
     "shell.execute_reply": "2025-07-28T10:56:54.241522Z"
    },
    "papermill": {
     "duration": 1.357284,
     "end_time": "2025-07-28T10:56:54.244275",
     "exception": false,
     "start_time": "2025-07-28T10:56:52.886991",
     "status": "completed"
    },
    "tags": []
   },
   "outputs": [
    {
     "data": {
      "text/plain": [
       "0.8676736149816074"
      ]
     },
     "execution_count": 38,
     "metadata": {},
     "output_type": "execute_result"
    }
   ],
   "source": [
    "probs_test = model.predict_proba(X_test)\n",
    "\n",
    "'''\n",
    "Below code returns a boolean array (or binary 0/1 array depending on how it’s used) where each element \n",
    "is True if the probability of class 1 is greater than or equal to the threshold, and False otherwise.\n",
    "'''\n",
    "y_pred_default = predict_w_threshold(probs_test, 0.5)\n",
    "\n",
    "from sklearn.metrics import accuracy_score\n",
    "\n",
    "# Naive prediction\n",
    "accuracy_score(y_true = y_true, y_pred = y_pred_default)"
   ]
  },
  {
   "cell_type": "code",
   "execution_count": 39,
   "id": "081964c3",
   "metadata": {
    "execution": {
     "iopub.execute_input": "2025-07-28T10:56:54.302268Z",
     "iopub.status.busy": "2025-07-28T10:56:54.301136Z",
     "iopub.status.idle": "2025-07-28T10:56:55.547317Z",
     "shell.execute_reply": "2025-07-28T10:56:55.546282Z"
    },
    "papermill": {
     "duration": 1.276622,
     "end_time": "2025-07-28T10:56:55.549179",
     "exception": false,
     "start_time": "2025-07-28T10:56:54.272557",
     "status": "completed"
    },
    "tags": []
   },
   "outputs": [
    {
     "data": {
      "text/plain": [
       "array([0, 0, 0, ..., 0, 0, 0])"
      ]
     },
     "execution_count": 39,
     "metadata": {},
     "output_type": "execute_result"
    }
   ],
   "source": [
    "model.predict(X_test)"
   ]
  },
  {
   "cell_type": "markdown",
   "id": "56c9705b",
   "metadata": {
    "papermill": {
     "duration": 0.022684,
     "end_time": "2025-07-28T10:56:55.596530",
     "exception": false,
     "start_time": "2025-07-28T10:56:55.573846",
     "status": "completed"
    },
    "tags": []
   },
   "source": [
    "# Conformal Prediction"
   ]
  },
  {
   "cell_type": "code",
   "execution_count": 40,
   "id": "160ec6ff",
   "metadata": {
    "execution": {
     "iopub.execute_input": "2025-07-28T10:56:55.645052Z",
     "iopub.status.busy": "2025-07-28T10:56:55.644532Z",
     "iopub.status.idle": "2025-07-28T10:56:55.650287Z",
     "shell.execute_reply": "2025-07-28T10:56:55.649263Z"
    },
    "papermill": {
     "duration": 0.032493,
     "end_time": "2025-07-28T10:56:55.652290",
     "exception": false,
     "start_time": "2025-07-28T10:56:55.619797",
     "status": "completed"
    },
    "tags": []
   },
   "outputs": [],
   "source": [
    "# Miscoverage level for conformal prediction (10% allowed error rate => 90% target coverage)\n",
    "alpha = 0.1"
   ]
  },
  {
   "cell_type": "code",
   "execution_count": 41,
   "id": "eadf4555-3dd3-440e-8e35-f82a4ad9f855",
   "metadata": {
    "execution": {
     "iopub.execute_input": "2025-07-28T10:56:55.703397Z",
     "iopub.status.busy": "2025-07-28T10:56:55.702163Z",
     "iopub.status.idle": "2025-07-28T10:56:57.123452Z",
     "shell.execute_reply": "2025-07-28T10:56:57.122383Z"
    },
    "papermill": {
     "duration": 1.449565,
     "end_time": "2025-07-28T10:56:57.125486",
     "exception": false,
     "start_time": "2025-07-28T10:56:55.675921",
     "status": "completed"
    },
    "tags": []
   },
   "outputs": [],
   "source": [
    "probs_calib = model.predict_proba(X_calib)"
   ]
  },
  {
   "cell_type": "code",
   "execution_count": 42,
   "id": "2ed93547-6d5d-4983-9b36-1ecb300da49a",
   "metadata": {
    "execution": {
     "iopub.execute_input": "2025-07-28T10:56:57.177425Z",
     "iopub.status.busy": "2025-07-28T10:56:57.176915Z",
     "iopub.status.idle": "2025-07-28T10:56:57.183786Z",
     "shell.execute_reply": "2025-07-28T10:56:57.182772Z"
    },
    "papermill": {
     "duration": 0.037172,
     "end_time": "2025-07-28T10:56:57.187591",
     "exception": false,
     "start_time": "2025-07-28T10:56:57.150419",
     "status": "completed"
    },
    "tags": []
   },
   "outputs": [],
   "source": [
    "y_calib = y_calib.values.ravel().astype(int)"
   ]
  },
  {
   "cell_type": "code",
   "execution_count": 43,
   "id": "65d1320d-f588-4b38-9072-62af1ae97f7d",
   "metadata": {
    "execution": {
     "iopub.execute_input": "2025-07-28T10:56:57.249671Z",
     "iopub.status.busy": "2025-07-28T10:56:57.249197Z",
     "iopub.status.idle": "2025-07-28T10:56:57.257778Z",
     "shell.execute_reply": "2025-07-28T10:56:57.256609Z"
    },
    "papermill": {
     "duration": 0.051612,
     "end_time": "2025-07-28T10:56:57.264010",
     "exception": false,
     "start_time": "2025-07-28T10:56:57.212398",
     "status": "completed"
    },
    "tags": []
   },
   "outputs": [],
   "source": [
    "from fairness_multiverse.conformal import compute_nc_scores\n",
    "\n",
    "# Compute nonconformity scores on calibration set (1 - probability of true class)\n",
    "nc_scores = compute_nc_scores(probs_calib, y_calib)"
   ]
  },
  {
   "cell_type": "code",
   "execution_count": 44,
   "id": "df3b8ca3-53b7-43d5-9667-7c85da7aeda2",
   "metadata": {
    "execution": {
     "iopub.execute_input": "2025-07-28T10:56:57.390840Z",
     "iopub.status.busy": "2025-07-28T10:56:57.390365Z",
     "iopub.status.idle": "2025-07-28T10:56:57.398485Z",
     "shell.execute_reply": "2025-07-28T10:56:57.397320Z"
    },
    "papermill": {
     "duration": 0.067879,
     "end_time": "2025-07-28T10:56:57.400207",
     "exception": false,
     "start_time": "2025-07-28T10:56:57.332328",
     "status": "completed"
    },
    "tags": []
   },
   "outputs": [],
   "source": [
    "from fairness_multiverse.conformal import find_threshold\n",
    "\n",
    "# Find conformal threshold q_hat for the given alpha (split conformal method)\n",
    "q_hat = find_threshold(nc_scores, alpha)"
   ]
  },
  {
   "cell_type": "code",
   "execution_count": 45,
   "id": "4d29e6c1-0ef6-4aa4-b8fe-4fe79b0d033a",
   "metadata": {
    "execution": {
     "iopub.execute_input": "2025-07-28T10:56:57.469566Z",
     "iopub.status.busy": "2025-07-28T10:56:57.469114Z",
     "iopub.status.idle": "2025-07-28T10:56:57.477625Z",
     "shell.execute_reply": "2025-07-28T10:56:57.476640Z"
    },
    "papermill": {
     "duration": 0.039153,
     "end_time": "2025-07-28T10:56:57.482289",
     "exception": false,
     "start_time": "2025-07-28T10:56:57.443136",
     "status": "completed"
    },
    "tags": []
   },
   "outputs": [
    {
     "data": {
      "text/plain": [
       "0.6699999999999999"
      ]
     },
     "execution_count": 45,
     "metadata": {},
     "output_type": "execute_result"
    }
   ],
   "source": [
    "q_hat"
   ]
  },
  {
   "cell_type": "code",
   "execution_count": 46,
   "id": "92460794-cdac-4be2-ba28-f28c0515a6fb",
   "metadata": {
    "execution": {
     "iopub.execute_input": "2025-07-28T10:56:57.537309Z",
     "iopub.status.busy": "2025-07-28T10:56:57.536869Z",
     "iopub.status.idle": "2025-07-28T10:57:00.587092Z",
     "shell.execute_reply": "2025-07-28T10:57:00.586049Z"
    },
    "papermill": {
     "duration": 3.080563,
     "end_time": "2025-07-28T10:57:00.589532",
     "exception": false,
     "start_time": "2025-07-28T10:56:57.508969",
     "status": "completed"
    },
    "tags": []
   },
   "outputs": [],
   "source": [
    "from fairness_multiverse.conformal import predict_conformal_sets\n",
    "\n",
    "# Generate prediction sets for each test example\n",
    "pred_sets = predict_conformal_sets(model, X_test, q_hat)"
   ]
  },
  {
   "cell_type": "code",
   "execution_count": 47,
   "id": "d90c9a65-e6db-4f5d-80cd-e68fb7e46829",
   "metadata": {
    "execution": {
     "iopub.execute_input": "2025-07-28T10:57:00.678318Z",
     "iopub.status.busy": "2025-07-28T10:57:00.677871Z",
     "iopub.status.idle": "2025-07-28T10:57:00.684326Z",
     "shell.execute_reply": "2025-07-28T10:57:00.683171Z"
    },
    "papermill": {
     "duration": 0.069483,
     "end_time": "2025-07-28T10:57:00.686082",
     "exception": false,
     "start_time": "2025-07-28T10:57:00.616599",
     "status": "completed"
    },
    "tags": []
   },
   "outputs": [],
   "source": [
    "y_true = y_true.squeeze()"
   ]
  },
  {
   "cell_type": "code",
   "execution_count": 48,
   "id": "3a58a54a-1e68-46b9-927a-df01f18aebc8",
   "metadata": {
    "execution": {
     "iopub.execute_input": "2025-07-28T10:57:00.780797Z",
     "iopub.status.busy": "2025-07-28T10:57:00.780390Z",
     "iopub.status.idle": "2025-07-28T10:57:02.093446Z",
     "shell.execute_reply": "2025-07-28T10:57:02.092126Z"
    },
    "papermill": {
     "duration": 1.358967,
     "end_time": "2025-07-28T10:57:02.095519",
     "exception": false,
     "start_time": "2025-07-28T10:57:00.736552",
     "status": "completed"
    },
    "tags": []
   },
   "outputs": [],
   "source": [
    "from fairness_multiverse.conformal import evaluate_sets\n",
    "\n",
    "# Evaluate coverage and average set size on test data\n",
    "metrics = evaluate_sets(pred_sets, y_true)"
   ]
  },
  {
   "cell_type": "markdown",
   "id": "2b569c12-9aaa-4c88-98c9-bbcd0cf3ebb8",
   "metadata": {
    "papermill": {
     "duration": 0.048246,
     "end_time": "2025-07-28T10:57:02.196917",
     "exception": false,
     "start_time": "2025-07-28T10:57:02.148671",
     "status": "completed"
    },
    "tags": []
   },
   "source": [
    "# CP Metrics"
   ]
  },
  {
   "cell_type": "code",
   "execution_count": 49,
   "id": "5ce0a5cb-201f-45a0-ade5-94c7f0bd6095",
   "metadata": {
    "execution": {
     "iopub.execute_input": "2025-07-28T10:57:02.250336Z",
     "iopub.status.busy": "2025-07-28T10:57:02.249446Z",
     "iopub.status.idle": "2025-07-28T10:57:02.257493Z",
     "shell.execute_reply": "2025-07-28T10:57:02.256334Z"
    },
    "papermill": {
     "duration": 0.038843,
     "end_time": "2025-07-28T10:57:02.261567",
     "exception": false,
     "start_time": "2025-07-28T10:57:02.222724",
     "status": "completed"
    },
    "tags": []
   },
   "outputs": [
    {
     "data": {
      "text/plain": [
       "{'coverage': 0.9194961542748857, 'avg_size': 1.1540296510979824}"
      ]
     },
     "execution_count": 49,
     "metadata": {},
     "output_type": "execute_result"
    }
   ],
   "source": [
    "metrics"
   ]
  },
  {
   "cell_type": "code",
   "execution_count": 50,
   "id": "9b9a838d-31c9-430b-ae14-12baee460d17",
   "metadata": {
    "execution": {
     "iopub.execute_input": "2025-07-28T10:57:02.311907Z",
     "iopub.status.busy": "2025-07-28T10:57:02.311510Z",
     "iopub.status.idle": "2025-07-28T10:57:02.318682Z",
     "shell.execute_reply": "2025-07-28T10:57:02.317733Z"
    },
    "papermill": {
     "duration": 0.036311,
     "end_time": "2025-07-28T10:57:02.322089",
     "exception": false,
     "start_time": "2025-07-28T10:57:02.285778",
     "status": "completed"
    },
    "tags": []
   },
   "outputs": [],
   "source": [
    "example_universe = universe.copy()\n",
    "universe_training_size = example_universe.get(\"training_size\")\n",
    "universe_scale = example_universe.get(\"scale\")\n",
    "universe_model = example_universe.get(\"model\")\n",
    "universe_exclude_features = example_universe.get(\"exclude_features\")\n",
    "universe_exclude_subgroups = example_universe.get(\"exclude_subgroups\")"
   ]
  },
  {
   "cell_type": "code",
   "execution_count": 51,
   "id": "f4b6a8ac-9dc0-4245-8a91-5b3b5999c4f9",
   "metadata": {
    "execution": {
     "iopub.execute_input": "2025-07-28T10:57:02.374627Z",
     "iopub.status.busy": "2025-07-28T10:57:02.374235Z",
     "iopub.status.idle": "2025-07-28T10:57:02.381320Z",
     "shell.execute_reply": "2025-07-28T10:57:02.380231Z"
    },
    "papermill": {
     "duration": 0.037196,
     "end_time": "2025-07-28T10:57:02.384923",
     "exception": false,
     "start_time": "2025-07-28T10:57:02.347727",
     "status": "completed"
    },
    "tags": []
   },
   "outputs": [],
   "source": [
    "cp_metrics_dict = {\n",
    "    \"universe_id\": [universe_id],\n",
    "    \"universe_training_size\": [universe_training_size],\n",
    "    \"universe_scale\": [universe_scale],\n",
    "    \"universe_model\": [universe_model],\n",
    "    \"universe_exclude_features\": [universe_exclude_features],\n",
    "    \"universe_exclude_subgroups\": [universe_exclude_subgroups],\n",
    "    \"q_hat\": [q_hat],\n",
    "    \"coverage\": [metrics[\"coverage\"]],\n",
    "    \"avg_size\": [metrics[\"avg_size\"]],\n",
    "}"
   ]
  },
  {
   "cell_type": "code",
   "execution_count": 52,
   "id": "908acbb1-0371-4915-85ca-3fa520d2efe2",
   "metadata": {
    "execution": {
     "iopub.execute_input": "2025-07-28T10:57:02.437554Z",
     "iopub.status.busy": "2025-07-28T10:57:02.437116Z",
     "iopub.status.idle": "2025-07-28T10:57:02.445319Z",
     "shell.execute_reply": "2025-07-28T10:57:02.444319Z"
    },
    "papermill": {
     "duration": 0.040175,
     "end_time": "2025-07-28T10:57:02.450297",
     "exception": false,
     "start_time": "2025-07-28T10:57:02.410122",
     "status": "completed"
    },
    "tags": []
   },
   "outputs": [
    {
     "data": {
      "text/plain": [
       "{'universe_id': ['8b67c1393ca8f55433af780c615a7f66'],\n",
       " 'universe_training_size': ['2014'],\n",
       " 'universe_scale': ['scale'],\n",
       " 'universe_model': ['rf'],\n",
       " 'universe_exclude_features': ['sex'],\n",
       " 'universe_exclude_subgroups': ['drop-non-german'],\n",
       " 'q_hat': [0.6699999999999999],\n",
       " 'coverage': [0.9194961542748857],\n",
       " 'avg_size': [1.1540296510979824]}"
      ]
     },
     "execution_count": 52,
     "metadata": {},
     "output_type": "execute_result"
    }
   ],
   "source": [
    "cp_metrics_dict"
   ]
  },
  {
   "cell_type": "code",
   "execution_count": 53,
   "id": "33007efc-14e9-4ec6-97ac-56a455c82265",
   "metadata": {
    "execution": {
     "iopub.execute_input": "2025-07-28T10:57:02.551266Z",
     "iopub.status.busy": "2025-07-28T10:57:02.550817Z",
     "iopub.status.idle": "2025-07-28T10:57:02.559634Z",
     "shell.execute_reply": "2025-07-28T10:57:02.558557Z"
    },
    "papermill": {
     "duration": 0.069132,
     "end_time": "2025-07-28T10:57:02.561851",
     "exception": false,
     "start_time": "2025-07-28T10:57:02.492719",
     "status": "completed"
    },
    "tags": []
   },
   "outputs": [],
   "source": [
    "cp_metrics_df = pd.DataFrame(cp_metrics_dict)"
   ]
  },
  {
   "cell_type": "code",
   "execution_count": 54,
   "id": "db12611b-57b2-4910-b9d0-355adfd6e7bf",
   "metadata": {
    "execution": {
     "iopub.execute_input": "2025-07-28T10:57:02.616467Z",
     "iopub.status.busy": "2025-07-28T10:57:02.615997Z",
     "iopub.status.idle": "2025-07-28T10:57:02.639729Z",
     "shell.execute_reply": "2025-07-28T10:57:02.638646Z"
    },
    "papermill": {
     "duration": 0.053196,
     "end_time": "2025-07-28T10:57:02.641810",
     "exception": false,
     "start_time": "2025-07-28T10:57:02.588614",
     "status": "completed"
    },
    "tags": []
   },
   "outputs": [
    {
     "data": {
      "text/html": [
       "<div>\n",
       "<style scoped>\n",
       "    .dataframe tbody tr th:only-of-type {\n",
       "        vertical-align: middle;\n",
       "    }\n",
       "\n",
       "    .dataframe tbody tr th {\n",
       "        vertical-align: top;\n",
       "    }\n",
       "\n",
       "    .dataframe thead th {\n",
       "        text-align: right;\n",
       "    }\n",
       "</style>\n",
       "<table border=\"1\" class=\"dataframe\">\n",
       "  <thead>\n",
       "    <tr style=\"text-align: right;\">\n",
       "      <th></th>\n",
       "      <th>universe_id</th>\n",
       "      <th>universe_training_size</th>\n",
       "      <th>universe_scale</th>\n",
       "      <th>universe_model</th>\n",
       "      <th>universe_exclude_features</th>\n",
       "      <th>universe_exclude_subgroups</th>\n",
       "      <th>q_hat</th>\n",
       "      <th>coverage</th>\n",
       "      <th>avg_size</th>\n",
       "    </tr>\n",
       "  </thead>\n",
       "  <tbody>\n",
       "    <tr>\n",
       "      <th>0</th>\n",
       "      <td>8b67c1393ca8f55433af780c615a7f66</td>\n",
       "      <td>2014</td>\n",
       "      <td>scale</td>\n",
       "      <td>rf</td>\n",
       "      <td>sex</td>\n",
       "      <td>drop-non-german</td>\n",
       "      <td>0.67</td>\n",
       "      <td>0.919496</td>\n",
       "      <td>1.15403</td>\n",
       "    </tr>\n",
       "  </tbody>\n",
       "</table>\n",
       "</div>"
      ],
      "text/plain": [
       "                        universe_id universe_training_size universe_scale  \\\n",
       "0  8b67c1393ca8f55433af780c615a7f66                   2014          scale   \n",
       "\n",
       "  universe_model universe_exclude_features universe_exclude_subgroups  q_hat  \\\n",
       "0             rf                       sex            drop-non-german   0.67   \n",
       "\n",
       "   coverage  avg_size  \n",
       "0  0.919496   1.15403  "
      ]
     },
     "execution_count": 54,
     "metadata": {},
     "output_type": "execute_result"
    }
   ],
   "source": [
    "cp_metrics_df"
   ]
  },
  {
   "cell_type": "code",
   "execution_count": 55,
   "id": "b7fbde55-a0a1-47e4-9af6-fe4a17fa8c61",
   "metadata": {
    "execution": {
     "iopub.execute_input": "2025-07-28T10:57:02.771024Z",
     "iopub.status.busy": "2025-07-28T10:57:02.770568Z",
     "iopub.status.idle": "2025-07-28T10:57:02.776609Z",
     "shell.execute_reply": "2025-07-28T10:57:02.775520Z"
    },
    "papermill": {
     "duration": 0.069775,
     "end_time": "2025-07-28T10:57:02.778512",
     "exception": false,
     "start_time": "2025-07-28T10:57:02.708737",
     "status": "completed"
    },
    "tags": []
   },
   "outputs": [],
   "source": [
    "# Conditional Coverage & looking at subgroups"
   ]
  },
  {
   "cell_type": "code",
   "execution_count": 56,
   "id": "027ae886-68dd-4141-96c7-805a5450e1ef",
   "metadata": {
    "execution": {
     "iopub.execute_input": "2025-07-28T10:57:02.892949Z",
     "iopub.status.busy": "2025-07-28T10:57:02.892384Z",
     "iopub.status.idle": "2025-07-28T10:57:03.495222Z",
     "shell.execute_reply": "2025-07-28T10:57:03.493990Z"
    },
    "papermill": {
     "duration": 0.652933,
     "end_time": "2025-07-28T10:57:03.497334",
     "exception": false,
     "start_time": "2025-07-28T10:57:02.844401",
     "status": "completed"
    },
    "tags": []
   },
   "outputs": [],
   "source": [
    "from fairness_multiverse.conformal import build_cp_groups\n",
    "\n",
    "cp_groups_df = build_cp_groups(pred_sets, y_true, X_test.index, org_test)\n",
    "#needs universe_id and setting"
   ]
  },
  {
   "cell_type": "code",
   "execution_count": 57,
   "id": "01d5802c-663a-4d1f-9d69-e036faaffbf7",
   "metadata": {
    "execution": {
     "iopub.execute_input": "2025-07-28T10:57:03.607944Z",
     "iopub.status.busy": "2025-07-28T10:57:03.607423Z",
     "iopub.status.idle": "2025-07-28T10:57:03.613041Z",
     "shell.execute_reply": "2025-07-28T10:57:03.612081Z"
    },
    "papermill": {
     "duration": 0.05228,
     "end_time": "2025-07-28T10:57:03.616640",
     "exception": false,
     "start_time": "2025-07-28T10:57:03.564360",
     "status": "completed"
    },
    "tags": []
   },
   "outputs": [],
   "source": [
    "#delete\n",
    "#cp_groups_df"
   ]
  },
  {
   "cell_type": "code",
   "execution_count": 58,
   "id": "fa424af1-d1eb-443d-b717-2d279ada8408",
   "metadata": {
    "execution": {
     "iopub.execute_input": "2025-07-28T10:57:03.671429Z",
     "iopub.status.busy": "2025-07-28T10:57:03.671018Z",
     "iopub.status.idle": "2025-07-28T10:57:03.676281Z",
     "shell.execute_reply": "2025-07-28T10:57:03.675319Z"
    },
    "papermill": {
     "duration": 0.035977,
     "end_time": "2025-07-28T10:57:03.679406",
     "exception": false,
     "start_time": "2025-07-28T10:57:03.643429",
     "status": "completed"
    },
    "tags": []
   },
   "outputs": [],
   "source": [
    "#delete\n",
    "#percentage = (cp_groups_df['nongerman_female'] == 1).mean() * 100\n",
    "#print(percentage)\n"
   ]
  },
  {
   "cell_type": "code",
   "execution_count": 59,
   "id": "6cbdab96-b2b2-45af-ad54-d0516db2e28d",
   "metadata": {
    "execution": {
     "iopub.execute_input": "2025-07-28T10:57:03.735146Z",
     "iopub.status.busy": "2025-07-28T10:57:03.734668Z",
     "iopub.status.idle": "2025-07-28T10:57:06.282457Z",
     "shell.execute_reply": "2025-07-28T10:57:06.281360Z"
    },
    "papermill": {
     "duration": 2.578317,
     "end_time": "2025-07-28T10:57:06.284481",
     "exception": false,
     "start_time": "2025-07-28T10:57:03.706164",
     "status": "completed"
    },
    "tags": []
   },
   "outputs": [],
   "source": [
    "# Define covered = 1 if true_label is in the predicted set\n",
    "cp_groups_df['covered'] = cp_groups_df.apply(\n",
    "    lambda r: int(r['true_label'] in r['pred_set']),\n",
    "    axis=1\n",
    ")"
   ]
  },
  {
   "cell_type": "code",
   "execution_count": 60,
   "id": "338ff529-1a6b-4b87-a931-8e4788d52aad",
   "metadata": {
    "execution": {
     "iopub.execute_input": "2025-07-28T10:57:06.399161Z",
     "iopub.status.busy": "2025-07-28T10:57:06.398740Z",
     "iopub.status.idle": "2025-07-28T10:57:06.404423Z",
     "shell.execute_reply": "2025-07-28T10:57:06.403459Z"
    },
    "papermill": {
     "duration": 0.065578,
     "end_time": "2025-07-28T10:57:06.406333",
     "exception": false,
     "start_time": "2025-07-28T10:57:06.340755",
     "status": "completed"
    },
    "tags": []
   },
   "outputs": [],
   "source": [
    "#cp_groups_df"
   ]
  },
  {
   "cell_type": "code",
   "execution_count": 61,
   "id": "90032e27-66df-4540-9169-4e89cfbaa758",
   "metadata": {
    "execution": {
     "iopub.execute_input": "2025-07-28T10:57:06.477561Z",
     "iopub.status.busy": "2025-07-28T10:57:06.477065Z",
     "iopub.status.idle": "2025-07-28T10:57:06.490833Z",
     "shell.execute_reply": "2025-07-28T10:57:06.489730Z"
    },
    "papermill": {
     "duration": 0.04355,
     "end_time": "2025-07-28T10:57:06.493662",
     "exception": false,
     "start_time": "2025-07-28T10:57:06.450112",
     "status": "completed"
    },
    "tags": []
   },
   "outputs": [],
   "source": [
    "subgroups = ['frau1','nongerman','nongerman_male','nongerman_female']\n",
    "\n",
    "# Conditional coverage for subgroup==1\n",
    "cond_coverage = {\n",
    "    g: cp_groups_df.loc[cp_groups_df[g]==1, 'covered'].mean()\n",
    "    for g in subgroups\n",
    "}"
   ]
  },
  {
   "cell_type": "code",
   "execution_count": 62,
   "id": "1e348fb1-b9c3-45bc-ba23-f016827a7e0d",
   "metadata": {
    "execution": {
     "iopub.execute_input": "2025-07-28T10:57:06.548134Z",
     "iopub.status.busy": "2025-07-28T10:57:06.547658Z",
     "iopub.status.idle": "2025-07-28T10:57:06.556197Z",
     "shell.execute_reply": "2025-07-28T10:57:06.555170Z"
    },
    "papermill": {
     "duration": 0.040396,
     "end_time": "2025-07-28T10:57:06.560475",
     "exception": false,
     "start_time": "2025-07-28T10:57:06.520079",
     "status": "completed"
    },
    "tags": []
   },
   "outputs": [
    {
     "data": {
      "text/plain": [
       "{'frau1': 0.9193961450330234,\n",
       " 'nongerman': 0.9148936170212766,\n",
       " 'nongerman_male': 0.9280374673511663,\n",
       " 'nongerman_female': 0.8931445603576751}"
      ]
     },
     "execution_count": 62,
     "metadata": {},
     "output_type": "execute_result"
    }
   ],
   "source": [
    "cond_coverage"
   ]
  },
  {
   "cell_type": "code",
   "execution_count": 63,
   "id": "f5093324-c3dd-4d63-bc4c-8d945e5c8bbb",
   "metadata": {
    "execution": {
     "iopub.execute_input": "2025-07-28T10:57:06.615427Z",
     "iopub.status.busy": "2025-07-28T10:57:06.615012Z",
     "iopub.status.idle": "2025-07-28T10:57:06.623049Z",
     "shell.execute_reply": "2025-07-28T10:57:06.622067Z"
    },
    "papermill": {
     "duration": 0.038329,
     "end_time": "2025-07-28T10:57:06.626166",
     "exception": false,
     "start_time": "2025-07-28T10:57:06.587837",
     "status": "completed"
    },
    "tags": []
   },
   "outputs": [],
   "source": [
    "for subgroup, cov in cond_coverage.items():\n",
    "    cp_metrics_df[f\"cov_{subgroup}\"] = cov"
   ]
  },
  {
   "cell_type": "code",
   "execution_count": 64,
   "id": "6e872e10-dbe5-49e8-b554-5030c98ff75d",
   "metadata": {
    "execution": {
     "iopub.execute_input": "2025-07-28T10:57:06.680499Z",
     "iopub.status.busy": "2025-07-28T10:57:06.680069Z",
     "iopub.status.idle": "2025-07-28T10:57:06.703616Z",
     "shell.execute_reply": "2025-07-28T10:57:06.702537Z"
    },
    "papermill": {
     "duration": 0.052969,
     "end_time": "2025-07-28T10:57:06.705783",
     "exception": false,
     "start_time": "2025-07-28T10:57:06.652814",
     "status": "completed"
    },
    "tags": []
   },
   "outputs": [
    {
     "data": {
      "text/html": [
       "<div>\n",
       "<style scoped>\n",
       "    .dataframe tbody tr th:only-of-type {\n",
       "        vertical-align: middle;\n",
       "    }\n",
       "\n",
       "    .dataframe tbody tr th {\n",
       "        vertical-align: top;\n",
       "    }\n",
       "\n",
       "    .dataframe thead th {\n",
       "        text-align: right;\n",
       "    }\n",
       "</style>\n",
       "<table border=\"1\" class=\"dataframe\">\n",
       "  <thead>\n",
       "    <tr style=\"text-align: right;\">\n",
       "      <th></th>\n",
       "      <th>universe_id</th>\n",
       "      <th>universe_training_size</th>\n",
       "      <th>universe_scale</th>\n",
       "      <th>universe_model</th>\n",
       "      <th>universe_exclude_features</th>\n",
       "      <th>universe_exclude_subgroups</th>\n",
       "      <th>q_hat</th>\n",
       "      <th>coverage</th>\n",
       "      <th>avg_size</th>\n",
       "      <th>cov_frau1</th>\n",
       "      <th>cov_nongerman</th>\n",
       "      <th>cov_nongerman_male</th>\n",
       "      <th>cov_nongerman_female</th>\n",
       "    </tr>\n",
       "  </thead>\n",
       "  <tbody>\n",
       "    <tr>\n",
       "      <th>0</th>\n",
       "      <td>8b67c1393ca8f55433af780c615a7f66</td>\n",
       "      <td>2014</td>\n",
       "      <td>scale</td>\n",
       "      <td>rf</td>\n",
       "      <td>sex</td>\n",
       "      <td>drop-non-german</td>\n",
       "      <td>0.67</td>\n",
       "      <td>0.919496</td>\n",
       "      <td>1.15403</td>\n",
       "      <td>0.919396</td>\n",
       "      <td>0.914894</td>\n",
       "      <td>0.928037</td>\n",
       "      <td>0.893145</td>\n",
       "    </tr>\n",
       "  </tbody>\n",
       "</table>\n",
       "</div>"
      ],
      "text/plain": [
       "                        universe_id universe_training_size universe_scale  \\\n",
       "0  8b67c1393ca8f55433af780c615a7f66                   2014          scale   \n",
       "\n",
       "  universe_model universe_exclude_features universe_exclude_subgroups  q_hat  \\\n",
       "0             rf                       sex            drop-non-german   0.67   \n",
       "\n",
       "   coverage  avg_size  cov_frau1  cov_nongerman  cov_nongerman_male  \\\n",
       "0  0.919496   1.15403   0.919396       0.914894            0.928037   \n",
       "\n",
       "   cov_nongerman_female  \n",
       "0              0.893145  "
      ]
     },
     "execution_count": 64,
     "metadata": {},
     "output_type": "execute_result"
    }
   ],
   "source": [
    "cp_metrics_df"
   ]
  },
  {
   "cell_type": "markdown",
   "id": "33774451",
   "metadata": {
    "papermill": {
     "duration": 0.059355,
     "end_time": "2025-07-28T10:57:06.792930",
     "exception": false,
     "start_time": "2025-07-28T10:57:06.733575",
     "status": "completed"
    },
    "tags": []
   },
   "source": [
    "# (Fairness) Metrics"
   ]
  },
  {
   "cell_type": "code",
   "execution_count": 65,
   "id": "debc5d62",
   "metadata": {
    "execution": {
     "iopub.execute_input": "2025-07-28T10:57:06.876938Z",
     "iopub.status.busy": "2025-07-28T10:57:06.876541Z",
     "iopub.status.idle": "2025-07-28T10:57:06.902811Z",
     "shell.execute_reply": "2025-07-28T10:57:06.901660Z"
    },
    "papermill": {
     "duration": 0.056149,
     "end_time": "2025-07-28T10:57:06.904825",
     "exception": false,
     "start_time": "2025-07-28T10:57:06.848676",
     "status": "completed"
    },
    "tags": []
   },
   "outputs": [],
   "source": [
    "# do I need to include maxdeutsch1.missing?\n",
    "\n",
    "import numpy as np\n",
    "\n",
    "colname_to_bin = \"maxdeutsch1\"\n",
    "majority_value = org_train[colname_to_bin].mode()[0]\n",
    "\n",
    "org_test[\"majmin\"] = np.where(org_test[colname_to_bin] == majority_value, \"majority\", \"minority\")"
   ]
  },
  {
   "cell_type": "code",
   "execution_count": 66,
   "id": "06a50de5",
   "metadata": {
    "execution": {
     "iopub.execute_input": "2025-07-28T10:57:07.015878Z",
     "iopub.status.busy": "2025-07-28T10:57:07.015432Z",
     "iopub.status.idle": "2025-07-28T10:57:11.364657Z",
     "shell.execute_reply": "2025-07-28T10:57:11.348120Z"
    },
    "papermill": {
     "duration": 4.40403,
     "end_time": "2025-07-28T10:57:11.367046",
     "exception": false,
     "start_time": "2025-07-28T10:57:06.963016",
     "status": "completed"
    },
    "tags": []
   },
   "outputs": [],
   "source": [
    "example_universe = universe.copy()\n",
    "example_universe[\"cutoff\"] = example_universe[\"cutoff\"][0]\n",
    "example_universe[\"eval_fairness_grouping\"] = example_universe[\"eval_fairness_grouping\"][0]\n",
    "fairness_dict, metric_frame = universe_analysis.compute_metrics(\n",
    "    example_universe,\n",
    "    y_pred_prob=probs_test,\n",
    "    y_test=y_true,\n",
    "    org_test=org_test,\n",
    ")"
   ]
  },
  {
   "cell_type": "markdown",
   "id": "f95d4e02",
   "metadata": {
    "papermill": {
     "duration": 0.048069,
     "end_time": "2025-07-28T10:57:11.458289",
     "exception": false,
     "start_time": "2025-07-28T10:57:11.410220",
     "status": "completed"
    },
    "tags": []
   },
   "source": [
    "# Overall"
   ]
  },
  {
   "cell_type": "markdown",
   "id": "bdee4871",
   "metadata": {
    "papermill": {
     "duration": 0.059091,
     "end_time": "2025-07-28T10:57:11.590023",
     "exception": false,
     "start_time": "2025-07-28T10:57:11.530932",
     "status": "completed"
    },
    "tags": []
   },
   "source": [
    "Fairness\n",
    "Main fairness target: Equalized Odds. Seems to be a better fit than equal opportunity, since we're not only interested in Y = 1. Seems to be a better fit than demographic parity, since we also care about accuracy, not just equal distribution of preds.\n",
    "\n",
    "Pick column for computation of fairness metrics\n",
    "\n",
    "Performance\n",
    "Overall performance measures, most interesting in relation to the measures split by group below"
   ]
  },
  {
   "cell_type": "code",
   "execution_count": 67,
   "id": "c4e067c6",
   "metadata": {
    "execution": {
     "iopub.execute_input": "2025-07-28T10:57:11.722456Z",
     "iopub.status.busy": "2025-07-28T10:57:11.718076Z",
     "iopub.status.idle": "2025-07-28T10:57:11.733101Z",
     "shell.execute_reply": "2025-07-28T10:57:11.731898Z"
    },
    "papermill": {
     "duration": 0.096421,
     "end_time": "2025-07-28T10:57:11.738732",
     "exception": false,
     "start_time": "2025-07-28T10:57:11.642311",
     "status": "completed"
    },
    "tags": []
   },
   "outputs": [
    {
     "data": {
      "text/plain": [
       "accuracy                   0.211537\n",
       "balanced accuracy          0.536712\n",
       "f1                         0.240679\n",
       "precision                  0.137302\n",
       "false positive rate        0.900680\n",
       "false negative rate        0.025895\n",
       "selection rate             0.910099\n",
       "count                  89710.000000\n",
       "dtype: float64"
      ]
     },
     "execution_count": 67,
     "metadata": {},
     "output_type": "execute_result"
    }
   ],
   "source": [
    "metric_frame.overall"
   ]
  },
  {
   "cell_type": "markdown",
   "id": "e968fe9d",
   "metadata": {
    "papermill": {
     "duration": 0.048347,
     "end_time": "2025-07-28T10:57:11.813769",
     "exception": false,
     "start_time": "2025-07-28T10:57:11.765422",
     "status": "completed"
    },
    "tags": []
   },
   "source": [
    "By Group"
   ]
  },
  {
   "cell_type": "code",
   "execution_count": 68,
   "id": "ec325bce",
   "metadata": {
    "execution": {
     "iopub.execute_input": "2025-07-28T10:57:11.933633Z",
     "iopub.status.busy": "2025-07-28T10:57:11.933166Z",
     "iopub.status.idle": "2025-07-28T10:57:11.955641Z",
     "shell.execute_reply": "2025-07-28T10:57:11.954438Z"
    },
    "papermill": {
     "duration": 0.095553,
     "end_time": "2025-07-28T10:57:11.957505",
     "exception": false,
     "start_time": "2025-07-28T10:57:11.861952",
     "status": "completed"
    },
    "tags": []
   },
   "outputs": [
    {
     "data": {
      "text/html": [
       "<div>\n",
       "<style scoped>\n",
       "    .dataframe tbody tr th:only-of-type {\n",
       "        vertical-align: middle;\n",
       "    }\n",
       "\n",
       "    .dataframe tbody tr th {\n",
       "        vertical-align: top;\n",
       "    }\n",
       "\n",
       "    .dataframe thead th {\n",
       "        text-align: right;\n",
       "    }\n",
       "</style>\n",
       "<table border=\"1\" class=\"dataframe\">\n",
       "  <thead>\n",
       "    <tr style=\"text-align: right;\">\n",
       "      <th></th>\n",
       "      <th>accuracy</th>\n",
       "      <th>balanced accuracy</th>\n",
       "      <th>f1</th>\n",
       "      <th>precision</th>\n",
       "      <th>false positive rate</th>\n",
       "      <th>false negative rate</th>\n",
       "      <th>selection rate</th>\n",
       "      <th>count</th>\n",
       "    </tr>\n",
       "    <tr>\n",
       "      <th>majmin</th>\n",
       "      <th></th>\n",
       "      <th></th>\n",
       "      <th></th>\n",
       "      <th></th>\n",
       "      <th></th>\n",
       "      <th></th>\n",
       "      <th></th>\n",
       "      <th></th>\n",
       "    </tr>\n",
       "  </thead>\n",
       "  <tbody>\n",
       "    <tr>\n",
       "      <th>majority</th>\n",
       "      <td>0.201070</td>\n",
       "      <td>0.535957</td>\n",
       "      <td>0.246907</td>\n",
       "      <td>0.141018</td>\n",
       "      <td>0.919224</td>\n",
       "      <td>0.008862</td>\n",
       "      <td>0.928726</td>\n",
       "      <td>69170.0</td>\n",
       "    </tr>\n",
       "    <tr>\n",
       "      <th>minority</th>\n",
       "      <td>0.246787</td>\n",
       "      <td>0.534469</td>\n",
       "      <td>0.217569</td>\n",
       "      <td>0.123585</td>\n",
       "      <td>0.839423</td>\n",
       "      <td>0.091639</td>\n",
       "      <td>0.847371</td>\n",
       "      <td>20540.0</td>\n",
       "    </tr>\n",
       "  </tbody>\n",
       "</table>\n",
       "</div>"
      ],
      "text/plain": [
       "          accuracy  balanced accuracy        f1  precision  \\\n",
       "majmin                                                       \n",
       "majority  0.201070           0.535957  0.246907   0.141018   \n",
       "minority  0.246787           0.534469  0.217569   0.123585   \n",
       "\n",
       "          false positive rate  false negative rate  selection rate    count  \n",
       "majmin                                                                       \n",
       "majority             0.919224             0.008862        0.928726  69170.0  \n",
       "minority             0.839423             0.091639        0.847371  20540.0  "
      ]
     },
     "execution_count": 68,
     "metadata": {},
     "output_type": "execute_result"
    }
   ],
   "source": [
    "metric_frame.by_group"
   ]
  },
  {
   "cell_type": "code",
   "execution_count": 69,
   "id": "a9ddbe63",
   "metadata": {
    "execution": {
     "iopub.execute_input": "2025-07-28T10:57:12.044573Z",
     "iopub.status.busy": "2025-07-28T10:57:12.044176Z",
     "iopub.status.idle": "2025-07-28T10:57:16.041788Z",
     "shell.execute_reply": "2025-07-28T10:57:16.040649Z"
    },
    "papermill": {
     "duration": 4.018701,
     "end_time": "2025-07-28T10:57:16.043464",
     "exception": false,
     "start_time": "2025-07-28T10:57:12.024763",
     "status": "completed"
    },
    "tags": []
   },
   "outputs": [
    {
     "data": {
      "text/plain": [
       "array([[<Axes: title={'center': 'accuracy'}, xlabel='majmin'>,\n",
       "        <Axes: title={'center': 'balanced accuracy'}, xlabel='majmin'>,\n",
       "        <Axes: title={'center': 'f1'}, xlabel='majmin'>],\n",
       "       [<Axes: title={'center': 'precision'}, xlabel='majmin'>,\n",
       "        <Axes: title={'center': 'false positive rate'}, xlabel='majmin'>,\n",
       "        <Axes: title={'center': 'false negative rate'}, xlabel='majmin'>],\n",
       "       [<Axes: title={'center': 'selection rate'}, xlabel='majmin'>,\n",
       "        <Axes: title={'center': 'count'}, xlabel='majmin'>,\n",
       "        <Axes: xlabel='majmin'>]], dtype=object)"
      ]
     },
     "execution_count": 69,
     "metadata": {},
     "output_type": "execute_result"
    },
    {
     "data": {
      "image/png": "[encoded data removed]",
      "text/plain": [
       "<Figure size 1200x800 with 9 Axes>"
      ]
     },
     "metadata": {},
     "output_type": "display_data"
    }
   ],
   "source": [
    "# In a graphic\n",
    "metric_frame.by_group.plot.bar(\n",
    "    subplots=True,\n",
    "    layout=[3, 3],\n",
    "    legend=False,\n",
    "    figsize=[12, 8],\n",
    "    title=\"Show all metrics\",\n",
    ")"
   ]
  },
  {
   "cell_type": "markdown",
   "id": "f57a0bac",
   "metadata": {
    "papermill": {
     "duration": 0.064813,
     "end_time": "2025-07-28T10:57:16.169331",
     "exception": false,
     "start_time": "2025-07-28T10:57:16.104518",
     "status": "completed"
    },
    "tags": []
   },
   "source": [
    "# Final Output"
   ]
  },
  {
   "cell_type": "code",
   "execution_count": 70,
   "id": "96d280a3",
   "metadata": {
    "execution": {
     "iopub.execute_input": "2025-07-28T10:57:16.317213Z",
     "iopub.status.busy": "2025-07-28T10:57:16.316632Z",
     "iopub.status.idle": "2025-07-28T10:57:16.327584Z",
     "shell.execute_reply": "2025-07-28T10:57:16.326503Z"
    },
    "papermill": {
     "duration": 0.079436,
     "end_time": "2025-07-28T10:57:16.329629",
     "exception": false,
     "start_time": "2025-07-28T10:57:16.250193",
     "status": "completed"
    },
    "tags": []
   },
   "outputs": [
    {
     "data": {
      "text/plain": [
       "4"
      ]
     },
     "execution_count": 70,
     "metadata": {},
     "output_type": "execute_result"
    }
   ],
   "source": [
    "sub_universes = universe_analysis.generate_sub_universes()\n",
    "len(sub_universes)"
   ]
  },
  {
   "cell_type": "code",
   "execution_count": 71,
   "id": "92adf7ba",
   "metadata": {
    "execution": {
     "iopub.execute_input": "2025-07-28T10:57:16.457407Z",
     "iopub.status.busy": "2025-07-28T10:57:16.456965Z",
     "iopub.status.idle": "2025-07-28T10:57:16.464021Z",
     "shell.execute_reply": "2025-07-28T10:57:16.462986Z"
    },
    "papermill": {
     "duration": 0.074352,
     "end_time": "2025-07-28T10:57:16.465836",
     "exception": false,
     "start_time": "2025-07-28T10:57:16.391484",
     "status": "completed"
    },
    "tags": []
   },
   "outputs": [],
   "source": [
    "def filter_sub_universe_data(sub_universe, org_test):\n",
    "    # Keep all rows — no filtering\n",
    "    keep_rows_mask = np.ones(org_test.shape[0], dtype=bool)\n",
    "\n",
    "    print(f\"[INFO] Keeping all rows: {keep_rows_mask.sum()} rows retained.\")\n",
    "    return keep_rows_mask"
   ]
  },
  {
   "cell_type": "code",
   "execution_count": 72,
   "id": "4a759155",
   "metadata": {
    "execution": {
     "iopub.execute_input": "2025-07-28T10:57:16.575766Z",
     "iopub.status.busy": "2025-07-28T10:57:16.575329Z",
     "iopub.status.idle": "2025-07-28T10:57:42.299672Z",
     "shell.execute_reply": "2025-07-28T10:57:42.298246Z"
    },
    "papermill": {
     "duration": 25.758646,
     "end_time": "2025-07-28T10:57:42.301619",
     "exception": false,
     "start_time": "2025-07-28T10:57:16.542973",
     "status": "completed"
    },
    "tags": []
   },
   "outputs": [
    {
     "name": "stdout",
     "output_type": "stream",
     "text": [
      "Stopping execution_time clock.\n",
      "[INFO] Keeping all rows: 89710 rows retained.\n"
     ]
    },
    {
     "name": "stdout",
     "output_type": "stream",
     "text": [
      "[INFO] Keeping all rows: 89710 rows retained.\n"
     ]
    },
    {
     "name": "stdout",
     "output_type": "stream",
     "text": [
      "[INFO] Keeping all rows: 89710 rows retained.\n"
     ]
    },
    {
     "name": "stdout",
     "output_type": "stream",
     "text": [
      "[INFO] Keeping all rows: 89710 rows retained.\n"
     ]
    },
    {
     "data": {
      "text/html": [
       "<div>\n",
       "<style scoped>\n",
       "    .dataframe tbody tr th:only-of-type {\n",
       "        vertical-align: middle;\n",
       "    }\n",
       "\n",
       "    .dataframe tbody tr th {\n",
       "        vertical-align: top;\n",
       "    }\n",
       "\n",
       "    .dataframe thead th {\n",
       "        text-align: right;\n",
       "    }\n",
       "</style>\n",
       "<table border=\"1\" class=\"dataframe\">\n",
       "  <thead>\n",
       "    <tr style=\"text-align: right;\">\n",
       "      <th></th>\n",
       "      <th>run_no</th>\n",
       "      <th>universe_id</th>\n",
       "      <th>universe_settings</th>\n",
       "      <th>execution_time</th>\n",
       "      <th>test_size_n</th>\n",
       "      <th>test_size_frac</th>\n",
       "      <th>fair_main_equalized_odds_difference</th>\n",
       "      <th>fair_main_equalized_odds_ratio</th>\n",
       "      <th>fair_main_demographic_parity_difference</th>\n",
       "      <th>fair_main_demographic_parity_ratio</th>\n",
       "      <th>...</th>\n",
       "      <th>perf_grp_precision_0</th>\n",
       "      <th>perf_grp_precision_1</th>\n",
       "      <th>perf_grp_false positive rate_0</th>\n",
       "      <th>perf_grp_false positive rate_1</th>\n",
       "      <th>perf_grp_false negative rate_0</th>\n",
       "      <th>perf_grp_false negative rate_1</th>\n",
       "      <th>perf_grp_selection rate_0</th>\n",
       "      <th>perf_grp_selection rate_1</th>\n",
       "      <th>perf_grp_count_0</th>\n",
       "      <th>perf_grp_count_1</th>\n",
       "    </tr>\n",
       "  </thead>\n",
       "  <tbody>\n",
       "    <tr>\n",
       "      <th>0</th>\n",
       "      <td>11</td>\n",
       "      <td>8b67c1393ca8f55433af780c615a7f66</td>\n",
       "      <td>{\"cutoff\": \"quantile_0.1\", \"eval_fairness_grou...</td>\n",
       "      <td>61.990039</td>\n",
       "      <td>89710</td>\n",
       "      <td>1.0</td>\n",
       "      <td>0.082776</td>\n",
       "      <td>0.913187</td>\n",
       "      <td>0.081355</td>\n",
       "      <td>0.912401</td>\n",
       "      <td>...</td>\n",
       "      <td>NaN</td>\n",
       "      <td>NaN</td>\n",
       "      <td>NaN</td>\n",
       "      <td>NaN</td>\n",
       "      <td>NaN</td>\n",
       "      <td>NaN</td>\n",
       "      <td>NaN</td>\n",
       "      <td>NaN</td>\n",
       "      <td>NaN</td>\n",
       "      <td>NaN</td>\n",
       "    </tr>\n",
       "    <tr>\n",
       "      <th>0</th>\n",
       "      <td>11</td>\n",
       "      <td>8b67c1393ca8f55433af780c615a7f66</td>\n",
       "      <td>{\"cutoff\": \"quantile_0.1\", \"eval_fairness_grou...</td>\n",
       "      <td>61.990039</td>\n",
       "      <td>89710</td>\n",
       "      <td>1.0</td>\n",
       "      <td>0.082776</td>\n",
       "      <td>0.913187</td>\n",
       "      <td>0.081355</td>\n",
       "      <td>0.912401</td>\n",
       "      <td>...</td>\n",
       "      <td>0.123585</td>\n",
       "      <td>0.141018</td>\n",
       "      <td>0.839423</td>\n",
       "      <td>0.919224</td>\n",
       "      <td>0.091639</td>\n",
       "      <td>0.008862</td>\n",
       "      <td>0.847371</td>\n",
       "      <td>0.928726</td>\n",
       "      <td>20540.0</td>\n",
       "      <td>69170.0</td>\n",
       "    </tr>\n",
       "    <tr>\n",
       "      <th>0</th>\n",
       "      <td>11</td>\n",
       "      <td>8b67c1393ca8f55433af780c615a7f66</td>\n",
       "      <td>{\"cutoff\": \"quantile_0.25\", \"eval_fairness_gro...</td>\n",
       "      <td>61.990039</td>\n",
       "      <td>89710</td>\n",
       "      <td>1.0</td>\n",
       "      <td>0.128925</td>\n",
       "      <td>0.865051</td>\n",
       "      <td>0.092578</td>\n",
       "      <td>0.879972</td>\n",
       "      <td>...</td>\n",
       "      <td>NaN</td>\n",
       "      <td>NaN</td>\n",
       "      <td>NaN</td>\n",
       "      <td>NaN</td>\n",
       "      <td>NaN</td>\n",
       "      <td>NaN</td>\n",
       "      <td>NaN</td>\n",
       "      <td>NaN</td>\n",
       "      <td>NaN</td>\n",
       "      <td>NaN</td>\n",
       "    </tr>\n",
       "    <tr>\n",
       "      <th>0</th>\n",
       "      <td>11</td>\n",
       "      <td>8b67c1393ca8f55433af780c615a7f66</td>\n",
       "      <td>{\"cutoff\": \"quantile_0.25\", \"eval_fairness_gro...</td>\n",
       "      <td>61.990039</td>\n",
       "      <td>89710</td>\n",
       "      <td>1.0</td>\n",
       "      <td>0.128925</td>\n",
       "      <td>0.865051</td>\n",
       "      <td>0.092578</td>\n",
       "      <td>0.879972</td>\n",
       "      <td>...</td>\n",
       "      <td>0.140377</td>\n",
       "      <td>0.163671</td>\n",
       "      <td>0.659476</td>\n",
       "      <td>0.743278</td>\n",
       "      <td>0.173564</td>\n",
       "      <td>0.044639</td>\n",
       "      <td>0.678724</td>\n",
       "      <td>0.771303</td>\n",
       "      <td>20540.0</td>\n",
       "      <td>69170.0</td>\n",
       "    </tr>\n",
       "  </tbody>\n",
       "</table>\n",
       "<p>4 rows × 50 columns</p>\n",
       "</div>"
      ],
      "text/plain": [
       "  run_no                       universe_id  \\\n",
       "0     11  8b67c1393ca8f55433af780c615a7f66   \n",
       "0     11  8b67c1393ca8f55433af780c615a7f66   \n",
       "0     11  8b67c1393ca8f55433af780c615a7f66   \n",
       "0     11  8b67c1393ca8f55433af780c615a7f66   \n",
       "\n",
       "                                   universe_settings  execution_time  \\\n",
       "0  {\"cutoff\": \"quantile_0.1\", \"eval_fairness_grou...       61.990039   \n",
       "0  {\"cutoff\": \"quantile_0.1\", \"eval_fairness_grou...       61.990039   \n",
       "0  {\"cutoff\": \"quantile_0.25\", \"eval_fairness_gro...       61.990039   \n",
       "0  {\"cutoff\": \"quantile_0.25\", \"eval_fairness_gro...       61.990039   \n",
       "\n",
       "   test_size_n  test_size_frac  fair_main_equalized_odds_difference  \\\n",
       "0        89710             1.0                             0.082776   \n",
       "0        89710             1.0                             0.082776   \n",
       "0        89710             1.0                             0.128925   \n",
       "0        89710             1.0                             0.128925   \n",
       "\n",
       "   fair_main_equalized_odds_ratio  fair_main_demographic_parity_difference  \\\n",
       "0                        0.913187                                 0.081355   \n",
       "0                        0.913187                                 0.081355   \n",
       "0                        0.865051                                 0.092578   \n",
       "0                        0.865051                                 0.092578   \n",
       "\n",
       "   fair_main_demographic_parity_ratio  ...  perf_grp_precision_0  \\\n",
       "0                            0.912401  ...                   NaN   \n",
       "0                            0.912401  ...              0.123585   \n",
       "0                            0.879972  ...                   NaN   \n",
       "0                            0.879972  ...              0.140377   \n",
       "\n",
       "   perf_grp_precision_1  perf_grp_false positive rate_0  \\\n",
       "0                   NaN                             NaN   \n",
       "0              0.141018                        0.839423   \n",
       "0                   NaN                             NaN   \n",
       "0              0.163671                        0.659476   \n",
       "\n",
       "   perf_grp_false positive rate_1  perf_grp_false negative rate_0  \\\n",
       "0                             NaN                             NaN   \n",
       "0                        0.919224                        0.091639   \n",
       "0                             NaN                             NaN   \n",
       "0                        0.743278                        0.173564   \n",
       "\n",
       "   perf_grp_false negative rate_1  perf_grp_selection rate_0  \\\n",
       "0                             NaN                        NaN   \n",
       "0                        0.008862                   0.847371   \n",
       "0                             NaN                        NaN   \n",
       "0                        0.044639                   0.678724   \n",
       "\n",
       "   perf_grp_selection rate_1  perf_grp_count_0  perf_grp_count_1  \n",
       "0                        NaN               NaN               NaN  \n",
       "0                   0.928726           20540.0           69170.0  \n",
       "0                        NaN               NaN               NaN  \n",
       "0                   0.771303           20540.0           69170.0  \n",
       "\n",
       "[4 rows x 50 columns]"
      ]
     },
     "execution_count": 72,
     "metadata": {},
     "output_type": "execute_result"
    }
   ],
   "source": [
    "final_output = universe_analysis.generate_final_output(\n",
    "    y_pred_prob=probs_test,\n",
    "    y_test=y_true,\n",
    "    org_test=org_test,\n",
    "    filter_data=filter_sub_universe_data,\n",
    "    cp_metrics_df=cp_metrics_df,\n",
    "    save=True,\n",
    ")\n",
    "final_output"
   ]
  },
  {
   "cell_type": "code",
   "execution_count": null,
   "id": "721ff514-cb11-46f8-b6fc-50392f74b5cb",
   "metadata": {
    "papermill": {
     "duration": 0.037216,
     "end_time": "2025-07-28T10:57:42.384091",
     "exception": false,
     "start_time": "2025-07-28T10:57:42.346875",
     "status": "completed"
    },
    "tags": []
   },
   "outputs": [],
   "source": []
  }
 ],
 "metadata": {
  "celltoolbar": "Tags",
  "kernelspec": {
   "display_name": "Python (CMA Fairness)",
   "language": "python",
   "name": "cma_fair_env"
  },
  "language_info": {
   "codemirror_mode": {
    "name": "ipython",
    "version": 3
   },
   "file_extension": ".py",
   "mimetype": "text/x-python",
   "name": "python",
   "nbconvert_exporter": "python",
   "pygments_lexer": "ipython3",
   "version": "3.10.12"
  },
  "papermill": {
   "default_parameters": {},
   "duration": 95.964578,
   "end_time": "2025-07-28T10:57:43.676869",
   "environment_variables": {},
   "exception": null,
   "input_path": "universe_analysis.ipynb",
   "output_path": "output/runs/11/notebooks/m_11-8b67c1393ca8f55433af780c615a7f66.ipynb",
   "parameters": {
    "output_dir": "output",
    "run_no": "11",
    "seed": "2023",
    "universe": "{\"cutoff\": [\"quantile_0.1\", \"quantile_0.25\"], \"eval_fairness_grouping\": [\"majority-minority\", \"nationality-all\"], \"exclude_features\": \"sex\", \"exclude_subgroups\": \"drop-non-german\", \"model\": \"rf\", \"scale\": \"scale\", \"training_size\": \"2014\"}",
    "universe_id": "8b67c1393ca8f55433af780c615a7f66"
   },
   "start_time": "2025-07-28T10:56:07.712291",
   "version": "2.6.0"
  }
 },
 "nbformat": 4,
 "nbformat_minor": 5
}