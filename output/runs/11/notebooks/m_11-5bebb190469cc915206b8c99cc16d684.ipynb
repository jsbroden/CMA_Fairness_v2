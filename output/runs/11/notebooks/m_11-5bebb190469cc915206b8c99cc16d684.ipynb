{
 "cells": [
  {
   "cell_type": "code",
   "execution_count": 1,
   "id": "f159f837-637b-42ba-96b5-ec9a68c44524",
   "metadata": {
    "execution": {
     "iopub.execute_input": "2025-07-28T10:46:15.836377Z",
     "iopub.status.busy": "2025-07-28T10:46:15.835807Z",
     "iopub.status.idle": "2025-07-28T10:46:15.851527Z",
     "shell.execute_reply": "2025-07-28T10:46:15.850423Z"
    },
    "papermill": {
     "duration": 0.038962,
     "end_time": "2025-07-28T10:46:15.853415",
     "exception": false,
     "start_time": "2025-07-28T10:46:15.814453",
     "status": "completed"
    },
    "tags": []
   },
   "outputs": [
    {
     "name": "stdout",
     "output_type": "stream",
     "text": [
      "/dss/dsshome1/0C/ra93lal2/cma/CMA_Fairness_v2\n"
     ]
    },
    {
     "name": "stderr",
     "output_type": "stream",
     "text": [
      "/dss/dsshome1/0C/ra93lal2/.local/share/virtualenvs/CMA_Fairness_v2-3j10GkSs/lib/python3.10/site-packages/IPython/core/magics/osm.py:393: UserWarning: This is now an optional IPython functionality, using bookmarks requires you to install the `pickleshare` library.\n",
      "  bkms = self.shell.db.get('bookmarks', {})\n",
      "/dss/dsshome1/0C/ra93lal2/.local/share/virtualenvs/CMA_Fairness_v2-3j10GkSs/lib/python3.10/site-packages/IPython/core/magics/osm.py:417: UserWarning: This is now an optional IPython functionality, setting dhist requires you to install the `pickleshare` library.\n",
      "  self.shell.db['dhist'] = compress_dhist(dhist)[-100:]\n"
     ]
    }
   ],
   "source": [
    "%cd ~/cma/CMA_Fairness_v2"
   ]
  },
  {
   "cell_type": "markdown",
   "id": "de2603b9",
   "metadata": {
    "papermill": {
     "duration": 0.020156,
     "end_time": "2025-07-28T10:46:15.893076",
     "exception": false,
     "start_time": "2025-07-28T10:46:15.872920",
     "status": "completed"
    },
    "tags": []
   },
   "source": [
    "The following cell holds the definition of our parameters, these values can be overriden by rendering the with e.g. the following command:\n",
    "\n",
    "papermill -p alpha 0.2 -p ratio 0.3 universe_analysis.ipynb output/test_run.ipynb"
   ]
  },
  {
   "cell_type": "code",
   "execution_count": 2,
   "id": "a80968a0-40bb-4fa9-85ef-2d5eefb01975",
   "metadata": {
    "execution": {
     "iopub.execute_input": "2025-07-28T10:46:15.934242Z",
     "iopub.status.busy": "2025-07-28T10:46:15.933612Z",
     "iopub.status.idle": "2025-07-28T10:46:15.940005Z",
     "shell.execute_reply": "2025-07-28T10:46:15.939027Z"
    },
    "papermill": {
     "duration": 0.02865,
     "end_time": "2025-07-28T10:46:15.941689",
     "exception": false,
     "start_time": "2025-07-28T10:46:15.913039",
     "status": "completed"
    },
    "tags": []
   },
   "outputs": [
    {
     "name": "stdout",
     "output_type": "stream",
     "text": [
      "Current working directory: /dss/dsshome1/0C/ra93lal2/cma/CMA_Fairness_v2\n"
     ]
    }
   ],
   "source": [
    "import os\n",
    "print(\"Current working directory:\", os.getcwd())"
   ]
  },
  {
   "cell_type": "code",
   "execution_count": 3,
   "id": "2dce4c03",
   "metadata": {
    "execution": {
     "iopub.execute_input": "2025-07-28T10:46:15.984650Z",
     "iopub.status.busy": "2025-07-28T10:46:15.983874Z",
     "iopub.status.idle": "2025-07-28T10:46:15.991243Z",
     "shell.execute_reply": "2025-07-28T10:46:15.990200Z"
    },
    "papermill": {
     "duration": 0.030496,
     "end_time": "2025-07-28T10:46:15.992878",
     "exception": false,
     "start_time": "2025-07-28T10:46:15.962382",
     "status": "completed"
    },
    "tags": [
     "parameters"
    ]
   },
   "outputs": [],
   "source": [
    "run_no = 0\n",
    "universe_id = \"test\"\n",
    "universe = {\n",
    "    \"training_size\": \"2014\", # \"25k\", \"5k\", \"1k\", \"2014\"\n",
    "    \"scale\": \"scale\", # \"scale\", \"do-not-scale\",\n",
    "    #\"stratify_split\": \"target\", # \"none\", \"target\", \"protected-attribute\", \"both\",\n",
    "    \"model\": \"elasticnet\", # \"logreg\", \"penalized_logreg\", \"rf\", \"gbm\", \"elasticnet\"\n",
    "    \"cutoff\": [\"quantile_0.15\", \"quantile_0.30\"],\n",
    "    \"exclude_features\": \"age\", # \"none\", \"nationality\", \"sex\", \"nationality-sex\", \"age\"\n",
    "    \"exclude_subgroups\": \"keep-all\", # \"keep-all\", \"drop-non-german\"\n",
    "    \"eval_fairness_grouping\": [\"majority-minority\", \"nationality-all\"]\n",
    "}\n",
    "\n",
    "output_dir=\"./output\"\n",
    "seed=0"
   ]
  },
  {
   "cell_type": "code",
   "execution_count": 4,
   "id": "fd986048",
   "metadata": {
    "execution": {
     "iopub.execute_input": "2025-07-28T10:46:16.035306Z",
     "iopub.status.busy": "2025-07-28T10:46:16.034504Z",
     "iopub.status.idle": "2025-07-28T10:46:16.040845Z",
     "shell.execute_reply": "2025-07-28T10:46:16.039751Z"
    },
    "papermill": {
     "duration": 0.02995,
     "end_time": "2025-07-28T10:46:16.042804",
     "exception": false,
     "start_time": "2025-07-28T10:46:16.012854",
     "status": "completed"
    },
    "tags": [
     "injected-parameters"
    ]
   },
   "outputs": [],
   "source": [
    "# Parameters\n",
    "universe_id = \"5bebb190469cc915206b8c99cc16d684\"\n",
    "run_no = \"11\"\n",
    "universe = \"{\\\"cutoff\\\": [\\\"quantile_0.1\\\", \\\"quantile_0.25\\\"], \\\"eval_fairness_grouping\\\": [\\\"majority-minority\\\", \\\"nationality-all\\\"], \\\"exclude_features\\\": \\\"none\\\", \\\"exclude_subgroups\\\": \\\"drop-non-german\\\", \\\"model\\\": \\\"elasticnet\\\", \\\"scale\\\": \\\"scale\\\", \\\"training_size\\\": \\\"1k\\\"}\"\n",
    "output_dir = \"output\"\n",
    "seed = \"2023\"\n"
   ]
  },
  {
   "cell_type": "code",
   "execution_count": 5,
   "id": "1650acaf",
   "metadata": {
    "execution": {
     "iopub.execute_input": "2025-07-28T10:46:16.097407Z",
     "iopub.status.busy": "2025-07-28T10:46:16.096879Z",
     "iopub.status.idle": "2025-07-28T10:46:16.103243Z",
     "shell.execute_reply": "2025-07-28T10:46:16.102318Z"
    },
    "papermill": {
     "duration": 0.041425,
     "end_time": "2025-07-28T10:46:16.105012",
     "exception": false,
     "start_time": "2025-07-28T10:46:16.063587",
     "status": "completed"
    },
    "tags": []
   },
   "outputs": [],
   "source": [
    "import json\n",
    "# Parse universe into dict if it is passed as a string\n",
    "if isinstance(universe, str):\n",
    "    universe = json.loads(universe)"
   ]
  },
  {
   "cell_type": "code",
   "execution_count": 6,
   "id": "16620c48",
   "metadata": {
    "execution": {
     "iopub.execute_input": "2025-07-28T10:46:16.149919Z",
     "iopub.status.busy": "2025-07-28T10:46:16.149040Z",
     "iopub.status.idle": "2025-07-28T10:46:16.198950Z",
     "shell.execute_reply": "2025-07-28T10:46:16.196714Z"
    },
    "papermill": {
     "duration": 0.072787,
     "end_time": "2025-07-28T10:46:16.201265",
     "exception": false,
     "start_time": "2025-07-28T10:46:16.128478",
     "status": "completed"
    },
    "tags": []
   },
   "outputs": [],
   "source": [
    "# Auto-reload the custom package\n",
    "%load_ext autoreload\n",
    "%autoreload 1\n",
    "%aimport fairness_multiverse"
   ]
  },
  {
   "cell_type": "code",
   "execution_count": 7,
   "id": "01c5c9f3",
   "metadata": {
    "execution": {
     "iopub.execute_input": "2025-07-28T10:46:16.243637Z",
     "iopub.status.busy": "2025-07-28T10:46:16.243188Z",
     "iopub.status.idle": "2025-07-28T10:46:18.386852Z",
     "shell.execute_reply": "2025-07-28T10:46:18.385832Z"
    },
    "papermill": {
     "duration": 2.166591,
     "end_time": "2025-07-28T10:46:18.388940",
     "exception": false,
     "start_time": "2025-07-28T10:46:16.222349",
     "status": "completed"
    },
    "tags": []
   },
   "outputs": [],
   "source": [
    "from fairness_multiverse.universe import UniverseAnalysis\n",
    "\n",
    "universe_analysis = UniverseAnalysis(\n",
    "    run_no = run_no,\n",
    "    universe_id = universe_id,\n",
    "    universe = universe,\n",
    "    output_dir=output_dir,\n",
    ")"
   ]
  },
  {
   "cell_type": "code",
   "execution_count": 8,
   "id": "106241f5",
   "metadata": {
    "execution": {
     "iopub.execute_input": "2025-07-28T10:46:18.430966Z",
     "iopub.status.busy": "2025-07-28T10:46:18.430470Z",
     "iopub.status.idle": "2025-07-28T10:46:18.437139Z",
     "shell.execute_reply": "2025-07-28T10:46:18.436124Z"
    },
    "papermill": {
     "duration": 0.028373,
     "end_time": "2025-07-28T10:46:18.438842",
     "exception": false,
     "start_time": "2025-07-28T10:46:18.410469",
     "status": "completed"
    },
    "tags": []
   },
   "outputs": [
    {
     "name": "stdout",
     "output_type": "stream",
     "text": [
      "Using Seed: 2023\n"
     ]
    }
   ],
   "source": [
    "import numpy as np\n",
    "parsed_seed = int(seed)\n",
    "np.random.seed(parsed_seed)\n",
    "print(f\"Using Seed: {parsed_seed}\")"
   ]
  },
  {
   "cell_type": "markdown",
   "id": "e0ebdc57",
   "metadata": {
    "papermill": {
     "duration": 0.018788,
     "end_time": "2025-07-28T10:46:18.477247",
     "exception": false,
     "start_time": "2025-07-28T10:46:18.458459",
     "status": "completed"
    },
    "tags": []
   },
   "source": [
    "# Loading Data"
   ]
  },
  {
   "cell_type": "markdown",
   "id": "681925a3",
   "metadata": {
    "papermill": {
     "duration": 0.01855,
     "end_time": "2025-07-28T10:46:18.514194",
     "exception": false,
     "start_time": "2025-07-28T10:46:18.495644",
     "status": "completed"
    },
    "tags": []
   },
   "source": [
    "Load siab_train, siab_test, siab_calib and/or \n",
    "load siab_train_features, siab_train_labels"
   ]
  },
  {
   "cell_type": "code",
   "execution_count": 9,
   "id": "f0496b8a",
   "metadata": {
    "execution": {
     "iopub.execute_input": "2025-07-28T10:46:18.554197Z",
     "iopub.status.busy": "2025-07-28T10:46:18.553580Z",
     "iopub.status.idle": "2025-07-28T10:46:31.063555Z",
     "shell.execute_reply": "2025-07-28T10:46:31.062402Z"
    },
    "papermill": {
     "duration": 12.532333,
     "end_time": "2025-07-28T10:46:31.065258",
     "exception": false,
     "start_time": "2025-07-28T10:46:18.532925",
     "status": "completed"
    },
    "tags": []
   },
   "outputs": [
    {
     "name": "stdout",
     "output_type": "stream",
     "text": [
      "Loading SIAB data from cache: data/siab_cached.csv.gz\n"
     ]
    },
    {
     "name": "stdout",
     "output_type": "stream",
     "text": [
      "(643690, 164)\n"
     ]
    }
   ],
   "source": [
    "from pathlib import Path\n",
    "import pandas as pd\n",
    "\n",
    "# File paths\n",
    "raw_file = Path(\"data/raw/siab.csv\")\n",
    "cache_file = Path(\"data/siab_cached.csv.gz\")\n",
    "\n",
    "# Ensure cache directory exists\n",
    "cache_file.parent.mkdir(parents=True, exist_ok=True)\n",
    "\n",
    "# Load with simple caching\n",
    "if cache_file.exists():\n",
    "    print(f\"Loading SIAB data from cache: {cache_file}\")\n",
    "    siab = pd.read_csv(cache_file, compression='gzip')\n",
    "else:\n",
    "    print(f\"Cache not found. Reading raw SIAB data: {raw_file}\")\n",
    "    siab = pd.read_csv(raw_file)\n",
    "    siab.to_csv(cache_file, index=False, compression='gzip')\n",
    "    print(f\"Cached SIAB data to: {cache_file}\")\n",
    "\n",
    "# Now use `siab` DataFrame as needed\n",
    "print(siab.shape)"
   ]
  },
  {
   "cell_type": "code",
   "execution_count": 10,
   "id": "db0ca512-5f53-4dba-abdb-a2888bca41ba",
   "metadata": {
    "execution": {
     "iopub.execute_input": "2025-07-28T10:46:31.107266Z",
     "iopub.status.busy": "2025-07-28T10:46:31.106830Z",
     "iopub.status.idle": "2025-07-28T10:46:31.112538Z",
     "shell.execute_reply": "2025-07-28T10:46:31.111581Z"
    },
    "papermill": {
     "duration": 0.027111,
     "end_time": "2025-07-28T10:46:31.114172",
     "exception": false,
     "start_time": "2025-07-28T10:46:31.087061",
     "status": "completed"
    },
    "tags": []
   },
   "outputs": [],
   "source": [
    "#siab"
   ]
  },
  {
   "cell_type": "code",
   "execution_count": 11,
   "id": "a0edb063",
   "metadata": {
    "execution": {
     "iopub.execute_input": "2025-07-28T10:46:31.153359Z",
     "iopub.status.busy": "2025-07-28T10:46:31.152732Z",
     "iopub.status.idle": "2025-07-28T10:46:31.157579Z",
     "shell.execute_reply": "2025-07-28T10:46:31.156732Z"
    },
    "papermill": {
     "duration": 0.025952,
     "end_time": "2025-07-28T10:46:31.159101",
     "exception": false,
     "start_time": "2025-07-28T10:46:31.133149",
     "status": "completed"
    },
    "tags": []
   },
   "outputs": [],
   "source": [
    "#import pandas as pd\n",
    "#\n",
    "#X_train = pd.read_csv(\"./data/X_train.csv\")\n",
    "#y_train = pd.read_csv(\"./data/y_train.csv\")"
   ]
  },
  {
   "cell_type": "code",
   "execution_count": 12,
   "id": "63d08085",
   "metadata": {
    "execution": {
     "iopub.execute_input": "2025-07-28T10:46:31.198228Z",
     "iopub.status.busy": "2025-07-28T10:46:31.197620Z",
     "iopub.status.idle": "2025-07-28T10:46:31.202322Z",
     "shell.execute_reply": "2025-07-28T10:46:31.201376Z"
    },
    "papermill": {
     "duration": 0.025793,
     "end_time": "2025-07-28T10:46:31.203880",
     "exception": false,
     "start_time": "2025-07-28T10:46:31.178087",
     "status": "completed"
    },
    "tags": []
   },
   "outputs": [],
   "source": [
    "#X_test = pd.read_csv(\"./data/X_test.csv\")\n",
    "#y_true = pd.read_csv(\"./data/y_test.csv\")"
   ]
  },
  {
   "cell_type": "code",
   "execution_count": 13,
   "id": "98a8d0fa-1d3d-4ed8-bb2c-281470e24add",
   "metadata": {
    "execution": {
     "iopub.execute_input": "2025-07-28T10:46:31.243078Z",
     "iopub.status.busy": "2025-07-28T10:46:31.242591Z",
     "iopub.status.idle": "2025-07-28T10:46:31.247065Z",
     "shell.execute_reply": "2025-07-28T10:46:31.246239Z"
    },
    "papermill": {
     "duration": 0.025711,
     "end_time": "2025-07-28T10:46:31.248845",
     "exception": false,
     "start_time": "2025-07-28T10:46:31.223134",
     "status": "completed"
    },
    "tags": []
   },
   "outputs": [],
   "source": [
    "# Calibration data for conformal\n",
    "#X_calib = pd.read_csv(\"./data/X_calib.csv\")\n",
    "#y_calib = pd.read_csv(\"./data/y_calib.csv\")"
   ]
  },
  {
   "cell_type": "markdown",
   "id": "9901737e-04df-44f0-9100-f5ad144ed040",
   "metadata": {
    "papermill": {
     "duration": 0.018717,
     "end_time": "2025-07-28T10:46:31.286689",
     "exception": false,
     "start_time": "2025-07-28T10:46:31.267972",
     "status": "completed"
    },
    "tags": []
   },
   "source": [
    "# Splitting Data and Setting Training Data Size"
   ]
  },
  {
   "cell_type": "code",
   "execution_count": 14,
   "id": "acbc8f7d-8fc8-4e86-8c59-5dcb0f58384b",
   "metadata": {
    "execution": {
     "iopub.execute_input": "2025-07-28T10:46:31.326248Z",
     "iopub.status.busy": "2025-07-28T10:46:31.325675Z",
     "iopub.status.idle": "2025-07-28T10:46:31.334122Z",
     "shell.execute_reply": "2025-07-28T10:46:31.333188Z"
    },
    "papermill": {
     "duration": 0.030246,
     "end_time": "2025-07-28T10:46:31.335689",
     "exception": false,
     "start_time": "2025-07-28T10:46:31.305443",
     "status": "completed"
    },
    "tags": []
   },
   "outputs": [],
   "source": [
    "def sample_by_year(df, training_size, random_state=42):\n",
    "    if training_size == \"2014\":\n",
    "        return df[df[\"year\"] == 2014].reset_index(drop=True)\n",
    "    \n",
    "    size_map = {\n",
    "        \"25k\": 5000,\n",
    "        \"5k\": 1000,\n",
    "        \"1k\": 200\n",
    "    }\n",
    "\n",
    "    if training_size not in size_map:\n",
    "        return df.reset_index(drop=True)  # use all data\n",
    "\n",
    "    n_per_year = size_map[training_size]\n",
    "    grouped = df.groupby(\"year\")\n",
    "    sampled = grouped.apply(lambda x: x.sample(n=min(n_per_year, len(x)), random_state=random_state))\n",
    "    return sampled.reset_index(drop=True)"
   ]
  },
  {
   "cell_type": "code",
   "execution_count": 15,
   "id": "6d931f52-beaf-43ff-9e78-9d44a448d54e",
   "metadata": {
    "execution": {
     "iopub.execute_input": "2025-07-28T10:46:31.377141Z",
     "iopub.status.busy": "2025-07-28T10:46:31.376490Z",
     "iopub.status.idle": "2025-07-28T10:46:32.052635Z",
     "shell.execute_reply": "2025-07-28T10:46:32.051824Z"
    },
    "papermill": {
     "duration": 0.698765,
     "end_time": "2025-07-28T10:46:32.054467",
     "exception": false,
     "start_time": "2025-07-28T10:46:31.355702",
     "status": "completed"
    },
    "tags": []
   },
   "outputs": [],
   "source": [
    "siab_s = sample_by_year(siab, universe[\"training_size\"])"
   ]
  },
  {
   "cell_type": "code",
   "execution_count": 16,
   "id": "5db0a40e-a4e2-4920-be85-b12ae061d70d",
   "metadata": {
    "execution": {
     "iopub.execute_input": "2025-07-28T10:46:32.100531Z",
     "iopub.status.busy": "2025-07-28T10:46:32.099964Z",
     "iopub.status.idle": "2025-07-28T10:46:32.114358Z",
     "shell.execute_reply": "2025-07-28T10:46:32.113252Z"
    },
    "papermill": {
     "duration": 0.042423,
     "end_time": "2025-07-28T10:46:32.117032",
     "exception": false,
     "start_time": "2025-07-28T10:46:32.074609",
     "status": "completed"
    },
    "tags": []
   },
   "outputs": [
    {
     "data": {
      "text/plain": [
       "year\n",
       "2010    200\n",
       "2011    200\n",
       "2012    200\n",
       "2013    200\n",
       "2014    200\n",
       "2015    200\n",
       "2016    200\n",
       "dtype: int64"
      ]
     },
     "metadata": {},
     "output_type": "display_data"
    }
   ],
   "source": [
    "display(siab_s.groupby(\"year\").size())"
   ]
  },
  {
   "cell_type": "code",
   "execution_count": 17,
   "id": "a561edb4-d032-42cb-8256-22eac1111c64",
   "metadata": {
    "execution": {
     "iopub.execute_input": "2025-07-28T10:46:32.163100Z",
     "iopub.status.busy": "2025-07-28T10:46:32.162486Z",
     "iopub.status.idle": "2025-07-28T10:46:32.437902Z",
     "shell.execute_reply": "2025-07-28T10:46:32.436900Z"
    },
    "papermill": {
     "duration": 0.300009,
     "end_time": "2025-07-28T10:46:32.439996",
     "exception": false,
     "start_time": "2025-07-28T10:46:32.139987",
     "status": "completed"
    },
    "tags": []
   },
   "outputs": [],
   "source": [
    "siab_train = siab_s[siab_s.year < 2015]\n",
    "siab_calib = siab[siab.year == 2015]\n",
    "siab_test = siab[siab.year == 2016]"
   ]
  },
  {
   "cell_type": "code",
   "execution_count": 18,
   "id": "472de16f-c3db-4916-846b-1f0de9cf1746",
   "metadata": {
    "execution": {
     "iopub.execute_input": "2025-07-28T10:46:32.484330Z",
     "iopub.status.busy": "2025-07-28T10:46:32.483810Z",
     "iopub.status.idle": "2025-07-28T10:46:32.491008Z",
     "shell.execute_reply": "2025-07-28T10:46:32.489976Z"
    },
    "papermill": {
     "duration": 0.030941,
     "end_time": "2025-07-28T10:46:32.492743",
     "exception": false,
     "start_time": "2025-07-28T10:46:32.461802",
     "status": "completed"
    },
    "tags": []
   },
   "outputs": [],
   "source": [
    "X_train = siab_train.iloc[:,4:164]\n",
    "y_train = siab_train.iloc[:, [3]]"
   ]
  },
  {
   "cell_type": "code",
   "execution_count": 19,
   "id": "828c96af-f43a-4ed6-ba47-8ac73a47d56c",
   "metadata": {
    "execution": {
     "iopub.execute_input": "2025-07-28T10:46:32.535036Z",
     "iopub.status.busy": "2025-07-28T10:46:32.534422Z",
     "iopub.status.idle": "2025-07-28T10:46:32.591682Z",
     "shell.execute_reply": "2025-07-28T10:46:32.590649Z"
    },
    "papermill": {
     "duration": 0.08115,
     "end_time": "2025-07-28T10:46:32.593572",
     "exception": false,
     "start_time": "2025-07-28T10:46:32.512422",
     "status": "completed"
    },
    "tags": []
   },
   "outputs": [],
   "source": [
    "X_calib = siab_calib.iloc[:,4:164]\n",
    "y_calib = siab_calib.iloc[:, [3]]"
   ]
  },
  {
   "cell_type": "code",
   "execution_count": 20,
   "id": "c34be9c3-6bd6-476e-acd3-845840e303be",
   "metadata": {
    "execution": {
     "iopub.execute_input": "2025-07-28T10:46:32.649895Z",
     "iopub.status.busy": "2025-07-28T10:46:32.648888Z",
     "iopub.status.idle": "2025-07-28T10:46:32.701663Z",
     "shell.execute_reply": "2025-07-28T10:46:32.700518Z"
    },
    "papermill": {
     "duration": 0.089819,
     "end_time": "2025-07-28T10:46:32.703797",
     "exception": false,
     "start_time": "2025-07-28T10:46:32.613978",
     "status": "completed"
    },
    "tags": []
   },
   "outputs": [],
   "source": [
    "X_test = siab_test.iloc[:,4:164]\n",
    "y_true = siab_test.iloc[:, [3]]"
   ]
  },
  {
   "cell_type": "code",
   "execution_count": 21,
   "id": "e6c733c5",
   "metadata": {
    "execution": {
     "iopub.execute_input": "2025-07-28T10:46:32.746408Z",
     "iopub.status.busy": "2025-07-28T10:46:32.745799Z",
     "iopub.status.idle": "2025-07-28T10:46:32.846459Z",
     "shell.execute_reply": "2025-07-28T10:46:32.845476Z"
    },
    "papermill": {
     "duration": 0.123516,
     "end_time": "2025-07-28T10:46:32.848458",
     "exception": false,
     "start_time": "2025-07-28T10:46:32.724942",
     "status": "completed"
    },
    "tags": []
   },
   "outputs": [],
   "source": [
    "# Auxiliary data needed downstream in the pipeline\n",
    "\n",
    "org_train = X_train.copy()\n",
    "org_test = X_test.copy()\n",
    "org_calib = X_calib.copy()"
   ]
  },
  {
   "cell_type": "markdown",
   "id": "0a4a1b33",
   "metadata": {
    "papermill": {
     "duration": 0.019958,
     "end_time": "2025-07-28T10:46:32.891369",
     "exception": false,
     "start_time": "2025-07-28T10:46:32.871411",
     "status": "completed"
    },
    "tags": []
   },
   "source": [
    "# Preprocessing Data"
   ]
  },
  {
   "cell_type": "code",
   "execution_count": 22,
   "id": "ca879031",
   "metadata": {
    "execution": {
     "iopub.execute_input": "2025-07-28T10:46:32.931856Z",
     "iopub.status.busy": "2025-07-28T10:46:32.931012Z",
     "iopub.status.idle": "2025-07-28T10:46:32.937315Z",
     "shell.execute_reply": "2025-07-28T10:46:32.936404Z"
    },
    "papermill": {
     "duration": 0.028438,
     "end_time": "2025-07-28T10:46:32.939068",
     "exception": false,
     "start_time": "2025-07-28T10:46:32.910630",
     "status": "completed"
    },
    "tags": []
   },
   "outputs": [],
   "source": [
    "# EXCLUDE PROTECTED FEATURES\n",
    "# ----------------------\n",
    "# \"exclude_features\": \"none\", # \"nationality\", \"sex\", \"nationality-sex\"\n",
    "\n",
    "excluded_features = universe[\"exclude_features\"].split(\"-\") # split, e.g.: \"nationality-sex\" -> [\"nationality\", \"sex\"]\n",
    "excluded_features_dictionary = {\n",
    "    \"nationality\": [\"maxdeutsch1\", \"maxdeutsch.Missing.\"],\n",
    "    \"sex\": [\"frau1\"],\n",
    "    \"age\": [\"age\"],\n",
    "}\n"
   ]
  },
  {
   "cell_type": "code",
   "execution_count": 23,
   "id": "b745ac60",
   "metadata": {
    "execution": {
     "iopub.execute_input": "2025-07-28T10:46:32.980802Z",
     "iopub.status.busy": "2025-07-28T10:46:32.980358Z",
     "iopub.status.idle": "2025-07-28T10:46:32.985680Z",
     "shell.execute_reply": "2025-07-28T10:46:32.984772Z"
    },
    "papermill": {
     "duration": 0.028319,
     "end_time": "2025-07-28T10:46:32.987207",
     "exception": false,
     "start_time": "2025-07-28T10:46:32.958888",
     "status": "completed"
    },
    "tags": []
   },
   "outputs": [],
   "source": [
    "# Code nice names to column names\n",
    "\n",
    "excluded_features_columns = [\n",
    "    excluded_features_dictionary[f] for f in excluded_features if len(f) > 0 and f != \"none\"\n",
    "]"
   ]
  },
  {
   "cell_type": "code",
   "execution_count": 24,
   "id": "f84f73a2",
   "metadata": {
    "execution": {
     "iopub.execute_input": "2025-07-28T10:46:33.028583Z",
     "iopub.status.busy": "2025-07-28T10:46:33.028138Z",
     "iopub.status.idle": "2025-07-28T10:46:33.034626Z",
     "shell.execute_reply": "2025-07-28T10:46:33.033724Z"
    },
    "papermill": {
     "duration": 0.029017,
     "end_time": "2025-07-28T10:46:33.036272",
     "exception": false,
     "start_time": "2025-07-28T10:46:33.007255",
     "status": "completed"
    },
    "tags": []
   },
   "outputs": [],
   "source": [
    "from utils import flatten_once\n",
    "\n",
    "excluded_features_columns = flatten_once(excluded_features_columns)"
   ]
  },
  {
   "cell_type": "code",
   "execution_count": 25,
   "id": "884dea22",
   "metadata": {
    "execution": {
     "iopub.execute_input": "2025-07-28T10:46:33.078199Z",
     "iopub.status.busy": "2025-07-28T10:46:33.077429Z",
     "iopub.status.idle": "2025-07-28T10:46:33.083123Z",
     "shell.execute_reply": "2025-07-28T10:46:33.082201Z"
    },
    "papermill": {
     "duration": 0.028286,
     "end_time": "2025-07-28T10:46:33.084746",
     "exception": false,
     "start_time": "2025-07-28T10:46:33.056460",
     "status": "completed"
    },
    "tags": []
   },
   "outputs": [],
   "source": [
    "if len(excluded_features_columns) > 0:\n",
    "    print(f\"Dropping features: {excluded_features_columns}\")\n",
    "    X_train.drop(excluded_features_columns, axis=1, inplace=True)"
   ]
  },
  {
   "cell_type": "code",
   "execution_count": 26,
   "id": "95ab8b16",
   "metadata": {
    "execution": {
     "iopub.execute_input": "2025-07-28T10:46:33.126834Z",
     "iopub.status.busy": "2025-07-28T10:46:33.126077Z",
     "iopub.status.idle": "2025-07-28T10:46:33.131929Z",
     "shell.execute_reply": "2025-07-28T10:46:33.130962Z"
    },
    "papermill": {
     "duration": 0.028525,
     "end_time": "2025-07-28T10:46:33.133520",
     "exception": false,
     "start_time": "2025-07-28T10:46:33.104995",
     "status": "completed"
    },
    "tags": []
   },
   "outputs": [],
   "source": [
    "if len(excluded_features_columns) > 0:\n",
    "    print(f\"Dropping features: {excluded_features_columns}\")\n",
    "    X_test.drop(excluded_features_columns, axis=1, inplace=True)"
   ]
  },
  {
   "cell_type": "code",
   "execution_count": 27,
   "id": "1853aaf5-fb9f-46cb-a2b5-8ea4ae2237e4",
   "metadata": {
    "execution": {
     "iopub.execute_input": "2025-07-28T10:46:33.178043Z",
     "iopub.status.busy": "2025-07-28T10:46:33.177404Z",
     "iopub.status.idle": "2025-07-28T10:46:33.182963Z",
     "shell.execute_reply": "2025-07-28T10:46:33.182048Z"
    },
    "papermill": {
     "duration": 0.030655,
     "end_time": "2025-07-28T10:46:33.184611",
     "exception": false,
     "start_time": "2025-07-28T10:46:33.153956",
     "status": "completed"
    },
    "tags": []
   },
   "outputs": [],
   "source": [
    "if len(excluded_features_columns) > 0:\n",
    "    print(f\"Dropping features: {excluded_features_columns}\")\n",
    "    X_calib.drop(excluded_features_columns, axis=1, inplace=True)"
   ]
  },
  {
   "cell_type": "code",
   "execution_count": 28,
   "id": "6727d079-03e5-481e-9d38-292a90b7a0a8",
   "metadata": {
    "execution": {
     "iopub.execute_input": "2025-07-28T10:46:33.225973Z",
     "iopub.status.busy": "2025-07-28T10:46:33.225126Z",
     "iopub.status.idle": "2025-07-28T10:46:33.230174Z",
     "shell.execute_reply": "2025-07-28T10:46:33.229298Z"
    },
    "papermill": {
     "duration": 0.027152,
     "end_time": "2025-07-28T10:46:33.231669",
     "exception": false,
     "start_time": "2025-07-28T10:46:33.204517",
     "status": "completed"
    },
    "tags": []
   },
   "outputs": [],
   "source": [
    "# SPLIT & STRATIFY DATA\n",
    "# ----------------------"
   ]
  },
  {
   "cell_type": "code",
   "execution_count": 29,
   "id": "76c4dc6d",
   "metadata": {
    "execution": {
     "iopub.execute_input": "2025-07-28T10:46:33.273236Z",
     "iopub.status.busy": "2025-07-28T10:46:33.272480Z",
     "iopub.status.idle": "2025-07-28T10:46:33.277675Z",
     "shell.execute_reply": "2025-07-28T10:46:33.276740Z"
    },
    "papermill": {
     "duration": 0.027831,
     "end_time": "2025-07-28T10:46:33.279513",
     "exception": false,
     "start_time": "2025-07-28T10:46:33.251682",
     "status": "completed"
    },
    "tags": []
   },
   "outputs": [],
   "source": [
    "# EXCLUDE CERTAIN SUBGROUPS\n",
    "# ----------------------\n",
    "\n",
    "mode = universe.get(\"exclude_subgroups\", \"keep-all\") \n",
    "# Fetches the exclude_subgroups setting from the universe dict.\n",
    "# Defaults to \"keep-all\" if the key is missing."
   ]
  },
  {
   "cell_type": "code",
   "execution_count": 30,
   "id": "21994072",
   "metadata": {
    "execution": {
     "iopub.execute_input": "2025-07-28T10:46:33.321254Z",
     "iopub.status.busy": "2025-07-28T10:46:33.320392Z",
     "iopub.status.idle": "2025-07-28T10:46:33.327512Z",
     "shell.execute_reply": "2025-07-28T10:46:33.326666Z"
    },
    "papermill": {
     "duration": 0.029181,
     "end_time": "2025-07-28T10:46:33.329124",
     "exception": false,
     "start_time": "2025-07-28T10:46:33.299943",
     "status": "completed"
    },
    "tags": []
   },
   "outputs": [],
   "source": [
    "if mode == \"keep-all\":\n",
    "    keep_mask = pd.Series(True, index=org_train.index)\n",
    "\n",
    "# org_train contains the original feature columns from features_org (in Simson)\n",
    "# features_org contains unprocessed features, for me X_train at beginning ???\n",
    "# For keep-all, creates a boolean Series (keep_mask) of all True, so no rows are removed.\n",
    "\n",
    "elif mode == \"drop-non-german\":\n",
    "    keep_mask = org_train[\"maxdeutsch1\"] == 1 # ??? what about missing values?\n",
    "\n",
    "else:\n",
    "    raise ValueError(f\"Unsupported mode for exclude_subgroups: {mode}\")\n"
   ]
  },
  {
   "cell_type": "code",
   "execution_count": 31,
   "id": "71651440",
   "metadata": {
    "execution": {
     "iopub.execute_input": "2025-07-28T10:46:33.371004Z",
     "iopub.status.busy": "2025-07-28T10:46:33.370200Z",
     "iopub.status.idle": "2025-07-28T10:46:33.377919Z",
     "shell.execute_reply": "2025-07-28T10:46:33.376853Z"
    },
    "papermill": {
     "duration": 0.030619,
     "end_time": "2025-07-28T10:46:33.379866",
     "exception": false,
     "start_time": "2025-07-28T10:46:33.349247",
     "status": "completed"
    },
    "tags": []
   },
   "outputs": [
    {
     "name": "stdout",
     "output_type": "stream",
     "text": [
      "Dropping 131 rows (13.10%) where mode='drop-non-german'\n"
     ]
    }
   ],
   "source": [
    "n_drop = (~keep_mask).sum() # Calculates how many rows are set to be dropped\n",
    "if n_drop > 0:\n",
    "    pct = n_drop / len(keep_mask) * 100\n",
    "    print(f\"Dropping {n_drop} rows ({pct:.2f}%) where mode='{mode}'\")"
   ]
  },
  {
   "cell_type": "code",
   "execution_count": 32,
   "id": "5fb8eee5",
   "metadata": {
    "execution": {
     "iopub.execute_input": "2025-07-28T10:46:33.423917Z",
     "iopub.status.busy": "2025-07-28T10:46:33.423122Z",
     "iopub.status.idle": "2025-07-28T10:46:33.431231Z",
     "shell.execute_reply": "2025-07-28T10:46:33.430057Z"
    },
    "papermill": {
     "duration": 0.031827,
     "end_time": "2025-07-28T10:46:33.433034",
     "exception": false,
     "start_time": "2025-07-28T10:46:33.401207",
     "status": "completed"
    },
    "tags": []
   },
   "outputs": [],
   "source": [
    "X_train = X_train[keep_mask]"
   ]
  },
  {
   "cell_type": "code",
   "execution_count": 33,
   "id": "b202bb3a",
   "metadata": {
    "execution": {
     "iopub.execute_input": "2025-07-28T10:46:33.479694Z",
     "iopub.status.busy": "2025-07-28T10:46:33.478972Z",
     "iopub.status.idle": "2025-07-28T10:46:33.486386Z",
     "shell.execute_reply": "2025-07-28T10:46:33.485350Z"
    },
    "papermill": {
     "duration": 0.03168,
     "end_time": "2025-07-28T10:46:33.488095",
     "exception": false,
     "start_time": "2025-07-28T10:46:33.456415",
     "status": "completed"
    },
    "tags": []
   },
   "outputs": [],
   "source": [
    "y_train = y_train[keep_mask]"
   ]
  },
  {
   "cell_type": "markdown",
   "id": "493e2ac3",
   "metadata": {
    "papermill": {
     "duration": 0.021286,
     "end_time": "2025-07-28T10:46:33.531287",
     "exception": false,
     "start_time": "2025-07-28T10:46:33.510001",
     "status": "completed"
    },
    "tags": []
   },
   "source": [
    "# Model Training"
   ]
  },
  {
   "cell_type": "code",
   "execution_count": 34,
   "id": "679e1268",
   "metadata": {
    "execution": {
     "iopub.execute_input": "2025-07-28T10:46:33.577057Z",
     "iopub.status.busy": "2025-07-28T10:46:33.576317Z",
     "iopub.status.idle": "2025-07-28T10:46:33.670906Z",
     "shell.execute_reply": "2025-07-28T10:46:33.670018Z"
    },
    "papermill": {
     "duration": 0.120351,
     "end_time": "2025-07-28T10:46:33.673067",
     "exception": false,
     "start_time": "2025-07-28T10:46:33.552716",
     "status": "completed"
    },
    "tags": []
   },
   "outputs": [],
   "source": [
    "from sklearn.linear_model import LogisticRegression\n",
    "from sklearn.ensemble import GradientBoostingClassifier, RandomForestClassifier\n",
    "\n",
    "if (universe[\"model\"] == \"logreg\"):\n",
    "    model = LogisticRegression() #penalty=\"none\") #, solver=\"newton-cg\", max_iter=1) # include random_state=19 ?\n",
    "elif (universe[\"model\"] == \"penalized_logreg\"):\n",
    "    model = LogisticRegression(penalty=\"l2\", C=1.0) #, solver=\"newton-cg\", max_iter=1)\n",
    "elif (universe[\"model\"] == \"rf\"):\n",
    "    model = RandomForestClassifier(n_estimators=100, n_jobs=-1)\n",
    "elif (universe[\"model\"] == \"gbm\"):\n",
    "    model = GradientBoostingClassifier()\n",
    "elif (universe[\"model\"] == \"elasticnet\"):\n",
    "    model = LogisticRegression(penalty = 'elasticnet', solver = 'saga', l1_ratio = 0.5, max_iter=5000) # which solver to use?\n",
    "else:\n",
    "    raise \"Unsupported universe.model\""
   ]
  },
  {
   "cell_type": "code",
   "execution_count": 35,
   "id": "0cc8f744",
   "metadata": {
    "execution": {
     "iopub.execute_input": "2025-07-28T10:46:33.712668Z",
     "iopub.status.busy": "2025-07-28T10:46:33.712211Z",
     "iopub.status.idle": "2025-07-28T10:46:33.718248Z",
     "shell.execute_reply": "2025-07-28T10:46:33.717548Z"
    },
    "papermill": {
     "duration": 0.020473,
     "end_time": "2025-07-28T10:46:33.719636",
     "exception": false,
     "start_time": "2025-07-28T10:46:33.699163",
     "status": "completed"
    },
    "tags": []
   },
   "outputs": [],
   "source": [
    "import numpy as np\n",
    "from sklearn.pipeline import Pipeline\n",
    "from sklearn.preprocessing import StandardScaler\n",
    "\n",
    "model = Pipeline([\n",
    "    #(\"continuous_processor\", continuous_processor),\n",
    "    #(\"categorical_preprocessor\", categorical_preprocessor),\n",
    "    (\"scale\", StandardScaler() if universe[\"scale\"] == \"scale\" else None), \n",
    "    (\"model\", model),\n",
    "])"
   ]
  },
  {
   "cell_type": "code",
   "execution_count": 36,
   "id": "9442c04d",
   "metadata": {
    "execution": {
     "iopub.execute_input": "2025-07-28T10:46:33.745901Z",
     "iopub.status.busy": "2025-07-28T10:46:33.745363Z",
     "iopub.status.idle": "2025-07-28T10:46:36.817742Z",
     "shell.execute_reply": "2025-07-28T10:46:36.816974Z"
    },
    "papermill": {
     "duration": 3.086665,
     "end_time": "2025-07-28T10:46:36.819085",
     "exception": false,
     "start_time": "2025-07-28T10:46:33.732420",
     "status": "completed"
    },
    "tags": []
   },
   "outputs": [
    {
     "data": {
      "text/html": [
       "<style>#sk-container-id-1 {color: black;background-color: white;}#sk-container-id-1 pre{padding: 0;}#sk-container-id-1 div.sk-toggleable {background-color: white;}#sk-container-id-1 label.sk-toggleable__label {cursor: pointer;display: block;width: 100%;margin-bottom: 0;padding: 0.3em;box-sizing: border-box;text-align: center;}#sk-container-id-1 label.sk-toggleable__label-arrow:before {content: \"▸\";float: left;margin-right: 0.25em;color: #696969;}#sk-container-id-1 label.sk-toggleable__label-arrow:hover:before {color: black;}#sk-container-id-1 div.sk-estimator:hover label.sk-toggleable__label-arrow:before {color: black;}#sk-container-id-1 div.sk-toggleable__content {max-height: 0;max-width: 0;overflow: hidden;text-align: left;background-color: #f0f8ff;}#sk-container-id-1 div.sk-toggleable__content pre {margin: 0.2em;color: black;border-radius: 0.25em;background-color: #f0f8ff;}#sk-container-id-1 input.sk-toggleable__control:checked~div.sk-toggleable__content {max-height: 200px;max-width: 100%;overflow: auto;}#sk-container-id-1 input.sk-toggleable__control:checked~label.sk-toggleable__label-arrow:before {content: \"▾\";}#sk-container-id-1 div.sk-estimator input.sk-toggleable__control:checked~label.sk-toggleable__label {background-color: #d4ebff;}#sk-container-id-1 div.sk-label input.sk-toggleable__control:checked~label.sk-toggleable__label {background-color: #d4ebff;}#sk-container-id-1 input.sk-hidden--visually {border: 0;clip: rect(1px 1px 1px 1px);clip: rect(1px, 1px, 1px, 1px);height: 1px;margin: -1px;overflow: hidden;padding: 0;position: absolute;width: 1px;}#sk-container-id-1 div.sk-estimator {font-family: monospace;background-color: #f0f8ff;border: 1px dotted black;border-radius: 0.25em;box-sizing: border-box;margin-bottom: 0.5em;}#sk-container-id-1 div.sk-estimator:hover {background-color: #d4ebff;}#sk-container-id-1 div.sk-parallel-item::after {content: \"\";width: 100%;border-bottom: 1px solid gray;flex-grow: 1;}#sk-container-id-1 div.sk-label:hover label.sk-toggleable__label {background-color: #d4ebff;}#sk-container-id-1 div.sk-serial::before {content: \"\";position: absolute;border-left: 1px solid gray;box-sizing: border-box;top: 0;bottom: 0;left: 50%;z-index: 0;}#sk-container-id-1 div.sk-serial {display: flex;flex-direction: column;align-items: center;background-color: white;padding-right: 0.2em;padding-left: 0.2em;position: relative;}#sk-container-id-1 div.sk-item {position: relative;z-index: 1;}#sk-container-id-1 div.sk-parallel {display: flex;align-items: stretch;justify-content: center;background-color: white;position: relative;}#sk-container-id-1 div.sk-item::before, #sk-container-id-1 div.sk-parallel-item::before {content: \"\";position: absolute;border-left: 1px solid gray;box-sizing: border-box;top: 0;bottom: 0;left: 50%;z-index: -1;}#sk-container-id-1 div.sk-parallel-item {display: flex;flex-direction: column;z-index: 1;position: relative;background-color: white;}#sk-container-id-1 div.sk-parallel-item:first-child::after {align-self: flex-end;width: 50%;}#sk-container-id-1 div.sk-parallel-item:last-child::after {align-self: flex-start;width: 50%;}#sk-container-id-1 div.sk-parallel-item:only-child::after {width: 0;}#sk-container-id-1 div.sk-dashed-wrapped {border: 1px dashed gray;margin: 0 0.4em 0.5em 0.4em;box-sizing: border-box;padding-bottom: 0.4em;background-color: white;}#sk-container-id-1 div.sk-label label {font-family: monospace;font-weight: bold;display: inline-block;line-height: 1.2em;}#sk-container-id-1 div.sk-label-container {text-align: center;}#sk-container-id-1 div.sk-container {/* jupyter's `normalize.less` sets `[hidden] { display: none; }` but bootstrap.min.css set `[hidden] { display: none !important; }` so we also need the `!important` here to be able to override the default hidden behavior on the sphinx rendered scikit-learn.org. See: https://github.com/scikit-learn/scikit-learn/issues/21755 */display: inline-block !important;position: relative;}#sk-container-id-1 div.sk-text-repr-fallback {display: none;}</style><div id=\"sk-container-id-1\" class=\"sk-top-container\"><div class=\"sk-text-repr-fallback\"><pre>Pipeline(steps=[(&#x27;scale&#x27;, StandardScaler()),\n",
       "                (&#x27;model&#x27;,\n",
       "                 LogisticRegression(l1_ratio=0.5, max_iter=5000,\n",
       "                                    penalty=&#x27;elasticnet&#x27;, solver=&#x27;saga&#x27;))])</pre><b>In a Jupyter environment, please rerun this cell to show the HTML representation or trust the notebook. <br />On GitHub, the HTML representation is unable to render, please try loading this page with nbviewer.org.</b></div><div class=\"sk-container\" hidden><div class=\"sk-item sk-dashed-wrapped\"><div class=\"sk-label-container\"><div class=\"sk-label sk-toggleable\"><input class=\"sk-toggleable__control sk-hidden--visually\" id=\"sk-estimator-id-1\" type=\"checkbox\" ><label for=\"sk-estimator-id-1\" class=\"sk-toggleable__label sk-toggleable__label-arrow\">Pipeline</label><div class=\"sk-toggleable__content\"><pre>Pipeline(steps=[(&#x27;scale&#x27;, StandardScaler()),\n",
       "                (&#x27;model&#x27;,\n",
       "                 LogisticRegression(l1_ratio=0.5, max_iter=5000,\n",
       "                                    penalty=&#x27;elasticnet&#x27;, solver=&#x27;saga&#x27;))])</pre></div></div></div><div class=\"sk-serial\"><div class=\"sk-item\"><div class=\"sk-estimator sk-toggleable\"><input class=\"sk-toggleable__control sk-hidden--visually\" id=\"sk-estimator-id-2\" type=\"checkbox\" ><label for=\"sk-estimator-id-2\" class=\"sk-toggleable__label sk-toggleable__label-arrow\">StandardScaler</label><div class=\"sk-toggleable__content\"><pre>StandardScaler()</pre></div></div></div><div class=\"sk-item\"><div class=\"sk-estimator sk-toggleable\"><input class=\"sk-toggleable__control sk-hidden--visually\" id=\"sk-estimator-id-3\" type=\"checkbox\" ><label for=\"sk-estimator-id-3\" class=\"sk-toggleable__label sk-toggleable__label-arrow\">LogisticRegression</label><div class=\"sk-toggleable__content\"><pre>LogisticRegression(l1_ratio=0.5, max_iter=5000, penalty=&#x27;elasticnet&#x27;,\n",
       "                   solver=&#x27;saga&#x27;)</pre></div></div></div></div></div></div></div>"
      ],
      "text/plain": [
       "Pipeline(steps=[('scale', StandardScaler()),\n",
       "                ('model',\n",
       "                 LogisticRegression(l1_ratio=0.5, max_iter=5000,\n",
       "                                    penalty='elasticnet', solver='saga'))])"
      ]
     },
     "execution_count": 36,
     "metadata": {},
     "output_type": "execute_result"
    }
   ],
   "source": [
    "model.fit(X_train, y_train.values.ravel())"
   ]
  },
  {
   "cell_type": "code",
   "execution_count": 37,
   "id": "af59f8c0",
   "metadata": {
    "execution": {
     "iopub.execute_input": "2025-07-28T10:46:36.843955Z",
     "iopub.status.busy": "2025-07-28T10:46:36.843629Z",
     "iopub.status.idle": "2025-07-28T10:46:36.848330Z",
     "shell.execute_reply": "2025-07-28T10:46:36.847528Z"
    },
    "papermill": {
     "duration": 0.018244,
     "end_time": "2025-07-28T10:46:36.849719",
     "exception": false,
     "start_time": "2025-07-28T10:46:36.831475",
     "status": "completed"
    },
    "tags": []
   },
   "outputs": [],
   "source": [
    "from fairness_multiverse.universe import predict_w_threshold"
   ]
  },
  {
   "cell_type": "code",
   "execution_count": 38,
   "id": "a7cf2e16",
   "metadata": {
    "execution": {
     "iopub.execute_input": "2025-07-28T10:46:36.885741Z",
     "iopub.status.busy": "2025-07-28T10:46:36.885117Z",
     "iopub.status.idle": "2025-07-28T10:46:37.090340Z",
     "shell.execute_reply": "2025-07-28T10:46:37.089412Z"
    },
    "papermill": {
     "duration": 0.219736,
     "end_time": "2025-07-28T10:46:37.092075",
     "exception": false,
     "start_time": "2025-07-28T10:46:36.872339",
     "status": "completed"
    },
    "tags": []
   },
   "outputs": [
    {
     "data": {
      "text/plain": [
       "0.8275888975588006"
      ]
     },
     "execution_count": 38,
     "metadata": {},
     "output_type": "execute_result"
    }
   ],
   "source": [
    "probs_test = model.predict_proba(X_test)\n",
    "\n",
    "'''\n",
    "Below code returns a boolean array (or binary 0/1 array depending on how it’s used) where each element \n",
    "is True if the probability of class 1 is greater than or equal to the threshold, and False otherwise.\n",
    "'''\n",
    "y_pred_default = predict_w_threshold(probs_test, 0.5)\n",
    "\n",
    "from sklearn.metrics import accuracy_score\n",
    "\n",
    "# Naive prediction\n",
    "accuracy_score(y_true = y_true, y_pred = y_pred_default)"
   ]
  },
  {
   "cell_type": "code",
   "execution_count": 39,
   "id": "081964c3",
   "metadata": {
    "execution": {
     "iopub.execute_input": "2025-07-28T10:46:37.141227Z",
     "iopub.status.busy": "2025-07-28T10:46:37.140486Z",
     "iopub.status.idle": "2025-07-28T10:46:37.341907Z",
     "shell.execute_reply": "2025-07-28T10:46:37.341136Z"
    },
    "papermill": {
     "duration": 0.228037,
     "end_time": "2025-07-28T10:46:37.343502",
     "exception": false,
     "start_time": "2025-07-28T10:46:37.115465",
     "status": "completed"
    },
    "tags": []
   },
   "outputs": [
    {
     "data": {
      "text/plain": [
       "array([0, 0, 0, ..., 0, 0, 0])"
      ]
     },
     "execution_count": 39,
     "metadata": {},
     "output_type": "execute_result"
    }
   ],
   "source": [
    "model.predict(X_test)"
   ]
  },
  {
   "cell_type": "markdown",
   "id": "56c9705b",
   "metadata": {
    "papermill": {
     "duration": 0.022599,
     "end_time": "2025-07-28T10:46:37.390373",
     "exception": false,
     "start_time": "2025-07-28T10:46:37.367774",
     "status": "completed"
    },
    "tags": []
   },
   "source": [
    "# Conformal Prediction"
   ]
  },
  {
   "cell_type": "code",
   "execution_count": 40,
   "id": "160ec6ff",
   "metadata": {
    "execution": {
     "iopub.execute_input": "2025-07-28T10:46:37.439721Z",
     "iopub.status.busy": "2025-07-28T10:46:37.438914Z",
     "iopub.status.idle": "2025-07-28T10:46:37.444758Z",
     "shell.execute_reply": "2025-07-28T10:46:37.443806Z"
    },
    "papermill": {
     "duration": 0.0328,
     "end_time": "2025-07-28T10:46:37.446410",
     "exception": false,
     "start_time": "2025-07-28T10:46:37.413610",
     "status": "completed"
    },
    "tags": []
   },
   "outputs": [],
   "source": [
    "# Miscoverage level for conformal prediction (10% allowed error rate => 90% target coverage)\n",
    "alpha = 0.1"
   ]
  },
  {
   "cell_type": "code",
   "execution_count": 41,
   "id": "eadf4555-3dd3-440e-8e35-f82a4ad9f855",
   "metadata": {
    "execution": {
     "iopub.execute_input": "2025-07-28T10:46:37.494432Z",
     "iopub.status.busy": "2025-07-28T10:46:37.493529Z",
     "iopub.status.idle": "2025-07-28T10:46:37.676776Z",
     "shell.execute_reply": "2025-07-28T10:46:37.675701Z"
    },
    "papermill": {
     "duration": 0.209841,
     "end_time": "2025-07-28T10:46:37.678966",
     "exception": false,
     "start_time": "2025-07-28T10:46:37.469125",
     "status": "completed"
    },
    "tags": []
   },
   "outputs": [],
   "source": [
    "probs_calib = model.predict_proba(X_calib)"
   ]
  },
  {
   "cell_type": "code",
   "execution_count": 42,
   "id": "2ed93547-6d5d-4983-9b36-1ecb300da49a",
   "metadata": {
    "execution": {
     "iopub.execute_input": "2025-07-28T10:46:37.732963Z",
     "iopub.status.busy": "2025-07-28T10:46:37.732403Z",
     "iopub.status.idle": "2025-07-28T10:46:37.738388Z",
     "shell.execute_reply": "2025-07-28T10:46:37.737417Z"
    },
    "papermill": {
     "duration": 0.034924,
     "end_time": "2025-07-28T10:46:37.740322",
     "exception": false,
     "start_time": "2025-07-28T10:46:37.705398",
     "status": "completed"
    },
    "tags": []
   },
   "outputs": [],
   "source": [
    "y_calib = y_calib.values.ravel().astype(int)"
   ]
  },
  {
   "cell_type": "code",
   "execution_count": 43,
   "id": "65d1320d-f588-4b38-9072-62af1ae97f7d",
   "metadata": {
    "execution": {
     "iopub.execute_input": "2025-07-28T10:46:37.796330Z",
     "iopub.status.busy": "2025-07-28T10:46:37.793079Z",
     "iopub.status.idle": "2025-07-28T10:46:37.803304Z",
     "shell.execute_reply": "2025-07-28T10:46:37.802248Z"
    },
    "papermill": {
     "duration": 0.038794,
     "end_time": "2025-07-28T10:46:37.805034",
     "exception": false,
     "start_time": "2025-07-28T10:46:37.766240",
     "status": "completed"
    },
    "tags": []
   },
   "outputs": [],
   "source": [
    "from fairness_multiverse.conformal import compute_nc_scores\n",
    "\n",
    "# Compute nonconformity scores on calibration set (1 - probability of true class)\n",
    "nc_scores = compute_nc_scores(probs_calib, y_calib)"
   ]
  },
  {
   "cell_type": "code",
   "execution_count": 44,
   "id": "df3b8ca3-53b7-43d5-9667-7c85da7aeda2",
   "metadata": {
    "execution": {
     "iopub.execute_input": "2025-07-28T10:46:37.857746Z",
     "iopub.status.busy": "2025-07-28T10:46:37.856812Z",
     "iopub.status.idle": "2025-07-28T10:46:37.864138Z",
     "shell.execute_reply": "2025-07-28T10:46:37.863132Z"
    },
    "papermill": {
     "duration": 0.034345,
     "end_time": "2025-07-28T10:46:37.865961",
     "exception": false,
     "start_time": "2025-07-28T10:46:37.831616",
     "status": "completed"
    },
    "tags": []
   },
   "outputs": [],
   "source": [
    "from fairness_multiverse.conformal import find_threshold\n",
    "\n",
    "# Find conformal threshold q_hat for the given alpha (split conformal method)\n",
    "q_hat = find_threshold(nc_scores, alpha)"
   ]
  },
  {
   "cell_type": "code",
   "execution_count": 45,
   "id": "4d29e6c1-0ef6-4aa4-b8fe-4fe79b0d033a",
   "metadata": {
    "execution": {
     "iopub.execute_input": "2025-07-28T10:46:37.920092Z",
     "iopub.status.busy": "2025-07-28T10:46:37.919201Z",
     "iopub.status.idle": "2025-07-28T10:46:37.927180Z",
     "shell.execute_reply": "2025-07-28T10:46:37.926174Z"
    },
    "papermill": {
     "duration": 0.036238,
     "end_time": "2025-07-28T10:46:37.928916",
     "exception": false,
     "start_time": "2025-07-28T10:46:37.892678",
     "status": "completed"
    },
    "tags": []
   },
   "outputs": [
    {
     "data": {
      "text/plain": [
       "0.7676170805294849"
      ]
     },
     "execution_count": 45,
     "metadata": {},
     "output_type": "execute_result"
    }
   ],
   "source": [
    "q_hat"
   ]
  },
  {
   "cell_type": "code",
   "execution_count": 46,
   "id": "92460794-cdac-4be2-ba28-f28c0515a6fb",
   "metadata": {
    "execution": {
     "iopub.execute_input": "2025-07-28T10:46:37.983244Z",
     "iopub.status.busy": "2025-07-28T10:46:37.982293Z",
     "iopub.status.idle": "2025-07-28T10:46:38.982213Z",
     "shell.execute_reply": "2025-07-28T10:46:38.981110Z"
    },
    "papermill": {
     "duration": 1.029065,
     "end_time": "2025-07-28T10:46:38.984283",
     "exception": false,
     "start_time": "2025-07-28T10:46:37.955218",
     "status": "completed"
    },
    "tags": []
   },
   "outputs": [],
   "source": [
    "from fairness_multiverse.conformal import predict_conformal_sets\n",
    "\n",
    "# Generate prediction sets for each test example\n",
    "pred_sets = predict_conformal_sets(model, X_test, q_hat)"
   ]
  },
  {
   "cell_type": "code",
   "execution_count": 47,
   "id": "d90c9a65-e6db-4f5d-80cd-e68fb7e46829",
   "metadata": {
    "execution": {
     "iopub.execute_input": "2025-07-28T10:46:39.042807Z",
     "iopub.status.busy": "2025-07-28T10:46:39.041967Z",
     "iopub.status.idle": "2025-07-28T10:46:39.048135Z",
     "shell.execute_reply": "2025-07-28T10:46:39.047133Z"
    },
    "papermill": {
     "duration": 0.034515,
     "end_time": "2025-07-28T10:46:39.049857",
     "exception": false,
     "start_time": "2025-07-28T10:46:39.015342",
     "status": "completed"
    },
    "tags": []
   },
   "outputs": [],
   "source": [
    "y_true = y_true.squeeze()"
   ]
  },
  {
   "cell_type": "code",
   "execution_count": 48,
   "id": "3a58a54a-1e68-46b9-927a-df01f18aebc8",
   "metadata": {
    "execution": {
     "iopub.execute_input": "2025-07-28T10:46:39.098957Z",
     "iopub.status.busy": "2025-07-28T10:46:39.098480Z",
     "iopub.status.idle": "2025-07-28T10:46:40.067634Z",
     "shell.execute_reply": "2025-07-28T10:46:40.066537Z"
    },
    "papermill": {
     "duration": 0.995749,
     "end_time": "2025-07-28T10:46:40.070165",
     "exception": false,
     "start_time": "2025-07-28T10:46:39.074416",
     "status": "completed"
    },
    "tags": []
   },
   "outputs": [],
   "source": [
    "from fairness_multiverse.conformal import evaluate_sets\n",
    "\n",
    "# Evaluate coverage and average set size on test data\n",
    "metrics = evaluate_sets(pred_sets, y_true)"
   ]
  },
  {
   "cell_type": "markdown",
   "id": "2b569c12-9aaa-4c88-98c9-bbcd0cf3ebb8",
   "metadata": {
    "papermill": {
     "duration": 0.029728,
     "end_time": "2025-07-28T10:46:40.129780",
     "exception": false,
     "start_time": "2025-07-28T10:46:40.100052",
     "status": "completed"
    },
    "tags": []
   },
   "source": [
    "# CP Metrics"
   ]
  },
  {
   "cell_type": "code",
   "execution_count": 49,
   "id": "5ce0a5cb-201f-45a0-ade5-94c7f0bd6095",
   "metadata": {
    "execution": {
     "iopub.execute_input": "2025-07-28T10:46:40.191291Z",
     "iopub.status.busy": "2025-07-28T10:46:40.190578Z",
     "iopub.status.idle": "2025-07-28T10:46:40.198899Z",
     "shell.execute_reply": "2025-07-28T10:46:40.197972Z"
    },
    "papermill": {
     "duration": 0.041114,
     "end_time": "2025-07-28T10:46:40.200749",
     "exception": false,
     "start_time": "2025-07-28T10:46:40.159635",
     "status": "completed"
    },
    "tags": []
   },
   "outputs": [
    {
     "data": {
      "text/plain": [
       "{'coverage': 0.909474974919184, 'avg_size': 1.218738156281351}"
      ]
     },
     "execution_count": 49,
     "metadata": {},
     "output_type": "execute_result"
    }
   ],
   "source": [
    "metrics"
   ]
  },
  {
   "cell_type": "code",
   "execution_count": 50,
   "id": "9b9a838d-31c9-430b-ae14-12baee460d17",
   "metadata": {
    "execution": {
     "iopub.execute_input": "2025-07-28T10:46:40.251204Z",
     "iopub.status.busy": "2025-07-28T10:46:40.250294Z",
     "iopub.status.idle": "2025-07-28T10:46:40.257237Z",
     "shell.execute_reply": "2025-07-28T10:46:40.256054Z"
    },
    "papermill": {
     "duration": 0.033588,
     "end_time": "2025-07-28T10:46:40.259410",
     "exception": false,
     "start_time": "2025-07-28T10:46:40.225822",
     "status": "completed"
    },
    "tags": []
   },
   "outputs": [],
   "source": [
    "example_universe = universe.copy()\n",
    "universe_training_size = example_universe.get(\"training_size\")\n",
    "universe_scale = example_universe.get(\"scale\")\n",
    "universe_model = example_universe.get(\"model\")\n",
    "universe_exclude_features = example_universe.get(\"exclude_features\")\n",
    "universe_exclude_subgroups = example_universe.get(\"exclude_subgroups\")"
   ]
  },
  {
   "cell_type": "code",
   "execution_count": 51,
   "id": "f4b6a8ac-9dc0-4245-8a91-5b3b5999c4f9",
   "metadata": {
    "execution": {
     "iopub.execute_input": "2025-07-28T10:46:40.322745Z",
     "iopub.status.busy": "2025-07-28T10:46:40.321986Z",
     "iopub.status.idle": "2025-07-28T10:46:40.329026Z",
     "shell.execute_reply": "2025-07-28T10:46:40.327942Z"
    },
    "papermill": {
     "duration": 0.041093,
     "end_time": "2025-07-28T10:46:40.331113",
     "exception": false,
     "start_time": "2025-07-28T10:46:40.290020",
     "status": "completed"
    },
    "tags": []
   },
   "outputs": [],
   "source": [
    "cp_metrics_dict = {\n",
    "    \"universe_id\": [universe_id],\n",
    "    \"universe_training_size\": [universe_training_size],\n",
    "    \"universe_scale\": [universe_scale],\n",
    "    \"universe_model\": [universe_model],\n",
    "    \"universe_exclude_features\": [universe_exclude_features],\n",
    "    \"universe_exclude_subgroups\": [universe_exclude_subgroups],\n",
    "    \"q_hat\": [q_hat],\n",
    "    \"coverage\": [metrics[\"coverage\"]],\n",
    "    \"avg_size\": [metrics[\"avg_size\"]],\n",
    "}"
   ]
  },
  {
   "cell_type": "code",
   "execution_count": 52,
   "id": "908acbb1-0371-4915-85ca-3fa520d2efe2",
   "metadata": {
    "execution": {
     "iopub.execute_input": "2025-07-28T10:46:40.393690Z",
     "iopub.status.busy": "2025-07-28T10:46:40.393139Z",
     "iopub.status.idle": "2025-07-28T10:46:40.402278Z",
     "shell.execute_reply": "2025-07-28T10:46:40.401213Z"
    },
    "papermill": {
     "duration": 0.042338,
     "end_time": "2025-07-28T10:46:40.403868",
     "exception": false,
     "start_time": "2025-07-28T10:46:40.361530",
     "status": "completed"
    },
    "tags": []
   },
   "outputs": [
    {
     "data": {
      "text/plain": [
       "{'universe_id': ['5bebb190469cc915206b8c99cc16d684'],\n",
       " 'universe_training_size': ['1k'],\n",
       " 'universe_scale': ['scale'],\n",
       " 'universe_model': ['elasticnet'],\n",
       " 'universe_exclude_features': ['none'],\n",
       " 'universe_exclude_subgroups': ['drop-non-german'],\n",
       " 'q_hat': [0.7676170805294849],\n",
       " 'coverage': [0.909474974919184],\n",
       " 'avg_size': [1.218738156281351]}"
      ]
     },
     "execution_count": 52,
     "metadata": {},
     "output_type": "execute_result"
    }
   ],
   "source": [
    "cp_metrics_dict"
   ]
  },
  {
   "cell_type": "code",
   "execution_count": 53,
   "id": "33007efc-14e9-4ec6-97ac-56a455c82265",
   "metadata": {
    "execution": {
     "iopub.execute_input": "2025-07-28T10:46:40.453777Z",
     "iopub.status.busy": "2025-07-28T10:46:40.453149Z",
     "iopub.status.idle": "2025-07-28T10:46:40.460502Z",
     "shell.execute_reply": "2025-07-28T10:46:40.459432Z"
    },
    "papermill": {
     "duration": 0.035777,
     "end_time": "2025-07-28T10:46:40.462817",
     "exception": false,
     "start_time": "2025-07-28T10:46:40.427040",
     "status": "completed"
    },
    "tags": []
   },
   "outputs": [],
   "source": [
    "cp_metrics_df = pd.DataFrame(cp_metrics_dict)"
   ]
  },
  {
   "cell_type": "code",
   "execution_count": 54,
   "id": "db12611b-57b2-4910-b9d0-355adfd6e7bf",
   "metadata": {
    "execution": {
     "iopub.execute_input": "2025-07-28T10:46:40.529022Z",
     "iopub.status.busy": "2025-07-28T10:46:40.528514Z",
     "iopub.status.idle": "2025-07-28T10:46:40.551921Z",
     "shell.execute_reply": "2025-07-28T10:46:40.550773Z"
    },
    "papermill": {
     "duration": 0.057625,
     "end_time": "2025-07-28T10:46:40.554169",
     "exception": false,
     "start_time": "2025-07-28T10:46:40.496544",
     "status": "completed"
    },
    "tags": []
   },
   "outputs": [
    {
     "data": {
      "text/html": [
       "<div>\n",
       "<style scoped>\n",
       "    .dataframe tbody tr th:only-of-type {\n",
       "        vertical-align: middle;\n",
       "    }\n",
       "\n",
       "    .dataframe tbody tr th {\n",
       "        vertical-align: top;\n",
       "    }\n",
       "\n",
       "    .dataframe thead th {\n",
       "        text-align: right;\n",
       "    }\n",
       "</style>\n",
       "<table border=\"1\" class=\"dataframe\">\n",
       "  <thead>\n",
       "    <tr style=\"text-align: right;\">\n",
       "      <th></th>\n",
       "      <th>universe_id</th>\n",
       "      <th>universe_training_size</th>\n",
       "      <th>universe_scale</th>\n",
       "      <th>universe_model</th>\n",
       "      <th>universe_exclude_features</th>\n",
       "      <th>universe_exclude_subgroups</th>\n",
       "      <th>q_hat</th>\n",
       "      <th>coverage</th>\n",
       "      <th>avg_size</th>\n",
       "    </tr>\n",
       "  </thead>\n",
       "  <tbody>\n",
       "    <tr>\n",
       "      <th>0</th>\n",
       "      <td>5bebb190469cc915206b8c99cc16d684</td>\n",
       "      <td>1k</td>\n",
       "      <td>scale</td>\n",
       "      <td>elasticnet</td>\n",
       "      <td>none</td>\n",
       "      <td>drop-non-german</td>\n",
       "      <td>0.767617</td>\n",
       "      <td>0.909475</td>\n",
       "      <td>1.218738</td>\n",
       "    </tr>\n",
       "  </tbody>\n",
       "</table>\n",
       "</div>"
      ],
      "text/plain": [
       "                        universe_id universe_training_size universe_scale  \\\n",
       "0  5bebb190469cc915206b8c99cc16d684                     1k          scale   \n",
       "\n",
       "  universe_model universe_exclude_features universe_exclude_subgroups  \\\n",
       "0     elasticnet                      none            drop-non-german   \n",
       "\n",
       "      q_hat  coverage  avg_size  \n",
       "0  0.767617  0.909475  1.218738  "
      ]
     },
     "execution_count": 54,
     "metadata": {},
     "output_type": "execute_result"
    }
   ],
   "source": [
    "cp_metrics_df"
   ]
  },
  {
   "cell_type": "code",
   "execution_count": 55,
   "id": "b7fbde55-a0a1-47e4-9af6-fe4a17fa8c61",
   "metadata": {
    "execution": {
     "iopub.execute_input": "2025-07-28T10:46:40.614682Z",
     "iopub.status.busy": "2025-07-28T10:46:40.614054Z",
     "iopub.status.idle": "2025-07-28T10:46:40.619929Z",
     "shell.execute_reply": "2025-07-28T10:46:40.618843Z"
    },
    "papermill": {
     "duration": 0.036472,
     "end_time": "2025-07-28T10:46:40.621747",
     "exception": false,
     "start_time": "2025-07-28T10:46:40.585275",
     "status": "completed"
    },
    "tags": []
   },
   "outputs": [],
   "source": [
    "# Conditional Coverage & looking at subgroups"
   ]
  },
  {
   "cell_type": "code",
   "execution_count": 56,
   "id": "027ae886-68dd-4141-96c7-805a5450e1ef",
   "metadata": {
    "execution": {
     "iopub.execute_input": "2025-07-28T10:46:40.679083Z",
     "iopub.status.busy": "2025-07-28T10:46:40.678526Z",
     "iopub.status.idle": "2025-07-28T10:46:40.951659Z",
     "shell.execute_reply": "2025-07-28T10:46:40.950660Z"
    },
    "papermill": {
     "duration": 0.301047,
     "end_time": "2025-07-28T10:46:40.953684",
     "exception": false,
     "start_time": "2025-07-28T10:46:40.652637",
     "status": "completed"
    },
    "tags": []
   },
   "outputs": [],
   "source": [
    "from fairness_multiverse.conformal import build_cp_groups\n",
    "\n",
    "cp_groups_df = build_cp_groups(pred_sets, y_true, X_test.index, org_test)\n",
    "#needs universe_id and setting"
   ]
  },
  {
   "cell_type": "code",
   "execution_count": 57,
   "id": "01d5802c-663a-4d1f-9d69-e036faaffbf7",
   "metadata": {
    "execution": {
     "iopub.execute_input": "2025-07-28T10:46:41.006747Z",
     "iopub.status.busy": "2025-07-28T10:46:41.006258Z",
     "iopub.status.idle": "2025-07-28T10:46:41.011519Z",
     "shell.execute_reply": "2025-07-28T10:46:41.010560Z"
    },
    "papermill": {
     "duration": 0.034505,
     "end_time": "2025-07-28T10:46:41.013195",
     "exception": false,
     "start_time": "2025-07-28T10:46:40.978690",
     "status": "completed"
    },
    "tags": []
   },
   "outputs": [],
   "source": [
    "#delete\n",
    "#cp_groups_df"
   ]
  },
  {
   "cell_type": "code",
   "execution_count": 58,
   "id": "fa424af1-d1eb-443d-b717-2d279ada8408",
   "metadata": {
    "execution": {
     "iopub.execute_input": "2025-07-28T10:46:41.065428Z",
     "iopub.status.busy": "2025-07-28T10:46:41.064898Z",
     "iopub.status.idle": "2025-07-28T10:46:41.069994Z",
     "shell.execute_reply": "2025-07-28T10:46:41.069092Z"
    },
    "papermill": {
     "duration": 0.033105,
     "end_time": "2025-07-28T10:46:41.071701",
     "exception": false,
     "start_time": "2025-07-28T10:46:41.038596",
     "status": "completed"
    },
    "tags": []
   },
   "outputs": [],
   "source": [
    "#delete\n",
    "#percentage = (cp_groups_df['nongerman_female'] == 1).mean() * 100\n",
    "#print(percentage)\n"
   ]
  },
  {
   "cell_type": "code",
   "execution_count": 59,
   "id": "6cbdab96-b2b2-45af-ad54-d0516db2e28d",
   "metadata": {
    "execution": {
     "iopub.execute_input": "2025-07-28T10:46:41.122143Z",
     "iopub.status.busy": "2025-07-28T10:46:41.121200Z",
     "iopub.status.idle": "2025-07-28T10:46:42.977267Z",
     "shell.execute_reply": "2025-07-28T10:46:42.976078Z"
    },
    "papermill": {
     "duration": 1.883118,
     "end_time": "2025-07-28T10:46:42.979337",
     "exception": false,
     "start_time": "2025-07-28T10:46:41.096219",
     "status": "completed"
    },
    "tags": []
   },
   "outputs": [],
   "source": [
    "# Define covered = 1 if true_label is in the predicted set\n",
    "cp_groups_df['covered'] = cp_groups_df.apply(\n",
    "    lambda r: int(r['true_label'] in r['pred_set']),\n",
    "    axis=1\n",
    ")"
   ]
  },
  {
   "cell_type": "code",
   "execution_count": 60,
   "id": "338ff529-1a6b-4b87-a931-8e4788d52aad",
   "metadata": {
    "execution": {
     "iopub.execute_input": "2025-07-28T10:46:43.082075Z",
     "iopub.status.busy": "2025-07-28T10:46:43.081566Z",
     "iopub.status.idle": "2025-07-28T10:46:43.087271Z",
     "shell.execute_reply": "2025-07-28T10:46:43.086233Z"
    },
    "papermill": {
     "duration": 0.079709,
     "end_time": "2025-07-28T10:46:43.089186",
     "exception": false,
     "start_time": "2025-07-28T10:46:43.009477",
     "status": "completed"
    },
    "tags": []
   },
   "outputs": [],
   "source": [
    "#cp_groups_df"
   ]
  },
  {
   "cell_type": "code",
   "execution_count": 61,
   "id": "90032e27-66df-4540-9169-4e89cfbaa758",
   "metadata": {
    "execution": {
     "iopub.execute_input": "2025-07-28T10:46:43.129951Z",
     "iopub.status.busy": "2025-07-28T10:46:43.129508Z",
     "iopub.status.idle": "2025-07-28T10:46:43.139776Z",
     "shell.execute_reply": "2025-07-28T10:46:43.138930Z"
    },
    "papermill": {
     "duration": 0.027524,
     "end_time": "2025-07-28T10:46:43.141331",
     "exception": false,
     "start_time": "2025-07-28T10:46:43.113807",
     "status": "completed"
    },
    "tags": []
   },
   "outputs": [],
   "source": [
    "subgroups = ['frau1','nongerman','nongerman_male','nongerman_female']\n",
    "\n",
    "# Conditional coverage for subgroup==1\n",
    "cond_coverage = {\n",
    "    g: cp_groups_df.loc[cp_groups_df[g]==1, 'covered'].mean()\n",
    "    for g in subgroups\n",
    "}"
   ]
  },
  {
   "cell_type": "code",
   "execution_count": 62,
   "id": "1e348fb1-b9c3-45bc-ba23-f016827a7e0d",
   "metadata": {
    "execution": {
     "iopub.execute_input": "2025-07-28T10:46:43.190748Z",
     "iopub.status.busy": "2025-07-28T10:46:43.190089Z",
     "iopub.status.idle": "2025-07-28T10:46:43.198206Z",
     "shell.execute_reply": "2025-07-28T10:46:43.197115Z"
    },
    "papermill": {
     "duration": 0.037247,
     "end_time": "2025-07-28T10:46:43.199657",
     "exception": false,
     "start_time": "2025-07-28T10:46:43.162410",
     "status": "completed"
    },
    "tags": []
   },
   "outputs": [
    {
     "data": {
      "text/plain": [
       "{'frau1': 0.9090173877881116,\n",
       " 'nongerman': 0.9119182619435244,\n",
       " 'nongerman_male': 0.9267765468792218,\n",
       " 'nongerman_female': 0.8873323397913562}"
      ]
     },
     "execution_count": 62,
     "metadata": {},
     "output_type": "execute_result"
    }
   ],
   "source": [
    "cond_coverage"
   ]
  },
  {
   "cell_type": "code",
   "execution_count": 63,
   "id": "f5093324-c3dd-4d63-bc4c-8d945e5c8bbb",
   "metadata": {
    "execution": {
     "iopub.execute_input": "2025-07-28T10:46:43.229867Z",
     "iopub.status.busy": "2025-07-28T10:46:43.229237Z",
     "iopub.status.idle": "2025-07-28T10:46:43.235128Z",
     "shell.execute_reply": "2025-07-28T10:46:43.234377Z"
    },
    "papermill": {
     "duration": 0.021505,
     "end_time": "2025-07-28T10:46:43.236473",
     "exception": false,
     "start_time": "2025-07-28T10:46:43.214968",
     "status": "completed"
    },
    "tags": []
   },
   "outputs": [],
   "source": [
    "for subgroup, cov in cond_coverage.items():\n",
    "    cp_metrics_df[f\"cov_{subgroup}\"] = cov"
   ]
  },
  {
   "cell_type": "code",
   "execution_count": 64,
   "id": "6e872e10-dbe5-49e8-b554-5030c98ff75d",
   "metadata": {
    "execution": {
     "iopub.execute_input": "2025-07-28T10:46:43.267127Z",
     "iopub.status.busy": "2025-07-28T10:46:43.266613Z",
     "iopub.status.idle": "2025-07-28T10:46:43.281378Z",
     "shell.execute_reply": "2025-07-28T10:46:43.280463Z"
    },
    "papermill": {
     "duration": 0.032622,
     "end_time": "2025-07-28T10:46:43.282886",
     "exception": false,
     "start_time": "2025-07-28T10:46:43.250264",
     "status": "completed"
    },
    "tags": []
   },
   "outputs": [
    {
     "data": {
      "text/html": [
       "<div>\n",
       "<style scoped>\n",
       "    .dataframe tbody tr th:only-of-type {\n",
       "        vertical-align: middle;\n",
       "    }\n",
       "\n",
       "    .dataframe tbody tr th {\n",
       "        vertical-align: top;\n",
       "    }\n",
       "\n",
       "    .dataframe thead th {\n",
       "        text-align: right;\n",
       "    }\n",
       "</style>\n",
       "<table border=\"1\" class=\"dataframe\">\n",
       "  <thead>\n",
       "    <tr style=\"text-align: right;\">\n",
       "      <th></th>\n",
       "      <th>universe_id</th>\n",
       "      <th>universe_training_size</th>\n",
       "      <th>universe_scale</th>\n",
       "      <th>universe_model</th>\n",
       "      <th>universe_exclude_features</th>\n",
       "      <th>universe_exclude_subgroups</th>\n",
       "      <th>q_hat</th>\n",
       "      <th>coverage</th>\n",
       "      <th>avg_size</th>\n",
       "      <th>cov_frau1</th>\n",
       "      <th>cov_nongerman</th>\n",
       "      <th>cov_nongerman_male</th>\n",
       "      <th>cov_nongerman_female</th>\n",
       "    </tr>\n",
       "  </thead>\n",
       "  <tbody>\n",
       "    <tr>\n",
       "      <th>0</th>\n",
       "      <td>5bebb190469cc915206b8c99cc16d684</td>\n",
       "      <td>1k</td>\n",
       "      <td>scale</td>\n",
       "      <td>elasticnet</td>\n",
       "      <td>none</td>\n",
       "      <td>drop-non-german</td>\n",
       "      <td>0.767617</td>\n",
       "      <td>0.909475</td>\n",
       "      <td>1.218738</td>\n",
       "      <td>0.909017</td>\n",
       "      <td>0.911918</td>\n",
       "      <td>0.926777</td>\n",
       "      <td>0.887332</td>\n",
       "    </tr>\n",
       "  </tbody>\n",
       "</table>\n",
       "</div>"
      ],
      "text/plain": [
       "                        universe_id universe_training_size universe_scale  \\\n",
       "0  5bebb190469cc915206b8c99cc16d684                     1k          scale   \n",
       "\n",
       "  universe_model universe_exclude_features universe_exclude_subgroups  \\\n",
       "0     elasticnet                      none            drop-non-german   \n",
       "\n",
       "      q_hat  coverage  avg_size  cov_frau1  cov_nongerman  cov_nongerman_male  \\\n",
       "0  0.767617  0.909475  1.218738   0.909017       0.911918            0.926777   \n",
       "\n",
       "   cov_nongerman_female  \n",
       "0              0.887332  "
      ]
     },
     "execution_count": 64,
     "metadata": {},
     "output_type": "execute_result"
    }
   ],
   "source": [
    "cp_metrics_df"
   ]
  },
  {
   "cell_type": "markdown",
   "id": "33774451",
   "metadata": {
    "papermill": {
     "duration": 0.0152,
     "end_time": "2025-07-28T10:46:43.312773",
     "exception": false,
     "start_time": "2025-07-28T10:46:43.297573",
     "status": "completed"
    },
    "tags": []
   },
   "source": [
    "# (Fairness) Metrics"
   ]
  },
  {
   "cell_type": "code",
   "execution_count": 65,
   "id": "debc5d62",
   "metadata": {
    "execution": {
     "iopub.execute_input": "2025-07-28T10:46:43.364586Z",
     "iopub.status.busy": "2025-07-28T10:46:43.364195Z",
     "iopub.status.idle": "2025-07-28T10:46:43.378810Z",
     "shell.execute_reply": "2025-07-28T10:46:43.377994Z"
    },
    "papermill": {
     "duration": 0.041188,
     "end_time": "2025-07-28T10:46:43.380497",
     "exception": false,
     "start_time": "2025-07-28T10:46:43.339309",
     "status": "completed"
    },
    "tags": []
   },
   "outputs": [],
   "source": [
    "# do I need to include maxdeutsch1.missing?\n",
    "\n",
    "import numpy as np\n",
    "\n",
    "colname_to_bin = \"maxdeutsch1\"\n",
    "majority_value = org_train[colname_to_bin].mode()[0]\n",
    "\n",
    "org_test[\"majmin\"] = np.where(org_test[colname_to_bin] == majority_value, \"majority\", \"minority\")"
   ]
  },
  {
   "cell_type": "code",
   "execution_count": 66,
   "id": "06a50de5",
   "metadata": {
    "execution": {
     "iopub.execute_input": "2025-07-28T10:46:43.411890Z",
     "iopub.status.busy": "2025-07-28T10:46:43.410676Z",
     "iopub.status.idle": "2025-07-28T10:46:46.473149Z",
     "shell.execute_reply": "2025-07-28T10:46:46.472004Z"
    },
    "papermill": {
     "duration": 3.08038,
     "end_time": "2025-07-28T10:46:46.475645",
     "exception": false,
     "start_time": "2025-07-28T10:46:43.395265",
     "status": "completed"
    },
    "tags": []
   },
   "outputs": [],
   "source": [
    "example_universe = universe.copy()\n",
    "example_universe[\"cutoff\"] = example_universe[\"cutoff\"][0]\n",
    "example_universe[\"eval_fairness_grouping\"] = example_universe[\"eval_fairness_grouping\"][0]\n",
    "fairness_dict, metric_frame = universe_analysis.compute_metrics(\n",
    "    example_universe,\n",
    "    y_pred_prob=probs_test,\n",
    "    y_test=y_true,\n",
    "    org_test=org_test,\n",
    ")"
   ]
  },
  {
   "cell_type": "markdown",
   "id": "f95d4e02",
   "metadata": {
    "papermill": {
     "duration": 0.03557,
     "end_time": "2025-07-28T10:46:46.545977",
     "exception": false,
     "start_time": "2025-07-28T10:46:46.510407",
     "status": "completed"
    },
    "tags": []
   },
   "source": [
    "# Overall"
   ]
  },
  {
   "cell_type": "markdown",
   "id": "bdee4871",
   "metadata": {
    "papermill": {
     "duration": 0.035408,
     "end_time": "2025-07-28T10:46:46.617364",
     "exception": false,
     "start_time": "2025-07-28T10:46:46.581956",
     "status": "completed"
    },
    "tags": []
   },
   "source": [
    "Fairness\n",
    "Main fairness target: Equalized Odds. Seems to be a better fit than equal opportunity, since we're not only interested in Y = 1. Seems to be a better fit than demographic parity, since we also care about accuracy, not just equal distribution of preds.\n",
    "\n",
    "Pick column for computation of fairness metrics\n",
    "\n",
    "Performance\n",
    "Overall performance measures, most interesting in relation to the measures split by group below"
   ]
  },
  {
   "cell_type": "code",
   "execution_count": 67,
   "id": "c4e067c6",
   "metadata": {
    "execution": {
     "iopub.execute_input": "2025-07-28T10:46:46.682654Z",
     "iopub.status.busy": "2025-07-28T10:46:46.681904Z",
     "iopub.status.idle": "2025-07-28T10:46:46.691992Z",
     "shell.execute_reply": "2025-07-28T10:46:46.691090Z"
    },
    "papermill": {
     "duration": 0.041702,
     "end_time": "2025-07-28T10:46:46.693980",
     "exception": false,
     "start_time": "2025-07-28T10:46:46.652278",
     "status": "completed"
    },
    "tags": []
   },
   "outputs": [
    {
     "data": {
      "text/plain": [
       "accuracy                   0.218404\n",
       "balanced accuracy          0.535278\n",
       "f1                         0.239899\n",
       "precision                  0.137047\n",
       "false positive rate        0.890949\n",
       "false negative rate        0.038495\n",
       "selection rate             0.900000\n",
       "count                  89710.000000\n",
       "dtype: float64"
      ]
     },
     "execution_count": 67,
     "metadata": {},
     "output_type": "execute_result"
    }
   ],
   "source": [
    "metric_frame.overall"
   ]
  },
  {
   "cell_type": "markdown",
   "id": "e968fe9d",
   "metadata": {
    "papermill": {
     "duration": 0.023084,
     "end_time": "2025-07-28T10:46:46.745979",
     "exception": false,
     "start_time": "2025-07-28T10:46:46.722895",
     "status": "completed"
    },
    "tags": []
   },
   "source": [
    "By Group"
   ]
  },
  {
   "cell_type": "code",
   "execution_count": 68,
   "id": "ec325bce",
   "metadata": {
    "execution": {
     "iopub.execute_input": "2025-07-28T10:46:46.776987Z",
     "iopub.status.busy": "2025-07-28T10:46:46.776670Z",
     "iopub.status.idle": "2025-07-28T10:46:46.790932Z",
     "shell.execute_reply": "2025-07-28T10:46:46.789809Z"
    },
    "papermill": {
     "duration": 0.031976,
     "end_time": "2025-07-28T10:46:46.792933",
     "exception": false,
     "start_time": "2025-07-28T10:46:46.760957",
     "status": "completed"
    },
    "tags": []
   },
   "outputs": [
    {
     "data": {
      "text/html": [
       "<div>\n",
       "<style scoped>\n",
       "    .dataframe tbody tr th:only-of-type {\n",
       "        vertical-align: middle;\n",
       "    }\n",
       "\n",
       "    .dataframe tbody tr th {\n",
       "        vertical-align: top;\n",
       "    }\n",
       "\n",
       "    .dataframe thead th {\n",
       "        text-align: right;\n",
       "    }\n",
       "</style>\n",
       "<table border=\"1\" class=\"dataframe\">\n",
       "  <thead>\n",
       "    <tr style=\"text-align: right;\">\n",
       "      <th></th>\n",
       "      <th>accuracy</th>\n",
       "      <th>balanced accuracy</th>\n",
       "      <th>f1</th>\n",
       "      <th>precision</th>\n",
       "      <th>false positive rate</th>\n",
       "      <th>false negative rate</th>\n",
       "      <th>selection rate</th>\n",
       "      <th>count</th>\n",
       "    </tr>\n",
       "    <tr>\n",
       "      <th>majmin</th>\n",
       "      <th></th>\n",
       "      <th></th>\n",
       "      <th></th>\n",
       "      <th></th>\n",
       "      <th></th>\n",
       "      <th></th>\n",
       "      <th></th>\n",
       "      <th></th>\n",
       "    </tr>\n",
       "  </thead>\n",
       "  <tbody>\n",
       "    <tr>\n",
       "      <th>majority</th>\n",
       "      <td>0.232182</td>\n",
       "      <td>0.539598</td>\n",
       "      <td>0.247862</td>\n",
       "      <td>0.142357</td>\n",
       "      <td>0.878244</td>\n",
       "      <td>0.042560</td>\n",
       "      <td>0.888709</td>\n",
       "      <td>69170.0</td>\n",
       "    </tr>\n",
       "    <tr>\n",
       "      <th>minority</th>\n",
       "      <td>0.172006</td>\n",
       "      <td>0.522139</td>\n",
       "      <td>0.213913</td>\n",
       "      <td>0.120102</td>\n",
       "      <td>0.932919</td>\n",
       "      <td>0.022804</td>\n",
       "      <td>0.938023</td>\n",
       "      <td>20540.0</td>\n",
       "    </tr>\n",
       "  </tbody>\n",
       "</table>\n",
       "</div>"
      ],
      "text/plain": [
       "          accuracy  balanced accuracy        f1  precision  \\\n",
       "majmin                                                       \n",
       "majority  0.232182           0.539598  0.247862   0.142357   \n",
       "minority  0.172006           0.522139  0.213913   0.120102   \n",
       "\n",
       "          false positive rate  false negative rate  selection rate    count  \n",
       "majmin                                                                       \n",
       "majority             0.878244             0.042560        0.888709  69170.0  \n",
       "minority             0.932919             0.022804        0.938023  20540.0  "
      ]
     },
     "execution_count": 68,
     "metadata": {},
     "output_type": "execute_result"
    }
   ],
   "source": [
    "metric_frame.by_group"
   ]
  },
  {
   "cell_type": "code",
   "execution_count": 69,
   "id": "a9ddbe63",
   "metadata": {
    "execution": {
     "iopub.execute_input": "2025-07-28T10:46:46.848006Z",
     "iopub.status.busy": "2025-07-28T10:46:46.847516Z",
     "iopub.status.idle": "2025-07-28T10:46:49.204653Z",
     "shell.execute_reply": "2025-07-28T10:46:49.203585Z"
    },
    "papermill": {
     "duration": 2.38433,
     "end_time": "2025-07-28T10:46:49.206540",
     "exception": false,
     "start_time": "2025-07-28T10:46:46.822210",
     "status": "completed"
    },
    "tags": []
   },
   "outputs": [
    {
     "data": {
      "text/plain": [
       "array([[<Axes: title={'center': 'accuracy'}, xlabel='majmin'>,\n",
       "        <Axes: title={'center': 'balanced accuracy'}, xlabel='majmin'>,\n",
       "        <Axes: title={'center': 'f1'}, xlabel='majmin'>],\n",
       "       [<Axes: title={'center': 'precision'}, xlabel='majmin'>,\n",
       "        <Axes: title={'center': 'false positive rate'}, xlabel='majmin'>,\n",
       "        <Axes: title={'center': 'false negative rate'}, xlabel='majmin'>],\n",
       "       [<Axes: title={'center': 'selection rate'}, xlabel='majmin'>,\n",
       "        <Axes: title={'center': 'count'}, xlabel='majmin'>,\n",
       "        <Axes: xlabel='majmin'>]], dtype=object)"
      ]
     },
     "execution_count": 69,
     "metadata": {},
     "output_type": "execute_result"
    },
    {
     "data": {
      "image/png": "[encoded data removed]",
      "text/plain": [
       "<Figure size 1200x800 with 9 Axes>"
      ]
     },
     "metadata": {},
     "output_type": "display_data"
    }
   ],
   "source": [
    "# In a graphic\n",
    "metric_frame.by_group.plot.bar(\n",
    "    subplots=True,\n",
    "    layout=[3, 3],\n",
    "    legend=False,\n",
    "    figsize=[12, 8],\n",
    "    title=\"Show all metrics\",\n",
    ")"
   ]
  },
  {
   "cell_type": "markdown",
   "id": "f57a0bac",
   "metadata": {
    "papermill": {
     "duration": 0.031992,
     "end_time": "2025-07-28T10:46:49.272643",
     "exception": false,
     "start_time": "2025-07-28T10:46:49.240651",
     "status": "completed"
    },
    "tags": []
   },
   "source": [
    "# Final Output"
   ]
  },
  {
   "cell_type": "code",
   "execution_count": 70,
   "id": "96d280a3",
   "metadata": {
    "execution": {
     "iopub.execute_input": "2025-07-28T10:46:49.339785Z",
     "iopub.status.busy": "2025-07-28T10:46:49.339109Z",
     "iopub.status.idle": "2025-07-28T10:46:49.348182Z",
     "shell.execute_reply": "2025-07-28T10:46:49.347217Z"
    },
    "papermill": {
     "duration": 0.044433,
     "end_time": "2025-07-28T10:46:49.349767",
     "exception": false,
     "start_time": "2025-07-28T10:46:49.305334",
     "status": "completed"
    },
    "tags": []
   },
   "outputs": [
    {
     "data": {
      "text/plain": [
       "4"
      ]
     },
     "execution_count": 70,
     "metadata": {},
     "output_type": "execute_result"
    }
   ],
   "source": [
    "sub_universes = universe_analysis.generate_sub_universes()\n",
    "len(sub_universes)"
   ]
  },
  {
   "cell_type": "code",
   "execution_count": 71,
   "id": "92adf7ba",
   "metadata": {
    "execution": {
     "iopub.execute_input": "2025-07-28T10:46:49.407618Z",
     "iopub.status.busy": "2025-07-28T10:46:49.406527Z",
     "iopub.status.idle": "2025-07-28T10:46:49.413123Z",
     "shell.execute_reply": "2025-07-28T10:46:49.412129Z"
    },
    "papermill": {
     "duration": 0.037488,
     "end_time": "2025-07-28T10:46:49.414780",
     "exception": false,
     "start_time": "2025-07-28T10:46:49.377292",
     "status": "completed"
    },
    "tags": []
   },
   "outputs": [],
   "source": [
    "def filter_sub_universe_data(sub_universe, org_test):\n",
    "    # Keep all rows — no filtering\n",
    "    keep_rows_mask = np.ones(org_test.shape[0], dtype=bool)\n",
    "\n",
    "    print(f\"[INFO] Keeping all rows: {keep_rows_mask.sum()} rows retained.\")\n",
    "    return keep_rows_mask"
   ]
  },
  {
   "cell_type": "code",
   "execution_count": 72,
   "id": "4a759155",
   "metadata": {
    "execution": {
     "iopub.execute_input": "2025-07-28T10:46:49.478286Z",
     "iopub.status.busy": "2025-07-28T10:46:49.477206Z",
     "iopub.status.idle": "2025-07-28T10:46:58.078929Z",
     "shell.execute_reply": "2025-07-28T10:46:58.077551Z"
    },
    "papermill": {
     "duration": 8.634521,
     "end_time": "2025-07-28T10:46:58.080766",
     "exception": false,
     "start_time": "2025-07-28T10:46:49.446245",
     "status": "completed"
    },
    "tags": []
   },
   "outputs": [
    {
     "name": "stdout",
     "output_type": "stream",
     "text": [
      "Stopping execution_time clock.\n",
      "[INFO] Keeping all rows: 89710 rows retained.\n"
     ]
    },
    {
     "name": "stdout",
     "output_type": "stream",
     "text": [
      "[INFO] Keeping all rows: 89710 rows retained.\n"
     ]
    },
    {
     "name": "stdout",
     "output_type": "stream",
     "text": [
      "[INFO] Keeping all rows: 89710 rows retained.\n"
     ]
    },
    {
     "name": "stdout",
     "output_type": "stream",
     "text": [
      "[INFO] Keeping all rows: 89710 rows retained.\n"
     ]
    },
    {
     "data": {
      "text/html": [
       "<div>\n",
       "<style scoped>\n",
       "    .dataframe tbody tr th:only-of-type {\n",
       "        vertical-align: middle;\n",
       "    }\n",
       "\n",
       "    .dataframe tbody tr th {\n",
       "        vertical-align: top;\n",
       "    }\n",
       "\n",
       "    .dataframe thead th {\n",
       "        text-align: right;\n",
       "    }\n",
       "</style>\n",
       "<table border=\"1\" class=\"dataframe\">\n",
       "  <thead>\n",
       "    <tr style=\"text-align: right;\">\n",
       "      <th></th>\n",
       "      <th>run_no</th>\n",
       "      <th>universe_id</th>\n",
       "      <th>universe_settings</th>\n",
       "      <th>execution_time</th>\n",
       "      <th>test_size_n</th>\n",
       "      <th>test_size_frac</th>\n",
       "      <th>fair_main_equalized_odds_difference</th>\n",
       "      <th>fair_main_equalized_odds_ratio</th>\n",
       "      <th>fair_main_demographic_parity_difference</th>\n",
       "      <th>fair_main_demographic_parity_ratio</th>\n",
       "      <th>...</th>\n",
       "      <th>perf_grp_precision_0</th>\n",
       "      <th>perf_grp_precision_1</th>\n",
       "      <th>perf_grp_false positive rate_0</th>\n",
       "      <th>perf_grp_false positive rate_1</th>\n",
       "      <th>perf_grp_false negative rate_0</th>\n",
       "      <th>perf_grp_false negative rate_1</th>\n",
       "      <th>perf_grp_selection rate_0</th>\n",
       "      <th>perf_grp_selection rate_1</th>\n",
       "      <th>perf_grp_count_0</th>\n",
       "      <th>perf_grp_count_1</th>\n",
       "    </tr>\n",
       "  </thead>\n",
       "  <tbody>\n",
       "    <tr>\n",
       "      <th>0</th>\n",
       "      <td>11</td>\n",
       "      <td>5bebb190469cc915206b8c99cc16d684</td>\n",
       "      <td>{\"cutoff\": \"quantile_0.1\", \"eval_fairness_grou...</td>\n",
       "      <td>31.156189</td>\n",
       "      <td>89710</td>\n",
       "      <td>1.0</td>\n",
       "      <td>0.054675</td>\n",
       "      <td>0.941394</td>\n",
       "      <td>0.049314</td>\n",
       "      <td>0.947427</td>\n",
       "      <td>...</td>\n",
       "      <td>NaN</td>\n",
       "      <td>NaN</td>\n",
       "      <td>NaN</td>\n",
       "      <td>NaN</td>\n",
       "      <td>NaN</td>\n",
       "      <td>NaN</td>\n",
       "      <td>NaN</td>\n",
       "      <td>NaN</td>\n",
       "      <td>NaN</td>\n",
       "      <td>NaN</td>\n",
       "    </tr>\n",
       "    <tr>\n",
       "      <th>0</th>\n",
       "      <td>11</td>\n",
       "      <td>5bebb190469cc915206b8c99cc16d684</td>\n",
       "      <td>{\"cutoff\": \"quantile_0.1\", \"eval_fairness_grou...</td>\n",
       "      <td>31.156189</td>\n",
       "      <td>89710</td>\n",
       "      <td>1.0</td>\n",
       "      <td>0.054675</td>\n",
       "      <td>0.941394</td>\n",
       "      <td>0.049314</td>\n",
       "      <td>0.947427</td>\n",
       "      <td>...</td>\n",
       "      <td>0.120102</td>\n",
       "      <td>0.142357</td>\n",
       "      <td>0.932919</td>\n",
       "      <td>0.878244</td>\n",
       "      <td>0.022804</td>\n",
       "      <td>0.042560</td>\n",
       "      <td>0.938023</td>\n",
       "      <td>0.888709</td>\n",
       "      <td>20540.0</td>\n",
       "      <td>69170.0</td>\n",
       "    </tr>\n",
       "    <tr>\n",
       "      <th>0</th>\n",
       "      <td>11</td>\n",
       "      <td>5bebb190469cc915206b8c99cc16d684</td>\n",
       "      <td>{\"cutoff\": \"quantile_0.25\", \"eval_fairness_gro...</td>\n",
       "      <td>31.156189</td>\n",
       "      <td>89710</td>\n",
       "      <td>1.0</td>\n",
       "      <td>0.142910</td>\n",
       "      <td>0.829763</td>\n",
       "      <td>0.129071</td>\n",
       "      <td>0.848065</td>\n",
       "      <td>...</td>\n",
       "      <td>NaN</td>\n",
       "      <td>NaN</td>\n",
       "      <td>NaN</td>\n",
       "      <td>NaN</td>\n",
       "      <td>NaN</td>\n",
       "      <td>NaN</td>\n",
       "      <td>NaN</td>\n",
       "      <td>NaN</td>\n",
       "      <td>NaN</td>\n",
       "      <td>NaN</td>\n",
       "    </tr>\n",
       "    <tr>\n",
       "      <th>0</th>\n",
       "      <td>11</td>\n",
       "      <td>5bebb190469cc915206b8c99cc16d684</td>\n",
       "      <td>{\"cutoff\": \"quantile_0.25\", \"eval_fairness_gro...</td>\n",
       "      <td>31.156189</td>\n",
       "      <td>89710</td>\n",
       "      <td>1.0</td>\n",
       "      <td>0.142910</td>\n",
       "      <td>0.829763</td>\n",
       "      <td>0.129071</td>\n",
       "      <td>0.848065</td>\n",
       "      <td>...</td>\n",
       "      <td>0.125738</td>\n",
       "      <td>0.160897</td>\n",
       "      <td>0.839478</td>\n",
       "      <td>0.696568</td>\n",
       "      <td>0.073480</td>\n",
       "      <td>0.122757</td>\n",
       "      <td>0.849513</td>\n",
       "      <td>0.720442</td>\n",
       "      <td>20540.0</td>\n",
       "      <td>69170.0</td>\n",
       "    </tr>\n",
       "  </tbody>\n",
       "</table>\n",
       "<p>4 rows × 50 columns</p>\n",
       "</div>"
      ],
      "text/plain": [
       "  run_no                       universe_id  \\\n",
       "0     11  5bebb190469cc915206b8c99cc16d684   \n",
       "0     11  5bebb190469cc915206b8c99cc16d684   \n",
       "0     11  5bebb190469cc915206b8c99cc16d684   \n",
       "0     11  5bebb190469cc915206b8c99cc16d684   \n",
       "\n",
       "                                   universe_settings  execution_time  \\\n",
       "0  {\"cutoff\": \"quantile_0.1\", \"eval_fairness_grou...       31.156189   \n",
       "0  {\"cutoff\": \"quantile_0.1\", \"eval_fairness_grou...       31.156189   \n",
       "0  {\"cutoff\": \"quantile_0.25\", \"eval_fairness_gro...       31.156189   \n",
       "0  {\"cutoff\": \"quantile_0.25\", \"eval_fairness_gro...       31.156189   \n",
       "\n",
       "   test_size_n  test_size_frac  fair_main_equalized_odds_difference  \\\n",
       "0        89710             1.0                             0.054675   \n",
       "0        89710             1.0                             0.054675   \n",
       "0        89710             1.0                             0.142910   \n",
       "0        89710             1.0                             0.142910   \n",
       "\n",
       "   fair_main_equalized_odds_ratio  fair_main_demographic_parity_difference  \\\n",
       "0                        0.941394                                 0.049314   \n",
       "0                        0.941394                                 0.049314   \n",
       "0                        0.829763                                 0.129071   \n",
       "0                        0.829763                                 0.129071   \n",
       "\n",
       "   fair_main_demographic_parity_ratio  ...  perf_grp_precision_0  \\\n",
       "0                            0.947427  ...                   NaN   \n",
       "0                            0.947427  ...              0.120102   \n",
       "0                            0.848065  ...                   NaN   \n",
       "0                            0.848065  ...              0.125738   \n",
       "\n",
       "   perf_grp_precision_1  perf_grp_false positive rate_0  \\\n",
       "0                   NaN                             NaN   \n",
       "0              0.142357                        0.932919   \n",
       "0                   NaN                             NaN   \n",
       "0              0.160897                        0.839478   \n",
       "\n",
       "   perf_grp_false positive rate_1  perf_grp_false negative rate_0  \\\n",
       "0                             NaN                             NaN   \n",
       "0                        0.878244                        0.022804   \n",
       "0                             NaN                             NaN   \n",
       "0                        0.696568                        0.073480   \n",
       "\n",
       "   perf_grp_false negative rate_1  perf_grp_selection rate_0  \\\n",
       "0                             NaN                        NaN   \n",
       "0                        0.042560                   0.938023   \n",
       "0                             NaN                        NaN   \n",
       "0                        0.122757                   0.849513   \n",
       "\n",
       "   perf_grp_selection rate_1  perf_grp_count_0  perf_grp_count_1  \n",
       "0                        NaN               NaN               NaN  \n",
       "0                   0.888709           20540.0           69170.0  \n",
       "0                        NaN               NaN               NaN  \n",
       "0                   0.720442           20540.0           69170.0  \n",
       "\n",
       "[4 rows x 50 columns]"
      ]
     },
     "execution_count": 72,
     "metadata": {},
     "output_type": "execute_result"
    }
   ],
   "source": [
    "final_output = universe_analysis.generate_final_output(\n",
    "    y_pred_prob=probs_test,\n",
    "    y_test=y_true,\n",
    "    org_test=org_test,\n",
    "    filter_data=filter_sub_universe_data,\n",
    "    cp_metrics_df=cp_metrics_df,\n",
    "    save=True,\n",
    ")\n",
    "final_output"
   ]
  },
  {
   "cell_type": "code",
   "execution_count": null,
   "id": "721ff514-cb11-46f8-b6fc-50392f74b5cb",
   "metadata": {
    "papermill": {
     "duration": 0.030099,
     "end_time": "2025-07-28T10:46:58.141907",
     "exception": false,
     "start_time": "2025-07-28T10:46:58.111808",
     "status": "completed"
    },
    "tags": []
   },
   "outputs": [],
   "source": []
  }
 ],
 "metadata": {
  "celltoolbar": "Tags",
  "kernelspec": {
   "display_name": "Python (CMA Fairness)",
   "language": "python",
   "name": "cma_fair_env"
  },
  "language_info": {
   "codemirror_mode": {
    "name": "ipython",
    "version": 3
   },
   "file_extension": ".py",
   "mimetype": "text/x-python",
   "name": "python",
   "nbconvert_exporter": "python",
   "pygments_lexer": "ipython3",
   "version": "3.10.12"
  },
  "papermill": {
   "default_parameters": {},
   "duration": 44.338387,
   "end_time": "2025-07-28T10:46:58.989884",
   "environment_variables": {},
   "exception": null,
   "input_path": "universe_analysis.ipynb",
   "output_path": "output/runs/11/notebooks/m_11-5bebb190469cc915206b8c99cc16d684.ipynb",
   "parameters": {
    "output_dir": "output",
    "run_no": "11",
    "seed": "2023",
    "universe": "{\"cutoff\": [\"quantile_0.1\", \"quantile_0.25\"], \"eval_fairness_grouping\": [\"majority-minority\", \"nationality-all\"], \"exclude_features\": \"none\", \"exclude_subgroups\": \"drop-non-german\", \"model\": \"elasticnet\", \"scale\": \"scale\", \"training_size\": \"1k\"}",
    "universe_id": "5bebb190469cc915206b8c99cc16d684"
   },
   "start_time": "2025-07-28T10:46:14.651497",
   "version": "2.6.0"
  }
 },
 "nbformat": 4,
 "nbformat_minor": 5
}