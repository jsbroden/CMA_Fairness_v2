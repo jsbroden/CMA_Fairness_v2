{
 "cells": [
  {
   "cell_type": "code",
   "execution_count": 1,
   "id": "f159f837-637b-42ba-96b5-ec9a68c44524",
   "metadata": {
    "execution": {
     "iopub.execute_input": "2025-07-28T10:55:19.914414Z",
     "iopub.status.busy": "2025-07-28T10:55:19.913980Z",
     "iopub.status.idle": "2025-07-28T10:55:19.928865Z",
     "shell.execute_reply": "2025-07-28T10:55:19.927922Z"
    },
    "papermill": {
     "duration": 0.028054,
     "end_time": "2025-07-28T10:55:19.930618",
     "exception": false,
     "start_time": "2025-07-28T10:55:19.902564",
     "status": "completed"
    },
    "tags": []
   },
   "outputs": [
    {
     "name": "stdout",
     "output_type": "stream",
     "text": [
      "/dss/dsshome1/0C/ra93lal2/cma/CMA_Fairness_v2\n"
     ]
    },
    {
     "name": "stderr",
     "output_type": "stream",
     "text": [
      "/dss/dsshome1/0C/ra93lal2/.local/share/virtualenvs/CMA_Fairness_v2-3j10GkSs/lib/python3.10/site-packages/IPython/core/magics/osm.py:393: UserWarning: This is now an optional IPython functionality, using bookmarks requires you to install the `pickleshare` library.\n",
      "  bkms = self.shell.db.get('bookmarks', {})\n",
      "/dss/dsshome1/0C/ra93lal2/.local/share/virtualenvs/CMA_Fairness_v2-3j10GkSs/lib/python3.10/site-packages/IPython/core/magics/osm.py:417: UserWarning: This is now an optional IPython functionality, setting dhist requires you to install the `pickleshare` library.\n",
      "  self.shell.db['dhist'] = compress_dhist(dhist)[-100:]\n"
     ]
    }
   ],
   "source": [
    "%cd ~/cma/CMA_Fairness_v2"
   ]
  },
  {
   "cell_type": "markdown",
   "id": "de2603b9",
   "metadata": {
    "papermill": {
     "duration": 0.010949,
     "end_time": "2025-07-28T10:55:19.957549",
     "exception": false,
     "start_time": "2025-07-28T10:55:19.946600",
     "status": "completed"
    },
    "tags": []
   },
   "source": [
    "The following cell holds the definition of our parameters, these values can be overriden by rendering the with e.g. the following command:\n",
    "\n",
    "papermill -p alpha 0.2 -p ratio 0.3 universe_analysis.ipynb output/test_run.ipynb"
   ]
  },
  {
   "cell_type": "code",
   "execution_count": 2,
   "id": "a80968a0-40bb-4fa9-85ef-2d5eefb01975",
   "metadata": {
    "execution": {
     "iopub.execute_input": "2025-07-28T10:55:19.979070Z",
     "iopub.status.busy": "2025-07-28T10:55:19.978729Z",
     "iopub.status.idle": "2025-07-28T10:55:19.983877Z",
     "shell.execute_reply": "2025-07-28T10:55:19.982828Z"
    },
    "papermill": {
     "duration": 0.018304,
     "end_time": "2025-07-28T10:55:19.986000",
     "exception": false,
     "start_time": "2025-07-28T10:55:19.967696",
     "status": "completed"
    },
    "tags": []
   },
   "outputs": [
    {
     "name": "stdout",
     "output_type": "stream",
     "text": [
      "Current working directory: /dss/dsshome1/0C/ra93lal2/cma/CMA_Fairness_v2\n"
     ]
    }
   ],
   "source": [
    "import os\n",
    "print(\"Current working directory:\", os.getcwd())"
   ]
  },
  {
   "cell_type": "code",
   "execution_count": 3,
   "id": "2dce4c03",
   "metadata": {
    "execution": {
     "iopub.execute_input": "2025-07-28T10:55:20.013534Z",
     "iopub.status.busy": "2025-07-28T10:55:20.012836Z",
     "iopub.status.idle": "2025-07-28T10:55:20.019595Z",
     "shell.execute_reply": "2025-07-28T10:55:20.018606Z"
    },
    "papermill": {
     "duration": 0.019828,
     "end_time": "2025-07-28T10:55:20.021340",
     "exception": false,
     "start_time": "2025-07-28T10:55:20.001512",
     "status": "completed"
    },
    "tags": [
     "parameters"
    ]
   },
   "outputs": [],
   "source": [
    "run_no = 0\n",
    "universe_id = \"test\"\n",
    "universe = {\n",
    "    \"training_size\": \"2014\", # \"25k\", \"5k\", \"1k\", \"2014\"\n",
    "    \"scale\": \"scale\", # \"scale\", \"do-not-scale\",\n",
    "    #\"stratify_split\": \"target\", # \"none\", \"target\", \"protected-attribute\", \"both\",\n",
    "    \"model\": \"elasticnet\", # \"logreg\", \"penalized_logreg\", \"rf\", \"gbm\", \"elasticnet\"\n",
    "    \"cutoff\": [\"quantile_0.15\", \"quantile_0.30\"],\n",
    "    \"exclude_features\": \"age\", # \"none\", \"nationality\", \"sex\", \"nationality-sex\", \"age\"\n",
    "    \"exclude_subgroups\": \"keep-all\", # \"keep-all\", \"drop-non-german\"\n",
    "    \"eval_fairness_grouping\": [\"majority-minority\", \"nationality-all\"]\n",
    "}\n",
    "\n",
    "output_dir=\"./output\"\n",
    "seed=0"
   ]
  },
  {
   "cell_type": "code",
   "execution_count": 4,
   "id": "0b2094a0",
   "metadata": {
    "execution": {
     "iopub.execute_input": "2025-07-28T10:55:20.059708Z",
     "iopub.status.busy": "2025-07-28T10:55:20.059314Z",
     "iopub.status.idle": "2025-07-28T10:55:20.064429Z",
     "shell.execute_reply": "2025-07-28T10:55:20.063645Z"
    },
    "papermill": {
     "duration": 0.024228,
     "end_time": "2025-07-28T10:55:20.065817",
     "exception": false,
     "start_time": "2025-07-28T10:55:20.041589",
     "status": "completed"
    },
    "tags": [
     "injected-parameters"
    ]
   },
   "outputs": [],
   "source": [
    "# Parameters\n",
    "universe_id = \"15806e0afcdcd48d2447c17a2e4a7c6e\"\n",
    "run_no = \"11\"\n",
    "universe = \"{\\\"cutoff\\\": [\\\"quantile_0.1\\\", \\\"quantile_0.25\\\"], \\\"eval_fairness_grouping\\\": [\\\"majority-minority\\\", \\\"nationality-all\\\"], \\\"exclude_features\\\": \\\"none\\\", \\\"exclude_subgroups\\\": \\\"keep-all\\\", \\\"model\\\": \\\"rf\\\", \\\"scale\\\": \\\"scale\\\", \\\"training_size\\\": \\\"2014\\\"}\"\n",
    "output_dir = \"output\"\n",
    "seed = \"2023\"\n"
   ]
  },
  {
   "cell_type": "code",
   "execution_count": 5,
   "id": "1650acaf",
   "metadata": {
    "execution": {
     "iopub.execute_input": "2025-07-28T10:55:20.088716Z",
     "iopub.status.busy": "2025-07-28T10:55:20.088318Z",
     "iopub.status.idle": "2025-07-28T10:55:20.092314Z",
     "shell.execute_reply": "2025-07-28T10:55:20.091533Z"
    },
    "papermill": {
     "duration": 0.01675,
     "end_time": "2025-07-28T10:55:20.093741",
     "exception": false,
     "start_time": "2025-07-28T10:55:20.076991",
     "status": "completed"
    },
    "tags": []
   },
   "outputs": [],
   "source": [
    "import json\n",
    "# Parse universe into dict if it is passed as a string\n",
    "if isinstance(universe, str):\n",
    "    universe = json.loads(universe)"
   ]
  },
  {
   "cell_type": "code",
   "execution_count": 6,
   "id": "16620c48",
   "metadata": {
    "execution": {
     "iopub.execute_input": "2025-07-28T10:55:20.115555Z",
     "iopub.status.busy": "2025-07-28T10:55:20.114885Z",
     "iopub.status.idle": "2025-07-28T10:55:20.161138Z",
     "shell.execute_reply": "2025-07-28T10:55:20.160369Z"
    },
    "papermill": {
     "duration": 0.058345,
     "end_time": "2025-07-28T10:55:20.162777",
     "exception": false,
     "start_time": "2025-07-28T10:55:20.104432",
     "status": "completed"
    },
    "tags": []
   },
   "outputs": [],
   "source": [
    "# Auto-reload the custom package\n",
    "%load_ext autoreload\n",
    "%autoreload 1\n",
    "%aimport fairness_multiverse"
   ]
  },
  {
   "cell_type": "code",
   "execution_count": 7,
   "id": "01c5c9f3",
   "metadata": {
    "execution": {
     "iopub.execute_input": "2025-07-28T10:55:20.200169Z",
     "iopub.status.busy": "2025-07-28T10:55:20.199683Z",
     "iopub.status.idle": "2025-07-28T10:55:22.327991Z",
     "shell.execute_reply": "2025-07-28T10:55:22.326839Z"
    },
    "papermill": {
     "duration": 2.150949,
     "end_time": "2025-07-28T10:55:22.330091",
     "exception": false,
     "start_time": "2025-07-28T10:55:20.179142",
     "status": "completed"
    },
    "tags": []
   },
   "outputs": [],
   "source": [
    "from fairness_multiverse.universe import UniverseAnalysis\n",
    "\n",
    "universe_analysis = UniverseAnalysis(\n",
    "    run_no = run_no,\n",
    "    universe_id = universe_id,\n",
    "    universe = universe,\n",
    "    output_dir=output_dir,\n",
    ")"
   ]
  },
  {
   "cell_type": "code",
   "execution_count": 8,
   "id": "106241f5",
   "metadata": {
    "execution": {
     "iopub.execute_input": "2025-07-28T10:55:22.367247Z",
     "iopub.status.busy": "2025-07-28T10:55:22.366727Z",
     "iopub.status.idle": "2025-07-28T10:55:22.373580Z",
     "shell.execute_reply": "2025-07-28T10:55:22.372719Z"
    },
    "papermill": {
     "duration": 0.024632,
     "end_time": "2025-07-28T10:55:22.374937",
     "exception": false,
     "start_time": "2025-07-28T10:55:22.350305",
     "status": "completed"
    },
    "tags": []
   },
   "outputs": [
    {
     "name": "stdout",
     "output_type": "stream",
     "text": [
      "Using Seed: 2023\n"
     ]
    }
   ],
   "source": [
    "import numpy as np\n",
    "parsed_seed = int(seed)\n",
    "np.random.seed(parsed_seed)\n",
    "print(f\"Using Seed: {parsed_seed}\")"
   ]
  },
  {
   "cell_type": "markdown",
   "id": "e0ebdc57",
   "metadata": {
    "papermill": {
     "duration": 0.010493,
     "end_time": "2025-07-28T10:55:22.396601",
     "exception": false,
     "start_time": "2025-07-28T10:55:22.386108",
     "status": "completed"
    },
    "tags": []
   },
   "source": [
    "# Loading Data"
   ]
  },
  {
   "cell_type": "markdown",
   "id": "681925a3",
   "metadata": {
    "papermill": {
     "duration": 0.010639,
     "end_time": "2025-07-28T10:55:22.417552",
     "exception": false,
     "start_time": "2025-07-28T10:55:22.406913",
     "status": "completed"
    },
    "tags": []
   },
   "source": [
    "Load siab_train, siab_test, siab_calib and/or \n",
    "load siab_train_features, siab_train_labels"
   ]
  },
  {
   "cell_type": "code",
   "execution_count": 9,
   "id": "f0496b8a",
   "metadata": {
    "execution": {
     "iopub.execute_input": "2025-07-28T10:55:22.440516Z",
     "iopub.status.busy": "2025-07-28T10:55:22.439920Z",
     "iopub.status.idle": "2025-07-28T10:55:34.277628Z",
     "shell.execute_reply": "2025-07-28T10:55:34.276382Z"
    },
    "papermill": {
     "duration": 11.851383,
     "end_time": "2025-07-28T10:55:34.279336",
     "exception": false,
     "start_time": "2025-07-28T10:55:22.427953",
     "status": "completed"
    },
    "tags": []
   },
   "outputs": [
    {
     "name": "stdout",
     "output_type": "stream",
     "text": [
      "Loading SIAB data from cache: data/siab_cached.csv.gz\n"
     ]
    },
    {
     "name": "stdout",
     "output_type": "stream",
     "text": [
      "(643690, 164)\n"
     ]
    }
   ],
   "source": [
    "from pathlib import Path\n",
    "import pandas as pd\n",
    "\n",
    "# File paths\n",
    "raw_file = Path(\"data/raw/siab.csv\")\n",
    "cache_file = Path(\"data/siab_cached.csv.gz\")\n",
    "\n",
    "# Ensure cache directory exists\n",
    "cache_file.parent.mkdir(parents=True, exist_ok=True)\n",
    "\n",
    "# Load with simple caching\n",
    "if cache_file.exists():\n",
    "    print(f\"Loading SIAB data from cache: {cache_file}\")\n",
    "    siab = pd.read_csv(cache_file, compression='gzip')\n",
    "else:\n",
    "    print(f\"Cache not found. Reading raw SIAB data: {raw_file}\")\n",
    "    siab = pd.read_csv(raw_file)\n",
    "    siab.to_csv(cache_file, index=False, compression='gzip')\n",
    "    print(f\"Cached SIAB data to: {cache_file}\")\n",
    "\n",
    "# Now use `siab` DataFrame as needed\n",
    "print(siab.shape)"
   ]
  },
  {
   "cell_type": "code",
   "execution_count": 10,
   "id": "db0ca512-5f53-4dba-abdb-a2888bca41ba",
   "metadata": {
    "execution": {
     "iopub.execute_input": "2025-07-28T10:55:34.323932Z",
     "iopub.status.busy": "2025-07-28T10:55:34.323360Z",
     "iopub.status.idle": "2025-07-28T10:55:34.329836Z",
     "shell.execute_reply": "2025-07-28T10:55:34.328936Z"
    },
    "papermill": {
     "duration": 0.030638,
     "end_time": "2025-07-28T10:55:34.331709",
     "exception": false,
     "start_time": "2025-07-28T10:55:34.301071",
     "status": "completed"
    },
    "tags": []
   },
   "outputs": [],
   "source": [
    "#siab"
   ]
  },
  {
   "cell_type": "code",
   "execution_count": 11,
   "id": "a0edb063",
   "metadata": {
    "execution": {
     "iopub.execute_input": "2025-07-28T10:55:34.376596Z",
     "iopub.status.busy": "2025-07-28T10:55:34.375850Z",
     "iopub.status.idle": "2025-07-28T10:55:34.381186Z",
     "shell.execute_reply": "2025-07-28T10:55:34.380142Z"
    },
    "papermill": {
     "duration": 0.030051,
     "end_time": "2025-07-28T10:55:34.383079",
     "exception": false,
     "start_time": "2025-07-28T10:55:34.353028",
     "status": "completed"
    },
    "tags": []
   },
   "outputs": [],
   "source": [
    "#import pandas as pd\n",
    "#\n",
    "#X_train = pd.read_csv(\"./data/X_train.csv\")\n",
    "#y_train = pd.read_csv(\"./data/y_train.csv\")"
   ]
  },
  {
   "cell_type": "code",
   "execution_count": 12,
   "id": "63d08085",
   "metadata": {
    "execution": {
     "iopub.execute_input": "2025-07-28T10:55:34.429678Z",
     "iopub.status.busy": "2025-07-28T10:55:34.428779Z",
     "iopub.status.idle": "2025-07-28T10:55:34.434111Z",
     "shell.execute_reply": "2025-07-28T10:55:34.433040Z"
    },
    "papermill": {
     "duration": 0.03058,
     "end_time": "2025-07-28T10:55:34.435964",
     "exception": false,
     "start_time": "2025-07-28T10:55:34.405384",
     "status": "completed"
    },
    "tags": []
   },
   "outputs": [],
   "source": [
    "#X_test = pd.read_csv(\"./data/X_test.csv\")\n",
    "#y_true = pd.read_csv(\"./data/y_test.csv\")"
   ]
  },
  {
   "cell_type": "code",
   "execution_count": 13,
   "id": "98a8d0fa-1d3d-4ed8-bb2c-281470e24add",
   "metadata": {
    "execution": {
     "iopub.execute_input": "2025-07-28T10:55:34.481326Z",
     "iopub.status.busy": "2025-07-28T10:55:34.480596Z",
     "iopub.status.idle": "2025-07-28T10:55:34.486290Z",
     "shell.execute_reply": "2025-07-28T10:55:34.485241Z"
    },
    "papermill": {
     "duration": 0.030578,
     "end_time": "2025-07-28T10:55:34.488174",
     "exception": false,
     "start_time": "2025-07-28T10:55:34.457596",
     "status": "completed"
    },
    "tags": []
   },
   "outputs": [],
   "source": [
    "# Calibration data for conformal\n",
    "#X_calib = pd.read_csv(\"./data/X_calib.csv\")\n",
    "#y_calib = pd.read_csv(\"./data/y_calib.csv\")"
   ]
  },
  {
   "cell_type": "markdown",
   "id": "9901737e-04df-44f0-9100-f5ad144ed040",
   "metadata": {
    "papermill": {
     "duration": 0.021767,
     "end_time": "2025-07-28T10:55:34.532748",
     "exception": false,
     "start_time": "2025-07-28T10:55:34.510981",
     "status": "completed"
    },
    "tags": []
   },
   "source": [
    "# Splitting Data and Setting Training Data Size"
   ]
  },
  {
   "cell_type": "code",
   "execution_count": 14,
   "id": "acbc8f7d-8fc8-4e86-8c59-5dcb0f58384b",
   "metadata": {
    "execution": {
     "iopub.execute_input": "2025-07-28T10:55:34.579423Z",
     "iopub.status.busy": "2025-07-28T10:55:34.578863Z",
     "iopub.status.idle": "2025-07-28T10:55:34.588047Z",
     "shell.execute_reply": "2025-07-28T10:55:34.586984Z"
    },
    "papermill": {
     "duration": 0.035339,
     "end_time": "2025-07-28T10:55:34.589963",
     "exception": false,
     "start_time": "2025-07-28T10:55:34.554624",
     "status": "completed"
    },
    "tags": []
   },
   "outputs": [],
   "source": [
    "def sample_by_year(df, training_size, random_state=42):\n",
    "    if training_size == \"2014\":\n",
    "        return df[df[\"year\"] == 2014].reset_index(drop=True)\n",
    "    \n",
    "    size_map = {\n",
    "        \"25k\": 5000,\n",
    "        \"5k\": 1000,\n",
    "        \"1k\": 200\n",
    "    }\n",
    "\n",
    "    if training_size not in size_map:\n",
    "        return df.reset_index(drop=True)  # use all data\n",
    "\n",
    "    n_per_year = size_map[training_size]\n",
    "    grouped = df.groupby(\"year\")\n",
    "    sampled = grouped.apply(lambda x: x.sample(n=min(n_per_year, len(x)), random_state=random_state))\n",
    "    return sampled.reset_index(drop=True)"
   ]
  },
  {
   "cell_type": "code",
   "execution_count": 15,
   "id": "6d931f52-beaf-43ff-9e78-9d44a448d54e",
   "metadata": {
    "execution": {
     "iopub.execute_input": "2025-07-28T10:55:34.636762Z",
     "iopub.status.busy": "2025-07-28T10:55:34.635664Z",
     "iopub.status.idle": "2025-07-28T10:55:34.827495Z",
     "shell.execute_reply": "2025-07-28T10:55:34.826660Z"
    },
    "papermill": {
     "duration": 0.217289,
     "end_time": "2025-07-28T10:55:34.829508",
     "exception": false,
     "start_time": "2025-07-28T10:55:34.612219",
     "status": "completed"
    },
    "tags": []
   },
   "outputs": [],
   "source": [
    "siab_s = sample_by_year(siab, universe[\"training_size\"])"
   ]
  },
  {
   "cell_type": "code",
   "execution_count": 16,
   "id": "5db0a40e-a4e2-4920-be85-b12ae061d70d",
   "metadata": {
    "execution": {
     "iopub.execute_input": "2025-07-28T10:55:34.876926Z",
     "iopub.status.busy": "2025-07-28T10:55:34.876164Z",
     "iopub.status.idle": "2025-07-28T10:55:34.894583Z",
     "shell.execute_reply": "2025-07-28T10:55:34.893501Z"
    },
    "papermill": {
     "duration": 0.043913,
     "end_time": "2025-07-28T10:55:34.896553",
     "exception": false,
     "start_time": "2025-07-28T10:55:34.852640",
     "status": "completed"
    },
    "tags": []
   },
   "outputs": [
    {
     "data": {
      "text/plain": [
       "year\n",
       "2014    87158\n",
       "dtype: int64"
      ]
     },
     "metadata": {},
     "output_type": "display_data"
    }
   ],
   "source": [
    "display(siab_s.groupby(\"year\").size())"
   ]
  },
  {
   "cell_type": "code",
   "execution_count": 17,
   "id": "a561edb4-d032-42cb-8256-22eac1111c64",
   "metadata": {
    "execution": {
     "iopub.execute_input": "2025-07-28T10:55:34.942874Z",
     "iopub.status.busy": "2025-07-28T10:55:34.942322Z",
     "iopub.status.idle": "2025-07-28T10:55:35.240406Z",
     "shell.execute_reply": "2025-07-28T10:55:35.239562Z"
    },
    "papermill": {
     "duration": 0.323682,
     "end_time": "2025-07-28T10:55:35.242461",
     "exception": false,
     "start_time": "2025-07-28T10:55:34.918779",
     "status": "completed"
    },
    "tags": []
   },
   "outputs": [],
   "source": [
    "siab_train = siab_s[siab_s.year < 2015]\n",
    "siab_calib = siab[siab.year == 2015]\n",
    "siab_test = siab[siab.year == 2016]"
   ]
  },
  {
   "cell_type": "code",
   "execution_count": 18,
   "id": "472de16f-c3db-4916-846b-1f0de9cf1746",
   "metadata": {
    "execution": {
     "iopub.execute_input": "2025-07-28T10:55:35.289979Z",
     "iopub.status.busy": "2025-07-28T10:55:35.289482Z",
     "iopub.status.idle": "2025-07-28T10:55:35.347209Z",
     "shell.execute_reply": "2025-07-28T10:55:35.346138Z"
    },
    "papermill": {
     "duration": 0.084115,
     "end_time": "2025-07-28T10:55:35.349406",
     "exception": false,
     "start_time": "2025-07-28T10:55:35.265291",
     "status": "completed"
    },
    "tags": []
   },
   "outputs": [],
   "source": [
    "X_train = siab_train.iloc[:,4:164]\n",
    "y_train = siab_train.iloc[:, [3]]"
   ]
  },
  {
   "cell_type": "code",
   "execution_count": 19,
   "id": "828c96af-f43a-4ed6-ba47-8ac73a47d56c",
   "metadata": {
    "execution": {
     "iopub.execute_input": "2025-07-28T10:55:35.395195Z",
     "iopub.status.busy": "2025-07-28T10:55:35.394663Z",
     "iopub.status.idle": "2025-07-28T10:55:35.453979Z",
     "shell.execute_reply": "2025-07-28T10:55:35.452789Z"
    },
    "papermill": {
     "duration": 0.083665,
     "end_time": "2025-07-28T10:55:35.455447",
     "exception": false,
     "start_time": "2025-07-28T10:55:35.371782",
     "status": "completed"
    },
    "tags": []
   },
   "outputs": [],
   "source": [
    "X_calib = siab_calib.iloc[:,4:164]\n",
    "y_calib = siab_calib.iloc[:, [3]]"
   ]
  },
  {
   "cell_type": "code",
   "execution_count": 20,
   "id": "c34be9c3-6bd6-476e-acd3-845840e303be",
   "metadata": {
    "execution": {
     "iopub.execute_input": "2025-07-28T10:55:35.499574Z",
     "iopub.status.busy": "2025-07-28T10:55:35.499128Z",
     "iopub.status.idle": "2025-07-28T10:55:35.561290Z",
     "shell.execute_reply": "2025-07-28T10:55:35.560083Z"
    },
    "papermill": {
     "duration": 0.087285,
     "end_time": "2025-07-28T10:55:35.563121",
     "exception": false,
     "start_time": "2025-07-28T10:55:35.475836",
     "status": "completed"
    },
    "tags": []
   },
   "outputs": [],
   "source": [
    "X_test = siab_test.iloc[:,4:164]\n",
    "y_true = siab_test.iloc[:, [3]]"
   ]
  },
  {
   "cell_type": "code",
   "execution_count": 21,
   "id": "e6c733c5",
   "metadata": {
    "execution": {
     "iopub.execute_input": "2025-07-28T10:55:35.609721Z",
     "iopub.status.busy": "2025-07-28T10:55:35.609292Z",
     "iopub.status.idle": "2025-07-28T10:55:35.747241Z",
     "shell.execute_reply": "2025-07-28T10:55:35.746366Z"
    },
    "papermill": {
     "duration": 0.163624,
     "end_time": "2025-07-28T10:55:35.749234",
     "exception": false,
     "start_time": "2025-07-28T10:55:35.585610",
     "status": "completed"
    },
    "tags": []
   },
   "outputs": [],
   "source": [
    "# Auxiliary data needed downstream in the pipeline\n",
    "\n",
    "org_train = X_train.copy()\n",
    "org_test = X_test.copy()\n",
    "org_calib = X_calib.copy()"
   ]
  },
  {
   "cell_type": "markdown",
   "id": "0a4a1b33",
   "metadata": {
    "papermill": {
     "duration": 0.023508,
     "end_time": "2025-07-28T10:55:35.793977",
     "exception": false,
     "start_time": "2025-07-28T10:55:35.770469",
     "status": "completed"
    },
    "tags": []
   },
   "source": [
    "# Preprocessing Data"
   ]
  },
  {
   "cell_type": "code",
   "execution_count": 22,
   "id": "ca879031",
   "metadata": {
    "execution": {
     "iopub.execute_input": "2025-07-28T10:55:35.842550Z",
     "iopub.status.busy": "2025-07-28T10:55:35.842181Z",
     "iopub.status.idle": "2025-07-28T10:55:35.847127Z",
     "shell.execute_reply": "2025-07-28T10:55:35.846218Z"
    },
    "papermill": {
     "duration": 0.030545,
     "end_time": "2025-07-28T10:55:35.848458",
     "exception": false,
     "start_time": "2025-07-28T10:55:35.817913",
     "status": "completed"
    },
    "tags": []
   },
   "outputs": [],
   "source": [
    "# EXCLUDE PROTECTED FEATURES\n",
    "# ----------------------\n",
    "# \"exclude_features\": \"none\", # \"nationality\", \"sex\", \"nationality-sex\"\n",
    "\n",
    "excluded_features = universe[\"exclude_features\"].split(\"-\") # split, e.g.: \"nationality-sex\" -> [\"nationality\", \"sex\"]\n",
    "excluded_features_dictionary = {\n",
    "    \"nationality\": [\"maxdeutsch1\", \"maxdeutsch.Missing.\"],\n",
    "    \"sex\": [\"frau1\"],\n",
    "    \"age\": [\"age\"],\n",
    "}\n"
   ]
  },
  {
   "cell_type": "code",
   "execution_count": 23,
   "id": "b745ac60",
   "metadata": {
    "execution": {
     "iopub.execute_input": "2025-07-28T10:55:35.873093Z",
     "iopub.status.busy": "2025-07-28T10:55:35.872722Z",
     "iopub.status.idle": "2025-07-28T10:55:35.877562Z",
     "shell.execute_reply": "2025-07-28T10:55:35.876826Z"
    },
    "papermill": {
     "duration": 0.019201,
     "end_time": "2025-07-28T10:55:35.879608",
     "exception": false,
     "start_time": "2025-07-28T10:55:35.860407",
     "status": "completed"
    },
    "tags": []
   },
   "outputs": [],
   "source": [
    "# Code nice names to column names\n",
    "\n",
    "excluded_features_columns = [\n",
    "    excluded_features_dictionary[f] for f in excluded_features if len(f) > 0 and f != \"none\"\n",
    "]"
   ]
  },
  {
   "cell_type": "code",
   "execution_count": 24,
   "id": "f84f73a2",
   "metadata": {
    "execution": {
     "iopub.execute_input": "2025-07-28T10:55:35.923932Z",
     "iopub.status.busy": "2025-07-28T10:55:35.923518Z",
     "iopub.status.idle": "2025-07-28T10:55:35.929825Z",
     "shell.execute_reply": "2025-07-28T10:55:35.928977Z"
    },
    "papermill": {
     "duration": 0.029692,
     "end_time": "2025-07-28T10:55:35.931154",
     "exception": false,
     "start_time": "2025-07-28T10:55:35.901462",
     "status": "completed"
    },
    "tags": []
   },
   "outputs": [],
   "source": [
    "from utils import flatten_once\n",
    "\n",
    "excluded_features_columns = flatten_once(excluded_features_columns)"
   ]
  },
  {
   "cell_type": "code",
   "execution_count": 25,
   "id": "884dea22",
   "metadata": {
    "execution": {
     "iopub.execute_input": "2025-07-28T10:55:35.956083Z",
     "iopub.status.busy": "2025-07-28T10:55:35.955601Z",
     "iopub.status.idle": "2025-07-28T10:55:35.961607Z",
     "shell.execute_reply": "2025-07-28T10:55:35.960768Z"
    },
    "papermill": {
     "duration": 0.020124,
     "end_time": "2025-07-28T10:55:35.963347",
     "exception": false,
     "start_time": "2025-07-28T10:55:35.943223",
     "status": "completed"
    },
    "tags": []
   },
   "outputs": [],
   "source": [
    "if len(excluded_features_columns) > 0:\n",
    "    print(f\"Dropping features: {excluded_features_columns}\")\n",
    "    X_train.drop(excluded_features_columns, axis=1, inplace=True)"
   ]
  },
  {
   "cell_type": "code",
   "execution_count": 26,
   "id": "95ab8b16",
   "metadata": {
    "execution": {
     "iopub.execute_input": "2025-07-28T10:55:36.010871Z",
     "iopub.status.busy": "2025-07-28T10:55:36.010341Z",
     "iopub.status.idle": "2025-07-28T10:55:36.017758Z",
     "shell.execute_reply": "2025-07-28T10:55:36.016739Z"
    },
    "papermill": {
     "duration": 0.03392,
     "end_time": "2025-07-28T10:55:36.019837",
     "exception": false,
     "start_time": "2025-07-28T10:55:35.985917",
     "status": "completed"
    },
    "tags": []
   },
   "outputs": [],
   "source": [
    "if len(excluded_features_columns) > 0:\n",
    "    print(f\"Dropping features: {excluded_features_columns}\")\n",
    "    X_test.drop(excluded_features_columns, axis=1, inplace=True)"
   ]
  },
  {
   "cell_type": "code",
   "execution_count": 27,
   "id": "1853aaf5-fb9f-46cb-a2b5-8ea4ae2237e4",
   "metadata": {
    "execution": {
     "iopub.execute_input": "2025-07-28T10:55:36.046249Z",
     "iopub.status.busy": "2025-07-28T10:55:36.045655Z",
     "iopub.status.idle": "2025-07-28T10:55:36.050784Z",
     "shell.execute_reply": "2025-07-28T10:55:36.050027Z"
    },
    "papermill": {
     "duration": 0.019907,
     "end_time": "2025-07-28T10:55:36.052155",
     "exception": false,
     "start_time": "2025-07-28T10:55:36.032248",
     "status": "completed"
    },
    "tags": []
   },
   "outputs": [],
   "source": [
    "if len(excluded_features_columns) > 0:\n",
    "    print(f\"Dropping features: {excluded_features_columns}\")\n",
    "    X_calib.drop(excluded_features_columns, axis=1, inplace=True)"
   ]
  },
  {
   "cell_type": "code",
   "execution_count": 28,
   "id": "6727d079-03e5-481e-9d38-292a90b7a0a8",
   "metadata": {
    "execution": {
     "iopub.execute_input": "2025-07-28T10:55:36.077237Z",
     "iopub.status.busy": "2025-07-28T10:55:36.076686Z",
     "iopub.status.idle": "2025-07-28T10:55:36.081459Z",
     "shell.execute_reply": "2025-07-28T10:55:36.080584Z"
    },
    "papermill": {
     "duration": 0.019306,
     "end_time": "2025-07-28T10:55:36.083636",
     "exception": false,
     "start_time": "2025-07-28T10:55:36.064330",
     "status": "completed"
    },
    "tags": []
   },
   "outputs": [],
   "source": [
    "# SPLIT & STRATIFY DATA\n",
    "# ----------------------"
   ]
  },
  {
   "cell_type": "code",
   "execution_count": 29,
   "id": "76c4dc6d",
   "metadata": {
    "execution": {
     "iopub.execute_input": "2025-07-28T10:55:36.130973Z",
     "iopub.status.busy": "2025-07-28T10:55:36.130396Z",
     "iopub.status.idle": "2025-07-28T10:55:36.135866Z",
     "shell.execute_reply": "2025-07-28T10:55:36.134770Z"
    },
    "papermill": {
     "duration": 0.032636,
     "end_time": "2025-07-28T10:55:36.138066",
     "exception": false,
     "start_time": "2025-07-28T10:55:36.105430",
     "status": "completed"
    },
    "tags": []
   },
   "outputs": [],
   "source": [
    "# EXCLUDE CERTAIN SUBGROUPS\n",
    "# ----------------------\n",
    "\n",
    "mode = universe.get(\"exclude_subgroups\", \"keep-all\") \n",
    "# Fetches the exclude_subgroups setting from the universe dict.\n",
    "# Defaults to \"keep-all\" if the key is missing."
   ]
  },
  {
   "cell_type": "code",
   "execution_count": 30,
   "id": "21994072",
   "metadata": {
    "execution": {
     "iopub.execute_input": "2025-07-28T10:55:36.172556Z",
     "iopub.status.busy": "2025-07-28T10:55:36.172132Z",
     "iopub.status.idle": "2025-07-28T10:55:36.177861Z",
     "shell.execute_reply": "2025-07-28T10:55:36.177021Z"
    },
    "papermill": {
     "duration": 0.021457,
     "end_time": "2025-07-28T10:55:36.179262",
     "exception": false,
     "start_time": "2025-07-28T10:55:36.157805",
     "status": "completed"
    },
    "tags": []
   },
   "outputs": [],
   "source": [
    "if mode == \"keep-all\":\n",
    "    keep_mask = pd.Series(True, index=org_train.index)\n",
    "\n",
    "# org_train contains the original feature columns from features_org (in Simson)\n",
    "# features_org contains unprocessed features, for me X_train at beginning ???\n",
    "# For keep-all, creates a boolean Series (keep_mask) of all True, so no rows are removed.\n",
    "\n",
    "elif mode == \"drop-non-german\":\n",
    "    keep_mask = org_train[\"maxdeutsch1\"] == 1 # ??? what about missing values?\n",
    "\n",
    "else:\n",
    "    raise ValueError(f\"Unsupported mode for exclude_subgroups: {mode}\")\n"
   ]
  },
  {
   "cell_type": "code",
   "execution_count": 31,
   "id": "71651440",
   "metadata": {
    "execution": {
     "iopub.execute_input": "2025-07-28T10:55:36.204707Z",
     "iopub.status.busy": "2025-07-28T10:55:36.204235Z",
     "iopub.status.idle": "2025-07-28T10:55:36.210867Z",
     "shell.execute_reply": "2025-07-28T10:55:36.210009Z"
    },
    "papermill": {
     "duration": 0.021142,
     "end_time": "2025-07-28T10:55:36.212756",
     "exception": false,
     "start_time": "2025-07-28T10:55:36.191614",
     "status": "completed"
    },
    "tags": []
   },
   "outputs": [],
   "source": [
    "n_drop = (~keep_mask).sum() # Calculates how many rows are set to be dropped\n",
    "if n_drop > 0:\n",
    "    pct = n_drop / len(keep_mask) * 100\n",
    "    print(f\"Dropping {n_drop} rows ({pct:.2f}%) where mode='{mode}'\")"
   ]
  },
  {
   "cell_type": "code",
   "execution_count": 32,
   "id": "5fb8eee5",
   "metadata": {
    "execution": {
     "iopub.execute_input": "2025-07-28T10:55:36.258871Z",
     "iopub.status.busy": "2025-07-28T10:55:36.258354Z",
     "iopub.status.idle": "2025-07-28T10:55:36.320699Z",
     "shell.execute_reply": "2025-07-28T10:55:36.319591Z"
    },
    "papermill": {
     "duration": 0.086654,
     "end_time": "2025-07-28T10:55:36.322404",
     "exception": false,
     "start_time": "2025-07-28T10:55:36.235750",
     "status": "completed"
    },
    "tags": []
   },
   "outputs": [],
   "source": [
    "X_train = X_train[keep_mask]"
   ]
  },
  {
   "cell_type": "code",
   "execution_count": 33,
   "id": "b202bb3a",
   "metadata": {
    "execution": {
     "iopub.execute_input": "2025-07-28T10:55:36.367167Z",
     "iopub.status.busy": "2025-07-28T10:55:36.366694Z",
     "iopub.status.idle": "2025-07-28T10:55:36.374704Z",
     "shell.execute_reply": "2025-07-28T10:55:36.373624Z"
    },
    "papermill": {
     "duration": 0.034544,
     "end_time": "2025-07-28T10:55:36.376775",
     "exception": false,
     "start_time": "2025-07-28T10:55:36.342231",
     "status": "completed"
    },
    "tags": []
   },
   "outputs": [],
   "source": [
    "y_train = y_train[keep_mask]"
   ]
  },
  {
   "cell_type": "markdown",
   "id": "493e2ac3",
   "metadata": {
    "papermill": {
     "duration": 0.022654,
     "end_time": "2025-07-28T10:55:36.422563",
     "exception": false,
     "start_time": "2025-07-28T10:55:36.399909",
     "status": "completed"
    },
    "tags": []
   },
   "source": [
    "# Model Training"
   ]
  },
  {
   "cell_type": "code",
   "execution_count": 34,
   "id": "679e1268",
   "metadata": {
    "execution": {
     "iopub.execute_input": "2025-07-28T10:55:36.469986Z",
     "iopub.status.busy": "2025-07-28T10:55:36.469272Z",
     "iopub.status.idle": "2025-07-28T10:55:36.592220Z",
     "shell.execute_reply": "2025-07-28T10:55:36.590929Z"
    },
    "papermill": {
     "duration": 0.149778,
     "end_time": "2025-07-28T10:55:36.595167",
     "exception": false,
     "start_time": "2025-07-28T10:55:36.445389",
     "status": "completed"
    },
    "tags": []
   },
   "outputs": [],
   "source": [
    "from sklearn.linear_model import LogisticRegression\n",
    "from sklearn.ensemble import GradientBoostingClassifier, RandomForestClassifier\n",
    "\n",
    "if (universe[\"model\"] == \"logreg\"):\n",
    "    model = LogisticRegression() #penalty=\"none\") #, solver=\"newton-cg\", max_iter=1) # include random_state=19 ?\n",
    "elif (universe[\"model\"] == \"penalized_logreg\"):\n",
    "    model = LogisticRegression(penalty=\"l2\", C=1.0) #, solver=\"newton-cg\", max_iter=1)\n",
    "elif (universe[\"model\"] == \"rf\"):\n",
    "    model = RandomForestClassifier(n_estimators=100, n_jobs=-1)\n",
    "elif (universe[\"model\"] == \"gbm\"):\n",
    "    model = GradientBoostingClassifier()\n",
    "elif (universe[\"model\"] == \"elasticnet\"):\n",
    "    model = LogisticRegression(penalty = 'elasticnet', solver = 'saga', l1_ratio = 0.5, max_iter=5000) # which solver to use?\n",
    "else:\n",
    "    raise \"Unsupported universe.model\""
   ]
  },
  {
   "cell_type": "code",
   "execution_count": 35,
   "id": "0cc8f744",
   "metadata": {
    "execution": {
     "iopub.execute_input": "2025-07-28T10:55:36.660749Z",
     "iopub.status.busy": "2025-07-28T10:55:36.659787Z",
     "iopub.status.idle": "2025-07-28T10:55:36.668006Z",
     "shell.execute_reply": "2025-07-28T10:55:36.666965Z"
    },
    "papermill": {
     "duration": 0.043752,
     "end_time": "2025-07-28T10:55:36.670266",
     "exception": false,
     "start_time": "2025-07-28T10:55:36.626514",
     "status": "completed"
    },
    "tags": []
   },
   "outputs": [],
   "source": [
    "import numpy as np\n",
    "from sklearn.pipeline import Pipeline\n",
    "from sklearn.preprocessing import StandardScaler\n",
    "\n",
    "model = Pipeline([\n",
    "    #(\"continuous_processor\", continuous_processor),\n",
    "    #(\"categorical_preprocessor\", categorical_preprocessor),\n",
    "    (\"scale\", StandardScaler() if universe[\"scale\"] == \"scale\" else None), \n",
    "    (\"model\", model),\n",
    "])"
   ]
  },
  {
   "cell_type": "code",
   "execution_count": 36,
   "id": "9442c04d",
   "metadata": {
    "execution": {
     "iopub.execute_input": "2025-07-28T10:55:36.734487Z",
     "iopub.status.busy": "2025-07-28T10:55:36.733500Z",
     "iopub.status.idle": "2025-07-28T10:55:51.572263Z",
     "shell.execute_reply": "2025-07-28T10:55:51.571051Z"
    },
    "papermill": {
     "duration": 14.873878,
     "end_time": "2025-07-28T10:55:51.574469",
     "exception": false,
     "start_time": "2025-07-28T10:55:36.700591",
     "status": "completed"
    },
    "tags": []
   },
   "outputs": [
    {
     "data": {
      "text/html": [
       "<style>#sk-container-id-1 {color: black;background-color: white;}#sk-container-id-1 pre{padding: 0;}#sk-container-id-1 div.sk-toggleable {background-color: white;}#sk-container-id-1 label.sk-toggleable__label {cursor: pointer;display: block;width: 100%;margin-bottom: 0;padding: 0.3em;box-sizing: border-box;text-align: center;}#sk-container-id-1 label.sk-toggleable__label-arrow:before {content: \"▸\";float: left;margin-right: 0.25em;color: #696969;}#sk-container-id-1 label.sk-toggleable__label-arrow:hover:before {color: black;}#sk-container-id-1 div.sk-estimator:hover label.sk-toggleable__label-arrow:before {color: black;}#sk-container-id-1 div.sk-toggleable__content {max-height: 0;max-width: 0;overflow: hidden;text-align: left;background-color: #f0f8ff;}#sk-container-id-1 div.sk-toggleable__content pre {margin: 0.2em;color: black;border-radius: 0.25em;background-color: #f0f8ff;}#sk-container-id-1 input.sk-toggleable__control:checked~div.sk-toggleable__content {max-height: 200px;max-width: 100%;overflow: auto;}#sk-container-id-1 input.sk-toggleable__control:checked~label.sk-toggleable__label-arrow:before {content: \"▾\";}#sk-container-id-1 div.sk-estimator input.sk-toggleable__control:checked~label.sk-toggleable__label {background-color: #d4ebff;}#sk-container-id-1 div.sk-label input.sk-toggleable__control:checked~label.sk-toggleable__label {background-color: #d4ebff;}#sk-container-id-1 input.sk-hidden--visually {border: 0;clip: rect(1px 1px 1px 1px);clip: rect(1px, 1px, 1px, 1px);height: 1px;margin: -1px;overflow: hidden;padding: 0;position: absolute;width: 1px;}#sk-container-id-1 div.sk-estimator {font-family: monospace;background-color: #f0f8ff;border: 1px dotted black;border-radius: 0.25em;box-sizing: border-box;margin-bottom: 0.5em;}#sk-container-id-1 div.sk-estimator:hover {background-color: #d4ebff;}#sk-container-id-1 div.sk-parallel-item::after {content: \"\";width: 100%;border-bottom: 1px solid gray;flex-grow: 1;}#sk-container-id-1 div.sk-label:hover label.sk-toggleable__label {background-color: #d4ebff;}#sk-container-id-1 div.sk-serial::before {content: \"\";position: absolute;border-left: 1px solid gray;box-sizing: border-box;top: 0;bottom: 0;left: 50%;z-index: 0;}#sk-container-id-1 div.sk-serial {display: flex;flex-direction: column;align-items: center;background-color: white;padding-right: 0.2em;padding-left: 0.2em;position: relative;}#sk-container-id-1 div.sk-item {position: relative;z-index: 1;}#sk-container-id-1 div.sk-parallel {display: flex;align-items: stretch;justify-content: center;background-color: white;position: relative;}#sk-container-id-1 div.sk-item::before, #sk-container-id-1 div.sk-parallel-item::before {content: \"\";position: absolute;border-left: 1px solid gray;box-sizing: border-box;top: 0;bottom: 0;left: 50%;z-index: -1;}#sk-container-id-1 div.sk-parallel-item {display: flex;flex-direction: column;z-index: 1;position: relative;background-color: white;}#sk-container-id-1 div.sk-parallel-item:first-child::after {align-self: flex-end;width: 50%;}#sk-container-id-1 div.sk-parallel-item:last-child::after {align-self: flex-start;width: 50%;}#sk-container-id-1 div.sk-parallel-item:only-child::after {width: 0;}#sk-container-id-1 div.sk-dashed-wrapped {border: 1px dashed gray;margin: 0 0.4em 0.5em 0.4em;box-sizing: border-box;padding-bottom: 0.4em;background-color: white;}#sk-container-id-1 div.sk-label label {font-family: monospace;font-weight: bold;display: inline-block;line-height: 1.2em;}#sk-container-id-1 div.sk-label-container {text-align: center;}#sk-container-id-1 div.sk-container {/* jupyter's `normalize.less` sets `[hidden] { display: none; }` but bootstrap.min.css set `[hidden] { display: none !important; }` so we also need the `!important` here to be able to override the default hidden behavior on the sphinx rendered scikit-learn.org. See: https://github.com/scikit-learn/scikit-learn/issues/21755 */display: inline-block !important;position: relative;}#sk-container-id-1 div.sk-text-repr-fallback {display: none;}</style><div id=\"sk-container-id-1\" class=\"sk-top-container\"><div class=\"sk-text-repr-fallback\"><pre>Pipeline(steps=[(&#x27;scale&#x27;, StandardScaler()),\n",
       "                (&#x27;model&#x27;, RandomForestClassifier(n_jobs=-1))])</pre><b>In a Jupyter environment, please rerun this cell to show the HTML representation or trust the notebook. <br />On GitHub, the HTML representation is unable to render, please try loading this page with nbviewer.org.</b></div><div class=\"sk-container\" hidden><div class=\"sk-item sk-dashed-wrapped\"><div class=\"sk-label-container\"><div class=\"sk-label sk-toggleable\"><input class=\"sk-toggleable__control sk-hidden--visually\" id=\"sk-estimator-id-1\" type=\"checkbox\" ><label for=\"sk-estimator-id-1\" class=\"sk-toggleable__label sk-toggleable__label-arrow\">Pipeline</label><div class=\"sk-toggleable__content\"><pre>Pipeline(steps=[(&#x27;scale&#x27;, StandardScaler()),\n",
       "                (&#x27;model&#x27;, RandomForestClassifier(n_jobs=-1))])</pre></div></div></div><div class=\"sk-serial\"><div class=\"sk-item\"><div class=\"sk-estimator sk-toggleable\"><input class=\"sk-toggleable__control sk-hidden--visually\" id=\"sk-estimator-id-2\" type=\"checkbox\" ><label for=\"sk-estimator-id-2\" class=\"sk-toggleable__label sk-toggleable__label-arrow\">StandardScaler</label><div class=\"sk-toggleable__content\"><pre>StandardScaler()</pre></div></div></div><div class=\"sk-item\"><div class=\"sk-estimator sk-toggleable\"><input class=\"sk-toggleable__control sk-hidden--visually\" id=\"sk-estimator-id-3\" type=\"checkbox\" ><label for=\"sk-estimator-id-3\" class=\"sk-toggleable__label sk-toggleable__label-arrow\">RandomForestClassifier</label><div class=\"sk-toggleable__content\"><pre>RandomForestClassifier(n_jobs=-1)</pre></div></div></div></div></div></div></div>"
      ],
      "text/plain": [
       "Pipeline(steps=[('scale', StandardScaler()),\n",
       "                ('model', RandomForestClassifier(n_jobs=-1))])"
      ]
     },
     "execution_count": 36,
     "metadata": {},
     "output_type": "execute_result"
    }
   ],
   "source": [
    "model.fit(X_train, y_train.values.ravel())"
   ]
  },
  {
   "cell_type": "code",
   "execution_count": 37,
   "id": "af59f8c0",
   "metadata": {
    "execution": {
     "iopub.execute_input": "2025-07-28T10:55:51.665741Z",
     "iopub.status.busy": "2025-07-28T10:55:51.664384Z",
     "iopub.status.idle": "2025-07-28T10:55:51.671369Z",
     "shell.execute_reply": "2025-07-28T10:55:51.670322Z"
    },
    "papermill": {
     "duration": 0.059925,
     "end_time": "2025-07-28T10:55:51.674147",
     "exception": false,
     "start_time": "2025-07-28T10:55:51.614222",
     "status": "completed"
    },
    "tags": []
   },
   "outputs": [],
   "source": [
    "from fairness_multiverse.universe import predict_w_threshold"
   ]
  },
  {
   "cell_type": "code",
   "execution_count": 38,
   "id": "a7cf2e16",
   "metadata": {
    "execution": {
     "iopub.execute_input": "2025-07-28T10:55:51.772283Z",
     "iopub.status.busy": "2025-07-28T10:55:51.771824Z",
     "iopub.status.idle": "2025-07-28T10:55:53.912521Z",
     "shell.execute_reply": "2025-07-28T10:55:53.911254Z"
    },
    "papermill": {
     "duration": 2.185007,
     "end_time": "2025-07-28T10:55:53.914901",
     "exception": false,
     "start_time": "2025-07-28T10:55:51.729894",
     "status": "completed"
    },
    "tags": []
   },
   "outputs": [
    {
     "data": {
      "text/plain": [
       "0.8663248244342883"
      ]
     },
     "execution_count": 38,
     "metadata": {},
     "output_type": "execute_result"
    }
   ],
   "source": [
    "probs_test = model.predict_proba(X_test)\n",
    "\n",
    "'''\n",
    "Below code returns a boolean array (or binary 0/1 array depending on how it’s used) where each element \n",
    "is True if the probability of class 1 is greater than or equal to the threshold, and False otherwise.\n",
    "'''\n",
    "y_pred_default = predict_w_threshold(probs_test, 0.5)\n",
    "\n",
    "from sklearn.metrics import accuracy_score\n",
    "\n",
    "# Naive prediction\n",
    "accuracy_score(y_true = y_true, y_pred = y_pred_default)"
   ]
  },
  {
   "cell_type": "code",
   "execution_count": 39,
   "id": "081964c3",
   "metadata": {
    "execution": {
     "iopub.execute_input": "2025-07-28T10:55:54.005183Z",
     "iopub.status.busy": "2025-07-28T10:55:54.004100Z",
     "iopub.status.idle": "2025-07-28T10:55:56.224789Z",
     "shell.execute_reply": "2025-07-28T10:55:56.223744Z"
    },
    "papermill": {
     "duration": 2.273083,
     "end_time": "2025-07-28T10:55:56.226783",
     "exception": false,
     "start_time": "2025-07-28T10:55:53.953700",
     "status": "completed"
    },
    "tags": []
   },
   "outputs": [
    {
     "data": {
      "text/plain": [
       "array([0, 0, 0, ..., 0, 0, 0])"
      ]
     },
     "execution_count": 39,
     "metadata": {},
     "output_type": "execute_result"
    }
   ],
   "source": [
    "model.predict(X_test)"
   ]
  },
  {
   "cell_type": "markdown",
   "id": "56c9705b",
   "metadata": {
    "papermill": {
     "duration": 0.052494,
     "end_time": "2025-07-28T10:55:56.368778",
     "exception": false,
     "start_time": "2025-07-28T10:55:56.316284",
     "status": "completed"
    },
    "tags": []
   },
   "source": [
    "# Conformal Prediction"
   ]
  },
  {
   "cell_type": "code",
   "execution_count": 40,
   "id": "160ec6ff",
   "metadata": {
    "execution": {
     "iopub.execute_input": "2025-07-28T10:55:56.470396Z",
     "iopub.status.busy": "2025-07-28T10:55:56.469935Z",
     "iopub.status.idle": "2025-07-28T10:55:56.476230Z",
     "shell.execute_reply": "2025-07-28T10:55:56.475031Z"
    },
    "papermill": {
     "duration": 0.07077,
     "end_time": "2025-07-28T10:55:56.477937",
     "exception": false,
     "start_time": "2025-07-28T10:55:56.407167",
     "status": "completed"
    },
    "tags": []
   },
   "outputs": [],
   "source": [
    "# Miscoverage level for conformal prediction (10% allowed error rate => 90% target coverage)\n",
    "alpha = 0.1"
   ]
  },
  {
   "cell_type": "code",
   "execution_count": 41,
   "id": "eadf4555-3dd3-440e-8e35-f82a4ad9f855",
   "metadata": {
    "execution": {
     "iopub.execute_input": "2025-07-28T10:55:56.587035Z",
     "iopub.status.busy": "2025-07-28T10:55:56.586586Z",
     "iopub.status.idle": "2025-07-28T10:55:58.939256Z",
     "shell.execute_reply": "2025-07-28T10:55:58.938135Z"
    },
    "papermill": {
     "duration": 2.409758,
     "end_time": "2025-07-28T10:55:58.942044",
     "exception": false,
     "start_time": "2025-07-28T10:55:56.532286",
     "status": "completed"
    },
    "tags": []
   },
   "outputs": [],
   "source": [
    "probs_calib = model.predict_proba(X_calib)"
   ]
  },
  {
   "cell_type": "code",
   "execution_count": 42,
   "id": "2ed93547-6d5d-4983-9b36-1ecb300da49a",
   "metadata": {
    "execution": {
     "iopub.execute_input": "2025-07-28T10:55:59.079009Z",
     "iopub.status.busy": "2025-07-28T10:55:59.078586Z",
     "iopub.status.idle": "2025-07-28T10:55:59.086369Z",
     "shell.execute_reply": "2025-07-28T10:55:59.085096Z"
    },
    "papermill": {
     "duration": 0.071702,
     "end_time": "2025-07-28T10:55:59.088436",
     "exception": false,
     "start_time": "2025-07-28T10:55:59.016734",
     "status": "completed"
    },
    "tags": []
   },
   "outputs": [],
   "source": [
    "y_calib = y_calib.values.ravel().astype(int)"
   ]
  },
  {
   "cell_type": "code",
   "execution_count": 43,
   "id": "65d1320d-f588-4b38-9072-62af1ae97f7d",
   "metadata": {
    "execution": {
     "iopub.execute_input": "2025-07-28T10:55:59.182413Z",
     "iopub.status.busy": "2025-07-28T10:55:59.181969Z",
     "iopub.status.idle": "2025-07-28T10:55:59.191857Z",
     "shell.execute_reply": "2025-07-28T10:55:59.190677Z"
    },
    "papermill": {
     "duration": 0.053726,
     "end_time": "2025-07-28T10:55:59.194382",
     "exception": false,
     "start_time": "2025-07-28T10:55:59.140656",
     "status": "completed"
    },
    "tags": []
   },
   "outputs": [],
   "source": [
    "from fairness_multiverse.conformal import compute_nc_scores\n",
    "\n",
    "# Compute nonconformity scores on calibration set (1 - probability of true class)\n",
    "nc_scores = compute_nc_scores(probs_calib, y_calib)"
   ]
  },
  {
   "cell_type": "code",
   "execution_count": 44,
   "id": "df3b8ca3-53b7-43d5-9667-7c85da7aeda2",
   "metadata": {
    "execution": {
     "iopub.execute_input": "2025-07-28T10:55:59.290972Z",
     "iopub.status.busy": "2025-07-28T10:55:59.290513Z",
     "iopub.status.idle": "2025-07-28T10:55:59.298048Z",
     "shell.execute_reply": "2025-07-28T10:55:59.296995Z"
    },
    "papermill": {
     "duration": 0.053132,
     "end_time": "2025-07-28T10:55:59.301726",
     "exception": false,
     "start_time": "2025-07-28T10:55:59.248594",
     "status": "completed"
    },
    "tags": []
   },
   "outputs": [],
   "source": [
    "from fairness_multiverse.conformal import find_threshold\n",
    "\n",
    "# Find conformal threshold q_hat for the given alpha (split conformal method)\n",
    "q_hat = find_threshold(nc_scores, alpha)"
   ]
  },
  {
   "cell_type": "code",
   "execution_count": 45,
   "id": "4d29e6c1-0ef6-4aa4-b8fe-4fe79b0d033a",
   "metadata": {
    "execution": {
     "iopub.execute_input": "2025-07-28T10:55:59.414823Z",
     "iopub.status.busy": "2025-07-28T10:55:59.414363Z",
     "iopub.status.idle": "2025-07-28T10:55:59.426470Z",
     "shell.execute_reply": "2025-07-28T10:55:59.425175Z"
    },
    "papermill": {
     "duration": 0.08175,
     "end_time": "2025-07-28T10:55:59.428546",
     "exception": false,
     "start_time": "2025-07-28T10:55:59.346796",
     "status": "completed"
    },
    "tags": []
   },
   "outputs": [
    {
     "data": {
      "text/plain": [
       "0.6599999999999999"
      ]
     },
     "execution_count": 45,
     "metadata": {},
     "output_type": "execute_result"
    }
   ],
   "source": [
    "q_hat"
   ]
  },
  {
   "cell_type": "code",
   "execution_count": 46,
   "id": "92460794-cdac-4be2-ba28-f28c0515a6fb",
   "metadata": {
    "execution": {
     "iopub.execute_input": "2025-07-28T10:55:59.558826Z",
     "iopub.status.busy": "2025-07-28T10:55:59.558400Z",
     "iopub.status.idle": "2025-07-28T10:56:03.772820Z",
     "shell.execute_reply": "2025-07-28T10:56:03.771518Z"
    },
    "papermill": {
     "duration": 4.278493,
     "end_time": "2025-07-28T10:56:03.775253",
     "exception": false,
     "start_time": "2025-07-28T10:55:59.496760",
     "status": "completed"
    },
    "tags": []
   },
   "outputs": [],
   "source": [
    "from fairness_multiverse.conformal import predict_conformal_sets\n",
    "\n",
    "# Generate prediction sets for each test example\n",
    "pred_sets = predict_conformal_sets(model, X_test, q_hat)"
   ]
  },
  {
   "cell_type": "code",
   "execution_count": 47,
   "id": "d90c9a65-e6db-4f5d-80cd-e68fb7e46829",
   "metadata": {
    "execution": {
     "iopub.execute_input": "2025-07-28T10:56:03.882081Z",
     "iopub.status.busy": "2025-07-28T10:56:03.881613Z",
     "iopub.status.idle": "2025-07-28T10:56:03.889047Z",
     "shell.execute_reply": "2025-07-28T10:56:03.888130Z"
    },
    "papermill": {
     "duration": 0.066935,
     "end_time": "2025-07-28T10:56:03.891150",
     "exception": false,
     "start_time": "2025-07-28T10:56:03.824215",
     "status": "completed"
    },
    "tags": []
   },
   "outputs": [],
   "source": [
    "y_true = y_true.squeeze()"
   ]
  },
  {
   "cell_type": "code",
   "execution_count": 48,
   "id": "3a58a54a-1e68-46b9-927a-df01f18aebc8",
   "metadata": {
    "execution": {
     "iopub.execute_input": "2025-07-28T10:56:03.995282Z",
     "iopub.status.busy": "2025-07-28T10:56:03.994843Z",
     "iopub.status.idle": "2025-07-28T10:56:05.710655Z",
     "shell.execute_reply": "2025-07-28T10:56:05.709312Z"
    },
    "papermill": {
     "duration": 1.776076,
     "end_time": "2025-07-28T10:56:05.713083",
     "exception": false,
     "start_time": "2025-07-28T10:56:03.937007",
     "status": "completed"
    },
    "tags": []
   },
   "outputs": [],
   "source": [
    "from fairness_multiverse.conformal import evaluate_sets\n",
    "\n",
    "# Evaluate coverage and average set size on test data\n",
    "metrics = evaluate_sets(pred_sets, y_true)"
   ]
  },
  {
   "cell_type": "markdown",
   "id": "2b569c12-9aaa-4c88-98c9-bbcd0cf3ebb8",
   "metadata": {
    "papermill": {
     "duration": 0.11269,
     "end_time": "2025-07-28T10:56:05.888852",
     "exception": false,
     "start_time": "2025-07-28T10:56:05.776162",
     "status": "completed"
    },
    "tags": []
   },
   "source": [
    "# CP Metrics"
   ]
  },
  {
   "cell_type": "code",
   "execution_count": 49,
   "id": "5ce0a5cb-201f-45a0-ade5-94c7f0bd6095",
   "metadata": {
    "execution": {
     "iopub.execute_input": "2025-07-28T10:56:06.034549Z",
     "iopub.status.busy": "2025-07-28T10:56:06.033952Z",
     "iopub.status.idle": "2025-07-28T10:56:06.042883Z",
     "shell.execute_reply": "2025-07-28T10:56:06.041758Z"
    },
    "papermill": {
     "duration": 0.073145,
     "end_time": "2025-07-28T10:56:06.044658",
     "exception": false,
     "start_time": "2025-07-28T10:56:05.971513",
     "status": "completed"
    },
    "tags": []
   },
   "outputs": [
    {
     "data": {
      "text/plain": [
       "{'coverage': 0.9177460706721658, 'avg_size': 1.1445769702374318}"
      ]
     },
     "execution_count": 49,
     "metadata": {},
     "output_type": "execute_result"
    }
   ],
   "source": [
    "metrics"
   ]
  },
  {
   "cell_type": "code",
   "execution_count": 50,
   "id": "9b9a838d-31c9-430b-ae14-12baee460d17",
   "metadata": {
    "execution": {
     "iopub.execute_input": "2025-07-28T10:56:06.188505Z",
     "iopub.status.busy": "2025-07-28T10:56:06.188065Z",
     "iopub.status.idle": "2025-07-28T10:56:06.195292Z",
     "shell.execute_reply": "2025-07-28T10:56:06.194307Z"
    },
    "papermill": {
     "duration": 0.071933,
     "end_time": "2025-07-28T10:56:06.196853",
     "exception": false,
     "start_time": "2025-07-28T10:56:06.124920",
     "status": "completed"
    },
    "tags": []
   },
   "outputs": [],
   "source": [
    "example_universe = universe.copy()\n",
    "universe_training_size = example_universe.get(\"training_size\")\n",
    "universe_scale = example_universe.get(\"scale\")\n",
    "universe_model = example_universe.get(\"model\")\n",
    "universe_exclude_features = example_universe.get(\"exclude_features\")\n",
    "universe_exclude_subgroups = example_universe.get(\"exclude_subgroups\")"
   ]
  },
  {
   "cell_type": "code",
   "execution_count": 51,
   "id": "f4b6a8ac-9dc0-4245-8a91-5b3b5999c4f9",
   "metadata": {
    "execution": {
     "iopub.execute_input": "2025-07-28T10:56:06.389539Z",
     "iopub.status.busy": "2025-07-28T10:56:06.389071Z",
     "iopub.status.idle": "2025-07-28T10:56:06.396455Z",
     "shell.execute_reply": "2025-07-28T10:56:06.395328Z"
    },
    "papermill": {
     "duration": 0.151492,
     "end_time": "2025-07-28T10:56:06.398058",
     "exception": false,
     "start_time": "2025-07-28T10:56:06.246566",
     "status": "completed"
    },
    "tags": []
   },
   "outputs": [],
   "source": [
    "cp_metrics_dict = {\n",
    "    \"universe_id\": [universe_id],\n",
    "    \"universe_training_size\": [universe_training_size],\n",
    "    \"universe_scale\": [universe_scale],\n",
    "    \"universe_model\": [universe_model],\n",
    "    \"universe_exclude_features\": [universe_exclude_features],\n",
    "    \"universe_exclude_subgroups\": [universe_exclude_subgroups],\n",
    "    \"q_hat\": [q_hat],\n",
    "    \"coverage\": [metrics[\"coverage\"]],\n",
    "    \"avg_size\": [metrics[\"avg_size\"]],\n",
    "}"
   ]
  },
  {
   "cell_type": "code",
   "execution_count": 52,
   "id": "908acbb1-0371-4915-85ca-3fa520d2efe2",
   "metadata": {
    "execution": {
     "iopub.execute_input": "2025-07-28T10:56:06.496909Z",
     "iopub.status.busy": "2025-07-28T10:56:06.495662Z",
     "iopub.status.idle": "2025-07-28T10:56:06.510966Z",
     "shell.execute_reply": "2025-07-28T10:56:06.509647Z"
    },
    "papermill": {
     "duration": 0.074641,
     "end_time": "2025-07-28T10:56:06.527001",
     "exception": false,
     "start_time": "2025-07-28T10:56:06.452360",
     "status": "completed"
    },
    "tags": []
   },
   "outputs": [
    {
     "data": {
      "text/plain": [
       "{'universe_id': ['15806e0afcdcd48d2447c17a2e4a7c6e'],\n",
       " 'universe_training_size': ['2014'],\n",
       " 'universe_scale': ['scale'],\n",
       " 'universe_model': ['rf'],\n",
       " 'universe_exclude_features': ['none'],\n",
       " 'universe_exclude_subgroups': ['keep-all'],\n",
       " 'q_hat': [0.6599999999999999],\n",
       " 'coverage': [0.9177460706721658],\n",
       " 'avg_size': [1.1445769702374318]}"
      ]
     },
     "execution_count": 52,
     "metadata": {},
     "output_type": "execute_result"
    }
   ],
   "source": [
    "cp_metrics_dict"
   ]
  },
  {
   "cell_type": "code",
   "execution_count": 53,
   "id": "33007efc-14e9-4ec6-97ac-56a455c82265",
   "metadata": {
    "execution": {
     "iopub.execute_input": "2025-07-28T10:56:06.633196Z",
     "iopub.status.busy": "2025-07-28T10:56:06.632747Z",
     "iopub.status.idle": "2025-07-28T10:56:06.640585Z",
     "shell.execute_reply": "2025-07-28T10:56:06.639445Z"
    },
    "papermill": {
     "duration": 0.056975,
     "end_time": "2025-07-28T10:56:06.644383",
     "exception": false,
     "start_time": "2025-07-28T10:56:06.587408",
     "status": "completed"
    },
    "tags": []
   },
   "outputs": [],
   "source": [
    "cp_metrics_df = pd.DataFrame(cp_metrics_dict)"
   ]
  },
  {
   "cell_type": "code",
   "execution_count": 54,
   "id": "db12611b-57b2-4910-b9d0-355adfd6e7bf",
   "metadata": {
    "execution": {
     "iopub.execute_input": "2025-07-28T10:56:06.704283Z",
     "iopub.status.busy": "2025-07-28T10:56:06.703814Z",
     "iopub.status.idle": "2025-07-28T10:56:06.739424Z",
     "shell.execute_reply": "2025-07-28T10:56:06.728983Z"
    },
    "papermill": {
     "duration": 0.077177,
     "end_time": "2025-07-28T10:56:06.750395",
     "exception": false,
     "start_time": "2025-07-28T10:56:06.673218",
     "status": "completed"
    },
    "tags": []
   },
   "outputs": [
    {
     "data": {
      "text/html": [
       "<div>\n",
       "<style scoped>\n",
       "    .dataframe tbody tr th:only-of-type {\n",
       "        vertical-align: middle;\n",
       "    }\n",
       "\n",
       "    .dataframe tbody tr th {\n",
       "        vertical-align: top;\n",
       "    }\n",
       "\n",
       "    .dataframe thead th {\n",
       "        text-align: right;\n",
       "    }\n",
       "</style>\n",
       "<table border=\"1\" class=\"dataframe\">\n",
       "  <thead>\n",
       "    <tr style=\"text-align: right;\">\n",
       "      <th></th>\n",
       "      <th>universe_id</th>\n",
       "      <th>universe_training_size</th>\n",
       "      <th>universe_scale</th>\n",
       "      <th>universe_model</th>\n",
       "      <th>universe_exclude_features</th>\n",
       "      <th>universe_exclude_subgroups</th>\n",
       "      <th>q_hat</th>\n",
       "      <th>coverage</th>\n",
       "      <th>avg_size</th>\n",
       "    </tr>\n",
       "  </thead>\n",
       "  <tbody>\n",
       "    <tr>\n",
       "      <th>0</th>\n",
       "      <td>15806e0afcdcd48d2447c17a2e4a7c6e</td>\n",
       "      <td>2014</td>\n",
       "      <td>scale</td>\n",
       "      <td>rf</td>\n",
       "      <td>none</td>\n",
       "      <td>keep-all</td>\n",
       "      <td>0.66</td>\n",
       "      <td>0.917746</td>\n",
       "      <td>1.144577</td>\n",
       "    </tr>\n",
       "  </tbody>\n",
       "</table>\n",
       "</div>"
      ],
      "text/plain": [
       "                        universe_id universe_training_size universe_scale  \\\n",
       "0  15806e0afcdcd48d2447c17a2e4a7c6e                   2014          scale   \n",
       "\n",
       "  universe_model universe_exclude_features universe_exclude_subgroups  q_hat  \\\n",
       "0             rf                      none                   keep-all   0.66   \n",
       "\n",
       "   coverage  avg_size  \n",
       "0  0.917746  1.144577  "
      ]
     },
     "execution_count": 54,
     "metadata": {},
     "output_type": "execute_result"
    }
   ],
   "source": [
    "cp_metrics_df"
   ]
  },
  {
   "cell_type": "code",
   "execution_count": 55,
   "id": "b7fbde55-a0a1-47e4-9af6-fe4a17fa8c61",
   "metadata": {
    "execution": {
     "iopub.execute_input": "2025-07-28T10:56:06.863548Z",
     "iopub.status.busy": "2025-07-28T10:56:06.863081Z",
     "iopub.status.idle": "2025-07-28T10:56:06.871185Z",
     "shell.execute_reply": "2025-07-28T10:56:06.869826Z"
    },
    "papermill": {
     "duration": 0.073785,
     "end_time": "2025-07-28T10:56:06.873450",
     "exception": false,
     "start_time": "2025-07-28T10:56:06.799665",
     "status": "completed"
    },
    "tags": []
   },
   "outputs": [],
   "source": [
    "# Conditional Coverage & looking at subgroups"
   ]
  },
  {
   "cell_type": "code",
   "execution_count": 56,
   "id": "027ae886-68dd-4141-96c7-805a5450e1ef",
   "metadata": {
    "execution": {
     "iopub.execute_input": "2025-07-28T10:56:06.977334Z",
     "iopub.status.busy": "2025-07-28T10:56:06.976793Z",
     "iopub.status.idle": "2025-07-28T10:56:07.626245Z",
     "shell.execute_reply": "2025-07-28T10:56:07.625233Z"
    },
    "papermill": {
     "duration": 0.701363,
     "end_time": "2025-07-28T10:56:07.628399",
     "exception": false,
     "start_time": "2025-07-28T10:56:06.927036",
     "status": "completed"
    },
    "tags": []
   },
   "outputs": [],
   "source": [
    "from fairness_multiverse.conformal import build_cp_groups\n",
    "\n",
    "cp_groups_df = build_cp_groups(pred_sets, y_true, X_test.index, org_test)\n",
    "#needs universe_id and setting"
   ]
  },
  {
   "cell_type": "code",
   "execution_count": 57,
   "id": "01d5802c-663a-4d1f-9d69-e036faaffbf7",
   "metadata": {
    "execution": {
     "iopub.execute_input": "2025-07-28T10:56:07.739605Z",
     "iopub.status.busy": "2025-07-28T10:56:07.739163Z",
     "iopub.status.idle": "2025-07-28T10:56:07.745026Z",
     "shell.execute_reply": "2025-07-28T10:56:07.743738Z"
    },
    "papermill": {
     "duration": 0.069034,
     "end_time": "2025-07-28T10:56:07.747008",
     "exception": false,
     "start_time": "2025-07-28T10:56:07.677974",
     "status": "completed"
    },
    "tags": []
   },
   "outputs": [],
   "source": [
    "#delete\n",
    "#cp_groups_df"
   ]
  },
  {
   "cell_type": "code",
   "execution_count": 58,
   "id": "fa424af1-d1eb-443d-b717-2d279ada8408",
   "metadata": {
    "execution": {
     "iopub.execute_input": "2025-07-28T10:56:07.859324Z",
     "iopub.status.busy": "2025-07-28T10:56:07.858848Z",
     "iopub.status.idle": "2025-07-28T10:56:07.864397Z",
     "shell.execute_reply": "2025-07-28T10:56:07.863245Z"
    },
    "papermill": {
     "duration": 0.064429,
     "end_time": "2025-07-28T10:56:07.866303",
     "exception": false,
     "start_time": "2025-07-28T10:56:07.801874",
     "status": "completed"
    },
    "tags": []
   },
   "outputs": [],
   "source": [
    "#delete\n",
    "#percentage = (cp_groups_df['nongerman_female'] == 1).mean() * 100\n",
    "#print(percentage)\n"
   ]
  },
  {
   "cell_type": "code",
   "execution_count": 59,
   "id": "6cbdab96-b2b2-45af-ad54-d0516db2e28d",
   "metadata": {
    "execution": {
     "iopub.execute_input": "2025-07-28T10:56:07.975851Z",
     "iopub.status.busy": "2025-07-28T10:56:07.975373Z",
     "iopub.status.idle": "2025-07-28T10:56:10.844660Z",
     "shell.execute_reply": "2025-07-28T10:56:10.826758Z"
    },
    "papermill": {
     "duration": 2.928808,
     "end_time": "2025-07-28T10:56:10.846982",
     "exception": false,
     "start_time": "2025-07-28T10:56:07.918174",
     "status": "completed"
    },
    "tags": []
   },
   "outputs": [],
   "source": [
    "# Define covered = 1 if true_label is in the predicted set\n",
    "cp_groups_df['covered'] = cp_groups_df.apply(\n",
    "    lambda r: int(r['true_label'] in r['pred_set']),\n",
    "    axis=1\n",
    ")"
   ]
  },
  {
   "cell_type": "code",
   "execution_count": 60,
   "id": "338ff529-1a6b-4b87-a931-8e4788d52aad",
   "metadata": {
    "execution": {
     "iopub.execute_input": "2025-07-28T10:56:11.007362Z",
     "iopub.status.busy": "2025-07-28T10:56:11.006830Z",
     "iopub.status.idle": "2025-07-28T10:56:11.014806Z",
     "shell.execute_reply": "2025-07-28T10:56:11.013710Z"
    },
    "papermill": {
     "duration": 0.085749,
     "end_time": "2025-07-28T10:56:11.017330",
     "exception": false,
     "start_time": "2025-07-28T10:56:10.931581",
     "status": "completed"
    },
    "tags": []
   },
   "outputs": [],
   "source": [
    "#cp_groups_df"
   ]
  },
  {
   "cell_type": "code",
   "execution_count": 61,
   "id": "90032e27-66df-4540-9169-4e89cfbaa758",
   "metadata": {
    "execution": {
     "iopub.execute_input": "2025-07-28T10:56:11.134669Z",
     "iopub.status.busy": "2025-07-28T10:56:11.134277Z",
     "iopub.status.idle": "2025-07-28T10:56:11.148205Z",
     "shell.execute_reply": "2025-07-28T10:56:11.146916Z"
    },
    "papermill": {
     "duration": 0.070233,
     "end_time": "2025-07-28T10:56:11.150445",
     "exception": false,
     "start_time": "2025-07-28T10:56:11.080212",
     "status": "completed"
    },
    "tags": []
   },
   "outputs": [],
   "source": [
    "subgroups = ['frau1','nongerman','nongerman_male','nongerman_female']\n",
    "\n",
    "# Conditional coverage for subgroup==1\n",
    "cond_coverage = {\n",
    "    g: cp_groups_df.loc[cp_groups_df[g]==1, 'covered'].mean()\n",
    "    for g in subgroups\n",
    "}"
   ]
  },
  {
   "cell_type": "code",
   "execution_count": 62,
   "id": "1e348fb1-b9c3-45bc-ba23-f016827a7e0d",
   "metadata": {
    "execution": {
     "iopub.execute_input": "2025-07-28T10:56:11.202090Z",
     "iopub.status.busy": "2025-07-28T10:56:11.201052Z",
     "iopub.status.idle": "2025-07-28T10:56:11.208873Z",
     "shell.execute_reply": "2025-07-28T10:56:11.207912Z"
    },
    "papermill": {
     "duration": 0.037324,
     "end_time": "2025-07-28T10:56:11.212737",
     "exception": false,
     "start_time": "2025-07-28T10:56:11.175413",
     "status": "completed"
    },
    "tags": []
   },
   "outputs": [
    {
     "data": {
      "text/plain": [
       "{'frau1': 0.9189109044345599,\n",
       " 'nongerman': 0.9141638129456016,\n",
       " 'nongerman_male': 0.9266864811312258,\n",
       " 'nongerman_female': 0.8934426229508197}"
      ]
     },
     "execution_count": 62,
     "metadata": {},
     "output_type": "execute_result"
    }
   ],
   "source": [
    "cond_coverage"
   ]
  },
  {
   "cell_type": "code",
   "execution_count": 63,
   "id": "f5093324-c3dd-4d63-bc4c-8d945e5c8bbb",
   "metadata": {
    "execution": {
     "iopub.execute_input": "2025-07-28T10:56:11.268482Z",
     "iopub.status.busy": "2025-07-28T10:56:11.267324Z",
     "iopub.status.idle": "2025-07-28T10:56:11.282096Z",
     "shell.execute_reply": "2025-07-28T10:56:11.280166Z"
    },
    "papermill": {
     "duration": 0.050844,
     "end_time": "2025-07-28T10:56:11.290452",
     "exception": false,
     "start_time": "2025-07-28T10:56:11.239608",
     "status": "completed"
    },
    "tags": []
   },
   "outputs": [],
   "source": [
    "for subgroup, cov in cond_coverage.items():\n",
    "    cp_metrics_df[f\"cov_{subgroup}\"] = cov"
   ]
  },
  {
   "cell_type": "code",
   "execution_count": 64,
   "id": "6e872e10-dbe5-49e8-b554-5030c98ff75d",
   "metadata": {
    "execution": {
     "iopub.execute_input": "2025-07-28T10:56:11.426234Z",
     "iopub.status.busy": "2025-07-28T10:56:11.425758Z",
     "iopub.status.idle": "2025-07-28T10:56:11.453924Z",
     "shell.execute_reply": "2025-07-28T10:56:11.452924Z"
    },
    "papermill": {
     "duration": 0.103249,
     "end_time": "2025-07-28T10:56:11.455826",
     "exception": false,
     "start_time": "2025-07-28T10:56:11.352577",
     "status": "completed"
    },
    "tags": []
   },
   "outputs": [
    {
     "data": {
      "text/html": [
       "<div>\n",
       "<style scoped>\n",
       "    .dataframe tbody tr th:only-of-type {\n",
       "        vertical-align: middle;\n",
       "    }\n",
       "\n",
       "    .dataframe tbody tr th {\n",
       "        vertical-align: top;\n",
       "    }\n",
       "\n",
       "    .dataframe thead th {\n",
       "        text-align: right;\n",
       "    }\n",
       "</style>\n",
       "<table border=\"1\" class=\"dataframe\">\n",
       "  <thead>\n",
       "    <tr style=\"text-align: right;\">\n",
       "      <th></th>\n",
       "      <th>universe_id</th>\n",
       "      <th>universe_training_size</th>\n",
       "      <th>universe_scale</th>\n",
       "      <th>universe_model</th>\n",
       "      <th>universe_exclude_features</th>\n",
       "      <th>universe_exclude_subgroups</th>\n",
       "      <th>q_hat</th>\n",
       "      <th>coverage</th>\n",
       "      <th>avg_size</th>\n",
       "      <th>cov_frau1</th>\n",
       "      <th>cov_nongerman</th>\n",
       "      <th>cov_nongerman_male</th>\n",
       "      <th>cov_nongerman_female</th>\n",
       "    </tr>\n",
       "  </thead>\n",
       "  <tbody>\n",
       "    <tr>\n",
       "      <th>0</th>\n",
       "      <td>15806e0afcdcd48d2447c17a2e4a7c6e</td>\n",
       "      <td>2014</td>\n",
       "      <td>scale</td>\n",
       "      <td>rf</td>\n",
       "      <td>none</td>\n",
       "      <td>keep-all</td>\n",
       "      <td>0.66</td>\n",
       "      <td>0.917746</td>\n",
       "      <td>1.144577</td>\n",
       "      <td>0.918911</td>\n",
       "      <td>0.914164</td>\n",
       "      <td>0.926686</td>\n",
       "      <td>0.893443</td>\n",
       "    </tr>\n",
       "  </tbody>\n",
       "</table>\n",
       "</div>"
      ],
      "text/plain": [
       "                        universe_id universe_training_size universe_scale  \\\n",
       "0  15806e0afcdcd48d2447c17a2e4a7c6e                   2014          scale   \n",
       "\n",
       "  universe_model universe_exclude_features universe_exclude_subgroups  q_hat  \\\n",
       "0             rf                      none                   keep-all   0.66   \n",
       "\n",
       "   coverage  avg_size  cov_frau1  cov_nongerman  cov_nongerman_male  \\\n",
       "0  0.917746  1.144577   0.918911       0.914164            0.926686   \n",
       "\n",
       "   cov_nongerman_female  \n",
       "0              0.893443  "
      ]
     },
     "execution_count": 64,
     "metadata": {},
     "output_type": "execute_result"
    }
   ],
   "source": [
    "cp_metrics_df"
   ]
  },
  {
   "cell_type": "markdown",
   "id": "33774451",
   "metadata": {
    "papermill": {
     "duration": 0.02644,
     "end_time": "2025-07-28T10:56:11.515011",
     "exception": false,
     "start_time": "2025-07-28T10:56:11.488571",
     "status": "completed"
    },
    "tags": []
   },
   "source": [
    "# (Fairness) Metrics"
   ]
  },
  {
   "cell_type": "code",
   "execution_count": 65,
   "id": "debc5d62",
   "metadata": {
    "execution": {
     "iopub.execute_input": "2025-07-28T10:56:11.575372Z",
     "iopub.status.busy": "2025-07-28T10:56:11.574278Z",
     "iopub.status.idle": "2025-07-28T10:56:11.626322Z",
     "shell.execute_reply": "2025-07-28T10:56:11.625287Z"
    },
    "papermill": {
     "duration": 0.085774,
     "end_time": "2025-07-28T10:56:11.628814",
     "exception": false,
     "start_time": "2025-07-28T10:56:11.543040",
     "status": "completed"
    },
    "tags": []
   },
   "outputs": [],
   "source": [
    "# do I need to include maxdeutsch1.missing?\n",
    "\n",
    "import numpy as np\n",
    "\n",
    "colname_to_bin = \"maxdeutsch1\"\n",
    "majority_value = org_train[colname_to_bin].mode()[0]\n",
    "\n",
    "org_test[\"majmin\"] = np.where(org_test[colname_to_bin] == majority_value, \"majority\", \"minority\")"
   ]
  },
  {
   "cell_type": "code",
   "execution_count": 66,
   "id": "06a50de5",
   "metadata": {
    "execution": {
     "iopub.execute_input": "2025-07-28T10:56:11.696621Z",
     "iopub.status.busy": "2025-07-28T10:56:11.696162Z",
     "iopub.status.idle": "2025-07-28T10:56:19.733474Z",
     "shell.execute_reply": "2025-07-28T10:56:19.732132Z"
    },
    "papermill": {
     "duration": 8.069926,
     "end_time": "2025-07-28T10:56:19.735411",
     "exception": false,
     "start_time": "2025-07-28T10:56:11.665485",
     "status": "completed"
    },
    "tags": []
   },
   "outputs": [],
   "source": [
    "example_universe = universe.copy()\n",
    "example_universe[\"cutoff\"] = example_universe[\"cutoff\"][0]\n",
    "example_universe[\"eval_fairness_grouping\"] = example_universe[\"eval_fairness_grouping\"][0]\n",
    "fairness_dict, metric_frame = universe_analysis.compute_metrics(\n",
    "    example_universe,\n",
    "    y_pred_prob=probs_test,\n",
    "    y_test=y_true,\n",
    "    org_test=org_test,\n",
    ")"
   ]
  },
  {
   "cell_type": "markdown",
   "id": "f95d4e02",
   "metadata": {
    "papermill": {
     "duration": 0.059883,
     "end_time": "2025-07-28T10:56:19.868568",
     "exception": false,
     "start_time": "2025-07-28T10:56:19.808685",
     "status": "completed"
    },
    "tags": []
   },
   "source": [
    "# Overall"
   ]
  },
  {
   "cell_type": "markdown",
   "id": "bdee4871",
   "metadata": {
    "papermill": {
     "duration": 0.083377,
     "end_time": "2025-07-28T10:56:20.032141",
     "exception": false,
     "start_time": "2025-07-28T10:56:19.948764",
     "status": "completed"
    },
    "tags": []
   },
   "source": [
    "Fairness\n",
    "Main fairness target: Equalized Odds. Seems to be a better fit than equal opportunity, since we're not only interested in Y = 1. Seems to be a better fit than demographic parity, since we also care about accuracy, not just equal distribution of preds.\n",
    "\n",
    "Pick column for computation of fairness metrics\n",
    "\n",
    "Performance\n",
    "Overall performance measures, most interesting in relation to the measures split by group below"
   ]
  },
  {
   "cell_type": "code",
   "execution_count": 67,
   "id": "c4e067c6",
   "metadata": {
    "execution": {
     "iopub.execute_input": "2025-07-28T10:56:20.153434Z",
     "iopub.status.busy": "2025-07-28T10:56:20.152945Z",
     "iopub.status.idle": "2025-07-28T10:56:20.163070Z",
     "shell.execute_reply": "2025-07-28T10:56:20.162078Z"
    },
    "papermill": {
     "duration": 0.064617,
     "end_time": "2025-07-28T10:56:20.164732",
     "exception": false,
     "start_time": "2025-07-28T10:56:20.100115",
     "status": "completed"
    },
    "tags": []
   },
   "outputs": [
    {
     "data": {
      "text/plain": [
       "accuracy                   0.207814\n",
       "balanced accuracy          0.535985\n",
       "f1                         0.240437\n",
       "precision                  0.137079\n",
       "false positive rate        0.905437\n",
       "false negative rate        0.022593\n",
       "selection rate             0.914669\n",
       "count                  89710.000000\n",
       "dtype: float64"
      ]
     },
     "execution_count": 67,
     "metadata": {},
     "output_type": "execute_result"
    }
   ],
   "source": [
    "metric_frame.overall"
   ]
  },
  {
   "cell_type": "markdown",
   "id": "e968fe9d",
   "metadata": {
    "papermill": {
     "duration": 0.076959,
     "end_time": "2025-07-28T10:56:20.325064",
     "exception": false,
     "start_time": "2025-07-28T10:56:20.248105",
     "status": "completed"
    },
    "tags": []
   },
   "source": [
    "By Group"
   ]
  },
  {
   "cell_type": "code",
   "execution_count": 68,
   "id": "ec325bce",
   "metadata": {
    "execution": {
     "iopub.execute_input": "2025-07-28T10:56:20.432952Z",
     "iopub.status.busy": "2025-07-28T10:56:20.432489Z",
     "iopub.status.idle": "2025-07-28T10:56:20.460430Z",
     "shell.execute_reply": "2025-07-28T10:56:20.459385Z"
    },
    "papermill": {
     "duration": 0.086653,
     "end_time": "2025-07-28T10:56:20.462302",
     "exception": false,
     "start_time": "2025-07-28T10:56:20.375649",
     "status": "completed"
    },
    "tags": []
   },
   "outputs": [
    {
     "data": {
      "text/html": [
       "<div>\n",
       "<style scoped>\n",
       "    .dataframe tbody tr th:only-of-type {\n",
       "        vertical-align: middle;\n",
       "    }\n",
       "\n",
       "    .dataframe tbody tr th {\n",
       "        vertical-align: top;\n",
       "    }\n",
       "\n",
       "    .dataframe thead th {\n",
       "        text-align: right;\n",
       "    }\n",
       "</style>\n",
       "<table border=\"1\" class=\"dataframe\">\n",
       "  <thead>\n",
       "    <tr style=\"text-align: right;\">\n",
       "      <th></th>\n",
       "      <th>accuracy</th>\n",
       "      <th>balanced accuracy</th>\n",
       "      <th>f1</th>\n",
       "      <th>precision</th>\n",
       "      <th>false positive rate</th>\n",
       "      <th>false negative rate</th>\n",
       "      <th>selection rate</th>\n",
       "      <th>count</th>\n",
       "    </tr>\n",
       "    <tr>\n",
       "      <th>majmin</th>\n",
       "      <th></th>\n",
       "      <th></th>\n",
       "      <th></th>\n",
       "      <th></th>\n",
       "      <th></th>\n",
       "      <th></th>\n",
       "      <th></th>\n",
       "      <th></th>\n",
       "    </tr>\n",
       "  </thead>\n",
       "  <tbody>\n",
       "    <tr>\n",
       "      <th>majority</th>\n",
       "      <td>0.199060</td>\n",
       "      <td>0.534521</td>\n",
       "      <td>0.246317</td>\n",
       "      <td>0.140647</td>\n",
       "      <td>0.921439</td>\n",
       "      <td>0.009519</td>\n",
       "      <td>0.930562</td>\n",
       "      <td>69170.0</td>\n",
       "    </tr>\n",
       "    <tr>\n",
       "      <th>minority</th>\n",
       "      <td>0.237293</td>\n",
       "      <td>0.537184</td>\n",
       "      <td>0.218887</td>\n",
       "      <td>0.124095</td>\n",
       "      <td>0.852575</td>\n",
       "      <td>0.073057</td>\n",
       "      <td>0.861149</td>\n",
       "      <td>20540.0</td>\n",
       "    </tr>\n",
       "  </tbody>\n",
       "</table>\n",
       "</div>"
      ],
      "text/plain": [
       "          accuracy  balanced accuracy        f1  precision  \\\n",
       "majmin                                                       \n",
       "majority  0.199060           0.534521  0.246317   0.140647   \n",
       "minority  0.237293           0.537184  0.218887   0.124095   \n",
       "\n",
       "          false positive rate  false negative rate  selection rate    count  \n",
       "majmin                                                                       \n",
       "majority             0.921439             0.009519        0.930562  69170.0  \n",
       "minority             0.852575             0.073057        0.861149  20540.0  "
      ]
     },
     "execution_count": 68,
     "metadata": {},
     "output_type": "execute_result"
    }
   ],
   "source": [
    "metric_frame.by_group"
   ]
  },
  {
   "cell_type": "code",
   "execution_count": 69,
   "id": "a9ddbe63",
   "metadata": {
    "execution": {
     "iopub.execute_input": "2025-07-28T10:56:20.580168Z",
     "iopub.status.busy": "2025-07-28T10:56:20.579651Z",
     "iopub.status.idle": "2025-07-28T10:56:25.673136Z",
     "shell.execute_reply": "2025-07-28T10:56:25.671968Z"
    },
    "papermill": {
     "duration": 5.156188,
     "end_time": "2025-07-28T10:56:25.675252",
     "exception": false,
     "start_time": "2025-07-28T10:56:20.519064",
     "status": "completed"
    },
    "tags": []
   },
   "outputs": [
    {
     "data": {
      "text/plain": [
       "array([[<Axes: title={'center': 'accuracy'}, xlabel='majmin'>,\n",
       "        <Axes: title={'center': 'balanced accuracy'}, xlabel='majmin'>,\n",
       "        <Axes: title={'center': 'f1'}, xlabel='majmin'>],\n",
       "       [<Axes: title={'center': 'precision'}, xlabel='majmin'>,\n",
       "        <Axes: title={'center': 'false positive rate'}, xlabel='majmin'>,\n",
       "        <Axes: title={'center': 'false negative rate'}, xlabel='majmin'>],\n",
       "       [<Axes: title={'center': 'selection rate'}, xlabel='majmin'>,\n",
       "        <Axes: title={'center': 'count'}, xlabel='majmin'>,\n",
       "        <Axes: xlabel='majmin'>]], dtype=object)"
      ]
     },
     "execution_count": 69,
     "metadata": {},
     "output_type": "execute_result"
    },
    {
     "data": {
      "image/png": "[encoded data removed]",
      "text/plain": [
       "<Figure size 1200x800 with 9 Axes>"
      ]
     },
     "metadata": {},
     "output_type": "display_data"
    }
   ],
   "source": [
    "# In a graphic\n",
    "metric_frame.by_group.plot.bar(\n",
    "    subplots=True,\n",
    "    layout=[3, 3],\n",
    "    legend=False,\n",
    "    figsize=[12, 8],\n",
    "    title=\"Show all metrics\",\n",
    ")"
   ]
  },
  {
   "cell_type": "markdown",
   "id": "f57a0bac",
   "metadata": {
    "papermill": {
     "duration": 0.072439,
     "end_time": "2025-07-28T10:56:25.825786",
     "exception": false,
     "start_time": "2025-07-28T10:56:25.753347",
     "status": "completed"
    },
    "tags": []
   },
   "source": [
    "# Final Output"
   ]
  },
  {
   "cell_type": "code",
   "execution_count": 70,
   "id": "96d280a3",
   "metadata": {
    "execution": {
     "iopub.execute_input": "2025-07-28T10:56:25.970524Z",
     "iopub.status.busy": "2025-07-28T10:56:25.969861Z",
     "iopub.status.idle": "2025-07-28T10:56:25.978879Z",
     "shell.execute_reply": "2025-07-28T10:56:25.977800Z"
    },
    "papermill": {
     "duration": 0.09312,
     "end_time": "2025-07-28T10:56:25.980618",
     "exception": false,
     "start_time": "2025-07-28T10:56:25.887498",
     "status": "completed"
    },
    "tags": []
   },
   "outputs": [
    {
     "data": {
      "text/plain": [
       "4"
      ]
     },
     "execution_count": 70,
     "metadata": {},
     "output_type": "execute_result"
    }
   ],
   "source": [
    "sub_universes = universe_analysis.generate_sub_universes()\n",
    "len(sub_universes)"
   ]
  },
  {
   "cell_type": "code",
   "execution_count": 71,
   "id": "92adf7ba",
   "metadata": {
    "execution": {
     "iopub.execute_input": "2025-07-28T10:56:26.142811Z",
     "iopub.status.busy": "2025-07-28T10:56:26.142356Z",
     "iopub.status.idle": "2025-07-28T10:56:26.149460Z",
     "shell.execute_reply": "2025-07-28T10:56:26.148360Z"
    },
    "papermill": {
     "duration": 0.071059,
     "end_time": "2025-07-28T10:56:26.151341",
     "exception": false,
     "start_time": "2025-07-28T10:56:26.080282",
     "status": "completed"
    },
    "tags": []
   },
   "outputs": [],
   "source": [
    "def filter_sub_universe_data(sub_universe, org_test):\n",
    "    # Keep all rows — no filtering\n",
    "    keep_rows_mask = np.ones(org_test.shape[0], dtype=bool)\n",
    "\n",
    "    print(f\"[INFO] Keeping all rows: {keep_rows_mask.sum()} rows retained.\")\n",
    "    return keep_rows_mask"
   ]
  },
  {
   "cell_type": "code",
   "execution_count": 72,
   "id": "4a759155",
   "metadata": {
    "execution": {
     "iopub.execute_input": "2025-07-28T10:56:26.310647Z",
     "iopub.status.busy": "2025-07-28T10:56:26.310150Z",
     "iopub.status.idle": "2025-07-28T10:56:42.736887Z",
     "shell.execute_reply": "2025-07-28T10:56:42.736037Z"
    },
    "papermill": {
     "duration": 16.506284,
     "end_time": "2025-07-28T10:56:42.738579",
     "exception": false,
     "start_time": "2025-07-28T10:56:26.232295",
     "status": "completed"
    },
    "tags": []
   },
   "outputs": [
    {
     "name": "stdout",
     "output_type": "stream",
     "text": [
      "Stopping execution_time clock.\n",
      "[INFO] Keeping all rows: 89710 rows retained.\n"
     ]
    },
    {
     "name": "stdout",
     "output_type": "stream",
     "text": [
      "[INFO] Keeping all rows: 89710 rows retained.\n"
     ]
    },
    {
     "name": "stdout",
     "output_type": "stream",
     "text": [
      "[INFO] Keeping all rows: 89710 rows retained.\n"
     ]
    },
    {
     "name": "stdout",
     "output_type": "stream",
     "text": [
      "[INFO] Keeping all rows: 89710 rows retained.\n"
     ]
    },
    {
     "data": {
      "text/html": [
       "<div>\n",
       "<style scoped>\n",
       "    .dataframe tbody tr th:only-of-type {\n",
       "        vertical-align: middle;\n",
       "    }\n",
       "\n",
       "    .dataframe tbody tr th {\n",
       "        vertical-align: top;\n",
       "    }\n",
       "\n",
       "    .dataframe thead th {\n",
       "        text-align: right;\n",
       "    }\n",
       "</style>\n",
       "<table border=\"1\" class=\"dataframe\">\n",
       "  <thead>\n",
       "    <tr style=\"text-align: right;\">\n",
       "      <th></th>\n",
       "      <th>run_no</th>\n",
       "      <th>universe_id</th>\n",
       "      <th>universe_settings</th>\n",
       "      <th>execution_time</th>\n",
       "      <th>test_size_n</th>\n",
       "      <th>test_size_frac</th>\n",
       "      <th>fair_main_equalized_odds_difference</th>\n",
       "      <th>fair_main_equalized_odds_ratio</th>\n",
       "      <th>fair_main_demographic_parity_difference</th>\n",
       "      <th>fair_main_demographic_parity_ratio</th>\n",
       "      <th>...</th>\n",
       "      <th>perf_grp_precision_0</th>\n",
       "      <th>perf_grp_precision_1</th>\n",
       "      <th>perf_grp_false positive rate_0</th>\n",
       "      <th>perf_grp_false positive rate_1</th>\n",
       "      <th>perf_grp_false negative rate_0</th>\n",
       "      <th>perf_grp_false negative rate_1</th>\n",
       "      <th>perf_grp_selection rate_0</th>\n",
       "      <th>perf_grp_selection rate_1</th>\n",
       "      <th>perf_grp_count_0</th>\n",
       "      <th>perf_grp_count_1</th>\n",
       "    </tr>\n",
       "  </thead>\n",
       "  <tbody>\n",
       "    <tr>\n",
       "      <th>0</th>\n",
       "      <td>11</td>\n",
       "      <td>15806e0afcdcd48d2447c17a2e4a7c6e</td>\n",
       "      <td>{\"cutoff\": \"quantile_0.1\", \"eval_fairness_grou...</td>\n",
       "      <td>64.056089</td>\n",
       "      <td>89710</td>\n",
       "      <td>1.0</td>\n",
       "      <td>0.068864</td>\n",
       "      <td>0.925265</td>\n",
       "      <td>0.069413</td>\n",
       "      <td>0.925407</td>\n",
       "      <td>...</td>\n",
       "      <td>NaN</td>\n",
       "      <td>NaN</td>\n",
       "      <td>NaN</td>\n",
       "      <td>NaN</td>\n",
       "      <td>NaN</td>\n",
       "      <td>NaN</td>\n",
       "      <td>NaN</td>\n",
       "      <td>NaN</td>\n",
       "      <td>NaN</td>\n",
       "      <td>NaN</td>\n",
       "    </tr>\n",
       "    <tr>\n",
       "      <th>0</th>\n",
       "      <td>11</td>\n",
       "      <td>15806e0afcdcd48d2447c17a2e4a7c6e</td>\n",
       "      <td>{\"cutoff\": \"quantile_0.1\", \"eval_fairness_grou...</td>\n",
       "      <td>64.056089</td>\n",
       "      <td>89710</td>\n",
       "      <td>1.0</td>\n",
       "      <td>0.068864</td>\n",
       "      <td>0.925265</td>\n",
       "      <td>0.069413</td>\n",
       "      <td>0.925407</td>\n",
       "      <td>...</td>\n",
       "      <td>0.124095</td>\n",
       "      <td>0.140647</td>\n",
       "      <td>0.852575</td>\n",
       "      <td>0.921439</td>\n",
       "      <td>0.073057</td>\n",
       "      <td>0.009519</td>\n",
       "      <td>0.861149</td>\n",
       "      <td>0.930562</td>\n",
       "      <td>20540.0</td>\n",
       "      <td>69170.0</td>\n",
       "    </tr>\n",
       "    <tr>\n",
       "      <th>0</th>\n",
       "      <td>11</td>\n",
       "      <td>15806e0afcdcd48d2447c17a2e4a7c6e</td>\n",
       "      <td>{\"cutoff\": \"quantile_0.25\", \"eval_fairness_gro...</td>\n",
       "      <td>64.056089</td>\n",
       "      <td>89710</td>\n",
       "      <td>1.0</td>\n",
       "      <td>0.105526</td>\n",
       "      <td>0.889670</td>\n",
       "      <td>0.079212</td>\n",
       "      <td>0.897697</td>\n",
       "      <td>...</td>\n",
       "      <td>NaN</td>\n",
       "      <td>NaN</td>\n",
       "      <td>NaN</td>\n",
       "      <td>NaN</td>\n",
       "      <td>NaN</td>\n",
       "      <td>NaN</td>\n",
       "      <td>NaN</td>\n",
       "      <td>NaN</td>\n",
       "      <td>NaN</td>\n",
       "      <td>NaN</td>\n",
       "    </tr>\n",
       "    <tr>\n",
       "      <th>0</th>\n",
       "      <td>11</td>\n",
       "      <td>15806e0afcdcd48d2447c17a2e4a7c6e</td>\n",
       "      <td>{\"cutoff\": \"quantile_0.25\", \"eval_fairness_gro...</td>\n",
       "      <td>64.056089</td>\n",
       "      <td>89710</td>\n",
       "      <td>1.0</td>\n",
       "      <td>0.105526</td>\n",
       "      <td>0.889670</td>\n",
       "      <td>0.079212</td>\n",
       "      <td>0.897697</td>\n",
       "      <td>...</td>\n",
       "      <td>0.141136</td>\n",
       "      <td>0.163225</td>\n",
       "      <td>0.674774</td>\n",
       "      <td>0.746560</td>\n",
       "      <td>0.149071</td>\n",
       "      <td>0.043545</td>\n",
       "      <td>0.695083</td>\n",
       "      <td>0.774295</td>\n",
       "      <td>20540.0</td>\n",
       "      <td>69170.0</td>\n",
       "    </tr>\n",
       "  </tbody>\n",
       "</table>\n",
       "<p>4 rows × 50 columns</p>\n",
       "</div>"
      ],
      "text/plain": [
       "  run_no                       universe_id  \\\n",
       "0     11  15806e0afcdcd48d2447c17a2e4a7c6e   \n",
       "0     11  15806e0afcdcd48d2447c17a2e4a7c6e   \n",
       "0     11  15806e0afcdcd48d2447c17a2e4a7c6e   \n",
       "0     11  15806e0afcdcd48d2447c17a2e4a7c6e   \n",
       "\n",
       "                                   universe_settings  execution_time  \\\n",
       "0  {\"cutoff\": \"quantile_0.1\", \"eval_fairness_grou...       64.056089   \n",
       "0  {\"cutoff\": \"quantile_0.1\", \"eval_fairness_grou...       64.056089   \n",
       "0  {\"cutoff\": \"quantile_0.25\", \"eval_fairness_gro...       64.056089   \n",
       "0  {\"cutoff\": \"quantile_0.25\", \"eval_fairness_gro...       64.056089   \n",
       "\n",
       "   test_size_n  test_size_frac  fair_main_equalized_odds_difference  \\\n",
       "0        89710             1.0                             0.068864   \n",
       "0        89710             1.0                             0.068864   \n",
       "0        89710             1.0                             0.105526   \n",
       "0        89710             1.0                             0.105526   \n",
       "\n",
       "   fair_main_equalized_odds_ratio  fair_main_demographic_parity_difference  \\\n",
       "0                        0.925265                                 0.069413   \n",
       "0                        0.925265                                 0.069413   \n",
       "0                        0.889670                                 0.079212   \n",
       "0                        0.889670                                 0.079212   \n",
       "\n",
       "   fair_main_demographic_parity_ratio  ...  perf_grp_precision_0  \\\n",
       "0                            0.925407  ...                   NaN   \n",
       "0                            0.925407  ...              0.124095   \n",
       "0                            0.897697  ...                   NaN   \n",
       "0                            0.897697  ...              0.141136   \n",
       "\n",
       "   perf_grp_precision_1  perf_grp_false positive rate_0  \\\n",
       "0                   NaN                             NaN   \n",
       "0              0.140647                        0.852575   \n",
       "0                   NaN                             NaN   \n",
       "0              0.163225                        0.674774   \n",
       "\n",
       "   perf_grp_false positive rate_1  perf_grp_false negative rate_0  \\\n",
       "0                             NaN                             NaN   \n",
       "0                        0.921439                        0.073057   \n",
       "0                             NaN                             NaN   \n",
       "0                        0.746560                        0.149071   \n",
       "\n",
       "   perf_grp_false negative rate_1  perf_grp_selection rate_0  \\\n",
       "0                             NaN                        NaN   \n",
       "0                        0.009519                   0.861149   \n",
       "0                             NaN                        NaN   \n",
       "0                        0.043545                   0.695083   \n",
       "\n",
       "   perf_grp_selection rate_1  perf_grp_count_0  perf_grp_count_1  \n",
       "0                        NaN               NaN               NaN  \n",
       "0                   0.930562           20540.0           69170.0  \n",
       "0                        NaN               NaN               NaN  \n",
       "0                   0.774295           20540.0           69170.0  \n",
       "\n",
       "[4 rows x 50 columns]"
      ]
     },
     "execution_count": 72,
     "metadata": {},
     "output_type": "execute_result"
    }
   ],
   "source": [
    "final_output = universe_analysis.generate_final_output(\n",
    "    y_pred_prob=probs_test,\n",
    "    y_test=y_true,\n",
    "    org_test=org_test,\n",
    "    filter_data=filter_sub_universe_data,\n",
    "    cp_metrics_df=cp_metrics_df,\n",
    "    save=True,\n",
    ")\n",
    "final_output"
   ]
  },
  {
   "cell_type": "code",
   "execution_count": null,
   "id": "721ff514-cb11-46f8-b6fc-50392f74b5cb",
   "metadata": {
    "papermill": {
     "duration": 0.02842,
     "end_time": "2025-07-28T10:56:42.797821",
     "exception": false,
     "start_time": "2025-07-28T10:56:42.769401",
     "status": "completed"
    },
    "tags": []
   },
   "outputs": [],
   "source": []
  }
 ],
 "metadata": {
  "celltoolbar": "Tags",
  "kernelspec": {
   "display_name": "Python (CMA Fairness)",
   "language": "python",
   "name": "cma_fair_env"
  },
  "language_info": {
   "codemirror_mode": {
    "name": "ipython",
    "version": 3
   },
   "file_extension": ".py",
   "mimetype": "text/x-python",
   "name": "python",
   "nbconvert_exporter": "python",
   "pygments_lexer": "ipython3",
   "version": "3.10.12"
  },
  "papermill": {
   "default_parameters": {},
   "duration": 84.929613,
   "end_time": "2025-07-28T10:56:43.646138",
   "environment_variables": {},
   "exception": null,
   "input_path": "universe_analysis.ipynb",
   "output_path": "output/runs/11/notebooks/m_11-15806e0afcdcd48d2447c17a2e4a7c6e.ipynb",
   "parameters": {
    "output_dir": "output",
    "run_no": "11",
    "seed": "2023",
    "universe": "{\"cutoff\": [\"quantile_0.1\", \"quantile_0.25\"], \"eval_fairness_grouping\": [\"majority-minority\", \"nationality-all\"], \"exclude_features\": \"none\", \"exclude_subgroups\": \"keep-all\", \"model\": \"rf\", \"scale\": \"scale\", \"training_size\": \"2014\"}",
    "universe_id": "15806e0afcdcd48d2447c17a2e4a7c6e"
   },
   "start_time": "2025-07-28T10:55:18.716525",
   "version": "2.6.0"
  }
 },
 "nbformat": 4,
 "nbformat_minor": 5
}