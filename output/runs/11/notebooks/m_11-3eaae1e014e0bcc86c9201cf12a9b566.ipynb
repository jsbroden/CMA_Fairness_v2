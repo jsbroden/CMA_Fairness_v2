{
 "cells": [
  {
   "cell_type": "code",
   "execution_count": 1,
   "id": "f159f837-637b-42ba-96b5-ec9a68c44524",
   "metadata": {
    "execution": {
     "iopub.execute_input": "2025-07-28T10:53:31.319833Z",
     "iopub.status.busy": "2025-07-28T10:53:31.319327Z",
     "iopub.status.idle": "2025-07-28T10:53:31.335214Z",
     "shell.execute_reply": "2025-07-28T10:53:31.334301Z"
    },
    "papermill": {
     "duration": 0.0374,
     "end_time": "2025-07-28T10:53:31.337190",
     "exception": false,
     "start_time": "2025-07-28T10:53:31.299790",
     "status": "completed"
    },
    "tags": []
   },
   "outputs": [
    {
     "name": "stdout",
     "output_type": "stream",
     "text": [
      "/dss/dsshome1/0C/ra93lal2/cma/CMA_Fairness_v2\n"
     ]
    },
    {
     "name": "stderr",
     "output_type": "stream",
     "text": [
      "/dss/dsshome1/0C/ra93lal2/.local/share/virtualenvs/CMA_Fairness_v2-3j10GkSs/lib/python3.10/site-packages/IPython/core/magics/osm.py:393: UserWarning: This is now an optional IPython functionality, using bookmarks requires you to install the `pickleshare` library.\n",
      "  bkms = self.shell.db.get('bookmarks', {})\n",
      "/dss/dsshome1/0C/ra93lal2/.local/share/virtualenvs/CMA_Fairness_v2-3j10GkSs/lib/python3.10/site-packages/IPython/core/magics/osm.py:417: UserWarning: This is now an optional IPython functionality, setting dhist requires you to install the `pickleshare` library.\n",
      "  self.shell.db['dhist'] = compress_dhist(dhist)[-100:]\n"
     ]
    }
   ],
   "source": [
    "%cd ~/cma/CMA_Fairness_v2"
   ]
  },
  {
   "cell_type": "markdown",
   "id": "de2603b9",
   "metadata": {
    "papermill": {
     "duration": 0.018032,
     "end_time": "2025-07-28T10:53:31.374383",
     "exception": false,
     "start_time": "2025-07-28T10:53:31.356351",
     "status": "completed"
    },
    "tags": []
   },
   "source": [
    "The following cell holds the definition of our parameters, these values can be overriden by rendering the with e.g. the following command:\n",
    "\n",
    "papermill -p alpha 0.2 -p ratio 0.3 universe_analysis.ipynb output/test_run.ipynb"
   ]
  },
  {
   "cell_type": "code",
   "execution_count": 2,
   "id": "a80968a0-40bb-4fa9-85ef-2d5eefb01975",
   "metadata": {
    "execution": {
     "iopub.execute_input": "2025-07-28T10:53:31.413767Z",
     "iopub.status.busy": "2025-07-28T10:53:31.413072Z",
     "iopub.status.idle": "2025-07-28T10:53:31.418755Z",
     "shell.execute_reply": "2025-07-28T10:53:31.417809Z"
    },
    "papermill": {
     "duration": 0.026865,
     "end_time": "2025-07-28T10:53:31.420451",
     "exception": false,
     "start_time": "2025-07-28T10:53:31.393586",
     "status": "completed"
    },
    "tags": []
   },
   "outputs": [
    {
     "name": "stdout",
     "output_type": "stream",
     "text": [
      "Current working directory: /dss/dsshome1/0C/ra93lal2/cma/CMA_Fairness_v2\n"
     ]
    }
   ],
   "source": [
    "import os\n",
    "print(\"Current working directory:\", os.getcwd())"
   ]
  },
  {
   "cell_type": "code",
   "execution_count": 3,
   "id": "2dce4c03",
   "metadata": {
    "execution": {
     "iopub.execute_input": "2025-07-28T10:53:31.460196Z",
     "iopub.status.busy": "2025-07-28T10:53:31.459321Z",
     "iopub.status.idle": "2025-07-28T10:53:31.466809Z",
     "shell.execute_reply": "2025-07-28T10:53:31.465709Z"
    },
    "papermill": {
     "duration": 0.028781,
     "end_time": "2025-07-28T10:53:31.468406",
     "exception": false,
     "start_time": "2025-07-28T10:53:31.439625",
     "status": "completed"
    },
    "tags": [
     "parameters"
    ]
   },
   "outputs": [],
   "source": [
    "run_no = 0\n",
    "universe_id = \"test\"\n",
    "universe = {\n",
    "    \"training_size\": \"2014\", # \"25k\", \"5k\", \"1k\", \"2014\"\n",
    "    \"scale\": \"scale\", # \"scale\", \"do-not-scale\",\n",
    "    #\"stratify_split\": \"target\", # \"none\", \"target\", \"protected-attribute\", \"both\",\n",
    "    \"model\": \"elasticnet\", # \"logreg\", \"penalized_logreg\", \"rf\", \"gbm\", \"elasticnet\"\n",
    "    \"cutoff\": [\"quantile_0.15\", \"quantile_0.30\"],\n",
    "    \"exclude_features\": \"age\", # \"none\", \"nationality\", \"sex\", \"nationality-sex\", \"age\"\n",
    "    \"exclude_subgroups\": \"keep-all\", # \"keep-all\", \"drop-non-german\"\n",
    "    \"eval_fairness_grouping\": [\"majority-minority\", \"nationality-all\"]\n",
    "}\n",
    "\n",
    "output_dir=\"./output\"\n",
    "seed=0"
   ]
  },
  {
   "cell_type": "code",
   "execution_count": 4,
   "id": "e889b551",
   "metadata": {
    "execution": {
     "iopub.execute_input": "2025-07-28T10:53:31.510731Z",
     "iopub.status.busy": "2025-07-28T10:53:31.510313Z",
     "iopub.status.idle": "2025-07-28T10:53:31.516484Z",
     "shell.execute_reply": "2025-07-28T10:53:31.515527Z"
    },
    "papermill": {
     "duration": 0.0294,
     "end_time": "2025-07-28T10:53:31.518049",
     "exception": false,
     "start_time": "2025-07-28T10:53:31.488649",
     "status": "completed"
    },
    "tags": [
     "injected-parameters"
    ]
   },
   "outputs": [],
   "source": [
    "# Parameters\n",
    "universe_id = \"3eaae1e014e0bcc86c9201cf12a9b566\"\n",
    "run_no = \"11\"\n",
    "universe = \"{\\\"cutoff\\\": [\\\"quantile_0.1\\\", \\\"quantile_0.25\\\"], \\\"eval_fairness_grouping\\\": [\\\"majority-minority\\\", \\\"nationality-all\\\"], \\\"exclude_features\\\": \\\"sex\\\", \\\"exclude_subgroups\\\": \\\"keep-all\\\", \\\"model\\\": \\\"logreg\\\", \\\"scale\\\": \\\"scale\\\", \\\"training_size\\\": \\\"2014\\\"}\"\n",
    "output_dir = \"output\"\n",
    "seed = \"2023\"\n"
   ]
  },
  {
   "cell_type": "code",
   "execution_count": 5,
   "id": "1650acaf",
   "metadata": {
    "execution": {
     "iopub.execute_input": "2025-07-28T10:53:31.558380Z",
     "iopub.status.busy": "2025-07-28T10:53:31.557535Z",
     "iopub.status.idle": "2025-07-28T10:53:31.563301Z",
     "shell.execute_reply": "2025-07-28T10:53:31.562330Z"
    },
    "papermill": {
     "duration": 0.027005,
     "end_time": "2025-07-28T10:53:31.564839",
     "exception": false,
     "start_time": "2025-07-28T10:53:31.537834",
     "status": "completed"
    },
    "tags": []
   },
   "outputs": [],
   "source": [
    "import json\n",
    "# Parse universe into dict if it is passed as a string\n",
    "if isinstance(universe, str):\n",
    "    universe = json.loads(universe)"
   ]
  },
  {
   "cell_type": "code",
   "execution_count": 6,
   "id": "16620c48",
   "metadata": {
    "execution": {
     "iopub.execute_input": "2025-07-28T10:53:31.603465Z",
     "iopub.status.busy": "2025-07-28T10:53:31.602920Z",
     "iopub.status.idle": "2025-07-28T10:53:31.654441Z",
     "shell.execute_reply": "2025-07-28T10:53:31.653322Z"
    },
    "papermill": {
     "duration": 0.073407,
     "end_time": "2025-07-28T10:53:31.656745",
     "exception": false,
     "start_time": "2025-07-28T10:53:31.583338",
     "status": "completed"
    },
    "tags": []
   },
   "outputs": [],
   "source": [
    "# Auto-reload the custom package\n",
    "%load_ext autoreload\n",
    "%autoreload 1\n",
    "%aimport fairness_multiverse"
   ]
  },
  {
   "cell_type": "code",
   "execution_count": 7,
   "id": "01c5c9f3",
   "metadata": {
    "execution": {
     "iopub.execute_input": "2025-07-28T10:53:31.696759Z",
     "iopub.status.busy": "2025-07-28T10:53:31.695871Z",
     "iopub.status.idle": "2025-07-28T10:53:33.694648Z",
     "shell.execute_reply": "2025-07-28T10:53:33.693802Z"
    },
    "papermill": {
     "duration": 2.020468,
     "end_time": "2025-07-28T10:53:33.696212",
     "exception": false,
     "start_time": "2025-07-28T10:53:31.675744",
     "status": "completed"
    },
    "tags": []
   },
   "outputs": [],
   "source": [
    "from fairness_multiverse.universe import UniverseAnalysis\n",
    "\n",
    "universe_analysis = UniverseAnalysis(\n",
    "    run_no = run_no,\n",
    "    universe_id = universe_id,\n",
    "    universe = universe,\n",
    "    output_dir=output_dir,\n",
    ")"
   ]
  },
  {
   "cell_type": "code",
   "execution_count": 8,
   "id": "106241f5",
   "metadata": {
    "execution": {
     "iopub.execute_input": "2025-07-28T10:53:33.719463Z",
     "iopub.status.busy": "2025-07-28T10:53:33.719045Z",
     "iopub.status.idle": "2025-07-28T10:53:33.725244Z",
     "shell.execute_reply": "2025-07-28T10:53:33.724162Z"
    },
    "papermill": {
     "duration": 0.019512,
     "end_time": "2025-07-28T10:53:33.726823",
     "exception": false,
     "start_time": "2025-07-28T10:53:33.707311",
     "status": "completed"
    },
    "tags": []
   },
   "outputs": [
    {
     "name": "stdout",
     "output_type": "stream",
     "text": [
      "Using Seed: 2023\n"
     ]
    }
   ],
   "source": [
    "import numpy as np\n",
    "parsed_seed = int(seed)\n",
    "np.random.seed(parsed_seed)\n",
    "print(f\"Using Seed: {parsed_seed}\")"
   ]
  },
  {
   "cell_type": "markdown",
   "id": "e0ebdc57",
   "metadata": {
    "papermill": {
     "duration": 0.01132,
     "end_time": "2025-07-28T10:53:33.752708",
     "exception": false,
     "start_time": "2025-07-28T10:53:33.741388",
     "status": "completed"
    },
    "tags": []
   },
   "source": [
    "# Loading Data"
   ]
  },
  {
   "cell_type": "markdown",
   "id": "681925a3",
   "metadata": {
    "papermill": {
     "duration": 0.010707,
     "end_time": "2025-07-28T10:53:33.774237",
     "exception": false,
     "start_time": "2025-07-28T10:53:33.763530",
     "status": "completed"
    },
    "tags": []
   },
   "source": [
    "Load siab_train, siab_test, siab_calib and/or \n",
    "load siab_train_features, siab_train_labels"
   ]
  },
  {
   "cell_type": "code",
   "execution_count": 9,
   "id": "f0496b8a",
   "metadata": {
    "execution": {
     "iopub.execute_input": "2025-07-28T10:53:33.797290Z",
     "iopub.status.busy": "2025-07-28T10:53:33.796719Z",
     "iopub.status.idle": "2025-07-28T10:53:46.153798Z",
     "shell.execute_reply": "2025-07-28T10:53:46.152138Z"
    },
    "papermill": {
     "duration": 12.370647,
     "end_time": "2025-07-28T10:53:46.155599",
     "exception": false,
     "start_time": "2025-07-28T10:53:33.784952",
     "status": "completed"
    },
    "tags": []
   },
   "outputs": [
    {
     "name": "stdout",
     "output_type": "stream",
     "text": [
      "Loading SIAB data from cache: data/siab_cached.csv.gz\n"
     ]
    },
    {
     "name": "stdout",
     "output_type": "stream",
     "text": [
      "(643690, 164)\n"
     ]
    }
   ],
   "source": [
    "from pathlib import Path\n",
    "import pandas as pd\n",
    "\n",
    "# File paths\n",
    "raw_file = Path(\"data/raw/siab.csv\")\n",
    "cache_file = Path(\"data/siab_cached.csv.gz\")\n",
    "\n",
    "# Ensure cache directory exists\n",
    "cache_file.parent.mkdir(parents=True, exist_ok=True)\n",
    "\n",
    "# Load with simple caching\n",
    "if cache_file.exists():\n",
    "    print(f\"Loading SIAB data from cache: {cache_file}\")\n",
    "    siab = pd.read_csv(cache_file, compression='gzip')\n",
    "else:\n",
    "    print(f\"Cache not found. Reading raw SIAB data: {raw_file}\")\n",
    "    siab = pd.read_csv(raw_file)\n",
    "    siab.to_csv(cache_file, index=False, compression='gzip')\n",
    "    print(f\"Cached SIAB data to: {cache_file}\")\n",
    "\n",
    "# Now use `siab` DataFrame as needed\n",
    "print(siab.shape)"
   ]
  },
  {
   "cell_type": "code",
   "execution_count": 10,
   "id": "db0ca512-5f53-4dba-abdb-a2888bca41ba",
   "metadata": {
    "execution": {
     "iopub.execute_input": "2025-07-28T10:53:46.199107Z",
     "iopub.status.busy": "2025-07-28T10:53:46.198213Z",
     "iopub.status.idle": "2025-07-28T10:53:46.204274Z",
     "shell.execute_reply": "2025-07-28T10:53:46.203214Z"
    },
    "papermill": {
     "duration": 0.028003,
     "end_time": "2025-07-28T10:53:46.205889",
     "exception": false,
     "start_time": "2025-07-28T10:53:46.177886",
     "status": "completed"
    },
    "tags": []
   },
   "outputs": [],
   "source": [
    "#siab"
   ]
  },
  {
   "cell_type": "code",
   "execution_count": 11,
   "id": "a0edb063",
   "metadata": {
    "execution": {
     "iopub.execute_input": "2025-07-28T10:53:46.246216Z",
     "iopub.status.busy": "2025-07-28T10:53:46.245463Z",
     "iopub.status.idle": "2025-07-28T10:53:46.250674Z",
     "shell.execute_reply": "2025-07-28T10:53:46.249688Z"
    },
    "papermill": {
     "duration": 0.026954,
     "end_time": "2025-07-28T10:53:46.252453",
     "exception": false,
     "start_time": "2025-07-28T10:53:46.225499",
     "status": "completed"
    },
    "tags": []
   },
   "outputs": [],
   "source": [
    "#import pandas as pd\n",
    "#\n",
    "#X_train = pd.read_csv(\"./data/X_train.csv\")\n",
    "#y_train = pd.read_csv(\"./data/y_train.csv\")"
   ]
  },
  {
   "cell_type": "code",
   "execution_count": 12,
   "id": "63d08085",
   "metadata": {
    "execution": {
     "iopub.execute_input": "2025-07-28T10:53:46.294263Z",
     "iopub.status.busy": "2025-07-28T10:53:46.293233Z",
     "iopub.status.idle": "2025-07-28T10:53:46.298482Z",
     "shell.execute_reply": "2025-07-28T10:53:46.297567Z"
    },
    "papermill": {
     "duration": 0.027518,
     "end_time": "2025-07-28T10:53:46.300011",
     "exception": false,
     "start_time": "2025-07-28T10:53:46.272493",
     "status": "completed"
    },
    "tags": []
   },
   "outputs": [],
   "source": [
    "#X_test = pd.read_csv(\"./data/X_test.csv\")\n",
    "#y_true = pd.read_csv(\"./data/y_test.csv\")"
   ]
  },
  {
   "cell_type": "code",
   "execution_count": 13,
   "id": "98a8d0fa-1d3d-4ed8-bb2c-281470e24add",
   "metadata": {
    "execution": {
     "iopub.execute_input": "2025-07-28T10:53:46.339497Z",
     "iopub.status.busy": "2025-07-28T10:53:46.338687Z",
     "iopub.status.idle": "2025-07-28T10:53:46.343946Z",
     "shell.execute_reply": "2025-07-28T10:53:46.343004Z"
    },
    "papermill": {
     "duration": 0.026617,
     "end_time": "2025-07-28T10:53:46.345559",
     "exception": false,
     "start_time": "2025-07-28T10:53:46.318942",
     "status": "completed"
    },
    "tags": []
   },
   "outputs": [],
   "source": [
    "# Calibration data for conformal\n",
    "#X_calib = pd.read_csv(\"./data/X_calib.csv\")\n",
    "#y_calib = pd.read_csv(\"./data/y_calib.csv\")"
   ]
  },
  {
   "cell_type": "markdown",
   "id": "9901737e-04df-44f0-9100-f5ad144ed040",
   "metadata": {
    "papermill": {
     "duration": 0.020071,
     "end_time": "2025-07-28T10:53:46.385573",
     "exception": false,
     "start_time": "2025-07-28T10:53:46.365502",
     "status": "completed"
    },
    "tags": []
   },
   "source": [
    "# Splitting Data and Setting Training Data Size"
   ]
  },
  {
   "cell_type": "code",
   "execution_count": 14,
   "id": "acbc8f7d-8fc8-4e86-8c59-5dcb0f58384b",
   "metadata": {
    "execution": {
     "iopub.execute_input": "2025-07-28T10:53:46.425599Z",
     "iopub.status.busy": "2025-07-28T10:53:46.425072Z",
     "iopub.status.idle": "2025-07-28T10:53:46.442503Z",
     "shell.execute_reply": "2025-07-28T10:53:46.441338Z"
    },
    "papermill": {
     "duration": 0.040019,
     "end_time": "2025-07-28T10:53:46.444518",
     "exception": false,
     "start_time": "2025-07-28T10:53:46.404499",
     "status": "completed"
    },
    "tags": []
   },
   "outputs": [],
   "source": [
    "def sample_by_year(df, training_size, random_state=42):\n",
    "    if training_size == \"2014\":\n",
    "        return df[df[\"year\"] == 2014].reset_index(drop=True)\n",
    "    \n",
    "    size_map = {\n",
    "        \"25k\": 5000,\n",
    "        \"5k\": 1000,\n",
    "        \"1k\": 200\n",
    "    }\n",
    "\n",
    "    if training_size not in size_map:\n",
    "        return df.reset_index(drop=True)  # use all data\n",
    "\n",
    "    n_per_year = size_map[training_size]\n",
    "    grouped = df.groupby(\"year\")\n",
    "    sampled = grouped.apply(lambda x: x.sample(n=min(n_per_year, len(x)), random_state=random_state))\n",
    "    return sampled.reset_index(drop=True)"
   ]
  },
  {
   "cell_type": "code",
   "execution_count": 15,
   "id": "6d931f52-beaf-43ff-9e78-9d44a448d54e",
   "metadata": {
    "execution": {
     "iopub.execute_input": "2025-07-28T10:53:46.486120Z",
     "iopub.status.busy": "2025-07-28T10:53:46.485654Z",
     "iopub.status.idle": "2025-07-28T10:53:46.617629Z",
     "shell.execute_reply": "2025-07-28T10:53:46.616524Z"
    },
    "papermill": {
     "duration": 0.154328,
     "end_time": "2025-07-28T10:53:46.619606",
     "exception": false,
     "start_time": "2025-07-28T10:53:46.465278",
     "status": "completed"
    },
    "tags": []
   },
   "outputs": [],
   "source": [
    "siab_s = sample_by_year(siab, universe[\"training_size\"])"
   ]
  },
  {
   "cell_type": "code",
   "execution_count": 16,
   "id": "5db0a40e-a4e2-4920-be85-b12ae061d70d",
   "metadata": {
    "execution": {
     "iopub.execute_input": "2025-07-28T10:53:46.678673Z",
     "iopub.status.busy": "2025-07-28T10:53:46.677768Z",
     "iopub.status.idle": "2025-07-28T10:53:46.701457Z",
     "shell.execute_reply": "2025-07-28T10:53:46.700536Z"
    },
    "papermill": {
     "duration": 0.047761,
     "end_time": "2025-07-28T10:53:46.703261",
     "exception": false,
     "start_time": "2025-07-28T10:53:46.655500",
     "status": "completed"
    },
    "tags": []
   },
   "outputs": [
    {
     "data": {
      "text/plain": [
       "year\n",
       "2014    87158\n",
       "dtype: int64"
      ]
     },
     "metadata": {},
     "output_type": "display_data"
    }
   ],
   "source": [
    "display(siab_s.groupby(\"year\").size())"
   ]
  },
  {
   "cell_type": "code",
   "execution_count": 17,
   "id": "a561edb4-d032-42cb-8256-22eac1111c64",
   "metadata": {
    "execution": {
     "iopub.execute_input": "2025-07-28T10:53:46.751551Z",
     "iopub.status.busy": "2025-07-28T10:53:46.750613Z",
     "iopub.status.idle": "2025-07-28T10:53:47.087255Z",
     "shell.execute_reply": "2025-07-28T10:53:47.086224Z"
    },
    "papermill": {
     "duration": 0.362726,
     "end_time": "2025-07-28T10:53:47.089381",
     "exception": false,
     "start_time": "2025-07-28T10:53:46.726655",
     "status": "completed"
    },
    "tags": []
   },
   "outputs": [],
   "source": [
    "siab_train = siab_s[siab_s.year < 2015]\n",
    "siab_calib = siab[siab.year == 2015]\n",
    "siab_test = siab[siab.year == 2016]"
   ]
  },
  {
   "cell_type": "code",
   "execution_count": 18,
   "id": "472de16f-c3db-4916-846b-1f0de9cf1746",
   "metadata": {
    "execution": {
     "iopub.execute_input": "2025-07-28T10:53:47.126911Z",
     "iopub.status.busy": "2025-07-28T10:53:47.126394Z",
     "iopub.status.idle": "2025-07-28T10:53:47.183678Z",
     "shell.execute_reply": "2025-07-28T10:53:47.182602Z"
    },
    "papermill": {
     "duration": 0.080192,
     "end_time": "2025-07-28T10:53:47.185460",
     "exception": false,
     "start_time": "2025-07-28T10:53:47.105268",
     "status": "completed"
    },
    "tags": []
   },
   "outputs": [],
   "source": [
    "X_train = siab_train.iloc[:,4:164]\n",
    "y_train = siab_train.iloc[:, [3]]"
   ]
  },
  {
   "cell_type": "code",
   "execution_count": 19,
   "id": "828c96af-f43a-4ed6-ba47-8ac73a47d56c",
   "metadata": {
    "execution": {
     "iopub.execute_input": "2025-07-28T10:53:47.229766Z",
     "iopub.status.busy": "2025-07-28T10:53:47.228884Z",
     "iopub.status.idle": "2025-07-28T10:53:47.281880Z",
     "shell.execute_reply": "2025-07-28T10:53:47.280825Z"
    },
    "papermill": {
     "duration": 0.077273,
     "end_time": "2025-07-28T10:53:47.283472",
     "exception": false,
     "start_time": "2025-07-28T10:53:47.206199",
     "status": "completed"
    },
    "tags": []
   },
   "outputs": [],
   "source": [
    "X_calib = siab_calib.iloc[:,4:164]\n",
    "y_calib = siab_calib.iloc[:, [3]]"
   ]
  },
  {
   "cell_type": "code",
   "execution_count": 20,
   "id": "c34be9c3-6bd6-476e-acd3-845840e303be",
   "metadata": {
    "execution": {
     "iopub.execute_input": "2025-07-28T10:53:47.316133Z",
     "iopub.status.busy": "2025-07-28T10:53:47.315546Z",
     "iopub.status.idle": "2025-07-28T10:53:47.364892Z",
     "shell.execute_reply": "2025-07-28T10:53:47.364094Z"
    },
    "papermill": {
     "duration": 0.062812,
     "end_time": "2025-07-28T10:53:47.366356",
     "exception": false,
     "start_time": "2025-07-28T10:53:47.303544",
     "status": "completed"
    },
    "tags": []
   },
   "outputs": [],
   "source": [
    "X_test = siab_test.iloc[:,4:164]\n",
    "y_true = siab_test.iloc[:, [3]]"
   ]
  },
  {
   "cell_type": "code",
   "execution_count": 21,
   "id": "e6c733c5",
   "metadata": {
    "execution": {
     "iopub.execute_input": "2025-07-28T10:53:47.390960Z",
     "iopub.status.busy": "2025-07-28T10:53:47.390582Z",
     "iopub.status.idle": "2025-07-28T10:53:47.521833Z",
     "shell.execute_reply": "2025-07-28T10:53:47.521080Z"
    },
    "papermill": {
     "duration": 0.144776,
     "end_time": "2025-07-28T10:53:47.523345",
     "exception": false,
     "start_time": "2025-07-28T10:53:47.378569",
     "status": "completed"
    },
    "tags": []
   },
   "outputs": [],
   "source": [
    "# Auxiliary data needed downstream in the pipeline\n",
    "\n",
    "org_train = X_train.copy()\n",
    "org_test = X_test.copy()\n",
    "org_calib = X_calib.copy()"
   ]
  },
  {
   "cell_type": "markdown",
   "id": "0a4a1b33",
   "metadata": {
    "papermill": {
     "duration": 0.010758,
     "end_time": "2025-07-28T10:53:47.545505",
     "exception": false,
     "start_time": "2025-07-28T10:53:47.534747",
     "status": "completed"
    },
    "tags": []
   },
   "source": [
    "# Preprocessing Data"
   ]
  },
  {
   "cell_type": "code",
   "execution_count": 22,
   "id": "ca879031",
   "metadata": {
    "execution": {
     "iopub.execute_input": "2025-07-28T10:53:47.568616Z",
     "iopub.status.busy": "2025-07-28T10:53:47.568096Z",
     "iopub.status.idle": "2025-07-28T10:53:47.573082Z",
     "shell.execute_reply": "2025-07-28T10:53:47.572413Z"
    },
    "papermill": {
     "duration": 0.018054,
     "end_time": "2025-07-28T10:53:47.574494",
     "exception": false,
     "start_time": "2025-07-28T10:53:47.556440",
     "status": "completed"
    },
    "tags": []
   },
   "outputs": [],
   "source": [
    "# EXCLUDE PROTECTED FEATURES\n",
    "# ----------------------\n",
    "# \"exclude_features\": \"none\", # \"nationality\", \"sex\", \"nationality-sex\"\n",
    "\n",
    "excluded_features = universe[\"exclude_features\"].split(\"-\") # split, e.g.: \"nationality-sex\" -> [\"nationality\", \"sex\"]\n",
    "excluded_features_dictionary = {\n",
    "    \"nationality\": [\"maxdeutsch1\", \"maxdeutsch.Missing.\"],\n",
    "    \"sex\": [\"frau1\"],\n",
    "    \"age\": [\"age\"],\n",
    "}\n"
   ]
  },
  {
   "cell_type": "code",
   "execution_count": 23,
   "id": "b745ac60",
   "metadata": {
    "execution": {
     "iopub.execute_input": "2025-07-28T10:53:47.598495Z",
     "iopub.status.busy": "2025-07-28T10:53:47.597597Z",
     "iopub.status.idle": "2025-07-28T10:53:47.602719Z",
     "shell.execute_reply": "2025-07-28T10:53:47.601932Z"
    },
    "papermill": {
     "duration": 0.018019,
     "end_time": "2025-07-28T10:53:47.604093",
     "exception": false,
     "start_time": "2025-07-28T10:53:47.586074",
     "status": "completed"
    },
    "tags": []
   },
   "outputs": [],
   "source": [
    "# Code nice names to column names\n",
    "\n",
    "excluded_features_columns = [\n",
    "    excluded_features_dictionary[f] for f in excluded_features if len(f) > 0 and f != \"none\"\n",
    "]"
   ]
  },
  {
   "cell_type": "code",
   "execution_count": 24,
   "id": "f84f73a2",
   "metadata": {
    "execution": {
     "iopub.execute_input": "2025-07-28T10:53:47.627917Z",
     "iopub.status.busy": "2025-07-28T10:53:47.627355Z",
     "iopub.status.idle": "2025-07-28T10:53:47.632926Z",
     "shell.execute_reply": "2025-07-28T10:53:47.632199Z"
    },
    "papermill": {
     "duration": 0.018687,
     "end_time": "2025-07-28T10:53:47.634527",
     "exception": false,
     "start_time": "2025-07-28T10:53:47.615840",
     "status": "completed"
    },
    "tags": []
   },
   "outputs": [],
   "source": [
    "from utils import flatten_once\n",
    "\n",
    "excluded_features_columns = flatten_once(excluded_features_columns)"
   ]
  },
  {
   "cell_type": "code",
   "execution_count": 25,
   "id": "884dea22",
   "metadata": {
    "execution": {
     "iopub.execute_input": "2025-07-28T10:53:47.657989Z",
     "iopub.status.busy": "2025-07-28T10:53:47.657540Z",
     "iopub.status.idle": "2025-07-28T10:53:47.705965Z",
     "shell.execute_reply": "2025-07-28T10:53:47.705022Z"
    },
    "papermill": {
     "duration": 0.061797,
     "end_time": "2025-07-28T10:53:47.707894",
     "exception": false,
     "start_time": "2025-07-28T10:53:47.646097",
     "status": "completed"
    },
    "tags": []
   },
   "outputs": [
    {
     "name": "stdout",
     "output_type": "stream",
     "text": [
      "Dropping features: ['frau1']\n"
     ]
    }
   ],
   "source": [
    "if len(excluded_features_columns) > 0:\n",
    "    print(f\"Dropping features: {excluded_features_columns}\")\n",
    "    X_train.drop(excluded_features_columns, axis=1, inplace=True)"
   ]
  },
  {
   "cell_type": "code",
   "execution_count": 26,
   "id": "95ab8b16",
   "metadata": {
    "execution": {
     "iopub.execute_input": "2025-07-28T10:53:47.755318Z",
     "iopub.status.busy": "2025-07-28T10:53:47.754452Z",
     "iopub.status.idle": "2025-07-28T10:53:47.815483Z",
     "shell.execute_reply": "2025-07-28T10:53:47.814448Z"
    },
    "papermill": {
     "duration": 0.086884,
     "end_time": "2025-07-28T10:53:47.817505",
     "exception": false,
     "start_time": "2025-07-28T10:53:47.730621",
     "status": "completed"
    },
    "tags": []
   },
   "outputs": [
    {
     "name": "stdout",
     "output_type": "stream",
     "text": [
      "Dropping features: ['frau1']\n"
     ]
    }
   ],
   "source": [
    "if len(excluded_features_columns) > 0:\n",
    "    print(f\"Dropping features: {excluded_features_columns}\")\n",
    "    X_test.drop(excluded_features_columns, axis=1, inplace=True)"
   ]
  },
  {
   "cell_type": "code",
   "execution_count": 27,
   "id": "1853aaf5-fb9f-46cb-a2b5-8ea4ae2237e4",
   "metadata": {
    "execution": {
     "iopub.execute_input": "2025-07-28T10:53:47.867831Z",
     "iopub.status.busy": "2025-07-28T10:53:47.867225Z",
     "iopub.status.idle": "2025-07-28T10:53:47.921791Z",
     "shell.execute_reply": "2025-07-28T10:53:47.920879Z"
    },
    "papermill": {
     "duration": 0.082364,
     "end_time": "2025-07-28T10:53:47.924093",
     "exception": false,
     "start_time": "2025-07-28T10:53:47.841729",
     "status": "completed"
    },
    "tags": []
   },
   "outputs": [
    {
     "name": "stdout",
     "output_type": "stream",
     "text": [
      "Dropping features: ['frau1']\n"
     ]
    }
   ],
   "source": [
    "if len(excluded_features_columns) > 0:\n",
    "    print(f\"Dropping features: {excluded_features_columns}\")\n",
    "    X_calib.drop(excluded_features_columns, axis=1, inplace=True)"
   ]
  },
  {
   "cell_type": "code",
   "execution_count": 28,
   "id": "6727d079-03e5-481e-9d38-292a90b7a0a8",
   "metadata": {
    "execution": {
     "iopub.execute_input": "2025-07-28T10:53:47.977069Z",
     "iopub.status.busy": "2025-07-28T10:53:47.976616Z",
     "iopub.status.idle": "2025-07-28T10:53:47.981988Z",
     "shell.execute_reply": "2025-07-28T10:53:47.980894Z"
    },
    "papermill": {
     "duration": 0.03438,
     "end_time": "2025-07-28T10:53:47.984118",
     "exception": false,
     "start_time": "2025-07-28T10:53:47.949738",
     "status": "completed"
    },
    "tags": []
   },
   "outputs": [],
   "source": [
    "# SPLIT & STRATIFY DATA\n",
    "# ----------------------"
   ]
  },
  {
   "cell_type": "code",
   "execution_count": 29,
   "id": "76c4dc6d",
   "metadata": {
    "execution": {
     "iopub.execute_input": "2025-07-28T10:53:48.036869Z",
     "iopub.status.busy": "2025-07-28T10:53:48.036380Z",
     "iopub.status.idle": "2025-07-28T10:53:48.042117Z",
     "shell.execute_reply": "2025-07-28T10:53:48.041059Z"
    },
    "papermill": {
     "duration": 0.034185,
     "end_time": "2025-07-28T10:53:48.044118",
     "exception": false,
     "start_time": "2025-07-28T10:53:48.009933",
     "status": "completed"
    },
    "tags": []
   },
   "outputs": [],
   "source": [
    "# EXCLUDE CERTAIN SUBGROUPS\n",
    "# ----------------------\n",
    "\n",
    "mode = universe.get(\"exclude_subgroups\", \"keep-all\") \n",
    "# Fetches the exclude_subgroups setting from the universe dict.\n",
    "# Defaults to \"keep-all\" if the key is missing."
   ]
  },
  {
   "cell_type": "code",
   "execution_count": 30,
   "id": "21994072",
   "metadata": {
    "execution": {
     "iopub.execute_input": "2025-07-28T10:53:48.097463Z",
     "iopub.status.busy": "2025-07-28T10:53:48.096457Z",
     "iopub.status.idle": "2025-07-28T10:53:48.104343Z",
     "shell.execute_reply": "2025-07-28T10:53:48.103158Z"
    },
    "papermill": {
     "duration": 0.036069,
     "end_time": "2025-07-28T10:53:48.105821",
     "exception": false,
     "start_time": "2025-07-28T10:53:48.069752",
     "status": "completed"
    },
    "tags": []
   },
   "outputs": [],
   "source": [
    "if mode == \"keep-all\":\n",
    "    keep_mask = pd.Series(True, index=org_train.index)\n",
    "\n",
    "# org_train contains the original feature columns from features_org (in Simson)\n",
    "# features_org contains unprocessed features, for me X_train at beginning ???\n",
    "# For keep-all, creates a boolean Series (keep_mask) of all True, so no rows are removed.\n",
    "\n",
    "elif mode == \"drop-non-german\":\n",
    "    keep_mask = org_train[\"maxdeutsch1\"] == 1 # ??? what about missing values?\n",
    "\n",
    "else:\n",
    "    raise ValueError(f\"Unsupported mode for exclude_subgroups: {mode}\")\n"
   ]
  },
  {
   "cell_type": "code",
   "execution_count": 31,
   "id": "71651440",
   "metadata": {
    "execution": {
     "iopub.execute_input": "2025-07-28T10:53:48.138238Z",
     "iopub.status.busy": "2025-07-28T10:53:48.137493Z",
     "iopub.status.idle": "2025-07-28T10:53:48.145544Z",
     "shell.execute_reply": "2025-07-28T10:53:48.144466Z"
    },
    "papermill": {
     "duration": 0.02645,
     "end_time": "2025-07-28T10:53:48.147252",
     "exception": false,
     "start_time": "2025-07-28T10:53:48.120802",
     "status": "completed"
    },
    "tags": []
   },
   "outputs": [],
   "source": [
    "n_drop = (~keep_mask).sum() # Calculates how many rows are set to be dropped\n",
    "if n_drop > 0:\n",
    "    pct = n_drop / len(keep_mask) * 100\n",
    "    print(f\"Dropping {n_drop} rows ({pct:.2f}%) where mode='{mode}'\")"
   ]
  },
  {
   "cell_type": "code",
   "execution_count": 32,
   "id": "5fb8eee5",
   "metadata": {
    "execution": {
     "iopub.execute_input": "2025-07-28T10:53:48.192491Z",
     "iopub.status.busy": "2025-07-28T10:53:48.191589Z",
     "iopub.status.idle": "2025-07-28T10:53:48.258583Z",
     "shell.execute_reply": "2025-07-28T10:53:48.257439Z"
    },
    "papermill": {
     "duration": 0.091053,
     "end_time": "2025-07-28T10:53:48.260623",
     "exception": false,
     "start_time": "2025-07-28T10:53:48.169570",
     "status": "completed"
    },
    "tags": []
   },
   "outputs": [],
   "source": [
    "X_train = X_train[keep_mask]"
   ]
  },
  {
   "cell_type": "code",
   "execution_count": 33,
   "id": "b202bb3a",
   "metadata": {
    "execution": {
     "iopub.execute_input": "2025-07-28T10:53:48.307511Z",
     "iopub.status.busy": "2025-07-28T10:53:48.306651Z",
     "iopub.status.idle": "2025-07-28T10:53:48.316210Z",
     "shell.execute_reply": "2025-07-28T10:53:48.314947Z"
    },
    "papermill": {
     "duration": 0.035425,
     "end_time": "2025-07-28T10:53:48.318121",
     "exception": false,
     "start_time": "2025-07-28T10:53:48.282696",
     "status": "completed"
    },
    "tags": []
   },
   "outputs": [],
   "source": [
    "y_train = y_train[keep_mask]"
   ]
  },
  {
   "cell_type": "markdown",
   "id": "493e2ac3",
   "metadata": {
    "papermill": {
     "duration": 0.022309,
     "end_time": "2025-07-28T10:53:48.365670",
     "exception": false,
     "start_time": "2025-07-28T10:53:48.343361",
     "status": "completed"
    },
    "tags": []
   },
   "source": [
    "# Model Training"
   ]
  },
  {
   "cell_type": "code",
   "execution_count": 34,
   "id": "679e1268",
   "metadata": {
    "execution": {
     "iopub.execute_input": "2025-07-28T10:53:48.413131Z",
     "iopub.status.busy": "2025-07-28T10:53:48.412023Z",
     "iopub.status.idle": "2025-07-28T10:53:48.522835Z",
     "shell.execute_reply": "2025-07-28T10:53:48.521672Z"
    },
    "papermill": {
     "duration": 0.13705,
     "end_time": "2025-07-28T10:53:48.525275",
     "exception": false,
     "start_time": "2025-07-28T10:53:48.388225",
     "status": "completed"
    },
    "tags": []
   },
   "outputs": [],
   "source": [
    "from sklearn.linear_model import LogisticRegression\n",
    "from sklearn.ensemble import GradientBoostingClassifier, RandomForestClassifier\n",
    "\n",
    "if (universe[\"model\"] == \"logreg\"):\n",
    "    model = LogisticRegression() #penalty=\"none\") #, solver=\"newton-cg\", max_iter=1) # include random_state=19 ?\n",
    "elif (universe[\"model\"] == \"penalized_logreg\"):\n",
    "    model = LogisticRegression(penalty=\"l2\", C=1.0) #, solver=\"newton-cg\", max_iter=1)\n",
    "elif (universe[\"model\"] == \"rf\"):\n",
    "    model = RandomForestClassifier(n_estimators=100, n_jobs=-1)\n",
    "elif (universe[\"model\"] == \"gbm\"):\n",
    "    model = GradientBoostingClassifier()\n",
    "elif (universe[\"model\"] == \"elasticnet\"):\n",
    "    model = LogisticRegression(penalty = 'elasticnet', solver = 'saga', l1_ratio = 0.5, max_iter=5000) # which solver to use?\n",
    "else:\n",
    "    raise \"Unsupported universe.model\""
   ]
  },
  {
   "cell_type": "code",
   "execution_count": 35,
   "id": "0cc8f744",
   "metadata": {
    "execution": {
     "iopub.execute_input": "2025-07-28T10:53:48.579961Z",
     "iopub.status.busy": "2025-07-28T10:53:48.579476Z",
     "iopub.status.idle": "2025-07-28T10:53:48.586302Z",
     "shell.execute_reply": "2025-07-28T10:53:48.585289Z"
    },
    "papermill": {
     "duration": 0.036132,
     "end_time": "2025-07-28T10:53:48.588311",
     "exception": false,
     "start_time": "2025-07-28T10:53:48.552179",
     "status": "completed"
    },
    "tags": []
   },
   "outputs": [],
   "source": [
    "import numpy as np\n",
    "from sklearn.pipeline import Pipeline\n",
    "from sklearn.preprocessing import StandardScaler\n",
    "\n",
    "model = Pipeline([\n",
    "    #(\"continuous_processor\", continuous_processor),\n",
    "    #(\"categorical_preprocessor\", categorical_preprocessor),\n",
    "    (\"scale\", StandardScaler() if universe[\"scale\"] == \"scale\" else None), \n",
    "    (\"model\", model),\n",
    "])"
   ]
  },
  {
   "cell_type": "code",
   "execution_count": 36,
   "id": "9442c04d",
   "metadata": {
    "execution": {
     "iopub.execute_input": "2025-07-28T10:53:48.642412Z",
     "iopub.status.busy": "2025-07-28T10:53:48.641241Z",
     "iopub.status.idle": "2025-07-28T10:53:52.643681Z",
     "shell.execute_reply": "2025-07-28T10:53:52.642755Z"
    },
    "papermill": {
     "duration": 4.030633,
     "end_time": "2025-07-28T10:53:52.645589",
     "exception": false,
     "start_time": "2025-07-28T10:53:48.614956",
     "status": "completed"
    },
    "tags": []
   },
   "outputs": [
    {
     "name": "stderr",
     "output_type": "stream",
     "text": [
      "/dss/dsshome1/0C/ra93lal2/.local/share/virtualenvs/CMA_Fairness_v2-3j10GkSs/lib/python3.10/site-packages/sklearn/linear_model/_logistic.py:444: ConvergenceWarning: lbfgs failed to converge (status=1):\n",
      "STOP: TOTAL NO. of ITERATIONS REACHED LIMIT.\n",
      "\n",
      "Increase the number of iterations (max_iter) or scale the data as shown in:\n",
      "    https://scikit-learn.org/stable/modules/preprocessing.html\n",
      "Please also refer to the documentation for alternative solver options:\n",
      "    https://scikit-learn.org/stable/modules/linear_model.html#logistic-regression\n",
      "  n_iter_i = _check_optimize_result(\n"
     ]
    },
    {
     "data": {
      "text/html": [
       "<style>#sk-container-id-1 {color: black;background-color: white;}#sk-container-id-1 pre{padding: 0;}#sk-container-id-1 div.sk-toggleable {background-color: white;}#sk-container-id-1 label.sk-toggleable__label {cursor: pointer;display: block;width: 100%;margin-bottom: 0;padding: 0.3em;box-sizing: border-box;text-align: center;}#sk-container-id-1 label.sk-toggleable__label-arrow:before {content: \"▸\";float: left;margin-right: 0.25em;color: #696969;}#sk-container-id-1 label.sk-toggleable__label-arrow:hover:before {color: black;}#sk-container-id-1 div.sk-estimator:hover label.sk-toggleable__label-arrow:before {color: black;}#sk-container-id-1 div.sk-toggleable__content {max-height: 0;max-width: 0;overflow: hidden;text-align: left;background-color: #f0f8ff;}#sk-container-id-1 div.sk-toggleable__content pre {margin: 0.2em;color: black;border-radius: 0.25em;background-color: #f0f8ff;}#sk-container-id-1 input.sk-toggleable__control:checked~div.sk-toggleable__content {max-height: 200px;max-width: 100%;overflow: auto;}#sk-container-id-1 input.sk-toggleable__control:checked~label.sk-toggleable__label-arrow:before {content: \"▾\";}#sk-container-id-1 div.sk-estimator input.sk-toggleable__control:checked~label.sk-toggleable__label {background-color: #d4ebff;}#sk-container-id-1 div.sk-label input.sk-toggleable__control:checked~label.sk-toggleable__label {background-color: #d4ebff;}#sk-container-id-1 input.sk-hidden--visually {border: 0;clip: rect(1px 1px 1px 1px);clip: rect(1px, 1px, 1px, 1px);height: 1px;margin: -1px;overflow: hidden;padding: 0;position: absolute;width: 1px;}#sk-container-id-1 div.sk-estimator {font-family: monospace;background-color: #f0f8ff;border: 1px dotted black;border-radius: 0.25em;box-sizing: border-box;margin-bottom: 0.5em;}#sk-container-id-1 div.sk-estimator:hover {background-color: #d4ebff;}#sk-container-id-1 div.sk-parallel-item::after {content: \"\";width: 100%;border-bottom: 1px solid gray;flex-grow: 1;}#sk-container-id-1 div.sk-label:hover label.sk-toggleable__label {background-color: #d4ebff;}#sk-container-id-1 div.sk-serial::before {content: \"\";position: absolute;border-left: 1px solid gray;box-sizing: border-box;top: 0;bottom: 0;left: 50%;z-index: 0;}#sk-container-id-1 div.sk-serial {display: flex;flex-direction: column;align-items: center;background-color: white;padding-right: 0.2em;padding-left: 0.2em;position: relative;}#sk-container-id-1 div.sk-item {position: relative;z-index: 1;}#sk-container-id-1 div.sk-parallel {display: flex;align-items: stretch;justify-content: center;background-color: white;position: relative;}#sk-container-id-1 div.sk-item::before, #sk-container-id-1 div.sk-parallel-item::before {content: \"\";position: absolute;border-left: 1px solid gray;box-sizing: border-box;top: 0;bottom: 0;left: 50%;z-index: -1;}#sk-container-id-1 div.sk-parallel-item {display: flex;flex-direction: column;z-index: 1;position: relative;background-color: white;}#sk-container-id-1 div.sk-parallel-item:first-child::after {align-self: flex-end;width: 50%;}#sk-container-id-1 div.sk-parallel-item:last-child::after {align-self: flex-start;width: 50%;}#sk-container-id-1 div.sk-parallel-item:only-child::after {width: 0;}#sk-container-id-1 div.sk-dashed-wrapped {border: 1px dashed gray;margin: 0 0.4em 0.5em 0.4em;box-sizing: border-box;padding-bottom: 0.4em;background-color: white;}#sk-container-id-1 div.sk-label label {font-family: monospace;font-weight: bold;display: inline-block;line-height: 1.2em;}#sk-container-id-1 div.sk-label-container {text-align: center;}#sk-container-id-1 div.sk-container {/* jupyter's `normalize.less` sets `[hidden] { display: none; }` but bootstrap.min.css set `[hidden] { display: none !important; }` so we also need the `!important` here to be able to override the default hidden behavior on the sphinx rendered scikit-learn.org. See: https://github.com/scikit-learn/scikit-learn/issues/21755 */display: inline-block !important;position: relative;}#sk-container-id-1 div.sk-text-repr-fallback {display: none;}</style><div id=\"sk-container-id-1\" class=\"sk-top-container\"><div class=\"sk-text-repr-fallback\"><pre>Pipeline(steps=[(&#x27;scale&#x27;, StandardScaler()), (&#x27;model&#x27;, LogisticRegression())])</pre><b>In a Jupyter environment, please rerun this cell to show the HTML representation or trust the notebook. <br />On GitHub, the HTML representation is unable to render, please try loading this page with nbviewer.org.</b></div><div class=\"sk-container\" hidden><div class=\"sk-item sk-dashed-wrapped\"><div class=\"sk-label-container\"><div class=\"sk-label sk-toggleable\"><input class=\"sk-toggleable__control sk-hidden--visually\" id=\"sk-estimator-id-1\" type=\"checkbox\" ><label for=\"sk-estimator-id-1\" class=\"sk-toggleable__label sk-toggleable__label-arrow\">Pipeline</label><div class=\"sk-toggleable__content\"><pre>Pipeline(steps=[(&#x27;scale&#x27;, StandardScaler()), (&#x27;model&#x27;, LogisticRegression())])</pre></div></div></div><div class=\"sk-serial\"><div class=\"sk-item\"><div class=\"sk-estimator sk-toggleable\"><input class=\"sk-toggleable__control sk-hidden--visually\" id=\"sk-estimator-id-2\" type=\"checkbox\" ><label for=\"sk-estimator-id-2\" class=\"sk-toggleable__label sk-toggleable__label-arrow\">StandardScaler</label><div class=\"sk-toggleable__content\"><pre>StandardScaler()</pre></div></div></div><div class=\"sk-item\"><div class=\"sk-estimator sk-toggleable\"><input class=\"sk-toggleable__control sk-hidden--visually\" id=\"sk-estimator-id-3\" type=\"checkbox\" ><label for=\"sk-estimator-id-3\" class=\"sk-toggleable__label sk-toggleable__label-arrow\">LogisticRegression</label><div class=\"sk-toggleable__content\"><pre>LogisticRegression()</pre></div></div></div></div></div></div></div>"
      ],
      "text/plain": [
       "Pipeline(steps=[('scale', StandardScaler()), ('model', LogisticRegression())])"
      ]
     },
     "execution_count": 36,
     "metadata": {},
     "output_type": "execute_result"
    }
   ],
   "source": [
    "model.fit(X_train, y_train.values.ravel())"
   ]
  },
  {
   "cell_type": "code",
   "execution_count": 37,
   "id": "af59f8c0",
   "metadata": {
    "execution": {
     "iopub.execute_input": "2025-07-28T10:53:52.696328Z",
     "iopub.status.busy": "2025-07-28T10:53:52.695826Z",
     "iopub.status.idle": "2025-07-28T10:53:52.701858Z",
     "shell.execute_reply": "2025-07-28T10:53:52.700802Z"
    },
    "papermill": {
     "duration": 0.032167,
     "end_time": "2025-07-28T10:53:52.703781",
     "exception": false,
     "start_time": "2025-07-28T10:53:52.671614",
     "status": "completed"
    },
    "tags": []
   },
   "outputs": [],
   "source": [
    "from fairness_multiverse.universe import predict_w_threshold"
   ]
  },
  {
   "cell_type": "code",
   "execution_count": 38,
   "id": "a7cf2e16",
   "metadata": {
    "execution": {
     "iopub.execute_input": "2025-07-28T10:53:52.752098Z",
     "iopub.status.busy": "2025-07-28T10:53:52.751199Z",
     "iopub.status.idle": "2025-07-28T10:53:52.959213Z",
     "shell.execute_reply": "2025-07-28T10:53:52.958246Z"
    },
    "papermill": {
     "duration": 0.234262,
     "end_time": "2025-07-28T10:53:52.961133",
     "exception": false,
     "start_time": "2025-07-28T10:53:52.726871",
     "status": "completed"
    },
    "tags": []
   },
   "outputs": [
    {
     "data": {
      "text/plain": [
       "0.8667372645190057"
      ]
     },
     "execution_count": 38,
     "metadata": {},
     "output_type": "execute_result"
    }
   ],
   "source": [
    "probs_test = model.predict_proba(X_test)\n",
    "\n",
    "'''\n",
    "Below code returns a boolean array (or binary 0/1 array depending on how it’s used) where each element \n",
    "is True if the probability of class 1 is greater than or equal to the threshold, and False otherwise.\n",
    "'''\n",
    "y_pred_default = predict_w_threshold(probs_test, 0.5)\n",
    "\n",
    "from sklearn.metrics import accuracy_score\n",
    "\n",
    "# Naive prediction\n",
    "accuracy_score(y_true = y_true, y_pred = y_pred_default)"
   ]
  },
  {
   "cell_type": "code",
   "execution_count": 39,
   "id": "081964c3",
   "metadata": {
    "execution": {
     "iopub.execute_input": "2025-07-28T10:53:53.009918Z",
     "iopub.status.busy": "2025-07-28T10:53:53.009167Z",
     "iopub.status.idle": "2025-07-28T10:53:53.199363Z",
     "shell.execute_reply": "2025-07-28T10:53:53.198027Z"
    },
    "papermill": {
     "duration": 0.21688,
     "end_time": "2025-07-28T10:53:53.201107",
     "exception": false,
     "start_time": "2025-07-28T10:53:52.984227",
     "status": "completed"
    },
    "tags": []
   },
   "outputs": [
    {
     "data": {
      "text/plain": [
       "array([0, 0, 0, ..., 0, 0, 0])"
      ]
     },
     "execution_count": 39,
     "metadata": {},
     "output_type": "execute_result"
    }
   ],
   "source": [
    "model.predict(X_test)"
   ]
  },
  {
   "cell_type": "markdown",
   "id": "56c9705b",
   "metadata": {
    "papermill": {
     "duration": 0.024116,
     "end_time": "2025-07-28T10:53:53.248808",
     "exception": false,
     "start_time": "2025-07-28T10:53:53.224692",
     "status": "completed"
    },
    "tags": []
   },
   "source": [
    "# Conformal Prediction"
   ]
  },
  {
   "cell_type": "code",
   "execution_count": 40,
   "id": "160ec6ff",
   "metadata": {
    "execution": {
     "iopub.execute_input": "2025-07-28T10:53:53.298459Z",
     "iopub.status.busy": "2025-07-28T10:53:53.297530Z",
     "iopub.status.idle": "2025-07-28T10:53:53.303357Z",
     "shell.execute_reply": "2025-07-28T10:53:53.302369Z"
    },
    "papermill": {
     "duration": 0.032522,
     "end_time": "2025-07-28T10:53:53.305544",
     "exception": false,
     "start_time": "2025-07-28T10:53:53.273022",
     "status": "completed"
    },
    "tags": []
   },
   "outputs": [],
   "source": [
    "# Miscoverage level for conformal prediction (10% allowed error rate => 90% target coverage)\n",
    "alpha = 0.1"
   ]
  },
  {
   "cell_type": "code",
   "execution_count": 41,
   "id": "eadf4555-3dd3-440e-8e35-f82a4ad9f855",
   "metadata": {
    "execution": {
     "iopub.execute_input": "2025-07-28T10:53:53.363275Z",
     "iopub.status.busy": "2025-07-28T10:53:53.362596Z",
     "iopub.status.idle": "2025-07-28T10:53:53.553108Z",
     "shell.execute_reply": "2025-07-28T10:53:53.552018Z"
    },
    "papermill": {
     "duration": 0.221323,
     "end_time": "2025-07-28T10:53:53.555352",
     "exception": false,
     "start_time": "2025-07-28T10:53:53.334029",
     "status": "completed"
    },
    "tags": []
   },
   "outputs": [],
   "source": [
    "probs_calib = model.predict_proba(X_calib)"
   ]
  },
  {
   "cell_type": "code",
   "execution_count": 42,
   "id": "2ed93547-6d5d-4983-9b36-1ecb300da49a",
   "metadata": {
    "execution": {
     "iopub.execute_input": "2025-07-28T10:53:53.609640Z",
     "iopub.status.busy": "2025-07-28T10:53:53.608895Z",
     "iopub.status.idle": "2025-07-28T10:53:53.615392Z",
     "shell.execute_reply": "2025-07-28T10:53:53.614270Z"
    },
    "papermill": {
     "duration": 0.033595,
     "end_time": "2025-07-28T10:53:53.617205",
     "exception": false,
     "start_time": "2025-07-28T10:53:53.583610",
     "status": "completed"
    },
    "tags": []
   },
   "outputs": [],
   "source": [
    "y_calib = y_calib.values.ravel().astype(int)"
   ]
  },
  {
   "cell_type": "code",
   "execution_count": 43,
   "id": "65d1320d-f588-4b38-9072-62af1ae97f7d",
   "metadata": {
    "execution": {
     "iopub.execute_input": "2025-07-28T10:53:53.670372Z",
     "iopub.status.busy": "2025-07-28T10:53:53.669668Z",
     "iopub.status.idle": "2025-07-28T10:53:53.677808Z",
     "shell.execute_reply": "2025-07-28T10:53:53.677058Z"
    },
    "papermill": {
     "duration": 0.036336,
     "end_time": "2025-07-28T10:53:53.679306",
     "exception": false,
     "start_time": "2025-07-28T10:53:53.642970",
     "status": "completed"
    },
    "tags": []
   },
   "outputs": [],
   "source": [
    "from fairness_multiverse.conformal import compute_nc_scores\n",
    "\n",
    "# Compute nonconformity scores on calibration set (1 - probability of true class)\n",
    "nc_scores = compute_nc_scores(probs_calib, y_calib)"
   ]
  },
  {
   "cell_type": "code",
   "execution_count": 44,
   "id": "df3b8ca3-53b7-43d5-9667-7c85da7aeda2",
   "metadata": {
    "execution": {
     "iopub.execute_input": "2025-07-28T10:53:53.730445Z",
     "iopub.status.busy": "2025-07-28T10:53:53.730042Z",
     "iopub.status.idle": "2025-07-28T10:53:53.737017Z",
     "shell.execute_reply": "2025-07-28T10:53:53.735822Z"
    },
    "papermill": {
     "duration": 0.034239,
     "end_time": "2025-07-28T10:53:53.738893",
     "exception": false,
     "start_time": "2025-07-28T10:53:53.704654",
     "status": "completed"
    },
    "tags": []
   },
   "outputs": [],
   "source": [
    "from fairness_multiverse.conformal import find_threshold\n",
    "\n",
    "# Find conformal threshold q_hat for the given alpha (split conformal method)\n",
    "q_hat = find_threshold(nc_scores, alpha)"
   ]
  },
  {
   "cell_type": "code",
   "execution_count": 45,
   "id": "4d29e6c1-0ef6-4aa4-b8fe-4fe79b0d033a",
   "metadata": {
    "execution": {
     "iopub.execute_input": "2025-07-28T10:53:53.794347Z",
     "iopub.status.busy": "2025-07-28T10:53:53.793343Z",
     "iopub.status.idle": "2025-07-28T10:53:53.801346Z",
     "shell.execute_reply": "2025-07-28T10:53:53.800312Z"
    },
    "papermill": {
     "duration": 0.0368,
     "end_time": "2025-07-28T10:53:53.803050",
     "exception": false,
     "start_time": "2025-07-28T10:53:53.766250",
     "status": "completed"
    },
    "tags": []
   },
   "outputs": [
    {
     "data": {
      "text/plain": [
       "0.6729013343852317"
      ]
     },
     "execution_count": 45,
     "metadata": {},
     "output_type": "execute_result"
    }
   ],
   "source": [
    "q_hat"
   ]
  },
  {
   "cell_type": "code",
   "execution_count": 46,
   "id": "92460794-cdac-4be2-ba28-f28c0515a6fb",
   "metadata": {
    "execution": {
     "iopub.execute_input": "2025-07-28T10:53:53.857604Z",
     "iopub.status.busy": "2025-07-28T10:53:53.856428Z",
     "iopub.status.idle": "2025-07-28T10:53:55.103727Z",
     "shell.execute_reply": "2025-07-28T10:53:55.102420Z"
    },
    "papermill": {
     "duration": 1.276577,
     "end_time": "2025-07-28T10:53:55.106089",
     "exception": false,
     "start_time": "2025-07-28T10:53:53.829512",
     "status": "completed"
    },
    "tags": []
   },
   "outputs": [],
   "source": [
    "from fairness_multiverse.conformal import predict_conformal_sets\n",
    "\n",
    "# Generate prediction sets for each test example\n",
    "pred_sets = predict_conformal_sets(model, X_test, q_hat)"
   ]
  },
  {
   "cell_type": "code",
   "execution_count": 47,
   "id": "d90c9a65-e6db-4f5d-80cd-e68fb7e46829",
   "metadata": {
    "execution": {
     "iopub.execute_input": "2025-07-28T10:53:55.159792Z",
     "iopub.status.busy": "2025-07-28T10:53:55.158780Z",
     "iopub.status.idle": "2025-07-28T10:53:55.165038Z",
     "shell.execute_reply": "2025-07-28T10:53:55.163752Z"
    },
    "papermill": {
     "duration": 0.035926,
     "end_time": "2025-07-28T10:53:55.167802",
     "exception": false,
     "start_time": "2025-07-28T10:53:55.131876",
     "status": "completed"
    },
    "tags": []
   },
   "outputs": [],
   "source": [
    "y_true = y_true.squeeze()"
   ]
  },
  {
   "cell_type": "code",
   "execution_count": 48,
   "id": "3a58a54a-1e68-46b9-927a-df01f18aebc8",
   "metadata": {
    "execution": {
     "iopub.execute_input": "2025-07-28T10:53:55.241029Z",
     "iopub.status.busy": "2025-07-28T10:53:55.240455Z",
     "iopub.status.idle": "2025-07-28T10:53:56.292278Z",
     "shell.execute_reply": "2025-07-28T10:53:56.291441Z"
    },
    "papermill": {
     "duration": 1.089998,
     "end_time": "2025-07-28T10:53:56.293850",
     "exception": false,
     "start_time": "2025-07-28T10:53:55.203852",
     "status": "completed"
    },
    "tags": []
   },
   "outputs": [],
   "source": [
    "from fairness_multiverse.conformal import evaluate_sets\n",
    "\n",
    "# Evaluate coverage and average set size on test data\n",
    "metrics = evaluate_sets(pred_sets, y_true)"
   ]
  },
  {
   "cell_type": "markdown",
   "id": "2b569c12-9aaa-4c88-98c9-bbcd0cf3ebb8",
   "metadata": {
    "papermill": {
     "duration": 0.012513,
     "end_time": "2025-07-28T10:53:56.319393",
     "exception": false,
     "start_time": "2025-07-28T10:53:56.306880",
     "status": "completed"
    },
    "tags": []
   },
   "source": [
    "# CP Metrics"
   ]
  },
  {
   "cell_type": "code",
   "execution_count": 49,
   "id": "5ce0a5cb-201f-45a0-ade5-94c7f0bd6095",
   "metadata": {
    "execution": {
     "iopub.execute_input": "2025-07-28T10:53:56.353993Z",
     "iopub.status.busy": "2025-07-28T10:53:56.353223Z",
     "iopub.status.idle": "2025-07-28T10:53:56.361292Z",
     "shell.execute_reply": "2025-07-28T10:53:56.360143Z"
    },
    "papermill": {
     "duration": 0.031174,
     "end_time": "2025-07-28T10:53:56.363145",
     "exception": false,
     "start_time": "2025-07-28T10:53:56.331971",
     "status": "completed"
    },
    "tags": []
   },
   "outputs": [
    {
     "data": {
      "text/plain": [
       "{'coverage': 0.9125292609519563, 'avg_size': 1.1209675621446884}"
      ]
     },
     "execution_count": 49,
     "metadata": {},
     "output_type": "execute_result"
    }
   ],
   "source": [
    "metrics"
   ]
  },
  {
   "cell_type": "code",
   "execution_count": 50,
   "id": "9b9a838d-31c9-430b-ae14-12baee460d17",
   "metadata": {
    "execution": {
     "iopub.execute_input": "2025-07-28T10:53:56.406189Z",
     "iopub.status.busy": "2025-07-28T10:53:56.405704Z",
     "iopub.status.idle": "2025-07-28T10:53:56.412454Z",
     "shell.execute_reply": "2025-07-28T10:53:56.411389Z"
    },
    "papermill": {
     "duration": 0.027214,
     "end_time": "2025-07-28T10:53:56.414242",
     "exception": false,
     "start_time": "2025-07-28T10:53:56.387028",
     "status": "completed"
    },
    "tags": []
   },
   "outputs": [],
   "source": [
    "example_universe = universe.copy()\n",
    "universe_training_size = example_universe.get(\"training_size\")\n",
    "universe_scale = example_universe.get(\"scale\")\n",
    "universe_model = example_universe.get(\"model\")\n",
    "universe_exclude_features = example_universe.get(\"exclude_features\")\n",
    "universe_exclude_subgroups = example_universe.get(\"exclude_subgroups\")"
   ]
  },
  {
   "cell_type": "code",
   "execution_count": 51,
   "id": "f4b6a8ac-9dc0-4245-8a91-5b3b5999c4f9",
   "metadata": {
    "execution": {
     "iopub.execute_input": "2025-07-28T10:53:56.459460Z",
     "iopub.status.busy": "2025-07-28T10:53:56.458891Z",
     "iopub.status.idle": "2025-07-28T10:53:56.465567Z",
     "shell.execute_reply": "2025-07-28T10:53:56.464711Z"
    },
    "papermill": {
     "duration": 0.026441,
     "end_time": "2025-07-28T10:53:56.467053",
     "exception": false,
     "start_time": "2025-07-28T10:53:56.440612",
     "status": "completed"
    },
    "tags": []
   },
   "outputs": [],
   "source": [
    "cp_metrics_dict = {\n",
    "    \"universe_id\": [universe_id],\n",
    "    \"universe_training_size\": [universe_training_size],\n",
    "    \"universe_scale\": [universe_scale],\n",
    "    \"universe_model\": [universe_model],\n",
    "    \"universe_exclude_features\": [universe_exclude_features],\n",
    "    \"universe_exclude_subgroups\": [universe_exclude_subgroups],\n",
    "    \"q_hat\": [q_hat],\n",
    "    \"coverage\": [metrics[\"coverage\"]],\n",
    "    \"avg_size\": [metrics[\"avg_size\"]],\n",
    "}"
   ]
  },
  {
   "cell_type": "code",
   "execution_count": 52,
   "id": "908acbb1-0371-4915-85ca-3fa520d2efe2",
   "metadata": {
    "execution": {
     "iopub.execute_input": "2025-07-28T10:53:56.496860Z",
     "iopub.status.busy": "2025-07-28T10:53:56.496500Z",
     "iopub.status.idle": "2025-07-28T10:53:56.503106Z",
     "shell.execute_reply": "2025-07-28T10:53:56.502299Z"
    },
    "papermill": {
     "duration": 0.022924,
     "end_time": "2025-07-28T10:53:56.504558",
     "exception": false,
     "start_time": "2025-07-28T10:53:56.481634",
     "status": "completed"
    },
    "tags": []
   },
   "outputs": [
    {
     "data": {
      "text/plain": [
       "{'universe_id': ['3eaae1e014e0bcc86c9201cf12a9b566'],\n",
       " 'universe_training_size': ['2014'],\n",
       " 'universe_scale': ['scale'],\n",
       " 'universe_model': ['logreg'],\n",
       " 'universe_exclude_features': ['sex'],\n",
       " 'universe_exclude_subgroups': ['keep-all'],\n",
       " 'q_hat': [0.6729013343852317],\n",
       " 'coverage': [0.9125292609519563],\n",
       " 'avg_size': [1.1209675621446884]}"
      ]
     },
     "execution_count": 52,
     "metadata": {},
     "output_type": "execute_result"
    }
   ],
   "source": [
    "cp_metrics_dict"
   ]
  },
  {
   "cell_type": "code",
   "execution_count": 53,
   "id": "33007efc-14e9-4ec6-97ac-56a455c82265",
   "metadata": {
    "execution": {
     "iopub.execute_input": "2025-07-28T10:53:56.533917Z",
     "iopub.status.busy": "2025-07-28T10:53:56.533546Z",
     "iopub.status.idle": "2025-07-28T10:53:56.538990Z",
     "shell.execute_reply": "2025-07-28T10:53:56.538150Z"
    },
    "papermill": {
     "duration": 0.02155,
     "end_time": "2025-07-28T10:53:56.540482",
     "exception": false,
     "start_time": "2025-07-28T10:53:56.518932",
     "status": "completed"
    },
    "tags": []
   },
   "outputs": [],
   "source": [
    "cp_metrics_df = pd.DataFrame(cp_metrics_dict)"
   ]
  },
  {
   "cell_type": "code",
   "execution_count": 54,
   "id": "db12611b-57b2-4910-b9d0-355adfd6e7bf",
   "metadata": {
    "execution": {
     "iopub.execute_input": "2025-07-28T10:53:56.569972Z",
     "iopub.status.busy": "2025-07-28T10:53:56.569426Z",
     "iopub.status.idle": "2025-07-28T10:53:56.584343Z",
     "shell.execute_reply": "2025-07-28T10:53:56.583442Z"
    },
    "papermill": {
     "duration": 0.030917,
     "end_time": "2025-07-28T10:53:56.585825",
     "exception": false,
     "start_time": "2025-07-28T10:53:56.554908",
     "status": "completed"
    },
    "tags": []
   },
   "outputs": [
    {
     "data": {
      "text/html": [
       "<div>\n",
       "<style scoped>\n",
       "    .dataframe tbody tr th:only-of-type {\n",
       "        vertical-align: middle;\n",
       "    }\n",
       "\n",
       "    .dataframe tbody tr th {\n",
       "        vertical-align: top;\n",
       "    }\n",
       "\n",
       "    .dataframe thead th {\n",
       "        text-align: right;\n",
       "    }\n",
       "</style>\n",
       "<table border=\"1\" class=\"dataframe\">\n",
       "  <thead>\n",
       "    <tr style=\"text-align: right;\">\n",
       "      <th></th>\n",
       "      <th>universe_id</th>\n",
       "      <th>universe_training_size</th>\n",
       "      <th>universe_scale</th>\n",
       "      <th>universe_model</th>\n",
       "      <th>universe_exclude_features</th>\n",
       "      <th>universe_exclude_subgroups</th>\n",
       "      <th>q_hat</th>\n",
       "      <th>coverage</th>\n",
       "      <th>avg_size</th>\n",
       "    </tr>\n",
       "  </thead>\n",
       "  <tbody>\n",
       "    <tr>\n",
       "      <th>0</th>\n",
       "      <td>3eaae1e014e0bcc86c9201cf12a9b566</td>\n",
       "      <td>2014</td>\n",
       "      <td>scale</td>\n",
       "      <td>logreg</td>\n",
       "      <td>sex</td>\n",
       "      <td>keep-all</td>\n",
       "      <td>0.672901</td>\n",
       "      <td>0.912529</td>\n",
       "      <td>1.120968</td>\n",
       "    </tr>\n",
       "  </tbody>\n",
       "</table>\n",
       "</div>"
      ],
      "text/plain": [
       "                        universe_id universe_training_size universe_scale  \\\n",
       "0  3eaae1e014e0bcc86c9201cf12a9b566                   2014          scale   \n",
       "\n",
       "  universe_model universe_exclude_features universe_exclude_subgroups  \\\n",
       "0         logreg                       sex                   keep-all   \n",
       "\n",
       "      q_hat  coverage  avg_size  \n",
       "0  0.672901  0.912529  1.120968  "
      ]
     },
     "execution_count": 54,
     "metadata": {},
     "output_type": "execute_result"
    }
   ],
   "source": [
    "cp_metrics_df"
   ]
  },
  {
   "cell_type": "code",
   "execution_count": 55,
   "id": "b7fbde55-a0a1-47e4-9af6-fe4a17fa8c61",
   "metadata": {
    "execution": {
     "iopub.execute_input": "2025-07-28T10:53:56.615149Z",
     "iopub.status.busy": "2025-07-28T10:53:56.614599Z",
     "iopub.status.idle": "2025-07-28T10:53:56.619407Z",
     "shell.execute_reply": "2025-07-28T10:53:56.618600Z"
    },
    "papermill": {
     "duration": 0.021174,
     "end_time": "2025-07-28T10:53:56.620906",
     "exception": false,
     "start_time": "2025-07-28T10:53:56.599732",
     "status": "completed"
    },
    "tags": []
   },
   "outputs": [],
   "source": [
    "# Conditional Coverage & looking at subgroups"
   ]
  },
  {
   "cell_type": "code",
   "execution_count": 56,
   "id": "027ae886-68dd-4141-96c7-805a5450e1ef",
   "metadata": {
    "execution": {
     "iopub.execute_input": "2025-07-28T10:53:56.651275Z",
     "iopub.status.busy": "2025-07-28T10:53:56.650728Z",
     "iopub.status.idle": "2025-07-28T10:53:56.872703Z",
     "shell.execute_reply": "2025-07-28T10:53:56.871919Z"
    },
    "papermill": {
     "duration": 0.238587,
     "end_time": "2025-07-28T10:53:56.874223",
     "exception": false,
     "start_time": "2025-07-28T10:53:56.635636",
     "status": "completed"
    },
    "tags": []
   },
   "outputs": [],
   "source": [
    "from fairness_multiverse.conformal import build_cp_groups\n",
    "\n",
    "cp_groups_df = build_cp_groups(pred_sets, y_true, X_test.index, org_test)\n",
    "#needs universe_id and setting"
   ]
  },
  {
   "cell_type": "code",
   "execution_count": 57,
   "id": "01d5802c-663a-4d1f-9d69-e036faaffbf7",
   "metadata": {
    "execution": {
     "iopub.execute_input": "2025-07-28T10:53:56.928001Z",
     "iopub.status.busy": "2025-07-28T10:53:56.927382Z",
     "iopub.status.idle": "2025-07-28T10:53:56.933492Z",
     "shell.execute_reply": "2025-07-28T10:53:56.931989Z"
    },
    "papermill": {
     "duration": 0.034988,
     "end_time": "2025-07-28T10:53:56.936086",
     "exception": false,
     "start_time": "2025-07-28T10:53:56.901098",
     "status": "completed"
    },
    "tags": []
   },
   "outputs": [],
   "source": [
    "#delete\n",
    "#cp_groups_df"
   ]
  },
  {
   "cell_type": "code",
   "execution_count": 58,
   "id": "fa424af1-d1eb-443d-b717-2d279ada8408",
   "metadata": {
    "execution": {
     "iopub.execute_input": "2025-07-28T10:53:57.003281Z",
     "iopub.status.busy": "2025-07-28T10:53:57.002626Z",
     "iopub.status.idle": "2025-07-28T10:53:57.008340Z",
     "shell.execute_reply": "2025-07-28T10:53:57.007207Z"
    },
    "papermill": {
     "duration": 0.036355,
     "end_time": "2025-07-28T10:53:57.010150",
     "exception": false,
     "start_time": "2025-07-28T10:53:56.973795",
     "status": "completed"
    },
    "tags": []
   },
   "outputs": [],
   "source": [
    "#delete\n",
    "#percentage = (cp_groups_df['nongerman_female'] == 1).mean() * 100\n",
    "#print(percentage)\n"
   ]
  },
  {
   "cell_type": "code",
   "execution_count": 59,
   "id": "6cbdab96-b2b2-45af-ad54-d0516db2e28d",
   "metadata": {
    "execution": {
     "iopub.execute_input": "2025-07-28T10:53:57.047935Z",
     "iopub.status.busy": "2025-07-28T10:53:57.047537Z",
     "iopub.status.idle": "2025-07-28T10:53:58.423386Z",
     "shell.execute_reply": "2025-07-28T10:53:58.422580Z"
    },
    "papermill": {
     "duration": 1.392995,
     "end_time": "2025-07-28T10:53:58.425485",
     "exception": false,
     "start_time": "2025-07-28T10:53:57.032490",
     "status": "completed"
    },
    "tags": []
   },
   "outputs": [],
   "source": [
    "# Define covered = 1 if true_label is in the predicted set\n",
    "cp_groups_df['covered'] = cp_groups_df.apply(\n",
    "    lambda r: int(r['true_label'] in r['pred_set']),\n",
    "    axis=1\n",
    ")"
   ]
  },
  {
   "cell_type": "code",
   "execution_count": 60,
   "id": "338ff529-1a6b-4b87-a931-8e4788d52aad",
   "metadata": {
    "execution": {
     "iopub.execute_input": "2025-07-28T10:53:58.497304Z",
     "iopub.status.busy": "2025-07-28T10:53:58.496774Z",
     "iopub.status.idle": "2025-07-28T10:53:58.502294Z",
     "shell.execute_reply": "2025-07-28T10:53:58.501434Z"
    },
    "papermill": {
     "duration": 0.036199,
     "end_time": "2025-07-28T10:53:58.504274",
     "exception": false,
     "start_time": "2025-07-28T10:53:58.468075",
     "status": "completed"
    },
    "tags": []
   },
   "outputs": [],
   "source": [
    "#cp_groups_df"
   ]
  },
  {
   "cell_type": "code",
   "execution_count": 61,
   "id": "90032e27-66df-4540-9169-4e89cfbaa758",
   "metadata": {
    "execution": {
     "iopub.execute_input": "2025-07-28T10:53:58.547469Z",
     "iopub.status.busy": "2025-07-28T10:53:58.547103Z",
     "iopub.status.idle": "2025-07-28T10:53:58.556826Z",
     "shell.execute_reply": "2025-07-28T10:53:58.555893Z"
    },
    "papermill": {
     "duration": 0.028464,
     "end_time": "2025-07-28T10:53:58.558474",
     "exception": false,
     "start_time": "2025-07-28T10:53:58.530010",
     "status": "completed"
    },
    "tags": []
   },
   "outputs": [],
   "source": [
    "subgroups = ['frau1','nongerman','nongerman_male','nongerman_female']\n",
    "\n",
    "# Conditional coverage for subgroup==1\n",
    "cond_coverage = {\n",
    "    g: cp_groups_df.loc[cp_groups_df[g]==1, 'covered'].mean()\n",
    "    for g in subgroups\n",
    "}"
   ]
  },
  {
   "cell_type": "code",
   "execution_count": 62,
   "id": "1e348fb1-b9c3-45bc-ba23-f016827a7e0d",
   "metadata": {
    "execution": {
     "iopub.execute_input": "2025-07-28T10:53:58.588776Z",
     "iopub.status.busy": "2025-07-28T10:53:58.588205Z",
     "iopub.status.idle": "2025-07-28T10:53:58.595073Z",
     "shell.execute_reply": "2025-07-28T10:53:58.594152Z"
    },
    "papermill": {
     "duration": 0.023652,
     "end_time": "2025-07-28T10:53:58.596648",
     "exception": false,
     "start_time": "2025-07-28T10:53:58.572996",
     "status": "completed"
    },
    "tags": []
   },
   "outputs": [
    {
     "data": {
      "text/plain": [
       "{'frau1': 0.913303679741205,\n",
       " 'nongerman': 0.9110761803177455,\n",
       " 'nongerman_male': 0.9255156264072774,\n",
       " 'nongerman_female': 0.8871833084947839}"
      ]
     },
     "execution_count": 62,
     "metadata": {},
     "output_type": "execute_result"
    }
   ],
   "source": [
    "cond_coverage"
   ]
  },
  {
   "cell_type": "code",
   "execution_count": 63,
   "id": "f5093324-c3dd-4d63-bc4c-8d945e5c8bbb",
   "metadata": {
    "execution": {
     "iopub.execute_input": "2025-07-28T10:53:58.627684Z",
     "iopub.status.busy": "2025-07-28T10:53:58.627112Z",
     "iopub.status.idle": "2025-07-28T10:53:58.633642Z",
     "shell.execute_reply": "2025-07-28T10:53:58.632823Z"
    },
    "papermill": {
     "duration": 0.023287,
     "end_time": "2025-07-28T10:53:58.635124",
     "exception": false,
     "start_time": "2025-07-28T10:53:58.611837",
     "status": "completed"
    },
    "tags": []
   },
   "outputs": [],
   "source": [
    "for subgroup, cov in cond_coverage.items():\n",
    "    cp_metrics_df[f\"cov_{subgroup}\"] = cov"
   ]
  },
  {
   "cell_type": "code",
   "execution_count": 64,
   "id": "6e872e10-dbe5-49e8-b554-5030c98ff75d",
   "metadata": {
    "execution": {
     "iopub.execute_input": "2025-07-28T10:53:58.666394Z",
     "iopub.status.busy": "2025-07-28T10:53:58.665843Z",
     "iopub.status.idle": "2025-07-28T10:53:58.680902Z",
     "shell.execute_reply": "2025-07-28T10:53:58.679971Z"
    },
    "papermill": {
     "duration": 0.032115,
     "end_time": "2025-07-28T10:53:58.682384",
     "exception": false,
     "start_time": "2025-07-28T10:53:58.650269",
     "status": "completed"
    },
    "tags": []
   },
   "outputs": [
    {
     "data": {
      "text/html": [
       "<div>\n",
       "<style scoped>\n",
       "    .dataframe tbody tr th:only-of-type {\n",
       "        vertical-align: middle;\n",
       "    }\n",
       "\n",
       "    .dataframe tbody tr th {\n",
       "        vertical-align: top;\n",
       "    }\n",
       "\n",
       "    .dataframe thead th {\n",
       "        text-align: right;\n",
       "    }\n",
       "</style>\n",
       "<table border=\"1\" class=\"dataframe\">\n",
       "  <thead>\n",
       "    <tr style=\"text-align: right;\">\n",
       "      <th></th>\n",
       "      <th>universe_id</th>\n",
       "      <th>universe_training_size</th>\n",
       "      <th>universe_scale</th>\n",
       "      <th>universe_model</th>\n",
       "      <th>universe_exclude_features</th>\n",
       "      <th>universe_exclude_subgroups</th>\n",
       "      <th>q_hat</th>\n",
       "      <th>coverage</th>\n",
       "      <th>avg_size</th>\n",
       "      <th>cov_frau1</th>\n",
       "      <th>cov_nongerman</th>\n",
       "      <th>cov_nongerman_male</th>\n",
       "      <th>cov_nongerman_female</th>\n",
       "    </tr>\n",
       "  </thead>\n",
       "  <tbody>\n",
       "    <tr>\n",
       "      <th>0</th>\n",
       "      <td>3eaae1e014e0bcc86c9201cf12a9b566</td>\n",
       "      <td>2014</td>\n",
       "      <td>scale</td>\n",
       "      <td>logreg</td>\n",
       "      <td>sex</td>\n",
       "      <td>keep-all</td>\n",
       "      <td>0.672901</td>\n",
       "      <td>0.912529</td>\n",
       "      <td>1.120968</td>\n",
       "      <td>0.913304</td>\n",
       "      <td>0.911076</td>\n",
       "      <td>0.925516</td>\n",
       "      <td>0.887183</td>\n",
       "    </tr>\n",
       "  </tbody>\n",
       "</table>\n",
       "</div>"
      ],
      "text/plain": [
       "                        universe_id universe_training_size universe_scale  \\\n",
       "0  3eaae1e014e0bcc86c9201cf12a9b566                   2014          scale   \n",
       "\n",
       "  universe_model universe_exclude_features universe_exclude_subgroups  \\\n",
       "0         logreg                       sex                   keep-all   \n",
       "\n",
       "      q_hat  coverage  avg_size  cov_frau1  cov_nongerman  cov_nongerman_male  \\\n",
       "0  0.672901  0.912529  1.120968   0.913304       0.911076            0.925516   \n",
       "\n",
       "   cov_nongerman_female  \n",
       "0              0.887183  "
      ]
     },
     "execution_count": 64,
     "metadata": {},
     "output_type": "execute_result"
    }
   ],
   "source": [
    "cp_metrics_df"
   ]
  },
  {
   "cell_type": "markdown",
   "id": "33774451",
   "metadata": {
    "papermill": {
     "duration": 0.014767,
     "end_time": "2025-07-28T10:53:58.713036",
     "exception": false,
     "start_time": "2025-07-28T10:53:58.698269",
     "status": "completed"
    },
    "tags": []
   },
   "source": [
    "# (Fairness) Metrics"
   ]
  },
  {
   "cell_type": "code",
   "execution_count": 65,
   "id": "debc5d62",
   "metadata": {
    "execution": {
     "iopub.execute_input": "2025-07-28T10:53:58.744015Z",
     "iopub.status.busy": "2025-07-28T10:53:58.743494Z",
     "iopub.status.idle": "2025-07-28T10:53:58.759695Z",
     "shell.execute_reply": "2025-07-28T10:53:58.758904Z"
    },
    "papermill": {
     "duration": 0.03378,
     "end_time": "2025-07-28T10:53:58.761388",
     "exception": false,
     "start_time": "2025-07-28T10:53:58.727608",
     "status": "completed"
    },
    "tags": []
   },
   "outputs": [],
   "source": [
    "# do I need to include maxdeutsch1.missing?\n",
    "\n",
    "import numpy as np\n",
    "\n",
    "colname_to_bin = \"maxdeutsch1\"\n",
    "majority_value = org_train[colname_to_bin].mode()[0]\n",
    "\n",
    "org_test[\"majmin\"] = np.where(org_test[colname_to_bin] == majority_value, \"majority\", \"minority\")"
   ]
  },
  {
   "cell_type": "code",
   "execution_count": 66,
   "id": "06a50de5",
   "metadata": {
    "execution": {
     "iopub.execute_input": "2025-07-28T10:53:58.793295Z",
     "iopub.status.busy": "2025-07-28T10:53:58.792488Z",
     "iopub.status.idle": "2025-07-28T10:54:00.870981Z",
     "shell.execute_reply": "2025-07-28T10:54:00.870022Z"
    },
    "papermill": {
     "duration": 2.096659,
     "end_time": "2025-07-28T10:54:00.872975",
     "exception": false,
     "start_time": "2025-07-28T10:53:58.776316",
     "status": "completed"
    },
    "tags": []
   },
   "outputs": [],
   "source": [
    "example_universe = universe.copy()\n",
    "example_universe[\"cutoff\"] = example_universe[\"cutoff\"][0]\n",
    "example_universe[\"eval_fairness_grouping\"] = example_universe[\"eval_fairness_grouping\"][0]\n",
    "fairness_dict, metric_frame = universe_analysis.compute_metrics(\n",
    "    example_universe,\n",
    "    y_pred_prob=probs_test,\n",
    "    y_test=y_true,\n",
    "    org_test=org_test,\n",
    ")"
   ]
  },
  {
   "cell_type": "markdown",
   "id": "f95d4e02",
   "metadata": {
    "papermill": {
     "duration": 0.027751,
     "end_time": "2025-07-28T10:54:00.930051",
     "exception": false,
     "start_time": "2025-07-28T10:54:00.902300",
     "status": "completed"
    },
    "tags": []
   },
   "source": [
    "# Overall"
   ]
  },
  {
   "cell_type": "markdown",
   "id": "bdee4871",
   "metadata": {
    "papermill": {
     "duration": 0.028311,
     "end_time": "2025-07-28T10:54:00.984957",
     "exception": false,
     "start_time": "2025-07-28T10:54:00.956646",
     "status": "completed"
    },
    "tags": []
   },
   "source": [
    "Fairness\n",
    "Main fairness target: Equalized Odds. Seems to be a better fit than equal opportunity, since we're not only interested in Y = 1. Seems to be a better fit than demographic parity, since we also care about accuracy, not just equal distribution of preds.\n",
    "\n",
    "Pick column for computation of fairness metrics\n",
    "\n",
    "Performance\n",
    "Overall performance measures, most interesting in relation to the measures split by group below"
   ]
  },
  {
   "cell_type": "code",
   "execution_count": 67,
   "id": "c4e067c6",
   "metadata": {
    "execution": {
     "iopub.execute_input": "2025-07-28T10:54:01.040623Z",
     "iopub.status.busy": "2025-07-28T10:54:01.039916Z",
     "iopub.status.idle": "2025-07-28T10:54:01.047861Z",
     "shell.execute_reply": "2025-07-28T10:54:01.046941Z"
    },
    "papermill": {
     "duration": 0.051241,
     "end_time": "2025-07-28T10:54:01.062624",
     "exception": false,
     "start_time": "2025-07-28T10:54:01.011383",
     "status": "completed"
    },
    "tags": []
   },
   "outputs": [
    {
     "data": {
      "text/plain": [
       "accuracy                   0.225761\n",
       "balanced accuracy          0.551726\n",
       "f1                         0.247054\n",
       "precision                  0.141134\n",
       "false positive rate        0.886729\n",
       "false negative rate        0.009819\n",
       "selection rate             0.900000\n",
       "count                  89710.000000\n",
       "dtype: float64"
      ]
     },
     "execution_count": 67,
     "metadata": {},
     "output_type": "execute_result"
    }
   ],
   "source": [
    "metric_frame.overall"
   ]
  },
  {
   "cell_type": "markdown",
   "id": "e968fe9d",
   "metadata": {
    "papermill": {
     "duration": 0.02693,
     "end_time": "2025-07-28T10:54:01.115326",
     "exception": false,
     "start_time": "2025-07-28T10:54:01.088396",
     "status": "completed"
    },
    "tags": []
   },
   "source": [
    "By Group"
   ]
  },
  {
   "cell_type": "code",
   "execution_count": 68,
   "id": "ec325bce",
   "metadata": {
    "execution": {
     "iopub.execute_input": "2025-07-28T10:54:01.171996Z",
     "iopub.status.busy": "2025-07-28T10:54:01.171156Z",
     "iopub.status.idle": "2025-07-28T10:54:01.185038Z",
     "shell.execute_reply": "2025-07-28T10:54:01.184058Z"
    },
    "papermill": {
     "duration": 0.044638,
     "end_time": "2025-07-28T10:54:01.186381",
     "exception": false,
     "start_time": "2025-07-28T10:54:01.141743",
     "status": "completed"
    },
    "tags": []
   },
   "outputs": [
    {
     "data": {
      "text/html": [
       "<div>\n",
       "<style scoped>\n",
       "    .dataframe tbody tr th:only-of-type {\n",
       "        vertical-align: middle;\n",
       "    }\n",
       "\n",
       "    .dataframe tbody tr th {\n",
       "        vertical-align: top;\n",
       "    }\n",
       "\n",
       "    .dataframe thead th {\n",
       "        text-align: right;\n",
       "    }\n",
       "</style>\n",
       "<table border=\"1\" class=\"dataframe\">\n",
       "  <thead>\n",
       "    <tr style=\"text-align: right;\">\n",
       "      <th></th>\n",
       "      <th>accuracy</th>\n",
       "      <th>balanced accuracy</th>\n",
       "      <th>f1</th>\n",
       "      <th>precision</th>\n",
       "      <th>false positive rate</th>\n",
       "      <th>false negative rate</th>\n",
       "      <th>selection rate</th>\n",
       "      <th>count</th>\n",
       "    </tr>\n",
       "    <tr>\n",
       "      <th>majmin</th>\n",
       "      <th></th>\n",
       "      <th></th>\n",
       "      <th></th>\n",
       "      <th></th>\n",
       "      <th></th>\n",
       "      <th></th>\n",
       "      <th></th>\n",
       "      <th></th>\n",
       "    </tr>\n",
       "  </thead>\n",
       "  <tbody>\n",
       "    <tr>\n",
       "      <th>majority</th>\n",
       "      <td>0.247680</td>\n",
       "      <td>0.561883</td>\n",
       "      <td>0.257830</td>\n",
       "      <td>0.148239</td>\n",
       "      <td>0.865184</td>\n",
       "      <td>0.011050</td>\n",
       "      <td>0.881538</td>\n",
       "      <td>69170.0</td>\n",
       "    </tr>\n",
       "    <tr>\n",
       "      <th>minority</th>\n",
       "      <td>0.151947</td>\n",
       "      <td>0.518515</td>\n",
       "      <td>0.212914</td>\n",
       "      <td>0.119213</td>\n",
       "      <td>0.957902</td>\n",
       "      <td>0.005068</td>\n",
       "      <td>0.962171</td>\n",
       "      <td>20540.0</td>\n",
       "    </tr>\n",
       "  </tbody>\n",
       "</table>\n",
       "</div>"
      ],
      "text/plain": [
       "          accuracy  balanced accuracy        f1  precision  \\\n",
       "majmin                                                       \n",
       "majority  0.247680           0.561883  0.257830   0.148239   \n",
       "minority  0.151947           0.518515  0.212914   0.119213   \n",
       "\n",
       "          false positive rate  false negative rate  selection rate    count  \n",
       "majmin                                                                       \n",
       "majority             0.865184             0.011050        0.881538  69170.0  \n",
       "minority             0.957902             0.005068        0.962171  20540.0  "
      ]
     },
     "execution_count": 68,
     "metadata": {},
     "output_type": "execute_result"
    }
   ],
   "source": [
    "metric_frame.by_group"
   ]
  },
  {
   "cell_type": "code",
   "execution_count": 69,
   "id": "a9ddbe63",
   "metadata": {
    "execution": {
     "iopub.execute_input": "2025-07-28T10:54:01.218720Z",
     "iopub.status.busy": "2025-07-28T10:54:01.217960Z",
     "iopub.status.idle": "2025-07-28T10:54:04.044651Z",
     "shell.execute_reply": "2025-07-28T10:54:04.043466Z"
    },
    "papermill": {
     "duration": 2.844688,
     "end_time": "2025-07-28T10:54:04.046638",
     "exception": false,
     "start_time": "2025-07-28T10:54:01.201950",
     "status": "completed"
    },
    "tags": []
   },
   "outputs": [
    {
     "data": {
      "text/plain": [
       "array([[<Axes: title={'center': 'accuracy'}, xlabel='majmin'>,\n",
       "        <Axes: title={'center': 'balanced accuracy'}, xlabel='majmin'>,\n",
       "        <Axes: title={'center': 'f1'}, xlabel='majmin'>],\n",
       "       [<Axes: title={'center': 'precision'}, xlabel='majmin'>,\n",
       "        <Axes: title={'center': 'false positive rate'}, xlabel='majmin'>,\n",
       "        <Axes: title={'center': 'false negative rate'}, xlabel='majmin'>],\n",
       "       [<Axes: title={'center': 'selection rate'}, xlabel='majmin'>,\n",
       "        <Axes: title={'center': 'count'}, xlabel='majmin'>,\n",
       "        <Axes: xlabel='majmin'>]], dtype=object)"
      ]
     },
     "execution_count": 69,
     "metadata": {},
     "output_type": "execute_result"
    },
    {
     "data": {
      "image/png": "[encoded data removed]",
      "text/plain": [
       "<Figure size 1200x800 with 9 Axes>"
      ]
     },
     "metadata": {},
     "output_type": "display_data"
    }
   ],
   "source": [
    "# In a graphic\n",
    "metric_frame.by_group.plot.bar(\n",
    "    subplots=True,\n",
    "    layout=[3, 3],\n",
    "    legend=False,\n",
    "    figsize=[12, 8],\n",
    "    title=\"Show all metrics\",\n",
    ")"
   ]
  },
  {
   "cell_type": "markdown",
   "id": "f57a0bac",
   "metadata": {
    "papermill": {
     "duration": 0.016153,
     "end_time": "2025-07-28T10:54:04.084109",
     "exception": false,
     "start_time": "2025-07-28T10:54:04.067956",
     "status": "completed"
    },
    "tags": []
   },
   "source": [
    "# Final Output"
   ]
  },
  {
   "cell_type": "code",
   "execution_count": 70,
   "id": "96d280a3",
   "metadata": {
    "execution": {
     "iopub.execute_input": "2025-07-28T10:54:04.126855Z",
     "iopub.status.busy": "2025-07-28T10:54:04.125608Z",
     "iopub.status.idle": "2025-07-28T10:54:04.135613Z",
     "shell.execute_reply": "2025-07-28T10:54:04.134481Z"
    },
    "papermill": {
     "duration": 0.037394,
     "end_time": "2025-07-28T10:54:04.137847",
     "exception": false,
     "start_time": "2025-07-28T10:54:04.100453",
     "status": "completed"
    },
    "tags": []
   },
   "outputs": [
    {
     "data": {
      "text/plain": [
       "4"
      ]
     },
     "execution_count": 70,
     "metadata": {},
     "output_type": "execute_result"
    }
   ],
   "source": [
    "sub_universes = universe_analysis.generate_sub_universes()\n",
    "len(sub_universes)"
   ]
  },
  {
   "cell_type": "code",
   "execution_count": 71,
   "id": "92adf7ba",
   "metadata": {
    "execution": {
     "iopub.execute_input": "2025-07-28T10:54:04.210331Z",
     "iopub.status.busy": "2025-07-28T10:54:04.209084Z",
     "iopub.status.idle": "2025-07-28T10:54:04.217274Z",
     "shell.execute_reply": "2025-07-28T10:54:04.216001Z"
    },
    "papermill": {
     "duration": 0.046745,
     "end_time": "2025-07-28T10:54:04.219242",
     "exception": false,
     "start_time": "2025-07-28T10:54:04.172497",
     "status": "completed"
    },
    "tags": []
   },
   "outputs": [],
   "source": [
    "def filter_sub_universe_data(sub_universe, org_test):\n",
    "    # Keep all rows — no filtering\n",
    "    keep_rows_mask = np.ones(org_test.shape[0], dtype=bool)\n",
    "\n",
    "    print(f\"[INFO] Keeping all rows: {keep_rows_mask.sum()} rows retained.\")\n",
    "    return keep_rows_mask"
   ]
  },
  {
   "cell_type": "code",
   "execution_count": 72,
   "id": "4a759155",
   "metadata": {
    "execution": {
     "iopub.execute_input": "2025-07-28T10:54:04.255297Z",
     "iopub.status.busy": "2025-07-28T10:54:04.254764Z",
     "iopub.status.idle": "2025-07-28T10:54:14.615862Z",
     "shell.execute_reply": "2025-07-28T10:54:14.614696Z"
    },
    "papermill": {
     "duration": 10.380674,
     "end_time": "2025-07-28T10:54:14.617674",
     "exception": false,
     "start_time": "2025-07-28T10:54:04.237000",
     "status": "completed"
    },
    "tags": []
   },
   "outputs": [
    {
     "name": "stdout",
     "output_type": "stream",
     "text": [
      "Stopping execution_time clock.\n",
      "[INFO] Keeping all rows: 89710 rows retained.\n"
     ]
    },
    {
     "name": "stdout",
     "output_type": "stream",
     "text": [
      "[INFO] Keeping all rows: 89710 rows retained.\n"
     ]
    },
    {
     "name": "stdout",
     "output_type": "stream",
     "text": [
      "[INFO] Keeping all rows: 89710 rows retained.\n"
     ]
    },
    {
     "name": "stdout",
     "output_type": "stream",
     "text": [
      "[INFO] Keeping all rows: 89710 rows retained.\n"
     ]
    },
    {
     "data": {
      "text/html": [
       "<div>\n",
       "<style scoped>\n",
       "    .dataframe tbody tr th:only-of-type {\n",
       "        vertical-align: middle;\n",
       "    }\n",
       "\n",
       "    .dataframe tbody tr th {\n",
       "        vertical-align: top;\n",
       "    }\n",
       "\n",
       "    .dataframe thead th {\n",
       "        text-align: right;\n",
       "    }\n",
       "</style>\n",
       "<table border=\"1\" class=\"dataframe\">\n",
       "  <thead>\n",
       "    <tr style=\"text-align: right;\">\n",
       "      <th></th>\n",
       "      <th>run_no</th>\n",
       "      <th>universe_id</th>\n",
       "      <th>universe_settings</th>\n",
       "      <th>execution_time</th>\n",
       "      <th>test_size_n</th>\n",
       "      <th>test_size_frac</th>\n",
       "      <th>fair_main_equalized_odds_difference</th>\n",
       "      <th>fair_main_equalized_odds_ratio</th>\n",
       "      <th>fair_main_demographic_parity_difference</th>\n",
       "      <th>fair_main_demographic_parity_ratio</th>\n",
       "      <th>...</th>\n",
       "      <th>perf_grp_precision_0</th>\n",
       "      <th>perf_grp_precision_1</th>\n",
       "      <th>perf_grp_false positive rate_0</th>\n",
       "      <th>perf_grp_false positive rate_1</th>\n",
       "      <th>perf_grp_false negative rate_0</th>\n",
       "      <th>perf_grp_false negative rate_1</th>\n",
       "      <th>perf_grp_selection rate_0</th>\n",
       "      <th>perf_grp_selection rate_1</th>\n",
       "      <th>perf_grp_count_0</th>\n",
       "      <th>perf_grp_count_1</th>\n",
       "    </tr>\n",
       "  </thead>\n",
       "  <tbody>\n",
       "    <tr>\n",
       "      <th>0</th>\n",
       "      <td>11</td>\n",
       "      <td>3eaae1e014e0bcc86c9201cf12a9b566</td>\n",
       "      <td>{\"cutoff\": \"quantile_0.1\", \"eval_fairness_grou...</td>\n",
       "      <td>30.599412</td>\n",
       "      <td>89710</td>\n",
       "      <td>1.0</td>\n",
       "      <td>0.092718</td>\n",
       "      <td>0.903207</td>\n",
       "      <td>0.080633</td>\n",
       "      <td>0.916197</td>\n",
       "      <td>...</td>\n",
       "      <td>NaN</td>\n",
       "      <td>NaN</td>\n",
       "      <td>NaN</td>\n",
       "      <td>NaN</td>\n",
       "      <td>NaN</td>\n",
       "      <td>NaN</td>\n",
       "      <td>NaN</td>\n",
       "      <td>NaN</td>\n",
       "      <td>NaN</td>\n",
       "      <td>NaN</td>\n",
       "    </tr>\n",
       "    <tr>\n",
       "      <th>0</th>\n",
       "      <td>11</td>\n",
       "      <td>3eaae1e014e0bcc86c9201cf12a9b566</td>\n",
       "      <td>{\"cutoff\": \"quantile_0.1\", \"eval_fairness_grou...</td>\n",
       "      <td>30.599412</td>\n",
       "      <td>89710</td>\n",
       "      <td>1.0</td>\n",
       "      <td>0.092718</td>\n",
       "      <td>0.903207</td>\n",
       "      <td>0.080633</td>\n",
       "      <td>0.916197</td>\n",
       "      <td>...</td>\n",
       "      <td>0.119213</td>\n",
       "      <td>0.148239</td>\n",
       "      <td>0.957902</td>\n",
       "      <td>0.865184</td>\n",
       "      <td>0.005068</td>\n",
       "      <td>0.011050</td>\n",
       "      <td>0.962171</td>\n",
       "      <td>0.881538</td>\n",
       "      <td>20540.0</td>\n",
       "      <td>69170.0</td>\n",
       "    </tr>\n",
       "    <tr>\n",
       "      <th>0</th>\n",
       "      <td>11</td>\n",
       "      <td>3eaae1e014e0bcc86c9201cf12a9b566</td>\n",
       "      <td>{\"cutoff\": \"quantile_0.25\", \"eval_fairness_gro...</td>\n",
       "      <td>30.599412</td>\n",
       "      <td>89710</td>\n",
       "      <td>1.0</td>\n",
       "      <td>0.158538</td>\n",
       "      <td>0.811641</td>\n",
       "      <td>0.137090</td>\n",
       "      <td>0.839791</td>\n",
       "      <td>...</td>\n",
       "      <td>NaN</td>\n",
       "      <td>NaN</td>\n",
       "      <td>NaN</td>\n",
       "      <td>NaN</td>\n",
       "      <td>NaN</td>\n",
       "      <td>NaN</td>\n",
       "      <td>NaN</td>\n",
       "      <td>NaN</td>\n",
       "      <td>NaN</td>\n",
       "      <td>NaN</td>\n",
       "    </tr>\n",
       "    <tr>\n",
       "      <th>0</th>\n",
       "      <td>11</td>\n",
       "      <td>3eaae1e014e0bcc86c9201cf12a9b566</td>\n",
       "      <td>{\"cutoff\": \"quantile_0.25\", \"eval_fairness_gro...</td>\n",
       "      <td>30.599412</td>\n",
       "      <td>89710</td>\n",
       "      <td>1.0</td>\n",
       "      <td>0.158538</td>\n",
       "      <td>0.811641</td>\n",
       "      <td>0.137090</td>\n",
       "      <td>0.839791</td>\n",
       "      <td>...</td>\n",
       "      <td>0.129779</td>\n",
       "      <td>0.174969</td>\n",
       "      <td>0.841680</td>\n",
       "      <td>0.683142</td>\n",
       "      <td>0.036740</td>\n",
       "      <td>0.048468</td>\n",
       "      <td>0.855696</td>\n",
       "      <td>0.718606</td>\n",
       "      <td>20540.0</td>\n",
       "      <td>69170.0</td>\n",
       "    </tr>\n",
       "  </tbody>\n",
       "</table>\n",
       "<p>4 rows × 50 columns</p>\n",
       "</div>"
      ],
      "text/plain": [
       "  run_no                       universe_id  \\\n",
       "0     11  3eaae1e014e0bcc86c9201cf12a9b566   \n",
       "0     11  3eaae1e014e0bcc86c9201cf12a9b566   \n",
       "0     11  3eaae1e014e0bcc86c9201cf12a9b566   \n",
       "0     11  3eaae1e014e0bcc86c9201cf12a9b566   \n",
       "\n",
       "                                   universe_settings  execution_time  \\\n",
       "0  {\"cutoff\": \"quantile_0.1\", \"eval_fairness_grou...       30.599412   \n",
       "0  {\"cutoff\": \"quantile_0.1\", \"eval_fairness_grou...       30.599412   \n",
       "0  {\"cutoff\": \"quantile_0.25\", \"eval_fairness_gro...       30.599412   \n",
       "0  {\"cutoff\": \"quantile_0.25\", \"eval_fairness_gro...       30.599412   \n",
       "\n",
       "   test_size_n  test_size_frac  fair_main_equalized_odds_difference  \\\n",
       "0        89710             1.0                             0.092718   \n",
       "0        89710             1.0                             0.092718   \n",
       "0        89710             1.0                             0.158538   \n",
       "0        89710             1.0                             0.158538   \n",
       "\n",
       "   fair_main_equalized_odds_ratio  fair_main_demographic_parity_difference  \\\n",
       "0                        0.903207                                 0.080633   \n",
       "0                        0.903207                                 0.080633   \n",
       "0                        0.811641                                 0.137090   \n",
       "0                        0.811641                                 0.137090   \n",
       "\n",
       "   fair_main_demographic_parity_ratio  ...  perf_grp_precision_0  \\\n",
       "0                            0.916197  ...                   NaN   \n",
       "0                            0.916197  ...              0.119213   \n",
       "0                            0.839791  ...                   NaN   \n",
       "0                            0.839791  ...              0.129779   \n",
       "\n",
       "   perf_grp_precision_1  perf_grp_false positive rate_0  \\\n",
       "0                   NaN                             NaN   \n",
       "0              0.148239                        0.957902   \n",
       "0                   NaN                             NaN   \n",
       "0              0.174969                        0.841680   \n",
       "\n",
       "   perf_grp_false positive rate_1  perf_grp_false negative rate_0  \\\n",
       "0                             NaN                             NaN   \n",
       "0                        0.865184                        0.005068   \n",
       "0                             NaN                             NaN   \n",
       "0                        0.683142                        0.036740   \n",
       "\n",
       "   perf_grp_false negative rate_1  perf_grp_selection rate_0  \\\n",
       "0                             NaN                        NaN   \n",
       "0                        0.011050                   0.962171   \n",
       "0                             NaN                        NaN   \n",
       "0                        0.048468                   0.855696   \n",
       "\n",
       "   perf_grp_selection rate_1  perf_grp_count_0  perf_grp_count_1  \n",
       "0                        NaN               NaN               NaN  \n",
       "0                   0.881538           20540.0           69170.0  \n",
       "0                        NaN               NaN               NaN  \n",
       "0                   0.718606           20540.0           69170.0  \n",
       "\n",
       "[4 rows x 50 columns]"
      ]
     },
     "execution_count": 72,
     "metadata": {},
     "output_type": "execute_result"
    }
   ],
   "source": [
    "final_output = universe_analysis.generate_final_output(\n",
    "    y_pred_prob=probs_test,\n",
    "    y_test=y_true,\n",
    "    org_test=org_test,\n",
    "    filter_data=filter_sub_universe_data,\n",
    "    cp_metrics_df=cp_metrics_df,\n",
    "    save=True,\n",
    ")\n",
    "final_output"
   ]
  },
  {
   "cell_type": "code",
   "execution_count": null,
   "id": "721ff514-cb11-46f8-b6fc-50392f74b5cb",
   "metadata": {
    "papermill": {
     "duration": 0.031356,
     "end_time": "2025-07-28T10:54:14.682323",
     "exception": false,
     "start_time": "2025-07-28T10:54:14.650967",
     "status": "completed"
    },
    "tags": []
   },
   "outputs": [],
   "source": []
  }
 ],
 "metadata": {
  "celltoolbar": "Tags",
  "kernelspec": {
   "display_name": "Python (CMA Fairness)",
   "language": "python",
   "name": "cma_fair_env"
  },
  "language_info": {
   "codemirror_mode": {
    "name": "ipython",
    "version": 3
   },
   "file_extension": ".py",
   "mimetype": "text/x-python",
   "name": "python",
   "nbconvert_exporter": "python",
   "pygments_lexer": "ipython3",
   "version": "3.10.12"
  },
  "papermill": {
   "default_parameters": {},
   "duration": 45.293722,
   "end_time": "2025-07-28T10:54:15.429895",
   "environment_variables": {},
   "exception": null,
   "input_path": "universe_analysis.ipynb",
   "output_path": "output/runs/11/notebooks/m_11-3eaae1e014e0bcc86c9201cf12a9b566.ipynb",
   "parameters": {
    "output_dir": "output",
    "run_no": "11",
    "seed": "2023",
    "universe": "{\"cutoff\": [\"quantile_0.1\", \"quantile_0.25\"], \"eval_fairness_grouping\": [\"majority-minority\", \"nationality-all\"], \"exclude_features\": \"sex\", \"exclude_subgroups\": \"keep-all\", \"model\": \"logreg\", \"scale\": \"scale\", \"training_size\": \"2014\"}",
    "universe_id": "3eaae1e014e0bcc86c9201cf12a9b566"
   },
   "start_time": "2025-07-28T10:53:30.136173",
   "version": "2.6.0"
  }
 },
 "nbformat": 4,
 "nbformat_minor": 5
}