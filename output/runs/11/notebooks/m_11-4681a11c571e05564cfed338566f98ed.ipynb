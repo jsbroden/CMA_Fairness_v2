{
 "cells": [
  {
   "cell_type": "code",
   "execution_count": 1,
   "id": "f159f837-637b-42ba-96b5-ec9a68c44524",
   "metadata": {
    "execution": {
     "iopub.execute_input": "2025-07-28T10:41:43.849785Z",
     "iopub.status.busy": "2025-07-28T10:41:43.849138Z",
     "iopub.status.idle": "2025-07-28T10:41:43.864441Z",
     "shell.execute_reply": "2025-07-28T10:41:43.863566Z"
    },
    "papermill": {
     "duration": 0.036919,
     "end_time": "2025-07-28T10:41:43.866030",
     "exception": false,
     "start_time": "2025-07-28T10:41:43.829111",
     "status": "completed"
    },
    "tags": []
   },
   "outputs": [
    {
     "name": "stdout",
     "output_type": "stream",
     "text": [
      "/dss/dsshome1/0C/ra93lal2/cma/CMA_Fairness_v2\n"
     ]
    },
    {
     "name": "stderr",
     "output_type": "stream",
     "text": [
      "/dss/dsshome1/0C/ra93lal2/.local/share/virtualenvs/CMA_Fairness_v2-3j10GkSs/lib/python3.10/site-packages/IPython/core/magics/osm.py:393: UserWarning: This is now an optional IPython functionality, using bookmarks requires you to install the `pickleshare` library.\n",
      "  bkms = self.shell.db.get('bookmarks', {})\n",
      "/dss/dsshome1/0C/ra93lal2/.local/share/virtualenvs/CMA_Fairness_v2-3j10GkSs/lib/python3.10/site-packages/IPython/core/magics/osm.py:417: UserWarning: This is now an optional IPython functionality, setting dhist requires you to install the `pickleshare` library.\n",
      "  self.shell.db['dhist'] = compress_dhist(dhist)[-100:]\n"
     ]
    }
   ],
   "source": [
    "%cd ~/cma/CMA_Fairness_v2"
   ]
  },
  {
   "cell_type": "markdown",
   "id": "de2603b9",
   "metadata": {
    "papermill": {
     "duration": 0.017702,
     "end_time": "2025-07-28T10:41:43.902386",
     "exception": false,
     "start_time": "2025-07-28T10:41:43.884684",
     "status": "completed"
    },
    "tags": []
   },
   "source": [
    "The following cell holds the definition of our parameters, these values can be overriden by rendering the with e.g. the following command:\n",
    "\n",
    "papermill -p alpha 0.2 -p ratio 0.3 universe_analysis.ipynb output/test_run.ipynb"
   ]
  },
  {
   "cell_type": "code",
   "execution_count": 2,
   "id": "a80968a0-40bb-4fa9-85ef-2d5eefb01975",
   "metadata": {
    "execution": {
     "iopub.execute_input": "2025-07-28T10:41:43.939057Z",
     "iopub.status.busy": "2025-07-28T10:41:43.938645Z",
     "iopub.status.idle": "2025-07-28T10:41:43.944059Z",
     "shell.execute_reply": "2025-07-28T10:41:43.943134Z"
    },
    "papermill": {
     "duration": 0.025906,
     "end_time": "2025-07-28T10:41:43.945844",
     "exception": false,
     "start_time": "2025-07-28T10:41:43.919938",
     "status": "completed"
    },
    "tags": []
   },
   "outputs": [
    {
     "name": "stdout",
     "output_type": "stream",
     "text": [
      "Current working directory: /dss/dsshome1/0C/ra93lal2/cma/CMA_Fairness_v2\n"
     ]
    }
   ],
   "source": [
    "import os\n",
    "print(\"Current working directory:\", os.getcwd())"
   ]
  },
  {
   "cell_type": "code",
   "execution_count": 3,
   "id": "2dce4c03",
   "metadata": {
    "execution": {
     "iopub.execute_input": "2025-07-28T10:41:43.983863Z",
     "iopub.status.busy": "2025-07-28T10:41:43.983109Z",
     "iopub.status.idle": "2025-07-28T10:41:43.989304Z",
     "shell.execute_reply": "2025-07-28T10:41:43.988325Z"
    },
    "papermill": {
     "duration": 0.027313,
     "end_time": "2025-07-28T10:41:43.991050",
     "exception": false,
     "start_time": "2025-07-28T10:41:43.963737",
     "status": "completed"
    },
    "tags": [
     "parameters"
    ]
   },
   "outputs": [],
   "source": [
    "run_no = 0\n",
    "universe_id = \"test\"\n",
    "universe = {\n",
    "    \"training_size\": \"2014\", # \"25k\", \"5k\", \"1k\", \"2014\"\n",
    "    \"scale\": \"scale\", # \"scale\", \"do-not-scale\",\n",
    "    #\"stratify_split\": \"target\", # \"none\", \"target\", \"protected-attribute\", \"both\",\n",
    "    \"model\": \"elasticnet\", # \"logreg\", \"penalized_logreg\", \"rf\", \"gbm\", \"elasticnet\"\n",
    "    \"cutoff\": [\"quantile_0.15\", \"quantile_0.30\"],\n",
    "    \"exclude_features\": \"age\", # \"none\", \"nationality\", \"sex\", \"nationality-sex\", \"age\"\n",
    "    \"exclude_subgroups\": \"keep-all\", # \"keep-all\", \"drop-non-german\"\n",
    "    \"eval_fairness_grouping\": [\"majority-minority\", \"nationality-all\"]\n",
    "}\n",
    "\n",
    "output_dir=\"./output\"\n",
    "seed=0"
   ]
  },
  {
   "cell_type": "code",
   "execution_count": 4,
   "id": "df9ec755",
   "metadata": {
    "execution": {
     "iopub.execute_input": "2025-07-28T10:41:44.035381Z",
     "iopub.status.busy": "2025-07-28T10:41:44.035058Z",
     "iopub.status.idle": "2025-07-28T10:41:44.040071Z",
     "shell.execute_reply": "2025-07-28T10:41:44.039085Z"
    },
    "papermill": {
     "duration": 0.028909,
     "end_time": "2025-07-28T10:41:44.041736",
     "exception": false,
     "start_time": "2025-07-28T10:41:44.012827",
     "status": "completed"
    },
    "tags": [
     "injected-parameters"
    ]
   },
   "outputs": [],
   "source": [
    "# Parameters\n",
    "universe_id = \"4681a11c571e05564cfed338566f98ed\"\n",
    "run_no = \"11\"\n",
    "universe = \"{\\\"cutoff\\\": [\\\"quantile_0.1\\\", \\\"quantile_0.25\\\"], \\\"eval_fairness_grouping\\\": [\\\"majority-minority\\\", \\\"nationality-all\\\"], \\\"exclude_features\\\": \\\"nationality\\\", \\\"exclude_subgroups\\\": \\\"keep-all\\\", \\\"model\\\": \\\"logreg\\\", \\\"scale\\\": \\\"scale\\\", \\\"training_size\\\": \\\"1k\\\"}\"\n",
    "output_dir = \"output\"\n",
    "seed = \"2023\"\n"
   ]
  },
  {
   "cell_type": "code",
   "execution_count": 5,
   "id": "1650acaf",
   "metadata": {
    "execution": {
     "iopub.execute_input": "2025-07-28T10:41:44.085533Z",
     "iopub.status.busy": "2025-07-28T10:41:44.085228Z",
     "iopub.status.idle": "2025-07-28T10:41:44.089896Z",
     "shell.execute_reply": "2025-07-28T10:41:44.088862Z"
    },
    "papermill": {
     "duration": 0.028562,
     "end_time": "2025-07-28T10:41:44.091690",
     "exception": false,
     "start_time": "2025-07-28T10:41:44.063128",
     "status": "completed"
    },
    "tags": []
   },
   "outputs": [],
   "source": [
    "import json\n",
    "# Parse universe into dict if it is passed as a string\n",
    "if isinstance(universe, str):\n",
    "    universe = json.loads(universe)"
   ]
  },
  {
   "cell_type": "code",
   "execution_count": 6,
   "id": "16620c48",
   "metadata": {
    "execution": {
     "iopub.execute_input": "2025-07-28T10:41:44.135594Z",
     "iopub.status.busy": "2025-07-28T10:41:44.134858Z",
     "iopub.status.idle": "2025-07-28T10:41:44.179597Z",
     "shell.execute_reply": "2025-07-28T10:41:44.178668Z"
    },
    "papermill": {
     "duration": 0.068573,
     "end_time": "2025-07-28T10:41:44.181447",
     "exception": false,
     "start_time": "2025-07-28T10:41:44.112874",
     "status": "completed"
    },
    "tags": []
   },
   "outputs": [],
   "source": [
    "# Auto-reload the custom package\n",
    "%load_ext autoreload\n",
    "%autoreload 1\n",
    "%aimport fairness_multiverse"
   ]
  },
  {
   "cell_type": "code",
   "execution_count": 7,
   "id": "01c5c9f3",
   "metadata": {
    "execution": {
     "iopub.execute_input": "2025-07-28T10:41:44.225762Z",
     "iopub.status.busy": "2025-07-28T10:41:44.224981Z",
     "iopub.status.idle": "2025-07-28T10:41:46.178916Z",
     "shell.execute_reply": "2025-07-28T10:41:46.178060Z"
    },
    "papermill": {
     "duration": 1.977716,
     "end_time": "2025-07-28T10:41:46.180628",
     "exception": false,
     "start_time": "2025-07-28T10:41:44.202912",
     "status": "completed"
    },
    "tags": []
   },
   "outputs": [],
   "source": [
    "from fairness_multiverse.universe import UniverseAnalysis\n",
    "\n",
    "universe_analysis = UniverseAnalysis(\n",
    "    run_no = run_no,\n",
    "    universe_id = universe_id,\n",
    "    universe = universe,\n",
    "    output_dir=output_dir,\n",
    ")"
   ]
  },
  {
   "cell_type": "code",
   "execution_count": 8,
   "id": "106241f5",
   "metadata": {
    "execution": {
     "iopub.execute_input": "2025-07-28T10:41:46.203263Z",
     "iopub.status.busy": "2025-07-28T10:41:46.202505Z",
     "iopub.status.idle": "2025-07-28T10:41:46.208413Z",
     "shell.execute_reply": "2025-07-28T10:41:46.207424Z"
    },
    "papermill": {
     "duration": 0.018439,
     "end_time": "2025-07-28T10:41:46.209769",
     "exception": false,
     "start_time": "2025-07-28T10:41:46.191330",
     "status": "completed"
    },
    "tags": []
   },
   "outputs": [
    {
     "name": "stdout",
     "output_type": "stream",
     "text": [
      "Using Seed: 2023\n"
     ]
    }
   ],
   "source": [
    "import numpy as np\n",
    "parsed_seed = int(seed)\n",
    "np.random.seed(parsed_seed)\n",
    "print(f\"Using Seed: {parsed_seed}\")"
   ]
  },
  {
   "cell_type": "markdown",
   "id": "e0ebdc57",
   "metadata": {
    "papermill": {
     "duration": 0.010113,
     "end_time": "2025-07-28T10:41:46.231724",
     "exception": false,
     "start_time": "2025-07-28T10:41:46.221611",
     "status": "completed"
    },
    "tags": []
   },
   "source": [
    "# Loading Data"
   ]
  },
  {
   "cell_type": "markdown",
   "id": "681925a3",
   "metadata": {
    "papermill": {
     "duration": 0.009908,
     "end_time": "2025-07-28T10:41:46.251677",
     "exception": false,
     "start_time": "2025-07-28T10:41:46.241769",
     "status": "completed"
    },
    "tags": []
   },
   "source": [
    "Load siab_train, siab_test, siab_calib and/or \n",
    "load siab_train_features, siab_train_labels"
   ]
  },
  {
   "cell_type": "code",
   "execution_count": 9,
   "id": "f0496b8a",
   "metadata": {
    "execution": {
     "iopub.execute_input": "2025-07-28T10:41:46.273705Z",
     "iopub.status.busy": "2025-07-28T10:41:46.272987Z",
     "iopub.status.idle": "2025-07-28T10:41:55.975458Z",
     "shell.execute_reply": "2025-07-28T10:41:55.974567Z"
    },
    "papermill": {
     "duration": 9.714852,
     "end_time": "2025-07-28T10:41:55.976798",
     "exception": false,
     "start_time": "2025-07-28T10:41:46.261946",
     "status": "completed"
    },
    "tags": []
   },
   "outputs": [
    {
     "name": "stdout",
     "output_type": "stream",
     "text": [
      "Loading SIAB data from cache: data/siab_cached.csv.gz\n"
     ]
    },
    {
     "name": "stdout",
     "output_type": "stream",
     "text": [
      "(643690, 164)\n"
     ]
    }
   ],
   "source": [
    "from pathlib import Path\n",
    "import pandas as pd\n",
    "\n",
    "# File paths\n",
    "raw_file = Path(\"data/raw/siab.csv\")\n",
    "cache_file = Path(\"data/siab_cached.csv.gz\")\n",
    "\n",
    "# Ensure cache directory exists\n",
    "cache_file.parent.mkdir(parents=True, exist_ok=True)\n",
    "\n",
    "# Load with simple caching\n",
    "if cache_file.exists():\n",
    "    print(f\"Loading SIAB data from cache: {cache_file}\")\n",
    "    siab = pd.read_csv(cache_file, compression='gzip')\n",
    "else:\n",
    "    print(f\"Cache not found. Reading raw SIAB data: {raw_file}\")\n",
    "    siab = pd.read_csv(raw_file)\n",
    "    siab.to_csv(cache_file, index=False, compression='gzip')\n",
    "    print(f\"Cached SIAB data to: {cache_file}\")\n",
    "\n",
    "# Now use `siab` DataFrame as needed\n",
    "print(siab.shape)"
   ]
  },
  {
   "cell_type": "code",
   "execution_count": 10,
   "id": "db0ca512-5f53-4dba-abdb-a2888bca41ba",
   "metadata": {
    "execution": {
     "iopub.execute_input": "2025-07-28T10:41:56.002089Z",
     "iopub.status.busy": "2025-07-28T10:41:56.001520Z",
     "iopub.status.idle": "2025-07-28T10:41:56.006075Z",
     "shell.execute_reply": "2025-07-28T10:41:56.005106Z"
    },
    "papermill": {
     "duration": 0.016977,
     "end_time": "2025-07-28T10:41:56.007530",
     "exception": false,
     "start_time": "2025-07-28T10:41:55.990553",
     "status": "completed"
    },
    "tags": []
   },
   "outputs": [],
   "source": [
    "#siab"
   ]
  },
  {
   "cell_type": "code",
   "execution_count": 11,
   "id": "a0edb063",
   "metadata": {
    "execution": {
     "iopub.execute_input": "2025-07-28T10:41:56.029990Z",
     "iopub.status.busy": "2025-07-28T10:41:56.029370Z",
     "iopub.status.idle": "2025-07-28T10:41:56.033836Z",
     "shell.execute_reply": "2025-07-28T10:41:56.032951Z"
    },
    "papermill": {
     "duration": 0.01689,
     "end_time": "2025-07-28T10:41:56.035237",
     "exception": false,
     "start_time": "2025-07-28T10:41:56.018347",
     "status": "completed"
    },
    "tags": []
   },
   "outputs": [],
   "source": [
    "#import pandas as pd\n",
    "#\n",
    "#X_train = pd.read_csv(\"./data/X_train.csv\")\n",
    "#y_train = pd.read_csv(\"./data/y_train.csv\")"
   ]
  },
  {
   "cell_type": "code",
   "execution_count": 12,
   "id": "63d08085",
   "metadata": {
    "execution": {
     "iopub.execute_input": "2025-07-28T10:41:56.058112Z",
     "iopub.status.busy": "2025-07-28T10:41:56.057555Z",
     "iopub.status.idle": "2025-07-28T10:41:56.062324Z",
     "shell.execute_reply": "2025-07-28T10:41:56.061292Z"
    },
    "papermill": {
     "duration": 0.017829,
     "end_time": "2025-07-28T10:41:56.063863",
     "exception": false,
     "start_time": "2025-07-28T10:41:56.046034",
     "status": "completed"
    },
    "tags": []
   },
   "outputs": [],
   "source": [
    "#X_test = pd.read_csv(\"./data/X_test.csv\")\n",
    "#y_true = pd.read_csv(\"./data/y_test.csv\")"
   ]
  },
  {
   "cell_type": "code",
   "execution_count": 13,
   "id": "98a8d0fa-1d3d-4ed8-bb2c-281470e24add",
   "metadata": {
    "execution": {
     "iopub.execute_input": "2025-07-28T10:41:56.087342Z",
     "iopub.status.busy": "2025-07-28T10:41:56.086772Z",
     "iopub.status.idle": "2025-07-28T10:41:56.090913Z",
     "shell.execute_reply": "2025-07-28T10:41:56.090109Z"
    },
    "papermill": {
     "duration": 0.016656,
     "end_time": "2025-07-28T10:41:56.092323",
     "exception": false,
     "start_time": "2025-07-28T10:41:56.075667",
     "status": "completed"
    },
    "tags": []
   },
   "outputs": [],
   "source": [
    "# Calibration data for conformal\n",
    "#X_calib = pd.read_csv(\"./data/X_calib.csv\")\n",
    "#y_calib = pd.read_csv(\"./data/y_calib.csv\")"
   ]
  },
  {
   "cell_type": "markdown",
   "id": "9901737e-04df-44f0-9100-f5ad144ed040",
   "metadata": {
    "papermill": {
     "duration": 0.010302,
     "end_time": "2025-07-28T10:41:56.113627",
     "exception": false,
     "start_time": "2025-07-28T10:41:56.103325",
     "status": "completed"
    },
    "tags": []
   },
   "source": [
    "# Splitting Data and Setting Training Data Size"
   ]
  },
  {
   "cell_type": "code",
   "execution_count": 14,
   "id": "acbc8f7d-8fc8-4e86-8c59-5dcb0f58384b",
   "metadata": {
    "execution": {
     "iopub.execute_input": "2025-07-28T10:41:56.136423Z",
     "iopub.status.busy": "2025-07-28T10:41:56.136087Z",
     "iopub.status.idle": "2025-07-28T10:41:56.142897Z",
     "shell.execute_reply": "2025-07-28T10:41:56.142100Z"
    },
    "papermill": {
     "duration": 0.019798,
     "end_time": "2025-07-28T10:41:56.144405",
     "exception": false,
     "start_time": "2025-07-28T10:41:56.124607",
     "status": "completed"
    },
    "tags": []
   },
   "outputs": [],
   "source": [
    "def sample_by_year(df, training_size, random_state=42):\n",
    "    if training_size == \"2014\":\n",
    "        return df[df[\"year\"] == 2014].reset_index(drop=True)\n",
    "    \n",
    "    size_map = {\n",
    "        \"25k\": 5000,\n",
    "        \"5k\": 1000,\n",
    "        \"1k\": 200\n",
    "    }\n",
    "\n",
    "    if training_size not in size_map:\n",
    "        return df.reset_index(drop=True)  # use all data\n",
    "\n",
    "    n_per_year = size_map[training_size]\n",
    "    grouped = df.groupby(\"year\")\n",
    "    sampled = grouped.apply(lambda x: x.sample(n=min(n_per_year, len(x)), random_state=random_state))\n",
    "    return sampled.reset_index(drop=True)"
   ]
  },
  {
   "cell_type": "code",
   "execution_count": 15,
   "id": "6d931f52-beaf-43ff-9e78-9d44a448d54e",
   "metadata": {
    "execution": {
     "iopub.execute_input": "2025-07-28T10:41:56.167289Z",
     "iopub.status.busy": "2025-07-28T10:41:56.166495Z",
     "iopub.status.idle": "2025-07-28T10:41:56.754250Z",
     "shell.execute_reply": "2025-07-28T10:41:56.753470Z"
    },
    "papermill": {
     "duration": 0.600274,
     "end_time": "2025-07-28T10:41:56.755841",
     "exception": false,
     "start_time": "2025-07-28T10:41:56.155567",
     "status": "completed"
    },
    "tags": []
   },
   "outputs": [],
   "source": [
    "siab_s = sample_by_year(siab, universe[\"training_size\"])"
   ]
  },
  {
   "cell_type": "code",
   "execution_count": 16,
   "id": "5db0a40e-a4e2-4920-be85-b12ae061d70d",
   "metadata": {
    "execution": {
     "iopub.execute_input": "2025-07-28T10:41:56.778879Z",
     "iopub.status.busy": "2025-07-28T10:41:56.778523Z",
     "iopub.status.idle": "2025-07-28T10:41:56.789463Z",
     "shell.execute_reply": "2025-07-28T10:41:56.788680Z"
    },
    "papermill": {
     "duration": 0.02399,
     "end_time": "2025-07-28T10:41:56.790974",
     "exception": false,
     "start_time": "2025-07-28T10:41:56.766984",
     "status": "completed"
    },
    "tags": []
   },
   "outputs": [
    {
     "data": {
      "text/plain": [
       "year\n",
       "2010    200\n",
       "2011    200\n",
       "2012    200\n",
       "2013    200\n",
       "2014    200\n",
       "2015    200\n",
       "2016    200\n",
       "dtype: int64"
      ]
     },
     "metadata": {},
     "output_type": "display_data"
    }
   ],
   "source": [
    "display(siab_s.groupby(\"year\").size())"
   ]
  },
  {
   "cell_type": "code",
   "execution_count": 17,
   "id": "a561edb4-d032-42cb-8256-22eac1111c64",
   "metadata": {
    "execution": {
     "iopub.execute_input": "2025-07-28T10:41:56.814588Z",
     "iopub.status.busy": "2025-07-28T10:41:56.814003Z",
     "iopub.status.idle": "2025-07-28T10:41:57.084085Z",
     "shell.execute_reply": "2025-07-28T10:41:57.083229Z"
    },
    "papermill": {
     "duration": 0.283627,
     "end_time": "2025-07-28T10:41:57.085964",
     "exception": false,
     "start_time": "2025-07-28T10:41:56.802337",
     "status": "completed"
    },
    "tags": []
   },
   "outputs": [],
   "source": [
    "siab_train = siab_s[siab_s.year < 2015]\n",
    "siab_calib = siab[siab.year == 2015]\n",
    "siab_test = siab[siab.year == 2016]"
   ]
  },
  {
   "cell_type": "code",
   "execution_count": 18,
   "id": "472de16f-c3db-4916-846b-1f0de9cf1746",
   "metadata": {
    "execution": {
     "iopub.execute_input": "2025-07-28T10:41:57.133660Z",
     "iopub.status.busy": "2025-07-28T10:41:57.132748Z",
     "iopub.status.idle": "2025-07-28T10:41:57.141032Z",
     "shell.execute_reply": "2025-07-28T10:41:57.140109Z"
    },
    "papermill": {
     "duration": 0.033336,
     "end_time": "2025-07-28T10:41:57.145041",
     "exception": false,
     "start_time": "2025-07-28T10:41:57.111705",
     "status": "completed"
    },
    "tags": []
   },
   "outputs": [],
   "source": [
    "X_train = siab_train.iloc[:,4:164]\n",
    "y_train = siab_train.iloc[:, [3]]"
   ]
  },
  {
   "cell_type": "code",
   "execution_count": 19,
   "id": "828c96af-f43a-4ed6-ba47-8ac73a47d56c",
   "metadata": {
    "execution": {
     "iopub.execute_input": "2025-07-28T10:41:57.171850Z",
     "iopub.status.busy": "2025-07-28T10:41:57.171195Z",
     "iopub.status.idle": "2025-07-28T10:41:57.220357Z",
     "shell.execute_reply": "2025-07-28T10:41:57.219400Z"
    },
    "papermill": {
     "duration": 0.062804,
     "end_time": "2025-07-28T10:41:57.221722",
     "exception": false,
     "start_time": "2025-07-28T10:41:57.158918",
     "status": "completed"
    },
    "tags": []
   },
   "outputs": [],
   "source": [
    "X_calib = siab_calib.iloc[:,4:164]\n",
    "y_calib = siab_calib.iloc[:, [3]]"
   ]
  },
  {
   "cell_type": "code",
   "execution_count": 20,
   "id": "c34be9c3-6bd6-476e-acd3-845840e303be",
   "metadata": {
    "execution": {
     "iopub.execute_input": "2025-07-28T10:41:57.250914Z",
     "iopub.status.busy": "2025-07-28T10:41:57.250550Z",
     "iopub.status.idle": "2025-07-28T10:41:57.301099Z",
     "shell.execute_reply": "2025-07-28T10:41:57.299990Z"
    },
    "papermill": {
     "duration": 0.064401,
     "end_time": "2025-07-28T10:41:57.302682",
     "exception": false,
     "start_time": "2025-07-28T10:41:57.238281",
     "status": "completed"
    },
    "tags": []
   },
   "outputs": [],
   "source": [
    "X_test = siab_test.iloc[:,4:164]\n",
    "y_true = siab_test.iloc[:, [3]]"
   ]
  },
  {
   "cell_type": "code",
   "execution_count": 21,
   "id": "e6c733c5",
   "metadata": {
    "execution": {
     "iopub.execute_input": "2025-07-28T10:41:57.326768Z",
     "iopub.status.busy": "2025-07-28T10:41:57.326346Z",
     "iopub.status.idle": "2025-07-28T10:41:57.422477Z",
     "shell.execute_reply": "2025-07-28T10:41:57.421651Z"
    },
    "papermill": {
     "duration": 0.109634,
     "end_time": "2025-07-28T10:41:57.424088",
     "exception": false,
     "start_time": "2025-07-28T10:41:57.314454",
     "status": "completed"
    },
    "tags": []
   },
   "outputs": [],
   "source": [
    "# Auxiliary data needed downstream in the pipeline\n",
    "\n",
    "org_train = X_train.copy()\n",
    "org_test = X_test.copy()\n",
    "org_calib = X_calib.copy()"
   ]
  },
  {
   "cell_type": "markdown",
   "id": "0a4a1b33",
   "metadata": {
    "papermill": {
     "duration": 0.01096,
     "end_time": "2025-07-28T10:41:57.446500",
     "exception": false,
     "start_time": "2025-07-28T10:41:57.435540",
     "status": "completed"
    },
    "tags": []
   },
   "source": [
    "# Preprocessing Data"
   ]
  },
  {
   "cell_type": "code",
   "execution_count": 22,
   "id": "ca879031",
   "metadata": {
    "execution": {
     "iopub.execute_input": "2025-07-28T10:41:57.470027Z",
     "iopub.status.busy": "2025-07-28T10:41:57.469503Z",
     "iopub.status.idle": "2025-07-28T10:41:57.475144Z",
     "shell.execute_reply": "2025-07-28T10:41:57.474323Z"
    },
    "papermill": {
     "duration": 0.018955,
     "end_time": "2025-07-28T10:41:57.476492",
     "exception": false,
     "start_time": "2025-07-28T10:41:57.457537",
     "status": "completed"
    },
    "tags": []
   },
   "outputs": [],
   "source": [
    "# EXCLUDE PROTECTED FEATURES\n",
    "# ----------------------\n",
    "# \"exclude_features\": \"none\", # \"nationality\", \"sex\", \"nationality-sex\"\n",
    "\n",
    "excluded_features = universe[\"exclude_features\"].split(\"-\") # split, e.g.: \"nationality-sex\" -> [\"nationality\", \"sex\"]\n",
    "excluded_features_dictionary = {\n",
    "    \"nationality\": [\"maxdeutsch1\", \"maxdeutsch.Missing.\"],\n",
    "    \"sex\": [\"frau1\"],\n",
    "    \"age\": [\"age\"],\n",
    "}\n"
   ]
  },
  {
   "cell_type": "code",
   "execution_count": 23,
   "id": "b745ac60",
   "metadata": {
    "execution": {
     "iopub.execute_input": "2025-07-28T10:41:57.500726Z",
     "iopub.status.busy": "2025-07-28T10:41:57.500177Z",
     "iopub.status.idle": "2025-07-28T10:41:57.505459Z",
     "shell.execute_reply": "2025-07-28T10:41:57.504659Z"
    },
    "papermill": {
     "duration": 0.018362,
     "end_time": "2025-07-28T10:41:57.506768",
     "exception": false,
     "start_time": "2025-07-28T10:41:57.488406",
     "status": "completed"
    },
    "tags": []
   },
   "outputs": [],
   "source": [
    "# Code nice names to column names\n",
    "\n",
    "excluded_features_columns = [\n",
    "    excluded_features_dictionary[f] for f in excluded_features if len(f) > 0 and f != \"none\"\n",
    "]"
   ]
  },
  {
   "cell_type": "code",
   "execution_count": 24,
   "id": "f84f73a2",
   "metadata": {
    "execution": {
     "iopub.execute_input": "2025-07-28T10:41:57.567411Z",
     "iopub.status.busy": "2025-07-28T10:41:57.566858Z",
     "iopub.status.idle": "2025-07-28T10:41:57.572762Z",
     "shell.execute_reply": "2025-07-28T10:41:57.572006Z"
    },
    "papermill": {
     "duration": 0.01958,
     "end_time": "2025-07-28T10:41:57.574137",
     "exception": false,
     "start_time": "2025-07-28T10:41:57.554557",
     "status": "completed"
    },
    "tags": []
   },
   "outputs": [],
   "source": [
    "from utils import flatten_once\n",
    "\n",
    "excluded_features_columns = flatten_once(excluded_features_columns)"
   ]
  },
  {
   "cell_type": "code",
   "execution_count": 25,
   "id": "884dea22",
   "metadata": {
    "execution": {
     "iopub.execute_input": "2025-07-28T10:41:57.599293Z",
     "iopub.status.busy": "2025-07-28T10:41:57.598759Z",
     "iopub.status.idle": "2025-07-28T10:41:57.605964Z",
     "shell.execute_reply": "2025-07-28T10:41:57.605175Z"
    },
    "papermill": {
     "duration": 0.02107,
     "end_time": "2025-07-28T10:41:57.607354",
     "exception": false,
     "start_time": "2025-07-28T10:41:57.586284",
     "status": "completed"
    },
    "tags": []
   },
   "outputs": [
    {
     "name": "stdout",
     "output_type": "stream",
     "text": [
      "Dropping features: ['maxdeutsch1', 'maxdeutsch.Missing.']\n"
     ]
    }
   ],
   "source": [
    "if len(excluded_features_columns) > 0:\n",
    "    print(f\"Dropping features: {excluded_features_columns}\")\n",
    "    X_train.drop(excluded_features_columns, axis=1, inplace=True)"
   ]
  },
  {
   "cell_type": "code",
   "execution_count": 26,
   "id": "95ab8b16",
   "metadata": {
    "execution": {
     "iopub.execute_input": "2025-07-28T10:41:57.632317Z",
     "iopub.status.busy": "2025-07-28T10:41:57.631775Z",
     "iopub.status.idle": "2025-07-28T10:41:57.685889Z",
     "shell.execute_reply": "2025-07-28T10:41:57.685036Z"
    },
    "papermill": {
     "duration": 0.067936,
     "end_time": "2025-07-28T10:41:57.687322",
     "exception": false,
     "start_time": "2025-07-28T10:41:57.619386",
     "status": "completed"
    },
    "tags": []
   },
   "outputs": [
    {
     "name": "stdout",
     "output_type": "stream",
     "text": [
      "Dropping features: ['maxdeutsch1', 'maxdeutsch.Missing.']\n"
     ]
    }
   ],
   "source": [
    "if len(excluded_features_columns) > 0:\n",
    "    print(f\"Dropping features: {excluded_features_columns}\")\n",
    "    X_test.drop(excluded_features_columns, axis=1, inplace=True)"
   ]
  },
  {
   "cell_type": "code",
   "execution_count": 27,
   "id": "1853aaf5-fb9f-46cb-a2b5-8ea4ae2237e4",
   "metadata": {
    "execution": {
     "iopub.execute_input": "2025-07-28T10:41:57.712877Z",
     "iopub.status.busy": "2025-07-28T10:41:57.712350Z",
     "iopub.status.idle": "2025-07-28T10:41:57.763804Z",
     "shell.execute_reply": "2025-07-28T10:41:57.762994Z"
    },
    "papermill": {
     "duration": 0.065468,
     "end_time": "2025-07-28T10:41:57.765282",
     "exception": false,
     "start_time": "2025-07-28T10:41:57.699814",
     "status": "completed"
    },
    "tags": []
   },
   "outputs": [
    {
     "name": "stdout",
     "output_type": "stream",
     "text": [
      "Dropping features: ['maxdeutsch1', 'maxdeutsch.Missing.']\n"
     ]
    }
   ],
   "source": [
    "if len(excluded_features_columns) > 0:\n",
    "    print(f\"Dropping features: {excluded_features_columns}\")\n",
    "    X_calib.drop(excluded_features_columns, axis=1, inplace=True)"
   ]
  },
  {
   "cell_type": "code",
   "execution_count": 28,
   "id": "6727d079-03e5-481e-9d38-292a90b7a0a8",
   "metadata": {
    "execution": {
     "iopub.execute_input": "2025-07-28T10:41:57.790257Z",
     "iopub.status.busy": "2025-07-28T10:41:57.789734Z",
     "iopub.status.idle": "2025-07-28T10:41:57.794287Z",
     "shell.execute_reply": "2025-07-28T10:41:57.793455Z"
    },
    "papermill": {
     "duration": 0.018309,
     "end_time": "2025-07-28T10:41:57.795666",
     "exception": false,
     "start_time": "2025-07-28T10:41:57.777357",
     "status": "completed"
    },
    "tags": []
   },
   "outputs": [],
   "source": [
    "# SPLIT & STRATIFY DATA\n",
    "# ----------------------"
   ]
  },
  {
   "cell_type": "code",
   "execution_count": 29,
   "id": "76c4dc6d",
   "metadata": {
    "execution": {
     "iopub.execute_input": "2025-07-28T10:41:57.821168Z",
     "iopub.status.busy": "2025-07-28T10:41:57.820410Z",
     "iopub.status.idle": "2025-07-28T10:41:57.825596Z",
     "shell.execute_reply": "2025-07-28T10:41:57.824781Z"
    },
    "papermill": {
     "duration": 0.018877,
     "end_time": "2025-07-28T10:41:57.826904",
     "exception": false,
     "start_time": "2025-07-28T10:41:57.808027",
     "status": "completed"
    },
    "tags": []
   },
   "outputs": [],
   "source": [
    "# EXCLUDE CERTAIN SUBGROUPS\n",
    "# ----------------------\n",
    "\n",
    "mode = universe.get(\"exclude_subgroups\", \"keep-all\") \n",
    "# Fetches the exclude_subgroups setting from the universe dict.\n",
    "# Defaults to \"keep-all\" if the key is missing."
   ]
  },
  {
   "cell_type": "code",
   "execution_count": 30,
   "id": "21994072",
   "metadata": {
    "execution": {
     "iopub.execute_input": "2025-07-28T10:41:57.852706Z",
     "iopub.status.busy": "2025-07-28T10:41:57.852019Z",
     "iopub.status.idle": "2025-07-28T10:41:57.857668Z",
     "shell.execute_reply": "2025-07-28T10:41:57.856944Z"
    },
    "papermill": {
     "duration": 0.019752,
     "end_time": "2025-07-28T10:41:57.859089",
     "exception": false,
     "start_time": "2025-07-28T10:41:57.839337",
     "status": "completed"
    },
    "tags": []
   },
   "outputs": [],
   "source": [
    "if mode == \"keep-all\":\n",
    "    keep_mask = pd.Series(True, index=org_train.index)\n",
    "\n",
    "# org_train contains the original feature columns from features_org (in Simson)\n",
    "# features_org contains unprocessed features, for me X_train at beginning ???\n",
    "# For keep-all, creates a boolean Series (keep_mask) of all True, so no rows are removed.\n",
    "\n",
    "elif mode == \"drop-non-german\":\n",
    "    keep_mask = org_train[\"maxdeutsch1\"] == 1 # ??? what about missing values?\n",
    "\n",
    "else:\n",
    "    raise ValueError(f\"Unsupported mode for exclude_subgroups: {mode}\")\n"
   ]
  },
  {
   "cell_type": "code",
   "execution_count": 31,
   "id": "71651440",
   "metadata": {
    "execution": {
     "iopub.execute_input": "2025-07-28T10:41:57.884508Z",
     "iopub.status.busy": "2025-07-28T10:41:57.884144Z",
     "iopub.status.idle": "2025-07-28T10:41:57.889404Z",
     "shell.execute_reply": "2025-07-28T10:41:57.888538Z"
    },
    "papermill": {
     "duration": 0.019351,
     "end_time": "2025-07-28T10:41:57.890826",
     "exception": false,
     "start_time": "2025-07-28T10:41:57.871475",
     "status": "completed"
    },
    "tags": []
   },
   "outputs": [],
   "source": [
    "n_drop = (~keep_mask).sum() # Calculates how many rows are set to be dropped\n",
    "if n_drop > 0:\n",
    "    pct = n_drop / len(keep_mask) * 100\n",
    "    print(f\"Dropping {n_drop} rows ({pct:.2f}%) where mode='{mode}'\")"
   ]
  },
  {
   "cell_type": "code",
   "execution_count": 32,
   "id": "5fb8eee5",
   "metadata": {
    "execution": {
     "iopub.execute_input": "2025-07-28T10:41:57.916133Z",
     "iopub.status.busy": "2025-07-28T10:41:57.915748Z",
     "iopub.status.idle": "2025-07-28T10:41:57.921140Z",
     "shell.execute_reply": "2025-07-28T10:41:57.920280Z"
    },
    "papermill": {
     "duration": 0.019239,
     "end_time": "2025-07-28T10:41:57.922565",
     "exception": false,
     "start_time": "2025-07-28T10:41:57.903326",
     "status": "completed"
    },
    "tags": []
   },
   "outputs": [],
   "source": [
    "X_train = X_train[keep_mask]"
   ]
  },
  {
   "cell_type": "code",
   "execution_count": 33,
   "id": "b202bb3a",
   "metadata": {
    "execution": {
     "iopub.execute_input": "2025-07-28T10:41:57.948145Z",
     "iopub.status.busy": "2025-07-28T10:41:57.947726Z",
     "iopub.status.idle": "2025-07-28T10:41:57.953406Z",
     "shell.execute_reply": "2025-07-28T10:41:57.952677Z"
    },
    "papermill": {
     "duration": 0.019712,
     "end_time": "2025-07-28T10:41:57.954770",
     "exception": false,
     "start_time": "2025-07-28T10:41:57.935058",
     "status": "completed"
    },
    "tags": []
   },
   "outputs": [],
   "source": [
    "y_train = y_train[keep_mask]"
   ]
  },
  {
   "cell_type": "markdown",
   "id": "493e2ac3",
   "metadata": {
    "papermill": {
     "duration": 0.011514,
     "end_time": "2025-07-28T10:41:57.978815",
     "exception": false,
     "start_time": "2025-07-28T10:41:57.967301",
     "status": "completed"
    },
    "tags": []
   },
   "source": [
    "# Model Training"
   ]
  },
  {
   "cell_type": "code",
   "execution_count": 34,
   "id": "679e1268",
   "metadata": {
    "execution": {
     "iopub.execute_input": "2025-07-28T10:41:58.003590Z",
     "iopub.status.busy": "2025-07-28T10:41:58.003202Z",
     "iopub.status.idle": "2025-07-28T10:41:58.082738Z",
     "shell.execute_reply": "2025-07-28T10:41:58.081889Z"
    },
    "papermill": {
     "duration": 0.093955,
     "end_time": "2025-07-28T10:41:58.084359",
     "exception": false,
     "start_time": "2025-07-28T10:41:57.990404",
     "status": "completed"
    },
    "tags": []
   },
   "outputs": [],
   "source": [
    "from sklearn.linear_model import LogisticRegression\n",
    "from sklearn.ensemble import GradientBoostingClassifier, RandomForestClassifier\n",
    "\n",
    "if (universe[\"model\"] == \"logreg\"):\n",
    "    model = LogisticRegression() #penalty=\"none\") #, solver=\"newton-cg\", max_iter=1) # include random_state=19 ?\n",
    "elif (universe[\"model\"] == \"penalized_logreg\"):\n",
    "    model = LogisticRegression(penalty=\"l2\", C=1.0) #, solver=\"newton-cg\", max_iter=1)\n",
    "elif (universe[\"model\"] == \"rf\"):\n",
    "    model = RandomForestClassifier(n_estimators=100, n_jobs=-1)\n",
    "elif (universe[\"model\"] == \"gbm\"):\n",
    "    model = GradientBoostingClassifier()\n",
    "elif (universe[\"model\"] == \"elasticnet\"):\n",
    "    model = LogisticRegression(penalty = 'elasticnet', solver = 'saga', l1_ratio = 0.5, max_iter=5000) # which solver to use?\n",
    "else:\n",
    "    raise \"Unsupported universe.model\""
   ]
  },
  {
   "cell_type": "code",
   "execution_count": 35,
   "id": "0cc8f744",
   "metadata": {
    "execution": {
     "iopub.execute_input": "2025-07-28T10:41:58.110041Z",
     "iopub.status.busy": "2025-07-28T10:41:58.109518Z",
     "iopub.status.idle": "2025-07-28T10:41:58.114906Z",
     "shell.execute_reply": "2025-07-28T10:41:58.114108Z"
    },
    "papermill": {
     "duration": 0.01967,
     "end_time": "2025-07-28T10:41:58.116225",
     "exception": false,
     "start_time": "2025-07-28T10:41:58.096555",
     "status": "completed"
    },
    "tags": []
   },
   "outputs": [],
   "source": [
    "import numpy as np\n",
    "from sklearn.pipeline import Pipeline\n",
    "from sklearn.preprocessing import StandardScaler\n",
    "\n",
    "model = Pipeline([\n",
    "    #(\"continuous_processor\", continuous_processor),\n",
    "    #(\"categorical_preprocessor\", categorical_preprocessor),\n",
    "    (\"scale\", StandardScaler() if universe[\"scale\"] == \"scale\" else None), \n",
    "    (\"model\", model),\n",
    "])"
   ]
  },
  {
   "cell_type": "code",
   "execution_count": 36,
   "id": "9442c04d",
   "metadata": {
    "execution": {
     "iopub.execute_input": "2025-07-28T10:41:58.142757Z",
     "iopub.status.busy": "2025-07-28T10:41:58.141742Z",
     "iopub.status.idle": "2025-07-28T10:41:58.194982Z",
     "shell.execute_reply": "2025-07-28T10:41:58.194199Z"
    },
    "papermill": {
     "duration": 0.067413,
     "end_time": "2025-07-28T10:41:58.196448",
     "exception": false,
     "start_time": "2025-07-28T10:41:58.129035",
     "status": "completed"
    },
    "tags": []
   },
   "outputs": [
    {
     "name": "stderr",
     "output_type": "stream",
     "text": [
      "/dss/dsshome1/0C/ra93lal2/.local/share/virtualenvs/CMA_Fairness_v2-3j10GkSs/lib/python3.10/site-packages/sklearn/linear_model/_logistic.py:444: ConvergenceWarning: lbfgs failed to converge (status=1):\n",
      "STOP: TOTAL NO. of ITERATIONS REACHED LIMIT.\n",
      "\n",
      "Increase the number of iterations (max_iter) or scale the data as shown in:\n",
      "    https://scikit-learn.org/stable/modules/preprocessing.html\n",
      "Please also refer to the documentation for alternative solver options:\n",
      "    https://scikit-learn.org/stable/modules/linear_model.html#logistic-regression\n",
      "  n_iter_i = _check_optimize_result(\n"
     ]
    },
    {
     "data": {
      "text/html": [
       "<style>#sk-container-id-1 {color: black;background-color: white;}#sk-container-id-1 pre{padding: 0;}#sk-container-id-1 div.sk-toggleable {background-color: white;}#sk-container-id-1 label.sk-toggleable__label {cursor: pointer;display: block;width: 100%;margin-bottom: 0;padding: 0.3em;box-sizing: border-box;text-align: center;}#sk-container-id-1 label.sk-toggleable__label-arrow:before {content: \"▸\";float: left;margin-right: 0.25em;color: #696969;}#sk-container-id-1 label.sk-toggleable__label-arrow:hover:before {color: black;}#sk-container-id-1 div.sk-estimator:hover label.sk-toggleable__label-arrow:before {color: black;}#sk-container-id-1 div.sk-toggleable__content {max-height: 0;max-width: 0;overflow: hidden;text-align: left;background-color: #f0f8ff;}#sk-container-id-1 div.sk-toggleable__content pre {margin: 0.2em;color: black;border-radius: 0.25em;background-color: #f0f8ff;}#sk-container-id-1 input.sk-toggleable__control:checked~div.sk-toggleable__content {max-height: 200px;max-width: 100%;overflow: auto;}#sk-container-id-1 input.sk-toggleable__control:checked~label.sk-toggleable__label-arrow:before {content: \"▾\";}#sk-container-id-1 div.sk-estimator input.sk-toggleable__control:checked~label.sk-toggleable__label {background-color: #d4ebff;}#sk-container-id-1 div.sk-label input.sk-toggleable__control:checked~label.sk-toggleable__label {background-color: #d4ebff;}#sk-container-id-1 input.sk-hidden--visually {border: 0;clip: rect(1px 1px 1px 1px);clip: rect(1px, 1px, 1px, 1px);height: 1px;margin: -1px;overflow: hidden;padding: 0;position: absolute;width: 1px;}#sk-container-id-1 div.sk-estimator {font-family: monospace;background-color: #f0f8ff;border: 1px dotted black;border-radius: 0.25em;box-sizing: border-box;margin-bottom: 0.5em;}#sk-container-id-1 div.sk-estimator:hover {background-color: #d4ebff;}#sk-container-id-1 div.sk-parallel-item::after {content: \"\";width: 100%;border-bottom: 1px solid gray;flex-grow: 1;}#sk-container-id-1 div.sk-label:hover label.sk-toggleable__label {background-color: #d4ebff;}#sk-container-id-1 div.sk-serial::before {content: \"\";position: absolute;border-left: 1px solid gray;box-sizing: border-box;top: 0;bottom: 0;left: 50%;z-index: 0;}#sk-container-id-1 div.sk-serial {display: flex;flex-direction: column;align-items: center;background-color: white;padding-right: 0.2em;padding-left: 0.2em;position: relative;}#sk-container-id-1 div.sk-item {position: relative;z-index: 1;}#sk-container-id-1 div.sk-parallel {display: flex;align-items: stretch;justify-content: center;background-color: white;position: relative;}#sk-container-id-1 div.sk-item::before, #sk-container-id-1 div.sk-parallel-item::before {content: \"\";position: absolute;border-left: 1px solid gray;box-sizing: border-box;top: 0;bottom: 0;left: 50%;z-index: -1;}#sk-container-id-1 div.sk-parallel-item {display: flex;flex-direction: column;z-index: 1;position: relative;background-color: white;}#sk-container-id-1 div.sk-parallel-item:first-child::after {align-self: flex-end;width: 50%;}#sk-container-id-1 div.sk-parallel-item:last-child::after {align-self: flex-start;width: 50%;}#sk-container-id-1 div.sk-parallel-item:only-child::after {width: 0;}#sk-container-id-1 div.sk-dashed-wrapped {border: 1px dashed gray;margin: 0 0.4em 0.5em 0.4em;box-sizing: border-box;padding-bottom: 0.4em;background-color: white;}#sk-container-id-1 div.sk-label label {font-family: monospace;font-weight: bold;display: inline-block;line-height: 1.2em;}#sk-container-id-1 div.sk-label-container {text-align: center;}#sk-container-id-1 div.sk-container {/* jupyter's `normalize.less` sets `[hidden] { display: none; }` but bootstrap.min.css set `[hidden] { display: none !important; }` so we also need the `!important` here to be able to override the default hidden behavior on the sphinx rendered scikit-learn.org. See: https://github.com/scikit-learn/scikit-learn/issues/21755 */display: inline-block !important;position: relative;}#sk-container-id-1 div.sk-text-repr-fallback {display: none;}</style><div id=\"sk-container-id-1\" class=\"sk-top-container\"><div class=\"sk-text-repr-fallback\"><pre>Pipeline(steps=[(&#x27;scale&#x27;, StandardScaler()), (&#x27;model&#x27;, LogisticRegression())])</pre><b>In a Jupyter environment, please rerun this cell to show the HTML representation or trust the notebook. <br />On GitHub, the HTML representation is unable to render, please try loading this page with nbviewer.org.</b></div><div class=\"sk-container\" hidden><div class=\"sk-item sk-dashed-wrapped\"><div class=\"sk-label-container\"><div class=\"sk-label sk-toggleable\"><input class=\"sk-toggleable__control sk-hidden--visually\" id=\"sk-estimator-id-1\" type=\"checkbox\" ><label for=\"sk-estimator-id-1\" class=\"sk-toggleable__label sk-toggleable__label-arrow\">Pipeline</label><div class=\"sk-toggleable__content\"><pre>Pipeline(steps=[(&#x27;scale&#x27;, StandardScaler()), (&#x27;model&#x27;, LogisticRegression())])</pre></div></div></div><div class=\"sk-serial\"><div class=\"sk-item\"><div class=\"sk-estimator sk-toggleable\"><input class=\"sk-toggleable__control sk-hidden--visually\" id=\"sk-estimator-id-2\" type=\"checkbox\" ><label for=\"sk-estimator-id-2\" class=\"sk-toggleable__label sk-toggleable__label-arrow\">StandardScaler</label><div class=\"sk-toggleable__content\"><pre>StandardScaler()</pre></div></div></div><div class=\"sk-item\"><div class=\"sk-estimator sk-toggleable\"><input class=\"sk-toggleable__control sk-hidden--visually\" id=\"sk-estimator-id-3\" type=\"checkbox\" ><label for=\"sk-estimator-id-3\" class=\"sk-toggleable__label sk-toggleable__label-arrow\">LogisticRegression</label><div class=\"sk-toggleable__content\"><pre>LogisticRegression()</pre></div></div></div></div></div></div></div>"
      ],
      "text/plain": [
       "Pipeline(steps=[('scale', StandardScaler()), ('model', LogisticRegression())])"
      ]
     },
     "execution_count": 36,
     "metadata": {},
     "output_type": "execute_result"
    }
   ],
   "source": [
    "model.fit(X_train, y_train.values.ravel())"
   ]
  },
  {
   "cell_type": "code",
   "execution_count": 37,
   "id": "af59f8c0",
   "metadata": {
    "execution": {
     "iopub.execute_input": "2025-07-28T10:41:58.223115Z",
     "iopub.status.busy": "2025-07-28T10:41:58.222179Z",
     "iopub.status.idle": "2025-07-28T10:41:58.227920Z",
     "shell.execute_reply": "2025-07-28T10:41:58.226853Z"
    },
    "papermill": {
     "duration": 0.020597,
     "end_time": "2025-07-28T10:41:58.229511",
     "exception": false,
     "start_time": "2025-07-28T10:41:58.208914",
     "status": "completed"
    },
    "tags": []
   },
   "outputs": [],
   "source": [
    "from fairness_multiverse.universe import predict_w_threshold"
   ]
  },
  {
   "cell_type": "code",
   "execution_count": 38,
   "id": "a7cf2e16",
   "metadata": {
    "execution": {
     "iopub.execute_input": "2025-07-28T10:41:58.276070Z",
     "iopub.status.busy": "2025-07-28T10:41:58.275356Z",
     "iopub.status.idle": "2025-07-28T10:41:58.473662Z",
     "shell.execute_reply": "2025-07-28T10:41:58.472712Z"
    },
    "papermill": {
     "duration": 0.223496,
     "end_time": "2025-07-28T10:41:58.475373",
     "exception": false,
     "start_time": "2025-07-28T10:41:58.251877",
     "status": "completed"
    },
    "tags": []
   },
   "outputs": [
    {
     "data": {
      "text/plain": [
       "0.8182922751086835"
      ]
     },
     "execution_count": 38,
     "metadata": {},
     "output_type": "execute_result"
    }
   ],
   "source": [
    "probs_test = model.predict_proba(X_test)\n",
    "\n",
    "'''\n",
    "Below code returns a boolean array (or binary 0/1 array depending on how it’s used) where each element \n",
    "is True if the probability of class 1 is greater than or equal to the threshold, and False otherwise.\n",
    "'''\n",
    "y_pred_default = predict_w_threshold(probs_test, 0.5)\n",
    "\n",
    "from sklearn.metrics import accuracy_score\n",
    "\n",
    "# Naive prediction\n",
    "accuracy_score(y_true = y_true, y_pred = y_pred_default)"
   ]
  },
  {
   "cell_type": "code",
   "execution_count": 39,
   "id": "081964c3",
   "metadata": {
    "execution": {
     "iopub.execute_input": "2025-07-28T10:41:58.521247Z",
     "iopub.status.busy": "2025-07-28T10:41:58.520314Z",
     "iopub.status.idle": "2025-07-28T10:41:58.714500Z",
     "shell.execute_reply": "2025-07-28T10:41:58.713601Z"
    },
    "papermill": {
     "duration": 0.218776,
     "end_time": "2025-07-28T10:41:58.716121",
     "exception": false,
     "start_time": "2025-07-28T10:41:58.497345",
     "status": "completed"
    },
    "tags": []
   },
   "outputs": [
    {
     "data": {
      "text/plain": [
       "array([0, 0, 0, ..., 0, 0, 0])"
      ]
     },
     "execution_count": 39,
     "metadata": {},
     "output_type": "execute_result"
    }
   ],
   "source": [
    "model.predict(X_test)"
   ]
  },
  {
   "cell_type": "markdown",
   "id": "56c9705b",
   "metadata": {
    "papermill": {
     "duration": 0.02185,
     "end_time": "2025-07-28T10:41:58.759920",
     "exception": false,
     "start_time": "2025-07-28T10:41:58.738070",
     "status": "completed"
    },
    "tags": []
   },
   "source": [
    "# Conformal Prediction"
   ]
  },
  {
   "cell_type": "code",
   "execution_count": 40,
   "id": "160ec6ff",
   "metadata": {
    "execution": {
     "iopub.execute_input": "2025-07-28T10:41:58.804962Z",
     "iopub.status.busy": "2025-07-28T10:41:58.804209Z",
     "iopub.status.idle": "2025-07-28T10:41:58.809655Z",
     "shell.execute_reply": "2025-07-28T10:41:58.808744Z"
    },
    "papermill": {
     "duration": 0.029937,
     "end_time": "2025-07-28T10:41:58.811295",
     "exception": false,
     "start_time": "2025-07-28T10:41:58.781358",
     "status": "completed"
    },
    "tags": []
   },
   "outputs": [],
   "source": [
    "# Miscoverage level for conformal prediction (10% allowed error rate => 90% target coverage)\n",
    "alpha = 0.1"
   ]
  },
  {
   "cell_type": "code",
   "execution_count": 41,
   "id": "eadf4555-3dd3-440e-8e35-f82a4ad9f855",
   "metadata": {
    "execution": {
     "iopub.execute_input": "2025-07-28T10:41:58.858995Z",
     "iopub.status.busy": "2025-07-28T10:41:58.858501Z",
     "iopub.status.idle": "2025-07-28T10:41:59.032650Z",
     "shell.execute_reply": "2025-07-28T10:41:59.031498Z"
    },
    "papermill": {
     "duration": 0.203953,
     "end_time": "2025-07-28T10:41:59.037445",
     "exception": false,
     "start_time": "2025-07-28T10:41:58.833492",
     "status": "completed"
    },
    "tags": []
   },
   "outputs": [],
   "source": [
    "probs_calib = model.predict_proba(X_calib)"
   ]
  },
  {
   "cell_type": "code",
   "execution_count": 42,
   "id": "2ed93547-6d5d-4983-9b36-1ecb300da49a",
   "metadata": {
    "execution": {
     "iopub.execute_input": "2025-07-28T10:41:59.089916Z",
     "iopub.status.busy": "2025-07-28T10:41:59.088858Z",
     "iopub.status.idle": "2025-07-28T10:41:59.095138Z",
     "shell.execute_reply": "2025-07-28T10:41:59.094102Z"
    },
    "papermill": {
     "duration": 0.036752,
     "end_time": "2025-07-28T10:41:59.097116",
     "exception": false,
     "start_time": "2025-07-28T10:41:59.060364",
     "status": "completed"
    },
    "tags": []
   },
   "outputs": [],
   "source": [
    "y_calib = y_calib.values.ravel().astype(int)"
   ]
  },
  {
   "cell_type": "code",
   "execution_count": 43,
   "id": "65d1320d-f588-4b38-9072-62af1ae97f7d",
   "metadata": {
    "execution": {
     "iopub.execute_input": "2025-07-28T10:41:59.147233Z",
     "iopub.status.busy": "2025-07-28T10:41:59.146569Z",
     "iopub.status.idle": "2025-07-28T10:41:59.154222Z",
     "shell.execute_reply": "2025-07-28T10:41:59.153245Z"
    },
    "papermill": {
     "duration": 0.033853,
     "end_time": "2025-07-28T10:41:59.155927",
     "exception": false,
     "start_time": "2025-07-28T10:41:59.122074",
     "status": "completed"
    },
    "tags": []
   },
   "outputs": [],
   "source": [
    "from fairness_multiverse.conformal import compute_nc_scores\n",
    "\n",
    "# Compute nonconformity scores on calibration set (1 - probability of true class)\n",
    "nc_scores = compute_nc_scores(probs_calib, y_calib)"
   ]
  },
  {
   "cell_type": "code",
   "execution_count": 44,
   "id": "df3b8ca3-53b7-43d5-9667-7c85da7aeda2",
   "metadata": {
    "execution": {
     "iopub.execute_input": "2025-07-28T10:41:59.204533Z",
     "iopub.status.busy": "2025-07-28T10:41:59.203806Z",
     "iopub.status.idle": "2025-07-28T10:41:59.211293Z",
     "shell.execute_reply": "2025-07-28T10:41:59.210151Z"
    },
    "papermill": {
     "duration": 0.033752,
     "end_time": "2025-07-28T10:41:59.213213",
     "exception": false,
     "start_time": "2025-07-28T10:41:59.179461",
     "status": "completed"
    },
    "tags": []
   },
   "outputs": [],
   "source": [
    "from fairness_multiverse.conformal import find_threshold\n",
    "\n",
    "# Find conformal threshold q_hat for the given alpha (split conformal method)\n",
    "q_hat = find_threshold(nc_scores, alpha)"
   ]
  },
  {
   "cell_type": "code",
   "execution_count": 45,
   "id": "4d29e6c1-0ef6-4aa4-b8fe-4fe79b0d033a",
   "metadata": {
    "execution": {
     "iopub.execute_input": "2025-07-28T10:41:59.262220Z",
     "iopub.status.busy": "2025-07-28T10:41:59.261552Z",
     "iopub.status.idle": "2025-07-28T10:41:59.268985Z",
     "shell.execute_reply": "2025-07-28T10:41:59.267987Z"
    },
    "papermill": {
     "duration": 0.03366,
     "end_time": "2025-07-28T10:41:59.270466",
     "exception": false,
     "start_time": "2025-07-28T10:41:59.236806",
     "status": "completed"
    },
    "tags": []
   },
   "outputs": [
    {
     "data": {
      "text/plain": [
       "0.7710000686234922"
      ]
     },
     "execution_count": 45,
     "metadata": {},
     "output_type": "execute_result"
    }
   ],
   "source": [
    "q_hat"
   ]
  },
  {
   "cell_type": "code",
   "execution_count": 46,
   "id": "92460794-cdac-4be2-ba28-f28c0515a6fb",
   "metadata": {
    "execution": {
     "iopub.execute_input": "2025-07-28T10:41:59.318720Z",
     "iopub.status.busy": "2025-07-28T10:41:59.318017Z",
     "iopub.status.idle": "2025-07-28T10:42:00.351947Z",
     "shell.execute_reply": "2025-07-28T10:42:00.351025Z"
    },
    "papermill": {
     "duration": 1.05995,
     "end_time": "2025-07-28T10:42:00.353770",
     "exception": false,
     "start_time": "2025-07-28T10:41:59.293820",
     "status": "completed"
    },
    "tags": []
   },
   "outputs": [],
   "source": [
    "from fairness_multiverse.conformal import predict_conformal_sets\n",
    "\n",
    "# Generate prediction sets for each test example\n",
    "pred_sets = predict_conformal_sets(model, X_test, q_hat)"
   ]
  },
  {
   "cell_type": "code",
   "execution_count": 47,
   "id": "d90c9a65-e6db-4f5d-80cd-e68fb7e46829",
   "metadata": {
    "execution": {
     "iopub.execute_input": "2025-07-28T10:42:00.403360Z",
     "iopub.status.busy": "2025-07-28T10:42:00.402891Z",
     "iopub.status.idle": "2025-07-28T10:42:00.408490Z",
     "shell.execute_reply": "2025-07-28T10:42:00.407453Z"
    },
    "papermill": {
     "duration": 0.033364,
     "end_time": "2025-07-28T10:42:00.410090",
     "exception": false,
     "start_time": "2025-07-28T10:42:00.376726",
     "status": "completed"
    },
    "tags": []
   },
   "outputs": [],
   "source": [
    "y_true = y_true.squeeze()"
   ]
  },
  {
   "cell_type": "code",
   "execution_count": 48,
   "id": "3a58a54a-1e68-46b9-927a-df01f18aebc8",
   "metadata": {
    "execution": {
     "iopub.execute_input": "2025-07-28T10:42:00.457797Z",
     "iopub.status.busy": "2025-07-28T10:42:00.456890Z",
     "iopub.status.idle": "2025-07-28T10:42:01.391338Z",
     "shell.execute_reply": "2025-07-28T10:42:01.390440Z"
    },
    "papermill": {
     "duration": 0.960077,
     "end_time": "2025-07-28T10:42:01.393072",
     "exception": false,
     "start_time": "2025-07-28T10:42:00.432995",
     "status": "completed"
    },
    "tags": []
   },
   "outputs": [],
   "source": [
    "from fairness_multiverse.conformal import evaluate_sets\n",
    "\n",
    "# Evaluate coverage and average set size on test data\n",
    "metrics = evaluate_sets(pred_sets, y_true)"
   ]
  },
  {
   "cell_type": "markdown",
   "id": "2b569c12-9aaa-4c88-98c9-bbcd0cf3ebb8",
   "metadata": {
    "papermill": {
     "duration": 0.022596,
     "end_time": "2025-07-28T10:42:01.439274",
     "exception": false,
     "start_time": "2025-07-28T10:42:01.416678",
     "status": "completed"
    },
    "tags": []
   },
   "source": [
    "# CP Metrics"
   ]
  },
  {
   "cell_type": "code",
   "execution_count": 49,
   "id": "5ce0a5cb-201f-45a0-ade5-94c7f0bd6095",
   "metadata": {
    "execution": {
     "iopub.execute_input": "2025-07-28T10:42:01.486558Z",
     "iopub.status.busy": "2025-07-28T10:42:01.486053Z",
     "iopub.status.idle": "2025-07-28T10:42:01.493611Z",
     "shell.execute_reply": "2025-07-28T10:42:01.492234Z"
    },
    "papermill": {
     "duration": 0.032645,
     "end_time": "2025-07-28T10:42:01.495099",
     "exception": false,
     "start_time": "2025-07-28T10:42:01.462454",
     "status": "completed"
    },
    "tags": []
   },
   "outputs": [
    {
     "data": {
      "text/plain": [
       "{'coverage': 0.9060082488016944, 'avg_size': 1.2364173447776168}"
      ]
     },
     "execution_count": 49,
     "metadata": {},
     "output_type": "execute_result"
    }
   ],
   "source": [
    "metrics"
   ]
  },
  {
   "cell_type": "code",
   "execution_count": 50,
   "id": "9b9a838d-31c9-430b-ae14-12baee460d17",
   "metadata": {
    "execution": {
     "iopub.execute_input": "2025-07-28T10:42:01.556199Z",
     "iopub.status.busy": "2025-07-28T10:42:01.555456Z",
     "iopub.status.idle": "2025-07-28T10:42:01.562052Z",
     "shell.execute_reply": "2025-07-28T10:42:01.561134Z"
    },
    "papermill": {
     "duration": 0.032512,
     "end_time": "2025-07-28T10:42:01.563720",
     "exception": false,
     "start_time": "2025-07-28T10:42:01.531208",
     "status": "completed"
    },
    "tags": []
   },
   "outputs": [],
   "source": [
    "example_universe = universe.copy()\n",
    "universe_training_size = example_universe.get(\"training_size\")\n",
    "universe_scale = example_universe.get(\"scale\")\n",
    "universe_model = example_universe.get(\"model\")\n",
    "universe_exclude_features = example_universe.get(\"exclude_features\")\n",
    "universe_exclude_subgroups = example_universe.get(\"exclude_subgroups\")"
   ]
  },
  {
   "cell_type": "code",
   "execution_count": 51,
   "id": "f4b6a8ac-9dc0-4245-8a91-5b3b5999c4f9",
   "metadata": {
    "execution": {
     "iopub.execute_input": "2025-07-28T10:42:01.612465Z",
     "iopub.status.busy": "2025-07-28T10:42:01.611735Z",
     "iopub.status.idle": "2025-07-28T10:42:01.618542Z",
     "shell.execute_reply": "2025-07-28T10:42:01.617608Z"
    },
    "papermill": {
     "duration": 0.032874,
     "end_time": "2025-07-28T10:42:01.620135",
     "exception": false,
     "start_time": "2025-07-28T10:42:01.587261",
     "status": "completed"
    },
    "tags": []
   },
   "outputs": [],
   "source": [
    "cp_metrics_dict = {\n",
    "    \"universe_id\": [universe_id],\n",
    "    \"universe_training_size\": [universe_training_size],\n",
    "    \"universe_scale\": [universe_scale],\n",
    "    \"universe_model\": [universe_model],\n",
    "    \"universe_exclude_features\": [universe_exclude_features],\n",
    "    \"universe_exclude_subgroups\": [universe_exclude_subgroups],\n",
    "    \"q_hat\": [q_hat],\n",
    "    \"coverage\": [metrics[\"coverage\"]],\n",
    "    \"avg_size\": [metrics[\"avg_size\"]],\n",
    "}"
   ]
  },
  {
   "cell_type": "code",
   "execution_count": 52,
   "id": "908acbb1-0371-4915-85ca-3fa520d2efe2",
   "metadata": {
    "execution": {
     "iopub.execute_input": "2025-07-28T10:42:01.669417Z",
     "iopub.status.busy": "2025-07-28T10:42:01.668674Z",
     "iopub.status.idle": "2025-07-28T10:42:01.676504Z",
     "shell.execute_reply": "2025-07-28T10:42:01.675489Z"
    },
    "papermill": {
     "duration": 0.034292,
     "end_time": "2025-07-28T10:42:01.678164",
     "exception": false,
     "start_time": "2025-07-28T10:42:01.643872",
     "status": "completed"
    },
    "tags": []
   },
   "outputs": [
    {
     "data": {
      "text/plain": [
       "{'universe_id': ['4681a11c571e05564cfed338566f98ed'],\n",
       " 'universe_training_size': ['1k'],\n",
       " 'universe_scale': ['scale'],\n",
       " 'universe_model': ['logreg'],\n",
       " 'universe_exclude_features': ['nationality'],\n",
       " 'universe_exclude_subgroups': ['keep-all'],\n",
       " 'q_hat': [0.7710000686234922],\n",
       " 'coverage': [0.9060082488016944],\n",
       " 'avg_size': [1.2364173447776168]}"
      ]
     },
     "execution_count": 52,
     "metadata": {},
     "output_type": "execute_result"
    }
   ],
   "source": [
    "cp_metrics_dict"
   ]
  },
  {
   "cell_type": "code",
   "execution_count": 53,
   "id": "33007efc-14e9-4ec6-97ac-56a455c82265",
   "metadata": {
    "execution": {
     "iopub.execute_input": "2025-07-28T10:42:01.742017Z",
     "iopub.status.busy": "2025-07-28T10:42:01.741539Z",
     "iopub.status.idle": "2025-07-28T10:42:01.747881Z",
     "shell.execute_reply": "2025-07-28T10:42:01.746864Z"
    },
    "papermill": {
     "duration": 0.033181,
     "end_time": "2025-07-28T10:42:01.749494",
     "exception": false,
     "start_time": "2025-07-28T10:42:01.716313",
     "status": "completed"
    },
    "tags": []
   },
   "outputs": [],
   "source": [
    "cp_metrics_df = pd.DataFrame(cp_metrics_dict)"
   ]
  },
  {
   "cell_type": "code",
   "execution_count": 54,
   "id": "db12611b-57b2-4910-b9d0-355adfd6e7bf",
   "metadata": {
    "execution": {
     "iopub.execute_input": "2025-07-28T10:42:01.801776Z",
     "iopub.status.busy": "2025-07-28T10:42:01.801108Z",
     "iopub.status.idle": "2025-07-28T10:42:01.819619Z",
     "shell.execute_reply": "2025-07-28T10:42:01.818607Z"
    },
    "papermill": {
     "duration": 0.046676,
     "end_time": "2025-07-28T10:42:01.821456",
     "exception": false,
     "start_time": "2025-07-28T10:42:01.774780",
     "status": "completed"
    },
    "tags": []
   },
   "outputs": [
    {
     "data": {
      "text/html": [
       "<div>\n",
       "<style scoped>\n",
       "    .dataframe tbody tr th:only-of-type {\n",
       "        vertical-align: middle;\n",
       "    }\n",
       "\n",
       "    .dataframe tbody tr th {\n",
       "        vertical-align: top;\n",
       "    }\n",
       "\n",
       "    .dataframe thead th {\n",
       "        text-align: right;\n",
       "    }\n",
       "</style>\n",
       "<table border=\"1\" class=\"dataframe\">\n",
       "  <thead>\n",
       "    <tr style=\"text-align: right;\">\n",
       "      <th></th>\n",
       "      <th>universe_id</th>\n",
       "      <th>universe_training_size</th>\n",
       "      <th>universe_scale</th>\n",
       "      <th>universe_model</th>\n",
       "      <th>universe_exclude_features</th>\n",
       "      <th>universe_exclude_subgroups</th>\n",
       "      <th>q_hat</th>\n",
       "      <th>coverage</th>\n",
       "      <th>avg_size</th>\n",
       "    </tr>\n",
       "  </thead>\n",
       "  <tbody>\n",
       "    <tr>\n",
       "      <th>0</th>\n",
       "      <td>4681a11c571e05564cfed338566f98ed</td>\n",
       "      <td>1k</td>\n",
       "      <td>scale</td>\n",
       "      <td>logreg</td>\n",
       "      <td>nationality</td>\n",
       "      <td>keep-all</td>\n",
       "      <td>0.771</td>\n",
       "      <td>0.906008</td>\n",
       "      <td>1.236417</td>\n",
       "    </tr>\n",
       "  </tbody>\n",
       "</table>\n",
       "</div>"
      ],
      "text/plain": [
       "                        universe_id universe_training_size universe_scale  \\\n",
       "0  4681a11c571e05564cfed338566f98ed                     1k          scale   \n",
       "\n",
       "  universe_model universe_exclude_features universe_exclude_subgroups  q_hat  \\\n",
       "0         logreg               nationality                   keep-all  0.771   \n",
       "\n",
       "   coverage  avg_size  \n",
       "0  0.906008  1.236417  "
      ]
     },
     "execution_count": 54,
     "metadata": {},
     "output_type": "execute_result"
    }
   ],
   "source": [
    "cp_metrics_df"
   ]
  },
  {
   "cell_type": "code",
   "execution_count": 55,
   "id": "b7fbde55-a0a1-47e4-9af6-fe4a17fa8c61",
   "metadata": {
    "execution": {
     "iopub.execute_input": "2025-07-28T10:42:01.872815Z",
     "iopub.status.busy": "2025-07-28T10:42:01.872296Z",
     "iopub.status.idle": "2025-07-28T10:42:01.877735Z",
     "shell.execute_reply": "2025-07-28T10:42:01.876733Z"
    },
    "papermill": {
     "duration": 0.033524,
     "end_time": "2025-07-28T10:42:01.879625",
     "exception": false,
     "start_time": "2025-07-28T10:42:01.846101",
     "status": "completed"
    },
    "tags": []
   },
   "outputs": [],
   "source": [
    "# Conditional Coverage & looking at subgroups"
   ]
  },
  {
   "cell_type": "code",
   "execution_count": 56,
   "id": "027ae886-68dd-4141-96c7-805a5450e1ef",
   "metadata": {
    "execution": {
     "iopub.execute_input": "2025-07-28T10:42:01.932234Z",
     "iopub.status.busy": "2025-07-28T10:42:01.931677Z",
     "iopub.status.idle": "2025-07-28T10:42:02.207682Z",
     "shell.execute_reply": "2025-07-28T10:42:02.206660Z"
    },
    "papermill": {
     "duration": 0.305041,
     "end_time": "2025-07-28T10:42:02.209862",
     "exception": false,
     "start_time": "2025-07-28T10:42:01.904821",
     "status": "completed"
    },
    "tags": []
   },
   "outputs": [],
   "source": [
    "from fairness_multiverse.conformal import build_cp_groups\n",
    "\n",
    "cp_groups_df = build_cp_groups(pred_sets, y_true, X_test.index, org_test)\n",
    "#needs universe_id and setting"
   ]
  },
  {
   "cell_type": "code",
   "execution_count": 57,
   "id": "01d5802c-663a-4d1f-9d69-e036faaffbf7",
   "metadata": {
    "execution": {
     "iopub.execute_input": "2025-07-28T10:42:02.269369Z",
     "iopub.status.busy": "2025-07-28T10:42:02.268801Z",
     "iopub.status.idle": "2025-07-28T10:42:02.274057Z",
     "shell.execute_reply": "2025-07-28T10:42:02.273145Z"
    },
    "papermill": {
     "duration": 0.035988,
     "end_time": "2025-07-28T10:42:02.275988",
     "exception": false,
     "start_time": "2025-07-28T10:42:02.240000",
     "status": "completed"
    },
    "tags": []
   },
   "outputs": [],
   "source": [
    "#delete\n",
    "#cp_groups_df"
   ]
  },
  {
   "cell_type": "code",
   "execution_count": 58,
   "id": "fa424af1-d1eb-443d-b717-2d279ada8408",
   "metadata": {
    "execution": {
     "iopub.execute_input": "2025-07-28T10:42:02.318987Z",
     "iopub.status.busy": "2025-07-28T10:42:02.318547Z",
     "iopub.status.idle": "2025-07-28T10:42:02.323481Z",
     "shell.execute_reply": "2025-07-28T10:42:02.322478Z"
    },
    "papermill": {
     "duration": 0.024172,
     "end_time": "2025-07-28T10:42:02.325244",
     "exception": false,
     "start_time": "2025-07-28T10:42:02.301072",
     "status": "completed"
    },
    "tags": []
   },
   "outputs": [],
   "source": [
    "#delete\n",
    "#percentage = (cp_groups_df['nongerman_female'] == 1).mean() * 100\n",
    "#print(percentage)\n"
   ]
  },
  {
   "cell_type": "code",
   "execution_count": 59,
   "id": "6cbdab96-b2b2-45af-ad54-d0516db2e28d",
   "metadata": {
    "execution": {
     "iopub.execute_input": "2025-07-28T10:42:02.375450Z",
     "iopub.status.busy": "2025-07-28T10:42:02.374965Z",
     "iopub.status.idle": "2025-07-28T10:42:04.116932Z",
     "shell.execute_reply": "2025-07-28T10:42:04.116123Z"
    },
    "papermill": {
     "duration": 1.766454,
     "end_time": "2025-07-28T10:42:04.118702",
     "exception": false,
     "start_time": "2025-07-28T10:42:02.352248",
     "status": "completed"
    },
    "tags": []
   },
   "outputs": [],
   "source": [
    "# Define covered = 1 if true_label is in the predicted set\n",
    "cp_groups_df['covered'] = cp_groups_df.apply(\n",
    "    lambda r: int(r['true_label'] in r['pred_set']),\n",
    "    axis=1\n",
    ")"
   ]
  },
  {
   "cell_type": "code",
   "execution_count": 60,
   "id": "338ff529-1a6b-4b87-a931-8e4788d52aad",
   "metadata": {
    "execution": {
     "iopub.execute_input": "2025-07-28T10:42:04.166794Z",
     "iopub.status.busy": "2025-07-28T10:42:04.166247Z",
     "iopub.status.idle": "2025-07-28T10:42:04.172014Z",
     "shell.execute_reply": "2025-07-28T10:42:04.170974Z"
    },
    "papermill": {
     "duration": 0.022261,
     "end_time": "2025-07-28T10:42:04.173674",
     "exception": false,
     "start_time": "2025-07-28T10:42:04.151413",
     "status": "completed"
    },
    "tags": []
   },
   "outputs": [],
   "source": [
    "#cp_groups_df"
   ]
  },
  {
   "cell_type": "code",
   "execution_count": 61,
   "id": "90032e27-66df-4540-9169-4e89cfbaa758",
   "metadata": {
    "execution": {
     "iopub.execute_input": "2025-07-28T10:42:04.200985Z",
     "iopub.status.busy": "2025-07-28T10:42:04.200653Z",
     "iopub.status.idle": "2025-07-28T10:42:04.211154Z",
     "shell.execute_reply": "2025-07-28T10:42:04.210344Z"
    },
    "papermill": {
     "duration": 0.025642,
     "end_time": "2025-07-28T10:42:04.212566",
     "exception": false,
     "start_time": "2025-07-28T10:42:04.186924",
     "status": "completed"
    },
    "tags": []
   },
   "outputs": [],
   "source": [
    "subgroups = ['frau1','nongerman','nongerman_male','nongerman_female']\n",
    "\n",
    "# Conditional coverage for subgroup==1\n",
    "cond_coverage = {\n",
    "    g: cp_groups_df.loc[cp_groups_df[g]==1, 'covered'].mean()\n",
    "    for g in subgroups\n",
    "}"
   ]
  },
  {
   "cell_type": "code",
   "execution_count": 62,
   "id": "1e348fb1-b9c3-45bc-ba23-f016827a7e0d",
   "metadata": {
    "execution": {
     "iopub.execute_input": "2025-07-28T10:42:04.240086Z",
     "iopub.status.busy": "2025-07-28T10:42:04.239672Z",
     "iopub.status.idle": "2025-07-28T10:42:04.246449Z",
     "shell.execute_reply": "2025-07-28T10:42:04.245621Z"
    },
    "papermill": {
     "duration": 0.021705,
     "end_time": "2025-07-28T10:42:04.247718",
     "exception": false,
     "start_time": "2025-07-28T10:42:04.226013",
     "status": "completed"
    },
    "tags": []
   },
   "outputs": [
    {
     "data": {
      "text/plain": [
       "{'frau1': 0.9074268769375927,\n",
       " 'nongerman': 0.9144445068208612,\n",
       " 'nongerman_male': 0.9279474016031704,\n",
       " 'nongerman_female': 0.8921013412816692}"
      ]
     },
     "execution_count": 62,
     "metadata": {},
     "output_type": "execute_result"
    }
   ],
   "source": [
    "cond_coverage"
   ]
  },
  {
   "cell_type": "code",
   "execution_count": 63,
   "id": "f5093324-c3dd-4d63-bc4c-8d945e5c8bbb",
   "metadata": {
    "execution": {
     "iopub.execute_input": "2025-07-28T10:42:04.275621Z",
     "iopub.status.busy": "2025-07-28T10:42:04.275234Z",
     "iopub.status.idle": "2025-07-28T10:42:04.282150Z",
     "shell.execute_reply": "2025-07-28T10:42:04.281405Z"
    },
    "papermill": {
     "duration": 0.022224,
     "end_time": "2025-07-28T10:42:04.283412",
     "exception": false,
     "start_time": "2025-07-28T10:42:04.261188",
     "status": "completed"
    },
    "tags": []
   },
   "outputs": [],
   "source": [
    "for subgroup, cov in cond_coverage.items():\n",
    "    cp_metrics_df[f\"cov_{subgroup}\"] = cov"
   ]
  },
  {
   "cell_type": "code",
   "execution_count": 64,
   "id": "6e872e10-dbe5-49e8-b554-5030c98ff75d",
   "metadata": {
    "execution": {
     "iopub.execute_input": "2025-07-28T10:42:04.311566Z",
     "iopub.status.busy": "2025-07-28T10:42:04.311158Z",
     "iopub.status.idle": "2025-07-28T10:42:04.324860Z",
     "shell.execute_reply": "2025-07-28T10:42:04.324072Z"
    },
    "papermill": {
     "duration": 0.028805,
     "end_time": "2025-07-28T10:42:04.326093",
     "exception": false,
     "start_time": "2025-07-28T10:42:04.297288",
     "status": "completed"
    },
    "tags": []
   },
   "outputs": [
    {
     "data": {
      "text/html": [
       "<div>\n",
       "<style scoped>\n",
       "    .dataframe tbody tr th:only-of-type {\n",
       "        vertical-align: middle;\n",
       "    }\n",
       "\n",
       "    .dataframe tbody tr th {\n",
       "        vertical-align: top;\n",
       "    }\n",
       "\n",
       "    .dataframe thead th {\n",
       "        text-align: right;\n",
       "    }\n",
       "</style>\n",
       "<table border=\"1\" class=\"dataframe\">\n",
       "  <thead>\n",
       "    <tr style=\"text-align: right;\">\n",
       "      <th></th>\n",
       "      <th>universe_id</th>\n",
       "      <th>universe_training_size</th>\n",
       "      <th>universe_scale</th>\n",
       "      <th>universe_model</th>\n",
       "      <th>universe_exclude_features</th>\n",
       "      <th>universe_exclude_subgroups</th>\n",
       "      <th>q_hat</th>\n",
       "      <th>coverage</th>\n",
       "      <th>avg_size</th>\n",
       "      <th>cov_frau1</th>\n",
       "      <th>cov_nongerman</th>\n",
       "      <th>cov_nongerman_male</th>\n",
       "      <th>cov_nongerman_female</th>\n",
       "    </tr>\n",
       "  </thead>\n",
       "  <tbody>\n",
       "    <tr>\n",
       "      <th>0</th>\n",
       "      <td>4681a11c571e05564cfed338566f98ed</td>\n",
       "      <td>1k</td>\n",
       "      <td>scale</td>\n",
       "      <td>logreg</td>\n",
       "      <td>nationality</td>\n",
       "      <td>keep-all</td>\n",
       "      <td>0.771</td>\n",
       "      <td>0.906008</td>\n",
       "      <td>1.236417</td>\n",
       "      <td>0.907427</td>\n",
       "      <td>0.914445</td>\n",
       "      <td>0.927947</td>\n",
       "      <td>0.892101</td>\n",
       "    </tr>\n",
       "  </tbody>\n",
       "</table>\n",
       "</div>"
      ],
      "text/plain": [
       "                        universe_id universe_training_size universe_scale  \\\n",
       "0  4681a11c571e05564cfed338566f98ed                     1k          scale   \n",
       "\n",
       "  universe_model universe_exclude_features universe_exclude_subgroups  q_hat  \\\n",
       "0         logreg               nationality                   keep-all  0.771   \n",
       "\n",
       "   coverage  avg_size  cov_frau1  cov_nongerman  cov_nongerman_male  \\\n",
       "0  0.906008  1.236417   0.907427       0.914445            0.927947   \n",
       "\n",
       "   cov_nongerman_female  \n",
       "0              0.892101  "
      ]
     },
     "execution_count": 64,
     "metadata": {},
     "output_type": "execute_result"
    }
   ],
   "source": [
    "cp_metrics_df"
   ]
  },
  {
   "cell_type": "markdown",
   "id": "33774451",
   "metadata": {
    "papermill": {
     "duration": 0.013575,
     "end_time": "2025-07-28T10:42:04.353559",
     "exception": false,
     "start_time": "2025-07-28T10:42:04.339984",
     "status": "completed"
    },
    "tags": []
   },
   "source": [
    "# (Fairness) Metrics"
   ]
  },
  {
   "cell_type": "code",
   "execution_count": 65,
   "id": "debc5d62",
   "metadata": {
    "execution": {
     "iopub.execute_input": "2025-07-28T10:42:04.389294Z",
     "iopub.status.busy": "2025-07-28T10:42:04.388763Z",
     "iopub.status.idle": "2025-07-28T10:42:04.410482Z",
     "shell.execute_reply": "2025-07-28T10:42:04.409379Z"
    },
    "papermill": {
     "duration": 0.045582,
     "end_time": "2025-07-28T10:42:04.412437",
     "exception": false,
     "start_time": "2025-07-28T10:42:04.366855",
     "status": "completed"
    },
    "tags": []
   },
   "outputs": [],
   "source": [
    "# do I need to include maxdeutsch1.missing?\n",
    "\n",
    "import numpy as np\n",
    "\n",
    "colname_to_bin = \"maxdeutsch1\"\n",
    "majority_value = org_train[colname_to_bin].mode()[0]\n",
    "\n",
    "org_test[\"majmin\"] = np.where(org_test[colname_to_bin] == majority_value, \"majority\", \"minority\")"
   ]
  },
  {
   "cell_type": "code",
   "execution_count": 66,
   "id": "06a50de5",
   "metadata": {
    "execution": {
     "iopub.execute_input": "2025-07-28T10:42:04.466729Z",
     "iopub.status.busy": "2025-07-28T10:42:04.466116Z",
     "iopub.status.idle": "2025-07-28T10:42:07.644717Z",
     "shell.execute_reply": "2025-07-28T10:42:07.643776Z"
    },
    "papermill": {
     "duration": 3.209161,
     "end_time": "2025-07-28T10:42:07.646841",
     "exception": false,
     "start_time": "2025-07-28T10:42:04.437680",
     "status": "completed"
    },
    "tags": []
   },
   "outputs": [],
   "source": [
    "example_universe = universe.copy()\n",
    "example_universe[\"cutoff\"] = example_universe[\"cutoff\"][0]\n",
    "example_universe[\"eval_fairness_grouping\"] = example_universe[\"eval_fairness_grouping\"][0]\n",
    "fairness_dict, metric_frame = universe_analysis.compute_metrics(\n",
    "    example_universe,\n",
    "    y_pred_prob=probs_test,\n",
    "    y_test=y_true,\n",
    "    org_test=org_test,\n",
    ")"
   ]
  },
  {
   "cell_type": "markdown",
   "id": "f95d4e02",
   "metadata": {
    "papermill": {
     "duration": 0.024789,
     "end_time": "2025-07-28T10:42:07.697476",
     "exception": false,
     "start_time": "2025-07-28T10:42:07.672687",
     "status": "completed"
    },
    "tags": []
   },
   "source": [
    "# Overall"
   ]
  },
  {
   "cell_type": "markdown",
   "id": "bdee4871",
   "metadata": {
    "papermill": {
     "duration": 0.024846,
     "end_time": "2025-07-28T10:42:07.747592",
     "exception": false,
     "start_time": "2025-07-28T10:42:07.722746",
     "status": "completed"
    },
    "tags": []
   },
   "source": [
    "Fairness\n",
    "Main fairness target: Equalized Odds. Seems to be a better fit than equal opportunity, since we're not only interested in Y = 1. Seems to be a better fit than demographic parity, since we also care about accuracy, not just equal distribution of preds.\n",
    "\n",
    "Pick column for computation of fairness metrics\n",
    "\n",
    "Performance\n",
    "Overall performance measures, most interesting in relation to the measures split by group below"
   ]
  },
  {
   "cell_type": "code",
   "execution_count": 67,
   "id": "c4e067c6",
   "metadata": {
    "execution": {
     "iopub.execute_input": "2025-07-28T10:42:07.799472Z",
     "iopub.status.busy": "2025-07-28T10:42:07.798819Z",
     "iopub.status.idle": "2025-07-28T10:42:07.807521Z",
     "shell.execute_reply": "2025-07-28T10:42:07.806674Z"
    },
    "papermill": {
     "duration": 0.036426,
     "end_time": "2025-07-28T10:42:07.809183",
     "exception": false,
     "start_time": "2025-07-28T10:42:07.772757",
     "status": "completed"
    },
    "tags": []
   },
   "outputs": [
    {
     "data": {
      "text/plain": [
       "accuracy                   0.218248\n",
       "balanced accuracy          0.534929\n",
       "f1                         0.239748\n",
       "precision                  0.136960\n",
       "false positive rate        0.891039\n",
       "false negative rate        0.039103\n",
       "selection rate             0.900000\n",
       "count                  89710.000000\n",
       "dtype: float64"
      ]
     },
     "execution_count": 67,
     "metadata": {},
     "output_type": "execute_result"
    }
   ],
   "source": [
    "metric_frame.overall"
   ]
  },
  {
   "cell_type": "markdown",
   "id": "e968fe9d",
   "metadata": {
    "papermill": {
     "duration": 0.025128,
     "end_time": "2025-07-28T10:42:07.860136",
     "exception": false,
     "start_time": "2025-07-28T10:42:07.835008",
     "status": "completed"
    },
    "tags": []
   },
   "source": [
    "By Group"
   ]
  },
  {
   "cell_type": "code",
   "execution_count": 68,
   "id": "ec325bce",
   "metadata": {
    "execution": {
     "iopub.execute_input": "2025-07-28T10:42:07.912901Z",
     "iopub.status.busy": "2025-07-28T10:42:07.912164Z",
     "iopub.status.idle": "2025-07-28T10:42:07.928042Z",
     "shell.execute_reply": "2025-07-28T10:42:07.927019Z"
    },
    "papermill": {
     "duration": 0.043794,
     "end_time": "2025-07-28T10:42:07.929560",
     "exception": false,
     "start_time": "2025-07-28T10:42:07.885766",
     "status": "completed"
    },
    "tags": []
   },
   "outputs": [
    {
     "data": {
      "text/html": [
       "<div>\n",
       "<style scoped>\n",
       "    .dataframe tbody tr th:only-of-type {\n",
       "        vertical-align: middle;\n",
       "    }\n",
       "\n",
       "    .dataframe tbody tr th {\n",
       "        vertical-align: top;\n",
       "    }\n",
       "\n",
       "    .dataframe thead th {\n",
       "        text-align: right;\n",
       "    }\n",
       "</style>\n",
       "<table border=\"1\" class=\"dataframe\">\n",
       "  <thead>\n",
       "    <tr style=\"text-align: right;\">\n",
       "      <th></th>\n",
       "      <th>accuracy</th>\n",
       "      <th>balanced accuracy</th>\n",
       "      <th>f1</th>\n",
       "      <th>precision</th>\n",
       "      <th>false positive rate</th>\n",
       "      <th>false negative rate</th>\n",
       "      <th>selection rate</th>\n",
       "      <th>count</th>\n",
       "    </tr>\n",
       "    <tr>\n",
       "      <th>majmin</th>\n",
       "      <th></th>\n",
       "      <th></th>\n",
       "      <th></th>\n",
       "      <th></th>\n",
       "      <th></th>\n",
       "      <th></th>\n",
       "      <th></th>\n",
       "      <th></th>\n",
       "    </tr>\n",
       "  </thead>\n",
       "  <tbody>\n",
       "    <tr>\n",
       "      <th>majority</th>\n",
       "      <td>0.230649</td>\n",
       "      <td>0.538993</td>\n",
       "      <td>0.247618</td>\n",
       "      <td>0.142182</td>\n",
       "      <td>0.880110</td>\n",
       "      <td>0.041904</td>\n",
       "      <td>0.890415</td>\n",
       "      <td>69170.0</td>\n",
       "    </tr>\n",
       "    <tr>\n",
       "      <th>minority</th>\n",
       "      <td>0.176485</td>\n",
       "      <td>0.522283</td>\n",
       "      <td>0.213877</td>\n",
       "      <td>0.120163</td>\n",
       "      <td>0.927141</td>\n",
       "      <td>0.028294</td>\n",
       "      <td>0.932278</td>\n",
       "      <td>20540.0</td>\n",
       "    </tr>\n",
       "  </tbody>\n",
       "</table>\n",
       "</div>"
      ],
      "text/plain": [
       "          accuracy  balanced accuracy        f1  precision  \\\n",
       "majmin                                                       \n",
       "majority  0.230649           0.538993  0.247618   0.142182   \n",
       "minority  0.176485           0.522283  0.213877   0.120163   \n",
       "\n",
       "          false positive rate  false negative rate  selection rate    count  \n",
       "majmin                                                                       \n",
       "majority             0.880110             0.041904        0.890415  69170.0  \n",
       "minority             0.927141             0.028294        0.932278  20540.0  "
      ]
     },
     "execution_count": 68,
     "metadata": {},
     "output_type": "execute_result"
    }
   ],
   "source": [
    "metric_frame.by_group"
   ]
  },
  {
   "cell_type": "code",
   "execution_count": 69,
   "id": "a9ddbe63",
   "metadata": {
    "execution": {
     "iopub.execute_input": "2025-07-28T10:42:07.983682Z",
     "iopub.status.busy": "2025-07-28T10:42:07.982772Z",
     "iopub.status.idle": "2025-07-28T10:42:10.407521Z",
     "shell.execute_reply": "2025-07-28T10:42:10.406561Z"
    },
    "papermill": {
     "duration": 2.453661,
     "end_time": "2025-07-28T10:42:10.409341",
     "exception": false,
     "start_time": "2025-07-28T10:42:07.955680",
     "status": "completed"
    },
    "tags": []
   },
   "outputs": [
    {
     "data": {
      "text/plain": [
       "array([[<Axes: title={'center': 'accuracy'}, xlabel='majmin'>,\n",
       "        <Axes: title={'center': 'balanced accuracy'}, xlabel='majmin'>,\n",
       "        <Axes: title={'center': 'f1'}, xlabel='majmin'>],\n",
       "       [<Axes: title={'center': 'precision'}, xlabel='majmin'>,\n",
       "        <Axes: title={'center': 'false positive rate'}, xlabel='majmin'>,\n",
       "        <Axes: title={'center': 'false negative rate'}, xlabel='majmin'>],\n",
       "       [<Axes: title={'center': 'selection rate'}, xlabel='majmin'>,\n",
       "        <Axes: title={'center': 'count'}, xlabel='majmin'>,\n",
       "        <Axes: xlabel='majmin'>]], dtype=object)"
      ]
     },
     "execution_count": 69,
     "metadata": {},
     "output_type": "execute_result"
    },
    {
     "data": {
      "image/png": "[encoded data removed]",
      "text/plain": [
       "<Figure size 1200x800 with 9 Axes>"
      ]
     },
     "metadata": {},
     "output_type": "display_data"
    }
   ],
   "source": [
    "# In a graphic\n",
    "metric_frame.by_group.plot.bar(\n",
    "    subplots=True,\n",
    "    layout=[3, 3],\n",
    "    legend=False,\n",
    "    figsize=[12, 8],\n",
    "    title=\"Show all metrics\",\n",
    ")"
   ]
  },
  {
   "cell_type": "markdown",
   "id": "f57a0bac",
   "metadata": {
    "papermill": {
     "duration": 0.030807,
     "end_time": "2025-07-28T10:42:10.473132",
     "exception": false,
     "start_time": "2025-07-28T10:42:10.442325",
     "status": "completed"
    },
    "tags": []
   },
   "source": [
    "# Final Output"
   ]
  },
  {
   "cell_type": "code",
   "execution_count": 70,
   "id": "96d280a3",
   "metadata": {
    "execution": {
     "iopub.execute_input": "2025-07-28T10:42:10.536223Z",
     "iopub.status.busy": "2025-07-28T10:42:10.535510Z",
     "iopub.status.idle": "2025-07-28T10:42:10.544528Z",
     "shell.execute_reply": "2025-07-28T10:42:10.543409Z"
    },
    "papermill": {
     "duration": 0.043152,
     "end_time": "2025-07-28T10:42:10.546108",
     "exception": false,
     "start_time": "2025-07-28T10:42:10.502956",
     "status": "completed"
    },
    "tags": []
   },
   "outputs": [
    {
     "data": {
      "text/plain": [
       "4"
      ]
     },
     "execution_count": 70,
     "metadata": {},
     "output_type": "execute_result"
    }
   ],
   "source": [
    "sub_universes = universe_analysis.generate_sub_universes()\n",
    "len(sub_universes)"
   ]
  },
  {
   "cell_type": "code",
   "execution_count": 71,
   "id": "92adf7ba",
   "metadata": {
    "execution": {
     "iopub.execute_input": "2025-07-28T10:42:10.609903Z",
     "iopub.status.busy": "2025-07-28T10:42:10.609170Z",
     "iopub.status.idle": "2025-07-28T10:42:10.615879Z",
     "shell.execute_reply": "2025-07-28T10:42:10.614891Z"
    },
    "papermill": {
     "duration": 0.041174,
     "end_time": "2025-07-28T10:42:10.617713",
     "exception": false,
     "start_time": "2025-07-28T10:42:10.576539",
     "status": "completed"
    },
    "tags": []
   },
   "outputs": [],
   "source": [
    "def filter_sub_universe_data(sub_universe, org_test):\n",
    "    # Keep all rows — no filtering\n",
    "    keep_rows_mask = np.ones(org_test.shape[0], dtype=bool)\n",
    "\n",
    "    print(f\"[INFO] Keeping all rows: {keep_rows_mask.sum()} rows retained.\")\n",
    "    return keep_rows_mask"
   ]
  },
  {
   "cell_type": "code",
   "execution_count": 72,
   "id": "4a759155",
   "metadata": {
    "execution": {
     "iopub.execute_input": "2025-07-28T10:42:10.680857Z",
     "iopub.status.busy": "2025-07-28T10:42:10.680140Z",
     "iopub.status.idle": "2025-07-28T10:42:21.579893Z",
     "shell.execute_reply": "2025-07-28T10:42:21.579000Z"
    },
    "papermill": {
     "duration": 10.933463,
     "end_time": "2025-07-28T10:42:21.581274",
     "exception": false,
     "start_time": "2025-07-28T10:42:10.647811",
     "status": "completed"
    },
    "tags": []
   },
   "outputs": [
    {
     "name": "stdout",
     "output_type": "stream",
     "text": [
      "Stopping execution_time clock.\n",
      "[INFO] Keeping all rows: 89710 rows retained.\n"
     ]
    },
    {
     "name": "stdout",
     "output_type": "stream",
     "text": [
      "[INFO] Keeping all rows: 89710 rows retained.\n"
     ]
    },
    {
     "name": "stdout",
     "output_type": "stream",
     "text": [
      "[INFO] Keeping all rows: 89710 rows retained.\n"
     ]
    },
    {
     "name": "stdout",
     "output_type": "stream",
     "text": [
      "[INFO] Keeping all rows: 89710 rows retained.\n"
     ]
    },
    {
     "data": {
      "text/html": [
       "<div>\n",
       "<style scoped>\n",
       "    .dataframe tbody tr th:only-of-type {\n",
       "        vertical-align: middle;\n",
       "    }\n",
       "\n",
       "    .dataframe tbody tr th {\n",
       "        vertical-align: top;\n",
       "    }\n",
       "\n",
       "    .dataframe thead th {\n",
       "        text-align: right;\n",
       "    }\n",
       "</style>\n",
       "<table border=\"1\" class=\"dataframe\">\n",
       "  <thead>\n",
       "    <tr style=\"text-align: right;\">\n",
       "      <th></th>\n",
       "      <th>run_no</th>\n",
       "      <th>universe_id</th>\n",
       "      <th>universe_settings</th>\n",
       "      <th>execution_time</th>\n",
       "      <th>test_size_n</th>\n",
       "      <th>test_size_frac</th>\n",
       "      <th>fair_main_equalized_odds_difference</th>\n",
       "      <th>fair_main_equalized_odds_ratio</th>\n",
       "      <th>fair_main_demographic_parity_difference</th>\n",
       "      <th>fair_main_demographic_parity_ratio</th>\n",
       "      <th>...</th>\n",
       "      <th>perf_grp_precision_0</th>\n",
       "      <th>perf_grp_precision_1</th>\n",
       "      <th>perf_grp_false positive rate_0</th>\n",
       "      <th>perf_grp_false positive rate_1</th>\n",
       "      <th>perf_grp_false negative rate_0</th>\n",
       "      <th>perf_grp_false negative rate_1</th>\n",
       "      <th>perf_grp_selection rate_0</th>\n",
       "      <th>perf_grp_selection rate_1</th>\n",
       "      <th>perf_grp_count_0</th>\n",
       "      <th>perf_grp_count_1</th>\n",
       "    </tr>\n",
       "  </thead>\n",
       "  <tbody>\n",
       "    <tr>\n",
       "      <th>0</th>\n",
       "      <td>11</td>\n",
       "      <td>4681a11c571e05564cfed338566f98ed</td>\n",
       "      <td>{\"cutoff\": \"quantile_0.1\", \"eval_fairness_grou...</td>\n",
       "      <td>24.545125</td>\n",
       "      <td>89710</td>\n",
       "      <td>1.0</td>\n",
       "      <td>0.047031</td>\n",
       "      <td>0.949273</td>\n",
       "      <td>0.041864</td>\n",
       "      <td>0.955095</td>\n",
       "      <td>...</td>\n",
       "      <td>NaN</td>\n",
       "      <td>NaN</td>\n",
       "      <td>NaN</td>\n",
       "      <td>NaN</td>\n",
       "      <td>NaN</td>\n",
       "      <td>NaN</td>\n",
       "      <td>NaN</td>\n",
       "      <td>NaN</td>\n",
       "      <td>NaN</td>\n",
       "      <td>NaN</td>\n",
       "    </tr>\n",
       "    <tr>\n",
       "      <th>0</th>\n",
       "      <td>11</td>\n",
       "      <td>4681a11c571e05564cfed338566f98ed</td>\n",
       "      <td>{\"cutoff\": \"quantile_0.1\", \"eval_fairness_grou...</td>\n",
       "      <td>24.545125</td>\n",
       "      <td>89710</td>\n",
       "      <td>1.0</td>\n",
       "      <td>0.047031</td>\n",
       "      <td>0.949273</td>\n",
       "      <td>0.041864</td>\n",
       "      <td>0.955095</td>\n",
       "      <td>...</td>\n",
       "      <td>0.120163</td>\n",
       "      <td>0.142182</td>\n",
       "      <td>0.927141</td>\n",
       "      <td>0.88011</td>\n",
       "      <td>0.028294</td>\n",
       "      <td>0.041904</td>\n",
       "      <td>0.932278</td>\n",
       "      <td>0.890415</td>\n",
       "      <td>20540.0</td>\n",
       "      <td>69170.0</td>\n",
       "    </tr>\n",
       "    <tr>\n",
       "      <th>0</th>\n",
       "      <td>11</td>\n",
       "      <td>4681a11c571e05564cfed338566f98ed</td>\n",
       "      <td>{\"cutoff\": \"quantile_0.25\", \"eval_fairness_gro...</td>\n",
       "      <td>24.545125</td>\n",
       "      <td>89710</td>\n",
       "      <td>1.0</td>\n",
       "      <td>0.101154</td>\n",
       "      <td>0.887730</td>\n",
       "      <td>0.052969</td>\n",
       "      <td>0.930497</td>\n",
       "      <td>...</td>\n",
       "      <td>NaN</td>\n",
       "      <td>NaN</td>\n",
       "      <td>NaN</td>\n",
       "      <td>NaN</td>\n",
       "      <td>NaN</td>\n",
       "      <td>NaN</td>\n",
       "      <td>NaN</td>\n",
       "      <td>NaN</td>\n",
       "      <td>NaN</td>\n",
       "      <td>NaN</td>\n",
       "    </tr>\n",
       "    <tr>\n",
       "      <th>0</th>\n",
       "      <td>11</td>\n",
       "      <td>4681a11c571e05564cfed338566f98ed</td>\n",
       "      <td>{\"cutoff\": \"quantile_0.25\", \"eval_fairness_gro...</td>\n",
       "      <td>24.545125</td>\n",
       "      <td>89710</td>\n",
       "      <td>1.0</td>\n",
       "      <td>0.101154</td>\n",
       "      <td>0.887730</td>\n",
       "      <td>0.052969</td>\n",
       "      <td>0.930497</td>\n",
       "      <td>...</td>\n",
       "      <td>0.130029</td>\n",
       "      <td>0.156214</td>\n",
       "      <td>0.697337</td>\n",
       "      <td>0.74098</td>\n",
       "      <td>0.200169</td>\n",
       "      <td>0.099015</td>\n",
       "      <td>0.709153</td>\n",
       "      <td>0.762122</td>\n",
       "      <td>20540.0</td>\n",
       "      <td>69170.0</td>\n",
       "    </tr>\n",
       "  </tbody>\n",
       "</table>\n",
       "<p>4 rows × 50 columns</p>\n",
       "</div>"
      ],
      "text/plain": [
       "  run_no                       universe_id  \\\n",
       "0     11  4681a11c571e05564cfed338566f98ed   \n",
       "0     11  4681a11c571e05564cfed338566f98ed   \n",
       "0     11  4681a11c571e05564cfed338566f98ed   \n",
       "0     11  4681a11c571e05564cfed338566f98ed   \n",
       "\n",
       "                                   universe_settings  execution_time  \\\n",
       "0  {\"cutoff\": \"quantile_0.1\", \"eval_fairness_grou...       24.545125   \n",
       "0  {\"cutoff\": \"quantile_0.1\", \"eval_fairness_grou...       24.545125   \n",
       "0  {\"cutoff\": \"quantile_0.25\", \"eval_fairness_gro...       24.545125   \n",
       "0  {\"cutoff\": \"quantile_0.25\", \"eval_fairness_gro...       24.545125   \n",
       "\n",
       "   test_size_n  test_size_frac  fair_main_equalized_odds_difference  \\\n",
       "0        89710             1.0                             0.047031   \n",
       "0        89710             1.0                             0.047031   \n",
       "0        89710             1.0                             0.101154   \n",
       "0        89710             1.0                             0.101154   \n",
       "\n",
       "   fair_main_equalized_odds_ratio  fair_main_demographic_parity_difference  \\\n",
       "0                        0.949273                                 0.041864   \n",
       "0                        0.949273                                 0.041864   \n",
       "0                        0.887730                                 0.052969   \n",
       "0                        0.887730                                 0.052969   \n",
       "\n",
       "   fair_main_demographic_parity_ratio  ...  perf_grp_precision_0  \\\n",
       "0                            0.955095  ...                   NaN   \n",
       "0                            0.955095  ...              0.120163   \n",
       "0                            0.930497  ...                   NaN   \n",
       "0                            0.930497  ...              0.130029   \n",
       "\n",
       "   perf_grp_precision_1  perf_grp_false positive rate_0  \\\n",
       "0                   NaN                             NaN   \n",
       "0              0.142182                        0.927141   \n",
       "0                   NaN                             NaN   \n",
       "0              0.156214                        0.697337   \n",
       "\n",
       "   perf_grp_false positive rate_1  perf_grp_false negative rate_0  \\\n",
       "0                             NaN                             NaN   \n",
       "0                         0.88011                        0.028294   \n",
       "0                             NaN                             NaN   \n",
       "0                         0.74098                        0.200169   \n",
       "\n",
       "   perf_grp_false negative rate_1  perf_grp_selection rate_0  \\\n",
       "0                             NaN                        NaN   \n",
       "0                        0.041904                   0.932278   \n",
       "0                             NaN                        NaN   \n",
       "0                        0.099015                   0.709153   \n",
       "\n",
       "   perf_grp_selection rate_1  perf_grp_count_0  perf_grp_count_1  \n",
       "0                        NaN               NaN               NaN  \n",
       "0                   0.890415           20540.0           69170.0  \n",
       "0                        NaN               NaN               NaN  \n",
       "0                   0.762122           20540.0           69170.0  \n",
       "\n",
       "[4 rows x 50 columns]"
      ]
     },
     "execution_count": 72,
     "metadata": {},
     "output_type": "execute_result"
    }
   ],
   "source": [
    "final_output = universe_analysis.generate_final_output(\n",
    "    y_pred_prob=probs_test,\n",
    "    y_test=y_true,\n",
    "    org_test=org_test,\n",
    "    filter_data=filter_sub_universe_data,\n",
    "    cp_metrics_df=cp_metrics_df,\n",
    "    save=True,\n",
    ")\n",
    "final_output"
   ]
  },
  {
   "cell_type": "code",
   "execution_count": null,
   "id": "721ff514-cb11-46f8-b6fc-50392f74b5cb",
   "metadata": {
    "papermill": {
     "duration": 0.030492,
     "end_time": "2025-07-28T10:42:21.630307",
     "exception": false,
     "start_time": "2025-07-28T10:42:21.599815",
     "status": "completed"
    },
    "tags": []
   },
   "outputs": [],
   "source": []
  }
 ],
 "metadata": {
  "celltoolbar": "Tags",
  "kernelspec": {
   "display_name": "Python (CMA Fairness)",
   "language": "python",
   "name": "cma_fair_env"
  },
  "language_info": {
   "codemirror_mode": {
    "name": "ipython",
    "version": 3
   },
   "file_extension": ".py",
   "mimetype": "text/x-python",
   "name": "python",
   "nbconvert_exporter": "python",
   "pygments_lexer": "ipython3",
   "version": "3.10.12"
  },
  "papermill": {
   "default_parameters": {},
   "duration": 39.5958,
   "end_time": "2025-07-28T10:42:22.384065",
   "environment_variables": {},
   "exception": null,
   "input_path": "universe_analysis.ipynb",
   "output_path": "output/runs/11/notebooks/m_11-4681a11c571e05564cfed338566f98ed.ipynb",
   "parameters": {
    "output_dir": "output",
    "run_no": "11",
    "seed": "2023",
    "universe": "{\"cutoff\": [\"quantile_0.1\", \"quantile_0.25\"], \"eval_fairness_grouping\": [\"majority-minority\", \"nationality-all\"], \"exclude_features\": \"nationality\", \"exclude_subgroups\": \"keep-all\", \"model\": \"logreg\", \"scale\": \"scale\", \"training_size\": \"1k\"}",
    "universe_id": "4681a11c571e05564cfed338566f98ed"
   },
   "start_time": "2025-07-28T10:41:42.788265",
   "version": "2.6.0"
  }
 },
 "nbformat": 4,
 "nbformat_minor": 5
}