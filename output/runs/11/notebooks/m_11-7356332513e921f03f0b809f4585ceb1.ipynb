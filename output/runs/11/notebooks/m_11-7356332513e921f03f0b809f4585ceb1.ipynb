{
 "cells": [
  {
   "cell_type": "code",
   "execution_count": 1,
   "id": "f159f837-637b-42ba-96b5-ec9a68c44524",
   "metadata": {
    "execution": {
     "iopub.execute_input": "2025-07-28T10:47:00.275913Z",
     "iopub.status.busy": "2025-07-28T10:47:00.275011Z",
     "iopub.status.idle": "2025-07-28T10:47:00.291244Z",
     "shell.execute_reply": "2025-07-28T10:47:00.290335Z"
    },
    "papermill": {
     "duration": 0.039298,
     "end_time": "2025-07-28T10:47:00.293003",
     "exception": false,
     "start_time": "2025-07-28T10:47:00.253705",
     "status": "completed"
    },
    "tags": []
   },
   "outputs": [
    {
     "name": "stdout",
     "output_type": "stream",
     "text": [
      "/dss/dsshome1/0C/ra93lal2/cma/CMA_Fairness_v2\n"
     ]
    },
    {
     "name": "stderr",
     "output_type": "stream",
     "text": [
      "/dss/dsshome1/0C/ra93lal2/.local/share/virtualenvs/CMA_Fairness_v2-3j10GkSs/lib/python3.10/site-packages/IPython/core/magics/osm.py:393: UserWarning: This is now an optional IPython functionality, using bookmarks requires you to install the `pickleshare` library.\n",
      "  bkms = self.shell.db.get('bookmarks', {})\n",
      "/dss/dsshome1/0C/ra93lal2/.local/share/virtualenvs/CMA_Fairness_v2-3j10GkSs/lib/python3.10/site-packages/IPython/core/magics/osm.py:417: UserWarning: This is now an optional IPython functionality, setting dhist requires you to install the `pickleshare` library.\n",
      "  self.shell.db['dhist'] = compress_dhist(dhist)[-100:]\n"
     ]
    }
   ],
   "source": [
    "%cd ~/cma/CMA_Fairness_v2"
   ]
  },
  {
   "cell_type": "markdown",
   "id": "de2603b9",
   "metadata": {
    "papermill": {
     "duration": 0.020361,
     "end_time": "2025-07-28T10:47:00.332101",
     "exception": false,
     "start_time": "2025-07-28T10:47:00.311740",
     "status": "completed"
    },
    "tags": []
   },
   "source": [
    "The following cell holds the definition of our parameters, these values can be overriden by rendering the with e.g. the following command:\n",
    "\n",
    "papermill -p alpha 0.2 -p ratio 0.3 universe_analysis.ipynb output/test_run.ipynb"
   ]
  },
  {
   "cell_type": "code",
   "execution_count": 2,
   "id": "a80968a0-40bb-4fa9-85ef-2d5eefb01975",
   "metadata": {
    "execution": {
     "iopub.execute_input": "2025-07-28T10:47:00.373920Z",
     "iopub.status.busy": "2025-07-28T10:47:00.373548Z",
     "iopub.status.idle": "2025-07-28T10:47:00.379318Z",
     "shell.execute_reply": "2025-07-28T10:47:00.378276Z"
    },
    "papermill": {
     "duration": 0.027714,
     "end_time": "2025-07-28T10:47:00.381327",
     "exception": false,
     "start_time": "2025-07-28T10:47:00.353613",
     "status": "completed"
    },
    "tags": []
   },
   "outputs": [
    {
     "name": "stdout",
     "output_type": "stream",
     "text": [
      "Current working directory: /dss/dsshome1/0C/ra93lal2/cma/CMA_Fairness_v2\n"
     ]
    }
   ],
   "source": [
    "import os\n",
    "print(\"Current working directory:\", os.getcwd())"
   ]
  },
  {
   "cell_type": "code",
   "execution_count": 3,
   "id": "2dce4c03",
   "metadata": {
    "execution": {
     "iopub.execute_input": "2025-07-28T10:47:00.424789Z",
     "iopub.status.busy": "2025-07-28T10:47:00.424264Z",
     "iopub.status.idle": "2025-07-28T10:47:00.430730Z",
     "shell.execute_reply": "2025-07-28T10:47:00.429610Z"
    },
    "papermill": {
     "duration": 0.029834,
     "end_time": "2025-07-28T10:47:00.432300",
     "exception": false,
     "start_time": "2025-07-28T10:47:00.402466",
     "status": "completed"
    },
    "tags": [
     "parameters"
    ]
   },
   "outputs": [],
   "source": [
    "run_no = 0\n",
    "universe_id = \"test\"\n",
    "universe = {\n",
    "    \"training_size\": \"2014\", # \"25k\", \"5k\", \"1k\", \"2014\"\n",
    "    \"scale\": \"scale\", # \"scale\", \"do-not-scale\",\n",
    "    #\"stratify_split\": \"target\", # \"none\", \"target\", \"protected-attribute\", \"both\",\n",
    "    \"model\": \"elasticnet\", # \"logreg\", \"penalized_logreg\", \"rf\", \"gbm\", \"elasticnet\"\n",
    "    \"cutoff\": [\"quantile_0.15\", \"quantile_0.30\"],\n",
    "    \"exclude_features\": \"age\", # \"none\", \"nationality\", \"sex\", \"nationality-sex\", \"age\"\n",
    "    \"exclude_subgroups\": \"keep-all\", # \"keep-all\", \"drop-non-german\"\n",
    "    \"eval_fairness_grouping\": [\"majority-minority\", \"nationality-all\"]\n",
    "}\n",
    "\n",
    "output_dir=\"./output\"\n",
    "seed=0"
   ]
  },
  {
   "cell_type": "code",
   "execution_count": 4,
   "id": "d70488f2",
   "metadata": {
    "execution": {
     "iopub.execute_input": "2025-07-28T10:47:00.474171Z",
     "iopub.status.busy": "2025-07-28T10:47:00.472360Z",
     "iopub.status.idle": "2025-07-28T10:47:00.479454Z",
     "shell.execute_reply": "2025-07-28T10:47:00.478415Z"
    },
    "papermill": {
     "duration": 0.029168,
     "end_time": "2025-07-28T10:47:00.481383",
     "exception": false,
     "start_time": "2025-07-28T10:47:00.452215",
     "status": "completed"
    },
    "tags": [
     "injected-parameters"
    ]
   },
   "outputs": [],
   "source": [
    "# Parameters\n",
    "universe_id = \"7356332513e921f03f0b809f4585ceb1\"\n",
    "run_no = \"11\"\n",
    "universe = \"{\\\"cutoff\\\": [\\\"quantile_0.1\\\", \\\"quantile_0.25\\\"], \\\"eval_fairness_grouping\\\": [\\\"majority-minority\\\", \\\"nationality-all\\\"], \\\"exclude_features\\\": \\\"age\\\", \\\"exclude_subgroups\\\": \\\"keep-all\\\", \\\"model\\\": \\\"elasticnet\\\", \\\"scale\\\": \\\"scale\\\", \\\"training_size\\\": \\\"1k\\\"}\"\n",
    "output_dir = \"output\"\n",
    "seed = \"2023\"\n"
   ]
  },
  {
   "cell_type": "code",
   "execution_count": 5,
   "id": "1650acaf",
   "metadata": {
    "execution": {
     "iopub.execute_input": "2025-07-28T10:47:00.522993Z",
     "iopub.status.busy": "2025-07-28T10:47:00.522349Z",
     "iopub.status.idle": "2025-07-28T10:47:00.529135Z",
     "shell.execute_reply": "2025-07-28T10:47:00.528092Z"
    },
    "papermill": {
     "duration": 0.029921,
     "end_time": "2025-07-28T10:47:00.530990",
     "exception": false,
     "start_time": "2025-07-28T10:47:00.501069",
     "status": "completed"
    },
    "tags": []
   },
   "outputs": [],
   "source": [
    "import json\n",
    "# Parse universe into dict if it is passed as a string\n",
    "if isinstance(universe, str):\n",
    "    universe = json.loads(universe)"
   ]
  },
  {
   "cell_type": "code",
   "execution_count": 6,
   "id": "16620c48",
   "metadata": {
    "execution": {
     "iopub.execute_input": "2025-07-28T10:47:00.573886Z",
     "iopub.status.busy": "2025-07-28T10:47:00.572938Z",
     "iopub.status.idle": "2025-07-28T10:47:00.623228Z",
     "shell.execute_reply": "2025-07-28T10:47:00.622200Z"
    },
    "papermill": {
     "duration": 0.073255,
     "end_time": "2025-07-28T10:47:00.625142",
     "exception": false,
     "start_time": "2025-07-28T10:47:00.551887",
     "status": "completed"
    },
    "tags": []
   },
   "outputs": [],
   "source": [
    "# Auto-reload the custom package\n",
    "%load_ext autoreload\n",
    "%autoreload 1\n",
    "%aimport fairness_multiverse"
   ]
  },
  {
   "cell_type": "code",
   "execution_count": 7,
   "id": "01c5c9f3",
   "metadata": {
    "execution": {
     "iopub.execute_input": "2025-07-28T10:47:00.669178Z",
     "iopub.status.busy": "2025-07-28T10:47:00.668227Z",
     "iopub.status.idle": "2025-07-28T10:47:02.784887Z",
     "shell.execute_reply": "2025-07-28T10:47:02.783800Z"
    },
    "papermill": {
     "duration": 2.140104,
     "end_time": "2025-07-28T10:47:02.786940",
     "exception": false,
     "start_time": "2025-07-28T10:47:00.646836",
     "status": "completed"
    },
    "tags": []
   },
   "outputs": [],
   "source": [
    "from fairness_multiverse.universe import UniverseAnalysis\n",
    "\n",
    "universe_analysis = UniverseAnalysis(\n",
    "    run_no = run_no,\n",
    "    universe_id = universe_id,\n",
    "    universe = universe,\n",
    "    output_dir=output_dir,\n",
    ")"
   ]
  },
  {
   "cell_type": "code",
   "execution_count": 8,
   "id": "106241f5",
   "metadata": {
    "execution": {
     "iopub.execute_input": "2025-07-28T10:47:02.827117Z",
     "iopub.status.busy": "2025-07-28T10:47:02.826205Z",
     "iopub.status.idle": "2025-07-28T10:47:02.832884Z",
     "shell.execute_reply": "2025-07-28T10:47:02.832002Z"
    },
    "papermill": {
     "duration": 0.028416,
     "end_time": "2025-07-28T10:47:02.834562",
     "exception": false,
     "start_time": "2025-07-28T10:47:02.806146",
     "status": "completed"
    },
    "tags": []
   },
   "outputs": [
    {
     "name": "stdout",
     "output_type": "stream",
     "text": [
      "Using Seed: 2023\n"
     ]
    }
   ],
   "source": [
    "import numpy as np\n",
    "parsed_seed = int(seed)\n",
    "np.random.seed(parsed_seed)\n",
    "print(f\"Using Seed: {parsed_seed}\")"
   ]
  },
  {
   "cell_type": "markdown",
   "id": "e0ebdc57",
   "metadata": {
    "papermill": {
     "duration": 0.019791,
     "end_time": "2025-07-28T10:47:02.874752",
     "exception": false,
     "start_time": "2025-07-28T10:47:02.854961",
     "status": "completed"
    },
    "tags": []
   },
   "source": [
    "# Loading Data"
   ]
  },
  {
   "cell_type": "markdown",
   "id": "681925a3",
   "metadata": {
    "papermill": {
     "duration": 0.020307,
     "end_time": "2025-07-28T10:47:02.915406",
     "exception": false,
     "start_time": "2025-07-28T10:47:02.895099",
     "status": "completed"
    },
    "tags": []
   },
   "source": [
    "Load siab_train, siab_test, siab_calib and/or \n",
    "load siab_train_features, siab_train_labels"
   ]
  },
  {
   "cell_type": "code",
   "execution_count": 9,
   "id": "f0496b8a",
   "metadata": {
    "execution": {
     "iopub.execute_input": "2025-07-28T10:47:02.958857Z",
     "iopub.status.busy": "2025-07-28T10:47:02.958167Z",
     "iopub.status.idle": "2025-07-28T10:47:17.230912Z",
     "shell.execute_reply": "2025-07-28T10:47:17.229687Z"
    },
    "papermill": {
     "duration": 14.296066,
     "end_time": "2025-07-28T10:47:17.232677",
     "exception": false,
     "start_time": "2025-07-28T10:47:02.936611",
     "status": "completed"
    },
    "tags": []
   },
   "outputs": [
    {
     "name": "stdout",
     "output_type": "stream",
     "text": [
      "Loading SIAB data from cache: data/siab_cached.csv.gz\n"
     ]
    },
    {
     "name": "stdout",
     "output_type": "stream",
     "text": [
      "(643690, 164)\n"
     ]
    }
   ],
   "source": [
    "from pathlib import Path\n",
    "import pandas as pd\n",
    "\n",
    "# File paths\n",
    "raw_file = Path(\"data/raw/siab.csv\")\n",
    "cache_file = Path(\"data/siab_cached.csv.gz\")\n",
    "\n",
    "# Ensure cache directory exists\n",
    "cache_file.parent.mkdir(parents=True, exist_ok=True)\n",
    "\n",
    "# Load with simple caching\n",
    "if cache_file.exists():\n",
    "    print(f\"Loading SIAB data from cache: {cache_file}\")\n",
    "    siab = pd.read_csv(cache_file, compression='gzip')\n",
    "else:\n",
    "    print(f\"Cache not found. Reading raw SIAB data: {raw_file}\")\n",
    "    siab = pd.read_csv(raw_file)\n",
    "    siab.to_csv(cache_file, index=False, compression='gzip')\n",
    "    print(f\"Cached SIAB data to: {cache_file}\")\n",
    "\n",
    "# Now use `siab` DataFrame as needed\n",
    "print(siab.shape)"
   ]
  },
  {
   "cell_type": "code",
   "execution_count": 10,
   "id": "db0ca512-5f53-4dba-abdb-a2888bca41ba",
   "metadata": {
    "execution": {
     "iopub.execute_input": "2025-07-28T10:47:17.279504Z",
     "iopub.status.busy": "2025-07-28T10:47:17.278953Z",
     "iopub.status.idle": "2025-07-28T10:47:17.284946Z",
     "shell.execute_reply": "2025-07-28T10:47:17.283997Z"
    },
    "papermill": {
     "duration": 0.029974,
     "end_time": "2025-07-28T10:47:17.286691",
     "exception": false,
     "start_time": "2025-07-28T10:47:17.256717",
     "status": "completed"
    },
    "tags": []
   },
   "outputs": [],
   "source": [
    "#siab"
   ]
  },
  {
   "cell_type": "code",
   "execution_count": 11,
   "id": "a0edb063",
   "metadata": {
    "execution": {
     "iopub.execute_input": "2025-07-28T10:47:17.330138Z",
     "iopub.status.busy": "2025-07-28T10:47:17.329400Z",
     "iopub.status.idle": "2025-07-28T10:47:17.334717Z",
     "shell.execute_reply": "2025-07-28T10:47:17.333741Z"
    },
    "papermill": {
     "duration": 0.028591,
     "end_time": "2025-07-28T10:47:17.336271",
     "exception": false,
     "start_time": "2025-07-28T10:47:17.307680",
     "status": "completed"
    },
    "tags": []
   },
   "outputs": [],
   "source": [
    "#import pandas as pd\n",
    "#\n",
    "#X_train = pd.read_csv(\"./data/X_train.csv\")\n",
    "#y_train = pd.read_csv(\"./data/y_train.csv\")"
   ]
  },
  {
   "cell_type": "code",
   "execution_count": 12,
   "id": "63d08085",
   "metadata": {
    "execution": {
     "iopub.execute_input": "2025-07-28T10:47:17.376007Z",
     "iopub.status.busy": "2025-07-28T10:47:17.375245Z",
     "iopub.status.idle": "2025-07-28T10:47:17.379987Z",
     "shell.execute_reply": "2025-07-28T10:47:17.379062Z"
    },
    "papermill": {
     "duration": 0.026269,
     "end_time": "2025-07-28T10:47:17.381760",
     "exception": false,
     "start_time": "2025-07-28T10:47:17.355491",
     "status": "completed"
    },
    "tags": []
   },
   "outputs": [],
   "source": [
    "#X_test = pd.read_csv(\"./data/X_test.csv\")\n",
    "#y_true = pd.read_csv(\"./data/y_test.csv\")"
   ]
  },
  {
   "cell_type": "code",
   "execution_count": 13,
   "id": "98a8d0fa-1d3d-4ed8-bb2c-281470e24add",
   "metadata": {
    "execution": {
     "iopub.execute_input": "2025-07-28T10:47:17.425762Z",
     "iopub.status.busy": "2025-07-28T10:47:17.424886Z",
     "iopub.status.idle": "2025-07-28T10:47:17.430934Z",
     "shell.execute_reply": "2025-07-28T10:47:17.429995Z"
    },
    "papermill": {
     "duration": 0.029752,
     "end_time": "2025-07-28T10:47:17.432697",
     "exception": false,
     "start_time": "2025-07-28T10:47:17.402945",
     "status": "completed"
    },
    "tags": []
   },
   "outputs": [],
   "source": [
    "# Calibration data for conformal\n",
    "#X_calib = pd.read_csv(\"./data/X_calib.csv\")\n",
    "#y_calib = pd.read_csv(\"./data/y_calib.csv\")"
   ]
  },
  {
   "cell_type": "markdown",
   "id": "9901737e-04df-44f0-9100-f5ad144ed040",
   "metadata": {
    "papermill": {
     "duration": 0.021379,
     "end_time": "2025-07-28T10:47:17.475388",
     "exception": false,
     "start_time": "2025-07-28T10:47:17.454009",
     "status": "completed"
    },
    "tags": []
   },
   "source": [
    "# Splitting Data and Setting Training Data Size"
   ]
  },
  {
   "cell_type": "code",
   "execution_count": 14,
   "id": "acbc8f7d-8fc8-4e86-8c59-5dcb0f58384b",
   "metadata": {
    "execution": {
     "iopub.execute_input": "2025-07-28T10:47:17.520859Z",
     "iopub.status.busy": "2025-07-28T10:47:17.519746Z",
     "iopub.status.idle": "2025-07-28T10:47:17.528640Z",
     "shell.execute_reply": "2025-07-28T10:47:17.527576Z"
    },
    "papermill": {
     "duration": 0.03415,
     "end_time": "2025-07-28T10:47:17.530610",
     "exception": false,
     "start_time": "2025-07-28T10:47:17.496460",
     "status": "completed"
    },
    "tags": []
   },
   "outputs": [],
   "source": [
    "def sample_by_year(df, training_size, random_state=42):\n",
    "    if training_size == \"2014\":\n",
    "        return df[df[\"year\"] == 2014].reset_index(drop=True)\n",
    "    \n",
    "    size_map = {\n",
    "        \"25k\": 5000,\n",
    "        \"5k\": 1000,\n",
    "        \"1k\": 200\n",
    "    }\n",
    "\n",
    "    if training_size not in size_map:\n",
    "        return df.reset_index(drop=True)  # use all data\n",
    "\n",
    "    n_per_year = size_map[training_size]\n",
    "    grouped = df.groupby(\"year\")\n",
    "    sampled = grouped.apply(lambda x: x.sample(n=min(n_per_year, len(x)), random_state=random_state))\n",
    "    return sampled.reset_index(drop=True)"
   ]
  },
  {
   "cell_type": "code",
   "execution_count": 15,
   "id": "6d931f52-beaf-43ff-9e78-9d44a448d54e",
   "metadata": {
    "execution": {
     "iopub.execute_input": "2025-07-28T10:47:17.577057Z",
     "iopub.status.busy": "2025-07-28T10:47:17.576321Z",
     "iopub.status.idle": "2025-07-28T10:47:18.299943Z",
     "shell.execute_reply": "2025-07-28T10:47:18.298852Z"
    },
    "papermill": {
     "duration": 0.749146,
     "end_time": "2025-07-28T10:47:18.302092",
     "exception": false,
     "start_time": "2025-07-28T10:47:17.552946",
     "status": "completed"
    },
    "tags": []
   },
   "outputs": [],
   "source": [
    "siab_s = sample_by_year(siab, universe[\"training_size\"])"
   ]
  },
  {
   "cell_type": "code",
   "execution_count": 16,
   "id": "5db0a40e-a4e2-4920-be85-b12ae061d70d",
   "metadata": {
    "execution": {
     "iopub.execute_input": "2025-07-28T10:47:18.345516Z",
     "iopub.status.busy": "2025-07-28T10:47:18.344959Z",
     "iopub.status.idle": "2025-07-28T10:47:18.360246Z",
     "shell.execute_reply": "2025-07-28T10:47:18.359161Z"
    },
    "papermill": {
     "duration": 0.038019,
     "end_time": "2025-07-28T10:47:18.362028",
     "exception": false,
     "start_time": "2025-07-28T10:47:18.324009",
     "status": "completed"
    },
    "tags": []
   },
   "outputs": [
    {
     "data": {
      "text/plain": [
       "year\n",
       "2010    200\n",
       "2011    200\n",
       "2012    200\n",
       "2013    200\n",
       "2014    200\n",
       "2015    200\n",
       "2016    200\n",
       "dtype: int64"
      ]
     },
     "metadata": {},
     "output_type": "display_data"
    }
   ],
   "source": [
    "display(siab_s.groupby(\"year\").size())"
   ]
  },
  {
   "cell_type": "code",
   "execution_count": 17,
   "id": "a561edb4-d032-42cb-8256-22eac1111c64",
   "metadata": {
    "execution": {
     "iopub.execute_input": "2025-07-28T10:47:18.421280Z",
     "iopub.status.busy": "2025-07-28T10:47:18.420805Z",
     "iopub.status.idle": "2025-07-28T10:47:18.686890Z",
     "shell.execute_reply": "2025-07-28T10:47:18.686145Z"
    },
    "papermill": {
     "duration": 0.305055,
     "end_time": "2025-07-28T10:47:18.688748",
     "exception": false,
     "start_time": "2025-07-28T10:47:18.383693",
     "status": "completed"
    },
    "tags": []
   },
   "outputs": [],
   "source": [
    "siab_train = siab_s[siab_s.year < 2015]\n",
    "siab_calib = siab[siab.year == 2015]\n",
    "siab_test = siab[siab.year == 2016]"
   ]
  },
  {
   "cell_type": "code",
   "execution_count": 18,
   "id": "472de16f-c3db-4916-846b-1f0de9cf1746",
   "metadata": {
    "execution": {
     "iopub.execute_input": "2025-07-28T10:47:18.733640Z",
     "iopub.status.busy": "2025-07-28T10:47:18.733070Z",
     "iopub.status.idle": "2025-07-28T10:47:18.740836Z",
     "shell.execute_reply": "2025-07-28T10:47:18.739668Z"
    },
    "papermill": {
     "duration": 0.032843,
     "end_time": "2025-07-28T10:47:18.742641",
     "exception": false,
     "start_time": "2025-07-28T10:47:18.709798",
     "status": "completed"
    },
    "tags": []
   },
   "outputs": [],
   "source": [
    "X_train = siab_train.iloc[:,4:164]\n",
    "y_train = siab_train.iloc[:, [3]]"
   ]
  },
  {
   "cell_type": "code",
   "execution_count": 19,
   "id": "828c96af-f43a-4ed6-ba47-8ac73a47d56c",
   "metadata": {
    "execution": {
     "iopub.execute_input": "2025-07-28T10:47:18.787131Z",
     "iopub.status.busy": "2025-07-28T10:47:18.786498Z",
     "iopub.status.idle": "2025-07-28T10:47:18.840655Z",
     "shell.execute_reply": "2025-07-28T10:47:18.839404Z"
    },
    "papermill": {
     "duration": 0.078108,
     "end_time": "2025-07-28T10:47:18.842777",
     "exception": false,
     "start_time": "2025-07-28T10:47:18.764669",
     "status": "completed"
    },
    "tags": []
   },
   "outputs": [],
   "source": [
    "X_calib = siab_calib.iloc[:,4:164]\n",
    "y_calib = siab_calib.iloc[:, [3]]"
   ]
  },
  {
   "cell_type": "code",
   "execution_count": 20,
   "id": "c34be9c3-6bd6-476e-acd3-845840e303be",
   "metadata": {
    "execution": {
     "iopub.execute_input": "2025-07-28T10:47:18.890535Z",
     "iopub.status.busy": "2025-07-28T10:47:18.889946Z",
     "iopub.status.idle": "2025-07-28T10:47:18.947514Z",
     "shell.execute_reply": "2025-07-28T10:47:18.946456Z"
    },
    "papermill": {
     "duration": 0.082856,
     "end_time": "2025-07-28T10:47:18.949398",
     "exception": false,
     "start_time": "2025-07-28T10:47:18.866542",
     "status": "completed"
    },
    "tags": []
   },
   "outputs": [],
   "source": [
    "X_test = siab_test.iloc[:,4:164]\n",
    "y_true = siab_test.iloc[:, [3]]"
   ]
  },
  {
   "cell_type": "code",
   "execution_count": 21,
   "id": "e6c733c5",
   "metadata": {
    "execution": {
     "iopub.execute_input": "2025-07-28T10:47:18.995663Z",
     "iopub.status.busy": "2025-07-28T10:47:18.994985Z",
     "iopub.status.idle": "2025-07-28T10:47:19.093697Z",
     "shell.execute_reply": "2025-07-28T10:47:19.092585Z"
    },
    "papermill": {
     "duration": 0.125371,
     "end_time": "2025-07-28T10:47:19.095774",
     "exception": false,
     "start_time": "2025-07-28T10:47:18.970403",
     "status": "completed"
    },
    "tags": []
   },
   "outputs": [],
   "source": [
    "# Auxiliary data needed downstream in the pipeline\n",
    "\n",
    "org_train = X_train.copy()\n",
    "org_test = X_test.copy()\n",
    "org_calib = X_calib.copy()"
   ]
  },
  {
   "cell_type": "markdown",
   "id": "0a4a1b33",
   "metadata": {
    "papermill": {
     "duration": 0.021771,
     "end_time": "2025-07-28T10:47:19.139459",
     "exception": false,
     "start_time": "2025-07-28T10:47:19.117688",
     "status": "completed"
    },
    "tags": []
   },
   "source": [
    "# Preprocessing Data"
   ]
  },
  {
   "cell_type": "code",
   "execution_count": 22,
   "id": "ca879031",
   "metadata": {
    "execution": {
     "iopub.execute_input": "2025-07-28T10:47:19.183378Z",
     "iopub.status.busy": "2025-07-28T10:47:19.182603Z",
     "iopub.status.idle": "2025-07-28T10:47:19.189879Z",
     "shell.execute_reply": "2025-07-28T10:47:19.188846Z"
    },
    "papermill": {
     "duration": 0.030921,
     "end_time": "2025-07-28T10:47:19.191608",
     "exception": false,
     "start_time": "2025-07-28T10:47:19.160687",
     "status": "completed"
    },
    "tags": []
   },
   "outputs": [],
   "source": [
    "# EXCLUDE PROTECTED FEATURES\n",
    "# ----------------------\n",
    "# \"exclude_features\": \"none\", # \"nationality\", \"sex\", \"nationality-sex\"\n",
    "\n",
    "excluded_features = universe[\"exclude_features\"].split(\"-\") # split, e.g.: \"nationality-sex\" -> [\"nationality\", \"sex\"]\n",
    "excluded_features_dictionary = {\n",
    "    \"nationality\": [\"maxdeutsch1\", \"maxdeutsch.Missing.\"],\n",
    "    \"sex\": [\"frau1\"],\n",
    "    \"age\": [\"age\"],\n",
    "}\n"
   ]
  },
  {
   "cell_type": "code",
   "execution_count": 23,
   "id": "b745ac60",
   "metadata": {
    "execution": {
     "iopub.execute_input": "2025-07-28T10:47:19.239339Z",
     "iopub.status.busy": "2025-07-28T10:47:19.238468Z",
     "iopub.status.idle": "2025-07-28T10:47:19.244926Z",
     "shell.execute_reply": "2025-07-28T10:47:19.243904Z"
    },
    "papermill": {
     "duration": 0.03198,
     "end_time": "2025-07-28T10:47:19.246643",
     "exception": false,
     "start_time": "2025-07-28T10:47:19.214663",
     "status": "completed"
    },
    "tags": []
   },
   "outputs": [],
   "source": [
    "# Code nice names to column names\n",
    "\n",
    "excluded_features_columns = [\n",
    "    excluded_features_dictionary[f] for f in excluded_features if len(f) > 0 and f != \"none\"\n",
    "]"
   ]
  },
  {
   "cell_type": "code",
   "execution_count": 24,
   "id": "f84f73a2",
   "metadata": {
    "execution": {
     "iopub.execute_input": "2025-07-28T10:47:19.294854Z",
     "iopub.status.busy": "2025-07-28T10:47:19.294027Z",
     "iopub.status.idle": "2025-07-28T10:47:19.301242Z",
     "shell.execute_reply": "2025-07-28T10:47:19.300277Z"
    },
    "papermill": {
     "duration": 0.032955,
     "end_time": "2025-07-28T10:47:19.302945",
     "exception": false,
     "start_time": "2025-07-28T10:47:19.269990",
     "status": "completed"
    },
    "tags": []
   },
   "outputs": [],
   "source": [
    "from utils import flatten_once\n",
    "\n",
    "excluded_features_columns = flatten_once(excluded_features_columns)"
   ]
  },
  {
   "cell_type": "code",
   "execution_count": 25,
   "id": "884dea22",
   "metadata": {
    "execution": {
     "iopub.execute_input": "2025-07-28T10:47:19.353296Z",
     "iopub.status.busy": "2025-07-28T10:47:19.352783Z",
     "iopub.status.idle": "2025-07-28T10:47:19.361489Z",
     "shell.execute_reply": "2025-07-28T10:47:19.360520Z"
    },
    "papermill": {
     "duration": 0.037429,
     "end_time": "2025-07-28T10:47:19.363366",
     "exception": false,
     "start_time": "2025-07-28T10:47:19.325937",
     "status": "completed"
    },
    "tags": []
   },
   "outputs": [
    {
     "name": "stdout",
     "output_type": "stream",
     "text": [
      "Dropping features: ['age']\n"
     ]
    }
   ],
   "source": [
    "if len(excluded_features_columns) > 0:\n",
    "    print(f\"Dropping features: {excluded_features_columns}\")\n",
    "    X_train.drop(excluded_features_columns, axis=1, inplace=True)"
   ]
  },
  {
   "cell_type": "code",
   "execution_count": 26,
   "id": "95ab8b16",
   "metadata": {
    "execution": {
     "iopub.execute_input": "2025-07-28T10:47:19.390270Z",
     "iopub.status.busy": "2025-07-28T10:47:19.389941Z",
     "iopub.status.idle": "2025-07-28T10:47:19.447107Z",
     "shell.execute_reply": "2025-07-28T10:47:19.445915Z"
    },
    "papermill": {
     "duration": 0.070822,
     "end_time": "2025-07-28T10:47:19.448950",
     "exception": false,
     "start_time": "2025-07-28T10:47:19.378128",
     "status": "completed"
    },
    "tags": []
   },
   "outputs": [
    {
     "name": "stdout",
     "output_type": "stream",
     "text": [
      "Dropping features: ['age']\n"
     ]
    }
   ],
   "source": [
    "if len(excluded_features_columns) > 0:\n",
    "    print(f\"Dropping features: {excluded_features_columns}\")\n",
    "    X_test.drop(excluded_features_columns, axis=1, inplace=True)"
   ]
  },
  {
   "cell_type": "code",
   "execution_count": 27,
   "id": "1853aaf5-fb9f-46cb-a2b5-8ea4ae2237e4",
   "metadata": {
    "execution": {
     "iopub.execute_input": "2025-07-28T10:47:19.488235Z",
     "iopub.status.busy": "2025-07-28T10:47:19.487762Z",
     "iopub.status.idle": "2025-07-28T10:47:19.560627Z",
     "shell.execute_reply": "2025-07-28T10:47:19.559505Z"
    },
    "papermill": {
     "duration": 0.090153,
     "end_time": "2025-07-28T10:47:19.562923",
     "exception": false,
     "start_time": "2025-07-28T10:47:19.472770",
     "status": "completed"
    },
    "tags": []
   },
   "outputs": [
    {
     "name": "stdout",
     "output_type": "stream",
     "text": [
      "Dropping features: ['age']\n"
     ]
    }
   ],
   "source": [
    "if len(excluded_features_columns) > 0:\n",
    "    print(f\"Dropping features: {excluded_features_columns}\")\n",
    "    X_calib.drop(excluded_features_columns, axis=1, inplace=True)"
   ]
  },
  {
   "cell_type": "code",
   "execution_count": 28,
   "id": "6727d079-03e5-481e-9d38-292a90b7a0a8",
   "metadata": {
    "execution": {
     "iopub.execute_input": "2025-07-28T10:47:19.626435Z",
     "iopub.status.busy": "2025-07-28T10:47:19.625711Z",
     "iopub.status.idle": "2025-07-28T10:47:19.631385Z",
     "shell.execute_reply": "2025-07-28T10:47:19.630349Z"
    },
    "papermill": {
     "duration": 0.040741,
     "end_time": "2025-07-28T10:47:19.633310",
     "exception": false,
     "start_time": "2025-07-28T10:47:19.592569",
     "status": "completed"
    },
    "tags": []
   },
   "outputs": [],
   "source": [
    "# SPLIT & STRATIFY DATA\n",
    "# ----------------------"
   ]
  },
  {
   "cell_type": "code",
   "execution_count": 29,
   "id": "76c4dc6d",
   "metadata": {
    "execution": {
     "iopub.execute_input": "2025-07-28T10:47:19.685131Z",
     "iopub.status.busy": "2025-07-28T10:47:19.684731Z",
     "iopub.status.idle": "2025-07-28T10:47:19.689138Z",
     "shell.execute_reply": "2025-07-28T10:47:19.688342Z"
    },
    "papermill": {
     "duration": 0.028402,
     "end_time": "2025-07-28T10:47:19.690445",
     "exception": false,
     "start_time": "2025-07-28T10:47:19.662043",
     "status": "completed"
    },
    "tags": []
   },
   "outputs": [],
   "source": [
    "# EXCLUDE CERTAIN SUBGROUPS\n",
    "# ----------------------\n",
    "\n",
    "mode = universe.get(\"exclude_subgroups\", \"keep-all\") \n",
    "# Fetches the exclude_subgroups setting from the universe dict.\n",
    "# Defaults to \"keep-all\" if the key is missing."
   ]
  },
  {
   "cell_type": "code",
   "execution_count": 30,
   "id": "21994072",
   "metadata": {
    "execution": {
     "iopub.execute_input": "2025-07-28T10:47:19.715116Z",
     "iopub.status.busy": "2025-07-28T10:47:19.714623Z",
     "iopub.status.idle": "2025-07-28T10:47:19.719846Z",
     "shell.execute_reply": "2025-07-28T10:47:19.719011Z"
    },
    "papermill": {
     "duration": 0.018716,
     "end_time": "2025-07-28T10:47:19.721218",
     "exception": false,
     "start_time": "2025-07-28T10:47:19.702502",
     "status": "completed"
    },
    "tags": []
   },
   "outputs": [],
   "source": [
    "if mode == \"keep-all\":\n",
    "    keep_mask = pd.Series(True, index=org_train.index)\n",
    "\n",
    "# org_train contains the original feature columns from features_org (in Simson)\n",
    "# features_org contains unprocessed features, for me X_train at beginning ???\n",
    "# For keep-all, creates a boolean Series (keep_mask) of all True, so no rows are removed.\n",
    "\n",
    "elif mode == \"drop-non-german\":\n",
    "    keep_mask = org_train[\"maxdeutsch1\"] == 1 # ??? what about missing values?\n",
    "\n",
    "else:\n",
    "    raise ValueError(f\"Unsupported mode for exclude_subgroups: {mode}\")\n"
   ]
  },
  {
   "cell_type": "code",
   "execution_count": 31,
   "id": "71651440",
   "metadata": {
    "execution": {
     "iopub.execute_input": "2025-07-28T10:47:19.749073Z",
     "iopub.status.busy": "2025-07-28T10:47:19.748520Z",
     "iopub.status.idle": "2025-07-28T10:47:19.754303Z",
     "shell.execute_reply": "2025-07-28T10:47:19.753627Z"
    },
    "papermill": {
     "duration": 0.020262,
     "end_time": "2025-07-28T10:47:19.755590",
     "exception": false,
     "start_time": "2025-07-28T10:47:19.735328",
     "status": "completed"
    },
    "tags": []
   },
   "outputs": [],
   "source": [
    "n_drop = (~keep_mask).sum() # Calculates how many rows are set to be dropped\n",
    "if n_drop > 0:\n",
    "    pct = n_drop / len(keep_mask) * 100\n",
    "    print(f\"Dropping {n_drop} rows ({pct:.2f}%) where mode='{mode}'\")"
   ]
  },
  {
   "cell_type": "code",
   "execution_count": 32,
   "id": "5fb8eee5",
   "metadata": {
    "execution": {
     "iopub.execute_input": "2025-07-28T10:47:19.781013Z",
     "iopub.status.busy": "2025-07-28T10:47:19.780464Z",
     "iopub.status.idle": "2025-07-28T10:47:19.786317Z",
     "shell.execute_reply": "2025-07-28T10:47:19.785501Z"
    },
    "papermill": {
     "duration": 0.019802,
     "end_time": "2025-07-28T10:47:19.787738",
     "exception": false,
     "start_time": "2025-07-28T10:47:19.767936",
     "status": "completed"
    },
    "tags": []
   },
   "outputs": [],
   "source": [
    "X_train = X_train[keep_mask]"
   ]
  },
  {
   "cell_type": "code",
   "execution_count": 33,
   "id": "b202bb3a",
   "metadata": {
    "execution": {
     "iopub.execute_input": "2025-07-28T10:47:19.813720Z",
     "iopub.status.busy": "2025-07-28T10:47:19.813220Z",
     "iopub.status.idle": "2025-07-28T10:47:19.818576Z",
     "shell.execute_reply": "2025-07-28T10:47:19.817872Z"
    },
    "papermill": {
     "duration": 0.019523,
     "end_time": "2025-07-28T10:47:19.819842",
     "exception": false,
     "start_time": "2025-07-28T10:47:19.800319",
     "status": "completed"
    },
    "tags": []
   },
   "outputs": [],
   "source": [
    "y_train = y_train[keep_mask]"
   ]
  },
  {
   "cell_type": "markdown",
   "id": "493e2ac3",
   "metadata": {
    "papermill": {
     "duration": 0.011402,
     "end_time": "2025-07-28T10:47:19.843680",
     "exception": false,
     "start_time": "2025-07-28T10:47:19.832278",
     "status": "completed"
    },
    "tags": []
   },
   "source": [
    "# Model Training"
   ]
  },
  {
   "cell_type": "code",
   "execution_count": 34,
   "id": "679e1268",
   "metadata": {
    "execution": {
     "iopub.execute_input": "2025-07-28T10:47:19.869128Z",
     "iopub.status.busy": "2025-07-28T10:47:19.868583Z",
     "iopub.status.idle": "2025-07-28T10:47:19.959632Z",
     "shell.execute_reply": "2025-07-28T10:47:19.958626Z"
    },
    "papermill": {
     "duration": 0.1061,
     "end_time": "2025-07-28T10:47:19.961621",
     "exception": false,
     "start_time": "2025-07-28T10:47:19.855521",
     "status": "completed"
    },
    "tags": []
   },
   "outputs": [],
   "source": [
    "from sklearn.linear_model import LogisticRegression\n",
    "from sklearn.ensemble import GradientBoostingClassifier, RandomForestClassifier\n",
    "\n",
    "if (universe[\"model\"] == \"logreg\"):\n",
    "    model = LogisticRegression() #penalty=\"none\") #, solver=\"newton-cg\", max_iter=1) # include random_state=19 ?\n",
    "elif (universe[\"model\"] == \"penalized_logreg\"):\n",
    "    model = LogisticRegression(penalty=\"l2\", C=1.0) #, solver=\"newton-cg\", max_iter=1)\n",
    "elif (universe[\"model\"] == \"rf\"):\n",
    "    model = RandomForestClassifier(n_estimators=100, n_jobs=-1)\n",
    "elif (universe[\"model\"] == \"gbm\"):\n",
    "    model = GradientBoostingClassifier()\n",
    "elif (universe[\"model\"] == \"elasticnet\"):\n",
    "    model = LogisticRegression(penalty = 'elasticnet', solver = 'saga', l1_ratio = 0.5, max_iter=5000) # which solver to use?\n",
    "else:\n",
    "    raise \"Unsupported universe.model\""
   ]
  },
  {
   "cell_type": "code",
   "execution_count": 35,
   "id": "0cc8f744",
   "metadata": {
    "execution": {
     "iopub.execute_input": "2025-07-28T10:47:20.010711Z",
     "iopub.status.busy": "2025-07-28T10:47:20.010069Z",
     "iopub.status.idle": "2025-07-28T10:47:20.016457Z",
     "shell.execute_reply": "2025-07-28T10:47:20.015689Z"
    },
    "papermill": {
     "duration": 0.032284,
     "end_time": "2025-07-28T10:47:20.018142",
     "exception": false,
     "start_time": "2025-07-28T10:47:19.985858",
     "status": "completed"
    },
    "tags": []
   },
   "outputs": [],
   "source": [
    "import numpy as np\n",
    "from sklearn.pipeline import Pipeline\n",
    "from sklearn.preprocessing import StandardScaler\n",
    "\n",
    "model = Pipeline([\n",
    "    #(\"continuous_processor\", continuous_processor),\n",
    "    #(\"categorical_preprocessor\", categorical_preprocessor),\n",
    "    (\"scale\", StandardScaler() if universe[\"scale\"] == \"scale\" else None), \n",
    "    (\"model\", model),\n",
    "])"
   ]
  },
  {
   "cell_type": "code",
   "execution_count": 36,
   "id": "9442c04d",
   "metadata": {
    "execution": {
     "iopub.execute_input": "2025-07-28T10:47:20.066926Z",
     "iopub.status.busy": "2025-07-28T10:47:20.066422Z",
     "iopub.status.idle": "2025-07-28T10:47:24.043864Z",
     "shell.execute_reply": "2025-07-28T10:47:24.043058Z"
    },
    "papermill": {
     "duration": 4.003504,
     "end_time": "2025-07-28T10:47:24.045601",
     "exception": false,
     "start_time": "2025-07-28T10:47:20.042097",
     "status": "completed"
    },
    "tags": []
   },
   "outputs": [
    {
     "data": {
      "text/html": [
       "<style>#sk-container-id-1 {color: black;background-color: white;}#sk-container-id-1 pre{padding: 0;}#sk-container-id-1 div.sk-toggleable {background-color: white;}#sk-container-id-1 label.sk-toggleable__label {cursor: pointer;display: block;width: 100%;margin-bottom: 0;padding: 0.3em;box-sizing: border-box;text-align: center;}#sk-container-id-1 label.sk-toggleable__label-arrow:before {content: \"▸\";float: left;margin-right: 0.25em;color: #696969;}#sk-container-id-1 label.sk-toggleable__label-arrow:hover:before {color: black;}#sk-container-id-1 div.sk-estimator:hover label.sk-toggleable__label-arrow:before {color: black;}#sk-container-id-1 div.sk-toggleable__content {max-height: 0;max-width: 0;overflow: hidden;text-align: left;background-color: #f0f8ff;}#sk-container-id-1 div.sk-toggleable__content pre {margin: 0.2em;color: black;border-radius: 0.25em;background-color: #f0f8ff;}#sk-container-id-1 input.sk-toggleable__control:checked~div.sk-toggleable__content {max-height: 200px;max-width: 100%;overflow: auto;}#sk-container-id-1 input.sk-toggleable__control:checked~label.sk-toggleable__label-arrow:before {content: \"▾\";}#sk-container-id-1 div.sk-estimator input.sk-toggleable__control:checked~label.sk-toggleable__label {background-color: #d4ebff;}#sk-container-id-1 div.sk-label input.sk-toggleable__control:checked~label.sk-toggleable__label {background-color: #d4ebff;}#sk-container-id-1 input.sk-hidden--visually {border: 0;clip: rect(1px 1px 1px 1px);clip: rect(1px, 1px, 1px, 1px);height: 1px;margin: -1px;overflow: hidden;padding: 0;position: absolute;width: 1px;}#sk-container-id-1 div.sk-estimator {font-family: monospace;background-color: #f0f8ff;border: 1px dotted black;border-radius: 0.25em;box-sizing: border-box;margin-bottom: 0.5em;}#sk-container-id-1 div.sk-estimator:hover {background-color: #d4ebff;}#sk-container-id-1 div.sk-parallel-item::after {content: \"\";width: 100%;border-bottom: 1px solid gray;flex-grow: 1;}#sk-container-id-1 div.sk-label:hover label.sk-toggleable__label {background-color: #d4ebff;}#sk-container-id-1 div.sk-serial::before {content: \"\";position: absolute;border-left: 1px solid gray;box-sizing: border-box;top: 0;bottom: 0;left: 50%;z-index: 0;}#sk-container-id-1 div.sk-serial {display: flex;flex-direction: column;align-items: center;background-color: white;padding-right: 0.2em;padding-left: 0.2em;position: relative;}#sk-container-id-1 div.sk-item {position: relative;z-index: 1;}#sk-container-id-1 div.sk-parallel {display: flex;align-items: stretch;justify-content: center;background-color: white;position: relative;}#sk-container-id-1 div.sk-item::before, #sk-container-id-1 div.sk-parallel-item::before {content: \"\";position: absolute;border-left: 1px solid gray;box-sizing: border-box;top: 0;bottom: 0;left: 50%;z-index: -1;}#sk-container-id-1 div.sk-parallel-item {display: flex;flex-direction: column;z-index: 1;position: relative;background-color: white;}#sk-container-id-1 div.sk-parallel-item:first-child::after {align-self: flex-end;width: 50%;}#sk-container-id-1 div.sk-parallel-item:last-child::after {align-self: flex-start;width: 50%;}#sk-container-id-1 div.sk-parallel-item:only-child::after {width: 0;}#sk-container-id-1 div.sk-dashed-wrapped {border: 1px dashed gray;margin: 0 0.4em 0.5em 0.4em;box-sizing: border-box;padding-bottom: 0.4em;background-color: white;}#sk-container-id-1 div.sk-label label {font-family: monospace;font-weight: bold;display: inline-block;line-height: 1.2em;}#sk-container-id-1 div.sk-label-container {text-align: center;}#sk-container-id-1 div.sk-container {/* jupyter's `normalize.less` sets `[hidden] { display: none; }` but bootstrap.min.css set `[hidden] { display: none !important; }` so we also need the `!important` here to be able to override the default hidden behavior on the sphinx rendered scikit-learn.org. See: https://github.com/scikit-learn/scikit-learn/issues/21755 */display: inline-block !important;position: relative;}#sk-container-id-1 div.sk-text-repr-fallback {display: none;}</style><div id=\"sk-container-id-1\" class=\"sk-top-container\"><div class=\"sk-text-repr-fallback\"><pre>Pipeline(steps=[(&#x27;scale&#x27;, StandardScaler()),\n",
       "                (&#x27;model&#x27;,\n",
       "                 LogisticRegression(l1_ratio=0.5, max_iter=5000,\n",
       "                                    penalty=&#x27;elasticnet&#x27;, solver=&#x27;saga&#x27;))])</pre><b>In a Jupyter environment, please rerun this cell to show the HTML representation or trust the notebook. <br />On GitHub, the HTML representation is unable to render, please try loading this page with nbviewer.org.</b></div><div class=\"sk-container\" hidden><div class=\"sk-item sk-dashed-wrapped\"><div class=\"sk-label-container\"><div class=\"sk-label sk-toggleable\"><input class=\"sk-toggleable__control sk-hidden--visually\" id=\"sk-estimator-id-1\" type=\"checkbox\" ><label for=\"sk-estimator-id-1\" class=\"sk-toggleable__label sk-toggleable__label-arrow\">Pipeline</label><div class=\"sk-toggleable__content\"><pre>Pipeline(steps=[(&#x27;scale&#x27;, StandardScaler()),\n",
       "                (&#x27;model&#x27;,\n",
       "                 LogisticRegression(l1_ratio=0.5, max_iter=5000,\n",
       "                                    penalty=&#x27;elasticnet&#x27;, solver=&#x27;saga&#x27;))])</pre></div></div></div><div class=\"sk-serial\"><div class=\"sk-item\"><div class=\"sk-estimator sk-toggleable\"><input class=\"sk-toggleable__control sk-hidden--visually\" id=\"sk-estimator-id-2\" type=\"checkbox\" ><label for=\"sk-estimator-id-2\" class=\"sk-toggleable__label sk-toggleable__label-arrow\">StandardScaler</label><div class=\"sk-toggleable__content\"><pre>StandardScaler()</pre></div></div></div><div class=\"sk-item\"><div class=\"sk-estimator sk-toggleable\"><input class=\"sk-toggleable__control sk-hidden--visually\" id=\"sk-estimator-id-3\" type=\"checkbox\" ><label for=\"sk-estimator-id-3\" class=\"sk-toggleable__label sk-toggleable__label-arrow\">LogisticRegression</label><div class=\"sk-toggleable__content\"><pre>LogisticRegression(l1_ratio=0.5, max_iter=5000, penalty=&#x27;elasticnet&#x27;,\n",
       "                   solver=&#x27;saga&#x27;)</pre></div></div></div></div></div></div></div>"
      ],
      "text/plain": [
       "Pipeline(steps=[('scale', StandardScaler()),\n",
       "                ('model',\n",
       "                 LogisticRegression(l1_ratio=0.5, max_iter=5000,\n",
       "                                    penalty='elasticnet', solver='saga'))])"
      ]
     },
     "execution_count": 36,
     "metadata": {},
     "output_type": "execute_result"
    }
   ],
   "source": [
    "model.fit(X_train, y_train.values.ravel())"
   ]
  },
  {
   "cell_type": "code",
   "execution_count": 37,
   "id": "af59f8c0",
   "metadata": {
    "execution": {
     "iopub.execute_input": "2025-07-28T10:47:24.089421Z",
     "iopub.status.busy": "2025-07-28T10:47:24.088762Z",
     "iopub.status.idle": "2025-07-28T10:47:24.095358Z",
     "shell.execute_reply": "2025-07-28T10:47:24.094507Z"
    },
    "papermill": {
     "duration": 0.030476,
     "end_time": "2025-07-28T10:47:24.097030",
     "exception": false,
     "start_time": "2025-07-28T10:47:24.066554",
     "status": "completed"
    },
    "tags": []
   },
   "outputs": [],
   "source": [
    "from fairness_multiverse.universe import predict_w_threshold"
   ]
  },
  {
   "cell_type": "code",
   "execution_count": 38,
   "id": "a7cf2e16",
   "metadata": {
    "execution": {
     "iopub.execute_input": "2025-07-28T10:47:24.145405Z",
     "iopub.status.busy": "2025-07-28T10:47:24.144880Z",
     "iopub.status.idle": "2025-07-28T10:47:24.345360Z",
     "shell.execute_reply": "2025-07-28T10:47:24.344401Z"
    },
    "papermill": {
     "duration": 0.22802,
     "end_time": "2025-07-28T10:47:24.348152",
     "exception": false,
     "start_time": "2025-07-28T10:47:24.120132",
     "status": "completed"
    },
    "tags": []
   },
   "outputs": [
    {
     "data": {
      "text/plain": [
       "0.8224501170438078"
      ]
     },
     "execution_count": 38,
     "metadata": {},
     "output_type": "execute_result"
    }
   ],
   "source": [
    "probs_test = model.predict_proba(X_test)\n",
    "\n",
    "'''\n",
    "Below code returns a boolean array (or binary 0/1 array depending on how it’s used) where each element \n",
    "is True if the probability of class 1 is greater than or equal to the threshold, and False otherwise.\n",
    "'''\n",
    "y_pred_default = predict_w_threshold(probs_test, 0.5)\n",
    "\n",
    "from sklearn.metrics import accuracy_score\n",
    "\n",
    "# Naive prediction\n",
    "accuracy_score(y_true = y_true, y_pred = y_pred_default)"
   ]
  },
  {
   "cell_type": "code",
   "execution_count": 39,
   "id": "081964c3",
   "metadata": {
    "execution": {
     "iopub.execute_input": "2025-07-28T10:47:24.376623Z",
     "iopub.status.busy": "2025-07-28T10:47:24.376264Z",
     "iopub.status.idle": "2025-07-28T10:47:24.551965Z",
     "shell.execute_reply": "2025-07-28T10:47:24.551109Z"
    },
    "papermill": {
     "duration": 0.190477,
     "end_time": "2025-07-28T10:47:24.553560",
     "exception": false,
     "start_time": "2025-07-28T10:47:24.363083",
     "status": "completed"
    },
    "tags": []
   },
   "outputs": [
    {
     "data": {
      "text/plain": [
       "array([0, 0, 0, ..., 0, 0, 0])"
      ]
     },
     "execution_count": 39,
     "metadata": {},
     "output_type": "execute_result"
    }
   ],
   "source": [
    "model.predict(X_test)"
   ]
  },
  {
   "cell_type": "markdown",
   "id": "56c9705b",
   "metadata": {
    "papermill": {
     "duration": 0.02245,
     "end_time": "2025-07-28T10:47:24.602773",
     "exception": false,
     "start_time": "2025-07-28T10:47:24.580323",
     "status": "completed"
    },
    "tags": []
   },
   "source": [
    "# Conformal Prediction"
   ]
  },
  {
   "cell_type": "code",
   "execution_count": 40,
   "id": "160ec6ff",
   "metadata": {
    "execution": {
     "iopub.execute_input": "2025-07-28T10:47:24.654921Z",
     "iopub.status.busy": "2025-07-28T10:47:24.653901Z",
     "iopub.status.idle": "2025-07-28T10:47:24.659834Z",
     "shell.execute_reply": "2025-07-28T10:47:24.658761Z"
    },
    "papermill": {
     "duration": 0.031391,
     "end_time": "2025-07-28T10:47:24.661571",
     "exception": false,
     "start_time": "2025-07-28T10:47:24.630180",
     "status": "completed"
    },
    "tags": []
   },
   "outputs": [],
   "source": [
    "# Miscoverage level for conformal prediction (10% allowed error rate => 90% target coverage)\n",
    "alpha = 0.1"
   ]
  },
  {
   "cell_type": "code",
   "execution_count": 41,
   "id": "eadf4555-3dd3-440e-8e35-f82a4ad9f855",
   "metadata": {
    "execution": {
     "iopub.execute_input": "2025-07-28T10:47:24.708562Z",
     "iopub.status.busy": "2025-07-28T10:47:24.707800Z",
     "iopub.status.idle": "2025-07-28T10:47:24.907969Z",
     "shell.execute_reply": "2025-07-28T10:47:24.906919Z"
    },
    "papermill": {
     "duration": 0.225834,
     "end_time": "2025-07-28T10:47:24.909995",
     "exception": false,
     "start_time": "2025-07-28T10:47:24.684161",
     "status": "completed"
    },
    "tags": []
   },
   "outputs": [],
   "source": [
    "probs_calib = model.predict_proba(X_calib)"
   ]
  },
  {
   "cell_type": "code",
   "execution_count": 42,
   "id": "2ed93547-6d5d-4983-9b36-1ecb300da49a",
   "metadata": {
    "execution": {
     "iopub.execute_input": "2025-07-28T10:47:24.956603Z",
     "iopub.status.busy": "2025-07-28T10:47:24.955674Z",
     "iopub.status.idle": "2025-07-28T10:47:24.961637Z",
     "shell.execute_reply": "2025-07-28T10:47:24.960763Z"
    },
    "papermill": {
     "duration": 0.030726,
     "end_time": "2025-07-28T10:47:24.963360",
     "exception": false,
     "start_time": "2025-07-28T10:47:24.932634",
     "status": "completed"
    },
    "tags": []
   },
   "outputs": [],
   "source": [
    "y_calib = y_calib.values.ravel().astype(int)"
   ]
  },
  {
   "cell_type": "code",
   "execution_count": 43,
   "id": "65d1320d-f588-4b38-9072-62af1ae97f7d",
   "metadata": {
    "execution": {
     "iopub.execute_input": "2025-07-28T10:47:25.016261Z",
     "iopub.status.busy": "2025-07-28T10:47:25.015513Z",
     "iopub.status.idle": "2025-07-28T10:47:25.023385Z",
     "shell.execute_reply": "2025-07-28T10:47:25.022441Z"
    },
    "papermill": {
     "duration": 0.035869,
     "end_time": "2025-07-28T10:47:25.024900",
     "exception": false,
     "start_time": "2025-07-28T10:47:24.989031",
     "status": "completed"
    },
    "tags": []
   },
   "outputs": [],
   "source": [
    "from fairness_multiverse.conformal import compute_nc_scores\n",
    "\n",
    "# Compute nonconformity scores on calibration set (1 - probability of true class)\n",
    "nc_scores = compute_nc_scores(probs_calib, y_calib)"
   ]
  },
  {
   "cell_type": "code",
   "execution_count": 44,
   "id": "df3b8ca3-53b7-43d5-9667-7c85da7aeda2",
   "metadata": {
    "execution": {
     "iopub.execute_input": "2025-07-28T10:47:25.075440Z",
     "iopub.status.busy": "2025-07-28T10:47:25.074949Z",
     "iopub.status.idle": "2025-07-28T10:47:25.082271Z",
     "shell.execute_reply": "2025-07-28T10:47:25.081281Z"
    },
    "papermill": {
     "duration": 0.033769,
     "end_time": "2025-07-28T10:47:25.084008",
     "exception": false,
     "start_time": "2025-07-28T10:47:25.050239",
     "status": "completed"
    },
    "tags": []
   },
   "outputs": [],
   "source": [
    "from fairness_multiverse.conformal import find_threshold\n",
    "\n",
    "# Find conformal threshold q_hat for the given alpha (split conformal method)\n",
    "q_hat = find_threshold(nc_scores, alpha)"
   ]
  },
  {
   "cell_type": "code",
   "execution_count": 45,
   "id": "4d29e6c1-0ef6-4aa4-b8fe-4fe79b0d033a",
   "metadata": {
    "execution": {
     "iopub.execute_input": "2025-07-28T10:47:25.135810Z",
     "iopub.status.busy": "2025-07-28T10:47:25.135153Z",
     "iopub.status.idle": "2025-07-28T10:47:25.142699Z",
     "shell.execute_reply": "2025-07-28T10:47:25.141734Z"
    },
    "papermill": {
     "duration": 0.034889,
     "end_time": "2025-07-28T10:47:25.144274",
     "exception": false,
     "start_time": "2025-07-28T10:47:25.109385",
     "status": "completed"
    },
    "tags": []
   },
   "outputs": [
    {
     "data": {
      "text/plain": [
       "0.7599015744548383"
      ]
     },
     "execution_count": 45,
     "metadata": {},
     "output_type": "execute_result"
    }
   ],
   "source": [
    "q_hat"
   ]
  },
  {
   "cell_type": "code",
   "execution_count": 46,
   "id": "92460794-cdac-4be2-ba28-f28c0515a6fb",
   "metadata": {
    "execution": {
     "iopub.execute_input": "2025-07-28T10:47:25.196111Z",
     "iopub.status.busy": "2025-07-28T10:47:25.195428Z",
     "iopub.status.idle": "2025-07-28T10:47:26.084168Z",
     "shell.execute_reply": "2025-07-28T10:47:26.082975Z"
    },
    "papermill": {
     "duration": 0.917404,
     "end_time": "2025-07-28T10:47:26.086334",
     "exception": false,
     "start_time": "2025-07-28T10:47:25.168930",
     "status": "completed"
    },
    "tags": []
   },
   "outputs": [],
   "source": [
    "from fairness_multiverse.conformal import predict_conformal_sets\n",
    "\n",
    "# Generate prediction sets for each test example\n",
    "pred_sets = predict_conformal_sets(model, X_test, q_hat)"
   ]
  },
  {
   "cell_type": "code",
   "execution_count": 47,
   "id": "d90c9a65-e6db-4f5d-80cd-e68fb7e46829",
   "metadata": {
    "execution": {
     "iopub.execute_input": "2025-07-28T10:47:26.145545Z",
     "iopub.status.busy": "2025-07-28T10:47:26.144848Z",
     "iopub.status.idle": "2025-07-28T10:47:26.150757Z",
     "shell.execute_reply": "2025-07-28T10:47:26.149770Z"
    },
    "papermill": {
     "duration": 0.036347,
     "end_time": "2025-07-28T10:47:26.152564",
     "exception": false,
     "start_time": "2025-07-28T10:47:26.116217",
     "status": "completed"
    },
    "tags": []
   },
   "outputs": [],
   "source": [
    "y_true = y_true.squeeze()"
   ]
  },
  {
   "cell_type": "code",
   "execution_count": 48,
   "id": "3a58a54a-1e68-46b9-927a-df01f18aebc8",
   "metadata": {
    "execution": {
     "iopub.execute_input": "2025-07-28T10:47:26.204119Z",
     "iopub.status.busy": "2025-07-28T10:47:26.203044Z",
     "iopub.status.idle": "2025-07-28T10:47:27.170133Z",
     "shell.execute_reply": "2025-07-28T10:47:27.169112Z"
    },
    "papermill": {
     "duration": 0.99669,
     "end_time": "2025-07-28T10:47:27.172210",
     "exception": false,
     "start_time": "2025-07-28T10:47:26.175520",
     "status": "completed"
    },
    "tags": []
   },
   "outputs": [],
   "source": [
    "from fairness_multiverse.conformal import evaluate_sets\n",
    "\n",
    "# Evaluate coverage and average set size on test data\n",
    "metrics = evaluate_sets(pred_sets, y_true)"
   ]
  },
  {
   "cell_type": "markdown",
   "id": "2b569c12-9aaa-4c88-98c9-bbcd0cf3ebb8",
   "metadata": {
    "papermill": {
     "duration": 0.02584,
     "end_time": "2025-07-28T10:47:27.226919",
     "exception": false,
     "start_time": "2025-07-28T10:47:27.201079",
     "status": "completed"
    },
    "tags": []
   },
   "source": [
    "# CP Metrics"
   ]
  },
  {
   "cell_type": "code",
   "execution_count": 49,
   "id": "5ce0a5cb-201f-45a0-ade5-94c7f0bd6095",
   "metadata": {
    "execution": {
     "iopub.execute_input": "2025-07-28T10:47:27.273641Z",
     "iopub.status.busy": "2025-07-28T10:47:27.273116Z",
     "iopub.status.idle": "2025-07-28T10:47:27.282302Z",
     "shell.execute_reply": "2025-07-28T10:47:27.281573Z"
    },
    "papermill": {
     "duration": 0.032165,
     "end_time": "2025-07-28T10:47:27.283841",
     "exception": false,
     "start_time": "2025-07-28T10:47:27.251676",
     "status": "completed"
    },
    "tags": []
   },
   "outputs": [
    {
     "data": {
      "text/plain": [
       "{'coverage': 0.908014714078698, 'avg_size': 1.2309887415003902}"
      ]
     },
     "execution_count": 49,
     "metadata": {},
     "output_type": "execute_result"
    }
   ],
   "source": [
    "metrics"
   ]
  },
  {
   "cell_type": "code",
   "execution_count": 50,
   "id": "9b9a838d-31c9-430b-ae14-12baee460d17",
   "metadata": {
    "execution": {
     "iopub.execute_input": "2025-07-28T10:47:27.316109Z",
     "iopub.status.busy": "2025-07-28T10:47:27.315722Z",
     "iopub.status.idle": "2025-07-28T10:47:27.320866Z",
     "shell.execute_reply": "2025-07-28T10:47:27.320089Z"
    },
    "papermill": {
     "duration": 0.025128,
     "end_time": "2025-07-28T10:47:27.322269",
     "exception": false,
     "start_time": "2025-07-28T10:47:27.297141",
     "status": "completed"
    },
    "tags": []
   },
   "outputs": [],
   "source": [
    "example_universe = universe.copy()\n",
    "universe_training_size = example_universe.get(\"training_size\")\n",
    "universe_scale = example_universe.get(\"scale\")\n",
    "universe_model = example_universe.get(\"model\")\n",
    "universe_exclude_features = example_universe.get(\"exclude_features\")\n",
    "universe_exclude_subgroups = example_universe.get(\"exclude_subgroups\")"
   ]
  },
  {
   "cell_type": "code",
   "execution_count": 51,
   "id": "f4b6a8ac-9dc0-4245-8a91-5b3b5999c4f9",
   "metadata": {
    "execution": {
     "iopub.execute_input": "2025-07-28T10:47:27.350372Z",
     "iopub.status.busy": "2025-07-28T10:47:27.349826Z",
     "iopub.status.idle": "2025-07-28T10:47:27.356624Z",
     "shell.execute_reply": "2025-07-28T10:47:27.355590Z"
    },
    "papermill": {
     "duration": 0.023143,
     "end_time": "2025-07-28T10:47:27.358891",
     "exception": false,
     "start_time": "2025-07-28T10:47:27.335748",
     "status": "completed"
    },
    "tags": []
   },
   "outputs": [],
   "source": [
    "cp_metrics_dict = {\n",
    "    \"universe_id\": [universe_id],\n",
    "    \"universe_training_size\": [universe_training_size],\n",
    "    \"universe_scale\": [universe_scale],\n",
    "    \"universe_model\": [universe_model],\n",
    "    \"universe_exclude_features\": [universe_exclude_features],\n",
    "    \"universe_exclude_subgroups\": [universe_exclude_subgroups],\n",
    "    \"q_hat\": [q_hat],\n",
    "    \"coverage\": [metrics[\"coverage\"]],\n",
    "    \"avg_size\": [metrics[\"avg_size\"]],\n",
    "}"
   ]
  },
  {
   "cell_type": "code",
   "execution_count": 52,
   "id": "908acbb1-0371-4915-85ca-3fa520d2efe2",
   "metadata": {
    "execution": {
     "iopub.execute_input": "2025-07-28T10:47:27.420907Z",
     "iopub.status.busy": "2025-07-28T10:47:27.420551Z",
     "iopub.status.idle": "2025-07-28T10:47:27.427172Z",
     "shell.execute_reply": "2025-07-28T10:47:27.426462Z"
    },
    "papermill": {
     "duration": 0.0317,
     "end_time": "2025-07-28T10:47:27.428458",
     "exception": false,
     "start_time": "2025-07-28T10:47:27.396758",
     "status": "completed"
    },
    "tags": []
   },
   "outputs": [
    {
     "data": {
      "text/plain": [
       "{'universe_id': ['7356332513e921f03f0b809f4585ceb1'],\n",
       " 'universe_training_size': ['1k'],\n",
       " 'universe_scale': ['scale'],\n",
       " 'universe_model': ['elasticnet'],\n",
       " 'universe_exclude_features': ['age'],\n",
       " 'universe_exclude_subgroups': ['keep-all'],\n",
       " 'q_hat': [0.7599015744548383],\n",
       " 'coverage': [0.908014714078698],\n",
       " 'avg_size': [1.2309887415003902]}"
      ]
     },
     "execution_count": 52,
     "metadata": {},
     "output_type": "execute_result"
    }
   ],
   "source": [
    "cp_metrics_dict"
   ]
  },
  {
   "cell_type": "code",
   "execution_count": 53,
   "id": "33007efc-14e9-4ec6-97ac-56a455c82265",
   "metadata": {
    "execution": {
     "iopub.execute_input": "2025-07-28T10:47:27.456103Z",
     "iopub.status.busy": "2025-07-28T10:47:27.455651Z",
     "iopub.status.idle": "2025-07-28T10:47:27.460942Z",
     "shell.execute_reply": "2025-07-28T10:47:27.459876Z"
    },
    "papermill": {
     "duration": 0.020699,
     "end_time": "2025-07-28T10:47:27.462838",
     "exception": false,
     "start_time": "2025-07-28T10:47:27.442139",
     "status": "completed"
    },
    "tags": []
   },
   "outputs": [],
   "source": [
    "cp_metrics_df = pd.DataFrame(cp_metrics_dict)"
   ]
  },
  {
   "cell_type": "code",
   "execution_count": 54,
   "id": "db12611b-57b2-4910-b9d0-355adfd6e7bf",
   "metadata": {
    "execution": {
     "iopub.execute_input": "2025-07-28T10:47:27.505659Z",
     "iopub.status.busy": "2025-07-28T10:47:27.505212Z",
     "iopub.status.idle": "2025-07-28T10:47:27.526097Z",
     "shell.execute_reply": "2025-07-28T10:47:27.525031Z"
    },
    "papermill": {
     "duration": 0.042757,
     "end_time": "2025-07-28T10:47:27.527901",
     "exception": false,
     "start_time": "2025-07-28T10:47:27.485144",
     "status": "completed"
    },
    "tags": []
   },
   "outputs": [
    {
     "data": {
      "text/html": [
       "<div>\n",
       "<style scoped>\n",
       "    .dataframe tbody tr th:only-of-type {\n",
       "        vertical-align: middle;\n",
       "    }\n",
       "\n",
       "    .dataframe tbody tr th {\n",
       "        vertical-align: top;\n",
       "    }\n",
       "\n",
       "    .dataframe thead th {\n",
       "        text-align: right;\n",
       "    }\n",
       "</style>\n",
       "<table border=\"1\" class=\"dataframe\">\n",
       "  <thead>\n",
       "    <tr style=\"text-align: right;\">\n",
       "      <th></th>\n",
       "      <th>universe_id</th>\n",
       "      <th>universe_training_size</th>\n",
       "      <th>universe_scale</th>\n",
       "      <th>universe_model</th>\n",
       "      <th>universe_exclude_features</th>\n",
       "      <th>universe_exclude_subgroups</th>\n",
       "      <th>q_hat</th>\n",
       "      <th>coverage</th>\n",
       "      <th>avg_size</th>\n",
       "    </tr>\n",
       "  </thead>\n",
       "  <tbody>\n",
       "    <tr>\n",
       "      <th>0</th>\n",
       "      <td>7356332513e921f03f0b809f4585ceb1</td>\n",
       "      <td>1k</td>\n",
       "      <td>scale</td>\n",
       "      <td>elasticnet</td>\n",
       "      <td>age</td>\n",
       "      <td>keep-all</td>\n",
       "      <td>0.759902</td>\n",
       "      <td>0.908015</td>\n",
       "      <td>1.230989</td>\n",
       "    </tr>\n",
       "  </tbody>\n",
       "</table>\n",
       "</div>"
      ],
      "text/plain": [
       "                        universe_id universe_training_size universe_scale  \\\n",
       "0  7356332513e921f03f0b809f4585ceb1                     1k          scale   \n",
       "\n",
       "  universe_model universe_exclude_features universe_exclude_subgroups  \\\n",
       "0     elasticnet                       age                   keep-all   \n",
       "\n",
       "      q_hat  coverage  avg_size  \n",
       "0  0.759902  0.908015  1.230989  "
      ]
     },
     "execution_count": 54,
     "metadata": {},
     "output_type": "execute_result"
    }
   ],
   "source": [
    "cp_metrics_df"
   ]
  },
  {
   "cell_type": "code",
   "execution_count": 55,
   "id": "b7fbde55-a0a1-47e4-9af6-fe4a17fa8c61",
   "metadata": {
    "execution": {
     "iopub.execute_input": "2025-07-28T10:47:27.562483Z",
     "iopub.status.busy": "2025-07-28T10:47:27.561887Z",
     "iopub.status.idle": "2025-07-28T10:47:27.567027Z",
     "shell.execute_reply": "2025-07-28T10:47:27.566222Z"
    },
    "papermill": {
     "duration": 0.020621,
     "end_time": "2025-07-28T10:47:27.568704",
     "exception": false,
     "start_time": "2025-07-28T10:47:27.548083",
     "status": "completed"
    },
    "tags": []
   },
   "outputs": [],
   "source": [
    "# Conditional Coverage & looking at subgroups"
   ]
  },
  {
   "cell_type": "code",
   "execution_count": 56,
   "id": "027ae886-68dd-4141-96c7-805a5450e1ef",
   "metadata": {
    "execution": {
     "iopub.execute_input": "2025-07-28T10:47:27.623483Z",
     "iopub.status.busy": "2025-07-28T10:47:27.623109Z",
     "iopub.status.idle": "2025-07-28T10:47:27.882828Z",
     "shell.execute_reply": "2025-07-28T10:47:27.881611Z"
    },
    "papermill": {
     "duration": 0.288273,
     "end_time": "2025-07-28T10:47:27.884732",
     "exception": false,
     "start_time": "2025-07-28T10:47:27.596459",
     "status": "completed"
    },
    "tags": []
   },
   "outputs": [],
   "source": [
    "from fairness_multiverse.conformal import build_cp_groups\n",
    "\n",
    "cp_groups_df = build_cp_groups(pred_sets, y_true, X_test.index, org_test)\n",
    "#needs universe_id and setting"
   ]
  },
  {
   "cell_type": "code",
   "execution_count": 57,
   "id": "01d5802c-663a-4d1f-9d69-e036faaffbf7",
   "metadata": {
    "execution": {
     "iopub.execute_input": "2025-07-28T10:47:27.945717Z",
     "iopub.status.busy": "2025-07-28T10:47:27.945341Z",
     "iopub.status.idle": "2025-07-28T10:47:27.949976Z",
     "shell.execute_reply": "2025-07-28T10:47:27.948773Z"
    },
    "papermill": {
     "duration": 0.037624,
     "end_time": "2025-07-28T10:47:27.951760",
     "exception": false,
     "start_time": "2025-07-28T10:47:27.914136",
     "status": "completed"
    },
    "tags": []
   },
   "outputs": [],
   "source": [
    "#delete\n",
    "#cp_groups_df"
   ]
  },
  {
   "cell_type": "code",
   "execution_count": 58,
   "id": "fa424af1-d1eb-443d-b717-2d279ada8408",
   "metadata": {
    "execution": {
     "iopub.execute_input": "2025-07-28T10:47:28.011708Z",
     "iopub.status.busy": "2025-07-28T10:47:28.011118Z",
     "iopub.status.idle": "2025-07-28T10:47:28.016546Z",
     "shell.execute_reply": "2025-07-28T10:47:28.015513Z"
    },
    "papermill": {
     "duration": 0.038037,
     "end_time": "2025-07-28T10:47:28.018127",
     "exception": false,
     "start_time": "2025-07-28T10:47:27.980090",
     "status": "completed"
    },
    "tags": []
   },
   "outputs": [],
   "source": [
    "#delete\n",
    "#percentage = (cp_groups_df['nongerman_female'] == 1).mean() * 100\n",
    "#print(percentage)\n"
   ]
  },
  {
   "cell_type": "code",
   "execution_count": 59,
   "id": "6cbdab96-b2b2-45af-ad54-d0516db2e28d",
   "metadata": {
    "execution": {
     "iopub.execute_input": "2025-07-28T10:47:28.076718Z",
     "iopub.status.busy": "2025-07-28T10:47:28.076248Z",
     "iopub.status.idle": "2025-07-28T10:47:29.755708Z",
     "shell.execute_reply": "2025-07-28T10:47:29.754475Z"
    },
    "papermill": {
     "duration": 1.710819,
     "end_time": "2025-07-28T10:47:29.758306",
     "exception": false,
     "start_time": "2025-07-28T10:47:28.047487",
     "status": "completed"
    },
    "tags": []
   },
   "outputs": [],
   "source": [
    "# Define covered = 1 if true_label is in the predicted set\n",
    "cp_groups_df['covered'] = cp_groups_df.apply(\n",
    "    lambda r: int(r['true_label'] in r['pred_set']),\n",
    "    axis=1\n",
    ")"
   ]
  },
  {
   "cell_type": "code",
   "execution_count": 60,
   "id": "338ff529-1a6b-4b87-a931-8e4788d52aad",
   "metadata": {
    "execution": {
     "iopub.execute_input": "2025-07-28T10:47:29.836038Z",
     "iopub.status.busy": "2025-07-28T10:47:29.835486Z",
     "iopub.status.idle": "2025-07-28T10:47:29.842402Z",
     "shell.execute_reply": "2025-07-28T10:47:29.841078Z"
    },
    "papermill": {
     "duration": 0.048773,
     "end_time": "2025-07-28T10:47:29.845094",
     "exception": false,
     "start_time": "2025-07-28T10:47:29.796321",
     "status": "completed"
    },
    "tags": []
   },
   "outputs": [],
   "source": [
    "#cp_groups_df"
   ]
  },
  {
   "cell_type": "code",
   "execution_count": 61,
   "id": "90032e27-66df-4540-9169-4e89cfbaa758",
   "metadata": {
    "execution": {
     "iopub.execute_input": "2025-07-28T10:47:29.919070Z",
     "iopub.status.busy": "2025-07-28T10:47:29.918013Z",
     "iopub.status.idle": "2025-07-28T10:47:29.934678Z",
     "shell.execute_reply": "2025-07-28T10:47:29.933315Z"
    },
    "papermill": {
     "duration": 0.053162,
     "end_time": "2025-07-28T10:47:29.936607",
     "exception": false,
     "start_time": "2025-07-28T10:47:29.883445",
     "status": "completed"
    },
    "tags": []
   },
   "outputs": [],
   "source": [
    "subgroups = ['frau1','nongerman','nongerman_male','nongerman_female']\n",
    "\n",
    "# Conditional coverage for subgroup==1\n",
    "cond_coverage = {\n",
    "    g: cp_groups_df.loc[cp_groups_df[g]==1, 'covered'].mean()\n",
    "    for g in subgroups\n",
    "}"
   ]
  },
  {
   "cell_type": "code",
   "execution_count": 62,
   "id": "1e348fb1-b9c3-45bc-ba23-f016827a7e0d",
   "metadata": {
    "execution": {
     "iopub.execute_input": "2025-07-28T10:47:29.987382Z",
     "iopub.status.busy": "2025-07-28T10:47:29.986461Z",
     "iopub.status.idle": "2025-07-28T10:47:29.995183Z",
     "shell.execute_reply": "2025-07-28T10:47:29.994120Z"
    },
    "papermill": {
     "duration": 0.036284,
     "end_time": "2025-07-28T10:47:29.996907",
     "exception": false,
     "start_time": "2025-07-28T10:47:29.960623",
     "status": "completed"
    },
    "tags": []
   },
   "outputs": [
    {
     "data": {
      "text/plain": [
       "{'frau1': 0.9094217549534978,\n",
       " 'nongerman': 0.9143322292707573,\n",
       " 'nongerman_male': 0.9274070071151941,\n",
       " 'nongerman_female': 0.8926974664679582}"
      ]
     },
     "execution_count": 62,
     "metadata": {},
     "output_type": "execute_result"
    }
   ],
   "source": [
    "cond_coverage"
   ]
  },
  {
   "cell_type": "code",
   "execution_count": 63,
   "id": "f5093324-c3dd-4d63-bc4c-8d945e5c8bbb",
   "metadata": {
    "execution": {
     "iopub.execute_input": "2025-07-28T10:47:30.047067Z",
     "iopub.status.busy": "2025-07-28T10:47:30.046567Z",
     "iopub.status.idle": "2025-07-28T10:47:30.054716Z",
     "shell.execute_reply": "2025-07-28T10:47:30.053646Z"
    },
    "papermill": {
     "duration": 0.035592,
     "end_time": "2025-07-28T10:47:30.056558",
     "exception": false,
     "start_time": "2025-07-28T10:47:30.020966",
     "status": "completed"
    },
    "tags": []
   },
   "outputs": [],
   "source": [
    "for subgroup, cov in cond_coverage.items():\n",
    "    cp_metrics_df[f\"cov_{subgroup}\"] = cov"
   ]
  },
  {
   "cell_type": "code",
   "execution_count": 64,
   "id": "6e872e10-dbe5-49e8-b554-5030c98ff75d",
   "metadata": {
    "execution": {
     "iopub.execute_input": "2025-07-28T10:47:30.112727Z",
     "iopub.status.busy": "2025-07-28T10:47:30.112156Z",
     "iopub.status.idle": "2025-07-28T10:47:30.131745Z",
     "shell.execute_reply": "2025-07-28T10:47:30.130853Z"
    },
    "papermill": {
     "duration": 0.047068,
     "end_time": "2025-07-28T10:47:30.133448",
     "exception": false,
     "start_time": "2025-07-28T10:47:30.086380",
     "status": "completed"
    },
    "tags": []
   },
   "outputs": [
    {
     "data": {
      "text/html": [
       "<div>\n",
       "<style scoped>\n",
       "    .dataframe tbody tr th:only-of-type {\n",
       "        vertical-align: middle;\n",
       "    }\n",
       "\n",
       "    .dataframe tbody tr th {\n",
       "        vertical-align: top;\n",
       "    }\n",
       "\n",
       "    .dataframe thead th {\n",
       "        text-align: right;\n",
       "    }\n",
       "</style>\n",
       "<table border=\"1\" class=\"dataframe\">\n",
       "  <thead>\n",
       "    <tr style=\"text-align: right;\">\n",
       "      <th></th>\n",
       "      <th>universe_id</th>\n",
       "      <th>universe_training_size</th>\n",
       "      <th>universe_scale</th>\n",
       "      <th>universe_model</th>\n",
       "      <th>universe_exclude_features</th>\n",
       "      <th>universe_exclude_subgroups</th>\n",
       "      <th>q_hat</th>\n",
       "      <th>coverage</th>\n",
       "      <th>avg_size</th>\n",
       "      <th>cov_frau1</th>\n",
       "      <th>cov_nongerman</th>\n",
       "      <th>cov_nongerman_male</th>\n",
       "      <th>cov_nongerman_female</th>\n",
       "    </tr>\n",
       "  </thead>\n",
       "  <tbody>\n",
       "    <tr>\n",
       "      <th>0</th>\n",
       "      <td>7356332513e921f03f0b809f4585ceb1</td>\n",
       "      <td>1k</td>\n",
       "      <td>scale</td>\n",
       "      <td>elasticnet</td>\n",
       "      <td>age</td>\n",
       "      <td>keep-all</td>\n",
       "      <td>0.759902</td>\n",
       "      <td>0.908015</td>\n",
       "      <td>1.230989</td>\n",
       "      <td>0.909422</td>\n",
       "      <td>0.914332</td>\n",
       "      <td>0.927407</td>\n",
       "      <td>0.892697</td>\n",
       "    </tr>\n",
       "  </tbody>\n",
       "</table>\n",
       "</div>"
      ],
      "text/plain": [
       "                        universe_id universe_training_size universe_scale  \\\n",
       "0  7356332513e921f03f0b809f4585ceb1                     1k          scale   \n",
       "\n",
       "  universe_model universe_exclude_features universe_exclude_subgroups  \\\n",
       "0     elasticnet                       age                   keep-all   \n",
       "\n",
       "      q_hat  coverage  avg_size  cov_frau1  cov_nongerman  cov_nongerman_male  \\\n",
       "0  0.759902  0.908015  1.230989   0.909422       0.914332            0.927407   \n",
       "\n",
       "   cov_nongerman_female  \n",
       "0              0.892697  "
      ]
     },
     "execution_count": 64,
     "metadata": {},
     "output_type": "execute_result"
    }
   ],
   "source": [
    "cp_metrics_df"
   ]
  },
  {
   "cell_type": "markdown",
   "id": "33774451",
   "metadata": {
    "papermill": {
     "duration": 0.029325,
     "end_time": "2025-07-28T10:47:30.192194",
     "exception": false,
     "start_time": "2025-07-28T10:47:30.162869",
     "status": "completed"
    },
    "tags": []
   },
   "source": [
    "# (Fairness) Metrics"
   ]
  },
  {
   "cell_type": "code",
   "execution_count": 65,
   "id": "debc5d62",
   "metadata": {
    "execution": {
     "iopub.execute_input": "2025-07-28T10:47:30.251942Z",
     "iopub.status.busy": "2025-07-28T10:47:30.251165Z",
     "iopub.status.idle": "2025-07-28T10:47:30.275126Z",
     "shell.execute_reply": "2025-07-28T10:47:30.272544Z"
    },
    "papermill": {
     "duration": 0.056227,
     "end_time": "2025-07-28T10:47:30.277116",
     "exception": false,
     "start_time": "2025-07-28T10:47:30.220889",
     "status": "completed"
    },
    "tags": []
   },
   "outputs": [],
   "source": [
    "# do I need to include maxdeutsch1.missing?\n",
    "\n",
    "import numpy as np\n",
    "\n",
    "colname_to_bin = \"maxdeutsch1\"\n",
    "majority_value = org_train[colname_to_bin].mode()[0]\n",
    "\n",
    "org_test[\"majmin\"] = np.where(org_test[colname_to_bin] == majority_value, \"majority\", \"minority\")"
   ]
  },
  {
   "cell_type": "code",
   "execution_count": 66,
   "id": "06a50de5",
   "metadata": {
    "execution": {
     "iopub.execute_input": "2025-07-28T10:47:30.338930Z",
     "iopub.status.busy": "2025-07-28T10:47:30.338270Z",
     "iopub.status.idle": "2025-07-28T10:47:33.442605Z",
     "shell.execute_reply": "2025-07-28T10:47:33.441517Z"
    },
    "papermill": {
     "duration": 3.137464,
     "end_time": "2025-07-28T10:47:33.444705",
     "exception": false,
     "start_time": "2025-07-28T10:47:30.307241",
     "status": "completed"
    },
    "tags": []
   },
   "outputs": [],
   "source": [
    "example_universe = universe.copy()\n",
    "example_universe[\"cutoff\"] = example_universe[\"cutoff\"][0]\n",
    "example_universe[\"eval_fairness_grouping\"] = example_universe[\"eval_fairness_grouping\"][0]\n",
    "fairness_dict, metric_frame = universe_analysis.compute_metrics(\n",
    "    example_universe,\n",
    "    y_pred_prob=probs_test,\n",
    "    y_test=y_true,\n",
    "    org_test=org_test,\n",
    ")"
   ]
  },
  {
   "cell_type": "markdown",
   "id": "f95d4e02",
   "metadata": {
    "papermill": {
     "duration": 0.025218,
     "end_time": "2025-07-28T10:47:33.499305",
     "exception": false,
     "start_time": "2025-07-28T10:47:33.474087",
     "status": "completed"
    },
    "tags": []
   },
   "source": [
    "# Overall"
   ]
  },
  {
   "cell_type": "markdown",
   "id": "bdee4871",
   "metadata": {
    "papermill": {
     "duration": 0.02504,
     "end_time": "2025-07-28T10:47:33.548189",
     "exception": false,
     "start_time": "2025-07-28T10:47:33.523149",
     "status": "completed"
    },
    "tags": []
   },
   "source": [
    "Fairness\n",
    "Main fairness target: Equalized Odds. Seems to be a better fit than equal opportunity, since we're not only interested in Y = 1. Seems to be a better fit than demographic parity, since we also care about accuracy, not just equal distribution of preds.\n",
    "\n",
    "Pick column for computation of fairness metrics\n",
    "\n",
    "Performance\n",
    "Overall performance measures, most interesting in relation to the measures split by group below"
   ]
  },
  {
   "cell_type": "code",
   "execution_count": 67,
   "id": "c4e067c6",
   "metadata": {
    "execution": {
     "iopub.execute_input": "2025-07-28T10:47:33.602483Z",
     "iopub.status.busy": "2025-07-28T10:47:33.601975Z",
     "iopub.status.idle": "2025-07-28T10:47:33.611515Z",
     "shell.execute_reply": "2025-07-28T10:47:33.610517Z"
    },
    "papermill": {
     "duration": 0.039432,
     "end_time": "2025-07-28T10:47:33.613198",
     "exception": false,
     "start_time": "2025-07-28T10:47:33.573766",
     "status": "completed"
    },
    "tags": []
   },
   "outputs": [
    {
     "data": {
      "text/plain": [
       "accuracy                   0.218983\n",
       "balanced accuracy          0.536574\n",
       "f1                         0.240463\n",
       "precision                  0.137369\n",
       "false positive rate        0.890617\n",
       "false negative rate        0.036236\n",
       "selection rate             0.900000\n",
       "count                  89710.000000\n",
       "dtype: float64"
      ]
     },
     "execution_count": 67,
     "metadata": {},
     "output_type": "execute_result"
    }
   ],
   "source": [
    "metric_frame.overall"
   ]
  },
  {
   "cell_type": "markdown",
   "id": "e968fe9d",
   "metadata": {
    "papermill": {
     "duration": 0.026231,
     "end_time": "2025-07-28T10:47:33.665898",
     "exception": false,
     "start_time": "2025-07-28T10:47:33.639667",
     "status": "completed"
    },
    "tags": []
   },
   "source": [
    "By Group"
   ]
  },
  {
   "cell_type": "code",
   "execution_count": 68,
   "id": "ec325bce",
   "metadata": {
    "execution": {
     "iopub.execute_input": "2025-07-28T10:47:33.720192Z",
     "iopub.status.busy": "2025-07-28T10:47:33.719701Z",
     "iopub.status.idle": "2025-07-28T10:47:33.737239Z",
     "shell.execute_reply": "2025-07-28T10:47:33.736228Z"
    },
    "papermill": {
     "duration": 0.046319,
     "end_time": "2025-07-28T10:47:33.739075",
     "exception": false,
     "start_time": "2025-07-28T10:47:33.692756",
     "status": "completed"
    },
    "tags": []
   },
   "outputs": [
    {
     "data": {
      "text/html": [
       "<div>\n",
       "<style scoped>\n",
       "    .dataframe tbody tr th:only-of-type {\n",
       "        vertical-align: middle;\n",
       "    }\n",
       "\n",
       "    .dataframe tbody tr th {\n",
       "        vertical-align: top;\n",
       "    }\n",
       "\n",
       "    .dataframe thead th {\n",
       "        text-align: right;\n",
       "    }\n",
       "</style>\n",
       "<table border=\"1\" class=\"dataframe\">\n",
       "  <thead>\n",
       "    <tr style=\"text-align: right;\">\n",
       "      <th></th>\n",
       "      <th>accuracy</th>\n",
       "      <th>balanced accuracy</th>\n",
       "      <th>f1</th>\n",
       "      <th>precision</th>\n",
       "      <th>false positive rate</th>\n",
       "      <th>false negative rate</th>\n",
       "      <th>selection rate</th>\n",
       "      <th>count</th>\n",
       "    </tr>\n",
       "    <tr>\n",
       "      <th>majmin</th>\n",
       "      <th></th>\n",
       "      <th></th>\n",
       "      <th></th>\n",
       "      <th></th>\n",
       "      <th></th>\n",
       "      <th></th>\n",
       "      <th></th>\n",
       "      <th></th>\n",
       "    </tr>\n",
       "  </thead>\n",
       "  <tbody>\n",
       "    <tr>\n",
       "      <th>majority</th>\n",
       "      <td>0.233136</td>\n",
       "      <td>0.541678</td>\n",
       "      <td>0.248796</td>\n",
       "      <td>0.142894</td>\n",
       "      <td>0.877694</td>\n",
       "      <td>0.03895</td>\n",
       "      <td>0.888709</td>\n",
       "      <td>69170.0</td>\n",
       "    </tr>\n",
       "    <tr>\n",
       "      <th>minority</th>\n",
       "      <td>0.171324</td>\n",
       "      <td>0.520468</td>\n",
       "      <td>0.213266</td>\n",
       "      <td>0.119738</td>\n",
       "      <td>0.933304</td>\n",
       "      <td>0.02576</td>\n",
       "      <td>0.938023</td>\n",
       "      <td>20540.0</td>\n",
       "    </tr>\n",
       "  </tbody>\n",
       "</table>\n",
       "</div>"
      ],
      "text/plain": [
       "          accuracy  balanced accuracy        f1  precision  \\\n",
       "majmin                                                       \n",
       "majority  0.233136           0.541678  0.248796   0.142894   \n",
       "minority  0.171324           0.520468  0.213266   0.119738   \n",
       "\n",
       "          false positive rate  false negative rate  selection rate    count  \n",
       "majmin                                                                       \n",
       "majority             0.877694              0.03895        0.888709  69170.0  \n",
       "minority             0.933304              0.02576        0.938023  20540.0  "
      ]
     },
     "execution_count": 68,
     "metadata": {},
     "output_type": "execute_result"
    }
   ],
   "source": [
    "metric_frame.by_group"
   ]
  },
  {
   "cell_type": "code",
   "execution_count": 69,
   "id": "a9ddbe63",
   "metadata": {
    "execution": {
     "iopub.execute_input": "2025-07-28T10:47:33.796092Z",
     "iopub.status.busy": "2025-07-28T10:47:33.795129Z",
     "iopub.status.idle": "2025-07-28T10:47:36.320632Z",
     "shell.execute_reply": "2025-07-28T10:47:36.319031Z"
    },
    "papermill": {
     "duration": 2.55639,
     "end_time": "2025-07-28T10:47:36.322522",
     "exception": false,
     "start_time": "2025-07-28T10:47:33.766132",
     "status": "completed"
    },
    "tags": []
   },
   "outputs": [
    {
     "data": {
      "text/plain": [
       "array([[<Axes: title={'center': 'accuracy'}, xlabel='majmin'>,\n",
       "        <Axes: title={'center': 'balanced accuracy'}, xlabel='majmin'>,\n",
       "        <Axes: title={'center': 'f1'}, xlabel='majmin'>],\n",
       "       [<Axes: title={'center': 'precision'}, xlabel='majmin'>,\n",
       "        <Axes: title={'center': 'false positive rate'}, xlabel='majmin'>,\n",
       "        <Axes: title={'center': 'false negative rate'}, xlabel='majmin'>],\n",
       "       [<Axes: title={'center': 'selection rate'}, xlabel='majmin'>,\n",
       "        <Axes: title={'center': 'count'}, xlabel='majmin'>,\n",
       "        <Axes: xlabel='majmin'>]], dtype=object)"
      ]
     },
     "execution_count": 69,
     "metadata": {},
     "output_type": "execute_result"
    },
    {
     "data": {
      "image/png": "[encoded data removed]",
      "text/plain": [
       "<Figure size 1200x800 with 9 Axes>"
      ]
     },
     "metadata": {},
     "output_type": "display_data"
    }
   ],
   "source": [
    "# In a graphic\n",
    "metric_frame.by_group.plot.bar(\n",
    "    subplots=True,\n",
    "    layout=[3, 3],\n",
    "    legend=False,\n",
    "    figsize=[12, 8],\n",
    "    title=\"Show all metrics\",\n",
    ")"
   ]
  },
  {
   "cell_type": "markdown",
   "id": "f57a0bac",
   "metadata": {
    "papermill": {
     "duration": 0.027613,
     "end_time": "2025-07-28T10:47:36.379826",
     "exception": false,
     "start_time": "2025-07-28T10:47:36.352213",
     "status": "completed"
    },
    "tags": []
   },
   "source": [
    "# Final Output"
   ]
  },
  {
   "cell_type": "code",
   "execution_count": 70,
   "id": "96d280a3",
   "metadata": {
    "execution": {
     "iopub.execute_input": "2025-07-28T10:47:36.443217Z",
     "iopub.status.busy": "2025-07-28T10:47:36.442360Z",
     "iopub.status.idle": "2025-07-28T10:47:36.453261Z",
     "shell.execute_reply": "2025-07-28T10:47:36.452298Z"
    },
    "papermill": {
     "duration": 0.044063,
     "end_time": "2025-07-28T10:47:36.454932",
     "exception": false,
     "start_time": "2025-07-28T10:47:36.410869",
     "status": "completed"
    },
    "tags": []
   },
   "outputs": [
    {
     "data": {
      "text/plain": [
       "4"
      ]
     },
     "execution_count": 70,
     "metadata": {},
     "output_type": "execute_result"
    }
   ],
   "source": [
    "sub_universes = universe_analysis.generate_sub_universes()\n",
    "len(sub_universes)"
   ]
  },
  {
   "cell_type": "code",
   "execution_count": 71,
   "id": "92adf7ba",
   "metadata": {
    "execution": {
     "iopub.execute_input": "2025-07-28T10:47:36.520231Z",
     "iopub.status.busy": "2025-07-28T10:47:36.519730Z",
     "iopub.status.idle": "2025-07-28T10:47:36.526480Z",
     "shell.execute_reply": "2025-07-28T10:47:36.525589Z"
    },
    "papermill": {
     "duration": 0.040929,
     "end_time": "2025-07-28T10:47:36.528022",
     "exception": false,
     "start_time": "2025-07-28T10:47:36.487093",
     "status": "completed"
    },
    "tags": []
   },
   "outputs": [],
   "source": [
    "def filter_sub_universe_data(sub_universe, org_test):\n",
    "    # Keep all rows — no filtering\n",
    "    keep_rows_mask = np.ones(org_test.shape[0], dtype=bool)\n",
    "\n",
    "    print(f\"[INFO] Keeping all rows: {keep_rows_mask.sum()} rows retained.\")\n",
    "    return keep_rows_mask"
   ]
  },
  {
   "cell_type": "code",
   "execution_count": 72,
   "id": "4a759155",
   "metadata": {
    "execution": {
     "iopub.execute_input": "2025-07-28T10:47:36.588509Z",
     "iopub.status.busy": "2025-07-28T10:47:36.588017Z",
     "iopub.status.idle": "2025-07-28T10:47:48.109838Z",
     "shell.execute_reply": "2025-07-28T10:47:48.108889Z"
    },
    "papermill": {
     "duration": 11.554818,
     "end_time": "2025-07-28T10:47:48.111690",
     "exception": false,
     "start_time": "2025-07-28T10:47:36.556872",
     "status": "completed"
    },
    "tags": []
   },
   "outputs": [
    {
     "name": "stdout",
     "output_type": "stream",
     "text": [
      "Stopping execution_time clock.\n",
      "[INFO] Keeping all rows: 89710 rows retained.\n"
     ]
    },
    {
     "name": "stdout",
     "output_type": "stream",
     "text": [
      "[INFO] Keeping all rows: 89710 rows retained.\n"
     ]
    },
    {
     "name": "stdout",
     "output_type": "stream",
     "text": [
      "[INFO] Keeping all rows: 89710 rows retained.\n"
     ]
    },
    {
     "name": "stdout",
     "output_type": "stream",
     "text": [
      "[INFO] Keeping all rows: 89710 rows retained.\n"
     ]
    },
    {
     "data": {
      "text/html": [
       "<div>\n",
       "<style scoped>\n",
       "    .dataframe tbody tr th:only-of-type {\n",
       "        vertical-align: middle;\n",
       "    }\n",
       "\n",
       "    .dataframe tbody tr th {\n",
       "        vertical-align: top;\n",
       "    }\n",
       "\n",
       "    .dataframe thead th {\n",
       "        text-align: right;\n",
       "    }\n",
       "</style>\n",
       "<table border=\"1\" class=\"dataframe\">\n",
       "  <thead>\n",
       "    <tr style=\"text-align: right;\">\n",
       "      <th></th>\n",
       "      <th>run_no</th>\n",
       "      <th>universe_id</th>\n",
       "      <th>universe_settings</th>\n",
       "      <th>execution_time</th>\n",
       "      <th>test_size_n</th>\n",
       "      <th>test_size_frac</th>\n",
       "      <th>fair_main_equalized_odds_difference</th>\n",
       "      <th>fair_main_equalized_odds_ratio</th>\n",
       "      <th>fair_main_demographic_parity_difference</th>\n",
       "      <th>fair_main_demographic_parity_ratio</th>\n",
       "      <th>...</th>\n",
       "      <th>perf_grp_precision_0</th>\n",
       "      <th>perf_grp_precision_1</th>\n",
       "      <th>perf_grp_false positive rate_0</th>\n",
       "      <th>perf_grp_false positive rate_1</th>\n",
       "      <th>perf_grp_false negative rate_0</th>\n",
       "      <th>perf_grp_false negative rate_1</th>\n",
       "      <th>perf_grp_selection rate_0</th>\n",
       "      <th>perf_grp_selection rate_1</th>\n",
       "      <th>perf_grp_count_0</th>\n",
       "      <th>perf_grp_count_1</th>\n",
       "    </tr>\n",
       "  </thead>\n",
       "  <tbody>\n",
       "    <tr>\n",
       "      <th>0</th>\n",
       "      <td>11</td>\n",
       "      <td>7356332513e921f03f0b809f4585ceb1</td>\n",
       "      <td>{\"cutoff\": \"quantile_0.1\", \"eval_fairness_grou...</td>\n",
       "      <td>33.868946</td>\n",
       "      <td>89710</td>\n",
       "      <td>1.0</td>\n",
       "      <td>0.055609</td>\n",
       "      <td>0.940417</td>\n",
       "      <td>0.049314</td>\n",
       "      <td>0.947427</td>\n",
       "      <td>...</td>\n",
       "      <td>NaN</td>\n",
       "      <td>NaN</td>\n",
       "      <td>NaN</td>\n",
       "      <td>NaN</td>\n",
       "      <td>NaN</td>\n",
       "      <td>NaN</td>\n",
       "      <td>NaN</td>\n",
       "      <td>NaN</td>\n",
       "      <td>NaN</td>\n",
       "      <td>NaN</td>\n",
       "    </tr>\n",
       "    <tr>\n",
       "      <th>0</th>\n",
       "      <td>11</td>\n",
       "      <td>7356332513e921f03f0b809f4585ceb1</td>\n",
       "      <td>{\"cutoff\": \"quantile_0.1\", \"eval_fairness_grou...</td>\n",
       "      <td>33.868946</td>\n",
       "      <td>89710</td>\n",
       "      <td>1.0</td>\n",
       "      <td>0.055609</td>\n",
       "      <td>0.940417</td>\n",
       "      <td>0.049314</td>\n",
       "      <td>0.947427</td>\n",
       "      <td>...</td>\n",
       "      <td>0.119738</td>\n",
       "      <td>0.142894</td>\n",
       "      <td>0.933304</td>\n",
       "      <td>0.877694</td>\n",
       "      <td>0.025760</td>\n",
       "      <td>0.038950</td>\n",
       "      <td>0.938023</td>\n",
       "      <td>0.888709</td>\n",
       "      <td>20540.0</td>\n",
       "      <td>69170.0</td>\n",
       "    </tr>\n",
       "    <tr>\n",
       "      <th>0</th>\n",
       "      <td>11</td>\n",
       "      <td>7356332513e921f03f0b809f4585ceb1</td>\n",
       "      <td>{\"cutoff\": \"quantile_0.25\", \"eval_fairness_gro...</td>\n",
       "      <td>33.868946</td>\n",
       "      <td>89710</td>\n",
       "      <td>1.0</td>\n",
       "      <td>0.132997</td>\n",
       "      <td>0.852692</td>\n",
       "      <td>0.068629</td>\n",
       "      <td>0.910372</td>\n",
       "      <td>...</td>\n",
       "      <td>NaN</td>\n",
       "      <td>NaN</td>\n",
       "      <td>NaN</td>\n",
       "      <td>NaN</td>\n",
       "      <td>NaN</td>\n",
       "      <td>NaN</td>\n",
       "      <td>NaN</td>\n",
       "      <td>NaN</td>\n",
       "      <td>NaN</td>\n",
       "      <td>NaN</td>\n",
       "    </tr>\n",
       "    <tr>\n",
       "      <th>0</th>\n",
       "      <td>11</td>\n",
       "      <td>7356332513e921f03f0b809f4585ceb1</td>\n",
       "      <td>{\"cutoff\": \"quantile_0.25\", \"eval_fairness_gro...</td>\n",
       "      <td>33.868946</td>\n",
       "      <td>89710</td>\n",
       "      <td>1.0</td>\n",
       "      <td>0.132997</td>\n",
       "      <td>0.852692</td>\n",
       "      <td>0.068629</td>\n",
       "      <td>0.910372</td>\n",
       "      <td>...</td>\n",
       "      <td>0.127322</td>\n",
       "      <td>0.155804</td>\n",
       "      <td>0.687596</td>\n",
       "      <td>0.744828</td>\n",
       "      <td>0.230152</td>\n",
       "      <td>0.097155</td>\n",
       "      <td>0.697079</td>\n",
       "      <td>0.765708</td>\n",
       "      <td>20540.0</td>\n",
       "      <td>69170.0</td>\n",
       "    </tr>\n",
       "  </tbody>\n",
       "</table>\n",
       "<p>4 rows × 50 columns</p>\n",
       "</div>"
      ],
      "text/plain": [
       "  run_no                       universe_id  \\\n",
       "0     11  7356332513e921f03f0b809f4585ceb1   \n",
       "0     11  7356332513e921f03f0b809f4585ceb1   \n",
       "0     11  7356332513e921f03f0b809f4585ceb1   \n",
       "0     11  7356332513e921f03f0b809f4585ceb1   \n",
       "\n",
       "                                   universe_settings  execution_time  \\\n",
       "0  {\"cutoff\": \"quantile_0.1\", \"eval_fairness_grou...       33.868946   \n",
       "0  {\"cutoff\": \"quantile_0.1\", \"eval_fairness_grou...       33.868946   \n",
       "0  {\"cutoff\": \"quantile_0.25\", \"eval_fairness_gro...       33.868946   \n",
       "0  {\"cutoff\": \"quantile_0.25\", \"eval_fairness_gro...       33.868946   \n",
       "\n",
       "   test_size_n  test_size_frac  fair_main_equalized_odds_difference  \\\n",
       "0        89710             1.0                             0.055609   \n",
       "0        89710             1.0                             0.055609   \n",
       "0        89710             1.0                             0.132997   \n",
       "0        89710             1.0                             0.132997   \n",
       "\n",
       "   fair_main_equalized_odds_ratio  fair_main_demographic_parity_difference  \\\n",
       "0                        0.940417                                 0.049314   \n",
       "0                        0.940417                                 0.049314   \n",
       "0                        0.852692                                 0.068629   \n",
       "0                        0.852692                                 0.068629   \n",
       "\n",
       "   fair_main_demographic_parity_ratio  ...  perf_grp_precision_0  \\\n",
       "0                            0.947427  ...                   NaN   \n",
       "0                            0.947427  ...              0.119738   \n",
       "0                            0.910372  ...                   NaN   \n",
       "0                            0.910372  ...              0.127322   \n",
       "\n",
       "   perf_grp_precision_1  perf_grp_false positive rate_0  \\\n",
       "0                   NaN                             NaN   \n",
       "0              0.142894                        0.933304   \n",
       "0                   NaN                             NaN   \n",
       "0              0.155804                        0.687596   \n",
       "\n",
       "   perf_grp_false positive rate_1  perf_grp_false negative rate_0  \\\n",
       "0                             NaN                             NaN   \n",
       "0                        0.877694                        0.025760   \n",
       "0                             NaN                             NaN   \n",
       "0                        0.744828                        0.230152   \n",
       "\n",
       "   perf_grp_false negative rate_1  perf_grp_selection rate_0  \\\n",
       "0                             NaN                        NaN   \n",
       "0                        0.038950                   0.938023   \n",
       "0                             NaN                        NaN   \n",
       "0                        0.097155                   0.697079   \n",
       "\n",
       "   perf_grp_selection rate_1  perf_grp_count_0  perf_grp_count_1  \n",
       "0                        NaN               NaN               NaN  \n",
       "0                   0.888709           20540.0           69170.0  \n",
       "0                        NaN               NaN               NaN  \n",
       "0                   0.765708           20540.0           69170.0  \n",
       "\n",
       "[4 rows x 50 columns]"
      ]
     },
     "execution_count": 72,
     "metadata": {},
     "output_type": "execute_result"
    }
   ],
   "source": [
    "final_output = universe_analysis.generate_final_output(\n",
    "    y_pred_prob=probs_test,\n",
    "    y_test=y_true,\n",
    "    org_test=org_test,\n",
    "    filter_data=filter_sub_universe_data,\n",
    "    cp_metrics_df=cp_metrics_df,\n",
    "    save=True,\n",
    ")\n",
    "final_output"
   ]
  },
  {
   "cell_type": "code",
   "execution_count": null,
   "id": "721ff514-cb11-46f8-b6fc-50392f74b5cb",
   "metadata": {
    "papermill": {
     "duration": 0.033852,
     "end_time": "2025-07-28T10:47:48.182427",
     "exception": false,
     "start_time": "2025-07-28T10:47:48.148575",
     "status": "completed"
    },
    "tags": []
   },
   "outputs": [],
   "source": []
  }
 ],
 "metadata": {
  "celltoolbar": "Tags",
  "kernelspec": {
   "display_name": "Python (CMA Fairness)",
   "language": "python",
   "name": "cma_fair_env"
  },
  "language_info": {
   "codemirror_mode": {
    "name": "ipython",
    "version": 3
   },
   "file_extension": ".py",
   "mimetype": "text/x-python",
   "name": "python",
   "nbconvert_exporter": "python",
   "pygments_lexer": "ipython3",
   "version": "3.10.12"
  },
  "papermill": {
   "default_parameters": {},
   "duration": 49.998468,
   "end_time": "2025-07-28T10:47:49.035368",
   "environment_variables": {},
   "exception": null,
   "input_path": "universe_analysis.ipynb",
   "output_path": "output/runs/11/notebooks/m_11-7356332513e921f03f0b809f4585ceb1.ipynb",
   "parameters": {
    "output_dir": "output",
    "run_no": "11",
    "seed": "2023",
    "universe": "{\"cutoff\": [\"quantile_0.1\", \"quantile_0.25\"], \"eval_fairness_grouping\": [\"majority-minority\", \"nationality-all\"], \"exclude_features\": \"age\", \"exclude_subgroups\": \"keep-all\", \"model\": \"elasticnet\", \"scale\": \"scale\", \"training_size\": \"1k\"}",
    "universe_id": "7356332513e921f03f0b809f4585ceb1"
   },
   "start_time": "2025-07-28T10:46:59.036900",
   "version": "2.6.0"
  }
 },
 "nbformat": 4,
 "nbformat_minor": 5
}