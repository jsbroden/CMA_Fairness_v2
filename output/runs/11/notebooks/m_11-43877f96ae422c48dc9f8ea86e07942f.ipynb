{
 "cells": [
  {
   "cell_type": "code",
   "execution_count": 1,
   "id": "f159f837-637b-42ba-96b5-ec9a68c44524",
   "metadata": {
    "execution": {
     "iopub.execute_input": "2025-07-28T11:03:58.943043Z",
     "iopub.status.busy": "2025-07-28T11:03:58.942647Z",
     "iopub.status.idle": "2025-07-28T11:03:58.956792Z",
     "shell.execute_reply": "2025-07-28T11:03:58.955558Z"
    },
    "papermill": {
     "duration": 0.040371,
     "end_time": "2025-07-28T11:03:58.958565",
     "exception": false,
     "start_time": "2025-07-28T11:03:58.918194",
     "status": "completed"
    },
    "tags": []
   },
   "outputs": [
    {
     "name": "stdout",
     "output_type": "stream",
     "text": [
      "/dss/dsshome1/0C/ra93lal2/cma/CMA_Fairness_v2\n"
     ]
    },
    {
     "name": "stderr",
     "output_type": "stream",
     "text": [
      "/dss/dsshome1/0C/ra93lal2/.local/share/virtualenvs/CMA_Fairness_v2-3j10GkSs/lib/python3.10/site-packages/IPython/core/magics/osm.py:393: UserWarning: This is now an optional IPython functionality, using bookmarks requires you to install the `pickleshare` library.\n",
      "  bkms = self.shell.db.get('bookmarks', {})\n",
      "/dss/dsshome1/0C/ra93lal2/.local/share/virtualenvs/CMA_Fairness_v2-3j10GkSs/lib/python3.10/site-packages/IPython/core/magics/osm.py:417: UserWarning: This is now an optional IPython functionality, setting dhist requires you to install the `pickleshare` library.\n",
      "  self.shell.db['dhist'] = compress_dhist(dhist)[-100:]\n"
     ]
    }
   ],
   "source": [
    "%cd ~/cma/CMA_Fairness_v2"
   ]
  },
  {
   "cell_type": "markdown",
   "id": "de2603b9",
   "metadata": {
    "papermill": {
     "duration": 0.018828,
     "end_time": "2025-07-28T11:03:58.996471",
     "exception": false,
     "start_time": "2025-07-28T11:03:58.977643",
     "status": "completed"
    },
    "tags": []
   },
   "source": [
    "The following cell holds the definition of our parameters, these values can be overriden by rendering the with e.g. the following command:\n",
    "\n",
    "papermill -p alpha 0.2 -p ratio 0.3 universe_analysis.ipynb output/test_run.ipynb"
   ]
  },
  {
   "cell_type": "code",
   "execution_count": 2,
   "id": "a80968a0-40bb-4fa9-85ef-2d5eefb01975",
   "metadata": {
    "execution": {
     "iopub.execute_input": "2025-07-28T11:03:59.036723Z",
     "iopub.status.busy": "2025-07-28T11:03:59.035326Z",
     "iopub.status.idle": "2025-07-28T11:03:59.044582Z",
     "shell.execute_reply": "2025-07-28T11:03:59.043721Z"
    },
    "papermill": {
     "duration": 0.031838,
     "end_time": "2025-07-28T11:03:59.046832",
     "exception": false,
     "start_time": "2025-07-28T11:03:59.014994",
     "status": "completed"
    },
    "tags": []
   },
   "outputs": [
    {
     "name": "stdout",
     "output_type": "stream",
     "text": [
      "Current working directory: /dss/dsshome1/0C/ra93lal2/cma/CMA_Fairness_v2\n"
     ]
    }
   ],
   "source": [
    "import os\n",
    "print(\"Current working directory:\", os.getcwd())"
   ]
  },
  {
   "cell_type": "code",
   "execution_count": 3,
   "id": "2dce4c03",
   "metadata": {
    "execution": {
     "iopub.execute_input": "2025-07-28T11:03:59.099481Z",
     "iopub.status.busy": "2025-07-28T11:03:59.098714Z",
     "iopub.status.idle": "2025-07-28T11:03:59.104982Z",
     "shell.execute_reply": "2025-07-28T11:03:59.104085Z"
    },
    "papermill": {
     "duration": 0.034737,
     "end_time": "2025-07-28T11:03:59.106845",
     "exception": false,
     "start_time": "2025-07-28T11:03:59.072108",
     "status": "completed"
    },
    "tags": [
     "parameters"
    ]
   },
   "outputs": [],
   "source": [
    "run_no = 0\n",
    "universe_id = \"test\"\n",
    "universe = {\n",
    "    \"training_size\": \"2014\", # \"25k\", \"5k\", \"1k\", \"2014\"\n",
    "    \"scale\": \"scale\", # \"scale\", \"do-not-scale\",\n",
    "    #\"stratify_split\": \"target\", # \"none\", \"target\", \"protected-attribute\", \"both\",\n",
    "    \"model\": \"elasticnet\", # \"logreg\", \"penalized_logreg\", \"rf\", \"gbm\", \"elasticnet\"\n",
    "    \"cutoff\": [\"quantile_0.15\", \"quantile_0.30\"],\n",
    "    \"exclude_features\": \"age\", # \"none\", \"nationality\", \"sex\", \"nationality-sex\", \"age\"\n",
    "    \"exclude_subgroups\": \"keep-all\", # \"keep-all\", \"drop-non-german\"\n",
    "    \"eval_fairness_grouping\": [\"majority-minority\", \"nationality-all\"]\n",
    "}\n",
    "\n",
    "output_dir=\"./output\"\n",
    "seed=0"
   ]
  },
  {
   "cell_type": "code",
   "execution_count": 4,
   "id": "f88d3bca",
   "metadata": {
    "execution": {
     "iopub.execute_input": "2025-07-28T11:03:59.159695Z",
     "iopub.status.busy": "2025-07-28T11:03:59.158884Z",
     "iopub.status.idle": "2025-07-28T11:03:59.164942Z",
     "shell.execute_reply": "2025-07-28T11:03:59.163845Z"
    },
    "papermill": {
     "duration": 0.03465,
     "end_time": "2025-07-28T11:03:59.167125",
     "exception": false,
     "start_time": "2025-07-28T11:03:59.132475",
     "status": "completed"
    },
    "tags": [
     "injected-parameters"
    ]
   },
   "outputs": [],
   "source": [
    "# Parameters\n",
    "universe_id = \"43877f96ae422c48dc9f8ea86e07942f\"\n",
    "run_no = \"11\"\n",
    "universe = \"{\\\"cutoff\\\": [\\\"quantile_0.1\\\", \\\"quantile_0.25\\\"], \\\"eval_fairness_grouping\\\": [\\\"majority-minority\\\", \\\"nationality-all\\\"], \\\"exclude_features\\\": \\\"none\\\", \\\"exclude_subgroups\\\": \\\"keep-all\\\", \\\"model\\\": \\\"penalized_logreg\\\", \\\"scale\\\": \\\"do-not-scale\\\", \\\"training_size\\\": \\\"2014\\\"}\"\n",
    "output_dir = \"output\"\n",
    "seed = \"2023\"\n"
   ]
  },
  {
   "cell_type": "code",
   "execution_count": 5,
   "id": "1650acaf",
   "metadata": {
    "execution": {
     "iopub.execute_input": "2025-07-28T11:03:59.220145Z",
     "iopub.status.busy": "2025-07-28T11:03:59.219307Z",
     "iopub.status.idle": "2025-07-28T11:03:59.225799Z",
     "shell.execute_reply": "2025-07-28T11:03:59.224488Z"
    },
    "papermill": {
     "duration": 0.034996,
     "end_time": "2025-07-28T11:03:59.227928",
     "exception": false,
     "start_time": "2025-07-28T11:03:59.192932",
     "status": "completed"
    },
    "tags": []
   },
   "outputs": [],
   "source": [
    "import json\n",
    "# Parse universe into dict if it is passed as a string\n",
    "if isinstance(universe, str):\n",
    "    universe = json.loads(universe)"
   ]
  },
  {
   "cell_type": "code",
   "execution_count": 6,
   "id": "16620c48",
   "metadata": {
    "execution": {
     "iopub.execute_input": "2025-07-28T11:03:59.281414Z",
     "iopub.status.busy": "2025-07-28T11:03:59.280228Z",
     "iopub.status.idle": "2025-07-28T11:03:59.334933Z",
     "shell.execute_reply": "2025-07-28T11:03:59.333737Z"
    },
    "papermill": {
     "duration": 0.084435,
     "end_time": "2025-07-28T11:03:59.337596",
     "exception": false,
     "start_time": "2025-07-28T11:03:59.253161",
     "status": "completed"
    },
    "tags": []
   },
   "outputs": [],
   "source": [
    "# Auto-reload the custom package\n",
    "%load_ext autoreload\n",
    "%autoreload 1\n",
    "%aimport fairness_multiverse"
   ]
  },
  {
   "cell_type": "code",
   "execution_count": 7,
   "id": "01c5c9f3",
   "metadata": {
    "execution": {
     "iopub.execute_input": "2025-07-28T11:03:59.388337Z",
     "iopub.status.busy": "2025-07-28T11:03:59.387445Z",
     "iopub.status.idle": "2025-07-28T11:04:01.667180Z",
     "shell.execute_reply": "2025-07-28T11:04:01.666123Z"
    },
    "papermill": {
     "duration": 2.308009,
     "end_time": "2025-07-28T11:04:01.669445",
     "exception": false,
     "start_time": "2025-07-28T11:03:59.361436",
     "status": "completed"
    },
    "tags": []
   },
   "outputs": [],
   "source": [
    "from fairness_multiverse.universe import UniverseAnalysis\n",
    "\n",
    "universe_analysis = UniverseAnalysis(\n",
    "    run_no = run_no,\n",
    "    universe_id = universe_id,\n",
    "    universe = universe,\n",
    "    output_dir=output_dir,\n",
    ")"
   ]
  },
  {
   "cell_type": "code",
   "execution_count": 8,
   "id": "106241f5",
   "metadata": {
    "execution": {
     "iopub.execute_input": "2025-07-28T11:04:01.716439Z",
     "iopub.status.busy": "2025-07-28T11:04:01.715906Z",
     "iopub.status.idle": "2025-07-28T11:04:01.724785Z",
     "shell.execute_reply": "2025-07-28T11:04:01.723744Z"
    },
    "papermill": {
     "duration": 0.033093,
     "end_time": "2025-07-28T11:04:01.726640",
     "exception": false,
     "start_time": "2025-07-28T11:04:01.693547",
     "status": "completed"
    },
    "tags": []
   },
   "outputs": [
    {
     "name": "stdout",
     "output_type": "stream",
     "text": [
      "Using Seed: 2023\n"
     ]
    }
   ],
   "source": [
    "import numpy as np\n",
    "parsed_seed = int(seed)\n",
    "np.random.seed(parsed_seed)\n",
    "print(f\"Using Seed: {parsed_seed}\")"
   ]
  },
  {
   "cell_type": "markdown",
   "id": "e0ebdc57",
   "metadata": {
    "papermill": {
     "duration": 0.010517,
     "end_time": "2025-07-28T11:04:01.755406",
     "exception": false,
     "start_time": "2025-07-28T11:04:01.744889",
     "status": "completed"
    },
    "tags": []
   },
   "source": [
    "# Loading Data"
   ]
  },
  {
   "cell_type": "markdown",
   "id": "681925a3",
   "metadata": {
    "papermill": {
     "duration": 0.010753,
     "end_time": "2025-07-28T11:04:01.777260",
     "exception": false,
     "start_time": "2025-07-28T11:04:01.766507",
     "status": "completed"
    },
    "tags": []
   },
   "source": [
    "Load siab_train, siab_test, siab_calib and/or \n",
    "load siab_train_features, siab_train_labels"
   ]
  },
  {
   "cell_type": "code",
   "execution_count": 9,
   "id": "f0496b8a",
   "metadata": {
    "execution": {
     "iopub.execute_input": "2025-07-28T11:04:01.816791Z",
     "iopub.status.busy": "2025-07-28T11:04:01.815773Z",
     "iopub.status.idle": "2025-07-28T11:04:13.705053Z",
     "shell.execute_reply": "2025-07-28T11:04:13.703899Z"
    },
    "papermill": {
     "duration": 11.913435,
     "end_time": "2025-07-28T11:04:13.706719",
     "exception": false,
     "start_time": "2025-07-28T11:04:01.793284",
     "status": "completed"
    },
    "tags": []
   },
   "outputs": [
    {
     "name": "stdout",
     "output_type": "stream",
     "text": [
      "Loading SIAB data from cache: data/siab_cached.csv.gz\n"
     ]
    },
    {
     "name": "stdout",
     "output_type": "stream",
     "text": [
      "(643690, 164)\n"
     ]
    }
   ],
   "source": [
    "from pathlib import Path\n",
    "import pandas as pd\n",
    "\n",
    "# File paths\n",
    "raw_file = Path(\"data/raw/siab.csv\")\n",
    "cache_file = Path(\"data/siab_cached.csv.gz\")\n",
    "\n",
    "# Ensure cache directory exists\n",
    "cache_file.parent.mkdir(parents=True, exist_ok=True)\n",
    "\n",
    "# Load with simple caching\n",
    "if cache_file.exists():\n",
    "    print(f\"Loading SIAB data from cache: {cache_file}\")\n",
    "    siab = pd.read_csv(cache_file, compression='gzip')\n",
    "else:\n",
    "    print(f\"Cache not found. Reading raw SIAB data: {raw_file}\")\n",
    "    siab = pd.read_csv(raw_file)\n",
    "    siab.to_csv(cache_file, index=False, compression='gzip')\n",
    "    print(f\"Cached SIAB data to: {cache_file}\")\n",
    "\n",
    "# Now use `siab` DataFrame as needed\n",
    "print(siab.shape)"
   ]
  },
  {
   "cell_type": "code",
   "execution_count": 10,
   "id": "db0ca512-5f53-4dba-abdb-a2888bca41ba",
   "metadata": {
    "execution": {
     "iopub.execute_input": "2025-07-28T11:04:13.750016Z",
     "iopub.status.busy": "2025-07-28T11:04:13.749306Z",
     "iopub.status.idle": "2025-07-28T11:04:13.755109Z",
     "shell.execute_reply": "2025-07-28T11:04:13.754170Z"
    },
    "papermill": {
     "duration": 0.027492,
     "end_time": "2025-07-28T11:04:13.756828",
     "exception": false,
     "start_time": "2025-07-28T11:04:13.729336",
     "status": "completed"
    },
    "tags": []
   },
   "outputs": [],
   "source": [
    "#siab"
   ]
  },
  {
   "cell_type": "code",
   "execution_count": 11,
   "id": "a0edb063",
   "metadata": {
    "execution": {
     "iopub.execute_input": "2025-07-28T11:04:13.797174Z",
     "iopub.status.busy": "2025-07-28T11:04:13.796494Z",
     "iopub.status.idle": "2025-07-28T11:04:13.802384Z",
     "shell.execute_reply": "2025-07-28T11:04:13.801250Z"
    },
    "papermill": {
     "duration": 0.0279,
     "end_time": "2025-07-28T11:04:13.804236",
     "exception": false,
     "start_time": "2025-07-28T11:04:13.776336",
     "status": "completed"
    },
    "tags": []
   },
   "outputs": [],
   "source": [
    "#import pandas as pd\n",
    "#\n",
    "#X_train = pd.read_csv(\"./data/X_train.csv\")\n",
    "#y_train = pd.read_csv(\"./data/y_train.csv\")"
   ]
  },
  {
   "cell_type": "code",
   "execution_count": 12,
   "id": "63d08085",
   "metadata": {
    "execution": {
     "iopub.execute_input": "2025-07-28T11:04:13.846169Z",
     "iopub.status.busy": "2025-07-28T11:04:13.845647Z",
     "iopub.status.idle": "2025-07-28T11:04:13.850856Z",
     "shell.execute_reply": "2025-07-28T11:04:13.849855Z"
    },
    "papermill": {
     "duration": 0.026825,
     "end_time": "2025-07-28T11:04:13.852515",
     "exception": false,
     "start_time": "2025-07-28T11:04:13.825690",
     "status": "completed"
    },
    "tags": []
   },
   "outputs": [],
   "source": [
    "#X_test = pd.read_csv(\"./data/X_test.csv\")\n",
    "#y_true = pd.read_csv(\"./data/y_test.csv\")"
   ]
  },
  {
   "cell_type": "code",
   "execution_count": 13,
   "id": "98a8d0fa-1d3d-4ed8-bb2c-281470e24add",
   "metadata": {
    "execution": {
     "iopub.execute_input": "2025-07-28T11:04:13.898398Z",
     "iopub.status.busy": "2025-07-28T11:04:13.897623Z",
     "iopub.status.idle": "2025-07-28T11:04:13.903104Z",
     "shell.execute_reply": "2025-07-28T11:04:13.902128Z"
    },
    "papermill": {
     "duration": 0.030177,
     "end_time": "2025-07-28T11:04:13.904905",
     "exception": false,
     "start_time": "2025-07-28T11:04:13.874728",
     "status": "completed"
    },
    "tags": []
   },
   "outputs": [],
   "source": [
    "# Calibration data for conformal\n",
    "#X_calib = pd.read_csv(\"./data/X_calib.csv\")\n",
    "#y_calib = pd.read_csv(\"./data/y_calib.csv\")"
   ]
  },
  {
   "cell_type": "markdown",
   "id": "9901737e-04df-44f0-9100-f5ad144ed040",
   "metadata": {
    "papermill": {
     "duration": 0.020453,
     "end_time": "2025-07-28T11:04:13.946749",
     "exception": false,
     "start_time": "2025-07-28T11:04:13.926296",
     "status": "completed"
    },
    "tags": []
   },
   "source": [
    "# Splitting Data and Setting Training Data Size"
   ]
  },
  {
   "cell_type": "code",
   "execution_count": 14,
   "id": "acbc8f7d-8fc8-4e86-8c59-5dcb0f58384b",
   "metadata": {
    "execution": {
     "iopub.execute_input": "2025-07-28T11:04:13.988977Z",
     "iopub.status.busy": "2025-07-28T11:04:13.988254Z",
     "iopub.status.idle": "2025-07-28T11:04:13.996692Z",
     "shell.execute_reply": "2025-07-28T11:04:13.995644Z"
    },
    "papermill": {
     "duration": 0.03197,
     "end_time": "2025-07-28T11:04:13.998403",
     "exception": false,
     "start_time": "2025-07-28T11:04:13.966433",
     "status": "completed"
    },
    "tags": []
   },
   "outputs": [],
   "source": [
    "def sample_by_year(df, training_size, random_state=42):\n",
    "    if training_size == \"2014\":\n",
    "        return df[df[\"year\"] == 2014].reset_index(drop=True)\n",
    "    \n",
    "    size_map = {\n",
    "        \"25k\": 5000,\n",
    "        \"5k\": 1000,\n",
    "        \"1k\": 200\n",
    "    }\n",
    "\n",
    "    if training_size not in size_map:\n",
    "        return df.reset_index(drop=True)  # use all data\n",
    "\n",
    "    n_per_year = size_map[training_size]\n",
    "    grouped = df.groupby(\"year\")\n",
    "    sampled = grouped.apply(lambda x: x.sample(n=min(n_per_year, len(x)), random_state=random_state))\n",
    "    return sampled.reset_index(drop=True)"
   ]
  },
  {
   "cell_type": "code",
   "execution_count": 15,
   "id": "6d931f52-beaf-43ff-9e78-9d44a448d54e",
   "metadata": {
    "execution": {
     "iopub.execute_input": "2025-07-28T11:04:14.041095Z",
     "iopub.status.busy": "2025-07-28T11:04:14.040555Z",
     "iopub.status.idle": "2025-07-28T11:04:14.193740Z",
     "shell.execute_reply": "2025-07-28T11:04:14.192734Z"
    },
    "papermill": {
     "duration": 0.176929,
     "end_time": "2025-07-28T11:04:14.196020",
     "exception": false,
     "start_time": "2025-07-28T11:04:14.019091",
     "status": "completed"
    },
    "tags": []
   },
   "outputs": [],
   "source": [
    "siab_s = sample_by_year(siab, universe[\"training_size\"])"
   ]
  },
  {
   "cell_type": "code",
   "execution_count": 16,
   "id": "5db0a40e-a4e2-4920-be85-b12ae061d70d",
   "metadata": {
    "execution": {
     "iopub.execute_input": "2025-07-28T11:04:14.239722Z",
     "iopub.status.busy": "2025-07-28T11:04:14.239243Z",
     "iopub.status.idle": "2025-07-28T11:04:14.255271Z",
     "shell.execute_reply": "2025-07-28T11:04:14.254349Z"
    },
    "papermill": {
     "duration": 0.038993,
     "end_time": "2025-07-28T11:04:14.256847",
     "exception": false,
     "start_time": "2025-07-28T11:04:14.217854",
     "status": "completed"
    },
    "tags": []
   },
   "outputs": [
    {
     "data": {
      "text/plain": [
       "year\n",
       "2014    87158\n",
       "dtype: int64"
      ]
     },
     "metadata": {},
     "output_type": "display_data"
    }
   ],
   "source": [
    "display(siab_s.groupby(\"year\").size())"
   ]
  },
  {
   "cell_type": "code",
   "execution_count": 17,
   "id": "a561edb4-d032-42cb-8256-22eac1111c64",
   "metadata": {
    "execution": {
     "iopub.execute_input": "2025-07-28T11:04:14.302899Z",
     "iopub.status.busy": "2025-07-28T11:04:14.302001Z",
     "iopub.status.idle": "2025-07-28T11:04:14.612221Z",
     "shell.execute_reply": "2025-07-28T11:04:14.611162Z"
    },
    "papermill": {
     "duration": 0.336118,
     "end_time": "2025-07-28T11:04:14.614221",
     "exception": false,
     "start_time": "2025-07-28T11:04:14.278103",
     "status": "completed"
    },
    "tags": []
   },
   "outputs": [],
   "source": [
    "siab_train = siab_s[siab_s.year < 2015]\n",
    "siab_calib = siab[siab.year == 2015]\n",
    "siab_test = siab[siab.year == 2016]"
   ]
  },
  {
   "cell_type": "code",
   "execution_count": 18,
   "id": "472de16f-c3db-4916-846b-1f0de9cf1746",
   "metadata": {
    "execution": {
     "iopub.execute_input": "2025-07-28T11:04:14.655442Z",
     "iopub.status.busy": "2025-07-28T11:04:14.654781Z",
     "iopub.status.idle": "2025-07-28T11:04:14.709478Z",
     "shell.execute_reply": "2025-07-28T11:04:14.708451Z"
    },
    "papermill": {
     "duration": 0.077251,
     "end_time": "2025-07-28T11:04:14.711530",
     "exception": false,
     "start_time": "2025-07-28T11:04:14.634279",
     "status": "completed"
    },
    "tags": []
   },
   "outputs": [],
   "source": [
    "X_train = siab_train.iloc[:,4:164]\n",
    "y_train = siab_train.iloc[:, [3]]"
   ]
  },
  {
   "cell_type": "code",
   "execution_count": 19,
   "id": "828c96af-f43a-4ed6-ba47-8ac73a47d56c",
   "metadata": {
    "execution": {
     "iopub.execute_input": "2025-07-28T11:04:14.755562Z",
     "iopub.status.busy": "2025-07-28T11:04:14.754665Z",
     "iopub.status.idle": "2025-07-28T11:04:14.808836Z",
     "shell.execute_reply": "2025-07-28T11:04:14.807778Z"
    },
    "papermill": {
     "duration": 0.077479,
     "end_time": "2025-07-28T11:04:14.810605",
     "exception": false,
     "start_time": "2025-07-28T11:04:14.733126",
     "status": "completed"
    },
    "tags": []
   },
   "outputs": [],
   "source": [
    "X_calib = siab_calib.iloc[:,4:164]\n",
    "y_calib = siab_calib.iloc[:, [3]]"
   ]
  },
  {
   "cell_type": "code",
   "execution_count": 20,
   "id": "c34be9c3-6bd6-476e-acd3-845840e303be",
   "metadata": {
    "execution": {
     "iopub.execute_input": "2025-07-28T11:04:14.852356Z",
     "iopub.status.busy": "2025-07-28T11:04:14.851884Z",
     "iopub.status.idle": "2025-07-28T11:04:14.904654Z",
     "shell.execute_reply": "2025-07-28T11:04:14.903503Z"
    },
    "papermill": {
     "duration": 0.076025,
     "end_time": "2025-07-28T11:04:14.907216",
     "exception": false,
     "start_time": "2025-07-28T11:04:14.831191",
     "status": "completed"
    },
    "tags": []
   },
   "outputs": [],
   "source": [
    "X_test = siab_test.iloc[:,4:164]\n",
    "y_true = siab_test.iloc[:, [3]]"
   ]
  },
  {
   "cell_type": "code",
   "execution_count": 21,
   "id": "e6c733c5",
   "metadata": {
    "execution": {
     "iopub.execute_input": "2025-07-28T11:04:14.965457Z",
     "iopub.status.busy": "2025-07-28T11:04:14.965013Z",
     "iopub.status.idle": "2025-07-28T11:04:15.107475Z",
     "shell.execute_reply": "2025-07-28T11:04:15.106412Z"
    },
    "papermill": {
     "duration": 0.173505,
     "end_time": "2025-07-28T11:04:15.109400",
     "exception": false,
     "start_time": "2025-07-28T11:04:14.935895",
     "status": "completed"
    },
    "tags": []
   },
   "outputs": [],
   "source": [
    "# Auxiliary data needed downstream in the pipeline\n",
    "\n",
    "org_train = X_train.copy()\n",
    "org_test = X_test.copy()\n",
    "org_calib = X_calib.copy()"
   ]
  },
  {
   "cell_type": "markdown",
   "id": "0a4a1b33",
   "metadata": {
    "papermill": {
     "duration": 0.019497,
     "end_time": "2025-07-28T11:04:15.148838",
     "exception": false,
     "start_time": "2025-07-28T11:04:15.129341",
     "status": "completed"
    },
    "tags": []
   },
   "source": [
    "# Preprocessing Data"
   ]
  },
  {
   "cell_type": "code",
   "execution_count": 22,
   "id": "ca879031",
   "metadata": {
    "execution": {
     "iopub.execute_input": "2025-07-28T11:04:15.192641Z",
     "iopub.status.busy": "2025-07-28T11:04:15.192021Z",
     "iopub.status.idle": "2025-07-28T11:04:15.199328Z",
     "shell.execute_reply": "2025-07-28T11:04:15.198333Z"
    },
    "papermill": {
     "duration": 0.032231,
     "end_time": "2025-07-28T11:04:15.201757",
     "exception": false,
     "start_time": "2025-07-28T11:04:15.169526",
     "status": "completed"
    },
    "tags": []
   },
   "outputs": [],
   "source": [
    "# EXCLUDE PROTECTED FEATURES\n",
    "# ----------------------\n",
    "# \"exclude_features\": \"none\", # \"nationality\", \"sex\", \"nationality-sex\"\n",
    "\n",
    "excluded_features = universe[\"exclude_features\"].split(\"-\") # split, e.g.: \"nationality-sex\" -> [\"nationality\", \"sex\"]\n",
    "excluded_features_dictionary = {\n",
    "    \"nationality\": [\"maxdeutsch1\", \"maxdeutsch.Missing.\"],\n",
    "    \"sex\": [\"frau1\"],\n",
    "    \"age\": [\"age\"],\n",
    "}\n"
   ]
  },
  {
   "cell_type": "code",
   "execution_count": 23,
   "id": "b745ac60",
   "metadata": {
    "execution": {
     "iopub.execute_input": "2025-07-28T11:04:15.257934Z",
     "iopub.status.busy": "2025-07-28T11:04:15.257101Z",
     "iopub.status.idle": "2025-07-28T11:04:15.263523Z",
     "shell.execute_reply": "2025-07-28T11:04:15.262573Z"
    },
    "papermill": {
     "duration": 0.036528,
     "end_time": "2025-07-28T11:04:15.265572",
     "exception": false,
     "start_time": "2025-07-28T11:04:15.229044",
     "status": "completed"
    },
    "tags": []
   },
   "outputs": [],
   "source": [
    "# Code nice names to column names\n",
    "\n",
    "excluded_features_columns = [\n",
    "    excluded_features_dictionary[f] for f in excluded_features if len(f) > 0 and f != \"none\"\n",
    "]"
   ]
  },
  {
   "cell_type": "code",
   "execution_count": 24,
   "id": "f84f73a2",
   "metadata": {
    "execution": {
     "iopub.execute_input": "2025-07-28T11:04:15.321722Z",
     "iopub.status.busy": "2025-07-28T11:04:15.321168Z",
     "iopub.status.idle": "2025-07-28T11:04:15.328995Z",
     "shell.execute_reply": "2025-07-28T11:04:15.327651Z"
    },
    "papermill": {
     "duration": 0.037824,
     "end_time": "2025-07-28T11:04:15.331204",
     "exception": false,
     "start_time": "2025-07-28T11:04:15.293380",
     "status": "completed"
    },
    "tags": []
   },
   "outputs": [],
   "source": [
    "from utils import flatten_once\n",
    "\n",
    "excluded_features_columns = flatten_once(excluded_features_columns)"
   ]
  },
  {
   "cell_type": "code",
   "execution_count": 25,
   "id": "884dea22",
   "metadata": {
    "execution": {
     "iopub.execute_input": "2025-07-28T11:04:15.386878Z",
     "iopub.status.busy": "2025-07-28T11:04:15.386343Z",
     "iopub.status.idle": "2025-07-28T11:04:15.393063Z",
     "shell.execute_reply": "2025-07-28T11:04:15.391863Z"
    },
    "papermill": {
     "duration": 0.036631,
     "end_time": "2025-07-28T11:04:15.395025",
     "exception": false,
     "start_time": "2025-07-28T11:04:15.358394",
     "status": "completed"
    },
    "tags": []
   },
   "outputs": [],
   "source": [
    "if len(excluded_features_columns) > 0:\n",
    "    print(f\"Dropping features: {excluded_features_columns}\")\n",
    "    X_train.drop(excluded_features_columns, axis=1, inplace=True)"
   ]
  },
  {
   "cell_type": "code",
   "execution_count": 26,
   "id": "95ab8b16",
   "metadata": {
    "execution": {
     "iopub.execute_input": "2025-07-28T11:04:15.451724Z",
     "iopub.status.busy": "2025-07-28T11:04:15.451140Z",
     "iopub.status.idle": "2025-07-28T11:04:15.458780Z",
     "shell.execute_reply": "2025-07-28T11:04:15.457773Z"
    },
    "papermill": {
     "duration": 0.039791,
     "end_time": "2025-07-28T11:04:15.462958",
     "exception": false,
     "start_time": "2025-07-28T11:04:15.423167",
     "status": "completed"
    },
    "tags": []
   },
   "outputs": [],
   "source": [
    "if len(excluded_features_columns) > 0:\n",
    "    print(f\"Dropping features: {excluded_features_columns}\")\n",
    "    X_test.drop(excluded_features_columns, axis=1, inplace=True)"
   ]
  },
  {
   "cell_type": "code",
   "execution_count": 27,
   "id": "1853aaf5-fb9f-46cb-a2b5-8ea4ae2237e4",
   "metadata": {
    "execution": {
     "iopub.execute_input": "2025-07-28T11:04:15.508785Z",
     "iopub.status.busy": "2025-07-28T11:04:15.508300Z",
     "iopub.status.idle": "2025-07-28T11:04:15.514440Z",
     "shell.execute_reply": "2025-07-28T11:04:15.513447Z"
    },
    "papermill": {
     "duration": 0.029232,
     "end_time": "2025-07-28T11:04:15.516133",
     "exception": false,
     "start_time": "2025-07-28T11:04:15.486901",
     "status": "completed"
    },
    "tags": []
   },
   "outputs": [],
   "source": [
    "if len(excluded_features_columns) > 0:\n",
    "    print(f\"Dropping features: {excluded_features_columns}\")\n",
    "    X_calib.drop(excluded_features_columns, axis=1, inplace=True)"
   ]
  },
  {
   "cell_type": "code",
   "execution_count": 28,
   "id": "6727d079-03e5-481e-9d38-292a90b7a0a8",
   "metadata": {
    "execution": {
     "iopub.execute_input": "2025-07-28T11:04:15.559568Z",
     "iopub.status.busy": "2025-07-28T11:04:15.558868Z",
     "iopub.status.idle": "2025-07-28T11:04:15.564105Z",
     "shell.execute_reply": "2025-07-28T11:04:15.563160Z"
    },
    "papermill": {
     "duration": 0.027823,
     "end_time": "2025-07-28T11:04:15.565647",
     "exception": false,
     "start_time": "2025-07-28T11:04:15.537824",
     "status": "completed"
    },
    "tags": []
   },
   "outputs": [],
   "source": [
    "# SPLIT & STRATIFY DATA\n",
    "# ----------------------"
   ]
  },
  {
   "cell_type": "code",
   "execution_count": 29,
   "id": "76c4dc6d",
   "metadata": {
    "execution": {
     "iopub.execute_input": "2025-07-28T11:04:15.624694Z",
     "iopub.status.busy": "2025-07-28T11:04:15.623576Z",
     "iopub.status.idle": "2025-07-28T11:04:15.630589Z",
     "shell.execute_reply": "2025-07-28T11:04:15.629366Z"
    },
    "papermill": {
     "duration": 0.04575,
     "end_time": "2025-07-28T11:04:15.632278",
     "exception": false,
     "start_time": "2025-07-28T11:04:15.586528",
     "status": "completed"
    },
    "tags": []
   },
   "outputs": [],
   "source": [
    "# EXCLUDE CERTAIN SUBGROUPS\n",
    "# ----------------------\n",
    "\n",
    "mode = universe.get(\"exclude_subgroups\", \"keep-all\") \n",
    "# Fetches the exclude_subgroups setting from the universe dict.\n",
    "# Defaults to \"keep-all\" if the key is missing."
   ]
  },
  {
   "cell_type": "code",
   "execution_count": 30,
   "id": "21994072",
   "metadata": {
    "execution": {
     "iopub.execute_input": "2025-07-28T11:04:15.676244Z",
     "iopub.status.busy": "2025-07-28T11:04:15.675712Z",
     "iopub.status.idle": "2025-07-28T11:04:15.682738Z",
     "shell.execute_reply": "2025-07-28T11:04:15.681862Z"
    },
    "papermill": {
     "duration": 0.030714,
     "end_time": "2025-07-28T11:04:15.684281",
     "exception": false,
     "start_time": "2025-07-28T11:04:15.653567",
     "status": "completed"
    },
    "tags": []
   },
   "outputs": [],
   "source": [
    "if mode == \"keep-all\":\n",
    "    keep_mask = pd.Series(True, index=org_train.index)\n",
    "\n",
    "# org_train contains the original feature columns from features_org (in Simson)\n",
    "# features_org contains unprocessed features, for me X_train at beginning ???\n",
    "# For keep-all, creates a boolean Series (keep_mask) of all True, so no rows are removed.\n",
    "\n",
    "elif mode == \"drop-non-german\":\n",
    "    keep_mask = org_train[\"maxdeutsch1\"] == 1 # ??? what about missing values?\n",
    "\n",
    "else:\n",
    "    raise ValueError(f\"Unsupported mode for exclude_subgroups: {mode}\")\n"
   ]
  },
  {
   "cell_type": "code",
   "execution_count": 31,
   "id": "71651440",
   "metadata": {
    "execution": {
     "iopub.execute_input": "2025-07-28T11:04:15.733079Z",
     "iopub.status.busy": "2025-07-28T11:04:15.732378Z",
     "iopub.status.idle": "2025-07-28T11:04:15.741312Z",
     "shell.execute_reply": "2025-07-28T11:04:15.740122Z"
    },
    "papermill": {
     "duration": 0.034884,
     "end_time": "2025-07-28T11:04:15.743151",
     "exception": false,
     "start_time": "2025-07-28T11:04:15.708267",
     "status": "completed"
    },
    "tags": []
   },
   "outputs": [],
   "source": [
    "n_drop = (~keep_mask).sum() # Calculates how many rows are set to be dropped\n",
    "if n_drop > 0:\n",
    "    pct = n_drop / len(keep_mask) * 100\n",
    "    print(f\"Dropping {n_drop} rows ({pct:.2f}%) where mode='{mode}'\")"
   ]
  },
  {
   "cell_type": "code",
   "execution_count": 32,
   "id": "5fb8eee5",
   "metadata": {
    "execution": {
     "iopub.execute_input": "2025-07-28T11:04:15.790052Z",
     "iopub.status.busy": "2025-07-28T11:04:15.789514Z",
     "iopub.status.idle": "2025-07-28T11:04:15.908269Z",
     "shell.execute_reply": "2025-07-28T11:04:15.906984Z"
    },
    "papermill": {
     "duration": 0.144306,
     "end_time": "2025-07-28T11:04:15.910018",
     "exception": false,
     "start_time": "2025-07-28T11:04:15.765712",
     "status": "completed"
    },
    "tags": []
   },
   "outputs": [],
   "source": [
    "X_train = X_train[keep_mask]"
   ]
  },
  {
   "cell_type": "code",
   "execution_count": 33,
   "id": "b202bb3a",
   "metadata": {
    "execution": {
     "iopub.execute_input": "2025-07-28T11:04:15.957588Z",
     "iopub.status.busy": "2025-07-28T11:04:15.956882Z",
     "iopub.status.idle": "2025-07-28T11:04:15.967022Z",
     "shell.execute_reply": "2025-07-28T11:04:15.965717Z"
    },
    "papermill": {
     "duration": 0.037165,
     "end_time": "2025-07-28T11:04:15.969049",
     "exception": false,
     "start_time": "2025-07-28T11:04:15.931884",
     "status": "completed"
    },
    "tags": []
   },
   "outputs": [],
   "source": [
    "y_train = y_train[keep_mask]"
   ]
  },
  {
   "cell_type": "markdown",
   "id": "493e2ac3",
   "metadata": {
    "papermill": {
     "duration": 0.022351,
     "end_time": "2025-07-28T11:04:16.015352",
     "exception": false,
     "start_time": "2025-07-28T11:04:15.993001",
     "status": "completed"
    },
    "tags": []
   },
   "source": [
    "# Model Training"
   ]
  },
  {
   "cell_type": "code",
   "execution_count": 34,
   "id": "679e1268",
   "metadata": {
    "execution": {
     "iopub.execute_input": "2025-07-28T11:04:16.062957Z",
     "iopub.status.busy": "2025-07-28T11:04:16.061887Z",
     "iopub.status.idle": "2025-07-28T11:04:16.173730Z",
     "shell.execute_reply": "2025-07-28T11:04:16.172654Z"
    },
    "papermill": {
     "duration": 0.139015,
     "end_time": "2025-07-28T11:04:16.176339",
     "exception": false,
     "start_time": "2025-07-28T11:04:16.037324",
     "status": "completed"
    },
    "tags": []
   },
   "outputs": [],
   "source": [
    "from sklearn.linear_model import LogisticRegression\n",
    "from sklearn.ensemble import GradientBoostingClassifier, RandomForestClassifier\n",
    "\n",
    "if (universe[\"model\"] == \"logreg\"):\n",
    "    model = LogisticRegression() #penalty=\"none\") #, solver=\"newton-cg\", max_iter=1) # include random_state=19 ?\n",
    "elif (universe[\"model\"] == \"penalized_logreg\"):\n",
    "    model = LogisticRegression(penalty=\"l2\", C=1.0) #, solver=\"newton-cg\", max_iter=1)\n",
    "elif (universe[\"model\"] == \"rf\"):\n",
    "    model = RandomForestClassifier(n_estimators=100, n_jobs=-1)\n",
    "elif (universe[\"model\"] == \"gbm\"):\n",
    "    model = GradientBoostingClassifier()\n",
    "elif (universe[\"model\"] == \"elasticnet\"):\n",
    "    model = LogisticRegression(penalty = 'elasticnet', solver = 'saga', l1_ratio = 0.5, max_iter=5000) # which solver to use?\n",
    "else:\n",
    "    raise \"Unsupported universe.model\""
   ]
  },
  {
   "cell_type": "code",
   "execution_count": 35,
   "id": "0cc8f744",
   "metadata": {
    "execution": {
     "iopub.execute_input": "2025-07-28T11:04:16.244493Z",
     "iopub.status.busy": "2025-07-28T11:04:16.243885Z",
     "iopub.status.idle": "2025-07-28T11:04:16.251549Z",
     "shell.execute_reply": "2025-07-28T11:04:16.250280Z"
    },
    "papermill": {
     "duration": 0.044299,
     "end_time": "2025-07-28T11:04:16.254005",
     "exception": false,
     "start_time": "2025-07-28T11:04:16.209706",
     "status": "completed"
    },
    "tags": []
   },
   "outputs": [],
   "source": [
    "import numpy as np\n",
    "from sklearn.pipeline import Pipeline\n",
    "from sklearn.preprocessing import StandardScaler\n",
    "\n",
    "model = Pipeline([\n",
    "    #(\"continuous_processor\", continuous_processor),\n",
    "    #(\"categorical_preprocessor\", categorical_preprocessor),\n",
    "    (\"scale\", StandardScaler() if universe[\"scale\"] == \"scale\" else None), \n",
    "    (\"model\", model),\n",
    "])"
   ]
  },
  {
   "cell_type": "code",
   "execution_count": 36,
   "id": "9442c04d",
   "metadata": {
    "execution": {
     "iopub.execute_input": "2025-07-28T11:04:16.321657Z",
     "iopub.status.busy": "2025-07-28T11:04:16.321080Z",
     "iopub.status.idle": "2025-07-28T11:04:20.115024Z",
     "shell.execute_reply": "2025-07-28T11:04:20.113945Z"
    },
    "papermill": {
     "duration": 3.830079,
     "end_time": "2025-07-28T11:04:20.116854",
     "exception": false,
     "start_time": "2025-07-28T11:04:16.286775",
     "status": "completed"
    },
    "tags": []
   },
   "outputs": [
    {
     "name": "stderr",
     "output_type": "stream",
     "text": [
      "/dss/dsshome1/0C/ra93lal2/.local/share/virtualenvs/CMA_Fairness_v2-3j10GkSs/lib/python3.10/site-packages/sklearn/linear_model/_logistic.py:444: ConvergenceWarning: lbfgs failed to converge (status=1):\n",
      "STOP: TOTAL NO. of ITERATIONS REACHED LIMIT.\n",
      "\n",
      "Increase the number of iterations (max_iter) or scale the data as shown in:\n",
      "    https://scikit-learn.org/stable/modules/preprocessing.html\n",
      "Please also refer to the documentation for alternative solver options:\n",
      "    https://scikit-learn.org/stable/modules/linear_model.html#logistic-regression\n",
      "  n_iter_i = _check_optimize_result(\n"
     ]
    },
    {
     "data": {
      "text/html": [
       "<style>#sk-container-id-1 {color: black;background-color: white;}#sk-container-id-1 pre{padding: 0;}#sk-container-id-1 div.sk-toggleable {background-color: white;}#sk-container-id-1 label.sk-toggleable__label {cursor: pointer;display: block;width: 100%;margin-bottom: 0;padding: 0.3em;box-sizing: border-box;text-align: center;}#sk-container-id-1 label.sk-toggleable__label-arrow:before {content: \"▸\";float: left;margin-right: 0.25em;color: #696969;}#sk-container-id-1 label.sk-toggleable__label-arrow:hover:before {color: black;}#sk-container-id-1 div.sk-estimator:hover label.sk-toggleable__label-arrow:before {color: black;}#sk-container-id-1 div.sk-toggleable__content {max-height: 0;max-width: 0;overflow: hidden;text-align: left;background-color: #f0f8ff;}#sk-container-id-1 div.sk-toggleable__content pre {margin: 0.2em;color: black;border-radius: 0.25em;background-color: #f0f8ff;}#sk-container-id-1 input.sk-toggleable__control:checked~div.sk-toggleable__content {max-height: 200px;max-width: 100%;overflow: auto;}#sk-container-id-1 input.sk-toggleable__control:checked~label.sk-toggleable__label-arrow:before {content: \"▾\";}#sk-container-id-1 div.sk-estimator input.sk-toggleable__control:checked~label.sk-toggleable__label {background-color: #d4ebff;}#sk-container-id-1 div.sk-label input.sk-toggleable__control:checked~label.sk-toggleable__label {background-color: #d4ebff;}#sk-container-id-1 input.sk-hidden--visually {border: 0;clip: rect(1px 1px 1px 1px);clip: rect(1px, 1px, 1px, 1px);height: 1px;margin: -1px;overflow: hidden;padding: 0;position: absolute;width: 1px;}#sk-container-id-1 div.sk-estimator {font-family: monospace;background-color: #f0f8ff;border: 1px dotted black;border-radius: 0.25em;box-sizing: border-box;margin-bottom: 0.5em;}#sk-container-id-1 div.sk-estimator:hover {background-color: #d4ebff;}#sk-container-id-1 div.sk-parallel-item::after {content: \"\";width: 100%;border-bottom: 1px solid gray;flex-grow: 1;}#sk-container-id-1 div.sk-label:hover label.sk-toggleable__label {background-color: #d4ebff;}#sk-container-id-1 div.sk-serial::before {content: \"\";position: absolute;border-left: 1px solid gray;box-sizing: border-box;top: 0;bottom: 0;left: 50%;z-index: 0;}#sk-container-id-1 div.sk-serial {display: flex;flex-direction: column;align-items: center;background-color: white;padding-right: 0.2em;padding-left: 0.2em;position: relative;}#sk-container-id-1 div.sk-item {position: relative;z-index: 1;}#sk-container-id-1 div.sk-parallel {display: flex;align-items: stretch;justify-content: center;background-color: white;position: relative;}#sk-container-id-1 div.sk-item::before, #sk-container-id-1 div.sk-parallel-item::before {content: \"\";position: absolute;border-left: 1px solid gray;box-sizing: border-box;top: 0;bottom: 0;left: 50%;z-index: -1;}#sk-container-id-1 div.sk-parallel-item {display: flex;flex-direction: column;z-index: 1;position: relative;background-color: white;}#sk-container-id-1 div.sk-parallel-item:first-child::after {align-self: flex-end;width: 50%;}#sk-container-id-1 div.sk-parallel-item:last-child::after {align-self: flex-start;width: 50%;}#sk-container-id-1 div.sk-parallel-item:only-child::after {width: 0;}#sk-container-id-1 div.sk-dashed-wrapped {border: 1px dashed gray;margin: 0 0.4em 0.5em 0.4em;box-sizing: border-box;padding-bottom: 0.4em;background-color: white;}#sk-container-id-1 div.sk-label label {font-family: monospace;font-weight: bold;display: inline-block;line-height: 1.2em;}#sk-container-id-1 div.sk-label-container {text-align: center;}#sk-container-id-1 div.sk-container {/* jupyter's `normalize.less` sets `[hidden] { display: none; }` but bootstrap.min.css set `[hidden] { display: none !important; }` so we also need the `!important` here to be able to override the default hidden behavior on the sphinx rendered scikit-learn.org. See: https://github.com/scikit-learn/scikit-learn/issues/21755 */display: inline-block !important;position: relative;}#sk-container-id-1 div.sk-text-repr-fallback {display: none;}</style><div id=\"sk-container-id-1\" class=\"sk-top-container\"><div class=\"sk-text-repr-fallback\"><pre>Pipeline(steps=[(&#x27;scale&#x27;, None), (&#x27;model&#x27;, LogisticRegression())])</pre><b>In a Jupyter environment, please rerun this cell to show the HTML representation or trust the notebook. <br />On GitHub, the HTML representation is unable to render, please try loading this page with nbviewer.org.</b></div><div class=\"sk-container\" hidden><div class=\"sk-item sk-dashed-wrapped\"><div class=\"sk-label-container\"><div class=\"sk-label sk-toggleable\"><input class=\"sk-toggleable__control sk-hidden--visually\" id=\"sk-estimator-id-1\" type=\"checkbox\" ><label for=\"sk-estimator-id-1\" class=\"sk-toggleable__label sk-toggleable__label-arrow\">Pipeline</label><div class=\"sk-toggleable__content\"><pre>Pipeline(steps=[(&#x27;scale&#x27;, None), (&#x27;model&#x27;, LogisticRegression())])</pre></div></div></div><div class=\"sk-serial\"><div class=\"sk-item\"><div class=\"sk-estimator sk-toggleable\"><input class=\"sk-toggleable__control sk-hidden--visually\" id=\"sk-estimator-id-2\" type=\"checkbox\" ><label for=\"sk-estimator-id-2\" class=\"sk-toggleable__label sk-toggleable__label-arrow\">None</label><div class=\"sk-toggleable__content\"><pre>None</pre></div></div></div><div class=\"sk-item\"><div class=\"sk-estimator sk-toggleable\"><input class=\"sk-toggleable__control sk-hidden--visually\" id=\"sk-estimator-id-3\" type=\"checkbox\" ><label for=\"sk-estimator-id-3\" class=\"sk-toggleable__label sk-toggleable__label-arrow\">LogisticRegression</label><div class=\"sk-toggleable__content\"><pre>LogisticRegression()</pre></div></div></div></div></div></div></div>"
      ],
      "text/plain": [
       "Pipeline(steps=[('scale', None), ('model', LogisticRegression())])"
      ]
     },
     "execution_count": 36,
     "metadata": {},
     "output_type": "execute_result"
    }
   ],
   "source": [
    "model.fit(X_train, y_train.values.ravel())"
   ]
  },
  {
   "cell_type": "code",
   "execution_count": 37,
   "id": "af59f8c0",
   "metadata": {
    "execution": {
     "iopub.execute_input": "2025-07-28T11:04:20.164929Z",
     "iopub.status.busy": "2025-07-28T11:04:20.164204Z",
     "iopub.status.idle": "2025-07-28T11:04:20.170425Z",
     "shell.execute_reply": "2025-07-28T11:04:20.169368Z"
    },
    "papermill": {
     "duration": 0.032781,
     "end_time": "2025-07-28T11:04:20.172304",
     "exception": false,
     "start_time": "2025-07-28T11:04:20.139523",
     "status": "completed"
    },
    "tags": []
   },
   "outputs": [],
   "source": [
    "from fairness_multiverse.universe import predict_w_threshold"
   ]
  },
  {
   "cell_type": "code",
   "execution_count": 38,
   "id": "a7cf2e16",
   "metadata": {
    "execution": {
     "iopub.execute_input": "2025-07-28T11:04:20.220988Z",
     "iopub.status.busy": "2025-07-28T11:04:20.220228Z",
     "iopub.status.idle": "2025-07-28T11:04:20.351518Z",
     "shell.execute_reply": "2025-07-28T11:04:20.350425Z"
    },
    "papermill": {
     "duration": 0.157323,
     "end_time": "2025-07-28T11:04:20.353225",
     "exception": false,
     "start_time": "2025-07-28T11:04:20.195902",
     "status": "completed"
    },
    "tags": []
   },
   "outputs": [
    {
     "data": {
      "text/plain": [
       "0.8642960650986512"
      ]
     },
     "execution_count": 38,
     "metadata": {},
     "output_type": "execute_result"
    }
   ],
   "source": [
    "probs_test = model.predict_proba(X_test)\n",
    "\n",
    "'''\n",
    "Below code returns a boolean array (or binary 0/1 array depending on how it’s used) where each element \n",
    "is True if the probability of class 1 is greater than or equal to the threshold, and False otherwise.\n",
    "'''\n",
    "y_pred_default = predict_w_threshold(probs_test, 0.5)\n",
    "\n",
    "from sklearn.metrics import accuracy_score\n",
    "\n",
    "# Naive prediction\n",
    "accuracy_score(y_true = y_true, y_pred = y_pred_default)"
   ]
  },
  {
   "cell_type": "code",
   "execution_count": 39,
   "id": "081964c3",
   "metadata": {
    "execution": {
     "iopub.execute_input": "2025-07-28T11:04:20.402212Z",
     "iopub.status.busy": "2025-07-28T11:04:20.401178Z",
     "iopub.status.idle": "2025-07-28T11:04:20.517300Z",
     "shell.execute_reply": "2025-07-28T11:04:20.516199Z"
    },
    "papermill": {
     "duration": 0.143269,
     "end_time": "2025-07-28T11:04:20.519338",
     "exception": false,
     "start_time": "2025-07-28T11:04:20.376069",
     "status": "completed"
    },
    "tags": []
   },
   "outputs": [
    {
     "data": {
      "text/plain": [
       "array([0, 0, 0, ..., 0, 0, 0])"
      ]
     },
     "execution_count": 39,
     "metadata": {},
     "output_type": "execute_result"
    }
   ],
   "source": [
    "model.predict(X_test)"
   ]
  },
  {
   "cell_type": "markdown",
   "id": "56c9705b",
   "metadata": {
    "papermill": {
     "duration": 0.027295,
     "end_time": "2025-07-28T11:04:20.574800",
     "exception": false,
     "start_time": "2025-07-28T11:04:20.547505",
     "status": "completed"
    },
    "tags": []
   },
   "source": [
    "# Conformal Prediction"
   ]
  },
  {
   "cell_type": "code",
   "execution_count": 40,
   "id": "160ec6ff",
   "metadata": {
    "execution": {
     "iopub.execute_input": "2025-07-28T11:04:20.632131Z",
     "iopub.status.busy": "2025-07-28T11:04:20.631527Z",
     "iopub.status.idle": "2025-07-28T11:04:20.637778Z",
     "shell.execute_reply": "2025-07-28T11:04:20.636860Z"
    },
    "papermill": {
     "duration": 0.03712,
     "end_time": "2025-07-28T11:04:20.639419",
     "exception": false,
     "start_time": "2025-07-28T11:04:20.602299",
     "status": "completed"
    },
    "tags": []
   },
   "outputs": [],
   "source": [
    "# Miscoverage level for conformal prediction (10% allowed error rate => 90% target coverage)\n",
    "alpha = 0.1"
   ]
  },
  {
   "cell_type": "code",
   "execution_count": 41,
   "id": "eadf4555-3dd3-440e-8e35-f82a4ad9f855",
   "metadata": {
    "execution": {
     "iopub.execute_input": "2025-07-28T11:04:20.688247Z",
     "iopub.status.busy": "2025-07-28T11:04:20.687630Z",
     "iopub.status.idle": "2025-07-28T11:04:20.776203Z",
     "shell.execute_reply": "2025-07-28T11:04:20.775059Z"
    },
    "papermill": {
     "duration": 0.115161,
     "end_time": "2025-07-28T11:04:20.778317",
     "exception": false,
     "start_time": "2025-07-28T11:04:20.663156",
     "status": "completed"
    },
    "tags": []
   },
   "outputs": [],
   "source": [
    "probs_calib = model.predict_proba(X_calib)"
   ]
  },
  {
   "cell_type": "code",
   "execution_count": 42,
   "id": "2ed93547-6d5d-4983-9b36-1ecb300da49a",
   "metadata": {
    "execution": {
     "iopub.execute_input": "2025-07-28T11:04:20.833485Z",
     "iopub.status.busy": "2025-07-28T11:04:20.832743Z",
     "iopub.status.idle": "2025-07-28T11:04:20.839563Z",
     "shell.execute_reply": "2025-07-28T11:04:20.838477Z"
    },
    "papermill": {
     "duration": 0.038767,
     "end_time": "2025-07-28T11:04:20.841549",
     "exception": false,
     "start_time": "2025-07-28T11:04:20.802782",
     "status": "completed"
    },
    "tags": []
   },
   "outputs": [],
   "source": [
    "y_calib = y_calib.values.ravel().astype(int)"
   ]
  },
  {
   "cell_type": "code",
   "execution_count": 43,
   "id": "65d1320d-f588-4b38-9072-62af1ae97f7d",
   "metadata": {
    "execution": {
     "iopub.execute_input": "2025-07-28T11:04:20.901716Z",
     "iopub.status.busy": "2025-07-28T11:04:20.901202Z",
     "iopub.status.idle": "2025-07-28T11:04:20.909368Z",
     "shell.execute_reply": "2025-07-28T11:04:20.908270Z"
    },
    "papermill": {
     "duration": 0.04154,
     "end_time": "2025-07-28T11:04:20.911871",
     "exception": false,
     "start_time": "2025-07-28T11:04:20.870331",
     "status": "completed"
    },
    "tags": []
   },
   "outputs": [],
   "source": [
    "from fairness_multiverse.conformal import compute_nc_scores\n",
    "\n",
    "# Compute nonconformity scores on calibration set (1 - probability of true class)\n",
    "nc_scores = compute_nc_scores(probs_calib, y_calib)"
   ]
  },
  {
   "cell_type": "code",
   "execution_count": 44,
   "id": "df3b8ca3-53b7-43d5-9667-7c85da7aeda2",
   "metadata": {
    "execution": {
     "iopub.execute_input": "2025-07-28T11:04:20.971626Z",
     "iopub.status.busy": "2025-07-28T11:04:20.970840Z",
     "iopub.status.idle": "2025-07-28T11:04:20.978620Z",
     "shell.execute_reply": "2025-07-28T11:04:20.977636Z"
    },
    "papermill": {
     "duration": 0.039705,
     "end_time": "2025-07-28T11:04:20.980476",
     "exception": false,
     "start_time": "2025-07-28T11:04:20.940771",
     "status": "completed"
    },
    "tags": []
   },
   "outputs": [],
   "source": [
    "from fairness_multiverse.conformal import find_threshold\n",
    "\n",
    "# Find conformal threshold q_hat for the given alpha (split conformal method)\n",
    "q_hat = find_threshold(nc_scores, alpha)"
   ]
  },
  {
   "cell_type": "code",
   "execution_count": 45,
   "id": "4d29e6c1-0ef6-4aa4-b8fe-4fe79b0d033a",
   "metadata": {
    "execution": {
     "iopub.execute_input": "2025-07-28T11:04:21.034186Z",
     "iopub.status.busy": "2025-07-28T11:04:21.033233Z",
     "iopub.status.idle": "2025-07-28T11:04:21.042139Z",
     "shell.execute_reply": "2025-07-28T11:04:21.040999Z"
    },
    "papermill": {
     "duration": 0.036128,
     "end_time": "2025-07-28T11:04:21.043754",
     "exception": false,
     "start_time": "2025-07-28T11:04:21.007626",
     "status": "completed"
    },
    "tags": []
   },
   "outputs": [
    {
     "data": {
      "text/plain": [
       "0.675827936759014"
      ]
     },
     "execution_count": 45,
     "metadata": {},
     "output_type": "execute_result"
    }
   ],
   "source": [
    "q_hat"
   ]
  },
  {
   "cell_type": "code",
   "execution_count": 46,
   "id": "92460794-cdac-4be2-ba28-f28c0515a6fb",
   "metadata": {
    "execution": {
     "iopub.execute_input": "2025-07-28T11:04:21.095739Z",
     "iopub.status.busy": "2025-07-28T11:04:21.094614Z",
     "iopub.status.idle": "2025-07-28T11:04:22.177206Z",
     "shell.execute_reply": "2025-07-28T11:04:22.175994Z"
    },
    "papermill": {
     "duration": 1.110675,
     "end_time": "2025-07-28T11:04:22.179156",
     "exception": false,
     "start_time": "2025-07-28T11:04:21.068481",
     "status": "completed"
    },
    "tags": []
   },
   "outputs": [],
   "source": [
    "from fairness_multiverse.conformal import predict_conformal_sets\n",
    "\n",
    "# Generate prediction sets for each test example\n",
    "pred_sets = predict_conformal_sets(model, X_test, q_hat)"
   ]
  },
  {
   "cell_type": "code",
   "execution_count": 47,
   "id": "d90c9a65-e6db-4f5d-80cd-e68fb7e46829",
   "metadata": {
    "execution": {
     "iopub.execute_input": "2025-07-28T11:04:22.230885Z",
     "iopub.status.busy": "2025-07-28T11:04:22.230184Z",
     "iopub.status.idle": "2025-07-28T11:04:22.236956Z",
     "shell.execute_reply": "2025-07-28T11:04:22.235804Z"
    },
    "papermill": {
     "duration": 0.035353,
     "end_time": "2025-07-28T11:04:22.238609",
     "exception": false,
     "start_time": "2025-07-28T11:04:22.203256",
     "status": "completed"
    },
    "tags": []
   },
   "outputs": [],
   "source": [
    "y_true = y_true.squeeze()"
   ]
  },
  {
   "cell_type": "code",
   "execution_count": 48,
   "id": "3a58a54a-1e68-46b9-927a-df01f18aebc8",
   "metadata": {
    "execution": {
     "iopub.execute_input": "2025-07-28T11:04:22.289968Z",
     "iopub.status.busy": "2025-07-28T11:04:22.289462Z",
     "iopub.status.idle": "2025-07-28T11:04:23.402506Z",
     "shell.execute_reply": "2025-07-28T11:04:23.401703Z"
    },
    "papermill": {
     "duration": 1.140999,
     "end_time": "2025-07-28T11:04:23.404147",
     "exception": false,
     "start_time": "2025-07-28T11:04:22.263148",
     "status": "completed"
    },
    "tags": []
   },
   "outputs": [],
   "source": [
    "from fairness_multiverse.conformal import evaluate_sets\n",
    "\n",
    "# Evaluate coverage and average set size on test data\n",
    "metrics = evaluate_sets(pred_sets, y_true)"
   ]
  },
  {
   "cell_type": "markdown",
   "id": "2b569c12-9aaa-4c88-98c9-bbcd0cf3ebb8",
   "metadata": {
    "papermill": {
     "duration": 0.014449,
     "end_time": "2025-07-28T11:04:23.432235",
     "exception": false,
     "start_time": "2025-07-28T11:04:23.417786",
     "status": "completed"
    },
    "tags": []
   },
   "source": [
    "# CP Metrics"
   ]
  },
  {
   "cell_type": "code",
   "execution_count": 49,
   "id": "5ce0a5cb-201f-45a0-ade5-94c7f0bd6095",
   "metadata": {
    "execution": {
     "iopub.execute_input": "2025-07-28T11:04:23.487169Z",
     "iopub.status.busy": "2025-07-28T11:04:23.486717Z",
     "iopub.status.idle": "2025-07-28T11:04:23.494152Z",
     "shell.execute_reply": "2025-07-28T11:04:23.493221Z"
    },
    "papermill": {
     "duration": 0.034444,
     "end_time": "2025-07-28T11:04:23.495760",
     "exception": false,
     "start_time": "2025-07-28T11:04:23.461316",
     "status": "completed"
    },
    "tags": []
   },
   "outputs": [
    {
     "data": {
      "text/plain": [
       "{'coverage': 0.9116374986066214, 'avg_size': 1.1959647753873592}"
      ]
     },
     "execution_count": 49,
     "metadata": {},
     "output_type": "execute_result"
    }
   ],
   "source": [
    "metrics"
   ]
  },
  {
   "cell_type": "code",
   "execution_count": 50,
   "id": "9b9a838d-31c9-430b-ae14-12baee460d17",
   "metadata": {
    "execution": {
     "iopub.execute_input": "2025-07-28T11:04:23.543647Z",
     "iopub.status.busy": "2025-07-28T11:04:23.542835Z",
     "iopub.status.idle": "2025-07-28T11:04:23.549744Z",
     "shell.execute_reply": "2025-07-28T11:04:23.548773Z"
    },
    "papermill": {
     "duration": 0.032826,
     "end_time": "2025-07-28T11:04:23.551373",
     "exception": false,
     "start_time": "2025-07-28T11:04:23.518547",
     "status": "completed"
    },
    "tags": []
   },
   "outputs": [],
   "source": [
    "example_universe = universe.copy()\n",
    "universe_training_size = example_universe.get(\"training_size\")\n",
    "universe_scale = example_universe.get(\"scale\")\n",
    "universe_model = example_universe.get(\"model\")\n",
    "universe_exclude_features = example_universe.get(\"exclude_features\")\n",
    "universe_exclude_subgroups = example_universe.get(\"exclude_subgroups\")"
   ]
  },
  {
   "cell_type": "code",
   "execution_count": 51,
   "id": "f4b6a8ac-9dc0-4245-8a91-5b3b5999c4f9",
   "metadata": {
    "execution": {
     "iopub.execute_input": "2025-07-28T11:04:23.600897Z",
     "iopub.status.busy": "2025-07-28T11:04:23.600318Z",
     "iopub.status.idle": "2025-07-28T11:04:23.606625Z",
     "shell.execute_reply": "2025-07-28T11:04:23.605703Z"
    },
    "papermill": {
     "duration": 0.034027,
     "end_time": "2025-07-28T11:04:23.608630",
     "exception": false,
     "start_time": "2025-07-28T11:04:23.574603",
     "status": "completed"
    },
    "tags": []
   },
   "outputs": [],
   "source": [
    "cp_metrics_dict = {\n",
    "    \"universe_id\": [universe_id],\n",
    "    \"universe_training_size\": [universe_training_size],\n",
    "    \"universe_scale\": [universe_scale],\n",
    "    \"universe_model\": [universe_model],\n",
    "    \"universe_exclude_features\": [universe_exclude_features],\n",
    "    \"universe_exclude_subgroups\": [universe_exclude_subgroups],\n",
    "    \"q_hat\": [q_hat],\n",
    "    \"coverage\": [metrics[\"coverage\"]],\n",
    "    \"avg_size\": [metrics[\"avg_size\"]],\n",
    "}"
   ]
  },
  {
   "cell_type": "code",
   "execution_count": 52,
   "id": "908acbb1-0371-4915-85ca-3fa520d2efe2",
   "metadata": {
    "execution": {
     "iopub.execute_input": "2025-07-28T11:04:23.661817Z",
     "iopub.status.busy": "2025-07-28T11:04:23.660704Z",
     "iopub.status.idle": "2025-07-28T11:04:23.669131Z",
     "shell.execute_reply": "2025-07-28T11:04:23.668073Z"
    },
    "papermill": {
     "duration": 0.036355,
     "end_time": "2025-07-28T11:04:23.671339",
     "exception": false,
     "start_time": "2025-07-28T11:04:23.634984",
     "status": "completed"
    },
    "tags": []
   },
   "outputs": [
    {
     "data": {
      "text/plain": [
       "{'universe_id': ['43877f96ae422c48dc9f8ea86e07942f'],\n",
       " 'universe_training_size': ['2014'],\n",
       " 'universe_scale': ['do-not-scale'],\n",
       " 'universe_model': ['penalized_logreg'],\n",
       " 'universe_exclude_features': ['none'],\n",
       " 'universe_exclude_subgroups': ['keep-all'],\n",
       " 'q_hat': [0.675827936759014],\n",
       " 'coverage': [0.9116374986066214],\n",
       " 'avg_size': [1.1959647753873592]}"
      ]
     },
     "execution_count": 52,
     "metadata": {},
     "output_type": "execute_result"
    }
   ],
   "source": [
    "cp_metrics_dict"
   ]
  },
  {
   "cell_type": "code",
   "execution_count": 53,
   "id": "33007efc-14e9-4ec6-97ac-56a455c82265",
   "metadata": {
    "execution": {
     "iopub.execute_input": "2025-07-28T11:04:23.745857Z",
     "iopub.status.busy": "2025-07-28T11:04:23.744981Z",
     "iopub.status.idle": "2025-07-28T11:04:23.752086Z",
     "shell.execute_reply": "2025-07-28T11:04:23.750968Z"
    },
    "papermill": {
     "duration": 0.046509,
     "end_time": "2025-07-28T11:04:23.753899",
     "exception": false,
     "start_time": "2025-07-28T11:04:23.707390",
     "status": "completed"
    },
    "tags": []
   },
   "outputs": [],
   "source": [
    "cp_metrics_df = pd.DataFrame(cp_metrics_dict)"
   ]
  },
  {
   "cell_type": "code",
   "execution_count": 54,
   "id": "db12611b-57b2-4910-b9d0-355adfd6e7bf",
   "metadata": {
    "execution": {
     "iopub.execute_input": "2025-07-28T11:04:23.812591Z",
     "iopub.status.busy": "2025-07-28T11:04:23.811822Z",
     "iopub.status.idle": "2025-07-28T11:04:23.830315Z",
     "shell.execute_reply": "2025-07-28T11:04:23.829355Z"
    },
    "papermill": {
     "duration": 0.050485,
     "end_time": "2025-07-28T11:04:23.832171",
     "exception": false,
     "start_time": "2025-07-28T11:04:23.781686",
     "status": "completed"
    },
    "tags": []
   },
   "outputs": [
    {
     "data": {
      "text/html": [
       "<div>\n",
       "<style scoped>\n",
       "    .dataframe tbody tr th:only-of-type {\n",
       "        vertical-align: middle;\n",
       "    }\n",
       "\n",
       "    .dataframe tbody tr th {\n",
       "        vertical-align: top;\n",
       "    }\n",
       "\n",
       "    .dataframe thead th {\n",
       "        text-align: right;\n",
       "    }\n",
       "</style>\n",
       "<table border=\"1\" class=\"dataframe\">\n",
       "  <thead>\n",
       "    <tr style=\"text-align: right;\">\n",
       "      <th></th>\n",
       "      <th>universe_id</th>\n",
       "      <th>universe_training_size</th>\n",
       "      <th>universe_scale</th>\n",
       "      <th>universe_model</th>\n",
       "      <th>universe_exclude_features</th>\n",
       "      <th>universe_exclude_subgroups</th>\n",
       "      <th>q_hat</th>\n",
       "      <th>coverage</th>\n",
       "      <th>avg_size</th>\n",
       "    </tr>\n",
       "  </thead>\n",
       "  <tbody>\n",
       "    <tr>\n",
       "      <th>0</th>\n",
       "      <td>43877f96ae422c48dc9f8ea86e07942f</td>\n",
       "      <td>2014</td>\n",
       "      <td>do-not-scale</td>\n",
       "      <td>penalized_logreg</td>\n",
       "      <td>none</td>\n",
       "      <td>keep-all</td>\n",
       "      <td>0.675828</td>\n",
       "      <td>0.911637</td>\n",
       "      <td>1.195965</td>\n",
       "    </tr>\n",
       "  </tbody>\n",
       "</table>\n",
       "</div>"
      ],
      "text/plain": [
       "                        universe_id universe_training_size universe_scale  \\\n",
       "0  43877f96ae422c48dc9f8ea86e07942f                   2014   do-not-scale   \n",
       "\n",
       "     universe_model universe_exclude_features universe_exclude_subgroups  \\\n",
       "0  penalized_logreg                      none                   keep-all   \n",
       "\n",
       "      q_hat  coverage  avg_size  \n",
       "0  0.675828  0.911637  1.195965  "
      ]
     },
     "execution_count": 54,
     "metadata": {},
     "output_type": "execute_result"
    }
   ],
   "source": [
    "cp_metrics_df"
   ]
  },
  {
   "cell_type": "code",
   "execution_count": 55,
   "id": "b7fbde55-a0a1-47e4-9af6-fe4a17fa8c61",
   "metadata": {
    "execution": {
     "iopub.execute_input": "2025-07-28T11:04:23.889810Z",
     "iopub.status.busy": "2025-07-28T11:04:23.889054Z",
     "iopub.status.idle": "2025-07-28T11:04:23.894903Z",
     "shell.execute_reply": "2025-07-28T11:04:23.893787Z"
    },
    "papermill": {
     "duration": 0.036396,
     "end_time": "2025-07-28T11:04:23.896729",
     "exception": false,
     "start_time": "2025-07-28T11:04:23.860333",
     "status": "completed"
    },
    "tags": []
   },
   "outputs": [],
   "source": [
    "# Conditional Coverage & looking at subgroups"
   ]
  },
  {
   "cell_type": "code",
   "execution_count": 56,
   "id": "027ae886-68dd-4141-96c7-805a5450e1ef",
   "metadata": {
    "execution": {
     "iopub.execute_input": "2025-07-28T11:04:23.955613Z",
     "iopub.status.busy": "2025-07-28T11:04:23.954935Z",
     "iopub.status.idle": "2025-07-28T11:04:24.265940Z",
     "shell.execute_reply": "2025-07-28T11:04:24.264763Z"
    },
    "papermill": {
     "duration": 0.343261,
     "end_time": "2025-07-28T11:04:24.268442",
     "exception": false,
     "start_time": "2025-07-28T11:04:23.925181",
     "status": "completed"
    },
    "tags": []
   },
   "outputs": [],
   "source": [
    "from fairness_multiverse.conformal import build_cp_groups\n",
    "\n",
    "cp_groups_df = build_cp_groups(pred_sets, y_true, X_test.index, org_test)\n",
    "#needs universe_id and setting"
   ]
  },
  {
   "cell_type": "code",
   "execution_count": 57,
   "id": "01d5802c-663a-4d1f-9d69-e036faaffbf7",
   "metadata": {
    "execution": {
     "iopub.execute_input": "2025-07-28T11:04:24.336321Z",
     "iopub.status.busy": "2025-07-28T11:04:24.335474Z",
     "iopub.status.idle": "2025-07-28T11:04:24.341363Z",
     "shell.execute_reply": "2025-07-28T11:04:24.340278Z"
    },
    "papermill": {
     "duration": 0.03989,
     "end_time": "2025-07-28T11:04:24.343297",
     "exception": false,
     "start_time": "2025-07-28T11:04:24.303407",
     "status": "completed"
    },
    "tags": []
   },
   "outputs": [],
   "source": [
    "#delete\n",
    "#cp_groups_df"
   ]
  },
  {
   "cell_type": "code",
   "execution_count": 58,
   "id": "fa424af1-d1eb-443d-b717-2d279ada8408",
   "metadata": {
    "execution": {
     "iopub.execute_input": "2025-07-28T11:04:24.407362Z",
     "iopub.status.busy": "2025-07-28T11:04:24.406575Z",
     "iopub.status.idle": "2025-07-28T11:04:24.412606Z",
     "shell.execute_reply": "2025-07-28T11:04:24.411361Z"
    },
    "papermill": {
     "duration": 0.040334,
     "end_time": "2025-07-28T11:04:24.414621",
     "exception": false,
     "start_time": "2025-07-28T11:04:24.374287",
     "status": "completed"
    },
    "tags": []
   },
   "outputs": [],
   "source": [
    "#delete\n",
    "#percentage = (cp_groups_df['nongerman_female'] == 1).mean() * 100\n",
    "#print(percentage)\n"
   ]
  },
  {
   "cell_type": "code",
   "execution_count": 59,
   "id": "6cbdab96-b2b2-45af-ad54-d0516db2e28d",
   "metadata": {
    "execution": {
     "iopub.execute_input": "2025-07-28T11:04:24.480039Z",
     "iopub.status.busy": "2025-07-28T11:04:24.479588Z",
     "iopub.status.idle": "2025-07-28T11:04:26.054135Z",
     "shell.execute_reply": "2025-07-28T11:04:26.053101Z"
    },
    "papermill": {
     "duration": 1.610219,
     "end_time": "2025-07-28T11:04:26.056219",
     "exception": false,
     "start_time": "2025-07-28T11:04:24.446000",
     "status": "completed"
    },
    "tags": []
   },
   "outputs": [],
   "source": [
    "# Define covered = 1 if true_label is in the predicted set\n",
    "cp_groups_df['covered'] = cp_groups_df.apply(\n",
    "    lambda r: int(r['true_label'] in r['pred_set']),\n",
    "    axis=1\n",
    ")"
   ]
  },
  {
   "cell_type": "code",
   "execution_count": 60,
   "id": "338ff529-1a6b-4b87-a931-8e4788d52aad",
   "metadata": {
    "execution": {
     "iopub.execute_input": "2025-07-28T11:04:26.125542Z",
     "iopub.status.busy": "2025-07-28T11:04:26.124786Z",
     "iopub.status.idle": "2025-07-28T11:04:26.130120Z",
     "shell.execute_reply": "2025-07-28T11:04:26.129338Z"
    },
    "papermill": {
     "duration": 0.044253,
     "end_time": "2025-07-28T11:04:26.131491",
     "exception": false,
     "start_time": "2025-07-28T11:04:26.087238",
     "status": "completed"
    },
    "tags": []
   },
   "outputs": [],
   "source": [
    "#cp_groups_df"
   ]
  },
  {
   "cell_type": "code",
   "execution_count": 61,
   "id": "90032e27-66df-4540-9169-4e89cfbaa758",
   "metadata": {
    "execution": {
     "iopub.execute_input": "2025-07-28T11:04:26.162499Z",
     "iopub.status.busy": "2025-07-28T11:04:26.161950Z",
     "iopub.status.idle": "2025-07-28T11:04:26.171531Z",
     "shell.execute_reply": "2025-07-28T11:04:26.170717Z"
    },
    "papermill": {
     "duration": 0.026426,
     "end_time": "2025-07-28T11:04:26.173159",
     "exception": false,
     "start_time": "2025-07-28T11:04:26.146733",
     "status": "completed"
    },
    "tags": []
   },
   "outputs": [],
   "source": [
    "subgroups = ['frau1','nongerman','nongerman_male','nongerman_female']\n",
    "\n",
    "# Conditional coverage for subgroup==1\n",
    "cond_coverage = {\n",
    "    g: cp_groups_df.loc[cp_groups_df[g]==1, 'covered'].mean()\n",
    "    for g in subgroups\n",
    "}"
   ]
  },
  {
   "cell_type": "code",
   "execution_count": 62,
   "id": "1e348fb1-b9c3-45bc-ba23-f016827a7e0d",
   "metadata": {
    "execution": {
     "iopub.execute_input": "2025-07-28T11:04:26.202871Z",
     "iopub.status.busy": "2025-07-28T11:04:26.202329Z",
     "iopub.status.idle": "2025-07-28T11:04:26.209913Z",
     "shell.execute_reply": "2025-07-28T11:04:26.208972Z"
    },
    "papermill": {
     "duration": 0.024151,
     "end_time": "2025-07-28T11:04:26.211666",
     "exception": false,
     "start_time": "2025-07-28T11:04:26.187515",
     "status": "completed"
    },
    "tags": []
   },
   "outputs": [
    {
     "data": {
      "text/plain": [
       "{'frau1': 0.9104461517724761,\n",
       " 'nongerman': 0.927917812833324,\n",
       " 'nongerman_male': 0.94181752679456,\n",
       " 'nongerman_female': 0.9049180327868852}"
      ]
     },
     "execution_count": 62,
     "metadata": {},
     "output_type": "execute_result"
    }
   ],
   "source": [
    "cond_coverage"
   ]
  },
  {
   "cell_type": "code",
   "execution_count": 63,
   "id": "f5093324-c3dd-4d63-bc4c-8d945e5c8bbb",
   "metadata": {
    "execution": {
     "iopub.execute_input": "2025-07-28T11:04:26.266521Z",
     "iopub.status.busy": "2025-07-28T11:04:26.266028Z",
     "iopub.status.idle": "2025-07-28T11:04:26.274249Z",
     "shell.execute_reply": "2025-07-28T11:04:26.273122Z"
    },
    "papermill": {
     "duration": 0.038498,
     "end_time": "2025-07-28T11:04:26.276508",
     "exception": false,
     "start_time": "2025-07-28T11:04:26.238010",
     "status": "completed"
    },
    "tags": []
   },
   "outputs": [],
   "source": [
    "for subgroup, cov in cond_coverage.items():\n",
    "    cp_metrics_df[f\"cov_{subgroup}\"] = cov"
   ]
  },
  {
   "cell_type": "code",
   "execution_count": 64,
   "id": "6e872e10-dbe5-49e8-b554-5030c98ff75d",
   "metadata": {
    "execution": {
     "iopub.execute_input": "2025-07-28T11:04:26.334515Z",
     "iopub.status.busy": "2025-07-28T11:04:26.334009Z",
     "iopub.status.idle": "2025-07-28T11:04:26.353139Z",
     "shell.execute_reply": "2025-07-28T11:04:26.351873Z"
    },
    "papermill": {
     "duration": 0.049304,
     "end_time": "2025-07-28T11:04:26.355039",
     "exception": false,
     "start_time": "2025-07-28T11:04:26.305735",
     "status": "completed"
    },
    "tags": []
   },
   "outputs": [
    {
     "data": {
      "text/html": [
       "<div>\n",
       "<style scoped>\n",
       "    .dataframe tbody tr th:only-of-type {\n",
       "        vertical-align: middle;\n",
       "    }\n",
       "\n",
       "    .dataframe tbody tr th {\n",
       "        vertical-align: top;\n",
       "    }\n",
       "\n",
       "    .dataframe thead th {\n",
       "        text-align: right;\n",
       "    }\n",
       "</style>\n",
       "<table border=\"1\" class=\"dataframe\">\n",
       "  <thead>\n",
       "    <tr style=\"text-align: right;\">\n",
       "      <th></th>\n",
       "      <th>universe_id</th>\n",
       "      <th>universe_training_size</th>\n",
       "      <th>universe_scale</th>\n",
       "      <th>universe_model</th>\n",
       "      <th>universe_exclude_features</th>\n",
       "      <th>universe_exclude_subgroups</th>\n",
       "      <th>q_hat</th>\n",
       "      <th>coverage</th>\n",
       "      <th>avg_size</th>\n",
       "      <th>cov_frau1</th>\n",
       "      <th>cov_nongerman</th>\n",
       "      <th>cov_nongerman_male</th>\n",
       "      <th>cov_nongerman_female</th>\n",
       "    </tr>\n",
       "  </thead>\n",
       "  <tbody>\n",
       "    <tr>\n",
       "      <th>0</th>\n",
       "      <td>43877f96ae422c48dc9f8ea86e07942f</td>\n",
       "      <td>2014</td>\n",
       "      <td>do-not-scale</td>\n",
       "      <td>penalized_logreg</td>\n",
       "      <td>none</td>\n",
       "      <td>keep-all</td>\n",
       "      <td>0.675828</td>\n",
       "      <td>0.911637</td>\n",
       "      <td>1.195965</td>\n",
       "      <td>0.910446</td>\n",
       "      <td>0.927918</td>\n",
       "      <td>0.941818</td>\n",
       "      <td>0.904918</td>\n",
       "    </tr>\n",
       "  </tbody>\n",
       "</table>\n",
       "</div>"
      ],
      "text/plain": [
       "                        universe_id universe_training_size universe_scale  \\\n",
       "0  43877f96ae422c48dc9f8ea86e07942f                   2014   do-not-scale   \n",
       "\n",
       "     universe_model universe_exclude_features universe_exclude_subgroups  \\\n",
       "0  penalized_logreg                      none                   keep-all   \n",
       "\n",
       "      q_hat  coverage  avg_size  cov_frau1  cov_nongerman  cov_nongerman_male  \\\n",
       "0  0.675828  0.911637  1.195965   0.910446       0.927918            0.941818   \n",
       "\n",
       "   cov_nongerman_female  \n",
       "0              0.904918  "
      ]
     },
     "execution_count": 64,
     "metadata": {},
     "output_type": "execute_result"
    }
   ],
   "source": [
    "cp_metrics_df"
   ]
  },
  {
   "cell_type": "markdown",
   "id": "33774451",
   "metadata": {
    "papermill": {
     "duration": 0.025855,
     "end_time": "2025-07-28T11:04:26.407111",
     "exception": false,
     "start_time": "2025-07-28T11:04:26.381256",
     "status": "completed"
    },
    "tags": []
   },
   "source": [
    "# (Fairness) Metrics"
   ]
  },
  {
   "cell_type": "code",
   "execution_count": 65,
   "id": "debc5d62",
   "metadata": {
    "execution": {
     "iopub.execute_input": "2025-07-28T11:04:26.458754Z",
     "iopub.status.busy": "2025-07-28T11:04:26.458398Z",
     "iopub.status.idle": "2025-07-28T11:04:26.473528Z",
     "shell.execute_reply": "2025-07-28T11:04:26.472740Z"
    },
    "papermill": {
     "duration": 0.043175,
     "end_time": "2025-07-28T11:04:26.475183",
     "exception": false,
     "start_time": "2025-07-28T11:04:26.432008",
     "status": "completed"
    },
    "tags": []
   },
   "outputs": [],
   "source": [
    "# do I need to include maxdeutsch1.missing?\n",
    "\n",
    "import numpy as np\n",
    "\n",
    "colname_to_bin = \"maxdeutsch1\"\n",
    "majority_value = org_train[colname_to_bin].mode()[0]\n",
    "\n",
    "org_test[\"majmin\"] = np.where(org_test[colname_to_bin] == majority_value, \"majority\", \"minority\")"
   ]
  },
  {
   "cell_type": "code",
   "execution_count": 66,
   "id": "06a50de5",
   "metadata": {
    "execution": {
     "iopub.execute_input": "2025-07-28T11:04:26.505517Z",
     "iopub.status.busy": "2025-07-28T11:04:26.505136Z",
     "iopub.status.idle": "2025-07-28T11:04:29.643572Z",
     "shell.execute_reply": "2025-07-28T11:04:29.642593Z"
    },
    "papermill": {
     "duration": 3.155679,
     "end_time": "2025-07-28T11:04:29.645482",
     "exception": false,
     "start_time": "2025-07-28T11:04:26.489803",
     "status": "completed"
    },
    "tags": []
   },
   "outputs": [],
   "source": [
    "example_universe = universe.copy()\n",
    "example_universe[\"cutoff\"] = example_universe[\"cutoff\"][0]\n",
    "example_universe[\"eval_fairness_grouping\"] = example_universe[\"eval_fairness_grouping\"][0]\n",
    "fairness_dict, metric_frame = universe_analysis.compute_metrics(\n",
    "    example_universe,\n",
    "    y_pred_prob=probs_test,\n",
    "    y_test=y_true,\n",
    "    org_test=org_test,\n",
    ")"
   ]
  },
  {
   "cell_type": "markdown",
   "id": "f95d4e02",
   "metadata": {
    "papermill": {
     "duration": 0.027149,
     "end_time": "2025-07-28T11:04:29.700519",
     "exception": false,
     "start_time": "2025-07-28T11:04:29.673370",
     "status": "completed"
    },
    "tags": []
   },
   "source": [
    "# Overall"
   ]
  },
  {
   "cell_type": "markdown",
   "id": "bdee4871",
   "metadata": {
    "papermill": {
     "duration": 0.025909,
     "end_time": "2025-07-28T11:04:29.752400",
     "exception": false,
     "start_time": "2025-07-28T11:04:29.726491",
     "status": "completed"
    },
    "tags": []
   },
   "source": [
    "Fairness\n",
    "Main fairness target: Equalized Odds. Seems to be a better fit than equal opportunity, since we're not only interested in Y = 1. Seems to be a better fit than demographic parity, since we also care about accuracy, not just equal distribution of preds.\n",
    "\n",
    "Pick column for computation of fairness metrics\n",
    "\n",
    "Performance\n",
    "Overall performance measures, most interesting in relation to the measures split by group below"
   ]
  },
  {
   "cell_type": "code",
   "execution_count": 67,
   "id": "c4e067c6",
   "metadata": {
    "execution": {
     "iopub.execute_input": "2025-07-28T11:04:29.807946Z",
     "iopub.status.busy": "2025-07-28T11:04:29.806993Z",
     "iopub.status.idle": "2025-07-28T11:04:29.816135Z",
     "shell.execute_reply": "2025-07-28T11:04:29.815059Z"
    },
    "papermill": {
     "duration": 0.039798,
     "end_time": "2025-07-28T11:04:29.817981",
     "exception": false,
     "start_time": "2025-07-28T11:04:29.778183",
     "status": "completed"
    },
    "tags": []
   },
   "outputs": [
    {
     "data": {
      "text/plain": [
       "accuracy                   0.217401\n",
       "balanced accuracy          0.533035\n",
       "f1                         0.238924\n",
       "precision                  0.136489\n",
       "false positive rate        0.891525\n",
       "false negative rate        0.042405\n",
       "selection rate             0.900000\n",
       "count                  89710.000000\n",
       "dtype: float64"
      ]
     },
     "execution_count": 67,
     "metadata": {},
     "output_type": "execute_result"
    }
   ],
   "source": [
    "metric_frame.overall"
   ]
  },
  {
   "cell_type": "markdown",
   "id": "e968fe9d",
   "metadata": {
    "papermill": {
     "duration": 0.020911,
     "end_time": "2025-07-28T11:04:29.867180",
     "exception": false,
     "start_time": "2025-07-28T11:04:29.846269",
     "status": "completed"
    },
    "tags": []
   },
   "source": [
    "By Group"
   ]
  },
  {
   "cell_type": "code",
   "execution_count": 68,
   "id": "ec325bce",
   "metadata": {
    "execution": {
     "iopub.execute_input": "2025-07-28T11:04:29.897680Z",
     "iopub.status.busy": "2025-07-28T11:04:29.897259Z",
     "iopub.status.idle": "2025-07-28T11:04:29.910866Z",
     "shell.execute_reply": "2025-07-28T11:04:29.910089Z"
    },
    "papermill": {
     "duration": 0.030641,
     "end_time": "2025-07-28T11:04:29.912292",
     "exception": false,
     "start_time": "2025-07-28T11:04:29.881651",
     "status": "completed"
    },
    "tags": []
   },
   "outputs": [
    {
     "data": {
      "text/html": [
       "<div>\n",
       "<style scoped>\n",
       "    .dataframe tbody tr th:only-of-type {\n",
       "        vertical-align: middle;\n",
       "    }\n",
       "\n",
       "    .dataframe tbody tr th {\n",
       "        vertical-align: top;\n",
       "    }\n",
       "\n",
       "    .dataframe thead th {\n",
       "        text-align: right;\n",
       "    }\n",
       "</style>\n",
       "<table border=\"1\" class=\"dataframe\">\n",
       "  <thead>\n",
       "    <tr style=\"text-align: right;\">\n",
       "      <th></th>\n",
       "      <th>accuracy</th>\n",
       "      <th>balanced accuracy</th>\n",
       "      <th>f1</th>\n",
       "      <th>precision</th>\n",
       "      <th>false positive rate</th>\n",
       "      <th>false negative rate</th>\n",
       "      <th>selection rate</th>\n",
       "      <th>count</th>\n",
       "    </tr>\n",
       "    <tr>\n",
       "      <th>majmin</th>\n",
       "      <th></th>\n",
       "      <th></th>\n",
       "      <th></th>\n",
       "      <th></th>\n",
       "      <th></th>\n",
       "      <th></th>\n",
       "      <th></th>\n",
       "      <th></th>\n",
       "    </tr>\n",
       "  </thead>\n",
       "  <tbody>\n",
       "    <tr>\n",
       "      <th>majority</th>\n",
       "      <td>0.239193</td>\n",
       "      <td>0.540438</td>\n",
       "      <td>0.248096</td>\n",
       "      <td>0.142681</td>\n",
       "      <td>0.869015</td>\n",
       "      <td>0.050109</td>\n",
       "      <td>0.879702</td>\n",
       "      <td>69170.0</td>\n",
       "    </tr>\n",
       "    <tr>\n",
       "      <th>minority</th>\n",
       "      <td>0.144012</td>\n",
       "      <td>0.510725</td>\n",
       "      <td>0.210082</td>\n",
       "      <td>0.117547</td>\n",
       "      <td>0.965882</td>\n",
       "      <td>0.012669</td>\n",
       "      <td>0.968354</td>\n",
       "      <td>20540.0</td>\n",
       "    </tr>\n",
       "  </tbody>\n",
       "</table>\n",
       "</div>"
      ],
      "text/plain": [
       "          accuracy  balanced accuracy        f1  precision  \\\n",
       "majmin                                                       \n",
       "majority  0.239193           0.540438  0.248096   0.142681   \n",
       "minority  0.144012           0.510725  0.210082   0.117547   \n",
       "\n",
       "          false positive rate  false negative rate  selection rate    count  \n",
       "majmin                                                                       \n",
       "majority             0.869015             0.050109        0.879702  69170.0  \n",
       "minority             0.965882             0.012669        0.968354  20540.0  "
      ]
     },
     "execution_count": 68,
     "metadata": {},
     "output_type": "execute_result"
    }
   ],
   "source": [
    "metric_frame.by_group"
   ]
  },
  {
   "cell_type": "code",
   "execution_count": 69,
   "id": "a9ddbe63",
   "metadata": {
    "execution": {
     "iopub.execute_input": "2025-07-28T11:04:29.943877Z",
     "iopub.status.busy": "2025-07-28T11:04:29.943369Z",
     "iopub.status.idle": "2025-07-28T11:04:32.335977Z",
     "shell.execute_reply": "2025-07-28T11:04:32.333659Z"
    },
    "papermill": {
     "duration": 2.409853,
     "end_time": "2025-07-28T11:04:32.337421",
     "exception": false,
     "start_time": "2025-07-28T11:04:29.927568",
     "status": "completed"
    },
    "tags": []
   },
   "outputs": [
    {
     "data": {
      "text/plain": [
       "array([[<Axes: title={'center': 'accuracy'}, xlabel='majmin'>,\n",
       "        <Axes: title={'center': 'balanced accuracy'}, xlabel='majmin'>,\n",
       "        <Axes: title={'center': 'f1'}, xlabel='majmin'>],\n",
       "       [<Axes: title={'center': 'precision'}, xlabel='majmin'>,\n",
       "        <Axes: title={'center': 'false positive rate'}, xlabel='majmin'>,\n",
       "        <Axes: title={'center': 'false negative rate'}, xlabel='majmin'>],\n",
       "       [<Axes: title={'center': 'selection rate'}, xlabel='majmin'>,\n",
       "        <Axes: title={'center': 'count'}, xlabel='majmin'>,\n",
       "        <Axes: xlabel='majmin'>]], dtype=object)"
      ]
     },
     "execution_count": 69,
     "metadata": {},
     "output_type": "execute_result"
    },
    {
     "data": {
      "image/png": "[encoded data removed]",
      "text/plain": [
       "<Figure size 1200x800 with 9 Axes>"
      ]
     },
     "metadata": {},
     "output_type": "display_data"
    }
   ],
   "source": [
    "# In a graphic\n",
    "metric_frame.by_group.plot.bar(\n",
    "    subplots=True,\n",
    "    layout=[3, 3],\n",
    "    legend=False,\n",
    "    figsize=[12, 8],\n",
    "    title=\"Show all metrics\",\n",
    ")"
   ]
  },
  {
   "cell_type": "markdown",
   "id": "f57a0bac",
   "metadata": {
    "papermill": {
     "duration": 0.022597,
     "end_time": "2025-07-28T11:04:32.378476",
     "exception": false,
     "start_time": "2025-07-28T11:04:32.355879",
     "status": "completed"
    },
    "tags": []
   },
   "source": [
    "# Final Output"
   ]
  },
  {
   "cell_type": "code",
   "execution_count": 70,
   "id": "96d280a3",
   "metadata": {
    "execution": {
     "iopub.execute_input": "2025-07-28T11:04:32.440681Z",
     "iopub.status.busy": "2025-07-28T11:04:32.440022Z",
     "iopub.status.idle": "2025-07-28T11:04:32.448814Z",
     "shell.execute_reply": "2025-07-28T11:04:32.447592Z"
    },
    "papermill": {
     "duration": 0.041332,
     "end_time": "2025-07-28T11:04:32.450672",
     "exception": false,
     "start_time": "2025-07-28T11:04:32.409340",
     "status": "completed"
    },
    "tags": []
   },
   "outputs": [
    {
     "data": {
      "text/plain": [
       "4"
      ]
     },
     "execution_count": 70,
     "metadata": {},
     "output_type": "execute_result"
    }
   ],
   "source": [
    "sub_universes = universe_analysis.generate_sub_universes()\n",
    "len(sub_universes)"
   ]
  },
  {
   "cell_type": "code",
   "execution_count": 71,
   "id": "92adf7ba",
   "metadata": {
    "execution": {
     "iopub.execute_input": "2025-07-28T11:04:32.503953Z",
     "iopub.status.busy": "2025-07-28T11:04:32.503482Z",
     "iopub.status.idle": "2025-07-28T11:04:32.510202Z",
     "shell.execute_reply": "2025-07-28T11:04:32.509427Z"
    },
    "papermill": {
     "duration": 0.031101,
     "end_time": "2025-07-28T11:04:32.512080",
     "exception": false,
     "start_time": "2025-07-28T11:04:32.480979",
     "status": "completed"
    },
    "tags": []
   },
   "outputs": [],
   "source": [
    "def filter_sub_universe_data(sub_universe, org_test):\n",
    "    # Keep all rows — no filtering\n",
    "    keep_rows_mask = np.ones(org_test.shape[0], dtype=bool)\n",
    "\n",
    "    print(f\"[INFO] Keeping all rows: {keep_rows_mask.sum()} rows retained.\")\n",
    "    return keep_rows_mask"
   ]
  },
  {
   "cell_type": "code",
   "execution_count": 72,
   "id": "4a759155",
   "metadata": {
    "execution": {
     "iopub.execute_input": "2025-07-28T11:04:32.582206Z",
     "iopub.status.busy": "2025-07-28T11:04:32.581647Z",
     "iopub.status.idle": "2025-07-28T11:04:43.584459Z",
     "shell.execute_reply": "2025-07-28T11:04:43.583236Z"
    },
    "papermill": {
     "duration": 11.039876,
     "end_time": "2025-07-28T11:04:43.586320",
     "exception": false,
     "start_time": "2025-07-28T11:04:32.546444",
     "status": "completed"
    },
    "tags": []
   },
   "outputs": [
    {
     "name": "stdout",
     "output_type": "stream",
     "text": [
      "Stopping execution_time clock.\n",
      "[INFO] Keeping all rows: 89710 rows retained.\n"
     ]
    },
    {
     "name": "stdout",
     "output_type": "stream",
     "text": [
      "[INFO] Keeping all rows: 89710 rows retained.\n"
     ]
    },
    {
     "name": "stdout",
     "output_type": "stream",
     "text": [
      "[INFO] Keeping all rows: 89710 rows retained.\n"
     ]
    },
    {
     "name": "stdout",
     "output_type": "stream",
     "text": [
      "[INFO] Keeping all rows: 89710 rows retained.\n"
     ]
    },
    {
     "data": {
      "text/html": [
       "<div>\n",
       "<style scoped>\n",
       "    .dataframe tbody tr th:only-of-type {\n",
       "        vertical-align: middle;\n",
       "    }\n",
       "\n",
       "    .dataframe tbody tr th {\n",
       "        vertical-align: top;\n",
       "    }\n",
       "\n",
       "    .dataframe thead th {\n",
       "        text-align: right;\n",
       "    }\n",
       "</style>\n",
       "<table border=\"1\" class=\"dataframe\">\n",
       "  <thead>\n",
       "    <tr style=\"text-align: right;\">\n",
       "      <th></th>\n",
       "      <th>run_no</th>\n",
       "      <th>universe_id</th>\n",
       "      <th>universe_settings</th>\n",
       "      <th>execution_time</th>\n",
       "      <th>test_size_n</th>\n",
       "      <th>test_size_frac</th>\n",
       "      <th>fair_main_equalized_odds_difference</th>\n",
       "      <th>fair_main_equalized_odds_ratio</th>\n",
       "      <th>fair_main_demographic_parity_difference</th>\n",
       "      <th>fair_main_demographic_parity_ratio</th>\n",
       "      <th>...</th>\n",
       "      <th>perf_grp_precision_0</th>\n",
       "      <th>perf_grp_precision_1</th>\n",
       "      <th>perf_grp_false positive rate_0</th>\n",
       "      <th>perf_grp_false positive rate_1</th>\n",
       "      <th>perf_grp_false negative rate_0</th>\n",
       "      <th>perf_grp_false negative rate_1</th>\n",
       "      <th>perf_grp_selection rate_0</th>\n",
       "      <th>perf_grp_selection rate_1</th>\n",
       "      <th>perf_grp_count_0</th>\n",
       "      <th>perf_grp_count_1</th>\n",
       "    </tr>\n",
       "  </thead>\n",
       "  <tbody>\n",
       "    <tr>\n",
       "      <th>0</th>\n",
       "      <td>11</td>\n",
       "      <td>43877f96ae422c48dc9f8ea86e07942f</td>\n",
       "      <td>{\"cutoff\": \"quantile_0.1\", \"eval_fairness_grou...</td>\n",
       "      <td>30.98032</td>\n",
       "      <td>89710</td>\n",
       "      <td>1.0</td>\n",
       "      <td>0.096866</td>\n",
       "      <td>0.899712</td>\n",
       "      <td>0.088652</td>\n",
       "      <td>0.908451</td>\n",
       "      <td>...</td>\n",
       "      <td>NaN</td>\n",
       "      <td>NaN</td>\n",
       "      <td>NaN</td>\n",
       "      <td>NaN</td>\n",
       "      <td>NaN</td>\n",
       "      <td>NaN</td>\n",
       "      <td>NaN</td>\n",
       "      <td>NaN</td>\n",
       "      <td>NaN</td>\n",
       "      <td>NaN</td>\n",
       "    </tr>\n",
       "    <tr>\n",
       "      <th>0</th>\n",
       "      <td>11</td>\n",
       "      <td>43877f96ae422c48dc9f8ea86e07942f</td>\n",
       "      <td>{\"cutoff\": \"quantile_0.1\", \"eval_fairness_grou...</td>\n",
       "      <td>30.98032</td>\n",
       "      <td>89710</td>\n",
       "      <td>1.0</td>\n",
       "      <td>0.096866</td>\n",
       "      <td>0.899712</td>\n",
       "      <td>0.088652</td>\n",
       "      <td>0.908451</td>\n",
       "      <td>...</td>\n",
       "      <td>0.117547</td>\n",
       "      <td>0.142681</td>\n",
       "      <td>0.965882</td>\n",
       "      <td>0.869015</td>\n",
       "      <td>0.012669</td>\n",
       "      <td>0.050109</td>\n",
       "      <td>0.968354</td>\n",
       "      <td>0.879702</td>\n",
       "      <td>20540.0</td>\n",
       "      <td>69170.0</td>\n",
       "    </tr>\n",
       "    <tr>\n",
       "      <th>0</th>\n",
       "      <td>11</td>\n",
       "      <td>43877f96ae422c48dc9f8ea86e07942f</td>\n",
       "      <td>{\"cutoff\": \"quantile_0.25\", \"eval_fairness_gro...</td>\n",
       "      <td>30.98032</td>\n",
       "      <td>89710</td>\n",
       "      <td>1.0</td>\n",
       "      <td>0.210300</td>\n",
       "      <td>0.764086</td>\n",
       "      <td>0.192971</td>\n",
       "      <td>0.785297</td>\n",
       "      <td>...</td>\n",
       "      <td>NaN</td>\n",
       "      <td>NaN</td>\n",
       "      <td>NaN</td>\n",
       "      <td>NaN</td>\n",
       "      <td>NaN</td>\n",
       "      <td>NaN</td>\n",
       "      <td>NaN</td>\n",
       "      <td>NaN</td>\n",
       "      <td>NaN</td>\n",
       "      <td>NaN</td>\n",
       "    </tr>\n",
       "    <tr>\n",
       "      <th>0</th>\n",
       "      <td>11</td>\n",
       "      <td>43877f96ae422c48dc9f8ea86e07942f</td>\n",
       "      <td>{\"cutoff\": \"quantile_0.25\", \"eval_fairness_gro...</td>\n",
       "      <td>30.98032</td>\n",
       "      <td>89710</td>\n",
       "      <td>1.0</td>\n",
       "      <td>0.210300</td>\n",
       "      <td>0.764086</td>\n",
       "      <td>0.192971</td>\n",
       "      <td>0.785297</td>\n",
       "      <td>...</td>\n",
       "      <td>0.122529</td>\n",
       "      <td>0.162492</td>\n",
       "      <td>0.891426</td>\n",
       "      <td>0.681126</td>\n",
       "      <td>0.044764</td>\n",
       "      <td>0.132057</td>\n",
       "      <td>0.898783</td>\n",
       "      <td>0.705812</td>\n",
       "      <td>20540.0</td>\n",
       "      <td>69170.0</td>\n",
       "    </tr>\n",
       "  </tbody>\n",
       "</table>\n",
       "<p>4 rows × 50 columns</p>\n",
       "</div>"
      ],
      "text/plain": [
       "  run_no                       universe_id  \\\n",
       "0     11  43877f96ae422c48dc9f8ea86e07942f   \n",
       "0     11  43877f96ae422c48dc9f8ea86e07942f   \n",
       "0     11  43877f96ae422c48dc9f8ea86e07942f   \n",
       "0     11  43877f96ae422c48dc9f8ea86e07942f   \n",
       "\n",
       "                                   universe_settings  execution_time  \\\n",
       "0  {\"cutoff\": \"quantile_0.1\", \"eval_fairness_grou...        30.98032   \n",
       "0  {\"cutoff\": \"quantile_0.1\", \"eval_fairness_grou...        30.98032   \n",
       "0  {\"cutoff\": \"quantile_0.25\", \"eval_fairness_gro...        30.98032   \n",
       "0  {\"cutoff\": \"quantile_0.25\", \"eval_fairness_gro...        30.98032   \n",
       "\n",
       "   test_size_n  test_size_frac  fair_main_equalized_odds_difference  \\\n",
       "0        89710             1.0                             0.096866   \n",
       "0        89710             1.0                             0.096866   \n",
       "0        89710             1.0                             0.210300   \n",
       "0        89710             1.0                             0.210300   \n",
       "\n",
       "   fair_main_equalized_odds_ratio  fair_main_demographic_parity_difference  \\\n",
       "0                        0.899712                                 0.088652   \n",
       "0                        0.899712                                 0.088652   \n",
       "0                        0.764086                                 0.192971   \n",
       "0                        0.764086                                 0.192971   \n",
       "\n",
       "   fair_main_demographic_parity_ratio  ...  perf_grp_precision_0  \\\n",
       "0                            0.908451  ...                   NaN   \n",
       "0                            0.908451  ...              0.117547   \n",
       "0                            0.785297  ...                   NaN   \n",
       "0                            0.785297  ...              0.122529   \n",
       "\n",
       "   perf_grp_precision_1  perf_grp_false positive rate_0  \\\n",
       "0                   NaN                             NaN   \n",
       "0              0.142681                        0.965882   \n",
       "0                   NaN                             NaN   \n",
       "0              0.162492                        0.891426   \n",
       "\n",
       "   perf_grp_false positive rate_1  perf_grp_false negative rate_0  \\\n",
       "0                             NaN                             NaN   \n",
       "0                        0.869015                        0.012669   \n",
       "0                             NaN                             NaN   \n",
       "0                        0.681126                        0.044764   \n",
       "\n",
       "   perf_grp_false negative rate_1  perf_grp_selection rate_0  \\\n",
       "0                             NaN                        NaN   \n",
       "0                        0.050109                   0.968354   \n",
       "0                             NaN                        NaN   \n",
       "0                        0.132057                   0.898783   \n",
       "\n",
       "   perf_grp_selection rate_1  perf_grp_count_0  perf_grp_count_1  \n",
       "0                        NaN               NaN               NaN  \n",
       "0                   0.879702           20540.0           69170.0  \n",
       "0                        NaN               NaN               NaN  \n",
       "0                   0.705812           20540.0           69170.0  \n",
       "\n",
       "[4 rows x 50 columns]"
      ]
     },
     "execution_count": 72,
     "metadata": {},
     "output_type": "execute_result"
    }
   ],
   "source": [
    "final_output = universe_analysis.generate_final_output(\n",
    "    y_pred_prob=probs_test,\n",
    "    y_test=y_true,\n",
    "    org_test=org_test,\n",
    "    filter_data=filter_sub_universe_data,\n",
    "    cp_metrics_df=cp_metrics_df,\n",
    "    save=True,\n",
    ")\n",
    "final_output"
   ]
  },
  {
   "cell_type": "code",
   "execution_count": null,
   "id": "721ff514-cb11-46f8-b6fc-50392f74b5cb",
   "metadata": {
    "papermill": {
     "duration": 0.028959,
     "end_time": "2025-07-28T11:04:43.649879",
     "exception": false,
     "start_time": "2025-07-28T11:04:43.620920",
     "status": "completed"
    },
    "tags": []
   },
   "outputs": [],
   "source": []
  }
 ],
 "metadata": {
  "celltoolbar": "Tags",
  "kernelspec": {
   "display_name": "Python (CMA Fairness)",
   "language": "python",
   "name": "cma_fair_env"
  },
  "language_info": {
   "codemirror_mode": {
    "name": "ipython",
    "version": 3
   },
   "file_extension": ".py",
   "mimetype": "text/x-python",
   "name": "python",
   "nbconvert_exporter": "python",
   "pygments_lexer": "ipython3",
   "version": "3.10.12"
  },
  "papermill": {
   "default_parameters": {},
   "duration": 46.998502,
   "end_time": "2025-07-28T11:04:44.600339",
   "environment_variables": {},
   "exception": null,
   "input_path": "universe_analysis.ipynb",
   "output_path": "output/runs/11/notebooks/m_11-43877f96ae422c48dc9f8ea86e07942f.ipynb",
   "parameters": {
    "output_dir": "output",
    "run_no": "11",
    "seed": "2023",
    "universe": "{\"cutoff\": [\"quantile_0.1\", \"quantile_0.25\"], \"eval_fairness_grouping\": [\"majority-minority\", \"nationality-all\"], \"exclude_features\": \"none\", \"exclude_subgroups\": \"keep-all\", \"model\": \"penalized_logreg\", \"scale\": \"do-not-scale\", \"training_size\": \"2014\"}",
    "universe_id": "43877f96ae422c48dc9f8ea86e07942f"
   },
   "start_time": "2025-07-28T11:03:57.601837",
   "version": "2.6.0"
  }
 },
 "nbformat": 4,
 "nbformat_minor": 5
}