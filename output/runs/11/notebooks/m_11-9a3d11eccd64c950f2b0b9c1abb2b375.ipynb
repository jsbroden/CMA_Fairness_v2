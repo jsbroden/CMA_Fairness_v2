{
 "cells": [
  {
   "cell_type": "code",
   "execution_count": 1,
   "id": "f159f837-637b-42ba-96b5-ec9a68c44524",
   "metadata": {
    "execution": {
     "iopub.execute_input": "2025-07-28T10:54:03.839649Z",
     "iopub.status.busy": "2025-07-28T10:54:03.838778Z",
     "iopub.status.idle": "2025-07-28T10:54:03.852472Z",
     "shell.execute_reply": "2025-07-28T10:54:03.851082Z"
    },
    "papermill": {
     "duration": 0.037457,
     "end_time": "2025-07-28T10:54:03.854308",
     "exception": false,
     "start_time": "2025-07-28T10:54:03.816851",
     "status": "completed"
    },
    "tags": []
   },
   "outputs": [
    {
     "name": "stdout",
     "output_type": "stream",
     "text": [
      "/dss/dsshome1/0C/ra93lal2/cma/CMA_Fairness_v2\n"
     ]
    },
    {
     "name": "stderr",
     "output_type": "stream",
     "text": [
      "/dss/dsshome1/0C/ra93lal2/.local/share/virtualenvs/CMA_Fairness_v2-3j10GkSs/lib/python3.10/site-packages/IPython/core/magics/osm.py:393: UserWarning: This is now an optional IPython functionality, using bookmarks requires you to install the `pickleshare` library.\n",
      "  bkms = self.shell.db.get('bookmarks', {})\n",
      "/dss/dsshome1/0C/ra93lal2/.local/share/virtualenvs/CMA_Fairness_v2-3j10GkSs/lib/python3.10/site-packages/IPython/core/magics/osm.py:417: UserWarning: This is now an optional IPython functionality, setting dhist requires you to install the `pickleshare` library.\n",
      "  self.shell.db['dhist'] = compress_dhist(dhist)[-100:]\n"
     ]
    }
   ],
   "source": [
    "%cd ~/cma/CMA_Fairness_v2"
   ]
  },
  {
   "cell_type": "markdown",
   "id": "de2603b9",
   "metadata": {
    "papermill": {
     "duration": 0.010276,
     "end_time": "2025-07-28T10:54:03.875725",
     "exception": false,
     "start_time": "2025-07-28T10:54:03.865449",
     "status": "completed"
    },
    "tags": []
   },
   "source": [
    "The following cell holds the definition of our parameters, these values can be overriden by rendering the with e.g. the following command:\n",
    "\n",
    "papermill -p alpha 0.2 -p ratio 0.3 universe_analysis.ipynb output/test_run.ipynb"
   ]
  },
  {
   "cell_type": "code",
   "execution_count": 2,
   "id": "a80968a0-40bb-4fa9-85ef-2d5eefb01975",
   "metadata": {
    "execution": {
     "iopub.execute_input": "2025-07-28T10:54:03.898919Z",
     "iopub.status.busy": "2025-07-28T10:54:03.898541Z",
     "iopub.status.idle": "2025-07-28T10:54:03.903920Z",
     "shell.execute_reply": "2025-07-28T10:54:03.902903Z"
    },
    "papermill": {
     "duration": 0.018478,
     "end_time": "2025-07-28T10:54:03.905374",
     "exception": false,
     "start_time": "2025-07-28T10:54:03.886896",
     "status": "completed"
    },
    "tags": []
   },
   "outputs": [
    {
     "name": "stdout",
     "output_type": "stream",
     "text": [
      "Current working directory: /dss/dsshome1/0C/ra93lal2/cma/CMA_Fairness_v2\n"
     ]
    }
   ],
   "source": [
    "import os\n",
    "print(\"Current working directory:\", os.getcwd())"
   ]
  },
  {
   "cell_type": "code",
   "execution_count": 3,
   "id": "2dce4c03",
   "metadata": {
    "execution": {
     "iopub.execute_input": "2025-07-28T10:54:03.929505Z",
     "iopub.status.busy": "2025-07-28T10:54:03.928734Z",
     "iopub.status.idle": "2025-07-28T10:54:03.934356Z",
     "shell.execute_reply": "2025-07-28T10:54:03.933518Z"
    },
    "papermill": {
     "duration": 0.018826,
     "end_time": "2025-07-28T10:54:03.935765",
     "exception": false,
     "start_time": "2025-07-28T10:54:03.916939",
     "status": "completed"
    },
    "tags": [
     "parameters"
    ]
   },
   "outputs": [],
   "source": [
    "run_no = 0\n",
    "universe_id = \"test\"\n",
    "universe = {\n",
    "    \"training_size\": \"2014\", # \"25k\", \"5k\", \"1k\", \"2014\"\n",
    "    \"scale\": \"scale\", # \"scale\", \"do-not-scale\",\n",
    "    #\"stratify_split\": \"target\", # \"none\", \"target\", \"protected-attribute\", \"both\",\n",
    "    \"model\": \"elasticnet\", # \"logreg\", \"penalized_logreg\", \"rf\", \"gbm\", \"elasticnet\"\n",
    "    \"cutoff\": [\"quantile_0.15\", \"quantile_0.30\"],\n",
    "    \"exclude_features\": \"age\", # \"none\", \"nationality\", \"sex\", \"nationality-sex\", \"age\"\n",
    "    \"exclude_subgroups\": \"keep-all\", # \"keep-all\", \"drop-non-german\"\n",
    "    \"eval_fairness_grouping\": [\"majority-minority\", \"nationality-all\"]\n",
    "}\n",
    "\n",
    "output_dir=\"./output\"\n",
    "seed=0"
   ]
  },
  {
   "cell_type": "code",
   "execution_count": 4,
   "id": "e3326f43",
   "metadata": {
    "execution": {
     "iopub.execute_input": "2025-07-28T10:54:03.959749Z",
     "iopub.status.busy": "2025-07-28T10:54:03.959213Z",
     "iopub.status.idle": "2025-07-28T10:54:03.963973Z",
     "shell.execute_reply": "2025-07-28T10:54:03.962835Z"
    },
    "papermill": {
     "duration": 0.018099,
     "end_time": "2025-07-28T10:54:03.965476",
     "exception": false,
     "start_time": "2025-07-28T10:54:03.947377",
     "status": "completed"
    },
    "tags": [
     "injected-parameters"
    ]
   },
   "outputs": [],
   "source": [
    "# Parameters\n",
    "universe_id = \"9a3d11eccd64c950f2b0b9c1abb2b375\"\n",
    "run_no = \"11\"\n",
    "universe = \"{\\\"cutoff\\\": [\\\"quantile_0.1\\\", \\\"quantile_0.25\\\"], \\\"eval_fairness_grouping\\\": [\\\"majority-minority\\\", \\\"nationality-all\\\"], \\\"exclude_features\\\": \\\"age\\\", \\\"exclude_subgroups\\\": \\\"drop-non-german\\\", \\\"model\\\": \\\"logreg\\\", \\\"scale\\\": \\\"scale\\\", \\\"training_size\\\": \\\"2014\\\"}\"\n",
    "output_dir = \"output\"\n",
    "seed = \"2023\"\n"
   ]
  },
  {
   "cell_type": "code",
   "execution_count": 5,
   "id": "1650acaf",
   "metadata": {
    "execution": {
     "iopub.execute_input": "2025-07-28T10:54:03.990003Z",
     "iopub.status.busy": "2025-07-28T10:54:03.989487Z",
     "iopub.status.idle": "2025-07-28T10:54:03.994510Z",
     "shell.execute_reply": "2025-07-28T10:54:03.993677Z"
    },
    "papermill": {
     "duration": 0.019018,
     "end_time": "2025-07-28T10:54:03.996062",
     "exception": false,
     "start_time": "2025-07-28T10:54:03.977044",
     "status": "completed"
    },
    "tags": []
   },
   "outputs": [],
   "source": [
    "import json\n",
    "# Parse universe into dict if it is passed as a string\n",
    "if isinstance(universe, str):\n",
    "    universe = json.loads(universe)"
   ]
  },
  {
   "cell_type": "code",
   "execution_count": 6,
   "id": "16620c48",
   "metadata": {
    "execution": {
     "iopub.execute_input": "2025-07-28T10:54:04.020238Z",
     "iopub.status.busy": "2025-07-28T10:54:04.019662Z",
     "iopub.status.idle": "2025-07-28T10:54:04.056510Z",
     "shell.execute_reply": "2025-07-28T10:54:04.055395Z"
    },
    "papermill": {
     "duration": 0.051223,
     "end_time": "2025-07-28T10:54:04.058833",
     "exception": false,
     "start_time": "2025-07-28T10:54:04.007610",
     "status": "completed"
    },
    "tags": []
   },
   "outputs": [],
   "source": [
    "# Auto-reload the custom package\n",
    "%load_ext autoreload\n",
    "%autoreload 1\n",
    "%aimport fairness_multiverse"
   ]
  },
  {
   "cell_type": "code",
   "execution_count": 7,
   "id": "01c5c9f3",
   "metadata": {
    "execution": {
     "iopub.execute_input": "2025-07-28T10:54:04.109983Z",
     "iopub.status.busy": "2025-07-28T10:54:04.109203Z",
     "iopub.status.idle": "2025-07-28T10:54:06.332197Z",
     "shell.execute_reply": "2025-07-28T10:54:06.330734Z"
    },
    "papermill": {
     "duration": 2.251625,
     "end_time": "2025-07-28T10:54:06.334803",
     "exception": false,
     "start_time": "2025-07-28T10:54:04.083178",
     "status": "completed"
    },
    "tags": []
   },
   "outputs": [],
   "source": [
    "from fairness_multiverse.universe import UniverseAnalysis\n",
    "\n",
    "universe_analysis = UniverseAnalysis(\n",
    "    run_no = run_no,\n",
    "    universe_id = universe_id,\n",
    "    universe = universe,\n",
    "    output_dir=output_dir,\n",
    ")"
   ]
  },
  {
   "cell_type": "code",
   "execution_count": 8,
   "id": "106241f5",
   "metadata": {
    "execution": {
     "iopub.execute_input": "2025-07-28T10:54:06.396727Z",
     "iopub.status.busy": "2025-07-28T10:54:06.396347Z",
     "iopub.status.idle": "2025-07-28T10:54:06.402442Z",
     "shell.execute_reply": "2025-07-28T10:54:06.401538Z"
    },
    "papermill": {
     "duration": 0.039175,
     "end_time": "2025-07-28T10:54:06.403854",
     "exception": false,
     "start_time": "2025-07-28T10:54:06.364679",
     "status": "completed"
    },
    "tags": []
   },
   "outputs": [
    {
     "name": "stdout",
     "output_type": "stream",
     "text": [
      "Using Seed: 2023\n"
     ]
    }
   ],
   "source": [
    "import numpy as np\n",
    "parsed_seed = int(seed)\n",
    "np.random.seed(parsed_seed)\n",
    "print(f\"Using Seed: {parsed_seed}\")"
   ]
  },
  {
   "cell_type": "markdown",
   "id": "e0ebdc57",
   "metadata": {
    "papermill": {
     "duration": 0.012025,
     "end_time": "2025-07-28T10:54:06.427517",
     "exception": false,
     "start_time": "2025-07-28T10:54:06.415492",
     "status": "completed"
    },
    "tags": []
   },
   "source": [
    "# Loading Data"
   ]
  },
  {
   "cell_type": "markdown",
   "id": "681925a3",
   "metadata": {
    "papermill": {
     "duration": 0.014901,
     "end_time": "2025-07-28T10:54:06.453609",
     "exception": false,
     "start_time": "2025-07-28T10:54:06.438708",
     "status": "completed"
    },
    "tags": []
   },
   "source": [
    "Load siab_train, siab_test, siab_calib and/or \n",
    "load siab_train_features, siab_train_labels"
   ]
  },
  {
   "cell_type": "code",
   "execution_count": 9,
   "id": "f0496b8a",
   "metadata": {
    "execution": {
     "iopub.execute_input": "2025-07-28T10:54:06.493773Z",
     "iopub.status.busy": "2025-07-28T10:54:06.492937Z",
     "iopub.status.idle": "2025-07-28T10:54:19.302385Z",
     "shell.execute_reply": "2025-07-28T10:54:19.301211Z"
    },
    "papermill": {
     "duration": 12.834545,
     "end_time": "2025-07-28T10:54:19.304084",
     "exception": false,
     "start_time": "2025-07-28T10:54:06.469539",
     "status": "completed"
    },
    "tags": []
   },
   "outputs": [
    {
     "name": "stdout",
     "output_type": "stream",
     "text": [
      "Loading SIAB data from cache: data/siab_cached.csv.gz\n"
     ]
    },
    {
     "name": "stdout",
     "output_type": "stream",
     "text": [
      "(643690, 164)\n"
     ]
    }
   ],
   "source": [
    "from pathlib import Path\n",
    "import pandas as pd\n",
    "\n",
    "# File paths\n",
    "raw_file = Path(\"data/raw/siab.csv\")\n",
    "cache_file = Path(\"data/siab_cached.csv.gz\")\n",
    "\n",
    "# Ensure cache directory exists\n",
    "cache_file.parent.mkdir(parents=True, exist_ok=True)\n",
    "\n",
    "# Load with simple caching\n",
    "if cache_file.exists():\n",
    "    print(f\"Loading SIAB data from cache: {cache_file}\")\n",
    "    siab = pd.read_csv(cache_file, compression='gzip')\n",
    "else:\n",
    "    print(f\"Cache not found. Reading raw SIAB data: {raw_file}\")\n",
    "    siab = pd.read_csv(raw_file)\n",
    "    siab.to_csv(cache_file, index=False, compression='gzip')\n",
    "    print(f\"Cached SIAB data to: {cache_file}\")\n",
    "\n",
    "# Now use `siab` DataFrame as needed\n",
    "print(siab.shape)"
   ]
  },
  {
   "cell_type": "code",
   "execution_count": 10,
   "id": "db0ca512-5f53-4dba-abdb-a2888bca41ba",
   "metadata": {
    "execution": {
     "iopub.execute_input": "2025-07-28T10:54:19.347904Z",
     "iopub.status.busy": "2025-07-28T10:54:19.347400Z",
     "iopub.status.idle": "2025-07-28T10:54:19.353194Z",
     "shell.execute_reply": "2025-07-28T10:54:19.352242Z"
    },
    "papermill": {
     "duration": 0.028419,
     "end_time": "2025-07-28T10:54:19.354933",
     "exception": false,
     "start_time": "2025-07-28T10:54:19.326514",
     "status": "completed"
    },
    "tags": []
   },
   "outputs": [],
   "source": [
    "#siab"
   ]
  },
  {
   "cell_type": "code",
   "execution_count": 11,
   "id": "a0edb063",
   "metadata": {
    "execution": {
     "iopub.execute_input": "2025-07-28T10:54:19.397896Z",
     "iopub.status.busy": "2025-07-28T10:54:19.397203Z",
     "iopub.status.idle": "2025-07-28T10:54:19.402676Z",
     "shell.execute_reply": "2025-07-28T10:54:19.401715Z"
    },
    "papermill": {
     "duration": 0.028107,
     "end_time": "2025-07-28T10:54:19.404461",
     "exception": false,
     "start_time": "2025-07-28T10:54:19.376354",
     "status": "completed"
    },
    "tags": []
   },
   "outputs": [],
   "source": [
    "#import pandas as pd\n",
    "#\n",
    "#X_train = pd.read_csv(\"./data/X_train.csv\")\n",
    "#y_train = pd.read_csv(\"./data/y_train.csv\")"
   ]
  },
  {
   "cell_type": "code",
   "execution_count": 12,
   "id": "63d08085",
   "metadata": {
    "execution": {
     "iopub.execute_input": "2025-07-28T10:54:19.444197Z",
     "iopub.status.busy": "2025-07-28T10:54:19.443548Z",
     "iopub.status.idle": "2025-07-28T10:54:19.448792Z",
     "shell.execute_reply": "2025-07-28T10:54:19.447828Z"
    },
    "papermill": {
     "duration": 0.026724,
     "end_time": "2025-07-28T10:54:19.450402",
     "exception": false,
     "start_time": "2025-07-28T10:54:19.423678",
     "status": "completed"
    },
    "tags": []
   },
   "outputs": [],
   "source": [
    "#X_test = pd.read_csv(\"./data/X_test.csv\")\n",
    "#y_true = pd.read_csv(\"./data/y_test.csv\")"
   ]
  },
  {
   "cell_type": "code",
   "execution_count": 13,
   "id": "98a8d0fa-1d3d-4ed8-bb2c-281470e24add",
   "metadata": {
    "execution": {
     "iopub.execute_input": "2025-07-28T10:54:19.490732Z",
     "iopub.status.busy": "2025-07-28T10:54:19.490058Z",
     "iopub.status.idle": "2025-07-28T10:54:19.495087Z",
     "shell.execute_reply": "2025-07-28T10:54:19.494194Z"
    },
    "papermill": {
     "duration": 0.026446,
     "end_time": "2025-07-28T10:54:19.496623",
     "exception": false,
     "start_time": "2025-07-28T10:54:19.470177",
     "status": "completed"
    },
    "tags": []
   },
   "outputs": [],
   "source": [
    "# Calibration data for conformal\n",
    "#X_calib = pd.read_csv(\"./data/X_calib.csv\")\n",
    "#y_calib = pd.read_csv(\"./data/y_calib.csv\")"
   ]
  },
  {
   "cell_type": "markdown",
   "id": "9901737e-04df-44f0-9100-f5ad144ed040",
   "metadata": {
    "papermill": {
     "duration": 0.018692,
     "end_time": "2025-07-28T10:54:19.535957",
     "exception": false,
     "start_time": "2025-07-28T10:54:19.517265",
     "status": "completed"
    },
    "tags": []
   },
   "source": [
    "# Splitting Data and Setting Training Data Size"
   ]
  },
  {
   "cell_type": "code",
   "execution_count": 14,
   "id": "acbc8f7d-8fc8-4e86-8c59-5dcb0f58384b",
   "metadata": {
    "execution": {
     "iopub.execute_input": "2025-07-28T10:54:19.576434Z",
     "iopub.status.busy": "2025-07-28T10:54:19.576010Z",
     "iopub.status.idle": "2025-07-28T10:54:19.584200Z",
     "shell.execute_reply": "2025-07-28T10:54:19.583140Z"
    },
    "papermill": {
     "duration": 0.030876,
     "end_time": "2025-07-28T10:54:19.585843",
     "exception": false,
     "start_time": "2025-07-28T10:54:19.554967",
     "status": "completed"
    },
    "tags": []
   },
   "outputs": [],
   "source": [
    "def sample_by_year(df, training_size, random_state=42):\n",
    "    if training_size == \"2014\":\n",
    "        return df[df[\"year\"] == 2014].reset_index(drop=True)\n",
    "    \n",
    "    size_map = {\n",
    "        \"25k\": 5000,\n",
    "        \"5k\": 1000,\n",
    "        \"1k\": 200\n",
    "    }\n",
    "\n",
    "    if training_size not in size_map:\n",
    "        return df.reset_index(drop=True)  # use all data\n",
    "\n",
    "    n_per_year = size_map[training_size]\n",
    "    grouped = df.groupby(\"year\")\n",
    "    sampled = grouped.apply(lambda x: x.sample(n=min(n_per_year, len(x)), random_state=random_state))\n",
    "    return sampled.reset_index(drop=True)"
   ]
  },
  {
   "cell_type": "code",
   "execution_count": 15,
   "id": "6d931f52-beaf-43ff-9e78-9d44a448d54e",
   "metadata": {
    "execution": {
     "iopub.execute_input": "2025-07-28T10:54:19.627479Z",
     "iopub.status.busy": "2025-07-28T10:54:19.626559Z",
     "iopub.status.idle": "2025-07-28T10:54:19.784498Z",
     "shell.execute_reply": "2025-07-28T10:54:19.783693Z"
    },
    "papermill": {
     "duration": 0.19967,
     "end_time": "2025-07-28T10:54:19.805322",
     "exception": false,
     "start_time": "2025-07-28T10:54:19.605652",
     "status": "completed"
    },
    "tags": []
   },
   "outputs": [],
   "source": [
    "siab_s = sample_by_year(siab, universe[\"training_size\"])"
   ]
  },
  {
   "cell_type": "code",
   "execution_count": 16,
   "id": "5db0a40e-a4e2-4920-be85-b12ae061d70d",
   "metadata": {
    "execution": {
     "iopub.execute_input": "2025-07-28T10:54:19.848589Z",
     "iopub.status.busy": "2025-07-28T10:54:19.847755Z",
     "iopub.status.idle": "2025-07-28T10:54:19.864506Z",
     "shell.execute_reply": "2025-07-28T10:54:19.863421Z"
    },
    "papermill": {
     "duration": 0.039688,
     "end_time": "2025-07-28T10:54:19.866443",
     "exception": false,
     "start_time": "2025-07-28T10:54:19.826755",
     "status": "completed"
    },
    "tags": []
   },
   "outputs": [
    {
     "data": {
      "text/plain": [
       "year\n",
       "2014    87158\n",
       "dtype: int64"
      ]
     },
     "metadata": {},
     "output_type": "display_data"
    }
   ],
   "source": [
    "display(siab_s.groupby(\"year\").size())"
   ]
  },
  {
   "cell_type": "code",
   "execution_count": 17,
   "id": "a561edb4-d032-42cb-8256-22eac1111c64",
   "metadata": {
    "execution": {
     "iopub.execute_input": "2025-07-28T10:54:19.911109Z",
     "iopub.status.busy": "2025-07-28T10:54:19.910614Z",
     "iopub.status.idle": "2025-07-28T10:54:20.211749Z",
     "shell.execute_reply": "2025-07-28T10:54:20.210768Z"
    },
    "papermill": {
     "duration": 0.325035,
     "end_time": "2025-07-28T10:54:20.213727",
     "exception": false,
     "start_time": "2025-07-28T10:54:19.888692",
     "status": "completed"
    },
    "tags": []
   },
   "outputs": [],
   "source": [
    "siab_train = siab_s[siab_s.year < 2015]\n",
    "siab_calib = siab[siab.year == 2015]\n",
    "siab_test = siab[siab.year == 2016]"
   ]
  },
  {
   "cell_type": "code",
   "execution_count": 18,
   "id": "472de16f-c3db-4916-846b-1f0de9cf1746",
   "metadata": {
    "execution": {
     "iopub.execute_input": "2025-07-28T10:54:20.255708Z",
     "iopub.status.busy": "2025-07-28T10:54:20.255200Z",
     "iopub.status.idle": "2025-07-28T10:54:20.309102Z",
     "shell.execute_reply": "2025-07-28T10:54:20.307962Z"
    },
    "papermill": {
     "duration": 0.076532,
     "end_time": "2025-07-28T10:54:20.310883",
     "exception": false,
     "start_time": "2025-07-28T10:54:20.234351",
     "status": "completed"
    },
    "tags": []
   },
   "outputs": [],
   "source": [
    "X_train = siab_train.iloc[:,4:164]\n",
    "y_train = siab_train.iloc[:, [3]]"
   ]
  },
  {
   "cell_type": "code",
   "execution_count": 19,
   "id": "828c96af-f43a-4ed6-ba47-8ac73a47d56c",
   "metadata": {
    "execution": {
     "iopub.execute_input": "2025-07-28T10:54:20.355173Z",
     "iopub.status.busy": "2025-07-28T10:54:20.354478Z",
     "iopub.status.idle": "2025-07-28T10:54:20.406388Z",
     "shell.execute_reply": "2025-07-28T10:54:20.405269Z"
    },
    "papermill": {
     "duration": 0.076119,
     "end_time": "2025-07-28T10:54:20.408251",
     "exception": false,
     "start_time": "2025-07-28T10:54:20.332132",
     "status": "completed"
    },
    "tags": []
   },
   "outputs": [],
   "source": [
    "X_calib = siab_calib.iloc[:,4:164]\n",
    "y_calib = siab_calib.iloc[:, [3]]"
   ]
  },
  {
   "cell_type": "code",
   "execution_count": 20,
   "id": "c34be9c3-6bd6-476e-acd3-845840e303be",
   "metadata": {
    "execution": {
     "iopub.execute_input": "2025-07-28T10:54:20.453363Z",
     "iopub.status.busy": "2025-07-28T10:54:20.452708Z",
     "iopub.status.idle": "2025-07-28T10:54:20.506190Z",
     "shell.execute_reply": "2025-07-28T10:54:20.505088Z"
    },
    "papermill": {
     "duration": 0.077339,
     "end_time": "2025-07-28T10:54:20.508060",
     "exception": false,
     "start_time": "2025-07-28T10:54:20.430721",
     "status": "completed"
    },
    "tags": []
   },
   "outputs": [],
   "source": [
    "X_test = siab_test.iloc[:,4:164]\n",
    "y_true = siab_test.iloc[:, [3]]"
   ]
  },
  {
   "cell_type": "code",
   "execution_count": 21,
   "id": "e6c733c5",
   "metadata": {
    "execution": {
     "iopub.execute_input": "2025-07-28T10:54:20.552797Z",
     "iopub.status.busy": "2025-07-28T10:54:20.552070Z",
     "iopub.status.idle": "2025-07-28T10:54:20.686821Z",
     "shell.execute_reply": "2025-07-28T10:54:20.685790Z"
    },
    "papermill": {
     "duration": 0.15912,
     "end_time": "2025-07-28T10:54:20.688799",
     "exception": false,
     "start_time": "2025-07-28T10:54:20.529679",
     "status": "completed"
    },
    "tags": []
   },
   "outputs": [],
   "source": [
    "# Auxiliary data needed downstream in the pipeline\n",
    "\n",
    "org_train = X_train.copy()\n",
    "org_test = X_test.copy()\n",
    "org_calib = X_calib.copy()"
   ]
  },
  {
   "cell_type": "markdown",
   "id": "0a4a1b33",
   "metadata": {
    "papermill": {
     "duration": 0.019991,
     "end_time": "2025-07-28T10:54:20.729831",
     "exception": false,
     "start_time": "2025-07-28T10:54:20.709840",
     "status": "completed"
    },
    "tags": []
   },
   "source": [
    "# Preprocessing Data"
   ]
  },
  {
   "cell_type": "code",
   "execution_count": 22,
   "id": "ca879031",
   "metadata": {
    "execution": {
     "iopub.execute_input": "2025-07-28T10:54:20.774243Z",
     "iopub.status.busy": "2025-07-28T10:54:20.773571Z",
     "iopub.status.idle": "2025-07-28T10:54:20.779937Z",
     "shell.execute_reply": "2025-07-28T10:54:20.779051Z"
    },
    "papermill": {
     "duration": 0.030603,
     "end_time": "2025-07-28T10:54:20.781575",
     "exception": false,
     "start_time": "2025-07-28T10:54:20.750972",
     "status": "completed"
    },
    "tags": []
   },
   "outputs": [],
   "source": [
    "# EXCLUDE PROTECTED FEATURES\n",
    "# ----------------------\n",
    "# \"exclude_features\": \"none\", # \"nationality\", \"sex\", \"nationality-sex\"\n",
    "\n",
    "excluded_features = universe[\"exclude_features\"].split(\"-\") # split, e.g.: \"nationality-sex\" -> [\"nationality\", \"sex\"]\n",
    "excluded_features_dictionary = {\n",
    "    \"nationality\": [\"maxdeutsch1\", \"maxdeutsch.Missing.\"],\n",
    "    \"sex\": [\"frau1\"],\n",
    "    \"age\": [\"age\"],\n",
    "}\n"
   ]
  },
  {
   "cell_type": "code",
   "execution_count": 23,
   "id": "b745ac60",
   "metadata": {
    "execution": {
     "iopub.execute_input": "2025-07-28T10:54:20.825479Z",
     "iopub.status.busy": "2025-07-28T10:54:20.824810Z",
     "iopub.status.idle": "2025-07-28T10:54:20.830887Z",
     "shell.execute_reply": "2025-07-28T10:54:20.829881Z"
    },
    "papermill": {
     "duration": 0.030373,
     "end_time": "2025-07-28T10:54:20.832848",
     "exception": false,
     "start_time": "2025-07-28T10:54:20.802475",
     "status": "completed"
    },
    "tags": []
   },
   "outputs": [],
   "source": [
    "# Code nice names to column names\n",
    "\n",
    "excluded_features_columns = [\n",
    "    excluded_features_dictionary[f] for f in excluded_features if len(f) > 0 and f != \"none\"\n",
    "]"
   ]
  },
  {
   "cell_type": "code",
   "execution_count": 24,
   "id": "f84f73a2",
   "metadata": {
    "execution": {
     "iopub.execute_input": "2025-07-28T10:54:20.877675Z",
     "iopub.status.busy": "2025-07-28T10:54:20.876997Z",
     "iopub.status.idle": "2025-07-28T10:54:20.883919Z",
     "shell.execute_reply": "2025-07-28T10:54:20.882981Z"
    },
    "papermill": {
     "duration": 0.030672,
     "end_time": "2025-07-28T10:54:20.885596",
     "exception": false,
     "start_time": "2025-07-28T10:54:20.854924",
     "status": "completed"
    },
    "tags": []
   },
   "outputs": [],
   "source": [
    "from utils import flatten_once\n",
    "\n",
    "excluded_features_columns = flatten_once(excluded_features_columns)"
   ]
  },
  {
   "cell_type": "code",
   "execution_count": 25,
   "id": "884dea22",
   "metadata": {
    "execution": {
     "iopub.execute_input": "2025-07-28T10:54:20.929914Z",
     "iopub.status.busy": "2025-07-28T10:54:20.929065Z",
     "iopub.status.idle": "2025-07-28T10:54:20.983389Z",
     "shell.execute_reply": "2025-07-28T10:54:20.982375Z"
    },
    "papermill": {
     "duration": 0.077811,
     "end_time": "2025-07-28T10:54:20.985368",
     "exception": false,
     "start_time": "2025-07-28T10:54:20.907557",
     "status": "completed"
    },
    "tags": []
   },
   "outputs": [
    {
     "name": "stdout",
     "output_type": "stream",
     "text": [
      "Dropping features: ['age']\n"
     ]
    }
   ],
   "source": [
    "if len(excluded_features_columns) > 0:\n",
    "    print(f\"Dropping features: {excluded_features_columns}\")\n",
    "    X_train.drop(excluded_features_columns, axis=1, inplace=True)"
   ]
  },
  {
   "cell_type": "code",
   "execution_count": 26,
   "id": "95ab8b16",
   "metadata": {
    "execution": {
     "iopub.execute_input": "2025-07-28T10:54:21.031125Z",
     "iopub.status.busy": "2025-07-28T10:54:21.030391Z",
     "iopub.status.idle": "2025-07-28T10:54:21.085897Z",
     "shell.execute_reply": "2025-07-28T10:54:21.084839Z"
    },
    "papermill": {
     "duration": 0.080617,
     "end_time": "2025-07-28T10:54:21.087696",
     "exception": false,
     "start_time": "2025-07-28T10:54:21.007079",
     "status": "completed"
    },
    "tags": []
   },
   "outputs": [
    {
     "name": "stdout",
     "output_type": "stream",
     "text": [
      "Dropping features: ['age']\n"
     ]
    }
   ],
   "source": [
    "if len(excluded_features_columns) > 0:\n",
    "    print(f\"Dropping features: {excluded_features_columns}\")\n",
    "    X_test.drop(excluded_features_columns, axis=1, inplace=True)"
   ]
  },
  {
   "cell_type": "code",
   "execution_count": 27,
   "id": "1853aaf5-fb9f-46cb-a2b5-8ea4ae2237e4",
   "metadata": {
    "execution": {
     "iopub.execute_input": "2025-07-28T10:54:21.131673Z",
     "iopub.status.busy": "2025-07-28T10:54:21.130671Z",
     "iopub.status.idle": "2025-07-28T10:54:21.184325Z",
     "shell.execute_reply": "2025-07-28T10:54:21.183094Z"
    },
    "papermill": {
     "duration": 0.077496,
     "end_time": "2025-07-28T10:54:21.186136",
     "exception": false,
     "start_time": "2025-07-28T10:54:21.108640",
     "status": "completed"
    },
    "tags": []
   },
   "outputs": [
    {
     "name": "stdout",
     "output_type": "stream",
     "text": [
      "Dropping features: ['age']\n"
     ]
    }
   ],
   "source": [
    "if len(excluded_features_columns) > 0:\n",
    "    print(f\"Dropping features: {excluded_features_columns}\")\n",
    "    X_calib.drop(excluded_features_columns, axis=1, inplace=True)"
   ]
  },
  {
   "cell_type": "code",
   "execution_count": 28,
   "id": "6727d079-03e5-481e-9d38-292a90b7a0a8",
   "metadata": {
    "execution": {
     "iopub.execute_input": "2025-07-28T10:54:21.229818Z",
     "iopub.status.busy": "2025-07-28T10:54:21.229083Z",
     "iopub.status.idle": "2025-07-28T10:54:21.234623Z",
     "shell.execute_reply": "2025-07-28T10:54:21.233576Z"
    },
    "papermill": {
     "duration": 0.02939,
     "end_time": "2025-07-28T10:54:21.236516",
     "exception": false,
     "start_time": "2025-07-28T10:54:21.207126",
     "status": "completed"
    },
    "tags": []
   },
   "outputs": [],
   "source": [
    "# SPLIT & STRATIFY DATA\n",
    "# ----------------------"
   ]
  },
  {
   "cell_type": "code",
   "execution_count": 29,
   "id": "76c4dc6d",
   "metadata": {
    "execution": {
     "iopub.execute_input": "2025-07-28T10:54:21.280680Z",
     "iopub.status.busy": "2025-07-28T10:54:21.279845Z",
     "iopub.status.idle": "2025-07-28T10:54:21.285808Z",
     "shell.execute_reply": "2025-07-28T10:54:21.284844Z"
    },
    "papermill": {
     "duration": 0.029451,
     "end_time": "2025-07-28T10:54:21.287562",
     "exception": false,
     "start_time": "2025-07-28T10:54:21.258111",
     "status": "completed"
    },
    "tags": []
   },
   "outputs": [],
   "source": [
    "# EXCLUDE CERTAIN SUBGROUPS\n",
    "# ----------------------\n",
    "\n",
    "mode = universe.get(\"exclude_subgroups\", \"keep-all\") \n",
    "# Fetches the exclude_subgroups setting from the universe dict.\n",
    "# Defaults to \"keep-all\" if the key is missing."
   ]
  },
  {
   "cell_type": "code",
   "execution_count": 30,
   "id": "21994072",
   "metadata": {
    "execution": {
     "iopub.execute_input": "2025-07-28T10:54:21.333228Z",
     "iopub.status.busy": "2025-07-28T10:54:21.332285Z",
     "iopub.status.idle": "2025-07-28T10:54:21.339642Z",
     "shell.execute_reply": "2025-07-28T10:54:21.338659Z"
    },
    "papermill": {
     "duration": 0.031875,
     "end_time": "2025-07-28T10:54:21.341365",
     "exception": false,
     "start_time": "2025-07-28T10:54:21.309490",
     "status": "completed"
    },
    "tags": []
   },
   "outputs": [],
   "source": [
    "if mode == \"keep-all\":\n",
    "    keep_mask = pd.Series(True, index=org_train.index)\n",
    "\n",
    "# org_train contains the original feature columns from features_org (in Simson)\n",
    "# features_org contains unprocessed features, for me X_train at beginning ???\n",
    "# For keep-all, creates a boolean Series (keep_mask) of all True, so no rows are removed.\n",
    "\n",
    "elif mode == \"drop-non-german\":\n",
    "    keep_mask = org_train[\"maxdeutsch1\"] == 1 # ??? what about missing values?\n",
    "\n",
    "else:\n",
    "    raise ValueError(f\"Unsupported mode for exclude_subgroups: {mode}\")\n"
   ]
  },
  {
   "cell_type": "code",
   "execution_count": 31,
   "id": "71651440",
   "metadata": {
    "execution": {
     "iopub.execute_input": "2025-07-28T10:54:21.386557Z",
     "iopub.status.busy": "2025-07-28T10:54:21.385595Z",
     "iopub.status.idle": "2025-07-28T10:54:21.393566Z",
     "shell.execute_reply": "2025-07-28T10:54:21.392550Z"
    },
    "papermill": {
     "duration": 0.032818,
     "end_time": "2025-07-28T10:54:21.395266",
     "exception": false,
     "start_time": "2025-07-28T10:54:21.362448",
     "status": "completed"
    },
    "tags": []
   },
   "outputs": [
    {
     "name": "stdout",
     "output_type": "stream",
     "text": [
      "Dropping 12995 rows (14.91%) where mode='drop-non-german'\n"
     ]
    }
   ],
   "source": [
    "n_drop = (~keep_mask).sum() # Calculates how many rows are set to be dropped\n",
    "if n_drop > 0:\n",
    "    pct = n_drop / len(keep_mask) * 100\n",
    "    print(f\"Dropping {n_drop} rows ({pct:.2f}%) where mode='{mode}'\")"
   ]
  },
  {
   "cell_type": "code",
   "execution_count": 32,
   "id": "5fb8eee5",
   "metadata": {
    "execution": {
     "iopub.execute_input": "2025-07-28T10:54:21.440556Z",
     "iopub.status.busy": "2025-07-28T10:54:21.439601Z",
     "iopub.status.idle": "2025-07-28T10:54:21.496578Z",
     "shell.execute_reply": "2025-07-28T10:54:21.495339Z"
    },
    "papermill": {
     "duration": 0.081241,
     "end_time": "2025-07-28T10:54:21.498665",
     "exception": false,
     "start_time": "2025-07-28T10:54:21.417424",
     "status": "completed"
    },
    "tags": []
   },
   "outputs": [],
   "source": [
    "X_train = X_train[keep_mask]"
   ]
  },
  {
   "cell_type": "code",
   "execution_count": 33,
   "id": "b202bb3a",
   "metadata": {
    "execution": {
     "iopub.execute_input": "2025-07-28T10:54:21.544680Z",
     "iopub.status.busy": "2025-07-28T10:54:21.543620Z",
     "iopub.status.idle": "2025-07-28T10:54:21.552113Z",
     "shell.execute_reply": "2025-07-28T10:54:21.551138Z"
    },
    "papermill": {
     "duration": 0.03269,
     "end_time": "2025-07-28T10:54:21.553973",
     "exception": false,
     "start_time": "2025-07-28T10:54:21.521283",
     "status": "completed"
    },
    "tags": []
   },
   "outputs": [],
   "source": [
    "y_train = y_train[keep_mask]"
   ]
  },
  {
   "cell_type": "markdown",
   "id": "493e2ac3",
   "metadata": {
    "papermill": {
     "duration": 0.021265,
     "end_time": "2025-07-28T10:54:21.597050",
     "exception": false,
     "start_time": "2025-07-28T10:54:21.575785",
     "status": "completed"
    },
    "tags": []
   },
   "source": [
    "# Model Training"
   ]
  },
  {
   "cell_type": "code",
   "execution_count": 34,
   "id": "679e1268",
   "metadata": {
    "execution": {
     "iopub.execute_input": "2025-07-28T10:54:21.644091Z",
     "iopub.status.busy": "2025-07-28T10:54:21.643325Z",
     "iopub.status.idle": "2025-07-28T10:54:21.754130Z",
     "shell.execute_reply": "2025-07-28T10:54:21.753124Z"
    },
    "papermill": {
     "duration": 0.135938,
     "end_time": "2025-07-28T10:54:21.755993",
     "exception": false,
     "start_time": "2025-07-28T10:54:21.620055",
     "status": "completed"
    },
    "tags": []
   },
   "outputs": [],
   "source": [
    "from sklearn.linear_model import LogisticRegression\n",
    "from sklearn.ensemble import GradientBoostingClassifier, RandomForestClassifier\n",
    "\n",
    "if (universe[\"model\"] == \"logreg\"):\n",
    "    model = LogisticRegression() #penalty=\"none\") #, solver=\"newton-cg\", max_iter=1) # include random_state=19 ?\n",
    "elif (universe[\"model\"] == \"penalized_logreg\"):\n",
    "    model = LogisticRegression(penalty=\"l2\", C=1.0) #, solver=\"newton-cg\", max_iter=1)\n",
    "elif (universe[\"model\"] == \"rf\"):\n",
    "    model = RandomForestClassifier(n_estimators=100, n_jobs=-1)\n",
    "elif (universe[\"model\"] == \"gbm\"):\n",
    "    model = GradientBoostingClassifier()\n",
    "elif (universe[\"model\"] == \"elasticnet\"):\n",
    "    model = LogisticRegression(penalty = 'elasticnet', solver = 'saga', l1_ratio = 0.5, max_iter=5000) # which solver to use?\n",
    "else:\n",
    "    raise \"Unsupported universe.model\""
   ]
  },
  {
   "cell_type": "code",
   "execution_count": 35,
   "id": "0cc8f744",
   "metadata": {
    "execution": {
     "iopub.execute_input": "2025-07-28T10:54:21.802152Z",
     "iopub.status.busy": "2025-07-28T10:54:21.801295Z",
     "iopub.status.idle": "2025-07-28T10:54:21.807927Z",
     "shell.execute_reply": "2025-07-28T10:54:21.806997Z"
    },
    "papermill": {
     "duration": 0.032215,
     "end_time": "2025-07-28T10:54:21.809642",
     "exception": false,
     "start_time": "2025-07-28T10:54:21.777427",
     "status": "completed"
    },
    "tags": []
   },
   "outputs": [],
   "source": [
    "import numpy as np\n",
    "from sklearn.pipeline import Pipeline\n",
    "from sklearn.preprocessing import StandardScaler\n",
    "\n",
    "model = Pipeline([\n",
    "    #(\"continuous_processor\", continuous_processor),\n",
    "    #(\"categorical_preprocessor\", categorical_preprocessor),\n",
    "    (\"scale\", StandardScaler() if universe[\"scale\"] == \"scale\" else None), \n",
    "    (\"model\", model),\n",
    "])"
   ]
  },
  {
   "cell_type": "code",
   "execution_count": 36,
   "id": "9442c04d",
   "metadata": {
    "execution": {
     "iopub.execute_input": "2025-07-28T10:54:21.857764Z",
     "iopub.status.busy": "2025-07-28T10:54:21.856812Z",
     "iopub.status.idle": "2025-07-28T10:54:25.471693Z",
     "shell.execute_reply": "2025-07-28T10:54:25.470701Z"
    },
    "papermill": {
     "duration": 3.640059,
     "end_time": "2025-07-28T10:54:25.473538",
     "exception": false,
     "start_time": "2025-07-28T10:54:21.833479",
     "status": "completed"
    },
    "tags": []
   },
   "outputs": [
    {
     "name": "stderr",
     "output_type": "stream",
     "text": [
      "/dss/dsshome1/0C/ra93lal2/.local/share/virtualenvs/CMA_Fairness_v2-3j10GkSs/lib/python3.10/site-packages/sklearn/linear_model/_logistic.py:444: ConvergenceWarning: lbfgs failed to converge (status=1):\n",
      "STOP: TOTAL NO. of ITERATIONS REACHED LIMIT.\n",
      "\n",
      "Increase the number of iterations (max_iter) or scale the data as shown in:\n",
      "    https://scikit-learn.org/stable/modules/preprocessing.html\n",
      "Please also refer to the documentation for alternative solver options:\n",
      "    https://scikit-learn.org/stable/modules/linear_model.html#logistic-regression\n",
      "  n_iter_i = _check_optimize_result(\n"
     ]
    },
    {
     "data": {
      "text/html": [
       "<style>#sk-container-id-1 {color: black;background-color: white;}#sk-container-id-1 pre{padding: 0;}#sk-container-id-1 div.sk-toggleable {background-color: white;}#sk-container-id-1 label.sk-toggleable__label {cursor: pointer;display: block;width: 100%;margin-bottom: 0;padding: 0.3em;box-sizing: border-box;text-align: center;}#sk-container-id-1 label.sk-toggleable__label-arrow:before {content: \"▸\";float: left;margin-right: 0.25em;color: #696969;}#sk-container-id-1 label.sk-toggleable__label-arrow:hover:before {color: black;}#sk-container-id-1 div.sk-estimator:hover label.sk-toggleable__label-arrow:before {color: black;}#sk-container-id-1 div.sk-toggleable__content {max-height: 0;max-width: 0;overflow: hidden;text-align: left;background-color: #f0f8ff;}#sk-container-id-1 div.sk-toggleable__content pre {margin: 0.2em;color: black;border-radius: 0.25em;background-color: #f0f8ff;}#sk-container-id-1 input.sk-toggleable__control:checked~div.sk-toggleable__content {max-height: 200px;max-width: 100%;overflow: auto;}#sk-container-id-1 input.sk-toggleable__control:checked~label.sk-toggleable__label-arrow:before {content: \"▾\";}#sk-container-id-1 div.sk-estimator input.sk-toggleable__control:checked~label.sk-toggleable__label {background-color: #d4ebff;}#sk-container-id-1 div.sk-label input.sk-toggleable__control:checked~label.sk-toggleable__label {background-color: #d4ebff;}#sk-container-id-1 input.sk-hidden--visually {border: 0;clip: rect(1px 1px 1px 1px);clip: rect(1px, 1px, 1px, 1px);height: 1px;margin: -1px;overflow: hidden;padding: 0;position: absolute;width: 1px;}#sk-container-id-1 div.sk-estimator {font-family: monospace;background-color: #f0f8ff;border: 1px dotted black;border-radius: 0.25em;box-sizing: border-box;margin-bottom: 0.5em;}#sk-container-id-1 div.sk-estimator:hover {background-color: #d4ebff;}#sk-container-id-1 div.sk-parallel-item::after {content: \"\";width: 100%;border-bottom: 1px solid gray;flex-grow: 1;}#sk-container-id-1 div.sk-label:hover label.sk-toggleable__label {background-color: #d4ebff;}#sk-container-id-1 div.sk-serial::before {content: \"\";position: absolute;border-left: 1px solid gray;box-sizing: border-box;top: 0;bottom: 0;left: 50%;z-index: 0;}#sk-container-id-1 div.sk-serial {display: flex;flex-direction: column;align-items: center;background-color: white;padding-right: 0.2em;padding-left: 0.2em;position: relative;}#sk-container-id-1 div.sk-item {position: relative;z-index: 1;}#sk-container-id-1 div.sk-parallel {display: flex;align-items: stretch;justify-content: center;background-color: white;position: relative;}#sk-container-id-1 div.sk-item::before, #sk-container-id-1 div.sk-parallel-item::before {content: \"\";position: absolute;border-left: 1px solid gray;box-sizing: border-box;top: 0;bottom: 0;left: 50%;z-index: -1;}#sk-container-id-1 div.sk-parallel-item {display: flex;flex-direction: column;z-index: 1;position: relative;background-color: white;}#sk-container-id-1 div.sk-parallel-item:first-child::after {align-self: flex-end;width: 50%;}#sk-container-id-1 div.sk-parallel-item:last-child::after {align-self: flex-start;width: 50%;}#sk-container-id-1 div.sk-parallel-item:only-child::after {width: 0;}#sk-container-id-1 div.sk-dashed-wrapped {border: 1px dashed gray;margin: 0 0.4em 0.5em 0.4em;box-sizing: border-box;padding-bottom: 0.4em;background-color: white;}#sk-container-id-1 div.sk-label label {font-family: monospace;font-weight: bold;display: inline-block;line-height: 1.2em;}#sk-container-id-1 div.sk-label-container {text-align: center;}#sk-container-id-1 div.sk-container {/* jupyter's `normalize.less` sets `[hidden] { display: none; }` but bootstrap.min.css set `[hidden] { display: none !important; }` so we also need the `!important` here to be able to override the default hidden behavior on the sphinx rendered scikit-learn.org. See: https://github.com/scikit-learn/scikit-learn/issues/21755 */display: inline-block !important;position: relative;}#sk-container-id-1 div.sk-text-repr-fallback {display: none;}</style><div id=\"sk-container-id-1\" class=\"sk-top-container\"><div class=\"sk-text-repr-fallback\"><pre>Pipeline(steps=[(&#x27;scale&#x27;, StandardScaler()), (&#x27;model&#x27;, LogisticRegression())])</pre><b>In a Jupyter environment, please rerun this cell to show the HTML representation or trust the notebook. <br />On GitHub, the HTML representation is unable to render, please try loading this page with nbviewer.org.</b></div><div class=\"sk-container\" hidden><div class=\"sk-item sk-dashed-wrapped\"><div class=\"sk-label-container\"><div class=\"sk-label sk-toggleable\"><input class=\"sk-toggleable__control sk-hidden--visually\" id=\"sk-estimator-id-1\" type=\"checkbox\" ><label for=\"sk-estimator-id-1\" class=\"sk-toggleable__label sk-toggleable__label-arrow\">Pipeline</label><div class=\"sk-toggleable__content\"><pre>Pipeline(steps=[(&#x27;scale&#x27;, StandardScaler()), (&#x27;model&#x27;, LogisticRegression())])</pre></div></div></div><div class=\"sk-serial\"><div class=\"sk-item\"><div class=\"sk-estimator sk-toggleable\"><input class=\"sk-toggleable__control sk-hidden--visually\" id=\"sk-estimator-id-2\" type=\"checkbox\" ><label for=\"sk-estimator-id-2\" class=\"sk-toggleable__label sk-toggleable__label-arrow\">StandardScaler</label><div class=\"sk-toggleable__content\"><pre>StandardScaler()</pre></div></div></div><div class=\"sk-item\"><div class=\"sk-estimator sk-toggleable\"><input class=\"sk-toggleable__control sk-hidden--visually\" id=\"sk-estimator-id-3\" type=\"checkbox\" ><label for=\"sk-estimator-id-3\" class=\"sk-toggleable__label sk-toggleable__label-arrow\">LogisticRegression</label><div class=\"sk-toggleable__content\"><pre>LogisticRegression()</pre></div></div></div></div></div></div></div>"
      ],
      "text/plain": [
       "Pipeline(steps=[('scale', StandardScaler()), ('model', LogisticRegression())])"
      ]
     },
     "execution_count": 36,
     "metadata": {},
     "output_type": "execute_result"
    }
   ],
   "source": [
    "model.fit(X_train, y_train.values.ravel())"
   ]
  },
  {
   "cell_type": "code",
   "execution_count": 37,
   "id": "af59f8c0",
   "metadata": {
    "execution": {
     "iopub.execute_input": "2025-07-28T10:54:25.523573Z",
     "iopub.status.busy": "2025-07-28T10:54:25.522745Z",
     "iopub.status.idle": "2025-07-28T10:54:25.528992Z",
     "shell.execute_reply": "2025-07-28T10:54:25.527832Z"
    },
    "papermill": {
     "duration": 0.033596,
     "end_time": "2025-07-28T10:54:25.530847",
     "exception": false,
     "start_time": "2025-07-28T10:54:25.497251",
     "status": "completed"
    },
    "tags": []
   },
   "outputs": [],
   "source": [
    "from fairness_multiverse.universe import predict_w_threshold"
   ]
  },
  {
   "cell_type": "code",
   "execution_count": 38,
   "id": "a7cf2e16",
   "metadata": {
    "execution": {
     "iopub.execute_input": "2025-07-28T10:54:25.580544Z",
     "iopub.status.busy": "2025-07-28T10:54:25.579466Z",
     "iopub.status.idle": "2025-07-28T10:54:25.780724Z",
     "shell.execute_reply": "2025-07-28T10:54:25.779644Z"
    },
    "papermill": {
     "duration": 0.228535,
     "end_time": "2025-07-28T10:54:25.782836",
     "exception": false,
     "start_time": "2025-07-28T10:54:25.554301",
     "status": "completed"
    },
    "tags": []
   },
   "outputs": [
    {
     "data": {
      "text/plain": [
       "0.866224501170438"
      ]
     },
     "execution_count": 38,
     "metadata": {},
     "output_type": "execute_result"
    }
   ],
   "source": [
    "probs_test = model.predict_proba(X_test)\n",
    "\n",
    "'''\n",
    "Below code returns a boolean array (or binary 0/1 array depending on how it’s used) where each element \n",
    "is True if the probability of class 1 is greater than or equal to the threshold, and False otherwise.\n",
    "'''\n",
    "y_pred_default = predict_w_threshold(probs_test, 0.5)\n",
    "\n",
    "from sklearn.metrics import accuracy_score\n",
    "\n",
    "# Naive prediction\n",
    "accuracy_score(y_true = y_true, y_pred = y_pred_default)"
   ]
  },
  {
   "cell_type": "code",
   "execution_count": 39,
   "id": "081964c3",
   "metadata": {
    "execution": {
     "iopub.execute_input": "2025-07-28T10:54:25.830010Z",
     "iopub.status.busy": "2025-07-28T10:54:25.829411Z",
     "iopub.status.idle": "2025-07-28T10:54:26.023632Z",
     "shell.execute_reply": "2025-07-28T10:54:26.022689Z"
    },
    "papermill": {
     "duration": 0.220239,
     "end_time": "2025-07-28T10:54:26.025422",
     "exception": false,
     "start_time": "2025-07-28T10:54:25.805183",
     "status": "completed"
    },
    "tags": []
   },
   "outputs": [
    {
     "data": {
      "text/plain": [
       "array([0, 0, 0, ..., 0, 0, 0])"
      ]
     },
     "execution_count": 39,
     "metadata": {},
     "output_type": "execute_result"
    }
   ],
   "source": [
    "model.predict(X_test)"
   ]
  },
  {
   "cell_type": "markdown",
   "id": "56c9705b",
   "metadata": {
    "papermill": {
     "duration": 0.022295,
     "end_time": "2025-07-28T10:54:26.071223",
     "exception": false,
     "start_time": "2025-07-28T10:54:26.048928",
     "status": "completed"
    },
    "tags": []
   },
   "source": [
    "# Conformal Prediction"
   ]
  },
  {
   "cell_type": "code",
   "execution_count": 40,
   "id": "160ec6ff",
   "metadata": {
    "execution": {
     "iopub.execute_input": "2025-07-28T10:54:26.120220Z",
     "iopub.status.busy": "2025-07-28T10:54:26.119189Z",
     "iopub.status.idle": "2025-07-28T10:54:26.124757Z",
     "shell.execute_reply": "2025-07-28T10:54:26.123747Z"
    },
    "papermill": {
     "duration": 0.031098,
     "end_time": "2025-07-28T10:54:26.126430",
     "exception": false,
     "start_time": "2025-07-28T10:54:26.095332",
     "status": "completed"
    },
    "tags": []
   },
   "outputs": [],
   "source": [
    "# Miscoverage level for conformal prediction (10% allowed error rate => 90% target coverage)\n",
    "alpha = 0.1"
   ]
  },
  {
   "cell_type": "code",
   "execution_count": 41,
   "id": "eadf4555-3dd3-440e-8e35-f82a4ad9f855",
   "metadata": {
    "execution": {
     "iopub.execute_input": "2025-07-28T10:54:26.177219Z",
     "iopub.status.busy": "2025-07-28T10:54:26.176379Z",
     "iopub.status.idle": "2025-07-28T10:54:26.365297Z",
     "shell.execute_reply": "2025-07-28T10:54:26.364298Z"
    },
    "papermill": {
     "duration": 0.216366,
     "end_time": "2025-07-28T10:54:26.367201",
     "exception": false,
     "start_time": "2025-07-28T10:54:26.150835",
     "status": "completed"
    },
    "tags": []
   },
   "outputs": [],
   "source": [
    "probs_calib = model.predict_proba(X_calib)"
   ]
  },
  {
   "cell_type": "code",
   "execution_count": 42,
   "id": "2ed93547-6d5d-4983-9b36-1ecb300da49a",
   "metadata": {
    "execution": {
     "iopub.execute_input": "2025-07-28T10:54:26.419330Z",
     "iopub.status.busy": "2025-07-28T10:54:26.418706Z",
     "iopub.status.idle": "2025-07-28T10:54:26.424685Z",
     "shell.execute_reply": "2025-07-28T10:54:26.423628Z"
    },
    "papermill": {
     "duration": 0.03596,
     "end_time": "2025-07-28T10:54:26.426437",
     "exception": false,
     "start_time": "2025-07-28T10:54:26.390477",
     "status": "completed"
    },
    "tags": []
   },
   "outputs": [],
   "source": [
    "y_calib = y_calib.values.ravel().astype(int)"
   ]
  },
  {
   "cell_type": "code",
   "execution_count": 43,
   "id": "65d1320d-f588-4b38-9072-62af1ae97f7d",
   "metadata": {
    "execution": {
     "iopub.execute_input": "2025-07-28T10:54:26.474494Z",
     "iopub.status.busy": "2025-07-28T10:54:26.473748Z",
     "iopub.status.idle": "2025-07-28T10:54:26.482044Z",
     "shell.execute_reply": "2025-07-28T10:54:26.481150Z"
    },
    "papermill": {
     "duration": 0.034504,
     "end_time": "2025-07-28T10:54:26.483970",
     "exception": false,
     "start_time": "2025-07-28T10:54:26.449466",
     "status": "completed"
    },
    "tags": []
   },
   "outputs": [],
   "source": [
    "from fairness_multiverse.conformal import compute_nc_scores\n",
    "\n",
    "# Compute nonconformity scores on calibration set (1 - probability of true class)\n",
    "nc_scores = compute_nc_scores(probs_calib, y_calib)"
   ]
  },
  {
   "cell_type": "code",
   "execution_count": 44,
   "id": "df3b8ca3-53b7-43d5-9667-7c85da7aeda2",
   "metadata": {
    "execution": {
     "iopub.execute_input": "2025-07-28T10:54:26.533896Z",
     "iopub.status.busy": "2025-07-28T10:54:26.533196Z",
     "iopub.status.idle": "2025-07-28T10:54:26.540316Z",
     "shell.execute_reply": "2025-07-28T10:54:26.539390Z"
    },
    "papermill": {
     "duration": 0.03456,
     "end_time": "2025-07-28T10:54:26.541876",
     "exception": false,
     "start_time": "2025-07-28T10:54:26.507316",
     "status": "completed"
    },
    "tags": []
   },
   "outputs": [],
   "source": [
    "from fairness_multiverse.conformal import find_threshold\n",
    "\n",
    "# Find conformal threshold q_hat for the given alpha (split conformal method)\n",
    "q_hat = find_threshold(nc_scores, alpha)"
   ]
  },
  {
   "cell_type": "code",
   "execution_count": 45,
   "id": "4d29e6c1-0ef6-4aa4-b8fe-4fe79b0d033a",
   "metadata": {
    "execution": {
     "iopub.execute_input": "2025-07-28T10:54:26.593443Z",
     "iopub.status.busy": "2025-07-28T10:54:26.592758Z",
     "iopub.status.idle": "2025-07-28T10:54:26.600504Z",
     "shell.execute_reply": "2025-07-28T10:54:26.599502Z"
    },
    "papermill": {
     "duration": 0.036148,
     "end_time": "2025-07-28T10:54:26.602120",
     "exception": false,
     "start_time": "2025-07-28T10:54:26.565972",
     "status": "completed"
    },
    "tags": []
   },
   "outputs": [
    {
     "data": {
      "text/plain": [
       "0.6783763841444639"
      ]
     },
     "execution_count": 45,
     "metadata": {},
     "output_type": "execute_result"
    }
   ],
   "source": [
    "q_hat"
   ]
  },
  {
   "cell_type": "code",
   "execution_count": 46,
   "id": "92460794-cdac-4be2-ba28-f28c0515a6fb",
   "metadata": {
    "execution": {
     "iopub.execute_input": "2025-07-28T10:54:26.654412Z",
     "iopub.status.busy": "2025-07-28T10:54:26.653502Z",
     "iopub.status.idle": "2025-07-28T10:54:27.613276Z",
     "shell.execute_reply": "2025-07-28T10:54:27.612213Z"
    },
    "papermill": {
     "duration": 0.988987,
     "end_time": "2025-07-28T10:54:27.615339",
     "exception": false,
     "start_time": "2025-07-28T10:54:26.626352",
     "status": "completed"
    },
    "tags": []
   },
   "outputs": [],
   "source": [
    "from fairness_multiverse.conformal import predict_conformal_sets\n",
    "\n",
    "# Generate prediction sets for each test example\n",
    "pred_sets = predict_conformal_sets(model, X_test, q_hat)"
   ]
  },
  {
   "cell_type": "code",
   "execution_count": 47,
   "id": "d90c9a65-e6db-4f5d-80cd-e68fb7e46829",
   "metadata": {
    "execution": {
     "iopub.execute_input": "2025-07-28T10:54:27.673236Z",
     "iopub.status.busy": "2025-07-28T10:54:27.672631Z",
     "iopub.status.idle": "2025-07-28T10:54:27.679159Z",
     "shell.execute_reply": "2025-07-28T10:54:27.678075Z"
    },
    "papermill": {
     "duration": 0.03845,
     "end_time": "2025-07-28T10:54:27.681128",
     "exception": false,
     "start_time": "2025-07-28T10:54:27.642678",
     "status": "completed"
    },
    "tags": []
   },
   "outputs": [],
   "source": [
    "y_true = y_true.squeeze()"
   ]
  },
  {
   "cell_type": "code",
   "execution_count": 48,
   "id": "3a58a54a-1e68-46b9-927a-df01f18aebc8",
   "metadata": {
    "execution": {
     "iopub.execute_input": "2025-07-28T10:54:27.749639Z",
     "iopub.status.busy": "2025-07-28T10:54:27.748912Z",
     "iopub.status.idle": "2025-07-28T10:54:28.734229Z",
     "shell.execute_reply": "2025-07-28T10:54:28.733101Z"
    },
    "papermill": {
     "duration": 1.023354,
     "end_time": "2025-07-28T10:54:28.736479",
     "exception": false,
     "start_time": "2025-07-28T10:54:27.713125",
     "status": "completed"
    },
    "tags": []
   },
   "outputs": [],
   "source": [
    "from fairness_multiverse.conformal import evaluate_sets\n",
    "\n",
    "# Evaluate coverage and average set size on test data\n",
    "metrics = evaluate_sets(pred_sets, y_true)"
   ]
  },
  {
   "cell_type": "markdown",
   "id": "2b569c12-9aaa-4c88-98c9-bbcd0cf3ebb8",
   "metadata": {
    "papermill": {
     "duration": 0.030733,
     "end_time": "2025-07-28T10:54:28.793163",
     "exception": false,
     "start_time": "2025-07-28T10:54:28.762430",
     "status": "completed"
    },
    "tags": []
   },
   "source": [
    "# CP Metrics"
   ]
  },
  {
   "cell_type": "code",
   "execution_count": 49,
   "id": "5ce0a5cb-201f-45a0-ade5-94c7f0bd6095",
   "metadata": {
    "execution": {
     "iopub.execute_input": "2025-07-28T10:54:28.857449Z",
     "iopub.status.busy": "2025-07-28T10:54:28.856814Z",
     "iopub.status.idle": "2025-07-28T10:54:28.865097Z",
     "shell.execute_reply": "2025-07-28T10:54:28.863981Z"
    },
    "papermill": {
     "duration": 0.042261,
     "end_time": "2025-07-28T10:54:28.866838",
     "exception": false,
     "start_time": "2025-07-28T10:54:28.824577",
     "status": "completed"
    },
    "tags": []
   },
   "outputs": [
    {
     "data": {
      "text/plain": [
       "{'coverage': 0.9123063203656225, 'avg_size': 1.1216252368743729}"
      ]
     },
     "execution_count": 49,
     "metadata": {},
     "output_type": "execute_result"
    }
   ],
   "source": [
    "metrics"
   ]
  },
  {
   "cell_type": "code",
   "execution_count": 50,
   "id": "9b9a838d-31c9-430b-ae14-12baee460d17",
   "metadata": {
    "execution": {
     "iopub.execute_input": "2025-07-28T10:54:28.917443Z",
     "iopub.status.busy": "2025-07-28T10:54:28.916838Z",
     "iopub.status.idle": "2025-07-28T10:54:28.923463Z",
     "shell.execute_reply": "2025-07-28T10:54:28.922483Z"
    },
    "papermill": {
     "duration": 0.032953,
     "end_time": "2025-07-28T10:54:28.925275",
     "exception": false,
     "start_time": "2025-07-28T10:54:28.892322",
     "status": "completed"
    },
    "tags": []
   },
   "outputs": [],
   "source": [
    "example_universe = universe.copy()\n",
    "universe_training_size = example_universe.get(\"training_size\")\n",
    "universe_scale = example_universe.get(\"scale\")\n",
    "universe_model = example_universe.get(\"model\")\n",
    "universe_exclude_features = example_universe.get(\"exclude_features\")\n",
    "universe_exclude_subgroups = example_universe.get(\"exclude_subgroups\")"
   ]
  },
  {
   "cell_type": "code",
   "execution_count": 51,
   "id": "f4b6a8ac-9dc0-4245-8a91-5b3b5999c4f9",
   "metadata": {
    "execution": {
     "iopub.execute_input": "2025-07-28T10:54:28.975340Z",
     "iopub.status.busy": "2025-07-28T10:54:28.974813Z",
     "iopub.status.idle": "2025-07-28T10:54:28.981594Z",
     "shell.execute_reply": "2025-07-28T10:54:28.980659Z"
    },
    "papermill": {
     "duration": 0.033097,
     "end_time": "2025-07-28T10:54:28.983472",
     "exception": false,
     "start_time": "2025-07-28T10:54:28.950375",
     "status": "completed"
    },
    "tags": []
   },
   "outputs": [],
   "source": [
    "cp_metrics_dict = {\n",
    "    \"universe_id\": [universe_id],\n",
    "    \"universe_training_size\": [universe_training_size],\n",
    "    \"universe_scale\": [universe_scale],\n",
    "    \"universe_model\": [universe_model],\n",
    "    \"universe_exclude_features\": [universe_exclude_features],\n",
    "    \"universe_exclude_subgroups\": [universe_exclude_subgroups],\n",
    "    \"q_hat\": [q_hat],\n",
    "    \"coverage\": [metrics[\"coverage\"]],\n",
    "    \"avg_size\": [metrics[\"avg_size\"]],\n",
    "}"
   ]
  },
  {
   "cell_type": "code",
   "execution_count": 52,
   "id": "908acbb1-0371-4915-85ca-3fa520d2efe2",
   "metadata": {
    "execution": {
     "iopub.execute_input": "2025-07-28T10:54:29.034820Z",
     "iopub.status.busy": "2025-07-28T10:54:29.034291Z",
     "iopub.status.idle": "2025-07-28T10:54:29.041848Z",
     "shell.execute_reply": "2025-07-28T10:54:29.040758Z"
    },
    "papermill": {
     "duration": 0.034387,
     "end_time": "2025-07-28T10:54:29.043575",
     "exception": false,
     "start_time": "2025-07-28T10:54:29.009188",
     "status": "completed"
    },
    "tags": []
   },
   "outputs": [
    {
     "data": {
      "text/plain": [
       "{'universe_id': ['9a3d11eccd64c950f2b0b9c1abb2b375'],\n",
       " 'universe_training_size': ['2014'],\n",
       " 'universe_scale': ['scale'],\n",
       " 'universe_model': ['logreg'],\n",
       " 'universe_exclude_features': ['age'],\n",
       " 'universe_exclude_subgroups': ['drop-non-german'],\n",
       " 'q_hat': [0.6783763841444639],\n",
       " 'coverage': [0.9123063203656225],\n",
       " 'avg_size': [1.1216252368743729]}"
      ]
     },
     "execution_count": 52,
     "metadata": {},
     "output_type": "execute_result"
    }
   ],
   "source": [
    "cp_metrics_dict"
   ]
  },
  {
   "cell_type": "code",
   "execution_count": 53,
   "id": "33007efc-14e9-4ec6-97ac-56a455c82265",
   "metadata": {
    "execution": {
     "iopub.execute_input": "2025-07-28T10:54:29.093977Z",
     "iopub.status.busy": "2025-07-28T10:54:29.093468Z",
     "iopub.status.idle": "2025-07-28T10:54:29.099894Z",
     "shell.execute_reply": "2025-07-28T10:54:29.098957Z"
    },
    "papermill": {
     "duration": 0.03403,
     "end_time": "2025-07-28T10:54:29.101818",
     "exception": false,
     "start_time": "2025-07-28T10:54:29.067788",
     "status": "completed"
    },
    "tags": []
   },
   "outputs": [],
   "source": [
    "cp_metrics_df = pd.DataFrame(cp_metrics_dict)"
   ]
  },
  {
   "cell_type": "code",
   "execution_count": 54,
   "id": "db12611b-57b2-4910-b9d0-355adfd6e7bf",
   "metadata": {
    "execution": {
     "iopub.execute_input": "2025-07-28T10:54:29.155727Z",
     "iopub.status.busy": "2025-07-28T10:54:29.154566Z",
     "iopub.status.idle": "2025-07-28T10:54:29.177103Z",
     "shell.execute_reply": "2025-07-28T10:54:29.176001Z"
    },
    "papermill": {
     "duration": 0.052171,
     "end_time": "2025-07-28T10:54:29.178970",
     "exception": false,
     "start_time": "2025-07-28T10:54:29.126799",
     "status": "completed"
    },
    "tags": []
   },
   "outputs": [
    {
     "data": {
      "text/html": [
       "<div>\n",
       "<style scoped>\n",
       "    .dataframe tbody tr th:only-of-type {\n",
       "        vertical-align: middle;\n",
       "    }\n",
       "\n",
       "    .dataframe tbody tr th {\n",
       "        vertical-align: top;\n",
       "    }\n",
       "\n",
       "    .dataframe thead th {\n",
       "        text-align: right;\n",
       "    }\n",
       "</style>\n",
       "<table border=\"1\" class=\"dataframe\">\n",
       "  <thead>\n",
       "    <tr style=\"text-align: right;\">\n",
       "      <th></th>\n",
       "      <th>universe_id</th>\n",
       "      <th>universe_training_size</th>\n",
       "      <th>universe_scale</th>\n",
       "      <th>universe_model</th>\n",
       "      <th>universe_exclude_features</th>\n",
       "      <th>universe_exclude_subgroups</th>\n",
       "      <th>q_hat</th>\n",
       "      <th>coverage</th>\n",
       "      <th>avg_size</th>\n",
       "    </tr>\n",
       "  </thead>\n",
       "  <tbody>\n",
       "    <tr>\n",
       "      <th>0</th>\n",
       "      <td>9a3d11eccd64c950f2b0b9c1abb2b375</td>\n",
       "      <td>2014</td>\n",
       "      <td>scale</td>\n",
       "      <td>logreg</td>\n",
       "      <td>age</td>\n",
       "      <td>drop-non-german</td>\n",
       "      <td>0.678376</td>\n",
       "      <td>0.912306</td>\n",
       "      <td>1.121625</td>\n",
       "    </tr>\n",
       "  </tbody>\n",
       "</table>\n",
       "</div>"
      ],
      "text/plain": [
       "                        universe_id universe_training_size universe_scale  \\\n",
       "0  9a3d11eccd64c950f2b0b9c1abb2b375                   2014          scale   \n",
       "\n",
       "  universe_model universe_exclude_features universe_exclude_subgroups  \\\n",
       "0         logreg                       age            drop-non-german   \n",
       "\n",
       "      q_hat  coverage  avg_size  \n",
       "0  0.678376  0.912306  1.121625  "
      ]
     },
     "execution_count": 54,
     "metadata": {},
     "output_type": "execute_result"
    }
   ],
   "source": [
    "cp_metrics_df"
   ]
  },
  {
   "cell_type": "code",
   "execution_count": 55,
   "id": "b7fbde55-a0a1-47e4-9af6-fe4a17fa8c61",
   "metadata": {
    "execution": {
     "iopub.execute_input": "2025-07-28T10:54:29.231202Z",
     "iopub.status.busy": "2025-07-28T10:54:29.230643Z",
     "iopub.status.idle": "2025-07-28T10:54:29.236067Z",
     "shell.execute_reply": "2025-07-28T10:54:29.235038Z"
    },
    "papermill": {
     "duration": 0.03355,
     "end_time": "2025-07-28T10:54:29.238081",
     "exception": false,
     "start_time": "2025-07-28T10:54:29.204531",
     "status": "completed"
    },
    "tags": []
   },
   "outputs": [],
   "source": [
    "# Conditional Coverage & looking at subgroups"
   ]
  },
  {
   "cell_type": "code",
   "execution_count": 56,
   "id": "027ae886-68dd-4141-96c7-805a5450e1ef",
   "metadata": {
    "execution": {
     "iopub.execute_input": "2025-07-28T10:54:29.293167Z",
     "iopub.status.busy": "2025-07-28T10:54:29.292150Z",
     "iopub.status.idle": "2025-07-28T10:54:29.591959Z",
     "shell.execute_reply": "2025-07-28T10:54:29.590871Z"
    },
    "papermill": {
     "duration": 0.327451,
     "end_time": "2025-07-28T10:54:29.594111",
     "exception": false,
     "start_time": "2025-07-28T10:54:29.266660",
     "status": "completed"
    },
    "tags": []
   },
   "outputs": [],
   "source": [
    "from fairness_multiverse.conformal import build_cp_groups\n",
    "\n",
    "cp_groups_df = build_cp_groups(pred_sets, y_true, X_test.index, org_test)\n",
    "#needs universe_id and setting"
   ]
  },
  {
   "cell_type": "code",
   "execution_count": 57,
   "id": "01d5802c-663a-4d1f-9d69-e036faaffbf7",
   "metadata": {
    "execution": {
     "iopub.execute_input": "2025-07-28T10:54:29.645089Z",
     "iopub.status.busy": "2025-07-28T10:54:29.644158Z",
     "iopub.status.idle": "2025-07-28T10:54:29.651076Z",
     "shell.execute_reply": "2025-07-28T10:54:29.649586Z"
    },
    "papermill": {
     "duration": 0.034367,
     "end_time": "2025-07-28T10:54:29.653112",
     "exception": false,
     "start_time": "2025-07-28T10:54:29.618745",
     "status": "completed"
    },
    "tags": []
   },
   "outputs": [],
   "source": [
    "#delete\n",
    "#cp_groups_df"
   ]
  },
  {
   "cell_type": "code",
   "execution_count": 58,
   "id": "fa424af1-d1eb-443d-b717-2d279ada8408",
   "metadata": {
    "execution": {
     "iopub.execute_input": "2025-07-28T10:54:29.709816Z",
     "iopub.status.busy": "2025-07-28T10:54:29.709061Z",
     "iopub.status.idle": "2025-07-28T10:54:29.715001Z",
     "shell.execute_reply": "2025-07-28T10:54:29.714017Z"
    },
    "papermill": {
     "duration": 0.036452,
     "end_time": "2025-07-28T10:54:29.717334",
     "exception": false,
     "start_time": "2025-07-28T10:54:29.680882",
     "status": "completed"
    },
    "tags": []
   },
   "outputs": [],
   "source": [
    "#delete\n",
    "#percentage = (cp_groups_df['nongerman_female'] == 1).mean() * 100\n",
    "#print(percentage)\n"
   ]
  },
  {
   "cell_type": "code",
   "execution_count": 59,
   "id": "6cbdab96-b2b2-45af-ad54-d0516db2e28d",
   "metadata": {
    "execution": {
     "iopub.execute_input": "2025-07-28T10:54:29.769660Z",
     "iopub.status.busy": "2025-07-28T10:54:29.768983Z",
     "iopub.status.idle": "2025-07-28T10:54:31.548209Z",
     "shell.execute_reply": "2025-07-28T10:54:31.547111Z"
    },
    "papermill": {
     "duration": 1.807599,
     "end_time": "2025-07-28T10:54:31.550247",
     "exception": false,
     "start_time": "2025-07-28T10:54:29.742648",
     "status": "completed"
    },
    "tags": []
   },
   "outputs": [],
   "source": [
    "# Define covered = 1 if true_label is in the predicted set\n",
    "cp_groups_df['covered'] = cp_groups_df.apply(\n",
    "    lambda r: int(r['true_label'] in r['pred_set']),\n",
    "    axis=1\n",
    ")"
   ]
  },
  {
   "cell_type": "code",
   "execution_count": 60,
   "id": "338ff529-1a6b-4b87-a931-8e4788d52aad",
   "metadata": {
    "execution": {
     "iopub.execute_input": "2025-07-28T10:54:31.608491Z",
     "iopub.status.busy": "2025-07-28T10:54:31.607944Z",
     "iopub.status.idle": "2025-07-28T10:54:31.613066Z",
     "shell.execute_reply": "2025-07-28T10:54:31.612152Z"
    },
    "papermill": {
     "duration": 0.04479,
     "end_time": "2025-07-28T10:54:31.625067",
     "exception": false,
     "start_time": "2025-07-28T10:54:31.580277",
     "status": "completed"
    },
    "tags": []
   },
   "outputs": [],
   "source": [
    "#cp_groups_df"
   ]
  },
  {
   "cell_type": "code",
   "execution_count": 61,
   "id": "90032e27-66df-4540-9169-4e89cfbaa758",
   "metadata": {
    "execution": {
     "iopub.execute_input": "2025-07-28T10:54:31.682335Z",
     "iopub.status.busy": "2025-07-28T10:54:31.681452Z",
     "iopub.status.idle": "2025-07-28T10:54:31.694286Z",
     "shell.execute_reply": "2025-07-28T10:54:31.693209Z"
    },
    "papermill": {
     "duration": 0.045589,
     "end_time": "2025-07-28T10:54:31.697512",
     "exception": false,
     "start_time": "2025-07-28T10:54:31.651923",
     "status": "completed"
    },
    "tags": []
   },
   "outputs": [],
   "source": [
    "subgroups = ['frau1','nongerman','nongerman_male','nongerman_female']\n",
    "\n",
    "# Conditional coverage for subgroup==1\n",
    "cond_coverage = {\n",
    "    g: cp_groups_df.loc[cp_groups_df[g]==1, 'covered'].mean()\n",
    "    for g in subgroups\n",
    "}"
   ]
  },
  {
   "cell_type": "code",
   "execution_count": 62,
   "id": "1e348fb1-b9c3-45bc-ba23-f016827a7e0d",
   "metadata": {
    "execution": {
     "iopub.execute_input": "2025-07-28T10:54:31.751050Z",
     "iopub.status.busy": "2025-07-28T10:54:31.750666Z",
     "iopub.status.idle": "2025-07-28T10:54:31.757699Z",
     "shell.execute_reply": "2025-07-28T10:54:31.756907Z"
    },
    "papermill": {
     "duration": 0.034704,
     "end_time": "2025-07-28T10:54:31.759000",
     "exception": false,
     "start_time": "2025-07-28T10:54:31.724296",
     "status": "completed"
    },
    "tags": []
   },
   "outputs": [
    {
     "data": {
      "text/plain": [
       "{'frau1': 0.9103113627173474,\n",
       " 'nongerman': 0.9060798293381238,\n",
       " 'nongerman_male': 0.9236242456993605,\n",
       " 'nongerman_female': 0.8770491803278688}"
      ]
     },
     "execution_count": 62,
     "metadata": {},
     "output_type": "execute_result"
    }
   ],
   "source": [
    "cond_coverage"
   ]
  },
  {
   "cell_type": "code",
   "execution_count": 63,
   "id": "f5093324-c3dd-4d63-bc4c-8d945e5c8bbb",
   "metadata": {
    "execution": {
     "iopub.execute_input": "2025-07-28T10:54:31.792086Z",
     "iopub.status.busy": "2025-07-28T10:54:31.791654Z",
     "iopub.status.idle": "2025-07-28T10:54:31.798891Z",
     "shell.execute_reply": "2025-07-28T10:54:31.798098Z"
    },
    "papermill": {
     "duration": 0.025617,
     "end_time": "2025-07-28T10:54:31.800474",
     "exception": false,
     "start_time": "2025-07-28T10:54:31.774857",
     "status": "completed"
    },
    "tags": []
   },
   "outputs": [],
   "source": [
    "for subgroup, cov in cond_coverage.items():\n",
    "    cp_metrics_df[f\"cov_{subgroup}\"] = cov"
   ]
  },
  {
   "cell_type": "code",
   "execution_count": 64,
   "id": "6e872e10-dbe5-49e8-b554-5030c98ff75d",
   "metadata": {
    "execution": {
     "iopub.execute_input": "2025-07-28T10:54:31.851361Z",
     "iopub.status.busy": "2025-07-28T10:54:31.850596Z",
     "iopub.status.idle": "2025-07-28T10:54:31.865111Z",
     "shell.execute_reply": "2025-07-28T10:54:31.864189Z"
    },
    "papermill": {
     "duration": 0.040707,
     "end_time": "2025-07-28T10:54:31.866398",
     "exception": false,
     "start_time": "2025-07-28T10:54:31.825691",
     "status": "completed"
    },
    "tags": []
   },
   "outputs": [
    {
     "data": {
      "text/html": [
       "<div>\n",
       "<style scoped>\n",
       "    .dataframe tbody tr th:only-of-type {\n",
       "        vertical-align: middle;\n",
       "    }\n",
       "\n",
       "    .dataframe tbody tr th {\n",
       "        vertical-align: top;\n",
       "    }\n",
       "\n",
       "    .dataframe thead th {\n",
       "        text-align: right;\n",
       "    }\n",
       "</style>\n",
       "<table border=\"1\" class=\"dataframe\">\n",
       "  <thead>\n",
       "    <tr style=\"text-align: right;\">\n",
       "      <th></th>\n",
       "      <th>universe_id</th>\n",
       "      <th>universe_training_size</th>\n",
       "      <th>universe_scale</th>\n",
       "      <th>universe_model</th>\n",
       "      <th>universe_exclude_features</th>\n",
       "      <th>universe_exclude_subgroups</th>\n",
       "      <th>q_hat</th>\n",
       "      <th>coverage</th>\n",
       "      <th>avg_size</th>\n",
       "      <th>cov_frau1</th>\n",
       "      <th>cov_nongerman</th>\n",
       "      <th>cov_nongerman_male</th>\n",
       "      <th>cov_nongerman_female</th>\n",
       "    </tr>\n",
       "  </thead>\n",
       "  <tbody>\n",
       "    <tr>\n",
       "      <th>0</th>\n",
       "      <td>9a3d11eccd64c950f2b0b9c1abb2b375</td>\n",
       "      <td>2014</td>\n",
       "      <td>scale</td>\n",
       "      <td>logreg</td>\n",
       "      <td>age</td>\n",
       "      <td>drop-non-german</td>\n",
       "      <td>0.678376</td>\n",
       "      <td>0.912306</td>\n",
       "      <td>1.121625</td>\n",
       "      <td>0.910311</td>\n",
       "      <td>0.90608</td>\n",
       "      <td>0.923624</td>\n",
       "      <td>0.877049</td>\n",
       "    </tr>\n",
       "  </tbody>\n",
       "</table>\n",
       "</div>"
      ],
      "text/plain": [
       "                        universe_id universe_training_size universe_scale  \\\n",
       "0  9a3d11eccd64c950f2b0b9c1abb2b375                   2014          scale   \n",
       "\n",
       "  universe_model universe_exclude_features universe_exclude_subgroups  \\\n",
       "0         logreg                       age            drop-non-german   \n",
       "\n",
       "      q_hat  coverage  avg_size  cov_frau1  cov_nongerman  cov_nongerman_male  \\\n",
       "0  0.678376  0.912306  1.121625   0.910311        0.90608            0.923624   \n",
       "\n",
       "   cov_nongerman_female  \n",
       "0              0.877049  "
      ]
     },
     "execution_count": 64,
     "metadata": {},
     "output_type": "execute_result"
    }
   ],
   "source": [
    "cp_metrics_df"
   ]
  },
  {
   "cell_type": "markdown",
   "id": "33774451",
   "metadata": {
    "papermill": {
     "duration": 0.013922,
     "end_time": "2025-07-28T10:54:31.894865",
     "exception": false,
     "start_time": "2025-07-28T10:54:31.880943",
     "status": "completed"
    },
    "tags": []
   },
   "source": [
    "# (Fairness) Metrics"
   ]
  },
  {
   "cell_type": "code",
   "execution_count": 65,
   "id": "debc5d62",
   "metadata": {
    "execution": {
     "iopub.execute_input": "2025-07-28T10:54:31.950634Z",
     "iopub.status.busy": "2025-07-28T10:54:31.950172Z",
     "iopub.status.idle": "2025-07-28T10:54:31.971627Z",
     "shell.execute_reply": "2025-07-28T10:54:31.970716Z"
    },
    "papermill": {
     "duration": 0.051567,
     "end_time": "2025-07-28T10:54:31.973245",
     "exception": false,
     "start_time": "2025-07-28T10:54:31.921678",
     "status": "completed"
    },
    "tags": []
   },
   "outputs": [],
   "source": [
    "# do I need to include maxdeutsch1.missing?\n",
    "\n",
    "import numpy as np\n",
    "\n",
    "colname_to_bin = \"maxdeutsch1\"\n",
    "majority_value = org_train[colname_to_bin].mode()[0]\n",
    "\n",
    "org_test[\"majmin\"] = np.where(org_test[colname_to_bin] == majority_value, \"majority\", \"minority\")"
   ]
  },
  {
   "cell_type": "code",
   "execution_count": 66,
   "id": "06a50de5",
   "metadata": {
    "execution": {
     "iopub.execute_input": "2025-07-28T10:54:32.024773Z",
     "iopub.status.busy": "2025-07-28T10:54:32.023690Z",
     "iopub.status.idle": "2025-07-28T10:54:34.801095Z",
     "shell.execute_reply": "2025-07-28T10:54:34.799589Z"
    },
    "papermill": {
     "duration": 2.80544,
     "end_time": "2025-07-28T10:54:34.803166",
     "exception": false,
     "start_time": "2025-07-28T10:54:31.997726",
     "status": "completed"
    },
    "tags": []
   },
   "outputs": [],
   "source": [
    "example_universe = universe.copy()\n",
    "example_universe[\"cutoff\"] = example_universe[\"cutoff\"][0]\n",
    "example_universe[\"eval_fairness_grouping\"] = example_universe[\"eval_fairness_grouping\"][0]\n",
    "fairness_dict, metric_frame = universe_analysis.compute_metrics(\n",
    "    example_universe,\n",
    "    y_pred_prob=probs_test,\n",
    "    y_test=y_true,\n",
    "    org_test=org_test,\n",
    ")"
   ]
  },
  {
   "cell_type": "markdown",
   "id": "f95d4e02",
   "metadata": {
    "papermill": {
     "duration": 0.02777,
     "end_time": "2025-07-28T10:54:34.858151",
     "exception": false,
     "start_time": "2025-07-28T10:54:34.830381",
     "status": "completed"
    },
    "tags": []
   },
   "source": [
    "# Overall"
   ]
  },
  {
   "cell_type": "markdown",
   "id": "bdee4871",
   "metadata": {
    "papermill": {
     "duration": 0.032111,
     "end_time": "2025-07-28T10:54:34.923024",
     "exception": false,
     "start_time": "2025-07-28T10:54:34.890913",
     "status": "completed"
    },
    "tags": []
   },
   "source": [
    "Fairness\n",
    "Main fairness target: Equalized Odds. Seems to be a better fit than equal opportunity, since we're not only interested in Y = 1. Seems to be a better fit than demographic parity, since we also care about accuracy, not just equal distribution of preds.\n",
    "\n",
    "Pick column for computation of fairness metrics\n",
    "\n",
    "Performance\n",
    "Overall performance measures, most interesting in relation to the measures split by group below"
   ]
  },
  {
   "cell_type": "code",
   "execution_count": 67,
   "id": "c4e067c6",
   "metadata": {
    "execution": {
     "iopub.execute_input": "2025-07-28T10:54:34.989302Z",
     "iopub.status.busy": "2025-07-28T10:54:34.988757Z",
     "iopub.status.idle": "2025-07-28T10:54:34.998323Z",
     "shell.execute_reply": "2025-07-28T10:54:34.997342Z"
    },
    "papermill": {
     "duration": 0.044841,
     "end_time": "2025-07-28T10:54:34.999944",
     "exception": false,
     "start_time": "2025-07-28T10:54:34.955103",
     "status": "completed"
    },
    "tags": []
   },
   "outputs": [
    {
     "data": {
      "text/plain": [
       "accuracy                   0.225181\n",
       "balanced accuracy          0.550430\n",
       "f1                         0.246490\n",
       "precision                  0.140812\n",
       "false positive rate        0.887062\n",
       "false negative rate        0.012079\n",
       "selection rate             0.900000\n",
       "count                  89710.000000\n",
       "dtype: float64"
      ]
     },
     "execution_count": 67,
     "metadata": {},
     "output_type": "execute_result"
    }
   ],
   "source": [
    "metric_frame.overall"
   ]
  },
  {
   "cell_type": "markdown",
   "id": "e968fe9d",
   "metadata": {
    "papermill": {
     "duration": 0.033266,
     "end_time": "2025-07-28T10:54:35.065230",
     "exception": false,
     "start_time": "2025-07-28T10:54:35.031964",
     "status": "completed"
    },
    "tags": []
   },
   "source": [
    "By Group"
   ]
  },
  {
   "cell_type": "code",
   "execution_count": 68,
   "id": "ec325bce",
   "metadata": {
    "execution": {
     "iopub.execute_input": "2025-07-28T10:54:35.132205Z",
     "iopub.status.busy": "2025-07-28T10:54:35.131375Z",
     "iopub.status.idle": "2025-07-28T10:54:35.149388Z",
     "shell.execute_reply": "2025-07-28T10:54:35.148210Z"
    },
    "papermill": {
     "duration": 0.053543,
     "end_time": "2025-07-28T10:54:35.151338",
     "exception": false,
     "start_time": "2025-07-28T10:54:35.097795",
     "status": "completed"
    },
    "tags": []
   },
   "outputs": [
    {
     "data": {
      "text/html": [
       "<div>\n",
       "<style scoped>\n",
       "    .dataframe tbody tr th:only-of-type {\n",
       "        vertical-align: middle;\n",
       "    }\n",
       "\n",
       "    .dataframe tbody tr th {\n",
       "        vertical-align: top;\n",
       "    }\n",
       "\n",
       "    .dataframe thead th {\n",
       "        text-align: right;\n",
       "    }\n",
       "</style>\n",
       "<table border=\"1\" class=\"dataframe\">\n",
       "  <thead>\n",
       "    <tr style=\"text-align: right;\">\n",
       "      <th></th>\n",
       "      <th>accuracy</th>\n",
       "      <th>balanced accuracy</th>\n",
       "      <th>f1</th>\n",
       "      <th>precision</th>\n",
       "      <th>false positive rate</th>\n",
       "      <th>false negative rate</th>\n",
       "      <th>selection rate</th>\n",
       "      <th>count</th>\n",
       "    </tr>\n",
       "    <tr>\n",
       "      <th>majmin</th>\n",
       "      <th></th>\n",
       "      <th></th>\n",
       "      <th></th>\n",
       "      <th></th>\n",
       "      <th></th>\n",
       "      <th></th>\n",
       "      <th></th>\n",
       "      <th></th>\n",
       "    </tr>\n",
       "  </thead>\n",
       "  <tbody>\n",
       "    <tr>\n",
       "      <th>majority</th>\n",
       "      <td>0.246827</td>\n",
       "      <td>0.560371</td>\n",
       "      <td>0.257147</td>\n",
       "      <td>0.147841</td>\n",
       "      <td>0.865800</td>\n",
       "      <td>0.013457</td>\n",
       "      <td>0.881755</td>\n",
       "      <td>69170.0</td>\n",
       "    </tr>\n",
       "    <tr>\n",
       "      <th>minority</th>\n",
       "      <td>0.152288</td>\n",
       "      <td>0.517973</td>\n",
       "      <td>0.212697</td>\n",
       "      <td>0.119101</td>\n",
       "      <td>0.957297</td>\n",
       "      <td>0.006757</td>\n",
       "      <td>0.961441</td>\n",
       "      <td>20540.0</td>\n",
       "    </tr>\n",
       "  </tbody>\n",
       "</table>\n",
       "</div>"
      ],
      "text/plain": [
       "          accuracy  balanced accuracy        f1  precision  \\\n",
       "majmin                                                       \n",
       "majority  0.246827           0.560371  0.257147   0.147841   \n",
       "minority  0.152288           0.517973  0.212697   0.119101   \n",
       "\n",
       "          false positive rate  false negative rate  selection rate    count  \n",
       "majmin                                                                       \n",
       "majority             0.865800             0.013457        0.881755  69170.0  \n",
       "minority             0.957297             0.006757        0.961441  20540.0  "
      ]
     },
     "execution_count": 68,
     "metadata": {},
     "output_type": "execute_result"
    }
   ],
   "source": [
    "metric_frame.by_group"
   ]
  },
  {
   "cell_type": "code",
   "execution_count": 69,
   "id": "a9ddbe63",
   "metadata": {
    "execution": {
     "iopub.execute_input": "2025-07-28T10:54:35.219141Z",
     "iopub.status.busy": "2025-07-28T10:54:35.218394Z",
     "iopub.status.idle": "2025-07-28T10:54:37.811774Z",
     "shell.execute_reply": "2025-07-28T10:54:37.810647Z"
    },
    "papermill": {
     "duration": 2.629741,
     "end_time": "2025-07-28T10:54:37.813527",
     "exception": false,
     "start_time": "2025-07-28T10:54:35.183786",
     "status": "completed"
    },
    "tags": []
   },
   "outputs": [
    {
     "data": {
      "text/plain": [
       "array([[<Axes: title={'center': 'accuracy'}, xlabel='majmin'>,\n",
       "        <Axes: title={'center': 'balanced accuracy'}, xlabel='majmin'>,\n",
       "        <Axes: title={'center': 'f1'}, xlabel='majmin'>],\n",
       "       [<Axes: title={'center': 'precision'}, xlabel='majmin'>,\n",
       "        <Axes: title={'center': 'false positive rate'}, xlabel='majmin'>,\n",
       "        <Axes: title={'center': 'false negative rate'}, xlabel='majmin'>],\n",
       "       [<Axes: title={'center': 'selection rate'}, xlabel='majmin'>,\n",
       "        <Axes: title={'center': 'count'}, xlabel='majmin'>,\n",
       "        <Axes: xlabel='majmin'>]], dtype=object)"
      ]
     },
     "execution_count": 69,
     "metadata": {},
     "output_type": "execute_result"
    },
    {
     "data": {
      "image/png": "[encoded data removed]",
      "text/plain": [
       "<Figure size 1200x800 with 9 Axes>"
      ]
     },
     "metadata": {},
     "output_type": "display_data"
    }
   ],
   "source": [
    "# In a graphic\n",
    "metric_frame.by_group.plot.bar(\n",
    "    subplots=True,\n",
    "    layout=[3, 3],\n",
    "    legend=False,\n",
    "    figsize=[12, 8],\n",
    "    title=\"Show all metrics\",\n",
    ")"
   ]
  },
  {
   "cell_type": "markdown",
   "id": "f57a0bac",
   "metadata": {
    "papermill": {
     "duration": 0.028859,
     "end_time": "2025-07-28T10:54:37.873187",
     "exception": false,
     "start_time": "2025-07-28T10:54:37.844328",
     "status": "completed"
    },
    "tags": []
   },
   "source": [
    "# Final Output"
   ]
  },
  {
   "cell_type": "code",
   "execution_count": 70,
   "id": "96d280a3",
   "metadata": {
    "execution": {
     "iopub.execute_input": "2025-07-28T10:54:37.931946Z",
     "iopub.status.busy": "2025-07-28T10:54:37.931248Z",
     "iopub.status.idle": "2025-07-28T10:54:37.940779Z",
     "shell.execute_reply": "2025-07-28T10:54:37.939642Z"
    },
    "papermill": {
     "duration": 0.040875,
     "end_time": "2025-07-28T10:54:37.942541",
     "exception": false,
     "start_time": "2025-07-28T10:54:37.901666",
     "status": "completed"
    },
    "tags": []
   },
   "outputs": [
    {
     "data": {
      "text/plain": [
       "4"
      ]
     },
     "execution_count": 70,
     "metadata": {},
     "output_type": "execute_result"
    }
   ],
   "source": [
    "sub_universes = universe_analysis.generate_sub_universes()\n",
    "len(sub_universes)"
   ]
  },
  {
   "cell_type": "code",
   "execution_count": 71,
   "id": "92adf7ba",
   "metadata": {
    "execution": {
     "iopub.execute_input": "2025-07-28T10:54:38.001614Z",
     "iopub.status.busy": "2025-07-28T10:54:38.001027Z",
     "iopub.status.idle": "2025-07-28T10:54:38.007788Z",
     "shell.execute_reply": "2025-07-28T10:54:38.006755Z"
    },
    "papermill": {
     "duration": 0.038486,
     "end_time": "2025-07-28T10:54:38.009790",
     "exception": false,
     "start_time": "2025-07-28T10:54:37.971304",
     "status": "completed"
    },
    "tags": []
   },
   "outputs": [],
   "source": [
    "def filter_sub_universe_data(sub_universe, org_test):\n",
    "    # Keep all rows — no filtering\n",
    "    keep_rows_mask = np.ones(org_test.shape[0], dtype=bool)\n",
    "\n",
    "    print(f\"[INFO] Keeping all rows: {keep_rows_mask.sum()} rows retained.\")\n",
    "    return keep_rows_mask"
   ]
  },
  {
   "cell_type": "code",
   "execution_count": 72,
   "id": "4a759155",
   "metadata": {
    "execution": {
     "iopub.execute_input": "2025-07-28T10:54:38.074720Z",
     "iopub.status.busy": "2025-07-28T10:54:38.074176Z",
     "iopub.status.idle": "2025-07-28T10:54:47.858800Z",
     "shell.execute_reply": "2025-07-28T10:54:47.857470Z"
    },
    "papermill": {
     "duration": 9.819801,
     "end_time": "2025-07-28T10:54:47.861178",
     "exception": false,
     "start_time": "2025-07-28T10:54:38.041377",
     "status": "completed"
    },
    "tags": []
   },
   "outputs": [
    {
     "name": "stdout",
     "output_type": "stream",
     "text": [
      "Stopping execution_time clock.\n",
      "[INFO] Keeping all rows: 89710 rows retained.\n"
     ]
    },
    {
     "name": "stdout",
     "output_type": "stream",
     "text": [
      "[INFO] Keeping all rows: 89710 rows retained.\n"
     ]
    },
    {
     "name": "stdout",
     "output_type": "stream",
     "text": [
      "[INFO] Keeping all rows: 89710 rows retained.\n"
     ]
    },
    {
     "name": "stdout",
     "output_type": "stream",
     "text": [
      "[INFO] Keeping all rows: 89710 rows retained.\n"
     ]
    },
    {
     "data": {
      "text/html": [
       "<div>\n",
       "<style scoped>\n",
       "    .dataframe tbody tr th:only-of-type {\n",
       "        vertical-align: middle;\n",
       "    }\n",
       "\n",
       "    .dataframe tbody tr th {\n",
       "        vertical-align: top;\n",
       "    }\n",
       "\n",
       "    .dataframe thead th {\n",
       "        text-align: right;\n",
       "    }\n",
       "</style>\n",
       "<table border=\"1\" class=\"dataframe\">\n",
       "  <thead>\n",
       "    <tr style=\"text-align: right;\">\n",
       "      <th></th>\n",
       "      <th>run_no</th>\n",
       "      <th>universe_id</th>\n",
       "      <th>universe_settings</th>\n",
       "      <th>execution_time</th>\n",
       "      <th>test_size_n</th>\n",
       "      <th>test_size_frac</th>\n",
       "      <th>fair_main_equalized_odds_difference</th>\n",
       "      <th>fair_main_equalized_odds_ratio</th>\n",
       "      <th>fair_main_demographic_parity_difference</th>\n",
       "      <th>fair_main_demographic_parity_ratio</th>\n",
       "      <th>...</th>\n",
       "      <th>perf_grp_precision_0</th>\n",
       "      <th>perf_grp_precision_1</th>\n",
       "      <th>perf_grp_false positive rate_0</th>\n",
       "      <th>perf_grp_false positive rate_1</th>\n",
       "      <th>perf_grp_false negative rate_0</th>\n",
       "      <th>perf_grp_false negative rate_1</th>\n",
       "      <th>perf_grp_selection rate_0</th>\n",
       "      <th>perf_grp_selection rate_1</th>\n",
       "      <th>perf_grp_count_0</th>\n",
       "      <th>perf_grp_count_1</th>\n",
       "    </tr>\n",
       "  </thead>\n",
       "  <tbody>\n",
       "    <tr>\n",
       "      <th>0</th>\n",
       "      <td>11</td>\n",
       "      <td>9a3d11eccd64c950f2b0b9c1abb2b375</td>\n",
       "      <td>{\"cutoff\": \"quantile_0.1\", \"eval_fairness_grou...</td>\n",
       "      <td>31.786999</td>\n",
       "      <td>89710</td>\n",
       "      <td>1.0</td>\n",
       "      <td>0.091497</td>\n",
       "      <td>0.904422</td>\n",
       "      <td>0.079686</td>\n",
       "      <td>0.917118</td>\n",
       "      <td>...</td>\n",
       "      <td>NaN</td>\n",
       "      <td>NaN</td>\n",
       "      <td>NaN</td>\n",
       "      <td>NaN</td>\n",
       "      <td>NaN</td>\n",
       "      <td>NaN</td>\n",
       "      <td>NaN</td>\n",
       "      <td>NaN</td>\n",
       "      <td>NaN</td>\n",
       "      <td>NaN</td>\n",
       "    </tr>\n",
       "    <tr>\n",
       "      <th>0</th>\n",
       "      <td>11</td>\n",
       "      <td>9a3d11eccd64c950f2b0b9c1abb2b375</td>\n",
       "      <td>{\"cutoff\": \"quantile_0.1\", \"eval_fairness_grou...</td>\n",
       "      <td>31.786999</td>\n",
       "      <td>89710</td>\n",
       "      <td>1.0</td>\n",
       "      <td>0.091497</td>\n",
       "      <td>0.904422</td>\n",
       "      <td>0.079686</td>\n",
       "      <td>0.917118</td>\n",
       "      <td>...</td>\n",
       "      <td>0.119101</td>\n",
       "      <td>0.147841</td>\n",
       "      <td>0.957297</td>\n",
       "      <td>0.865800</td>\n",
       "      <td>0.006757</td>\n",
       "      <td>0.013457</td>\n",
       "      <td>0.961441</td>\n",
       "      <td>0.881755</td>\n",
       "      <td>20540.0</td>\n",
       "      <td>69170.0</td>\n",
       "    </tr>\n",
       "    <tr>\n",
       "      <th>0</th>\n",
       "      <td>11</td>\n",
       "      <td>9a3d11eccd64c950f2b0b9c1abb2b375</td>\n",
       "      <td>{\"cutoff\": \"quantile_0.25\", \"eval_fairness_gro...</td>\n",
       "      <td>31.786999</td>\n",
       "      <td>89710</td>\n",
       "      <td>1.0</td>\n",
       "      <td>0.157415</td>\n",
       "      <td>0.812878</td>\n",
       "      <td>0.136016</td>\n",
       "      <td>0.840892</td>\n",
       "      <td>...</td>\n",
       "      <td>NaN</td>\n",
       "      <td>NaN</td>\n",
       "      <td>NaN</td>\n",
       "      <td>NaN</td>\n",
       "      <td>NaN</td>\n",
       "      <td>NaN</td>\n",
       "      <td>NaN</td>\n",
       "      <td>NaN</td>\n",
       "      <td>NaN</td>\n",
       "      <td>NaN</td>\n",
       "    </tr>\n",
       "    <tr>\n",
       "      <th>0</th>\n",
       "      <td>11</td>\n",
       "      <td>9a3d11eccd64c950f2b0b9c1abb2b375</td>\n",
       "      <td>{\"cutoff\": \"quantile_0.25\", \"eval_fairness_gro...</td>\n",
       "      <td>31.786999</td>\n",
       "      <td>89710</td>\n",
       "      <td>1.0</td>\n",
       "      <td>0.157415</td>\n",
       "      <td>0.812878</td>\n",
       "      <td>0.136016</td>\n",
       "      <td>0.840892</td>\n",
       "      <td>...</td>\n",
       "      <td>0.129392</td>\n",
       "      <td>0.174426</td>\n",
       "      <td>0.841239</td>\n",
       "      <td>0.683825</td>\n",
       "      <td>0.040541</td>\n",
       "      <td>0.051094</td>\n",
       "      <td>0.854869</td>\n",
       "      <td>0.718852</td>\n",
       "      <td>20540.0</td>\n",
       "      <td>69170.0</td>\n",
       "    </tr>\n",
       "  </tbody>\n",
       "</table>\n",
       "<p>4 rows × 50 columns</p>\n",
       "</div>"
      ],
      "text/plain": [
       "  run_no                       universe_id  \\\n",
       "0     11  9a3d11eccd64c950f2b0b9c1abb2b375   \n",
       "0     11  9a3d11eccd64c950f2b0b9c1abb2b375   \n",
       "0     11  9a3d11eccd64c950f2b0b9c1abb2b375   \n",
       "0     11  9a3d11eccd64c950f2b0b9c1abb2b375   \n",
       "\n",
       "                                   universe_settings  execution_time  \\\n",
       "0  {\"cutoff\": \"quantile_0.1\", \"eval_fairness_grou...       31.786999   \n",
       "0  {\"cutoff\": \"quantile_0.1\", \"eval_fairness_grou...       31.786999   \n",
       "0  {\"cutoff\": \"quantile_0.25\", \"eval_fairness_gro...       31.786999   \n",
       "0  {\"cutoff\": \"quantile_0.25\", \"eval_fairness_gro...       31.786999   \n",
       "\n",
       "   test_size_n  test_size_frac  fair_main_equalized_odds_difference  \\\n",
       "0        89710             1.0                             0.091497   \n",
       "0        89710             1.0                             0.091497   \n",
       "0        89710             1.0                             0.157415   \n",
       "0        89710             1.0                             0.157415   \n",
       "\n",
       "   fair_main_equalized_odds_ratio  fair_main_demographic_parity_difference  \\\n",
       "0                        0.904422                                 0.079686   \n",
       "0                        0.904422                                 0.079686   \n",
       "0                        0.812878                                 0.136016   \n",
       "0                        0.812878                                 0.136016   \n",
       "\n",
       "   fair_main_demographic_parity_ratio  ...  perf_grp_precision_0  \\\n",
       "0                            0.917118  ...                   NaN   \n",
       "0                            0.917118  ...              0.119101   \n",
       "0                            0.840892  ...                   NaN   \n",
       "0                            0.840892  ...              0.129392   \n",
       "\n",
       "   perf_grp_precision_1  perf_grp_false positive rate_0  \\\n",
       "0                   NaN                             NaN   \n",
       "0              0.147841                        0.957297   \n",
       "0                   NaN                             NaN   \n",
       "0              0.174426                        0.841239   \n",
       "\n",
       "   perf_grp_false positive rate_1  perf_grp_false negative rate_0  \\\n",
       "0                             NaN                             NaN   \n",
       "0                        0.865800                        0.006757   \n",
       "0                             NaN                             NaN   \n",
       "0                        0.683825                        0.040541   \n",
       "\n",
       "   perf_grp_false negative rate_1  perf_grp_selection rate_0  \\\n",
       "0                             NaN                        NaN   \n",
       "0                        0.013457                   0.961441   \n",
       "0                             NaN                        NaN   \n",
       "0                        0.051094                   0.854869   \n",
       "\n",
       "   perf_grp_selection rate_1  perf_grp_count_0  perf_grp_count_1  \n",
       "0                        NaN               NaN               NaN  \n",
       "0                   0.881755           20540.0           69170.0  \n",
       "0                        NaN               NaN               NaN  \n",
       "0                   0.718852           20540.0           69170.0  \n",
       "\n",
       "[4 rows x 50 columns]"
      ]
     },
     "execution_count": 72,
     "metadata": {},
     "output_type": "execute_result"
    }
   ],
   "source": [
    "final_output = universe_analysis.generate_final_output(\n",
    "    y_pred_prob=probs_test,\n",
    "    y_test=y_true,\n",
    "    org_test=org_test,\n",
    "    filter_data=filter_sub_universe_data,\n",
    "    cp_metrics_df=cp_metrics_df,\n",
    "    save=True,\n",
    ")\n",
    "final_output"
   ]
  },
  {
   "cell_type": "code",
   "execution_count": null,
   "id": "721ff514-cb11-46f8-b6fc-50392f74b5cb",
   "metadata": {
    "papermill": {
     "duration": 0.035627,
     "end_time": "2025-07-28T10:54:47.934673",
     "exception": false,
     "start_time": "2025-07-28T10:54:47.899046",
     "status": "completed"
    },
    "tags": []
   },
   "outputs": [],
   "source": []
  }
 ],
 "metadata": {
  "celltoolbar": "Tags",
  "kernelspec": {
   "display_name": "Python (CMA Fairness)",
   "language": "python",
   "name": "cma_fair_env"
  },
  "language_info": {
   "codemirror_mode": {
    "name": "ipython",
    "version": 3
   },
   "file_extension": ".py",
   "mimetype": "text/x-python",
   "name": "python",
   "nbconvert_exporter": "python",
   "pygments_lexer": "ipython3",
   "version": "3.10.12"
  },
  "papermill": {
   "default_parameters": {},
   "duration": 46.328392,
   "end_time": "2025-07-28T10:54:48.904014",
   "environment_variables": {},
   "exception": null,
   "input_path": "universe_analysis.ipynb",
   "output_path": "output/runs/11/notebooks/m_11-9a3d11eccd64c950f2b0b9c1abb2b375.ipynb",
   "parameters": {
    "output_dir": "output",
    "run_no": "11",
    "seed": "2023",
    "universe": "{\"cutoff\": [\"quantile_0.1\", \"quantile_0.25\"], \"eval_fairness_grouping\": [\"majority-minority\", \"nationality-all\"], \"exclude_features\": \"age\", \"exclude_subgroups\": \"drop-non-german\", \"model\": \"logreg\", \"scale\": \"scale\", \"training_size\": \"2014\"}",
    "universe_id": "9a3d11eccd64c950f2b0b9c1abb2b375"
   },
   "start_time": "2025-07-28T10:54:02.575622",
   "version": "2.6.0"
  }
 },
 "nbformat": 4,
 "nbformat_minor": 5
}