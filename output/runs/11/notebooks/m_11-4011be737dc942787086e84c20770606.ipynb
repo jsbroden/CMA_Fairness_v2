{
 "cells": [
  {
   "cell_type": "code",
   "execution_count": 1,
   "id": "f159f837-637b-42ba-96b5-ec9a68c44524",
   "metadata": {
    "execution": {
     "iopub.execute_input": "2025-07-28T10:48:26.637291Z",
     "iopub.status.busy": "2025-07-28T10:48:26.636911Z",
     "iopub.status.idle": "2025-07-28T10:48:26.647980Z",
     "shell.execute_reply": "2025-07-28T10:48:26.647093Z"
    },
    "papermill": {
     "duration": 0.036031,
     "end_time": "2025-07-28T10:48:26.649284",
     "exception": false,
     "start_time": "2025-07-28T10:48:26.613253",
     "status": "completed"
    },
    "tags": []
   },
   "outputs": [
    {
     "name": "stdout",
     "output_type": "stream",
     "text": [
      "/dss/dsshome1/0C/ra93lal2/cma/CMA_Fairness_v2\n"
     ]
    },
    {
     "name": "stderr",
     "output_type": "stream",
     "text": [
      "/dss/dsshome1/0C/ra93lal2/.local/share/virtualenvs/CMA_Fairness_v2-3j10GkSs/lib/python3.10/site-packages/IPython/core/magics/osm.py:393: UserWarning: This is now an optional IPython functionality, using bookmarks requires you to install the `pickleshare` library.\n",
      "  bkms = self.shell.db.get('bookmarks', {})\n",
      "/dss/dsshome1/0C/ra93lal2/.local/share/virtualenvs/CMA_Fairness_v2-3j10GkSs/lib/python3.10/site-packages/IPython/core/magics/osm.py:417: UserWarning: This is now an optional IPython functionality, setting dhist requires you to install the `pickleshare` library.\n",
      "  self.shell.db['dhist'] = compress_dhist(dhist)[-100:]\n"
     ]
    }
   ],
   "source": [
    "%cd ~/cma/CMA_Fairness_v2"
   ]
  },
  {
   "cell_type": "markdown",
   "id": "de2603b9",
   "metadata": {
    "papermill": {
     "duration": 0.009942,
     "end_time": "2025-07-28T10:48:26.669846",
     "exception": false,
     "start_time": "2025-07-28T10:48:26.659904",
     "status": "completed"
    },
    "tags": []
   },
   "source": [
    "The following cell holds the definition of our parameters, these values can be overriden by rendering the with e.g. the following command:\n",
    "\n",
    "papermill -p alpha 0.2 -p ratio 0.3 universe_analysis.ipynb output/test_run.ipynb"
   ]
  },
  {
   "cell_type": "code",
   "execution_count": 2,
   "id": "a80968a0-40bb-4fa9-85ef-2d5eefb01975",
   "metadata": {
    "execution": {
     "iopub.execute_input": "2025-07-28T10:48:26.692942Z",
     "iopub.status.busy": "2025-07-28T10:48:26.692127Z",
     "iopub.status.idle": "2025-07-28T10:48:26.697267Z",
     "shell.execute_reply": "2025-07-28T10:48:26.696564Z"
    },
    "papermill": {
     "duration": 0.017774,
     "end_time": "2025-07-28T10:48:26.698606",
     "exception": false,
     "start_time": "2025-07-28T10:48:26.680832",
     "status": "completed"
    },
    "tags": []
   },
   "outputs": [
    {
     "name": "stdout",
     "output_type": "stream",
     "text": [
      "Current working directory: /dss/dsshome1/0C/ra93lal2/cma/CMA_Fairness_v2\n"
     ]
    }
   ],
   "source": [
    "import os\n",
    "print(\"Current working directory:\", os.getcwd())"
   ]
  },
  {
   "cell_type": "code",
   "execution_count": 3,
   "id": "2dce4c03",
   "metadata": {
    "execution": {
     "iopub.execute_input": "2025-07-28T10:48:26.720767Z",
     "iopub.status.busy": "2025-07-28T10:48:26.720402Z",
     "iopub.status.idle": "2025-07-28T10:48:26.725781Z",
     "shell.execute_reply": "2025-07-28T10:48:26.724994Z"
    },
    "papermill": {
     "duration": 0.017498,
     "end_time": "2025-07-28T10:48:26.726946",
     "exception": false,
     "start_time": "2025-07-28T10:48:26.709448",
     "status": "completed"
    },
    "tags": [
     "parameters"
    ]
   },
   "outputs": [],
   "source": [
    "run_no = 0\n",
    "universe_id = \"test\"\n",
    "universe = {\n",
    "    \"training_size\": \"2014\", # \"25k\", \"5k\", \"1k\", \"2014\"\n",
    "    \"scale\": \"scale\", # \"scale\", \"do-not-scale\",\n",
    "    #\"stratify_split\": \"target\", # \"none\", \"target\", \"protected-attribute\", \"both\",\n",
    "    \"model\": \"elasticnet\", # \"logreg\", \"penalized_logreg\", \"rf\", \"gbm\", \"elasticnet\"\n",
    "    \"cutoff\": [\"quantile_0.15\", \"quantile_0.30\"],\n",
    "    \"exclude_features\": \"age\", # \"none\", \"nationality\", \"sex\", \"nationality-sex\", \"age\"\n",
    "    \"exclude_subgroups\": \"keep-all\", # \"keep-all\", \"drop-non-german\"\n",
    "    \"eval_fairness_grouping\": [\"majority-minority\", \"nationality-all\"]\n",
    "}\n",
    "\n",
    "output_dir=\"./output\"\n",
    "seed=0"
   ]
  },
  {
   "cell_type": "code",
   "execution_count": 4,
   "id": "3a53ae5a",
   "metadata": {
    "execution": {
     "iopub.execute_input": "2025-07-28T10:48:26.751641Z",
     "iopub.status.busy": "2025-07-28T10:48:26.751184Z",
     "iopub.status.idle": "2025-07-28T10:48:26.755615Z",
     "shell.execute_reply": "2025-07-28T10:48:26.754648Z"
    },
    "papermill": {
     "duration": 0.019052,
     "end_time": "2025-07-28T10:48:26.757259",
     "exception": false,
     "start_time": "2025-07-28T10:48:26.738207",
     "status": "completed"
    },
    "tags": [
     "injected-parameters"
    ]
   },
   "outputs": [],
   "source": [
    "# Parameters\n",
    "universe_id = \"4011be737dc942787086e84c20770606\"\n",
    "run_no = \"11\"\n",
    "universe = \"{\\\"cutoff\\\": [\\\"quantile_0.1\\\", \\\"quantile_0.25\\\"], \\\"eval_fairness_grouping\\\": [\\\"majority-minority\\\", \\\"nationality-all\\\"], \\\"exclude_features\\\": \\\"none\\\", \\\"exclude_subgroups\\\": \\\"drop-non-german\\\", \\\"model\\\": \\\"penalized_logreg\\\", \\\"scale\\\": \\\"do-not-scale\\\", \\\"training_size\\\": \\\"1k\\\"}\"\n",
    "output_dir = \"output\"\n",
    "seed = \"2023\"\n"
   ]
  },
  {
   "cell_type": "code",
   "execution_count": 5,
   "id": "1650acaf",
   "metadata": {
    "execution": {
     "iopub.execute_input": "2025-07-28T10:48:26.780684Z",
     "iopub.status.busy": "2025-07-28T10:48:26.780332Z",
     "iopub.status.idle": "2025-07-28T10:48:26.784394Z",
     "shell.execute_reply": "2025-07-28T10:48:26.783510Z"
    },
    "papermill": {
     "duration": 0.016355,
     "end_time": "2025-07-28T10:48:26.786011",
     "exception": false,
     "start_time": "2025-07-28T10:48:26.769656",
     "status": "completed"
    },
    "tags": []
   },
   "outputs": [],
   "source": [
    "import json\n",
    "# Parse universe into dict if it is passed as a string\n",
    "if isinstance(universe, str):\n",
    "    universe = json.loads(universe)"
   ]
  },
  {
   "cell_type": "code",
   "execution_count": 6,
   "id": "16620c48",
   "metadata": {
    "execution": {
     "iopub.execute_input": "2025-07-28T10:48:26.829511Z",
     "iopub.status.busy": "2025-07-28T10:48:26.828706Z",
     "iopub.status.idle": "2025-07-28T10:48:26.877294Z",
     "shell.execute_reply": "2025-07-28T10:48:26.876262Z"
    },
    "papermill": {
     "duration": 0.071843,
     "end_time": "2025-07-28T10:48:26.879036",
     "exception": false,
     "start_time": "2025-07-28T10:48:26.807193",
     "status": "completed"
    },
    "tags": []
   },
   "outputs": [],
   "source": [
    "# Auto-reload the custom package\n",
    "%load_ext autoreload\n",
    "%autoreload 1\n",
    "%aimport fairness_multiverse"
   ]
  },
  {
   "cell_type": "code",
   "execution_count": 7,
   "id": "01c5c9f3",
   "metadata": {
    "execution": {
     "iopub.execute_input": "2025-07-28T10:48:26.924511Z",
     "iopub.status.busy": "2025-07-28T10:48:26.923549Z",
     "iopub.status.idle": "2025-07-28T10:48:28.995069Z",
     "shell.execute_reply": "2025-07-28T10:48:28.993979Z"
    },
    "papermill": {
     "duration": 2.097034,
     "end_time": "2025-07-28T10:48:28.997324",
     "exception": false,
     "start_time": "2025-07-28T10:48:26.900290",
     "status": "completed"
    },
    "tags": []
   },
   "outputs": [],
   "source": [
    "from fairness_multiverse.universe import UniverseAnalysis\n",
    "\n",
    "universe_analysis = UniverseAnalysis(\n",
    "    run_no = run_no,\n",
    "    universe_id = universe_id,\n",
    "    universe = universe,\n",
    "    output_dir=output_dir,\n",
    ")"
   ]
  },
  {
   "cell_type": "code",
   "execution_count": 8,
   "id": "106241f5",
   "metadata": {
    "execution": {
     "iopub.execute_input": "2025-07-28T10:48:29.043283Z",
     "iopub.status.busy": "2025-07-28T10:48:29.042347Z",
     "iopub.status.idle": "2025-07-28T10:48:29.049527Z",
     "shell.execute_reply": "2025-07-28T10:48:29.048355Z"
    },
    "papermill": {
     "duration": 0.031225,
     "end_time": "2025-07-28T10:48:29.051219",
     "exception": false,
     "start_time": "2025-07-28T10:48:29.019994",
     "status": "completed"
    },
    "tags": []
   },
   "outputs": [
    {
     "name": "stdout",
     "output_type": "stream",
     "text": [
      "Using Seed: 2023\n"
     ]
    }
   ],
   "source": [
    "import numpy as np\n",
    "parsed_seed = int(seed)\n",
    "np.random.seed(parsed_seed)\n",
    "print(f\"Using Seed: {parsed_seed}\")"
   ]
  },
  {
   "cell_type": "markdown",
   "id": "e0ebdc57",
   "metadata": {
    "papermill": {
     "duration": 0.021368,
     "end_time": "2025-07-28T10:48:29.096981",
     "exception": false,
     "start_time": "2025-07-28T10:48:29.075613",
     "status": "completed"
    },
    "tags": []
   },
   "source": [
    "# Loading Data"
   ]
  },
  {
   "cell_type": "markdown",
   "id": "681925a3",
   "metadata": {
    "papermill": {
     "duration": 0.021257,
     "end_time": "2025-07-28T10:48:29.139544",
     "exception": false,
     "start_time": "2025-07-28T10:48:29.118287",
     "status": "completed"
    },
    "tags": []
   },
   "source": [
    "Load siab_train, siab_test, siab_calib and/or \n",
    "load siab_train_features, siab_train_labels"
   ]
  },
  {
   "cell_type": "code",
   "execution_count": 9,
   "id": "f0496b8a",
   "metadata": {
    "execution": {
     "iopub.execute_input": "2025-07-28T10:48:29.183863Z",
     "iopub.status.busy": "2025-07-28T10:48:29.183352Z",
     "iopub.status.idle": "2025-07-28T10:48:40.519248Z",
     "shell.execute_reply": "2025-07-28T10:48:40.518357Z"
    },
    "papermill": {
     "duration": 11.359865,
     "end_time": "2025-07-28T10:48:40.520748",
     "exception": false,
     "start_time": "2025-07-28T10:48:29.160883",
     "status": "completed"
    },
    "tags": []
   },
   "outputs": [
    {
     "name": "stdout",
     "output_type": "stream",
     "text": [
      "Loading SIAB data from cache: data/siab_cached.csv.gz\n"
     ]
    },
    {
     "name": "stdout",
     "output_type": "stream",
     "text": [
      "(643690, 164)\n"
     ]
    }
   ],
   "source": [
    "from pathlib import Path\n",
    "import pandas as pd\n",
    "\n",
    "# File paths\n",
    "raw_file = Path(\"data/raw/siab.csv\")\n",
    "cache_file = Path(\"data/siab_cached.csv.gz\")\n",
    "\n",
    "# Ensure cache directory exists\n",
    "cache_file.parent.mkdir(parents=True, exist_ok=True)\n",
    "\n",
    "# Load with simple caching\n",
    "if cache_file.exists():\n",
    "    print(f\"Loading SIAB data from cache: {cache_file}\")\n",
    "    siab = pd.read_csv(cache_file, compression='gzip')\n",
    "else:\n",
    "    print(f\"Cache not found. Reading raw SIAB data: {raw_file}\")\n",
    "    siab = pd.read_csv(raw_file)\n",
    "    siab.to_csv(cache_file, index=False, compression='gzip')\n",
    "    print(f\"Cached SIAB data to: {cache_file}\")\n",
    "\n",
    "# Now use `siab` DataFrame as needed\n",
    "print(siab.shape)"
   ]
  },
  {
   "cell_type": "code",
   "execution_count": 10,
   "id": "db0ca512-5f53-4dba-abdb-a2888bca41ba",
   "metadata": {
    "execution": {
     "iopub.execute_input": "2025-07-28T10:48:40.556687Z",
     "iopub.status.busy": "2025-07-28T10:48:40.556231Z",
     "iopub.status.idle": "2025-07-28T10:48:40.561580Z",
     "shell.execute_reply": "2025-07-28T10:48:40.560810Z"
    },
    "papermill": {
     "duration": 0.020606,
     "end_time": "2025-07-28T10:48:40.562820",
     "exception": false,
     "start_time": "2025-07-28T10:48:40.542214",
     "status": "completed"
    },
    "tags": []
   },
   "outputs": [],
   "source": [
    "#siab"
   ]
  },
  {
   "cell_type": "code",
   "execution_count": 11,
   "id": "a0edb063",
   "metadata": {
    "execution": {
     "iopub.execute_input": "2025-07-28T10:48:40.585989Z",
     "iopub.status.busy": "2025-07-28T10:48:40.585620Z",
     "iopub.status.idle": "2025-07-28T10:48:40.590113Z",
     "shell.execute_reply": "2025-07-28T10:48:40.589328Z"
    },
    "papermill": {
     "duration": 0.017409,
     "end_time": "2025-07-28T10:48:40.591684",
     "exception": false,
     "start_time": "2025-07-28T10:48:40.574275",
     "status": "completed"
    },
    "tags": []
   },
   "outputs": [],
   "source": [
    "#import pandas as pd\n",
    "#\n",
    "#X_train = pd.read_csv(\"./data/X_train.csv\")\n",
    "#y_train = pd.read_csv(\"./data/y_train.csv\")"
   ]
  },
  {
   "cell_type": "code",
   "execution_count": 12,
   "id": "63d08085",
   "metadata": {
    "execution": {
     "iopub.execute_input": "2025-07-28T10:48:40.634160Z",
     "iopub.status.busy": "2025-07-28T10:48:40.633598Z",
     "iopub.status.idle": "2025-07-28T10:48:40.637589Z",
     "shell.execute_reply": "2025-07-28T10:48:40.636861Z"
    },
    "papermill": {
     "duration": 0.026978,
     "end_time": "2025-07-28T10:48:40.638984",
     "exception": false,
     "start_time": "2025-07-28T10:48:40.612006",
     "status": "completed"
    },
    "tags": []
   },
   "outputs": [],
   "source": [
    "#X_test = pd.read_csv(\"./data/X_test.csv\")\n",
    "#y_true = pd.read_csv(\"./data/y_test.csv\")"
   ]
  },
  {
   "cell_type": "code",
   "execution_count": 13,
   "id": "98a8d0fa-1d3d-4ed8-bb2c-281470e24add",
   "metadata": {
    "execution": {
     "iopub.execute_input": "2025-07-28T10:48:40.663838Z",
     "iopub.status.busy": "2025-07-28T10:48:40.663523Z",
     "iopub.status.idle": "2025-07-28T10:48:40.667474Z",
     "shell.execute_reply": "2025-07-28T10:48:40.666632Z"
    },
    "papermill": {
     "duration": 0.016197,
     "end_time": "2025-07-28T10:48:40.668601",
     "exception": false,
     "start_time": "2025-07-28T10:48:40.652404",
     "status": "completed"
    },
    "tags": []
   },
   "outputs": [],
   "source": [
    "# Calibration data for conformal\n",
    "#X_calib = pd.read_csv(\"./data/X_calib.csv\")\n",
    "#y_calib = pd.read_csv(\"./data/y_calib.csv\")"
   ]
  },
  {
   "cell_type": "markdown",
   "id": "9901737e-04df-44f0-9100-f5ad144ed040",
   "metadata": {
    "papermill": {
     "duration": 0.010219,
     "end_time": "2025-07-28T10:48:40.689395",
     "exception": false,
     "start_time": "2025-07-28T10:48:40.679176",
     "status": "completed"
    },
    "tags": []
   },
   "source": [
    "# Splitting Data and Setting Training Data Size"
   ]
  },
  {
   "cell_type": "code",
   "execution_count": 14,
   "id": "acbc8f7d-8fc8-4e86-8c59-5dcb0f58384b",
   "metadata": {
    "execution": {
     "iopub.execute_input": "2025-07-28T10:48:40.714522Z",
     "iopub.status.busy": "2025-07-28T10:48:40.713731Z",
     "iopub.status.idle": "2025-07-28T10:48:40.722399Z",
     "shell.execute_reply": "2025-07-28T10:48:40.721425Z"
    },
    "papermill": {
     "duration": 0.024339,
     "end_time": "2025-07-28T10:48:40.724164",
     "exception": false,
     "start_time": "2025-07-28T10:48:40.699825",
     "status": "completed"
    },
    "tags": []
   },
   "outputs": [],
   "source": [
    "def sample_by_year(df, training_size, random_state=42):\n",
    "    if training_size == \"2014\":\n",
    "        return df[df[\"year\"] == 2014].reset_index(drop=True)\n",
    "    \n",
    "    size_map = {\n",
    "        \"25k\": 5000,\n",
    "        \"5k\": 1000,\n",
    "        \"1k\": 200\n",
    "    }\n",
    "\n",
    "    if training_size not in size_map:\n",
    "        return df.reset_index(drop=True)  # use all data\n",
    "\n",
    "    n_per_year = size_map[training_size]\n",
    "    grouped = df.groupby(\"year\")\n",
    "    sampled = grouped.apply(lambda x: x.sample(n=min(n_per_year, len(x)), random_state=random_state))\n",
    "    return sampled.reset_index(drop=True)"
   ]
  },
  {
   "cell_type": "code",
   "execution_count": 15,
   "id": "6d931f52-beaf-43ff-9e78-9d44a448d54e",
   "metadata": {
    "execution": {
     "iopub.execute_input": "2025-07-28T10:48:40.763653Z",
     "iopub.status.busy": "2025-07-28T10:48:40.763074Z",
     "iopub.status.idle": "2025-07-28T10:48:41.732837Z",
     "shell.execute_reply": "2025-07-28T10:48:41.731473Z"
    },
    "papermill": {
     "duration": 0.99212,
     "end_time": "2025-07-28T10:48:41.735336",
     "exception": false,
     "start_time": "2025-07-28T10:48:40.743216",
     "status": "completed"
    },
    "tags": []
   },
   "outputs": [],
   "source": [
    "siab_s = sample_by_year(siab, universe[\"training_size\"])"
   ]
  },
  {
   "cell_type": "code",
   "execution_count": 16,
   "id": "5db0a40e-a4e2-4920-be85-b12ae061d70d",
   "metadata": {
    "execution": {
     "iopub.execute_input": "2025-07-28T10:48:41.783533Z",
     "iopub.status.busy": "2025-07-28T10:48:41.782910Z",
     "iopub.status.idle": "2025-07-28T10:48:41.794873Z",
     "shell.execute_reply": "2025-07-28T10:48:41.794107Z"
    },
    "papermill": {
     "duration": 0.034265,
     "end_time": "2025-07-28T10:48:41.796326",
     "exception": false,
     "start_time": "2025-07-28T10:48:41.762061",
     "status": "completed"
    },
    "tags": []
   },
   "outputs": [
    {
     "data": {
      "text/plain": [
       "year\n",
       "2010    200\n",
       "2011    200\n",
       "2012    200\n",
       "2013    200\n",
       "2014    200\n",
       "2015    200\n",
       "2016    200\n",
       "dtype: int64"
      ]
     },
     "metadata": {},
     "output_type": "display_data"
    }
   ],
   "source": [
    "display(siab_s.groupby(\"year\").size())"
   ]
  },
  {
   "cell_type": "code",
   "execution_count": 17,
   "id": "a561edb4-d032-42cb-8256-22eac1111c64",
   "metadata": {
    "execution": {
     "iopub.execute_input": "2025-07-28T10:48:41.821085Z",
     "iopub.status.busy": "2025-07-28T10:48:41.820537Z",
     "iopub.status.idle": "2025-07-28T10:48:42.115976Z",
     "shell.execute_reply": "2025-07-28T10:48:42.114791Z"
    },
    "papermill": {
     "duration": 0.309394,
     "end_time": "2025-07-28T10:48:42.117841",
     "exception": false,
     "start_time": "2025-07-28T10:48:41.808447",
     "status": "completed"
    },
    "tags": []
   },
   "outputs": [],
   "source": [
    "siab_train = siab_s[siab_s.year < 2015]\n",
    "siab_calib = siab[siab.year == 2015]\n",
    "siab_test = siab[siab.year == 2016]"
   ]
  },
  {
   "cell_type": "code",
   "execution_count": 18,
   "id": "472de16f-c3db-4916-846b-1f0de9cf1746",
   "metadata": {
    "execution": {
     "iopub.execute_input": "2025-07-28T10:48:42.171168Z",
     "iopub.status.busy": "2025-07-28T10:48:42.170669Z",
     "iopub.status.idle": "2025-07-28T10:48:42.179350Z",
     "shell.execute_reply": "2025-07-28T10:48:42.178106Z"
    },
    "papermill": {
     "duration": 0.039738,
     "end_time": "2025-07-28T10:48:42.181428",
     "exception": false,
     "start_time": "2025-07-28T10:48:42.141690",
     "status": "completed"
    },
    "tags": []
   },
   "outputs": [],
   "source": [
    "X_train = siab_train.iloc[:,4:164]\n",
    "y_train = siab_train.iloc[:, [3]]"
   ]
  },
  {
   "cell_type": "code",
   "execution_count": 19,
   "id": "828c96af-f43a-4ed6-ba47-8ac73a47d56c",
   "metadata": {
    "execution": {
     "iopub.execute_input": "2025-07-28T10:48:42.227576Z",
     "iopub.status.busy": "2025-07-28T10:48:42.226556Z",
     "iopub.status.idle": "2025-07-28T10:48:42.359164Z",
     "shell.execute_reply": "2025-07-28T10:48:42.357783Z"
    },
    "papermill": {
     "duration": 0.158491,
     "end_time": "2025-07-28T10:48:42.361463",
     "exception": false,
     "start_time": "2025-07-28T10:48:42.202972",
     "status": "completed"
    },
    "tags": []
   },
   "outputs": [],
   "source": [
    "X_calib = siab_calib.iloc[:,4:164]\n",
    "y_calib = siab_calib.iloc[:, [3]]"
   ]
  },
  {
   "cell_type": "code",
   "execution_count": 20,
   "id": "c34be9c3-6bd6-476e-acd3-845840e303be",
   "metadata": {
    "execution": {
     "iopub.execute_input": "2025-07-28T10:48:42.410553Z",
     "iopub.status.busy": "2025-07-28T10:48:42.409457Z",
     "iopub.status.idle": "2025-07-28T10:48:42.471601Z",
     "shell.execute_reply": "2025-07-28T10:48:42.470406Z"
    },
    "papermill": {
     "duration": 0.088589,
     "end_time": "2025-07-28T10:48:42.473738",
     "exception": false,
     "start_time": "2025-07-28T10:48:42.385149",
     "status": "completed"
    },
    "tags": []
   },
   "outputs": [],
   "source": [
    "X_test = siab_test.iloc[:,4:164]\n",
    "y_true = siab_test.iloc[:, [3]]"
   ]
  },
  {
   "cell_type": "code",
   "execution_count": 21,
   "id": "e6c733c5",
   "metadata": {
    "execution": {
     "iopub.execute_input": "2025-07-28T10:48:42.517455Z",
     "iopub.status.busy": "2025-07-28T10:48:42.516944Z",
     "iopub.status.idle": "2025-07-28T10:48:42.624506Z",
     "shell.execute_reply": "2025-07-28T10:48:42.623485Z"
    },
    "papermill": {
     "duration": 0.131605,
     "end_time": "2025-07-28T10:48:42.626450",
     "exception": false,
     "start_time": "2025-07-28T10:48:42.494845",
     "status": "completed"
    },
    "tags": []
   },
   "outputs": [],
   "source": [
    "# Auxiliary data needed downstream in the pipeline\n",
    "\n",
    "org_train = X_train.copy()\n",
    "org_test = X_test.copy()\n",
    "org_calib = X_calib.copy()"
   ]
  },
  {
   "cell_type": "markdown",
   "id": "0a4a1b33",
   "metadata": {
    "papermill": {
     "duration": 0.020047,
     "end_time": "2025-07-28T10:48:42.667515",
     "exception": false,
     "start_time": "2025-07-28T10:48:42.647468",
     "status": "completed"
    },
    "tags": []
   },
   "source": [
    "# Preprocessing Data"
   ]
  },
  {
   "cell_type": "code",
   "execution_count": 22,
   "id": "ca879031",
   "metadata": {
    "execution": {
     "iopub.execute_input": "2025-07-28T10:48:42.710156Z",
     "iopub.status.busy": "2025-07-28T10:48:42.709570Z",
     "iopub.status.idle": "2025-07-28T10:48:42.716260Z",
     "shell.execute_reply": "2025-07-28T10:48:42.715232Z"
    },
    "papermill": {
     "duration": 0.029806,
     "end_time": "2025-07-28T10:48:42.718101",
     "exception": false,
     "start_time": "2025-07-28T10:48:42.688295",
     "status": "completed"
    },
    "tags": []
   },
   "outputs": [],
   "source": [
    "# EXCLUDE PROTECTED FEATURES\n",
    "# ----------------------\n",
    "# \"exclude_features\": \"none\", # \"nationality\", \"sex\", \"nationality-sex\"\n",
    "\n",
    "excluded_features = universe[\"exclude_features\"].split(\"-\") # split, e.g.: \"nationality-sex\" -> [\"nationality\", \"sex\"]\n",
    "excluded_features_dictionary = {\n",
    "    \"nationality\": [\"maxdeutsch1\", \"maxdeutsch.Missing.\"],\n",
    "    \"sex\": [\"frau1\"],\n",
    "    \"age\": [\"age\"],\n",
    "}\n"
   ]
  },
  {
   "cell_type": "code",
   "execution_count": 23,
   "id": "b745ac60",
   "metadata": {
    "execution": {
     "iopub.execute_input": "2025-07-28T10:48:42.762216Z",
     "iopub.status.busy": "2025-07-28T10:48:42.761698Z",
     "iopub.status.idle": "2025-07-28T10:48:42.768751Z",
     "shell.execute_reply": "2025-07-28T10:48:42.767371Z"
    },
    "papermill": {
     "duration": 0.031376,
     "end_time": "2025-07-28T10:48:42.770967",
     "exception": false,
     "start_time": "2025-07-28T10:48:42.739591",
     "status": "completed"
    },
    "tags": []
   },
   "outputs": [],
   "source": [
    "# Code nice names to column names\n",
    "\n",
    "excluded_features_columns = [\n",
    "    excluded_features_dictionary[f] for f in excluded_features if len(f) > 0 and f != \"none\"\n",
    "]"
   ]
  },
  {
   "cell_type": "code",
   "execution_count": 24,
   "id": "f84f73a2",
   "metadata": {
    "execution": {
     "iopub.execute_input": "2025-07-28T10:48:42.819557Z",
     "iopub.status.busy": "2025-07-28T10:48:42.818679Z",
     "iopub.status.idle": "2025-07-28T10:48:42.826806Z",
     "shell.execute_reply": "2025-07-28T10:48:42.825021Z"
    },
    "papermill": {
     "duration": 0.03363,
     "end_time": "2025-07-28T10:48:42.828645",
     "exception": false,
     "start_time": "2025-07-28T10:48:42.795015",
     "status": "completed"
    },
    "tags": []
   },
   "outputs": [],
   "source": [
    "from utils import flatten_once\n",
    "\n",
    "excluded_features_columns = flatten_once(excluded_features_columns)"
   ]
  },
  {
   "cell_type": "code",
   "execution_count": 25,
   "id": "884dea22",
   "metadata": {
    "execution": {
     "iopub.execute_input": "2025-07-28T10:48:42.876477Z",
     "iopub.status.busy": "2025-07-28T10:48:42.875609Z",
     "iopub.status.idle": "2025-07-28T10:48:42.882031Z",
     "shell.execute_reply": "2025-07-28T10:48:42.880934Z"
    },
    "papermill": {
     "duration": 0.034257,
     "end_time": "2025-07-28T10:48:42.885520",
     "exception": false,
     "start_time": "2025-07-28T10:48:42.851263",
     "status": "completed"
    },
    "tags": []
   },
   "outputs": [],
   "source": [
    "if len(excluded_features_columns) > 0:\n",
    "    print(f\"Dropping features: {excluded_features_columns}\")\n",
    "    X_train.drop(excluded_features_columns, axis=1, inplace=True)"
   ]
  },
  {
   "cell_type": "code",
   "execution_count": 26,
   "id": "95ab8b16",
   "metadata": {
    "execution": {
     "iopub.execute_input": "2025-07-28T10:48:42.931416Z",
     "iopub.status.busy": "2025-07-28T10:48:42.930851Z",
     "iopub.status.idle": "2025-07-28T10:48:42.937408Z",
     "shell.execute_reply": "2025-07-28T10:48:42.936360Z"
    },
    "papermill": {
     "duration": 0.029775,
     "end_time": "2025-07-28T10:48:42.938951",
     "exception": false,
     "start_time": "2025-07-28T10:48:42.909176",
     "status": "completed"
    },
    "tags": []
   },
   "outputs": [],
   "source": [
    "if len(excluded_features_columns) > 0:\n",
    "    print(f\"Dropping features: {excluded_features_columns}\")\n",
    "    X_test.drop(excluded_features_columns, axis=1, inplace=True)"
   ]
  },
  {
   "cell_type": "code",
   "execution_count": 27,
   "id": "1853aaf5-fb9f-46cb-a2b5-8ea4ae2237e4",
   "metadata": {
    "execution": {
     "iopub.execute_input": "2025-07-28T10:48:42.979340Z",
     "iopub.status.busy": "2025-07-28T10:48:42.978842Z",
     "iopub.status.idle": "2025-07-28T10:48:42.985543Z",
     "shell.execute_reply": "2025-07-28T10:48:42.984388Z"
    },
    "papermill": {
     "duration": 0.032812,
     "end_time": "2025-07-28T10:48:42.987416",
     "exception": false,
     "start_time": "2025-07-28T10:48:42.954604",
     "status": "completed"
    },
    "tags": []
   },
   "outputs": [],
   "source": [
    "if len(excluded_features_columns) > 0:\n",
    "    print(f\"Dropping features: {excluded_features_columns}\")\n",
    "    X_calib.drop(excluded_features_columns, axis=1, inplace=True)"
   ]
  },
  {
   "cell_type": "code",
   "execution_count": 28,
   "id": "6727d079-03e5-481e-9d38-292a90b7a0a8",
   "metadata": {
    "execution": {
     "iopub.execute_input": "2025-07-28T10:48:43.034744Z",
     "iopub.status.busy": "2025-07-28T10:48:43.034164Z",
     "iopub.status.idle": "2025-07-28T10:48:43.039218Z",
     "shell.execute_reply": "2025-07-28T10:48:43.038211Z"
    },
    "papermill": {
     "duration": 0.031651,
     "end_time": "2025-07-28T10:48:43.041337",
     "exception": false,
     "start_time": "2025-07-28T10:48:43.009686",
     "status": "completed"
    },
    "tags": []
   },
   "outputs": [],
   "source": [
    "# SPLIT & STRATIFY DATA\n",
    "# ----------------------"
   ]
  },
  {
   "cell_type": "code",
   "execution_count": 29,
   "id": "76c4dc6d",
   "metadata": {
    "execution": {
     "iopub.execute_input": "2025-07-28T10:48:43.087024Z",
     "iopub.status.busy": "2025-07-28T10:48:43.086547Z",
     "iopub.status.idle": "2025-07-28T10:48:43.092258Z",
     "shell.execute_reply": "2025-07-28T10:48:43.091188Z"
    },
    "papermill": {
     "duration": 0.032712,
     "end_time": "2025-07-28T10:48:43.094156",
     "exception": false,
     "start_time": "2025-07-28T10:48:43.061444",
     "status": "completed"
    },
    "tags": []
   },
   "outputs": [],
   "source": [
    "# EXCLUDE CERTAIN SUBGROUPS\n",
    "# ----------------------\n",
    "\n",
    "mode = universe.get(\"exclude_subgroups\", \"keep-all\") \n",
    "# Fetches the exclude_subgroups setting from the universe dict.\n",
    "# Defaults to \"keep-all\" if the key is missing."
   ]
  },
  {
   "cell_type": "code",
   "execution_count": 30,
   "id": "21994072",
   "metadata": {
    "execution": {
     "iopub.execute_input": "2025-07-28T10:48:43.139259Z",
     "iopub.status.busy": "2025-07-28T10:48:43.138675Z",
     "iopub.status.idle": "2025-07-28T10:48:43.146513Z",
     "shell.execute_reply": "2025-07-28T10:48:43.145511Z"
    },
    "papermill": {
     "duration": 0.032391,
     "end_time": "2025-07-28T10:48:43.148266",
     "exception": false,
     "start_time": "2025-07-28T10:48:43.115875",
     "status": "completed"
    },
    "tags": []
   },
   "outputs": [],
   "source": [
    "if mode == \"keep-all\":\n",
    "    keep_mask = pd.Series(True, index=org_train.index)\n",
    "\n",
    "# org_train contains the original feature columns from features_org (in Simson)\n",
    "# features_org contains unprocessed features, for me X_train at beginning ???\n",
    "# For keep-all, creates a boolean Series (keep_mask) of all True, so no rows are removed.\n",
    "\n",
    "elif mode == \"drop-non-german\":\n",
    "    keep_mask = org_train[\"maxdeutsch1\"] == 1 # ??? what about missing values?\n",
    "\n",
    "else:\n",
    "    raise ValueError(f\"Unsupported mode for exclude_subgroups: {mode}\")\n"
   ]
  },
  {
   "cell_type": "code",
   "execution_count": 31,
   "id": "71651440",
   "metadata": {
    "execution": {
     "iopub.execute_input": "2025-07-28T10:48:43.198788Z",
     "iopub.status.busy": "2025-07-28T10:48:43.197880Z",
     "iopub.status.idle": "2025-07-28T10:48:43.205439Z",
     "shell.execute_reply": "2025-07-28T10:48:43.204474Z"
    },
    "papermill": {
     "duration": 0.034576,
     "end_time": "2025-07-28T10:48:43.207027",
     "exception": false,
     "start_time": "2025-07-28T10:48:43.172451",
     "status": "completed"
    },
    "tags": []
   },
   "outputs": [
    {
     "name": "stdout",
     "output_type": "stream",
     "text": [
      "Dropping 131 rows (13.10%) where mode='drop-non-german'\n"
     ]
    }
   ],
   "source": [
    "n_drop = (~keep_mask).sum() # Calculates how many rows are set to be dropped\n",
    "if n_drop > 0:\n",
    "    pct = n_drop / len(keep_mask) * 100\n",
    "    print(f\"Dropping {n_drop} rows ({pct:.2f}%) where mode='{mode}'\")"
   ]
  },
  {
   "cell_type": "code",
   "execution_count": 32,
   "id": "5fb8eee5",
   "metadata": {
    "execution": {
     "iopub.execute_input": "2025-07-28T10:48:43.252232Z",
     "iopub.status.busy": "2025-07-28T10:48:43.251486Z",
     "iopub.status.idle": "2025-07-28T10:48:43.266493Z",
     "shell.execute_reply": "2025-07-28T10:48:43.265488Z"
    },
    "papermill": {
     "duration": 0.038903,
     "end_time": "2025-07-28T10:48:43.268226",
     "exception": false,
     "start_time": "2025-07-28T10:48:43.229323",
     "status": "completed"
    },
    "tags": []
   },
   "outputs": [],
   "source": [
    "X_train = X_train[keep_mask]"
   ]
  },
  {
   "cell_type": "code",
   "execution_count": 33,
   "id": "b202bb3a",
   "metadata": {
    "execution": {
     "iopub.execute_input": "2025-07-28T10:48:43.315785Z",
     "iopub.status.busy": "2025-07-28T10:48:43.315225Z",
     "iopub.status.idle": "2025-07-28T10:48:43.321683Z",
     "shell.execute_reply": "2025-07-28T10:48:43.320669Z"
    },
    "papermill": {
     "duration": 0.031125,
     "end_time": "2025-07-28T10:48:43.323684",
     "exception": false,
     "start_time": "2025-07-28T10:48:43.292559",
     "status": "completed"
    },
    "tags": []
   },
   "outputs": [],
   "source": [
    "y_train = y_train[keep_mask]"
   ]
  },
  {
   "cell_type": "markdown",
   "id": "493e2ac3",
   "metadata": {
    "papermill": {
     "duration": 0.025272,
     "end_time": "2025-07-28T10:48:43.375122",
     "exception": false,
     "start_time": "2025-07-28T10:48:43.349850",
     "status": "completed"
    },
    "tags": []
   },
   "source": [
    "# Model Training"
   ]
  },
  {
   "cell_type": "code",
   "execution_count": 34,
   "id": "679e1268",
   "metadata": {
    "execution": {
     "iopub.execute_input": "2025-07-28T10:48:43.428706Z",
     "iopub.status.busy": "2025-07-28T10:48:43.428133Z",
     "iopub.status.idle": "2025-07-28T10:48:43.543212Z",
     "shell.execute_reply": "2025-07-28T10:48:43.542253Z"
    },
    "papermill": {
     "duration": 0.1445,
     "end_time": "2025-07-28T10:48:43.545512",
     "exception": false,
     "start_time": "2025-07-28T10:48:43.401012",
     "status": "completed"
    },
    "tags": []
   },
   "outputs": [],
   "source": [
    "from sklearn.linear_model import LogisticRegression\n",
    "from sklearn.ensemble import GradientBoostingClassifier, RandomForestClassifier\n",
    "\n",
    "if (universe[\"model\"] == \"logreg\"):\n",
    "    model = LogisticRegression() #penalty=\"none\") #, solver=\"newton-cg\", max_iter=1) # include random_state=19 ?\n",
    "elif (universe[\"model\"] == \"penalized_logreg\"):\n",
    "    model = LogisticRegression(penalty=\"l2\", C=1.0) #, solver=\"newton-cg\", max_iter=1)\n",
    "elif (universe[\"model\"] == \"rf\"):\n",
    "    model = RandomForestClassifier(n_estimators=100, n_jobs=-1)\n",
    "elif (universe[\"model\"] == \"gbm\"):\n",
    "    model = GradientBoostingClassifier()\n",
    "elif (universe[\"model\"] == \"elasticnet\"):\n",
    "    model = LogisticRegression(penalty = 'elasticnet', solver = 'saga', l1_ratio = 0.5, max_iter=5000) # which solver to use?\n",
    "else:\n",
    "    raise \"Unsupported universe.model\""
   ]
  },
  {
   "cell_type": "code",
   "execution_count": 35,
   "id": "0cc8f744",
   "metadata": {
    "execution": {
     "iopub.execute_input": "2025-07-28T10:48:43.593030Z",
     "iopub.status.busy": "2025-07-28T10:48:43.592626Z",
     "iopub.status.idle": "2025-07-28T10:48:43.599849Z",
     "shell.execute_reply": "2025-07-28T10:48:43.598512Z"
    },
    "papermill": {
     "duration": 0.032805,
     "end_time": "2025-07-28T10:48:43.601696",
     "exception": false,
     "start_time": "2025-07-28T10:48:43.568891",
     "status": "completed"
    },
    "tags": []
   },
   "outputs": [],
   "source": [
    "import numpy as np\n",
    "from sklearn.pipeline import Pipeline\n",
    "from sklearn.preprocessing import StandardScaler\n",
    "\n",
    "model = Pipeline([\n",
    "    #(\"continuous_processor\", continuous_processor),\n",
    "    #(\"categorical_preprocessor\", categorical_preprocessor),\n",
    "    (\"scale\", StandardScaler() if universe[\"scale\"] == \"scale\" else None), \n",
    "    (\"model\", model),\n",
    "])"
   ]
  },
  {
   "cell_type": "code",
   "execution_count": 36,
   "id": "9442c04d",
   "metadata": {
    "execution": {
     "iopub.execute_input": "2025-07-28T10:48:43.650589Z",
     "iopub.status.busy": "2025-07-28T10:48:43.650083Z",
     "iopub.status.idle": "2025-07-28T10:48:43.717420Z",
     "shell.execute_reply": "2025-07-28T10:48:43.716406Z"
    },
    "papermill": {
     "duration": 0.095187,
     "end_time": "2025-07-28T10:48:43.720633",
     "exception": false,
     "start_time": "2025-07-28T10:48:43.625446",
     "status": "completed"
    },
    "tags": []
   },
   "outputs": [
    {
     "name": "stderr",
     "output_type": "stream",
     "text": [
      "/dss/dsshome1/0C/ra93lal2/.local/share/virtualenvs/CMA_Fairness_v2-3j10GkSs/lib/python3.10/site-packages/sklearn/linear_model/_logistic.py:444: ConvergenceWarning: lbfgs failed to converge (status=1):\n",
      "STOP: TOTAL NO. of ITERATIONS REACHED LIMIT.\n",
      "\n",
      "Increase the number of iterations (max_iter) or scale the data as shown in:\n",
      "    https://scikit-learn.org/stable/modules/preprocessing.html\n",
      "Please also refer to the documentation for alternative solver options:\n",
      "    https://scikit-learn.org/stable/modules/linear_model.html#logistic-regression\n",
      "  n_iter_i = _check_optimize_result(\n"
     ]
    },
    {
     "data": {
      "text/html": [
       "<style>#sk-container-id-1 {color: black;background-color: white;}#sk-container-id-1 pre{padding: 0;}#sk-container-id-1 div.sk-toggleable {background-color: white;}#sk-container-id-1 label.sk-toggleable__label {cursor: pointer;display: block;width: 100%;margin-bottom: 0;padding: 0.3em;box-sizing: border-box;text-align: center;}#sk-container-id-1 label.sk-toggleable__label-arrow:before {content: \"▸\";float: left;margin-right: 0.25em;color: #696969;}#sk-container-id-1 label.sk-toggleable__label-arrow:hover:before {color: black;}#sk-container-id-1 div.sk-estimator:hover label.sk-toggleable__label-arrow:before {color: black;}#sk-container-id-1 div.sk-toggleable__content {max-height: 0;max-width: 0;overflow: hidden;text-align: left;background-color: #f0f8ff;}#sk-container-id-1 div.sk-toggleable__content pre {margin: 0.2em;color: black;border-radius: 0.25em;background-color: #f0f8ff;}#sk-container-id-1 input.sk-toggleable__control:checked~div.sk-toggleable__content {max-height: 200px;max-width: 100%;overflow: auto;}#sk-container-id-1 input.sk-toggleable__control:checked~label.sk-toggleable__label-arrow:before {content: \"▾\";}#sk-container-id-1 div.sk-estimator input.sk-toggleable__control:checked~label.sk-toggleable__label {background-color: #d4ebff;}#sk-container-id-1 div.sk-label input.sk-toggleable__control:checked~label.sk-toggleable__label {background-color: #d4ebff;}#sk-container-id-1 input.sk-hidden--visually {border: 0;clip: rect(1px 1px 1px 1px);clip: rect(1px, 1px, 1px, 1px);height: 1px;margin: -1px;overflow: hidden;padding: 0;position: absolute;width: 1px;}#sk-container-id-1 div.sk-estimator {font-family: monospace;background-color: #f0f8ff;border: 1px dotted black;border-radius: 0.25em;box-sizing: border-box;margin-bottom: 0.5em;}#sk-container-id-1 div.sk-estimator:hover {background-color: #d4ebff;}#sk-container-id-1 div.sk-parallel-item::after {content: \"\";width: 100%;border-bottom: 1px solid gray;flex-grow: 1;}#sk-container-id-1 div.sk-label:hover label.sk-toggleable__label {background-color: #d4ebff;}#sk-container-id-1 div.sk-serial::before {content: \"\";position: absolute;border-left: 1px solid gray;box-sizing: border-box;top: 0;bottom: 0;left: 50%;z-index: 0;}#sk-container-id-1 div.sk-serial {display: flex;flex-direction: column;align-items: center;background-color: white;padding-right: 0.2em;padding-left: 0.2em;position: relative;}#sk-container-id-1 div.sk-item {position: relative;z-index: 1;}#sk-container-id-1 div.sk-parallel {display: flex;align-items: stretch;justify-content: center;background-color: white;position: relative;}#sk-container-id-1 div.sk-item::before, #sk-container-id-1 div.sk-parallel-item::before {content: \"\";position: absolute;border-left: 1px solid gray;box-sizing: border-box;top: 0;bottom: 0;left: 50%;z-index: -1;}#sk-container-id-1 div.sk-parallel-item {display: flex;flex-direction: column;z-index: 1;position: relative;background-color: white;}#sk-container-id-1 div.sk-parallel-item:first-child::after {align-self: flex-end;width: 50%;}#sk-container-id-1 div.sk-parallel-item:last-child::after {align-self: flex-start;width: 50%;}#sk-container-id-1 div.sk-parallel-item:only-child::after {width: 0;}#sk-container-id-1 div.sk-dashed-wrapped {border: 1px dashed gray;margin: 0 0.4em 0.5em 0.4em;box-sizing: border-box;padding-bottom: 0.4em;background-color: white;}#sk-container-id-1 div.sk-label label {font-family: monospace;font-weight: bold;display: inline-block;line-height: 1.2em;}#sk-container-id-1 div.sk-label-container {text-align: center;}#sk-container-id-1 div.sk-container {/* jupyter's `normalize.less` sets `[hidden] { display: none; }` but bootstrap.min.css set `[hidden] { display: none !important; }` so we also need the `!important` here to be able to override the default hidden behavior on the sphinx rendered scikit-learn.org. See: https://github.com/scikit-learn/scikit-learn/issues/21755 */display: inline-block !important;position: relative;}#sk-container-id-1 div.sk-text-repr-fallback {display: none;}</style><div id=\"sk-container-id-1\" class=\"sk-top-container\"><div class=\"sk-text-repr-fallback\"><pre>Pipeline(steps=[(&#x27;scale&#x27;, None), (&#x27;model&#x27;, LogisticRegression())])</pre><b>In a Jupyter environment, please rerun this cell to show the HTML representation or trust the notebook. <br />On GitHub, the HTML representation is unable to render, please try loading this page with nbviewer.org.</b></div><div class=\"sk-container\" hidden><div class=\"sk-item sk-dashed-wrapped\"><div class=\"sk-label-container\"><div class=\"sk-label sk-toggleable\"><input class=\"sk-toggleable__control sk-hidden--visually\" id=\"sk-estimator-id-1\" type=\"checkbox\" ><label for=\"sk-estimator-id-1\" class=\"sk-toggleable__label sk-toggleable__label-arrow\">Pipeline</label><div class=\"sk-toggleable__content\"><pre>Pipeline(steps=[(&#x27;scale&#x27;, None), (&#x27;model&#x27;, LogisticRegression())])</pre></div></div></div><div class=\"sk-serial\"><div class=\"sk-item\"><div class=\"sk-estimator sk-toggleable\"><input class=\"sk-toggleable__control sk-hidden--visually\" id=\"sk-estimator-id-2\" type=\"checkbox\" ><label for=\"sk-estimator-id-2\" class=\"sk-toggleable__label sk-toggleable__label-arrow\">None</label><div class=\"sk-toggleable__content\"><pre>None</pre></div></div></div><div class=\"sk-item\"><div class=\"sk-estimator sk-toggleable\"><input class=\"sk-toggleable__control sk-hidden--visually\" id=\"sk-estimator-id-3\" type=\"checkbox\" ><label for=\"sk-estimator-id-3\" class=\"sk-toggleable__label sk-toggleable__label-arrow\">LogisticRegression</label><div class=\"sk-toggleable__content\"><pre>LogisticRegression()</pre></div></div></div></div></div></div></div>"
      ],
      "text/plain": [
       "Pipeline(steps=[('scale', None), ('model', LogisticRegression())])"
      ]
     },
     "execution_count": 36,
     "metadata": {},
     "output_type": "execute_result"
    }
   ],
   "source": [
    "model.fit(X_train, y_train.values.ravel())"
   ]
  },
  {
   "cell_type": "code",
   "execution_count": 37,
   "id": "af59f8c0",
   "metadata": {
    "execution": {
     "iopub.execute_input": "2025-07-28T10:48:43.766631Z",
     "iopub.status.busy": "2025-07-28T10:48:43.766070Z",
     "iopub.status.idle": "2025-07-28T10:48:43.771859Z",
     "shell.execute_reply": "2025-07-28T10:48:43.770807Z"
    },
    "papermill": {
     "duration": 0.030411,
     "end_time": "2025-07-28T10:48:43.773702",
     "exception": false,
     "start_time": "2025-07-28T10:48:43.743291",
     "status": "completed"
    },
    "tags": []
   },
   "outputs": [],
   "source": [
    "from fairness_multiverse.universe import predict_w_threshold"
   ]
  },
  {
   "cell_type": "code",
   "execution_count": 38,
   "id": "a7cf2e16",
   "metadata": {
    "execution": {
     "iopub.execute_input": "2025-07-28T10:48:43.820950Z",
     "iopub.status.busy": "2025-07-28T10:48:43.819998Z",
     "iopub.status.idle": "2025-07-28T10:48:43.926965Z",
     "shell.execute_reply": "2025-07-28T10:48:43.926143Z"
    },
    "papermill": {
     "duration": 0.131324,
     "end_time": "2025-07-28T10:48:43.928244",
     "exception": false,
     "start_time": "2025-07-28T10:48:43.796920",
     "status": "completed"
    },
    "tags": []
   },
   "outputs": [
    {
     "data": {
      "text/plain": [
       "0.8518448333519117"
      ]
     },
     "execution_count": 38,
     "metadata": {},
     "output_type": "execute_result"
    }
   ],
   "source": [
    "probs_test = model.predict_proba(X_test)\n",
    "\n",
    "'''\n",
    "Below code returns a boolean array (or binary 0/1 array depending on how it’s used) where each element \n",
    "is True if the probability of class 1 is greater than or equal to the threshold, and False otherwise.\n",
    "'''\n",
    "y_pred_default = predict_w_threshold(probs_test, 0.5)\n",
    "\n",
    "from sklearn.metrics import accuracy_score\n",
    "\n",
    "# Naive prediction\n",
    "accuracy_score(y_true = y_true, y_pred = y_pred_default)"
   ]
  },
  {
   "cell_type": "code",
   "execution_count": 39,
   "id": "081964c3",
   "metadata": {
    "execution": {
     "iopub.execute_input": "2025-07-28T10:48:43.976311Z",
     "iopub.status.busy": "2025-07-28T10:48:43.975769Z",
     "iopub.status.idle": "2025-07-28T10:48:44.065487Z",
     "shell.execute_reply": "2025-07-28T10:48:44.064558Z"
    },
    "papermill": {
     "duration": 0.119052,
     "end_time": "2025-07-28T10:48:44.067171",
     "exception": false,
     "start_time": "2025-07-28T10:48:43.948119",
     "status": "completed"
    },
    "tags": []
   },
   "outputs": [
    {
     "data": {
      "text/plain": [
       "array([0, 0, 0, ..., 0, 0, 0])"
      ]
     },
     "execution_count": 39,
     "metadata": {},
     "output_type": "execute_result"
    }
   ],
   "source": [
    "model.predict(X_test)"
   ]
  },
  {
   "cell_type": "markdown",
   "id": "56c9705b",
   "metadata": {
    "papermill": {
     "duration": 0.044268,
     "end_time": "2025-07-28T10:48:44.135647",
     "exception": false,
     "start_time": "2025-07-28T10:48:44.091379",
     "status": "completed"
    },
    "tags": []
   },
   "source": [
    "# Conformal Prediction"
   ]
  },
  {
   "cell_type": "code",
   "execution_count": 40,
   "id": "160ec6ff",
   "metadata": {
    "execution": {
     "iopub.execute_input": "2025-07-28T10:48:44.197282Z",
     "iopub.status.busy": "2025-07-28T10:48:44.196860Z",
     "iopub.status.idle": "2025-07-28T10:48:44.202282Z",
     "shell.execute_reply": "2025-07-28T10:48:44.201159Z"
    },
    "papermill": {
     "duration": 0.043267,
     "end_time": "2025-07-28T10:48:44.204356",
     "exception": false,
     "start_time": "2025-07-28T10:48:44.161089",
     "status": "completed"
    },
    "tags": []
   },
   "outputs": [],
   "source": [
    "# Miscoverage level for conformal prediction (10% allowed error rate => 90% target coverage)\n",
    "alpha = 0.1"
   ]
  },
  {
   "cell_type": "code",
   "execution_count": 41,
   "id": "eadf4555-3dd3-440e-8e35-f82a4ad9f855",
   "metadata": {
    "execution": {
     "iopub.execute_input": "2025-07-28T10:48:44.262150Z",
     "iopub.status.busy": "2025-07-28T10:48:44.261540Z",
     "iopub.status.idle": "2025-07-28T10:48:44.366498Z",
     "shell.execute_reply": "2025-07-28T10:48:44.365394Z"
    },
    "papermill": {
     "duration": 0.135702,
     "end_time": "2025-07-28T10:48:44.368608",
     "exception": false,
     "start_time": "2025-07-28T10:48:44.232906",
     "status": "completed"
    },
    "tags": []
   },
   "outputs": [],
   "source": [
    "probs_calib = model.predict_proba(X_calib)"
   ]
  },
  {
   "cell_type": "code",
   "execution_count": 42,
   "id": "2ed93547-6d5d-4983-9b36-1ecb300da49a",
   "metadata": {
    "execution": {
     "iopub.execute_input": "2025-07-28T10:48:44.411023Z",
     "iopub.status.busy": "2025-07-28T10:48:44.410583Z",
     "iopub.status.idle": "2025-07-28T10:48:44.415996Z",
     "shell.execute_reply": "2025-07-28T10:48:44.415191Z"
    },
    "papermill": {
     "duration": 0.023315,
     "end_time": "2025-07-28T10:48:44.417241",
     "exception": false,
     "start_time": "2025-07-28T10:48:44.393926",
     "status": "completed"
    },
    "tags": []
   },
   "outputs": [],
   "source": [
    "y_calib = y_calib.values.ravel().astype(int)"
   ]
  },
  {
   "cell_type": "code",
   "execution_count": 43,
   "id": "65d1320d-f588-4b38-9072-62af1ae97f7d",
   "metadata": {
    "execution": {
     "iopub.execute_input": "2025-07-28T10:48:44.444184Z",
     "iopub.status.busy": "2025-07-28T10:48:44.443487Z",
     "iopub.status.idle": "2025-07-28T10:48:44.450314Z",
     "shell.execute_reply": "2025-07-28T10:48:44.449515Z"
    },
    "papermill": {
     "duration": 0.021565,
     "end_time": "2025-07-28T10:48:44.451848",
     "exception": false,
     "start_time": "2025-07-28T10:48:44.430283",
     "status": "completed"
    },
    "tags": []
   },
   "outputs": [],
   "source": [
    "from fairness_multiverse.conformal import compute_nc_scores\n",
    "\n",
    "# Compute nonconformity scores on calibration set (1 - probability of true class)\n",
    "nc_scores = compute_nc_scores(probs_calib, y_calib)"
   ]
  },
  {
   "cell_type": "code",
   "execution_count": 44,
   "id": "df3b8ca3-53b7-43d5-9667-7c85da7aeda2",
   "metadata": {
    "execution": {
     "iopub.execute_input": "2025-07-28T10:48:44.494529Z",
     "iopub.status.busy": "2025-07-28T10:48:44.493911Z",
     "iopub.status.idle": "2025-07-28T10:48:44.501017Z",
     "shell.execute_reply": "2025-07-28T10:48:44.499920Z"
    },
    "papermill": {
     "duration": 0.034505,
     "end_time": "2025-07-28T10:48:44.504125",
     "exception": false,
     "start_time": "2025-07-28T10:48:44.469620",
     "status": "completed"
    },
    "tags": []
   },
   "outputs": [],
   "source": [
    "from fairness_multiverse.conformal import find_threshold\n",
    "\n",
    "# Find conformal threshold q_hat for the given alpha (split conformal method)\n",
    "q_hat = find_threshold(nc_scores, alpha)"
   ]
  },
  {
   "cell_type": "code",
   "execution_count": 45,
   "id": "4d29e6c1-0ef6-4aa4-b8fe-4fe79b0d033a",
   "metadata": {
    "execution": {
     "iopub.execute_input": "2025-07-28T10:48:44.557067Z",
     "iopub.status.busy": "2025-07-28T10:48:44.555943Z",
     "iopub.status.idle": "2025-07-28T10:48:44.566757Z",
     "shell.execute_reply": "2025-07-28T10:48:44.565338Z"
    },
    "papermill": {
     "duration": 0.039241,
     "end_time": "2025-07-28T10:48:44.569009",
     "exception": false,
     "start_time": "2025-07-28T10:48:44.529768",
     "status": "completed"
    },
    "tags": []
   },
   "outputs": [
    {
     "data": {
      "text/plain": [
       "0.6960520288726956"
      ]
     },
     "execution_count": 45,
     "metadata": {},
     "output_type": "execute_result"
    }
   ],
   "source": [
    "q_hat"
   ]
  },
  {
   "cell_type": "code",
   "execution_count": 46,
   "id": "92460794-cdac-4be2-ba28-f28c0515a6fb",
   "metadata": {
    "execution": {
     "iopub.execute_input": "2025-07-28T10:48:44.620018Z",
     "iopub.status.busy": "2025-07-28T10:48:44.619119Z",
     "iopub.status.idle": "2025-07-28T10:48:45.490518Z",
     "shell.execute_reply": "2025-07-28T10:48:45.489438Z"
    },
    "papermill": {
     "duration": 0.898247,
     "end_time": "2025-07-28T10:48:45.492535",
     "exception": false,
     "start_time": "2025-07-28T10:48:44.594288",
     "status": "completed"
    },
    "tags": []
   },
   "outputs": [],
   "source": [
    "from fairness_multiverse.conformal import predict_conformal_sets\n",
    "\n",
    "# Generate prediction sets for each test example\n",
    "pred_sets = predict_conformal_sets(model, X_test, q_hat)"
   ]
  },
  {
   "cell_type": "code",
   "execution_count": 47,
   "id": "d90c9a65-e6db-4f5d-80cd-e68fb7e46829",
   "metadata": {
    "execution": {
     "iopub.execute_input": "2025-07-28T10:48:45.523845Z",
     "iopub.status.busy": "2025-07-28T10:48:45.523442Z",
     "iopub.status.idle": "2025-07-28T10:48:45.528993Z",
     "shell.execute_reply": "2025-07-28T10:48:45.528068Z"
    },
    "papermill": {
     "duration": 0.020504,
     "end_time": "2025-07-28T10:48:45.530966",
     "exception": false,
     "start_time": "2025-07-28T10:48:45.510462",
     "status": "completed"
    },
    "tags": []
   },
   "outputs": [],
   "source": [
    "y_true = y_true.squeeze()"
   ]
  },
  {
   "cell_type": "code",
   "execution_count": 48,
   "id": "3a58a54a-1e68-46b9-927a-df01f18aebc8",
   "metadata": {
    "execution": {
     "iopub.execute_input": "2025-07-28T10:48:45.570146Z",
     "iopub.status.busy": "2025-07-28T10:48:45.569695Z",
     "iopub.status.idle": "2025-07-28T10:48:46.490034Z",
     "shell.execute_reply": "2025-07-28T10:48:46.489105Z"
    },
    "papermill": {
     "duration": 0.937593,
     "end_time": "2025-07-28T10:48:46.491585",
     "exception": false,
     "start_time": "2025-07-28T10:48:45.553992",
     "status": "completed"
    },
    "tags": []
   },
   "outputs": [],
   "source": [
    "from fairness_multiverse.conformal import evaluate_sets\n",
    "\n",
    "# Evaluate coverage and average set size on test data\n",
    "metrics = evaluate_sets(pred_sets, y_true)"
   ]
  },
  {
   "cell_type": "markdown",
   "id": "2b569c12-9aaa-4c88-98c9-bbcd0cf3ebb8",
   "metadata": {
    "papermill": {
     "duration": 0.012162,
     "end_time": "2025-07-28T10:48:46.516631",
     "exception": false,
     "start_time": "2025-07-28T10:48:46.504469",
     "status": "completed"
    },
    "tags": []
   },
   "source": [
    "# CP Metrics"
   ]
  },
  {
   "cell_type": "code",
   "execution_count": 49,
   "id": "5ce0a5cb-201f-45a0-ade5-94c7f0bd6095",
   "metadata": {
    "execution": {
     "iopub.execute_input": "2025-07-28T10:48:46.559087Z",
     "iopub.status.busy": "2025-07-28T10:48:46.558662Z",
     "iopub.status.idle": "2025-07-28T10:48:46.566177Z",
     "shell.execute_reply": "2025-07-28T10:48:46.565134Z"
    },
    "papermill": {
     "duration": 0.03735,
     "end_time": "2025-07-28T10:48:46.568123",
     "exception": false,
     "start_time": "2025-07-28T10:48:46.530773",
     "status": "completed"
    },
    "tags": []
   },
   "outputs": [
    {
     "data": {
      "text/plain": [
       "{'coverage': 0.9119384683981719, 'avg_size': 1.2404971575075243}"
      ]
     },
     "execution_count": 49,
     "metadata": {},
     "output_type": "execute_result"
    }
   ],
   "source": [
    "metrics"
   ]
  },
  {
   "cell_type": "code",
   "execution_count": 50,
   "id": "9b9a838d-31c9-430b-ae14-12baee460d17",
   "metadata": {
    "execution": {
     "iopub.execute_input": "2025-07-28T10:48:46.620317Z",
     "iopub.status.busy": "2025-07-28T10:48:46.619787Z",
     "iopub.status.idle": "2025-07-28T10:48:46.626905Z",
     "shell.execute_reply": "2025-07-28T10:48:46.625869Z"
    },
    "papermill": {
     "duration": 0.034829,
     "end_time": "2025-07-28T10:48:46.628685",
     "exception": false,
     "start_time": "2025-07-28T10:48:46.593856",
     "status": "completed"
    },
    "tags": []
   },
   "outputs": [],
   "source": [
    "example_universe = universe.copy()\n",
    "universe_training_size = example_universe.get(\"training_size\")\n",
    "universe_scale = example_universe.get(\"scale\")\n",
    "universe_model = example_universe.get(\"model\")\n",
    "universe_exclude_features = example_universe.get(\"exclude_features\")\n",
    "universe_exclude_subgroups = example_universe.get(\"exclude_subgroups\")"
   ]
  },
  {
   "cell_type": "code",
   "execution_count": 51,
   "id": "f4b6a8ac-9dc0-4245-8a91-5b3b5999c4f9",
   "metadata": {
    "execution": {
     "iopub.execute_input": "2025-07-28T10:48:46.680089Z",
     "iopub.status.busy": "2025-07-28T10:48:46.679354Z",
     "iopub.status.idle": "2025-07-28T10:48:46.686255Z",
     "shell.execute_reply": "2025-07-28T10:48:46.685181Z"
    },
    "papermill": {
     "duration": 0.034786,
     "end_time": "2025-07-28T10:48:46.688126",
     "exception": false,
     "start_time": "2025-07-28T10:48:46.653340",
     "status": "completed"
    },
    "tags": []
   },
   "outputs": [],
   "source": [
    "cp_metrics_dict = {\n",
    "    \"universe_id\": [universe_id],\n",
    "    \"universe_training_size\": [universe_training_size],\n",
    "    \"universe_scale\": [universe_scale],\n",
    "    \"universe_model\": [universe_model],\n",
    "    \"universe_exclude_features\": [universe_exclude_features],\n",
    "    \"universe_exclude_subgroups\": [universe_exclude_subgroups],\n",
    "    \"q_hat\": [q_hat],\n",
    "    \"coverage\": [metrics[\"coverage\"]],\n",
    "    \"avg_size\": [metrics[\"avg_size\"]],\n",
    "}"
   ]
  },
  {
   "cell_type": "code",
   "execution_count": 52,
   "id": "908acbb1-0371-4915-85ca-3fa520d2efe2",
   "metadata": {
    "execution": {
     "iopub.execute_input": "2025-07-28T10:48:46.740250Z",
     "iopub.status.busy": "2025-07-28T10:48:46.739461Z",
     "iopub.status.idle": "2025-07-28T10:48:46.747648Z",
     "shell.execute_reply": "2025-07-28T10:48:46.746612Z"
    },
    "papermill": {
     "duration": 0.035575,
     "end_time": "2025-07-28T10:48:46.749459",
     "exception": false,
     "start_time": "2025-07-28T10:48:46.713884",
     "status": "completed"
    },
    "tags": []
   },
   "outputs": [
    {
     "data": {
      "text/plain": [
       "{'universe_id': ['4011be737dc942787086e84c20770606'],\n",
       " 'universe_training_size': ['1k'],\n",
       " 'universe_scale': ['do-not-scale'],\n",
       " 'universe_model': ['penalized_logreg'],\n",
       " 'universe_exclude_features': ['none'],\n",
       " 'universe_exclude_subgroups': ['drop-non-german'],\n",
       " 'q_hat': [0.6960520288726956],\n",
       " 'coverage': [0.9119384683981719],\n",
       " 'avg_size': [1.2404971575075243]}"
      ]
     },
     "execution_count": 52,
     "metadata": {},
     "output_type": "execute_result"
    }
   ],
   "source": [
    "cp_metrics_dict"
   ]
  },
  {
   "cell_type": "code",
   "execution_count": 53,
   "id": "33007efc-14e9-4ec6-97ac-56a455c82265",
   "metadata": {
    "execution": {
     "iopub.execute_input": "2025-07-28T10:48:46.801962Z",
     "iopub.status.busy": "2025-07-28T10:48:46.801266Z",
     "iopub.status.idle": "2025-07-28T10:48:46.809170Z",
     "shell.execute_reply": "2025-07-28T10:48:46.808103Z"
    },
    "papermill": {
     "duration": 0.035982,
     "end_time": "2025-07-28T10:48:46.811135",
     "exception": false,
     "start_time": "2025-07-28T10:48:46.775153",
     "status": "completed"
    },
    "tags": []
   },
   "outputs": [],
   "source": [
    "cp_metrics_df = pd.DataFrame(cp_metrics_dict)"
   ]
  },
  {
   "cell_type": "code",
   "execution_count": 54,
   "id": "db12611b-57b2-4910-b9d0-355adfd6e7bf",
   "metadata": {
    "execution": {
     "iopub.execute_input": "2025-07-28T10:48:46.866316Z",
     "iopub.status.busy": "2025-07-28T10:48:46.865330Z",
     "iopub.status.idle": "2025-07-28T10:48:46.885691Z",
     "shell.execute_reply": "2025-07-28T10:48:46.884510Z"
    },
    "papermill": {
     "duration": 0.049444,
     "end_time": "2025-07-28T10:48:46.887690",
     "exception": false,
     "start_time": "2025-07-28T10:48:46.838246",
     "status": "completed"
    },
    "tags": []
   },
   "outputs": [
    {
     "data": {
      "text/html": [
       "<div>\n",
       "<style scoped>\n",
       "    .dataframe tbody tr th:only-of-type {\n",
       "        vertical-align: middle;\n",
       "    }\n",
       "\n",
       "    .dataframe tbody tr th {\n",
       "        vertical-align: top;\n",
       "    }\n",
       "\n",
       "    .dataframe thead th {\n",
       "        text-align: right;\n",
       "    }\n",
       "</style>\n",
       "<table border=\"1\" class=\"dataframe\">\n",
       "  <thead>\n",
       "    <tr style=\"text-align: right;\">\n",
       "      <th></th>\n",
       "      <th>universe_id</th>\n",
       "      <th>universe_training_size</th>\n",
       "      <th>universe_scale</th>\n",
       "      <th>universe_model</th>\n",
       "      <th>universe_exclude_features</th>\n",
       "      <th>universe_exclude_subgroups</th>\n",
       "      <th>q_hat</th>\n",
       "      <th>coverage</th>\n",
       "      <th>avg_size</th>\n",
       "    </tr>\n",
       "  </thead>\n",
       "  <tbody>\n",
       "    <tr>\n",
       "      <th>0</th>\n",
       "      <td>4011be737dc942787086e84c20770606</td>\n",
       "      <td>1k</td>\n",
       "      <td>do-not-scale</td>\n",
       "      <td>penalized_logreg</td>\n",
       "      <td>none</td>\n",
       "      <td>drop-non-german</td>\n",
       "      <td>0.696052</td>\n",
       "      <td>0.911938</td>\n",
       "      <td>1.240497</td>\n",
       "    </tr>\n",
       "  </tbody>\n",
       "</table>\n",
       "</div>"
      ],
      "text/plain": [
       "                        universe_id universe_training_size universe_scale  \\\n",
       "0  4011be737dc942787086e84c20770606                     1k   do-not-scale   \n",
       "\n",
       "     universe_model universe_exclude_features universe_exclude_subgroups  \\\n",
       "0  penalized_logreg                      none            drop-non-german   \n",
       "\n",
       "      q_hat  coverage  avg_size  \n",
       "0  0.696052  0.911938  1.240497  "
      ]
     },
     "execution_count": 54,
     "metadata": {},
     "output_type": "execute_result"
    }
   ],
   "source": [
    "cp_metrics_df"
   ]
  },
  {
   "cell_type": "code",
   "execution_count": 55,
   "id": "b7fbde55-a0a1-47e4-9af6-fe4a17fa8c61",
   "metadata": {
    "execution": {
     "iopub.execute_input": "2025-07-28T10:48:46.936620Z",
     "iopub.status.busy": "2025-07-28T10:48:46.935679Z",
     "iopub.status.idle": "2025-07-28T10:48:46.941198Z",
     "shell.execute_reply": "2025-07-28T10:48:46.940209Z"
    },
    "papermill": {
     "duration": 0.028832,
     "end_time": "2025-07-28T10:48:46.942911",
     "exception": false,
     "start_time": "2025-07-28T10:48:46.914079",
     "status": "completed"
    },
    "tags": []
   },
   "outputs": [],
   "source": [
    "# Conditional Coverage & looking at subgroups"
   ]
  },
  {
   "cell_type": "code",
   "execution_count": 56,
   "id": "027ae886-68dd-4141-96c7-805a5450e1ef",
   "metadata": {
    "execution": {
     "iopub.execute_input": "2025-07-28T10:48:46.993400Z",
     "iopub.status.busy": "2025-07-28T10:48:46.992933Z",
     "iopub.status.idle": "2025-07-28T10:48:47.291654Z",
     "shell.execute_reply": "2025-07-28T10:48:47.290650Z"
    },
    "papermill": {
     "duration": 0.323772,
     "end_time": "2025-07-28T10:48:47.293699",
     "exception": false,
     "start_time": "2025-07-28T10:48:46.969927",
     "status": "completed"
    },
    "tags": []
   },
   "outputs": [],
   "source": [
    "from fairness_multiverse.conformal import build_cp_groups\n",
    "\n",
    "cp_groups_df = build_cp_groups(pred_sets, y_true, X_test.index, org_test)\n",
    "#needs universe_id and setting"
   ]
  },
  {
   "cell_type": "code",
   "execution_count": 57,
   "id": "01d5802c-663a-4d1f-9d69-e036faaffbf7",
   "metadata": {
    "execution": {
     "iopub.execute_input": "2025-07-28T10:48:47.347807Z",
     "iopub.status.busy": "2025-07-28T10:48:47.347259Z",
     "iopub.status.idle": "2025-07-28T10:48:47.352770Z",
     "shell.execute_reply": "2025-07-28T10:48:47.351556Z"
    },
    "papermill": {
     "duration": 0.036887,
     "end_time": "2025-07-28T10:48:47.354907",
     "exception": false,
     "start_time": "2025-07-28T10:48:47.318020",
     "status": "completed"
    },
    "tags": []
   },
   "outputs": [],
   "source": [
    "#delete\n",
    "#cp_groups_df"
   ]
  },
  {
   "cell_type": "code",
   "execution_count": 58,
   "id": "fa424af1-d1eb-443d-b717-2d279ada8408",
   "metadata": {
    "execution": {
     "iopub.execute_input": "2025-07-28T10:48:47.412581Z",
     "iopub.status.busy": "2025-07-28T10:48:47.412006Z",
     "iopub.status.idle": "2025-07-28T10:48:47.417790Z",
     "shell.execute_reply": "2025-07-28T10:48:47.416790Z"
    },
    "papermill": {
     "duration": 0.03478,
     "end_time": "2025-07-28T10:48:47.419551",
     "exception": false,
     "start_time": "2025-07-28T10:48:47.384771",
     "status": "completed"
    },
    "tags": []
   },
   "outputs": [],
   "source": [
    "#delete\n",
    "#percentage = (cp_groups_df['nongerman_female'] == 1).mean() * 100\n",
    "#print(percentage)\n"
   ]
  },
  {
   "cell_type": "code",
   "execution_count": 59,
   "id": "6cbdab96-b2b2-45af-ad54-d0516db2e28d",
   "metadata": {
    "execution": {
     "iopub.execute_input": "2025-07-28T10:48:47.474383Z",
     "iopub.status.busy": "2025-07-28T10:48:47.473461Z",
     "iopub.status.idle": "2025-07-28T10:48:49.398339Z",
     "shell.execute_reply": "2025-07-28T10:48:49.397100Z"
    },
    "papermill": {
     "duration": 1.955592,
     "end_time": "2025-07-28T10:48:49.400545",
     "exception": false,
     "start_time": "2025-07-28T10:48:47.444953",
     "status": "completed"
    },
    "tags": []
   },
   "outputs": [],
   "source": [
    "# Define covered = 1 if true_label is in the predicted set\n",
    "cp_groups_df['covered'] = cp_groups_df.apply(\n",
    "    lambda r: int(r['true_label'] in r['pred_set']),\n",
    "    axis=1\n",
    ")"
   ]
  },
  {
   "cell_type": "code",
   "execution_count": 60,
   "id": "338ff529-1a6b-4b87-a931-8e4788d52aad",
   "metadata": {
    "execution": {
     "iopub.execute_input": "2025-07-28T10:48:49.458939Z",
     "iopub.status.busy": "2025-07-28T10:48:49.458475Z",
     "iopub.status.idle": "2025-07-28T10:48:49.463753Z",
     "shell.execute_reply": "2025-07-28T10:48:49.462814Z"
    },
    "papermill": {
     "duration": 0.036456,
     "end_time": "2025-07-28T10:48:49.465825",
     "exception": false,
     "start_time": "2025-07-28T10:48:49.429369",
     "status": "completed"
    },
    "tags": []
   },
   "outputs": [],
   "source": [
    "#cp_groups_df"
   ]
  },
  {
   "cell_type": "code",
   "execution_count": 61,
   "id": "90032e27-66df-4540-9169-4e89cfbaa758",
   "metadata": {
    "execution": {
     "iopub.execute_input": "2025-07-28T10:48:49.524485Z",
     "iopub.status.busy": "2025-07-28T10:48:49.523964Z",
     "iopub.status.idle": "2025-07-28T10:48:49.536628Z",
     "shell.execute_reply": "2025-07-28T10:48:49.535493Z"
    },
    "papermill": {
     "duration": 0.044195,
     "end_time": "2025-07-28T10:48:49.538567",
     "exception": false,
     "start_time": "2025-07-28T10:48:49.494372",
     "status": "completed"
    },
    "tags": []
   },
   "outputs": [],
   "source": [
    "subgroups = ['frau1','nongerman','nongerman_male','nongerman_female']\n",
    "\n",
    "# Conditional coverage for subgroup==1\n",
    "cond_coverage = {\n",
    "    g: cp_groups_df.loc[cp_groups_df[g]==1, 'covered'].mean()\n",
    "    for g in subgroups\n",
    "}"
   ]
  },
  {
   "cell_type": "code",
   "execution_count": 62,
   "id": "1e348fb1-b9c3-45bc-ba23-f016827a7e0d",
   "metadata": {
    "execution": {
     "iopub.execute_input": "2025-07-28T10:48:49.596576Z",
     "iopub.status.busy": "2025-07-28T10:48:49.595877Z",
     "iopub.status.idle": "2025-07-28T10:48:49.604204Z",
     "shell.execute_reply": "2025-07-28T10:48:49.603070Z"
    },
    "papermill": {
     "duration": 0.039511,
     "end_time": "2025-07-28T10:48:49.606129",
     "exception": false,
     "start_time": "2025-07-28T10:48:49.566618",
     "status": "completed"
    },
    "tags": []
   },
   "outputs": [
    {
     "data": {
      "text/plain": [
       "{'frau1': 0.912252325111201,\n",
       " 'nongerman': 0.9345421882894516,\n",
       " 'nongerman_male': 0.9470413401783302,\n",
       " 'nongerman_female': 0.9138599105812221}"
      ]
     },
     "execution_count": 62,
     "metadata": {},
     "output_type": "execute_result"
    }
   ],
   "source": [
    "cond_coverage"
   ]
  },
  {
   "cell_type": "code",
   "execution_count": 63,
   "id": "f5093324-c3dd-4d63-bc4c-8d945e5c8bbb",
   "metadata": {
    "execution": {
     "iopub.execute_input": "2025-07-28T10:48:49.661503Z",
     "iopub.status.busy": "2025-07-28T10:48:49.660772Z",
     "iopub.status.idle": "2025-07-28T10:48:49.670137Z",
     "shell.execute_reply": "2025-07-28T10:48:49.669009Z"
    },
    "papermill": {
     "duration": 0.038139,
     "end_time": "2025-07-28T10:48:49.671879",
     "exception": false,
     "start_time": "2025-07-28T10:48:49.633740",
     "status": "completed"
    },
    "tags": []
   },
   "outputs": [],
   "source": [
    "for subgroup, cov in cond_coverage.items():\n",
    "    cp_metrics_df[f\"cov_{subgroup}\"] = cov"
   ]
  },
  {
   "cell_type": "code",
   "execution_count": 64,
   "id": "6e872e10-dbe5-49e8-b554-5030c98ff75d",
   "metadata": {
    "execution": {
     "iopub.execute_input": "2025-07-28T10:48:49.701916Z",
     "iopub.status.busy": "2025-07-28T10:48:49.701366Z",
     "iopub.status.idle": "2025-07-28T10:48:49.716003Z",
     "shell.execute_reply": "2025-07-28T10:48:49.715041Z"
    },
    "papermill": {
     "duration": 0.030386,
     "end_time": "2025-07-28T10:48:49.717660",
     "exception": false,
     "start_time": "2025-07-28T10:48:49.687274",
     "status": "completed"
    },
    "tags": []
   },
   "outputs": [
    {
     "data": {
      "text/html": [
       "<div>\n",
       "<style scoped>\n",
       "    .dataframe tbody tr th:only-of-type {\n",
       "        vertical-align: middle;\n",
       "    }\n",
       "\n",
       "    .dataframe tbody tr th {\n",
       "        vertical-align: top;\n",
       "    }\n",
       "\n",
       "    .dataframe thead th {\n",
       "        text-align: right;\n",
       "    }\n",
       "</style>\n",
       "<table border=\"1\" class=\"dataframe\">\n",
       "  <thead>\n",
       "    <tr style=\"text-align: right;\">\n",
       "      <th></th>\n",
       "      <th>universe_id</th>\n",
       "      <th>universe_training_size</th>\n",
       "      <th>universe_scale</th>\n",
       "      <th>universe_model</th>\n",
       "      <th>universe_exclude_features</th>\n",
       "      <th>universe_exclude_subgroups</th>\n",
       "      <th>q_hat</th>\n",
       "      <th>coverage</th>\n",
       "      <th>avg_size</th>\n",
       "      <th>cov_frau1</th>\n",
       "      <th>cov_nongerman</th>\n",
       "      <th>cov_nongerman_male</th>\n",
       "      <th>cov_nongerman_female</th>\n",
       "    </tr>\n",
       "  </thead>\n",
       "  <tbody>\n",
       "    <tr>\n",
       "      <th>0</th>\n",
       "      <td>4011be737dc942787086e84c20770606</td>\n",
       "      <td>1k</td>\n",
       "      <td>do-not-scale</td>\n",
       "      <td>penalized_logreg</td>\n",
       "      <td>none</td>\n",
       "      <td>drop-non-german</td>\n",
       "      <td>0.696052</td>\n",
       "      <td>0.911938</td>\n",
       "      <td>1.240497</td>\n",
       "      <td>0.912252</td>\n",
       "      <td>0.934542</td>\n",
       "      <td>0.947041</td>\n",
       "      <td>0.91386</td>\n",
       "    </tr>\n",
       "  </tbody>\n",
       "</table>\n",
       "</div>"
      ],
      "text/plain": [
       "                        universe_id universe_training_size universe_scale  \\\n",
       "0  4011be737dc942787086e84c20770606                     1k   do-not-scale   \n",
       "\n",
       "     universe_model universe_exclude_features universe_exclude_subgroups  \\\n",
       "0  penalized_logreg                      none            drop-non-german   \n",
       "\n",
       "      q_hat  coverage  avg_size  cov_frau1  cov_nongerman  cov_nongerman_male  \\\n",
       "0  0.696052  0.911938  1.240497   0.912252       0.934542            0.947041   \n",
       "\n",
       "   cov_nongerman_female  \n",
       "0               0.91386  "
      ]
     },
     "execution_count": 64,
     "metadata": {},
     "output_type": "execute_result"
    }
   ],
   "source": [
    "cp_metrics_df"
   ]
  },
  {
   "cell_type": "markdown",
   "id": "33774451",
   "metadata": {
    "papermill": {
     "duration": 0.017281,
     "end_time": "2025-07-28T10:48:49.751213",
     "exception": false,
     "start_time": "2025-07-28T10:48:49.733932",
     "status": "completed"
    },
    "tags": []
   },
   "source": [
    "# (Fairness) Metrics"
   ]
  },
  {
   "cell_type": "code",
   "execution_count": 65,
   "id": "debc5d62",
   "metadata": {
    "execution": {
     "iopub.execute_input": "2025-07-28T10:48:49.779722Z",
     "iopub.status.busy": "2025-07-28T10:48:49.778768Z",
     "iopub.status.idle": "2025-07-28T10:48:49.793975Z",
     "shell.execute_reply": "2025-07-28T10:48:49.793199Z"
    },
    "papermill": {
     "duration": 0.031088,
     "end_time": "2025-07-28T10:48:49.795424",
     "exception": false,
     "start_time": "2025-07-28T10:48:49.764336",
     "status": "completed"
    },
    "tags": []
   },
   "outputs": [],
   "source": [
    "# do I need to include maxdeutsch1.missing?\n",
    "\n",
    "import numpy as np\n",
    "\n",
    "colname_to_bin = \"maxdeutsch1\"\n",
    "majority_value = org_train[colname_to_bin].mode()[0]\n",
    "\n",
    "org_test[\"majmin\"] = np.where(org_test[colname_to_bin] == majority_value, \"majority\", \"minority\")"
   ]
  },
  {
   "cell_type": "code",
   "execution_count": 66,
   "id": "06a50de5",
   "metadata": {
    "execution": {
     "iopub.execute_input": "2025-07-28T10:48:49.829472Z",
     "iopub.status.busy": "2025-07-28T10:48:49.828836Z",
     "iopub.status.idle": "2025-07-28T10:48:52.839357Z",
     "shell.execute_reply": "2025-07-28T10:48:52.838412Z"
    },
    "papermill": {
     "duration": 3.026748,
     "end_time": "2025-07-28T10:48:52.841221",
     "exception": false,
     "start_time": "2025-07-28T10:48:49.814473",
     "status": "completed"
    },
    "tags": []
   },
   "outputs": [],
   "source": [
    "example_universe = universe.copy()\n",
    "example_universe[\"cutoff\"] = example_universe[\"cutoff\"][0]\n",
    "example_universe[\"eval_fairness_grouping\"] = example_universe[\"eval_fairness_grouping\"][0]\n",
    "fairness_dict, metric_frame = universe_analysis.compute_metrics(\n",
    "    example_universe,\n",
    "    y_pred_prob=probs_test,\n",
    "    y_test=y_true,\n",
    "    org_test=org_test,\n",
    ")"
   ]
  },
  {
   "cell_type": "markdown",
   "id": "f95d4e02",
   "metadata": {
    "papermill": {
     "duration": 0.024291,
     "end_time": "2025-07-28T10:48:52.890644",
     "exception": false,
     "start_time": "2025-07-28T10:48:52.866353",
     "status": "completed"
    },
    "tags": []
   },
   "source": [
    "# Overall"
   ]
  },
  {
   "cell_type": "markdown",
   "id": "bdee4871",
   "metadata": {
    "papermill": {
     "duration": 0.02473,
     "end_time": "2025-07-28T10:48:52.939568",
     "exception": false,
     "start_time": "2025-07-28T10:48:52.914838",
     "status": "completed"
    },
    "tags": []
   },
   "source": [
    "Fairness\n",
    "Main fairness target: Equalized Odds. Seems to be a better fit than equal opportunity, since we're not only interested in Y = 1. Seems to be a better fit than demographic parity, since we also care about accuracy, not just equal distribution of preds.\n",
    "\n",
    "Pick column for computation of fairness metrics\n",
    "\n",
    "Performance\n",
    "Overall performance measures, most interesting in relation to the measures split by group below"
   ]
  },
  {
   "cell_type": "code",
   "execution_count": 67,
   "id": "c4e067c6",
   "metadata": {
    "execution": {
     "iopub.execute_input": "2025-07-28T10:48:52.990826Z",
     "iopub.status.busy": "2025-07-28T10:48:52.990148Z",
     "iopub.status.idle": "2025-07-28T10:48:52.999289Z",
     "shell.execute_reply": "2025-07-28T10:48:52.998449Z"
    },
    "papermill": {
     "duration": 0.03764,
     "end_time": "2025-07-28T10:48:53.001035",
     "exception": false,
     "start_time": "2025-07-28T10:48:52.963395",
     "status": "completed"
    },
    "tags": []
   },
   "outputs": [
    {
     "data": {
      "text/plain": [
       "accuracy                   0.213009\n",
       "balanced accuracy          0.523216\n",
       "f1                         0.234653\n",
       "precision                  0.134049\n",
       "false positive rate        0.894044\n",
       "false negative rate        0.059524\n",
       "selection rate             0.900000\n",
       "count                  89710.000000\n",
       "dtype: float64"
      ]
     },
     "execution_count": 67,
     "metadata": {},
     "output_type": "execute_result"
    }
   ],
   "source": [
    "metric_frame.overall"
   ]
  },
  {
   "cell_type": "markdown",
   "id": "e968fe9d",
   "metadata": {
    "papermill": {
     "duration": 0.02569,
     "end_time": "2025-07-28T10:48:53.051845",
     "exception": false,
     "start_time": "2025-07-28T10:48:53.026155",
     "status": "completed"
    },
    "tags": []
   },
   "source": [
    "By Group"
   ]
  },
  {
   "cell_type": "code",
   "execution_count": 68,
   "id": "ec325bce",
   "metadata": {
    "execution": {
     "iopub.execute_input": "2025-07-28T10:48:53.103743Z",
     "iopub.status.busy": "2025-07-28T10:48:53.102778Z",
     "iopub.status.idle": "2025-07-28T10:48:53.119500Z",
     "shell.execute_reply": "2025-07-28T10:48:53.118505Z"
    },
    "papermill": {
     "duration": 0.044929,
     "end_time": "2025-07-28T10:48:53.121152",
     "exception": false,
     "start_time": "2025-07-28T10:48:53.076223",
     "status": "completed"
    },
    "tags": []
   },
   "outputs": [
    {
     "data": {
      "text/html": [
       "<div>\n",
       "<style scoped>\n",
       "    .dataframe tbody tr th:only-of-type {\n",
       "        vertical-align: middle;\n",
       "    }\n",
       "\n",
       "    .dataframe tbody tr th {\n",
       "        vertical-align: top;\n",
       "    }\n",
       "\n",
       "    .dataframe thead th {\n",
       "        text-align: right;\n",
       "    }\n",
       "</style>\n",
       "<table border=\"1\" class=\"dataframe\">\n",
       "  <thead>\n",
       "    <tr style=\"text-align: right;\">\n",
       "      <th></th>\n",
       "      <th>accuracy</th>\n",
       "      <th>balanced accuracy</th>\n",
       "      <th>f1</th>\n",
       "      <th>precision</th>\n",
       "      <th>false positive rate</th>\n",
       "      <th>false negative rate</th>\n",
       "      <th>selection rate</th>\n",
       "      <th>count</th>\n",
       "    </tr>\n",
       "    <tr>\n",
       "      <th>majmin</th>\n",
       "      <th></th>\n",
       "      <th></th>\n",
       "      <th></th>\n",
       "      <th></th>\n",
       "      <th></th>\n",
       "      <th></th>\n",
       "      <th></th>\n",
       "      <th></th>\n",
       "    </tr>\n",
       "  </thead>\n",
       "  <tbody>\n",
       "    <tr>\n",
       "      <th>majority</th>\n",
       "      <td>0.233280</td>\n",
       "      <td>0.528451</td>\n",
       "      <td>0.242674</td>\n",
       "      <td>0.139551</td>\n",
       "      <td>0.872747</td>\n",
       "      <td>0.070350</td>\n",
       "      <td>0.880266</td>\n",
       "      <td>69170.0</td>\n",
       "    </tr>\n",
       "    <tr>\n",
       "      <th>minority</th>\n",
       "      <td>0.144742</td>\n",
       "      <td>0.508934</td>\n",
       "      <td>0.209370</td>\n",
       "      <td>0.117173</td>\n",
       "      <td>0.964396</td>\n",
       "      <td>0.017736</td>\n",
       "      <td>0.966456</td>\n",
       "      <td>20540.0</td>\n",
       "    </tr>\n",
       "  </tbody>\n",
       "</table>\n",
       "</div>"
      ],
      "text/plain": [
       "          accuracy  balanced accuracy        f1  precision  \\\n",
       "majmin                                                       \n",
       "majority  0.233280           0.528451  0.242674   0.139551   \n",
       "minority  0.144742           0.508934  0.209370   0.117173   \n",
       "\n",
       "          false positive rate  false negative rate  selection rate    count  \n",
       "majmin                                                                       \n",
       "majority             0.872747             0.070350        0.880266  69170.0  \n",
       "minority             0.964396             0.017736        0.966456  20540.0  "
      ]
     },
     "execution_count": 68,
     "metadata": {},
     "output_type": "execute_result"
    }
   ],
   "source": [
    "metric_frame.by_group"
   ]
  },
  {
   "cell_type": "code",
   "execution_count": 69,
   "id": "a9ddbe63",
   "metadata": {
    "execution": {
     "iopub.execute_input": "2025-07-28T10:48:53.175918Z",
     "iopub.status.busy": "2025-07-28T10:48:53.172643Z",
     "iopub.status.idle": "2025-07-28T10:48:55.069896Z",
     "shell.execute_reply": "2025-07-28T10:48:55.068930Z"
    },
    "papermill": {
     "duration": 1.924662,
     "end_time": "2025-07-28T10:48:55.071254",
     "exception": false,
     "start_time": "2025-07-28T10:48:53.146592",
     "status": "completed"
    },
    "tags": []
   },
   "outputs": [
    {
     "data": {
      "text/plain": [
       "array([[<Axes: title={'center': 'accuracy'}, xlabel='majmin'>,\n",
       "        <Axes: title={'center': 'balanced accuracy'}, xlabel='majmin'>,\n",
       "        <Axes: title={'center': 'f1'}, xlabel='majmin'>],\n",
       "       [<Axes: title={'center': 'precision'}, xlabel='majmin'>,\n",
       "        <Axes: title={'center': 'false positive rate'}, xlabel='majmin'>,\n",
       "        <Axes: title={'center': 'false negative rate'}, xlabel='majmin'>],\n",
       "       [<Axes: title={'center': 'selection rate'}, xlabel='majmin'>,\n",
       "        <Axes: title={'center': 'count'}, xlabel='majmin'>,\n",
       "        <Axes: xlabel='majmin'>]], dtype=object)"
      ]
     },
     "execution_count": 69,
     "metadata": {},
     "output_type": "execute_result"
    },
    {
     "data": {
      "image/png": "[encoded data removed]",
      "text/plain": [
       "<Figure size 1200x800 with 9 Axes>"
      ]
     },
     "metadata": {},
     "output_type": "display_data"
    }
   ],
   "source": [
    "# In a graphic\n",
    "metric_frame.by_group.plot.bar(\n",
    "    subplots=True,\n",
    "    layout=[3, 3],\n",
    "    legend=False,\n",
    "    figsize=[12, 8],\n",
    "    title=\"Show all metrics\",\n",
    ")"
   ]
  },
  {
   "cell_type": "markdown",
   "id": "f57a0bac",
   "metadata": {
    "papermill": {
     "duration": 0.015087,
     "end_time": "2025-07-28T10:48:55.102275",
     "exception": false,
     "start_time": "2025-07-28T10:48:55.087188",
     "status": "completed"
    },
    "tags": []
   },
   "source": [
    "# Final Output"
   ]
  },
  {
   "cell_type": "code",
   "execution_count": 70,
   "id": "96d280a3",
   "metadata": {
    "execution": {
     "iopub.execute_input": "2025-07-28T10:48:55.134849Z",
     "iopub.status.busy": "2025-07-28T10:48:55.133897Z",
     "iopub.status.idle": "2025-07-28T10:48:55.141749Z",
     "shell.execute_reply": "2025-07-28T10:48:55.140955Z"
    },
    "papermill": {
     "duration": 0.025717,
     "end_time": "2025-07-28T10:48:55.143143",
     "exception": false,
     "start_time": "2025-07-28T10:48:55.117426",
     "status": "completed"
    },
    "tags": []
   },
   "outputs": [
    {
     "data": {
      "text/plain": [
       "4"
      ]
     },
     "execution_count": 70,
     "metadata": {},
     "output_type": "execute_result"
    }
   ],
   "source": [
    "sub_universes = universe_analysis.generate_sub_universes()\n",
    "len(sub_universes)"
   ]
  },
  {
   "cell_type": "code",
   "execution_count": 71,
   "id": "92adf7ba",
   "metadata": {
    "execution": {
     "iopub.execute_input": "2025-07-28T10:48:55.175784Z",
     "iopub.status.busy": "2025-07-28T10:48:55.175198Z",
     "iopub.status.idle": "2025-07-28T10:48:55.190173Z",
     "shell.execute_reply": "2025-07-28T10:48:55.189219Z"
    },
    "papermill": {
     "duration": 0.032875,
     "end_time": "2025-07-28T10:48:55.191757",
     "exception": false,
     "start_time": "2025-07-28T10:48:55.158882",
     "status": "completed"
    },
    "tags": []
   },
   "outputs": [],
   "source": [
    "def filter_sub_universe_data(sub_universe, org_test):\n",
    "    # Keep all rows — no filtering\n",
    "    keep_rows_mask = np.ones(org_test.shape[0], dtype=bool)\n",
    "\n",
    "    print(f\"[INFO] Keeping all rows: {keep_rows_mask.sum()} rows retained.\")\n",
    "    return keep_rows_mask"
   ]
  },
  {
   "cell_type": "code",
   "execution_count": 72,
   "id": "4a759155",
   "metadata": {
    "execution": {
     "iopub.execute_input": "2025-07-28T10:48:55.225557Z",
     "iopub.status.busy": "2025-07-28T10:48:55.224987Z",
     "iopub.status.idle": "2025-07-28T10:49:03.747733Z",
     "shell.execute_reply": "2025-07-28T10:49:03.746700Z"
    },
    "papermill": {
     "duration": 8.540869,
     "end_time": "2025-07-28T10:49:03.749431",
     "exception": false,
     "start_time": "2025-07-28T10:48:55.208562",
     "status": "completed"
    },
    "tags": []
   },
   "outputs": [
    {
     "name": "stdout",
     "output_type": "stream",
     "text": [
      "Stopping execution_time clock.\n",
      "[INFO] Keeping all rows: 89710 rows retained.\n"
     ]
    },
    {
     "name": "stdout",
     "output_type": "stream",
     "text": [
      "[INFO] Keeping all rows: 89710 rows retained.\n"
     ]
    },
    {
     "name": "stdout",
     "output_type": "stream",
     "text": [
      "[INFO] Keeping all rows: 89710 rows retained.\n"
     ]
    },
    {
     "name": "stdout",
     "output_type": "stream",
     "text": [
      "[INFO] Keeping all rows: 89710 rows retained.\n"
     ]
    },
    {
     "data": {
      "text/html": [
       "<div>\n",
       "<style scoped>\n",
       "    .dataframe tbody tr th:only-of-type {\n",
       "        vertical-align: middle;\n",
       "    }\n",
       "\n",
       "    .dataframe tbody tr th {\n",
       "        vertical-align: top;\n",
       "    }\n",
       "\n",
       "    .dataframe thead th {\n",
       "        text-align: right;\n",
       "    }\n",
       "</style>\n",
       "<table border=\"1\" class=\"dataframe\">\n",
       "  <thead>\n",
       "    <tr style=\"text-align: right;\">\n",
       "      <th></th>\n",
       "      <th>run_no</th>\n",
       "      <th>universe_id</th>\n",
       "      <th>universe_settings</th>\n",
       "      <th>execution_time</th>\n",
       "      <th>test_size_n</th>\n",
       "      <th>test_size_frac</th>\n",
       "      <th>fair_main_equalized_odds_difference</th>\n",
       "      <th>fair_main_equalized_odds_ratio</th>\n",
       "      <th>fair_main_demographic_parity_difference</th>\n",
       "      <th>fair_main_demographic_parity_ratio</th>\n",
       "      <th>...</th>\n",
       "      <th>perf_grp_precision_0</th>\n",
       "      <th>perf_grp_precision_1</th>\n",
       "      <th>perf_grp_false positive rate_0</th>\n",
       "      <th>perf_grp_false positive rate_1</th>\n",
       "      <th>perf_grp_false negative rate_0</th>\n",
       "      <th>perf_grp_false negative rate_1</th>\n",
       "      <th>perf_grp_selection rate_0</th>\n",
       "      <th>perf_grp_selection rate_1</th>\n",
       "      <th>perf_grp_count_0</th>\n",
       "      <th>perf_grp_count_1</th>\n",
       "    </tr>\n",
       "  </thead>\n",
       "  <tbody>\n",
       "    <tr>\n",
       "      <th>0</th>\n",
       "      <td>11</td>\n",
       "      <td>4011be737dc942787086e84c20770606</td>\n",
       "      <td>{\"cutoff\": \"quantile_0.1\", \"eval_fairness_grou...</td>\n",
       "      <td>26.297179</td>\n",
       "      <td>89710</td>\n",
       "      <td>1.0</td>\n",
       "      <td>0.091649</td>\n",
       "      <td>0.904968</td>\n",
       "      <td>0.086190</td>\n",
       "      <td>0.910819</td>\n",
       "      <td>...</td>\n",
       "      <td>NaN</td>\n",
       "      <td>NaN</td>\n",
       "      <td>NaN</td>\n",
       "      <td>NaN</td>\n",
       "      <td>NaN</td>\n",
       "      <td>NaN</td>\n",
       "      <td>NaN</td>\n",
       "      <td>NaN</td>\n",
       "      <td>NaN</td>\n",
       "      <td>NaN</td>\n",
       "    </tr>\n",
       "    <tr>\n",
       "      <th>0</th>\n",
       "      <td>11</td>\n",
       "      <td>4011be737dc942787086e84c20770606</td>\n",
       "      <td>{\"cutoff\": \"quantile_0.1\", \"eval_fairness_grou...</td>\n",
       "      <td>26.297179</td>\n",
       "      <td>89710</td>\n",
       "      <td>1.0</td>\n",
       "      <td>0.091649</td>\n",
       "      <td>0.904968</td>\n",
       "      <td>0.086190</td>\n",
       "      <td>0.910819</td>\n",
       "      <td>...</td>\n",
       "      <td>0.117173</td>\n",
       "      <td>0.139551</td>\n",
       "      <td>0.964396</td>\n",
       "      <td>0.872747</td>\n",
       "      <td>0.017736</td>\n",
       "      <td>0.070350</td>\n",
       "      <td>0.966456</td>\n",
       "      <td>0.880266</td>\n",
       "      <td>20540.0</td>\n",
       "      <td>69170.0</td>\n",
       "    </tr>\n",
       "    <tr>\n",
       "      <th>0</th>\n",
       "      <td>11</td>\n",
       "      <td>4011be737dc942787086e84c20770606</td>\n",
       "      <td>{\"cutoff\": \"quantile_0.25\", \"eval_fairness_gro...</td>\n",
       "      <td>26.297179</td>\n",
       "      <td>89710</td>\n",
       "      <td>1.0</td>\n",
       "      <td>0.207972</td>\n",
       "      <td>0.766899</td>\n",
       "      <td>0.192782</td>\n",
       "      <td>0.785473</td>\n",
       "      <td>...</td>\n",
       "      <td>NaN</td>\n",
       "      <td>NaN</td>\n",
       "      <td>NaN</td>\n",
       "      <td>NaN</td>\n",
       "      <td>NaN</td>\n",
       "      <td>NaN</td>\n",
       "      <td>NaN</td>\n",
       "      <td>NaN</td>\n",
       "      <td>NaN</td>\n",
       "      <td>NaN</td>\n",
       "    </tr>\n",
       "    <tr>\n",
       "      <th>0</th>\n",
       "      <td>11</td>\n",
       "      <td>4011be737dc942787086e84c20770606</td>\n",
       "      <td>{\"cutoff\": \"quantile_0.25\", \"eval_fairness_gro...</td>\n",
       "      <td>26.297179</td>\n",
       "      <td>89710</td>\n",
       "      <td>1.0</td>\n",
       "      <td>0.207972</td>\n",
       "      <td>0.766899</td>\n",
       "      <td>0.192782</td>\n",
       "      <td>0.785473</td>\n",
       "      <td>...</td>\n",
       "      <td>0.121627</td>\n",
       "      <td>0.158733</td>\n",
       "      <td>0.892197</td>\n",
       "      <td>0.684225</td>\n",
       "      <td>0.051943</td>\n",
       "      <td>0.152079</td>\n",
       "      <td>0.898637</td>\n",
       "      <td>0.705855</td>\n",
       "      <td>20540.0</td>\n",
       "      <td>69170.0</td>\n",
       "    </tr>\n",
       "  </tbody>\n",
       "</table>\n",
       "<p>4 rows × 50 columns</p>\n",
       "</div>"
      ],
      "text/plain": [
       "  run_no                       universe_id  \\\n",
       "0     11  4011be737dc942787086e84c20770606   \n",
       "0     11  4011be737dc942787086e84c20770606   \n",
       "0     11  4011be737dc942787086e84c20770606   \n",
       "0     11  4011be737dc942787086e84c20770606   \n",
       "\n",
       "                                   universe_settings  execution_time  \\\n",
       "0  {\"cutoff\": \"quantile_0.1\", \"eval_fairness_grou...       26.297179   \n",
       "0  {\"cutoff\": \"quantile_0.1\", \"eval_fairness_grou...       26.297179   \n",
       "0  {\"cutoff\": \"quantile_0.25\", \"eval_fairness_gro...       26.297179   \n",
       "0  {\"cutoff\": \"quantile_0.25\", \"eval_fairness_gro...       26.297179   \n",
       "\n",
       "   test_size_n  test_size_frac  fair_main_equalized_odds_difference  \\\n",
       "0        89710             1.0                             0.091649   \n",
       "0        89710             1.0                             0.091649   \n",
       "0        89710             1.0                             0.207972   \n",
       "0        89710             1.0                             0.207972   \n",
       "\n",
       "   fair_main_equalized_odds_ratio  fair_main_demographic_parity_difference  \\\n",
       "0                        0.904968                                 0.086190   \n",
       "0                        0.904968                                 0.086190   \n",
       "0                        0.766899                                 0.192782   \n",
       "0                        0.766899                                 0.192782   \n",
       "\n",
       "   fair_main_demographic_parity_ratio  ...  perf_grp_precision_0  \\\n",
       "0                            0.910819  ...                   NaN   \n",
       "0                            0.910819  ...              0.117173   \n",
       "0                            0.785473  ...                   NaN   \n",
       "0                            0.785473  ...              0.121627   \n",
       "\n",
       "   perf_grp_precision_1  perf_grp_false positive rate_0  \\\n",
       "0                   NaN                             NaN   \n",
       "0              0.139551                        0.964396   \n",
       "0                   NaN                             NaN   \n",
       "0              0.158733                        0.892197   \n",
       "\n",
       "   perf_grp_false positive rate_1  perf_grp_false negative rate_0  \\\n",
       "0                             NaN                             NaN   \n",
       "0                        0.872747                        0.017736   \n",
       "0                             NaN                             NaN   \n",
       "0                        0.684225                        0.051943   \n",
       "\n",
       "   perf_grp_false negative rate_1  perf_grp_selection rate_0  \\\n",
       "0                             NaN                        NaN   \n",
       "0                        0.070350                   0.966456   \n",
       "0                             NaN                        NaN   \n",
       "0                        0.152079                   0.898637   \n",
       "\n",
       "   perf_grp_selection rate_1  perf_grp_count_0  perf_grp_count_1  \n",
       "0                        NaN               NaN               NaN  \n",
       "0                   0.880266           20540.0           69170.0  \n",
       "0                        NaN               NaN               NaN  \n",
       "0                   0.705855           20540.0           69170.0  \n",
       "\n",
       "[4 rows x 50 columns]"
      ]
     },
     "execution_count": 72,
     "metadata": {},
     "output_type": "execute_result"
    }
   ],
   "source": [
    "final_output = universe_analysis.generate_final_output(\n",
    "    y_pred_prob=probs_test,\n",
    "    y_test=y_true,\n",
    "    org_test=org_test,\n",
    "    filter_data=filter_sub_universe_data,\n",
    "    cp_metrics_df=cp_metrics_df,\n",
    "    save=True,\n",
    ")\n",
    "final_output"
   ]
  },
  {
   "cell_type": "code",
   "execution_count": null,
   "id": "721ff514-cb11-46f8-b6fc-50392f74b5cb",
   "metadata": {
    "papermill": {
     "duration": 0.031406,
     "end_time": "2025-07-28T10:49:03.814354",
     "exception": false,
     "start_time": "2025-07-28T10:49:03.782948",
     "status": "completed"
    },
    "tags": []
   },
   "outputs": [],
   "source": []
  }
 ],
 "metadata": {
  "celltoolbar": "Tags",
  "kernelspec": {
   "display_name": "Python (CMA Fairness)",
   "language": "python",
   "name": "cma_fair_env"
  },
  "language_info": {
   "codemirror_mode": {
    "name": "ipython",
    "version": 3
   },
   "file_extension": ".py",
   "mimetype": "text/x-python",
   "name": "python",
   "nbconvert_exporter": "python",
   "pygments_lexer": "ipython3",
   "version": "3.10.12"
  },
  "papermill": {
   "default_parameters": {},
   "duration": 39.142642,
   "end_time": "2025-07-28T10:49:04.663065",
   "environment_variables": {},
   "exception": null,
   "input_path": "universe_analysis.ipynb",
   "output_path": "output/runs/11/notebooks/m_11-4011be737dc942787086e84c20770606.ipynb",
   "parameters": {
    "output_dir": "output",
    "run_no": "11",
    "seed": "2023",
    "universe": "{\"cutoff\": [\"quantile_0.1\", \"quantile_0.25\"], \"eval_fairness_grouping\": [\"majority-minority\", \"nationality-all\"], \"exclude_features\": \"none\", \"exclude_subgroups\": \"drop-non-german\", \"model\": \"penalized_logreg\", \"scale\": \"do-not-scale\", \"training_size\": \"1k\"}",
    "universe_id": "4011be737dc942787086e84c20770606"
   },
   "start_time": "2025-07-28T10:48:25.520423",
   "version": "2.6.0"
  }
 },
 "nbformat": 4,
 "nbformat_minor": 5
}