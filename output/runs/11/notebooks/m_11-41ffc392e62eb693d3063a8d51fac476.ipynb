{
 "cells": [
  {
   "cell_type": "code",
   "execution_count": 1,
   "id": "f159f837-637b-42ba-96b5-ec9a68c44524",
   "metadata": {
    "execution": {
     "iopub.execute_input": "2025-07-28T10:49:26.727583Z",
     "iopub.status.busy": "2025-07-28T10:49:26.726837Z",
     "iopub.status.idle": "2025-07-28T10:49:26.743365Z",
     "shell.execute_reply": "2025-07-28T10:49:26.742291Z"
    },
    "papermill": {
     "duration": 0.048298,
     "end_time": "2025-07-28T10:49:26.745509",
     "exception": false,
     "start_time": "2025-07-28T10:49:26.697211",
     "status": "completed"
    },
    "tags": []
   },
   "outputs": [
    {
     "name": "stdout",
     "output_type": "stream",
     "text": [
      "/dss/dsshome1/0C/ra93lal2/cma/CMA_Fairness_v2\n"
     ]
    },
    {
     "name": "stderr",
     "output_type": "stream",
     "text": [
      "/dss/dsshome1/0C/ra93lal2/.local/share/virtualenvs/CMA_Fairness_v2-3j10GkSs/lib/python3.10/site-packages/IPython/core/magics/osm.py:393: UserWarning: This is now an optional IPython functionality, using bookmarks requires you to install the `pickleshare` library.\n",
      "  bkms = self.shell.db.get('bookmarks', {})\n",
      "/dss/dsshome1/0C/ra93lal2/.local/share/virtualenvs/CMA_Fairness_v2-3j10GkSs/lib/python3.10/site-packages/IPython/core/magics/osm.py:417: UserWarning: This is now an optional IPython functionality, setting dhist requires you to install the `pickleshare` library.\n",
      "  self.shell.db['dhist'] = compress_dhist(dhist)[-100:]\n"
     ]
    }
   ],
   "source": [
    "%cd ~/cma/CMA_Fairness_v2"
   ]
  },
  {
   "cell_type": "markdown",
   "id": "de2603b9",
   "metadata": {
    "papermill": {
     "duration": 0.022913,
     "end_time": "2025-07-28T10:49:26.795300",
     "exception": false,
     "start_time": "2025-07-28T10:49:26.772387",
     "status": "completed"
    },
    "tags": []
   },
   "source": [
    "The following cell holds the definition of our parameters, these values can be overriden by rendering the with e.g. the following command:\n",
    "\n",
    "papermill -p alpha 0.2 -p ratio 0.3 universe_analysis.ipynb output/test_run.ipynb"
   ]
  },
  {
   "cell_type": "code",
   "execution_count": 2,
   "id": "a80968a0-40bb-4fa9-85ef-2d5eefb01975",
   "metadata": {
    "execution": {
     "iopub.execute_input": "2025-07-28T10:49:26.839721Z",
     "iopub.status.busy": "2025-07-28T10:49:26.839155Z",
     "iopub.status.idle": "2025-07-28T10:49:26.846610Z",
     "shell.execute_reply": "2025-07-28T10:49:26.845580Z"
    },
    "papermill": {
     "duration": 0.031654,
     "end_time": "2025-07-28T10:49:26.848322",
     "exception": false,
     "start_time": "2025-07-28T10:49:26.816668",
     "status": "completed"
    },
    "tags": []
   },
   "outputs": [
    {
     "name": "stdout",
     "output_type": "stream",
     "text": [
      "Current working directory: /dss/dsshome1/0C/ra93lal2/cma/CMA_Fairness_v2\n"
     ]
    }
   ],
   "source": [
    "import os\n",
    "print(\"Current working directory:\", os.getcwd())"
   ]
  },
  {
   "cell_type": "code",
   "execution_count": 3,
   "id": "2dce4c03",
   "metadata": {
    "execution": {
     "iopub.execute_input": "2025-07-28T10:49:26.893136Z",
     "iopub.status.busy": "2025-07-28T10:49:26.892476Z",
     "iopub.status.idle": "2025-07-28T10:49:26.900380Z",
     "shell.execute_reply": "2025-07-28T10:49:26.899226Z"
    },
    "papermill": {
     "duration": 0.03247,
     "end_time": "2025-07-28T10:49:26.902347",
     "exception": false,
     "start_time": "2025-07-28T10:49:26.869877",
     "status": "completed"
    },
    "tags": [
     "parameters"
    ]
   },
   "outputs": [],
   "source": [
    "run_no = 0\n",
    "universe_id = \"test\"\n",
    "universe = {\n",
    "    \"training_size\": \"2014\", # \"25k\", \"5k\", \"1k\", \"2014\"\n",
    "    \"scale\": \"scale\", # \"scale\", \"do-not-scale\",\n",
    "    #\"stratify_split\": \"target\", # \"none\", \"target\", \"protected-attribute\", \"both\",\n",
    "    \"model\": \"elasticnet\", # \"logreg\", \"penalized_logreg\", \"rf\", \"gbm\", \"elasticnet\"\n",
    "    \"cutoff\": [\"quantile_0.15\", \"quantile_0.30\"],\n",
    "    \"exclude_features\": \"age\", # \"none\", \"nationality\", \"sex\", \"nationality-sex\", \"age\"\n",
    "    \"exclude_subgroups\": \"keep-all\", # \"keep-all\", \"drop-non-german\"\n",
    "    \"eval_fairness_grouping\": [\"majority-minority\", \"nationality-all\"]\n",
    "}\n",
    "\n",
    "output_dir=\"./output\"\n",
    "seed=0"
   ]
  },
  {
   "cell_type": "code",
   "execution_count": 4,
   "id": "1db93db6",
   "metadata": {
    "execution": {
     "iopub.execute_input": "2025-07-28T10:49:26.945329Z",
     "iopub.status.busy": "2025-07-28T10:49:26.944704Z",
     "iopub.status.idle": "2025-07-28T10:49:26.951629Z",
     "shell.execute_reply": "2025-07-28T10:49:26.950618Z"
    },
    "papermill": {
     "duration": 0.030417,
     "end_time": "2025-07-28T10:49:26.953535",
     "exception": false,
     "start_time": "2025-07-28T10:49:26.923118",
     "status": "completed"
    },
    "tags": [
     "injected-parameters"
    ]
   },
   "outputs": [],
   "source": [
    "# Parameters\n",
    "universe_id = \"41ffc392e62eb693d3063a8d51fac476\"\n",
    "run_no = \"11\"\n",
    "universe = \"{\\\"cutoff\\\": [\\\"quantile_0.1\\\", \\\"quantile_0.25\\\"], \\\"eval_fairness_grouping\\\": [\\\"majority-minority\\\", \\\"nationality-all\\\"], \\\"exclude_features\\\": \\\"none\\\", \\\"exclude_subgroups\\\": \\\"drop-non-german\\\", \\\"model\\\": \\\"rf\\\", \\\"scale\\\": \\\"do-not-scale\\\", \\\"training_size\\\": \\\"1k\\\"}\"\n",
    "output_dir = \"output\"\n",
    "seed = \"2023\"\n"
   ]
  },
  {
   "cell_type": "code",
   "execution_count": 5,
   "id": "1650acaf",
   "metadata": {
    "execution": {
     "iopub.execute_input": "2025-07-28T10:49:26.991633Z",
     "iopub.status.busy": "2025-07-28T10:49:26.990857Z",
     "iopub.status.idle": "2025-07-28T10:49:26.996448Z",
     "shell.execute_reply": "2025-07-28T10:49:26.995238Z"
    },
    "papermill": {
     "duration": 0.024382,
     "end_time": "2025-07-28T10:49:26.998453",
     "exception": false,
     "start_time": "2025-07-28T10:49:26.974071",
     "status": "completed"
    },
    "tags": []
   },
   "outputs": [],
   "source": [
    "import json\n",
    "# Parse universe into dict if it is passed as a string\n",
    "if isinstance(universe, str):\n",
    "    universe = json.loads(universe)"
   ]
  },
  {
   "cell_type": "code",
   "execution_count": 6,
   "id": "16620c48",
   "metadata": {
    "execution": {
     "iopub.execute_input": "2025-07-28T10:49:27.039167Z",
     "iopub.status.busy": "2025-07-28T10:49:27.038664Z",
     "iopub.status.idle": "2025-07-28T10:49:27.087317Z",
     "shell.execute_reply": "2025-07-28T10:49:27.086268Z"
    },
    "papermill": {
     "duration": 0.071164,
     "end_time": "2025-07-28T10:49:27.089161",
     "exception": false,
     "start_time": "2025-07-28T10:49:27.017997",
     "status": "completed"
    },
    "tags": []
   },
   "outputs": [],
   "source": [
    "# Auto-reload the custom package\n",
    "%load_ext autoreload\n",
    "%autoreload 1\n",
    "%aimport fairness_multiverse"
   ]
  },
  {
   "cell_type": "code",
   "execution_count": 7,
   "id": "01c5c9f3",
   "metadata": {
    "execution": {
     "iopub.execute_input": "2025-07-28T10:49:27.131526Z",
     "iopub.status.busy": "2025-07-28T10:49:27.131072Z",
     "iopub.status.idle": "2025-07-28T10:49:29.136340Z",
     "shell.execute_reply": "2025-07-28T10:49:29.135216Z"
    },
    "papermill": {
     "duration": 2.028982,
     "end_time": "2025-07-28T10:49:29.138533",
     "exception": false,
     "start_time": "2025-07-28T10:49:27.109551",
     "status": "completed"
    },
    "tags": []
   },
   "outputs": [],
   "source": [
    "from fairness_multiverse.universe import UniverseAnalysis\n",
    "\n",
    "universe_analysis = UniverseAnalysis(\n",
    "    run_no = run_no,\n",
    "    universe_id = universe_id,\n",
    "    universe = universe,\n",
    "    output_dir=output_dir,\n",
    ")"
   ]
  },
  {
   "cell_type": "code",
   "execution_count": 8,
   "id": "106241f5",
   "metadata": {
    "execution": {
     "iopub.execute_input": "2025-07-28T10:49:29.164092Z",
     "iopub.status.busy": "2025-07-28T10:49:29.163629Z",
     "iopub.status.idle": "2025-07-28T10:49:29.170954Z",
     "shell.execute_reply": "2025-07-28T10:49:29.169951Z"
    },
    "papermill": {
     "duration": 0.021148,
     "end_time": "2025-07-28T10:49:29.173078",
     "exception": false,
     "start_time": "2025-07-28T10:49:29.151930",
     "status": "completed"
    },
    "tags": []
   },
   "outputs": [
    {
     "name": "stdout",
     "output_type": "stream",
     "text": [
      "Using Seed: 2023\n"
     ]
    }
   ],
   "source": [
    "import numpy as np\n",
    "parsed_seed = int(seed)\n",
    "np.random.seed(parsed_seed)\n",
    "print(f\"Using Seed: {parsed_seed}\")"
   ]
  },
  {
   "cell_type": "markdown",
   "id": "e0ebdc57",
   "metadata": {
    "papermill": {
     "duration": 0.020404,
     "end_time": "2025-07-28T10:49:29.214705",
     "exception": false,
     "start_time": "2025-07-28T10:49:29.194301",
     "status": "completed"
    },
    "tags": []
   },
   "source": [
    "# Loading Data"
   ]
  },
  {
   "cell_type": "markdown",
   "id": "681925a3",
   "metadata": {
    "papermill": {
     "duration": 0.060941,
     "end_time": "2025-07-28T10:49:29.296319",
     "exception": false,
     "start_time": "2025-07-28T10:49:29.235378",
     "status": "completed"
    },
    "tags": []
   },
   "source": [
    "Load siab_train, siab_test, siab_calib and/or \n",
    "load siab_train_features, siab_train_labels"
   ]
  },
  {
   "cell_type": "code",
   "execution_count": 9,
   "id": "f0496b8a",
   "metadata": {
    "execution": {
     "iopub.execute_input": "2025-07-28T10:49:29.338984Z",
     "iopub.status.busy": "2025-07-28T10:49:29.338472Z",
     "iopub.status.idle": "2025-07-28T10:49:42.076589Z",
     "shell.execute_reply": "2025-07-28T10:49:42.075384Z"
    },
    "papermill": {
     "duration": 12.761295,
     "end_time": "2025-07-28T10:49:42.078100",
     "exception": false,
     "start_time": "2025-07-28T10:49:29.316805",
     "status": "completed"
    },
    "tags": []
   },
   "outputs": [
    {
     "name": "stdout",
     "output_type": "stream",
     "text": [
      "Loading SIAB data from cache: data/siab_cached.csv.gz\n"
     ]
    },
    {
     "name": "stdout",
     "output_type": "stream",
     "text": [
      "(643690, 164)\n"
     ]
    }
   ],
   "source": [
    "from pathlib import Path\n",
    "import pandas as pd\n",
    "\n",
    "# File paths\n",
    "raw_file = Path(\"data/raw/siab.csv\")\n",
    "cache_file = Path(\"data/siab_cached.csv.gz\")\n",
    "\n",
    "# Ensure cache directory exists\n",
    "cache_file.parent.mkdir(parents=True, exist_ok=True)\n",
    "\n",
    "# Load with simple caching\n",
    "if cache_file.exists():\n",
    "    print(f\"Loading SIAB data from cache: {cache_file}\")\n",
    "    siab = pd.read_csv(cache_file, compression='gzip')\n",
    "else:\n",
    "    print(f\"Cache not found. Reading raw SIAB data: {raw_file}\")\n",
    "    siab = pd.read_csv(raw_file)\n",
    "    siab.to_csv(cache_file, index=False, compression='gzip')\n",
    "    print(f\"Cached SIAB data to: {cache_file}\")\n",
    "\n",
    "# Now use `siab` DataFrame as needed\n",
    "print(siab.shape)"
   ]
  },
  {
   "cell_type": "code",
   "execution_count": 10,
   "id": "db0ca512-5f53-4dba-abdb-a2888bca41ba",
   "metadata": {
    "execution": {
     "iopub.execute_input": "2025-07-28T10:49:42.120307Z",
     "iopub.status.busy": "2025-07-28T10:49:42.119821Z",
     "iopub.status.idle": "2025-07-28T10:49:42.124994Z",
     "shell.execute_reply": "2025-07-28T10:49:42.124243Z"
    },
    "papermill": {
     "duration": 0.026781,
     "end_time": "2025-07-28T10:49:42.126233",
     "exception": false,
     "start_time": "2025-07-28T10:49:42.099452",
     "status": "completed"
    },
    "tags": []
   },
   "outputs": [],
   "source": [
    "#siab"
   ]
  },
  {
   "cell_type": "code",
   "execution_count": 11,
   "id": "a0edb063",
   "metadata": {
    "execution": {
     "iopub.execute_input": "2025-07-28T10:49:42.160466Z",
     "iopub.status.busy": "2025-07-28T10:49:42.159514Z",
     "iopub.status.idle": "2025-07-28T10:49:42.164869Z",
     "shell.execute_reply": "2025-07-28T10:49:42.163718Z"
    },
    "papermill": {
     "duration": 0.024475,
     "end_time": "2025-07-28T10:49:42.167064",
     "exception": false,
     "start_time": "2025-07-28T10:49:42.142589",
     "status": "completed"
    },
    "tags": []
   },
   "outputs": [],
   "source": [
    "#import pandas as pd\n",
    "#\n",
    "#X_train = pd.read_csv(\"./data/X_train.csv\")\n",
    "#y_train = pd.read_csv(\"./data/y_train.csv\")"
   ]
  },
  {
   "cell_type": "code",
   "execution_count": 12,
   "id": "63d08085",
   "metadata": {
    "execution": {
     "iopub.execute_input": "2025-07-28T10:49:42.201636Z",
     "iopub.status.busy": "2025-07-28T10:49:42.201270Z",
     "iopub.status.idle": "2025-07-28T10:49:42.206763Z",
     "shell.execute_reply": "2025-07-28T10:49:42.205785Z"
    },
    "papermill": {
     "duration": 0.022056,
     "end_time": "2025-07-28T10:49:42.208370",
     "exception": false,
     "start_time": "2025-07-28T10:49:42.186314",
     "status": "completed"
    },
    "tags": []
   },
   "outputs": [],
   "source": [
    "#X_test = pd.read_csv(\"./data/X_test.csv\")\n",
    "#y_true = pd.read_csv(\"./data/y_test.csv\")"
   ]
  },
  {
   "cell_type": "code",
   "execution_count": 13,
   "id": "98a8d0fa-1d3d-4ed8-bb2c-281470e24add",
   "metadata": {
    "execution": {
     "iopub.execute_input": "2025-07-28T10:49:42.244378Z",
     "iopub.status.busy": "2025-07-28T10:49:42.243922Z",
     "iopub.status.idle": "2025-07-28T10:49:42.248896Z",
     "shell.execute_reply": "2025-07-28T10:49:42.248082Z"
    },
    "papermill": {
     "duration": 0.025624,
     "end_time": "2025-07-28T10:49:42.250320",
     "exception": false,
     "start_time": "2025-07-28T10:49:42.224696",
     "status": "completed"
    },
    "tags": []
   },
   "outputs": [],
   "source": [
    "# Calibration data for conformal\n",
    "#X_calib = pd.read_csv(\"./data/X_calib.csv\")\n",
    "#y_calib = pd.read_csv(\"./data/y_calib.csv\")"
   ]
  },
  {
   "cell_type": "markdown",
   "id": "9901737e-04df-44f0-9100-f5ad144ed040",
   "metadata": {
    "papermill": {
     "duration": 0.018844,
     "end_time": "2025-07-28T10:49:42.289952",
     "exception": false,
     "start_time": "2025-07-28T10:49:42.271108",
     "status": "completed"
    },
    "tags": []
   },
   "source": [
    "# Splitting Data and Setting Training Data Size"
   ]
  },
  {
   "cell_type": "code",
   "execution_count": 14,
   "id": "acbc8f7d-8fc8-4e86-8c59-5dcb0f58384b",
   "metadata": {
    "execution": {
     "iopub.execute_input": "2025-07-28T10:49:42.333007Z",
     "iopub.status.busy": "2025-07-28T10:49:42.330832Z",
     "iopub.status.idle": "2025-07-28T10:49:42.340925Z",
     "shell.execute_reply": "2025-07-28T10:49:42.339872Z"
    },
    "papermill": {
     "duration": 0.034194,
     "end_time": "2025-07-28T10:49:42.342690",
     "exception": false,
     "start_time": "2025-07-28T10:49:42.308496",
     "status": "completed"
    },
    "tags": []
   },
   "outputs": [],
   "source": [
    "def sample_by_year(df, training_size, random_state=42):\n",
    "    if training_size == \"2014\":\n",
    "        return df[df[\"year\"] == 2014].reset_index(drop=True)\n",
    "    \n",
    "    size_map = {\n",
    "        \"25k\": 5000,\n",
    "        \"5k\": 1000,\n",
    "        \"1k\": 200\n",
    "    }\n",
    "\n",
    "    if training_size not in size_map:\n",
    "        return df.reset_index(drop=True)  # use all data\n",
    "\n",
    "    n_per_year = size_map[training_size]\n",
    "    grouped = df.groupby(\"year\")\n",
    "    sampled = grouped.apply(lambda x: x.sample(n=min(n_per_year, len(x)), random_state=random_state))\n",
    "    return sampled.reset_index(drop=True)"
   ]
  },
  {
   "cell_type": "code",
   "execution_count": 15,
   "id": "6d931f52-beaf-43ff-9e78-9d44a448d54e",
   "metadata": {
    "execution": {
     "iopub.execute_input": "2025-07-28T10:49:42.384648Z",
     "iopub.status.busy": "2025-07-28T10:49:42.383443Z",
     "iopub.status.idle": "2025-07-28T10:49:43.167755Z",
     "shell.execute_reply": "2025-07-28T10:49:43.166792Z"
    },
    "papermill": {
     "duration": 0.807083,
     "end_time": "2025-07-28T10:49:43.169642",
     "exception": false,
     "start_time": "2025-07-28T10:49:42.362559",
     "status": "completed"
    },
    "tags": []
   },
   "outputs": [],
   "source": [
    "siab_s = sample_by_year(siab, universe[\"training_size\"])"
   ]
  },
  {
   "cell_type": "code",
   "execution_count": 16,
   "id": "5db0a40e-a4e2-4920-be85-b12ae061d70d",
   "metadata": {
    "execution": {
     "iopub.execute_input": "2025-07-28T10:49:43.225686Z",
     "iopub.status.busy": "2025-07-28T10:49:43.225259Z",
     "iopub.status.idle": "2025-07-28T10:49:43.240092Z",
     "shell.execute_reply": "2025-07-28T10:49:43.239193Z"
    },
    "papermill": {
     "duration": 0.039021,
     "end_time": "2025-07-28T10:49:43.243803",
     "exception": false,
     "start_time": "2025-07-28T10:49:43.204782",
     "status": "completed"
    },
    "tags": []
   },
   "outputs": [
    {
     "data": {
      "text/plain": [
       "year\n",
       "2010    200\n",
       "2011    200\n",
       "2012    200\n",
       "2013    200\n",
       "2014    200\n",
       "2015    200\n",
       "2016    200\n",
       "dtype: int64"
      ]
     },
     "metadata": {},
     "output_type": "display_data"
    }
   ],
   "source": [
    "display(siab_s.groupby(\"year\").size())"
   ]
  },
  {
   "cell_type": "code",
   "execution_count": 17,
   "id": "a561edb4-d032-42cb-8256-22eac1111c64",
   "metadata": {
    "execution": {
     "iopub.execute_input": "2025-07-28T10:49:43.285615Z",
     "iopub.status.busy": "2025-07-28T10:49:43.285200Z",
     "iopub.status.idle": "2025-07-28T10:49:43.568738Z",
     "shell.execute_reply": "2025-07-28T10:49:43.567556Z"
    },
    "papermill": {
     "duration": 0.306928,
     "end_time": "2025-07-28T10:49:43.570673",
     "exception": false,
     "start_time": "2025-07-28T10:49:43.263745",
     "status": "completed"
    },
    "tags": []
   },
   "outputs": [],
   "source": [
    "siab_train = siab_s[siab_s.year < 2015]\n",
    "siab_calib = siab[siab.year == 2015]\n",
    "siab_test = siab[siab.year == 2016]"
   ]
  },
  {
   "cell_type": "code",
   "execution_count": 18,
   "id": "472de16f-c3db-4916-846b-1f0de9cf1746",
   "metadata": {
    "execution": {
     "iopub.execute_input": "2025-07-28T10:49:43.607731Z",
     "iopub.status.busy": "2025-07-28T10:49:43.607236Z",
     "iopub.status.idle": "2025-07-28T10:49:43.614678Z",
     "shell.execute_reply": "2025-07-28T10:49:43.613545Z"
    },
    "papermill": {
     "duration": 0.031471,
     "end_time": "2025-07-28T10:49:43.617679",
     "exception": false,
     "start_time": "2025-07-28T10:49:43.586208",
     "status": "completed"
    },
    "tags": []
   },
   "outputs": [],
   "source": [
    "X_train = siab_train.iloc[:,4:164]\n",
    "y_train = siab_train.iloc[:, [3]]"
   ]
  },
  {
   "cell_type": "code",
   "execution_count": 19,
   "id": "828c96af-f43a-4ed6-ba47-8ac73a47d56c",
   "metadata": {
    "execution": {
     "iopub.execute_input": "2025-07-28T10:49:43.703058Z",
     "iopub.status.busy": "2025-07-28T10:49:43.702619Z",
     "iopub.status.idle": "2025-07-28T10:49:43.828449Z",
     "shell.execute_reply": "2025-07-28T10:49:43.813003Z"
    },
    "papermill": {
     "duration": 0.175458,
     "end_time": "2025-07-28T10:49:43.830705",
     "exception": false,
     "start_time": "2025-07-28T10:49:43.655247",
     "status": "completed"
    },
    "tags": []
   },
   "outputs": [],
   "source": [
    "X_calib = siab_calib.iloc[:,4:164]\n",
    "y_calib = siab_calib.iloc[:, [3]]"
   ]
  },
  {
   "cell_type": "code",
   "execution_count": 20,
   "id": "c34be9c3-6bd6-476e-acd3-845840e303be",
   "metadata": {
    "execution": {
     "iopub.execute_input": "2025-07-28T10:49:43.953833Z",
     "iopub.status.busy": "2025-07-28T10:49:43.953355Z",
     "iopub.status.idle": "2025-07-28T10:49:44.013478Z",
     "shell.execute_reply": "2025-07-28T10:49:44.012405Z"
    },
    "papermill": {
     "duration": 0.120332,
     "end_time": "2025-07-28T10:49:44.015285",
     "exception": false,
     "start_time": "2025-07-28T10:49:43.894953",
     "status": "completed"
    },
    "tags": []
   },
   "outputs": [],
   "source": [
    "X_test = siab_test.iloc[:,4:164]\n",
    "y_true = siab_test.iloc[:, [3]]"
   ]
  },
  {
   "cell_type": "code",
   "execution_count": 21,
   "id": "e6c733c5",
   "metadata": {
    "execution": {
     "iopub.execute_input": "2025-07-28T10:49:44.072578Z",
     "iopub.status.busy": "2025-07-28T10:49:44.072168Z",
     "iopub.status.idle": "2025-07-28T10:49:44.168358Z",
     "shell.execute_reply": "2025-07-28T10:49:44.167574Z"
    },
    "papermill": {
     "duration": 0.120191,
     "end_time": "2025-07-28T10:49:44.169816",
     "exception": false,
     "start_time": "2025-07-28T10:49:44.049625",
     "status": "completed"
    },
    "tags": []
   },
   "outputs": [],
   "source": [
    "# Auxiliary data needed downstream in the pipeline\n",
    "\n",
    "org_train = X_train.copy()\n",
    "org_test = X_test.copy()\n",
    "org_calib = X_calib.copy()"
   ]
  },
  {
   "cell_type": "markdown",
   "id": "0a4a1b33",
   "metadata": {
    "papermill": {
     "duration": 0.010564,
     "end_time": "2025-07-28T10:49:44.191912",
     "exception": false,
     "start_time": "2025-07-28T10:49:44.181348",
     "status": "completed"
    },
    "tags": []
   },
   "source": [
    "# Preprocessing Data"
   ]
  },
  {
   "cell_type": "code",
   "execution_count": 22,
   "id": "ca879031",
   "metadata": {
    "execution": {
     "iopub.execute_input": "2025-07-28T10:49:44.214447Z",
     "iopub.status.busy": "2025-07-28T10:49:44.213786Z",
     "iopub.status.idle": "2025-07-28T10:49:44.219144Z",
     "shell.execute_reply": "2025-07-28T10:49:44.218362Z"
    },
    "papermill": {
     "duration": 0.018152,
     "end_time": "2025-07-28T10:49:44.220521",
     "exception": false,
     "start_time": "2025-07-28T10:49:44.202369",
     "status": "completed"
    },
    "tags": []
   },
   "outputs": [],
   "source": [
    "# EXCLUDE PROTECTED FEATURES\n",
    "# ----------------------\n",
    "# \"exclude_features\": \"none\", # \"nationality\", \"sex\", \"nationality-sex\"\n",
    "\n",
    "excluded_features = universe[\"exclude_features\"].split(\"-\") # split, e.g.: \"nationality-sex\" -> [\"nationality\", \"sex\"]\n",
    "excluded_features_dictionary = {\n",
    "    \"nationality\": [\"maxdeutsch1\", \"maxdeutsch.Missing.\"],\n",
    "    \"sex\": [\"frau1\"],\n",
    "    \"age\": [\"age\"],\n",
    "}\n"
   ]
  },
  {
   "cell_type": "code",
   "execution_count": 23,
   "id": "b745ac60",
   "metadata": {
    "execution": {
     "iopub.execute_input": "2025-07-28T10:49:44.245985Z",
     "iopub.status.busy": "2025-07-28T10:49:44.245712Z",
     "iopub.status.idle": "2025-07-28T10:49:44.250869Z",
     "shell.execute_reply": "2025-07-28T10:49:44.249856Z"
    },
    "papermill": {
     "duration": 0.020787,
     "end_time": "2025-07-28T10:49:44.252491",
     "exception": false,
     "start_time": "2025-07-28T10:49:44.231704",
     "status": "completed"
    },
    "tags": []
   },
   "outputs": [],
   "source": [
    "# Code nice names to column names\n",
    "\n",
    "excluded_features_columns = [\n",
    "    excluded_features_dictionary[f] for f in excluded_features if len(f) > 0 and f != \"none\"\n",
    "]"
   ]
  },
  {
   "cell_type": "code",
   "execution_count": 24,
   "id": "f84f73a2",
   "metadata": {
    "execution": {
     "iopub.execute_input": "2025-07-28T10:49:44.298416Z",
     "iopub.status.busy": "2025-07-28T10:49:44.297750Z",
     "iopub.status.idle": "2025-07-28T10:49:44.305707Z",
     "shell.execute_reply": "2025-07-28T10:49:44.304600Z"
    },
    "papermill": {
     "duration": 0.034586,
     "end_time": "2025-07-28T10:49:44.307639",
     "exception": false,
     "start_time": "2025-07-28T10:49:44.273053",
     "status": "completed"
    },
    "tags": []
   },
   "outputs": [],
   "source": [
    "from utils import flatten_once\n",
    "\n",
    "excluded_features_columns = flatten_once(excluded_features_columns)"
   ]
  },
  {
   "cell_type": "code",
   "execution_count": 25,
   "id": "884dea22",
   "metadata": {
    "execution": {
     "iopub.execute_input": "2025-07-28T10:49:44.352990Z",
     "iopub.status.busy": "2025-07-28T10:49:44.352419Z",
     "iopub.status.idle": "2025-07-28T10:49:44.358607Z",
     "shell.execute_reply": "2025-07-28T10:49:44.357667Z"
    },
    "papermill": {
     "duration": 0.031677,
     "end_time": "2025-07-28T10:49:44.360314",
     "exception": false,
     "start_time": "2025-07-28T10:49:44.328637",
     "status": "completed"
    },
    "tags": []
   },
   "outputs": [],
   "source": [
    "if len(excluded_features_columns) > 0:\n",
    "    print(f\"Dropping features: {excluded_features_columns}\")\n",
    "    X_train.drop(excluded_features_columns, axis=1, inplace=True)"
   ]
  },
  {
   "cell_type": "code",
   "execution_count": 26,
   "id": "95ab8b16",
   "metadata": {
    "execution": {
     "iopub.execute_input": "2025-07-28T10:49:44.421037Z",
     "iopub.status.busy": "2025-07-28T10:49:44.420578Z",
     "iopub.status.idle": "2025-07-28T10:49:44.426344Z",
     "shell.execute_reply": "2025-07-28T10:49:44.425268Z"
    },
    "papermill": {
     "duration": 0.047768,
     "end_time": "2025-07-28T10:49:44.428947",
     "exception": false,
     "start_time": "2025-07-28T10:49:44.381179",
     "status": "completed"
    },
    "tags": []
   },
   "outputs": [],
   "source": [
    "if len(excluded_features_columns) > 0:\n",
    "    print(f\"Dropping features: {excluded_features_columns}\")\n",
    "    X_test.drop(excluded_features_columns, axis=1, inplace=True)"
   ]
  },
  {
   "cell_type": "code",
   "execution_count": 27,
   "id": "1853aaf5-fb9f-46cb-a2b5-8ea4ae2237e4",
   "metadata": {
    "execution": {
     "iopub.execute_input": "2025-07-28T10:49:44.473418Z",
     "iopub.status.busy": "2025-07-28T10:49:44.473026Z",
     "iopub.status.idle": "2025-07-28T10:49:44.479070Z",
     "shell.execute_reply": "2025-07-28T10:49:44.478038Z"
    },
    "papermill": {
     "duration": 0.03056,
     "end_time": "2025-07-28T10:49:44.481140",
     "exception": false,
     "start_time": "2025-07-28T10:49:44.450580",
     "status": "completed"
    },
    "tags": []
   },
   "outputs": [],
   "source": [
    "if len(excluded_features_columns) > 0:\n",
    "    print(f\"Dropping features: {excluded_features_columns}\")\n",
    "    X_calib.drop(excluded_features_columns, axis=1, inplace=True)"
   ]
  },
  {
   "cell_type": "code",
   "execution_count": 28,
   "id": "6727d079-03e5-481e-9d38-292a90b7a0a8",
   "metadata": {
    "execution": {
     "iopub.execute_input": "2025-07-28T10:49:44.525241Z",
     "iopub.status.busy": "2025-07-28T10:49:44.524852Z",
     "iopub.status.idle": "2025-07-28T10:49:44.530138Z",
     "shell.execute_reply": "2025-07-28T10:49:44.529012Z"
    },
    "papermill": {
     "duration": 0.030688,
     "end_time": "2025-07-28T10:49:44.533295",
     "exception": false,
     "start_time": "2025-07-28T10:49:44.502607",
     "status": "completed"
    },
    "tags": []
   },
   "outputs": [],
   "source": [
    "# SPLIT & STRATIFY DATA\n",
    "# ----------------------"
   ]
  },
  {
   "cell_type": "code",
   "execution_count": 29,
   "id": "76c4dc6d",
   "metadata": {
    "execution": {
     "iopub.execute_input": "2025-07-28T10:49:44.590626Z",
     "iopub.status.busy": "2025-07-28T10:49:44.590196Z",
     "iopub.status.idle": "2025-07-28T10:49:44.607447Z",
     "shell.execute_reply": "2025-07-28T10:49:44.597974Z"
    },
    "papermill": {
     "duration": 0.063016,
     "end_time": "2025-07-28T10:49:44.617921",
     "exception": false,
     "start_time": "2025-07-28T10:49:44.554905",
     "status": "completed"
    },
    "tags": []
   },
   "outputs": [],
   "source": [
    "# EXCLUDE CERTAIN SUBGROUPS\n",
    "# ----------------------\n",
    "\n",
    "mode = universe.get(\"exclude_subgroups\", \"keep-all\") \n",
    "# Fetches the exclude_subgroups setting from the universe dict.\n",
    "# Defaults to \"keep-all\" if the key is missing."
   ]
  },
  {
   "cell_type": "code",
   "execution_count": 30,
   "id": "21994072",
   "metadata": {
    "execution": {
     "iopub.execute_input": "2025-07-28T10:49:44.690202Z",
     "iopub.status.busy": "2025-07-28T10:49:44.689443Z",
     "iopub.status.idle": "2025-07-28T10:49:44.698443Z",
     "shell.execute_reply": "2025-07-28T10:49:44.697496Z"
    },
    "papermill": {
     "duration": 0.064644,
     "end_time": "2025-07-28T10:49:44.700143",
     "exception": false,
     "start_time": "2025-07-28T10:49:44.635499",
     "status": "completed"
    },
    "tags": []
   },
   "outputs": [],
   "source": [
    "if mode == \"keep-all\":\n",
    "    keep_mask = pd.Series(True, index=org_train.index)\n",
    "\n",
    "# org_train contains the original feature columns from features_org (in Simson)\n",
    "# features_org contains unprocessed features, for me X_train at beginning ???\n",
    "# For keep-all, creates a boolean Series (keep_mask) of all True, so no rows are removed.\n",
    "\n",
    "elif mode == \"drop-non-german\":\n",
    "    keep_mask = org_train[\"maxdeutsch1\"] == 1 # ??? what about missing values?\n",
    "\n",
    "else:\n",
    "    raise ValueError(f\"Unsupported mode for exclude_subgroups: {mode}\")\n"
   ]
  },
  {
   "cell_type": "code",
   "execution_count": 31,
   "id": "71651440",
   "metadata": {
    "execution": {
     "iopub.execute_input": "2025-07-28T10:49:44.796810Z",
     "iopub.status.busy": "2025-07-28T10:49:44.795877Z",
     "iopub.status.idle": "2025-07-28T10:49:44.803577Z",
     "shell.execute_reply": "2025-07-28T10:49:44.802823Z"
    },
    "papermill": {
     "duration": 0.051645,
     "end_time": "2025-07-28T10:49:44.805105",
     "exception": false,
     "start_time": "2025-07-28T10:49:44.753460",
     "status": "completed"
    },
    "tags": []
   },
   "outputs": [
    {
     "name": "stdout",
     "output_type": "stream",
     "text": [
      "Dropping 131 rows (13.10%) where mode='drop-non-german'\n"
     ]
    }
   ],
   "source": [
    "n_drop = (~keep_mask).sum() # Calculates how many rows are set to be dropped\n",
    "if n_drop > 0:\n",
    "    pct = n_drop / len(keep_mask) * 100\n",
    "    print(f\"Dropping {n_drop} rows ({pct:.2f}%) where mode='{mode}'\")"
   ]
  },
  {
   "cell_type": "code",
   "execution_count": 32,
   "id": "5fb8eee5",
   "metadata": {
    "execution": {
     "iopub.execute_input": "2025-07-28T10:49:44.834660Z",
     "iopub.status.busy": "2025-07-28T10:49:44.834207Z",
     "iopub.status.idle": "2025-07-28T10:49:44.840360Z",
     "shell.execute_reply": "2025-07-28T10:49:44.838957Z"
    },
    "papermill": {
     "duration": 0.020774,
     "end_time": "2025-07-28T10:49:44.842518",
     "exception": false,
     "start_time": "2025-07-28T10:49:44.821744",
     "status": "completed"
    },
    "tags": []
   },
   "outputs": [],
   "source": [
    "X_train = X_train[keep_mask]"
   ]
  },
  {
   "cell_type": "code",
   "execution_count": 33,
   "id": "b202bb3a",
   "metadata": {
    "execution": {
     "iopub.execute_input": "2025-07-28T10:49:44.890986Z",
     "iopub.status.busy": "2025-07-28T10:49:44.890543Z",
     "iopub.status.idle": "2025-07-28T10:49:44.896977Z",
     "shell.execute_reply": "2025-07-28T10:49:44.895812Z"
    },
    "papermill": {
     "duration": 0.032503,
     "end_time": "2025-07-28T10:49:44.899769",
     "exception": false,
     "start_time": "2025-07-28T10:49:44.867266",
     "status": "completed"
    },
    "tags": []
   },
   "outputs": [],
   "source": [
    "y_train = y_train[keep_mask]"
   ]
  },
  {
   "cell_type": "markdown",
   "id": "493e2ac3",
   "metadata": {
    "papermill": {
     "duration": 0.024907,
     "end_time": "2025-07-28T10:49:44.982152",
     "exception": false,
     "start_time": "2025-07-28T10:49:44.957245",
     "status": "completed"
    },
    "tags": []
   },
   "source": [
    "# Model Training"
   ]
  },
  {
   "cell_type": "code",
   "execution_count": 34,
   "id": "679e1268",
   "metadata": {
    "execution": {
     "iopub.execute_input": "2025-07-28T10:49:45.016840Z",
     "iopub.status.busy": "2025-07-28T10:49:45.016279Z",
     "iopub.status.idle": "2025-07-28T10:49:45.119017Z",
     "shell.execute_reply": "2025-07-28T10:49:45.117932Z"
    },
    "papermill": {
     "duration": 0.124998,
     "end_time": "2025-07-28T10:49:45.120880",
     "exception": false,
     "start_time": "2025-07-28T10:49:44.995882",
     "status": "completed"
    },
    "tags": []
   },
   "outputs": [],
   "source": [
    "from sklearn.linear_model import LogisticRegression\n",
    "from sklearn.ensemble import GradientBoostingClassifier, RandomForestClassifier\n",
    "\n",
    "if (universe[\"model\"] == \"logreg\"):\n",
    "    model = LogisticRegression() #penalty=\"none\") #, solver=\"newton-cg\", max_iter=1) # include random_state=19 ?\n",
    "elif (universe[\"model\"] == \"penalized_logreg\"):\n",
    "    model = LogisticRegression(penalty=\"l2\", C=1.0) #, solver=\"newton-cg\", max_iter=1)\n",
    "elif (universe[\"model\"] == \"rf\"):\n",
    "    model = RandomForestClassifier(n_estimators=100, n_jobs=-1)\n",
    "elif (universe[\"model\"] == \"gbm\"):\n",
    "    model = GradientBoostingClassifier()\n",
    "elif (universe[\"model\"] == \"elasticnet\"):\n",
    "    model = LogisticRegression(penalty = 'elasticnet', solver = 'saga', l1_ratio = 0.5, max_iter=5000) # which solver to use?\n",
    "else:\n",
    "    raise \"Unsupported universe.model\""
   ]
  },
  {
   "cell_type": "code",
   "execution_count": 35,
   "id": "0cc8f744",
   "metadata": {
    "execution": {
     "iopub.execute_input": "2025-07-28T10:49:45.165328Z",
     "iopub.status.busy": "2025-07-28T10:49:45.164829Z",
     "iopub.status.idle": "2025-07-28T10:49:45.171774Z",
     "shell.execute_reply": "2025-07-28T10:49:45.170892Z"
    },
    "papermill": {
     "duration": 0.031137,
     "end_time": "2025-07-28T10:49:45.173379",
     "exception": false,
     "start_time": "2025-07-28T10:49:45.142242",
     "status": "completed"
    },
    "tags": []
   },
   "outputs": [],
   "source": [
    "import numpy as np\n",
    "from sklearn.pipeline import Pipeline\n",
    "from sklearn.preprocessing import StandardScaler\n",
    "\n",
    "model = Pipeline([\n",
    "    #(\"continuous_processor\", continuous_processor),\n",
    "    #(\"categorical_preprocessor\", categorical_preprocessor),\n",
    "    (\"scale\", StandardScaler() if universe[\"scale\"] == \"scale\" else None), \n",
    "    (\"model\", model),\n",
    "])"
   ]
  },
  {
   "cell_type": "code",
   "execution_count": 36,
   "id": "9442c04d",
   "metadata": {
    "execution": {
     "iopub.execute_input": "2025-07-28T10:49:45.219283Z",
     "iopub.status.busy": "2025-07-28T10:49:45.217557Z",
     "iopub.status.idle": "2025-07-28T10:49:45.674565Z",
     "shell.execute_reply": "2025-07-28T10:49:45.673596Z"
    },
    "papermill": {
     "duration": 0.48169,
     "end_time": "2025-07-28T10:49:45.676302",
     "exception": false,
     "start_time": "2025-07-28T10:49:45.194612",
     "status": "completed"
    },
    "tags": []
   },
   "outputs": [
    {
     "data": {
      "text/html": [
       "<style>#sk-container-id-1 {color: black;background-color: white;}#sk-container-id-1 pre{padding: 0;}#sk-container-id-1 div.sk-toggleable {background-color: white;}#sk-container-id-1 label.sk-toggleable__label {cursor: pointer;display: block;width: 100%;margin-bottom: 0;padding: 0.3em;box-sizing: border-box;text-align: center;}#sk-container-id-1 label.sk-toggleable__label-arrow:before {content: \"▸\";float: left;margin-right: 0.25em;color: #696969;}#sk-container-id-1 label.sk-toggleable__label-arrow:hover:before {color: black;}#sk-container-id-1 div.sk-estimator:hover label.sk-toggleable__label-arrow:before {color: black;}#sk-container-id-1 div.sk-toggleable__content {max-height: 0;max-width: 0;overflow: hidden;text-align: left;background-color: #f0f8ff;}#sk-container-id-1 div.sk-toggleable__content pre {margin: 0.2em;color: black;border-radius: 0.25em;background-color: #f0f8ff;}#sk-container-id-1 input.sk-toggleable__control:checked~div.sk-toggleable__content {max-height: 200px;max-width: 100%;overflow: auto;}#sk-container-id-1 input.sk-toggleable__control:checked~label.sk-toggleable__label-arrow:before {content: \"▾\";}#sk-container-id-1 div.sk-estimator input.sk-toggleable__control:checked~label.sk-toggleable__label {background-color: #d4ebff;}#sk-container-id-1 div.sk-label input.sk-toggleable__control:checked~label.sk-toggleable__label {background-color: #d4ebff;}#sk-container-id-1 input.sk-hidden--visually {border: 0;clip: rect(1px 1px 1px 1px);clip: rect(1px, 1px, 1px, 1px);height: 1px;margin: -1px;overflow: hidden;padding: 0;position: absolute;width: 1px;}#sk-container-id-1 div.sk-estimator {font-family: monospace;background-color: #f0f8ff;border: 1px dotted black;border-radius: 0.25em;box-sizing: border-box;margin-bottom: 0.5em;}#sk-container-id-1 div.sk-estimator:hover {background-color: #d4ebff;}#sk-container-id-1 div.sk-parallel-item::after {content: \"\";width: 100%;border-bottom: 1px solid gray;flex-grow: 1;}#sk-container-id-1 div.sk-label:hover label.sk-toggleable__label {background-color: #d4ebff;}#sk-container-id-1 div.sk-serial::before {content: \"\";position: absolute;border-left: 1px solid gray;box-sizing: border-box;top: 0;bottom: 0;left: 50%;z-index: 0;}#sk-container-id-1 div.sk-serial {display: flex;flex-direction: column;align-items: center;background-color: white;padding-right: 0.2em;padding-left: 0.2em;position: relative;}#sk-container-id-1 div.sk-item {position: relative;z-index: 1;}#sk-container-id-1 div.sk-parallel {display: flex;align-items: stretch;justify-content: center;background-color: white;position: relative;}#sk-container-id-1 div.sk-item::before, #sk-container-id-1 div.sk-parallel-item::before {content: \"\";position: absolute;border-left: 1px solid gray;box-sizing: border-box;top: 0;bottom: 0;left: 50%;z-index: -1;}#sk-container-id-1 div.sk-parallel-item {display: flex;flex-direction: column;z-index: 1;position: relative;background-color: white;}#sk-container-id-1 div.sk-parallel-item:first-child::after {align-self: flex-end;width: 50%;}#sk-container-id-1 div.sk-parallel-item:last-child::after {align-self: flex-start;width: 50%;}#sk-container-id-1 div.sk-parallel-item:only-child::after {width: 0;}#sk-container-id-1 div.sk-dashed-wrapped {border: 1px dashed gray;margin: 0 0.4em 0.5em 0.4em;box-sizing: border-box;padding-bottom: 0.4em;background-color: white;}#sk-container-id-1 div.sk-label label {font-family: monospace;font-weight: bold;display: inline-block;line-height: 1.2em;}#sk-container-id-1 div.sk-label-container {text-align: center;}#sk-container-id-1 div.sk-container {/* jupyter's `normalize.less` sets `[hidden] { display: none; }` but bootstrap.min.css set `[hidden] { display: none !important; }` so we also need the `!important` here to be able to override the default hidden behavior on the sphinx rendered scikit-learn.org. See: https://github.com/scikit-learn/scikit-learn/issues/21755 */display: inline-block !important;position: relative;}#sk-container-id-1 div.sk-text-repr-fallback {display: none;}</style><div id=\"sk-container-id-1\" class=\"sk-top-container\"><div class=\"sk-text-repr-fallback\"><pre>Pipeline(steps=[(&#x27;scale&#x27;, None), (&#x27;model&#x27;, RandomForestClassifier(n_jobs=-1))])</pre><b>In a Jupyter environment, please rerun this cell to show the HTML representation or trust the notebook. <br />On GitHub, the HTML representation is unable to render, please try loading this page with nbviewer.org.</b></div><div class=\"sk-container\" hidden><div class=\"sk-item sk-dashed-wrapped\"><div class=\"sk-label-container\"><div class=\"sk-label sk-toggleable\"><input class=\"sk-toggleable__control sk-hidden--visually\" id=\"sk-estimator-id-1\" type=\"checkbox\" ><label for=\"sk-estimator-id-1\" class=\"sk-toggleable__label sk-toggleable__label-arrow\">Pipeline</label><div class=\"sk-toggleable__content\"><pre>Pipeline(steps=[(&#x27;scale&#x27;, None), (&#x27;model&#x27;, RandomForestClassifier(n_jobs=-1))])</pre></div></div></div><div class=\"sk-serial\"><div class=\"sk-item\"><div class=\"sk-estimator sk-toggleable\"><input class=\"sk-toggleable__control sk-hidden--visually\" id=\"sk-estimator-id-2\" type=\"checkbox\" ><label for=\"sk-estimator-id-2\" class=\"sk-toggleable__label sk-toggleable__label-arrow\">None</label><div class=\"sk-toggleable__content\"><pre>None</pre></div></div></div><div class=\"sk-item\"><div class=\"sk-estimator sk-toggleable\"><input class=\"sk-toggleable__control sk-hidden--visually\" id=\"sk-estimator-id-3\" type=\"checkbox\" ><label for=\"sk-estimator-id-3\" class=\"sk-toggleable__label sk-toggleable__label-arrow\">RandomForestClassifier</label><div class=\"sk-toggleable__content\"><pre>RandomForestClassifier(n_jobs=-1)</pre></div></div></div></div></div></div></div>"
      ],
      "text/plain": [
       "Pipeline(steps=[('scale', None), ('model', RandomForestClassifier(n_jobs=-1))])"
      ]
     },
     "execution_count": 36,
     "metadata": {},
     "output_type": "execute_result"
    }
   ],
   "source": [
    "model.fit(X_train, y_train.values.ravel())"
   ]
  },
  {
   "cell_type": "code",
   "execution_count": 37,
   "id": "af59f8c0",
   "metadata": {
    "execution": {
     "iopub.execute_input": "2025-07-28T10:49:45.723326Z",
     "iopub.status.busy": "2025-07-28T10:49:45.722909Z",
     "iopub.status.idle": "2025-07-28T10:49:45.728592Z",
     "shell.execute_reply": "2025-07-28T10:49:45.727488Z"
    },
    "papermill": {
     "duration": 0.031713,
     "end_time": "2025-07-28T10:49:45.731463",
     "exception": false,
     "start_time": "2025-07-28T10:49:45.699750",
     "status": "completed"
    },
    "tags": []
   },
   "outputs": [],
   "source": [
    "from fairness_multiverse.universe import predict_w_threshold"
   ]
  },
  {
   "cell_type": "code",
   "execution_count": 38,
   "id": "a7cf2e16",
   "metadata": {
    "execution": {
     "iopub.execute_input": "2025-07-28T10:49:45.778717Z",
     "iopub.status.busy": "2025-07-28T10:49:45.778316Z",
     "iopub.status.idle": "2025-07-28T10:49:46.466683Z",
     "shell.execute_reply": "2025-07-28T10:49:46.465927Z"
    },
    "papermill": {
     "duration": 0.712557,
     "end_time": "2025-07-28T10:49:46.468083",
     "exception": false,
     "start_time": "2025-07-28T10:49:45.755526",
     "status": "completed"
    },
    "tags": []
   },
   "outputs": [
    {
     "data": {
      "text/plain": [
       "0.8609631033329618"
      ]
     },
     "execution_count": 38,
     "metadata": {},
     "output_type": "execute_result"
    }
   ],
   "source": [
    "probs_test = model.predict_proba(X_test)\n",
    "\n",
    "'''\n",
    "Below code returns a boolean array (or binary 0/1 array depending on how it’s used) where each element \n",
    "is True if the probability of class 1 is greater than or equal to the threshold, and False otherwise.\n",
    "'''\n",
    "y_pred_default = predict_w_threshold(probs_test, 0.5)\n",
    "\n",
    "from sklearn.metrics import accuracy_score\n",
    "\n",
    "# Naive prediction\n",
    "accuracy_score(y_true = y_true, y_pred = y_pred_default)"
   ]
  },
  {
   "cell_type": "code",
   "execution_count": 39,
   "id": "081964c3",
   "metadata": {
    "execution": {
     "iopub.execute_input": "2025-07-28T10:49:46.494401Z",
     "iopub.status.busy": "2025-07-28T10:49:46.493646Z",
     "iopub.status.idle": "2025-07-28T10:49:47.173658Z",
     "shell.execute_reply": "2025-07-28T10:49:47.172676Z"
    },
    "papermill": {
     "duration": 0.694246,
     "end_time": "2025-07-28T10:49:47.175446",
     "exception": false,
     "start_time": "2025-07-28T10:49:46.481200",
     "status": "completed"
    },
    "tags": []
   },
   "outputs": [
    {
     "data": {
      "text/plain": [
       "array([0, 0, 0, ..., 0, 0, 0])"
      ]
     },
     "execution_count": 39,
     "metadata": {},
     "output_type": "execute_result"
    }
   ],
   "source": [
    "model.predict(X_test)"
   ]
  },
  {
   "cell_type": "markdown",
   "id": "56c9705b",
   "metadata": {
    "papermill": {
     "duration": 0.018972,
     "end_time": "2025-07-28T10:49:47.220477",
     "exception": false,
     "start_time": "2025-07-28T10:49:47.201505",
     "status": "completed"
    },
    "tags": []
   },
   "source": [
    "# Conformal Prediction"
   ]
  },
  {
   "cell_type": "code",
   "execution_count": 40,
   "id": "160ec6ff",
   "metadata": {
    "execution": {
     "iopub.execute_input": "2025-07-28T10:49:47.245288Z",
     "iopub.status.busy": "2025-07-28T10:49:47.244937Z",
     "iopub.status.idle": "2025-07-28T10:49:47.249727Z",
     "shell.execute_reply": "2025-07-28T10:49:47.248678Z"
    },
    "papermill": {
     "duration": 0.01962,
     "end_time": "2025-07-28T10:49:47.251644",
     "exception": false,
     "start_time": "2025-07-28T10:49:47.232024",
     "status": "completed"
    },
    "tags": []
   },
   "outputs": [],
   "source": [
    "# Miscoverage level for conformal prediction (10% allowed error rate => 90% target coverage)\n",
    "alpha = 0.1"
   ]
  },
  {
   "cell_type": "code",
   "execution_count": 41,
   "id": "eadf4555-3dd3-440e-8e35-f82a4ad9f855",
   "metadata": {
    "execution": {
     "iopub.execute_input": "2025-07-28T10:49:47.303502Z",
     "iopub.status.busy": "2025-07-28T10:49:47.303016Z",
     "iopub.status.idle": "2025-07-28T10:49:47.875896Z",
     "shell.execute_reply": "2025-07-28T10:49:47.874835Z"
    },
    "papermill": {
     "duration": 0.60083,
     "end_time": "2025-07-28T10:49:47.877892",
     "exception": false,
     "start_time": "2025-07-28T10:49:47.277062",
     "status": "completed"
    },
    "tags": []
   },
   "outputs": [],
   "source": [
    "probs_calib = model.predict_proba(X_calib)"
   ]
  },
  {
   "cell_type": "code",
   "execution_count": 42,
   "id": "2ed93547-6d5d-4983-9b36-1ecb300da49a",
   "metadata": {
    "execution": {
     "iopub.execute_input": "2025-07-28T10:49:47.924102Z",
     "iopub.status.busy": "2025-07-28T10:49:47.923363Z",
     "iopub.status.idle": "2025-07-28T10:49:47.929259Z",
     "shell.execute_reply": "2025-07-28T10:49:47.928542Z"
    },
    "papermill": {
     "duration": 0.029782,
     "end_time": "2025-07-28T10:49:47.930543",
     "exception": false,
     "start_time": "2025-07-28T10:49:47.900761",
     "status": "completed"
    },
    "tags": []
   },
   "outputs": [],
   "source": [
    "y_calib = y_calib.values.ravel().astype(int)"
   ]
  },
  {
   "cell_type": "code",
   "execution_count": 43,
   "id": "65d1320d-f588-4b38-9072-62af1ae97f7d",
   "metadata": {
    "execution": {
     "iopub.execute_input": "2025-07-28T10:49:47.961357Z",
     "iopub.status.busy": "2025-07-28T10:49:47.960749Z",
     "iopub.status.idle": "2025-07-28T10:49:47.968532Z",
     "shell.execute_reply": "2025-07-28T10:49:47.967474Z"
    },
    "papermill": {
     "duration": 0.027523,
     "end_time": "2025-07-28T10:49:47.970356",
     "exception": false,
     "start_time": "2025-07-28T10:49:47.942833",
     "status": "completed"
    },
    "tags": []
   },
   "outputs": [],
   "source": [
    "from fairness_multiverse.conformal import compute_nc_scores\n",
    "\n",
    "# Compute nonconformity scores on calibration set (1 - probability of true class)\n",
    "nc_scores = compute_nc_scores(probs_calib, y_calib)"
   ]
  },
  {
   "cell_type": "code",
   "execution_count": 44,
   "id": "df3b8ca3-53b7-43d5-9667-7c85da7aeda2",
   "metadata": {
    "execution": {
     "iopub.execute_input": "2025-07-28T10:49:48.018941Z",
     "iopub.status.busy": "2025-07-28T10:49:48.018439Z",
     "iopub.status.idle": "2025-07-28T10:49:48.024995Z",
     "shell.execute_reply": "2025-07-28T10:49:48.024044Z"
    },
    "papermill": {
     "duration": 0.032443,
     "end_time": "2025-07-28T10:49:48.026922",
     "exception": false,
     "start_time": "2025-07-28T10:49:47.994479",
     "status": "completed"
    },
    "tags": []
   },
   "outputs": [],
   "source": [
    "from fairness_multiverse.conformal import find_threshold\n",
    "\n",
    "# Find conformal threshold q_hat for the given alpha (split conformal method)\n",
    "q_hat = find_threshold(nc_scores, alpha)"
   ]
  },
  {
   "cell_type": "code",
   "execution_count": 45,
   "id": "4d29e6c1-0ef6-4aa4-b8fe-4fe79b0d033a",
   "metadata": {
    "execution": {
     "iopub.execute_input": "2025-07-28T10:49:48.075556Z",
     "iopub.status.busy": "2025-07-28T10:49:48.075069Z",
     "iopub.status.idle": "2025-07-28T10:49:48.082695Z",
     "shell.execute_reply": "2025-07-28T10:49:48.081651Z"
    },
    "papermill": {
     "duration": 0.034959,
     "end_time": "2025-07-28T10:49:48.085401",
     "exception": false,
     "start_time": "2025-07-28T10:49:48.050442",
     "status": "completed"
    },
    "tags": []
   },
   "outputs": [
    {
     "data": {
      "text/plain": [
       "0.6599999999999999"
      ]
     },
     "execution_count": 45,
     "metadata": {},
     "output_type": "execute_result"
    }
   ],
   "source": [
    "q_hat"
   ]
  },
  {
   "cell_type": "code",
   "execution_count": 46,
   "id": "92460794-cdac-4be2-ba28-f28c0515a6fb",
   "metadata": {
    "execution": {
     "iopub.execute_input": "2025-07-28T10:49:48.127045Z",
     "iopub.status.busy": "2025-07-28T10:49:48.126520Z",
     "iopub.status.idle": "2025-07-28T10:49:49.527434Z",
     "shell.execute_reply": "2025-07-28T10:49:49.526398Z"
    },
    "papermill": {
     "duration": 1.420321,
     "end_time": "2025-07-28T10:49:49.529587",
     "exception": false,
     "start_time": "2025-07-28T10:49:48.109266",
     "status": "completed"
    },
    "tags": []
   },
   "outputs": [],
   "source": [
    "from fairness_multiverse.conformal import predict_conformal_sets\n",
    "\n",
    "# Generate prediction sets for each test example\n",
    "pred_sets = predict_conformal_sets(model, X_test, q_hat)"
   ]
  },
  {
   "cell_type": "code",
   "execution_count": 47,
   "id": "d90c9a65-e6db-4f5d-80cd-e68fb7e46829",
   "metadata": {
    "execution": {
     "iopub.execute_input": "2025-07-28T10:49:49.585754Z",
     "iopub.status.busy": "2025-07-28T10:49:49.585234Z",
     "iopub.status.idle": "2025-07-28T10:49:49.591835Z",
     "shell.execute_reply": "2025-07-28T10:49:49.590706Z"
    },
    "papermill": {
     "duration": 0.036894,
     "end_time": "2025-07-28T10:49:49.593931",
     "exception": false,
     "start_time": "2025-07-28T10:49:49.557037",
     "status": "completed"
    },
    "tags": []
   },
   "outputs": [],
   "source": [
    "y_true = y_true.squeeze()"
   ]
  },
  {
   "cell_type": "code",
   "execution_count": 48,
   "id": "3a58a54a-1e68-46b9-927a-df01f18aebc8",
   "metadata": {
    "execution": {
     "iopub.execute_input": "2025-07-28T10:49:49.649868Z",
     "iopub.status.busy": "2025-07-28T10:49:49.649070Z",
     "iopub.status.idle": "2025-07-28T10:49:50.503524Z",
     "shell.execute_reply": "2025-07-28T10:49:50.502381Z"
    },
    "papermill": {
     "duration": 0.884758,
     "end_time": "2025-07-28T10:49:50.505813",
     "exception": false,
     "start_time": "2025-07-28T10:49:49.621055",
     "status": "completed"
    },
    "tags": []
   },
   "outputs": [],
   "source": [
    "from fairness_multiverse.conformal import evaluate_sets\n",
    "\n",
    "# Evaluate coverage and average set size on test data\n",
    "metrics = evaluate_sets(pred_sets, y_true)"
   ]
  },
  {
   "cell_type": "markdown",
   "id": "2b569c12-9aaa-4c88-98c9-bbcd0cf3ebb8",
   "metadata": {
    "papermill": {
     "duration": 0.013843,
     "end_time": "2025-07-28T10:49:50.544537",
     "exception": false,
     "start_time": "2025-07-28T10:49:50.530694",
     "status": "completed"
    },
    "tags": []
   },
   "source": [
    "# CP Metrics"
   ]
  },
  {
   "cell_type": "code",
   "execution_count": 49,
   "id": "5ce0a5cb-201f-45a0-ade5-94c7f0bd6095",
   "metadata": {
    "execution": {
     "iopub.execute_input": "2025-07-28T10:49:50.583934Z",
     "iopub.status.busy": "2025-07-28T10:49:50.582871Z",
     "iopub.status.idle": "2025-07-28T10:49:50.592623Z",
     "shell.execute_reply": "2025-07-28T10:49:50.591456Z"
    },
    "papermill": {
     "duration": 0.036999,
     "end_time": "2025-07-28T10:49:50.594611",
     "exception": false,
     "start_time": "2025-07-28T10:49:50.557612",
     "status": "completed"
    },
    "tags": []
   },
   "outputs": [
    {
     "data": {
      "text/plain": [
       "{'coverage': 0.9144688440530598, 'avg_size': 1.160171664251477}"
      ]
     },
     "execution_count": 49,
     "metadata": {},
     "output_type": "execute_result"
    }
   ],
   "source": [
    "metrics"
   ]
  },
  {
   "cell_type": "code",
   "execution_count": 50,
   "id": "9b9a838d-31c9-430b-ae14-12baee460d17",
   "metadata": {
    "execution": {
     "iopub.execute_input": "2025-07-28T10:49:50.650613Z",
     "iopub.status.busy": "2025-07-28T10:49:50.649593Z",
     "iopub.status.idle": "2025-07-28T10:49:50.656843Z",
     "shell.execute_reply": "2025-07-28T10:49:50.655665Z"
    },
    "papermill": {
     "duration": 0.040215,
     "end_time": "2025-07-28T10:49:50.661611",
     "exception": false,
     "start_time": "2025-07-28T10:49:50.621396",
     "status": "completed"
    },
    "tags": []
   },
   "outputs": [],
   "source": [
    "example_universe = universe.copy()\n",
    "universe_training_size = example_universe.get(\"training_size\")\n",
    "universe_scale = example_universe.get(\"scale\")\n",
    "universe_model = example_universe.get(\"model\")\n",
    "universe_exclude_features = example_universe.get(\"exclude_features\")\n",
    "universe_exclude_subgroups = example_universe.get(\"exclude_subgroups\")"
   ]
  },
  {
   "cell_type": "code",
   "execution_count": 51,
   "id": "f4b6a8ac-9dc0-4245-8a91-5b3b5999c4f9",
   "metadata": {
    "execution": {
     "iopub.execute_input": "2025-07-28T10:49:50.717625Z",
     "iopub.status.busy": "2025-07-28T10:49:50.716992Z",
     "iopub.status.idle": "2025-07-28T10:49:50.725208Z",
     "shell.execute_reply": "2025-07-28T10:49:50.723874Z"
    },
    "papermill": {
     "duration": 0.038926,
     "end_time": "2025-07-28T10:49:50.727307",
     "exception": false,
     "start_time": "2025-07-28T10:49:50.688381",
     "status": "completed"
    },
    "tags": []
   },
   "outputs": [],
   "source": [
    "cp_metrics_dict = {\n",
    "    \"universe_id\": [universe_id],\n",
    "    \"universe_training_size\": [universe_training_size],\n",
    "    \"universe_scale\": [universe_scale],\n",
    "    \"universe_model\": [universe_model],\n",
    "    \"universe_exclude_features\": [universe_exclude_features],\n",
    "    \"universe_exclude_subgroups\": [universe_exclude_subgroups],\n",
    "    \"q_hat\": [q_hat],\n",
    "    \"coverage\": [metrics[\"coverage\"]],\n",
    "    \"avg_size\": [metrics[\"avg_size\"]],\n",
    "}"
   ]
  },
  {
   "cell_type": "code",
   "execution_count": 52,
   "id": "908acbb1-0371-4915-85ca-3fa520d2efe2",
   "metadata": {
    "execution": {
     "iopub.execute_input": "2025-07-28T10:49:50.799517Z",
     "iopub.status.busy": "2025-07-28T10:49:50.798297Z",
     "iopub.status.idle": "2025-07-28T10:49:50.808234Z",
     "shell.execute_reply": "2025-07-28T10:49:50.807159Z"
    },
    "papermill": {
     "duration": 0.048858,
     "end_time": "2025-07-28T10:49:50.810254",
     "exception": false,
     "start_time": "2025-07-28T10:49:50.761396",
     "status": "completed"
    },
    "tags": []
   },
   "outputs": [
    {
     "data": {
      "text/plain": [
       "{'universe_id': ['41ffc392e62eb693d3063a8d51fac476'],\n",
       " 'universe_training_size': ['1k'],\n",
       " 'universe_scale': ['do-not-scale'],\n",
       " 'universe_model': ['rf'],\n",
       " 'universe_exclude_features': ['none'],\n",
       " 'universe_exclude_subgroups': ['drop-non-german'],\n",
       " 'q_hat': [0.6599999999999999],\n",
       " 'coverage': [0.9144688440530598],\n",
       " 'avg_size': [1.160171664251477]}"
      ]
     },
     "execution_count": 52,
     "metadata": {},
     "output_type": "execute_result"
    }
   ],
   "source": [
    "cp_metrics_dict"
   ]
  },
  {
   "cell_type": "code",
   "execution_count": 53,
   "id": "33007efc-14e9-4ec6-97ac-56a455c82265",
   "metadata": {
    "execution": {
     "iopub.execute_input": "2025-07-28T10:49:50.850931Z",
     "iopub.status.busy": "2025-07-28T10:49:50.849919Z",
     "iopub.status.idle": "2025-07-28T10:49:50.863610Z",
     "shell.execute_reply": "2025-07-28T10:49:50.862208Z"
    },
    "papermill": {
     "duration": 0.033824,
     "end_time": "2025-07-28T10:49:50.865762",
     "exception": false,
     "start_time": "2025-07-28T10:49:50.831938",
     "status": "completed"
    },
    "tags": []
   },
   "outputs": [],
   "source": [
    "cp_metrics_df = pd.DataFrame(cp_metrics_dict)"
   ]
  },
  {
   "cell_type": "code",
   "execution_count": 54,
   "id": "db12611b-57b2-4910-b9d0-355adfd6e7bf",
   "metadata": {
    "execution": {
     "iopub.execute_input": "2025-07-28T10:49:50.923072Z",
     "iopub.status.busy": "2025-07-28T10:49:50.920874Z",
     "iopub.status.idle": "2025-07-28T10:49:50.944822Z",
     "shell.execute_reply": "2025-07-28T10:49:50.943584Z"
    },
    "papermill": {
     "duration": 0.053644,
     "end_time": "2025-07-28T10:49:50.946384",
     "exception": false,
     "start_time": "2025-07-28T10:49:50.892740",
     "status": "completed"
    },
    "tags": []
   },
   "outputs": [
    {
     "data": {
      "text/html": [
       "<div>\n",
       "<style scoped>\n",
       "    .dataframe tbody tr th:only-of-type {\n",
       "        vertical-align: middle;\n",
       "    }\n",
       "\n",
       "    .dataframe tbody tr th {\n",
       "        vertical-align: top;\n",
       "    }\n",
       "\n",
       "    .dataframe thead th {\n",
       "        text-align: right;\n",
       "    }\n",
       "</style>\n",
       "<table border=\"1\" class=\"dataframe\">\n",
       "  <thead>\n",
       "    <tr style=\"text-align: right;\">\n",
       "      <th></th>\n",
       "      <th>universe_id</th>\n",
       "      <th>universe_training_size</th>\n",
       "      <th>universe_scale</th>\n",
       "      <th>universe_model</th>\n",
       "      <th>universe_exclude_features</th>\n",
       "      <th>universe_exclude_subgroups</th>\n",
       "      <th>q_hat</th>\n",
       "      <th>coverage</th>\n",
       "      <th>avg_size</th>\n",
       "    </tr>\n",
       "  </thead>\n",
       "  <tbody>\n",
       "    <tr>\n",
       "      <th>0</th>\n",
       "      <td>41ffc392e62eb693d3063a8d51fac476</td>\n",
       "      <td>1k</td>\n",
       "      <td>do-not-scale</td>\n",
       "      <td>rf</td>\n",
       "      <td>none</td>\n",
       "      <td>drop-non-german</td>\n",
       "      <td>0.66</td>\n",
       "      <td>0.914469</td>\n",
       "      <td>1.160172</td>\n",
       "    </tr>\n",
       "  </tbody>\n",
       "</table>\n",
       "</div>"
      ],
      "text/plain": [
       "                        universe_id universe_training_size universe_scale  \\\n",
       "0  41ffc392e62eb693d3063a8d51fac476                     1k   do-not-scale   \n",
       "\n",
       "  universe_model universe_exclude_features universe_exclude_subgroups  q_hat  \\\n",
       "0             rf                      none            drop-non-german   0.66   \n",
       "\n",
       "   coverage  avg_size  \n",
       "0  0.914469  1.160172  "
      ]
     },
     "execution_count": 54,
     "metadata": {},
     "output_type": "execute_result"
    }
   ],
   "source": [
    "cp_metrics_df"
   ]
  },
  {
   "cell_type": "code",
   "execution_count": 55,
   "id": "b7fbde55-a0a1-47e4-9af6-fe4a17fa8c61",
   "metadata": {
    "execution": {
     "iopub.execute_input": "2025-07-28T10:49:51.000293Z",
     "iopub.status.busy": "2025-07-28T10:49:50.999688Z",
     "iopub.status.idle": "2025-07-28T10:49:51.006198Z",
     "shell.execute_reply": "2025-07-28T10:49:51.004509Z"
    },
    "papermill": {
     "duration": 0.051351,
     "end_time": "2025-07-28T10:49:51.021627",
     "exception": false,
     "start_time": "2025-07-28T10:49:50.970276",
     "status": "completed"
    },
    "tags": []
   },
   "outputs": [],
   "source": [
    "# Conditional Coverage & looking at subgroups"
   ]
  },
  {
   "cell_type": "code",
   "execution_count": 56,
   "id": "027ae886-68dd-4141-96c7-805a5450e1ef",
   "metadata": {
    "execution": {
     "iopub.execute_input": "2025-07-28T10:49:51.090905Z",
     "iopub.status.busy": "2025-07-28T10:49:51.090260Z",
     "iopub.status.idle": "2025-07-28T10:49:51.374640Z",
     "shell.execute_reply": "2025-07-28T10:49:51.373570Z"
    },
    "papermill": {
     "duration": 0.315408,
     "end_time": "2025-07-28T10:49:51.376777",
     "exception": false,
     "start_time": "2025-07-28T10:49:51.061369",
     "status": "completed"
    },
    "tags": []
   },
   "outputs": [],
   "source": [
    "from fairness_multiverse.conformal import build_cp_groups\n",
    "\n",
    "cp_groups_df = build_cp_groups(pred_sets, y_true, X_test.index, org_test)\n",
    "#needs universe_id and setting"
   ]
  },
  {
   "cell_type": "code",
   "execution_count": 57,
   "id": "01d5802c-663a-4d1f-9d69-e036faaffbf7",
   "metadata": {
    "execution": {
     "iopub.execute_input": "2025-07-28T10:49:51.430157Z",
     "iopub.status.busy": "2025-07-28T10:49:51.429610Z",
     "iopub.status.idle": "2025-07-28T10:49:51.434587Z",
     "shell.execute_reply": "2025-07-28T10:49:51.433657Z"
    },
    "papermill": {
     "duration": 0.033108,
     "end_time": "2025-07-28T10:49:51.436240",
     "exception": false,
     "start_time": "2025-07-28T10:49:51.403132",
     "status": "completed"
    },
    "tags": []
   },
   "outputs": [],
   "source": [
    "#delete\n",
    "#cp_groups_df"
   ]
  },
  {
   "cell_type": "code",
   "execution_count": 58,
   "id": "fa424af1-d1eb-443d-b717-2d279ada8408",
   "metadata": {
    "execution": {
     "iopub.execute_input": "2025-07-28T10:49:51.491699Z",
     "iopub.status.busy": "2025-07-28T10:49:51.491127Z",
     "iopub.status.idle": "2025-07-28T10:49:51.496786Z",
     "shell.execute_reply": "2025-07-28T10:49:51.495691Z"
    },
    "papermill": {
     "duration": 0.035003,
     "end_time": "2025-07-28T10:49:51.498506",
     "exception": false,
     "start_time": "2025-07-28T10:49:51.463503",
     "status": "completed"
    },
    "tags": []
   },
   "outputs": [],
   "source": [
    "#delete\n",
    "#percentage = (cp_groups_df['nongerman_female'] == 1).mean() * 100\n",
    "#print(percentage)\n"
   ]
  },
  {
   "cell_type": "code",
   "execution_count": 59,
   "id": "6cbdab96-b2b2-45af-ad54-d0516db2e28d",
   "metadata": {
    "execution": {
     "iopub.execute_input": "2025-07-28T10:49:51.551815Z",
     "iopub.status.busy": "2025-07-28T10:49:51.551293Z",
     "iopub.status.idle": "2025-07-28T10:49:53.274674Z",
     "shell.execute_reply": "2025-07-28T10:49:53.273560Z"
    },
    "papermill": {
     "duration": 1.754703,
     "end_time": "2025-07-28T10:49:53.278699",
     "exception": false,
     "start_time": "2025-07-28T10:49:51.523996",
     "status": "completed"
    },
    "tags": []
   },
   "outputs": [],
   "source": [
    "# Define covered = 1 if true_label is in the predicted set\n",
    "cp_groups_df['covered'] = cp_groups_df.apply(\n",
    "    lambda r: int(r['true_label'] in r['pred_set']),\n",
    "    axis=1\n",
    ")"
   ]
  },
  {
   "cell_type": "code",
   "execution_count": 60,
   "id": "338ff529-1a6b-4b87-a931-8e4788d52aad",
   "metadata": {
    "execution": {
     "iopub.execute_input": "2025-07-28T10:49:53.372772Z",
     "iopub.status.busy": "2025-07-28T10:49:53.372308Z",
     "iopub.status.idle": "2025-07-28T10:49:53.377979Z",
     "shell.execute_reply": "2025-07-28T10:49:53.377002Z"
    },
    "papermill": {
     "duration": 0.051437,
     "end_time": "2025-07-28T10:49:53.379678",
     "exception": false,
     "start_time": "2025-07-28T10:49:53.328241",
     "status": "completed"
    },
    "tags": []
   },
   "outputs": [],
   "source": [
    "#cp_groups_df"
   ]
  },
  {
   "cell_type": "code",
   "execution_count": 61,
   "id": "90032e27-66df-4540-9169-4e89cfbaa758",
   "metadata": {
    "execution": {
     "iopub.execute_input": "2025-07-28T10:49:53.452732Z",
     "iopub.status.busy": "2025-07-28T10:49:53.451582Z",
     "iopub.status.idle": "2025-07-28T10:49:53.465358Z",
     "shell.execute_reply": "2025-07-28T10:49:53.464229Z"
    },
    "papermill": {
     "duration": 0.050527,
     "end_time": "2025-07-28T10:49:53.467858",
     "exception": false,
     "start_time": "2025-07-28T10:49:53.417331",
     "status": "completed"
    },
    "tags": []
   },
   "outputs": [],
   "source": [
    "subgroups = ['frau1','nongerman','nongerman_male','nongerman_female']\n",
    "\n",
    "# Conditional coverage for subgroup==1\n",
    "cond_coverage = {\n",
    "    g: cp_groups_df.loc[cp_groups_df[g]==1, 'covered'].mean()\n",
    "    for g in subgroups\n",
    "}"
   ]
  },
  {
   "cell_type": "code",
   "execution_count": 62,
   "id": "1e348fb1-b9c3-45bc-ba23-f016827a7e0d",
   "metadata": {
    "execution": {
     "iopub.execute_input": "2025-07-28T10:49:53.549179Z",
     "iopub.status.busy": "2025-07-28T10:49:53.548686Z",
     "iopub.status.idle": "2025-07-28T10:49:53.557259Z",
     "shell.execute_reply": "2025-07-28T10:49:53.555704Z"
    },
    "papermill": {
     "duration": 0.069318,
     "end_time": "2025-07-28T10:49:53.563975",
     "exception": false,
     "start_time": "2025-07-28T10:49:53.494657",
     "status": "completed"
    },
    "tags": []
   },
   "outputs": [
    {
     "data": {
      "text/plain": [
       "{'frau1': 0.9128723547647931,\n",
       " 'nongerman': 0.904339527311514,\n",
       " 'nongerman_male': 0.9241646401873368,\n",
       " 'nongerman_female': 0.8715350223546945}"
      ]
     },
     "execution_count": 62,
     "metadata": {},
     "output_type": "execute_result"
    }
   ],
   "source": [
    "cond_coverage"
   ]
  },
  {
   "cell_type": "code",
   "execution_count": 63,
   "id": "f5093324-c3dd-4d63-bc4c-8d945e5c8bbb",
   "metadata": {
    "execution": {
     "iopub.execute_input": "2025-07-28T10:49:53.622812Z",
     "iopub.status.busy": "2025-07-28T10:49:53.622242Z",
     "iopub.status.idle": "2025-07-28T10:49:53.634764Z",
     "shell.execute_reply": "2025-07-28T10:49:53.633723Z"
    },
    "papermill": {
     "duration": 0.047925,
     "end_time": "2025-07-28T10:49:53.642563",
     "exception": false,
     "start_time": "2025-07-28T10:49:53.594638",
     "status": "completed"
    },
    "tags": []
   },
   "outputs": [],
   "source": [
    "for subgroup, cov in cond_coverage.items():\n",
    "    cp_metrics_df[f\"cov_{subgroup}\"] = cov"
   ]
  },
  {
   "cell_type": "code",
   "execution_count": 64,
   "id": "6e872e10-dbe5-49e8-b554-5030c98ff75d",
   "metadata": {
    "execution": {
     "iopub.execute_input": "2025-07-28T10:49:53.703426Z",
     "iopub.status.busy": "2025-07-28T10:49:53.702865Z",
     "iopub.status.idle": "2025-07-28T10:49:53.726141Z",
     "shell.execute_reply": "2025-07-28T10:49:53.725164Z"
    },
    "papermill": {
     "duration": 0.054238,
     "end_time": "2025-07-28T10:49:53.728099",
     "exception": false,
     "start_time": "2025-07-28T10:49:53.673861",
     "status": "completed"
    },
    "tags": []
   },
   "outputs": [
    {
     "data": {
      "text/html": [
       "<div>\n",
       "<style scoped>\n",
       "    .dataframe tbody tr th:only-of-type {\n",
       "        vertical-align: middle;\n",
       "    }\n",
       "\n",
       "    .dataframe tbody tr th {\n",
       "        vertical-align: top;\n",
       "    }\n",
       "\n",
       "    .dataframe thead th {\n",
       "        text-align: right;\n",
       "    }\n",
       "</style>\n",
       "<table border=\"1\" class=\"dataframe\">\n",
       "  <thead>\n",
       "    <tr style=\"text-align: right;\">\n",
       "      <th></th>\n",
       "      <th>universe_id</th>\n",
       "      <th>universe_training_size</th>\n",
       "      <th>universe_scale</th>\n",
       "      <th>universe_model</th>\n",
       "      <th>universe_exclude_features</th>\n",
       "      <th>universe_exclude_subgroups</th>\n",
       "      <th>q_hat</th>\n",
       "      <th>coverage</th>\n",
       "      <th>avg_size</th>\n",
       "      <th>cov_frau1</th>\n",
       "      <th>cov_nongerman</th>\n",
       "      <th>cov_nongerman_male</th>\n",
       "      <th>cov_nongerman_female</th>\n",
       "    </tr>\n",
       "  </thead>\n",
       "  <tbody>\n",
       "    <tr>\n",
       "      <th>0</th>\n",
       "      <td>41ffc392e62eb693d3063a8d51fac476</td>\n",
       "      <td>1k</td>\n",
       "      <td>do-not-scale</td>\n",
       "      <td>rf</td>\n",
       "      <td>none</td>\n",
       "      <td>drop-non-german</td>\n",
       "      <td>0.66</td>\n",
       "      <td>0.914469</td>\n",
       "      <td>1.160172</td>\n",
       "      <td>0.912872</td>\n",
       "      <td>0.90434</td>\n",
       "      <td>0.924165</td>\n",
       "      <td>0.871535</td>\n",
       "    </tr>\n",
       "  </tbody>\n",
       "</table>\n",
       "</div>"
      ],
      "text/plain": [
       "                        universe_id universe_training_size universe_scale  \\\n",
       "0  41ffc392e62eb693d3063a8d51fac476                     1k   do-not-scale   \n",
       "\n",
       "  universe_model universe_exclude_features universe_exclude_subgroups  q_hat  \\\n",
       "0             rf                      none            drop-non-german   0.66   \n",
       "\n",
       "   coverage  avg_size  cov_frau1  cov_nongerman  cov_nongerman_male  \\\n",
       "0  0.914469  1.160172   0.912872        0.90434            0.924165   \n",
       "\n",
       "   cov_nongerman_female  \n",
       "0              0.871535  "
      ]
     },
     "execution_count": 64,
     "metadata": {},
     "output_type": "execute_result"
    }
   ],
   "source": [
    "cp_metrics_df"
   ]
  },
  {
   "cell_type": "markdown",
   "id": "33774451",
   "metadata": {
    "papermill": {
     "duration": 0.027567,
     "end_time": "2025-07-28T10:49:53.782696",
     "exception": false,
     "start_time": "2025-07-28T10:49:53.755129",
     "status": "completed"
    },
    "tags": []
   },
   "source": [
    "# (Fairness) Metrics"
   ]
  },
  {
   "cell_type": "code",
   "execution_count": 65,
   "id": "debc5d62",
   "metadata": {
    "execution": {
     "iopub.execute_input": "2025-07-28T10:49:53.839735Z",
     "iopub.status.busy": "2025-07-28T10:49:53.839187Z",
     "iopub.status.idle": "2025-07-28T10:49:53.860249Z",
     "shell.execute_reply": "2025-07-28T10:49:53.859294Z"
    },
    "papermill": {
     "duration": 0.052549,
     "end_time": "2025-07-28T10:49:53.862436",
     "exception": false,
     "start_time": "2025-07-28T10:49:53.809887",
     "status": "completed"
    },
    "tags": []
   },
   "outputs": [],
   "source": [
    "# do I need to include maxdeutsch1.missing?\n",
    "\n",
    "import numpy as np\n",
    "\n",
    "colname_to_bin = \"maxdeutsch1\"\n",
    "majority_value = org_train[colname_to_bin].mode()[0]\n",
    "\n",
    "org_test[\"majmin\"] = np.where(org_test[colname_to_bin] == majority_value, \"majority\", \"minority\")"
   ]
  },
  {
   "cell_type": "code",
   "execution_count": 66,
   "id": "06a50de5",
   "metadata": {
    "execution": {
     "iopub.execute_input": "2025-07-28T10:49:53.920459Z",
     "iopub.status.busy": "2025-07-28T10:49:53.919957Z",
     "iopub.status.idle": "2025-07-28T10:49:56.936982Z",
     "shell.execute_reply": "2025-07-28T10:49:56.935936Z"
    },
    "papermill": {
     "duration": 3.047882,
     "end_time": "2025-07-28T10:49:56.938859",
     "exception": false,
     "start_time": "2025-07-28T10:49:53.890977",
     "status": "completed"
    },
    "tags": []
   },
   "outputs": [],
   "source": [
    "example_universe = universe.copy()\n",
    "example_universe[\"cutoff\"] = example_universe[\"cutoff\"][0]\n",
    "example_universe[\"eval_fairness_grouping\"] = example_universe[\"eval_fairness_grouping\"][0]\n",
    "fairness_dict, metric_frame = universe_analysis.compute_metrics(\n",
    "    example_universe,\n",
    "    y_pred_prob=probs_test,\n",
    "    y_test=y_true,\n",
    "    org_test=org_test,\n",
    ")"
   ]
  },
  {
   "cell_type": "markdown",
   "id": "f95d4e02",
   "metadata": {
    "papermill": {
     "duration": 0.026987,
     "end_time": "2025-07-28T10:49:56.992424",
     "exception": false,
     "start_time": "2025-07-28T10:49:56.965437",
     "status": "completed"
    },
    "tags": []
   },
   "source": [
    "# Overall"
   ]
  },
  {
   "cell_type": "markdown",
   "id": "bdee4871",
   "metadata": {
    "papermill": {
     "duration": 0.027864,
     "end_time": "2025-07-28T10:49:57.047482",
     "exception": false,
     "start_time": "2025-07-28T10:49:57.019618",
     "status": "completed"
    },
    "tags": []
   },
   "source": [
    "Fairness\n",
    "Main fairness target: Equalized Odds. Seems to be a better fit than equal opportunity, since we're not only interested in Y = 1. Seems to be a better fit than demographic parity, since we also care about accuracy, not just equal distribution of preds.\n",
    "\n",
    "Pick column for computation of fairness metrics\n",
    "\n",
    "Performance\n",
    "Overall performance measures, most interesting in relation to the measures split by group below"
   ]
  },
  {
   "cell_type": "code",
   "execution_count": 67,
   "id": "c4e067c6",
   "metadata": {
    "execution": {
     "iopub.execute_input": "2025-07-28T10:49:57.102937Z",
     "iopub.status.busy": "2025-07-28T10:49:57.102217Z",
     "iopub.status.idle": "2025-07-28T10:49:57.111242Z",
     "shell.execute_reply": "2025-07-28T10:49:57.110242Z"
    },
    "papermill": {
     "duration": 0.037769,
     "end_time": "2025-07-28T10:49:57.112907",
     "exception": false,
     "start_time": "2025-07-28T10:49:57.075138",
     "status": "completed"
    },
    "tags": []
   },
   "outputs": [
    {
     "data": {
      "text/plain": [
       "accuracy                   0.218125\n",
       "balanced accuracy          0.542640\n",
       "f1                         0.243165\n",
       "precision                  0.138820\n",
       "false positive rate        0.893865\n",
       "false negative rate        0.020855\n",
       "selection rate             0.904804\n",
       "count                  89710.000000\n",
       "dtype: float64"
      ]
     },
     "execution_count": 67,
     "metadata": {},
     "output_type": "execute_result"
    }
   ],
   "source": [
    "metric_frame.overall"
   ]
  },
  {
   "cell_type": "markdown",
   "id": "e968fe9d",
   "metadata": {
    "papermill": {
     "duration": 0.023124,
     "end_time": "2025-07-28T10:49:57.164278",
     "exception": false,
     "start_time": "2025-07-28T10:49:57.141154",
     "status": "completed"
    },
    "tags": []
   },
   "source": [
    "By Group"
   ]
  },
  {
   "cell_type": "code",
   "execution_count": 68,
   "id": "ec325bce",
   "metadata": {
    "execution": {
     "iopub.execute_input": "2025-07-28T10:49:57.220087Z",
     "iopub.status.busy": "2025-07-28T10:49:57.219658Z",
     "iopub.status.idle": "2025-07-28T10:49:57.233555Z",
     "shell.execute_reply": "2025-07-28T10:49:57.232712Z"
    },
    "papermill": {
     "duration": 0.043359,
     "end_time": "2025-07-28T10:49:57.234952",
     "exception": false,
     "start_time": "2025-07-28T10:49:57.191593",
     "status": "completed"
    },
    "tags": []
   },
   "outputs": [
    {
     "data": {
      "text/html": [
       "<div>\n",
       "<style scoped>\n",
       "    .dataframe tbody tr th:only-of-type {\n",
       "        vertical-align: middle;\n",
       "    }\n",
       "\n",
       "    .dataframe tbody tr th {\n",
       "        vertical-align: top;\n",
       "    }\n",
       "\n",
       "    .dataframe thead th {\n",
       "        text-align: right;\n",
       "    }\n",
       "</style>\n",
       "<table border=\"1\" class=\"dataframe\">\n",
       "  <thead>\n",
       "    <tr style=\"text-align: right;\">\n",
       "      <th></th>\n",
       "      <th>accuracy</th>\n",
       "      <th>balanced accuracy</th>\n",
       "      <th>f1</th>\n",
       "      <th>precision</th>\n",
       "      <th>false positive rate</th>\n",
       "      <th>false negative rate</th>\n",
       "      <th>selection rate</th>\n",
       "      <th>count</th>\n",
       "    </tr>\n",
       "    <tr>\n",
       "      <th>majmin</th>\n",
       "      <th></th>\n",
       "      <th></th>\n",
       "      <th></th>\n",
       "      <th></th>\n",
       "      <th></th>\n",
       "      <th></th>\n",
       "      <th></th>\n",
       "      <th></th>\n",
       "    </tr>\n",
       "  </thead>\n",
       "  <tbody>\n",
       "    <tr>\n",
       "      <th>majority</th>\n",
       "      <td>0.223912</td>\n",
       "      <td>0.545082</td>\n",
       "      <td>0.250524</td>\n",
       "      <td>0.143584</td>\n",
       "      <td>0.891454</td>\n",
       "      <td>0.018381</td>\n",
       "      <td>0.903369</td>\n",
       "      <td>69170.0</td>\n",
       "    </tr>\n",
       "    <tr>\n",
       "      <th>minority</th>\n",
       "      <td>0.198637</td>\n",
       "      <td>0.533884</td>\n",
       "      <td>0.218127</td>\n",
       "      <td>0.122886</td>\n",
       "      <td>0.901827</td>\n",
       "      <td>0.030405</td>\n",
       "      <td>0.909640</td>\n",
       "      <td>20540.0</td>\n",
       "    </tr>\n",
       "  </tbody>\n",
       "</table>\n",
       "</div>"
      ],
      "text/plain": [
       "          accuracy  balanced accuracy        f1  precision  \\\n",
       "majmin                                                       \n",
       "majority  0.223912           0.545082  0.250524   0.143584   \n",
       "minority  0.198637           0.533884  0.218127   0.122886   \n",
       "\n",
       "          false positive rate  false negative rate  selection rate    count  \n",
       "majmin                                                                       \n",
       "majority             0.891454             0.018381        0.903369  69170.0  \n",
       "minority             0.901827             0.030405        0.909640  20540.0  "
      ]
     },
     "execution_count": 68,
     "metadata": {},
     "output_type": "execute_result"
    }
   ],
   "source": [
    "metric_frame.by_group"
   ]
  },
  {
   "cell_type": "code",
   "execution_count": 69,
   "id": "a9ddbe63",
   "metadata": {
    "execution": {
     "iopub.execute_input": "2025-07-28T10:49:57.266721Z",
     "iopub.status.busy": "2025-07-28T10:49:57.266304Z",
     "iopub.status.idle": "2025-07-28T10:49:59.141731Z",
     "shell.execute_reply": "2025-07-28T10:49:59.140676Z"
    },
    "papermill": {
     "duration": 1.89249,
     "end_time": "2025-07-28T10:49:59.143158",
     "exception": false,
     "start_time": "2025-07-28T10:49:57.250668",
     "status": "completed"
    },
    "tags": []
   },
   "outputs": [
    {
     "data": {
      "text/plain": [
       "array([[<Axes: title={'center': 'accuracy'}, xlabel='majmin'>,\n",
       "        <Axes: title={'center': 'balanced accuracy'}, xlabel='majmin'>,\n",
       "        <Axes: title={'center': 'f1'}, xlabel='majmin'>],\n",
       "       [<Axes: title={'center': 'precision'}, xlabel='majmin'>,\n",
       "        <Axes: title={'center': 'false positive rate'}, xlabel='majmin'>,\n",
       "        <Axes: title={'center': 'false negative rate'}, xlabel='majmin'>],\n",
       "       [<Axes: title={'center': 'selection rate'}, xlabel='majmin'>,\n",
       "        <Axes: title={'center': 'count'}, xlabel='majmin'>,\n",
       "        <Axes: xlabel='majmin'>]], dtype=object)"
      ]
     },
     "execution_count": 69,
     "metadata": {},
     "output_type": "execute_result"
    },
    {
     "data": {
      "image/png": "[encoded data removed]",
      "text/plain": [
       "<Figure size 1200x800 with 9 Axes>"
      ]
     },
     "metadata": {},
     "output_type": "display_data"
    }
   ],
   "source": [
    "# In a graphic\n",
    "metric_frame.by_group.plot.bar(\n",
    "    subplots=True,\n",
    "    layout=[3, 3],\n",
    "    legend=False,\n",
    "    figsize=[12, 8],\n",
    "    title=\"Show all metrics\",\n",
    ")"
   ]
  },
  {
   "cell_type": "markdown",
   "id": "f57a0bac",
   "metadata": {
    "papermill": {
     "duration": 0.014642,
     "end_time": "2025-07-28T10:49:59.175682",
     "exception": false,
     "start_time": "2025-07-28T10:49:59.161040",
     "status": "completed"
    },
    "tags": []
   },
   "source": [
    "# Final Output"
   ]
  },
  {
   "cell_type": "code",
   "execution_count": 70,
   "id": "96d280a3",
   "metadata": {
    "execution": {
     "iopub.execute_input": "2025-07-28T10:49:59.206788Z",
     "iopub.status.busy": "2025-07-28T10:49:59.206139Z",
     "iopub.status.idle": "2025-07-28T10:49:59.213549Z",
     "shell.execute_reply": "2025-07-28T10:49:59.212766Z"
    },
    "papermill": {
     "duration": 0.024728,
     "end_time": "2025-07-28T10:49:59.214958",
     "exception": false,
     "start_time": "2025-07-28T10:49:59.190230",
     "status": "completed"
    },
    "tags": []
   },
   "outputs": [
    {
     "data": {
      "text/plain": [
       "4"
      ]
     },
     "execution_count": 70,
     "metadata": {},
     "output_type": "execute_result"
    }
   ],
   "source": [
    "sub_universes = universe_analysis.generate_sub_universes()\n",
    "len(sub_universes)"
   ]
  },
  {
   "cell_type": "code",
   "execution_count": 71,
   "id": "92adf7ba",
   "metadata": {
    "execution": {
     "iopub.execute_input": "2025-07-28T10:49:59.247134Z",
     "iopub.status.busy": "2025-07-28T10:49:59.246374Z",
     "iopub.status.idle": "2025-07-28T10:49:59.251818Z",
     "shell.execute_reply": "2025-07-28T10:49:59.250979Z"
    },
    "papermill": {
     "duration": 0.022525,
     "end_time": "2025-07-28T10:49:59.253250",
     "exception": false,
     "start_time": "2025-07-28T10:49:59.230725",
     "status": "completed"
    },
    "tags": []
   },
   "outputs": [],
   "source": [
    "def filter_sub_universe_data(sub_universe, org_test):\n",
    "    # Keep all rows — no filtering\n",
    "    keep_rows_mask = np.ones(org_test.shape[0], dtype=bool)\n",
    "\n",
    "    print(f\"[INFO] Keeping all rows: {keep_rows_mask.sum()} rows retained.\")\n",
    "    return keep_rows_mask"
   ]
  },
  {
   "cell_type": "code",
   "execution_count": 72,
   "id": "4a759155",
   "metadata": {
    "execution": {
     "iopub.execute_input": "2025-07-28T10:49:59.285373Z",
     "iopub.status.busy": "2025-07-28T10:49:59.284873Z",
     "iopub.status.idle": "2025-07-28T10:50:07.882347Z",
     "shell.execute_reply": "2025-07-28T10:50:07.881188Z"
    },
    "papermill": {
     "duration": 8.616187,
     "end_time": "2025-07-28T10:50:07.885121",
     "exception": false,
     "start_time": "2025-07-28T10:49:59.268934",
     "status": "completed"
    },
    "tags": []
   },
   "outputs": [
    {
     "name": "stdout",
     "output_type": "stream",
     "text": [
      "Stopping execution_time clock.\n",
      "[INFO] Keeping all rows: 89710 rows retained.\n"
     ]
    },
    {
     "name": "stdout",
     "output_type": "stream",
     "text": [
      "[INFO] Keeping all rows: 89710 rows retained.\n"
     ]
    },
    {
     "name": "stdout",
     "output_type": "stream",
     "text": [
      "[INFO] Keeping all rows: 89710 rows retained.\n"
     ]
    },
    {
     "name": "stdout",
     "output_type": "stream",
     "text": [
      "[INFO] Keeping all rows: 89710 rows retained.\n"
     ]
    },
    {
     "data": {
      "text/html": [
       "<div>\n",
       "<style scoped>\n",
       "    .dataframe tbody tr th:only-of-type {\n",
       "        vertical-align: middle;\n",
       "    }\n",
       "\n",
       "    .dataframe tbody tr th {\n",
       "        vertical-align: top;\n",
       "    }\n",
       "\n",
       "    .dataframe thead th {\n",
       "        text-align: right;\n",
       "    }\n",
       "</style>\n",
       "<table border=\"1\" class=\"dataframe\">\n",
       "  <thead>\n",
       "    <tr style=\"text-align: right;\">\n",
       "      <th></th>\n",
       "      <th>run_no</th>\n",
       "      <th>universe_id</th>\n",
       "      <th>universe_settings</th>\n",
       "      <th>execution_time</th>\n",
       "      <th>test_size_n</th>\n",
       "      <th>test_size_frac</th>\n",
       "      <th>fair_main_equalized_odds_difference</th>\n",
       "      <th>fair_main_equalized_odds_ratio</th>\n",
       "      <th>fair_main_demographic_parity_difference</th>\n",
       "      <th>fair_main_demographic_parity_ratio</th>\n",
       "      <th>...</th>\n",
       "      <th>perf_grp_precision_0</th>\n",
       "      <th>perf_grp_precision_1</th>\n",
       "      <th>perf_grp_false positive rate_0</th>\n",
       "      <th>perf_grp_false positive rate_1</th>\n",
       "      <th>perf_grp_false negative rate_0</th>\n",
       "      <th>perf_grp_false negative rate_1</th>\n",
       "      <th>perf_grp_selection rate_0</th>\n",
       "      <th>perf_grp_selection rate_1</th>\n",
       "      <th>perf_grp_count_0</th>\n",
       "      <th>perf_grp_count_1</th>\n",
       "    </tr>\n",
       "  </thead>\n",
       "  <tbody>\n",
       "    <tr>\n",
       "      <th>0</th>\n",
       "      <td>11</td>\n",
       "      <td>41ffc392e62eb693d3063a8d51fac476</td>\n",
       "      <td>{\"cutoff\": \"quantile_0.1\", \"eval_fairness_grou...</td>\n",
       "      <td>30.21219</td>\n",
       "      <td>89710</td>\n",
       "      <td>1.0</td>\n",
       "      <td>0.012025</td>\n",
       "      <td>0.987750</td>\n",
       "      <td>0.006271</td>\n",
       "      <td>0.993106</td>\n",
       "      <td>...</td>\n",
       "      <td>NaN</td>\n",
       "      <td>NaN</td>\n",
       "      <td>NaN</td>\n",
       "      <td>NaN</td>\n",
       "      <td>NaN</td>\n",
       "      <td>NaN</td>\n",
       "      <td>NaN</td>\n",
       "      <td>NaN</td>\n",
       "      <td>NaN</td>\n",
       "      <td>NaN</td>\n",
       "    </tr>\n",
       "    <tr>\n",
       "      <th>0</th>\n",
       "      <td>11</td>\n",
       "      <td>41ffc392e62eb693d3063a8d51fac476</td>\n",
       "      <td>{\"cutoff\": \"quantile_0.1\", \"eval_fairness_grou...</td>\n",
       "      <td>30.21219</td>\n",
       "      <td>89710</td>\n",
       "      <td>1.0</td>\n",
       "      <td>0.012025</td>\n",
       "      <td>0.987750</td>\n",
       "      <td>0.006271</td>\n",
       "      <td>0.993106</td>\n",
       "      <td>...</td>\n",
       "      <td>0.122886</td>\n",
       "      <td>0.143584</td>\n",
       "      <td>0.901827</td>\n",
       "      <td>0.891454</td>\n",
       "      <td>0.030405</td>\n",
       "      <td>0.018381</td>\n",
       "      <td>0.909640</td>\n",
       "      <td>0.903369</td>\n",
       "      <td>20540.0</td>\n",
       "      <td>69170.0</td>\n",
       "    </tr>\n",
       "    <tr>\n",
       "      <th>0</th>\n",
       "      <td>11</td>\n",
       "      <td>41ffc392e62eb693d3063a8d51fac476</td>\n",
       "      <td>{\"cutoff\": \"quantile_0.25\", \"eval_fairness_gro...</td>\n",
       "      <td>30.21219</td>\n",
       "      <td>89710</td>\n",
       "      <td>1.0</td>\n",
       "      <td>0.063525</td>\n",
       "      <td>0.932556</td>\n",
       "      <td>0.008524</td>\n",
       "      <td>0.989012</td>\n",
       "      <td>...</td>\n",
       "      <td>NaN</td>\n",
       "      <td>NaN</td>\n",
       "      <td>NaN</td>\n",
       "      <td>NaN</td>\n",
       "      <td>NaN</td>\n",
       "      <td>NaN</td>\n",
       "      <td>NaN</td>\n",
       "      <td>NaN</td>\n",
       "      <td>NaN</td>\n",
       "      <td>NaN</td>\n",
       "    </tr>\n",
       "    <tr>\n",
       "      <th>0</th>\n",
       "      <td>11</td>\n",
       "      <td>41ffc392e62eb693d3063a8d51fac476</td>\n",
       "      <td>{\"cutoff\": \"quantile_0.25\", \"eval_fairness_gro...</td>\n",
       "      <td>30.21219</td>\n",
       "      <td>89710</td>\n",
       "      <td>1.0</td>\n",
       "      <td>0.063525</td>\n",
       "      <td>0.932556</td>\n",
       "      <td>0.008524</td>\n",
       "      <td>0.989012</td>\n",
       "      <td>...</td>\n",
       "      <td>0.130547</td>\n",
       "      <td>0.162232</td>\n",
       "      <td>0.762327</td>\n",
       "      <td>0.740580</td>\n",
       "      <td>0.121622</td>\n",
       "      <td>0.058096</td>\n",
       "      <td>0.775706</td>\n",
       "      <td>0.767182</td>\n",
       "      <td>20540.0</td>\n",
       "      <td>69170.0</td>\n",
       "    </tr>\n",
       "  </tbody>\n",
       "</table>\n",
       "<p>4 rows × 50 columns</p>\n",
       "</div>"
      ],
      "text/plain": [
       "  run_no                       universe_id  \\\n",
       "0     11  41ffc392e62eb693d3063a8d51fac476   \n",
       "0     11  41ffc392e62eb693d3063a8d51fac476   \n",
       "0     11  41ffc392e62eb693d3063a8d51fac476   \n",
       "0     11  41ffc392e62eb693d3063a8d51fac476   \n",
       "\n",
       "                                   universe_settings  execution_time  \\\n",
       "0  {\"cutoff\": \"quantile_0.1\", \"eval_fairness_grou...        30.21219   \n",
       "0  {\"cutoff\": \"quantile_0.1\", \"eval_fairness_grou...        30.21219   \n",
       "0  {\"cutoff\": \"quantile_0.25\", \"eval_fairness_gro...        30.21219   \n",
       "0  {\"cutoff\": \"quantile_0.25\", \"eval_fairness_gro...        30.21219   \n",
       "\n",
       "   test_size_n  test_size_frac  fair_main_equalized_odds_difference  \\\n",
       "0        89710             1.0                             0.012025   \n",
       "0        89710             1.0                             0.012025   \n",
       "0        89710             1.0                             0.063525   \n",
       "0        89710             1.0                             0.063525   \n",
       "\n",
       "   fair_main_equalized_odds_ratio  fair_main_demographic_parity_difference  \\\n",
       "0                        0.987750                                 0.006271   \n",
       "0                        0.987750                                 0.006271   \n",
       "0                        0.932556                                 0.008524   \n",
       "0                        0.932556                                 0.008524   \n",
       "\n",
       "   fair_main_demographic_parity_ratio  ...  perf_grp_precision_0  \\\n",
       "0                            0.993106  ...                   NaN   \n",
       "0                            0.993106  ...              0.122886   \n",
       "0                            0.989012  ...                   NaN   \n",
       "0                            0.989012  ...              0.130547   \n",
       "\n",
       "   perf_grp_precision_1  perf_grp_false positive rate_0  \\\n",
       "0                   NaN                             NaN   \n",
       "0              0.143584                        0.901827   \n",
       "0                   NaN                             NaN   \n",
       "0              0.162232                        0.762327   \n",
       "\n",
       "   perf_grp_false positive rate_1  perf_grp_false negative rate_0  \\\n",
       "0                             NaN                             NaN   \n",
       "0                        0.891454                        0.030405   \n",
       "0                             NaN                             NaN   \n",
       "0                        0.740580                        0.121622   \n",
       "\n",
       "   perf_grp_false negative rate_1  perf_grp_selection rate_0  \\\n",
       "0                             NaN                        NaN   \n",
       "0                        0.018381                   0.909640   \n",
       "0                             NaN                        NaN   \n",
       "0                        0.058096                   0.775706   \n",
       "\n",
       "   perf_grp_selection rate_1  perf_grp_count_0  perf_grp_count_1  \n",
       "0                        NaN               NaN               NaN  \n",
       "0                   0.903369           20540.0           69170.0  \n",
       "0                        NaN               NaN               NaN  \n",
       "0                   0.767182           20540.0           69170.0  \n",
       "\n",
       "[4 rows x 50 columns]"
      ]
     },
     "execution_count": 72,
     "metadata": {},
     "output_type": "execute_result"
    }
   ],
   "source": [
    "final_output = universe_analysis.generate_final_output(\n",
    "    y_pred_prob=probs_test,\n",
    "    y_test=y_true,\n",
    "    org_test=org_test,\n",
    "    filter_data=filter_sub_universe_data,\n",
    "    cp_metrics_df=cp_metrics_df,\n",
    "    save=True,\n",
    ")\n",
    "final_output"
   ]
  },
  {
   "cell_type": "code",
   "execution_count": null,
   "id": "721ff514-cb11-46f8-b6fc-50392f74b5cb",
   "metadata": {
    "papermill": {
     "duration": 0.044022,
     "end_time": "2025-07-28T10:50:07.965917",
     "exception": false,
     "start_time": "2025-07-28T10:50:07.921895",
     "status": "completed"
    },
    "tags": []
   },
   "outputs": [],
   "source": []
  }
 ],
 "metadata": {
  "celltoolbar": "Tags",
  "kernelspec": {
   "display_name": "Python (CMA Fairness)",
   "language": "python",
   "name": "cma_fair_env"
  },
  "language_info": {
   "codemirror_mode": {
    "name": "ipython",
    "version": 3
   },
   "file_extension": ".py",
   "mimetype": "text/x-python",
   "name": "python",
   "nbconvert_exporter": "python",
   "pygments_lexer": "ipython3",
   "version": "3.10.12"
  },
  "papermill": {
   "default_parameters": {},
   "duration": 43.884035,
   "end_time": "2025-07-28T10:50:09.239681",
   "environment_variables": {},
   "exception": null,
   "input_path": "universe_analysis.ipynb",
   "output_path": "output/runs/11/notebooks/m_11-41ffc392e62eb693d3063a8d51fac476.ipynb",
   "parameters": {
    "output_dir": "output",
    "run_no": "11",
    "seed": "2023",
    "universe": "{\"cutoff\": [\"quantile_0.1\", \"quantile_0.25\"], \"eval_fairness_grouping\": [\"majority-minority\", \"nationality-all\"], \"exclude_features\": \"none\", \"exclude_subgroups\": \"drop-non-german\", \"model\": \"rf\", \"scale\": \"do-not-scale\", \"training_size\": \"1k\"}",
    "universe_id": "41ffc392e62eb693d3063a8d51fac476"
   },
   "start_time": "2025-07-28T10:49:25.355646",
   "version": "2.6.0"
  }
 },
 "nbformat": 4,
 "nbformat_minor": 5
}