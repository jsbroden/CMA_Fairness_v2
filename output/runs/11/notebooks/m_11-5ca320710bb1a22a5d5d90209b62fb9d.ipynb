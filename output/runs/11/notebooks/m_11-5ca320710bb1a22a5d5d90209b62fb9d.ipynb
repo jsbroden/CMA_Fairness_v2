{
 "cells": [
  {
   "cell_type": "code",
   "execution_count": 1,
   "id": "f159f837-637b-42ba-96b5-ec9a68c44524",
   "metadata": {
    "execution": {
     "iopub.execute_input": "2025-07-28T10:36:19.006480Z",
     "iopub.status.busy": "2025-07-28T10:36:19.005498Z",
     "iopub.status.idle": "2025-07-28T10:36:19.020965Z",
     "shell.execute_reply": "2025-07-28T10:36:19.019812Z"
    },
    "papermill": {
     "duration": 0.039448,
     "end_time": "2025-07-28T10:36:19.022813",
     "exception": false,
     "start_time": "2025-07-28T10:36:18.983365",
     "status": "completed"
    },
    "tags": []
   },
   "outputs": [
    {
     "name": "stdout",
     "output_type": "stream",
     "text": [
      "/dss/dsshome1/0C/ra93lal2/cma/CMA_Fairness_v2\n"
     ]
    },
    {
     "name": "stderr",
     "output_type": "stream",
     "text": [
      "/dss/dsshome1/0C/ra93lal2/.local/share/virtualenvs/CMA_Fairness_v2-3j10GkSs/lib/python3.10/site-packages/IPython/core/magics/osm.py:393: UserWarning: This is now an optional IPython functionality, using bookmarks requires you to install the `pickleshare` library.\n",
      "  bkms = self.shell.db.get('bookmarks', {})\n",
      "/dss/dsshome1/0C/ra93lal2/.local/share/virtualenvs/CMA_Fairness_v2-3j10GkSs/lib/python3.10/site-packages/IPython/core/magics/osm.py:417: UserWarning: This is now an optional IPython functionality, setting dhist requires you to install the `pickleshare` library.\n",
      "  self.shell.db['dhist'] = compress_dhist(dhist)[-100:]\n"
     ]
    }
   ],
   "source": [
    "%cd ~/cma/CMA_Fairness_v2"
   ]
  },
  {
   "cell_type": "markdown",
   "id": "de2603b9",
   "metadata": {
    "papermill": {
     "duration": 0.017592,
     "end_time": "2025-07-28T10:36:19.059245",
     "exception": false,
     "start_time": "2025-07-28T10:36:19.041653",
     "status": "completed"
    },
    "tags": []
   },
   "source": [
    "The following cell holds the definition of our parameters, these values can be overriden by rendering the with e.g. the following command:\n",
    "\n",
    "papermill -p alpha 0.2 -p ratio 0.3 universe_analysis.ipynb output/test_run.ipynb"
   ]
  },
  {
   "cell_type": "code",
   "execution_count": 2,
   "id": "a80968a0-40bb-4fa9-85ef-2d5eefb01975",
   "metadata": {
    "execution": {
     "iopub.execute_input": "2025-07-28T10:36:19.096808Z",
     "iopub.status.busy": "2025-07-28T10:36:19.095952Z",
     "iopub.status.idle": "2025-07-28T10:36:19.101442Z",
     "shell.execute_reply": "2025-07-28T10:36:19.100381Z"
    },
    "papermill": {
     "duration": 0.025959,
     "end_time": "2025-07-28T10:36:19.103073",
     "exception": false,
     "start_time": "2025-07-28T10:36:19.077114",
     "status": "completed"
    },
    "tags": []
   },
   "outputs": [
    {
     "name": "stdout",
     "output_type": "stream",
     "text": [
      "Current working directory: /dss/dsshome1/0C/ra93lal2/cma/CMA_Fairness_v2\n"
     ]
    }
   ],
   "source": [
    "import os\n",
    "print(\"Current working directory:\", os.getcwd())"
   ]
  },
  {
   "cell_type": "code",
   "execution_count": 3,
   "id": "2dce4c03",
   "metadata": {
    "execution": {
     "iopub.execute_input": "2025-07-28T10:36:19.142919Z",
     "iopub.status.busy": "2025-07-28T10:36:19.142120Z",
     "iopub.status.idle": "2025-07-28T10:36:19.148583Z",
     "shell.execute_reply": "2025-07-28T10:36:19.147687Z"
    },
    "papermill": {
     "duration": 0.02868,
     "end_time": "2025-07-28T10:36:19.150064",
     "exception": false,
     "start_time": "2025-07-28T10:36:19.121384",
     "status": "completed"
    },
    "tags": [
     "parameters"
    ]
   },
   "outputs": [],
   "source": [
    "run_no = 0\n",
    "universe_id = \"test\"\n",
    "universe = {\n",
    "    \"training_size\": \"2014\", # \"25k\", \"5k\", \"1k\", \"2014\"\n",
    "    \"scale\": \"scale\", # \"scale\", \"do-not-scale\",\n",
    "    #\"stratify_split\": \"target\", # \"none\", \"target\", \"protected-attribute\", \"both\",\n",
    "    \"model\": \"elasticnet\", # \"logreg\", \"penalized_logreg\", \"rf\", \"gbm\", \"elasticnet\"\n",
    "    \"cutoff\": [\"quantile_0.15\", \"quantile_0.30\"],\n",
    "    \"exclude_features\": \"age\", # \"none\", \"nationality\", \"sex\", \"nationality-sex\", \"age\"\n",
    "    \"exclude_subgroups\": \"keep-all\", # \"keep-all\", \"drop-non-german\"\n",
    "    #\"training_sample\": \"restricted\", # \"restricted\", \"full\"\n",
    "    \"eval_fairness_grouping\": [\"majority-minority\", \"nationality-all\"]\n",
    "}\n",
    "\n",
    "output_dir=\"./output\"\n",
    "seed=0"
   ]
  },
  {
   "cell_type": "code",
   "execution_count": 4,
   "id": "12c1695b",
   "metadata": {
    "execution": {
     "iopub.execute_input": "2025-07-28T10:36:19.187729Z",
     "iopub.status.busy": "2025-07-28T10:36:19.187112Z",
     "iopub.status.idle": "2025-07-28T10:36:19.192832Z",
     "shell.execute_reply": "2025-07-28T10:36:19.191824Z"
    },
    "papermill": {
     "duration": 0.026004,
     "end_time": "2025-07-28T10:36:19.194307",
     "exception": false,
     "start_time": "2025-07-28T10:36:19.168303",
     "status": "completed"
    },
    "tags": [
     "injected-parameters"
    ]
   },
   "outputs": [],
   "source": [
    "# Parameters\n",
    "universe_id = \"5ca320710bb1a22a5d5d90209b62fb9d\"\n",
    "run_no = \"11\"\n",
    "universe = \"{\\\"cutoff\\\": [\\\"quantile_0.1\\\", \\\"quantile_0.25\\\"], \\\"eval_fairness_grouping\\\": [\\\"majority-minority\\\", \\\"nationality-all\\\"], \\\"exclude_features\\\": \\\"nationality-sex\\\", \\\"exclude_subgroups\\\": \\\"keep-all\\\", \\\"model\\\": \\\"penalized_logreg\\\", \\\"scale\\\": \\\"do-not-scale\\\", \\\"training_size\\\": \\\"5k\\\"}\"\n",
    "output_dir = \"output\"\n",
    "seed = \"2023\"\n"
   ]
  },
  {
   "cell_type": "code",
   "execution_count": 5,
   "id": "1650acaf",
   "metadata": {
    "execution": {
     "iopub.execute_input": "2025-07-28T10:36:19.232675Z",
     "iopub.status.busy": "2025-07-28T10:36:19.231792Z",
     "iopub.status.idle": "2025-07-28T10:36:19.237035Z",
     "shell.execute_reply": "2025-07-28T10:36:19.236109Z"
    },
    "papermill": {
     "duration": 0.0289,
     "end_time": "2025-07-28T10:36:19.241363",
     "exception": false,
     "start_time": "2025-07-28T10:36:19.212463",
     "status": "completed"
    },
    "tags": []
   },
   "outputs": [],
   "source": [
    "import json\n",
    "# Parse universe into dict if it is passed as a string\n",
    "if isinstance(universe, str):\n",
    "    universe = json.loads(universe)"
   ]
  },
  {
   "cell_type": "code",
   "execution_count": 6,
   "id": "16620c48",
   "metadata": {
    "execution": {
     "iopub.execute_input": "2025-07-28T10:36:19.282629Z",
     "iopub.status.busy": "2025-07-28T10:36:19.282003Z",
     "iopub.status.idle": "2025-07-28T10:36:19.328663Z",
     "shell.execute_reply": "2025-07-28T10:36:19.327535Z"
    },
    "papermill": {
     "duration": 0.068837,
     "end_time": "2025-07-28T10:36:19.330550",
     "exception": false,
     "start_time": "2025-07-28T10:36:19.261713",
     "status": "completed"
    },
    "tags": []
   },
   "outputs": [],
   "source": [
    "# Auto-reload the custom package\n",
    "%load_ext autoreload\n",
    "%autoreload 1\n",
    "%aimport fairness_multiverse"
   ]
  },
  {
   "cell_type": "code",
   "execution_count": 7,
   "id": "01c5c9f3",
   "metadata": {
    "execution": {
     "iopub.execute_input": "2025-07-28T10:36:19.379771Z",
     "iopub.status.busy": "2025-07-28T10:36:19.379307Z",
     "iopub.status.idle": "2025-07-28T10:36:21.456514Z",
     "shell.execute_reply": "2025-07-28T10:36:21.455361Z"
    },
    "papermill": {
     "duration": 2.100579,
     "end_time": "2025-07-28T10:36:21.458698",
     "exception": false,
     "start_time": "2025-07-28T10:36:19.358119",
     "status": "completed"
    },
    "tags": []
   },
   "outputs": [],
   "source": [
    "from fairness_multiverse.universe import UniverseAnalysis\n",
    "\n",
    "universe_analysis = UniverseAnalysis(\n",
    "    run_no = run_no,\n",
    "    universe_id = universe_id,\n",
    "    universe = universe,\n",
    "    output_dir=output_dir,\n",
    ")"
   ]
  },
  {
   "cell_type": "code",
   "execution_count": 8,
   "id": "106241f5",
   "metadata": {
    "execution": {
     "iopub.execute_input": "2025-07-28T10:36:21.505029Z",
     "iopub.status.busy": "2025-07-28T10:36:21.503952Z",
     "iopub.status.idle": "2025-07-28T10:36:21.511725Z",
     "shell.execute_reply": "2025-07-28T10:36:21.510516Z"
    },
    "papermill": {
     "duration": 0.031945,
     "end_time": "2025-07-28T10:36:21.513728",
     "exception": false,
     "start_time": "2025-07-28T10:36:21.481783",
     "status": "completed"
    },
    "tags": []
   },
   "outputs": [
    {
     "name": "stdout",
     "output_type": "stream",
     "text": [
      "Using Seed: 2023\n"
     ]
    }
   ],
   "source": [
    "import numpy as np\n",
    "parsed_seed = int(seed)\n",
    "np.random.seed(parsed_seed)\n",
    "print(f\"Using Seed: {parsed_seed}\")"
   ]
  },
  {
   "cell_type": "markdown",
   "id": "e0ebdc57",
   "metadata": {
    "papermill": {
     "duration": 0.019115,
     "end_time": "2025-07-28T10:36:21.553779",
     "exception": false,
     "start_time": "2025-07-28T10:36:21.534664",
     "status": "completed"
    },
    "tags": []
   },
   "source": [
    "# Loading Data"
   ]
  },
  {
   "cell_type": "markdown",
   "id": "681925a3",
   "metadata": {
    "papermill": {
     "duration": 0.020152,
     "end_time": "2025-07-28T10:36:21.594900",
     "exception": false,
     "start_time": "2025-07-28T10:36:21.574748",
     "status": "completed"
    },
    "tags": []
   },
   "source": [
    "Load siab_train, siab_test, siab_calib and/or \n",
    "load siab_train_features, siab_train_labels"
   ]
  },
  {
   "cell_type": "code",
   "execution_count": 9,
   "id": "f0496b8a",
   "metadata": {
    "execution": {
     "iopub.execute_input": "2025-07-28T10:36:21.637309Z",
     "iopub.status.busy": "2025-07-28T10:36:21.636903Z",
     "iopub.status.idle": "2025-07-28T10:36:33.633559Z",
     "shell.execute_reply": "2025-07-28T10:36:33.632145Z"
    },
    "papermill": {
     "duration": 12.019682,
     "end_time": "2025-07-28T10:36:33.635295",
     "exception": false,
     "start_time": "2025-07-28T10:36:21.615613",
     "status": "completed"
    },
    "tags": []
   },
   "outputs": [
    {
     "name": "stdout",
     "output_type": "stream",
     "text": [
      "Loading SIAB data from cache: data/siab_cached.csv.gz\n"
     ]
    },
    {
     "name": "stdout",
     "output_type": "stream",
     "text": [
      "(643690, 164)\n"
     ]
    }
   ],
   "source": [
    "from pathlib import Path\n",
    "import pandas as pd\n",
    "\n",
    "# File paths\n",
    "raw_file = Path(\"data/raw/siab.csv\")\n",
    "cache_file = Path(\"data/siab_cached.csv.gz\")\n",
    "\n",
    "# Ensure cache directory exists\n",
    "cache_file.parent.mkdir(parents=True, exist_ok=True)\n",
    "\n",
    "# Load with simple caching\n",
    "if cache_file.exists():\n",
    "    print(f\"Loading SIAB data from cache: {cache_file}\")\n",
    "    siab = pd.read_csv(cache_file, compression='gzip')\n",
    "else:\n",
    "    print(f\"Cache not found. Reading raw SIAB data: {raw_file}\")\n",
    "    siab = pd.read_csv(raw_file)\n",
    "    siab.to_csv(cache_file, index=False, compression='gzip')\n",
    "    print(f\"Cached SIAB data to: {cache_file}\")\n",
    "\n",
    "# Now use `siab` DataFrame as needed\n",
    "print(siab.shape)"
   ]
  },
  {
   "cell_type": "code",
   "execution_count": 10,
   "id": "db0ca512-5f53-4dba-abdb-a2888bca41ba",
   "metadata": {
    "execution": {
     "iopub.execute_input": "2025-07-28T10:36:33.681261Z",
     "iopub.status.busy": "2025-07-28T10:36:33.680673Z",
     "iopub.status.idle": "2025-07-28T10:36:33.687178Z",
     "shell.execute_reply": "2025-07-28T10:36:33.686208Z"
    },
    "papermill": {
     "duration": 0.029796,
     "end_time": "2025-07-28T10:36:33.688794",
     "exception": false,
     "start_time": "2025-07-28T10:36:33.658998",
     "status": "completed"
    },
    "tags": []
   },
   "outputs": [],
   "source": [
    "#siab"
   ]
  },
  {
   "cell_type": "code",
   "execution_count": 11,
   "id": "a0edb063",
   "metadata": {
    "execution": {
     "iopub.execute_input": "2025-07-28T10:36:33.732266Z",
     "iopub.status.busy": "2025-07-28T10:36:33.731610Z",
     "iopub.status.idle": "2025-07-28T10:36:33.737215Z",
     "shell.execute_reply": "2025-07-28T10:36:33.736186Z"
    },
    "papermill": {
     "duration": 0.029191,
     "end_time": "2025-07-28T10:36:33.738839",
     "exception": false,
     "start_time": "2025-07-28T10:36:33.709648",
     "status": "completed"
    },
    "tags": []
   },
   "outputs": [],
   "source": [
    "#import pandas as pd\n",
    "#\n",
    "#X_train = pd.read_csv(\"./data/X_train.csv\")\n",
    "#y_train = pd.read_csv(\"./data/y_train.csv\")"
   ]
  },
  {
   "cell_type": "code",
   "execution_count": 12,
   "id": "63d08085",
   "metadata": {
    "execution": {
     "iopub.execute_input": "2025-07-28T10:36:33.782114Z",
     "iopub.status.busy": "2025-07-28T10:36:33.780987Z",
     "iopub.status.idle": "2025-07-28T10:36:33.786532Z",
     "shell.execute_reply": "2025-07-28T10:36:33.785427Z"
    },
    "papermill": {
     "duration": 0.02868,
     "end_time": "2025-07-28T10:36:33.788446",
     "exception": false,
     "start_time": "2025-07-28T10:36:33.759766",
     "status": "completed"
    },
    "tags": []
   },
   "outputs": [],
   "source": [
    "#X_test = pd.read_csv(\"./data/X_test.csv\")\n",
    "#y_true = pd.read_csv(\"./data/y_test.csv\")"
   ]
  },
  {
   "cell_type": "code",
   "execution_count": 13,
   "id": "98a8d0fa-1d3d-4ed8-bb2c-281470e24add",
   "metadata": {
    "execution": {
     "iopub.execute_input": "2025-07-28T10:36:33.831041Z",
     "iopub.status.busy": "2025-07-28T10:36:33.830400Z",
     "iopub.status.idle": "2025-07-28T10:36:33.836760Z",
     "shell.execute_reply": "2025-07-28T10:36:33.835782Z"
    },
    "papermill": {
     "duration": 0.029568,
     "end_time": "2025-07-28T10:36:33.838644",
     "exception": false,
     "start_time": "2025-07-28T10:36:33.809076",
     "status": "completed"
    },
    "tags": []
   },
   "outputs": [],
   "source": [
    "# Calibration data for conformal\n",
    "#X_calib = pd.read_csv(\"./data/X_calib.csv\")\n",
    "#y_calib = pd.read_csv(\"./data/y_calib.csv\")"
   ]
  },
  {
   "cell_type": "markdown",
   "id": "9901737e-04df-44f0-9100-f5ad144ed040",
   "metadata": {
    "papermill": {
     "duration": 0.020212,
     "end_time": "2025-07-28T10:36:33.881779",
     "exception": false,
     "start_time": "2025-07-28T10:36:33.861567",
     "status": "completed"
    },
    "tags": []
   },
   "source": [
    "# Splitting Data and Setting Training Data Size"
   ]
  },
  {
   "cell_type": "code",
   "execution_count": 14,
   "id": "acbc8f7d-8fc8-4e86-8c59-5dcb0f58384b",
   "metadata": {
    "execution": {
     "iopub.execute_input": "2025-07-28T10:36:33.922592Z",
     "iopub.status.busy": "2025-07-28T10:36:33.922122Z",
     "iopub.status.idle": "2025-07-28T10:36:33.930433Z",
     "shell.execute_reply": "2025-07-28T10:36:33.929461Z"
    },
    "papermill": {
     "duration": 0.03071,
     "end_time": "2025-07-28T10:36:33.932225",
     "exception": false,
     "start_time": "2025-07-28T10:36:33.901515",
     "status": "completed"
    },
    "tags": []
   },
   "outputs": [],
   "source": [
    "def sample_by_year(df, training_size, random_state=42):\n",
    "    if training_size == \"2014\":\n",
    "        return df[df[\"year\"] == 2014].reset_index(drop=True)\n",
    "    \n",
    "    size_map = {\n",
    "        \"25k\": 5000,\n",
    "        \"5k\": 1000,\n",
    "        \"1k\": 200\n",
    "    }\n",
    "\n",
    "    if training_size not in size_map:\n",
    "        return df.reset_index(drop=True)  # use all data\n",
    "\n",
    "    n_per_year = size_map[training_size]\n",
    "    grouped = df.groupby(\"year\")\n",
    "    sampled = grouped.apply(lambda x: x.sample(n=min(n_per_year, len(x)), random_state=random_state))\n",
    "    return sampled.reset_index(drop=True)"
   ]
  },
  {
   "cell_type": "code",
   "execution_count": 15,
   "id": "6d931f52-beaf-43ff-9e78-9d44a448d54e",
   "metadata": {
    "execution": {
     "iopub.execute_input": "2025-07-28T10:36:33.974537Z",
     "iopub.status.busy": "2025-07-28T10:36:33.974053Z",
     "iopub.status.idle": "2025-07-28T10:36:34.712878Z",
     "shell.execute_reply": "2025-07-28T10:36:34.711898Z"
    },
    "papermill": {
     "duration": 0.762186,
     "end_time": "2025-07-28T10:36:34.715100",
     "exception": false,
     "start_time": "2025-07-28T10:36:33.952914",
     "status": "completed"
    },
    "tags": []
   },
   "outputs": [],
   "source": [
    "siab_s = sample_by_year(siab, universe[\"training_size\"])"
   ]
  },
  {
   "cell_type": "code",
   "execution_count": 16,
   "id": "5db0a40e-a4e2-4920-be85-b12ae061d70d",
   "metadata": {
    "execution": {
     "iopub.execute_input": "2025-07-28T10:36:34.759993Z",
     "iopub.status.busy": "2025-07-28T10:36:34.759006Z",
     "iopub.status.idle": "2025-07-28T10:36:34.773745Z",
     "shell.execute_reply": "2025-07-28T10:36:34.772728Z"
    },
    "papermill": {
     "duration": 0.039897,
     "end_time": "2025-07-28T10:36:34.775689",
     "exception": false,
     "start_time": "2025-07-28T10:36:34.735792",
     "status": "completed"
    },
    "tags": []
   },
   "outputs": [
    {
     "data": {
      "text/plain": [
       "year\n",
       "2010    1000\n",
       "2011    1000\n",
       "2012    1000\n",
       "2013    1000\n",
       "2014    1000\n",
       "2015    1000\n",
       "2016    1000\n",
       "dtype: int64"
      ]
     },
     "metadata": {},
     "output_type": "display_data"
    }
   ],
   "source": [
    "display(siab_s.groupby(\"year\").size())"
   ]
  },
  {
   "cell_type": "code",
   "execution_count": 17,
   "id": "a561edb4-d032-42cb-8256-22eac1111c64",
   "metadata": {
    "execution": {
     "iopub.execute_input": "2025-07-28T10:36:34.819726Z",
     "iopub.status.busy": "2025-07-28T10:36:34.819231Z",
     "iopub.status.idle": "2025-07-28T10:36:35.075538Z",
     "shell.execute_reply": "2025-07-28T10:36:35.074431Z"
    },
    "papermill": {
     "duration": 0.280105,
     "end_time": "2025-07-28T10:36:35.077502",
     "exception": false,
     "start_time": "2025-07-28T10:36:34.797397",
     "status": "completed"
    },
    "tags": []
   },
   "outputs": [],
   "source": [
    "siab_train = siab_s[siab_s.year < 2015]\n",
    "siab_calib = siab[siab.year == 2015]\n",
    "siab_test = siab[siab.year == 2016]"
   ]
  },
  {
   "cell_type": "code",
   "execution_count": 18,
   "id": "472de16f-c3db-4916-846b-1f0de9cf1746",
   "metadata": {
    "execution": {
     "iopub.execute_input": "2025-07-28T10:36:35.122665Z",
     "iopub.status.busy": "2025-07-28T10:36:35.121941Z",
     "iopub.status.idle": "2025-07-28T10:36:35.130410Z",
     "shell.execute_reply": "2025-07-28T10:36:35.129442Z"
    },
    "papermill": {
     "duration": 0.032844,
     "end_time": "2025-07-28T10:36:35.132025",
     "exception": false,
     "start_time": "2025-07-28T10:36:35.099181",
     "status": "completed"
    },
    "tags": []
   },
   "outputs": [],
   "source": [
    "X_train = siab_train.iloc[:,4:164]\n",
    "y_train = siab_train.iloc[:, [3]]"
   ]
  },
  {
   "cell_type": "code",
   "execution_count": 19,
   "id": "828c96af-f43a-4ed6-ba47-8ac73a47d56c",
   "metadata": {
    "execution": {
     "iopub.execute_input": "2025-07-28T10:36:35.177462Z",
     "iopub.status.busy": "2025-07-28T10:36:35.176406Z",
     "iopub.status.idle": "2025-07-28T10:36:35.230872Z",
     "shell.execute_reply": "2025-07-28T10:36:35.229902Z"
    },
    "papermill": {
     "duration": 0.078701,
     "end_time": "2025-07-28T10:36:35.232842",
     "exception": false,
     "start_time": "2025-07-28T10:36:35.154141",
     "status": "completed"
    },
    "tags": []
   },
   "outputs": [],
   "source": [
    "X_calib = siab_calib.iloc[:,4:164]\n",
    "y_calib = siab_calib.iloc[:, [3]]"
   ]
  },
  {
   "cell_type": "code",
   "execution_count": 20,
   "id": "c34be9c3-6bd6-476e-acd3-845840e303be",
   "metadata": {
    "execution": {
     "iopub.execute_input": "2025-07-28T10:36:35.275612Z",
     "iopub.status.busy": "2025-07-28T10:36:35.275140Z",
     "iopub.status.idle": "2025-07-28T10:36:35.330860Z",
     "shell.execute_reply": "2025-07-28T10:36:35.329762Z"
    },
    "papermill": {
     "duration": 0.078818,
     "end_time": "2025-07-28T10:36:35.332867",
     "exception": false,
     "start_time": "2025-07-28T10:36:35.254049",
     "status": "completed"
    },
    "tags": []
   },
   "outputs": [],
   "source": [
    "X_test = siab_test.iloc[:,4:164]\n",
    "y_true = siab_test.iloc[:, [3]]"
   ]
  },
  {
   "cell_type": "code",
   "execution_count": 21,
   "id": "e6c733c5",
   "metadata": {
    "execution": {
     "iopub.execute_input": "2025-07-28T10:36:35.378290Z",
     "iopub.status.busy": "2025-07-28T10:36:35.377781Z",
     "iopub.status.idle": "2025-07-28T10:36:35.479276Z",
     "shell.execute_reply": "2025-07-28T10:36:35.478179Z"
    },
    "papermill": {
     "duration": 0.125483,
     "end_time": "2025-07-28T10:36:35.481255",
     "exception": false,
     "start_time": "2025-07-28T10:36:35.355772",
     "status": "completed"
    },
    "tags": []
   },
   "outputs": [],
   "source": [
    "# Auxiliary data needed downstream in the pipeline\n",
    "\n",
    "org_train = X_train.copy()\n",
    "org_test = X_test.copy()\n",
    "org_calib = X_calib.copy()"
   ]
  },
  {
   "cell_type": "markdown",
   "id": "0a4a1b33",
   "metadata": {
    "papermill": {
     "duration": 0.021376,
     "end_time": "2025-07-28T10:36:35.524883",
     "exception": false,
     "start_time": "2025-07-28T10:36:35.503507",
     "status": "completed"
    },
    "tags": []
   },
   "source": [
    "# Preprocessing Data"
   ]
  },
  {
   "cell_type": "code",
   "execution_count": 22,
   "id": "ca879031",
   "metadata": {
    "execution": {
     "iopub.execute_input": "2025-07-28T10:36:35.568918Z",
     "iopub.status.busy": "2025-07-28T10:36:35.568211Z",
     "iopub.status.idle": "2025-07-28T10:36:35.574649Z",
     "shell.execute_reply": "2025-07-28T10:36:35.573645Z"
    },
    "papermill": {
     "duration": 0.030275,
     "end_time": "2025-07-28T10:36:35.576428",
     "exception": false,
     "start_time": "2025-07-28T10:36:35.546153",
     "status": "completed"
    },
    "tags": []
   },
   "outputs": [],
   "source": [
    "# EXCLUDE PROTECTED FEATURES\n",
    "# ----------------------\n",
    "# \"exclude_features\": \"none\", # \"nationality\", \"sex\", \"nationality-sex\"\n",
    "\n",
    "excluded_features = universe[\"exclude_features\"].split(\"-\") # split, e.g.: \"nationality-sex\" -> [\"nationality\", \"sex\"]\n",
    "excluded_features_dictionary = {\n",
    "    \"nationality\": [\"maxdeutsch1\", \"maxdeutsch.Missing.\"],\n",
    "    \"sex\": [\"frau1\"],\n",
    "    \"age\": [\"age\"],\n",
    "}\n"
   ]
  },
  {
   "cell_type": "code",
   "execution_count": 23,
   "id": "b745ac60",
   "metadata": {
    "execution": {
     "iopub.execute_input": "2025-07-28T10:36:35.622268Z",
     "iopub.status.busy": "2025-07-28T10:36:35.621594Z",
     "iopub.status.idle": "2025-07-28T10:36:35.627636Z",
     "shell.execute_reply": "2025-07-28T10:36:35.626595Z"
    },
    "papermill": {
     "duration": 0.030398,
     "end_time": "2025-07-28T10:36:35.629309",
     "exception": false,
     "start_time": "2025-07-28T10:36:35.598911",
     "status": "completed"
    },
    "tags": []
   },
   "outputs": [],
   "source": [
    "# Code nice names to column names\n",
    "\n",
    "excluded_features_columns = [\n",
    "    excluded_features_dictionary[f] for f in excluded_features if len(f) > 0 and f != \"none\"\n",
    "]"
   ]
  },
  {
   "cell_type": "code",
   "execution_count": 24,
   "id": "f84f73a2",
   "metadata": {
    "execution": {
     "iopub.execute_input": "2025-07-28T10:36:35.675473Z",
     "iopub.status.busy": "2025-07-28T10:36:35.674446Z",
     "iopub.status.idle": "2025-07-28T10:36:35.681474Z",
     "shell.execute_reply": "2025-07-28T10:36:35.680404Z"
    },
    "papermill": {
     "duration": 0.03215,
     "end_time": "2025-07-28T10:36:35.683283",
     "exception": false,
     "start_time": "2025-07-28T10:36:35.651133",
     "status": "completed"
    },
    "tags": []
   },
   "outputs": [],
   "source": [
    "from utils import flatten_once\n",
    "\n",
    "excluded_features_columns = flatten_once(excluded_features_columns)"
   ]
  },
  {
   "cell_type": "code",
   "execution_count": 25,
   "id": "884dea22",
   "metadata": {
    "execution": {
     "iopub.execute_input": "2025-07-28T10:36:35.728174Z",
     "iopub.status.busy": "2025-07-28T10:36:35.727417Z",
     "iopub.status.idle": "2025-07-28T10:36:35.737162Z",
     "shell.execute_reply": "2025-07-28T10:36:35.736081Z"
    },
    "papermill": {
     "duration": 0.034135,
     "end_time": "2025-07-28T10:36:35.738778",
     "exception": false,
     "start_time": "2025-07-28T10:36:35.704643",
     "status": "completed"
    },
    "tags": []
   },
   "outputs": [
    {
     "name": "stdout",
     "output_type": "stream",
     "text": [
      "Dropping features: ['maxdeutsch1', 'maxdeutsch.Missing.', 'frau1']\n"
     ]
    }
   ],
   "source": [
    "if len(excluded_features_columns) > 0:\n",
    "    print(f\"Dropping features: {excluded_features_columns}\")\n",
    "    X_train.drop(excluded_features_columns, axis=1, inplace=True)"
   ]
  },
  {
   "cell_type": "code",
   "execution_count": 26,
   "id": "95ab8b16",
   "metadata": {
    "execution": {
     "iopub.execute_input": "2025-07-28T10:36:35.784102Z",
     "iopub.status.busy": "2025-07-28T10:36:35.783670Z",
     "iopub.status.idle": "2025-07-28T10:36:35.838842Z",
     "shell.execute_reply": "2025-07-28T10:36:35.837725Z"
    },
    "papermill": {
     "duration": 0.078999,
     "end_time": "2025-07-28T10:36:35.840513",
     "exception": false,
     "start_time": "2025-07-28T10:36:35.761514",
     "status": "completed"
    },
    "tags": []
   },
   "outputs": [
    {
     "name": "stdout",
     "output_type": "stream",
     "text": [
      "Dropping features: ['maxdeutsch1', 'maxdeutsch.Missing.', 'frau1']\n"
     ]
    }
   ],
   "source": [
    "if len(excluded_features_columns) > 0:\n",
    "    print(f\"Dropping features: {excluded_features_columns}\")\n",
    "    X_test.drop(excluded_features_columns, axis=1, inplace=True)"
   ]
  },
  {
   "cell_type": "code",
   "execution_count": 27,
   "id": "1853aaf5-fb9f-46cb-a2b5-8ea4ae2237e4",
   "metadata": {
    "execution": {
     "iopub.execute_input": "2025-07-28T10:36:35.888285Z",
     "iopub.status.busy": "2025-07-28T10:36:35.887689Z",
     "iopub.status.idle": "2025-07-28T10:36:35.958641Z",
     "shell.execute_reply": "2025-07-28T10:36:35.957701Z"
    },
    "papermill": {
     "duration": 0.096997,
     "end_time": "2025-07-28T10:36:35.960311",
     "exception": false,
     "start_time": "2025-07-28T10:36:35.863314",
     "status": "completed"
    },
    "tags": []
   },
   "outputs": [
    {
     "name": "stdout",
     "output_type": "stream",
     "text": [
      "Dropping features: ['maxdeutsch1', 'maxdeutsch.Missing.', 'frau1']\n"
     ]
    }
   ],
   "source": [
    "if len(excluded_features_columns) > 0:\n",
    "    print(f\"Dropping features: {excluded_features_columns}\")\n",
    "    X_calib.drop(excluded_features_columns, axis=1, inplace=True)"
   ]
  },
  {
   "cell_type": "code",
   "execution_count": 28,
   "id": "6727d079-03e5-481e-9d38-292a90b7a0a8",
   "metadata": {
    "execution": {
     "iopub.execute_input": "2025-07-28T10:36:36.007398Z",
     "iopub.status.busy": "2025-07-28T10:36:36.006656Z",
     "iopub.status.idle": "2025-07-28T10:36:36.011720Z",
     "shell.execute_reply": "2025-07-28T10:36:36.010772Z"
    },
    "papermill": {
     "duration": 0.030538,
     "end_time": "2025-07-28T10:36:36.013429",
     "exception": false,
     "start_time": "2025-07-28T10:36:35.982891",
     "status": "completed"
    },
    "tags": []
   },
   "outputs": [],
   "source": [
    "# SPLIT & STRATIFY DATA\n",
    "# ----------------------"
   ]
  },
  {
   "cell_type": "code",
   "execution_count": 29,
   "id": "76c4dc6d",
   "metadata": {
    "execution": {
     "iopub.execute_input": "2025-07-28T10:36:36.062201Z",
     "iopub.status.busy": "2025-07-28T10:36:36.061367Z",
     "iopub.status.idle": "2025-07-28T10:36:36.067055Z",
     "shell.execute_reply": "2025-07-28T10:36:36.066021Z"
    },
    "papermill": {
     "duration": 0.031829,
     "end_time": "2025-07-28T10:36:36.069003",
     "exception": false,
     "start_time": "2025-07-28T10:36:36.037174",
     "status": "completed"
    },
    "tags": []
   },
   "outputs": [],
   "source": [
    "# EXCLUDE CERTAIN SUBGROUPS\n",
    "# ----------------------\n",
    "\n",
    "mode = universe.get(\"exclude_subgroups\", \"keep-all\") \n",
    "# Fetches the exclude_subgroups setting from the universe dict.\n",
    "# Defaults to \"keep-all\" if the key is missing."
   ]
  },
  {
   "cell_type": "code",
   "execution_count": 30,
   "id": "21994072",
   "metadata": {
    "execution": {
     "iopub.execute_input": "2025-07-28T10:36:36.115629Z",
     "iopub.status.busy": "2025-07-28T10:36:36.115148Z",
     "iopub.status.idle": "2025-07-28T10:36:36.122545Z",
     "shell.execute_reply": "2025-07-28T10:36:36.121722Z"
    },
    "papermill": {
     "duration": 0.032805,
     "end_time": "2025-07-28T10:36:36.124132",
     "exception": false,
     "start_time": "2025-07-28T10:36:36.091327",
     "status": "completed"
    },
    "tags": []
   },
   "outputs": [],
   "source": [
    "if mode == \"keep-all\":\n",
    "    keep_mask = pd.Series(True, index=org_train.index)\n",
    "\n",
    "# org_train contains the original feature columns from features_org (in Simson)\n",
    "# features_org contains unprocessed features, for me X_train at beginning ???\n",
    "# For keep-all, creates a boolean Series (keep_mask) of all True, so no rows are removed.\n",
    "\n",
    "elif mode == \"drop-non-german\":\n",
    "    keep_mask = org_train[\"maxdeutsch1\"] == 1 # ??? what about missing values?\n",
    "\n",
    "else:\n",
    "    raise ValueError(f\"Unsupported mode for exclude_subgroups: {mode}\")\n"
   ]
  },
  {
   "cell_type": "code",
   "execution_count": 31,
   "id": "71651440",
   "metadata": {
    "execution": {
     "iopub.execute_input": "2025-07-28T10:36:36.167827Z",
     "iopub.status.busy": "2025-07-28T10:36:36.167067Z",
     "iopub.status.idle": "2025-07-28T10:36:36.173838Z",
     "shell.execute_reply": "2025-07-28T10:36:36.172892Z"
    },
    "papermill": {
     "duration": 0.030362,
     "end_time": "2025-07-28T10:36:36.175557",
     "exception": false,
     "start_time": "2025-07-28T10:36:36.145195",
     "status": "completed"
    },
    "tags": []
   },
   "outputs": [],
   "source": [
    "n_drop = (~keep_mask).sum() # Calculates how many rows are set to be dropped\n",
    "if n_drop > 0:\n",
    "    pct = n_drop / len(keep_mask) * 100\n",
    "    print(f\"Dropping {n_drop} rows ({pct:.2f}%) where mode='{mode}'\")"
   ]
  },
  {
   "cell_type": "code",
   "execution_count": 32,
   "id": "5fb8eee5",
   "metadata": {
    "execution": {
     "iopub.execute_input": "2025-07-28T10:36:36.220287Z",
     "iopub.status.busy": "2025-07-28T10:36:36.219251Z",
     "iopub.status.idle": "2025-07-28T10:36:36.233598Z",
     "shell.execute_reply": "2025-07-28T10:36:36.232647Z"
    },
    "papermill": {
     "duration": 0.038503,
     "end_time": "2025-07-28T10:36:36.236171",
     "exception": false,
     "start_time": "2025-07-28T10:36:36.197668",
     "status": "completed"
    },
    "tags": []
   },
   "outputs": [],
   "source": [
    "X_train = X_train[keep_mask]"
   ]
  },
  {
   "cell_type": "code",
   "execution_count": 33,
   "id": "b202bb3a",
   "metadata": {
    "execution": {
     "iopub.execute_input": "2025-07-28T10:36:36.291610Z",
     "iopub.status.busy": "2025-07-28T10:36:36.291132Z",
     "iopub.status.idle": "2025-07-28T10:36:36.297593Z",
     "shell.execute_reply": "2025-07-28T10:36:36.296559Z"
    },
    "papermill": {
     "duration": 0.032022,
     "end_time": "2025-07-28T10:36:36.299417",
     "exception": false,
     "start_time": "2025-07-28T10:36:36.267395",
     "status": "completed"
    },
    "tags": []
   },
   "outputs": [],
   "source": [
    "y_train = y_train[keep_mask]"
   ]
  },
  {
   "cell_type": "markdown",
   "id": "493e2ac3",
   "metadata": {
    "papermill": {
     "duration": 0.022297,
     "end_time": "2025-07-28T10:36:36.344947",
     "exception": false,
     "start_time": "2025-07-28T10:36:36.322650",
     "status": "completed"
    },
    "tags": []
   },
   "source": [
    "# Model Training"
   ]
  },
  {
   "cell_type": "code",
   "execution_count": 34,
   "id": "679e1268",
   "metadata": {
    "execution": {
     "iopub.execute_input": "2025-07-28T10:36:36.391486Z",
     "iopub.status.busy": "2025-07-28T10:36:36.390769Z",
     "iopub.status.idle": "2025-07-28T10:36:36.504928Z",
     "shell.execute_reply": "2025-07-28T10:36:36.503895Z"
    },
    "papermill": {
     "duration": 0.139828,
     "end_time": "2025-07-28T10:36:36.506850",
     "exception": false,
     "start_time": "2025-07-28T10:36:36.367022",
     "status": "completed"
    },
    "tags": []
   },
   "outputs": [],
   "source": [
    "from sklearn.linear_model import LogisticRegression\n",
    "from sklearn.ensemble import GradientBoostingClassifier, RandomForestClassifier\n",
    "\n",
    "if (universe[\"model\"] == \"logreg\"):\n",
    "    model = LogisticRegression() #penalty=\"none\") #, solver=\"newton-cg\", max_iter=1) # include random_state=19 ?\n",
    "elif (universe[\"model\"] == \"penalized_logreg\"):\n",
    "    model = LogisticRegression(penalty=\"l2\", C=1.0) #, solver=\"newton-cg\", max_iter=1)\n",
    "elif (universe[\"model\"] == \"rf\"):\n",
    "    model = RandomForestClassifier(n_estimators=100, n_jobs=-1)\n",
    "elif (universe[\"model\"] == \"gbm\"):\n",
    "    model = GradientBoostingClassifier()\n",
    "elif (universe[\"model\"] == \"elasticnet\"):\n",
    "    model = LogisticRegression(penalty = 'elasticnet', solver = 'saga', l1_ratio = 0.5, max_iter=5000) # which solver to use?\n",
    "else:\n",
    "    raise \"Unsupported universe.model\""
   ]
  },
  {
   "cell_type": "code",
   "execution_count": 35,
   "id": "0cc8f744",
   "metadata": {
    "execution": {
     "iopub.execute_input": "2025-07-28T10:36:36.555006Z",
     "iopub.status.busy": "2025-07-28T10:36:36.554184Z",
     "iopub.status.idle": "2025-07-28T10:36:36.561103Z",
     "shell.execute_reply": "2025-07-28T10:36:36.560000Z"
    },
    "papermill": {
     "duration": 0.032582,
     "end_time": "2025-07-28T10:36:36.563030",
     "exception": false,
     "start_time": "2025-07-28T10:36:36.530448",
     "status": "completed"
    },
    "tags": []
   },
   "outputs": [],
   "source": [
    "import numpy as np\n",
    "from sklearn.pipeline import Pipeline\n",
    "from sklearn.preprocessing import StandardScaler\n",
    "\n",
    "model = Pipeline([\n",
    "    #(\"continuous_processor\", continuous_processor),\n",
    "    #(\"categorical_preprocessor\", categorical_preprocessor),\n",
    "    (\"scale\", StandardScaler() if universe[\"scale\"] == \"scale\" else None), \n",
    "    (\"model\", model),\n",
    "])"
   ]
  },
  {
   "cell_type": "code",
   "execution_count": 36,
   "id": "9442c04d",
   "metadata": {
    "execution": {
     "iopub.execute_input": "2025-07-28T10:36:36.609292Z",
     "iopub.status.busy": "2025-07-28T10:36:36.608396Z",
     "iopub.status.idle": "2025-07-28T10:36:36.760752Z",
     "shell.execute_reply": "2025-07-28T10:36:36.759761Z"
    },
    "papermill": {
     "duration": 0.177326,
     "end_time": "2025-07-28T10:36:36.762624",
     "exception": false,
     "start_time": "2025-07-28T10:36:36.585298",
     "status": "completed"
    },
    "tags": []
   },
   "outputs": [
    {
     "name": "stderr",
     "output_type": "stream",
     "text": [
      "/dss/dsshome1/0C/ra93lal2/.local/share/virtualenvs/CMA_Fairness_v2-3j10GkSs/lib/python3.10/site-packages/sklearn/linear_model/_logistic.py:444: ConvergenceWarning: lbfgs failed to converge (status=1):\n",
      "STOP: TOTAL NO. of ITERATIONS REACHED LIMIT.\n",
      "\n",
      "Increase the number of iterations (max_iter) or scale the data as shown in:\n",
      "    https://scikit-learn.org/stable/modules/preprocessing.html\n",
      "Please also refer to the documentation for alternative solver options:\n",
      "    https://scikit-learn.org/stable/modules/linear_model.html#logistic-regression\n",
      "  n_iter_i = _check_optimize_result(\n"
     ]
    },
    {
     "data": {
      "text/html": [
       "<style>#sk-container-id-1 {color: black;background-color: white;}#sk-container-id-1 pre{padding: 0;}#sk-container-id-1 div.sk-toggleable {background-color: white;}#sk-container-id-1 label.sk-toggleable__label {cursor: pointer;display: block;width: 100%;margin-bottom: 0;padding: 0.3em;box-sizing: border-box;text-align: center;}#sk-container-id-1 label.sk-toggleable__label-arrow:before {content: \"▸\";float: left;margin-right: 0.25em;color: #696969;}#sk-container-id-1 label.sk-toggleable__label-arrow:hover:before {color: black;}#sk-container-id-1 div.sk-estimator:hover label.sk-toggleable__label-arrow:before {color: black;}#sk-container-id-1 div.sk-toggleable__content {max-height: 0;max-width: 0;overflow: hidden;text-align: left;background-color: #f0f8ff;}#sk-container-id-1 div.sk-toggleable__content pre {margin: 0.2em;color: black;border-radius: 0.25em;background-color: #f0f8ff;}#sk-container-id-1 input.sk-toggleable__control:checked~div.sk-toggleable__content {max-height: 200px;max-width: 100%;overflow: auto;}#sk-container-id-1 input.sk-toggleable__control:checked~label.sk-toggleable__label-arrow:before {content: \"▾\";}#sk-container-id-1 div.sk-estimator input.sk-toggleable__control:checked~label.sk-toggleable__label {background-color: #d4ebff;}#sk-container-id-1 div.sk-label input.sk-toggleable__control:checked~label.sk-toggleable__label {background-color: #d4ebff;}#sk-container-id-1 input.sk-hidden--visually {border: 0;clip: rect(1px 1px 1px 1px);clip: rect(1px, 1px, 1px, 1px);height: 1px;margin: -1px;overflow: hidden;padding: 0;position: absolute;width: 1px;}#sk-container-id-1 div.sk-estimator {font-family: monospace;background-color: #f0f8ff;border: 1px dotted black;border-radius: 0.25em;box-sizing: border-box;margin-bottom: 0.5em;}#sk-container-id-1 div.sk-estimator:hover {background-color: #d4ebff;}#sk-container-id-1 div.sk-parallel-item::after {content: \"\";width: 100%;border-bottom: 1px solid gray;flex-grow: 1;}#sk-container-id-1 div.sk-label:hover label.sk-toggleable__label {background-color: #d4ebff;}#sk-container-id-1 div.sk-serial::before {content: \"\";position: absolute;border-left: 1px solid gray;box-sizing: border-box;top: 0;bottom: 0;left: 50%;z-index: 0;}#sk-container-id-1 div.sk-serial {display: flex;flex-direction: column;align-items: center;background-color: white;padding-right: 0.2em;padding-left: 0.2em;position: relative;}#sk-container-id-1 div.sk-item {position: relative;z-index: 1;}#sk-container-id-1 div.sk-parallel {display: flex;align-items: stretch;justify-content: center;background-color: white;position: relative;}#sk-container-id-1 div.sk-item::before, #sk-container-id-1 div.sk-parallel-item::before {content: \"\";position: absolute;border-left: 1px solid gray;box-sizing: border-box;top: 0;bottom: 0;left: 50%;z-index: -1;}#sk-container-id-1 div.sk-parallel-item {display: flex;flex-direction: column;z-index: 1;position: relative;background-color: white;}#sk-container-id-1 div.sk-parallel-item:first-child::after {align-self: flex-end;width: 50%;}#sk-container-id-1 div.sk-parallel-item:last-child::after {align-self: flex-start;width: 50%;}#sk-container-id-1 div.sk-parallel-item:only-child::after {width: 0;}#sk-container-id-1 div.sk-dashed-wrapped {border: 1px dashed gray;margin: 0 0.4em 0.5em 0.4em;box-sizing: border-box;padding-bottom: 0.4em;background-color: white;}#sk-container-id-1 div.sk-label label {font-family: monospace;font-weight: bold;display: inline-block;line-height: 1.2em;}#sk-container-id-1 div.sk-label-container {text-align: center;}#sk-container-id-1 div.sk-container {/* jupyter's `normalize.less` sets `[hidden] { display: none; }` but bootstrap.min.css set `[hidden] { display: none !important; }` so we also need the `!important` here to be able to override the default hidden behavior on the sphinx rendered scikit-learn.org. See: https://github.com/scikit-learn/scikit-learn/issues/21755 */display: inline-block !important;position: relative;}#sk-container-id-1 div.sk-text-repr-fallback {display: none;}</style><div id=\"sk-container-id-1\" class=\"sk-top-container\"><div class=\"sk-text-repr-fallback\"><pre>Pipeline(steps=[(&#x27;scale&#x27;, None), (&#x27;model&#x27;, LogisticRegression())])</pre><b>In a Jupyter environment, please rerun this cell to show the HTML representation or trust the notebook. <br />On GitHub, the HTML representation is unable to render, please try loading this page with nbviewer.org.</b></div><div class=\"sk-container\" hidden><div class=\"sk-item sk-dashed-wrapped\"><div class=\"sk-label-container\"><div class=\"sk-label sk-toggleable\"><input class=\"sk-toggleable__control sk-hidden--visually\" id=\"sk-estimator-id-1\" type=\"checkbox\" ><label for=\"sk-estimator-id-1\" class=\"sk-toggleable__label sk-toggleable__label-arrow\">Pipeline</label><div class=\"sk-toggleable__content\"><pre>Pipeline(steps=[(&#x27;scale&#x27;, None), (&#x27;model&#x27;, LogisticRegression())])</pre></div></div></div><div class=\"sk-serial\"><div class=\"sk-item\"><div class=\"sk-estimator sk-toggleable\"><input class=\"sk-toggleable__control sk-hidden--visually\" id=\"sk-estimator-id-2\" type=\"checkbox\" ><label for=\"sk-estimator-id-2\" class=\"sk-toggleable__label sk-toggleable__label-arrow\">None</label><div class=\"sk-toggleable__content\"><pre>None</pre></div></div></div><div class=\"sk-item\"><div class=\"sk-estimator sk-toggleable\"><input class=\"sk-toggleable__control sk-hidden--visually\" id=\"sk-estimator-id-3\" type=\"checkbox\" ><label for=\"sk-estimator-id-3\" class=\"sk-toggleable__label sk-toggleable__label-arrow\">LogisticRegression</label><div class=\"sk-toggleable__content\"><pre>LogisticRegression()</pre></div></div></div></div></div></div></div>"
      ],
      "text/plain": [
       "Pipeline(steps=[('scale', None), ('model', LogisticRegression())])"
      ]
     },
     "execution_count": 36,
     "metadata": {},
     "output_type": "execute_result"
    }
   ],
   "source": [
    "model.fit(X_train, y_train.values.ravel())"
   ]
  },
  {
   "cell_type": "code",
   "execution_count": 37,
   "id": "af59f8c0",
   "metadata": {
    "execution": {
     "iopub.execute_input": "2025-07-28T10:36:36.810070Z",
     "iopub.status.busy": "2025-07-28T10:36:36.809439Z",
     "iopub.status.idle": "2025-07-28T10:36:36.815271Z",
     "shell.execute_reply": "2025-07-28T10:36:36.814164Z"
    },
    "papermill": {
     "duration": 0.031293,
     "end_time": "2025-07-28T10:36:36.817125",
     "exception": false,
     "start_time": "2025-07-28T10:36:36.785832",
     "status": "completed"
    },
    "tags": []
   },
   "outputs": [],
   "source": [
    "from fairness_multiverse.universe import predict_w_threshold"
   ]
  },
  {
   "cell_type": "code",
   "execution_count": 38,
   "id": "a7cf2e16",
   "metadata": {
    "execution": {
     "iopub.execute_input": "2025-07-28T10:36:36.864989Z",
     "iopub.status.busy": "2025-07-28T10:36:36.864085Z",
     "iopub.status.idle": "2025-07-28T10:36:36.967584Z",
     "shell.execute_reply": "2025-07-28T10:36:36.966575Z"
    },
    "papermill": {
     "duration": 0.128543,
     "end_time": "2025-07-28T10:36:36.969362",
     "exception": false,
     "start_time": "2025-07-28T10:36:36.840819",
     "status": "completed"
    },
    "tags": []
   },
   "outputs": [
    {
     "data": {
      "text/plain": [
       "0.8571508193066548"
      ]
     },
     "execution_count": 38,
     "metadata": {},
     "output_type": "execute_result"
    }
   ],
   "source": [
    "probs_test = model.predict_proba(X_test)\n",
    "\n",
    "'''\n",
    "Below code returns a boolean array (or binary 0/1 array depending on how it’s used) where each element \n",
    "is True if the probability of class 1 is greater than or equal to the threshold, and False otherwise.\n",
    "'''\n",
    "y_pred_default = predict_w_threshold(probs_test, 0.5)\n",
    "\n",
    "from sklearn.metrics import accuracy_score\n",
    "\n",
    "# Naive prediction\n",
    "accuracy_score(y_true = y_true, y_pred = y_pred_default)"
   ]
  },
  {
   "cell_type": "code",
   "execution_count": 39,
   "id": "081964c3",
   "metadata": {
    "execution": {
     "iopub.execute_input": "2025-07-28T10:36:37.018942Z",
     "iopub.status.busy": "2025-07-28T10:36:37.018379Z",
     "iopub.status.idle": "2025-07-28T10:36:37.108845Z",
     "shell.execute_reply": "2025-07-28T10:36:37.107716Z"
    },
    "papermill": {
     "duration": 0.117296,
     "end_time": "2025-07-28T10:36:37.110834",
     "exception": false,
     "start_time": "2025-07-28T10:36:36.993538",
     "status": "completed"
    },
    "tags": []
   },
   "outputs": [
    {
     "data": {
      "text/plain": [
       "array([0, 0, 0, ..., 0, 0, 0])"
      ]
     },
     "execution_count": 39,
     "metadata": {},
     "output_type": "execute_result"
    }
   ],
   "source": [
    "model.predict(X_test)"
   ]
  },
  {
   "cell_type": "markdown",
   "id": "56c9705b",
   "metadata": {
    "papermill": {
     "duration": 0.022885,
     "end_time": "2025-07-28T10:36:37.157488",
     "exception": false,
     "start_time": "2025-07-28T10:36:37.134603",
     "status": "completed"
    },
    "tags": []
   },
   "source": [
    "# Conformal Prediction"
   ]
  },
  {
   "cell_type": "code",
   "execution_count": 40,
   "id": "160ec6ff",
   "metadata": {
    "execution": {
     "iopub.execute_input": "2025-07-28T10:36:37.208302Z",
     "iopub.status.busy": "2025-07-28T10:36:37.207306Z",
     "iopub.status.idle": "2025-07-28T10:36:37.213646Z",
     "shell.execute_reply": "2025-07-28T10:36:37.212615Z"
    },
    "papermill": {
     "duration": 0.033952,
     "end_time": "2025-07-28T10:36:37.215782",
     "exception": false,
     "start_time": "2025-07-28T10:36:37.181830",
     "status": "completed"
    },
    "tags": []
   },
   "outputs": [],
   "source": [
    "# Miscoverage level for conformal prediction (10% allowed error rate => 90% target coverage)\n",
    "alpha = 0.1"
   ]
  },
  {
   "cell_type": "code",
   "execution_count": 41,
   "id": "eadf4555-3dd3-440e-8e35-f82a4ad9f855",
   "metadata": {
    "execution": {
     "iopub.execute_input": "2025-07-28T10:36:37.266663Z",
     "iopub.status.busy": "2025-07-28T10:36:37.265765Z",
     "iopub.status.idle": "2025-07-28T10:36:37.376326Z",
     "shell.execute_reply": "2025-07-28T10:36:37.375195Z"
    },
    "papermill": {
     "duration": 0.138437,
     "end_time": "2025-07-28T10:36:37.378514",
     "exception": false,
     "start_time": "2025-07-28T10:36:37.240077",
     "status": "completed"
    },
    "tags": []
   },
   "outputs": [],
   "source": [
    "probs_calib = model.predict_proba(X_calib)"
   ]
  },
  {
   "cell_type": "code",
   "execution_count": 42,
   "id": "2ed93547-6d5d-4983-9b36-1ecb300da49a",
   "metadata": {
    "execution": {
     "iopub.execute_input": "2025-07-28T10:36:37.429542Z",
     "iopub.status.busy": "2025-07-28T10:36:37.428501Z",
     "iopub.status.idle": "2025-07-28T10:36:37.435541Z",
     "shell.execute_reply": "2025-07-28T10:36:37.434487Z"
    },
    "papermill": {
     "duration": 0.03604,
     "end_time": "2025-07-28T10:36:37.438324",
     "exception": false,
     "start_time": "2025-07-28T10:36:37.402284",
     "status": "completed"
    },
    "tags": []
   },
   "outputs": [],
   "source": [
    "y_calib = y_calib.values.ravel().astype(int)"
   ]
  },
  {
   "cell_type": "code",
   "execution_count": 43,
   "id": "65d1320d-f588-4b38-9072-62af1ae97f7d",
   "metadata": {
    "execution": {
     "iopub.execute_input": "2025-07-28T10:36:37.498988Z",
     "iopub.status.busy": "2025-07-28T10:36:37.498505Z",
     "iopub.status.idle": "2025-07-28T10:36:37.506862Z",
     "shell.execute_reply": "2025-07-28T10:36:37.505887Z"
    },
    "papermill": {
     "duration": 0.040907,
     "end_time": "2025-07-28T10:36:37.508842",
     "exception": false,
     "start_time": "2025-07-28T10:36:37.467935",
     "status": "completed"
    },
    "tags": []
   },
   "outputs": [],
   "source": [
    "from fairness_multiverse.conformal import compute_nc_scores\n",
    "\n",
    "# Compute nonconformity scores on calibration set (1 - probability of true class)\n",
    "nc_scores = compute_nc_scores(probs_calib, y_calib)"
   ]
  },
  {
   "cell_type": "code",
   "execution_count": 44,
   "id": "df3b8ca3-53b7-43d5-9667-7c85da7aeda2",
   "metadata": {
    "execution": {
     "iopub.execute_input": "2025-07-28T10:36:37.560423Z",
     "iopub.status.busy": "2025-07-28T10:36:37.559418Z",
     "iopub.status.idle": "2025-07-28T10:36:37.566842Z",
     "shell.execute_reply": "2025-07-28T10:36:37.565774Z"
    },
    "papermill": {
     "duration": 0.035355,
     "end_time": "2025-07-28T10:36:37.568652",
     "exception": false,
     "start_time": "2025-07-28T10:36:37.533297",
     "status": "completed"
    },
    "tags": []
   },
   "outputs": [],
   "source": [
    "from fairness_multiverse.conformal import find_threshold\n",
    "\n",
    "# Find conformal threshold q_hat for the given alpha (split conformal method)\n",
    "q_hat = find_threshold(nc_scores, alpha)"
   ]
  },
  {
   "cell_type": "code",
   "execution_count": 45,
   "id": "4d29e6c1-0ef6-4aa4-b8fe-4fe79b0d033a",
   "metadata": {
    "execution": {
     "iopub.execute_input": "2025-07-28T10:36:37.620043Z",
     "iopub.status.busy": "2025-07-28T10:36:37.619090Z",
     "iopub.status.idle": "2025-07-28T10:36:37.627312Z",
     "shell.execute_reply": "2025-07-28T10:36:37.626259Z"
    },
    "papermill": {
     "duration": 0.036356,
     "end_time": "2025-07-28T10:36:37.629319",
     "exception": false,
     "start_time": "2025-07-28T10:36:37.592963",
     "status": "completed"
    },
    "tags": []
   },
   "outputs": [
    {
     "data": {
      "text/plain": [
       "0.6818138093493776"
      ]
     },
     "execution_count": 45,
     "metadata": {},
     "output_type": "execute_result"
    }
   ],
   "source": [
    "q_hat"
   ]
  },
  {
   "cell_type": "code",
   "execution_count": 46,
   "id": "92460794-cdac-4be2-ba28-f28c0515a6fb",
   "metadata": {
    "execution": {
     "iopub.execute_input": "2025-07-28T10:36:37.684621Z",
     "iopub.status.busy": "2025-07-28T10:36:37.683594Z",
     "iopub.status.idle": "2025-07-28T10:36:38.910033Z",
     "shell.execute_reply": "2025-07-28T10:36:38.908727Z"
    },
    "papermill": {
     "duration": 1.254864,
     "end_time": "2025-07-28T10:36:38.912731",
     "exception": false,
     "start_time": "2025-07-28T10:36:37.657867",
     "status": "completed"
    },
    "tags": []
   },
   "outputs": [],
   "source": [
    "from fairness_multiverse.conformal import predict_conformal_sets\n",
    "\n",
    "# Generate prediction sets for each test example\n",
    "pred_sets = predict_conformal_sets(model, X_test, q_hat)"
   ]
  },
  {
   "cell_type": "code",
   "execution_count": 47,
   "id": "d90c9a65-e6db-4f5d-80cd-e68fb7e46829",
   "metadata": {
    "execution": {
     "iopub.execute_input": "2025-07-28T10:36:38.976259Z",
     "iopub.status.busy": "2025-07-28T10:36:38.975721Z",
     "iopub.status.idle": "2025-07-28T10:36:38.981667Z",
     "shell.execute_reply": "2025-07-28T10:36:38.980722Z"
    },
    "papermill": {
     "duration": 0.038433,
     "end_time": "2025-07-28T10:36:38.983442",
     "exception": false,
     "start_time": "2025-07-28T10:36:38.945009",
     "status": "completed"
    },
    "tags": []
   },
   "outputs": [],
   "source": [
    "y_true = y_true.squeeze()"
   ]
  },
  {
   "cell_type": "code",
   "execution_count": 48,
   "id": "3a58a54a-1e68-46b9-927a-df01f18aebc8",
   "metadata": {
    "execution": {
     "iopub.execute_input": "2025-07-28T10:36:39.021149Z",
     "iopub.status.busy": "2025-07-28T10:36:39.020658Z",
     "iopub.status.idle": "2025-07-28T10:36:40.034325Z",
     "shell.execute_reply": "2025-07-28T10:36:40.033209Z"
    },
    "papermill": {
     "duration": 1.029687,
     "end_time": "2025-07-28T10:36:40.036770",
     "exception": false,
     "start_time": "2025-07-28T10:36:39.007083",
     "status": "completed"
    },
    "tags": []
   },
   "outputs": [],
   "source": [
    "from fairness_multiverse.conformal import evaluate_sets\n",
    "\n",
    "# Evaluate coverage and average set size on test data\n",
    "metrics = evaluate_sets(pred_sets, y_true)"
   ]
  },
  {
   "cell_type": "markdown",
   "id": "2b569c12-9aaa-4c88-98c9-bbcd0cf3ebb8",
   "metadata": {
    "papermill": {
     "duration": 0.029608,
     "end_time": "2025-07-28T10:36:40.098088",
     "exception": false,
     "start_time": "2025-07-28T10:36:40.068480",
     "status": "completed"
    },
    "tags": []
   },
   "source": [
    "# CP Metrics"
   ]
  },
  {
   "cell_type": "code",
   "execution_count": 49,
   "id": "5ce0a5cb-201f-45a0-ade5-94c7f0bd6095",
   "metadata": {
    "execution": {
     "iopub.execute_input": "2025-07-28T10:36:40.149444Z",
     "iopub.status.busy": "2025-07-28T10:36:40.148579Z",
     "iopub.status.idle": "2025-07-28T10:36:40.156892Z",
     "shell.execute_reply": "2025-07-28T10:36:40.155746Z"
    },
    "papermill": {
     "duration": 0.036298,
     "end_time": "2025-07-28T10:36:40.158827",
     "exception": false,
     "start_time": "2025-07-28T10:36:40.122529",
     "status": "completed"
    },
    "tags": []
   },
   "outputs": [
    {
     "data": {
      "text/plain": [
       "{'coverage': 0.9102998550886189, 'avg_size': 1.1891873815628136}"
      ]
     },
     "execution_count": 49,
     "metadata": {},
     "output_type": "execute_result"
    }
   ],
   "source": [
    "metrics"
   ]
  },
  {
   "cell_type": "code",
   "execution_count": 50,
   "id": "9b9a838d-31c9-430b-ae14-12baee460d17",
   "metadata": {
    "execution": {
     "iopub.execute_input": "2025-07-28T10:36:40.219949Z",
     "iopub.status.busy": "2025-07-28T10:36:40.219223Z",
     "iopub.status.idle": "2025-07-28T10:36:40.226201Z",
     "shell.execute_reply": "2025-07-28T10:36:40.225149Z"
    },
    "papermill": {
     "duration": 0.032809,
     "end_time": "2025-07-28T10:36:40.227914",
     "exception": false,
     "start_time": "2025-07-28T10:36:40.195105",
     "status": "completed"
    },
    "tags": []
   },
   "outputs": [],
   "source": [
    "example_universe = universe.copy()\n",
    "universe_training_size = example_universe.get(\"training_size\")\n",
    "universe_scale = example_universe.get(\"scale\")\n",
    "universe_model = example_universe.get(\"model\")\n",
    "universe_exclude_features = example_universe.get(\"exclude_features\")\n",
    "universe_exclude_subgroups = example_universe.get(\"exclude_subgroups\")"
   ]
  },
  {
   "cell_type": "code",
   "execution_count": 51,
   "id": "f4b6a8ac-9dc0-4245-8a91-5b3b5999c4f9",
   "metadata": {
    "execution": {
     "iopub.execute_input": "2025-07-28T10:36:40.271044Z",
     "iopub.status.busy": "2025-07-28T10:36:40.270601Z",
     "iopub.status.idle": "2025-07-28T10:36:40.277100Z",
     "shell.execute_reply": "2025-07-28T10:36:40.276357Z"
    },
    "papermill": {
     "duration": 0.02475,
     "end_time": "2025-07-28T10:36:40.278637",
     "exception": false,
     "start_time": "2025-07-28T10:36:40.253887",
     "status": "completed"
    },
    "tags": []
   },
   "outputs": [],
   "source": [
    "cp_metrics_dict = {\n",
    "    \"universe_id\": [universe_id],\n",
    "    \"universe_training_size\": [universe_training_size],\n",
    "    \"universe_scale\": [universe_scale],\n",
    "    \"universe_model\": [universe_model],\n",
    "    \"universe_exclude_features\": [universe_exclude_features],\n",
    "    \"universe_exclude_subgroups\": [universe_exclude_subgroups],\n",
    "    \"q_hat\": [q_hat],\n",
    "    \"coverage\": [metrics[\"coverage\"]],\n",
    "    \"avg_size\": [metrics[\"avg_size\"]],\n",
    "}"
   ]
  },
  {
   "cell_type": "code",
   "execution_count": 52,
   "id": "908acbb1-0371-4915-85ca-3fa520d2efe2",
   "metadata": {
    "execution": {
     "iopub.execute_input": "2025-07-28T10:36:40.307407Z",
     "iopub.status.busy": "2025-07-28T10:36:40.306869Z",
     "iopub.status.idle": "2025-07-28T10:36:40.314362Z",
     "shell.execute_reply": "2025-07-28T10:36:40.313400Z"
    },
    "papermill": {
     "duration": 0.023649,
     "end_time": "2025-07-28T10:36:40.316371",
     "exception": false,
     "start_time": "2025-07-28T10:36:40.292722",
     "status": "completed"
    },
    "tags": []
   },
   "outputs": [
    {
     "data": {
      "text/plain": [
       "{'universe_id': ['5ca320710bb1a22a5d5d90209b62fb9d'],\n",
       " 'universe_training_size': ['5k'],\n",
       " 'universe_scale': ['do-not-scale'],\n",
       " 'universe_model': ['penalized_logreg'],\n",
       " 'universe_exclude_features': ['nationality-sex'],\n",
       " 'universe_exclude_subgroups': ['keep-all'],\n",
       " 'q_hat': [0.6818138093493776],\n",
       " 'coverage': [0.9102998550886189],\n",
       " 'avg_size': [1.1891873815628136]}"
      ]
     },
     "execution_count": 52,
     "metadata": {},
     "output_type": "execute_result"
    }
   ],
   "source": [
    "cp_metrics_dict"
   ]
  },
  {
   "cell_type": "code",
   "execution_count": 53,
   "id": "33007efc-14e9-4ec6-97ac-56a455c82265",
   "metadata": {
    "execution": {
     "iopub.execute_input": "2025-07-28T10:36:40.371650Z",
     "iopub.status.busy": "2025-07-28T10:36:40.370834Z",
     "iopub.status.idle": "2025-07-28T10:36:40.379095Z",
     "shell.execute_reply": "2025-07-28T10:36:40.377957Z"
    },
    "papermill": {
     "duration": 0.038097,
     "end_time": "2025-07-28T10:36:40.380982",
     "exception": false,
     "start_time": "2025-07-28T10:36:40.342885",
     "status": "completed"
    },
    "tags": []
   },
   "outputs": [],
   "source": [
    "cp_metrics_df = pd.DataFrame(cp_metrics_dict)"
   ]
  },
  {
   "cell_type": "code",
   "execution_count": 54,
   "id": "db12611b-57b2-4910-b9d0-355adfd6e7bf",
   "metadata": {
    "execution": {
     "iopub.execute_input": "2025-07-28T10:36:40.435078Z",
     "iopub.status.busy": "2025-07-28T10:36:40.434437Z",
     "iopub.status.idle": "2025-07-28T10:36:40.453556Z",
     "shell.execute_reply": "2025-07-28T10:36:40.452527Z"
    },
    "papermill": {
     "duration": 0.047899,
     "end_time": "2025-07-28T10:36:40.455234",
     "exception": false,
     "start_time": "2025-07-28T10:36:40.407335",
     "status": "completed"
    },
    "tags": []
   },
   "outputs": [
    {
     "data": {
      "text/html": [
       "<div>\n",
       "<style scoped>\n",
       "    .dataframe tbody tr th:only-of-type {\n",
       "        vertical-align: middle;\n",
       "    }\n",
       "\n",
       "    .dataframe tbody tr th {\n",
       "        vertical-align: top;\n",
       "    }\n",
       "\n",
       "    .dataframe thead th {\n",
       "        text-align: right;\n",
       "    }\n",
       "</style>\n",
       "<table border=\"1\" class=\"dataframe\">\n",
       "  <thead>\n",
       "    <tr style=\"text-align: right;\">\n",
       "      <th></th>\n",
       "      <th>universe_id</th>\n",
       "      <th>universe_training_size</th>\n",
       "      <th>universe_scale</th>\n",
       "      <th>universe_model</th>\n",
       "      <th>universe_exclude_features</th>\n",
       "      <th>universe_exclude_subgroups</th>\n",
       "      <th>q_hat</th>\n",
       "      <th>coverage</th>\n",
       "      <th>avg_size</th>\n",
       "    </tr>\n",
       "  </thead>\n",
       "  <tbody>\n",
       "    <tr>\n",
       "      <th>0</th>\n",
       "      <td>5ca320710bb1a22a5d5d90209b62fb9d</td>\n",
       "      <td>5k</td>\n",
       "      <td>do-not-scale</td>\n",
       "      <td>penalized_logreg</td>\n",
       "      <td>nationality-sex</td>\n",
       "      <td>keep-all</td>\n",
       "      <td>0.681814</td>\n",
       "      <td>0.9103</td>\n",
       "      <td>1.189187</td>\n",
       "    </tr>\n",
       "  </tbody>\n",
       "</table>\n",
       "</div>"
      ],
      "text/plain": [
       "                        universe_id universe_training_size universe_scale  \\\n",
       "0  5ca320710bb1a22a5d5d90209b62fb9d                     5k   do-not-scale   \n",
       "\n",
       "     universe_model universe_exclude_features universe_exclude_subgroups  \\\n",
       "0  penalized_logreg           nationality-sex                   keep-all   \n",
       "\n",
       "      q_hat  coverage  avg_size  \n",
       "0  0.681814    0.9103  1.189187  "
      ]
     },
     "execution_count": 54,
     "metadata": {},
     "output_type": "execute_result"
    }
   ],
   "source": [
    "cp_metrics_df"
   ]
  },
  {
   "cell_type": "code",
   "execution_count": 55,
   "id": "b7fbde55-a0a1-47e4-9af6-fe4a17fa8c61",
   "metadata": {
    "execution": {
     "iopub.execute_input": "2025-07-28T10:36:40.508796Z",
     "iopub.status.busy": "2025-07-28T10:36:40.507723Z",
     "iopub.status.idle": "2025-07-28T10:36:40.513286Z",
     "shell.execute_reply": "2025-07-28T10:36:40.512313Z"
    },
    "papermill": {
     "duration": 0.034768,
     "end_time": "2025-07-28T10:36:40.515236",
     "exception": false,
     "start_time": "2025-07-28T10:36:40.480468",
     "status": "completed"
    },
    "tags": []
   },
   "outputs": [],
   "source": [
    "# Conditional Coverage & looking at subgroups"
   ]
  },
  {
   "cell_type": "code",
   "execution_count": 56,
   "id": "027ae886-68dd-4141-96c7-805a5450e1ef",
   "metadata": {
    "execution": {
     "iopub.execute_input": "2025-07-28T10:36:40.568522Z",
     "iopub.status.busy": "2025-07-28T10:36:40.567646Z",
     "iopub.status.idle": "2025-07-28T10:36:40.812249Z",
     "shell.execute_reply": "2025-07-28T10:36:40.811425Z"
    },
    "papermill": {
     "duration": 0.27298,
     "end_time": "2025-07-28T10:36:40.814349",
     "exception": false,
     "start_time": "2025-07-28T10:36:40.541369",
     "status": "completed"
    },
    "tags": []
   },
   "outputs": [],
   "source": [
    "from fairness_multiverse.conformal import build_cp_groups\n",
    "\n",
    "cp_groups_df = build_cp_groups(pred_sets, y_true, X_test.index, org_test)\n",
    "#needs universe_id and setting"
   ]
  },
  {
   "cell_type": "code",
   "execution_count": 57,
   "id": "01d5802c-663a-4d1f-9d69-e036faaffbf7",
   "metadata": {
    "execution": {
     "iopub.execute_input": "2025-07-28T10:36:40.867349Z",
     "iopub.status.busy": "2025-07-28T10:36:40.866994Z",
     "iopub.status.idle": "2025-07-28T10:36:40.871589Z",
     "shell.execute_reply": "2025-07-28T10:36:40.870812Z"
    },
    "papermill": {
     "duration": 0.020553,
     "end_time": "2025-07-28T10:36:40.873080",
     "exception": false,
     "start_time": "2025-07-28T10:36:40.852527",
     "status": "completed"
    },
    "tags": []
   },
   "outputs": [],
   "source": [
    "#delete\n",
    "#cp_groups_df"
   ]
  },
  {
   "cell_type": "code",
   "execution_count": 58,
   "id": "fa424af1-d1eb-443d-b717-2d279ada8408",
   "metadata": {
    "execution": {
     "iopub.execute_input": "2025-07-28T10:36:40.904167Z",
     "iopub.status.busy": "2025-07-28T10:36:40.903767Z",
     "iopub.status.idle": "2025-07-28T10:36:40.907793Z",
     "shell.execute_reply": "2025-07-28T10:36:40.907109Z"
    },
    "papermill": {
     "duration": 0.022417,
     "end_time": "2025-07-28T10:36:40.909472",
     "exception": false,
     "start_time": "2025-07-28T10:36:40.887055",
     "status": "completed"
    },
    "tags": []
   },
   "outputs": [],
   "source": [
    "#delete\n",
    "#percentage = (cp_groups_df['nongerman_female'] == 1).mean() * 100\n",
    "#print(percentage)\n"
   ]
  },
  {
   "cell_type": "code",
   "execution_count": 59,
   "id": "6cbdab96-b2b2-45af-ad54-d0516db2e28d",
   "metadata": {
    "execution": {
     "iopub.execute_input": "2025-07-28T10:36:40.937508Z",
     "iopub.status.busy": "2025-07-28T10:36:40.937122Z",
     "iopub.status.idle": "2025-07-28T10:36:42.217153Z",
     "shell.execute_reply": "2025-07-28T10:36:42.216340Z"
    },
    "papermill": {
     "duration": 1.295363,
     "end_time": "2025-07-28T10:36:42.218695",
     "exception": false,
     "start_time": "2025-07-28T10:36:40.923332",
     "status": "completed"
    },
    "tags": []
   },
   "outputs": [],
   "source": [
    "# Define covered = 1 if true_label is in the predicted set\n",
    "cp_groups_df['covered'] = cp_groups_df.apply(\n",
    "    lambda r: int(r['true_label'] in r['pred_set']),\n",
    "    axis=1\n",
    ")"
   ]
  },
  {
   "cell_type": "code",
   "execution_count": 60,
   "id": "338ff529-1a6b-4b87-a931-8e4788d52aad",
   "metadata": {
    "execution": {
     "iopub.execute_input": "2025-07-28T10:36:42.249910Z",
     "iopub.status.busy": "2025-07-28T10:36:42.249347Z",
     "iopub.status.idle": "2025-07-28T10:36:42.253916Z",
     "shell.execute_reply": "2025-07-28T10:36:42.253134Z"
    },
    "papermill": {
     "duration": 0.020877,
     "end_time": "2025-07-28T10:36:42.255419",
     "exception": false,
     "start_time": "2025-07-28T10:36:42.234542",
     "status": "completed"
    },
    "tags": []
   },
   "outputs": [],
   "source": [
    "#cp_groups_df"
   ]
  },
  {
   "cell_type": "code",
   "execution_count": 61,
   "id": "90032e27-66df-4540-9169-4e89cfbaa758",
   "metadata": {
    "execution": {
     "iopub.execute_input": "2025-07-28T10:36:42.330528Z",
     "iopub.status.busy": "2025-07-28T10:36:42.330015Z",
     "iopub.status.idle": "2025-07-28T10:36:42.339656Z",
     "shell.execute_reply": "2025-07-28T10:36:42.338768Z"
    },
    "papermill": {
     "duration": 0.026664,
     "end_time": "2025-07-28T10:36:42.341664",
     "exception": false,
     "start_time": "2025-07-28T10:36:42.315000",
     "status": "completed"
    },
    "tags": []
   },
   "outputs": [],
   "source": [
    "subgroups = ['frau1','nongerman','nongerman_male','nongerman_female']\n",
    "\n",
    "# Conditional coverage for subgroup==1\n",
    "cond_coverage = {\n",
    "    g: cp_groups_df.loc[cp_groups_df[g]==1, 'covered'].mean()\n",
    "    for g in subgroups\n",
    "}"
   ]
  },
  {
   "cell_type": "code",
   "execution_count": 62,
   "id": "1e348fb1-b9c3-45bc-ba23-f016827a7e0d",
   "metadata": {
    "execution": {
     "iopub.execute_input": "2025-07-28T10:36:42.377483Z",
     "iopub.status.busy": "2025-07-28T10:36:42.376290Z",
     "iopub.status.idle": "2025-07-28T10:36:42.385711Z",
     "shell.execute_reply": "2025-07-28T10:36:42.384648Z"
    },
    "papermill": {
     "duration": 0.031656,
     "end_time": "2025-07-28T10:36:42.387924",
     "exception": false,
     "start_time": "2025-07-28T10:36:42.356268",
     "status": "completed"
    },
    "tags": []
   },
   "outputs": [
    {
     "data": {
      "text/plain": [
       "{'frau1': 0.9093139237093948,\n",
       " 'nongerman': 0.9225284904283388,\n",
       " 'nongerman_male': 0.9364135819147978,\n",
       " 'nongerman_female': 0.8995529061102832}"
      ]
     },
     "execution_count": 62,
     "metadata": {},
     "output_type": "execute_result"
    }
   ],
   "source": [
    "cond_coverage"
   ]
  },
  {
   "cell_type": "code",
   "execution_count": 63,
   "id": "f5093324-c3dd-4d63-bc4c-8d945e5c8bbb",
   "metadata": {
    "execution": {
     "iopub.execute_input": "2025-07-28T10:36:42.457265Z",
     "iopub.status.busy": "2025-07-28T10:36:42.456530Z",
     "iopub.status.idle": "2025-07-28T10:36:42.464612Z",
     "shell.execute_reply": "2025-07-28T10:36:42.463446Z"
    },
    "papermill": {
     "duration": 0.044869,
     "end_time": "2025-07-28T10:36:42.466513",
     "exception": false,
     "start_time": "2025-07-28T10:36:42.421644",
     "status": "completed"
    },
    "tags": []
   },
   "outputs": [],
   "source": [
    "for subgroup, cov in cond_coverage.items():\n",
    "    cp_metrics_df[f\"cov_{subgroup}\"] = cov"
   ]
  },
  {
   "cell_type": "code",
   "execution_count": 64,
   "id": "6e872e10-dbe5-49e8-b554-5030c98ff75d",
   "metadata": {
    "execution": {
     "iopub.execute_input": "2025-07-28T10:36:42.536000Z",
     "iopub.status.busy": "2025-07-28T10:36:42.535408Z",
     "iopub.status.idle": "2025-07-28T10:36:42.559173Z",
     "shell.execute_reply": "2025-07-28T10:36:42.557668Z"
    },
    "papermill": {
     "duration": 0.060539,
     "end_time": "2025-07-28T10:36:42.561247",
     "exception": false,
     "start_time": "2025-07-28T10:36:42.500708",
     "status": "completed"
    },
    "tags": []
   },
   "outputs": [
    {
     "data": {
      "text/html": [
       "<div>\n",
       "<style scoped>\n",
       "    .dataframe tbody tr th:only-of-type {\n",
       "        vertical-align: middle;\n",
       "    }\n",
       "\n",
       "    .dataframe tbody tr th {\n",
       "        vertical-align: top;\n",
       "    }\n",
       "\n",
       "    .dataframe thead th {\n",
       "        text-align: right;\n",
       "    }\n",
       "</style>\n",
       "<table border=\"1\" class=\"dataframe\">\n",
       "  <thead>\n",
       "    <tr style=\"text-align: right;\">\n",
       "      <th></th>\n",
       "      <th>universe_id</th>\n",
       "      <th>universe_training_size</th>\n",
       "      <th>universe_scale</th>\n",
       "      <th>universe_model</th>\n",
       "      <th>universe_exclude_features</th>\n",
       "      <th>universe_exclude_subgroups</th>\n",
       "      <th>q_hat</th>\n",
       "      <th>coverage</th>\n",
       "      <th>avg_size</th>\n",
       "      <th>cov_frau1</th>\n",
       "      <th>cov_nongerman</th>\n",
       "      <th>cov_nongerman_male</th>\n",
       "      <th>cov_nongerman_female</th>\n",
       "    </tr>\n",
       "  </thead>\n",
       "  <tbody>\n",
       "    <tr>\n",
       "      <th>0</th>\n",
       "      <td>5ca320710bb1a22a5d5d90209b62fb9d</td>\n",
       "      <td>5k</td>\n",
       "      <td>do-not-scale</td>\n",
       "      <td>penalized_logreg</td>\n",
       "      <td>nationality-sex</td>\n",
       "      <td>keep-all</td>\n",
       "      <td>0.681814</td>\n",
       "      <td>0.9103</td>\n",
       "      <td>1.189187</td>\n",
       "      <td>0.909314</td>\n",
       "      <td>0.922528</td>\n",
       "      <td>0.936414</td>\n",
       "      <td>0.899553</td>\n",
       "    </tr>\n",
       "  </tbody>\n",
       "</table>\n",
       "</div>"
      ],
      "text/plain": [
       "                        universe_id universe_training_size universe_scale  \\\n",
       "0  5ca320710bb1a22a5d5d90209b62fb9d                     5k   do-not-scale   \n",
       "\n",
       "     universe_model universe_exclude_features universe_exclude_subgroups  \\\n",
       "0  penalized_logreg           nationality-sex                   keep-all   \n",
       "\n",
       "      q_hat  coverage  avg_size  cov_frau1  cov_nongerman  cov_nongerman_male  \\\n",
       "0  0.681814    0.9103  1.189187   0.909314       0.922528            0.936414   \n",
       "\n",
       "   cov_nongerman_female  \n",
       "0              0.899553  "
      ]
     },
     "execution_count": 64,
     "metadata": {},
     "output_type": "execute_result"
    }
   ],
   "source": [
    "cp_metrics_df"
   ]
  },
  {
   "cell_type": "markdown",
   "id": "33774451",
   "metadata": {
    "papermill": {
     "duration": 0.029267,
     "end_time": "2025-07-28T10:36:42.621578",
     "exception": false,
     "start_time": "2025-07-28T10:36:42.592311",
     "status": "completed"
    },
    "tags": []
   },
   "source": [
    "# (Fairness) Metrics"
   ]
  },
  {
   "cell_type": "code",
   "execution_count": 65,
   "id": "debc5d62",
   "metadata": {
    "execution": {
     "iopub.execute_input": "2025-07-28T10:36:42.676672Z",
     "iopub.status.busy": "2025-07-28T10:36:42.675934Z",
     "iopub.status.idle": "2025-07-28T10:36:42.701964Z",
     "shell.execute_reply": "2025-07-28T10:36:42.700767Z"
    },
    "papermill": {
     "duration": 0.055383,
     "end_time": "2025-07-28T10:36:42.704103",
     "exception": false,
     "start_time": "2025-07-28T10:36:42.648720",
     "status": "completed"
    },
    "tags": []
   },
   "outputs": [],
   "source": [
    "# do I need to include maxdeutsch1.missing?\n",
    "\n",
    "import numpy as np\n",
    "\n",
    "colname_to_bin = \"maxdeutsch1\"\n",
    "majority_value = org_train[colname_to_bin].mode()[0]\n",
    "\n",
    "org_test[\"majmin\"] = np.where(org_test[colname_to_bin] == majority_value, \"majority\", \"minority\")"
   ]
  },
  {
   "cell_type": "code",
   "execution_count": 66,
   "id": "06a50de5",
   "metadata": {
    "execution": {
     "iopub.execute_input": "2025-07-28T10:36:42.761012Z",
     "iopub.status.busy": "2025-07-28T10:36:42.760108Z",
     "iopub.status.idle": "2025-07-28T10:36:45.519775Z",
     "shell.execute_reply": "2025-07-28T10:36:45.518923Z"
    },
    "papermill": {
     "duration": 2.793705,
     "end_time": "2025-07-28T10:36:45.522323",
     "exception": false,
     "start_time": "2025-07-28T10:36:42.728618",
     "status": "completed"
    },
    "tags": []
   },
   "outputs": [],
   "source": [
    "example_universe = universe.copy()\n",
    "example_universe[\"cutoff\"] = example_universe[\"cutoff\"][0]\n",
    "example_universe[\"eval_fairness_grouping\"] = example_universe[\"eval_fairness_grouping\"][0]\n",
    "fairness_dict, metric_frame = universe_analysis.compute_metrics(\n",
    "    example_universe,\n",
    "    y_pred_prob=probs_test,\n",
    "    y_test=y_true,\n",
    "    org_test=org_test,\n",
    ")"
   ]
  },
  {
   "cell_type": "markdown",
   "id": "f95d4e02",
   "metadata": {
    "papermill": {
     "duration": 0.027737,
     "end_time": "2025-07-28T10:36:45.590631",
     "exception": false,
     "start_time": "2025-07-28T10:36:45.562894",
     "status": "completed"
    },
    "tags": []
   },
   "source": [
    "# Overall"
   ]
  },
  {
   "cell_type": "markdown",
   "id": "bdee4871",
   "metadata": {
    "papermill": {
     "duration": 0.014916,
     "end_time": "2025-07-28T10:36:45.624866",
     "exception": false,
     "start_time": "2025-07-28T10:36:45.609950",
     "status": "completed"
    },
    "tags": []
   },
   "source": [
    "Fairness\n",
    "Main fairness target: Equalized Odds. Seems to be a better fit than equal opportunity, since we're not only interested in Y = 1. Seems to be a better fit than demographic parity, since we also care about accuracy, not just equal distribution of preds.\n",
    "\n",
    "Pick column for computation of fairness metrics\n",
    "\n",
    "Performance\n",
    "Overall performance measures, most interesting in relation to the measures split by group below"
   ]
  },
  {
   "cell_type": "code",
   "execution_count": 67,
   "id": "c4e067c6",
   "metadata": {
    "execution": {
     "iopub.execute_input": "2025-07-28T10:36:45.666541Z",
     "iopub.status.busy": "2025-07-28T10:36:45.666014Z",
     "iopub.status.idle": "2025-07-28T10:36:45.675582Z",
     "shell.execute_reply": "2025-07-28T10:36:45.674535Z"
    },
    "papermill": {
     "duration": 0.035603,
     "end_time": "2025-07-28T10:36:45.677543",
     "exception": false,
     "start_time": "2025-07-28T10:36:45.641940",
     "status": "completed"
    },
    "tags": []
   },
   "outputs": [
    {
     "data": {
      "text/plain": [
       "accuracy                   0.219585\n",
       "balanced accuracy          0.537920\n",
       "f1                         0.241048\n",
       "precision                  0.137703\n",
       "false positive rate        0.890271\n",
       "false negative rate        0.033889\n",
       "selection rate             0.900000\n",
       "count                  89710.000000\n",
       "dtype: float64"
      ]
     },
     "execution_count": 67,
     "metadata": {},
     "output_type": "execute_result"
    }
   ],
   "source": [
    "metric_frame.overall"
   ]
  },
  {
   "cell_type": "markdown",
   "id": "e968fe9d",
   "metadata": {
    "papermill": {
     "duration": 0.01858,
     "end_time": "2025-07-28T10:36:45.725932",
     "exception": false,
     "start_time": "2025-07-28T10:36:45.707352",
     "status": "completed"
    },
    "tags": []
   },
   "source": [
    "By Group"
   ]
  },
  {
   "cell_type": "code",
   "execution_count": 68,
   "id": "ec325bce",
   "metadata": {
    "execution": {
     "iopub.execute_input": "2025-07-28T10:36:45.757163Z",
     "iopub.status.busy": "2025-07-28T10:36:45.756767Z",
     "iopub.status.idle": "2025-07-28T10:36:45.770766Z",
     "shell.execute_reply": "2025-07-28T10:36:45.769670Z"
    },
    "papermill": {
     "duration": 0.031484,
     "end_time": "2025-07-28T10:36:45.772564",
     "exception": false,
     "start_time": "2025-07-28T10:36:45.741080",
     "status": "completed"
    },
    "tags": []
   },
   "outputs": [
    {
     "data": {
      "text/html": [
       "<div>\n",
       "<style scoped>\n",
       "    .dataframe tbody tr th:only-of-type {\n",
       "        vertical-align: middle;\n",
       "    }\n",
       "\n",
       "    .dataframe tbody tr th {\n",
       "        vertical-align: top;\n",
       "    }\n",
       "\n",
       "    .dataframe thead th {\n",
       "        text-align: right;\n",
       "    }\n",
       "</style>\n",
       "<table border=\"1\" class=\"dataframe\">\n",
       "  <thead>\n",
       "    <tr style=\"text-align: right;\">\n",
       "      <th></th>\n",
       "      <th>accuracy</th>\n",
       "      <th>balanced accuracy</th>\n",
       "      <th>f1</th>\n",
       "      <th>precision</th>\n",
       "      <th>false positive rate</th>\n",
       "      <th>false negative rate</th>\n",
       "      <th>selection rate</th>\n",
       "      <th>count</th>\n",
       "    </tr>\n",
       "    <tr>\n",
       "      <th>majmin</th>\n",
       "      <th></th>\n",
       "      <th></th>\n",
       "      <th></th>\n",
       "      <th></th>\n",
       "      <th></th>\n",
       "      <th></th>\n",
       "      <th></th>\n",
       "      <th></th>\n",
       "    </tr>\n",
       "  </thead>\n",
       "  <tbody>\n",
       "    <tr>\n",
       "      <th>majority</th>\n",
       "      <td>0.241839</td>\n",
       "      <td>0.546785</td>\n",
       "      <td>0.250978</td>\n",
       "      <td>0.144331</td>\n",
       "      <td>0.867699</td>\n",
       "      <td>0.038731</td>\n",
       "      <td>0.880064</td>\n",
       "      <td>69170.0</td>\n",
       "    </tr>\n",
       "    <tr>\n",
       "      <th>minority</th>\n",
       "      <td>0.144645</td>\n",
       "      <td>0.509981</td>\n",
       "      <td>0.209778</td>\n",
       "      <td>0.117392</td>\n",
       "      <td>0.964836</td>\n",
       "      <td>0.015203</td>\n",
       "      <td>0.967137</td>\n",
       "      <td>20540.0</td>\n",
       "    </tr>\n",
       "  </tbody>\n",
       "</table>\n",
       "</div>"
      ],
      "text/plain": [
       "          accuracy  balanced accuracy        f1  precision  \\\n",
       "majmin                                                       \n",
       "majority  0.241839           0.546785  0.250978   0.144331   \n",
       "minority  0.144645           0.509981  0.209778   0.117392   \n",
       "\n",
       "          false positive rate  false negative rate  selection rate    count  \n",
       "majmin                                                                       \n",
       "majority             0.867699             0.038731        0.880064  69170.0  \n",
       "minority             0.964836             0.015203        0.967137  20540.0  "
      ]
     },
     "execution_count": 68,
     "metadata": {},
     "output_type": "execute_result"
    }
   ],
   "source": [
    "metric_frame.by_group"
   ]
  },
  {
   "cell_type": "code",
   "execution_count": 69,
   "id": "a9ddbe63",
   "metadata": {
    "execution": {
     "iopub.execute_input": "2025-07-28T10:36:45.829765Z",
     "iopub.status.busy": "2025-07-28T10:36:45.829270Z",
     "iopub.status.idle": "2025-07-28T10:36:48.289831Z",
     "shell.execute_reply": "2025-07-28T10:36:48.288716Z"
    },
    "papermill": {
     "duration": 2.490231,
     "end_time": "2025-07-28T10:36:48.291662",
     "exception": false,
     "start_time": "2025-07-28T10:36:45.801431",
     "status": "completed"
    },
    "tags": []
   },
   "outputs": [
    {
     "data": {
      "text/plain": [
       "array([[<Axes: title={'center': 'accuracy'}, xlabel='majmin'>,\n",
       "        <Axes: title={'center': 'balanced accuracy'}, xlabel='majmin'>,\n",
       "        <Axes: title={'center': 'f1'}, xlabel='majmin'>],\n",
       "       [<Axes: title={'center': 'precision'}, xlabel='majmin'>,\n",
       "        <Axes: title={'center': 'false positive rate'}, xlabel='majmin'>,\n",
       "        <Axes: title={'center': 'false negative rate'}, xlabel='majmin'>],\n",
       "       [<Axes: title={'center': 'selection rate'}, xlabel='majmin'>,\n",
       "        <Axes: title={'center': 'count'}, xlabel='majmin'>,\n",
       "        <Axes: xlabel='majmin'>]], dtype=object)"
      ]
     },
     "execution_count": 69,
     "metadata": {},
     "output_type": "execute_result"
    },
    {
     "data": {
      "image/png": "[encoded data removed]",
      "text/plain": [
       "<Figure size 1200x800 with 9 Axes>"
      ]
     },
     "metadata": {},
     "output_type": "display_data"
    }
   ],
   "source": [
    "# In a graphic\n",
    "metric_frame.by_group.plot.bar(\n",
    "    subplots=True,\n",
    "    layout=[3, 3],\n",
    "    legend=False,\n",
    "    figsize=[12, 8],\n",
    "    title=\"Show all metrics\",\n",
    ")"
   ]
  },
  {
   "cell_type": "markdown",
   "id": "f57a0bac",
   "metadata": {
    "papermill": {
     "duration": 0.032022,
     "end_time": "2025-07-28T10:36:48.358526",
     "exception": false,
     "start_time": "2025-07-28T10:36:48.326504",
     "status": "completed"
    },
    "tags": []
   },
   "source": [
    "# Final Output"
   ]
  },
  {
   "cell_type": "code",
   "execution_count": 70,
   "id": "96d280a3",
   "metadata": {
    "execution": {
     "iopub.execute_input": "2025-07-28T10:36:48.423750Z",
     "iopub.status.busy": "2025-07-28T10:36:48.423013Z",
     "iopub.status.idle": "2025-07-28T10:36:48.432736Z",
     "shell.execute_reply": "2025-07-28T10:36:48.431636Z"
    },
    "papermill": {
     "duration": 0.044211,
     "end_time": "2025-07-28T10:36:48.434452",
     "exception": false,
     "start_time": "2025-07-28T10:36:48.390241",
     "status": "completed"
    },
    "tags": []
   },
   "outputs": [
    {
     "data": {
      "text/plain": [
       "4"
      ]
     },
     "execution_count": 70,
     "metadata": {},
     "output_type": "execute_result"
    }
   ],
   "source": [
    "sub_universes = universe_analysis.generate_sub_universes()\n",
    "len(sub_universes)"
   ]
  },
  {
   "cell_type": "code",
   "execution_count": 71,
   "id": "92adf7ba",
   "metadata": {
    "execution": {
     "iopub.execute_input": "2025-07-28T10:36:48.500823Z",
     "iopub.status.busy": "2025-07-28T10:36:48.499696Z",
     "iopub.status.idle": "2025-07-28T10:36:48.506492Z",
     "shell.execute_reply": "2025-07-28T10:36:48.505519Z"
    },
    "papermill": {
     "duration": 0.041512,
     "end_time": "2025-07-28T10:36:48.508324",
     "exception": false,
     "start_time": "2025-07-28T10:36:48.466812",
     "status": "completed"
    },
    "tags": []
   },
   "outputs": [],
   "source": [
    "def filter_sub_universe_data(sub_universe, org_test):\n",
    "    # Keep all rows — no filtering\n",
    "    keep_rows_mask = np.ones(org_test.shape[0], dtype=bool)\n",
    "\n",
    "    print(f\"[INFO] Keeping all rows: {keep_rows_mask.sum()} rows retained.\")\n",
    "    return keep_rows_mask"
   ]
  },
  {
   "cell_type": "code",
   "execution_count": 72,
   "id": "4a759155",
   "metadata": {
    "execution": {
     "iopub.execute_input": "2025-07-28T10:36:48.575391Z",
     "iopub.status.busy": "2025-07-28T10:36:48.574654Z",
     "iopub.status.idle": "2025-07-28T10:37:00.361149Z",
     "shell.execute_reply": "2025-07-28T10:37:00.360279Z"
    },
    "papermill": {
     "duration": 11.821722,
     "end_time": "2025-07-28T10:37:00.362627",
     "exception": false,
     "start_time": "2025-07-28T10:36:48.540905",
     "status": "completed"
    },
    "tags": []
   },
   "outputs": [
    {
     "name": "stdout",
     "output_type": "stream",
     "text": [
      "Stopping execution_time clock.\n",
      "[INFO] Keeping all rows: 89710 rows retained.\n"
     ]
    },
    {
     "name": "stdout",
     "output_type": "stream",
     "text": [
      "[INFO] Keeping all rows: 89710 rows retained.\n"
     ]
    },
    {
     "name": "stdout",
     "output_type": "stream",
     "text": [
      "[INFO] Keeping all rows: 89710 rows retained.\n"
     ]
    },
    {
     "name": "stdout",
     "output_type": "stream",
     "text": [
      "[INFO] Keeping all rows: 89710 rows retained.\n"
     ]
    },
    {
     "data": {
      "text/html": [
       "<div>\n",
       "<style scoped>\n",
       "    .dataframe tbody tr th:only-of-type {\n",
       "        vertical-align: middle;\n",
       "    }\n",
       "\n",
       "    .dataframe tbody tr th {\n",
       "        vertical-align: top;\n",
       "    }\n",
       "\n",
       "    .dataframe thead th {\n",
       "        text-align: right;\n",
       "    }\n",
       "</style>\n",
       "<table border=\"1\" class=\"dataframe\">\n",
       "  <thead>\n",
       "    <tr style=\"text-align: right;\">\n",
       "      <th></th>\n",
       "      <th>run_no</th>\n",
       "      <th>universe_id</th>\n",
       "      <th>universe_settings</th>\n",
       "      <th>execution_time</th>\n",
       "      <th>test_size_n</th>\n",
       "      <th>test_size_frac</th>\n",
       "      <th>fair_main_equalized_odds_difference</th>\n",
       "      <th>fair_main_equalized_odds_ratio</th>\n",
       "      <th>fair_main_demographic_parity_difference</th>\n",
       "      <th>fair_main_demographic_parity_ratio</th>\n",
       "      <th>...</th>\n",
       "      <th>perf_grp_precision_0</th>\n",
       "      <th>perf_grp_precision_1</th>\n",
       "      <th>perf_grp_false positive rate_0</th>\n",
       "      <th>perf_grp_false positive rate_1</th>\n",
       "      <th>perf_grp_false negative rate_0</th>\n",
       "      <th>perf_grp_false negative rate_1</th>\n",
       "      <th>perf_grp_selection rate_0</th>\n",
       "      <th>perf_grp_selection rate_1</th>\n",
       "      <th>perf_grp_count_0</th>\n",
       "      <th>perf_grp_count_1</th>\n",
       "    </tr>\n",
       "  </thead>\n",
       "  <tbody>\n",
       "    <tr>\n",
       "      <th>0</th>\n",
       "      <td>11</td>\n",
       "      <td>5ca320710bb1a22a5d5d90209b62fb9d</td>\n",
       "      <td>{\"cutoff\": \"quantile_0.1\", \"eval_fairness_grou...</td>\n",
       "      <td>27.181492</td>\n",
       "      <td>89710</td>\n",
       "      <td>1.0</td>\n",
       "      <td>0.097137</td>\n",
       "      <td>0.899323</td>\n",
       "      <td>0.087074</td>\n",
       "      <td>0.909968</td>\n",
       "      <td>...</td>\n",
       "      <td>NaN</td>\n",
       "      <td>NaN</td>\n",
       "      <td>NaN</td>\n",
       "      <td>NaN</td>\n",
       "      <td>NaN</td>\n",
       "      <td>NaN</td>\n",
       "      <td>NaN</td>\n",
       "      <td>NaN</td>\n",
       "      <td>NaN</td>\n",
       "      <td>NaN</td>\n",
       "    </tr>\n",
       "    <tr>\n",
       "      <th>0</th>\n",
       "      <td>11</td>\n",
       "      <td>5ca320710bb1a22a5d5d90209b62fb9d</td>\n",
       "      <td>{\"cutoff\": \"quantile_0.1\", \"eval_fairness_grou...</td>\n",
       "      <td>27.181492</td>\n",
       "      <td>89710</td>\n",
       "      <td>1.0</td>\n",
       "      <td>0.097137</td>\n",
       "      <td>0.899323</td>\n",
       "      <td>0.087074</td>\n",
       "      <td>0.909968</td>\n",
       "      <td>...</td>\n",
       "      <td>0.117392</td>\n",
       "      <td>0.144331</td>\n",
       "      <td>0.964836</td>\n",
       "      <td>0.867699</td>\n",
       "      <td>0.015203</td>\n",
       "      <td>0.038731</td>\n",
       "      <td>0.967137</td>\n",
       "      <td>0.880064</td>\n",
       "      <td>20540.0</td>\n",
       "      <td>69170.0</td>\n",
       "    </tr>\n",
       "    <tr>\n",
       "      <th>0</th>\n",
       "      <td>11</td>\n",
       "      <td>5ca320710bb1a22a5d5d90209b62fb9d</td>\n",
       "      <td>{\"cutoff\": \"quantile_0.25\", \"eval_fairness_gro...</td>\n",
       "      <td>27.181492</td>\n",
       "      <td>89710</td>\n",
       "      <td>1.0</td>\n",
       "      <td>0.218589</td>\n",
       "      <td>0.756501</td>\n",
       "      <td>0.199412</td>\n",
       "      <td>0.779351</td>\n",
       "      <td>...</td>\n",
       "      <td>NaN</td>\n",
       "      <td>NaN</td>\n",
       "      <td>NaN</td>\n",
       "      <td>NaN</td>\n",
       "      <td>NaN</td>\n",
       "      <td>NaN</td>\n",
       "      <td>NaN</td>\n",
       "      <td>NaN</td>\n",
       "      <td>NaN</td>\n",
       "      <td>NaN</td>\n",
       "    </tr>\n",
       "    <tr>\n",
       "      <th>0</th>\n",
       "      <td>11</td>\n",
       "      <td>5ca320710bb1a22a5d5d90209b62fb9d</td>\n",
       "      <td>{\"cutoff\": \"quantile_0.25\", \"eval_fairness_gro...</td>\n",
       "      <td>27.181492</td>\n",
       "      <td>89710</td>\n",
       "      <td>1.0</td>\n",
       "      <td>0.218589</td>\n",
       "      <td>0.756501</td>\n",
       "      <td>0.199412</td>\n",
       "      <td>0.779351</td>\n",
       "      <td>...</td>\n",
       "      <td>0.121209</td>\n",
       "      <td>0.163222</td>\n",
       "      <td>0.897700</td>\n",
       "      <td>0.679110</td>\n",
       "      <td>0.049831</td>\n",
       "      <td>0.129978</td>\n",
       "      <td>0.903749</td>\n",
       "      <td>0.704337</td>\n",
       "      <td>20540.0</td>\n",
       "      <td>69170.0</td>\n",
       "    </tr>\n",
       "  </tbody>\n",
       "</table>\n",
       "<p>4 rows × 50 columns</p>\n",
       "</div>"
      ],
      "text/plain": [
       "  run_no                       universe_id  \\\n",
       "0     11  5ca320710bb1a22a5d5d90209b62fb9d   \n",
       "0     11  5ca320710bb1a22a5d5d90209b62fb9d   \n",
       "0     11  5ca320710bb1a22a5d5d90209b62fb9d   \n",
       "0     11  5ca320710bb1a22a5d5d90209b62fb9d   \n",
       "\n",
       "                                   universe_settings  execution_time  \\\n",
       "0  {\"cutoff\": \"quantile_0.1\", \"eval_fairness_grou...       27.181492   \n",
       "0  {\"cutoff\": \"quantile_0.1\", \"eval_fairness_grou...       27.181492   \n",
       "0  {\"cutoff\": \"quantile_0.25\", \"eval_fairness_gro...       27.181492   \n",
       "0  {\"cutoff\": \"quantile_0.25\", \"eval_fairness_gro...       27.181492   \n",
       "\n",
       "   test_size_n  test_size_frac  fair_main_equalized_odds_difference  \\\n",
       "0        89710             1.0                             0.097137   \n",
       "0        89710             1.0                             0.097137   \n",
       "0        89710             1.0                             0.218589   \n",
       "0        89710             1.0                             0.218589   \n",
       "\n",
       "   fair_main_equalized_odds_ratio  fair_main_demographic_parity_difference  \\\n",
       "0                        0.899323                                 0.087074   \n",
       "0                        0.899323                                 0.087074   \n",
       "0                        0.756501                                 0.199412   \n",
       "0                        0.756501                                 0.199412   \n",
       "\n",
       "   fair_main_demographic_parity_ratio  ...  perf_grp_precision_0  \\\n",
       "0                            0.909968  ...                   NaN   \n",
       "0                            0.909968  ...              0.117392   \n",
       "0                            0.779351  ...                   NaN   \n",
       "0                            0.779351  ...              0.121209   \n",
       "\n",
       "   perf_grp_precision_1  perf_grp_false positive rate_0  \\\n",
       "0                   NaN                             NaN   \n",
       "0              0.144331                        0.964836   \n",
       "0                   NaN                             NaN   \n",
       "0              0.163222                        0.897700   \n",
       "\n",
       "   perf_grp_false positive rate_1  perf_grp_false negative rate_0  \\\n",
       "0                             NaN                             NaN   \n",
       "0                        0.867699                        0.015203   \n",
       "0                             NaN                             NaN   \n",
       "0                        0.679110                        0.049831   \n",
       "\n",
       "   perf_grp_false negative rate_1  perf_grp_selection rate_0  \\\n",
       "0                             NaN                        NaN   \n",
       "0                        0.038731                   0.967137   \n",
       "0                             NaN                        NaN   \n",
       "0                        0.129978                   0.903749   \n",
       "\n",
       "   perf_grp_selection rate_1  perf_grp_count_0  perf_grp_count_1  \n",
       "0                        NaN               NaN               NaN  \n",
       "0                   0.880064           20540.0           69170.0  \n",
       "0                        NaN               NaN               NaN  \n",
       "0                   0.704337           20540.0           69170.0  \n",
       "\n",
       "[4 rows x 50 columns]"
      ]
     },
     "execution_count": 72,
     "metadata": {},
     "output_type": "execute_result"
    }
   ],
   "source": [
    "final_output = universe_analysis.generate_final_output(\n",
    "    y_pred_prob=probs_test,\n",
    "    y_test=y_true,\n",
    "    org_test=org_test,\n",
    "    filter_data=filter_sub_universe_data,\n",
    "    cp_metrics_df=cp_metrics_df,\n",
    "    save=True,\n",
    ")\n",
    "final_output"
   ]
  },
  {
   "cell_type": "code",
   "execution_count": null,
   "id": "721ff514-cb11-46f8-b6fc-50392f74b5cb",
   "metadata": {
    "papermill": {
     "duration": 0.015987,
     "end_time": "2025-07-28T10:37:00.398149",
     "exception": false,
     "start_time": "2025-07-28T10:37:00.382162",
     "status": "completed"
    },
    "tags": []
   },
   "outputs": [],
   "source": []
  }
 ],
 "metadata": {
  "celltoolbar": "Tags",
  "kernelspec": {
   "display_name": "Python (CMA Fairness)",
   "language": "python",
   "name": "cma_fair_env"
  },
  "language_info": {
   "codemirror_mode": {
    "name": "ipython",
    "version": 3
   },
   "file_extension": ".py",
   "mimetype": "text/x-python",
   "name": "python",
   "nbconvert_exporter": "python",
   "pygments_lexer": "ipython3",
   "version": "3.10.12"
  },
  "papermill": {
   "default_parameters": {},
   "duration": 43.444079,
   "end_time": "2025-07-28T10:37:01.134202",
   "environment_variables": {},
   "exception": null,
   "input_path": "universe_analysis.ipynb",
   "output_path": "output/runs/11/notebooks/m_11-5ca320710bb1a22a5d5d90209b62fb9d.ipynb",
   "parameters": {
    "output_dir": "output",
    "run_no": "11",
    "seed": "2023",
    "universe": "{\"cutoff\": [\"quantile_0.1\", \"quantile_0.25\"], \"eval_fairness_grouping\": [\"majority-minority\", \"nationality-all\"], \"exclude_features\": \"nationality-sex\", \"exclude_subgroups\": \"keep-all\", \"model\": \"penalized_logreg\", \"scale\": \"do-not-scale\", \"training_size\": \"5k\"}",
    "universe_id": "5ca320710bb1a22a5d5d90209b62fb9d"
   },
   "start_time": "2025-07-28T10:36:17.690123",
   "version": "2.6.0"
  }
 },
 "nbformat": 4,
 "nbformat_minor": 5
}