{
 "cells": [
  {
   "cell_type": "code",
   "execution_count": 1,
   "id": "f159f837-637b-42ba-96b5-ec9a68c44524",
   "metadata": {
    "execution": {
     "iopub.execute_input": "2025-07-28T10:51:23.604740Z",
     "iopub.status.busy": "2025-07-28T10:51:23.604261Z",
     "iopub.status.idle": "2025-07-28T10:51:23.619667Z",
     "shell.execute_reply": "2025-07-28T10:51:23.618567Z"
    },
    "papermill": {
     "duration": 0.037578,
     "end_time": "2025-07-28T10:51:23.621835",
     "exception": false,
     "start_time": "2025-07-28T10:51:23.584257",
     "status": "completed"
    },
    "tags": []
   },
   "outputs": [
    {
     "name": "stdout",
     "output_type": "stream",
     "text": [
      "/dss/dsshome1/0C/ra93lal2/cma/CMA_Fairness_v2\n"
     ]
    },
    {
     "name": "stderr",
     "output_type": "stream",
     "text": [
      "/dss/dsshome1/0C/ra93lal2/.local/share/virtualenvs/CMA_Fairness_v2-3j10GkSs/lib/python3.10/site-packages/IPython/core/magics/osm.py:393: UserWarning: This is now an optional IPython functionality, using bookmarks requires you to install the `pickleshare` library.\n",
      "  bkms = self.shell.db.get('bookmarks', {})\n",
      "/dss/dsshome1/0C/ra93lal2/.local/share/virtualenvs/CMA_Fairness_v2-3j10GkSs/lib/python3.10/site-packages/IPython/core/magics/osm.py:417: UserWarning: This is now an optional IPython functionality, setting dhist requires you to install the `pickleshare` library.\n",
      "  self.shell.db['dhist'] = compress_dhist(dhist)[-100:]\n"
     ]
    }
   ],
   "source": [
    "%cd ~/cma/CMA_Fairness_v2"
   ]
  },
  {
   "cell_type": "markdown",
   "id": "de2603b9",
   "metadata": {
    "papermill": {
     "duration": 0.024961,
     "end_time": "2025-07-28T10:51:23.671620",
     "exception": false,
     "start_time": "2025-07-28T10:51:23.646659",
     "status": "completed"
    },
    "tags": []
   },
   "source": [
    "The following cell holds the definition of our parameters, these values can be overriden by rendering the with e.g. the following command:\n",
    "\n",
    "papermill -p alpha 0.2 -p ratio 0.3 universe_analysis.ipynb output/test_run.ipynb"
   ]
  },
  {
   "cell_type": "code",
   "execution_count": 2,
   "id": "a80968a0-40bb-4fa9-85ef-2d5eefb01975",
   "metadata": {
    "execution": {
     "iopub.execute_input": "2025-07-28T10:51:23.723778Z",
     "iopub.status.busy": "2025-07-28T10:51:23.723253Z",
     "iopub.status.idle": "2025-07-28T10:51:23.729070Z",
     "shell.execute_reply": "2025-07-28T10:51:23.728206Z"
    },
    "papermill": {
     "duration": 0.034087,
     "end_time": "2025-07-28T10:51:23.731125",
     "exception": false,
     "start_time": "2025-07-28T10:51:23.697038",
     "status": "completed"
    },
    "tags": []
   },
   "outputs": [
    {
     "name": "stdout",
     "output_type": "stream",
     "text": [
      "Current working directory: /dss/dsshome1/0C/ra93lal2/cma/CMA_Fairness_v2\n"
     ]
    }
   ],
   "source": [
    "import os\n",
    "print(\"Current working directory:\", os.getcwd())"
   ]
  },
  {
   "cell_type": "code",
   "execution_count": 3,
   "id": "2dce4c03",
   "metadata": {
    "execution": {
     "iopub.execute_input": "2025-07-28T10:51:23.782556Z",
     "iopub.status.busy": "2025-07-28T10:51:23.782077Z",
     "iopub.status.idle": "2025-07-28T10:51:23.788632Z",
     "shell.execute_reply": "2025-07-28T10:51:23.787771Z"
    },
    "papermill": {
     "duration": 0.033802,
     "end_time": "2025-07-28T10:51:23.790428",
     "exception": false,
     "start_time": "2025-07-28T10:51:23.756626",
     "status": "completed"
    },
    "tags": [
     "parameters"
    ]
   },
   "outputs": [],
   "source": [
    "run_no = 0\n",
    "universe_id = \"test\"\n",
    "universe = {\n",
    "    \"training_size\": \"2014\", # \"25k\", \"5k\", \"1k\", \"2014\"\n",
    "    \"scale\": \"scale\", # \"scale\", \"do-not-scale\",\n",
    "    #\"stratify_split\": \"target\", # \"none\", \"target\", \"protected-attribute\", \"both\",\n",
    "    \"model\": \"elasticnet\", # \"logreg\", \"penalized_logreg\", \"rf\", \"gbm\", \"elasticnet\"\n",
    "    \"cutoff\": [\"quantile_0.15\", \"quantile_0.30\"],\n",
    "    \"exclude_features\": \"age\", # \"none\", \"nationality\", \"sex\", \"nationality-sex\", \"age\"\n",
    "    \"exclude_subgroups\": \"keep-all\", # \"keep-all\", \"drop-non-german\"\n",
    "    \"eval_fairness_grouping\": [\"majority-minority\", \"nationality-all\"]\n",
    "}\n",
    "\n",
    "output_dir=\"./output\"\n",
    "seed=0"
   ]
  },
  {
   "cell_type": "code",
   "execution_count": 4,
   "id": "2722e3a2",
   "metadata": {
    "execution": {
     "iopub.execute_input": "2025-07-28T10:51:23.842223Z",
     "iopub.status.busy": "2025-07-28T10:51:23.841484Z",
     "iopub.status.idle": "2025-07-28T10:51:23.848572Z",
     "shell.execute_reply": "2025-07-28T10:51:23.847381Z"
    },
    "papermill": {
     "duration": 0.034608,
     "end_time": "2025-07-28T10:51:23.850465",
     "exception": false,
     "start_time": "2025-07-28T10:51:23.815857",
     "status": "completed"
    },
    "tags": [
     "injected-parameters"
    ]
   },
   "outputs": [],
   "source": [
    "# Parameters\n",
    "universe_id = \"ac9967fbb63def9efc00d712a9813295\"\n",
    "run_no = \"11\"\n",
    "universe = \"{\\\"cutoff\\\": [\\\"quantile_0.1\\\", \\\"quantile_0.25\\\"], \\\"eval_fairness_grouping\\\": [\\\"majority-minority\\\", \\\"nationality-all\\\"], \\\"exclude_features\\\": \\\"age\\\", \\\"exclude_subgroups\\\": \\\"keep-all\\\", \\\"model\\\": \\\"gbm\\\", \\\"scale\\\": \\\"do-not-scale\\\", \\\"training_size\\\": \\\"1k\\\"}\"\n",
    "output_dir = \"output\"\n",
    "seed = \"2023\"\n"
   ]
  },
  {
   "cell_type": "code",
   "execution_count": 5,
   "id": "1650acaf",
   "metadata": {
    "execution": {
     "iopub.execute_input": "2025-07-28T10:51:23.890540Z",
     "iopub.status.busy": "2025-07-28T10:51:23.890040Z",
     "iopub.status.idle": "2025-07-28T10:51:23.895543Z",
     "shell.execute_reply": "2025-07-28T10:51:23.894588Z"
    },
    "papermill": {
     "duration": 0.028657,
     "end_time": "2025-07-28T10:51:23.897374",
     "exception": false,
     "start_time": "2025-07-28T10:51:23.868717",
     "status": "completed"
    },
    "tags": []
   },
   "outputs": [],
   "source": [
    "import json\n",
    "# Parse universe into dict if it is passed as a string\n",
    "if isinstance(universe, str):\n",
    "    universe = json.loads(universe)"
   ]
  },
  {
   "cell_type": "code",
   "execution_count": 6,
   "id": "16620c48",
   "metadata": {
    "execution": {
     "iopub.execute_input": "2025-07-28T10:51:23.937239Z",
     "iopub.status.busy": "2025-07-28T10:51:23.936546Z",
     "iopub.status.idle": "2025-07-28T10:51:23.986822Z",
     "shell.execute_reply": "2025-07-28T10:51:23.985810Z"
    },
    "papermill": {
     "duration": 0.072261,
     "end_time": "2025-07-28T10:51:23.989021",
     "exception": false,
     "start_time": "2025-07-28T10:51:23.916760",
     "status": "completed"
    },
    "tags": []
   },
   "outputs": [],
   "source": [
    "# Auto-reload the custom package\n",
    "%load_ext autoreload\n",
    "%autoreload 1\n",
    "%aimport fairness_multiverse"
   ]
  },
  {
   "cell_type": "code",
   "execution_count": 7,
   "id": "01c5c9f3",
   "metadata": {
    "execution": {
     "iopub.execute_input": "2025-07-28T10:51:24.029177Z",
     "iopub.status.busy": "2025-07-28T10:51:24.028292Z",
     "iopub.status.idle": "2025-07-28T10:51:26.053126Z",
     "shell.execute_reply": "2025-07-28T10:51:26.051980Z"
    },
    "papermill": {
     "duration": 2.046964,
     "end_time": "2025-07-28T10:51:26.055760",
     "exception": false,
     "start_time": "2025-07-28T10:51:24.008796",
     "status": "completed"
    },
    "tags": []
   },
   "outputs": [],
   "source": [
    "from fairness_multiverse.universe import UniverseAnalysis\n",
    "\n",
    "universe_analysis = UniverseAnalysis(\n",
    "    run_no = run_no,\n",
    "    universe_id = universe_id,\n",
    "    universe = universe,\n",
    "    output_dir=output_dir,\n",
    ")"
   ]
  },
  {
   "cell_type": "code",
   "execution_count": 8,
   "id": "106241f5",
   "metadata": {
    "execution": {
     "iopub.execute_input": "2025-07-28T10:51:26.106066Z",
     "iopub.status.busy": "2025-07-28T10:51:26.105380Z",
     "iopub.status.idle": "2025-07-28T10:51:26.112772Z",
     "shell.execute_reply": "2025-07-28T10:51:26.111561Z"
    },
    "papermill": {
     "duration": 0.029881,
     "end_time": "2025-07-28T10:51:26.114477",
     "exception": false,
     "start_time": "2025-07-28T10:51:26.084596",
     "status": "completed"
    },
    "tags": []
   },
   "outputs": [
    {
     "name": "stdout",
     "output_type": "stream",
     "text": [
      "Using Seed: 2023\n"
     ]
    }
   ],
   "source": [
    "import numpy as np\n",
    "parsed_seed = int(seed)\n",
    "np.random.seed(parsed_seed)\n",
    "print(f\"Using Seed: {parsed_seed}\")"
   ]
  },
  {
   "cell_type": "markdown",
   "id": "e0ebdc57",
   "metadata": {
    "papermill": {
     "duration": 0.020577,
     "end_time": "2025-07-28T10:51:26.156872",
     "exception": false,
     "start_time": "2025-07-28T10:51:26.136295",
     "status": "completed"
    },
    "tags": []
   },
   "source": [
    "# Loading Data"
   ]
  },
  {
   "cell_type": "markdown",
   "id": "681925a3",
   "metadata": {
    "papermill": {
     "duration": 0.020248,
     "end_time": "2025-07-28T10:51:26.196834",
     "exception": false,
     "start_time": "2025-07-28T10:51:26.176586",
     "status": "completed"
    },
    "tags": []
   },
   "source": [
    "Load siab_train, siab_test, siab_calib and/or \n",
    "load siab_train_features, siab_train_labels"
   ]
  },
  {
   "cell_type": "code",
   "execution_count": 9,
   "id": "f0496b8a",
   "metadata": {
    "execution": {
     "iopub.execute_input": "2025-07-28T10:51:26.237697Z",
     "iopub.status.busy": "2025-07-28T10:51:26.236986Z",
     "iopub.status.idle": "2025-07-28T10:51:38.485966Z",
     "shell.execute_reply": "2025-07-28T10:51:38.484393Z"
    },
    "papermill": {
     "duration": 12.271714,
     "end_time": "2025-07-28T10:51:38.487731",
     "exception": false,
     "start_time": "2025-07-28T10:51:26.216017",
     "status": "completed"
    },
    "tags": []
   },
   "outputs": [
    {
     "name": "stdout",
     "output_type": "stream",
     "text": [
      "Loading SIAB data from cache: data/siab_cached.csv.gz\n"
     ]
    },
    {
     "name": "stdout",
     "output_type": "stream",
     "text": [
      "(643690, 164)\n"
     ]
    }
   ],
   "source": [
    "from pathlib import Path\n",
    "import pandas as pd\n",
    "\n",
    "# File paths\n",
    "raw_file = Path(\"data/raw/siab.csv\")\n",
    "cache_file = Path(\"data/siab_cached.csv.gz\")\n",
    "\n",
    "# Ensure cache directory exists\n",
    "cache_file.parent.mkdir(parents=True, exist_ok=True)\n",
    "\n",
    "# Load with simple caching\n",
    "if cache_file.exists():\n",
    "    print(f\"Loading SIAB data from cache: {cache_file}\")\n",
    "    siab = pd.read_csv(cache_file, compression='gzip')\n",
    "else:\n",
    "    print(f\"Cache not found. Reading raw SIAB data: {raw_file}\")\n",
    "    siab = pd.read_csv(raw_file)\n",
    "    siab.to_csv(cache_file, index=False, compression='gzip')\n",
    "    print(f\"Cached SIAB data to: {cache_file}\")\n",
    "\n",
    "# Now use `siab` DataFrame as needed\n",
    "print(siab.shape)"
   ]
  },
  {
   "cell_type": "code",
   "execution_count": 10,
   "id": "db0ca512-5f53-4dba-abdb-a2888bca41ba",
   "metadata": {
    "execution": {
     "iopub.execute_input": "2025-07-28T10:51:38.535189Z",
     "iopub.status.busy": "2025-07-28T10:51:38.534638Z",
     "iopub.status.idle": "2025-07-28T10:51:38.540756Z",
     "shell.execute_reply": "2025-07-28T10:51:38.539752Z"
    },
    "papermill": {
     "duration": 0.030514,
     "end_time": "2025-07-28T10:51:38.542522",
     "exception": false,
     "start_time": "2025-07-28T10:51:38.512008",
     "status": "completed"
    },
    "tags": []
   },
   "outputs": [],
   "source": [
    "#siab"
   ]
  },
  {
   "cell_type": "code",
   "execution_count": 11,
   "id": "a0edb063",
   "metadata": {
    "execution": {
     "iopub.execute_input": "2025-07-28T10:51:38.588918Z",
     "iopub.status.busy": "2025-07-28T10:51:38.587982Z",
     "iopub.status.idle": "2025-07-28T10:51:38.594062Z",
     "shell.execute_reply": "2025-07-28T10:51:38.593121Z"
    },
    "papermill": {
     "duration": 0.031155,
     "end_time": "2025-07-28T10:51:38.595635",
     "exception": false,
     "start_time": "2025-07-28T10:51:38.564480",
     "status": "completed"
    },
    "tags": []
   },
   "outputs": [],
   "source": [
    "#import pandas as pd\n",
    "#\n",
    "#X_train = pd.read_csv(\"./data/X_train.csv\")\n",
    "#y_train = pd.read_csv(\"./data/y_train.csv\")"
   ]
  },
  {
   "cell_type": "code",
   "execution_count": 12,
   "id": "63d08085",
   "metadata": {
    "execution": {
     "iopub.execute_input": "2025-07-28T10:51:38.636596Z",
     "iopub.status.busy": "2025-07-28T10:51:38.635965Z",
     "iopub.status.idle": "2025-07-28T10:51:38.641515Z",
     "shell.execute_reply": "2025-07-28T10:51:38.640447Z"
    },
    "papermill": {
     "duration": 0.02793,
     "end_time": "2025-07-28T10:51:38.643386",
     "exception": false,
     "start_time": "2025-07-28T10:51:38.615456",
     "status": "completed"
    },
    "tags": []
   },
   "outputs": [],
   "source": [
    "#X_test = pd.read_csv(\"./data/X_test.csv\")\n",
    "#y_true = pd.read_csv(\"./data/y_test.csv\")"
   ]
  },
  {
   "cell_type": "code",
   "execution_count": 13,
   "id": "98a8d0fa-1d3d-4ed8-bb2c-281470e24add",
   "metadata": {
    "execution": {
     "iopub.execute_input": "2025-07-28T10:51:38.687181Z",
     "iopub.status.busy": "2025-07-28T10:51:38.686692Z",
     "iopub.status.idle": "2025-07-28T10:51:38.691733Z",
     "shell.execute_reply": "2025-07-28T10:51:38.690707Z"
    },
    "papermill": {
     "duration": 0.028017,
     "end_time": "2025-07-28T10:51:38.693224",
     "exception": false,
     "start_time": "2025-07-28T10:51:38.665207",
     "status": "completed"
    },
    "tags": []
   },
   "outputs": [],
   "source": [
    "# Calibration data for conformal\n",
    "#X_calib = pd.read_csv(\"./data/X_calib.csv\")\n",
    "#y_calib = pd.read_csv(\"./data/y_calib.csv\")"
   ]
  },
  {
   "cell_type": "markdown",
   "id": "9901737e-04df-44f0-9100-f5ad144ed040",
   "metadata": {
    "papermill": {
     "duration": 0.021906,
     "end_time": "2025-07-28T10:51:38.736578",
     "exception": false,
     "start_time": "2025-07-28T10:51:38.714672",
     "status": "completed"
    },
    "tags": []
   },
   "source": [
    "# Splitting Data and Setting Training Data Size"
   ]
  },
  {
   "cell_type": "code",
   "execution_count": 14,
   "id": "acbc8f7d-8fc8-4e86-8c59-5dcb0f58384b",
   "metadata": {
    "execution": {
     "iopub.execute_input": "2025-07-28T10:51:38.778915Z",
     "iopub.status.busy": "2025-07-28T10:51:38.778531Z",
     "iopub.status.idle": "2025-07-28T10:51:38.784541Z",
     "shell.execute_reply": "2025-07-28T10:51:38.783787Z"
    },
    "papermill": {
     "duration": 0.028374,
     "end_time": "2025-07-28T10:51:38.786258",
     "exception": false,
     "start_time": "2025-07-28T10:51:38.757884",
     "status": "completed"
    },
    "tags": []
   },
   "outputs": [],
   "source": [
    "def sample_by_year(df, training_size, random_state=42):\n",
    "    if training_size == \"2014\":\n",
    "        return df[df[\"year\"] == 2014].reset_index(drop=True)\n",
    "    \n",
    "    size_map = {\n",
    "        \"25k\": 5000,\n",
    "        \"5k\": 1000,\n",
    "        \"1k\": 200\n",
    "    }\n",
    "\n",
    "    if training_size not in size_map:\n",
    "        return df.reset_index(drop=True)  # use all data\n",
    "\n",
    "    n_per_year = size_map[training_size]\n",
    "    grouped = df.groupby(\"year\")\n",
    "    sampled = grouped.apply(lambda x: x.sample(n=min(n_per_year, len(x)), random_state=random_state))\n",
    "    return sampled.reset_index(drop=True)"
   ]
  },
  {
   "cell_type": "code",
   "execution_count": 15,
   "id": "6d931f52-beaf-43ff-9e78-9d44a448d54e",
   "metadata": {
    "execution": {
     "iopub.execute_input": "2025-07-28T10:51:38.831646Z",
     "iopub.status.busy": "2025-07-28T10:51:38.830948Z",
     "iopub.status.idle": "2025-07-28T10:51:39.493723Z",
     "shell.execute_reply": "2025-07-28T10:51:39.492249Z"
    },
    "papermill": {
     "duration": 0.688065,
     "end_time": "2025-07-28T10:51:39.496134",
     "exception": false,
     "start_time": "2025-07-28T10:51:38.808069",
     "status": "completed"
    },
    "tags": []
   },
   "outputs": [],
   "source": [
    "siab_s = sample_by_year(siab, universe[\"training_size\"])"
   ]
  },
  {
   "cell_type": "code",
   "execution_count": 16,
   "id": "5db0a40e-a4e2-4920-be85-b12ae061d70d",
   "metadata": {
    "execution": {
     "iopub.execute_input": "2025-07-28T10:51:39.545326Z",
     "iopub.status.busy": "2025-07-28T10:51:39.544874Z",
     "iopub.status.idle": "2025-07-28T10:51:39.559892Z",
     "shell.execute_reply": "2025-07-28T10:51:39.558832Z"
    },
    "papermill": {
     "duration": 0.043243,
     "end_time": "2025-07-28T10:51:39.561789",
     "exception": false,
     "start_time": "2025-07-28T10:51:39.518546",
     "status": "completed"
    },
    "tags": []
   },
   "outputs": [
    {
     "data": {
      "text/plain": [
       "year\n",
       "2010    200\n",
       "2011    200\n",
       "2012    200\n",
       "2013    200\n",
       "2014    200\n",
       "2015    200\n",
       "2016    200\n",
       "dtype: int64"
      ]
     },
     "metadata": {},
     "output_type": "display_data"
    }
   ],
   "source": [
    "display(siab_s.groupby(\"year\").size())"
   ]
  },
  {
   "cell_type": "code",
   "execution_count": 17,
   "id": "a561edb4-d032-42cb-8256-22eac1111c64",
   "metadata": {
    "execution": {
     "iopub.execute_input": "2025-07-28T10:51:39.608540Z",
     "iopub.status.busy": "2025-07-28T10:51:39.607789Z",
     "iopub.status.idle": "2025-07-28T10:51:39.861921Z",
     "shell.execute_reply": "2025-07-28T10:51:39.860951Z"
    },
    "papermill": {
     "duration": 0.278814,
     "end_time": "2025-07-28T10:51:39.863757",
     "exception": false,
     "start_time": "2025-07-28T10:51:39.584943",
     "status": "completed"
    },
    "tags": []
   },
   "outputs": [],
   "source": [
    "siab_train = siab_s[siab_s.year < 2015]\n",
    "siab_calib = siab[siab.year == 2015]\n",
    "siab_test = siab[siab.year == 2016]"
   ]
  },
  {
   "cell_type": "code",
   "execution_count": 18,
   "id": "472de16f-c3db-4916-846b-1f0de9cf1746",
   "metadata": {
    "execution": {
     "iopub.execute_input": "2025-07-28T10:51:39.908970Z",
     "iopub.status.busy": "2025-07-28T10:51:39.908213Z",
     "iopub.status.idle": "2025-07-28T10:51:39.915276Z",
     "shell.execute_reply": "2025-07-28T10:51:39.914340Z"
    },
    "papermill": {
     "duration": 0.03165,
     "end_time": "2025-07-28T10:51:39.917051",
     "exception": false,
     "start_time": "2025-07-28T10:51:39.885401",
     "status": "completed"
    },
    "tags": []
   },
   "outputs": [],
   "source": [
    "X_train = siab_train.iloc[:,4:164]\n",
    "y_train = siab_train.iloc[:, [3]]"
   ]
  },
  {
   "cell_type": "code",
   "execution_count": 19,
   "id": "828c96af-f43a-4ed6-ba47-8ac73a47d56c",
   "metadata": {
    "execution": {
     "iopub.execute_input": "2025-07-28T10:51:39.949943Z",
     "iopub.status.busy": "2025-07-28T10:51:39.949478Z",
     "iopub.status.idle": "2025-07-28T10:51:40.003756Z",
     "shell.execute_reply": "2025-07-28T10:51:40.002835Z"
    },
    "papermill": {
     "duration": 0.067581,
     "end_time": "2025-07-28T10:51:40.005246",
     "exception": false,
     "start_time": "2025-07-28T10:51:39.937665",
     "status": "completed"
    },
    "tags": []
   },
   "outputs": [],
   "source": [
    "X_calib = siab_calib.iloc[:,4:164]\n",
    "y_calib = siab_calib.iloc[:, [3]]"
   ]
  },
  {
   "cell_type": "code",
   "execution_count": 20,
   "id": "c34be9c3-6bd6-476e-acd3-845840e303be",
   "metadata": {
    "execution": {
     "iopub.execute_input": "2025-07-28T10:51:40.028934Z",
     "iopub.status.busy": "2025-07-28T10:51:40.028531Z",
     "iopub.status.idle": "2025-07-28T10:51:40.088486Z",
     "shell.execute_reply": "2025-07-28T10:51:40.083200Z"
    },
    "papermill": {
     "duration": 0.072971,
     "end_time": "2025-07-28T10:51:40.089998",
     "exception": false,
     "start_time": "2025-07-28T10:51:40.017027",
     "status": "completed"
    },
    "tags": []
   },
   "outputs": [],
   "source": [
    "X_test = siab_test.iloc[:,4:164]\n",
    "y_true = siab_test.iloc[:, [3]]"
   ]
  },
  {
   "cell_type": "code",
   "execution_count": 21,
   "id": "e6c733c5",
   "metadata": {
    "execution": {
     "iopub.execute_input": "2025-07-28T10:51:40.132279Z",
     "iopub.status.busy": "2025-07-28T10:51:40.131681Z",
     "iopub.status.idle": "2025-07-28T10:51:40.232625Z",
     "shell.execute_reply": "2025-07-28T10:51:40.231586Z"
    },
    "papermill": {
     "duration": 0.124075,
     "end_time": "2025-07-28T10:51:40.234713",
     "exception": false,
     "start_time": "2025-07-28T10:51:40.110638",
     "status": "completed"
    },
    "tags": []
   },
   "outputs": [],
   "source": [
    "# Auxiliary data needed downstream in the pipeline\n",
    "\n",
    "org_train = X_train.copy()\n",
    "org_test = X_test.copy()\n",
    "org_calib = X_calib.copy()"
   ]
  },
  {
   "cell_type": "markdown",
   "id": "0a4a1b33",
   "metadata": {
    "papermill": {
     "duration": 0.020907,
     "end_time": "2025-07-28T10:51:40.276857",
     "exception": false,
     "start_time": "2025-07-28T10:51:40.255950",
     "status": "completed"
    },
    "tags": []
   },
   "source": [
    "# Preprocessing Data"
   ]
  },
  {
   "cell_type": "code",
   "execution_count": 22,
   "id": "ca879031",
   "metadata": {
    "execution": {
     "iopub.execute_input": "2025-07-28T10:51:40.315620Z",
     "iopub.status.busy": "2025-07-28T10:51:40.315118Z",
     "iopub.status.idle": "2025-07-28T10:51:40.321408Z",
     "shell.execute_reply": "2025-07-28T10:51:40.320330Z"
    },
    "papermill": {
     "duration": 0.024995,
     "end_time": "2025-07-28T10:51:40.323577",
     "exception": false,
     "start_time": "2025-07-28T10:51:40.298582",
     "status": "completed"
    },
    "tags": []
   },
   "outputs": [],
   "source": [
    "# EXCLUDE PROTECTED FEATURES\n",
    "# ----------------------\n",
    "# \"exclude_features\": \"none\", # \"nationality\", \"sex\", \"nationality-sex\"\n",
    "\n",
    "excluded_features = universe[\"exclude_features\"].split(\"-\") # split, e.g.: \"nationality-sex\" -> [\"nationality\", \"sex\"]\n",
    "excluded_features_dictionary = {\n",
    "    \"nationality\": [\"maxdeutsch1\", \"maxdeutsch.Missing.\"],\n",
    "    \"sex\": [\"frau1\"],\n",
    "    \"age\": [\"age\"],\n",
    "}\n"
   ]
  },
  {
   "cell_type": "code",
   "execution_count": 23,
   "id": "b745ac60",
   "metadata": {
    "execution": {
     "iopub.execute_input": "2025-07-28T10:51:40.370124Z",
     "iopub.status.busy": "2025-07-28T10:51:40.369224Z",
     "iopub.status.idle": "2025-07-28T10:51:40.375685Z",
     "shell.execute_reply": "2025-07-28T10:51:40.374589Z"
    },
    "papermill": {
     "duration": 0.030944,
     "end_time": "2025-07-28T10:51:40.377341",
     "exception": false,
     "start_time": "2025-07-28T10:51:40.346397",
     "status": "completed"
    },
    "tags": []
   },
   "outputs": [],
   "source": [
    "# Code nice names to column names\n",
    "\n",
    "excluded_features_columns = [\n",
    "    excluded_features_dictionary[f] for f in excluded_features if len(f) > 0 and f != \"none\"\n",
    "]"
   ]
  },
  {
   "cell_type": "code",
   "execution_count": 24,
   "id": "f84f73a2",
   "metadata": {
    "execution": {
     "iopub.execute_input": "2025-07-28T10:51:40.424643Z",
     "iopub.status.busy": "2025-07-28T10:51:40.424145Z",
     "iopub.status.idle": "2025-07-28T10:51:40.431710Z",
     "shell.execute_reply": "2025-07-28T10:51:40.430694Z"
    },
    "papermill": {
     "duration": 0.034026,
     "end_time": "2025-07-28T10:51:40.433609",
     "exception": false,
     "start_time": "2025-07-28T10:51:40.399583",
     "status": "completed"
    },
    "tags": []
   },
   "outputs": [],
   "source": [
    "from utils import flatten_once\n",
    "\n",
    "excluded_features_columns = flatten_once(excluded_features_columns)"
   ]
  },
  {
   "cell_type": "code",
   "execution_count": 25,
   "id": "884dea22",
   "metadata": {
    "execution": {
     "iopub.execute_input": "2025-07-28T10:51:40.481400Z",
     "iopub.status.busy": "2025-07-28T10:51:40.480907Z",
     "iopub.status.idle": "2025-07-28T10:51:40.489442Z",
     "shell.execute_reply": "2025-07-28T10:51:40.488347Z"
    },
    "papermill": {
     "duration": 0.034778,
     "end_time": "2025-07-28T10:51:40.491170",
     "exception": false,
     "start_time": "2025-07-28T10:51:40.456392",
     "status": "completed"
    },
    "tags": []
   },
   "outputs": [
    {
     "name": "stdout",
     "output_type": "stream",
     "text": [
      "Dropping features: ['age']\n"
     ]
    }
   ],
   "source": [
    "if len(excluded_features_columns) > 0:\n",
    "    print(f\"Dropping features: {excluded_features_columns}\")\n",
    "    X_train.drop(excluded_features_columns, axis=1, inplace=True)"
   ]
  },
  {
   "cell_type": "code",
   "execution_count": 26,
   "id": "95ab8b16",
   "metadata": {
    "execution": {
     "iopub.execute_input": "2025-07-28T10:51:40.538090Z",
     "iopub.status.busy": "2025-07-28T10:51:40.537585Z",
     "iopub.status.idle": "2025-07-28T10:51:40.595408Z",
     "shell.execute_reply": "2025-07-28T10:51:40.594247Z"
    },
    "papermill": {
     "duration": 0.082448,
     "end_time": "2025-07-28T10:51:40.597227",
     "exception": false,
     "start_time": "2025-07-28T10:51:40.514779",
     "status": "completed"
    },
    "tags": []
   },
   "outputs": [
    {
     "name": "stdout",
     "output_type": "stream",
     "text": [
      "Dropping features: ['age']\n"
     ]
    }
   ],
   "source": [
    "if len(excluded_features_columns) > 0:\n",
    "    print(f\"Dropping features: {excluded_features_columns}\")\n",
    "    X_test.drop(excluded_features_columns, axis=1, inplace=True)"
   ]
  },
  {
   "cell_type": "code",
   "execution_count": 27,
   "id": "1853aaf5-fb9f-46cb-a2b5-8ea4ae2237e4",
   "metadata": {
    "execution": {
     "iopub.execute_input": "2025-07-28T10:51:40.646089Z",
     "iopub.status.busy": "2025-07-28T10:51:40.645102Z",
     "iopub.status.idle": "2025-07-28T10:51:40.702271Z",
     "shell.execute_reply": "2025-07-28T10:51:40.701079Z"
    },
    "papermill": {
     "duration": 0.082914,
     "end_time": "2025-07-28T10:51:40.704248",
     "exception": false,
     "start_time": "2025-07-28T10:51:40.621334",
     "status": "completed"
    },
    "tags": []
   },
   "outputs": [
    {
     "name": "stdout",
     "output_type": "stream",
     "text": [
      "Dropping features: ['age']\n"
     ]
    }
   ],
   "source": [
    "if len(excluded_features_columns) > 0:\n",
    "    print(f\"Dropping features: {excluded_features_columns}\")\n",
    "    X_calib.drop(excluded_features_columns, axis=1, inplace=True)"
   ]
  },
  {
   "cell_type": "code",
   "execution_count": 28,
   "id": "6727d079-03e5-481e-9d38-292a90b7a0a8",
   "metadata": {
    "execution": {
     "iopub.execute_input": "2025-07-28T10:51:40.753170Z",
     "iopub.status.busy": "2025-07-28T10:51:40.752214Z",
     "iopub.status.idle": "2025-07-28T10:51:40.757754Z",
     "shell.execute_reply": "2025-07-28T10:51:40.756731Z"
    },
    "papermill": {
     "duration": 0.031511,
     "end_time": "2025-07-28T10:51:40.759538",
     "exception": false,
     "start_time": "2025-07-28T10:51:40.728027",
     "status": "completed"
    },
    "tags": []
   },
   "outputs": [],
   "source": [
    "# SPLIT & STRATIFY DATA\n",
    "# ----------------------"
   ]
  },
  {
   "cell_type": "code",
   "execution_count": 29,
   "id": "76c4dc6d",
   "metadata": {
    "execution": {
     "iopub.execute_input": "2025-07-28T10:51:40.806674Z",
     "iopub.status.busy": "2025-07-28T10:51:40.805548Z",
     "iopub.status.idle": "2025-07-28T10:51:40.811841Z",
     "shell.execute_reply": "2025-07-28T10:51:40.810788Z"
    },
    "papermill": {
     "duration": 0.031566,
     "end_time": "2025-07-28T10:51:40.813797",
     "exception": false,
     "start_time": "2025-07-28T10:51:40.782231",
     "status": "completed"
    },
    "tags": []
   },
   "outputs": [],
   "source": [
    "# EXCLUDE CERTAIN SUBGROUPS\n",
    "# ----------------------\n",
    "\n",
    "mode = universe.get(\"exclude_subgroups\", \"keep-all\") \n",
    "# Fetches the exclude_subgroups setting from the universe dict.\n",
    "# Defaults to \"keep-all\" if the key is missing."
   ]
  },
  {
   "cell_type": "code",
   "execution_count": 30,
   "id": "21994072",
   "metadata": {
    "execution": {
     "iopub.execute_input": "2025-07-28T10:51:40.862670Z",
     "iopub.status.busy": "2025-07-28T10:51:40.861810Z",
     "iopub.status.idle": "2025-07-28T10:51:40.869222Z",
     "shell.execute_reply": "2025-07-28T10:51:40.868201Z"
    },
    "papermill": {
     "duration": 0.033293,
     "end_time": "2025-07-28T10:51:40.871132",
     "exception": false,
     "start_time": "2025-07-28T10:51:40.837839",
     "status": "completed"
    },
    "tags": []
   },
   "outputs": [],
   "source": [
    "if mode == \"keep-all\":\n",
    "    keep_mask = pd.Series(True, index=org_train.index)\n",
    "\n",
    "# org_train contains the original feature columns from features_org (in Simson)\n",
    "# features_org contains unprocessed features, for me X_train at beginning ???\n",
    "# For keep-all, creates a boolean Series (keep_mask) of all True, so no rows are removed.\n",
    "\n",
    "elif mode == \"drop-non-german\":\n",
    "    keep_mask = org_train[\"maxdeutsch1\"] == 1 # ??? what about missing values?\n",
    "\n",
    "else:\n",
    "    raise ValueError(f\"Unsupported mode for exclude_subgroups: {mode}\")\n"
   ]
  },
  {
   "cell_type": "code",
   "execution_count": 31,
   "id": "71651440",
   "metadata": {
    "execution": {
     "iopub.execute_input": "2025-07-28T10:51:40.918044Z",
     "iopub.status.busy": "2025-07-28T10:51:40.917319Z",
     "iopub.status.idle": "2025-07-28T10:51:40.924623Z",
     "shell.execute_reply": "2025-07-28T10:51:40.923543Z"
    },
    "papermill": {
     "duration": 0.032251,
     "end_time": "2025-07-28T10:51:40.926372",
     "exception": false,
     "start_time": "2025-07-28T10:51:40.894121",
     "status": "completed"
    },
    "tags": []
   },
   "outputs": [],
   "source": [
    "n_drop = (~keep_mask).sum() # Calculates how many rows are set to be dropped\n",
    "if n_drop > 0:\n",
    "    pct = n_drop / len(keep_mask) * 100\n",
    "    print(f\"Dropping {n_drop} rows ({pct:.2f}%) where mode='{mode}'\")"
   ]
  },
  {
   "cell_type": "code",
   "execution_count": 32,
   "id": "5fb8eee5",
   "metadata": {
    "execution": {
     "iopub.execute_input": "2025-07-28T10:51:40.970929Z",
     "iopub.status.busy": "2025-07-28T10:51:40.970077Z",
     "iopub.status.idle": "2025-07-28T10:51:40.977003Z",
     "shell.execute_reply": "2025-07-28T10:51:40.975946Z"
    },
    "papermill": {
     "duration": 0.030858,
     "end_time": "2025-07-28T10:51:40.978723",
     "exception": false,
     "start_time": "2025-07-28T10:51:40.947865",
     "status": "completed"
    },
    "tags": []
   },
   "outputs": [],
   "source": [
    "X_train = X_train[keep_mask]"
   ]
  },
  {
   "cell_type": "code",
   "execution_count": 33,
   "id": "b202bb3a",
   "metadata": {
    "execution": {
     "iopub.execute_input": "2025-07-28T10:51:41.023772Z",
     "iopub.status.busy": "2025-07-28T10:51:41.023344Z",
     "iopub.status.idle": "2025-07-28T10:51:41.029699Z",
     "shell.execute_reply": "2025-07-28T10:51:41.028707Z"
    },
    "papermill": {
     "duration": 0.031167,
     "end_time": "2025-07-28T10:51:41.031492",
     "exception": false,
     "start_time": "2025-07-28T10:51:41.000325",
     "status": "completed"
    },
    "tags": []
   },
   "outputs": [],
   "source": [
    "y_train = y_train[keep_mask]"
   ]
  },
  {
   "cell_type": "markdown",
   "id": "493e2ac3",
   "metadata": {
    "papermill": {
     "duration": 0.021161,
     "end_time": "2025-07-28T10:51:41.073858",
     "exception": false,
     "start_time": "2025-07-28T10:51:41.052697",
     "status": "completed"
    },
    "tags": []
   },
   "source": [
    "# Model Training"
   ]
  },
  {
   "cell_type": "code",
   "execution_count": 34,
   "id": "679e1268",
   "metadata": {
    "execution": {
     "iopub.execute_input": "2025-07-28T10:51:41.118382Z",
     "iopub.status.busy": "2025-07-28T10:51:41.117622Z",
     "iopub.status.idle": "2025-07-28T10:51:41.232773Z",
     "shell.execute_reply": "2025-07-28T10:51:41.231649Z"
    },
    "papermill": {
     "duration": 0.139668,
     "end_time": "2025-07-28T10:51:41.234973",
     "exception": false,
     "start_time": "2025-07-28T10:51:41.095305",
     "status": "completed"
    },
    "tags": []
   },
   "outputs": [],
   "source": [
    "from sklearn.linear_model import LogisticRegression\n",
    "from sklearn.ensemble import GradientBoostingClassifier, RandomForestClassifier\n",
    "\n",
    "if (universe[\"model\"] == \"logreg\"):\n",
    "    model = LogisticRegression() #penalty=\"none\") #, solver=\"newton-cg\", max_iter=1) # include random_state=19 ?\n",
    "elif (universe[\"model\"] == \"penalized_logreg\"):\n",
    "    model = LogisticRegression(penalty=\"l2\", C=1.0) #, solver=\"newton-cg\", max_iter=1)\n",
    "elif (universe[\"model\"] == \"rf\"):\n",
    "    model = RandomForestClassifier(n_estimators=100, n_jobs=-1)\n",
    "elif (universe[\"model\"] == \"gbm\"):\n",
    "    model = GradientBoostingClassifier()\n",
    "elif (universe[\"model\"] == \"elasticnet\"):\n",
    "    model = LogisticRegression(penalty = 'elasticnet', solver = 'saga', l1_ratio = 0.5, max_iter=5000) # which solver to use?\n",
    "else:\n",
    "    raise \"Unsupported universe.model\""
   ]
  },
  {
   "cell_type": "code",
   "execution_count": 35,
   "id": "0cc8f744",
   "metadata": {
    "execution": {
     "iopub.execute_input": "2025-07-28T10:51:41.284104Z",
     "iopub.status.busy": "2025-07-28T10:51:41.283351Z",
     "iopub.status.idle": "2025-07-28T10:51:41.290682Z",
     "shell.execute_reply": "2025-07-28T10:51:41.289651Z"
    },
    "papermill": {
     "duration": 0.033753,
     "end_time": "2025-07-28T10:51:41.292470",
     "exception": false,
     "start_time": "2025-07-28T10:51:41.258717",
     "status": "completed"
    },
    "tags": []
   },
   "outputs": [],
   "source": [
    "import numpy as np\n",
    "from sklearn.pipeline import Pipeline\n",
    "from sklearn.preprocessing import StandardScaler\n",
    "\n",
    "model = Pipeline([\n",
    "    #(\"continuous_processor\", continuous_processor),\n",
    "    #(\"categorical_preprocessor\", categorical_preprocessor),\n",
    "    (\"scale\", StandardScaler() if universe[\"scale\"] == \"scale\" else None), \n",
    "    (\"model\", model),\n",
    "])"
   ]
  },
  {
   "cell_type": "code",
   "execution_count": 36,
   "id": "9442c04d",
   "metadata": {
    "execution": {
     "iopub.execute_input": "2025-07-28T10:51:41.341974Z",
     "iopub.status.busy": "2025-07-28T10:51:41.340972Z",
     "iopub.status.idle": "2025-07-28T10:51:42.500671Z",
     "shell.execute_reply": "2025-07-28T10:51:42.499769Z"
    },
    "papermill": {
     "duration": 1.185857,
     "end_time": "2025-07-28T10:51:42.502481",
     "exception": false,
     "start_time": "2025-07-28T10:51:41.316624",
     "status": "completed"
    },
    "tags": []
   },
   "outputs": [
    {
     "data": {
      "text/html": [
       "<style>#sk-container-id-1 {color: black;background-color: white;}#sk-container-id-1 pre{padding: 0;}#sk-container-id-1 div.sk-toggleable {background-color: white;}#sk-container-id-1 label.sk-toggleable__label {cursor: pointer;display: block;width: 100%;margin-bottom: 0;padding: 0.3em;box-sizing: border-box;text-align: center;}#sk-container-id-1 label.sk-toggleable__label-arrow:before {content: \"▸\";float: left;margin-right: 0.25em;color: #696969;}#sk-container-id-1 label.sk-toggleable__label-arrow:hover:before {color: black;}#sk-container-id-1 div.sk-estimator:hover label.sk-toggleable__label-arrow:before {color: black;}#sk-container-id-1 div.sk-toggleable__content {max-height: 0;max-width: 0;overflow: hidden;text-align: left;background-color: #f0f8ff;}#sk-container-id-1 div.sk-toggleable__content pre {margin: 0.2em;color: black;border-radius: 0.25em;background-color: #f0f8ff;}#sk-container-id-1 input.sk-toggleable__control:checked~div.sk-toggleable__content {max-height: 200px;max-width: 100%;overflow: auto;}#sk-container-id-1 input.sk-toggleable__control:checked~label.sk-toggleable__label-arrow:before {content: \"▾\";}#sk-container-id-1 div.sk-estimator input.sk-toggleable__control:checked~label.sk-toggleable__label {background-color: #d4ebff;}#sk-container-id-1 div.sk-label input.sk-toggleable__control:checked~label.sk-toggleable__label {background-color: #d4ebff;}#sk-container-id-1 input.sk-hidden--visually {border: 0;clip: rect(1px 1px 1px 1px);clip: rect(1px, 1px, 1px, 1px);height: 1px;margin: -1px;overflow: hidden;padding: 0;position: absolute;width: 1px;}#sk-container-id-1 div.sk-estimator {font-family: monospace;background-color: #f0f8ff;border: 1px dotted black;border-radius: 0.25em;box-sizing: border-box;margin-bottom: 0.5em;}#sk-container-id-1 div.sk-estimator:hover {background-color: #d4ebff;}#sk-container-id-1 div.sk-parallel-item::after {content: \"\";width: 100%;border-bottom: 1px solid gray;flex-grow: 1;}#sk-container-id-1 div.sk-label:hover label.sk-toggleable__label {background-color: #d4ebff;}#sk-container-id-1 div.sk-serial::before {content: \"\";position: absolute;border-left: 1px solid gray;box-sizing: border-box;top: 0;bottom: 0;left: 50%;z-index: 0;}#sk-container-id-1 div.sk-serial {display: flex;flex-direction: column;align-items: center;background-color: white;padding-right: 0.2em;padding-left: 0.2em;position: relative;}#sk-container-id-1 div.sk-item {position: relative;z-index: 1;}#sk-container-id-1 div.sk-parallel {display: flex;align-items: stretch;justify-content: center;background-color: white;position: relative;}#sk-container-id-1 div.sk-item::before, #sk-container-id-1 div.sk-parallel-item::before {content: \"\";position: absolute;border-left: 1px solid gray;box-sizing: border-box;top: 0;bottom: 0;left: 50%;z-index: -1;}#sk-container-id-1 div.sk-parallel-item {display: flex;flex-direction: column;z-index: 1;position: relative;background-color: white;}#sk-container-id-1 div.sk-parallel-item:first-child::after {align-self: flex-end;width: 50%;}#sk-container-id-1 div.sk-parallel-item:last-child::after {align-self: flex-start;width: 50%;}#sk-container-id-1 div.sk-parallel-item:only-child::after {width: 0;}#sk-container-id-1 div.sk-dashed-wrapped {border: 1px dashed gray;margin: 0 0.4em 0.5em 0.4em;box-sizing: border-box;padding-bottom: 0.4em;background-color: white;}#sk-container-id-1 div.sk-label label {font-family: monospace;font-weight: bold;display: inline-block;line-height: 1.2em;}#sk-container-id-1 div.sk-label-container {text-align: center;}#sk-container-id-1 div.sk-container {/* jupyter's `normalize.less` sets `[hidden] { display: none; }` but bootstrap.min.css set `[hidden] { display: none !important; }` so we also need the `!important` here to be able to override the default hidden behavior on the sphinx rendered scikit-learn.org. See: https://github.com/scikit-learn/scikit-learn/issues/21755 */display: inline-block !important;position: relative;}#sk-container-id-1 div.sk-text-repr-fallback {display: none;}</style><div id=\"sk-container-id-1\" class=\"sk-top-container\"><div class=\"sk-text-repr-fallback\"><pre>Pipeline(steps=[(&#x27;scale&#x27;, None), (&#x27;model&#x27;, GradientBoostingClassifier())])</pre><b>In a Jupyter environment, please rerun this cell to show the HTML representation or trust the notebook. <br />On GitHub, the HTML representation is unable to render, please try loading this page with nbviewer.org.</b></div><div class=\"sk-container\" hidden><div class=\"sk-item sk-dashed-wrapped\"><div class=\"sk-label-container\"><div class=\"sk-label sk-toggleable\"><input class=\"sk-toggleable__control sk-hidden--visually\" id=\"sk-estimator-id-1\" type=\"checkbox\" ><label for=\"sk-estimator-id-1\" class=\"sk-toggleable__label sk-toggleable__label-arrow\">Pipeline</label><div class=\"sk-toggleable__content\"><pre>Pipeline(steps=[(&#x27;scale&#x27;, None), (&#x27;model&#x27;, GradientBoostingClassifier())])</pre></div></div></div><div class=\"sk-serial\"><div class=\"sk-item\"><div class=\"sk-estimator sk-toggleable\"><input class=\"sk-toggleable__control sk-hidden--visually\" id=\"sk-estimator-id-2\" type=\"checkbox\" ><label for=\"sk-estimator-id-2\" class=\"sk-toggleable__label sk-toggleable__label-arrow\">None</label><div class=\"sk-toggleable__content\"><pre>None</pre></div></div></div><div class=\"sk-item\"><div class=\"sk-estimator sk-toggleable\"><input class=\"sk-toggleable__control sk-hidden--visually\" id=\"sk-estimator-id-3\" type=\"checkbox\" ><label for=\"sk-estimator-id-3\" class=\"sk-toggleable__label sk-toggleable__label-arrow\">GradientBoostingClassifier</label><div class=\"sk-toggleable__content\"><pre>GradientBoostingClassifier()</pre></div></div></div></div></div></div></div>"
      ],
      "text/plain": [
       "Pipeline(steps=[('scale', None), ('model', GradientBoostingClassifier())])"
      ]
     },
     "execution_count": 36,
     "metadata": {},
     "output_type": "execute_result"
    }
   ],
   "source": [
    "model.fit(X_train, y_train.values.ravel())"
   ]
  },
  {
   "cell_type": "code",
   "execution_count": 37,
   "id": "af59f8c0",
   "metadata": {
    "execution": {
     "iopub.execute_input": "2025-07-28T10:51:42.550214Z",
     "iopub.status.busy": "2025-07-28T10:51:42.549685Z",
     "iopub.status.idle": "2025-07-28T10:51:42.557368Z",
     "shell.execute_reply": "2025-07-28T10:51:42.555627Z"
    },
    "papermill": {
     "duration": 0.033911,
     "end_time": "2025-07-28T10:51:42.559284",
     "exception": false,
     "start_time": "2025-07-28T10:51:42.525373",
     "status": "completed"
    },
    "tags": []
   },
   "outputs": [],
   "source": [
    "from fairness_multiverse.universe import predict_w_threshold"
   ]
  },
  {
   "cell_type": "code",
   "execution_count": 38,
   "id": "a7cf2e16",
   "metadata": {
    "execution": {
     "iopub.execute_input": "2025-07-28T10:51:42.615572Z",
     "iopub.status.busy": "2025-07-28T10:51:42.614851Z",
     "iopub.status.idle": "2025-07-28T10:51:43.272753Z",
     "shell.execute_reply": "2025-07-28T10:51:43.271956Z"
    },
    "papermill": {
     "duration": 0.687583,
     "end_time": "2025-07-28T10:51:43.274329",
     "exception": false,
     "start_time": "2025-07-28T10:51:42.586746",
     "status": "completed"
    },
    "tags": []
   },
   "outputs": [
    {
     "data": {
      "text/plain": [
       "0.8317244454352914"
      ]
     },
     "execution_count": 38,
     "metadata": {},
     "output_type": "execute_result"
    }
   ],
   "source": [
    "probs_test = model.predict_proba(X_test)\n",
    "\n",
    "'''\n",
    "Below code returns a boolean array (or binary 0/1 array depending on how it’s used) where each element \n",
    "is True if the probability of class 1 is greater than or equal to the threshold, and False otherwise.\n",
    "'''\n",
    "y_pred_default = predict_w_threshold(probs_test, 0.5)\n",
    "\n",
    "from sklearn.metrics import accuracy_score\n",
    "\n",
    "# Naive prediction\n",
    "accuracy_score(y_true = y_true, y_pred = y_pred_default)"
   ]
  },
  {
   "cell_type": "code",
   "execution_count": 39,
   "id": "081964c3",
   "metadata": {
    "execution": {
     "iopub.execute_input": "2025-07-28T10:51:43.317428Z",
     "iopub.status.busy": "2025-07-28T10:51:43.316513Z",
     "iopub.status.idle": "2025-07-28T10:51:44.006375Z",
     "shell.execute_reply": "2025-07-28T10:51:44.005384Z"
    },
    "papermill": {
     "duration": 0.7096,
     "end_time": "2025-07-28T10:51:44.008318",
     "exception": false,
     "start_time": "2025-07-28T10:51:43.298718",
     "status": "completed"
    },
    "tags": []
   },
   "outputs": [
    {
     "data": {
      "text/plain": [
       "array([0, 0, 0, ..., 0, 0, 0])"
      ]
     },
     "execution_count": 39,
     "metadata": {},
     "output_type": "execute_result"
    }
   ],
   "source": [
    "model.predict(X_test)"
   ]
  },
  {
   "cell_type": "markdown",
   "id": "56c9705b",
   "metadata": {
    "papermill": {
     "duration": 0.024669,
     "end_time": "2025-07-28T10:51:44.061940",
     "exception": false,
     "start_time": "2025-07-28T10:51:44.037271",
     "status": "completed"
    },
    "tags": []
   },
   "source": [
    "# Conformal Prediction"
   ]
  },
  {
   "cell_type": "code",
   "execution_count": 40,
   "id": "160ec6ff",
   "metadata": {
    "execution": {
     "iopub.execute_input": "2025-07-28T10:51:44.111417Z",
     "iopub.status.busy": "2025-07-28T10:51:44.110386Z",
     "iopub.status.idle": "2025-07-28T10:51:44.116869Z",
     "shell.execute_reply": "2025-07-28T10:51:44.115628Z"
    },
    "papermill": {
     "duration": 0.033592,
     "end_time": "2025-07-28T10:51:44.118958",
     "exception": false,
     "start_time": "2025-07-28T10:51:44.085366",
     "status": "completed"
    },
    "tags": []
   },
   "outputs": [],
   "source": [
    "# Miscoverage level for conformal prediction (10% allowed error rate => 90% target coverage)\n",
    "alpha = 0.1"
   ]
  },
  {
   "cell_type": "code",
   "execution_count": 41,
   "id": "eadf4555-3dd3-440e-8e35-f82a4ad9f855",
   "metadata": {
    "execution": {
     "iopub.execute_input": "2025-07-28T10:51:44.174045Z",
     "iopub.status.busy": "2025-07-28T10:51:44.173573Z",
     "iopub.status.idle": "2025-07-28T10:51:44.802292Z",
     "shell.execute_reply": "2025-07-28T10:51:44.801130Z"
    },
    "papermill": {
     "duration": 0.655104,
     "end_time": "2025-07-28T10:51:44.804529",
     "exception": false,
     "start_time": "2025-07-28T10:51:44.149425",
     "status": "completed"
    },
    "tags": []
   },
   "outputs": [],
   "source": [
    "probs_calib = model.predict_proba(X_calib)"
   ]
  },
  {
   "cell_type": "code",
   "execution_count": 42,
   "id": "2ed93547-6d5d-4983-9b36-1ecb300da49a",
   "metadata": {
    "execution": {
     "iopub.execute_input": "2025-07-28T10:51:44.860760Z",
     "iopub.status.busy": "2025-07-28T10:51:44.860357Z",
     "iopub.status.idle": "2025-07-28T10:51:44.866436Z",
     "shell.execute_reply": "2025-07-28T10:51:44.865472Z"
    },
    "papermill": {
     "duration": 0.02816,
     "end_time": "2025-07-28T10:51:44.868269",
     "exception": false,
     "start_time": "2025-07-28T10:51:44.840109",
     "status": "completed"
    },
    "tags": []
   },
   "outputs": [],
   "source": [
    "y_calib = y_calib.values.ravel().astype(int)"
   ]
  },
  {
   "cell_type": "code",
   "execution_count": 43,
   "id": "65d1320d-f588-4b38-9072-62af1ae97f7d",
   "metadata": {
    "execution": {
     "iopub.execute_input": "2025-07-28T10:51:44.921555Z",
     "iopub.status.busy": "2025-07-28T10:51:44.921009Z",
     "iopub.status.idle": "2025-07-28T10:51:44.928935Z",
     "shell.execute_reply": "2025-07-28T10:51:44.927848Z"
    },
    "papermill": {
     "duration": 0.036585,
     "end_time": "2025-07-28T10:51:44.931133",
     "exception": false,
     "start_time": "2025-07-28T10:51:44.894548",
     "status": "completed"
    },
    "tags": []
   },
   "outputs": [],
   "source": [
    "from fairness_multiverse.conformal import compute_nc_scores\n",
    "\n",
    "# Compute nonconformity scores on calibration set (1 - probability of true class)\n",
    "nc_scores = compute_nc_scores(probs_calib, y_calib)"
   ]
  },
  {
   "cell_type": "code",
   "execution_count": 44,
   "id": "df3b8ca3-53b7-43d5-9667-7c85da7aeda2",
   "metadata": {
    "execution": {
     "iopub.execute_input": "2025-07-28T10:51:44.986140Z",
     "iopub.status.busy": "2025-07-28T10:51:44.985622Z",
     "iopub.status.idle": "2025-07-28T10:51:44.992624Z",
     "shell.execute_reply": "2025-07-28T10:51:44.991511Z"
    },
    "papermill": {
     "duration": 0.035169,
     "end_time": "2025-07-28T10:51:44.994536",
     "exception": false,
     "start_time": "2025-07-28T10:51:44.959367",
     "status": "completed"
    },
    "tags": []
   },
   "outputs": [],
   "source": [
    "from fairness_multiverse.conformal import find_threshold\n",
    "\n",
    "# Find conformal threshold q_hat for the given alpha (split conformal method)\n",
    "q_hat = find_threshold(nc_scores, alpha)"
   ]
  },
  {
   "cell_type": "code",
   "execution_count": 45,
   "id": "4d29e6c1-0ef6-4aa4-b8fe-4fe79b0d033a",
   "metadata": {
    "execution": {
     "iopub.execute_input": "2025-07-28T10:51:45.044626Z",
     "iopub.status.busy": "2025-07-28T10:51:45.043841Z",
     "iopub.status.idle": "2025-07-28T10:51:45.052727Z",
     "shell.execute_reply": "2025-07-28T10:51:45.051525Z"
    },
    "papermill": {
     "duration": 0.036199,
     "end_time": "2025-07-28T10:51:45.054699",
     "exception": false,
     "start_time": "2025-07-28T10:51:45.018500",
     "status": "completed"
    },
    "tags": []
   },
   "outputs": [
    {
     "data": {
      "text/plain": [
       "0.7634494078687173"
      ]
     },
     "execution_count": 45,
     "metadata": {},
     "output_type": "execute_result"
    }
   ],
   "source": [
    "q_hat"
   ]
  },
  {
   "cell_type": "code",
   "execution_count": 46,
   "id": "92460794-cdac-4be2-ba28-f28c0515a6fb",
   "metadata": {
    "execution": {
     "iopub.execute_input": "2025-07-28T10:51:45.105021Z",
     "iopub.status.busy": "2025-07-28T10:51:45.104293Z",
     "iopub.status.idle": "2025-07-28T10:51:46.484907Z",
     "shell.execute_reply": "2025-07-28T10:51:46.483786Z"
    },
    "papermill": {
     "duration": 1.407485,
     "end_time": "2025-07-28T10:51:46.486922",
     "exception": false,
     "start_time": "2025-07-28T10:51:45.079437",
     "status": "completed"
    },
    "tags": []
   },
   "outputs": [],
   "source": [
    "from fairness_multiverse.conformal import predict_conformal_sets\n",
    "\n",
    "# Generate prediction sets for each test example\n",
    "pred_sets = predict_conformal_sets(model, X_test, q_hat)"
   ]
  },
  {
   "cell_type": "code",
   "execution_count": 47,
   "id": "d90c9a65-e6db-4f5d-80cd-e68fb7e46829",
   "metadata": {
    "execution": {
     "iopub.execute_input": "2025-07-28T10:51:46.539062Z",
     "iopub.status.busy": "2025-07-28T10:51:46.538522Z",
     "iopub.status.idle": "2025-07-28T10:51:46.544357Z",
     "shell.execute_reply": "2025-07-28T10:51:46.543270Z"
    },
    "papermill": {
     "duration": 0.033458,
     "end_time": "2025-07-28T10:51:46.546224",
     "exception": false,
     "start_time": "2025-07-28T10:51:46.512766",
     "status": "completed"
    },
    "tags": []
   },
   "outputs": [],
   "source": [
    "y_true = y_true.squeeze()"
   ]
  },
  {
   "cell_type": "code",
   "execution_count": 48,
   "id": "3a58a54a-1e68-46b9-927a-df01f18aebc8",
   "metadata": {
    "execution": {
     "iopub.execute_input": "2025-07-28T10:51:46.597948Z",
     "iopub.status.busy": "2025-07-28T10:51:46.597423Z",
     "iopub.status.idle": "2025-07-28T10:51:47.446093Z",
     "shell.execute_reply": "2025-07-28T10:51:47.444981Z"
    },
    "papermill": {
     "duration": 0.87646,
     "end_time": "2025-07-28T10:51:47.448101",
     "exception": false,
     "start_time": "2025-07-28T10:51:46.571641",
     "status": "completed"
    },
    "tags": []
   },
   "outputs": [],
   "source": [
    "from fairness_multiverse.conformal import evaluate_sets\n",
    "\n",
    "# Evaluate coverage and average set size on test data\n",
    "metrics = evaluate_sets(pred_sets, y_true)"
   ]
  },
  {
   "cell_type": "markdown",
   "id": "2b569c12-9aaa-4c88-98c9-bbcd0cf3ebb8",
   "metadata": {
    "papermill": {
     "duration": 0.014575,
     "end_time": "2025-07-28T10:51:47.489934",
     "exception": false,
     "start_time": "2025-07-28T10:51:47.475359",
     "status": "completed"
    },
    "tags": []
   },
   "source": [
    "# CP Metrics"
   ]
  },
  {
   "cell_type": "code",
   "execution_count": 49,
   "id": "5ce0a5cb-201f-45a0-ade5-94c7f0bd6095",
   "metadata": {
    "execution": {
     "iopub.execute_input": "2025-07-28T10:51:47.515415Z",
     "iopub.status.busy": "2025-07-28T10:51:47.514964Z",
     "iopub.status.idle": "2025-07-28T10:51:47.521141Z",
     "shell.execute_reply": "2025-07-28T10:51:47.520385Z"
    },
    "papermill": {
     "duration": 0.020424,
     "end_time": "2025-07-28T10:51:47.522459",
     "exception": false,
     "start_time": "2025-07-28T10:51:47.502035",
     "status": "completed"
    },
    "tags": []
   },
   "outputs": [
    {
     "data": {
      "text/plain": [
       "{'coverage': 0.9112696466391706, 'avg_size': 1.1946828670159402}"
      ]
     },
     "execution_count": 49,
     "metadata": {},
     "output_type": "execute_result"
    }
   ],
   "source": [
    "metrics"
   ]
  },
  {
   "cell_type": "code",
   "execution_count": 50,
   "id": "9b9a838d-31c9-430b-ae14-12baee460d17",
   "metadata": {
    "execution": {
     "iopub.execute_input": "2025-07-28T10:51:47.552539Z",
     "iopub.status.busy": "2025-07-28T10:51:47.552145Z",
     "iopub.status.idle": "2025-07-28T10:51:47.558272Z",
     "shell.execute_reply": "2025-07-28T10:51:47.557138Z"
    },
    "papermill": {
     "duration": 0.02477,
     "end_time": "2025-07-28T10:51:47.560059",
     "exception": false,
     "start_time": "2025-07-28T10:51:47.535289",
     "status": "completed"
    },
    "tags": []
   },
   "outputs": [],
   "source": [
    "example_universe = universe.copy()\n",
    "universe_training_size = example_universe.get(\"training_size\")\n",
    "universe_scale = example_universe.get(\"scale\")\n",
    "universe_model = example_universe.get(\"model\")\n",
    "universe_exclude_features = example_universe.get(\"exclude_features\")\n",
    "universe_exclude_subgroups = example_universe.get(\"exclude_subgroups\")"
   ]
  },
  {
   "cell_type": "code",
   "execution_count": 51,
   "id": "f4b6a8ac-9dc0-4245-8a91-5b3b5999c4f9",
   "metadata": {
    "execution": {
     "iopub.execute_input": "2025-07-28T10:51:47.607561Z",
     "iopub.status.busy": "2025-07-28T10:51:47.606942Z",
     "iopub.status.idle": "2025-07-28T10:51:47.612218Z",
     "shell.execute_reply": "2025-07-28T10:51:47.611464Z"
    },
    "papermill": {
     "duration": 0.027374,
     "end_time": "2025-07-28T10:51:47.613522",
     "exception": false,
     "start_time": "2025-07-28T10:51:47.586148",
     "status": "completed"
    },
    "tags": []
   },
   "outputs": [],
   "source": [
    "cp_metrics_dict = {\n",
    "    \"universe_id\": [universe_id],\n",
    "    \"universe_training_size\": [universe_training_size],\n",
    "    \"universe_scale\": [universe_scale],\n",
    "    \"universe_model\": [universe_model],\n",
    "    \"universe_exclude_features\": [universe_exclude_features],\n",
    "    \"universe_exclude_subgroups\": [universe_exclude_subgroups],\n",
    "    \"q_hat\": [q_hat],\n",
    "    \"coverage\": [metrics[\"coverage\"]],\n",
    "    \"avg_size\": [metrics[\"avg_size\"]],\n",
    "}"
   ]
  },
  {
   "cell_type": "code",
   "execution_count": 52,
   "id": "908acbb1-0371-4915-85ca-3fa520d2efe2",
   "metadata": {
    "execution": {
     "iopub.execute_input": "2025-07-28T10:51:47.657370Z",
     "iopub.status.busy": "2025-07-28T10:51:47.656395Z",
     "iopub.status.idle": "2025-07-28T10:51:47.665236Z",
     "shell.execute_reply": "2025-07-28T10:51:47.664258Z"
    },
    "papermill": {
     "duration": 0.036287,
     "end_time": "2025-07-28T10:51:47.667058",
     "exception": false,
     "start_time": "2025-07-28T10:51:47.630771",
     "status": "completed"
    },
    "tags": []
   },
   "outputs": [
    {
     "data": {
      "text/plain": [
       "{'universe_id': ['ac9967fbb63def9efc00d712a9813295'],\n",
       " 'universe_training_size': ['1k'],\n",
       " 'universe_scale': ['do-not-scale'],\n",
       " 'universe_model': ['gbm'],\n",
       " 'universe_exclude_features': ['age'],\n",
       " 'universe_exclude_subgroups': ['keep-all'],\n",
       " 'q_hat': [0.7634494078687173],\n",
       " 'coverage': [0.9112696466391706],\n",
       " 'avg_size': [1.1946828670159402]}"
      ]
     },
     "execution_count": 52,
     "metadata": {},
     "output_type": "execute_result"
    }
   ],
   "source": [
    "cp_metrics_dict"
   ]
  },
  {
   "cell_type": "code",
   "execution_count": 53,
   "id": "33007efc-14e9-4ec6-97ac-56a455c82265",
   "metadata": {
    "execution": {
     "iopub.execute_input": "2025-07-28T10:51:47.719284Z",
     "iopub.status.busy": "2025-07-28T10:51:47.718286Z",
     "iopub.status.idle": "2025-07-28T10:51:47.725370Z",
     "shell.execute_reply": "2025-07-28T10:51:47.724296Z"
    },
    "papermill": {
     "duration": 0.034567,
     "end_time": "2025-07-28T10:51:47.727278",
     "exception": false,
     "start_time": "2025-07-28T10:51:47.692711",
     "status": "completed"
    },
    "tags": []
   },
   "outputs": [],
   "source": [
    "cp_metrics_df = pd.DataFrame(cp_metrics_dict)"
   ]
  },
  {
   "cell_type": "code",
   "execution_count": 54,
   "id": "db12611b-57b2-4910-b9d0-355adfd6e7bf",
   "metadata": {
    "execution": {
     "iopub.execute_input": "2025-07-28T10:51:47.779799Z",
     "iopub.status.busy": "2025-07-28T10:51:47.779240Z",
     "iopub.status.idle": "2025-07-28T10:51:47.798906Z",
     "shell.execute_reply": "2025-07-28T10:51:47.797860Z"
    },
    "papermill": {
     "duration": 0.047488,
     "end_time": "2025-07-28T10:51:47.800695",
     "exception": false,
     "start_time": "2025-07-28T10:51:47.753207",
     "status": "completed"
    },
    "tags": []
   },
   "outputs": [
    {
     "data": {
      "text/html": [
       "<div>\n",
       "<style scoped>\n",
       "    .dataframe tbody tr th:only-of-type {\n",
       "        vertical-align: middle;\n",
       "    }\n",
       "\n",
       "    .dataframe tbody tr th {\n",
       "        vertical-align: top;\n",
       "    }\n",
       "\n",
       "    .dataframe thead th {\n",
       "        text-align: right;\n",
       "    }\n",
       "</style>\n",
       "<table border=\"1\" class=\"dataframe\">\n",
       "  <thead>\n",
       "    <tr style=\"text-align: right;\">\n",
       "      <th></th>\n",
       "      <th>universe_id</th>\n",
       "      <th>universe_training_size</th>\n",
       "      <th>universe_scale</th>\n",
       "      <th>universe_model</th>\n",
       "      <th>universe_exclude_features</th>\n",
       "      <th>universe_exclude_subgroups</th>\n",
       "      <th>q_hat</th>\n",
       "      <th>coverage</th>\n",
       "      <th>avg_size</th>\n",
       "    </tr>\n",
       "  </thead>\n",
       "  <tbody>\n",
       "    <tr>\n",
       "      <th>0</th>\n",
       "      <td>ac9967fbb63def9efc00d712a9813295</td>\n",
       "      <td>1k</td>\n",
       "      <td>do-not-scale</td>\n",
       "      <td>gbm</td>\n",
       "      <td>age</td>\n",
       "      <td>keep-all</td>\n",
       "      <td>0.763449</td>\n",
       "      <td>0.91127</td>\n",
       "      <td>1.194683</td>\n",
       "    </tr>\n",
       "  </tbody>\n",
       "</table>\n",
       "</div>"
      ],
      "text/plain": [
       "                        universe_id universe_training_size universe_scale  \\\n",
       "0  ac9967fbb63def9efc00d712a9813295                     1k   do-not-scale   \n",
       "\n",
       "  universe_model universe_exclude_features universe_exclude_subgroups  \\\n",
       "0            gbm                       age                   keep-all   \n",
       "\n",
       "      q_hat  coverage  avg_size  \n",
       "0  0.763449   0.91127  1.194683  "
      ]
     },
     "execution_count": 54,
     "metadata": {},
     "output_type": "execute_result"
    }
   ],
   "source": [
    "cp_metrics_df"
   ]
  },
  {
   "cell_type": "code",
   "execution_count": 55,
   "id": "b7fbde55-a0a1-47e4-9af6-fe4a17fa8c61",
   "metadata": {
    "execution": {
     "iopub.execute_input": "2025-07-28T10:51:47.829944Z",
     "iopub.status.busy": "2025-07-28T10:51:47.829400Z",
     "iopub.status.idle": "2025-07-28T10:51:47.834195Z",
     "shell.execute_reply": "2025-07-28T10:51:47.833503Z"
    },
    "papermill": {
     "duration": 0.020696,
     "end_time": "2025-07-28T10:51:47.835523",
     "exception": false,
     "start_time": "2025-07-28T10:51:47.814827",
     "status": "completed"
    },
    "tags": []
   },
   "outputs": [],
   "source": [
    "# Conditional Coverage & looking at subgroups"
   ]
  },
  {
   "cell_type": "code",
   "execution_count": 56,
   "id": "027ae886-68dd-4141-96c7-805a5450e1ef",
   "metadata": {
    "execution": {
     "iopub.execute_input": "2025-07-28T10:51:47.865790Z",
     "iopub.status.busy": "2025-07-28T10:51:47.864810Z",
     "iopub.status.idle": "2025-07-28T10:51:48.076860Z",
     "shell.execute_reply": "2025-07-28T10:51:48.076065Z"
    },
    "papermill": {
     "duration": 0.228498,
     "end_time": "2025-07-28T10:51:48.078321",
     "exception": false,
     "start_time": "2025-07-28T10:51:47.849823",
     "status": "completed"
    },
    "tags": []
   },
   "outputs": [],
   "source": [
    "from fairness_multiverse.conformal import build_cp_groups\n",
    "\n",
    "cp_groups_df = build_cp_groups(pred_sets, y_true, X_test.index, org_test)\n",
    "#needs universe_id and setting"
   ]
  },
  {
   "cell_type": "code",
   "execution_count": 57,
   "id": "01d5802c-663a-4d1f-9d69-e036faaffbf7",
   "metadata": {
    "execution": {
     "iopub.execute_input": "2025-07-28T10:51:48.108233Z",
     "iopub.status.busy": "2025-07-28T10:51:48.107265Z",
     "iopub.status.idle": "2025-07-28T10:51:48.112605Z",
     "shell.execute_reply": "2025-07-28T10:51:48.111590Z"
    },
    "papermill": {
     "duration": 0.021936,
     "end_time": "2025-07-28T10:51:48.114507",
     "exception": false,
     "start_time": "2025-07-28T10:51:48.092571",
     "status": "completed"
    },
    "tags": []
   },
   "outputs": [],
   "source": [
    "#delete\n",
    "#cp_groups_df"
   ]
  },
  {
   "cell_type": "code",
   "execution_count": 58,
   "id": "fa424af1-d1eb-443d-b717-2d279ada8408",
   "metadata": {
    "execution": {
     "iopub.execute_input": "2025-07-28T10:51:48.169389Z",
     "iopub.status.busy": "2025-07-28T10:51:48.168800Z",
     "iopub.status.idle": "2025-07-28T10:51:48.174119Z",
     "shell.execute_reply": "2025-07-28T10:51:48.173093Z"
    },
    "papermill": {
     "duration": 0.034379,
     "end_time": "2025-07-28T10:51:48.175908",
     "exception": false,
     "start_time": "2025-07-28T10:51:48.141529",
     "status": "completed"
    },
    "tags": []
   },
   "outputs": [],
   "source": [
    "#delete\n",
    "#percentage = (cp_groups_df['nongerman_female'] == 1).mean() * 100\n",
    "#print(percentage)\n"
   ]
  },
  {
   "cell_type": "code",
   "execution_count": 59,
   "id": "6cbdab96-b2b2-45af-ad54-d0516db2e28d",
   "metadata": {
    "execution": {
     "iopub.execute_input": "2025-07-28T10:51:48.231819Z",
     "iopub.status.busy": "2025-07-28T10:51:48.231065Z",
     "iopub.status.idle": "2025-07-28T10:51:50.034168Z",
     "shell.execute_reply": "2025-07-28T10:51:50.033033Z"
    },
    "papermill": {
     "duration": 1.831812,
     "end_time": "2025-07-28T10:51:50.036318",
     "exception": false,
     "start_time": "2025-07-28T10:51:48.204506",
     "status": "completed"
    },
    "tags": []
   },
   "outputs": [],
   "source": [
    "# Define covered = 1 if true_label is in the predicted set\n",
    "cp_groups_df['covered'] = cp_groups_df.apply(\n",
    "    lambda r: int(r['true_label'] in r['pred_set']),\n",
    "    axis=1\n",
    ")"
   ]
  },
  {
   "cell_type": "code",
   "execution_count": 60,
   "id": "338ff529-1a6b-4b87-a931-8e4788d52aad",
   "metadata": {
    "execution": {
     "iopub.execute_input": "2025-07-28T10:51:50.094602Z",
     "iopub.status.busy": "2025-07-28T10:51:50.094025Z",
     "iopub.status.idle": "2025-07-28T10:51:50.099780Z",
     "shell.execute_reply": "2025-07-28T10:51:50.098753Z"
    },
    "papermill": {
     "duration": 0.036154,
     "end_time": "2025-07-28T10:51:50.101631",
     "exception": false,
     "start_time": "2025-07-28T10:51:50.065477",
     "status": "completed"
    },
    "tags": []
   },
   "outputs": [],
   "source": [
    "#cp_groups_df"
   ]
  },
  {
   "cell_type": "code",
   "execution_count": 61,
   "id": "90032e27-66df-4540-9169-4e89cfbaa758",
   "metadata": {
    "execution": {
     "iopub.execute_input": "2025-07-28T10:51:50.160547Z",
     "iopub.status.busy": "2025-07-28T10:51:50.159504Z",
     "iopub.status.idle": "2025-07-28T10:51:50.171808Z",
     "shell.execute_reply": "2025-07-28T10:51:50.170738Z"
    },
    "papermill": {
     "duration": 0.043133,
     "end_time": "2025-07-28T10:51:50.173606",
     "exception": false,
     "start_time": "2025-07-28T10:51:50.130473",
     "status": "completed"
    },
    "tags": []
   },
   "outputs": [],
   "source": [
    "subgroups = ['frau1','nongerman','nongerman_male','nongerman_female']\n",
    "\n",
    "# Conditional coverage for subgroup==1\n",
    "cond_coverage = {\n",
    "    g: cp_groups_df.loc[cp_groups_df[g]==1, 'covered'].mean()\n",
    "    for g in subgroups\n",
    "}"
   ]
  },
  {
   "cell_type": "code",
   "execution_count": 62,
   "id": "1e348fb1-b9c3-45bc-ba23-f016827a7e0d",
   "metadata": {
    "execution": {
     "iopub.execute_input": "2025-07-28T10:51:50.243593Z",
     "iopub.status.busy": "2025-07-28T10:51:50.243141Z",
     "iopub.status.idle": "2025-07-28T10:51:50.250495Z",
     "shell.execute_reply": "2025-07-28T10:51:50.249509Z"
    },
    "papermill": {
     "duration": 0.03483,
     "end_time": "2025-07-28T10:51:50.252201",
     "exception": false,
     "start_time": "2025-07-28T10:51:50.217371",
     "status": "completed"
    },
    "tags": []
   },
   "outputs": [
    {
     "data": {
      "text/plain": [
       "{'frau1': 0.9093678393314463,\n",
       " 'nongerman': 0.9060798293381238,\n",
       " 'nongerman_male': 0.9237143114473566,\n",
       " 'nongerman_female': 0.8769001490312965}"
      ]
     },
     "execution_count": 62,
     "metadata": {},
     "output_type": "execute_result"
    }
   ],
   "source": [
    "cond_coverage"
   ]
  },
  {
   "cell_type": "code",
   "execution_count": 63,
   "id": "f5093324-c3dd-4d63-bc4c-8d945e5c8bbb",
   "metadata": {
    "execution": {
     "iopub.execute_input": "2025-07-28T10:51:50.299632Z",
     "iopub.status.busy": "2025-07-28T10:51:50.299230Z",
     "iopub.status.idle": "2025-07-28T10:51:50.306428Z",
     "shell.execute_reply": "2025-07-28T10:51:50.305426Z"
    },
    "papermill": {
     "duration": 0.027749,
     "end_time": "2025-07-28T10:51:50.307843",
     "exception": false,
     "start_time": "2025-07-28T10:51:50.280094",
     "status": "completed"
    },
    "tags": []
   },
   "outputs": [],
   "source": [
    "for subgroup, cov in cond_coverage.items():\n",
    "    cp_metrics_df[f\"cov_{subgroup}\"] = cov"
   ]
  },
  {
   "cell_type": "code",
   "execution_count": 64,
   "id": "6e872e10-dbe5-49e8-b554-5030c98ff75d",
   "metadata": {
    "execution": {
     "iopub.execute_input": "2025-07-28T10:51:50.351221Z",
     "iopub.status.busy": "2025-07-28T10:51:50.350413Z",
     "iopub.status.idle": "2025-07-28T10:51:50.371206Z",
     "shell.execute_reply": "2025-07-28T10:51:50.370128Z"
    },
    "papermill": {
     "duration": 0.048785,
     "end_time": "2025-07-28T10:51:50.373057",
     "exception": false,
     "start_time": "2025-07-28T10:51:50.324272",
     "status": "completed"
    },
    "tags": []
   },
   "outputs": [
    {
     "data": {
      "text/html": [
       "<div>\n",
       "<style scoped>\n",
       "    .dataframe tbody tr th:only-of-type {\n",
       "        vertical-align: middle;\n",
       "    }\n",
       "\n",
       "    .dataframe tbody tr th {\n",
       "        vertical-align: top;\n",
       "    }\n",
       "\n",
       "    .dataframe thead th {\n",
       "        text-align: right;\n",
       "    }\n",
       "</style>\n",
       "<table border=\"1\" class=\"dataframe\">\n",
       "  <thead>\n",
       "    <tr style=\"text-align: right;\">\n",
       "      <th></th>\n",
       "      <th>universe_id</th>\n",
       "      <th>universe_training_size</th>\n",
       "      <th>universe_scale</th>\n",
       "      <th>universe_model</th>\n",
       "      <th>universe_exclude_features</th>\n",
       "      <th>universe_exclude_subgroups</th>\n",
       "      <th>q_hat</th>\n",
       "      <th>coverage</th>\n",
       "      <th>avg_size</th>\n",
       "      <th>cov_frau1</th>\n",
       "      <th>cov_nongerman</th>\n",
       "      <th>cov_nongerman_male</th>\n",
       "      <th>cov_nongerman_female</th>\n",
       "    </tr>\n",
       "  </thead>\n",
       "  <tbody>\n",
       "    <tr>\n",
       "      <th>0</th>\n",
       "      <td>ac9967fbb63def9efc00d712a9813295</td>\n",
       "      <td>1k</td>\n",
       "      <td>do-not-scale</td>\n",
       "      <td>gbm</td>\n",
       "      <td>age</td>\n",
       "      <td>keep-all</td>\n",
       "      <td>0.763449</td>\n",
       "      <td>0.91127</td>\n",
       "      <td>1.194683</td>\n",
       "      <td>0.909368</td>\n",
       "      <td>0.90608</td>\n",
       "      <td>0.923714</td>\n",
       "      <td>0.8769</td>\n",
       "    </tr>\n",
       "  </tbody>\n",
       "</table>\n",
       "</div>"
      ],
      "text/plain": [
       "                        universe_id universe_training_size universe_scale  \\\n",
       "0  ac9967fbb63def9efc00d712a9813295                     1k   do-not-scale   \n",
       "\n",
       "  universe_model universe_exclude_features universe_exclude_subgroups  \\\n",
       "0            gbm                       age                   keep-all   \n",
       "\n",
       "      q_hat  coverage  avg_size  cov_frau1  cov_nongerman  cov_nongerman_male  \\\n",
       "0  0.763449   0.91127  1.194683   0.909368        0.90608            0.923714   \n",
       "\n",
       "   cov_nongerman_female  \n",
       "0                0.8769  "
      ]
     },
     "execution_count": 64,
     "metadata": {},
     "output_type": "execute_result"
    }
   ],
   "source": [
    "cp_metrics_df"
   ]
  },
  {
   "cell_type": "markdown",
   "id": "33774451",
   "metadata": {
    "papermill": {
     "duration": 0.026198,
     "end_time": "2025-07-28T10:51:50.428551",
     "exception": false,
     "start_time": "2025-07-28T10:51:50.402353",
     "status": "completed"
    },
    "tags": []
   },
   "source": [
    "# (Fairness) Metrics"
   ]
  },
  {
   "cell_type": "code",
   "execution_count": 65,
   "id": "debc5d62",
   "metadata": {
    "execution": {
     "iopub.execute_input": "2025-07-28T10:51:50.481769Z",
     "iopub.status.busy": "2025-07-28T10:51:50.480992Z",
     "iopub.status.idle": "2025-07-28T10:51:50.504113Z",
     "shell.execute_reply": "2025-07-28T10:51:50.503137Z"
    },
    "papermill": {
     "duration": 0.05144,
     "end_time": "2025-07-28T10:51:50.505834",
     "exception": false,
     "start_time": "2025-07-28T10:51:50.454394",
     "status": "completed"
    },
    "tags": []
   },
   "outputs": [],
   "source": [
    "# do I need to include maxdeutsch1.missing?\n",
    "\n",
    "import numpy as np\n",
    "\n",
    "colname_to_bin = \"maxdeutsch1\"\n",
    "majority_value = org_train[colname_to_bin].mode()[0]\n",
    "\n",
    "org_test[\"majmin\"] = np.where(org_test[colname_to_bin] == majority_value, \"majority\", \"minority\")"
   ]
  },
  {
   "cell_type": "code",
   "execution_count": 66,
   "id": "06a50de5",
   "metadata": {
    "execution": {
     "iopub.execute_input": "2025-07-28T10:51:50.559713Z",
     "iopub.status.busy": "2025-07-28T10:51:50.559257Z",
     "iopub.status.idle": "2025-07-28T10:51:53.538833Z",
     "shell.execute_reply": "2025-07-28T10:51:53.537958Z"
    },
    "papermill": {
     "duration": 3.008384,
     "end_time": "2025-07-28T10:51:53.540450",
     "exception": false,
     "start_time": "2025-07-28T10:51:50.532066",
     "status": "completed"
    },
    "tags": []
   },
   "outputs": [],
   "source": [
    "example_universe = universe.copy()\n",
    "example_universe[\"cutoff\"] = example_universe[\"cutoff\"][0]\n",
    "example_universe[\"eval_fairness_grouping\"] = example_universe[\"eval_fairness_grouping\"][0]\n",
    "fairness_dict, metric_frame = universe_analysis.compute_metrics(\n",
    "    example_universe,\n",
    "    y_pred_prob=probs_test,\n",
    "    y_test=y_true,\n",
    "    org_test=org_test,\n",
    ")"
   ]
  },
  {
   "cell_type": "markdown",
   "id": "f95d4e02",
   "metadata": {
    "papermill": {
     "duration": 0.013796,
     "end_time": "2025-07-28T10:51:53.569029",
     "exception": false,
     "start_time": "2025-07-28T10:51:53.555233",
     "status": "completed"
    },
    "tags": []
   },
   "source": [
    "# Overall"
   ]
  },
  {
   "cell_type": "markdown",
   "id": "bdee4871",
   "metadata": {
    "papermill": {
     "duration": 0.013706,
     "end_time": "2025-07-28T10:51:53.596279",
     "exception": false,
     "start_time": "2025-07-28T10:51:53.582573",
     "status": "completed"
    },
    "tags": []
   },
   "source": [
    "Fairness\n",
    "Main fairness target: Equalized Odds. Seems to be a better fit than equal opportunity, since we're not only interested in Y = 1. Seems to be a better fit than demographic parity, since we also care about accuracy, not just equal distribution of preds.\n",
    "\n",
    "Pick column for computation of fairness metrics\n",
    "\n",
    "Performance\n",
    "Overall performance measures, most interesting in relation to the measures split by group below"
   ]
  },
  {
   "cell_type": "code",
   "execution_count": 67,
   "id": "c4e067c6",
   "metadata": {
    "execution": {
     "iopub.execute_input": "2025-07-28T10:51:53.633684Z",
     "iopub.status.busy": "2025-07-28T10:51:53.632549Z",
     "iopub.status.idle": "2025-07-28T10:51:53.641754Z",
     "shell.execute_reply": "2025-07-28T10:51:53.640533Z"
    },
    "papermill": {
     "duration": 0.033706,
     "end_time": "2025-07-28T10:51:53.643498",
     "exception": false,
     "start_time": "2025-07-28T10:51:53.609792",
     "status": "completed"
    },
    "tags": []
   },
   "outputs": [
    {
     "data": {
      "text/plain": [
       "accuracy                   0.221124\n",
       "balanced accuracy          0.541359\n",
       "f1                         0.242544\n",
       "precision                  0.138558\n",
       "false positive rate        0.889389\n",
       "false negative rate        0.027894\n",
       "selection rate             0.900000\n",
       "count                  89710.000000\n",
       "dtype: float64"
      ]
     },
     "execution_count": 67,
     "metadata": {},
     "output_type": "execute_result"
    }
   ],
   "source": [
    "metric_frame.overall"
   ]
  },
  {
   "cell_type": "markdown",
   "id": "e968fe9d",
   "metadata": {
    "papermill": {
     "duration": 0.027554,
     "end_time": "2025-07-28T10:51:53.700127",
     "exception": false,
     "start_time": "2025-07-28T10:51:53.672573",
     "status": "completed"
    },
    "tags": []
   },
   "source": [
    "By Group"
   ]
  },
  {
   "cell_type": "code",
   "execution_count": 68,
   "id": "ec325bce",
   "metadata": {
    "execution": {
     "iopub.execute_input": "2025-07-28T10:51:53.731614Z",
     "iopub.status.busy": "2025-07-28T10:51:53.731164Z",
     "iopub.status.idle": "2025-07-28T10:51:53.745135Z",
     "shell.execute_reply": "2025-07-28T10:51:53.744288Z"
    },
    "papermill": {
     "duration": 0.030391,
     "end_time": "2025-07-28T10:51:53.746599",
     "exception": false,
     "start_time": "2025-07-28T10:51:53.716208",
     "status": "completed"
    },
    "tags": []
   },
   "outputs": [
    {
     "data": {
      "text/html": [
       "<div>\n",
       "<style scoped>\n",
       "    .dataframe tbody tr th:only-of-type {\n",
       "        vertical-align: middle;\n",
       "    }\n",
       "\n",
       "    .dataframe tbody tr th {\n",
       "        vertical-align: top;\n",
       "    }\n",
       "\n",
       "    .dataframe thead th {\n",
       "        text-align: right;\n",
       "    }\n",
       "</style>\n",
       "<table border=\"1\" class=\"dataframe\">\n",
       "  <thead>\n",
       "    <tr style=\"text-align: right;\">\n",
       "      <th></th>\n",
       "      <th>accuracy</th>\n",
       "      <th>balanced accuracy</th>\n",
       "      <th>f1</th>\n",
       "      <th>precision</th>\n",
       "      <th>false positive rate</th>\n",
       "      <th>false negative rate</th>\n",
       "      <th>selection rate</th>\n",
       "      <th>count</th>\n",
       "    </tr>\n",
       "    <tr>\n",
       "      <th>majmin</th>\n",
       "      <th></th>\n",
       "      <th></th>\n",
       "      <th></th>\n",
       "      <th></th>\n",
       "      <th></th>\n",
       "      <th></th>\n",
       "      <th></th>\n",
       "      <th></th>\n",
       "    </tr>\n",
       "  </thead>\n",
       "  <tbody>\n",
       "    <tr>\n",
       "      <th>majority</th>\n",
       "      <td>0.226905</td>\n",
       "      <td>0.542865</td>\n",
       "      <td>0.249463</td>\n",
       "      <td>0.143087</td>\n",
       "      <td>0.886590</td>\n",
       "      <td>0.027681</td>\n",
       "      <td>0.897918</td>\n",
       "      <td>69170.0</td>\n",
       "    </tr>\n",
       "    <tr>\n",
       "      <th>minority</th>\n",
       "      <td>0.201655</td>\n",
       "      <td>0.536324</td>\n",
       "      <td>0.219068</td>\n",
       "      <td>0.123457</td>\n",
       "      <td>0.898635</td>\n",
       "      <td>0.028716</td>\n",
       "      <td>0.907011</td>\n",
       "      <td>20540.0</td>\n",
       "    </tr>\n",
       "  </tbody>\n",
       "</table>\n",
       "</div>"
      ],
      "text/plain": [
       "          accuracy  balanced accuracy        f1  precision  \\\n",
       "majmin                                                       \n",
       "majority  0.226905           0.542865  0.249463   0.143087   \n",
       "minority  0.201655           0.536324  0.219068   0.123457   \n",
       "\n",
       "          false positive rate  false negative rate  selection rate    count  \n",
       "majmin                                                                       \n",
       "majority             0.886590             0.027681        0.897918  69170.0  \n",
       "minority             0.898635             0.028716        0.907011  20540.0  "
      ]
     },
     "execution_count": 68,
     "metadata": {},
     "output_type": "execute_result"
    }
   ],
   "source": [
    "metric_frame.by_group"
   ]
  },
  {
   "cell_type": "code",
   "execution_count": 69,
   "id": "a9ddbe63",
   "metadata": {
    "execution": {
     "iopub.execute_input": "2025-07-28T10:51:53.777253Z",
     "iopub.status.busy": "2025-07-28T10:51:53.776755Z",
     "iopub.status.idle": "2025-07-28T10:51:56.155299Z",
     "shell.execute_reply": "2025-07-28T10:51:56.154215Z"
    },
    "papermill": {
     "duration": 2.395367,
     "end_time": "2025-07-28T10:51:56.157136",
     "exception": false,
     "start_time": "2025-07-28T10:51:53.761769",
     "status": "completed"
    },
    "tags": []
   },
   "outputs": [
    {
     "data": {
      "text/plain": [
       "array([[<Axes: title={'center': 'accuracy'}, xlabel='majmin'>,\n",
       "        <Axes: title={'center': 'balanced accuracy'}, xlabel='majmin'>,\n",
       "        <Axes: title={'center': 'f1'}, xlabel='majmin'>],\n",
       "       [<Axes: title={'center': 'precision'}, xlabel='majmin'>,\n",
       "        <Axes: title={'center': 'false positive rate'}, xlabel='majmin'>,\n",
       "        <Axes: title={'center': 'false negative rate'}, xlabel='majmin'>],\n",
       "       [<Axes: title={'center': 'selection rate'}, xlabel='majmin'>,\n",
       "        <Axes: title={'center': 'count'}, xlabel='majmin'>,\n",
       "        <Axes: xlabel='majmin'>]], dtype=object)"
      ]
     },
     "execution_count": 69,
     "metadata": {},
     "output_type": "execute_result"
    },
    {
     "data": {
      "image/png": "[encoded data removed]",
      "text/plain": [
       "<Figure size 1200x800 with 9 Axes>"
      ]
     },
     "metadata": {},
     "output_type": "display_data"
    }
   ],
   "source": [
    "# In a graphic\n",
    "metric_frame.by_group.plot.bar(\n",
    "    subplots=True,\n",
    "    layout=[3, 3],\n",
    "    legend=False,\n",
    "    figsize=[12, 8],\n",
    "    title=\"Show all metrics\",\n",
    ")"
   ]
  },
  {
   "cell_type": "markdown",
   "id": "f57a0bac",
   "metadata": {
    "papermill": {
     "duration": 0.029968,
     "end_time": "2025-07-28T10:51:56.215665",
     "exception": false,
     "start_time": "2025-07-28T10:51:56.185697",
     "status": "completed"
    },
    "tags": []
   },
   "source": [
    "# Final Output"
   ]
  },
  {
   "cell_type": "code",
   "execution_count": 70,
   "id": "96d280a3",
   "metadata": {
    "execution": {
     "iopub.execute_input": "2025-07-28T10:51:56.275715Z",
     "iopub.status.busy": "2025-07-28T10:51:56.274919Z",
     "iopub.status.idle": "2025-07-28T10:51:56.285474Z",
     "shell.execute_reply": "2025-07-28T10:51:56.284307Z"
    },
    "papermill": {
     "duration": 0.042489,
     "end_time": "2025-07-28T10:51:56.287498",
     "exception": false,
     "start_time": "2025-07-28T10:51:56.245009",
     "status": "completed"
    },
    "tags": []
   },
   "outputs": [
    {
     "data": {
      "text/plain": [
       "4"
      ]
     },
     "execution_count": 70,
     "metadata": {},
     "output_type": "execute_result"
    }
   ],
   "source": [
    "sub_universes = universe_analysis.generate_sub_universes()\n",
    "len(sub_universes)"
   ]
  },
  {
   "cell_type": "code",
   "execution_count": 71,
   "id": "92adf7ba",
   "metadata": {
    "execution": {
     "iopub.execute_input": "2025-07-28T10:51:56.356239Z",
     "iopub.status.busy": "2025-07-28T10:51:56.355357Z",
     "iopub.status.idle": "2025-07-28T10:51:56.361879Z",
     "shell.execute_reply": "2025-07-28T10:51:56.360871Z"
    },
    "papermill": {
     "duration": 0.036965,
     "end_time": "2025-07-28T10:51:56.363521",
     "exception": false,
     "start_time": "2025-07-28T10:51:56.326556",
     "status": "completed"
    },
    "tags": []
   },
   "outputs": [],
   "source": [
    "def filter_sub_universe_data(sub_universe, org_test):\n",
    "    # Keep all rows — no filtering\n",
    "    keep_rows_mask = np.ones(org_test.shape[0], dtype=bool)\n",
    "\n",
    "    print(f\"[INFO] Keeping all rows: {keep_rows_mask.sum()} rows retained.\")\n",
    "    return keep_rows_mask"
   ]
  },
  {
   "cell_type": "code",
   "execution_count": 72,
   "id": "4a759155",
   "metadata": {
    "execution": {
     "iopub.execute_input": "2025-07-28T10:51:56.419672Z",
     "iopub.status.busy": "2025-07-28T10:51:56.419334Z",
     "iopub.status.idle": "2025-07-28T10:52:08.091302Z",
     "shell.execute_reply": "2025-07-28T10:52:08.090143Z"
    },
    "papermill": {
     "duration": 11.702459,
     "end_time": "2025-07-28T10:52:08.093298",
     "exception": false,
     "start_time": "2025-07-28T10:51:56.390839",
     "status": "completed"
    },
    "tags": []
   },
   "outputs": [
    {
     "name": "stdout",
     "output_type": "stream",
     "text": [
      "Stopping execution_time clock.\n",
      "[INFO] Keeping all rows: 89710 rows retained.\n"
     ]
    },
    {
     "name": "stdout",
     "output_type": "stream",
     "text": [
      "[INFO] Keeping all rows: 89710 rows retained.\n"
     ]
    },
    {
     "name": "stdout",
     "output_type": "stream",
     "text": [
      "[INFO] Keeping all rows: 89710 rows retained.\n"
     ]
    },
    {
     "name": "stdout",
     "output_type": "stream",
     "text": [
      "[INFO] Keeping all rows: 89710 rows retained.\n"
     ]
    },
    {
     "data": {
      "text/html": [
       "<div>\n",
       "<style scoped>\n",
       "    .dataframe tbody tr th:only-of-type {\n",
       "        vertical-align: middle;\n",
       "    }\n",
       "\n",
       "    .dataframe tbody tr th {\n",
       "        vertical-align: top;\n",
       "    }\n",
       "\n",
       "    .dataframe thead th {\n",
       "        text-align: right;\n",
       "    }\n",
       "</style>\n",
       "<table border=\"1\" class=\"dataframe\">\n",
       "  <thead>\n",
       "    <tr style=\"text-align: right;\">\n",
       "      <th></th>\n",
       "      <th>run_no</th>\n",
       "      <th>universe_id</th>\n",
       "      <th>universe_settings</th>\n",
       "      <th>execution_time</th>\n",
       "      <th>test_size_n</th>\n",
       "      <th>test_size_frac</th>\n",
       "      <th>fair_main_equalized_odds_difference</th>\n",
       "      <th>fair_main_equalized_odds_ratio</th>\n",
       "      <th>fair_main_demographic_parity_difference</th>\n",
       "      <th>fair_main_demographic_parity_ratio</th>\n",
       "      <th>...</th>\n",
       "      <th>perf_grp_precision_0</th>\n",
       "      <th>perf_grp_precision_1</th>\n",
       "      <th>perf_grp_false positive rate_0</th>\n",
       "      <th>perf_grp_false positive rate_1</th>\n",
       "      <th>perf_grp_false negative rate_0</th>\n",
       "      <th>perf_grp_false negative rate_1</th>\n",
       "      <th>perf_grp_selection rate_0</th>\n",
       "      <th>perf_grp_selection rate_1</th>\n",
       "      <th>perf_grp_count_0</th>\n",
       "      <th>perf_grp_count_1</th>\n",
       "    </tr>\n",
       "  </thead>\n",
       "  <tbody>\n",
       "    <tr>\n",
       "      <th>0</th>\n",
       "      <td>11</td>\n",
       "      <td>ac9967fbb63def9efc00d712a9813295</td>\n",
       "      <td>{\"cutoff\": \"quantile_0.1\", \"eval_fairness_grou...</td>\n",
       "      <td>30.430981</td>\n",
       "      <td>89710</td>\n",
       "      <td>1.0</td>\n",
       "      <td>0.012045</td>\n",
       "      <td>0.986596</td>\n",
       "      <td>0.009093</td>\n",
       "      <td>0.989975</td>\n",
       "      <td>...</td>\n",
       "      <td>NaN</td>\n",
       "      <td>NaN</td>\n",
       "      <td>NaN</td>\n",
       "      <td>NaN</td>\n",
       "      <td>NaN</td>\n",
       "      <td>NaN</td>\n",
       "      <td>NaN</td>\n",
       "      <td>NaN</td>\n",
       "      <td>NaN</td>\n",
       "      <td>NaN</td>\n",
       "    </tr>\n",
       "    <tr>\n",
       "      <th>0</th>\n",
       "      <td>11</td>\n",
       "      <td>ac9967fbb63def9efc00d712a9813295</td>\n",
       "      <td>{\"cutoff\": \"quantile_0.1\", \"eval_fairness_grou...</td>\n",
       "      <td>30.430981</td>\n",
       "      <td>89710</td>\n",
       "      <td>1.0</td>\n",
       "      <td>0.012045</td>\n",
       "      <td>0.986596</td>\n",
       "      <td>0.009093</td>\n",
       "      <td>0.989975</td>\n",
       "      <td>...</td>\n",
       "      <td>0.123457</td>\n",
       "      <td>0.143087</td>\n",
       "      <td>0.898635</td>\n",
       "      <td>0.886590</td>\n",
       "      <td>0.028716</td>\n",
       "      <td>0.027681</td>\n",
       "      <td>0.907011</td>\n",
       "      <td>0.897918</td>\n",
       "      <td>20540.0</td>\n",
       "      <td>69170.0</td>\n",
       "    </tr>\n",
       "    <tr>\n",
       "      <th>0</th>\n",
       "      <td>11</td>\n",
       "      <td>ac9967fbb63def9efc00d712a9813295</td>\n",
       "      <td>{\"cutoff\": \"quantile_0.25\", \"eval_fairness_gro...</td>\n",
       "      <td>30.430981</td>\n",
       "      <td>89710</td>\n",
       "      <td>1.0</td>\n",
       "      <td>0.096553</td>\n",
       "      <td>0.879387</td>\n",
       "      <td>0.082787</td>\n",
       "      <td>0.898274</td>\n",
       "      <td>...</td>\n",
       "      <td>NaN</td>\n",
       "      <td>NaN</td>\n",
       "      <td>NaN</td>\n",
       "      <td>NaN</td>\n",
       "      <td>NaN</td>\n",
       "      <td>NaN</td>\n",
       "      <td>NaN</td>\n",
       "      <td>NaN</td>\n",
       "      <td>NaN</td>\n",
       "      <td>NaN</td>\n",
       "    </tr>\n",
       "    <tr>\n",
       "      <th>0</th>\n",
       "      <td>11</td>\n",
       "      <td>ac9967fbb63def9efc00d712a9813295</td>\n",
       "      <td>{\"cutoff\": \"quantile_0.25\", \"eval_fairness_gro...</td>\n",
       "      <td>30.430981</td>\n",
       "      <td>89710</td>\n",
       "      <td>1.0</td>\n",
       "      <td>0.096553</td>\n",
       "      <td>0.879387</td>\n",
       "      <td>0.082787</td>\n",
       "      <td>0.898274</td>\n",
       "      <td>...</td>\n",
       "      <td>0.129756</td>\n",
       "      <td>0.164280</td>\n",
       "      <td>0.800517</td>\n",
       "      <td>0.703965</td>\n",
       "      <td>0.084037</td>\n",
       "      <td>0.091138</td>\n",
       "      <td>0.813827</td>\n",
       "      <td>0.731039</td>\n",
       "      <td>20540.0</td>\n",
       "      <td>69170.0</td>\n",
       "    </tr>\n",
       "  </tbody>\n",
       "</table>\n",
       "<p>4 rows × 50 columns</p>\n",
       "</div>"
      ],
      "text/plain": [
       "  run_no                       universe_id  \\\n",
       "0     11  ac9967fbb63def9efc00d712a9813295   \n",
       "0     11  ac9967fbb63def9efc00d712a9813295   \n",
       "0     11  ac9967fbb63def9efc00d712a9813295   \n",
       "0     11  ac9967fbb63def9efc00d712a9813295   \n",
       "\n",
       "                                   universe_settings  execution_time  \\\n",
       "0  {\"cutoff\": \"quantile_0.1\", \"eval_fairness_grou...       30.430981   \n",
       "0  {\"cutoff\": \"quantile_0.1\", \"eval_fairness_grou...       30.430981   \n",
       "0  {\"cutoff\": \"quantile_0.25\", \"eval_fairness_gro...       30.430981   \n",
       "0  {\"cutoff\": \"quantile_0.25\", \"eval_fairness_gro...       30.430981   \n",
       "\n",
       "   test_size_n  test_size_frac  fair_main_equalized_odds_difference  \\\n",
       "0        89710             1.0                             0.012045   \n",
       "0        89710             1.0                             0.012045   \n",
       "0        89710             1.0                             0.096553   \n",
       "0        89710             1.0                             0.096553   \n",
       "\n",
       "   fair_main_equalized_odds_ratio  fair_main_demographic_parity_difference  \\\n",
       "0                        0.986596                                 0.009093   \n",
       "0                        0.986596                                 0.009093   \n",
       "0                        0.879387                                 0.082787   \n",
       "0                        0.879387                                 0.082787   \n",
       "\n",
       "   fair_main_demographic_parity_ratio  ...  perf_grp_precision_0  \\\n",
       "0                            0.989975  ...                   NaN   \n",
       "0                            0.989975  ...              0.123457   \n",
       "0                            0.898274  ...                   NaN   \n",
       "0                            0.898274  ...              0.129756   \n",
       "\n",
       "   perf_grp_precision_1  perf_grp_false positive rate_0  \\\n",
       "0                   NaN                             NaN   \n",
       "0              0.143087                        0.898635   \n",
       "0                   NaN                             NaN   \n",
       "0              0.164280                        0.800517   \n",
       "\n",
       "   perf_grp_false positive rate_1  perf_grp_false negative rate_0  \\\n",
       "0                             NaN                             NaN   \n",
       "0                        0.886590                        0.028716   \n",
       "0                             NaN                             NaN   \n",
       "0                        0.703965                        0.084037   \n",
       "\n",
       "   perf_grp_false negative rate_1  perf_grp_selection rate_0  \\\n",
       "0                             NaN                        NaN   \n",
       "0                        0.027681                   0.907011   \n",
       "0                             NaN                        NaN   \n",
       "0                        0.091138                   0.813827   \n",
       "\n",
       "   perf_grp_selection rate_1  perf_grp_count_0  perf_grp_count_1  \n",
       "0                        NaN               NaN               NaN  \n",
       "0                   0.897918           20540.0           69170.0  \n",
       "0                        NaN               NaN               NaN  \n",
       "0                   0.731039           20540.0           69170.0  \n",
       "\n",
       "[4 rows x 50 columns]"
      ]
     },
     "execution_count": 72,
     "metadata": {},
     "output_type": "execute_result"
    }
   ],
   "source": [
    "final_output = universe_analysis.generate_final_output(\n",
    "    y_pred_prob=probs_test,\n",
    "    y_test=y_true,\n",
    "    org_test=org_test,\n",
    "    filter_data=filter_sub_universe_data,\n",
    "    cp_metrics_df=cp_metrics_df,\n",
    "    save=True,\n",
    ")\n",
    "final_output"
   ]
  },
  {
   "cell_type": "code",
   "execution_count": null,
   "id": "721ff514-cb11-46f8-b6fc-50392f74b5cb",
   "metadata": {
    "papermill": {
     "duration": 0.032152,
     "end_time": "2025-07-28T10:52:08.161125",
     "exception": false,
     "start_time": "2025-07-28T10:52:08.128973",
     "status": "completed"
    },
    "tags": []
   },
   "outputs": [],
   "source": []
  }
 ],
 "metadata": {
  "celltoolbar": "Tags",
  "kernelspec": {
   "display_name": "Python (CMA Fairness)",
   "language": "python",
   "name": "cma_fair_env"
  },
  "language_info": {
   "codemirror_mode": {
    "name": "ipython",
    "version": 3
   },
   "file_extension": ".py",
   "mimetype": "text/x-python",
   "name": "python",
   "nbconvert_exporter": "python",
   "pygments_lexer": "ipython3",
   "version": "3.10.12"
  },
  "papermill": {
   "default_parameters": {},
   "duration": 46.622779,
   "end_time": "2025-07-28T10:52:09.013713",
   "environment_variables": {},
   "exception": null,
   "input_path": "universe_analysis.ipynb",
   "output_path": "output/runs/11/notebooks/m_11-ac9967fbb63def9efc00d712a9813295.ipynb",
   "parameters": {
    "output_dir": "output",
    "run_no": "11",
    "seed": "2023",
    "universe": "{\"cutoff\": [\"quantile_0.1\", \"quantile_0.25\"], \"eval_fairness_grouping\": [\"majority-minority\", \"nationality-all\"], \"exclude_features\": \"age\", \"exclude_subgroups\": \"keep-all\", \"model\": \"gbm\", \"scale\": \"do-not-scale\", \"training_size\": \"1k\"}",
    "universe_id": "ac9967fbb63def9efc00d712a9813295"
   },
   "start_time": "2025-07-28T10:51:22.390934",
   "version": "2.6.0"
  }
 },
 "nbformat": 4,
 "nbformat_minor": 5
}