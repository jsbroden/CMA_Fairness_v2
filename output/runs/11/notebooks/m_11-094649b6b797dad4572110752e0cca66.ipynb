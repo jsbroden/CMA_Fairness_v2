{
 "cells": [
  {
   "cell_type": "code",
   "execution_count": 1,
   "id": "f159f837-637b-42ba-96b5-ec9a68c44524",
   "metadata": {
    "execution": {
     "iopub.execute_input": "2025-07-28T11:10:05.142866Z",
     "iopub.status.busy": "2025-07-28T11:10:05.142459Z",
     "iopub.status.idle": "2025-07-28T11:10:05.153222Z",
     "shell.execute_reply": "2025-07-28T11:10:05.152077Z"
    },
    "papermill": {
     "duration": 0.024207,
     "end_time": "2025-07-28T11:10:05.154683",
     "exception": false,
     "start_time": "2025-07-28T11:10:05.130476",
     "status": "completed"
    },
    "tags": []
   },
   "outputs": [
    {
     "name": "stdout",
     "output_type": "stream",
     "text": [
      "/dss/dsshome1/0C/ra93lal2/cma/CMA_Fairness_v2\n"
     ]
    },
    {
     "name": "stderr",
     "output_type": "stream",
     "text": [
      "/dss/dsshome1/0C/ra93lal2/.local/share/virtualenvs/CMA_Fairness_v2-3j10GkSs/lib/python3.10/site-packages/IPython/core/magics/osm.py:393: UserWarning: This is now an optional IPython functionality, using bookmarks requires you to install the `pickleshare` library.\n",
      "  bkms = self.shell.db.get('bookmarks', {})\n",
      "/dss/dsshome1/0C/ra93lal2/.local/share/virtualenvs/CMA_Fairness_v2-3j10GkSs/lib/python3.10/site-packages/IPython/core/magics/osm.py:417: UserWarning: This is now an optional IPython functionality, setting dhist requires you to install the `pickleshare` library.\n",
      "  self.shell.db['dhist'] = compress_dhist(dhist)[-100:]\n"
     ]
    }
   ],
   "source": [
    "%cd ~/cma/CMA_Fairness_v2"
   ]
  },
  {
   "cell_type": "markdown",
   "id": "de2603b9",
   "metadata": {
    "papermill": {
     "duration": 0.012992,
     "end_time": "2025-07-28T11:10:05.178262",
     "exception": false,
     "start_time": "2025-07-28T11:10:05.165270",
     "status": "completed"
    },
    "tags": []
   },
   "source": [
    "The following cell holds the definition of our parameters, these values can be overriden by rendering the with e.g. the following command:\n",
    "\n",
    "papermill -p alpha 0.2 -p ratio 0.3 universe_analysis.ipynb output/test_run.ipynb"
   ]
  },
  {
   "cell_type": "code",
   "execution_count": 2,
   "id": "a80968a0-40bb-4fa9-85ef-2d5eefb01975",
   "metadata": {
    "execution": {
     "iopub.execute_input": "2025-07-28T11:10:05.221248Z",
     "iopub.status.busy": "2025-07-28T11:10:05.220769Z",
     "iopub.status.idle": "2025-07-28T11:10:05.226444Z",
     "shell.execute_reply": "2025-07-28T11:10:05.225587Z"
    },
    "papermill": {
     "duration": 0.029387,
     "end_time": "2025-07-28T11:10:05.228216",
     "exception": false,
     "start_time": "2025-07-28T11:10:05.198829",
     "status": "completed"
    },
    "tags": []
   },
   "outputs": [
    {
     "name": "stdout",
     "output_type": "stream",
     "text": [
      "Current working directory: /dss/dsshome1/0C/ra93lal2/cma/CMA_Fairness_v2\n"
     ]
    }
   ],
   "source": [
    "import os\n",
    "print(\"Current working directory:\", os.getcwd())"
   ]
  },
  {
   "cell_type": "code",
   "execution_count": 3,
   "id": "2dce4c03",
   "metadata": {
    "execution": {
     "iopub.execute_input": "2025-07-28T11:10:05.251954Z",
     "iopub.status.busy": "2025-07-28T11:10:05.251494Z",
     "iopub.status.idle": "2025-07-28T11:10:05.256758Z",
     "shell.execute_reply": "2025-07-28T11:10:05.255852Z"
    },
    "papermill": {
     "duration": 0.018341,
     "end_time": "2025-07-28T11:10:05.258629",
     "exception": false,
     "start_time": "2025-07-28T11:10:05.240288",
     "status": "completed"
    },
    "tags": [
     "parameters"
    ]
   },
   "outputs": [],
   "source": [
    "run_no = 0\n",
    "universe_id = \"test\"\n",
    "universe = {\n",
    "    \"training_size\": \"2014\", # \"25k\", \"5k\", \"1k\", \"2014\"\n",
    "    \"scale\": \"scale\", # \"scale\", \"do-not-scale\",\n",
    "    #\"stratify_split\": \"target\", # \"none\", \"target\", \"protected-attribute\", \"both\",\n",
    "    \"model\": \"elasticnet\", # \"logreg\", \"penalized_logreg\", \"rf\", \"gbm\", \"elasticnet\"\n",
    "    \"cutoff\": [\"quantile_0.15\", \"quantile_0.30\"],\n",
    "    \"exclude_features\": \"age\", # \"none\", \"nationality\", \"sex\", \"nationality-sex\", \"age\"\n",
    "    \"exclude_subgroups\": \"keep-all\", # \"keep-all\", \"drop-non-german\"\n",
    "    \"eval_fairness_grouping\": [\"majority-minority\", \"nationality-all\"]\n",
    "}\n",
    "\n",
    "output_dir=\"./output\"\n",
    "seed=0"
   ]
  },
  {
   "cell_type": "code",
   "execution_count": 4,
   "id": "3302c89a",
   "metadata": {
    "execution": {
     "iopub.execute_input": "2025-07-28T11:10:05.296948Z",
     "iopub.status.busy": "2025-07-28T11:10:05.296513Z",
     "iopub.status.idle": "2025-07-28T11:10:05.302000Z",
     "shell.execute_reply": "2025-07-28T11:10:05.300953Z"
    },
    "papermill": {
     "duration": 0.026293,
     "end_time": "2025-07-28T11:10:05.303596",
     "exception": false,
     "start_time": "2025-07-28T11:10:05.277303",
     "status": "completed"
    },
    "tags": [
     "injected-parameters"
    ]
   },
   "outputs": [],
   "source": [
    "# Parameters\n",
    "universe_id = \"094649b6b797dad4572110752e0cca66\"\n",
    "run_no = \"11\"\n",
    "universe = \"{\\\"cutoff\\\": [\\\"quantile_0.1\\\", \\\"quantile_0.25\\\"], \\\"eval_fairness_grouping\\\": [\\\"majority-minority\\\", \\\"nationality-all\\\"], \\\"exclude_features\\\": \\\"none\\\", \\\"exclude_subgroups\\\": \\\"keep-all\\\", \\\"model\\\": \\\"elasticnet\\\", \\\"scale\\\": \\\"do-not-scale\\\", \\\"training_size\\\": \\\"2014\\\"}\"\n",
    "output_dir = \"output\"\n",
    "seed = \"2023\"\n"
   ]
  },
  {
   "cell_type": "code",
   "execution_count": 5,
   "id": "1650acaf",
   "metadata": {
    "execution": {
     "iopub.execute_input": "2025-07-28T11:10:05.342555Z",
     "iopub.status.busy": "2025-07-28T11:10:05.341503Z",
     "iopub.status.idle": "2025-07-28T11:10:05.347384Z",
     "shell.execute_reply": "2025-07-28T11:10:05.346415Z"
    },
    "papermill": {
     "duration": 0.027288,
     "end_time": "2025-07-28T11:10:05.349104",
     "exception": false,
     "start_time": "2025-07-28T11:10:05.321816",
     "status": "completed"
    },
    "tags": []
   },
   "outputs": [],
   "source": [
    "import json\n",
    "# Parse universe into dict if it is passed as a string\n",
    "if isinstance(universe, str):\n",
    "    universe = json.loads(universe)"
   ]
  },
  {
   "cell_type": "code",
   "execution_count": 6,
   "id": "16620c48",
   "metadata": {
    "execution": {
     "iopub.execute_input": "2025-07-28T11:10:05.389631Z",
     "iopub.status.busy": "2025-07-28T11:10:05.389135Z",
     "iopub.status.idle": "2025-07-28T11:10:05.427813Z",
     "shell.execute_reply": "2025-07-28T11:10:05.427113Z"
    },
    "papermill": {
     "duration": 0.061812,
     "end_time": "2025-07-28T11:10:05.429269",
     "exception": false,
     "start_time": "2025-07-28T11:10:05.367457",
     "status": "completed"
    },
    "tags": []
   },
   "outputs": [],
   "source": [
    "# Auto-reload the custom package\n",
    "%load_ext autoreload\n",
    "%autoreload 1\n",
    "%aimport fairness_multiverse"
   ]
  },
  {
   "cell_type": "code",
   "execution_count": 7,
   "id": "01c5c9f3",
   "metadata": {
    "execution": {
     "iopub.execute_input": "2025-07-28T11:10:05.451929Z",
     "iopub.status.busy": "2025-07-28T11:10:05.451183Z",
     "iopub.status.idle": "2025-07-28T11:10:07.523680Z",
     "shell.execute_reply": "2025-07-28T11:10:07.522680Z"
    },
    "papermill": {
     "duration": 2.085711,
     "end_time": "2025-07-28T11:10:07.525964",
     "exception": false,
     "start_time": "2025-07-28T11:10:05.440253",
     "status": "completed"
    },
    "tags": []
   },
   "outputs": [],
   "source": [
    "from fairness_multiverse.universe import UniverseAnalysis\n",
    "\n",
    "universe_analysis = UniverseAnalysis(\n",
    "    run_no = run_no,\n",
    "    universe_id = universe_id,\n",
    "    universe = universe,\n",
    "    output_dir=output_dir,\n",
    ")"
   ]
  },
  {
   "cell_type": "code",
   "execution_count": 8,
   "id": "106241f5",
   "metadata": {
    "execution": {
     "iopub.execute_input": "2025-07-28T11:10:07.572836Z",
     "iopub.status.busy": "2025-07-28T11:10:07.571783Z",
     "iopub.status.idle": "2025-07-28T11:10:07.579257Z",
     "shell.execute_reply": "2025-07-28T11:10:07.578305Z"
    },
    "papermill": {
     "duration": 0.032597,
     "end_time": "2025-07-28T11:10:07.581038",
     "exception": false,
     "start_time": "2025-07-28T11:10:07.548441",
     "status": "completed"
    },
    "tags": []
   },
   "outputs": [
    {
     "name": "stdout",
     "output_type": "stream",
     "text": [
      "Using Seed: 2023\n"
     ]
    }
   ],
   "source": [
    "import numpy as np\n",
    "parsed_seed = int(seed)\n",
    "np.random.seed(parsed_seed)\n",
    "print(f\"Using Seed: {parsed_seed}\")"
   ]
  },
  {
   "cell_type": "markdown",
   "id": "e0ebdc57",
   "metadata": {
    "papermill": {
     "duration": 0.020362,
     "end_time": "2025-07-28T11:10:07.623387",
     "exception": false,
     "start_time": "2025-07-28T11:10:07.603025",
     "status": "completed"
    },
    "tags": []
   },
   "source": [
    "# Loading Data"
   ]
  },
  {
   "cell_type": "markdown",
   "id": "681925a3",
   "metadata": {
    "papermill": {
     "duration": 0.022884,
     "end_time": "2025-07-28T11:10:07.668201",
     "exception": false,
     "start_time": "2025-07-28T11:10:07.645317",
     "status": "completed"
    },
    "tags": []
   },
   "source": [
    "Load siab_train, siab_test, siab_calib and/or \n",
    "load siab_train_features, siab_train_labels"
   ]
  },
  {
   "cell_type": "code",
   "execution_count": 9,
   "id": "f0496b8a",
   "metadata": {
    "execution": {
     "iopub.execute_input": "2025-07-28T11:10:07.711036Z",
     "iopub.status.busy": "2025-07-28T11:10:07.710310Z",
     "iopub.status.idle": "2025-07-28T11:10:19.313427Z",
     "shell.execute_reply": "2025-07-28T11:10:19.312051Z"
    },
    "papermill": {
     "duration": 11.624929,
     "end_time": "2025-07-28T11:10:19.315278",
     "exception": false,
     "start_time": "2025-07-28T11:10:07.690349",
     "status": "completed"
    },
    "tags": []
   },
   "outputs": [
    {
     "name": "stdout",
     "output_type": "stream",
     "text": [
      "Loading SIAB data from cache: data/siab_cached.csv.gz\n"
     ]
    },
    {
     "name": "stdout",
     "output_type": "stream",
     "text": [
      "(643690, 164)\n"
     ]
    }
   ],
   "source": [
    "from pathlib import Path\n",
    "import pandas as pd\n",
    "\n",
    "# File paths\n",
    "raw_file = Path(\"data/raw/siab.csv\")\n",
    "cache_file = Path(\"data/siab_cached.csv.gz\")\n",
    "\n",
    "# Ensure cache directory exists\n",
    "cache_file.parent.mkdir(parents=True, exist_ok=True)\n",
    "\n",
    "# Load with simple caching\n",
    "if cache_file.exists():\n",
    "    print(f\"Loading SIAB data from cache: {cache_file}\")\n",
    "    siab = pd.read_csv(cache_file, compression='gzip')\n",
    "else:\n",
    "    print(f\"Cache not found. Reading raw SIAB data: {raw_file}\")\n",
    "    siab = pd.read_csv(raw_file)\n",
    "    siab.to_csv(cache_file, index=False, compression='gzip')\n",
    "    print(f\"Cached SIAB data to: {cache_file}\")\n",
    "\n",
    "# Now use `siab` DataFrame as needed\n",
    "print(siab.shape)"
   ]
  },
  {
   "cell_type": "code",
   "execution_count": 10,
   "id": "db0ca512-5f53-4dba-abdb-a2888bca41ba",
   "metadata": {
    "execution": {
     "iopub.execute_input": "2025-07-28T11:10:19.360871Z",
     "iopub.status.busy": "2025-07-28T11:10:19.360150Z",
     "iopub.status.idle": "2025-07-28T11:10:19.366486Z",
     "shell.execute_reply": "2025-07-28T11:10:19.365278Z"
    },
    "papermill": {
     "duration": 0.029631,
     "end_time": "2025-07-28T11:10:19.368235",
     "exception": false,
     "start_time": "2025-07-28T11:10:19.338604",
     "status": "completed"
    },
    "tags": []
   },
   "outputs": [],
   "source": [
    "#siab"
   ]
  },
  {
   "cell_type": "code",
   "execution_count": 11,
   "id": "a0edb063",
   "metadata": {
    "execution": {
     "iopub.execute_input": "2025-07-28T11:10:19.412527Z",
     "iopub.status.busy": "2025-07-28T11:10:19.411863Z",
     "iopub.status.idle": "2025-07-28T11:10:19.417206Z",
     "shell.execute_reply": "2025-07-28T11:10:19.416236Z"
    },
    "papermill": {
     "duration": 0.028797,
     "end_time": "2025-07-28T11:10:19.418713",
     "exception": false,
     "start_time": "2025-07-28T11:10:19.389916",
     "status": "completed"
    },
    "tags": []
   },
   "outputs": [],
   "source": [
    "#import pandas as pd\n",
    "#\n",
    "#X_train = pd.read_csv(\"./data/X_train.csv\")\n",
    "#y_train = pd.read_csv(\"./data/y_train.csv\")"
   ]
  },
  {
   "cell_type": "code",
   "execution_count": 12,
   "id": "63d08085",
   "metadata": {
    "execution": {
     "iopub.execute_input": "2025-07-28T11:10:19.465582Z",
     "iopub.status.busy": "2025-07-28T11:10:19.465035Z",
     "iopub.status.idle": "2025-07-28T11:10:19.470412Z",
     "shell.execute_reply": "2025-07-28T11:10:19.469419Z"
    },
    "papermill": {
     "duration": 0.029168,
     "end_time": "2025-07-28T11:10:19.472113",
     "exception": false,
     "start_time": "2025-07-28T11:10:19.442945",
     "status": "completed"
    },
    "tags": []
   },
   "outputs": [],
   "source": [
    "#X_test = pd.read_csv(\"./data/X_test.csv\")\n",
    "#y_true = pd.read_csv(\"./data/y_test.csv\")"
   ]
  },
  {
   "cell_type": "code",
   "execution_count": 13,
   "id": "98a8d0fa-1d3d-4ed8-bb2c-281470e24add",
   "metadata": {
    "execution": {
     "iopub.execute_input": "2025-07-28T11:10:19.515990Z",
     "iopub.status.busy": "2025-07-28T11:10:19.515424Z",
     "iopub.status.idle": "2025-07-28T11:10:19.520866Z",
     "shell.execute_reply": "2025-07-28T11:10:19.519820Z"
    },
    "papermill": {
     "duration": 0.028781,
     "end_time": "2025-07-28T11:10:19.522522",
     "exception": false,
     "start_time": "2025-07-28T11:10:19.493741",
     "status": "completed"
    },
    "tags": []
   },
   "outputs": [],
   "source": [
    "# Calibration data for conformal\n",
    "#X_calib = pd.read_csv(\"./data/X_calib.csv\")\n",
    "#y_calib = pd.read_csv(\"./data/y_calib.csv\")"
   ]
  },
  {
   "cell_type": "markdown",
   "id": "9901737e-04df-44f0-9100-f5ad144ed040",
   "metadata": {
    "papermill": {
     "duration": 0.022895,
     "end_time": "2025-07-28T11:10:19.567567",
     "exception": false,
     "start_time": "2025-07-28T11:10:19.544672",
     "status": "completed"
    },
    "tags": []
   },
   "source": [
    "# Splitting Data and Setting Training Data Size"
   ]
  },
  {
   "cell_type": "code",
   "execution_count": 14,
   "id": "acbc8f7d-8fc8-4e86-8c59-5dcb0f58384b",
   "metadata": {
    "execution": {
     "iopub.execute_input": "2025-07-28T11:10:19.613230Z",
     "iopub.status.busy": "2025-07-28T11:10:19.612420Z",
     "iopub.status.idle": "2025-07-28T11:10:19.622050Z",
     "shell.execute_reply": "2025-07-28T11:10:19.620983Z"
    },
    "papermill": {
     "duration": 0.034466,
     "end_time": "2025-07-28T11:10:19.623974",
     "exception": false,
     "start_time": "2025-07-28T11:10:19.589508",
     "status": "completed"
    },
    "tags": []
   },
   "outputs": [],
   "source": [
    "def sample_by_year(df, training_size, random_state=42):\n",
    "    if training_size == \"2014\":\n",
    "        return df[df[\"year\"] == 2014].reset_index(drop=True)\n",
    "    \n",
    "    size_map = {\n",
    "        \"25k\": 5000,\n",
    "        \"5k\": 1000,\n",
    "        \"1k\": 200\n",
    "    }\n",
    "\n",
    "    if training_size not in size_map:\n",
    "        return df.reset_index(drop=True)  # use all data\n",
    "\n",
    "    n_per_year = size_map[training_size]\n",
    "    grouped = df.groupby(\"year\")\n",
    "    sampled = grouped.apply(lambda x: x.sample(n=min(n_per_year, len(x)), random_state=random_state))\n",
    "    return sampled.reset_index(drop=True)"
   ]
  },
  {
   "cell_type": "code",
   "execution_count": 15,
   "id": "6d931f52-beaf-43ff-9e78-9d44a448d54e",
   "metadata": {
    "execution": {
     "iopub.execute_input": "2025-07-28T11:10:19.670192Z",
     "iopub.status.busy": "2025-07-28T11:10:19.669357Z",
     "iopub.status.idle": "2025-07-28T11:10:19.810799Z",
     "shell.execute_reply": "2025-07-28T11:10:19.809940Z"
    },
    "papermill": {
     "duration": 0.167043,
     "end_time": "2025-07-28T11:10:19.812894",
     "exception": false,
     "start_time": "2025-07-28T11:10:19.645851",
     "status": "completed"
    },
    "tags": []
   },
   "outputs": [],
   "source": [
    "siab_s = sample_by_year(siab, universe[\"training_size\"])"
   ]
  },
  {
   "cell_type": "code",
   "execution_count": 16,
   "id": "5db0a40e-a4e2-4920-be85-b12ae061d70d",
   "metadata": {
    "execution": {
     "iopub.execute_input": "2025-07-28T11:10:19.858744Z",
     "iopub.status.busy": "2025-07-28T11:10:19.858240Z",
     "iopub.status.idle": "2025-07-28T11:10:19.874387Z",
     "shell.execute_reply": "2025-07-28T11:10:19.873328Z"
    },
    "papermill": {
     "duration": 0.041356,
     "end_time": "2025-07-28T11:10:19.876251",
     "exception": false,
     "start_time": "2025-07-28T11:10:19.834895",
     "status": "completed"
    },
    "tags": []
   },
   "outputs": [
    {
     "data": {
      "text/plain": [
       "year\n",
       "2014    87158\n",
       "dtype: int64"
      ]
     },
     "metadata": {},
     "output_type": "display_data"
    }
   ],
   "source": [
    "display(siab_s.groupby(\"year\").size())"
   ]
  },
  {
   "cell_type": "code",
   "execution_count": 17,
   "id": "a561edb4-d032-42cb-8256-22eac1111c64",
   "metadata": {
    "execution": {
     "iopub.execute_input": "2025-07-28T11:10:19.923211Z",
     "iopub.status.busy": "2025-07-28T11:10:19.922424Z",
     "iopub.status.idle": "2025-07-28T11:10:20.240534Z",
     "shell.execute_reply": "2025-07-28T11:10:20.239424Z"
    },
    "papermill": {
     "duration": 0.344772,
     "end_time": "2025-07-28T11:10:20.242975",
     "exception": false,
     "start_time": "2025-07-28T11:10:19.898203",
     "status": "completed"
    },
    "tags": []
   },
   "outputs": [],
   "source": [
    "siab_train = siab_s[siab_s.year < 2015]\n",
    "siab_calib = siab[siab.year == 2015]\n",
    "siab_test = siab[siab.year == 2016]"
   ]
  },
  {
   "cell_type": "code",
   "execution_count": 18,
   "id": "472de16f-c3db-4916-846b-1f0de9cf1746",
   "metadata": {
    "execution": {
     "iopub.execute_input": "2025-07-28T11:10:20.286591Z",
     "iopub.status.busy": "2025-07-28T11:10:20.286179Z",
     "iopub.status.idle": "2025-07-28T11:10:20.340102Z",
     "shell.execute_reply": "2025-07-28T11:10:20.338933Z"
    },
    "papermill": {
     "duration": 0.077284,
     "end_time": "2025-07-28T11:10:20.341992",
     "exception": false,
     "start_time": "2025-07-28T11:10:20.264708",
     "status": "completed"
    },
    "tags": []
   },
   "outputs": [],
   "source": [
    "X_train = siab_train.iloc[:,4:164]\n",
    "y_train = siab_train.iloc[:, [3]]"
   ]
  },
  {
   "cell_type": "code",
   "execution_count": 19,
   "id": "828c96af-f43a-4ed6-ba47-8ac73a47d56c",
   "metadata": {
    "execution": {
     "iopub.execute_input": "2025-07-28T11:10:20.388178Z",
     "iopub.status.busy": "2025-07-28T11:10:20.387641Z",
     "iopub.status.idle": "2025-07-28T11:10:20.449101Z",
     "shell.execute_reply": "2025-07-28T11:10:20.447931Z"
    },
    "papermill": {
     "duration": 0.086054,
     "end_time": "2025-07-28T11:10:20.451170",
     "exception": false,
     "start_time": "2025-07-28T11:10:20.365116",
     "status": "completed"
    },
    "tags": []
   },
   "outputs": [],
   "source": [
    "X_calib = siab_calib.iloc[:,4:164]\n",
    "y_calib = siab_calib.iloc[:, [3]]"
   ]
  },
  {
   "cell_type": "code",
   "execution_count": 20,
   "id": "c34be9c3-6bd6-476e-acd3-845840e303be",
   "metadata": {
    "execution": {
     "iopub.execute_input": "2025-07-28T11:10:20.497444Z",
     "iopub.status.busy": "2025-07-28T11:10:20.496671Z",
     "iopub.status.idle": "2025-07-28T11:10:20.556471Z",
     "shell.execute_reply": "2025-07-28T11:10:20.555338Z"
    },
    "papermill": {
     "duration": 0.085076,
     "end_time": "2025-07-28T11:10:20.558533",
     "exception": false,
     "start_time": "2025-07-28T11:10:20.473457",
     "status": "completed"
    },
    "tags": []
   },
   "outputs": [],
   "source": [
    "X_test = siab_test.iloc[:,4:164]\n",
    "y_true = siab_test.iloc[:, [3]]"
   ]
  },
  {
   "cell_type": "code",
   "execution_count": 21,
   "id": "e6c733c5",
   "metadata": {
    "execution": {
     "iopub.execute_input": "2025-07-28T11:10:20.604182Z",
     "iopub.status.busy": "2025-07-28T11:10:20.603612Z",
     "iopub.status.idle": "2025-07-28T11:10:20.750173Z",
     "shell.execute_reply": "2025-07-28T11:10:20.749174Z"
    },
    "papermill": {
     "duration": 0.171298,
     "end_time": "2025-07-28T11:10:20.752488",
     "exception": false,
     "start_time": "2025-07-28T11:10:20.581190",
     "status": "completed"
    },
    "tags": []
   },
   "outputs": [],
   "source": [
    "# Auxiliary data needed downstream in the pipeline\n",
    "\n",
    "org_train = X_train.copy()\n",
    "org_test = X_test.copy()\n",
    "org_calib = X_calib.copy()"
   ]
  },
  {
   "cell_type": "markdown",
   "id": "0a4a1b33",
   "metadata": {
    "papermill": {
     "duration": 0.021957,
     "end_time": "2025-07-28T11:10:20.796839",
     "exception": false,
     "start_time": "2025-07-28T11:10:20.774882",
     "status": "completed"
    },
    "tags": []
   },
   "source": [
    "# Preprocessing Data"
   ]
  },
  {
   "cell_type": "code",
   "execution_count": 22,
   "id": "ca879031",
   "metadata": {
    "execution": {
     "iopub.execute_input": "2025-07-28T11:10:20.842253Z",
     "iopub.status.busy": "2025-07-28T11:10:20.841507Z",
     "iopub.status.idle": "2025-07-28T11:10:20.848291Z",
     "shell.execute_reply": "2025-07-28T11:10:20.847250Z"
    },
    "papermill": {
     "duration": 0.031884,
     "end_time": "2025-07-28T11:10:20.850122",
     "exception": false,
     "start_time": "2025-07-28T11:10:20.818238",
     "status": "completed"
    },
    "tags": []
   },
   "outputs": [],
   "source": [
    "# EXCLUDE PROTECTED FEATURES\n",
    "# ----------------------\n",
    "# \"exclude_features\": \"none\", # \"nationality\", \"sex\", \"nationality-sex\"\n",
    "\n",
    "excluded_features = universe[\"exclude_features\"].split(\"-\") # split, e.g.: \"nationality-sex\" -> [\"nationality\", \"sex\"]\n",
    "excluded_features_dictionary = {\n",
    "    \"nationality\": [\"maxdeutsch1\", \"maxdeutsch.Missing.\"],\n",
    "    \"sex\": [\"frau1\"],\n",
    "    \"age\": [\"age\"],\n",
    "}\n"
   ]
  },
  {
   "cell_type": "code",
   "execution_count": 23,
   "id": "b745ac60",
   "metadata": {
    "execution": {
     "iopub.execute_input": "2025-07-28T11:10:20.897496Z",
     "iopub.status.busy": "2025-07-28T11:10:20.896508Z",
     "iopub.status.idle": "2025-07-28T11:10:20.903184Z",
     "shell.execute_reply": "2025-07-28T11:10:20.902160Z"
    },
    "papermill": {
     "duration": 0.031962,
     "end_time": "2025-07-28T11:10:20.904837",
     "exception": false,
     "start_time": "2025-07-28T11:10:20.872875",
     "status": "completed"
    },
    "tags": []
   },
   "outputs": [],
   "source": [
    "# Code nice names to column names\n",
    "\n",
    "excluded_features_columns = [\n",
    "    excluded_features_dictionary[f] for f in excluded_features if len(f) > 0 and f != \"none\"\n",
    "]"
   ]
  },
  {
   "cell_type": "code",
   "execution_count": 24,
   "id": "f84f73a2",
   "metadata": {
    "execution": {
     "iopub.execute_input": "2025-07-28T11:10:20.950947Z",
     "iopub.status.busy": "2025-07-28T11:10:20.949918Z",
     "iopub.status.idle": "2025-07-28T11:10:20.957082Z",
     "shell.execute_reply": "2025-07-28T11:10:20.956006Z"
    },
    "papermill": {
     "duration": 0.032083,
     "end_time": "2025-07-28T11:10:20.958927",
     "exception": false,
     "start_time": "2025-07-28T11:10:20.926844",
     "status": "completed"
    },
    "tags": []
   },
   "outputs": [],
   "source": [
    "from utils import flatten_once\n",
    "\n",
    "excluded_features_columns = flatten_once(excluded_features_columns)"
   ]
  },
  {
   "cell_type": "code",
   "execution_count": 25,
   "id": "884dea22",
   "metadata": {
    "execution": {
     "iopub.execute_input": "2025-07-28T11:10:21.006505Z",
     "iopub.status.busy": "2025-07-28T11:10:21.005698Z",
     "iopub.status.idle": "2025-07-28T11:10:21.012091Z",
     "shell.execute_reply": "2025-07-28T11:10:21.011097Z"
    },
    "papermill": {
     "duration": 0.031127,
     "end_time": "2025-07-28T11:10:21.013779",
     "exception": false,
     "start_time": "2025-07-28T11:10:20.982652",
     "status": "completed"
    },
    "tags": []
   },
   "outputs": [],
   "source": [
    "if len(excluded_features_columns) > 0:\n",
    "    print(f\"Dropping features: {excluded_features_columns}\")\n",
    "    X_train.drop(excluded_features_columns, axis=1, inplace=True)"
   ]
  },
  {
   "cell_type": "code",
   "execution_count": 26,
   "id": "95ab8b16",
   "metadata": {
    "execution": {
     "iopub.execute_input": "2025-07-28T11:10:21.060757Z",
     "iopub.status.busy": "2025-07-28T11:10:21.060219Z",
     "iopub.status.idle": "2025-07-28T11:10:21.065977Z",
     "shell.execute_reply": "2025-07-28T11:10:21.065027Z"
    },
    "papermill": {
     "duration": 0.030674,
     "end_time": "2025-07-28T11:10:21.067656",
     "exception": false,
     "start_time": "2025-07-28T11:10:21.036982",
     "status": "completed"
    },
    "tags": []
   },
   "outputs": [],
   "source": [
    "if len(excluded_features_columns) > 0:\n",
    "    print(f\"Dropping features: {excluded_features_columns}\")\n",
    "    X_test.drop(excluded_features_columns, axis=1, inplace=True)"
   ]
  },
  {
   "cell_type": "code",
   "execution_count": 27,
   "id": "1853aaf5-fb9f-46cb-a2b5-8ea4ae2237e4",
   "metadata": {
    "execution": {
     "iopub.execute_input": "2025-07-28T11:10:21.113787Z",
     "iopub.status.busy": "2025-07-28T11:10:21.113245Z",
     "iopub.status.idle": "2025-07-28T11:10:21.119356Z",
     "shell.execute_reply": "2025-07-28T11:10:21.118354Z"
    },
    "papermill": {
     "duration": 0.032314,
     "end_time": "2025-07-28T11:10:21.122825",
     "exception": false,
     "start_time": "2025-07-28T11:10:21.090511",
     "status": "completed"
    },
    "tags": []
   },
   "outputs": [],
   "source": [
    "if len(excluded_features_columns) > 0:\n",
    "    print(f\"Dropping features: {excluded_features_columns}\")\n",
    "    X_calib.drop(excluded_features_columns, axis=1, inplace=True)"
   ]
  },
  {
   "cell_type": "code",
   "execution_count": 28,
   "id": "6727d079-03e5-481e-9d38-292a90b7a0a8",
   "metadata": {
    "execution": {
     "iopub.execute_input": "2025-07-28T11:10:21.171586Z",
     "iopub.status.busy": "2025-07-28T11:10:21.171016Z",
     "iopub.status.idle": "2025-07-28T11:10:21.176911Z",
     "shell.execute_reply": "2025-07-28T11:10:21.175851Z"
    },
    "papermill": {
     "duration": 0.032051,
     "end_time": "2025-07-28T11:10:21.178859",
     "exception": false,
     "start_time": "2025-07-28T11:10:21.146808",
     "status": "completed"
    },
    "tags": []
   },
   "outputs": [],
   "source": [
    "# SPLIT & STRATIFY DATA\n",
    "# ----------------------"
   ]
  },
  {
   "cell_type": "code",
   "execution_count": 29,
   "id": "76c4dc6d",
   "metadata": {
    "execution": {
     "iopub.execute_input": "2025-07-28T11:10:21.227259Z",
     "iopub.status.busy": "2025-07-28T11:10:21.226548Z",
     "iopub.status.idle": "2025-07-28T11:10:21.231901Z",
     "shell.execute_reply": "2025-07-28T11:10:21.231014Z"
    },
    "papermill": {
     "duration": 0.030897,
     "end_time": "2025-07-28T11:10:21.233216",
     "exception": false,
     "start_time": "2025-07-28T11:10:21.202319",
     "status": "completed"
    },
    "tags": []
   },
   "outputs": [],
   "source": [
    "# EXCLUDE CERTAIN SUBGROUPS\n",
    "# ----------------------\n",
    "\n",
    "mode = universe.get(\"exclude_subgroups\", \"keep-all\") \n",
    "# Fetches the exclude_subgroups setting from the universe dict.\n",
    "# Defaults to \"keep-all\" if the key is missing."
   ]
  },
  {
   "cell_type": "code",
   "execution_count": 30,
   "id": "21994072",
   "metadata": {
    "execution": {
     "iopub.execute_input": "2025-07-28T11:10:21.258241Z",
     "iopub.status.busy": "2025-07-28T11:10:21.257528Z",
     "iopub.status.idle": "2025-07-28T11:10:21.264660Z",
     "shell.execute_reply": "2025-07-28T11:10:21.263877Z"
    },
    "papermill": {
     "duration": 0.020732,
     "end_time": "2025-07-28T11:10:21.265925",
     "exception": false,
     "start_time": "2025-07-28T11:10:21.245193",
     "status": "completed"
    },
    "tags": []
   },
   "outputs": [],
   "source": [
    "if mode == \"keep-all\":\n",
    "    keep_mask = pd.Series(True, index=org_train.index)\n",
    "\n",
    "# org_train contains the original feature columns from features_org (in Simson)\n",
    "# features_org contains unprocessed features, for me X_train at beginning ???\n",
    "# For keep-all, creates a boolean Series (keep_mask) of all True, so no rows are removed.\n",
    "\n",
    "elif mode == \"drop-non-german\":\n",
    "    keep_mask = org_train[\"maxdeutsch1\"] == 1 # ??? what about missing values?\n",
    "\n",
    "else:\n",
    "    raise ValueError(f\"Unsupported mode for exclude_subgroups: {mode}\")\n"
   ]
  },
  {
   "cell_type": "code",
   "execution_count": 31,
   "id": "71651440",
   "metadata": {
    "execution": {
     "iopub.execute_input": "2025-07-28T11:10:21.290643Z",
     "iopub.status.busy": "2025-07-28T11:10:21.290197Z",
     "iopub.status.idle": "2025-07-28T11:10:21.297066Z",
     "shell.execute_reply": "2025-07-28T11:10:21.296254Z"
    },
    "papermill": {
     "duration": 0.020361,
     "end_time": "2025-07-28T11:10:21.298289",
     "exception": false,
     "start_time": "2025-07-28T11:10:21.277928",
     "status": "completed"
    },
    "tags": []
   },
   "outputs": [],
   "source": [
    "n_drop = (~keep_mask).sum() # Calculates how many rows are set to be dropped\n",
    "if n_drop > 0:\n",
    "    pct = n_drop / len(keep_mask) * 100\n",
    "    print(f\"Dropping {n_drop} rows ({pct:.2f}%) where mode='{mode}'\")"
   ]
  },
  {
   "cell_type": "code",
   "execution_count": 32,
   "id": "5fb8eee5",
   "metadata": {
    "execution": {
     "iopub.execute_input": "2025-07-28T11:10:21.324277Z",
     "iopub.status.busy": "2025-07-28T11:10:21.323703Z",
     "iopub.status.idle": "2025-07-28T11:10:21.397178Z",
     "shell.execute_reply": "2025-07-28T11:10:21.396052Z"
    },
    "papermill": {
     "duration": 0.089101,
     "end_time": "2025-07-28T11:10:21.399886",
     "exception": false,
     "start_time": "2025-07-28T11:10:21.310785",
     "status": "completed"
    },
    "tags": []
   },
   "outputs": [],
   "source": [
    "X_train = X_train[keep_mask]"
   ]
  },
  {
   "cell_type": "code",
   "execution_count": 33,
   "id": "b202bb3a",
   "metadata": {
    "execution": {
     "iopub.execute_input": "2025-07-28T11:10:21.451287Z",
     "iopub.status.busy": "2025-07-28T11:10:21.450728Z",
     "iopub.status.idle": "2025-07-28T11:10:21.459161Z",
     "shell.execute_reply": "2025-07-28T11:10:21.458188Z"
    },
    "papermill": {
     "duration": 0.036126,
     "end_time": "2025-07-28T11:10:21.461321",
     "exception": false,
     "start_time": "2025-07-28T11:10:21.425195",
     "status": "completed"
    },
    "tags": []
   },
   "outputs": [],
   "source": [
    "y_train = y_train[keep_mask]"
   ]
  },
  {
   "cell_type": "markdown",
   "id": "493e2ac3",
   "metadata": {
    "papermill": {
     "duration": 0.023063,
     "end_time": "2025-07-28T11:10:21.508196",
     "exception": false,
     "start_time": "2025-07-28T11:10:21.485133",
     "status": "completed"
    },
    "tags": []
   },
   "source": [
    "# Model Training"
   ]
  },
  {
   "cell_type": "code",
   "execution_count": 34,
   "id": "679e1268",
   "metadata": {
    "execution": {
     "iopub.execute_input": "2025-07-28T11:10:21.556151Z",
     "iopub.status.busy": "2025-07-28T11:10:21.555624Z",
     "iopub.status.idle": "2025-07-28T11:10:21.675064Z",
     "shell.execute_reply": "2025-07-28T11:10:21.674099Z"
    },
    "papermill": {
     "duration": 0.145965,
     "end_time": "2025-07-28T11:10:21.677467",
     "exception": false,
     "start_time": "2025-07-28T11:10:21.531502",
     "status": "completed"
    },
    "tags": []
   },
   "outputs": [],
   "source": [
    "from sklearn.linear_model import LogisticRegression\n",
    "from sklearn.ensemble import GradientBoostingClassifier, RandomForestClassifier\n",
    "\n",
    "if (universe[\"model\"] == \"logreg\"):\n",
    "    model = LogisticRegression() #penalty=\"none\") #, solver=\"newton-cg\", max_iter=1) # include random_state=19 ?\n",
    "elif (universe[\"model\"] == \"penalized_logreg\"):\n",
    "    model = LogisticRegression(penalty=\"l2\", C=1.0) #, solver=\"newton-cg\", max_iter=1)\n",
    "elif (universe[\"model\"] == \"rf\"):\n",
    "    model = RandomForestClassifier(n_estimators=100, n_jobs=-1)\n",
    "elif (universe[\"model\"] == \"gbm\"):\n",
    "    model = GradientBoostingClassifier()\n",
    "elif (universe[\"model\"] == \"elasticnet\"):\n",
    "    model = LogisticRegression(penalty = 'elasticnet', solver = 'saga', l1_ratio = 0.5, max_iter=5000) # which solver to use?\n",
    "else:\n",
    "    raise \"Unsupported universe.model\""
   ]
  },
  {
   "cell_type": "code",
   "execution_count": 35,
   "id": "0cc8f744",
   "metadata": {
    "execution": {
     "iopub.execute_input": "2025-07-28T11:10:21.721808Z",
     "iopub.status.busy": "2025-07-28T11:10:21.720978Z",
     "iopub.status.idle": "2025-07-28T11:10:21.727803Z",
     "shell.execute_reply": "2025-07-28T11:10:21.726734Z"
    },
    "papermill": {
     "duration": 0.037695,
     "end_time": "2025-07-28T11:10:21.736087",
     "exception": false,
     "start_time": "2025-07-28T11:10:21.698392",
     "status": "completed"
    },
    "tags": []
   },
   "outputs": [],
   "source": [
    "import numpy as np\n",
    "from sklearn.pipeline import Pipeline\n",
    "from sklearn.preprocessing import StandardScaler\n",
    "\n",
    "model = Pipeline([\n",
    "    #(\"continuous_processor\", continuous_processor),\n",
    "    #(\"categorical_preprocessor\", categorical_preprocessor),\n",
    "    (\"scale\", StandardScaler() if universe[\"scale\"] == \"scale\" else None), \n",
    "    (\"model\", model),\n",
    "])"
   ]
  },
  {
   "cell_type": "code",
   "execution_count": 36,
   "id": "9442c04d",
   "metadata": {
    "execution": {
     "iopub.execute_input": "2025-07-28T11:10:21.772985Z",
     "iopub.status.busy": "2025-07-28T11:10:21.772490Z",
     "iopub.status.idle": "2025-07-28T11:27:04.298426Z",
     "shell.execute_reply": "2025-07-28T11:27:04.297195Z"
    },
    "papermill": {
     "duration": 1002.571627,
     "end_time": "2025-07-28T11:27:04.328746",
     "exception": false,
     "start_time": "2025-07-28T11:10:21.757119",
     "status": "completed"
    },
    "tags": []
   },
   "outputs": [
    {
     "data": {
      "text/html": [
       "<style>#sk-container-id-1 {color: black;background-color: white;}#sk-container-id-1 pre{padding: 0;}#sk-container-id-1 div.sk-toggleable {background-color: white;}#sk-container-id-1 label.sk-toggleable__label {cursor: pointer;display: block;width: 100%;margin-bottom: 0;padding: 0.3em;box-sizing: border-box;text-align: center;}#sk-container-id-1 label.sk-toggleable__label-arrow:before {content: \"▸\";float: left;margin-right: 0.25em;color: #696969;}#sk-container-id-1 label.sk-toggleable__label-arrow:hover:before {color: black;}#sk-container-id-1 div.sk-estimator:hover label.sk-toggleable__label-arrow:before {color: black;}#sk-container-id-1 div.sk-toggleable__content {max-height: 0;max-width: 0;overflow: hidden;text-align: left;background-color: #f0f8ff;}#sk-container-id-1 div.sk-toggleable__content pre {margin: 0.2em;color: black;border-radius: 0.25em;background-color: #f0f8ff;}#sk-container-id-1 input.sk-toggleable__control:checked~div.sk-toggleable__content {max-height: 200px;max-width: 100%;overflow: auto;}#sk-container-id-1 input.sk-toggleable__control:checked~label.sk-toggleable__label-arrow:before {content: \"▾\";}#sk-container-id-1 div.sk-estimator input.sk-toggleable__control:checked~label.sk-toggleable__label {background-color: #d4ebff;}#sk-container-id-1 div.sk-label input.sk-toggleable__control:checked~label.sk-toggleable__label {background-color: #d4ebff;}#sk-container-id-1 input.sk-hidden--visually {border: 0;clip: rect(1px 1px 1px 1px);clip: rect(1px, 1px, 1px, 1px);height: 1px;margin: -1px;overflow: hidden;padding: 0;position: absolute;width: 1px;}#sk-container-id-1 div.sk-estimator {font-family: monospace;background-color: #f0f8ff;border: 1px dotted black;border-radius: 0.25em;box-sizing: border-box;margin-bottom: 0.5em;}#sk-container-id-1 div.sk-estimator:hover {background-color: #d4ebff;}#sk-container-id-1 div.sk-parallel-item::after {content: \"\";width: 100%;border-bottom: 1px solid gray;flex-grow: 1;}#sk-container-id-1 div.sk-label:hover label.sk-toggleable__label {background-color: #d4ebff;}#sk-container-id-1 div.sk-serial::before {content: \"\";position: absolute;border-left: 1px solid gray;box-sizing: border-box;top: 0;bottom: 0;left: 50%;z-index: 0;}#sk-container-id-1 div.sk-serial {display: flex;flex-direction: column;align-items: center;background-color: white;padding-right: 0.2em;padding-left: 0.2em;position: relative;}#sk-container-id-1 div.sk-item {position: relative;z-index: 1;}#sk-container-id-1 div.sk-parallel {display: flex;align-items: stretch;justify-content: center;background-color: white;position: relative;}#sk-container-id-1 div.sk-item::before, #sk-container-id-1 div.sk-parallel-item::before {content: \"\";position: absolute;border-left: 1px solid gray;box-sizing: border-box;top: 0;bottom: 0;left: 50%;z-index: -1;}#sk-container-id-1 div.sk-parallel-item {display: flex;flex-direction: column;z-index: 1;position: relative;background-color: white;}#sk-container-id-1 div.sk-parallel-item:first-child::after {align-self: flex-end;width: 50%;}#sk-container-id-1 div.sk-parallel-item:last-child::after {align-self: flex-start;width: 50%;}#sk-container-id-1 div.sk-parallel-item:only-child::after {width: 0;}#sk-container-id-1 div.sk-dashed-wrapped {border: 1px dashed gray;margin: 0 0.4em 0.5em 0.4em;box-sizing: border-box;padding-bottom: 0.4em;background-color: white;}#sk-container-id-1 div.sk-label label {font-family: monospace;font-weight: bold;display: inline-block;line-height: 1.2em;}#sk-container-id-1 div.sk-label-container {text-align: center;}#sk-container-id-1 div.sk-container {/* jupyter's `normalize.less` sets `[hidden] { display: none; }` but bootstrap.min.css set `[hidden] { display: none !important; }` so we also need the `!important` here to be able to override the default hidden behavior on the sphinx rendered scikit-learn.org. See: https://github.com/scikit-learn/scikit-learn/issues/21755 */display: inline-block !important;position: relative;}#sk-container-id-1 div.sk-text-repr-fallback {display: none;}</style><div id=\"sk-container-id-1\" class=\"sk-top-container\"><div class=\"sk-text-repr-fallback\"><pre>Pipeline(steps=[(&#x27;scale&#x27;, None),\n",
       "                (&#x27;model&#x27;,\n",
       "                 LogisticRegression(l1_ratio=0.5, max_iter=5000,\n",
       "                                    penalty=&#x27;elasticnet&#x27;, solver=&#x27;saga&#x27;))])</pre><b>In a Jupyter environment, please rerun this cell to show the HTML representation or trust the notebook. <br />On GitHub, the HTML representation is unable to render, please try loading this page with nbviewer.org.</b></div><div class=\"sk-container\" hidden><div class=\"sk-item sk-dashed-wrapped\"><div class=\"sk-label-container\"><div class=\"sk-label sk-toggleable\"><input class=\"sk-toggleable__control sk-hidden--visually\" id=\"sk-estimator-id-1\" type=\"checkbox\" ><label for=\"sk-estimator-id-1\" class=\"sk-toggleable__label sk-toggleable__label-arrow\">Pipeline</label><div class=\"sk-toggleable__content\"><pre>Pipeline(steps=[(&#x27;scale&#x27;, None),\n",
       "                (&#x27;model&#x27;,\n",
       "                 LogisticRegression(l1_ratio=0.5, max_iter=5000,\n",
       "                                    penalty=&#x27;elasticnet&#x27;, solver=&#x27;saga&#x27;))])</pre></div></div></div><div class=\"sk-serial\"><div class=\"sk-item\"><div class=\"sk-estimator sk-toggleable\"><input class=\"sk-toggleable__control sk-hidden--visually\" id=\"sk-estimator-id-2\" type=\"checkbox\" ><label for=\"sk-estimator-id-2\" class=\"sk-toggleable__label sk-toggleable__label-arrow\">None</label><div class=\"sk-toggleable__content\"><pre>None</pre></div></div></div><div class=\"sk-item\"><div class=\"sk-estimator sk-toggleable\"><input class=\"sk-toggleable__control sk-hidden--visually\" id=\"sk-estimator-id-3\" type=\"checkbox\" ><label for=\"sk-estimator-id-3\" class=\"sk-toggleable__label sk-toggleable__label-arrow\">LogisticRegression</label><div class=\"sk-toggleable__content\"><pre>LogisticRegression(l1_ratio=0.5, max_iter=5000, penalty=&#x27;elasticnet&#x27;,\n",
       "                   solver=&#x27;saga&#x27;)</pre></div></div></div></div></div></div></div>"
      ],
      "text/plain": [
       "Pipeline(steps=[('scale', None),\n",
       "                ('model',\n",
       "                 LogisticRegression(l1_ratio=0.5, max_iter=5000,\n",
       "                                    penalty='elasticnet', solver='saga'))])"
      ]
     },
     "execution_count": 36,
     "metadata": {},
     "output_type": "execute_result"
    }
   ],
   "source": [
    "model.fit(X_train, y_train.values.ravel())"
   ]
  },
  {
   "cell_type": "code",
   "execution_count": 37,
   "id": "af59f8c0",
   "metadata": {
    "execution": {
     "iopub.execute_input": "2025-07-28T11:27:04.380002Z",
     "iopub.status.busy": "2025-07-28T11:27:04.379424Z",
     "iopub.status.idle": "2025-07-28T11:27:04.385745Z",
     "shell.execute_reply": "2025-07-28T11:27:04.384842Z"
    },
    "papermill": {
     "duration": 0.033086,
     "end_time": "2025-07-28T11:27:04.387378",
     "exception": false,
     "start_time": "2025-07-28T11:27:04.354292",
     "status": "completed"
    },
    "tags": []
   },
   "outputs": [],
   "source": [
    "from fairness_multiverse.universe import predict_w_threshold"
   ]
  },
  {
   "cell_type": "code",
   "execution_count": 38,
   "id": "a7cf2e16",
   "metadata": {
    "execution": {
     "iopub.execute_input": "2025-07-28T11:27:04.438369Z",
     "iopub.status.busy": "2025-07-28T11:27:04.437816Z",
     "iopub.status.idle": "2025-07-28T11:27:04.553752Z",
     "shell.execute_reply": "2025-07-28T11:27:04.552839Z"
    },
    "papermill": {
     "duration": 0.145257,
     "end_time": "2025-07-28T11:27:04.555436",
     "exception": false,
     "start_time": "2025-07-28T11:27:04.410179",
     "status": "completed"
    },
    "tags": []
   },
   "outputs": [
    {
     "data": {
      "text/plain": [
       "0.8594916954631591"
      ]
     },
     "execution_count": 38,
     "metadata": {},
     "output_type": "execute_result"
    }
   ],
   "source": [
    "probs_test = model.predict_proba(X_test)\n",
    "\n",
    "'''\n",
    "Below code returns a boolean array (or binary 0/1 array depending on how it’s used) where each element \n",
    "is True if the probability of class 1 is greater than or equal to the threshold, and False otherwise.\n",
    "'''\n",
    "y_pred_default = predict_w_threshold(probs_test, 0.5)\n",
    "\n",
    "from sklearn.metrics import accuracy_score\n",
    "\n",
    "# Naive prediction\n",
    "accuracy_score(y_true = y_true, y_pred = y_pred_default)"
   ]
  },
  {
   "cell_type": "code",
   "execution_count": 39,
   "id": "081964c3",
   "metadata": {
    "execution": {
     "iopub.execute_input": "2025-07-28T11:27:04.603224Z",
     "iopub.status.busy": "2025-07-28T11:27:04.602731Z",
     "iopub.status.idle": "2025-07-28T11:27:04.692134Z",
     "shell.execute_reply": "2025-07-28T11:27:04.691212Z"
    },
    "papermill": {
     "duration": 0.115139,
     "end_time": "2025-07-28T11:27:04.693885",
     "exception": false,
     "start_time": "2025-07-28T11:27:04.578746",
     "status": "completed"
    },
    "tags": []
   },
   "outputs": [
    {
     "data": {
      "text/plain": [
       "array([0, 0, 0, ..., 0, 0, 0])"
      ]
     },
     "execution_count": 39,
     "metadata": {},
     "output_type": "execute_result"
    }
   ],
   "source": [
    "model.predict(X_test)"
   ]
  },
  {
   "cell_type": "markdown",
   "id": "56c9705b",
   "metadata": {
    "papermill": {
     "duration": 0.025211,
     "end_time": "2025-07-28T11:27:04.746394",
     "exception": false,
     "start_time": "2025-07-28T11:27:04.721183",
     "status": "completed"
    },
    "tags": []
   },
   "source": [
    "# Conformal Prediction"
   ]
  },
  {
   "cell_type": "code",
   "execution_count": 40,
   "id": "160ec6ff",
   "metadata": {
    "execution": {
     "iopub.execute_input": "2025-07-28T11:27:04.797230Z",
     "iopub.status.busy": "2025-07-28T11:27:04.796170Z",
     "iopub.status.idle": "2025-07-28T11:27:04.801745Z",
     "shell.execute_reply": "2025-07-28T11:27:04.800761Z"
    },
    "papermill": {
     "duration": 0.034085,
     "end_time": "2025-07-28T11:27:04.803340",
     "exception": false,
     "start_time": "2025-07-28T11:27:04.769255",
     "status": "completed"
    },
    "tags": []
   },
   "outputs": [],
   "source": [
    "# Miscoverage level for conformal prediction (10% allowed error rate => 90% target coverage)\n",
    "alpha = 0.1"
   ]
  },
  {
   "cell_type": "code",
   "execution_count": 41,
   "id": "eadf4555-3dd3-440e-8e35-f82a4ad9f855",
   "metadata": {
    "execution": {
     "iopub.execute_input": "2025-07-28T11:27:04.852309Z",
     "iopub.status.busy": "2025-07-28T11:27:04.851784Z",
     "iopub.status.idle": "2025-07-28T11:27:04.939623Z",
     "shell.execute_reply": "2025-07-28T11:27:04.938612Z"
    },
    "papermill": {
     "duration": 0.114572,
     "end_time": "2025-07-28T11:27:04.941675",
     "exception": false,
     "start_time": "2025-07-28T11:27:04.827103",
     "status": "completed"
    },
    "tags": []
   },
   "outputs": [],
   "source": [
    "probs_calib = model.predict_proba(X_calib)"
   ]
  },
  {
   "cell_type": "code",
   "execution_count": 42,
   "id": "2ed93547-6d5d-4983-9b36-1ecb300da49a",
   "metadata": {
    "execution": {
     "iopub.execute_input": "2025-07-28T11:27:04.995511Z",
     "iopub.status.busy": "2025-07-28T11:27:04.995041Z",
     "iopub.status.idle": "2025-07-28T11:27:05.000761Z",
     "shell.execute_reply": "2025-07-28T11:27:04.999925Z"
    },
    "papermill": {
     "duration": 0.034355,
     "end_time": "2025-07-28T11:27:05.002267",
     "exception": false,
     "start_time": "2025-07-28T11:27:04.967912",
     "status": "completed"
    },
    "tags": []
   },
   "outputs": [],
   "source": [
    "y_calib = y_calib.values.ravel().astype(int)"
   ]
  },
  {
   "cell_type": "code",
   "execution_count": 43,
   "id": "65d1320d-f588-4b38-9072-62af1ae97f7d",
   "metadata": {
    "execution": {
     "iopub.execute_input": "2025-07-28T11:27:05.053920Z",
     "iopub.status.busy": "2025-07-28T11:27:05.053395Z",
     "iopub.status.idle": "2025-07-28T11:27:05.062942Z",
     "shell.execute_reply": "2025-07-28T11:27:05.062015Z"
    },
    "papermill": {
     "duration": 0.036897,
     "end_time": "2025-07-28T11:27:05.064598",
     "exception": false,
     "start_time": "2025-07-28T11:27:05.027701",
     "status": "completed"
    },
    "tags": []
   },
   "outputs": [],
   "source": [
    "from fairness_multiverse.conformal import compute_nc_scores\n",
    "\n",
    "# Compute nonconformity scores on calibration set (1 - probability of true class)\n",
    "nc_scores = compute_nc_scores(probs_calib, y_calib)"
   ]
  },
  {
   "cell_type": "code",
   "execution_count": 44,
   "id": "df3b8ca3-53b7-43d5-9667-7c85da7aeda2",
   "metadata": {
    "execution": {
     "iopub.execute_input": "2025-07-28T11:27:05.117998Z",
     "iopub.status.busy": "2025-07-28T11:27:05.117219Z",
     "iopub.status.idle": "2025-07-28T11:27:05.124115Z",
     "shell.execute_reply": "2025-07-28T11:27:05.123274Z"
    },
    "papermill": {
     "duration": 0.035075,
     "end_time": "2025-07-28T11:27:05.125627",
     "exception": false,
     "start_time": "2025-07-28T11:27:05.090552",
     "status": "completed"
    },
    "tags": []
   },
   "outputs": [],
   "source": [
    "from fairness_multiverse.conformal import find_threshold\n",
    "\n",
    "# Find conformal threshold q_hat for the given alpha (split conformal method)\n",
    "q_hat = find_threshold(nc_scores, alpha)"
   ]
  },
  {
   "cell_type": "code",
   "execution_count": 45,
   "id": "4d29e6c1-0ef6-4aa4-b8fe-4fe79b0d033a",
   "metadata": {
    "execution": {
     "iopub.execute_input": "2025-07-28T11:27:05.174718Z",
     "iopub.status.busy": "2025-07-28T11:27:05.174194Z",
     "iopub.status.idle": "2025-07-28T11:27:05.181780Z",
     "shell.execute_reply": "2025-07-28T11:27:05.180855Z"
    },
    "papermill": {
     "duration": 0.035354,
     "end_time": "2025-07-28T11:27:05.183540",
     "exception": false,
     "start_time": "2025-07-28T11:27:05.148186",
     "status": "completed"
    },
    "tags": []
   },
   "outputs": [
    {
     "data": {
      "text/plain": [
       "0.686264367627464"
      ]
     },
     "execution_count": 45,
     "metadata": {},
     "output_type": "execute_result"
    }
   ],
   "source": [
    "q_hat"
   ]
  },
  {
   "cell_type": "code",
   "execution_count": 46,
   "id": "92460794-cdac-4be2-ba28-f28c0515a6fb",
   "metadata": {
    "execution": {
     "iopub.execute_input": "2025-07-28T11:27:05.232931Z",
     "iopub.status.busy": "2025-07-28T11:27:05.232426Z",
     "iopub.status.idle": "2025-07-28T11:27:06.094151Z",
     "shell.execute_reply": "2025-07-28T11:27:06.093082Z"
    },
    "papermill": {
     "duration": 0.889088,
     "end_time": "2025-07-28T11:27:06.096350",
     "exception": false,
     "start_time": "2025-07-28T11:27:05.207262",
     "status": "completed"
    },
    "tags": []
   },
   "outputs": [],
   "source": [
    "from fairness_multiverse.conformal import predict_conformal_sets\n",
    "\n",
    "# Generate prediction sets for each test example\n",
    "pred_sets = predict_conformal_sets(model, X_test, q_hat)"
   ]
  },
  {
   "cell_type": "code",
   "execution_count": 47,
   "id": "d90c9a65-e6db-4f5d-80cd-e68fb7e46829",
   "metadata": {
    "execution": {
     "iopub.execute_input": "2025-07-28T11:27:06.147461Z",
     "iopub.status.busy": "2025-07-28T11:27:06.146994Z",
     "iopub.status.idle": "2025-07-28T11:27:06.152894Z",
     "shell.execute_reply": "2025-07-28T11:27:06.151988Z"
    },
    "papermill": {
     "duration": 0.030883,
     "end_time": "2025-07-28T11:27:06.154492",
     "exception": false,
     "start_time": "2025-07-28T11:27:06.123609",
     "status": "completed"
    },
    "tags": []
   },
   "outputs": [],
   "source": [
    "y_true = y_true.squeeze()"
   ]
  },
  {
   "cell_type": "code",
   "execution_count": 48,
   "id": "3a58a54a-1e68-46b9-927a-df01f18aebc8",
   "metadata": {
    "execution": {
     "iopub.execute_input": "2025-07-28T11:27:06.203513Z",
     "iopub.status.busy": "2025-07-28T11:27:06.203055Z",
     "iopub.status.idle": "2025-07-28T11:27:07.225085Z",
     "shell.execute_reply": "2025-07-28T11:27:07.223999Z"
    },
    "papermill": {
     "duration": 1.048429,
     "end_time": "2025-07-28T11:27:07.227032",
     "exception": false,
     "start_time": "2025-07-28T11:27:06.178603",
     "status": "completed"
    },
    "tags": []
   },
   "outputs": [],
   "source": [
    "from fairness_multiverse.conformal import evaluate_sets\n",
    "\n",
    "# Evaluate coverage and average set size on test data\n",
    "metrics = evaluate_sets(pred_sets, y_true)"
   ]
  },
  {
   "cell_type": "markdown",
   "id": "2b569c12-9aaa-4c88-98c9-bbcd0cf3ebb8",
   "metadata": {
    "papermill": {
     "duration": 0.026069,
     "end_time": "2025-07-28T11:27:07.280394",
     "exception": false,
     "start_time": "2025-07-28T11:27:07.254325",
     "status": "completed"
    },
    "tags": []
   },
   "source": [
    "# CP Metrics"
   ]
  },
  {
   "cell_type": "code",
   "execution_count": 49,
   "id": "5ce0a5cb-201f-45a0-ade5-94c7f0bd6095",
   "metadata": {
    "execution": {
     "iopub.execute_input": "2025-07-28T11:27:07.333342Z",
     "iopub.status.busy": "2025-07-28T11:27:07.332765Z",
     "iopub.status.idle": "2025-07-28T11:27:07.340334Z",
     "shell.execute_reply": "2025-07-28T11:27:07.339329Z"
    },
    "papermill": {
     "duration": 0.036351,
     "end_time": "2025-07-28T11:27:07.342008",
     "exception": false,
     "start_time": "2025-07-28T11:27:07.305657",
     "status": "completed"
    },
    "tags": []
   },
   "outputs": [
    {
     "data": {
      "text/plain": [
       "{'coverage': 0.9112027644632705, 'avg_size': 1.1319808271095753}"
      ]
     },
     "execution_count": 49,
     "metadata": {},
     "output_type": "execute_result"
    }
   ],
   "source": [
    "metrics"
   ]
  },
  {
   "cell_type": "code",
   "execution_count": 50,
   "id": "9b9a838d-31c9-430b-ae14-12baee460d17",
   "metadata": {
    "execution": {
     "iopub.execute_input": "2025-07-28T11:27:07.394898Z",
     "iopub.status.busy": "2025-07-28T11:27:07.394387Z",
     "iopub.status.idle": "2025-07-28T11:27:07.401056Z",
     "shell.execute_reply": "2025-07-28T11:27:07.400071Z"
    },
    "papermill": {
     "duration": 0.034234,
     "end_time": "2025-07-28T11:27:07.402751",
     "exception": false,
     "start_time": "2025-07-28T11:27:07.368517",
     "status": "completed"
    },
    "tags": []
   },
   "outputs": [],
   "source": [
    "example_universe = universe.copy()\n",
    "universe_training_size = example_universe.get(\"training_size\")\n",
    "universe_scale = example_universe.get(\"scale\")\n",
    "universe_model = example_universe.get(\"model\")\n",
    "universe_exclude_features = example_universe.get(\"exclude_features\")\n",
    "universe_exclude_subgroups = example_universe.get(\"exclude_subgroups\")"
   ]
  },
  {
   "cell_type": "code",
   "execution_count": 51,
   "id": "f4b6a8ac-9dc0-4245-8a91-5b3b5999c4f9",
   "metadata": {
    "execution": {
     "iopub.execute_input": "2025-07-28T11:27:07.458237Z",
     "iopub.status.busy": "2025-07-28T11:27:07.457713Z",
     "iopub.status.idle": "2025-07-28T11:27:07.464443Z",
     "shell.execute_reply": "2025-07-28T11:27:07.463466Z"
    },
    "papermill": {
     "duration": 0.035833,
     "end_time": "2025-07-28T11:27:07.466203",
     "exception": false,
     "start_time": "2025-07-28T11:27:07.430370",
     "status": "completed"
    },
    "tags": []
   },
   "outputs": [],
   "source": [
    "cp_metrics_dict = {\n",
    "    \"universe_id\": [universe_id],\n",
    "    \"universe_training_size\": [universe_training_size],\n",
    "    \"universe_scale\": [universe_scale],\n",
    "    \"universe_model\": [universe_model],\n",
    "    \"universe_exclude_features\": [universe_exclude_features],\n",
    "    \"universe_exclude_subgroups\": [universe_exclude_subgroups],\n",
    "    \"q_hat\": [q_hat],\n",
    "    \"coverage\": [metrics[\"coverage\"]],\n",
    "    \"avg_size\": [metrics[\"avg_size\"]],\n",
    "}"
   ]
  },
  {
   "cell_type": "code",
   "execution_count": 52,
   "id": "908acbb1-0371-4915-85ca-3fa520d2efe2",
   "metadata": {
    "execution": {
     "iopub.execute_input": "2025-07-28T11:27:07.521219Z",
     "iopub.status.busy": "2025-07-28T11:27:07.520680Z",
     "iopub.status.idle": "2025-07-28T11:27:07.528219Z",
     "shell.execute_reply": "2025-07-28T11:27:07.527338Z"
    },
    "papermill": {
     "duration": 0.036974,
     "end_time": "2025-07-28T11:27:07.529842",
     "exception": false,
     "start_time": "2025-07-28T11:27:07.492868",
     "status": "completed"
    },
    "tags": []
   },
   "outputs": [
    {
     "data": {
      "text/plain": [
       "{'universe_id': ['094649b6b797dad4572110752e0cca66'],\n",
       " 'universe_training_size': ['2014'],\n",
       " 'universe_scale': ['do-not-scale'],\n",
       " 'universe_model': ['elasticnet'],\n",
       " 'universe_exclude_features': ['none'],\n",
       " 'universe_exclude_subgroups': ['keep-all'],\n",
       " 'q_hat': [0.686264367627464],\n",
       " 'coverage': [0.9112027644632705],\n",
       " 'avg_size': [1.1319808271095753]}"
      ]
     },
     "execution_count": 52,
     "metadata": {},
     "output_type": "execute_result"
    }
   ],
   "source": [
    "cp_metrics_dict"
   ]
  },
  {
   "cell_type": "code",
   "execution_count": 53,
   "id": "33007efc-14e9-4ec6-97ac-56a455c82265",
   "metadata": {
    "execution": {
     "iopub.execute_input": "2025-07-28T11:27:07.584923Z",
     "iopub.status.busy": "2025-07-28T11:27:07.583942Z",
     "iopub.status.idle": "2025-07-28T11:27:07.591070Z",
     "shell.execute_reply": "2025-07-28T11:27:07.589995Z"
    },
    "papermill": {
     "duration": 0.037992,
     "end_time": "2025-07-28T11:27:07.592928",
     "exception": false,
     "start_time": "2025-07-28T11:27:07.554936",
     "status": "completed"
    },
    "tags": []
   },
   "outputs": [],
   "source": [
    "cp_metrics_df = pd.DataFrame(cp_metrics_dict)"
   ]
  },
  {
   "cell_type": "code",
   "execution_count": 54,
   "id": "db12611b-57b2-4910-b9d0-355adfd6e7bf",
   "metadata": {
    "execution": {
     "iopub.execute_input": "2025-07-28T11:27:07.648260Z",
     "iopub.status.busy": "2025-07-28T11:27:07.647650Z",
     "iopub.status.idle": "2025-07-28T11:27:07.669821Z",
     "shell.execute_reply": "2025-07-28T11:27:07.668911Z"
    },
    "papermill": {
     "duration": 0.052669,
     "end_time": "2025-07-28T11:27:07.671486",
     "exception": false,
     "start_time": "2025-07-28T11:27:07.618817",
     "status": "completed"
    },
    "tags": []
   },
   "outputs": [
    {
     "data": {
      "text/html": [
       "<div>\n",
       "<style scoped>\n",
       "    .dataframe tbody tr th:only-of-type {\n",
       "        vertical-align: middle;\n",
       "    }\n",
       "\n",
       "    .dataframe tbody tr th {\n",
       "        vertical-align: top;\n",
       "    }\n",
       "\n",
       "    .dataframe thead th {\n",
       "        text-align: right;\n",
       "    }\n",
       "</style>\n",
       "<table border=\"1\" class=\"dataframe\">\n",
       "  <thead>\n",
       "    <tr style=\"text-align: right;\">\n",
       "      <th></th>\n",
       "      <th>universe_id</th>\n",
       "      <th>universe_training_size</th>\n",
       "      <th>universe_scale</th>\n",
       "      <th>universe_model</th>\n",
       "      <th>universe_exclude_features</th>\n",
       "      <th>universe_exclude_subgroups</th>\n",
       "      <th>q_hat</th>\n",
       "      <th>coverage</th>\n",
       "      <th>avg_size</th>\n",
       "    </tr>\n",
       "  </thead>\n",
       "  <tbody>\n",
       "    <tr>\n",
       "      <th>0</th>\n",
       "      <td>094649b6b797dad4572110752e0cca66</td>\n",
       "      <td>2014</td>\n",
       "      <td>do-not-scale</td>\n",
       "      <td>elasticnet</td>\n",
       "      <td>none</td>\n",
       "      <td>keep-all</td>\n",
       "      <td>0.686264</td>\n",
       "      <td>0.911203</td>\n",
       "      <td>1.131981</td>\n",
       "    </tr>\n",
       "  </tbody>\n",
       "</table>\n",
       "</div>"
      ],
      "text/plain": [
       "                        universe_id universe_training_size universe_scale  \\\n",
       "0  094649b6b797dad4572110752e0cca66                   2014   do-not-scale   \n",
       "\n",
       "  universe_model universe_exclude_features universe_exclude_subgroups  \\\n",
       "0     elasticnet                      none                   keep-all   \n",
       "\n",
       "      q_hat  coverage  avg_size  \n",
       "0  0.686264  0.911203  1.131981  "
      ]
     },
     "execution_count": 54,
     "metadata": {},
     "output_type": "execute_result"
    }
   ],
   "source": [
    "cp_metrics_df"
   ]
  },
  {
   "cell_type": "code",
   "execution_count": 55,
   "id": "b7fbde55-a0a1-47e4-9af6-fe4a17fa8c61",
   "metadata": {
    "execution": {
     "iopub.execute_input": "2025-07-28T11:27:07.728787Z",
     "iopub.status.busy": "2025-07-28T11:27:07.728283Z",
     "iopub.status.idle": "2025-07-28T11:27:07.733511Z",
     "shell.execute_reply": "2025-07-28T11:27:07.732488Z"
    },
    "papermill": {
     "duration": 0.037327,
     "end_time": "2025-07-28T11:27:07.735327",
     "exception": false,
     "start_time": "2025-07-28T11:27:07.698000",
     "status": "completed"
    },
    "tags": []
   },
   "outputs": [],
   "source": [
    "# Conditional Coverage & looking at subgroups"
   ]
  },
  {
   "cell_type": "code",
   "execution_count": 56,
   "id": "027ae886-68dd-4141-96c7-805a5450e1ef",
   "metadata": {
    "execution": {
     "iopub.execute_input": "2025-07-28T11:27:07.790607Z",
     "iopub.status.busy": "2025-07-28T11:27:07.790108Z",
     "iopub.status.idle": "2025-07-28T11:27:08.075196Z",
     "shell.execute_reply": "2025-07-28T11:27:08.074186Z"
    },
    "papermill": {
     "duration": 0.315919,
     "end_time": "2025-07-28T11:27:08.077208",
     "exception": false,
     "start_time": "2025-07-28T11:27:07.761289",
     "status": "completed"
    },
    "tags": []
   },
   "outputs": [],
   "source": [
    "from fairness_multiverse.conformal import build_cp_groups\n",
    "\n",
    "cp_groups_df = build_cp_groups(pred_sets, y_true, X_test.index, org_test)\n",
    "#needs universe_id and setting"
   ]
  },
  {
   "cell_type": "code",
   "execution_count": 57,
   "id": "01d5802c-663a-4d1f-9d69-e036faaffbf7",
   "metadata": {
    "execution": {
     "iopub.execute_input": "2025-07-28T11:27:08.134589Z",
     "iopub.status.busy": "2025-07-28T11:27:08.133995Z",
     "iopub.status.idle": "2025-07-28T11:27:08.139246Z",
     "shell.execute_reply": "2025-07-28T11:27:08.138363Z"
    },
    "papermill": {
     "duration": 0.035808,
     "end_time": "2025-07-28T11:27:08.140954",
     "exception": false,
     "start_time": "2025-07-28T11:27:08.105146",
     "status": "completed"
    },
    "tags": []
   },
   "outputs": [],
   "source": [
    "#delete\n",
    "#cp_groups_df"
   ]
  },
  {
   "cell_type": "code",
   "execution_count": 58,
   "id": "fa424af1-d1eb-443d-b717-2d279ada8408",
   "metadata": {
    "execution": {
     "iopub.execute_input": "2025-07-28T11:27:08.197519Z",
     "iopub.status.busy": "2025-07-28T11:27:08.196987Z",
     "iopub.status.idle": "2025-07-28T11:27:08.202214Z",
     "shell.execute_reply": "2025-07-28T11:27:08.201313Z"
    },
    "papermill": {
     "duration": 0.035467,
     "end_time": "2025-07-28T11:27:08.203897",
     "exception": false,
     "start_time": "2025-07-28T11:27:08.168430",
     "status": "completed"
    },
    "tags": []
   },
   "outputs": [],
   "source": [
    "#delete\n",
    "#percentage = (cp_groups_df['nongerman_female'] == 1).mean() * 100\n",
    "#print(percentage)\n"
   ]
  },
  {
   "cell_type": "code",
   "execution_count": 59,
   "id": "6cbdab96-b2b2-45af-ad54-d0516db2e28d",
   "metadata": {
    "execution": {
     "iopub.execute_input": "2025-07-28T11:27:08.261342Z",
     "iopub.status.busy": "2025-07-28T11:27:08.260427Z",
     "iopub.status.idle": "2025-07-28T11:27:10.032282Z",
     "shell.execute_reply": "2025-07-28T11:27:10.031110Z"
    },
    "papermill": {
     "duration": 1.80277,
     "end_time": "2025-07-28T11:27:10.034384",
     "exception": false,
     "start_time": "2025-07-28T11:27:08.231614",
     "status": "completed"
    },
    "tags": []
   },
   "outputs": [],
   "source": [
    "# Define covered = 1 if true_label is in the predicted set\n",
    "cp_groups_df['covered'] = cp_groups_df.apply(\n",
    "    lambda r: int(r['true_label'] in r['pred_set']),\n",
    "    axis=1\n",
    ")"
   ]
  },
  {
   "cell_type": "code",
   "execution_count": 60,
   "id": "338ff529-1a6b-4b87-a931-8e4788d52aad",
   "metadata": {
    "execution": {
     "iopub.execute_input": "2025-07-28T11:27:10.091761Z",
     "iopub.status.busy": "2025-07-28T11:27:10.091169Z",
     "iopub.status.idle": "2025-07-28T11:27:10.097059Z",
     "shell.execute_reply": "2025-07-28T11:27:10.096116Z"
    },
    "papermill": {
     "duration": 0.03595,
     "end_time": "2025-07-28T11:27:10.098871",
     "exception": false,
     "start_time": "2025-07-28T11:27:10.062921",
     "status": "completed"
    },
    "tags": []
   },
   "outputs": [],
   "source": [
    "#cp_groups_df"
   ]
  },
  {
   "cell_type": "code",
   "execution_count": 61,
   "id": "90032e27-66df-4540-9169-4e89cfbaa758",
   "metadata": {
    "execution": {
     "iopub.execute_input": "2025-07-28T11:27:10.154224Z",
     "iopub.status.busy": "2025-07-28T11:27:10.153687Z",
     "iopub.status.idle": "2025-07-28T11:27:10.166915Z",
     "shell.execute_reply": "2025-07-28T11:27:10.165952Z"
    },
    "papermill": {
     "duration": 0.041781,
     "end_time": "2025-07-28T11:27:10.168667",
     "exception": false,
     "start_time": "2025-07-28T11:27:10.126886",
     "status": "completed"
    },
    "tags": []
   },
   "outputs": [],
   "source": [
    "subgroups = ['frau1','nongerman','nongerman_male','nongerman_female']\n",
    "\n",
    "# Conditional coverage for subgroup==1\n",
    "cond_coverage = {\n",
    "    g: cp_groups_df.loc[cp_groups_df[g]==1, 'covered'].mean()\n",
    "    for g in subgroups\n",
    "}"
   ]
  },
  {
   "cell_type": "code",
   "execution_count": 62,
   "id": "1e348fb1-b9c3-45bc-ba23-f016827a7e0d",
   "metadata": {
    "execution": {
     "iopub.execute_input": "2025-07-28T11:27:10.226936Z",
     "iopub.status.busy": "2025-07-28T11:27:10.226112Z",
     "iopub.status.idle": "2025-07-28T11:27:10.234049Z",
     "shell.execute_reply": "2025-07-28T11:27:10.233064Z"
    },
    "papermill": {
     "duration": 0.038394,
     "end_time": "2025-07-28T11:27:10.235715",
     "exception": false,
     "start_time": "2025-07-28T11:27:10.197321",
     "status": "completed"
    },
    "tags": []
   },
   "outputs": [
    {
     "data": {
      "text/plain": [
       "{'frau1': 0.9101496158511929,\n",
       " 'nongerman': 0.9070903272890586,\n",
       " 'nongerman_male': 0.9228136539673962,\n",
       " 'nongerman_female': 0.8810730253353204}"
      ]
     },
     "execution_count": 62,
     "metadata": {},
     "output_type": "execute_result"
    }
   ],
   "source": [
    "cond_coverage"
   ]
  },
  {
   "cell_type": "code",
   "execution_count": 63,
   "id": "f5093324-c3dd-4d63-bc4c-8d945e5c8bbb",
   "metadata": {
    "execution": {
     "iopub.execute_input": "2025-07-28T11:27:10.289793Z",
     "iopub.status.busy": "2025-07-28T11:27:10.289242Z",
     "iopub.status.idle": "2025-07-28T11:27:10.297430Z",
     "shell.execute_reply": "2025-07-28T11:27:10.296380Z"
    },
    "papermill": {
     "duration": 0.037148,
     "end_time": "2025-07-28T11:27:10.299094",
     "exception": false,
     "start_time": "2025-07-28T11:27:10.261946",
     "status": "completed"
    },
    "tags": []
   },
   "outputs": [],
   "source": [
    "for subgroup, cov in cond_coverage.items():\n",
    "    cp_metrics_df[f\"cov_{subgroup}\"] = cov"
   ]
  },
  {
   "cell_type": "code",
   "execution_count": 64,
   "id": "6e872e10-dbe5-49e8-b554-5030c98ff75d",
   "metadata": {
    "execution": {
     "iopub.execute_input": "2025-07-28T11:27:10.353542Z",
     "iopub.status.busy": "2025-07-28T11:27:10.352756Z",
     "iopub.status.idle": "2025-07-28T11:27:10.373159Z",
     "shell.execute_reply": "2025-07-28T11:27:10.372224Z"
    },
    "papermill": {
     "duration": 0.049191,
     "end_time": "2025-07-28T11:27:10.374762",
     "exception": false,
     "start_time": "2025-07-28T11:27:10.325571",
     "status": "completed"
    },
    "tags": []
   },
   "outputs": [
    {
     "data": {
      "text/html": [
       "<div>\n",
       "<style scoped>\n",
       "    .dataframe tbody tr th:only-of-type {\n",
       "        vertical-align: middle;\n",
       "    }\n",
       "\n",
       "    .dataframe tbody tr th {\n",
       "        vertical-align: top;\n",
       "    }\n",
       "\n",
       "    .dataframe thead th {\n",
       "        text-align: right;\n",
       "    }\n",
       "</style>\n",
       "<table border=\"1\" class=\"dataframe\">\n",
       "  <thead>\n",
       "    <tr style=\"text-align: right;\">\n",
       "      <th></th>\n",
       "      <th>universe_id</th>\n",
       "      <th>universe_training_size</th>\n",
       "      <th>universe_scale</th>\n",
       "      <th>universe_model</th>\n",
       "      <th>universe_exclude_features</th>\n",
       "      <th>universe_exclude_subgroups</th>\n",
       "      <th>q_hat</th>\n",
       "      <th>coverage</th>\n",
       "      <th>avg_size</th>\n",
       "      <th>cov_frau1</th>\n",
       "      <th>cov_nongerman</th>\n",
       "      <th>cov_nongerman_male</th>\n",
       "      <th>cov_nongerman_female</th>\n",
       "    </tr>\n",
       "  </thead>\n",
       "  <tbody>\n",
       "    <tr>\n",
       "      <th>0</th>\n",
       "      <td>094649b6b797dad4572110752e0cca66</td>\n",
       "      <td>2014</td>\n",
       "      <td>do-not-scale</td>\n",
       "      <td>elasticnet</td>\n",
       "      <td>none</td>\n",
       "      <td>keep-all</td>\n",
       "      <td>0.686264</td>\n",
       "      <td>0.911203</td>\n",
       "      <td>1.131981</td>\n",
       "      <td>0.91015</td>\n",
       "      <td>0.90709</td>\n",
       "      <td>0.922814</td>\n",
       "      <td>0.881073</td>\n",
       "    </tr>\n",
       "  </tbody>\n",
       "</table>\n",
       "</div>"
      ],
      "text/plain": [
       "                        universe_id universe_training_size universe_scale  \\\n",
       "0  094649b6b797dad4572110752e0cca66                   2014   do-not-scale   \n",
       "\n",
       "  universe_model universe_exclude_features universe_exclude_subgroups  \\\n",
       "0     elasticnet                      none                   keep-all   \n",
       "\n",
       "      q_hat  coverage  avg_size  cov_frau1  cov_nongerman  cov_nongerman_male  \\\n",
       "0  0.686264  0.911203  1.131981    0.91015        0.90709            0.922814   \n",
       "\n",
       "   cov_nongerman_female  \n",
       "0              0.881073  "
      ]
     },
     "execution_count": 64,
     "metadata": {},
     "output_type": "execute_result"
    }
   ],
   "source": [
    "cp_metrics_df"
   ]
  },
  {
   "cell_type": "markdown",
   "id": "33774451",
   "metadata": {
    "papermill": {
     "duration": 0.029006,
     "end_time": "2025-07-28T11:27:10.432161",
     "exception": false,
     "start_time": "2025-07-28T11:27:10.403155",
     "status": "completed"
    },
    "tags": []
   },
   "source": [
    "# (Fairness) Metrics"
   ]
  },
  {
   "cell_type": "code",
   "execution_count": 65,
   "id": "debc5d62",
   "metadata": {
    "execution": {
     "iopub.execute_input": "2025-07-28T11:27:10.489442Z",
     "iopub.status.busy": "2025-07-28T11:27:10.488945Z",
     "iopub.status.idle": "2025-07-28T11:27:10.514081Z",
     "shell.execute_reply": "2025-07-28T11:27:10.513193Z"
    },
    "papermill": {
     "duration": 0.055745,
     "end_time": "2025-07-28T11:27:10.516012",
     "exception": false,
     "start_time": "2025-07-28T11:27:10.460267",
     "status": "completed"
    },
    "tags": []
   },
   "outputs": [],
   "source": [
    "# do I need to include maxdeutsch1.missing?\n",
    "\n",
    "import numpy as np\n",
    "\n",
    "colname_to_bin = \"maxdeutsch1\"\n",
    "majority_value = org_train[colname_to_bin].mode()[0]\n",
    "\n",
    "org_test[\"majmin\"] = np.where(org_test[colname_to_bin] == majority_value, \"majority\", \"minority\")"
   ]
  },
  {
   "cell_type": "code",
   "execution_count": 66,
   "id": "06a50de5",
   "metadata": {
    "execution": {
     "iopub.execute_input": "2025-07-28T11:27:10.572527Z",
     "iopub.status.busy": "2025-07-28T11:27:10.571909Z",
     "iopub.status.idle": "2025-07-28T11:27:13.979179Z",
     "shell.execute_reply": "2025-07-28T11:27:13.978190Z"
    },
    "papermill": {
     "duration": 3.437426,
     "end_time": "2025-07-28T11:27:13.981384",
     "exception": false,
     "start_time": "2025-07-28T11:27:10.543958",
     "status": "completed"
    },
    "tags": []
   },
   "outputs": [],
   "source": [
    "example_universe = universe.copy()\n",
    "example_universe[\"cutoff\"] = example_universe[\"cutoff\"][0]\n",
    "example_universe[\"eval_fairness_grouping\"] = example_universe[\"eval_fairness_grouping\"][0]\n",
    "fairness_dict, metric_frame = universe_analysis.compute_metrics(\n",
    "    example_universe,\n",
    "    y_pred_prob=probs_test,\n",
    "    y_test=y_true,\n",
    "    org_test=org_test,\n",
    ")"
   ]
  },
  {
   "cell_type": "markdown",
   "id": "f95d4e02",
   "metadata": {
    "papermill": {
     "duration": 0.026809,
     "end_time": "2025-07-28T11:27:14.038301",
     "exception": false,
     "start_time": "2025-07-28T11:27:14.011492",
     "status": "completed"
    },
    "tags": []
   },
   "source": [
    "# Overall"
   ]
  },
  {
   "cell_type": "markdown",
   "id": "bdee4871",
   "metadata": {
    "papermill": {
     "duration": 0.026822,
     "end_time": "2025-07-28T11:27:14.094245",
     "exception": false,
     "start_time": "2025-07-28T11:27:14.067423",
     "status": "completed"
    },
    "tags": []
   },
   "source": [
    "Fairness\n",
    "Main fairness target: Equalized Odds. Seems to be a better fit than equal opportunity, since we're not only interested in Y = 1. Seems to be a better fit than demographic parity, since we also care about accuracy, not just equal distribution of preds.\n",
    "\n",
    "Pick column for computation of fairness metrics\n",
    "\n",
    "Performance\n",
    "Overall performance measures, most interesting in relation to the measures split by group below"
   ]
  },
  {
   "cell_type": "code",
   "execution_count": 67,
   "id": "c4e067c6",
   "metadata": {
    "execution": {
     "iopub.execute_input": "2025-07-28T11:27:14.152896Z",
     "iopub.status.busy": "2025-07-28T11:27:14.152291Z",
     "iopub.status.idle": "2025-07-28T11:27:14.161320Z",
     "shell.execute_reply": "2025-07-28T11:27:14.160407Z"
    },
    "papermill": {
     "duration": 0.040786,
     "end_time": "2025-07-28T11:27:14.163010",
     "exception": false,
     "start_time": "2025-07-28T11:27:14.122224",
     "status": "completed"
    },
    "tags": []
   },
   "outputs": [
    {
     "data": {
      "text/plain": [
       "accuracy                   0.221480\n",
       "balanced accuracy          0.542156\n",
       "f1                         0.242891\n",
       "precision                  0.138756\n",
       "false positive rate        0.889184\n",
       "false negative rate        0.026503\n",
       "selection rate             0.900000\n",
       "count                  89710.000000\n",
       "dtype: float64"
      ]
     },
     "execution_count": 67,
     "metadata": {},
     "output_type": "execute_result"
    }
   ],
   "source": [
    "metric_frame.overall"
   ]
  },
  {
   "cell_type": "markdown",
   "id": "e968fe9d",
   "metadata": {
    "papermill": {
     "duration": 0.02882,
     "end_time": "2025-07-28T11:27:14.221070",
     "exception": false,
     "start_time": "2025-07-28T11:27:14.192250",
     "status": "completed"
    },
    "tags": []
   },
   "source": [
    "By Group"
   ]
  },
  {
   "cell_type": "code",
   "execution_count": 68,
   "id": "ec325bce",
   "metadata": {
    "execution": {
     "iopub.execute_input": "2025-07-28T11:27:14.275149Z",
     "iopub.status.busy": "2025-07-28T11:27:14.274670Z",
     "iopub.status.idle": "2025-07-28T11:27:14.292172Z",
     "shell.execute_reply": "2025-07-28T11:27:14.291255Z"
    },
    "papermill": {
     "duration": 0.047291,
     "end_time": "2025-07-28T11:27:14.293912",
     "exception": false,
     "start_time": "2025-07-28T11:27:14.246621",
     "status": "completed"
    },
    "tags": []
   },
   "outputs": [
    {
     "data": {
      "text/html": [
       "<div>\n",
       "<style scoped>\n",
       "    .dataframe tbody tr th:only-of-type {\n",
       "        vertical-align: middle;\n",
       "    }\n",
       "\n",
       "    .dataframe tbody tr th {\n",
       "        vertical-align: top;\n",
       "    }\n",
       "\n",
       "    .dataframe thead th {\n",
       "        text-align: right;\n",
       "    }\n",
       "</style>\n",
       "<table border=\"1\" class=\"dataframe\">\n",
       "  <thead>\n",
       "    <tr style=\"text-align: right;\">\n",
       "      <th></th>\n",
       "      <th>accuracy</th>\n",
       "      <th>balanced accuracy</th>\n",
       "      <th>f1</th>\n",
       "      <th>precision</th>\n",
       "      <th>false positive rate</th>\n",
       "      <th>false negative rate</th>\n",
       "      <th>selection rate</th>\n",
       "      <th>count</th>\n",
       "    </tr>\n",
       "    <tr>\n",
       "      <th>majmin</th>\n",
       "      <th></th>\n",
       "      <th></th>\n",
       "      <th></th>\n",
       "      <th></th>\n",
       "      <th></th>\n",
       "      <th></th>\n",
       "      <th></th>\n",
       "      <th></th>\n",
       "    </tr>\n",
       "  </thead>\n",
       "  <tbody>\n",
       "    <tr>\n",
       "      <th>majority</th>\n",
       "      <td>0.243473</td>\n",
       "      <td>0.551807</td>\n",
       "      <td>0.253264</td>\n",
       "      <td>0.145626</td>\n",
       "      <td>0.867283</td>\n",
       "      <td>0.029103</td>\n",
       "      <td>0.880974</td>\n",
       "      <td>69170.0</td>\n",
       "    </tr>\n",
       "    <tr>\n",
       "      <th>minority</th>\n",
       "      <td>0.147420</td>\n",
       "      <td>0.510998</td>\n",
       "      <td>0.210104</td>\n",
       "      <td>0.117614</td>\n",
       "      <td>0.961534</td>\n",
       "      <td>0.016470</td>\n",
       "      <td>0.964070</td>\n",
       "      <td>20540.0</td>\n",
       "    </tr>\n",
       "  </tbody>\n",
       "</table>\n",
       "</div>"
      ],
      "text/plain": [
       "          accuracy  balanced accuracy        f1  precision  \\\n",
       "majmin                                                       \n",
       "majority  0.243473           0.551807  0.253264   0.145626   \n",
       "minority  0.147420           0.510998  0.210104   0.117614   \n",
       "\n",
       "          false positive rate  false negative rate  selection rate    count  \n",
       "majmin                                                                       \n",
       "majority             0.867283             0.029103        0.880974  69170.0  \n",
       "minority             0.961534             0.016470        0.964070  20540.0  "
      ]
     },
     "execution_count": 68,
     "metadata": {},
     "output_type": "execute_result"
    }
   ],
   "source": [
    "metric_frame.by_group"
   ]
  },
  {
   "cell_type": "code",
   "execution_count": 69,
   "id": "a9ddbe63",
   "metadata": {
    "execution": {
     "iopub.execute_input": "2025-07-28T11:27:14.456202Z",
     "iopub.status.busy": "2025-07-28T11:27:14.455654Z",
     "iopub.status.idle": "2025-07-28T11:27:17.821745Z",
     "shell.execute_reply": "2025-07-28T11:27:17.820767Z"
    },
    "papermill": {
     "duration": 3.500428,
     "end_time": "2025-07-28T11:27:17.823372",
     "exception": false,
     "start_time": "2025-07-28T11:27:14.322944",
     "status": "completed"
    },
    "tags": []
   },
   "outputs": [
    {
     "data": {
      "text/plain": [
       "array([[<Axes: title={'center': 'accuracy'}, xlabel='majmin'>,\n",
       "        <Axes: title={'center': 'balanced accuracy'}, xlabel='majmin'>,\n",
       "        <Axes: title={'center': 'f1'}, xlabel='majmin'>],\n",
       "       [<Axes: title={'center': 'precision'}, xlabel='majmin'>,\n",
       "        <Axes: title={'center': 'false positive rate'}, xlabel='majmin'>,\n",
       "        <Axes: title={'center': 'false negative rate'}, xlabel='majmin'>],\n",
       "       [<Axes: title={'center': 'selection rate'}, xlabel='majmin'>,\n",
       "        <Axes: title={'center': 'count'}, xlabel='majmin'>,\n",
       "        <Axes: xlabel='majmin'>]], dtype=object)"
      ]
     },
     "execution_count": 69,
     "metadata": {},
     "output_type": "execute_result"
    },
    {
     "data": {
      "image/png": "[encoded data removed]",
      "text/plain": [
       "<Figure size 1200x800 with 9 Axes>"
      ]
     },
     "metadata": {},
     "output_type": "display_data"
    }
   ],
   "source": [
    "# In a graphic\n",
    "metric_frame.by_group.plot.bar(\n",
    "    subplots=True,\n",
    "    layout=[3, 3],\n",
    "    legend=False,\n",
    "    figsize=[12, 8],\n",
    "    title=\"Show all metrics\",\n",
    ")"
   ]
  },
  {
   "cell_type": "markdown",
   "id": "f57a0bac",
   "metadata": {
    "papermill": {
     "duration": 0.031129,
     "end_time": "2025-07-28T11:27:17.886280",
     "exception": false,
     "start_time": "2025-07-28T11:27:17.855151",
     "status": "completed"
    },
    "tags": []
   },
   "source": [
    "# Final Output"
   ]
  },
  {
   "cell_type": "code",
   "execution_count": 70,
   "id": "96d280a3",
   "metadata": {
    "execution": {
     "iopub.execute_input": "2025-07-28T11:27:17.947589Z",
     "iopub.status.busy": "2025-07-28T11:27:17.946845Z",
     "iopub.status.idle": "2025-07-28T11:27:17.955509Z",
     "shell.execute_reply": "2025-07-28T11:27:17.954567Z"
    },
    "papermill": {
     "duration": 0.042255,
     "end_time": "2025-07-28T11:27:17.957216",
     "exception": false,
     "start_time": "2025-07-28T11:27:17.914961",
     "status": "completed"
    },
    "tags": []
   },
   "outputs": [
    {
     "data": {
      "text/plain": [
       "4"
      ]
     },
     "execution_count": 70,
     "metadata": {},
     "output_type": "execute_result"
    }
   ],
   "source": [
    "sub_universes = universe_analysis.generate_sub_universes()\n",
    "len(sub_universes)"
   ]
  },
  {
   "cell_type": "code",
   "execution_count": 71,
   "id": "92adf7ba",
   "metadata": {
    "execution": {
     "iopub.execute_input": "2025-07-28T11:27:18.023391Z",
     "iopub.status.busy": "2025-07-28T11:27:18.022838Z",
     "iopub.status.idle": "2025-07-28T11:27:18.029609Z",
     "shell.execute_reply": "2025-07-28T11:27:18.028579Z"
    },
    "papermill": {
     "duration": 0.041704,
     "end_time": "2025-07-28T11:27:18.031341",
     "exception": false,
     "start_time": "2025-07-28T11:27:17.989637",
     "status": "completed"
    },
    "tags": []
   },
   "outputs": [],
   "source": [
    "def filter_sub_universe_data(sub_universe, org_test):\n",
    "    # Keep all rows — no filtering\n",
    "    keep_rows_mask = np.ones(org_test.shape[0], dtype=bool)\n",
    "\n",
    "    print(f\"[INFO] Keeping all rows: {keep_rows_mask.sum()} rows retained.\")\n",
    "    return keep_rows_mask"
   ]
  },
  {
   "cell_type": "code",
   "execution_count": 72,
   "id": "4a759155",
   "metadata": {
    "execution": {
     "iopub.execute_input": "2025-07-28T11:27:18.097058Z",
     "iopub.status.busy": "2025-07-28T11:27:18.096577Z",
     "iopub.status.idle": "2025-07-28T11:27:31.114039Z",
     "shell.execute_reply": "2025-07-28T11:27:31.113044Z"
    },
    "papermill": {
     "duration": 13.052248,
     "end_time": "2025-07-28T11:27:31.115789",
     "exception": false,
     "start_time": "2025-07-28T11:27:18.063541",
     "status": "completed"
    },
    "tags": []
   },
   "outputs": [
    {
     "name": "stdout",
     "output_type": "stream",
     "text": [
      "Stopping execution_time clock.\n",
      "[INFO] Keeping all rows: 89710 rows retained.\n"
     ]
    },
    {
     "name": "stdout",
     "output_type": "stream",
     "text": [
      "[INFO] Keeping all rows: 89710 rows retained.\n"
     ]
    },
    {
     "name": "stdout",
     "output_type": "stream",
     "text": [
      "[INFO] Keeping all rows: 89710 rows retained.\n"
     ]
    },
    {
     "name": "stdout",
     "output_type": "stream",
     "text": [
      "[INFO] Keeping all rows: 89710 rows retained.\n"
     ]
    },
    {
     "data": {
      "text/html": [
       "<div>\n",
       "<style scoped>\n",
       "    .dataframe tbody tr th:only-of-type {\n",
       "        vertical-align: middle;\n",
       "    }\n",
       "\n",
       "    .dataframe tbody tr th {\n",
       "        vertical-align: top;\n",
       "    }\n",
       "\n",
       "    .dataframe thead th {\n",
       "        text-align: right;\n",
       "    }\n",
       "</style>\n",
       "<table border=\"1\" class=\"dataframe\">\n",
       "  <thead>\n",
       "    <tr style=\"text-align: right;\">\n",
       "      <th></th>\n",
       "      <th>run_no</th>\n",
       "      <th>universe_id</th>\n",
       "      <th>universe_settings</th>\n",
       "      <th>execution_time</th>\n",
       "      <th>test_size_n</th>\n",
       "      <th>test_size_frac</th>\n",
       "      <th>fair_main_equalized_odds_difference</th>\n",
       "      <th>fair_main_equalized_odds_ratio</th>\n",
       "      <th>fair_main_demographic_parity_difference</th>\n",
       "      <th>fair_main_demographic_parity_ratio</th>\n",
       "      <th>...</th>\n",
       "      <th>perf_grp_precision_0</th>\n",
       "      <th>perf_grp_precision_1</th>\n",
       "      <th>perf_grp_false positive rate_0</th>\n",
       "      <th>perf_grp_false positive rate_1</th>\n",
       "      <th>perf_grp_false negative rate_0</th>\n",
       "      <th>perf_grp_false negative rate_1</th>\n",
       "      <th>perf_grp_selection rate_0</th>\n",
       "      <th>perf_grp_selection rate_1</th>\n",
       "      <th>perf_grp_count_0</th>\n",
       "      <th>perf_grp_count_1</th>\n",
       "    </tr>\n",
       "  </thead>\n",
       "  <tbody>\n",
       "    <tr>\n",
       "      <th>0</th>\n",
       "      <td>11</td>\n",
       "      <td>094649b6b797dad4572110752e0cca66</td>\n",
       "      <td>{\"cutoff\": \"quantile_0.1\", \"eval_fairness_grou...</td>\n",
       "      <td>1030.635677</td>\n",
       "      <td>89710</td>\n",
       "      <td>1.0</td>\n",
       "      <td>0.094251</td>\n",
       "      <td>0.901978</td>\n",
       "      <td>0.083096</td>\n",
       "      <td>0.913807</td>\n",
       "      <td>...</td>\n",
       "      <td>NaN</td>\n",
       "      <td>NaN</td>\n",
       "      <td>NaN</td>\n",
       "      <td>NaN</td>\n",
       "      <td>NaN</td>\n",
       "      <td>NaN</td>\n",
       "      <td>NaN</td>\n",
       "      <td>NaN</td>\n",
       "      <td>NaN</td>\n",
       "      <td>NaN</td>\n",
       "    </tr>\n",
       "    <tr>\n",
       "      <th>0</th>\n",
       "      <td>11</td>\n",
       "      <td>094649b6b797dad4572110752e0cca66</td>\n",
       "      <td>{\"cutoff\": \"quantile_0.1\", \"eval_fairness_grou...</td>\n",
       "      <td>1030.635677</td>\n",
       "      <td>89710</td>\n",
       "      <td>1.0</td>\n",
       "      <td>0.094251</td>\n",
       "      <td>0.901978</td>\n",
       "      <td>0.083096</td>\n",
       "      <td>0.913807</td>\n",
       "      <td>...</td>\n",
       "      <td>0.117614</td>\n",
       "      <td>0.145626</td>\n",
       "      <td>0.961534</td>\n",
       "      <td>0.867283</td>\n",
       "      <td>0.01647</td>\n",
       "      <td>0.029103</td>\n",
       "      <td>0.964070</td>\n",
       "      <td>0.880974</td>\n",
       "      <td>20540.0</td>\n",
       "      <td>69170.0</td>\n",
       "    </tr>\n",
       "    <tr>\n",
       "      <th>0</th>\n",
       "      <td>11</td>\n",
       "      <td>094649b6b797dad4572110752e0cca66</td>\n",
       "      <td>{\"cutoff\": \"quantile_0.25\", \"eval_fairness_gro...</td>\n",
       "      <td>1030.635677</td>\n",
       "      <td>89710</td>\n",
       "      <td>1.0</td>\n",
       "      <td>0.175395</td>\n",
       "      <td>0.796392</td>\n",
       "      <td>0.152055</td>\n",
       "      <td>0.824667</td>\n",
       "      <td>...</td>\n",
       "      <td>NaN</td>\n",
       "      <td>NaN</td>\n",
       "      <td>NaN</td>\n",
       "      <td>NaN</td>\n",
       "      <td>NaN</td>\n",
       "      <td>NaN</td>\n",
       "      <td>NaN</td>\n",
       "      <td>NaN</td>\n",
       "      <td>NaN</td>\n",
       "      <td>NaN</td>\n",
       "    </tr>\n",
       "    <tr>\n",
       "      <th>0</th>\n",
       "      <td>11</td>\n",
       "      <td>094649b6b797dad4572110752e0cca66</td>\n",
       "      <td>{\"cutoff\": \"quantile_0.25\", \"eval_fairness_gro...</td>\n",
       "      <td>1030.635677</td>\n",
       "      <td>89710</td>\n",
       "      <td>1.0</td>\n",
       "      <td>0.175395</td>\n",
       "      <td>0.796392</td>\n",
       "      <td>0.152055</td>\n",
       "      <td>0.824667</td>\n",
       "      <td>...</td>\n",
       "      <td>0.121204</td>\n",
       "      <td>0.167499</td>\n",
       "      <td>0.861435</td>\n",
       "      <td>0.686040</td>\n",
       "      <td>0.08826</td>\n",
       "      <td>0.093435</td>\n",
       "      <td>0.867235</td>\n",
       "      <td>0.715180</td>\n",
       "      <td>20540.0</td>\n",
       "      <td>69170.0</td>\n",
       "    </tr>\n",
       "  </tbody>\n",
       "</table>\n",
       "<p>4 rows × 50 columns</p>\n",
       "</div>"
      ],
      "text/plain": [
       "  run_no                       universe_id  \\\n",
       "0     11  094649b6b797dad4572110752e0cca66   \n",
       "0     11  094649b6b797dad4572110752e0cca66   \n",
       "0     11  094649b6b797dad4572110752e0cca66   \n",
       "0     11  094649b6b797dad4572110752e0cca66   \n",
       "\n",
       "                                   universe_settings  execution_time  \\\n",
       "0  {\"cutoff\": \"quantile_0.1\", \"eval_fairness_grou...     1030.635677   \n",
       "0  {\"cutoff\": \"quantile_0.1\", \"eval_fairness_grou...     1030.635677   \n",
       "0  {\"cutoff\": \"quantile_0.25\", \"eval_fairness_gro...     1030.635677   \n",
       "0  {\"cutoff\": \"quantile_0.25\", \"eval_fairness_gro...     1030.635677   \n",
       "\n",
       "   test_size_n  test_size_frac  fair_main_equalized_odds_difference  \\\n",
       "0        89710             1.0                             0.094251   \n",
       "0        89710             1.0                             0.094251   \n",
       "0        89710             1.0                             0.175395   \n",
       "0        89710             1.0                             0.175395   \n",
       "\n",
       "   fair_main_equalized_odds_ratio  fair_main_demographic_parity_difference  \\\n",
       "0                        0.901978                                 0.083096   \n",
       "0                        0.901978                                 0.083096   \n",
       "0                        0.796392                                 0.152055   \n",
       "0                        0.796392                                 0.152055   \n",
       "\n",
       "   fair_main_demographic_parity_ratio  ...  perf_grp_precision_0  \\\n",
       "0                            0.913807  ...                   NaN   \n",
       "0                            0.913807  ...              0.117614   \n",
       "0                            0.824667  ...                   NaN   \n",
       "0                            0.824667  ...              0.121204   \n",
       "\n",
       "   perf_grp_precision_1  perf_grp_false positive rate_0  \\\n",
       "0                   NaN                             NaN   \n",
       "0              0.145626                        0.961534   \n",
       "0                   NaN                             NaN   \n",
       "0              0.167499                        0.861435   \n",
       "\n",
       "   perf_grp_false positive rate_1  perf_grp_false negative rate_0  \\\n",
       "0                             NaN                             NaN   \n",
       "0                        0.867283                         0.01647   \n",
       "0                             NaN                             NaN   \n",
       "0                        0.686040                         0.08826   \n",
       "\n",
       "   perf_grp_false negative rate_1  perf_grp_selection rate_0  \\\n",
       "0                             NaN                        NaN   \n",
       "0                        0.029103                   0.964070   \n",
       "0                             NaN                        NaN   \n",
       "0                        0.093435                   0.867235   \n",
       "\n",
       "   perf_grp_selection rate_1  perf_grp_count_0  perf_grp_count_1  \n",
       "0                        NaN               NaN               NaN  \n",
       "0                   0.880974           20540.0           69170.0  \n",
       "0                        NaN               NaN               NaN  \n",
       "0                   0.715180           20540.0           69170.0  \n",
       "\n",
       "[4 rows x 50 columns]"
      ]
     },
     "execution_count": 72,
     "metadata": {},
     "output_type": "execute_result"
    }
   ],
   "source": [
    "final_output = universe_analysis.generate_final_output(\n",
    "    y_pred_prob=probs_test,\n",
    "    y_test=y_true,\n",
    "    org_test=org_test,\n",
    "    filter_data=filter_sub_universe_data,\n",
    "    cp_metrics_df=cp_metrics_df,\n",
    "    save=True,\n",
    ")\n",
    "final_output"
   ]
  },
  {
   "cell_type": "code",
   "execution_count": null,
   "id": "721ff514-cb11-46f8-b6fc-50392f74b5cb",
   "metadata": {
    "papermill": {
     "duration": 0.029313,
     "end_time": "2025-07-28T11:27:31.175947",
     "exception": false,
     "start_time": "2025-07-28T11:27:31.146634",
     "status": "completed"
    },
    "tags": []
   },
   "outputs": [],
   "source": []
  }
 ],
 "metadata": {
  "celltoolbar": "Tags",
  "kernelspec": {
   "display_name": "Python (CMA Fairness)",
   "language": "python",
   "name": "cma_fair_env"
  },
  "language_info": {
   "codemirror_mode": {
    "name": "ipython",
    "version": 3
   },
   "file_extension": ".py",
   "mimetype": "text/x-python",
   "name": "python",
   "nbconvert_exporter": "python",
   "pygments_lexer": "ipython3",
   "version": "3.10.12"
  },
  "papermill": {
   "default_parameters": {},
   "duration": 1047.951245,
   "end_time": "2025-07-28T11:27:31.926562",
   "environment_variables": {},
   "exception": null,
   "input_path": "universe_analysis.ipynb",
   "output_path": "output/runs/11/notebooks/m_11-094649b6b797dad4572110752e0cca66.ipynb",
   "parameters": {
    "output_dir": "output",
    "run_no": "11",
    "seed": "2023",
    "universe": "{\"cutoff\": [\"quantile_0.1\", \"quantile_0.25\"], \"eval_fairness_grouping\": [\"majority-minority\", \"nationality-all\"], \"exclude_features\": \"none\", \"exclude_subgroups\": \"keep-all\", \"model\": \"elasticnet\", \"scale\": \"do-not-scale\", \"training_size\": \"2014\"}",
    "universe_id": "094649b6b797dad4572110752e0cca66"
   },
   "start_time": "2025-07-28T11:10:03.975317",
   "version": "2.6.0"
  }
 },
 "nbformat": 4,
 "nbformat_minor": 5
}