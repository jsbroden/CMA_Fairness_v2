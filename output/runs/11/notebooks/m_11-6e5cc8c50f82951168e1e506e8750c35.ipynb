{
 "cells": [
  {
   "cell_type": "code",
   "execution_count": 1,
   "id": "f159f837-637b-42ba-96b5-ec9a68c44524",
   "metadata": {
    "execution": {
     "iopub.execute_input": "2025-07-28T11:03:14.921627Z",
     "iopub.status.busy": "2025-07-28T11:03:14.921221Z",
     "iopub.status.idle": "2025-07-28T11:03:14.940343Z",
     "shell.execute_reply": "2025-07-28T11:03:14.939285Z"
    },
    "papermill": {
     "duration": 0.044198,
     "end_time": "2025-07-28T11:03:14.942469",
     "exception": false,
     "start_time": "2025-07-28T11:03:14.898271",
     "status": "completed"
    },
    "tags": []
   },
   "outputs": [
    {
     "name": "stdout",
     "output_type": "stream",
     "text": [
      "/dss/dsshome1/0C/ra93lal2/cma/CMA_Fairness_v2\n"
     ]
    },
    {
     "name": "stderr",
     "output_type": "stream",
     "text": [
      "/dss/dsshome1/0C/ra93lal2/.local/share/virtualenvs/CMA_Fairness_v2-3j10GkSs/lib/python3.10/site-packages/IPython/core/magics/osm.py:393: UserWarning: This is now an optional IPython functionality, using bookmarks requires you to install the `pickleshare` library.\n",
      "  bkms = self.shell.db.get('bookmarks', {})\n",
      "/dss/dsshome1/0C/ra93lal2/.local/share/virtualenvs/CMA_Fairness_v2-3j10GkSs/lib/python3.10/site-packages/IPython/core/magics/osm.py:417: UserWarning: This is now an optional IPython functionality, setting dhist requires you to install the `pickleshare` library.\n",
      "  self.shell.db['dhist'] = compress_dhist(dhist)[-100:]\n"
     ]
    }
   ],
   "source": [
    "%cd ~/cma/CMA_Fairness_v2"
   ]
  },
  {
   "cell_type": "markdown",
   "id": "de2603b9",
   "metadata": {
    "papermill": {
     "duration": 0.017345,
     "end_time": "2025-07-28T11:03:14.977670",
     "exception": false,
     "start_time": "2025-07-28T11:03:14.960325",
     "status": "completed"
    },
    "tags": []
   },
   "source": [
    "The following cell holds the definition of our parameters, these values can be overriden by rendering the with e.g. the following command:\n",
    "\n",
    "papermill -p alpha 0.2 -p ratio 0.3 universe_analysis.ipynb output/test_run.ipynb"
   ]
  },
  {
   "cell_type": "code",
   "execution_count": 2,
   "id": "a80968a0-40bb-4fa9-85ef-2d5eefb01975",
   "metadata": {
    "execution": {
     "iopub.execute_input": "2025-07-28T11:03:15.013856Z",
     "iopub.status.busy": "2025-07-28T11:03:15.013298Z",
     "iopub.status.idle": "2025-07-28T11:03:15.019205Z",
     "shell.execute_reply": "2025-07-28T11:03:15.018325Z"
    },
    "papermill": {
     "duration": 0.025901,
     "end_time": "2025-07-28T11:03:15.020849",
     "exception": false,
     "start_time": "2025-07-28T11:03:14.994948",
     "status": "completed"
    },
    "tags": []
   },
   "outputs": [
    {
     "name": "stdout",
     "output_type": "stream",
     "text": [
      "Current working directory: /dss/dsshome1/0C/ra93lal2/cma/CMA_Fairness_v2\n"
     ]
    }
   ],
   "source": [
    "import os\n",
    "print(\"Current working directory:\", os.getcwd())"
   ]
  },
  {
   "cell_type": "code",
   "execution_count": 3,
   "id": "2dce4c03",
   "metadata": {
    "execution": {
     "iopub.execute_input": "2025-07-28T11:03:15.058258Z",
     "iopub.status.busy": "2025-07-28T11:03:15.057894Z",
     "iopub.status.idle": "2025-07-28T11:03:15.064117Z",
     "shell.execute_reply": "2025-07-28T11:03:15.063013Z"
    },
    "papermill": {
     "duration": 0.026711,
     "end_time": "2025-07-28T11:03:15.065876",
     "exception": false,
     "start_time": "2025-07-28T11:03:15.039165",
     "status": "completed"
    },
    "tags": [
     "parameters"
    ]
   },
   "outputs": [],
   "source": [
    "run_no = 0\n",
    "universe_id = \"test\"\n",
    "universe = {\n",
    "    \"training_size\": \"2014\", # \"25k\", \"5k\", \"1k\", \"2014\"\n",
    "    \"scale\": \"scale\", # \"scale\", \"do-not-scale\",\n",
    "    #\"stratify_split\": \"target\", # \"none\", \"target\", \"protected-attribute\", \"both\",\n",
    "    \"model\": \"elasticnet\", # \"logreg\", \"penalized_logreg\", \"rf\", \"gbm\", \"elasticnet\"\n",
    "    \"cutoff\": [\"quantile_0.15\", \"quantile_0.30\"],\n",
    "    \"exclude_features\": \"age\", # \"none\", \"nationality\", \"sex\", \"nationality-sex\", \"age\"\n",
    "    \"exclude_subgroups\": \"keep-all\", # \"keep-all\", \"drop-non-german\"\n",
    "    \"eval_fairness_grouping\": [\"majority-minority\", \"nationality-all\"]\n",
    "}\n",
    "\n",
    "output_dir=\"./output\"\n",
    "seed=0"
   ]
  },
  {
   "cell_type": "code",
   "execution_count": 4,
   "id": "137e0e8e",
   "metadata": {
    "execution": {
     "iopub.execute_input": "2025-07-28T11:03:15.104733Z",
     "iopub.status.busy": "2025-07-28T11:03:15.104172Z",
     "iopub.status.idle": "2025-07-28T11:03:15.111473Z",
     "shell.execute_reply": "2025-07-28T11:03:15.110274Z"
    },
    "papermill": {
     "duration": 0.029074,
     "end_time": "2025-07-28T11:03:15.113656",
     "exception": false,
     "start_time": "2025-07-28T11:03:15.084582",
     "status": "completed"
    },
    "tags": [
     "injected-parameters"
    ]
   },
   "outputs": [],
   "source": [
    "# Parameters\n",
    "universe_id = \"6e5cc8c50f82951168e1e506e8750c35\"\n",
    "run_no = \"11\"\n",
    "universe = \"{\\\"cutoff\\\": [\\\"quantile_0.1\\\", \\\"quantile_0.25\\\"], \\\"eval_fairness_grouping\\\": [\\\"majority-minority\\\", \\\"nationality-all\\\"], \\\"exclude_features\\\": \\\"sex\\\", \\\"exclude_subgroups\\\": \\\"keep-all\\\", \\\"model\\\": \\\"logreg\\\", \\\"scale\\\": \\\"do-not-scale\\\", \\\"training_size\\\": \\\"2014\\\"}\"\n",
    "output_dir = \"output\"\n",
    "seed = \"2023\"\n"
   ]
  },
  {
   "cell_type": "code",
   "execution_count": 5,
   "id": "1650acaf",
   "metadata": {
    "execution": {
     "iopub.execute_input": "2025-07-28T11:03:15.152251Z",
     "iopub.status.busy": "2025-07-28T11:03:15.151711Z",
     "iopub.status.idle": "2025-07-28T11:03:15.157131Z",
     "shell.execute_reply": "2025-07-28T11:03:15.156172Z"
    },
    "papermill": {
     "duration": 0.026326,
     "end_time": "2025-07-28T11:03:15.158862",
     "exception": false,
     "start_time": "2025-07-28T11:03:15.132536",
     "status": "completed"
    },
    "tags": []
   },
   "outputs": [],
   "source": [
    "import json\n",
    "# Parse universe into dict if it is passed as a string\n",
    "if isinstance(universe, str):\n",
    "    universe = json.loads(universe)"
   ]
  },
  {
   "cell_type": "code",
   "execution_count": 6,
   "id": "16620c48",
   "metadata": {
    "execution": {
     "iopub.execute_input": "2025-07-28T11:03:15.198812Z",
     "iopub.status.busy": "2025-07-28T11:03:15.197740Z",
     "iopub.status.idle": "2025-07-28T11:03:15.253547Z",
     "shell.execute_reply": "2025-07-28T11:03:15.252800Z"
    },
    "papermill": {
     "duration": 0.083324,
     "end_time": "2025-07-28T11:03:15.261024",
     "exception": false,
     "start_time": "2025-07-28T11:03:15.177700",
     "status": "completed"
    },
    "tags": []
   },
   "outputs": [],
   "source": [
    "# Auto-reload the custom package\n",
    "%load_ext autoreload\n",
    "%autoreload 1\n",
    "%aimport fairness_multiverse"
   ]
  },
  {
   "cell_type": "code",
   "execution_count": 7,
   "id": "01c5c9f3",
   "metadata": {
    "execution": {
     "iopub.execute_input": "2025-07-28T11:03:15.303228Z",
     "iopub.status.busy": "2025-07-28T11:03:15.302418Z",
     "iopub.status.idle": "2025-07-28T11:03:17.600571Z",
     "shell.execute_reply": "2025-07-28T11:03:17.599699Z"
    },
    "papermill": {
     "duration": 2.323642,
     "end_time": "2025-07-28T11:03:17.602611",
     "exception": false,
     "start_time": "2025-07-28T11:03:15.278969",
     "status": "completed"
    },
    "tags": []
   },
   "outputs": [],
   "source": [
    "from fairness_multiverse.universe import UniverseAnalysis\n",
    "\n",
    "universe_analysis = UniverseAnalysis(\n",
    "    run_no = run_no,\n",
    "    universe_id = universe_id,\n",
    "    universe = universe,\n",
    "    output_dir=output_dir,\n",
    ")"
   ]
  },
  {
   "cell_type": "code",
   "execution_count": 8,
   "id": "106241f5",
   "metadata": {
    "execution": {
     "iopub.execute_input": "2025-07-28T11:03:17.649902Z",
     "iopub.status.busy": "2025-07-28T11:03:17.649319Z",
     "iopub.status.idle": "2025-07-28T11:03:17.656510Z",
     "shell.execute_reply": "2025-07-28T11:03:17.655453Z"
    },
    "papermill": {
     "duration": 0.032578,
     "end_time": "2025-07-28T11:03:17.658975",
     "exception": false,
     "start_time": "2025-07-28T11:03:17.626397",
     "status": "completed"
    },
    "tags": []
   },
   "outputs": [
    {
     "name": "stdout",
     "output_type": "stream",
     "text": [
      "Using Seed: 2023\n"
     ]
    }
   ],
   "source": [
    "import numpy as np\n",
    "parsed_seed = int(seed)\n",
    "np.random.seed(parsed_seed)\n",
    "print(f\"Using Seed: {parsed_seed}\")"
   ]
  },
  {
   "cell_type": "markdown",
   "id": "e0ebdc57",
   "metadata": {
    "papermill": {
     "duration": 0.020697,
     "end_time": "2025-07-28T11:03:17.701287",
     "exception": false,
     "start_time": "2025-07-28T11:03:17.680590",
     "status": "completed"
    },
    "tags": []
   },
   "source": [
    "# Loading Data"
   ]
  },
  {
   "cell_type": "markdown",
   "id": "681925a3",
   "metadata": {
    "papermill": {
     "duration": 0.018608,
     "end_time": "2025-07-28T11:03:17.740271",
     "exception": false,
     "start_time": "2025-07-28T11:03:17.721663",
     "status": "completed"
    },
    "tags": []
   },
   "source": [
    "Load siab_train, siab_test, siab_calib and/or \n",
    "load siab_train_features, siab_train_labels"
   ]
  },
  {
   "cell_type": "code",
   "execution_count": 9,
   "id": "f0496b8a",
   "metadata": {
    "execution": {
     "iopub.execute_input": "2025-07-28T11:03:17.782970Z",
     "iopub.status.busy": "2025-07-28T11:03:17.782489Z",
     "iopub.status.idle": "2025-07-28T11:03:30.306527Z",
     "shell.execute_reply": "2025-07-28T11:03:30.305277Z"
    },
    "papermill": {
     "duration": 12.547738,
     "end_time": "2025-07-28T11:03:30.308633",
     "exception": false,
     "start_time": "2025-07-28T11:03:17.760895",
     "status": "completed"
    },
    "tags": []
   },
   "outputs": [
    {
     "name": "stdout",
     "output_type": "stream",
     "text": [
      "Loading SIAB data from cache: data/siab_cached.csv.gz\n"
     ]
    },
    {
     "name": "stdout",
     "output_type": "stream",
     "text": [
      "(643690, 164)\n"
     ]
    }
   ],
   "source": [
    "from pathlib import Path\n",
    "import pandas as pd\n",
    "\n",
    "# File paths\n",
    "raw_file = Path(\"data/raw/siab.csv\")\n",
    "cache_file = Path(\"data/siab_cached.csv.gz\")\n",
    "\n",
    "# Ensure cache directory exists\n",
    "cache_file.parent.mkdir(parents=True, exist_ok=True)\n",
    "\n",
    "# Load with simple caching\n",
    "if cache_file.exists():\n",
    "    print(f\"Loading SIAB data from cache: {cache_file}\")\n",
    "    siab = pd.read_csv(cache_file, compression='gzip')\n",
    "else:\n",
    "    print(f\"Cache not found. Reading raw SIAB data: {raw_file}\")\n",
    "    siab = pd.read_csv(raw_file)\n",
    "    siab.to_csv(cache_file, index=False, compression='gzip')\n",
    "    print(f\"Cached SIAB data to: {cache_file}\")\n",
    "\n",
    "# Now use `siab` DataFrame as needed\n",
    "print(siab.shape)"
   ]
  },
  {
   "cell_type": "code",
   "execution_count": 10,
   "id": "db0ca512-5f53-4dba-abdb-a2888bca41ba",
   "metadata": {
    "execution": {
     "iopub.execute_input": "2025-07-28T11:03:30.350936Z",
     "iopub.status.busy": "2025-07-28T11:03:30.350470Z",
     "iopub.status.idle": "2025-07-28T11:03:30.355578Z",
     "shell.execute_reply": "2025-07-28T11:03:30.354496Z"
    },
    "papermill": {
     "duration": 0.024376,
     "end_time": "2025-07-28T11:03:30.357089",
     "exception": false,
     "start_time": "2025-07-28T11:03:30.332713",
     "status": "completed"
    },
    "tags": []
   },
   "outputs": [],
   "source": [
    "#siab"
   ]
  },
  {
   "cell_type": "code",
   "execution_count": 11,
   "id": "a0edb063",
   "metadata": {
    "execution": {
     "iopub.execute_input": "2025-07-28T11:03:30.381237Z",
     "iopub.status.busy": "2025-07-28T11:03:30.380849Z",
     "iopub.status.idle": "2025-07-28T11:03:30.385206Z",
     "shell.execute_reply": "2025-07-28T11:03:30.384459Z"
    },
    "papermill": {
     "duration": 0.017931,
     "end_time": "2025-07-28T11:03:30.386531",
     "exception": false,
     "start_time": "2025-07-28T11:03:30.368600",
     "status": "completed"
    },
    "tags": []
   },
   "outputs": [],
   "source": [
    "#import pandas as pd\n",
    "#\n",
    "#X_train = pd.read_csv(\"./data/X_train.csv\")\n",
    "#y_train = pd.read_csv(\"./data/y_train.csv\")"
   ]
  },
  {
   "cell_type": "code",
   "execution_count": 12,
   "id": "63d08085",
   "metadata": {
    "execution": {
     "iopub.execute_input": "2025-07-28T11:03:30.410217Z",
     "iopub.status.busy": "2025-07-28T11:03:30.409645Z",
     "iopub.status.idle": "2025-07-28T11:03:30.414304Z",
     "shell.execute_reply": "2025-07-28T11:03:30.413349Z"
    },
    "papermill": {
     "duration": 0.017793,
     "end_time": "2025-07-28T11:03:30.415956",
     "exception": false,
     "start_time": "2025-07-28T11:03:30.398163",
     "status": "completed"
    },
    "tags": []
   },
   "outputs": [],
   "source": [
    "#X_test = pd.read_csv(\"./data/X_test.csv\")\n",
    "#y_true = pd.read_csv(\"./data/y_test.csv\")"
   ]
  },
  {
   "cell_type": "code",
   "execution_count": 13,
   "id": "98a8d0fa-1d3d-4ed8-bb2c-281470e24add",
   "metadata": {
    "execution": {
     "iopub.execute_input": "2025-07-28T11:03:30.461337Z",
     "iopub.status.busy": "2025-07-28T11:03:30.460306Z",
     "iopub.status.idle": "2025-07-28T11:03:30.466265Z",
     "shell.execute_reply": "2025-07-28T11:03:30.465202Z"
    },
    "papermill": {
     "duration": 0.03061,
     "end_time": "2025-07-28T11:03:30.468070",
     "exception": false,
     "start_time": "2025-07-28T11:03:30.437460",
     "status": "completed"
    },
    "tags": []
   },
   "outputs": [],
   "source": [
    "# Calibration data for conformal\n",
    "#X_calib = pd.read_csv(\"./data/X_calib.csv\")\n",
    "#y_calib = pd.read_csv(\"./data/y_calib.csv\")"
   ]
  },
  {
   "cell_type": "markdown",
   "id": "9901737e-04df-44f0-9100-f5ad144ed040",
   "metadata": {
    "papermill": {
     "duration": 0.016522,
     "end_time": "2025-07-28T11:03:30.506528",
     "exception": false,
     "start_time": "2025-07-28T11:03:30.490006",
     "status": "completed"
    },
    "tags": []
   },
   "source": [
    "# Splitting Data and Setting Training Data Size"
   ]
  },
  {
   "cell_type": "code",
   "execution_count": 14,
   "id": "acbc8f7d-8fc8-4e86-8c59-5dcb0f58384b",
   "metadata": {
    "execution": {
     "iopub.execute_input": "2025-07-28T11:03:30.529605Z",
     "iopub.status.busy": "2025-07-28T11:03:30.529164Z",
     "iopub.status.idle": "2025-07-28T11:03:30.536697Z",
     "shell.execute_reply": "2025-07-28T11:03:30.535755Z"
    },
    "papermill": {
     "duration": 0.020895,
     "end_time": "2025-07-28T11:03:30.538193",
     "exception": false,
     "start_time": "2025-07-28T11:03:30.517298",
     "status": "completed"
    },
    "tags": []
   },
   "outputs": [],
   "source": [
    "def sample_by_year(df, training_size, random_state=42):\n",
    "    if training_size == \"2014\":\n",
    "        return df[df[\"year\"] == 2014].reset_index(drop=True)\n",
    "    \n",
    "    size_map = {\n",
    "        \"25k\": 5000,\n",
    "        \"5k\": 1000,\n",
    "        \"1k\": 200\n",
    "    }\n",
    "\n",
    "    if training_size not in size_map:\n",
    "        return df.reset_index(drop=True)  # use all data\n",
    "\n",
    "    n_per_year = size_map[training_size]\n",
    "    grouped = df.groupby(\"year\")\n",
    "    sampled = grouped.apply(lambda x: x.sample(n=min(n_per_year, len(x)), random_state=random_state))\n",
    "    return sampled.reset_index(drop=True)"
   ]
  },
  {
   "cell_type": "code",
   "execution_count": 15,
   "id": "6d931f52-beaf-43ff-9e78-9d44a448d54e",
   "metadata": {
    "execution": {
     "iopub.execute_input": "2025-07-28T11:03:30.575258Z",
     "iopub.status.busy": "2025-07-28T11:03:30.574711Z",
     "iopub.status.idle": "2025-07-28T11:03:30.762359Z",
     "shell.execute_reply": "2025-07-28T11:03:30.761381Z"
    },
    "papermill": {
     "duration": 0.210909,
     "end_time": "2025-07-28T11:03:30.764018",
     "exception": false,
     "start_time": "2025-07-28T11:03:30.553109",
     "status": "completed"
    },
    "tags": []
   },
   "outputs": [],
   "source": [
    "siab_s = sample_by_year(siab, universe[\"training_size\"])"
   ]
  },
  {
   "cell_type": "code",
   "execution_count": 16,
   "id": "5db0a40e-a4e2-4920-be85-b12ae061d70d",
   "metadata": {
    "execution": {
     "iopub.execute_input": "2025-07-28T11:03:30.810345Z",
     "iopub.status.busy": "2025-07-28T11:03:30.809813Z",
     "iopub.status.idle": "2025-07-28T11:03:30.825844Z",
     "shell.execute_reply": "2025-07-28T11:03:30.824830Z"
    },
    "papermill": {
     "duration": 0.041278,
     "end_time": "2025-07-28T11:03:30.827641",
     "exception": false,
     "start_time": "2025-07-28T11:03:30.786363",
     "status": "completed"
    },
    "tags": []
   },
   "outputs": [
    {
     "data": {
      "text/plain": [
       "year\n",
       "2014    87158\n",
       "dtype: int64"
      ]
     },
     "metadata": {},
     "output_type": "display_data"
    }
   ],
   "source": [
    "display(siab_s.groupby(\"year\").size())"
   ]
  },
  {
   "cell_type": "code",
   "execution_count": 17,
   "id": "a561edb4-d032-42cb-8256-22eac1111c64",
   "metadata": {
    "execution": {
     "iopub.execute_input": "2025-07-28T11:03:30.874355Z",
     "iopub.status.busy": "2025-07-28T11:03:30.873394Z",
     "iopub.status.idle": "2025-07-28T11:03:31.193974Z",
     "shell.execute_reply": "2025-07-28T11:03:31.193164Z"
    },
    "papermill": {
     "duration": 0.345505,
     "end_time": "2025-07-28T11:03:31.195458",
     "exception": false,
     "start_time": "2025-07-28T11:03:30.849953",
     "status": "completed"
    },
    "tags": []
   },
   "outputs": [],
   "source": [
    "siab_train = siab_s[siab_s.year < 2015]\n",
    "siab_calib = siab[siab.year == 2015]\n",
    "siab_test = siab[siab.year == 2016]"
   ]
  },
  {
   "cell_type": "code",
   "execution_count": 18,
   "id": "472de16f-c3db-4916-846b-1f0de9cf1746",
   "metadata": {
    "execution": {
     "iopub.execute_input": "2025-07-28T11:03:31.222456Z",
     "iopub.status.busy": "2025-07-28T11:03:31.221900Z",
     "iopub.status.idle": "2025-07-28T11:03:31.271902Z",
     "shell.execute_reply": "2025-07-28T11:03:31.271075Z"
    },
    "papermill": {
     "duration": 0.064012,
     "end_time": "2025-07-28T11:03:31.273447",
     "exception": false,
     "start_time": "2025-07-28T11:03:31.209435",
     "status": "completed"
    },
    "tags": []
   },
   "outputs": [],
   "source": [
    "X_train = siab_train.iloc[:,4:164]\n",
    "y_train = siab_train.iloc[:, [3]]"
   ]
  },
  {
   "cell_type": "code",
   "execution_count": 19,
   "id": "828c96af-f43a-4ed6-ba47-8ac73a47d56c",
   "metadata": {
    "execution": {
     "iopub.execute_input": "2025-07-28T11:03:31.297834Z",
     "iopub.status.busy": "2025-07-28T11:03:31.297279Z",
     "iopub.status.idle": "2025-07-28T11:03:31.349682Z",
     "shell.execute_reply": "2025-07-28T11:03:31.348811Z"
    },
    "papermill": {
     "duration": 0.065677,
     "end_time": "2025-07-28T11:03:31.351041",
     "exception": false,
     "start_time": "2025-07-28T11:03:31.285364",
     "status": "completed"
    },
    "tags": []
   },
   "outputs": [],
   "source": [
    "X_calib = siab_calib.iloc[:,4:164]\n",
    "y_calib = siab_calib.iloc[:, [3]]"
   ]
  },
  {
   "cell_type": "code",
   "execution_count": 20,
   "id": "c34be9c3-6bd6-476e-acd3-845840e303be",
   "metadata": {
    "execution": {
     "iopub.execute_input": "2025-07-28T11:03:31.376157Z",
     "iopub.status.busy": "2025-07-28T11:03:31.375623Z",
     "iopub.status.idle": "2025-07-28T11:03:31.429574Z",
     "shell.execute_reply": "2025-07-28T11:03:31.428750Z"
    },
    "papermill": {
     "duration": 0.068162,
     "end_time": "2025-07-28T11:03:31.430984",
     "exception": false,
     "start_time": "2025-07-28T11:03:31.362822",
     "status": "completed"
    },
    "tags": []
   },
   "outputs": [],
   "source": [
    "X_test = siab_test.iloc[:,4:164]\n",
    "y_true = siab_test.iloc[:, [3]]"
   ]
  },
  {
   "cell_type": "code",
   "execution_count": 21,
   "id": "e6c733c5",
   "metadata": {
    "execution": {
     "iopub.execute_input": "2025-07-28T11:03:31.455950Z",
     "iopub.status.busy": "2025-07-28T11:03:31.455360Z",
     "iopub.status.idle": "2025-07-28T11:03:31.591756Z",
     "shell.execute_reply": "2025-07-28T11:03:31.590646Z"
    },
    "papermill": {
     "duration": 0.154288,
     "end_time": "2025-07-28T11:03:31.597403",
     "exception": false,
     "start_time": "2025-07-28T11:03:31.443115",
     "status": "completed"
    },
    "tags": []
   },
   "outputs": [],
   "source": [
    "# Auxiliary data needed downstream in the pipeline\n",
    "\n",
    "org_train = X_train.copy()\n",
    "org_test = X_test.copy()\n",
    "org_calib = X_calib.copy()"
   ]
  },
  {
   "cell_type": "markdown",
   "id": "0a4a1b33",
   "metadata": {
    "papermill": {
     "duration": 0.022804,
     "end_time": "2025-07-28T11:03:31.642849",
     "exception": false,
     "start_time": "2025-07-28T11:03:31.620045",
     "status": "completed"
    },
    "tags": []
   },
   "source": [
    "# Preprocessing Data"
   ]
  },
  {
   "cell_type": "code",
   "execution_count": 22,
   "id": "ca879031",
   "metadata": {
    "execution": {
     "iopub.execute_input": "2025-07-28T11:03:31.689663Z",
     "iopub.status.busy": "2025-07-28T11:03:31.689170Z",
     "iopub.status.idle": "2025-07-28T11:03:31.695821Z",
     "shell.execute_reply": "2025-07-28T11:03:31.694749Z"
    },
    "papermill": {
     "duration": 0.032575,
     "end_time": "2025-07-28T11:03:31.697776",
     "exception": false,
     "start_time": "2025-07-28T11:03:31.665201",
     "status": "completed"
    },
    "tags": []
   },
   "outputs": [],
   "source": [
    "# EXCLUDE PROTECTED FEATURES\n",
    "# ----------------------\n",
    "# \"exclude_features\": \"none\", # \"nationality\", \"sex\", \"nationality-sex\"\n",
    "\n",
    "excluded_features = universe[\"exclude_features\"].split(\"-\") # split, e.g.: \"nationality-sex\" -> [\"nationality\", \"sex\"]\n",
    "excluded_features_dictionary = {\n",
    "    \"nationality\": [\"maxdeutsch1\", \"maxdeutsch.Missing.\"],\n",
    "    \"sex\": [\"frau1\"],\n",
    "    \"age\": [\"age\"],\n",
    "}\n"
   ]
  },
  {
   "cell_type": "code",
   "execution_count": 23,
   "id": "b745ac60",
   "metadata": {
    "execution": {
     "iopub.execute_input": "2025-07-28T11:03:31.744970Z",
     "iopub.status.busy": "2025-07-28T11:03:31.744224Z",
     "iopub.status.idle": "2025-07-28T11:03:31.750431Z",
     "shell.execute_reply": "2025-07-28T11:03:31.749325Z"
    },
    "papermill": {
     "duration": 0.03216,
     "end_time": "2025-07-28T11:03:31.752311",
     "exception": false,
     "start_time": "2025-07-28T11:03:31.720151",
     "status": "completed"
    },
    "tags": []
   },
   "outputs": [],
   "source": [
    "# Code nice names to column names\n",
    "\n",
    "excluded_features_columns = [\n",
    "    excluded_features_dictionary[f] for f in excluded_features if len(f) > 0 and f != \"none\"\n",
    "]"
   ]
  },
  {
   "cell_type": "code",
   "execution_count": 24,
   "id": "f84f73a2",
   "metadata": {
    "execution": {
     "iopub.execute_input": "2025-07-28T11:03:31.798186Z",
     "iopub.status.busy": "2025-07-28T11:03:31.797665Z",
     "iopub.status.idle": "2025-07-28T11:03:31.804501Z",
     "shell.execute_reply": "2025-07-28T11:03:31.803437Z"
    },
    "papermill": {
     "duration": 0.032109,
     "end_time": "2025-07-28T11:03:31.806221",
     "exception": false,
     "start_time": "2025-07-28T11:03:31.774112",
     "status": "completed"
    },
    "tags": []
   },
   "outputs": [],
   "source": [
    "from utils import flatten_once\n",
    "\n",
    "excluded_features_columns = flatten_once(excluded_features_columns)"
   ]
  },
  {
   "cell_type": "code",
   "execution_count": 25,
   "id": "884dea22",
   "metadata": {
    "execution": {
     "iopub.execute_input": "2025-07-28T11:03:31.852685Z",
     "iopub.status.busy": "2025-07-28T11:03:31.851781Z",
     "iopub.status.idle": "2025-07-28T11:03:31.910184Z",
     "shell.execute_reply": "2025-07-28T11:03:31.909144Z"
    },
    "papermill": {
     "duration": 0.083431,
     "end_time": "2025-07-28T11:03:31.912169",
     "exception": false,
     "start_time": "2025-07-28T11:03:31.828738",
     "status": "completed"
    },
    "tags": []
   },
   "outputs": [
    {
     "name": "stdout",
     "output_type": "stream",
     "text": [
      "Dropping features: ['frau1']\n"
     ]
    }
   ],
   "source": [
    "if len(excluded_features_columns) > 0:\n",
    "    print(f\"Dropping features: {excluded_features_columns}\")\n",
    "    X_train.drop(excluded_features_columns, axis=1, inplace=True)"
   ]
  },
  {
   "cell_type": "code",
   "execution_count": 26,
   "id": "95ab8b16",
   "metadata": {
    "execution": {
     "iopub.execute_input": "2025-07-28T11:03:31.959323Z",
     "iopub.status.busy": "2025-07-28T11:03:31.958306Z",
     "iopub.status.idle": "2025-07-28T11:03:32.014931Z",
     "shell.execute_reply": "2025-07-28T11:03:32.013810Z"
    },
    "papermill": {
     "duration": 0.0825,
     "end_time": "2025-07-28T11:03:32.016959",
     "exception": false,
     "start_time": "2025-07-28T11:03:31.934459",
     "status": "completed"
    },
    "tags": []
   },
   "outputs": [
    {
     "name": "stdout",
     "output_type": "stream",
     "text": [
      "Dropping features: ['frau1']\n"
     ]
    }
   ],
   "source": [
    "if len(excluded_features_columns) > 0:\n",
    "    print(f\"Dropping features: {excluded_features_columns}\")\n",
    "    X_test.drop(excluded_features_columns, axis=1, inplace=True)"
   ]
  },
  {
   "cell_type": "code",
   "execution_count": 27,
   "id": "1853aaf5-fb9f-46cb-a2b5-8ea4ae2237e4",
   "metadata": {
    "execution": {
     "iopub.execute_input": "2025-07-28T11:03:32.065429Z",
     "iopub.status.busy": "2025-07-28T11:03:32.064705Z",
     "iopub.status.idle": "2025-07-28T11:03:32.120508Z",
     "shell.execute_reply": "2025-07-28T11:03:32.119300Z"
    },
    "papermill": {
     "duration": 0.083932,
     "end_time": "2025-07-28T11:03:32.123248",
     "exception": false,
     "start_time": "2025-07-28T11:03:32.039316",
     "status": "completed"
    },
    "tags": []
   },
   "outputs": [
    {
     "name": "stdout",
     "output_type": "stream",
     "text": [
      "Dropping features: ['frau1']\n"
     ]
    }
   ],
   "source": [
    "if len(excluded_features_columns) > 0:\n",
    "    print(f\"Dropping features: {excluded_features_columns}\")\n",
    "    X_calib.drop(excluded_features_columns, axis=1, inplace=True)"
   ]
  },
  {
   "cell_type": "code",
   "execution_count": 28,
   "id": "6727d079-03e5-481e-9d38-292a90b7a0a8",
   "metadata": {
    "execution": {
     "iopub.execute_input": "2025-07-28T11:03:32.174118Z",
     "iopub.status.busy": "2025-07-28T11:03:32.173087Z",
     "iopub.status.idle": "2025-07-28T11:03:32.178893Z",
     "shell.execute_reply": "2025-07-28T11:03:32.177806Z"
    },
    "papermill": {
     "duration": 0.035021,
     "end_time": "2025-07-28T11:03:32.181049",
     "exception": false,
     "start_time": "2025-07-28T11:03:32.146028",
     "status": "completed"
    },
    "tags": []
   },
   "outputs": [],
   "source": [
    "# SPLIT & STRATIFY DATA\n",
    "# ----------------------"
   ]
  },
  {
   "cell_type": "code",
   "execution_count": 29,
   "id": "76c4dc6d",
   "metadata": {
    "execution": {
     "iopub.execute_input": "2025-07-28T11:03:32.234364Z",
     "iopub.status.busy": "2025-07-28T11:03:32.233623Z",
     "iopub.status.idle": "2025-07-28T11:03:32.239830Z",
     "shell.execute_reply": "2025-07-28T11:03:32.238795Z"
    },
    "papermill": {
     "duration": 0.03353,
     "end_time": "2025-07-28T11:03:32.241590",
     "exception": false,
     "start_time": "2025-07-28T11:03:32.208060",
     "status": "completed"
    },
    "tags": []
   },
   "outputs": [],
   "source": [
    "# EXCLUDE CERTAIN SUBGROUPS\n",
    "# ----------------------\n",
    "\n",
    "mode = universe.get(\"exclude_subgroups\", \"keep-all\") \n",
    "# Fetches the exclude_subgroups setting from the universe dict.\n",
    "# Defaults to \"keep-all\" if the key is missing."
   ]
  },
  {
   "cell_type": "code",
   "execution_count": 30,
   "id": "21994072",
   "metadata": {
    "execution": {
     "iopub.execute_input": "2025-07-28T11:03:32.291698Z",
     "iopub.status.busy": "2025-07-28T11:03:32.291255Z",
     "iopub.status.idle": "2025-07-28T11:03:32.298830Z",
     "shell.execute_reply": "2025-07-28T11:03:32.297796Z"
    },
    "papermill": {
     "duration": 0.034582,
     "end_time": "2025-07-28T11:03:32.300604",
     "exception": false,
     "start_time": "2025-07-28T11:03:32.266022",
     "status": "completed"
    },
    "tags": []
   },
   "outputs": [],
   "source": [
    "if mode == \"keep-all\":\n",
    "    keep_mask = pd.Series(True, index=org_train.index)\n",
    "\n",
    "# org_train contains the original feature columns from features_org (in Simson)\n",
    "# features_org contains unprocessed features, for me X_train at beginning ???\n",
    "# For keep-all, creates a boolean Series (keep_mask) of all True, so no rows are removed.\n",
    "\n",
    "elif mode == \"drop-non-german\":\n",
    "    keep_mask = org_train[\"maxdeutsch1\"] == 1 # ??? what about missing values?\n",
    "\n",
    "else:\n",
    "    raise ValueError(f\"Unsupported mode for exclude_subgroups: {mode}\")\n"
   ]
  },
  {
   "cell_type": "code",
   "execution_count": 31,
   "id": "71651440",
   "metadata": {
    "execution": {
     "iopub.execute_input": "2025-07-28T11:03:32.351018Z",
     "iopub.status.busy": "2025-07-28T11:03:32.350292Z",
     "iopub.status.idle": "2025-07-28T11:03:32.357836Z",
     "shell.execute_reply": "2025-07-28T11:03:32.356780Z"
    },
    "papermill": {
     "duration": 0.035034,
     "end_time": "2025-07-28T11:03:32.359660",
     "exception": false,
     "start_time": "2025-07-28T11:03:32.324626",
     "status": "completed"
    },
    "tags": []
   },
   "outputs": [],
   "source": [
    "n_drop = (~keep_mask).sum() # Calculates how many rows are set to be dropped\n",
    "if n_drop > 0:\n",
    "    pct = n_drop / len(keep_mask) * 100\n",
    "    print(f\"Dropping {n_drop} rows ({pct:.2f}%) where mode='{mode}'\")"
   ]
  },
  {
   "cell_type": "code",
   "execution_count": 32,
   "id": "5fb8eee5",
   "metadata": {
    "execution": {
     "iopub.execute_input": "2025-07-28T11:03:32.409379Z",
     "iopub.status.busy": "2025-07-28T11:03:32.408480Z",
     "iopub.status.idle": "2025-07-28T11:03:32.471528Z",
     "shell.execute_reply": "2025-07-28T11:03:32.470472Z"
    },
    "papermill": {
     "duration": 0.090652,
     "end_time": "2025-07-28T11:03:32.473899",
     "exception": false,
     "start_time": "2025-07-28T11:03:32.383247",
     "status": "completed"
    },
    "tags": []
   },
   "outputs": [],
   "source": [
    "X_train = X_train[keep_mask]"
   ]
  },
  {
   "cell_type": "code",
   "execution_count": 33,
   "id": "b202bb3a",
   "metadata": {
    "execution": {
     "iopub.execute_input": "2025-07-28T11:03:32.522263Z",
     "iopub.status.busy": "2025-07-28T11:03:32.521303Z",
     "iopub.status.idle": "2025-07-28T11:03:32.529423Z",
     "shell.execute_reply": "2025-07-28T11:03:32.528390Z"
    },
    "papermill": {
     "duration": 0.034031,
     "end_time": "2025-07-28T11:03:32.531419",
     "exception": false,
     "start_time": "2025-07-28T11:03:32.497388",
     "status": "completed"
    },
    "tags": []
   },
   "outputs": [],
   "source": [
    "y_train = y_train[keep_mask]"
   ]
  },
  {
   "cell_type": "markdown",
   "id": "493e2ac3",
   "metadata": {
    "papermill": {
     "duration": 0.023048,
     "end_time": "2025-07-28T11:03:32.578170",
     "exception": false,
     "start_time": "2025-07-28T11:03:32.555122",
     "status": "completed"
    },
    "tags": []
   },
   "source": [
    "# Model Training"
   ]
  },
  {
   "cell_type": "code",
   "execution_count": 34,
   "id": "679e1268",
   "metadata": {
    "execution": {
     "iopub.execute_input": "2025-07-28T11:03:32.626363Z",
     "iopub.status.busy": "2025-07-28T11:03:32.625727Z",
     "iopub.status.idle": "2025-07-28T11:03:32.746385Z",
     "shell.execute_reply": "2025-07-28T11:03:32.744970Z"
    },
    "papermill": {
     "duration": 0.147823,
     "end_time": "2025-07-28T11:03:32.748380",
     "exception": false,
     "start_time": "2025-07-28T11:03:32.600557",
     "status": "completed"
    },
    "tags": []
   },
   "outputs": [],
   "source": [
    "from sklearn.linear_model import LogisticRegression\n",
    "from sklearn.ensemble import GradientBoostingClassifier, RandomForestClassifier\n",
    "\n",
    "if (universe[\"model\"] == \"logreg\"):\n",
    "    model = LogisticRegression() #penalty=\"none\") #, solver=\"newton-cg\", max_iter=1) # include random_state=19 ?\n",
    "elif (universe[\"model\"] == \"penalized_logreg\"):\n",
    "    model = LogisticRegression(penalty=\"l2\", C=1.0) #, solver=\"newton-cg\", max_iter=1)\n",
    "elif (universe[\"model\"] == \"rf\"):\n",
    "    model = RandomForestClassifier(n_estimators=100, n_jobs=-1)\n",
    "elif (universe[\"model\"] == \"gbm\"):\n",
    "    model = GradientBoostingClassifier()\n",
    "elif (universe[\"model\"] == \"elasticnet\"):\n",
    "    model = LogisticRegression(penalty = 'elasticnet', solver = 'saga', l1_ratio = 0.5, max_iter=5000) # which solver to use?\n",
    "else:\n",
    "    raise \"Unsupported universe.model\""
   ]
  },
  {
   "cell_type": "code",
   "execution_count": 35,
   "id": "0cc8f744",
   "metadata": {
    "execution": {
     "iopub.execute_input": "2025-07-28T11:03:32.797924Z",
     "iopub.status.busy": "2025-07-28T11:03:32.797284Z",
     "iopub.status.idle": "2025-07-28T11:03:32.804508Z",
     "shell.execute_reply": "2025-07-28T11:03:32.803485Z"
    },
    "papermill": {
     "duration": 0.033924,
     "end_time": "2025-07-28T11:03:32.806128",
     "exception": false,
     "start_time": "2025-07-28T11:03:32.772204",
     "status": "completed"
    },
    "tags": []
   },
   "outputs": [],
   "source": [
    "import numpy as np\n",
    "from sklearn.pipeline import Pipeline\n",
    "from sklearn.preprocessing import StandardScaler\n",
    "\n",
    "model = Pipeline([\n",
    "    #(\"continuous_processor\", continuous_processor),\n",
    "    #(\"categorical_preprocessor\", categorical_preprocessor),\n",
    "    (\"scale\", StandardScaler() if universe[\"scale\"] == \"scale\" else None), \n",
    "    (\"model\", model),\n",
    "])"
   ]
  },
  {
   "cell_type": "code",
   "execution_count": 36,
   "id": "9442c04d",
   "metadata": {
    "execution": {
     "iopub.execute_input": "2025-07-28T11:03:32.855693Z",
     "iopub.status.busy": "2025-07-28T11:03:32.855031Z",
     "iopub.status.idle": "2025-07-28T11:03:36.761751Z",
     "shell.execute_reply": "2025-07-28T11:03:36.761022Z"
    },
    "papermill": {
     "duration": 3.933796,
     "end_time": "2025-07-28T11:03:36.763341",
     "exception": false,
     "start_time": "2025-07-28T11:03:32.829545",
     "status": "completed"
    },
    "tags": []
   },
   "outputs": [
    {
     "name": "stderr",
     "output_type": "stream",
     "text": [
      "/dss/dsshome1/0C/ra93lal2/.local/share/virtualenvs/CMA_Fairness_v2-3j10GkSs/lib/python3.10/site-packages/sklearn/linear_model/_logistic.py:444: ConvergenceWarning: lbfgs failed to converge (status=1):\n",
      "STOP: TOTAL NO. of ITERATIONS REACHED LIMIT.\n",
      "\n",
      "Increase the number of iterations (max_iter) or scale the data as shown in:\n",
      "    https://scikit-learn.org/stable/modules/preprocessing.html\n",
      "Please also refer to the documentation for alternative solver options:\n",
      "    https://scikit-learn.org/stable/modules/linear_model.html#logistic-regression\n",
      "  n_iter_i = _check_optimize_result(\n"
     ]
    },
    {
     "data": {
      "text/html": [
       "<style>#sk-container-id-1 {color: black;background-color: white;}#sk-container-id-1 pre{padding: 0;}#sk-container-id-1 div.sk-toggleable {background-color: white;}#sk-container-id-1 label.sk-toggleable__label {cursor: pointer;display: block;width: 100%;margin-bottom: 0;padding: 0.3em;box-sizing: border-box;text-align: center;}#sk-container-id-1 label.sk-toggleable__label-arrow:before {content: \"▸\";float: left;margin-right: 0.25em;color: #696969;}#sk-container-id-1 label.sk-toggleable__label-arrow:hover:before {color: black;}#sk-container-id-1 div.sk-estimator:hover label.sk-toggleable__label-arrow:before {color: black;}#sk-container-id-1 div.sk-toggleable__content {max-height: 0;max-width: 0;overflow: hidden;text-align: left;background-color: #f0f8ff;}#sk-container-id-1 div.sk-toggleable__content pre {margin: 0.2em;color: black;border-radius: 0.25em;background-color: #f0f8ff;}#sk-container-id-1 input.sk-toggleable__control:checked~div.sk-toggleable__content {max-height: 200px;max-width: 100%;overflow: auto;}#sk-container-id-1 input.sk-toggleable__control:checked~label.sk-toggleable__label-arrow:before {content: \"▾\";}#sk-container-id-1 div.sk-estimator input.sk-toggleable__control:checked~label.sk-toggleable__label {background-color: #d4ebff;}#sk-container-id-1 div.sk-label input.sk-toggleable__control:checked~label.sk-toggleable__label {background-color: #d4ebff;}#sk-container-id-1 input.sk-hidden--visually {border: 0;clip: rect(1px 1px 1px 1px);clip: rect(1px, 1px, 1px, 1px);height: 1px;margin: -1px;overflow: hidden;padding: 0;position: absolute;width: 1px;}#sk-container-id-1 div.sk-estimator {font-family: monospace;background-color: #f0f8ff;border: 1px dotted black;border-radius: 0.25em;box-sizing: border-box;margin-bottom: 0.5em;}#sk-container-id-1 div.sk-estimator:hover {background-color: #d4ebff;}#sk-container-id-1 div.sk-parallel-item::after {content: \"\";width: 100%;border-bottom: 1px solid gray;flex-grow: 1;}#sk-container-id-1 div.sk-label:hover label.sk-toggleable__label {background-color: #d4ebff;}#sk-container-id-1 div.sk-serial::before {content: \"\";position: absolute;border-left: 1px solid gray;box-sizing: border-box;top: 0;bottom: 0;left: 50%;z-index: 0;}#sk-container-id-1 div.sk-serial {display: flex;flex-direction: column;align-items: center;background-color: white;padding-right: 0.2em;padding-left: 0.2em;position: relative;}#sk-container-id-1 div.sk-item {position: relative;z-index: 1;}#sk-container-id-1 div.sk-parallel {display: flex;align-items: stretch;justify-content: center;background-color: white;position: relative;}#sk-container-id-1 div.sk-item::before, #sk-container-id-1 div.sk-parallel-item::before {content: \"\";position: absolute;border-left: 1px solid gray;box-sizing: border-box;top: 0;bottom: 0;left: 50%;z-index: -1;}#sk-container-id-1 div.sk-parallel-item {display: flex;flex-direction: column;z-index: 1;position: relative;background-color: white;}#sk-container-id-1 div.sk-parallel-item:first-child::after {align-self: flex-end;width: 50%;}#sk-container-id-1 div.sk-parallel-item:last-child::after {align-self: flex-start;width: 50%;}#sk-container-id-1 div.sk-parallel-item:only-child::after {width: 0;}#sk-container-id-1 div.sk-dashed-wrapped {border: 1px dashed gray;margin: 0 0.4em 0.5em 0.4em;box-sizing: border-box;padding-bottom: 0.4em;background-color: white;}#sk-container-id-1 div.sk-label label {font-family: monospace;font-weight: bold;display: inline-block;line-height: 1.2em;}#sk-container-id-1 div.sk-label-container {text-align: center;}#sk-container-id-1 div.sk-container {/* jupyter's `normalize.less` sets `[hidden] { display: none; }` but bootstrap.min.css set `[hidden] { display: none !important; }` so we also need the `!important` here to be able to override the default hidden behavior on the sphinx rendered scikit-learn.org. See: https://github.com/scikit-learn/scikit-learn/issues/21755 */display: inline-block !important;position: relative;}#sk-container-id-1 div.sk-text-repr-fallback {display: none;}</style><div id=\"sk-container-id-1\" class=\"sk-top-container\"><div class=\"sk-text-repr-fallback\"><pre>Pipeline(steps=[(&#x27;scale&#x27;, None), (&#x27;model&#x27;, LogisticRegression())])</pre><b>In a Jupyter environment, please rerun this cell to show the HTML representation or trust the notebook. <br />On GitHub, the HTML representation is unable to render, please try loading this page with nbviewer.org.</b></div><div class=\"sk-container\" hidden><div class=\"sk-item sk-dashed-wrapped\"><div class=\"sk-label-container\"><div class=\"sk-label sk-toggleable\"><input class=\"sk-toggleable__control sk-hidden--visually\" id=\"sk-estimator-id-1\" type=\"checkbox\" ><label for=\"sk-estimator-id-1\" class=\"sk-toggleable__label sk-toggleable__label-arrow\">Pipeline</label><div class=\"sk-toggleable__content\"><pre>Pipeline(steps=[(&#x27;scale&#x27;, None), (&#x27;model&#x27;, LogisticRegression())])</pre></div></div></div><div class=\"sk-serial\"><div class=\"sk-item\"><div class=\"sk-estimator sk-toggleable\"><input class=\"sk-toggleable__control sk-hidden--visually\" id=\"sk-estimator-id-2\" type=\"checkbox\" ><label for=\"sk-estimator-id-2\" class=\"sk-toggleable__label sk-toggleable__label-arrow\">None</label><div class=\"sk-toggleable__content\"><pre>None</pre></div></div></div><div class=\"sk-item\"><div class=\"sk-estimator sk-toggleable\"><input class=\"sk-toggleable__control sk-hidden--visually\" id=\"sk-estimator-id-3\" type=\"checkbox\" ><label for=\"sk-estimator-id-3\" class=\"sk-toggleable__label sk-toggleable__label-arrow\">LogisticRegression</label><div class=\"sk-toggleable__content\"><pre>LogisticRegression()</pre></div></div></div></div></div></div></div>"
      ],
      "text/plain": [
       "Pipeline(steps=[('scale', None), ('model', LogisticRegression())])"
      ]
     },
     "execution_count": 36,
     "metadata": {},
     "output_type": "execute_result"
    }
   ],
   "source": [
    "model.fit(X_train, y_train.values.ravel())"
   ]
  },
  {
   "cell_type": "code",
   "execution_count": 37,
   "id": "af59f8c0",
   "metadata": {
    "execution": {
     "iopub.execute_input": "2025-07-28T11:03:36.790818Z",
     "iopub.status.busy": "2025-07-28T11:03:36.790475Z",
     "iopub.status.idle": "2025-07-28T11:03:36.795084Z",
     "shell.execute_reply": "2025-07-28T11:03:36.794218Z"
    },
    "papermill": {
     "duration": 0.018753,
     "end_time": "2025-07-28T11:03:36.796515",
     "exception": false,
     "start_time": "2025-07-28T11:03:36.777762",
     "status": "completed"
    },
    "tags": []
   },
   "outputs": [],
   "source": [
    "from fairness_multiverse.universe import predict_w_threshold"
   ]
  },
  {
   "cell_type": "code",
   "execution_count": 38,
   "id": "a7cf2e16",
   "metadata": {
    "execution": {
     "iopub.execute_input": "2025-07-28T11:03:36.826010Z",
     "iopub.status.busy": "2025-07-28T11:03:36.825356Z",
     "iopub.status.idle": "2025-07-28T11:03:36.923768Z",
     "shell.execute_reply": "2025-07-28T11:03:36.922800Z"
    },
    "papermill": {
     "duration": 0.11307,
     "end_time": "2025-07-28T11:03:36.925664",
     "exception": false,
     "start_time": "2025-07-28T11:03:36.812594",
     "status": "completed"
    },
    "tags": []
   },
   "outputs": [
    {
     "data": {
      "text/plain": [
       "0.863983948277784"
      ]
     },
     "execution_count": 38,
     "metadata": {},
     "output_type": "execute_result"
    }
   ],
   "source": [
    "probs_test = model.predict_proba(X_test)\n",
    "\n",
    "'''\n",
    "Below code returns a boolean array (or binary 0/1 array depending on how it’s used) where each element \n",
    "is True if the probability of class 1 is greater than or equal to the threshold, and False otherwise.\n",
    "'''\n",
    "y_pred_default = predict_w_threshold(probs_test, 0.5)\n",
    "\n",
    "from sklearn.metrics import accuracy_score\n",
    "\n",
    "# Naive prediction\n",
    "accuracy_score(y_true = y_true, y_pred = y_pred_default)"
   ]
  },
  {
   "cell_type": "code",
   "execution_count": 39,
   "id": "081964c3",
   "metadata": {
    "execution": {
     "iopub.execute_input": "2025-07-28T11:03:36.976942Z",
     "iopub.status.busy": "2025-07-28T11:03:36.976274Z",
     "iopub.status.idle": "2025-07-28T11:03:37.070838Z",
     "shell.execute_reply": "2025-07-28T11:03:37.069876Z"
    },
    "papermill": {
     "duration": 0.12096,
     "end_time": "2025-07-28T11:03:37.072679",
     "exception": false,
     "start_time": "2025-07-28T11:03:36.951719",
     "status": "completed"
    },
    "tags": []
   },
   "outputs": [
    {
     "data": {
      "text/plain": [
       "array([0, 0, 0, ..., 0, 0, 0])"
      ]
     },
     "execution_count": 39,
     "metadata": {},
     "output_type": "execute_result"
    }
   ],
   "source": [
    "model.predict(X_test)"
   ]
  },
  {
   "cell_type": "markdown",
   "id": "56c9705b",
   "metadata": {
    "papermill": {
     "duration": 0.026731,
     "end_time": "2025-07-28T11:03:37.123237",
     "exception": false,
     "start_time": "2025-07-28T11:03:37.096506",
     "status": "completed"
    },
    "tags": []
   },
   "source": [
    "# Conformal Prediction"
   ]
  },
  {
   "cell_type": "code",
   "execution_count": 40,
   "id": "160ec6ff",
   "metadata": {
    "execution": {
     "iopub.execute_input": "2025-07-28T11:03:37.161589Z",
     "iopub.status.busy": "2025-07-28T11:03:37.161204Z",
     "iopub.status.idle": "2025-07-28T11:03:37.166693Z",
     "shell.execute_reply": "2025-07-28T11:03:37.165618Z"
    },
    "papermill": {
     "duration": 0.021769,
     "end_time": "2025-07-28T11:03:37.168397",
     "exception": false,
     "start_time": "2025-07-28T11:03:37.146628",
     "status": "completed"
    },
    "tags": []
   },
   "outputs": [],
   "source": [
    "# Miscoverage level for conformal prediction (10% allowed error rate => 90% target coverage)\n",
    "alpha = 0.1"
   ]
  },
  {
   "cell_type": "code",
   "execution_count": 41,
   "id": "eadf4555-3dd3-440e-8e35-f82a4ad9f855",
   "metadata": {
    "execution": {
     "iopub.execute_input": "2025-07-28T11:03:37.221511Z",
     "iopub.status.busy": "2025-07-28T11:03:37.220284Z",
     "iopub.status.idle": "2025-07-28T11:03:37.308195Z",
     "shell.execute_reply": "2025-07-28T11:03:37.307070Z"
    },
    "papermill": {
     "duration": 0.117751,
     "end_time": "2025-07-28T11:03:37.310324",
     "exception": false,
     "start_time": "2025-07-28T11:03:37.192573",
     "status": "completed"
    },
    "tags": []
   },
   "outputs": [],
   "source": [
    "probs_calib = model.predict_proba(X_calib)"
   ]
  },
  {
   "cell_type": "code",
   "execution_count": 42,
   "id": "2ed93547-6d5d-4983-9b36-1ecb300da49a",
   "metadata": {
    "execution": {
     "iopub.execute_input": "2025-07-28T11:03:37.360875Z",
     "iopub.status.busy": "2025-07-28T11:03:37.360107Z",
     "iopub.status.idle": "2025-07-28T11:03:37.366594Z",
     "shell.execute_reply": "2025-07-28T11:03:37.365620Z"
    },
    "papermill": {
     "duration": 0.033382,
     "end_time": "2025-07-28T11:03:37.368380",
     "exception": false,
     "start_time": "2025-07-28T11:03:37.334998",
     "status": "completed"
    },
    "tags": []
   },
   "outputs": [],
   "source": [
    "y_calib = y_calib.values.ravel().astype(int)"
   ]
  },
  {
   "cell_type": "code",
   "execution_count": 43,
   "id": "65d1320d-f588-4b38-9072-62af1ae97f7d",
   "metadata": {
    "execution": {
     "iopub.execute_input": "2025-07-28T11:03:37.419063Z",
     "iopub.status.busy": "2025-07-28T11:03:37.418336Z",
     "iopub.status.idle": "2025-07-28T11:03:37.426661Z",
     "shell.execute_reply": "2025-07-28T11:03:37.425698Z"
    },
    "papermill": {
     "duration": 0.035222,
     "end_time": "2025-07-28T11:03:37.428702",
     "exception": false,
     "start_time": "2025-07-28T11:03:37.393480",
     "status": "completed"
    },
    "tags": []
   },
   "outputs": [],
   "source": [
    "from fairness_multiverse.conformal import compute_nc_scores\n",
    "\n",
    "# Compute nonconformity scores on calibration set (1 - probability of true class)\n",
    "nc_scores = compute_nc_scores(probs_calib, y_calib)"
   ]
  },
  {
   "cell_type": "code",
   "execution_count": 44,
   "id": "df3b8ca3-53b7-43d5-9667-7c85da7aeda2",
   "metadata": {
    "execution": {
     "iopub.execute_input": "2025-07-28T11:03:37.480260Z",
     "iopub.status.busy": "2025-07-28T11:03:37.479678Z",
     "iopub.status.idle": "2025-07-28T11:03:37.486647Z",
     "shell.execute_reply": "2025-07-28T11:03:37.485570Z"
    },
    "papermill": {
     "duration": 0.034419,
     "end_time": "2025-07-28T11:03:37.488366",
     "exception": false,
     "start_time": "2025-07-28T11:03:37.453947",
     "status": "completed"
    },
    "tags": []
   },
   "outputs": [],
   "source": [
    "from fairness_multiverse.conformal import find_threshold\n",
    "\n",
    "# Find conformal threshold q_hat for the given alpha (split conformal method)\n",
    "q_hat = find_threshold(nc_scores, alpha)"
   ]
  },
  {
   "cell_type": "code",
   "execution_count": 45,
   "id": "4d29e6c1-0ef6-4aa4-b8fe-4fe79b0d033a",
   "metadata": {
    "execution": {
     "iopub.execute_input": "2025-07-28T11:03:37.539157Z",
     "iopub.status.busy": "2025-07-28T11:03:37.538260Z",
     "iopub.status.idle": "2025-07-28T11:03:37.546089Z",
     "shell.execute_reply": "2025-07-28T11:03:37.545040Z"
    },
    "papermill": {
     "duration": 0.034904,
     "end_time": "2025-07-28T11:03:37.547759",
     "exception": false,
     "start_time": "2025-07-28T11:03:37.512855",
     "status": "completed"
    },
    "tags": []
   },
   "outputs": [
    {
     "data": {
      "text/plain": [
       "0.6701256455521873"
      ]
     },
     "execution_count": 45,
     "metadata": {},
     "output_type": "execute_result"
    }
   ],
   "source": [
    "q_hat"
   ]
  },
  {
   "cell_type": "code",
   "execution_count": 46,
   "id": "92460794-cdac-4be2-ba28-f28c0515a6fb",
   "metadata": {
    "execution": {
     "iopub.execute_input": "2025-07-28T11:03:37.599356Z",
     "iopub.status.busy": "2025-07-28T11:03:37.598817Z",
     "iopub.status.idle": "2025-07-28T11:03:38.578903Z",
     "shell.execute_reply": "2025-07-28T11:03:38.577871Z"
    },
    "papermill": {
     "duration": 1.009181,
     "end_time": "2025-07-28T11:03:38.580966",
     "exception": false,
     "start_time": "2025-07-28T11:03:37.571785",
     "status": "completed"
    },
    "tags": []
   },
   "outputs": [],
   "source": [
    "from fairness_multiverse.conformal import predict_conformal_sets\n",
    "\n",
    "# Generate prediction sets for each test example\n",
    "pred_sets = predict_conformal_sets(model, X_test, q_hat)"
   ]
  },
  {
   "cell_type": "code",
   "execution_count": 47,
   "id": "d90c9a65-e6db-4f5d-80cd-e68fb7e46829",
   "metadata": {
    "execution": {
     "iopub.execute_input": "2025-07-28T11:03:38.633270Z",
     "iopub.status.busy": "2025-07-28T11:03:38.632384Z",
     "iopub.status.idle": "2025-07-28T11:03:38.638533Z",
     "shell.execute_reply": "2025-07-28T11:03:38.637628Z"
    },
    "papermill": {
     "duration": 0.043561,
     "end_time": "2025-07-28T11:03:38.650095",
     "exception": false,
     "start_time": "2025-07-28T11:03:38.606534",
     "status": "completed"
    },
    "tags": []
   },
   "outputs": [],
   "source": [
    "y_true = y_true.squeeze()"
   ]
  },
  {
   "cell_type": "code",
   "execution_count": 48,
   "id": "3a58a54a-1e68-46b9-927a-df01f18aebc8",
   "metadata": {
    "execution": {
     "iopub.execute_input": "2025-07-28T11:03:38.717086Z",
     "iopub.status.busy": "2025-07-28T11:03:38.716336Z",
     "iopub.status.idle": "2025-07-28T11:03:39.667626Z",
     "shell.execute_reply": "2025-07-28T11:03:39.666627Z"
    },
    "papermill": {
     "duration": 0.978483,
     "end_time": "2025-07-28T11:03:39.669471",
     "exception": false,
     "start_time": "2025-07-28T11:03:38.690988",
     "status": "completed"
    },
    "tags": []
   },
   "outputs": [],
   "source": [
    "from fairness_multiverse.conformal import evaluate_sets\n",
    "\n",
    "# Evaluate coverage and average set size on test data\n",
    "metrics = evaluate_sets(pred_sets, y_true)"
   ]
  },
  {
   "cell_type": "markdown",
   "id": "2b569c12-9aaa-4c88-98c9-bbcd0cf3ebb8",
   "metadata": {
    "papermill": {
     "duration": 0.024684,
     "end_time": "2025-07-28T11:03:39.717556",
     "exception": false,
     "start_time": "2025-07-28T11:03:39.692872",
     "status": "completed"
    },
    "tags": []
   },
   "source": [
    "# CP Metrics"
   ]
  },
  {
   "cell_type": "code",
   "execution_count": 49,
   "id": "5ce0a5cb-201f-45a0-ade5-94c7f0bd6095",
   "metadata": {
    "execution": {
     "iopub.execute_input": "2025-07-28T11:03:39.764133Z",
     "iopub.status.busy": "2025-07-28T11:03:39.763583Z",
     "iopub.status.idle": "2025-07-28T11:03:39.771195Z",
     "shell.execute_reply": "2025-07-28T11:03:39.770270Z"
    },
    "papermill": {
     "duration": 0.032627,
     "end_time": "2025-07-28T11:03:39.772826",
     "exception": false,
     "start_time": "2025-07-28T11:03:39.740199",
     "status": "completed"
    },
    "tags": []
   },
   "outputs": [
    {
     "data": {
      "text/plain": [
       "{'coverage': 0.9121614089845056, 'avg_size': 1.201426819752536}"
      ]
     },
     "execution_count": 49,
     "metadata": {},
     "output_type": "execute_result"
    }
   ],
   "source": [
    "metrics"
   ]
  },
  {
   "cell_type": "code",
   "execution_count": 50,
   "id": "9b9a838d-31c9-430b-ae14-12baee460d17",
   "metadata": {
    "execution": {
     "iopub.execute_input": "2025-07-28T11:03:39.824764Z",
     "iopub.status.busy": "2025-07-28T11:03:39.823971Z",
     "iopub.status.idle": "2025-07-28T11:03:39.830886Z",
     "shell.execute_reply": "2025-07-28T11:03:39.830051Z"
    },
    "papermill": {
     "duration": 0.03417,
     "end_time": "2025-07-28T11:03:39.832300",
     "exception": false,
     "start_time": "2025-07-28T11:03:39.798130",
     "status": "completed"
    },
    "tags": []
   },
   "outputs": [],
   "source": [
    "example_universe = universe.copy()\n",
    "universe_training_size = example_universe.get(\"training_size\")\n",
    "universe_scale = example_universe.get(\"scale\")\n",
    "universe_model = example_universe.get(\"model\")\n",
    "universe_exclude_features = example_universe.get(\"exclude_features\")\n",
    "universe_exclude_subgroups = example_universe.get(\"exclude_subgroups\")"
   ]
  },
  {
   "cell_type": "code",
   "execution_count": 51,
   "id": "f4b6a8ac-9dc0-4245-8a91-5b3b5999c4f9",
   "metadata": {
    "execution": {
     "iopub.execute_input": "2025-07-28T11:03:39.859965Z",
     "iopub.status.busy": "2025-07-28T11:03:39.859590Z",
     "iopub.status.idle": "2025-07-28T11:03:39.865093Z",
     "shell.execute_reply": "2025-07-28T11:03:39.864286Z"
    },
    "papermill": {
     "duration": 0.021119,
     "end_time": "2025-07-28T11:03:39.866316",
     "exception": false,
     "start_time": "2025-07-28T11:03:39.845197",
     "status": "completed"
    },
    "tags": []
   },
   "outputs": [],
   "source": [
    "cp_metrics_dict = {\n",
    "    \"universe_id\": [universe_id],\n",
    "    \"universe_training_size\": [universe_training_size],\n",
    "    \"universe_scale\": [universe_scale],\n",
    "    \"universe_model\": [universe_model],\n",
    "    \"universe_exclude_features\": [universe_exclude_features],\n",
    "    \"universe_exclude_subgroups\": [universe_exclude_subgroups],\n",
    "    \"q_hat\": [q_hat],\n",
    "    \"coverage\": [metrics[\"coverage\"]],\n",
    "    \"avg_size\": [metrics[\"avg_size\"]],\n",
    "}"
   ]
  },
  {
   "cell_type": "code",
   "execution_count": 52,
   "id": "908acbb1-0371-4915-85ca-3fa520d2efe2",
   "metadata": {
    "execution": {
     "iopub.execute_input": "2025-07-28T11:03:39.894539Z",
     "iopub.status.busy": "2025-07-28T11:03:39.894097Z",
     "iopub.status.idle": "2025-07-28T11:03:39.911797Z",
     "shell.execute_reply": "2025-07-28T11:03:39.910908Z"
    },
    "papermill": {
     "duration": 0.033713,
     "end_time": "2025-07-28T11:03:39.913264",
     "exception": false,
     "start_time": "2025-07-28T11:03:39.879551",
     "status": "completed"
    },
    "tags": []
   },
   "outputs": [
    {
     "data": {
      "text/plain": [
       "{'universe_id': ['6e5cc8c50f82951168e1e506e8750c35'],\n",
       " 'universe_training_size': ['2014'],\n",
       " 'universe_scale': ['do-not-scale'],\n",
       " 'universe_model': ['logreg'],\n",
       " 'universe_exclude_features': ['sex'],\n",
       " 'universe_exclude_subgroups': ['keep-all'],\n",
       " 'q_hat': [0.6701256455521873],\n",
       " 'coverage': [0.9121614089845056],\n",
       " 'avg_size': [1.201426819752536]}"
      ]
     },
     "execution_count": 52,
     "metadata": {},
     "output_type": "execute_result"
    }
   ],
   "source": [
    "cp_metrics_dict"
   ]
  },
  {
   "cell_type": "code",
   "execution_count": 53,
   "id": "33007efc-14e9-4ec6-97ac-56a455c82265",
   "metadata": {
    "execution": {
     "iopub.execute_input": "2025-07-28T11:03:39.964832Z",
     "iopub.status.busy": "2025-07-28T11:03:39.964382Z",
     "iopub.status.idle": "2025-07-28T11:03:39.971183Z",
     "shell.execute_reply": "2025-07-28T11:03:39.970197Z"
    },
    "papermill": {
     "duration": 0.033915,
     "end_time": "2025-07-28T11:03:39.972999",
     "exception": false,
     "start_time": "2025-07-28T11:03:39.939084",
     "status": "completed"
    },
    "tags": []
   },
   "outputs": [],
   "source": [
    "cp_metrics_df = pd.DataFrame(cp_metrics_dict)"
   ]
  },
  {
   "cell_type": "code",
   "execution_count": 54,
   "id": "db12611b-57b2-4910-b9d0-355adfd6e7bf",
   "metadata": {
    "execution": {
     "iopub.execute_input": "2025-07-28T11:03:40.023300Z",
     "iopub.status.busy": "2025-07-28T11:03:40.022304Z",
     "iopub.status.idle": "2025-07-28T11:03:40.041609Z",
     "shell.execute_reply": "2025-07-28T11:03:40.040561Z"
    },
    "papermill": {
     "duration": 0.046547,
     "end_time": "2025-07-28T11:03:40.044182",
     "exception": false,
     "start_time": "2025-07-28T11:03:39.997635",
     "status": "completed"
    },
    "tags": []
   },
   "outputs": [
    {
     "data": {
      "text/html": [
       "<div>\n",
       "<style scoped>\n",
       "    .dataframe tbody tr th:only-of-type {\n",
       "        vertical-align: middle;\n",
       "    }\n",
       "\n",
       "    .dataframe tbody tr th {\n",
       "        vertical-align: top;\n",
       "    }\n",
       "\n",
       "    .dataframe thead th {\n",
       "        text-align: right;\n",
       "    }\n",
       "</style>\n",
       "<table border=\"1\" class=\"dataframe\">\n",
       "  <thead>\n",
       "    <tr style=\"text-align: right;\">\n",
       "      <th></th>\n",
       "      <th>universe_id</th>\n",
       "      <th>universe_training_size</th>\n",
       "      <th>universe_scale</th>\n",
       "      <th>universe_model</th>\n",
       "      <th>universe_exclude_features</th>\n",
       "      <th>universe_exclude_subgroups</th>\n",
       "      <th>q_hat</th>\n",
       "      <th>coverage</th>\n",
       "      <th>avg_size</th>\n",
       "    </tr>\n",
       "  </thead>\n",
       "  <tbody>\n",
       "    <tr>\n",
       "      <th>0</th>\n",
       "      <td>6e5cc8c50f82951168e1e506e8750c35</td>\n",
       "      <td>2014</td>\n",
       "      <td>do-not-scale</td>\n",
       "      <td>logreg</td>\n",
       "      <td>sex</td>\n",
       "      <td>keep-all</td>\n",
       "      <td>0.670126</td>\n",
       "      <td>0.912161</td>\n",
       "      <td>1.201427</td>\n",
       "    </tr>\n",
       "  </tbody>\n",
       "</table>\n",
       "</div>"
      ],
      "text/plain": [
       "                        universe_id universe_training_size universe_scale  \\\n",
       "0  6e5cc8c50f82951168e1e506e8750c35                   2014   do-not-scale   \n",
       "\n",
       "  universe_model universe_exclude_features universe_exclude_subgroups  \\\n",
       "0         logreg                       sex                   keep-all   \n",
       "\n",
       "      q_hat  coverage  avg_size  \n",
       "0  0.670126  0.912161  1.201427  "
      ]
     },
     "execution_count": 54,
     "metadata": {},
     "output_type": "execute_result"
    }
   ],
   "source": [
    "cp_metrics_df"
   ]
  },
  {
   "cell_type": "code",
   "execution_count": 55,
   "id": "b7fbde55-a0a1-47e4-9af6-fe4a17fa8c61",
   "metadata": {
    "execution": {
     "iopub.execute_input": "2025-07-28T11:03:40.109888Z",
     "iopub.status.busy": "2025-07-28T11:03:40.109365Z",
     "iopub.status.idle": "2025-07-28T11:03:40.115326Z",
     "shell.execute_reply": "2025-07-28T11:03:40.114251Z"
    },
    "papermill": {
     "duration": 0.041024,
     "end_time": "2025-07-28T11:03:40.117359",
     "exception": false,
     "start_time": "2025-07-28T11:03:40.076335",
     "status": "completed"
    },
    "tags": []
   },
   "outputs": [],
   "source": [
    "# Conditional Coverage & looking at subgroups"
   ]
  },
  {
   "cell_type": "code",
   "execution_count": 56,
   "id": "027ae886-68dd-4141-96c7-805a5450e1ef",
   "metadata": {
    "execution": {
     "iopub.execute_input": "2025-07-28T11:03:40.184204Z",
     "iopub.status.busy": "2025-07-28T11:03:40.183625Z",
     "iopub.status.idle": "2025-07-28T11:03:40.469184Z",
     "shell.execute_reply": "2025-07-28T11:03:40.468133Z"
    },
    "papermill": {
     "duration": 0.321872,
     "end_time": "2025-07-28T11:03:40.471700",
     "exception": false,
     "start_time": "2025-07-28T11:03:40.149828",
     "status": "completed"
    },
    "tags": []
   },
   "outputs": [],
   "source": [
    "from fairness_multiverse.conformal import build_cp_groups\n",
    "\n",
    "cp_groups_df = build_cp_groups(pred_sets, y_true, X_test.index, org_test)\n",
    "#needs universe_id and setting"
   ]
  },
  {
   "cell_type": "code",
   "execution_count": 57,
   "id": "01d5802c-663a-4d1f-9d69-e036faaffbf7",
   "metadata": {
    "execution": {
     "iopub.execute_input": "2025-07-28T11:03:40.538389Z",
     "iopub.status.busy": "2025-07-28T11:03:40.537304Z",
     "iopub.status.idle": "2025-07-28T11:03:40.543481Z",
     "shell.execute_reply": "2025-07-28T11:03:40.542346Z"
    },
    "papermill": {
     "duration": 0.041815,
     "end_time": "2025-07-28T11:03:40.545464",
     "exception": false,
     "start_time": "2025-07-28T11:03:40.503649",
     "status": "completed"
    },
    "tags": []
   },
   "outputs": [],
   "source": [
    "#delete\n",
    "#cp_groups_df"
   ]
  },
  {
   "cell_type": "code",
   "execution_count": 58,
   "id": "fa424af1-d1eb-443d-b717-2d279ada8408",
   "metadata": {
    "execution": {
     "iopub.execute_input": "2025-07-28T11:03:40.598484Z",
     "iopub.status.busy": "2025-07-28T11:03:40.597473Z",
     "iopub.status.idle": "2025-07-28T11:03:40.603865Z",
     "shell.execute_reply": "2025-07-28T11:03:40.602656Z"
    },
    "papermill": {
     "duration": 0.034787,
     "end_time": "2025-07-28T11:03:40.605559",
     "exception": false,
     "start_time": "2025-07-28T11:03:40.570772",
     "status": "completed"
    },
    "tags": []
   },
   "outputs": [],
   "source": [
    "#delete\n",
    "#percentage = (cp_groups_df['nongerman_female'] == 1).mean() * 100\n",
    "#print(percentage)\n"
   ]
  },
  {
   "cell_type": "code",
   "execution_count": 59,
   "id": "6cbdab96-b2b2-45af-ad54-d0516db2e28d",
   "metadata": {
    "execution": {
     "iopub.execute_input": "2025-07-28T11:03:40.659195Z",
     "iopub.status.busy": "2025-07-28T11:03:40.658211Z",
     "iopub.status.idle": "2025-07-28T11:03:42.698782Z",
     "shell.execute_reply": "2025-07-28T11:03:42.697894Z"
    },
    "papermill": {
     "duration": 2.069327,
     "end_time": "2025-07-28T11:03:42.700688",
     "exception": false,
     "start_time": "2025-07-28T11:03:40.631361",
     "status": "completed"
    },
    "tags": []
   },
   "outputs": [],
   "source": [
    "# Define covered = 1 if true_label is in the predicted set\n",
    "cp_groups_df['covered'] = cp_groups_df.apply(\n",
    "    lambda r: int(r['true_label'] in r['pred_set']),\n",
    "    axis=1\n",
    ")"
   ]
  },
  {
   "cell_type": "code",
   "execution_count": 60,
   "id": "338ff529-1a6b-4b87-a931-8e4788d52aad",
   "metadata": {
    "execution": {
     "iopub.execute_input": "2025-07-28T11:03:42.755824Z",
     "iopub.status.busy": "2025-07-28T11:03:42.755094Z",
     "iopub.status.idle": "2025-07-28T11:03:42.761098Z",
     "shell.execute_reply": "2025-07-28T11:03:42.760122Z"
    },
    "papermill": {
     "duration": 0.033844,
     "end_time": "2025-07-28T11:03:42.762813",
     "exception": false,
     "start_time": "2025-07-28T11:03:42.728969",
     "status": "completed"
    },
    "tags": []
   },
   "outputs": [],
   "source": [
    "#cp_groups_df"
   ]
  },
  {
   "cell_type": "code",
   "execution_count": 61,
   "id": "90032e27-66df-4540-9169-4e89cfbaa758",
   "metadata": {
    "execution": {
     "iopub.execute_input": "2025-07-28T11:03:42.817547Z",
     "iopub.status.busy": "2025-07-28T11:03:42.816993Z",
     "iopub.status.idle": "2025-07-28T11:03:42.828387Z",
     "shell.execute_reply": "2025-07-28T11:03:42.827523Z"
    },
    "papermill": {
     "duration": 0.045486,
     "end_time": "2025-07-28T11:03:42.833222",
     "exception": false,
     "start_time": "2025-07-28T11:03:42.787736",
     "status": "completed"
    },
    "tags": []
   },
   "outputs": [],
   "source": [
    "subgroups = ['frau1','nongerman','nongerman_male','nongerman_female']\n",
    "\n",
    "# Conditional coverage for subgroup==1\n",
    "cond_coverage = {\n",
    "    g: cp_groups_df.loc[cp_groups_df[g]==1, 'covered'].mean()\n",
    "    for g in subgroups\n",
    "}"
   ]
  },
  {
   "cell_type": "code",
   "execution_count": 62,
   "id": "1e348fb1-b9c3-45bc-ba23-f016827a7e0d",
   "metadata": {
    "execution": {
     "iopub.execute_input": "2025-07-28T11:03:42.884494Z",
     "iopub.status.busy": "2025-07-28T11:03:42.884047Z",
     "iopub.status.idle": "2025-07-28T11:03:42.892784Z",
     "shell.execute_reply": "2025-07-28T11:03:42.891726Z"
    },
    "papermill": {
     "duration": 0.036344,
     "end_time": "2025-07-28T11:03:42.894465",
     "exception": false,
     "start_time": "2025-07-28T11:03:42.858121",
     "status": "completed"
    },
    "tags": []
   },
   "outputs": [
    {
     "data": {
      "text/plain": [
       "{'frau1': 0.9112279282922227,\n",
       " 'nongerman': 0.9296581148599338,\n",
       " 'nongerman_male': 0.9429883815185085,\n",
       " 'nongerman_female': 0.9076005961251863}"
      ]
     },
     "execution_count": 62,
     "metadata": {},
     "output_type": "execute_result"
    }
   ],
   "source": [
    "cond_coverage"
   ]
  },
  {
   "cell_type": "code",
   "execution_count": 63,
   "id": "f5093324-c3dd-4d63-bc4c-8d945e5c8bbb",
   "metadata": {
    "execution": {
     "iopub.execute_input": "2025-07-28T11:03:42.946304Z",
     "iopub.status.busy": "2025-07-28T11:03:42.945214Z",
     "iopub.status.idle": "2025-07-28T11:03:42.954107Z",
     "shell.execute_reply": "2025-07-28T11:03:42.952777Z"
    },
    "papermill": {
     "duration": 0.036859,
     "end_time": "2025-07-28T11:03:42.956389",
     "exception": false,
     "start_time": "2025-07-28T11:03:42.919530",
     "status": "completed"
    },
    "tags": []
   },
   "outputs": [],
   "source": [
    "for subgroup, cov in cond_coverage.items():\n",
    "    cp_metrics_df[f\"cov_{subgroup}\"] = cov"
   ]
  },
  {
   "cell_type": "code",
   "execution_count": 64,
   "id": "6e872e10-dbe5-49e8-b554-5030c98ff75d",
   "metadata": {
    "execution": {
     "iopub.execute_input": "2025-07-28T11:03:43.024067Z",
     "iopub.status.busy": "2025-07-28T11:03:43.023655Z",
     "iopub.status.idle": "2025-07-28T11:03:43.047986Z",
     "shell.execute_reply": "2025-07-28T11:03:43.046967Z"
    },
    "papermill": {
     "duration": 0.065056,
     "end_time": "2025-07-28T11:03:43.049653",
     "exception": false,
     "start_time": "2025-07-28T11:03:42.984597",
     "status": "completed"
    },
    "tags": []
   },
   "outputs": [
    {
     "data": {
      "text/html": [
       "<div>\n",
       "<style scoped>\n",
       "    .dataframe tbody tr th:only-of-type {\n",
       "        vertical-align: middle;\n",
       "    }\n",
       "\n",
       "    .dataframe tbody tr th {\n",
       "        vertical-align: top;\n",
       "    }\n",
       "\n",
       "    .dataframe thead th {\n",
       "        text-align: right;\n",
       "    }\n",
       "</style>\n",
       "<table border=\"1\" class=\"dataframe\">\n",
       "  <thead>\n",
       "    <tr style=\"text-align: right;\">\n",
       "      <th></th>\n",
       "      <th>universe_id</th>\n",
       "      <th>universe_training_size</th>\n",
       "      <th>universe_scale</th>\n",
       "      <th>universe_model</th>\n",
       "      <th>universe_exclude_features</th>\n",
       "      <th>universe_exclude_subgroups</th>\n",
       "      <th>q_hat</th>\n",
       "      <th>coverage</th>\n",
       "      <th>avg_size</th>\n",
       "      <th>cov_frau1</th>\n",
       "      <th>cov_nongerman</th>\n",
       "      <th>cov_nongerman_male</th>\n",
       "      <th>cov_nongerman_female</th>\n",
       "    </tr>\n",
       "  </thead>\n",
       "  <tbody>\n",
       "    <tr>\n",
       "      <th>0</th>\n",
       "      <td>6e5cc8c50f82951168e1e506e8750c35</td>\n",
       "      <td>2014</td>\n",
       "      <td>do-not-scale</td>\n",
       "      <td>logreg</td>\n",
       "      <td>sex</td>\n",
       "      <td>keep-all</td>\n",
       "      <td>0.670126</td>\n",
       "      <td>0.912161</td>\n",
       "      <td>1.201427</td>\n",
       "      <td>0.911228</td>\n",
       "      <td>0.929658</td>\n",
       "      <td>0.942988</td>\n",
       "      <td>0.907601</td>\n",
       "    </tr>\n",
       "  </tbody>\n",
       "</table>\n",
       "</div>"
      ],
      "text/plain": [
       "                        universe_id universe_training_size universe_scale  \\\n",
       "0  6e5cc8c50f82951168e1e506e8750c35                   2014   do-not-scale   \n",
       "\n",
       "  universe_model universe_exclude_features universe_exclude_subgroups  \\\n",
       "0         logreg                       sex                   keep-all   \n",
       "\n",
       "      q_hat  coverage  avg_size  cov_frau1  cov_nongerman  cov_nongerman_male  \\\n",
       "0  0.670126  0.912161  1.201427   0.911228       0.929658            0.942988   \n",
       "\n",
       "   cov_nongerman_female  \n",
       "0              0.907601  "
      ]
     },
     "execution_count": 64,
     "metadata": {},
     "output_type": "execute_result"
    }
   ],
   "source": [
    "cp_metrics_df"
   ]
  },
  {
   "cell_type": "markdown",
   "id": "33774451",
   "metadata": {
    "papermill": {
     "duration": 0.025093,
     "end_time": "2025-07-28T11:03:43.100741",
     "exception": false,
     "start_time": "2025-07-28T11:03:43.075648",
     "status": "completed"
    },
    "tags": []
   },
   "source": [
    "# (Fairness) Metrics"
   ]
  },
  {
   "cell_type": "code",
   "execution_count": 65,
   "id": "debc5d62",
   "metadata": {
    "execution": {
     "iopub.execute_input": "2025-07-28T11:03:43.154179Z",
     "iopub.status.busy": "2025-07-28T11:03:43.153160Z",
     "iopub.status.idle": "2025-07-28T11:03:43.177218Z",
     "shell.execute_reply": "2025-07-28T11:03:43.175715Z"
    },
    "papermill": {
     "duration": 0.052711,
     "end_time": "2025-07-28T11:03:43.179253",
     "exception": false,
     "start_time": "2025-07-28T11:03:43.126542",
     "status": "completed"
    },
    "tags": []
   },
   "outputs": [],
   "source": [
    "# do I need to include maxdeutsch1.missing?\n",
    "\n",
    "import numpy as np\n",
    "\n",
    "colname_to_bin = \"maxdeutsch1\"\n",
    "majority_value = org_train[colname_to_bin].mode()[0]\n",
    "\n",
    "org_test[\"majmin\"] = np.where(org_test[colname_to_bin] == majority_value, \"majority\", \"minority\")"
   ]
  },
  {
   "cell_type": "code",
   "execution_count": 66,
   "id": "06a50de5",
   "metadata": {
    "execution": {
     "iopub.execute_input": "2025-07-28T11:03:43.235621Z",
     "iopub.status.busy": "2025-07-28T11:03:43.234899Z",
     "iopub.status.idle": "2025-07-28T11:03:46.293335Z",
     "shell.execute_reply": "2025-07-28T11:03:46.292173Z"
    },
    "papermill": {
     "duration": 3.089149,
     "end_time": "2025-07-28T11:03:46.294961",
     "exception": false,
     "start_time": "2025-07-28T11:03:43.205812",
     "status": "completed"
    },
    "tags": []
   },
   "outputs": [],
   "source": [
    "example_universe = universe.copy()\n",
    "example_universe[\"cutoff\"] = example_universe[\"cutoff\"][0]\n",
    "example_universe[\"eval_fairness_grouping\"] = example_universe[\"eval_fairness_grouping\"][0]\n",
    "fairness_dict, metric_frame = universe_analysis.compute_metrics(\n",
    "    example_universe,\n",
    "    y_pred_prob=probs_test,\n",
    "    y_test=y_true,\n",
    "    org_test=org_test,\n",
    ")"
   ]
  },
  {
   "cell_type": "markdown",
   "id": "f95d4e02",
   "metadata": {
    "papermill": {
     "duration": 0.028103,
     "end_time": "2025-07-28T11:03:46.352907",
     "exception": false,
     "start_time": "2025-07-28T11:03:46.324804",
     "status": "completed"
    },
    "tags": []
   },
   "source": [
    "# Overall"
   ]
  },
  {
   "cell_type": "markdown",
   "id": "bdee4871",
   "metadata": {
    "papermill": {
     "duration": 0.029399,
     "end_time": "2025-07-28T11:03:46.411740",
     "exception": false,
     "start_time": "2025-07-28T11:03:46.382341",
     "status": "completed"
    },
    "tags": []
   },
   "source": [
    "Fairness\n",
    "Main fairness target: Equalized Odds. Seems to be a better fit than equal opportunity, since we're not only interested in Y = 1. Seems to be a better fit than demographic parity, since we also care about accuracy, not just equal distribution of preds.\n",
    "\n",
    "Pick column for computation of fairness metrics\n",
    "\n",
    "Performance\n",
    "Overall performance measures, most interesting in relation to the measures split by group below"
   ]
  },
  {
   "cell_type": "code",
   "execution_count": 67,
   "id": "c4e067c6",
   "metadata": {
    "execution": {
     "iopub.execute_input": "2025-07-28T11:03:46.468337Z",
     "iopub.status.busy": "2025-07-28T11:03:46.467800Z",
     "iopub.status.idle": "2025-07-28T11:03:46.478090Z",
     "shell.execute_reply": "2025-07-28T11:03:46.477002Z"
    },
    "papermill": {
     "duration": 0.042025,
     "end_time": "2025-07-28T11:03:46.479950",
     "exception": false,
     "start_time": "2025-07-28T11:03:46.437925",
     "status": "completed"
    },
    "tags": []
   },
   "outputs": [
    {
     "data": {
      "text/plain": [
       "accuracy                   0.218025\n",
       "balanced accuracy          0.534431\n",
       "f1                         0.239531\n",
       "precision                  0.136836\n",
       "false positive rate        0.891166\n",
       "false negative rate        0.039972\n",
       "selection rate             0.900000\n",
       "count                  89710.000000\n",
       "dtype: float64"
      ]
     },
     "execution_count": 67,
     "metadata": {},
     "output_type": "execute_result"
    }
   ],
   "source": [
    "metric_frame.overall"
   ]
  },
  {
   "cell_type": "markdown",
   "id": "e968fe9d",
   "metadata": {
    "papermill": {
     "duration": 0.026667,
     "end_time": "2025-07-28T11:03:46.535281",
     "exception": false,
     "start_time": "2025-07-28T11:03:46.508614",
     "status": "completed"
    },
    "tags": []
   },
   "source": [
    "By Group"
   ]
  },
  {
   "cell_type": "code",
   "execution_count": 68,
   "id": "ec325bce",
   "metadata": {
    "execution": {
     "iopub.execute_input": "2025-07-28T11:03:46.582378Z",
     "iopub.status.busy": "2025-07-28T11:03:46.581956Z",
     "iopub.status.idle": "2025-07-28T11:03:46.594959Z",
     "shell.execute_reply": "2025-07-28T11:03:46.594205Z"
    },
    "papermill": {
     "duration": 0.032746,
     "end_time": "2025-07-28T11:03:46.596394",
     "exception": false,
     "start_time": "2025-07-28T11:03:46.563648",
     "status": "completed"
    },
    "tags": []
   },
   "outputs": [
    {
     "data": {
      "text/html": [
       "<div>\n",
       "<style scoped>\n",
       "    .dataframe tbody tr th:only-of-type {\n",
       "        vertical-align: middle;\n",
       "    }\n",
       "\n",
       "    .dataframe tbody tr th {\n",
       "        vertical-align: top;\n",
       "    }\n",
       "\n",
       "    .dataframe thead th {\n",
       "        text-align: right;\n",
       "    }\n",
       "</style>\n",
       "<table border=\"1\" class=\"dataframe\">\n",
       "  <thead>\n",
       "    <tr style=\"text-align: right;\">\n",
       "      <th></th>\n",
       "      <th>accuracy</th>\n",
       "      <th>balanced accuracy</th>\n",
       "      <th>f1</th>\n",
       "      <th>precision</th>\n",
       "      <th>false positive rate</th>\n",
       "      <th>false negative rate</th>\n",
       "      <th>selection rate</th>\n",
       "      <th>count</th>\n",
       "    </tr>\n",
       "    <tr>\n",
       "      <th>majmin</th>\n",
       "      <th></th>\n",
       "      <th></th>\n",
       "      <th></th>\n",
       "      <th></th>\n",
       "      <th></th>\n",
       "      <th></th>\n",
       "      <th></th>\n",
       "      <th></th>\n",
       "    </tr>\n",
       "  </thead>\n",
       "  <tbody>\n",
       "    <tr>\n",
       "      <th>majority</th>\n",
       "      <td>0.240220</td>\n",
       "      <td>0.542096</td>\n",
       "      <td>0.248842</td>\n",
       "      <td>0.143118</td>\n",
       "      <td>0.868216</td>\n",
       "      <td>0.047593</td>\n",
       "      <td>0.879341</td>\n",
       "      <td>69170.0</td>\n",
       "    </tr>\n",
       "    <tr>\n",
       "      <th>minority</th>\n",
       "      <td>0.143281</td>\n",
       "      <td>0.511230</td>\n",
       "      <td>0.210295</td>\n",
       "      <td>0.117650</td>\n",
       "      <td>0.966982</td>\n",
       "      <td>0.010557</td>\n",
       "      <td>0.969572</td>\n",
       "      <td>20540.0</td>\n",
       "    </tr>\n",
       "  </tbody>\n",
       "</table>\n",
       "</div>"
      ],
      "text/plain": [
       "          accuracy  balanced accuracy        f1  precision  \\\n",
       "majmin                                                       \n",
       "majority  0.240220           0.542096  0.248842   0.143118   \n",
       "minority  0.143281           0.511230  0.210295   0.117650   \n",
       "\n",
       "          false positive rate  false negative rate  selection rate    count  \n",
       "majmin                                                                       \n",
       "majority             0.868216             0.047593        0.879341  69170.0  \n",
       "minority             0.966982             0.010557        0.969572  20540.0  "
      ]
     },
     "execution_count": 68,
     "metadata": {},
     "output_type": "execute_result"
    }
   ],
   "source": [
    "metric_frame.by_group"
   ]
  },
  {
   "cell_type": "code",
   "execution_count": 69,
   "id": "a9ddbe63",
   "metadata": {
    "execution": {
     "iopub.execute_input": "2025-07-28T11:03:46.637570Z",
     "iopub.status.busy": "2025-07-28T11:03:46.637075Z",
     "iopub.status.idle": "2025-07-28T11:03:49.334755Z",
     "shell.execute_reply": "2025-07-28T11:03:49.333711Z"
    },
    "papermill": {
     "duration": 2.724851,
     "end_time": "2025-07-28T11:03:49.336510",
     "exception": false,
     "start_time": "2025-07-28T11:03:46.611659",
     "status": "completed"
    },
    "tags": []
   },
   "outputs": [
    {
     "data": {
      "text/plain": [
       "array([[<Axes: title={'center': 'accuracy'}, xlabel='majmin'>,\n",
       "        <Axes: title={'center': 'balanced accuracy'}, xlabel='majmin'>,\n",
       "        <Axes: title={'center': 'f1'}, xlabel='majmin'>],\n",
       "       [<Axes: title={'center': 'precision'}, xlabel='majmin'>,\n",
       "        <Axes: title={'center': 'false positive rate'}, xlabel='majmin'>,\n",
       "        <Axes: title={'center': 'false negative rate'}, xlabel='majmin'>],\n",
       "       [<Axes: title={'center': 'selection rate'}, xlabel='majmin'>,\n",
       "        <Axes: title={'center': 'count'}, xlabel='majmin'>,\n",
       "        <Axes: xlabel='majmin'>]], dtype=object)"
      ]
     },
     "execution_count": 69,
     "metadata": {},
     "output_type": "execute_result"
    },
    {
     "data": {
      "image/png": "[encoded data removed]",
      "text/plain": [
       "<Figure size 1200x800 with 9 Axes>"
      ]
     },
     "metadata": {},
     "output_type": "display_data"
    }
   ],
   "source": [
    "# In a graphic\n",
    "metric_frame.by_group.plot.bar(\n",
    "    subplots=True,\n",
    "    layout=[3, 3],\n",
    "    legend=False,\n",
    "    figsize=[12, 8],\n",
    "    title=\"Show all metrics\",\n",
    ")"
   ]
  },
  {
   "cell_type": "markdown",
   "id": "f57a0bac",
   "metadata": {
    "papermill": {
     "duration": 0.031936,
     "end_time": "2025-07-28T11:03:49.399693",
     "exception": false,
     "start_time": "2025-07-28T11:03:49.367757",
     "status": "completed"
    },
    "tags": []
   },
   "source": [
    "# Final Output"
   ]
  },
  {
   "cell_type": "code",
   "execution_count": 70,
   "id": "96d280a3",
   "metadata": {
    "execution": {
     "iopub.execute_input": "2025-07-28T11:03:49.464715Z",
     "iopub.status.busy": "2025-07-28T11:03:49.463943Z",
     "iopub.status.idle": "2025-07-28T11:03:49.473001Z",
     "shell.execute_reply": "2025-07-28T11:03:49.471903Z"
    },
    "papermill": {
     "duration": 0.043692,
     "end_time": "2025-07-28T11:03:49.474893",
     "exception": false,
     "start_time": "2025-07-28T11:03:49.431201",
     "status": "completed"
    },
    "tags": []
   },
   "outputs": [
    {
     "data": {
      "text/plain": [
       "4"
      ]
     },
     "execution_count": 70,
     "metadata": {},
     "output_type": "execute_result"
    }
   ],
   "source": [
    "sub_universes = universe_analysis.generate_sub_universes()\n",
    "len(sub_universes)"
   ]
  },
  {
   "cell_type": "code",
   "execution_count": 71,
   "id": "92adf7ba",
   "metadata": {
    "execution": {
     "iopub.execute_input": "2025-07-28T11:03:49.548423Z",
     "iopub.status.busy": "2025-07-28T11:03:49.547377Z",
     "iopub.status.idle": "2025-07-28T11:03:49.554241Z",
     "shell.execute_reply": "2025-07-28T11:03:49.553404Z"
    },
    "papermill": {
     "duration": 0.044956,
     "end_time": "2025-07-28T11:03:49.555758",
     "exception": false,
     "start_time": "2025-07-28T11:03:49.510802",
     "status": "completed"
    },
    "tags": []
   },
   "outputs": [],
   "source": [
    "def filter_sub_universe_data(sub_universe, org_test):\n",
    "    # Keep all rows — no filtering\n",
    "    keep_rows_mask = np.ones(org_test.shape[0], dtype=bool)\n",
    "\n",
    "    print(f\"[INFO] Keeping all rows: {keep_rows_mask.sum()} rows retained.\")\n",
    "    return keep_rows_mask"
   ]
  },
  {
   "cell_type": "code",
   "execution_count": 72,
   "id": "4a759155",
   "metadata": {
    "execution": {
     "iopub.execute_input": "2025-07-28T11:03:49.590340Z",
     "iopub.status.busy": "2025-07-28T11:03:49.589810Z",
     "iopub.status.idle": "2025-07-28T11:03:59.753008Z",
     "shell.execute_reply": "2025-07-28T11:03:59.751615Z"
    },
    "papermill": {
     "duration": 10.183202,
     "end_time": "2025-07-28T11:03:59.755593",
     "exception": false,
     "start_time": "2025-07-28T11:03:49.572391",
     "status": "completed"
    },
    "tags": []
   },
   "outputs": [
    {
     "name": "stdout",
     "output_type": "stream",
     "text": [
      "Stopping execution_time clock.\n",
      "[INFO] Keeping all rows: 89710 rows retained.\n"
     ]
    },
    {
     "name": "stdout",
     "output_type": "stream",
     "text": [
      "[INFO] Keeping all rows: 89710 rows retained.\n"
     ]
    },
    {
     "name": "stdout",
     "output_type": "stream",
     "text": [
      "[INFO] Keeping all rows: 89710 rows retained.\n"
     ]
    },
    {
     "name": "stdout",
     "output_type": "stream",
     "text": [
      "[INFO] Keeping all rows: 89710 rows retained.\n"
     ]
    },
    {
     "data": {
      "text/html": [
       "<div>\n",
       "<style scoped>\n",
       "    .dataframe tbody tr th:only-of-type {\n",
       "        vertical-align: middle;\n",
       "    }\n",
       "\n",
       "    .dataframe tbody tr th {\n",
       "        vertical-align: top;\n",
       "    }\n",
       "\n",
       "    .dataframe thead th {\n",
       "        text-align: right;\n",
       "    }\n",
       "</style>\n",
       "<table border=\"1\" class=\"dataframe\">\n",
       "  <thead>\n",
       "    <tr style=\"text-align: right;\">\n",
       "      <th></th>\n",
       "      <th>run_no</th>\n",
       "      <th>universe_id</th>\n",
       "      <th>universe_settings</th>\n",
       "      <th>execution_time</th>\n",
       "      <th>test_size_n</th>\n",
       "      <th>test_size_frac</th>\n",
       "      <th>fair_main_equalized_odds_difference</th>\n",
       "      <th>fair_main_equalized_odds_ratio</th>\n",
       "      <th>fair_main_demographic_parity_difference</th>\n",
       "      <th>fair_main_demographic_parity_ratio</th>\n",
       "      <th>...</th>\n",
       "      <th>perf_grp_precision_0</th>\n",
       "      <th>perf_grp_precision_1</th>\n",
       "      <th>perf_grp_false positive rate_0</th>\n",
       "      <th>perf_grp_false positive rate_1</th>\n",
       "      <th>perf_grp_false negative rate_0</th>\n",
       "      <th>perf_grp_false negative rate_1</th>\n",
       "      <th>perf_grp_selection rate_0</th>\n",
       "      <th>perf_grp_selection rate_1</th>\n",
       "      <th>perf_grp_count_0</th>\n",
       "      <th>perf_grp_count_1</th>\n",
       "    </tr>\n",
       "  </thead>\n",
       "  <tbody>\n",
       "    <tr>\n",
       "      <th>0</th>\n",
       "      <td>11</td>\n",
       "      <td>6e5cc8c50f82951168e1e506e8750c35</td>\n",
       "      <td>{\"cutoff\": \"quantile_0.1\", \"eval_fairness_grou...</td>\n",
       "      <td>32.054646</td>\n",
       "      <td>89710</td>\n",
       "      <td>1.0</td>\n",
       "      <td>0.098766</td>\n",
       "      <td>0.897861</td>\n",
       "      <td>0.090231</td>\n",
       "      <td>0.906937</td>\n",
       "      <td>...</td>\n",
       "      <td>NaN</td>\n",
       "      <td>NaN</td>\n",
       "      <td>NaN</td>\n",
       "      <td>NaN</td>\n",
       "      <td>NaN</td>\n",
       "      <td>NaN</td>\n",
       "      <td>NaN</td>\n",
       "      <td>NaN</td>\n",
       "      <td>NaN</td>\n",
       "      <td>NaN</td>\n",
       "    </tr>\n",
       "    <tr>\n",
       "      <th>0</th>\n",
       "      <td>11</td>\n",
       "      <td>6e5cc8c50f82951168e1e506e8750c35</td>\n",
       "      <td>{\"cutoff\": \"quantile_0.1\", \"eval_fairness_grou...</td>\n",
       "      <td>32.054646</td>\n",
       "      <td>89710</td>\n",
       "      <td>1.0</td>\n",
       "      <td>0.098766</td>\n",
       "      <td>0.897861</td>\n",
       "      <td>0.090231</td>\n",
       "      <td>0.906937</td>\n",
       "      <td>...</td>\n",
       "      <td>0.117650</td>\n",
       "      <td>0.143118</td>\n",
       "      <td>0.966982</td>\n",
       "      <td>0.868216</td>\n",
       "      <td>0.010557</td>\n",
       "      <td>0.047593</td>\n",
       "      <td>0.969572</td>\n",
       "      <td>0.879341</td>\n",
       "      <td>20540.0</td>\n",
       "      <td>69170.0</td>\n",
       "    </tr>\n",
       "    <tr>\n",
       "      <th>0</th>\n",
       "      <td>11</td>\n",
       "      <td>6e5cc8c50f82951168e1e506e8750c35</td>\n",
       "      <td>{\"cutoff\": \"quantile_0.25\", \"eval_fairness_gro...</td>\n",
       "      <td>32.054646</td>\n",
       "      <td>89710</td>\n",
       "      <td>1.0</td>\n",
       "      <td>0.217001</td>\n",
       "      <td>0.757959</td>\n",
       "      <td>0.198843</td>\n",
       "      <td>0.779873</td>\n",
       "      <td>...</td>\n",
       "      <td>NaN</td>\n",
       "      <td>NaN</td>\n",
       "      <td>NaN</td>\n",
       "      <td>NaN</td>\n",
       "      <td>NaN</td>\n",
       "      <td>NaN</td>\n",
       "      <td>NaN</td>\n",
       "      <td>NaN</td>\n",
       "      <td>NaN</td>\n",
       "      <td>NaN</td>\n",
       "    </tr>\n",
       "    <tr>\n",
       "      <th>0</th>\n",
       "      <td>11</td>\n",
       "      <td>6e5cc8c50f82951168e1e506e8750c35</td>\n",
       "      <td>{\"cutoff\": \"quantile_0.25\", \"eval_fairness_gro...</td>\n",
       "      <td>32.054646</td>\n",
       "      <td>89710</td>\n",
       "      <td>1.0</td>\n",
       "      <td>0.217001</td>\n",
       "      <td>0.757959</td>\n",
       "      <td>0.198843</td>\n",
       "      <td>0.779873</td>\n",
       "      <td>...</td>\n",
       "      <td>0.121914</td>\n",
       "      <td>0.162843</td>\n",
       "      <td>0.896544</td>\n",
       "      <td>0.679544</td>\n",
       "      <td>0.044764</td>\n",
       "      <td>0.131838</td>\n",
       "      <td>0.903311</td>\n",
       "      <td>0.704467</td>\n",
       "      <td>20540.0</td>\n",
       "      <td>69170.0</td>\n",
       "    </tr>\n",
       "  </tbody>\n",
       "</table>\n",
       "<p>4 rows × 50 columns</p>\n",
       "</div>"
      ],
      "text/plain": [
       "  run_no                       universe_id  \\\n",
       "0     11  6e5cc8c50f82951168e1e506e8750c35   \n",
       "0     11  6e5cc8c50f82951168e1e506e8750c35   \n",
       "0     11  6e5cc8c50f82951168e1e506e8750c35   \n",
       "0     11  6e5cc8c50f82951168e1e506e8750c35   \n",
       "\n",
       "                                   universe_settings  execution_time  \\\n",
       "0  {\"cutoff\": \"quantile_0.1\", \"eval_fairness_grou...       32.054646   \n",
       "0  {\"cutoff\": \"quantile_0.1\", \"eval_fairness_grou...       32.054646   \n",
       "0  {\"cutoff\": \"quantile_0.25\", \"eval_fairness_gro...       32.054646   \n",
       "0  {\"cutoff\": \"quantile_0.25\", \"eval_fairness_gro...       32.054646   \n",
       "\n",
       "   test_size_n  test_size_frac  fair_main_equalized_odds_difference  \\\n",
       "0        89710             1.0                             0.098766   \n",
       "0        89710             1.0                             0.098766   \n",
       "0        89710             1.0                             0.217001   \n",
       "0        89710             1.0                             0.217001   \n",
       "\n",
       "   fair_main_equalized_odds_ratio  fair_main_demographic_parity_difference  \\\n",
       "0                        0.897861                                 0.090231   \n",
       "0                        0.897861                                 0.090231   \n",
       "0                        0.757959                                 0.198843   \n",
       "0                        0.757959                                 0.198843   \n",
       "\n",
       "   fair_main_demographic_parity_ratio  ...  perf_grp_precision_0  \\\n",
       "0                            0.906937  ...                   NaN   \n",
       "0                            0.906937  ...              0.117650   \n",
       "0                            0.779873  ...                   NaN   \n",
       "0                            0.779873  ...              0.121914   \n",
       "\n",
       "   perf_grp_precision_1  perf_grp_false positive rate_0  \\\n",
       "0                   NaN                             NaN   \n",
       "0              0.143118                        0.966982   \n",
       "0                   NaN                             NaN   \n",
       "0              0.162843                        0.896544   \n",
       "\n",
       "   perf_grp_false positive rate_1  perf_grp_false negative rate_0  \\\n",
       "0                             NaN                             NaN   \n",
       "0                        0.868216                        0.010557   \n",
       "0                             NaN                             NaN   \n",
       "0                        0.679544                        0.044764   \n",
       "\n",
       "   perf_grp_false negative rate_1  perf_grp_selection rate_0  \\\n",
       "0                             NaN                        NaN   \n",
       "0                        0.047593                   0.969572   \n",
       "0                             NaN                        NaN   \n",
       "0                        0.131838                   0.903311   \n",
       "\n",
       "   perf_grp_selection rate_1  perf_grp_count_0  perf_grp_count_1  \n",
       "0                        NaN               NaN               NaN  \n",
       "0                   0.879341           20540.0           69170.0  \n",
       "0                        NaN               NaN               NaN  \n",
       "0                   0.704467           20540.0           69170.0  \n",
       "\n",
       "[4 rows x 50 columns]"
      ]
     },
     "execution_count": 72,
     "metadata": {},
     "output_type": "execute_result"
    }
   ],
   "source": [
    "final_output = universe_analysis.generate_final_output(\n",
    "    y_pred_prob=probs_test,\n",
    "    y_test=y_true,\n",
    "    org_test=org_test,\n",
    "    filter_data=filter_sub_universe_data,\n",
    "    cp_metrics_df=cp_metrics_df,\n",
    "    save=True,\n",
    ")\n",
    "final_output"
   ]
  },
  {
   "cell_type": "code",
   "execution_count": null,
   "id": "721ff514-cb11-46f8-b6fc-50392f74b5cb",
   "metadata": {
    "papermill": {
     "duration": 0.044537,
     "end_time": "2025-07-28T11:03:59.848717",
     "exception": false,
     "start_time": "2025-07-28T11:03:59.804180",
     "status": "completed"
    },
    "tags": []
   },
   "outputs": [],
   "source": []
  }
 ],
 "metadata": {
  "celltoolbar": "Tags",
  "kernelspec": {
   "display_name": "Python (CMA Fairness)",
   "language": "python",
   "name": "cma_fair_env"
  },
  "language_info": {
   "codemirror_mode": {
    "name": "ipython",
    "version": 3
   },
   "file_extension": ".py",
   "mimetype": "text/x-python",
   "name": "python",
   "nbconvert_exporter": "python",
   "pygments_lexer": "ipython3",
   "version": "3.10.12"
  },
  "papermill": {
   "default_parameters": {},
   "duration": 47.233827,
   "end_time": "2025-07-28T11:04:00.814733",
   "environment_variables": {},
   "exception": null,
   "input_path": "universe_analysis.ipynb",
   "output_path": "output/runs/11/notebooks/m_11-6e5cc8c50f82951168e1e506e8750c35.ipynb",
   "parameters": {
    "output_dir": "output",
    "run_no": "11",
    "seed": "2023",
    "universe": "{\"cutoff\": [\"quantile_0.1\", \"quantile_0.25\"], \"eval_fairness_grouping\": [\"majority-minority\", \"nationality-all\"], \"exclude_features\": \"sex\", \"exclude_subgroups\": \"keep-all\", \"model\": \"logreg\", \"scale\": \"do-not-scale\", \"training_size\": \"2014\"}",
    "universe_id": "6e5cc8c50f82951168e1e506e8750c35"
   },
   "start_time": "2025-07-28T11:03:13.580906",
   "version": "2.6.0"
  }
 },
 "nbformat": 4,
 "nbformat_minor": 5
}