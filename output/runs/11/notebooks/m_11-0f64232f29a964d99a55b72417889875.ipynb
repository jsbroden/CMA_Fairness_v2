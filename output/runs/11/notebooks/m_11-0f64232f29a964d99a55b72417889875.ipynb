{
 "cells": [
  {
   "cell_type": "code",
   "execution_count": 1,
   "id": "f159f837-637b-42ba-96b5-ec9a68c44524",
   "metadata": {
    "execution": {
     "iopub.execute_input": "2025-07-28T10:53:50.081853Z",
     "iopub.status.busy": "2025-07-28T10:53:50.080988Z",
     "iopub.status.idle": "2025-07-28T10:53:50.096179Z",
     "shell.execute_reply": "2025-07-28T10:53:50.095103Z"
    },
    "papermill": {
     "duration": 0.038096,
     "end_time": "2025-07-28T10:53:50.098174",
     "exception": false,
     "start_time": "2025-07-28T10:53:50.060078",
     "status": "completed"
    },
    "tags": []
   },
   "outputs": [
    {
     "name": "stdout",
     "output_type": "stream",
     "text": [
      "/dss/dsshome1/0C/ra93lal2/cma/CMA_Fairness_v2\n"
     ]
    },
    {
     "name": "stderr",
     "output_type": "stream",
     "text": [
      "/dss/dsshome1/0C/ra93lal2/.local/share/virtualenvs/CMA_Fairness_v2-3j10GkSs/lib/python3.10/site-packages/IPython/core/magics/osm.py:393: UserWarning: This is now an optional IPython functionality, using bookmarks requires you to install the `pickleshare` library.\n",
      "  bkms = self.shell.db.get('bookmarks', {})\n",
      "/dss/dsshome1/0C/ra93lal2/.local/share/virtualenvs/CMA_Fairness_v2-3j10GkSs/lib/python3.10/site-packages/IPython/core/magics/osm.py:417: UserWarning: This is now an optional IPython functionality, setting dhist requires you to install the `pickleshare` library.\n",
      "  self.shell.db['dhist'] = compress_dhist(dhist)[-100:]\n"
     ]
    }
   ],
   "source": [
    "%cd ~/cma/CMA_Fairness_v2"
   ]
  },
  {
   "cell_type": "markdown",
   "id": "de2603b9",
   "metadata": {
    "papermill": {
     "duration": 0.020715,
     "end_time": "2025-07-28T10:53:50.139474",
     "exception": false,
     "start_time": "2025-07-28T10:53:50.118759",
     "status": "completed"
    },
    "tags": []
   },
   "source": [
    "The following cell holds the definition of our parameters, these values can be overriden by rendering the with e.g. the following command:\n",
    "\n",
    "papermill -p alpha 0.2 -p ratio 0.3 universe_analysis.ipynb output/test_run.ipynb"
   ]
  },
  {
   "cell_type": "code",
   "execution_count": 2,
   "id": "a80968a0-40bb-4fa9-85ef-2d5eefb01975",
   "metadata": {
    "execution": {
     "iopub.execute_input": "2025-07-28T10:53:50.182918Z",
     "iopub.status.busy": "2025-07-28T10:53:50.182132Z",
     "iopub.status.idle": "2025-07-28T10:53:50.188773Z",
     "shell.execute_reply": "2025-07-28T10:53:50.187599Z"
    },
    "papermill": {
     "duration": 0.030515,
     "end_time": "2025-07-28T10:53:50.190647",
     "exception": false,
     "start_time": "2025-07-28T10:53:50.160132",
     "status": "completed"
    },
    "tags": []
   },
   "outputs": [
    {
     "name": "stdout",
     "output_type": "stream",
     "text": [
      "Current working directory: /dss/dsshome1/0C/ra93lal2/cma/CMA_Fairness_v2\n"
     ]
    }
   ],
   "source": [
    "import os\n",
    "print(\"Current working directory:\", os.getcwd())"
   ]
  },
  {
   "cell_type": "code",
   "execution_count": 3,
   "id": "2dce4c03",
   "metadata": {
    "execution": {
     "iopub.execute_input": "2025-07-28T10:53:50.234446Z",
     "iopub.status.busy": "2025-07-28T10:53:50.233960Z",
     "iopub.status.idle": "2025-07-28T10:53:50.240619Z",
     "shell.execute_reply": "2025-07-28T10:53:50.239538Z"
    },
    "papermill": {
     "duration": 0.030498,
     "end_time": "2025-07-28T10:53:50.242396",
     "exception": false,
     "start_time": "2025-07-28T10:53:50.211898",
     "status": "completed"
    },
    "tags": [
     "parameters"
    ]
   },
   "outputs": [],
   "source": [
    "run_no = 0\n",
    "universe_id = \"test\"\n",
    "universe = {\n",
    "    \"training_size\": \"2014\", # \"25k\", \"5k\", \"1k\", \"2014\"\n",
    "    \"scale\": \"scale\", # \"scale\", \"do-not-scale\",\n",
    "    #\"stratify_split\": \"target\", # \"none\", \"target\", \"protected-attribute\", \"both\",\n",
    "    \"model\": \"elasticnet\", # \"logreg\", \"penalized_logreg\", \"rf\", \"gbm\", \"elasticnet\"\n",
    "    \"cutoff\": [\"quantile_0.15\", \"quantile_0.30\"],\n",
    "    \"exclude_features\": \"age\", # \"none\", \"nationality\", \"sex\", \"nationality-sex\", \"age\"\n",
    "    \"exclude_subgroups\": \"keep-all\", # \"keep-all\", \"drop-non-german\"\n",
    "    \"eval_fairness_grouping\": [\"majority-minority\", \"nationality-all\"]\n",
    "}\n",
    "\n",
    "output_dir=\"./output\"\n",
    "seed=0"
   ]
  },
  {
   "cell_type": "code",
   "execution_count": 4,
   "id": "af5d774a",
   "metadata": {
    "execution": {
     "iopub.execute_input": "2025-07-28T10:53:50.286055Z",
     "iopub.status.busy": "2025-07-28T10:53:50.285271Z",
     "iopub.status.idle": "2025-07-28T10:53:50.291304Z",
     "shell.execute_reply": "2025-07-28T10:53:50.290298Z"
    },
    "papermill": {
     "duration": 0.030633,
     "end_time": "2025-07-28T10:53:50.293159",
     "exception": false,
     "start_time": "2025-07-28T10:53:50.262526",
     "status": "completed"
    },
    "tags": [
     "injected-parameters"
    ]
   },
   "outputs": [],
   "source": [
    "# Parameters\n",
    "universe_id = \"0f64232f29a964d99a55b72417889875\"\n",
    "run_no = \"11\"\n",
    "universe = \"{\\\"cutoff\\\": [\\\"quantile_0.1\\\", \\\"quantile_0.25\\\"], \\\"eval_fairness_grouping\\\": [\\\"majority-minority\\\", \\\"nationality-all\\\"], \\\"exclude_features\\\": \\\"nationality-sex\\\", \\\"exclude_subgroups\\\": \\\"drop-non-german\\\", \\\"model\\\": \\\"logreg\\\", \\\"scale\\\": \\\"scale\\\", \\\"training_size\\\": \\\"2014\\\"}\"\n",
    "output_dir = \"output\"\n",
    "seed = \"2023\"\n"
   ]
  },
  {
   "cell_type": "code",
   "execution_count": 5,
   "id": "1650acaf",
   "metadata": {
    "execution": {
     "iopub.execute_input": "2025-07-28T10:53:50.337896Z",
     "iopub.status.busy": "2025-07-28T10:53:50.337000Z",
     "iopub.status.idle": "2025-07-28T10:53:50.343084Z",
     "shell.execute_reply": "2025-07-28T10:53:50.341937Z"
    },
    "papermill": {
     "duration": 0.029735,
     "end_time": "2025-07-28T10:53:50.345002",
     "exception": false,
     "start_time": "2025-07-28T10:53:50.315267",
     "status": "completed"
    },
    "tags": []
   },
   "outputs": [],
   "source": [
    "import json\n",
    "# Parse universe into dict if it is passed as a string\n",
    "if isinstance(universe, str):\n",
    "    universe = json.loads(universe)"
   ]
  },
  {
   "cell_type": "code",
   "execution_count": 6,
   "id": "16620c48",
   "metadata": {
    "execution": {
     "iopub.execute_input": "2025-07-28T10:53:50.388800Z",
     "iopub.status.busy": "2025-07-28T10:53:50.388249Z",
     "iopub.status.idle": "2025-07-28T10:53:50.437414Z",
     "shell.execute_reply": "2025-07-28T10:53:50.436334Z"
    },
    "papermill": {
     "duration": 0.073481,
     "end_time": "2025-07-28T10:53:50.439556",
     "exception": false,
     "start_time": "2025-07-28T10:53:50.366075",
     "status": "completed"
    },
    "tags": []
   },
   "outputs": [],
   "source": [
    "# Auto-reload the custom package\n",
    "%load_ext autoreload\n",
    "%autoreload 1\n",
    "%aimport fairness_multiverse"
   ]
  },
  {
   "cell_type": "code",
   "execution_count": 7,
   "id": "01c5c9f3",
   "metadata": {
    "execution": {
     "iopub.execute_input": "2025-07-28T10:53:50.484738Z",
     "iopub.status.busy": "2025-07-28T10:53:50.484158Z",
     "iopub.status.idle": "2025-07-28T10:53:52.466291Z",
     "shell.execute_reply": "2025-07-28T10:53:52.465204Z"
    },
    "papermill": {
     "duration": 2.006678,
     "end_time": "2025-07-28T10:53:52.468376",
     "exception": false,
     "start_time": "2025-07-28T10:53:50.461698",
     "status": "completed"
    },
    "tags": []
   },
   "outputs": [],
   "source": [
    "from fairness_multiverse.universe import UniverseAnalysis\n",
    "\n",
    "universe_analysis = UniverseAnalysis(\n",
    "    run_no = run_no,\n",
    "    universe_id = universe_id,\n",
    "    universe = universe,\n",
    "    output_dir=output_dir,\n",
    ")"
   ]
  },
  {
   "cell_type": "code",
   "execution_count": 8,
   "id": "106241f5",
   "metadata": {
    "execution": {
     "iopub.execute_input": "2025-07-28T10:53:52.512874Z",
     "iopub.status.busy": "2025-07-28T10:53:52.511888Z",
     "iopub.status.idle": "2025-07-28T10:53:52.518966Z",
     "shell.execute_reply": "2025-07-28T10:53:52.517963Z"
    },
    "papermill": {
     "duration": 0.030186,
     "end_time": "2025-07-28T10:53:52.520765",
     "exception": false,
     "start_time": "2025-07-28T10:53:52.490579",
     "status": "completed"
    },
    "tags": []
   },
   "outputs": [
    {
     "name": "stdout",
     "output_type": "stream",
     "text": [
      "Using Seed: 2023\n"
     ]
    }
   ],
   "source": [
    "import numpy as np\n",
    "parsed_seed = int(seed)\n",
    "np.random.seed(parsed_seed)\n",
    "print(f\"Using Seed: {parsed_seed}\")"
   ]
  },
  {
   "cell_type": "markdown",
   "id": "e0ebdc57",
   "metadata": {
    "papermill": {
     "duration": 0.019961,
     "end_time": "2025-07-28T10:53:52.561539",
     "exception": false,
     "start_time": "2025-07-28T10:53:52.541578",
     "status": "completed"
    },
    "tags": []
   },
   "source": [
    "# Loading Data"
   ]
  },
  {
   "cell_type": "markdown",
   "id": "681925a3",
   "metadata": {
    "papermill": {
     "duration": 0.020772,
     "end_time": "2025-07-28T10:53:52.603122",
     "exception": false,
     "start_time": "2025-07-28T10:53:52.582350",
     "status": "completed"
    },
    "tags": []
   },
   "source": [
    "Load siab_train, siab_test, siab_calib and/or \n",
    "load siab_train_features, siab_train_labels"
   ]
  },
  {
   "cell_type": "code",
   "execution_count": 9,
   "id": "f0496b8a",
   "metadata": {
    "execution": {
     "iopub.execute_input": "2025-07-28T10:53:52.649407Z",
     "iopub.status.busy": "2025-07-28T10:53:52.648908Z",
     "iopub.status.idle": "2025-07-28T10:54:05.435244Z",
     "shell.execute_reply": "2025-07-28T10:54:05.433901Z"
    },
    "papermill": {
     "duration": 12.814235,
     "end_time": "2025-07-28T10:54:05.437913",
     "exception": false,
     "start_time": "2025-07-28T10:53:52.623678",
     "status": "completed"
    },
    "tags": []
   },
   "outputs": [
    {
     "name": "stdout",
     "output_type": "stream",
     "text": [
      "Loading SIAB data from cache: data/siab_cached.csv.gz\n"
     ]
    },
    {
     "name": "stdout",
     "output_type": "stream",
     "text": [
      "(643690, 164)\n"
     ]
    }
   ],
   "source": [
    "from pathlib import Path\n",
    "import pandas as pd\n",
    "\n",
    "# File paths\n",
    "raw_file = Path(\"data/raw/siab.csv\")\n",
    "cache_file = Path(\"data/siab_cached.csv.gz\")\n",
    "\n",
    "# Ensure cache directory exists\n",
    "cache_file.parent.mkdir(parents=True, exist_ok=True)\n",
    "\n",
    "# Load with simple caching\n",
    "if cache_file.exists():\n",
    "    print(f\"Loading SIAB data from cache: {cache_file}\")\n",
    "    siab = pd.read_csv(cache_file, compression='gzip')\n",
    "else:\n",
    "    print(f\"Cache not found. Reading raw SIAB data: {raw_file}\")\n",
    "    siab = pd.read_csv(raw_file)\n",
    "    siab.to_csv(cache_file, index=False, compression='gzip')\n",
    "    print(f\"Cached SIAB data to: {cache_file}\")\n",
    "\n",
    "# Now use `siab` DataFrame as needed\n",
    "print(siab.shape)"
   ]
  },
  {
   "cell_type": "code",
   "execution_count": 10,
   "id": "db0ca512-5f53-4dba-abdb-a2888bca41ba",
   "metadata": {
    "execution": {
     "iopub.execute_input": "2025-07-28T10:54:05.505210Z",
     "iopub.status.busy": "2025-07-28T10:54:05.504284Z",
     "iopub.status.idle": "2025-07-28T10:54:05.511399Z",
     "shell.execute_reply": "2025-07-28T10:54:05.510325Z"
    },
    "papermill": {
     "duration": 0.041506,
     "end_time": "2025-07-28T10:54:05.513227",
     "exception": false,
     "start_time": "2025-07-28T10:54:05.471721",
     "status": "completed"
    },
    "tags": []
   },
   "outputs": [],
   "source": [
    "#siab"
   ]
  },
  {
   "cell_type": "code",
   "execution_count": 11,
   "id": "a0edb063",
   "metadata": {
    "execution": {
     "iopub.execute_input": "2025-07-28T10:54:05.558797Z",
     "iopub.status.busy": "2025-07-28T10:54:05.558058Z",
     "iopub.status.idle": "2025-07-28T10:54:05.564202Z",
     "shell.execute_reply": "2025-07-28T10:54:05.563120Z"
    },
    "papermill": {
     "duration": 0.032065,
     "end_time": "2025-07-28T10:54:05.566436",
     "exception": false,
     "start_time": "2025-07-28T10:54:05.534371",
     "status": "completed"
    },
    "tags": []
   },
   "outputs": [],
   "source": [
    "#import pandas as pd\n",
    "#\n",
    "#X_train = pd.read_csv(\"./data/X_train.csv\")\n",
    "#y_train = pd.read_csv(\"./data/y_train.csv\")"
   ]
  },
  {
   "cell_type": "code",
   "execution_count": 12,
   "id": "63d08085",
   "metadata": {
    "execution": {
     "iopub.execute_input": "2025-07-28T10:54:05.629662Z",
     "iopub.status.busy": "2025-07-28T10:54:05.629228Z",
     "iopub.status.idle": "2025-07-28T10:54:05.635286Z",
     "shell.execute_reply": "2025-07-28T10:54:05.634040Z"
    },
    "papermill": {
     "duration": 0.040021,
     "end_time": "2025-07-28T10:54:05.637157",
     "exception": false,
     "start_time": "2025-07-28T10:54:05.597136",
     "status": "completed"
    },
    "tags": []
   },
   "outputs": [],
   "source": [
    "#X_test = pd.read_csv(\"./data/X_test.csv\")\n",
    "#y_true = pd.read_csv(\"./data/y_test.csv\")"
   ]
  },
  {
   "cell_type": "code",
   "execution_count": 13,
   "id": "98a8d0fa-1d3d-4ed8-bb2c-281470e24add",
   "metadata": {
    "execution": {
     "iopub.execute_input": "2025-07-28T10:54:05.683820Z",
     "iopub.status.busy": "2025-07-28T10:54:05.682795Z",
     "iopub.status.idle": "2025-07-28T10:54:05.689693Z",
     "shell.execute_reply": "2025-07-28T10:54:05.688459Z"
    },
    "papermill": {
     "duration": 0.031531,
     "end_time": "2025-07-28T10:54:05.691504",
     "exception": false,
     "start_time": "2025-07-28T10:54:05.659973",
     "status": "completed"
    },
    "tags": []
   },
   "outputs": [],
   "source": [
    "# Calibration data for conformal\n",
    "#X_calib = pd.read_csv(\"./data/X_calib.csv\")\n",
    "#y_calib = pd.read_csv(\"./data/y_calib.csv\")"
   ]
  },
  {
   "cell_type": "markdown",
   "id": "9901737e-04df-44f0-9100-f5ad144ed040",
   "metadata": {
    "papermill": {
     "duration": 0.020604,
     "end_time": "2025-07-28T10:54:05.733842",
     "exception": false,
     "start_time": "2025-07-28T10:54:05.713238",
     "status": "completed"
    },
    "tags": []
   },
   "source": [
    "# Splitting Data and Setting Training Data Size"
   ]
  },
  {
   "cell_type": "code",
   "execution_count": 14,
   "id": "acbc8f7d-8fc8-4e86-8c59-5dcb0f58384b",
   "metadata": {
    "execution": {
     "iopub.execute_input": "2025-07-28T10:54:05.778942Z",
     "iopub.status.busy": "2025-07-28T10:54:05.777732Z",
     "iopub.status.idle": "2025-07-28T10:54:05.789310Z",
     "shell.execute_reply": "2025-07-28T10:54:05.787970Z"
    },
    "papermill": {
     "duration": 0.036468,
     "end_time": "2025-07-28T10:54:05.791209",
     "exception": false,
     "start_time": "2025-07-28T10:54:05.754741",
     "status": "completed"
    },
    "tags": []
   },
   "outputs": [],
   "source": [
    "def sample_by_year(df, training_size, random_state=42):\n",
    "    if training_size == \"2014\":\n",
    "        return df[df[\"year\"] == 2014].reset_index(drop=True)\n",
    "    \n",
    "    size_map = {\n",
    "        \"25k\": 5000,\n",
    "        \"5k\": 1000,\n",
    "        \"1k\": 200\n",
    "    }\n",
    "\n",
    "    if training_size not in size_map:\n",
    "        return df.reset_index(drop=True)  # use all data\n",
    "\n",
    "    n_per_year = size_map[training_size]\n",
    "    grouped = df.groupby(\"year\")\n",
    "    sampled = grouped.apply(lambda x: x.sample(n=min(n_per_year, len(x)), random_state=random_state))\n",
    "    return sampled.reset_index(drop=True)"
   ]
  },
  {
   "cell_type": "code",
   "execution_count": 15,
   "id": "6d931f52-beaf-43ff-9e78-9d44a448d54e",
   "metadata": {
    "execution": {
     "iopub.execute_input": "2025-07-28T10:54:05.834824Z",
     "iopub.status.busy": "2025-07-28T10:54:05.834354Z",
     "iopub.status.idle": "2025-07-28T10:54:06.058603Z",
     "shell.execute_reply": "2025-07-28T10:54:06.057545Z"
    },
    "papermill": {
     "duration": 0.249683,
     "end_time": "2025-07-28T10:54:06.062159",
     "exception": false,
     "start_time": "2025-07-28T10:54:05.812476",
     "status": "completed"
    },
    "tags": []
   },
   "outputs": [],
   "source": [
    "siab_s = sample_by_year(siab, universe[\"training_size\"])"
   ]
  },
  {
   "cell_type": "code",
   "execution_count": 16,
   "id": "5db0a40e-a4e2-4920-be85-b12ae061d70d",
   "metadata": {
    "execution": {
     "iopub.execute_input": "2025-07-28T10:54:06.108016Z",
     "iopub.status.busy": "2025-07-28T10:54:06.106863Z",
     "iopub.status.idle": "2025-07-28T10:54:06.128116Z",
     "shell.execute_reply": "2025-07-28T10:54:06.126425Z"
    },
    "papermill": {
     "duration": 0.045792,
     "end_time": "2025-07-28T10:54:06.130026",
     "exception": false,
     "start_time": "2025-07-28T10:54:06.084234",
     "status": "completed"
    },
    "tags": []
   },
   "outputs": [
    {
     "data": {
      "text/plain": [
       "year\n",
       "2014    87158\n",
       "dtype: int64"
      ]
     },
     "metadata": {},
     "output_type": "display_data"
    }
   ],
   "source": [
    "display(siab_s.groupby(\"year\").size())"
   ]
  },
  {
   "cell_type": "code",
   "execution_count": 17,
   "id": "a561edb4-d032-42cb-8256-22eac1111c64",
   "metadata": {
    "execution": {
     "iopub.execute_input": "2025-07-28T10:54:06.164966Z",
     "iopub.status.busy": "2025-07-28T10:54:06.164499Z",
     "iopub.status.idle": "2025-07-28T10:54:06.501793Z",
     "shell.execute_reply": "2025-07-28T10:54:06.500581Z"
    },
    "papermill": {
     "duration": 0.354683,
     "end_time": "2025-07-28T10:54:06.503907",
     "exception": false,
     "start_time": "2025-07-28T10:54:06.149224",
     "status": "completed"
    },
    "tags": []
   },
   "outputs": [],
   "source": [
    "siab_train = siab_s[siab_s.year < 2015]\n",
    "siab_calib = siab[siab.year == 2015]\n",
    "siab_test = siab[siab.year == 2016]"
   ]
  },
  {
   "cell_type": "code",
   "execution_count": 18,
   "id": "472de16f-c3db-4916-846b-1f0de9cf1746",
   "metadata": {
    "execution": {
     "iopub.execute_input": "2025-07-28T10:54:06.550951Z",
     "iopub.status.busy": "2025-07-28T10:54:06.550127Z",
     "iopub.status.idle": "2025-07-28T10:54:06.607586Z",
     "shell.execute_reply": "2025-07-28T10:54:06.606408Z"
    },
    "papermill": {
     "duration": 0.083484,
     "end_time": "2025-07-28T10:54:06.609819",
     "exception": false,
     "start_time": "2025-07-28T10:54:06.526335",
     "status": "completed"
    },
    "tags": []
   },
   "outputs": [],
   "source": [
    "X_train = siab_train.iloc[:,4:164]\n",
    "y_train = siab_train.iloc[:, [3]]"
   ]
  },
  {
   "cell_type": "code",
   "execution_count": 19,
   "id": "828c96af-f43a-4ed6-ba47-8ac73a47d56c",
   "metadata": {
    "execution": {
     "iopub.execute_input": "2025-07-28T10:54:06.645900Z",
     "iopub.status.busy": "2025-07-28T10:54:06.645459Z",
     "iopub.status.idle": "2025-07-28T10:54:06.700414Z",
     "shell.execute_reply": "2025-07-28T10:54:06.699479Z"
    },
    "papermill": {
     "duration": 0.070985,
     "end_time": "2025-07-28T10:54:06.701896",
     "exception": false,
     "start_time": "2025-07-28T10:54:06.630911",
     "status": "completed"
    },
    "tags": []
   },
   "outputs": [],
   "source": [
    "X_calib = siab_calib.iloc[:,4:164]\n",
    "y_calib = siab_calib.iloc[:, [3]]"
   ]
  },
  {
   "cell_type": "code",
   "execution_count": 20,
   "id": "c34be9c3-6bd6-476e-acd3-845840e303be",
   "metadata": {
    "execution": {
     "iopub.execute_input": "2025-07-28T10:54:06.729635Z",
     "iopub.status.busy": "2025-07-28T10:54:06.729247Z",
     "iopub.status.idle": "2025-07-28T10:54:06.787034Z",
     "shell.execute_reply": "2025-07-28T10:54:06.785950Z"
    },
    "papermill": {
     "duration": 0.07298,
     "end_time": "2025-07-28T10:54:06.788983",
     "exception": false,
     "start_time": "2025-07-28T10:54:06.716003",
     "status": "completed"
    },
    "tags": []
   },
   "outputs": [],
   "source": [
    "X_test = siab_test.iloc[:,4:164]\n",
    "y_true = siab_test.iloc[:, [3]]"
   ]
  },
  {
   "cell_type": "code",
   "execution_count": 21,
   "id": "e6c733c5",
   "metadata": {
    "execution": {
     "iopub.execute_input": "2025-07-28T10:54:06.853795Z",
     "iopub.status.busy": "2025-07-28T10:54:06.852930Z",
     "iopub.status.idle": "2025-07-28T10:54:07.003713Z",
     "shell.execute_reply": "2025-07-28T10:54:07.002525Z"
    },
    "papermill": {
     "duration": 0.18094,
     "end_time": "2025-07-28T10:54:07.005975",
     "exception": false,
     "start_time": "2025-07-28T10:54:06.825035",
     "status": "completed"
    },
    "tags": []
   },
   "outputs": [],
   "source": [
    "# Auxiliary data needed downstream in the pipeline\n",
    "\n",
    "org_train = X_train.copy()\n",
    "org_test = X_test.copy()\n",
    "org_calib = X_calib.copy()"
   ]
  },
  {
   "cell_type": "markdown",
   "id": "0a4a1b33",
   "metadata": {
    "papermill": {
     "duration": 0.020584,
     "end_time": "2025-07-28T10:54:07.048684",
     "exception": false,
     "start_time": "2025-07-28T10:54:07.028100",
     "status": "completed"
    },
    "tags": []
   },
   "source": [
    "# Preprocessing Data"
   ]
  },
  {
   "cell_type": "code",
   "execution_count": 22,
   "id": "ca879031",
   "metadata": {
    "execution": {
     "iopub.execute_input": "2025-07-28T10:54:07.093292Z",
     "iopub.status.busy": "2025-07-28T10:54:07.092665Z",
     "iopub.status.idle": "2025-07-28T10:54:07.100737Z",
     "shell.execute_reply": "2025-07-28T10:54:07.099376Z"
    },
    "papermill": {
     "duration": 0.033169,
     "end_time": "2025-07-28T10:54:07.102636",
     "exception": false,
     "start_time": "2025-07-28T10:54:07.069467",
     "status": "completed"
    },
    "tags": []
   },
   "outputs": [],
   "source": [
    "# EXCLUDE PROTECTED FEATURES\n",
    "# ----------------------\n",
    "# \"exclude_features\": \"none\", # \"nationality\", \"sex\", \"nationality-sex\"\n",
    "\n",
    "excluded_features = universe[\"exclude_features\"].split(\"-\") # split, e.g.: \"nationality-sex\" -> [\"nationality\", \"sex\"]\n",
    "excluded_features_dictionary = {\n",
    "    \"nationality\": [\"maxdeutsch1\", \"maxdeutsch.Missing.\"],\n",
    "    \"sex\": [\"frau1\"],\n",
    "    \"age\": [\"age\"],\n",
    "}\n"
   ]
  },
  {
   "cell_type": "code",
   "execution_count": 23,
   "id": "b745ac60",
   "metadata": {
    "execution": {
     "iopub.execute_input": "2025-07-28T10:54:07.146439Z",
     "iopub.status.busy": "2025-07-28T10:54:07.145858Z",
     "iopub.status.idle": "2025-07-28T10:54:07.152971Z",
     "shell.execute_reply": "2025-07-28T10:54:07.151783Z"
    },
    "papermill": {
     "duration": 0.031339,
     "end_time": "2025-07-28T10:54:07.154886",
     "exception": false,
     "start_time": "2025-07-28T10:54:07.123547",
     "status": "completed"
    },
    "tags": []
   },
   "outputs": [],
   "source": [
    "# Code nice names to column names\n",
    "\n",
    "excluded_features_columns = [\n",
    "    excluded_features_dictionary[f] for f in excluded_features if len(f) > 0 and f != \"none\"\n",
    "]"
   ]
  },
  {
   "cell_type": "code",
   "execution_count": 24,
   "id": "f84f73a2",
   "metadata": {
    "execution": {
     "iopub.execute_input": "2025-07-28T10:54:07.199688Z",
     "iopub.status.busy": "2025-07-28T10:54:07.199074Z",
     "iopub.status.idle": "2025-07-28T10:54:07.206485Z",
     "shell.execute_reply": "2025-07-28T10:54:07.205436Z"
    },
    "papermill": {
     "duration": 0.031778,
     "end_time": "2025-07-28T10:54:07.208368",
     "exception": false,
     "start_time": "2025-07-28T10:54:07.176590",
     "status": "completed"
    },
    "tags": []
   },
   "outputs": [],
   "source": [
    "from utils import flatten_once\n",
    "\n",
    "excluded_features_columns = flatten_once(excluded_features_columns)"
   ]
  },
  {
   "cell_type": "code",
   "execution_count": 25,
   "id": "884dea22",
   "metadata": {
    "execution": {
     "iopub.execute_input": "2025-07-28T10:54:07.254292Z",
     "iopub.status.busy": "2025-07-28T10:54:07.253756Z",
     "iopub.status.idle": "2025-07-28T10:54:07.310231Z",
     "shell.execute_reply": "2025-07-28T10:54:07.308671Z"
    },
    "papermill": {
     "duration": 0.081379,
     "end_time": "2025-07-28T10:54:07.311898",
     "exception": false,
     "start_time": "2025-07-28T10:54:07.230519",
     "status": "completed"
    },
    "tags": []
   },
   "outputs": [
    {
     "name": "stdout",
     "output_type": "stream",
     "text": [
      "Dropping features: ['maxdeutsch1', 'maxdeutsch.Missing.', 'frau1']\n"
     ]
    }
   ],
   "source": [
    "if len(excluded_features_columns) > 0:\n",
    "    print(f\"Dropping features: {excluded_features_columns}\")\n",
    "    X_train.drop(excluded_features_columns, axis=1, inplace=True)"
   ]
  },
  {
   "cell_type": "code",
   "execution_count": 26,
   "id": "95ab8b16",
   "metadata": {
    "execution": {
     "iopub.execute_input": "2025-07-28T10:54:07.357766Z",
     "iopub.status.busy": "2025-07-28T10:54:07.356968Z",
     "iopub.status.idle": "2025-07-28T10:54:07.415301Z",
     "shell.execute_reply": "2025-07-28T10:54:07.414307Z"
    },
    "papermill": {
     "duration": 0.083989,
     "end_time": "2025-07-28T10:54:07.417016",
     "exception": false,
     "start_time": "2025-07-28T10:54:07.333027",
     "status": "completed"
    },
    "tags": []
   },
   "outputs": [
    {
     "name": "stdout",
     "output_type": "stream",
     "text": [
      "Dropping features: ['maxdeutsch1', 'maxdeutsch.Missing.', 'frau1']\n"
     ]
    }
   ],
   "source": [
    "if len(excluded_features_columns) > 0:\n",
    "    print(f\"Dropping features: {excluded_features_columns}\")\n",
    "    X_test.drop(excluded_features_columns, axis=1, inplace=True)"
   ]
  },
  {
   "cell_type": "code",
   "execution_count": 27,
   "id": "1853aaf5-fb9f-46cb-a2b5-8ea4ae2237e4",
   "metadata": {
    "execution": {
     "iopub.execute_input": "2025-07-28T10:54:07.461714Z",
     "iopub.status.busy": "2025-07-28T10:54:07.460707Z",
     "iopub.status.idle": "2025-07-28T10:54:07.514139Z",
     "shell.execute_reply": "2025-07-28T10:54:07.513095Z"
    },
    "papermill": {
     "duration": 0.077611,
     "end_time": "2025-07-28T10:54:07.516043",
     "exception": false,
     "start_time": "2025-07-28T10:54:07.438432",
     "status": "completed"
    },
    "tags": []
   },
   "outputs": [
    {
     "name": "stdout",
     "output_type": "stream",
     "text": [
      "Dropping features: ['maxdeutsch1', 'maxdeutsch.Missing.', 'frau1']\n"
     ]
    }
   ],
   "source": [
    "if len(excluded_features_columns) > 0:\n",
    "    print(f\"Dropping features: {excluded_features_columns}\")\n",
    "    X_calib.drop(excluded_features_columns, axis=1, inplace=True)"
   ]
  },
  {
   "cell_type": "code",
   "execution_count": 28,
   "id": "6727d079-03e5-481e-9d38-292a90b7a0a8",
   "metadata": {
    "execution": {
     "iopub.execute_input": "2025-07-28T10:54:07.561092Z",
     "iopub.status.busy": "2025-07-28T10:54:07.560197Z",
     "iopub.status.idle": "2025-07-28T10:54:07.565402Z",
     "shell.execute_reply": "2025-07-28T10:54:07.564268Z"
    },
    "papermill": {
     "duration": 0.0294,
     "end_time": "2025-07-28T10:54:07.567042",
     "exception": false,
     "start_time": "2025-07-28T10:54:07.537642",
     "status": "completed"
    },
    "tags": []
   },
   "outputs": [],
   "source": [
    "# SPLIT & STRATIFY DATA\n",
    "# ----------------------"
   ]
  },
  {
   "cell_type": "code",
   "execution_count": 29,
   "id": "76c4dc6d",
   "metadata": {
    "execution": {
     "iopub.execute_input": "2025-07-28T10:54:07.611922Z",
     "iopub.status.busy": "2025-07-28T10:54:07.610954Z",
     "iopub.status.idle": "2025-07-28T10:54:07.616957Z",
     "shell.execute_reply": "2025-07-28T10:54:07.615811Z"
    },
    "papermill": {
     "duration": 0.029578,
     "end_time": "2025-07-28T10:54:07.618788",
     "exception": false,
     "start_time": "2025-07-28T10:54:07.589210",
     "status": "completed"
    },
    "tags": []
   },
   "outputs": [],
   "source": [
    "# EXCLUDE CERTAIN SUBGROUPS\n",
    "# ----------------------\n",
    "\n",
    "mode = universe.get(\"exclude_subgroups\", \"keep-all\") \n",
    "# Fetches the exclude_subgroups setting from the universe dict.\n",
    "# Defaults to \"keep-all\" if the key is missing."
   ]
  },
  {
   "cell_type": "code",
   "execution_count": 30,
   "id": "21994072",
   "metadata": {
    "execution": {
     "iopub.execute_input": "2025-07-28T10:54:07.664335Z",
     "iopub.status.busy": "2025-07-28T10:54:07.663761Z",
     "iopub.status.idle": "2025-07-28T10:54:07.671042Z",
     "shell.execute_reply": "2025-07-28T10:54:07.670090Z"
    },
    "papermill": {
     "duration": 0.032301,
     "end_time": "2025-07-28T10:54:07.672641",
     "exception": false,
     "start_time": "2025-07-28T10:54:07.640340",
     "status": "completed"
    },
    "tags": []
   },
   "outputs": [],
   "source": [
    "if mode == \"keep-all\":\n",
    "    keep_mask = pd.Series(True, index=org_train.index)\n",
    "\n",
    "# org_train contains the original feature columns from features_org (in Simson)\n",
    "# features_org contains unprocessed features, for me X_train at beginning ???\n",
    "# For keep-all, creates a boolean Series (keep_mask) of all True, so no rows are removed.\n",
    "\n",
    "elif mode == \"drop-non-german\":\n",
    "    keep_mask = org_train[\"maxdeutsch1\"] == 1 # ??? what about missing values?\n",
    "\n",
    "else:\n",
    "    raise ValueError(f\"Unsupported mode for exclude_subgroups: {mode}\")\n"
   ]
  },
  {
   "cell_type": "code",
   "execution_count": 31,
   "id": "71651440",
   "metadata": {
    "execution": {
     "iopub.execute_input": "2025-07-28T10:54:07.721467Z",
     "iopub.status.busy": "2025-07-28T10:54:07.720595Z",
     "iopub.status.idle": "2025-07-28T10:54:07.729067Z",
     "shell.execute_reply": "2025-07-28T10:54:07.727997Z"
    },
    "papermill": {
     "duration": 0.037186,
     "end_time": "2025-07-28T10:54:07.730813",
     "exception": false,
     "start_time": "2025-07-28T10:54:07.693627",
     "status": "completed"
    },
    "tags": []
   },
   "outputs": [
    {
     "name": "stdout",
     "output_type": "stream",
     "text": [
      "Dropping 12995 rows (14.91%) where mode='drop-non-german'\n"
     ]
    }
   ],
   "source": [
    "n_drop = (~keep_mask).sum() # Calculates how many rows are set to be dropped\n",
    "if n_drop > 0:\n",
    "    pct = n_drop / len(keep_mask) * 100\n",
    "    print(f\"Dropping {n_drop} rows ({pct:.2f}%) where mode='{mode}'\")"
   ]
  },
  {
   "cell_type": "code",
   "execution_count": 32,
   "id": "5fb8eee5",
   "metadata": {
    "execution": {
     "iopub.execute_input": "2025-07-28T10:54:07.782134Z",
     "iopub.status.busy": "2025-07-28T10:54:07.781646Z",
     "iopub.status.idle": "2025-07-28T10:54:07.836757Z",
     "shell.execute_reply": "2025-07-28T10:54:07.835698Z"
    },
    "papermill": {
     "duration": 0.083168,
     "end_time": "2025-07-28T10:54:07.838820",
     "exception": false,
     "start_time": "2025-07-28T10:54:07.755652",
     "status": "completed"
    },
    "tags": []
   },
   "outputs": [],
   "source": [
    "X_train = X_train[keep_mask]"
   ]
  },
  {
   "cell_type": "code",
   "execution_count": 33,
   "id": "b202bb3a",
   "metadata": {
    "execution": {
     "iopub.execute_input": "2025-07-28T10:54:07.886265Z",
     "iopub.status.busy": "2025-07-28T10:54:07.885232Z",
     "iopub.status.idle": "2025-07-28T10:54:07.908079Z",
     "shell.execute_reply": "2025-07-28T10:54:07.892355Z"
    },
    "papermill": {
     "duration": 0.048182,
     "end_time": "2025-07-28T10:54:07.909851",
     "exception": false,
     "start_time": "2025-07-28T10:54:07.861669",
     "status": "completed"
    },
    "tags": []
   },
   "outputs": [],
   "source": [
    "y_train = y_train[keep_mask]"
   ]
  },
  {
   "cell_type": "markdown",
   "id": "493e2ac3",
   "metadata": {
    "papermill": {
     "duration": 0.024466,
     "end_time": "2025-07-28T10:54:07.959762",
     "exception": false,
     "start_time": "2025-07-28T10:54:07.935296",
     "status": "completed"
    },
    "tags": []
   },
   "source": [
    "# Model Training"
   ]
  },
  {
   "cell_type": "code",
   "execution_count": 34,
   "id": "679e1268",
   "metadata": {
    "execution": {
     "iopub.execute_input": "2025-07-28T10:54:08.010990Z",
     "iopub.status.busy": "2025-07-28T10:54:08.010469Z",
     "iopub.status.idle": "2025-07-28T10:54:08.121721Z",
     "shell.execute_reply": "2025-07-28T10:54:08.120792Z"
    },
    "papermill": {
     "duration": 0.139497,
     "end_time": "2025-07-28T10:54:08.123865",
     "exception": false,
     "start_time": "2025-07-28T10:54:07.984368",
     "status": "completed"
    },
    "tags": []
   },
   "outputs": [],
   "source": [
    "from sklearn.linear_model import LogisticRegression\n",
    "from sklearn.ensemble import GradientBoostingClassifier, RandomForestClassifier\n",
    "\n",
    "if (universe[\"model\"] == \"logreg\"):\n",
    "    model = LogisticRegression() #penalty=\"none\") #, solver=\"newton-cg\", max_iter=1) # include random_state=19 ?\n",
    "elif (universe[\"model\"] == \"penalized_logreg\"):\n",
    "    model = LogisticRegression(penalty=\"l2\", C=1.0) #, solver=\"newton-cg\", max_iter=1)\n",
    "elif (universe[\"model\"] == \"rf\"):\n",
    "    model = RandomForestClassifier(n_estimators=100, n_jobs=-1)\n",
    "elif (universe[\"model\"] == \"gbm\"):\n",
    "    model = GradientBoostingClassifier()\n",
    "elif (universe[\"model\"] == \"elasticnet\"):\n",
    "    model = LogisticRegression(penalty = 'elasticnet', solver = 'saga', l1_ratio = 0.5, max_iter=5000) # which solver to use?\n",
    "else:\n",
    "    raise \"Unsupported universe.model\""
   ]
  },
  {
   "cell_type": "code",
   "execution_count": 35,
   "id": "0cc8f744",
   "metadata": {
    "execution": {
     "iopub.execute_input": "2025-07-28T10:54:08.190932Z",
     "iopub.status.busy": "2025-07-28T10:54:08.189932Z",
     "iopub.status.idle": "2025-07-28T10:54:08.196754Z",
     "shell.execute_reply": "2025-07-28T10:54:08.195689Z"
    },
    "papermill": {
     "duration": 0.035826,
     "end_time": "2025-07-28T10:54:08.198536",
     "exception": false,
     "start_time": "2025-07-28T10:54:08.162710",
     "status": "completed"
    },
    "tags": []
   },
   "outputs": [],
   "source": [
    "import numpy as np\n",
    "from sklearn.pipeline import Pipeline\n",
    "from sklearn.preprocessing import StandardScaler\n",
    "\n",
    "model = Pipeline([\n",
    "    #(\"continuous_processor\", continuous_processor),\n",
    "    #(\"categorical_preprocessor\", categorical_preprocessor),\n",
    "    (\"scale\", StandardScaler() if universe[\"scale\"] == \"scale\" else None), \n",
    "    (\"model\", model),\n",
    "])"
   ]
  },
  {
   "cell_type": "code",
   "execution_count": 36,
   "id": "9442c04d",
   "metadata": {
    "execution": {
     "iopub.execute_input": "2025-07-28T10:54:08.251387Z",
     "iopub.status.busy": "2025-07-28T10:54:08.250852Z",
     "iopub.status.idle": "2025-07-28T10:54:11.271888Z",
     "shell.execute_reply": "2025-07-28T10:54:11.271167Z"
    },
    "papermill": {
     "duration": 3.048699,
     "end_time": "2025-07-28T10:54:11.273226",
     "exception": false,
     "start_time": "2025-07-28T10:54:08.224527",
     "status": "completed"
    },
    "tags": []
   },
   "outputs": [
    {
     "name": "stderr",
     "output_type": "stream",
     "text": [
      "/dss/dsshome1/0C/ra93lal2/.local/share/virtualenvs/CMA_Fairness_v2-3j10GkSs/lib/python3.10/site-packages/sklearn/linear_model/_logistic.py:444: ConvergenceWarning: lbfgs failed to converge (status=1):\n",
      "STOP: TOTAL NO. of ITERATIONS REACHED LIMIT.\n",
      "\n",
      "Increase the number of iterations (max_iter) or scale the data as shown in:\n",
      "    https://scikit-learn.org/stable/modules/preprocessing.html\n",
      "Please also refer to the documentation for alternative solver options:\n",
      "    https://scikit-learn.org/stable/modules/linear_model.html#logistic-regression\n",
      "  n_iter_i = _check_optimize_result(\n"
     ]
    },
    {
     "data": {
      "text/html": [
       "<style>#sk-container-id-1 {color: black;background-color: white;}#sk-container-id-1 pre{padding: 0;}#sk-container-id-1 div.sk-toggleable {background-color: white;}#sk-container-id-1 label.sk-toggleable__label {cursor: pointer;display: block;width: 100%;margin-bottom: 0;padding: 0.3em;box-sizing: border-box;text-align: center;}#sk-container-id-1 label.sk-toggleable__label-arrow:before {content: \"▸\";float: left;margin-right: 0.25em;color: #696969;}#sk-container-id-1 label.sk-toggleable__label-arrow:hover:before {color: black;}#sk-container-id-1 div.sk-estimator:hover label.sk-toggleable__label-arrow:before {color: black;}#sk-container-id-1 div.sk-toggleable__content {max-height: 0;max-width: 0;overflow: hidden;text-align: left;background-color: #f0f8ff;}#sk-container-id-1 div.sk-toggleable__content pre {margin: 0.2em;color: black;border-radius: 0.25em;background-color: #f0f8ff;}#sk-container-id-1 input.sk-toggleable__control:checked~div.sk-toggleable__content {max-height: 200px;max-width: 100%;overflow: auto;}#sk-container-id-1 input.sk-toggleable__control:checked~label.sk-toggleable__label-arrow:before {content: \"▾\";}#sk-container-id-1 div.sk-estimator input.sk-toggleable__control:checked~label.sk-toggleable__label {background-color: #d4ebff;}#sk-container-id-1 div.sk-label input.sk-toggleable__control:checked~label.sk-toggleable__label {background-color: #d4ebff;}#sk-container-id-1 input.sk-hidden--visually {border: 0;clip: rect(1px 1px 1px 1px);clip: rect(1px, 1px, 1px, 1px);height: 1px;margin: -1px;overflow: hidden;padding: 0;position: absolute;width: 1px;}#sk-container-id-1 div.sk-estimator {font-family: monospace;background-color: #f0f8ff;border: 1px dotted black;border-radius: 0.25em;box-sizing: border-box;margin-bottom: 0.5em;}#sk-container-id-1 div.sk-estimator:hover {background-color: #d4ebff;}#sk-container-id-1 div.sk-parallel-item::after {content: \"\";width: 100%;border-bottom: 1px solid gray;flex-grow: 1;}#sk-container-id-1 div.sk-label:hover label.sk-toggleable__label {background-color: #d4ebff;}#sk-container-id-1 div.sk-serial::before {content: \"\";position: absolute;border-left: 1px solid gray;box-sizing: border-box;top: 0;bottom: 0;left: 50%;z-index: 0;}#sk-container-id-1 div.sk-serial {display: flex;flex-direction: column;align-items: center;background-color: white;padding-right: 0.2em;padding-left: 0.2em;position: relative;}#sk-container-id-1 div.sk-item {position: relative;z-index: 1;}#sk-container-id-1 div.sk-parallel {display: flex;align-items: stretch;justify-content: center;background-color: white;position: relative;}#sk-container-id-1 div.sk-item::before, #sk-container-id-1 div.sk-parallel-item::before {content: \"\";position: absolute;border-left: 1px solid gray;box-sizing: border-box;top: 0;bottom: 0;left: 50%;z-index: -1;}#sk-container-id-1 div.sk-parallel-item {display: flex;flex-direction: column;z-index: 1;position: relative;background-color: white;}#sk-container-id-1 div.sk-parallel-item:first-child::after {align-self: flex-end;width: 50%;}#sk-container-id-1 div.sk-parallel-item:last-child::after {align-self: flex-start;width: 50%;}#sk-container-id-1 div.sk-parallel-item:only-child::after {width: 0;}#sk-container-id-1 div.sk-dashed-wrapped {border: 1px dashed gray;margin: 0 0.4em 0.5em 0.4em;box-sizing: border-box;padding-bottom: 0.4em;background-color: white;}#sk-container-id-1 div.sk-label label {font-family: monospace;font-weight: bold;display: inline-block;line-height: 1.2em;}#sk-container-id-1 div.sk-label-container {text-align: center;}#sk-container-id-1 div.sk-container {/* jupyter's `normalize.less` sets `[hidden] { display: none; }` but bootstrap.min.css set `[hidden] { display: none !important; }` so we also need the `!important` here to be able to override the default hidden behavior on the sphinx rendered scikit-learn.org. See: https://github.com/scikit-learn/scikit-learn/issues/21755 */display: inline-block !important;position: relative;}#sk-container-id-1 div.sk-text-repr-fallback {display: none;}</style><div id=\"sk-container-id-1\" class=\"sk-top-container\"><div class=\"sk-text-repr-fallback\"><pre>Pipeline(steps=[(&#x27;scale&#x27;, StandardScaler()), (&#x27;model&#x27;, LogisticRegression())])</pre><b>In a Jupyter environment, please rerun this cell to show the HTML representation or trust the notebook. <br />On GitHub, the HTML representation is unable to render, please try loading this page with nbviewer.org.</b></div><div class=\"sk-container\" hidden><div class=\"sk-item sk-dashed-wrapped\"><div class=\"sk-label-container\"><div class=\"sk-label sk-toggleable\"><input class=\"sk-toggleable__control sk-hidden--visually\" id=\"sk-estimator-id-1\" type=\"checkbox\" ><label for=\"sk-estimator-id-1\" class=\"sk-toggleable__label sk-toggleable__label-arrow\">Pipeline</label><div class=\"sk-toggleable__content\"><pre>Pipeline(steps=[(&#x27;scale&#x27;, StandardScaler()), (&#x27;model&#x27;, LogisticRegression())])</pre></div></div></div><div class=\"sk-serial\"><div class=\"sk-item\"><div class=\"sk-estimator sk-toggleable\"><input class=\"sk-toggleable__control sk-hidden--visually\" id=\"sk-estimator-id-2\" type=\"checkbox\" ><label for=\"sk-estimator-id-2\" class=\"sk-toggleable__label sk-toggleable__label-arrow\">StandardScaler</label><div class=\"sk-toggleable__content\"><pre>StandardScaler()</pre></div></div></div><div class=\"sk-item\"><div class=\"sk-estimator sk-toggleable\"><input class=\"sk-toggleable__control sk-hidden--visually\" id=\"sk-estimator-id-3\" type=\"checkbox\" ><label for=\"sk-estimator-id-3\" class=\"sk-toggleable__label sk-toggleable__label-arrow\">LogisticRegression</label><div class=\"sk-toggleable__content\"><pre>LogisticRegression()</pre></div></div></div></div></div></div></div>"
      ],
      "text/plain": [
       "Pipeline(steps=[('scale', StandardScaler()), ('model', LogisticRegression())])"
      ]
     },
     "execution_count": 36,
     "metadata": {},
     "output_type": "execute_result"
    }
   ],
   "source": [
    "model.fit(X_train, y_train.values.ravel())"
   ]
  },
  {
   "cell_type": "code",
   "execution_count": 37,
   "id": "af59f8c0",
   "metadata": {
    "execution": {
     "iopub.execute_input": "2025-07-28T10:54:11.301162Z",
     "iopub.status.busy": "2025-07-28T10:54:11.300787Z",
     "iopub.status.idle": "2025-07-28T10:54:11.305573Z",
     "shell.execute_reply": "2025-07-28T10:54:11.304599Z"
    },
    "papermill": {
     "duration": 0.01938,
     "end_time": "2025-07-28T10:54:11.307027",
     "exception": false,
     "start_time": "2025-07-28T10:54:11.287647",
     "status": "completed"
    },
    "tags": []
   },
   "outputs": [],
   "source": [
    "from fairness_multiverse.universe import predict_w_threshold"
   ]
  },
  {
   "cell_type": "code",
   "execution_count": 38,
   "id": "a7cf2e16",
   "metadata": {
    "execution": {
     "iopub.execute_input": "2025-07-28T10:54:11.334280Z",
     "iopub.status.busy": "2025-07-28T10:54:11.333296Z",
     "iopub.status.idle": "2025-07-28T10:54:11.508359Z",
     "shell.execute_reply": "2025-07-28T10:54:11.507320Z"
    },
    "papermill": {
     "duration": 0.18967,
     "end_time": "2025-07-28T10:54:11.509654",
     "exception": false,
     "start_time": "2025-07-28T10:54:11.319984",
     "status": "completed"
    },
    "tags": []
   },
   "outputs": [
    {
     "data": {
      "text/plain": [
       "0.8667595585776391"
      ]
     },
     "execution_count": 38,
     "metadata": {},
     "output_type": "execute_result"
    }
   ],
   "source": [
    "probs_test = model.predict_proba(X_test)\n",
    "\n",
    "'''\n",
    "Below code returns a boolean array (or binary 0/1 array depending on how it’s used) where each element \n",
    "is True if the probability of class 1 is greater than or equal to the threshold, and False otherwise.\n",
    "'''\n",
    "y_pred_default = predict_w_threshold(probs_test, 0.5)\n",
    "\n",
    "from sklearn.metrics import accuracy_score\n",
    "\n",
    "# Naive prediction\n",
    "accuracy_score(y_true = y_true, y_pred = y_pred_default)"
   ]
  },
  {
   "cell_type": "code",
   "execution_count": 39,
   "id": "081964c3",
   "metadata": {
    "execution": {
     "iopub.execute_input": "2025-07-28T10:54:11.535994Z",
     "iopub.status.busy": "2025-07-28T10:54:11.535637Z",
     "iopub.status.idle": "2025-07-28T10:54:11.702540Z",
     "shell.execute_reply": "2025-07-28T10:54:11.701605Z"
    },
    "papermill": {
     "duration": 0.181783,
     "end_time": "2025-07-28T10:54:11.703994",
     "exception": false,
     "start_time": "2025-07-28T10:54:11.522211",
     "status": "completed"
    },
    "tags": []
   },
   "outputs": [
    {
     "data": {
      "text/plain": [
       "array([0, 0, 0, ..., 0, 0, 0])"
      ]
     },
     "execution_count": 39,
     "metadata": {},
     "output_type": "execute_result"
    }
   ],
   "source": [
    "model.predict(X_test)"
   ]
  },
  {
   "cell_type": "markdown",
   "id": "56c9705b",
   "metadata": {
    "papermill": {
     "duration": 0.012371,
     "end_time": "2025-07-28T10:54:11.728712",
     "exception": false,
     "start_time": "2025-07-28T10:54:11.716341",
     "status": "completed"
    },
    "tags": []
   },
   "source": [
    "# Conformal Prediction"
   ]
  },
  {
   "cell_type": "code",
   "execution_count": 40,
   "id": "160ec6ff",
   "metadata": {
    "execution": {
     "iopub.execute_input": "2025-07-28T10:54:11.755175Z",
     "iopub.status.busy": "2025-07-28T10:54:11.754636Z",
     "iopub.status.idle": "2025-07-28T10:54:11.759491Z",
     "shell.execute_reply": "2025-07-28T10:54:11.758746Z"
    },
    "papermill": {
     "duration": 0.019537,
     "end_time": "2025-07-28T10:54:11.760905",
     "exception": false,
     "start_time": "2025-07-28T10:54:11.741368",
     "status": "completed"
    },
    "tags": []
   },
   "outputs": [],
   "source": [
    "# Miscoverage level for conformal prediction (10% allowed error rate => 90% target coverage)\n",
    "alpha = 0.1"
   ]
  },
  {
   "cell_type": "code",
   "execution_count": 41,
   "id": "eadf4555-3dd3-440e-8e35-f82a4ad9f855",
   "metadata": {
    "execution": {
     "iopub.execute_input": "2025-07-28T10:54:11.787745Z",
     "iopub.status.busy": "2025-07-28T10:54:11.787200Z",
     "iopub.status.idle": "2025-07-28T10:54:11.953853Z",
     "shell.execute_reply": "2025-07-28T10:54:11.953078Z"
    },
    "papermill": {
     "duration": 0.181533,
     "end_time": "2025-07-28T10:54:11.955479",
     "exception": false,
     "start_time": "2025-07-28T10:54:11.773946",
     "status": "completed"
    },
    "tags": []
   },
   "outputs": [],
   "source": [
    "probs_calib = model.predict_proba(X_calib)"
   ]
  },
  {
   "cell_type": "code",
   "execution_count": 42,
   "id": "2ed93547-6d5d-4983-9b36-1ecb300da49a",
   "metadata": {
    "execution": {
     "iopub.execute_input": "2025-07-28T10:54:11.982262Z",
     "iopub.status.busy": "2025-07-28T10:54:11.981897Z",
     "iopub.status.idle": "2025-07-28T10:54:11.987330Z",
     "shell.execute_reply": "2025-07-28T10:54:11.986586Z"
    },
    "papermill": {
     "duration": 0.020729,
     "end_time": "2025-07-28T10:54:11.988933",
     "exception": false,
     "start_time": "2025-07-28T10:54:11.968204",
     "status": "completed"
    },
    "tags": []
   },
   "outputs": [],
   "source": [
    "y_calib = y_calib.values.ravel().astype(int)"
   ]
  },
  {
   "cell_type": "code",
   "execution_count": 43,
   "id": "65d1320d-f588-4b38-9072-62af1ae97f7d",
   "metadata": {
    "execution": {
     "iopub.execute_input": "2025-07-28T10:54:12.016096Z",
     "iopub.status.busy": "2025-07-28T10:54:12.015544Z",
     "iopub.status.idle": "2025-07-28T10:54:12.022322Z",
     "shell.execute_reply": "2025-07-28T10:54:12.021505Z"
    },
    "papermill": {
     "duration": 0.021862,
     "end_time": "2025-07-28T10:54:12.023895",
     "exception": false,
     "start_time": "2025-07-28T10:54:12.002033",
     "status": "completed"
    },
    "tags": []
   },
   "outputs": [],
   "source": [
    "from fairness_multiverse.conformal import compute_nc_scores\n",
    "\n",
    "# Compute nonconformity scores on calibration set (1 - probability of true class)\n",
    "nc_scores = compute_nc_scores(probs_calib, y_calib)"
   ]
  },
  {
   "cell_type": "code",
   "execution_count": 44,
   "id": "df3b8ca3-53b7-43d5-9667-7c85da7aeda2",
   "metadata": {
    "execution": {
     "iopub.execute_input": "2025-07-28T10:54:12.051195Z",
     "iopub.status.busy": "2025-07-28T10:54:12.050677Z",
     "iopub.status.idle": "2025-07-28T10:54:12.056980Z",
     "shell.execute_reply": "2025-07-28T10:54:12.056252Z"
    },
    "papermill": {
     "duration": 0.021481,
     "end_time": "2025-07-28T10:54:12.058320",
     "exception": false,
     "start_time": "2025-07-28T10:54:12.036839",
     "status": "completed"
    },
    "tags": []
   },
   "outputs": [],
   "source": [
    "from fairness_multiverse.conformal import find_threshold\n",
    "\n",
    "# Find conformal threshold q_hat for the given alpha (split conformal method)\n",
    "q_hat = find_threshold(nc_scores, alpha)"
   ]
  },
  {
   "cell_type": "code",
   "execution_count": 45,
   "id": "4d29e6c1-0ef6-4aa4-b8fe-4fe79b0d033a",
   "metadata": {
    "execution": {
     "iopub.execute_input": "2025-07-28T10:54:12.097730Z",
     "iopub.status.busy": "2025-07-28T10:54:12.097206Z",
     "iopub.status.idle": "2025-07-28T10:54:12.104790Z",
     "shell.execute_reply": "2025-07-28T10:54:12.103774Z"
    },
    "papermill": {
     "duration": 0.035098,
     "end_time": "2025-07-28T10:54:12.106546",
     "exception": false,
     "start_time": "2025-07-28T10:54:12.071448",
     "status": "completed"
    },
    "tags": []
   },
   "outputs": [
    {
     "data": {
      "text/plain": [
       "0.6739813060989431"
      ]
     },
     "execution_count": 45,
     "metadata": {},
     "output_type": "execute_result"
    }
   ],
   "source": [
    "q_hat"
   ]
  },
  {
   "cell_type": "code",
   "execution_count": 46,
   "id": "92460794-cdac-4be2-ba28-f28c0515a6fb",
   "metadata": {
    "execution": {
     "iopub.execute_input": "2025-07-28T10:54:12.156999Z",
     "iopub.status.busy": "2025-07-28T10:54:12.156458Z",
     "iopub.status.idle": "2025-07-28T10:54:13.093163Z",
     "shell.execute_reply": "2025-07-28T10:54:13.092066Z"
    },
    "papermill": {
     "duration": 0.96599,
     "end_time": "2025-07-28T10:54:13.095798",
     "exception": false,
     "start_time": "2025-07-28T10:54:12.129808",
     "status": "completed"
    },
    "tags": []
   },
   "outputs": [],
   "source": [
    "from fairness_multiverse.conformal import predict_conformal_sets\n",
    "\n",
    "# Generate prediction sets for each test example\n",
    "pred_sets = predict_conformal_sets(model, X_test, q_hat)"
   ]
  },
  {
   "cell_type": "code",
   "execution_count": 47,
   "id": "d90c9a65-e6db-4f5d-80cd-e68fb7e46829",
   "metadata": {
    "execution": {
     "iopub.execute_input": "2025-07-28T10:54:13.157636Z",
     "iopub.status.busy": "2025-07-28T10:54:13.157095Z",
     "iopub.status.idle": "2025-07-28T10:54:13.163188Z",
     "shell.execute_reply": "2025-07-28T10:54:13.162435Z"
    },
    "papermill": {
     "duration": 0.039061,
     "end_time": "2025-07-28T10:54:13.164508",
     "exception": false,
     "start_time": "2025-07-28T10:54:13.125447",
     "status": "completed"
    },
    "tags": []
   },
   "outputs": [],
   "source": [
    "y_true = y_true.squeeze()"
   ]
  },
  {
   "cell_type": "code",
   "execution_count": 48,
   "id": "3a58a54a-1e68-46b9-927a-df01f18aebc8",
   "metadata": {
    "execution": {
     "iopub.execute_input": "2025-07-28T10:54:13.190937Z",
     "iopub.status.busy": "2025-07-28T10:54:13.190202Z",
     "iopub.status.idle": "2025-07-28T10:54:14.071768Z",
     "shell.execute_reply": "2025-07-28T10:54:14.071027Z"
    },
    "papermill": {
     "duration": 0.896001,
     "end_time": "2025-07-28T10:54:14.073374",
     "exception": false,
     "start_time": "2025-07-28T10:54:13.177373",
     "status": "completed"
    },
    "tags": []
   },
   "outputs": [],
   "source": [
    "from fairness_multiverse.conformal import evaluate_sets\n",
    "\n",
    "# Evaluate coverage and average set size on test data\n",
    "metrics = evaluate_sets(pred_sets, y_true)"
   ]
  },
  {
   "cell_type": "markdown",
   "id": "2b569c12-9aaa-4c88-98c9-bbcd0cf3ebb8",
   "metadata": {
    "papermill": {
     "duration": 0.012607,
     "end_time": "2025-07-28T10:54:14.099032",
     "exception": false,
     "start_time": "2025-07-28T10:54:14.086425",
     "status": "completed"
    },
    "tags": []
   },
   "source": [
    "# CP Metrics"
   ]
  },
  {
   "cell_type": "code",
   "execution_count": 49,
   "id": "5ce0a5cb-201f-45a0-ade5-94c7f0bd6095",
   "metadata": {
    "execution": {
     "iopub.execute_input": "2025-07-28T10:54:14.126004Z",
     "iopub.status.busy": "2025-07-28T10:54:14.125463Z",
     "iopub.status.idle": "2025-07-28T10:54:14.132275Z",
     "shell.execute_reply": "2025-07-28T10:54:14.131489Z"
    },
    "papermill": {
     "duration": 0.022074,
     "end_time": "2025-07-28T10:54:14.133789",
     "exception": false,
     "start_time": "2025-07-28T10:54:14.111715",
     "status": "completed"
    },
    "tags": []
   },
   "outputs": [
    {
     "data": {
      "text/plain": [
       "{'coverage': 0.9123843495708394, 'avg_size': 1.1204213577081708}"
      ]
     },
     "execution_count": 49,
     "metadata": {},
     "output_type": "execute_result"
    }
   ],
   "source": [
    "metrics"
   ]
  },
  {
   "cell_type": "code",
   "execution_count": 50,
   "id": "9b9a838d-31c9-430b-ae14-12baee460d17",
   "metadata": {
    "execution": {
     "iopub.execute_input": "2025-07-28T10:54:14.161311Z",
     "iopub.status.busy": "2025-07-28T10:54:14.160805Z",
     "iopub.status.idle": "2025-07-28T10:54:14.166459Z",
     "shell.execute_reply": "2025-07-28T10:54:14.165717Z"
    },
    "papermill": {
     "duration": 0.020893,
     "end_time": "2025-07-28T10:54:14.167880",
     "exception": false,
     "start_time": "2025-07-28T10:54:14.146987",
     "status": "completed"
    },
    "tags": []
   },
   "outputs": [],
   "source": [
    "example_universe = universe.copy()\n",
    "universe_training_size = example_universe.get(\"training_size\")\n",
    "universe_scale = example_universe.get(\"scale\")\n",
    "universe_model = example_universe.get(\"model\")\n",
    "universe_exclude_features = example_universe.get(\"exclude_features\")\n",
    "universe_exclude_subgroups = example_universe.get(\"exclude_subgroups\")"
   ]
  },
  {
   "cell_type": "code",
   "execution_count": 51,
   "id": "f4b6a8ac-9dc0-4245-8a91-5b3b5999c4f9",
   "metadata": {
    "execution": {
     "iopub.execute_input": "2025-07-28T10:54:14.196492Z",
     "iopub.status.busy": "2025-07-28T10:54:14.195899Z",
     "iopub.status.idle": "2025-07-28T10:54:14.201341Z",
     "shell.execute_reply": "2025-07-28T10:54:14.200573Z"
    },
    "papermill": {
     "duration": 0.021208,
     "end_time": "2025-07-28T10:54:14.202753",
     "exception": false,
     "start_time": "2025-07-28T10:54:14.181545",
     "status": "completed"
    },
    "tags": []
   },
   "outputs": [],
   "source": [
    "cp_metrics_dict = {\n",
    "    \"universe_id\": [universe_id],\n",
    "    \"universe_training_size\": [universe_training_size],\n",
    "    \"universe_scale\": [universe_scale],\n",
    "    \"universe_model\": [universe_model],\n",
    "    \"universe_exclude_features\": [universe_exclude_features],\n",
    "    \"universe_exclude_subgroups\": [universe_exclude_subgroups],\n",
    "    \"q_hat\": [q_hat],\n",
    "    \"coverage\": [metrics[\"coverage\"]],\n",
    "    \"avg_size\": [metrics[\"avg_size\"]],\n",
    "}"
   ]
  },
  {
   "cell_type": "code",
   "execution_count": 52,
   "id": "908acbb1-0371-4915-85ca-3fa520d2efe2",
   "metadata": {
    "execution": {
     "iopub.execute_input": "2025-07-28T10:54:14.232092Z",
     "iopub.status.busy": "2025-07-28T10:54:14.231532Z",
     "iopub.status.idle": "2025-07-28T10:54:14.238353Z",
     "shell.execute_reply": "2025-07-28T10:54:14.237569Z"
    },
    "papermill": {
     "duration": 0.023139,
     "end_time": "2025-07-28T10:54:14.239733",
     "exception": false,
     "start_time": "2025-07-28T10:54:14.216594",
     "status": "completed"
    },
    "tags": []
   },
   "outputs": [
    {
     "data": {
      "text/plain": [
       "{'universe_id': ['0f64232f29a964d99a55b72417889875'],\n",
       " 'universe_training_size': ['2014'],\n",
       " 'universe_scale': ['scale'],\n",
       " 'universe_model': ['logreg'],\n",
       " 'universe_exclude_features': ['nationality-sex'],\n",
       " 'universe_exclude_subgroups': ['drop-non-german'],\n",
       " 'q_hat': [0.6739813060989431],\n",
       " 'coverage': [0.9123843495708394],\n",
       " 'avg_size': [1.1204213577081708]}"
      ]
     },
     "execution_count": 52,
     "metadata": {},
     "output_type": "execute_result"
    }
   ],
   "source": [
    "cp_metrics_dict"
   ]
  },
  {
   "cell_type": "code",
   "execution_count": 53,
   "id": "33007efc-14e9-4ec6-97ac-56a455c82265",
   "metadata": {
    "execution": {
     "iopub.execute_input": "2025-07-28T10:54:14.266625Z",
     "iopub.status.busy": "2025-07-28T10:54:14.266112Z",
     "iopub.status.idle": "2025-07-28T10:54:14.271071Z",
     "shell.execute_reply": "2025-07-28T10:54:14.270353Z"
    },
    "papermill": {
     "duration": 0.019521,
     "end_time": "2025-07-28T10:54:14.272512",
     "exception": false,
     "start_time": "2025-07-28T10:54:14.252991",
     "status": "completed"
    },
    "tags": []
   },
   "outputs": [],
   "source": [
    "cp_metrics_df = pd.DataFrame(cp_metrics_dict)"
   ]
  },
  {
   "cell_type": "code",
   "execution_count": 54,
   "id": "db12611b-57b2-4910-b9d0-355adfd6e7bf",
   "metadata": {
    "execution": {
     "iopub.execute_input": "2025-07-28T10:54:14.299224Z",
     "iopub.status.busy": "2025-07-28T10:54:14.298520Z",
     "iopub.status.idle": "2025-07-28T10:54:14.312109Z",
     "shell.execute_reply": "2025-07-28T10:54:14.311334Z"
    },
    "papermill": {
     "duration": 0.027955,
     "end_time": "2025-07-28T10:54:14.313438",
     "exception": false,
     "start_time": "2025-07-28T10:54:14.285483",
     "status": "completed"
    },
    "tags": []
   },
   "outputs": [
    {
     "data": {
      "text/html": [
       "<div>\n",
       "<style scoped>\n",
       "    .dataframe tbody tr th:only-of-type {\n",
       "        vertical-align: middle;\n",
       "    }\n",
       "\n",
       "    .dataframe tbody tr th {\n",
       "        vertical-align: top;\n",
       "    }\n",
       "\n",
       "    .dataframe thead th {\n",
       "        text-align: right;\n",
       "    }\n",
       "</style>\n",
       "<table border=\"1\" class=\"dataframe\">\n",
       "  <thead>\n",
       "    <tr style=\"text-align: right;\">\n",
       "      <th></th>\n",
       "      <th>universe_id</th>\n",
       "      <th>universe_training_size</th>\n",
       "      <th>universe_scale</th>\n",
       "      <th>universe_model</th>\n",
       "      <th>universe_exclude_features</th>\n",
       "      <th>universe_exclude_subgroups</th>\n",
       "      <th>q_hat</th>\n",
       "      <th>coverage</th>\n",
       "      <th>avg_size</th>\n",
       "    </tr>\n",
       "  </thead>\n",
       "  <tbody>\n",
       "    <tr>\n",
       "      <th>0</th>\n",
       "      <td>0f64232f29a964d99a55b72417889875</td>\n",
       "      <td>2014</td>\n",
       "      <td>scale</td>\n",
       "      <td>logreg</td>\n",
       "      <td>nationality-sex</td>\n",
       "      <td>drop-non-german</td>\n",
       "      <td>0.673981</td>\n",
       "      <td>0.912384</td>\n",
       "      <td>1.120421</td>\n",
       "    </tr>\n",
       "  </tbody>\n",
       "</table>\n",
       "</div>"
      ],
      "text/plain": [
       "                        universe_id universe_training_size universe_scale  \\\n",
       "0  0f64232f29a964d99a55b72417889875                   2014          scale   \n",
       "\n",
       "  universe_model universe_exclude_features universe_exclude_subgroups  \\\n",
       "0         logreg           nationality-sex            drop-non-german   \n",
       "\n",
       "      q_hat  coverage  avg_size  \n",
       "0  0.673981  0.912384  1.120421  "
      ]
     },
     "execution_count": 54,
     "metadata": {},
     "output_type": "execute_result"
    }
   ],
   "source": [
    "cp_metrics_df"
   ]
  },
  {
   "cell_type": "code",
   "execution_count": 55,
   "id": "b7fbde55-a0a1-47e4-9af6-fe4a17fa8c61",
   "metadata": {
    "execution": {
     "iopub.execute_input": "2025-07-28T10:54:14.339949Z",
     "iopub.status.busy": "2025-07-28T10:54:14.339429Z",
     "iopub.status.idle": "2025-07-28T10:54:14.343521Z",
     "shell.execute_reply": "2025-07-28T10:54:14.342786Z"
    },
    "papermill": {
     "duration": 0.01877,
     "end_time": "2025-07-28T10:54:14.344918",
     "exception": false,
     "start_time": "2025-07-28T10:54:14.326148",
     "status": "completed"
    },
    "tags": []
   },
   "outputs": [],
   "source": [
    "# Conditional Coverage & looking at subgroups"
   ]
  },
  {
   "cell_type": "code",
   "execution_count": 56,
   "id": "027ae886-68dd-4141-96c7-805a5450e1ef",
   "metadata": {
    "execution": {
     "iopub.execute_input": "2025-07-28T10:54:14.371921Z",
     "iopub.status.busy": "2025-07-28T10:54:14.371322Z",
     "iopub.status.idle": "2025-07-28T10:54:14.562641Z",
     "shell.execute_reply": "2025-07-28T10:54:14.561851Z"
    },
    "papermill": {
     "duration": 0.206318,
     "end_time": "2025-07-28T10:54:14.564280",
     "exception": false,
     "start_time": "2025-07-28T10:54:14.357962",
     "status": "completed"
    },
    "tags": []
   },
   "outputs": [],
   "source": [
    "from fairness_multiverse.conformal import build_cp_groups\n",
    "\n",
    "cp_groups_df = build_cp_groups(pred_sets, y_true, X_test.index, org_test)\n",
    "#needs universe_id and setting"
   ]
  },
  {
   "cell_type": "code",
   "execution_count": 57,
   "id": "01d5802c-663a-4d1f-9d69-e036faaffbf7",
   "metadata": {
    "execution": {
     "iopub.execute_input": "2025-07-28T10:54:14.592563Z",
     "iopub.status.busy": "2025-07-28T10:54:14.592137Z",
     "iopub.status.idle": "2025-07-28T10:54:14.596319Z",
     "shell.execute_reply": "2025-07-28T10:54:14.595417Z"
    },
    "papermill": {
     "duration": 0.019761,
     "end_time": "2025-07-28T10:54:14.597614",
     "exception": false,
     "start_time": "2025-07-28T10:54:14.577853",
     "status": "completed"
    },
    "tags": []
   },
   "outputs": [],
   "source": [
    "#delete\n",
    "#cp_groups_df"
   ]
  },
  {
   "cell_type": "code",
   "execution_count": 58,
   "id": "fa424af1-d1eb-443d-b717-2d279ada8408",
   "metadata": {
    "execution": {
     "iopub.execute_input": "2025-07-28T10:54:14.638723Z",
     "iopub.status.busy": "2025-07-28T10:54:14.638271Z",
     "iopub.status.idle": "2025-07-28T10:54:14.643805Z",
     "shell.execute_reply": "2025-07-28T10:54:14.642787Z"
    },
    "papermill": {
     "duration": 0.034059,
     "end_time": "2025-07-28T10:54:14.645638",
     "exception": false,
     "start_time": "2025-07-28T10:54:14.611579",
     "status": "completed"
    },
    "tags": []
   },
   "outputs": [],
   "source": [
    "#delete\n",
    "#percentage = (cp_groups_df['nongerman_female'] == 1).mean() * 100\n",
    "#print(percentage)\n"
   ]
  },
  {
   "cell_type": "code",
   "execution_count": 59,
   "id": "6cbdab96-b2b2-45af-ad54-d0516db2e28d",
   "metadata": {
    "execution": {
     "iopub.execute_input": "2025-07-28T10:54:14.698894Z",
     "iopub.status.busy": "2025-07-28T10:54:14.698189Z",
     "iopub.status.idle": "2025-07-28T10:54:16.322179Z",
     "shell.execute_reply": "2025-07-28T10:54:16.321104Z"
    },
    "papermill": {
     "duration": 1.653019,
     "end_time": "2025-07-28T10:54:16.324204",
     "exception": false,
     "start_time": "2025-07-28T10:54:14.671185",
     "status": "completed"
    },
    "tags": []
   },
   "outputs": [],
   "source": [
    "# Define covered = 1 if true_label is in the predicted set\n",
    "cp_groups_df['covered'] = cp_groups_df.apply(\n",
    "    lambda r: int(r['true_label'] in r['pred_set']),\n",
    "    axis=1\n",
    ")"
   ]
  },
  {
   "cell_type": "code",
   "execution_count": 60,
   "id": "338ff529-1a6b-4b87-a931-8e4788d52aad",
   "metadata": {
    "execution": {
     "iopub.execute_input": "2025-07-28T10:54:16.376255Z",
     "iopub.status.busy": "2025-07-28T10:54:16.375783Z",
     "iopub.status.idle": "2025-07-28T10:54:16.380627Z",
     "shell.execute_reply": "2025-07-28T10:54:16.379811Z"
    },
    "papermill": {
     "duration": 0.028842,
     "end_time": "2025-07-28T10:54:16.382200",
     "exception": false,
     "start_time": "2025-07-28T10:54:16.353358",
     "status": "completed"
    },
    "tags": []
   },
   "outputs": [],
   "source": [
    "#cp_groups_df"
   ]
  },
  {
   "cell_type": "code",
   "execution_count": 61,
   "id": "90032e27-66df-4540-9169-4e89cfbaa758",
   "metadata": {
    "execution": {
     "iopub.execute_input": "2025-07-28T10:54:16.432828Z",
     "iopub.status.busy": "2025-07-28T10:54:16.432204Z",
     "iopub.status.idle": "2025-07-28T10:54:16.443766Z",
     "shell.execute_reply": "2025-07-28T10:54:16.442825Z"
    },
    "papermill": {
     "duration": 0.036851,
     "end_time": "2025-07-28T10:54:16.445857",
     "exception": false,
     "start_time": "2025-07-28T10:54:16.409006",
     "status": "completed"
    },
    "tags": []
   },
   "outputs": [],
   "source": [
    "subgroups = ['frau1','nongerman','nongerman_male','nongerman_female']\n",
    "\n",
    "# Conditional coverage for subgroup==1\n",
    "cond_coverage = {\n",
    "    g: cp_groups_df.loc[cp_groups_df[g]==1, 'covered'].mean()\n",
    "    for g in subgroups\n",
    "}"
   ]
  },
  {
   "cell_type": "code",
   "execution_count": 62,
   "id": "1e348fb1-b9c3-45bc-ba23-f016827a7e0d",
   "metadata": {
    "execution": {
     "iopub.execute_input": "2025-07-28T10:54:16.495742Z",
     "iopub.status.busy": "2025-07-28T10:54:16.494854Z",
     "iopub.status.idle": "2025-07-28T10:54:16.503038Z",
     "shell.execute_reply": "2025-07-28T10:54:16.501914Z"
    },
    "papermill": {
     "duration": 0.039247,
     "end_time": "2025-07-28T10:54:16.504865",
     "exception": false,
     "start_time": "2025-07-28T10:54:16.465618",
     "status": "completed"
    },
    "tags": []
   },
   "outputs": [
    {
     "data": {
      "text/plain": [
       "{'frau1': 0.9123062407332525,\n",
       " 'nongerman': 0.9093358782911357,\n",
       " 'nongerman_male': 0.9242547059353328,\n",
       " 'nongerman_female': 0.8846497764530551}"
      ]
     },
     "execution_count": 62,
     "metadata": {},
     "output_type": "execute_result"
    }
   ],
   "source": [
    "cond_coverage"
   ]
  },
  {
   "cell_type": "code",
   "execution_count": 63,
   "id": "f5093324-c3dd-4d63-bc4c-8d945e5c8bbb",
   "metadata": {
    "execution": {
     "iopub.execute_input": "2025-07-28T10:54:16.557812Z",
     "iopub.status.busy": "2025-07-28T10:54:16.556959Z",
     "iopub.status.idle": "2025-07-28T10:54:16.565989Z",
     "shell.execute_reply": "2025-07-28T10:54:16.564941Z"
    },
    "papermill": {
     "duration": 0.035365,
     "end_time": "2025-07-28T10:54:16.567710",
     "exception": false,
     "start_time": "2025-07-28T10:54:16.532345",
     "status": "completed"
    },
    "tags": []
   },
   "outputs": [],
   "source": [
    "for subgroup, cov in cond_coverage.items():\n",
    "    cp_metrics_df[f\"cov_{subgroup}\"] = cov"
   ]
  },
  {
   "cell_type": "code",
   "execution_count": 64,
   "id": "6e872e10-dbe5-49e8-b554-5030c98ff75d",
   "metadata": {
    "execution": {
     "iopub.execute_input": "2025-07-28T10:54:16.620467Z",
     "iopub.status.busy": "2025-07-28T10:54:16.619754Z",
     "iopub.status.idle": "2025-07-28T10:54:16.640866Z",
     "shell.execute_reply": "2025-07-28T10:54:16.639861Z"
    },
    "papermill": {
     "duration": 0.049148,
     "end_time": "2025-07-28T10:54:16.642623",
     "exception": false,
     "start_time": "2025-07-28T10:54:16.593475",
     "status": "completed"
    },
    "tags": []
   },
   "outputs": [
    {
     "data": {
      "text/html": [
       "<div>\n",
       "<style scoped>\n",
       "    .dataframe tbody tr th:only-of-type {\n",
       "        vertical-align: middle;\n",
       "    }\n",
       "\n",
       "    .dataframe tbody tr th {\n",
       "        vertical-align: top;\n",
       "    }\n",
       "\n",
       "    .dataframe thead th {\n",
       "        text-align: right;\n",
       "    }\n",
       "</style>\n",
       "<table border=\"1\" class=\"dataframe\">\n",
       "  <thead>\n",
       "    <tr style=\"text-align: right;\">\n",
       "      <th></th>\n",
       "      <th>universe_id</th>\n",
       "      <th>universe_training_size</th>\n",
       "      <th>universe_scale</th>\n",
       "      <th>universe_model</th>\n",
       "      <th>universe_exclude_features</th>\n",
       "      <th>universe_exclude_subgroups</th>\n",
       "      <th>q_hat</th>\n",
       "      <th>coverage</th>\n",
       "      <th>avg_size</th>\n",
       "      <th>cov_frau1</th>\n",
       "      <th>cov_nongerman</th>\n",
       "      <th>cov_nongerman_male</th>\n",
       "      <th>cov_nongerman_female</th>\n",
       "    </tr>\n",
       "  </thead>\n",
       "  <tbody>\n",
       "    <tr>\n",
       "      <th>0</th>\n",
       "      <td>0f64232f29a964d99a55b72417889875</td>\n",
       "      <td>2014</td>\n",
       "      <td>scale</td>\n",
       "      <td>logreg</td>\n",
       "      <td>nationality-sex</td>\n",
       "      <td>drop-non-german</td>\n",
       "      <td>0.673981</td>\n",
       "      <td>0.912384</td>\n",
       "      <td>1.120421</td>\n",
       "      <td>0.912306</td>\n",
       "      <td>0.909336</td>\n",
       "      <td>0.924255</td>\n",
       "      <td>0.88465</td>\n",
       "    </tr>\n",
       "  </tbody>\n",
       "</table>\n",
       "</div>"
      ],
      "text/plain": [
       "                        universe_id universe_training_size universe_scale  \\\n",
       "0  0f64232f29a964d99a55b72417889875                   2014          scale   \n",
       "\n",
       "  universe_model universe_exclude_features universe_exclude_subgroups  \\\n",
       "0         logreg           nationality-sex            drop-non-german   \n",
       "\n",
       "      q_hat  coverage  avg_size  cov_frau1  cov_nongerman  cov_nongerman_male  \\\n",
       "0  0.673981  0.912384  1.120421   0.912306       0.909336            0.924255   \n",
       "\n",
       "   cov_nongerman_female  \n",
       "0               0.88465  "
      ]
     },
     "execution_count": 64,
     "metadata": {},
     "output_type": "execute_result"
    }
   ],
   "source": [
    "cp_metrics_df"
   ]
  },
  {
   "cell_type": "markdown",
   "id": "33774451",
   "metadata": {
    "papermill": {
     "duration": 0.026922,
     "end_time": "2025-07-28T10:54:16.696663",
     "exception": false,
     "start_time": "2025-07-28T10:54:16.669741",
     "status": "completed"
    },
    "tags": []
   },
   "source": [
    "# (Fairness) Metrics"
   ]
  },
  {
   "cell_type": "code",
   "execution_count": 65,
   "id": "debc5d62",
   "metadata": {
    "execution": {
     "iopub.execute_input": "2025-07-28T10:54:16.751973Z",
     "iopub.status.busy": "2025-07-28T10:54:16.751389Z",
     "iopub.status.idle": "2025-07-28T10:54:16.774116Z",
     "shell.execute_reply": "2025-07-28T10:54:16.772923Z"
    },
    "papermill": {
     "duration": 0.053333,
     "end_time": "2025-07-28T10:54:16.776429",
     "exception": false,
     "start_time": "2025-07-28T10:54:16.723096",
     "status": "completed"
    },
    "tags": []
   },
   "outputs": [],
   "source": [
    "# do I need to include maxdeutsch1.missing?\n",
    "\n",
    "import numpy as np\n",
    "\n",
    "colname_to_bin = \"maxdeutsch1\"\n",
    "majority_value = org_train[colname_to_bin].mode()[0]\n",
    "\n",
    "org_test[\"majmin\"] = np.where(org_test[colname_to_bin] == majority_value, \"majority\", \"minority\")"
   ]
  },
  {
   "cell_type": "code",
   "execution_count": 66,
   "id": "06a50de5",
   "metadata": {
    "execution": {
     "iopub.execute_input": "2025-07-28T10:54:16.829380Z",
     "iopub.status.busy": "2025-07-28T10:54:16.829001Z",
     "iopub.status.idle": "2025-07-28T10:54:19.775867Z",
     "shell.execute_reply": "2025-07-28T10:54:19.774590Z"
    },
    "papermill": {
     "duration": 2.975689,
     "end_time": "2025-07-28T10:54:19.778000",
     "exception": false,
     "start_time": "2025-07-28T10:54:16.802311",
     "status": "completed"
    },
    "tags": []
   },
   "outputs": [],
   "source": [
    "example_universe = universe.copy()\n",
    "example_universe[\"cutoff\"] = example_universe[\"cutoff\"][0]\n",
    "example_universe[\"eval_fairness_grouping\"] = example_universe[\"eval_fairness_grouping\"][0]\n",
    "fairness_dict, metric_frame = universe_analysis.compute_metrics(\n",
    "    example_universe,\n",
    "    y_pred_prob=probs_test,\n",
    "    y_test=y_true,\n",
    "    org_test=org_test,\n",
    ")"
   ]
  },
  {
   "cell_type": "markdown",
   "id": "f95d4e02",
   "metadata": {
    "papermill": {
     "duration": 0.01386,
     "end_time": "2025-07-28T10:54:19.818235",
     "exception": false,
     "start_time": "2025-07-28T10:54:19.804375",
     "status": "completed"
    },
    "tags": []
   },
   "source": [
    "# Overall"
   ]
  },
  {
   "cell_type": "markdown",
   "id": "bdee4871",
   "metadata": {
    "papermill": {
     "duration": 0.013254,
     "end_time": "2025-07-28T10:54:19.845149",
     "exception": false,
     "start_time": "2025-07-28T10:54:19.831895",
     "status": "completed"
    },
    "tags": []
   },
   "source": [
    "Fairness\n",
    "Main fairness target: Equalized Odds. Seems to be a better fit than equal opportunity, since we're not only interested in Y = 1. Seems to be a better fit than demographic parity, since we also care about accuracy, not just equal distribution of preds.\n",
    "\n",
    "Pick column for computation of fairness metrics\n",
    "\n",
    "Performance\n",
    "Overall performance measures, most interesting in relation to the measures split by group below"
   ]
  },
  {
   "cell_type": "code",
   "execution_count": 67,
   "id": "c4e067c6",
   "metadata": {
    "execution": {
     "iopub.execute_input": "2025-07-28T10:54:19.883133Z",
     "iopub.status.busy": "2025-07-28T10:54:19.882684Z",
     "iopub.status.idle": "2025-07-28T10:54:19.891941Z",
     "shell.execute_reply": "2025-07-28T10:54:19.890762Z"
    },
    "papermill": {
     "duration": 0.025906,
     "end_time": "2025-07-28T10:54:19.893696",
     "exception": false,
     "start_time": "2025-07-28T10:54:19.867790",
     "status": "completed"
    },
    "tags": []
   },
   "outputs": [
    {
     "data": {
      "text/plain": [
       "accuracy                   0.225627\n",
       "balanced accuracy          0.551427\n",
       "f1                         0.246924\n",
       "precision                  0.141059\n",
       "false positive rate        0.886806\n",
       "false negative rate        0.010341\n",
       "selection rate             0.900000\n",
       "count                  89710.000000\n",
       "dtype: float64"
      ]
     },
     "execution_count": 67,
     "metadata": {},
     "output_type": "execute_result"
    }
   ],
   "source": [
    "metric_frame.overall"
   ]
  },
  {
   "cell_type": "markdown",
   "id": "e968fe9d",
   "metadata": {
    "papermill": {
     "duration": 0.028299,
     "end_time": "2025-07-28T10:54:19.949249",
     "exception": false,
     "start_time": "2025-07-28T10:54:19.920950",
     "status": "completed"
    },
    "tags": []
   },
   "source": [
    "By Group"
   ]
  },
  {
   "cell_type": "code",
   "execution_count": 68,
   "id": "ec325bce",
   "metadata": {
    "execution": {
     "iopub.execute_input": "2025-07-28T10:54:20.006735Z",
     "iopub.status.busy": "2025-07-28T10:54:20.005796Z",
     "iopub.status.idle": "2025-07-28T10:54:20.023704Z",
     "shell.execute_reply": "2025-07-28T10:54:20.022666Z"
    },
    "papermill": {
     "duration": 0.048399,
     "end_time": "2025-07-28T10:54:20.025628",
     "exception": false,
     "start_time": "2025-07-28T10:54:19.977229",
     "status": "completed"
    },
    "tags": []
   },
   "outputs": [
    {
     "data": {
      "text/html": [
       "<div>\n",
       "<style scoped>\n",
       "    .dataframe tbody tr th:only-of-type {\n",
       "        vertical-align: middle;\n",
       "    }\n",
       "\n",
       "    .dataframe tbody tr th {\n",
       "        vertical-align: top;\n",
       "    }\n",
       "\n",
       "    .dataframe thead th {\n",
       "        text-align: right;\n",
       "    }\n",
       "</style>\n",
       "<table border=\"1\" class=\"dataframe\">\n",
       "  <thead>\n",
       "    <tr style=\"text-align: right;\">\n",
       "      <th></th>\n",
       "      <th>accuracy</th>\n",
       "      <th>balanced accuracy</th>\n",
       "      <th>f1</th>\n",
       "      <th>precision</th>\n",
       "      <th>false positive rate</th>\n",
       "      <th>false negative rate</th>\n",
       "      <th>selection rate</th>\n",
       "      <th>count</th>\n",
       "    </tr>\n",
       "    <tr>\n",
       "      <th>majmin</th>\n",
       "      <th></th>\n",
       "      <th></th>\n",
       "      <th></th>\n",
       "      <th></th>\n",
       "      <th></th>\n",
       "      <th></th>\n",
       "      <th></th>\n",
       "      <th></th>\n",
       "    </tr>\n",
       "  </thead>\n",
       "  <tbody>\n",
       "    <tr>\n",
       "      <th>majority</th>\n",
       "      <td>0.247622</td>\n",
       "      <td>0.561757</td>\n",
       "      <td>0.257773</td>\n",
       "      <td>0.148206</td>\n",
       "      <td>0.865217</td>\n",
       "      <td>0.011269</td>\n",
       "      <td>0.881538</td>\n",
       "      <td>69170.0</td>\n",
       "    </tr>\n",
       "    <tr>\n",
       "      <th>minority</th>\n",
       "      <td>0.151558</td>\n",
       "      <td>0.517560</td>\n",
       "      <td>0.212553</td>\n",
       "      <td>0.119010</td>\n",
       "      <td>0.958122</td>\n",
       "      <td>0.006757</td>\n",
       "      <td>0.962171</td>\n",
       "      <td>20540.0</td>\n",
       "    </tr>\n",
       "  </tbody>\n",
       "</table>\n",
       "</div>"
      ],
      "text/plain": [
       "          accuracy  balanced accuracy        f1  precision  \\\n",
       "majmin                                                       \n",
       "majority  0.247622           0.561757  0.257773   0.148206   \n",
       "minority  0.151558           0.517560  0.212553   0.119010   \n",
       "\n",
       "          false positive rate  false negative rate  selection rate    count  \n",
       "majmin                                                                       \n",
       "majority             0.865217             0.011269        0.881538  69170.0  \n",
       "minority             0.958122             0.006757        0.962171  20540.0  "
      ]
     },
     "execution_count": 68,
     "metadata": {},
     "output_type": "execute_result"
    }
   ],
   "source": [
    "metric_frame.by_group"
   ]
  },
  {
   "cell_type": "code",
   "execution_count": 69,
   "id": "a9ddbe63",
   "metadata": {
    "execution": {
     "iopub.execute_input": "2025-07-28T10:54:20.083289Z",
     "iopub.status.busy": "2025-07-28T10:54:20.082591Z",
     "iopub.status.idle": "2025-07-28T10:54:22.564628Z",
     "shell.execute_reply": "2025-07-28T10:54:22.563755Z"
    },
    "papermill": {
     "duration": 2.512389,
     "end_time": "2025-07-28T10:54:22.566089",
     "exception": false,
     "start_time": "2025-07-28T10:54:20.053700",
     "status": "completed"
    },
    "tags": []
   },
   "outputs": [
    {
     "data": {
      "text/plain": [
       "array([[<Axes: title={'center': 'accuracy'}, xlabel='majmin'>,\n",
       "        <Axes: title={'center': 'balanced accuracy'}, xlabel='majmin'>,\n",
       "        <Axes: title={'center': 'f1'}, xlabel='majmin'>],\n",
       "       [<Axes: title={'center': 'precision'}, xlabel='majmin'>,\n",
       "        <Axes: title={'center': 'false positive rate'}, xlabel='majmin'>,\n",
       "        <Axes: title={'center': 'false negative rate'}, xlabel='majmin'>],\n",
       "       [<Axes: title={'center': 'selection rate'}, xlabel='majmin'>,\n",
       "        <Axes: title={'center': 'count'}, xlabel='majmin'>,\n",
       "        <Axes: xlabel='majmin'>]], dtype=object)"
      ]
     },
     "execution_count": 69,
     "metadata": {},
     "output_type": "execute_result"
    },
    {
     "data": {
      "image/png": "[encoded data removed]",
      "text/plain": [
       "<Figure size 1200x800 with 9 Axes>"
      ]
     },
     "metadata": {},
     "output_type": "display_data"
    }
   ],
   "source": [
    "# In a graphic\n",
    "metric_frame.by_group.plot.bar(\n",
    "    subplots=True,\n",
    "    layout=[3, 3],\n",
    "    legend=False,\n",
    "    figsize=[12, 8],\n",
    "    title=\"Show all metrics\",\n",
    ")"
   ]
  },
  {
   "cell_type": "markdown",
   "id": "f57a0bac",
   "metadata": {
    "papermill": {
     "duration": 0.016384,
     "end_time": "2025-07-28T10:54:22.601106",
     "exception": false,
     "start_time": "2025-07-28T10:54:22.584722",
     "status": "completed"
    },
    "tags": []
   },
   "source": [
    "# Final Output"
   ]
  },
  {
   "cell_type": "code",
   "execution_count": 70,
   "id": "96d280a3",
   "metadata": {
    "execution": {
     "iopub.execute_input": "2025-07-28T10:54:22.635272Z",
     "iopub.status.busy": "2025-07-28T10:54:22.634641Z",
     "iopub.status.idle": "2025-07-28T10:54:22.643502Z",
     "shell.execute_reply": "2025-07-28T10:54:22.642395Z"
    },
    "papermill": {
     "duration": 0.028079,
     "end_time": "2025-07-28T10:54:22.645339",
     "exception": false,
     "start_time": "2025-07-28T10:54:22.617260",
     "status": "completed"
    },
    "tags": []
   },
   "outputs": [
    {
     "data": {
      "text/plain": [
       "4"
      ]
     },
     "execution_count": 70,
     "metadata": {},
     "output_type": "execute_result"
    }
   ],
   "source": [
    "sub_universes = universe_analysis.generate_sub_universes()\n",
    "len(sub_universes)"
   ]
  },
  {
   "cell_type": "code",
   "execution_count": 71,
   "id": "92adf7ba",
   "metadata": {
    "execution": {
     "iopub.execute_input": "2025-07-28T10:54:22.704473Z",
     "iopub.status.busy": "2025-07-28T10:54:22.703993Z",
     "iopub.status.idle": "2025-07-28T10:54:22.732443Z",
     "shell.execute_reply": "2025-07-28T10:54:22.731316Z"
    },
    "papermill": {
     "duration": 0.060583,
     "end_time": "2025-07-28T10:54:22.734265",
     "exception": false,
     "start_time": "2025-07-28T10:54:22.673682",
     "status": "completed"
    },
    "tags": []
   },
   "outputs": [],
   "source": [
    "def filter_sub_universe_data(sub_universe, org_test):\n",
    "    # Keep all rows — no filtering\n",
    "    keep_rows_mask = np.ones(org_test.shape[0], dtype=bool)\n",
    "\n",
    "    print(f\"[INFO] Keeping all rows: {keep_rows_mask.sum()} rows retained.\")\n",
    "    return keep_rows_mask"
   ]
  },
  {
   "cell_type": "code",
   "execution_count": 72,
   "id": "4a759155",
   "metadata": {
    "execution": {
     "iopub.execute_input": "2025-07-28T10:54:22.792522Z",
     "iopub.status.busy": "2025-07-28T10:54:22.791790Z",
     "iopub.status.idle": "2025-07-28T10:54:32.240778Z",
     "shell.execute_reply": "2025-07-28T10:54:32.239905Z"
    },
    "papermill": {
     "duration": 9.479868,
     "end_time": "2025-07-28T10:54:32.242216",
     "exception": false,
     "start_time": "2025-07-28T10:54:22.762348",
     "status": "completed"
    },
    "tags": []
   },
   "outputs": [
    {
     "name": "stdout",
     "output_type": "stream",
     "text": [
      "Stopping execution_time clock.\n",
      "[INFO] Keeping all rows: 89710 rows retained.\n"
     ]
    },
    {
     "name": "stdout",
     "output_type": "stream",
     "text": [
      "[INFO] Keeping all rows: 89710 rows retained.\n"
     ]
    },
    {
     "name": "stdout",
     "output_type": "stream",
     "text": [
      "[INFO] Keeping all rows: 89710 rows retained.\n"
     ]
    },
    {
     "name": "stdout",
     "output_type": "stream",
     "text": [
      "[INFO] Keeping all rows: 89710 rows retained.\n"
     ]
    },
    {
     "data": {
      "text/html": [
       "<div>\n",
       "<style scoped>\n",
       "    .dataframe tbody tr th:only-of-type {\n",
       "        vertical-align: middle;\n",
       "    }\n",
       "\n",
       "    .dataframe tbody tr th {\n",
       "        vertical-align: top;\n",
       "    }\n",
       "\n",
       "    .dataframe thead th {\n",
       "        text-align: right;\n",
       "    }\n",
       "</style>\n",
       "<table border=\"1\" class=\"dataframe\">\n",
       "  <thead>\n",
       "    <tr style=\"text-align: right;\">\n",
       "      <th></th>\n",
       "      <th>run_no</th>\n",
       "      <th>universe_id</th>\n",
       "      <th>universe_settings</th>\n",
       "      <th>execution_time</th>\n",
       "      <th>test_size_n</th>\n",
       "      <th>test_size_frac</th>\n",
       "      <th>fair_main_equalized_odds_difference</th>\n",
       "      <th>fair_main_equalized_odds_ratio</th>\n",
       "      <th>fair_main_demographic_parity_difference</th>\n",
       "      <th>fair_main_demographic_parity_ratio</th>\n",
       "      <th>...</th>\n",
       "      <th>perf_grp_precision_0</th>\n",
       "      <th>perf_grp_precision_1</th>\n",
       "      <th>perf_grp_false positive rate_0</th>\n",
       "      <th>perf_grp_false positive rate_1</th>\n",
       "      <th>perf_grp_false negative rate_0</th>\n",
       "      <th>perf_grp_false negative rate_1</th>\n",
       "      <th>perf_grp_selection rate_0</th>\n",
       "      <th>perf_grp_selection rate_1</th>\n",
       "      <th>perf_grp_count_0</th>\n",
       "      <th>perf_grp_count_1</th>\n",
       "    </tr>\n",
       "  </thead>\n",
       "  <tbody>\n",
       "    <tr>\n",
       "      <th>0</th>\n",
       "      <td>11</td>\n",
       "      <td>0f64232f29a964d99a55b72417889875</td>\n",
       "      <td>{\"cutoff\": \"quantile_0.1\", \"eval_fairness_grou...</td>\n",
       "      <td>30.395257</td>\n",
       "      <td>89710</td>\n",
       "      <td>1.0</td>\n",
       "      <td>0.092905</td>\n",
       "      <td>0.903034</td>\n",
       "      <td>0.080633</td>\n",
       "      <td>0.916197</td>\n",
       "      <td>...</td>\n",
       "      <td>NaN</td>\n",
       "      <td>NaN</td>\n",
       "      <td>NaN</td>\n",
       "      <td>NaN</td>\n",
       "      <td>NaN</td>\n",
       "      <td>NaN</td>\n",
       "      <td>NaN</td>\n",
       "      <td>NaN</td>\n",
       "      <td>NaN</td>\n",
       "      <td>NaN</td>\n",
       "    </tr>\n",
       "    <tr>\n",
       "      <th>0</th>\n",
       "      <td>11</td>\n",
       "      <td>0f64232f29a964d99a55b72417889875</td>\n",
       "      <td>{\"cutoff\": \"quantile_0.1\", \"eval_fairness_grou...</td>\n",
       "      <td>30.395257</td>\n",
       "      <td>89710</td>\n",
       "      <td>1.0</td>\n",
       "      <td>0.092905</td>\n",
       "      <td>0.903034</td>\n",
       "      <td>0.080633</td>\n",
       "      <td>0.916197</td>\n",
       "      <td>...</td>\n",
       "      <td>0.11901</td>\n",
       "      <td>0.148206</td>\n",
       "      <td>0.958122</td>\n",
       "      <td>0.865217</td>\n",
       "      <td>0.006757</td>\n",
       "      <td>0.011269</td>\n",
       "      <td>0.962171</td>\n",
       "      <td>0.881538</td>\n",
       "      <td>20540.0</td>\n",
       "      <td>69170.0</td>\n",
       "    </tr>\n",
       "    <tr>\n",
       "      <th>0</th>\n",
       "      <td>11</td>\n",
       "      <td>0f64232f29a964d99a55b72417889875</td>\n",
       "      <td>{\"cutoff\": \"quantile_0.25\", \"eval_fairness_gro...</td>\n",
       "      <td>30.395257</td>\n",
       "      <td>89710</td>\n",
       "      <td>1.0</td>\n",
       "      <td>0.130088</td>\n",
       "      <td>0.841345</td>\n",
       "      <td>0.110696</td>\n",
       "      <td>0.867484</td>\n",
       "      <td>...</td>\n",
       "      <td>NaN</td>\n",
       "      <td>NaN</td>\n",
       "      <td>NaN</td>\n",
       "      <td>NaN</td>\n",
       "      <td>NaN</td>\n",
       "      <td>NaN</td>\n",
       "      <td>NaN</td>\n",
       "      <td>NaN</td>\n",
       "      <td>NaN</td>\n",
       "      <td>NaN</td>\n",
       "    </tr>\n",
       "    <tr>\n",
       "      <th>0</th>\n",
       "      <td>11</td>\n",
       "      <td>0f64232f29a964d99a55b72417889875</td>\n",
       "      <td>{\"cutoff\": \"quantile_0.25\", \"eval_fairness_gro...</td>\n",
       "      <td>30.395257</td>\n",
       "      <td>89710</td>\n",
       "      <td>1.0</td>\n",
       "      <td>0.130088</td>\n",
       "      <td>0.841345</td>\n",
       "      <td>0.110696</td>\n",
       "      <td>0.867484</td>\n",
       "      <td>...</td>\n",
       "      <td>0.13160</td>\n",
       "      <td>0.173809</td>\n",
       "      <td>0.819943</td>\n",
       "      <td>0.689855</td>\n",
       "      <td>0.046453</td>\n",
       "      <td>0.046827</td>\n",
       "      <td>0.835346</td>\n",
       "      <td>0.724649</td>\n",
       "      <td>20540.0</td>\n",
       "      <td>69170.0</td>\n",
       "    </tr>\n",
       "  </tbody>\n",
       "</table>\n",
       "<p>4 rows × 50 columns</p>\n",
       "</div>"
      ],
      "text/plain": [
       "  run_no                       universe_id  \\\n",
       "0     11  0f64232f29a964d99a55b72417889875   \n",
       "0     11  0f64232f29a964d99a55b72417889875   \n",
       "0     11  0f64232f29a964d99a55b72417889875   \n",
       "0     11  0f64232f29a964d99a55b72417889875   \n",
       "\n",
       "                                   universe_settings  execution_time  \\\n",
       "0  {\"cutoff\": \"quantile_0.1\", \"eval_fairness_grou...       30.395257   \n",
       "0  {\"cutoff\": \"quantile_0.1\", \"eval_fairness_grou...       30.395257   \n",
       "0  {\"cutoff\": \"quantile_0.25\", \"eval_fairness_gro...       30.395257   \n",
       "0  {\"cutoff\": \"quantile_0.25\", \"eval_fairness_gro...       30.395257   \n",
       "\n",
       "   test_size_n  test_size_frac  fair_main_equalized_odds_difference  \\\n",
       "0        89710             1.0                             0.092905   \n",
       "0        89710             1.0                             0.092905   \n",
       "0        89710             1.0                             0.130088   \n",
       "0        89710             1.0                             0.130088   \n",
       "\n",
       "   fair_main_equalized_odds_ratio  fair_main_demographic_parity_difference  \\\n",
       "0                        0.903034                                 0.080633   \n",
       "0                        0.903034                                 0.080633   \n",
       "0                        0.841345                                 0.110696   \n",
       "0                        0.841345                                 0.110696   \n",
       "\n",
       "   fair_main_demographic_parity_ratio  ...  perf_grp_precision_0  \\\n",
       "0                            0.916197  ...                   NaN   \n",
       "0                            0.916197  ...               0.11901   \n",
       "0                            0.867484  ...                   NaN   \n",
       "0                            0.867484  ...               0.13160   \n",
       "\n",
       "   perf_grp_precision_1  perf_grp_false positive rate_0  \\\n",
       "0                   NaN                             NaN   \n",
       "0              0.148206                        0.958122   \n",
       "0                   NaN                             NaN   \n",
       "0              0.173809                        0.819943   \n",
       "\n",
       "   perf_grp_false positive rate_1  perf_grp_false negative rate_0  \\\n",
       "0                             NaN                             NaN   \n",
       "0                        0.865217                        0.006757   \n",
       "0                             NaN                             NaN   \n",
       "0                        0.689855                        0.046453   \n",
       "\n",
       "   perf_grp_false negative rate_1  perf_grp_selection rate_0  \\\n",
       "0                             NaN                        NaN   \n",
       "0                        0.011269                   0.962171   \n",
       "0                             NaN                        NaN   \n",
       "0                        0.046827                   0.835346   \n",
       "\n",
       "   perf_grp_selection rate_1  perf_grp_count_0  perf_grp_count_1  \n",
       "0                        NaN               NaN               NaN  \n",
       "0                   0.881538           20540.0           69170.0  \n",
       "0                        NaN               NaN               NaN  \n",
       "0                   0.724649           20540.0           69170.0  \n",
       "\n",
       "[4 rows x 50 columns]"
      ]
     },
     "execution_count": 72,
     "metadata": {},
     "output_type": "execute_result"
    }
   ],
   "source": [
    "final_output = universe_analysis.generate_final_output(\n",
    "    y_pred_prob=probs_test,\n",
    "    y_test=y_true,\n",
    "    org_test=org_test,\n",
    "    filter_data=filter_sub_universe_data,\n",
    "    cp_metrics_df=cp_metrics_df,\n",
    "    save=True,\n",
    ")\n",
    "final_output"
   ]
  },
  {
   "cell_type": "code",
   "execution_count": null,
   "id": "721ff514-cb11-46f8-b6fc-50392f74b5cb",
   "metadata": {
    "papermill": {
     "duration": 0.016258,
     "end_time": "2025-07-28T10:54:32.285131",
     "exception": false,
     "start_time": "2025-07-28T10:54:32.268873",
     "status": "completed"
    },
    "tags": []
   },
   "outputs": [],
   "source": []
  }
 ],
 "metadata": {
  "celltoolbar": "Tags",
  "kernelspec": {
   "display_name": "Python (CMA Fairness)",
   "language": "python",
   "name": "cma_fair_env"
  },
  "language_info": {
   "codemirror_mode": {
    "name": "ipython",
    "version": 3
   },
   "file_extension": ".py",
   "mimetype": "text/x-python",
   "name": "python",
   "nbconvert_exporter": "python",
   "pygments_lexer": "ipython3",
   "version": "3.10.12"
  },
  "papermill": {
   "default_parameters": {},
   "duration": 44.489969,
   "end_time": "2025-07-28T10:54:33.227509",
   "environment_variables": {},
   "exception": null,
   "input_path": "universe_analysis.ipynb",
   "output_path": "output/runs/11/notebooks/m_11-0f64232f29a964d99a55b72417889875.ipynb",
   "parameters": {
    "output_dir": "output",
    "run_no": "11",
    "seed": "2023",
    "universe": "{\"cutoff\": [\"quantile_0.1\", \"quantile_0.25\"], \"eval_fairness_grouping\": [\"majority-minority\", \"nationality-all\"], \"exclude_features\": \"nationality-sex\", \"exclude_subgroups\": \"drop-non-german\", \"model\": \"logreg\", \"scale\": \"scale\", \"training_size\": \"2014\"}",
    "universe_id": "0f64232f29a964d99a55b72417889875"
   },
   "start_time": "2025-07-28T10:53:48.737540",
   "version": "2.6.0"
  }
 },
 "nbformat": 4,
 "nbformat_minor": 5
}