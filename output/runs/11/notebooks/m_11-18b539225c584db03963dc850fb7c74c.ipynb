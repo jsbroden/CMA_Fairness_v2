{
 "cells": [
  {
   "cell_type": "code",
   "execution_count": 1,
   "id": "f159f837-637b-42ba-96b5-ec9a68c44524",
   "metadata": {
    "execution": {
     "iopub.execute_input": "2025-07-28T11:04:11.770418Z",
     "iopub.status.busy": "2025-07-28T11:04:11.769826Z",
     "iopub.status.idle": "2025-07-28T11:04:11.783145Z",
     "shell.execute_reply": "2025-07-28T11:04:11.782129Z"
    },
    "papermill": {
     "duration": 0.036045,
     "end_time": "2025-07-28T11:04:11.784849",
     "exception": false,
     "start_time": "2025-07-28T11:04:11.748804",
     "status": "completed"
    },
    "tags": []
   },
   "outputs": [
    {
     "name": "stdout",
     "output_type": "stream",
     "text": [
      "/dss/dsshome1/0C/ra93lal2/cma/CMA_Fairness_v2\n"
     ]
    },
    {
     "name": "stderr",
     "output_type": "stream",
     "text": [
      "/dss/dsshome1/0C/ra93lal2/.local/share/virtualenvs/CMA_Fairness_v2-3j10GkSs/lib/python3.10/site-packages/IPython/core/magics/osm.py:393: UserWarning: This is now an optional IPython functionality, using bookmarks requires you to install the `pickleshare` library.\n",
      "  bkms = self.shell.db.get('bookmarks', {})\n",
      "/dss/dsshome1/0C/ra93lal2/.local/share/virtualenvs/CMA_Fairness_v2-3j10GkSs/lib/python3.10/site-packages/IPython/core/magics/osm.py:417: UserWarning: This is now an optional IPython functionality, setting dhist requires you to install the `pickleshare` library.\n",
      "  self.shell.db['dhist'] = compress_dhist(dhist)[-100:]\n"
     ]
    }
   ],
   "source": [
    "%cd ~/cma/CMA_Fairness_v2"
   ]
  },
  {
   "cell_type": "markdown",
   "id": "de2603b9",
   "metadata": {
    "papermill": {
     "duration": 0.017686,
     "end_time": "2025-07-28T11:04:11.820457",
     "exception": false,
     "start_time": "2025-07-28T11:04:11.802771",
     "status": "completed"
    },
    "tags": []
   },
   "source": [
    "The following cell holds the definition of our parameters, these values can be overriden by rendering the with e.g. the following command:\n",
    "\n",
    "papermill -p alpha 0.2 -p ratio 0.3 universe_analysis.ipynb output/test_run.ipynb"
   ]
  },
  {
   "cell_type": "code",
   "execution_count": 2,
   "id": "a80968a0-40bb-4fa9-85ef-2d5eefb01975",
   "metadata": {
    "execution": {
     "iopub.execute_input": "2025-07-28T11:04:11.856392Z",
     "iopub.status.busy": "2025-07-28T11:04:11.855618Z",
     "iopub.status.idle": "2025-07-28T11:04:11.861932Z",
     "shell.execute_reply": "2025-07-28T11:04:11.860906Z"
    },
    "papermill": {
     "duration": 0.026145,
     "end_time": "2025-07-28T11:04:11.863540",
     "exception": false,
     "start_time": "2025-07-28T11:04:11.837395",
     "status": "completed"
    },
    "tags": []
   },
   "outputs": [
    {
     "name": "stdout",
     "output_type": "stream",
     "text": [
      "Current working directory: /dss/dsshome1/0C/ra93lal2/cma/CMA_Fairness_v2\n"
     ]
    }
   ],
   "source": [
    "import os\n",
    "print(\"Current working directory:\", os.getcwd())"
   ]
  },
  {
   "cell_type": "code",
   "execution_count": 3,
   "id": "2dce4c03",
   "metadata": {
    "execution": {
     "iopub.execute_input": "2025-07-28T11:04:11.900864Z",
     "iopub.status.busy": "2025-07-28T11:04:11.900316Z",
     "iopub.status.idle": "2025-07-28T11:04:11.906529Z",
     "shell.execute_reply": "2025-07-28T11:04:11.905448Z"
    },
    "papermill": {
     "duration": 0.026835,
     "end_time": "2025-07-28T11:04:11.908317",
     "exception": false,
     "start_time": "2025-07-28T11:04:11.881482",
     "status": "completed"
    },
    "tags": [
     "parameters"
    ]
   },
   "outputs": [],
   "source": [
    "run_no = 0\n",
    "universe_id = \"test\"\n",
    "universe = {\n",
    "    \"training_size\": \"2014\", # \"25k\", \"5k\", \"1k\", \"2014\"\n",
    "    \"scale\": \"scale\", # \"scale\", \"do-not-scale\",\n",
    "    #\"stratify_split\": \"target\", # \"none\", \"target\", \"protected-attribute\", \"both\",\n",
    "    \"model\": \"elasticnet\", # \"logreg\", \"penalized_logreg\", \"rf\", \"gbm\", \"elasticnet\"\n",
    "    \"cutoff\": [\"quantile_0.15\", \"quantile_0.30\"],\n",
    "    \"exclude_features\": \"age\", # \"none\", \"nationality\", \"sex\", \"nationality-sex\", \"age\"\n",
    "    \"exclude_subgroups\": \"keep-all\", # \"keep-all\", \"drop-non-german\"\n",
    "    \"eval_fairness_grouping\": [\"majority-minority\", \"nationality-all\"]\n",
    "}\n",
    "\n",
    "output_dir=\"./output\"\n",
    "seed=0"
   ]
  },
  {
   "cell_type": "code",
   "execution_count": 4,
   "id": "2b5c07ed",
   "metadata": {
    "execution": {
     "iopub.execute_input": "2025-07-28T11:04:11.946162Z",
     "iopub.status.busy": "2025-07-28T11:04:11.945400Z",
     "iopub.status.idle": "2025-07-28T11:04:11.951204Z",
     "shell.execute_reply": "2025-07-28T11:04:11.950062Z"
    },
    "papermill": {
     "duration": 0.026731,
     "end_time": "2025-07-28T11:04:11.953323",
     "exception": false,
     "start_time": "2025-07-28T11:04:11.926592",
     "status": "completed"
    },
    "tags": [
     "injected-parameters"
    ]
   },
   "outputs": [],
   "source": [
    "# Parameters\n",
    "universe_id = \"18b539225c584db03963dc850fb7c74c\"\n",
    "run_no = \"11\"\n",
    "universe = \"{\\\"cutoff\\\": [\\\"quantile_0.1\\\", \\\"quantile_0.25\\\"], \\\"eval_fairness_grouping\\\": [\\\"majority-minority\\\", \\\"nationality-all\\\"], \\\"exclude_features\\\": \\\"nationality\\\", \\\"exclude_subgroups\\\": \\\"keep-all\\\", \\\"model\\\": \\\"penalized_logreg\\\", \\\"scale\\\": \\\"do-not-scale\\\", \\\"training_size\\\": \\\"2014\\\"}\"\n",
    "output_dir = \"output\"\n",
    "seed = \"2023\"\n"
   ]
  },
  {
   "cell_type": "code",
   "execution_count": 5,
   "id": "1650acaf",
   "metadata": {
    "execution": {
     "iopub.execute_input": "2025-07-28T11:04:12.003450Z",
     "iopub.status.busy": "2025-07-28T11:04:12.002942Z",
     "iopub.status.idle": "2025-07-28T11:04:12.008719Z",
     "shell.execute_reply": "2025-07-28T11:04:12.007477Z"
    },
    "papermill": {
     "duration": 0.034111,
     "end_time": "2025-07-28T11:04:12.011278",
     "exception": false,
     "start_time": "2025-07-28T11:04:11.977167",
     "status": "completed"
    },
    "tags": []
   },
   "outputs": [],
   "source": [
    "import json\n",
    "# Parse universe into dict if it is passed as a string\n",
    "if isinstance(universe, str):\n",
    "    universe = json.loads(universe)"
   ]
  },
  {
   "cell_type": "code",
   "execution_count": 6,
   "id": "16620c48",
   "metadata": {
    "execution": {
     "iopub.execute_input": "2025-07-28T11:04:12.061082Z",
     "iopub.status.busy": "2025-07-28T11:04:12.060508Z",
     "iopub.status.idle": "2025-07-28T11:04:12.109019Z",
     "shell.execute_reply": "2025-07-28T11:04:12.108079Z"
    },
    "papermill": {
     "duration": 0.075468,
     "end_time": "2025-07-28T11:04:12.111322",
     "exception": false,
     "start_time": "2025-07-28T11:04:12.035854",
     "status": "completed"
    },
    "tags": []
   },
   "outputs": [],
   "source": [
    "# Auto-reload the custom package\n",
    "%load_ext autoreload\n",
    "%autoreload 1\n",
    "%aimport fairness_multiverse"
   ]
  },
  {
   "cell_type": "code",
   "execution_count": 7,
   "id": "01c5c9f3",
   "metadata": {
    "execution": {
     "iopub.execute_input": "2025-07-28T11:04:12.162064Z",
     "iopub.status.busy": "2025-07-28T11:04:12.161213Z",
     "iopub.status.idle": "2025-07-28T11:04:14.226508Z",
     "shell.execute_reply": "2025-07-28T11:04:14.225568Z"
    },
    "papermill": {
     "duration": 2.092866,
     "end_time": "2025-07-28T11:04:14.228360",
     "exception": false,
     "start_time": "2025-07-28T11:04:12.135494",
     "status": "completed"
    },
    "tags": []
   },
   "outputs": [],
   "source": [
    "from fairness_multiverse.universe import UniverseAnalysis\n",
    "\n",
    "universe_analysis = UniverseAnalysis(\n",
    "    run_no = run_no,\n",
    "    universe_id = universe_id,\n",
    "    universe = universe,\n",
    "    output_dir=output_dir,\n",
    ")"
   ]
  },
  {
   "cell_type": "code",
   "execution_count": 8,
   "id": "106241f5",
   "metadata": {
    "execution": {
     "iopub.execute_input": "2025-07-28T11:04:14.266322Z",
     "iopub.status.busy": "2025-07-28T11:04:14.265851Z",
     "iopub.status.idle": "2025-07-28T11:04:14.272358Z",
     "shell.execute_reply": "2025-07-28T11:04:14.271328Z"
    },
    "papermill": {
     "duration": 0.02703,
     "end_time": "2025-07-28T11:04:14.273875",
     "exception": false,
     "start_time": "2025-07-28T11:04:14.246845",
     "status": "completed"
    },
    "tags": []
   },
   "outputs": [
    {
     "name": "stdout",
     "output_type": "stream",
     "text": [
      "Using Seed: 2023\n"
     ]
    }
   ],
   "source": [
    "import numpy as np\n",
    "parsed_seed = int(seed)\n",
    "np.random.seed(parsed_seed)\n",
    "print(f\"Using Seed: {parsed_seed}\")"
   ]
  },
  {
   "cell_type": "markdown",
   "id": "e0ebdc57",
   "metadata": {
    "papermill": {
     "duration": 0.017975,
     "end_time": "2025-07-28T11:04:14.311233",
     "exception": false,
     "start_time": "2025-07-28T11:04:14.293258",
     "status": "completed"
    },
    "tags": []
   },
   "source": [
    "# Loading Data"
   ]
  },
  {
   "cell_type": "markdown",
   "id": "681925a3",
   "metadata": {
    "papermill": {
     "duration": 0.02006,
     "end_time": "2025-07-28T11:04:14.350610",
     "exception": false,
     "start_time": "2025-07-28T11:04:14.330550",
     "status": "completed"
    },
    "tags": []
   },
   "source": [
    "Load siab_train, siab_test, siab_calib and/or \n",
    "load siab_train_features, siab_train_labels"
   ]
  },
  {
   "cell_type": "code",
   "execution_count": 9,
   "id": "f0496b8a",
   "metadata": {
    "execution": {
     "iopub.execute_input": "2025-07-28T11:04:14.389633Z",
     "iopub.status.busy": "2025-07-28T11:04:14.389140Z",
     "iopub.status.idle": "2025-07-28T11:04:25.712385Z",
     "shell.execute_reply": "2025-07-28T11:04:25.711148Z"
    },
    "papermill": {
     "duration": 11.345087,
     "end_time": "2025-07-28T11:04:25.714103",
     "exception": false,
     "start_time": "2025-07-28T11:04:14.369016",
     "status": "completed"
    },
    "tags": []
   },
   "outputs": [
    {
     "name": "stdout",
     "output_type": "stream",
     "text": [
      "Loading SIAB data from cache: data/siab_cached.csv.gz\n"
     ]
    },
    {
     "name": "stdout",
     "output_type": "stream",
     "text": [
      "(643690, 164)\n"
     ]
    }
   ],
   "source": [
    "from pathlib import Path\n",
    "import pandas as pd\n",
    "\n",
    "# File paths\n",
    "raw_file = Path(\"data/raw/siab.csv\")\n",
    "cache_file = Path(\"data/siab_cached.csv.gz\")\n",
    "\n",
    "# Ensure cache directory exists\n",
    "cache_file.parent.mkdir(parents=True, exist_ok=True)\n",
    "\n",
    "# Load with simple caching\n",
    "if cache_file.exists():\n",
    "    print(f\"Loading SIAB data from cache: {cache_file}\")\n",
    "    siab = pd.read_csv(cache_file, compression='gzip')\n",
    "else:\n",
    "    print(f\"Cache not found. Reading raw SIAB data: {raw_file}\")\n",
    "    siab = pd.read_csv(raw_file)\n",
    "    siab.to_csv(cache_file, index=False, compression='gzip')\n",
    "    print(f\"Cached SIAB data to: {cache_file}\")\n",
    "\n",
    "# Now use `siab` DataFrame as needed\n",
    "print(siab.shape)"
   ]
  },
  {
   "cell_type": "code",
   "execution_count": 10,
   "id": "db0ca512-5f53-4dba-abdb-a2888bca41ba",
   "metadata": {
    "execution": {
     "iopub.execute_input": "2025-07-28T11:04:25.761627Z",
     "iopub.status.busy": "2025-07-28T11:04:25.761056Z",
     "iopub.status.idle": "2025-07-28T11:04:25.767221Z",
     "shell.execute_reply": "2025-07-28T11:04:25.765952Z"
    },
    "papermill": {
     "duration": 0.035728,
     "end_time": "2025-07-28T11:04:25.773200",
     "exception": false,
     "start_time": "2025-07-28T11:04:25.737472",
     "status": "completed"
    },
    "tags": []
   },
   "outputs": [],
   "source": [
    "#siab"
   ]
  },
  {
   "cell_type": "code",
   "execution_count": 11,
   "id": "a0edb063",
   "metadata": {
    "execution": {
     "iopub.execute_input": "2025-07-28T11:04:25.813895Z",
     "iopub.status.busy": "2025-07-28T11:04:25.813461Z",
     "iopub.status.idle": "2025-07-28T11:04:25.819428Z",
     "shell.execute_reply": "2025-07-28T11:04:25.818509Z"
    },
    "papermill": {
     "duration": 0.027455,
     "end_time": "2025-07-28T11:04:25.821199",
     "exception": false,
     "start_time": "2025-07-28T11:04:25.793744",
     "status": "completed"
    },
    "tags": []
   },
   "outputs": [],
   "source": [
    "#import pandas as pd\n",
    "#\n",
    "#X_train = pd.read_csv(\"./data/X_train.csv\")\n",
    "#y_train = pd.read_csv(\"./data/y_train.csv\")"
   ]
  },
  {
   "cell_type": "code",
   "execution_count": 12,
   "id": "63d08085",
   "metadata": {
    "execution": {
     "iopub.execute_input": "2025-07-28T11:04:25.861556Z",
     "iopub.status.busy": "2025-07-28T11:04:25.861157Z",
     "iopub.status.idle": "2025-07-28T11:04:25.866029Z",
     "shell.execute_reply": "2025-07-28T11:04:25.865002Z"
    },
    "papermill": {
     "duration": 0.026263,
     "end_time": "2025-07-28T11:04:25.867724",
     "exception": false,
     "start_time": "2025-07-28T11:04:25.841461",
     "status": "completed"
    },
    "tags": []
   },
   "outputs": [],
   "source": [
    "#X_test = pd.read_csv(\"./data/X_test.csv\")\n",
    "#y_true = pd.read_csv(\"./data/y_test.csv\")"
   ]
  },
  {
   "cell_type": "code",
   "execution_count": 13,
   "id": "98a8d0fa-1d3d-4ed8-bb2c-281470e24add",
   "metadata": {
    "execution": {
     "iopub.execute_input": "2025-07-28T11:04:25.909998Z",
     "iopub.status.busy": "2025-07-28T11:04:25.909344Z",
     "iopub.status.idle": "2025-07-28T11:04:25.914326Z",
     "shell.execute_reply": "2025-07-28T11:04:25.913377Z"
    },
    "papermill": {
     "duration": 0.029439,
     "end_time": "2025-07-28T11:04:25.916074",
     "exception": false,
     "start_time": "2025-07-28T11:04:25.886635",
     "status": "completed"
    },
    "tags": []
   },
   "outputs": [],
   "source": [
    "# Calibration data for conformal\n",
    "#X_calib = pd.read_csv(\"./data/X_calib.csv\")\n",
    "#y_calib = pd.read_csv(\"./data/y_calib.csv\")"
   ]
  },
  {
   "cell_type": "markdown",
   "id": "9901737e-04df-44f0-9100-f5ad144ed040",
   "metadata": {
    "papermill": {
     "duration": 0.0182,
     "end_time": "2025-07-28T11:04:25.953457",
     "exception": false,
     "start_time": "2025-07-28T11:04:25.935257",
     "status": "completed"
    },
    "tags": []
   },
   "source": [
    "# Splitting Data and Setting Training Data Size"
   ]
  },
  {
   "cell_type": "code",
   "execution_count": 14,
   "id": "acbc8f7d-8fc8-4e86-8c59-5dcb0f58384b",
   "metadata": {
    "execution": {
     "iopub.execute_input": "2025-07-28T11:04:25.993015Z",
     "iopub.status.busy": "2025-07-28T11:04:25.992510Z",
     "iopub.status.idle": "2025-07-28T11:04:26.001445Z",
     "shell.execute_reply": "2025-07-28T11:04:26.000402Z"
    },
    "papermill": {
     "duration": 0.030773,
     "end_time": "2025-07-28T11:04:26.003008",
     "exception": false,
     "start_time": "2025-07-28T11:04:25.972235",
     "status": "completed"
    },
    "tags": []
   },
   "outputs": [],
   "source": [
    "def sample_by_year(df, training_size, random_state=42):\n",
    "    if training_size == \"2014\":\n",
    "        return df[df[\"year\"] == 2014].reset_index(drop=True)\n",
    "    \n",
    "    size_map = {\n",
    "        \"25k\": 5000,\n",
    "        \"5k\": 1000,\n",
    "        \"1k\": 200\n",
    "    }\n",
    "\n",
    "    if training_size not in size_map:\n",
    "        return df.reset_index(drop=True)  # use all data\n",
    "\n",
    "    n_per_year = size_map[training_size]\n",
    "    grouped = df.groupby(\"year\")\n",
    "    sampled = grouped.apply(lambda x: x.sample(n=min(n_per_year, len(x)), random_state=random_state))\n",
    "    return sampled.reset_index(drop=True)"
   ]
  },
  {
   "cell_type": "code",
   "execution_count": 15,
   "id": "6d931f52-beaf-43ff-9e78-9d44a448d54e",
   "metadata": {
    "execution": {
     "iopub.execute_input": "2025-07-28T11:04:26.044427Z",
     "iopub.status.busy": "2025-07-28T11:04:26.043622Z",
     "iopub.status.idle": "2025-07-28T11:04:26.213192Z",
     "shell.execute_reply": "2025-07-28T11:04:26.212219Z"
    },
    "papermill": {
     "duration": 0.191984,
     "end_time": "2025-07-28T11:04:26.215000",
     "exception": false,
     "start_time": "2025-07-28T11:04:26.023016",
     "status": "completed"
    },
    "tags": []
   },
   "outputs": [],
   "source": [
    "siab_s = sample_by_year(siab, universe[\"training_size\"])"
   ]
  },
  {
   "cell_type": "code",
   "execution_count": 16,
   "id": "5db0a40e-a4e2-4920-be85-b12ae061d70d",
   "metadata": {
    "execution": {
     "iopub.execute_input": "2025-07-28T11:04:26.256661Z",
     "iopub.status.busy": "2025-07-28T11:04:26.255992Z",
     "iopub.status.idle": "2025-07-28T11:04:26.274201Z",
     "shell.execute_reply": "2025-07-28T11:04:26.273168Z"
    },
    "papermill": {
     "duration": 0.041171,
     "end_time": "2025-07-28T11:04:26.275984",
     "exception": false,
     "start_time": "2025-07-28T11:04:26.234813",
     "status": "completed"
    },
    "tags": []
   },
   "outputs": [
    {
     "data": {
      "text/plain": [
       "year\n",
       "2014    87158\n",
       "dtype: int64"
      ]
     },
     "metadata": {},
     "output_type": "display_data"
    }
   ],
   "source": [
    "display(siab_s.groupby(\"year\").size())"
   ]
  },
  {
   "cell_type": "code",
   "execution_count": 17,
   "id": "a561edb4-d032-42cb-8256-22eac1111c64",
   "metadata": {
    "execution": {
     "iopub.execute_input": "2025-07-28T11:04:26.316705Z",
     "iopub.status.busy": "2025-07-28T11:04:26.316209Z",
     "iopub.status.idle": "2025-07-28T11:04:26.612608Z",
     "shell.execute_reply": "2025-07-28T11:04:26.611715Z"
    },
    "papermill": {
     "duration": 0.318985,
     "end_time": "2025-07-28T11:04:26.614516",
     "exception": false,
     "start_time": "2025-07-28T11:04:26.295531",
     "status": "completed"
    },
    "tags": []
   },
   "outputs": [],
   "source": [
    "siab_train = siab_s[siab_s.year < 2015]\n",
    "siab_calib = siab[siab.year == 2015]\n",
    "siab_test = siab[siab.year == 2016]"
   ]
  },
  {
   "cell_type": "code",
   "execution_count": 18,
   "id": "472de16f-c3db-4916-846b-1f0de9cf1746",
   "metadata": {
    "execution": {
     "iopub.execute_input": "2025-07-28T11:04:26.665944Z",
     "iopub.status.busy": "2025-07-28T11:04:26.665071Z",
     "iopub.status.idle": "2025-07-28T11:04:26.717795Z",
     "shell.execute_reply": "2025-07-28T11:04:26.716701Z"
    },
    "papermill": {
     "duration": 0.066726,
     "end_time": "2025-07-28T11:04:26.719320",
     "exception": false,
     "start_time": "2025-07-28T11:04:26.652594",
     "status": "completed"
    },
    "tags": []
   },
   "outputs": [],
   "source": [
    "X_train = siab_train.iloc[:,4:164]\n",
    "y_train = siab_train.iloc[:, [3]]"
   ]
  },
  {
   "cell_type": "code",
   "execution_count": 19,
   "id": "828c96af-f43a-4ed6-ba47-8ac73a47d56c",
   "metadata": {
    "execution": {
     "iopub.execute_input": "2025-07-28T11:04:26.743020Z",
     "iopub.status.busy": "2025-07-28T11:04:26.742386Z",
     "iopub.status.idle": "2025-07-28T11:04:26.789996Z",
     "shell.execute_reply": "2025-07-28T11:04:26.789179Z"
    },
    "papermill": {
     "duration": 0.060506,
     "end_time": "2025-07-28T11:04:26.791567",
     "exception": false,
     "start_time": "2025-07-28T11:04:26.731061",
     "status": "completed"
    },
    "tags": []
   },
   "outputs": [],
   "source": [
    "X_calib = siab_calib.iloc[:,4:164]\n",
    "y_calib = siab_calib.iloc[:, [3]]"
   ]
  },
  {
   "cell_type": "code",
   "execution_count": 20,
   "id": "c34be9c3-6bd6-476e-acd3-845840e303be",
   "metadata": {
    "execution": {
     "iopub.execute_input": "2025-07-28T11:04:26.816178Z",
     "iopub.status.busy": "2025-07-28T11:04:26.815281Z",
     "iopub.status.idle": "2025-07-28T11:04:26.864910Z",
     "shell.execute_reply": "2025-07-28T11:04:26.864044Z"
    },
    "papermill": {
     "duration": 0.062833,
     "end_time": "2025-07-28T11:04:26.866536",
     "exception": false,
     "start_time": "2025-07-28T11:04:26.803703",
     "status": "completed"
    },
    "tags": []
   },
   "outputs": [],
   "source": [
    "X_test = siab_test.iloc[:,4:164]\n",
    "y_true = siab_test.iloc[:, [3]]"
   ]
  },
  {
   "cell_type": "code",
   "execution_count": 21,
   "id": "e6c733c5",
   "metadata": {
    "execution": {
     "iopub.execute_input": "2025-07-28T11:04:26.890023Z",
     "iopub.status.busy": "2025-07-28T11:04:26.889497Z",
     "iopub.status.idle": "2025-07-28T11:04:27.019949Z",
     "shell.execute_reply": "2025-07-28T11:04:27.019105Z"
    },
    "papermill": {
     "duration": 0.1433,
     "end_time": "2025-07-28T11:04:27.021471",
     "exception": false,
     "start_time": "2025-07-28T11:04:26.878171",
     "status": "completed"
    },
    "tags": []
   },
   "outputs": [],
   "source": [
    "# Auxiliary data needed downstream in the pipeline\n",
    "\n",
    "org_train = X_train.copy()\n",
    "org_test = X_test.copy()\n",
    "org_calib = X_calib.copy()"
   ]
  },
  {
   "cell_type": "markdown",
   "id": "0a4a1b33",
   "metadata": {
    "papermill": {
     "duration": 0.010657,
     "end_time": "2025-07-28T11:04:27.043189",
     "exception": false,
     "start_time": "2025-07-28T11:04:27.032532",
     "status": "completed"
    },
    "tags": []
   },
   "source": [
    "# Preprocessing Data"
   ]
  },
  {
   "cell_type": "code",
   "execution_count": 22,
   "id": "ca879031",
   "metadata": {
    "execution": {
     "iopub.execute_input": "2025-07-28T11:04:27.065658Z",
     "iopub.status.busy": "2025-07-28T11:04:27.065113Z",
     "iopub.status.idle": "2025-07-28T11:04:27.070073Z",
     "shell.execute_reply": "2025-07-28T11:04:27.069347Z"
    },
    "papermill": {
     "duration": 0.018095,
     "end_time": "2025-07-28T11:04:27.071630",
     "exception": false,
     "start_time": "2025-07-28T11:04:27.053535",
     "status": "completed"
    },
    "tags": []
   },
   "outputs": [],
   "source": [
    "# EXCLUDE PROTECTED FEATURES\n",
    "# ----------------------\n",
    "# \"exclude_features\": \"none\", # \"nationality\", \"sex\", \"nationality-sex\"\n",
    "\n",
    "excluded_features = universe[\"exclude_features\"].split(\"-\") # split, e.g.: \"nationality-sex\" -> [\"nationality\", \"sex\"]\n",
    "excluded_features_dictionary = {\n",
    "    \"nationality\": [\"maxdeutsch1\", \"maxdeutsch.Missing.\"],\n",
    "    \"sex\": [\"frau1\"],\n",
    "    \"age\": [\"age\"],\n",
    "}\n"
   ]
  },
  {
   "cell_type": "code",
   "execution_count": 23,
   "id": "b745ac60",
   "metadata": {
    "execution": {
     "iopub.execute_input": "2025-07-28T11:04:27.094714Z",
     "iopub.status.busy": "2025-07-28T11:04:27.094215Z",
     "iopub.status.idle": "2025-07-28T11:04:27.098746Z",
     "shell.execute_reply": "2025-07-28T11:04:27.098011Z"
    },
    "papermill": {
     "duration": 0.017516,
     "end_time": "2025-07-28T11:04:27.100114",
     "exception": false,
     "start_time": "2025-07-28T11:04:27.082598",
     "status": "completed"
    },
    "tags": []
   },
   "outputs": [],
   "source": [
    "# Code nice names to column names\n",
    "\n",
    "excluded_features_columns = [\n",
    "    excluded_features_dictionary[f] for f in excluded_features if len(f) > 0 and f != \"none\"\n",
    "]"
   ]
  },
  {
   "cell_type": "code",
   "execution_count": 24,
   "id": "f84f73a2",
   "metadata": {
    "execution": {
     "iopub.execute_input": "2025-07-28T11:04:27.123797Z",
     "iopub.status.busy": "2025-07-28T11:04:27.123211Z",
     "iopub.status.idle": "2025-07-28T11:04:27.128740Z",
     "shell.execute_reply": "2025-07-28T11:04:27.128025Z"
    },
    "papermill": {
     "duration": 0.018743,
     "end_time": "2025-07-28T11:04:27.130111",
     "exception": false,
     "start_time": "2025-07-28T11:04:27.111368",
     "status": "completed"
    },
    "tags": []
   },
   "outputs": [],
   "source": [
    "from utils import flatten_once\n",
    "\n",
    "excluded_features_columns = flatten_once(excluded_features_columns)"
   ]
  },
  {
   "cell_type": "code",
   "execution_count": 25,
   "id": "884dea22",
   "metadata": {
    "execution": {
     "iopub.execute_input": "2025-07-28T11:04:27.154131Z",
     "iopub.status.busy": "2025-07-28T11:04:27.153855Z",
     "iopub.status.idle": "2025-07-28T11:04:27.201962Z",
     "shell.execute_reply": "2025-07-28T11:04:27.201212Z"
    },
    "papermill": {
     "duration": 0.061667,
     "end_time": "2025-07-28T11:04:27.203400",
     "exception": false,
     "start_time": "2025-07-28T11:04:27.141733",
     "status": "completed"
    },
    "tags": []
   },
   "outputs": [
    {
     "name": "stdout",
     "output_type": "stream",
     "text": [
      "Dropping features: ['maxdeutsch1', 'maxdeutsch.Missing.']\n"
     ]
    }
   ],
   "source": [
    "if len(excluded_features_columns) > 0:\n",
    "    print(f\"Dropping features: {excluded_features_columns}\")\n",
    "    X_train.drop(excluded_features_columns, axis=1, inplace=True)"
   ]
  },
  {
   "cell_type": "code",
   "execution_count": 26,
   "id": "95ab8b16",
   "metadata": {
    "execution": {
     "iopub.execute_input": "2025-07-28T11:04:27.228122Z",
     "iopub.status.busy": "2025-07-28T11:04:27.227546Z",
     "iopub.status.idle": "2025-07-28T11:04:27.277508Z",
     "shell.execute_reply": "2025-07-28T11:04:27.276703Z"
    },
    "papermill": {
     "duration": 0.063424,
     "end_time": "2025-07-28T11:04:27.278919",
     "exception": false,
     "start_time": "2025-07-28T11:04:27.215495",
     "status": "completed"
    },
    "tags": []
   },
   "outputs": [
    {
     "name": "stdout",
     "output_type": "stream",
     "text": [
      "Dropping features: ['maxdeutsch1', 'maxdeutsch.Missing.']\n"
     ]
    }
   ],
   "source": [
    "if len(excluded_features_columns) > 0:\n",
    "    print(f\"Dropping features: {excluded_features_columns}\")\n",
    "    X_test.drop(excluded_features_columns, axis=1, inplace=True)"
   ]
  },
  {
   "cell_type": "code",
   "execution_count": 27,
   "id": "1853aaf5-fb9f-46cb-a2b5-8ea4ae2237e4",
   "metadata": {
    "execution": {
     "iopub.execute_input": "2025-07-28T11:04:27.303232Z",
     "iopub.status.busy": "2025-07-28T11:04:27.302867Z",
     "iopub.status.idle": "2025-07-28T11:04:27.350586Z",
     "shell.execute_reply": "2025-07-28T11:04:27.349571Z"
    },
    "papermill": {
     "duration": 0.061321,
     "end_time": "2025-07-28T11:04:27.352472",
     "exception": false,
     "start_time": "2025-07-28T11:04:27.291151",
     "status": "completed"
    },
    "tags": []
   },
   "outputs": [
    {
     "name": "stdout",
     "output_type": "stream",
     "text": [
      "Dropping features: ['maxdeutsch1', 'maxdeutsch.Missing.']\n"
     ]
    }
   ],
   "source": [
    "if len(excluded_features_columns) > 0:\n",
    "    print(f\"Dropping features: {excluded_features_columns}\")\n",
    "    X_calib.drop(excluded_features_columns, axis=1, inplace=True)"
   ]
  },
  {
   "cell_type": "code",
   "execution_count": 28,
   "id": "6727d079-03e5-481e-9d38-292a90b7a0a8",
   "metadata": {
    "execution": {
     "iopub.execute_input": "2025-07-28T11:04:27.398386Z",
     "iopub.status.busy": "2025-07-28T11:04:27.397418Z",
     "iopub.status.idle": "2025-07-28T11:04:27.403358Z",
     "shell.execute_reply": "2025-07-28T11:04:27.402263Z"
    },
    "papermill": {
     "duration": 0.030831,
     "end_time": "2025-07-28T11:04:27.405187",
     "exception": false,
     "start_time": "2025-07-28T11:04:27.374356",
     "status": "completed"
    },
    "tags": []
   },
   "outputs": [],
   "source": [
    "# SPLIT & STRATIFY DATA\n",
    "# ----------------------"
   ]
  },
  {
   "cell_type": "code",
   "execution_count": 29,
   "id": "76c4dc6d",
   "metadata": {
    "execution": {
     "iopub.execute_input": "2025-07-28T11:04:27.452918Z",
     "iopub.status.busy": "2025-07-28T11:04:27.452061Z",
     "iopub.status.idle": "2025-07-28T11:04:27.457979Z",
     "shell.execute_reply": "2025-07-28T11:04:27.457009Z"
    },
    "papermill": {
     "duration": 0.03166,
     "end_time": "2025-07-28T11:04:27.459705",
     "exception": false,
     "start_time": "2025-07-28T11:04:27.428045",
     "status": "completed"
    },
    "tags": []
   },
   "outputs": [],
   "source": [
    "# EXCLUDE CERTAIN SUBGROUPS\n",
    "# ----------------------\n",
    "\n",
    "mode = universe.get(\"exclude_subgroups\", \"keep-all\") \n",
    "# Fetches the exclude_subgroups setting from the universe dict.\n",
    "# Defaults to \"keep-all\" if the key is missing."
   ]
  },
  {
   "cell_type": "code",
   "execution_count": 30,
   "id": "21994072",
   "metadata": {
    "execution": {
     "iopub.execute_input": "2025-07-28T11:04:27.505492Z",
     "iopub.status.busy": "2025-07-28T11:04:27.504667Z",
     "iopub.status.idle": "2025-07-28T11:04:27.512194Z",
     "shell.execute_reply": "2025-07-28T11:04:27.511189Z"
    },
    "papermill": {
     "duration": 0.032552,
     "end_time": "2025-07-28T11:04:27.513945",
     "exception": false,
     "start_time": "2025-07-28T11:04:27.481393",
     "status": "completed"
    },
    "tags": []
   },
   "outputs": [],
   "source": [
    "if mode == \"keep-all\":\n",
    "    keep_mask = pd.Series(True, index=org_train.index)\n",
    "\n",
    "# org_train contains the original feature columns from features_org (in Simson)\n",
    "# features_org contains unprocessed features, for me X_train at beginning ???\n",
    "# For keep-all, creates a boolean Series (keep_mask) of all True, so no rows are removed.\n",
    "\n",
    "elif mode == \"drop-non-german\":\n",
    "    keep_mask = org_train[\"maxdeutsch1\"] == 1 # ??? what about missing values?\n",
    "\n",
    "else:\n",
    "    raise ValueError(f\"Unsupported mode for exclude_subgroups: {mode}\")\n"
   ]
  },
  {
   "cell_type": "code",
   "execution_count": 31,
   "id": "71651440",
   "metadata": {
    "execution": {
     "iopub.execute_input": "2025-07-28T11:04:27.559085Z",
     "iopub.status.busy": "2025-07-28T11:04:27.558508Z",
     "iopub.status.idle": "2025-07-28T11:04:27.565289Z",
     "shell.execute_reply": "2025-07-28T11:04:27.564238Z"
    },
    "papermill": {
     "duration": 0.030872,
     "end_time": "2025-07-28T11:04:27.567022",
     "exception": false,
     "start_time": "2025-07-28T11:04:27.536150",
     "status": "completed"
    },
    "tags": []
   },
   "outputs": [],
   "source": [
    "n_drop = (~keep_mask).sum() # Calculates how many rows are set to be dropped\n",
    "if n_drop > 0:\n",
    "    pct = n_drop / len(keep_mask) * 100\n",
    "    print(f\"Dropping {n_drop} rows ({pct:.2f}%) where mode='{mode}'\")"
   ]
  },
  {
   "cell_type": "code",
   "execution_count": 32,
   "id": "5fb8eee5",
   "metadata": {
    "execution": {
     "iopub.execute_input": "2025-07-28T11:04:27.613875Z",
     "iopub.status.busy": "2025-07-28T11:04:27.612834Z",
     "iopub.status.idle": "2025-07-28T11:04:27.676528Z",
     "shell.execute_reply": "2025-07-28T11:04:27.675447Z"
    },
    "papermill": {
     "duration": 0.089178,
     "end_time": "2025-07-28T11:04:27.678562",
     "exception": false,
     "start_time": "2025-07-28T11:04:27.589384",
     "status": "completed"
    },
    "tags": []
   },
   "outputs": [],
   "source": [
    "X_train = X_train[keep_mask]"
   ]
  },
  {
   "cell_type": "code",
   "execution_count": 33,
   "id": "b202bb3a",
   "metadata": {
    "execution": {
     "iopub.execute_input": "2025-07-28T11:04:27.724128Z",
     "iopub.status.busy": "2025-07-28T11:04:27.723205Z",
     "iopub.status.idle": "2025-07-28T11:04:27.730915Z",
     "shell.execute_reply": "2025-07-28T11:04:27.729904Z"
    },
    "papermill": {
     "duration": 0.032589,
     "end_time": "2025-07-28T11:04:27.732710",
     "exception": false,
     "start_time": "2025-07-28T11:04:27.700121",
     "status": "completed"
    },
    "tags": []
   },
   "outputs": [],
   "source": [
    "y_train = y_train[keep_mask]"
   ]
  },
  {
   "cell_type": "markdown",
   "id": "493e2ac3",
   "metadata": {
    "papermill": {
     "duration": 0.023944,
     "end_time": "2025-07-28T11:04:27.781303",
     "exception": false,
     "start_time": "2025-07-28T11:04:27.757359",
     "status": "completed"
    },
    "tags": []
   },
   "source": [
    "# Model Training"
   ]
  },
  {
   "cell_type": "code",
   "execution_count": 34,
   "id": "679e1268",
   "metadata": {
    "execution": {
     "iopub.execute_input": "2025-07-28T11:04:27.831134Z",
     "iopub.status.busy": "2025-07-28T11:04:27.830651Z",
     "iopub.status.idle": "2025-07-28T11:04:27.910195Z",
     "shell.execute_reply": "2025-07-28T11:04:27.909405Z"
    },
    "papermill": {
     "duration": 0.106347,
     "end_time": "2025-07-28T11:04:27.911736",
     "exception": false,
     "start_time": "2025-07-28T11:04:27.805389",
     "status": "completed"
    },
    "tags": []
   },
   "outputs": [],
   "source": [
    "from sklearn.linear_model import LogisticRegression\n",
    "from sklearn.ensemble import GradientBoostingClassifier, RandomForestClassifier\n",
    "\n",
    "if (universe[\"model\"] == \"logreg\"):\n",
    "    model = LogisticRegression() #penalty=\"none\") #, solver=\"newton-cg\", max_iter=1) # include random_state=19 ?\n",
    "elif (universe[\"model\"] == \"penalized_logreg\"):\n",
    "    model = LogisticRegression(penalty=\"l2\", C=1.0) #, solver=\"newton-cg\", max_iter=1)\n",
    "elif (universe[\"model\"] == \"rf\"):\n",
    "    model = RandomForestClassifier(n_estimators=100, n_jobs=-1)\n",
    "elif (universe[\"model\"] == \"gbm\"):\n",
    "    model = GradientBoostingClassifier()\n",
    "elif (universe[\"model\"] == \"elasticnet\"):\n",
    "    model = LogisticRegression(penalty = 'elasticnet', solver = 'saga', l1_ratio = 0.5, max_iter=5000) # which solver to use?\n",
    "else:\n",
    "    raise \"Unsupported universe.model\""
   ]
  },
  {
   "cell_type": "code",
   "execution_count": 35,
   "id": "0cc8f744",
   "metadata": {
    "execution": {
     "iopub.execute_input": "2025-07-28T11:04:27.936758Z",
     "iopub.status.busy": "2025-07-28T11:04:27.936237Z",
     "iopub.status.idle": "2025-07-28T11:04:27.941511Z",
     "shell.execute_reply": "2025-07-28T11:04:27.940709Z"
    },
    "papermill": {
     "duration": 0.019124,
     "end_time": "2025-07-28T11:04:27.942812",
     "exception": false,
     "start_time": "2025-07-28T11:04:27.923688",
     "status": "completed"
    },
    "tags": []
   },
   "outputs": [],
   "source": [
    "import numpy as np\n",
    "from sklearn.pipeline import Pipeline\n",
    "from sklearn.preprocessing import StandardScaler\n",
    "\n",
    "model = Pipeline([\n",
    "    #(\"continuous_processor\", continuous_processor),\n",
    "    #(\"categorical_preprocessor\", categorical_preprocessor),\n",
    "    (\"scale\", StandardScaler() if universe[\"scale\"] == \"scale\" else None), \n",
    "    (\"model\", model),\n",
    "])"
   ]
  },
  {
   "cell_type": "code",
   "execution_count": 36,
   "id": "9442c04d",
   "metadata": {
    "execution": {
     "iopub.execute_input": "2025-07-28T11:04:27.967258Z",
     "iopub.status.busy": "2025-07-28T11:04:27.966895Z",
     "iopub.status.idle": "2025-07-28T11:04:32.011712Z",
     "shell.execute_reply": "2025-07-28T11:04:32.010613Z"
    },
    "papermill": {
     "duration": 4.058481,
     "end_time": "2025-07-28T11:04:32.013343",
     "exception": false,
     "start_time": "2025-07-28T11:04:27.954862",
     "status": "completed"
    },
    "tags": []
   },
   "outputs": [
    {
     "name": "stderr",
     "output_type": "stream",
     "text": [
      "/dss/dsshome1/0C/ra93lal2/.local/share/virtualenvs/CMA_Fairness_v2-3j10GkSs/lib/python3.10/site-packages/sklearn/linear_model/_logistic.py:444: ConvergenceWarning: lbfgs failed to converge (status=1):\n",
      "STOP: TOTAL NO. of ITERATIONS REACHED LIMIT.\n",
      "\n",
      "Increase the number of iterations (max_iter) or scale the data as shown in:\n",
      "    https://scikit-learn.org/stable/modules/preprocessing.html\n",
      "Please also refer to the documentation for alternative solver options:\n",
      "    https://scikit-learn.org/stable/modules/linear_model.html#logistic-regression\n",
      "  n_iter_i = _check_optimize_result(\n"
     ]
    },
    {
     "data": {
      "text/html": [
       "<style>#sk-container-id-1 {color: black;background-color: white;}#sk-container-id-1 pre{padding: 0;}#sk-container-id-1 div.sk-toggleable {background-color: white;}#sk-container-id-1 label.sk-toggleable__label {cursor: pointer;display: block;width: 100%;margin-bottom: 0;padding: 0.3em;box-sizing: border-box;text-align: center;}#sk-container-id-1 label.sk-toggleable__label-arrow:before {content: \"▸\";float: left;margin-right: 0.25em;color: #696969;}#sk-container-id-1 label.sk-toggleable__label-arrow:hover:before {color: black;}#sk-container-id-1 div.sk-estimator:hover label.sk-toggleable__label-arrow:before {color: black;}#sk-container-id-1 div.sk-toggleable__content {max-height: 0;max-width: 0;overflow: hidden;text-align: left;background-color: #f0f8ff;}#sk-container-id-1 div.sk-toggleable__content pre {margin: 0.2em;color: black;border-radius: 0.25em;background-color: #f0f8ff;}#sk-container-id-1 input.sk-toggleable__control:checked~div.sk-toggleable__content {max-height: 200px;max-width: 100%;overflow: auto;}#sk-container-id-1 input.sk-toggleable__control:checked~label.sk-toggleable__label-arrow:before {content: \"▾\";}#sk-container-id-1 div.sk-estimator input.sk-toggleable__control:checked~label.sk-toggleable__label {background-color: #d4ebff;}#sk-container-id-1 div.sk-label input.sk-toggleable__control:checked~label.sk-toggleable__label {background-color: #d4ebff;}#sk-container-id-1 input.sk-hidden--visually {border: 0;clip: rect(1px 1px 1px 1px);clip: rect(1px, 1px, 1px, 1px);height: 1px;margin: -1px;overflow: hidden;padding: 0;position: absolute;width: 1px;}#sk-container-id-1 div.sk-estimator {font-family: monospace;background-color: #f0f8ff;border: 1px dotted black;border-radius: 0.25em;box-sizing: border-box;margin-bottom: 0.5em;}#sk-container-id-1 div.sk-estimator:hover {background-color: #d4ebff;}#sk-container-id-1 div.sk-parallel-item::after {content: \"\";width: 100%;border-bottom: 1px solid gray;flex-grow: 1;}#sk-container-id-1 div.sk-label:hover label.sk-toggleable__label {background-color: #d4ebff;}#sk-container-id-1 div.sk-serial::before {content: \"\";position: absolute;border-left: 1px solid gray;box-sizing: border-box;top: 0;bottom: 0;left: 50%;z-index: 0;}#sk-container-id-1 div.sk-serial {display: flex;flex-direction: column;align-items: center;background-color: white;padding-right: 0.2em;padding-left: 0.2em;position: relative;}#sk-container-id-1 div.sk-item {position: relative;z-index: 1;}#sk-container-id-1 div.sk-parallel {display: flex;align-items: stretch;justify-content: center;background-color: white;position: relative;}#sk-container-id-1 div.sk-item::before, #sk-container-id-1 div.sk-parallel-item::before {content: \"\";position: absolute;border-left: 1px solid gray;box-sizing: border-box;top: 0;bottom: 0;left: 50%;z-index: -1;}#sk-container-id-1 div.sk-parallel-item {display: flex;flex-direction: column;z-index: 1;position: relative;background-color: white;}#sk-container-id-1 div.sk-parallel-item:first-child::after {align-self: flex-end;width: 50%;}#sk-container-id-1 div.sk-parallel-item:last-child::after {align-self: flex-start;width: 50%;}#sk-container-id-1 div.sk-parallel-item:only-child::after {width: 0;}#sk-container-id-1 div.sk-dashed-wrapped {border: 1px dashed gray;margin: 0 0.4em 0.5em 0.4em;box-sizing: border-box;padding-bottom: 0.4em;background-color: white;}#sk-container-id-1 div.sk-label label {font-family: monospace;font-weight: bold;display: inline-block;line-height: 1.2em;}#sk-container-id-1 div.sk-label-container {text-align: center;}#sk-container-id-1 div.sk-container {/* jupyter's `normalize.less` sets `[hidden] { display: none; }` but bootstrap.min.css set `[hidden] { display: none !important; }` so we also need the `!important` here to be able to override the default hidden behavior on the sphinx rendered scikit-learn.org. See: https://github.com/scikit-learn/scikit-learn/issues/21755 */display: inline-block !important;position: relative;}#sk-container-id-1 div.sk-text-repr-fallback {display: none;}</style><div id=\"sk-container-id-1\" class=\"sk-top-container\"><div class=\"sk-text-repr-fallback\"><pre>Pipeline(steps=[(&#x27;scale&#x27;, None), (&#x27;model&#x27;, LogisticRegression())])</pre><b>In a Jupyter environment, please rerun this cell to show the HTML representation or trust the notebook. <br />On GitHub, the HTML representation is unable to render, please try loading this page with nbviewer.org.</b></div><div class=\"sk-container\" hidden><div class=\"sk-item sk-dashed-wrapped\"><div class=\"sk-label-container\"><div class=\"sk-label sk-toggleable\"><input class=\"sk-toggleable__control sk-hidden--visually\" id=\"sk-estimator-id-1\" type=\"checkbox\" ><label for=\"sk-estimator-id-1\" class=\"sk-toggleable__label sk-toggleable__label-arrow\">Pipeline</label><div class=\"sk-toggleable__content\"><pre>Pipeline(steps=[(&#x27;scale&#x27;, None), (&#x27;model&#x27;, LogisticRegression())])</pre></div></div></div><div class=\"sk-serial\"><div class=\"sk-item\"><div class=\"sk-estimator sk-toggleable\"><input class=\"sk-toggleable__control sk-hidden--visually\" id=\"sk-estimator-id-2\" type=\"checkbox\" ><label for=\"sk-estimator-id-2\" class=\"sk-toggleable__label sk-toggleable__label-arrow\">None</label><div class=\"sk-toggleable__content\"><pre>None</pre></div></div></div><div class=\"sk-item\"><div class=\"sk-estimator sk-toggleable\"><input class=\"sk-toggleable__control sk-hidden--visually\" id=\"sk-estimator-id-3\" type=\"checkbox\" ><label for=\"sk-estimator-id-3\" class=\"sk-toggleable__label sk-toggleable__label-arrow\">LogisticRegression</label><div class=\"sk-toggleable__content\"><pre>LogisticRegression()</pre></div></div></div></div></div></div></div>"
      ],
      "text/plain": [
       "Pipeline(steps=[('scale', None), ('model', LogisticRegression())])"
      ]
     },
     "execution_count": 36,
     "metadata": {},
     "output_type": "execute_result"
    }
   ],
   "source": [
    "model.fit(X_train, y_train.values.ravel())"
   ]
  },
  {
   "cell_type": "code",
   "execution_count": 37,
   "id": "af59f8c0",
   "metadata": {
    "execution": {
     "iopub.execute_input": "2025-07-28T11:04:32.063630Z",
     "iopub.status.busy": "2025-07-28T11:04:32.063117Z",
     "iopub.status.idle": "2025-07-28T11:04:32.068914Z",
     "shell.execute_reply": "2025-07-28T11:04:32.067856Z"
    },
    "papermill": {
     "duration": 0.032631,
     "end_time": "2025-07-28T11:04:32.070840",
     "exception": false,
     "start_time": "2025-07-28T11:04:32.038209",
     "status": "completed"
    },
    "tags": []
   },
   "outputs": [],
   "source": [
    "from fairness_multiverse.universe import predict_w_threshold"
   ]
  },
  {
   "cell_type": "code",
   "execution_count": 38,
   "id": "a7cf2e16",
   "metadata": {
    "execution": {
     "iopub.execute_input": "2025-07-28T11:04:32.126648Z",
     "iopub.status.busy": "2025-07-28T11:04:32.126193Z",
     "iopub.status.idle": "2025-07-28T11:04:32.225881Z",
     "shell.execute_reply": "2025-07-28T11:04:32.224889Z"
    },
    "papermill": {
     "duration": 0.129196,
     "end_time": "2025-07-28T11:04:32.227474",
     "exception": false,
     "start_time": "2025-07-28T11:04:32.098278",
     "status": "completed"
    },
    "tags": []
   },
   "outputs": [
    {
     "data": {
      "text/plain": [
       "0.8635715081930665"
      ]
     },
     "execution_count": 38,
     "metadata": {},
     "output_type": "execute_result"
    }
   ],
   "source": [
    "probs_test = model.predict_proba(X_test)\n",
    "\n",
    "'''\n",
    "Below code returns a boolean array (or binary 0/1 array depending on how it’s used) where each element \n",
    "is True if the probability of class 1 is greater than or equal to the threshold, and False otherwise.\n",
    "'''\n",
    "y_pred_default = predict_w_threshold(probs_test, 0.5)\n",
    "\n",
    "from sklearn.metrics import accuracy_score\n",
    "\n",
    "# Naive prediction\n",
    "accuracy_score(y_true = y_true, y_pred = y_pred_default)"
   ]
  },
  {
   "cell_type": "code",
   "execution_count": 39,
   "id": "081964c3",
   "metadata": {
    "execution": {
     "iopub.execute_input": "2025-07-28T11:04:32.276701Z",
     "iopub.status.busy": "2025-07-28T11:04:32.276093Z",
     "iopub.status.idle": "2025-07-28T11:04:32.365911Z",
     "shell.execute_reply": "2025-07-28T11:04:32.364933Z"
    },
    "papermill": {
     "duration": 0.116582,
     "end_time": "2025-07-28T11:04:32.367822",
     "exception": false,
     "start_time": "2025-07-28T11:04:32.251240",
     "status": "completed"
    },
    "tags": []
   },
   "outputs": [
    {
     "data": {
      "text/plain": [
       "array([0, 0, 0, ..., 0, 0, 0])"
      ]
     },
     "execution_count": 39,
     "metadata": {},
     "output_type": "execute_result"
    }
   ],
   "source": [
    "model.predict(X_test)"
   ]
  },
  {
   "cell_type": "markdown",
   "id": "56c9705b",
   "metadata": {
    "papermill": {
     "duration": 0.024945,
     "end_time": "2025-07-28T11:04:32.417680",
     "exception": false,
     "start_time": "2025-07-28T11:04:32.392735",
     "status": "completed"
    },
    "tags": []
   },
   "source": [
    "# Conformal Prediction"
   ]
  },
  {
   "cell_type": "code",
   "execution_count": 40,
   "id": "160ec6ff",
   "metadata": {
    "execution": {
     "iopub.execute_input": "2025-07-28T11:04:32.468160Z",
     "iopub.status.busy": "2025-07-28T11:04:32.467239Z",
     "iopub.status.idle": "2025-07-28T11:04:32.472471Z",
     "shell.execute_reply": "2025-07-28T11:04:32.471588Z"
    },
    "papermill": {
     "duration": 0.031891,
     "end_time": "2025-07-28T11:04:32.474072",
     "exception": false,
     "start_time": "2025-07-28T11:04:32.442181",
     "status": "completed"
    },
    "tags": []
   },
   "outputs": [],
   "source": [
    "# Miscoverage level for conformal prediction (10% allowed error rate => 90% target coverage)\n",
    "alpha = 0.1"
   ]
  },
  {
   "cell_type": "code",
   "execution_count": 41,
   "id": "eadf4555-3dd3-440e-8e35-f82a4ad9f855",
   "metadata": {
    "execution": {
     "iopub.execute_input": "2025-07-28T11:04:32.521799Z",
     "iopub.status.busy": "2025-07-28T11:04:32.521416Z",
     "iopub.status.idle": "2025-07-28T11:04:32.643849Z",
     "shell.execute_reply": "2025-07-28T11:04:32.642730Z"
    },
    "papermill": {
     "duration": 0.148062,
     "end_time": "2025-07-28T11:04:32.645949",
     "exception": false,
     "start_time": "2025-07-28T11:04:32.497887",
     "status": "completed"
    },
    "tags": []
   },
   "outputs": [],
   "source": [
    "probs_calib = model.predict_proba(X_calib)"
   ]
  },
  {
   "cell_type": "code",
   "execution_count": 42,
   "id": "2ed93547-6d5d-4983-9b36-1ecb300da49a",
   "metadata": {
    "execution": {
     "iopub.execute_input": "2025-07-28T11:04:32.690709Z",
     "iopub.status.busy": "2025-07-28T11:04:32.690241Z",
     "iopub.status.idle": "2025-07-28T11:04:32.695568Z",
     "shell.execute_reply": "2025-07-28T11:04:32.694743Z"
    },
    "papermill": {
     "duration": 0.026275,
     "end_time": "2025-07-28T11:04:32.697178",
     "exception": false,
     "start_time": "2025-07-28T11:04:32.670903",
     "status": "completed"
    },
    "tags": []
   },
   "outputs": [],
   "source": [
    "y_calib = y_calib.values.ravel().astype(int)"
   ]
  },
  {
   "cell_type": "code",
   "execution_count": 43,
   "id": "65d1320d-f588-4b38-9072-62af1ae97f7d",
   "metadata": {
    "execution": {
     "iopub.execute_input": "2025-07-28T11:04:32.744320Z",
     "iopub.status.busy": "2025-07-28T11:04:32.743726Z",
     "iopub.status.idle": "2025-07-28T11:04:32.751459Z",
     "shell.execute_reply": "2025-07-28T11:04:32.750584Z"
    },
    "papermill": {
     "duration": 0.031217,
     "end_time": "2025-07-28T11:04:32.753104",
     "exception": false,
     "start_time": "2025-07-28T11:04:32.721887",
     "status": "completed"
    },
    "tags": []
   },
   "outputs": [],
   "source": [
    "from fairness_multiverse.conformal import compute_nc_scores\n",
    "\n",
    "# Compute nonconformity scores on calibration set (1 - probability of true class)\n",
    "nc_scores = compute_nc_scores(probs_calib, y_calib)"
   ]
  },
  {
   "cell_type": "code",
   "execution_count": 44,
   "id": "df3b8ca3-53b7-43d5-9667-7c85da7aeda2",
   "metadata": {
    "execution": {
     "iopub.execute_input": "2025-07-28T11:04:32.805191Z",
     "iopub.status.busy": "2025-07-28T11:04:32.804239Z",
     "iopub.status.idle": "2025-07-28T11:04:32.810871Z",
     "shell.execute_reply": "2025-07-28T11:04:32.809945Z"
    },
    "papermill": {
     "duration": 0.034147,
     "end_time": "2025-07-28T11:04:32.812632",
     "exception": false,
     "start_time": "2025-07-28T11:04:32.778485",
     "status": "completed"
    },
    "tags": []
   },
   "outputs": [],
   "source": [
    "from fairness_multiverse.conformal import find_threshold\n",
    "\n",
    "# Find conformal threshold q_hat for the given alpha (split conformal method)\n",
    "q_hat = find_threshold(nc_scores, alpha)"
   ]
  },
  {
   "cell_type": "code",
   "execution_count": 45,
   "id": "4d29e6c1-0ef6-4aa4-b8fe-4fe79b0d033a",
   "metadata": {
    "execution": {
     "iopub.execute_input": "2025-07-28T11:04:32.863864Z",
     "iopub.status.busy": "2025-07-28T11:04:32.863406Z",
     "iopub.status.idle": "2025-07-28T11:04:32.870520Z",
     "shell.execute_reply": "2025-07-28T11:04:32.869760Z"
    },
    "papermill": {
     "duration": 0.034053,
     "end_time": "2025-07-28T11:04:32.871974",
     "exception": false,
     "start_time": "2025-07-28T11:04:32.837921",
     "status": "completed"
    },
    "tags": []
   },
   "outputs": [
    {
     "data": {
      "text/plain": [
       "0.6734658883240666"
      ]
     },
     "execution_count": 45,
     "metadata": {},
     "output_type": "execute_result"
    }
   ],
   "source": [
    "q_hat"
   ]
  },
  {
   "cell_type": "code",
   "execution_count": 46,
   "id": "92460794-cdac-4be2-ba28-f28c0515a6fb",
   "metadata": {
    "execution": {
     "iopub.execute_input": "2025-07-28T11:04:32.904845Z",
     "iopub.status.busy": "2025-07-28T11:04:32.904249Z",
     "iopub.status.idle": "2025-07-28T11:04:33.775117Z",
     "shell.execute_reply": "2025-07-28T11:04:33.774003Z"
    },
    "papermill": {
     "duration": 0.891202,
     "end_time": "2025-07-28T11:04:33.777238",
     "exception": false,
     "start_time": "2025-07-28T11:04:32.886036",
     "status": "completed"
    },
    "tags": []
   },
   "outputs": [],
   "source": [
    "from fairness_multiverse.conformal import predict_conformal_sets\n",
    "\n",
    "# Generate prediction sets for each test example\n",
    "pred_sets = predict_conformal_sets(model, X_test, q_hat)"
   ]
  },
  {
   "cell_type": "code",
   "execution_count": 47,
   "id": "d90c9a65-e6db-4f5d-80cd-e68fb7e46829",
   "metadata": {
    "execution": {
     "iopub.execute_input": "2025-07-28T11:04:33.829079Z",
     "iopub.status.busy": "2025-07-28T11:04:33.828338Z",
     "iopub.status.idle": "2025-07-28T11:04:33.834384Z",
     "shell.execute_reply": "2025-07-28T11:04:33.833361Z"
    },
    "papermill": {
     "duration": 0.033128,
     "end_time": "2025-07-28T11:04:33.836229",
     "exception": false,
     "start_time": "2025-07-28T11:04:33.803101",
     "status": "completed"
    },
    "tags": []
   },
   "outputs": [],
   "source": [
    "y_true = y_true.squeeze()"
   ]
  },
  {
   "cell_type": "code",
   "execution_count": 48,
   "id": "3a58a54a-1e68-46b9-927a-df01f18aebc8",
   "metadata": {
    "execution": {
     "iopub.execute_input": "2025-07-28T11:04:33.892260Z",
     "iopub.status.busy": "2025-07-28T11:04:33.891346Z",
     "iopub.status.idle": "2025-07-28T11:04:34.661041Z",
     "shell.execute_reply": "2025-07-28T11:04:34.660240Z"
    },
    "papermill": {
     "duration": 0.799303,
     "end_time": "2025-07-28T11:04:34.662910",
     "exception": false,
     "start_time": "2025-07-28T11:04:33.863607",
     "status": "completed"
    },
    "tags": []
   },
   "outputs": [],
   "source": [
    "from fairness_multiverse.conformal import evaluate_sets\n",
    "\n",
    "# Evaluate coverage and average set size on test data\n",
    "metrics = evaluate_sets(pred_sets, y_true)"
   ]
  },
  {
   "cell_type": "markdown",
   "id": "2b569c12-9aaa-4c88-98c9-bbcd0cf3ebb8",
   "metadata": {
    "papermill": {
     "duration": 0.016293,
     "end_time": "2025-07-28T11:04:34.705024",
     "exception": false,
     "start_time": "2025-07-28T11:04:34.688731",
     "status": "completed"
    },
    "tags": []
   },
   "source": [
    "# CP Metrics"
   ]
  },
  {
   "cell_type": "code",
   "execution_count": 49,
   "id": "5ce0a5cb-201f-45a0-ade5-94c7f0bd6095",
   "metadata": {
    "execution": {
     "iopub.execute_input": "2025-07-28T11:04:34.732944Z",
     "iopub.status.busy": "2025-07-28T11:04:34.732565Z",
     "iopub.status.idle": "2025-07-28T11:04:34.739421Z",
     "shell.execute_reply": "2025-07-28T11:04:34.738628Z"
    },
    "papermill": {
     "duration": 0.022953,
     "end_time": "2025-07-28T11:04:34.741274",
     "exception": false,
     "start_time": "2025-07-28T11:04:34.718321",
     "status": "completed"
    },
    "tags": []
   },
   "outputs": [
    {
     "data": {
      "text/plain": [
       "{'coverage': 0.9124289376881061, 'avg_size': 1.1968342436740609}"
      ]
     },
     "execution_count": 49,
     "metadata": {},
     "output_type": "execute_result"
    }
   ],
   "source": [
    "metrics"
   ]
  },
  {
   "cell_type": "code",
   "execution_count": 50,
   "id": "9b9a838d-31c9-430b-ae14-12baee460d17",
   "metadata": {
    "execution": {
     "iopub.execute_input": "2025-07-28T11:04:34.796587Z",
     "iopub.status.busy": "2025-07-28T11:04:34.796017Z",
     "iopub.status.idle": "2025-07-28T11:04:34.803321Z",
     "shell.execute_reply": "2025-07-28T11:04:34.802219Z"
    },
    "papermill": {
     "duration": 0.036916,
     "end_time": "2025-07-28T11:04:34.805196",
     "exception": false,
     "start_time": "2025-07-28T11:04:34.768280",
     "status": "completed"
    },
    "tags": []
   },
   "outputs": [],
   "source": [
    "example_universe = universe.copy()\n",
    "universe_training_size = example_universe.get(\"training_size\")\n",
    "universe_scale = example_universe.get(\"scale\")\n",
    "universe_model = example_universe.get(\"model\")\n",
    "universe_exclude_features = example_universe.get(\"exclude_features\")\n",
    "universe_exclude_subgroups = example_universe.get(\"exclude_subgroups\")"
   ]
  },
  {
   "cell_type": "code",
   "execution_count": 51,
   "id": "f4b6a8ac-9dc0-4245-8a91-5b3b5999c4f9",
   "metadata": {
    "execution": {
     "iopub.execute_input": "2025-07-28T11:04:34.860270Z",
     "iopub.status.busy": "2025-07-28T11:04:34.859507Z",
     "iopub.status.idle": "2025-07-28T11:04:34.866976Z",
     "shell.execute_reply": "2025-07-28T11:04:34.865851Z"
    },
    "papermill": {
     "duration": 0.036619,
     "end_time": "2025-07-28T11:04:34.868796",
     "exception": false,
     "start_time": "2025-07-28T11:04:34.832177",
     "status": "completed"
    },
    "tags": []
   },
   "outputs": [],
   "source": [
    "cp_metrics_dict = {\n",
    "    \"universe_id\": [universe_id],\n",
    "    \"universe_training_size\": [universe_training_size],\n",
    "    \"universe_scale\": [universe_scale],\n",
    "    \"universe_model\": [universe_model],\n",
    "    \"universe_exclude_features\": [universe_exclude_features],\n",
    "    \"universe_exclude_subgroups\": [universe_exclude_subgroups],\n",
    "    \"q_hat\": [q_hat],\n",
    "    \"coverage\": [metrics[\"coverage\"]],\n",
    "    \"avg_size\": [metrics[\"avg_size\"]],\n",
    "}"
   ]
  },
  {
   "cell_type": "code",
   "execution_count": 52,
   "id": "908acbb1-0371-4915-85ca-3fa520d2efe2",
   "metadata": {
    "execution": {
     "iopub.execute_input": "2025-07-28T11:04:34.901887Z",
     "iopub.status.busy": "2025-07-28T11:04:34.901431Z",
     "iopub.status.idle": "2025-07-28T11:04:34.908644Z",
     "shell.execute_reply": "2025-07-28T11:04:34.907849Z"
    },
    "papermill": {
     "duration": 0.023347,
     "end_time": "2025-07-28T11:04:34.909964",
     "exception": false,
     "start_time": "2025-07-28T11:04:34.886617",
     "status": "completed"
    },
    "tags": []
   },
   "outputs": [
    {
     "data": {
      "text/plain": [
       "{'universe_id': ['18b539225c584db03963dc850fb7c74c'],\n",
       " 'universe_training_size': ['2014'],\n",
       " 'universe_scale': ['do-not-scale'],\n",
       " 'universe_model': ['penalized_logreg'],\n",
       " 'universe_exclude_features': ['nationality'],\n",
       " 'universe_exclude_subgroups': ['keep-all'],\n",
       " 'q_hat': [0.6734658883240666],\n",
       " 'coverage': [0.9124289376881061],\n",
       " 'avg_size': [1.1968342436740609]}"
      ]
     },
     "execution_count": 52,
     "metadata": {},
     "output_type": "execute_result"
    }
   ],
   "source": [
    "cp_metrics_dict"
   ]
  },
  {
   "cell_type": "code",
   "execution_count": 53,
   "id": "33007efc-14e9-4ec6-97ac-56a455c82265",
   "metadata": {
    "execution": {
     "iopub.execute_input": "2025-07-28T11:04:34.939465Z",
     "iopub.status.busy": "2025-07-28T11:04:34.938943Z",
     "iopub.status.idle": "2025-07-28T11:04:34.945741Z",
     "shell.execute_reply": "2025-07-28T11:04:34.944714Z"
    },
    "papermill": {
     "duration": 0.023152,
     "end_time": "2025-07-28T11:04:34.947370",
     "exception": false,
     "start_time": "2025-07-28T11:04:34.924218",
     "status": "completed"
    },
    "tags": []
   },
   "outputs": [],
   "source": [
    "cp_metrics_df = pd.DataFrame(cp_metrics_dict)"
   ]
  },
  {
   "cell_type": "code",
   "execution_count": 54,
   "id": "db12611b-57b2-4910-b9d0-355adfd6e7bf",
   "metadata": {
    "execution": {
     "iopub.execute_input": "2025-07-28T11:04:34.978731Z",
     "iopub.status.busy": "2025-07-28T11:04:34.978368Z",
     "iopub.status.idle": "2025-07-28T11:04:34.995843Z",
     "shell.execute_reply": "2025-07-28T11:04:34.994733Z"
    },
    "papermill": {
     "duration": 0.035041,
     "end_time": "2025-07-28T11:04:34.997579",
     "exception": false,
     "start_time": "2025-07-28T11:04:34.962538",
     "status": "completed"
    },
    "tags": []
   },
   "outputs": [
    {
     "data": {
      "text/html": [
       "<div>\n",
       "<style scoped>\n",
       "    .dataframe tbody tr th:only-of-type {\n",
       "        vertical-align: middle;\n",
       "    }\n",
       "\n",
       "    .dataframe tbody tr th {\n",
       "        vertical-align: top;\n",
       "    }\n",
       "\n",
       "    .dataframe thead th {\n",
       "        text-align: right;\n",
       "    }\n",
       "</style>\n",
       "<table border=\"1\" class=\"dataframe\">\n",
       "  <thead>\n",
       "    <tr style=\"text-align: right;\">\n",
       "      <th></th>\n",
       "      <th>universe_id</th>\n",
       "      <th>universe_training_size</th>\n",
       "      <th>universe_scale</th>\n",
       "      <th>universe_model</th>\n",
       "      <th>universe_exclude_features</th>\n",
       "      <th>universe_exclude_subgroups</th>\n",
       "      <th>q_hat</th>\n",
       "      <th>coverage</th>\n",
       "      <th>avg_size</th>\n",
       "    </tr>\n",
       "  </thead>\n",
       "  <tbody>\n",
       "    <tr>\n",
       "      <th>0</th>\n",
       "      <td>18b539225c584db03963dc850fb7c74c</td>\n",
       "      <td>2014</td>\n",
       "      <td>do-not-scale</td>\n",
       "      <td>penalized_logreg</td>\n",
       "      <td>nationality</td>\n",
       "      <td>keep-all</td>\n",
       "      <td>0.673466</td>\n",
       "      <td>0.912429</td>\n",
       "      <td>1.196834</td>\n",
       "    </tr>\n",
       "  </tbody>\n",
       "</table>\n",
       "</div>"
      ],
      "text/plain": [
       "                        universe_id universe_training_size universe_scale  \\\n",
       "0  18b539225c584db03963dc850fb7c74c                   2014   do-not-scale   \n",
       "\n",
       "     universe_model universe_exclude_features universe_exclude_subgroups  \\\n",
       "0  penalized_logreg               nationality                   keep-all   \n",
       "\n",
       "      q_hat  coverage  avg_size  \n",
       "0  0.673466  0.912429  1.196834  "
      ]
     },
     "execution_count": 54,
     "metadata": {},
     "output_type": "execute_result"
    }
   ],
   "source": [
    "cp_metrics_df"
   ]
  },
  {
   "cell_type": "code",
   "execution_count": 55,
   "id": "b7fbde55-a0a1-47e4-9af6-fe4a17fa8c61",
   "metadata": {
    "execution": {
     "iopub.execute_input": "2025-07-28T11:04:35.053150Z",
     "iopub.status.busy": "2025-07-28T11:04:35.052248Z",
     "iopub.status.idle": "2025-07-28T11:04:35.058235Z",
     "shell.execute_reply": "2025-07-28T11:04:35.057155Z"
    },
    "papermill": {
     "duration": 0.036684,
     "end_time": "2025-07-28T11:04:35.060006",
     "exception": false,
     "start_time": "2025-07-28T11:04:35.023322",
     "status": "completed"
    },
    "tags": []
   },
   "outputs": [],
   "source": [
    "# Conditional Coverage & looking at subgroups"
   ]
  },
  {
   "cell_type": "code",
   "execution_count": 56,
   "id": "027ae886-68dd-4141-96c7-805a5450e1ef",
   "metadata": {
    "execution": {
     "iopub.execute_input": "2025-07-28T11:04:35.115239Z",
     "iopub.status.busy": "2025-07-28T11:04:35.114373Z",
     "iopub.status.idle": "2025-07-28T11:04:35.324969Z",
     "shell.execute_reply": "2025-07-28T11:04:35.324116Z"
    },
    "papermill": {
     "duration": 0.240608,
     "end_time": "2025-07-28T11:04:35.326814",
     "exception": false,
     "start_time": "2025-07-28T11:04:35.086206",
     "status": "completed"
    },
    "tags": []
   },
   "outputs": [],
   "source": [
    "from fairness_multiverse.conformal import build_cp_groups\n",
    "\n",
    "cp_groups_df = build_cp_groups(pred_sets, y_true, X_test.index, org_test)\n",
    "#needs universe_id and setting"
   ]
  },
  {
   "cell_type": "code",
   "execution_count": 57,
   "id": "01d5802c-663a-4d1f-9d69-e036faaffbf7",
   "metadata": {
    "execution": {
     "iopub.execute_input": "2025-07-28T11:04:35.382687Z",
     "iopub.status.busy": "2025-07-28T11:04:35.381804Z",
     "iopub.status.idle": "2025-07-28T11:04:35.387391Z",
     "shell.execute_reply": "2025-07-28T11:04:35.386390Z"
    },
    "papermill": {
     "duration": 0.03597,
     "end_time": "2025-07-28T11:04:35.389214",
     "exception": false,
     "start_time": "2025-07-28T11:04:35.353244",
     "status": "completed"
    },
    "tags": []
   },
   "outputs": [],
   "source": [
    "#delete\n",
    "#cp_groups_df"
   ]
  },
  {
   "cell_type": "code",
   "execution_count": 58,
   "id": "fa424af1-d1eb-443d-b717-2d279ada8408",
   "metadata": {
    "execution": {
     "iopub.execute_input": "2025-07-28T11:04:35.444615Z",
     "iopub.status.busy": "2025-07-28T11:04:35.443625Z",
     "iopub.status.idle": "2025-07-28T11:04:35.449553Z",
     "shell.execute_reply": "2025-07-28T11:04:35.448467Z"
    },
    "papermill": {
     "duration": 0.035416,
     "end_time": "2025-07-28T11:04:35.451515",
     "exception": false,
     "start_time": "2025-07-28T11:04:35.416099",
     "status": "completed"
    },
    "tags": []
   },
   "outputs": [],
   "source": [
    "#delete\n",
    "#percentage = (cp_groups_df['nongerman_female'] == 1).mean() * 100\n",
    "#print(percentage)\n"
   ]
  },
  {
   "cell_type": "code",
   "execution_count": 59,
   "id": "6cbdab96-b2b2-45af-ad54-d0516db2e28d",
   "metadata": {
    "execution": {
     "iopub.execute_input": "2025-07-28T11:04:35.506972Z",
     "iopub.status.busy": "2025-07-28T11:04:35.505990Z",
     "iopub.status.idle": "2025-07-28T11:04:36.502993Z",
     "shell.execute_reply": "2025-07-28T11:04:36.502160Z"
    },
    "papermill": {
     "duration": 1.026456,
     "end_time": "2025-07-28T11:04:36.505090",
     "exception": false,
     "start_time": "2025-07-28T11:04:35.478634",
     "status": "completed"
    },
    "tags": []
   },
   "outputs": [],
   "source": [
    "# Define covered = 1 if true_label is in the predicted set\n",
    "cp_groups_df['covered'] = cp_groups_df.apply(\n",
    "    lambda r: int(r['true_label'] in r['pred_set']),\n",
    "    axis=1\n",
    ")"
   ]
  },
  {
   "cell_type": "code",
   "execution_count": 60,
   "id": "338ff529-1a6b-4b87-a931-8e4788d52aad",
   "metadata": {
    "execution": {
     "iopub.execute_input": "2025-07-28T11:04:36.560347Z",
     "iopub.status.busy": "2025-07-28T11:04:36.559593Z",
     "iopub.status.idle": "2025-07-28T11:04:36.565995Z",
     "shell.execute_reply": "2025-07-28T11:04:36.564863Z"
    },
    "papermill": {
     "duration": 0.035654,
     "end_time": "2025-07-28T11:04:36.567941",
     "exception": false,
     "start_time": "2025-07-28T11:04:36.532287",
     "status": "completed"
    },
    "tags": []
   },
   "outputs": [],
   "source": [
    "#cp_groups_df"
   ]
  },
  {
   "cell_type": "code",
   "execution_count": 61,
   "id": "90032e27-66df-4540-9169-4e89cfbaa758",
   "metadata": {
    "execution": {
     "iopub.execute_input": "2025-07-28T11:04:36.623682Z",
     "iopub.status.busy": "2025-07-28T11:04:36.623149Z",
     "iopub.status.idle": "2025-07-28T11:04:36.635784Z",
     "shell.execute_reply": "2025-07-28T11:04:36.634594Z"
    },
    "papermill": {
     "duration": 0.042307,
     "end_time": "2025-07-28T11:04:36.637910",
     "exception": false,
     "start_time": "2025-07-28T11:04:36.595603",
     "status": "completed"
    },
    "tags": []
   },
   "outputs": [],
   "source": [
    "subgroups = ['frau1','nongerman','nongerman_male','nongerman_female']\n",
    "\n",
    "# Conditional coverage for subgroup==1\n",
    "cond_coverage = {\n",
    "    g: cp_groups_df.loc[cp_groups_df[g]==1, 'covered'].mean()\n",
    "    for g in subgroups\n",
    "}"
   ]
  },
  {
   "cell_type": "code",
   "execution_count": 62,
   "id": "1e348fb1-b9c3-45bc-ba23-f016827a7e0d",
   "metadata": {
    "execution": {
     "iopub.execute_input": "2025-07-28T11:04:36.693780Z",
     "iopub.status.busy": "2025-07-28T11:04:36.693191Z",
     "iopub.status.idle": "2025-07-28T11:04:36.701530Z",
     "shell.execute_reply": "2025-07-28T11:04:36.700404Z"
    },
    "papermill": {
     "duration": 0.037846,
     "end_time": "2025-07-28T11:04:36.703511",
     "exception": false,
     "start_time": "2025-07-28T11:04:36.665665",
     "status": "completed"
    },
    "tags": []
   },
   "outputs": [
    {
     "data": {
      "text/plain": [
       "{'frau1': 0.9121175360560723,\n",
       " 'nongerman': 0.9264582046819738,\n",
       " 'nongerman_male': 0.9406466720706116,\n",
       " 'nongerman_female': 0.9029806259314456}"
      ]
     },
     "execution_count": 62,
     "metadata": {},
     "output_type": "execute_result"
    }
   ],
   "source": [
    "cond_coverage"
   ]
  },
  {
   "cell_type": "code",
   "execution_count": 63,
   "id": "f5093324-c3dd-4d63-bc4c-8d945e5c8bbb",
   "metadata": {
    "execution": {
     "iopub.execute_input": "2025-07-28T11:04:36.760824Z",
     "iopub.status.busy": "2025-07-28T11:04:36.760006Z",
     "iopub.status.idle": "2025-07-28T11:04:36.768327Z",
     "shell.execute_reply": "2025-07-28T11:04:36.767181Z"
    },
    "papermill": {
     "duration": 0.038647,
     "end_time": "2025-07-28T11:04:36.770217",
     "exception": false,
     "start_time": "2025-07-28T11:04:36.731570",
     "status": "completed"
    },
    "tags": []
   },
   "outputs": [],
   "source": [
    "for subgroup, cov in cond_coverage.items():\n",
    "    cp_metrics_df[f\"cov_{subgroup}\"] = cov"
   ]
  },
  {
   "cell_type": "code",
   "execution_count": 64,
   "id": "6e872e10-dbe5-49e8-b554-5030c98ff75d",
   "metadata": {
    "execution": {
     "iopub.execute_input": "2025-07-28T11:04:36.829020Z",
     "iopub.status.busy": "2025-07-28T11:04:36.828018Z",
     "iopub.status.idle": "2025-07-28T11:04:36.849549Z",
     "shell.execute_reply": "2025-07-28T11:04:36.848416Z"
    },
    "papermill": {
     "duration": 0.053425,
     "end_time": "2025-07-28T11:04:36.851532",
     "exception": false,
     "start_time": "2025-07-28T11:04:36.798107",
     "status": "completed"
    },
    "tags": []
   },
   "outputs": [
    {
     "data": {
      "text/html": [
       "<div>\n",
       "<style scoped>\n",
       "    .dataframe tbody tr th:only-of-type {\n",
       "        vertical-align: middle;\n",
       "    }\n",
       "\n",
       "    .dataframe tbody tr th {\n",
       "        vertical-align: top;\n",
       "    }\n",
       "\n",
       "    .dataframe thead th {\n",
       "        text-align: right;\n",
       "    }\n",
       "</style>\n",
       "<table border=\"1\" class=\"dataframe\">\n",
       "  <thead>\n",
       "    <tr style=\"text-align: right;\">\n",
       "      <th></th>\n",
       "      <th>universe_id</th>\n",
       "      <th>universe_training_size</th>\n",
       "      <th>universe_scale</th>\n",
       "      <th>universe_model</th>\n",
       "      <th>universe_exclude_features</th>\n",
       "      <th>universe_exclude_subgroups</th>\n",
       "      <th>q_hat</th>\n",
       "      <th>coverage</th>\n",
       "      <th>avg_size</th>\n",
       "      <th>cov_frau1</th>\n",
       "      <th>cov_nongerman</th>\n",
       "      <th>cov_nongerman_male</th>\n",
       "      <th>cov_nongerman_female</th>\n",
       "    </tr>\n",
       "  </thead>\n",
       "  <tbody>\n",
       "    <tr>\n",
       "      <th>0</th>\n",
       "      <td>18b539225c584db03963dc850fb7c74c</td>\n",
       "      <td>2014</td>\n",
       "      <td>do-not-scale</td>\n",
       "      <td>penalized_logreg</td>\n",
       "      <td>nationality</td>\n",
       "      <td>keep-all</td>\n",
       "      <td>0.673466</td>\n",
       "      <td>0.912429</td>\n",
       "      <td>1.196834</td>\n",
       "      <td>0.912118</td>\n",
       "      <td>0.926458</td>\n",
       "      <td>0.940647</td>\n",
       "      <td>0.902981</td>\n",
       "    </tr>\n",
       "  </tbody>\n",
       "</table>\n",
       "</div>"
      ],
      "text/plain": [
       "                        universe_id universe_training_size universe_scale  \\\n",
       "0  18b539225c584db03963dc850fb7c74c                   2014   do-not-scale   \n",
       "\n",
       "     universe_model universe_exclude_features universe_exclude_subgroups  \\\n",
       "0  penalized_logreg               nationality                   keep-all   \n",
       "\n",
       "      q_hat  coverage  avg_size  cov_frau1  cov_nongerman  cov_nongerman_male  \\\n",
       "0  0.673466  0.912429  1.196834   0.912118       0.926458            0.940647   \n",
       "\n",
       "   cov_nongerman_female  \n",
       "0              0.902981  "
      ]
     },
     "execution_count": 64,
     "metadata": {},
     "output_type": "execute_result"
    }
   ],
   "source": [
    "cp_metrics_df"
   ]
  },
  {
   "cell_type": "markdown",
   "id": "33774451",
   "metadata": {
    "papermill": {
     "duration": 0.028212,
     "end_time": "2025-07-28T11:04:36.906850",
     "exception": false,
     "start_time": "2025-07-28T11:04:36.878638",
     "status": "completed"
    },
    "tags": []
   },
   "source": [
    "# (Fairness) Metrics"
   ]
  },
  {
   "cell_type": "code",
   "execution_count": 65,
   "id": "debc5d62",
   "metadata": {
    "execution": {
     "iopub.execute_input": "2025-07-28T11:04:36.964016Z",
     "iopub.status.busy": "2025-07-28T11:04:36.963233Z",
     "iopub.status.idle": "2025-07-28T11:04:36.989210Z",
     "shell.execute_reply": "2025-07-28T11:04:36.988153Z"
    },
    "papermill": {
     "duration": 0.057245,
     "end_time": "2025-07-28T11:04:36.991245",
     "exception": false,
     "start_time": "2025-07-28T11:04:36.934000",
     "status": "completed"
    },
    "tags": []
   },
   "outputs": [],
   "source": [
    "# do I need to include maxdeutsch1.missing?\n",
    "\n",
    "import numpy as np\n",
    "\n",
    "colname_to_bin = \"maxdeutsch1\"\n",
    "majority_value = org_train[colname_to_bin].mode()[0]\n",
    "\n",
    "org_test[\"majmin\"] = np.where(org_test[colname_to_bin] == majority_value, \"majority\", \"minority\")"
   ]
  },
  {
   "cell_type": "code",
   "execution_count": 66,
   "id": "06a50de5",
   "metadata": {
    "execution": {
     "iopub.execute_input": "2025-07-28T11:04:37.049120Z",
     "iopub.status.busy": "2025-07-28T11:04:37.048094Z",
     "iopub.status.idle": "2025-07-28T11:04:38.866476Z",
     "shell.execute_reply": "2025-07-28T11:04:38.865655Z"
    },
    "papermill": {
     "duration": 1.849613,
     "end_time": "2025-07-28T11:04:38.868061",
     "exception": false,
     "start_time": "2025-07-28T11:04:37.018448",
     "status": "completed"
    },
    "tags": []
   },
   "outputs": [],
   "source": [
    "example_universe = universe.copy()\n",
    "example_universe[\"cutoff\"] = example_universe[\"cutoff\"][0]\n",
    "example_universe[\"eval_fairness_grouping\"] = example_universe[\"eval_fairness_grouping\"][0]\n",
    "fairness_dict, metric_frame = universe_analysis.compute_metrics(\n",
    "    example_universe,\n",
    "    y_pred_prob=probs_test,\n",
    "    y_test=y_true,\n",
    "    org_test=org_test,\n",
    ")"
   ]
  },
  {
   "cell_type": "markdown",
   "id": "f95d4e02",
   "metadata": {
    "papermill": {
     "duration": 0.013296,
     "end_time": "2025-07-28T11:04:38.895843",
     "exception": false,
     "start_time": "2025-07-28T11:04:38.882547",
     "status": "completed"
    },
    "tags": []
   },
   "source": [
    "# Overall"
   ]
  },
  {
   "cell_type": "markdown",
   "id": "bdee4871",
   "metadata": {
    "papermill": {
     "duration": 0.013339,
     "end_time": "2025-07-28T11:04:38.922604",
     "exception": false,
     "start_time": "2025-07-28T11:04:38.909265",
     "status": "completed"
    },
    "tags": []
   },
   "source": [
    "Fairness\n",
    "Main fairness target: Equalized Odds. Seems to be a better fit than equal opportunity, since we're not only interested in Y = 1. Seems to be a better fit than demographic parity, since we also care about accuracy, not just equal distribution of preds.\n",
    "\n",
    "Pick column for computation of fairness metrics\n",
    "\n",
    "Performance\n",
    "Overall performance measures, most interesting in relation to the measures split by group below"
   ]
  },
  {
   "cell_type": "code",
   "execution_count": 67,
   "id": "c4e067c6",
   "metadata": {
    "execution": {
     "iopub.execute_input": "2025-07-28T11:04:38.951048Z",
     "iopub.status.busy": "2025-07-28T11:04:38.950498Z",
     "iopub.status.idle": "2025-07-28T11:04:38.958392Z",
     "shell.execute_reply": "2025-07-28T11:04:38.957662Z"
    },
    "papermill": {
     "duration": 0.023646,
     "end_time": "2025-07-28T11:04:38.959752",
     "exception": false,
     "start_time": "2025-07-28T11:04:38.936106",
     "status": "completed"
    },
    "tags": []
   },
   "outputs": [
    {
     "data": {
      "text/plain": [
       "accuracy                   0.217155\n",
       "balanced accuracy          0.532487\n",
       "f1                         0.238685\n",
       "precision                  0.136353\n",
       "false positive rate        0.891665\n",
       "false negative rate        0.043361\n",
       "selection rate             0.900000\n",
       "count                  89710.000000\n",
       "dtype: float64"
      ]
     },
     "execution_count": 67,
     "metadata": {},
     "output_type": "execute_result"
    }
   ],
   "source": [
    "metric_frame.overall"
   ]
  },
  {
   "cell_type": "markdown",
   "id": "e968fe9d",
   "metadata": {
    "papermill": {
     "duration": 0.013875,
     "end_time": "2025-07-28T11:04:38.989386",
     "exception": false,
     "start_time": "2025-07-28T11:04:38.975511",
     "status": "completed"
    },
    "tags": []
   },
   "source": [
    "By Group"
   ]
  },
  {
   "cell_type": "code",
   "execution_count": 68,
   "id": "ec325bce",
   "metadata": {
    "execution": {
     "iopub.execute_input": "2025-07-28T11:04:39.019521Z",
     "iopub.status.busy": "2025-07-28T11:04:39.018967Z",
     "iopub.status.idle": "2025-07-28T11:04:39.035369Z",
     "shell.execute_reply": "2025-07-28T11:04:39.034359Z"
    },
    "papermill": {
     "duration": 0.034082,
     "end_time": "2025-07-28T11:04:39.037175",
     "exception": false,
     "start_time": "2025-07-28T11:04:39.003093",
     "status": "completed"
    },
    "tags": []
   },
   "outputs": [
    {
     "data": {
      "text/html": [
       "<div>\n",
       "<style scoped>\n",
       "    .dataframe tbody tr th:only-of-type {\n",
       "        vertical-align: middle;\n",
       "    }\n",
       "\n",
       "    .dataframe tbody tr th {\n",
       "        vertical-align: top;\n",
       "    }\n",
       "\n",
       "    .dataframe thead th {\n",
       "        text-align: right;\n",
       "    }\n",
       "</style>\n",
       "<table border=\"1\" class=\"dataframe\">\n",
       "  <thead>\n",
       "    <tr style=\"text-align: right;\">\n",
       "      <th></th>\n",
       "      <th>accuracy</th>\n",
       "      <th>balanced accuracy</th>\n",
       "      <th>f1</th>\n",
       "      <th>precision</th>\n",
       "      <th>false positive rate</th>\n",
       "      <th>false negative rate</th>\n",
       "      <th>selection rate</th>\n",
       "      <th>count</th>\n",
       "    </tr>\n",
       "    <tr>\n",
       "      <th>majmin</th>\n",
       "      <th></th>\n",
       "      <th></th>\n",
       "      <th></th>\n",
       "      <th></th>\n",
       "      <th></th>\n",
       "      <th></th>\n",
       "      <th></th>\n",
       "      <th></th>\n",
       "    </tr>\n",
       "  </thead>\n",
       "  <tbody>\n",
       "    <tr>\n",
       "      <th>majority</th>\n",
       "      <td>0.238716</td>\n",
       "      <td>0.539513</td>\n",
       "      <td>0.247678</td>\n",
       "      <td>0.142439</td>\n",
       "      <td>0.869332</td>\n",
       "      <td>0.051641</td>\n",
       "      <td>0.879774</td>\n",
       "      <td>69170.0</td>\n",
       "    </tr>\n",
       "    <tr>\n",
       "      <th>minority</th>\n",
       "      <td>0.144547</td>\n",
       "      <td>0.511578</td>\n",
       "      <td>0.210399</td>\n",
       "      <td>0.117727</td>\n",
       "      <td>0.965441</td>\n",
       "      <td>0.011402</td>\n",
       "      <td>0.968111</td>\n",
       "      <td>20540.0</td>\n",
       "    </tr>\n",
       "  </tbody>\n",
       "</table>\n",
       "</div>"
      ],
      "text/plain": [
       "          accuracy  balanced accuracy        f1  precision  \\\n",
       "majmin                                                       \n",
       "majority  0.238716           0.539513  0.247678   0.142439   \n",
       "minority  0.144547           0.511578  0.210399   0.117727   \n",
       "\n",
       "          false positive rate  false negative rate  selection rate    count  \n",
       "majmin                                                                       \n",
       "majority             0.869332             0.051641        0.879774  69170.0  \n",
       "minority             0.965441             0.011402        0.968111  20540.0  "
      ]
     },
     "execution_count": 68,
     "metadata": {},
     "output_type": "execute_result"
    }
   ],
   "source": [
    "metric_frame.by_group"
   ]
  },
  {
   "cell_type": "code",
   "execution_count": 69,
   "id": "a9ddbe63",
   "metadata": {
    "execution": {
     "iopub.execute_input": "2025-07-28T11:04:39.092184Z",
     "iopub.status.busy": "2025-07-28T11:04:39.091292Z",
     "iopub.status.idle": "2025-07-28T11:04:41.696698Z",
     "shell.execute_reply": "2025-07-28T11:04:41.695508Z"
    },
    "papermill": {
     "duration": 2.634153,
     "end_time": "2025-07-28T11:04:41.698886",
     "exception": false,
     "start_time": "2025-07-28T11:04:39.064733",
     "status": "completed"
    },
    "tags": []
   },
   "outputs": [
    {
     "data": {
      "text/plain": [
       "array([[<Axes: title={'center': 'accuracy'}, xlabel='majmin'>,\n",
       "        <Axes: title={'center': 'balanced accuracy'}, xlabel='majmin'>,\n",
       "        <Axes: title={'center': 'f1'}, xlabel='majmin'>],\n",
       "       [<Axes: title={'center': 'precision'}, xlabel='majmin'>,\n",
       "        <Axes: title={'center': 'false positive rate'}, xlabel='majmin'>,\n",
       "        <Axes: title={'center': 'false negative rate'}, xlabel='majmin'>],\n",
       "       [<Axes: title={'center': 'selection rate'}, xlabel='majmin'>,\n",
       "        <Axes: title={'center': 'count'}, xlabel='majmin'>,\n",
       "        <Axes: xlabel='majmin'>]], dtype=object)"
      ]
     },
     "execution_count": 69,
     "metadata": {},
     "output_type": "execute_result"
    },
    {
     "data": {
      "image/png": "[encoded data removed]",
      "text/plain": [
       "<Figure size 1200x800 with 9 Axes>"
      ]
     },
     "metadata": {},
     "output_type": "display_data"
    }
   ],
   "source": [
    "# In a graphic\n",
    "metric_frame.by_group.plot.bar(\n",
    "    subplots=True,\n",
    "    layout=[3, 3],\n",
    "    legend=False,\n",
    "    figsize=[12, 8],\n",
    "    title=\"Show all metrics\",\n",
    ")"
   ]
  },
  {
   "cell_type": "markdown",
   "id": "f57a0bac",
   "metadata": {
    "papermill": {
     "duration": 0.037964,
     "end_time": "2025-07-28T11:04:41.776972",
     "exception": false,
     "start_time": "2025-07-28T11:04:41.739008",
     "status": "completed"
    },
    "tags": []
   },
   "source": [
    "# Final Output"
   ]
  },
  {
   "cell_type": "code",
   "execution_count": 70,
   "id": "96d280a3",
   "metadata": {
    "execution": {
     "iopub.execute_input": "2025-07-28T11:04:41.855199Z",
     "iopub.status.busy": "2025-07-28T11:04:41.854023Z",
     "iopub.status.idle": "2025-07-28T11:04:41.863729Z",
     "shell.execute_reply": "2025-07-28T11:04:41.862544Z"
    },
    "papermill": {
     "duration": 0.05143,
     "end_time": "2025-07-28T11:04:41.865826",
     "exception": false,
     "start_time": "2025-07-28T11:04:41.814396",
     "status": "completed"
    },
    "tags": []
   },
   "outputs": [
    {
     "data": {
      "text/plain": [
       "4"
      ]
     },
     "execution_count": 70,
     "metadata": {},
     "output_type": "execute_result"
    }
   ],
   "source": [
    "sub_universes = universe_analysis.generate_sub_universes()\n",
    "len(sub_universes)"
   ]
  },
  {
   "cell_type": "code",
   "execution_count": 71,
   "id": "92adf7ba",
   "metadata": {
    "execution": {
     "iopub.execute_input": "2025-07-28T11:04:41.945144Z",
     "iopub.status.busy": "2025-07-28T11:04:41.944465Z",
     "iopub.status.idle": "2025-07-28T11:04:41.951663Z",
     "shell.execute_reply": "2025-07-28T11:04:41.950652Z"
    },
    "papermill": {
     "duration": 0.048863,
     "end_time": "2025-07-28T11:04:41.953385",
     "exception": false,
     "start_time": "2025-07-28T11:04:41.904522",
     "status": "completed"
    },
    "tags": []
   },
   "outputs": [],
   "source": [
    "def filter_sub_universe_data(sub_universe, org_test):\n",
    "    # Keep all rows — no filtering\n",
    "    keep_rows_mask = np.ones(org_test.shape[0], dtype=bool)\n",
    "\n",
    "    print(f\"[INFO] Keeping all rows: {keep_rows_mask.sum()} rows retained.\")\n",
    "    return keep_rows_mask"
   ]
  },
  {
   "cell_type": "code",
   "execution_count": 72,
   "id": "4a759155",
   "metadata": {
    "execution": {
     "iopub.execute_input": "2025-07-28T11:04:42.027614Z",
     "iopub.status.busy": "2025-07-28T11:04:42.027181Z",
     "iopub.status.idle": "2025-07-28T11:04:51.324412Z",
     "shell.execute_reply": "2025-07-28T11:04:51.323355Z"
    },
    "papermill": {
     "duration": 9.341634,
     "end_time": "2025-07-28T11:04:51.326316",
     "exception": false,
     "start_time": "2025-07-28T11:04:41.984682",
     "status": "completed"
    },
    "tags": []
   },
   "outputs": [
    {
     "name": "stdout",
     "output_type": "stream",
     "text": [
      "Stopping execution_time clock.\n",
      "[INFO] Keeping all rows: 89710 rows retained.\n"
     ]
    },
    {
     "name": "stdout",
     "output_type": "stream",
     "text": [
      "[INFO] Keeping all rows: 89710 rows retained.\n"
     ]
    },
    {
     "name": "stdout",
     "output_type": "stream",
     "text": [
      "[INFO] Keeping all rows: 89710 rows retained.\n"
     ]
    },
    {
     "name": "stdout",
     "output_type": "stream",
     "text": [
      "[INFO] Keeping all rows: 89710 rows retained.\n"
     ]
    },
    {
     "data": {
      "text/html": [
       "<div>\n",
       "<style scoped>\n",
       "    .dataframe tbody tr th:only-of-type {\n",
       "        vertical-align: middle;\n",
       "    }\n",
       "\n",
       "    .dataframe tbody tr th {\n",
       "        vertical-align: top;\n",
       "    }\n",
       "\n",
       "    .dataframe thead th {\n",
       "        text-align: right;\n",
       "    }\n",
       "</style>\n",
       "<table border=\"1\" class=\"dataframe\">\n",
       "  <thead>\n",
       "    <tr style=\"text-align: right;\">\n",
       "      <th></th>\n",
       "      <th>run_no</th>\n",
       "      <th>universe_id</th>\n",
       "      <th>universe_settings</th>\n",
       "      <th>execution_time</th>\n",
       "      <th>test_size_n</th>\n",
       "      <th>test_size_frac</th>\n",
       "      <th>fair_main_equalized_odds_difference</th>\n",
       "      <th>fair_main_equalized_odds_ratio</th>\n",
       "      <th>fair_main_demographic_parity_difference</th>\n",
       "      <th>fair_main_demographic_parity_ratio</th>\n",
       "      <th>...</th>\n",
       "      <th>perf_grp_precision_0</th>\n",
       "      <th>perf_grp_precision_1</th>\n",
       "      <th>perf_grp_false positive rate_0</th>\n",
       "      <th>perf_grp_false positive rate_1</th>\n",
       "      <th>perf_grp_false negative rate_0</th>\n",
       "      <th>perf_grp_false negative rate_1</th>\n",
       "      <th>perf_grp_selection rate_0</th>\n",
       "      <th>perf_grp_selection rate_1</th>\n",
       "      <th>perf_grp_count_0</th>\n",
       "      <th>perf_grp_count_1</th>\n",
       "    </tr>\n",
       "  </thead>\n",
       "  <tbody>\n",
       "    <tr>\n",
       "      <th>0</th>\n",
       "      <td>11</td>\n",
       "      <td>18b539225c584db03963dc850fb7c74c</td>\n",
       "      <td>{\"cutoff\": \"quantile_0.1\", \"eval_fairness_grou...</td>\n",
       "      <td>27.865774</td>\n",
       "      <td>89710</td>\n",
       "      <td>1.0</td>\n",
       "      <td>0.096109</td>\n",
       "      <td>0.900450</td>\n",
       "      <td>0.088337</td>\n",
       "      <td>0.908754</td>\n",
       "      <td>...</td>\n",
       "      <td>NaN</td>\n",
       "      <td>NaN</td>\n",
       "      <td>NaN</td>\n",
       "      <td>NaN</td>\n",
       "      <td>NaN</td>\n",
       "      <td>NaN</td>\n",
       "      <td>NaN</td>\n",
       "      <td>NaN</td>\n",
       "      <td>NaN</td>\n",
       "      <td>NaN</td>\n",
       "    </tr>\n",
       "    <tr>\n",
       "      <th>0</th>\n",
       "      <td>11</td>\n",
       "      <td>18b539225c584db03963dc850fb7c74c</td>\n",
       "      <td>{\"cutoff\": \"quantile_0.1\", \"eval_fairness_grou...</td>\n",
       "      <td>27.865774</td>\n",
       "      <td>89710</td>\n",
       "      <td>1.0</td>\n",
       "      <td>0.096109</td>\n",
       "      <td>0.900450</td>\n",
       "      <td>0.088337</td>\n",
       "      <td>0.908754</td>\n",
       "      <td>...</td>\n",
       "      <td>0.117727</td>\n",
       "      <td>0.142439</td>\n",
       "      <td>0.965441</td>\n",
       "      <td>0.869332</td>\n",
       "      <td>0.011402</td>\n",
       "      <td>0.051641</td>\n",
       "      <td>0.968111</td>\n",
       "      <td>0.879774</td>\n",
       "      <td>20540.0</td>\n",
       "      <td>69170.0</td>\n",
       "    </tr>\n",
       "    <tr>\n",
       "      <th>0</th>\n",
       "      <td>11</td>\n",
       "      <td>18b539225c584db03963dc850fb7c74c</td>\n",
       "      <td>{\"cutoff\": \"quantile_0.25\", \"eval_fairness_gro...</td>\n",
       "      <td>27.865774</td>\n",
       "      <td>89710</td>\n",
       "      <td>1.0</td>\n",
       "      <td>0.209513</td>\n",
       "      <td>0.764765</td>\n",
       "      <td>0.192150</td>\n",
       "      <td>0.786060</td>\n",
       "      <td>...</td>\n",
       "      <td>NaN</td>\n",
       "      <td>NaN</td>\n",
       "      <td>NaN</td>\n",
       "      <td>NaN</td>\n",
       "      <td>NaN</td>\n",
       "      <td>NaN</td>\n",
       "      <td>NaN</td>\n",
       "      <td>NaN</td>\n",
       "      <td>NaN</td>\n",
       "      <td>NaN</td>\n",
       "    </tr>\n",
       "    <tr>\n",
       "      <th>0</th>\n",
       "      <td>11</td>\n",
       "      <td>18b539225c584db03963dc850fb7c74c</td>\n",
       "      <td>{\"cutoff\": \"quantile_0.25\", \"eval_fairness_gro...</td>\n",
       "      <td>27.865774</td>\n",
       "      <td>89710</td>\n",
       "      <td>1.0</td>\n",
       "      <td>0.209513</td>\n",
       "      <td>0.764765</td>\n",
       "      <td>0.192150</td>\n",
       "      <td>0.786060</td>\n",
       "      <td>...</td>\n",
       "      <td>0.122669</td>\n",
       "      <td>0.162694</td>\n",
       "      <td>0.890656</td>\n",
       "      <td>0.681143</td>\n",
       "      <td>0.044341</td>\n",
       "      <td>0.130744</td>\n",
       "      <td>0.898150</td>\n",
       "      <td>0.706000</td>\n",
       "      <td>20540.0</td>\n",
       "      <td>69170.0</td>\n",
       "    </tr>\n",
       "  </tbody>\n",
       "</table>\n",
       "<p>4 rows × 50 columns</p>\n",
       "</div>"
      ],
      "text/plain": [
       "  run_no                       universe_id  \\\n",
       "0     11  18b539225c584db03963dc850fb7c74c   \n",
       "0     11  18b539225c584db03963dc850fb7c74c   \n",
       "0     11  18b539225c584db03963dc850fb7c74c   \n",
       "0     11  18b539225c584db03963dc850fb7c74c   \n",
       "\n",
       "                                   universe_settings  execution_time  \\\n",
       "0  {\"cutoff\": \"quantile_0.1\", \"eval_fairness_grou...       27.865774   \n",
       "0  {\"cutoff\": \"quantile_0.1\", \"eval_fairness_grou...       27.865774   \n",
       "0  {\"cutoff\": \"quantile_0.25\", \"eval_fairness_gro...       27.865774   \n",
       "0  {\"cutoff\": \"quantile_0.25\", \"eval_fairness_gro...       27.865774   \n",
       "\n",
       "   test_size_n  test_size_frac  fair_main_equalized_odds_difference  \\\n",
       "0        89710             1.0                             0.096109   \n",
       "0        89710             1.0                             0.096109   \n",
       "0        89710             1.0                             0.209513   \n",
       "0        89710             1.0                             0.209513   \n",
       "\n",
       "   fair_main_equalized_odds_ratio  fair_main_demographic_parity_difference  \\\n",
       "0                        0.900450                                 0.088337   \n",
       "0                        0.900450                                 0.088337   \n",
       "0                        0.764765                                 0.192150   \n",
       "0                        0.764765                                 0.192150   \n",
       "\n",
       "   fair_main_demographic_parity_ratio  ...  perf_grp_precision_0  \\\n",
       "0                            0.908754  ...                   NaN   \n",
       "0                            0.908754  ...              0.117727   \n",
       "0                            0.786060  ...                   NaN   \n",
       "0                            0.786060  ...              0.122669   \n",
       "\n",
       "   perf_grp_precision_1  perf_grp_false positive rate_0  \\\n",
       "0                   NaN                             NaN   \n",
       "0              0.142439                        0.965441   \n",
       "0                   NaN                             NaN   \n",
       "0              0.162694                        0.890656   \n",
       "\n",
       "   perf_grp_false positive rate_1  perf_grp_false negative rate_0  \\\n",
       "0                             NaN                             NaN   \n",
       "0                        0.869332                        0.011402   \n",
       "0                             NaN                             NaN   \n",
       "0                        0.681143                        0.044341   \n",
       "\n",
       "   perf_grp_false negative rate_1  perf_grp_selection rate_0  \\\n",
       "0                             NaN                        NaN   \n",
       "0                        0.051641                   0.968111   \n",
       "0                             NaN                        NaN   \n",
       "0                        0.130744                   0.898150   \n",
       "\n",
       "   perf_grp_selection rate_1  perf_grp_count_0  perf_grp_count_1  \n",
       "0                        NaN               NaN               NaN  \n",
       "0                   0.879774           20540.0           69170.0  \n",
       "0                        NaN               NaN               NaN  \n",
       "0                   0.706000           20540.0           69170.0  \n",
       "\n",
       "[4 rows x 50 columns]"
      ]
     },
     "execution_count": 72,
     "metadata": {},
     "output_type": "execute_result"
    }
   ],
   "source": [
    "final_output = universe_analysis.generate_final_output(\n",
    "    y_pred_prob=probs_test,\n",
    "    y_test=y_true,\n",
    "    org_test=org_test,\n",
    "    filter_data=filter_sub_universe_data,\n",
    "    cp_metrics_df=cp_metrics_df,\n",
    "    save=True,\n",
    ")\n",
    "final_output"
   ]
  },
  {
   "cell_type": "code",
   "execution_count": null,
   "id": "721ff514-cb11-46f8-b6fc-50392f74b5cb",
   "metadata": {
    "papermill": {
     "duration": 0.035468,
     "end_time": "2025-07-28T11:04:51.399570",
     "exception": false,
     "start_time": "2025-07-28T11:04:51.364102",
     "status": "completed"
    },
    "tags": []
   },
   "outputs": [],
   "source": []
  }
 ],
 "metadata": {
  "celltoolbar": "Tags",
  "kernelspec": {
   "display_name": "Python (CMA Fairness)",
   "language": "python",
   "name": "cma_fair_env"
  },
  "language_info": {
   "codemirror_mode": {
    "name": "ipython",
    "version": 3
   },
   "file_extension": ".py",
   "mimetype": "text/x-python",
   "name": "python",
   "nbconvert_exporter": "python",
   "pygments_lexer": "ipython3",
   "version": "3.10.12"
  },
  "papermill": {
   "default_parameters": {},
   "duration": 41.866802,
   "end_time": "2025-07-28T11:04:52.457459",
   "environment_variables": {},
   "exception": null,
   "input_path": "universe_analysis.ipynb",
   "output_path": "output/runs/11/notebooks/m_11-18b539225c584db03963dc850fb7c74c.ipynb",
   "parameters": {
    "output_dir": "output",
    "run_no": "11",
    "seed": "2023",
    "universe": "{\"cutoff\": [\"quantile_0.1\", \"quantile_0.25\"], \"eval_fairness_grouping\": [\"majority-minority\", \"nationality-all\"], \"exclude_features\": \"nationality\", \"exclude_subgroups\": \"keep-all\", \"model\": \"penalized_logreg\", \"scale\": \"do-not-scale\", \"training_size\": \"2014\"}",
    "universe_id": "18b539225c584db03963dc850fb7c74c"
   },
   "start_time": "2025-07-28T11:04:10.590657",
   "version": "2.6.0"
  }
 },
 "nbformat": 4,
 "nbformat_minor": 5
}