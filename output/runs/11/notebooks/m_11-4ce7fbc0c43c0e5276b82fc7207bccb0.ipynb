{
 "cells": [
  {
   "cell_type": "code",
   "execution_count": 1,
   "id": "f159f837-637b-42ba-96b5-ec9a68c44524",
   "metadata": {
    "execution": {
     "iopub.execute_input": "2025-07-28T10:52:42.910774Z",
     "iopub.status.busy": "2025-07-28T10:52:42.910094Z",
     "iopub.status.idle": "2025-07-28T10:52:42.923789Z",
     "shell.execute_reply": "2025-07-28T10:52:42.922846Z"
    },
    "papermill": {
     "duration": 0.034932,
     "end_time": "2025-07-28T10:52:42.925434",
     "exception": false,
     "start_time": "2025-07-28T10:52:42.890502",
     "status": "completed"
    },
    "tags": []
   },
   "outputs": [
    {
     "name": "stdout",
     "output_type": "stream",
     "text": [
      "/dss/dsshome1/0C/ra93lal2/cma/CMA_Fairness_v2\n"
     ]
    },
    {
     "name": "stderr",
     "output_type": "stream",
     "text": [
      "/dss/dsshome1/0C/ra93lal2/.local/share/virtualenvs/CMA_Fairness_v2-3j10GkSs/lib/python3.10/site-packages/IPython/core/magics/osm.py:393: UserWarning: This is now an optional IPython functionality, using bookmarks requires you to install the `pickleshare` library.\n",
      "  bkms = self.shell.db.get('bookmarks', {})\n",
      "/dss/dsshome1/0C/ra93lal2/.local/share/virtualenvs/CMA_Fairness_v2-3j10GkSs/lib/python3.10/site-packages/IPython/core/magics/osm.py:417: UserWarning: This is now an optional IPython functionality, setting dhist requires you to install the `pickleshare` library.\n",
      "  self.shell.db['dhist'] = compress_dhist(dhist)[-100:]\n"
     ]
    }
   ],
   "source": [
    "%cd ~/cma/CMA_Fairness_v2"
   ]
  },
  {
   "cell_type": "markdown",
   "id": "de2603b9",
   "metadata": {
    "papermill": {
     "duration": 0.017599,
     "end_time": "2025-07-28T10:52:42.961047",
     "exception": false,
     "start_time": "2025-07-28T10:52:42.943448",
     "status": "completed"
    },
    "tags": []
   },
   "source": [
    "The following cell holds the definition of our parameters, these values can be overriden by rendering the with e.g. the following command:\n",
    "\n",
    "papermill -p alpha 0.2 -p ratio 0.3 universe_analysis.ipynb output/test_run.ipynb"
   ]
  },
  {
   "cell_type": "code",
   "execution_count": 2,
   "id": "a80968a0-40bb-4fa9-85ef-2d5eefb01975",
   "metadata": {
    "execution": {
     "iopub.execute_input": "2025-07-28T10:52:42.997835Z",
     "iopub.status.busy": "2025-07-28T10:52:42.997227Z",
     "iopub.status.idle": "2025-07-28T10:52:43.003084Z",
     "shell.execute_reply": "2025-07-28T10:52:43.002138Z"
    },
    "papermill": {
     "duration": 0.026125,
     "end_time": "2025-07-28T10:52:43.004686",
     "exception": false,
     "start_time": "2025-07-28T10:52:42.978561",
     "status": "completed"
    },
    "tags": []
   },
   "outputs": [
    {
     "name": "stdout",
     "output_type": "stream",
     "text": [
      "Current working directory: /dss/dsshome1/0C/ra93lal2/cma/CMA_Fairness_v2\n"
     ]
    }
   ],
   "source": [
    "import os\n",
    "print(\"Current working directory:\", os.getcwd())"
   ]
  },
  {
   "cell_type": "code",
   "execution_count": 3,
   "id": "2dce4c03",
   "metadata": {
    "execution": {
     "iopub.execute_input": "2025-07-28T10:52:43.042191Z",
     "iopub.status.busy": "2025-07-28T10:52:43.041511Z",
     "iopub.status.idle": "2025-07-28T10:52:43.048251Z",
     "shell.execute_reply": "2025-07-28T10:52:43.047350Z"
    },
    "papermill": {
     "duration": 0.027046,
     "end_time": "2025-07-28T10:52:43.049777",
     "exception": false,
     "start_time": "2025-07-28T10:52:43.022731",
     "status": "completed"
    },
    "tags": [
     "parameters"
    ]
   },
   "outputs": [],
   "source": [
    "run_no = 0\n",
    "universe_id = \"test\"\n",
    "universe = {\n",
    "    \"training_size\": \"2014\", # \"25k\", \"5k\", \"1k\", \"2014\"\n",
    "    \"scale\": \"scale\", # \"scale\", \"do-not-scale\",\n",
    "    #\"stratify_split\": \"target\", # \"none\", \"target\", \"protected-attribute\", \"both\",\n",
    "    \"model\": \"elasticnet\", # \"logreg\", \"penalized_logreg\", \"rf\", \"gbm\", \"elasticnet\"\n",
    "    \"cutoff\": [\"quantile_0.15\", \"quantile_0.30\"],\n",
    "    \"exclude_features\": \"age\", # \"none\", \"nationality\", \"sex\", \"nationality-sex\", \"age\"\n",
    "    \"exclude_subgroups\": \"keep-all\", # \"keep-all\", \"drop-non-german\"\n",
    "    \"eval_fairness_grouping\": [\"majority-minority\", \"nationality-all\"]\n",
    "}\n",
    "\n",
    "output_dir=\"./output\"\n",
    "seed=0"
   ]
  },
  {
   "cell_type": "code",
   "execution_count": 4,
   "id": "fb802008",
   "metadata": {
    "execution": {
     "iopub.execute_input": "2025-07-28T10:52:43.089460Z",
     "iopub.status.busy": "2025-07-28T10:52:43.088741Z",
     "iopub.status.idle": "2025-07-28T10:52:43.093962Z",
     "shell.execute_reply": "2025-07-28T10:52:43.093123Z"
    },
    "papermill": {
     "duration": 0.027783,
     "end_time": "2025-07-28T10:52:43.095498",
     "exception": false,
     "start_time": "2025-07-28T10:52:43.067715",
     "status": "completed"
    },
    "tags": [
     "injected-parameters"
    ]
   },
   "outputs": [],
   "source": [
    "# Parameters\n",
    "universe_id = \"4ce7fbc0c43c0e5276b82fc7207bccb0\"\n",
    "run_no = \"11\"\n",
    "universe = \"{\\\"cutoff\\\": [\\\"quantile_0.1\\\", \\\"quantile_0.25\\\"], \\\"eval_fairness_grouping\\\": [\\\"majority-minority\\\", \\\"nationality-all\\\"], \\\"exclude_features\\\": \\\"age\\\", \\\"exclude_subgroups\\\": \\\"keep-all\\\", \\\"model\\\": \\\"elasticnet\\\", \\\"scale\\\": \\\"do-not-scale\\\", \\\"training_size\\\": \\\"1k\\\"}\"\n",
    "output_dir = \"output\"\n",
    "seed = \"2023\"\n"
   ]
  },
  {
   "cell_type": "code",
   "execution_count": 5,
   "id": "1650acaf",
   "metadata": {
    "execution": {
     "iopub.execute_input": "2025-07-28T10:52:43.132966Z",
     "iopub.status.busy": "2025-07-28T10:52:43.132208Z",
     "iopub.status.idle": "2025-07-28T10:52:43.137415Z",
     "shell.execute_reply": "2025-07-28T10:52:43.136564Z"
    },
    "papermill": {
     "duration": 0.025417,
     "end_time": "2025-07-28T10:52:43.138887",
     "exception": false,
     "start_time": "2025-07-28T10:52:43.113470",
     "status": "completed"
    },
    "tags": []
   },
   "outputs": [],
   "source": [
    "import json\n",
    "# Parse universe into dict if it is passed as a string\n",
    "if isinstance(universe, str):\n",
    "    universe = json.loads(universe)"
   ]
  },
  {
   "cell_type": "code",
   "execution_count": 6,
   "id": "16620c48",
   "metadata": {
    "execution": {
     "iopub.execute_input": "2025-07-28T10:52:43.175913Z",
     "iopub.status.busy": "2025-07-28T10:52:43.175465Z",
     "iopub.status.idle": "2025-07-28T10:52:43.220533Z",
     "shell.execute_reply": "2025-07-28T10:52:43.219737Z"
    },
    "papermill": {
     "duration": 0.065275,
     "end_time": "2025-07-28T10:52:43.222082",
     "exception": false,
     "start_time": "2025-07-28T10:52:43.156807",
     "status": "completed"
    },
    "tags": []
   },
   "outputs": [],
   "source": [
    "# Auto-reload the custom package\n",
    "%load_ext autoreload\n",
    "%autoreload 1\n",
    "%aimport fairness_multiverse"
   ]
  },
  {
   "cell_type": "code",
   "execution_count": 7,
   "id": "01c5c9f3",
   "metadata": {
    "execution": {
     "iopub.execute_input": "2025-07-28T10:52:43.260024Z",
     "iopub.status.busy": "2025-07-28T10:52:43.259218Z",
     "iopub.status.idle": "2025-07-28T10:52:45.237984Z",
     "shell.execute_reply": "2025-07-28T10:52:45.236939Z"
    },
    "papermill": {
     "duration": 1.999866,
     "end_time": "2025-07-28T10:52:45.240293",
     "exception": false,
     "start_time": "2025-07-28T10:52:43.240427",
     "status": "completed"
    },
    "tags": []
   },
   "outputs": [],
   "source": [
    "from fairness_multiverse.universe import UniverseAnalysis\n",
    "\n",
    "universe_analysis = UniverseAnalysis(\n",
    "    run_no = run_no,\n",
    "    universe_id = universe_id,\n",
    "    universe = universe,\n",
    "    output_dir=output_dir,\n",
    ")"
   ]
  },
  {
   "cell_type": "code",
   "execution_count": 8,
   "id": "106241f5",
   "metadata": {
    "execution": {
     "iopub.execute_input": "2025-07-28T10:52:45.289811Z",
     "iopub.status.busy": "2025-07-28T10:52:45.289321Z",
     "iopub.status.idle": "2025-07-28T10:52:45.296456Z",
     "shell.execute_reply": "2025-07-28T10:52:45.295412Z"
    },
    "papermill": {
     "duration": 0.032731,
     "end_time": "2025-07-28T10:52:45.298127",
     "exception": false,
     "start_time": "2025-07-28T10:52:45.265396",
     "status": "completed"
    },
    "tags": []
   },
   "outputs": [
    {
     "name": "stdout",
     "output_type": "stream",
     "text": [
      "Using Seed: 2023\n"
     ]
    }
   ],
   "source": [
    "import numpy as np\n",
    "parsed_seed = int(seed)\n",
    "np.random.seed(parsed_seed)\n",
    "print(f\"Using Seed: {parsed_seed}\")"
   ]
  },
  {
   "cell_type": "markdown",
   "id": "e0ebdc57",
   "metadata": {
    "papermill": {
     "duration": 0.019066,
     "end_time": "2025-07-28T10:52:45.336602",
     "exception": false,
     "start_time": "2025-07-28T10:52:45.317536",
     "status": "completed"
    },
    "tags": []
   },
   "source": [
    "# Loading Data"
   ]
  },
  {
   "cell_type": "markdown",
   "id": "681925a3",
   "metadata": {
    "papermill": {
     "duration": 0.018374,
     "end_time": "2025-07-28T10:52:45.373950",
     "exception": false,
     "start_time": "2025-07-28T10:52:45.355576",
     "status": "completed"
    },
    "tags": []
   },
   "source": [
    "Load siab_train, siab_test, siab_calib and/or \n",
    "load siab_train_features, siab_train_labels"
   ]
  },
  {
   "cell_type": "code",
   "execution_count": 9,
   "id": "f0496b8a",
   "metadata": {
    "execution": {
     "iopub.execute_input": "2025-07-28T10:52:45.412668Z",
     "iopub.status.busy": "2025-07-28T10:52:45.412007Z",
     "iopub.status.idle": "2025-07-28T10:52:57.854286Z",
     "shell.execute_reply": "2025-07-28T10:52:57.853109Z"
    },
    "papermill": {
     "duration": 12.463735,
     "end_time": "2025-07-28T10:52:57.856280",
     "exception": false,
     "start_time": "2025-07-28T10:52:45.392545",
     "status": "completed"
    },
    "tags": []
   },
   "outputs": [
    {
     "name": "stdout",
     "output_type": "stream",
     "text": [
      "Loading SIAB data from cache: data/siab_cached.csv.gz\n"
     ]
    },
    {
     "name": "stdout",
     "output_type": "stream",
     "text": [
      "(643690, 164)\n"
     ]
    }
   ],
   "source": [
    "from pathlib import Path\n",
    "import pandas as pd\n",
    "\n",
    "# File paths\n",
    "raw_file = Path(\"data/raw/siab.csv\")\n",
    "cache_file = Path(\"data/siab_cached.csv.gz\")\n",
    "\n",
    "# Ensure cache directory exists\n",
    "cache_file.parent.mkdir(parents=True, exist_ok=True)\n",
    "\n",
    "# Load with simple caching\n",
    "if cache_file.exists():\n",
    "    print(f\"Loading SIAB data from cache: {cache_file}\")\n",
    "    siab = pd.read_csv(cache_file, compression='gzip')\n",
    "else:\n",
    "    print(f\"Cache not found. Reading raw SIAB data: {raw_file}\")\n",
    "    siab = pd.read_csv(raw_file)\n",
    "    siab.to_csv(cache_file, index=False, compression='gzip')\n",
    "    print(f\"Cached SIAB data to: {cache_file}\")\n",
    "\n",
    "# Now use `siab` DataFrame as needed\n",
    "print(siab.shape)"
   ]
  },
  {
   "cell_type": "code",
   "execution_count": 10,
   "id": "db0ca512-5f53-4dba-abdb-a2888bca41ba",
   "metadata": {
    "execution": {
     "iopub.execute_input": "2025-07-28T10:52:57.904636Z",
     "iopub.status.busy": "2025-07-28T10:52:57.903810Z",
     "iopub.status.idle": "2025-07-28T10:52:57.910053Z",
     "shell.execute_reply": "2025-07-28T10:52:57.909171Z"
    },
    "papermill": {
     "duration": 0.03061,
     "end_time": "2025-07-28T10:52:57.911637",
     "exception": false,
     "start_time": "2025-07-28T10:52:57.881027",
     "status": "completed"
    },
    "tags": []
   },
   "outputs": [],
   "source": [
    "#siab"
   ]
  },
  {
   "cell_type": "code",
   "execution_count": 11,
   "id": "a0edb063",
   "metadata": {
    "execution": {
     "iopub.execute_input": "2025-07-28T10:52:57.952237Z",
     "iopub.status.busy": "2025-07-28T10:52:57.951209Z",
     "iopub.status.idle": "2025-07-28T10:52:57.956192Z",
     "shell.execute_reply": "2025-07-28T10:52:57.955289Z"
    },
    "papermill": {
     "duration": 0.026742,
     "end_time": "2025-07-28T10:52:57.957794",
     "exception": false,
     "start_time": "2025-07-28T10:52:57.931052",
     "status": "completed"
    },
    "tags": []
   },
   "outputs": [],
   "source": [
    "#import pandas as pd\n",
    "#\n",
    "#X_train = pd.read_csv(\"./data/X_train.csv\")\n",
    "#y_train = pd.read_csv(\"./data/y_train.csv\")"
   ]
  },
  {
   "cell_type": "code",
   "execution_count": 12,
   "id": "63d08085",
   "metadata": {
    "execution": {
     "iopub.execute_input": "2025-07-28T10:52:57.998452Z",
     "iopub.status.busy": "2025-07-28T10:52:57.997462Z",
     "iopub.status.idle": "2025-07-28T10:52:58.002784Z",
     "shell.execute_reply": "2025-07-28T10:52:58.001753Z"
    },
    "papermill": {
     "duration": 0.027455,
     "end_time": "2025-07-28T10:52:58.004551",
     "exception": false,
     "start_time": "2025-07-28T10:52:57.977096",
     "status": "completed"
    },
    "tags": []
   },
   "outputs": [],
   "source": [
    "#X_test = pd.read_csv(\"./data/X_test.csv\")\n",
    "#y_true = pd.read_csv(\"./data/y_test.csv\")"
   ]
  },
  {
   "cell_type": "code",
   "execution_count": 13,
   "id": "98a8d0fa-1d3d-4ed8-bb2c-281470e24add",
   "metadata": {
    "execution": {
     "iopub.execute_input": "2025-07-28T10:52:58.045727Z",
     "iopub.status.busy": "2025-07-28T10:52:58.044897Z",
     "iopub.status.idle": "2025-07-28T10:52:58.049916Z",
     "shell.execute_reply": "2025-07-28T10:52:58.049031Z"
    },
    "papermill": {
     "duration": 0.027794,
     "end_time": "2025-07-28T10:52:58.051563",
     "exception": false,
     "start_time": "2025-07-28T10:52:58.023769",
     "status": "completed"
    },
    "tags": []
   },
   "outputs": [],
   "source": [
    "# Calibration data for conformal\n",
    "#X_calib = pd.read_csv(\"./data/X_calib.csv\")\n",
    "#y_calib = pd.read_csv(\"./data/y_calib.csv\")"
   ]
  },
  {
   "cell_type": "markdown",
   "id": "9901737e-04df-44f0-9100-f5ad144ed040",
   "metadata": {
    "papermill": {
     "duration": 0.021806,
     "end_time": "2025-07-28T10:52:58.095712",
     "exception": false,
     "start_time": "2025-07-28T10:52:58.073906",
     "status": "completed"
    },
    "tags": []
   },
   "source": [
    "# Splitting Data and Setting Training Data Size"
   ]
  },
  {
   "cell_type": "code",
   "execution_count": 14,
   "id": "acbc8f7d-8fc8-4e86-8c59-5dcb0f58384b",
   "metadata": {
    "execution": {
     "iopub.execute_input": "2025-07-28T10:52:58.141587Z",
     "iopub.status.busy": "2025-07-28T10:52:58.140900Z",
     "iopub.status.idle": "2025-07-28T10:52:58.149923Z",
     "shell.execute_reply": "2025-07-28T10:52:58.148892Z"
    },
    "papermill": {
     "duration": 0.033901,
     "end_time": "2025-07-28T10:52:58.151761",
     "exception": false,
     "start_time": "2025-07-28T10:52:58.117860",
     "status": "completed"
    },
    "tags": []
   },
   "outputs": [],
   "source": [
    "def sample_by_year(df, training_size, random_state=42):\n",
    "    if training_size == \"2014\":\n",
    "        return df[df[\"year\"] == 2014].reset_index(drop=True)\n",
    "    \n",
    "    size_map = {\n",
    "        \"25k\": 5000,\n",
    "        \"5k\": 1000,\n",
    "        \"1k\": 200\n",
    "    }\n",
    "\n",
    "    if training_size not in size_map:\n",
    "        return df.reset_index(drop=True)  # use all data\n",
    "\n",
    "    n_per_year = size_map[training_size]\n",
    "    grouped = df.groupby(\"year\")\n",
    "    sampled = grouped.apply(lambda x: x.sample(n=min(n_per_year, len(x)), random_state=random_state))\n",
    "    return sampled.reset_index(drop=True)"
   ]
  },
  {
   "cell_type": "code",
   "execution_count": 15,
   "id": "6d931f52-beaf-43ff-9e78-9d44a448d54e",
   "metadata": {
    "execution": {
     "iopub.execute_input": "2025-07-28T10:52:58.198080Z",
     "iopub.status.busy": "2025-07-28T10:52:58.197265Z",
     "iopub.status.idle": "2025-07-28T10:52:58.832976Z",
     "shell.execute_reply": "2025-07-28T10:52:58.831958Z"
    },
    "papermill": {
     "duration": 0.660557,
     "end_time": "2025-07-28T10:52:58.834758",
     "exception": false,
     "start_time": "2025-07-28T10:52:58.174201",
     "status": "completed"
    },
    "tags": []
   },
   "outputs": [],
   "source": [
    "siab_s = sample_by_year(siab, universe[\"training_size\"])"
   ]
  },
  {
   "cell_type": "code",
   "execution_count": 16,
   "id": "5db0a40e-a4e2-4920-be85-b12ae061d70d",
   "metadata": {
    "execution": {
     "iopub.execute_input": "2025-07-28T10:52:58.875551Z",
     "iopub.status.busy": "2025-07-28T10:52:58.875070Z",
     "iopub.status.idle": "2025-07-28T10:52:58.889703Z",
     "shell.execute_reply": "2025-07-28T10:52:58.888573Z"
    },
    "papermill": {
     "duration": 0.036497,
     "end_time": "2025-07-28T10:52:58.891418",
     "exception": false,
     "start_time": "2025-07-28T10:52:58.854921",
     "status": "completed"
    },
    "tags": []
   },
   "outputs": [
    {
     "data": {
      "text/plain": [
       "year\n",
       "2010    200\n",
       "2011    200\n",
       "2012    200\n",
       "2013    200\n",
       "2014    200\n",
       "2015    200\n",
       "2016    200\n",
       "dtype: int64"
      ]
     },
     "metadata": {},
     "output_type": "display_data"
    }
   ],
   "source": [
    "display(siab_s.groupby(\"year\").size())"
   ]
  },
  {
   "cell_type": "code",
   "execution_count": 17,
   "id": "a561edb4-d032-42cb-8256-22eac1111c64",
   "metadata": {
    "execution": {
     "iopub.execute_input": "2025-07-28T10:52:58.932139Z",
     "iopub.status.busy": "2025-07-28T10:52:58.931328Z",
     "iopub.status.idle": "2025-07-28T10:52:59.189676Z",
     "shell.execute_reply": "2025-07-28T10:52:59.188686Z"
    },
    "papermill": {
     "duration": 0.280381,
     "end_time": "2025-07-28T10:52:59.191525",
     "exception": false,
     "start_time": "2025-07-28T10:52:58.911144",
     "status": "completed"
    },
    "tags": []
   },
   "outputs": [],
   "source": [
    "siab_train = siab_s[siab_s.year < 2015]\n",
    "siab_calib = siab[siab.year == 2015]\n",
    "siab_test = siab[siab.year == 2016]"
   ]
  },
  {
   "cell_type": "code",
   "execution_count": 18,
   "id": "472de16f-c3db-4916-846b-1f0de9cf1746",
   "metadata": {
    "execution": {
     "iopub.execute_input": "2025-07-28T10:52:59.232790Z",
     "iopub.status.busy": "2025-07-28T10:52:59.232106Z",
     "iopub.status.idle": "2025-07-28T10:52:59.239280Z",
     "shell.execute_reply": "2025-07-28T10:52:59.238260Z"
    },
    "papermill": {
     "duration": 0.029242,
     "end_time": "2025-07-28T10:52:59.240865",
     "exception": false,
     "start_time": "2025-07-28T10:52:59.211623",
     "status": "completed"
    },
    "tags": []
   },
   "outputs": [],
   "source": [
    "X_train = siab_train.iloc[:,4:164]\n",
    "y_train = siab_train.iloc[:, [3]]"
   ]
  },
  {
   "cell_type": "code",
   "execution_count": 19,
   "id": "828c96af-f43a-4ed6-ba47-8ac73a47d56c",
   "metadata": {
    "execution": {
     "iopub.execute_input": "2025-07-28T10:52:59.281944Z",
     "iopub.status.busy": "2025-07-28T10:52:59.281182Z",
     "iopub.status.idle": "2025-07-28T10:52:59.337414Z",
     "shell.execute_reply": "2025-07-28T10:52:59.336396Z"
    },
    "papermill": {
     "duration": 0.078772,
     "end_time": "2025-07-28T10:52:59.339411",
     "exception": false,
     "start_time": "2025-07-28T10:52:59.260639",
     "status": "completed"
    },
    "tags": []
   },
   "outputs": [],
   "source": [
    "X_calib = siab_calib.iloc[:,4:164]\n",
    "y_calib = siab_calib.iloc[:, [3]]"
   ]
  },
  {
   "cell_type": "code",
   "execution_count": 20,
   "id": "c34be9c3-6bd6-476e-acd3-845840e303be",
   "metadata": {
    "execution": {
     "iopub.execute_input": "2025-07-28T10:52:59.381354Z",
     "iopub.status.busy": "2025-07-28T10:52:59.380575Z",
     "iopub.status.idle": "2025-07-28T10:52:59.435784Z",
     "shell.execute_reply": "2025-07-28T10:52:59.434842Z"
    },
    "papermill": {
     "duration": 0.078007,
     "end_time": "2025-07-28T10:52:59.437776",
     "exception": false,
     "start_time": "2025-07-28T10:52:59.359769",
     "status": "completed"
    },
    "tags": []
   },
   "outputs": [],
   "source": [
    "X_test = siab_test.iloc[:,4:164]\n",
    "y_true = siab_test.iloc[:, [3]]"
   ]
  },
  {
   "cell_type": "code",
   "execution_count": 21,
   "id": "e6c733c5",
   "metadata": {
    "execution": {
     "iopub.execute_input": "2025-07-28T10:52:59.482126Z",
     "iopub.status.busy": "2025-07-28T10:52:59.481438Z",
     "iopub.status.idle": "2025-07-28T10:52:59.577524Z",
     "shell.execute_reply": "2025-07-28T10:52:59.576568Z"
    },
    "papermill": {
     "duration": 0.120086,
     "end_time": "2025-07-28T10:52:59.579476",
     "exception": false,
     "start_time": "2025-07-28T10:52:59.459390",
     "status": "completed"
    },
    "tags": []
   },
   "outputs": [],
   "source": [
    "# Auxiliary data needed downstream in the pipeline\n",
    "\n",
    "org_train = X_train.copy()\n",
    "org_test = X_test.copy()\n",
    "org_calib = X_calib.copy()"
   ]
  },
  {
   "cell_type": "markdown",
   "id": "0a4a1b33",
   "metadata": {
    "papermill": {
     "duration": 0.01947,
     "end_time": "2025-07-28T10:52:59.619365",
     "exception": false,
     "start_time": "2025-07-28T10:52:59.599895",
     "status": "completed"
    },
    "tags": []
   },
   "source": [
    "# Preprocessing Data"
   ]
  },
  {
   "cell_type": "code",
   "execution_count": 22,
   "id": "ca879031",
   "metadata": {
    "execution": {
     "iopub.execute_input": "2025-07-28T10:52:59.661067Z",
     "iopub.status.busy": "2025-07-28T10:52:59.660198Z",
     "iopub.status.idle": "2025-07-28T10:52:59.666704Z",
     "shell.execute_reply": "2025-07-28T10:52:59.665797Z"
    },
    "papermill": {
     "duration": 0.029106,
     "end_time": "2025-07-28T10:52:59.668325",
     "exception": false,
     "start_time": "2025-07-28T10:52:59.639219",
     "status": "completed"
    },
    "tags": []
   },
   "outputs": [],
   "source": [
    "# EXCLUDE PROTECTED FEATURES\n",
    "# ----------------------\n",
    "# \"exclude_features\": \"none\", # \"nationality\", \"sex\", \"nationality-sex\"\n",
    "\n",
    "excluded_features = universe[\"exclude_features\"].split(\"-\") # split, e.g.: \"nationality-sex\" -> [\"nationality\", \"sex\"]\n",
    "excluded_features_dictionary = {\n",
    "    \"nationality\": [\"maxdeutsch1\", \"maxdeutsch.Missing.\"],\n",
    "    \"sex\": [\"frau1\"],\n",
    "    \"age\": [\"age\"],\n",
    "}\n"
   ]
  },
  {
   "cell_type": "code",
   "execution_count": 23,
   "id": "b745ac60",
   "metadata": {
    "execution": {
     "iopub.execute_input": "2025-07-28T10:52:59.711841Z",
     "iopub.status.busy": "2025-07-28T10:52:59.711179Z",
     "iopub.status.idle": "2025-07-28T10:52:59.717044Z",
     "shell.execute_reply": "2025-07-28T10:52:59.716062Z"
    },
    "papermill": {
     "duration": 0.029621,
     "end_time": "2025-07-28T10:52:59.718747",
     "exception": false,
     "start_time": "2025-07-28T10:52:59.689126",
     "status": "completed"
    },
    "tags": []
   },
   "outputs": [],
   "source": [
    "# Code nice names to column names\n",
    "\n",
    "excluded_features_columns = [\n",
    "    excluded_features_dictionary[f] for f in excluded_features if len(f) > 0 and f != \"none\"\n",
    "]"
   ]
  },
  {
   "cell_type": "code",
   "execution_count": 24,
   "id": "f84f73a2",
   "metadata": {
    "execution": {
     "iopub.execute_input": "2025-07-28T10:52:59.761926Z",
     "iopub.status.busy": "2025-07-28T10:52:59.761229Z",
     "iopub.status.idle": "2025-07-28T10:52:59.767939Z",
     "shell.execute_reply": "2025-07-28T10:52:59.767034Z"
    },
    "papermill": {
     "duration": 0.029932,
     "end_time": "2025-07-28T10:52:59.769934",
     "exception": false,
     "start_time": "2025-07-28T10:52:59.740002",
     "status": "completed"
    },
    "tags": []
   },
   "outputs": [],
   "source": [
    "from utils import flatten_once\n",
    "\n",
    "excluded_features_columns = flatten_once(excluded_features_columns)"
   ]
  },
  {
   "cell_type": "code",
   "execution_count": 25,
   "id": "884dea22",
   "metadata": {
    "execution": {
     "iopub.execute_input": "2025-07-28T10:52:59.816149Z",
     "iopub.status.busy": "2025-07-28T10:52:59.815424Z",
     "iopub.status.idle": "2025-07-28T10:52:59.824027Z",
     "shell.execute_reply": "2025-07-28T10:52:59.823048Z"
    },
    "papermill": {
     "duration": 0.033146,
     "end_time": "2025-07-28T10:52:59.825774",
     "exception": false,
     "start_time": "2025-07-28T10:52:59.792628",
     "status": "completed"
    },
    "tags": []
   },
   "outputs": [
    {
     "name": "stdout",
     "output_type": "stream",
     "text": [
      "Dropping features: ['age']\n"
     ]
    }
   ],
   "source": [
    "if len(excluded_features_columns) > 0:\n",
    "    print(f\"Dropping features: {excluded_features_columns}\")\n",
    "    X_train.drop(excluded_features_columns, axis=1, inplace=True)"
   ]
  },
  {
   "cell_type": "code",
   "execution_count": 26,
   "id": "95ab8b16",
   "metadata": {
    "execution": {
     "iopub.execute_input": "2025-07-28T10:52:59.868688Z",
     "iopub.status.busy": "2025-07-28T10:52:59.867953Z",
     "iopub.status.idle": "2025-07-28T10:52:59.922404Z",
     "shell.execute_reply": "2025-07-28T10:52:59.921369Z"
    },
    "papermill": {
     "duration": 0.07824,
     "end_time": "2025-07-28T10:52:59.925054",
     "exception": false,
     "start_time": "2025-07-28T10:52:59.846814",
     "status": "completed"
    },
    "tags": []
   },
   "outputs": [
    {
     "name": "stdout",
     "output_type": "stream",
     "text": [
      "Dropping features: ['age']\n"
     ]
    }
   ],
   "source": [
    "if len(excluded_features_columns) > 0:\n",
    "    print(f\"Dropping features: {excluded_features_columns}\")\n",
    "    X_test.drop(excluded_features_columns, axis=1, inplace=True)"
   ]
  },
  {
   "cell_type": "code",
   "execution_count": 27,
   "id": "1853aaf5-fb9f-46cb-a2b5-8ea4ae2237e4",
   "metadata": {
    "execution": {
     "iopub.execute_input": "2025-07-28T10:52:59.968873Z",
     "iopub.status.busy": "2025-07-28T10:52:59.968126Z",
     "iopub.status.idle": "2025-07-28T10:53:00.021956Z",
     "shell.execute_reply": "2025-07-28T10:53:00.020890Z"
    },
    "papermill": {
     "duration": 0.077472,
     "end_time": "2025-07-28T10:53:00.023745",
     "exception": false,
     "start_time": "2025-07-28T10:52:59.946273",
     "status": "completed"
    },
    "tags": []
   },
   "outputs": [
    {
     "name": "stdout",
     "output_type": "stream",
     "text": [
      "Dropping features: ['age']\n"
     ]
    }
   ],
   "source": [
    "if len(excluded_features_columns) > 0:\n",
    "    print(f\"Dropping features: {excluded_features_columns}\")\n",
    "    X_calib.drop(excluded_features_columns, axis=1, inplace=True)"
   ]
  },
  {
   "cell_type": "code",
   "execution_count": 28,
   "id": "6727d079-03e5-481e-9d38-292a90b7a0a8",
   "metadata": {
    "execution": {
     "iopub.execute_input": "2025-07-28T10:53:00.111541Z",
     "iopub.status.busy": "2025-07-28T10:53:00.110685Z",
     "iopub.status.idle": "2025-07-28T10:53:00.116012Z",
     "shell.execute_reply": "2025-07-28T10:53:00.114990Z"
    },
    "papermill": {
     "duration": 0.029149,
     "end_time": "2025-07-28T10:53:00.117736",
     "exception": false,
     "start_time": "2025-07-28T10:53:00.088587",
     "status": "completed"
    },
    "tags": []
   },
   "outputs": [],
   "source": [
    "# SPLIT & STRATIFY DATA\n",
    "# ----------------------"
   ]
  },
  {
   "cell_type": "code",
   "execution_count": 29,
   "id": "76c4dc6d",
   "metadata": {
    "execution": {
     "iopub.execute_input": "2025-07-28T10:53:00.160902Z",
     "iopub.status.busy": "2025-07-28T10:53:00.160308Z",
     "iopub.status.idle": "2025-07-28T10:53:00.165994Z",
     "shell.execute_reply": "2025-07-28T10:53:00.165026Z"
    },
    "papermill": {
     "duration": 0.029163,
     "end_time": "2025-07-28T10:53:00.167708",
     "exception": false,
     "start_time": "2025-07-28T10:53:00.138545",
     "status": "completed"
    },
    "tags": []
   },
   "outputs": [],
   "source": [
    "# EXCLUDE CERTAIN SUBGROUPS\n",
    "# ----------------------\n",
    "\n",
    "mode = universe.get(\"exclude_subgroups\", \"keep-all\") \n",
    "# Fetches the exclude_subgroups setting from the universe dict.\n",
    "# Defaults to \"keep-all\" if the key is missing."
   ]
  },
  {
   "cell_type": "code",
   "execution_count": 30,
   "id": "21994072",
   "metadata": {
    "execution": {
     "iopub.execute_input": "2025-07-28T10:53:00.211155Z",
     "iopub.status.busy": "2025-07-28T10:53:00.210341Z",
     "iopub.status.idle": "2025-07-28T10:53:00.217475Z",
     "shell.execute_reply": "2025-07-28T10:53:00.216578Z"
    },
    "papermill": {
     "duration": 0.030337,
     "end_time": "2025-07-28T10:53:00.219126",
     "exception": false,
     "start_time": "2025-07-28T10:53:00.188789",
     "status": "completed"
    },
    "tags": []
   },
   "outputs": [],
   "source": [
    "if mode == \"keep-all\":\n",
    "    keep_mask = pd.Series(True, index=org_train.index)\n",
    "\n",
    "# org_train contains the original feature columns from features_org (in Simson)\n",
    "# features_org contains unprocessed features, for me X_train at beginning ???\n",
    "# For keep-all, creates a boolean Series (keep_mask) of all True, so no rows are removed.\n",
    "\n",
    "elif mode == \"drop-non-german\":\n",
    "    keep_mask = org_train[\"maxdeutsch1\"] == 1 # ??? what about missing values?\n",
    "\n",
    "else:\n",
    "    raise ValueError(f\"Unsupported mode for exclude_subgroups: {mode}\")\n"
   ]
  },
  {
   "cell_type": "code",
   "execution_count": 31,
   "id": "71651440",
   "metadata": {
    "execution": {
     "iopub.execute_input": "2025-07-28T10:53:00.265862Z",
     "iopub.status.busy": "2025-07-28T10:53:00.265034Z",
     "iopub.status.idle": "2025-07-28T10:53:00.271832Z",
     "shell.execute_reply": "2025-07-28T10:53:00.270719Z"
    },
    "papermill": {
     "duration": 0.03286,
     "end_time": "2025-07-28T10:53:00.273516",
     "exception": false,
     "start_time": "2025-07-28T10:53:00.240656",
     "status": "completed"
    },
    "tags": []
   },
   "outputs": [],
   "source": [
    "n_drop = (~keep_mask).sum() # Calculates how many rows are set to be dropped\n",
    "if n_drop > 0:\n",
    "    pct = n_drop / len(keep_mask) * 100\n",
    "    print(f\"Dropping {n_drop} rows ({pct:.2f}%) where mode='{mode}'\")"
   ]
  },
  {
   "cell_type": "code",
   "execution_count": 32,
   "id": "5fb8eee5",
   "metadata": {
    "execution": {
     "iopub.execute_input": "2025-07-28T10:53:00.317568Z",
     "iopub.status.busy": "2025-07-28T10:53:00.316793Z",
     "iopub.status.idle": "2025-07-28T10:53:00.323466Z",
     "shell.execute_reply": "2025-07-28T10:53:00.322491Z"
    },
    "papermill": {
     "duration": 0.030374,
     "end_time": "2025-07-28T10:53:00.325230",
     "exception": false,
     "start_time": "2025-07-28T10:53:00.294856",
     "status": "completed"
    },
    "tags": []
   },
   "outputs": [],
   "source": [
    "X_train = X_train[keep_mask]"
   ]
  },
  {
   "cell_type": "code",
   "execution_count": 33,
   "id": "b202bb3a",
   "metadata": {
    "execution": {
     "iopub.execute_input": "2025-07-28T10:53:00.369506Z",
     "iopub.status.busy": "2025-07-28T10:53:00.368580Z",
     "iopub.status.idle": "2025-07-28T10:53:00.374665Z",
     "shell.execute_reply": "2025-07-28T10:53:00.373687Z"
    },
    "papermill": {
     "duration": 0.029972,
     "end_time": "2025-07-28T10:53:00.376339",
     "exception": false,
     "start_time": "2025-07-28T10:53:00.346367",
     "status": "completed"
    },
    "tags": []
   },
   "outputs": [],
   "source": [
    "y_train = y_train[keep_mask]"
   ]
  },
  {
   "cell_type": "markdown",
   "id": "493e2ac3",
   "metadata": {
    "papermill": {
     "duration": 0.020723,
     "end_time": "2025-07-28T10:53:00.418545",
     "exception": false,
     "start_time": "2025-07-28T10:53:00.397822",
     "status": "completed"
    },
    "tags": []
   },
   "source": [
    "# Model Training"
   ]
  },
  {
   "cell_type": "code",
   "execution_count": 34,
   "id": "679e1268",
   "metadata": {
    "execution": {
     "iopub.execute_input": "2025-07-28T10:53:00.462279Z",
     "iopub.status.busy": "2025-07-28T10:53:00.461583Z",
     "iopub.status.idle": "2025-07-28T10:53:00.569969Z",
     "shell.execute_reply": "2025-07-28T10:53:00.568995Z"
    },
    "papermill": {
     "duration": 0.132236,
     "end_time": "2025-07-28T10:53:00.571921",
     "exception": false,
     "start_time": "2025-07-28T10:53:00.439685",
     "status": "completed"
    },
    "tags": []
   },
   "outputs": [],
   "source": [
    "from sklearn.linear_model import LogisticRegression\n",
    "from sklearn.ensemble import GradientBoostingClassifier, RandomForestClassifier\n",
    "\n",
    "if (universe[\"model\"] == \"logreg\"):\n",
    "    model = LogisticRegression() #penalty=\"none\") #, solver=\"newton-cg\", max_iter=1) # include random_state=19 ?\n",
    "elif (universe[\"model\"] == \"penalized_logreg\"):\n",
    "    model = LogisticRegression(penalty=\"l2\", C=1.0) #, solver=\"newton-cg\", max_iter=1)\n",
    "elif (universe[\"model\"] == \"rf\"):\n",
    "    model = RandomForestClassifier(n_estimators=100, n_jobs=-1)\n",
    "elif (universe[\"model\"] == \"gbm\"):\n",
    "    model = GradientBoostingClassifier()\n",
    "elif (universe[\"model\"] == \"elasticnet\"):\n",
    "    model = LogisticRegression(penalty = 'elasticnet', solver = 'saga', l1_ratio = 0.5, max_iter=5000) # which solver to use?\n",
    "else:\n",
    "    raise \"Unsupported universe.model\""
   ]
  },
  {
   "cell_type": "code",
   "execution_count": 35,
   "id": "0cc8f744",
   "metadata": {
    "execution": {
     "iopub.execute_input": "2025-07-28T10:53:00.618162Z",
     "iopub.status.busy": "2025-07-28T10:53:00.617460Z",
     "iopub.status.idle": "2025-07-28T10:53:00.624382Z",
     "shell.execute_reply": "2025-07-28T10:53:00.623426Z"
    },
    "papermill": {
     "duration": 0.032387,
     "end_time": "2025-07-28T10:53:00.626001",
     "exception": false,
     "start_time": "2025-07-28T10:53:00.593614",
     "status": "completed"
    },
    "tags": []
   },
   "outputs": [],
   "source": [
    "import numpy as np\n",
    "from sklearn.pipeline import Pipeline\n",
    "from sklearn.preprocessing import StandardScaler\n",
    "\n",
    "model = Pipeline([\n",
    "    #(\"continuous_processor\", continuous_processor),\n",
    "    #(\"categorical_preprocessor\", categorical_preprocessor),\n",
    "    (\"scale\", StandardScaler() if universe[\"scale\"] == \"scale\" else None), \n",
    "    (\"model\", model),\n",
    "])"
   ]
  },
  {
   "cell_type": "code",
   "execution_count": 36,
   "id": "9442c04d",
   "metadata": {
    "execution": {
     "iopub.execute_input": "2025-07-28T10:53:00.685687Z",
     "iopub.status.busy": "2025-07-28T10:53:00.685188Z",
     "iopub.status.idle": "2025-07-28T10:53:20.913483Z",
     "shell.execute_reply": "2025-07-28T10:53:20.912347Z"
    },
    "papermill": {
     "duration": 20.267392,
     "end_time": "2025-07-28T10:53:20.914830",
     "exception": false,
     "start_time": "2025-07-28T10:53:00.647438",
     "status": "completed"
    },
    "tags": []
   },
   "outputs": [
    {
     "name": "stderr",
     "output_type": "stream",
     "text": [
      "/dss/dsshome1/0C/ra93lal2/.local/share/virtualenvs/CMA_Fairness_v2-3j10GkSs/lib/python3.10/site-packages/sklearn/linear_model/_sag.py:350: ConvergenceWarning: The max_iter was reached which means the coef_ did not converge\n",
      "  warnings.warn(\n"
     ]
    },
    {
     "data": {
      "text/html": [
       "<style>#sk-container-id-1 {color: black;background-color: white;}#sk-container-id-1 pre{padding: 0;}#sk-container-id-1 div.sk-toggleable {background-color: white;}#sk-container-id-1 label.sk-toggleable__label {cursor: pointer;display: block;width: 100%;margin-bottom: 0;padding: 0.3em;box-sizing: border-box;text-align: center;}#sk-container-id-1 label.sk-toggleable__label-arrow:before {content: \"▸\";float: left;margin-right: 0.25em;color: #696969;}#sk-container-id-1 label.sk-toggleable__label-arrow:hover:before {color: black;}#sk-container-id-1 div.sk-estimator:hover label.sk-toggleable__label-arrow:before {color: black;}#sk-container-id-1 div.sk-toggleable__content {max-height: 0;max-width: 0;overflow: hidden;text-align: left;background-color: #f0f8ff;}#sk-container-id-1 div.sk-toggleable__content pre {margin: 0.2em;color: black;border-radius: 0.25em;background-color: #f0f8ff;}#sk-container-id-1 input.sk-toggleable__control:checked~div.sk-toggleable__content {max-height: 200px;max-width: 100%;overflow: auto;}#sk-container-id-1 input.sk-toggleable__control:checked~label.sk-toggleable__label-arrow:before {content: \"▾\";}#sk-container-id-1 div.sk-estimator input.sk-toggleable__control:checked~label.sk-toggleable__label {background-color: #d4ebff;}#sk-container-id-1 div.sk-label input.sk-toggleable__control:checked~label.sk-toggleable__label {background-color: #d4ebff;}#sk-container-id-1 input.sk-hidden--visually {border: 0;clip: rect(1px 1px 1px 1px);clip: rect(1px, 1px, 1px, 1px);height: 1px;margin: -1px;overflow: hidden;padding: 0;position: absolute;width: 1px;}#sk-container-id-1 div.sk-estimator {font-family: monospace;background-color: #f0f8ff;border: 1px dotted black;border-radius: 0.25em;box-sizing: border-box;margin-bottom: 0.5em;}#sk-container-id-1 div.sk-estimator:hover {background-color: #d4ebff;}#sk-container-id-1 div.sk-parallel-item::after {content: \"\";width: 100%;border-bottom: 1px solid gray;flex-grow: 1;}#sk-container-id-1 div.sk-label:hover label.sk-toggleable__label {background-color: #d4ebff;}#sk-container-id-1 div.sk-serial::before {content: \"\";position: absolute;border-left: 1px solid gray;box-sizing: border-box;top: 0;bottom: 0;left: 50%;z-index: 0;}#sk-container-id-1 div.sk-serial {display: flex;flex-direction: column;align-items: center;background-color: white;padding-right: 0.2em;padding-left: 0.2em;position: relative;}#sk-container-id-1 div.sk-item {position: relative;z-index: 1;}#sk-container-id-1 div.sk-parallel {display: flex;align-items: stretch;justify-content: center;background-color: white;position: relative;}#sk-container-id-1 div.sk-item::before, #sk-container-id-1 div.sk-parallel-item::before {content: \"\";position: absolute;border-left: 1px solid gray;box-sizing: border-box;top: 0;bottom: 0;left: 50%;z-index: -1;}#sk-container-id-1 div.sk-parallel-item {display: flex;flex-direction: column;z-index: 1;position: relative;background-color: white;}#sk-container-id-1 div.sk-parallel-item:first-child::after {align-self: flex-end;width: 50%;}#sk-container-id-1 div.sk-parallel-item:last-child::after {align-self: flex-start;width: 50%;}#sk-container-id-1 div.sk-parallel-item:only-child::after {width: 0;}#sk-container-id-1 div.sk-dashed-wrapped {border: 1px dashed gray;margin: 0 0.4em 0.5em 0.4em;box-sizing: border-box;padding-bottom: 0.4em;background-color: white;}#sk-container-id-1 div.sk-label label {font-family: monospace;font-weight: bold;display: inline-block;line-height: 1.2em;}#sk-container-id-1 div.sk-label-container {text-align: center;}#sk-container-id-1 div.sk-container {/* jupyter's `normalize.less` sets `[hidden] { display: none; }` but bootstrap.min.css set `[hidden] { display: none !important; }` so we also need the `!important` here to be able to override the default hidden behavior on the sphinx rendered scikit-learn.org. See: https://github.com/scikit-learn/scikit-learn/issues/21755 */display: inline-block !important;position: relative;}#sk-container-id-1 div.sk-text-repr-fallback {display: none;}</style><div id=\"sk-container-id-1\" class=\"sk-top-container\"><div class=\"sk-text-repr-fallback\"><pre>Pipeline(steps=[(&#x27;scale&#x27;, None),\n",
       "                (&#x27;model&#x27;,\n",
       "                 LogisticRegression(l1_ratio=0.5, max_iter=5000,\n",
       "                                    penalty=&#x27;elasticnet&#x27;, solver=&#x27;saga&#x27;))])</pre><b>In a Jupyter environment, please rerun this cell to show the HTML representation or trust the notebook. <br />On GitHub, the HTML representation is unable to render, please try loading this page with nbviewer.org.</b></div><div class=\"sk-container\" hidden><div class=\"sk-item sk-dashed-wrapped\"><div class=\"sk-label-container\"><div class=\"sk-label sk-toggleable\"><input class=\"sk-toggleable__control sk-hidden--visually\" id=\"sk-estimator-id-1\" type=\"checkbox\" ><label for=\"sk-estimator-id-1\" class=\"sk-toggleable__label sk-toggleable__label-arrow\">Pipeline</label><div class=\"sk-toggleable__content\"><pre>Pipeline(steps=[(&#x27;scale&#x27;, None),\n",
       "                (&#x27;model&#x27;,\n",
       "                 LogisticRegression(l1_ratio=0.5, max_iter=5000,\n",
       "                                    penalty=&#x27;elasticnet&#x27;, solver=&#x27;saga&#x27;))])</pre></div></div></div><div class=\"sk-serial\"><div class=\"sk-item\"><div class=\"sk-estimator sk-toggleable\"><input class=\"sk-toggleable__control sk-hidden--visually\" id=\"sk-estimator-id-2\" type=\"checkbox\" ><label for=\"sk-estimator-id-2\" class=\"sk-toggleable__label sk-toggleable__label-arrow\">None</label><div class=\"sk-toggleable__content\"><pre>None</pre></div></div></div><div class=\"sk-item\"><div class=\"sk-estimator sk-toggleable\"><input class=\"sk-toggleable__control sk-hidden--visually\" id=\"sk-estimator-id-3\" type=\"checkbox\" ><label for=\"sk-estimator-id-3\" class=\"sk-toggleable__label sk-toggleable__label-arrow\">LogisticRegression</label><div class=\"sk-toggleable__content\"><pre>LogisticRegression(l1_ratio=0.5, max_iter=5000, penalty=&#x27;elasticnet&#x27;,\n",
       "                   solver=&#x27;saga&#x27;)</pre></div></div></div></div></div></div></div>"
      ],
      "text/plain": [
       "Pipeline(steps=[('scale', None),\n",
       "                ('model',\n",
       "                 LogisticRegression(l1_ratio=0.5, max_iter=5000,\n",
       "                                    penalty='elasticnet', solver='saga'))])"
      ]
     },
     "execution_count": 36,
     "metadata": {},
     "output_type": "execute_result"
    }
   ],
   "source": [
    "model.fit(X_train, y_train.values.ravel())"
   ]
  },
  {
   "cell_type": "code",
   "execution_count": 37,
   "id": "af59f8c0",
   "metadata": {
    "execution": {
     "iopub.execute_input": "2025-07-28T10:53:20.942436Z",
     "iopub.status.busy": "2025-07-28T10:53:20.942041Z",
     "iopub.status.idle": "2025-07-28T10:53:20.947123Z",
     "shell.execute_reply": "2025-07-28T10:53:20.946362Z"
    },
    "papermill": {
     "duration": 0.019405,
     "end_time": "2025-07-28T10:53:20.948564",
     "exception": false,
     "start_time": "2025-07-28T10:53:20.929159",
     "status": "completed"
    },
    "tags": []
   },
   "outputs": [],
   "source": [
    "from fairness_multiverse.universe import predict_w_threshold"
   ]
  },
  {
   "cell_type": "code",
   "execution_count": 38,
   "id": "a7cf2e16",
   "metadata": {
    "execution": {
     "iopub.execute_input": "2025-07-28T10:53:20.978723Z",
     "iopub.status.busy": "2025-07-28T10:53:20.977948Z",
     "iopub.status.idle": "2025-07-28T10:53:21.068161Z",
     "shell.execute_reply": "2025-07-28T10:53:21.067436Z"
    },
    "papermill": {
     "duration": 0.104727,
     "end_time": "2025-07-28T10:53:21.069526",
     "exception": false,
     "start_time": "2025-07-28T10:53:20.964799",
     "status": "completed"
    },
    "tags": []
   },
   "outputs": [
    {
     "data": {
      "text/plain": [
       "0.8632036562256159"
      ]
     },
     "execution_count": 38,
     "metadata": {},
     "output_type": "execute_result"
    }
   ],
   "source": [
    "probs_test = model.predict_proba(X_test)\n",
    "\n",
    "'''\n",
    "Below code returns a boolean array (or binary 0/1 array depending on how it’s used) where each element \n",
    "is True if the probability of class 1 is greater than or equal to the threshold, and False otherwise.\n",
    "'''\n",
    "y_pred_default = predict_w_threshold(probs_test, 0.5)\n",
    "\n",
    "from sklearn.metrics import accuracy_score\n",
    "\n",
    "# Naive prediction\n",
    "accuracy_score(y_true = y_true, y_pred = y_pred_default)"
   ]
  },
  {
   "cell_type": "code",
   "execution_count": 39,
   "id": "081964c3",
   "metadata": {
    "execution": {
     "iopub.execute_input": "2025-07-28T10:53:21.096095Z",
     "iopub.status.busy": "2025-07-28T10:53:21.095409Z",
     "iopub.status.idle": "2025-07-28T10:53:21.174075Z",
     "shell.execute_reply": "2025-07-28T10:53:21.173214Z"
    },
    "papermill": {
     "duration": 0.093332,
     "end_time": "2025-07-28T10:53:21.175596",
     "exception": false,
     "start_time": "2025-07-28T10:53:21.082264",
     "status": "completed"
    },
    "tags": []
   },
   "outputs": [
    {
     "data": {
      "text/plain": [
       "array([0, 0, 0, ..., 0, 0, 0])"
      ]
     },
     "execution_count": 39,
     "metadata": {},
     "output_type": "execute_result"
    }
   ],
   "source": [
    "model.predict(X_test)"
   ]
  },
  {
   "cell_type": "markdown",
   "id": "56c9705b",
   "metadata": {
    "papermill": {
     "duration": 0.012264,
     "end_time": "2025-07-28T10:53:21.200558",
     "exception": false,
     "start_time": "2025-07-28T10:53:21.188294",
     "status": "completed"
    },
    "tags": []
   },
   "source": [
    "# Conformal Prediction"
   ]
  },
  {
   "cell_type": "code",
   "execution_count": 40,
   "id": "160ec6ff",
   "metadata": {
    "execution": {
     "iopub.execute_input": "2025-07-28T10:53:21.226169Z",
     "iopub.status.busy": "2025-07-28T10:53:21.225587Z",
     "iopub.status.idle": "2025-07-28T10:53:21.230423Z",
     "shell.execute_reply": "2025-07-28T10:53:21.229697Z"
    },
    "papermill": {
     "duration": 0.019237,
     "end_time": "2025-07-28T10:53:21.231699",
     "exception": false,
     "start_time": "2025-07-28T10:53:21.212462",
     "status": "completed"
    },
    "tags": []
   },
   "outputs": [],
   "source": [
    "# Miscoverage level for conformal prediction (10% allowed error rate => 90% target coverage)\n",
    "alpha = 0.1"
   ]
  },
  {
   "cell_type": "code",
   "execution_count": 41,
   "id": "eadf4555-3dd3-440e-8e35-f82a4ad9f855",
   "metadata": {
    "execution": {
     "iopub.execute_input": "2025-07-28T10:53:21.258214Z",
     "iopub.status.busy": "2025-07-28T10:53:21.257474Z",
     "iopub.status.idle": "2025-07-28T10:53:21.332915Z",
     "shell.execute_reply": "2025-07-28T10:53:21.332092Z"
    },
    "papermill": {
     "duration": 0.090007,
     "end_time": "2025-07-28T10:53:21.334482",
     "exception": false,
     "start_time": "2025-07-28T10:53:21.244475",
     "status": "completed"
    },
    "tags": []
   },
   "outputs": [],
   "source": [
    "probs_calib = model.predict_proba(X_calib)"
   ]
  },
  {
   "cell_type": "code",
   "execution_count": 42,
   "id": "2ed93547-6d5d-4983-9b36-1ecb300da49a",
   "metadata": {
    "execution": {
     "iopub.execute_input": "2025-07-28T10:53:21.360769Z",
     "iopub.status.busy": "2025-07-28T10:53:21.360397Z",
     "iopub.status.idle": "2025-07-28T10:53:21.365220Z",
     "shell.execute_reply": "2025-07-28T10:53:21.364399Z"
    },
    "papermill": {
     "duration": 0.019213,
     "end_time": "2025-07-28T10:53:21.366440",
     "exception": false,
     "start_time": "2025-07-28T10:53:21.347227",
     "status": "completed"
    },
    "tags": []
   },
   "outputs": [],
   "source": [
    "y_calib = y_calib.values.ravel().astype(int)"
   ]
  },
  {
   "cell_type": "code",
   "execution_count": 43,
   "id": "65d1320d-f588-4b38-9072-62af1ae97f7d",
   "metadata": {
    "execution": {
     "iopub.execute_input": "2025-07-28T10:53:21.393427Z",
     "iopub.status.busy": "2025-07-28T10:53:21.392917Z",
     "iopub.status.idle": "2025-07-28T10:53:21.399280Z",
     "shell.execute_reply": "2025-07-28T10:53:21.398539Z"
    },
    "papermill": {
     "duration": 0.021186,
     "end_time": "2025-07-28T10:53:21.400757",
     "exception": false,
     "start_time": "2025-07-28T10:53:21.379571",
     "status": "completed"
    },
    "tags": []
   },
   "outputs": [],
   "source": [
    "from fairness_multiverse.conformal import compute_nc_scores\n",
    "\n",
    "# Compute nonconformity scores on calibration set (1 - probability of true class)\n",
    "nc_scores = compute_nc_scores(probs_calib, y_calib)"
   ]
  },
  {
   "cell_type": "code",
   "execution_count": 44,
   "id": "df3b8ca3-53b7-43d5-9667-7c85da7aeda2",
   "metadata": {
    "execution": {
     "iopub.execute_input": "2025-07-28T10:53:21.427922Z",
     "iopub.status.busy": "2025-07-28T10:53:21.427385Z",
     "iopub.status.idle": "2025-07-28T10:53:21.432954Z",
     "shell.execute_reply": "2025-07-28T10:53:21.432281Z"
    },
    "papermill": {
     "duration": 0.020625,
     "end_time": "2025-07-28T10:53:21.434319",
     "exception": false,
     "start_time": "2025-07-28T10:53:21.413694",
     "status": "completed"
    },
    "tags": []
   },
   "outputs": [],
   "source": [
    "from fairness_multiverse.conformal import find_threshold\n",
    "\n",
    "# Find conformal threshold q_hat for the given alpha (split conformal method)\n",
    "q_hat = find_threshold(nc_scores, alpha)"
   ]
  },
  {
   "cell_type": "code",
   "execution_count": 45,
   "id": "4d29e6c1-0ef6-4aa4-b8fe-4fe79b0d033a",
   "metadata": {
    "execution": {
     "iopub.execute_input": "2025-07-28T10:53:21.461978Z",
     "iopub.status.busy": "2025-07-28T10:53:21.461475Z",
     "iopub.status.idle": "2025-07-28T10:53:21.468515Z",
     "shell.execute_reply": "2025-07-28T10:53:21.467730Z"
    },
    "papermill": {
     "duration": 0.022286,
     "end_time": "2025-07-28T10:53:21.469864",
     "exception": false,
     "start_time": "2025-07-28T10:53:21.447578",
     "status": "completed"
    },
    "tags": []
   },
   "outputs": [
    {
     "data": {
      "text/plain": [
       "0.683598855158577"
      ]
     },
     "execution_count": 45,
     "metadata": {},
     "output_type": "execute_result"
    }
   ],
   "source": [
    "q_hat"
   ]
  },
  {
   "cell_type": "code",
   "execution_count": 46,
   "id": "92460794-cdac-4be2-ba28-f28c0515a6fb",
   "metadata": {
    "execution": {
     "iopub.execute_input": "2025-07-28T10:53:21.498332Z",
     "iopub.status.busy": "2025-07-28T10:53:21.497767Z",
     "iopub.status.idle": "2025-07-28T10:53:22.138073Z",
     "shell.execute_reply": "2025-07-28T10:53:22.137289Z"
    },
    "papermill": {
     "duration": 0.655753,
     "end_time": "2025-07-28T10:53:22.139471",
     "exception": false,
     "start_time": "2025-07-28T10:53:21.483718",
     "status": "completed"
    },
    "tags": []
   },
   "outputs": [],
   "source": [
    "from fairness_multiverse.conformal import predict_conformal_sets\n",
    "\n",
    "# Generate prediction sets for each test example\n",
    "pred_sets = predict_conformal_sets(model, X_test, q_hat)"
   ]
  },
  {
   "cell_type": "code",
   "execution_count": 47,
   "id": "d90c9a65-e6db-4f5d-80cd-e68fb7e46829",
   "metadata": {
    "execution": {
     "iopub.execute_input": "2025-07-28T10:53:22.172097Z",
     "iopub.status.busy": "2025-07-28T10:53:22.171244Z",
     "iopub.status.idle": "2025-07-28T10:53:22.177742Z",
     "shell.execute_reply": "2025-07-28T10:53:22.176762Z"
    },
    "papermill": {
     "duration": 0.026747,
     "end_time": "2025-07-28T10:53:22.179466",
     "exception": false,
     "start_time": "2025-07-28T10:53:22.152719",
     "status": "completed"
    },
    "tags": []
   },
   "outputs": [],
   "source": [
    "y_true = y_true.squeeze()"
   ]
  },
  {
   "cell_type": "code",
   "execution_count": 48,
   "id": "3a58a54a-1e68-46b9-927a-df01f18aebc8",
   "metadata": {
    "execution": {
     "iopub.execute_input": "2025-07-28T10:53:22.222072Z",
     "iopub.status.busy": "2025-07-28T10:53:22.221188Z",
     "iopub.status.idle": "2025-07-28T10:53:23.269798Z",
     "shell.execute_reply": "2025-07-28T10:53:23.268740Z"
    },
    "papermill": {
     "duration": 1.069861,
     "end_time": "2025-07-28T10:53:23.271712",
     "exception": false,
     "start_time": "2025-07-28T10:53:22.201851",
     "status": "completed"
    },
    "tags": []
   },
   "outputs": [],
   "source": [
    "from fairness_multiverse.conformal import evaluate_sets\n",
    "\n",
    "# Evaluate coverage and average set size on test data\n",
    "metrics = evaluate_sets(pred_sets, y_true)"
   ]
  },
  {
   "cell_type": "markdown",
   "id": "2b569c12-9aaa-4c88-98c9-bbcd0cf3ebb8",
   "metadata": {
    "papermill": {
     "duration": 0.017327,
     "end_time": "2025-07-28T10:53:23.306792",
     "exception": false,
     "start_time": "2025-07-28T10:53:23.289465",
     "status": "completed"
    },
    "tags": []
   },
   "source": [
    "# CP Metrics"
   ]
  },
  {
   "cell_type": "code",
   "execution_count": 49,
   "id": "5ce0a5cb-201f-45a0-ade5-94c7f0bd6095",
   "metadata": {
    "execution": {
     "iopub.execute_input": "2025-07-28T10:53:23.336092Z",
     "iopub.status.busy": "2025-07-28T10:53:23.335493Z",
     "iopub.status.idle": "2025-07-28T10:53:23.344024Z",
     "shell.execute_reply": "2025-07-28T10:53:23.342928Z"
    },
    "papermill": {
     "duration": 0.024608,
     "end_time": "2025-07-28T10:53:23.345808",
     "exception": false,
     "start_time": "2025-07-28T10:53:23.321200",
     "status": "completed"
    },
    "tags": []
   },
   "outputs": [
    {
     "data": {
      "text/plain": [
       "{'coverage': 0.913253817857541, 'avg_size': 1.2703154609296623}"
      ]
     },
     "execution_count": 49,
     "metadata": {},
     "output_type": "execute_result"
    }
   ],
   "source": [
    "metrics"
   ]
  },
  {
   "cell_type": "code",
   "execution_count": 50,
   "id": "9b9a838d-31c9-430b-ae14-12baee460d17",
   "metadata": {
    "execution": {
     "iopub.execute_input": "2025-07-28T10:53:23.390079Z",
     "iopub.status.busy": "2025-07-28T10:53:23.389743Z",
     "iopub.status.idle": "2025-07-28T10:53:23.394880Z",
     "shell.execute_reply": "2025-07-28T10:53:23.394127Z"
    },
    "papermill": {
     "duration": 0.024024,
     "end_time": "2025-07-28T10:53:23.396485",
     "exception": false,
     "start_time": "2025-07-28T10:53:23.372461",
     "status": "completed"
    },
    "tags": []
   },
   "outputs": [],
   "source": [
    "example_universe = universe.copy()\n",
    "universe_training_size = example_universe.get(\"training_size\")\n",
    "universe_scale = example_universe.get(\"scale\")\n",
    "universe_model = example_universe.get(\"model\")\n",
    "universe_exclude_features = example_universe.get(\"exclude_features\")\n",
    "universe_exclude_subgroups = example_universe.get(\"exclude_subgroups\")"
   ]
  },
  {
   "cell_type": "code",
   "execution_count": 51,
   "id": "f4b6a8ac-9dc0-4245-8a91-5b3b5999c4f9",
   "metadata": {
    "execution": {
     "iopub.execute_input": "2025-07-28T10:53:23.424506Z",
     "iopub.status.busy": "2025-07-28T10:53:23.423796Z",
     "iopub.status.idle": "2025-07-28T10:53:23.429167Z",
     "shell.execute_reply": "2025-07-28T10:53:23.428452Z"
    },
    "papermill": {
     "duration": 0.020811,
     "end_time": "2025-07-28T10:53:23.430571",
     "exception": false,
     "start_time": "2025-07-28T10:53:23.409760",
     "status": "completed"
    },
    "tags": []
   },
   "outputs": [],
   "source": [
    "cp_metrics_dict = {\n",
    "    \"universe_id\": [universe_id],\n",
    "    \"universe_training_size\": [universe_training_size],\n",
    "    \"universe_scale\": [universe_scale],\n",
    "    \"universe_model\": [universe_model],\n",
    "    \"universe_exclude_features\": [universe_exclude_features],\n",
    "    \"universe_exclude_subgroups\": [universe_exclude_subgroups],\n",
    "    \"q_hat\": [q_hat],\n",
    "    \"coverage\": [metrics[\"coverage\"]],\n",
    "    \"avg_size\": [metrics[\"avg_size\"]],\n",
    "}"
   ]
  },
  {
   "cell_type": "code",
   "execution_count": 52,
   "id": "908acbb1-0371-4915-85ca-3fa520d2efe2",
   "metadata": {
    "execution": {
     "iopub.execute_input": "2025-07-28T10:53:23.457689Z",
     "iopub.status.busy": "2025-07-28T10:53:23.457175Z",
     "iopub.status.idle": "2025-07-28T10:53:23.463506Z",
     "shell.execute_reply": "2025-07-28T10:53:23.462775Z"
    },
    "papermill": {
     "duration": 0.021092,
     "end_time": "2025-07-28T10:53:23.464798",
     "exception": false,
     "start_time": "2025-07-28T10:53:23.443706",
     "status": "completed"
    },
    "tags": []
   },
   "outputs": [
    {
     "data": {
      "text/plain": [
       "{'universe_id': ['4ce7fbc0c43c0e5276b82fc7207bccb0'],\n",
       " 'universe_training_size': ['1k'],\n",
       " 'universe_scale': ['do-not-scale'],\n",
       " 'universe_model': ['elasticnet'],\n",
       " 'universe_exclude_features': ['age'],\n",
       " 'universe_exclude_subgroups': ['keep-all'],\n",
       " 'q_hat': [0.683598855158577],\n",
       " 'coverage': [0.913253817857541],\n",
       " 'avg_size': [1.2703154609296623]}"
      ]
     },
     "execution_count": 52,
     "metadata": {},
     "output_type": "execute_result"
    }
   ],
   "source": [
    "cp_metrics_dict"
   ]
  },
  {
   "cell_type": "code",
   "execution_count": 53,
   "id": "33007efc-14e9-4ec6-97ac-56a455c82265",
   "metadata": {
    "execution": {
     "iopub.execute_input": "2025-07-28T10:53:23.514973Z",
     "iopub.status.busy": "2025-07-28T10:53:23.514513Z",
     "iopub.status.idle": "2025-07-28T10:53:23.520946Z",
     "shell.execute_reply": "2025-07-28T10:53:23.519927Z"
    },
    "papermill": {
     "duration": 0.033354,
     "end_time": "2025-07-28T10:53:23.522450",
     "exception": false,
     "start_time": "2025-07-28T10:53:23.489096",
     "status": "completed"
    },
    "tags": []
   },
   "outputs": [],
   "source": [
    "cp_metrics_df = pd.DataFrame(cp_metrics_dict)"
   ]
  },
  {
   "cell_type": "code",
   "execution_count": 54,
   "id": "db12611b-57b2-4910-b9d0-355adfd6e7bf",
   "metadata": {
    "execution": {
     "iopub.execute_input": "2025-07-28T10:53:23.549591Z",
     "iopub.status.busy": "2025-07-28T10:53:23.549254Z",
     "iopub.status.idle": "2025-07-28T10:53:23.562996Z",
     "shell.execute_reply": "2025-07-28T10:53:23.562210Z"
    },
    "papermill": {
     "duration": 0.028805,
     "end_time": "2025-07-28T10:53:23.564530",
     "exception": false,
     "start_time": "2025-07-28T10:53:23.535725",
     "status": "completed"
    },
    "tags": []
   },
   "outputs": [
    {
     "data": {
      "text/html": [
       "<div>\n",
       "<style scoped>\n",
       "    .dataframe tbody tr th:only-of-type {\n",
       "        vertical-align: middle;\n",
       "    }\n",
       "\n",
       "    .dataframe tbody tr th {\n",
       "        vertical-align: top;\n",
       "    }\n",
       "\n",
       "    .dataframe thead th {\n",
       "        text-align: right;\n",
       "    }\n",
       "</style>\n",
       "<table border=\"1\" class=\"dataframe\">\n",
       "  <thead>\n",
       "    <tr style=\"text-align: right;\">\n",
       "      <th></th>\n",
       "      <th>universe_id</th>\n",
       "      <th>universe_training_size</th>\n",
       "      <th>universe_scale</th>\n",
       "      <th>universe_model</th>\n",
       "      <th>universe_exclude_features</th>\n",
       "      <th>universe_exclude_subgroups</th>\n",
       "      <th>q_hat</th>\n",
       "      <th>coverage</th>\n",
       "      <th>avg_size</th>\n",
       "    </tr>\n",
       "  </thead>\n",
       "  <tbody>\n",
       "    <tr>\n",
       "      <th>0</th>\n",
       "      <td>4ce7fbc0c43c0e5276b82fc7207bccb0</td>\n",
       "      <td>1k</td>\n",
       "      <td>do-not-scale</td>\n",
       "      <td>elasticnet</td>\n",
       "      <td>age</td>\n",
       "      <td>keep-all</td>\n",
       "      <td>0.683599</td>\n",
       "      <td>0.913254</td>\n",
       "      <td>1.270315</td>\n",
       "    </tr>\n",
       "  </tbody>\n",
       "</table>\n",
       "</div>"
      ],
      "text/plain": [
       "                        universe_id universe_training_size universe_scale  \\\n",
       "0  4ce7fbc0c43c0e5276b82fc7207bccb0                     1k   do-not-scale   \n",
       "\n",
       "  universe_model universe_exclude_features universe_exclude_subgroups  \\\n",
       "0     elasticnet                       age                   keep-all   \n",
       "\n",
       "      q_hat  coverage  avg_size  \n",
       "0  0.683599  0.913254  1.270315  "
      ]
     },
     "execution_count": 54,
     "metadata": {},
     "output_type": "execute_result"
    }
   ],
   "source": [
    "cp_metrics_df"
   ]
  },
  {
   "cell_type": "code",
   "execution_count": 55,
   "id": "b7fbde55-a0a1-47e4-9af6-fe4a17fa8c61",
   "metadata": {
    "execution": {
     "iopub.execute_input": "2025-07-28T10:53:23.593153Z",
     "iopub.status.busy": "2025-07-28T10:53:23.592595Z",
     "iopub.status.idle": "2025-07-28T10:53:23.597113Z",
     "shell.execute_reply": "2025-07-28T10:53:23.596354Z"
    },
    "papermill": {
     "duration": 0.019429,
     "end_time": "2025-07-28T10:53:23.598394",
     "exception": false,
     "start_time": "2025-07-28T10:53:23.578965",
     "status": "completed"
    },
    "tags": []
   },
   "outputs": [],
   "source": [
    "# Conditional Coverage & looking at subgroups"
   ]
  },
  {
   "cell_type": "code",
   "execution_count": 56,
   "id": "027ae886-68dd-4141-96c7-805a5450e1ef",
   "metadata": {
    "execution": {
     "iopub.execute_input": "2025-07-28T10:53:23.632896Z",
     "iopub.status.busy": "2025-07-28T10:53:23.631919Z",
     "iopub.status.idle": "2025-07-28T10:53:23.925971Z",
     "shell.execute_reply": "2025-07-28T10:53:23.924829Z"
    },
    "papermill": {
     "duration": 0.315914,
     "end_time": "2025-07-28T10:53:23.927670",
     "exception": false,
     "start_time": "2025-07-28T10:53:23.611756",
     "status": "completed"
    },
    "tags": []
   },
   "outputs": [],
   "source": [
    "from fairness_multiverse.conformal import build_cp_groups\n",
    "\n",
    "cp_groups_df = build_cp_groups(pred_sets, y_true, X_test.index, org_test)\n",
    "#needs universe_id and setting"
   ]
  },
  {
   "cell_type": "code",
   "execution_count": 57,
   "id": "01d5802c-663a-4d1f-9d69-e036faaffbf7",
   "metadata": {
    "execution": {
     "iopub.execute_input": "2025-07-28T10:53:23.979418Z",
     "iopub.status.busy": "2025-07-28T10:53:23.978672Z",
     "iopub.status.idle": "2025-07-28T10:53:23.984269Z",
     "shell.execute_reply": "2025-07-28T10:53:23.983322Z"
    },
    "papermill": {
     "duration": 0.033482,
     "end_time": "2025-07-28T10:53:23.985973",
     "exception": false,
     "start_time": "2025-07-28T10:53:23.952491",
     "status": "completed"
    },
    "tags": []
   },
   "outputs": [],
   "source": [
    "#delete\n",
    "#cp_groups_df"
   ]
  },
  {
   "cell_type": "code",
   "execution_count": 58,
   "id": "fa424af1-d1eb-443d-b717-2d279ada8408",
   "metadata": {
    "execution": {
     "iopub.execute_input": "2025-07-28T10:53:24.045147Z",
     "iopub.status.busy": "2025-07-28T10:53:24.044022Z",
     "iopub.status.idle": "2025-07-28T10:53:24.049902Z",
     "shell.execute_reply": "2025-07-28T10:53:24.048874Z"
    },
    "papermill": {
     "duration": 0.038383,
     "end_time": "2025-07-28T10:53:24.051637",
     "exception": false,
     "start_time": "2025-07-28T10:53:24.013254",
     "status": "completed"
    },
    "tags": []
   },
   "outputs": [],
   "source": [
    "#delete\n",
    "#percentage = (cp_groups_df['nongerman_female'] == 1).mean() * 100\n",
    "#print(percentage)\n"
   ]
  },
  {
   "cell_type": "code",
   "execution_count": 59,
   "id": "6cbdab96-b2b2-45af-ad54-d0516db2e28d",
   "metadata": {
    "execution": {
     "iopub.execute_input": "2025-07-28T10:53:24.104539Z",
     "iopub.status.busy": "2025-07-28T10:53:24.103830Z",
     "iopub.status.idle": "2025-07-28T10:53:26.332864Z",
     "shell.execute_reply": "2025-07-28T10:53:26.331741Z"
    },
    "papermill": {
     "duration": 2.25832,
     "end_time": "2025-07-28T10:53:26.334997",
     "exception": false,
     "start_time": "2025-07-28T10:53:24.076677",
     "status": "completed"
    },
    "tags": []
   },
   "outputs": [],
   "source": [
    "# Define covered = 1 if true_label is in the predicted set\n",
    "cp_groups_df['covered'] = cp_groups_df.apply(\n",
    "    lambda r: int(r['true_label'] in r['pred_set']),\n",
    "    axis=1\n",
    ")"
   ]
  },
  {
   "cell_type": "code",
   "execution_count": 60,
   "id": "338ff529-1a6b-4b87-a931-8e4788d52aad",
   "metadata": {
    "execution": {
     "iopub.execute_input": "2025-07-28T10:53:26.397410Z",
     "iopub.status.busy": "2025-07-28T10:53:26.396575Z",
     "iopub.status.idle": "2025-07-28T10:53:26.402817Z",
     "shell.execute_reply": "2025-07-28T10:53:26.401771Z"
    },
    "papermill": {
     "duration": 0.038394,
     "end_time": "2025-07-28T10:53:26.405212",
     "exception": false,
     "start_time": "2025-07-28T10:53:26.366818",
     "status": "completed"
    },
    "tags": []
   },
   "outputs": [],
   "source": [
    "#cp_groups_df"
   ]
  },
  {
   "cell_type": "code",
   "execution_count": 61,
   "id": "90032e27-66df-4540-9169-4e89cfbaa758",
   "metadata": {
    "execution": {
     "iopub.execute_input": "2025-07-28T10:53:26.458507Z",
     "iopub.status.busy": "2025-07-28T10:53:26.457626Z",
     "iopub.status.idle": "2025-07-28T10:53:26.470770Z",
     "shell.execute_reply": "2025-07-28T10:53:26.469605Z"
    },
    "papermill": {
     "duration": 0.042295,
     "end_time": "2025-07-28T10:53:26.473216",
     "exception": false,
     "start_time": "2025-07-28T10:53:26.430921",
     "status": "completed"
    },
    "tags": []
   },
   "outputs": [],
   "source": [
    "subgroups = ['frau1','nongerman','nongerman_male','nongerman_female']\n",
    "\n",
    "# Conditional coverage for subgroup==1\n",
    "cond_coverage = {\n",
    "    g: cp_groups_df.loc[cp_groups_df[g]==1, 'covered'].mean()\n",
    "    for g in subgroups\n",
    "}"
   ]
  },
  {
   "cell_type": "code",
   "execution_count": 62,
   "id": "1e348fb1-b9c3-45bc-ba23-f016827a7e0d",
   "metadata": {
    "execution": {
     "iopub.execute_input": "2025-07-28T10:53:26.534647Z",
     "iopub.status.busy": "2025-07-28T10:53:26.534118Z",
     "iopub.status.idle": "2025-07-28T10:53:26.542237Z",
     "shell.execute_reply": "2025-07-28T10:53:26.541209Z"
    },
    "papermill": {
     "duration": 0.040904,
     "end_time": "2025-07-28T10:53:26.544024",
     "exception": false,
     "start_time": "2025-07-28T10:53:26.503120",
     "status": "completed"
    },
    "tags": []
   },
   "outputs": [
    {
     "data": {
      "text/plain": [
       "{'frau1': 0.9128184391427416,\n",
       " 'nongerman': 0.963116824790883,\n",
       " 'nongerman_male': 0.9691975141853553,\n",
       " 'nongerman_female': 0.9530551415797317}"
      ]
     },
     "execution_count": 62,
     "metadata": {},
     "output_type": "execute_result"
    }
   ],
   "source": [
    "cond_coverage"
   ]
  },
  {
   "cell_type": "code",
   "execution_count": 63,
   "id": "f5093324-c3dd-4d63-bc4c-8d945e5c8bbb",
   "metadata": {
    "execution": {
     "iopub.execute_input": "2025-07-28T10:53:26.598384Z",
     "iopub.status.busy": "2025-07-28T10:53:26.597818Z",
     "iopub.status.idle": "2025-07-28T10:53:26.606266Z",
     "shell.execute_reply": "2025-07-28T10:53:26.605140Z"
    },
    "papermill": {
     "duration": 0.037267,
     "end_time": "2025-07-28T10:53:26.607892",
     "exception": false,
     "start_time": "2025-07-28T10:53:26.570625",
     "status": "completed"
    },
    "tags": []
   },
   "outputs": [],
   "source": [
    "for subgroup, cov in cond_coverage.items():\n",
    "    cp_metrics_df[f\"cov_{subgroup}\"] = cov"
   ]
  },
  {
   "cell_type": "code",
   "execution_count": 64,
   "id": "6e872e10-dbe5-49e8-b554-5030c98ff75d",
   "metadata": {
    "execution": {
     "iopub.execute_input": "2025-07-28T10:53:26.662545Z",
     "iopub.status.busy": "2025-07-28T10:53:26.661433Z",
     "iopub.status.idle": "2025-07-28T10:53:26.682734Z",
     "shell.execute_reply": "2025-07-28T10:53:26.681608Z"
    },
    "papermill": {
     "duration": 0.049929,
     "end_time": "2025-07-28T10:53:26.684565",
     "exception": false,
     "start_time": "2025-07-28T10:53:26.634636",
     "status": "completed"
    },
    "tags": []
   },
   "outputs": [
    {
     "data": {
      "text/html": [
       "<div>\n",
       "<style scoped>\n",
       "    .dataframe tbody tr th:only-of-type {\n",
       "        vertical-align: middle;\n",
       "    }\n",
       "\n",
       "    .dataframe tbody tr th {\n",
       "        vertical-align: top;\n",
       "    }\n",
       "\n",
       "    .dataframe thead th {\n",
       "        text-align: right;\n",
       "    }\n",
       "</style>\n",
       "<table border=\"1\" class=\"dataframe\">\n",
       "  <thead>\n",
       "    <tr style=\"text-align: right;\">\n",
       "      <th></th>\n",
       "      <th>universe_id</th>\n",
       "      <th>universe_training_size</th>\n",
       "      <th>universe_scale</th>\n",
       "      <th>universe_model</th>\n",
       "      <th>universe_exclude_features</th>\n",
       "      <th>universe_exclude_subgroups</th>\n",
       "      <th>q_hat</th>\n",
       "      <th>coverage</th>\n",
       "      <th>avg_size</th>\n",
       "      <th>cov_frau1</th>\n",
       "      <th>cov_nongerman</th>\n",
       "      <th>cov_nongerman_male</th>\n",
       "      <th>cov_nongerman_female</th>\n",
       "    </tr>\n",
       "  </thead>\n",
       "  <tbody>\n",
       "    <tr>\n",
       "      <th>0</th>\n",
       "      <td>4ce7fbc0c43c0e5276b82fc7207bccb0</td>\n",
       "      <td>1k</td>\n",
       "      <td>do-not-scale</td>\n",
       "      <td>elasticnet</td>\n",
       "      <td>age</td>\n",
       "      <td>keep-all</td>\n",
       "      <td>0.683599</td>\n",
       "      <td>0.913254</td>\n",
       "      <td>1.270315</td>\n",
       "      <td>0.912818</td>\n",
       "      <td>0.963117</td>\n",
       "      <td>0.969198</td>\n",
       "      <td>0.953055</td>\n",
       "    </tr>\n",
       "  </tbody>\n",
       "</table>\n",
       "</div>"
      ],
      "text/plain": [
       "                        universe_id universe_training_size universe_scale  \\\n",
       "0  4ce7fbc0c43c0e5276b82fc7207bccb0                     1k   do-not-scale   \n",
       "\n",
       "  universe_model universe_exclude_features universe_exclude_subgroups  \\\n",
       "0     elasticnet                       age                   keep-all   \n",
       "\n",
       "      q_hat  coverage  avg_size  cov_frau1  cov_nongerman  cov_nongerman_male  \\\n",
       "0  0.683599  0.913254  1.270315   0.912818       0.963117            0.969198   \n",
       "\n",
       "   cov_nongerman_female  \n",
       "0              0.953055  "
      ]
     },
     "execution_count": 64,
     "metadata": {},
     "output_type": "execute_result"
    }
   ],
   "source": [
    "cp_metrics_df"
   ]
  },
  {
   "cell_type": "markdown",
   "id": "33774451",
   "metadata": {
    "papermill": {
     "duration": 0.026119,
     "end_time": "2025-07-28T10:53:26.737688",
     "exception": false,
     "start_time": "2025-07-28T10:53:26.711569",
     "status": "completed"
    },
    "tags": []
   },
   "source": [
    "# (Fairness) Metrics"
   ]
  },
  {
   "cell_type": "code",
   "execution_count": 65,
   "id": "debc5d62",
   "metadata": {
    "execution": {
     "iopub.execute_input": "2025-07-28T10:53:26.792306Z",
     "iopub.status.busy": "2025-07-28T10:53:26.791356Z",
     "iopub.status.idle": "2025-07-28T10:53:26.816353Z",
     "shell.execute_reply": "2025-07-28T10:53:26.815290Z"
    },
    "papermill": {
     "duration": 0.054968,
     "end_time": "2025-07-28T10:53:26.818395",
     "exception": false,
     "start_time": "2025-07-28T10:53:26.763427",
     "status": "completed"
    },
    "tags": []
   },
   "outputs": [],
   "source": [
    "# do I need to include maxdeutsch1.missing?\n",
    "\n",
    "import numpy as np\n",
    "\n",
    "colname_to_bin = \"maxdeutsch1\"\n",
    "majority_value = org_train[colname_to_bin].mode()[0]\n",
    "\n",
    "org_test[\"majmin\"] = np.where(org_test[colname_to_bin] == majority_value, \"majority\", \"minority\")"
   ]
  },
  {
   "cell_type": "code",
   "execution_count": 66,
   "id": "06a50de5",
   "metadata": {
    "execution": {
     "iopub.execute_input": "2025-07-28T10:53:26.874319Z",
     "iopub.status.busy": "2025-07-28T10:53:26.873265Z",
     "iopub.status.idle": "2025-07-28T10:53:29.599700Z",
     "shell.execute_reply": "2025-07-28T10:53:29.598888Z"
    },
    "papermill": {
     "duration": 2.756041,
     "end_time": "2025-07-28T10:53:29.601284",
     "exception": false,
     "start_time": "2025-07-28T10:53:26.845243",
     "status": "completed"
    },
    "tags": []
   },
   "outputs": [],
   "source": [
    "example_universe = universe.copy()\n",
    "example_universe[\"cutoff\"] = example_universe[\"cutoff\"][0]\n",
    "example_universe[\"eval_fairness_grouping\"] = example_universe[\"eval_fairness_grouping\"][0]\n",
    "fairness_dict, metric_frame = universe_analysis.compute_metrics(\n",
    "    example_universe,\n",
    "    y_pred_prob=probs_test,\n",
    "    y_test=y_true,\n",
    "    org_test=org_test,\n",
    ")"
   ]
  },
  {
   "cell_type": "markdown",
   "id": "f95d4e02",
   "metadata": {
    "papermill": {
     "duration": 0.014162,
     "end_time": "2025-07-28T10:53:29.630181",
     "exception": false,
     "start_time": "2025-07-28T10:53:29.616019",
     "status": "completed"
    },
    "tags": []
   },
   "source": [
    "# Overall"
   ]
  },
  {
   "cell_type": "markdown",
   "id": "bdee4871",
   "metadata": {
    "papermill": {
     "duration": 0.013719,
     "end_time": "2025-07-28T10:53:29.657854",
     "exception": false,
     "start_time": "2025-07-28T10:53:29.644135",
     "status": "completed"
    },
    "tags": []
   },
   "source": [
    "Fairness\n",
    "Main fairness target: Equalized Odds. Seems to be a better fit than equal opportunity, since we're not only interested in Y = 1. Seems to be a better fit than demographic parity, since we also care about accuracy, not just equal distribution of preds.\n",
    "\n",
    "Pick column for computation of fairness metrics\n",
    "\n",
    "Performance\n",
    "Overall performance measures, most interesting in relation to the measures split by group below"
   ]
  },
  {
   "cell_type": "code",
   "execution_count": 67,
   "id": "c4e067c6",
   "metadata": {
    "execution": {
     "iopub.execute_input": "2025-07-28T10:53:29.687600Z",
     "iopub.status.busy": "2025-07-28T10:53:29.686840Z",
     "iopub.status.idle": "2025-07-28T10:53:29.694366Z",
     "shell.execute_reply": "2025-07-28T10:53:29.693565Z"
    },
    "papermill": {
     "duration": 0.024016,
     "end_time": "2025-07-28T10:53:29.695769",
     "exception": false,
     "start_time": "2025-07-28T10:53:29.671753",
     "status": "completed"
    },
    "tags": []
   },
   "outputs": [
    {
     "data": {
      "text/plain": [
       "accuracy                   0.214056\n",
       "balanced accuracy          0.525559\n",
       "f1                         0.235672\n",
       "precision                  0.134631\n",
       "false positive rate        0.893443\n",
       "false negative rate        0.055440\n",
       "selection rate             0.900000\n",
       "count                  89710.000000\n",
       "dtype: float64"
      ]
     },
     "execution_count": 67,
     "metadata": {},
     "output_type": "execute_result"
    }
   ],
   "source": [
    "metric_frame.overall"
   ]
  },
  {
   "cell_type": "markdown",
   "id": "e968fe9d",
   "metadata": {
    "papermill": {
     "duration": 0.014007,
     "end_time": "2025-07-28T10:53:29.724746",
     "exception": false,
     "start_time": "2025-07-28T10:53:29.710739",
     "status": "completed"
    },
    "tags": []
   },
   "source": [
    "By Group"
   ]
  },
  {
   "cell_type": "code",
   "execution_count": 68,
   "id": "ec325bce",
   "metadata": {
    "execution": {
     "iopub.execute_input": "2025-07-28T10:53:29.754085Z",
     "iopub.status.busy": "2025-07-28T10:53:29.753546Z",
     "iopub.status.idle": "2025-07-28T10:53:29.766506Z",
     "shell.execute_reply": "2025-07-28T10:53:29.765795Z"
    },
    "papermill": {
     "duration": 0.029292,
     "end_time": "2025-07-28T10:53:29.767978",
     "exception": false,
     "start_time": "2025-07-28T10:53:29.738686",
     "status": "completed"
    },
    "tags": []
   },
   "outputs": [
    {
     "data": {
      "text/html": [
       "<div>\n",
       "<style scoped>\n",
       "    .dataframe tbody tr th:only-of-type {\n",
       "        vertical-align: middle;\n",
       "    }\n",
       "\n",
       "    .dataframe tbody tr th {\n",
       "        vertical-align: top;\n",
       "    }\n",
       "\n",
       "    .dataframe thead th {\n",
       "        text-align: right;\n",
       "    }\n",
       "</style>\n",
       "<table border=\"1\" class=\"dataframe\">\n",
       "  <thead>\n",
       "    <tr style=\"text-align: right;\">\n",
       "      <th></th>\n",
       "      <th>accuracy</th>\n",
       "      <th>balanced accuracy</th>\n",
       "      <th>f1</th>\n",
       "      <th>precision</th>\n",
       "      <th>false positive rate</th>\n",
       "      <th>false negative rate</th>\n",
       "      <th>selection rate</th>\n",
       "      <th>count</th>\n",
       "    </tr>\n",
       "    <tr>\n",
       "      <th>majmin</th>\n",
       "      <th></th>\n",
       "      <th></th>\n",
       "      <th></th>\n",
       "      <th></th>\n",
       "      <th></th>\n",
       "      <th></th>\n",
       "      <th></th>\n",
       "      <th></th>\n",
       "    </tr>\n",
       "  </thead>\n",
       "  <tbody>\n",
       "    <tr>\n",
       "      <th>majority</th>\n",
       "      <td>0.235724</td>\n",
       "      <td>0.531900</td>\n",
       "      <td>0.244213</td>\n",
       "      <td>0.140461</td>\n",
       "      <td>0.870665</td>\n",
       "      <td>0.065536</td>\n",
       "      <td>0.879095</td>\n",
       "      <td>69170.0</td>\n",
       "    </tr>\n",
       "    <tr>\n",
       "      <th>minority</th>\n",
       "      <td>0.141091</td>\n",
       "      <td>0.507421</td>\n",
       "      <td>0.208879</td>\n",
       "      <td>0.116847</td>\n",
       "      <td>0.968688</td>\n",
       "      <td>0.016470</td>\n",
       "      <td>0.970399</td>\n",
       "      <td>20540.0</td>\n",
       "    </tr>\n",
       "  </tbody>\n",
       "</table>\n",
       "</div>"
      ],
      "text/plain": [
       "          accuracy  balanced accuracy        f1  precision  \\\n",
       "majmin                                                       \n",
       "majority  0.235724           0.531900  0.244213   0.140461   \n",
       "minority  0.141091           0.507421  0.208879   0.116847   \n",
       "\n",
       "          false positive rate  false negative rate  selection rate    count  \n",
       "majmin                                                                       \n",
       "majority             0.870665             0.065536        0.879095  69170.0  \n",
       "minority             0.968688             0.016470        0.970399  20540.0  "
      ]
     },
     "execution_count": 68,
     "metadata": {},
     "output_type": "execute_result"
    }
   ],
   "source": [
    "metric_frame.by_group"
   ]
  },
  {
   "cell_type": "code",
   "execution_count": 69,
   "id": "a9ddbe63",
   "metadata": {
    "execution": {
     "iopub.execute_input": "2025-07-28T10:53:29.799532Z",
     "iopub.status.busy": "2025-07-28T10:53:29.798669Z",
     "iopub.status.idle": "2025-07-28T10:53:32.264600Z",
     "shell.execute_reply": "2025-07-28T10:53:32.263834Z"
    },
    "papermill": {
     "duration": 2.482939,
     "end_time": "2025-07-28T10:53:32.266092",
     "exception": false,
     "start_time": "2025-07-28T10:53:29.783153",
     "status": "completed"
    },
    "tags": []
   },
   "outputs": [
    {
     "data": {
      "text/plain": [
       "array([[<Axes: title={'center': 'accuracy'}, xlabel='majmin'>,\n",
       "        <Axes: title={'center': 'balanced accuracy'}, xlabel='majmin'>,\n",
       "        <Axes: title={'center': 'f1'}, xlabel='majmin'>],\n",
       "       [<Axes: title={'center': 'precision'}, xlabel='majmin'>,\n",
       "        <Axes: title={'center': 'false positive rate'}, xlabel='majmin'>,\n",
       "        <Axes: title={'center': 'false negative rate'}, xlabel='majmin'>],\n",
       "       [<Axes: title={'center': 'selection rate'}, xlabel='majmin'>,\n",
       "        <Axes: title={'center': 'count'}, xlabel='majmin'>,\n",
       "        <Axes: xlabel='majmin'>]], dtype=object)"
      ]
     },
     "execution_count": 69,
     "metadata": {},
     "output_type": "execute_result"
    },
    {
     "data": {
      "image/png": "[encoded data removed]",
      "text/plain": [
       "<Figure size 1200x800 with 9 Axes>"
      ]
     },
     "metadata": {},
     "output_type": "display_data"
    }
   ],
   "source": [
    "# In a graphic\n",
    "metric_frame.by_group.plot.bar(\n",
    "    subplots=True,\n",
    "    layout=[3, 3],\n",
    "    legend=False,\n",
    "    figsize=[12, 8],\n",
    "    title=\"Show all metrics\",\n",
    ")"
   ]
  },
  {
   "cell_type": "markdown",
   "id": "f57a0bac",
   "metadata": {
    "papermill": {
     "duration": 0.018367,
     "end_time": "2025-07-28T10:53:32.302775",
     "exception": false,
     "start_time": "2025-07-28T10:53:32.284408",
     "status": "completed"
    },
    "tags": []
   },
   "source": [
    "# Final Output"
   ]
  },
  {
   "cell_type": "code",
   "execution_count": 70,
   "id": "96d280a3",
   "metadata": {
    "execution": {
     "iopub.execute_input": "2025-07-28T10:53:32.334503Z",
     "iopub.status.busy": "2025-07-28T10:53:32.333721Z",
     "iopub.status.idle": "2025-07-28T10:53:32.341968Z",
     "shell.execute_reply": "2025-07-28T10:53:32.341244Z"
    },
    "papermill": {
     "duration": 0.025568,
     "end_time": "2025-07-28T10:53:32.343253",
     "exception": false,
     "start_time": "2025-07-28T10:53:32.317685",
     "status": "completed"
    },
    "tags": []
   },
   "outputs": [
    {
     "data": {
      "text/plain": [
       "4"
      ]
     },
     "execution_count": 70,
     "metadata": {},
     "output_type": "execute_result"
    }
   ],
   "source": [
    "sub_universes = universe_analysis.generate_sub_universes()\n",
    "len(sub_universes)"
   ]
  },
  {
   "cell_type": "code",
   "execution_count": 71,
   "id": "92adf7ba",
   "metadata": {
    "execution": {
     "iopub.execute_input": "2025-07-28T10:53:32.375512Z",
     "iopub.status.busy": "2025-07-28T10:53:32.374992Z",
     "iopub.status.idle": "2025-07-28T10:53:32.386171Z",
     "shell.execute_reply": "2025-07-28T10:53:32.385395Z"
    },
    "papermill": {
     "duration": 0.029069,
     "end_time": "2025-07-28T10:53:32.387850",
     "exception": false,
     "start_time": "2025-07-28T10:53:32.358781",
     "status": "completed"
    },
    "tags": []
   },
   "outputs": [],
   "source": [
    "def filter_sub_universe_data(sub_universe, org_test):\n",
    "    # Keep all rows — no filtering\n",
    "    keep_rows_mask = np.ones(org_test.shape[0], dtype=bool)\n",
    "\n",
    "    print(f\"[INFO] Keeping all rows: {keep_rows_mask.sum()} rows retained.\")\n",
    "    return keep_rows_mask"
   ]
  },
  {
   "cell_type": "code",
   "execution_count": 72,
   "id": "4a759155",
   "metadata": {
    "execution": {
     "iopub.execute_input": "2025-07-28T10:53:32.449797Z",
     "iopub.status.busy": "2025-07-28T10:53:32.449278Z",
     "iopub.status.idle": "2025-07-28T10:53:41.557275Z",
     "shell.execute_reply": "2025-07-28T10:53:41.556089Z"
    },
    "papermill": {
     "duration": 9.141081,
     "end_time": "2025-07-28T10:53:41.558951",
     "exception": false,
     "start_time": "2025-07-28T10:53:32.417870",
     "status": "completed"
    },
    "tags": []
   },
   "outputs": [
    {
     "name": "stdout",
     "output_type": "stream",
     "text": [
      "Stopping execution_time clock.\n",
      "[INFO] Keeping all rows: 89710 rows retained.\n"
     ]
    },
    {
     "name": "stdout",
     "output_type": "stream",
     "text": [
      "[INFO] Keeping all rows: 89710 rows retained.\n"
     ]
    },
    {
     "name": "stdout",
     "output_type": "stream",
     "text": [
      "[INFO] Keeping all rows: 89710 rows retained.\n"
     ]
    },
    {
     "name": "stdout",
     "output_type": "stream",
     "text": [
      "[INFO] Keeping all rows: 89710 rows retained.\n"
     ]
    },
    {
     "data": {
      "text/html": [
       "<div>\n",
       "<style scoped>\n",
       "    .dataframe tbody tr th:only-of-type {\n",
       "        vertical-align: middle;\n",
       "    }\n",
       "\n",
       "    .dataframe tbody tr th {\n",
       "        vertical-align: top;\n",
       "    }\n",
       "\n",
       "    .dataframe thead th {\n",
       "        text-align: right;\n",
       "    }\n",
       "</style>\n",
       "<table border=\"1\" class=\"dataframe\">\n",
       "  <thead>\n",
       "    <tr style=\"text-align: right;\">\n",
       "      <th></th>\n",
       "      <th>run_no</th>\n",
       "      <th>universe_id</th>\n",
       "      <th>universe_settings</th>\n",
       "      <th>execution_time</th>\n",
       "      <th>test_size_n</th>\n",
       "      <th>test_size_frac</th>\n",
       "      <th>fair_main_equalized_odds_difference</th>\n",
       "      <th>fair_main_equalized_odds_ratio</th>\n",
       "      <th>fair_main_demographic_parity_difference</th>\n",
       "      <th>fair_main_demographic_parity_ratio</th>\n",
       "      <th>...</th>\n",
       "      <th>perf_grp_precision_0</th>\n",
       "      <th>perf_grp_precision_1</th>\n",
       "      <th>perf_grp_false positive rate_0</th>\n",
       "      <th>perf_grp_false positive rate_1</th>\n",
       "      <th>perf_grp_false negative rate_0</th>\n",
       "      <th>perf_grp_false negative rate_1</th>\n",
       "      <th>perf_grp_selection rate_0</th>\n",
       "      <th>perf_grp_selection rate_1</th>\n",
       "      <th>perf_grp_count_0</th>\n",
       "      <th>perf_grp_count_1</th>\n",
       "    </tr>\n",
       "  </thead>\n",
       "  <tbody>\n",
       "    <tr>\n",
       "      <th>0</th>\n",
       "      <td>11</td>\n",
       "      <td>4ce7fbc0c43c0e5276b82fc7207bccb0</td>\n",
       "      <td>{\"cutoff\": \"quantile_0.1\", \"eval_fairness_grou...</td>\n",
       "      <td>47.273289</td>\n",
       "      <td>89710</td>\n",
       "      <td>1.0</td>\n",
       "      <td>0.098023</td>\n",
       "      <td>0.898808</td>\n",
       "      <td>0.091304</td>\n",
       "      <td>0.905911</td>\n",
       "      <td>...</td>\n",
       "      <td>NaN</td>\n",
       "      <td>NaN</td>\n",
       "      <td>NaN</td>\n",
       "      <td>NaN</td>\n",
       "      <td>NaN</td>\n",
       "      <td>NaN</td>\n",
       "      <td>NaN</td>\n",
       "      <td>NaN</td>\n",
       "      <td>NaN</td>\n",
       "      <td>NaN</td>\n",
       "    </tr>\n",
       "    <tr>\n",
       "      <th>0</th>\n",
       "      <td>11</td>\n",
       "      <td>4ce7fbc0c43c0e5276b82fc7207bccb0</td>\n",
       "      <td>{\"cutoff\": \"quantile_0.1\", \"eval_fairness_grou...</td>\n",
       "      <td>47.273289</td>\n",
       "      <td>89710</td>\n",
       "      <td>1.0</td>\n",
       "      <td>0.098023</td>\n",
       "      <td>0.898808</td>\n",
       "      <td>0.091304</td>\n",
       "      <td>0.905911</td>\n",
       "      <td>...</td>\n",
       "      <td>0.116847</td>\n",
       "      <td>0.140461</td>\n",
       "      <td>0.968688</td>\n",
       "      <td>0.870665</td>\n",
       "      <td>0.016470</td>\n",
       "      <td>0.065536</td>\n",
       "      <td>0.970399</td>\n",
       "      <td>0.879095</td>\n",
       "      <td>20540.0</td>\n",
       "      <td>69170.0</td>\n",
       "    </tr>\n",
       "    <tr>\n",
       "      <th>0</th>\n",
       "      <td>11</td>\n",
       "      <td>4ce7fbc0c43c0e5276b82fc7207bccb0</td>\n",
       "      <td>{\"cutoff\": \"quantile_0.25\", \"eval_fairness_gro...</td>\n",
       "      <td>47.273289</td>\n",
       "      <td>89710</td>\n",
       "      <td>1.0</td>\n",
       "      <td>0.234646</td>\n",
       "      <td>0.743581</td>\n",
       "      <td>0.218986</td>\n",
       "      <td>0.761672</td>\n",
       "      <td>...</td>\n",
       "      <td>NaN</td>\n",
       "      <td>NaN</td>\n",
       "      <td>NaN</td>\n",
       "      <td>NaN</td>\n",
       "      <td>NaN</td>\n",
       "      <td>NaN</td>\n",
       "      <td>NaN</td>\n",
       "      <td>NaN</td>\n",
       "      <td>NaN</td>\n",
       "      <td>NaN</td>\n",
       "    </tr>\n",
       "    <tr>\n",
       "      <th>0</th>\n",
       "      <td>11</td>\n",
       "      <td>4ce7fbc0c43c0e5276b82fc7207bccb0</td>\n",
       "      <td>{\"cutoff\": \"quantile_0.25\", \"eval_fairness_gro...</td>\n",
       "      <td>47.273289</td>\n",
       "      <td>89710</td>\n",
       "      <td>1.0</td>\n",
       "      <td>0.234646</td>\n",
       "      <td>0.743581</td>\n",
       "      <td>0.218986</td>\n",
       "      <td>0.761672</td>\n",
       "      <td>...</td>\n",
       "      <td>0.118900</td>\n",
       "      <td>0.156211</td>\n",
       "      <td>0.915089</td>\n",
       "      <td>0.680443</td>\n",
       "      <td>0.052365</td>\n",
       "      <td>0.172648</td>\n",
       "      <td>0.918841</td>\n",
       "      <td>0.699855</td>\n",
       "      <td>20540.0</td>\n",
       "      <td>69170.0</td>\n",
       "    </tr>\n",
       "  </tbody>\n",
       "</table>\n",
       "<p>4 rows × 50 columns</p>\n",
       "</div>"
      ],
      "text/plain": [
       "  run_no                       universe_id  \\\n",
       "0     11  4ce7fbc0c43c0e5276b82fc7207bccb0   \n",
       "0     11  4ce7fbc0c43c0e5276b82fc7207bccb0   \n",
       "0     11  4ce7fbc0c43c0e5276b82fc7207bccb0   \n",
       "0     11  4ce7fbc0c43c0e5276b82fc7207bccb0   \n",
       "\n",
       "                                   universe_settings  execution_time  \\\n",
       "0  {\"cutoff\": \"quantile_0.1\", \"eval_fairness_grou...       47.273289   \n",
       "0  {\"cutoff\": \"quantile_0.1\", \"eval_fairness_grou...       47.273289   \n",
       "0  {\"cutoff\": \"quantile_0.25\", \"eval_fairness_gro...       47.273289   \n",
       "0  {\"cutoff\": \"quantile_0.25\", \"eval_fairness_gro...       47.273289   \n",
       "\n",
       "   test_size_n  test_size_frac  fair_main_equalized_odds_difference  \\\n",
       "0        89710             1.0                             0.098023   \n",
       "0        89710             1.0                             0.098023   \n",
       "0        89710             1.0                             0.234646   \n",
       "0        89710             1.0                             0.234646   \n",
       "\n",
       "   fair_main_equalized_odds_ratio  fair_main_demographic_parity_difference  \\\n",
       "0                        0.898808                                 0.091304   \n",
       "0                        0.898808                                 0.091304   \n",
       "0                        0.743581                                 0.218986   \n",
       "0                        0.743581                                 0.218986   \n",
       "\n",
       "   fair_main_demographic_parity_ratio  ...  perf_grp_precision_0  \\\n",
       "0                            0.905911  ...                   NaN   \n",
       "0                            0.905911  ...              0.116847   \n",
       "0                            0.761672  ...                   NaN   \n",
       "0                            0.761672  ...              0.118900   \n",
       "\n",
       "   perf_grp_precision_1  perf_grp_false positive rate_0  \\\n",
       "0                   NaN                             NaN   \n",
       "0              0.140461                        0.968688   \n",
       "0                   NaN                             NaN   \n",
       "0              0.156211                        0.915089   \n",
       "\n",
       "   perf_grp_false positive rate_1  perf_grp_false negative rate_0  \\\n",
       "0                             NaN                             NaN   \n",
       "0                        0.870665                        0.016470   \n",
       "0                             NaN                             NaN   \n",
       "0                        0.680443                        0.052365   \n",
       "\n",
       "   perf_grp_false negative rate_1  perf_grp_selection rate_0  \\\n",
       "0                             NaN                        NaN   \n",
       "0                        0.065536                   0.970399   \n",
       "0                             NaN                        NaN   \n",
       "0                        0.172648                   0.918841   \n",
       "\n",
       "   perf_grp_selection rate_1  perf_grp_count_0  perf_grp_count_1  \n",
       "0                        NaN               NaN               NaN  \n",
       "0                   0.879095           20540.0           69170.0  \n",
       "0                        NaN               NaN               NaN  \n",
       "0                   0.699855           20540.0           69170.0  \n",
       "\n",
       "[4 rows x 50 columns]"
      ]
     },
     "execution_count": 72,
     "metadata": {},
     "output_type": "execute_result"
    }
   ],
   "source": [
    "final_output = universe_analysis.generate_final_output(\n",
    "    y_pred_prob=probs_test,\n",
    "    y_test=y_true,\n",
    "    org_test=org_test,\n",
    "    filter_data=filter_sub_universe_data,\n",
    "    cp_metrics_df=cp_metrics_df,\n",
    "    save=True,\n",
    ")\n",
    "final_output"
   ]
  },
  {
   "cell_type": "code",
   "execution_count": null,
   "id": "721ff514-cb11-46f8-b6fc-50392f74b5cb",
   "metadata": {
    "papermill": {
     "duration": 0.030319,
     "end_time": "2025-07-28T10:53:41.620470",
     "exception": false,
     "start_time": "2025-07-28T10:53:41.590151",
     "status": "completed"
    },
    "tags": []
   },
   "outputs": [],
   "source": []
  }
 ],
 "metadata": {
  "celltoolbar": "Tags",
  "kernelspec": {
   "display_name": "Python (CMA Fairness)",
   "language": "python",
   "name": "cma_fair_env"
  },
  "language_info": {
   "codemirror_mode": {
    "name": "ipython",
    "version": 3
   },
   "file_extension": ".py",
   "mimetype": "text/x-python",
   "name": "python",
   "nbconvert_exporter": "python",
   "pygments_lexer": "ipython3",
   "version": "3.10.12"
  },
  "papermill": {
   "default_parameters": {},
   "duration": 60.833038,
   "end_time": "2025-07-28T10:53:42.569984",
   "environment_variables": {},
   "exception": null,
   "input_path": "universe_analysis.ipynb",
   "output_path": "output/runs/11/notebooks/m_11-4ce7fbc0c43c0e5276b82fc7207bccb0.ipynb",
   "parameters": {
    "output_dir": "output",
    "run_no": "11",
    "seed": "2023",
    "universe": "{\"cutoff\": [\"quantile_0.1\", \"quantile_0.25\"], \"eval_fairness_grouping\": [\"majority-minority\", \"nationality-all\"], \"exclude_features\": \"age\", \"exclude_subgroups\": \"keep-all\", \"model\": \"elasticnet\", \"scale\": \"do-not-scale\", \"training_size\": \"1k\"}",
    "universe_id": "4ce7fbc0c43c0e5276b82fc7207bccb0"
   },
   "start_time": "2025-07-28T10:52:41.736946",
   "version": "2.6.0"
  }
 },
 "nbformat": 4,
 "nbformat_minor": 5
}