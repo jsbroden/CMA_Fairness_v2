{
 "cells": [
  {
   "cell_type": "code",
   "execution_count": 1,
   "id": "f159f837-637b-42ba-96b5-ec9a68c44524",
   "metadata": {
    "execution": {
     "iopub.execute_input": "2025-07-28T10:54:34.497148Z",
     "iopub.status.busy": "2025-07-28T10:54:34.496393Z",
     "iopub.status.idle": "2025-07-28T10:54:34.510989Z",
     "shell.execute_reply": "2025-07-28T10:54:34.509909Z"
    },
    "papermill": {
     "duration": 0.037535,
     "end_time": "2025-07-28T10:54:34.512980",
     "exception": false,
     "start_time": "2025-07-28T10:54:34.475445",
     "status": "completed"
    },
    "tags": []
   },
   "outputs": [
    {
     "name": "stdout",
     "output_type": "stream",
     "text": [
      "/dss/dsshome1/0C/ra93lal2/cma/CMA_Fairness_v2\n"
     ]
    },
    {
     "name": "stderr",
     "output_type": "stream",
     "text": [
      "/dss/dsshome1/0C/ra93lal2/.local/share/virtualenvs/CMA_Fairness_v2-3j10GkSs/lib/python3.10/site-packages/IPython/core/magics/osm.py:393: UserWarning: This is now an optional IPython functionality, using bookmarks requires you to install the `pickleshare` library.\n",
      "  bkms = self.shell.db.get('bookmarks', {})\n",
      "/dss/dsshome1/0C/ra93lal2/.local/share/virtualenvs/CMA_Fairness_v2-3j10GkSs/lib/python3.10/site-packages/IPython/core/magics/osm.py:417: UserWarning: This is now an optional IPython functionality, setting dhist requires you to install the `pickleshare` library.\n",
      "  self.shell.db['dhist'] = compress_dhist(dhist)[-100:]\n"
     ]
    }
   ],
   "source": [
    "%cd ~/cma/CMA_Fairness_v2"
   ]
  },
  {
   "cell_type": "markdown",
   "id": "de2603b9",
   "metadata": {
    "papermill": {
     "duration": 0.021111,
     "end_time": "2025-07-28T10:54:34.554846",
     "exception": false,
     "start_time": "2025-07-28T10:54:34.533735",
     "status": "completed"
    },
    "tags": []
   },
   "source": [
    "The following cell holds the definition of our parameters, these values can be overriden by rendering the with e.g. the following command:\n",
    "\n",
    "papermill -p alpha 0.2 -p ratio 0.3 universe_analysis.ipynb output/test_run.ipynb"
   ]
  },
  {
   "cell_type": "code",
   "execution_count": 2,
   "id": "a80968a0-40bb-4fa9-85ef-2d5eefb01975",
   "metadata": {
    "execution": {
     "iopub.execute_input": "2025-07-28T10:54:34.597489Z",
     "iopub.status.busy": "2025-07-28T10:54:34.596965Z",
     "iopub.status.idle": "2025-07-28T10:54:34.603349Z",
     "shell.execute_reply": "2025-07-28T10:54:34.602295Z"
    },
    "papermill": {
     "duration": 0.029448,
     "end_time": "2025-07-28T10:54:34.605289",
     "exception": false,
     "start_time": "2025-07-28T10:54:34.575841",
     "status": "completed"
    },
    "tags": []
   },
   "outputs": [
    {
     "name": "stdout",
     "output_type": "stream",
     "text": [
      "Current working directory: /dss/dsshome1/0C/ra93lal2/cma/CMA_Fairness_v2\n"
     ]
    }
   ],
   "source": [
    "import os\n",
    "print(\"Current working directory:\", os.getcwd())"
   ]
  },
  {
   "cell_type": "code",
   "execution_count": 3,
   "id": "2dce4c03",
   "metadata": {
    "execution": {
     "iopub.execute_input": "2025-07-28T10:54:34.634526Z",
     "iopub.status.busy": "2025-07-28T10:54:34.634150Z",
     "iopub.status.idle": "2025-07-28T10:54:34.639995Z",
     "shell.execute_reply": "2025-07-28T10:54:34.639213Z"
    },
    "papermill": {
     "duration": 0.019155,
     "end_time": "2025-07-28T10:54:34.641388",
     "exception": false,
     "start_time": "2025-07-28T10:54:34.622233",
     "status": "completed"
    },
    "tags": [
     "parameters"
    ]
   },
   "outputs": [],
   "source": [
    "run_no = 0\n",
    "universe_id = \"test\"\n",
    "universe = {\n",
    "    \"training_size\": \"2014\", # \"25k\", \"5k\", \"1k\", \"2014\"\n",
    "    \"scale\": \"scale\", # \"scale\", \"do-not-scale\",\n",
    "    #\"stratify_split\": \"target\", # \"none\", \"target\", \"protected-attribute\", \"both\",\n",
    "    \"model\": \"elasticnet\", # \"logreg\", \"penalized_logreg\", \"rf\", \"gbm\", \"elasticnet\"\n",
    "    \"cutoff\": [\"quantile_0.15\", \"quantile_0.30\"],\n",
    "    \"exclude_features\": \"age\", # \"none\", \"nationality\", \"sex\", \"nationality-sex\", \"age\"\n",
    "    \"exclude_subgroups\": \"keep-all\", # \"keep-all\", \"drop-non-german\"\n",
    "    \"eval_fairness_grouping\": [\"majority-minority\", \"nationality-all\"]\n",
    "}\n",
    "\n",
    "output_dir=\"./output\"\n",
    "seed=0"
   ]
  },
  {
   "cell_type": "code",
   "execution_count": 4,
   "id": "af85205b",
   "metadata": {
    "execution": {
     "iopub.execute_input": "2025-07-28T10:54:34.664350Z",
     "iopub.status.busy": "2025-07-28T10:54:34.663784Z",
     "iopub.status.idle": "2025-07-28T10:54:34.668937Z",
     "shell.execute_reply": "2025-07-28T10:54:34.668149Z"
    },
    "papermill": {
     "duration": 0.017944,
     "end_time": "2025-07-28T10:54:34.670355",
     "exception": false,
     "start_time": "2025-07-28T10:54:34.652411",
     "status": "completed"
    },
    "tags": [
     "injected-parameters"
    ]
   },
   "outputs": [],
   "source": [
    "# Parameters\n",
    "universe_id = \"9b858b6b914dbc24d3161a60edd567a3\"\n",
    "run_no = \"11\"\n",
    "universe = \"{\\\"cutoff\\\": [\\\"quantile_0.1\\\", \\\"quantile_0.25\\\"], \\\"eval_fairness_grouping\\\": [\\\"majority-minority\\\", \\\"nationality-all\\\"], \\\"exclude_features\\\": \\\"sex\\\", \\\"exclude_subgroups\\\": \\\"keep-all\\\", \\\"model\\\": \\\"penalized_logreg\\\", \\\"scale\\\": \\\"scale\\\", \\\"training_size\\\": \\\"2014\\\"}\"\n",
    "output_dir = \"output\"\n",
    "seed = \"2023\"\n"
   ]
  },
  {
   "cell_type": "code",
   "execution_count": 5,
   "id": "1650acaf",
   "metadata": {
    "execution": {
     "iopub.execute_input": "2025-07-28T10:54:34.709298Z",
     "iopub.status.busy": "2025-07-28T10:54:34.708840Z",
     "iopub.status.idle": "2025-07-28T10:54:34.714171Z",
     "shell.execute_reply": "2025-07-28T10:54:34.713268Z"
    },
    "papermill": {
     "duration": 0.027767,
     "end_time": "2025-07-28T10:54:34.715998",
     "exception": false,
     "start_time": "2025-07-28T10:54:34.688231",
     "status": "completed"
    },
    "tags": []
   },
   "outputs": [],
   "source": [
    "import json\n",
    "# Parse universe into dict if it is passed as a string\n",
    "if isinstance(universe, str):\n",
    "    universe = json.loads(universe)"
   ]
  },
  {
   "cell_type": "code",
   "execution_count": 6,
   "id": "16620c48",
   "metadata": {
    "execution": {
     "iopub.execute_input": "2025-07-28T10:54:34.756396Z",
     "iopub.status.busy": "2025-07-28T10:54:34.755858Z",
     "iopub.status.idle": "2025-07-28T10:54:34.802604Z",
     "shell.execute_reply": "2025-07-28T10:54:34.801552Z"
    },
    "papermill": {
     "duration": 0.081271,
     "end_time": "2025-07-28T10:54:34.816502",
     "exception": false,
     "start_time": "2025-07-28T10:54:34.735231",
     "status": "completed"
    },
    "tags": []
   },
   "outputs": [],
   "source": [
    "# Auto-reload the custom package\n",
    "%load_ext autoreload\n",
    "%autoreload 1\n",
    "%aimport fairness_multiverse"
   ]
  },
  {
   "cell_type": "code",
   "execution_count": 7,
   "id": "01c5c9f3",
   "metadata": {
    "execution": {
     "iopub.execute_input": "2025-07-28T10:54:34.857366Z",
     "iopub.status.busy": "2025-07-28T10:54:34.856433Z",
     "iopub.status.idle": "2025-07-28T10:54:36.977672Z",
     "shell.execute_reply": "2025-07-28T10:54:36.976729Z"
    },
    "papermill": {
     "duration": 2.143662,
     "end_time": "2025-07-28T10:54:36.979605",
     "exception": false,
     "start_time": "2025-07-28T10:54:34.835943",
     "status": "completed"
    },
    "tags": []
   },
   "outputs": [],
   "source": [
    "from fairness_multiverse.universe import UniverseAnalysis\n",
    "\n",
    "universe_analysis = UniverseAnalysis(\n",
    "    run_no = run_no,\n",
    "    universe_id = universe_id,\n",
    "    universe = universe,\n",
    "    output_dir=output_dir,\n",
    ")"
   ]
  },
  {
   "cell_type": "code",
   "execution_count": 8,
   "id": "106241f5",
   "metadata": {
    "execution": {
     "iopub.execute_input": "2025-07-28T10:54:37.061379Z",
     "iopub.status.busy": "2025-07-28T10:54:37.060221Z",
     "iopub.status.idle": "2025-07-28T10:54:37.067765Z",
     "shell.execute_reply": "2025-07-28T10:54:37.066743Z"
    },
    "papermill": {
     "duration": 0.032416,
     "end_time": "2025-07-28T10:54:37.069571",
     "exception": false,
     "start_time": "2025-07-28T10:54:37.037155",
     "status": "completed"
    },
    "tags": []
   },
   "outputs": [
    {
     "name": "stdout",
     "output_type": "stream",
     "text": [
      "Using Seed: 2023\n"
     ]
    }
   ],
   "source": [
    "import numpy as np\n",
    "parsed_seed = int(seed)\n",
    "np.random.seed(parsed_seed)\n",
    "print(f\"Using Seed: {parsed_seed}\")"
   ]
  },
  {
   "cell_type": "markdown",
   "id": "e0ebdc57",
   "metadata": {
    "papermill": {
     "duration": 0.017411,
     "end_time": "2025-07-28T10:54:37.107120",
     "exception": false,
     "start_time": "2025-07-28T10:54:37.089709",
     "status": "completed"
    },
    "tags": []
   },
   "source": [
    "# Loading Data"
   ]
  },
  {
   "cell_type": "markdown",
   "id": "681925a3",
   "metadata": {
    "papermill": {
     "duration": 0.020962,
     "end_time": "2025-07-28T10:54:37.148724",
     "exception": false,
     "start_time": "2025-07-28T10:54:37.127762",
     "status": "completed"
    },
    "tags": []
   },
   "source": [
    "Load siab_train, siab_test, siab_calib and/or \n",
    "load siab_train_features, siab_train_labels"
   ]
  },
  {
   "cell_type": "code",
   "execution_count": 9,
   "id": "f0496b8a",
   "metadata": {
    "execution": {
     "iopub.execute_input": "2025-07-28T10:54:37.201974Z",
     "iopub.status.busy": "2025-07-28T10:54:37.201429Z",
     "iopub.status.idle": "2025-07-28T10:54:50.702262Z",
     "shell.execute_reply": "2025-07-28T10:54:50.701066Z"
    },
    "papermill": {
     "duration": 13.532474,
     "end_time": "2025-07-28T10:54:50.704325",
     "exception": false,
     "start_time": "2025-07-28T10:54:37.171851",
     "status": "completed"
    },
    "tags": []
   },
   "outputs": [
    {
     "name": "stdout",
     "output_type": "stream",
     "text": [
      "Loading SIAB data from cache: data/siab_cached.csv.gz\n"
     ]
    },
    {
     "name": "stdout",
     "output_type": "stream",
     "text": [
      "(643690, 164)\n"
     ]
    }
   ],
   "source": [
    "from pathlib import Path\n",
    "import pandas as pd\n",
    "\n",
    "# File paths\n",
    "raw_file = Path(\"data/raw/siab.csv\")\n",
    "cache_file = Path(\"data/siab_cached.csv.gz\")\n",
    "\n",
    "# Ensure cache directory exists\n",
    "cache_file.parent.mkdir(parents=True, exist_ok=True)\n",
    "\n",
    "# Load with simple caching\n",
    "if cache_file.exists():\n",
    "    print(f\"Loading SIAB data from cache: {cache_file}\")\n",
    "    siab = pd.read_csv(cache_file, compression='gzip')\n",
    "else:\n",
    "    print(f\"Cache not found. Reading raw SIAB data: {raw_file}\")\n",
    "    siab = pd.read_csv(raw_file)\n",
    "    siab.to_csv(cache_file, index=False, compression='gzip')\n",
    "    print(f\"Cached SIAB data to: {cache_file}\")\n",
    "\n",
    "# Now use `siab` DataFrame as needed\n",
    "print(siab.shape)"
   ]
  },
  {
   "cell_type": "code",
   "execution_count": 10,
   "id": "db0ca512-5f53-4dba-abdb-a2888bca41ba",
   "metadata": {
    "execution": {
     "iopub.execute_input": "2025-07-28T10:54:50.753898Z",
     "iopub.status.busy": "2025-07-28T10:54:50.753336Z",
     "iopub.status.idle": "2025-07-28T10:54:50.760046Z",
     "shell.execute_reply": "2025-07-28T10:54:50.758804Z"
    },
    "papermill": {
     "duration": 0.032974,
     "end_time": "2025-07-28T10:54:50.761948",
     "exception": false,
     "start_time": "2025-07-28T10:54:50.728974",
     "status": "completed"
    },
    "tags": []
   },
   "outputs": [],
   "source": [
    "#siab"
   ]
  },
  {
   "cell_type": "code",
   "execution_count": 11,
   "id": "a0edb063",
   "metadata": {
    "execution": {
     "iopub.execute_input": "2025-07-28T10:54:50.812235Z",
     "iopub.status.busy": "2025-07-28T10:54:50.811643Z",
     "iopub.status.idle": "2025-07-28T10:54:50.817030Z",
     "shell.execute_reply": "2025-07-28T10:54:50.815925Z"
    },
    "papermill": {
     "duration": 0.031177,
     "end_time": "2025-07-28T10:54:50.818835",
     "exception": false,
     "start_time": "2025-07-28T10:54:50.787658",
     "status": "completed"
    },
    "tags": []
   },
   "outputs": [],
   "source": [
    "#import pandas as pd\n",
    "#\n",
    "#X_train = pd.read_csv(\"./data/X_train.csv\")\n",
    "#y_train = pd.read_csv(\"./data/y_train.csv\")"
   ]
  },
  {
   "cell_type": "code",
   "execution_count": 12,
   "id": "63d08085",
   "metadata": {
    "execution": {
     "iopub.execute_input": "2025-07-28T10:54:50.863340Z",
     "iopub.status.busy": "2025-07-28T10:54:50.862460Z",
     "iopub.status.idle": "2025-07-28T10:54:50.868279Z",
     "shell.execute_reply": "2025-07-28T10:54:50.867121Z"
    },
    "papermill": {
     "duration": 0.029759,
     "end_time": "2025-07-28T10:54:50.870174",
     "exception": false,
     "start_time": "2025-07-28T10:54:50.840415",
     "status": "completed"
    },
    "tags": []
   },
   "outputs": [],
   "source": [
    "#X_test = pd.read_csv(\"./data/X_test.csv\")\n",
    "#y_true = pd.read_csv(\"./data/y_test.csv\")"
   ]
  },
  {
   "cell_type": "code",
   "execution_count": 13,
   "id": "98a8d0fa-1d3d-4ed8-bb2c-281470e24add",
   "metadata": {
    "execution": {
     "iopub.execute_input": "2025-07-28T10:54:50.918597Z",
     "iopub.status.busy": "2025-07-28T10:54:50.917754Z",
     "iopub.status.idle": "2025-07-28T10:54:50.923239Z",
     "shell.execute_reply": "2025-07-28T10:54:50.922109Z"
    },
    "papermill": {
     "duration": 0.031161,
     "end_time": "2025-07-28T10:54:50.925117",
     "exception": false,
     "start_time": "2025-07-28T10:54:50.893956",
     "status": "completed"
    },
    "tags": []
   },
   "outputs": [],
   "source": [
    "# Calibration data for conformal\n",
    "#X_calib = pd.read_csv(\"./data/X_calib.csv\")\n",
    "#y_calib = pd.read_csv(\"./data/y_calib.csv\")"
   ]
  },
  {
   "cell_type": "markdown",
   "id": "9901737e-04df-44f0-9100-f5ad144ed040",
   "metadata": {
    "papermill": {
     "duration": 0.022929,
     "end_time": "2025-07-28T10:54:50.971106",
     "exception": false,
     "start_time": "2025-07-28T10:54:50.948177",
     "status": "completed"
    },
    "tags": []
   },
   "source": [
    "# Splitting Data and Setting Training Data Size"
   ]
  },
  {
   "cell_type": "code",
   "execution_count": 14,
   "id": "acbc8f7d-8fc8-4e86-8c59-5dcb0f58384b",
   "metadata": {
    "execution": {
     "iopub.execute_input": "2025-07-28T10:54:51.018556Z",
     "iopub.status.busy": "2025-07-28T10:54:51.017645Z",
     "iopub.status.idle": "2025-07-28T10:54:51.026950Z",
     "shell.execute_reply": "2025-07-28T10:54:51.025684Z"
    },
    "papermill": {
     "duration": 0.035232,
     "end_time": "2025-07-28T10:54:51.028860",
     "exception": false,
     "start_time": "2025-07-28T10:54:50.993628",
     "status": "completed"
    },
    "tags": []
   },
   "outputs": [],
   "source": [
    "def sample_by_year(df, training_size, random_state=42):\n",
    "    if training_size == \"2014\":\n",
    "        return df[df[\"year\"] == 2014].reset_index(drop=True)\n",
    "    \n",
    "    size_map = {\n",
    "        \"25k\": 5000,\n",
    "        \"5k\": 1000,\n",
    "        \"1k\": 200\n",
    "    }\n",
    "\n",
    "    if training_size not in size_map:\n",
    "        return df.reset_index(drop=True)  # use all data\n",
    "\n",
    "    n_per_year = size_map[training_size]\n",
    "    grouped = df.groupby(\"year\")\n",
    "    sampled = grouped.apply(lambda x: x.sample(n=min(n_per_year, len(x)), random_state=random_state))\n",
    "    return sampled.reset_index(drop=True)"
   ]
  },
  {
   "cell_type": "code",
   "execution_count": 15,
   "id": "6d931f52-beaf-43ff-9e78-9d44a448d54e",
   "metadata": {
    "execution": {
     "iopub.execute_input": "2025-07-28T10:54:51.076360Z",
     "iopub.status.busy": "2025-07-28T10:54:51.075826Z",
     "iopub.status.idle": "2025-07-28T10:54:51.253820Z",
     "shell.execute_reply": "2025-07-28T10:54:51.252808Z"
    },
    "papermill": {
     "duration": 0.204229,
     "end_time": "2025-07-28T10:54:51.255853",
     "exception": false,
     "start_time": "2025-07-28T10:54:51.051624",
     "status": "completed"
    },
    "tags": []
   },
   "outputs": [],
   "source": [
    "siab_s = sample_by_year(siab, universe[\"training_size\"])"
   ]
  },
  {
   "cell_type": "code",
   "execution_count": 16,
   "id": "5db0a40e-a4e2-4920-be85-b12ae061d70d",
   "metadata": {
    "execution": {
     "iopub.execute_input": "2025-07-28T10:54:51.299222Z",
     "iopub.status.busy": "2025-07-28T10:54:51.298537Z",
     "iopub.status.idle": "2025-07-28T10:54:51.315939Z",
     "shell.execute_reply": "2025-07-28T10:54:51.314655Z"
    },
    "papermill": {
     "duration": 0.041667,
     "end_time": "2025-07-28T10:54:51.317831",
     "exception": false,
     "start_time": "2025-07-28T10:54:51.276164",
     "status": "completed"
    },
    "tags": []
   },
   "outputs": [
    {
     "data": {
      "text/plain": [
       "year\n",
       "2014    87158\n",
       "dtype: int64"
      ]
     },
     "metadata": {},
     "output_type": "display_data"
    }
   ],
   "source": [
    "display(siab_s.groupby(\"year\").size())"
   ]
  },
  {
   "cell_type": "code",
   "execution_count": 17,
   "id": "a561edb4-d032-42cb-8256-22eac1111c64",
   "metadata": {
    "execution": {
     "iopub.execute_input": "2025-07-28T10:54:51.362894Z",
     "iopub.status.busy": "2025-07-28T10:54:51.362129Z",
     "iopub.status.idle": "2025-07-28T10:54:51.671484Z",
     "shell.execute_reply": "2025-07-28T10:54:51.670415Z"
    },
    "papermill": {
     "duration": 0.334207,
     "end_time": "2025-07-28T10:54:51.673733",
     "exception": false,
     "start_time": "2025-07-28T10:54:51.339526",
     "status": "completed"
    },
    "tags": []
   },
   "outputs": [],
   "source": [
    "siab_train = siab_s[siab_s.year < 2015]\n",
    "siab_calib = siab[siab.year == 2015]\n",
    "siab_test = siab[siab.year == 2016]"
   ]
  },
  {
   "cell_type": "code",
   "execution_count": 18,
   "id": "472de16f-c3db-4916-846b-1f0de9cf1746",
   "metadata": {
    "execution": {
     "iopub.execute_input": "2025-07-28T10:54:51.719936Z",
     "iopub.status.busy": "2025-07-28T10:54:51.719045Z",
     "iopub.status.idle": "2025-07-28T10:54:51.776116Z",
     "shell.execute_reply": "2025-07-28T10:54:51.774912Z"
    },
    "papermill": {
     "duration": 0.082237,
     "end_time": "2025-07-28T10:54:51.777972",
     "exception": false,
     "start_time": "2025-07-28T10:54:51.695735",
     "status": "completed"
    },
    "tags": []
   },
   "outputs": [],
   "source": [
    "X_train = siab_train.iloc[:,4:164]\n",
    "y_train = siab_train.iloc[:, [3]]"
   ]
  },
  {
   "cell_type": "code",
   "execution_count": 19,
   "id": "828c96af-f43a-4ed6-ba47-8ac73a47d56c",
   "metadata": {
    "execution": {
     "iopub.execute_input": "2025-07-28T10:54:51.823494Z",
     "iopub.status.busy": "2025-07-28T10:54:51.822715Z",
     "iopub.status.idle": "2025-07-28T10:54:51.878727Z",
     "shell.execute_reply": "2025-07-28T10:54:51.877580Z"
    },
    "papermill": {
     "duration": 0.081464,
     "end_time": "2025-07-28T10:54:51.880694",
     "exception": false,
     "start_time": "2025-07-28T10:54:51.799230",
     "status": "completed"
    },
    "tags": []
   },
   "outputs": [],
   "source": [
    "X_calib = siab_calib.iloc[:,4:164]\n",
    "y_calib = siab_calib.iloc[:, [3]]"
   ]
  },
  {
   "cell_type": "code",
   "execution_count": 20,
   "id": "c34be9c3-6bd6-476e-acd3-845840e303be",
   "metadata": {
    "execution": {
     "iopub.execute_input": "2025-07-28T10:54:51.929759Z",
     "iopub.status.busy": "2025-07-28T10:54:51.929311Z",
     "iopub.status.idle": "2025-07-28T10:54:51.986838Z",
     "shell.execute_reply": "2025-07-28T10:54:51.985767Z"
    },
    "papermill": {
     "duration": 0.084666,
     "end_time": "2025-07-28T10:54:51.989053",
     "exception": false,
     "start_time": "2025-07-28T10:54:51.904387",
     "status": "completed"
    },
    "tags": []
   },
   "outputs": [],
   "source": [
    "X_test = siab_test.iloc[:,4:164]\n",
    "y_true = siab_test.iloc[:, [3]]"
   ]
  },
  {
   "cell_type": "code",
   "execution_count": 21,
   "id": "e6c733c5",
   "metadata": {
    "execution": {
     "iopub.execute_input": "2025-07-28T10:54:52.035024Z",
     "iopub.status.busy": "2025-07-28T10:54:52.034243Z",
     "iopub.status.idle": "2025-07-28T10:54:52.177745Z",
     "shell.execute_reply": "2025-07-28T10:54:52.176767Z"
    },
    "papermill": {
     "duration": 0.169148,
     "end_time": "2025-07-28T10:54:52.179647",
     "exception": false,
     "start_time": "2025-07-28T10:54:52.010499",
     "status": "completed"
    },
    "tags": []
   },
   "outputs": [],
   "source": [
    "# Auxiliary data needed downstream in the pipeline\n",
    "\n",
    "org_train = X_train.copy()\n",
    "org_test = X_test.copy()\n",
    "org_calib = X_calib.copy()"
   ]
  },
  {
   "cell_type": "markdown",
   "id": "0a4a1b33",
   "metadata": {
    "papermill": {
     "duration": 0.022244,
     "end_time": "2025-07-28T10:54:52.231682",
     "exception": false,
     "start_time": "2025-07-28T10:54:52.209438",
     "status": "completed"
    },
    "tags": []
   },
   "source": [
    "# Preprocessing Data"
   ]
  },
  {
   "cell_type": "code",
   "execution_count": 22,
   "id": "ca879031",
   "metadata": {
    "execution": {
     "iopub.execute_input": "2025-07-28T10:54:52.277164Z",
     "iopub.status.busy": "2025-07-28T10:54:52.276626Z",
     "iopub.status.idle": "2025-07-28T10:54:52.283411Z",
     "shell.execute_reply": "2025-07-28T10:54:52.282405Z"
    },
    "papermill": {
     "duration": 0.031703,
     "end_time": "2025-07-28T10:54:52.285219",
     "exception": false,
     "start_time": "2025-07-28T10:54:52.253516",
     "status": "completed"
    },
    "tags": []
   },
   "outputs": [],
   "source": [
    "# EXCLUDE PROTECTED FEATURES\n",
    "# ----------------------\n",
    "# \"exclude_features\": \"none\", # \"nationality\", \"sex\", \"nationality-sex\"\n",
    "\n",
    "excluded_features = universe[\"exclude_features\"].split(\"-\") # split, e.g.: \"nationality-sex\" -> [\"nationality\", \"sex\"]\n",
    "excluded_features_dictionary = {\n",
    "    \"nationality\": [\"maxdeutsch1\", \"maxdeutsch.Missing.\"],\n",
    "    \"sex\": [\"frau1\"],\n",
    "    \"age\": [\"age\"],\n",
    "}\n"
   ]
  },
  {
   "cell_type": "code",
   "execution_count": 23,
   "id": "b745ac60",
   "metadata": {
    "execution": {
     "iopub.execute_input": "2025-07-28T10:54:52.331838Z",
     "iopub.status.busy": "2025-07-28T10:54:52.331157Z",
     "iopub.status.idle": "2025-07-28T10:54:52.337628Z",
     "shell.execute_reply": "2025-07-28T10:54:52.336582Z"
    },
    "papermill": {
     "duration": 0.031707,
     "end_time": "2025-07-28T10:54:52.339352",
     "exception": false,
     "start_time": "2025-07-28T10:54:52.307645",
     "status": "completed"
    },
    "tags": []
   },
   "outputs": [],
   "source": [
    "# Code nice names to column names\n",
    "\n",
    "excluded_features_columns = [\n",
    "    excluded_features_dictionary[f] for f in excluded_features if len(f) > 0 and f != \"none\"\n",
    "]"
   ]
  },
  {
   "cell_type": "code",
   "execution_count": 24,
   "id": "f84f73a2",
   "metadata": {
    "execution": {
     "iopub.execute_input": "2025-07-28T10:54:52.385869Z",
     "iopub.status.busy": "2025-07-28T10:54:52.385354Z",
     "iopub.status.idle": "2025-07-28T10:54:52.392334Z",
     "shell.execute_reply": "2025-07-28T10:54:52.391312Z"
    },
    "papermill": {
     "duration": 0.033011,
     "end_time": "2025-07-28T10:54:52.394080",
     "exception": false,
     "start_time": "2025-07-28T10:54:52.361069",
     "status": "completed"
    },
    "tags": []
   },
   "outputs": [],
   "source": [
    "from utils import flatten_once\n",
    "\n",
    "excluded_features_columns = flatten_once(excluded_features_columns)"
   ]
  },
  {
   "cell_type": "code",
   "execution_count": 25,
   "id": "884dea22",
   "metadata": {
    "execution": {
     "iopub.execute_input": "2025-07-28T10:54:52.440645Z",
     "iopub.status.busy": "2025-07-28T10:54:52.439608Z",
     "iopub.status.idle": "2025-07-28T10:54:52.499546Z",
     "shell.execute_reply": "2025-07-28T10:54:52.498225Z"
    },
    "papermill": {
     "duration": 0.085651,
     "end_time": "2025-07-28T10:54:52.501475",
     "exception": false,
     "start_time": "2025-07-28T10:54:52.415824",
     "status": "completed"
    },
    "tags": []
   },
   "outputs": [
    {
     "name": "stdout",
     "output_type": "stream",
     "text": [
      "Dropping features: ['frau1']\n"
     ]
    }
   ],
   "source": [
    "if len(excluded_features_columns) > 0:\n",
    "    print(f\"Dropping features: {excluded_features_columns}\")\n",
    "    X_train.drop(excluded_features_columns, axis=1, inplace=True)"
   ]
  },
  {
   "cell_type": "code",
   "execution_count": 26,
   "id": "95ab8b16",
   "metadata": {
    "execution": {
     "iopub.execute_input": "2025-07-28T10:54:52.548928Z",
     "iopub.status.busy": "2025-07-28T10:54:52.547927Z",
     "iopub.status.idle": "2025-07-28T10:54:52.606984Z",
     "shell.execute_reply": "2025-07-28T10:54:52.605989Z"
    },
    "papermill": {
     "duration": 0.084291,
     "end_time": "2025-07-28T10:54:52.608740",
     "exception": false,
     "start_time": "2025-07-28T10:54:52.524449",
     "status": "completed"
    },
    "tags": []
   },
   "outputs": [
    {
     "name": "stdout",
     "output_type": "stream",
     "text": [
      "Dropping features: ['frau1']\n"
     ]
    }
   ],
   "source": [
    "if len(excluded_features_columns) > 0:\n",
    "    print(f\"Dropping features: {excluded_features_columns}\")\n",
    "    X_test.drop(excluded_features_columns, axis=1, inplace=True)"
   ]
  },
  {
   "cell_type": "code",
   "execution_count": 27,
   "id": "1853aaf5-fb9f-46cb-a2b5-8ea4ae2237e4",
   "metadata": {
    "execution": {
     "iopub.execute_input": "2025-07-28T10:54:52.657443Z",
     "iopub.status.busy": "2025-07-28T10:54:52.657057Z",
     "iopub.status.idle": "2025-07-28T10:54:52.710611Z",
     "shell.execute_reply": "2025-07-28T10:54:52.709492Z"
    },
    "papermill": {
     "duration": 0.079693,
     "end_time": "2025-07-28T10:54:52.712540",
     "exception": false,
     "start_time": "2025-07-28T10:54:52.632847",
     "status": "completed"
    },
    "tags": []
   },
   "outputs": [
    {
     "name": "stdout",
     "output_type": "stream",
     "text": [
      "Dropping features: ['frau1']\n"
     ]
    }
   ],
   "source": [
    "if len(excluded_features_columns) > 0:\n",
    "    print(f\"Dropping features: {excluded_features_columns}\")\n",
    "    X_calib.drop(excluded_features_columns, axis=1, inplace=True)"
   ]
  },
  {
   "cell_type": "code",
   "execution_count": 28,
   "id": "6727d079-03e5-481e-9d38-292a90b7a0a8",
   "metadata": {
    "execution": {
     "iopub.execute_input": "2025-07-28T10:54:52.760641Z",
     "iopub.status.busy": "2025-07-28T10:54:52.760113Z",
     "iopub.status.idle": "2025-07-28T10:54:52.765402Z",
     "shell.execute_reply": "2025-07-28T10:54:52.764346Z"
    },
    "papermill": {
     "duration": 0.030668,
     "end_time": "2025-07-28T10:54:52.767115",
     "exception": false,
     "start_time": "2025-07-28T10:54:52.736447",
     "status": "completed"
    },
    "tags": []
   },
   "outputs": [],
   "source": [
    "# SPLIT & STRATIFY DATA\n",
    "# ----------------------"
   ]
  },
  {
   "cell_type": "code",
   "execution_count": 29,
   "id": "76c4dc6d",
   "metadata": {
    "execution": {
     "iopub.execute_input": "2025-07-28T10:54:52.817963Z",
     "iopub.status.busy": "2025-07-28T10:54:52.817415Z",
     "iopub.status.idle": "2025-07-28T10:54:52.823603Z",
     "shell.execute_reply": "2025-07-28T10:54:52.822457Z"
    },
    "papermill": {
     "duration": 0.032718,
     "end_time": "2025-07-28T10:54:52.825729",
     "exception": false,
     "start_time": "2025-07-28T10:54:52.793011",
     "status": "completed"
    },
    "tags": []
   },
   "outputs": [],
   "source": [
    "# EXCLUDE CERTAIN SUBGROUPS\n",
    "# ----------------------\n",
    "\n",
    "mode = universe.get(\"exclude_subgroups\", \"keep-all\") \n",
    "# Fetches the exclude_subgroups setting from the universe dict.\n",
    "# Defaults to \"keep-all\" if the key is missing."
   ]
  },
  {
   "cell_type": "code",
   "execution_count": 30,
   "id": "21994072",
   "metadata": {
    "execution": {
     "iopub.execute_input": "2025-07-28T10:54:52.871148Z",
     "iopub.status.busy": "2025-07-28T10:54:52.870494Z",
     "iopub.status.idle": "2025-07-28T10:54:52.881957Z",
     "shell.execute_reply": "2025-07-28T10:54:52.881000Z"
    },
    "papermill": {
     "duration": 0.034709,
     "end_time": "2025-07-28T10:54:52.883407",
     "exception": false,
     "start_time": "2025-07-28T10:54:52.848698",
     "status": "completed"
    },
    "tags": []
   },
   "outputs": [],
   "source": [
    "if mode == \"keep-all\":\n",
    "    keep_mask = pd.Series(True, index=org_train.index)\n",
    "\n",
    "# org_train contains the original feature columns from features_org (in Simson)\n",
    "# features_org contains unprocessed features, for me X_train at beginning ???\n",
    "# For keep-all, creates a boolean Series (keep_mask) of all True, so no rows are removed.\n",
    "\n",
    "elif mode == \"drop-non-german\":\n",
    "    keep_mask = org_train[\"maxdeutsch1\"] == 1 # ??? what about missing values?\n",
    "\n",
    "else:\n",
    "    raise ValueError(f\"Unsupported mode for exclude_subgroups: {mode}\")\n"
   ]
  },
  {
   "cell_type": "code",
   "execution_count": 31,
   "id": "71651440",
   "metadata": {
    "execution": {
     "iopub.execute_input": "2025-07-28T10:54:52.929824Z",
     "iopub.status.busy": "2025-07-28T10:54:52.929351Z",
     "iopub.status.idle": "2025-07-28T10:54:52.936691Z",
     "shell.execute_reply": "2025-07-28T10:54:52.935415Z"
    },
    "papermill": {
     "duration": 0.032752,
     "end_time": "2025-07-28T10:54:52.938689",
     "exception": false,
     "start_time": "2025-07-28T10:54:52.905937",
     "status": "completed"
    },
    "tags": []
   },
   "outputs": [],
   "source": [
    "n_drop = (~keep_mask).sum() # Calculates how many rows are set to be dropped\n",
    "if n_drop > 0:\n",
    "    pct = n_drop / len(keep_mask) * 100\n",
    "    print(f\"Dropping {n_drop} rows ({pct:.2f}%) where mode='{mode}'\")"
   ]
  },
  {
   "cell_type": "code",
   "execution_count": 32,
   "id": "5fb8eee5",
   "metadata": {
    "execution": {
     "iopub.execute_input": "2025-07-28T10:54:52.986648Z",
     "iopub.status.busy": "2025-07-28T10:54:52.986105Z",
     "iopub.status.idle": "2025-07-28T10:54:53.024996Z",
     "shell.execute_reply": "2025-07-28T10:54:53.023921Z"
    },
    "papermill": {
     "duration": 0.06578,
     "end_time": "2025-07-28T10:54:53.027039",
     "exception": false,
     "start_time": "2025-07-28T10:54:52.961259",
     "status": "completed"
    },
    "tags": []
   },
   "outputs": [],
   "source": [
    "X_train = X_train[keep_mask]"
   ]
  },
  {
   "cell_type": "code",
   "execution_count": 33,
   "id": "b202bb3a",
   "metadata": {
    "execution": {
     "iopub.execute_input": "2025-07-28T10:54:53.072924Z",
     "iopub.status.busy": "2025-07-28T10:54:53.071904Z",
     "iopub.status.idle": "2025-07-28T10:54:53.080428Z",
     "shell.execute_reply": "2025-07-28T10:54:53.079433Z"
    },
    "papermill": {
     "duration": 0.032372,
     "end_time": "2025-07-28T10:54:53.082289",
     "exception": false,
     "start_time": "2025-07-28T10:54:53.049917",
     "status": "completed"
    },
    "tags": []
   },
   "outputs": [],
   "source": [
    "y_train = y_train[keep_mask]"
   ]
  },
  {
   "cell_type": "markdown",
   "id": "493e2ac3",
   "metadata": {
    "papermill": {
     "duration": 0.021232,
     "end_time": "2025-07-28T10:54:53.124735",
     "exception": false,
     "start_time": "2025-07-28T10:54:53.103503",
     "status": "completed"
    },
    "tags": []
   },
   "source": [
    "# Model Training"
   ]
  },
  {
   "cell_type": "code",
   "execution_count": 34,
   "id": "679e1268",
   "metadata": {
    "execution": {
     "iopub.execute_input": "2025-07-28T10:54:53.170390Z",
     "iopub.status.busy": "2025-07-28T10:54:53.169346Z",
     "iopub.status.idle": "2025-07-28T10:54:53.277130Z",
     "shell.execute_reply": "2025-07-28T10:54:53.276136Z"
    },
    "papermill": {
     "duration": 0.132128,
     "end_time": "2025-07-28T10:54:53.279267",
     "exception": false,
     "start_time": "2025-07-28T10:54:53.147139",
     "status": "completed"
    },
    "tags": []
   },
   "outputs": [],
   "source": [
    "from sklearn.linear_model import LogisticRegression\n",
    "from sklearn.ensemble import GradientBoostingClassifier, RandomForestClassifier\n",
    "\n",
    "if (universe[\"model\"] == \"logreg\"):\n",
    "    model = LogisticRegression() #penalty=\"none\") #, solver=\"newton-cg\", max_iter=1) # include random_state=19 ?\n",
    "elif (universe[\"model\"] == \"penalized_logreg\"):\n",
    "    model = LogisticRegression(penalty=\"l2\", C=1.0) #, solver=\"newton-cg\", max_iter=1)\n",
    "elif (universe[\"model\"] == \"rf\"):\n",
    "    model = RandomForestClassifier(n_estimators=100, n_jobs=-1)\n",
    "elif (universe[\"model\"] == \"gbm\"):\n",
    "    model = GradientBoostingClassifier()\n",
    "elif (universe[\"model\"] == \"elasticnet\"):\n",
    "    model = LogisticRegression(penalty = 'elasticnet', solver = 'saga', l1_ratio = 0.5, max_iter=5000) # which solver to use?\n",
    "else:\n",
    "    raise \"Unsupported universe.model\""
   ]
  },
  {
   "cell_type": "code",
   "execution_count": 35,
   "id": "0cc8f744",
   "metadata": {
    "execution": {
     "iopub.execute_input": "2025-07-28T10:54:53.315198Z",
     "iopub.status.busy": "2025-07-28T10:54:53.314633Z",
     "iopub.status.idle": "2025-07-28T10:54:53.320432Z",
     "shell.execute_reply": "2025-07-28T10:54:53.319744Z"
    },
    "papermill": {
     "duration": 0.020247,
     "end_time": "2025-07-28T10:54:53.321940",
     "exception": false,
     "start_time": "2025-07-28T10:54:53.301693",
     "status": "completed"
    },
    "tags": []
   },
   "outputs": [],
   "source": [
    "import numpy as np\n",
    "from sklearn.pipeline import Pipeline\n",
    "from sklearn.preprocessing import StandardScaler\n",
    "\n",
    "model = Pipeline([\n",
    "    #(\"continuous_processor\", continuous_processor),\n",
    "    #(\"categorical_preprocessor\", categorical_preprocessor),\n",
    "    (\"scale\", StandardScaler() if universe[\"scale\"] == \"scale\" else None), \n",
    "    (\"model\", model),\n",
    "])"
   ]
  },
  {
   "cell_type": "code",
   "execution_count": 36,
   "id": "9442c04d",
   "metadata": {
    "execution": {
     "iopub.execute_input": "2025-07-28T10:54:53.367294Z",
     "iopub.status.busy": "2025-07-28T10:54:53.366271Z",
     "iopub.status.idle": "2025-07-28T10:54:57.513601Z",
     "shell.execute_reply": "2025-07-28T10:54:57.512821Z"
    },
    "papermill": {
     "duration": 4.171477,
     "end_time": "2025-07-28T10:54:57.514888",
     "exception": false,
     "start_time": "2025-07-28T10:54:53.343411",
     "status": "completed"
    },
    "tags": []
   },
   "outputs": [
    {
     "name": "stderr",
     "output_type": "stream",
     "text": [
      "/dss/dsshome1/0C/ra93lal2/.local/share/virtualenvs/CMA_Fairness_v2-3j10GkSs/lib/python3.10/site-packages/sklearn/linear_model/_logistic.py:444: ConvergenceWarning: lbfgs failed to converge (status=1):\n",
      "STOP: TOTAL NO. of ITERATIONS REACHED LIMIT.\n",
      "\n",
      "Increase the number of iterations (max_iter) or scale the data as shown in:\n",
      "    https://scikit-learn.org/stable/modules/preprocessing.html\n",
      "Please also refer to the documentation for alternative solver options:\n",
      "    https://scikit-learn.org/stable/modules/linear_model.html#logistic-regression\n",
      "  n_iter_i = _check_optimize_result(\n"
     ]
    },
    {
     "data": {
      "text/html": [
       "<style>#sk-container-id-1 {color: black;background-color: white;}#sk-container-id-1 pre{padding: 0;}#sk-container-id-1 div.sk-toggleable {background-color: white;}#sk-container-id-1 label.sk-toggleable__label {cursor: pointer;display: block;width: 100%;margin-bottom: 0;padding: 0.3em;box-sizing: border-box;text-align: center;}#sk-container-id-1 label.sk-toggleable__label-arrow:before {content: \"▸\";float: left;margin-right: 0.25em;color: #696969;}#sk-container-id-1 label.sk-toggleable__label-arrow:hover:before {color: black;}#sk-container-id-1 div.sk-estimator:hover label.sk-toggleable__label-arrow:before {color: black;}#sk-container-id-1 div.sk-toggleable__content {max-height: 0;max-width: 0;overflow: hidden;text-align: left;background-color: #f0f8ff;}#sk-container-id-1 div.sk-toggleable__content pre {margin: 0.2em;color: black;border-radius: 0.25em;background-color: #f0f8ff;}#sk-container-id-1 input.sk-toggleable__control:checked~div.sk-toggleable__content {max-height: 200px;max-width: 100%;overflow: auto;}#sk-container-id-1 input.sk-toggleable__control:checked~label.sk-toggleable__label-arrow:before {content: \"▾\";}#sk-container-id-1 div.sk-estimator input.sk-toggleable__control:checked~label.sk-toggleable__label {background-color: #d4ebff;}#sk-container-id-1 div.sk-label input.sk-toggleable__control:checked~label.sk-toggleable__label {background-color: #d4ebff;}#sk-container-id-1 input.sk-hidden--visually {border: 0;clip: rect(1px 1px 1px 1px);clip: rect(1px, 1px, 1px, 1px);height: 1px;margin: -1px;overflow: hidden;padding: 0;position: absolute;width: 1px;}#sk-container-id-1 div.sk-estimator {font-family: monospace;background-color: #f0f8ff;border: 1px dotted black;border-radius: 0.25em;box-sizing: border-box;margin-bottom: 0.5em;}#sk-container-id-1 div.sk-estimator:hover {background-color: #d4ebff;}#sk-container-id-1 div.sk-parallel-item::after {content: \"\";width: 100%;border-bottom: 1px solid gray;flex-grow: 1;}#sk-container-id-1 div.sk-label:hover label.sk-toggleable__label {background-color: #d4ebff;}#sk-container-id-1 div.sk-serial::before {content: \"\";position: absolute;border-left: 1px solid gray;box-sizing: border-box;top: 0;bottom: 0;left: 50%;z-index: 0;}#sk-container-id-1 div.sk-serial {display: flex;flex-direction: column;align-items: center;background-color: white;padding-right: 0.2em;padding-left: 0.2em;position: relative;}#sk-container-id-1 div.sk-item {position: relative;z-index: 1;}#sk-container-id-1 div.sk-parallel {display: flex;align-items: stretch;justify-content: center;background-color: white;position: relative;}#sk-container-id-1 div.sk-item::before, #sk-container-id-1 div.sk-parallel-item::before {content: \"\";position: absolute;border-left: 1px solid gray;box-sizing: border-box;top: 0;bottom: 0;left: 50%;z-index: -1;}#sk-container-id-1 div.sk-parallel-item {display: flex;flex-direction: column;z-index: 1;position: relative;background-color: white;}#sk-container-id-1 div.sk-parallel-item:first-child::after {align-self: flex-end;width: 50%;}#sk-container-id-1 div.sk-parallel-item:last-child::after {align-self: flex-start;width: 50%;}#sk-container-id-1 div.sk-parallel-item:only-child::after {width: 0;}#sk-container-id-1 div.sk-dashed-wrapped {border: 1px dashed gray;margin: 0 0.4em 0.5em 0.4em;box-sizing: border-box;padding-bottom: 0.4em;background-color: white;}#sk-container-id-1 div.sk-label label {font-family: monospace;font-weight: bold;display: inline-block;line-height: 1.2em;}#sk-container-id-1 div.sk-label-container {text-align: center;}#sk-container-id-1 div.sk-container {/* jupyter's `normalize.less` sets `[hidden] { display: none; }` but bootstrap.min.css set `[hidden] { display: none !important; }` so we also need the `!important` here to be able to override the default hidden behavior on the sphinx rendered scikit-learn.org. See: https://github.com/scikit-learn/scikit-learn/issues/21755 */display: inline-block !important;position: relative;}#sk-container-id-1 div.sk-text-repr-fallback {display: none;}</style><div id=\"sk-container-id-1\" class=\"sk-top-container\"><div class=\"sk-text-repr-fallback\"><pre>Pipeline(steps=[(&#x27;scale&#x27;, StandardScaler()), (&#x27;model&#x27;, LogisticRegression())])</pre><b>In a Jupyter environment, please rerun this cell to show the HTML representation or trust the notebook. <br />On GitHub, the HTML representation is unable to render, please try loading this page with nbviewer.org.</b></div><div class=\"sk-container\" hidden><div class=\"sk-item sk-dashed-wrapped\"><div class=\"sk-label-container\"><div class=\"sk-label sk-toggleable\"><input class=\"sk-toggleable__control sk-hidden--visually\" id=\"sk-estimator-id-1\" type=\"checkbox\" ><label for=\"sk-estimator-id-1\" class=\"sk-toggleable__label sk-toggleable__label-arrow\">Pipeline</label><div class=\"sk-toggleable__content\"><pre>Pipeline(steps=[(&#x27;scale&#x27;, StandardScaler()), (&#x27;model&#x27;, LogisticRegression())])</pre></div></div></div><div class=\"sk-serial\"><div class=\"sk-item\"><div class=\"sk-estimator sk-toggleable\"><input class=\"sk-toggleable__control sk-hidden--visually\" id=\"sk-estimator-id-2\" type=\"checkbox\" ><label for=\"sk-estimator-id-2\" class=\"sk-toggleable__label sk-toggleable__label-arrow\">StandardScaler</label><div class=\"sk-toggleable__content\"><pre>StandardScaler()</pre></div></div></div><div class=\"sk-item\"><div class=\"sk-estimator sk-toggleable\"><input class=\"sk-toggleable__control sk-hidden--visually\" id=\"sk-estimator-id-3\" type=\"checkbox\" ><label for=\"sk-estimator-id-3\" class=\"sk-toggleable__label sk-toggleable__label-arrow\">LogisticRegression</label><div class=\"sk-toggleable__content\"><pre>LogisticRegression()</pre></div></div></div></div></div></div></div>"
      ],
      "text/plain": [
       "Pipeline(steps=[('scale', StandardScaler()), ('model', LogisticRegression())])"
      ]
     },
     "execution_count": 36,
     "metadata": {},
     "output_type": "execute_result"
    }
   ],
   "source": [
    "model.fit(X_train, y_train.values.ravel())"
   ]
  },
  {
   "cell_type": "code",
   "execution_count": 37,
   "id": "af59f8c0",
   "metadata": {
    "execution": {
     "iopub.execute_input": "2025-07-28T10:54:57.545905Z",
     "iopub.status.busy": "2025-07-28T10:54:57.545365Z",
     "iopub.status.idle": "2025-07-28T10:54:57.550782Z",
     "shell.execute_reply": "2025-07-28T10:54:57.549675Z"
    },
    "papermill": {
     "duration": 0.021938,
     "end_time": "2025-07-28T10:54:57.552137",
     "exception": false,
     "start_time": "2025-07-28T10:54:57.530199",
     "status": "completed"
    },
    "tags": []
   },
   "outputs": [],
   "source": [
    "from fairness_multiverse.universe import predict_w_threshold"
   ]
  },
  {
   "cell_type": "code",
   "execution_count": 38,
   "id": "a7cf2e16",
   "metadata": {
    "execution": {
     "iopub.execute_input": "2025-07-28T10:54:57.577904Z",
     "iopub.status.busy": "2025-07-28T10:54:57.577320Z",
     "iopub.status.idle": "2025-07-28T10:54:57.781658Z",
     "shell.execute_reply": "2025-07-28T10:54:57.780944Z"
    },
    "papermill": {
     "duration": 0.218071,
     "end_time": "2025-07-28T10:54:57.782960",
     "exception": false,
     "start_time": "2025-07-28T10:54:57.564889",
     "status": "completed"
    },
    "tags": []
   },
   "outputs": [
    {
     "data": {
      "text/plain": [
       "0.8667372645190057"
      ]
     },
     "execution_count": 38,
     "metadata": {},
     "output_type": "execute_result"
    }
   ],
   "source": [
    "probs_test = model.predict_proba(X_test)\n",
    "\n",
    "'''\n",
    "Below code returns a boolean array (or binary 0/1 array depending on how it’s used) where each element \n",
    "is True if the probability of class 1 is greater than or equal to the threshold, and False otherwise.\n",
    "'''\n",
    "y_pred_default = predict_w_threshold(probs_test, 0.5)\n",
    "\n",
    "from sklearn.metrics import accuracy_score\n",
    "\n",
    "# Naive prediction\n",
    "accuracy_score(y_true = y_true, y_pred = y_pred_default)"
   ]
  },
  {
   "cell_type": "code",
   "execution_count": 39,
   "id": "081964c3",
   "metadata": {
    "execution": {
     "iopub.execute_input": "2025-07-28T10:54:57.808692Z",
     "iopub.status.busy": "2025-07-28T10:54:57.807929Z",
     "iopub.status.idle": "2025-07-28T10:54:57.993167Z",
     "shell.execute_reply": "2025-07-28T10:54:57.992407Z"
    },
    "papermill": {
     "duration": 0.199076,
     "end_time": "2025-07-28T10:54:57.994510",
     "exception": false,
     "start_time": "2025-07-28T10:54:57.795434",
     "status": "completed"
    },
    "tags": []
   },
   "outputs": [
    {
     "data": {
      "text/plain": [
       "array([0, 0, 0, ..., 0, 0, 0])"
      ]
     },
     "execution_count": 39,
     "metadata": {},
     "output_type": "execute_result"
    }
   ],
   "source": [
    "model.predict(X_test)"
   ]
  },
  {
   "cell_type": "markdown",
   "id": "56c9705b",
   "metadata": {
    "papermill": {
     "duration": 0.011556,
     "end_time": "2025-07-28T10:54:58.018520",
     "exception": false,
     "start_time": "2025-07-28T10:54:58.006964",
     "status": "completed"
    },
    "tags": []
   },
   "source": [
    "# Conformal Prediction"
   ]
  },
  {
   "cell_type": "code",
   "execution_count": 40,
   "id": "160ec6ff",
   "metadata": {
    "execution": {
     "iopub.execute_input": "2025-07-28T10:54:58.047745Z",
     "iopub.status.busy": "2025-07-28T10:54:58.047248Z",
     "iopub.status.idle": "2025-07-28T10:54:58.051585Z",
     "shell.execute_reply": "2025-07-28T10:54:58.050594Z"
    },
    "papermill": {
     "duration": 0.023099,
     "end_time": "2025-07-28T10:54:58.053365",
     "exception": false,
     "start_time": "2025-07-28T10:54:58.030266",
     "status": "completed"
    },
    "tags": []
   },
   "outputs": [],
   "source": [
    "# Miscoverage level for conformal prediction (10% allowed error rate => 90% target coverage)\n",
    "alpha = 0.1"
   ]
  },
  {
   "cell_type": "code",
   "execution_count": 41,
   "id": "eadf4555-3dd3-440e-8e35-f82a4ad9f855",
   "metadata": {
    "execution": {
     "iopub.execute_input": "2025-07-28T10:54:58.078804Z",
     "iopub.status.busy": "2025-07-28T10:54:58.078425Z",
     "iopub.status.idle": "2025-07-28T10:54:58.326478Z",
     "shell.execute_reply": "2025-07-28T10:54:58.325388Z"
    },
    "papermill": {
     "duration": 0.262971,
     "end_time": "2025-07-28T10:54:58.328544",
     "exception": false,
     "start_time": "2025-07-28T10:54:58.065573",
     "status": "completed"
    },
    "tags": []
   },
   "outputs": [],
   "source": [
    "probs_calib = model.predict_proba(X_calib)"
   ]
  },
  {
   "cell_type": "code",
   "execution_count": 42,
   "id": "2ed93547-6d5d-4983-9b36-1ecb300da49a",
   "metadata": {
    "execution": {
     "iopub.execute_input": "2025-07-28T10:54:58.392601Z",
     "iopub.status.busy": "2025-07-28T10:54:58.391994Z",
     "iopub.status.idle": "2025-07-28T10:54:58.398659Z",
     "shell.execute_reply": "2025-07-28T10:54:58.397512Z"
    },
    "papermill": {
     "duration": 0.044717,
     "end_time": "2025-07-28T10:54:58.403167",
     "exception": false,
     "start_time": "2025-07-28T10:54:58.358450",
     "status": "completed"
    },
    "tags": []
   },
   "outputs": [],
   "source": [
    "y_calib = y_calib.values.ravel().astype(int)"
   ]
  },
  {
   "cell_type": "code",
   "execution_count": 43,
   "id": "65d1320d-f588-4b38-9072-62af1ae97f7d",
   "metadata": {
    "execution": {
     "iopub.execute_input": "2025-07-28T10:54:58.470491Z",
     "iopub.status.busy": "2025-07-28T10:54:58.469791Z",
     "iopub.status.idle": "2025-07-28T10:54:58.478252Z",
     "shell.execute_reply": "2025-07-28T10:54:58.477221Z"
    },
    "papermill": {
     "duration": 0.044806,
     "end_time": "2025-07-28T10:54:58.480160",
     "exception": false,
     "start_time": "2025-07-28T10:54:58.435354",
     "status": "completed"
    },
    "tags": []
   },
   "outputs": [],
   "source": [
    "from fairness_multiverse.conformal import compute_nc_scores\n",
    "\n",
    "# Compute nonconformity scores on calibration set (1 - probability of true class)\n",
    "nc_scores = compute_nc_scores(probs_calib, y_calib)"
   ]
  },
  {
   "cell_type": "code",
   "execution_count": 44,
   "id": "df3b8ca3-53b7-43d5-9667-7c85da7aeda2",
   "metadata": {
    "execution": {
     "iopub.execute_input": "2025-07-28T10:54:58.528162Z",
     "iopub.status.busy": "2025-07-28T10:54:58.527778Z",
     "iopub.status.idle": "2025-07-28T10:54:58.534536Z",
     "shell.execute_reply": "2025-07-28T10:54:58.533460Z"
    },
    "papermill": {
     "duration": 0.033531,
     "end_time": "2025-07-28T10:54:58.537272",
     "exception": false,
     "start_time": "2025-07-28T10:54:58.503741",
     "status": "completed"
    },
    "tags": []
   },
   "outputs": [],
   "source": [
    "from fairness_multiverse.conformal import find_threshold\n",
    "\n",
    "# Find conformal threshold q_hat for the given alpha (split conformal method)\n",
    "q_hat = find_threshold(nc_scores, alpha)"
   ]
  },
  {
   "cell_type": "code",
   "execution_count": 45,
   "id": "4d29e6c1-0ef6-4aa4-b8fe-4fe79b0d033a",
   "metadata": {
    "execution": {
     "iopub.execute_input": "2025-07-28T10:54:58.591101Z",
     "iopub.status.busy": "2025-07-28T10:54:58.590214Z",
     "iopub.status.idle": "2025-07-28T10:54:58.598913Z",
     "shell.execute_reply": "2025-07-28T10:54:58.597579Z"
    },
    "papermill": {
     "duration": 0.037467,
     "end_time": "2025-07-28T10:54:58.600637",
     "exception": false,
     "start_time": "2025-07-28T10:54:58.563170",
     "status": "completed"
    },
    "tags": []
   },
   "outputs": [
    {
     "data": {
      "text/plain": [
       "0.6729013343852317"
      ]
     },
     "execution_count": 45,
     "metadata": {},
     "output_type": "execute_result"
    }
   ],
   "source": [
    "q_hat"
   ]
  },
  {
   "cell_type": "code",
   "execution_count": 46,
   "id": "92460794-cdac-4be2-ba28-f28c0515a6fb",
   "metadata": {
    "execution": {
     "iopub.execute_input": "2025-07-28T10:54:58.660371Z",
     "iopub.status.busy": "2025-07-28T10:54:58.659810Z",
     "iopub.status.idle": "2025-07-28T10:54:59.699225Z",
     "shell.execute_reply": "2025-07-28T10:54:59.697996Z"
    },
    "papermill": {
     "duration": 1.071346,
     "end_time": "2025-07-28T10:54:59.701228",
     "exception": false,
     "start_time": "2025-07-28T10:54:58.629882",
     "status": "completed"
    },
    "tags": []
   },
   "outputs": [],
   "source": [
    "from fairness_multiverse.conformal import predict_conformal_sets\n",
    "\n",
    "# Generate prediction sets for each test example\n",
    "pred_sets = predict_conformal_sets(model, X_test, q_hat)"
   ]
  },
  {
   "cell_type": "code",
   "execution_count": 47,
   "id": "d90c9a65-e6db-4f5d-80cd-e68fb7e46829",
   "metadata": {
    "execution": {
     "iopub.execute_input": "2025-07-28T10:54:59.753403Z",
     "iopub.status.busy": "2025-07-28T10:54:59.752623Z",
     "iopub.status.idle": "2025-07-28T10:54:59.759474Z",
     "shell.execute_reply": "2025-07-28T10:54:59.758362Z"
    },
    "papermill": {
     "duration": 0.035126,
     "end_time": "2025-07-28T10:54:59.761327",
     "exception": false,
     "start_time": "2025-07-28T10:54:59.726201",
     "status": "completed"
    },
    "tags": []
   },
   "outputs": [],
   "source": [
    "y_true = y_true.squeeze()"
   ]
  },
  {
   "cell_type": "code",
   "execution_count": 48,
   "id": "3a58a54a-1e68-46b9-927a-df01f18aebc8",
   "metadata": {
    "execution": {
     "iopub.execute_input": "2025-07-28T10:54:59.814406Z",
     "iopub.status.busy": "2025-07-28T10:54:59.813879Z",
     "iopub.status.idle": "2025-07-28T10:55:00.857156Z",
     "shell.execute_reply": "2025-07-28T10:55:00.855960Z"
    },
    "papermill": {
     "duration": 1.071791,
     "end_time": "2025-07-28T10:55:00.859388",
     "exception": false,
     "start_time": "2025-07-28T10:54:59.787597",
     "status": "completed"
    },
    "tags": []
   },
   "outputs": [],
   "source": [
    "from fairness_multiverse.conformal import evaluate_sets\n",
    "\n",
    "# Evaluate coverage and average set size on test data\n",
    "metrics = evaluate_sets(pred_sets, y_true)"
   ]
  },
  {
   "cell_type": "markdown",
   "id": "2b569c12-9aaa-4c88-98c9-bbcd0cf3ebb8",
   "metadata": {
    "papermill": {
     "duration": 0.02866,
     "end_time": "2025-07-28T10:55:00.916740",
     "exception": false,
     "start_time": "2025-07-28T10:55:00.888080",
     "status": "completed"
    },
    "tags": []
   },
   "source": [
    "# CP Metrics"
   ]
  },
  {
   "cell_type": "code",
   "execution_count": 49,
   "id": "5ce0a5cb-201f-45a0-ade5-94c7f0bd6095",
   "metadata": {
    "execution": {
     "iopub.execute_input": "2025-07-28T10:55:00.976259Z",
     "iopub.status.busy": "2025-07-28T10:55:00.975510Z",
     "iopub.status.idle": "2025-07-28T10:55:00.983715Z",
     "shell.execute_reply": "2025-07-28T10:55:00.982588Z"
    },
    "papermill": {
     "duration": 0.039977,
     "end_time": "2025-07-28T10:55:00.985428",
     "exception": false,
     "start_time": "2025-07-28T10:55:00.945451",
     "status": "completed"
    },
    "tags": []
   },
   "outputs": [
    {
     "data": {
      "text/plain": [
       "{'coverage': 0.9125292609519563, 'avg_size': 1.1209675621446884}"
      ]
     },
     "execution_count": 49,
     "metadata": {},
     "output_type": "execute_result"
    }
   ],
   "source": [
    "metrics"
   ]
  },
  {
   "cell_type": "code",
   "execution_count": 50,
   "id": "9b9a838d-31c9-430b-ae14-12baee460d17",
   "metadata": {
    "execution": {
     "iopub.execute_input": "2025-07-28T10:55:01.046910Z",
     "iopub.status.busy": "2025-07-28T10:55:01.045903Z",
     "iopub.status.idle": "2025-07-28T10:55:01.053400Z",
     "shell.execute_reply": "2025-07-28T10:55:01.052185Z"
    },
    "papermill": {
     "duration": 0.041027,
     "end_time": "2025-07-28T10:55:01.055710",
     "exception": false,
     "start_time": "2025-07-28T10:55:01.014683",
     "status": "completed"
    },
    "tags": []
   },
   "outputs": [],
   "source": [
    "example_universe = universe.copy()\n",
    "universe_training_size = example_universe.get(\"training_size\")\n",
    "universe_scale = example_universe.get(\"scale\")\n",
    "universe_model = example_universe.get(\"model\")\n",
    "universe_exclude_features = example_universe.get(\"exclude_features\")\n",
    "universe_exclude_subgroups = example_universe.get(\"exclude_subgroups\")"
   ]
  },
  {
   "cell_type": "code",
   "execution_count": 51,
   "id": "f4b6a8ac-9dc0-4245-8a91-5b3b5999c4f9",
   "metadata": {
    "execution": {
     "iopub.execute_input": "2025-07-28T10:55:01.116687Z",
     "iopub.status.busy": "2025-07-28T10:55:01.116089Z",
     "iopub.status.idle": "2025-07-28T10:55:01.144957Z",
     "shell.execute_reply": "2025-07-28T10:55:01.143765Z"
    },
    "papermill": {
     "duration": 0.061911,
     "end_time": "2025-07-28T10:55:01.147104",
     "exception": false,
     "start_time": "2025-07-28T10:55:01.085193",
     "status": "completed"
    },
    "tags": []
   },
   "outputs": [],
   "source": [
    "cp_metrics_dict = {\n",
    "    \"universe_id\": [universe_id],\n",
    "    \"universe_training_size\": [universe_training_size],\n",
    "    \"universe_scale\": [universe_scale],\n",
    "    \"universe_model\": [universe_model],\n",
    "    \"universe_exclude_features\": [universe_exclude_features],\n",
    "    \"universe_exclude_subgroups\": [universe_exclude_subgroups],\n",
    "    \"q_hat\": [q_hat],\n",
    "    \"coverage\": [metrics[\"coverage\"]],\n",
    "    \"avg_size\": [metrics[\"avg_size\"]],\n",
    "}"
   ]
  },
  {
   "cell_type": "code",
   "execution_count": 52,
   "id": "908acbb1-0371-4915-85ca-3fa520d2efe2",
   "metadata": {
    "execution": {
     "iopub.execute_input": "2025-07-28T10:55:01.208270Z",
     "iopub.status.busy": "2025-07-28T10:55:01.207683Z",
     "iopub.status.idle": "2025-07-28T10:55:01.216429Z",
     "shell.execute_reply": "2025-07-28T10:55:01.215301Z"
    },
    "papermill": {
     "duration": 0.042268,
     "end_time": "2025-07-28T10:55:01.218517",
     "exception": false,
     "start_time": "2025-07-28T10:55:01.176249",
     "status": "completed"
    },
    "tags": []
   },
   "outputs": [
    {
     "data": {
      "text/plain": [
       "{'universe_id': ['9b858b6b914dbc24d3161a60edd567a3'],\n",
       " 'universe_training_size': ['2014'],\n",
       " 'universe_scale': ['scale'],\n",
       " 'universe_model': ['penalized_logreg'],\n",
       " 'universe_exclude_features': ['sex'],\n",
       " 'universe_exclude_subgroups': ['keep-all'],\n",
       " 'q_hat': [0.6729013343852317],\n",
       " 'coverage': [0.9125292609519563],\n",
       " 'avg_size': [1.1209675621446884]}"
      ]
     },
     "execution_count": 52,
     "metadata": {},
     "output_type": "execute_result"
    }
   ],
   "source": [
    "cp_metrics_dict"
   ]
  },
  {
   "cell_type": "code",
   "execution_count": 53,
   "id": "33007efc-14e9-4ec6-97ac-56a455c82265",
   "metadata": {
    "execution": {
     "iopub.execute_input": "2025-07-28T10:55:01.280381Z",
     "iopub.status.busy": "2025-07-28T10:55:01.279521Z",
     "iopub.status.idle": "2025-07-28T10:55:01.287626Z",
     "shell.execute_reply": "2025-07-28T10:55:01.286358Z"
    },
    "papermill": {
     "duration": 0.040868,
     "end_time": "2025-07-28T10:55:01.289393",
     "exception": false,
     "start_time": "2025-07-28T10:55:01.248525",
     "status": "completed"
    },
    "tags": []
   },
   "outputs": [],
   "source": [
    "cp_metrics_df = pd.DataFrame(cp_metrics_dict)"
   ]
  },
  {
   "cell_type": "code",
   "execution_count": 54,
   "id": "db12611b-57b2-4910-b9d0-355adfd6e7bf",
   "metadata": {
    "execution": {
     "iopub.execute_input": "2025-07-28T10:55:01.350464Z",
     "iopub.status.busy": "2025-07-28T10:55:01.349726Z",
     "iopub.status.idle": "2025-07-28T10:55:01.370996Z",
     "shell.execute_reply": "2025-07-28T10:55:01.369832Z"
    },
    "papermill": {
     "duration": 0.054105,
     "end_time": "2025-07-28T10:55:01.372676",
     "exception": false,
     "start_time": "2025-07-28T10:55:01.318571",
     "status": "completed"
    },
    "tags": []
   },
   "outputs": [
    {
     "data": {
      "text/html": [
       "<div>\n",
       "<style scoped>\n",
       "    .dataframe tbody tr th:only-of-type {\n",
       "        vertical-align: middle;\n",
       "    }\n",
       "\n",
       "    .dataframe tbody tr th {\n",
       "        vertical-align: top;\n",
       "    }\n",
       "\n",
       "    .dataframe thead th {\n",
       "        text-align: right;\n",
       "    }\n",
       "</style>\n",
       "<table border=\"1\" class=\"dataframe\">\n",
       "  <thead>\n",
       "    <tr style=\"text-align: right;\">\n",
       "      <th></th>\n",
       "      <th>universe_id</th>\n",
       "      <th>universe_training_size</th>\n",
       "      <th>universe_scale</th>\n",
       "      <th>universe_model</th>\n",
       "      <th>universe_exclude_features</th>\n",
       "      <th>universe_exclude_subgroups</th>\n",
       "      <th>q_hat</th>\n",
       "      <th>coverage</th>\n",
       "      <th>avg_size</th>\n",
       "    </tr>\n",
       "  </thead>\n",
       "  <tbody>\n",
       "    <tr>\n",
       "      <th>0</th>\n",
       "      <td>9b858b6b914dbc24d3161a60edd567a3</td>\n",
       "      <td>2014</td>\n",
       "      <td>scale</td>\n",
       "      <td>penalized_logreg</td>\n",
       "      <td>sex</td>\n",
       "      <td>keep-all</td>\n",
       "      <td>0.672901</td>\n",
       "      <td>0.912529</td>\n",
       "      <td>1.120968</td>\n",
       "    </tr>\n",
       "  </tbody>\n",
       "</table>\n",
       "</div>"
      ],
      "text/plain": [
       "                        universe_id universe_training_size universe_scale  \\\n",
       "0  9b858b6b914dbc24d3161a60edd567a3                   2014          scale   \n",
       "\n",
       "     universe_model universe_exclude_features universe_exclude_subgroups  \\\n",
       "0  penalized_logreg                       sex                   keep-all   \n",
       "\n",
       "      q_hat  coverage  avg_size  \n",
       "0  0.672901  0.912529  1.120968  "
      ]
     },
     "execution_count": 54,
     "metadata": {},
     "output_type": "execute_result"
    }
   ],
   "source": [
    "cp_metrics_df"
   ]
  },
  {
   "cell_type": "code",
   "execution_count": 55,
   "id": "b7fbde55-a0a1-47e4-9af6-fe4a17fa8c61",
   "metadata": {
    "execution": {
     "iopub.execute_input": "2025-07-28T10:55:01.426840Z",
     "iopub.status.busy": "2025-07-28T10:55:01.426318Z",
     "iopub.status.idle": "2025-07-28T10:55:01.431909Z",
     "shell.execute_reply": "2025-07-28T10:55:01.430899Z"
    },
    "papermill": {
     "duration": 0.034018,
     "end_time": "2025-07-28T10:55:01.433664",
     "exception": false,
     "start_time": "2025-07-28T10:55:01.399646",
     "status": "completed"
    },
    "tags": []
   },
   "outputs": [],
   "source": [
    "# Conditional Coverage & looking at subgroups"
   ]
  },
  {
   "cell_type": "code",
   "execution_count": 56,
   "id": "027ae886-68dd-4141-96c7-805a5450e1ef",
   "metadata": {
    "execution": {
     "iopub.execute_input": "2025-07-28T10:55:01.485436Z",
     "iopub.status.busy": "2025-07-28T10:55:01.484884Z",
     "iopub.status.idle": "2025-07-28T10:55:01.691618Z",
     "shell.execute_reply": "2025-07-28T10:55:01.690636Z"
    },
    "papermill": {
     "duration": 0.236125,
     "end_time": "2025-07-28T10:55:01.693632",
     "exception": false,
     "start_time": "2025-07-28T10:55:01.457507",
     "status": "completed"
    },
    "tags": []
   },
   "outputs": [],
   "source": [
    "from fairness_multiverse.conformal import build_cp_groups\n",
    "\n",
    "cp_groups_df = build_cp_groups(pred_sets, y_true, X_test.index, org_test)\n",
    "#needs universe_id and setting"
   ]
  },
  {
   "cell_type": "code",
   "execution_count": 57,
   "id": "01d5802c-663a-4d1f-9d69-e036faaffbf7",
   "metadata": {
    "execution": {
     "iopub.execute_input": "2025-07-28T10:55:01.758019Z",
     "iopub.status.busy": "2025-07-28T10:55:01.757445Z",
     "iopub.status.idle": "2025-07-28T10:55:01.762717Z",
     "shell.execute_reply": "2025-07-28T10:55:01.761763Z"
    },
    "papermill": {
     "duration": 0.033479,
     "end_time": "2025-07-28T10:55:01.764734",
     "exception": false,
     "start_time": "2025-07-28T10:55:01.731255",
     "status": "completed"
    },
    "tags": []
   },
   "outputs": [],
   "source": [
    "#delete\n",
    "#cp_groups_df"
   ]
  },
  {
   "cell_type": "code",
   "execution_count": 58,
   "id": "fa424af1-d1eb-443d-b717-2d279ada8408",
   "metadata": {
    "execution": {
     "iopub.execute_input": "2025-07-28T10:55:01.820487Z",
     "iopub.status.busy": "2025-07-28T10:55:01.819927Z",
     "iopub.status.idle": "2025-07-28T10:55:01.825032Z",
     "shell.execute_reply": "2025-07-28T10:55:01.823956Z"
    },
    "papermill": {
     "duration": 0.035027,
     "end_time": "2025-07-28T10:55:01.827066",
     "exception": false,
     "start_time": "2025-07-28T10:55:01.792039",
     "status": "completed"
    },
    "tags": []
   },
   "outputs": [],
   "source": [
    "#delete\n",
    "#percentage = (cp_groups_df['nongerman_female'] == 1).mean() * 100\n",
    "#print(percentage)\n"
   ]
  },
  {
   "cell_type": "code",
   "execution_count": 59,
   "id": "6cbdab96-b2b2-45af-ad54-d0516db2e28d",
   "metadata": {
    "execution": {
     "iopub.execute_input": "2025-07-28T10:55:01.882765Z",
     "iopub.status.busy": "2025-07-28T10:55:01.882249Z",
     "iopub.status.idle": "2025-07-28T10:55:03.256001Z",
     "shell.execute_reply": "2025-07-28T10:55:03.254999Z"
    },
    "papermill": {
     "duration": 1.404604,
     "end_time": "2025-07-28T10:55:03.258064",
     "exception": false,
     "start_time": "2025-07-28T10:55:01.853460",
     "status": "completed"
    },
    "tags": []
   },
   "outputs": [],
   "source": [
    "# Define covered = 1 if true_label is in the predicted set\n",
    "cp_groups_df['covered'] = cp_groups_df.apply(\n",
    "    lambda r: int(r['true_label'] in r['pred_set']),\n",
    "    axis=1\n",
    ")"
   ]
  },
  {
   "cell_type": "code",
   "execution_count": 60,
   "id": "338ff529-1a6b-4b87-a931-8e4788d52aad",
   "metadata": {
    "execution": {
     "iopub.execute_input": "2025-07-28T10:55:03.314186Z",
     "iopub.status.busy": "2025-07-28T10:55:03.313416Z",
     "iopub.status.idle": "2025-07-28T10:55:03.319692Z",
     "shell.execute_reply": "2025-07-28T10:55:03.318578Z"
    },
    "papermill": {
     "duration": 0.035616,
     "end_time": "2025-07-28T10:55:03.321747",
     "exception": false,
     "start_time": "2025-07-28T10:55:03.286131",
     "status": "completed"
    },
    "tags": []
   },
   "outputs": [],
   "source": [
    "#cp_groups_df"
   ]
  },
  {
   "cell_type": "code",
   "execution_count": 61,
   "id": "90032e27-66df-4540-9169-4e89cfbaa758",
   "metadata": {
    "execution": {
     "iopub.execute_input": "2025-07-28T10:55:03.389298Z",
     "iopub.status.busy": "2025-07-28T10:55:03.388529Z",
     "iopub.status.idle": "2025-07-28T10:55:03.401658Z",
     "shell.execute_reply": "2025-07-28T10:55:03.400859Z"
    },
    "papermill": {
     "duration": 0.058102,
     "end_time": "2025-07-28T10:55:03.412988",
     "exception": false,
     "start_time": "2025-07-28T10:55:03.354886",
     "status": "completed"
    },
    "tags": []
   },
   "outputs": [],
   "source": [
    "subgroups = ['frau1','nongerman','nongerman_male','nongerman_female']\n",
    "\n",
    "# Conditional coverage for subgroup==1\n",
    "cond_coverage = {\n",
    "    g: cp_groups_df.loc[cp_groups_df[g]==1, 'covered'].mean()\n",
    "    for g in subgroups\n",
    "}"
   ]
  },
  {
   "cell_type": "code",
   "execution_count": 62,
   "id": "1e348fb1-b9c3-45bc-ba23-f016827a7e0d",
   "metadata": {
    "execution": {
     "iopub.execute_input": "2025-07-28T10:55:03.481660Z",
     "iopub.status.busy": "2025-07-28T10:55:03.481241Z",
     "iopub.status.idle": "2025-07-28T10:55:03.490386Z",
     "shell.execute_reply": "2025-07-28T10:55:03.489162Z"
    },
    "papermill": {
     "duration": 0.045745,
     "end_time": "2025-07-28T10:55:03.492213",
     "exception": false,
     "start_time": "2025-07-28T10:55:03.446468",
     "status": "completed"
    },
    "tags": []
   },
   "outputs": [
    {
     "data": {
      "text/plain": [
       "{'frau1': 0.913303679741205,\n",
       " 'nongerman': 0.9110761803177455,\n",
       " 'nongerman_male': 0.9255156264072774,\n",
       " 'nongerman_female': 0.8871833084947839}"
      ]
     },
     "execution_count": 62,
     "metadata": {},
     "output_type": "execute_result"
    }
   ],
   "source": [
    "cond_coverage"
   ]
  },
  {
   "cell_type": "code",
   "execution_count": 63,
   "id": "f5093324-c3dd-4d63-bc4c-8d945e5c8bbb",
   "metadata": {
    "execution": {
     "iopub.execute_input": "2025-07-28T10:55:03.546758Z",
     "iopub.status.busy": "2025-07-28T10:55:03.546194Z",
     "iopub.status.idle": "2025-07-28T10:55:03.555267Z",
     "shell.execute_reply": "2025-07-28T10:55:03.554261Z"
    },
    "papermill": {
     "duration": 0.038177,
     "end_time": "2025-07-28T10:55:03.557250",
     "exception": false,
     "start_time": "2025-07-28T10:55:03.519073",
     "status": "completed"
    },
    "tags": []
   },
   "outputs": [],
   "source": [
    "for subgroup, cov in cond_coverage.items():\n",
    "    cp_metrics_df[f\"cov_{subgroup}\"] = cov"
   ]
  },
  {
   "cell_type": "code",
   "execution_count": 64,
   "id": "6e872e10-dbe5-49e8-b554-5030c98ff75d",
   "metadata": {
    "execution": {
     "iopub.execute_input": "2025-07-28T10:55:03.614365Z",
     "iopub.status.busy": "2025-07-28T10:55:03.613771Z",
     "iopub.status.idle": "2025-07-28T10:55:03.635663Z",
     "shell.execute_reply": "2025-07-28T10:55:03.634095Z"
    },
    "papermill": {
     "duration": 0.052017,
     "end_time": "2025-07-28T10:55:03.637642",
     "exception": false,
     "start_time": "2025-07-28T10:55:03.585625",
     "status": "completed"
    },
    "tags": []
   },
   "outputs": [
    {
     "data": {
      "text/html": [
       "<div>\n",
       "<style scoped>\n",
       "    .dataframe tbody tr th:only-of-type {\n",
       "        vertical-align: middle;\n",
       "    }\n",
       "\n",
       "    .dataframe tbody tr th {\n",
       "        vertical-align: top;\n",
       "    }\n",
       "\n",
       "    .dataframe thead th {\n",
       "        text-align: right;\n",
       "    }\n",
       "</style>\n",
       "<table border=\"1\" class=\"dataframe\">\n",
       "  <thead>\n",
       "    <tr style=\"text-align: right;\">\n",
       "      <th></th>\n",
       "      <th>universe_id</th>\n",
       "      <th>universe_training_size</th>\n",
       "      <th>universe_scale</th>\n",
       "      <th>universe_model</th>\n",
       "      <th>universe_exclude_features</th>\n",
       "      <th>universe_exclude_subgroups</th>\n",
       "      <th>q_hat</th>\n",
       "      <th>coverage</th>\n",
       "      <th>avg_size</th>\n",
       "      <th>cov_frau1</th>\n",
       "      <th>cov_nongerman</th>\n",
       "      <th>cov_nongerman_male</th>\n",
       "      <th>cov_nongerman_female</th>\n",
       "    </tr>\n",
       "  </thead>\n",
       "  <tbody>\n",
       "    <tr>\n",
       "      <th>0</th>\n",
       "      <td>9b858b6b914dbc24d3161a60edd567a3</td>\n",
       "      <td>2014</td>\n",
       "      <td>scale</td>\n",
       "      <td>penalized_logreg</td>\n",
       "      <td>sex</td>\n",
       "      <td>keep-all</td>\n",
       "      <td>0.672901</td>\n",
       "      <td>0.912529</td>\n",
       "      <td>1.120968</td>\n",
       "      <td>0.913304</td>\n",
       "      <td>0.911076</td>\n",
       "      <td>0.925516</td>\n",
       "      <td>0.887183</td>\n",
       "    </tr>\n",
       "  </tbody>\n",
       "</table>\n",
       "</div>"
      ],
      "text/plain": [
       "                        universe_id universe_training_size universe_scale  \\\n",
       "0  9b858b6b914dbc24d3161a60edd567a3                   2014          scale   \n",
       "\n",
       "     universe_model universe_exclude_features universe_exclude_subgroups  \\\n",
       "0  penalized_logreg                       sex                   keep-all   \n",
       "\n",
       "      q_hat  coverage  avg_size  cov_frau1  cov_nongerman  cov_nongerman_male  \\\n",
       "0  0.672901  0.912529  1.120968   0.913304       0.911076            0.925516   \n",
       "\n",
       "   cov_nongerman_female  \n",
       "0              0.887183  "
      ]
     },
     "execution_count": 64,
     "metadata": {},
     "output_type": "execute_result"
    }
   ],
   "source": [
    "cp_metrics_df"
   ]
  },
  {
   "cell_type": "markdown",
   "id": "33774451",
   "metadata": {
    "papermill": {
     "duration": 0.027556,
     "end_time": "2025-07-28T10:55:03.694435",
     "exception": false,
     "start_time": "2025-07-28T10:55:03.666879",
     "status": "completed"
    },
    "tags": []
   },
   "source": [
    "# (Fairness) Metrics"
   ]
  },
  {
   "cell_type": "code",
   "execution_count": 65,
   "id": "debc5d62",
   "metadata": {
    "execution": {
     "iopub.execute_input": "2025-07-28T10:55:03.750428Z",
     "iopub.status.busy": "2025-07-28T10:55:03.749911Z",
     "iopub.status.idle": "2025-07-28T10:55:03.774544Z",
     "shell.execute_reply": "2025-07-28T10:55:03.773506Z"
    },
    "papermill": {
     "duration": 0.056978,
     "end_time": "2025-07-28T10:55:03.776730",
     "exception": false,
     "start_time": "2025-07-28T10:55:03.719752",
     "status": "completed"
    },
    "tags": []
   },
   "outputs": [],
   "source": [
    "# do I need to include maxdeutsch1.missing?\n",
    "\n",
    "import numpy as np\n",
    "\n",
    "colname_to_bin = \"maxdeutsch1\"\n",
    "majority_value = org_train[colname_to_bin].mode()[0]\n",
    "\n",
    "org_test[\"majmin\"] = np.where(org_test[colname_to_bin] == majority_value, \"majority\", \"minority\")"
   ]
  },
  {
   "cell_type": "code",
   "execution_count": 66,
   "id": "06a50de5",
   "metadata": {
    "execution": {
     "iopub.execute_input": "2025-07-28T10:55:03.840370Z",
     "iopub.status.busy": "2025-07-28T10:55:03.839364Z",
     "iopub.status.idle": "2025-07-28T10:55:07.090807Z",
     "shell.execute_reply": "2025-07-28T10:55:07.089712Z"
    },
    "papermill": {
     "duration": 3.283185,
     "end_time": "2025-07-28T10:55:07.092866",
     "exception": false,
     "start_time": "2025-07-28T10:55:03.809681",
     "status": "completed"
    },
    "tags": []
   },
   "outputs": [],
   "source": [
    "example_universe = universe.copy()\n",
    "example_universe[\"cutoff\"] = example_universe[\"cutoff\"][0]\n",
    "example_universe[\"eval_fairness_grouping\"] = example_universe[\"eval_fairness_grouping\"][0]\n",
    "fairness_dict, metric_frame = universe_analysis.compute_metrics(\n",
    "    example_universe,\n",
    "    y_pred_prob=probs_test,\n",
    "    y_test=y_true,\n",
    "    org_test=org_test,\n",
    ")"
   ]
  },
  {
   "cell_type": "markdown",
   "id": "f95d4e02",
   "metadata": {
    "papermill": {
     "duration": 0.030395,
     "end_time": "2025-07-28T10:55:07.157351",
     "exception": false,
     "start_time": "2025-07-28T10:55:07.126956",
     "status": "completed"
    },
    "tags": []
   },
   "source": [
    "# Overall"
   ]
  },
  {
   "cell_type": "markdown",
   "id": "bdee4871",
   "metadata": {
    "papermill": {
     "duration": 0.034642,
     "end_time": "2025-07-28T10:55:07.226916",
     "exception": false,
     "start_time": "2025-07-28T10:55:07.192274",
     "status": "completed"
    },
    "tags": []
   },
   "source": [
    "Fairness\n",
    "Main fairness target: Equalized Odds. Seems to be a better fit than equal opportunity, since we're not only interested in Y = 1. Seems to be a better fit than demographic parity, since we also care about accuracy, not just equal distribution of preds.\n",
    "\n",
    "Pick column for computation of fairness metrics\n",
    "\n",
    "Performance\n",
    "Overall performance measures, most interesting in relation to the measures split by group below"
   ]
  },
  {
   "cell_type": "code",
   "execution_count": 67,
   "id": "c4e067c6",
   "metadata": {
    "execution": {
     "iopub.execute_input": "2025-07-28T10:55:07.287914Z",
     "iopub.status.busy": "2025-07-28T10:55:07.287393Z",
     "iopub.status.idle": "2025-07-28T10:55:07.296595Z",
     "shell.execute_reply": "2025-07-28T10:55:07.295250Z"
    },
    "papermill": {
     "duration": 0.039171,
     "end_time": "2025-07-28T10:55:07.297920",
     "exception": false,
     "start_time": "2025-07-28T10:55:07.258749",
     "status": "completed"
    },
    "tags": []
   },
   "outputs": [
    {
     "data": {
      "text/plain": [
       "accuracy                   0.225761\n",
       "balanced accuracy          0.551726\n",
       "f1                         0.247054\n",
       "precision                  0.141134\n",
       "false positive rate        0.886729\n",
       "false negative rate        0.009819\n",
       "selection rate             0.900000\n",
       "count                  89710.000000\n",
       "dtype: float64"
      ]
     },
     "execution_count": 67,
     "metadata": {},
     "output_type": "execute_result"
    }
   ],
   "source": [
    "metric_frame.overall"
   ]
  },
  {
   "cell_type": "markdown",
   "id": "e968fe9d",
   "metadata": {
    "papermill": {
     "duration": 0.029399,
     "end_time": "2025-07-28T10:55:07.358838",
     "exception": false,
     "start_time": "2025-07-28T10:55:07.329439",
     "status": "completed"
    },
    "tags": []
   },
   "source": [
    "By Group"
   ]
  },
  {
   "cell_type": "code",
   "execution_count": 68,
   "id": "ec325bce",
   "metadata": {
    "execution": {
     "iopub.execute_input": "2025-07-28T10:55:07.388743Z",
     "iopub.status.busy": "2025-07-28T10:55:07.388205Z",
     "iopub.status.idle": "2025-07-28T10:55:07.401197Z",
     "shell.execute_reply": "2025-07-28T10:55:07.400187Z"
    },
    "papermill": {
     "duration": 0.030357,
     "end_time": "2025-07-28T10:55:07.404456",
     "exception": false,
     "start_time": "2025-07-28T10:55:07.374099",
     "status": "completed"
    },
    "tags": []
   },
   "outputs": [
    {
     "data": {
      "text/html": [
       "<div>\n",
       "<style scoped>\n",
       "    .dataframe tbody tr th:only-of-type {\n",
       "        vertical-align: middle;\n",
       "    }\n",
       "\n",
       "    .dataframe tbody tr th {\n",
       "        vertical-align: top;\n",
       "    }\n",
       "\n",
       "    .dataframe thead th {\n",
       "        text-align: right;\n",
       "    }\n",
       "</style>\n",
       "<table border=\"1\" class=\"dataframe\">\n",
       "  <thead>\n",
       "    <tr style=\"text-align: right;\">\n",
       "      <th></th>\n",
       "      <th>accuracy</th>\n",
       "      <th>balanced accuracy</th>\n",
       "      <th>f1</th>\n",
       "      <th>precision</th>\n",
       "      <th>false positive rate</th>\n",
       "      <th>false negative rate</th>\n",
       "      <th>selection rate</th>\n",
       "      <th>count</th>\n",
       "    </tr>\n",
       "    <tr>\n",
       "      <th>majmin</th>\n",
       "      <th></th>\n",
       "      <th></th>\n",
       "      <th></th>\n",
       "      <th></th>\n",
       "      <th></th>\n",
       "      <th></th>\n",
       "      <th></th>\n",
       "      <th></th>\n",
       "    </tr>\n",
       "  </thead>\n",
       "  <tbody>\n",
       "    <tr>\n",
       "      <th>majority</th>\n",
       "      <td>0.247680</td>\n",
       "      <td>0.561883</td>\n",
       "      <td>0.257830</td>\n",
       "      <td>0.148239</td>\n",
       "      <td>0.865184</td>\n",
       "      <td>0.011050</td>\n",
       "      <td>0.881538</td>\n",
       "      <td>69170.0</td>\n",
       "    </tr>\n",
       "    <tr>\n",
       "      <th>minority</th>\n",
       "      <td>0.151947</td>\n",
       "      <td>0.518515</td>\n",
       "      <td>0.212914</td>\n",
       "      <td>0.119213</td>\n",
       "      <td>0.957902</td>\n",
       "      <td>0.005068</td>\n",
       "      <td>0.962171</td>\n",
       "      <td>20540.0</td>\n",
       "    </tr>\n",
       "  </tbody>\n",
       "</table>\n",
       "</div>"
      ],
      "text/plain": [
       "          accuracy  balanced accuracy        f1  precision  \\\n",
       "majmin                                                       \n",
       "majority  0.247680           0.561883  0.257830   0.148239   \n",
       "minority  0.151947           0.518515  0.212914   0.119213   \n",
       "\n",
       "          false positive rate  false negative rate  selection rate    count  \n",
       "majmin                                                                       \n",
       "majority             0.865184             0.011050        0.881538  69170.0  \n",
       "minority             0.957902             0.005068        0.962171  20540.0  "
      ]
     },
     "execution_count": 68,
     "metadata": {},
     "output_type": "execute_result"
    }
   ],
   "source": [
    "metric_frame.by_group"
   ]
  },
  {
   "cell_type": "code",
   "execution_count": 69,
   "id": "a9ddbe63",
   "metadata": {
    "execution": {
     "iopub.execute_input": "2025-07-28T10:55:07.458760Z",
     "iopub.status.busy": "2025-07-28T10:55:07.458110Z",
     "iopub.status.idle": "2025-07-28T10:55:09.618890Z",
     "shell.execute_reply": "2025-07-28T10:55:09.617995Z"
    },
    "papermill": {
     "duration": 2.190242,
     "end_time": "2025-07-28T10:55:09.620509",
     "exception": false,
     "start_time": "2025-07-28T10:55:07.430267",
     "status": "completed"
    },
    "tags": []
   },
   "outputs": [
    {
     "data": {
      "text/plain": [
       "array([[<Axes: title={'center': 'accuracy'}, xlabel='majmin'>,\n",
       "        <Axes: title={'center': 'balanced accuracy'}, xlabel='majmin'>,\n",
       "        <Axes: title={'center': 'f1'}, xlabel='majmin'>],\n",
       "       [<Axes: title={'center': 'precision'}, xlabel='majmin'>,\n",
       "        <Axes: title={'center': 'false positive rate'}, xlabel='majmin'>,\n",
       "        <Axes: title={'center': 'false negative rate'}, xlabel='majmin'>],\n",
       "       [<Axes: title={'center': 'selection rate'}, xlabel='majmin'>,\n",
       "        <Axes: title={'center': 'count'}, xlabel='majmin'>,\n",
       "        <Axes: xlabel='majmin'>]], dtype=object)"
      ]
     },
     "execution_count": 69,
     "metadata": {},
     "output_type": "execute_result"
    },
    {
     "data": {
      "image/png": "[encoded data removed]",
      "text/plain": [
       "<Figure size 1200x800 with 9 Axes>"
      ]
     },
     "metadata": {},
     "output_type": "display_data"
    }
   ],
   "source": [
    "# In a graphic\n",
    "metric_frame.by_group.plot.bar(\n",
    "    subplots=True,\n",
    "    layout=[3, 3],\n",
    "    legend=False,\n",
    "    figsize=[12, 8],\n",
    "    title=\"Show all metrics\",\n",
    ")"
   ]
  },
  {
   "cell_type": "markdown",
   "id": "f57a0bac",
   "metadata": {
    "papermill": {
     "duration": 0.016081,
     "end_time": "2025-07-28T10:55:09.652691",
     "exception": false,
     "start_time": "2025-07-28T10:55:09.636610",
     "status": "completed"
    },
    "tags": []
   },
   "source": [
    "# Final Output"
   ]
  },
  {
   "cell_type": "code",
   "execution_count": 70,
   "id": "96d280a3",
   "metadata": {
    "execution": {
     "iopub.execute_input": "2025-07-28T10:55:09.686787Z",
     "iopub.status.busy": "2025-07-28T10:55:09.686267Z",
     "iopub.status.idle": "2025-07-28T10:55:09.694001Z",
     "shell.execute_reply": "2025-07-28T10:55:09.693157Z"
    },
    "papermill": {
     "duration": 0.026399,
     "end_time": "2025-07-28T10:55:09.695410",
     "exception": false,
     "start_time": "2025-07-28T10:55:09.669011",
     "status": "completed"
    },
    "tags": []
   },
   "outputs": [
    {
     "data": {
      "text/plain": [
       "4"
      ]
     },
     "execution_count": 70,
     "metadata": {},
     "output_type": "execute_result"
    }
   ],
   "source": [
    "sub_universes = universe_analysis.generate_sub_universes()\n",
    "len(sub_universes)"
   ]
  },
  {
   "cell_type": "code",
   "execution_count": 71,
   "id": "92adf7ba",
   "metadata": {
    "execution": {
     "iopub.execute_input": "2025-07-28T10:55:09.730182Z",
     "iopub.status.busy": "2025-07-28T10:55:09.729782Z",
     "iopub.status.idle": "2025-07-28T10:55:09.742580Z",
     "shell.execute_reply": "2025-07-28T10:55:09.741712Z"
    },
    "papermill": {
     "duration": 0.03239,
     "end_time": "2025-07-28T10:55:09.744450",
     "exception": false,
     "start_time": "2025-07-28T10:55:09.712060",
     "status": "completed"
    },
    "tags": []
   },
   "outputs": [],
   "source": [
    "def filter_sub_universe_data(sub_universe, org_test):\n",
    "    # Keep all rows — no filtering\n",
    "    keep_rows_mask = np.ones(org_test.shape[0], dtype=bool)\n",
    "\n",
    "    print(f\"[INFO] Keeping all rows: {keep_rows_mask.sum()} rows retained.\")\n",
    "    return keep_rows_mask"
   ]
  },
  {
   "cell_type": "code",
   "execution_count": 72,
   "id": "4a759155",
   "metadata": {
    "execution": {
     "iopub.execute_input": "2025-07-28T10:55:09.779627Z",
     "iopub.status.busy": "2025-07-28T10:55:09.779245Z",
     "iopub.status.idle": "2025-07-28T10:55:19.142025Z",
     "shell.execute_reply": "2025-07-28T10:55:19.140675Z"
    },
    "papermill": {
     "duration": 9.382594,
     "end_time": "2025-07-28T10:55:19.144009",
     "exception": false,
     "start_time": "2025-07-28T10:55:09.761415",
     "status": "completed"
    },
    "tags": []
   },
   "outputs": [
    {
     "name": "stdout",
     "output_type": "stream",
     "text": [
      "Stopping execution_time clock.\n",
      "[INFO] Keeping all rows: 89710 rows retained.\n"
     ]
    },
    {
     "name": "stdout",
     "output_type": "stream",
     "text": [
      "[INFO] Keeping all rows: 89710 rows retained.\n"
     ]
    },
    {
     "name": "stdout",
     "output_type": "stream",
     "text": [
      "[INFO] Keeping all rows: 89710 rows retained.\n"
     ]
    },
    {
     "name": "stdout",
     "output_type": "stream",
     "text": [
      "[INFO] Keeping all rows: 89710 rows retained.\n"
     ]
    },
    {
     "data": {
      "text/html": [
       "<div>\n",
       "<style scoped>\n",
       "    .dataframe tbody tr th:only-of-type {\n",
       "        vertical-align: middle;\n",
       "    }\n",
       "\n",
       "    .dataframe tbody tr th {\n",
       "        vertical-align: top;\n",
       "    }\n",
       "\n",
       "    .dataframe thead th {\n",
       "        text-align: right;\n",
       "    }\n",
       "</style>\n",
       "<table border=\"1\" class=\"dataframe\">\n",
       "  <thead>\n",
       "    <tr style=\"text-align: right;\">\n",
       "      <th></th>\n",
       "      <th>run_no</th>\n",
       "      <th>universe_id</th>\n",
       "      <th>universe_settings</th>\n",
       "      <th>execution_time</th>\n",
       "      <th>test_size_n</th>\n",
       "      <th>test_size_frac</th>\n",
       "      <th>fair_main_equalized_odds_difference</th>\n",
       "      <th>fair_main_equalized_odds_ratio</th>\n",
       "      <th>fair_main_demographic_parity_difference</th>\n",
       "      <th>fair_main_demographic_parity_ratio</th>\n",
       "      <th>...</th>\n",
       "      <th>perf_grp_precision_0</th>\n",
       "      <th>perf_grp_precision_1</th>\n",
       "      <th>perf_grp_false positive rate_0</th>\n",
       "      <th>perf_grp_false positive rate_1</th>\n",
       "      <th>perf_grp_false negative rate_0</th>\n",
       "      <th>perf_grp_false negative rate_1</th>\n",
       "      <th>perf_grp_selection rate_0</th>\n",
       "      <th>perf_grp_selection rate_1</th>\n",
       "      <th>perf_grp_count_0</th>\n",
       "      <th>perf_grp_count_1</th>\n",
       "    </tr>\n",
       "  </thead>\n",
       "  <tbody>\n",
       "    <tr>\n",
       "      <th>0</th>\n",
       "      <td>11</td>\n",
       "      <td>9b858b6b914dbc24d3161a60edd567a3</td>\n",
       "      <td>{\"cutoff\": \"quantile_0.1\", \"eval_fairness_grou...</td>\n",
       "      <td>32.841422</td>\n",
       "      <td>89710</td>\n",
       "      <td>1.0</td>\n",
       "      <td>0.092718</td>\n",
       "      <td>0.903207</td>\n",
       "      <td>0.080633</td>\n",
       "      <td>0.916197</td>\n",
       "      <td>...</td>\n",
       "      <td>NaN</td>\n",
       "      <td>NaN</td>\n",
       "      <td>NaN</td>\n",
       "      <td>NaN</td>\n",
       "      <td>NaN</td>\n",
       "      <td>NaN</td>\n",
       "      <td>NaN</td>\n",
       "      <td>NaN</td>\n",
       "      <td>NaN</td>\n",
       "      <td>NaN</td>\n",
       "    </tr>\n",
       "    <tr>\n",
       "      <th>0</th>\n",
       "      <td>11</td>\n",
       "      <td>9b858b6b914dbc24d3161a60edd567a3</td>\n",
       "      <td>{\"cutoff\": \"quantile_0.1\", \"eval_fairness_grou...</td>\n",
       "      <td>32.841422</td>\n",
       "      <td>89710</td>\n",
       "      <td>1.0</td>\n",
       "      <td>0.092718</td>\n",
       "      <td>0.903207</td>\n",
       "      <td>0.080633</td>\n",
       "      <td>0.916197</td>\n",
       "      <td>...</td>\n",
       "      <td>0.119213</td>\n",
       "      <td>0.148239</td>\n",
       "      <td>0.957902</td>\n",
       "      <td>0.865184</td>\n",
       "      <td>0.005068</td>\n",
       "      <td>0.011050</td>\n",
       "      <td>0.962171</td>\n",
       "      <td>0.881538</td>\n",
       "      <td>20540.0</td>\n",
       "      <td>69170.0</td>\n",
       "    </tr>\n",
       "    <tr>\n",
       "      <th>0</th>\n",
       "      <td>11</td>\n",
       "      <td>9b858b6b914dbc24d3161a60edd567a3</td>\n",
       "      <td>{\"cutoff\": \"quantile_0.25\", \"eval_fairness_gro...</td>\n",
       "      <td>32.841422</td>\n",
       "      <td>89710</td>\n",
       "      <td>1.0</td>\n",
       "      <td>0.158538</td>\n",
       "      <td>0.811641</td>\n",
       "      <td>0.137090</td>\n",
       "      <td>0.839791</td>\n",
       "      <td>...</td>\n",
       "      <td>NaN</td>\n",
       "      <td>NaN</td>\n",
       "      <td>NaN</td>\n",
       "      <td>NaN</td>\n",
       "      <td>NaN</td>\n",
       "      <td>NaN</td>\n",
       "      <td>NaN</td>\n",
       "      <td>NaN</td>\n",
       "      <td>NaN</td>\n",
       "      <td>NaN</td>\n",
       "    </tr>\n",
       "    <tr>\n",
       "      <th>0</th>\n",
       "      <td>11</td>\n",
       "      <td>9b858b6b914dbc24d3161a60edd567a3</td>\n",
       "      <td>{\"cutoff\": \"quantile_0.25\", \"eval_fairness_gro...</td>\n",
       "      <td>32.841422</td>\n",
       "      <td>89710</td>\n",
       "      <td>1.0</td>\n",
       "      <td>0.158538</td>\n",
       "      <td>0.811641</td>\n",
       "      <td>0.137090</td>\n",
       "      <td>0.839791</td>\n",
       "      <td>...</td>\n",
       "      <td>0.129779</td>\n",
       "      <td>0.174969</td>\n",
       "      <td>0.841680</td>\n",
       "      <td>0.683142</td>\n",
       "      <td>0.036740</td>\n",
       "      <td>0.048468</td>\n",
       "      <td>0.855696</td>\n",
       "      <td>0.718606</td>\n",
       "      <td>20540.0</td>\n",
       "      <td>69170.0</td>\n",
       "    </tr>\n",
       "  </tbody>\n",
       "</table>\n",
       "<p>4 rows × 50 columns</p>\n",
       "</div>"
      ],
      "text/plain": [
       "  run_no                       universe_id  \\\n",
       "0     11  9b858b6b914dbc24d3161a60edd567a3   \n",
       "0     11  9b858b6b914dbc24d3161a60edd567a3   \n",
       "0     11  9b858b6b914dbc24d3161a60edd567a3   \n",
       "0     11  9b858b6b914dbc24d3161a60edd567a3   \n",
       "\n",
       "                                   universe_settings  execution_time  \\\n",
       "0  {\"cutoff\": \"quantile_0.1\", \"eval_fairness_grou...       32.841422   \n",
       "0  {\"cutoff\": \"quantile_0.1\", \"eval_fairness_grou...       32.841422   \n",
       "0  {\"cutoff\": \"quantile_0.25\", \"eval_fairness_gro...       32.841422   \n",
       "0  {\"cutoff\": \"quantile_0.25\", \"eval_fairness_gro...       32.841422   \n",
       "\n",
       "   test_size_n  test_size_frac  fair_main_equalized_odds_difference  \\\n",
       "0        89710             1.0                             0.092718   \n",
       "0        89710             1.0                             0.092718   \n",
       "0        89710             1.0                             0.158538   \n",
       "0        89710             1.0                             0.158538   \n",
       "\n",
       "   fair_main_equalized_odds_ratio  fair_main_demographic_parity_difference  \\\n",
       "0                        0.903207                                 0.080633   \n",
       "0                        0.903207                                 0.080633   \n",
       "0                        0.811641                                 0.137090   \n",
       "0                        0.811641                                 0.137090   \n",
       "\n",
       "   fair_main_demographic_parity_ratio  ...  perf_grp_precision_0  \\\n",
       "0                            0.916197  ...                   NaN   \n",
       "0                            0.916197  ...              0.119213   \n",
       "0                            0.839791  ...                   NaN   \n",
       "0                            0.839791  ...              0.129779   \n",
       "\n",
       "   perf_grp_precision_1  perf_grp_false positive rate_0  \\\n",
       "0                   NaN                             NaN   \n",
       "0              0.148239                        0.957902   \n",
       "0                   NaN                             NaN   \n",
       "0              0.174969                        0.841680   \n",
       "\n",
       "   perf_grp_false positive rate_1  perf_grp_false negative rate_0  \\\n",
       "0                             NaN                             NaN   \n",
       "0                        0.865184                        0.005068   \n",
       "0                             NaN                             NaN   \n",
       "0                        0.683142                        0.036740   \n",
       "\n",
       "   perf_grp_false negative rate_1  perf_grp_selection rate_0  \\\n",
       "0                             NaN                        NaN   \n",
       "0                        0.011050                   0.962171   \n",
       "0                             NaN                        NaN   \n",
       "0                        0.048468                   0.855696   \n",
       "\n",
       "   perf_grp_selection rate_1  perf_grp_count_0  perf_grp_count_1  \n",
       "0                        NaN               NaN               NaN  \n",
       "0                   0.881538           20540.0           69170.0  \n",
       "0                        NaN               NaN               NaN  \n",
       "0                   0.718606           20540.0           69170.0  \n",
       "\n",
       "[4 rows x 50 columns]"
      ]
     },
     "execution_count": 72,
     "metadata": {},
     "output_type": "execute_result"
    }
   ],
   "source": [
    "final_output = universe_analysis.generate_final_output(\n",
    "    y_pred_prob=probs_test,\n",
    "    y_test=y_true,\n",
    "    org_test=org_test,\n",
    "    filter_data=filter_sub_universe_data,\n",
    "    cp_metrics_df=cp_metrics_df,\n",
    "    save=True,\n",
    ")\n",
    "final_output"
   ]
  },
  {
   "cell_type": "code",
   "execution_count": null,
   "id": "721ff514-cb11-46f8-b6fc-50392f74b5cb",
   "metadata": {
    "papermill": {
     "duration": 0.0278,
     "end_time": "2025-07-28T10:55:19.203843",
     "exception": false,
     "start_time": "2025-07-28T10:55:19.176043",
     "status": "completed"
    },
    "tags": []
   },
   "outputs": [],
   "source": []
  }
 ],
 "metadata": {
  "celltoolbar": "Tags",
  "kernelspec": {
   "display_name": "Python (CMA Fairness)",
   "language": "python",
   "name": "cma_fair_env"
  },
  "language_info": {
   "codemirror_mode": {
    "name": "ipython",
    "version": 3
   },
   "file_extension": ".py",
   "mimetype": "text/x-python",
   "name": "python",
   "nbconvert_exporter": "python",
   "pygments_lexer": "ipython3",
   "version": "3.10.12"
  },
  "papermill": {
   "default_parameters": {},
   "duration": 46.749837,
   "end_time": "2025-07-28T10:55:20.052824",
   "environment_variables": {},
   "exception": null,
   "input_path": "universe_analysis.ipynb",
   "output_path": "output/runs/11/notebooks/m_11-9b858b6b914dbc24d3161a60edd567a3.ipynb",
   "parameters": {
    "output_dir": "output",
    "run_no": "11",
    "seed": "2023",
    "universe": "{\"cutoff\": [\"quantile_0.1\", \"quantile_0.25\"], \"eval_fairness_grouping\": [\"majority-minority\", \"nationality-all\"], \"exclude_features\": \"sex\", \"exclude_subgroups\": \"keep-all\", \"model\": \"penalized_logreg\", \"scale\": \"scale\", \"training_size\": \"2014\"}",
    "universe_id": "9b858b6b914dbc24d3161a60edd567a3"
   },
   "start_time": "2025-07-28T10:54:33.302987",
   "version": "2.6.0"
  }
 },
 "nbformat": 4,
 "nbformat_minor": 5
}