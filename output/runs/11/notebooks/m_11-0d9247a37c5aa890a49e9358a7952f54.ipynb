{
 "cells": [
  {
   "cell_type": "code",
   "execution_count": 1,
   "id": "f159f837-637b-42ba-96b5-ec9a68c44524",
   "metadata": {
    "execution": {
     "iopub.execute_input": "2025-07-28T11:05:00.619651Z",
     "iopub.status.busy": "2025-07-28T11:05:00.619258Z",
     "iopub.status.idle": "2025-07-28T11:05:00.630092Z",
     "shell.execute_reply": "2025-07-28T11:05:00.629045Z"
    },
    "papermill": {
     "duration": 0.029498,
     "end_time": "2025-07-28T11:05:00.631612",
     "exception": false,
     "start_time": "2025-07-28T11:05:00.602114",
     "status": "completed"
    },
    "tags": []
   },
   "outputs": [
    {
     "name": "stdout",
     "output_type": "stream",
     "text": [
      "/dss/dsshome1/0C/ra93lal2/cma/CMA_Fairness_v2\n"
     ]
    },
    {
     "name": "stderr",
     "output_type": "stream",
     "text": [
      "/dss/dsshome1/0C/ra93lal2/.local/share/virtualenvs/CMA_Fairness_v2-3j10GkSs/lib/python3.10/site-packages/IPython/core/magics/osm.py:393: UserWarning: This is now an optional IPython functionality, using bookmarks requires you to install the `pickleshare` library.\n",
      "  bkms = self.shell.db.get('bookmarks', {})\n",
      "/dss/dsshome1/0C/ra93lal2/.local/share/virtualenvs/CMA_Fairness_v2-3j10GkSs/lib/python3.10/site-packages/IPython/core/magics/osm.py:417: UserWarning: This is now an optional IPython functionality, setting dhist requires you to install the `pickleshare` library.\n",
      "  self.shell.db['dhist'] = compress_dhist(dhist)[-100:]\n"
     ]
    }
   ],
   "source": [
    "%cd ~/cma/CMA_Fairness_v2"
   ]
  },
  {
   "cell_type": "markdown",
   "id": "de2603b9",
   "metadata": {
    "papermill": {
     "duration": 0.020234,
     "end_time": "2025-07-28T11:05:00.671816",
     "exception": false,
     "start_time": "2025-07-28T11:05:00.651582",
     "status": "completed"
    },
    "tags": []
   },
   "source": [
    "The following cell holds the definition of our parameters, these values can be overriden by rendering the with e.g. the following command:\n",
    "\n",
    "papermill -p alpha 0.2 -p ratio 0.3 universe_analysis.ipynb output/test_run.ipynb"
   ]
  },
  {
   "cell_type": "code",
   "execution_count": 2,
   "id": "a80968a0-40bb-4fa9-85ef-2d5eefb01975",
   "metadata": {
    "execution": {
     "iopub.execute_input": "2025-07-28T11:05:00.713086Z",
     "iopub.status.busy": "2025-07-28T11:05:00.712304Z",
     "iopub.status.idle": "2025-07-28T11:05:00.718141Z",
     "shell.execute_reply": "2025-07-28T11:05:00.717243Z"
    },
    "papermill": {
     "duration": 0.027243,
     "end_time": "2025-07-28T11:05:00.719918",
     "exception": false,
     "start_time": "2025-07-28T11:05:00.692675",
     "status": "completed"
    },
    "tags": []
   },
   "outputs": [
    {
     "name": "stdout",
     "output_type": "stream",
     "text": [
      "Current working directory: /dss/dsshome1/0C/ra93lal2/cma/CMA_Fairness_v2\n"
     ]
    }
   ],
   "source": [
    "import os\n",
    "print(\"Current working directory:\", os.getcwd())"
   ]
  },
  {
   "cell_type": "code",
   "execution_count": 3,
   "id": "2dce4c03",
   "metadata": {
    "execution": {
     "iopub.execute_input": "2025-07-28T11:05:00.763635Z",
     "iopub.status.busy": "2025-07-28T11:05:00.762603Z",
     "iopub.status.idle": "2025-07-28T11:05:00.769331Z",
     "shell.execute_reply": "2025-07-28T11:05:00.768289Z"
    },
    "papermill": {
     "duration": 0.03022,
     "end_time": "2025-07-28T11:05:00.771234",
     "exception": false,
     "start_time": "2025-07-28T11:05:00.741014",
     "status": "completed"
    },
    "tags": [
     "parameters"
    ]
   },
   "outputs": [],
   "source": [
    "run_no = 0\n",
    "universe_id = \"test\"\n",
    "universe = {\n",
    "    \"training_size\": \"2014\", # \"25k\", \"5k\", \"1k\", \"2014\"\n",
    "    \"scale\": \"scale\", # \"scale\", \"do-not-scale\",\n",
    "    #\"stratify_split\": \"target\", # \"none\", \"target\", \"protected-attribute\", \"both\",\n",
    "    \"model\": \"elasticnet\", # \"logreg\", \"penalized_logreg\", \"rf\", \"gbm\", \"elasticnet\"\n",
    "    \"cutoff\": [\"quantile_0.15\", \"quantile_0.30\"],\n",
    "    \"exclude_features\": \"age\", # \"none\", \"nationality\", \"sex\", \"nationality-sex\", \"age\"\n",
    "    \"exclude_subgroups\": \"keep-all\", # \"keep-all\", \"drop-non-german\"\n",
    "    \"eval_fairness_grouping\": [\"majority-minority\", \"nationality-all\"]\n",
    "}\n",
    "\n",
    "output_dir=\"./output\"\n",
    "seed=0"
   ]
  },
  {
   "cell_type": "code",
   "execution_count": 4,
   "id": "bb7fc6ea",
   "metadata": {
    "execution": {
     "iopub.execute_input": "2025-07-28T11:05:00.815722Z",
     "iopub.status.busy": "2025-07-28T11:05:00.814688Z",
     "iopub.status.idle": "2025-07-28T11:05:00.820459Z",
     "shell.execute_reply": "2025-07-28T11:05:00.819455Z"
    },
    "papermill": {
     "duration": 0.029472,
     "end_time": "2025-07-28T11:05:00.822021",
     "exception": false,
     "start_time": "2025-07-28T11:05:00.792549",
     "status": "completed"
    },
    "tags": [
     "injected-parameters"
    ]
   },
   "outputs": [],
   "source": [
    "# Parameters\n",
    "universe_id = \"0d9247a37c5aa890a49e9358a7952f54\"\n",
    "run_no = \"11\"\n",
    "universe = \"{\\\"cutoff\\\": [\\\"quantile_0.1\\\", \\\"quantile_0.25\\\"], \\\"eval_fairness_grouping\\\": [\\\"majority-minority\\\", \\\"nationality-all\\\"], \\\"exclude_features\\\": \\\"none\\\", \\\"exclude_subgroups\\\": \\\"keep-all\\\", \\\"model\\\": \\\"rf\\\", \\\"scale\\\": \\\"do-not-scale\\\", \\\"training_size\\\": \\\"2014\\\"}\"\n",
    "output_dir = \"output\"\n",
    "seed = \"2023\"\n"
   ]
  },
  {
   "cell_type": "code",
   "execution_count": 5,
   "id": "1650acaf",
   "metadata": {
    "execution": {
     "iopub.execute_input": "2025-07-28T11:05:00.867765Z",
     "iopub.status.busy": "2025-07-28T11:05:00.866725Z",
     "iopub.status.idle": "2025-07-28T11:05:00.872989Z",
     "shell.execute_reply": "2025-07-28T11:05:00.871925Z"
    },
    "papermill": {
     "duration": 0.031296,
     "end_time": "2025-07-28T11:05:00.874792",
     "exception": false,
     "start_time": "2025-07-28T11:05:00.843496",
     "status": "completed"
    },
    "tags": []
   },
   "outputs": [],
   "source": [
    "import json\n",
    "# Parse universe into dict if it is passed as a string\n",
    "if isinstance(universe, str):\n",
    "    universe = json.loads(universe)"
   ]
  },
  {
   "cell_type": "code",
   "execution_count": 6,
   "id": "16620c48",
   "metadata": {
    "execution": {
     "iopub.execute_input": "2025-07-28T11:05:00.920809Z",
     "iopub.status.busy": "2025-07-28T11:05:00.919951Z",
     "iopub.status.idle": "2025-07-28T11:05:00.968018Z",
     "shell.execute_reply": "2025-07-28T11:05:00.966875Z"
    },
    "papermill": {
     "duration": 0.073401,
     "end_time": "2025-07-28T11:05:00.970392",
     "exception": false,
     "start_time": "2025-07-28T11:05:00.896991",
     "status": "completed"
    },
    "tags": []
   },
   "outputs": [],
   "source": [
    "# Auto-reload the custom package\n",
    "%load_ext autoreload\n",
    "%autoreload 1\n",
    "%aimport fairness_multiverse"
   ]
  },
  {
   "cell_type": "code",
   "execution_count": 7,
   "id": "01c5c9f3",
   "metadata": {
    "execution": {
     "iopub.execute_input": "2025-07-28T11:05:00.999879Z",
     "iopub.status.busy": "2025-07-28T11:05:00.999594Z",
     "iopub.status.idle": "2025-07-28T11:05:02.432708Z",
     "shell.execute_reply": "2025-07-28T11:05:02.431732Z"
    },
    "papermill": {
     "duration": 1.446083,
     "end_time": "2025-07-28T11:05:02.434318",
     "exception": false,
     "start_time": "2025-07-28T11:05:00.988235",
     "status": "completed"
    },
    "tags": []
   },
   "outputs": [],
   "source": [
    "from fairness_multiverse.universe import UniverseAnalysis\n",
    "\n",
    "universe_analysis = UniverseAnalysis(\n",
    "    run_no = run_no,\n",
    "    universe_id = universe_id,\n",
    "    universe = universe,\n",
    "    output_dir=output_dir,\n",
    ")"
   ]
  },
  {
   "cell_type": "code",
   "execution_count": 8,
   "id": "106241f5",
   "metadata": {
    "execution": {
     "iopub.execute_input": "2025-07-28T11:05:02.459293Z",
     "iopub.status.busy": "2025-07-28T11:05:02.458694Z",
     "iopub.status.idle": "2025-07-28T11:05:02.465486Z",
     "shell.execute_reply": "2025-07-28T11:05:02.464575Z"
    },
    "papermill": {
     "duration": 0.01949,
     "end_time": "2025-07-28T11:05:02.466947",
     "exception": false,
     "start_time": "2025-07-28T11:05:02.447457",
     "status": "completed"
    },
    "tags": []
   },
   "outputs": [
    {
     "name": "stdout",
     "output_type": "stream",
     "text": [
      "Using Seed: 2023\n"
     ]
    }
   ],
   "source": [
    "import numpy as np\n",
    "parsed_seed = int(seed)\n",
    "np.random.seed(parsed_seed)\n",
    "print(f\"Using Seed: {parsed_seed}\")"
   ]
  },
  {
   "cell_type": "markdown",
   "id": "e0ebdc57",
   "metadata": {
    "papermill": {
     "duration": 0.010067,
     "end_time": "2025-07-28T11:05:02.488320",
     "exception": false,
     "start_time": "2025-07-28T11:05:02.478253",
     "status": "completed"
    },
    "tags": []
   },
   "source": [
    "# Loading Data"
   ]
  },
  {
   "cell_type": "markdown",
   "id": "681925a3",
   "metadata": {
    "papermill": {
     "duration": 0.010146,
     "end_time": "2025-07-28T11:05:02.509110",
     "exception": false,
     "start_time": "2025-07-28T11:05:02.498964",
     "status": "completed"
    },
    "tags": []
   },
   "source": [
    "Load siab_train, siab_test, siab_calib and/or \n",
    "load siab_train_features, siab_train_labels"
   ]
  },
  {
   "cell_type": "code",
   "execution_count": 9,
   "id": "f0496b8a",
   "metadata": {
    "execution": {
     "iopub.execute_input": "2025-07-28T11:05:02.531020Z",
     "iopub.status.busy": "2025-07-28T11:05:02.530498Z",
     "iopub.status.idle": "2025-07-28T11:05:14.407695Z",
     "shell.execute_reply": "2025-07-28T11:05:14.406136Z"
    },
    "papermill": {
     "duration": 11.890826,
     "end_time": "2025-07-28T11:05:14.410009",
     "exception": false,
     "start_time": "2025-07-28T11:05:02.519183",
     "status": "completed"
    },
    "tags": []
   },
   "outputs": [
    {
     "name": "stdout",
     "output_type": "stream",
     "text": [
      "Loading SIAB data from cache: data/siab_cached.csv.gz\n"
     ]
    },
    {
     "name": "stdout",
     "output_type": "stream",
     "text": [
      "(643690, 164)\n"
     ]
    }
   ],
   "source": [
    "from pathlib import Path\n",
    "import pandas as pd\n",
    "\n",
    "# File paths\n",
    "raw_file = Path(\"data/raw/siab.csv\")\n",
    "cache_file = Path(\"data/siab_cached.csv.gz\")\n",
    "\n",
    "# Ensure cache directory exists\n",
    "cache_file.parent.mkdir(parents=True, exist_ok=True)\n",
    "\n",
    "# Load with simple caching\n",
    "if cache_file.exists():\n",
    "    print(f\"Loading SIAB data from cache: {cache_file}\")\n",
    "    siab = pd.read_csv(cache_file, compression='gzip')\n",
    "else:\n",
    "    print(f\"Cache not found. Reading raw SIAB data: {raw_file}\")\n",
    "    siab = pd.read_csv(raw_file)\n",
    "    siab.to_csv(cache_file, index=False, compression='gzip')\n",
    "    print(f\"Cached SIAB data to: {cache_file}\")\n",
    "\n",
    "# Now use `siab` DataFrame as needed\n",
    "print(siab.shape)"
   ]
  },
  {
   "cell_type": "code",
   "execution_count": 10,
   "id": "db0ca512-5f53-4dba-abdb-a2888bca41ba",
   "metadata": {
    "execution": {
     "iopub.execute_input": "2025-07-28T11:05:14.462769Z",
     "iopub.status.busy": "2025-07-28T11:05:14.461946Z",
     "iopub.status.idle": "2025-07-28T11:05:14.468620Z",
     "shell.execute_reply": "2025-07-28T11:05:14.467375Z"
    },
    "papermill": {
     "duration": 0.034556,
     "end_time": "2025-07-28T11:05:14.470723",
     "exception": false,
     "start_time": "2025-07-28T11:05:14.436167",
     "status": "completed"
    },
    "tags": []
   },
   "outputs": [],
   "source": [
    "#siab"
   ]
  },
  {
   "cell_type": "code",
   "execution_count": 11,
   "id": "a0edb063",
   "metadata": {
    "execution": {
     "iopub.execute_input": "2025-07-28T11:05:14.521613Z",
     "iopub.status.busy": "2025-07-28T11:05:14.520844Z",
     "iopub.status.idle": "2025-07-28T11:05:14.526964Z",
     "shell.execute_reply": "2025-07-28T11:05:14.525769Z"
    },
    "papermill": {
     "duration": 0.033619,
     "end_time": "2025-07-28T11:05:14.528711",
     "exception": false,
     "start_time": "2025-07-28T11:05:14.495092",
     "status": "completed"
    },
    "tags": []
   },
   "outputs": [],
   "source": [
    "#import pandas as pd\n",
    "#\n",
    "#X_train = pd.read_csv(\"./data/X_train.csv\")\n",
    "#y_train = pd.read_csv(\"./data/y_train.csv\")"
   ]
  },
  {
   "cell_type": "code",
   "execution_count": 12,
   "id": "63d08085",
   "metadata": {
    "execution": {
     "iopub.execute_input": "2025-07-28T11:05:14.580299Z",
     "iopub.status.busy": "2025-07-28T11:05:14.579491Z",
     "iopub.status.idle": "2025-07-28T11:05:14.585359Z",
     "shell.execute_reply": "2025-07-28T11:05:14.583969Z"
    },
    "papermill": {
     "duration": 0.033515,
     "end_time": "2025-07-28T11:05:14.587238",
     "exception": false,
     "start_time": "2025-07-28T11:05:14.553723",
     "status": "completed"
    },
    "tags": []
   },
   "outputs": [],
   "source": [
    "#X_test = pd.read_csv(\"./data/X_test.csv\")\n",
    "#y_true = pd.read_csv(\"./data/y_test.csv\")"
   ]
  },
  {
   "cell_type": "code",
   "execution_count": 13,
   "id": "98a8d0fa-1d3d-4ed8-bb2c-281470e24add",
   "metadata": {
    "execution": {
     "iopub.execute_input": "2025-07-28T11:05:14.631068Z",
     "iopub.status.busy": "2025-07-28T11:05:14.630306Z",
     "iopub.status.idle": "2025-07-28T11:05:14.635939Z",
     "shell.execute_reply": "2025-07-28T11:05:14.634978Z"
    },
    "papermill": {
     "duration": 0.02976,
     "end_time": "2025-07-28T11:05:14.637686",
     "exception": false,
     "start_time": "2025-07-28T11:05:14.607926",
     "status": "completed"
    },
    "tags": []
   },
   "outputs": [],
   "source": [
    "# Calibration data for conformal\n",
    "#X_calib = pd.read_csv(\"./data/X_calib.csv\")\n",
    "#y_calib = pd.read_csv(\"./data/y_calib.csv\")"
   ]
  },
  {
   "cell_type": "markdown",
   "id": "9901737e-04df-44f0-9100-f5ad144ed040",
   "metadata": {
    "papermill": {
     "duration": 0.024705,
     "end_time": "2025-07-28T11:05:14.685484",
     "exception": false,
     "start_time": "2025-07-28T11:05:14.660779",
     "status": "completed"
    },
    "tags": []
   },
   "source": [
    "# Splitting Data and Setting Training Data Size"
   ]
  },
  {
   "cell_type": "code",
   "execution_count": 14,
   "id": "acbc8f7d-8fc8-4e86-8c59-5dcb0f58384b",
   "metadata": {
    "execution": {
     "iopub.execute_input": "2025-07-28T11:05:14.737535Z",
     "iopub.status.busy": "2025-07-28T11:05:14.736810Z",
     "iopub.status.idle": "2025-07-28T11:05:14.746331Z",
     "shell.execute_reply": "2025-07-28T11:05:14.745136Z"
    },
    "papermill": {
     "duration": 0.038523,
     "end_time": "2025-07-28T11:05:14.748744",
     "exception": false,
     "start_time": "2025-07-28T11:05:14.710221",
     "status": "completed"
    },
    "tags": []
   },
   "outputs": [],
   "source": [
    "def sample_by_year(df, training_size, random_state=42):\n",
    "    if training_size == \"2014\":\n",
    "        return df[df[\"year\"] == 2014].reset_index(drop=True)\n",
    "    \n",
    "    size_map = {\n",
    "        \"25k\": 5000,\n",
    "        \"5k\": 1000,\n",
    "        \"1k\": 200\n",
    "    }\n",
    "\n",
    "    if training_size not in size_map:\n",
    "        return df.reset_index(drop=True)  # use all data\n",
    "\n",
    "    n_per_year = size_map[training_size]\n",
    "    grouped = df.groupby(\"year\")\n",
    "    sampled = grouped.apply(lambda x: x.sample(n=min(n_per_year, len(x)), random_state=random_state))\n",
    "    return sampled.reset_index(drop=True)"
   ]
  },
  {
   "cell_type": "code",
   "execution_count": 15,
   "id": "6d931f52-beaf-43ff-9e78-9d44a448d54e",
   "metadata": {
    "execution": {
     "iopub.execute_input": "2025-07-28T11:05:14.801046Z",
     "iopub.status.busy": "2025-07-28T11:05:14.800478Z",
     "iopub.status.idle": "2025-07-28T11:05:14.965058Z",
     "shell.execute_reply": "2025-07-28T11:05:14.964018Z"
    },
    "papermill": {
     "duration": 0.193189,
     "end_time": "2025-07-28T11:05:14.967313",
     "exception": false,
     "start_time": "2025-07-28T11:05:14.774124",
     "status": "completed"
    },
    "tags": []
   },
   "outputs": [],
   "source": [
    "siab_s = sample_by_year(siab, universe[\"training_size\"])"
   ]
  },
  {
   "cell_type": "code",
   "execution_count": 16,
   "id": "5db0a40e-a4e2-4920-be85-b12ae061d70d",
   "metadata": {
    "execution": {
     "iopub.execute_input": "2025-07-28T11:05:15.021070Z",
     "iopub.status.busy": "2025-07-28T11:05:15.019894Z",
     "iopub.status.idle": "2025-07-28T11:05:15.038188Z",
     "shell.execute_reply": "2025-07-28T11:05:15.037060Z"
    },
    "papermill": {
     "duration": 0.047221,
     "end_time": "2025-07-28T11:05:15.040275",
     "exception": false,
     "start_time": "2025-07-28T11:05:14.993054",
     "status": "completed"
    },
    "tags": []
   },
   "outputs": [
    {
     "data": {
      "text/plain": [
       "year\n",
       "2014    87158\n",
       "dtype: int64"
      ]
     },
     "metadata": {},
     "output_type": "display_data"
    }
   ],
   "source": [
    "display(siab_s.groupby(\"year\").size())"
   ]
  },
  {
   "cell_type": "code",
   "execution_count": 17,
   "id": "a561edb4-d032-42cb-8256-22eac1111c64",
   "metadata": {
    "execution": {
     "iopub.execute_input": "2025-07-28T11:05:15.101509Z",
     "iopub.status.busy": "2025-07-28T11:05:15.100940Z",
     "iopub.status.idle": "2025-07-28T11:05:15.531559Z",
     "shell.execute_reply": "2025-07-28T11:05:15.530248Z"
    },
    "papermill": {
     "duration": 0.468241,
     "end_time": "2025-07-28T11:05:15.533602",
     "exception": false,
     "start_time": "2025-07-28T11:05:15.065361",
     "status": "completed"
    },
    "tags": []
   },
   "outputs": [],
   "source": [
    "siab_train = siab_s[siab_s.year < 2015]\n",
    "siab_calib = siab[siab.year == 2015]\n",
    "siab_test = siab[siab.year == 2016]"
   ]
  },
  {
   "cell_type": "code",
   "execution_count": 18,
   "id": "472de16f-c3db-4916-846b-1f0de9cf1746",
   "metadata": {
    "execution": {
     "iopub.execute_input": "2025-07-28T11:05:15.578757Z",
     "iopub.status.busy": "2025-07-28T11:05:15.577886Z",
     "iopub.status.idle": "2025-07-28T11:05:15.651104Z",
     "shell.execute_reply": "2025-07-28T11:05:15.649799Z"
    },
    "papermill": {
     "duration": 0.09843,
     "end_time": "2025-07-28T11:05:15.653945",
     "exception": false,
     "start_time": "2025-07-28T11:05:15.555515",
     "status": "completed"
    },
    "tags": []
   },
   "outputs": [],
   "source": [
    "X_train = siab_train.iloc[:,4:164]\n",
    "y_train = siab_train.iloc[:, [3]]"
   ]
  },
  {
   "cell_type": "code",
   "execution_count": 19,
   "id": "828c96af-f43a-4ed6-ba47-8ac73a47d56c",
   "metadata": {
    "execution": {
     "iopub.execute_input": "2025-07-28T11:05:15.702404Z",
     "iopub.status.busy": "2025-07-28T11:05:15.701698Z",
     "iopub.status.idle": "2025-07-28T11:05:15.769074Z",
     "shell.execute_reply": "2025-07-28T11:05:15.767750Z"
    },
    "papermill": {
     "duration": 0.092258,
     "end_time": "2025-07-28T11:05:15.771177",
     "exception": false,
     "start_time": "2025-07-28T11:05:15.678919",
     "status": "completed"
    },
    "tags": []
   },
   "outputs": [],
   "source": [
    "X_calib = siab_calib.iloc[:,4:164]\n",
    "y_calib = siab_calib.iloc[:, [3]]"
   ]
  },
  {
   "cell_type": "code",
   "execution_count": 20,
   "id": "c34be9c3-6bd6-476e-acd3-845840e303be",
   "metadata": {
    "execution": {
     "iopub.execute_input": "2025-07-28T11:05:15.817618Z",
     "iopub.status.busy": "2025-07-28T11:05:15.816962Z",
     "iopub.status.idle": "2025-07-28T11:05:15.887086Z",
     "shell.execute_reply": "2025-07-28T11:05:15.885920Z"
    },
    "papermill": {
     "duration": 0.094533,
     "end_time": "2025-07-28T11:05:15.888989",
     "exception": false,
     "start_time": "2025-07-28T11:05:15.794456",
     "status": "completed"
    },
    "tags": []
   },
   "outputs": [],
   "source": [
    "X_test = siab_test.iloc[:,4:164]\n",
    "y_true = siab_test.iloc[:, [3]]"
   ]
  },
  {
   "cell_type": "code",
   "execution_count": 21,
   "id": "e6c733c5",
   "metadata": {
    "execution": {
     "iopub.execute_input": "2025-07-28T11:05:15.934287Z",
     "iopub.status.busy": "2025-07-28T11:05:15.933802Z",
     "iopub.status.idle": "2025-07-28T11:05:16.125477Z",
     "shell.execute_reply": "2025-07-28T11:05:16.124428Z"
    },
    "papermill": {
     "duration": 0.215884,
     "end_time": "2025-07-28T11:05:16.127583",
     "exception": false,
     "start_time": "2025-07-28T11:05:15.911699",
     "status": "completed"
    },
    "tags": []
   },
   "outputs": [],
   "source": [
    "# Auxiliary data needed downstream in the pipeline\n",
    "\n",
    "org_train = X_train.copy()\n",
    "org_test = X_test.copy()\n",
    "org_calib = X_calib.copy()"
   ]
  },
  {
   "cell_type": "markdown",
   "id": "0a4a1b33",
   "metadata": {
    "papermill": {
     "duration": 0.022101,
     "end_time": "2025-07-28T11:05:16.171860",
     "exception": false,
     "start_time": "2025-07-28T11:05:16.149759",
     "status": "completed"
    },
    "tags": []
   },
   "source": [
    "# Preprocessing Data"
   ]
  },
  {
   "cell_type": "code",
   "execution_count": 22,
   "id": "ca879031",
   "metadata": {
    "execution": {
     "iopub.execute_input": "2025-07-28T11:05:16.216701Z",
     "iopub.status.busy": "2025-07-28T11:05:16.215978Z",
     "iopub.status.idle": "2025-07-28T11:05:16.223159Z",
     "shell.execute_reply": "2025-07-28T11:05:16.221910Z"
    },
    "papermill": {
     "duration": 0.031996,
     "end_time": "2025-07-28T11:05:16.225031",
     "exception": false,
     "start_time": "2025-07-28T11:05:16.193035",
     "status": "completed"
    },
    "tags": []
   },
   "outputs": [],
   "source": [
    "# EXCLUDE PROTECTED FEATURES\n",
    "# ----------------------\n",
    "# \"exclude_features\": \"none\", # \"nationality\", \"sex\", \"nationality-sex\"\n",
    "\n",
    "excluded_features = universe[\"exclude_features\"].split(\"-\") # split, e.g.: \"nationality-sex\" -> [\"nationality\", \"sex\"]\n",
    "excluded_features_dictionary = {\n",
    "    \"nationality\": [\"maxdeutsch1\", \"maxdeutsch.Missing.\"],\n",
    "    \"sex\": [\"frau1\"],\n",
    "    \"age\": [\"age\"],\n",
    "}\n"
   ]
  },
  {
   "cell_type": "code",
   "execution_count": 23,
   "id": "b745ac60",
   "metadata": {
    "execution": {
     "iopub.execute_input": "2025-07-28T11:05:16.270895Z",
     "iopub.status.busy": "2025-07-28T11:05:16.270364Z",
     "iopub.status.idle": "2025-07-28T11:05:16.277543Z",
     "shell.execute_reply": "2025-07-28T11:05:16.276390Z"
    },
    "papermill": {
     "duration": 0.03219,
     "end_time": "2025-07-28T11:05:16.279608",
     "exception": false,
     "start_time": "2025-07-28T11:05:16.247418",
     "status": "completed"
    },
    "tags": []
   },
   "outputs": [],
   "source": [
    "# Code nice names to column names\n",
    "\n",
    "excluded_features_columns = [\n",
    "    excluded_features_dictionary[f] for f in excluded_features if len(f) > 0 and f != \"none\"\n",
    "]"
   ]
  },
  {
   "cell_type": "code",
   "execution_count": 24,
   "id": "f84f73a2",
   "metadata": {
    "execution": {
     "iopub.execute_input": "2025-07-28T11:05:16.326666Z",
     "iopub.status.busy": "2025-07-28T11:05:16.325904Z",
     "iopub.status.idle": "2025-07-28T11:05:16.332975Z",
     "shell.execute_reply": "2025-07-28T11:05:16.331972Z"
    },
    "papermill": {
     "duration": 0.032444,
     "end_time": "2025-07-28T11:05:16.334755",
     "exception": false,
     "start_time": "2025-07-28T11:05:16.302311",
     "status": "completed"
    },
    "tags": []
   },
   "outputs": [],
   "source": [
    "from utils import flatten_once\n",
    "\n",
    "excluded_features_columns = flatten_once(excluded_features_columns)"
   ]
  },
  {
   "cell_type": "code",
   "execution_count": 25,
   "id": "884dea22",
   "metadata": {
    "execution": {
     "iopub.execute_input": "2025-07-28T11:05:16.381476Z",
     "iopub.status.busy": "2025-07-28T11:05:16.380739Z",
     "iopub.status.idle": "2025-07-28T11:05:16.387611Z",
     "shell.execute_reply": "2025-07-28T11:05:16.386496Z"
    },
    "papermill": {
     "duration": 0.032824,
     "end_time": "2025-07-28T11:05:16.389523",
     "exception": false,
     "start_time": "2025-07-28T11:05:16.356699",
     "status": "completed"
    },
    "tags": []
   },
   "outputs": [],
   "source": [
    "if len(excluded_features_columns) > 0:\n",
    "    print(f\"Dropping features: {excluded_features_columns}\")\n",
    "    X_train.drop(excluded_features_columns, axis=1, inplace=True)"
   ]
  },
  {
   "cell_type": "code",
   "execution_count": 26,
   "id": "95ab8b16",
   "metadata": {
    "execution": {
     "iopub.execute_input": "2025-07-28T11:05:16.436276Z",
     "iopub.status.busy": "2025-07-28T11:05:16.435196Z",
     "iopub.status.idle": "2025-07-28T11:05:16.442045Z",
     "shell.execute_reply": "2025-07-28T11:05:16.440843Z"
    },
    "papermill": {
     "duration": 0.031774,
     "end_time": "2025-07-28T11:05:16.443801",
     "exception": false,
     "start_time": "2025-07-28T11:05:16.412027",
     "status": "completed"
    },
    "tags": []
   },
   "outputs": [],
   "source": [
    "if len(excluded_features_columns) > 0:\n",
    "    print(f\"Dropping features: {excluded_features_columns}\")\n",
    "    X_test.drop(excluded_features_columns, axis=1, inplace=True)"
   ]
  },
  {
   "cell_type": "code",
   "execution_count": 27,
   "id": "1853aaf5-fb9f-46cb-a2b5-8ea4ae2237e4",
   "metadata": {
    "execution": {
     "iopub.execute_input": "2025-07-28T11:05:16.489960Z",
     "iopub.status.busy": "2025-07-28T11:05:16.489265Z",
     "iopub.status.idle": "2025-07-28T11:05:16.495530Z",
     "shell.execute_reply": "2025-07-28T11:05:16.494419Z"
    },
    "papermill": {
     "duration": 0.03094,
     "end_time": "2025-07-28T11:05:16.497436",
     "exception": false,
     "start_time": "2025-07-28T11:05:16.466496",
     "status": "completed"
    },
    "tags": []
   },
   "outputs": [],
   "source": [
    "if len(excluded_features_columns) > 0:\n",
    "    print(f\"Dropping features: {excluded_features_columns}\")\n",
    "    X_calib.drop(excluded_features_columns, axis=1, inplace=True)"
   ]
  },
  {
   "cell_type": "code",
   "execution_count": 28,
   "id": "6727d079-03e5-481e-9d38-292a90b7a0a8",
   "metadata": {
    "execution": {
     "iopub.execute_input": "2025-07-28T11:05:16.549317Z",
     "iopub.status.busy": "2025-07-28T11:05:16.548807Z",
     "iopub.status.idle": "2025-07-28T11:05:16.554609Z",
     "shell.execute_reply": "2025-07-28T11:05:16.553492Z"
    },
    "papermill": {
     "duration": 0.036038,
     "end_time": "2025-07-28T11:05:16.556764",
     "exception": false,
     "start_time": "2025-07-28T11:05:16.520726",
     "status": "completed"
    },
    "tags": []
   },
   "outputs": [],
   "source": [
    "# SPLIT & STRATIFY DATA\n",
    "# ----------------------"
   ]
  },
  {
   "cell_type": "code",
   "execution_count": 29,
   "id": "76c4dc6d",
   "metadata": {
    "execution": {
     "iopub.execute_input": "2025-07-28T11:05:16.611342Z",
     "iopub.status.busy": "2025-07-28T11:05:16.610582Z",
     "iopub.status.idle": "2025-07-28T11:05:16.617028Z",
     "shell.execute_reply": "2025-07-28T11:05:16.615910Z"
    },
    "papermill": {
     "duration": 0.035931,
     "end_time": "2025-07-28T11:05:16.619021",
     "exception": false,
     "start_time": "2025-07-28T11:05:16.583090",
     "status": "completed"
    },
    "tags": []
   },
   "outputs": [],
   "source": [
    "# EXCLUDE CERTAIN SUBGROUPS\n",
    "# ----------------------\n",
    "\n",
    "mode = universe.get(\"exclude_subgroups\", \"keep-all\") \n",
    "# Fetches the exclude_subgroups setting from the universe dict.\n",
    "# Defaults to \"keep-all\" if the key is missing."
   ]
  },
  {
   "cell_type": "code",
   "execution_count": 30,
   "id": "21994072",
   "metadata": {
    "execution": {
     "iopub.execute_input": "2025-07-28T11:05:16.666672Z",
     "iopub.status.busy": "2025-07-28T11:05:16.665385Z",
     "iopub.status.idle": "2025-07-28T11:05:16.673350Z",
     "shell.execute_reply": "2025-07-28T11:05:16.672252Z"
    },
    "papermill": {
     "duration": 0.033432,
     "end_time": "2025-07-28T11:05:16.675314",
     "exception": false,
     "start_time": "2025-07-28T11:05:16.641882",
     "status": "completed"
    },
    "tags": []
   },
   "outputs": [],
   "source": [
    "if mode == \"keep-all\":\n",
    "    keep_mask = pd.Series(True, index=org_train.index)\n",
    "\n",
    "# org_train contains the original feature columns from features_org (in Simson)\n",
    "# features_org contains unprocessed features, for me X_train at beginning ???\n",
    "# For keep-all, creates a boolean Series (keep_mask) of all True, so no rows are removed.\n",
    "\n",
    "elif mode == \"drop-non-german\":\n",
    "    keep_mask = org_train[\"maxdeutsch1\"] == 1 # ??? what about missing values?\n",
    "\n",
    "else:\n",
    "    raise ValueError(f\"Unsupported mode for exclude_subgroups: {mode}\")\n"
   ]
  },
  {
   "cell_type": "code",
   "execution_count": 31,
   "id": "71651440",
   "metadata": {
    "execution": {
     "iopub.execute_input": "2025-07-28T11:05:16.722921Z",
     "iopub.status.busy": "2025-07-28T11:05:16.722242Z",
     "iopub.status.idle": "2025-07-28T11:05:16.729245Z",
     "shell.execute_reply": "2025-07-28T11:05:16.728272Z"
    },
    "papermill": {
     "duration": 0.032704,
     "end_time": "2025-07-28T11:05:16.731097",
     "exception": false,
     "start_time": "2025-07-28T11:05:16.698393",
     "status": "completed"
    },
    "tags": []
   },
   "outputs": [],
   "source": [
    "n_drop = (~keep_mask).sum() # Calculates how many rows are set to be dropped\n",
    "if n_drop > 0:\n",
    "    pct = n_drop / len(keep_mask) * 100\n",
    "    print(f\"Dropping {n_drop} rows ({pct:.2f}%) where mode='{mode}'\")"
   ]
  },
  {
   "cell_type": "code",
   "execution_count": 32,
   "id": "5fb8eee5",
   "metadata": {
    "execution": {
     "iopub.execute_input": "2025-07-28T11:05:16.778764Z",
     "iopub.status.busy": "2025-07-28T11:05:16.778070Z",
     "iopub.status.idle": "2025-07-28T11:05:16.847423Z",
     "shell.execute_reply": "2025-07-28T11:05:16.846504Z"
    },
    "papermill": {
     "duration": 0.107662,
     "end_time": "2025-07-28T11:05:16.861379",
     "exception": false,
     "start_time": "2025-07-28T11:05:16.753717",
     "status": "completed"
    },
    "tags": []
   },
   "outputs": [],
   "source": [
    "X_train = X_train[keep_mask]"
   ]
  },
  {
   "cell_type": "code",
   "execution_count": 33,
   "id": "b202bb3a",
   "metadata": {
    "execution": {
     "iopub.execute_input": "2025-07-28T11:05:16.909465Z",
     "iopub.status.busy": "2025-07-28T11:05:16.908899Z",
     "iopub.status.idle": "2025-07-28T11:05:16.917083Z",
     "shell.execute_reply": "2025-07-28T11:05:16.916088Z"
    },
    "papermill": {
     "duration": 0.033157,
     "end_time": "2025-07-28T11:05:16.918725",
     "exception": false,
     "start_time": "2025-07-28T11:05:16.885568",
     "status": "completed"
    },
    "tags": []
   },
   "outputs": [],
   "source": [
    "y_train = y_train[keep_mask]"
   ]
  },
  {
   "cell_type": "markdown",
   "id": "493e2ac3",
   "metadata": {
    "papermill": {
     "duration": 0.020458,
     "end_time": "2025-07-28T11:05:16.961861",
     "exception": false,
     "start_time": "2025-07-28T11:05:16.941403",
     "status": "completed"
    },
    "tags": []
   },
   "source": [
    "# Model Training"
   ]
  },
  {
   "cell_type": "code",
   "execution_count": 34,
   "id": "679e1268",
   "metadata": {
    "execution": {
     "iopub.execute_input": "2025-07-28T11:05:17.008160Z",
     "iopub.status.busy": "2025-07-28T11:05:17.007598Z",
     "iopub.status.idle": "2025-07-28T11:05:17.122053Z",
     "shell.execute_reply": "2025-07-28T11:05:17.120937Z"
    },
    "papermill": {
     "duration": 0.14123,
     "end_time": "2025-07-28T11:05:17.124514",
     "exception": false,
     "start_time": "2025-07-28T11:05:16.983284",
     "status": "completed"
    },
    "tags": []
   },
   "outputs": [],
   "source": [
    "from sklearn.linear_model import LogisticRegression\n",
    "from sklearn.ensemble import GradientBoostingClassifier, RandomForestClassifier\n",
    "\n",
    "if (universe[\"model\"] == \"logreg\"):\n",
    "    model = LogisticRegression() #penalty=\"none\") #, solver=\"newton-cg\", max_iter=1) # include random_state=19 ?\n",
    "elif (universe[\"model\"] == \"penalized_logreg\"):\n",
    "    model = LogisticRegression(penalty=\"l2\", C=1.0) #, solver=\"newton-cg\", max_iter=1)\n",
    "elif (universe[\"model\"] == \"rf\"):\n",
    "    model = RandomForestClassifier(n_estimators=100, n_jobs=-1)\n",
    "elif (universe[\"model\"] == \"gbm\"):\n",
    "    model = GradientBoostingClassifier()\n",
    "elif (universe[\"model\"] == \"elasticnet\"):\n",
    "    model = LogisticRegression(penalty = 'elasticnet', solver = 'saga', l1_ratio = 0.5, max_iter=5000) # which solver to use?\n",
    "else:\n",
    "    raise \"Unsupported universe.model\""
   ]
  },
  {
   "cell_type": "code",
   "execution_count": 35,
   "id": "0cc8f744",
   "metadata": {
    "execution": {
     "iopub.execute_input": "2025-07-28T11:05:17.169799Z",
     "iopub.status.busy": "2025-07-28T11:05:17.169098Z",
     "iopub.status.idle": "2025-07-28T11:05:17.176219Z",
     "shell.execute_reply": "2025-07-28T11:05:17.175195Z"
    },
    "papermill": {
     "duration": 0.0318,
     "end_time": "2025-07-28T11:05:17.177950",
     "exception": false,
     "start_time": "2025-07-28T11:05:17.146150",
     "status": "completed"
    },
    "tags": []
   },
   "outputs": [],
   "source": [
    "import numpy as np\n",
    "from sklearn.pipeline import Pipeline\n",
    "from sklearn.preprocessing import StandardScaler\n",
    "\n",
    "model = Pipeline([\n",
    "    #(\"continuous_processor\", continuous_processor),\n",
    "    #(\"categorical_preprocessor\", categorical_preprocessor),\n",
    "    (\"scale\", StandardScaler() if universe[\"scale\"] == \"scale\" else None), \n",
    "    (\"model\", model),\n",
    "])"
   ]
  },
  {
   "cell_type": "code",
   "execution_count": 36,
   "id": "9442c04d",
   "metadata": {
    "execution": {
     "iopub.execute_input": "2025-07-28T11:05:17.222187Z",
     "iopub.status.busy": "2025-07-28T11:05:17.221644Z",
     "iopub.status.idle": "2025-07-28T11:05:29.253779Z",
     "shell.execute_reply": "2025-07-28T11:05:29.252757Z"
    },
    "papermill": {
     "duration": 12.055677,
     "end_time": "2025-07-28T11:05:29.255520",
     "exception": false,
     "start_time": "2025-07-28T11:05:17.199843",
     "status": "completed"
    },
    "tags": []
   },
   "outputs": [
    {
     "data": {
      "text/html": [
       "<style>#sk-container-id-1 {color: black;background-color: white;}#sk-container-id-1 pre{padding: 0;}#sk-container-id-1 div.sk-toggleable {background-color: white;}#sk-container-id-1 label.sk-toggleable__label {cursor: pointer;display: block;width: 100%;margin-bottom: 0;padding: 0.3em;box-sizing: border-box;text-align: center;}#sk-container-id-1 label.sk-toggleable__label-arrow:before {content: \"▸\";float: left;margin-right: 0.25em;color: #696969;}#sk-container-id-1 label.sk-toggleable__label-arrow:hover:before {color: black;}#sk-container-id-1 div.sk-estimator:hover label.sk-toggleable__label-arrow:before {color: black;}#sk-container-id-1 div.sk-toggleable__content {max-height: 0;max-width: 0;overflow: hidden;text-align: left;background-color: #f0f8ff;}#sk-container-id-1 div.sk-toggleable__content pre {margin: 0.2em;color: black;border-radius: 0.25em;background-color: #f0f8ff;}#sk-container-id-1 input.sk-toggleable__control:checked~div.sk-toggleable__content {max-height: 200px;max-width: 100%;overflow: auto;}#sk-container-id-1 input.sk-toggleable__control:checked~label.sk-toggleable__label-arrow:before {content: \"▾\";}#sk-container-id-1 div.sk-estimator input.sk-toggleable__control:checked~label.sk-toggleable__label {background-color: #d4ebff;}#sk-container-id-1 div.sk-label input.sk-toggleable__control:checked~label.sk-toggleable__label {background-color: #d4ebff;}#sk-container-id-1 input.sk-hidden--visually {border: 0;clip: rect(1px 1px 1px 1px);clip: rect(1px, 1px, 1px, 1px);height: 1px;margin: -1px;overflow: hidden;padding: 0;position: absolute;width: 1px;}#sk-container-id-1 div.sk-estimator {font-family: monospace;background-color: #f0f8ff;border: 1px dotted black;border-radius: 0.25em;box-sizing: border-box;margin-bottom: 0.5em;}#sk-container-id-1 div.sk-estimator:hover {background-color: #d4ebff;}#sk-container-id-1 div.sk-parallel-item::after {content: \"\";width: 100%;border-bottom: 1px solid gray;flex-grow: 1;}#sk-container-id-1 div.sk-label:hover label.sk-toggleable__label {background-color: #d4ebff;}#sk-container-id-1 div.sk-serial::before {content: \"\";position: absolute;border-left: 1px solid gray;box-sizing: border-box;top: 0;bottom: 0;left: 50%;z-index: 0;}#sk-container-id-1 div.sk-serial {display: flex;flex-direction: column;align-items: center;background-color: white;padding-right: 0.2em;padding-left: 0.2em;position: relative;}#sk-container-id-1 div.sk-item {position: relative;z-index: 1;}#sk-container-id-1 div.sk-parallel {display: flex;align-items: stretch;justify-content: center;background-color: white;position: relative;}#sk-container-id-1 div.sk-item::before, #sk-container-id-1 div.sk-parallel-item::before {content: \"\";position: absolute;border-left: 1px solid gray;box-sizing: border-box;top: 0;bottom: 0;left: 50%;z-index: -1;}#sk-container-id-1 div.sk-parallel-item {display: flex;flex-direction: column;z-index: 1;position: relative;background-color: white;}#sk-container-id-1 div.sk-parallel-item:first-child::after {align-self: flex-end;width: 50%;}#sk-container-id-1 div.sk-parallel-item:last-child::after {align-self: flex-start;width: 50%;}#sk-container-id-1 div.sk-parallel-item:only-child::after {width: 0;}#sk-container-id-1 div.sk-dashed-wrapped {border: 1px dashed gray;margin: 0 0.4em 0.5em 0.4em;box-sizing: border-box;padding-bottom: 0.4em;background-color: white;}#sk-container-id-1 div.sk-label label {font-family: monospace;font-weight: bold;display: inline-block;line-height: 1.2em;}#sk-container-id-1 div.sk-label-container {text-align: center;}#sk-container-id-1 div.sk-container {/* jupyter's `normalize.less` sets `[hidden] { display: none; }` but bootstrap.min.css set `[hidden] { display: none !important; }` so we also need the `!important` here to be able to override the default hidden behavior on the sphinx rendered scikit-learn.org. See: https://github.com/scikit-learn/scikit-learn/issues/21755 */display: inline-block !important;position: relative;}#sk-container-id-1 div.sk-text-repr-fallback {display: none;}</style><div id=\"sk-container-id-1\" class=\"sk-top-container\"><div class=\"sk-text-repr-fallback\"><pre>Pipeline(steps=[(&#x27;scale&#x27;, None), (&#x27;model&#x27;, RandomForestClassifier(n_jobs=-1))])</pre><b>In a Jupyter environment, please rerun this cell to show the HTML representation or trust the notebook. <br />On GitHub, the HTML representation is unable to render, please try loading this page with nbviewer.org.</b></div><div class=\"sk-container\" hidden><div class=\"sk-item sk-dashed-wrapped\"><div class=\"sk-label-container\"><div class=\"sk-label sk-toggleable\"><input class=\"sk-toggleable__control sk-hidden--visually\" id=\"sk-estimator-id-1\" type=\"checkbox\" ><label for=\"sk-estimator-id-1\" class=\"sk-toggleable__label sk-toggleable__label-arrow\">Pipeline</label><div class=\"sk-toggleable__content\"><pre>Pipeline(steps=[(&#x27;scale&#x27;, None), (&#x27;model&#x27;, RandomForestClassifier(n_jobs=-1))])</pre></div></div></div><div class=\"sk-serial\"><div class=\"sk-item\"><div class=\"sk-estimator sk-toggleable\"><input class=\"sk-toggleable__control sk-hidden--visually\" id=\"sk-estimator-id-2\" type=\"checkbox\" ><label for=\"sk-estimator-id-2\" class=\"sk-toggleable__label sk-toggleable__label-arrow\">None</label><div class=\"sk-toggleable__content\"><pre>None</pre></div></div></div><div class=\"sk-item\"><div class=\"sk-estimator sk-toggleable\"><input class=\"sk-toggleable__control sk-hidden--visually\" id=\"sk-estimator-id-3\" type=\"checkbox\" ><label for=\"sk-estimator-id-3\" class=\"sk-toggleable__label sk-toggleable__label-arrow\">RandomForestClassifier</label><div class=\"sk-toggleable__content\"><pre>RandomForestClassifier(n_jobs=-1)</pre></div></div></div></div></div></div></div>"
      ],
      "text/plain": [
       "Pipeline(steps=[('scale', None), ('model', RandomForestClassifier(n_jobs=-1))])"
      ]
     },
     "execution_count": 36,
     "metadata": {},
     "output_type": "execute_result"
    }
   ],
   "source": [
    "model.fit(X_train, y_train.values.ravel())"
   ]
  },
  {
   "cell_type": "code",
   "execution_count": 37,
   "id": "af59f8c0",
   "metadata": {
    "execution": {
     "iopub.execute_input": "2025-07-28T11:05:29.306959Z",
     "iopub.status.busy": "2025-07-28T11:05:29.306104Z",
     "iopub.status.idle": "2025-07-28T11:05:29.312231Z",
     "shell.execute_reply": "2025-07-28T11:05:29.311160Z"
    },
    "papermill": {
     "duration": 0.032361,
     "end_time": "2025-07-28T11:05:29.313945",
     "exception": false,
     "start_time": "2025-07-28T11:05:29.281584",
     "status": "completed"
    },
    "tags": []
   },
   "outputs": [],
   "source": [
    "from fairness_multiverse.universe import predict_w_threshold"
   ]
  },
  {
   "cell_type": "code",
   "execution_count": 38,
   "id": "a7cf2e16",
   "metadata": {
    "execution": {
     "iopub.execute_input": "2025-07-28T11:05:29.363947Z",
     "iopub.status.busy": "2025-07-28T11:05:29.363476Z",
     "iopub.status.idle": "2025-07-28T11:05:30.617365Z",
     "shell.execute_reply": "2025-07-28T11:05:30.616539Z"
    },
    "papermill": {
     "duration": 1.280359,
     "end_time": "2025-07-28T11:05:30.618738",
     "exception": false,
     "start_time": "2025-07-28T11:05:29.338379",
     "status": "completed"
    },
    "tags": []
   },
   "outputs": [
    {
     "data": {
      "text/plain": [
       "0.8662579422583881"
      ]
     },
     "execution_count": 38,
     "metadata": {},
     "output_type": "execute_result"
    }
   ],
   "source": [
    "probs_test = model.predict_proba(X_test)\n",
    "\n",
    "'''\n",
    "Below code returns a boolean array (or binary 0/1 array depending on how it’s used) where each element \n",
    "is True if the probability of class 1 is greater than or equal to the threshold, and False otherwise.\n",
    "'''\n",
    "y_pred_default = predict_w_threshold(probs_test, 0.5)\n",
    "\n",
    "from sklearn.metrics import accuracy_score\n",
    "\n",
    "# Naive prediction\n",
    "accuracy_score(y_true = y_true, y_pred = y_pred_default)"
   ]
  },
  {
   "cell_type": "code",
   "execution_count": 39,
   "id": "081964c3",
   "metadata": {
    "execution": {
     "iopub.execute_input": "2025-07-28T11:05:30.645682Z",
     "iopub.status.busy": "2025-07-28T11:05:30.645124Z",
     "iopub.status.idle": "2025-07-28T11:05:32.167081Z",
     "shell.execute_reply": "2025-07-28T11:05:32.166090Z"
    },
    "papermill": {
     "duration": 1.536284,
     "end_time": "2025-07-28T11:05:32.168824",
     "exception": false,
     "start_time": "2025-07-28T11:05:30.632540",
     "status": "completed"
    },
    "tags": []
   },
   "outputs": [
    {
     "data": {
      "text/plain": [
       "array([0, 0, 0, ..., 0, 0, 0])"
      ]
     },
     "execution_count": 39,
     "metadata": {},
     "output_type": "execute_result"
    }
   ],
   "source": [
    "model.predict(X_test)"
   ]
  },
  {
   "cell_type": "markdown",
   "id": "56c9705b",
   "metadata": {
    "papermill": {
     "duration": 0.021271,
     "end_time": "2025-07-28T11:05:32.213714",
     "exception": false,
     "start_time": "2025-07-28T11:05:32.192443",
     "status": "completed"
    },
    "tags": []
   },
   "source": [
    "# Conformal Prediction"
   ]
  },
  {
   "cell_type": "code",
   "execution_count": 40,
   "id": "160ec6ff",
   "metadata": {
    "execution": {
     "iopub.execute_input": "2025-07-28T11:05:32.259685Z",
     "iopub.status.busy": "2025-07-28T11:05:32.259129Z",
     "iopub.status.idle": "2025-07-28T11:05:32.264577Z",
     "shell.execute_reply": "2025-07-28T11:05:32.263559Z"
    },
    "papermill": {
     "duration": 0.03131,
     "end_time": "2025-07-28T11:05:32.266284",
     "exception": false,
     "start_time": "2025-07-28T11:05:32.234974",
     "status": "completed"
    },
    "tags": []
   },
   "outputs": [],
   "source": [
    "# Miscoverage level for conformal prediction (10% allowed error rate => 90% target coverage)\n",
    "alpha = 0.1"
   ]
  },
  {
   "cell_type": "code",
   "execution_count": 41,
   "id": "eadf4555-3dd3-440e-8e35-f82a4ad9f855",
   "metadata": {
    "execution": {
     "iopub.execute_input": "2025-07-28T11:05:32.315340Z",
     "iopub.status.busy": "2025-07-28T11:05:32.314848Z",
     "iopub.status.idle": "2025-07-28T11:05:33.804996Z",
     "shell.execute_reply": "2025-07-28T11:05:33.803943Z"
    },
    "papermill": {
     "duration": 1.517724,
     "end_time": "2025-07-28T11:05:33.807070",
     "exception": false,
     "start_time": "2025-07-28T11:05:32.289346",
     "status": "completed"
    },
    "tags": []
   },
   "outputs": [],
   "source": [
    "probs_calib = model.predict_proba(X_calib)"
   ]
  },
  {
   "cell_type": "code",
   "execution_count": 42,
   "id": "2ed93547-6d5d-4983-9b36-1ecb300da49a",
   "metadata": {
    "execution": {
     "iopub.execute_input": "2025-07-28T11:05:33.841564Z",
     "iopub.status.busy": "2025-07-28T11:05:33.841180Z",
     "iopub.status.idle": "2025-07-28T11:05:33.846392Z",
     "shell.execute_reply": "2025-07-28T11:05:33.845570Z"
    },
    "papermill": {
     "duration": 0.020071,
     "end_time": "2025-07-28T11:05:33.847885",
     "exception": false,
     "start_time": "2025-07-28T11:05:33.827814",
     "status": "completed"
    },
    "tags": []
   },
   "outputs": [],
   "source": [
    "y_calib = y_calib.values.ravel().astype(int)"
   ]
  },
  {
   "cell_type": "code",
   "execution_count": 43,
   "id": "65d1320d-f588-4b38-9072-62af1ae97f7d",
   "metadata": {
    "execution": {
     "iopub.execute_input": "2025-07-28T11:05:33.875042Z",
     "iopub.status.busy": "2025-07-28T11:05:33.874640Z",
     "iopub.status.idle": "2025-07-28T11:05:33.881990Z",
     "shell.execute_reply": "2025-07-28T11:05:33.881109Z"
    },
    "papermill": {
     "duration": 0.02249,
     "end_time": "2025-07-28T11:05:33.883562",
     "exception": false,
     "start_time": "2025-07-28T11:05:33.861072",
     "status": "completed"
    },
    "tags": []
   },
   "outputs": [],
   "source": [
    "from fairness_multiverse.conformal import compute_nc_scores\n",
    "\n",
    "# Compute nonconformity scores on calibration set (1 - probability of true class)\n",
    "nc_scores = compute_nc_scores(probs_calib, y_calib)"
   ]
  },
  {
   "cell_type": "code",
   "execution_count": 44,
   "id": "df3b8ca3-53b7-43d5-9667-7c85da7aeda2",
   "metadata": {
    "execution": {
     "iopub.execute_input": "2025-07-28T11:05:33.943977Z",
     "iopub.status.busy": "2025-07-28T11:05:33.943457Z",
     "iopub.status.idle": "2025-07-28T11:05:33.951381Z",
     "shell.execute_reply": "2025-07-28T11:05:33.949908Z"
    },
    "papermill": {
     "duration": 0.04688,
     "end_time": "2025-07-28T11:05:33.954174",
     "exception": false,
     "start_time": "2025-07-28T11:05:33.907294",
     "status": "completed"
    },
    "tags": []
   },
   "outputs": [],
   "source": [
    "from fairness_multiverse.conformal import find_threshold\n",
    "\n",
    "# Find conformal threshold q_hat for the given alpha (split conformal method)\n",
    "q_hat = find_threshold(nc_scores, alpha)"
   ]
  },
  {
   "cell_type": "code",
   "execution_count": 45,
   "id": "4d29e6c1-0ef6-4aa4-b8fe-4fe79b0d033a",
   "metadata": {
    "execution": {
     "iopub.execute_input": "2025-07-28T11:05:34.006549Z",
     "iopub.status.busy": "2025-07-28T11:05:34.005843Z",
     "iopub.status.idle": "2025-07-28T11:05:34.014272Z",
     "shell.execute_reply": "2025-07-28T11:05:34.012407Z"
    },
    "papermill": {
     "duration": 0.035995,
     "end_time": "2025-07-28T11:05:34.015610",
     "exception": false,
     "start_time": "2025-07-28T11:05:33.979615",
     "status": "completed"
    },
    "tags": []
   },
   "outputs": [
    {
     "data": {
      "text/plain": [
       "0.6599999999999999"
      ]
     },
     "execution_count": 45,
     "metadata": {},
     "output_type": "execute_result"
    }
   ],
   "source": [
    "q_hat"
   ]
  },
  {
   "cell_type": "code",
   "execution_count": 46,
   "id": "92460794-cdac-4be2-ba28-f28c0515a6fb",
   "metadata": {
    "execution": {
     "iopub.execute_input": "2025-07-28T11:05:34.043906Z",
     "iopub.status.busy": "2025-07-28T11:05:34.043362Z",
     "iopub.status.idle": "2025-07-28T11:05:36.192992Z",
     "shell.execute_reply": "2025-07-28T11:05:36.190608Z"
    },
    "papermill": {
     "duration": 2.165358,
     "end_time": "2025-07-28T11:05:36.195072",
     "exception": false,
     "start_time": "2025-07-28T11:05:34.029714",
     "status": "completed"
    },
    "tags": []
   },
   "outputs": [],
   "source": [
    "from fairness_multiverse.conformal import predict_conformal_sets\n",
    "\n",
    "# Generate prediction sets for each test example\n",
    "pred_sets = predict_conformal_sets(model, X_test, q_hat)"
   ]
  },
  {
   "cell_type": "code",
   "execution_count": 47,
   "id": "d90c9a65-e6db-4f5d-80cd-e68fb7e46829",
   "metadata": {
    "execution": {
     "iopub.execute_input": "2025-07-28T11:05:36.271870Z",
     "iopub.status.busy": "2025-07-28T11:05:36.270754Z",
     "iopub.status.idle": "2025-07-28T11:05:36.277186Z",
     "shell.execute_reply": "2025-07-28T11:05:36.276148Z"
    },
    "papermill": {
     "duration": 0.033001,
     "end_time": "2025-07-28T11:05:36.279837",
     "exception": false,
     "start_time": "2025-07-28T11:05:36.246836",
     "status": "completed"
    },
    "tags": []
   },
   "outputs": [],
   "source": [
    "y_true = y_true.squeeze()"
   ]
  },
  {
   "cell_type": "code",
   "execution_count": 48,
   "id": "3a58a54a-1e68-46b9-927a-df01f18aebc8",
   "metadata": {
    "execution": {
     "iopub.execute_input": "2025-07-28T11:05:36.327888Z",
     "iopub.status.busy": "2025-07-28T11:05:36.327484Z",
     "iopub.status.idle": "2025-07-28T11:05:37.587181Z",
     "shell.execute_reply": "2025-07-28T11:05:37.586187Z"
    },
    "papermill": {
     "duration": 1.288527,
     "end_time": "2025-07-28T11:05:37.591839",
     "exception": false,
     "start_time": "2025-07-28T11:05:36.303312",
     "status": "completed"
    },
    "tags": []
   },
   "outputs": [],
   "source": [
    "from fairness_multiverse.conformal import evaluate_sets\n",
    "\n",
    "# Evaluate coverage and average set size on test data\n",
    "metrics = evaluate_sets(pred_sets, y_true)"
   ]
  },
  {
   "cell_type": "markdown",
   "id": "2b569c12-9aaa-4c88-98c9-bbcd0cf3ebb8",
   "metadata": {
    "papermill": {
     "duration": 0.054718,
     "end_time": "2025-07-28T11:05:37.690910",
     "exception": false,
     "start_time": "2025-07-28T11:05:37.636192",
     "status": "completed"
    },
    "tags": []
   },
   "source": [
    "# CP Metrics"
   ]
  },
  {
   "cell_type": "code",
   "execution_count": 49,
   "id": "5ce0a5cb-201f-45a0-ade5-94c7f0bd6095",
   "metadata": {
    "execution": {
     "iopub.execute_input": "2025-07-28T11:05:37.804260Z",
     "iopub.status.busy": "2025-07-28T11:05:37.803760Z",
     "iopub.status.idle": "2025-07-28T11:05:37.811499Z",
     "shell.execute_reply": "2025-07-28T11:05:37.810542Z"
    },
    "papermill": {
     "duration": 0.061515,
     "end_time": "2025-07-28T11:05:37.813316",
     "exception": false,
     "start_time": "2025-07-28T11:05:37.751801",
     "status": "completed"
    },
    "tags": []
   },
   "outputs": [
    {
     "data": {
      "text/plain": [
       "{'coverage': 0.9175119830565155, 'avg_size': 1.144387470739048}"
      ]
     },
     "execution_count": 49,
     "metadata": {},
     "output_type": "execute_result"
    }
   ],
   "source": [
    "metrics"
   ]
  },
  {
   "cell_type": "code",
   "execution_count": 50,
   "id": "9b9a838d-31c9-430b-ae14-12baee460d17",
   "metadata": {
    "execution": {
     "iopub.execute_input": "2025-07-28T11:05:37.884859Z",
     "iopub.status.busy": "2025-07-28T11:05:37.884455Z",
     "iopub.status.idle": "2025-07-28T11:05:37.891596Z",
     "shell.execute_reply": "2025-07-28T11:05:37.890497Z"
    },
    "papermill": {
     "duration": 0.043553,
     "end_time": "2025-07-28T11:05:37.893287",
     "exception": false,
     "start_time": "2025-07-28T11:05:37.849734",
     "status": "completed"
    },
    "tags": []
   },
   "outputs": [],
   "source": [
    "example_universe = universe.copy()\n",
    "universe_training_size = example_universe.get(\"training_size\")\n",
    "universe_scale = example_universe.get(\"scale\")\n",
    "universe_model = example_universe.get(\"model\")\n",
    "universe_exclude_features = example_universe.get(\"exclude_features\")\n",
    "universe_exclude_subgroups = example_universe.get(\"exclude_subgroups\")"
   ]
  },
  {
   "cell_type": "code",
   "execution_count": 51,
   "id": "f4b6a8ac-9dc0-4245-8a91-5b3b5999c4f9",
   "metadata": {
    "execution": {
     "iopub.execute_input": "2025-07-28T11:05:37.997074Z",
     "iopub.status.busy": "2025-07-28T11:05:37.996622Z",
     "iopub.status.idle": "2025-07-28T11:05:38.005910Z",
     "shell.execute_reply": "2025-07-28T11:05:38.004579Z"
    },
    "papermill": {
     "duration": 0.068229,
     "end_time": "2025-07-28T11:05:38.008417",
     "exception": false,
     "start_time": "2025-07-28T11:05:37.940188",
     "status": "completed"
    },
    "tags": []
   },
   "outputs": [],
   "source": [
    "cp_metrics_dict = {\n",
    "    \"universe_id\": [universe_id],\n",
    "    \"universe_training_size\": [universe_training_size],\n",
    "    \"universe_scale\": [universe_scale],\n",
    "    \"universe_model\": [universe_model],\n",
    "    \"universe_exclude_features\": [universe_exclude_features],\n",
    "    \"universe_exclude_subgroups\": [universe_exclude_subgroups],\n",
    "    \"q_hat\": [q_hat],\n",
    "    \"coverage\": [metrics[\"coverage\"]],\n",
    "    \"avg_size\": [metrics[\"avg_size\"]],\n",
    "}"
   ]
  },
  {
   "cell_type": "code",
   "execution_count": 52,
   "id": "908acbb1-0371-4915-85ca-3fa520d2efe2",
   "metadata": {
    "execution": {
     "iopub.execute_input": "2025-07-28T11:05:38.098507Z",
     "iopub.status.busy": "2025-07-28T11:05:38.098079Z",
     "iopub.status.idle": "2025-07-28T11:05:38.109043Z",
     "shell.execute_reply": "2025-07-28T11:05:38.107687Z"
    },
    "papermill": {
     "duration": 0.065864,
     "end_time": "2025-07-28T11:05:38.110770",
     "exception": false,
     "start_time": "2025-07-28T11:05:38.044906",
     "status": "completed"
    },
    "tags": []
   },
   "outputs": [
    {
     "data": {
      "text/plain": [
       "{'universe_id': ['0d9247a37c5aa890a49e9358a7952f54'],\n",
       " 'universe_training_size': ['2014'],\n",
       " 'universe_scale': ['do-not-scale'],\n",
       " 'universe_model': ['rf'],\n",
       " 'universe_exclude_features': ['none'],\n",
       " 'universe_exclude_subgroups': ['keep-all'],\n",
       " 'q_hat': [0.6599999999999999],\n",
       " 'coverage': [0.9175119830565155],\n",
       " 'avg_size': [1.144387470739048]}"
      ]
     },
     "execution_count": 52,
     "metadata": {},
     "output_type": "execute_result"
    }
   ],
   "source": [
    "cp_metrics_dict"
   ]
  },
  {
   "cell_type": "code",
   "execution_count": 53,
   "id": "33007efc-14e9-4ec6-97ac-56a455c82265",
   "metadata": {
    "execution": {
     "iopub.execute_input": "2025-07-28T11:05:38.219485Z",
     "iopub.status.busy": "2025-07-28T11:05:38.219033Z",
     "iopub.status.idle": "2025-07-28T11:05:38.228023Z",
     "shell.execute_reply": "2025-07-28T11:05:38.226779Z"
    },
    "papermill": {
     "duration": 0.061992,
     "end_time": "2025-07-28T11:05:38.230655",
     "exception": false,
     "start_time": "2025-07-28T11:05:38.168663",
     "status": "completed"
    },
    "tags": []
   },
   "outputs": [],
   "source": [
    "cp_metrics_df = pd.DataFrame(cp_metrics_dict)"
   ]
  },
  {
   "cell_type": "code",
   "execution_count": 54,
   "id": "db12611b-57b2-4910-b9d0-355adfd6e7bf",
   "metadata": {
    "execution": {
     "iopub.execute_input": "2025-07-28T11:05:38.350284Z",
     "iopub.status.busy": "2025-07-28T11:05:38.349834Z",
     "iopub.status.idle": "2025-07-28T11:05:38.381503Z",
     "shell.execute_reply": "2025-07-28T11:05:38.380400Z"
    },
    "papermill": {
     "duration": 0.095279,
     "end_time": "2025-07-28T11:05:38.383263",
     "exception": false,
     "start_time": "2025-07-28T11:05:38.287984",
     "status": "completed"
    },
    "tags": []
   },
   "outputs": [
    {
     "data": {
      "text/html": [
       "<div>\n",
       "<style scoped>\n",
       "    .dataframe tbody tr th:only-of-type {\n",
       "        vertical-align: middle;\n",
       "    }\n",
       "\n",
       "    .dataframe tbody tr th {\n",
       "        vertical-align: top;\n",
       "    }\n",
       "\n",
       "    .dataframe thead th {\n",
       "        text-align: right;\n",
       "    }\n",
       "</style>\n",
       "<table border=\"1\" class=\"dataframe\">\n",
       "  <thead>\n",
       "    <tr style=\"text-align: right;\">\n",
       "      <th></th>\n",
       "      <th>universe_id</th>\n",
       "      <th>universe_training_size</th>\n",
       "      <th>universe_scale</th>\n",
       "      <th>universe_model</th>\n",
       "      <th>universe_exclude_features</th>\n",
       "      <th>universe_exclude_subgroups</th>\n",
       "      <th>q_hat</th>\n",
       "      <th>coverage</th>\n",
       "      <th>avg_size</th>\n",
       "    </tr>\n",
       "  </thead>\n",
       "  <tbody>\n",
       "    <tr>\n",
       "      <th>0</th>\n",
       "      <td>0d9247a37c5aa890a49e9358a7952f54</td>\n",
       "      <td>2014</td>\n",
       "      <td>do-not-scale</td>\n",
       "      <td>rf</td>\n",
       "      <td>none</td>\n",
       "      <td>keep-all</td>\n",
       "      <td>0.66</td>\n",
       "      <td>0.917512</td>\n",
       "      <td>1.144387</td>\n",
       "    </tr>\n",
       "  </tbody>\n",
       "</table>\n",
       "</div>"
      ],
      "text/plain": [
       "                        universe_id universe_training_size universe_scale  \\\n",
       "0  0d9247a37c5aa890a49e9358a7952f54                   2014   do-not-scale   \n",
       "\n",
       "  universe_model universe_exclude_features universe_exclude_subgroups  q_hat  \\\n",
       "0             rf                      none                   keep-all   0.66   \n",
       "\n",
       "   coverage  avg_size  \n",
       "0  0.917512  1.144387  "
      ]
     },
     "execution_count": 54,
     "metadata": {},
     "output_type": "execute_result"
    }
   ],
   "source": [
    "cp_metrics_df"
   ]
  },
  {
   "cell_type": "code",
   "execution_count": 55,
   "id": "b7fbde55-a0a1-47e4-9af6-fe4a17fa8c61",
   "metadata": {
    "execution": {
     "iopub.execute_input": "2025-07-28T11:05:38.492011Z",
     "iopub.status.busy": "2025-07-28T11:05:38.491494Z",
     "iopub.status.idle": "2025-07-28T11:05:38.498555Z",
     "shell.execute_reply": "2025-07-28T11:05:38.497460Z"
    },
    "papermill": {
     "duration": 0.071263,
     "end_time": "2025-07-28T11:05:38.500495",
     "exception": false,
     "start_time": "2025-07-28T11:05:38.429232",
     "status": "completed"
    },
    "tags": []
   },
   "outputs": [],
   "source": [
    "# Conditional Coverage & looking at subgroups"
   ]
  },
  {
   "cell_type": "code",
   "execution_count": 56,
   "id": "027ae886-68dd-4141-96c7-805a5450e1ef",
   "metadata": {
    "execution": {
     "iopub.execute_input": "2025-07-28T11:05:38.577858Z",
     "iopub.status.busy": "2025-07-28T11:05:38.577301Z",
     "iopub.status.idle": "2025-07-28T11:05:39.109480Z",
     "shell.execute_reply": "2025-07-28T11:05:39.108115Z"
    },
    "papermill": {
     "duration": 0.561385,
     "end_time": "2025-07-28T11:05:39.111673",
     "exception": false,
     "start_time": "2025-07-28T11:05:38.550288",
     "status": "completed"
    },
    "tags": []
   },
   "outputs": [],
   "source": [
    "from fairness_multiverse.conformal import build_cp_groups\n",
    "\n",
    "cp_groups_df = build_cp_groups(pred_sets, y_true, X_test.index, org_test)\n",
    "#needs universe_id and setting"
   ]
  },
  {
   "cell_type": "code",
   "execution_count": 57,
   "id": "01d5802c-663a-4d1f-9d69-e036faaffbf7",
   "metadata": {
    "execution": {
     "iopub.execute_input": "2025-07-28T11:05:39.212332Z",
     "iopub.status.busy": "2025-07-28T11:05:39.211881Z",
     "iopub.status.idle": "2025-07-28T11:05:39.217445Z",
     "shell.execute_reply": "2025-07-28T11:05:39.216326Z"
    },
    "papermill": {
     "duration": 0.058179,
     "end_time": "2025-07-28T11:05:39.219209",
     "exception": false,
     "start_time": "2025-07-28T11:05:39.161030",
     "status": "completed"
    },
    "tags": []
   },
   "outputs": [],
   "source": [
    "#delete\n",
    "#cp_groups_df"
   ]
  },
  {
   "cell_type": "code",
   "execution_count": 58,
   "id": "fa424af1-d1eb-443d-b717-2d279ada8408",
   "metadata": {
    "execution": {
     "iopub.execute_input": "2025-07-28T11:05:39.342750Z",
     "iopub.status.busy": "2025-07-28T11:05:39.342303Z",
     "iopub.status.idle": "2025-07-28T11:05:39.347882Z",
     "shell.execute_reply": "2025-07-28T11:05:39.346799Z"
    },
    "papermill": {
     "duration": 0.065549,
     "end_time": "2025-07-28T11:05:39.349863",
     "exception": false,
     "start_time": "2025-07-28T11:05:39.284314",
     "status": "completed"
    },
    "tags": []
   },
   "outputs": [],
   "source": [
    "#delete\n",
    "#percentage = (cp_groups_df['nongerman_female'] == 1).mean() * 100\n",
    "#print(percentage)\n"
   ]
  },
  {
   "cell_type": "code",
   "execution_count": 59,
   "id": "6cbdab96-b2b2-45af-ad54-d0516db2e28d",
   "metadata": {
    "execution": {
     "iopub.execute_input": "2025-07-28T11:05:39.463561Z",
     "iopub.status.busy": "2025-07-28T11:05:39.463127Z",
     "iopub.status.idle": "2025-07-28T11:05:41.957422Z",
     "shell.execute_reply": "2025-07-28T11:05:41.956122Z"
    },
    "papermill": {
     "duration": 2.557824,
     "end_time": "2025-07-28T11:05:41.959565",
     "exception": false,
     "start_time": "2025-07-28T11:05:39.401741",
     "status": "completed"
    },
    "tags": []
   },
   "outputs": [],
   "source": [
    "# Define covered = 1 if true_label is in the predicted set\n",
    "cp_groups_df['covered'] = cp_groups_df.apply(\n",
    "    lambda r: int(r['true_label'] in r['pred_set']),\n",
    "    axis=1\n",
    ")"
   ]
  },
  {
   "cell_type": "code",
   "execution_count": 60,
   "id": "338ff529-1a6b-4b87-a931-8e4788d52aad",
   "metadata": {
    "execution": {
     "iopub.execute_input": "2025-07-28T11:05:42.052090Z",
     "iopub.status.busy": "2025-07-28T11:05:42.051532Z",
     "iopub.status.idle": "2025-07-28T11:05:42.056794Z",
     "shell.execute_reply": "2025-07-28T11:05:42.055793Z"
    },
    "papermill": {
     "duration": 0.047272,
     "end_time": "2025-07-28T11:05:42.060021",
     "exception": false,
     "start_time": "2025-07-28T11:05:42.012749",
     "status": "completed"
    },
    "tags": []
   },
   "outputs": [],
   "source": [
    "#cp_groups_df"
   ]
  },
  {
   "cell_type": "code",
   "execution_count": 61,
   "id": "90032e27-66df-4540-9169-4e89cfbaa758",
   "metadata": {
    "execution": {
     "iopub.execute_input": "2025-07-28T11:05:42.147470Z",
     "iopub.status.busy": "2025-07-28T11:05:42.147029Z",
     "iopub.status.idle": "2025-07-28T11:05:42.177332Z",
     "shell.execute_reply": "2025-07-28T11:05:42.176101Z"
    },
    "papermill": {
     "duration": 0.059267,
     "end_time": "2025-07-28T11:05:42.179541",
     "exception": false,
     "start_time": "2025-07-28T11:05:42.120274",
     "status": "completed"
    },
    "tags": []
   },
   "outputs": [],
   "source": [
    "subgroups = ['frau1','nongerman','nongerman_male','nongerman_female']\n",
    "\n",
    "# Conditional coverage for subgroup==1\n",
    "cond_coverage = {\n",
    "    g: cp_groups_df.loc[cp_groups_df[g]==1, 'covered'].mean()\n",
    "    for g in subgroups\n",
    "}"
   ]
  },
  {
   "cell_type": "code",
   "execution_count": 62,
   "id": "1e348fb1-b9c3-45bc-ba23-f016827a7e0d",
   "metadata": {
    "execution": {
     "iopub.execute_input": "2025-07-28T11:05:42.235530Z",
     "iopub.status.busy": "2025-07-28T11:05:42.235109Z",
     "iopub.status.idle": "2025-07-28T11:05:42.243009Z",
     "shell.execute_reply": "2025-07-28T11:05:42.242109Z"
    },
    "papermill": {
     "duration": 0.043113,
     "end_time": "2025-07-28T11:05:42.248971",
     "exception": false,
     "start_time": "2025-07-28T11:05:42.205858",
     "status": "completed"
    },
    "tags": []
   },
   "outputs": [
    {
     "data": {
      "text/plain": [
       "{'frau1': 0.9185334950801994,\n",
       " 'nongerman': 0.9142760904957054,\n",
       " 'nongerman_male': 0.92704674412321,\n",
       " 'nongerman_female': 0.8931445603576751}"
      ]
     },
     "execution_count": 62,
     "metadata": {},
     "output_type": "execute_result"
    }
   ],
   "source": [
    "cond_coverage"
   ]
  },
  {
   "cell_type": "code",
   "execution_count": 63,
   "id": "f5093324-c3dd-4d63-bc4c-8d945e5c8bbb",
   "metadata": {
    "execution": {
     "iopub.execute_input": "2025-07-28T11:05:42.365603Z",
     "iopub.status.busy": "2025-07-28T11:05:42.365161Z",
     "iopub.status.idle": "2025-07-28T11:05:42.374059Z",
     "shell.execute_reply": "2025-07-28T11:05:42.373015Z"
    },
    "papermill": {
     "duration": 0.073938,
     "end_time": "2025-07-28T11:05:42.375826",
     "exception": false,
     "start_time": "2025-07-28T11:05:42.301888",
     "status": "completed"
    },
    "tags": []
   },
   "outputs": [],
   "source": [
    "for subgroup, cov in cond_coverage.items():\n",
    "    cp_metrics_df[f\"cov_{subgroup}\"] = cov"
   ]
  },
  {
   "cell_type": "code",
   "execution_count": 64,
   "id": "6e872e10-dbe5-49e8-b554-5030c98ff75d",
   "metadata": {
    "execution": {
     "iopub.execute_input": "2025-07-28T11:05:42.497157Z",
     "iopub.status.busy": "2025-07-28T11:05:42.496709Z",
     "iopub.status.idle": "2025-07-28T11:05:42.532579Z",
     "shell.execute_reply": "2025-07-28T11:05:42.531420Z"
    },
    "papermill": {
     "duration": 0.10064,
     "end_time": "2025-07-28T11:05:42.534515",
     "exception": false,
     "start_time": "2025-07-28T11:05:42.433875",
     "status": "completed"
    },
    "tags": []
   },
   "outputs": [
    {
     "data": {
      "text/html": [
       "<div>\n",
       "<style scoped>\n",
       "    .dataframe tbody tr th:only-of-type {\n",
       "        vertical-align: middle;\n",
       "    }\n",
       "\n",
       "    .dataframe tbody tr th {\n",
       "        vertical-align: top;\n",
       "    }\n",
       "\n",
       "    .dataframe thead th {\n",
       "        text-align: right;\n",
       "    }\n",
       "</style>\n",
       "<table border=\"1\" class=\"dataframe\">\n",
       "  <thead>\n",
       "    <tr style=\"text-align: right;\">\n",
       "      <th></th>\n",
       "      <th>universe_id</th>\n",
       "      <th>universe_training_size</th>\n",
       "      <th>universe_scale</th>\n",
       "      <th>universe_model</th>\n",
       "      <th>universe_exclude_features</th>\n",
       "      <th>universe_exclude_subgroups</th>\n",
       "      <th>q_hat</th>\n",
       "      <th>coverage</th>\n",
       "      <th>avg_size</th>\n",
       "      <th>cov_frau1</th>\n",
       "      <th>cov_nongerman</th>\n",
       "      <th>cov_nongerman_male</th>\n",
       "      <th>cov_nongerman_female</th>\n",
       "    </tr>\n",
       "  </thead>\n",
       "  <tbody>\n",
       "    <tr>\n",
       "      <th>0</th>\n",
       "      <td>0d9247a37c5aa890a49e9358a7952f54</td>\n",
       "      <td>2014</td>\n",
       "      <td>do-not-scale</td>\n",
       "      <td>rf</td>\n",
       "      <td>none</td>\n",
       "      <td>keep-all</td>\n",
       "      <td>0.66</td>\n",
       "      <td>0.917512</td>\n",
       "      <td>1.144387</td>\n",
       "      <td>0.918533</td>\n",
       "      <td>0.914276</td>\n",
       "      <td>0.927047</td>\n",
       "      <td>0.893145</td>\n",
       "    </tr>\n",
       "  </tbody>\n",
       "</table>\n",
       "</div>"
      ],
      "text/plain": [
       "                        universe_id universe_training_size universe_scale  \\\n",
       "0  0d9247a37c5aa890a49e9358a7952f54                   2014   do-not-scale   \n",
       "\n",
       "  universe_model universe_exclude_features universe_exclude_subgroups  q_hat  \\\n",
       "0             rf                      none                   keep-all   0.66   \n",
       "\n",
       "   coverage  avg_size  cov_frau1  cov_nongerman  cov_nongerman_male  \\\n",
       "0  0.917512  1.144387   0.918533       0.914276            0.927047   \n",
       "\n",
       "   cov_nongerman_female  \n",
       "0              0.893145  "
      ]
     },
     "execution_count": 64,
     "metadata": {},
     "output_type": "execute_result"
    }
   ],
   "source": [
    "cp_metrics_df"
   ]
  },
  {
   "cell_type": "markdown",
   "id": "33774451",
   "metadata": {
    "papermill": {
     "duration": 0.043791,
     "end_time": "2025-07-28T11:05:42.638598",
     "exception": false,
     "start_time": "2025-07-28T11:05:42.594807",
     "status": "completed"
    },
    "tags": []
   },
   "source": [
    "# (Fairness) Metrics"
   ]
  },
  {
   "cell_type": "code",
   "execution_count": 65,
   "id": "debc5d62",
   "metadata": {
    "execution": {
     "iopub.execute_input": "2025-07-28T11:05:42.694923Z",
     "iopub.status.busy": "2025-07-28T11:05:42.694456Z",
     "iopub.status.idle": "2025-07-28T11:05:42.720812Z",
     "shell.execute_reply": "2025-07-28T11:05:42.719712Z"
    },
    "papermill": {
     "duration": 0.056881,
     "end_time": "2025-07-28T11:05:42.722872",
     "exception": false,
     "start_time": "2025-07-28T11:05:42.665991",
     "status": "completed"
    },
    "tags": []
   },
   "outputs": [],
   "source": [
    "# do I need to include maxdeutsch1.missing?\n",
    "\n",
    "import numpy as np\n",
    "\n",
    "colname_to_bin = \"maxdeutsch1\"\n",
    "majority_value = org_train[colname_to_bin].mode()[0]\n",
    "\n",
    "org_test[\"majmin\"] = np.where(org_test[colname_to_bin] == majority_value, \"majority\", \"minority\")"
   ]
  },
  {
   "cell_type": "code",
   "execution_count": 66,
   "id": "06a50de5",
   "metadata": {
    "execution": {
     "iopub.execute_input": "2025-07-28T11:05:42.796294Z",
     "iopub.status.busy": "2025-07-28T11:05:42.795851Z",
     "iopub.status.idle": "2025-07-28T11:05:47.189006Z",
     "shell.execute_reply": "2025-07-28T11:05:47.187148Z"
    },
    "papermill": {
     "duration": 4.440603,
     "end_time": "2025-07-28T11:05:47.191213",
     "exception": false,
     "start_time": "2025-07-28T11:05:42.750610",
     "status": "completed"
    },
    "tags": []
   },
   "outputs": [],
   "source": [
    "example_universe = universe.copy()\n",
    "example_universe[\"cutoff\"] = example_universe[\"cutoff\"][0]\n",
    "example_universe[\"eval_fairness_grouping\"] = example_universe[\"eval_fairness_grouping\"][0]\n",
    "fairness_dict, metric_frame = universe_analysis.compute_metrics(\n",
    "    example_universe,\n",
    "    y_pred_prob=probs_test,\n",
    "    y_test=y_true,\n",
    "    org_test=org_test,\n",
    ")"
   ]
  },
  {
   "cell_type": "markdown",
   "id": "f95d4e02",
   "metadata": {
    "papermill": {
     "duration": 0.030325,
     "end_time": "2025-07-28T11:05:47.281302",
     "exception": false,
     "start_time": "2025-07-28T11:05:47.250977",
     "status": "completed"
    },
    "tags": []
   },
   "source": [
    "# Overall"
   ]
  },
  {
   "cell_type": "markdown",
   "id": "bdee4871",
   "metadata": {
    "papermill": {
     "duration": 0.055222,
     "end_time": "2025-07-28T11:05:47.383560",
     "exception": false,
     "start_time": "2025-07-28T11:05:47.328338",
     "status": "completed"
    },
    "tags": []
   },
   "source": [
    "Fairness\n",
    "Main fairness target: Equalized Odds. Seems to be a better fit than equal opportunity, since we're not only interested in Y = 1. Seems to be a better fit than demographic parity, since we also care about accuracy, not just equal distribution of preds.\n",
    "\n",
    "Pick column for computation of fairness metrics\n",
    "\n",
    "Performance\n",
    "Overall performance measures, most interesting in relation to the measures split by group below"
   ]
  },
  {
   "cell_type": "code",
   "execution_count": 67,
   "id": "c4e067c6",
   "metadata": {
    "execution": {
     "iopub.execute_input": "2025-07-28T11:05:47.445912Z",
     "iopub.status.busy": "2025-07-28T11:05:47.444872Z",
     "iopub.status.idle": "2025-07-28T11:05:47.454492Z",
     "shell.execute_reply": "2025-07-28T11:05:47.453439Z"
    },
    "papermill": {
     "duration": 0.047672,
     "end_time": "2025-07-28T11:05:47.458492",
     "exception": false,
     "start_time": "2025-07-28T11:05:47.410820",
     "status": "completed"
    },
    "tags": []
   },
   "outputs": [
    {
     "data": {
      "text/plain": [
       "accuracy                   0.207703\n",
       "balanced accuracy          0.535995\n",
       "f1                         0.240444\n",
       "precision                  0.137080\n",
       "false positive rate        0.905591\n",
       "false negative rate        0.022419\n",
       "selection rate             0.914826\n",
       "count                  89710.000000\n",
       "dtype: float64"
      ]
     },
     "execution_count": 67,
     "metadata": {},
     "output_type": "execute_result"
    }
   ],
   "source": [
    "metric_frame.overall"
   ]
  },
  {
   "cell_type": "markdown",
   "id": "e968fe9d",
   "metadata": {
    "papermill": {
     "duration": 0.059234,
     "end_time": "2025-07-28T11:05:47.555150",
     "exception": false,
     "start_time": "2025-07-28T11:05:47.495916",
     "status": "completed"
    },
    "tags": []
   },
   "source": [
    "By Group"
   ]
  },
  {
   "cell_type": "code",
   "execution_count": 68,
   "id": "ec325bce",
   "metadata": {
    "execution": {
     "iopub.execute_input": "2025-07-28T11:05:47.666111Z",
     "iopub.status.busy": "2025-07-28T11:05:47.665725Z",
     "iopub.status.idle": "2025-07-28T11:05:47.692518Z",
     "shell.execute_reply": "2025-07-28T11:05:47.691518Z"
    },
    "papermill": {
     "duration": 0.078662,
     "end_time": "2025-07-28T11:05:47.694289",
     "exception": false,
     "start_time": "2025-07-28T11:05:47.615627",
     "status": "completed"
    },
    "tags": []
   },
   "outputs": [
    {
     "data": {
      "text/html": [
       "<div>\n",
       "<style scoped>\n",
       "    .dataframe tbody tr th:only-of-type {\n",
       "        vertical-align: middle;\n",
       "    }\n",
       "\n",
       "    .dataframe tbody tr th {\n",
       "        vertical-align: top;\n",
       "    }\n",
       "\n",
       "    .dataframe thead th {\n",
       "        text-align: right;\n",
       "    }\n",
       "</style>\n",
       "<table border=\"1\" class=\"dataframe\">\n",
       "  <thead>\n",
       "    <tr style=\"text-align: right;\">\n",
       "      <th></th>\n",
       "      <th>accuracy</th>\n",
       "      <th>balanced accuracy</th>\n",
       "      <th>f1</th>\n",
       "      <th>precision</th>\n",
       "      <th>false positive rate</th>\n",
       "      <th>false negative rate</th>\n",
       "      <th>selection rate</th>\n",
       "      <th>count</th>\n",
       "    </tr>\n",
       "    <tr>\n",
       "      <th>majmin</th>\n",
       "      <th></th>\n",
       "      <th></th>\n",
       "      <th></th>\n",
       "      <th></th>\n",
       "      <th></th>\n",
       "      <th></th>\n",
       "      <th></th>\n",
       "      <th></th>\n",
       "    </tr>\n",
       "  </thead>\n",
       "  <tbody>\n",
       "    <tr>\n",
       "      <th>majority</th>\n",
       "      <td>0.199031</td>\n",
       "      <td>0.534644</td>\n",
       "      <td>0.246371</td>\n",
       "      <td>0.140676</td>\n",
       "      <td>0.921523</td>\n",
       "      <td>0.00919</td>\n",
       "      <td>0.930678</td>\n",
       "      <td>69170.0</td>\n",
       "    </tr>\n",
       "    <tr>\n",
       "      <th>minority</th>\n",
       "      <td>0.236904</td>\n",
       "      <td>0.536780</td>\n",
       "      <td>0.218722</td>\n",
       "      <td>0.123997</td>\n",
       "      <td>0.852961</td>\n",
       "      <td>0.07348</td>\n",
       "      <td>0.861441</td>\n",
       "      <td>20540.0</td>\n",
       "    </tr>\n",
       "  </tbody>\n",
       "</table>\n",
       "</div>"
      ],
      "text/plain": [
       "          accuracy  balanced accuracy        f1  precision  \\\n",
       "majmin                                                       \n",
       "majority  0.199031           0.534644  0.246371   0.140676   \n",
       "minority  0.236904           0.536780  0.218722   0.123997   \n",
       "\n",
       "          false positive rate  false negative rate  selection rate    count  \n",
       "majmin                                                                       \n",
       "majority             0.921523              0.00919        0.930678  69170.0  \n",
       "minority             0.852961              0.07348        0.861441  20540.0  "
      ]
     },
     "execution_count": 68,
     "metadata": {},
     "output_type": "execute_result"
    }
   ],
   "source": [
    "metric_frame.by_group"
   ]
  },
  {
   "cell_type": "code",
   "execution_count": 69,
   "id": "a9ddbe63",
   "metadata": {
    "execution": {
     "iopub.execute_input": "2025-07-28T11:05:47.800786Z",
     "iopub.status.busy": "2025-07-28T11:05:47.800375Z",
     "iopub.status.idle": "2025-07-28T11:05:51.446393Z",
     "shell.execute_reply": "2025-07-28T11:05:51.445251Z"
    },
    "papermill": {
     "duration": 3.698048,
     "end_time": "2025-07-28T11:05:51.448430",
     "exception": false,
     "start_time": "2025-07-28T11:05:47.750382",
     "status": "completed"
    },
    "tags": []
   },
   "outputs": [
    {
     "data": {
      "text/plain": [
       "array([[<Axes: title={'center': 'accuracy'}, xlabel='majmin'>,\n",
       "        <Axes: title={'center': 'balanced accuracy'}, xlabel='majmin'>,\n",
       "        <Axes: title={'center': 'f1'}, xlabel='majmin'>],\n",
       "       [<Axes: title={'center': 'precision'}, xlabel='majmin'>,\n",
       "        <Axes: title={'center': 'false positive rate'}, xlabel='majmin'>,\n",
       "        <Axes: title={'center': 'false negative rate'}, xlabel='majmin'>],\n",
       "       [<Axes: title={'center': 'selection rate'}, xlabel='majmin'>,\n",
       "        <Axes: title={'center': 'count'}, xlabel='majmin'>,\n",
       "        <Axes: xlabel='majmin'>]], dtype=object)"
      ]
     },
     "execution_count": 69,
     "metadata": {},
     "output_type": "execute_result"
    },
    {
     "data": {
      "image/png": "[encoded data removed]",
      "text/plain": [
       "<Figure size 1200x800 with 9 Axes>"
      ]
     },
     "metadata": {},
     "output_type": "display_data"
    }
   ],
   "source": [
    "# In a graphic\n",
    "metric_frame.by_group.plot.bar(\n",
    "    subplots=True,\n",
    "    layout=[3, 3],\n",
    "    legend=False,\n",
    "    figsize=[12, 8],\n",
    "    title=\"Show all metrics\",\n",
    ")"
   ]
  },
  {
   "cell_type": "markdown",
   "id": "f57a0bac",
   "metadata": {
    "papermill": {
     "duration": 0.052212,
     "end_time": "2025-07-28T11:05:51.556663",
     "exception": false,
     "start_time": "2025-07-28T11:05:51.504451",
     "status": "completed"
    },
    "tags": []
   },
   "source": [
    "# Final Output"
   ]
  },
  {
   "cell_type": "code",
   "execution_count": 70,
   "id": "96d280a3",
   "metadata": {
    "execution": {
     "iopub.execute_input": "2025-07-28T11:05:51.633712Z",
     "iopub.status.busy": "2025-07-28T11:05:51.633107Z",
     "iopub.status.idle": "2025-07-28T11:05:51.644910Z",
     "shell.execute_reply": "2025-07-28T11:05:51.643899Z"
    },
    "papermill": {
     "duration": 0.06171,
     "end_time": "2025-07-28T11:05:51.646853",
     "exception": false,
     "start_time": "2025-07-28T11:05:51.585143",
     "status": "completed"
    },
    "tags": []
   },
   "outputs": [
    {
     "data": {
      "text/plain": [
       "4"
      ]
     },
     "execution_count": 70,
     "metadata": {},
     "output_type": "execute_result"
    }
   ],
   "source": [
    "sub_universes = universe_analysis.generate_sub_universes()\n",
    "len(sub_universes)"
   ]
  },
  {
   "cell_type": "code",
   "execution_count": 71,
   "id": "92adf7ba",
   "metadata": {
    "execution": {
     "iopub.execute_input": "2025-07-28T11:05:51.819884Z",
     "iopub.status.busy": "2025-07-28T11:05:51.819437Z",
     "iopub.status.idle": "2025-07-28T11:05:51.826768Z",
     "shell.execute_reply": "2025-07-28T11:05:51.825622Z"
    },
    "papermill": {
     "duration": 0.122955,
     "end_time": "2025-07-28T11:05:51.829284",
     "exception": false,
     "start_time": "2025-07-28T11:05:51.706329",
     "status": "completed"
    },
    "tags": []
   },
   "outputs": [],
   "source": [
    "def filter_sub_universe_data(sub_universe, org_test):\n",
    "    # Keep all rows — no filtering\n",
    "    keep_rows_mask = np.ones(org_test.shape[0], dtype=bool)\n",
    "\n",
    "    print(f\"[INFO] Keeping all rows: {keep_rows_mask.sum()} rows retained.\")\n",
    "    return keep_rows_mask"
   ]
  },
  {
   "cell_type": "code",
   "execution_count": 72,
   "id": "4a759155",
   "metadata": {
    "execution": {
     "iopub.execute_input": "2025-07-28T11:05:51.999198Z",
     "iopub.status.busy": "2025-07-28T11:05:51.998773Z",
     "iopub.status.idle": "2025-07-28T11:06:17.653957Z",
     "shell.execute_reply": "2025-07-28T11:06:17.652565Z"
    },
    "papermill": {
     "duration": 25.735413,
     "end_time": "2025-07-28T11:06:17.656447",
     "exception": false,
     "start_time": "2025-07-28T11:05:51.921034",
     "status": "completed"
    },
    "tags": []
   },
   "outputs": [
    {
     "name": "stdout",
     "output_type": "stream",
     "text": [
      "Stopping execution_time clock.\n",
      "[INFO] Keeping all rows: 89710 rows retained.\n"
     ]
    },
    {
     "name": "stdout",
     "output_type": "stream",
     "text": [
      "[INFO] Keeping all rows: 89710 rows retained.\n"
     ]
    },
    {
     "name": "stdout",
     "output_type": "stream",
     "text": [
      "[INFO] Keeping all rows: 89710 rows retained.\n"
     ]
    },
    {
     "name": "stdout",
     "output_type": "stream",
     "text": [
      "[INFO] Keeping all rows: 89710 rows retained.\n"
     ]
    },
    {
     "data": {
      "text/html": [
       "<div>\n",
       "<style scoped>\n",
       "    .dataframe tbody tr th:only-of-type {\n",
       "        vertical-align: middle;\n",
       "    }\n",
       "\n",
       "    .dataframe tbody tr th {\n",
       "        vertical-align: top;\n",
       "    }\n",
       "\n",
       "    .dataframe thead th {\n",
       "        text-align: right;\n",
       "    }\n",
       "</style>\n",
       "<table border=\"1\" class=\"dataframe\">\n",
       "  <thead>\n",
       "    <tr style=\"text-align: right;\">\n",
       "      <th></th>\n",
       "      <th>run_no</th>\n",
       "      <th>universe_id</th>\n",
       "      <th>universe_settings</th>\n",
       "      <th>execution_time</th>\n",
       "      <th>test_size_n</th>\n",
       "      <th>test_size_frac</th>\n",
       "      <th>fair_main_equalized_odds_difference</th>\n",
       "      <th>fair_main_equalized_odds_ratio</th>\n",
       "      <th>fair_main_demographic_parity_difference</th>\n",
       "      <th>fair_main_demographic_parity_ratio</th>\n",
       "      <th>...</th>\n",
       "      <th>perf_grp_precision_0</th>\n",
       "      <th>perf_grp_precision_1</th>\n",
       "      <th>perf_grp_false positive rate_0</th>\n",
       "      <th>perf_grp_false positive rate_1</th>\n",
       "      <th>perf_grp_false negative rate_0</th>\n",
       "      <th>perf_grp_false negative rate_1</th>\n",
       "      <th>perf_grp_selection rate_0</th>\n",
       "      <th>perf_grp_selection rate_1</th>\n",
       "      <th>perf_grp_count_0</th>\n",
       "      <th>perf_grp_count_1</th>\n",
       "    </tr>\n",
       "  </thead>\n",
       "  <tbody>\n",
       "    <tr>\n",
       "      <th>0</th>\n",
       "      <td>11</td>\n",
       "      <td>0d9247a37c5aa890a49e9358a7952f54</td>\n",
       "      <td>{\"cutoff\": \"quantile_0.1\", \"eval_fairness_grou...</td>\n",
       "      <td>49.609093</td>\n",
       "      <td>89710</td>\n",
       "      <td>1.0</td>\n",
       "      <td>0.068562</td>\n",
       "      <td>0.925599</td>\n",
       "      <td>0.069237</td>\n",
       "      <td>0.925606</td>\n",
       "      <td>...</td>\n",
       "      <td>NaN</td>\n",
       "      <td>NaN</td>\n",
       "      <td>NaN</td>\n",
       "      <td>NaN</td>\n",
       "      <td>NaN</td>\n",
       "      <td>NaN</td>\n",
       "      <td>NaN</td>\n",
       "      <td>NaN</td>\n",
       "      <td>NaN</td>\n",
       "      <td>NaN</td>\n",
       "    </tr>\n",
       "    <tr>\n",
       "      <th>0</th>\n",
       "      <td>11</td>\n",
       "      <td>0d9247a37c5aa890a49e9358a7952f54</td>\n",
       "      <td>{\"cutoff\": \"quantile_0.1\", \"eval_fairness_grou...</td>\n",
       "      <td>49.609093</td>\n",
       "      <td>89710</td>\n",
       "      <td>1.0</td>\n",
       "      <td>0.068562</td>\n",
       "      <td>0.925599</td>\n",
       "      <td>0.069237</td>\n",
       "      <td>0.925606</td>\n",
       "      <td>...</td>\n",
       "      <td>0.123997</td>\n",
       "      <td>0.140676</td>\n",
       "      <td>0.852961</td>\n",
       "      <td>0.921523</td>\n",
       "      <td>0.073480</td>\n",
       "      <td>0.009190</td>\n",
       "      <td>0.861441</td>\n",
       "      <td>0.930678</td>\n",
       "      <td>20540.0</td>\n",
       "      <td>69170.0</td>\n",
       "    </tr>\n",
       "    <tr>\n",
       "      <th>0</th>\n",
       "      <td>11</td>\n",
       "      <td>0d9247a37c5aa890a49e9358a7952f54</td>\n",
       "      <td>{\"cutoff\": \"quantile_0.25\", \"eval_fairness_gro...</td>\n",
       "      <td>49.609093</td>\n",
       "      <td>89710</td>\n",
       "      <td>1.0</td>\n",
       "      <td>0.106386</td>\n",
       "      <td>0.888821</td>\n",
       "      <td>0.079061</td>\n",
       "      <td>0.897899</td>\n",
       "      <td>...</td>\n",
       "      <td>NaN</td>\n",
       "      <td>NaN</td>\n",
       "      <td>NaN</td>\n",
       "      <td>NaN</td>\n",
       "      <td>NaN</td>\n",
       "      <td>NaN</td>\n",
       "      <td>NaN</td>\n",
       "      <td>NaN</td>\n",
       "      <td>NaN</td>\n",
       "      <td>NaN</td>\n",
       "    </tr>\n",
       "    <tr>\n",
       "      <th>0</th>\n",
       "      <td>11</td>\n",
       "      <td>0d9247a37c5aa890a49e9358a7952f54</td>\n",
       "      <td>{\"cutoff\": \"quantile_0.25\", \"eval_fairness_gro...</td>\n",
       "      <td>49.609093</td>\n",
       "      <td>89710</td>\n",
       "      <td>1.0</td>\n",
       "      <td>0.106386</td>\n",
       "      <td>0.888821</td>\n",
       "      <td>0.079061</td>\n",
       "      <td>0.897899</td>\n",
       "      <td>...</td>\n",
       "      <td>0.141027</td>\n",
       "      <td>0.163290</td>\n",
       "      <td>0.675050</td>\n",
       "      <td>0.746543</td>\n",
       "      <td>0.149493</td>\n",
       "      <td>0.043107</td>\n",
       "      <td>0.695278</td>\n",
       "      <td>0.774339</td>\n",
       "      <td>20540.0</td>\n",
       "      <td>69170.0</td>\n",
       "    </tr>\n",
       "  </tbody>\n",
       "</table>\n",
       "<p>4 rows × 50 columns</p>\n",
       "</div>"
      ],
      "text/plain": [
       "  run_no                       universe_id  \\\n",
       "0     11  0d9247a37c5aa890a49e9358a7952f54   \n",
       "0     11  0d9247a37c5aa890a49e9358a7952f54   \n",
       "0     11  0d9247a37c5aa890a49e9358a7952f54   \n",
       "0     11  0d9247a37c5aa890a49e9358a7952f54   \n",
       "\n",
       "                                   universe_settings  execution_time  \\\n",
       "0  {\"cutoff\": \"quantile_0.1\", \"eval_fairness_grou...       49.609093   \n",
       "0  {\"cutoff\": \"quantile_0.1\", \"eval_fairness_grou...       49.609093   \n",
       "0  {\"cutoff\": \"quantile_0.25\", \"eval_fairness_gro...       49.609093   \n",
       "0  {\"cutoff\": \"quantile_0.25\", \"eval_fairness_gro...       49.609093   \n",
       "\n",
       "   test_size_n  test_size_frac  fair_main_equalized_odds_difference  \\\n",
       "0        89710             1.0                             0.068562   \n",
       "0        89710             1.0                             0.068562   \n",
       "0        89710             1.0                             0.106386   \n",
       "0        89710             1.0                             0.106386   \n",
       "\n",
       "   fair_main_equalized_odds_ratio  fair_main_demographic_parity_difference  \\\n",
       "0                        0.925599                                 0.069237   \n",
       "0                        0.925599                                 0.069237   \n",
       "0                        0.888821                                 0.079061   \n",
       "0                        0.888821                                 0.079061   \n",
       "\n",
       "   fair_main_demographic_parity_ratio  ...  perf_grp_precision_0  \\\n",
       "0                            0.925606  ...                   NaN   \n",
       "0                            0.925606  ...              0.123997   \n",
       "0                            0.897899  ...                   NaN   \n",
       "0                            0.897899  ...              0.141027   \n",
       "\n",
       "   perf_grp_precision_1  perf_grp_false positive rate_0  \\\n",
       "0                   NaN                             NaN   \n",
       "0              0.140676                        0.852961   \n",
       "0                   NaN                             NaN   \n",
       "0              0.163290                        0.675050   \n",
       "\n",
       "   perf_grp_false positive rate_1  perf_grp_false negative rate_0  \\\n",
       "0                             NaN                             NaN   \n",
       "0                        0.921523                        0.073480   \n",
       "0                             NaN                             NaN   \n",
       "0                        0.746543                        0.149493   \n",
       "\n",
       "   perf_grp_false negative rate_1  perf_grp_selection rate_0  \\\n",
       "0                             NaN                        NaN   \n",
       "0                        0.009190                   0.861441   \n",
       "0                             NaN                        NaN   \n",
       "0                        0.043107                   0.695278   \n",
       "\n",
       "   perf_grp_selection rate_1  perf_grp_count_0  perf_grp_count_1  \n",
       "0                        NaN               NaN               NaN  \n",
       "0                   0.930678           20540.0           69170.0  \n",
       "0                        NaN               NaN               NaN  \n",
       "0                   0.774339           20540.0           69170.0  \n",
       "\n",
       "[4 rows x 50 columns]"
      ]
     },
     "execution_count": 72,
     "metadata": {},
     "output_type": "execute_result"
    }
   ],
   "source": [
    "final_output = universe_analysis.generate_final_output(\n",
    "    y_pred_prob=probs_test,\n",
    "    y_test=y_true,\n",
    "    org_test=org_test,\n",
    "    filter_data=filter_sub_universe_data,\n",
    "    cp_metrics_df=cp_metrics_df,\n",
    "    save=True,\n",
    ")\n",
    "final_output"
   ]
  },
  {
   "cell_type": "code",
   "execution_count": null,
   "id": "721ff514-cb11-46f8-b6fc-50392f74b5cb",
   "metadata": {
    "papermill": {
     "duration": 0.034111,
     "end_time": "2025-07-28T11:06:17.745205",
     "exception": false,
     "start_time": "2025-07-28T11:06:17.711094",
     "status": "completed"
    },
    "tags": []
   },
   "outputs": [],
   "source": []
  }
 ],
 "metadata": {
  "celltoolbar": "Tags",
  "kernelspec": {
   "display_name": "Python (CMA Fairness)",
   "language": "python",
   "name": "cma_fair_env"
  },
  "language_info": {
   "codemirror_mode": {
    "name": "ipython",
    "version": 3
   },
   "file_extension": ".py",
   "mimetype": "text/x-python",
   "name": "python",
   "nbconvert_exporter": "python",
   "pygments_lexer": "ipython3",
   "version": "3.10.12"
  },
  "papermill": {
   "default_parameters": {},
   "duration": 79.872261,
   "end_time": "2025-07-28T11:06:19.318929",
   "environment_variables": {},
   "exception": null,
   "input_path": "universe_analysis.ipynb",
   "output_path": "output/runs/11/notebooks/m_11-0d9247a37c5aa890a49e9358a7952f54.ipynb",
   "parameters": {
    "output_dir": "output",
    "run_no": "11",
    "seed": "2023",
    "universe": "{\"cutoff\": [\"quantile_0.1\", \"quantile_0.25\"], \"eval_fairness_grouping\": [\"majority-minority\", \"nationality-all\"], \"exclude_features\": \"none\", \"exclude_subgroups\": \"keep-all\", \"model\": \"rf\", \"scale\": \"do-not-scale\", \"training_size\": \"2014\"}",
    "universe_id": "0d9247a37c5aa890a49e9358a7952f54"
   },
   "start_time": "2025-07-28T11:04:59.446668",
   "version": "2.6.0"
  }
 },
 "nbformat": 4,
 "nbformat_minor": 5
}