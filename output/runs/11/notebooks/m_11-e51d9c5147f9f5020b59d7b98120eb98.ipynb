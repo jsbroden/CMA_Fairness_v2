{
 "cells": [
  {
   "cell_type": "code",
   "execution_count": 1,
   "id": "f159f837-637b-42ba-96b5-ec9a68c44524",
   "metadata": {
    "execution": {
     "iopub.execute_input": "2025-07-28T10:21:23.849578Z",
     "iopub.status.busy": "2025-07-28T10:21:23.848773Z",
     "iopub.status.idle": "2025-07-28T10:21:23.862916Z",
     "shell.execute_reply": "2025-07-28T10:21:23.861936Z"
    },
    "papermill": {
     "duration": 0.038208,
     "end_time": "2025-07-28T10:21:23.864496",
     "exception": false,
     "start_time": "2025-07-28T10:21:23.826288",
     "status": "completed"
    },
    "tags": []
   },
   "outputs": [
    {
     "name": "stdout",
     "output_type": "stream",
     "text": [
      "/dss/dsshome1/0C/ra93lal2/cma/CMA_Fairness_v2\n"
     ]
    },
    {
     "name": "stderr",
     "output_type": "stream",
     "text": [
      "/dss/dsshome1/0C/ra93lal2/.local/share/virtualenvs/CMA_Fairness_v2-3j10GkSs/lib/python3.10/site-packages/IPython/core/magics/osm.py:393: UserWarning: This is now an optional IPython functionality, using bookmarks requires you to install the `pickleshare` library.\n",
      "  bkms = self.shell.db.get('bookmarks', {})\n",
      "/dss/dsshome1/0C/ra93lal2/.local/share/virtualenvs/CMA_Fairness_v2-3j10GkSs/lib/python3.10/site-packages/IPython/core/magics/osm.py:417: UserWarning: This is now an optional IPython functionality, setting dhist requires you to install the `pickleshare` library.\n",
      "  self.shell.db['dhist'] = compress_dhist(dhist)[-100:]\n"
     ]
    }
   ],
   "source": [
    "%cd ~/cma/CMA_Fairness_v2"
   ]
  },
  {
   "cell_type": "markdown",
   "id": "de2603b9",
   "metadata": {
    "papermill": {
     "duration": 0.019858,
     "end_time": "2025-07-28T10:21:23.903924",
     "exception": false,
     "start_time": "2025-07-28T10:21:23.884066",
     "status": "completed"
    },
    "tags": []
   },
   "source": [
    "The following cell holds the definition of our parameters, these values can be overriden by rendering the with e.g. the following command:\n",
    "\n",
    "papermill -p alpha 0.2 -p ratio 0.3 universe_analysis.ipynb output/test_run.ipynb"
   ]
  },
  {
   "cell_type": "code",
   "execution_count": 2,
   "id": "a80968a0-40bb-4fa9-85ef-2d5eefb01975",
   "metadata": {
    "execution": {
     "iopub.execute_input": "2025-07-28T10:21:23.946405Z",
     "iopub.status.busy": "2025-07-28T10:21:23.945895Z",
     "iopub.status.idle": "2025-07-28T10:21:23.951984Z",
     "shell.execute_reply": "2025-07-28T10:21:23.950882Z"
    },
    "papermill": {
     "duration": 0.02913,
     "end_time": "2025-07-28T10:21:23.953715",
     "exception": false,
     "start_time": "2025-07-28T10:21:23.924585",
     "status": "completed"
    },
    "tags": []
   },
   "outputs": [
    {
     "name": "stdout",
     "output_type": "stream",
     "text": [
      "Current working directory: /dss/dsshome1/0C/ra93lal2/cma/CMA_Fairness_v2\n"
     ]
    }
   ],
   "source": [
    "import os\n",
    "print(\"Current working directory:\", os.getcwd())"
   ]
  },
  {
   "cell_type": "code",
   "execution_count": 3,
   "id": "2dce4c03",
   "metadata": {
    "execution": {
     "iopub.execute_input": "2025-07-28T10:21:23.996097Z",
     "iopub.status.busy": "2025-07-28T10:21:23.995571Z",
     "iopub.status.idle": "2025-07-28T10:21:24.003005Z",
     "shell.execute_reply": "2025-07-28T10:21:24.002032Z"
    },
    "papermill": {
     "duration": 0.030564,
     "end_time": "2025-07-28T10:21:24.004773",
     "exception": false,
     "start_time": "2025-07-28T10:21:23.974209",
     "status": "completed"
    },
    "tags": [
     "parameters"
    ]
   },
   "outputs": [],
   "source": [
    "run_no = 0\n",
    "universe_id = \"test\"\n",
    "universe = {\n",
    "    \"training_size\": \"2014\", # \"25k\", \"5k\", \"1k\", \"2014\"\n",
    "    \"scale\": \"scale\", # \"scale\", \"do-not-scale\",\n",
    "    #\"stratify_split\": \"target\", # \"none\", \"target\", \"protected-attribute\", \"both\",\n",
    "    \"model\": \"elasticnet\", # \"logreg\", \"penalized_logreg\", \"rf\", \"gbm\", \"elasticnet\"\n",
    "    \"cutoff\": [\"quantile_0.15\", \"quantile_0.30\"],\n",
    "    \"exclude_features\": \"age\", # \"none\", \"nationality\", \"sex\", \"nationality-sex\", \"age\"\n",
    "    \"exclude_subgroups\": \"keep-all\", # \"keep-all\", \"drop-non-german\"\n",
    "    #\"training_sample\": \"restricted\", # \"restricted\", \"full\"\n",
    "    \"eval_fairness_grouping\": [\"majority-minority\", \"nationality-all\"]\n",
    "}\n",
    "\n",
    "output_dir=\"./output\"\n",
    "seed=0"
   ]
  },
  {
   "cell_type": "code",
   "execution_count": 4,
   "id": "b464a417",
   "metadata": {
    "execution": {
     "iopub.execute_input": "2025-07-28T10:21:24.049193Z",
     "iopub.status.busy": "2025-07-28T10:21:24.048630Z",
     "iopub.status.idle": "2025-07-28T10:21:24.054580Z",
     "shell.execute_reply": "2025-07-28T10:21:24.053590Z"
    },
    "papermill": {
     "duration": 0.029321,
     "end_time": "2025-07-28T10:21:24.056167",
     "exception": false,
     "start_time": "2025-07-28T10:21:24.026846",
     "status": "completed"
    },
    "tags": [
     "injected-parameters"
    ]
   },
   "outputs": [],
   "source": [
    "# Parameters\n",
    "universe_id = \"e51d9c5147f9f5020b59d7b98120eb98\"\n",
    "run_no = \"11\"\n",
    "universe = \"{\\\"cutoff\\\": [\\\"quantile_0.1\\\", \\\"quantile_0.25\\\"], \\\"eval_fairness_grouping\\\": [\\\"majority-minority\\\", \\\"nationality-all\\\"], \\\"exclude_features\\\": \\\"age\\\", \\\"exclude_subgroups\\\": \\\"drop-non-german\\\", \\\"model\\\": \\\"gbm\\\", \\\"scale\\\": \\\"do-not-scale\\\", \\\"training_size\\\": \\\"25k\\\"}\"\n",
    "output_dir = \"output\"\n",
    "seed = \"2023\"\n"
   ]
  },
  {
   "cell_type": "code",
   "execution_count": 5,
   "id": "1650acaf",
   "metadata": {
    "execution": {
     "iopub.execute_input": "2025-07-28T10:21:24.099848Z",
     "iopub.status.busy": "2025-07-28T10:21:24.099055Z",
     "iopub.status.idle": "2025-07-28T10:21:24.105698Z",
     "shell.execute_reply": "2025-07-28T10:21:24.104843Z"
    },
    "papermill": {
     "duration": 0.029885,
     "end_time": "2025-07-28T10:21:24.107338",
     "exception": false,
     "start_time": "2025-07-28T10:21:24.077453",
     "status": "completed"
    },
    "tags": []
   },
   "outputs": [],
   "source": [
    "import json\n",
    "# Parse universe into dict if it is passed as a string\n",
    "if isinstance(universe, str):\n",
    "    universe = json.loads(universe)"
   ]
  },
  {
   "cell_type": "code",
   "execution_count": 6,
   "id": "16620c48",
   "metadata": {
    "execution": {
     "iopub.execute_input": "2025-07-28T10:21:24.147331Z",
     "iopub.status.busy": "2025-07-28T10:21:24.146808Z",
     "iopub.status.idle": "2025-07-28T10:21:24.195157Z",
     "shell.execute_reply": "2025-07-28T10:21:24.194095Z"
    },
    "papermill": {
     "duration": 0.070958,
     "end_time": "2025-07-28T10:21:24.197325",
     "exception": false,
     "start_time": "2025-07-28T10:21:24.126367",
     "status": "completed"
    },
    "tags": []
   },
   "outputs": [],
   "source": [
    "# Auto-reload the custom package\n",
    "%load_ext autoreload\n",
    "%autoreload 1\n",
    "%aimport fairness_multiverse"
   ]
  },
  {
   "cell_type": "code",
   "execution_count": 7,
   "id": "01c5c9f3",
   "metadata": {
    "execution": {
     "iopub.execute_input": "2025-07-28T10:21:24.240934Z",
     "iopub.status.busy": "2025-07-28T10:21:24.240194Z",
     "iopub.status.idle": "2025-07-28T10:21:25.863739Z",
     "shell.execute_reply": "2025-07-28T10:21:25.862894Z"
    },
    "papermill": {
     "duration": 1.647269,
     "end_time": "2025-07-28T10:21:25.865334",
     "exception": false,
     "start_time": "2025-07-28T10:21:24.218065",
     "status": "completed"
    },
    "tags": []
   },
   "outputs": [],
   "source": [
    "from fairness_multiverse.universe import UniverseAnalysis\n",
    "\n",
    "universe_analysis = UniverseAnalysis(\n",
    "    run_no = run_no,\n",
    "    universe_id = universe_id,\n",
    "    universe = universe,\n",
    "    output_dir=output_dir,\n",
    ")"
   ]
  },
  {
   "cell_type": "code",
   "execution_count": 8,
   "id": "106241f5",
   "metadata": {
    "execution": {
     "iopub.execute_input": "2025-07-28T10:21:25.886510Z",
     "iopub.status.busy": "2025-07-28T10:21:25.886165Z",
     "iopub.status.idle": "2025-07-28T10:21:25.892082Z",
     "shell.execute_reply": "2025-07-28T10:21:25.891087Z"
    },
    "papermill": {
     "duration": 0.018237,
     "end_time": "2025-07-28T10:21:25.893845",
     "exception": false,
     "start_time": "2025-07-28T10:21:25.875608",
     "status": "completed"
    },
    "tags": []
   },
   "outputs": [
    {
     "name": "stdout",
     "output_type": "stream",
     "text": [
      "Using Seed: 2023\n"
     ]
    }
   ],
   "source": [
    "import numpy as np\n",
    "parsed_seed = int(seed)\n",
    "np.random.seed(parsed_seed)\n",
    "print(f\"Using Seed: {parsed_seed}\")"
   ]
  },
  {
   "cell_type": "markdown",
   "id": "e0ebdc57",
   "metadata": {
    "papermill": {
     "duration": 0.018902,
     "end_time": "2025-07-28T10:21:25.932238",
     "exception": false,
     "start_time": "2025-07-28T10:21:25.913336",
     "status": "completed"
    },
    "tags": []
   },
   "source": [
    "# Loading Data"
   ]
  },
  {
   "cell_type": "markdown",
   "id": "681925a3",
   "metadata": {
    "papermill": {
     "duration": 0.02007,
     "end_time": "2025-07-28T10:21:25.971789",
     "exception": false,
     "start_time": "2025-07-28T10:21:25.951719",
     "status": "completed"
    },
    "tags": []
   },
   "source": [
    "Load siab_train, siab_test, siab_calib and/or \n",
    "load siab_train_features, siab_train_labels"
   ]
  },
  {
   "cell_type": "code",
   "execution_count": 9,
   "id": "f0496b8a",
   "metadata": {
    "execution": {
     "iopub.execute_input": "2025-07-28T10:21:26.013910Z",
     "iopub.status.busy": "2025-07-28T10:21:26.013371Z",
     "iopub.status.idle": "2025-07-28T10:21:38.763099Z",
     "shell.execute_reply": "2025-07-28T10:21:38.761674Z"
    },
    "papermill": {
     "duration": 12.773672,
     "end_time": "2025-07-28T10:21:38.765439",
     "exception": false,
     "start_time": "2025-07-28T10:21:25.991767",
     "status": "completed"
    },
    "tags": []
   },
   "outputs": [
    {
     "name": "stdout",
     "output_type": "stream",
     "text": [
      "Loading SIAB data from cache: data/siab_cached.csv.gz\n"
     ]
    },
    {
     "name": "stdout",
     "output_type": "stream",
     "text": [
      "(643690, 164)\n"
     ]
    }
   ],
   "source": [
    "from pathlib import Path\n",
    "import pandas as pd\n",
    "\n",
    "# File paths\n",
    "raw_file = Path(\"data/raw/siab.csv\")\n",
    "cache_file = Path(\"data/siab_cached.csv.gz\")\n",
    "\n",
    "# Ensure cache directory exists\n",
    "cache_file.parent.mkdir(parents=True, exist_ok=True)\n",
    "\n",
    "# Load with simple caching\n",
    "if cache_file.exists():\n",
    "    print(f\"Loading SIAB data from cache: {cache_file}\")\n",
    "    siab = pd.read_csv(cache_file, compression='gzip')\n",
    "else:\n",
    "    print(f\"Cache not found. Reading raw SIAB data: {raw_file}\")\n",
    "    siab = pd.read_csv(raw_file)\n",
    "    siab.to_csv(cache_file, index=False, compression='gzip')\n",
    "    print(f\"Cached SIAB data to: {cache_file}\")\n",
    "\n",
    "# Now use `siab` DataFrame as needed\n",
    "print(siab.shape)"
   ]
  },
  {
   "cell_type": "code",
   "execution_count": 10,
   "id": "db0ca512-5f53-4dba-abdb-a2888bca41ba",
   "metadata": {
    "execution": {
     "iopub.execute_input": "2025-07-28T10:21:38.823744Z",
     "iopub.status.busy": "2025-07-28T10:21:38.822843Z",
     "iopub.status.idle": "2025-07-28T10:21:38.830281Z",
     "shell.execute_reply": "2025-07-28T10:21:38.829022Z"
    },
    "papermill": {
     "duration": 0.03829,
     "end_time": "2025-07-28T10:21:38.832550",
     "exception": false,
     "start_time": "2025-07-28T10:21:38.794260",
     "status": "completed"
    },
    "tags": []
   },
   "outputs": [],
   "source": [
    "#siab"
   ]
  },
  {
   "cell_type": "code",
   "execution_count": 11,
   "id": "a0edb063",
   "metadata": {
    "execution": {
     "iopub.execute_input": "2025-07-28T10:21:38.883669Z",
     "iopub.status.busy": "2025-07-28T10:21:38.882763Z",
     "iopub.status.idle": "2025-07-28T10:21:38.888374Z",
     "shell.execute_reply": "2025-07-28T10:21:38.887342Z"
    },
    "papermill": {
     "duration": 0.030753,
     "end_time": "2025-07-28T10:21:38.890397",
     "exception": false,
     "start_time": "2025-07-28T10:21:38.859644",
     "status": "completed"
    },
    "tags": []
   },
   "outputs": [],
   "source": [
    "#import pandas as pd\n",
    "#\n",
    "#X_train = pd.read_csv(\"./data/X_train.csv\")\n",
    "#y_train = pd.read_csv(\"./data/y_train.csv\")"
   ]
  },
  {
   "cell_type": "code",
   "execution_count": 12,
   "id": "63d08085",
   "metadata": {
    "execution": {
     "iopub.execute_input": "2025-07-28T10:21:38.933838Z",
     "iopub.status.busy": "2025-07-28T10:21:38.933322Z",
     "iopub.status.idle": "2025-07-28T10:21:38.938691Z",
     "shell.execute_reply": "2025-07-28T10:21:38.937672Z"
    },
    "papermill": {
     "duration": 0.028504,
     "end_time": "2025-07-28T10:21:38.940598",
     "exception": false,
     "start_time": "2025-07-28T10:21:38.912094",
     "status": "completed"
    },
    "tags": []
   },
   "outputs": [],
   "source": [
    "#X_test = pd.read_csv(\"./data/X_test.csv\")\n",
    "#y_true = pd.read_csv(\"./data/y_test.csv\")"
   ]
  },
  {
   "cell_type": "code",
   "execution_count": 13,
   "id": "98a8d0fa-1d3d-4ed8-bb2c-281470e24add",
   "metadata": {
    "execution": {
     "iopub.execute_input": "2025-07-28T10:21:38.986271Z",
     "iopub.status.busy": "2025-07-28T10:21:38.985565Z",
     "iopub.status.idle": "2025-07-28T10:21:38.992741Z",
     "shell.execute_reply": "2025-07-28T10:21:38.991307Z"
    },
    "papermill": {
     "duration": 0.032801,
     "end_time": "2025-07-28T10:21:38.994808",
     "exception": false,
     "start_time": "2025-07-28T10:21:38.962007",
     "status": "completed"
    },
    "tags": []
   },
   "outputs": [],
   "source": [
    "# Calibration data for conformal\n",
    "#X_calib = pd.read_csv(\"./data/X_calib.csv\")\n",
    "#y_calib = pd.read_csv(\"./data/y_calib.csv\")"
   ]
  },
  {
   "cell_type": "markdown",
   "id": "9901737e-04df-44f0-9100-f5ad144ed040",
   "metadata": {
    "papermill": {
     "duration": 0.021294,
     "end_time": "2025-07-28T10:21:39.037981",
     "exception": false,
     "start_time": "2025-07-28T10:21:39.016687",
     "status": "completed"
    },
    "tags": []
   },
   "source": [
    "# Splitting Data and Setting Training Data Size"
   ]
  },
  {
   "cell_type": "code",
   "execution_count": 14,
   "id": "acbc8f7d-8fc8-4e86-8c59-5dcb0f58384b",
   "metadata": {
    "execution": {
     "iopub.execute_input": "2025-07-28T10:21:39.084357Z",
     "iopub.status.busy": "2025-07-28T10:21:39.083200Z",
     "iopub.status.idle": "2025-07-28T10:21:39.091091Z",
     "shell.execute_reply": "2025-07-28T10:21:39.090238Z"
    },
    "papermill": {
     "duration": 0.042206,
     "end_time": "2025-07-28T10:21:39.102137",
     "exception": false,
     "start_time": "2025-07-28T10:21:39.059931",
     "status": "completed"
    },
    "tags": []
   },
   "outputs": [],
   "source": [
    "def sample_by_year(df, training_size, random_state=42):\n",
    "    if training_size == \"2014\":\n",
    "        return df[df[\"year\"] == 2014].reset_index(drop=True)\n",
    "    \n",
    "    size_map = {\n",
    "        \"25k\": 5000,\n",
    "        \"5k\": 1000,\n",
    "        \"1k\": 200\n",
    "    }\n",
    "\n",
    "    if training_size not in size_map:\n",
    "        return df.reset_index(drop=True)  # use all data\n",
    "\n",
    "    n_per_year = size_map[training_size]\n",
    "    grouped = df.groupby(\"year\")\n",
    "    sampled = grouped.apply(lambda x: x.sample(n=min(n_per_year, len(x)), random_state=random_state))\n",
    "    return sampled.reset_index(drop=True)"
   ]
  },
  {
   "cell_type": "code",
   "execution_count": 15,
   "id": "6d931f52-beaf-43ff-9e78-9d44a448d54e",
   "metadata": {
    "execution": {
     "iopub.execute_input": "2025-07-28T10:21:39.160921Z",
     "iopub.status.busy": "2025-07-28T10:21:39.159650Z",
     "iopub.status.idle": "2025-07-28T10:21:40.096265Z",
     "shell.execute_reply": "2025-07-28T10:21:40.095083Z"
    },
    "papermill": {
     "duration": 0.962822,
     "end_time": "2025-07-28T10:21:40.098382",
     "exception": false,
     "start_time": "2025-07-28T10:21:39.135560",
     "status": "completed"
    },
    "tags": []
   },
   "outputs": [],
   "source": [
    "siab_s = sample_by_year(siab, universe[\"training_size\"])"
   ]
  },
  {
   "cell_type": "code",
   "execution_count": 16,
   "id": "5db0a40e-a4e2-4920-be85-b12ae061d70d",
   "metadata": {
    "execution": {
     "iopub.execute_input": "2025-07-28T10:21:40.143496Z",
     "iopub.status.busy": "2025-07-28T10:21:40.142465Z",
     "iopub.status.idle": "2025-07-28T10:21:40.158164Z",
     "shell.execute_reply": "2025-07-28T10:21:40.157085Z"
    },
    "papermill": {
     "duration": 0.040155,
     "end_time": "2025-07-28T10:21:40.160020",
     "exception": false,
     "start_time": "2025-07-28T10:21:40.119865",
     "status": "completed"
    },
    "tags": []
   },
   "outputs": [
    {
     "data": {
      "text/plain": [
       "year\n",
       "2010    5000\n",
       "2011    5000\n",
       "2012    5000\n",
       "2013    5000\n",
       "2014    5000\n",
       "2015    5000\n",
       "2016    5000\n",
       "dtype: int64"
      ]
     },
     "metadata": {},
     "output_type": "display_data"
    }
   ],
   "source": [
    "display(siab_s.groupby(\"year\").size())"
   ]
  },
  {
   "cell_type": "code",
   "execution_count": 17,
   "id": "a561edb4-d032-42cb-8256-22eac1111c64",
   "metadata": {
    "execution": {
     "iopub.execute_input": "2025-07-28T10:21:40.206063Z",
     "iopub.status.busy": "2025-07-28T10:21:40.205139Z",
     "iopub.status.idle": "2025-07-28T10:21:40.479853Z",
     "shell.execute_reply": "2025-07-28T10:21:40.478801Z"
    },
    "papermill": {
     "duration": 0.299914,
     "end_time": "2025-07-28T10:21:40.481972",
     "exception": false,
     "start_time": "2025-07-28T10:21:40.182058",
     "status": "completed"
    },
    "tags": []
   },
   "outputs": [],
   "source": [
    "siab_train = siab_s[siab_s.year < 2015]\n",
    "siab_calib = siab[siab.year == 2015]\n",
    "siab_test = siab[siab.year == 2016]"
   ]
  },
  {
   "cell_type": "code",
   "execution_count": 18,
   "id": "472de16f-c3db-4916-846b-1f0de9cf1746",
   "metadata": {
    "execution": {
     "iopub.execute_input": "2025-07-28T10:21:40.528217Z",
     "iopub.status.busy": "2025-07-28T10:21:40.527673Z",
     "iopub.status.idle": "2025-07-28T10:21:40.543840Z",
     "shell.execute_reply": "2025-07-28T10:21:40.542613Z"
    },
    "papermill": {
     "duration": 0.041827,
     "end_time": "2025-07-28T10:21:40.546048",
     "exception": false,
     "start_time": "2025-07-28T10:21:40.504221",
     "status": "completed"
    },
    "tags": []
   },
   "outputs": [],
   "source": [
    "X_train = siab_train.iloc[:,4:164]\n",
    "y_train = siab_train.iloc[:, [3]]"
   ]
  },
  {
   "cell_type": "code",
   "execution_count": 19,
   "id": "828c96af-f43a-4ed6-ba47-8ac73a47d56c",
   "metadata": {
    "execution": {
     "iopub.execute_input": "2025-07-28T10:21:40.599056Z",
     "iopub.status.busy": "2025-07-28T10:21:40.598322Z",
     "iopub.status.idle": "2025-07-28T10:21:40.651723Z",
     "shell.execute_reply": "2025-07-28T10:21:40.650744Z"
    },
    "papermill": {
     "duration": 0.082825,
     "end_time": "2025-07-28T10:21:40.653796",
     "exception": false,
     "start_time": "2025-07-28T10:21:40.570971",
     "status": "completed"
    },
    "tags": []
   },
   "outputs": [],
   "source": [
    "X_calib = siab_calib.iloc[:,4:164]\n",
    "y_calib = siab_calib.iloc[:, [3]]"
   ]
  },
  {
   "cell_type": "code",
   "execution_count": 20,
   "id": "c34be9c3-6bd6-476e-acd3-845840e303be",
   "metadata": {
    "execution": {
     "iopub.execute_input": "2025-07-28T10:21:40.697321Z",
     "iopub.status.busy": "2025-07-28T10:21:40.696398Z",
     "iopub.status.idle": "2025-07-28T10:21:40.754621Z",
     "shell.execute_reply": "2025-07-28T10:21:40.753339Z"
    },
    "papermill": {
     "duration": 0.082917,
     "end_time": "2025-07-28T10:21:40.756673",
     "exception": false,
     "start_time": "2025-07-28T10:21:40.673756",
     "status": "completed"
    },
    "tags": []
   },
   "outputs": [],
   "source": [
    "X_test = siab_test.iloc[:,4:164]\n",
    "y_true = siab_test.iloc[:, [3]]"
   ]
  },
  {
   "cell_type": "code",
   "execution_count": 21,
   "id": "e6c733c5",
   "metadata": {
    "execution": {
     "iopub.execute_input": "2025-07-28T10:21:40.798215Z",
     "iopub.status.busy": "2025-07-28T10:21:40.797421Z",
     "iopub.status.idle": "2025-07-28T10:21:40.896423Z",
     "shell.execute_reply": "2025-07-28T10:21:40.895416Z"
    },
    "papermill": {
     "duration": 0.122111,
     "end_time": "2025-07-28T10:21:40.898606",
     "exception": false,
     "start_time": "2025-07-28T10:21:40.776495",
     "status": "completed"
    },
    "tags": []
   },
   "outputs": [],
   "source": [
    "# Auxiliary data needed downstream in the pipeline\n",
    "\n",
    "org_train = X_train.copy()\n",
    "org_test = X_test.copy()\n",
    "org_calib = X_calib.copy()"
   ]
  },
  {
   "cell_type": "markdown",
   "id": "0a4a1b33",
   "metadata": {
    "papermill": {
     "duration": 0.021024,
     "end_time": "2025-07-28T10:21:40.949147",
     "exception": false,
     "start_time": "2025-07-28T10:21:40.928123",
     "status": "completed"
    },
    "tags": []
   },
   "source": [
    "# Preprocessing Data"
   ]
  },
  {
   "cell_type": "code",
   "execution_count": 22,
   "id": "ca879031",
   "metadata": {
    "execution": {
     "iopub.execute_input": "2025-07-28T10:21:40.996911Z",
     "iopub.status.busy": "2025-07-28T10:21:40.996470Z",
     "iopub.status.idle": "2025-07-28T10:21:41.002709Z",
     "shell.execute_reply": "2025-07-28T10:21:41.001729Z"
    },
    "papermill": {
     "duration": 0.031715,
     "end_time": "2025-07-28T10:21:41.004406",
     "exception": false,
     "start_time": "2025-07-28T10:21:40.972691",
     "status": "completed"
    },
    "tags": []
   },
   "outputs": [],
   "source": [
    "# EXCLUDE PROTECTED FEATURES\n",
    "# ----------------------\n",
    "# \"exclude_features\": \"none\", # \"nationality\", \"sex\", \"nationality-sex\"\n",
    "\n",
    "excluded_features = universe[\"exclude_features\"].split(\"-\") # split, e.g.: \"nationality-sex\" -> [\"nationality\", \"sex\"]\n",
    "excluded_features_dictionary = {\n",
    "    \"nationality\": [\"maxdeutsch1\", \"maxdeutsch.Missing.\"],\n",
    "    \"sex\": [\"frau1\"],\n",
    "    \"age\": [\"age\"],\n",
    "}\n"
   ]
  },
  {
   "cell_type": "code",
   "execution_count": 23,
   "id": "b745ac60",
   "metadata": {
    "execution": {
     "iopub.execute_input": "2025-07-28T10:21:41.048687Z",
     "iopub.status.busy": "2025-07-28T10:21:41.048163Z",
     "iopub.status.idle": "2025-07-28T10:21:41.055284Z",
     "shell.execute_reply": "2025-07-28T10:21:41.054279Z"
    },
    "papermill": {
     "duration": 0.031579,
     "end_time": "2025-07-28T10:21:41.057005",
     "exception": false,
     "start_time": "2025-07-28T10:21:41.025426",
     "status": "completed"
    },
    "tags": []
   },
   "outputs": [],
   "source": [
    "# Code nice names to column names\n",
    "\n",
    "excluded_features_columns = [\n",
    "    excluded_features_dictionary[f] for f in excluded_features if len(f) > 0 and f != \"none\"\n",
    "]"
   ]
  },
  {
   "cell_type": "code",
   "execution_count": 24,
   "id": "f84f73a2",
   "metadata": {
    "execution": {
     "iopub.execute_input": "2025-07-28T10:21:41.085620Z",
     "iopub.status.busy": "2025-07-28T10:21:41.085212Z",
     "iopub.status.idle": "2025-07-28T10:21:41.098973Z",
     "shell.execute_reply": "2025-07-28T10:21:41.098224Z"
    },
    "papermill": {
     "duration": 0.0277,
     "end_time": "2025-07-28T10:21:41.100738",
     "exception": false,
     "start_time": "2025-07-28T10:21:41.073038",
     "status": "completed"
    },
    "tags": []
   },
   "outputs": [],
   "source": [
    "from utils import flatten_once\n",
    "\n",
    "excluded_features_columns = flatten_once(excluded_features_columns)"
   ]
  },
  {
   "cell_type": "code",
   "execution_count": 25,
   "id": "884dea22",
   "metadata": {
    "execution": {
     "iopub.execute_input": "2025-07-28T10:21:41.126325Z",
     "iopub.status.busy": "2025-07-28T10:21:41.125950Z",
     "iopub.status.idle": "2025-07-28T10:21:41.142992Z",
     "shell.execute_reply": "2025-07-28T10:21:41.140679Z"
    },
    "papermill": {
     "duration": 0.030532,
     "end_time": "2025-07-28T10:21:41.144707",
     "exception": false,
     "start_time": "2025-07-28T10:21:41.114175",
     "status": "completed"
    },
    "tags": []
   },
   "outputs": [
    {
     "name": "stdout",
     "output_type": "stream",
     "text": [
      "Dropping features: ['age']\n"
     ]
    }
   ],
   "source": [
    "if len(excluded_features_columns) > 0:\n",
    "    print(f\"Dropping features: {excluded_features_columns}\")\n",
    "    X_train.drop(excluded_features_columns, axis=1, inplace=True)"
   ]
  },
  {
   "cell_type": "code",
   "execution_count": 26,
   "id": "95ab8b16",
   "metadata": {
    "execution": {
     "iopub.execute_input": "2025-07-28T10:21:41.182170Z",
     "iopub.status.busy": "2025-07-28T10:21:41.181683Z",
     "iopub.status.idle": "2025-07-28T10:21:41.237620Z",
     "shell.execute_reply": "2025-07-28T10:21:41.236469Z"
    },
    "papermill": {
     "duration": 0.073112,
     "end_time": "2025-07-28T10:21:41.239112",
     "exception": false,
     "start_time": "2025-07-28T10:21:41.166000",
     "status": "completed"
    },
    "tags": []
   },
   "outputs": [
    {
     "name": "stdout",
     "output_type": "stream",
     "text": [
      "Dropping features: ['age']\n"
     ]
    }
   ],
   "source": [
    "if len(excluded_features_columns) > 0:\n",
    "    print(f\"Dropping features: {excluded_features_columns}\")\n",
    "    X_test.drop(excluded_features_columns, axis=1, inplace=True)"
   ]
  },
  {
   "cell_type": "code",
   "execution_count": 27,
   "id": "1853aaf5-fb9f-46cb-a2b5-8ea4ae2237e4",
   "metadata": {
    "execution": {
     "iopub.execute_input": "2025-07-28T10:21:41.275263Z",
     "iopub.status.busy": "2025-07-28T10:21:41.274732Z",
     "iopub.status.idle": "2025-07-28T10:21:41.341579Z",
     "shell.execute_reply": "2025-07-28T10:21:41.337337Z"
    },
    "papermill": {
     "duration": 0.092011,
     "end_time": "2025-07-28T10:21:41.343307",
     "exception": false,
     "start_time": "2025-07-28T10:21:41.251296",
     "status": "completed"
    },
    "tags": []
   },
   "outputs": [
    {
     "name": "stdout",
     "output_type": "stream",
     "text": [
      "Dropping features: ['age']\n"
     ]
    }
   ],
   "source": [
    "if len(excluded_features_columns) > 0:\n",
    "    print(f\"Dropping features: {excluded_features_columns}\")\n",
    "    X_calib.drop(excluded_features_columns, axis=1, inplace=True)"
   ]
  },
  {
   "cell_type": "code",
   "execution_count": 28,
   "id": "6727d079-03e5-481e-9d38-292a90b7a0a8",
   "metadata": {
    "execution": {
     "iopub.execute_input": "2025-07-28T10:21:41.370209Z",
     "iopub.status.busy": "2025-07-28T10:21:41.369683Z",
     "iopub.status.idle": "2025-07-28T10:21:41.373937Z",
     "shell.execute_reply": "2025-07-28T10:21:41.373256Z"
    },
    "papermill": {
     "duration": 0.018669,
     "end_time": "2025-07-28T10:21:41.375596",
     "exception": false,
     "start_time": "2025-07-28T10:21:41.356927",
     "status": "completed"
    },
    "tags": []
   },
   "outputs": [],
   "source": [
    "# SPLIT & STRATIFY DATA\n",
    "# ----------------------"
   ]
  },
  {
   "cell_type": "code",
   "execution_count": 29,
   "id": "76c4dc6d",
   "metadata": {
    "execution": {
     "iopub.execute_input": "2025-07-28T10:21:41.400986Z",
     "iopub.status.busy": "2025-07-28T10:21:41.400475Z",
     "iopub.status.idle": "2025-07-28T10:21:41.405447Z",
     "shell.execute_reply": "2025-07-28T10:21:41.404668Z"
    },
    "papermill": {
     "duration": 0.01867,
     "end_time": "2025-07-28T10:21:41.406852",
     "exception": false,
     "start_time": "2025-07-28T10:21:41.388182",
     "status": "completed"
    },
    "tags": []
   },
   "outputs": [],
   "source": [
    "# EXCLUDE CERTAIN SUBGROUPS\n",
    "# ----------------------\n",
    "\n",
    "mode = universe.get(\"exclude_subgroups\", \"keep-all\") \n",
    "# Fetches the exclude_subgroups setting from the universe dict.\n",
    "# Defaults to \"keep-all\" if the key is missing."
   ]
  },
  {
   "cell_type": "code",
   "execution_count": 30,
   "id": "21994072",
   "metadata": {
    "execution": {
     "iopub.execute_input": "2025-07-28T10:21:41.432054Z",
     "iopub.status.busy": "2025-07-28T10:21:41.431534Z",
     "iopub.status.idle": "2025-07-28T10:21:41.437339Z",
     "shell.execute_reply": "2025-07-28T10:21:41.436552Z"
    },
    "papermill": {
     "duration": 0.019793,
     "end_time": "2025-07-28T10:21:41.438639",
     "exception": false,
     "start_time": "2025-07-28T10:21:41.418846",
     "status": "completed"
    },
    "tags": []
   },
   "outputs": [],
   "source": [
    "if mode == \"keep-all\":\n",
    "    keep_mask = pd.Series(True, index=org_train.index)\n",
    "\n",
    "# org_train contains the original feature columns from features_org (in Simson)\n",
    "# features_org contains unprocessed features, for me X_train at beginning ???\n",
    "# For keep-all, creates a boolean Series (keep_mask) of all True, so no rows are removed.\n",
    "\n",
    "elif mode == \"drop-non-german\":\n",
    "    keep_mask = org_train[\"maxdeutsch1\"] == 1 # ??? what about missing values?\n",
    "\n",
    "else:\n",
    "    raise ValueError(f\"Unsupported mode for exclude_subgroups: {mode}\")\n"
   ]
  },
  {
   "cell_type": "code",
   "execution_count": 31,
   "id": "71651440",
   "metadata": {
    "execution": {
     "iopub.execute_input": "2025-07-28T10:21:41.463795Z",
     "iopub.status.busy": "2025-07-28T10:21:41.463284Z",
     "iopub.status.idle": "2025-07-28T10:21:41.470073Z",
     "shell.execute_reply": "2025-07-28T10:21:41.469272Z"
    },
    "papermill": {
     "duration": 0.021035,
     "end_time": "2025-07-28T10:21:41.471589",
     "exception": false,
     "start_time": "2025-07-28T10:21:41.450554",
     "status": "completed"
    },
    "tags": []
   },
   "outputs": [
    {
     "name": "stdout",
     "output_type": "stream",
     "text": [
      "Dropping 3312 rows (13.25%) where mode='drop-non-german'\n"
     ]
    }
   ],
   "source": [
    "n_drop = (~keep_mask).sum() # Calculates how many rows are set to be dropped\n",
    "if n_drop > 0:\n",
    "    pct = n_drop / len(keep_mask) * 100\n",
    "    print(f\"Dropping {n_drop} rows ({pct:.2f}%) where mode='{mode}'\")"
   ]
  },
  {
   "cell_type": "code",
   "execution_count": 32,
   "id": "5fb8eee5",
   "metadata": {
    "execution": {
     "iopub.execute_input": "2025-07-28T10:21:41.496896Z",
     "iopub.status.busy": "2025-07-28T10:21:41.496367Z",
     "iopub.status.idle": "2025-07-28T10:21:41.509105Z",
     "shell.execute_reply": "2025-07-28T10:21:41.508308Z"
    },
    "papermill": {
     "duration": 0.027283,
     "end_time": "2025-07-28T10:21:41.510868",
     "exception": false,
     "start_time": "2025-07-28T10:21:41.483585",
     "status": "completed"
    },
    "tags": []
   },
   "outputs": [],
   "source": [
    "X_train = X_train[keep_mask]"
   ]
  },
  {
   "cell_type": "code",
   "execution_count": 33,
   "id": "b202bb3a",
   "metadata": {
    "execution": {
     "iopub.execute_input": "2025-07-28T10:21:41.536621Z",
     "iopub.status.busy": "2025-07-28T10:21:41.535836Z",
     "iopub.status.idle": "2025-07-28T10:21:41.541655Z",
     "shell.execute_reply": "2025-07-28T10:21:41.540900Z"
    },
    "papermill": {
     "duration": 0.020065,
     "end_time": "2025-07-28T10:21:41.543149",
     "exception": false,
     "start_time": "2025-07-28T10:21:41.523084",
     "status": "completed"
    },
    "tags": []
   },
   "outputs": [],
   "source": [
    "y_train = y_train[keep_mask]"
   ]
  },
  {
   "cell_type": "markdown",
   "id": "493e2ac3",
   "metadata": {
    "papermill": {
     "duration": 0.011495,
     "end_time": "2025-07-28T10:21:41.566622",
     "exception": false,
     "start_time": "2025-07-28T10:21:41.555127",
     "status": "completed"
    },
    "tags": []
   },
   "source": [
    "# Model Training"
   ]
  },
  {
   "cell_type": "code",
   "execution_count": 34,
   "id": "679e1268",
   "metadata": {
    "execution": {
     "iopub.execute_input": "2025-07-28T10:21:41.591377Z",
     "iopub.status.busy": "2025-07-28T10:21:41.590862Z",
     "iopub.status.idle": "2025-07-28T10:21:41.700363Z",
     "shell.execute_reply": "2025-07-28T10:21:41.699321Z"
    },
    "papermill": {
     "duration": 0.123888,
     "end_time": "2025-07-28T10:21:41.702024",
     "exception": false,
     "start_time": "2025-07-28T10:21:41.578136",
     "status": "completed"
    },
    "tags": []
   },
   "outputs": [],
   "source": [
    "from sklearn.linear_model import LogisticRegression\n",
    "from sklearn.ensemble import GradientBoostingClassifier, RandomForestClassifier\n",
    "\n",
    "if (universe[\"model\"] == \"logreg\"):\n",
    "    model = LogisticRegression() #penalty=\"none\") #, solver=\"newton-cg\", max_iter=1) # include random_state=19 ?\n",
    "elif (universe[\"model\"] == \"penalized_logreg\"):\n",
    "    model = LogisticRegression(penalty=\"l2\", C=1.0) #, solver=\"newton-cg\", max_iter=1)\n",
    "elif (universe[\"model\"] == \"rf\"):\n",
    "    model = RandomForestClassifier(n_estimators=100, n_jobs=-1)\n",
    "elif (universe[\"model\"] == \"gbm\"):\n",
    "    model = GradientBoostingClassifier()\n",
    "elif (universe[\"model\"] == \"elasticnet\"):\n",
    "    model = LogisticRegression(penalty = 'elasticnet', solver = 'saga', l1_ratio = 0.5, max_iter=5000) # which solver to use?\n",
    "else:\n",
    "    raise \"Unsupported universe.model\""
   ]
  },
  {
   "cell_type": "code",
   "execution_count": 35,
   "id": "0cc8f744",
   "metadata": {
    "execution": {
     "iopub.execute_input": "2025-07-28T10:21:41.727879Z",
     "iopub.status.busy": "2025-07-28T10:21:41.727454Z",
     "iopub.status.idle": "2025-07-28T10:21:41.732803Z",
     "shell.execute_reply": "2025-07-28T10:21:41.731877Z"
    },
    "papermill": {
     "duration": 0.019705,
     "end_time": "2025-07-28T10:21:41.734315",
     "exception": false,
     "start_time": "2025-07-28T10:21:41.714610",
     "status": "completed"
    },
    "tags": []
   },
   "outputs": [],
   "source": [
    "import numpy as np\n",
    "from sklearn.pipeline import Pipeline\n",
    "from sklearn.preprocessing import StandardScaler\n",
    "\n",
    "model = Pipeline([\n",
    "    #(\"continuous_processor\", continuous_processor),\n",
    "    #(\"categorical_preprocessor\", categorical_preprocessor),\n",
    "    (\"scale\", StandardScaler() if universe[\"scale\"] == \"scale\" else None), \n",
    "    (\"model\", model),\n",
    "])"
   ]
  },
  {
   "cell_type": "code",
   "execution_count": 36,
   "id": "9442c04d",
   "metadata": {
    "execution": {
     "iopub.execute_input": "2025-07-28T10:21:41.760185Z",
     "iopub.status.busy": "2025-07-28T10:21:41.759791Z",
     "iopub.status.idle": "2025-07-28T10:22:04.633725Z",
     "shell.execute_reply": "2025-07-28T10:22:04.632455Z"
    },
    "papermill": {
     "duration": 22.888909,
     "end_time": "2025-07-28T10:22:04.635638",
     "exception": false,
     "start_time": "2025-07-28T10:21:41.746729",
     "status": "completed"
    },
    "tags": []
   },
   "outputs": [
    {
     "data": {
      "text/html": [
       "<style>#sk-container-id-1 {color: black;background-color: white;}#sk-container-id-1 pre{padding: 0;}#sk-container-id-1 div.sk-toggleable {background-color: white;}#sk-container-id-1 label.sk-toggleable__label {cursor: pointer;display: block;width: 100%;margin-bottom: 0;padding: 0.3em;box-sizing: border-box;text-align: center;}#sk-container-id-1 label.sk-toggleable__label-arrow:before {content: \"▸\";float: left;margin-right: 0.25em;color: #696969;}#sk-container-id-1 label.sk-toggleable__label-arrow:hover:before {color: black;}#sk-container-id-1 div.sk-estimator:hover label.sk-toggleable__label-arrow:before {color: black;}#sk-container-id-1 div.sk-toggleable__content {max-height: 0;max-width: 0;overflow: hidden;text-align: left;background-color: #f0f8ff;}#sk-container-id-1 div.sk-toggleable__content pre {margin: 0.2em;color: black;border-radius: 0.25em;background-color: #f0f8ff;}#sk-container-id-1 input.sk-toggleable__control:checked~div.sk-toggleable__content {max-height: 200px;max-width: 100%;overflow: auto;}#sk-container-id-1 input.sk-toggleable__control:checked~label.sk-toggleable__label-arrow:before {content: \"▾\";}#sk-container-id-1 div.sk-estimator input.sk-toggleable__control:checked~label.sk-toggleable__label {background-color: #d4ebff;}#sk-container-id-1 div.sk-label input.sk-toggleable__control:checked~label.sk-toggleable__label {background-color: #d4ebff;}#sk-container-id-1 input.sk-hidden--visually {border: 0;clip: rect(1px 1px 1px 1px);clip: rect(1px, 1px, 1px, 1px);height: 1px;margin: -1px;overflow: hidden;padding: 0;position: absolute;width: 1px;}#sk-container-id-1 div.sk-estimator {font-family: monospace;background-color: #f0f8ff;border: 1px dotted black;border-radius: 0.25em;box-sizing: border-box;margin-bottom: 0.5em;}#sk-container-id-1 div.sk-estimator:hover {background-color: #d4ebff;}#sk-container-id-1 div.sk-parallel-item::after {content: \"\";width: 100%;border-bottom: 1px solid gray;flex-grow: 1;}#sk-container-id-1 div.sk-label:hover label.sk-toggleable__label {background-color: #d4ebff;}#sk-container-id-1 div.sk-serial::before {content: \"\";position: absolute;border-left: 1px solid gray;box-sizing: border-box;top: 0;bottom: 0;left: 50%;z-index: 0;}#sk-container-id-1 div.sk-serial {display: flex;flex-direction: column;align-items: center;background-color: white;padding-right: 0.2em;padding-left: 0.2em;position: relative;}#sk-container-id-1 div.sk-item {position: relative;z-index: 1;}#sk-container-id-1 div.sk-parallel {display: flex;align-items: stretch;justify-content: center;background-color: white;position: relative;}#sk-container-id-1 div.sk-item::before, #sk-container-id-1 div.sk-parallel-item::before {content: \"\";position: absolute;border-left: 1px solid gray;box-sizing: border-box;top: 0;bottom: 0;left: 50%;z-index: -1;}#sk-container-id-1 div.sk-parallel-item {display: flex;flex-direction: column;z-index: 1;position: relative;background-color: white;}#sk-container-id-1 div.sk-parallel-item:first-child::after {align-self: flex-end;width: 50%;}#sk-container-id-1 div.sk-parallel-item:last-child::after {align-self: flex-start;width: 50%;}#sk-container-id-1 div.sk-parallel-item:only-child::after {width: 0;}#sk-container-id-1 div.sk-dashed-wrapped {border: 1px dashed gray;margin: 0 0.4em 0.5em 0.4em;box-sizing: border-box;padding-bottom: 0.4em;background-color: white;}#sk-container-id-1 div.sk-label label {font-family: monospace;font-weight: bold;display: inline-block;line-height: 1.2em;}#sk-container-id-1 div.sk-label-container {text-align: center;}#sk-container-id-1 div.sk-container {/* jupyter's `normalize.less` sets `[hidden] { display: none; }` but bootstrap.min.css set `[hidden] { display: none !important; }` so we also need the `!important` here to be able to override the default hidden behavior on the sphinx rendered scikit-learn.org. See: https://github.com/scikit-learn/scikit-learn/issues/21755 */display: inline-block !important;position: relative;}#sk-container-id-1 div.sk-text-repr-fallback {display: none;}</style><div id=\"sk-container-id-1\" class=\"sk-top-container\"><div class=\"sk-text-repr-fallback\"><pre>Pipeline(steps=[(&#x27;scale&#x27;, None), (&#x27;model&#x27;, GradientBoostingClassifier())])</pre><b>In a Jupyter environment, please rerun this cell to show the HTML representation or trust the notebook. <br />On GitHub, the HTML representation is unable to render, please try loading this page with nbviewer.org.</b></div><div class=\"sk-container\" hidden><div class=\"sk-item sk-dashed-wrapped\"><div class=\"sk-label-container\"><div class=\"sk-label sk-toggleable\"><input class=\"sk-toggleable__control sk-hidden--visually\" id=\"sk-estimator-id-1\" type=\"checkbox\" ><label for=\"sk-estimator-id-1\" class=\"sk-toggleable__label sk-toggleable__label-arrow\">Pipeline</label><div class=\"sk-toggleable__content\"><pre>Pipeline(steps=[(&#x27;scale&#x27;, None), (&#x27;model&#x27;, GradientBoostingClassifier())])</pre></div></div></div><div class=\"sk-serial\"><div class=\"sk-item\"><div class=\"sk-estimator sk-toggleable\"><input class=\"sk-toggleable__control sk-hidden--visually\" id=\"sk-estimator-id-2\" type=\"checkbox\" ><label for=\"sk-estimator-id-2\" class=\"sk-toggleable__label sk-toggleable__label-arrow\">None</label><div class=\"sk-toggleable__content\"><pre>None</pre></div></div></div><div class=\"sk-item\"><div class=\"sk-estimator sk-toggleable\"><input class=\"sk-toggleable__control sk-hidden--visually\" id=\"sk-estimator-id-3\" type=\"checkbox\" ><label for=\"sk-estimator-id-3\" class=\"sk-toggleable__label sk-toggleable__label-arrow\">GradientBoostingClassifier</label><div class=\"sk-toggleable__content\"><pre>GradientBoostingClassifier()</pre></div></div></div></div></div></div></div>"
      ],
      "text/plain": [
       "Pipeline(steps=[('scale', None), ('model', GradientBoostingClassifier())])"
      ]
     },
     "execution_count": 36,
     "metadata": {},
     "output_type": "execute_result"
    }
   ],
   "source": [
    "model.fit(X_train, y_train.values.ravel())"
   ]
  },
  {
   "cell_type": "code",
   "execution_count": 37,
   "id": "af59f8c0",
   "metadata": {
    "execution": {
     "iopub.execute_input": "2025-07-28T10:22:04.931734Z",
     "iopub.status.busy": "2025-07-28T10:22:04.930937Z",
     "iopub.status.idle": "2025-07-28T10:22:04.937078Z",
     "shell.execute_reply": "2025-07-28T10:22:04.936087Z"
    },
    "papermill": {
     "duration": 0.035733,
     "end_time": "2025-07-28T10:22:04.938872",
     "exception": false,
     "start_time": "2025-07-28T10:22:04.903139",
     "status": "completed"
    },
    "tags": []
   },
   "outputs": [],
   "source": [
    "from fairness_multiverse.universe import predict_w_threshold"
   ]
  },
  {
   "cell_type": "code",
   "execution_count": 38,
   "id": "a7cf2e16",
   "metadata": {
    "execution": {
     "iopub.execute_input": "2025-07-28T10:22:04.991045Z",
     "iopub.status.busy": "2025-07-28T10:22:04.990319Z",
     "iopub.status.idle": "2025-07-28T10:22:05.738929Z",
     "shell.execute_reply": "2025-07-28T10:22:05.738034Z"
    },
    "papermill": {
     "duration": 0.77631,
     "end_time": "2025-07-28T10:22:05.740596",
     "exception": false,
     "start_time": "2025-07-28T10:22:04.964286",
     "status": "completed"
    },
    "tags": []
   },
   "outputs": [
    {
     "data": {
      "text/plain": [
       "0.8677739382454576"
      ]
     },
     "execution_count": 38,
     "metadata": {},
     "output_type": "execute_result"
    }
   ],
   "source": [
    "probs_test = model.predict_proba(X_test)\n",
    "\n",
    "'''\n",
    "Below code returns a boolean array (or binary 0/1 array depending on how it’s used) where each element \n",
    "is True if the probability of class 1 is greater than or equal to the threshold, and False otherwise.\n",
    "'''\n",
    "y_pred_default = predict_w_threshold(probs_test, 0.5)\n",
    "\n",
    "from sklearn.metrics import accuracy_score\n",
    "\n",
    "# Naive prediction\n",
    "accuracy_score(y_true = y_true, y_pred = y_pred_default)"
   ]
  },
  {
   "cell_type": "code",
   "execution_count": 39,
   "id": "081964c3",
   "metadata": {
    "execution": {
     "iopub.execute_input": "2025-07-28T10:22:05.787590Z",
     "iopub.status.busy": "2025-07-28T10:22:05.787049Z",
     "iopub.status.idle": "2025-07-28T10:22:06.485996Z",
     "shell.execute_reply": "2025-07-28T10:22:06.485132Z"
    },
    "papermill": {
     "duration": 0.724472,
     "end_time": "2025-07-28T10:22:06.487586",
     "exception": false,
     "start_time": "2025-07-28T10:22:05.763114",
     "status": "completed"
    },
    "tags": []
   },
   "outputs": [
    {
     "data": {
      "text/plain": [
       "array([0, 0, 0, ..., 0, 0, 0])"
      ]
     },
     "execution_count": 39,
     "metadata": {},
     "output_type": "execute_result"
    }
   ],
   "source": [
    "model.predict(X_test)"
   ]
  },
  {
   "cell_type": "markdown",
   "id": "56c9705b",
   "metadata": {
    "papermill": {
     "duration": 0.021473,
     "end_time": "2025-07-28T10:22:06.531147",
     "exception": false,
     "start_time": "2025-07-28T10:22:06.509674",
     "status": "completed"
    },
    "tags": []
   },
   "source": [
    "# Conformal Prediction"
   ]
  },
  {
   "cell_type": "code",
   "execution_count": 40,
   "id": "160ec6ff",
   "metadata": {
    "execution": {
     "iopub.execute_input": "2025-07-28T10:22:06.576402Z",
     "iopub.status.busy": "2025-07-28T10:22:06.575669Z",
     "iopub.status.idle": "2025-07-28T10:22:06.581431Z",
     "shell.execute_reply": "2025-07-28T10:22:06.580567Z"
    },
    "papermill": {
     "duration": 0.030298,
     "end_time": "2025-07-28T10:22:06.582978",
     "exception": false,
     "start_time": "2025-07-28T10:22:06.552680",
     "status": "completed"
    },
    "tags": []
   },
   "outputs": [],
   "source": [
    "# Miscoverage level for conformal prediction (10% allowed error rate => 90% target coverage)\n",
    "alpha = 0.1"
   ]
  },
  {
   "cell_type": "code",
   "execution_count": 41,
   "id": "eadf4555-3dd3-440e-8e35-f82a4ad9f855",
   "metadata": {
    "execution": {
     "iopub.execute_input": "2025-07-28T10:22:06.628530Z",
     "iopub.status.busy": "2025-07-28T10:22:06.627836Z",
     "iopub.status.idle": "2025-07-28T10:22:07.268913Z",
     "shell.execute_reply": "2025-07-28T10:22:07.267904Z"
    },
    "papermill": {
     "duration": 0.665787,
     "end_time": "2025-07-28T10:22:07.270873",
     "exception": false,
     "start_time": "2025-07-28T10:22:06.605086",
     "status": "completed"
    },
    "tags": []
   },
   "outputs": [],
   "source": [
    "probs_calib = model.predict_proba(X_calib)"
   ]
  },
  {
   "cell_type": "code",
   "execution_count": 42,
   "id": "2ed93547-6d5d-4983-9b36-1ecb300da49a",
   "metadata": {
    "execution": {
     "iopub.execute_input": "2025-07-28T10:22:07.316048Z",
     "iopub.status.busy": "2025-07-28T10:22:07.314933Z",
     "iopub.status.idle": "2025-07-28T10:22:07.320754Z",
     "shell.execute_reply": "2025-07-28T10:22:07.319852Z"
    },
    "papermill": {
     "duration": 0.02981,
     "end_time": "2025-07-28T10:22:07.322378",
     "exception": false,
     "start_time": "2025-07-28T10:22:07.292568",
     "status": "completed"
    },
    "tags": []
   },
   "outputs": [],
   "source": [
    "y_calib = y_calib.values.ravel().astype(int)"
   ]
  },
  {
   "cell_type": "code",
   "execution_count": 43,
   "id": "65d1320d-f588-4b38-9072-62af1ae97f7d",
   "metadata": {
    "execution": {
     "iopub.execute_input": "2025-07-28T10:22:07.366705Z",
     "iopub.status.busy": "2025-07-28T10:22:07.366068Z",
     "iopub.status.idle": "2025-07-28T10:22:07.373777Z",
     "shell.execute_reply": "2025-07-28T10:22:07.372822Z"
    },
    "papermill": {
     "duration": 0.031713,
     "end_time": "2025-07-28T10:22:07.375534",
     "exception": false,
     "start_time": "2025-07-28T10:22:07.343821",
     "status": "completed"
    },
    "tags": []
   },
   "outputs": [],
   "source": [
    "from fairness_multiverse.conformal import compute_nc_scores\n",
    "\n",
    "# Compute nonconformity scores on calibration set (1 - probability of true class)\n",
    "nc_scores = compute_nc_scores(probs_calib, y_calib)"
   ]
  },
  {
   "cell_type": "code",
   "execution_count": 44,
   "id": "df3b8ca3-53b7-43d5-9667-7c85da7aeda2",
   "metadata": {
    "execution": {
     "iopub.execute_input": "2025-07-28T10:22:07.421438Z",
     "iopub.status.busy": "2025-07-28T10:22:07.420978Z",
     "iopub.status.idle": "2025-07-28T10:22:07.427805Z",
     "shell.execute_reply": "2025-07-28T10:22:07.426879Z"
    },
    "papermill": {
     "duration": 0.031116,
     "end_time": "2025-07-28T10:22:07.429336",
     "exception": false,
     "start_time": "2025-07-28T10:22:07.398220",
     "status": "completed"
    },
    "tags": []
   },
   "outputs": [],
   "source": [
    "from fairness_multiverse.conformal import find_threshold\n",
    "\n",
    "# Find conformal threshold q_hat for the given alpha (split conformal method)\n",
    "q_hat = find_threshold(nc_scores, alpha)"
   ]
  },
  {
   "cell_type": "code",
   "execution_count": 45,
   "id": "4d29e6c1-0ef6-4aa4-b8fe-4fe79b0d033a",
   "metadata": {
    "execution": {
     "iopub.execute_input": "2025-07-28T10:22:07.474538Z",
     "iopub.status.busy": "2025-07-28T10:22:07.473857Z",
     "iopub.status.idle": "2025-07-28T10:22:07.480941Z",
     "shell.execute_reply": "2025-07-28T10:22:07.480088Z"
    },
    "papermill": {
     "duration": 0.031318,
     "end_time": "2025-07-28T10:22:07.482622",
     "exception": false,
     "start_time": "2025-07-28T10:22:07.451304",
     "status": "completed"
    },
    "tags": []
   },
   "outputs": [
    {
     "data": {
      "text/plain": [
       "0.6861149073630115"
      ]
     },
     "execution_count": 45,
     "metadata": {},
     "output_type": "execute_result"
    }
   ],
   "source": [
    "q_hat"
   ]
  },
  {
   "cell_type": "code",
   "execution_count": 46,
   "id": "92460794-cdac-4be2-ba28-f28c0515a6fb",
   "metadata": {
    "execution": {
     "iopub.execute_input": "2025-07-28T10:22:07.528183Z",
     "iopub.status.busy": "2025-07-28T10:22:07.527466Z",
     "iopub.status.idle": "2025-07-28T10:22:08.936949Z",
     "shell.execute_reply": "2025-07-28T10:22:08.935965Z"
    },
    "papermill": {
     "duration": 1.434176,
     "end_time": "2025-07-28T10:22:08.938826",
     "exception": false,
     "start_time": "2025-07-28T10:22:07.504650",
     "status": "completed"
    },
    "tags": []
   },
   "outputs": [],
   "source": [
    "from fairness_multiverse.conformal import predict_conformal_sets\n",
    "\n",
    "# Generate prediction sets for each test example\n",
    "pred_sets = predict_conformal_sets(model, X_test, q_hat)"
   ]
  },
  {
   "cell_type": "code",
   "execution_count": 47,
   "id": "d90c9a65-e6db-4f5d-80cd-e68fb7e46829",
   "metadata": {
    "execution": {
     "iopub.execute_input": "2025-07-28T10:22:09.008008Z",
     "iopub.status.busy": "2025-07-28T10:22:09.007298Z",
     "iopub.status.idle": "2025-07-28T10:22:09.013178Z",
     "shell.execute_reply": "2025-07-28T10:22:09.012122Z"
    },
    "papermill": {
     "duration": 0.034199,
     "end_time": "2025-07-28T10:22:09.014860",
     "exception": false,
     "start_time": "2025-07-28T10:22:08.980661",
     "status": "completed"
    },
    "tags": []
   },
   "outputs": [],
   "source": [
    "y_true = y_true.squeeze()"
   ]
  },
  {
   "cell_type": "code",
   "execution_count": 48,
   "id": "3a58a54a-1e68-46b9-927a-df01f18aebc8",
   "metadata": {
    "execution": {
     "iopub.execute_input": "2025-07-28T10:22:09.068404Z",
     "iopub.status.busy": "2025-07-28T10:22:09.067427Z",
     "iopub.status.idle": "2025-07-28T10:22:10.075017Z",
     "shell.execute_reply": "2025-07-28T10:22:10.074054Z"
    },
    "papermill": {
     "duration": 1.036363,
     "end_time": "2025-07-28T10:22:10.076814",
     "exception": false,
     "start_time": "2025-07-28T10:22:09.040451",
     "status": "completed"
    },
    "tags": []
   },
   "outputs": [],
   "source": [
    "from fairness_multiverse.conformal import evaluate_sets\n",
    "\n",
    "# Evaluate coverage and average set size on test data\n",
    "metrics = evaluate_sets(pred_sets, y_true)"
   ]
  },
  {
   "cell_type": "markdown",
   "id": "2b569c12-9aaa-4c88-98c9-bbcd0cf3ebb8",
   "metadata": {
    "papermill": {
     "duration": 0.024973,
     "end_time": "2025-07-28T10:22:10.128186",
     "exception": false,
     "start_time": "2025-07-28T10:22:10.103213",
     "status": "completed"
    },
    "tags": []
   },
   "source": [
    "# CP Metrics"
   ]
  },
  {
   "cell_type": "code",
   "execution_count": 49,
   "id": "5ce0a5cb-201f-45a0-ade5-94c7f0bd6095",
   "metadata": {
    "execution": {
     "iopub.execute_input": "2025-07-28T10:22:10.178366Z",
     "iopub.status.busy": "2025-07-28T10:22:10.177580Z",
     "iopub.status.idle": "2025-07-28T10:22:10.185461Z",
     "shell.execute_reply": "2025-07-28T10:22:10.184420Z"
    },
    "papermill": {
     "duration": 0.034691,
     "end_time": "2025-07-28T10:22:10.187142",
     "exception": false,
     "start_time": "2025-07-28T10:22:10.152451",
     "status": "completed"
    },
    "tags": []
   },
   "outputs": [
    {
     "data": {
      "text/plain": [
       "{'coverage': 0.9116597926652548, 'avg_size': 1.121446884405306}"
      ]
     },
     "execution_count": 49,
     "metadata": {},
     "output_type": "execute_result"
    }
   ],
   "source": [
    "metrics"
   ]
  },
  {
   "cell_type": "code",
   "execution_count": 50,
   "id": "9b9a838d-31c9-430b-ae14-12baee460d17",
   "metadata": {
    "execution": {
     "iopub.execute_input": "2025-07-28T10:22:10.239086Z",
     "iopub.status.busy": "2025-07-28T10:22:10.238093Z",
     "iopub.status.idle": "2025-07-28T10:22:10.244704Z",
     "shell.execute_reply": "2025-07-28T10:22:10.243723Z"
    },
    "papermill": {
     "duration": 0.033735,
     "end_time": "2025-07-28T10:22:10.246445",
     "exception": false,
     "start_time": "2025-07-28T10:22:10.212710",
     "status": "completed"
    },
    "tags": []
   },
   "outputs": [],
   "source": [
    "example_universe = universe.copy()\n",
    "universe_training_size = example_universe.get(\"training_size\")\n",
    "universe_scale = example_universe.get(\"scale\")\n",
    "universe_model = example_universe.get(\"model\")\n",
    "universe_exclude_features = example_universe.get(\"exclude_features\")\n",
    "universe_exclude_subgroups = example_universe.get(\"exclude_subgroups\")"
   ]
  },
  {
   "cell_type": "code",
   "execution_count": 51,
   "id": "f4b6a8ac-9dc0-4245-8a91-5b3b5999c4f9",
   "metadata": {
    "execution": {
     "iopub.execute_input": "2025-07-28T10:22:10.299088Z",
     "iopub.status.busy": "2025-07-28T10:22:10.298580Z",
     "iopub.status.idle": "2025-07-28T10:22:10.305574Z",
     "shell.execute_reply": "2025-07-28T10:22:10.304380Z"
    },
    "papermill": {
     "duration": 0.03527,
     "end_time": "2025-07-28T10:22:10.307250",
     "exception": false,
     "start_time": "2025-07-28T10:22:10.271980",
     "status": "completed"
    },
    "tags": []
   },
   "outputs": [],
   "source": [
    "cp_metrics_dict = {\n",
    "    \"universe_id\": [universe_id],\n",
    "    \"universe_training_size\": [universe_training_size],\n",
    "    \"universe_scale\": [universe_scale],\n",
    "    \"universe_model\": [universe_model],\n",
    "    \"universe_exclude_features\": [universe_exclude_features],\n",
    "    \"universe_exclude_subgroups\": [universe_exclude_subgroups],\n",
    "    \"q_hat\": [q_hat],\n",
    "    \"coverage\": [metrics[\"coverage\"]],\n",
    "    \"avg_size\": [metrics[\"avg_size\"]],\n",
    "}"
   ]
  },
  {
   "cell_type": "code",
   "execution_count": 52,
   "id": "908acbb1-0371-4915-85ca-3fa520d2efe2",
   "metadata": {
    "execution": {
     "iopub.execute_input": "2025-07-28T10:22:10.359909Z",
     "iopub.status.busy": "2025-07-28T10:22:10.358991Z",
     "iopub.status.idle": "2025-07-28T10:22:10.367557Z",
     "shell.execute_reply": "2025-07-28T10:22:10.366567Z"
    },
    "papermill": {
     "duration": 0.036643,
     "end_time": "2025-07-28T10:22:10.369147",
     "exception": false,
     "start_time": "2025-07-28T10:22:10.332504",
     "status": "completed"
    },
    "tags": []
   },
   "outputs": [
    {
     "data": {
      "text/plain": [
       "{'universe_id': ['e51d9c5147f9f5020b59d7b98120eb98'],\n",
       " 'universe_training_size': ['25k'],\n",
       " 'universe_scale': ['do-not-scale'],\n",
       " 'universe_model': ['gbm'],\n",
       " 'universe_exclude_features': ['age'],\n",
       " 'universe_exclude_subgroups': ['drop-non-german'],\n",
       " 'q_hat': [0.6861149073630115],\n",
       " 'coverage': [0.9116597926652548],\n",
       " 'avg_size': [1.121446884405306]}"
      ]
     },
     "execution_count": 52,
     "metadata": {},
     "output_type": "execute_result"
    }
   ],
   "source": [
    "cp_metrics_dict"
   ]
  },
  {
   "cell_type": "code",
   "execution_count": 53,
   "id": "33007efc-14e9-4ec6-97ac-56a455c82265",
   "metadata": {
    "execution": {
     "iopub.execute_input": "2025-07-28T10:22:10.420629Z",
     "iopub.status.busy": "2025-07-28T10:22:10.419888Z",
     "iopub.status.idle": "2025-07-28T10:22:10.426703Z",
     "shell.execute_reply": "2025-07-28T10:22:10.425545Z"
    },
    "papermill": {
     "duration": 0.034389,
     "end_time": "2025-07-28T10:22:10.428468",
     "exception": false,
     "start_time": "2025-07-28T10:22:10.394079",
     "status": "completed"
    },
    "tags": []
   },
   "outputs": [],
   "source": [
    "cp_metrics_df = pd.DataFrame(cp_metrics_dict)"
   ]
  },
  {
   "cell_type": "code",
   "execution_count": 54,
   "id": "db12611b-57b2-4910-b9d0-355adfd6e7bf",
   "metadata": {
    "execution": {
     "iopub.execute_input": "2025-07-28T10:22:10.481292Z",
     "iopub.status.busy": "2025-07-28T10:22:10.480622Z",
     "iopub.status.idle": "2025-07-28T10:22:10.500432Z",
     "shell.execute_reply": "2025-07-28T10:22:10.499290Z"
    },
    "papermill": {
     "duration": 0.048161,
     "end_time": "2025-07-28T10:22:10.502369",
     "exception": false,
     "start_time": "2025-07-28T10:22:10.454208",
     "status": "completed"
    },
    "tags": []
   },
   "outputs": [
    {
     "data": {
      "text/html": [
       "<div>\n",
       "<style scoped>\n",
       "    .dataframe tbody tr th:only-of-type {\n",
       "        vertical-align: middle;\n",
       "    }\n",
       "\n",
       "    .dataframe tbody tr th {\n",
       "        vertical-align: top;\n",
       "    }\n",
       "\n",
       "    .dataframe thead th {\n",
       "        text-align: right;\n",
       "    }\n",
       "</style>\n",
       "<table border=\"1\" class=\"dataframe\">\n",
       "  <thead>\n",
       "    <tr style=\"text-align: right;\">\n",
       "      <th></th>\n",
       "      <th>universe_id</th>\n",
       "      <th>universe_training_size</th>\n",
       "      <th>universe_scale</th>\n",
       "      <th>universe_model</th>\n",
       "      <th>universe_exclude_features</th>\n",
       "      <th>universe_exclude_subgroups</th>\n",
       "      <th>q_hat</th>\n",
       "      <th>coverage</th>\n",
       "      <th>avg_size</th>\n",
       "    </tr>\n",
       "  </thead>\n",
       "  <tbody>\n",
       "    <tr>\n",
       "      <th>0</th>\n",
       "      <td>e51d9c5147f9f5020b59d7b98120eb98</td>\n",
       "      <td>25k</td>\n",
       "      <td>do-not-scale</td>\n",
       "      <td>gbm</td>\n",
       "      <td>age</td>\n",
       "      <td>drop-non-german</td>\n",
       "      <td>0.686115</td>\n",
       "      <td>0.91166</td>\n",
       "      <td>1.121447</td>\n",
       "    </tr>\n",
       "  </tbody>\n",
       "</table>\n",
       "</div>"
      ],
      "text/plain": [
       "                        universe_id universe_training_size universe_scale  \\\n",
       "0  e51d9c5147f9f5020b59d7b98120eb98                    25k   do-not-scale   \n",
       "\n",
       "  universe_model universe_exclude_features universe_exclude_subgroups  \\\n",
       "0            gbm                       age            drop-non-german   \n",
       "\n",
       "      q_hat  coverage  avg_size  \n",
       "0  0.686115   0.91166  1.121447  "
      ]
     },
     "execution_count": 54,
     "metadata": {},
     "output_type": "execute_result"
    }
   ],
   "source": [
    "cp_metrics_df"
   ]
  },
  {
   "cell_type": "code",
   "execution_count": 55,
   "id": "b7fbde55-a0a1-47e4-9af6-fe4a17fa8c61",
   "metadata": {
    "execution": {
     "iopub.execute_input": "2025-07-28T10:22:10.555780Z",
     "iopub.status.busy": "2025-07-28T10:22:10.554741Z",
     "iopub.status.idle": "2025-07-28T10:22:10.560842Z",
     "shell.execute_reply": "2025-07-28T10:22:10.559751Z"
    },
    "papermill": {
     "duration": 0.034207,
     "end_time": "2025-07-28T10:22:10.562824",
     "exception": false,
     "start_time": "2025-07-28T10:22:10.528617",
     "status": "completed"
    },
    "tags": []
   },
   "outputs": [],
   "source": [
    "# Conditional Coverage & looking at subgroups"
   ]
  },
  {
   "cell_type": "code",
   "execution_count": 56,
   "id": "027ae886-68dd-4141-96c7-805a5450e1ef",
   "metadata": {
    "execution": {
     "iopub.execute_input": "2025-07-28T10:22:10.616444Z",
     "iopub.status.busy": "2025-07-28T10:22:10.615927Z",
     "iopub.status.idle": "2025-07-28T10:22:10.900805Z",
     "shell.execute_reply": "2025-07-28T10:22:10.899744Z"
    },
    "papermill": {
     "duration": 0.313605,
     "end_time": "2025-07-28T10:22:10.903045",
     "exception": false,
     "start_time": "2025-07-28T10:22:10.589440",
     "status": "completed"
    },
    "tags": []
   },
   "outputs": [],
   "source": [
    "from fairness_multiverse.conformal import build_cp_groups\n",
    "\n",
    "cp_groups_df = build_cp_groups(pred_sets, y_true, X_test.index, org_test)\n",
    "#needs universe_id and setting"
   ]
  },
  {
   "cell_type": "code",
   "execution_count": 57,
   "id": "01d5802c-663a-4d1f-9d69-e036faaffbf7",
   "metadata": {
    "execution": {
     "iopub.execute_input": "2025-07-28T10:22:10.960174Z",
     "iopub.status.busy": "2025-07-28T10:22:10.959385Z",
     "iopub.status.idle": "2025-07-28T10:22:10.964859Z",
     "shell.execute_reply": "2025-07-28T10:22:10.963671Z"
    },
    "papermill": {
     "duration": 0.036399,
     "end_time": "2025-07-28T10:22:10.966657",
     "exception": false,
     "start_time": "2025-07-28T10:22:10.930258",
     "status": "completed"
    },
    "tags": []
   },
   "outputs": [],
   "source": [
    "#delete\n",
    "#cp_groups_df"
   ]
  },
  {
   "cell_type": "code",
   "execution_count": 58,
   "id": "fa424af1-d1eb-443d-b717-2d279ada8408",
   "metadata": {
    "execution": {
     "iopub.execute_input": "2025-07-28T10:22:11.021923Z",
     "iopub.status.busy": "2025-07-28T10:22:11.020997Z",
     "iopub.status.idle": "2025-07-28T10:22:11.026610Z",
     "shell.execute_reply": "2025-07-28T10:22:11.025479Z"
    },
    "papermill": {
     "duration": 0.035224,
     "end_time": "2025-07-28T10:22:11.028647",
     "exception": false,
     "start_time": "2025-07-28T10:22:10.993423",
     "status": "completed"
    },
    "tags": []
   },
   "outputs": [],
   "source": [
    "#delete\n",
    "#percentage = (cp_groups_df['nongerman_female'] == 1).mean() * 100\n",
    "#print(percentage)\n"
   ]
  },
  {
   "cell_type": "code",
   "execution_count": 59,
   "id": "6cbdab96-b2b2-45af-ad54-d0516db2e28d",
   "metadata": {
    "execution": {
     "iopub.execute_input": "2025-07-28T10:22:11.084486Z",
     "iopub.status.busy": "2025-07-28T10:22:11.083765Z",
     "iopub.status.idle": "2025-07-28T10:22:12.518846Z",
     "shell.execute_reply": "2025-07-28T10:22:12.518062Z"
    },
    "papermill": {
     "duration": 1.464418,
     "end_time": "2025-07-28T10:22:12.520413",
     "exception": false,
     "start_time": "2025-07-28T10:22:11.055995",
     "status": "completed"
    },
    "tags": []
   },
   "outputs": [],
   "source": [
    "# Define covered = 1 if true_label is in the predicted set\n",
    "cp_groups_df['covered'] = cp_groups_df.apply(\n",
    "    lambda r: int(r['true_label'] in r['pred_set']),\n",
    "    axis=1\n",
    ")"
   ]
  },
  {
   "cell_type": "code",
   "execution_count": 60,
   "id": "338ff529-1a6b-4b87-a931-8e4788d52aad",
   "metadata": {
    "execution": {
     "iopub.execute_input": "2025-07-28T10:22:12.549394Z",
     "iopub.status.busy": "2025-07-28T10:22:12.549039Z",
     "iopub.status.idle": "2025-07-28T10:22:12.553839Z",
     "shell.execute_reply": "2025-07-28T10:22:12.553055Z"
    },
    "papermill": {
     "duration": 0.020787,
     "end_time": "2025-07-28T10:22:12.555196",
     "exception": false,
     "start_time": "2025-07-28T10:22:12.534409",
     "status": "completed"
    },
    "tags": []
   },
   "outputs": [],
   "source": [
    "#cp_groups_df"
   ]
  },
  {
   "cell_type": "code",
   "execution_count": 61,
   "id": "90032e27-66df-4540-9169-4e89cfbaa758",
   "metadata": {
    "execution": {
     "iopub.execute_input": "2025-07-28T10:22:12.584331Z",
     "iopub.status.busy": "2025-07-28T10:22:12.583772Z",
     "iopub.status.idle": "2025-07-28T10:22:12.593498Z",
     "shell.execute_reply": "2025-07-28T10:22:12.592602Z"
    },
    "papermill": {
     "duration": 0.025782,
     "end_time": "2025-07-28T10:22:12.595019",
     "exception": false,
     "start_time": "2025-07-28T10:22:12.569237",
     "status": "completed"
    },
    "tags": []
   },
   "outputs": [],
   "source": [
    "subgroups = ['frau1','nongerman','nongerman_male','nongerman_female']\n",
    "\n",
    "# Conditional coverage for subgroup==1\n",
    "cond_coverage = {\n",
    "    g: cp_groups_df.loc[cp_groups_df[g]==1, 'covered'].mean()\n",
    "    for g in subgroups\n",
    "}"
   ]
  },
  {
   "cell_type": "code",
   "execution_count": 62,
   "id": "1e348fb1-b9c3-45bc-ba23-f016827a7e0d",
   "metadata": {
    "execution": {
     "iopub.execute_input": "2025-07-28T10:22:12.625088Z",
     "iopub.status.busy": "2025-07-28T10:22:12.624166Z",
     "iopub.status.idle": "2025-07-28T10:22:12.630725Z",
     "shell.execute_reply": "2025-07-28T10:22:12.629913Z"
    },
    "papermill": {
     "duration": 0.022817,
     "end_time": "2025-07-28T10:22:12.632159",
     "exception": false,
     "start_time": "2025-07-28T10:22:12.609342",
     "status": "completed"
    },
    "tags": []
   },
   "outputs": [
    {
     "data": {
      "text/plain": [
       "{'frau1': 0.9092330502763175,\n",
       " 'nongerman': 0.9063605232133835,\n",
       " 'nongerman_male': 0.9240745744393407,\n",
       " 'nongerman_female': 0.8770491803278688}"
      ]
     },
     "execution_count": 62,
     "metadata": {},
     "output_type": "execute_result"
    }
   ],
   "source": [
    "cond_coverage"
   ]
  },
  {
   "cell_type": "code",
   "execution_count": 63,
   "id": "f5093324-c3dd-4d63-bc4c-8d945e5c8bbb",
   "metadata": {
    "execution": {
     "iopub.execute_input": "2025-07-28T10:22:12.662117Z",
     "iopub.status.busy": "2025-07-28T10:22:12.661593Z",
     "iopub.status.idle": "2025-07-28T10:22:12.668466Z",
     "shell.execute_reply": "2025-07-28T10:22:12.667633Z"
    },
    "papermill": {
     "duration": 0.023315,
     "end_time": "2025-07-28T10:22:12.669844",
     "exception": false,
     "start_time": "2025-07-28T10:22:12.646529",
     "status": "completed"
    },
    "tags": []
   },
   "outputs": [],
   "source": [
    "for subgroup, cov in cond_coverage.items():\n",
    "    cp_metrics_df[f\"cov_{subgroup}\"] = cov"
   ]
  },
  {
   "cell_type": "code",
   "execution_count": 64,
   "id": "6e872e10-dbe5-49e8-b554-5030c98ff75d",
   "metadata": {
    "execution": {
     "iopub.execute_input": "2025-07-28T10:22:12.699826Z",
     "iopub.status.busy": "2025-07-28T10:22:12.699314Z",
     "iopub.status.idle": "2025-07-28T10:22:12.713806Z",
     "shell.execute_reply": "2025-07-28T10:22:12.712955Z"
    },
    "papermill": {
     "duration": 0.030703,
     "end_time": "2025-07-28T10:22:12.715191",
     "exception": false,
     "start_time": "2025-07-28T10:22:12.684488",
     "status": "completed"
    },
    "tags": []
   },
   "outputs": [
    {
     "data": {
      "text/html": [
       "<div>\n",
       "<style scoped>\n",
       "    .dataframe tbody tr th:only-of-type {\n",
       "        vertical-align: middle;\n",
       "    }\n",
       "\n",
       "    .dataframe tbody tr th {\n",
       "        vertical-align: top;\n",
       "    }\n",
       "\n",
       "    .dataframe thead th {\n",
       "        text-align: right;\n",
       "    }\n",
       "</style>\n",
       "<table border=\"1\" class=\"dataframe\">\n",
       "  <thead>\n",
       "    <tr style=\"text-align: right;\">\n",
       "      <th></th>\n",
       "      <th>universe_id</th>\n",
       "      <th>universe_training_size</th>\n",
       "      <th>universe_scale</th>\n",
       "      <th>universe_model</th>\n",
       "      <th>universe_exclude_features</th>\n",
       "      <th>universe_exclude_subgroups</th>\n",
       "      <th>q_hat</th>\n",
       "      <th>coverage</th>\n",
       "      <th>avg_size</th>\n",
       "      <th>cov_frau1</th>\n",
       "      <th>cov_nongerman</th>\n",
       "      <th>cov_nongerman_male</th>\n",
       "      <th>cov_nongerman_female</th>\n",
       "    </tr>\n",
       "  </thead>\n",
       "  <tbody>\n",
       "    <tr>\n",
       "      <th>0</th>\n",
       "      <td>e51d9c5147f9f5020b59d7b98120eb98</td>\n",
       "      <td>25k</td>\n",
       "      <td>do-not-scale</td>\n",
       "      <td>gbm</td>\n",
       "      <td>age</td>\n",
       "      <td>drop-non-german</td>\n",
       "      <td>0.686115</td>\n",
       "      <td>0.91166</td>\n",
       "      <td>1.121447</td>\n",
       "      <td>0.909233</td>\n",
       "      <td>0.906361</td>\n",
       "      <td>0.924075</td>\n",
       "      <td>0.877049</td>\n",
       "    </tr>\n",
       "  </tbody>\n",
       "</table>\n",
       "</div>"
      ],
      "text/plain": [
       "                        universe_id universe_training_size universe_scale  \\\n",
       "0  e51d9c5147f9f5020b59d7b98120eb98                    25k   do-not-scale   \n",
       "\n",
       "  universe_model universe_exclude_features universe_exclude_subgroups  \\\n",
       "0            gbm                       age            drop-non-german   \n",
       "\n",
       "      q_hat  coverage  avg_size  cov_frau1  cov_nongerman  cov_nongerman_male  \\\n",
       "0  0.686115   0.91166  1.121447   0.909233       0.906361            0.924075   \n",
       "\n",
       "   cov_nongerman_female  \n",
       "0              0.877049  "
      ]
     },
     "execution_count": 64,
     "metadata": {},
     "output_type": "execute_result"
    }
   ],
   "source": [
    "cp_metrics_df"
   ]
  },
  {
   "cell_type": "markdown",
   "id": "33774451",
   "metadata": {
    "papermill": {
     "duration": 0.01426,
     "end_time": "2025-07-28T10:22:12.744023",
     "exception": false,
     "start_time": "2025-07-28T10:22:12.729763",
     "status": "completed"
    },
    "tags": []
   },
   "source": [
    "# (Fairness) Metrics"
   ]
  },
  {
   "cell_type": "code",
   "execution_count": 65,
   "id": "debc5d62",
   "metadata": {
    "execution": {
     "iopub.execute_input": "2025-07-28T10:22:12.774431Z",
     "iopub.status.busy": "2025-07-28T10:22:12.773887Z",
     "iopub.status.idle": "2025-07-28T10:22:12.789558Z",
     "shell.execute_reply": "2025-07-28T10:22:12.788372Z"
    },
    "papermill": {
     "duration": 0.032916,
     "end_time": "2025-07-28T10:22:12.791303",
     "exception": false,
     "start_time": "2025-07-28T10:22:12.758387",
     "status": "completed"
    },
    "tags": []
   },
   "outputs": [],
   "source": [
    "# do I need to include maxdeutsch1.missing?\n",
    "\n",
    "import numpy as np\n",
    "\n",
    "colname_to_bin = \"maxdeutsch1\"\n",
    "majority_value = org_train[colname_to_bin].mode()[0]\n",
    "\n",
    "org_test[\"majmin\"] = np.where(org_test[colname_to_bin] == majority_value, \"majority\", \"minority\")"
   ]
  },
  {
   "cell_type": "code",
   "execution_count": 66,
   "id": "06a50de5",
   "metadata": {
    "execution": {
     "iopub.execute_input": "2025-07-28T10:22:12.847117Z",
     "iopub.status.busy": "2025-07-28T10:22:12.846250Z",
     "iopub.status.idle": "2025-07-28T10:22:15.951812Z",
     "shell.execute_reply": "2025-07-28T10:22:15.950761Z"
    },
    "papermill": {
     "duration": 3.133889,
     "end_time": "2025-07-28T10:22:15.953307",
     "exception": false,
     "start_time": "2025-07-28T10:22:12.819418",
     "status": "completed"
    },
    "tags": []
   },
   "outputs": [],
   "source": [
    "example_universe = universe.copy()\n",
    "example_universe[\"cutoff\"] = example_universe[\"cutoff\"][0]\n",
    "example_universe[\"eval_fairness_grouping\"] = example_universe[\"eval_fairness_grouping\"][0]\n",
    "fairness_dict, metric_frame = universe_analysis.compute_metrics(\n",
    "    example_universe,\n",
    "    y_pred_prob=probs_test,\n",
    "    y_test=y_true,\n",
    "    org_test=org_test,\n",
    ")"
   ]
  },
  {
   "cell_type": "markdown",
   "id": "f95d4e02",
   "metadata": {
    "papermill": {
     "duration": 0.027279,
     "end_time": "2025-07-28T10:22:16.005891",
     "exception": false,
     "start_time": "2025-07-28T10:22:15.978612",
     "status": "completed"
    },
    "tags": []
   },
   "source": [
    "# Overall"
   ]
  },
  {
   "cell_type": "markdown",
   "id": "bdee4871",
   "metadata": {
    "papermill": {
     "duration": 0.027099,
     "end_time": "2025-07-28T10:22:16.051575",
     "exception": false,
     "start_time": "2025-07-28T10:22:16.024476",
     "status": "completed"
    },
    "tags": []
   },
   "source": [
    "Fairness\n",
    "Main fairness target: Equalized Odds. Seems to be a better fit than equal opportunity, since we're not only interested in Y = 1. Seems to be a better fit than demographic parity, since we also care about accuracy, not just equal distribution of preds.\n",
    "\n",
    "Pick column for computation of fairness metrics\n",
    "\n",
    "Performance\n",
    "Overall performance measures, most interesting in relation to the measures split by group below"
   ]
  },
  {
   "cell_type": "code",
   "execution_count": 67,
   "id": "c4e067c6",
   "metadata": {
    "execution": {
     "iopub.execute_input": "2025-07-28T10:22:16.152486Z",
     "iopub.status.busy": "2025-07-28T10:22:16.151957Z",
     "iopub.status.idle": "2025-07-28T10:22:16.160733Z",
     "shell.execute_reply": "2025-07-28T10:22:16.159847Z"
    },
    "papermill": {
     "duration": 0.086271,
     "end_time": "2025-07-28T10:22:16.162626",
     "exception": false,
     "start_time": "2025-07-28T10:22:16.076355",
     "status": "completed"
    },
    "tags": []
   },
   "outputs": [
    {
     "data": {
      "text/plain": [
       "accuracy                   0.225003\n",
       "balanced accuracy          0.550031\n",
       "f1                         0.246317\n",
       "precision                  0.140713\n",
       "false positive rate        0.887164\n",
       "false negative rate        0.012774\n",
       "selection rate             0.900000\n",
       "count                  89710.000000\n",
       "dtype: float64"
      ]
     },
     "execution_count": 67,
     "metadata": {},
     "output_type": "execute_result"
    }
   ],
   "source": [
    "metric_frame.overall"
   ]
  },
  {
   "cell_type": "markdown",
   "id": "e968fe9d",
   "metadata": {
    "papermill": {
     "duration": 0.024475,
     "end_time": "2025-07-28T10:22:16.212052",
     "exception": false,
     "start_time": "2025-07-28T10:22:16.187577",
     "status": "completed"
    },
    "tags": []
   },
   "source": [
    "By Group"
   ]
  },
  {
   "cell_type": "code",
   "execution_count": 68,
   "id": "ec325bce",
   "metadata": {
    "execution": {
     "iopub.execute_input": "2025-07-28T10:22:16.262809Z",
     "iopub.status.busy": "2025-07-28T10:22:16.262310Z",
     "iopub.status.idle": "2025-07-28T10:22:16.276558Z",
     "shell.execute_reply": "2025-07-28T10:22:16.275828Z"
    },
    "papermill": {
     "duration": 0.051128,
     "end_time": "2025-07-28T10:22:16.287396",
     "exception": false,
     "start_time": "2025-07-28T10:22:16.236268",
     "status": "completed"
    },
    "tags": []
   },
   "outputs": [
    {
     "data": {
      "text/html": [
       "<div>\n",
       "<style scoped>\n",
       "    .dataframe tbody tr th:only-of-type {\n",
       "        vertical-align: middle;\n",
       "    }\n",
       "\n",
       "    .dataframe tbody tr th {\n",
       "        vertical-align: top;\n",
       "    }\n",
       "\n",
       "    .dataframe thead th {\n",
       "        text-align: right;\n",
       "    }\n",
       "</style>\n",
       "<table border=\"1\" class=\"dataframe\">\n",
       "  <thead>\n",
       "    <tr style=\"text-align: right;\">\n",
       "      <th></th>\n",
       "      <th>accuracy</th>\n",
       "      <th>balanced accuracy</th>\n",
       "      <th>f1</th>\n",
       "      <th>precision</th>\n",
       "      <th>false positive rate</th>\n",
       "      <th>false negative rate</th>\n",
       "      <th>selection rate</th>\n",
       "      <th>count</th>\n",
       "    </tr>\n",
       "    <tr>\n",
       "      <th>majmin</th>\n",
       "      <th></th>\n",
       "      <th></th>\n",
       "      <th></th>\n",
       "      <th></th>\n",
       "      <th></th>\n",
       "      <th></th>\n",
       "      <th></th>\n",
       "      <th></th>\n",
       "    </tr>\n",
       "  </thead>\n",
       "  <tbody>\n",
       "    <tr>\n",
       "      <th>majority</th>\n",
       "      <td>0.236128</td>\n",
       "      <td>0.554718</td>\n",
       "      <td>0.254694</td>\n",
       "      <td>0.146195</td>\n",
       "      <td>0.878311</td>\n",
       "      <td>0.012254</td>\n",
       "      <td>0.892771</td>\n",
       "      <td>69170.0</td>\n",
       "    </tr>\n",
       "    <tr>\n",
       "      <th>minority</th>\n",
       "      <td>0.187537</td>\n",
       "      <td>0.534405</td>\n",
       "      <td>0.218507</td>\n",
       "      <td>0.122880</td>\n",
       "      <td>0.916410</td>\n",
       "      <td>0.014780</td>\n",
       "      <td>0.924343</td>\n",
       "      <td>20540.0</td>\n",
       "    </tr>\n",
       "  </tbody>\n",
       "</table>\n",
       "</div>"
      ],
      "text/plain": [
       "          accuracy  balanced accuracy        f1  precision  \\\n",
       "majmin                                                       \n",
       "majority  0.236128           0.554718  0.254694   0.146195   \n",
       "minority  0.187537           0.534405  0.218507   0.122880   \n",
       "\n",
       "          false positive rate  false negative rate  selection rate    count  \n",
       "majmin                                                                       \n",
       "majority             0.878311             0.012254        0.892771  69170.0  \n",
       "minority             0.916410             0.014780        0.924343  20540.0  "
      ]
     },
     "execution_count": 68,
     "metadata": {},
     "output_type": "execute_result"
    }
   ],
   "source": [
    "metric_frame.by_group"
   ]
  },
  {
   "cell_type": "code",
   "execution_count": 69,
   "id": "a9ddbe63",
   "metadata": {
    "execution": {
     "iopub.execute_input": "2025-07-28T10:22:16.326657Z",
     "iopub.status.busy": "2025-07-28T10:22:16.326309Z",
     "iopub.status.idle": "2025-07-28T10:22:17.940836Z",
     "shell.execute_reply": "2025-07-28T10:22:17.939891Z"
    },
    "papermill": {
     "duration": 1.63093,
     "end_time": "2025-07-28T10:22:17.942178",
     "exception": false,
     "start_time": "2025-07-28T10:22:16.311248",
     "status": "completed"
    },
    "tags": []
   },
   "outputs": [
    {
     "data": {
      "text/plain": [
       "array([[<Axes: title={'center': 'accuracy'}, xlabel='majmin'>,\n",
       "        <Axes: title={'center': 'balanced accuracy'}, xlabel='majmin'>,\n",
       "        <Axes: title={'center': 'f1'}, xlabel='majmin'>],\n",
       "       [<Axes: title={'center': 'precision'}, xlabel='majmin'>,\n",
       "        <Axes: title={'center': 'false positive rate'}, xlabel='majmin'>,\n",
       "        <Axes: title={'center': 'false negative rate'}, xlabel='majmin'>],\n",
       "       [<Axes: title={'center': 'selection rate'}, xlabel='majmin'>,\n",
       "        <Axes: title={'center': 'count'}, xlabel='majmin'>,\n",
       "        <Axes: xlabel='majmin'>]], dtype=object)"
      ]
     },
     "execution_count": 69,
     "metadata": {},
     "output_type": "execute_result"
    },
    {
     "data": {
      "image/png": "[encoded data removed]",
      "text/plain": [
       "<Figure size 1200x800 with 9 Axes>"
      ]
     },
     "metadata": {},
     "output_type": "display_data"
    }
   ],
   "source": [
    "# In a graphic\n",
    "metric_frame.by_group.plot.bar(\n",
    "    subplots=True,\n",
    "    layout=[3, 3],\n",
    "    legend=False,\n",
    "    figsize=[12, 8],\n",
    "    title=\"Show all metrics\",\n",
    ")"
   ]
  },
  {
   "cell_type": "markdown",
   "id": "f57a0bac",
   "metadata": {
    "papermill": {
     "duration": 0.015333,
     "end_time": "2025-07-28T10:22:17.973333",
     "exception": false,
     "start_time": "2025-07-28T10:22:17.958000",
     "status": "completed"
    },
    "tags": []
   },
   "source": [
    "# Final Output"
   ]
  },
  {
   "cell_type": "code",
   "execution_count": 70,
   "id": "96d280a3",
   "metadata": {
    "execution": {
     "iopub.execute_input": "2025-07-28T10:22:18.005488Z",
     "iopub.status.busy": "2025-07-28T10:22:18.004643Z",
     "iopub.status.idle": "2025-07-28T10:22:18.013648Z",
     "shell.execute_reply": "2025-07-28T10:22:18.012840Z"
    },
    "papermill": {
     "duration": 0.026746,
     "end_time": "2025-07-28T10:22:18.014999",
     "exception": false,
     "start_time": "2025-07-28T10:22:17.988253",
     "status": "completed"
    },
    "tags": []
   },
   "outputs": [
    {
     "data": {
      "text/plain": [
       "4"
      ]
     },
     "execution_count": 70,
     "metadata": {},
     "output_type": "execute_result"
    }
   ],
   "source": [
    "sub_universes = universe_analysis.generate_sub_universes()\n",
    "len(sub_universes)"
   ]
  },
  {
   "cell_type": "code",
   "execution_count": 71,
   "id": "92adf7ba",
   "metadata": {
    "execution": {
     "iopub.execute_input": "2025-07-28T10:22:18.047421Z",
     "iopub.status.busy": "2025-07-28T10:22:18.046897Z",
     "iopub.status.idle": "2025-07-28T10:22:18.052273Z",
     "shell.execute_reply": "2025-07-28T10:22:18.051524Z"
    },
    "papermill": {
     "duration": 0.022822,
     "end_time": "2025-07-28T10:22:18.053609",
     "exception": false,
     "start_time": "2025-07-28T10:22:18.030787",
     "status": "completed"
    },
    "tags": []
   },
   "outputs": [],
   "source": [
    "def filter_sub_universe_data(sub_universe, org_test):\n",
    "    # Keep all rows — no filtering\n",
    "    keep_rows_mask = np.ones(org_test.shape[0], dtype=bool)\n",
    "\n",
    "    print(f\"[INFO] Keeping all rows: {keep_rows_mask.sum()} rows retained.\")\n",
    "    return keep_rows_mask"
   ]
  },
  {
   "cell_type": "code",
   "execution_count": 72,
   "id": "4a759155",
   "metadata": {
    "execution": {
     "iopub.execute_input": "2025-07-28T10:22:18.086340Z",
     "iopub.status.busy": "2025-07-28T10:22:18.085796Z",
     "iopub.status.idle": "2025-07-28T10:22:27.911574Z",
     "shell.execute_reply": "2025-07-28T10:22:27.910690Z"
    },
    "papermill": {
     "duration": 9.843781,
     "end_time": "2025-07-28T10:22:27.913320",
     "exception": false,
     "start_time": "2025-07-28T10:22:18.069539",
     "status": "completed"
    },
    "tags": []
   },
   "outputs": [
    {
     "name": "stdout",
     "output_type": "stream",
     "text": [
      "Stopping execution_time clock.\n",
      "[INFO] Keeping all rows: 89710 rows retained.\n"
     ]
    },
    {
     "name": "stdout",
     "output_type": "stream",
     "text": [
      "[INFO] Keeping all rows: 89710 rows retained.\n"
     ]
    },
    {
     "name": "stdout",
     "output_type": "stream",
     "text": [
      "[INFO] Keeping all rows: 89710 rows retained.\n"
     ]
    },
    {
     "name": "stdout",
     "output_type": "stream",
     "text": [
      "[INFO] Keeping all rows: 89710 rows retained.\n"
     ]
    },
    {
     "data": {
      "text/html": [
       "<div>\n",
       "<style scoped>\n",
       "    .dataframe tbody tr th:only-of-type {\n",
       "        vertical-align: middle;\n",
       "    }\n",
       "\n",
       "    .dataframe tbody tr th {\n",
       "        vertical-align: top;\n",
       "    }\n",
       "\n",
       "    .dataframe thead th {\n",
       "        text-align: right;\n",
       "    }\n",
       "</style>\n",
       "<table border=\"1\" class=\"dataframe\">\n",
       "  <thead>\n",
       "    <tr style=\"text-align: right;\">\n",
       "      <th></th>\n",
       "      <th>run_no</th>\n",
       "      <th>universe_id</th>\n",
       "      <th>universe_settings</th>\n",
       "      <th>execution_time</th>\n",
       "      <th>test_size_n</th>\n",
       "      <th>test_size_frac</th>\n",
       "      <th>fair_main_equalized_odds_difference</th>\n",
       "      <th>fair_main_equalized_odds_ratio</th>\n",
       "      <th>fair_main_demographic_parity_difference</th>\n",
       "      <th>fair_main_demographic_parity_ratio</th>\n",
       "      <th>...</th>\n",
       "      <th>perf_grp_precision_0</th>\n",
       "      <th>perf_grp_precision_1</th>\n",
       "      <th>perf_grp_false positive rate_0</th>\n",
       "      <th>perf_grp_false positive rate_1</th>\n",
       "      <th>perf_grp_false negative rate_0</th>\n",
       "      <th>perf_grp_false negative rate_1</th>\n",
       "      <th>perf_grp_selection rate_0</th>\n",
       "      <th>perf_grp_selection rate_1</th>\n",
       "      <th>perf_grp_count_0</th>\n",
       "      <th>perf_grp_count_1</th>\n",
       "    </tr>\n",
       "  </thead>\n",
       "  <tbody>\n",
       "    <tr>\n",
       "      <th>0</th>\n",
       "      <td>11</td>\n",
       "      <td>e51d9c5147f9f5020b59d7b98120eb98</td>\n",
       "      <td>{\"cutoff\": \"quantile_0.1\", \"eval_fairness_grou...</td>\n",
       "      <td>52.262147</td>\n",
       "      <td>89710</td>\n",
       "      <td>1.0</td>\n",
       "      <td>0.038099</td>\n",
       "      <td>0.958426</td>\n",
       "      <td>0.031571</td>\n",
       "      <td>0.965845</td>\n",
       "      <td>...</td>\n",
       "      <td>NaN</td>\n",
       "      <td>NaN</td>\n",
       "      <td>NaN</td>\n",
       "      <td>NaN</td>\n",
       "      <td>NaN</td>\n",
       "      <td>NaN</td>\n",
       "      <td>NaN</td>\n",
       "      <td>NaN</td>\n",
       "      <td>NaN</td>\n",
       "      <td>NaN</td>\n",
       "    </tr>\n",
       "    <tr>\n",
       "      <th>0</th>\n",
       "      <td>11</td>\n",
       "      <td>e51d9c5147f9f5020b59d7b98120eb98</td>\n",
       "      <td>{\"cutoff\": \"quantile_0.1\", \"eval_fairness_grou...</td>\n",
       "      <td>52.262147</td>\n",
       "      <td>89710</td>\n",
       "      <td>1.0</td>\n",
       "      <td>0.038099</td>\n",
       "      <td>0.958426</td>\n",
       "      <td>0.031571</td>\n",
       "      <td>0.965845</td>\n",
       "      <td>...</td>\n",
       "      <td>0.122880</td>\n",
       "      <td>0.146195</td>\n",
       "      <td>0.916410</td>\n",
       "      <td>0.878311</td>\n",
       "      <td>0.014780</td>\n",
       "      <td>0.012254</td>\n",
       "      <td>0.924343</td>\n",
       "      <td>0.892771</td>\n",
       "      <td>20540.0</td>\n",
       "      <td>69170.0</td>\n",
       "    </tr>\n",
       "    <tr>\n",
       "      <th>0</th>\n",
       "      <td>11</td>\n",
       "      <td>e51d9c5147f9f5020b59d7b98120eb98</td>\n",
       "      <td>{\"cutoff\": \"quantile_0.25\", \"eval_fairness_gro...</td>\n",
       "      <td>52.262147</td>\n",
       "      <td>89710</td>\n",
       "      <td>1.0</td>\n",
       "      <td>0.084630</td>\n",
       "      <td>0.911537</td>\n",
       "      <td>0.034153</td>\n",
       "      <td>0.954932</td>\n",
       "      <td>...</td>\n",
       "      <td>NaN</td>\n",
       "      <td>NaN</td>\n",
       "      <td>NaN</td>\n",
       "      <td>NaN</td>\n",
       "      <td>NaN</td>\n",
       "      <td>NaN</td>\n",
       "      <td>NaN</td>\n",
       "      <td>NaN</td>\n",
       "      <td>NaN</td>\n",
       "      <td>NaN</td>\n",
       "    </tr>\n",
       "    <tr>\n",
       "      <th>0</th>\n",
       "      <td>11</td>\n",
       "      <td>e51d9c5147f9f5020b59d7b98120eb98</td>\n",
       "      <td>{\"cutoff\": \"quantile_0.25\", \"eval_fairness_gro...</td>\n",
       "      <td>52.262147</td>\n",
       "      <td>89710</td>\n",
       "      <td>1.0</td>\n",
       "      <td>0.084630</td>\n",
       "      <td>0.911537</td>\n",
       "      <td>0.034153</td>\n",
       "      <td>0.954932</td>\n",
       "      <td>...</td>\n",
       "      <td>0.138926</td>\n",
       "      <td>0.166813</td>\n",
       "      <td>0.704325</td>\n",
       "      <td>0.727536</td>\n",
       "      <td>0.127956</td>\n",
       "      <td>0.043326</td>\n",
       "      <td>0.723661</td>\n",
       "      <td>0.757814</td>\n",
       "      <td>20540.0</td>\n",
       "      <td>69170.0</td>\n",
       "    </tr>\n",
       "  </tbody>\n",
       "</table>\n",
       "<p>4 rows × 50 columns</p>\n",
       "</div>"
      ],
      "text/plain": [
       "  run_no                       universe_id  \\\n",
       "0     11  e51d9c5147f9f5020b59d7b98120eb98   \n",
       "0     11  e51d9c5147f9f5020b59d7b98120eb98   \n",
       "0     11  e51d9c5147f9f5020b59d7b98120eb98   \n",
       "0     11  e51d9c5147f9f5020b59d7b98120eb98   \n",
       "\n",
       "                                   universe_settings  execution_time  \\\n",
       "0  {\"cutoff\": \"quantile_0.1\", \"eval_fairness_grou...       52.262147   \n",
       "0  {\"cutoff\": \"quantile_0.1\", \"eval_fairness_grou...       52.262147   \n",
       "0  {\"cutoff\": \"quantile_0.25\", \"eval_fairness_gro...       52.262147   \n",
       "0  {\"cutoff\": \"quantile_0.25\", \"eval_fairness_gro...       52.262147   \n",
       "\n",
       "   test_size_n  test_size_frac  fair_main_equalized_odds_difference  \\\n",
       "0        89710             1.0                             0.038099   \n",
       "0        89710             1.0                             0.038099   \n",
       "0        89710             1.0                             0.084630   \n",
       "0        89710             1.0                             0.084630   \n",
       "\n",
       "   fair_main_equalized_odds_ratio  fair_main_demographic_parity_difference  \\\n",
       "0                        0.958426                                 0.031571   \n",
       "0                        0.958426                                 0.031571   \n",
       "0                        0.911537                                 0.034153   \n",
       "0                        0.911537                                 0.034153   \n",
       "\n",
       "   fair_main_demographic_parity_ratio  ...  perf_grp_precision_0  \\\n",
       "0                            0.965845  ...                   NaN   \n",
       "0                            0.965845  ...              0.122880   \n",
       "0                            0.954932  ...                   NaN   \n",
       "0                            0.954932  ...              0.138926   \n",
       "\n",
       "   perf_grp_precision_1  perf_grp_false positive rate_0  \\\n",
       "0                   NaN                             NaN   \n",
       "0              0.146195                        0.916410   \n",
       "0                   NaN                             NaN   \n",
       "0              0.166813                        0.704325   \n",
       "\n",
       "   perf_grp_false positive rate_1  perf_grp_false negative rate_0  \\\n",
       "0                             NaN                             NaN   \n",
       "0                        0.878311                        0.014780   \n",
       "0                             NaN                             NaN   \n",
       "0                        0.727536                        0.127956   \n",
       "\n",
       "   perf_grp_false negative rate_1  perf_grp_selection rate_0  \\\n",
       "0                             NaN                        NaN   \n",
       "0                        0.012254                   0.924343   \n",
       "0                             NaN                        NaN   \n",
       "0                        0.043326                   0.723661   \n",
       "\n",
       "   perf_grp_selection rate_1  perf_grp_count_0  perf_grp_count_1  \n",
       "0                        NaN               NaN               NaN  \n",
       "0                   0.892771           20540.0           69170.0  \n",
       "0                        NaN               NaN               NaN  \n",
       "0                   0.757814           20540.0           69170.0  \n",
       "\n",
       "[4 rows x 50 columns]"
      ]
     },
     "execution_count": 72,
     "metadata": {},
     "output_type": "execute_result"
    }
   ],
   "source": [
    "final_output = universe_analysis.generate_final_output(\n",
    "    y_pred_prob=probs_test,\n",
    "    y_test=y_true,\n",
    "    org_test=org_test,\n",
    "    filter_data=filter_sub_universe_data,\n",
    "    cp_metrics_df=cp_metrics_df,\n",
    "    save=True,\n",
    ")\n",
    "final_output"
   ]
  },
  {
   "cell_type": "code",
   "execution_count": null,
   "id": "721ff514-cb11-46f8-b6fc-50392f74b5cb",
   "metadata": {
    "papermill": {
     "duration": 0.027746,
     "end_time": "2025-07-28T10:22:27.971621",
     "exception": false,
     "start_time": "2025-07-28T10:22:27.943875",
     "status": "completed"
    },
    "tags": []
   },
   "outputs": [],
   "source": []
  }
 ],
 "metadata": {
  "celltoolbar": "Tags",
  "kernelspec": {
   "display_name": "Python (CMA Fairness)",
   "language": "python",
   "name": "cma_fair_env"
  },
  "language_info": {
   "codemirror_mode": {
    "name": "ipython",
    "version": 3
   },
   "file_extension": ".py",
   "mimetype": "text/x-python",
   "name": "python",
   "nbconvert_exporter": "python",
   "pygments_lexer": "ipython3",
   "version": "3.10.12"
  },
  "papermill": {
   "default_parameters": {},
   "duration": 66.240611,
   "end_time": "2025-07-28T10:22:28.819057",
   "environment_variables": {},
   "exception": null,
   "input_path": "universe_analysis.ipynb",
   "output_path": "output/runs/11/notebooks/m_11-e51d9c5147f9f5020b59d7b98120eb98.ipynb",
   "parameters": {
    "output_dir": "output",
    "run_no": "11",
    "seed": "2023",
    "universe": "{\"cutoff\": [\"quantile_0.1\", \"quantile_0.25\"], \"eval_fairness_grouping\": [\"majority-minority\", \"nationality-all\"], \"exclude_features\": \"age\", \"exclude_subgroups\": \"drop-non-german\", \"model\": \"gbm\", \"scale\": \"do-not-scale\", \"training_size\": \"25k\"}",
    "universe_id": "e51d9c5147f9f5020b59d7b98120eb98"
   },
   "start_time": "2025-07-28T10:21:22.578446",
   "version": "2.6.0"
  }
 },
 "nbformat": 4,
 "nbformat_minor": 5
}