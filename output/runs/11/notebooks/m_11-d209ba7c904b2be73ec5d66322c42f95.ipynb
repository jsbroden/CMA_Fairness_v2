{
 "cells": [
  {
   "cell_type": "code",
   "execution_count": 1,
   "id": "f159f837-637b-42ba-96b5-ec9a68c44524",
   "metadata": {
    "execution": {
     "iopub.execute_input": "2025-07-28T11:21:20.286043Z",
     "iopub.status.busy": "2025-07-28T11:21:20.285614Z",
     "iopub.status.idle": "2025-07-28T11:21:20.296446Z",
     "shell.execute_reply": "2025-07-28T11:21:20.295515Z"
    },
    "papermill": {
     "duration": 0.023954,
     "end_time": "2025-07-28T11:21:20.297780",
     "exception": false,
     "start_time": "2025-07-28T11:21:20.273826",
     "status": "completed"
    },
    "tags": []
   },
   "outputs": [
    {
     "name": "stdout",
     "output_type": "stream",
     "text": [
      "/dss/dsshome1/0C/ra93lal2/cma/CMA_Fairness_v2\n"
     ]
    },
    {
     "name": "stderr",
     "output_type": "stream",
     "text": [
      "/dss/dsshome1/0C/ra93lal2/.local/share/virtualenvs/CMA_Fairness_v2-3j10GkSs/lib/python3.10/site-packages/IPython/core/magics/osm.py:393: UserWarning: This is now an optional IPython functionality, using bookmarks requires you to install the `pickleshare` library.\n",
      "  bkms = self.shell.db.get('bookmarks', {})\n",
      "/dss/dsshome1/0C/ra93lal2/.local/share/virtualenvs/CMA_Fairness_v2-3j10GkSs/lib/python3.10/site-packages/IPython/core/magics/osm.py:417: UserWarning: This is now an optional IPython functionality, setting dhist requires you to install the `pickleshare` library.\n",
      "  self.shell.db['dhist'] = compress_dhist(dhist)[-100:]\n"
     ]
    }
   ],
   "source": [
    "%cd ~/cma/CMA_Fairness_v2"
   ]
  },
  {
   "cell_type": "markdown",
   "id": "de2603b9",
   "metadata": {
    "papermill": {
     "duration": 0.009913,
     "end_time": "2025-07-28T11:21:20.318035",
     "exception": false,
     "start_time": "2025-07-28T11:21:20.308122",
     "status": "completed"
    },
    "tags": []
   },
   "source": [
    "The following cell holds the definition of our parameters, these values can be overriden by rendering the with e.g. the following command:\n",
    "\n",
    "papermill -p alpha 0.2 -p ratio 0.3 universe_analysis.ipynb output/test_run.ipynb"
   ]
  },
  {
   "cell_type": "code",
   "execution_count": 2,
   "id": "a80968a0-40bb-4fa9-85ef-2d5eefb01975",
   "metadata": {
    "execution": {
     "iopub.execute_input": "2025-07-28T11:21:20.338803Z",
     "iopub.status.busy": "2025-07-28T11:21:20.338287Z",
     "iopub.status.idle": "2025-07-28T11:21:20.343678Z",
     "shell.execute_reply": "2025-07-28T11:21:20.343004Z"
    },
    "papermill": {
     "duration": 0.01744,
     "end_time": "2025-07-28T11:21:20.345118",
     "exception": false,
     "start_time": "2025-07-28T11:21:20.327678",
     "status": "completed"
    },
    "tags": []
   },
   "outputs": [
    {
     "name": "stdout",
     "output_type": "stream",
     "text": [
      "Current working directory: /dss/dsshome1/0C/ra93lal2/cma/CMA_Fairness_v2\n"
     ]
    }
   ],
   "source": [
    "import os\n",
    "print(\"Current working directory:\", os.getcwd())"
   ]
  },
  {
   "cell_type": "code",
   "execution_count": 3,
   "id": "2dce4c03",
   "metadata": {
    "execution": {
     "iopub.execute_input": "2025-07-28T11:21:20.366349Z",
     "iopub.status.busy": "2025-07-28T11:21:20.365845Z",
     "iopub.status.idle": "2025-07-28T11:21:20.370651Z",
     "shell.execute_reply": "2025-07-28T11:21:20.369931Z"
    },
    "papermill": {
     "duration": 0.016612,
     "end_time": "2025-07-28T11:21:20.371932",
     "exception": false,
     "start_time": "2025-07-28T11:21:20.355320",
     "status": "completed"
    },
    "tags": [
     "parameters"
    ]
   },
   "outputs": [],
   "source": [
    "run_no = 0\n",
    "universe_id = \"test\"\n",
    "universe = {\n",
    "    \"training_size\": \"2014\", # \"25k\", \"5k\", \"1k\", \"2014\"\n",
    "    \"scale\": \"scale\", # \"scale\", \"do-not-scale\",\n",
    "    #\"stratify_split\": \"target\", # \"none\", \"target\", \"protected-attribute\", \"both\",\n",
    "    \"model\": \"elasticnet\", # \"logreg\", \"penalized_logreg\", \"rf\", \"gbm\", \"elasticnet\"\n",
    "    \"cutoff\": [\"quantile_0.15\", \"quantile_0.30\"],\n",
    "    \"exclude_features\": \"age\", # \"none\", \"nationality\", \"sex\", \"nationality-sex\", \"age\"\n",
    "    \"exclude_subgroups\": \"keep-all\", # \"keep-all\", \"drop-non-german\"\n",
    "    \"eval_fairness_grouping\": [\"majority-minority\", \"nationality-all\"]\n",
    "}\n",
    "\n",
    "output_dir=\"./output\"\n",
    "seed=0"
   ]
  },
  {
   "cell_type": "code",
   "execution_count": 4,
   "id": "ff2a9a6a",
   "metadata": {
    "execution": {
     "iopub.execute_input": "2025-07-28T11:21:20.393530Z",
     "iopub.status.busy": "2025-07-28T11:21:20.393135Z",
     "iopub.status.idle": "2025-07-28T11:21:20.397241Z",
     "shell.execute_reply": "2025-07-28T11:21:20.396458Z"
    },
    "papermill": {
     "duration": 0.01662,
     "end_time": "2025-07-28T11:21:20.398606",
     "exception": false,
     "start_time": "2025-07-28T11:21:20.381986",
     "status": "completed"
    },
    "tags": [
     "injected-parameters"
    ]
   },
   "outputs": [],
   "source": [
    "# Parameters\n",
    "universe_id = \"d209ba7c904b2be73ec5d66322c42f95\"\n",
    "run_no = \"11\"\n",
    "universe = \"{\\\"cutoff\\\": [\\\"quantile_0.1\\\", \\\"quantile_0.25\\\"], \\\"eval_fairness_grouping\\\": [\\\"majority-minority\\\", \\\"nationality-all\\\"], \\\"exclude_features\\\": \\\"age\\\", \\\"exclude_subgroups\\\": \\\"drop-non-german\\\", \\\"model\\\": \\\"elasticnet\\\", \\\"scale\\\": \\\"do-not-scale\\\", \\\"training_size\\\": \\\"2014\\\"}\"\n",
    "output_dir = \"output\"\n",
    "seed = \"2023\"\n"
   ]
  },
  {
   "cell_type": "code",
   "execution_count": 5,
   "id": "1650acaf",
   "metadata": {
    "execution": {
     "iopub.execute_input": "2025-07-28T11:21:20.419842Z",
     "iopub.status.busy": "2025-07-28T11:21:20.419456Z",
     "iopub.status.idle": "2025-07-28T11:21:20.423591Z",
     "shell.execute_reply": "2025-07-28T11:21:20.422779Z"
    },
    "papermill": {
     "duration": 0.016068,
     "end_time": "2025-07-28T11:21:20.424961",
     "exception": false,
     "start_time": "2025-07-28T11:21:20.408893",
     "status": "completed"
    },
    "tags": []
   },
   "outputs": [],
   "source": [
    "import json\n",
    "# Parse universe into dict if it is passed as a string\n",
    "if isinstance(universe, str):\n",
    "    universe = json.loads(universe)"
   ]
  },
  {
   "cell_type": "code",
   "execution_count": 6,
   "id": "16620c48",
   "metadata": {
    "execution": {
     "iopub.execute_input": "2025-07-28T11:21:20.446401Z",
     "iopub.status.busy": "2025-07-28T11:21:20.445746Z",
     "iopub.status.idle": "2025-07-28T11:21:20.475017Z",
     "shell.execute_reply": "2025-07-28T11:21:20.474290Z"
    },
    "papermill": {
     "duration": 0.041295,
     "end_time": "2025-07-28T11:21:20.476454",
     "exception": false,
     "start_time": "2025-07-28T11:21:20.435159",
     "status": "completed"
    },
    "tags": []
   },
   "outputs": [],
   "source": [
    "# Auto-reload the custom package\n",
    "%load_ext autoreload\n",
    "%autoreload 1\n",
    "%aimport fairness_multiverse"
   ]
  },
  {
   "cell_type": "code",
   "execution_count": 7,
   "id": "01c5c9f3",
   "metadata": {
    "execution": {
     "iopub.execute_input": "2025-07-28T11:21:20.498443Z",
     "iopub.status.busy": "2025-07-28T11:21:20.497693Z",
     "iopub.status.idle": "2025-07-28T11:21:21.861263Z",
     "shell.execute_reply": "2025-07-28T11:21:21.860278Z"
    },
    "papermill": {
     "duration": 1.376241,
     "end_time": "2025-07-28T11:21:21.863180",
     "exception": false,
     "start_time": "2025-07-28T11:21:20.486939",
     "status": "completed"
    },
    "tags": []
   },
   "outputs": [],
   "source": [
    "from fairness_multiverse.universe import UniverseAnalysis\n",
    "\n",
    "universe_analysis = UniverseAnalysis(\n",
    "    run_no = run_no,\n",
    "    universe_id = universe_id,\n",
    "    universe = universe,\n",
    "    output_dir=output_dir,\n",
    ")"
   ]
  },
  {
   "cell_type": "code",
   "execution_count": 8,
   "id": "106241f5",
   "metadata": {
    "execution": {
     "iopub.execute_input": "2025-07-28T11:21:21.901919Z",
     "iopub.status.busy": "2025-07-28T11:21:21.901457Z",
     "iopub.status.idle": "2025-07-28T11:21:21.908129Z",
     "shell.execute_reply": "2025-07-28T11:21:21.907221Z"
    },
    "papermill": {
     "duration": 0.027314,
     "end_time": "2025-07-28T11:21:21.909753",
     "exception": false,
     "start_time": "2025-07-28T11:21:21.882439",
     "status": "completed"
    },
    "tags": []
   },
   "outputs": [
    {
     "name": "stdout",
     "output_type": "stream",
     "text": [
      "Using Seed: 2023\n"
     ]
    }
   ],
   "source": [
    "import numpy as np\n",
    "parsed_seed = int(seed)\n",
    "np.random.seed(parsed_seed)\n",
    "print(f\"Using Seed: {parsed_seed}\")"
   ]
  },
  {
   "cell_type": "markdown",
   "id": "e0ebdc57",
   "metadata": {
    "papermill": {
     "duration": 0.018036,
     "end_time": "2025-07-28T11:21:21.946580",
     "exception": false,
     "start_time": "2025-07-28T11:21:21.928544",
     "status": "completed"
    },
    "tags": []
   },
   "source": [
    "# Loading Data"
   ]
  },
  {
   "cell_type": "markdown",
   "id": "681925a3",
   "metadata": {
    "papermill": {
     "duration": 0.018097,
     "end_time": "2025-07-28T11:21:21.983041",
     "exception": false,
     "start_time": "2025-07-28T11:21:21.964944",
     "status": "completed"
    },
    "tags": []
   },
   "source": [
    "Load siab_train, siab_test, siab_calib and/or \n",
    "load siab_train_features, siab_train_labels"
   ]
  },
  {
   "cell_type": "code",
   "execution_count": 9,
   "id": "f0496b8a",
   "metadata": {
    "execution": {
     "iopub.execute_input": "2025-07-28T11:21:22.020999Z",
     "iopub.status.busy": "2025-07-28T11:21:22.020337Z",
     "iopub.status.idle": "2025-07-28T11:21:35.007880Z",
     "shell.execute_reply": "2025-07-28T11:21:35.006668Z"
    },
    "papermill": {
     "duration": 13.008364,
     "end_time": "2025-07-28T11:21:35.009562",
     "exception": false,
     "start_time": "2025-07-28T11:21:22.001198",
     "status": "completed"
    },
    "tags": []
   },
   "outputs": [
    {
     "name": "stdout",
     "output_type": "stream",
     "text": [
      "Loading SIAB data from cache: data/siab_cached.csv.gz\n"
     ]
    },
    {
     "name": "stdout",
     "output_type": "stream",
     "text": [
      "(643690, 164)\n"
     ]
    }
   ],
   "source": [
    "from pathlib import Path\n",
    "import pandas as pd\n",
    "\n",
    "# File paths\n",
    "raw_file = Path(\"data/raw/siab.csv\")\n",
    "cache_file = Path(\"data/siab_cached.csv.gz\")\n",
    "\n",
    "# Ensure cache directory exists\n",
    "cache_file.parent.mkdir(parents=True, exist_ok=True)\n",
    "\n",
    "# Load with simple caching\n",
    "if cache_file.exists():\n",
    "    print(f\"Loading SIAB data from cache: {cache_file}\")\n",
    "    siab = pd.read_csv(cache_file, compression='gzip')\n",
    "else:\n",
    "    print(f\"Cache not found. Reading raw SIAB data: {raw_file}\")\n",
    "    siab = pd.read_csv(raw_file)\n",
    "    siab.to_csv(cache_file, index=False, compression='gzip')\n",
    "    print(f\"Cached SIAB data to: {cache_file}\")\n",
    "\n",
    "# Now use `siab` DataFrame as needed\n",
    "print(siab.shape)"
   ]
  },
  {
   "cell_type": "code",
   "execution_count": 10,
   "id": "db0ca512-5f53-4dba-abdb-a2888bca41ba",
   "metadata": {
    "execution": {
     "iopub.execute_input": "2025-07-28T11:21:35.050813Z",
     "iopub.status.busy": "2025-07-28T11:21:35.050309Z",
     "iopub.status.idle": "2025-07-28T11:21:35.056488Z",
     "shell.execute_reply": "2025-07-28T11:21:35.055488Z"
    },
    "papermill": {
     "duration": 0.027452,
     "end_time": "2025-07-28T11:21:35.057976",
     "exception": false,
     "start_time": "2025-07-28T11:21:35.030524",
     "status": "completed"
    },
    "tags": []
   },
   "outputs": [],
   "source": [
    "#siab"
   ]
  },
  {
   "cell_type": "code",
   "execution_count": 11,
   "id": "a0edb063",
   "metadata": {
    "execution": {
     "iopub.execute_input": "2025-07-28T11:21:35.096161Z",
     "iopub.status.busy": "2025-07-28T11:21:35.095457Z",
     "iopub.status.idle": "2025-07-28T11:21:35.100541Z",
     "shell.execute_reply": "2025-07-28T11:21:35.099611Z"
    },
    "papermill": {
     "duration": 0.025543,
     "end_time": "2025-07-28T11:21:35.102037",
     "exception": false,
     "start_time": "2025-07-28T11:21:35.076494",
     "status": "completed"
    },
    "tags": []
   },
   "outputs": [],
   "source": [
    "#import pandas as pd\n",
    "#\n",
    "#X_train = pd.read_csv(\"./data/X_train.csv\")\n",
    "#y_train = pd.read_csv(\"./data/y_train.csv\")"
   ]
  },
  {
   "cell_type": "code",
   "execution_count": 12,
   "id": "63d08085",
   "metadata": {
    "execution": {
     "iopub.execute_input": "2025-07-28T11:21:35.140291Z",
     "iopub.status.busy": "2025-07-28T11:21:35.139635Z",
     "iopub.status.idle": "2025-07-28T11:21:35.144686Z",
     "shell.execute_reply": "2025-07-28T11:21:35.143761Z"
    },
    "papermill": {
     "duration": 0.025573,
     "end_time": "2025-07-28T11:21:35.146105",
     "exception": false,
     "start_time": "2025-07-28T11:21:35.120532",
     "status": "completed"
    },
    "tags": []
   },
   "outputs": [],
   "source": [
    "#X_test = pd.read_csv(\"./data/X_test.csv\")\n",
    "#y_true = pd.read_csv(\"./data/y_test.csv\")"
   ]
  },
  {
   "cell_type": "code",
   "execution_count": 13,
   "id": "98a8d0fa-1d3d-4ed8-bb2c-281470e24add",
   "metadata": {
    "execution": {
     "iopub.execute_input": "2025-07-28T11:21:35.184730Z",
     "iopub.status.busy": "2025-07-28T11:21:35.183990Z",
     "iopub.status.idle": "2025-07-28T11:21:35.189104Z",
     "shell.execute_reply": "2025-07-28T11:21:35.188172Z"
    },
    "papermill": {
     "duration": 0.025913,
     "end_time": "2025-07-28T11:21:35.190570",
     "exception": false,
     "start_time": "2025-07-28T11:21:35.164657",
     "status": "completed"
    },
    "tags": []
   },
   "outputs": [],
   "source": [
    "# Calibration data for conformal\n",
    "#X_calib = pd.read_csv(\"./data/X_calib.csv\")\n",
    "#y_calib = pd.read_csv(\"./data/y_calib.csv\")"
   ]
  },
  {
   "cell_type": "markdown",
   "id": "9901737e-04df-44f0-9100-f5ad144ed040",
   "metadata": {
    "papermill": {
     "duration": 0.018188,
     "end_time": "2025-07-28T11:21:35.227784",
     "exception": false,
     "start_time": "2025-07-28T11:21:35.209596",
     "status": "completed"
    },
    "tags": []
   },
   "source": [
    "# Splitting Data and Setting Training Data Size"
   ]
  },
  {
   "cell_type": "code",
   "execution_count": 14,
   "id": "acbc8f7d-8fc8-4e86-8c59-5dcb0f58384b",
   "metadata": {
    "execution": {
     "iopub.execute_input": "2025-07-28T11:21:35.266365Z",
     "iopub.status.busy": "2025-07-28T11:21:35.265645Z",
     "iopub.status.idle": "2025-07-28T11:21:35.273996Z",
     "shell.execute_reply": "2025-07-28T11:21:35.273037Z"
    },
    "papermill": {
     "duration": 0.029282,
     "end_time": "2025-07-28T11:21:35.275571",
     "exception": false,
     "start_time": "2025-07-28T11:21:35.246289",
     "status": "completed"
    },
    "tags": []
   },
   "outputs": [],
   "source": [
    "def sample_by_year(df, training_size, random_state=42):\n",
    "    if training_size == \"2014\":\n",
    "        return df[df[\"year\"] == 2014].reset_index(drop=True)\n",
    "    \n",
    "    size_map = {\n",
    "        \"25k\": 5000,\n",
    "        \"5k\": 1000,\n",
    "        \"1k\": 200\n",
    "    }\n",
    "\n",
    "    if training_size not in size_map:\n",
    "        return df.reset_index(drop=True)  # use all data\n",
    "\n",
    "    n_per_year = size_map[training_size]\n",
    "    grouped = df.groupby(\"year\")\n",
    "    sampled = grouped.apply(lambda x: x.sample(n=min(n_per_year, len(x)), random_state=random_state))\n",
    "    return sampled.reset_index(drop=True)"
   ]
  },
  {
   "cell_type": "code",
   "execution_count": 15,
   "id": "6d931f52-beaf-43ff-9e78-9d44a448d54e",
   "metadata": {
    "execution": {
     "iopub.execute_input": "2025-07-28T11:21:35.314701Z",
     "iopub.status.busy": "2025-07-28T11:21:35.314047Z",
     "iopub.status.idle": "2025-07-28T11:21:35.490489Z",
     "shell.execute_reply": "2025-07-28T11:21:35.489540Z"
    },
    "papermill": {
     "duration": 0.198149,
     "end_time": "2025-07-28T11:21:35.492523",
     "exception": false,
     "start_time": "2025-07-28T11:21:35.294374",
     "status": "completed"
    },
    "tags": []
   },
   "outputs": [],
   "source": [
    "siab_s = sample_by_year(siab, universe[\"training_size\"])"
   ]
  },
  {
   "cell_type": "code",
   "execution_count": 16,
   "id": "5db0a40e-a4e2-4920-be85-b12ae061d70d",
   "metadata": {
    "execution": {
     "iopub.execute_input": "2025-07-28T11:21:35.532234Z",
     "iopub.status.busy": "2025-07-28T11:21:35.531485Z",
     "iopub.status.idle": "2025-07-28T11:21:35.546808Z",
     "shell.execute_reply": "2025-07-28T11:21:35.545851Z"
    },
    "papermill": {
     "duration": 0.036557,
     "end_time": "2025-07-28T11:21:35.548397",
     "exception": false,
     "start_time": "2025-07-28T11:21:35.511840",
     "status": "completed"
    },
    "tags": []
   },
   "outputs": [
    {
     "data": {
      "text/plain": [
       "year\n",
       "2014    87158\n",
       "dtype: int64"
      ]
     },
     "metadata": {},
     "output_type": "display_data"
    }
   ],
   "source": [
    "display(siab_s.groupby(\"year\").size())"
   ]
  },
  {
   "cell_type": "code",
   "execution_count": 17,
   "id": "a561edb4-d032-42cb-8256-22eac1111c64",
   "metadata": {
    "execution": {
     "iopub.execute_input": "2025-07-28T11:21:35.588263Z",
     "iopub.status.busy": "2025-07-28T11:21:35.587550Z",
     "iopub.status.idle": "2025-07-28T11:21:35.889135Z",
     "shell.execute_reply": "2025-07-28T11:21:35.888155Z"
    },
    "papermill": {
     "duration": 0.323361,
     "end_time": "2025-07-28T11:21:35.891119",
     "exception": false,
     "start_time": "2025-07-28T11:21:35.567758",
     "status": "completed"
    },
    "tags": []
   },
   "outputs": [],
   "source": [
    "siab_train = siab_s[siab_s.year < 2015]\n",
    "siab_calib = siab[siab.year == 2015]\n",
    "siab_test = siab[siab.year == 2016]"
   ]
  },
  {
   "cell_type": "code",
   "execution_count": 18,
   "id": "472de16f-c3db-4916-846b-1f0de9cf1746",
   "metadata": {
    "execution": {
     "iopub.execute_input": "2025-07-28T11:21:35.931566Z",
     "iopub.status.busy": "2025-07-28T11:21:35.930881Z",
     "iopub.status.idle": "2025-07-28T11:21:35.982566Z",
     "shell.execute_reply": "2025-07-28T11:21:35.981539Z"
    },
    "papermill": {
     "duration": 0.073443,
     "end_time": "2025-07-28T11:21:35.984427",
     "exception": false,
     "start_time": "2025-07-28T11:21:35.910984",
     "status": "completed"
    },
    "tags": []
   },
   "outputs": [],
   "source": [
    "X_train = siab_train.iloc[:,4:164]\n",
    "y_train = siab_train.iloc[:, [3]]"
   ]
  },
  {
   "cell_type": "code",
   "execution_count": 19,
   "id": "828c96af-f43a-4ed6-ba47-8ac73a47d56c",
   "metadata": {
    "execution": {
     "iopub.execute_input": "2025-07-28T11:21:36.025232Z",
     "iopub.status.busy": "2025-07-28T11:21:36.024581Z",
     "iopub.status.idle": "2025-07-28T11:21:36.073750Z",
     "shell.execute_reply": "2025-07-28T11:21:36.072693Z"
    },
    "papermill": {
     "duration": 0.071356,
     "end_time": "2025-07-28T11:21:36.075636",
     "exception": false,
     "start_time": "2025-07-28T11:21:36.004280",
     "status": "completed"
    },
    "tags": []
   },
   "outputs": [],
   "source": [
    "X_calib = siab_calib.iloc[:,4:164]\n",
    "y_calib = siab_calib.iloc[:, [3]]"
   ]
  },
  {
   "cell_type": "code",
   "execution_count": 20,
   "id": "c34be9c3-6bd6-476e-acd3-845840e303be",
   "metadata": {
    "execution": {
     "iopub.execute_input": "2025-07-28T11:21:36.116751Z",
     "iopub.status.busy": "2025-07-28T11:21:36.116080Z",
     "iopub.status.idle": "2025-07-28T11:21:36.167601Z",
     "shell.execute_reply": "2025-07-28T11:21:36.166660Z"
    },
    "papermill": {
     "duration": 0.073407,
     "end_time": "2025-07-28T11:21:36.169289",
     "exception": false,
     "start_time": "2025-07-28T11:21:36.095882",
     "status": "completed"
    },
    "tags": []
   },
   "outputs": [],
   "source": [
    "X_test = siab_test.iloc[:,4:164]\n",
    "y_true = siab_test.iloc[:, [3]]"
   ]
  },
  {
   "cell_type": "code",
   "execution_count": 21,
   "id": "e6c733c5",
   "metadata": {
    "execution": {
     "iopub.execute_input": "2025-07-28T11:21:36.210006Z",
     "iopub.status.busy": "2025-07-28T11:21:36.209299Z",
     "iopub.status.idle": "2025-07-28T11:21:36.349005Z",
     "shell.execute_reply": "2025-07-28T11:21:36.348047Z"
    },
    "papermill": {
     "duration": 0.162039,
     "end_time": "2025-07-28T11:21:36.350947",
     "exception": false,
     "start_time": "2025-07-28T11:21:36.188908",
     "status": "completed"
    },
    "tags": []
   },
   "outputs": [],
   "source": [
    "# Auxiliary data needed downstream in the pipeline\n",
    "\n",
    "org_train = X_train.copy()\n",
    "org_test = X_test.copy()\n",
    "org_calib = X_calib.copy()"
   ]
  },
  {
   "cell_type": "markdown",
   "id": "0a4a1b33",
   "metadata": {
    "papermill": {
     "duration": 0.019023,
     "end_time": "2025-07-28T11:21:36.389786",
     "exception": false,
     "start_time": "2025-07-28T11:21:36.370763",
     "status": "completed"
    },
    "tags": []
   },
   "source": [
    "# Preprocessing Data"
   ]
  },
  {
   "cell_type": "code",
   "execution_count": 22,
   "id": "ca879031",
   "metadata": {
    "execution": {
     "iopub.execute_input": "2025-07-28T11:21:36.430230Z",
     "iopub.status.busy": "2025-07-28T11:21:36.429520Z",
     "iopub.status.idle": "2025-07-28T11:21:36.435725Z",
     "shell.execute_reply": "2025-07-28T11:21:36.434836Z"
    },
    "papermill": {
     "duration": 0.028056,
     "end_time": "2025-07-28T11:21:36.437294",
     "exception": false,
     "start_time": "2025-07-28T11:21:36.409238",
     "status": "completed"
    },
    "tags": []
   },
   "outputs": [],
   "source": [
    "# EXCLUDE PROTECTED FEATURES\n",
    "# ----------------------\n",
    "# \"exclude_features\": \"none\", # \"nationality\", \"sex\", \"nationality-sex\"\n",
    "\n",
    "excluded_features = universe[\"exclude_features\"].split(\"-\") # split, e.g.: \"nationality-sex\" -> [\"nationality\", \"sex\"]\n",
    "excluded_features_dictionary = {\n",
    "    \"nationality\": [\"maxdeutsch1\", \"maxdeutsch.Missing.\"],\n",
    "    \"sex\": [\"frau1\"],\n",
    "    \"age\": [\"age\"],\n",
    "}\n"
   ]
  },
  {
   "cell_type": "code",
   "execution_count": 23,
   "id": "b745ac60",
   "metadata": {
    "execution": {
     "iopub.execute_input": "2025-07-28T11:21:36.477437Z",
     "iopub.status.busy": "2025-07-28T11:21:36.476774Z",
     "iopub.status.idle": "2025-07-28T11:21:36.482616Z",
     "shell.execute_reply": "2025-07-28T11:21:36.481735Z"
    },
    "papermill": {
     "duration": 0.027591,
     "end_time": "2025-07-28T11:21:36.484200",
     "exception": false,
     "start_time": "2025-07-28T11:21:36.456609",
     "status": "completed"
    },
    "tags": []
   },
   "outputs": [],
   "source": [
    "# Code nice names to column names\n",
    "\n",
    "excluded_features_columns = [\n",
    "    excluded_features_dictionary[f] for f in excluded_features if len(f) > 0 and f != \"none\"\n",
    "]"
   ]
  },
  {
   "cell_type": "code",
   "execution_count": 24,
   "id": "f84f73a2",
   "metadata": {
    "execution": {
     "iopub.execute_input": "2025-07-28T11:21:36.524701Z",
     "iopub.status.busy": "2025-07-28T11:21:36.523998Z",
     "iopub.status.idle": "2025-07-28T11:21:36.530839Z",
     "shell.execute_reply": "2025-07-28T11:21:36.529985Z"
    },
    "papermill": {
     "duration": 0.028508,
     "end_time": "2025-07-28T11:21:36.532450",
     "exception": false,
     "start_time": "2025-07-28T11:21:36.503942",
     "status": "completed"
    },
    "tags": []
   },
   "outputs": [],
   "source": [
    "from utils import flatten_once\n",
    "\n",
    "excluded_features_columns = flatten_once(excluded_features_columns)"
   ]
  },
  {
   "cell_type": "code",
   "execution_count": 25,
   "id": "884dea22",
   "metadata": {
    "execution": {
     "iopub.execute_input": "2025-07-28T11:21:36.572926Z",
     "iopub.status.busy": "2025-07-28T11:21:36.572260Z",
     "iopub.status.idle": "2025-07-28T11:21:36.625000Z",
     "shell.execute_reply": "2025-07-28T11:21:36.624044Z"
    },
    "papermill": {
     "duration": 0.075764,
     "end_time": "2025-07-28T11:21:36.627590",
     "exception": false,
     "start_time": "2025-07-28T11:21:36.551826",
     "status": "completed"
    },
    "tags": []
   },
   "outputs": [
    {
     "name": "stdout",
     "output_type": "stream",
     "text": [
      "Dropping features: ['age']\n"
     ]
    }
   ],
   "source": [
    "if len(excluded_features_columns) > 0:\n",
    "    print(f\"Dropping features: {excluded_features_columns}\")\n",
    "    X_train.drop(excluded_features_columns, axis=1, inplace=True)"
   ]
  },
  {
   "cell_type": "code",
   "execution_count": 26,
   "id": "95ab8b16",
   "metadata": {
    "execution": {
     "iopub.execute_input": "2025-07-28T11:21:36.669179Z",
     "iopub.status.busy": "2025-07-28T11:21:36.668791Z",
     "iopub.status.idle": "2025-07-28T11:21:36.723573Z",
     "shell.execute_reply": "2025-07-28T11:21:36.722590Z"
    },
    "papermill": {
     "duration": 0.07792,
     "end_time": "2025-07-28T11:21:36.725569",
     "exception": false,
     "start_time": "2025-07-28T11:21:36.647649",
     "status": "completed"
    },
    "tags": []
   },
   "outputs": [
    {
     "name": "stdout",
     "output_type": "stream",
     "text": [
      "Dropping features: ['age']\n"
     ]
    }
   ],
   "source": [
    "if len(excluded_features_columns) > 0:\n",
    "    print(f\"Dropping features: {excluded_features_columns}\")\n",
    "    X_test.drop(excluded_features_columns, axis=1, inplace=True)"
   ]
  },
  {
   "cell_type": "code",
   "execution_count": 27,
   "id": "1853aaf5-fb9f-46cb-a2b5-8ea4ae2237e4",
   "metadata": {
    "execution": {
     "iopub.execute_input": "2025-07-28T11:21:36.767530Z",
     "iopub.status.busy": "2025-07-28T11:21:36.766846Z",
     "iopub.status.idle": "2025-07-28T11:21:36.817342Z",
     "shell.execute_reply": "2025-07-28T11:21:36.816362Z"
    },
    "papermill": {
     "duration": 0.073183,
     "end_time": "2025-07-28T11:21:36.818923",
     "exception": false,
     "start_time": "2025-07-28T11:21:36.745740",
     "status": "completed"
    },
    "tags": []
   },
   "outputs": [
    {
     "name": "stdout",
     "output_type": "stream",
     "text": [
      "Dropping features: ['age']\n"
     ]
    }
   ],
   "source": [
    "if len(excluded_features_columns) > 0:\n",
    "    print(f\"Dropping features: {excluded_features_columns}\")\n",
    "    X_calib.drop(excluded_features_columns, axis=1, inplace=True)"
   ]
  },
  {
   "cell_type": "code",
   "execution_count": 28,
   "id": "6727d079-03e5-481e-9d38-292a90b7a0a8",
   "metadata": {
    "execution": {
     "iopub.execute_input": "2025-07-28T11:21:36.861602Z",
     "iopub.status.busy": "2025-07-28T11:21:36.860891Z",
     "iopub.status.idle": "2025-07-28T11:21:36.865893Z",
     "shell.execute_reply": "2025-07-28T11:21:36.865016Z"
    },
    "papermill": {
     "duration": 0.027626,
     "end_time": "2025-07-28T11:21:36.867454",
     "exception": false,
     "start_time": "2025-07-28T11:21:36.839828",
     "status": "completed"
    },
    "tags": []
   },
   "outputs": [],
   "source": [
    "# SPLIT & STRATIFY DATA\n",
    "# ----------------------"
   ]
  },
  {
   "cell_type": "code",
   "execution_count": 29,
   "id": "76c4dc6d",
   "metadata": {
    "execution": {
     "iopub.execute_input": "2025-07-28T11:21:36.909418Z",
     "iopub.status.busy": "2025-07-28T11:21:36.908761Z",
     "iopub.status.idle": "2025-07-28T11:21:36.914202Z",
     "shell.execute_reply": "2025-07-28T11:21:36.913264Z"
    },
    "papermill": {
     "duration": 0.028354,
     "end_time": "2025-07-28T11:21:36.915812",
     "exception": false,
     "start_time": "2025-07-28T11:21:36.887458",
     "status": "completed"
    },
    "tags": []
   },
   "outputs": [],
   "source": [
    "# EXCLUDE CERTAIN SUBGROUPS\n",
    "# ----------------------\n",
    "\n",
    "mode = universe.get(\"exclude_subgroups\", \"keep-all\") \n",
    "# Fetches the exclude_subgroups setting from the universe dict.\n",
    "# Defaults to \"keep-all\" if the key is missing."
   ]
  },
  {
   "cell_type": "code",
   "execution_count": 30,
   "id": "21994072",
   "metadata": {
    "execution": {
     "iopub.execute_input": "2025-07-28T11:21:36.957990Z",
     "iopub.status.busy": "2025-07-28T11:21:36.957313Z",
     "iopub.status.idle": "2025-07-28T11:21:36.964692Z",
     "shell.execute_reply": "2025-07-28T11:21:36.963714Z"
    },
    "papermill": {
     "duration": 0.030138,
     "end_time": "2025-07-28T11:21:36.966269",
     "exception": false,
     "start_time": "2025-07-28T11:21:36.936131",
     "status": "completed"
    },
    "tags": []
   },
   "outputs": [],
   "source": [
    "if mode == \"keep-all\":\n",
    "    keep_mask = pd.Series(True, index=org_train.index)\n",
    "\n",
    "# org_train contains the original feature columns from features_org (in Simson)\n",
    "# features_org contains unprocessed features, for me X_train at beginning ???\n",
    "# For keep-all, creates a boolean Series (keep_mask) of all True, so no rows are removed.\n",
    "\n",
    "elif mode == \"drop-non-german\":\n",
    "    keep_mask = org_train[\"maxdeutsch1\"] == 1 # ??? what about missing values?\n",
    "\n",
    "else:\n",
    "    raise ValueError(f\"Unsupported mode for exclude_subgroups: {mode}\")\n"
   ]
  },
  {
   "cell_type": "code",
   "execution_count": 31,
   "id": "71651440",
   "metadata": {
    "execution": {
     "iopub.execute_input": "2025-07-28T11:21:37.008549Z",
     "iopub.status.busy": "2025-07-28T11:21:37.007813Z",
     "iopub.status.idle": "2025-07-28T11:21:37.015657Z",
     "shell.execute_reply": "2025-07-28T11:21:37.014698Z"
    },
    "papermill": {
     "duration": 0.030841,
     "end_time": "2025-07-28T11:21:37.017393",
     "exception": false,
     "start_time": "2025-07-28T11:21:36.986552",
     "status": "completed"
    },
    "tags": []
   },
   "outputs": [
    {
     "name": "stdout",
     "output_type": "stream",
     "text": [
      "Dropping 12995 rows (14.91%) where mode='drop-non-german'\n"
     ]
    }
   ],
   "source": [
    "n_drop = (~keep_mask).sum() # Calculates how many rows are set to be dropped\n",
    "if n_drop > 0:\n",
    "    pct = n_drop / len(keep_mask) * 100\n",
    "    print(f\"Dropping {n_drop} rows ({pct:.2f}%) where mode='{mode}'\")"
   ]
  },
  {
   "cell_type": "code",
   "execution_count": 32,
   "id": "5fb8eee5",
   "metadata": {
    "execution": {
     "iopub.execute_input": "2025-07-28T11:21:37.059862Z",
     "iopub.status.busy": "2025-07-28T11:21:37.059181Z",
     "iopub.status.idle": "2025-07-28T11:21:37.093327Z",
     "shell.execute_reply": "2025-07-28T11:21:37.092392Z"
    },
    "papermill": {
     "duration": 0.057358,
     "end_time": "2025-07-28T11:21:37.095193",
     "exception": false,
     "start_time": "2025-07-28T11:21:37.037835",
     "status": "completed"
    },
    "tags": []
   },
   "outputs": [],
   "source": [
    "X_train = X_train[keep_mask]"
   ]
  },
  {
   "cell_type": "code",
   "execution_count": 33,
   "id": "b202bb3a",
   "metadata": {
    "execution": {
     "iopub.execute_input": "2025-07-28T11:21:37.137931Z",
     "iopub.status.busy": "2025-07-28T11:21:37.137245Z",
     "iopub.status.idle": "2025-07-28T11:21:37.145091Z",
     "shell.execute_reply": "2025-07-28T11:21:37.144241Z"
    },
    "papermill": {
     "duration": 0.030595,
     "end_time": "2025-07-28T11:21:37.146667",
     "exception": false,
     "start_time": "2025-07-28T11:21:37.116072",
     "status": "completed"
    },
    "tags": []
   },
   "outputs": [],
   "source": [
    "y_train = y_train[keep_mask]"
   ]
  },
  {
   "cell_type": "markdown",
   "id": "493e2ac3",
   "metadata": {
    "papermill": {
     "duration": 0.019952,
     "end_time": "2025-07-28T11:21:37.187115",
     "exception": false,
     "start_time": "2025-07-28T11:21:37.167163",
     "status": "completed"
    },
    "tags": []
   },
   "source": [
    "# Model Training"
   ]
  },
  {
   "cell_type": "code",
   "execution_count": 34,
   "id": "679e1268",
   "metadata": {
    "execution": {
     "iopub.execute_input": "2025-07-28T11:21:37.229445Z",
     "iopub.status.busy": "2025-07-28T11:21:37.228715Z",
     "iopub.status.idle": "2025-07-28T11:21:37.335297Z",
     "shell.execute_reply": "2025-07-28T11:21:37.334299Z"
    },
    "papermill": {
     "duration": 0.130011,
     "end_time": "2025-07-28T11:21:37.337276",
     "exception": false,
     "start_time": "2025-07-28T11:21:37.207265",
     "status": "completed"
    },
    "tags": []
   },
   "outputs": [],
   "source": [
    "from sklearn.linear_model import LogisticRegression\n",
    "from sklearn.ensemble import GradientBoostingClassifier, RandomForestClassifier\n",
    "\n",
    "if (universe[\"model\"] == \"logreg\"):\n",
    "    model = LogisticRegression() #penalty=\"none\") #, solver=\"newton-cg\", max_iter=1) # include random_state=19 ?\n",
    "elif (universe[\"model\"] == \"penalized_logreg\"):\n",
    "    model = LogisticRegression(penalty=\"l2\", C=1.0) #, solver=\"newton-cg\", max_iter=1)\n",
    "elif (universe[\"model\"] == \"rf\"):\n",
    "    model = RandomForestClassifier(n_estimators=100, n_jobs=-1)\n",
    "elif (universe[\"model\"] == \"gbm\"):\n",
    "    model = GradientBoostingClassifier()\n",
    "elif (universe[\"model\"] == \"elasticnet\"):\n",
    "    model = LogisticRegression(penalty = 'elasticnet', solver = 'saga', l1_ratio = 0.5, max_iter=5000) # which solver to use?\n",
    "else:\n",
    "    raise \"Unsupported universe.model\""
   ]
  },
  {
   "cell_type": "code",
   "execution_count": 35,
   "id": "0cc8f744",
   "metadata": {
    "execution": {
     "iopub.execute_input": "2025-07-28T11:21:37.379830Z",
     "iopub.status.busy": "2025-07-28T11:21:37.379336Z",
     "iopub.status.idle": "2025-07-28T11:21:37.386079Z",
     "shell.execute_reply": "2025-07-28T11:21:37.385156Z"
    },
    "papermill": {
     "duration": 0.029482,
     "end_time": "2025-07-28T11:21:37.387769",
     "exception": false,
     "start_time": "2025-07-28T11:21:37.358287",
     "status": "completed"
    },
    "tags": []
   },
   "outputs": [],
   "source": [
    "import numpy as np\n",
    "from sklearn.pipeline import Pipeline\n",
    "from sklearn.preprocessing import StandardScaler\n",
    "\n",
    "model = Pipeline([\n",
    "    #(\"continuous_processor\", continuous_processor),\n",
    "    #(\"categorical_preprocessor\", categorical_preprocessor),\n",
    "    (\"scale\", StandardScaler() if universe[\"scale\"] == \"scale\" else None), \n",
    "    (\"model\", model),\n",
    "])"
   ]
  },
  {
   "cell_type": "code",
   "execution_count": 36,
   "id": "9442c04d",
   "metadata": {
    "execution": {
     "iopub.execute_input": "2025-07-28T11:21:37.430475Z",
     "iopub.status.busy": "2025-07-28T11:21:37.429780Z",
     "iopub.status.idle": "2025-07-28T11:39:56.029573Z",
     "shell.execute_reply": "2025-07-28T11:39:56.028693Z"
    },
    "papermill": {
     "duration": 1098.634811,
     "end_time": "2025-07-28T11:39:56.043036",
     "exception": false,
     "start_time": "2025-07-28T11:21:37.408225",
     "status": "completed"
    },
    "tags": []
   },
   "outputs": [
    {
     "name": "stderr",
     "output_type": "stream",
     "text": [
      "/dss/dsshome1/0C/ra93lal2/.local/share/virtualenvs/CMA_Fairness_v2-3j10GkSs/lib/python3.10/site-packages/sklearn/linear_model/_sag.py:350: ConvergenceWarning: The max_iter was reached which means the coef_ did not converge\n",
      "  warnings.warn(\n"
     ]
    },
    {
     "data": {
      "text/html": [
       "<style>#sk-container-id-1 {color: black;background-color: white;}#sk-container-id-1 pre{padding: 0;}#sk-container-id-1 div.sk-toggleable {background-color: white;}#sk-container-id-1 label.sk-toggleable__label {cursor: pointer;display: block;width: 100%;margin-bottom: 0;padding: 0.3em;box-sizing: border-box;text-align: center;}#sk-container-id-1 label.sk-toggleable__label-arrow:before {content: \"▸\";float: left;margin-right: 0.25em;color: #696969;}#sk-container-id-1 label.sk-toggleable__label-arrow:hover:before {color: black;}#sk-container-id-1 div.sk-estimator:hover label.sk-toggleable__label-arrow:before {color: black;}#sk-container-id-1 div.sk-toggleable__content {max-height: 0;max-width: 0;overflow: hidden;text-align: left;background-color: #f0f8ff;}#sk-container-id-1 div.sk-toggleable__content pre {margin: 0.2em;color: black;border-radius: 0.25em;background-color: #f0f8ff;}#sk-container-id-1 input.sk-toggleable__control:checked~div.sk-toggleable__content {max-height: 200px;max-width: 100%;overflow: auto;}#sk-container-id-1 input.sk-toggleable__control:checked~label.sk-toggleable__label-arrow:before {content: \"▾\";}#sk-container-id-1 div.sk-estimator input.sk-toggleable__control:checked~label.sk-toggleable__label {background-color: #d4ebff;}#sk-container-id-1 div.sk-label input.sk-toggleable__control:checked~label.sk-toggleable__label {background-color: #d4ebff;}#sk-container-id-1 input.sk-hidden--visually {border: 0;clip: rect(1px 1px 1px 1px);clip: rect(1px, 1px, 1px, 1px);height: 1px;margin: -1px;overflow: hidden;padding: 0;position: absolute;width: 1px;}#sk-container-id-1 div.sk-estimator {font-family: monospace;background-color: #f0f8ff;border: 1px dotted black;border-radius: 0.25em;box-sizing: border-box;margin-bottom: 0.5em;}#sk-container-id-1 div.sk-estimator:hover {background-color: #d4ebff;}#sk-container-id-1 div.sk-parallel-item::after {content: \"\";width: 100%;border-bottom: 1px solid gray;flex-grow: 1;}#sk-container-id-1 div.sk-label:hover label.sk-toggleable__label {background-color: #d4ebff;}#sk-container-id-1 div.sk-serial::before {content: \"\";position: absolute;border-left: 1px solid gray;box-sizing: border-box;top: 0;bottom: 0;left: 50%;z-index: 0;}#sk-container-id-1 div.sk-serial {display: flex;flex-direction: column;align-items: center;background-color: white;padding-right: 0.2em;padding-left: 0.2em;position: relative;}#sk-container-id-1 div.sk-item {position: relative;z-index: 1;}#sk-container-id-1 div.sk-parallel {display: flex;align-items: stretch;justify-content: center;background-color: white;position: relative;}#sk-container-id-1 div.sk-item::before, #sk-container-id-1 div.sk-parallel-item::before {content: \"\";position: absolute;border-left: 1px solid gray;box-sizing: border-box;top: 0;bottom: 0;left: 50%;z-index: -1;}#sk-container-id-1 div.sk-parallel-item {display: flex;flex-direction: column;z-index: 1;position: relative;background-color: white;}#sk-container-id-1 div.sk-parallel-item:first-child::after {align-self: flex-end;width: 50%;}#sk-container-id-1 div.sk-parallel-item:last-child::after {align-self: flex-start;width: 50%;}#sk-container-id-1 div.sk-parallel-item:only-child::after {width: 0;}#sk-container-id-1 div.sk-dashed-wrapped {border: 1px dashed gray;margin: 0 0.4em 0.5em 0.4em;box-sizing: border-box;padding-bottom: 0.4em;background-color: white;}#sk-container-id-1 div.sk-label label {font-family: monospace;font-weight: bold;display: inline-block;line-height: 1.2em;}#sk-container-id-1 div.sk-label-container {text-align: center;}#sk-container-id-1 div.sk-container {/* jupyter's `normalize.less` sets `[hidden] { display: none; }` but bootstrap.min.css set `[hidden] { display: none !important; }` so we also need the `!important` here to be able to override the default hidden behavior on the sphinx rendered scikit-learn.org. See: https://github.com/scikit-learn/scikit-learn/issues/21755 */display: inline-block !important;position: relative;}#sk-container-id-1 div.sk-text-repr-fallback {display: none;}</style><div id=\"sk-container-id-1\" class=\"sk-top-container\"><div class=\"sk-text-repr-fallback\"><pre>Pipeline(steps=[(&#x27;scale&#x27;, None),\n",
       "                (&#x27;model&#x27;,\n",
       "                 LogisticRegression(l1_ratio=0.5, max_iter=5000,\n",
       "                                    penalty=&#x27;elasticnet&#x27;, solver=&#x27;saga&#x27;))])</pre><b>In a Jupyter environment, please rerun this cell to show the HTML representation or trust the notebook. <br />On GitHub, the HTML representation is unable to render, please try loading this page with nbviewer.org.</b></div><div class=\"sk-container\" hidden><div class=\"sk-item sk-dashed-wrapped\"><div class=\"sk-label-container\"><div class=\"sk-label sk-toggleable\"><input class=\"sk-toggleable__control sk-hidden--visually\" id=\"sk-estimator-id-1\" type=\"checkbox\" ><label for=\"sk-estimator-id-1\" class=\"sk-toggleable__label sk-toggleable__label-arrow\">Pipeline</label><div class=\"sk-toggleable__content\"><pre>Pipeline(steps=[(&#x27;scale&#x27;, None),\n",
       "                (&#x27;model&#x27;,\n",
       "                 LogisticRegression(l1_ratio=0.5, max_iter=5000,\n",
       "                                    penalty=&#x27;elasticnet&#x27;, solver=&#x27;saga&#x27;))])</pre></div></div></div><div class=\"sk-serial\"><div class=\"sk-item\"><div class=\"sk-estimator sk-toggleable\"><input class=\"sk-toggleable__control sk-hidden--visually\" id=\"sk-estimator-id-2\" type=\"checkbox\" ><label for=\"sk-estimator-id-2\" class=\"sk-toggleable__label sk-toggleable__label-arrow\">None</label><div class=\"sk-toggleable__content\"><pre>None</pre></div></div></div><div class=\"sk-item\"><div class=\"sk-estimator sk-toggleable\"><input class=\"sk-toggleable__control sk-hidden--visually\" id=\"sk-estimator-id-3\" type=\"checkbox\" ><label for=\"sk-estimator-id-3\" class=\"sk-toggleable__label sk-toggleable__label-arrow\">LogisticRegression</label><div class=\"sk-toggleable__content\"><pre>LogisticRegression(l1_ratio=0.5, max_iter=5000, penalty=&#x27;elasticnet&#x27;,\n",
       "                   solver=&#x27;saga&#x27;)</pre></div></div></div></div></div></div></div>"
      ],
      "text/plain": [
       "Pipeline(steps=[('scale', None),\n",
       "                ('model',\n",
       "                 LogisticRegression(l1_ratio=0.5, max_iter=5000,\n",
       "                                    penalty='elasticnet', solver='saga'))])"
      ]
     },
     "execution_count": 36,
     "metadata": {},
     "output_type": "execute_result"
    }
   ],
   "source": [
    "model.fit(X_train, y_train.values.ravel())"
   ]
  },
  {
   "cell_type": "code",
   "execution_count": 37,
   "id": "af59f8c0",
   "metadata": {
    "execution": {
     "iopub.execute_input": "2025-07-28T11:39:56.067126Z",
     "iopub.status.busy": "2025-07-28T11:39:56.066847Z",
     "iopub.status.idle": "2025-07-28T11:39:56.070954Z",
     "shell.execute_reply": "2025-07-28T11:39:56.070311Z"
    },
    "papermill": {
     "duration": 0.017326,
     "end_time": "2025-07-28T11:39:56.072225",
     "exception": false,
     "start_time": "2025-07-28T11:39:56.054899",
     "status": "completed"
    },
    "tags": []
   },
   "outputs": [],
   "source": [
    "from fairness_multiverse.universe import predict_w_threshold"
   ]
  },
  {
   "cell_type": "code",
   "execution_count": 38,
   "id": "a7cf2e16",
   "metadata": {
    "execution": {
     "iopub.execute_input": "2025-07-28T11:39:56.095883Z",
     "iopub.status.busy": "2025-07-28T11:39:56.095336Z",
     "iopub.status.idle": "2025-07-28T11:39:56.187432Z",
     "shell.execute_reply": "2025-07-28T11:39:56.186703Z"
    },
    "papermill": {
     "duration": 0.104859,
     "end_time": "2025-07-28T11:39:56.188626",
     "exception": false,
     "start_time": "2025-07-28T11:39:56.083767",
     "status": "completed"
    },
    "tags": []
   },
   "outputs": [
    {
     "data": {
      "text/plain": [
       "0.8600490469289934"
      ]
     },
     "execution_count": 38,
     "metadata": {},
     "output_type": "execute_result"
    }
   ],
   "source": [
    "probs_test = model.predict_proba(X_test)\n",
    "\n",
    "'''\n",
    "Below code returns a boolean array (or binary 0/1 array depending on how it’s used) where each element \n",
    "is True if the probability of class 1 is greater than or equal to the threshold, and False otherwise.\n",
    "'''\n",
    "y_pred_default = predict_w_threshold(probs_test, 0.5)\n",
    "\n",
    "from sklearn.metrics import accuracy_score\n",
    "\n",
    "# Naive prediction\n",
    "accuracy_score(y_true = y_true, y_pred = y_pred_default)"
   ]
  },
  {
   "cell_type": "code",
   "execution_count": 39,
   "id": "081964c3",
   "metadata": {
    "execution": {
     "iopub.execute_input": "2025-07-28T11:39:56.213550Z",
     "iopub.status.busy": "2025-07-28T11:39:56.213025Z",
     "iopub.status.idle": "2025-07-28T11:39:56.290317Z",
     "shell.execute_reply": "2025-07-28T11:39:56.289617Z"
    },
    "papermill": {
     "duration": 0.090627,
     "end_time": "2025-07-28T11:39:56.291482",
     "exception": false,
     "start_time": "2025-07-28T11:39:56.200855",
     "status": "completed"
    },
    "tags": []
   },
   "outputs": [
    {
     "data": {
      "text/plain": [
       "array([0, 0, 0, ..., 0, 0, 0])"
      ]
     },
     "execution_count": 39,
     "metadata": {},
     "output_type": "execute_result"
    }
   ],
   "source": [
    "model.predict(X_test)"
   ]
  },
  {
   "cell_type": "markdown",
   "id": "56c9705b",
   "metadata": {
    "papermill": {
     "duration": 0.011233,
     "end_time": "2025-07-28T11:39:56.314976",
     "exception": false,
     "start_time": "2025-07-28T11:39:56.303743",
     "status": "completed"
    },
    "tags": []
   },
   "source": [
    "# Conformal Prediction"
   ]
  },
  {
   "cell_type": "code",
   "execution_count": 40,
   "id": "160ec6ff",
   "metadata": {
    "execution": {
     "iopub.execute_input": "2025-07-28T11:39:56.338783Z",
     "iopub.status.busy": "2025-07-28T11:39:56.338246Z",
     "iopub.status.idle": "2025-07-28T11:39:56.342045Z",
     "shell.execute_reply": "2025-07-28T11:39:56.341315Z"
    },
    "papermill": {
     "duration": 0.017098,
     "end_time": "2025-07-28T11:39:56.343206",
     "exception": false,
     "start_time": "2025-07-28T11:39:56.326108",
     "status": "completed"
    },
    "tags": []
   },
   "outputs": [],
   "source": [
    "# Miscoverage level for conformal prediction (10% allowed error rate => 90% target coverage)\n",
    "alpha = 0.1"
   ]
  },
  {
   "cell_type": "code",
   "execution_count": 41,
   "id": "eadf4555-3dd3-440e-8e35-f82a4ad9f855",
   "metadata": {
    "execution": {
     "iopub.execute_input": "2025-07-28T11:39:56.367426Z",
     "iopub.status.busy": "2025-07-28T11:39:56.366946Z",
     "iopub.status.idle": "2025-07-28T11:39:56.445563Z",
     "shell.execute_reply": "2025-07-28T11:39:56.444793Z"
    },
    "papermill": {
     "duration": 0.09228,
     "end_time": "2025-07-28T11:39:56.447061",
     "exception": false,
     "start_time": "2025-07-28T11:39:56.354781",
     "status": "completed"
    },
    "tags": []
   },
   "outputs": [],
   "source": [
    "probs_calib = model.predict_proba(X_calib)"
   ]
  },
  {
   "cell_type": "code",
   "execution_count": 42,
   "id": "2ed93547-6d5d-4983-9b36-1ecb300da49a",
   "metadata": {
    "execution": {
     "iopub.execute_input": "2025-07-28T11:39:56.471765Z",
     "iopub.status.busy": "2025-07-28T11:39:56.471254Z",
     "iopub.status.idle": "2025-07-28T11:39:56.475547Z",
     "shell.execute_reply": "2025-07-28T11:39:56.474852Z"
    },
    "papermill": {
     "duration": 0.017556,
     "end_time": "2025-07-28T11:39:56.476742",
     "exception": false,
     "start_time": "2025-07-28T11:39:56.459186",
     "status": "completed"
    },
    "tags": []
   },
   "outputs": [],
   "source": [
    "y_calib = y_calib.values.ravel().astype(int)"
   ]
  },
  {
   "cell_type": "code",
   "execution_count": 43,
   "id": "65d1320d-f588-4b38-9072-62af1ae97f7d",
   "metadata": {
    "execution": {
     "iopub.execute_input": "2025-07-28T11:39:56.501127Z",
     "iopub.status.busy": "2025-07-28T11:39:56.500612Z",
     "iopub.status.idle": "2025-07-28T11:39:56.505705Z",
     "shell.execute_reply": "2025-07-28T11:39:56.505032Z"
    },
    "papermill": {
     "duration": 0.018226,
     "end_time": "2025-07-28T11:39:56.506769",
     "exception": false,
     "start_time": "2025-07-28T11:39:56.488543",
     "status": "completed"
    },
    "tags": []
   },
   "outputs": [],
   "source": [
    "from fairness_multiverse.conformal import compute_nc_scores\n",
    "\n",
    "# Compute nonconformity scores on calibration set (1 - probability of true class)\n",
    "nc_scores = compute_nc_scores(probs_calib, y_calib)"
   ]
  },
  {
   "cell_type": "code",
   "execution_count": 44,
   "id": "df3b8ca3-53b7-43d5-9667-7c85da7aeda2",
   "metadata": {
    "execution": {
     "iopub.execute_input": "2025-07-28T11:39:56.530917Z",
     "iopub.status.busy": "2025-07-28T11:39:56.530438Z",
     "iopub.status.idle": "2025-07-28T11:39:56.535258Z",
     "shell.execute_reply": "2025-07-28T11:39:56.534594Z"
    },
    "papermill": {
     "duration": 0.018038,
     "end_time": "2025-07-28T11:39:56.536501",
     "exception": false,
     "start_time": "2025-07-28T11:39:56.518463",
     "status": "completed"
    },
    "tags": []
   },
   "outputs": [],
   "source": [
    "from fairness_multiverse.conformal import find_threshold\n",
    "\n",
    "# Find conformal threshold q_hat for the given alpha (split conformal method)\n",
    "q_hat = find_threshold(nc_scores, alpha)"
   ]
  },
  {
   "cell_type": "code",
   "execution_count": 45,
   "id": "4d29e6c1-0ef6-4aa4-b8fe-4fe79b0d033a",
   "metadata": {
    "execution": {
     "iopub.execute_input": "2025-07-28T11:39:56.560507Z",
     "iopub.status.busy": "2025-07-28T11:39:56.559947Z",
     "iopub.status.idle": "2025-07-28T11:39:56.564881Z",
     "shell.execute_reply": "2025-07-28T11:39:56.564180Z"
    },
    "papermill": {
     "duration": 0.017778,
     "end_time": "2025-07-28T11:39:56.566017",
     "exception": false,
     "start_time": "2025-07-28T11:39:56.548239",
     "status": "completed"
    },
    "tags": []
   },
   "outputs": [
    {
     "data": {
      "text/plain": [
       "0.637569465740677"
      ]
     },
     "execution_count": 45,
     "metadata": {},
     "output_type": "execute_result"
    }
   ],
   "source": [
    "q_hat"
   ]
  },
  {
   "cell_type": "code",
   "execution_count": 46,
   "id": "92460794-cdac-4be2-ba28-f28c0515a6fb",
   "metadata": {
    "execution": {
     "iopub.execute_input": "2025-07-28T11:39:56.590515Z",
     "iopub.status.busy": "2025-07-28T11:39:56.590005Z",
     "iopub.status.idle": "2025-07-28T11:39:57.068726Z",
     "shell.execute_reply": "2025-07-28T11:39:57.067902Z"
    },
    "papermill": {
     "duration": 0.492273,
     "end_time": "2025-07-28T11:39:57.070162",
     "exception": false,
     "start_time": "2025-07-28T11:39:56.577889",
     "status": "completed"
    },
    "tags": []
   },
   "outputs": [],
   "source": [
    "from fairness_multiverse.conformal import predict_conformal_sets\n",
    "\n",
    "# Generate prediction sets for each test example\n",
    "pred_sets = predict_conformal_sets(model, X_test, q_hat)"
   ]
  },
  {
   "cell_type": "code",
   "execution_count": 47,
   "id": "d90c9a65-e6db-4f5d-80cd-e68fb7e46829",
   "metadata": {
    "execution": {
     "iopub.execute_input": "2025-07-28T11:39:57.095043Z",
     "iopub.status.busy": "2025-07-28T11:39:57.094733Z",
     "iopub.status.idle": "2025-07-28T11:39:57.098811Z",
     "shell.execute_reply": "2025-07-28T11:39:57.098131Z"
    },
    "papermill": {
     "duration": 0.017468,
     "end_time": "2025-07-28T11:39:57.099987",
     "exception": false,
     "start_time": "2025-07-28T11:39:57.082519",
     "status": "completed"
    },
    "tags": []
   },
   "outputs": [],
   "source": [
    "y_true = y_true.squeeze()"
   ]
  },
  {
   "cell_type": "code",
   "execution_count": 48,
   "id": "3a58a54a-1e68-46b9-927a-df01f18aebc8",
   "metadata": {
    "execution": {
     "iopub.execute_input": "2025-07-28T11:39:57.124850Z",
     "iopub.status.busy": "2025-07-28T11:39:57.124319Z",
     "iopub.status.idle": "2025-07-28T11:39:57.618612Z",
     "shell.execute_reply": "2025-07-28T11:39:57.617853Z"
    },
    "papermill": {
     "duration": 0.507561,
     "end_time": "2025-07-28T11:39:57.620001",
     "exception": false,
     "start_time": "2025-07-28T11:39:57.112440",
     "status": "completed"
    },
    "tags": []
   },
   "outputs": [],
   "source": [
    "from fairness_multiverse.conformal import evaluate_sets\n",
    "\n",
    "# Evaluate coverage and average set size on test data\n",
    "metrics = evaluate_sets(pred_sets, y_true)"
   ]
  },
  {
   "cell_type": "markdown",
   "id": "2b569c12-9aaa-4c88-98c9-bbcd0cf3ebb8",
   "metadata": {
    "papermill": {
     "duration": 0.011619,
     "end_time": "2025-07-28T11:39:57.646468",
     "exception": false,
     "start_time": "2025-07-28T11:39:57.634849",
     "status": "completed"
    },
    "tags": []
   },
   "source": [
    "# CP Metrics"
   ]
  },
  {
   "cell_type": "code",
   "execution_count": 49,
   "id": "5ce0a5cb-201f-45a0-ade5-94c7f0bd6095",
   "metadata": {
    "execution": {
     "iopub.execute_input": "2025-07-28T11:39:57.670699Z",
     "iopub.status.busy": "2025-07-28T11:39:57.670341Z",
     "iopub.status.idle": "2025-07-28T11:39:57.675566Z",
     "shell.execute_reply": "2025-07-28T11:39:57.674860Z"
    },
    "papermill": {
     "duration": 0.018661,
     "end_time": "2025-07-28T11:39:57.676757",
     "exception": false,
     "start_time": "2025-07-28T11:39:57.658096",
     "status": "completed"
    },
    "tags": []
   },
   "outputs": [
    {
     "data": {
      "text/plain": [
       "{'coverage': 0.9143685207892097, 'avg_size': 1.2381116932337533}"
      ]
     },
     "execution_count": 49,
     "metadata": {},
     "output_type": "execute_result"
    }
   ],
   "source": [
    "metrics"
   ]
  },
  {
   "cell_type": "code",
   "execution_count": 50,
   "id": "9b9a838d-31c9-430b-ae14-12baee460d17",
   "metadata": {
    "execution": {
     "iopub.execute_input": "2025-07-28T11:39:57.701653Z",
     "iopub.status.busy": "2025-07-28T11:39:57.701170Z",
     "iopub.status.idle": "2025-07-28T11:39:57.705563Z",
     "shell.execute_reply": "2025-07-28T11:39:57.704872Z"
    },
    "papermill": {
     "duration": 0.017814,
     "end_time": "2025-07-28T11:39:57.706671",
     "exception": false,
     "start_time": "2025-07-28T11:39:57.688857",
     "status": "completed"
    },
    "tags": []
   },
   "outputs": [],
   "source": [
    "example_universe = universe.copy()\n",
    "universe_training_size = example_universe.get(\"training_size\")\n",
    "universe_scale = example_universe.get(\"scale\")\n",
    "universe_model = example_universe.get(\"model\")\n",
    "universe_exclude_features = example_universe.get(\"exclude_features\")\n",
    "universe_exclude_subgroups = example_universe.get(\"exclude_subgroups\")"
   ]
  },
  {
   "cell_type": "code",
   "execution_count": 51,
   "id": "f4b6a8ac-9dc0-4245-8a91-5b3b5999c4f9",
   "metadata": {
    "execution": {
     "iopub.execute_input": "2025-07-28T11:39:57.731542Z",
     "iopub.status.busy": "2025-07-28T11:39:57.731059Z",
     "iopub.status.idle": "2025-07-28T11:39:57.735615Z",
     "shell.execute_reply": "2025-07-28T11:39:57.734934Z"
    },
    "papermill": {
     "duration": 0.018015,
     "end_time": "2025-07-28T11:39:57.736733",
     "exception": false,
     "start_time": "2025-07-28T11:39:57.718718",
     "status": "completed"
    },
    "tags": []
   },
   "outputs": [],
   "source": [
    "cp_metrics_dict = {\n",
    "    \"universe_id\": [universe_id],\n",
    "    \"universe_training_size\": [universe_training_size],\n",
    "    \"universe_scale\": [universe_scale],\n",
    "    \"universe_model\": [universe_model],\n",
    "    \"universe_exclude_features\": [universe_exclude_features],\n",
    "    \"universe_exclude_subgroups\": [universe_exclude_subgroups],\n",
    "    \"q_hat\": [q_hat],\n",
    "    \"coverage\": [metrics[\"coverage\"]],\n",
    "    \"avg_size\": [metrics[\"avg_size\"]],\n",
    "}"
   ]
  },
  {
   "cell_type": "code",
   "execution_count": 52,
   "id": "908acbb1-0371-4915-85ca-3fa520d2efe2",
   "metadata": {
    "execution": {
     "iopub.execute_input": "2025-07-28T11:39:57.761765Z",
     "iopub.status.busy": "2025-07-28T11:39:57.761158Z",
     "iopub.status.idle": "2025-07-28T11:39:57.766306Z",
     "shell.execute_reply": "2025-07-28T11:39:57.765646Z"
    },
    "papermill": {
     "duration": 0.018508,
     "end_time": "2025-07-28T11:39:57.767397",
     "exception": false,
     "start_time": "2025-07-28T11:39:57.748889",
     "status": "completed"
    },
    "tags": []
   },
   "outputs": [
    {
     "data": {
      "text/plain": [
       "{'universe_id': ['d209ba7c904b2be73ec5d66322c42f95'],\n",
       " 'universe_training_size': ['2014'],\n",
       " 'universe_scale': ['do-not-scale'],\n",
       " 'universe_model': ['elasticnet'],\n",
       " 'universe_exclude_features': ['age'],\n",
       " 'universe_exclude_subgroups': ['drop-non-german'],\n",
       " 'q_hat': [0.637569465740677],\n",
       " 'coverage': [0.9143685207892097],\n",
       " 'avg_size': [1.2381116932337533]}"
      ]
     },
     "execution_count": 52,
     "metadata": {},
     "output_type": "execute_result"
    }
   ],
   "source": [
    "cp_metrics_dict"
   ]
  },
  {
   "cell_type": "code",
   "execution_count": 53,
   "id": "33007efc-14e9-4ec6-97ac-56a455c82265",
   "metadata": {
    "execution": {
     "iopub.execute_input": "2025-07-28T11:39:57.793065Z",
     "iopub.status.busy": "2025-07-28T11:39:57.792534Z",
     "iopub.status.idle": "2025-07-28T11:39:57.796992Z",
     "shell.execute_reply": "2025-07-28T11:39:57.796274Z"
    },
    "papermill": {
     "duration": 0.018334,
     "end_time": "2025-07-28T11:39:57.798116",
     "exception": false,
     "start_time": "2025-07-28T11:39:57.779782",
     "status": "completed"
    },
    "tags": []
   },
   "outputs": [],
   "source": [
    "cp_metrics_df = pd.DataFrame(cp_metrics_dict)"
   ]
  },
  {
   "cell_type": "code",
   "execution_count": 54,
   "id": "db12611b-57b2-4910-b9d0-355adfd6e7bf",
   "metadata": {
    "execution": {
     "iopub.execute_input": "2025-07-28T11:39:57.823803Z",
     "iopub.status.busy": "2025-07-28T11:39:57.823292Z",
     "iopub.status.idle": "2025-07-28T11:39:57.835666Z",
     "shell.execute_reply": "2025-07-28T11:39:57.834983Z"
    },
    "papermill": {
     "duration": 0.026321,
     "end_time": "2025-07-28T11:39:57.836886",
     "exception": false,
     "start_time": "2025-07-28T11:39:57.810565",
     "status": "completed"
    },
    "tags": []
   },
   "outputs": [
    {
     "data": {
      "text/html": [
       "<div>\n",
       "<style scoped>\n",
       "    .dataframe tbody tr th:only-of-type {\n",
       "        vertical-align: middle;\n",
       "    }\n",
       "\n",
       "    .dataframe tbody tr th {\n",
       "        vertical-align: top;\n",
       "    }\n",
       "\n",
       "    .dataframe thead th {\n",
       "        text-align: right;\n",
       "    }\n",
       "</style>\n",
       "<table border=\"1\" class=\"dataframe\">\n",
       "  <thead>\n",
       "    <tr style=\"text-align: right;\">\n",
       "      <th></th>\n",
       "      <th>universe_id</th>\n",
       "      <th>universe_training_size</th>\n",
       "      <th>universe_scale</th>\n",
       "      <th>universe_model</th>\n",
       "      <th>universe_exclude_features</th>\n",
       "      <th>universe_exclude_subgroups</th>\n",
       "      <th>q_hat</th>\n",
       "      <th>coverage</th>\n",
       "      <th>avg_size</th>\n",
       "    </tr>\n",
       "  </thead>\n",
       "  <tbody>\n",
       "    <tr>\n",
       "      <th>0</th>\n",
       "      <td>d209ba7c904b2be73ec5d66322c42f95</td>\n",
       "      <td>2014</td>\n",
       "      <td>do-not-scale</td>\n",
       "      <td>elasticnet</td>\n",
       "      <td>age</td>\n",
       "      <td>drop-non-german</td>\n",
       "      <td>0.637569</td>\n",
       "      <td>0.914369</td>\n",
       "      <td>1.238112</td>\n",
       "    </tr>\n",
       "  </tbody>\n",
       "</table>\n",
       "</div>"
      ],
      "text/plain": [
       "                        universe_id universe_training_size universe_scale  \\\n",
       "0  d209ba7c904b2be73ec5d66322c42f95                   2014   do-not-scale   \n",
       "\n",
       "  universe_model universe_exclude_features universe_exclude_subgroups  \\\n",
       "0     elasticnet                       age            drop-non-german   \n",
       "\n",
       "      q_hat  coverage  avg_size  \n",
       "0  0.637569  0.914369  1.238112  "
      ]
     },
     "execution_count": 54,
     "metadata": {},
     "output_type": "execute_result"
    }
   ],
   "source": [
    "cp_metrics_df"
   ]
  },
  {
   "cell_type": "code",
   "execution_count": 55,
   "id": "b7fbde55-a0a1-47e4-9af6-fe4a17fa8c61",
   "metadata": {
    "execution": {
     "iopub.execute_input": "2025-07-28T11:39:57.862202Z",
     "iopub.status.busy": "2025-07-28T11:39:57.861963Z",
     "iopub.status.idle": "2025-07-28T11:39:57.865496Z",
     "shell.execute_reply": "2025-07-28T11:39:57.864794Z"
    },
    "papermill": {
     "duration": 0.017503,
     "end_time": "2025-07-28T11:39:57.866703",
     "exception": false,
     "start_time": "2025-07-28T11:39:57.849200",
     "status": "completed"
    },
    "tags": []
   },
   "outputs": [],
   "source": [
    "# Conditional Coverage & looking at subgroups"
   ]
  },
  {
   "cell_type": "code",
   "execution_count": 56,
   "id": "027ae886-68dd-4141-96c7-805a5450e1ef",
   "metadata": {
    "execution": {
     "iopub.execute_input": "2025-07-28T11:39:57.892106Z",
     "iopub.status.busy": "2025-07-28T11:39:57.891833Z",
     "iopub.status.idle": "2025-07-28T11:39:58.058048Z",
     "shell.execute_reply": "2025-07-28T11:39:58.057301Z"
    },
    "papermill": {
     "duration": 0.180367,
     "end_time": "2025-07-28T11:39:58.059531",
     "exception": false,
     "start_time": "2025-07-28T11:39:57.879164",
     "status": "completed"
    },
    "tags": []
   },
   "outputs": [],
   "source": [
    "from fairness_multiverse.conformal import build_cp_groups\n",
    "\n",
    "cp_groups_df = build_cp_groups(pred_sets, y_true, X_test.index, org_test)\n",
    "#needs universe_id and setting"
   ]
  },
  {
   "cell_type": "code",
   "execution_count": 57,
   "id": "01d5802c-663a-4d1f-9d69-e036faaffbf7",
   "metadata": {
    "execution": {
     "iopub.execute_input": "2025-07-28T11:39:58.085679Z",
     "iopub.status.busy": "2025-07-28T11:39:58.085429Z",
     "iopub.status.idle": "2025-07-28T11:39:58.089311Z",
     "shell.execute_reply": "2025-07-28T11:39:58.088586Z"
    },
    "papermill": {
     "duration": 0.01806,
     "end_time": "2025-07-28T11:39:58.090649",
     "exception": false,
     "start_time": "2025-07-28T11:39:58.072589",
     "status": "completed"
    },
    "tags": []
   },
   "outputs": [],
   "source": [
    "#delete\n",
    "#cp_groups_df"
   ]
  },
  {
   "cell_type": "code",
   "execution_count": 58,
   "id": "fa424af1-d1eb-443d-b717-2d279ada8408",
   "metadata": {
    "execution": {
     "iopub.execute_input": "2025-07-28T11:39:58.116301Z",
     "iopub.status.busy": "2025-07-28T11:39:58.115989Z",
     "iopub.status.idle": "2025-07-28T11:39:58.119665Z",
     "shell.execute_reply": "2025-07-28T11:39:58.118921Z"
    },
    "papermill": {
     "duration": 0.017834,
     "end_time": "2025-07-28T11:39:58.120922",
     "exception": false,
     "start_time": "2025-07-28T11:39:58.103088",
     "status": "completed"
    },
    "tags": []
   },
   "outputs": [],
   "source": [
    "#delete\n",
    "#percentage = (cp_groups_df['nongerman_female'] == 1).mean() * 100\n",
    "#print(percentage)\n"
   ]
  },
  {
   "cell_type": "code",
   "execution_count": 59,
   "id": "6cbdab96-b2b2-45af-ad54-d0516db2e28d",
   "metadata": {
    "execution": {
     "iopub.execute_input": "2025-07-28T11:39:58.146480Z",
     "iopub.status.busy": "2025-07-28T11:39:58.146227Z",
     "iopub.status.idle": "2025-07-28T11:39:59.013909Z",
     "shell.execute_reply": "2025-07-28T11:39:59.013172Z"
    },
    "papermill": {
     "duration": 0.881994,
     "end_time": "2025-07-28T11:39:59.015399",
     "exception": false,
     "start_time": "2025-07-28T11:39:58.133405",
     "status": "completed"
    },
    "tags": []
   },
   "outputs": [],
   "source": [
    "# Define covered = 1 if true_label is in the predicted set\n",
    "cp_groups_df['covered'] = cp_groups_df.apply(\n",
    "    lambda r: int(r['true_label'] in r['pred_set']),\n",
    "    axis=1\n",
    ")"
   ]
  },
  {
   "cell_type": "code",
   "execution_count": 60,
   "id": "338ff529-1a6b-4b87-a931-8e4788d52aad",
   "metadata": {
    "execution": {
     "iopub.execute_input": "2025-07-28T11:39:59.044139Z",
     "iopub.status.busy": "2025-07-28T11:39:59.043843Z",
     "iopub.status.idle": "2025-07-28T11:39:59.048060Z",
     "shell.execute_reply": "2025-07-28T11:39:59.047267Z"
    },
    "papermill": {
     "duration": 0.018575,
     "end_time": "2025-07-28T11:39:59.049359",
     "exception": false,
     "start_time": "2025-07-28T11:39:59.030784",
     "status": "completed"
    },
    "tags": []
   },
   "outputs": [],
   "source": [
    "#cp_groups_df"
   ]
  },
  {
   "cell_type": "code",
   "execution_count": 61,
   "id": "90032e27-66df-4540-9169-4e89cfbaa758",
   "metadata": {
    "execution": {
     "iopub.execute_input": "2025-07-28T11:39:59.074926Z",
     "iopub.status.busy": "2025-07-28T11:39:59.074665Z",
     "iopub.status.idle": "2025-07-28T11:39:59.082995Z",
     "shell.execute_reply": "2025-07-28T11:39:59.082219Z"
    },
    "papermill": {
     "duration": 0.022539,
     "end_time": "2025-07-28T11:39:59.084251",
     "exception": false,
     "start_time": "2025-07-28T11:39:59.061712",
     "status": "completed"
    },
    "tags": []
   },
   "outputs": [],
   "source": [
    "subgroups = ['frau1','nongerman','nongerman_male','nongerman_female']\n",
    "\n",
    "# Conditional coverage for subgroup==1\n",
    "cond_coverage = {\n",
    "    g: cp_groups_df.loc[cp_groups_df[g]==1, 'covered'].mean()\n",
    "    for g in subgroups\n",
    "}"
   ]
  },
  {
   "cell_type": "code",
   "execution_count": 62,
   "id": "1e348fb1-b9c3-45bc-ba23-f016827a7e0d",
   "metadata": {
    "execution": {
     "iopub.execute_input": "2025-07-28T11:39:59.110306Z",
     "iopub.status.busy": "2025-07-28T11:39:59.110050Z",
     "iopub.status.idle": "2025-07-28T11:39:59.115414Z",
     "shell.execute_reply": "2025-07-28T11:39:59.114742Z"
    },
    "papermill": {
     "duration": 0.019823,
     "end_time": "2025-07-28T11:39:59.116685",
     "exception": false,
     "start_time": "2025-07-28T11:39:59.096862",
     "status": "completed"
    },
    "tags": []
   },
   "outputs": [
    {
     "data": {
      "text/plain": [
       "{'frau1': 0.9133575953632566,\n",
       " 'nongerman': 0.9603660248133385,\n",
       " 'nongerman_male': 0.9682968567053949,\n",
       " 'nongerman_female': 0.9472429210134128}"
      ]
     },
     "execution_count": 62,
     "metadata": {},
     "output_type": "execute_result"
    }
   ],
   "source": [
    "cond_coverage"
   ]
  },
  {
   "cell_type": "code",
   "execution_count": 63,
   "id": "f5093324-c3dd-4d63-bc4c-8d945e5c8bbb",
   "metadata": {
    "execution": {
     "iopub.execute_input": "2025-07-28T11:39:59.142948Z",
     "iopub.status.busy": "2025-07-28T11:39:59.142667Z",
     "iopub.status.idle": "2025-07-28T11:39:59.148205Z",
     "shell.execute_reply": "2025-07-28T11:39:59.147401Z"
    },
    "papermill": {
     "duration": 0.020176,
     "end_time": "2025-07-28T11:39:59.149479",
     "exception": false,
     "start_time": "2025-07-28T11:39:59.129303",
     "status": "completed"
    },
    "tags": []
   },
   "outputs": [],
   "source": [
    "for subgroup, cov in cond_coverage.items():\n",
    "    cp_metrics_df[f\"cov_{subgroup}\"] = cov"
   ]
  },
  {
   "cell_type": "code",
   "execution_count": 64,
   "id": "6e872e10-dbe5-49e8-b554-5030c98ff75d",
   "metadata": {
    "execution": {
     "iopub.execute_input": "2025-07-28T11:39:59.175228Z",
     "iopub.status.busy": "2025-07-28T11:39:59.174972Z",
     "iopub.status.idle": "2025-07-28T11:39:59.187420Z",
     "shell.execute_reply": "2025-07-28T11:39:59.186723Z"
    },
    "papermill": {
     "duration": 0.026684,
     "end_time": "2025-07-28T11:39:59.188710",
     "exception": false,
     "start_time": "2025-07-28T11:39:59.162026",
     "status": "completed"
    },
    "tags": []
   },
   "outputs": [
    {
     "data": {
      "text/html": [
       "<div>\n",
       "<style scoped>\n",
       "    .dataframe tbody tr th:only-of-type {\n",
       "        vertical-align: middle;\n",
       "    }\n",
       "\n",
       "    .dataframe tbody tr th {\n",
       "        vertical-align: top;\n",
       "    }\n",
       "\n",
       "    .dataframe thead th {\n",
       "        text-align: right;\n",
       "    }\n",
       "</style>\n",
       "<table border=\"1\" class=\"dataframe\">\n",
       "  <thead>\n",
       "    <tr style=\"text-align: right;\">\n",
       "      <th></th>\n",
       "      <th>universe_id</th>\n",
       "      <th>universe_training_size</th>\n",
       "      <th>universe_scale</th>\n",
       "      <th>universe_model</th>\n",
       "      <th>universe_exclude_features</th>\n",
       "      <th>universe_exclude_subgroups</th>\n",
       "      <th>q_hat</th>\n",
       "      <th>coverage</th>\n",
       "      <th>avg_size</th>\n",
       "      <th>cov_frau1</th>\n",
       "      <th>cov_nongerman</th>\n",
       "      <th>cov_nongerman_male</th>\n",
       "      <th>cov_nongerman_female</th>\n",
       "    </tr>\n",
       "  </thead>\n",
       "  <tbody>\n",
       "    <tr>\n",
       "      <th>0</th>\n",
       "      <td>d209ba7c904b2be73ec5d66322c42f95</td>\n",
       "      <td>2014</td>\n",
       "      <td>do-not-scale</td>\n",
       "      <td>elasticnet</td>\n",
       "      <td>age</td>\n",
       "      <td>drop-non-german</td>\n",
       "      <td>0.637569</td>\n",
       "      <td>0.914369</td>\n",
       "      <td>1.238112</td>\n",
       "      <td>0.913358</td>\n",
       "      <td>0.960366</td>\n",
       "      <td>0.968297</td>\n",
       "      <td>0.947243</td>\n",
       "    </tr>\n",
       "  </tbody>\n",
       "</table>\n",
       "</div>"
      ],
      "text/plain": [
       "                        universe_id universe_training_size universe_scale  \\\n",
       "0  d209ba7c904b2be73ec5d66322c42f95                   2014   do-not-scale   \n",
       "\n",
       "  universe_model universe_exclude_features universe_exclude_subgroups  \\\n",
       "0     elasticnet                       age            drop-non-german   \n",
       "\n",
       "      q_hat  coverage  avg_size  cov_frau1  cov_nongerman  cov_nongerman_male  \\\n",
       "0  0.637569  0.914369  1.238112   0.913358       0.960366            0.968297   \n",
       "\n",
       "   cov_nongerman_female  \n",
       "0              0.947243  "
      ]
     },
     "execution_count": 64,
     "metadata": {},
     "output_type": "execute_result"
    }
   ],
   "source": [
    "cp_metrics_df"
   ]
  },
  {
   "cell_type": "markdown",
   "id": "33774451",
   "metadata": {
    "papermill": {
     "duration": 0.052938,
     "end_time": "2025-07-28T11:39:59.254698",
     "exception": false,
     "start_time": "2025-07-28T11:39:59.201760",
     "status": "completed"
    },
    "tags": []
   },
   "source": [
    "# (Fairness) Metrics"
   ]
  },
  {
   "cell_type": "code",
   "execution_count": 65,
   "id": "debc5d62",
   "metadata": {
    "execution": {
     "iopub.execute_input": "2025-07-28T11:39:59.281626Z",
     "iopub.status.busy": "2025-07-28T11:39:59.281303Z",
     "iopub.status.idle": "2025-07-28T11:39:59.295564Z",
     "shell.execute_reply": "2025-07-28T11:39:59.294891Z"
    },
    "papermill": {
     "duration": 0.029228,
     "end_time": "2025-07-28T11:39:59.296795",
     "exception": false,
     "start_time": "2025-07-28T11:39:59.267567",
     "status": "completed"
    },
    "tags": []
   },
   "outputs": [],
   "source": [
    "# do I need to include maxdeutsch1.missing?\n",
    "\n",
    "import numpy as np\n",
    "\n",
    "colname_to_bin = \"maxdeutsch1\"\n",
    "majority_value = org_train[colname_to_bin].mode()[0]\n",
    "\n",
    "org_test[\"majmin\"] = np.where(org_test[colname_to_bin] == majority_value, \"majority\", \"minority\")"
   ]
  },
  {
   "cell_type": "code",
   "execution_count": 66,
   "id": "06a50de5",
   "metadata": {
    "execution": {
     "iopub.execute_input": "2025-07-28T11:39:59.323562Z",
     "iopub.status.busy": "2025-07-28T11:39:59.323300Z",
     "iopub.status.idle": "2025-07-28T11:40:00.747506Z",
     "shell.execute_reply": "2025-07-28T11:40:00.746725Z"
    },
    "papermill": {
     "duration": 1.439069,
     "end_time": "2025-07-28T11:40:00.748998",
     "exception": false,
     "start_time": "2025-07-28T11:39:59.309929",
     "status": "completed"
    },
    "tags": []
   },
   "outputs": [],
   "source": [
    "example_universe = universe.copy()\n",
    "example_universe[\"cutoff\"] = example_universe[\"cutoff\"][0]\n",
    "example_universe[\"eval_fairness_grouping\"] = example_universe[\"eval_fairness_grouping\"][0]\n",
    "fairness_dict, metric_frame = universe_analysis.compute_metrics(\n",
    "    example_universe,\n",
    "    y_pred_prob=probs_test,\n",
    "    y_test=y_true,\n",
    "    org_test=org_test,\n",
    ")"
   ]
  },
  {
   "cell_type": "markdown",
   "id": "f95d4e02",
   "metadata": {
    "papermill": {
     "duration": 0.012692,
     "end_time": "2025-07-28T11:40:00.775390",
     "exception": false,
     "start_time": "2025-07-28T11:40:00.762698",
     "status": "completed"
    },
    "tags": []
   },
   "source": [
    "# Overall"
   ]
  },
  {
   "cell_type": "markdown",
   "id": "bdee4871",
   "metadata": {
    "papermill": {
     "duration": 0.012932,
     "end_time": "2025-07-28T11:40:00.801031",
     "exception": false,
     "start_time": "2025-07-28T11:40:00.788099",
     "status": "completed"
    },
    "tags": []
   },
   "source": [
    "Fairness\n",
    "Main fairness target: Equalized Odds. Seems to be a better fit than equal opportunity, since we're not only interested in Y = 1. Seems to be a better fit than demographic parity, since we also care about accuracy, not just equal distribution of preds.\n",
    "\n",
    "Pick column for computation of fairness metrics\n",
    "\n",
    "Performance\n",
    "Overall performance measures, most interesting in relation to the measures split by group below"
   ]
  },
  {
   "cell_type": "code",
   "execution_count": 67,
   "id": "c4e067c6",
   "metadata": {
    "execution": {
     "iopub.execute_input": "2025-07-28T11:40:00.827347Z",
     "iopub.status.busy": "2025-07-28T11:40:00.827043Z",
     "iopub.status.idle": "2025-07-28T11:40:00.833485Z",
     "shell.execute_reply": "2025-07-28T11:40:00.832764Z"
    },
    "papermill": {
     "duration": 0.021166,
     "end_time": "2025-07-28T11:40:00.834811",
     "exception": false,
     "start_time": "2025-07-28T11:40:00.813645",
     "status": "completed"
    },
    "tags": []
   },
   "outputs": [
    {
     "data": {
      "text/plain": [
       "accuracy                   0.221034\n",
       "balanced accuracy          0.541159\n",
       "f1                         0.242458\n",
       "precision                  0.138508\n",
       "false positive rate        0.889440\n",
       "false negative rate        0.028241\n",
       "selection rate             0.900000\n",
       "count                  89710.000000\n",
       "dtype: float64"
      ]
     },
     "execution_count": 67,
     "metadata": {},
     "output_type": "execute_result"
    }
   ],
   "source": [
    "metric_frame.overall"
   ]
  },
  {
   "cell_type": "markdown",
   "id": "e968fe9d",
   "metadata": {
    "papermill": {
     "duration": 0.012871,
     "end_time": "2025-07-28T11:40:00.860540",
     "exception": false,
     "start_time": "2025-07-28T11:40:00.847669",
     "status": "completed"
    },
    "tags": []
   },
   "source": [
    "By Group"
   ]
  },
  {
   "cell_type": "code",
   "execution_count": 68,
   "id": "ec325bce",
   "metadata": {
    "execution": {
     "iopub.execute_input": "2025-07-28T11:40:00.888004Z",
     "iopub.status.busy": "2025-07-28T11:40:00.887754Z",
     "iopub.status.idle": "2025-07-28T11:40:00.899202Z",
     "shell.execute_reply": "2025-07-28T11:40:00.898514Z"
    },
    "papermill": {
     "duration": 0.026511,
     "end_time": "2025-07-28T11:40:00.900471",
     "exception": false,
     "start_time": "2025-07-28T11:40:00.873960",
     "status": "completed"
    },
    "tags": []
   },
   "outputs": [
    {
     "data": {
      "text/html": [
       "<div>\n",
       "<style scoped>\n",
       "    .dataframe tbody tr th:only-of-type {\n",
       "        vertical-align: middle;\n",
       "    }\n",
       "\n",
       "    .dataframe tbody tr th {\n",
       "        vertical-align: top;\n",
       "    }\n",
       "\n",
       "    .dataframe thead th {\n",
       "        text-align: right;\n",
       "    }\n",
       "</style>\n",
       "<table border=\"1\" class=\"dataframe\">\n",
       "  <thead>\n",
       "    <tr style=\"text-align: right;\">\n",
       "      <th></th>\n",
       "      <th>accuracy</th>\n",
       "      <th>balanced accuracy</th>\n",
       "      <th>f1</th>\n",
       "      <th>precision</th>\n",
       "      <th>false positive rate</th>\n",
       "      <th>false negative rate</th>\n",
       "      <th>selection rate</th>\n",
       "      <th>count</th>\n",
       "    </tr>\n",
       "    <tr>\n",
       "      <th>majmin</th>\n",
       "      <th></th>\n",
       "      <th></th>\n",
       "      <th></th>\n",
       "      <th></th>\n",
       "      <th></th>\n",
       "      <th></th>\n",
       "      <th></th>\n",
       "      <th></th>\n",
       "    </tr>\n",
       "  </thead>\n",
       "  <tbody>\n",
       "    <tr>\n",
       "      <th>majority</th>\n",
       "      <td>0.245424</td>\n",
       "      <td>0.551262</td>\n",
       "      <td>0.252984</td>\n",
       "      <td>0.145529</td>\n",
       "      <td>0.864434</td>\n",
       "      <td>0.033042</td>\n",
       "      <td>0.877982</td>\n",
       "      <td>69170.0</td>\n",
       "    </tr>\n",
       "    <tr>\n",
       "      <th>minority</th>\n",
       "      <td>0.138900</td>\n",
       "      <td>0.509121</td>\n",
       "      <td>0.209590</td>\n",
       "      <td>0.117197</td>\n",
       "      <td>0.972045</td>\n",
       "      <td>0.009713</td>\n",
       "      <td>0.974148</td>\n",
       "      <td>20540.0</td>\n",
       "    </tr>\n",
       "  </tbody>\n",
       "</table>\n",
       "</div>"
      ],
      "text/plain": [
       "          accuracy  balanced accuracy        f1  precision  \\\n",
       "majmin                                                       \n",
       "majority  0.245424           0.551262  0.252984   0.145529   \n",
       "minority  0.138900           0.509121  0.209590   0.117197   \n",
       "\n",
       "          false positive rate  false negative rate  selection rate    count  \n",
       "majmin                                                                       \n",
       "majority             0.864434             0.033042        0.877982  69170.0  \n",
       "minority             0.972045             0.009713        0.974148  20540.0  "
      ]
     },
     "execution_count": 68,
     "metadata": {},
     "output_type": "execute_result"
    }
   ],
   "source": [
    "metric_frame.by_group"
   ]
  },
  {
   "cell_type": "code",
   "execution_count": 69,
   "id": "a9ddbe63",
   "metadata": {
    "execution": {
     "iopub.execute_input": "2025-07-28T11:40:00.927544Z",
     "iopub.status.busy": "2025-07-28T11:40:00.927301Z",
     "iopub.status.idle": "2025-07-28T11:40:02.527609Z",
     "shell.execute_reply": "2025-07-28T11:40:02.526776Z"
    },
    "papermill": {
     "duration": 1.615346,
     "end_time": "2025-07-28T11:40:02.528901",
     "exception": false,
     "start_time": "2025-07-28T11:40:00.913555",
     "status": "completed"
    },
    "tags": []
   },
   "outputs": [
    {
     "data": {
      "text/plain": [
       "array([[<Axes: title={'center': 'accuracy'}, xlabel='majmin'>,\n",
       "        <Axes: title={'center': 'balanced accuracy'}, xlabel='majmin'>,\n",
       "        <Axes: title={'center': 'f1'}, xlabel='majmin'>],\n",
       "       [<Axes: title={'center': 'precision'}, xlabel='majmin'>,\n",
       "        <Axes: title={'center': 'false positive rate'}, xlabel='majmin'>,\n",
       "        <Axes: title={'center': 'false negative rate'}, xlabel='majmin'>],\n",
       "       [<Axes: title={'center': 'selection rate'}, xlabel='majmin'>,\n",
       "        <Axes: title={'center': 'count'}, xlabel='majmin'>,\n",
       "        <Axes: xlabel='majmin'>]], dtype=object)"
      ]
     },
     "execution_count": 69,
     "metadata": {},
     "output_type": "execute_result"
    },
    {
     "data": {
      "image/png": "[encoded data removed]",
      "text/plain": [
       "<Figure size 1200x800 with 9 Axes>"
      ]
     },
     "metadata": {},
     "output_type": "display_data"
    }
   ],
   "source": [
    "# In a graphic\n",
    "metric_frame.by_group.plot.bar(\n",
    "    subplots=True,\n",
    "    layout=[3, 3],\n",
    "    legend=False,\n",
    "    figsize=[12, 8],\n",
    "    title=\"Show all metrics\",\n",
    ")"
   ]
  },
  {
   "cell_type": "markdown",
   "id": "f57a0bac",
   "metadata": {
    "papermill": {
     "duration": 0.014092,
     "end_time": "2025-07-28T11:40:02.557849",
     "exception": false,
     "start_time": "2025-07-28T11:40:02.543757",
     "status": "completed"
    },
    "tags": []
   },
   "source": [
    "# Final Output"
   ]
  },
  {
   "cell_type": "code",
   "execution_count": 70,
   "id": "96d280a3",
   "metadata": {
    "execution": {
     "iopub.execute_input": "2025-07-28T11:40:02.587092Z",
     "iopub.status.busy": "2025-07-28T11:40:02.586686Z",
     "iopub.status.idle": "2025-07-28T11:40:02.593101Z",
     "shell.execute_reply": "2025-07-28T11:40:02.592451Z"
    },
    "papermill": {
     "duration": 0.022403,
     "end_time": "2025-07-28T11:40:02.594256",
     "exception": false,
     "start_time": "2025-07-28T11:40:02.571853",
     "status": "completed"
    },
    "tags": []
   },
   "outputs": [
    {
     "data": {
      "text/plain": [
       "4"
      ]
     },
     "execution_count": 70,
     "metadata": {},
     "output_type": "execute_result"
    }
   ],
   "source": [
    "sub_universes = universe_analysis.generate_sub_universes()\n",
    "len(sub_universes)"
   ]
  },
  {
   "cell_type": "code",
   "execution_count": 71,
   "id": "92adf7ba",
   "metadata": {
    "execution": {
     "iopub.execute_input": "2025-07-28T11:40:02.624006Z",
     "iopub.status.busy": "2025-07-28T11:40:02.623747Z",
     "iopub.status.idle": "2025-07-28T11:40:02.628357Z",
     "shell.execute_reply": "2025-07-28T11:40:02.627617Z"
    },
    "papermill": {
     "duration": 0.020919,
     "end_time": "2025-07-28T11:40:02.629572",
     "exception": false,
     "start_time": "2025-07-28T11:40:02.608653",
     "status": "completed"
    },
    "tags": []
   },
   "outputs": [],
   "source": [
    "def filter_sub_universe_data(sub_universe, org_test):\n",
    "    # Keep all rows — no filtering\n",
    "    keep_rows_mask = np.ones(org_test.shape[0], dtype=bool)\n",
    "\n",
    "    print(f\"[INFO] Keeping all rows: {keep_rows_mask.sum()} rows retained.\")\n",
    "    return keep_rows_mask"
   ]
  },
  {
   "cell_type": "code",
   "execution_count": 72,
   "id": "4a759155",
   "metadata": {
    "execution": {
     "iopub.execute_input": "2025-07-28T11:40:02.659316Z",
     "iopub.status.busy": "2025-07-28T11:40:02.659055Z",
     "iopub.status.idle": "2025-07-28T11:40:08.226446Z",
     "shell.execute_reply": "2025-07-28T11:40:08.225608Z"
    },
    "papermill": {
     "duration": 5.583502,
     "end_time": "2025-07-28T11:40:08.227692",
     "exception": false,
     "start_time": "2025-07-28T11:40:02.644190",
     "status": "completed"
    },
    "tags": []
   },
   "outputs": [
    {
     "name": "stdout",
     "output_type": "stream",
     "text": [
      "Stopping execution_time clock.\n",
      "[INFO] Keeping all rows: 89710 rows retained.\n"
     ]
    },
    {
     "name": "stdout",
     "output_type": "stream",
     "text": [
      "[INFO] Keeping all rows: 89710 rows retained.\n"
     ]
    },
    {
     "name": "stdout",
     "output_type": "stream",
     "text": [
      "[INFO] Keeping all rows: 89710 rows retained.\n"
     ]
    },
    {
     "name": "stdout",
     "output_type": "stream",
     "text": [
      "[INFO] Keeping all rows: 89710 rows retained.\n"
     ]
    },
    {
     "data": {
      "text/html": [
       "<div>\n",
       "<style scoped>\n",
       "    .dataframe tbody tr th:only-of-type {\n",
       "        vertical-align: middle;\n",
       "    }\n",
       "\n",
       "    .dataframe tbody tr th {\n",
       "        vertical-align: top;\n",
       "    }\n",
       "\n",
       "    .dataframe thead th {\n",
       "        text-align: right;\n",
       "    }\n",
       "</style>\n",
       "<table border=\"1\" class=\"dataframe\">\n",
       "  <thead>\n",
       "    <tr style=\"text-align: right;\">\n",
       "      <th></th>\n",
       "      <th>run_no</th>\n",
       "      <th>universe_id</th>\n",
       "      <th>universe_settings</th>\n",
       "      <th>execution_time</th>\n",
       "      <th>test_size_n</th>\n",
       "      <th>test_size_frac</th>\n",
       "      <th>fair_main_equalized_odds_difference</th>\n",
       "      <th>fair_main_equalized_odds_ratio</th>\n",
       "      <th>fair_main_demographic_parity_difference</th>\n",
       "      <th>fair_main_demographic_parity_ratio</th>\n",
       "      <th>...</th>\n",
       "      <th>perf_grp_precision_0</th>\n",
       "      <th>perf_grp_precision_1</th>\n",
       "      <th>perf_grp_false positive rate_0</th>\n",
       "      <th>perf_grp_false positive rate_1</th>\n",
       "      <th>perf_grp_false negative rate_0</th>\n",
       "      <th>perf_grp_false negative rate_1</th>\n",
       "      <th>perf_grp_selection rate_0</th>\n",
       "      <th>perf_grp_selection rate_1</th>\n",
       "      <th>perf_grp_count_0</th>\n",
       "      <th>perf_grp_count_1</th>\n",
       "    </tr>\n",
       "  </thead>\n",
       "  <tbody>\n",
       "    <tr>\n",
       "      <th>0</th>\n",
       "      <td>11</td>\n",
       "      <td>d209ba7c904b2be73ec5d66322c42f95</td>\n",
       "      <td>{\"cutoff\": \"quantile_0.1\", \"eval_fairness_grou...</td>\n",
       "      <td>1120.856431</td>\n",
       "      <td>89710</td>\n",
       "      <td>1.0</td>\n",
       "      <td>0.107610</td>\n",
       "      <td>0.889295</td>\n",
       "      <td>0.096166</td>\n",
       "      <td>0.901282</td>\n",
       "      <td>...</td>\n",
       "      <td>NaN</td>\n",
       "      <td>NaN</td>\n",
       "      <td>NaN</td>\n",
       "      <td>NaN</td>\n",
       "      <td>NaN</td>\n",
       "      <td>NaN</td>\n",
       "      <td>NaN</td>\n",
       "      <td>NaN</td>\n",
       "      <td>NaN</td>\n",
       "      <td>NaN</td>\n",
       "    </tr>\n",
       "    <tr>\n",
       "      <th>0</th>\n",
       "      <td>11</td>\n",
       "      <td>d209ba7c904b2be73ec5d66322c42f95</td>\n",
       "      <td>{\"cutoff\": \"quantile_0.1\", \"eval_fairness_grou...</td>\n",
       "      <td>1120.856431</td>\n",
       "      <td>89710</td>\n",
       "      <td>1.0</td>\n",
       "      <td>0.107610</td>\n",
       "      <td>0.889295</td>\n",
       "      <td>0.096166</td>\n",
       "      <td>0.901282</td>\n",
       "      <td>...</td>\n",
       "      <td>0.117197</td>\n",
       "      <td>0.145529</td>\n",
       "      <td>0.972045</td>\n",
       "      <td>0.864434</td>\n",
       "      <td>0.009713</td>\n",
       "      <td>0.033042</td>\n",
       "      <td>0.974148</td>\n",
       "      <td>0.877982</td>\n",
       "      <td>20540.0</td>\n",
       "      <td>69170.0</td>\n",
       "    </tr>\n",
       "    <tr>\n",
       "      <th>0</th>\n",
       "      <td>11</td>\n",
       "      <td>d209ba7c904b2be73ec5d66322c42f95</td>\n",
       "      <td>{\"cutoff\": \"quantile_0.25\", \"eval_fairness_gro...</td>\n",
       "      <td>1120.856431</td>\n",
       "      <td>89710</td>\n",
       "      <td>1.0</td>\n",
       "      <td>0.252199</td>\n",
       "      <td>0.726227</td>\n",
       "      <td>0.228836</td>\n",
       "      <td>0.752993</td>\n",
       "      <td>...</td>\n",
       "      <td>NaN</td>\n",
       "      <td>NaN</td>\n",
       "      <td>NaN</td>\n",
       "      <td>NaN</td>\n",
       "      <td>NaN</td>\n",
       "      <td>NaN</td>\n",
       "      <td>NaN</td>\n",
       "      <td>NaN</td>\n",
       "      <td>NaN</td>\n",
       "      <td>NaN</td>\n",
       "    </tr>\n",
       "    <tr>\n",
       "      <th>0</th>\n",
       "      <td>11</td>\n",
       "      <td>d209ba7c904b2be73ec5d66322c42f95</td>\n",
       "      <td>{\"cutoff\": \"quantile_0.25\", \"eval_fairness_gro...</td>\n",
       "      <td>1120.856431</td>\n",
       "      <td>89710</td>\n",
       "      <td>1.0</td>\n",
       "      <td>0.252199</td>\n",
       "      <td>0.726227</td>\n",
       "      <td>0.228836</td>\n",
       "      <td>0.752993</td>\n",
       "      <td>...</td>\n",
       "      <td>0.120290</td>\n",
       "      <td>0.167720</td>\n",
       "      <td>0.921197</td>\n",
       "      <td>0.668999</td>\n",
       "      <td>0.033361</td>\n",
       "      <td>0.114551</td>\n",
       "      <td>0.926436</td>\n",
       "      <td>0.697600</td>\n",
       "      <td>20540.0</td>\n",
       "      <td>69170.0</td>\n",
       "    </tr>\n",
       "  </tbody>\n",
       "</table>\n",
       "<p>4 rows × 50 columns</p>\n",
       "</div>"
      ],
      "text/plain": [
       "  run_no                       universe_id  \\\n",
       "0     11  d209ba7c904b2be73ec5d66322c42f95   \n",
       "0     11  d209ba7c904b2be73ec5d66322c42f95   \n",
       "0     11  d209ba7c904b2be73ec5d66322c42f95   \n",
       "0     11  d209ba7c904b2be73ec5d66322c42f95   \n",
       "\n",
       "                                   universe_settings  execution_time  \\\n",
       "0  {\"cutoff\": \"quantile_0.1\", \"eval_fairness_grou...     1120.856431   \n",
       "0  {\"cutoff\": \"quantile_0.1\", \"eval_fairness_grou...     1120.856431   \n",
       "0  {\"cutoff\": \"quantile_0.25\", \"eval_fairness_gro...     1120.856431   \n",
       "0  {\"cutoff\": \"quantile_0.25\", \"eval_fairness_gro...     1120.856431   \n",
       "\n",
       "   test_size_n  test_size_frac  fair_main_equalized_odds_difference  \\\n",
       "0        89710             1.0                             0.107610   \n",
       "0        89710             1.0                             0.107610   \n",
       "0        89710             1.0                             0.252199   \n",
       "0        89710             1.0                             0.252199   \n",
       "\n",
       "   fair_main_equalized_odds_ratio  fair_main_demographic_parity_difference  \\\n",
       "0                        0.889295                                 0.096166   \n",
       "0                        0.889295                                 0.096166   \n",
       "0                        0.726227                                 0.228836   \n",
       "0                        0.726227                                 0.228836   \n",
       "\n",
       "   fair_main_demographic_parity_ratio  ...  perf_grp_precision_0  \\\n",
       "0                            0.901282  ...                   NaN   \n",
       "0                            0.901282  ...              0.117197   \n",
       "0                            0.752993  ...                   NaN   \n",
       "0                            0.752993  ...              0.120290   \n",
       "\n",
       "   perf_grp_precision_1  perf_grp_false positive rate_0  \\\n",
       "0                   NaN                             NaN   \n",
       "0              0.145529                        0.972045   \n",
       "0                   NaN                             NaN   \n",
       "0              0.167720                        0.921197   \n",
       "\n",
       "   perf_grp_false positive rate_1  perf_grp_false negative rate_0  \\\n",
       "0                             NaN                             NaN   \n",
       "0                        0.864434                        0.009713   \n",
       "0                             NaN                             NaN   \n",
       "0                        0.668999                        0.033361   \n",
       "\n",
       "   perf_grp_false negative rate_1  perf_grp_selection rate_0  \\\n",
       "0                             NaN                        NaN   \n",
       "0                        0.033042                   0.974148   \n",
       "0                             NaN                        NaN   \n",
       "0                        0.114551                   0.926436   \n",
       "\n",
       "   perf_grp_selection rate_1  perf_grp_count_0  perf_grp_count_1  \n",
       "0                        NaN               NaN               NaN  \n",
       "0                   0.877982           20540.0           69170.0  \n",
       "0                        NaN               NaN               NaN  \n",
       "0                   0.697600           20540.0           69170.0  \n",
       "\n",
       "[4 rows x 50 columns]"
      ]
     },
     "execution_count": 72,
     "metadata": {},
     "output_type": "execute_result"
    }
   ],
   "source": [
    "final_output = universe_analysis.generate_final_output(\n",
    "    y_pred_prob=probs_test,\n",
    "    y_test=y_true,\n",
    "    org_test=org_test,\n",
    "    filter_data=filter_sub_universe_data,\n",
    "    cp_metrics_df=cp_metrics_df,\n",
    "    save=True,\n",
    ")\n",
    "final_output"
   ]
  },
  {
   "cell_type": "code",
   "execution_count": null,
   "id": "721ff514-cb11-46f8-b6fc-50392f74b5cb",
   "metadata": {
    "papermill": {
     "duration": 0.014412,
     "end_time": "2025-07-28T11:40:08.259726",
     "exception": false,
     "start_time": "2025-07-28T11:40:08.245314",
     "status": "completed"
    },
    "tags": []
   },
   "outputs": [],
   "source": []
  }
 ],
 "metadata": {
  "celltoolbar": "Tags",
  "kernelspec": {
   "display_name": "Python (CMA Fairness)",
   "language": "python",
   "name": "cma_fair_env"
  },
  "language_info": {
   "codemirror_mode": {
    "name": "ipython",
    "version": 3
   },
   "file_extension": ".py",
   "mimetype": "text/x-python",
   "name": "python",
   "nbconvert_exporter": "python",
   "pygments_lexer": "ipython3",
   "version": "3.10.12"
  },
  "papermill": {
   "default_parameters": {},
   "duration": 1129.378001,
   "end_time": "2025-07-28T11:40:08.793266",
   "environment_variables": {},
   "exception": null,
   "input_path": "universe_analysis.ipynb",
   "output_path": "output/runs/11/notebooks/m_11-d209ba7c904b2be73ec5d66322c42f95.ipynb",
   "parameters": {
    "output_dir": "output",
    "run_no": "11",
    "seed": "2023",
    "universe": "{\"cutoff\": [\"quantile_0.1\", \"quantile_0.25\"], \"eval_fairness_grouping\": [\"majority-minority\", \"nationality-all\"], \"exclude_features\": \"age\", \"exclude_subgroups\": \"drop-non-german\", \"model\": \"elasticnet\", \"scale\": \"do-not-scale\", \"training_size\": \"2014\"}",
    "universe_id": "d209ba7c904b2be73ec5d66322c42f95"
   },
   "start_time": "2025-07-28T11:21:19.415265",
   "version": "2.6.0"
  }
 },
 "nbformat": 4,
 "nbformat_minor": 5
}