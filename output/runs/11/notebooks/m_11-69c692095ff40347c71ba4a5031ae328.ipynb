{
 "cells": [
  {
   "cell_type": "code",
   "execution_count": 1,
   "id": "f159f837-637b-42ba-96b5-ec9a68c44524",
   "metadata": {
    "execution": {
     "iopub.execute_input": "2025-07-28T10:43:55.321197Z",
     "iopub.status.busy": "2025-07-28T10:43:55.320628Z",
     "iopub.status.idle": "2025-07-28T10:43:55.336365Z",
     "shell.execute_reply": "2025-07-28T10:43:55.335058Z"
    },
    "papermill": {
     "duration": 0.039142,
     "end_time": "2025-07-28T10:43:55.338484",
     "exception": false,
     "start_time": "2025-07-28T10:43:55.299342",
     "status": "completed"
    },
    "tags": []
   },
   "outputs": [
    {
     "name": "stdout",
     "output_type": "stream",
     "text": [
      "/dss/dsshome1/0C/ra93lal2/cma/CMA_Fairness_v2\n"
     ]
    },
    {
     "name": "stderr",
     "output_type": "stream",
     "text": [
      "/dss/dsshome1/0C/ra93lal2/.local/share/virtualenvs/CMA_Fairness_v2-3j10GkSs/lib/python3.10/site-packages/IPython/core/magics/osm.py:393: UserWarning: This is now an optional IPython functionality, using bookmarks requires you to install the `pickleshare` library.\n",
      "  bkms = self.shell.db.get('bookmarks', {})\n",
      "/dss/dsshome1/0C/ra93lal2/.local/share/virtualenvs/CMA_Fairness_v2-3j10GkSs/lib/python3.10/site-packages/IPython/core/magics/osm.py:417: UserWarning: This is now an optional IPython functionality, setting dhist requires you to install the `pickleshare` library.\n",
      "  self.shell.db['dhist'] = compress_dhist(dhist)[-100:]\n"
     ]
    }
   ],
   "source": [
    "%cd ~/cma/CMA_Fairness_v2"
   ]
  },
  {
   "cell_type": "markdown",
   "id": "de2603b9",
   "metadata": {
    "papermill": {
     "duration": 0.021146,
     "end_time": "2025-07-28T10:43:55.381808",
     "exception": false,
     "start_time": "2025-07-28T10:43:55.360662",
     "status": "completed"
    },
    "tags": []
   },
   "source": [
    "The following cell holds the definition of our parameters, these values can be overriden by rendering the with e.g. the following command:\n",
    "\n",
    "papermill -p alpha 0.2 -p ratio 0.3 universe_analysis.ipynb output/test_run.ipynb"
   ]
  },
  {
   "cell_type": "code",
   "execution_count": 2,
   "id": "a80968a0-40bb-4fa9-85ef-2d5eefb01975",
   "metadata": {
    "execution": {
     "iopub.execute_input": "2025-07-28T10:43:55.432230Z",
     "iopub.status.busy": "2025-07-28T10:43:55.431454Z",
     "iopub.status.idle": "2025-07-28T10:43:55.437878Z",
     "shell.execute_reply": "2025-07-28T10:43:55.436756Z"
    },
    "papermill": {
     "duration": 0.036181,
     "end_time": "2025-07-28T10:43:55.439816",
     "exception": false,
     "start_time": "2025-07-28T10:43:55.403635",
     "status": "completed"
    },
    "tags": []
   },
   "outputs": [
    {
     "name": "stdout",
     "output_type": "stream",
     "text": [
      "Current working directory: /dss/dsshome1/0C/ra93lal2/cma/CMA_Fairness_v2\n"
     ]
    }
   ],
   "source": [
    "import os\n",
    "print(\"Current working directory:\", os.getcwd())"
   ]
  },
  {
   "cell_type": "code",
   "execution_count": 3,
   "id": "2dce4c03",
   "metadata": {
    "execution": {
     "iopub.execute_input": "2025-07-28T10:43:55.489106Z",
     "iopub.status.busy": "2025-07-28T10:43:55.488065Z",
     "iopub.status.idle": "2025-07-28T10:43:55.495171Z",
     "shell.execute_reply": "2025-07-28T10:43:55.494129Z"
    },
    "papermill": {
     "duration": 0.03367,
     "end_time": "2025-07-28T10:43:55.496902",
     "exception": false,
     "start_time": "2025-07-28T10:43:55.463232",
     "status": "completed"
    },
    "tags": [
     "parameters"
    ]
   },
   "outputs": [],
   "source": [
    "run_no = 0\n",
    "universe_id = \"test\"\n",
    "universe = {\n",
    "    \"training_size\": \"2014\", # \"25k\", \"5k\", \"1k\", \"2014\"\n",
    "    \"scale\": \"scale\", # \"scale\", \"do-not-scale\",\n",
    "    #\"stratify_split\": \"target\", # \"none\", \"target\", \"protected-attribute\", \"both\",\n",
    "    \"model\": \"elasticnet\", # \"logreg\", \"penalized_logreg\", \"rf\", \"gbm\", \"elasticnet\"\n",
    "    \"cutoff\": [\"quantile_0.15\", \"quantile_0.30\"],\n",
    "    \"exclude_features\": \"age\", # \"none\", \"nationality\", \"sex\", \"nationality-sex\", \"age\"\n",
    "    \"exclude_subgroups\": \"keep-all\", # \"keep-all\", \"drop-non-german\"\n",
    "    \"eval_fairness_grouping\": [\"majority-minority\", \"nationality-all\"]\n",
    "}\n",
    "\n",
    "output_dir=\"./output\"\n",
    "seed=0"
   ]
  },
  {
   "cell_type": "code",
   "execution_count": 4,
   "id": "04af3b15",
   "metadata": {
    "execution": {
     "iopub.execute_input": "2025-07-28T10:43:55.538667Z",
     "iopub.status.busy": "2025-07-28T10:43:55.537938Z",
     "iopub.status.idle": "2025-07-28T10:43:55.543822Z",
     "shell.execute_reply": "2025-07-28T10:43:55.542683Z"
    },
    "papermill": {
     "duration": 0.028545,
     "end_time": "2025-07-28T10:43:55.545559",
     "exception": false,
     "start_time": "2025-07-28T10:43:55.517014",
     "status": "completed"
    },
    "tags": [
     "injected-parameters"
    ]
   },
   "outputs": [],
   "source": [
    "# Parameters\n",
    "universe_id = \"69c692095ff40347c71ba4a5031ae328\"\n",
    "run_no = \"11\"\n",
    "universe = \"{\\\"cutoff\\\": [\\\"quantile_0.1\\\", \\\"quantile_0.25\\\"], \\\"eval_fairness_grouping\\\": [\\\"majority-minority\\\", \\\"nationality-all\\\"], \\\"exclude_features\\\": \\\"age\\\", \\\"exclude_subgroups\\\": \\\"drop-non-german\\\", \\\"model\\\": \\\"penalized_logreg\\\", \\\"scale\\\": \\\"scale\\\", \\\"training_size\\\": \\\"1k\\\"}\"\n",
    "output_dir = \"output\"\n",
    "seed = \"2023\"\n"
   ]
  },
  {
   "cell_type": "code",
   "execution_count": 5,
   "id": "1650acaf",
   "metadata": {
    "execution": {
     "iopub.execute_input": "2025-07-28T10:43:55.587783Z",
     "iopub.status.busy": "2025-07-28T10:43:55.586891Z",
     "iopub.status.idle": "2025-07-28T10:43:55.592375Z",
     "shell.execute_reply": "2025-07-28T10:43:55.591297Z"
    },
    "papermill": {
     "duration": 0.028605,
     "end_time": "2025-07-28T10:43:55.594117",
     "exception": false,
     "start_time": "2025-07-28T10:43:55.565512",
     "status": "completed"
    },
    "tags": []
   },
   "outputs": [],
   "source": [
    "import json\n",
    "# Parse universe into dict if it is passed as a string\n",
    "if isinstance(universe, str):\n",
    "    universe = json.loads(universe)"
   ]
  },
  {
   "cell_type": "code",
   "execution_count": 6,
   "id": "16620c48",
   "metadata": {
    "execution": {
     "iopub.execute_input": "2025-07-28T10:43:55.637401Z",
     "iopub.status.busy": "2025-07-28T10:43:55.636608Z",
     "iopub.status.idle": "2025-07-28T10:43:55.689222Z",
     "shell.execute_reply": "2025-07-28T10:43:55.688103Z"
    },
    "papermill": {
     "duration": 0.077435,
     "end_time": "2025-07-28T10:43:55.691243",
     "exception": false,
     "start_time": "2025-07-28T10:43:55.613808",
     "status": "completed"
    },
    "tags": []
   },
   "outputs": [],
   "source": [
    "# Auto-reload the custom package\n",
    "%load_ext autoreload\n",
    "%autoreload 1\n",
    "%aimport fairness_multiverse"
   ]
  },
  {
   "cell_type": "code",
   "execution_count": 7,
   "id": "01c5c9f3",
   "metadata": {
    "execution": {
     "iopub.execute_input": "2025-07-28T10:43:55.750804Z",
     "iopub.status.busy": "2025-07-28T10:43:55.749787Z",
     "iopub.status.idle": "2025-07-28T10:43:57.975306Z",
     "shell.execute_reply": "2025-07-28T10:43:57.974103Z"
    },
    "papermill": {
     "duration": 2.249303,
     "end_time": "2025-07-28T10:43:57.977571",
     "exception": false,
     "start_time": "2025-07-28T10:43:55.728268",
     "status": "completed"
    },
    "tags": []
   },
   "outputs": [],
   "source": [
    "from fairness_multiverse.universe import UniverseAnalysis\n",
    "\n",
    "universe_analysis = UniverseAnalysis(\n",
    "    run_no = run_no,\n",
    "    universe_id = universe_id,\n",
    "    universe = universe,\n",
    "    output_dir=output_dir,\n",
    ")"
   ]
  },
  {
   "cell_type": "code",
   "execution_count": 8,
   "id": "106241f5",
   "metadata": {
    "execution": {
     "iopub.execute_input": "2025-07-28T10:43:58.020596Z",
     "iopub.status.busy": "2025-07-28T10:43:58.020092Z",
     "iopub.status.idle": "2025-07-28T10:43:58.026757Z",
     "shell.execute_reply": "2025-07-28T10:43:58.025748Z"
    },
    "papermill": {
     "duration": 0.031132,
     "end_time": "2025-07-28T10:43:58.028605",
     "exception": false,
     "start_time": "2025-07-28T10:43:57.997473",
     "status": "completed"
    },
    "tags": []
   },
   "outputs": [
    {
     "name": "stdout",
     "output_type": "stream",
     "text": [
      "Using Seed: 2023\n"
     ]
    }
   ],
   "source": [
    "import numpy as np\n",
    "parsed_seed = int(seed)\n",
    "np.random.seed(parsed_seed)\n",
    "print(f\"Using Seed: {parsed_seed}\")"
   ]
  },
  {
   "cell_type": "markdown",
   "id": "e0ebdc57",
   "metadata": {
    "papermill": {
     "duration": 0.019704,
     "end_time": "2025-07-28T10:43:58.069268",
     "exception": false,
     "start_time": "2025-07-28T10:43:58.049564",
     "status": "completed"
    },
    "tags": []
   },
   "source": [
    "# Loading Data"
   ]
  },
  {
   "cell_type": "markdown",
   "id": "681925a3",
   "metadata": {
    "papermill": {
     "duration": 0.020894,
     "end_time": "2025-07-28T10:43:58.109894",
     "exception": false,
     "start_time": "2025-07-28T10:43:58.089000",
     "status": "completed"
    },
    "tags": []
   },
   "source": [
    "Load siab_train, siab_test, siab_calib and/or \n",
    "load siab_train_features, siab_train_labels"
   ]
  },
  {
   "cell_type": "code",
   "execution_count": 9,
   "id": "f0496b8a",
   "metadata": {
    "execution": {
     "iopub.execute_input": "2025-07-28T10:43:58.153526Z",
     "iopub.status.busy": "2025-07-28T10:43:58.152555Z",
     "iopub.status.idle": "2025-07-28T10:44:11.237595Z",
     "shell.execute_reply": "2025-07-28T10:44:11.236110Z"
    },
    "papermill": {
     "duration": 13.10932,
     "end_time": "2025-07-28T10:44:11.239564",
     "exception": false,
     "start_time": "2025-07-28T10:43:58.130244",
     "status": "completed"
    },
    "tags": []
   },
   "outputs": [
    {
     "name": "stdout",
     "output_type": "stream",
     "text": [
      "Loading SIAB data from cache: data/siab_cached.csv.gz\n"
     ]
    },
    {
     "name": "stdout",
     "output_type": "stream",
     "text": [
      "(643690, 164)\n"
     ]
    }
   ],
   "source": [
    "from pathlib import Path\n",
    "import pandas as pd\n",
    "\n",
    "# File paths\n",
    "raw_file = Path(\"data/raw/siab.csv\")\n",
    "cache_file = Path(\"data/siab_cached.csv.gz\")\n",
    "\n",
    "# Ensure cache directory exists\n",
    "cache_file.parent.mkdir(parents=True, exist_ok=True)\n",
    "\n",
    "# Load with simple caching\n",
    "if cache_file.exists():\n",
    "    print(f\"Loading SIAB data from cache: {cache_file}\")\n",
    "    siab = pd.read_csv(cache_file, compression='gzip')\n",
    "else:\n",
    "    print(f\"Cache not found. Reading raw SIAB data: {raw_file}\")\n",
    "    siab = pd.read_csv(raw_file)\n",
    "    siab.to_csv(cache_file, index=False, compression='gzip')\n",
    "    print(f\"Cached SIAB data to: {cache_file}\")\n",
    "\n",
    "# Now use `siab` DataFrame as needed\n",
    "print(siab.shape)"
   ]
  },
  {
   "cell_type": "code",
   "execution_count": 10,
   "id": "db0ca512-5f53-4dba-abdb-a2888bca41ba",
   "metadata": {
    "execution": {
     "iopub.execute_input": "2025-07-28T10:44:11.287225Z",
     "iopub.status.busy": "2025-07-28T10:44:11.286557Z",
     "iopub.status.idle": "2025-07-28T10:44:11.293229Z",
     "shell.execute_reply": "2025-07-28T10:44:11.291873Z"
    },
    "papermill": {
     "duration": 0.035878,
     "end_time": "2025-07-28T10:44:11.297864",
     "exception": false,
     "start_time": "2025-07-28T10:44:11.261986",
     "status": "completed"
    },
    "tags": []
   },
   "outputs": [],
   "source": [
    "#siab"
   ]
  },
  {
   "cell_type": "code",
   "execution_count": 11,
   "id": "a0edb063",
   "metadata": {
    "execution": {
     "iopub.execute_input": "2025-07-28T10:44:11.340756Z",
     "iopub.status.busy": "2025-07-28T10:44:11.340213Z",
     "iopub.status.idle": "2025-07-28T10:44:11.346496Z",
     "shell.execute_reply": "2025-07-28T10:44:11.345353Z"
    },
    "papermill": {
     "duration": 0.029436,
     "end_time": "2025-07-28T10:44:11.348536",
     "exception": false,
     "start_time": "2025-07-28T10:44:11.319100",
     "status": "completed"
    },
    "tags": []
   },
   "outputs": [],
   "source": [
    "#import pandas as pd\n",
    "#\n",
    "#X_train = pd.read_csv(\"./data/X_train.csv\")\n",
    "#y_train = pd.read_csv(\"./data/y_train.csv\")"
   ]
  },
  {
   "cell_type": "code",
   "execution_count": 12,
   "id": "63d08085",
   "metadata": {
    "execution": {
     "iopub.execute_input": "2025-07-28T10:44:11.390942Z",
     "iopub.status.busy": "2025-07-28T10:44:11.390184Z",
     "iopub.status.idle": "2025-07-28T10:44:11.396461Z",
     "shell.execute_reply": "2025-07-28T10:44:11.395332Z"
    },
    "papermill": {
     "duration": 0.029552,
     "end_time": "2025-07-28T10:44:11.398306",
     "exception": false,
     "start_time": "2025-07-28T10:44:11.368754",
     "status": "completed"
    },
    "tags": []
   },
   "outputs": [],
   "source": [
    "#X_test = pd.read_csv(\"./data/X_test.csv\")\n",
    "#y_true = pd.read_csv(\"./data/y_test.csv\")"
   ]
  },
  {
   "cell_type": "code",
   "execution_count": 13,
   "id": "98a8d0fa-1d3d-4ed8-bb2c-281470e24add",
   "metadata": {
    "execution": {
     "iopub.execute_input": "2025-07-28T10:44:11.441470Z",
     "iopub.status.busy": "2025-07-28T10:44:11.440761Z",
     "iopub.status.idle": "2025-07-28T10:44:11.447926Z",
     "shell.execute_reply": "2025-07-28T10:44:11.446841Z"
    },
    "papermill": {
     "duration": 0.030894,
     "end_time": "2025-07-28T10:44:11.450004",
     "exception": false,
     "start_time": "2025-07-28T10:44:11.419110",
     "status": "completed"
    },
    "tags": []
   },
   "outputs": [],
   "source": [
    "# Calibration data for conformal\n",
    "#X_calib = pd.read_csv(\"./data/X_calib.csv\")\n",
    "#y_calib = pd.read_csv(\"./data/y_calib.csv\")"
   ]
  },
  {
   "cell_type": "markdown",
   "id": "9901737e-04df-44f0-9100-f5ad144ed040",
   "metadata": {
    "papermill": {
     "duration": 0.019822,
     "end_time": "2025-07-28T10:44:11.490280",
     "exception": false,
     "start_time": "2025-07-28T10:44:11.470458",
     "status": "completed"
    },
    "tags": []
   },
   "source": [
    "# Splitting Data and Setting Training Data Size"
   ]
  },
  {
   "cell_type": "code",
   "execution_count": 14,
   "id": "acbc8f7d-8fc8-4e86-8c59-5dcb0f58384b",
   "metadata": {
    "execution": {
     "iopub.execute_input": "2025-07-28T10:44:11.531960Z",
     "iopub.status.busy": "2025-07-28T10:44:11.531347Z",
     "iopub.status.idle": "2025-07-28T10:44:11.542384Z",
     "shell.execute_reply": "2025-07-28T10:44:11.541144Z"
    },
    "papermill": {
     "duration": 0.034523,
     "end_time": "2025-07-28T10:44:11.544579",
     "exception": false,
     "start_time": "2025-07-28T10:44:11.510056",
     "status": "completed"
    },
    "tags": []
   },
   "outputs": [],
   "source": [
    "def sample_by_year(df, training_size, random_state=42):\n",
    "    if training_size == \"2014\":\n",
    "        return df[df[\"year\"] == 2014].reset_index(drop=True)\n",
    "    \n",
    "    size_map = {\n",
    "        \"25k\": 5000,\n",
    "        \"5k\": 1000,\n",
    "        \"1k\": 200\n",
    "    }\n",
    "\n",
    "    if training_size not in size_map:\n",
    "        return df.reset_index(drop=True)  # use all data\n",
    "\n",
    "    n_per_year = size_map[training_size]\n",
    "    grouped = df.groupby(\"year\")\n",
    "    sampled = grouped.apply(lambda x: x.sample(n=min(n_per_year, len(x)), random_state=random_state))\n",
    "    return sampled.reset_index(drop=True)"
   ]
  },
  {
   "cell_type": "code",
   "execution_count": 15,
   "id": "6d931f52-beaf-43ff-9e78-9d44a448d54e",
   "metadata": {
    "execution": {
     "iopub.execute_input": "2025-07-28T10:44:11.586517Z",
     "iopub.status.busy": "2025-07-28T10:44:11.585832Z",
     "iopub.status.idle": "2025-07-28T10:44:12.553751Z",
     "shell.execute_reply": "2025-07-28T10:44:12.552972Z"
    },
    "papermill": {
     "duration": 0.990796,
     "end_time": "2025-07-28T10:44:12.555532",
     "exception": false,
     "start_time": "2025-07-28T10:44:11.564736",
     "status": "completed"
    },
    "tags": []
   },
   "outputs": [],
   "source": [
    "siab_s = sample_by_year(siab, universe[\"training_size\"])"
   ]
  },
  {
   "cell_type": "code",
   "execution_count": 16,
   "id": "5db0a40e-a4e2-4920-be85-b12ae061d70d",
   "metadata": {
    "execution": {
     "iopub.execute_input": "2025-07-28T10:44:12.596868Z",
     "iopub.status.busy": "2025-07-28T10:44:12.596151Z",
     "iopub.status.idle": "2025-07-28T10:44:12.607827Z",
     "shell.execute_reply": "2025-07-28T10:44:12.607145Z"
    },
    "papermill": {
     "duration": 0.038171,
     "end_time": "2025-07-28T10:44:12.613924",
     "exception": false,
     "start_time": "2025-07-28T10:44:12.575753",
     "status": "completed"
    },
    "tags": []
   },
   "outputs": [
    {
     "data": {
      "text/plain": [
       "year\n",
       "2010    200\n",
       "2011    200\n",
       "2012    200\n",
       "2013    200\n",
       "2014    200\n",
       "2015    200\n",
       "2016    200\n",
       "dtype: int64"
      ]
     },
     "metadata": {},
     "output_type": "display_data"
    }
   ],
   "source": [
    "display(siab_s.groupby(\"year\").size())"
   ]
  },
  {
   "cell_type": "code",
   "execution_count": 17,
   "id": "a561edb4-d032-42cb-8256-22eac1111c64",
   "metadata": {
    "execution": {
     "iopub.execute_input": "2025-07-28T10:44:12.637850Z",
     "iopub.status.busy": "2025-07-28T10:44:12.637527Z",
     "iopub.status.idle": "2025-07-28T10:44:12.934429Z",
     "shell.execute_reply": "2025-07-28T10:44:12.933194Z"
    },
    "papermill": {
     "duration": 0.310601,
     "end_time": "2025-07-28T10:44:12.936427",
     "exception": false,
     "start_time": "2025-07-28T10:44:12.625826",
     "status": "completed"
    },
    "tags": []
   },
   "outputs": [],
   "source": [
    "siab_train = siab_s[siab_s.year < 2015]\n",
    "siab_calib = siab[siab.year == 2015]\n",
    "siab_test = siab[siab.year == 2016]"
   ]
  },
  {
   "cell_type": "code",
   "execution_count": 18,
   "id": "472de16f-c3db-4916-846b-1f0de9cf1746",
   "metadata": {
    "execution": {
     "iopub.execute_input": "2025-07-28T10:44:12.980611Z",
     "iopub.status.busy": "2025-07-28T10:44:12.980101Z",
     "iopub.status.idle": "2025-07-28T10:44:12.987415Z",
     "shell.execute_reply": "2025-07-28T10:44:12.986493Z"
    },
    "papermill": {
     "duration": 0.030388,
     "end_time": "2025-07-28T10:44:12.989456",
     "exception": false,
     "start_time": "2025-07-28T10:44:12.959068",
     "status": "completed"
    },
    "tags": []
   },
   "outputs": [],
   "source": [
    "X_train = siab_train.iloc[:,4:164]\n",
    "y_train = siab_train.iloc[:, [3]]"
   ]
  },
  {
   "cell_type": "code",
   "execution_count": 19,
   "id": "828c96af-f43a-4ed6-ba47-8ac73a47d56c",
   "metadata": {
    "execution": {
     "iopub.execute_input": "2025-07-28T10:44:13.017806Z",
     "iopub.status.busy": "2025-07-28T10:44:13.017396Z",
     "iopub.status.idle": "2025-07-28T10:44:13.067265Z",
     "shell.execute_reply": "2025-07-28T10:44:13.066488Z"
    },
    "papermill": {
     "duration": 0.063373,
     "end_time": "2025-07-28T10:44:13.068761",
     "exception": false,
     "start_time": "2025-07-28T10:44:13.005388",
     "status": "completed"
    },
    "tags": []
   },
   "outputs": [],
   "source": [
    "X_calib = siab_calib.iloc[:,4:164]\n",
    "y_calib = siab_calib.iloc[:, [3]]"
   ]
  },
  {
   "cell_type": "code",
   "execution_count": 20,
   "id": "c34be9c3-6bd6-476e-acd3-845840e303be",
   "metadata": {
    "execution": {
     "iopub.execute_input": "2025-07-28T10:44:13.092864Z",
     "iopub.status.busy": "2025-07-28T10:44:13.092443Z",
     "iopub.status.idle": "2025-07-28T10:44:13.145799Z",
     "shell.execute_reply": "2025-07-28T10:44:13.145044Z"
    },
    "papermill": {
     "duration": 0.067735,
     "end_time": "2025-07-28T10:44:13.148498",
     "exception": false,
     "start_time": "2025-07-28T10:44:13.080763",
     "status": "completed"
    },
    "tags": []
   },
   "outputs": [],
   "source": [
    "X_test = siab_test.iloc[:,4:164]\n",
    "y_true = siab_test.iloc[:, [3]]"
   ]
  },
  {
   "cell_type": "code",
   "execution_count": 21,
   "id": "e6c733c5",
   "metadata": {
    "execution": {
     "iopub.execute_input": "2025-07-28T10:44:13.191073Z",
     "iopub.status.busy": "2025-07-28T10:44:13.190616Z",
     "iopub.status.idle": "2025-07-28T10:44:13.286881Z",
     "shell.execute_reply": "2025-07-28T10:44:13.285817Z"
    },
    "papermill": {
     "duration": 0.119517,
     "end_time": "2025-07-28T10:44:13.289130",
     "exception": false,
     "start_time": "2025-07-28T10:44:13.169613",
     "status": "completed"
    },
    "tags": []
   },
   "outputs": [],
   "source": [
    "# Auxiliary data needed downstream in the pipeline\n",
    "\n",
    "org_train = X_train.copy()\n",
    "org_test = X_test.copy()\n",
    "org_calib = X_calib.copy()"
   ]
  },
  {
   "cell_type": "markdown",
   "id": "0a4a1b33",
   "metadata": {
    "papermill": {
     "duration": 0.020344,
     "end_time": "2025-07-28T10:44:13.334374",
     "exception": false,
     "start_time": "2025-07-28T10:44:13.314030",
     "status": "completed"
    },
    "tags": []
   },
   "source": [
    "# Preprocessing Data"
   ]
  },
  {
   "cell_type": "code",
   "execution_count": 22,
   "id": "ca879031",
   "metadata": {
    "execution": {
     "iopub.execute_input": "2025-07-28T10:44:13.381542Z",
     "iopub.status.busy": "2025-07-28T10:44:13.380802Z",
     "iopub.status.idle": "2025-07-28T10:44:13.387942Z",
     "shell.execute_reply": "2025-07-28T10:44:13.386454Z"
    },
    "papermill": {
     "duration": 0.0339,
     "end_time": "2025-07-28T10:44:13.389782",
     "exception": false,
     "start_time": "2025-07-28T10:44:13.355882",
     "status": "completed"
    },
    "tags": []
   },
   "outputs": [],
   "source": [
    "# EXCLUDE PROTECTED FEATURES\n",
    "# ----------------------\n",
    "# \"exclude_features\": \"none\", # \"nationality\", \"sex\", \"nationality-sex\"\n",
    "\n",
    "excluded_features = universe[\"exclude_features\"].split(\"-\") # split, e.g.: \"nationality-sex\" -> [\"nationality\", \"sex\"]\n",
    "excluded_features_dictionary = {\n",
    "    \"nationality\": [\"maxdeutsch1\", \"maxdeutsch.Missing.\"],\n",
    "    \"sex\": [\"frau1\"],\n",
    "    \"age\": [\"age\"],\n",
    "}\n"
   ]
  },
  {
   "cell_type": "code",
   "execution_count": 23,
   "id": "b745ac60",
   "metadata": {
    "execution": {
     "iopub.execute_input": "2025-07-28T10:44:13.416589Z",
     "iopub.status.busy": "2025-07-28T10:44:13.415916Z",
     "iopub.status.idle": "2025-07-28T10:44:13.421053Z",
     "shell.execute_reply": "2025-07-28T10:44:13.420359Z"
    },
    "papermill": {
     "duration": 0.020741,
     "end_time": "2025-07-28T10:44:13.422533",
     "exception": false,
     "start_time": "2025-07-28T10:44:13.401792",
     "status": "completed"
    },
    "tags": []
   },
   "outputs": [],
   "source": [
    "# Code nice names to column names\n",
    "\n",
    "excluded_features_columns = [\n",
    "    excluded_features_dictionary[f] for f in excluded_features if len(f) > 0 and f != \"none\"\n",
    "]"
   ]
  },
  {
   "cell_type": "code",
   "execution_count": 24,
   "id": "f84f73a2",
   "metadata": {
    "execution": {
     "iopub.execute_input": "2025-07-28T10:44:13.456854Z",
     "iopub.status.busy": "2025-07-28T10:44:13.456287Z",
     "iopub.status.idle": "2025-07-28T10:44:13.463289Z",
     "shell.execute_reply": "2025-07-28T10:44:13.462245Z"
    },
    "papermill": {
     "duration": 0.030425,
     "end_time": "2025-07-28T10:44:13.464945",
     "exception": false,
     "start_time": "2025-07-28T10:44:13.434520",
     "status": "completed"
    },
    "tags": []
   },
   "outputs": [],
   "source": [
    "from utils import flatten_once\n",
    "\n",
    "excluded_features_columns = flatten_once(excluded_features_columns)"
   ]
  },
  {
   "cell_type": "code",
   "execution_count": 25,
   "id": "884dea22",
   "metadata": {
    "execution": {
     "iopub.execute_input": "2025-07-28T10:44:13.510388Z",
     "iopub.status.busy": "2025-07-28T10:44:13.509893Z",
     "iopub.status.idle": "2025-07-28T10:44:13.521143Z",
     "shell.execute_reply": "2025-07-28T10:44:13.519988Z"
    },
    "papermill": {
     "duration": 0.037166,
     "end_time": "2025-07-28T10:44:13.522809",
     "exception": false,
     "start_time": "2025-07-28T10:44:13.485643",
     "status": "completed"
    },
    "tags": []
   },
   "outputs": [
    {
     "name": "stdout",
     "output_type": "stream",
     "text": [
      "Dropping features: ['age']\n"
     ]
    }
   ],
   "source": [
    "if len(excluded_features_columns) > 0:\n",
    "    print(f\"Dropping features: {excluded_features_columns}\")\n",
    "    X_train.drop(excluded_features_columns, axis=1, inplace=True)"
   ]
  },
  {
   "cell_type": "code",
   "execution_count": 26,
   "id": "95ab8b16",
   "metadata": {
    "execution": {
     "iopub.execute_input": "2025-07-28T10:44:13.548455Z",
     "iopub.status.busy": "2025-07-28T10:44:13.547952Z",
     "iopub.status.idle": "2025-07-28T10:44:13.605484Z",
     "shell.execute_reply": "2025-07-28T10:44:13.604640Z"
    },
    "papermill": {
     "duration": 0.07121,
     "end_time": "2025-07-28T10:44:13.606828",
     "exception": false,
     "start_time": "2025-07-28T10:44:13.535618",
     "status": "completed"
    },
    "tags": []
   },
   "outputs": [
    {
     "name": "stdout",
     "output_type": "stream",
     "text": [
      "Dropping features: ['age']\n"
     ]
    }
   ],
   "source": [
    "if len(excluded_features_columns) > 0:\n",
    "    print(f\"Dropping features: {excluded_features_columns}\")\n",
    "    X_test.drop(excluded_features_columns, axis=1, inplace=True)"
   ]
  },
  {
   "cell_type": "code",
   "execution_count": 27,
   "id": "1853aaf5-fb9f-46cb-a2b5-8ea4ae2237e4",
   "metadata": {
    "execution": {
     "iopub.execute_input": "2025-07-28T10:44:13.649925Z",
     "iopub.status.busy": "2025-07-28T10:44:13.649442Z",
     "iopub.status.idle": "2025-07-28T10:44:13.702646Z",
     "shell.execute_reply": "2025-07-28T10:44:13.701854Z"
    },
    "papermill": {
     "duration": 0.081332,
     "end_time": "2025-07-28T10:44:13.704537",
     "exception": false,
     "start_time": "2025-07-28T10:44:13.623205",
     "status": "completed"
    },
    "tags": []
   },
   "outputs": [
    {
     "name": "stdout",
     "output_type": "stream",
     "text": [
      "Dropping features: ['age']\n"
     ]
    }
   ],
   "source": [
    "if len(excluded_features_columns) > 0:\n",
    "    print(f\"Dropping features: {excluded_features_columns}\")\n",
    "    X_calib.drop(excluded_features_columns, axis=1, inplace=True)"
   ]
  },
  {
   "cell_type": "code",
   "execution_count": 28,
   "id": "6727d079-03e5-481e-9d38-292a90b7a0a8",
   "metadata": {
    "execution": {
     "iopub.execute_input": "2025-07-28T10:44:13.749480Z",
     "iopub.status.busy": "2025-07-28T10:44:13.747577Z",
     "iopub.status.idle": "2025-07-28T10:44:13.754004Z",
     "shell.execute_reply": "2025-07-28T10:44:13.752921Z"
    },
    "papermill": {
     "duration": 0.025977,
     "end_time": "2025-07-28T10:44:13.755687",
     "exception": false,
     "start_time": "2025-07-28T10:44:13.729710",
     "status": "completed"
    },
    "tags": []
   },
   "outputs": [],
   "source": [
    "# SPLIT & STRATIFY DATA\n",
    "# ----------------------"
   ]
  },
  {
   "cell_type": "code",
   "execution_count": 29,
   "id": "76c4dc6d",
   "metadata": {
    "execution": {
     "iopub.execute_input": "2025-07-28T10:44:13.802329Z",
     "iopub.status.busy": "2025-07-28T10:44:13.801715Z",
     "iopub.status.idle": "2025-07-28T10:44:13.807671Z",
     "shell.execute_reply": "2025-07-28T10:44:13.806602Z"
    },
    "papermill": {
     "duration": 0.030544,
     "end_time": "2025-07-28T10:44:13.809513",
     "exception": false,
     "start_time": "2025-07-28T10:44:13.778969",
     "status": "completed"
    },
    "tags": []
   },
   "outputs": [],
   "source": [
    "# EXCLUDE CERTAIN SUBGROUPS\n",
    "# ----------------------\n",
    "\n",
    "mode = universe.get(\"exclude_subgroups\", \"keep-all\") \n",
    "# Fetches the exclude_subgroups setting from the universe dict.\n",
    "# Defaults to \"keep-all\" if the key is missing."
   ]
  },
  {
   "cell_type": "code",
   "execution_count": 30,
   "id": "21994072",
   "metadata": {
    "execution": {
     "iopub.execute_input": "2025-07-28T10:44:13.869416Z",
     "iopub.status.busy": "2025-07-28T10:44:13.868882Z",
     "iopub.status.idle": "2025-07-28T10:44:13.876040Z",
     "shell.execute_reply": "2025-07-28T10:44:13.874913Z"
    },
    "papermill": {
     "duration": 0.045541,
     "end_time": "2025-07-28T10:44:13.878190",
     "exception": false,
     "start_time": "2025-07-28T10:44:13.832649",
     "status": "completed"
    },
    "tags": []
   },
   "outputs": [],
   "source": [
    "if mode == \"keep-all\":\n",
    "    keep_mask = pd.Series(True, index=org_train.index)\n",
    "\n",
    "# org_train contains the original feature columns from features_org (in Simson)\n",
    "# features_org contains unprocessed features, for me X_train at beginning ???\n",
    "# For keep-all, creates a boolean Series (keep_mask) of all True, so no rows are removed.\n",
    "\n",
    "elif mode == \"drop-non-german\":\n",
    "    keep_mask = org_train[\"maxdeutsch1\"] == 1 # ??? what about missing values?\n",
    "\n",
    "else:\n",
    "    raise ValueError(f\"Unsupported mode for exclude_subgroups: {mode}\")\n"
   ]
  },
  {
   "cell_type": "code",
   "execution_count": 31,
   "id": "71651440",
   "metadata": {
    "execution": {
     "iopub.execute_input": "2025-07-28T10:44:13.926919Z",
     "iopub.status.busy": "2025-07-28T10:44:13.925982Z",
     "iopub.status.idle": "2025-07-28T10:44:13.934112Z",
     "shell.execute_reply": "2025-07-28T10:44:13.933110Z"
    },
    "papermill": {
     "duration": 0.034311,
     "end_time": "2025-07-28T10:44:13.935905",
     "exception": false,
     "start_time": "2025-07-28T10:44:13.901594",
     "status": "completed"
    },
    "tags": []
   },
   "outputs": [
    {
     "name": "stdout",
     "output_type": "stream",
     "text": [
      "Dropping 131 rows (13.10%) where mode='drop-non-german'\n"
     ]
    }
   ],
   "source": [
    "n_drop = (~keep_mask).sum() # Calculates how many rows are set to be dropped\n",
    "if n_drop > 0:\n",
    "    pct = n_drop / len(keep_mask) * 100\n",
    "    print(f\"Dropping {n_drop} rows ({pct:.2f}%) where mode='{mode}'\")"
   ]
  },
  {
   "cell_type": "code",
   "execution_count": 32,
   "id": "5fb8eee5",
   "metadata": {
    "execution": {
     "iopub.execute_input": "2025-07-28T10:44:13.984214Z",
     "iopub.status.busy": "2025-07-28T10:44:13.983392Z",
     "iopub.status.idle": "2025-07-28T10:44:13.990782Z",
     "shell.execute_reply": "2025-07-28T10:44:13.989644Z"
    },
    "papermill": {
     "duration": 0.034336,
     "end_time": "2025-07-28T10:44:13.993067",
     "exception": false,
     "start_time": "2025-07-28T10:44:13.958731",
     "status": "completed"
    },
    "tags": []
   },
   "outputs": [],
   "source": [
    "X_train = X_train[keep_mask]"
   ]
  },
  {
   "cell_type": "code",
   "execution_count": 33,
   "id": "b202bb3a",
   "metadata": {
    "execution": {
     "iopub.execute_input": "2025-07-28T10:44:14.040749Z",
     "iopub.status.busy": "2025-07-28T10:44:14.040183Z",
     "iopub.status.idle": "2025-07-28T10:44:14.046841Z",
     "shell.execute_reply": "2025-07-28T10:44:14.045780Z"
    },
    "papermill": {
     "duration": 0.032593,
     "end_time": "2025-07-28T10:44:14.048885",
     "exception": false,
     "start_time": "2025-07-28T10:44:14.016292",
     "status": "completed"
    },
    "tags": []
   },
   "outputs": [],
   "source": [
    "y_train = y_train[keep_mask]"
   ]
  },
  {
   "cell_type": "markdown",
   "id": "493e2ac3",
   "metadata": {
    "papermill": {
     "duration": 0.024559,
     "end_time": "2025-07-28T10:44:14.098970",
     "exception": false,
     "start_time": "2025-07-28T10:44:14.074411",
     "status": "completed"
    },
    "tags": []
   },
   "source": [
    "# Model Training"
   ]
  },
  {
   "cell_type": "code",
   "execution_count": 34,
   "id": "679e1268",
   "metadata": {
    "execution": {
     "iopub.execute_input": "2025-07-28T10:44:14.150035Z",
     "iopub.status.busy": "2025-07-28T10:44:14.149449Z",
     "iopub.status.idle": "2025-07-28T10:44:14.269066Z",
     "shell.execute_reply": "2025-07-28T10:44:14.267735Z"
    },
    "papermill": {
     "duration": 0.147676,
     "end_time": "2025-07-28T10:44:14.271410",
     "exception": false,
     "start_time": "2025-07-28T10:44:14.123734",
     "status": "completed"
    },
    "tags": []
   },
   "outputs": [],
   "source": [
    "from sklearn.linear_model import LogisticRegression\n",
    "from sklearn.ensemble import GradientBoostingClassifier, RandomForestClassifier\n",
    "\n",
    "if (universe[\"model\"] == \"logreg\"):\n",
    "    model = LogisticRegression() #penalty=\"none\") #, solver=\"newton-cg\", max_iter=1) # include random_state=19 ?\n",
    "elif (universe[\"model\"] == \"penalized_logreg\"):\n",
    "    model = LogisticRegression(penalty=\"l2\", C=1.0) #, solver=\"newton-cg\", max_iter=1)\n",
    "elif (universe[\"model\"] == \"rf\"):\n",
    "    model = RandomForestClassifier(n_estimators=100, n_jobs=-1)\n",
    "elif (universe[\"model\"] == \"gbm\"):\n",
    "    model = GradientBoostingClassifier()\n",
    "elif (universe[\"model\"] == \"elasticnet\"):\n",
    "    model = LogisticRegression(penalty = 'elasticnet', solver = 'saga', l1_ratio = 0.5, max_iter=5000) # which solver to use?\n",
    "else:\n",
    "    raise \"Unsupported universe.model\""
   ]
  },
  {
   "cell_type": "code",
   "execution_count": 35,
   "id": "0cc8f744",
   "metadata": {
    "execution": {
     "iopub.execute_input": "2025-07-28T10:44:14.323689Z",
     "iopub.status.busy": "2025-07-28T10:44:14.323164Z",
     "iopub.status.idle": "2025-07-28T10:44:14.329620Z",
     "shell.execute_reply": "2025-07-28T10:44:14.328733Z"
    },
    "papermill": {
     "duration": 0.033793,
     "end_time": "2025-07-28T10:44:14.331329",
     "exception": false,
     "start_time": "2025-07-28T10:44:14.297536",
     "status": "completed"
    },
    "tags": []
   },
   "outputs": [],
   "source": [
    "import numpy as np\n",
    "from sklearn.pipeline import Pipeline\n",
    "from sklearn.preprocessing import StandardScaler\n",
    "\n",
    "model = Pipeline([\n",
    "    #(\"continuous_processor\", continuous_processor),\n",
    "    #(\"categorical_preprocessor\", categorical_preprocessor),\n",
    "    (\"scale\", StandardScaler() if universe[\"scale\"] == \"scale\" else None), \n",
    "    (\"model\", model),\n",
    "])"
   ]
  },
  {
   "cell_type": "code",
   "execution_count": 36,
   "id": "9442c04d",
   "metadata": {
    "execution": {
     "iopub.execute_input": "2025-07-28T10:44:14.369699Z",
     "iopub.status.busy": "2025-07-28T10:44:14.369270Z",
     "iopub.status.idle": "2025-07-28T10:44:14.428997Z",
     "shell.execute_reply": "2025-07-28T10:44:14.427817Z"
    },
    "papermill": {
     "duration": 0.082335,
     "end_time": "2025-07-28T10:44:14.430419",
     "exception": false,
     "start_time": "2025-07-28T10:44:14.348084",
     "status": "completed"
    },
    "tags": []
   },
   "outputs": [
    {
     "name": "stderr",
     "output_type": "stream",
     "text": [
      "/dss/dsshome1/0C/ra93lal2/.local/share/virtualenvs/CMA_Fairness_v2-3j10GkSs/lib/python3.10/site-packages/sklearn/linear_model/_logistic.py:444: ConvergenceWarning: lbfgs failed to converge (status=1):\n",
      "STOP: TOTAL NO. of ITERATIONS REACHED LIMIT.\n",
      "\n",
      "Increase the number of iterations (max_iter) or scale the data as shown in:\n",
      "    https://scikit-learn.org/stable/modules/preprocessing.html\n",
      "Please also refer to the documentation for alternative solver options:\n",
      "    https://scikit-learn.org/stable/modules/linear_model.html#logistic-regression\n",
      "  n_iter_i = _check_optimize_result(\n"
     ]
    },
    {
     "data": {
      "text/html": [
       "<style>#sk-container-id-1 {color: black;background-color: white;}#sk-container-id-1 pre{padding: 0;}#sk-container-id-1 div.sk-toggleable {background-color: white;}#sk-container-id-1 label.sk-toggleable__label {cursor: pointer;display: block;width: 100%;margin-bottom: 0;padding: 0.3em;box-sizing: border-box;text-align: center;}#sk-container-id-1 label.sk-toggleable__label-arrow:before {content: \"▸\";float: left;margin-right: 0.25em;color: #696969;}#sk-container-id-1 label.sk-toggleable__label-arrow:hover:before {color: black;}#sk-container-id-1 div.sk-estimator:hover label.sk-toggleable__label-arrow:before {color: black;}#sk-container-id-1 div.sk-toggleable__content {max-height: 0;max-width: 0;overflow: hidden;text-align: left;background-color: #f0f8ff;}#sk-container-id-1 div.sk-toggleable__content pre {margin: 0.2em;color: black;border-radius: 0.25em;background-color: #f0f8ff;}#sk-container-id-1 input.sk-toggleable__control:checked~div.sk-toggleable__content {max-height: 200px;max-width: 100%;overflow: auto;}#sk-container-id-1 input.sk-toggleable__control:checked~label.sk-toggleable__label-arrow:before {content: \"▾\";}#sk-container-id-1 div.sk-estimator input.sk-toggleable__control:checked~label.sk-toggleable__label {background-color: #d4ebff;}#sk-container-id-1 div.sk-label input.sk-toggleable__control:checked~label.sk-toggleable__label {background-color: #d4ebff;}#sk-container-id-1 input.sk-hidden--visually {border: 0;clip: rect(1px 1px 1px 1px);clip: rect(1px, 1px, 1px, 1px);height: 1px;margin: -1px;overflow: hidden;padding: 0;position: absolute;width: 1px;}#sk-container-id-1 div.sk-estimator {font-family: monospace;background-color: #f0f8ff;border: 1px dotted black;border-radius: 0.25em;box-sizing: border-box;margin-bottom: 0.5em;}#sk-container-id-1 div.sk-estimator:hover {background-color: #d4ebff;}#sk-container-id-1 div.sk-parallel-item::after {content: \"\";width: 100%;border-bottom: 1px solid gray;flex-grow: 1;}#sk-container-id-1 div.sk-label:hover label.sk-toggleable__label {background-color: #d4ebff;}#sk-container-id-1 div.sk-serial::before {content: \"\";position: absolute;border-left: 1px solid gray;box-sizing: border-box;top: 0;bottom: 0;left: 50%;z-index: 0;}#sk-container-id-1 div.sk-serial {display: flex;flex-direction: column;align-items: center;background-color: white;padding-right: 0.2em;padding-left: 0.2em;position: relative;}#sk-container-id-1 div.sk-item {position: relative;z-index: 1;}#sk-container-id-1 div.sk-parallel {display: flex;align-items: stretch;justify-content: center;background-color: white;position: relative;}#sk-container-id-1 div.sk-item::before, #sk-container-id-1 div.sk-parallel-item::before {content: \"\";position: absolute;border-left: 1px solid gray;box-sizing: border-box;top: 0;bottom: 0;left: 50%;z-index: -1;}#sk-container-id-1 div.sk-parallel-item {display: flex;flex-direction: column;z-index: 1;position: relative;background-color: white;}#sk-container-id-1 div.sk-parallel-item:first-child::after {align-self: flex-end;width: 50%;}#sk-container-id-1 div.sk-parallel-item:last-child::after {align-self: flex-start;width: 50%;}#sk-container-id-1 div.sk-parallel-item:only-child::after {width: 0;}#sk-container-id-1 div.sk-dashed-wrapped {border: 1px dashed gray;margin: 0 0.4em 0.5em 0.4em;box-sizing: border-box;padding-bottom: 0.4em;background-color: white;}#sk-container-id-1 div.sk-label label {font-family: monospace;font-weight: bold;display: inline-block;line-height: 1.2em;}#sk-container-id-1 div.sk-label-container {text-align: center;}#sk-container-id-1 div.sk-container {/* jupyter's `normalize.less` sets `[hidden] { display: none; }` but bootstrap.min.css set `[hidden] { display: none !important; }` so we also need the `!important` here to be able to override the default hidden behavior on the sphinx rendered scikit-learn.org. See: https://github.com/scikit-learn/scikit-learn/issues/21755 */display: inline-block !important;position: relative;}#sk-container-id-1 div.sk-text-repr-fallback {display: none;}</style><div id=\"sk-container-id-1\" class=\"sk-top-container\"><div class=\"sk-text-repr-fallback\"><pre>Pipeline(steps=[(&#x27;scale&#x27;, StandardScaler()), (&#x27;model&#x27;, LogisticRegression())])</pre><b>In a Jupyter environment, please rerun this cell to show the HTML representation or trust the notebook. <br />On GitHub, the HTML representation is unable to render, please try loading this page with nbviewer.org.</b></div><div class=\"sk-container\" hidden><div class=\"sk-item sk-dashed-wrapped\"><div class=\"sk-label-container\"><div class=\"sk-label sk-toggleable\"><input class=\"sk-toggleable__control sk-hidden--visually\" id=\"sk-estimator-id-1\" type=\"checkbox\" ><label for=\"sk-estimator-id-1\" class=\"sk-toggleable__label sk-toggleable__label-arrow\">Pipeline</label><div class=\"sk-toggleable__content\"><pre>Pipeline(steps=[(&#x27;scale&#x27;, StandardScaler()), (&#x27;model&#x27;, LogisticRegression())])</pre></div></div></div><div class=\"sk-serial\"><div class=\"sk-item\"><div class=\"sk-estimator sk-toggleable\"><input class=\"sk-toggleable__control sk-hidden--visually\" id=\"sk-estimator-id-2\" type=\"checkbox\" ><label for=\"sk-estimator-id-2\" class=\"sk-toggleable__label sk-toggleable__label-arrow\">StandardScaler</label><div class=\"sk-toggleable__content\"><pre>StandardScaler()</pre></div></div></div><div class=\"sk-item\"><div class=\"sk-estimator sk-toggleable\"><input class=\"sk-toggleable__control sk-hidden--visually\" id=\"sk-estimator-id-3\" type=\"checkbox\" ><label for=\"sk-estimator-id-3\" class=\"sk-toggleable__label sk-toggleable__label-arrow\">LogisticRegression</label><div class=\"sk-toggleable__content\"><pre>LogisticRegression()</pre></div></div></div></div></div></div></div>"
      ],
      "text/plain": [
       "Pipeline(steps=[('scale', StandardScaler()), ('model', LogisticRegression())])"
      ]
     },
     "execution_count": 36,
     "metadata": {},
     "output_type": "execute_result"
    }
   ],
   "source": [
    "model.fit(X_train, y_train.values.ravel())"
   ]
  },
  {
   "cell_type": "code",
   "execution_count": 37,
   "id": "af59f8c0",
   "metadata": {
    "execution": {
     "iopub.execute_input": "2025-07-28T10:44:14.456182Z",
     "iopub.status.busy": "2025-07-28T10:44:14.455453Z",
     "iopub.status.idle": "2025-07-28T10:44:14.460022Z",
     "shell.execute_reply": "2025-07-28T10:44:14.459207Z"
    },
    "papermill": {
     "duration": 0.018611,
     "end_time": "2025-07-28T10:44:14.461471",
     "exception": false,
     "start_time": "2025-07-28T10:44:14.442860",
     "status": "completed"
    },
    "tags": []
   },
   "outputs": [],
   "source": [
    "from fairness_multiverse.universe import predict_w_threshold"
   ]
  },
  {
   "cell_type": "code",
   "execution_count": 38,
   "id": "a7cf2e16",
   "metadata": {
    "execution": {
     "iopub.execute_input": "2025-07-28T10:44:14.490930Z",
     "iopub.status.busy": "2025-07-28T10:44:14.490322Z",
     "iopub.status.idle": "2025-07-28T10:44:14.759622Z",
     "shell.execute_reply": "2025-07-28T10:44:14.758462Z"
    },
    "papermill": {
     "duration": 0.287649,
     "end_time": "2025-07-28T10:44:14.761672",
     "exception": false,
     "start_time": "2025-07-28T10:44:14.474023",
     "status": "completed"
    },
    "tags": []
   },
   "outputs": [
    {
     "data": {
      "text/plain": [
       "0.8197971240664363"
      ]
     },
     "execution_count": 38,
     "metadata": {},
     "output_type": "execute_result"
    }
   ],
   "source": [
    "probs_test = model.predict_proba(X_test)\n",
    "\n",
    "'''\n",
    "Below code returns a boolean array (or binary 0/1 array depending on how it’s used) where each element \n",
    "is True if the probability of class 1 is greater than or equal to the threshold, and False otherwise.\n",
    "'''\n",
    "y_pred_default = predict_w_threshold(probs_test, 0.5)\n",
    "\n",
    "from sklearn.metrics import accuracy_score\n",
    "\n",
    "# Naive prediction\n",
    "accuracy_score(y_true = y_true, y_pred = y_pred_default)"
   ]
  },
  {
   "cell_type": "code",
   "execution_count": 39,
   "id": "081964c3",
   "metadata": {
    "execution": {
     "iopub.execute_input": "2025-07-28T10:44:14.817261Z",
     "iopub.status.busy": "2025-07-28T10:44:14.816764Z",
     "iopub.status.idle": "2025-07-28T10:44:15.181280Z",
     "shell.execute_reply": "2025-07-28T10:44:15.180102Z"
    },
    "papermill": {
     "duration": 0.395009,
     "end_time": "2025-07-28T10:44:15.183856",
     "exception": false,
     "start_time": "2025-07-28T10:44:14.788847",
     "status": "completed"
    },
    "tags": []
   },
   "outputs": [
    {
     "data": {
      "text/plain": [
       "array([0, 0, 0, ..., 0, 0, 0])"
      ]
     },
     "execution_count": 39,
     "metadata": {},
     "output_type": "execute_result"
    }
   ],
   "source": [
    "model.predict(X_test)"
   ]
  },
  {
   "cell_type": "markdown",
   "id": "56c9705b",
   "metadata": {
    "papermill": {
     "duration": 0.043363,
     "end_time": "2025-07-28T10:44:15.251590",
     "exception": false,
     "start_time": "2025-07-28T10:44:15.208227",
     "status": "completed"
    },
    "tags": []
   },
   "source": [
    "# Conformal Prediction"
   ]
  },
  {
   "cell_type": "code",
   "execution_count": 40,
   "id": "160ec6ff",
   "metadata": {
    "execution": {
     "iopub.execute_input": "2025-07-28T10:44:15.307687Z",
     "iopub.status.busy": "2025-07-28T10:44:15.307298Z",
     "iopub.status.idle": "2025-07-28T10:44:15.312820Z",
     "shell.execute_reply": "2025-07-28T10:44:15.311799Z"
    },
    "papermill": {
     "duration": 0.03142,
     "end_time": "2025-07-28T10:44:15.315890",
     "exception": false,
     "start_time": "2025-07-28T10:44:15.284470",
     "status": "completed"
    },
    "tags": []
   },
   "outputs": [],
   "source": [
    "# Miscoverage level for conformal prediction (10% allowed error rate => 90% target coverage)\n",
    "alpha = 0.1"
   ]
  },
  {
   "cell_type": "code",
   "execution_count": 41,
   "id": "eadf4555-3dd3-440e-8e35-f82a4ad9f855",
   "metadata": {
    "execution": {
     "iopub.execute_input": "2025-07-28T10:44:15.365604Z",
     "iopub.status.busy": "2025-07-28T10:44:15.365121Z",
     "iopub.status.idle": "2025-07-28T10:44:15.557235Z",
     "shell.execute_reply": "2025-07-28T10:44:15.556192Z"
    },
    "papermill": {
     "duration": 0.218817,
     "end_time": "2025-07-28T10:44:15.559575",
     "exception": false,
     "start_time": "2025-07-28T10:44:15.340758",
     "status": "completed"
    },
    "tags": []
   },
   "outputs": [],
   "source": [
    "probs_calib = model.predict_proba(X_calib)"
   ]
  },
  {
   "cell_type": "code",
   "execution_count": 42,
   "id": "2ed93547-6d5d-4983-9b36-1ecb300da49a",
   "metadata": {
    "execution": {
     "iopub.execute_input": "2025-07-28T10:44:15.609303Z",
     "iopub.status.busy": "2025-07-28T10:44:15.608601Z",
     "iopub.status.idle": "2025-07-28T10:44:15.614851Z",
     "shell.execute_reply": "2025-07-28T10:44:15.613356Z"
    },
    "papermill": {
     "duration": 0.033524,
     "end_time": "2025-07-28T10:44:15.616505",
     "exception": false,
     "start_time": "2025-07-28T10:44:15.582981",
     "status": "completed"
    },
    "tags": []
   },
   "outputs": [],
   "source": [
    "y_calib = y_calib.values.ravel().astype(int)"
   ]
  },
  {
   "cell_type": "code",
   "execution_count": 43,
   "id": "65d1320d-f588-4b38-9072-62af1ae97f7d",
   "metadata": {
    "execution": {
     "iopub.execute_input": "2025-07-28T10:44:15.673378Z",
     "iopub.status.busy": "2025-07-28T10:44:15.672368Z",
     "iopub.status.idle": "2025-07-28T10:44:15.682122Z",
     "shell.execute_reply": "2025-07-28T10:44:15.681072Z"
    },
    "papermill": {
     "duration": 0.039481,
     "end_time": "2025-07-28T10:44:15.684356",
     "exception": false,
     "start_time": "2025-07-28T10:44:15.644875",
     "status": "completed"
    },
    "tags": []
   },
   "outputs": [],
   "source": [
    "from fairness_multiverse.conformal import compute_nc_scores\n",
    "\n",
    "# Compute nonconformity scores on calibration set (1 - probability of true class)\n",
    "nc_scores = compute_nc_scores(probs_calib, y_calib)"
   ]
  },
  {
   "cell_type": "code",
   "execution_count": 44,
   "id": "df3b8ca3-53b7-43d5-9667-7c85da7aeda2",
   "metadata": {
    "execution": {
     "iopub.execute_input": "2025-07-28T10:44:15.719258Z",
     "iopub.status.busy": "2025-07-28T10:44:15.718399Z",
     "iopub.status.idle": "2025-07-28T10:44:15.745583Z",
     "shell.execute_reply": "2025-07-28T10:44:15.744324Z"
    },
    "papermill": {
     "duration": 0.049708,
     "end_time": "2025-07-28T10:44:15.747950",
     "exception": false,
     "start_time": "2025-07-28T10:44:15.698242",
     "status": "completed"
    },
    "tags": []
   },
   "outputs": [],
   "source": [
    "from fairness_multiverse.conformal import find_threshold\n",
    "\n",
    "# Find conformal threshold q_hat for the given alpha (split conformal method)\n",
    "q_hat = find_threshold(nc_scores, alpha)"
   ]
  },
  {
   "cell_type": "code",
   "execution_count": 45,
   "id": "4d29e6c1-0ef6-4aa4-b8fe-4fe79b0d033a",
   "metadata": {
    "execution": {
     "iopub.execute_input": "2025-07-28T10:44:15.780781Z",
     "iopub.status.busy": "2025-07-28T10:44:15.780423Z",
     "iopub.status.idle": "2025-07-28T10:44:15.787085Z",
     "shell.execute_reply": "2025-07-28T10:44:15.786295Z"
    },
    "papermill": {
     "duration": 0.02261,
     "end_time": "2025-07-28T10:44:15.788495",
     "exception": false,
     "start_time": "2025-07-28T10:44:15.765885",
     "status": "completed"
    },
    "tags": []
   },
   "outputs": [
    {
     "data": {
      "text/plain": [
       "0.7903110860439891"
      ]
     },
     "execution_count": 45,
     "metadata": {},
     "output_type": "execute_result"
    }
   ],
   "source": [
    "q_hat"
   ]
  },
  {
   "cell_type": "code",
   "execution_count": 46,
   "id": "92460794-cdac-4be2-ba28-f28c0515a6fb",
   "metadata": {
    "execution": {
     "iopub.execute_input": "2025-07-28T10:44:15.816661Z",
     "iopub.status.busy": "2025-07-28T10:44:15.816104Z",
     "iopub.status.idle": "2025-07-28T10:44:16.901567Z",
     "shell.execute_reply": "2025-07-28T10:44:16.900310Z"
    },
    "papermill": {
     "duration": 1.101958,
     "end_time": "2025-07-28T10:44:16.904211",
     "exception": false,
     "start_time": "2025-07-28T10:44:15.802253",
     "status": "completed"
    },
    "tags": []
   },
   "outputs": [],
   "source": [
    "from fairness_multiverse.conformal import predict_conformal_sets\n",
    "\n",
    "# Generate prediction sets for each test example\n",
    "pred_sets = predict_conformal_sets(model, X_test, q_hat)"
   ]
  },
  {
   "cell_type": "code",
   "execution_count": 47,
   "id": "d90c9a65-e6db-4f5d-80cd-e68fb7e46829",
   "metadata": {
    "execution": {
     "iopub.execute_input": "2025-07-28T10:44:16.957048Z",
     "iopub.status.busy": "2025-07-28T10:44:16.956630Z",
     "iopub.status.idle": "2025-07-28T10:44:16.962265Z",
     "shell.execute_reply": "2025-07-28T10:44:16.961300Z"
    },
    "papermill": {
     "duration": 0.044114,
     "end_time": "2025-07-28T10:44:16.976902",
     "exception": false,
     "start_time": "2025-07-28T10:44:16.932788",
     "status": "completed"
    },
    "tags": []
   },
   "outputs": [],
   "source": [
    "y_true = y_true.squeeze()"
   ]
  },
  {
   "cell_type": "code",
   "execution_count": 48,
   "id": "3a58a54a-1e68-46b9-927a-df01f18aebc8",
   "metadata": {
    "execution": {
     "iopub.execute_input": "2025-07-28T10:44:17.022931Z",
     "iopub.status.busy": "2025-07-28T10:44:17.022458Z",
     "iopub.status.idle": "2025-07-28T10:44:18.111038Z",
     "shell.execute_reply": "2025-07-28T10:44:18.109823Z"
    },
    "papermill": {
     "duration": 1.113948,
     "end_time": "2025-07-28T10:44:18.113017",
     "exception": false,
     "start_time": "2025-07-28T10:44:16.999069",
     "status": "completed"
    },
    "tags": []
   },
   "outputs": [],
   "source": [
    "from fairness_multiverse.conformal import evaluate_sets\n",
    "\n",
    "# Evaluate coverage and average set size on test data\n",
    "metrics = evaluate_sets(pred_sets, y_true)"
   ]
  },
  {
   "cell_type": "markdown",
   "id": "2b569c12-9aaa-4c88-98c9-bbcd0cf3ebb8",
   "metadata": {
    "papermill": {
     "duration": 0.063258,
     "end_time": "2025-07-28T10:44:18.235882",
     "exception": false,
     "start_time": "2025-07-28T10:44:18.172624",
     "status": "completed"
    },
    "tags": []
   },
   "source": [
    "# CP Metrics"
   ]
  },
  {
   "cell_type": "code",
   "execution_count": 49,
   "id": "5ce0a5cb-201f-45a0-ade5-94c7f0bd6095",
   "metadata": {
    "execution": {
     "iopub.execute_input": "2025-07-28T10:44:18.294953Z",
     "iopub.status.busy": "2025-07-28T10:44:18.294515Z",
     "iopub.status.idle": "2025-07-28T10:44:18.301971Z",
     "shell.execute_reply": "2025-07-28T10:44:18.300951Z"
    },
    "papermill": {
     "duration": 0.036638,
     "end_time": "2025-07-28T10:44:18.306554",
     "exception": false,
     "start_time": "2025-07-28T10:44:18.269916",
     "status": "completed"
    },
    "tags": []
   },
   "outputs": [
    {
     "data": {
      "text/plain": [
       "{'coverage': 0.9088953293947163, 'avg_size': 1.237409430386802}"
      ]
     },
     "execution_count": 49,
     "metadata": {},
     "output_type": "execute_result"
    }
   ],
   "source": [
    "metrics"
   ]
  },
  {
   "cell_type": "code",
   "execution_count": 50,
   "id": "9b9a838d-31c9-430b-ae14-12baee460d17",
   "metadata": {
    "execution": {
     "iopub.execute_input": "2025-07-28T10:44:18.355574Z",
     "iopub.status.busy": "2025-07-28T10:44:18.355160Z",
     "iopub.status.idle": "2025-07-28T10:44:18.362025Z",
     "shell.execute_reply": "2025-07-28T10:44:18.361072Z"
    },
    "papermill": {
     "duration": 0.033114,
     "end_time": "2025-07-28T10:44:18.363603",
     "exception": false,
     "start_time": "2025-07-28T10:44:18.330489",
     "status": "completed"
    },
    "tags": []
   },
   "outputs": [],
   "source": [
    "example_universe = universe.copy()\n",
    "universe_training_size = example_universe.get(\"training_size\")\n",
    "universe_scale = example_universe.get(\"scale\")\n",
    "universe_model = example_universe.get(\"model\")\n",
    "universe_exclude_features = example_universe.get(\"exclude_features\")\n",
    "universe_exclude_subgroups = example_universe.get(\"exclude_subgroups\")"
   ]
  },
  {
   "cell_type": "code",
   "execution_count": 51,
   "id": "f4b6a8ac-9dc0-4245-8a91-5b3b5999c4f9",
   "metadata": {
    "execution": {
     "iopub.execute_input": "2025-07-28T10:44:18.413596Z",
     "iopub.status.busy": "2025-07-28T10:44:18.413208Z",
     "iopub.status.idle": "2025-07-28T10:44:18.420095Z",
     "shell.execute_reply": "2025-07-28T10:44:18.419167Z"
    },
    "papermill": {
     "duration": 0.035647,
     "end_time": "2025-07-28T10:44:18.423201",
     "exception": false,
     "start_time": "2025-07-28T10:44:18.387554",
     "status": "completed"
    },
    "tags": []
   },
   "outputs": [],
   "source": [
    "cp_metrics_dict = {\n",
    "    \"universe_id\": [universe_id],\n",
    "    \"universe_training_size\": [universe_training_size],\n",
    "    \"universe_scale\": [universe_scale],\n",
    "    \"universe_model\": [universe_model],\n",
    "    \"universe_exclude_features\": [universe_exclude_features],\n",
    "    \"universe_exclude_subgroups\": [universe_exclude_subgroups],\n",
    "    \"q_hat\": [q_hat],\n",
    "    \"coverage\": [metrics[\"coverage\"]],\n",
    "    \"avg_size\": [metrics[\"avg_size\"]],\n",
    "}"
   ]
  },
  {
   "cell_type": "code",
   "execution_count": 52,
   "id": "908acbb1-0371-4915-85ca-3fa520d2efe2",
   "metadata": {
    "execution": {
     "iopub.execute_input": "2025-07-28T10:44:18.472980Z",
     "iopub.status.busy": "2025-07-28T10:44:18.472471Z",
     "iopub.status.idle": "2025-07-28T10:44:18.480560Z",
     "shell.execute_reply": "2025-07-28T10:44:18.479566Z"
    },
    "papermill": {
     "duration": 0.035221,
     "end_time": "2025-07-28T10:44:18.482601",
     "exception": false,
     "start_time": "2025-07-28T10:44:18.447380",
     "status": "completed"
    },
    "tags": []
   },
   "outputs": [
    {
     "data": {
      "text/plain": [
       "{'universe_id': ['69c692095ff40347c71ba4a5031ae328'],\n",
       " 'universe_training_size': ['1k'],\n",
       " 'universe_scale': ['scale'],\n",
       " 'universe_model': ['penalized_logreg'],\n",
       " 'universe_exclude_features': ['age'],\n",
       " 'universe_exclude_subgroups': ['drop-non-german'],\n",
       " 'q_hat': [0.7903110860439891],\n",
       " 'coverage': [0.9088953293947163],\n",
       " 'avg_size': [1.237409430386802]}"
      ]
     },
     "execution_count": 52,
     "metadata": {},
     "output_type": "execute_result"
    }
   ],
   "source": [
    "cp_metrics_dict"
   ]
  },
  {
   "cell_type": "code",
   "execution_count": 53,
   "id": "33007efc-14e9-4ec6-97ac-56a455c82265",
   "metadata": {
    "execution": {
     "iopub.execute_input": "2025-07-28T10:44:18.535189Z",
     "iopub.status.busy": "2025-07-28T10:44:18.534767Z",
     "iopub.status.idle": "2025-07-28T10:44:18.541947Z",
     "shell.execute_reply": "2025-07-28T10:44:18.540919Z"
    },
    "papermill": {
     "duration": 0.044807,
     "end_time": "2025-07-28T10:44:18.552942",
     "exception": false,
     "start_time": "2025-07-28T10:44:18.508135",
     "status": "completed"
    },
    "tags": []
   },
   "outputs": [],
   "source": [
    "cp_metrics_df = pd.DataFrame(cp_metrics_dict)"
   ]
  },
  {
   "cell_type": "code",
   "execution_count": 54,
   "id": "db12611b-57b2-4910-b9d0-355adfd6e7bf",
   "metadata": {
    "execution": {
     "iopub.execute_input": "2025-07-28T10:44:18.647828Z",
     "iopub.status.busy": "2025-07-28T10:44:18.647438Z",
     "iopub.status.idle": "2025-07-28T10:44:18.668696Z",
     "shell.execute_reply": "2025-07-28T10:44:18.667854Z"
    },
    "papermill": {
     "duration": 0.063655,
     "end_time": "2025-07-28T10:44:18.670100",
     "exception": false,
     "start_time": "2025-07-28T10:44:18.606445",
     "status": "completed"
    },
    "tags": []
   },
   "outputs": [
    {
     "data": {
      "text/html": [
       "<div>\n",
       "<style scoped>\n",
       "    .dataframe tbody tr th:only-of-type {\n",
       "        vertical-align: middle;\n",
       "    }\n",
       "\n",
       "    .dataframe tbody tr th {\n",
       "        vertical-align: top;\n",
       "    }\n",
       "\n",
       "    .dataframe thead th {\n",
       "        text-align: right;\n",
       "    }\n",
       "</style>\n",
       "<table border=\"1\" class=\"dataframe\">\n",
       "  <thead>\n",
       "    <tr style=\"text-align: right;\">\n",
       "      <th></th>\n",
       "      <th>universe_id</th>\n",
       "      <th>universe_training_size</th>\n",
       "      <th>universe_scale</th>\n",
       "      <th>universe_model</th>\n",
       "      <th>universe_exclude_features</th>\n",
       "      <th>universe_exclude_subgroups</th>\n",
       "      <th>q_hat</th>\n",
       "      <th>coverage</th>\n",
       "      <th>avg_size</th>\n",
       "    </tr>\n",
       "  </thead>\n",
       "  <tbody>\n",
       "    <tr>\n",
       "      <th>0</th>\n",
       "      <td>69c692095ff40347c71ba4a5031ae328</td>\n",
       "      <td>1k</td>\n",
       "      <td>scale</td>\n",
       "      <td>penalized_logreg</td>\n",
       "      <td>age</td>\n",
       "      <td>drop-non-german</td>\n",
       "      <td>0.790311</td>\n",
       "      <td>0.908895</td>\n",
       "      <td>1.237409</td>\n",
       "    </tr>\n",
       "  </tbody>\n",
       "</table>\n",
       "</div>"
      ],
      "text/plain": [
       "                        universe_id universe_training_size universe_scale  \\\n",
       "0  69c692095ff40347c71ba4a5031ae328                     1k          scale   \n",
       "\n",
       "     universe_model universe_exclude_features universe_exclude_subgroups  \\\n",
       "0  penalized_logreg                       age            drop-non-german   \n",
       "\n",
       "      q_hat  coverage  avg_size  \n",
       "0  0.790311  0.908895  1.237409  "
      ]
     },
     "execution_count": 54,
     "metadata": {},
     "output_type": "execute_result"
    }
   ],
   "source": [
    "cp_metrics_df"
   ]
  },
  {
   "cell_type": "code",
   "execution_count": 55,
   "id": "b7fbde55-a0a1-47e4-9af6-fe4a17fa8c61",
   "metadata": {
    "execution": {
     "iopub.execute_input": "2025-07-28T10:44:18.723431Z",
     "iopub.status.busy": "2025-07-28T10:44:18.722903Z",
     "iopub.status.idle": "2025-07-28T10:44:18.728596Z",
     "shell.execute_reply": "2025-07-28T10:44:18.727537Z"
    },
    "papermill": {
     "duration": 0.032483,
     "end_time": "2025-07-28T10:44:18.730290",
     "exception": false,
     "start_time": "2025-07-28T10:44:18.697807",
     "status": "completed"
    },
    "tags": []
   },
   "outputs": [],
   "source": [
    "# Conditional Coverage & looking at subgroups"
   ]
  },
  {
   "cell_type": "code",
   "execution_count": 56,
   "id": "027ae886-68dd-4141-96c7-805a5450e1ef",
   "metadata": {
    "execution": {
     "iopub.execute_input": "2025-07-28T10:44:18.781351Z",
     "iopub.status.busy": "2025-07-28T10:44:18.780591Z",
     "iopub.status.idle": "2025-07-28T10:44:19.084864Z",
     "shell.execute_reply": "2025-07-28T10:44:19.083729Z"
    },
    "papermill": {
     "duration": 0.332209,
     "end_time": "2025-07-28T10:44:19.087000",
     "exception": false,
     "start_time": "2025-07-28T10:44:18.754791",
     "status": "completed"
    },
    "tags": []
   },
   "outputs": [],
   "source": [
    "from fairness_multiverse.conformal import build_cp_groups\n",
    "\n",
    "cp_groups_df = build_cp_groups(pred_sets, y_true, X_test.index, org_test)\n",
    "#needs universe_id and setting"
   ]
  },
  {
   "cell_type": "code",
   "execution_count": 57,
   "id": "01d5802c-663a-4d1f-9d69-e036faaffbf7",
   "metadata": {
    "execution": {
     "iopub.execute_input": "2025-07-28T10:44:19.143604Z",
     "iopub.status.busy": "2025-07-28T10:44:19.143139Z",
     "iopub.status.idle": "2025-07-28T10:44:19.149658Z",
     "shell.execute_reply": "2025-07-28T10:44:19.148584Z"
    },
    "papermill": {
     "duration": 0.03729,
     "end_time": "2025-07-28T10:44:19.151612",
     "exception": false,
     "start_time": "2025-07-28T10:44:19.114322",
     "status": "completed"
    },
    "tags": []
   },
   "outputs": [],
   "source": [
    "#delete\n",
    "#cp_groups_df"
   ]
  },
  {
   "cell_type": "code",
   "execution_count": 58,
   "id": "fa424af1-d1eb-443d-b717-2d279ada8408",
   "metadata": {
    "execution": {
     "iopub.execute_input": "2025-07-28T10:44:19.210381Z",
     "iopub.status.busy": "2025-07-28T10:44:19.209396Z",
     "iopub.status.idle": "2025-07-28T10:44:19.215041Z",
     "shell.execute_reply": "2025-07-28T10:44:19.214014Z"
    },
    "papermill": {
     "duration": 0.037104,
     "end_time": "2025-07-28T10:44:19.217115",
     "exception": false,
     "start_time": "2025-07-28T10:44:19.180011",
     "status": "completed"
    },
    "tags": []
   },
   "outputs": [],
   "source": [
    "#delete\n",
    "#percentage = (cp_groups_df['nongerman_female'] == 1).mean() * 100\n",
    "#print(percentage)\n"
   ]
  },
  {
   "cell_type": "code",
   "execution_count": 59,
   "id": "6cbdab96-b2b2-45af-ad54-d0516db2e28d",
   "metadata": {
    "execution": {
     "iopub.execute_input": "2025-07-28T10:44:19.255784Z",
     "iopub.status.busy": "2025-07-28T10:44:19.255248Z",
     "iopub.status.idle": "2025-07-28T10:44:20.904171Z",
     "shell.execute_reply": "2025-07-28T10:44:20.902983Z"
    },
    "papermill": {
     "duration": 1.665699,
     "end_time": "2025-07-28T10:44:20.906054",
     "exception": false,
     "start_time": "2025-07-28T10:44:19.240355",
     "status": "completed"
    },
    "tags": []
   },
   "outputs": [],
   "source": [
    "# Define covered = 1 if true_label is in the predicted set\n",
    "cp_groups_df['covered'] = cp_groups_df.apply(\n",
    "    lambda r: int(r['true_label'] in r['pred_set']),\n",
    "    axis=1\n",
    ")"
   ]
  },
  {
   "cell_type": "code",
   "execution_count": 60,
   "id": "338ff529-1a6b-4b87-a931-8e4788d52aad",
   "metadata": {
    "execution": {
     "iopub.execute_input": "2025-07-28T10:44:20.961632Z",
     "iopub.status.busy": "2025-07-28T10:44:20.961063Z",
     "iopub.status.idle": "2025-07-28T10:44:20.966168Z",
     "shell.execute_reply": "2025-07-28T10:44:20.965194Z"
    },
    "papermill": {
     "duration": 0.034132,
     "end_time": "2025-07-28T10:44:20.967836",
     "exception": false,
     "start_time": "2025-07-28T10:44:20.933704",
     "status": "completed"
    },
    "tags": []
   },
   "outputs": [],
   "source": [
    "#cp_groups_df"
   ]
  },
  {
   "cell_type": "code",
   "execution_count": 61,
   "id": "90032e27-66df-4540-9169-4e89cfbaa758",
   "metadata": {
    "execution": {
     "iopub.execute_input": "2025-07-28T10:44:21.018220Z",
     "iopub.status.busy": "2025-07-28T10:44:21.017783Z",
     "iopub.status.idle": "2025-07-28T10:44:21.028062Z",
     "shell.execute_reply": "2025-07-28T10:44:21.026773Z"
    },
    "papermill": {
     "duration": 0.034236,
     "end_time": "2025-07-28T10:44:21.030240",
     "exception": false,
     "start_time": "2025-07-28T10:44:20.996004",
     "status": "completed"
    },
    "tags": []
   },
   "outputs": [],
   "source": [
    "subgroups = ['frau1','nongerman','nongerman_male','nongerman_female']\n",
    "\n",
    "# Conditional coverage for subgroup==1\n",
    "cond_coverage = {\n",
    "    g: cp_groups_df.loc[cp_groups_df[g]==1, 'covered'].mean()\n",
    "    for g in subgroups\n",
    "}"
   ]
  },
  {
   "cell_type": "code",
   "execution_count": 62,
   "id": "1e348fb1-b9c3-45bc-ba23-f016827a7e0d",
   "metadata": {
    "execution": {
     "iopub.execute_input": "2025-07-28T10:44:21.088431Z",
     "iopub.status.busy": "2025-07-28T10:44:21.087891Z",
     "iopub.status.idle": "2025-07-28T10:44:21.095300Z",
     "shell.execute_reply": "2025-07-28T10:44:21.094343Z"
    },
    "papermill": {
     "duration": 0.039057,
     "end_time": "2025-07-28T10:44:21.097127",
     "exception": false,
     "start_time": "2025-07-28T10:44:21.058070",
     "status": "completed"
    },
    "tags": []
   },
   "outputs": [
    {
     "data": {
      "text/plain": [
       "{'frau1': 0.9083164847014422,\n",
       " 'nongerman': 0.9094481558412395,\n",
       " 'nongerman_male': 0.9245249031793209,\n",
       " 'nongerman_female': 0.8845007451564829}"
      ]
     },
     "execution_count": 62,
     "metadata": {},
     "output_type": "execute_result"
    }
   ],
   "source": [
    "cond_coverage"
   ]
  },
  {
   "cell_type": "code",
   "execution_count": 63,
   "id": "f5093324-c3dd-4d63-bc4c-8d945e5c8bbb",
   "metadata": {
    "execution": {
     "iopub.execute_input": "2025-07-28T10:44:21.148932Z",
     "iopub.status.busy": "2025-07-28T10:44:21.148416Z",
     "iopub.status.idle": "2025-07-28T10:44:21.156795Z",
     "shell.execute_reply": "2025-07-28T10:44:21.155762Z"
    },
    "papermill": {
     "duration": 0.036485,
     "end_time": "2025-07-28T10:44:21.158765",
     "exception": false,
     "start_time": "2025-07-28T10:44:21.122280",
     "status": "completed"
    },
    "tags": []
   },
   "outputs": [],
   "source": [
    "for subgroup, cov in cond_coverage.items():\n",
    "    cp_metrics_df[f\"cov_{subgroup}\"] = cov"
   ]
  },
  {
   "cell_type": "code",
   "execution_count": 64,
   "id": "6e872e10-dbe5-49e8-b554-5030c98ff75d",
   "metadata": {
    "execution": {
     "iopub.execute_input": "2025-07-28T10:44:21.212946Z",
     "iopub.status.busy": "2025-07-28T10:44:21.212074Z",
     "iopub.status.idle": "2025-07-28T10:44:21.232344Z",
     "shell.execute_reply": "2025-07-28T10:44:21.231311Z"
    },
    "papermill": {
     "duration": 0.047108,
     "end_time": "2025-07-28T10:44:21.233927",
     "exception": false,
     "start_time": "2025-07-28T10:44:21.186819",
     "status": "completed"
    },
    "tags": []
   },
   "outputs": [
    {
     "data": {
      "text/html": [
       "<div>\n",
       "<style scoped>\n",
       "    .dataframe tbody tr th:only-of-type {\n",
       "        vertical-align: middle;\n",
       "    }\n",
       "\n",
       "    .dataframe tbody tr th {\n",
       "        vertical-align: top;\n",
       "    }\n",
       "\n",
       "    .dataframe thead th {\n",
       "        text-align: right;\n",
       "    }\n",
       "</style>\n",
       "<table border=\"1\" class=\"dataframe\">\n",
       "  <thead>\n",
       "    <tr style=\"text-align: right;\">\n",
       "      <th></th>\n",
       "      <th>universe_id</th>\n",
       "      <th>universe_training_size</th>\n",
       "      <th>universe_scale</th>\n",
       "      <th>universe_model</th>\n",
       "      <th>universe_exclude_features</th>\n",
       "      <th>universe_exclude_subgroups</th>\n",
       "      <th>q_hat</th>\n",
       "      <th>coverage</th>\n",
       "      <th>avg_size</th>\n",
       "      <th>cov_frau1</th>\n",
       "      <th>cov_nongerman</th>\n",
       "      <th>cov_nongerman_male</th>\n",
       "      <th>cov_nongerman_female</th>\n",
       "    </tr>\n",
       "  </thead>\n",
       "  <tbody>\n",
       "    <tr>\n",
       "      <th>0</th>\n",
       "      <td>69c692095ff40347c71ba4a5031ae328</td>\n",
       "      <td>1k</td>\n",
       "      <td>scale</td>\n",
       "      <td>penalized_logreg</td>\n",
       "      <td>age</td>\n",
       "      <td>drop-non-german</td>\n",
       "      <td>0.790311</td>\n",
       "      <td>0.908895</td>\n",
       "      <td>1.237409</td>\n",
       "      <td>0.908316</td>\n",
       "      <td>0.909448</td>\n",
       "      <td>0.924525</td>\n",
       "      <td>0.884501</td>\n",
       "    </tr>\n",
       "  </tbody>\n",
       "</table>\n",
       "</div>"
      ],
      "text/plain": [
       "                        universe_id universe_training_size universe_scale  \\\n",
       "0  69c692095ff40347c71ba4a5031ae328                     1k          scale   \n",
       "\n",
       "     universe_model universe_exclude_features universe_exclude_subgroups  \\\n",
       "0  penalized_logreg                       age            drop-non-german   \n",
       "\n",
       "      q_hat  coverage  avg_size  cov_frau1  cov_nongerman  cov_nongerman_male  \\\n",
       "0  0.790311  0.908895  1.237409   0.908316       0.909448            0.924525   \n",
       "\n",
       "   cov_nongerman_female  \n",
       "0              0.884501  "
      ]
     },
     "execution_count": 64,
     "metadata": {},
     "output_type": "execute_result"
    }
   ],
   "source": [
    "cp_metrics_df"
   ]
  },
  {
   "cell_type": "markdown",
   "id": "33774451",
   "metadata": {
    "papermill": {
     "duration": 0.024978,
     "end_time": "2025-07-28T10:44:21.284768",
     "exception": false,
     "start_time": "2025-07-28T10:44:21.259790",
     "status": "completed"
    },
    "tags": []
   },
   "source": [
    "# (Fairness) Metrics"
   ]
  },
  {
   "cell_type": "code",
   "execution_count": 65,
   "id": "debc5d62",
   "metadata": {
    "execution": {
     "iopub.execute_input": "2025-07-28T10:44:21.394577Z",
     "iopub.status.busy": "2025-07-28T10:44:21.394001Z",
     "iopub.status.idle": "2025-07-28T10:44:21.416479Z",
     "shell.execute_reply": "2025-07-28T10:44:21.415355Z"
    },
    "papermill": {
     "duration": 0.10872,
     "end_time": "2025-07-28T10:44:21.418701",
     "exception": false,
     "start_time": "2025-07-28T10:44:21.309981",
     "status": "completed"
    },
    "tags": []
   },
   "outputs": [],
   "source": [
    "# do I need to include maxdeutsch1.missing?\n",
    "\n",
    "import numpy as np\n",
    "\n",
    "colname_to_bin = \"maxdeutsch1\"\n",
    "majority_value = org_train[colname_to_bin].mode()[0]\n",
    "\n",
    "org_test[\"majmin\"] = np.where(org_test[colname_to_bin] == majority_value, \"majority\", \"minority\")"
   ]
  },
  {
   "cell_type": "code",
   "execution_count": 66,
   "id": "06a50de5",
   "metadata": {
    "execution": {
     "iopub.execute_input": "2025-07-28T10:44:21.474075Z",
     "iopub.status.busy": "2025-07-28T10:44:21.473336Z",
     "iopub.status.idle": "2025-07-28T10:44:24.188907Z",
     "shell.execute_reply": "2025-07-28T10:44:24.187896Z"
    },
    "papermill": {
     "duration": 2.74513,
     "end_time": "2025-07-28T10:44:24.191031",
     "exception": false,
     "start_time": "2025-07-28T10:44:21.445901",
     "status": "completed"
    },
    "tags": []
   },
   "outputs": [],
   "source": [
    "example_universe = universe.copy()\n",
    "example_universe[\"cutoff\"] = example_universe[\"cutoff\"][0]\n",
    "example_universe[\"eval_fairness_grouping\"] = example_universe[\"eval_fairness_grouping\"][0]\n",
    "fairness_dict, metric_frame = universe_analysis.compute_metrics(\n",
    "    example_universe,\n",
    "    y_pred_prob=probs_test,\n",
    "    y_test=y_true,\n",
    "    org_test=org_test,\n",
    ")"
   ]
  },
  {
   "cell_type": "markdown",
   "id": "f95d4e02",
   "metadata": {
    "papermill": {
     "duration": 0.025495,
     "end_time": "2025-07-28T10:44:24.244683",
     "exception": false,
     "start_time": "2025-07-28T10:44:24.219188",
     "status": "completed"
    },
    "tags": []
   },
   "source": [
    "# Overall"
   ]
  },
  {
   "cell_type": "markdown",
   "id": "bdee4871",
   "metadata": {
    "papermill": {
     "duration": 0.027803,
     "end_time": "2025-07-28T10:44:24.298233",
     "exception": false,
     "start_time": "2025-07-28T10:44:24.270430",
     "status": "completed"
    },
    "tags": []
   },
   "source": [
    "Fairness\n",
    "Main fairness target: Equalized Odds. Seems to be a better fit than equal opportunity, since we're not only interested in Y = 1. Seems to be a better fit than demographic parity, since we also care about accuracy, not just equal distribution of preds.\n",
    "\n",
    "Pick column for computation of fairness metrics\n",
    "\n",
    "Performance\n",
    "Overall performance measures, most interesting in relation to the measures split by group below"
   ]
  },
  {
   "cell_type": "code",
   "execution_count": 67,
   "id": "c4e067c6",
   "metadata": {
    "execution": {
     "iopub.execute_input": "2025-07-28T10:44:24.357876Z",
     "iopub.status.busy": "2025-07-28T10:44:24.357139Z",
     "iopub.status.idle": "2025-07-28T10:44:24.366152Z",
     "shell.execute_reply": "2025-07-28T10:44:24.365148Z"
    },
    "papermill": {
     "duration": 0.051471,
     "end_time": "2025-07-28T10:44:24.375495",
     "exception": false,
     "start_time": "2025-07-28T10:44:24.324024",
     "status": "completed"
    },
    "tags": []
   },
   "outputs": [
    {
     "data": {
      "text/plain": [
       "accuracy                   0.217824\n",
       "balanced accuracy          0.533982\n",
       "f1                         0.239336\n",
       "precision                  0.136725\n",
       "false positive rate        0.891282\n",
       "false negative rate        0.040754\n",
       "selection rate             0.900000\n",
       "count                  89710.000000\n",
       "dtype: float64"
      ]
     },
     "execution_count": 67,
     "metadata": {},
     "output_type": "execute_result"
    }
   ],
   "source": [
    "metric_frame.overall"
   ]
  },
  {
   "cell_type": "markdown",
   "id": "e968fe9d",
   "metadata": {
    "papermill": {
     "duration": 0.027232,
     "end_time": "2025-07-28T10:44:24.445846",
     "exception": false,
     "start_time": "2025-07-28T10:44:24.418614",
     "status": "completed"
    },
    "tags": []
   },
   "source": [
    "By Group"
   ]
  },
  {
   "cell_type": "code",
   "execution_count": 68,
   "id": "ec325bce",
   "metadata": {
    "execution": {
     "iopub.execute_input": "2025-07-28T10:44:24.502686Z",
     "iopub.status.busy": "2025-07-28T10:44:24.502164Z",
     "iopub.status.idle": "2025-07-28T10:44:24.534030Z",
     "shell.execute_reply": "2025-07-28T10:44:24.532970Z"
    },
    "papermill": {
     "duration": 0.064581,
     "end_time": "2025-07-28T10:44:24.536136",
     "exception": false,
     "start_time": "2025-07-28T10:44:24.471555",
     "status": "completed"
    },
    "tags": []
   },
   "outputs": [
    {
     "data": {
      "text/html": [
       "<div>\n",
       "<style scoped>\n",
       "    .dataframe tbody tr th:only-of-type {\n",
       "        vertical-align: middle;\n",
       "    }\n",
       "\n",
       "    .dataframe tbody tr th {\n",
       "        vertical-align: top;\n",
       "    }\n",
       "\n",
       "    .dataframe thead th {\n",
       "        text-align: right;\n",
       "    }\n",
       "</style>\n",
       "<table border=\"1\" class=\"dataframe\">\n",
       "  <thead>\n",
       "    <tr style=\"text-align: right;\">\n",
       "      <th></th>\n",
       "      <th>accuracy</th>\n",
       "      <th>balanced accuracy</th>\n",
       "      <th>f1</th>\n",
       "      <th>precision</th>\n",
       "      <th>false positive rate</th>\n",
       "      <th>false negative rate</th>\n",
       "      <th>selection rate</th>\n",
       "      <th>count</th>\n",
       "    </tr>\n",
       "    <tr>\n",
       "      <th>majmin</th>\n",
       "      <th></th>\n",
       "      <th></th>\n",
       "      <th></th>\n",
       "      <th></th>\n",
       "      <th></th>\n",
       "      <th></th>\n",
       "      <th></th>\n",
       "      <th></th>\n",
       "    </tr>\n",
       "  </thead>\n",
       "  <tbody>\n",
       "    <tr>\n",
       "      <th>majority</th>\n",
       "      <td>0.231170</td>\n",
       "      <td>0.537948</td>\n",
       "      <td>0.247126</td>\n",
       "      <td>0.141928</td>\n",
       "      <td>0.879027</td>\n",
       "      <td>0.045077</td>\n",
       "      <td>0.889056</td>\n",
       "      <td>69170.0</td>\n",
       "    </tr>\n",
       "    <tr>\n",
       "      <th>minority</th>\n",
       "      <td>0.172882</td>\n",
       "      <td>0.522083</td>\n",
       "      <td>0.213873</td>\n",
       "      <td>0.120096</td>\n",
       "      <td>0.931763</td>\n",
       "      <td>0.024071</td>\n",
       "      <td>0.936855</td>\n",
       "      <td>20540.0</td>\n",
       "    </tr>\n",
       "  </tbody>\n",
       "</table>\n",
       "</div>"
      ],
      "text/plain": [
       "          accuracy  balanced accuracy        f1  precision  \\\n",
       "majmin                                                       \n",
       "majority  0.231170           0.537948  0.247126   0.141928   \n",
       "minority  0.172882           0.522083  0.213873   0.120096   \n",
       "\n",
       "          false positive rate  false negative rate  selection rate    count  \n",
       "majmin                                                                       \n",
       "majority             0.879027             0.045077        0.889056  69170.0  \n",
       "minority             0.931763             0.024071        0.936855  20540.0  "
      ]
     },
     "execution_count": 68,
     "metadata": {},
     "output_type": "execute_result"
    }
   ],
   "source": [
    "metric_frame.by_group"
   ]
  },
  {
   "cell_type": "code",
   "execution_count": 69,
   "id": "a9ddbe63",
   "metadata": {
    "execution": {
     "iopub.execute_input": "2025-07-28T10:44:24.616705Z",
     "iopub.status.busy": "2025-07-28T10:44:24.615605Z",
     "iopub.status.idle": "2025-07-28T10:44:27.450594Z",
     "shell.execute_reply": "2025-07-28T10:44:27.449187Z"
    },
    "papermill": {
     "duration": 2.867025,
     "end_time": "2025-07-28T10:44:27.452443",
     "exception": false,
     "start_time": "2025-07-28T10:44:24.585418",
     "status": "completed"
    },
    "tags": []
   },
   "outputs": [
    {
     "data": {
      "text/plain": [
       "array([[<Axes: title={'center': 'accuracy'}, xlabel='majmin'>,\n",
       "        <Axes: title={'center': 'balanced accuracy'}, xlabel='majmin'>,\n",
       "        <Axes: title={'center': 'f1'}, xlabel='majmin'>],\n",
       "       [<Axes: title={'center': 'precision'}, xlabel='majmin'>,\n",
       "        <Axes: title={'center': 'false positive rate'}, xlabel='majmin'>,\n",
       "        <Axes: title={'center': 'false negative rate'}, xlabel='majmin'>],\n",
       "       [<Axes: title={'center': 'selection rate'}, xlabel='majmin'>,\n",
       "        <Axes: title={'center': 'count'}, xlabel='majmin'>,\n",
       "        <Axes: xlabel='majmin'>]], dtype=object)"
      ]
     },
     "execution_count": 69,
     "metadata": {},
     "output_type": "execute_result"
    },
    {
     "data": {
      "image/png": "[encoded data removed]",
      "text/plain": [
       "<Figure size 1200x800 with 9 Axes>"
      ]
     },
     "metadata": {},
     "output_type": "display_data"
    }
   ],
   "source": [
    "# In a graphic\n",
    "metric_frame.by_group.plot.bar(\n",
    "    subplots=True,\n",
    "    layout=[3, 3],\n",
    "    legend=False,\n",
    "    figsize=[12, 8],\n",
    "    title=\"Show all metrics\",\n",
    ")"
   ]
  },
  {
   "cell_type": "markdown",
   "id": "f57a0bac",
   "metadata": {
    "papermill": {
     "duration": 0.021589,
     "end_time": "2025-07-28T10:44:27.528447",
     "exception": false,
     "start_time": "2025-07-28T10:44:27.506858",
     "status": "completed"
    },
    "tags": []
   },
   "source": [
    "# Final Output"
   ]
  },
  {
   "cell_type": "code",
   "execution_count": 70,
   "id": "96d280a3",
   "metadata": {
    "execution": {
     "iopub.execute_input": "2025-07-28T10:44:27.613488Z",
     "iopub.status.busy": "2025-07-28T10:44:27.612827Z",
     "iopub.status.idle": "2025-07-28T10:44:27.621679Z",
     "shell.execute_reply": "2025-07-28T10:44:27.620706Z"
    },
    "papermill": {
     "duration": 0.05681,
     "end_time": "2025-07-28T10:44:27.623689",
     "exception": false,
     "start_time": "2025-07-28T10:44:27.566879",
     "status": "completed"
    },
    "tags": []
   },
   "outputs": [
    {
     "data": {
      "text/plain": [
       "4"
      ]
     },
     "execution_count": 70,
     "metadata": {},
     "output_type": "execute_result"
    }
   ],
   "source": [
    "sub_universes = universe_analysis.generate_sub_universes()\n",
    "len(sub_universes)"
   ]
  },
  {
   "cell_type": "code",
   "execution_count": 71,
   "id": "92adf7ba",
   "metadata": {
    "execution": {
     "iopub.execute_input": "2025-07-28T10:44:27.686368Z",
     "iopub.status.busy": "2025-07-28T10:44:27.684851Z",
     "iopub.status.idle": "2025-07-28T10:44:27.692956Z",
     "shell.execute_reply": "2025-07-28T10:44:27.691800Z"
    },
    "papermill": {
     "duration": 0.048467,
     "end_time": "2025-07-28T10:44:27.694978",
     "exception": false,
     "start_time": "2025-07-28T10:44:27.646511",
     "status": "completed"
    },
    "tags": []
   },
   "outputs": [],
   "source": [
    "def filter_sub_universe_data(sub_universe, org_test):\n",
    "    # Keep all rows — no filtering\n",
    "    keep_rows_mask = np.ones(org_test.shape[0], dtype=bool)\n",
    "\n",
    "    print(f\"[INFO] Keeping all rows: {keep_rows_mask.sum()} rows retained.\")\n",
    "    return keep_rows_mask"
   ]
  },
  {
   "cell_type": "code",
   "execution_count": 72,
   "id": "4a759155",
   "metadata": {
    "execution": {
     "iopub.execute_input": "2025-07-28T10:44:27.776376Z",
     "iopub.status.busy": "2025-07-28T10:44:27.775867Z",
     "iopub.status.idle": "2025-07-28T10:44:39.117094Z",
     "shell.execute_reply": "2025-07-28T10:44:39.115912Z"
    },
    "papermill": {
     "duration": 11.377695,
     "end_time": "2025-07-28T10:44:39.118923",
     "exception": false,
     "start_time": "2025-07-28T10:44:27.741228",
     "status": "completed"
    },
    "tags": []
   },
   "outputs": [
    {
     "name": "stdout",
     "output_type": "stream",
     "text": [
      "Stopping execution_time clock.\n",
      "[INFO] Keeping all rows: 89710 rows retained.\n"
     ]
    },
    {
     "name": "stdout",
     "output_type": "stream",
     "text": [
      "[INFO] Keeping all rows: 89710 rows retained.\n"
     ]
    },
    {
     "name": "stdout",
     "output_type": "stream",
     "text": [
      "[INFO] Keeping all rows: 89710 rows retained.\n"
     ]
    },
    {
     "name": "stdout",
     "output_type": "stream",
     "text": [
      "[INFO] Keeping all rows: 89710 rows retained.\n"
     ]
    },
    {
     "data": {
      "text/html": [
       "<div>\n",
       "<style scoped>\n",
       "    .dataframe tbody tr th:only-of-type {\n",
       "        vertical-align: middle;\n",
       "    }\n",
       "\n",
       "    .dataframe tbody tr th {\n",
       "        vertical-align: top;\n",
       "    }\n",
       "\n",
       "    .dataframe thead th {\n",
       "        text-align: right;\n",
       "    }\n",
       "</style>\n",
       "<table border=\"1\" class=\"dataframe\">\n",
       "  <thead>\n",
       "    <tr style=\"text-align: right;\">\n",
       "      <th></th>\n",
       "      <th>run_no</th>\n",
       "      <th>universe_id</th>\n",
       "      <th>universe_settings</th>\n",
       "      <th>execution_time</th>\n",
       "      <th>test_size_n</th>\n",
       "      <th>test_size_frac</th>\n",
       "      <th>fair_main_equalized_odds_difference</th>\n",
       "      <th>fair_main_equalized_odds_ratio</th>\n",
       "      <th>fair_main_demographic_parity_difference</th>\n",
       "      <th>fair_main_demographic_parity_ratio</th>\n",
       "      <th>...</th>\n",
       "      <th>perf_grp_precision_0</th>\n",
       "      <th>perf_grp_precision_1</th>\n",
       "      <th>perf_grp_false positive rate_0</th>\n",
       "      <th>perf_grp_false positive rate_1</th>\n",
       "      <th>perf_grp_false negative rate_0</th>\n",
       "      <th>perf_grp_false negative rate_1</th>\n",
       "      <th>perf_grp_selection rate_0</th>\n",
       "      <th>perf_grp_selection rate_1</th>\n",
       "      <th>perf_grp_count_0</th>\n",
       "      <th>perf_grp_count_1</th>\n",
       "    </tr>\n",
       "  </thead>\n",
       "  <tbody>\n",
       "    <tr>\n",
       "      <th>0</th>\n",
       "      <td>11</td>\n",
       "      <td>69c692095ff40347c71ba4a5031ae328</td>\n",
       "      <td>{\"cutoff\": \"quantile_0.1\", \"eval_fairness_grou...</td>\n",
       "      <td>29.866952</td>\n",
       "      <td>89710</td>\n",
       "      <td>1.0</td>\n",
       "      <td>0.052736</td>\n",
       "      <td>0.943402</td>\n",
       "      <td>0.047799</td>\n",
       "      <td>0.948979</td>\n",
       "      <td>...</td>\n",
       "      <td>NaN</td>\n",
       "      <td>NaN</td>\n",
       "      <td>NaN</td>\n",
       "      <td>NaN</td>\n",
       "      <td>NaN</td>\n",
       "      <td>NaN</td>\n",
       "      <td>NaN</td>\n",
       "      <td>NaN</td>\n",
       "      <td>NaN</td>\n",
       "      <td>NaN</td>\n",
       "    </tr>\n",
       "    <tr>\n",
       "      <th>0</th>\n",
       "      <td>11</td>\n",
       "      <td>69c692095ff40347c71ba4a5031ae328</td>\n",
       "      <td>{\"cutoff\": \"quantile_0.1\", \"eval_fairness_grou...</td>\n",
       "      <td>29.866952</td>\n",
       "      <td>89710</td>\n",
       "      <td>1.0</td>\n",
       "      <td>0.052736</td>\n",
       "      <td>0.943402</td>\n",
       "      <td>0.047799</td>\n",
       "      <td>0.948979</td>\n",
       "      <td>...</td>\n",
       "      <td>0.120096</td>\n",
       "      <td>0.141928</td>\n",
       "      <td>0.931763</td>\n",
       "      <td>0.879027</td>\n",
       "      <td>0.024071</td>\n",
       "      <td>0.045077</td>\n",
       "      <td>0.936855</td>\n",
       "      <td>0.889056</td>\n",
       "      <td>20540.0</td>\n",
       "      <td>69170.0</td>\n",
       "    </tr>\n",
       "    <tr>\n",
       "      <th>0</th>\n",
       "      <td>11</td>\n",
       "      <td>69c692095ff40347c71ba4a5031ae328</td>\n",
       "      <td>{\"cutoff\": \"quantile_0.25\", \"eval_fairness_gro...</td>\n",
       "      <td>29.866952</td>\n",
       "      <td>89710</td>\n",
       "      <td>1.0</td>\n",
       "      <td>0.136486</td>\n",
       "      <td>0.836688</td>\n",
       "      <td>0.123640</td>\n",
       "      <td>0.853736</td>\n",
       "      <td>...</td>\n",
       "      <td>NaN</td>\n",
       "      <td>NaN</td>\n",
       "      <td>NaN</td>\n",
       "      <td>NaN</td>\n",
       "      <td>NaN</td>\n",
       "      <td>NaN</td>\n",
       "      <td>NaN</td>\n",
       "      <td>NaN</td>\n",
       "      <td>NaN</td>\n",
       "      <td>NaN</td>\n",
       "    </tr>\n",
       "    <tr>\n",
       "      <th>0</th>\n",
       "      <td>11</td>\n",
       "      <td>69c692095ff40347c71ba4a5031ae328</td>\n",
       "      <td>{\"cutoff\": \"quantile_0.25\", \"eval_fairness_gro...</td>\n",
       "      <td>29.866952</td>\n",
       "      <td>89710</td>\n",
       "      <td>1.0</td>\n",
       "      <td>0.136486</td>\n",
       "      <td>0.836688</td>\n",
       "      <td>0.123640</td>\n",
       "      <td>0.853736</td>\n",
       "      <td>...</td>\n",
       "      <td>0.125324</td>\n",
       "      <td>0.159118</td>\n",
       "      <td>0.835736</td>\n",
       "      <td>0.699250</td>\n",
       "      <td>0.081081</td>\n",
       "      <td>0.130963</td>\n",
       "      <td>0.845326</td>\n",
       "      <td>0.721686</td>\n",
       "      <td>20540.0</td>\n",
       "      <td>69170.0</td>\n",
       "    </tr>\n",
       "  </tbody>\n",
       "</table>\n",
       "<p>4 rows × 50 columns</p>\n",
       "</div>"
      ],
      "text/plain": [
       "  run_no                       universe_id  \\\n",
       "0     11  69c692095ff40347c71ba4a5031ae328   \n",
       "0     11  69c692095ff40347c71ba4a5031ae328   \n",
       "0     11  69c692095ff40347c71ba4a5031ae328   \n",
       "0     11  69c692095ff40347c71ba4a5031ae328   \n",
       "\n",
       "                                   universe_settings  execution_time  \\\n",
       "0  {\"cutoff\": \"quantile_0.1\", \"eval_fairness_grou...       29.866952   \n",
       "0  {\"cutoff\": \"quantile_0.1\", \"eval_fairness_grou...       29.866952   \n",
       "0  {\"cutoff\": \"quantile_0.25\", \"eval_fairness_gro...       29.866952   \n",
       "0  {\"cutoff\": \"quantile_0.25\", \"eval_fairness_gro...       29.866952   \n",
       "\n",
       "   test_size_n  test_size_frac  fair_main_equalized_odds_difference  \\\n",
       "0        89710             1.0                             0.052736   \n",
       "0        89710             1.0                             0.052736   \n",
       "0        89710             1.0                             0.136486   \n",
       "0        89710             1.0                             0.136486   \n",
       "\n",
       "   fair_main_equalized_odds_ratio  fair_main_demographic_parity_difference  \\\n",
       "0                        0.943402                                 0.047799   \n",
       "0                        0.943402                                 0.047799   \n",
       "0                        0.836688                                 0.123640   \n",
       "0                        0.836688                                 0.123640   \n",
       "\n",
       "   fair_main_demographic_parity_ratio  ...  perf_grp_precision_0  \\\n",
       "0                            0.948979  ...                   NaN   \n",
       "0                            0.948979  ...              0.120096   \n",
       "0                            0.853736  ...                   NaN   \n",
       "0                            0.853736  ...              0.125324   \n",
       "\n",
       "   perf_grp_precision_1  perf_grp_false positive rate_0  \\\n",
       "0                   NaN                             NaN   \n",
       "0              0.141928                        0.931763   \n",
       "0                   NaN                             NaN   \n",
       "0              0.159118                        0.835736   \n",
       "\n",
       "   perf_grp_false positive rate_1  perf_grp_false negative rate_0  \\\n",
       "0                             NaN                             NaN   \n",
       "0                        0.879027                        0.024071   \n",
       "0                             NaN                             NaN   \n",
       "0                        0.699250                        0.081081   \n",
       "\n",
       "   perf_grp_false negative rate_1  perf_grp_selection rate_0  \\\n",
       "0                             NaN                        NaN   \n",
       "0                        0.045077                   0.936855   \n",
       "0                             NaN                        NaN   \n",
       "0                        0.130963                   0.845326   \n",
       "\n",
       "   perf_grp_selection rate_1  perf_grp_count_0  perf_grp_count_1  \n",
       "0                        NaN               NaN               NaN  \n",
       "0                   0.889056           20540.0           69170.0  \n",
       "0                        NaN               NaN               NaN  \n",
       "0                   0.721686           20540.0           69170.0  \n",
       "\n",
       "[4 rows x 50 columns]"
      ]
     },
     "execution_count": 72,
     "metadata": {},
     "output_type": "execute_result"
    }
   ],
   "source": [
    "final_output = universe_analysis.generate_final_output(\n",
    "    y_pred_prob=probs_test,\n",
    "    y_test=y_true,\n",
    "    org_test=org_test,\n",
    "    filter_data=filter_sub_universe_data,\n",
    "    cp_metrics_df=cp_metrics_df,\n",
    "    save=True,\n",
    ")\n",
    "final_output"
   ]
  },
  {
   "cell_type": "code",
   "execution_count": null,
   "id": "721ff514-cb11-46f8-b6fc-50392f74b5cb",
   "metadata": {
    "papermill": {
     "duration": 0.028343,
     "end_time": "2025-07-28T10:44:39.179465",
     "exception": false,
     "start_time": "2025-07-28T10:44:39.151122",
     "status": "completed"
    },
    "tags": []
   },
   "outputs": [],
   "source": []
  }
 ],
 "metadata": {
  "celltoolbar": "Tags",
  "kernelspec": {
   "display_name": "Python (CMA Fairness)",
   "language": "python",
   "name": "cma_fair_env"
  },
  "language_info": {
   "codemirror_mode": {
    "name": "ipython",
    "version": 3
   },
   "file_extension": ".py",
   "mimetype": "text/x-python",
   "name": "python",
   "nbconvert_exporter": "python",
   "pygments_lexer": "ipython3",
   "version": "3.10.12"
  },
  "papermill": {
   "default_parameters": {},
   "duration": 45.737202,
   "end_time": "2025-07-28T10:44:39.929081",
   "environment_variables": {},
   "exception": null,
   "input_path": "universe_analysis.ipynb",
   "output_path": "output/runs/11/notebooks/m_11-69c692095ff40347c71ba4a5031ae328.ipynb",
   "parameters": {
    "output_dir": "output",
    "run_no": "11",
    "seed": "2023",
    "universe": "{\"cutoff\": [\"quantile_0.1\", \"quantile_0.25\"], \"eval_fairness_grouping\": [\"majority-minority\", \"nationality-all\"], \"exclude_features\": \"age\", \"exclude_subgroups\": \"drop-non-german\", \"model\": \"penalized_logreg\", \"scale\": \"scale\", \"training_size\": \"1k\"}",
    "universe_id": "69c692095ff40347c71ba4a5031ae328"
   },
   "start_time": "2025-07-28T10:43:54.191879",
   "version": "2.6.0"
  }
 },
 "nbformat": 4,
 "nbformat_minor": 5
}