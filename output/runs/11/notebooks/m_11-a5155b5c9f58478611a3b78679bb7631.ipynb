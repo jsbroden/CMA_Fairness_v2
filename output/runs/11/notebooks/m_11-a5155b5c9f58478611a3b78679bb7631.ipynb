{
 "cells": [
  {
   "cell_type": "code",
   "execution_count": 1,
   "id": "f159f837-637b-42ba-96b5-ec9a68c44524",
   "metadata": {
    "execution": {
     "iopub.execute_input": "2025-07-28T11:09:56.433690Z",
     "iopub.status.busy": "2025-07-28T11:09:56.432602Z",
     "iopub.status.idle": "2025-07-28T11:09:56.446364Z",
     "shell.execute_reply": "2025-07-28T11:09:56.445311Z"
    },
    "papermill": {
     "duration": 0.035788,
     "end_time": "2025-07-28T11:09:56.447943",
     "exception": false,
     "start_time": "2025-07-28T11:09:56.412155",
     "status": "completed"
    },
    "tags": []
   },
   "outputs": [
    {
     "name": "stdout",
     "output_type": "stream",
     "text": [
      "/dss/dsshome1/0C/ra93lal2/cma/CMA_Fairness_v2\n"
     ]
    },
    {
     "name": "stderr",
     "output_type": "stream",
     "text": [
      "/dss/dsshome1/0C/ra93lal2/.local/share/virtualenvs/CMA_Fairness_v2-3j10GkSs/lib/python3.10/site-packages/IPython/core/magics/osm.py:393: UserWarning: This is now an optional IPython functionality, using bookmarks requires you to install the `pickleshare` library.\n",
      "  bkms = self.shell.db.get('bookmarks', {})\n",
      "/dss/dsshome1/0C/ra93lal2/.local/share/virtualenvs/CMA_Fairness_v2-3j10GkSs/lib/python3.10/site-packages/IPython/core/magics/osm.py:417: UserWarning: This is now an optional IPython functionality, setting dhist requires you to install the `pickleshare` library.\n",
      "  self.shell.db['dhist'] = compress_dhist(dhist)[-100:]\n"
     ]
    }
   ],
   "source": [
    "%cd ~/cma/CMA_Fairness_v2"
   ]
  },
  {
   "cell_type": "markdown",
   "id": "de2603b9",
   "metadata": {
    "papermill": {
     "duration": 0.020001,
     "end_time": "2025-07-28T11:09:56.486529",
     "exception": false,
     "start_time": "2025-07-28T11:09:56.466528",
     "status": "completed"
    },
    "tags": []
   },
   "source": [
    "The following cell holds the definition of our parameters, these values can be overriden by rendering the with e.g. the following command:\n",
    "\n",
    "papermill -p alpha 0.2 -p ratio 0.3 universe_analysis.ipynb output/test_run.ipynb"
   ]
  },
  {
   "cell_type": "code",
   "execution_count": 2,
   "id": "a80968a0-40bb-4fa9-85ef-2d5eefb01975",
   "metadata": {
    "execution": {
     "iopub.execute_input": "2025-07-28T11:09:56.526411Z",
     "iopub.status.busy": "2025-07-28T11:09:56.525548Z",
     "iopub.status.idle": "2025-07-28T11:09:56.531651Z",
     "shell.execute_reply": "2025-07-28T11:09:56.530647Z"
    },
    "papermill": {
     "duration": 0.0278,
     "end_time": "2025-07-28T11:09:56.533473",
     "exception": false,
     "start_time": "2025-07-28T11:09:56.505673",
     "status": "completed"
    },
    "tags": []
   },
   "outputs": [
    {
     "name": "stdout",
     "output_type": "stream",
     "text": [
      "Current working directory: /dss/dsshome1/0C/ra93lal2/cma/CMA_Fairness_v2\n"
     ]
    }
   ],
   "source": [
    "import os\n",
    "print(\"Current working directory:\", os.getcwd())"
   ]
  },
  {
   "cell_type": "code",
   "execution_count": 3,
   "id": "2dce4c03",
   "metadata": {
    "execution": {
     "iopub.execute_input": "2025-07-28T11:09:56.573009Z",
     "iopub.status.busy": "2025-07-28T11:09:56.572465Z",
     "iopub.status.idle": "2025-07-28T11:09:56.578948Z",
     "shell.execute_reply": "2025-07-28T11:09:56.577992Z"
    },
    "papermill": {
     "duration": 0.029686,
     "end_time": "2025-07-28T11:09:56.582452",
     "exception": false,
     "start_time": "2025-07-28T11:09:56.552766",
     "status": "completed"
    },
    "tags": [
     "parameters"
    ]
   },
   "outputs": [],
   "source": [
    "run_no = 0\n",
    "universe_id = \"test\"\n",
    "universe = {\n",
    "    \"training_size\": \"2014\", # \"25k\", \"5k\", \"1k\", \"2014\"\n",
    "    \"scale\": \"scale\", # \"scale\", \"do-not-scale\",\n",
    "    #\"stratify_split\": \"target\", # \"none\", \"target\", \"protected-attribute\", \"both\",\n",
    "    \"model\": \"elasticnet\", # \"logreg\", \"penalized_logreg\", \"rf\", \"gbm\", \"elasticnet\"\n",
    "    \"cutoff\": [\"quantile_0.15\", \"quantile_0.30\"],\n",
    "    \"exclude_features\": \"age\", # \"none\", \"nationality\", \"sex\", \"nationality-sex\", \"age\"\n",
    "    \"exclude_subgroups\": \"keep-all\", # \"keep-all\", \"drop-non-german\"\n",
    "    \"eval_fairness_grouping\": [\"majority-minority\", \"nationality-all\"]\n",
    "}\n",
    "\n",
    "output_dir=\"./output\"\n",
    "seed=0"
   ]
  },
  {
   "cell_type": "code",
   "execution_count": 4,
   "id": "2567c0f8",
   "metadata": {
    "execution": {
     "iopub.execute_input": "2025-07-28T11:09:56.623523Z",
     "iopub.status.busy": "2025-07-28T11:09:56.622795Z",
     "iopub.status.idle": "2025-07-28T11:09:56.628827Z",
     "shell.execute_reply": "2025-07-28T11:09:56.627770Z"
    },
    "papermill": {
     "duration": 0.029633,
     "end_time": "2025-07-28T11:09:56.631146",
     "exception": false,
     "start_time": "2025-07-28T11:09:56.601513",
     "status": "completed"
    },
    "tags": [
     "injected-parameters"
    ]
   },
   "outputs": [],
   "source": [
    "# Parameters\n",
    "universe_id = \"a5155b5c9f58478611a3b78679bb7631\"\n",
    "run_no = \"11\"\n",
    "universe = \"{\\\"cutoff\\\": [\\\"quantile_0.1\\\", \\\"quantile_0.25\\\"], \\\"eval_fairness_grouping\\\": [\\\"majority-minority\\\", \\\"nationality-all\\\"], \\\"exclude_features\\\": \\\"age\\\", \\\"exclude_subgroups\\\": \\\"keep-all\\\", \\\"model\\\": \\\"gbm\\\", \\\"scale\\\": \\\"do-not-scale\\\", \\\"training_size\\\": \\\"2014\\\"}\"\n",
    "output_dir = \"output\"\n",
    "seed = \"2023\"\n"
   ]
  },
  {
   "cell_type": "code",
   "execution_count": 5,
   "id": "1650acaf",
   "metadata": {
    "execution": {
     "iopub.execute_input": "2025-07-28T11:09:56.672500Z",
     "iopub.status.busy": "2025-07-28T11:09:56.671952Z",
     "iopub.status.idle": "2025-07-28T11:09:56.677256Z",
     "shell.execute_reply": "2025-07-28T11:09:56.676355Z"
    },
    "papermill": {
     "duration": 0.027171,
     "end_time": "2025-07-28T11:09:56.678850",
     "exception": false,
     "start_time": "2025-07-28T11:09:56.651679",
     "status": "completed"
    },
    "tags": []
   },
   "outputs": [],
   "source": [
    "import json\n",
    "# Parse universe into dict if it is passed as a string\n",
    "if isinstance(universe, str):\n",
    "    universe = json.loads(universe)"
   ]
  },
  {
   "cell_type": "code",
   "execution_count": 6,
   "id": "16620c48",
   "metadata": {
    "execution": {
     "iopub.execute_input": "2025-07-28T11:09:56.706810Z",
     "iopub.status.busy": "2025-07-28T11:09:56.706368Z",
     "iopub.status.idle": "2025-07-28T11:09:56.736107Z",
     "shell.execute_reply": "2025-07-28T11:09:56.735288Z"
    },
    "papermill": {
     "duration": 0.042768,
     "end_time": "2025-07-28T11:09:56.737679",
     "exception": false,
     "start_time": "2025-07-28T11:09:56.694911",
     "status": "completed"
    },
    "tags": []
   },
   "outputs": [],
   "source": [
    "# Auto-reload the custom package\n",
    "%load_ext autoreload\n",
    "%autoreload 1\n",
    "%aimport fairness_multiverse"
   ]
  },
  {
   "cell_type": "code",
   "execution_count": 7,
   "id": "01c5c9f3",
   "metadata": {
    "execution": {
     "iopub.execute_input": "2025-07-28T11:09:56.784094Z",
     "iopub.status.busy": "2025-07-28T11:09:56.783557Z",
     "iopub.status.idle": "2025-07-28T11:09:58.927345Z",
     "shell.execute_reply": "2025-07-28T11:09:58.926335Z"
    },
    "papermill": {
     "duration": 2.173862,
     "end_time": "2025-07-28T11:09:58.929578",
     "exception": false,
     "start_time": "2025-07-28T11:09:56.755716",
     "status": "completed"
    },
    "tags": []
   },
   "outputs": [],
   "source": [
    "from fairness_multiverse.universe import UniverseAnalysis\n",
    "\n",
    "universe_analysis = UniverseAnalysis(\n",
    "    run_no = run_no,\n",
    "    universe_id = universe_id,\n",
    "    universe = universe,\n",
    "    output_dir=output_dir,\n",
    ")"
   ]
  },
  {
   "cell_type": "code",
   "execution_count": 8,
   "id": "106241f5",
   "metadata": {
    "execution": {
     "iopub.execute_input": "2025-07-28T11:09:58.984811Z",
     "iopub.status.busy": "2025-07-28T11:09:58.984302Z",
     "iopub.status.idle": "2025-07-28T11:09:58.991291Z",
     "shell.execute_reply": "2025-07-28T11:09:58.990233Z"
    },
    "papermill": {
     "duration": 0.049633,
     "end_time": "2025-07-28T11:09:58.999531",
     "exception": false,
     "start_time": "2025-07-28T11:09:58.949898",
     "status": "completed"
    },
    "tags": []
   },
   "outputs": [
    {
     "name": "stdout",
     "output_type": "stream",
     "text": [
      "Using Seed: 2023\n"
     ]
    }
   ],
   "source": [
    "import numpy as np\n",
    "parsed_seed = int(seed)\n",
    "np.random.seed(parsed_seed)\n",
    "print(f\"Using Seed: {parsed_seed}\")"
   ]
  },
  {
   "cell_type": "markdown",
   "id": "e0ebdc57",
   "metadata": {
    "papermill": {
     "duration": 0.020748,
     "end_time": "2025-07-28T11:09:59.041989",
     "exception": false,
     "start_time": "2025-07-28T11:09:59.021241",
     "status": "completed"
    },
    "tags": []
   },
   "source": [
    "# Loading Data"
   ]
  },
  {
   "cell_type": "markdown",
   "id": "681925a3",
   "metadata": {
    "papermill": {
     "duration": 0.020795,
     "end_time": "2025-07-28T11:09:59.083790",
     "exception": false,
     "start_time": "2025-07-28T11:09:59.062995",
     "status": "completed"
    },
    "tags": []
   },
   "source": [
    "Load siab_train, siab_test, siab_calib and/or \n",
    "load siab_train_features, siab_train_labels"
   ]
  },
  {
   "cell_type": "code",
   "execution_count": 9,
   "id": "f0496b8a",
   "metadata": {
    "execution": {
     "iopub.execute_input": "2025-07-28T11:09:59.127984Z",
     "iopub.status.busy": "2025-07-28T11:09:59.127372Z",
     "iopub.status.idle": "2025-07-28T11:10:13.026674Z",
     "shell.execute_reply": "2025-07-28T11:10:13.025463Z"
    },
    "papermill": {
     "duration": 13.923768,
     "end_time": "2025-07-28T11:10:13.028469",
     "exception": false,
     "start_time": "2025-07-28T11:09:59.104701",
     "status": "completed"
    },
    "tags": []
   },
   "outputs": [
    {
     "name": "stdout",
     "output_type": "stream",
     "text": [
      "Loading SIAB data from cache: data/siab_cached.csv.gz\n"
     ]
    },
    {
     "name": "stdout",
     "output_type": "stream",
     "text": [
      "(643690, 164)\n"
     ]
    }
   ],
   "source": [
    "from pathlib import Path\n",
    "import pandas as pd\n",
    "\n",
    "# File paths\n",
    "raw_file = Path(\"data/raw/siab.csv\")\n",
    "cache_file = Path(\"data/siab_cached.csv.gz\")\n",
    "\n",
    "# Ensure cache directory exists\n",
    "cache_file.parent.mkdir(parents=True, exist_ok=True)\n",
    "\n",
    "# Load with simple caching\n",
    "if cache_file.exists():\n",
    "    print(f\"Loading SIAB data from cache: {cache_file}\")\n",
    "    siab = pd.read_csv(cache_file, compression='gzip')\n",
    "else:\n",
    "    print(f\"Cache not found. Reading raw SIAB data: {raw_file}\")\n",
    "    siab = pd.read_csv(raw_file)\n",
    "    siab.to_csv(cache_file, index=False, compression='gzip')\n",
    "    print(f\"Cached SIAB data to: {cache_file}\")\n",
    "\n",
    "# Now use `siab` DataFrame as needed\n",
    "print(siab.shape)"
   ]
  },
  {
   "cell_type": "code",
   "execution_count": 10,
   "id": "db0ca512-5f53-4dba-abdb-a2888bca41ba",
   "metadata": {
    "execution": {
     "iopub.execute_input": "2025-07-28T11:10:13.073477Z",
     "iopub.status.busy": "2025-07-28T11:10:13.072467Z",
     "iopub.status.idle": "2025-07-28T11:10:13.078812Z",
     "shell.execute_reply": "2025-07-28T11:10:13.077878Z"
    },
    "papermill": {
     "duration": 0.029771,
     "end_time": "2025-07-28T11:10:13.080602",
     "exception": false,
     "start_time": "2025-07-28T11:10:13.050831",
     "status": "completed"
    },
    "tags": []
   },
   "outputs": [],
   "source": [
    "#siab"
   ]
  },
  {
   "cell_type": "code",
   "execution_count": 11,
   "id": "a0edb063",
   "metadata": {
    "execution": {
     "iopub.execute_input": "2025-07-28T11:10:13.124001Z",
     "iopub.status.busy": "2025-07-28T11:10:13.123506Z",
     "iopub.status.idle": "2025-07-28T11:10:13.128822Z",
     "shell.execute_reply": "2025-07-28T11:10:13.127768Z"
    },
    "papermill": {
     "duration": 0.028897,
     "end_time": "2025-07-28T11:10:13.130692",
     "exception": false,
     "start_time": "2025-07-28T11:10:13.101795",
     "status": "completed"
    },
    "tags": []
   },
   "outputs": [],
   "source": [
    "#import pandas as pd\n",
    "#\n",
    "#X_train = pd.read_csv(\"./data/X_train.csv\")\n",
    "#y_train = pd.read_csv(\"./data/y_train.csv\")"
   ]
  },
  {
   "cell_type": "code",
   "execution_count": 12,
   "id": "63d08085",
   "metadata": {
    "execution": {
     "iopub.execute_input": "2025-07-28T11:10:13.172554Z",
     "iopub.status.busy": "2025-07-28T11:10:13.172069Z",
     "iopub.status.idle": "2025-07-28T11:10:13.177221Z",
     "shell.execute_reply": "2025-07-28T11:10:13.176154Z"
    },
    "papermill": {
     "duration": 0.027835,
     "end_time": "2025-07-28T11:10:13.178920",
     "exception": false,
     "start_time": "2025-07-28T11:10:13.151085",
     "status": "completed"
    },
    "tags": []
   },
   "outputs": [],
   "source": [
    "#X_test = pd.read_csv(\"./data/X_test.csv\")\n",
    "#y_true = pd.read_csv(\"./data/y_test.csv\")"
   ]
  },
  {
   "cell_type": "code",
   "execution_count": 13,
   "id": "98a8d0fa-1d3d-4ed8-bb2c-281470e24add",
   "metadata": {
    "execution": {
     "iopub.execute_input": "2025-07-28T11:10:13.222048Z",
     "iopub.status.busy": "2025-07-28T11:10:13.221556Z",
     "iopub.status.idle": "2025-07-28T11:10:13.227021Z",
     "shell.execute_reply": "2025-07-28T11:10:13.226166Z"
    },
    "papermill": {
     "duration": 0.028893,
     "end_time": "2025-07-28T11:10:13.228901",
     "exception": false,
     "start_time": "2025-07-28T11:10:13.200008",
     "status": "completed"
    },
    "tags": []
   },
   "outputs": [],
   "source": [
    "# Calibration data for conformal\n",
    "#X_calib = pd.read_csv(\"./data/X_calib.csv\")\n",
    "#y_calib = pd.read_csv(\"./data/y_calib.csv\")"
   ]
  },
  {
   "cell_type": "markdown",
   "id": "9901737e-04df-44f0-9100-f5ad144ed040",
   "metadata": {
    "papermill": {
     "duration": 0.020971,
     "end_time": "2025-07-28T11:10:13.270682",
     "exception": false,
     "start_time": "2025-07-28T11:10:13.249711",
     "status": "completed"
    },
    "tags": []
   },
   "source": [
    "# Splitting Data and Setting Training Data Size"
   ]
  },
  {
   "cell_type": "code",
   "execution_count": 14,
   "id": "acbc8f7d-8fc8-4e86-8c59-5dcb0f58384b",
   "metadata": {
    "execution": {
     "iopub.execute_input": "2025-07-28T11:10:13.313970Z",
     "iopub.status.busy": "2025-07-28T11:10:13.313302Z",
     "iopub.status.idle": "2025-07-28T11:10:13.322045Z",
     "shell.execute_reply": "2025-07-28T11:10:13.321145Z"
    },
    "papermill": {
     "duration": 0.032592,
     "end_time": "2025-07-28T11:10:13.323811",
     "exception": false,
     "start_time": "2025-07-28T11:10:13.291219",
     "status": "completed"
    },
    "tags": []
   },
   "outputs": [],
   "source": [
    "def sample_by_year(df, training_size, random_state=42):\n",
    "    if training_size == \"2014\":\n",
    "        return df[df[\"year\"] == 2014].reset_index(drop=True)\n",
    "    \n",
    "    size_map = {\n",
    "        \"25k\": 5000,\n",
    "        \"5k\": 1000,\n",
    "        \"1k\": 200\n",
    "    }\n",
    "\n",
    "    if training_size not in size_map:\n",
    "        return df.reset_index(drop=True)  # use all data\n",
    "\n",
    "    n_per_year = size_map[training_size]\n",
    "    grouped = df.groupby(\"year\")\n",
    "    sampled = grouped.apply(lambda x: x.sample(n=min(n_per_year, len(x)), random_state=random_state))\n",
    "    return sampled.reset_index(drop=True)"
   ]
  },
  {
   "cell_type": "code",
   "execution_count": 15,
   "id": "6d931f52-beaf-43ff-9e78-9d44a448d54e",
   "metadata": {
    "execution": {
     "iopub.execute_input": "2025-07-28T11:10:13.367806Z",
     "iopub.status.busy": "2025-07-28T11:10:13.366995Z",
     "iopub.status.idle": "2025-07-28T11:10:13.529838Z",
     "shell.execute_reply": "2025-07-28T11:10:13.528794Z"
    },
    "papermill": {
     "duration": 0.186652,
     "end_time": "2025-07-28T11:10:13.531903",
     "exception": false,
     "start_time": "2025-07-28T11:10:13.345251",
     "status": "completed"
    },
    "tags": []
   },
   "outputs": [],
   "source": [
    "siab_s = sample_by_year(siab, universe[\"training_size\"])"
   ]
  },
  {
   "cell_type": "code",
   "execution_count": 16,
   "id": "5db0a40e-a4e2-4920-be85-b12ae061d70d",
   "metadata": {
    "execution": {
     "iopub.execute_input": "2025-07-28T11:10:13.576867Z",
     "iopub.status.busy": "2025-07-28T11:10:13.576133Z",
     "iopub.status.idle": "2025-07-28T11:10:13.592408Z",
     "shell.execute_reply": "2025-07-28T11:10:13.591349Z"
    },
    "papermill": {
     "duration": 0.040304,
     "end_time": "2025-07-28T11:10:13.594117",
     "exception": false,
     "start_time": "2025-07-28T11:10:13.553813",
     "status": "completed"
    },
    "tags": []
   },
   "outputs": [
    {
     "data": {
      "text/plain": [
       "year\n",
       "2014    87158\n",
       "dtype: int64"
      ]
     },
     "metadata": {},
     "output_type": "display_data"
    }
   ],
   "source": [
    "display(siab_s.groupby(\"year\").size())"
   ]
  },
  {
   "cell_type": "code",
   "execution_count": 17,
   "id": "a561edb4-d032-42cb-8256-22eac1111c64",
   "metadata": {
    "execution": {
     "iopub.execute_input": "2025-07-28T11:10:13.639779Z",
     "iopub.status.busy": "2025-07-28T11:10:13.639396Z",
     "iopub.status.idle": "2025-07-28T11:10:13.945472Z",
     "shell.execute_reply": "2025-07-28T11:10:13.944416Z"
    },
    "papermill": {
     "duration": 0.330711,
     "end_time": "2025-07-28T11:10:13.947639",
     "exception": false,
     "start_time": "2025-07-28T11:10:13.616928",
     "status": "completed"
    },
    "tags": []
   },
   "outputs": [],
   "source": [
    "siab_train = siab_s[siab_s.year < 2015]\n",
    "siab_calib = siab[siab.year == 2015]\n",
    "siab_test = siab[siab.year == 2016]"
   ]
  },
  {
   "cell_type": "code",
   "execution_count": 18,
   "id": "472de16f-c3db-4916-846b-1f0de9cf1746",
   "metadata": {
    "execution": {
     "iopub.execute_input": "2025-07-28T11:10:13.992150Z",
     "iopub.status.busy": "2025-07-28T11:10:13.991603Z",
     "iopub.status.idle": "2025-07-28T11:10:14.048241Z",
     "shell.execute_reply": "2025-07-28T11:10:14.046854Z"
    },
    "papermill": {
     "duration": 0.080182,
     "end_time": "2025-07-28T11:10:14.050041",
     "exception": false,
     "start_time": "2025-07-28T11:10:13.969859",
     "status": "completed"
    },
    "tags": []
   },
   "outputs": [],
   "source": [
    "X_train = siab_train.iloc[:,4:164]\n",
    "y_train = siab_train.iloc[:, [3]]"
   ]
  },
  {
   "cell_type": "code",
   "execution_count": 19,
   "id": "828c96af-f43a-4ed6-ba47-8ac73a47d56c",
   "metadata": {
    "execution": {
     "iopub.execute_input": "2025-07-28T11:10:14.094082Z",
     "iopub.status.busy": "2025-07-28T11:10:14.093061Z",
     "iopub.status.idle": "2025-07-28T11:10:14.147893Z",
     "shell.execute_reply": "2025-07-28T11:10:14.146712Z"
    },
    "papermill": {
     "duration": 0.078357,
     "end_time": "2025-07-28T11:10:14.149711",
     "exception": false,
     "start_time": "2025-07-28T11:10:14.071354",
     "status": "completed"
    },
    "tags": []
   },
   "outputs": [],
   "source": [
    "X_calib = siab_calib.iloc[:,4:164]\n",
    "y_calib = siab_calib.iloc[:, [3]]"
   ]
  },
  {
   "cell_type": "code",
   "execution_count": 20,
   "id": "c34be9c3-6bd6-476e-acd3-845840e303be",
   "metadata": {
    "execution": {
     "iopub.execute_input": "2025-07-28T11:10:14.190964Z",
     "iopub.status.busy": "2025-07-28T11:10:14.190492Z",
     "iopub.status.idle": "2025-07-28T11:10:14.246229Z",
     "shell.execute_reply": "2025-07-28T11:10:14.245174Z"
    },
    "papermill": {
     "duration": 0.078783,
     "end_time": "2025-07-28T11:10:14.248132",
     "exception": false,
     "start_time": "2025-07-28T11:10:14.169349",
     "status": "completed"
    },
    "tags": []
   },
   "outputs": [],
   "source": [
    "X_test = siab_test.iloc[:,4:164]\n",
    "y_true = siab_test.iloc[:, [3]]"
   ]
  },
  {
   "cell_type": "code",
   "execution_count": 21,
   "id": "e6c733c5",
   "metadata": {
    "execution": {
     "iopub.execute_input": "2025-07-28T11:10:14.292801Z",
     "iopub.status.busy": "2025-07-28T11:10:14.291772Z",
     "iopub.status.idle": "2025-07-28T11:10:14.486428Z",
     "shell.execute_reply": "2025-07-28T11:10:14.485356Z"
    },
    "papermill": {
     "duration": 0.219239,
     "end_time": "2025-07-28T11:10:14.488718",
     "exception": false,
     "start_time": "2025-07-28T11:10:14.269479",
     "status": "completed"
    },
    "tags": []
   },
   "outputs": [],
   "source": [
    "# Auxiliary data needed downstream in the pipeline\n",
    "\n",
    "org_train = X_train.copy()\n",
    "org_test = X_test.copy()\n",
    "org_calib = X_calib.copy()"
   ]
  },
  {
   "cell_type": "markdown",
   "id": "0a4a1b33",
   "metadata": {
    "papermill": {
     "duration": 0.020627,
     "end_time": "2025-07-28T11:10:14.530519",
     "exception": false,
     "start_time": "2025-07-28T11:10:14.509892",
     "status": "completed"
    },
    "tags": []
   },
   "source": [
    "# Preprocessing Data"
   ]
  },
  {
   "cell_type": "code",
   "execution_count": 22,
   "id": "ca879031",
   "metadata": {
    "execution": {
     "iopub.execute_input": "2025-07-28T11:10:14.576212Z",
     "iopub.status.busy": "2025-07-28T11:10:14.575151Z",
     "iopub.status.idle": "2025-07-28T11:10:14.582735Z",
     "shell.execute_reply": "2025-07-28T11:10:14.581458Z"
    },
    "papermill": {
     "duration": 0.032716,
     "end_time": "2025-07-28T11:10:14.584658",
     "exception": false,
     "start_time": "2025-07-28T11:10:14.551942",
     "status": "completed"
    },
    "tags": []
   },
   "outputs": [],
   "source": [
    "# EXCLUDE PROTECTED FEATURES\n",
    "# ----------------------\n",
    "# \"exclude_features\": \"none\", # \"nationality\", \"sex\", \"nationality-sex\"\n",
    "\n",
    "excluded_features = universe[\"exclude_features\"].split(\"-\") # split, e.g.: \"nationality-sex\" -> [\"nationality\", \"sex\"]\n",
    "excluded_features_dictionary = {\n",
    "    \"nationality\": [\"maxdeutsch1\", \"maxdeutsch.Missing.\"],\n",
    "    \"sex\": [\"frau1\"],\n",
    "    \"age\": [\"age\"],\n",
    "}\n"
   ]
  },
  {
   "cell_type": "code",
   "execution_count": 23,
   "id": "b745ac60",
   "metadata": {
    "execution": {
     "iopub.execute_input": "2025-07-28T11:10:14.630149Z",
     "iopub.status.busy": "2025-07-28T11:10:14.629067Z",
     "iopub.status.idle": "2025-07-28T11:10:14.636668Z",
     "shell.execute_reply": "2025-07-28T11:10:14.635360Z"
    },
    "papermill": {
     "duration": 0.032517,
     "end_time": "2025-07-28T11:10:14.638512",
     "exception": false,
     "start_time": "2025-07-28T11:10:14.605995",
     "status": "completed"
    },
    "tags": []
   },
   "outputs": [],
   "source": [
    "# Code nice names to column names\n",
    "\n",
    "excluded_features_columns = [\n",
    "    excluded_features_dictionary[f] for f in excluded_features if len(f) > 0 and f != \"none\"\n",
    "]"
   ]
  },
  {
   "cell_type": "code",
   "execution_count": 24,
   "id": "f84f73a2",
   "metadata": {
    "execution": {
     "iopub.execute_input": "2025-07-28T11:10:14.683554Z",
     "iopub.status.busy": "2025-07-28T11:10:14.682546Z",
     "iopub.status.idle": "2025-07-28T11:10:14.690541Z",
     "shell.execute_reply": "2025-07-28T11:10:14.689440Z"
    },
    "papermill": {
     "duration": 0.032583,
     "end_time": "2025-07-28T11:10:14.692400",
     "exception": false,
     "start_time": "2025-07-28T11:10:14.659817",
     "status": "completed"
    },
    "tags": []
   },
   "outputs": [],
   "source": [
    "from utils import flatten_once\n",
    "\n",
    "excluded_features_columns = flatten_once(excluded_features_columns)"
   ]
  },
  {
   "cell_type": "code",
   "execution_count": 25,
   "id": "884dea22",
   "metadata": {
    "execution": {
     "iopub.execute_input": "2025-07-28T11:10:14.738119Z",
     "iopub.status.busy": "2025-07-28T11:10:14.737204Z",
     "iopub.status.idle": "2025-07-28T11:10:14.806221Z",
     "shell.execute_reply": "2025-07-28T11:10:14.805050Z"
    },
    "papermill": {
     "duration": 0.094887,
     "end_time": "2025-07-28T11:10:14.808573",
     "exception": false,
     "start_time": "2025-07-28T11:10:14.713686",
     "status": "completed"
    },
    "tags": []
   },
   "outputs": [
    {
     "name": "stdout",
     "output_type": "stream",
     "text": [
      "Dropping features: ['age']\n"
     ]
    }
   ],
   "source": [
    "if len(excluded_features_columns) > 0:\n",
    "    print(f\"Dropping features: {excluded_features_columns}\")\n",
    "    X_train.drop(excluded_features_columns, axis=1, inplace=True)"
   ]
  },
  {
   "cell_type": "code",
   "execution_count": 26,
   "id": "95ab8b16",
   "metadata": {
    "execution": {
     "iopub.execute_input": "2025-07-28T11:10:14.865216Z",
     "iopub.status.busy": "2025-07-28T11:10:14.864483Z",
     "iopub.status.idle": "2025-07-28T11:10:14.924140Z",
     "shell.execute_reply": "2025-07-28T11:10:14.923008Z"
    },
    "papermill": {
     "duration": 0.090317,
     "end_time": "2025-07-28T11:10:14.926433",
     "exception": false,
     "start_time": "2025-07-28T11:10:14.836116",
     "status": "completed"
    },
    "tags": []
   },
   "outputs": [
    {
     "name": "stdout",
     "output_type": "stream",
     "text": [
      "Dropping features: ['age']\n"
     ]
    }
   ],
   "source": [
    "if len(excluded_features_columns) > 0:\n",
    "    print(f\"Dropping features: {excluded_features_columns}\")\n",
    "    X_test.drop(excluded_features_columns, axis=1, inplace=True)"
   ]
  },
  {
   "cell_type": "code",
   "execution_count": 27,
   "id": "1853aaf5-fb9f-46cb-a2b5-8ea4ae2237e4",
   "metadata": {
    "execution": {
     "iopub.execute_input": "2025-07-28T11:10:14.986450Z",
     "iopub.status.busy": "2025-07-28T11:10:14.985525Z",
     "iopub.status.idle": "2025-07-28T11:10:15.070177Z",
     "shell.execute_reply": "2025-07-28T11:10:15.068879Z"
    },
    "papermill": {
     "duration": 0.118085,
     "end_time": "2025-07-28T11:10:15.072653",
     "exception": false,
     "start_time": "2025-07-28T11:10:14.954568",
     "status": "completed"
    },
    "tags": []
   },
   "outputs": [
    {
     "name": "stdout",
     "output_type": "stream",
     "text": [
      "Dropping features: ['age']\n"
     ]
    }
   ],
   "source": [
    "if len(excluded_features_columns) > 0:\n",
    "    print(f\"Dropping features: {excluded_features_columns}\")\n",
    "    X_calib.drop(excluded_features_columns, axis=1, inplace=True)"
   ]
  },
  {
   "cell_type": "code",
   "execution_count": 28,
   "id": "6727d079-03e5-481e-9d38-292a90b7a0a8",
   "metadata": {
    "execution": {
     "iopub.execute_input": "2025-07-28T11:10:15.142223Z",
     "iopub.status.busy": "2025-07-28T11:10:15.141650Z",
     "iopub.status.idle": "2025-07-28T11:10:15.147564Z",
     "shell.execute_reply": "2025-07-28T11:10:15.146420Z"
    },
    "papermill": {
     "duration": 0.043094,
     "end_time": "2025-07-28T11:10:15.149909",
     "exception": false,
     "start_time": "2025-07-28T11:10:15.106815",
     "status": "completed"
    },
    "tags": []
   },
   "outputs": [],
   "source": [
    "# SPLIT & STRATIFY DATA\n",
    "# ----------------------"
   ]
  },
  {
   "cell_type": "code",
   "execution_count": 29,
   "id": "76c4dc6d",
   "metadata": {
    "execution": {
     "iopub.execute_input": "2025-07-28T11:10:15.213792Z",
     "iopub.status.busy": "2025-07-28T11:10:15.213361Z",
     "iopub.status.idle": "2025-07-28T11:10:15.220157Z",
     "shell.execute_reply": "2025-07-28T11:10:15.218906Z"
    },
    "papermill": {
     "duration": 0.038921,
     "end_time": "2025-07-28T11:10:15.222034",
     "exception": false,
     "start_time": "2025-07-28T11:10:15.183113",
     "status": "completed"
    },
    "tags": []
   },
   "outputs": [],
   "source": [
    "# EXCLUDE CERTAIN SUBGROUPS\n",
    "# ----------------------\n",
    "\n",
    "mode = universe.get(\"exclude_subgroups\", \"keep-all\") \n",
    "# Fetches the exclude_subgroups setting from the universe dict.\n",
    "# Defaults to \"keep-all\" if the key is missing."
   ]
  },
  {
   "cell_type": "code",
   "execution_count": 30,
   "id": "21994072",
   "metadata": {
    "execution": {
     "iopub.execute_input": "2025-07-28T11:10:15.269751Z",
     "iopub.status.busy": "2025-07-28T11:10:15.268951Z",
     "iopub.status.idle": "2025-07-28T11:10:15.277833Z",
     "shell.execute_reply": "2025-07-28T11:10:15.277126Z"
    },
    "papermill": {
     "duration": 0.034598,
     "end_time": "2025-07-28T11:10:15.279214",
     "exception": false,
     "start_time": "2025-07-28T11:10:15.244616",
     "status": "completed"
    },
    "tags": []
   },
   "outputs": [],
   "source": [
    "if mode == \"keep-all\":\n",
    "    keep_mask = pd.Series(True, index=org_train.index)\n",
    "\n",
    "# org_train contains the original feature columns from features_org (in Simson)\n",
    "# features_org contains unprocessed features, for me X_train at beginning ???\n",
    "# For keep-all, creates a boolean Series (keep_mask) of all True, so no rows are removed.\n",
    "\n",
    "elif mode == \"drop-non-german\":\n",
    "    keep_mask = org_train[\"maxdeutsch1\"] == 1 # ??? what about missing values?\n",
    "\n",
    "else:\n",
    "    raise ValueError(f\"Unsupported mode for exclude_subgroups: {mode}\")\n"
   ]
  },
  {
   "cell_type": "code",
   "execution_count": 31,
   "id": "71651440",
   "metadata": {
    "execution": {
     "iopub.execute_input": "2025-07-28T11:10:15.303979Z",
     "iopub.status.busy": "2025-07-28T11:10:15.303441Z",
     "iopub.status.idle": "2025-07-28T11:10:15.309616Z",
     "shell.execute_reply": "2025-07-28T11:10:15.308857Z"
    },
    "papermill": {
     "duration": 0.019581,
     "end_time": "2025-07-28T11:10:15.310970",
     "exception": false,
     "start_time": "2025-07-28T11:10:15.291389",
     "status": "completed"
    },
    "tags": []
   },
   "outputs": [],
   "source": [
    "n_drop = (~keep_mask).sum() # Calculates how many rows are set to be dropped\n",
    "if n_drop > 0:\n",
    "    pct = n_drop / len(keep_mask) * 100\n",
    "    print(f\"Dropping {n_drop} rows ({pct:.2f}%) where mode='{mode}'\")"
   ]
  },
  {
   "cell_type": "code",
   "execution_count": 32,
   "id": "5fb8eee5",
   "metadata": {
    "execution": {
     "iopub.execute_input": "2025-07-28T11:10:15.336056Z",
     "iopub.status.busy": "2025-07-28T11:10:15.335470Z",
     "iopub.status.idle": "2025-07-28T11:10:15.389516Z",
     "shell.execute_reply": "2025-07-28T11:10:15.388685Z"
    },
    "papermill": {
     "duration": 0.067855,
     "end_time": "2025-07-28T11:10:15.391091",
     "exception": false,
     "start_time": "2025-07-28T11:10:15.323236",
     "status": "completed"
    },
    "tags": []
   },
   "outputs": [],
   "source": [
    "X_train = X_train[keep_mask]"
   ]
  },
  {
   "cell_type": "code",
   "execution_count": 33,
   "id": "b202bb3a",
   "metadata": {
    "execution": {
     "iopub.execute_input": "2025-07-28T11:10:15.417241Z",
     "iopub.status.busy": "2025-07-28T11:10:15.416677Z",
     "iopub.status.idle": "2025-07-28T11:10:15.423285Z",
     "shell.execute_reply": "2025-07-28T11:10:15.422552Z"
    },
    "papermill": {
     "duration": 0.020701,
     "end_time": "2025-07-28T11:10:15.424864",
     "exception": false,
     "start_time": "2025-07-28T11:10:15.404163",
     "status": "completed"
    },
    "tags": []
   },
   "outputs": [],
   "source": [
    "y_train = y_train[keep_mask]"
   ]
  },
  {
   "cell_type": "markdown",
   "id": "493e2ac3",
   "metadata": {
    "papermill": {
     "duration": 0.011313,
     "end_time": "2025-07-28T11:10:15.448002",
     "exception": false,
     "start_time": "2025-07-28T11:10:15.436689",
     "status": "completed"
    },
    "tags": []
   },
   "source": [
    "# Model Training"
   ]
  },
  {
   "cell_type": "code",
   "execution_count": 34,
   "id": "679e1268",
   "metadata": {
    "execution": {
     "iopub.execute_input": "2025-07-28T11:10:15.472533Z",
     "iopub.status.busy": "2025-07-28T11:10:15.471955Z",
     "iopub.status.idle": "2025-07-28T11:10:15.558821Z",
     "shell.execute_reply": "2025-07-28T11:10:15.557614Z"
    },
    "papermill": {
     "duration": 0.101926,
     "end_time": "2025-07-28T11:10:15.561111",
     "exception": false,
     "start_time": "2025-07-28T11:10:15.459185",
     "status": "completed"
    },
    "tags": []
   },
   "outputs": [],
   "source": [
    "from sklearn.linear_model import LogisticRegression\n",
    "from sklearn.ensemble import GradientBoostingClassifier, RandomForestClassifier\n",
    "\n",
    "if (universe[\"model\"] == \"logreg\"):\n",
    "    model = LogisticRegression() #penalty=\"none\") #, solver=\"newton-cg\", max_iter=1) # include random_state=19 ?\n",
    "elif (universe[\"model\"] == \"penalized_logreg\"):\n",
    "    model = LogisticRegression(penalty=\"l2\", C=1.0) #, solver=\"newton-cg\", max_iter=1)\n",
    "elif (universe[\"model\"] == \"rf\"):\n",
    "    model = RandomForestClassifier(n_estimators=100, n_jobs=-1)\n",
    "elif (universe[\"model\"] == \"gbm\"):\n",
    "    model = GradientBoostingClassifier()\n",
    "elif (universe[\"model\"] == \"elasticnet\"):\n",
    "    model = LogisticRegression(penalty = 'elasticnet', solver = 'saga', l1_ratio = 0.5, max_iter=5000) # which solver to use?\n",
    "else:\n",
    "    raise \"Unsupported universe.model\""
   ]
  },
  {
   "cell_type": "code",
   "execution_count": 35,
   "id": "0cc8f744",
   "metadata": {
    "execution": {
     "iopub.execute_input": "2025-07-28T11:10:15.609237Z",
     "iopub.status.busy": "2025-07-28T11:10:15.608243Z",
     "iopub.status.idle": "2025-07-28T11:10:15.617047Z",
     "shell.execute_reply": "2025-07-28T11:10:15.615808Z"
    },
    "papermill": {
     "duration": 0.034877,
     "end_time": "2025-07-28T11:10:15.619034",
     "exception": false,
     "start_time": "2025-07-28T11:10:15.584157",
     "status": "completed"
    },
    "tags": []
   },
   "outputs": [],
   "source": [
    "import numpy as np\n",
    "from sklearn.pipeline import Pipeline\n",
    "from sklearn.preprocessing import StandardScaler\n",
    "\n",
    "model = Pipeline([\n",
    "    #(\"continuous_processor\", continuous_processor),\n",
    "    #(\"categorical_preprocessor\", categorical_preprocessor),\n",
    "    (\"scale\", StandardScaler() if universe[\"scale\"] == \"scale\" else None), \n",
    "    (\"model\", model),\n",
    "])"
   ]
  },
  {
   "cell_type": "code",
   "execution_count": 36,
   "id": "9442c04d",
   "metadata": {
    "execution": {
     "iopub.execute_input": "2025-07-28T11:10:15.651144Z",
     "iopub.status.busy": "2025-07-28T11:10:15.650324Z",
     "iopub.status.idle": "2025-07-28T11:12:07.022134Z",
     "shell.execute_reply": "2025-07-28T11:12:07.021040Z"
    },
    "papermill": {
     "duration": 111.401265,
     "end_time": "2025-07-28T11:12:07.038738",
     "exception": false,
     "start_time": "2025-07-28T11:10:15.637473",
     "status": "completed"
    },
    "tags": []
   },
   "outputs": [
    {
     "data": {
      "text/html": [
       "<style>#sk-container-id-1 {color: black;background-color: white;}#sk-container-id-1 pre{padding: 0;}#sk-container-id-1 div.sk-toggleable {background-color: white;}#sk-container-id-1 label.sk-toggleable__label {cursor: pointer;display: block;width: 100%;margin-bottom: 0;padding: 0.3em;box-sizing: border-box;text-align: center;}#sk-container-id-1 label.sk-toggleable__label-arrow:before {content: \"▸\";float: left;margin-right: 0.25em;color: #696969;}#sk-container-id-1 label.sk-toggleable__label-arrow:hover:before {color: black;}#sk-container-id-1 div.sk-estimator:hover label.sk-toggleable__label-arrow:before {color: black;}#sk-container-id-1 div.sk-toggleable__content {max-height: 0;max-width: 0;overflow: hidden;text-align: left;background-color: #f0f8ff;}#sk-container-id-1 div.sk-toggleable__content pre {margin: 0.2em;color: black;border-radius: 0.25em;background-color: #f0f8ff;}#sk-container-id-1 input.sk-toggleable__control:checked~div.sk-toggleable__content {max-height: 200px;max-width: 100%;overflow: auto;}#sk-container-id-1 input.sk-toggleable__control:checked~label.sk-toggleable__label-arrow:before {content: \"▾\";}#sk-container-id-1 div.sk-estimator input.sk-toggleable__control:checked~label.sk-toggleable__label {background-color: #d4ebff;}#sk-container-id-1 div.sk-label input.sk-toggleable__control:checked~label.sk-toggleable__label {background-color: #d4ebff;}#sk-container-id-1 input.sk-hidden--visually {border: 0;clip: rect(1px 1px 1px 1px);clip: rect(1px, 1px, 1px, 1px);height: 1px;margin: -1px;overflow: hidden;padding: 0;position: absolute;width: 1px;}#sk-container-id-1 div.sk-estimator {font-family: monospace;background-color: #f0f8ff;border: 1px dotted black;border-radius: 0.25em;box-sizing: border-box;margin-bottom: 0.5em;}#sk-container-id-1 div.sk-estimator:hover {background-color: #d4ebff;}#sk-container-id-1 div.sk-parallel-item::after {content: \"\";width: 100%;border-bottom: 1px solid gray;flex-grow: 1;}#sk-container-id-1 div.sk-label:hover label.sk-toggleable__label {background-color: #d4ebff;}#sk-container-id-1 div.sk-serial::before {content: \"\";position: absolute;border-left: 1px solid gray;box-sizing: border-box;top: 0;bottom: 0;left: 50%;z-index: 0;}#sk-container-id-1 div.sk-serial {display: flex;flex-direction: column;align-items: center;background-color: white;padding-right: 0.2em;padding-left: 0.2em;position: relative;}#sk-container-id-1 div.sk-item {position: relative;z-index: 1;}#sk-container-id-1 div.sk-parallel {display: flex;align-items: stretch;justify-content: center;background-color: white;position: relative;}#sk-container-id-1 div.sk-item::before, #sk-container-id-1 div.sk-parallel-item::before {content: \"\";position: absolute;border-left: 1px solid gray;box-sizing: border-box;top: 0;bottom: 0;left: 50%;z-index: -1;}#sk-container-id-1 div.sk-parallel-item {display: flex;flex-direction: column;z-index: 1;position: relative;background-color: white;}#sk-container-id-1 div.sk-parallel-item:first-child::after {align-self: flex-end;width: 50%;}#sk-container-id-1 div.sk-parallel-item:last-child::after {align-self: flex-start;width: 50%;}#sk-container-id-1 div.sk-parallel-item:only-child::after {width: 0;}#sk-container-id-1 div.sk-dashed-wrapped {border: 1px dashed gray;margin: 0 0.4em 0.5em 0.4em;box-sizing: border-box;padding-bottom: 0.4em;background-color: white;}#sk-container-id-1 div.sk-label label {font-family: monospace;font-weight: bold;display: inline-block;line-height: 1.2em;}#sk-container-id-1 div.sk-label-container {text-align: center;}#sk-container-id-1 div.sk-container {/* jupyter's `normalize.less` sets `[hidden] { display: none; }` but bootstrap.min.css set `[hidden] { display: none !important; }` so we also need the `!important` here to be able to override the default hidden behavior on the sphinx rendered scikit-learn.org. See: https://github.com/scikit-learn/scikit-learn/issues/21755 */display: inline-block !important;position: relative;}#sk-container-id-1 div.sk-text-repr-fallback {display: none;}</style><div id=\"sk-container-id-1\" class=\"sk-top-container\"><div class=\"sk-text-repr-fallback\"><pre>Pipeline(steps=[(&#x27;scale&#x27;, None), (&#x27;model&#x27;, GradientBoostingClassifier())])</pre><b>In a Jupyter environment, please rerun this cell to show the HTML representation or trust the notebook. <br />On GitHub, the HTML representation is unable to render, please try loading this page with nbviewer.org.</b></div><div class=\"sk-container\" hidden><div class=\"sk-item sk-dashed-wrapped\"><div class=\"sk-label-container\"><div class=\"sk-label sk-toggleable\"><input class=\"sk-toggleable__control sk-hidden--visually\" id=\"sk-estimator-id-1\" type=\"checkbox\" ><label for=\"sk-estimator-id-1\" class=\"sk-toggleable__label sk-toggleable__label-arrow\">Pipeline</label><div class=\"sk-toggleable__content\"><pre>Pipeline(steps=[(&#x27;scale&#x27;, None), (&#x27;model&#x27;, GradientBoostingClassifier())])</pre></div></div></div><div class=\"sk-serial\"><div class=\"sk-item\"><div class=\"sk-estimator sk-toggleable\"><input class=\"sk-toggleable__control sk-hidden--visually\" id=\"sk-estimator-id-2\" type=\"checkbox\" ><label for=\"sk-estimator-id-2\" class=\"sk-toggleable__label sk-toggleable__label-arrow\">None</label><div class=\"sk-toggleable__content\"><pre>None</pre></div></div></div><div class=\"sk-item\"><div class=\"sk-estimator sk-toggleable\"><input class=\"sk-toggleable__control sk-hidden--visually\" id=\"sk-estimator-id-3\" type=\"checkbox\" ><label for=\"sk-estimator-id-3\" class=\"sk-toggleable__label sk-toggleable__label-arrow\">GradientBoostingClassifier</label><div class=\"sk-toggleable__content\"><pre>GradientBoostingClassifier()</pre></div></div></div></div></div></div></div>"
      ],
      "text/plain": [
       "Pipeline(steps=[('scale', None), ('model', GradientBoostingClassifier())])"
      ]
     },
     "execution_count": 36,
     "metadata": {},
     "output_type": "execute_result"
    }
   ],
   "source": [
    "model.fit(X_train, y_train.values.ravel())"
   ]
  },
  {
   "cell_type": "code",
   "execution_count": 37,
   "id": "af59f8c0",
   "metadata": {
    "execution": {
     "iopub.execute_input": "2025-07-28T11:12:07.082043Z",
     "iopub.status.busy": "2025-07-28T11:12:07.081114Z",
     "iopub.status.idle": "2025-07-28T11:12:07.086779Z",
     "shell.execute_reply": "2025-07-28T11:12:07.085854Z"
    },
    "papermill": {
     "duration": 0.029247,
     "end_time": "2025-07-28T11:12:07.088544",
     "exception": false,
     "start_time": "2025-07-28T11:12:07.059297",
     "status": "completed"
    },
    "tags": []
   },
   "outputs": [],
   "source": [
    "from fairness_multiverse.universe import predict_w_threshold"
   ]
  },
  {
   "cell_type": "code",
   "execution_count": 38,
   "id": "a7cf2e16",
   "metadata": {
    "execution": {
     "iopub.execute_input": "2025-07-28T11:12:07.131457Z",
     "iopub.status.busy": "2025-07-28T11:12:07.130785Z",
     "iopub.status.idle": "2025-07-28T11:12:07.841357Z",
     "shell.execute_reply": "2025-07-28T11:12:07.840428Z"
    },
    "papermill": {
     "duration": 0.733744,
     "end_time": "2025-07-28T11:12:07.843113",
     "exception": false,
     "start_time": "2025-07-28T11:12:07.109369",
     "status": "completed"
    },
    "tags": []
   },
   "outputs": [
    {
     "data": {
      "text/plain": [
       "0.8705049604280459"
      ]
     },
     "execution_count": 38,
     "metadata": {},
     "output_type": "execute_result"
    }
   ],
   "source": [
    "probs_test = model.predict_proba(X_test)\n",
    "\n",
    "'''\n",
    "Below code returns a boolean array (or binary 0/1 array depending on how it’s used) where each element \n",
    "is True if the probability of class 1 is greater than or equal to the threshold, and False otherwise.\n",
    "'''\n",
    "y_pred_default = predict_w_threshold(probs_test, 0.5)\n",
    "\n",
    "from sklearn.metrics import accuracy_score\n",
    "\n",
    "# Naive prediction\n",
    "accuracy_score(y_true = y_true, y_pred = y_pred_default)"
   ]
  },
  {
   "cell_type": "code",
   "execution_count": 39,
   "id": "081964c3",
   "metadata": {
    "execution": {
     "iopub.execute_input": "2025-07-28T11:12:07.887355Z",
     "iopub.status.busy": "2025-07-28T11:12:07.886865Z",
     "iopub.status.idle": "2025-07-28T11:12:08.541197Z",
     "shell.execute_reply": "2025-07-28T11:12:08.540188Z"
    },
    "papermill": {
     "duration": 0.678228,
     "end_time": "2025-07-28T11:12:08.543086",
     "exception": false,
     "start_time": "2025-07-28T11:12:07.864858",
     "status": "completed"
    },
    "tags": []
   },
   "outputs": [
    {
     "data": {
      "text/plain": [
       "array([0, 0, 0, ..., 0, 0, 0])"
      ]
     },
     "execution_count": 39,
     "metadata": {},
     "output_type": "execute_result"
    }
   ],
   "source": [
    "model.predict(X_test)"
   ]
  },
  {
   "cell_type": "markdown",
   "id": "56c9705b",
   "metadata": {
    "papermill": {
     "duration": 0.021181,
     "end_time": "2025-07-28T11:12:08.586201",
     "exception": false,
     "start_time": "2025-07-28T11:12:08.565020",
     "status": "completed"
    },
    "tags": []
   },
   "source": [
    "# Conformal Prediction"
   ]
  },
  {
   "cell_type": "code",
   "execution_count": 40,
   "id": "160ec6ff",
   "metadata": {
    "execution": {
     "iopub.execute_input": "2025-07-28T11:12:08.630383Z",
     "iopub.status.busy": "2025-07-28T11:12:08.629687Z",
     "iopub.status.idle": "2025-07-28T11:12:08.634928Z",
     "shell.execute_reply": "2025-07-28T11:12:08.633975Z"
    },
    "papermill": {
     "duration": 0.02926,
     "end_time": "2025-07-28T11:12:08.636629",
     "exception": false,
     "start_time": "2025-07-28T11:12:08.607369",
     "status": "completed"
    },
    "tags": []
   },
   "outputs": [],
   "source": [
    "# Miscoverage level for conformal prediction (10% allowed error rate => 90% target coverage)\n",
    "alpha = 0.1"
   ]
  },
  {
   "cell_type": "code",
   "execution_count": 41,
   "id": "eadf4555-3dd3-440e-8e35-f82a4ad9f855",
   "metadata": {
    "execution": {
     "iopub.execute_input": "2025-07-28T11:12:08.681226Z",
     "iopub.status.busy": "2025-07-28T11:12:08.680536Z",
     "iopub.status.idle": "2025-07-28T11:12:09.271827Z",
     "shell.execute_reply": "2025-07-28T11:12:09.270868Z"
    },
    "papermill": {
     "duration": 0.615439,
     "end_time": "2025-07-28T11:12:09.273672",
     "exception": false,
     "start_time": "2025-07-28T11:12:08.658233",
     "status": "completed"
    },
    "tags": []
   },
   "outputs": [],
   "source": [
    "probs_calib = model.predict_proba(X_calib)"
   ]
  },
  {
   "cell_type": "code",
   "execution_count": 42,
   "id": "2ed93547-6d5d-4983-9b36-1ecb300da49a",
   "metadata": {
    "execution": {
     "iopub.execute_input": "2025-07-28T11:12:09.319166Z",
     "iopub.status.busy": "2025-07-28T11:12:09.318637Z",
     "iopub.status.idle": "2025-07-28T11:12:09.324390Z",
     "shell.execute_reply": "2025-07-28T11:12:09.323471Z"
    },
    "papermill": {
     "duration": 0.03025,
     "end_time": "2025-07-28T11:12:09.326000",
     "exception": false,
     "start_time": "2025-07-28T11:12:09.295750",
     "status": "completed"
    },
    "tags": []
   },
   "outputs": [],
   "source": [
    "y_calib = y_calib.values.ravel().astype(int)"
   ]
  },
  {
   "cell_type": "code",
   "execution_count": 43,
   "id": "65d1320d-f588-4b38-9072-62af1ae97f7d",
   "metadata": {
    "execution": {
     "iopub.execute_input": "2025-07-28T11:12:09.371975Z",
     "iopub.status.busy": "2025-07-28T11:12:09.370943Z",
     "iopub.status.idle": "2025-07-28T11:12:09.378788Z",
     "shell.execute_reply": "2025-07-28T11:12:09.377915Z"
    },
    "papermill": {
     "duration": 0.032709,
     "end_time": "2025-07-28T11:12:09.380557",
     "exception": false,
     "start_time": "2025-07-28T11:12:09.347848",
     "status": "completed"
    },
    "tags": []
   },
   "outputs": [],
   "source": [
    "from fairness_multiverse.conformal import compute_nc_scores\n",
    "\n",
    "# Compute nonconformity scores on calibration set (1 - probability of true class)\n",
    "nc_scores = compute_nc_scores(probs_calib, y_calib)"
   ]
  },
  {
   "cell_type": "code",
   "execution_count": 44,
   "id": "df3b8ca3-53b7-43d5-9667-7c85da7aeda2",
   "metadata": {
    "execution": {
     "iopub.execute_input": "2025-07-28T11:12:09.426154Z",
     "iopub.status.busy": "2025-07-28T11:12:09.425455Z",
     "iopub.status.idle": "2025-07-28T11:12:09.432620Z",
     "shell.execute_reply": "2025-07-28T11:12:09.431651Z"
    },
    "papermill": {
     "duration": 0.031767,
     "end_time": "2025-07-28T11:12:09.434212",
     "exception": false,
     "start_time": "2025-07-28T11:12:09.402445",
     "status": "completed"
    },
    "tags": []
   },
   "outputs": [],
   "source": [
    "from fairness_multiverse.conformal import find_threshold\n",
    "\n",
    "# Find conformal threshold q_hat for the given alpha (split conformal method)\n",
    "q_hat = find_threshold(nc_scores, alpha)"
   ]
  },
  {
   "cell_type": "code",
   "execution_count": 45,
   "id": "4d29e6c1-0ef6-4aa4-b8fe-4fe79b0d033a",
   "metadata": {
    "execution": {
     "iopub.execute_input": "2025-07-28T11:12:09.479290Z",
     "iopub.status.busy": "2025-07-28T11:12:09.478822Z",
     "iopub.status.idle": "2025-07-28T11:12:09.486167Z",
     "shell.execute_reply": "2025-07-28T11:12:09.485322Z"
    },
    "papermill": {
     "duration": 0.031481,
     "end_time": "2025-07-28T11:12:09.487702",
     "exception": false,
     "start_time": "2025-07-28T11:12:09.456221",
     "status": "completed"
    },
    "tags": []
   },
   "outputs": [
    {
     "data": {
      "text/plain": [
       "0.6809489646759914"
      ]
     },
     "execution_count": 45,
     "metadata": {},
     "output_type": "execute_result"
    }
   ],
   "source": [
    "q_hat"
   ]
  },
  {
   "cell_type": "code",
   "execution_count": 46,
   "id": "92460794-cdac-4be2-ba28-f28c0515a6fb",
   "metadata": {
    "execution": {
     "iopub.execute_input": "2025-07-28T11:12:09.533764Z",
     "iopub.status.busy": "2025-07-28T11:12:09.533045Z",
     "iopub.status.idle": "2025-07-28T11:12:10.941745Z",
     "shell.execute_reply": "2025-07-28T11:12:10.940753Z"
    },
    "papermill": {
     "duration": 1.433615,
     "end_time": "2025-07-28T11:12:10.943650",
     "exception": false,
     "start_time": "2025-07-28T11:12:09.510035",
     "status": "completed"
    },
    "tags": []
   },
   "outputs": [],
   "source": [
    "from fairness_multiverse.conformal import predict_conformal_sets\n",
    "\n",
    "# Generate prediction sets for each test example\n",
    "pred_sets = predict_conformal_sets(model, X_test, q_hat)"
   ]
  },
  {
   "cell_type": "code",
   "execution_count": 47,
   "id": "d90c9a65-e6db-4f5d-80cd-e68fb7e46829",
   "metadata": {
    "execution": {
     "iopub.execute_input": "2025-07-28T11:12:10.989054Z",
     "iopub.status.busy": "2025-07-28T11:12:10.988563Z",
     "iopub.status.idle": "2025-07-28T11:12:10.994096Z",
     "shell.execute_reply": "2025-07-28T11:12:10.993144Z"
    },
    "papermill": {
     "duration": 0.029792,
     "end_time": "2025-07-28T11:12:10.995731",
     "exception": false,
     "start_time": "2025-07-28T11:12:10.965939",
     "status": "completed"
    },
    "tags": []
   },
   "outputs": [],
   "source": [
    "y_true = y_true.squeeze()"
   ]
  },
  {
   "cell_type": "code",
   "execution_count": 48,
   "id": "3a58a54a-1e68-46b9-927a-df01f18aebc8",
   "metadata": {
    "execution": {
     "iopub.execute_input": "2025-07-28T11:12:11.041489Z",
     "iopub.status.busy": "2025-07-28T11:12:11.040994Z",
     "iopub.status.idle": "2025-07-28T11:12:11.950996Z",
     "shell.execute_reply": "2025-07-28T11:12:11.950098Z"
    },
    "papermill": {
     "duration": 0.935025,
     "end_time": "2025-07-28T11:12:11.953025",
     "exception": false,
     "start_time": "2025-07-28T11:12:11.018000",
     "status": "completed"
    },
    "tags": []
   },
   "outputs": [],
   "source": [
    "from fairness_multiverse.conformal import evaluate_sets\n",
    "\n",
    "# Evaluate coverage and average set size on test data\n",
    "metrics = evaluate_sets(pred_sets, y_true)"
   ]
  },
  {
   "cell_type": "markdown",
   "id": "2b569c12-9aaa-4c88-98c9-bbcd0cf3ebb8",
   "metadata": {
    "papermill": {
     "duration": 0.021839,
     "end_time": "2025-07-28T11:12:11.997729",
     "exception": false,
     "start_time": "2025-07-28T11:12:11.975890",
     "status": "completed"
    },
    "tags": []
   },
   "source": [
    "# CP Metrics"
   ]
  },
  {
   "cell_type": "code",
   "execution_count": 49,
   "id": "5ce0a5cb-201f-45a0-ade5-94c7f0bd6095",
   "metadata": {
    "execution": {
     "iopub.execute_input": "2025-07-28T11:12:12.043310Z",
     "iopub.status.busy": "2025-07-28T11:12:12.042325Z",
     "iopub.status.idle": "2025-07-28T11:12:12.049636Z",
     "shell.execute_reply": "2025-07-28T11:12:12.048683Z"
    },
    "papermill": {
     "duration": 0.031771,
     "end_time": "2025-07-28T11:12:12.051154",
     "exception": false,
     "start_time": "2025-07-28T11:12:12.019383",
     "status": "completed"
    },
    "tags": []
   },
   "outputs": [
    {
     "data": {
      "text/plain": [
       "{'coverage': 0.9106900011147029, 'avg_size': 1.113142347564374}"
      ]
     },
     "execution_count": 49,
     "metadata": {},
     "output_type": "execute_result"
    }
   ],
   "source": [
    "metrics"
   ]
  },
  {
   "cell_type": "code",
   "execution_count": 50,
   "id": "9b9a838d-31c9-430b-ae14-12baee460d17",
   "metadata": {
    "execution": {
     "iopub.execute_input": "2025-07-28T11:12:12.097412Z",
     "iopub.status.busy": "2025-07-28T11:12:12.096738Z",
     "iopub.status.idle": "2025-07-28T11:12:12.103528Z",
     "shell.execute_reply": "2025-07-28T11:12:12.102611Z"
    },
    "papermill": {
     "duration": 0.031534,
     "end_time": "2025-07-28T11:12:12.105154",
     "exception": false,
     "start_time": "2025-07-28T11:12:12.073620",
     "status": "completed"
    },
    "tags": []
   },
   "outputs": [],
   "source": [
    "example_universe = universe.copy()\n",
    "universe_training_size = example_universe.get(\"training_size\")\n",
    "universe_scale = example_universe.get(\"scale\")\n",
    "universe_model = example_universe.get(\"model\")\n",
    "universe_exclude_features = example_universe.get(\"exclude_features\")\n",
    "universe_exclude_subgroups = example_universe.get(\"exclude_subgroups\")"
   ]
  },
  {
   "cell_type": "code",
   "execution_count": 51,
   "id": "f4b6a8ac-9dc0-4245-8a91-5b3b5999c4f9",
   "metadata": {
    "execution": {
     "iopub.execute_input": "2025-07-28T11:12:12.151908Z",
     "iopub.status.busy": "2025-07-28T11:12:12.151157Z",
     "iopub.status.idle": "2025-07-28T11:12:12.157947Z",
     "shell.execute_reply": "2025-07-28T11:12:12.157002Z"
    },
    "papermill": {
     "duration": 0.031815,
     "end_time": "2025-07-28T11:12:12.159617",
     "exception": false,
     "start_time": "2025-07-28T11:12:12.127802",
     "status": "completed"
    },
    "tags": []
   },
   "outputs": [],
   "source": [
    "cp_metrics_dict = {\n",
    "    \"universe_id\": [universe_id],\n",
    "    \"universe_training_size\": [universe_training_size],\n",
    "    \"universe_scale\": [universe_scale],\n",
    "    \"universe_model\": [universe_model],\n",
    "    \"universe_exclude_features\": [universe_exclude_features],\n",
    "    \"universe_exclude_subgroups\": [universe_exclude_subgroups],\n",
    "    \"q_hat\": [q_hat],\n",
    "    \"coverage\": [metrics[\"coverage\"]],\n",
    "    \"avg_size\": [metrics[\"avg_size\"]],\n",
    "}"
   ]
  },
  {
   "cell_type": "code",
   "execution_count": 52,
   "id": "908acbb1-0371-4915-85ca-3fa520d2efe2",
   "metadata": {
    "execution": {
     "iopub.execute_input": "2025-07-28T11:12:12.205862Z",
     "iopub.status.busy": "2025-07-28T11:12:12.205159Z",
     "iopub.status.idle": "2025-07-28T11:12:12.212839Z",
     "shell.execute_reply": "2025-07-28T11:12:12.211970Z"
    },
    "papermill": {
     "duration": 0.032602,
     "end_time": "2025-07-28T11:12:12.214509",
     "exception": false,
     "start_time": "2025-07-28T11:12:12.181907",
     "status": "completed"
    },
    "tags": []
   },
   "outputs": [
    {
     "data": {
      "text/plain": [
       "{'universe_id': ['a5155b5c9f58478611a3b78679bb7631'],\n",
       " 'universe_training_size': ['2014'],\n",
       " 'universe_scale': ['do-not-scale'],\n",
       " 'universe_model': ['gbm'],\n",
       " 'universe_exclude_features': ['age'],\n",
       " 'universe_exclude_subgroups': ['keep-all'],\n",
       " 'q_hat': [0.6809489646759914],\n",
       " 'coverage': [0.9106900011147029],\n",
       " 'avg_size': [1.113142347564374]}"
      ]
     },
     "execution_count": 52,
     "metadata": {},
     "output_type": "execute_result"
    }
   ],
   "source": [
    "cp_metrics_dict"
   ]
  },
  {
   "cell_type": "code",
   "execution_count": 53,
   "id": "33007efc-14e9-4ec6-97ac-56a455c82265",
   "metadata": {
    "execution": {
     "iopub.execute_input": "2025-07-28T11:12:12.261743Z",
     "iopub.status.busy": "2025-07-28T11:12:12.261027Z",
     "iopub.status.idle": "2025-07-28T11:12:12.268422Z",
     "shell.execute_reply": "2025-07-28T11:12:12.267532Z"
    },
    "papermill": {
     "duration": 0.032662,
     "end_time": "2025-07-28T11:12:12.270023",
     "exception": false,
     "start_time": "2025-07-28T11:12:12.237361",
     "status": "completed"
    },
    "tags": []
   },
   "outputs": [],
   "source": [
    "cp_metrics_df = pd.DataFrame(cp_metrics_dict)"
   ]
  },
  {
   "cell_type": "code",
   "execution_count": 54,
   "id": "db12611b-57b2-4910-b9d0-355adfd6e7bf",
   "metadata": {
    "execution": {
     "iopub.execute_input": "2025-07-28T11:12:12.317279Z",
     "iopub.status.busy": "2025-07-28T11:12:12.316603Z",
     "iopub.status.idle": "2025-07-28T11:12:12.335064Z",
     "shell.execute_reply": "2025-07-28T11:12:12.334132Z"
    },
    "papermill": {
     "duration": 0.043684,
     "end_time": "2025-07-28T11:12:12.336703",
     "exception": false,
     "start_time": "2025-07-28T11:12:12.293019",
     "status": "completed"
    },
    "tags": []
   },
   "outputs": [
    {
     "data": {
      "text/html": [
       "<div>\n",
       "<style scoped>\n",
       "    .dataframe tbody tr th:only-of-type {\n",
       "        vertical-align: middle;\n",
       "    }\n",
       "\n",
       "    .dataframe tbody tr th {\n",
       "        vertical-align: top;\n",
       "    }\n",
       "\n",
       "    .dataframe thead th {\n",
       "        text-align: right;\n",
       "    }\n",
       "</style>\n",
       "<table border=\"1\" class=\"dataframe\">\n",
       "  <thead>\n",
       "    <tr style=\"text-align: right;\">\n",
       "      <th></th>\n",
       "      <th>universe_id</th>\n",
       "      <th>universe_training_size</th>\n",
       "      <th>universe_scale</th>\n",
       "      <th>universe_model</th>\n",
       "      <th>universe_exclude_features</th>\n",
       "      <th>universe_exclude_subgroups</th>\n",
       "      <th>q_hat</th>\n",
       "      <th>coverage</th>\n",
       "      <th>avg_size</th>\n",
       "    </tr>\n",
       "  </thead>\n",
       "  <tbody>\n",
       "    <tr>\n",
       "      <th>0</th>\n",
       "      <td>a5155b5c9f58478611a3b78679bb7631</td>\n",
       "      <td>2014</td>\n",
       "      <td>do-not-scale</td>\n",
       "      <td>gbm</td>\n",
       "      <td>age</td>\n",
       "      <td>keep-all</td>\n",
       "      <td>0.680949</td>\n",
       "      <td>0.91069</td>\n",
       "      <td>1.113142</td>\n",
       "    </tr>\n",
       "  </tbody>\n",
       "</table>\n",
       "</div>"
      ],
      "text/plain": [
       "                        universe_id universe_training_size universe_scale  \\\n",
       "0  a5155b5c9f58478611a3b78679bb7631                   2014   do-not-scale   \n",
       "\n",
       "  universe_model universe_exclude_features universe_exclude_subgroups  \\\n",
       "0            gbm                       age                   keep-all   \n",
       "\n",
       "      q_hat  coverage  avg_size  \n",
       "0  0.680949   0.91069  1.113142  "
      ]
     },
     "execution_count": 54,
     "metadata": {},
     "output_type": "execute_result"
    }
   ],
   "source": [
    "cp_metrics_df"
   ]
  },
  {
   "cell_type": "code",
   "execution_count": 55,
   "id": "b7fbde55-a0a1-47e4-9af6-fe4a17fa8c61",
   "metadata": {
    "execution": {
     "iopub.execute_input": "2025-07-28T11:12:12.384834Z",
     "iopub.status.busy": "2025-07-28T11:12:12.384106Z",
     "iopub.status.idle": "2025-07-28T11:12:12.389316Z",
     "shell.execute_reply": "2025-07-28T11:12:12.388441Z"
    },
    "papermill": {
     "duration": 0.030807,
     "end_time": "2025-07-28T11:12:12.390845",
     "exception": false,
     "start_time": "2025-07-28T11:12:12.360038",
     "status": "completed"
    },
    "tags": []
   },
   "outputs": [],
   "source": [
    "# Conditional Coverage & looking at subgroups"
   ]
  },
  {
   "cell_type": "code",
   "execution_count": 56,
   "id": "027ae886-68dd-4141-96c7-805a5450e1ef",
   "metadata": {
    "execution": {
     "iopub.execute_input": "2025-07-28T11:12:12.439520Z",
     "iopub.status.busy": "2025-07-28T11:12:12.438855Z",
     "iopub.status.idle": "2025-07-28T11:12:12.707555Z",
     "shell.execute_reply": "2025-07-28T11:12:12.706660Z"
    },
    "papermill": {
     "duration": 0.295774,
     "end_time": "2025-07-28T11:12:12.709504",
     "exception": false,
     "start_time": "2025-07-28T11:12:12.413730",
     "status": "completed"
    },
    "tags": []
   },
   "outputs": [],
   "source": [
    "from fairness_multiverse.conformal import build_cp_groups\n",
    "\n",
    "cp_groups_df = build_cp_groups(pred_sets, y_true, X_test.index, org_test)\n",
    "#needs universe_id and setting"
   ]
  },
  {
   "cell_type": "code",
   "execution_count": 57,
   "id": "01d5802c-663a-4d1f-9d69-e036faaffbf7",
   "metadata": {
    "execution": {
     "iopub.execute_input": "2025-07-28T11:12:12.758801Z",
     "iopub.status.busy": "2025-07-28T11:12:12.758125Z",
     "iopub.status.idle": "2025-07-28T11:12:12.763665Z",
     "shell.execute_reply": "2025-07-28T11:12:12.762791Z"
    },
    "papermill": {
     "duration": 0.032104,
     "end_time": "2025-07-28T11:12:12.765228",
     "exception": false,
     "start_time": "2025-07-28T11:12:12.733124",
     "status": "completed"
    },
    "tags": []
   },
   "outputs": [],
   "source": [
    "#delete\n",
    "#cp_groups_df"
   ]
  },
  {
   "cell_type": "code",
   "execution_count": 58,
   "id": "fa424af1-d1eb-443d-b717-2d279ada8408",
   "metadata": {
    "execution": {
     "iopub.execute_input": "2025-07-28T11:12:12.812401Z",
     "iopub.status.busy": "2025-07-28T11:12:12.811986Z",
     "iopub.status.idle": "2025-07-28T11:12:12.818121Z",
     "shell.execute_reply": "2025-07-28T11:12:12.817214Z"
    },
    "papermill": {
     "duration": 0.031401,
     "end_time": "2025-07-28T11:12:12.819656",
     "exception": false,
     "start_time": "2025-07-28T11:12:12.788255",
     "status": "completed"
    },
    "tags": []
   },
   "outputs": [],
   "source": [
    "#delete\n",
    "#percentage = (cp_groups_df['nongerman_female'] == 1).mean() * 100\n",
    "#print(percentage)\n"
   ]
  },
  {
   "cell_type": "code",
   "execution_count": 59,
   "id": "6cbdab96-b2b2-45af-ad54-d0516db2e28d",
   "metadata": {
    "execution": {
     "iopub.execute_input": "2025-07-28T11:12:12.867387Z",
     "iopub.status.busy": "2025-07-28T11:12:12.866466Z",
     "iopub.status.idle": "2025-07-28T11:12:14.525894Z",
     "shell.execute_reply": "2025-07-28T11:12:14.524911Z"
    },
    "papermill": {
     "duration": 1.685272,
     "end_time": "2025-07-28T11:12:14.527848",
     "exception": false,
     "start_time": "2025-07-28T11:12:12.842576",
     "status": "completed"
    },
    "tags": []
   },
   "outputs": [],
   "source": [
    "# Define covered = 1 if true_label is in the predicted set\n",
    "cp_groups_df['covered'] = cp_groups_df.apply(\n",
    "    lambda r: int(r['true_label'] in r['pred_set']),\n",
    "    axis=1\n",
    ")"
   ]
  },
  {
   "cell_type": "code",
   "execution_count": 60,
   "id": "338ff529-1a6b-4b87-a931-8e4788d52aad",
   "metadata": {
    "execution": {
     "iopub.execute_input": "2025-07-28T11:12:14.578231Z",
     "iopub.status.busy": "2025-07-28T11:12:14.577744Z",
     "iopub.status.idle": "2025-07-28T11:12:14.583607Z",
     "shell.execute_reply": "2025-07-28T11:12:14.582596Z"
    },
    "papermill": {
     "duration": 0.031892,
     "end_time": "2025-07-28T11:12:14.585357",
     "exception": false,
     "start_time": "2025-07-28T11:12:14.553465",
     "status": "completed"
    },
    "tags": []
   },
   "outputs": [],
   "source": [
    "#cp_groups_df"
   ]
  },
  {
   "cell_type": "code",
   "execution_count": 61,
   "id": "90032e27-66df-4540-9169-4e89cfbaa758",
   "metadata": {
    "execution": {
     "iopub.execute_input": "2025-07-28T11:12:14.635681Z",
     "iopub.status.busy": "2025-07-28T11:12:14.635018Z",
     "iopub.status.idle": "2025-07-28T11:12:14.646618Z",
     "shell.execute_reply": "2025-07-28T11:12:14.645740Z"
    },
    "papermill": {
     "duration": 0.038163,
     "end_time": "2025-07-28T11:12:14.648239",
     "exception": false,
     "start_time": "2025-07-28T11:12:14.610076",
     "status": "completed"
    },
    "tags": []
   },
   "outputs": [],
   "source": [
    "subgroups = ['frau1','nongerman','nongerman_male','nongerman_female']\n",
    "\n",
    "# Conditional coverage for subgroup==1\n",
    "cond_coverage = {\n",
    "    g: cp_groups_df.loc[cp_groups_df[g]==1, 'covered'].mean()\n",
    "    for g in subgroups\n",
    "}"
   ]
  },
  {
   "cell_type": "code",
   "execution_count": 62,
   "id": "1e348fb1-b9c3-45bc-ba23-f016827a7e0d",
   "metadata": {
    "execution": {
     "iopub.execute_input": "2025-07-28T11:12:14.698246Z",
     "iopub.status.busy": "2025-07-28T11:12:14.697485Z",
     "iopub.status.idle": "2025-07-28T11:12:14.705358Z",
     "shell.execute_reply": "2025-07-28T11:12:14.704461Z"
    },
    "papermill": {
     "duration": 0.034195,
     "end_time": "2025-07-28T11:12:14.707096",
     "exception": false,
     "start_time": "2025-07-28T11:12:14.672901",
     "status": "completed"
    },
    "tags": []
   },
   "outputs": [
    {
     "data": {
      "text/plain": [
       "{'frau1': 0.9110392236150424,\n",
       " 'nongerman': 0.9083253803402009,\n",
       " 'nongerman_male': 0.9233540484553724,\n",
       " 'nongerman_female': 0.8834575260804769}"
      ]
     },
     "execution_count": 62,
     "metadata": {},
     "output_type": "execute_result"
    }
   ],
   "source": [
    "cond_coverage"
   ]
  },
  {
   "cell_type": "code",
   "execution_count": 63,
   "id": "f5093324-c3dd-4d63-bc4c-8d945e5c8bbb",
   "metadata": {
    "execution": {
     "iopub.execute_input": "2025-07-28T11:12:14.756972Z",
     "iopub.status.busy": "2025-07-28T11:12:14.756287Z",
     "iopub.status.idle": "2025-07-28T11:12:14.764555Z",
     "shell.execute_reply": "2025-07-28T11:12:14.763601Z"
    },
    "papermill": {
     "duration": 0.035231,
     "end_time": "2025-07-28T11:12:14.766117",
     "exception": false,
     "start_time": "2025-07-28T11:12:14.730886",
     "status": "completed"
    },
    "tags": []
   },
   "outputs": [],
   "source": [
    "for subgroup, cov in cond_coverage.items():\n",
    "    cp_metrics_df[f\"cov_{subgroup}\"] = cov"
   ]
  },
  {
   "cell_type": "code",
   "execution_count": 64,
   "id": "6e872e10-dbe5-49e8-b554-5030c98ff75d",
   "metadata": {
    "execution": {
     "iopub.execute_input": "2025-07-28T11:12:14.816598Z",
     "iopub.status.busy": "2025-07-28T11:12:14.815919Z",
     "iopub.status.idle": "2025-07-28T11:12:14.834958Z",
     "shell.execute_reply": "2025-07-28T11:12:14.833926Z"
    },
    "papermill": {
     "duration": 0.045704,
     "end_time": "2025-07-28T11:12:14.836629",
     "exception": false,
     "start_time": "2025-07-28T11:12:14.790925",
     "status": "completed"
    },
    "tags": []
   },
   "outputs": [
    {
     "data": {
      "text/html": [
       "<div>\n",
       "<style scoped>\n",
       "    .dataframe tbody tr th:only-of-type {\n",
       "        vertical-align: middle;\n",
       "    }\n",
       "\n",
       "    .dataframe tbody tr th {\n",
       "        vertical-align: top;\n",
       "    }\n",
       "\n",
       "    .dataframe thead th {\n",
       "        text-align: right;\n",
       "    }\n",
       "</style>\n",
       "<table border=\"1\" class=\"dataframe\">\n",
       "  <thead>\n",
       "    <tr style=\"text-align: right;\">\n",
       "      <th></th>\n",
       "      <th>universe_id</th>\n",
       "      <th>universe_training_size</th>\n",
       "      <th>universe_scale</th>\n",
       "      <th>universe_model</th>\n",
       "      <th>universe_exclude_features</th>\n",
       "      <th>universe_exclude_subgroups</th>\n",
       "      <th>q_hat</th>\n",
       "      <th>coverage</th>\n",
       "      <th>avg_size</th>\n",
       "      <th>cov_frau1</th>\n",
       "      <th>cov_nongerman</th>\n",
       "      <th>cov_nongerman_male</th>\n",
       "      <th>cov_nongerman_female</th>\n",
       "    </tr>\n",
       "  </thead>\n",
       "  <tbody>\n",
       "    <tr>\n",
       "      <th>0</th>\n",
       "      <td>a5155b5c9f58478611a3b78679bb7631</td>\n",
       "      <td>2014</td>\n",
       "      <td>do-not-scale</td>\n",
       "      <td>gbm</td>\n",
       "      <td>age</td>\n",
       "      <td>keep-all</td>\n",
       "      <td>0.680949</td>\n",
       "      <td>0.91069</td>\n",
       "      <td>1.113142</td>\n",
       "      <td>0.911039</td>\n",
       "      <td>0.908325</td>\n",
       "      <td>0.923354</td>\n",
       "      <td>0.883458</td>\n",
       "    </tr>\n",
       "  </tbody>\n",
       "</table>\n",
       "</div>"
      ],
      "text/plain": [
       "                        universe_id universe_training_size universe_scale  \\\n",
       "0  a5155b5c9f58478611a3b78679bb7631                   2014   do-not-scale   \n",
       "\n",
       "  universe_model universe_exclude_features universe_exclude_subgroups  \\\n",
       "0            gbm                       age                   keep-all   \n",
       "\n",
       "      q_hat  coverage  avg_size  cov_frau1  cov_nongerman  cov_nongerman_male  \\\n",
       "0  0.680949   0.91069  1.113142   0.911039       0.908325            0.923354   \n",
       "\n",
       "   cov_nongerman_female  \n",
       "0              0.883458  "
      ]
     },
     "execution_count": 64,
     "metadata": {},
     "output_type": "execute_result"
    }
   ],
   "source": [
    "cp_metrics_df"
   ]
  },
  {
   "cell_type": "markdown",
   "id": "33774451",
   "metadata": {
    "papermill": {
     "duration": 0.024565,
     "end_time": "2025-07-28T11:12:14.886883",
     "exception": false,
     "start_time": "2025-07-28T11:12:14.862318",
     "status": "completed"
    },
    "tags": []
   },
   "source": [
    "# (Fairness) Metrics"
   ]
  },
  {
   "cell_type": "code",
   "execution_count": 65,
   "id": "debc5d62",
   "metadata": {
    "execution": {
     "iopub.execute_input": "2025-07-28T11:12:14.937446Z",
     "iopub.status.busy": "2025-07-28T11:12:14.936624Z",
     "iopub.status.idle": "2025-07-28T11:12:14.959710Z",
     "shell.execute_reply": "2025-07-28T11:12:14.958789Z"
    },
    "papermill": {
     "duration": 0.050684,
     "end_time": "2025-07-28T11:12:14.961559",
     "exception": false,
     "start_time": "2025-07-28T11:12:14.910875",
     "status": "completed"
    },
    "tags": []
   },
   "outputs": [],
   "source": [
    "# do I need to include maxdeutsch1.missing?\n",
    "\n",
    "import numpy as np\n",
    "\n",
    "colname_to_bin = \"maxdeutsch1\"\n",
    "majority_value = org_train[colname_to_bin].mode()[0]\n",
    "\n",
    "org_test[\"majmin\"] = np.where(org_test[colname_to_bin] == majority_value, \"majority\", \"minority\")"
   ]
  },
  {
   "cell_type": "code",
   "execution_count": 66,
   "id": "06a50de5",
   "metadata": {
    "execution": {
     "iopub.execute_input": "2025-07-28T11:12:15.011345Z",
     "iopub.status.busy": "2025-07-28T11:12:15.010637Z",
     "iopub.status.idle": "2025-07-28T11:12:18.111832Z",
     "shell.execute_reply": "2025-07-28T11:12:18.110745Z"
    },
    "papermill": {
     "duration": 3.127811,
     "end_time": "2025-07-28T11:12:18.113693",
     "exception": false,
     "start_time": "2025-07-28T11:12:14.985882",
     "status": "completed"
    },
    "tags": []
   },
   "outputs": [],
   "source": [
    "example_universe = universe.copy()\n",
    "example_universe[\"cutoff\"] = example_universe[\"cutoff\"][0]\n",
    "example_universe[\"eval_fairness_grouping\"] = example_universe[\"eval_fairness_grouping\"][0]\n",
    "fairness_dict, metric_frame = universe_analysis.compute_metrics(\n",
    "    example_universe,\n",
    "    y_pred_prob=probs_test,\n",
    "    y_test=y_true,\n",
    "    org_test=org_test,\n",
    ")"
   ]
  },
  {
   "cell_type": "markdown",
   "id": "f95d4e02",
   "metadata": {
    "papermill": {
     "duration": 0.023988,
     "end_time": "2025-07-28T11:12:18.164762",
     "exception": false,
     "start_time": "2025-07-28T11:12:18.140774",
     "status": "completed"
    },
    "tags": []
   },
   "source": [
    "# Overall"
   ]
  },
  {
   "cell_type": "markdown",
   "id": "bdee4871",
   "metadata": {
    "papermill": {
     "duration": 0.02405,
     "end_time": "2025-07-28T11:12:18.212779",
     "exception": false,
     "start_time": "2025-07-28T11:12:18.188729",
     "status": "completed"
    },
    "tags": []
   },
   "source": [
    "Fairness\n",
    "Main fairness target: Equalized Odds. Seems to be a better fit than equal opportunity, since we're not only interested in Y = 1. Seems to be a better fit than demographic parity, since we also care about accuracy, not just equal distribution of preds.\n",
    "\n",
    "Pick column for computation of fairness metrics\n",
    "\n",
    "Performance\n",
    "Overall performance measures, most interesting in relation to the measures split by group below"
   ]
  },
  {
   "cell_type": "code",
   "execution_count": 67,
   "id": "c4e067c6",
   "metadata": {
    "execution": {
     "iopub.execute_input": "2025-07-28T11:12:18.262556Z",
     "iopub.status.busy": "2025-07-28T11:12:18.262043Z",
     "iopub.status.idle": "2025-07-28T11:12:18.270887Z",
     "shell.execute_reply": "2025-07-28T11:12:18.270001Z"
    },
    "papermill": {
     "duration": 0.035644,
     "end_time": "2025-07-28T11:12:18.272337",
     "exception": false,
     "start_time": "2025-07-28T11:12:18.236693",
     "status": "completed"
    },
    "tags": []
   },
   "outputs": [
    {
     "data": {
      "text/plain": [
       "accuracy                   0.225582\n",
       "balanced accuracy          0.551327\n",
       "f1                         0.246881\n",
       "precision                  0.141035\n",
       "false positive rate        0.886832\n",
       "false negative rate        0.010514\n",
       "selection rate             0.900000\n",
       "count                  89710.000000\n",
       "dtype: float64"
      ]
     },
     "execution_count": 67,
     "metadata": {},
     "output_type": "execute_result"
    }
   ],
   "source": [
    "metric_frame.overall"
   ]
  },
  {
   "cell_type": "markdown",
   "id": "e968fe9d",
   "metadata": {
    "papermill": {
     "duration": 0.025185,
     "end_time": "2025-07-28T11:12:18.321901",
     "exception": false,
     "start_time": "2025-07-28T11:12:18.296716",
     "status": "completed"
    },
    "tags": []
   },
   "source": [
    "By Group"
   ]
  },
  {
   "cell_type": "code",
   "execution_count": 68,
   "id": "ec325bce",
   "metadata": {
    "execution": {
     "iopub.execute_input": "2025-07-28T11:12:18.372217Z",
     "iopub.status.busy": "2025-07-28T11:12:18.371311Z",
     "iopub.status.idle": "2025-07-28T11:12:18.387431Z",
     "shell.execute_reply": "2025-07-28T11:12:18.386511Z"
    },
    "papermill": {
     "duration": 0.043068,
     "end_time": "2025-07-28T11:12:18.389020",
     "exception": false,
     "start_time": "2025-07-28T11:12:18.345952",
     "status": "completed"
    },
    "tags": []
   },
   "outputs": [
    {
     "data": {
      "text/html": [
       "<div>\n",
       "<style scoped>\n",
       "    .dataframe tbody tr th:only-of-type {\n",
       "        vertical-align: middle;\n",
       "    }\n",
       "\n",
       "    .dataframe tbody tr th {\n",
       "        vertical-align: top;\n",
       "    }\n",
       "\n",
       "    .dataframe thead th {\n",
       "        text-align: right;\n",
       "    }\n",
       "</style>\n",
       "<table border=\"1\" class=\"dataframe\">\n",
       "  <thead>\n",
       "    <tr style=\"text-align: right;\">\n",
       "      <th></th>\n",
       "      <th>accuracy</th>\n",
       "      <th>balanced accuracy</th>\n",
       "      <th>f1</th>\n",
       "      <th>precision</th>\n",
       "      <th>false positive rate</th>\n",
       "      <th>false negative rate</th>\n",
       "      <th>selection rate</th>\n",
       "      <th>count</th>\n",
       "    </tr>\n",
       "    <tr>\n",
       "      <th>majmin</th>\n",
       "      <th></th>\n",
       "      <th></th>\n",
       "      <th></th>\n",
       "      <th></th>\n",
       "      <th></th>\n",
       "      <th></th>\n",
       "      <th></th>\n",
       "      <th></th>\n",
       "    </tr>\n",
       "  </thead>\n",
       "  <tbody>\n",
       "    <tr>\n",
       "      <th>majority</th>\n",
       "      <td>0.242316</td>\n",
       "      <td>0.558607</td>\n",
       "      <td>0.256388</td>\n",
       "      <td>0.147296</td>\n",
       "      <td>0.871298</td>\n",
       "      <td>0.011488</td>\n",
       "      <td>0.886786</td>\n",
       "      <td>69170.0</td>\n",
       "    </tr>\n",
       "    <tr>\n",
       "      <th>minority</th>\n",
       "      <td>0.169231</td>\n",
       "      <td>0.527548</td>\n",
       "      <td>0.216097</td>\n",
       "      <td>0.121237</td>\n",
       "      <td>0.938147</td>\n",
       "      <td>0.006757</td>\n",
       "      <td>0.944499</td>\n",
       "      <td>20540.0</td>\n",
       "    </tr>\n",
       "  </tbody>\n",
       "</table>\n",
       "</div>"
      ],
      "text/plain": [
       "          accuracy  balanced accuracy        f1  precision  \\\n",
       "majmin                                                       \n",
       "majority  0.242316           0.558607  0.256388   0.147296   \n",
       "minority  0.169231           0.527548  0.216097   0.121237   \n",
       "\n",
       "          false positive rate  false negative rate  selection rate    count  \n",
       "majmin                                                                       \n",
       "majority             0.871298             0.011488        0.886786  69170.0  \n",
       "minority             0.938147             0.006757        0.944499  20540.0  "
      ]
     },
     "execution_count": 68,
     "metadata": {},
     "output_type": "execute_result"
    }
   ],
   "source": [
    "metric_frame.by_group"
   ]
  },
  {
   "cell_type": "code",
   "execution_count": 69,
   "id": "a9ddbe63",
   "metadata": {
    "execution": {
     "iopub.execute_input": "2025-07-28T11:12:18.440774Z",
     "iopub.status.busy": "2025-07-28T11:12:18.440283Z",
     "iopub.status.idle": "2025-07-28T11:12:20.781922Z",
     "shell.execute_reply": "2025-07-28T11:12:20.781024Z"
    },
    "papermill": {
     "duration": 2.369376,
     "end_time": "2025-07-28T11:12:20.783514",
     "exception": false,
     "start_time": "2025-07-28T11:12:18.414138",
     "status": "completed"
    },
    "tags": []
   },
   "outputs": [
    {
     "data": {
      "text/plain": [
       "array([[<Axes: title={'center': 'accuracy'}, xlabel='majmin'>,\n",
       "        <Axes: title={'center': 'balanced accuracy'}, xlabel='majmin'>,\n",
       "        <Axes: title={'center': 'f1'}, xlabel='majmin'>],\n",
       "       [<Axes: title={'center': 'precision'}, xlabel='majmin'>,\n",
       "        <Axes: title={'center': 'false positive rate'}, xlabel='majmin'>,\n",
       "        <Axes: title={'center': 'false negative rate'}, xlabel='majmin'>],\n",
       "       [<Axes: title={'center': 'selection rate'}, xlabel='majmin'>,\n",
       "        <Axes: title={'center': 'count'}, xlabel='majmin'>,\n",
       "        <Axes: xlabel='majmin'>]], dtype=object)"
      ]
     },
     "execution_count": 69,
     "metadata": {},
     "output_type": "execute_result"
    },
    {
     "data": {
      "image/png": "[encoded data removed]",
      "text/plain": [
       "<Figure size 1200x800 with 9 Axes>"
      ]
     },
     "metadata": {},
     "output_type": "display_data"
    }
   ],
   "source": [
    "# In a graphic\n",
    "metric_frame.by_group.plot.bar(\n",
    "    subplots=True,\n",
    "    layout=[3, 3],\n",
    "    legend=False,\n",
    "    figsize=[12, 8],\n",
    "    title=\"Show all metrics\",\n",
    ")"
   ]
  },
  {
   "cell_type": "markdown",
   "id": "f57a0bac",
   "metadata": {
    "papermill": {
     "duration": 0.025901,
     "end_time": "2025-07-28T11:12:20.836807",
     "exception": false,
     "start_time": "2025-07-28T11:12:20.810906",
     "status": "completed"
    },
    "tags": []
   },
   "source": [
    "# Final Output"
   ]
  },
  {
   "cell_type": "code",
   "execution_count": 70,
   "id": "96d280a3",
   "metadata": {
    "execution": {
     "iopub.execute_input": "2025-07-28T11:12:20.890865Z",
     "iopub.status.busy": "2025-07-28T11:12:20.890209Z",
     "iopub.status.idle": "2025-07-28T11:12:20.898750Z",
     "shell.execute_reply": "2025-07-28T11:12:20.897843Z"
    },
    "papermill": {
     "duration": 0.037295,
     "end_time": "2025-07-28T11:12:20.900276",
     "exception": false,
     "start_time": "2025-07-28T11:12:20.862981",
     "status": "completed"
    },
    "tags": []
   },
   "outputs": [
    {
     "data": {
      "text/plain": [
       "4"
      ]
     },
     "execution_count": 70,
     "metadata": {},
     "output_type": "execute_result"
    }
   ],
   "source": [
    "sub_universes = universe_analysis.generate_sub_universes()\n",
    "len(sub_universes)"
   ]
  },
  {
   "cell_type": "code",
   "execution_count": 71,
   "id": "92adf7ba",
   "metadata": {
    "execution": {
     "iopub.execute_input": "2025-07-28T11:12:20.955619Z",
     "iopub.status.busy": "2025-07-28T11:12:20.954889Z",
     "iopub.status.idle": "2025-07-28T11:12:20.961259Z",
     "shell.execute_reply": "2025-07-28T11:12:20.960221Z"
    },
    "papermill": {
     "duration": 0.035846,
     "end_time": "2025-07-28T11:12:20.963023",
     "exception": false,
     "start_time": "2025-07-28T11:12:20.927177",
     "status": "completed"
    },
    "tags": []
   },
   "outputs": [],
   "source": [
    "def filter_sub_universe_data(sub_universe, org_test):\n",
    "    # Keep all rows — no filtering\n",
    "    keep_rows_mask = np.ones(org_test.shape[0], dtype=bool)\n",
    "\n",
    "    print(f\"[INFO] Keeping all rows: {keep_rows_mask.sum()} rows retained.\")\n",
    "    return keep_rows_mask"
   ]
  },
  {
   "cell_type": "code",
   "execution_count": 72,
   "id": "4a759155",
   "metadata": {
    "execution": {
     "iopub.execute_input": "2025-07-28T11:12:21.017867Z",
     "iopub.status.busy": "2025-07-28T11:12:21.017198Z",
     "iopub.status.idle": "2025-07-28T11:12:32.793438Z",
     "shell.execute_reply": "2025-07-28T11:12:32.792540Z"
    },
    "papermill": {
     "duration": 11.80551,
     "end_time": "2025-07-28T11:12:32.795089",
     "exception": false,
     "start_time": "2025-07-28T11:12:20.989579",
     "status": "completed"
    },
    "tags": []
   },
   "outputs": [
    {
     "name": "stdout",
     "output_type": "stream",
     "text": [
      "Stopping execution_time clock.\n",
      "[INFO] Keeping all rows: 89710 rows retained.\n"
     ]
    },
    {
     "name": "stdout",
     "output_type": "stream",
     "text": [
      "[INFO] Keeping all rows: 89710 rows retained.\n"
     ]
    },
    {
     "name": "stdout",
     "output_type": "stream",
     "text": [
      "[INFO] Keeping all rows: 89710 rows retained.\n"
     ]
    },
    {
     "name": "stdout",
     "output_type": "stream",
     "text": [
      "[INFO] Keeping all rows: 89710 rows retained.\n"
     ]
    },
    {
     "data": {
      "text/html": [
       "<div>\n",
       "<style scoped>\n",
       "    .dataframe tbody tr th:only-of-type {\n",
       "        vertical-align: middle;\n",
       "    }\n",
       "\n",
       "    .dataframe tbody tr th {\n",
       "        vertical-align: top;\n",
       "    }\n",
       "\n",
       "    .dataframe thead th {\n",
       "        text-align: right;\n",
       "    }\n",
       "</style>\n",
       "<table border=\"1\" class=\"dataframe\">\n",
       "  <thead>\n",
       "    <tr style=\"text-align: right;\">\n",
       "      <th></th>\n",
       "      <th>run_no</th>\n",
       "      <th>universe_id</th>\n",
       "      <th>universe_settings</th>\n",
       "      <th>execution_time</th>\n",
       "      <th>test_size_n</th>\n",
       "      <th>test_size_frac</th>\n",
       "      <th>fair_main_equalized_odds_difference</th>\n",
       "      <th>fair_main_equalized_odds_ratio</th>\n",
       "      <th>fair_main_demographic_parity_difference</th>\n",
       "      <th>fair_main_demographic_parity_ratio</th>\n",
       "      <th>...</th>\n",
       "      <th>perf_grp_precision_0</th>\n",
       "      <th>perf_grp_precision_1</th>\n",
       "      <th>perf_grp_false positive rate_0</th>\n",
       "      <th>perf_grp_false positive rate_1</th>\n",
       "      <th>perf_grp_false negative rate_0</th>\n",
       "      <th>perf_grp_false negative rate_1</th>\n",
       "      <th>perf_grp_selection rate_0</th>\n",
       "      <th>perf_grp_selection rate_1</th>\n",
       "      <th>perf_grp_count_0</th>\n",
       "      <th>perf_grp_count_1</th>\n",
       "    </tr>\n",
       "  </thead>\n",
       "  <tbody>\n",
       "    <tr>\n",
       "      <th>0</th>\n",
       "      <td>11</td>\n",
       "      <td>a5155b5c9f58478611a3b78679bb7631</td>\n",
       "      <td>{\"cutoff\": \"quantile_0.1\", \"eval_fairness_grou...</td>\n",
       "      <td>142.155444</td>\n",
       "      <td>89710</td>\n",
       "      <td>1.0</td>\n",
       "      <td>0.066849</td>\n",
       "      <td>0.928744</td>\n",
       "      <td>0.057712</td>\n",
       "      <td>0.938896</td>\n",
       "      <td>...</td>\n",
       "      <td>NaN</td>\n",
       "      <td>NaN</td>\n",
       "      <td>NaN</td>\n",
       "      <td>NaN</td>\n",
       "      <td>NaN</td>\n",
       "      <td>NaN</td>\n",
       "      <td>NaN</td>\n",
       "      <td>NaN</td>\n",
       "      <td>NaN</td>\n",
       "      <td>NaN</td>\n",
       "    </tr>\n",
       "    <tr>\n",
       "      <th>0</th>\n",
       "      <td>11</td>\n",
       "      <td>a5155b5c9f58478611a3b78679bb7631</td>\n",
       "      <td>{\"cutoff\": \"quantile_0.1\", \"eval_fairness_grou...</td>\n",
       "      <td>142.155444</td>\n",
       "      <td>89710</td>\n",
       "      <td>1.0</td>\n",
       "      <td>0.066849</td>\n",
       "      <td>0.928744</td>\n",
       "      <td>0.057712</td>\n",
       "      <td>0.938896</td>\n",
       "      <td>...</td>\n",
       "      <td>0.121237</td>\n",
       "      <td>0.147296</td>\n",
       "      <td>0.938147</td>\n",
       "      <td>0.871298</td>\n",
       "      <td>0.006757</td>\n",
       "      <td>0.011488</td>\n",
       "      <td>0.944499</td>\n",
       "      <td>0.886786</td>\n",
       "      <td>20540.0</td>\n",
       "      <td>69170.0</td>\n",
       "    </tr>\n",
       "    <tr>\n",
       "      <th>0</th>\n",
       "      <td>11</td>\n",
       "      <td>a5155b5c9f58478611a3b78679bb7631</td>\n",
       "      <td>{\"cutoff\": \"quantile_0.25\", \"eval_fairness_gro...</td>\n",
       "      <td>142.155444</td>\n",
       "      <td>89710</td>\n",
       "      <td>1.0</td>\n",
       "      <td>0.137924</td>\n",
       "      <td>0.833132</td>\n",
       "      <td>0.118147</td>\n",
       "      <td>0.859531</td>\n",
       "      <td>...</td>\n",
       "      <td>NaN</td>\n",
       "      <td>NaN</td>\n",
       "      <td>NaN</td>\n",
       "      <td>NaN</td>\n",
       "      <td>NaN</td>\n",
       "      <td>NaN</td>\n",
       "      <td>NaN</td>\n",
       "      <td>NaN</td>\n",
       "      <td>NaN</td>\n",
       "      <td>NaN</td>\n",
       "    </tr>\n",
       "    <tr>\n",
       "      <th>0</th>\n",
       "      <td>11</td>\n",
       "      <td>a5155b5c9f58478611a3b78679bb7631</td>\n",
       "      <td>{\"cutoff\": \"quantile_0.25\", \"eval_fairness_gro...</td>\n",
       "      <td>142.155444</td>\n",
       "      <td>89710</td>\n",
       "      <td>1.0</td>\n",
       "      <td>0.137924</td>\n",
       "      <td>0.833132</td>\n",
       "      <td>0.118147</td>\n",
       "      <td>0.859531</td>\n",
       "      <td>...</td>\n",
       "      <td>0.130586</td>\n",
       "      <td>0.173339</td>\n",
       "      <td>0.826546</td>\n",
       "      <td>0.688622</td>\n",
       "      <td>0.047297</td>\n",
       "      <td>0.051641</td>\n",
       "      <td>0.841091</td>\n",
       "      <td>0.722943</td>\n",
       "      <td>20540.0</td>\n",
       "      <td>69170.0</td>\n",
       "    </tr>\n",
       "  </tbody>\n",
       "</table>\n",
       "<p>4 rows × 50 columns</p>\n",
       "</div>"
      ],
      "text/plain": [
       "  run_no                       universe_id  \\\n",
       "0     11  a5155b5c9f58478611a3b78679bb7631   \n",
       "0     11  a5155b5c9f58478611a3b78679bb7631   \n",
       "0     11  a5155b5c9f58478611a3b78679bb7631   \n",
       "0     11  a5155b5c9f58478611a3b78679bb7631   \n",
       "\n",
       "                                   universe_settings  execution_time  \\\n",
       "0  {\"cutoff\": \"quantile_0.1\", \"eval_fairness_grou...      142.155444   \n",
       "0  {\"cutoff\": \"quantile_0.1\", \"eval_fairness_grou...      142.155444   \n",
       "0  {\"cutoff\": \"quantile_0.25\", \"eval_fairness_gro...      142.155444   \n",
       "0  {\"cutoff\": \"quantile_0.25\", \"eval_fairness_gro...      142.155444   \n",
       "\n",
       "   test_size_n  test_size_frac  fair_main_equalized_odds_difference  \\\n",
       "0        89710             1.0                             0.066849   \n",
       "0        89710             1.0                             0.066849   \n",
       "0        89710             1.0                             0.137924   \n",
       "0        89710             1.0                             0.137924   \n",
       "\n",
       "   fair_main_equalized_odds_ratio  fair_main_demographic_parity_difference  \\\n",
       "0                        0.928744                                 0.057712   \n",
       "0                        0.928744                                 0.057712   \n",
       "0                        0.833132                                 0.118147   \n",
       "0                        0.833132                                 0.118147   \n",
       "\n",
       "   fair_main_demographic_parity_ratio  ...  perf_grp_precision_0  \\\n",
       "0                            0.938896  ...                   NaN   \n",
       "0                            0.938896  ...              0.121237   \n",
       "0                            0.859531  ...                   NaN   \n",
       "0                            0.859531  ...              0.130586   \n",
       "\n",
       "   perf_grp_precision_1  perf_grp_false positive rate_0  \\\n",
       "0                   NaN                             NaN   \n",
       "0              0.147296                        0.938147   \n",
       "0                   NaN                             NaN   \n",
       "0              0.173339                        0.826546   \n",
       "\n",
       "   perf_grp_false positive rate_1  perf_grp_false negative rate_0  \\\n",
       "0                             NaN                             NaN   \n",
       "0                        0.871298                        0.006757   \n",
       "0                             NaN                             NaN   \n",
       "0                        0.688622                        0.047297   \n",
       "\n",
       "   perf_grp_false negative rate_1  perf_grp_selection rate_0  \\\n",
       "0                             NaN                        NaN   \n",
       "0                        0.011488                   0.944499   \n",
       "0                             NaN                        NaN   \n",
       "0                        0.051641                   0.841091   \n",
       "\n",
       "   perf_grp_selection rate_1  perf_grp_count_0  perf_grp_count_1  \n",
       "0                        NaN               NaN               NaN  \n",
       "0                   0.886786           20540.0           69170.0  \n",
       "0                        NaN               NaN               NaN  \n",
       "0                   0.722943           20540.0           69170.0  \n",
       "\n",
       "[4 rows x 50 columns]"
      ]
     },
     "execution_count": 72,
     "metadata": {},
     "output_type": "execute_result"
    }
   ],
   "source": [
    "final_output = universe_analysis.generate_final_output(\n",
    "    y_pred_prob=probs_test,\n",
    "    y_test=y_true,\n",
    "    org_test=org_test,\n",
    "    filter_data=filter_sub_universe_data,\n",
    "    cp_metrics_df=cp_metrics_df,\n",
    "    save=True,\n",
    ")\n",
    "final_output"
   ]
  },
  {
   "cell_type": "code",
   "execution_count": null,
   "id": "721ff514-cb11-46f8-b6fc-50392f74b5cb",
   "metadata": {
    "papermill": {
     "duration": 0.092872,
     "end_time": "2025-07-28T11:12:32.919051",
     "exception": false,
     "start_time": "2025-07-28T11:12:32.826179",
     "status": "completed"
    },
    "tags": []
   },
   "outputs": [],
   "source": []
  }
 ],
 "metadata": {
  "celltoolbar": "Tags",
  "kernelspec": {
   "display_name": "Python (CMA Fairness)",
   "language": "python",
   "name": "cma_fair_env"
  },
  "language_info": {
   "codemirror_mode": {
    "name": "ipython",
    "version": 3
   },
   "file_extension": ".py",
   "mimetype": "text/x-python",
   "name": "python",
   "nbconvert_exporter": "python",
   "pygments_lexer": "ipython3",
   "version": "3.10.12"
  },
  "papermill": {
   "default_parameters": {},
   "duration": 158.50621,
   "end_time": "2025-07-28T11:12:33.766703",
   "environment_variables": {},
   "exception": null,
   "input_path": "universe_analysis.ipynb",
   "output_path": "output/runs/11/notebooks/m_11-a5155b5c9f58478611a3b78679bb7631.ipynb",
   "parameters": {
    "output_dir": "output",
    "run_no": "11",
    "seed": "2023",
    "universe": "{\"cutoff\": [\"quantile_0.1\", \"quantile_0.25\"], \"eval_fairness_grouping\": [\"majority-minority\", \"nationality-all\"], \"exclude_features\": \"age\", \"exclude_subgroups\": \"keep-all\", \"model\": \"gbm\", \"scale\": \"do-not-scale\", \"training_size\": \"2014\"}",
    "universe_id": "a5155b5c9f58478611a3b78679bb7631"
   },
   "start_time": "2025-07-28T11:09:55.260493",
   "version": "2.6.0"
  }
 },
 "nbformat": 4,
 "nbformat_minor": 5
}