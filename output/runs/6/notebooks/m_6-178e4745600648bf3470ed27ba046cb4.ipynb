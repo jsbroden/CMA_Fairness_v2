{
 "cells": [
  {
   "cell_type": "code",
   "execution_count": 1,
   "id": "f159f837-637b-42ba-96b5-ec9a68c44524",
   "metadata": {
    "execution": {
     "iopub.execute_input": "2025-07-23T12:54:06.569656Z",
     "iopub.status.busy": "2025-07-23T12:54:06.569217Z",
     "iopub.status.idle": "2025-07-23T12:54:06.585508Z",
     "shell.execute_reply": "2025-07-23T12:54:06.584426Z"
    },
    "papermill": {
     "duration": 0.037167,
     "end_time": "2025-07-23T12:54:06.587956",
     "exception": false,
     "start_time": "2025-07-23T12:54:06.550789",
     "status": "completed"
    },
    "tags": []
   },
   "outputs": [
    {
     "name": "stdout",
     "output_type": "stream",
     "text": [
      "/dss/dsshome1/0C/ra93lal2/cma/CMA_Fairness_v2\n"
     ]
    },
    {
     "name": "stderr",
     "output_type": "stream",
     "text": [
      "/dss/dsshome1/0C/ra93lal2/.local/share/virtualenvs/CMA_Fairness_v2-3j10GkSs/lib/python3.10/site-packages/IPython/core/magics/osm.py:393: UserWarning: This is now an optional IPython functionality, using bookmarks requires you to install the `pickleshare` library.\n",
      "  bkms = self.shell.db.get('bookmarks', {})\n",
      "/dss/dsshome1/0C/ra93lal2/.local/share/virtualenvs/CMA_Fairness_v2-3j10GkSs/lib/python3.10/site-packages/IPython/core/magics/osm.py:417: UserWarning: This is now an optional IPython functionality, setting dhist requires you to install the `pickleshare` library.\n",
      "  self.shell.db['dhist'] = compress_dhist(dhist)[-100:]\n"
     ]
    }
   ],
   "source": [
    "%cd ~/cma/CMA_Fairness_v2"
   ]
  },
  {
   "cell_type": "markdown",
   "id": "de2603b9",
   "metadata": {
    "papermill": {
     "duration": 0.024571,
     "end_time": "2025-07-23T12:54:06.631019",
     "exception": false,
     "start_time": "2025-07-23T12:54:06.606448",
     "status": "completed"
    },
    "tags": []
   },
   "source": [
    "The following cell holds the definition of our parameters, these values can be overriden by rendering the with e.g. the following command:\n",
    "\n",
    "papermill -p alpha 0.2 -p ratio 0.3 universe_analysis.ipynb output/test_run.ipynb"
   ]
  },
  {
   "cell_type": "code",
   "execution_count": 2,
   "id": "a80968a0-40bb-4fa9-85ef-2d5eefb01975",
   "metadata": {
    "execution": {
     "iopub.execute_input": "2025-07-23T12:54:06.667288Z",
     "iopub.status.busy": "2025-07-23T12:54:06.666841Z",
     "iopub.status.idle": "2025-07-23T12:54:06.672629Z",
     "shell.execute_reply": "2025-07-23T12:54:06.671715Z"
    },
    "papermill": {
     "duration": 0.028523,
     "end_time": "2025-07-23T12:54:06.676628",
     "exception": false,
     "start_time": "2025-07-23T12:54:06.648105",
     "status": "completed"
    },
    "tags": []
   },
   "outputs": [
    {
     "name": "stdout",
     "output_type": "stream",
     "text": [
      "Current working directory: /dss/dsshome1/0C/ra93lal2/cma/CMA_Fairness_v2\n"
     ]
    }
   ],
   "source": [
    "import os\n",
    "print(\"Current working directory:\", os.getcwd())"
   ]
  },
  {
   "cell_type": "code",
   "execution_count": 3,
   "id": "2dce4c03",
   "metadata": {
    "execution": {
     "iopub.execute_input": "2025-07-23T12:54:06.713883Z",
     "iopub.status.busy": "2025-07-23T12:54:06.713573Z",
     "iopub.status.idle": "2025-07-23T12:54:06.718812Z",
     "shell.execute_reply": "2025-07-23T12:54:06.718013Z"
    },
    "papermill": {
     "duration": 0.025731,
     "end_time": "2025-07-23T12:54:06.720794",
     "exception": false,
     "start_time": "2025-07-23T12:54:06.695063",
     "status": "completed"
    },
    "tags": [
     "parameters"
    ]
   },
   "outputs": [],
   "source": [
    "run_no = 0\n",
    "universe_id = \"test\"\n",
    "universe = {\n",
    "    \"scale\": \"scale\", # \"scale\", \"do-not-scale\",\n",
    "    \"model\": \"elasticnet\", # \"logreg\", \"penalized_logreg\", \"rf\", \"gbm\", \"elasticnet\"\n",
    "    \"cutoff\": [\"quantile_0.15\", \"quantile_0.30\"],\n",
    "    \"exclude_features\": \"age\", # \"none\", \"nationality\", \"sex\", \"nationality-sex\", \"age\"\n",
    "    \"exclude_subgroups\": \"keep-all\", # \"keep-all\", \"drop-non-german\"\n",
    "    \"eval_fairness_grouping\": [\"majority-minority\", \"nationality-all\"]\n",
    "}\n",
    "\n",
    "output_dir=\"./output\"\n",
    "seed=0"
   ]
  },
  {
   "cell_type": "code",
   "execution_count": 4,
   "id": "7a314626",
   "metadata": {
    "execution": {
     "iopub.execute_input": "2025-07-23T12:54:06.794054Z",
     "iopub.status.busy": "2025-07-23T12:54:06.793610Z",
     "iopub.status.idle": "2025-07-23T12:54:06.799181Z",
     "shell.execute_reply": "2025-07-23T12:54:06.798131Z"
    },
    "papermill": {
     "duration": 0.038301,
     "end_time": "2025-07-23T12:54:06.803088",
     "exception": false,
     "start_time": "2025-07-23T12:54:06.764787",
     "status": "completed"
    },
    "tags": [
     "injected-parameters"
    ]
   },
   "outputs": [],
   "source": [
    "# Parameters\n",
    "universe_id = \"178e4745600648bf3470ed27ba046cb4\"\n",
    "run_no = \"6\"\n",
    "universe = \"{\\\"cutoff\\\": [\\\"quantile_0.1\\\", \\\"quantile_0.25\\\"], \\\"eval_fairness_grouping\\\": [\\\"majority-minority\\\", \\\"nationality-all\\\"], \\\"exclude_features\\\": \\\"nationality-sex\\\", \\\"exclude_subgroups\\\": \\\"keep-all\\\", \\\"model\\\": \\\"rf\\\", \\\"scale\\\": \\\"scale\\\"}\"\n",
    "output_dir = \"output\"\n",
    "seed = \"2023\"\n"
   ]
  },
  {
   "cell_type": "code",
   "execution_count": 5,
   "id": "1650acaf",
   "metadata": {
    "execution": {
     "iopub.execute_input": "2025-07-23T12:54:06.861518Z",
     "iopub.status.busy": "2025-07-23T12:54:06.860268Z",
     "iopub.status.idle": "2025-07-23T12:54:06.871391Z",
     "shell.execute_reply": "2025-07-23T12:54:06.870365Z"
    },
    "papermill": {
     "duration": 0.042056,
     "end_time": "2025-07-23T12:54:06.876075",
     "exception": false,
     "start_time": "2025-07-23T12:54:06.834019",
     "status": "completed"
    },
    "tags": []
   },
   "outputs": [],
   "source": [
    "import json\n",
    "# Parse universe into dict if it is passed as a string\n",
    "if isinstance(universe, str):\n",
    "    universe = json.loads(universe)"
   ]
  },
  {
   "cell_type": "code",
   "execution_count": 6,
   "id": "16620c48",
   "metadata": {
    "execution": {
     "iopub.execute_input": "2025-07-23T12:54:06.921692Z",
     "iopub.status.busy": "2025-07-23T12:54:06.921289Z",
     "iopub.status.idle": "2025-07-23T12:54:06.979639Z",
     "shell.execute_reply": "2025-07-23T12:54:06.971400Z"
    },
    "papermill": {
     "duration": 0.089411,
     "end_time": "2025-07-23T12:54:06.982970",
     "exception": false,
     "start_time": "2025-07-23T12:54:06.893559",
     "status": "completed"
    },
    "tags": []
   },
   "outputs": [],
   "source": [
    "# Auto-reload the custom package\n",
    "%load_ext autoreload\n",
    "%autoreload 1\n",
    "%aimport fairness_multiverse"
   ]
  },
  {
   "cell_type": "code",
   "execution_count": 7,
   "id": "01c5c9f3",
   "metadata": {
    "execution": {
     "iopub.execute_input": "2025-07-23T12:54:07.033062Z",
     "iopub.status.busy": "2025-07-23T12:54:07.032032Z",
     "iopub.status.idle": "2025-07-23T12:54:11.175159Z",
     "shell.execute_reply": "2025-07-23T12:54:11.174325Z"
    },
    "papermill": {
     "duration": 4.176299,
     "end_time": "2025-07-23T12:54:11.177549",
     "exception": false,
     "start_time": "2025-07-23T12:54:07.001250",
     "status": "completed"
    },
    "tags": []
   },
   "outputs": [],
   "source": [
    "from fairness_multiverse.universe import UniverseAnalysis\n",
    "\n",
    "universe_analysis = UniverseAnalysis(\n",
    "    run_no = run_no,\n",
    "    universe_id = universe_id,\n",
    "    universe = universe,\n",
    "    output_dir=output_dir,\n",
    ")"
   ]
  },
  {
   "cell_type": "code",
   "execution_count": 8,
   "id": "106241f5",
   "metadata": {
    "execution": {
     "iopub.execute_input": "2025-07-23T12:54:11.243642Z",
     "iopub.status.busy": "2025-07-23T12:54:11.243064Z",
     "iopub.status.idle": "2025-07-23T12:54:11.249998Z",
     "shell.execute_reply": "2025-07-23T12:54:11.249112Z"
    },
    "papermill": {
     "duration": 0.035734,
     "end_time": "2025-07-23T12:54:11.251416",
     "exception": false,
     "start_time": "2025-07-23T12:54:11.215682",
     "status": "completed"
    },
    "tags": []
   },
   "outputs": [
    {
     "name": "stdout",
     "output_type": "stream",
     "text": [
      "Using Seed: 2023\n"
     ]
    }
   ],
   "source": [
    "import numpy as np\n",
    "parsed_seed = int(seed)\n",
    "np.random.seed(parsed_seed)\n",
    "print(f\"Using Seed: {parsed_seed}\")"
   ]
  },
  {
   "cell_type": "markdown",
   "id": "e0ebdc57",
   "metadata": {
    "papermill": {
     "duration": 0.01096,
     "end_time": "2025-07-23T12:54:11.272658",
     "exception": false,
     "start_time": "2025-07-23T12:54:11.261698",
     "status": "completed"
    },
    "tags": []
   },
   "source": [
    "# Loading Data"
   ]
  },
  {
   "cell_type": "markdown",
   "id": "681925a3",
   "metadata": {
    "papermill": {
     "duration": 0.043502,
     "end_time": "2025-07-23T12:54:11.333866",
     "exception": false,
     "start_time": "2025-07-23T12:54:11.290364",
     "status": "completed"
    },
    "tags": []
   },
   "source": [
    "Load siab_train, siab_test, siab_calib and/or \n",
    "load siab_train_features, siab_train_labels"
   ]
  },
  {
   "cell_type": "code",
   "execution_count": 9,
   "id": "f0496b8a",
   "metadata": {
    "execution": {
     "iopub.execute_input": "2025-07-23T12:54:11.441336Z",
     "iopub.status.busy": "2025-07-23T12:54:11.440796Z",
     "iopub.status.idle": "2025-07-23T12:54:11.447118Z",
     "shell.execute_reply": "2025-07-23T12:54:11.446072Z"
    },
    "papermill": {
     "duration": 0.093648,
     "end_time": "2025-07-23T12:54:11.448602",
     "exception": false,
     "start_time": "2025-07-23T12:54:11.354954",
     "status": "completed"
    },
    "tags": []
   },
   "outputs": [],
   "source": [
    "# Do I need to load siab? Delete this cell?\n",
    "\n",
    "#from pathlib import Path\n",
    "#import pandas as pd\n",
    "#\n",
    "## File paths\n",
    "#raw_file = Path(\"data/raw/siab.csv\")\n",
    "#cache_file = Path(\"data/siab_cached.csv.gz\")\n",
    "#\n",
    "## Ensure cache directory exists\n",
    "#cache_file.parent.mkdir(parents=True, exist_ok=True)\n",
    "#\n",
    "## Load with simple caching\n",
    "#if cache_file.exists():\n",
    "#    print(f\"Loading SIAB data from cache: {cache_file}\")\n",
    "#    siab = pd.read_csv(cache_file, compression='gzip')\n",
    "#else:\n",
    "#    print(f\"Cache not found. Reading raw SIAB data: {raw_file}\")\n",
    "#    siab = pd.read_csv(raw_file)\n",
    "#    siab.to_csv(cache_file, index=False, compression='gzip')\n",
    "#    print(f\"Cached SIAB data to: {cache_file}\")\n",
    "#\n",
    "## Now use `siab` DataFrame as needed\n",
    "#print(siab.shape)\n"
   ]
  },
  {
   "cell_type": "code",
   "execution_count": 10,
   "id": "a0edb063",
   "metadata": {
    "execution": {
     "iopub.execute_input": "2025-07-23T12:54:11.511133Z",
     "iopub.status.busy": "2025-07-23T12:54:11.510698Z",
     "iopub.status.idle": "2025-07-23T12:54:12.732946Z",
     "shell.execute_reply": "2025-07-23T12:54:12.731887Z"
    },
    "papermill": {
     "duration": 1.263808,
     "end_time": "2025-07-23T12:54:12.734985",
     "exception": false,
     "start_time": "2025-07-23T12:54:11.471177",
     "status": "completed"
    },
    "tags": []
   },
   "outputs": [],
   "source": [
    "import pandas as pd\n",
    "\n",
    "X_train = pd.read_csv(\"./data/X_train.csv\")\n",
    "y_train = pd.read_csv(\"./data/y_train.csv\")"
   ]
  },
  {
   "cell_type": "code",
   "execution_count": 11,
   "id": "63d08085",
   "metadata": {
    "execution": {
     "iopub.execute_input": "2025-07-23T12:54:12.914844Z",
     "iopub.status.busy": "2025-07-23T12:54:12.914405Z",
     "iopub.status.idle": "2025-07-23T12:54:16.267021Z",
     "shell.execute_reply": "2025-07-23T12:54:16.263450Z"
    },
    "papermill": {
     "duration": 3.432408,
     "end_time": "2025-07-23T12:54:16.269073",
     "exception": false,
     "start_time": "2025-07-23T12:54:12.836665",
     "status": "completed"
    },
    "tags": []
   },
   "outputs": [],
   "source": [
    "X_test = pd.read_csv(\"./data/X_test.csv\")\n",
    "y_true = pd.read_csv(\"./data/y_test.csv\")"
   ]
  },
  {
   "cell_type": "code",
   "execution_count": 12,
   "id": "98a8d0fa-1d3d-4ed8-bb2c-281470e24add",
   "metadata": {
    "execution": {
     "iopub.execute_input": "2025-07-23T12:54:16.383397Z",
     "iopub.status.busy": "2025-07-23T12:54:16.382930Z",
     "iopub.status.idle": "2025-07-23T12:54:18.459125Z",
     "shell.execute_reply": "2025-07-23T12:54:18.457864Z"
    },
    "papermill": {
     "duration": 2.151082,
     "end_time": "2025-07-23T12:54:18.461913",
     "exception": false,
     "start_time": "2025-07-23T12:54:16.310831",
     "status": "completed"
    },
    "tags": []
   },
   "outputs": [],
   "source": [
    "# Calibration data for conformal\n",
    "X_calib = pd.read_csv(\"./data/X_calib.csv\")\n",
    "y_calib = pd.read_csv(\"./data/y_calib.csv\")"
   ]
  },
  {
   "cell_type": "code",
   "execution_count": 13,
   "id": "e6c733c5",
   "metadata": {
    "execution": {
     "iopub.execute_input": "2025-07-23T12:54:18.581522Z",
     "iopub.status.busy": "2025-07-23T12:54:18.581089Z",
     "iopub.status.idle": "2025-07-23T12:54:18.725635Z",
     "shell.execute_reply": "2025-07-23T12:54:18.724301Z"
    },
    "papermill": {
     "duration": 0.202488,
     "end_time": "2025-07-23T12:54:18.727521",
     "exception": false,
     "start_time": "2025-07-23T12:54:18.525033",
     "status": "completed"
    },
    "tags": []
   },
   "outputs": [],
   "source": [
    "# Auxiliary data needed downstream in the pipeline\n",
    "\n",
    "org_train = X_train.copy()\n",
    "org_test = X_test.copy()\n",
    "org_calib = X_calib.copy()"
   ]
  },
  {
   "cell_type": "markdown",
   "id": "0a4a1b33",
   "metadata": {
    "papermill": {
     "duration": 0.025134,
     "end_time": "2025-07-23T12:54:18.772256",
     "exception": false,
     "start_time": "2025-07-23T12:54:18.747122",
     "status": "completed"
    },
    "tags": []
   },
   "source": [
    "# Preprocessing Data"
   ]
  },
  {
   "cell_type": "code",
   "execution_count": 14,
   "id": "ca879031",
   "metadata": {
    "execution": {
     "iopub.execute_input": "2025-07-23T12:54:18.910842Z",
     "iopub.status.busy": "2025-07-23T12:54:18.910405Z",
     "iopub.status.idle": "2025-07-23T12:54:18.917967Z",
     "shell.execute_reply": "2025-07-23T12:54:18.916851Z"
    },
    "papermill": {
     "duration": 0.112116,
     "end_time": "2025-07-23T12:54:18.921561",
     "exception": false,
     "start_time": "2025-07-23T12:54:18.809445",
     "status": "completed"
    },
    "tags": []
   },
   "outputs": [],
   "source": [
    "# EXCLUDE PROTECTED FEATURES\n",
    "# ----------------------\n",
    "# \"exclude_features\": \"none\", # \"nationality\", \"sex\", \"nationality-sex\"\n",
    "\n",
    "excluded_features = universe[\"exclude_features\"].split(\"-\") # split, e.g.: \"nationality-sex\" -> [\"nationality\", \"sex\"]\n",
    "excluded_features_dictionary = {\n",
    "    \"nationality\": [\"maxdeutsch1\", \"maxdeutsch.Missing.\"],\n",
    "    \"sex\": [\"frau1\"],\n",
    "    \"age\": [\"age\"],\n",
    "}\n"
   ]
  },
  {
   "cell_type": "code",
   "execution_count": 15,
   "id": "b745ac60",
   "metadata": {
    "execution": {
     "iopub.execute_input": "2025-07-23T12:54:18.990837Z",
     "iopub.status.busy": "2025-07-23T12:54:18.990351Z",
     "iopub.status.idle": "2025-07-23T12:54:18.997011Z",
     "shell.execute_reply": "2025-07-23T12:54:18.995870Z"
    },
    "papermill": {
     "duration": 0.056652,
     "end_time": "2025-07-23T12:54:18.999941",
     "exception": false,
     "start_time": "2025-07-23T12:54:18.943289",
     "status": "completed"
    },
    "tags": []
   },
   "outputs": [],
   "source": [
    "# Code nice names to column names\n",
    "\n",
    "excluded_features_columns = [\n",
    "    excluded_features_dictionary[f] for f in excluded_features if len(f) > 0 and f != \"none\"\n",
    "]"
   ]
  },
  {
   "cell_type": "code",
   "execution_count": 16,
   "id": "f84f73a2",
   "metadata": {
    "execution": {
     "iopub.execute_input": "2025-07-23T12:54:19.113018Z",
     "iopub.status.busy": "2025-07-23T12:54:19.112584Z",
     "iopub.status.idle": "2025-07-23T12:54:19.119575Z",
     "shell.execute_reply": "2025-07-23T12:54:19.118661Z"
    },
    "papermill": {
     "duration": 0.048309,
     "end_time": "2025-07-23T12:54:19.121421",
     "exception": false,
     "start_time": "2025-07-23T12:54:19.073112",
     "status": "completed"
    },
    "tags": []
   },
   "outputs": [],
   "source": [
    "from utils import flatten_once\n",
    "\n",
    "excluded_features_columns = flatten_once(excluded_features_columns)"
   ]
  },
  {
   "cell_type": "code",
   "execution_count": 17,
   "id": "884dea22",
   "metadata": {
    "execution": {
     "iopub.execute_input": "2025-07-23T12:54:19.210058Z",
     "iopub.status.busy": "2025-07-23T12:54:19.209614Z",
     "iopub.status.idle": "2025-07-23T12:54:19.243569Z",
     "shell.execute_reply": "2025-07-23T12:54:19.242430Z"
    },
    "papermill": {
     "duration": 0.074972,
     "end_time": "2025-07-23T12:54:19.245359",
     "exception": false,
     "start_time": "2025-07-23T12:54:19.170387",
     "status": "completed"
    },
    "tags": []
   },
   "outputs": [
    {
     "name": "stdout",
     "output_type": "stream",
     "text": [
      "Dropping features: ['maxdeutsch1', 'maxdeutsch.Missing.', 'frau1']\n"
     ]
    }
   ],
   "source": [
    "if len(excluded_features_columns) > 0:\n",
    "    print(f\"Dropping features: {excluded_features_columns}\")\n",
    "    X_train.drop(excluded_features_columns, axis=1, inplace=True)"
   ]
  },
  {
   "cell_type": "code",
   "execution_count": 18,
   "id": "95ab8b16",
   "metadata": {
    "execution": {
     "iopub.execute_input": "2025-07-23T12:54:19.334852Z",
     "iopub.status.busy": "2025-07-23T12:54:19.334345Z",
     "iopub.status.idle": "2025-07-23T12:54:19.427402Z",
     "shell.execute_reply": "2025-07-23T12:54:19.426293Z"
    },
    "papermill": {
     "duration": 0.149368,
     "end_time": "2025-07-23T12:54:19.429694",
     "exception": false,
     "start_time": "2025-07-23T12:54:19.280326",
     "status": "completed"
    },
    "tags": []
   },
   "outputs": [
    {
     "name": "stdout",
     "output_type": "stream",
     "text": [
      "Dropping features: ['maxdeutsch1', 'maxdeutsch.Missing.', 'frau1']\n"
     ]
    }
   ],
   "source": [
    "if len(excluded_features_columns) > 0:\n",
    "    print(f\"Dropping features: {excluded_features_columns}\")\n",
    "    X_test.drop(excluded_features_columns, axis=1, inplace=True)"
   ]
  },
  {
   "cell_type": "code",
   "execution_count": 19,
   "id": "1853aaf5-fb9f-46cb-a2b5-8ea4ae2237e4",
   "metadata": {
    "execution": {
     "iopub.execute_input": "2025-07-23T12:54:19.543124Z",
     "iopub.status.busy": "2025-07-23T12:54:19.542656Z",
     "iopub.status.idle": "2025-07-23T12:54:19.671493Z",
     "shell.execute_reply": "2025-07-23T12:54:19.670380Z"
    },
    "papermill": {
     "duration": 0.20798,
     "end_time": "2025-07-23T12:54:19.673809",
     "exception": false,
     "start_time": "2025-07-23T12:54:19.465829",
     "status": "completed"
    },
    "tags": []
   },
   "outputs": [
    {
     "name": "stdout",
     "output_type": "stream",
     "text": [
      "Dropping features: ['maxdeutsch1', 'maxdeutsch.Missing.', 'frau1']\n"
     ]
    }
   ],
   "source": [
    "if len(excluded_features_columns) > 0:\n",
    "    print(f\"Dropping features: {excluded_features_columns}\")\n",
    "    X_calib.drop(excluded_features_columns, axis=1, inplace=True)"
   ]
  },
  {
   "cell_type": "code",
   "execution_count": 20,
   "id": "76c4dc6d",
   "metadata": {
    "execution": {
     "iopub.execute_input": "2025-07-23T12:54:19.763231Z",
     "iopub.status.busy": "2025-07-23T12:54:19.762755Z",
     "iopub.status.idle": "2025-07-23T12:54:19.769291Z",
     "shell.execute_reply": "2025-07-23T12:54:19.767991Z"
    },
    "papermill": {
     "duration": 0.042383,
     "end_time": "2025-07-23T12:54:19.771230",
     "exception": false,
     "start_time": "2025-07-23T12:54:19.728847",
     "status": "completed"
    },
    "tags": []
   },
   "outputs": [],
   "source": [
    "# EXCLUDE CERTAIN SUBGROUPS\n",
    "# ----------------------\n",
    "\n",
    "mode = universe.get(\"exclude_subgroups\", \"keep-all\") \n",
    "# Fetches the exclude_subgroups setting from the universe dict.\n",
    "# Defaults to \"keep-all\" if the key is missing."
   ]
  },
  {
   "cell_type": "code",
   "execution_count": 21,
   "id": "21994072",
   "metadata": {
    "execution": {
     "iopub.execute_input": "2025-07-23T12:54:19.867939Z",
     "iopub.status.busy": "2025-07-23T12:54:19.867453Z",
     "iopub.status.idle": "2025-07-23T12:54:19.875264Z",
     "shell.execute_reply": "2025-07-23T12:54:19.874137Z"
    },
    "papermill": {
     "duration": 0.073457,
     "end_time": "2025-07-23T12:54:19.877821",
     "exception": false,
     "start_time": "2025-07-23T12:54:19.804364",
     "status": "completed"
    },
    "tags": []
   },
   "outputs": [],
   "source": [
    "if mode == \"keep-all\":\n",
    "    keep_mask = pd.Series(True, index=org_train.index)\n",
    "\n",
    "# org_train contains the original feature columns from features_org (in Simson)\n",
    "# features_org contains unprocessed features, for me X_train at beginning ???\n",
    "# For keep-all, creates a boolean Series (keep_mask) of all True, so no rows are removed.\n",
    "\n",
    "elif mode == \"drop-non-german\":\n",
    "    keep_mask = org_train[\"maxdeutsch1\"] == 1 # ??? what about missing values?\n",
    "\n",
    "else:\n",
    "    raise ValueError(f\"Unsupported mode for exclude_subgroups: {mode}\")\n"
   ]
  },
  {
   "cell_type": "code",
   "execution_count": 22,
   "id": "71651440",
   "metadata": {
    "execution": {
     "iopub.execute_input": "2025-07-23T12:54:19.932768Z",
     "iopub.status.busy": "2025-07-23T12:54:19.932251Z",
     "iopub.status.idle": "2025-07-23T12:54:19.940458Z",
     "shell.execute_reply": "2025-07-23T12:54:19.939121Z"
    },
    "papermill": {
     "duration": 0.036764,
     "end_time": "2025-07-23T12:54:19.944445",
     "exception": false,
     "start_time": "2025-07-23T12:54:19.907681",
     "status": "completed"
    },
    "tags": []
   },
   "outputs": [],
   "source": [
    "n_drop = (~keep_mask).sum() # Calculates how many rows are set to be dropped\n",
    "if n_drop > 0:\n",
    "    pct = n_drop / len(keep_mask) * 100\n",
    "    print(f\"Dropping {n_drop} rows ({pct:.2f}%) where mode='{mode}'\")"
   ]
  },
  {
   "cell_type": "code",
   "execution_count": 23,
   "id": "5fb8eee5",
   "metadata": {
    "execution": {
     "iopub.execute_input": "2025-07-23T12:54:19.990826Z",
     "iopub.status.busy": "2025-07-23T12:54:19.990357Z",
     "iopub.status.idle": "2025-07-23T12:54:20.018604Z",
     "shell.execute_reply": "2025-07-23T12:54:20.017447Z"
    },
    "papermill": {
     "duration": 0.054246,
     "end_time": "2025-07-23T12:54:20.021379",
     "exception": false,
     "start_time": "2025-07-23T12:54:19.967133",
     "status": "completed"
    },
    "tags": []
   },
   "outputs": [],
   "source": [
    "X_train = X_train[keep_mask]"
   ]
  },
  {
   "cell_type": "code",
   "execution_count": 24,
   "id": "b202bb3a",
   "metadata": {
    "execution": {
     "iopub.execute_input": "2025-07-23T12:54:20.068135Z",
     "iopub.status.busy": "2025-07-23T12:54:20.067654Z",
     "iopub.status.idle": "2025-07-23T12:54:20.075921Z",
     "shell.execute_reply": "2025-07-23T12:54:20.074545Z"
    },
    "papermill": {
     "duration": 0.035659,
     "end_time": "2025-07-23T12:54:20.079876",
     "exception": false,
     "start_time": "2025-07-23T12:54:20.044217",
     "status": "completed"
    },
    "tags": []
   },
   "outputs": [],
   "source": [
    "y_train = y_train[keep_mask]"
   ]
  },
  {
   "cell_type": "markdown",
   "id": "493e2ac3",
   "metadata": {
    "papermill": {
     "duration": 0.021749,
     "end_time": "2025-07-23T12:54:20.124348",
     "exception": false,
     "start_time": "2025-07-23T12:54:20.102599",
     "status": "completed"
    },
    "tags": []
   },
   "source": [
    "# Model Training"
   ]
  },
  {
   "cell_type": "code",
   "execution_count": 25,
   "id": "679e1268",
   "metadata": {
    "execution": {
     "iopub.execute_input": "2025-07-23T12:54:20.169765Z",
     "iopub.status.busy": "2025-07-23T12:54:20.169302Z",
     "iopub.status.idle": "2025-07-23T12:54:20.442498Z",
     "shell.execute_reply": "2025-07-23T12:54:20.441213Z"
    },
    "papermill": {
     "duration": 0.298928,
     "end_time": "2025-07-23T12:54:20.444907",
     "exception": false,
     "start_time": "2025-07-23T12:54:20.145979",
     "status": "completed"
    },
    "tags": []
   },
   "outputs": [],
   "source": [
    "from sklearn.linear_model import LogisticRegression\n",
    "from sklearn.ensemble import GradientBoostingClassifier, RandomForestClassifier\n",
    "\n",
    "if (universe[\"model\"] == \"logreg\"):\n",
    "    model = LogisticRegression() #penalty=\"none\") #, solver=\"newton-cg\", max_iter=1) # include random_state=19 ?\n",
    "elif (universe[\"model\"] == \"penalized_logreg\"):\n",
    "    model = LogisticRegression(penalty=\"l2\", C=1.0) #, solver=\"newton-cg\", max_iter=1)\n",
    "elif (universe[\"model\"] == \"rf\"):\n",
    "    model = RandomForestClassifier(n_estimators=100, n_jobs=-1)\n",
    "elif (universe[\"model\"] == \"gbm\"):\n",
    "    model = GradientBoostingClassifier()\n",
    "elif (universe[\"model\"] == \"elasticnet\"):\n",
    "    model = LogisticRegression(penalty = 'elasticnet', solver = 'saga', l1_ratio = 0.5, max_iter=5000) # which solver to use?\n",
    "else:\n",
    "    raise \"Unsupported universe.model\""
   ]
  },
  {
   "cell_type": "code",
   "execution_count": 26,
   "id": "0cc8f744",
   "metadata": {
    "execution": {
     "iopub.execute_input": "2025-07-23T12:54:20.531329Z",
     "iopub.status.busy": "2025-07-23T12:54:20.530897Z",
     "iopub.status.idle": "2025-07-23T12:54:20.539537Z",
     "shell.execute_reply": "2025-07-23T12:54:20.538365Z"
    },
    "papermill": {
     "duration": 0.057731,
     "end_time": "2025-07-23T12:54:20.541620",
     "exception": false,
     "start_time": "2025-07-23T12:54:20.483889",
     "status": "completed"
    },
    "tags": []
   },
   "outputs": [],
   "source": [
    "import numpy as np\n",
    "from sklearn.pipeline import Pipeline\n",
    "from sklearn.preprocessing import StandardScaler\n",
    "\n",
    "model = Pipeline([\n",
    "    #(\"continuous_processor\", continuous_processor),\n",
    "    #(\"categorical_preprocessor\", categorical_preprocessor),\n",
    "    (\"scale\", StandardScaler() if universe[\"scale\"] == \"scale\" else None), \n",
    "    (\"model\", model),\n",
    "])"
   ]
  },
  {
   "cell_type": "code",
   "execution_count": 27,
   "id": "9442c04d",
   "metadata": {
    "execution": {
     "iopub.execute_input": "2025-07-23T12:54:20.614023Z",
     "iopub.status.busy": "2025-07-23T12:54:20.613533Z",
     "iopub.status.idle": "2025-07-23T12:54:26.220649Z",
     "shell.execute_reply": "2025-07-23T12:54:26.219699Z"
    },
    "papermill": {
     "duration": 5.653833,
     "end_time": "2025-07-23T12:54:26.230910",
     "exception": false,
     "start_time": "2025-07-23T12:54:20.577077",
     "status": "completed"
    },
    "tags": []
   },
   "outputs": [
    {
     "data": {
      "text/html": [
       "<style>#sk-container-id-1 {color: black;background-color: white;}#sk-container-id-1 pre{padding: 0;}#sk-container-id-1 div.sk-toggleable {background-color: white;}#sk-container-id-1 label.sk-toggleable__label {cursor: pointer;display: block;width: 100%;margin-bottom: 0;padding: 0.3em;box-sizing: border-box;text-align: center;}#sk-container-id-1 label.sk-toggleable__label-arrow:before {content: \"▸\";float: left;margin-right: 0.25em;color: #696969;}#sk-container-id-1 label.sk-toggleable__label-arrow:hover:before {color: black;}#sk-container-id-1 div.sk-estimator:hover label.sk-toggleable__label-arrow:before {color: black;}#sk-container-id-1 div.sk-toggleable__content {max-height: 0;max-width: 0;overflow: hidden;text-align: left;background-color: #f0f8ff;}#sk-container-id-1 div.sk-toggleable__content pre {margin: 0.2em;color: black;border-radius: 0.25em;background-color: #f0f8ff;}#sk-container-id-1 input.sk-toggleable__control:checked~div.sk-toggleable__content {max-height: 200px;max-width: 100%;overflow: auto;}#sk-container-id-1 input.sk-toggleable__control:checked~label.sk-toggleable__label-arrow:before {content: \"▾\";}#sk-container-id-1 div.sk-estimator input.sk-toggleable__control:checked~label.sk-toggleable__label {background-color: #d4ebff;}#sk-container-id-1 div.sk-label input.sk-toggleable__control:checked~label.sk-toggleable__label {background-color: #d4ebff;}#sk-container-id-1 input.sk-hidden--visually {border: 0;clip: rect(1px 1px 1px 1px);clip: rect(1px, 1px, 1px, 1px);height: 1px;margin: -1px;overflow: hidden;padding: 0;position: absolute;width: 1px;}#sk-container-id-1 div.sk-estimator {font-family: monospace;background-color: #f0f8ff;border: 1px dotted black;border-radius: 0.25em;box-sizing: border-box;margin-bottom: 0.5em;}#sk-container-id-1 div.sk-estimator:hover {background-color: #d4ebff;}#sk-container-id-1 div.sk-parallel-item::after {content: \"\";width: 100%;border-bottom: 1px solid gray;flex-grow: 1;}#sk-container-id-1 div.sk-label:hover label.sk-toggleable__label {background-color: #d4ebff;}#sk-container-id-1 div.sk-serial::before {content: \"\";position: absolute;border-left: 1px solid gray;box-sizing: border-box;top: 0;bottom: 0;left: 50%;z-index: 0;}#sk-container-id-1 div.sk-serial {display: flex;flex-direction: column;align-items: center;background-color: white;padding-right: 0.2em;padding-left: 0.2em;position: relative;}#sk-container-id-1 div.sk-item {position: relative;z-index: 1;}#sk-container-id-1 div.sk-parallel {display: flex;align-items: stretch;justify-content: center;background-color: white;position: relative;}#sk-container-id-1 div.sk-item::before, #sk-container-id-1 div.sk-parallel-item::before {content: \"\";position: absolute;border-left: 1px solid gray;box-sizing: border-box;top: 0;bottom: 0;left: 50%;z-index: -1;}#sk-container-id-1 div.sk-parallel-item {display: flex;flex-direction: column;z-index: 1;position: relative;background-color: white;}#sk-container-id-1 div.sk-parallel-item:first-child::after {align-self: flex-end;width: 50%;}#sk-container-id-1 div.sk-parallel-item:last-child::after {align-self: flex-start;width: 50%;}#sk-container-id-1 div.sk-parallel-item:only-child::after {width: 0;}#sk-container-id-1 div.sk-dashed-wrapped {border: 1px dashed gray;margin: 0 0.4em 0.5em 0.4em;box-sizing: border-box;padding-bottom: 0.4em;background-color: white;}#sk-container-id-1 div.sk-label label {font-family: monospace;font-weight: bold;display: inline-block;line-height: 1.2em;}#sk-container-id-1 div.sk-label-container {text-align: center;}#sk-container-id-1 div.sk-container {/* jupyter's `normalize.less` sets `[hidden] { display: none; }` but bootstrap.min.css set `[hidden] { display: none !important; }` so we also need the `!important` here to be able to override the default hidden behavior on the sphinx rendered scikit-learn.org. See: https://github.com/scikit-learn/scikit-learn/issues/21755 */display: inline-block !important;position: relative;}#sk-container-id-1 div.sk-text-repr-fallback {display: none;}</style><div id=\"sk-container-id-1\" class=\"sk-top-container\"><div class=\"sk-text-repr-fallback\"><pre>Pipeline(steps=[(&#x27;scale&#x27;, StandardScaler()),\n",
       "                (&#x27;model&#x27;, RandomForestClassifier(n_jobs=-1))])</pre><b>In a Jupyter environment, please rerun this cell to show the HTML representation or trust the notebook. <br />On GitHub, the HTML representation is unable to render, please try loading this page with nbviewer.org.</b></div><div class=\"sk-container\" hidden><div class=\"sk-item sk-dashed-wrapped\"><div class=\"sk-label-container\"><div class=\"sk-label sk-toggleable\"><input class=\"sk-toggleable__control sk-hidden--visually\" id=\"sk-estimator-id-1\" type=\"checkbox\" ><label for=\"sk-estimator-id-1\" class=\"sk-toggleable__label sk-toggleable__label-arrow\">Pipeline</label><div class=\"sk-toggleable__content\"><pre>Pipeline(steps=[(&#x27;scale&#x27;, StandardScaler()),\n",
       "                (&#x27;model&#x27;, RandomForestClassifier(n_jobs=-1))])</pre></div></div></div><div class=\"sk-serial\"><div class=\"sk-item\"><div class=\"sk-estimator sk-toggleable\"><input class=\"sk-toggleable__control sk-hidden--visually\" id=\"sk-estimator-id-2\" type=\"checkbox\" ><label for=\"sk-estimator-id-2\" class=\"sk-toggleable__label sk-toggleable__label-arrow\">StandardScaler</label><div class=\"sk-toggleable__content\"><pre>StandardScaler()</pre></div></div></div><div class=\"sk-item\"><div class=\"sk-estimator sk-toggleable\"><input class=\"sk-toggleable__control sk-hidden--visually\" id=\"sk-estimator-id-3\" type=\"checkbox\" ><label for=\"sk-estimator-id-3\" class=\"sk-toggleable__label sk-toggleable__label-arrow\">RandomForestClassifier</label><div class=\"sk-toggleable__content\"><pre>RandomForestClassifier(n_jobs=-1)</pre></div></div></div></div></div></div></div>"
      ],
      "text/plain": [
       "Pipeline(steps=[('scale', StandardScaler()),\n",
       "                ('model', RandomForestClassifier(n_jobs=-1))])"
      ]
     },
     "execution_count": 27,
     "metadata": {},
     "output_type": "execute_result"
    }
   ],
   "source": [
    "model.fit(X_train, y_train.values.ravel())"
   ]
  },
  {
   "cell_type": "code",
   "execution_count": 28,
   "id": "af59f8c0",
   "metadata": {
    "execution": {
     "iopub.execute_input": "2025-07-23T12:54:26.322867Z",
     "iopub.status.busy": "2025-07-23T12:54:26.322466Z",
     "iopub.status.idle": "2025-07-23T12:54:26.328648Z",
     "shell.execute_reply": "2025-07-23T12:54:26.327561Z"
    },
    "papermill": {
     "duration": 0.060878,
     "end_time": "2025-07-23T12:54:26.330321",
     "exception": false,
     "start_time": "2025-07-23T12:54:26.269443",
     "status": "completed"
    },
    "tags": []
   },
   "outputs": [],
   "source": [
    "from fairness_multiverse.universe import predict_w_threshold"
   ]
  },
  {
   "cell_type": "code",
   "execution_count": 29,
   "id": "a7cf2e16",
   "metadata": {
    "execution": {
     "iopub.execute_input": "2025-07-23T12:54:26.427132Z",
     "iopub.status.busy": "2025-07-23T12:54:26.426705Z",
     "iopub.status.idle": "2025-07-23T12:54:27.816201Z",
     "shell.execute_reply": "2025-07-23T12:54:27.814905Z"
    },
    "papermill": {
     "duration": 1.441517,
     "end_time": "2025-07-23T12:54:27.818650",
     "exception": false,
     "start_time": "2025-07-23T12:54:26.377133",
     "status": "completed"
    },
    "tags": []
   },
   "outputs": [
    {
     "data": {
      "text/plain": [
       "0.8655333853528034"
      ]
     },
     "execution_count": 29,
     "metadata": {},
     "output_type": "execute_result"
    }
   ],
   "source": [
    "probs_test = model.predict_proba(X_test)\n",
    "\n",
    "'''\n",
    "Below code returns a boolean array (or binary 0/1 array depending on how it’s used) where each element \n",
    "is True if the probability of class 1 is greater than or equal to the threshold, and False otherwise.\n",
    "'''\n",
    "y_pred_default = predict_w_threshold(probs_test, 0.5)\n",
    "\n",
    "from sklearn.metrics import accuracy_score\n",
    "\n",
    "# Naive prediction\n",
    "accuracy_score(y_true = y_true, y_pred = y_pred_default)"
   ]
  },
  {
   "cell_type": "code",
   "execution_count": 30,
   "id": "081964c3",
   "metadata": {
    "execution": {
     "iopub.execute_input": "2025-07-23T12:54:27.906496Z",
     "iopub.status.busy": "2025-07-23T12:54:27.906033Z",
     "iopub.status.idle": "2025-07-23T12:54:29.166340Z",
     "shell.execute_reply": "2025-07-23T12:54:29.165338Z"
    },
    "papermill": {
     "duration": 1.295171,
     "end_time": "2025-07-23T12:54:29.168282",
     "exception": false,
     "start_time": "2025-07-23T12:54:27.873111",
     "status": "completed"
    },
    "tags": []
   },
   "outputs": [
    {
     "data": {
      "text/plain": [
       "array([0, 0, 0, ..., 0, 0, 0])"
      ]
     },
     "execution_count": 30,
     "metadata": {},
     "output_type": "execute_result"
    }
   ],
   "source": [
    "model.predict(X_test)"
   ]
  },
  {
   "cell_type": "markdown",
   "id": "56c9705b",
   "metadata": {
    "papermill": {
     "duration": 0.033643,
     "end_time": "2025-07-23T12:54:29.238316",
     "exception": false,
     "start_time": "2025-07-23T12:54:29.204673",
     "status": "completed"
    },
    "tags": []
   },
   "source": [
    "# Conformal Prediction"
   ]
  },
  {
   "cell_type": "code",
   "execution_count": 31,
   "id": "160ec6ff",
   "metadata": {
    "execution": {
     "iopub.execute_input": "2025-07-23T12:54:29.303579Z",
     "iopub.status.busy": "2025-07-23T12:54:29.303143Z",
     "iopub.status.idle": "2025-07-23T12:54:29.308510Z",
     "shell.execute_reply": "2025-07-23T12:54:29.307626Z"
    },
    "papermill": {
     "duration": 0.033109,
     "end_time": "2025-07-23T12:54:29.311443",
     "exception": false,
     "start_time": "2025-07-23T12:54:29.278334",
     "status": "completed"
    },
    "tags": []
   },
   "outputs": [],
   "source": [
    "# Miscoverage level for conformal prediction (10% allowed error rate => 90% target coverage)\n",
    "alpha = 0.1"
   ]
  },
  {
   "cell_type": "code",
   "execution_count": 32,
   "id": "eadf4555-3dd3-440e-8e35-f82a4ad9f855",
   "metadata": {
    "execution": {
     "iopub.execute_input": "2025-07-23T12:54:29.356235Z",
     "iopub.status.busy": "2025-07-23T12:54:29.355820Z",
     "iopub.status.idle": "2025-07-23T12:54:31.148579Z",
     "shell.execute_reply": "2025-07-23T12:54:31.147492Z"
    },
    "papermill": {
     "duration": 1.817558,
     "end_time": "2025-07-23T12:54:31.150787",
     "exception": false,
     "start_time": "2025-07-23T12:54:29.333229",
     "status": "completed"
    },
    "tags": []
   },
   "outputs": [],
   "source": [
    "probs_calib = model.predict_proba(X_calib)"
   ]
  },
  {
   "cell_type": "code",
   "execution_count": 33,
   "id": "2ed93547-6d5d-4983-9b36-1ecb300da49a",
   "metadata": {
    "execution": {
     "iopub.execute_input": "2025-07-23T12:54:31.263174Z",
     "iopub.status.busy": "2025-07-23T12:54:31.262712Z",
     "iopub.status.idle": "2025-07-23T12:54:31.269299Z",
     "shell.execute_reply": "2025-07-23T12:54:31.268062Z"
    },
    "papermill": {
     "duration": 0.078121,
     "end_time": "2025-07-23T12:54:31.271002",
     "exception": false,
     "start_time": "2025-07-23T12:54:31.192881",
     "status": "completed"
    },
    "tags": []
   },
   "outputs": [],
   "source": [
    "y_calib = y_calib.values.ravel().astype(int)"
   ]
  },
  {
   "cell_type": "code",
   "execution_count": 34,
   "id": "65d1320d-f588-4b38-9072-62af1ae97f7d",
   "metadata": {
    "execution": {
     "iopub.execute_input": "2025-07-23T12:54:31.363605Z",
     "iopub.status.busy": "2025-07-23T12:54:31.363161Z",
     "iopub.status.idle": "2025-07-23T12:54:31.372068Z",
     "shell.execute_reply": "2025-07-23T12:54:31.371121Z"
    },
    "papermill": {
     "duration": 0.065815,
     "end_time": "2025-07-23T12:54:31.374228",
     "exception": false,
     "start_time": "2025-07-23T12:54:31.308413",
     "status": "completed"
    },
    "tags": []
   },
   "outputs": [],
   "source": [
    "from fairness_multiverse.conformal import compute_nc_scores\n",
    "\n",
    "# Compute nonconformity scores on calibration set (1 - probability of true class)\n",
    "nc_scores = compute_nc_scores(probs_calib, y_calib)"
   ]
  },
  {
   "cell_type": "code",
   "execution_count": 35,
   "id": "df3b8ca3-53b7-43d5-9667-7c85da7aeda2",
   "metadata": {
    "execution": {
     "iopub.execute_input": "2025-07-23T12:54:31.464552Z",
     "iopub.status.busy": "2025-07-23T12:54:31.464106Z",
     "iopub.status.idle": "2025-07-23T12:54:31.471819Z",
     "shell.execute_reply": "2025-07-23T12:54:31.470811Z"
    },
    "papermill": {
     "duration": 0.049914,
     "end_time": "2025-07-23T12:54:31.475036",
     "exception": false,
     "start_time": "2025-07-23T12:54:31.425122",
     "status": "completed"
    },
    "tags": []
   },
   "outputs": [],
   "source": [
    "from fairness_multiverse.conformal import find_threshold\n",
    "\n",
    "# Find conformal threshold q_hat for the given alpha (split conformal method)\n",
    "q_hat = find_threshold(nc_scores, alpha)"
   ]
  },
  {
   "cell_type": "code",
   "execution_count": 36,
   "id": "4d29e6c1-0ef6-4aa4-b8fe-4fe79b0d033a",
   "metadata": {
    "execution": {
     "iopub.execute_input": "2025-07-23T12:54:31.600488Z",
     "iopub.status.busy": "2025-07-23T12:54:31.600042Z",
     "iopub.status.idle": "2025-07-23T12:54:31.609647Z",
     "shell.execute_reply": "2025-07-23T12:54:31.608393Z"
    },
    "papermill": {
     "duration": 0.091257,
     "end_time": "2025-07-23T12:54:31.611983",
     "exception": false,
     "start_time": "2025-07-23T12:54:31.520726",
     "status": "completed"
    },
    "tags": []
   },
   "outputs": [
    {
     "data": {
      "text/plain": [
       "0.65"
      ]
     },
     "execution_count": 36,
     "metadata": {},
     "output_type": "execute_result"
    }
   ],
   "source": [
    "q_hat"
   ]
  },
  {
   "cell_type": "code",
   "execution_count": 37,
   "id": "92460794-cdac-4be2-ba28-f28c0515a6fb",
   "metadata": {
    "execution": {
     "iopub.execute_input": "2025-07-23T12:54:31.687400Z",
     "iopub.status.busy": "2025-07-23T12:54:31.686963Z",
     "iopub.status.idle": "2025-07-23T12:54:34.054104Z",
     "shell.execute_reply": "2025-07-23T12:54:34.052625Z"
    },
    "papermill": {
     "duration": 2.422157,
     "end_time": "2025-07-23T12:54:34.056436",
     "exception": false,
     "start_time": "2025-07-23T12:54:31.634279",
     "status": "completed"
    },
    "tags": []
   },
   "outputs": [],
   "source": [
    "from fairness_multiverse.conformal import predict_conformal_sets\n",
    "\n",
    "# Generate prediction sets for each test example\n",
    "pred_sets = predict_conformal_sets(model, X_test, q_hat)"
   ]
  },
  {
   "cell_type": "code",
   "execution_count": 38,
   "id": "d90c9a65-e6db-4f5d-80cd-e68fb7e46829",
   "metadata": {
    "execution": {
     "iopub.execute_input": "2025-07-23T12:54:34.100351Z",
     "iopub.status.busy": "2025-07-23T12:54:34.099887Z",
     "iopub.status.idle": "2025-07-23T12:54:34.107114Z",
     "shell.execute_reply": "2025-07-23T12:54:34.106170Z"
    },
    "papermill": {
     "duration": 0.032882,
     "end_time": "2025-07-23T12:54:34.110440",
     "exception": false,
     "start_time": "2025-07-23T12:54:34.077558",
     "status": "completed"
    },
    "tags": []
   },
   "outputs": [],
   "source": [
    "y_true = y_true.squeeze()"
   ]
  },
  {
   "cell_type": "code",
   "execution_count": 39,
   "id": "3a58a54a-1e68-46b9-927a-df01f18aebc8",
   "metadata": {
    "execution": {
     "iopub.execute_input": "2025-07-23T12:54:34.154707Z",
     "iopub.status.busy": "2025-07-23T12:54:34.154268Z",
     "iopub.status.idle": "2025-07-23T12:54:35.206398Z",
     "shell.execute_reply": "2025-07-23T12:54:35.205375Z"
    },
    "papermill": {
     "duration": 1.077011,
     "end_time": "2025-07-23T12:54:35.208551",
     "exception": false,
     "start_time": "2025-07-23T12:54:34.131540",
     "status": "completed"
    },
    "tags": []
   },
   "outputs": [],
   "source": [
    "from fairness_multiverse.conformal import evaluate_sets\n",
    "\n",
    "# Evaluate coverage and average set size on test data\n",
    "metrics = evaluate_sets(pred_sets, y_true)"
   ]
  },
  {
   "cell_type": "code",
   "execution_count": 40,
   "id": "5ce0a5cb-201f-45a0-ade5-94c7f0bd6095",
   "metadata": {
    "execution": {
     "iopub.execute_input": "2025-07-23T12:54:35.279580Z",
     "iopub.status.busy": "2025-07-23T12:54:35.279163Z",
     "iopub.status.idle": "2025-07-23T12:54:35.287494Z",
     "shell.execute_reply": "2025-07-23T12:54:35.286373Z"
    },
    "papermill": {
     "duration": 0.048792,
     "end_time": "2025-07-23T12:54:35.292045",
     "exception": false,
     "start_time": "2025-07-23T12:54:35.243253",
     "status": "completed"
    },
    "tags": []
   },
   "outputs": [
    {
     "data": {
      "text/plain": [
       "{'coverage': 0.9135436406197748, 'avg_size': 1.1413666257942259}"
      ]
     },
     "execution_count": 40,
     "metadata": {},
     "output_type": "execute_result"
    }
   ],
   "source": [
    "metrics"
   ]
  },
  {
   "cell_type": "code",
   "execution_count": 41,
   "id": "9b9a838d-31c9-430b-ae14-12baee460d17",
   "metadata": {
    "execution": {
     "iopub.execute_input": "2025-07-23T12:54:35.340944Z",
     "iopub.status.busy": "2025-07-23T12:54:35.340504Z",
     "iopub.status.idle": "2025-07-23T12:54:35.347222Z",
     "shell.execute_reply": "2025-07-23T12:54:35.346242Z"
    },
    "papermill": {
     "duration": 0.035694,
     "end_time": "2025-07-23T12:54:35.350922",
     "exception": false,
     "start_time": "2025-07-23T12:54:35.315228",
     "status": "completed"
    },
    "tags": []
   },
   "outputs": [],
   "source": [
    "example_universe = universe.copy()\n",
    "universe_model = example_universe.get(\"model\")\n",
    "universe_exclude_features = example_universe.get(\"exclude_features\")\n",
    "universe_exclude_subgroups = example_universe.get(\"exclude_subgroups\")\n",
    "universe_scale = example_universe.get(\"scale\")"
   ]
  },
  {
   "cell_type": "code",
   "execution_count": 42,
   "id": "f4b6a8ac-9dc0-4245-8a91-5b3b5999c4f9",
   "metadata": {
    "execution": {
     "iopub.execute_input": "2025-07-23T12:54:35.395567Z",
     "iopub.status.busy": "2025-07-23T12:54:35.395067Z",
     "iopub.status.idle": "2025-07-23T12:54:35.402797Z",
     "shell.execute_reply": "2025-07-23T12:54:35.401644Z"
    },
    "papermill": {
     "duration": 0.0353,
     "end_time": "2025-07-23T12:54:35.407529",
     "exception": false,
     "start_time": "2025-07-23T12:54:35.372229",
     "status": "completed"
    },
    "tags": []
   },
   "outputs": [],
   "source": [
    "cp_metrics_dict = {\n",
    "    \"universe_id\": [universe_id],\n",
    "    \"universe_model\": [universe_model],\n",
    "    \"universe_exclude_features\": [universe_exclude_features],\n",
    "    \"universe_exclude_subgroups\": [universe_exclude_subgroups],\n",
    "    \"universe_scale\": [universe_scale],\n",
    "    \"q_hat\": [q_hat],\n",
    "    \"coverage\": [metrics[\"coverage\"]],\n",
    "    \"avg_size\": [metrics[\"avg_size\"]],\n",
    "}"
   ]
  },
  {
   "cell_type": "code",
   "execution_count": 43,
   "id": "908acbb1-0371-4915-85ca-3fa520d2efe2",
   "metadata": {
    "execution": {
     "iopub.execute_input": "2025-07-23T12:54:35.464858Z",
     "iopub.status.busy": "2025-07-23T12:54:35.464403Z",
     "iopub.status.idle": "2025-07-23T12:54:35.472667Z",
     "shell.execute_reply": "2025-07-23T12:54:35.471576Z"
    },
    "papermill": {
     "duration": 0.038623,
     "end_time": "2025-07-23T12:54:35.477698",
     "exception": false,
     "start_time": "2025-07-23T12:54:35.439075",
     "status": "completed"
    },
    "tags": []
   },
   "outputs": [
    {
     "data": {
      "text/plain": [
       "{'universe_id': ['178e4745600648bf3470ed27ba046cb4'],\n",
       " 'universe_model': ['rf'],\n",
       " 'universe_exclude_features': ['nationality-sex'],\n",
       " 'universe_exclude_subgroups': ['keep-all'],\n",
       " 'universe_scale': ['scale'],\n",
       " 'q_hat': [0.65],\n",
       " 'coverage': [0.9135436406197748],\n",
       " 'avg_size': [1.1413666257942259]}"
      ]
     },
     "execution_count": 43,
     "metadata": {},
     "output_type": "execute_result"
    }
   ],
   "source": [
    "cp_metrics_dict"
   ]
  },
  {
   "cell_type": "code",
   "execution_count": 44,
   "id": "33007efc-14e9-4ec6-97ac-56a455c82265",
   "metadata": {
    "execution": {
     "iopub.execute_input": "2025-07-23T12:54:35.573980Z",
     "iopub.status.busy": "2025-07-23T12:54:35.573530Z",
     "iopub.status.idle": "2025-07-23T12:54:35.580813Z",
     "shell.execute_reply": "2025-07-23T12:54:35.579701Z"
    },
    "papermill": {
     "duration": 0.063861,
     "end_time": "2025-07-23T12:54:35.593067",
     "exception": false,
     "start_time": "2025-07-23T12:54:35.529206",
     "status": "completed"
    },
    "tags": []
   },
   "outputs": [],
   "source": [
    "cp_metrics_df = pd.DataFrame(cp_metrics_dict)"
   ]
  },
  {
   "cell_type": "code",
   "execution_count": 45,
   "id": "db12611b-57b2-4910-b9d0-355adfd6e7bf",
   "metadata": {
    "execution": {
     "iopub.execute_input": "2025-07-23T12:54:35.667660Z",
     "iopub.status.busy": "2025-07-23T12:54:35.667228Z",
     "iopub.status.idle": "2025-07-23T12:54:35.703589Z",
     "shell.execute_reply": "2025-07-23T12:54:35.702556Z"
    },
    "papermill": {
     "duration": 0.075006,
     "end_time": "2025-07-23T12:54:35.705728",
     "exception": false,
     "start_time": "2025-07-23T12:54:35.630722",
     "status": "completed"
    },
    "tags": []
   },
   "outputs": [
    {
     "data": {
      "text/html": [
       "<div>\n",
       "<style scoped>\n",
       "    .dataframe tbody tr th:only-of-type {\n",
       "        vertical-align: middle;\n",
       "    }\n",
       "\n",
       "    .dataframe tbody tr th {\n",
       "        vertical-align: top;\n",
       "    }\n",
       "\n",
       "    .dataframe thead th {\n",
       "        text-align: right;\n",
       "    }\n",
       "</style>\n",
       "<table border=\"1\" class=\"dataframe\">\n",
       "  <thead>\n",
       "    <tr style=\"text-align: right;\">\n",
       "      <th></th>\n",
       "      <th>universe_id</th>\n",
       "      <th>universe_model</th>\n",
       "      <th>universe_exclude_features</th>\n",
       "      <th>universe_exclude_subgroups</th>\n",
       "      <th>universe_scale</th>\n",
       "      <th>q_hat</th>\n",
       "      <th>coverage</th>\n",
       "      <th>avg_size</th>\n",
       "    </tr>\n",
       "  </thead>\n",
       "  <tbody>\n",
       "    <tr>\n",
       "      <th>0</th>\n",
       "      <td>178e4745600648bf3470ed27ba046cb4</td>\n",
       "      <td>rf</td>\n",
       "      <td>nationality-sex</td>\n",
       "      <td>keep-all</td>\n",
       "      <td>scale</td>\n",
       "      <td>0.65</td>\n",
       "      <td>0.913544</td>\n",
       "      <td>1.141367</td>\n",
       "    </tr>\n",
       "  </tbody>\n",
       "</table>\n",
       "</div>"
      ],
      "text/plain": [
       "                        universe_id universe_model universe_exclude_features  \\\n",
       "0  178e4745600648bf3470ed27ba046cb4             rf           nationality-sex   \n",
       "\n",
       "  universe_exclude_subgroups universe_scale  q_hat  coverage  avg_size  \n",
       "0                   keep-all          scale   0.65  0.913544  1.141367  "
      ]
     },
     "execution_count": 45,
     "metadata": {},
     "output_type": "execute_result"
    }
   ],
   "source": [
    "cp_metrics_df"
   ]
  },
  {
   "cell_type": "code",
   "execution_count": 46,
   "id": "b7fbde55-a0a1-47e4-9af6-fe4a17fa8c61",
   "metadata": {
    "execution": {
     "iopub.execute_input": "2025-07-23T12:54:35.784367Z",
     "iopub.status.busy": "2025-07-23T12:54:35.783945Z",
     "iopub.status.idle": "2025-07-23T12:54:35.789510Z",
     "shell.execute_reply": "2025-07-23T12:54:35.788434Z"
    },
    "papermill": {
     "duration": 0.048824,
     "end_time": "2025-07-23T12:54:35.801653",
     "exception": false,
     "start_time": "2025-07-23T12:54:35.752829",
     "status": "completed"
    },
    "tags": []
   },
   "outputs": [],
   "source": [
    "# Conditional Coverage & looking at subgroups"
   ]
  },
  {
   "cell_type": "code",
   "execution_count": 47,
   "id": "027ae886-68dd-4141-96c7-805a5450e1ef",
   "metadata": {
    "execution": {
     "iopub.execute_input": "2025-07-23T12:54:35.851003Z",
     "iopub.status.busy": "2025-07-23T12:54:35.850613Z",
     "iopub.status.idle": "2025-07-23T12:54:36.102699Z",
     "shell.execute_reply": "2025-07-23T12:54:36.101871Z"
    },
    "papermill": {
     "duration": 0.268601,
     "end_time": "2025-07-23T12:54:36.104757",
     "exception": false,
     "start_time": "2025-07-23T12:54:35.836156",
     "status": "completed"
    },
    "tags": []
   },
   "outputs": [],
   "source": [
    "from fairness_multiverse.conformal import build_cp_groups\n",
    "\n",
    "cp_groups_df = build_cp_groups(pred_sets, y_true, X_test.index, org_test)\n",
    "#needs universe_id and setting"
   ]
  },
  {
   "cell_type": "code",
   "execution_count": 48,
   "id": "c3b92545-903e-4839-89af-0f057907d7d6",
   "metadata": {
    "execution": {
     "iopub.execute_input": "2025-07-23T12:54:36.143111Z",
     "iopub.status.busy": "2025-07-23T12:54:36.142550Z",
     "iopub.status.idle": "2025-07-23T12:54:38.000539Z",
     "shell.execute_reply": "2025-07-23T12:54:37.999192Z"
    },
    "papermill": {
     "duration": 1.873128,
     "end_time": "2025-07-23T12:54:38.002579",
     "exception": false,
     "start_time": "2025-07-23T12:54:36.129451",
     "status": "completed"
    },
    "tags": []
   },
   "outputs": [],
   "source": [
    "# Define covered = 1 if true_label is in the predicted set\n",
    "cp_groups_df['covered'] = cp_groups_df.apply(\n",
    "    lambda r: int(r['true_label'] in r['pred_set']),\n",
    "    axis=1\n",
    ")"
   ]
  },
  {
   "cell_type": "code",
   "execution_count": 49,
   "id": "338ff529-1a6b-4b87-a931-8e4788d52aad",
   "metadata": {
    "execution": {
     "iopub.execute_input": "2025-07-23T12:54:38.072349Z",
     "iopub.status.busy": "2025-07-23T12:54:38.071920Z",
     "iopub.status.idle": "2025-07-23T12:54:38.077988Z",
     "shell.execute_reply": "2025-07-23T12:54:38.077023Z"
    },
    "papermill": {
     "duration": 0.065526,
     "end_time": "2025-07-23T12:54:38.107829",
     "exception": false,
     "start_time": "2025-07-23T12:54:38.042303",
     "status": "completed"
    },
    "tags": []
   },
   "outputs": [],
   "source": [
    "#cp_groups_df"
   ]
  },
  {
   "cell_type": "code",
   "execution_count": 50,
   "id": "90032e27-66df-4540-9169-4e89cfbaa758",
   "metadata": {
    "execution": {
     "iopub.execute_input": "2025-07-23T12:54:38.217234Z",
     "iopub.status.busy": "2025-07-23T12:54:38.216703Z",
     "iopub.status.idle": "2025-07-23T12:54:38.232694Z",
     "shell.execute_reply": "2025-07-23T12:54:38.231140Z"
    },
    "papermill": {
     "duration": 0.062352,
     "end_time": "2025-07-23T12:54:38.234892",
     "exception": false,
     "start_time": "2025-07-23T12:54:38.172540",
     "status": "completed"
    },
    "tags": []
   },
   "outputs": [],
   "source": [
    "subgroups = ['frau1','nongerman','nongerman_male','nongerman_female']\n",
    "\n",
    "# Conditional coverage for subgroup==1\n",
    "cond_coverage = {\n",
    "    g: cp_groups_df.loc[cp_groups_df[g]==1, 'covered'].mean()\n",
    "    for g in subgroups\n",
    "}"
   ]
  },
  {
   "cell_type": "code",
   "execution_count": 51,
   "id": "1e348fb1-b9c3-45bc-ba23-f016827a7e0d",
   "metadata": {
    "execution": {
     "iopub.execute_input": "2025-07-23T12:54:38.319192Z",
     "iopub.status.busy": "2025-07-23T12:54:38.318713Z",
     "iopub.status.idle": "2025-07-23T12:54:38.327035Z",
     "shell.execute_reply": "2025-07-23T12:54:38.326018Z"
    },
    "papermill": {
     "duration": 0.054671,
     "end_time": "2025-07-23T12:54:38.331800",
     "exception": false,
     "start_time": "2025-07-23T12:54:38.277129",
     "status": "completed"
    },
    "tags": []
   },
   "outputs": [
    {
     "data": {
      "text/plain": [
       "{'frau1': 0.9122792829222267,\n",
       " 'nongerman': 0.9070903272890586,\n",
       " 'nongerman_male': 0.9220030622354318,\n",
       " 'nongerman_female': 0.882414307004471}"
      ]
     },
     "execution_count": 51,
     "metadata": {},
     "output_type": "execute_result"
    }
   ],
   "source": [
    "cond_coverage"
   ]
  },
  {
   "cell_type": "code",
   "execution_count": 52,
   "id": "f5093324-c3dd-4d63-bc4c-8d945e5c8bbb",
   "metadata": {
    "execution": {
     "iopub.execute_input": "2025-07-23T12:54:38.443854Z",
     "iopub.status.busy": "2025-07-23T12:54:38.443432Z",
     "iopub.status.idle": "2025-07-23T12:54:38.451581Z",
     "shell.execute_reply": "2025-07-23T12:54:38.450584Z"
    },
    "papermill": {
     "duration": 0.065704,
     "end_time": "2025-07-23T12:54:38.453566",
     "exception": false,
     "start_time": "2025-07-23T12:54:38.387862",
     "status": "completed"
    },
    "tags": []
   },
   "outputs": [],
   "source": [
    "for subgroup, cov in cond_coverage.items():\n",
    "    cp_metrics_df[f\"cov_{subgroup}\"] = cov"
   ]
  },
  {
   "cell_type": "code",
   "execution_count": 53,
   "id": "6e872e10-dbe5-49e8-b554-5030c98ff75d",
   "metadata": {
    "execution": {
     "iopub.execute_input": "2025-07-23T12:54:38.527876Z",
     "iopub.status.busy": "2025-07-23T12:54:38.527496Z",
     "iopub.status.idle": "2025-07-23T12:54:38.550907Z",
     "shell.execute_reply": "2025-07-23T12:54:38.549708Z"
    },
    "papermill": {
     "duration": 0.051929,
     "end_time": "2025-07-23T12:54:38.554692",
     "exception": false,
     "start_time": "2025-07-23T12:54:38.502763",
     "status": "completed"
    },
    "tags": []
   },
   "outputs": [
    {
     "data": {
      "text/html": [
       "<div>\n",
       "<style scoped>\n",
       "    .dataframe tbody tr th:only-of-type {\n",
       "        vertical-align: middle;\n",
       "    }\n",
       "\n",
       "    .dataframe tbody tr th {\n",
       "        vertical-align: top;\n",
       "    }\n",
       "\n",
       "    .dataframe thead th {\n",
       "        text-align: right;\n",
       "    }\n",
       "</style>\n",
       "<table border=\"1\" class=\"dataframe\">\n",
       "  <thead>\n",
       "    <tr style=\"text-align: right;\">\n",
       "      <th></th>\n",
       "      <th>universe_id</th>\n",
       "      <th>universe_model</th>\n",
       "      <th>universe_exclude_features</th>\n",
       "      <th>universe_exclude_subgroups</th>\n",
       "      <th>universe_scale</th>\n",
       "      <th>q_hat</th>\n",
       "      <th>coverage</th>\n",
       "      <th>avg_size</th>\n",
       "      <th>cov_frau1</th>\n",
       "      <th>cov_nongerman</th>\n",
       "      <th>cov_nongerman_male</th>\n",
       "      <th>cov_nongerman_female</th>\n",
       "    </tr>\n",
       "  </thead>\n",
       "  <tbody>\n",
       "    <tr>\n",
       "      <th>0</th>\n",
       "      <td>178e4745600648bf3470ed27ba046cb4</td>\n",
       "      <td>rf</td>\n",
       "      <td>nationality-sex</td>\n",
       "      <td>keep-all</td>\n",
       "      <td>scale</td>\n",
       "      <td>0.65</td>\n",
       "      <td>0.913544</td>\n",
       "      <td>1.141367</td>\n",
       "      <td>0.912279</td>\n",
       "      <td>0.90709</td>\n",
       "      <td>0.922003</td>\n",
       "      <td>0.882414</td>\n",
       "    </tr>\n",
       "  </tbody>\n",
       "</table>\n",
       "</div>"
      ],
      "text/plain": [
       "                        universe_id universe_model universe_exclude_features  \\\n",
       "0  178e4745600648bf3470ed27ba046cb4             rf           nationality-sex   \n",
       "\n",
       "  universe_exclude_subgroups universe_scale  q_hat  coverage  avg_size  \\\n",
       "0                   keep-all          scale   0.65  0.913544  1.141367   \n",
       "\n",
       "   cov_frau1  cov_nongerman  cov_nongerman_male  cov_nongerman_female  \n",
       "0   0.912279        0.90709            0.922003              0.882414  "
      ]
     },
     "execution_count": 53,
     "metadata": {},
     "output_type": "execute_result"
    }
   ],
   "source": [
    "cp_metrics_df"
   ]
  },
  {
   "cell_type": "markdown",
   "id": "33774451",
   "metadata": {
    "papermill": {
     "duration": 0.012305,
     "end_time": "2025-07-23T12:54:38.582454",
     "exception": false,
     "start_time": "2025-07-23T12:54:38.570149",
     "status": "completed"
    },
    "tags": []
   },
   "source": [
    "# (Fairness) Metrics"
   ]
  },
  {
   "cell_type": "code",
   "execution_count": 54,
   "id": "debc5d62",
   "metadata": {
    "execution": {
     "iopub.execute_input": "2025-07-23T12:54:38.607881Z",
     "iopub.status.busy": "2025-07-23T12:54:38.607513Z",
     "iopub.status.idle": "2025-07-23T12:54:38.623090Z",
     "shell.execute_reply": "2025-07-23T12:54:38.622321Z"
    },
    "papermill": {
     "duration": 0.030025,
     "end_time": "2025-07-23T12:54:38.624553",
     "exception": false,
     "start_time": "2025-07-23T12:54:38.594528",
     "status": "completed"
    },
    "tags": []
   },
   "outputs": [],
   "source": [
    "# do I need to include maxdeutsch1.missing?\n",
    "\n",
    "import numpy as np\n",
    "\n",
    "colname_to_bin = \"maxdeutsch1\"\n",
    "majority_value = org_train[colname_to_bin].mode()[0]\n",
    "\n",
    "org_test[\"majmin\"] = np.where(org_test[colname_to_bin] == majority_value, \"majority\", \"minority\")"
   ]
  },
  {
   "cell_type": "code",
   "execution_count": 55,
   "id": "06a50de5",
   "metadata": {
    "execution": {
     "iopub.execute_input": "2025-07-23T12:54:38.650520Z",
     "iopub.status.busy": "2025-07-23T12:54:38.650146Z",
     "iopub.status.idle": "2025-07-23T12:54:40.326532Z",
     "shell.execute_reply": "2025-07-23T12:54:40.325648Z"
    },
    "papermill": {
     "duration": 1.690942,
     "end_time": "2025-07-23T12:54:40.328117",
     "exception": false,
     "start_time": "2025-07-23T12:54:38.637175",
     "status": "completed"
    },
    "tags": []
   },
   "outputs": [],
   "source": [
    "example_universe = universe.copy()\n",
    "example_universe[\"cutoff\"] = example_universe[\"cutoff\"][0]\n",
    "example_universe[\"eval_fairness_grouping\"] = example_universe[\"eval_fairness_grouping\"][0]\n",
    "fairness_dict, metric_frame = universe_analysis.compute_metrics(\n",
    "    example_universe,\n",
    "    y_pred_prob=probs_test,\n",
    "    y_test=y_true,\n",
    "    org_test=org_test,\n",
    ")"
   ]
  },
  {
   "cell_type": "markdown",
   "id": "f95d4e02",
   "metadata": {
    "papermill": {
     "duration": 0.011865,
     "end_time": "2025-07-23T12:54:40.352474",
     "exception": false,
     "start_time": "2025-07-23T12:54:40.340609",
     "status": "completed"
    },
    "tags": []
   },
   "source": [
    "# Overall"
   ]
  },
  {
   "cell_type": "markdown",
   "id": "bdee4871",
   "metadata": {
    "papermill": {
     "duration": 0.012043,
     "end_time": "2025-07-23T12:54:40.376260",
     "exception": false,
     "start_time": "2025-07-23T12:54:40.364217",
     "status": "completed"
    },
    "tags": []
   },
   "source": [
    "Fairness\n",
    "Main fairness target: Equalized Odds. Seems to be a better fit than equal opportunity, since we're not only interested in Y = 1. Seems to be a better fit than demographic parity, since we also care about accuracy, not just equal distribution of preds.\n",
    "\n",
    "Pick column for computation of fairness metrics\n",
    "\n",
    "Performance\n",
    "Overall performance measures, most interesting in relation to the measures split by group below"
   ]
  },
  {
   "cell_type": "code",
   "execution_count": 56,
   "id": "c4e067c6",
   "metadata": {
    "execution": {
     "iopub.execute_input": "2025-07-23T12:54:40.402212Z",
     "iopub.status.busy": "2025-07-23T12:54:40.401431Z",
     "iopub.status.idle": "2025-07-23T12:54:40.409783Z",
     "shell.execute_reply": "2025-07-23T12:54:40.408798Z"
    },
    "papermill": {
     "duration": 0.02295,
     "end_time": "2025-07-23T12:54:40.411271",
     "exception": false,
     "start_time": "2025-07-23T12:54:40.388321",
     "status": "completed"
    },
    "tags": []
   },
   "outputs": [
    {
     "data": {
      "text/plain": [
       "accuracy                   0.195920\n",
       "balanced accuracy          0.531571\n",
       "f1                         0.238772\n",
       "precision                  0.135889\n",
       "false positive rate        0.919913\n",
       "false negative rate        0.016945\n",
       "selection rate             0.928012\n",
       "count                  89710.000000\n",
       "dtype: float64"
      ]
     },
     "execution_count": 56,
     "metadata": {},
     "output_type": "execute_result"
    }
   ],
   "source": [
    "metric_frame.overall"
   ]
  },
  {
   "cell_type": "markdown",
   "id": "e968fe9d",
   "metadata": {
    "papermill": {
     "duration": 0.020237,
     "end_time": "2025-07-23T12:54:40.444672",
     "exception": false,
     "start_time": "2025-07-23T12:54:40.424435",
     "status": "completed"
    },
    "tags": []
   },
   "source": [
    "By Group"
   ]
  },
  {
   "cell_type": "code",
   "execution_count": 57,
   "id": "ec325bce",
   "metadata": {
    "execution": {
     "iopub.execute_input": "2025-07-23T12:54:40.490461Z",
     "iopub.status.busy": "2025-07-23T12:54:40.490087Z",
     "iopub.status.idle": "2025-07-23T12:54:40.509591Z",
     "shell.execute_reply": "2025-07-23T12:54:40.508342Z"
    },
    "papermill": {
     "duration": 0.042469,
     "end_time": "2025-07-23T12:54:40.511702",
     "exception": false,
     "start_time": "2025-07-23T12:54:40.469233",
     "status": "completed"
    },
    "tags": []
   },
   "outputs": [
    {
     "data": {
      "text/html": [
       "<div>\n",
       "<style scoped>\n",
       "    .dataframe tbody tr th:only-of-type {\n",
       "        vertical-align: middle;\n",
       "    }\n",
       "\n",
       "    .dataframe tbody tr th {\n",
       "        vertical-align: top;\n",
       "    }\n",
       "\n",
       "    .dataframe thead th {\n",
       "        text-align: right;\n",
       "    }\n",
       "</style>\n",
       "<table border=\"1\" class=\"dataframe\">\n",
       "  <thead>\n",
       "    <tr style=\"text-align: right;\">\n",
       "      <th></th>\n",
       "      <th>accuracy</th>\n",
       "      <th>balanced accuracy</th>\n",
       "      <th>f1</th>\n",
       "      <th>precision</th>\n",
       "      <th>false positive rate</th>\n",
       "      <th>false negative rate</th>\n",
       "      <th>selection rate</th>\n",
       "      <th>count</th>\n",
       "    </tr>\n",
       "    <tr>\n",
       "      <th>majmin</th>\n",
       "      <th></th>\n",
       "      <th></th>\n",
       "      <th></th>\n",
       "      <th></th>\n",
       "      <th></th>\n",
       "      <th></th>\n",
       "      <th></th>\n",
       "      <th></th>\n",
       "    </tr>\n",
       "  </thead>\n",
       "  <tbody>\n",
       "    <tr>\n",
       "      <th>majority</th>\n",
       "      <td>0.187205</td>\n",
       "      <td>0.527784</td>\n",
       "      <td>0.243640</td>\n",
       "      <td>0.138900</td>\n",
       "      <td>0.935132</td>\n",
       "      <td>0.009300</td>\n",
       "      <td>0.942475</td>\n",
       "      <td>69170.0</td>\n",
       "    </tr>\n",
       "    <tr>\n",
       "      <th>minority</th>\n",
       "      <td>0.225268</td>\n",
       "      <td>0.541956</td>\n",
       "      <td>0.221058</td>\n",
       "      <td>0.125021</td>\n",
       "      <td>0.869635</td>\n",
       "      <td>0.046453</td>\n",
       "      <td>0.879309</td>\n",
       "      <td>20540.0</td>\n",
       "    </tr>\n",
       "  </tbody>\n",
       "</table>\n",
       "</div>"
      ],
      "text/plain": [
       "          accuracy  balanced accuracy        f1  precision  \\\n",
       "majmin                                                       \n",
       "majority  0.187205           0.527784  0.243640   0.138900   \n",
       "minority  0.225268           0.541956  0.221058   0.125021   \n",
       "\n",
       "          false positive rate  false negative rate  selection rate    count  \n",
       "majmin                                                                       \n",
       "majority             0.935132             0.009300        0.942475  69170.0  \n",
       "minority             0.869635             0.046453        0.879309  20540.0  "
      ]
     },
     "execution_count": 57,
     "metadata": {},
     "output_type": "execute_result"
    }
   ],
   "source": [
    "metric_frame.by_group"
   ]
  },
  {
   "cell_type": "code",
   "execution_count": 58,
   "id": "a9ddbe63",
   "metadata": {
    "execution": {
     "iopub.execute_input": "2025-07-23T12:54:40.565692Z",
     "iopub.status.busy": "2025-07-23T12:54:40.564946Z",
     "iopub.status.idle": "2025-07-23T12:54:43.049200Z",
     "shell.execute_reply": "2025-07-23T12:54:43.048269Z"
    },
    "papermill": {
     "duration": 2.512776,
     "end_time": "2025-07-23T12:54:43.050849",
     "exception": false,
     "start_time": "2025-07-23T12:54:40.538073",
     "status": "completed"
    },
    "tags": []
   },
   "outputs": [
    {
     "data": {
      "text/plain": [
       "array([[<Axes: title={'center': 'accuracy'}, xlabel='majmin'>,\n",
       "        <Axes: title={'center': 'balanced accuracy'}, xlabel='majmin'>,\n",
       "        <Axes: title={'center': 'f1'}, xlabel='majmin'>],\n",
       "       [<Axes: title={'center': 'precision'}, xlabel='majmin'>,\n",
       "        <Axes: title={'center': 'false positive rate'}, xlabel='majmin'>,\n",
       "        <Axes: title={'center': 'false negative rate'}, xlabel='majmin'>],\n",
       "       [<Axes: title={'center': 'selection rate'}, xlabel='majmin'>,\n",
       "        <Axes: title={'center': 'count'}, xlabel='majmin'>,\n",
       "        <Axes: xlabel='majmin'>]], dtype=object)"
      ]
     },
     "execution_count": 58,
     "metadata": {},
     "output_type": "execute_result"
    },
    {
     "data": {
      "image/png": "[encoded data removed]",
      "text/plain": [
       "<Figure size 1200x800 with 9 Axes>"
      ]
     },
     "metadata": {},
     "output_type": "display_data"
    }
   ],
   "source": [
    "# In a graphic\n",
    "metric_frame.by_group.plot.bar(\n",
    "    subplots=True,\n",
    "    layout=[3, 3],\n",
    "    legend=False,\n",
    "    figsize=[12, 8],\n",
    "    title=\"Show all metrics\",\n",
    ")"
   ]
  },
  {
   "cell_type": "markdown",
   "id": "f57a0bac",
   "metadata": {
    "papermill": {
     "duration": 0.024364,
     "end_time": "2025-07-23T12:54:43.099968",
     "exception": false,
     "start_time": "2025-07-23T12:54:43.075604",
     "status": "completed"
    },
    "tags": []
   },
   "source": [
    "# Final Output"
   ]
  },
  {
   "cell_type": "code",
   "execution_count": 59,
   "id": "96d280a3",
   "metadata": {
    "execution": {
     "iopub.execute_input": "2025-07-23T12:54:43.152154Z",
     "iopub.status.busy": "2025-07-23T12:54:43.151509Z",
     "iopub.status.idle": "2025-07-23T12:54:43.160446Z",
     "shell.execute_reply": "2025-07-23T12:54:43.159545Z"
    },
    "papermill": {
     "duration": 0.038372,
     "end_time": "2025-07-23T12:54:43.162079",
     "exception": false,
     "start_time": "2025-07-23T12:54:43.123707",
     "status": "completed"
    },
    "tags": []
   },
   "outputs": [
    {
     "data": {
      "text/plain": [
       "4"
      ]
     },
     "execution_count": 59,
     "metadata": {},
     "output_type": "execute_result"
    }
   ],
   "source": [
    "sub_universes = universe_analysis.generate_sub_universes()\n",
    "len(sub_universes)"
   ]
  },
  {
   "cell_type": "code",
   "execution_count": 60,
   "id": "92adf7ba",
   "metadata": {
    "execution": {
     "iopub.execute_input": "2025-07-23T12:54:43.213016Z",
     "iopub.status.busy": "2025-07-23T12:54:43.212282Z",
     "iopub.status.idle": "2025-07-23T12:54:43.218763Z",
     "shell.execute_reply": "2025-07-23T12:54:43.217762Z"
    },
    "papermill": {
     "duration": 0.033878,
     "end_time": "2025-07-23T12:54:43.220632",
     "exception": false,
     "start_time": "2025-07-23T12:54:43.186754",
     "status": "completed"
    },
    "tags": []
   },
   "outputs": [],
   "source": [
    "def filter_sub_universe_data(sub_universe, org_test):\n",
    "    # Keep all rows — no filtering\n",
    "    keep_rows_mask = np.ones(org_test.shape[0], dtype=bool)\n",
    "\n",
    "    print(f\"[INFO] Keeping all rows: {keep_rows_mask.sum()} rows retained.\")\n",
    "    return keep_rows_mask"
   ]
  },
  {
   "cell_type": "code",
   "execution_count": 61,
   "id": "4a759155",
   "metadata": {
    "execution": {
     "iopub.execute_input": "2025-07-23T12:54:43.271927Z",
     "iopub.status.busy": "2025-07-23T12:54:43.271440Z",
     "iopub.status.idle": "2025-07-23T12:54:54.955185Z",
     "shell.execute_reply": "2025-07-23T12:54:54.953951Z"
    },
    "papermill": {
     "duration": 11.711595,
     "end_time": "2025-07-23T12:54:54.957023",
     "exception": false,
     "start_time": "2025-07-23T12:54:43.245428",
     "status": "completed"
    },
    "tags": []
   },
   "outputs": [
    {
     "name": "stdout",
     "output_type": "stream",
     "text": [
      "Stopping execution_time clock.\n",
      "[INFO] Keeping all rows: 89710 rows retained.\n"
     ]
    },
    {
     "name": "stdout",
     "output_type": "stream",
     "text": [
      "[INFO] Keeping all rows: 89710 rows retained.\n"
     ]
    },
    {
     "name": "stdout",
     "output_type": "stream",
     "text": [
      "[INFO] Keeping all rows: 89710 rows retained.\n"
     ]
    },
    {
     "name": "stdout",
     "output_type": "stream",
     "text": [
      "[INFO] Keeping all rows: 89710 rows retained.\n"
     ]
    },
    {
     "data": {
      "text/html": [
       "<div>\n",
       "<style scoped>\n",
       "    .dataframe tbody tr th:only-of-type {\n",
       "        vertical-align: middle;\n",
       "    }\n",
       "\n",
       "    .dataframe tbody tr th {\n",
       "        vertical-align: top;\n",
       "    }\n",
       "\n",
       "    .dataframe thead th {\n",
       "        text-align: right;\n",
       "    }\n",
       "</style>\n",
       "<table border=\"1\" class=\"dataframe\">\n",
       "  <thead>\n",
       "    <tr style=\"text-align: right;\">\n",
       "      <th></th>\n",
       "      <th>run_no</th>\n",
       "      <th>universe_id</th>\n",
       "      <th>universe_settings</th>\n",
       "      <th>execution_time</th>\n",
       "      <th>test_size_n</th>\n",
       "      <th>test_size_frac</th>\n",
       "      <th>fair_main_equalized_odds_difference</th>\n",
       "      <th>fair_main_equalized_odds_ratio</th>\n",
       "      <th>fair_main_demographic_parity_difference</th>\n",
       "      <th>fair_main_demographic_parity_ratio</th>\n",
       "      <th>...</th>\n",
       "      <th>perf_grp_precision_0</th>\n",
       "      <th>perf_grp_precision_1</th>\n",
       "      <th>perf_grp_false positive rate_0</th>\n",
       "      <th>perf_grp_false positive rate_1</th>\n",
       "      <th>perf_grp_false negative rate_0</th>\n",
       "      <th>perf_grp_false negative rate_1</th>\n",
       "      <th>perf_grp_selection rate_0</th>\n",
       "      <th>perf_grp_selection rate_1</th>\n",
       "      <th>perf_grp_count_0</th>\n",
       "      <th>perf_grp_count_1</th>\n",
       "    </tr>\n",
       "  </thead>\n",
       "  <tbody>\n",
       "    <tr>\n",
       "      <th>0</th>\n",
       "      <td>6</td>\n",
       "      <td>178e4745600648bf3470ed27ba046cb4</td>\n",
       "      <td>{\"cutoff\": \"quantile_0.1\", \"eval_fairness_grou...</td>\n",
       "      <td>32.15032</td>\n",
       "      <td>89710</td>\n",
       "      <td>1.0</td>\n",
       "      <td>0.065498</td>\n",
       "      <td>0.929959</td>\n",
       "      <td>0.063166</td>\n",
       "      <td>0.932978</td>\n",
       "      <td>...</td>\n",
       "      <td>NaN</td>\n",
       "      <td>NaN</td>\n",
       "      <td>NaN</td>\n",
       "      <td>NaN</td>\n",
       "      <td>NaN</td>\n",
       "      <td>NaN</td>\n",
       "      <td>NaN</td>\n",
       "      <td>NaN</td>\n",
       "      <td>NaN</td>\n",
       "      <td>NaN</td>\n",
       "    </tr>\n",
       "    <tr>\n",
       "      <th>0</th>\n",
       "      <td>6</td>\n",
       "      <td>178e4745600648bf3470ed27ba046cb4</td>\n",
       "      <td>{\"cutoff\": \"quantile_0.1\", \"eval_fairness_grou...</td>\n",
       "      <td>32.15032</td>\n",
       "      <td>89710</td>\n",
       "      <td>1.0</td>\n",
       "      <td>0.065498</td>\n",
       "      <td>0.929959</td>\n",
       "      <td>0.063166</td>\n",
       "      <td>0.932978</td>\n",
       "      <td>...</td>\n",
       "      <td>0.125021</td>\n",
       "      <td>0.138900</td>\n",
       "      <td>0.869635</td>\n",
       "      <td>0.935132</td>\n",
       "      <td>0.046453</td>\n",
       "      <td>0.009300</td>\n",
       "      <td>0.879309</td>\n",
       "      <td>0.942475</td>\n",
       "      <td>20540.0</td>\n",
       "      <td>69170.0</td>\n",
       "    </tr>\n",
       "    <tr>\n",
       "      <th>0</th>\n",
       "      <td>6</td>\n",
       "      <td>178e4745600648bf3470ed27ba046cb4</td>\n",
       "      <td>{\"cutoff\": \"quantile_0.25\", \"eval_fairness_gro...</td>\n",
       "      <td>32.15032</td>\n",
       "      <td>89710</td>\n",
       "      <td>1.0</td>\n",
       "      <td>0.083540</td>\n",
       "      <td>0.909997</td>\n",
       "      <td>0.072008</td>\n",
       "      <td>0.906069</td>\n",
       "      <td>...</td>\n",
       "      <td>NaN</td>\n",
       "      <td>NaN</td>\n",
       "      <td>NaN</td>\n",
       "      <td>NaN</td>\n",
       "      <td>NaN</td>\n",
       "      <td>NaN</td>\n",
       "      <td>NaN</td>\n",
       "      <td>NaN</td>\n",
       "      <td>NaN</td>\n",
       "      <td>NaN</td>\n",
       "    </tr>\n",
       "    <tr>\n",
       "      <th>0</th>\n",
       "      <td>6</td>\n",
       "      <td>178e4745600648bf3470ed27ba046cb4</td>\n",
       "      <td>{\"cutoff\": \"quantile_0.25\", \"eval_fairness_gro...</td>\n",
       "      <td>32.15032</td>\n",
       "      <td>89710</td>\n",
       "      <td>1.0</td>\n",
       "      <td>0.083540</td>\n",
       "      <td>0.909997</td>\n",
       "      <td>0.072008</td>\n",
       "      <td>0.906069</td>\n",
       "      <td>...</td>\n",
       "      <td>0.143758</td>\n",
       "      <td>0.163693</td>\n",
       "      <td>0.672243</td>\n",
       "      <td>0.738731</td>\n",
       "      <td>0.133868</td>\n",
       "      <td>0.050328</td>\n",
       "      <td>0.694596</td>\n",
       "      <td>0.766604</td>\n",
       "      <td>20540.0</td>\n",
       "      <td>69170.0</td>\n",
       "    </tr>\n",
       "  </tbody>\n",
       "</table>\n",
       "<p>4 rows × 50 columns</p>\n",
       "</div>"
      ],
      "text/plain": [
       "  run_no                       universe_id  \\\n",
       "0      6  178e4745600648bf3470ed27ba046cb4   \n",
       "0      6  178e4745600648bf3470ed27ba046cb4   \n",
       "0      6  178e4745600648bf3470ed27ba046cb4   \n",
       "0      6  178e4745600648bf3470ed27ba046cb4   \n",
       "\n",
       "                                   universe_settings  execution_time  \\\n",
       "0  {\"cutoff\": \"quantile_0.1\", \"eval_fairness_grou...        32.15032   \n",
       "0  {\"cutoff\": \"quantile_0.1\", \"eval_fairness_grou...        32.15032   \n",
       "0  {\"cutoff\": \"quantile_0.25\", \"eval_fairness_gro...        32.15032   \n",
       "0  {\"cutoff\": \"quantile_0.25\", \"eval_fairness_gro...        32.15032   \n",
       "\n",
       "   test_size_n  test_size_frac  fair_main_equalized_odds_difference  \\\n",
       "0        89710             1.0                             0.065498   \n",
       "0        89710             1.0                             0.065498   \n",
       "0        89710             1.0                             0.083540   \n",
       "0        89710             1.0                             0.083540   \n",
       "\n",
       "   fair_main_equalized_odds_ratio  fair_main_demographic_parity_difference  \\\n",
       "0                        0.929959                                 0.063166   \n",
       "0                        0.929959                                 0.063166   \n",
       "0                        0.909997                                 0.072008   \n",
       "0                        0.909997                                 0.072008   \n",
       "\n",
       "   fair_main_demographic_parity_ratio  ...  perf_grp_precision_0  \\\n",
       "0                            0.932978  ...                   NaN   \n",
       "0                            0.932978  ...              0.125021   \n",
       "0                            0.906069  ...                   NaN   \n",
       "0                            0.906069  ...              0.143758   \n",
       "\n",
       "   perf_grp_precision_1  perf_grp_false positive rate_0  \\\n",
       "0                   NaN                             NaN   \n",
       "0              0.138900                        0.869635   \n",
       "0                   NaN                             NaN   \n",
       "0              0.163693                        0.672243   \n",
       "\n",
       "   perf_grp_false positive rate_1  perf_grp_false negative rate_0  \\\n",
       "0                             NaN                             NaN   \n",
       "0                        0.935132                        0.046453   \n",
       "0                             NaN                             NaN   \n",
       "0                        0.738731                        0.133868   \n",
       "\n",
       "   perf_grp_false negative rate_1  perf_grp_selection rate_0  \\\n",
       "0                             NaN                        NaN   \n",
       "0                        0.009300                   0.879309   \n",
       "0                             NaN                        NaN   \n",
       "0                        0.050328                   0.694596   \n",
       "\n",
       "   perf_grp_selection rate_1  perf_grp_count_0  perf_grp_count_1  \n",
       "0                        NaN               NaN               NaN  \n",
       "0                   0.942475           20540.0           69170.0  \n",
       "0                        NaN               NaN               NaN  \n",
       "0                   0.766604           20540.0           69170.0  \n",
       "\n",
       "[4 rows x 50 columns]"
      ]
     },
     "execution_count": 61,
     "metadata": {},
     "output_type": "execute_result"
    }
   ],
   "source": [
    "final_output = universe_analysis.generate_final_output(\n",
    "    y_pred_prob=probs_test,\n",
    "    y_test=y_true,\n",
    "    org_test=org_test,\n",
    "    filter_data=filter_sub_universe_data,\n",
    "    cp_metrics_df=cp_metrics_df,\n",
    "    save=True,\n",
    ")\n",
    "final_output"
   ]
  },
  {
   "cell_type": "code",
   "execution_count": null,
   "id": "721ff514-cb11-46f8-b6fc-50392f74b5cb",
   "metadata": {
    "papermill": {
     "duration": 0.029387,
     "end_time": "2025-07-23T12:54:55.017587",
     "exception": false,
     "start_time": "2025-07-23T12:54:54.988200",
     "status": "completed"
    },
    "tags": []
   },
   "outputs": [],
   "source": []
  }
 ],
 "metadata": {
  "celltoolbar": "Tags",
  "kernelspec": {
   "display_name": "Python (CMA Fairness)",
   "language": "python",
   "name": "cma_fair_env"
  },
  "language_info": {
   "codemirror_mode": {
    "name": "ipython",
    "version": 3
   },
   "file_extension": ".py",
   "mimetype": "text/x-python",
   "name": "python",
   "nbconvert_exporter": "python",
   "pygments_lexer": "ipython3",
   "version": "3.10.12"
  },
  "papermill": {
   "default_parameters": {},
   "duration": 51.234442,
   "end_time": "2025-07-23T12:54:55.869166",
   "environment_variables": {},
   "exception": null,
   "input_path": "universe_analysis.ipynb",
   "output_path": "output/runs/6/notebooks/m_6-178e4745600648bf3470ed27ba046cb4.ipynb",
   "parameters": {
    "output_dir": "output",
    "run_no": "6",
    "seed": "2023",
    "universe": "{\"cutoff\": [\"quantile_0.1\", \"quantile_0.25\"], \"eval_fairness_grouping\": [\"majority-minority\", \"nationality-all\"], \"exclude_features\": \"nationality-sex\", \"exclude_subgroups\": \"keep-all\", \"model\": \"rf\", \"scale\": \"scale\"}",
    "universe_id": "178e4745600648bf3470ed27ba046cb4"
   },
   "start_time": "2025-07-23T12:54:04.634724",
   "version": "2.6.0"
  }
 },
 "nbformat": 4,
 "nbformat_minor": 5
}