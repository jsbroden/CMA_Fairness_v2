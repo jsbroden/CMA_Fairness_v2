{
 "cells": [
  {
   "cell_type": "code",
   "execution_count": 1,
   "id": "f159f837-637b-42ba-96b5-ec9a68c44524",
   "metadata": {
    "execution": {
     "iopub.execute_input": "2025-07-23T13:05:52.565511Z",
     "iopub.status.busy": "2025-07-23T13:05:52.564732Z",
     "iopub.status.idle": "2025-07-23T13:05:52.579989Z",
     "shell.execute_reply": "2025-07-23T13:05:52.579008Z"
    },
    "papermill": {
     "duration": 0.035054,
     "end_time": "2025-07-23T13:05:52.581819",
     "exception": false,
     "start_time": "2025-07-23T13:05:52.546765",
     "status": "completed"
    },
    "tags": []
   },
   "outputs": [
    {
     "name": "stdout",
     "output_type": "stream",
     "text": [
      "/dss/dsshome1/0C/ra93lal2/cma/CMA_Fairness_v2\n"
     ]
    },
    {
     "name": "stderr",
     "output_type": "stream",
     "text": [
      "/dss/dsshome1/0C/ra93lal2/.local/share/virtualenvs/CMA_Fairness_v2-3j10GkSs/lib/python3.10/site-packages/IPython/core/magics/osm.py:393: UserWarning: This is now an optional IPython functionality, using bookmarks requires you to install the `pickleshare` library.\n",
      "  bkms = self.shell.db.get('bookmarks', {})\n",
      "/dss/dsshome1/0C/ra93lal2/.local/share/virtualenvs/CMA_Fairness_v2-3j10GkSs/lib/python3.10/site-packages/IPython/core/magics/osm.py:417: UserWarning: This is now an optional IPython functionality, setting dhist requires you to install the `pickleshare` library.\n",
      "  self.shell.db['dhist'] = compress_dhist(dhist)[-100:]\n"
     ]
    }
   ],
   "source": [
    "%cd ~/cma/CMA_Fairness_v2"
   ]
  },
  {
   "cell_type": "markdown",
   "id": "de2603b9",
   "metadata": {
    "papermill": {
     "duration": 0.016305,
     "end_time": "2025-07-23T13:05:52.614871",
     "exception": false,
     "start_time": "2025-07-23T13:05:52.598566",
     "status": "completed"
    },
    "tags": []
   },
   "source": [
    "The following cell holds the definition of our parameters, these values can be overriden by rendering the with e.g. the following command:\n",
    "\n",
    "papermill -p alpha 0.2 -p ratio 0.3 universe_analysis.ipynb output/test_run.ipynb"
   ]
  },
  {
   "cell_type": "code",
   "execution_count": 2,
   "id": "a80968a0-40bb-4fa9-85ef-2d5eefb01975",
   "metadata": {
    "execution": {
     "iopub.execute_input": "2025-07-23T13:05:52.649620Z",
     "iopub.status.busy": "2025-07-23T13:05:52.648621Z",
     "iopub.status.idle": "2025-07-23T13:05:52.654874Z",
     "shell.execute_reply": "2025-07-23T13:05:52.653836Z"
    },
    "papermill": {
     "duration": 0.025352,
     "end_time": "2025-07-23T13:05:52.656599",
     "exception": false,
     "start_time": "2025-07-23T13:05:52.631247",
     "status": "completed"
    },
    "tags": []
   },
   "outputs": [
    {
     "name": "stdout",
     "output_type": "stream",
     "text": [
      "Current working directory: /dss/dsshome1/0C/ra93lal2/cma/CMA_Fairness_v2\n"
     ]
    }
   ],
   "source": [
    "import os\n",
    "print(\"Current working directory:\", os.getcwd())"
   ]
  },
  {
   "cell_type": "code",
   "execution_count": 3,
   "id": "2dce4c03",
   "metadata": {
    "execution": {
     "iopub.execute_input": "2025-07-23T13:05:52.692703Z",
     "iopub.status.busy": "2025-07-23T13:05:52.691737Z",
     "iopub.status.idle": "2025-07-23T13:05:52.698746Z",
     "shell.execute_reply": "2025-07-23T13:05:52.697795Z"
    },
    "papermill": {
     "duration": 0.02707,
     "end_time": "2025-07-23T13:05:52.700733",
     "exception": false,
     "start_time": "2025-07-23T13:05:52.673663",
     "status": "completed"
    },
    "tags": [
     "parameters"
    ]
   },
   "outputs": [],
   "source": [
    "run_no = 0\n",
    "universe_id = \"test\"\n",
    "universe = {\n",
    "    \"scale\": \"scale\", # \"scale\", \"do-not-scale\",\n",
    "    \"model\": \"elasticnet\", # \"logreg\", \"penalized_logreg\", \"rf\", \"gbm\", \"elasticnet\"\n",
    "    \"cutoff\": [\"quantile_0.15\", \"quantile_0.30\"],\n",
    "    \"exclude_features\": \"age\", # \"none\", \"nationality\", \"sex\", \"nationality-sex\", \"age\"\n",
    "    \"exclude_subgroups\": \"keep-all\", # \"keep-all\", \"drop-non-german\"\n",
    "    \"eval_fairness_grouping\": [\"majority-minority\", \"nationality-all\"]\n",
    "}\n",
    "\n",
    "output_dir=\"./output\"\n",
    "seed=0"
   ]
  },
  {
   "cell_type": "code",
   "execution_count": 4,
   "id": "13120b5a",
   "metadata": {
    "execution": {
     "iopub.execute_input": "2025-07-23T13:05:52.740555Z",
     "iopub.status.busy": "2025-07-23T13:05:52.739634Z",
     "iopub.status.idle": "2025-07-23T13:05:52.745766Z",
     "shell.execute_reply": "2025-07-23T13:05:52.744748Z"
    },
    "papermill": {
     "duration": 0.027806,
     "end_time": "2025-07-23T13:05:52.747723",
     "exception": false,
     "start_time": "2025-07-23T13:05:52.719917",
     "status": "completed"
    },
    "tags": [
     "injected-parameters"
    ]
   },
   "outputs": [],
   "source": [
    "# Parameters\n",
    "universe_id = \"aab90f968f4c380d738a3d6184711202\"\n",
    "run_no = \"6\"\n",
    "universe = \"{\\\"cutoff\\\": [\\\"quantile_0.1\\\", \\\"quantile_0.25\\\"], \\\"eval_fairness_grouping\\\": [\\\"majority-minority\\\", \\\"nationality-all\\\"], \\\"exclude_features\\\": \\\"age\\\", \\\"exclude_subgroups\\\": \\\"keep-all\\\", \\\"model\\\": \\\"elasticnet\\\", \\\"scale\\\": \\\"do-not-scale\\\"}\"\n",
    "output_dir = \"output\"\n",
    "seed = \"2023\"\n"
   ]
  },
  {
   "cell_type": "code",
   "execution_count": 5,
   "id": "1650acaf",
   "metadata": {
    "execution": {
     "iopub.execute_input": "2025-07-23T13:05:52.787572Z",
     "iopub.status.busy": "2025-07-23T13:05:52.786680Z",
     "iopub.status.idle": "2025-07-23T13:05:52.792514Z",
     "shell.execute_reply": "2025-07-23T13:05:52.791560Z"
    },
    "papermill": {
     "duration": 0.02781,
     "end_time": "2025-07-23T13:05:52.794568",
     "exception": false,
     "start_time": "2025-07-23T13:05:52.766758",
     "status": "completed"
    },
    "tags": []
   },
   "outputs": [],
   "source": [
    "import json\n",
    "# Parse universe into dict if it is passed as a string\n",
    "if isinstance(universe, str):\n",
    "    universe = json.loads(universe)"
   ]
  },
  {
   "cell_type": "code",
   "execution_count": 6,
   "id": "16620c48",
   "metadata": {
    "execution": {
     "iopub.execute_input": "2025-07-23T13:05:52.834800Z",
     "iopub.status.busy": "2025-07-23T13:05:52.833810Z",
     "iopub.status.idle": "2025-07-23T13:05:52.881394Z",
     "shell.execute_reply": "2025-07-23T13:05:52.880489Z"
    },
    "papermill": {
     "duration": 0.069013,
     "end_time": "2025-07-23T13:05:52.882870",
     "exception": false,
     "start_time": "2025-07-23T13:05:52.813857",
     "status": "completed"
    },
    "tags": []
   },
   "outputs": [],
   "source": [
    "# Auto-reload the custom package\n",
    "%load_ext autoreload\n",
    "%autoreload 1\n",
    "%aimport fairness_multiverse"
   ]
  },
  {
   "cell_type": "code",
   "execution_count": 7,
   "id": "01c5c9f3",
   "metadata": {
    "execution": {
     "iopub.execute_input": "2025-07-23T13:05:52.902777Z",
     "iopub.status.busy": "2025-07-23T13:05:52.902046Z",
     "iopub.status.idle": "2025-07-23T13:05:54.684816Z",
     "shell.execute_reply": "2025-07-23T13:05:54.683947Z"
    },
    "papermill": {
     "duration": 1.794117,
     "end_time": "2025-07-23T13:05:54.686387",
     "exception": false,
     "start_time": "2025-07-23T13:05:52.892270",
     "status": "completed"
    },
    "tags": []
   },
   "outputs": [],
   "source": [
    "from fairness_multiverse.universe import UniverseAnalysis\n",
    "\n",
    "universe_analysis = UniverseAnalysis(\n",
    "    run_no = run_no,\n",
    "    universe_id = universe_id,\n",
    "    universe = universe,\n",
    "    output_dir=output_dir,\n",
    ")"
   ]
  },
  {
   "cell_type": "code",
   "execution_count": 8,
   "id": "106241f5",
   "metadata": {
    "execution": {
     "iopub.execute_input": "2025-07-23T13:05:54.715819Z",
     "iopub.status.busy": "2025-07-23T13:05:54.715539Z",
     "iopub.status.idle": "2025-07-23T13:05:54.722393Z",
     "shell.execute_reply": "2025-07-23T13:05:54.721378Z"
    },
    "papermill": {
     "duration": 0.027756,
     "end_time": "2025-07-23T13:05:54.723882",
     "exception": false,
     "start_time": "2025-07-23T13:05:54.696126",
     "status": "completed"
    },
    "tags": []
   },
   "outputs": [
    {
     "name": "stdout",
     "output_type": "stream",
     "text": [
      "Using Seed: 2023\n"
     ]
    }
   ],
   "source": [
    "import numpy as np\n",
    "parsed_seed = int(seed)\n",
    "np.random.seed(parsed_seed)\n",
    "print(f\"Using Seed: {parsed_seed}\")"
   ]
  },
  {
   "cell_type": "markdown",
   "id": "e0ebdc57",
   "metadata": {
    "papermill": {
     "duration": 0.009043,
     "end_time": "2025-07-23T13:05:54.742832",
     "exception": false,
     "start_time": "2025-07-23T13:05:54.733789",
     "status": "completed"
    },
    "tags": []
   },
   "source": [
    "# Loading Data"
   ]
  },
  {
   "cell_type": "markdown",
   "id": "681925a3",
   "metadata": {
    "papermill": {
     "duration": 0.009929,
     "end_time": "2025-07-23T13:05:54.761846",
     "exception": false,
     "start_time": "2025-07-23T13:05:54.751917",
     "status": "completed"
    },
    "tags": []
   },
   "source": [
    "Load siab_train, siab_test, siab_calib and/or \n",
    "load siab_train_features, siab_train_labels"
   ]
  },
  {
   "cell_type": "code",
   "execution_count": 9,
   "id": "f0496b8a",
   "metadata": {
    "execution": {
     "iopub.execute_input": "2025-07-23T13:05:54.781905Z",
     "iopub.status.busy": "2025-07-23T13:05:54.781302Z",
     "iopub.status.idle": "2025-07-23T13:05:54.786533Z",
     "shell.execute_reply": "2025-07-23T13:05:54.785774Z"
    },
    "papermill": {
     "duration": 0.016845,
     "end_time": "2025-07-23T13:05:54.787997",
     "exception": false,
     "start_time": "2025-07-23T13:05:54.771152",
     "status": "completed"
    },
    "tags": []
   },
   "outputs": [],
   "source": [
    "# Do I need to load siab? Delete this cell?\n",
    "\n",
    "#from pathlib import Path\n",
    "#import pandas as pd\n",
    "#\n",
    "## File paths\n",
    "#raw_file = Path(\"data/raw/siab.csv\")\n",
    "#cache_file = Path(\"data/siab_cached.csv.gz\")\n",
    "#\n",
    "## Ensure cache directory exists\n",
    "#cache_file.parent.mkdir(parents=True, exist_ok=True)\n",
    "#\n",
    "## Load with simple caching\n",
    "#if cache_file.exists():\n",
    "#    print(f\"Loading SIAB data from cache: {cache_file}\")\n",
    "#    siab = pd.read_csv(cache_file, compression='gzip')\n",
    "#else:\n",
    "#    print(f\"Cache not found. Reading raw SIAB data: {raw_file}\")\n",
    "#    siab = pd.read_csv(raw_file)\n",
    "#    siab.to_csv(cache_file, index=False, compression='gzip')\n",
    "#    print(f\"Cached SIAB data to: {cache_file}\")\n",
    "#\n",
    "## Now use `siab` DataFrame as needed\n",
    "#print(siab.shape)\n"
   ]
  },
  {
   "cell_type": "code",
   "execution_count": 10,
   "id": "a0edb063",
   "metadata": {
    "execution": {
     "iopub.execute_input": "2025-07-23T13:05:54.808088Z",
     "iopub.status.busy": "2025-07-23T13:05:54.807490Z",
     "iopub.status.idle": "2025-07-23T13:05:55.150854Z",
     "shell.execute_reply": "2025-07-23T13:05:55.150028Z"
    },
    "papermill": {
     "duration": 0.354714,
     "end_time": "2025-07-23T13:05:55.152429",
     "exception": false,
     "start_time": "2025-07-23T13:05:54.797715",
     "status": "completed"
    },
    "tags": []
   },
   "outputs": [],
   "source": [
    "import pandas as pd\n",
    "\n",
    "X_train = pd.read_csv(\"./data/X_train.csv\")\n",
    "y_train = pd.read_csv(\"./data/y_train.csv\")"
   ]
  },
  {
   "cell_type": "code",
   "execution_count": 11,
   "id": "63d08085",
   "metadata": {
    "execution": {
     "iopub.execute_input": "2025-07-23T13:05:55.182476Z",
     "iopub.status.busy": "2025-07-23T13:05:55.182088Z",
     "iopub.status.idle": "2025-07-23T13:05:56.386570Z",
     "shell.execute_reply": "2025-07-23T13:05:56.385572Z"
    },
    "papermill": {
     "duration": 1.218754,
     "end_time": "2025-07-23T13:05:56.388680",
     "exception": false,
     "start_time": "2025-07-23T13:05:55.169926",
     "status": "completed"
    },
    "tags": []
   },
   "outputs": [],
   "source": [
    "X_test = pd.read_csv(\"./data/X_test.csv\")\n",
    "y_true = pd.read_csv(\"./data/y_test.csv\")"
   ]
  },
  {
   "cell_type": "code",
   "execution_count": 12,
   "id": "98a8d0fa-1d3d-4ed8-bb2c-281470e24add",
   "metadata": {
    "execution": {
     "iopub.execute_input": "2025-07-23T13:05:56.421962Z",
     "iopub.status.busy": "2025-07-23T13:05:56.421422Z",
     "iopub.status.idle": "2025-07-23T13:05:57.704515Z",
     "shell.execute_reply": "2025-07-23T13:05:57.703466Z"
    },
    "papermill": {
     "duration": 1.301827,
     "end_time": "2025-07-23T13:05:57.706669",
     "exception": false,
     "start_time": "2025-07-23T13:05:56.404842",
     "status": "completed"
    },
    "tags": []
   },
   "outputs": [],
   "source": [
    "# Calibration data for conformal\n",
    "X_calib = pd.read_csv(\"./data/X_calib.csv\")\n",
    "y_calib = pd.read_csv(\"./data/y_calib.csv\")"
   ]
  },
  {
   "cell_type": "code",
   "execution_count": 13,
   "id": "e6c733c5",
   "metadata": {
    "execution": {
     "iopub.execute_input": "2025-07-23T13:05:57.747926Z",
     "iopub.status.busy": "2025-07-23T13:05:57.747433Z",
     "iopub.status.idle": "2025-07-23T13:05:57.842092Z",
     "shell.execute_reply": "2025-07-23T13:05:57.841145Z"
    },
    "papermill": {
     "duration": 0.116388,
     "end_time": "2025-07-23T13:05:57.844124",
     "exception": false,
     "start_time": "2025-07-23T13:05:57.727736",
     "status": "completed"
    },
    "tags": []
   },
   "outputs": [],
   "source": [
    "# Auxiliary data needed downstream in the pipeline\n",
    "\n",
    "org_train = X_train.copy()\n",
    "org_test = X_test.copy()\n",
    "org_calib = X_calib.copy()"
   ]
  },
  {
   "cell_type": "markdown",
   "id": "0a4a1b33",
   "metadata": {
    "papermill": {
     "duration": 0.016452,
     "end_time": "2025-07-23T13:05:57.877864",
     "exception": false,
     "start_time": "2025-07-23T13:05:57.861412",
     "status": "completed"
    },
    "tags": []
   },
   "source": [
    "# Preprocessing Data"
   ]
  },
  {
   "cell_type": "code",
   "execution_count": 14,
   "id": "ca879031",
   "metadata": {
    "execution": {
     "iopub.execute_input": "2025-07-23T13:05:57.913099Z",
     "iopub.status.busy": "2025-07-23T13:05:57.912391Z",
     "iopub.status.idle": "2025-07-23T13:05:57.918816Z",
     "shell.execute_reply": "2025-07-23T13:05:57.917841Z"
    },
    "papermill": {
     "duration": 0.025966,
     "end_time": "2025-07-23T13:05:57.920461",
     "exception": false,
     "start_time": "2025-07-23T13:05:57.894495",
     "status": "completed"
    },
    "tags": []
   },
   "outputs": [],
   "source": [
    "# EXCLUDE PROTECTED FEATURES\n",
    "# ----------------------\n",
    "# \"exclude_features\": \"none\", # \"nationality\", \"sex\", \"nationality-sex\"\n",
    "\n",
    "excluded_features = universe[\"exclude_features\"].split(\"-\") # split, e.g.: \"nationality-sex\" -> [\"nationality\", \"sex\"]\n",
    "excluded_features_dictionary = {\n",
    "    \"nationality\": [\"maxdeutsch1\", \"maxdeutsch.Missing.\"],\n",
    "    \"sex\": [\"frau1\"],\n",
    "    \"age\": [\"age\"],\n",
    "}\n"
   ]
  },
  {
   "cell_type": "code",
   "execution_count": 15,
   "id": "b745ac60",
   "metadata": {
    "execution": {
     "iopub.execute_input": "2025-07-23T13:05:57.955951Z",
     "iopub.status.busy": "2025-07-23T13:05:57.955484Z",
     "iopub.status.idle": "2025-07-23T13:05:57.961304Z",
     "shell.execute_reply": "2025-07-23T13:05:57.960367Z"
    },
    "papermill": {
     "duration": 0.02519,
     "end_time": "2025-07-23T13:05:57.962943",
     "exception": false,
     "start_time": "2025-07-23T13:05:57.937753",
     "status": "completed"
    },
    "tags": []
   },
   "outputs": [],
   "source": [
    "# Code nice names to column names\n",
    "\n",
    "excluded_features_columns = [\n",
    "    excluded_features_dictionary[f] for f in excluded_features if len(f) > 0 and f != \"none\"\n",
    "]"
   ]
  },
  {
   "cell_type": "code",
   "execution_count": 16,
   "id": "f84f73a2",
   "metadata": {
    "execution": {
     "iopub.execute_input": "2025-07-23T13:05:57.998805Z",
     "iopub.status.busy": "2025-07-23T13:05:57.997900Z",
     "iopub.status.idle": "2025-07-23T13:05:58.003793Z",
     "shell.execute_reply": "2025-07-23T13:05:58.002926Z"
    },
    "papermill": {
     "duration": 0.025249,
     "end_time": "2025-07-23T13:05:58.005414",
     "exception": false,
     "start_time": "2025-07-23T13:05:57.980165",
     "status": "completed"
    },
    "tags": []
   },
   "outputs": [],
   "source": [
    "from utils import flatten_once\n",
    "\n",
    "excluded_features_columns = flatten_once(excluded_features_columns)"
   ]
  },
  {
   "cell_type": "code",
   "execution_count": 17,
   "id": "884dea22",
   "metadata": {
    "execution": {
     "iopub.execute_input": "2025-07-23T13:05:58.041546Z",
     "iopub.status.busy": "2025-07-23T13:05:58.040657Z",
     "iopub.status.idle": "2025-07-23T13:05:58.056500Z",
     "shell.execute_reply": "2025-07-23T13:05:58.055457Z"
    },
    "papermill": {
     "duration": 0.035663,
     "end_time": "2025-07-23T13:05:58.058205",
     "exception": false,
     "start_time": "2025-07-23T13:05:58.022542",
     "status": "completed"
    },
    "tags": []
   },
   "outputs": [
    {
     "name": "stdout",
     "output_type": "stream",
     "text": [
      "Dropping features: ['age']\n"
     ]
    }
   ],
   "source": [
    "if len(excluded_features_columns) > 0:\n",
    "    print(f\"Dropping features: {excluded_features_columns}\")\n",
    "    X_train.drop(excluded_features_columns, axis=1, inplace=True)"
   ]
  },
  {
   "cell_type": "code",
   "execution_count": 18,
   "id": "95ab8b16",
   "metadata": {
    "execution": {
     "iopub.execute_input": "2025-07-23T13:05:58.095140Z",
     "iopub.status.busy": "2025-07-23T13:05:58.094241Z",
     "iopub.status.idle": "2025-07-23T13:05:58.146490Z",
     "shell.execute_reply": "2025-07-23T13:05:58.145443Z"
    },
    "papermill": {
     "duration": 0.072001,
     "end_time": "2025-07-23T13:05:58.148181",
     "exception": false,
     "start_time": "2025-07-23T13:05:58.076180",
     "status": "completed"
    },
    "tags": []
   },
   "outputs": [
    {
     "name": "stdout",
     "output_type": "stream",
     "text": [
      "Dropping features: ['age']\n"
     ]
    }
   ],
   "source": [
    "if len(excluded_features_columns) > 0:\n",
    "    print(f\"Dropping features: {excluded_features_columns}\")\n",
    "    X_test.drop(excluded_features_columns, axis=1, inplace=True)"
   ]
  },
  {
   "cell_type": "code",
   "execution_count": 19,
   "id": "1853aaf5-fb9f-46cb-a2b5-8ea4ae2237e4",
   "metadata": {
    "execution": {
     "iopub.execute_input": "2025-07-23T13:05:58.185258Z",
     "iopub.status.busy": "2025-07-23T13:05:58.184444Z",
     "iopub.status.idle": "2025-07-23T13:05:58.237382Z",
     "shell.execute_reply": "2025-07-23T13:05:58.236313Z"
    },
    "papermill": {
     "duration": 0.073589,
     "end_time": "2025-07-23T13:05:58.239671",
     "exception": false,
     "start_time": "2025-07-23T13:05:58.166082",
     "status": "completed"
    },
    "tags": []
   },
   "outputs": [
    {
     "name": "stdout",
     "output_type": "stream",
     "text": [
      "Dropping features: ['age']\n"
     ]
    }
   ],
   "source": [
    "if len(excluded_features_columns) > 0:\n",
    "    print(f\"Dropping features: {excluded_features_columns}\")\n",
    "    X_calib.drop(excluded_features_columns, axis=1, inplace=True)"
   ]
  },
  {
   "cell_type": "code",
   "execution_count": 20,
   "id": "76c4dc6d",
   "metadata": {
    "execution": {
     "iopub.execute_input": "2025-07-23T13:05:58.276645Z",
     "iopub.status.busy": "2025-07-23T13:05:58.276144Z",
     "iopub.status.idle": "2025-07-23T13:05:58.281665Z",
     "shell.execute_reply": "2025-07-23T13:05:58.280709Z"
    },
    "papermill": {
     "duration": 0.025307,
     "end_time": "2025-07-23T13:05:58.283171",
     "exception": false,
     "start_time": "2025-07-23T13:05:58.257864",
     "status": "completed"
    },
    "tags": []
   },
   "outputs": [],
   "source": [
    "# EXCLUDE CERTAIN SUBGROUPS\n",
    "# ----------------------\n",
    "\n",
    "mode = universe.get(\"exclude_subgroups\", \"keep-all\") \n",
    "# Fetches the exclude_subgroups setting from the universe dict.\n",
    "# Defaults to \"keep-all\" if the key is missing."
   ]
  },
  {
   "cell_type": "code",
   "execution_count": 21,
   "id": "21994072",
   "metadata": {
    "execution": {
     "iopub.execute_input": "2025-07-23T13:05:58.320730Z",
     "iopub.status.busy": "2025-07-23T13:05:58.320025Z",
     "iopub.status.idle": "2025-07-23T13:05:58.327496Z",
     "shell.execute_reply": "2025-07-23T13:05:58.326539Z"
    },
    "papermill": {
     "duration": 0.027936,
     "end_time": "2025-07-23T13:05:58.329199",
     "exception": false,
     "start_time": "2025-07-23T13:05:58.301263",
     "status": "completed"
    },
    "tags": []
   },
   "outputs": [],
   "source": [
    "if mode == \"keep-all\":\n",
    "    keep_mask = pd.Series(True, index=org_train.index)\n",
    "\n",
    "# org_train contains the original feature columns from features_org (in Simson)\n",
    "# features_org contains unprocessed features, for me X_train at beginning ???\n",
    "# For keep-all, creates a boolean Series (keep_mask) of all True, so no rows are removed.\n",
    "\n",
    "elif mode == \"drop-non-german\":\n",
    "    keep_mask = org_train[\"maxdeutsch1\"] == 1 # ??? what about missing values?\n",
    "\n",
    "else:\n",
    "    raise ValueError(f\"Unsupported mode for exclude_subgroups: {mode}\")\n"
   ]
  },
  {
   "cell_type": "code",
   "execution_count": 22,
   "id": "71651440",
   "metadata": {
    "execution": {
     "iopub.execute_input": "2025-07-23T13:05:58.367013Z",
     "iopub.status.busy": "2025-07-23T13:05:58.366327Z",
     "iopub.status.idle": "2025-07-23T13:05:58.373732Z",
     "shell.execute_reply": "2025-07-23T13:05:58.372836Z"
    },
    "papermill": {
     "duration": 0.028165,
     "end_time": "2025-07-23T13:05:58.375554",
     "exception": false,
     "start_time": "2025-07-23T13:05:58.347389",
     "status": "completed"
    },
    "tags": []
   },
   "outputs": [],
   "source": [
    "n_drop = (~keep_mask).sum() # Calculates how many rows are set to be dropped\n",
    "if n_drop > 0:\n",
    "    pct = n_drop / len(keep_mask) * 100\n",
    "    print(f\"Dropping {n_drop} rows ({pct:.2f}%) where mode='{mode}'\")"
   ]
  },
  {
   "cell_type": "code",
   "execution_count": 23,
   "id": "5fb8eee5",
   "metadata": {
    "execution": {
     "iopub.execute_input": "2025-07-23T13:05:58.413302Z",
     "iopub.status.busy": "2025-07-23T13:05:58.412438Z",
     "iopub.status.idle": "2025-07-23T13:05:58.428791Z",
     "shell.execute_reply": "2025-07-23T13:05:58.427806Z"
    },
    "papermill": {
     "duration": 0.037067,
     "end_time": "2025-07-23T13:05:58.430652",
     "exception": false,
     "start_time": "2025-07-23T13:05:58.393585",
     "status": "completed"
    },
    "tags": []
   },
   "outputs": [],
   "source": [
    "X_train = X_train[keep_mask]"
   ]
  },
  {
   "cell_type": "code",
   "execution_count": 24,
   "id": "b202bb3a",
   "metadata": {
    "execution": {
     "iopub.execute_input": "2025-07-23T13:05:58.468521Z",
     "iopub.status.busy": "2025-07-23T13:05:58.468032Z",
     "iopub.status.idle": "2025-07-23T13:05:58.474770Z",
     "shell.execute_reply": "2025-07-23T13:05:58.473850Z"
    },
    "papermill": {
     "duration": 0.027315,
     "end_time": "2025-07-23T13:05:58.476442",
     "exception": false,
     "start_time": "2025-07-23T13:05:58.449127",
     "status": "completed"
    },
    "tags": []
   },
   "outputs": [],
   "source": [
    "y_train = y_train[keep_mask]"
   ]
  },
  {
   "cell_type": "markdown",
   "id": "493e2ac3",
   "metadata": {
    "papermill": {
     "duration": 0.017522,
     "end_time": "2025-07-23T13:05:58.512214",
     "exception": false,
     "start_time": "2025-07-23T13:05:58.494692",
     "status": "completed"
    },
    "tags": []
   },
   "source": [
    "# Model Training"
   ]
  },
  {
   "cell_type": "code",
   "execution_count": 25,
   "id": "679e1268",
   "metadata": {
    "execution": {
     "iopub.execute_input": "2025-07-23T13:05:58.549003Z",
     "iopub.status.busy": "2025-07-23T13:05:58.548491Z",
     "iopub.status.idle": "2025-07-23T13:05:58.655888Z",
     "shell.execute_reply": "2025-07-23T13:05:58.654950Z"
    },
    "papermill": {
     "duration": 0.128199,
     "end_time": "2025-07-23T13:05:58.657951",
     "exception": false,
     "start_time": "2025-07-23T13:05:58.529752",
     "status": "completed"
    },
    "tags": []
   },
   "outputs": [],
   "source": [
    "from sklearn.linear_model import LogisticRegression\n",
    "from sklearn.ensemble import GradientBoostingClassifier, RandomForestClassifier\n",
    "\n",
    "if (universe[\"model\"] == \"logreg\"):\n",
    "    model = LogisticRegression() #penalty=\"none\") #, solver=\"newton-cg\", max_iter=1) # include random_state=19 ?\n",
    "elif (universe[\"model\"] == \"penalized_logreg\"):\n",
    "    model = LogisticRegression(penalty=\"l2\", C=1.0) #, solver=\"newton-cg\", max_iter=1)\n",
    "elif (universe[\"model\"] == \"rf\"):\n",
    "    model = RandomForestClassifier(n_estimators=100, n_jobs=-1)\n",
    "elif (universe[\"model\"] == \"gbm\"):\n",
    "    model = GradientBoostingClassifier()\n",
    "elif (universe[\"model\"] == \"elasticnet\"):\n",
    "    model = LogisticRegression(penalty = 'elasticnet', solver = 'saga', l1_ratio = 0.5, max_iter=5000) # which solver to use?\n",
    "else:\n",
    "    raise \"Unsupported universe.model\""
   ]
  },
  {
   "cell_type": "code",
   "execution_count": 26,
   "id": "0cc8f744",
   "metadata": {
    "execution": {
     "iopub.execute_input": "2025-07-23T13:05:58.696642Z",
     "iopub.status.busy": "2025-07-23T13:05:58.695667Z",
     "iopub.status.idle": "2025-07-23T13:05:58.702481Z",
     "shell.execute_reply": "2025-07-23T13:05:58.701542Z"
    },
    "papermill": {
     "duration": 0.02764,
     "end_time": "2025-07-23T13:05:58.704152",
     "exception": false,
     "start_time": "2025-07-23T13:05:58.676512",
     "status": "completed"
    },
    "tags": []
   },
   "outputs": [],
   "source": [
    "import numpy as np\n",
    "from sklearn.pipeline import Pipeline\n",
    "from sklearn.preprocessing import StandardScaler\n",
    "\n",
    "model = Pipeline([\n",
    "    #(\"continuous_processor\", continuous_processor),\n",
    "    #(\"categorical_preprocessor\", categorical_preprocessor),\n",
    "    (\"scale\", StandardScaler() if universe[\"scale\"] == \"scale\" else None), \n",
    "    (\"model\", model),\n",
    "])"
   ]
  },
  {
   "cell_type": "code",
   "execution_count": 27,
   "id": "9442c04d",
   "metadata": {
    "execution": {
     "iopub.execute_input": "2025-07-23T13:05:58.742518Z",
     "iopub.status.busy": "2025-07-23T13:05:58.741835Z",
     "iopub.status.idle": "2025-07-23T13:11:42.391526Z",
     "shell.execute_reply": "2025-07-23T13:11:42.390683Z"
    },
    "papermill": {
     "duration": 343.679961,
     "end_time": "2025-07-23T13:11:42.402907",
     "exception": false,
     "start_time": "2025-07-23T13:05:58.722946",
     "status": "completed"
    },
    "tags": []
   },
   "outputs": [
    {
     "name": "stderr",
     "output_type": "stream",
     "text": [
      "/dss/dsshome1/0C/ra93lal2/.local/share/virtualenvs/CMA_Fairness_v2-3j10GkSs/lib/python3.10/site-packages/sklearn/linear_model/_sag.py:350: ConvergenceWarning: The max_iter was reached which means the coef_ did not converge\n",
      "  warnings.warn(\n"
     ]
    },
    {
     "data": {
      "text/html": [
       "<style>#sk-container-id-1 {color: black;background-color: white;}#sk-container-id-1 pre{padding: 0;}#sk-container-id-1 div.sk-toggleable {background-color: white;}#sk-container-id-1 label.sk-toggleable__label {cursor: pointer;display: block;width: 100%;margin-bottom: 0;padding: 0.3em;box-sizing: border-box;text-align: center;}#sk-container-id-1 label.sk-toggleable__label-arrow:before {content: \"▸\";float: left;margin-right: 0.25em;color: #696969;}#sk-container-id-1 label.sk-toggleable__label-arrow:hover:before {color: black;}#sk-container-id-1 div.sk-estimator:hover label.sk-toggleable__label-arrow:before {color: black;}#sk-container-id-1 div.sk-toggleable__content {max-height: 0;max-width: 0;overflow: hidden;text-align: left;background-color: #f0f8ff;}#sk-container-id-1 div.sk-toggleable__content pre {margin: 0.2em;color: black;border-radius: 0.25em;background-color: #f0f8ff;}#sk-container-id-1 input.sk-toggleable__control:checked~div.sk-toggleable__content {max-height: 200px;max-width: 100%;overflow: auto;}#sk-container-id-1 input.sk-toggleable__control:checked~label.sk-toggleable__label-arrow:before {content: \"▾\";}#sk-container-id-1 div.sk-estimator input.sk-toggleable__control:checked~label.sk-toggleable__label {background-color: #d4ebff;}#sk-container-id-1 div.sk-label input.sk-toggleable__control:checked~label.sk-toggleable__label {background-color: #d4ebff;}#sk-container-id-1 input.sk-hidden--visually {border: 0;clip: rect(1px 1px 1px 1px);clip: rect(1px, 1px, 1px, 1px);height: 1px;margin: -1px;overflow: hidden;padding: 0;position: absolute;width: 1px;}#sk-container-id-1 div.sk-estimator {font-family: monospace;background-color: #f0f8ff;border: 1px dotted black;border-radius: 0.25em;box-sizing: border-box;margin-bottom: 0.5em;}#sk-container-id-1 div.sk-estimator:hover {background-color: #d4ebff;}#sk-container-id-1 div.sk-parallel-item::after {content: \"\";width: 100%;border-bottom: 1px solid gray;flex-grow: 1;}#sk-container-id-1 div.sk-label:hover label.sk-toggleable__label {background-color: #d4ebff;}#sk-container-id-1 div.sk-serial::before {content: \"\";position: absolute;border-left: 1px solid gray;box-sizing: border-box;top: 0;bottom: 0;left: 50%;z-index: 0;}#sk-container-id-1 div.sk-serial {display: flex;flex-direction: column;align-items: center;background-color: white;padding-right: 0.2em;padding-left: 0.2em;position: relative;}#sk-container-id-1 div.sk-item {position: relative;z-index: 1;}#sk-container-id-1 div.sk-parallel {display: flex;align-items: stretch;justify-content: center;background-color: white;position: relative;}#sk-container-id-1 div.sk-item::before, #sk-container-id-1 div.sk-parallel-item::before {content: \"\";position: absolute;border-left: 1px solid gray;box-sizing: border-box;top: 0;bottom: 0;left: 50%;z-index: -1;}#sk-container-id-1 div.sk-parallel-item {display: flex;flex-direction: column;z-index: 1;position: relative;background-color: white;}#sk-container-id-1 div.sk-parallel-item:first-child::after {align-self: flex-end;width: 50%;}#sk-container-id-1 div.sk-parallel-item:last-child::after {align-self: flex-start;width: 50%;}#sk-container-id-1 div.sk-parallel-item:only-child::after {width: 0;}#sk-container-id-1 div.sk-dashed-wrapped {border: 1px dashed gray;margin: 0 0.4em 0.5em 0.4em;box-sizing: border-box;padding-bottom: 0.4em;background-color: white;}#sk-container-id-1 div.sk-label label {font-family: monospace;font-weight: bold;display: inline-block;line-height: 1.2em;}#sk-container-id-1 div.sk-label-container {text-align: center;}#sk-container-id-1 div.sk-container {/* jupyter's `normalize.less` sets `[hidden] { display: none; }` but bootstrap.min.css set `[hidden] { display: none !important; }` so we also need the `!important` here to be able to override the default hidden behavior on the sphinx rendered scikit-learn.org. See: https://github.com/scikit-learn/scikit-learn/issues/21755 */display: inline-block !important;position: relative;}#sk-container-id-1 div.sk-text-repr-fallback {display: none;}</style><div id=\"sk-container-id-1\" class=\"sk-top-container\"><div class=\"sk-text-repr-fallback\"><pre>Pipeline(steps=[(&#x27;scale&#x27;, None),\n",
       "                (&#x27;model&#x27;,\n",
       "                 LogisticRegression(l1_ratio=0.5, max_iter=5000,\n",
       "                                    penalty=&#x27;elasticnet&#x27;, solver=&#x27;saga&#x27;))])</pre><b>In a Jupyter environment, please rerun this cell to show the HTML representation or trust the notebook. <br />On GitHub, the HTML representation is unable to render, please try loading this page with nbviewer.org.</b></div><div class=\"sk-container\" hidden><div class=\"sk-item sk-dashed-wrapped\"><div class=\"sk-label-container\"><div class=\"sk-label sk-toggleable\"><input class=\"sk-toggleable__control sk-hidden--visually\" id=\"sk-estimator-id-1\" type=\"checkbox\" ><label for=\"sk-estimator-id-1\" class=\"sk-toggleable__label sk-toggleable__label-arrow\">Pipeline</label><div class=\"sk-toggleable__content\"><pre>Pipeline(steps=[(&#x27;scale&#x27;, None),\n",
       "                (&#x27;model&#x27;,\n",
       "                 LogisticRegression(l1_ratio=0.5, max_iter=5000,\n",
       "                                    penalty=&#x27;elasticnet&#x27;, solver=&#x27;saga&#x27;))])</pre></div></div></div><div class=\"sk-serial\"><div class=\"sk-item\"><div class=\"sk-estimator sk-toggleable\"><input class=\"sk-toggleable__control sk-hidden--visually\" id=\"sk-estimator-id-2\" type=\"checkbox\" ><label for=\"sk-estimator-id-2\" class=\"sk-toggleable__label sk-toggleable__label-arrow\">None</label><div class=\"sk-toggleable__content\"><pre>None</pre></div></div></div><div class=\"sk-item\"><div class=\"sk-estimator sk-toggleable\"><input class=\"sk-toggleable__control sk-hidden--visually\" id=\"sk-estimator-id-3\" type=\"checkbox\" ><label for=\"sk-estimator-id-3\" class=\"sk-toggleable__label sk-toggleable__label-arrow\">LogisticRegression</label><div class=\"sk-toggleable__content\"><pre>LogisticRegression(l1_ratio=0.5, max_iter=5000, penalty=&#x27;elasticnet&#x27;,\n",
       "                   solver=&#x27;saga&#x27;)</pre></div></div></div></div></div></div></div>"
      ],
      "text/plain": [
       "Pipeline(steps=[('scale', None),\n",
       "                ('model',\n",
       "                 LogisticRegression(l1_ratio=0.5, max_iter=5000,\n",
       "                                    penalty='elasticnet', solver='saga'))])"
      ]
     },
     "execution_count": 27,
     "metadata": {},
     "output_type": "execute_result"
    }
   ],
   "source": [
    "model.fit(X_train, y_train.values.ravel())"
   ]
  },
  {
   "cell_type": "code",
   "execution_count": 28,
   "id": "af59f8c0",
   "metadata": {
    "execution": {
     "iopub.execute_input": "2025-07-23T13:11:42.423030Z",
     "iopub.status.busy": "2025-07-23T13:11:42.422741Z",
     "iopub.status.idle": "2025-07-23T13:11:42.426964Z",
     "shell.execute_reply": "2025-07-23T13:11:42.426268Z"
    },
    "papermill": {
     "duration": 0.015796,
     "end_time": "2025-07-23T13:11:42.428129",
     "exception": false,
     "start_time": "2025-07-23T13:11:42.412333",
     "status": "completed"
    },
    "tags": []
   },
   "outputs": [],
   "source": [
    "from fairness_multiverse.universe import predict_w_threshold"
   ]
  },
  {
   "cell_type": "code",
   "execution_count": 29,
   "id": "a7cf2e16",
   "metadata": {
    "execution": {
     "iopub.execute_input": "2025-07-23T13:11:42.448837Z",
     "iopub.status.busy": "2025-07-23T13:11:42.448498Z",
     "iopub.status.idle": "2025-07-23T13:11:42.538060Z",
     "shell.execute_reply": "2025-07-23T13:11:42.537326Z"
    },
    "papermill": {
     "duration": 0.100941,
     "end_time": "2025-07-23T13:11:42.539283",
     "exception": false,
     "start_time": "2025-07-23T13:11:42.438342",
     "status": "completed"
    },
    "tags": []
   },
   "outputs": [
    {
     "data": {
      "text/plain": [
       "0.8550663248244343"
      ]
     },
     "execution_count": 29,
     "metadata": {},
     "output_type": "execute_result"
    }
   ],
   "source": [
    "probs_test = model.predict_proba(X_test)\n",
    "\n",
    "'''\n",
    "Below code returns a boolean array (or binary 0/1 array depending on how it’s used) where each element \n",
    "is True if the probability of class 1 is greater than or equal to the threshold, and False otherwise.\n",
    "'''\n",
    "y_pred_default = predict_w_threshold(probs_test, 0.5)\n",
    "\n",
    "from sklearn.metrics import accuracy_score\n",
    "\n",
    "# Naive prediction\n",
    "accuracy_score(y_true = y_true, y_pred = y_pred_default)"
   ]
  },
  {
   "cell_type": "code",
   "execution_count": 30,
   "id": "081964c3",
   "metadata": {
    "execution": {
     "iopub.execute_input": "2025-07-23T13:11:42.560467Z",
     "iopub.status.busy": "2025-07-23T13:11:42.560191Z",
     "iopub.status.idle": "2025-07-23T13:11:42.635076Z",
     "shell.execute_reply": "2025-07-23T13:11:42.634354Z"
    },
    "papermill": {
     "duration": 0.08656,
     "end_time": "2025-07-23T13:11:42.636322",
     "exception": false,
     "start_time": "2025-07-23T13:11:42.549762",
     "status": "completed"
    },
    "tags": []
   },
   "outputs": [
    {
     "data": {
      "text/plain": [
       "array([0, 0, 0, ..., 0, 0, 0])"
      ]
     },
     "execution_count": 30,
     "metadata": {},
     "output_type": "execute_result"
    }
   ],
   "source": [
    "model.predict(X_test)"
   ]
  },
  {
   "cell_type": "markdown",
   "id": "56c9705b",
   "metadata": {
    "papermill": {
     "duration": 0.009792,
     "end_time": "2025-07-23T13:11:42.656622",
     "exception": false,
     "start_time": "2025-07-23T13:11:42.646830",
     "status": "completed"
    },
    "tags": []
   },
   "source": [
    "# Conformal Prediction"
   ]
  },
  {
   "cell_type": "code",
   "execution_count": 31,
   "id": "160ec6ff",
   "metadata": {
    "execution": {
     "iopub.execute_input": "2025-07-23T13:11:42.677021Z",
     "iopub.status.busy": "2025-07-23T13:11:42.676697Z",
     "iopub.status.idle": "2025-07-23T13:11:42.680541Z",
     "shell.execute_reply": "2025-07-23T13:11:42.679853Z"
    },
    "papermill": {
     "duration": 0.015382,
     "end_time": "2025-07-23T13:11:42.681816",
     "exception": false,
     "start_time": "2025-07-23T13:11:42.666434",
     "status": "completed"
    },
    "tags": []
   },
   "outputs": [],
   "source": [
    "# Miscoverage level for conformal prediction (10% allowed error rate => 90% target coverage)\n",
    "alpha = 0.1"
   ]
  },
  {
   "cell_type": "code",
   "execution_count": 32,
   "id": "eadf4555-3dd3-440e-8e35-f82a4ad9f855",
   "metadata": {
    "execution": {
     "iopub.execute_input": "2025-07-23T13:11:42.702857Z",
     "iopub.status.busy": "2025-07-23T13:11:42.702557Z",
     "iopub.status.idle": "2025-07-23T13:11:42.775432Z",
     "shell.execute_reply": "2025-07-23T13:11:42.774670Z"
    },
    "papermill": {
     "duration": 0.084898,
     "end_time": "2025-07-23T13:11:42.776989",
     "exception": false,
     "start_time": "2025-07-23T13:11:42.692091",
     "status": "completed"
    },
    "tags": []
   },
   "outputs": [],
   "source": [
    "probs_calib = model.predict_proba(X_calib)"
   ]
  },
  {
   "cell_type": "code",
   "execution_count": 33,
   "id": "2ed93547-6d5d-4983-9b36-1ecb300da49a",
   "metadata": {
    "execution": {
     "iopub.execute_input": "2025-07-23T13:11:42.798416Z",
     "iopub.status.busy": "2025-07-23T13:11:42.798141Z",
     "iopub.status.idle": "2025-07-23T13:11:42.802355Z",
     "shell.execute_reply": "2025-07-23T13:11:42.801626Z"
    },
    "papermill": {
     "duration": 0.016138,
     "end_time": "2025-07-23T13:11:42.803738",
     "exception": false,
     "start_time": "2025-07-23T13:11:42.787600",
     "status": "completed"
    },
    "tags": []
   },
   "outputs": [],
   "source": [
    "y_calib = y_calib.values.ravel().astype(int)"
   ]
  },
  {
   "cell_type": "code",
   "execution_count": 34,
   "id": "65d1320d-f588-4b38-9072-62af1ae97f7d",
   "metadata": {
    "execution": {
     "iopub.execute_input": "2025-07-23T13:11:42.824968Z",
     "iopub.status.busy": "2025-07-23T13:11:42.824701Z",
     "iopub.status.idle": "2025-07-23T13:11:42.830096Z",
     "shell.execute_reply": "2025-07-23T13:11:42.829402Z"
    },
    "papermill": {
     "duration": 0.017175,
     "end_time": "2025-07-23T13:11:42.831326",
     "exception": false,
     "start_time": "2025-07-23T13:11:42.814151",
     "status": "completed"
    },
    "tags": []
   },
   "outputs": [],
   "source": [
    "from fairness_multiverse.conformal import compute_nc_scores\n",
    "\n",
    "# Compute nonconformity scores on calibration set (1 - probability of true class)\n",
    "nc_scores = compute_nc_scores(probs_calib, y_calib)"
   ]
  },
  {
   "cell_type": "code",
   "execution_count": 35,
   "id": "df3b8ca3-53b7-43d5-9667-7c85da7aeda2",
   "metadata": {
    "execution": {
     "iopub.execute_input": "2025-07-23T13:11:42.852373Z",
     "iopub.status.busy": "2025-07-23T13:11:42.852079Z",
     "iopub.status.idle": "2025-07-23T13:11:42.857091Z",
     "shell.execute_reply": "2025-07-23T13:11:42.856331Z"
    },
    "papermill": {
     "duration": 0.016706,
     "end_time": "2025-07-23T13:11:42.858372",
     "exception": false,
     "start_time": "2025-07-23T13:11:42.841666",
     "status": "completed"
    },
    "tags": []
   },
   "outputs": [],
   "source": [
    "from fairness_multiverse.conformal import find_threshold\n",
    "\n",
    "# Find conformal threshold q_hat for the given alpha (split conformal method)\n",
    "q_hat = find_threshold(nc_scores, alpha)"
   ]
  },
  {
   "cell_type": "code",
   "execution_count": 36,
   "id": "4d29e6c1-0ef6-4aa4-b8fe-4fe79b0d033a",
   "metadata": {
    "execution": {
     "iopub.execute_input": "2025-07-23T13:11:42.879448Z",
     "iopub.status.busy": "2025-07-23T13:11:42.879189Z",
     "iopub.status.idle": "2025-07-23T13:11:42.884635Z",
     "shell.execute_reply": "2025-07-23T13:11:42.883917Z"
    },
    "papermill": {
     "duration": 0.01742,
     "end_time": "2025-07-23T13:11:42.885870",
     "exception": false,
     "start_time": "2025-07-23T13:11:42.868450",
     "status": "completed"
    },
    "tags": []
   },
   "outputs": [
    {
     "data": {
      "text/plain": [
       "0.6529200238693718"
      ]
     },
     "execution_count": 36,
     "metadata": {},
     "output_type": "execute_result"
    }
   ],
   "source": [
    "q_hat"
   ]
  },
  {
   "cell_type": "code",
   "execution_count": 37,
   "id": "92460794-cdac-4be2-ba28-f28c0515a6fb",
   "metadata": {
    "execution": {
     "iopub.execute_input": "2025-07-23T13:11:42.907097Z",
     "iopub.status.busy": "2025-07-23T13:11:42.906817Z",
     "iopub.status.idle": "2025-07-23T13:11:43.377081Z",
     "shell.execute_reply": "2025-07-23T13:11:43.376289Z"
    },
    "papermill": {
     "duration": 0.482371,
     "end_time": "2025-07-23T13:11:43.378548",
     "exception": false,
     "start_time": "2025-07-23T13:11:42.896177",
     "status": "completed"
    },
    "tags": []
   },
   "outputs": [],
   "source": [
    "from fairness_multiverse.conformal import predict_conformal_sets\n",
    "\n",
    "# Generate prediction sets for each test example\n",
    "pred_sets = predict_conformal_sets(model, X_test, q_hat)"
   ]
  },
  {
   "cell_type": "code",
   "execution_count": 38,
   "id": "d90c9a65-e6db-4f5d-80cd-e68fb7e46829",
   "metadata": {
    "execution": {
     "iopub.execute_input": "2025-07-23T13:11:43.400459Z",
     "iopub.status.busy": "2025-07-23T13:11:43.400160Z",
     "iopub.status.idle": "2025-07-23T13:11:43.404735Z",
     "shell.execute_reply": "2025-07-23T13:11:43.404049Z"
    },
    "papermill": {
     "duration": 0.016785,
     "end_time": "2025-07-23T13:11:43.406155",
     "exception": false,
     "start_time": "2025-07-23T13:11:43.389370",
     "status": "completed"
    },
    "tags": []
   },
   "outputs": [],
   "source": [
    "y_true = y_true.squeeze()"
   ]
  },
  {
   "cell_type": "code",
   "execution_count": 39,
   "id": "3a58a54a-1e68-46b9-927a-df01f18aebc8",
   "metadata": {
    "execution": {
     "iopub.execute_input": "2025-07-23T13:11:43.427568Z",
     "iopub.status.busy": "2025-07-23T13:11:43.427307Z",
     "iopub.status.idle": "2025-07-23T13:11:43.939400Z",
     "shell.execute_reply": "2025-07-23T13:11:43.938707Z"
    },
    "papermill": {
     "duration": 0.524268,
     "end_time": "2025-07-23T13:11:43.940746",
     "exception": false,
     "start_time": "2025-07-23T13:11:43.416478",
     "status": "completed"
    },
    "tags": []
   },
   "outputs": [],
   "source": [
    "from fairness_multiverse.conformal import evaluate_sets\n",
    "\n",
    "# Evaluate coverage and average set size on test data\n",
    "metrics = evaluate_sets(pred_sets, y_true)"
   ]
  },
  {
   "cell_type": "code",
   "execution_count": 40,
   "id": "5ce0a5cb-201f-45a0-ade5-94c7f0bd6095",
   "metadata": {
    "execution": {
     "iopub.execute_input": "2025-07-23T13:11:43.962342Z",
     "iopub.status.busy": "2025-07-23T13:11:43.962062Z",
     "iopub.status.idle": "2025-07-23T13:11:43.967362Z",
     "shell.execute_reply": "2025-07-23T13:11:43.966694Z"
    },
    "papermill": {
     "duration": 0.017378,
     "end_time": "2025-07-23T13:11:43.968623",
     "exception": false,
     "start_time": "2025-07-23T13:11:43.951245",
     "status": "completed"
    },
    "tags": []
   },
   "outputs": [
    {
     "data": {
      "text/plain": [
       "{'coverage': 0.9124066436294728, 'avg_size': 1.2391818080481551}"
      ]
     },
     "execution_count": 40,
     "metadata": {},
     "output_type": "execute_result"
    }
   ],
   "source": [
    "metrics"
   ]
  },
  {
   "cell_type": "code",
   "execution_count": 41,
   "id": "9b9a838d-31c9-430b-ae14-12baee460d17",
   "metadata": {
    "execution": {
     "iopub.execute_input": "2025-07-23T13:11:43.990815Z",
     "iopub.status.busy": "2025-07-23T13:11:43.990530Z",
     "iopub.status.idle": "2025-07-23T13:11:43.994873Z",
     "shell.execute_reply": "2025-07-23T13:11:43.994158Z"
    },
    "papermill": {
     "duration": 0.016746,
     "end_time": "2025-07-23T13:11:43.996123",
     "exception": false,
     "start_time": "2025-07-23T13:11:43.979377",
     "status": "completed"
    },
    "tags": []
   },
   "outputs": [],
   "source": [
    "example_universe = universe.copy()\n",
    "universe_model = example_universe.get(\"model\")\n",
    "universe_exclude_features = example_universe.get(\"exclude_features\")\n",
    "universe_exclude_subgroups = example_universe.get(\"exclude_subgroups\")\n",
    "universe_scale = example_universe.get(\"scale\")"
   ]
  },
  {
   "cell_type": "code",
   "execution_count": 42,
   "id": "f4b6a8ac-9dc0-4245-8a91-5b3b5999c4f9",
   "metadata": {
    "execution": {
     "iopub.execute_input": "2025-07-23T13:11:44.018129Z",
     "iopub.status.busy": "2025-07-23T13:11:44.017855Z",
     "iopub.status.idle": "2025-07-23T13:11:44.022512Z",
     "shell.execute_reply": "2025-07-23T13:11:44.021827Z"
    },
    "papermill": {
     "duration": 0.016862,
     "end_time": "2025-07-23T13:11:44.023810",
     "exception": false,
     "start_time": "2025-07-23T13:11:44.006948",
     "status": "completed"
    },
    "tags": []
   },
   "outputs": [],
   "source": [
    "cp_metrics_dict = {\n",
    "    \"universe_id\": [universe_id],\n",
    "    \"universe_model\": [universe_model],\n",
    "    \"universe_exclude_features\": [universe_exclude_features],\n",
    "    \"universe_exclude_subgroups\": [universe_exclude_subgroups],\n",
    "    \"universe_scale\": [universe_scale],\n",
    "    \"q_hat\": [q_hat],\n",
    "    \"coverage\": [metrics[\"coverage\"]],\n",
    "    \"avg_size\": [metrics[\"avg_size\"]],\n",
    "}"
   ]
  },
  {
   "cell_type": "code",
   "execution_count": 43,
   "id": "908acbb1-0371-4915-85ca-3fa520d2efe2",
   "metadata": {
    "execution": {
     "iopub.execute_input": "2025-07-23T13:11:44.045717Z",
     "iopub.status.busy": "2025-07-23T13:11:44.045434Z",
     "iopub.status.idle": "2025-07-23T13:11:44.050887Z",
     "shell.execute_reply": "2025-07-23T13:11:44.050178Z"
    },
    "papermill": {
     "duration": 0.017751,
     "end_time": "2025-07-23T13:11:44.052111",
     "exception": false,
     "start_time": "2025-07-23T13:11:44.034360",
     "status": "completed"
    },
    "tags": []
   },
   "outputs": [
    {
     "data": {
      "text/plain": [
       "{'universe_id': ['aab90f968f4c380d738a3d6184711202'],\n",
       " 'universe_model': ['elasticnet'],\n",
       " 'universe_exclude_features': ['age'],\n",
       " 'universe_exclude_subgroups': ['keep-all'],\n",
       " 'universe_scale': ['do-not-scale'],\n",
       " 'q_hat': [0.6529200238693718],\n",
       " 'coverage': [0.9124066436294728],\n",
       " 'avg_size': [1.2391818080481551]}"
      ]
     },
     "execution_count": 43,
     "metadata": {},
     "output_type": "execute_result"
    }
   ],
   "source": [
    "cp_metrics_dict"
   ]
  },
  {
   "cell_type": "code",
   "execution_count": 44,
   "id": "33007efc-14e9-4ec6-97ac-56a455c82265",
   "metadata": {
    "execution": {
     "iopub.execute_input": "2025-07-23T13:11:44.074129Z",
     "iopub.status.busy": "2025-07-23T13:11:44.073870Z",
     "iopub.status.idle": "2025-07-23T13:11:44.078358Z",
     "shell.execute_reply": "2025-07-23T13:11:44.077652Z"
    },
    "papermill": {
     "duration": 0.016843,
     "end_time": "2025-07-23T13:11:44.079641",
     "exception": false,
     "start_time": "2025-07-23T13:11:44.062798",
     "status": "completed"
    },
    "tags": []
   },
   "outputs": [],
   "source": [
    "cp_metrics_df = pd.DataFrame(cp_metrics_dict)"
   ]
  },
  {
   "cell_type": "code",
   "execution_count": 45,
   "id": "db12611b-57b2-4910-b9d0-355adfd6e7bf",
   "metadata": {
    "execution": {
     "iopub.execute_input": "2025-07-23T13:11:44.102186Z",
     "iopub.status.busy": "2025-07-23T13:11:44.101874Z",
     "iopub.status.idle": "2025-07-23T13:11:44.114074Z",
     "shell.execute_reply": "2025-07-23T13:11:44.113368Z"
    },
    "papermill": {
     "duration": 0.024871,
     "end_time": "2025-07-23T13:11:44.115319",
     "exception": false,
     "start_time": "2025-07-23T13:11:44.090448",
     "status": "completed"
    },
    "tags": []
   },
   "outputs": [
    {
     "data": {
      "text/html": [
       "<div>\n",
       "<style scoped>\n",
       "    .dataframe tbody tr th:only-of-type {\n",
       "        vertical-align: middle;\n",
       "    }\n",
       "\n",
       "    .dataframe tbody tr th {\n",
       "        vertical-align: top;\n",
       "    }\n",
       "\n",
       "    .dataframe thead th {\n",
       "        text-align: right;\n",
       "    }\n",
       "</style>\n",
       "<table border=\"1\" class=\"dataframe\">\n",
       "  <thead>\n",
       "    <tr style=\"text-align: right;\">\n",
       "      <th></th>\n",
       "      <th>universe_id</th>\n",
       "      <th>universe_model</th>\n",
       "      <th>universe_exclude_features</th>\n",
       "      <th>universe_exclude_subgroups</th>\n",
       "      <th>universe_scale</th>\n",
       "      <th>q_hat</th>\n",
       "      <th>coverage</th>\n",
       "      <th>avg_size</th>\n",
       "    </tr>\n",
       "  </thead>\n",
       "  <tbody>\n",
       "    <tr>\n",
       "      <th>0</th>\n",
       "      <td>aab90f968f4c380d738a3d6184711202</td>\n",
       "      <td>elasticnet</td>\n",
       "      <td>age</td>\n",
       "      <td>keep-all</td>\n",
       "      <td>do-not-scale</td>\n",
       "      <td>0.65292</td>\n",
       "      <td>0.912407</td>\n",
       "      <td>1.239182</td>\n",
       "    </tr>\n",
       "  </tbody>\n",
       "</table>\n",
       "</div>"
      ],
      "text/plain": [
       "                        universe_id universe_model universe_exclude_features  \\\n",
       "0  aab90f968f4c380d738a3d6184711202     elasticnet                       age   \n",
       "\n",
       "  universe_exclude_subgroups universe_scale    q_hat  coverage  avg_size  \n",
       "0                   keep-all   do-not-scale  0.65292  0.912407  1.239182  "
      ]
     },
     "execution_count": 45,
     "metadata": {},
     "output_type": "execute_result"
    }
   ],
   "source": [
    "cp_metrics_df"
   ]
  },
  {
   "cell_type": "code",
   "execution_count": 46,
   "id": "b7fbde55-a0a1-47e4-9af6-fe4a17fa8c61",
   "metadata": {
    "execution": {
     "iopub.execute_input": "2025-07-23T13:11:44.137431Z",
     "iopub.status.busy": "2025-07-23T13:11:44.137137Z",
     "iopub.status.idle": "2025-07-23T13:11:44.141068Z",
     "shell.execute_reply": "2025-07-23T13:11:44.140305Z"
    },
    "papermill": {
     "duration": 0.016357,
     "end_time": "2025-07-23T13:11:44.142302",
     "exception": false,
     "start_time": "2025-07-23T13:11:44.125945",
     "status": "completed"
    },
    "tags": []
   },
   "outputs": [],
   "source": [
    "# Conditional Coverage & looking at subgroups"
   ]
  },
  {
   "cell_type": "code",
   "execution_count": 47,
   "id": "027ae886-68dd-4141-96c7-805a5450e1ef",
   "metadata": {
    "execution": {
     "iopub.execute_input": "2025-07-23T13:11:44.164666Z",
     "iopub.status.busy": "2025-07-23T13:11:44.164354Z",
     "iopub.status.idle": "2025-07-23T13:11:44.322266Z",
     "shell.execute_reply": "2025-07-23T13:11:44.321513Z"
    },
    "papermill": {
     "duration": 0.170614,
     "end_time": "2025-07-23T13:11:44.323786",
     "exception": false,
     "start_time": "2025-07-23T13:11:44.153172",
     "status": "completed"
    },
    "tags": []
   },
   "outputs": [],
   "source": [
    "from fairness_multiverse.conformal import build_cp_groups\n",
    "\n",
    "cp_groups_df = build_cp_groups(pred_sets, y_true, X_test.index, org_test)\n",
    "#needs universe_id and setting"
   ]
  },
  {
   "cell_type": "code",
   "execution_count": 48,
   "id": "c3b92545-903e-4839-89af-0f057907d7d6",
   "metadata": {
    "execution": {
     "iopub.execute_input": "2025-07-23T13:11:44.347053Z",
     "iopub.status.busy": "2025-07-23T13:11:44.346762Z",
     "iopub.status.idle": "2025-07-23T13:11:45.230287Z",
     "shell.execute_reply": "2025-07-23T13:11:45.229504Z"
    },
    "papermill": {
     "duration": 0.896568,
     "end_time": "2025-07-23T13:11:45.231754",
     "exception": false,
     "start_time": "2025-07-23T13:11:44.335186",
     "status": "completed"
    },
    "tags": []
   },
   "outputs": [],
   "source": [
    "# Define covered = 1 if true_label is in the predicted set\n",
    "cp_groups_df['covered'] = cp_groups_df.apply(\n",
    "    lambda r: int(r['true_label'] in r['pred_set']),\n",
    "    axis=1\n",
    ")"
   ]
  },
  {
   "cell_type": "code",
   "execution_count": 49,
   "id": "338ff529-1a6b-4b87-a931-8e4788d52aad",
   "metadata": {
    "execution": {
     "iopub.execute_input": "2025-07-23T13:11:45.257108Z",
     "iopub.status.busy": "2025-07-23T13:11:45.256784Z",
     "iopub.status.idle": "2025-07-23T13:11:45.260833Z",
     "shell.execute_reply": "2025-07-23T13:11:45.260104Z"
    },
    "papermill": {
     "duration": 0.016662,
     "end_time": "2025-07-23T13:11:45.262103",
     "exception": false,
     "start_time": "2025-07-23T13:11:45.245441",
     "status": "completed"
    },
    "tags": []
   },
   "outputs": [],
   "source": [
    "#cp_groups_df"
   ]
  },
  {
   "cell_type": "code",
   "execution_count": 50,
   "id": "90032e27-66df-4540-9169-4e89cfbaa758",
   "metadata": {
    "execution": {
     "iopub.execute_input": "2025-07-23T13:11:45.284693Z",
     "iopub.status.busy": "2025-07-23T13:11:45.284383Z",
     "iopub.status.idle": "2025-07-23T13:11:45.293092Z",
     "shell.execute_reply": "2025-07-23T13:11:45.292329Z"
    },
    "papermill": {
     "duration": 0.021286,
     "end_time": "2025-07-23T13:11:45.294354",
     "exception": false,
     "start_time": "2025-07-23T13:11:45.273068",
     "status": "completed"
    },
    "tags": []
   },
   "outputs": [],
   "source": [
    "subgroups = ['frau1','nongerman','nongerman_male','nongerman_female']\n",
    "\n",
    "# Conditional coverage for subgroup==1\n",
    "cond_coverage = {\n",
    "    g: cp_groups_df.loc[cp_groups_df[g]==1, 'covered'].mean()\n",
    "    for g in subgroups\n",
    "}"
   ]
  },
  {
   "cell_type": "code",
   "execution_count": 51,
   "id": "1e348fb1-b9c3-45bc-ba23-f016827a7e0d",
   "metadata": {
    "execution": {
     "iopub.execute_input": "2025-07-23T13:11:45.317502Z",
     "iopub.status.busy": "2025-07-23T13:11:45.317204Z",
     "iopub.status.idle": "2025-07-23T13:11:45.322517Z",
     "shell.execute_reply": "2025-07-23T13:11:45.321825Z"
    },
    "papermill": {
     "duration": 0.018362,
     "end_time": "2025-07-23T13:11:45.323871",
     "exception": false,
     "start_time": "2025-07-23T13:11:45.305509",
     "status": "completed"
    },
    "tags": []
   },
   "outputs": [
    {
     "data": {
      "text/plain": [
       "{'frau1': 0.910661814260682,\n",
       " 'nongerman': 0.9577836411609498,\n",
       " 'nongerman_male': 0.9669458704854543,\n",
       " 'nongerman_female': 0.9426229508196722}"
      ]
     },
     "execution_count": 51,
     "metadata": {},
     "output_type": "execute_result"
    }
   ],
   "source": [
    "cond_coverage"
   ]
  },
  {
   "cell_type": "code",
   "execution_count": 52,
   "id": "f5093324-c3dd-4d63-bc4c-8d945e5c8bbb",
   "metadata": {
    "execution": {
     "iopub.execute_input": "2025-07-23T13:11:45.346900Z",
     "iopub.status.busy": "2025-07-23T13:11:45.346639Z",
     "iopub.status.idle": "2025-07-23T13:11:45.352339Z",
     "shell.execute_reply": "2025-07-23T13:11:45.351654Z"
    },
    "papermill": {
     "duration": 0.018617,
     "end_time": "2025-07-23T13:11:45.353641",
     "exception": false,
     "start_time": "2025-07-23T13:11:45.335024",
     "status": "completed"
    },
    "tags": []
   },
   "outputs": [],
   "source": [
    "for subgroup, cov in cond_coverage.items():\n",
    "    cp_metrics_df[f\"cov_{subgroup}\"] = cov"
   ]
  },
  {
   "cell_type": "code",
   "execution_count": 53,
   "id": "6e872e10-dbe5-49e8-b554-5030c98ff75d",
   "metadata": {
    "execution": {
     "iopub.execute_input": "2025-07-23T13:11:45.376791Z",
     "iopub.status.busy": "2025-07-23T13:11:45.376460Z",
     "iopub.status.idle": "2025-07-23T13:11:45.388964Z",
     "shell.execute_reply": "2025-07-23T13:11:45.388207Z"
    },
    "papermill": {
     "duration": 0.025423,
     "end_time": "2025-07-23T13:11:45.390224",
     "exception": false,
     "start_time": "2025-07-23T13:11:45.364801",
     "status": "completed"
    },
    "tags": []
   },
   "outputs": [
    {
     "data": {
      "text/html": [
       "<div>\n",
       "<style scoped>\n",
       "    .dataframe tbody tr th:only-of-type {\n",
       "        vertical-align: middle;\n",
       "    }\n",
       "\n",
       "    .dataframe tbody tr th {\n",
       "        vertical-align: top;\n",
       "    }\n",
       "\n",
       "    .dataframe thead th {\n",
       "        text-align: right;\n",
       "    }\n",
       "</style>\n",
       "<table border=\"1\" class=\"dataframe\">\n",
       "  <thead>\n",
       "    <tr style=\"text-align: right;\">\n",
       "      <th></th>\n",
       "      <th>universe_id</th>\n",
       "      <th>universe_model</th>\n",
       "      <th>universe_exclude_features</th>\n",
       "      <th>universe_exclude_subgroups</th>\n",
       "      <th>universe_scale</th>\n",
       "      <th>q_hat</th>\n",
       "      <th>coverage</th>\n",
       "      <th>avg_size</th>\n",
       "      <th>cov_frau1</th>\n",
       "      <th>cov_nongerman</th>\n",
       "      <th>cov_nongerman_male</th>\n",
       "      <th>cov_nongerman_female</th>\n",
       "    </tr>\n",
       "  </thead>\n",
       "  <tbody>\n",
       "    <tr>\n",
       "      <th>0</th>\n",
       "      <td>aab90f968f4c380d738a3d6184711202</td>\n",
       "      <td>elasticnet</td>\n",
       "      <td>age</td>\n",
       "      <td>keep-all</td>\n",
       "      <td>do-not-scale</td>\n",
       "      <td>0.65292</td>\n",
       "      <td>0.912407</td>\n",
       "      <td>1.239182</td>\n",
       "      <td>0.910662</td>\n",
       "      <td>0.957784</td>\n",
       "      <td>0.966946</td>\n",
       "      <td>0.942623</td>\n",
       "    </tr>\n",
       "  </tbody>\n",
       "</table>\n",
       "</div>"
      ],
      "text/plain": [
       "                        universe_id universe_model universe_exclude_features  \\\n",
       "0  aab90f968f4c380d738a3d6184711202     elasticnet                       age   \n",
       "\n",
       "  universe_exclude_subgroups universe_scale    q_hat  coverage  avg_size  \\\n",
       "0                   keep-all   do-not-scale  0.65292  0.912407  1.239182   \n",
       "\n",
       "   cov_frau1  cov_nongerman  cov_nongerman_male  cov_nongerman_female  \n",
       "0   0.910662       0.957784            0.966946              0.942623  "
      ]
     },
     "execution_count": 53,
     "metadata": {},
     "output_type": "execute_result"
    }
   ],
   "source": [
    "cp_metrics_df"
   ]
  },
  {
   "cell_type": "markdown",
   "id": "33774451",
   "metadata": {
    "papermill": {
     "duration": 0.011075,
     "end_time": "2025-07-23T13:11:45.412785",
     "exception": false,
     "start_time": "2025-07-23T13:11:45.401710",
     "status": "completed"
    },
    "tags": []
   },
   "source": [
    "# (Fairness) Metrics"
   ]
  },
  {
   "cell_type": "code",
   "execution_count": 54,
   "id": "debc5d62",
   "metadata": {
    "execution": {
     "iopub.execute_input": "2025-07-23T13:11:45.436005Z",
     "iopub.status.busy": "2025-07-23T13:11:45.435726Z",
     "iopub.status.idle": "2025-07-23T13:11:45.447969Z",
     "shell.execute_reply": "2025-07-23T13:11:45.447299Z"
    },
    "papermill": {
     "duration": 0.02535,
     "end_time": "2025-07-23T13:11:45.449265",
     "exception": false,
     "start_time": "2025-07-23T13:11:45.423915",
     "status": "completed"
    },
    "tags": []
   },
   "outputs": [],
   "source": [
    "# do I need to include maxdeutsch1.missing?\n",
    "\n",
    "import numpy as np\n",
    "\n",
    "colname_to_bin = \"maxdeutsch1\"\n",
    "majority_value = org_train[colname_to_bin].mode()[0]\n",
    "\n",
    "org_test[\"majmin\"] = np.where(org_test[colname_to_bin] == majority_value, \"majority\", \"minority\")"
   ]
  },
  {
   "cell_type": "code",
   "execution_count": 55,
   "id": "06a50de5",
   "metadata": {
    "execution": {
     "iopub.execute_input": "2025-07-23T13:11:45.472892Z",
     "iopub.status.busy": "2025-07-23T13:11:45.472521Z",
     "iopub.status.idle": "2025-07-23T13:11:46.920959Z",
     "shell.execute_reply": "2025-07-23T13:11:46.920201Z"
    },
    "papermill": {
     "duration": 1.462043,
     "end_time": "2025-07-23T13:11:46.922432",
     "exception": false,
     "start_time": "2025-07-23T13:11:45.460389",
     "status": "completed"
    },
    "tags": []
   },
   "outputs": [],
   "source": [
    "example_universe = universe.copy()\n",
    "example_universe[\"cutoff\"] = example_universe[\"cutoff\"][0]\n",
    "example_universe[\"eval_fairness_grouping\"] = example_universe[\"eval_fairness_grouping\"][0]\n",
    "fairness_dict, metric_frame = universe_analysis.compute_metrics(\n",
    "    example_universe,\n",
    "    y_pred_prob=probs_test,\n",
    "    y_test=y_true,\n",
    "    org_test=org_test,\n",
    ")"
   ]
  },
  {
   "cell_type": "markdown",
   "id": "f95d4e02",
   "metadata": {
    "papermill": {
     "duration": 0.01088,
     "end_time": "2025-07-23T13:11:46.945333",
     "exception": false,
     "start_time": "2025-07-23T13:11:46.934453",
     "status": "completed"
    },
    "tags": []
   },
   "source": [
    "# Overall"
   ]
  },
  {
   "cell_type": "markdown",
   "id": "bdee4871",
   "metadata": {
    "papermill": {
     "duration": 0.010961,
     "end_time": "2025-07-23T13:11:46.967379",
     "exception": false,
     "start_time": "2025-07-23T13:11:46.956418",
     "status": "completed"
    },
    "tags": []
   },
   "source": [
    "Fairness\n",
    "Main fairness target: Equalized Odds. Seems to be a better fit than equal opportunity, since we're not only interested in Y = 1. Seems to be a better fit than demographic parity, since we also care about accuracy, not just equal distribution of preds.\n",
    "\n",
    "Pick column for computation of fairness metrics\n",
    "\n",
    "Performance\n",
    "Overall performance measures, most interesting in relation to the measures split by group below"
   ]
  },
  {
   "cell_type": "code",
   "execution_count": 56,
   "id": "c4e067c6",
   "metadata": {
    "execution": {
     "iopub.execute_input": "2025-07-23T13:11:46.990501Z",
     "iopub.status.busy": "2025-07-23T13:11:46.990196Z",
     "iopub.status.idle": "2025-07-23T13:11:46.996619Z",
     "shell.execute_reply": "2025-07-23T13:11:46.995931Z"
    },
    "papermill": {
     "duration": 0.019622,
     "end_time": "2025-07-23T13:11:46.997916",
     "exception": false,
     "start_time": "2025-07-23T13:11:46.978294",
     "status": "completed"
    },
    "tags": []
   },
   "outputs": [
    {
     "data": {
      "text/plain": [
       "accuracy                   0.219786\n",
       "balanced accuracy          0.538368\n",
       "f1                         0.241244\n",
       "precision                  0.137814\n",
       "false positive rate        0.890156\n",
       "false negative rate        0.033107\n",
       "selection rate             0.900000\n",
       "count                  89710.000000\n",
       "dtype: float64"
      ]
     },
     "execution_count": 56,
     "metadata": {},
     "output_type": "execute_result"
    }
   ],
   "source": [
    "metric_frame.overall"
   ]
  },
  {
   "cell_type": "markdown",
   "id": "e968fe9d",
   "metadata": {
    "papermill": {
     "duration": 0.011113,
     "end_time": "2025-07-23T13:11:47.020512",
     "exception": false,
     "start_time": "2025-07-23T13:11:47.009399",
     "status": "completed"
    },
    "tags": []
   },
   "source": [
    "By Group"
   ]
  },
  {
   "cell_type": "code",
   "execution_count": 57,
   "id": "ec325bce",
   "metadata": {
    "execution": {
     "iopub.execute_input": "2025-07-23T13:11:47.044021Z",
     "iopub.status.busy": "2025-07-23T13:11:47.043775Z",
     "iopub.status.idle": "2025-07-23T13:11:47.055637Z",
     "shell.execute_reply": "2025-07-23T13:11:47.054902Z"
    },
    "papermill": {
     "duration": 0.025017,
     "end_time": "2025-07-23T13:11:47.057009",
     "exception": false,
     "start_time": "2025-07-23T13:11:47.031992",
     "status": "completed"
    },
    "tags": []
   },
   "outputs": [
    {
     "data": {
      "text/html": [
       "<div>\n",
       "<style scoped>\n",
       "    .dataframe tbody tr th:only-of-type {\n",
       "        vertical-align: middle;\n",
       "    }\n",
       "\n",
       "    .dataframe tbody tr th {\n",
       "        vertical-align: top;\n",
       "    }\n",
       "\n",
       "    .dataframe thead th {\n",
       "        text-align: right;\n",
       "    }\n",
       "</style>\n",
       "<table border=\"1\" class=\"dataframe\">\n",
       "  <thead>\n",
       "    <tr style=\"text-align: right;\">\n",
       "      <th></th>\n",
       "      <th>accuracy</th>\n",
       "      <th>balanced accuracy</th>\n",
       "      <th>f1</th>\n",
       "      <th>precision</th>\n",
       "      <th>false positive rate</th>\n",
       "      <th>false negative rate</th>\n",
       "      <th>selection rate</th>\n",
       "      <th>count</th>\n",
       "    </tr>\n",
       "    <tr>\n",
       "      <th>majmin</th>\n",
       "      <th></th>\n",
       "      <th></th>\n",
       "      <th></th>\n",
       "      <th></th>\n",
       "      <th></th>\n",
       "      <th></th>\n",
       "      <th></th>\n",
       "      <th></th>\n",
       "    </tr>\n",
       "  </thead>\n",
       "  <tbody>\n",
       "    <tr>\n",
       "      <th>majority</th>\n",
       "      <td>0.243545</td>\n",
       "      <td>0.547860</td>\n",
       "      <td>0.251445</td>\n",
       "      <td>0.144635</td>\n",
       "      <td>0.865767</td>\n",
       "      <td>0.038512</td>\n",
       "      <td>0.878415</td>\n",
       "      <td>69170.0</td>\n",
       "    </tr>\n",
       "    <tr>\n",
       "      <th>minority</th>\n",
       "      <td>0.139776</td>\n",
       "      <td>0.508515</td>\n",
       "      <td>0.209335</td>\n",
       "      <td>0.117073</td>\n",
       "      <td>0.970724</td>\n",
       "      <td>0.012247</td>\n",
       "      <td>0.972687</td>\n",
       "      <td>20540.0</td>\n",
       "    </tr>\n",
       "  </tbody>\n",
       "</table>\n",
       "</div>"
      ],
      "text/plain": [
       "          accuracy  balanced accuracy        f1  precision  \\\n",
       "majmin                                                       \n",
       "majority  0.243545           0.547860  0.251445   0.144635   \n",
       "minority  0.139776           0.508515  0.209335   0.117073   \n",
       "\n",
       "          false positive rate  false negative rate  selection rate    count  \n",
       "majmin                                                                       \n",
       "majority             0.865767             0.038512        0.878415  69170.0  \n",
       "minority             0.970724             0.012247        0.972687  20540.0  "
      ]
     },
     "execution_count": 57,
     "metadata": {},
     "output_type": "execute_result"
    }
   ],
   "source": [
    "metric_frame.by_group"
   ]
  },
  {
   "cell_type": "code",
   "execution_count": 58,
   "id": "a9ddbe63",
   "metadata": {
    "execution": {
     "iopub.execute_input": "2025-07-23T13:11:47.081299Z",
     "iopub.status.busy": "2025-07-23T13:11:47.081039Z",
     "iopub.status.idle": "2025-07-23T13:11:48.656839Z",
     "shell.execute_reply": "2025-07-23T13:11:48.655932Z"
    },
    "papermill": {
     "duration": 1.589277,
     "end_time": "2025-07-23T13:11:48.658187",
     "exception": false,
     "start_time": "2025-07-23T13:11:47.068910",
     "status": "completed"
    },
    "tags": []
   },
   "outputs": [
    {
     "data": {
      "text/plain": [
       "array([[<Axes: title={'center': 'accuracy'}, xlabel='majmin'>,\n",
       "        <Axes: title={'center': 'balanced accuracy'}, xlabel='majmin'>,\n",
       "        <Axes: title={'center': 'f1'}, xlabel='majmin'>],\n",
       "       [<Axes: title={'center': 'precision'}, xlabel='majmin'>,\n",
       "        <Axes: title={'center': 'false positive rate'}, xlabel='majmin'>,\n",
       "        <Axes: title={'center': 'false negative rate'}, xlabel='majmin'>],\n",
       "       [<Axes: title={'center': 'selection rate'}, xlabel='majmin'>,\n",
       "        <Axes: title={'center': 'count'}, xlabel='majmin'>,\n",
       "        <Axes: xlabel='majmin'>]], dtype=object)"
      ]
     },
     "execution_count": 58,
     "metadata": {},
     "output_type": "execute_result"
    },
    {
     "data": {
      "image/png": "[encoded data removed]",
      "text/plain": [
       "<Figure size 1200x800 with 9 Axes>"
      ]
     },
     "metadata": {},
     "output_type": "display_data"
    }
   ],
   "source": [
    "# In a graphic\n",
    "metric_frame.by_group.plot.bar(\n",
    "    subplots=True,\n",
    "    layout=[3, 3],\n",
    "    legend=False,\n",
    "    figsize=[12, 8],\n",
    "    title=\"Show all metrics\",\n",
    ")"
   ]
  },
  {
   "cell_type": "markdown",
   "id": "f57a0bac",
   "metadata": {
    "papermill": {
     "duration": 0.013012,
     "end_time": "2025-07-23T13:11:48.689964",
     "exception": false,
     "start_time": "2025-07-23T13:11:48.676952",
     "status": "completed"
    },
    "tags": []
   },
   "source": [
    "# Final Output"
   ]
  },
  {
   "cell_type": "code",
   "execution_count": 59,
   "id": "96d280a3",
   "metadata": {
    "execution": {
     "iopub.execute_input": "2025-07-23T13:11:48.716808Z",
     "iopub.status.busy": "2025-07-23T13:11:48.715542Z",
     "iopub.status.idle": "2025-07-23T13:11:48.723145Z",
     "shell.execute_reply": "2025-07-23T13:11:48.722397Z"
    },
    "papermill": {
     "duration": 0.022029,
     "end_time": "2025-07-23T13:11:48.724416",
     "exception": false,
     "start_time": "2025-07-23T13:11:48.702387",
     "status": "completed"
    },
    "tags": []
   },
   "outputs": [
    {
     "data": {
      "text/plain": [
       "4"
      ]
     },
     "execution_count": 59,
     "metadata": {},
     "output_type": "execute_result"
    }
   ],
   "source": [
    "sub_universes = universe_analysis.generate_sub_universes()\n",
    "len(sub_universes)"
   ]
  },
  {
   "cell_type": "code",
   "execution_count": 60,
   "id": "92adf7ba",
   "metadata": {
    "execution": {
     "iopub.execute_input": "2025-07-23T13:11:48.750548Z",
     "iopub.status.busy": "2025-07-23T13:11:48.750272Z",
     "iopub.status.idle": "2025-07-23T13:11:48.766407Z",
     "shell.execute_reply": "2025-07-23T13:11:48.765699Z"
    },
    "papermill": {
     "duration": 0.030828,
     "end_time": "2025-07-23T13:11:48.767648",
     "exception": false,
     "start_time": "2025-07-23T13:11:48.736820",
     "status": "completed"
    },
    "tags": []
   },
   "outputs": [],
   "source": [
    "def filter_sub_universe_data(sub_universe, org_test):\n",
    "    # Keep all rows — no filtering\n",
    "    keep_rows_mask = np.ones(org_test.shape[0], dtype=bool)\n",
    "\n",
    "    print(f\"[INFO] Keeping all rows: {keep_rows_mask.sum()} rows retained.\")\n",
    "    return keep_rows_mask"
   ]
  },
  {
   "cell_type": "code",
   "execution_count": 61,
   "id": "4a759155",
   "metadata": {
    "execution": {
     "iopub.execute_input": "2025-07-23T13:11:48.794259Z",
     "iopub.status.busy": "2025-07-23T13:11:48.794000Z",
     "iopub.status.idle": "2025-07-23T13:11:54.485475Z",
     "shell.execute_reply": "2025-07-23T13:11:54.484525Z"
    },
    "papermill": {
     "duration": 5.706272,
     "end_time": "2025-07-23T13:11:54.486889",
     "exception": false,
     "start_time": "2025-07-23T13:11:48.780617",
     "status": "completed"
    },
    "tags": []
   },
   "outputs": [
    {
     "name": "stdout",
     "output_type": "stream",
     "text": [
      "Stopping execution_time clock.\n",
      "[INFO] Keeping all rows: 89710 rows retained.\n"
     ]
    },
    {
     "name": "stdout",
     "output_type": "stream",
     "text": [
      "[INFO] Keeping all rows: 89710 rows retained.\n"
     ]
    },
    {
     "name": "stdout",
     "output_type": "stream",
     "text": [
      "[INFO] Keeping all rows: 89710 rows retained.\n"
     ]
    },
    {
     "name": "stdout",
     "output_type": "stream",
     "text": [
      "[INFO] Keeping all rows: 89710 rows retained.\n"
     ]
    },
    {
     "data": {
      "text/html": [
       "<div>\n",
       "<style scoped>\n",
       "    .dataframe tbody tr th:only-of-type {\n",
       "        vertical-align: middle;\n",
       "    }\n",
       "\n",
       "    .dataframe tbody tr th {\n",
       "        vertical-align: top;\n",
       "    }\n",
       "\n",
       "    .dataframe thead th {\n",
       "        text-align: right;\n",
       "    }\n",
       "</style>\n",
       "<table border=\"1\" class=\"dataframe\">\n",
       "  <thead>\n",
       "    <tr style=\"text-align: right;\">\n",
       "      <th></th>\n",
       "      <th>run_no</th>\n",
       "      <th>universe_id</th>\n",
       "      <th>universe_settings</th>\n",
       "      <th>execution_time</th>\n",
       "      <th>test_size_n</th>\n",
       "      <th>test_size_frac</th>\n",
       "      <th>fair_main_equalized_odds_difference</th>\n",
       "      <th>fair_main_equalized_odds_ratio</th>\n",
       "      <th>fair_main_demographic_parity_difference</th>\n",
       "      <th>fair_main_demographic_parity_ratio</th>\n",
       "      <th>...</th>\n",
       "      <th>perf_grp_precision_0</th>\n",
       "      <th>perf_grp_precision_1</th>\n",
       "      <th>perf_grp_false positive rate_0</th>\n",
       "      <th>perf_grp_false positive rate_1</th>\n",
       "      <th>perf_grp_false negative rate_0</th>\n",
       "      <th>perf_grp_false negative rate_1</th>\n",
       "      <th>perf_grp_selection rate_0</th>\n",
       "      <th>perf_grp_selection rate_1</th>\n",
       "      <th>perf_grp_count_0</th>\n",
       "      <th>perf_grp_count_1</th>\n",
       "    </tr>\n",
       "  </thead>\n",
       "  <tbody>\n",
       "    <tr>\n",
       "      <th>0</th>\n",
       "      <td>6</td>\n",
       "      <td>aab90f968f4c380d738a3d6184711202</td>\n",
       "      <td>{\"cutoff\": \"quantile_0.1\", \"eval_fairness_grou...</td>\n",
       "      <td>354.1503</td>\n",
       "      <td>89710</td>\n",
       "      <td>1.0</td>\n",
       "      <td>0.104957</td>\n",
       "      <td>0.891878</td>\n",
       "      <td>0.094272</td>\n",
       "      <td>0.903081</td>\n",
       "      <td>...</td>\n",
       "      <td>NaN</td>\n",
       "      <td>NaN</td>\n",
       "      <td>NaN</td>\n",
       "      <td>NaN</td>\n",
       "      <td>NaN</td>\n",
       "      <td>NaN</td>\n",
       "      <td>NaN</td>\n",
       "      <td>NaN</td>\n",
       "      <td>NaN</td>\n",
       "      <td>NaN</td>\n",
       "    </tr>\n",
       "    <tr>\n",
       "      <th>0</th>\n",
       "      <td>6</td>\n",
       "      <td>aab90f968f4c380d738a3d6184711202</td>\n",
       "      <td>{\"cutoff\": \"quantile_0.1\", \"eval_fairness_grou...</td>\n",
       "      <td>354.1503</td>\n",
       "      <td>89710</td>\n",
       "      <td>1.0</td>\n",
       "      <td>0.104957</td>\n",
       "      <td>0.891878</td>\n",
       "      <td>0.094272</td>\n",
       "      <td>0.903081</td>\n",
       "      <td>...</td>\n",
       "      <td>0.117073</td>\n",
       "      <td>0.144635</td>\n",
       "      <td>0.970724</td>\n",
       "      <td>0.865767</td>\n",
       "      <td>0.012247</td>\n",
       "      <td>0.038512</td>\n",
       "      <td>0.972687</td>\n",
       "      <td>0.878415</td>\n",
       "      <td>20540.0</td>\n",
       "      <td>69170.0</td>\n",
       "    </tr>\n",
       "    <tr>\n",
       "      <th>0</th>\n",
       "      <td>6</td>\n",
       "      <td>aab90f968f4c380d738a3d6184711202</td>\n",
       "      <td>{\"cutoff\": \"quantile_0.25\", \"eval_fairness_gro...</td>\n",
       "      <td>354.1503</td>\n",
       "      <td>89710</td>\n",
       "      <td>1.0</td>\n",
       "      <td>0.245334</td>\n",
       "      <td>0.732464</td>\n",
       "      <td>0.223469</td>\n",
       "      <td>0.757704</td>\n",
       "      <td>...</td>\n",
       "      <td>NaN</td>\n",
       "      <td>NaN</td>\n",
       "      <td>NaN</td>\n",
       "      <td>NaN</td>\n",
       "      <td>NaN</td>\n",
       "      <td>NaN</td>\n",
       "      <td>NaN</td>\n",
       "      <td>NaN</td>\n",
       "      <td>NaN</td>\n",
       "      <td>NaN</td>\n",
       "    </tr>\n",
       "    <tr>\n",
       "      <th>0</th>\n",
       "      <td>6</td>\n",
       "      <td>aab90f968f4c380d738a3d6184711202</td>\n",
       "      <td>{\"cutoff\": \"quantile_0.25\", \"eval_fairness_gro...</td>\n",
       "      <td>354.1503</td>\n",
       "      <td>89710</td>\n",
       "      <td>1.0</td>\n",
       "      <td>0.245334</td>\n",
       "      <td>0.732464</td>\n",
       "      <td>0.223469</td>\n",
       "      <td>0.757704</td>\n",
       "      <td>...</td>\n",
       "      <td>0.120355</td>\n",
       "      <td>0.165853</td>\n",
       "      <td>0.917015</td>\n",
       "      <td>0.671681</td>\n",
       "      <td>0.037162</td>\n",
       "      <td>0.122867</td>\n",
       "      <td>0.922298</td>\n",
       "      <td>0.698829</td>\n",
       "      <td>20540.0</td>\n",
       "      <td>69170.0</td>\n",
       "    </tr>\n",
       "  </tbody>\n",
       "</table>\n",
       "<p>4 rows × 50 columns</p>\n",
       "</div>"
      ],
      "text/plain": [
       "  run_no                       universe_id  \\\n",
       "0      6  aab90f968f4c380d738a3d6184711202   \n",
       "0      6  aab90f968f4c380d738a3d6184711202   \n",
       "0      6  aab90f968f4c380d738a3d6184711202   \n",
       "0      6  aab90f968f4c380d738a3d6184711202   \n",
       "\n",
       "                                   universe_settings  execution_time  \\\n",
       "0  {\"cutoff\": \"quantile_0.1\", \"eval_fairness_grou...        354.1503   \n",
       "0  {\"cutoff\": \"quantile_0.1\", \"eval_fairness_grou...        354.1503   \n",
       "0  {\"cutoff\": \"quantile_0.25\", \"eval_fairness_gro...        354.1503   \n",
       "0  {\"cutoff\": \"quantile_0.25\", \"eval_fairness_gro...        354.1503   \n",
       "\n",
       "   test_size_n  test_size_frac  fair_main_equalized_odds_difference  \\\n",
       "0        89710             1.0                             0.104957   \n",
       "0        89710             1.0                             0.104957   \n",
       "0        89710             1.0                             0.245334   \n",
       "0        89710             1.0                             0.245334   \n",
       "\n",
       "   fair_main_equalized_odds_ratio  fair_main_demographic_parity_difference  \\\n",
       "0                        0.891878                                 0.094272   \n",
       "0                        0.891878                                 0.094272   \n",
       "0                        0.732464                                 0.223469   \n",
       "0                        0.732464                                 0.223469   \n",
       "\n",
       "   fair_main_demographic_parity_ratio  ...  perf_grp_precision_0  \\\n",
       "0                            0.903081  ...                   NaN   \n",
       "0                            0.903081  ...              0.117073   \n",
       "0                            0.757704  ...                   NaN   \n",
       "0                            0.757704  ...              0.120355   \n",
       "\n",
       "   perf_grp_precision_1  perf_grp_false positive rate_0  \\\n",
       "0                   NaN                             NaN   \n",
       "0              0.144635                        0.970724   \n",
       "0                   NaN                             NaN   \n",
       "0              0.165853                        0.917015   \n",
       "\n",
       "   perf_grp_false positive rate_1  perf_grp_false negative rate_0  \\\n",
       "0                             NaN                             NaN   \n",
       "0                        0.865767                        0.012247   \n",
       "0                             NaN                             NaN   \n",
       "0                        0.671681                        0.037162   \n",
       "\n",
       "   perf_grp_false negative rate_1  perf_grp_selection rate_0  \\\n",
       "0                             NaN                        NaN   \n",
       "0                        0.038512                   0.972687   \n",
       "0                             NaN                        NaN   \n",
       "0                        0.122867                   0.922298   \n",
       "\n",
       "   perf_grp_selection rate_1  perf_grp_count_0  perf_grp_count_1  \n",
       "0                        NaN               NaN               NaN  \n",
       "0                   0.878415           20540.0           69170.0  \n",
       "0                        NaN               NaN               NaN  \n",
       "0                   0.698829           20540.0           69170.0  \n",
       "\n",
       "[4 rows x 50 columns]"
      ]
     },
     "execution_count": 61,
     "metadata": {},
     "output_type": "execute_result"
    }
   ],
   "source": [
    "final_output = universe_analysis.generate_final_output(\n",
    "    y_pred_prob=probs_test,\n",
    "    y_test=y_true,\n",
    "    org_test=org_test,\n",
    "    filter_data=filter_sub_universe_data,\n",
    "    cp_metrics_df=cp_metrics_df,\n",
    "    save=True,\n",
    ")\n",
    "final_output"
   ]
  },
  {
   "cell_type": "code",
   "execution_count": null,
   "id": "721ff514-cb11-46f8-b6fc-50392f74b5cb",
   "metadata": {
    "papermill": {
     "duration": 0.01306,
     "end_time": "2025-07-23T13:11:54.516403",
     "exception": false,
     "start_time": "2025-07-23T13:11:54.503343",
     "status": "completed"
    },
    "tags": []
   },
   "outputs": [],
   "source": []
  }
 ],
 "metadata": {
  "celltoolbar": "Tags",
  "kernelspec": {
   "display_name": "Python (CMA Fairness)",
   "language": "python",
   "name": "cma_fair_env"
  },
  "language_info": {
   "codemirror_mode": {
    "name": "ipython",
    "version": 3
   },
   "file_extension": ".py",
   "mimetype": "text/x-python",
   "name": "python",
   "nbconvert_exporter": "python",
   "pygments_lexer": "ipython3",
   "version": "3.10.12"
  },
  "papermill": {
   "default_parameters": {},
   "duration": 363.643016,
   "end_time": "2025-07-23T13:11:55.046076",
   "environment_variables": {},
   "exception": null,
   "input_path": "universe_analysis.ipynb",
   "output_path": "output/runs/6/notebooks/m_6-aab90f968f4c380d738a3d6184711202.ipynb",
   "parameters": {
    "output_dir": "output",
    "run_no": "6",
    "seed": "2023",
    "universe": "{\"cutoff\": [\"quantile_0.1\", \"quantile_0.25\"], \"eval_fairness_grouping\": [\"majority-minority\", \"nationality-all\"], \"exclude_features\": \"age\", \"exclude_subgroups\": \"keep-all\", \"model\": \"elasticnet\", \"scale\": \"do-not-scale\"}",
    "universe_id": "aab90f968f4c380d738a3d6184711202"
   },
   "start_time": "2025-07-23T13:05:51.403060",
   "version": "2.6.0"
  }
 },
 "nbformat": 4,
 "nbformat_minor": 5
}