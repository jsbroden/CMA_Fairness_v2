{
 "cells": [
  {
   "cell_type": "code",
   "execution_count": 1,
   "id": "f159f837-637b-42ba-96b5-ec9a68c44524",
   "metadata": {
    "execution": {
     "iopub.execute_input": "2025-07-23T12:53:56.981320Z",
     "iopub.status.busy": "2025-07-23T12:53:56.981010Z",
     "iopub.status.idle": "2025-07-23T12:53:56.992583Z",
     "shell.execute_reply": "2025-07-23T12:53:56.991420Z"
    },
    "papermill": {
     "duration": 0.023785,
     "end_time": "2025-07-23T12:53:56.994424",
     "exception": false,
     "start_time": "2025-07-23T12:53:56.970639",
     "status": "completed"
    },
    "tags": []
   },
   "outputs": [
    {
     "name": "stdout",
     "output_type": "stream",
     "text": [
      "/dss/dsshome1/0C/ra93lal2/cma/CMA_Fairness_v2\n"
     ]
    },
    {
     "name": "stderr",
     "output_type": "stream",
     "text": [
      "/dss/dsshome1/0C/ra93lal2/.local/share/virtualenvs/CMA_Fairness_v2-3j10GkSs/lib/python3.10/site-packages/IPython/core/magics/osm.py:393: UserWarning: This is now an optional IPython functionality, using bookmarks requires you to install the `pickleshare` library.\n",
      "  bkms = self.shell.db.get('bookmarks', {})\n",
      "/dss/dsshome1/0C/ra93lal2/.local/share/virtualenvs/CMA_Fairness_v2-3j10GkSs/lib/python3.10/site-packages/IPython/core/magics/osm.py:417: UserWarning: This is now an optional IPython functionality, setting dhist requires you to install the `pickleshare` library.\n",
      "  self.shell.db['dhist'] = compress_dhist(dhist)[-100:]\n"
     ]
    }
   ],
   "source": [
    "%cd ~/cma/CMA_Fairness_v2"
   ]
  },
  {
   "cell_type": "markdown",
   "id": "de2603b9",
   "metadata": {
    "papermill": {
     "duration": 0.015463,
     "end_time": "2025-07-23T12:53:57.028782",
     "exception": false,
     "start_time": "2025-07-23T12:53:57.013319",
     "status": "completed"
    },
    "tags": []
   },
   "source": [
    "The following cell holds the definition of our parameters, these values can be overriden by rendering the with e.g. the following command:\n",
    "\n",
    "papermill -p alpha 0.2 -p ratio 0.3 universe_analysis.ipynb output/test_run.ipynb"
   ]
  },
  {
   "cell_type": "code",
   "execution_count": 2,
   "id": "a80968a0-40bb-4fa9-85ef-2d5eefb01975",
   "metadata": {
    "execution": {
     "iopub.execute_input": "2025-07-23T12:53:57.047429Z",
     "iopub.status.busy": "2025-07-23T12:53:57.046998Z",
     "iopub.status.idle": "2025-07-23T12:53:57.052634Z",
     "shell.execute_reply": "2025-07-23T12:53:57.051464Z"
    },
    "papermill": {
     "duration": 0.018722,
     "end_time": "2025-07-23T12:53:57.056171",
     "exception": false,
     "start_time": "2025-07-23T12:53:57.037449",
     "status": "completed"
    },
    "tags": []
   },
   "outputs": [
    {
     "name": "stdout",
     "output_type": "stream",
     "text": [
      "Current working directory: /dss/dsshome1/0C/ra93lal2/cma/CMA_Fairness_v2\n"
     ]
    }
   ],
   "source": [
    "import os\n",
    "print(\"Current working directory:\", os.getcwd())"
   ]
  },
  {
   "cell_type": "code",
   "execution_count": 3,
   "id": "2dce4c03",
   "metadata": {
    "execution": {
     "iopub.execute_input": "2025-07-23T12:53:57.091123Z",
     "iopub.status.busy": "2025-07-23T12:53:57.090699Z",
     "iopub.status.idle": "2025-07-23T12:53:57.096351Z",
     "shell.execute_reply": "2025-07-23T12:53:57.095478Z"
    },
    "papermill": {
     "duration": 0.024114,
     "end_time": "2025-07-23T12:53:57.097904",
     "exception": false,
     "start_time": "2025-07-23T12:53:57.073790",
     "status": "completed"
    },
    "tags": [
     "parameters"
    ]
   },
   "outputs": [],
   "source": [
    "run_no = 0\n",
    "universe_id = \"test\"\n",
    "universe = {\n",
    "    \"scale\": \"scale\", # \"scale\", \"do-not-scale\",\n",
    "    \"model\": \"elasticnet\", # \"logreg\", \"penalized_logreg\", \"rf\", \"gbm\", \"elasticnet\"\n",
    "    \"cutoff\": [\"quantile_0.15\", \"quantile_0.30\"],\n",
    "    \"exclude_features\": \"age\", # \"none\", \"nationality\", \"sex\", \"nationality-sex\", \"age\"\n",
    "    \"exclude_subgroups\": \"keep-all\", # \"keep-all\", \"drop-non-german\"\n",
    "    \"eval_fairness_grouping\": [\"majority-minority\", \"nationality-all\"]\n",
    "}\n",
    "\n",
    "output_dir=\"./output\"\n",
    "seed=0"
   ]
  },
  {
   "cell_type": "code",
   "execution_count": 4,
   "id": "e6edb4ec",
   "metadata": {
    "execution": {
     "iopub.execute_input": "2025-07-23T12:53:57.138083Z",
     "iopub.status.busy": "2025-07-23T12:53:57.137152Z",
     "iopub.status.idle": "2025-07-23T12:53:57.143397Z",
     "shell.execute_reply": "2025-07-23T12:53:57.142282Z"
    },
    "papermill": {
     "duration": 0.02909,
     "end_time": "2025-07-23T12:53:57.145322",
     "exception": false,
     "start_time": "2025-07-23T12:53:57.116232",
     "status": "completed"
    },
    "tags": [
     "injected-parameters"
    ]
   },
   "outputs": [],
   "source": [
    "# Parameters\n",
    "universe_id = \"0a2c19c1f4df54a19bbf9ad99d314fc9\"\n",
    "run_no = \"6\"\n",
    "universe = \"{\\\"cutoff\\\": [\\\"quantile_0.1\\\", \\\"quantile_0.25\\\"], \\\"eval_fairness_grouping\\\": [\\\"majority-minority\\\", \\\"nationality-all\\\"], \\\"exclude_features\\\": \\\"none\\\", \\\"exclude_subgroups\\\": \\\"drop-non-german\\\", \\\"model\\\": \\\"rf\\\", \\\"scale\\\": \\\"scale\\\"}\"\n",
    "output_dir = \"output\"\n",
    "seed = \"2023\"\n"
   ]
  },
  {
   "cell_type": "code",
   "execution_count": 5,
   "id": "1650acaf",
   "metadata": {
    "execution": {
     "iopub.execute_input": "2025-07-23T12:53:57.170489Z",
     "iopub.status.busy": "2025-07-23T12:53:57.170127Z",
     "iopub.status.idle": "2025-07-23T12:53:57.176226Z",
     "shell.execute_reply": "2025-07-23T12:53:57.174458Z"
    },
    "papermill": {
     "duration": 0.018049,
     "end_time": "2025-07-23T12:53:57.178306",
     "exception": false,
     "start_time": "2025-07-23T12:53:57.160257",
     "status": "completed"
    },
    "tags": []
   },
   "outputs": [],
   "source": [
    "import json\n",
    "# Parse universe into dict if it is passed as a string\n",
    "if isinstance(universe, str):\n",
    "    universe = json.loads(universe)"
   ]
  },
  {
   "cell_type": "code",
   "execution_count": 6,
   "id": "16620c48",
   "metadata": {
    "execution": {
     "iopub.execute_input": "2025-07-23T12:53:57.199924Z",
     "iopub.status.busy": "2025-07-23T12:53:57.198947Z",
     "iopub.status.idle": "2025-07-23T12:53:57.231128Z",
     "shell.execute_reply": "2025-07-23T12:53:57.230349Z"
    },
    "papermill": {
     "duration": 0.044584,
     "end_time": "2025-07-23T12:53:57.232836",
     "exception": false,
     "start_time": "2025-07-23T12:53:57.188252",
     "status": "completed"
    },
    "tags": []
   },
   "outputs": [],
   "source": [
    "# Auto-reload the custom package\n",
    "%load_ext autoreload\n",
    "%autoreload 1\n",
    "%aimport fairness_multiverse"
   ]
  },
  {
   "cell_type": "code",
   "execution_count": 7,
   "id": "01c5c9f3",
   "metadata": {
    "execution": {
     "iopub.execute_input": "2025-07-23T12:53:57.253906Z",
     "iopub.status.busy": "2025-07-23T12:53:57.253377Z",
     "iopub.status.idle": "2025-07-23T12:53:58.989512Z",
     "shell.execute_reply": "2025-07-23T12:53:58.988614Z"
    },
    "papermill": {
     "duration": 1.748567,
     "end_time": "2025-07-23T12:53:58.991117",
     "exception": false,
     "start_time": "2025-07-23T12:53:57.242550",
     "status": "completed"
    },
    "tags": []
   },
   "outputs": [],
   "source": [
    "from fairness_multiverse.universe import UniverseAnalysis\n",
    "\n",
    "universe_analysis = UniverseAnalysis(\n",
    "    run_no = run_no,\n",
    "    universe_id = universe_id,\n",
    "    universe = universe,\n",
    "    output_dir=output_dir,\n",
    ")"
   ]
  },
  {
   "cell_type": "code",
   "execution_count": 8,
   "id": "106241f5",
   "metadata": {
    "execution": {
     "iopub.execute_input": "2025-07-23T12:53:59.013885Z",
     "iopub.status.busy": "2025-07-23T12:53:59.013546Z",
     "iopub.status.idle": "2025-07-23T12:53:59.019715Z",
     "shell.execute_reply": "2025-07-23T12:53:59.018858Z"
    },
    "papermill": {
     "duration": 0.017602,
     "end_time": "2025-07-23T12:53:59.021191",
     "exception": false,
     "start_time": "2025-07-23T12:53:59.003589",
     "status": "completed"
    },
    "tags": []
   },
   "outputs": [
    {
     "name": "stdout",
     "output_type": "stream",
     "text": [
      "Using Seed: 2023\n"
     ]
    }
   ],
   "source": [
    "import numpy as np\n",
    "parsed_seed = int(seed)\n",
    "np.random.seed(parsed_seed)\n",
    "print(f\"Using Seed: {parsed_seed}\")"
   ]
  },
  {
   "cell_type": "markdown",
   "id": "e0ebdc57",
   "metadata": {
    "papermill": {
     "duration": 0.009239,
     "end_time": "2025-07-23T12:53:59.042705",
     "exception": false,
     "start_time": "2025-07-23T12:53:59.033466",
     "status": "completed"
    },
    "tags": []
   },
   "source": [
    "# Loading Data"
   ]
  },
  {
   "cell_type": "markdown",
   "id": "681925a3",
   "metadata": {
    "papermill": {
     "duration": 0.009132,
     "end_time": "2025-07-23T12:53:59.060967",
     "exception": false,
     "start_time": "2025-07-23T12:53:59.051835",
     "status": "completed"
    },
    "tags": []
   },
   "source": [
    "Load siab_train, siab_test, siab_calib and/or \n",
    "load siab_train_features, siab_train_labels"
   ]
  },
  {
   "cell_type": "code",
   "execution_count": 9,
   "id": "f0496b8a",
   "metadata": {
    "execution": {
     "iopub.execute_input": "2025-07-23T12:53:59.080976Z",
     "iopub.status.busy": "2025-07-23T12:53:59.080301Z",
     "iopub.status.idle": "2025-07-23T12:53:59.084804Z",
     "shell.execute_reply": "2025-07-23T12:53:59.084016Z"
    },
    "papermill": {
     "duration": 0.016359,
     "end_time": "2025-07-23T12:53:59.086442",
     "exception": false,
     "start_time": "2025-07-23T12:53:59.070083",
     "status": "completed"
    },
    "tags": []
   },
   "outputs": [],
   "source": [
    "# Do I need to load siab? Delete this cell?\n",
    "\n",
    "#from pathlib import Path\n",
    "#import pandas as pd\n",
    "#\n",
    "## File paths\n",
    "#raw_file = Path(\"data/raw/siab.csv\")\n",
    "#cache_file = Path(\"data/siab_cached.csv.gz\")\n",
    "#\n",
    "## Ensure cache directory exists\n",
    "#cache_file.parent.mkdir(parents=True, exist_ok=True)\n",
    "#\n",
    "## Load with simple caching\n",
    "#if cache_file.exists():\n",
    "#    print(f\"Loading SIAB data from cache: {cache_file}\")\n",
    "#    siab = pd.read_csv(cache_file, compression='gzip')\n",
    "#else:\n",
    "#    print(f\"Cache not found. Reading raw SIAB data: {raw_file}\")\n",
    "#    siab = pd.read_csv(raw_file)\n",
    "#    siab.to_csv(cache_file, index=False, compression='gzip')\n",
    "#    print(f\"Cached SIAB data to: {cache_file}\")\n",
    "#\n",
    "## Now use `siab` DataFrame as needed\n",
    "#print(siab.shape)\n"
   ]
  },
  {
   "cell_type": "code",
   "execution_count": 10,
   "id": "a0edb063",
   "metadata": {
    "execution": {
     "iopub.execute_input": "2025-07-23T12:53:59.121603Z",
     "iopub.status.busy": "2025-07-23T12:53:59.121181Z",
     "iopub.status.idle": "2025-07-23T12:53:59.517513Z",
     "shell.execute_reply": "2025-07-23T12:53:59.516423Z"
    },
    "papermill": {
     "duration": 0.416445,
     "end_time": "2025-07-23T12:53:59.519566",
     "exception": false,
     "start_time": "2025-07-23T12:53:59.103121",
     "status": "completed"
    },
    "tags": []
   },
   "outputs": [],
   "source": [
    "import pandas as pd\n",
    "\n",
    "X_train = pd.read_csv(\"./data/X_train.csv\")\n",
    "y_train = pd.read_csv(\"./data/y_train.csv\")"
   ]
  },
  {
   "cell_type": "code",
   "execution_count": 11,
   "id": "63d08085",
   "metadata": {
    "execution": {
     "iopub.execute_input": "2025-07-23T12:53:59.556945Z",
     "iopub.status.busy": "2025-07-23T12:53:59.556272Z",
     "iopub.status.idle": "2025-07-23T12:54:01.050336Z",
     "shell.execute_reply": "2025-07-23T12:54:01.049393Z"
    },
    "papermill": {
     "duration": 1.513458,
     "end_time": "2025-07-23T12:54:01.052485",
     "exception": false,
     "start_time": "2025-07-23T12:53:59.539027",
     "status": "completed"
    },
    "tags": []
   },
   "outputs": [],
   "source": [
    "X_test = pd.read_csv(\"./data/X_test.csv\")\n",
    "y_true = pd.read_csv(\"./data/y_test.csv\")"
   ]
  },
  {
   "cell_type": "code",
   "execution_count": 12,
   "id": "98a8d0fa-1d3d-4ed8-bb2c-281470e24add",
   "metadata": {
    "execution": {
     "iopub.execute_input": "2025-07-23T12:54:01.091047Z",
     "iopub.status.busy": "2025-07-23T12:54:01.090331Z",
     "iopub.status.idle": "2025-07-23T12:54:02.272100Z",
     "shell.execute_reply": "2025-07-23T12:54:02.271004Z"
    },
    "papermill": {
     "duration": 1.203575,
     "end_time": "2025-07-23T12:54:02.274126",
     "exception": false,
     "start_time": "2025-07-23T12:54:01.070551",
     "status": "completed"
    },
    "tags": []
   },
   "outputs": [],
   "source": [
    "# Calibration data for conformal\n",
    "X_calib = pd.read_csv(\"./data/X_calib.csv\")\n",
    "y_calib = pd.read_csv(\"./data/y_calib.csv\")"
   ]
  },
  {
   "cell_type": "code",
   "execution_count": 13,
   "id": "e6c733c5",
   "metadata": {
    "execution": {
     "iopub.execute_input": "2025-07-23T12:54:02.312143Z",
     "iopub.status.busy": "2025-07-23T12:54:02.311504Z",
     "iopub.status.idle": "2025-07-23T12:54:02.418628Z",
     "shell.execute_reply": "2025-07-23T12:54:02.417636Z"
    },
    "papermill": {
     "duration": 0.127924,
     "end_time": "2025-07-23T12:54:02.420656",
     "exception": false,
     "start_time": "2025-07-23T12:54:02.292732",
     "status": "completed"
    },
    "tags": []
   },
   "outputs": [],
   "source": [
    "# Auxiliary data needed downstream in the pipeline\n",
    "\n",
    "org_train = X_train.copy()\n",
    "org_test = X_test.copy()\n",
    "org_calib = X_calib.copy()"
   ]
  },
  {
   "cell_type": "markdown",
   "id": "0a4a1b33",
   "metadata": {
    "papermill": {
     "duration": 0.019588,
     "end_time": "2025-07-23T12:54:02.458625",
     "exception": false,
     "start_time": "2025-07-23T12:54:02.439037",
     "status": "completed"
    },
    "tags": []
   },
   "source": [
    "# Preprocessing Data"
   ]
  },
  {
   "cell_type": "code",
   "execution_count": 14,
   "id": "ca879031",
   "metadata": {
    "execution": {
     "iopub.execute_input": "2025-07-23T12:54:02.497749Z",
     "iopub.status.busy": "2025-07-23T12:54:02.496998Z",
     "iopub.status.idle": "2025-07-23T12:54:02.503923Z",
     "shell.execute_reply": "2025-07-23T12:54:02.502865Z"
    },
    "papermill": {
     "duration": 0.028576,
     "end_time": "2025-07-23T12:54:02.505892",
     "exception": false,
     "start_time": "2025-07-23T12:54:02.477316",
     "status": "completed"
    },
    "tags": []
   },
   "outputs": [],
   "source": [
    "# EXCLUDE PROTECTED FEATURES\n",
    "# ----------------------\n",
    "# \"exclude_features\": \"none\", # \"nationality\", \"sex\", \"nationality-sex\"\n",
    "\n",
    "excluded_features = universe[\"exclude_features\"].split(\"-\") # split, e.g.: \"nationality-sex\" -> [\"nationality\", \"sex\"]\n",
    "excluded_features_dictionary = {\n",
    "    \"nationality\": [\"maxdeutsch1\", \"maxdeutsch.Missing.\"],\n",
    "    \"sex\": [\"frau1\"],\n",
    "    \"age\": [\"age\"],\n",
    "}\n"
   ]
  },
  {
   "cell_type": "code",
   "execution_count": 15,
   "id": "b745ac60",
   "metadata": {
    "execution": {
     "iopub.execute_input": "2025-07-23T12:54:02.545024Z",
     "iopub.status.busy": "2025-07-23T12:54:02.544299Z",
     "iopub.status.idle": "2025-07-23T12:54:02.550864Z",
     "shell.execute_reply": "2025-07-23T12:54:02.549744Z"
    },
    "papermill": {
     "duration": 0.027562,
     "end_time": "2025-07-23T12:54:02.552790",
     "exception": false,
     "start_time": "2025-07-23T12:54:02.525228",
     "status": "completed"
    },
    "tags": []
   },
   "outputs": [],
   "source": [
    "# Code nice names to column names\n",
    "\n",
    "excluded_features_columns = [\n",
    "    excluded_features_dictionary[f] for f in excluded_features if len(f) > 0 and f != \"none\"\n",
    "]"
   ]
  },
  {
   "cell_type": "code",
   "execution_count": 16,
   "id": "f84f73a2",
   "metadata": {
    "execution": {
     "iopub.execute_input": "2025-07-23T12:54:02.593977Z",
     "iopub.status.busy": "2025-07-23T12:54:02.593166Z",
     "iopub.status.idle": "2025-07-23T12:54:02.600047Z",
     "shell.execute_reply": "2025-07-23T12:54:02.599045Z"
    },
    "papermill": {
     "duration": 0.029272,
     "end_time": "2025-07-23T12:54:02.601783",
     "exception": false,
     "start_time": "2025-07-23T12:54:02.572511",
     "status": "completed"
    },
    "tags": []
   },
   "outputs": [],
   "source": [
    "from utils import flatten_once\n",
    "\n",
    "excluded_features_columns = flatten_once(excluded_features_columns)"
   ]
  },
  {
   "cell_type": "code",
   "execution_count": 17,
   "id": "884dea22",
   "metadata": {
    "execution": {
     "iopub.execute_input": "2025-07-23T12:54:02.642864Z",
     "iopub.status.busy": "2025-07-23T12:54:02.641914Z",
     "iopub.status.idle": "2025-07-23T12:54:02.648952Z",
     "shell.execute_reply": "2025-07-23T12:54:02.647785Z"
    },
    "papermill": {
     "duration": 0.029949,
     "end_time": "2025-07-23T12:54:02.651001",
     "exception": false,
     "start_time": "2025-07-23T12:54:02.621052",
     "status": "completed"
    },
    "tags": []
   },
   "outputs": [],
   "source": [
    "if len(excluded_features_columns) > 0:\n",
    "    print(f\"Dropping features: {excluded_features_columns}\")\n",
    "    X_train.drop(excluded_features_columns, axis=1, inplace=True)"
   ]
  },
  {
   "cell_type": "code",
   "execution_count": 18,
   "id": "95ab8b16",
   "metadata": {
    "execution": {
     "iopub.execute_input": "2025-07-23T12:54:02.692323Z",
     "iopub.status.busy": "2025-07-23T12:54:02.691520Z",
     "iopub.status.idle": "2025-07-23T12:54:02.698043Z",
     "shell.execute_reply": "2025-07-23T12:54:02.696947Z"
    },
    "papermill": {
     "duration": 0.028452,
     "end_time": "2025-07-23T12:54:02.699877",
     "exception": false,
     "start_time": "2025-07-23T12:54:02.671425",
     "status": "completed"
    },
    "tags": []
   },
   "outputs": [],
   "source": [
    "if len(excluded_features_columns) > 0:\n",
    "    print(f\"Dropping features: {excluded_features_columns}\")\n",
    "    X_test.drop(excluded_features_columns, axis=1, inplace=True)"
   ]
  },
  {
   "cell_type": "code",
   "execution_count": 19,
   "id": "1853aaf5-fb9f-46cb-a2b5-8ea4ae2237e4",
   "metadata": {
    "execution": {
     "iopub.execute_input": "2025-07-23T12:54:02.740290Z",
     "iopub.status.busy": "2025-07-23T12:54:02.739346Z",
     "iopub.status.idle": "2025-07-23T12:54:02.745056Z",
     "shell.execute_reply": "2025-07-23T12:54:02.744185Z"
    },
    "papermill": {
     "duration": 0.028169,
     "end_time": "2025-07-23T12:54:02.746510",
     "exception": false,
     "start_time": "2025-07-23T12:54:02.718341",
     "status": "completed"
    },
    "tags": []
   },
   "outputs": [],
   "source": [
    "if len(excluded_features_columns) > 0:\n",
    "    print(f\"Dropping features: {excluded_features_columns}\")\n",
    "    X_calib.drop(excluded_features_columns, axis=1, inplace=True)"
   ]
  },
  {
   "cell_type": "code",
   "execution_count": 20,
   "id": "76c4dc6d",
   "metadata": {
    "execution": {
     "iopub.execute_input": "2025-07-23T12:54:02.768552Z",
     "iopub.status.busy": "2025-07-23T12:54:02.768134Z",
     "iopub.status.idle": "2025-07-23T12:54:02.773137Z",
     "shell.execute_reply": "2025-07-23T12:54:02.772218Z"
    },
    "papermill": {
     "duration": 0.017382,
     "end_time": "2025-07-23T12:54:02.774658",
     "exception": false,
     "start_time": "2025-07-23T12:54:02.757276",
     "status": "completed"
    },
    "tags": []
   },
   "outputs": [],
   "source": [
    "# EXCLUDE CERTAIN SUBGROUPS\n",
    "# ----------------------\n",
    "\n",
    "mode = universe.get(\"exclude_subgroups\", \"keep-all\") \n",
    "# Fetches the exclude_subgroups setting from the universe dict.\n",
    "# Defaults to \"keep-all\" if the key is missing."
   ]
  },
  {
   "cell_type": "code",
   "execution_count": 21,
   "id": "21994072",
   "metadata": {
    "execution": {
     "iopub.execute_input": "2025-07-23T12:54:02.796612Z",
     "iopub.status.busy": "2025-07-23T12:54:02.796051Z",
     "iopub.status.idle": "2025-07-23T12:54:02.803800Z",
     "shell.execute_reply": "2025-07-23T12:54:02.802567Z"
    },
    "papermill": {
     "duration": 0.020473,
     "end_time": "2025-07-23T12:54:02.805755",
     "exception": false,
     "start_time": "2025-07-23T12:54:02.785282",
     "status": "completed"
    },
    "tags": []
   },
   "outputs": [],
   "source": [
    "if mode == \"keep-all\":\n",
    "    keep_mask = pd.Series(True, index=org_train.index)\n",
    "\n",
    "# org_train contains the original feature columns from features_org (in Simson)\n",
    "# features_org contains unprocessed features, for me X_train at beginning ???\n",
    "# For keep-all, creates a boolean Series (keep_mask) of all True, so no rows are removed.\n",
    "\n",
    "elif mode == \"drop-non-german\":\n",
    "    keep_mask = org_train[\"maxdeutsch1\"] == 1 # ??? what about missing values?\n",
    "\n",
    "else:\n",
    "    raise ValueError(f\"Unsupported mode for exclude_subgroups: {mode}\")\n"
   ]
  },
  {
   "cell_type": "code",
   "execution_count": 22,
   "id": "71651440",
   "metadata": {
    "execution": {
     "iopub.execute_input": "2025-07-23T12:54:02.846414Z",
     "iopub.status.busy": "2025-07-23T12:54:02.845858Z",
     "iopub.status.idle": "2025-07-23T12:54:02.852751Z",
     "shell.execute_reply": "2025-07-23T12:54:02.851851Z"
    },
    "papermill": {
     "duration": 0.028356,
     "end_time": "2025-07-23T12:54:02.854625",
     "exception": false,
     "start_time": "2025-07-23T12:54:02.826269",
     "status": "completed"
    },
    "tags": []
   },
   "outputs": [
    {
     "name": "stdout",
     "output_type": "stream",
     "text": [
      "Dropping 3312 rows (13.25%) where mode='drop-non-german'\n"
     ]
    }
   ],
   "source": [
    "n_drop = (~keep_mask).sum() # Calculates how many rows are set to be dropped\n",
    "if n_drop > 0:\n",
    "    pct = n_drop / len(keep_mask) * 100\n",
    "    print(f\"Dropping {n_drop} rows ({pct:.2f}%) where mode='{mode}'\")"
   ]
  },
  {
   "cell_type": "code",
   "execution_count": 23,
   "id": "5fb8eee5",
   "metadata": {
    "execution": {
     "iopub.execute_input": "2025-07-23T12:54:02.896225Z",
     "iopub.status.busy": "2025-07-23T12:54:02.895367Z",
     "iopub.status.idle": "2025-07-23T12:54:02.911135Z",
     "shell.execute_reply": "2025-07-23T12:54:02.909936Z"
    },
    "papermill": {
     "duration": 0.038849,
     "end_time": "2025-07-23T12:54:02.913155",
     "exception": false,
     "start_time": "2025-07-23T12:54:02.874306",
     "status": "completed"
    },
    "tags": []
   },
   "outputs": [],
   "source": [
    "X_train = X_train[keep_mask]"
   ]
  },
  {
   "cell_type": "code",
   "execution_count": 24,
   "id": "b202bb3a",
   "metadata": {
    "execution": {
     "iopub.execute_input": "2025-07-23T12:54:02.949450Z",
     "iopub.status.busy": "2025-07-23T12:54:02.949060Z",
     "iopub.status.idle": "2025-07-23T12:54:02.955450Z",
     "shell.execute_reply": "2025-07-23T12:54:02.954332Z"
    },
    "papermill": {
     "duration": 0.023157,
     "end_time": "2025-07-23T12:54:02.957615",
     "exception": false,
     "start_time": "2025-07-23T12:54:02.934458",
     "status": "completed"
    },
    "tags": []
   },
   "outputs": [],
   "source": [
    "y_train = y_train[keep_mask]"
   ]
  },
  {
   "cell_type": "markdown",
   "id": "493e2ac3",
   "metadata": {
    "papermill": {
     "duration": 0.010027,
     "end_time": "2025-07-23T12:54:02.978330",
     "exception": false,
     "start_time": "2025-07-23T12:54:02.968303",
     "status": "completed"
    },
    "tags": []
   },
   "source": [
    "# Model Training"
   ]
  },
  {
   "cell_type": "code",
   "execution_count": 25,
   "id": "679e1268",
   "metadata": {
    "execution": {
     "iopub.execute_input": "2025-07-23T12:54:03.000155Z",
     "iopub.status.busy": "2025-07-23T12:54:02.999727Z",
     "iopub.status.idle": "2025-07-23T12:54:03.111969Z",
     "shell.execute_reply": "2025-07-23T12:54:03.110925Z"
    },
    "papermill": {
     "duration": 0.125759,
     "end_time": "2025-07-23T12:54:03.114216",
     "exception": false,
     "start_time": "2025-07-23T12:54:02.988457",
     "status": "completed"
    },
    "tags": []
   },
   "outputs": [],
   "source": [
    "from sklearn.linear_model import LogisticRegression\n",
    "from sklearn.ensemble import GradientBoostingClassifier, RandomForestClassifier\n",
    "\n",
    "if (universe[\"model\"] == \"logreg\"):\n",
    "    model = LogisticRegression() #penalty=\"none\") #, solver=\"newton-cg\", max_iter=1) # include random_state=19 ?\n",
    "elif (universe[\"model\"] == \"penalized_logreg\"):\n",
    "    model = LogisticRegression(penalty=\"l2\", C=1.0) #, solver=\"newton-cg\", max_iter=1)\n",
    "elif (universe[\"model\"] == \"rf\"):\n",
    "    model = RandomForestClassifier(n_estimators=100, n_jobs=-1)\n",
    "elif (universe[\"model\"] == \"gbm\"):\n",
    "    model = GradientBoostingClassifier()\n",
    "elif (universe[\"model\"] == \"elasticnet\"):\n",
    "    model = LogisticRegression(penalty = 'elasticnet', solver = 'saga', l1_ratio = 0.5, max_iter=5000) # which solver to use?\n",
    "else:\n",
    "    raise \"Unsupported universe.model\""
   ]
  },
  {
   "cell_type": "code",
   "execution_count": 26,
   "id": "0cc8f744",
   "metadata": {
    "execution": {
     "iopub.execute_input": "2025-07-23T12:54:03.157504Z",
     "iopub.status.busy": "2025-07-23T12:54:03.156981Z",
     "iopub.status.idle": "2025-07-23T12:54:03.164352Z",
     "shell.execute_reply": "2025-07-23T12:54:03.163215Z"
    },
    "papermill": {
     "duration": 0.031379,
     "end_time": "2025-07-23T12:54:03.166454",
     "exception": false,
     "start_time": "2025-07-23T12:54:03.135075",
     "status": "completed"
    },
    "tags": []
   },
   "outputs": [],
   "source": [
    "import numpy as np\n",
    "from sklearn.pipeline import Pipeline\n",
    "from sklearn.preprocessing import StandardScaler\n",
    "\n",
    "model = Pipeline([\n",
    "    #(\"continuous_processor\", continuous_processor),\n",
    "    #(\"categorical_preprocessor\", categorical_preprocessor),\n",
    "    (\"scale\", StandardScaler() if universe[\"scale\"] == \"scale\" else None), \n",
    "    (\"model\", model),\n",
    "])"
   ]
  },
  {
   "cell_type": "code",
   "execution_count": 27,
   "id": "9442c04d",
   "metadata": {
    "execution": {
     "iopub.execute_input": "2025-07-23T12:54:03.207468Z",
     "iopub.status.busy": "2025-07-23T12:54:03.206554Z",
     "iopub.status.idle": "2025-07-23T12:54:06.054066Z",
     "shell.execute_reply": "2025-07-23T12:54:06.052757Z"
    },
    "papermill": {
     "duration": 2.869405,
     "end_time": "2025-07-23T12:54:06.056262",
     "exception": false,
     "start_time": "2025-07-23T12:54:03.186857",
     "status": "completed"
    },
    "tags": []
   },
   "outputs": [
    {
     "data": {
      "text/html": [
       "<style>#sk-container-id-1 {color: black;background-color: white;}#sk-container-id-1 pre{padding: 0;}#sk-container-id-1 div.sk-toggleable {background-color: white;}#sk-container-id-1 label.sk-toggleable__label {cursor: pointer;display: block;width: 100%;margin-bottom: 0;padding: 0.3em;box-sizing: border-box;text-align: center;}#sk-container-id-1 label.sk-toggleable__label-arrow:before {content: \"▸\";float: left;margin-right: 0.25em;color: #696969;}#sk-container-id-1 label.sk-toggleable__label-arrow:hover:before {color: black;}#sk-container-id-1 div.sk-estimator:hover label.sk-toggleable__label-arrow:before {color: black;}#sk-container-id-1 div.sk-toggleable__content {max-height: 0;max-width: 0;overflow: hidden;text-align: left;background-color: #f0f8ff;}#sk-container-id-1 div.sk-toggleable__content pre {margin: 0.2em;color: black;border-radius: 0.25em;background-color: #f0f8ff;}#sk-container-id-1 input.sk-toggleable__control:checked~div.sk-toggleable__content {max-height: 200px;max-width: 100%;overflow: auto;}#sk-container-id-1 input.sk-toggleable__control:checked~label.sk-toggleable__label-arrow:before {content: \"▾\";}#sk-container-id-1 div.sk-estimator input.sk-toggleable__control:checked~label.sk-toggleable__label {background-color: #d4ebff;}#sk-container-id-1 div.sk-label input.sk-toggleable__control:checked~label.sk-toggleable__label {background-color: #d4ebff;}#sk-container-id-1 input.sk-hidden--visually {border: 0;clip: rect(1px 1px 1px 1px);clip: rect(1px, 1px, 1px, 1px);height: 1px;margin: -1px;overflow: hidden;padding: 0;position: absolute;width: 1px;}#sk-container-id-1 div.sk-estimator {font-family: monospace;background-color: #f0f8ff;border: 1px dotted black;border-radius: 0.25em;box-sizing: border-box;margin-bottom: 0.5em;}#sk-container-id-1 div.sk-estimator:hover {background-color: #d4ebff;}#sk-container-id-1 div.sk-parallel-item::after {content: \"\";width: 100%;border-bottom: 1px solid gray;flex-grow: 1;}#sk-container-id-1 div.sk-label:hover label.sk-toggleable__label {background-color: #d4ebff;}#sk-container-id-1 div.sk-serial::before {content: \"\";position: absolute;border-left: 1px solid gray;box-sizing: border-box;top: 0;bottom: 0;left: 50%;z-index: 0;}#sk-container-id-1 div.sk-serial {display: flex;flex-direction: column;align-items: center;background-color: white;padding-right: 0.2em;padding-left: 0.2em;position: relative;}#sk-container-id-1 div.sk-item {position: relative;z-index: 1;}#sk-container-id-1 div.sk-parallel {display: flex;align-items: stretch;justify-content: center;background-color: white;position: relative;}#sk-container-id-1 div.sk-item::before, #sk-container-id-1 div.sk-parallel-item::before {content: \"\";position: absolute;border-left: 1px solid gray;box-sizing: border-box;top: 0;bottom: 0;left: 50%;z-index: -1;}#sk-container-id-1 div.sk-parallel-item {display: flex;flex-direction: column;z-index: 1;position: relative;background-color: white;}#sk-container-id-1 div.sk-parallel-item:first-child::after {align-self: flex-end;width: 50%;}#sk-container-id-1 div.sk-parallel-item:last-child::after {align-self: flex-start;width: 50%;}#sk-container-id-1 div.sk-parallel-item:only-child::after {width: 0;}#sk-container-id-1 div.sk-dashed-wrapped {border: 1px dashed gray;margin: 0 0.4em 0.5em 0.4em;box-sizing: border-box;padding-bottom: 0.4em;background-color: white;}#sk-container-id-1 div.sk-label label {font-family: monospace;font-weight: bold;display: inline-block;line-height: 1.2em;}#sk-container-id-1 div.sk-label-container {text-align: center;}#sk-container-id-1 div.sk-container {/* jupyter's `normalize.less` sets `[hidden] { display: none; }` but bootstrap.min.css set `[hidden] { display: none !important; }` so we also need the `!important` here to be able to override the default hidden behavior on the sphinx rendered scikit-learn.org. See: https://github.com/scikit-learn/scikit-learn/issues/21755 */display: inline-block !important;position: relative;}#sk-container-id-1 div.sk-text-repr-fallback {display: none;}</style><div id=\"sk-container-id-1\" class=\"sk-top-container\"><div class=\"sk-text-repr-fallback\"><pre>Pipeline(steps=[(&#x27;scale&#x27;, StandardScaler()),\n",
       "                (&#x27;model&#x27;, RandomForestClassifier(n_jobs=-1))])</pre><b>In a Jupyter environment, please rerun this cell to show the HTML representation or trust the notebook. <br />On GitHub, the HTML representation is unable to render, please try loading this page with nbviewer.org.</b></div><div class=\"sk-container\" hidden><div class=\"sk-item sk-dashed-wrapped\"><div class=\"sk-label-container\"><div class=\"sk-label sk-toggleable\"><input class=\"sk-toggleable__control sk-hidden--visually\" id=\"sk-estimator-id-1\" type=\"checkbox\" ><label for=\"sk-estimator-id-1\" class=\"sk-toggleable__label sk-toggleable__label-arrow\">Pipeline</label><div class=\"sk-toggleable__content\"><pre>Pipeline(steps=[(&#x27;scale&#x27;, StandardScaler()),\n",
       "                (&#x27;model&#x27;, RandomForestClassifier(n_jobs=-1))])</pre></div></div></div><div class=\"sk-serial\"><div class=\"sk-item\"><div class=\"sk-estimator sk-toggleable\"><input class=\"sk-toggleable__control sk-hidden--visually\" id=\"sk-estimator-id-2\" type=\"checkbox\" ><label for=\"sk-estimator-id-2\" class=\"sk-toggleable__label sk-toggleable__label-arrow\">StandardScaler</label><div class=\"sk-toggleable__content\"><pre>StandardScaler()</pre></div></div></div><div class=\"sk-item\"><div class=\"sk-estimator sk-toggleable\"><input class=\"sk-toggleable__control sk-hidden--visually\" id=\"sk-estimator-id-3\" type=\"checkbox\" ><label for=\"sk-estimator-id-3\" class=\"sk-toggleable__label sk-toggleable__label-arrow\">RandomForestClassifier</label><div class=\"sk-toggleable__content\"><pre>RandomForestClassifier(n_jobs=-1)</pre></div></div></div></div></div></div></div>"
      ],
      "text/plain": [
       "Pipeline(steps=[('scale', StandardScaler()),\n",
       "                ('model', RandomForestClassifier(n_jobs=-1))])"
      ]
     },
     "execution_count": 27,
     "metadata": {},
     "output_type": "execute_result"
    }
   ],
   "source": [
    "model.fit(X_train, y_train.values.ravel())"
   ]
  },
  {
   "cell_type": "code",
   "execution_count": 28,
   "id": "af59f8c0",
   "metadata": {
    "execution": {
     "iopub.execute_input": "2025-07-23T12:54:06.103726Z",
     "iopub.status.busy": "2025-07-23T12:54:06.103103Z",
     "iopub.status.idle": "2025-07-23T12:54:06.109632Z",
     "shell.execute_reply": "2025-07-23T12:54:06.108625Z"
    },
    "papermill": {
     "duration": 0.032052,
     "end_time": "2025-07-23T12:54:06.111309",
     "exception": false,
     "start_time": "2025-07-23T12:54:06.079257",
     "status": "completed"
    },
    "tags": []
   },
   "outputs": [],
   "source": [
    "from fairness_multiverse.universe import predict_w_threshold"
   ]
  },
  {
   "cell_type": "code",
   "execution_count": 29,
   "id": "a7cf2e16",
   "metadata": {
    "execution": {
     "iopub.execute_input": "2025-07-23T12:54:06.133644Z",
     "iopub.status.busy": "2025-07-23T12:54:06.133278Z",
     "iopub.status.idle": "2025-07-23T12:54:07.420932Z",
     "shell.execute_reply": "2025-07-23T12:54:07.419642Z"
    },
    "papermill": {
     "duration": 1.300956,
     "end_time": "2025-07-23T12:54:07.423232",
     "exception": false,
     "start_time": "2025-07-23T12:54:06.122276",
     "status": "completed"
    },
    "tags": []
   },
   "outputs": [
    {
     "data": {
      "text/plain": [
       "0.865232415561253"
      ]
     },
     "execution_count": 29,
     "metadata": {},
     "output_type": "execute_result"
    }
   ],
   "source": [
    "probs_test = model.predict_proba(X_test)\n",
    "\n",
    "'''\n",
    "Below code returns a boolean array (or binary 0/1 array depending on how it’s used) where each element \n",
    "is True if the probability of class 1 is greater than or equal to the threshold, and False otherwise.\n",
    "'''\n",
    "y_pred_default = predict_w_threshold(probs_test, 0.5)\n",
    "\n",
    "from sklearn.metrics import accuracy_score\n",
    "\n",
    "# Naive prediction\n",
    "accuracy_score(y_true = y_true, y_pred = y_pred_default)"
   ]
  },
  {
   "cell_type": "code",
   "execution_count": 30,
   "id": "081964c3",
   "metadata": {
    "execution": {
     "iopub.execute_input": "2025-07-23T12:54:07.507233Z",
     "iopub.status.busy": "2025-07-23T12:54:07.506678Z",
     "iopub.status.idle": "2025-07-23T12:54:09.130783Z",
     "shell.execute_reply": "2025-07-23T12:54:09.129724Z"
    },
    "papermill": {
     "duration": 1.690408,
     "end_time": "2025-07-23T12:54:09.132849",
     "exception": false,
     "start_time": "2025-07-23T12:54:07.442441",
     "status": "completed"
    },
    "tags": []
   },
   "outputs": [
    {
     "data": {
      "text/plain": [
       "array([0, 0, 0, ..., 0, 0, 0])"
      ]
     },
     "execution_count": 30,
     "metadata": {},
     "output_type": "execute_result"
    }
   ],
   "source": [
    "model.predict(X_test)"
   ]
  },
  {
   "cell_type": "markdown",
   "id": "56c9705b",
   "metadata": {
    "papermill": {
     "duration": 0.022787,
     "end_time": "2025-07-23T12:54:09.206377",
     "exception": false,
     "start_time": "2025-07-23T12:54:09.183590",
     "status": "completed"
    },
    "tags": []
   },
   "source": [
    "# Conformal Prediction"
   ]
  },
  {
   "cell_type": "code",
   "execution_count": 31,
   "id": "160ec6ff",
   "metadata": {
    "execution": {
     "iopub.execute_input": "2025-07-23T12:54:09.252415Z",
     "iopub.status.busy": "2025-07-23T12:54:09.251320Z",
     "iopub.status.idle": "2025-07-23T12:54:09.257601Z",
     "shell.execute_reply": "2025-07-23T12:54:09.256442Z"
    },
    "papermill": {
     "duration": 0.031989,
     "end_time": "2025-07-23T12:54:09.260596",
     "exception": false,
     "start_time": "2025-07-23T12:54:09.228607",
     "status": "completed"
    },
    "tags": []
   },
   "outputs": [],
   "source": [
    "# Miscoverage level for conformal prediction (10% allowed error rate => 90% target coverage)\n",
    "alpha = 0.1"
   ]
  },
  {
   "cell_type": "code",
   "execution_count": 32,
   "id": "eadf4555-3dd3-440e-8e35-f82a4ad9f855",
   "metadata": {
    "execution": {
     "iopub.execute_input": "2025-07-23T12:54:09.301378Z",
     "iopub.status.busy": "2025-07-23T12:54:09.300969Z",
     "iopub.status.idle": "2025-07-23T12:54:10.655178Z",
     "shell.execute_reply": "2025-07-23T12:54:10.654110Z"
    },
    "papermill": {
     "duration": 1.374513,
     "end_time": "2025-07-23T12:54:10.657472",
     "exception": false,
     "start_time": "2025-07-23T12:54:09.282959",
     "status": "completed"
    },
    "tags": []
   },
   "outputs": [],
   "source": [
    "probs_calib = model.predict_proba(X_calib)"
   ]
  },
  {
   "cell_type": "code",
   "execution_count": 33,
   "id": "2ed93547-6d5d-4983-9b36-1ecb300da49a",
   "metadata": {
    "execution": {
     "iopub.execute_input": "2025-07-23T12:54:10.719975Z",
     "iopub.status.busy": "2025-07-23T12:54:10.719511Z",
     "iopub.status.idle": "2025-07-23T12:54:10.727786Z",
     "shell.execute_reply": "2025-07-23T12:54:10.726630Z"
    },
    "papermill": {
     "duration": 0.037058,
     "end_time": "2025-07-23T12:54:10.734279",
     "exception": false,
     "start_time": "2025-07-23T12:54:10.697221",
     "status": "completed"
    },
    "tags": []
   },
   "outputs": [],
   "source": [
    "y_calib = y_calib.values.ravel().astype(int)"
   ]
  },
  {
   "cell_type": "code",
   "execution_count": 34,
   "id": "65d1320d-f588-4b38-9072-62af1ae97f7d",
   "metadata": {
    "execution": {
     "iopub.execute_input": "2025-07-23T12:54:10.793707Z",
     "iopub.status.busy": "2025-07-23T12:54:10.793204Z",
     "iopub.status.idle": "2025-07-23T12:54:10.801735Z",
     "shell.execute_reply": "2025-07-23T12:54:10.800530Z"
    },
    "papermill": {
     "duration": 0.035723,
     "end_time": "2025-07-23T12:54:10.803615",
     "exception": false,
     "start_time": "2025-07-23T12:54:10.767892",
     "status": "completed"
    },
    "tags": []
   },
   "outputs": [],
   "source": [
    "from fairness_multiverse.conformal import compute_nc_scores\n",
    "\n",
    "# Compute nonconformity scores on calibration set (1 - probability of true class)\n",
    "nc_scores = compute_nc_scores(probs_calib, y_calib)"
   ]
  },
  {
   "cell_type": "code",
   "execution_count": 35,
   "id": "df3b8ca3-53b7-43d5-9667-7c85da7aeda2",
   "metadata": {
    "execution": {
     "iopub.execute_input": "2025-07-23T12:54:10.838529Z",
     "iopub.status.busy": "2025-07-23T12:54:10.838085Z",
     "iopub.status.idle": "2025-07-23T12:54:10.845567Z",
     "shell.execute_reply": "2025-07-23T12:54:10.844612Z"
    },
    "papermill": {
     "duration": 0.023747,
     "end_time": "2025-07-23T12:54:10.848912",
     "exception": false,
     "start_time": "2025-07-23T12:54:10.825165",
     "status": "completed"
    },
    "tags": []
   },
   "outputs": [],
   "source": [
    "from fairness_multiverse.conformal import find_threshold\n",
    "\n",
    "# Find conformal threshold q_hat for the given alpha (split conformal method)\n",
    "q_hat = find_threshold(nc_scores, alpha)"
   ]
  },
  {
   "cell_type": "code",
   "execution_count": 36,
   "id": "4d29e6c1-0ef6-4aa4-b8fe-4fe79b0d033a",
   "metadata": {
    "execution": {
     "iopub.execute_input": "2025-07-23T12:54:10.886604Z",
     "iopub.status.busy": "2025-07-23T12:54:10.885827Z",
     "iopub.status.idle": "2025-07-23T12:54:10.893539Z",
     "shell.execute_reply": "2025-07-23T12:54:10.892448Z"
    },
    "papermill": {
     "duration": 0.026468,
     "end_time": "2025-07-23T12:54:10.895237",
     "exception": false,
     "start_time": "2025-07-23T12:54:10.868769",
     "status": "completed"
    },
    "tags": []
   },
   "outputs": [
    {
     "data": {
      "text/plain": [
       "0.65"
      ]
     },
     "execution_count": 36,
     "metadata": {},
     "output_type": "execute_result"
    }
   ],
   "source": [
    "q_hat"
   ]
  },
  {
   "cell_type": "code",
   "execution_count": 37,
   "id": "92460794-cdac-4be2-ba28-f28c0515a6fb",
   "metadata": {
    "execution": {
     "iopub.execute_input": "2025-07-23T12:54:10.939283Z",
     "iopub.status.busy": "2025-07-23T12:54:10.938802Z",
     "iopub.status.idle": "2025-07-23T12:54:14.365885Z",
     "shell.execute_reply": "2025-07-23T12:54:14.364634Z"
    },
    "papermill": {
     "duration": 3.452179,
     "end_time": "2025-07-23T12:54:14.368203",
     "exception": false,
     "start_time": "2025-07-23T12:54:10.916024",
     "status": "completed"
    },
    "tags": []
   },
   "outputs": [],
   "source": [
    "from fairness_multiverse.conformal import predict_conformal_sets\n",
    "\n",
    "# Generate prediction sets for each test example\n",
    "pred_sets = predict_conformal_sets(model, X_test, q_hat)"
   ]
  },
  {
   "cell_type": "code",
   "execution_count": 38,
   "id": "d90c9a65-e6db-4f5d-80cd-e68fb7e46829",
   "metadata": {
    "execution": {
     "iopub.execute_input": "2025-07-23T12:54:14.433505Z",
     "iopub.status.busy": "2025-07-23T12:54:14.433055Z",
     "iopub.status.idle": "2025-07-23T12:54:14.443288Z",
     "shell.execute_reply": "2025-07-23T12:54:14.442140Z"
    },
    "papermill": {
     "duration": 0.044542,
     "end_time": "2025-07-23T12:54:14.448316",
     "exception": false,
     "start_time": "2025-07-23T12:54:14.403774",
     "status": "completed"
    },
    "tags": []
   },
   "outputs": [],
   "source": [
    "y_true = y_true.squeeze()"
   ]
  },
  {
   "cell_type": "code",
   "execution_count": 39,
   "id": "3a58a54a-1e68-46b9-927a-df01f18aebc8",
   "metadata": {
    "execution": {
     "iopub.execute_input": "2025-07-23T12:54:14.559695Z",
     "iopub.status.busy": "2025-07-23T12:54:14.559213Z",
     "iopub.status.idle": "2025-07-23T12:54:16.209963Z",
     "shell.execute_reply": "2025-07-23T12:54:16.208639Z"
    },
    "papermill": {
     "duration": 1.679599,
     "end_time": "2025-07-23T12:54:16.212299",
     "exception": false,
     "start_time": "2025-07-23T12:54:14.532700",
     "status": "completed"
    },
    "tags": []
   },
   "outputs": [],
   "source": [
    "from fairness_multiverse.conformal import evaluate_sets\n",
    "\n",
    "# Evaluate coverage and average set size on test data\n",
    "metrics = evaluate_sets(pred_sets, y_true)"
   ]
  },
  {
   "cell_type": "code",
   "execution_count": 40,
   "id": "5ce0a5cb-201f-45a0-ade5-94c7f0bd6095",
   "metadata": {
    "execution": {
     "iopub.execute_input": "2025-07-23T12:54:16.309754Z",
     "iopub.status.busy": "2025-07-23T12:54:16.309156Z",
     "iopub.status.idle": "2025-07-23T12:54:16.317727Z",
     "shell.execute_reply": "2025-07-23T12:54:16.316615Z"
    },
    "papermill": {
     "duration": 0.071102,
     "end_time": "2025-07-23T12:54:16.322252",
     "exception": false,
     "start_time": "2025-07-23T12:54:16.251150",
     "status": "completed"
    },
    "tags": []
   },
   "outputs": [
    {
     "data": {
      "text/plain": [
       "{'coverage': 0.9142236094080928, 'avg_size': 1.1432393267194292}"
      ]
     },
     "execution_count": 40,
     "metadata": {},
     "output_type": "execute_result"
    }
   ],
   "source": [
    "metrics"
   ]
  },
  {
   "cell_type": "code",
   "execution_count": 41,
   "id": "9b9a838d-31c9-430b-ae14-12baee460d17",
   "metadata": {
    "execution": {
     "iopub.execute_input": "2025-07-23T12:54:16.451528Z",
     "iopub.status.busy": "2025-07-23T12:54:16.451081Z",
     "iopub.status.idle": "2025-07-23T12:54:16.459570Z",
     "shell.execute_reply": "2025-07-23T12:54:16.458541Z"
    },
    "papermill": {
     "duration": 0.056611,
     "end_time": "2025-07-23T12:54:16.461452",
     "exception": false,
     "start_time": "2025-07-23T12:54:16.404841",
     "status": "completed"
    },
    "tags": []
   },
   "outputs": [],
   "source": [
    "example_universe = universe.copy()\n",
    "universe_model = example_universe.get(\"model\")\n",
    "universe_exclude_features = example_universe.get(\"exclude_features\")\n",
    "universe_exclude_subgroups = example_universe.get(\"exclude_subgroups\")\n",
    "universe_scale = example_universe.get(\"scale\")"
   ]
  },
  {
   "cell_type": "code",
   "execution_count": 42,
   "id": "f4b6a8ac-9dc0-4245-8a91-5b3b5999c4f9",
   "metadata": {
    "execution": {
     "iopub.execute_input": "2025-07-23T12:54:16.555850Z",
     "iopub.status.busy": "2025-07-23T12:54:16.555141Z",
     "iopub.status.idle": "2025-07-23T12:54:16.563311Z",
     "shell.execute_reply": "2025-07-23T12:54:16.562302Z"
    },
    "papermill": {
     "duration": 0.065758,
     "end_time": "2025-07-23T12:54:16.565241",
     "exception": false,
     "start_time": "2025-07-23T12:54:16.499483",
     "status": "completed"
    },
    "tags": []
   },
   "outputs": [],
   "source": [
    "cp_metrics_dict = {\n",
    "    \"universe_id\": [universe_id],\n",
    "    \"universe_model\": [universe_model],\n",
    "    \"universe_exclude_features\": [universe_exclude_features],\n",
    "    \"universe_exclude_subgroups\": [universe_exclude_subgroups],\n",
    "    \"universe_scale\": [universe_scale],\n",
    "    \"q_hat\": [q_hat],\n",
    "    \"coverage\": [metrics[\"coverage\"]],\n",
    "    \"avg_size\": [metrics[\"avg_size\"]],\n",
    "}"
   ]
  },
  {
   "cell_type": "code",
   "execution_count": 43,
   "id": "908acbb1-0371-4915-85ca-3fa520d2efe2",
   "metadata": {
    "execution": {
     "iopub.execute_input": "2025-07-23T12:54:16.653310Z",
     "iopub.status.busy": "2025-07-23T12:54:16.652856Z",
     "iopub.status.idle": "2025-07-23T12:54:16.663187Z",
     "shell.execute_reply": "2025-07-23T12:54:16.662144Z"
    },
    "papermill": {
     "duration": 0.05229,
     "end_time": "2025-07-23T12:54:16.665084",
     "exception": false,
     "start_time": "2025-07-23T12:54:16.612794",
     "status": "completed"
    },
    "tags": []
   },
   "outputs": [
    {
     "data": {
      "text/plain": [
       "{'universe_id': ['0a2c19c1f4df54a19bbf9ad99d314fc9'],\n",
       " 'universe_model': ['rf'],\n",
       " 'universe_exclude_features': ['none'],\n",
       " 'universe_exclude_subgroups': ['drop-non-german'],\n",
       " 'universe_scale': ['scale'],\n",
       " 'q_hat': [0.65],\n",
       " 'coverage': [0.9142236094080928],\n",
       " 'avg_size': [1.1432393267194292]}"
      ]
     },
     "execution_count": 43,
     "metadata": {},
     "output_type": "execute_result"
    }
   ],
   "source": [
    "cp_metrics_dict"
   ]
  },
  {
   "cell_type": "code",
   "execution_count": 44,
   "id": "33007efc-14e9-4ec6-97ac-56a455c82265",
   "metadata": {
    "execution": {
     "iopub.execute_input": "2025-07-23T12:54:16.771426Z",
     "iopub.status.busy": "2025-07-23T12:54:16.770890Z",
     "iopub.status.idle": "2025-07-23T12:54:16.780041Z",
     "shell.execute_reply": "2025-07-23T12:54:16.778817Z"
    },
    "papermill": {
     "duration": 0.065671,
     "end_time": "2025-07-23T12:54:16.781965",
     "exception": false,
     "start_time": "2025-07-23T12:54:16.716294",
     "status": "completed"
    },
    "tags": []
   },
   "outputs": [],
   "source": [
    "cp_metrics_df = pd.DataFrame(cp_metrics_dict)"
   ]
  },
  {
   "cell_type": "code",
   "execution_count": 45,
   "id": "db12611b-57b2-4910-b9d0-355adfd6e7bf",
   "metadata": {
    "execution": {
     "iopub.execute_input": "2025-07-23T12:54:16.852463Z",
     "iopub.status.busy": "2025-07-23T12:54:16.851923Z",
     "iopub.status.idle": "2025-07-23T12:54:16.889833Z",
     "shell.execute_reply": "2025-07-23T12:54:16.888646Z"
    },
    "papermill": {
     "duration": 0.078843,
     "end_time": "2025-07-23T12:54:16.896226",
     "exception": false,
     "start_time": "2025-07-23T12:54:16.817383",
     "status": "completed"
    },
    "tags": []
   },
   "outputs": [
    {
     "data": {
      "text/html": [
       "<div>\n",
       "<style scoped>\n",
       "    .dataframe tbody tr th:only-of-type {\n",
       "        vertical-align: middle;\n",
       "    }\n",
       "\n",
       "    .dataframe tbody tr th {\n",
       "        vertical-align: top;\n",
       "    }\n",
       "\n",
       "    .dataframe thead th {\n",
       "        text-align: right;\n",
       "    }\n",
       "</style>\n",
       "<table border=\"1\" class=\"dataframe\">\n",
       "  <thead>\n",
       "    <tr style=\"text-align: right;\">\n",
       "      <th></th>\n",
       "      <th>universe_id</th>\n",
       "      <th>universe_model</th>\n",
       "      <th>universe_exclude_features</th>\n",
       "      <th>universe_exclude_subgroups</th>\n",
       "      <th>universe_scale</th>\n",
       "      <th>q_hat</th>\n",
       "      <th>coverage</th>\n",
       "      <th>avg_size</th>\n",
       "    </tr>\n",
       "  </thead>\n",
       "  <tbody>\n",
       "    <tr>\n",
       "      <th>0</th>\n",
       "      <td>0a2c19c1f4df54a19bbf9ad99d314fc9</td>\n",
       "      <td>rf</td>\n",
       "      <td>none</td>\n",
       "      <td>drop-non-german</td>\n",
       "      <td>scale</td>\n",
       "      <td>0.65</td>\n",
       "      <td>0.914224</td>\n",
       "      <td>1.143239</td>\n",
       "    </tr>\n",
       "  </tbody>\n",
       "</table>\n",
       "</div>"
      ],
      "text/plain": [
       "                        universe_id universe_model universe_exclude_features  \\\n",
       "0  0a2c19c1f4df54a19bbf9ad99d314fc9             rf                      none   \n",
       "\n",
       "  universe_exclude_subgroups universe_scale  q_hat  coverage  avg_size  \n",
       "0            drop-non-german          scale   0.65  0.914224  1.143239  "
      ]
     },
     "execution_count": 45,
     "metadata": {},
     "output_type": "execute_result"
    }
   ],
   "source": [
    "cp_metrics_df"
   ]
  },
  {
   "cell_type": "code",
   "execution_count": 46,
   "id": "b7fbde55-a0a1-47e4-9af6-fe4a17fa8c61",
   "metadata": {
    "execution": {
     "iopub.execute_input": "2025-07-23T12:54:17.022629Z",
     "iopub.status.busy": "2025-07-23T12:54:17.022158Z",
     "iopub.status.idle": "2025-07-23T12:54:17.027905Z",
     "shell.execute_reply": "2025-07-23T12:54:17.026708Z"
    },
    "papermill": {
     "duration": 0.05408,
     "end_time": "2025-07-23T12:54:17.029933",
     "exception": false,
     "start_time": "2025-07-23T12:54:16.975853",
     "status": "completed"
    },
    "tags": []
   },
   "outputs": [],
   "source": [
    "# Conditional Coverage & looking at subgroups"
   ]
  },
  {
   "cell_type": "code",
   "execution_count": 47,
   "id": "027ae886-68dd-4141-96c7-805a5450e1ef",
   "metadata": {
    "execution": {
     "iopub.execute_input": "2025-07-23T12:54:17.146596Z",
     "iopub.status.busy": "2025-07-23T12:54:17.146161Z",
     "iopub.status.idle": "2025-07-23T12:54:17.631252Z",
     "shell.execute_reply": "2025-07-23T12:54:17.622631Z"
    },
    "papermill": {
     "duration": 0.544686,
     "end_time": "2025-07-23T12:54:17.633436",
     "exception": false,
     "start_time": "2025-07-23T12:54:17.088750",
     "status": "completed"
    },
    "tags": []
   },
   "outputs": [],
   "source": [
    "from fairness_multiverse.conformal import build_cp_groups\n",
    "\n",
    "cp_groups_df = build_cp_groups(pred_sets, y_true, X_test.index, org_test)\n",
    "#needs universe_id and setting"
   ]
  },
  {
   "cell_type": "code",
   "execution_count": 48,
   "id": "c3b92545-903e-4839-89af-0f057907d7d6",
   "metadata": {
    "execution": {
     "iopub.execute_input": "2025-07-23T12:54:17.747504Z",
     "iopub.status.busy": "2025-07-23T12:54:17.746882Z",
     "iopub.status.idle": "2025-07-23T12:54:20.613135Z",
     "shell.execute_reply": "2025-07-23T12:54:20.610541Z"
    },
    "papermill": {
     "duration": 2.944033,
     "end_time": "2025-07-23T12:54:20.616010",
     "exception": false,
     "start_time": "2025-07-23T12:54:17.671977",
     "status": "completed"
    },
    "tags": []
   },
   "outputs": [],
   "source": [
    "# Define covered = 1 if true_label is in the predicted set\n",
    "cp_groups_df['covered'] = cp_groups_df.apply(\n",
    "    lambda r: int(r['true_label'] in r['pred_set']),\n",
    "    axis=1\n",
    ")"
   ]
  },
  {
   "cell_type": "code",
   "execution_count": 49,
   "id": "338ff529-1a6b-4b87-a931-8e4788d52aad",
   "metadata": {
    "execution": {
     "iopub.execute_input": "2025-07-23T12:54:20.692774Z",
     "iopub.status.busy": "2025-07-23T12:54:20.692194Z",
     "iopub.status.idle": "2025-07-23T12:54:20.702119Z",
     "shell.execute_reply": "2025-07-23T12:54:20.700799Z"
    },
    "papermill": {
     "duration": 0.061352,
     "end_time": "2025-07-23T12:54:20.704949",
     "exception": false,
     "start_time": "2025-07-23T12:54:20.643597",
     "status": "completed"
    },
    "tags": []
   },
   "outputs": [],
   "source": [
    "#cp_groups_df"
   ]
  },
  {
   "cell_type": "code",
   "execution_count": 50,
   "id": "90032e27-66df-4540-9169-4e89cfbaa758",
   "metadata": {
    "execution": {
     "iopub.execute_input": "2025-07-23T12:54:20.827593Z",
     "iopub.status.busy": "2025-07-23T12:54:20.827139Z",
     "iopub.status.idle": "2025-07-23T12:54:20.852546Z",
     "shell.execute_reply": "2025-07-23T12:54:20.851334Z"
    },
    "papermill": {
     "duration": 0.085457,
     "end_time": "2025-07-23T12:54:20.854714",
     "exception": false,
     "start_time": "2025-07-23T12:54:20.769257",
     "status": "completed"
    },
    "tags": []
   },
   "outputs": [],
   "source": [
    "subgroups = ['frau1','nongerman','nongerman_male','nongerman_female']\n",
    "\n",
    "# Conditional coverage for subgroup==1\n",
    "cond_coverage = {\n",
    "    g: cp_groups_df.loc[cp_groups_df[g]==1, 'covered'].mean()\n",
    "    for g in subgroups\n",
    "}"
   ]
  },
  {
   "cell_type": "code",
   "execution_count": 51,
   "id": "1e348fb1-b9c3-45bc-ba23-f016827a7e0d",
   "metadata": {
    "execution": {
     "iopub.execute_input": "2025-07-23T12:54:20.932412Z",
     "iopub.status.busy": "2025-07-23T12:54:20.931179Z",
     "iopub.status.idle": "2025-07-23T12:54:20.942409Z",
     "shell.execute_reply": "2025-07-23T12:54:20.941267Z"
    },
    "papermill": {
     "duration": 0.049947,
     "end_time": "2025-07-23T12:54:20.945885",
     "exception": false,
     "start_time": "2025-07-23T12:54:20.895938",
     "status": "completed"
    },
    "tags": []
   },
   "outputs": [
    {
     "data": {
      "text/plain": [
       "{'frau1': 0.9139776250168486,\n",
       " 'nongerman': 0.9086622129905125,\n",
       " 'nongerman_male': 0.9235341799513644,\n",
       " 'nongerman_female': 0.884053651266766}"
      ]
     },
     "execution_count": 51,
     "metadata": {},
     "output_type": "execute_result"
    }
   ],
   "source": [
    "cond_coverage"
   ]
  },
  {
   "cell_type": "code",
   "execution_count": 52,
   "id": "f5093324-c3dd-4d63-bc4c-8d945e5c8bbb",
   "metadata": {
    "execution": {
     "iopub.execute_input": "2025-07-23T12:54:21.007737Z",
     "iopub.status.busy": "2025-07-23T12:54:21.007213Z",
     "iopub.status.idle": "2025-07-23T12:54:21.017073Z",
     "shell.execute_reply": "2025-07-23T12:54:21.015739Z"
    },
    "papermill": {
     "duration": 0.044398,
     "end_time": "2025-07-23T12:54:21.021226",
     "exception": false,
     "start_time": "2025-07-23T12:54:20.976828",
     "status": "completed"
    },
    "tags": []
   },
   "outputs": [],
   "source": [
    "for subgroup, cov in cond_coverage.items():\n",
    "    cp_metrics_df[f\"cov_{subgroup}\"] = cov"
   ]
  },
  {
   "cell_type": "code",
   "execution_count": 53,
   "id": "6e872e10-dbe5-49e8-b554-5030c98ff75d",
   "metadata": {
    "execution": {
     "iopub.execute_input": "2025-07-23T12:54:21.101603Z",
     "iopub.status.busy": "2025-07-23T12:54:21.101081Z",
     "iopub.status.idle": "2025-07-23T12:54:21.171526Z",
     "shell.execute_reply": "2025-07-23T12:54:21.170170Z"
    },
    "papermill": {
     "duration": 0.125794,
     "end_time": "2025-07-23T12:54:21.173887",
     "exception": false,
     "start_time": "2025-07-23T12:54:21.048093",
     "status": "completed"
    },
    "tags": []
   },
   "outputs": [
    {
     "data": {
      "text/html": [
       "<div>\n",
       "<style scoped>\n",
       "    .dataframe tbody tr th:only-of-type {\n",
       "        vertical-align: middle;\n",
       "    }\n",
       "\n",
       "    .dataframe tbody tr th {\n",
       "        vertical-align: top;\n",
       "    }\n",
       "\n",
       "    .dataframe thead th {\n",
       "        text-align: right;\n",
       "    }\n",
       "</style>\n",
       "<table border=\"1\" class=\"dataframe\">\n",
       "  <thead>\n",
       "    <tr style=\"text-align: right;\">\n",
       "      <th></th>\n",
       "      <th>universe_id</th>\n",
       "      <th>universe_model</th>\n",
       "      <th>universe_exclude_features</th>\n",
       "      <th>universe_exclude_subgroups</th>\n",
       "      <th>universe_scale</th>\n",
       "      <th>q_hat</th>\n",
       "      <th>coverage</th>\n",
       "      <th>avg_size</th>\n",
       "      <th>cov_frau1</th>\n",
       "      <th>cov_nongerman</th>\n",
       "      <th>cov_nongerman_male</th>\n",
       "      <th>cov_nongerman_female</th>\n",
       "    </tr>\n",
       "  </thead>\n",
       "  <tbody>\n",
       "    <tr>\n",
       "      <th>0</th>\n",
       "      <td>0a2c19c1f4df54a19bbf9ad99d314fc9</td>\n",
       "      <td>rf</td>\n",
       "      <td>none</td>\n",
       "      <td>drop-non-german</td>\n",
       "      <td>scale</td>\n",
       "      <td>0.65</td>\n",
       "      <td>0.914224</td>\n",
       "      <td>1.143239</td>\n",
       "      <td>0.913978</td>\n",
       "      <td>0.908662</td>\n",
       "      <td>0.923534</td>\n",
       "      <td>0.884054</td>\n",
       "    </tr>\n",
       "  </tbody>\n",
       "</table>\n",
       "</div>"
      ],
      "text/plain": [
       "                        universe_id universe_model universe_exclude_features  \\\n",
       "0  0a2c19c1f4df54a19bbf9ad99d314fc9             rf                      none   \n",
       "\n",
       "  universe_exclude_subgroups universe_scale  q_hat  coverage  avg_size  \\\n",
       "0            drop-non-german          scale   0.65  0.914224  1.143239   \n",
       "\n",
       "   cov_frau1  cov_nongerman  cov_nongerman_male  cov_nongerman_female  \n",
       "0   0.913978       0.908662            0.923534              0.884054  "
      ]
     },
     "execution_count": 53,
     "metadata": {},
     "output_type": "execute_result"
    }
   ],
   "source": [
    "cp_metrics_df"
   ]
  },
  {
   "cell_type": "markdown",
   "id": "33774451",
   "metadata": {
    "papermill": {
     "duration": 0.128475,
     "end_time": "2025-07-23T12:54:21.404939",
     "exception": false,
     "start_time": "2025-07-23T12:54:21.276464",
     "status": "completed"
    },
    "tags": []
   },
   "source": [
    "# (Fairness) Metrics"
   ]
  },
  {
   "cell_type": "code",
   "execution_count": 54,
   "id": "debc5d62",
   "metadata": {
    "execution": {
     "iopub.execute_input": "2025-07-23T12:54:21.626829Z",
     "iopub.status.busy": "2025-07-23T12:54:21.626371Z",
     "iopub.status.idle": "2025-07-23T12:54:21.684122Z",
     "shell.execute_reply": "2025-07-23T12:54:21.682538Z"
    },
    "papermill": {
     "duration": 0.169765,
     "end_time": "2025-07-23T12:54:21.686469",
     "exception": false,
     "start_time": "2025-07-23T12:54:21.516704",
     "status": "completed"
    },
    "tags": []
   },
   "outputs": [],
   "source": [
    "# do I need to include maxdeutsch1.missing?\n",
    "\n",
    "import numpy as np\n",
    "\n",
    "colname_to_bin = \"maxdeutsch1\"\n",
    "majority_value = org_train[colname_to_bin].mode()[0]\n",
    "\n",
    "org_test[\"majmin\"] = np.where(org_test[colname_to_bin] == majority_value, \"majority\", \"minority\")"
   ]
  },
  {
   "cell_type": "code",
   "execution_count": 55,
   "id": "06a50de5",
   "metadata": {
    "execution": {
     "iopub.execute_input": "2025-07-23T12:54:21.903290Z",
     "iopub.status.busy": "2025-07-23T12:54:21.902840Z",
     "iopub.status.idle": "2025-07-23T12:54:27.851405Z",
     "shell.execute_reply": "2025-07-23T12:54:27.850078Z"
    },
    "papermill": {
     "duration": 6.052771,
     "end_time": "2025-07-23T12:54:27.853476",
     "exception": false,
     "start_time": "2025-07-23T12:54:21.800705",
     "status": "completed"
    },
    "tags": []
   },
   "outputs": [],
   "source": [
    "example_universe = universe.copy()\n",
    "example_universe[\"cutoff\"] = example_universe[\"cutoff\"][0]\n",
    "example_universe[\"eval_fairness_grouping\"] = example_universe[\"eval_fairness_grouping\"][0]\n",
    "fairness_dict, metric_frame = universe_analysis.compute_metrics(\n",
    "    example_universe,\n",
    "    y_pred_prob=probs_test,\n",
    "    y_test=y_true,\n",
    "    org_test=org_test,\n",
    ")"
   ]
  },
  {
   "cell_type": "markdown",
   "id": "f95d4e02",
   "metadata": {
    "papermill": {
     "duration": 0.067853,
     "end_time": "2025-07-23T12:54:27.964666",
     "exception": false,
     "start_time": "2025-07-23T12:54:27.896813",
     "status": "completed"
    },
    "tags": []
   },
   "source": [
    "# Overall"
   ]
  },
  {
   "cell_type": "markdown",
   "id": "bdee4871",
   "metadata": {
    "papermill": {
     "duration": 0.026343,
     "end_time": "2025-07-23T12:54:28.026536",
     "exception": false,
     "start_time": "2025-07-23T12:54:28.000193",
     "status": "completed"
    },
    "tags": []
   },
   "source": [
    "Fairness\n",
    "Main fairness target: Equalized Odds. Seems to be a better fit than equal opportunity, since we're not only interested in Y = 1. Seems to be a better fit than demographic parity, since we also care about accuracy, not just equal distribution of preds.\n",
    "\n",
    "Pick column for computation of fairness metrics\n",
    "\n",
    "Performance\n",
    "Overall performance measures, most interesting in relation to the measures split by group below"
   ]
  },
  {
   "cell_type": "code",
   "execution_count": 56,
   "id": "c4e067c6",
   "metadata": {
    "execution": {
     "iopub.execute_input": "2025-07-23T12:54:28.082914Z",
     "iopub.status.busy": "2025-07-23T12:54:28.081725Z",
     "iopub.status.idle": "2025-07-23T12:54:28.092887Z",
     "shell.execute_reply": "2025-07-23T12:54:28.091614Z"
    },
    "papermill": {
     "duration": 0.057135,
     "end_time": "2025-07-23T12:54:28.110198",
     "exception": false,
     "start_time": "2025-07-23T12:54:28.053063",
     "status": "completed"
    },
    "tags": []
   },
   "outputs": [
    {
     "data": {
      "text/plain": [
       "accuracy                   0.189912\n",
       "balanced accuracy          0.528570\n",
       "f1                         0.237613\n",
       "precision                  0.135119\n",
       "false positive rate        0.926958\n",
       "false negative rate        0.015902\n",
       "selection rate             0.934288\n",
       "count                  89710.000000\n",
       "dtype: float64"
      ]
     },
     "execution_count": 56,
     "metadata": {},
     "output_type": "execute_result"
    }
   ],
   "source": [
    "metric_frame.overall"
   ]
  },
  {
   "cell_type": "markdown",
   "id": "e968fe9d",
   "metadata": {
    "papermill": {
     "duration": 0.025925,
     "end_time": "2025-07-23T12:54:28.158716",
     "exception": false,
     "start_time": "2025-07-23T12:54:28.132791",
     "status": "completed"
    },
    "tags": []
   },
   "source": [
    "By Group"
   ]
  },
  {
   "cell_type": "code",
   "execution_count": 57,
   "id": "ec325bce",
   "metadata": {
    "execution": {
     "iopub.execute_input": "2025-07-23T12:54:28.268273Z",
     "iopub.status.busy": "2025-07-23T12:54:28.267037Z",
     "iopub.status.idle": "2025-07-23T12:54:28.307507Z",
     "shell.execute_reply": "2025-07-23T12:54:28.306290Z"
    },
    "papermill": {
     "duration": 0.07227,
     "end_time": "2025-07-23T12:54:28.309402",
     "exception": false,
     "start_time": "2025-07-23T12:54:28.237132",
     "status": "completed"
    },
    "tags": []
   },
   "outputs": [
    {
     "data": {
      "text/html": [
       "<div>\n",
       "<style scoped>\n",
       "    .dataframe tbody tr th:only-of-type {\n",
       "        vertical-align: middle;\n",
       "    }\n",
       "\n",
       "    .dataframe tbody tr th {\n",
       "        vertical-align: top;\n",
       "    }\n",
       "\n",
       "    .dataframe thead th {\n",
       "        text-align: right;\n",
       "    }\n",
       "</style>\n",
       "<table border=\"1\" class=\"dataframe\">\n",
       "  <thead>\n",
       "    <tr style=\"text-align: right;\">\n",
       "      <th></th>\n",
       "      <th>accuracy</th>\n",
       "      <th>balanced accuracy</th>\n",
       "      <th>f1</th>\n",
       "      <th>precision</th>\n",
       "      <th>false positive rate</th>\n",
       "      <th>false negative rate</th>\n",
       "      <th>selection rate</th>\n",
       "      <th>count</th>\n",
       "    </tr>\n",
       "    <tr>\n",
       "      <th>majmin</th>\n",
       "      <th></th>\n",
       "      <th></th>\n",
       "      <th></th>\n",
       "      <th></th>\n",
       "      <th></th>\n",
       "      <th></th>\n",
       "      <th></th>\n",
       "      <th></th>\n",
       "    </tr>\n",
       "  </thead>\n",
       "  <tbody>\n",
       "    <tr>\n",
       "      <th>majority</th>\n",
       "      <td>0.189446</td>\n",
       "      <td>0.529307</td>\n",
       "      <td>0.244251</td>\n",
       "      <td>0.139286</td>\n",
       "      <td>0.932634</td>\n",
       "      <td>0.008753</td>\n",
       "      <td>0.940379</td>\n",
       "      <td>69170.0</td>\n",
       "    </tr>\n",
       "    <tr>\n",
       "      <th>minority</th>\n",
       "      <td>0.191480</td>\n",
       "      <td>0.524146</td>\n",
       "      <td>0.214316</td>\n",
       "      <td>0.120678</td>\n",
       "      <td>0.908210</td>\n",
       "      <td>0.043497</td>\n",
       "      <td>0.913778</td>\n",
       "      <td>20540.0</td>\n",
       "    </tr>\n",
       "  </tbody>\n",
       "</table>\n",
       "</div>"
      ],
      "text/plain": [
       "          accuracy  balanced accuracy        f1  precision  \\\n",
       "majmin                                                       \n",
       "majority  0.189446           0.529307  0.244251   0.139286   \n",
       "minority  0.191480           0.524146  0.214316   0.120678   \n",
       "\n",
       "          false positive rate  false negative rate  selection rate    count  \n",
       "majmin                                                                       \n",
       "majority             0.932634             0.008753        0.940379  69170.0  \n",
       "minority             0.908210             0.043497        0.913778  20540.0  "
      ]
     },
     "execution_count": 57,
     "metadata": {},
     "output_type": "execute_result"
    }
   ],
   "source": [
    "metric_frame.by_group"
   ]
  },
  {
   "cell_type": "code",
   "execution_count": 58,
   "id": "a9ddbe63",
   "metadata": {
    "execution": {
     "iopub.execute_input": "2025-07-23T12:54:28.413941Z",
     "iopub.status.busy": "2025-07-23T12:54:28.413337Z",
     "iopub.status.idle": "2025-07-23T12:54:33.358741Z",
     "shell.execute_reply": "2025-07-23T12:54:33.357631Z"
    },
    "papermill": {
     "duration": 5.000688,
     "end_time": "2025-07-23T12:54:33.360414",
     "exception": false,
     "start_time": "2025-07-23T12:54:28.359726",
     "status": "completed"
    },
    "tags": []
   },
   "outputs": [
    {
     "data": {
      "text/plain": [
       "array([[<Axes: title={'center': 'accuracy'}, xlabel='majmin'>,\n",
       "        <Axes: title={'center': 'balanced accuracy'}, xlabel='majmin'>,\n",
       "        <Axes: title={'center': 'f1'}, xlabel='majmin'>],\n",
       "       [<Axes: title={'center': 'precision'}, xlabel='majmin'>,\n",
       "        <Axes: title={'center': 'false positive rate'}, xlabel='majmin'>,\n",
       "        <Axes: title={'center': 'false negative rate'}, xlabel='majmin'>],\n",
       "       [<Axes: title={'center': 'selection rate'}, xlabel='majmin'>,\n",
       "        <Axes: title={'center': 'count'}, xlabel='majmin'>,\n",
       "        <Axes: xlabel='majmin'>]], dtype=object)"
      ]
     },
     "execution_count": 58,
     "metadata": {},
     "output_type": "execute_result"
    },
    {
     "data": {
      "image/png": "[encoded data removed]",
      "text/plain": [
       "<Figure size 1200x800 with 9 Axes>"
      ]
     },
     "metadata": {},
     "output_type": "display_data"
    }
   ],
   "source": [
    "# In a graphic\n",
    "metric_frame.by_group.plot.bar(\n",
    "    subplots=True,\n",
    "    layout=[3, 3],\n",
    "    legend=False,\n",
    "    figsize=[12, 8],\n",
    "    title=\"Show all metrics\",\n",
    ")"
   ]
  },
  {
   "cell_type": "markdown",
   "id": "f57a0bac",
   "metadata": {
    "papermill": {
     "duration": 0.024656,
     "end_time": "2025-07-23T12:54:33.412042",
     "exception": false,
     "start_time": "2025-07-23T12:54:33.387386",
     "status": "completed"
    },
    "tags": []
   },
   "source": [
    "# Final Output"
   ]
  },
  {
   "cell_type": "code",
   "execution_count": 59,
   "id": "96d280a3",
   "metadata": {
    "execution": {
     "iopub.execute_input": "2025-07-23T12:54:33.457750Z",
     "iopub.status.busy": "2025-07-23T12:54:33.457105Z",
     "iopub.status.idle": "2025-07-23T12:54:33.466439Z",
     "shell.execute_reply": "2025-07-23T12:54:33.465397Z"
    },
    "papermill": {
     "duration": 0.03168,
     "end_time": "2025-07-23T12:54:33.468270",
     "exception": false,
     "start_time": "2025-07-23T12:54:33.436590",
     "status": "completed"
    },
    "tags": []
   },
   "outputs": [
    {
     "data": {
      "text/plain": [
       "4"
      ]
     },
     "execution_count": 59,
     "metadata": {},
     "output_type": "execute_result"
    }
   ],
   "source": [
    "sub_universes = universe_analysis.generate_sub_universes()\n",
    "len(sub_universes)"
   ]
  },
  {
   "cell_type": "code",
   "execution_count": 60,
   "id": "92adf7ba",
   "metadata": {
    "execution": {
     "iopub.execute_input": "2025-07-23T12:54:33.515175Z",
     "iopub.status.busy": "2025-07-23T12:54:33.514780Z",
     "iopub.status.idle": "2025-07-23T12:54:33.520608Z",
     "shell.execute_reply": "2025-07-23T12:54:33.519811Z"
    },
    "papermill": {
     "duration": 0.026283,
     "end_time": "2025-07-23T12:54:33.522092",
     "exception": false,
     "start_time": "2025-07-23T12:54:33.495809",
     "status": "completed"
    },
    "tags": []
   },
   "outputs": [],
   "source": [
    "def filter_sub_universe_data(sub_universe, org_test):\n",
    "    # Keep all rows — no filtering\n",
    "    keep_rows_mask = np.ones(org_test.shape[0], dtype=bool)\n",
    "\n",
    "    print(f\"[INFO] Keeping all rows: {keep_rows_mask.sum()} rows retained.\")\n",
    "    return keep_rows_mask"
   ]
  },
  {
   "cell_type": "code",
   "execution_count": 61,
   "id": "4a759155",
   "metadata": {
    "execution": {
     "iopub.execute_input": "2025-07-23T12:54:33.624115Z",
     "iopub.status.busy": "2025-07-23T12:54:33.623547Z",
     "iopub.status.idle": "2025-07-23T12:54:46.414231Z",
     "shell.execute_reply": "2025-07-23T12:54:46.413142Z"
    },
    "papermill": {
     "duration": 12.836525,
     "end_time": "2025-07-23T12:54:46.415937",
     "exception": false,
     "start_time": "2025-07-23T12:54:33.579412",
     "status": "completed"
    },
    "tags": []
   },
   "outputs": [
    {
     "name": "stdout",
     "output_type": "stream",
     "text": [
      "Stopping execution_time clock.\n",
      "[INFO] Keeping all rows: 89710 rows retained.\n"
     ]
    },
    {
     "name": "stdout",
     "output_type": "stream",
     "text": [
      "[INFO] Keeping all rows: 89710 rows retained.\n"
     ]
    },
    {
     "name": "stdout",
     "output_type": "stream",
     "text": [
      "[INFO] Keeping all rows: 89710 rows retained.\n"
     ]
    },
    {
     "name": "stdout",
     "output_type": "stream",
     "text": [
      "[INFO] Keeping all rows: 89710 rows retained.\n"
     ]
    },
    {
     "data": {
      "text/html": [
       "<div>\n",
       "<style scoped>\n",
       "    .dataframe tbody tr th:only-of-type {\n",
       "        vertical-align: middle;\n",
       "    }\n",
       "\n",
       "    .dataframe tbody tr th {\n",
       "        vertical-align: top;\n",
       "    }\n",
       "\n",
       "    .dataframe thead th {\n",
       "        text-align: right;\n",
       "    }\n",
       "</style>\n",
       "<table border=\"1\" class=\"dataframe\">\n",
       "  <thead>\n",
       "    <tr style=\"text-align: right;\">\n",
       "      <th></th>\n",
       "      <th>run_no</th>\n",
       "      <th>universe_id</th>\n",
       "      <th>universe_settings</th>\n",
       "      <th>execution_time</th>\n",
       "      <th>test_size_n</th>\n",
       "      <th>test_size_frac</th>\n",
       "      <th>fair_main_equalized_odds_difference</th>\n",
       "      <th>fair_main_equalized_odds_ratio</th>\n",
       "      <th>fair_main_demographic_parity_difference</th>\n",
       "      <th>fair_main_demographic_parity_ratio</th>\n",
       "      <th>...</th>\n",
       "      <th>perf_grp_precision_0</th>\n",
       "      <th>perf_grp_precision_1</th>\n",
       "      <th>perf_grp_false positive rate_0</th>\n",
       "      <th>perf_grp_false positive rate_1</th>\n",
       "      <th>perf_grp_false negative rate_0</th>\n",
       "      <th>perf_grp_false negative rate_1</th>\n",
       "      <th>perf_grp_selection rate_0</th>\n",
       "      <th>perf_grp_selection rate_1</th>\n",
       "      <th>perf_grp_count_0</th>\n",
       "      <th>perf_grp_count_1</th>\n",
       "    </tr>\n",
       "  </thead>\n",
       "  <tbody>\n",
       "    <tr>\n",
       "      <th>0</th>\n",
       "      <td>6</td>\n",
       "      <td>0a2c19c1f4df54a19bbf9ad99d314fc9</td>\n",
       "      <td>{\"cutoff\": \"quantile_0.1\", \"eval_fairness_grou...</td>\n",
       "      <td>34.69836</td>\n",
       "      <td>89710</td>\n",
       "      <td>1.0</td>\n",
       "      <td>0.034744</td>\n",
       "      <td>0.964949</td>\n",
       "      <td>0.026601</td>\n",
       "      <td>0.971713</td>\n",
       "      <td>...</td>\n",
       "      <td>NaN</td>\n",
       "      <td>NaN</td>\n",
       "      <td>NaN</td>\n",
       "      <td>NaN</td>\n",
       "      <td>NaN</td>\n",
       "      <td>NaN</td>\n",
       "      <td>NaN</td>\n",
       "      <td>NaN</td>\n",
       "      <td>NaN</td>\n",
       "      <td>NaN</td>\n",
       "    </tr>\n",
       "    <tr>\n",
       "      <th>0</th>\n",
       "      <td>6</td>\n",
       "      <td>0a2c19c1f4df54a19bbf9ad99d314fc9</td>\n",
       "      <td>{\"cutoff\": \"quantile_0.1\", \"eval_fairness_grou...</td>\n",
       "      <td>34.69836</td>\n",
       "      <td>89710</td>\n",
       "      <td>1.0</td>\n",
       "      <td>0.034744</td>\n",
       "      <td>0.964949</td>\n",
       "      <td>0.026601</td>\n",
       "      <td>0.971713</td>\n",
       "      <td>...</td>\n",
       "      <td>0.120678</td>\n",
       "      <td>0.139286</td>\n",
       "      <td>0.908210</td>\n",
       "      <td>0.932634</td>\n",
       "      <td>0.043497</td>\n",
       "      <td>0.008753</td>\n",
       "      <td>0.913778</td>\n",
       "      <td>0.940379</td>\n",
       "      <td>20540.0</td>\n",
       "      <td>69170.0</td>\n",
       "    </tr>\n",
       "    <tr>\n",
       "      <th>0</th>\n",
       "      <td>6</td>\n",
       "      <td>0a2c19c1f4df54a19bbf9ad99d314fc9</td>\n",
       "      <td>{\"cutoff\": \"quantile_0.25\", \"eval_fairness_gro...</td>\n",
       "      <td>34.69836</td>\n",
       "      <td>89710</td>\n",
       "      <td>1.0</td>\n",
       "      <td>0.082893</td>\n",
       "      <td>0.913502</td>\n",
       "      <td>0.043441</td>\n",
       "      <td>0.945156</td>\n",
       "      <td>...</td>\n",
       "      <td>NaN</td>\n",
       "      <td>NaN</td>\n",
       "      <td>NaN</td>\n",
       "      <td>NaN</td>\n",
       "      <td>NaN</td>\n",
       "      <td>NaN</td>\n",
       "      <td>NaN</td>\n",
       "      <td>NaN</td>\n",
       "      <td>NaN</td>\n",
       "      <td>NaN</td>\n",
       "    </tr>\n",
       "    <tr>\n",
       "      <th>0</th>\n",
       "      <td>6</td>\n",
       "      <td>0a2c19c1f4df54a19bbf9ad99d314fc9</td>\n",
       "      <td>{\"cutoff\": \"quantile_0.25\", \"eval_fairness_gro...</td>\n",
       "      <td>34.69836</td>\n",
       "      <td>89710</td>\n",
       "      <td>1.0</td>\n",
       "      <td>0.082893</td>\n",
       "      <td>0.913502</td>\n",
       "      <td>0.043441</td>\n",
       "      <td>0.945156</td>\n",
       "      <td>...</td>\n",
       "      <td>0.134812</td>\n",
       "      <td>0.159871</td>\n",
       "      <td>0.732115</td>\n",
       "      <td>0.766767</td>\n",
       "      <td>0.124578</td>\n",
       "      <td>0.041685</td>\n",
       "      <td>0.748637</td>\n",
       "      <td>0.792077</td>\n",
       "      <td>20540.0</td>\n",
       "      <td>69170.0</td>\n",
       "    </tr>\n",
       "  </tbody>\n",
       "</table>\n",
       "<p>4 rows × 50 columns</p>\n",
       "</div>"
      ],
      "text/plain": [
       "  run_no                       universe_id  \\\n",
       "0      6  0a2c19c1f4df54a19bbf9ad99d314fc9   \n",
       "0      6  0a2c19c1f4df54a19bbf9ad99d314fc9   \n",
       "0      6  0a2c19c1f4df54a19bbf9ad99d314fc9   \n",
       "0      6  0a2c19c1f4df54a19bbf9ad99d314fc9   \n",
       "\n",
       "                                   universe_settings  execution_time  \\\n",
       "0  {\"cutoff\": \"quantile_0.1\", \"eval_fairness_grou...        34.69836   \n",
       "0  {\"cutoff\": \"quantile_0.1\", \"eval_fairness_grou...        34.69836   \n",
       "0  {\"cutoff\": \"quantile_0.25\", \"eval_fairness_gro...        34.69836   \n",
       "0  {\"cutoff\": \"quantile_0.25\", \"eval_fairness_gro...        34.69836   \n",
       "\n",
       "   test_size_n  test_size_frac  fair_main_equalized_odds_difference  \\\n",
       "0        89710             1.0                             0.034744   \n",
       "0        89710             1.0                             0.034744   \n",
       "0        89710             1.0                             0.082893   \n",
       "0        89710             1.0                             0.082893   \n",
       "\n",
       "   fair_main_equalized_odds_ratio  fair_main_demographic_parity_difference  \\\n",
       "0                        0.964949                                 0.026601   \n",
       "0                        0.964949                                 0.026601   \n",
       "0                        0.913502                                 0.043441   \n",
       "0                        0.913502                                 0.043441   \n",
       "\n",
       "   fair_main_demographic_parity_ratio  ...  perf_grp_precision_0  \\\n",
       "0                            0.971713  ...                   NaN   \n",
       "0                            0.971713  ...              0.120678   \n",
       "0                            0.945156  ...                   NaN   \n",
       "0                            0.945156  ...              0.134812   \n",
       "\n",
       "   perf_grp_precision_1  perf_grp_false positive rate_0  \\\n",
       "0                   NaN                             NaN   \n",
       "0              0.139286                        0.908210   \n",
       "0                   NaN                             NaN   \n",
       "0              0.159871                        0.732115   \n",
       "\n",
       "   perf_grp_false positive rate_1  perf_grp_false negative rate_0  \\\n",
       "0                             NaN                             NaN   \n",
       "0                        0.932634                        0.043497   \n",
       "0                             NaN                             NaN   \n",
       "0                        0.766767                        0.124578   \n",
       "\n",
       "   perf_grp_false negative rate_1  perf_grp_selection rate_0  \\\n",
       "0                             NaN                        NaN   \n",
       "0                        0.008753                   0.913778   \n",
       "0                             NaN                        NaN   \n",
       "0                        0.041685                   0.748637   \n",
       "\n",
       "   perf_grp_selection rate_1  perf_grp_count_0  perf_grp_count_1  \n",
       "0                        NaN               NaN               NaN  \n",
       "0                   0.940379           20540.0           69170.0  \n",
       "0                        NaN               NaN               NaN  \n",
       "0                   0.792077           20540.0           69170.0  \n",
       "\n",
       "[4 rows x 50 columns]"
      ]
     },
     "execution_count": 61,
     "metadata": {},
     "output_type": "execute_result"
    }
   ],
   "source": [
    "final_output = universe_analysis.generate_final_output(\n",
    "    y_pred_prob=probs_test,\n",
    "    y_test=y_true,\n",
    "    org_test=org_test,\n",
    "    filter_data=filter_sub_universe_data,\n",
    "    cp_metrics_df=cp_metrics_df,\n",
    "    save=True,\n",
    ")\n",
    "final_output"
   ]
  },
  {
   "cell_type": "code",
   "execution_count": null,
   "id": "721ff514-cb11-46f8-b6fc-50392f74b5cb",
   "metadata": {
    "papermill": {
     "duration": 0.024667,
     "end_time": "2025-07-23T12:54:46.469012",
     "exception": false,
     "start_time": "2025-07-23T12:54:46.444345",
     "status": "completed"
    },
    "tags": []
   },
   "outputs": [],
   "source": []
  }
 ],
 "metadata": {
  "celltoolbar": "Tags",
  "kernelspec": {
   "display_name": "Python (CMA Fairness)",
   "language": "python",
   "name": "cma_fair_env"
  },
  "language_info": {
   "codemirror_mode": {
    "name": "ipython",
    "version": 3
   },
   "file_extension": ".py",
   "mimetype": "text/x-python",
   "name": "python",
   "nbconvert_exporter": "python",
   "pygments_lexer": "ipython3",
   "version": "3.10.12"
  },
  "papermill": {
   "default_parameters": {},
   "duration": 51.649395,
   "end_time": "2025-07-23T12:54:47.316300",
   "environment_variables": {},
   "exception": null,
   "input_path": "universe_analysis.ipynb",
   "output_path": "output/runs/6/notebooks/m_6-0a2c19c1f4df54a19bbf9ad99d314fc9.ipynb",
   "parameters": {
    "output_dir": "output",
    "run_no": "6",
    "seed": "2023",
    "universe": "{\"cutoff\": [\"quantile_0.1\", \"quantile_0.25\"], \"eval_fairness_grouping\": [\"majority-minority\", \"nationality-all\"], \"exclude_features\": \"none\", \"exclude_subgroups\": \"drop-non-german\", \"model\": \"rf\", \"scale\": \"scale\"}",
    "universe_id": "0a2c19c1f4df54a19bbf9ad99d314fc9"
   },
   "start_time": "2025-07-23T12:53:55.666905",
   "version": "2.6.0"
  }
 },
 "nbformat": 4,
 "nbformat_minor": 5
}