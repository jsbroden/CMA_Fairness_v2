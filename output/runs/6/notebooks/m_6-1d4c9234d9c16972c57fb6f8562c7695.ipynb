{
 "cells": [
  {
   "cell_type": "code",
   "execution_count": 1,
   "id": "f159f837-637b-42ba-96b5-ec9a68c44524",
   "metadata": {
    "execution": {
     "iopub.execute_input": "2025-07-23T13:04:41.802441Z",
     "iopub.status.busy": "2025-07-23T13:04:41.801942Z",
     "iopub.status.idle": "2025-07-23T13:04:41.815724Z",
     "shell.execute_reply": "2025-07-23T13:04:41.814840Z"
    },
    "papermill": {
     "duration": 0.03319,
     "end_time": "2025-07-23T13:04:41.817537",
     "exception": false,
     "start_time": "2025-07-23T13:04:41.784347",
     "status": "completed"
    },
    "tags": []
   },
   "outputs": [
    {
     "name": "stdout",
     "output_type": "stream",
     "text": [
      "/dss/dsshome1/0C/ra93lal2/cma/CMA_Fairness_v2\n"
     ]
    },
    {
     "name": "stderr",
     "output_type": "stream",
     "text": [
      "/dss/dsshome1/0C/ra93lal2/.local/share/virtualenvs/CMA_Fairness_v2-3j10GkSs/lib/python3.10/site-packages/IPython/core/magics/osm.py:393: UserWarning: This is now an optional IPython functionality, using bookmarks requires you to install the `pickleshare` library.\n",
      "  bkms = self.shell.db.get('bookmarks', {})\n",
      "/dss/dsshome1/0C/ra93lal2/.local/share/virtualenvs/CMA_Fairness_v2-3j10GkSs/lib/python3.10/site-packages/IPython/core/magics/osm.py:417: UserWarning: This is now an optional IPython functionality, setting dhist requires you to install the `pickleshare` library.\n",
      "  self.shell.db['dhist'] = compress_dhist(dhist)[-100:]\n"
     ]
    }
   ],
   "source": [
    "%cd ~/cma/CMA_Fairness_v2"
   ]
  },
  {
   "cell_type": "markdown",
   "id": "de2603b9",
   "metadata": {
    "papermill": {
     "duration": 0.015806,
     "end_time": "2025-07-23T13:04:41.849745",
     "exception": false,
     "start_time": "2025-07-23T13:04:41.833939",
     "status": "completed"
    },
    "tags": []
   },
   "source": [
    "The following cell holds the definition of our parameters, these values can be overriden by rendering the with e.g. the following command:\n",
    "\n",
    "papermill -p alpha 0.2 -p ratio 0.3 universe_analysis.ipynb output/test_run.ipynb"
   ]
  },
  {
   "cell_type": "code",
   "execution_count": 2,
   "id": "a80968a0-40bb-4fa9-85ef-2d5eefb01975",
   "metadata": {
    "execution": {
     "iopub.execute_input": "2025-07-23T13:04:41.882943Z",
     "iopub.status.busy": "2025-07-23T13:04:41.882242Z",
     "iopub.status.idle": "2025-07-23T13:04:41.888357Z",
     "shell.execute_reply": "2025-07-23T13:04:41.887408Z"
    },
    "papermill": {
     "duration": 0.024645,
     "end_time": "2025-07-23T13:04:41.890047",
     "exception": false,
     "start_time": "2025-07-23T13:04:41.865402",
     "status": "completed"
    },
    "tags": []
   },
   "outputs": [
    {
     "name": "stdout",
     "output_type": "stream",
     "text": [
      "Current working directory: /dss/dsshome1/0C/ra93lal2/cma/CMA_Fairness_v2\n"
     ]
    }
   ],
   "source": [
    "import os\n",
    "print(\"Current working directory:\", os.getcwd())"
   ]
  },
  {
   "cell_type": "code",
   "execution_count": 3,
   "id": "2dce4c03",
   "metadata": {
    "execution": {
     "iopub.execute_input": "2025-07-23T13:04:41.924383Z",
     "iopub.status.busy": "2025-07-23T13:04:41.923711Z",
     "iopub.status.idle": "2025-07-23T13:04:41.930119Z",
     "shell.execute_reply": "2025-07-23T13:04:41.929065Z"
    },
    "papermill": {
     "duration": 0.025338,
     "end_time": "2025-07-23T13:04:41.931729",
     "exception": false,
     "start_time": "2025-07-23T13:04:41.906391",
     "status": "completed"
    },
    "tags": [
     "parameters"
    ]
   },
   "outputs": [],
   "source": [
    "run_no = 0\n",
    "universe_id = \"test\"\n",
    "universe = {\n",
    "    \"scale\": \"scale\", # \"scale\", \"do-not-scale\",\n",
    "    \"model\": \"elasticnet\", # \"logreg\", \"penalized_logreg\", \"rf\", \"gbm\", \"elasticnet\"\n",
    "    \"cutoff\": [\"quantile_0.15\", \"quantile_0.30\"],\n",
    "    \"exclude_features\": \"age\", # \"none\", \"nationality\", \"sex\", \"nationality-sex\", \"age\"\n",
    "    \"exclude_subgroups\": \"keep-all\", # \"keep-all\", \"drop-non-german\"\n",
    "    \"eval_fairness_grouping\": [\"majority-minority\", \"nationality-all\"]\n",
    "}\n",
    "\n",
    "output_dir=\"./output\"\n",
    "seed=0"
   ]
  },
  {
   "cell_type": "code",
   "execution_count": 4,
   "id": "cd17849c",
   "metadata": {
    "execution": {
     "iopub.execute_input": "2025-07-23T13:04:41.966445Z",
     "iopub.status.busy": "2025-07-23T13:04:41.965758Z",
     "iopub.status.idle": "2025-07-23T13:04:41.971602Z",
     "shell.execute_reply": "2025-07-23T13:04:41.970707Z"
    },
    "papermill": {
     "duration": 0.024977,
     "end_time": "2025-07-23T13:04:41.973344",
     "exception": false,
     "start_time": "2025-07-23T13:04:41.948367",
     "status": "completed"
    },
    "tags": [
     "injected-parameters"
    ]
   },
   "outputs": [],
   "source": [
    "# Parameters\n",
    "universe_id = \"1d4c9234d9c16972c57fb6f8562c7695\"\n",
    "run_no = \"6\"\n",
    "universe = \"{\\\"cutoff\\\": [\\\"quantile_0.1\\\", \\\"quantile_0.25\\\"], \\\"eval_fairness_grouping\\\": [\\\"majority-minority\\\", \\\"nationality-all\\\"], \\\"exclude_features\\\": \\\"nationality-sex\\\", \\\"exclude_subgroups\\\": \\\"drop-non-german\\\", \\\"model\\\": \\\"elasticnet\\\", \\\"scale\\\": \\\"do-not-scale\\\"}\"\n",
    "output_dir = \"output\"\n",
    "seed = \"2023\"\n"
   ]
  },
  {
   "cell_type": "code",
   "execution_count": 5,
   "id": "1650acaf",
   "metadata": {
    "execution": {
     "iopub.execute_input": "2025-07-23T13:04:42.007826Z",
     "iopub.status.busy": "2025-07-23T13:04:42.007143Z",
     "iopub.status.idle": "2025-07-23T13:04:42.012592Z",
     "shell.execute_reply": "2025-07-23T13:04:42.011530Z"
    },
    "papermill": {
     "duration": 0.024345,
     "end_time": "2025-07-23T13:04:42.014210",
     "exception": false,
     "start_time": "2025-07-23T13:04:41.989865",
     "status": "completed"
    },
    "tags": []
   },
   "outputs": [],
   "source": [
    "import json\n",
    "# Parse universe into dict if it is passed as a string\n",
    "if isinstance(universe, str):\n",
    "    universe = json.loads(universe)"
   ]
  },
  {
   "cell_type": "code",
   "execution_count": 6,
   "id": "16620c48",
   "metadata": {
    "execution": {
     "iopub.execute_input": "2025-07-23T13:04:42.049193Z",
     "iopub.status.busy": "2025-07-23T13:04:42.048252Z",
     "iopub.status.idle": "2025-07-23T13:04:42.095107Z",
     "shell.execute_reply": "2025-07-23T13:04:42.094203Z"
    },
    "papermill": {
     "duration": 0.066047,
     "end_time": "2025-07-23T13:04:42.097019",
     "exception": false,
     "start_time": "2025-07-23T13:04:42.030972",
     "status": "completed"
    },
    "tags": []
   },
   "outputs": [],
   "source": [
    "# Auto-reload the custom package\n",
    "%load_ext autoreload\n",
    "%autoreload 1\n",
    "%aimport fairness_multiverse"
   ]
  },
  {
   "cell_type": "code",
   "execution_count": 7,
   "id": "01c5c9f3",
   "metadata": {
    "execution": {
     "iopub.execute_input": "2025-07-23T13:04:42.131961Z",
     "iopub.status.busy": "2025-07-23T13:04:42.131283Z",
     "iopub.status.idle": "2025-07-23T13:04:44.193091Z",
     "shell.execute_reply": "2025-07-23T13:04:44.192074Z"
    },
    "papermill": {
     "duration": 2.081164,
     "end_time": "2025-07-23T13:04:44.195073",
     "exception": false,
     "start_time": "2025-07-23T13:04:42.113909",
     "status": "completed"
    },
    "tags": []
   },
   "outputs": [],
   "source": [
    "from fairness_multiverse.universe import UniverseAnalysis\n",
    "\n",
    "universe_analysis = UniverseAnalysis(\n",
    "    run_no = run_no,\n",
    "    universe_id = universe_id,\n",
    "    universe = universe,\n",
    "    output_dir=output_dir,\n",
    ")"
   ]
  },
  {
   "cell_type": "code",
   "execution_count": 8,
   "id": "106241f5",
   "metadata": {
    "execution": {
     "iopub.execute_input": "2025-07-23T13:04:44.230252Z",
     "iopub.status.busy": "2025-07-23T13:04:44.229737Z",
     "iopub.status.idle": "2025-07-23T13:04:44.236495Z",
     "shell.execute_reply": "2025-07-23T13:04:44.235518Z"
    },
    "papermill": {
     "duration": 0.026895,
     "end_time": "2025-07-23T13:04:44.239064",
     "exception": false,
     "start_time": "2025-07-23T13:04:44.212169",
     "status": "completed"
    },
    "tags": []
   },
   "outputs": [
    {
     "name": "stdout",
     "output_type": "stream",
     "text": [
      "Using Seed: 2023\n"
     ]
    }
   ],
   "source": [
    "import numpy as np\n",
    "parsed_seed = int(seed)\n",
    "np.random.seed(parsed_seed)\n",
    "print(f\"Using Seed: {parsed_seed}\")"
   ]
  },
  {
   "cell_type": "markdown",
   "id": "e0ebdc57",
   "metadata": {
    "papermill": {
     "duration": 0.016446,
     "end_time": "2025-07-23T13:04:44.272447",
     "exception": false,
     "start_time": "2025-07-23T13:04:44.256001",
     "status": "completed"
    },
    "tags": []
   },
   "source": [
    "# Loading Data"
   ]
  },
  {
   "cell_type": "markdown",
   "id": "681925a3",
   "metadata": {
    "papermill": {
     "duration": 0.016322,
     "end_time": "2025-07-23T13:04:44.305331",
     "exception": false,
     "start_time": "2025-07-23T13:04:44.289009",
     "status": "completed"
    },
    "tags": []
   },
   "source": [
    "Load siab_train, siab_test, siab_calib and/or \n",
    "load siab_train_features, siab_train_labels"
   ]
  },
  {
   "cell_type": "code",
   "execution_count": 9,
   "id": "f0496b8a",
   "metadata": {
    "execution": {
     "iopub.execute_input": "2025-07-23T13:04:44.340239Z",
     "iopub.status.busy": "2025-07-23T13:04:44.339508Z",
     "iopub.status.idle": "2025-07-23T13:04:44.345754Z",
     "shell.execute_reply": "2025-07-23T13:04:44.344810Z"
    },
    "papermill": {
     "duration": 0.025648,
     "end_time": "2025-07-23T13:04:44.347391",
     "exception": false,
     "start_time": "2025-07-23T13:04:44.321743",
     "status": "completed"
    },
    "tags": []
   },
   "outputs": [],
   "source": [
    "# Do I need to load siab? Delete this cell?\n",
    "\n",
    "#from pathlib import Path\n",
    "#import pandas as pd\n",
    "#\n",
    "## File paths\n",
    "#raw_file = Path(\"data/raw/siab.csv\")\n",
    "#cache_file = Path(\"data/siab_cached.csv.gz\")\n",
    "#\n",
    "## Ensure cache directory exists\n",
    "#cache_file.parent.mkdir(parents=True, exist_ok=True)\n",
    "#\n",
    "## Load with simple caching\n",
    "#if cache_file.exists():\n",
    "#    print(f\"Loading SIAB data from cache: {cache_file}\")\n",
    "#    siab = pd.read_csv(cache_file, compression='gzip')\n",
    "#else:\n",
    "#    print(f\"Cache not found. Reading raw SIAB data: {raw_file}\")\n",
    "#    siab = pd.read_csv(raw_file)\n",
    "#    siab.to_csv(cache_file, index=False, compression='gzip')\n",
    "#    print(f\"Cached SIAB data to: {cache_file}\")\n",
    "#\n",
    "## Now use `siab` DataFrame as needed\n",
    "#print(siab.shape)\n"
   ]
  },
  {
   "cell_type": "code",
   "execution_count": 10,
   "id": "a0edb063",
   "metadata": {
    "execution": {
     "iopub.execute_input": "2025-07-23T13:04:44.383072Z",
     "iopub.status.busy": "2025-07-23T13:04:44.382362Z",
     "iopub.status.idle": "2025-07-23T13:04:44.824047Z",
     "shell.execute_reply": "2025-07-23T13:04:44.823075Z"
    },
    "papermill": {
     "duration": 0.461305,
     "end_time": "2025-07-23T13:04:44.825978",
     "exception": false,
     "start_time": "2025-07-23T13:04:44.364673",
     "status": "completed"
    },
    "tags": []
   },
   "outputs": [],
   "source": [
    "import pandas as pd\n",
    "\n",
    "X_train = pd.read_csv(\"./data/X_train.csv\")\n",
    "y_train = pd.read_csv(\"./data/y_train.csv\")"
   ]
  },
  {
   "cell_type": "code",
   "execution_count": 11,
   "id": "63d08085",
   "metadata": {
    "execution": {
     "iopub.execute_input": "2025-07-23T13:04:44.861780Z",
     "iopub.status.busy": "2025-07-23T13:04:44.861078Z",
     "iopub.status.idle": "2025-07-23T13:04:46.310798Z",
     "shell.execute_reply": "2025-07-23T13:04:46.309864Z"
    },
    "papermill": {
     "duration": 1.469655,
     "end_time": "2025-07-23T13:04:46.312886",
     "exception": false,
     "start_time": "2025-07-23T13:04:44.843231",
     "status": "completed"
    },
    "tags": []
   },
   "outputs": [],
   "source": [
    "X_test = pd.read_csv(\"./data/X_test.csv\")\n",
    "y_true = pd.read_csv(\"./data/y_test.csv\")"
   ]
  },
  {
   "cell_type": "code",
   "execution_count": 12,
   "id": "98a8d0fa-1d3d-4ed8-bb2c-281470e24add",
   "metadata": {
    "execution": {
     "iopub.execute_input": "2025-07-23T13:04:46.348860Z",
     "iopub.status.busy": "2025-07-23T13:04:46.348141Z",
     "iopub.status.idle": "2025-07-23T13:04:47.738701Z",
     "shell.execute_reply": "2025-07-23T13:04:47.737648Z"
    },
    "papermill": {
     "duration": 1.410642,
     "end_time": "2025-07-23T13:04:47.740856",
     "exception": false,
     "start_time": "2025-07-23T13:04:46.330214",
     "status": "completed"
    },
    "tags": []
   },
   "outputs": [],
   "source": [
    "# Calibration data for conformal\n",
    "X_calib = pd.read_csv(\"./data/X_calib.csv\")\n",
    "y_calib = pd.read_csv(\"./data/y_calib.csv\")"
   ]
  },
  {
   "cell_type": "code",
   "execution_count": 13,
   "id": "e6c733c5",
   "metadata": {
    "execution": {
     "iopub.execute_input": "2025-07-23T13:04:47.779108Z",
     "iopub.status.busy": "2025-07-23T13:04:47.778603Z",
     "iopub.status.idle": "2025-07-23T13:04:47.855643Z",
     "shell.execute_reply": "2025-07-23T13:04:47.854668Z"
    },
    "papermill": {
     "duration": 0.097147,
     "end_time": "2025-07-23T13:04:47.857695",
     "exception": false,
     "start_time": "2025-07-23T13:04:47.760548",
     "status": "completed"
    },
    "tags": []
   },
   "outputs": [],
   "source": [
    "# Auxiliary data needed downstream in the pipeline\n",
    "\n",
    "org_train = X_train.copy()\n",
    "org_test = X_test.copy()\n",
    "org_calib = X_calib.copy()"
   ]
  },
  {
   "cell_type": "markdown",
   "id": "0a4a1b33",
   "metadata": {
    "papermill": {
     "duration": 0.016696,
     "end_time": "2025-07-23T13:04:47.892510",
     "exception": false,
     "start_time": "2025-07-23T13:04:47.875814",
     "status": "completed"
    },
    "tags": []
   },
   "source": [
    "# Preprocessing Data"
   ]
  },
  {
   "cell_type": "code",
   "execution_count": 14,
   "id": "ca879031",
   "metadata": {
    "execution": {
     "iopub.execute_input": "2025-07-23T13:04:47.928412Z",
     "iopub.status.busy": "2025-07-23T13:04:47.927413Z",
     "iopub.status.idle": "2025-07-23T13:04:47.933984Z",
     "shell.execute_reply": "2025-07-23T13:04:47.933120Z"
    },
    "papermill": {
     "duration": 0.026302,
     "end_time": "2025-07-23T13:04:47.935609",
     "exception": false,
     "start_time": "2025-07-23T13:04:47.909307",
     "status": "completed"
    },
    "tags": []
   },
   "outputs": [],
   "source": [
    "# EXCLUDE PROTECTED FEATURES\n",
    "# ----------------------\n",
    "# \"exclude_features\": \"none\", # \"nationality\", \"sex\", \"nationality-sex\"\n",
    "\n",
    "excluded_features = universe[\"exclude_features\"].split(\"-\") # split, e.g.: \"nationality-sex\" -> [\"nationality\", \"sex\"]\n",
    "excluded_features_dictionary = {\n",
    "    \"nationality\": [\"maxdeutsch1\", \"maxdeutsch.Missing.\"],\n",
    "    \"sex\": [\"frau1\"],\n",
    "    \"age\": [\"age\"],\n",
    "}\n"
   ]
  },
  {
   "cell_type": "code",
   "execution_count": 15,
   "id": "b745ac60",
   "metadata": {
    "execution": {
     "iopub.execute_input": "2025-07-23T13:04:47.971530Z",
     "iopub.status.busy": "2025-07-23T13:04:47.970646Z",
     "iopub.status.idle": "2025-07-23T13:04:47.976895Z",
     "shell.execute_reply": "2025-07-23T13:04:47.975797Z"
    },
    "papermill": {
     "duration": 0.025806,
     "end_time": "2025-07-23T13:04:47.978598",
     "exception": false,
     "start_time": "2025-07-23T13:04:47.952792",
     "status": "completed"
    },
    "tags": []
   },
   "outputs": [],
   "source": [
    "# Code nice names to column names\n",
    "\n",
    "excluded_features_columns = [\n",
    "    excluded_features_dictionary[f] for f in excluded_features if len(f) > 0 and f != \"none\"\n",
    "]"
   ]
  },
  {
   "cell_type": "code",
   "execution_count": 16,
   "id": "f84f73a2",
   "metadata": {
    "execution": {
     "iopub.execute_input": "2025-07-23T13:04:48.015020Z",
     "iopub.status.busy": "2025-07-23T13:04:48.014035Z",
     "iopub.status.idle": "2025-07-23T13:04:48.020724Z",
     "shell.execute_reply": "2025-07-23T13:04:48.019692Z"
    },
    "papermill": {
     "duration": 0.026414,
     "end_time": "2025-07-23T13:04:48.022400",
     "exception": false,
     "start_time": "2025-07-23T13:04:47.995986",
     "status": "completed"
    },
    "tags": []
   },
   "outputs": [],
   "source": [
    "from utils import flatten_once\n",
    "\n",
    "excluded_features_columns = flatten_once(excluded_features_columns)"
   ]
  },
  {
   "cell_type": "code",
   "execution_count": 17,
   "id": "884dea22",
   "metadata": {
    "execution": {
     "iopub.execute_input": "2025-07-23T13:04:48.059016Z",
     "iopub.status.busy": "2025-07-23T13:04:48.058067Z",
     "iopub.status.idle": "2025-07-23T13:04:48.080202Z",
     "shell.execute_reply": "2025-07-23T13:04:48.079158Z"
    },
    "papermill": {
     "duration": 0.042209,
     "end_time": "2025-07-23T13:04:48.082090",
     "exception": false,
     "start_time": "2025-07-23T13:04:48.039881",
     "status": "completed"
    },
    "tags": []
   },
   "outputs": [
    {
     "name": "stdout",
     "output_type": "stream",
     "text": [
      "Dropping features: ['maxdeutsch1', 'maxdeutsch.Missing.', 'frau1']\n"
     ]
    }
   ],
   "source": [
    "if len(excluded_features_columns) > 0:\n",
    "    print(f\"Dropping features: {excluded_features_columns}\")\n",
    "    X_train.drop(excluded_features_columns, axis=1, inplace=True)"
   ]
  },
  {
   "cell_type": "code",
   "execution_count": 18,
   "id": "95ab8b16",
   "metadata": {
    "execution": {
     "iopub.execute_input": "2025-07-23T13:04:48.118943Z",
     "iopub.status.busy": "2025-07-23T13:04:48.118233Z",
     "iopub.status.idle": "2025-07-23T13:04:48.176345Z",
     "shell.execute_reply": "2025-07-23T13:04:48.175334Z"
    },
    "papermill": {
     "duration": 0.077997,
     "end_time": "2025-07-23T13:04:48.178009",
     "exception": false,
     "start_time": "2025-07-23T13:04:48.100012",
     "status": "completed"
    },
    "tags": []
   },
   "outputs": [
    {
     "name": "stdout",
     "output_type": "stream",
     "text": [
      "Dropping features: ['maxdeutsch1', 'maxdeutsch.Missing.', 'frau1']\n"
     ]
    }
   ],
   "source": [
    "if len(excluded_features_columns) > 0:\n",
    "    print(f\"Dropping features: {excluded_features_columns}\")\n",
    "    X_test.drop(excluded_features_columns, axis=1, inplace=True)"
   ]
  },
  {
   "cell_type": "code",
   "execution_count": 19,
   "id": "1853aaf5-fb9f-46cb-a2b5-8ea4ae2237e4",
   "metadata": {
    "execution": {
     "iopub.execute_input": "2025-07-23T13:04:48.215286Z",
     "iopub.status.busy": "2025-07-23T13:04:48.214596Z",
     "iopub.status.idle": "2025-07-23T13:04:48.266432Z",
     "shell.execute_reply": "2025-07-23T13:04:48.265442Z"
    },
    "papermill": {
     "duration": 0.071882,
     "end_time": "2025-07-23T13:04:48.268039",
     "exception": false,
     "start_time": "2025-07-23T13:04:48.196157",
     "status": "completed"
    },
    "tags": []
   },
   "outputs": [
    {
     "name": "stdout",
     "output_type": "stream",
     "text": [
      "Dropping features: ['maxdeutsch1', 'maxdeutsch.Missing.', 'frau1']\n"
     ]
    }
   ],
   "source": [
    "if len(excluded_features_columns) > 0:\n",
    "    print(f\"Dropping features: {excluded_features_columns}\")\n",
    "    X_calib.drop(excluded_features_columns, axis=1, inplace=True)"
   ]
  },
  {
   "cell_type": "code",
   "execution_count": 20,
   "id": "76c4dc6d",
   "metadata": {
    "execution": {
     "iopub.execute_input": "2025-07-23T13:04:48.306335Z",
     "iopub.status.busy": "2025-07-23T13:04:48.305426Z",
     "iopub.status.idle": "2025-07-23T13:04:48.311164Z",
     "shell.execute_reply": "2025-07-23T13:04:48.310276Z"
    },
    "papermill": {
     "duration": 0.026088,
     "end_time": "2025-07-23T13:04:48.312825",
     "exception": false,
     "start_time": "2025-07-23T13:04:48.286737",
     "status": "completed"
    },
    "tags": []
   },
   "outputs": [],
   "source": [
    "# EXCLUDE CERTAIN SUBGROUPS\n",
    "# ----------------------\n",
    "\n",
    "mode = universe.get(\"exclude_subgroups\", \"keep-all\") \n",
    "# Fetches the exclude_subgroups setting from the universe dict.\n",
    "# Defaults to \"keep-all\" if the key is missing."
   ]
  },
  {
   "cell_type": "code",
   "execution_count": 21,
   "id": "21994072",
   "metadata": {
    "execution": {
     "iopub.execute_input": "2025-07-23T13:04:48.350294Z",
     "iopub.status.busy": "2025-07-23T13:04:48.349358Z",
     "iopub.status.idle": "2025-07-23T13:04:48.356581Z",
     "shell.execute_reply": "2025-07-23T13:04:48.355670Z"
    },
    "papermill": {
     "duration": 0.027543,
     "end_time": "2025-07-23T13:04:48.358234",
     "exception": false,
     "start_time": "2025-07-23T13:04:48.330691",
     "status": "completed"
    },
    "tags": []
   },
   "outputs": [],
   "source": [
    "if mode == \"keep-all\":\n",
    "    keep_mask = pd.Series(True, index=org_train.index)\n",
    "\n",
    "# org_train contains the original feature columns from features_org (in Simson)\n",
    "# features_org contains unprocessed features, for me X_train at beginning ???\n",
    "# For keep-all, creates a boolean Series (keep_mask) of all True, so no rows are removed.\n",
    "\n",
    "elif mode == \"drop-non-german\":\n",
    "    keep_mask = org_train[\"maxdeutsch1\"] == 1 # ??? what about missing values?\n",
    "\n",
    "else:\n",
    "    raise ValueError(f\"Unsupported mode for exclude_subgroups: {mode}\")\n"
   ]
  },
  {
   "cell_type": "code",
   "execution_count": 22,
   "id": "71651440",
   "metadata": {
    "execution": {
     "iopub.execute_input": "2025-07-23T13:04:48.395504Z",
     "iopub.status.busy": "2025-07-23T13:04:48.394647Z",
     "iopub.status.idle": "2025-07-23T13:04:48.402575Z",
     "shell.execute_reply": "2025-07-23T13:04:48.401590Z"
    },
    "papermill": {
     "duration": 0.028134,
     "end_time": "2025-07-23T13:04:48.404221",
     "exception": false,
     "start_time": "2025-07-23T13:04:48.376087",
     "status": "completed"
    },
    "tags": []
   },
   "outputs": [
    {
     "name": "stdout",
     "output_type": "stream",
     "text": [
      "Dropping 3312 rows (13.25%) where mode='drop-non-german'\n"
     ]
    }
   ],
   "source": [
    "n_drop = (~keep_mask).sum() # Calculates how many rows are set to be dropped\n",
    "if n_drop > 0:\n",
    "    pct = n_drop / len(keep_mask) * 100\n",
    "    print(f\"Dropping {n_drop} rows ({pct:.2f}%) where mode='{mode}'\")"
   ]
  },
  {
   "cell_type": "code",
   "execution_count": 23,
   "id": "5fb8eee5",
   "metadata": {
    "execution": {
     "iopub.execute_input": "2025-07-23T13:04:48.441952Z",
     "iopub.status.busy": "2025-07-23T13:04:48.441254Z",
     "iopub.status.idle": "2025-07-23T13:04:48.456375Z",
     "shell.execute_reply": "2025-07-23T13:04:48.455432Z"
    },
    "papermill": {
     "duration": 0.036,
     "end_time": "2025-07-23T13:04:48.458392",
     "exception": false,
     "start_time": "2025-07-23T13:04:48.422392",
     "status": "completed"
    },
    "tags": []
   },
   "outputs": [],
   "source": [
    "X_train = X_train[keep_mask]"
   ]
  },
  {
   "cell_type": "code",
   "execution_count": 24,
   "id": "b202bb3a",
   "metadata": {
    "execution": {
     "iopub.execute_input": "2025-07-23T13:04:48.496208Z",
     "iopub.status.busy": "2025-07-23T13:04:48.495511Z",
     "iopub.status.idle": "2025-07-23T13:04:48.502138Z",
     "shell.execute_reply": "2025-07-23T13:04:48.501299Z"
    },
    "papermill": {
     "duration": 0.027054,
     "end_time": "2025-07-23T13:04:48.503786",
     "exception": false,
     "start_time": "2025-07-23T13:04:48.476732",
     "status": "completed"
    },
    "tags": []
   },
   "outputs": [],
   "source": [
    "y_train = y_train[keep_mask]"
   ]
  },
  {
   "cell_type": "markdown",
   "id": "493e2ac3",
   "metadata": {
    "papermill": {
     "duration": 0.017801,
     "end_time": "2025-07-23T13:04:48.539810",
     "exception": false,
     "start_time": "2025-07-23T13:04:48.522009",
     "status": "completed"
    },
    "tags": []
   },
   "source": [
    "# Model Training"
   ]
  },
  {
   "cell_type": "code",
   "execution_count": 25,
   "id": "679e1268",
   "metadata": {
    "execution": {
     "iopub.execute_input": "2025-07-23T13:04:48.577259Z",
     "iopub.status.busy": "2025-07-23T13:04:48.576469Z",
     "iopub.status.idle": "2025-07-23T13:04:48.685174Z",
     "shell.execute_reply": "2025-07-23T13:04:48.684203Z"
    },
    "papermill": {
     "duration": 0.129639,
     "end_time": "2025-07-23T13:04:48.687219",
     "exception": false,
     "start_time": "2025-07-23T13:04:48.557580",
     "status": "completed"
    },
    "tags": []
   },
   "outputs": [],
   "source": [
    "from sklearn.linear_model import LogisticRegression\n",
    "from sklearn.ensemble import GradientBoostingClassifier, RandomForestClassifier\n",
    "\n",
    "if (universe[\"model\"] == \"logreg\"):\n",
    "    model = LogisticRegression() #penalty=\"none\") #, solver=\"newton-cg\", max_iter=1) # include random_state=19 ?\n",
    "elif (universe[\"model\"] == \"penalized_logreg\"):\n",
    "    model = LogisticRegression(penalty=\"l2\", C=1.0) #, solver=\"newton-cg\", max_iter=1)\n",
    "elif (universe[\"model\"] == \"rf\"):\n",
    "    model = RandomForestClassifier(n_estimators=100, n_jobs=-1)\n",
    "elif (universe[\"model\"] == \"gbm\"):\n",
    "    model = GradientBoostingClassifier()\n",
    "elif (universe[\"model\"] == \"elasticnet\"):\n",
    "    model = LogisticRegression(penalty = 'elasticnet', solver = 'saga', l1_ratio = 0.5, max_iter=5000) # which solver to use?\n",
    "else:\n",
    "    raise \"Unsupported universe.model\""
   ]
  },
  {
   "cell_type": "code",
   "execution_count": 26,
   "id": "0cc8f744",
   "metadata": {
    "execution": {
     "iopub.execute_input": "2025-07-23T13:04:48.727812Z",
     "iopub.status.busy": "2025-07-23T13:04:48.727097Z",
     "iopub.status.idle": "2025-07-23T13:04:48.733708Z",
     "shell.execute_reply": "2025-07-23T13:04:48.732774Z"
    },
    "papermill": {
     "duration": 0.027554,
     "end_time": "2025-07-23T13:04:48.735388",
     "exception": false,
     "start_time": "2025-07-23T13:04:48.707834",
     "status": "completed"
    },
    "tags": []
   },
   "outputs": [],
   "source": [
    "import numpy as np\n",
    "from sklearn.pipeline import Pipeline\n",
    "from sklearn.preprocessing import StandardScaler\n",
    "\n",
    "model = Pipeline([\n",
    "    #(\"continuous_processor\", continuous_processor),\n",
    "    #(\"categorical_preprocessor\", categorical_preprocessor),\n",
    "    (\"scale\", StandardScaler() if universe[\"scale\"] == \"scale\" else None), \n",
    "    (\"model\", model),\n",
    "])"
   ]
  },
  {
   "cell_type": "code",
   "execution_count": 27,
   "id": "9442c04d",
   "metadata": {
    "execution": {
     "iopub.execute_input": "2025-07-23T13:04:48.773555Z",
     "iopub.status.busy": "2025-07-23T13:04:48.772864Z",
     "iopub.status.idle": "2025-07-23T13:07:22.029496Z",
     "shell.execute_reply": "2025-07-23T13:07:22.028552Z"
    },
    "papermill": {
     "duration": 153.296788,
     "end_time": "2025-07-23T13:07:22.050639",
     "exception": false,
     "start_time": "2025-07-23T13:04:48.753851",
     "status": "completed"
    },
    "tags": []
   },
   "outputs": [
    {
     "data": {
      "text/html": [
       "<style>#sk-container-id-1 {color: black;background-color: white;}#sk-container-id-1 pre{padding: 0;}#sk-container-id-1 div.sk-toggleable {background-color: white;}#sk-container-id-1 label.sk-toggleable__label {cursor: pointer;display: block;width: 100%;margin-bottom: 0;padding: 0.3em;box-sizing: border-box;text-align: center;}#sk-container-id-1 label.sk-toggleable__label-arrow:before {content: \"▸\";float: left;margin-right: 0.25em;color: #696969;}#sk-container-id-1 label.sk-toggleable__label-arrow:hover:before {color: black;}#sk-container-id-1 div.sk-estimator:hover label.sk-toggleable__label-arrow:before {color: black;}#sk-container-id-1 div.sk-toggleable__content {max-height: 0;max-width: 0;overflow: hidden;text-align: left;background-color: #f0f8ff;}#sk-container-id-1 div.sk-toggleable__content pre {margin: 0.2em;color: black;border-radius: 0.25em;background-color: #f0f8ff;}#sk-container-id-1 input.sk-toggleable__control:checked~div.sk-toggleable__content {max-height: 200px;max-width: 100%;overflow: auto;}#sk-container-id-1 input.sk-toggleable__control:checked~label.sk-toggleable__label-arrow:before {content: \"▾\";}#sk-container-id-1 div.sk-estimator input.sk-toggleable__control:checked~label.sk-toggleable__label {background-color: #d4ebff;}#sk-container-id-1 div.sk-label input.sk-toggleable__control:checked~label.sk-toggleable__label {background-color: #d4ebff;}#sk-container-id-1 input.sk-hidden--visually {border: 0;clip: rect(1px 1px 1px 1px);clip: rect(1px, 1px, 1px, 1px);height: 1px;margin: -1px;overflow: hidden;padding: 0;position: absolute;width: 1px;}#sk-container-id-1 div.sk-estimator {font-family: monospace;background-color: #f0f8ff;border: 1px dotted black;border-radius: 0.25em;box-sizing: border-box;margin-bottom: 0.5em;}#sk-container-id-1 div.sk-estimator:hover {background-color: #d4ebff;}#sk-container-id-1 div.sk-parallel-item::after {content: \"\";width: 100%;border-bottom: 1px solid gray;flex-grow: 1;}#sk-container-id-1 div.sk-label:hover label.sk-toggleable__label {background-color: #d4ebff;}#sk-container-id-1 div.sk-serial::before {content: \"\";position: absolute;border-left: 1px solid gray;box-sizing: border-box;top: 0;bottom: 0;left: 50%;z-index: 0;}#sk-container-id-1 div.sk-serial {display: flex;flex-direction: column;align-items: center;background-color: white;padding-right: 0.2em;padding-left: 0.2em;position: relative;}#sk-container-id-1 div.sk-item {position: relative;z-index: 1;}#sk-container-id-1 div.sk-parallel {display: flex;align-items: stretch;justify-content: center;background-color: white;position: relative;}#sk-container-id-1 div.sk-item::before, #sk-container-id-1 div.sk-parallel-item::before {content: \"\";position: absolute;border-left: 1px solid gray;box-sizing: border-box;top: 0;bottom: 0;left: 50%;z-index: -1;}#sk-container-id-1 div.sk-parallel-item {display: flex;flex-direction: column;z-index: 1;position: relative;background-color: white;}#sk-container-id-1 div.sk-parallel-item:first-child::after {align-self: flex-end;width: 50%;}#sk-container-id-1 div.sk-parallel-item:last-child::after {align-self: flex-start;width: 50%;}#sk-container-id-1 div.sk-parallel-item:only-child::after {width: 0;}#sk-container-id-1 div.sk-dashed-wrapped {border: 1px dashed gray;margin: 0 0.4em 0.5em 0.4em;box-sizing: border-box;padding-bottom: 0.4em;background-color: white;}#sk-container-id-1 div.sk-label label {font-family: monospace;font-weight: bold;display: inline-block;line-height: 1.2em;}#sk-container-id-1 div.sk-label-container {text-align: center;}#sk-container-id-1 div.sk-container {/* jupyter's `normalize.less` sets `[hidden] { display: none; }` but bootstrap.min.css set `[hidden] { display: none !important; }` so we also need the `!important` here to be able to override the default hidden behavior on the sphinx rendered scikit-learn.org. See: https://github.com/scikit-learn/scikit-learn/issues/21755 */display: inline-block !important;position: relative;}#sk-container-id-1 div.sk-text-repr-fallback {display: none;}</style><div id=\"sk-container-id-1\" class=\"sk-top-container\"><div class=\"sk-text-repr-fallback\"><pre>Pipeline(steps=[(&#x27;scale&#x27;, None),\n",
       "                (&#x27;model&#x27;,\n",
       "                 LogisticRegression(l1_ratio=0.5, max_iter=5000,\n",
       "                                    penalty=&#x27;elasticnet&#x27;, solver=&#x27;saga&#x27;))])</pre><b>In a Jupyter environment, please rerun this cell to show the HTML representation or trust the notebook. <br />On GitHub, the HTML representation is unable to render, please try loading this page with nbviewer.org.</b></div><div class=\"sk-container\" hidden><div class=\"sk-item sk-dashed-wrapped\"><div class=\"sk-label-container\"><div class=\"sk-label sk-toggleable\"><input class=\"sk-toggleable__control sk-hidden--visually\" id=\"sk-estimator-id-1\" type=\"checkbox\" ><label for=\"sk-estimator-id-1\" class=\"sk-toggleable__label sk-toggleable__label-arrow\">Pipeline</label><div class=\"sk-toggleable__content\"><pre>Pipeline(steps=[(&#x27;scale&#x27;, None),\n",
       "                (&#x27;model&#x27;,\n",
       "                 LogisticRegression(l1_ratio=0.5, max_iter=5000,\n",
       "                                    penalty=&#x27;elasticnet&#x27;, solver=&#x27;saga&#x27;))])</pre></div></div></div><div class=\"sk-serial\"><div class=\"sk-item\"><div class=\"sk-estimator sk-toggleable\"><input class=\"sk-toggleable__control sk-hidden--visually\" id=\"sk-estimator-id-2\" type=\"checkbox\" ><label for=\"sk-estimator-id-2\" class=\"sk-toggleable__label sk-toggleable__label-arrow\">None</label><div class=\"sk-toggleable__content\"><pre>None</pre></div></div></div><div class=\"sk-item\"><div class=\"sk-estimator sk-toggleable\"><input class=\"sk-toggleable__control sk-hidden--visually\" id=\"sk-estimator-id-3\" type=\"checkbox\" ><label for=\"sk-estimator-id-3\" class=\"sk-toggleable__label sk-toggleable__label-arrow\">LogisticRegression</label><div class=\"sk-toggleable__content\"><pre>LogisticRegression(l1_ratio=0.5, max_iter=5000, penalty=&#x27;elasticnet&#x27;,\n",
       "                   solver=&#x27;saga&#x27;)</pre></div></div></div></div></div></div></div>"
      ],
      "text/plain": [
       "Pipeline(steps=[('scale', None),\n",
       "                ('model',\n",
       "                 LogisticRegression(l1_ratio=0.5, max_iter=5000,\n",
       "                                    penalty='elasticnet', solver='saga'))])"
      ]
     },
     "execution_count": 27,
     "metadata": {},
     "output_type": "execute_result"
    }
   ],
   "source": [
    "model.fit(X_train, y_train.values.ravel())"
   ]
  },
  {
   "cell_type": "code",
   "execution_count": 28,
   "id": "af59f8c0",
   "metadata": {
    "execution": {
     "iopub.execute_input": "2025-07-23T13:07:22.086684Z",
     "iopub.status.busy": "2025-07-23T13:07:22.086271Z",
     "iopub.status.idle": "2025-07-23T13:07:22.091231Z",
     "shell.execute_reply": "2025-07-23T13:07:22.090458Z"
    },
    "papermill": {
     "duration": 0.024896,
     "end_time": "2025-07-23T13:07:22.092804",
     "exception": false,
     "start_time": "2025-07-23T13:07:22.067908",
     "status": "completed"
    },
    "tags": []
   },
   "outputs": [],
   "source": [
    "from fairness_multiverse.universe import predict_w_threshold"
   ]
  },
  {
   "cell_type": "code",
   "execution_count": 29,
   "id": "a7cf2e16",
   "metadata": {
    "execution": {
     "iopub.execute_input": "2025-07-23T13:07:22.129042Z",
     "iopub.status.busy": "2025-07-23T13:07:22.128526Z",
     "iopub.status.idle": "2025-07-23T13:07:22.217406Z",
     "shell.execute_reply": "2025-07-23T13:07:22.216684Z"
    },
    "papermill": {
     "duration": 0.108407,
     "end_time": "2025-07-23T13:07:22.218920",
     "exception": false,
     "start_time": "2025-07-23T13:07:22.110513",
     "status": "completed"
    },
    "tags": []
   },
   "outputs": [
    {
     "data": {
      "text/plain": [
       "0.8483892542637387"
      ]
     },
     "execution_count": 29,
     "metadata": {},
     "output_type": "execute_result"
    }
   ],
   "source": [
    "probs_test = model.predict_proba(X_test)\n",
    "\n",
    "'''\n",
    "Below code returns a boolean array (or binary 0/1 array depending on how it’s used) where each element \n",
    "is True if the probability of class 1 is greater than or equal to the threshold, and False otherwise.\n",
    "'''\n",
    "y_pred_default = predict_w_threshold(probs_test, 0.5)\n",
    "\n",
    "from sklearn.metrics import accuracy_score\n",
    "\n",
    "# Naive prediction\n",
    "accuracy_score(y_true = y_true, y_pred = y_pred_default)"
   ]
  },
  {
   "cell_type": "code",
   "execution_count": 30,
   "id": "081964c3",
   "metadata": {
    "execution": {
     "iopub.execute_input": "2025-07-23T13:07:22.255645Z",
     "iopub.status.busy": "2025-07-23T13:07:22.255207Z",
     "iopub.status.idle": "2025-07-23T13:07:22.331980Z",
     "shell.execute_reply": "2025-07-23T13:07:22.331243Z"
    },
    "papermill": {
     "duration": 0.096313,
     "end_time": "2025-07-23T13:07:22.333502",
     "exception": false,
     "start_time": "2025-07-23T13:07:22.237189",
     "status": "completed"
    },
    "tags": []
   },
   "outputs": [
    {
     "data": {
      "text/plain": [
       "array([0, 0, 0, ..., 0, 0, 0])"
      ]
     },
     "execution_count": 30,
     "metadata": {},
     "output_type": "execute_result"
    }
   ],
   "source": [
    "model.predict(X_test)"
   ]
  },
  {
   "cell_type": "markdown",
   "id": "56c9705b",
   "metadata": {
    "papermill": {
     "duration": 0.017504,
     "end_time": "2025-07-23T13:07:22.369261",
     "exception": false,
     "start_time": "2025-07-23T13:07:22.351757",
     "status": "completed"
    },
    "tags": []
   },
   "source": [
    "# Conformal Prediction"
   ]
  },
  {
   "cell_type": "code",
   "execution_count": 31,
   "id": "160ec6ff",
   "metadata": {
    "execution": {
     "iopub.execute_input": "2025-07-23T13:07:22.405925Z",
     "iopub.status.busy": "2025-07-23T13:07:22.405353Z",
     "iopub.status.idle": "2025-07-23T13:07:22.409441Z",
     "shell.execute_reply": "2025-07-23T13:07:22.408633Z"
    },
    "papermill": {
     "duration": 0.0241,
     "end_time": "2025-07-23T13:07:22.410938",
     "exception": false,
     "start_time": "2025-07-23T13:07:22.386838",
     "status": "completed"
    },
    "tags": []
   },
   "outputs": [],
   "source": [
    "# Miscoverage level for conformal prediction (10% allowed error rate => 90% target coverage)\n",
    "alpha = 0.1"
   ]
  },
  {
   "cell_type": "code",
   "execution_count": 32,
   "id": "eadf4555-3dd3-440e-8e35-f82a4ad9f855",
   "metadata": {
    "execution": {
     "iopub.execute_input": "2025-07-23T13:07:22.447917Z",
     "iopub.status.busy": "2025-07-23T13:07:22.447302Z",
     "iopub.status.idle": "2025-07-23T13:07:22.522372Z",
     "shell.execute_reply": "2025-07-23T13:07:22.521576Z"
    },
    "papermill": {
     "duration": 0.095148,
     "end_time": "2025-07-23T13:07:22.524128",
     "exception": false,
     "start_time": "2025-07-23T13:07:22.428980",
     "status": "completed"
    },
    "tags": []
   },
   "outputs": [],
   "source": [
    "probs_calib = model.predict_proba(X_calib)"
   ]
  },
  {
   "cell_type": "code",
   "execution_count": 33,
   "id": "2ed93547-6d5d-4983-9b36-1ecb300da49a",
   "metadata": {
    "execution": {
     "iopub.execute_input": "2025-07-23T13:07:22.561282Z",
     "iopub.status.busy": "2025-07-23T13:07:22.560954Z",
     "iopub.status.idle": "2025-07-23T13:07:22.565289Z",
     "shell.execute_reply": "2025-07-23T13:07:22.564498Z"
    },
    "papermill": {
     "duration": 0.024101,
     "end_time": "2025-07-23T13:07:22.566747",
     "exception": false,
     "start_time": "2025-07-23T13:07:22.542646",
     "status": "completed"
    },
    "tags": []
   },
   "outputs": [],
   "source": [
    "y_calib = y_calib.values.ravel().astype(int)"
   ]
  },
  {
   "cell_type": "code",
   "execution_count": 34,
   "id": "65d1320d-f588-4b38-9072-62af1ae97f7d",
   "metadata": {
    "execution": {
     "iopub.execute_input": "2025-07-23T13:07:22.603748Z",
     "iopub.status.busy": "2025-07-23T13:07:22.603238Z",
     "iopub.status.idle": "2025-07-23T13:07:22.608688Z",
     "shell.execute_reply": "2025-07-23T13:07:22.607928Z"
    },
    "papermill": {
     "duration": 0.02537,
     "end_time": "2025-07-23T13:07:22.610165",
     "exception": false,
     "start_time": "2025-07-23T13:07:22.584795",
     "status": "completed"
    },
    "tags": []
   },
   "outputs": [],
   "source": [
    "from fairness_multiverse.conformal import compute_nc_scores\n",
    "\n",
    "# Compute nonconformity scores on calibration set (1 - probability of true class)\n",
    "nc_scores = compute_nc_scores(probs_calib, y_calib)"
   ]
  },
  {
   "cell_type": "code",
   "execution_count": 35,
   "id": "df3b8ca3-53b7-43d5-9667-7c85da7aeda2",
   "metadata": {
    "execution": {
     "iopub.execute_input": "2025-07-23T13:07:22.647348Z",
     "iopub.status.busy": "2025-07-23T13:07:22.646797Z",
     "iopub.status.idle": "2025-07-23T13:07:22.651797Z",
     "shell.execute_reply": "2025-07-23T13:07:22.651055Z"
    },
    "papermill": {
     "duration": 0.025079,
     "end_time": "2025-07-23T13:07:22.653342",
     "exception": false,
     "start_time": "2025-07-23T13:07:22.628263",
     "status": "completed"
    },
    "tags": []
   },
   "outputs": [],
   "source": [
    "from fairness_multiverse.conformal import find_threshold\n",
    "\n",
    "# Find conformal threshold q_hat for the given alpha (split conformal method)\n",
    "q_hat = find_threshold(nc_scores, alpha)"
   ]
  },
  {
   "cell_type": "code",
   "execution_count": 36,
   "id": "4d29e6c1-0ef6-4aa4-b8fe-4fe79b0d033a",
   "metadata": {
    "execution": {
     "iopub.execute_input": "2025-07-23T13:07:22.690894Z",
     "iopub.status.busy": "2025-07-23T13:07:22.690375Z",
     "iopub.status.idle": "2025-07-23T13:07:22.695695Z",
     "shell.execute_reply": "2025-07-23T13:07:22.695007Z"
    },
    "papermill": {
     "duration": 0.025496,
     "end_time": "2025-07-23T13:07:22.697162",
     "exception": false,
     "start_time": "2025-07-23T13:07:22.671666",
     "status": "completed"
    },
    "tags": []
   },
   "outputs": [
    {
     "data": {
      "text/plain": [
       "0.6897777917808091"
      ]
     },
     "execution_count": 36,
     "metadata": {},
     "output_type": "execute_result"
    }
   ],
   "source": [
    "q_hat"
   ]
  },
  {
   "cell_type": "code",
   "execution_count": 37,
   "id": "92460794-cdac-4be2-ba28-f28c0515a6fb",
   "metadata": {
    "execution": {
     "iopub.execute_input": "2025-07-23T13:07:22.734861Z",
     "iopub.status.busy": "2025-07-23T13:07:22.734339Z",
     "iopub.status.idle": "2025-07-23T13:07:23.275494Z",
     "shell.execute_reply": "2025-07-23T13:07:23.274695Z"
    },
    "papermill": {
     "duration": 0.56173,
     "end_time": "2025-07-23T13:07:23.277315",
     "exception": false,
     "start_time": "2025-07-23T13:07:22.715585",
     "status": "completed"
    },
    "tags": []
   },
   "outputs": [],
   "source": [
    "from fairness_multiverse.conformal import predict_conformal_sets\n",
    "\n",
    "# Generate prediction sets for each test example\n",
    "pred_sets = predict_conformal_sets(model, X_test, q_hat)"
   ]
  },
  {
   "cell_type": "code",
   "execution_count": 38,
   "id": "d90c9a65-e6db-4f5d-80cd-e68fb7e46829",
   "metadata": {
    "execution": {
     "iopub.execute_input": "2025-07-23T13:07:23.315344Z",
     "iopub.status.busy": "2025-07-23T13:07:23.315000Z",
     "iopub.status.idle": "2025-07-23T13:07:23.319521Z",
     "shell.execute_reply": "2025-07-23T13:07:23.318758Z"
    },
    "papermill": {
     "duration": 0.024778,
     "end_time": "2025-07-23T13:07:23.320986",
     "exception": false,
     "start_time": "2025-07-23T13:07:23.296208",
     "status": "completed"
    },
    "tags": []
   },
   "outputs": [],
   "source": [
    "y_true = y_true.squeeze()"
   ]
  },
  {
   "cell_type": "code",
   "execution_count": 39,
   "id": "3a58a54a-1e68-46b9-927a-df01f18aebc8",
   "metadata": {
    "execution": {
     "iopub.execute_input": "2025-07-23T13:07:23.358734Z",
     "iopub.status.busy": "2025-07-23T13:07:23.358218Z",
     "iopub.status.idle": "2025-07-23T13:07:23.905922Z",
     "shell.execute_reply": "2025-07-23T13:07:23.905127Z"
    },
    "papermill": {
     "duration": 0.568236,
     "end_time": "2025-07-23T13:07:23.907674",
     "exception": false,
     "start_time": "2025-07-23T13:07:23.339438",
     "status": "completed"
    },
    "tags": []
   },
   "outputs": [],
   "source": [
    "from fairness_multiverse.conformal import evaluate_sets\n",
    "\n",
    "# Evaluate coverage and average set size on test data\n",
    "metrics = evaluate_sets(pred_sets, y_true)"
   ]
  },
  {
   "cell_type": "code",
   "execution_count": 40,
   "id": "5ce0a5cb-201f-45a0-ade5-94c7f0bd6095",
   "metadata": {
    "execution": {
     "iopub.execute_input": "2025-07-23T13:07:23.946238Z",
     "iopub.status.busy": "2025-07-23T13:07:23.945695Z",
     "iopub.status.idle": "2025-07-23T13:07:23.951122Z",
     "shell.execute_reply": "2025-07-23T13:07:23.950410Z"
    },
    "papermill": {
     "duration": 0.02571,
     "end_time": "2025-07-23T13:07:23.952605",
     "exception": false,
     "start_time": "2025-07-23T13:07:23.926895",
     "status": "completed"
    },
    "tags": []
   },
   "outputs": [
    {
     "data": {
      "text/plain": [
       "{'coverage': 0.9062200423587115, 'avg_size': 1.1342659681194962}"
      ]
     },
     "execution_count": 40,
     "metadata": {},
     "output_type": "execute_result"
    }
   ],
   "source": [
    "metrics"
   ]
  },
  {
   "cell_type": "code",
   "execution_count": 41,
   "id": "9b9a838d-31c9-430b-ae14-12baee460d17",
   "metadata": {
    "execution": {
     "iopub.execute_input": "2025-07-23T13:07:23.991041Z",
     "iopub.status.busy": "2025-07-23T13:07:23.990622Z",
     "iopub.status.idle": "2025-07-23T13:07:23.995165Z",
     "shell.execute_reply": "2025-07-23T13:07:23.994431Z"
    },
    "papermill": {
     "duration": 0.025445,
     "end_time": "2025-07-23T13:07:23.996731",
     "exception": false,
     "start_time": "2025-07-23T13:07:23.971286",
     "status": "completed"
    },
    "tags": []
   },
   "outputs": [],
   "source": [
    "example_universe = universe.copy()\n",
    "universe_model = example_universe.get(\"model\")\n",
    "universe_exclude_features = example_universe.get(\"exclude_features\")\n",
    "universe_exclude_subgroups = example_universe.get(\"exclude_subgroups\")\n",
    "universe_scale = example_universe.get(\"scale\")"
   ]
  },
  {
   "cell_type": "code",
   "execution_count": 42,
   "id": "f4b6a8ac-9dc0-4245-8a91-5b3b5999c4f9",
   "metadata": {
    "execution": {
     "iopub.execute_input": "2025-07-23T13:07:24.035403Z",
     "iopub.status.busy": "2025-07-23T13:07:24.034780Z",
     "iopub.status.idle": "2025-07-23T13:07:24.039434Z",
     "shell.execute_reply": "2025-07-23T13:07:24.038691Z"
    },
    "papermill": {
     "duration": 0.025324,
     "end_time": "2025-07-23T13:07:24.040989",
     "exception": false,
     "start_time": "2025-07-23T13:07:24.015665",
     "status": "completed"
    },
    "tags": []
   },
   "outputs": [],
   "source": [
    "cp_metrics_dict = {\n",
    "    \"universe_id\": [universe_id],\n",
    "    \"universe_model\": [universe_model],\n",
    "    \"universe_exclude_features\": [universe_exclude_features],\n",
    "    \"universe_exclude_subgroups\": [universe_exclude_subgroups],\n",
    "    \"universe_scale\": [universe_scale],\n",
    "    \"q_hat\": [q_hat],\n",
    "    \"coverage\": [metrics[\"coverage\"]],\n",
    "    \"avg_size\": [metrics[\"avg_size\"]],\n",
    "}"
   ]
  },
  {
   "cell_type": "code",
   "execution_count": 43,
   "id": "908acbb1-0371-4915-85ca-3fa520d2efe2",
   "metadata": {
    "execution": {
     "iopub.execute_input": "2025-07-23T13:07:24.079750Z",
     "iopub.status.busy": "2025-07-23T13:07:24.079132Z",
     "iopub.status.idle": "2025-07-23T13:07:24.084736Z",
     "shell.execute_reply": "2025-07-23T13:07:24.083979Z"
    },
    "papermill": {
     "duration": 0.026266,
     "end_time": "2025-07-23T13:07:24.086190",
     "exception": false,
     "start_time": "2025-07-23T13:07:24.059924",
     "status": "completed"
    },
    "tags": []
   },
   "outputs": [
    {
     "data": {
      "text/plain": [
       "{'universe_id': ['1d4c9234d9c16972c57fb6f8562c7695'],\n",
       " 'universe_model': ['elasticnet'],\n",
       " 'universe_exclude_features': ['nationality-sex'],\n",
       " 'universe_exclude_subgroups': ['drop-non-german'],\n",
       " 'universe_scale': ['do-not-scale'],\n",
       " 'q_hat': [0.6897777917808091],\n",
       " 'coverage': [0.9062200423587115],\n",
       " 'avg_size': [1.1342659681194962]}"
      ]
     },
     "execution_count": 43,
     "metadata": {},
     "output_type": "execute_result"
    }
   ],
   "source": [
    "cp_metrics_dict"
   ]
  },
  {
   "cell_type": "code",
   "execution_count": 44,
   "id": "33007efc-14e9-4ec6-97ac-56a455c82265",
   "metadata": {
    "execution": {
     "iopub.execute_input": "2025-07-23T13:07:24.125156Z",
     "iopub.status.busy": "2025-07-23T13:07:24.124628Z",
     "iopub.status.idle": "2025-07-23T13:07:24.129376Z",
     "shell.execute_reply": "2025-07-23T13:07:24.128627Z"
    },
    "papermill": {
     "duration": 0.025579,
     "end_time": "2025-07-23T13:07:24.130825",
     "exception": false,
     "start_time": "2025-07-23T13:07:24.105246",
     "status": "completed"
    },
    "tags": []
   },
   "outputs": [],
   "source": [
    "cp_metrics_df = pd.DataFrame(cp_metrics_dict)"
   ]
  },
  {
   "cell_type": "code",
   "execution_count": 45,
   "id": "db12611b-57b2-4910-b9d0-355adfd6e7bf",
   "metadata": {
    "execution": {
     "iopub.execute_input": "2025-07-23T13:07:24.169917Z",
     "iopub.status.busy": "2025-07-23T13:07:24.169379Z",
     "iopub.status.idle": "2025-07-23T13:07:24.182148Z",
     "shell.execute_reply": "2025-07-23T13:07:24.181436Z"
    },
    "papermill": {
     "duration": 0.033669,
     "end_time": "2025-07-23T13:07:24.183611",
     "exception": false,
     "start_time": "2025-07-23T13:07:24.149942",
     "status": "completed"
    },
    "tags": []
   },
   "outputs": [
    {
     "data": {
      "text/html": [
       "<div>\n",
       "<style scoped>\n",
       "    .dataframe tbody tr th:only-of-type {\n",
       "        vertical-align: middle;\n",
       "    }\n",
       "\n",
       "    .dataframe tbody tr th {\n",
       "        vertical-align: top;\n",
       "    }\n",
       "\n",
       "    .dataframe thead th {\n",
       "        text-align: right;\n",
       "    }\n",
       "</style>\n",
       "<table border=\"1\" class=\"dataframe\">\n",
       "  <thead>\n",
       "    <tr style=\"text-align: right;\">\n",
       "      <th></th>\n",
       "      <th>universe_id</th>\n",
       "      <th>universe_model</th>\n",
       "      <th>universe_exclude_features</th>\n",
       "      <th>universe_exclude_subgroups</th>\n",
       "      <th>universe_scale</th>\n",
       "      <th>q_hat</th>\n",
       "      <th>coverage</th>\n",
       "      <th>avg_size</th>\n",
       "    </tr>\n",
       "  </thead>\n",
       "  <tbody>\n",
       "    <tr>\n",
       "      <th>0</th>\n",
       "      <td>1d4c9234d9c16972c57fb6f8562c7695</td>\n",
       "      <td>elasticnet</td>\n",
       "      <td>nationality-sex</td>\n",
       "      <td>drop-non-german</td>\n",
       "      <td>do-not-scale</td>\n",
       "      <td>0.689778</td>\n",
       "      <td>0.90622</td>\n",
       "      <td>1.134266</td>\n",
       "    </tr>\n",
       "  </tbody>\n",
       "</table>\n",
       "</div>"
      ],
      "text/plain": [
       "                        universe_id universe_model universe_exclude_features  \\\n",
       "0  1d4c9234d9c16972c57fb6f8562c7695     elasticnet           nationality-sex   \n",
       "\n",
       "  universe_exclude_subgroups universe_scale     q_hat  coverage  avg_size  \n",
       "0            drop-non-german   do-not-scale  0.689778   0.90622  1.134266  "
      ]
     },
     "execution_count": 45,
     "metadata": {},
     "output_type": "execute_result"
    }
   ],
   "source": [
    "cp_metrics_df"
   ]
  },
  {
   "cell_type": "code",
   "execution_count": 46,
   "id": "b7fbde55-a0a1-47e4-9af6-fe4a17fa8c61",
   "metadata": {
    "execution": {
     "iopub.execute_input": "2025-07-23T13:07:24.223357Z",
     "iopub.status.busy": "2025-07-23T13:07:24.222814Z",
     "iopub.status.idle": "2025-07-23T13:07:24.226786Z",
     "shell.execute_reply": "2025-07-23T13:07:24.226102Z"
    },
    "papermill": {
     "duration": 0.025343,
     "end_time": "2025-07-23T13:07:24.228231",
     "exception": false,
     "start_time": "2025-07-23T13:07:24.202888",
     "status": "completed"
    },
    "tags": []
   },
   "outputs": [],
   "source": [
    "# Conditional Coverage & looking at subgroups"
   ]
  },
  {
   "cell_type": "code",
   "execution_count": 47,
   "id": "027ae886-68dd-4141-96c7-805a5450e1ef",
   "metadata": {
    "execution": {
     "iopub.execute_input": "2025-07-23T13:07:24.268353Z",
     "iopub.status.busy": "2025-07-23T13:07:24.268020Z",
     "iopub.status.idle": "2025-07-23T13:07:24.445177Z",
     "shell.execute_reply": "2025-07-23T13:07:24.444369Z"
    },
    "papermill": {
     "duration": 0.199003,
     "end_time": "2025-07-23T13:07:24.446934",
     "exception": false,
     "start_time": "2025-07-23T13:07:24.247931",
     "status": "completed"
    },
    "tags": []
   },
   "outputs": [],
   "source": [
    "from fairness_multiverse.conformal import build_cp_groups\n",
    "\n",
    "cp_groups_df = build_cp_groups(pred_sets, y_true, X_test.index, org_test)\n",
    "#needs universe_id and setting"
   ]
  },
  {
   "cell_type": "code",
   "execution_count": 48,
   "id": "c3b92545-903e-4839-89af-0f057907d7d6",
   "metadata": {
    "execution": {
     "iopub.execute_input": "2025-07-23T13:07:24.486927Z",
     "iopub.status.busy": "2025-07-23T13:07:24.486589Z",
     "iopub.status.idle": "2025-07-23T13:07:25.428682Z",
     "shell.execute_reply": "2025-07-23T13:07:25.427872Z"
    },
    "papermill": {
     "duration": 0.963608,
     "end_time": "2025-07-23T13:07:25.430478",
     "exception": false,
     "start_time": "2025-07-23T13:07:24.466870",
     "status": "completed"
    },
    "tags": []
   },
   "outputs": [],
   "source": [
    "# Define covered = 1 if true_label is in the predicted set\n",
    "cp_groups_df['covered'] = cp_groups_df.apply(\n",
    "    lambda r: int(r['true_label'] in r['pred_set']),\n",
    "    axis=1\n",
    ")"
   ]
  },
  {
   "cell_type": "code",
   "execution_count": 49,
   "id": "338ff529-1a6b-4b87-a931-8e4788d52aad",
   "metadata": {
    "execution": {
     "iopub.execute_input": "2025-07-23T13:07:25.472982Z",
     "iopub.status.busy": "2025-07-23T13:07:25.472401Z",
     "iopub.status.idle": "2025-07-23T13:07:25.476439Z",
     "shell.execute_reply": "2025-07-23T13:07:25.475657Z"
    },
    "papermill": {
     "duration": 0.025379,
     "end_time": "2025-07-23T13:07:25.478014",
     "exception": false,
     "start_time": "2025-07-23T13:07:25.452635",
     "status": "completed"
    },
    "tags": []
   },
   "outputs": [],
   "source": [
    "#cp_groups_df"
   ]
  },
  {
   "cell_type": "code",
   "execution_count": 50,
   "id": "90032e27-66df-4540-9169-4e89cfbaa758",
   "metadata": {
    "execution": {
     "iopub.execute_input": "2025-07-23T13:07:25.518445Z",
     "iopub.status.busy": "2025-07-23T13:07:25.517809Z",
     "iopub.status.idle": "2025-07-23T13:07:25.526574Z",
     "shell.execute_reply": "2025-07-23T13:07:25.525858Z"
    },
    "papermill": {
     "duration": 0.030323,
     "end_time": "2025-07-23T13:07:25.528013",
     "exception": false,
     "start_time": "2025-07-23T13:07:25.497690",
     "status": "completed"
    },
    "tags": []
   },
   "outputs": [],
   "source": [
    "subgroups = ['frau1','nongerman','nongerman_male','nongerman_female']\n",
    "\n",
    "# Conditional coverage for subgroup==1\n",
    "cond_coverage = {\n",
    "    g: cp_groups_df.loc[cp_groups_df[g]==1, 'covered'].mean()\n",
    "    for g in subgroups\n",
    "}"
   ]
  },
  {
   "cell_type": "code",
   "execution_count": 51,
   "id": "1e348fb1-b9c3-45bc-ba23-f016827a7e0d",
   "metadata": {
    "execution": {
     "iopub.execute_input": "2025-07-23T13:07:25.568451Z",
     "iopub.status.busy": "2025-07-23T13:07:25.568102Z",
     "iopub.status.idle": "2025-07-23T13:07:25.573707Z",
     "shell.execute_reply": "2025-07-23T13:07:25.572926Z"
    },
    "papermill": {
     "duration": 0.027097,
     "end_time": "2025-07-23T13:07:25.574931",
     "exception": false,
     "start_time": "2025-07-23T13:07:25.547834",
     "status": "completed"
    },
    "tags": []
   },
   "outputs": [
    {
     "data": {
      "text/plain": [
       "{'frau1': 0.9052163364334816,\n",
       " 'nongerman': 0.9073148823892663,\n",
       " 'nongerman_male': 0.922183193731424,\n",
       " 'nongerman_female': 0.8827123695976155}"
      ]
     },
     "execution_count": 51,
     "metadata": {},
     "output_type": "execute_result"
    }
   ],
   "source": [
    "cond_coverage"
   ]
  },
  {
   "cell_type": "code",
   "execution_count": 52,
   "id": "f5093324-c3dd-4d63-bc4c-8d945e5c8bbb",
   "metadata": {
    "execution": {
     "iopub.execute_input": "2025-07-23T13:07:25.599499Z",
     "iopub.status.busy": "2025-07-23T13:07:25.599201Z",
     "iopub.status.idle": "2025-07-23T13:07:25.605279Z",
     "shell.execute_reply": "2025-07-23T13:07:25.604596Z"
    },
    "papermill": {
     "duration": 0.019333,
     "end_time": "2025-07-23T13:07:25.606488",
     "exception": false,
     "start_time": "2025-07-23T13:07:25.587155",
     "status": "completed"
    },
    "tags": []
   },
   "outputs": [],
   "source": [
    "for subgroup, cov in cond_coverage.items():\n",
    "    cp_metrics_df[f\"cov_{subgroup}\"] = cov"
   ]
  },
  {
   "cell_type": "code",
   "execution_count": 53,
   "id": "6e872e10-dbe5-49e8-b554-5030c98ff75d",
   "metadata": {
    "execution": {
     "iopub.execute_input": "2025-07-23T13:07:25.630735Z",
     "iopub.status.busy": "2025-07-23T13:07:25.630168Z",
     "iopub.status.idle": "2025-07-23T13:07:25.643144Z",
     "shell.execute_reply": "2025-07-23T13:07:25.642436Z"
    },
    "papermill": {
     "duration": 0.02609,
     "end_time": "2025-07-23T13:07:25.644291",
     "exception": false,
     "start_time": "2025-07-23T13:07:25.618201",
     "status": "completed"
    },
    "tags": []
   },
   "outputs": [
    {
     "data": {
      "text/html": [
       "<div>\n",
       "<style scoped>\n",
       "    .dataframe tbody tr th:only-of-type {\n",
       "        vertical-align: middle;\n",
       "    }\n",
       "\n",
       "    .dataframe tbody tr th {\n",
       "        vertical-align: top;\n",
       "    }\n",
       "\n",
       "    .dataframe thead th {\n",
       "        text-align: right;\n",
       "    }\n",
       "</style>\n",
       "<table border=\"1\" class=\"dataframe\">\n",
       "  <thead>\n",
       "    <tr style=\"text-align: right;\">\n",
       "      <th></th>\n",
       "      <th>universe_id</th>\n",
       "      <th>universe_model</th>\n",
       "      <th>universe_exclude_features</th>\n",
       "      <th>universe_exclude_subgroups</th>\n",
       "      <th>universe_scale</th>\n",
       "      <th>q_hat</th>\n",
       "      <th>coverage</th>\n",
       "      <th>avg_size</th>\n",
       "      <th>cov_frau1</th>\n",
       "      <th>cov_nongerman</th>\n",
       "      <th>cov_nongerman_male</th>\n",
       "      <th>cov_nongerman_female</th>\n",
       "    </tr>\n",
       "  </thead>\n",
       "  <tbody>\n",
       "    <tr>\n",
       "      <th>0</th>\n",
       "      <td>1d4c9234d9c16972c57fb6f8562c7695</td>\n",
       "      <td>elasticnet</td>\n",
       "      <td>nationality-sex</td>\n",
       "      <td>drop-non-german</td>\n",
       "      <td>do-not-scale</td>\n",
       "      <td>0.689778</td>\n",
       "      <td>0.90622</td>\n",
       "      <td>1.134266</td>\n",
       "      <td>0.905216</td>\n",
       "      <td>0.907315</td>\n",
       "      <td>0.922183</td>\n",
       "      <td>0.882712</td>\n",
       "    </tr>\n",
       "  </tbody>\n",
       "</table>\n",
       "</div>"
      ],
      "text/plain": [
       "                        universe_id universe_model universe_exclude_features  \\\n",
       "0  1d4c9234d9c16972c57fb6f8562c7695     elasticnet           nationality-sex   \n",
       "\n",
       "  universe_exclude_subgroups universe_scale     q_hat  coverage  avg_size  \\\n",
       "0            drop-non-german   do-not-scale  0.689778   0.90622  1.134266   \n",
       "\n",
       "   cov_frau1  cov_nongerman  cov_nongerman_male  cov_nongerman_female  \n",
       "0   0.905216       0.907315            0.922183              0.882712  "
      ]
     },
     "execution_count": 53,
     "metadata": {},
     "output_type": "execute_result"
    }
   ],
   "source": [
    "cp_metrics_df"
   ]
  },
  {
   "cell_type": "markdown",
   "id": "33774451",
   "metadata": {
    "papermill": {
     "duration": 0.011764,
     "end_time": "2025-07-23T13:07:25.667950",
     "exception": false,
     "start_time": "2025-07-23T13:07:25.656186",
     "status": "completed"
    },
    "tags": []
   },
   "source": [
    "# (Fairness) Metrics"
   ]
  },
  {
   "cell_type": "code",
   "execution_count": 54,
   "id": "debc5d62",
   "metadata": {
    "execution": {
     "iopub.execute_input": "2025-07-23T13:07:25.692163Z",
     "iopub.status.busy": "2025-07-23T13:07:25.691814Z",
     "iopub.status.idle": "2025-07-23T13:07:25.706171Z",
     "shell.execute_reply": "2025-07-23T13:07:25.705475Z"
    },
    "papermill": {
     "duration": 0.02784,
     "end_time": "2025-07-23T13:07:25.707398",
     "exception": false,
     "start_time": "2025-07-23T13:07:25.679558",
     "status": "completed"
    },
    "tags": []
   },
   "outputs": [],
   "source": [
    "# do I need to include maxdeutsch1.missing?\n",
    "\n",
    "import numpy as np\n",
    "\n",
    "colname_to_bin = \"maxdeutsch1\"\n",
    "majority_value = org_train[colname_to_bin].mode()[0]\n",
    "\n",
    "org_test[\"majmin\"] = np.where(org_test[colname_to_bin] == majority_value, \"majority\", \"minority\")"
   ]
  },
  {
   "cell_type": "code",
   "execution_count": 55,
   "id": "06a50de5",
   "metadata": {
    "execution": {
     "iopub.execute_input": "2025-07-23T13:07:25.732143Z",
     "iopub.status.busy": "2025-07-23T13:07:25.731811Z",
     "iopub.status.idle": "2025-07-23T13:07:27.284535Z",
     "shell.execute_reply": "2025-07-23T13:07:27.283764Z"
    },
    "papermill": {
     "duration": 1.5665,
     "end_time": "2025-07-23T13:07:27.286001",
     "exception": false,
     "start_time": "2025-07-23T13:07:25.719501",
     "status": "completed"
    },
    "tags": []
   },
   "outputs": [],
   "source": [
    "example_universe = universe.copy()\n",
    "example_universe[\"cutoff\"] = example_universe[\"cutoff\"][0]\n",
    "example_universe[\"eval_fairness_grouping\"] = example_universe[\"eval_fairness_grouping\"][0]\n",
    "fairness_dict, metric_frame = universe_analysis.compute_metrics(\n",
    "    example_universe,\n",
    "    y_pred_prob=probs_test,\n",
    "    y_test=y_true,\n",
    "    org_test=org_test,\n",
    ")"
   ]
  },
  {
   "cell_type": "markdown",
   "id": "f95d4e02",
   "metadata": {
    "papermill": {
     "duration": 0.011752,
     "end_time": "2025-07-23T13:07:27.310207",
     "exception": false,
     "start_time": "2025-07-23T13:07:27.298455",
     "status": "completed"
    },
    "tags": []
   },
   "source": [
    "# Overall"
   ]
  },
  {
   "cell_type": "markdown",
   "id": "bdee4871",
   "metadata": {
    "papermill": {
     "duration": 0.011723,
     "end_time": "2025-07-23T13:07:27.333494",
     "exception": false,
     "start_time": "2025-07-23T13:07:27.321771",
     "status": "completed"
    },
    "tags": []
   },
   "source": [
    "Fairness\n",
    "Main fairness target: Equalized Odds. Seems to be a better fit than equal opportunity, since we're not only interested in Y = 1. Seems to be a better fit than demographic parity, since we also care about accuracy, not just equal distribution of preds.\n",
    "\n",
    "Pick column for computation of fairness metrics\n",
    "\n",
    "Performance\n",
    "Overall performance measures, most interesting in relation to the measures split by group below"
   ]
  },
  {
   "cell_type": "code",
   "execution_count": 56,
   "id": "c4e067c6",
   "metadata": {
    "execution": {
     "iopub.execute_input": "2025-07-23T13:07:27.358260Z",
     "iopub.status.busy": "2025-07-23T13:07:27.357642Z",
     "iopub.status.idle": "2025-07-23T13:07:27.364832Z",
     "shell.execute_reply": "2025-07-23T13:07:27.364040Z"
    },
    "papermill": {
     "duration": 0.020989,
     "end_time": "2025-07-23T13:07:27.366057",
     "exception": false,
     "start_time": "2025-07-23T13:07:27.345068",
     "status": "completed"
    },
    "tags": []
   },
   "outputs": [
    {
     "data": {
      "text/plain": [
       "accuracy                   0.220901\n",
       "balanced accuracy          0.540860\n",
       "f1                         0.242328\n",
       "precision                  0.138434\n",
       "false positive rate        0.889517\n",
       "false negative rate        0.028763\n",
       "selection rate             0.900000\n",
       "count                  89710.000000\n",
       "dtype: float64"
      ]
     },
     "execution_count": 56,
     "metadata": {},
     "output_type": "execute_result"
    }
   ],
   "source": [
    "metric_frame.overall"
   ]
  },
  {
   "cell_type": "markdown",
   "id": "e968fe9d",
   "metadata": {
    "papermill": {
     "duration": 0.011716,
     "end_time": "2025-07-23T13:07:27.390313",
     "exception": false,
     "start_time": "2025-07-23T13:07:27.378597",
     "status": "completed"
    },
    "tags": []
   },
   "source": [
    "By Group"
   ]
  },
  {
   "cell_type": "code",
   "execution_count": 57,
   "id": "ec325bce",
   "metadata": {
    "execution": {
     "iopub.execute_input": "2025-07-23T13:07:27.415083Z",
     "iopub.status.busy": "2025-07-23T13:07:27.414501Z",
     "iopub.status.idle": "2025-07-23T13:07:27.427471Z",
     "shell.execute_reply": "2025-07-23T13:07:27.426774Z"
    },
    "papermill": {
     "duration": 0.026686,
     "end_time": "2025-07-23T13:07:27.428651",
     "exception": false,
     "start_time": "2025-07-23T13:07:27.401965",
     "status": "completed"
    },
    "tags": []
   },
   "outputs": [
    {
     "data": {
      "text/html": [
       "<div>\n",
       "<style scoped>\n",
       "    .dataframe tbody tr th:only-of-type {\n",
       "        vertical-align: middle;\n",
       "    }\n",
       "\n",
       "    .dataframe tbody tr th {\n",
       "        vertical-align: top;\n",
       "    }\n",
       "\n",
       "    .dataframe thead th {\n",
       "        text-align: right;\n",
       "    }\n",
       "</style>\n",
       "<table border=\"1\" class=\"dataframe\">\n",
       "  <thead>\n",
       "    <tr style=\"text-align: right;\">\n",
       "      <th></th>\n",
       "      <th>accuracy</th>\n",
       "      <th>balanced accuracy</th>\n",
       "      <th>f1</th>\n",
       "      <th>precision</th>\n",
       "      <th>false positive rate</th>\n",
       "      <th>false negative rate</th>\n",
       "      <th>selection rate</th>\n",
       "      <th>count</th>\n",
       "    </tr>\n",
       "    <tr>\n",
       "      <th>majmin</th>\n",
       "      <th></th>\n",
       "      <th></th>\n",
       "      <th></th>\n",
       "      <th></th>\n",
       "      <th></th>\n",
       "      <th></th>\n",
       "      <th></th>\n",
       "      <th></th>\n",
       "    </tr>\n",
       "  </thead>\n",
       "  <tbody>\n",
       "    <tr>\n",
       "      <th>majority</th>\n",
       "      <td>0.242649</td>\n",
       "      <td>0.549802</td>\n",
       "      <td>0.252355</td>\n",
       "      <td>0.145106</td>\n",
       "      <td>0.867683</td>\n",
       "      <td>0.032713</td>\n",
       "      <td>0.880844</td>\n",
       "      <td>69170.0</td>\n",
       "    </tr>\n",
       "    <tr>\n",
       "      <th>minority</th>\n",
       "      <td>0.147663</td>\n",
       "      <td>0.512421</td>\n",
       "      <td>0.210650</td>\n",
       "      <td>0.117914</td>\n",
       "      <td>0.961644</td>\n",
       "      <td>0.013514</td>\n",
       "      <td>0.964508</td>\n",
       "      <td>20540.0</td>\n",
       "    </tr>\n",
       "  </tbody>\n",
       "</table>\n",
       "</div>"
      ],
      "text/plain": [
       "          accuracy  balanced accuracy        f1  precision  \\\n",
       "majmin                                                       \n",
       "majority  0.242649           0.549802  0.252355   0.145106   \n",
       "minority  0.147663           0.512421  0.210650   0.117914   \n",
       "\n",
       "          false positive rate  false negative rate  selection rate    count  \n",
       "majmin                                                                       \n",
       "majority             0.867683             0.032713        0.880844  69170.0  \n",
       "minority             0.961644             0.013514        0.964508  20540.0  "
      ]
     },
     "execution_count": 57,
     "metadata": {},
     "output_type": "execute_result"
    }
   ],
   "source": [
    "metric_frame.by_group"
   ]
  },
  {
   "cell_type": "code",
   "execution_count": 58,
   "id": "a9ddbe63",
   "metadata": {
    "execution": {
     "iopub.execute_input": "2025-07-23T13:07:27.454335Z",
     "iopub.status.busy": "2025-07-23T13:07:27.453790Z",
     "iopub.status.idle": "2025-07-23T13:07:29.125623Z",
     "shell.execute_reply": "2025-07-23T13:07:29.124746Z"
    },
    "papermill": {
     "duration": 1.685832,
     "end_time": "2025-07-23T13:07:29.126894",
     "exception": false,
     "start_time": "2025-07-23T13:07:27.441062",
     "status": "completed"
    },
    "tags": []
   },
   "outputs": [
    {
     "data": {
      "text/plain": [
       "array([[<Axes: title={'center': 'accuracy'}, xlabel='majmin'>,\n",
       "        <Axes: title={'center': 'balanced accuracy'}, xlabel='majmin'>,\n",
       "        <Axes: title={'center': 'f1'}, xlabel='majmin'>],\n",
       "       [<Axes: title={'center': 'precision'}, xlabel='majmin'>,\n",
       "        <Axes: title={'center': 'false positive rate'}, xlabel='majmin'>,\n",
       "        <Axes: title={'center': 'false negative rate'}, xlabel='majmin'>],\n",
       "       [<Axes: title={'center': 'selection rate'}, xlabel='majmin'>,\n",
       "        <Axes: title={'center': 'count'}, xlabel='majmin'>,\n",
       "        <Axes: xlabel='majmin'>]], dtype=object)"
      ]
     },
     "execution_count": 58,
     "metadata": {},
     "output_type": "execute_result"
    },
    {
     "data": {
      "image/png": "[encoded data removed]",
      "text/plain": [
       "<Figure size 1200x800 with 9 Axes>"
      ]
     },
     "metadata": {},
     "output_type": "display_data"
    }
   ],
   "source": [
    "# In a graphic\n",
    "metric_frame.by_group.plot.bar(\n",
    "    subplots=True,\n",
    "    layout=[3, 3],\n",
    "    legend=False,\n",
    "    figsize=[12, 8],\n",
    "    title=\"Show all metrics\",\n",
    ")"
   ]
  },
  {
   "cell_type": "markdown",
   "id": "f57a0bac",
   "metadata": {
    "papermill": {
     "duration": 0.012888,
     "end_time": "2025-07-23T13:07:29.153711",
     "exception": false,
     "start_time": "2025-07-23T13:07:29.140823",
     "status": "completed"
    },
    "tags": []
   },
   "source": [
    "# Final Output"
   ]
  },
  {
   "cell_type": "code",
   "execution_count": 59,
   "id": "96d280a3",
   "metadata": {
    "execution": {
     "iopub.execute_input": "2025-07-23T13:07:29.181457Z",
     "iopub.status.busy": "2025-07-23T13:07:29.180950Z",
     "iopub.status.idle": "2025-07-23T13:07:29.187544Z",
     "shell.execute_reply": "2025-07-23T13:07:29.186828Z"
    },
    "papermill": {
     "duration": 0.021885,
     "end_time": "2025-07-23T13:07:29.188688",
     "exception": false,
     "start_time": "2025-07-23T13:07:29.166803",
     "status": "completed"
    },
    "tags": []
   },
   "outputs": [
    {
     "data": {
      "text/plain": [
       "4"
      ]
     },
     "execution_count": 59,
     "metadata": {},
     "output_type": "execute_result"
    }
   ],
   "source": [
    "sub_universes = universe_analysis.generate_sub_universes()\n",
    "len(sub_universes)"
   ]
  },
  {
   "cell_type": "code",
   "execution_count": 60,
   "id": "92adf7ba",
   "metadata": {
    "execution": {
     "iopub.execute_input": "2025-07-23T13:07:29.216928Z",
     "iopub.status.busy": "2025-07-23T13:07:29.216319Z",
     "iopub.status.idle": "2025-07-23T13:07:29.221127Z",
     "shell.execute_reply": "2025-07-23T13:07:29.220407Z"
    },
    "papermill": {
     "duration": 0.019946,
     "end_time": "2025-07-23T13:07:29.222331",
     "exception": false,
     "start_time": "2025-07-23T13:07:29.202385",
     "status": "completed"
    },
    "tags": []
   },
   "outputs": [],
   "source": [
    "def filter_sub_universe_data(sub_universe, org_test):\n",
    "    # Keep all rows — no filtering\n",
    "    keep_rows_mask = np.ones(org_test.shape[0], dtype=bool)\n",
    "\n",
    "    print(f\"[INFO] Keeping all rows: {keep_rows_mask.sum()} rows retained.\")\n",
    "    return keep_rows_mask"
   ]
  },
  {
   "cell_type": "code",
   "execution_count": 61,
   "id": "4a759155",
   "metadata": {
    "execution": {
     "iopub.execute_input": "2025-07-23T13:07:29.250661Z",
     "iopub.status.busy": "2025-07-23T13:07:29.250118Z",
     "iopub.status.idle": "2025-07-23T13:07:35.339955Z",
     "shell.execute_reply": "2025-07-23T13:07:35.339233Z"
    },
    "papermill": {
     "duration": 6.105409,
     "end_time": "2025-07-23T13:07:35.341250",
     "exception": false,
     "start_time": "2025-07-23T13:07:29.235841",
     "status": "completed"
    },
    "tags": []
   },
   "outputs": [
    {
     "name": "stdout",
     "output_type": "stream",
     "text": [
      "Stopping execution_time clock.\n",
      "[INFO] Keeping all rows: 89710 rows retained.\n"
     ]
    },
    {
     "name": "stdout",
     "output_type": "stream",
     "text": [
      "[INFO] Keeping all rows: 89710 rows retained.\n"
     ]
    },
    {
     "name": "stdout",
     "output_type": "stream",
     "text": [
      "[INFO] Keeping all rows: 89710 rows retained.\n"
     ]
    },
    {
     "name": "stdout",
     "output_type": "stream",
     "text": [
      "[INFO] Keeping all rows: 89710 rows retained.\n"
     ]
    },
    {
     "data": {
      "text/html": [
       "<div>\n",
       "<style scoped>\n",
       "    .dataframe tbody tr th:only-of-type {\n",
       "        vertical-align: middle;\n",
       "    }\n",
       "\n",
       "    .dataframe tbody tr th {\n",
       "        vertical-align: top;\n",
       "    }\n",
       "\n",
       "    .dataframe thead th {\n",
       "        text-align: right;\n",
       "    }\n",
       "</style>\n",
       "<table border=\"1\" class=\"dataframe\">\n",
       "  <thead>\n",
       "    <tr style=\"text-align: right;\">\n",
       "      <th></th>\n",
       "      <th>run_no</th>\n",
       "      <th>universe_id</th>\n",
       "      <th>universe_settings</th>\n",
       "      <th>execution_time</th>\n",
       "      <th>test_size_n</th>\n",
       "      <th>test_size_frac</th>\n",
       "      <th>fair_main_equalized_odds_difference</th>\n",
       "      <th>fair_main_equalized_odds_ratio</th>\n",
       "      <th>fair_main_demographic_parity_difference</th>\n",
       "      <th>fair_main_demographic_parity_ratio</th>\n",
       "      <th>...</th>\n",
       "      <th>perf_grp_precision_0</th>\n",
       "      <th>perf_grp_precision_1</th>\n",
       "      <th>perf_grp_false positive rate_0</th>\n",
       "      <th>perf_grp_false positive rate_1</th>\n",
       "      <th>perf_grp_false negative rate_0</th>\n",
       "      <th>perf_grp_false negative rate_1</th>\n",
       "      <th>perf_grp_selection rate_0</th>\n",
       "      <th>perf_grp_selection rate_1</th>\n",
       "      <th>perf_grp_count_0</th>\n",
       "      <th>perf_grp_count_1</th>\n",
       "    </tr>\n",
       "  </thead>\n",
       "  <tbody>\n",
       "    <tr>\n",
       "      <th>0</th>\n",
       "      <td>6</td>\n",
       "      <td>1d4c9234d9c16972c57fb6f8562c7695</td>\n",
       "      <td>{\"cutoff\": \"quantile_0.1\", \"eval_fairness_grou...</td>\n",
       "      <td>165.120521</td>\n",
       "      <td>89710</td>\n",
       "      <td>1.0</td>\n",
       "      <td>0.093961</td>\n",
       "      <td>0.902291</td>\n",
       "      <td>0.083664</td>\n",
       "      <td>0.913257</td>\n",
       "      <td>...</td>\n",
       "      <td>NaN</td>\n",
       "      <td>NaN</td>\n",
       "      <td>NaN</td>\n",
       "      <td>NaN</td>\n",
       "      <td>NaN</td>\n",
       "      <td>NaN</td>\n",
       "      <td>NaN</td>\n",
       "      <td>NaN</td>\n",
       "      <td>NaN</td>\n",
       "      <td>NaN</td>\n",
       "    </tr>\n",
       "    <tr>\n",
       "      <th>0</th>\n",
       "      <td>6</td>\n",
       "      <td>1d4c9234d9c16972c57fb6f8562c7695</td>\n",
       "      <td>{\"cutoff\": \"quantile_0.1\", \"eval_fairness_grou...</td>\n",
       "      <td>165.120521</td>\n",
       "      <td>89710</td>\n",
       "      <td>1.0</td>\n",
       "      <td>0.093961</td>\n",
       "      <td>0.902291</td>\n",
       "      <td>0.083664</td>\n",
       "      <td>0.913257</td>\n",
       "      <td>...</td>\n",
       "      <td>0.117914</td>\n",
       "      <td>0.145106</td>\n",
       "      <td>0.961644</td>\n",
       "      <td>0.867683</td>\n",
       "      <td>0.013514</td>\n",
       "      <td>0.032713</td>\n",
       "      <td>0.964508</td>\n",
       "      <td>0.880844</td>\n",
       "      <td>20540.0</td>\n",
       "      <td>69170.0</td>\n",
       "    </tr>\n",
       "    <tr>\n",
       "      <th>0</th>\n",
       "      <td>6</td>\n",
       "      <td>1d4c9234d9c16972c57fb6f8562c7695</td>\n",
       "      <td>{\"cutoff\": \"quantile_0.25\", \"eval_fairness_gro...</td>\n",
       "      <td>165.120521</td>\n",
       "      <td>89710</td>\n",
       "      <td>1.0</td>\n",
       "      <td>0.207809</td>\n",
       "      <td>0.765519</td>\n",
       "      <td>0.185015</td>\n",
       "      <td>0.792735</td>\n",
       "      <td>...</td>\n",
       "      <td>NaN</td>\n",
       "      <td>NaN</td>\n",
       "      <td>NaN</td>\n",
       "      <td>NaN</td>\n",
       "      <td>NaN</td>\n",
       "      <td>NaN</td>\n",
       "      <td>NaN</td>\n",
       "      <td>NaN</td>\n",
       "      <td>NaN</td>\n",
       "      <td>NaN</td>\n",
       "    </tr>\n",
       "    <tr>\n",
       "      <th>0</th>\n",
       "      <td>6</td>\n",
       "      <td>1d4c9234d9c16972c57fb6f8562c7695</td>\n",
       "      <td>{\"cutoff\": \"quantile_0.25\", \"eval_fairness_gro...</td>\n",
       "      <td>165.120521</td>\n",
       "      <td>89710</td>\n",
       "      <td>1.0</td>\n",
       "      <td>0.207809</td>\n",
       "      <td>0.765519</td>\n",
       "      <td>0.185015</td>\n",
       "      <td>0.792735</td>\n",
       "      <td>...</td>\n",
       "      <td>0.121625</td>\n",
       "      <td>0.167937</td>\n",
       "      <td>0.886254</td>\n",
       "      <td>0.678444</td>\n",
       "      <td>0.058277</td>\n",
       "      <td>0.100656</td>\n",
       "      <td>0.892648</td>\n",
       "      <td>0.707633</td>\n",
       "      <td>20540.0</td>\n",
       "      <td>69170.0</td>\n",
       "    </tr>\n",
       "  </tbody>\n",
       "</table>\n",
       "<p>4 rows × 50 columns</p>\n",
       "</div>"
      ],
      "text/plain": [
       "  run_no                       universe_id  \\\n",
       "0      6  1d4c9234d9c16972c57fb6f8562c7695   \n",
       "0      6  1d4c9234d9c16972c57fb6f8562c7695   \n",
       "0      6  1d4c9234d9c16972c57fb6f8562c7695   \n",
       "0      6  1d4c9234d9c16972c57fb6f8562c7695   \n",
       "\n",
       "                                   universe_settings  execution_time  \\\n",
       "0  {\"cutoff\": \"quantile_0.1\", \"eval_fairness_grou...      165.120521   \n",
       "0  {\"cutoff\": \"quantile_0.1\", \"eval_fairness_grou...      165.120521   \n",
       "0  {\"cutoff\": \"quantile_0.25\", \"eval_fairness_gro...      165.120521   \n",
       "0  {\"cutoff\": \"quantile_0.25\", \"eval_fairness_gro...      165.120521   \n",
       "\n",
       "   test_size_n  test_size_frac  fair_main_equalized_odds_difference  \\\n",
       "0        89710             1.0                             0.093961   \n",
       "0        89710             1.0                             0.093961   \n",
       "0        89710             1.0                             0.207809   \n",
       "0        89710             1.0                             0.207809   \n",
       "\n",
       "   fair_main_equalized_odds_ratio  fair_main_demographic_parity_difference  \\\n",
       "0                        0.902291                                 0.083664   \n",
       "0                        0.902291                                 0.083664   \n",
       "0                        0.765519                                 0.185015   \n",
       "0                        0.765519                                 0.185015   \n",
       "\n",
       "   fair_main_demographic_parity_ratio  ...  perf_grp_precision_0  \\\n",
       "0                            0.913257  ...                   NaN   \n",
       "0                            0.913257  ...              0.117914   \n",
       "0                            0.792735  ...                   NaN   \n",
       "0                            0.792735  ...              0.121625   \n",
       "\n",
       "   perf_grp_precision_1  perf_grp_false positive rate_0  \\\n",
       "0                   NaN                             NaN   \n",
       "0              0.145106                        0.961644   \n",
       "0                   NaN                             NaN   \n",
       "0              0.167937                        0.886254   \n",
       "\n",
       "   perf_grp_false positive rate_1  perf_grp_false negative rate_0  \\\n",
       "0                             NaN                             NaN   \n",
       "0                        0.867683                        0.013514   \n",
       "0                             NaN                             NaN   \n",
       "0                        0.678444                        0.058277   \n",
       "\n",
       "   perf_grp_false negative rate_1  perf_grp_selection rate_0  \\\n",
       "0                             NaN                        NaN   \n",
       "0                        0.032713                   0.964508   \n",
       "0                             NaN                        NaN   \n",
       "0                        0.100656                   0.892648   \n",
       "\n",
       "   perf_grp_selection rate_1  perf_grp_count_0  perf_grp_count_1  \n",
       "0                        NaN               NaN               NaN  \n",
       "0                   0.880844           20540.0           69170.0  \n",
       "0                        NaN               NaN               NaN  \n",
       "0                   0.707633           20540.0           69170.0  \n",
       "\n",
       "[4 rows x 50 columns]"
      ]
     },
     "execution_count": 61,
     "metadata": {},
     "output_type": "execute_result"
    }
   ],
   "source": [
    "final_output = universe_analysis.generate_final_output(\n",
    "    y_pred_prob=probs_test,\n",
    "    y_test=y_true,\n",
    "    org_test=org_test,\n",
    "    filter_data=filter_sub_universe_data,\n",
    "    cp_metrics_df=cp_metrics_df,\n",
    "    save=True,\n",
    ")\n",
    "final_output"
   ]
  },
  {
   "cell_type": "code",
   "execution_count": null,
   "id": "721ff514-cb11-46f8-b6fc-50392f74b5cb",
   "metadata": {
    "papermill": {
     "duration": 0.013937,
     "end_time": "2025-07-23T13:07:35.371672",
     "exception": false,
     "start_time": "2025-07-23T13:07:35.357735",
     "status": "completed"
    },
    "tags": []
   },
   "outputs": [],
   "source": []
  }
 ],
 "metadata": {
  "celltoolbar": "Tags",
  "kernelspec": {
   "display_name": "Python (CMA Fairness)",
   "language": "python",
   "name": "cma_fair_env"
  },
  "language_info": {
   "codemirror_mode": {
    "name": "ipython",
    "version": 3
   },
   "file_extension": ".py",
   "mimetype": "text/x-python",
   "name": "python",
   "nbconvert_exporter": "python",
   "pygments_lexer": "ipython3",
   "version": "3.10.12"
  },
  "papermill": {
   "default_parameters": {},
   "duration": 175.019224,
   "end_time": "2025-07-23T13:07:35.902349",
   "environment_variables": {},
   "exception": null,
   "input_path": "universe_analysis.ipynb",
   "output_path": "output/runs/6/notebooks/m_6-1d4c9234d9c16972c57fb6f8562c7695.ipynb",
   "parameters": {
    "output_dir": "output",
    "run_no": "6",
    "seed": "2023",
    "universe": "{\"cutoff\": [\"quantile_0.1\", \"quantile_0.25\"], \"eval_fairness_grouping\": [\"majority-minority\", \"nationality-all\"], \"exclude_features\": \"nationality-sex\", \"exclude_subgroups\": \"drop-non-german\", \"model\": \"elasticnet\", \"scale\": \"do-not-scale\"}",
    "universe_id": "1d4c9234d9c16972c57fb6f8562c7695"
   },
   "start_time": "2025-07-23T13:04:40.883125",
   "version": "2.6.0"
  }
 },
 "nbformat": 4,
 "nbformat_minor": 5
}