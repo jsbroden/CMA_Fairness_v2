{
 "cells": [
  {
   "cell_type": "code",
   "execution_count": 1,
   "id": "f159f837-637b-42ba-96b5-ec9a68c44524",
   "metadata": {
    "execution": {
     "iopub.execute_input": "2025-07-23T12:56:00.026318Z",
     "iopub.status.busy": "2025-07-23T12:56:00.025896Z",
     "iopub.status.idle": "2025-07-23T12:56:00.040303Z",
     "shell.execute_reply": "2025-07-23T12:56:00.039300Z"
    },
    "papermill": {
     "duration": 0.038163,
     "end_time": "2025-07-23T12:56:00.043321",
     "exception": false,
     "start_time": "2025-07-23T12:56:00.005158",
     "status": "completed"
    },
    "tags": []
   },
   "outputs": [
    {
     "name": "stdout",
     "output_type": "stream",
     "text": [
      "/dss/dsshome1/0C/ra93lal2/cma/CMA_Fairness_v2\n"
     ]
    },
    {
     "name": "stderr",
     "output_type": "stream",
     "text": [
      "/dss/dsshome1/0C/ra93lal2/.local/share/virtualenvs/CMA_Fairness_v2-3j10GkSs/lib/python3.10/site-packages/IPython/core/magics/osm.py:393: UserWarning: This is now an optional IPython functionality, using bookmarks requires you to install the `pickleshare` library.\n",
      "  bkms = self.shell.db.get('bookmarks', {})\n",
      "/dss/dsshome1/0C/ra93lal2/.local/share/virtualenvs/CMA_Fairness_v2-3j10GkSs/lib/python3.10/site-packages/IPython/core/magics/osm.py:417: UserWarning: This is now an optional IPython functionality, setting dhist requires you to install the `pickleshare` library.\n",
      "  self.shell.db['dhist'] = compress_dhist(dhist)[-100:]\n"
     ]
    }
   ],
   "source": [
    "%cd ~/cma/CMA_Fairness_v2"
   ]
  },
  {
   "cell_type": "markdown",
   "id": "de2603b9",
   "metadata": {
    "papermill": {
     "duration": 0.017478,
     "end_time": "2025-07-23T12:56:00.078420",
     "exception": false,
     "start_time": "2025-07-23T12:56:00.060942",
     "status": "completed"
    },
    "tags": []
   },
   "source": [
    "The following cell holds the definition of our parameters, these values can be overriden by rendering the with e.g. the following command:\n",
    "\n",
    "papermill -p alpha 0.2 -p ratio 0.3 universe_analysis.ipynb output/test_run.ipynb"
   ]
  },
  {
   "cell_type": "code",
   "execution_count": 2,
   "id": "a80968a0-40bb-4fa9-85ef-2d5eefb01975",
   "metadata": {
    "execution": {
     "iopub.execute_input": "2025-07-23T12:56:00.113599Z",
     "iopub.status.busy": "2025-07-23T12:56:00.113091Z",
     "iopub.status.idle": "2025-07-23T12:56:00.119179Z",
     "shell.execute_reply": "2025-07-23T12:56:00.118067Z"
    },
    "papermill": {
     "duration": 0.025876,
     "end_time": "2025-07-23T12:56:00.121047",
     "exception": false,
     "start_time": "2025-07-23T12:56:00.095171",
     "status": "completed"
    },
    "tags": []
   },
   "outputs": [
    {
     "name": "stdout",
     "output_type": "stream",
     "text": [
      "Current working directory: /dss/dsshome1/0C/ra93lal2/cma/CMA_Fairness_v2\n"
     ]
    }
   ],
   "source": [
    "import os\n",
    "print(\"Current working directory:\", os.getcwd())"
   ]
  },
  {
   "cell_type": "code",
   "execution_count": 3,
   "id": "2dce4c03",
   "metadata": {
    "execution": {
     "iopub.execute_input": "2025-07-23T12:56:00.157501Z",
     "iopub.status.busy": "2025-07-23T12:56:00.156917Z",
     "iopub.status.idle": "2025-07-23T12:56:00.163437Z",
     "shell.execute_reply": "2025-07-23T12:56:00.162351Z"
    },
    "papermill": {
     "duration": 0.026826,
     "end_time": "2025-07-23T12:56:00.165543",
     "exception": false,
     "start_time": "2025-07-23T12:56:00.138717",
     "status": "completed"
    },
    "tags": [
     "parameters"
    ]
   },
   "outputs": [],
   "source": [
    "run_no = 0\n",
    "universe_id = \"test\"\n",
    "universe = {\n",
    "    \"scale\": \"scale\", # \"scale\", \"do-not-scale\",\n",
    "    \"model\": \"elasticnet\", # \"logreg\", \"penalized_logreg\", \"rf\", \"gbm\", \"elasticnet\"\n",
    "    \"cutoff\": [\"quantile_0.15\", \"quantile_0.30\"],\n",
    "    \"exclude_features\": \"age\", # \"none\", \"nationality\", \"sex\", \"nationality-sex\", \"age\"\n",
    "    \"exclude_subgroups\": \"keep-all\", # \"keep-all\", \"drop-non-german\"\n",
    "    \"eval_fairness_grouping\": [\"majority-minority\", \"nationality-all\"]\n",
    "}\n",
    "\n",
    "output_dir=\"./output\"\n",
    "seed=0"
   ]
  },
  {
   "cell_type": "code",
   "execution_count": 4,
   "id": "9ce45bba",
   "metadata": {
    "execution": {
     "iopub.execute_input": "2025-07-23T12:56:00.201682Z",
     "iopub.status.busy": "2025-07-23T12:56:00.201286Z",
     "iopub.status.idle": "2025-07-23T12:56:00.206629Z",
     "shell.execute_reply": "2025-07-23T12:56:00.205533Z"
    },
    "papermill": {
     "duration": 0.02546,
     "end_time": "2025-07-23T12:56:00.208555",
     "exception": false,
     "start_time": "2025-07-23T12:56:00.183095",
     "status": "completed"
    },
    "tags": [
     "injected-parameters"
    ]
   },
   "outputs": [],
   "source": [
    "# Parameters\n",
    "universe_id = \"2233abf9c774317f7713a5c1bb407f66\"\n",
    "run_no = \"6\"\n",
    "universe = \"{\\\"cutoff\\\": [\\\"quantile_0.1\\\", \\\"quantile_0.25\\\"], \\\"eval_fairness_grouping\\\": [\\\"majority-minority\\\", \\\"nationality-all\\\"], \\\"exclude_features\\\": \\\"age\\\", \\\"exclude_subgroups\\\": \\\"keep-all\\\", \\\"model\\\": \\\"gbm\\\", \\\"scale\\\": \\\"scale\\\"}\"\n",
    "output_dir = \"output\"\n",
    "seed = \"2023\"\n"
   ]
  },
  {
   "cell_type": "code",
   "execution_count": 5,
   "id": "1650acaf",
   "metadata": {
    "execution": {
     "iopub.execute_input": "2025-07-23T12:56:00.245567Z",
     "iopub.status.busy": "2025-07-23T12:56:00.245116Z",
     "iopub.status.idle": "2025-07-23T12:56:00.250660Z",
     "shell.execute_reply": "2025-07-23T12:56:00.249612Z"
    },
    "papermill": {
     "duration": 0.025745,
     "end_time": "2025-07-23T12:56:00.252305",
     "exception": false,
     "start_time": "2025-07-23T12:56:00.226560",
     "status": "completed"
    },
    "tags": []
   },
   "outputs": [],
   "source": [
    "import json\n",
    "# Parse universe into dict if it is passed as a string\n",
    "if isinstance(universe, str):\n",
    "    universe = json.loads(universe)"
   ]
  },
  {
   "cell_type": "code",
   "execution_count": 6,
   "id": "16620c48",
   "metadata": {
    "execution": {
     "iopub.execute_input": "2025-07-23T12:56:00.288639Z",
     "iopub.status.busy": "2025-07-23T12:56:00.288091Z",
     "iopub.status.idle": "2025-07-23T12:56:00.337058Z",
     "shell.execute_reply": "2025-07-23T12:56:00.336033Z"
    },
    "papermill": {
     "duration": 0.068962,
     "end_time": "2025-07-23T12:56:00.339093",
     "exception": false,
     "start_time": "2025-07-23T12:56:00.270131",
     "status": "completed"
    },
    "tags": []
   },
   "outputs": [],
   "source": [
    "# Auto-reload the custom package\n",
    "%load_ext autoreload\n",
    "%autoreload 1\n",
    "%aimport fairness_multiverse"
   ]
  },
  {
   "cell_type": "code",
   "execution_count": 7,
   "id": "01c5c9f3",
   "metadata": {
    "execution": {
     "iopub.execute_input": "2025-07-23T12:56:00.376865Z",
     "iopub.status.busy": "2025-07-23T12:56:00.375995Z",
     "iopub.status.idle": "2025-07-23T12:56:02.224867Z",
     "shell.execute_reply": "2025-07-23T12:56:02.223776Z"
    },
    "papermill": {
     "duration": 1.869723,
     "end_time": "2025-07-23T12:56:02.226817",
     "exception": false,
     "start_time": "2025-07-23T12:56:00.357094",
     "status": "completed"
    },
    "tags": []
   },
   "outputs": [],
   "source": [
    "from fairness_multiverse.universe import UniverseAnalysis\n",
    "\n",
    "universe_analysis = UniverseAnalysis(\n",
    "    run_no = run_no,\n",
    "    universe_id = universe_id,\n",
    "    universe = universe,\n",
    "    output_dir=output_dir,\n",
    ")"
   ]
  },
  {
   "cell_type": "code",
   "execution_count": 8,
   "id": "106241f5",
   "metadata": {
    "execution": {
     "iopub.execute_input": "2025-07-23T12:56:02.267276Z",
     "iopub.status.busy": "2025-07-23T12:56:02.266430Z",
     "iopub.status.idle": "2025-07-23T12:56:02.275657Z",
     "shell.execute_reply": "2025-07-23T12:56:02.274710Z"
    },
    "papermill": {
     "duration": 0.031018,
     "end_time": "2025-07-23T12:56:02.277109",
     "exception": false,
     "start_time": "2025-07-23T12:56:02.246091",
     "status": "completed"
    },
    "tags": []
   },
   "outputs": [
    {
     "name": "stdout",
     "output_type": "stream",
     "text": [
      "Using Seed: 2023\n"
     ]
    }
   ],
   "source": [
    "import numpy as np\n",
    "parsed_seed = int(seed)\n",
    "np.random.seed(parsed_seed)\n",
    "print(f\"Using Seed: {parsed_seed}\")"
   ]
  },
  {
   "cell_type": "markdown",
   "id": "e0ebdc57",
   "metadata": {
    "papermill": {
     "duration": 0.01013,
     "end_time": "2025-07-23T12:56:02.297357",
     "exception": false,
     "start_time": "2025-07-23T12:56:02.287227",
     "status": "completed"
    },
    "tags": []
   },
   "source": [
    "# Loading Data"
   ]
  },
  {
   "cell_type": "markdown",
   "id": "681925a3",
   "metadata": {
    "papermill": {
     "duration": 0.017838,
     "end_time": "2025-07-23T12:56:02.324885",
     "exception": false,
     "start_time": "2025-07-23T12:56:02.307047",
     "status": "completed"
    },
    "tags": []
   },
   "source": [
    "Load siab_train, siab_test, siab_calib and/or \n",
    "load siab_train_features, siab_train_labels"
   ]
  },
  {
   "cell_type": "code",
   "execution_count": 9,
   "id": "f0496b8a",
   "metadata": {
    "execution": {
     "iopub.execute_input": "2025-07-23T12:56:02.361881Z",
     "iopub.status.busy": "2025-07-23T12:56:02.361345Z",
     "iopub.status.idle": "2025-07-23T12:56:02.366730Z",
     "shell.execute_reply": "2025-07-23T12:56:02.365884Z"
    },
    "papermill": {
     "duration": 0.0256,
     "end_time": "2025-07-23T12:56:02.368170",
     "exception": false,
     "start_time": "2025-07-23T12:56:02.342570",
     "status": "completed"
    },
    "tags": []
   },
   "outputs": [],
   "source": [
    "# Do I need to load siab? Delete this cell?\n",
    "\n",
    "#from pathlib import Path\n",
    "#import pandas as pd\n",
    "#\n",
    "## File paths\n",
    "#raw_file = Path(\"data/raw/siab.csv\")\n",
    "#cache_file = Path(\"data/siab_cached.csv.gz\")\n",
    "#\n",
    "## Ensure cache directory exists\n",
    "#cache_file.parent.mkdir(parents=True, exist_ok=True)\n",
    "#\n",
    "## Load with simple caching\n",
    "#if cache_file.exists():\n",
    "#    print(f\"Loading SIAB data from cache: {cache_file}\")\n",
    "#    siab = pd.read_csv(cache_file, compression='gzip')\n",
    "#else:\n",
    "#    print(f\"Cache not found. Reading raw SIAB data: {raw_file}\")\n",
    "#    siab = pd.read_csv(raw_file)\n",
    "#    siab.to_csv(cache_file, index=False, compression='gzip')\n",
    "#    print(f\"Cached SIAB data to: {cache_file}\")\n",
    "#\n",
    "## Now use `siab` DataFrame as needed\n",
    "#print(siab.shape)\n"
   ]
  },
  {
   "cell_type": "code",
   "execution_count": 10,
   "id": "a0edb063",
   "metadata": {
    "execution": {
     "iopub.execute_input": "2025-07-23T12:56:02.388211Z",
     "iopub.status.busy": "2025-07-23T12:56:02.387834Z",
     "iopub.status.idle": "2025-07-23T12:56:02.704926Z",
     "shell.execute_reply": "2025-07-23T12:56:02.703721Z"
    },
    "papermill": {
     "duration": 0.328775,
     "end_time": "2025-07-23T12:56:02.706566",
     "exception": false,
     "start_time": "2025-07-23T12:56:02.377791",
     "status": "completed"
    },
    "tags": []
   },
   "outputs": [],
   "source": [
    "import pandas as pd\n",
    "\n",
    "X_train = pd.read_csv(\"./data/X_train.csv\")\n",
    "y_train = pd.read_csv(\"./data/y_train.csv\")"
   ]
  },
  {
   "cell_type": "code",
   "execution_count": 11,
   "id": "63d08085",
   "metadata": {
    "execution": {
     "iopub.execute_input": "2025-07-23T12:56:02.729699Z",
     "iopub.status.busy": "2025-07-23T12:56:02.729207Z",
     "iopub.status.idle": "2025-07-23T12:56:04.169775Z",
     "shell.execute_reply": "2025-07-23T12:56:04.168730Z"
    },
    "papermill": {
     "duration": 1.454947,
     "end_time": "2025-07-23T12:56:04.171855",
     "exception": false,
     "start_time": "2025-07-23T12:56:02.716908",
     "status": "completed"
    },
    "tags": []
   },
   "outputs": [],
   "source": [
    "X_test = pd.read_csv(\"./data/X_test.csv\")\n",
    "y_true = pd.read_csv(\"./data/y_test.csv\")"
   ]
  },
  {
   "cell_type": "code",
   "execution_count": 12,
   "id": "98a8d0fa-1d3d-4ed8-bb2c-281470e24add",
   "metadata": {
    "execution": {
     "iopub.execute_input": "2025-07-23T12:56:04.210694Z",
     "iopub.status.busy": "2025-07-23T12:56:04.210157Z",
     "iopub.status.idle": "2025-07-23T12:56:05.575891Z",
     "shell.execute_reply": "2025-07-23T12:56:05.574779Z"
    },
    "papermill": {
     "duration": 1.387757,
     "end_time": "2025-07-23T12:56:05.578032",
     "exception": false,
     "start_time": "2025-07-23T12:56:04.190275",
     "status": "completed"
    },
    "tags": []
   },
   "outputs": [],
   "source": [
    "# Calibration data for conformal\n",
    "X_calib = pd.read_csv(\"./data/X_calib.csv\")\n",
    "y_calib = pd.read_csv(\"./data/y_calib.csv\")"
   ]
  },
  {
   "cell_type": "code",
   "execution_count": 13,
   "id": "e6c733c5",
   "metadata": {
    "execution": {
     "iopub.execute_input": "2025-07-23T12:56:05.617734Z",
     "iopub.status.busy": "2025-07-23T12:56:05.617217Z",
     "iopub.status.idle": "2025-07-23T12:56:05.689411Z",
     "shell.execute_reply": "2025-07-23T12:56:05.688316Z"
    },
    "papermill": {
     "duration": 0.093404,
     "end_time": "2025-07-23T12:56:05.691511",
     "exception": false,
     "start_time": "2025-07-23T12:56:05.598107",
     "status": "completed"
    },
    "tags": []
   },
   "outputs": [],
   "source": [
    "# Auxiliary data needed downstream in the pipeline\n",
    "\n",
    "org_train = X_train.copy()\n",
    "org_test = X_test.copy()\n",
    "org_calib = X_calib.copy()"
   ]
  },
  {
   "cell_type": "markdown",
   "id": "0a4a1b33",
   "metadata": {
    "papermill": {
     "duration": 0.020243,
     "end_time": "2025-07-23T12:56:05.732636",
     "exception": false,
     "start_time": "2025-07-23T12:56:05.712393",
     "status": "completed"
    },
    "tags": []
   },
   "source": [
    "# Preprocessing Data"
   ]
  },
  {
   "cell_type": "code",
   "execution_count": 14,
   "id": "ca879031",
   "metadata": {
    "execution": {
     "iopub.execute_input": "2025-07-23T12:56:05.772264Z",
     "iopub.status.busy": "2025-07-23T12:56:05.771796Z",
     "iopub.status.idle": "2025-07-23T12:56:05.778427Z",
     "shell.execute_reply": "2025-07-23T12:56:05.777605Z"
    },
    "papermill": {
     "duration": 0.0282,
     "end_time": "2025-07-23T12:56:05.779897",
     "exception": false,
     "start_time": "2025-07-23T12:56:05.751697",
     "status": "completed"
    },
    "tags": []
   },
   "outputs": [],
   "source": [
    "# EXCLUDE PROTECTED FEATURES\n",
    "# ----------------------\n",
    "# \"exclude_features\": \"none\", # \"nationality\", \"sex\", \"nationality-sex\"\n",
    "\n",
    "excluded_features = universe[\"exclude_features\"].split(\"-\") # split, e.g.: \"nationality-sex\" -> [\"nationality\", \"sex\"]\n",
    "excluded_features_dictionary = {\n",
    "    \"nationality\": [\"maxdeutsch1\", \"maxdeutsch.Missing.\"],\n",
    "    \"sex\": [\"frau1\"],\n",
    "    \"age\": [\"age\"],\n",
    "}\n"
   ]
  },
  {
   "cell_type": "code",
   "execution_count": 15,
   "id": "b745ac60",
   "metadata": {
    "execution": {
     "iopub.execute_input": "2025-07-23T12:56:05.819518Z",
     "iopub.status.busy": "2025-07-23T12:56:05.819145Z",
     "iopub.status.idle": "2025-07-23T12:56:05.824273Z",
     "shell.execute_reply": "2025-07-23T12:56:05.823262Z"
    },
    "papermill": {
     "duration": 0.028942,
     "end_time": "2025-07-23T12:56:05.825804",
     "exception": false,
     "start_time": "2025-07-23T12:56:05.796862",
     "status": "completed"
    },
    "tags": []
   },
   "outputs": [],
   "source": [
    "# Code nice names to column names\n",
    "\n",
    "excluded_features_columns = [\n",
    "    excluded_features_dictionary[f] for f in excluded_features if len(f) > 0 and f != \"none\"\n",
    "]"
   ]
  },
  {
   "cell_type": "code",
   "execution_count": 16,
   "id": "f84f73a2",
   "metadata": {
    "execution": {
     "iopub.execute_input": "2025-07-23T12:56:05.847946Z",
     "iopub.status.busy": "2025-07-23T12:56:05.847223Z",
     "iopub.status.idle": "2025-07-23T12:56:05.853115Z",
     "shell.execute_reply": "2025-07-23T12:56:05.852219Z"
    },
    "papermill": {
     "duration": 0.018308,
     "end_time": "2025-07-23T12:56:05.854701",
     "exception": false,
     "start_time": "2025-07-23T12:56:05.836393",
     "status": "completed"
    },
    "tags": []
   },
   "outputs": [],
   "source": [
    "from utils import flatten_once\n",
    "\n",
    "excluded_features_columns = flatten_once(excluded_features_columns)"
   ]
  },
  {
   "cell_type": "code",
   "execution_count": 17,
   "id": "884dea22",
   "metadata": {
    "execution": {
     "iopub.execute_input": "2025-07-23T12:56:05.896076Z",
     "iopub.status.busy": "2025-07-23T12:56:05.895527Z",
     "iopub.status.idle": "2025-07-23T12:56:05.928017Z",
     "shell.execute_reply": "2025-07-23T12:56:05.926873Z"
    },
    "papermill": {
     "duration": 0.055297,
     "end_time": "2025-07-23T12:56:05.930070",
     "exception": false,
     "start_time": "2025-07-23T12:56:05.874773",
     "status": "completed"
    },
    "tags": []
   },
   "outputs": [
    {
     "name": "stdout",
     "output_type": "stream",
     "text": [
      "Dropping features: ['age']\n"
     ]
    }
   ],
   "source": [
    "if len(excluded_features_columns) > 0:\n",
    "    print(f\"Dropping features: {excluded_features_columns}\")\n",
    "    X_train.drop(excluded_features_columns, axis=1, inplace=True)"
   ]
  },
  {
   "cell_type": "code",
   "execution_count": 18,
   "id": "95ab8b16",
   "metadata": {
    "execution": {
     "iopub.execute_input": "2025-07-23T12:56:05.971194Z",
     "iopub.status.busy": "2025-07-23T12:56:05.970663Z",
     "iopub.status.idle": "2025-07-23T12:56:06.031663Z",
     "shell.execute_reply": "2025-07-23T12:56:06.030314Z"
    },
    "papermill": {
     "duration": 0.083219,
     "end_time": "2025-07-23T12:56:06.034048",
     "exception": false,
     "start_time": "2025-07-23T12:56:05.950829",
     "status": "completed"
    },
    "tags": []
   },
   "outputs": [
    {
     "name": "stdout",
     "output_type": "stream",
     "text": [
      "Dropping features: ['age']\n"
     ]
    }
   ],
   "source": [
    "if len(excluded_features_columns) > 0:\n",
    "    print(f\"Dropping features: {excluded_features_columns}\")\n",
    "    X_test.drop(excluded_features_columns, axis=1, inplace=True)"
   ]
  },
  {
   "cell_type": "code",
   "execution_count": 19,
   "id": "1853aaf5-fb9f-46cb-a2b5-8ea4ae2237e4",
   "metadata": {
    "execution": {
     "iopub.execute_input": "2025-07-23T12:56:06.078440Z",
     "iopub.status.busy": "2025-07-23T12:56:06.077689Z",
     "iopub.status.idle": "2025-07-23T12:56:06.143566Z",
     "shell.execute_reply": "2025-07-23T12:56:06.142434Z"
    },
    "papermill": {
     "duration": 0.089486,
     "end_time": "2025-07-23T12:56:06.145410",
     "exception": false,
     "start_time": "2025-07-23T12:56:06.055924",
     "status": "completed"
    },
    "tags": []
   },
   "outputs": [
    {
     "name": "stdout",
     "output_type": "stream",
     "text": [
      "Dropping features: ['age']\n"
     ]
    }
   ],
   "source": [
    "if len(excluded_features_columns) > 0:\n",
    "    print(f\"Dropping features: {excluded_features_columns}\")\n",
    "    X_calib.drop(excluded_features_columns, axis=1, inplace=True)"
   ]
  },
  {
   "cell_type": "code",
   "execution_count": 20,
   "id": "76c4dc6d",
   "metadata": {
    "execution": {
     "iopub.execute_input": "2025-07-23T12:56:06.185348Z",
     "iopub.status.busy": "2025-07-23T12:56:06.184482Z",
     "iopub.status.idle": "2025-07-23T12:56:06.192026Z",
     "shell.execute_reply": "2025-07-23T12:56:06.190755Z"
    },
    "papermill": {
     "duration": 0.029991,
     "end_time": "2025-07-23T12:56:06.193958",
     "exception": false,
     "start_time": "2025-07-23T12:56:06.163967",
     "status": "completed"
    },
    "tags": []
   },
   "outputs": [],
   "source": [
    "# EXCLUDE CERTAIN SUBGROUPS\n",
    "# ----------------------\n",
    "\n",
    "mode = universe.get(\"exclude_subgroups\", \"keep-all\") \n",
    "# Fetches the exclude_subgroups setting from the universe dict.\n",
    "# Defaults to \"keep-all\" if the key is missing."
   ]
  },
  {
   "cell_type": "code",
   "execution_count": 21,
   "id": "21994072",
   "metadata": {
    "execution": {
     "iopub.execute_input": "2025-07-23T12:56:06.234195Z",
     "iopub.status.busy": "2025-07-23T12:56:06.232971Z",
     "iopub.status.idle": "2025-07-23T12:56:06.241778Z",
     "shell.execute_reply": "2025-07-23T12:56:06.240677Z"
    },
    "papermill": {
     "duration": 0.030698,
     "end_time": "2025-07-23T12:56:06.243471",
     "exception": false,
     "start_time": "2025-07-23T12:56:06.212773",
     "status": "completed"
    },
    "tags": []
   },
   "outputs": [],
   "source": [
    "if mode == \"keep-all\":\n",
    "    keep_mask = pd.Series(True, index=org_train.index)\n",
    "\n",
    "# org_train contains the original feature columns from features_org (in Simson)\n",
    "# features_org contains unprocessed features, for me X_train at beginning ???\n",
    "# For keep-all, creates a boolean Series (keep_mask) of all True, so no rows are removed.\n",
    "\n",
    "elif mode == \"drop-non-german\":\n",
    "    keep_mask = org_train[\"maxdeutsch1\"] == 1 # ??? what about missing values?\n",
    "\n",
    "else:\n",
    "    raise ValueError(f\"Unsupported mode for exclude_subgroups: {mode}\")\n"
   ]
  },
  {
   "cell_type": "code",
   "execution_count": 22,
   "id": "71651440",
   "metadata": {
    "execution": {
     "iopub.execute_input": "2025-07-23T12:56:06.283621Z",
     "iopub.status.busy": "2025-07-23T12:56:06.283070Z",
     "iopub.status.idle": "2025-07-23T12:56:06.290691Z",
     "shell.execute_reply": "2025-07-23T12:56:06.289661Z"
    },
    "papermill": {
     "duration": 0.03001,
     "end_time": "2025-07-23T12:56:06.292483",
     "exception": false,
     "start_time": "2025-07-23T12:56:06.262473",
     "status": "completed"
    },
    "tags": []
   },
   "outputs": [],
   "source": [
    "n_drop = (~keep_mask).sum() # Calculates how many rows are set to be dropped\n",
    "if n_drop > 0:\n",
    "    pct = n_drop / len(keep_mask) * 100\n",
    "    print(f\"Dropping {n_drop} rows ({pct:.2f}%) where mode='{mode}'\")"
   ]
  },
  {
   "cell_type": "code",
   "execution_count": 23,
   "id": "5fb8eee5",
   "metadata": {
    "execution": {
     "iopub.execute_input": "2025-07-23T12:56:06.333981Z",
     "iopub.status.busy": "2025-07-23T12:56:06.333214Z",
     "iopub.status.idle": "2025-07-23T12:56:06.359619Z",
     "shell.execute_reply": "2025-07-23T12:56:06.358247Z"
    },
    "papermill": {
     "duration": 0.049804,
     "end_time": "2025-07-23T12:56:06.361879",
     "exception": false,
     "start_time": "2025-07-23T12:56:06.312075",
     "status": "completed"
    },
    "tags": []
   },
   "outputs": [],
   "source": [
    "X_train = X_train[keep_mask]"
   ]
  },
  {
   "cell_type": "code",
   "execution_count": 24,
   "id": "b202bb3a",
   "metadata": {
    "execution": {
     "iopub.execute_input": "2025-07-23T12:56:06.402723Z",
     "iopub.status.busy": "2025-07-23T12:56:06.401779Z",
     "iopub.status.idle": "2025-07-23T12:56:06.409348Z",
     "shell.execute_reply": "2025-07-23T12:56:06.408347Z"
    },
    "papermill": {
     "duration": 0.029502,
     "end_time": "2025-07-23T12:56:06.411225",
     "exception": false,
     "start_time": "2025-07-23T12:56:06.381723",
     "status": "completed"
    },
    "tags": []
   },
   "outputs": [],
   "source": [
    "y_train = y_train[keep_mask]"
   ]
  },
  {
   "cell_type": "markdown",
   "id": "493e2ac3",
   "metadata": {
    "papermill": {
     "duration": 0.021924,
     "end_time": "2025-07-23T12:56:06.453073",
     "exception": false,
     "start_time": "2025-07-23T12:56:06.431149",
     "status": "completed"
    },
    "tags": []
   },
   "source": [
    "# Model Training"
   ]
  },
  {
   "cell_type": "code",
   "execution_count": 25,
   "id": "679e1268",
   "metadata": {
    "execution": {
     "iopub.execute_input": "2025-07-23T12:56:06.485027Z",
     "iopub.status.busy": "2025-07-23T12:56:06.484640Z",
     "iopub.status.idle": "2025-07-23T12:56:06.600538Z",
     "shell.execute_reply": "2025-07-23T12:56:06.599530Z"
    },
    "papermill": {
     "duration": 0.130513,
     "end_time": "2025-07-23T12:56:06.602585",
     "exception": false,
     "start_time": "2025-07-23T12:56:06.472072",
     "status": "completed"
    },
    "tags": []
   },
   "outputs": [],
   "source": [
    "from sklearn.linear_model import LogisticRegression\n",
    "from sklearn.ensemble import GradientBoostingClassifier, RandomForestClassifier\n",
    "\n",
    "if (universe[\"model\"] == \"logreg\"):\n",
    "    model = LogisticRegression() #penalty=\"none\") #, solver=\"newton-cg\", max_iter=1) # include random_state=19 ?\n",
    "elif (universe[\"model\"] == \"penalized_logreg\"):\n",
    "    model = LogisticRegression(penalty=\"l2\", C=1.0) #, solver=\"newton-cg\", max_iter=1)\n",
    "elif (universe[\"model\"] == \"rf\"):\n",
    "    model = RandomForestClassifier(n_estimators=100, n_jobs=-1)\n",
    "elif (universe[\"model\"] == \"gbm\"):\n",
    "    model = GradientBoostingClassifier()\n",
    "elif (universe[\"model\"] == \"elasticnet\"):\n",
    "    model = LogisticRegression(penalty = 'elasticnet', solver = 'saga', l1_ratio = 0.5, max_iter=5000) # which solver to use?\n",
    "else:\n",
    "    raise \"Unsupported universe.model\""
   ]
  },
  {
   "cell_type": "code",
   "execution_count": 26,
   "id": "0cc8f744",
   "metadata": {
    "execution": {
     "iopub.execute_input": "2025-07-23T12:56:06.644227Z",
     "iopub.status.busy": "2025-07-23T12:56:06.643793Z",
     "iopub.status.idle": "2025-07-23T12:56:06.651065Z",
     "shell.execute_reply": "2025-07-23T12:56:06.649988Z"
    },
    "papermill": {
     "duration": 0.029914,
     "end_time": "2025-07-23T12:56:06.653014",
     "exception": false,
     "start_time": "2025-07-23T12:56:06.623100",
     "status": "completed"
    },
    "tags": []
   },
   "outputs": [],
   "source": [
    "import numpy as np\n",
    "from sklearn.pipeline import Pipeline\n",
    "from sklearn.preprocessing import StandardScaler\n",
    "\n",
    "model = Pipeline([\n",
    "    #(\"continuous_processor\", continuous_processor),\n",
    "    #(\"categorical_preprocessor\", categorical_preprocessor),\n",
    "    (\"scale\", StandardScaler() if universe[\"scale\"] == \"scale\" else None), \n",
    "    (\"model\", model),\n",
    "])"
   ]
  },
  {
   "cell_type": "code",
   "execution_count": 27,
   "id": "9442c04d",
   "metadata": {
    "execution": {
     "iopub.execute_input": "2025-07-23T12:56:06.680500Z",
     "iopub.status.busy": "2025-07-23T12:56:06.680005Z",
     "iopub.status.idle": "2025-07-23T12:56:32.417752Z",
     "shell.execute_reply": "2025-07-23T12:56:32.416676Z"
    },
    "papermill": {
     "duration": 25.751655,
     "end_time": "2025-07-23T12:56:32.419224",
     "exception": false,
     "start_time": "2025-07-23T12:56:06.667569",
     "status": "completed"
    },
    "tags": []
   },
   "outputs": [
    {
     "data": {
      "text/html": [
       "<style>#sk-container-id-1 {color: black;background-color: white;}#sk-container-id-1 pre{padding: 0;}#sk-container-id-1 div.sk-toggleable {background-color: white;}#sk-container-id-1 label.sk-toggleable__label {cursor: pointer;display: block;width: 100%;margin-bottom: 0;padding: 0.3em;box-sizing: border-box;text-align: center;}#sk-container-id-1 label.sk-toggleable__label-arrow:before {content: \"▸\";float: left;margin-right: 0.25em;color: #696969;}#sk-container-id-1 label.sk-toggleable__label-arrow:hover:before {color: black;}#sk-container-id-1 div.sk-estimator:hover label.sk-toggleable__label-arrow:before {color: black;}#sk-container-id-1 div.sk-toggleable__content {max-height: 0;max-width: 0;overflow: hidden;text-align: left;background-color: #f0f8ff;}#sk-container-id-1 div.sk-toggleable__content pre {margin: 0.2em;color: black;border-radius: 0.25em;background-color: #f0f8ff;}#sk-container-id-1 input.sk-toggleable__control:checked~div.sk-toggleable__content {max-height: 200px;max-width: 100%;overflow: auto;}#sk-container-id-1 input.sk-toggleable__control:checked~label.sk-toggleable__label-arrow:before {content: \"▾\";}#sk-container-id-1 div.sk-estimator input.sk-toggleable__control:checked~label.sk-toggleable__label {background-color: #d4ebff;}#sk-container-id-1 div.sk-label input.sk-toggleable__control:checked~label.sk-toggleable__label {background-color: #d4ebff;}#sk-container-id-1 input.sk-hidden--visually {border: 0;clip: rect(1px 1px 1px 1px);clip: rect(1px, 1px, 1px, 1px);height: 1px;margin: -1px;overflow: hidden;padding: 0;position: absolute;width: 1px;}#sk-container-id-1 div.sk-estimator {font-family: monospace;background-color: #f0f8ff;border: 1px dotted black;border-radius: 0.25em;box-sizing: border-box;margin-bottom: 0.5em;}#sk-container-id-1 div.sk-estimator:hover {background-color: #d4ebff;}#sk-container-id-1 div.sk-parallel-item::after {content: \"\";width: 100%;border-bottom: 1px solid gray;flex-grow: 1;}#sk-container-id-1 div.sk-label:hover label.sk-toggleable__label {background-color: #d4ebff;}#sk-container-id-1 div.sk-serial::before {content: \"\";position: absolute;border-left: 1px solid gray;box-sizing: border-box;top: 0;bottom: 0;left: 50%;z-index: 0;}#sk-container-id-1 div.sk-serial {display: flex;flex-direction: column;align-items: center;background-color: white;padding-right: 0.2em;padding-left: 0.2em;position: relative;}#sk-container-id-1 div.sk-item {position: relative;z-index: 1;}#sk-container-id-1 div.sk-parallel {display: flex;align-items: stretch;justify-content: center;background-color: white;position: relative;}#sk-container-id-1 div.sk-item::before, #sk-container-id-1 div.sk-parallel-item::before {content: \"\";position: absolute;border-left: 1px solid gray;box-sizing: border-box;top: 0;bottom: 0;left: 50%;z-index: -1;}#sk-container-id-1 div.sk-parallel-item {display: flex;flex-direction: column;z-index: 1;position: relative;background-color: white;}#sk-container-id-1 div.sk-parallel-item:first-child::after {align-self: flex-end;width: 50%;}#sk-container-id-1 div.sk-parallel-item:last-child::after {align-self: flex-start;width: 50%;}#sk-container-id-1 div.sk-parallel-item:only-child::after {width: 0;}#sk-container-id-1 div.sk-dashed-wrapped {border: 1px dashed gray;margin: 0 0.4em 0.5em 0.4em;box-sizing: border-box;padding-bottom: 0.4em;background-color: white;}#sk-container-id-1 div.sk-label label {font-family: monospace;font-weight: bold;display: inline-block;line-height: 1.2em;}#sk-container-id-1 div.sk-label-container {text-align: center;}#sk-container-id-1 div.sk-container {/* jupyter's `normalize.less` sets `[hidden] { display: none; }` but bootstrap.min.css set `[hidden] { display: none !important; }` so we also need the `!important` here to be able to override the default hidden behavior on the sphinx rendered scikit-learn.org. See: https://github.com/scikit-learn/scikit-learn/issues/21755 */display: inline-block !important;position: relative;}#sk-container-id-1 div.sk-text-repr-fallback {display: none;}</style><div id=\"sk-container-id-1\" class=\"sk-top-container\"><div class=\"sk-text-repr-fallback\"><pre>Pipeline(steps=[(&#x27;scale&#x27;, StandardScaler()),\n",
       "                (&#x27;model&#x27;, GradientBoostingClassifier())])</pre><b>In a Jupyter environment, please rerun this cell to show the HTML representation or trust the notebook. <br />On GitHub, the HTML representation is unable to render, please try loading this page with nbviewer.org.</b></div><div class=\"sk-container\" hidden><div class=\"sk-item sk-dashed-wrapped\"><div class=\"sk-label-container\"><div class=\"sk-label sk-toggleable\"><input class=\"sk-toggleable__control sk-hidden--visually\" id=\"sk-estimator-id-1\" type=\"checkbox\" ><label for=\"sk-estimator-id-1\" class=\"sk-toggleable__label sk-toggleable__label-arrow\">Pipeline</label><div class=\"sk-toggleable__content\"><pre>Pipeline(steps=[(&#x27;scale&#x27;, StandardScaler()),\n",
       "                (&#x27;model&#x27;, GradientBoostingClassifier())])</pre></div></div></div><div class=\"sk-serial\"><div class=\"sk-item\"><div class=\"sk-estimator sk-toggleable\"><input class=\"sk-toggleable__control sk-hidden--visually\" id=\"sk-estimator-id-2\" type=\"checkbox\" ><label for=\"sk-estimator-id-2\" class=\"sk-toggleable__label sk-toggleable__label-arrow\">StandardScaler</label><div class=\"sk-toggleable__content\"><pre>StandardScaler()</pre></div></div></div><div class=\"sk-item\"><div class=\"sk-estimator sk-toggleable\"><input class=\"sk-toggleable__control sk-hidden--visually\" id=\"sk-estimator-id-3\" type=\"checkbox\" ><label for=\"sk-estimator-id-3\" class=\"sk-toggleable__label sk-toggleable__label-arrow\">GradientBoostingClassifier</label><div class=\"sk-toggleable__content\"><pre>GradientBoostingClassifier()</pre></div></div></div></div></div></div></div>"
      ],
      "text/plain": [
       "Pipeline(steps=[('scale', StandardScaler()),\n",
       "                ('model', GradientBoostingClassifier())])"
      ]
     },
     "execution_count": 27,
     "metadata": {},
     "output_type": "execute_result"
    }
   ],
   "source": [
    "model.fit(X_train, y_train.values.ravel())"
   ]
  },
  {
   "cell_type": "code",
   "execution_count": 28,
   "id": "af59f8c0",
   "metadata": {
    "execution": {
     "iopub.execute_input": "2025-07-23T12:56:32.448410Z",
     "iopub.status.busy": "2025-07-23T12:56:32.447797Z",
     "iopub.status.idle": "2025-07-23T12:56:32.453795Z",
     "shell.execute_reply": "2025-07-23T12:56:32.452982Z"
    },
    "papermill": {
     "duration": 0.019449,
     "end_time": "2025-07-23T12:56:32.455078",
     "exception": false,
     "start_time": "2025-07-23T12:56:32.435629",
     "status": "completed"
    },
    "tags": []
   },
   "outputs": [],
   "source": [
    "from fairness_multiverse.universe import predict_w_threshold"
   ]
  },
  {
   "cell_type": "code",
   "execution_count": 29,
   "id": "a7cf2e16",
   "metadata": {
    "execution": {
     "iopub.execute_input": "2025-07-23T12:56:32.479331Z",
     "iopub.status.busy": "2025-07-23T12:56:32.478951Z",
     "iopub.status.idle": "2025-07-23T12:56:33.076490Z",
     "shell.execute_reply": "2025-07-23T12:56:33.075519Z"
    },
    "papermill": {
     "duration": 0.611014,
     "end_time": "2025-07-23T12:56:33.077991",
     "exception": false,
     "start_time": "2025-07-23T12:56:32.466977",
     "status": "completed"
    },
    "tags": []
   },
   "outputs": [
    {
     "data": {
      "text/plain": [
       "0.8678854085386245"
      ]
     },
     "execution_count": 29,
     "metadata": {},
     "output_type": "execute_result"
    }
   ],
   "source": [
    "probs_test = model.predict_proba(X_test)\n",
    "\n",
    "'''\n",
    "Below code returns a boolean array (or binary 0/1 array depending on how it’s used) where each element \n",
    "is True if the probability of class 1 is greater than or equal to the threshold, and False otherwise.\n",
    "'''\n",
    "y_pred_default = predict_w_threshold(probs_test, 0.5)\n",
    "\n",
    "from sklearn.metrics import accuracy_score\n",
    "\n",
    "# Naive prediction\n",
    "accuracy_score(y_true = y_true, y_pred = y_pred_default)"
   ]
  },
  {
   "cell_type": "code",
   "execution_count": 30,
   "id": "081964c3",
   "metadata": {
    "execution": {
     "iopub.execute_input": "2025-07-23T12:56:33.116801Z",
     "iopub.status.busy": "2025-07-23T12:56:33.116319Z",
     "iopub.status.idle": "2025-07-23T12:56:33.963791Z",
     "shell.execute_reply": "2025-07-23T12:56:33.962849Z"
    },
    "papermill": {
     "duration": 0.869345,
     "end_time": "2025-07-23T12:56:33.965419",
     "exception": false,
     "start_time": "2025-07-23T12:56:33.096074",
     "status": "completed"
    },
    "tags": []
   },
   "outputs": [
    {
     "data": {
      "text/plain": [
       "array([0, 0, 0, ..., 0, 0, 0])"
      ]
     },
     "execution_count": 30,
     "metadata": {},
     "output_type": "execute_result"
    }
   ],
   "source": [
    "model.predict(X_test)"
   ]
  },
  {
   "cell_type": "markdown",
   "id": "56c9705b",
   "metadata": {
    "papermill": {
     "duration": 0.02128,
     "end_time": "2025-07-23T12:56:34.006879",
     "exception": false,
     "start_time": "2025-07-23T12:56:33.985599",
     "status": "completed"
    },
    "tags": []
   },
   "source": [
    "# Conformal Prediction"
   ]
  },
  {
   "cell_type": "code",
   "execution_count": 31,
   "id": "160ec6ff",
   "metadata": {
    "execution": {
     "iopub.execute_input": "2025-07-23T12:56:34.071472Z",
     "iopub.status.busy": "2025-07-23T12:56:34.070664Z",
     "iopub.status.idle": "2025-07-23T12:56:34.076726Z",
     "shell.execute_reply": "2025-07-23T12:56:34.075437Z"
    },
    "papermill": {
     "duration": 0.04073,
     "end_time": "2025-07-23T12:56:34.078942",
     "exception": false,
     "start_time": "2025-07-23T12:56:34.038212",
     "status": "completed"
    },
    "tags": []
   },
   "outputs": [],
   "source": [
    "# Miscoverage level for conformal prediction (10% allowed error rate => 90% target coverage)\n",
    "alpha = 0.1"
   ]
  },
  {
   "cell_type": "code",
   "execution_count": 32,
   "id": "eadf4555-3dd3-440e-8e35-f82a4ad9f855",
   "metadata": {
    "execution": {
     "iopub.execute_input": "2025-07-23T12:56:34.138502Z",
     "iopub.status.busy": "2025-07-23T12:56:34.138085Z",
     "iopub.status.idle": "2025-07-23T12:56:34.909625Z",
     "shell.execute_reply": "2025-07-23T12:56:34.908624Z"
    },
    "papermill": {
     "duration": 0.803433,
     "end_time": "2025-07-23T12:56:34.911593",
     "exception": false,
     "start_time": "2025-07-23T12:56:34.108160",
     "status": "completed"
    },
    "tags": []
   },
   "outputs": [],
   "source": [
    "probs_calib = model.predict_proba(X_calib)"
   ]
  },
  {
   "cell_type": "code",
   "execution_count": 33,
   "id": "2ed93547-6d5d-4983-9b36-1ecb300da49a",
   "metadata": {
    "execution": {
     "iopub.execute_input": "2025-07-23T12:56:34.956283Z",
     "iopub.status.busy": "2025-07-23T12:56:34.955774Z",
     "iopub.status.idle": "2025-07-23T12:56:34.961777Z",
     "shell.execute_reply": "2025-07-23T12:56:34.960724Z"
    },
    "papermill": {
     "duration": 0.029742,
     "end_time": "2025-07-23T12:56:34.963601",
     "exception": false,
     "start_time": "2025-07-23T12:56:34.933859",
     "status": "completed"
    },
    "tags": []
   },
   "outputs": [],
   "source": [
    "y_calib = y_calib.values.ravel().astype(int)"
   ]
  },
  {
   "cell_type": "code",
   "execution_count": 34,
   "id": "65d1320d-f588-4b38-9072-62af1ae97f7d",
   "metadata": {
    "execution": {
     "iopub.execute_input": "2025-07-23T12:56:35.007022Z",
     "iopub.status.busy": "2025-07-23T12:56:35.006295Z",
     "iopub.status.idle": "2025-07-23T12:56:35.014898Z",
     "shell.execute_reply": "2025-07-23T12:56:35.013867Z"
    },
    "papermill": {
     "duration": 0.032483,
     "end_time": "2025-07-23T12:56:35.016745",
     "exception": false,
     "start_time": "2025-07-23T12:56:34.984262",
     "status": "completed"
    },
    "tags": []
   },
   "outputs": [],
   "source": [
    "from fairness_multiverse.conformal import compute_nc_scores\n",
    "\n",
    "# Compute nonconformity scores on calibration set (1 - probability of true class)\n",
    "nc_scores = compute_nc_scores(probs_calib, y_calib)"
   ]
  },
  {
   "cell_type": "code",
   "execution_count": 35,
   "id": "df3b8ca3-53b7-43d5-9667-7c85da7aeda2",
   "metadata": {
    "execution": {
     "iopub.execute_input": "2025-07-23T12:56:35.060142Z",
     "iopub.status.busy": "2025-07-23T12:56:35.059082Z",
     "iopub.status.idle": "2025-07-23T12:56:35.066753Z",
     "shell.execute_reply": "2025-07-23T12:56:35.065561Z"
    },
    "papermill": {
     "duration": 0.031679,
     "end_time": "2025-07-23T12:56:35.068773",
     "exception": false,
     "start_time": "2025-07-23T12:56:35.037094",
     "status": "completed"
    },
    "tags": []
   },
   "outputs": [],
   "source": [
    "from fairness_multiverse.conformal import find_threshold\n",
    "\n",
    "# Find conformal threshold q_hat for the given alpha (split conformal method)\n",
    "q_hat = find_threshold(nc_scores, alpha)"
   ]
  },
  {
   "cell_type": "code",
   "execution_count": 36,
   "id": "4d29e6c1-0ef6-4aa4-b8fe-4fe79b0d033a",
   "metadata": {
    "execution": {
     "iopub.execute_input": "2025-07-23T12:56:35.124917Z",
     "iopub.status.busy": "2025-07-23T12:56:35.123887Z",
     "iopub.status.idle": "2025-07-23T12:56:35.134182Z",
     "shell.execute_reply": "2025-07-23T12:56:35.132868Z"
    },
    "papermill": {
     "duration": 0.046726,
     "end_time": "2025-07-23T12:56:35.136511",
     "exception": false,
     "start_time": "2025-07-23T12:56:35.089785",
     "status": "completed"
    },
    "tags": []
   },
   "outputs": [
    {
     "data": {
      "text/plain": [
       "0.6862858436255042"
      ]
     },
     "execution_count": 36,
     "metadata": {},
     "output_type": "execute_result"
    }
   ],
   "source": [
    "q_hat"
   ]
  },
  {
   "cell_type": "code",
   "execution_count": 37,
   "id": "92460794-cdac-4be2-ba28-f28c0515a6fb",
   "metadata": {
    "execution": {
     "iopub.execute_input": "2025-07-23T12:56:35.199315Z",
     "iopub.status.busy": "2025-07-23T12:56:35.198498Z",
     "iopub.status.idle": "2025-07-23T12:56:36.938924Z",
     "shell.execute_reply": "2025-07-23T12:56:36.937794Z"
    },
    "papermill": {
     "duration": 1.773376,
     "end_time": "2025-07-23T12:56:36.941097",
     "exception": false,
     "start_time": "2025-07-23T12:56:35.167721",
     "status": "completed"
    },
    "tags": []
   },
   "outputs": [],
   "source": [
    "from fairness_multiverse.conformal import predict_conformal_sets\n",
    "\n",
    "# Generate prediction sets for each test example\n",
    "pred_sets = predict_conformal_sets(model, X_test, q_hat)"
   ]
  },
  {
   "cell_type": "code",
   "execution_count": 38,
   "id": "d90c9a65-e6db-4f5d-80cd-e68fb7e46829",
   "metadata": {
    "execution": {
     "iopub.execute_input": "2025-07-23T12:56:36.991818Z",
     "iopub.status.busy": "2025-07-23T12:56:36.991266Z",
     "iopub.status.idle": "2025-07-23T12:56:36.997848Z",
     "shell.execute_reply": "2025-07-23T12:56:36.996702Z"
    },
    "papermill": {
     "duration": 0.033185,
     "end_time": "2025-07-23T12:56:36.999677",
     "exception": false,
     "start_time": "2025-07-23T12:56:36.966492",
     "status": "completed"
    },
    "tags": []
   },
   "outputs": [],
   "source": [
    "y_true = y_true.squeeze()"
   ]
  },
  {
   "cell_type": "code",
   "execution_count": 39,
   "id": "3a58a54a-1e68-46b9-927a-df01f18aebc8",
   "metadata": {
    "execution": {
     "iopub.execute_input": "2025-07-23T12:56:37.048490Z",
     "iopub.status.busy": "2025-07-23T12:56:37.047774Z",
     "iopub.status.idle": "2025-07-23T12:56:38.034516Z",
     "shell.execute_reply": "2025-07-23T12:56:38.033301Z"
    },
    "papermill": {
     "duration": 1.013479,
     "end_time": "2025-07-23T12:56:38.036751",
     "exception": false,
     "start_time": "2025-07-23T12:56:37.023272",
     "status": "completed"
    },
    "tags": []
   },
   "outputs": [],
   "source": [
    "from fairness_multiverse.conformal import evaluate_sets\n",
    "\n",
    "# Evaluate coverage and average set size on test data\n",
    "metrics = evaluate_sets(pred_sets, y_true)"
   ]
  },
  {
   "cell_type": "code",
   "execution_count": 40,
   "id": "5ce0a5cb-201f-45a0-ade5-94c7f0bd6095",
   "metadata": {
    "execution": {
     "iopub.execute_input": "2025-07-23T12:56:38.087379Z",
     "iopub.status.busy": "2025-07-23T12:56:38.086828Z",
     "iopub.status.idle": "2025-07-23T12:56:38.094833Z",
     "shell.execute_reply": "2025-07-23T12:56:38.093863Z"
    },
    "papermill": {
     "duration": 0.036181,
     "end_time": "2025-07-23T12:56:38.097598",
     "exception": false,
     "start_time": "2025-07-23T12:56:38.061417",
     "status": "completed"
    },
    "tags": []
   },
   "outputs": [
    {
     "data": {
      "text/plain": [
       "{'coverage': 0.9116597926652548, 'avg_size': 1.1219485007245569}"
      ]
     },
     "execution_count": 40,
     "metadata": {},
     "output_type": "execute_result"
    }
   ],
   "source": [
    "metrics"
   ]
  },
  {
   "cell_type": "code",
   "execution_count": 41,
   "id": "9b9a838d-31c9-430b-ae14-12baee460d17",
   "metadata": {
    "execution": {
     "iopub.execute_input": "2025-07-23T12:56:38.147410Z",
     "iopub.status.busy": "2025-07-23T12:56:38.146481Z",
     "iopub.status.idle": "2025-07-23T12:56:38.153448Z",
     "shell.execute_reply": "2025-07-23T12:56:38.152413Z"
    },
    "papermill": {
     "duration": 0.033765,
     "end_time": "2025-07-23T12:56:38.155245",
     "exception": false,
     "start_time": "2025-07-23T12:56:38.121480",
     "status": "completed"
    },
    "tags": []
   },
   "outputs": [],
   "source": [
    "example_universe = universe.copy()\n",
    "universe_model = example_universe.get(\"model\")\n",
    "universe_exclude_features = example_universe.get(\"exclude_features\")\n",
    "universe_exclude_subgroups = example_universe.get(\"exclude_subgroups\")\n",
    "universe_scale = example_universe.get(\"scale\")"
   ]
  },
  {
   "cell_type": "code",
   "execution_count": 42,
   "id": "f4b6a8ac-9dc0-4245-8a91-5b3b5999c4f9",
   "metadata": {
    "execution": {
     "iopub.execute_input": "2025-07-23T12:56:38.197791Z",
     "iopub.status.busy": "2025-07-23T12:56:38.196888Z",
     "iopub.status.idle": "2025-07-23T12:56:38.203561Z",
     "shell.execute_reply": "2025-07-23T12:56:38.202584Z"
    },
    "papermill": {
     "duration": 0.03061,
     "end_time": "2025-07-23T12:56:38.205353",
     "exception": false,
     "start_time": "2025-07-23T12:56:38.174743",
     "status": "completed"
    },
    "tags": []
   },
   "outputs": [],
   "source": [
    "cp_metrics_dict = {\n",
    "    \"universe_id\": [universe_id],\n",
    "    \"universe_model\": [universe_model],\n",
    "    \"universe_exclude_features\": [universe_exclude_features],\n",
    "    \"universe_exclude_subgroups\": [universe_exclude_subgroups],\n",
    "    \"universe_scale\": [universe_scale],\n",
    "    \"q_hat\": [q_hat],\n",
    "    \"coverage\": [metrics[\"coverage\"]],\n",
    "    \"avg_size\": [metrics[\"avg_size\"]],\n",
    "}"
   ]
  },
  {
   "cell_type": "code",
   "execution_count": 43,
   "id": "908acbb1-0371-4915-85ca-3fa520d2efe2",
   "metadata": {
    "execution": {
     "iopub.execute_input": "2025-07-23T12:56:38.251996Z",
     "iopub.status.busy": "2025-07-23T12:56:38.251305Z",
     "iopub.status.idle": "2025-07-23T12:56:38.260032Z",
     "shell.execute_reply": "2025-07-23T12:56:38.258933Z"
    },
    "papermill": {
     "duration": 0.034736,
     "end_time": "2025-07-23T12:56:38.261821",
     "exception": false,
     "start_time": "2025-07-23T12:56:38.227085",
     "status": "completed"
    },
    "tags": []
   },
   "outputs": [
    {
     "data": {
      "text/plain": [
       "{'universe_id': ['2233abf9c774317f7713a5c1bb407f66'],\n",
       " 'universe_model': ['gbm'],\n",
       " 'universe_exclude_features': ['age'],\n",
       " 'universe_exclude_subgroups': ['keep-all'],\n",
       " 'universe_scale': ['scale'],\n",
       " 'q_hat': [0.6862858436255042],\n",
       " 'coverage': [0.9116597926652548],\n",
       " 'avg_size': [1.1219485007245569]}"
      ]
     },
     "execution_count": 43,
     "metadata": {},
     "output_type": "execute_result"
    }
   ],
   "source": [
    "cp_metrics_dict"
   ]
  },
  {
   "cell_type": "code",
   "execution_count": 44,
   "id": "33007efc-14e9-4ec6-97ac-56a455c82265",
   "metadata": {
    "execution": {
     "iopub.execute_input": "2025-07-23T12:56:38.293178Z",
     "iopub.status.busy": "2025-07-23T12:56:38.292733Z",
     "iopub.status.idle": "2025-07-23T12:56:38.297974Z",
     "shell.execute_reply": "2025-07-23T12:56:38.297172Z"
    },
    "papermill": {
     "duration": 0.019685,
     "end_time": "2025-07-23T12:56:38.299395",
     "exception": false,
     "start_time": "2025-07-23T12:56:38.279710",
     "status": "completed"
    },
    "tags": []
   },
   "outputs": [],
   "source": [
    "cp_metrics_df = pd.DataFrame(cp_metrics_dict)"
   ]
  },
  {
   "cell_type": "code",
   "execution_count": 45,
   "id": "db12611b-57b2-4910-b9d0-355adfd6e7bf",
   "metadata": {
    "execution": {
     "iopub.execute_input": "2025-07-23T12:56:38.323630Z",
     "iopub.status.busy": "2025-07-23T12:56:38.323061Z",
     "iopub.status.idle": "2025-07-23T12:56:38.337852Z",
     "shell.execute_reply": "2025-07-23T12:56:38.337064Z"
    },
    "papermill": {
     "duration": 0.028692,
     "end_time": "2025-07-23T12:56:38.339382",
     "exception": false,
     "start_time": "2025-07-23T12:56:38.310690",
     "status": "completed"
    },
    "tags": []
   },
   "outputs": [
    {
     "data": {
      "text/html": [
       "<div>\n",
       "<style scoped>\n",
       "    .dataframe tbody tr th:only-of-type {\n",
       "        vertical-align: middle;\n",
       "    }\n",
       "\n",
       "    .dataframe tbody tr th {\n",
       "        vertical-align: top;\n",
       "    }\n",
       "\n",
       "    .dataframe thead th {\n",
       "        text-align: right;\n",
       "    }\n",
       "</style>\n",
       "<table border=\"1\" class=\"dataframe\">\n",
       "  <thead>\n",
       "    <tr style=\"text-align: right;\">\n",
       "      <th></th>\n",
       "      <th>universe_id</th>\n",
       "      <th>universe_model</th>\n",
       "      <th>universe_exclude_features</th>\n",
       "      <th>universe_exclude_subgroups</th>\n",
       "      <th>universe_scale</th>\n",
       "      <th>q_hat</th>\n",
       "      <th>coverage</th>\n",
       "      <th>avg_size</th>\n",
       "    </tr>\n",
       "  </thead>\n",
       "  <tbody>\n",
       "    <tr>\n",
       "      <th>0</th>\n",
       "      <td>2233abf9c774317f7713a5c1bb407f66</td>\n",
       "      <td>gbm</td>\n",
       "      <td>age</td>\n",
       "      <td>keep-all</td>\n",
       "      <td>scale</td>\n",
       "      <td>0.686286</td>\n",
       "      <td>0.91166</td>\n",
       "      <td>1.121949</td>\n",
       "    </tr>\n",
       "  </tbody>\n",
       "</table>\n",
       "</div>"
      ],
      "text/plain": [
       "                        universe_id universe_model universe_exclude_features  \\\n",
       "0  2233abf9c774317f7713a5c1bb407f66            gbm                       age   \n",
       "\n",
       "  universe_exclude_subgroups universe_scale     q_hat  coverage  avg_size  \n",
       "0                   keep-all          scale  0.686286   0.91166  1.121949  "
      ]
     },
     "execution_count": 45,
     "metadata": {},
     "output_type": "execute_result"
    }
   ],
   "source": [
    "cp_metrics_df"
   ]
  },
  {
   "cell_type": "code",
   "execution_count": 46,
   "id": "b7fbde55-a0a1-47e4-9af6-fe4a17fa8c61",
   "metadata": {
    "execution": {
     "iopub.execute_input": "2025-07-23T12:56:38.365420Z",
     "iopub.status.busy": "2025-07-23T12:56:38.364655Z",
     "iopub.status.idle": "2025-07-23T12:56:38.369699Z",
     "shell.execute_reply": "2025-07-23T12:56:38.368866Z"
    },
    "papermill": {
     "duration": 0.019208,
     "end_time": "2025-07-23T12:56:38.371051",
     "exception": false,
     "start_time": "2025-07-23T12:56:38.351843",
     "status": "completed"
    },
    "tags": []
   },
   "outputs": [],
   "source": [
    "# Conditional Coverage & looking at subgroups"
   ]
  },
  {
   "cell_type": "code",
   "execution_count": 47,
   "id": "027ae886-68dd-4141-96c7-805a5450e1ef",
   "metadata": {
    "execution": {
     "iopub.execute_input": "2025-07-23T12:56:38.397217Z",
     "iopub.status.busy": "2025-07-23T12:56:38.396440Z",
     "iopub.status.idle": "2025-07-23T12:56:38.655507Z",
     "shell.execute_reply": "2025-07-23T12:56:38.654502Z"
    },
    "papermill": {
     "duration": 0.273716,
     "end_time": "2025-07-23T12:56:38.657481",
     "exception": false,
     "start_time": "2025-07-23T12:56:38.383765",
     "status": "completed"
    },
    "tags": []
   },
   "outputs": [],
   "source": [
    "from fairness_multiverse.conformal import build_cp_groups\n",
    "\n",
    "cp_groups_df = build_cp_groups(pred_sets, y_true, X_test.index, org_test)\n",
    "#needs universe_id and setting"
   ]
  },
  {
   "cell_type": "code",
   "execution_count": 48,
   "id": "c3b92545-903e-4839-89af-0f057907d7d6",
   "metadata": {
    "execution": {
     "iopub.execute_input": "2025-07-23T12:56:38.704308Z",
     "iopub.status.busy": "2025-07-23T12:56:38.703828Z",
     "iopub.status.idle": "2025-07-23T12:56:40.369330Z",
     "shell.execute_reply": "2025-07-23T12:56:40.368145Z"
    },
    "papermill": {
     "duration": 1.691908,
     "end_time": "2025-07-23T12:56:40.371890",
     "exception": false,
     "start_time": "2025-07-23T12:56:38.679982",
     "status": "completed"
    },
    "tags": []
   },
   "outputs": [],
   "source": [
    "# Define covered = 1 if true_label is in the predicted set\n",
    "cp_groups_df['covered'] = cp_groups_df.apply(\n",
    "    lambda r: int(r['true_label'] in r['pred_set']),\n",
    "    axis=1\n",
    ")"
   ]
  },
  {
   "cell_type": "code",
   "execution_count": 49,
   "id": "338ff529-1a6b-4b87-a931-8e4788d52aad",
   "metadata": {
    "execution": {
     "iopub.execute_input": "2025-07-23T12:56:40.437017Z",
     "iopub.status.busy": "2025-07-23T12:56:40.436241Z",
     "iopub.status.idle": "2025-07-23T12:56:40.443902Z",
     "shell.execute_reply": "2025-07-23T12:56:40.442697Z"
    },
    "papermill": {
     "duration": 0.039581,
     "end_time": "2025-07-23T12:56:40.446333",
     "exception": false,
     "start_time": "2025-07-23T12:56:40.406752",
     "status": "completed"
    },
    "tags": []
   },
   "outputs": [],
   "source": [
    "#cp_groups_df"
   ]
  },
  {
   "cell_type": "code",
   "execution_count": 50,
   "id": "90032e27-66df-4540-9169-4e89cfbaa758",
   "metadata": {
    "execution": {
     "iopub.execute_input": "2025-07-23T12:56:40.497718Z",
     "iopub.status.busy": "2025-07-23T12:56:40.497001Z",
     "iopub.status.idle": "2025-07-23T12:56:40.509524Z",
     "shell.execute_reply": "2025-07-23T12:56:40.508514Z"
    },
    "papermill": {
     "duration": 0.040089,
     "end_time": "2025-07-23T12:56:40.511337",
     "exception": false,
     "start_time": "2025-07-23T12:56:40.471248",
     "status": "completed"
    },
    "tags": []
   },
   "outputs": [],
   "source": [
    "subgroups = ['frau1','nongerman','nongerman_male','nongerman_female']\n",
    "\n",
    "# Conditional coverage for subgroup==1\n",
    "cond_coverage = {\n",
    "    g: cp_groups_df.loc[cp_groups_df[g]==1, 'covered'].mean()\n",
    "    for g in subgroups\n",
    "}"
   ]
  },
  {
   "cell_type": "code",
   "execution_count": 51,
   "id": "1e348fb1-b9c3-45bc-ba23-f016827a7e0d",
   "metadata": {
    "execution": {
     "iopub.execute_input": "2025-07-23T12:56:40.555638Z",
     "iopub.status.busy": "2025-07-23T12:56:40.554745Z",
     "iopub.status.idle": "2025-07-23T12:56:40.562498Z",
     "shell.execute_reply": "2025-07-23T12:56:40.561490Z"
    },
    "papermill": {
     "duration": 0.031685,
     "end_time": "2025-07-23T12:56:40.564277",
     "exception": false,
     "start_time": "2025-07-23T12:56:40.532592",
     "status": "completed"
    },
    "tags": []
   },
   "outputs": [
    {
     "data": {
      "text/plain": [
       "{'frau1': 0.9096913330637553,\n",
       " 'nongerman': 0.9077078538146298,\n",
       " 'nongerman_male': 0.9243447716833288,\n",
       " 'nongerman_female': 0.8801788375558868}"
      ]
     },
     "execution_count": 51,
     "metadata": {},
     "output_type": "execute_result"
    }
   ],
   "source": [
    "cond_coverage"
   ]
  },
  {
   "cell_type": "code",
   "execution_count": 52,
   "id": "f5093324-c3dd-4d63-bc4c-8d945e5c8bbb",
   "metadata": {
    "execution": {
     "iopub.execute_input": "2025-07-23T12:56:40.613853Z",
     "iopub.status.busy": "2025-07-23T12:56:40.613367Z",
     "iopub.status.idle": "2025-07-23T12:56:40.621240Z",
     "shell.execute_reply": "2025-07-23T12:56:40.620242Z"
    },
    "papermill": {
     "duration": 0.033531,
     "end_time": "2025-07-23T12:56:40.622803",
     "exception": false,
     "start_time": "2025-07-23T12:56:40.589272",
     "status": "completed"
    },
    "tags": []
   },
   "outputs": [],
   "source": [
    "for subgroup, cov in cond_coverage.items():\n",
    "    cp_metrics_df[f\"cov_{subgroup}\"] = cov"
   ]
  },
  {
   "cell_type": "code",
   "execution_count": 53,
   "id": "6e872e10-dbe5-49e8-b554-5030c98ff75d",
   "metadata": {
    "execution": {
     "iopub.execute_input": "2025-07-23T12:56:40.668356Z",
     "iopub.status.busy": "2025-07-23T12:56:40.667436Z",
     "iopub.status.idle": "2025-07-23T12:56:40.685821Z",
     "shell.execute_reply": "2025-07-23T12:56:40.684715Z"
    },
    "papermill": {
     "duration": 0.04306,
     "end_time": "2025-07-23T12:56:40.687484",
     "exception": false,
     "start_time": "2025-07-23T12:56:40.644424",
     "status": "completed"
    },
    "tags": []
   },
   "outputs": [
    {
     "data": {
      "text/html": [
       "<div>\n",
       "<style scoped>\n",
       "    .dataframe tbody tr th:only-of-type {\n",
       "        vertical-align: middle;\n",
       "    }\n",
       "\n",
       "    .dataframe tbody tr th {\n",
       "        vertical-align: top;\n",
       "    }\n",
       "\n",
       "    .dataframe thead th {\n",
       "        text-align: right;\n",
       "    }\n",
       "</style>\n",
       "<table border=\"1\" class=\"dataframe\">\n",
       "  <thead>\n",
       "    <tr style=\"text-align: right;\">\n",
       "      <th></th>\n",
       "      <th>universe_id</th>\n",
       "      <th>universe_model</th>\n",
       "      <th>universe_exclude_features</th>\n",
       "      <th>universe_exclude_subgroups</th>\n",
       "      <th>universe_scale</th>\n",
       "      <th>q_hat</th>\n",
       "      <th>coverage</th>\n",
       "      <th>avg_size</th>\n",
       "      <th>cov_frau1</th>\n",
       "      <th>cov_nongerman</th>\n",
       "      <th>cov_nongerman_male</th>\n",
       "      <th>cov_nongerman_female</th>\n",
       "    </tr>\n",
       "  </thead>\n",
       "  <tbody>\n",
       "    <tr>\n",
       "      <th>0</th>\n",
       "      <td>2233abf9c774317f7713a5c1bb407f66</td>\n",
       "      <td>gbm</td>\n",
       "      <td>age</td>\n",
       "      <td>keep-all</td>\n",
       "      <td>scale</td>\n",
       "      <td>0.686286</td>\n",
       "      <td>0.91166</td>\n",
       "      <td>1.121949</td>\n",
       "      <td>0.909691</td>\n",
       "      <td>0.907708</td>\n",
       "      <td>0.924345</td>\n",
       "      <td>0.880179</td>\n",
       "    </tr>\n",
       "  </tbody>\n",
       "</table>\n",
       "</div>"
      ],
      "text/plain": [
       "                        universe_id universe_model universe_exclude_features  \\\n",
       "0  2233abf9c774317f7713a5c1bb407f66            gbm                       age   \n",
       "\n",
       "  universe_exclude_subgroups universe_scale     q_hat  coverage  avg_size  \\\n",
       "0                   keep-all          scale  0.686286   0.91166  1.121949   \n",
       "\n",
       "   cov_frau1  cov_nongerman  cov_nongerman_male  cov_nongerman_female  \n",
       "0   0.909691       0.907708            0.924345              0.880179  "
      ]
     },
     "execution_count": 53,
     "metadata": {},
     "output_type": "execute_result"
    }
   ],
   "source": [
    "cp_metrics_df"
   ]
  },
  {
   "cell_type": "markdown",
   "id": "33774451",
   "metadata": {
    "papermill": {
     "duration": 0.021288,
     "end_time": "2025-07-23T12:56:40.730505",
     "exception": false,
     "start_time": "2025-07-23T12:56:40.709217",
     "status": "completed"
    },
    "tags": []
   },
   "source": [
    "# (Fairness) Metrics"
   ]
  },
  {
   "cell_type": "code",
   "execution_count": 54,
   "id": "debc5d62",
   "metadata": {
    "execution": {
     "iopub.execute_input": "2025-07-23T12:56:40.775371Z",
     "iopub.status.busy": "2025-07-23T12:56:40.774659Z",
     "iopub.status.idle": "2025-07-23T12:56:40.797615Z",
     "shell.execute_reply": "2025-07-23T12:56:40.796695Z"
    },
    "papermill": {
     "duration": 0.047259,
     "end_time": "2025-07-23T12:56:40.799423",
     "exception": false,
     "start_time": "2025-07-23T12:56:40.752164",
     "status": "completed"
    },
    "tags": []
   },
   "outputs": [],
   "source": [
    "# do I need to include maxdeutsch1.missing?\n",
    "\n",
    "import numpy as np\n",
    "\n",
    "colname_to_bin = \"maxdeutsch1\"\n",
    "majority_value = org_train[colname_to_bin].mode()[0]\n",
    "\n",
    "org_test[\"majmin\"] = np.where(org_test[colname_to_bin] == majority_value, \"majority\", \"minority\")"
   ]
  },
  {
   "cell_type": "code",
   "execution_count": 55,
   "id": "06a50de5",
   "metadata": {
    "execution": {
     "iopub.execute_input": "2025-07-23T12:56:40.844591Z",
     "iopub.status.busy": "2025-07-23T12:56:40.843666Z",
     "iopub.status.idle": "2025-07-23T12:56:43.923519Z",
     "shell.execute_reply": "2025-07-23T12:56:43.922148Z"
    },
    "papermill": {
     "duration": 3.104012,
     "end_time": "2025-07-23T12:56:43.925487",
     "exception": false,
     "start_time": "2025-07-23T12:56:40.821475",
     "status": "completed"
    },
    "tags": []
   },
   "outputs": [],
   "source": [
    "example_universe = universe.copy()\n",
    "example_universe[\"cutoff\"] = example_universe[\"cutoff\"][0]\n",
    "example_universe[\"eval_fairness_grouping\"] = example_universe[\"eval_fairness_grouping\"][0]\n",
    "fairness_dict, metric_frame = universe_analysis.compute_metrics(\n",
    "    example_universe,\n",
    "    y_pred_prob=probs_test,\n",
    "    y_test=y_true,\n",
    "    org_test=org_test,\n",
    ")"
   ]
  },
  {
   "cell_type": "markdown",
   "id": "f95d4e02",
   "metadata": {
    "papermill": {
     "duration": 0.025058,
     "end_time": "2025-07-23T12:56:43.969133",
     "exception": false,
     "start_time": "2025-07-23T12:56:43.944075",
     "status": "completed"
    },
    "tags": []
   },
   "source": [
    "# Overall"
   ]
  },
  {
   "cell_type": "markdown",
   "id": "bdee4871",
   "metadata": {
    "papermill": {
     "duration": 0.01222,
     "end_time": "2025-07-23T12:56:43.998879",
     "exception": false,
     "start_time": "2025-07-23T12:56:43.986659",
     "status": "completed"
    },
    "tags": []
   },
   "source": [
    "Fairness\n",
    "Main fairness target: Equalized Odds. Seems to be a better fit than equal opportunity, since we're not only interested in Y = 1. Seems to be a better fit than demographic parity, since we also care about accuracy, not just equal distribution of preds.\n",
    "\n",
    "Pick column for computation of fairness metrics\n",
    "\n",
    "Performance\n",
    "Overall performance measures, most interesting in relation to the measures split by group below"
   ]
  },
  {
   "cell_type": "code",
   "execution_count": 56,
   "id": "c4e067c6",
   "metadata": {
    "execution": {
     "iopub.execute_input": "2025-07-23T12:56:44.025710Z",
     "iopub.status.busy": "2025-07-23T12:56:44.025279Z",
     "iopub.status.idle": "2025-07-23T12:56:44.034156Z",
     "shell.execute_reply": "2025-07-23T12:56:44.032952Z"
    },
    "papermill": {
     "duration": 0.02524,
     "end_time": "2025-07-23T12:56:44.035898",
     "exception": false,
     "start_time": "2025-07-23T12:56:44.010658",
     "status": "completed"
    },
    "tags": []
   },
   "outputs": [
    {
     "data": {
      "text/plain": [
       "accuracy                   0.225471\n",
       "balanced accuracy          0.551078\n",
       "f1                         0.246772\n",
       "precision                  0.140973\n",
       "false positive rate        0.886895\n",
       "false negative rate        0.010949\n",
       "selection rate             0.900000\n",
       "count                  89710.000000\n",
       "dtype: float64"
      ]
     },
     "execution_count": 56,
     "metadata": {},
     "output_type": "execute_result"
    }
   ],
   "source": [
    "metric_frame.overall"
   ]
  },
  {
   "cell_type": "markdown",
   "id": "e968fe9d",
   "metadata": {
    "papermill": {
     "duration": 0.022964,
     "end_time": "2025-07-23T12:56:44.083608",
     "exception": false,
     "start_time": "2025-07-23T12:56:44.060644",
     "status": "completed"
    },
    "tags": []
   },
   "source": [
    "By Group"
   ]
  },
  {
   "cell_type": "code",
   "execution_count": 57,
   "id": "ec325bce",
   "metadata": {
    "execution": {
     "iopub.execute_input": "2025-07-23T12:56:44.131086Z",
     "iopub.status.busy": "2025-07-23T12:56:44.129920Z",
     "iopub.status.idle": "2025-07-23T12:56:44.147670Z",
     "shell.execute_reply": "2025-07-23T12:56:44.146685Z"
    },
    "papermill": {
     "duration": 0.043849,
     "end_time": "2025-07-23T12:56:44.149522",
     "exception": false,
     "start_time": "2025-07-23T12:56:44.105673",
     "status": "completed"
    },
    "tags": []
   },
   "outputs": [
    {
     "data": {
      "text/html": [
       "<div>\n",
       "<style scoped>\n",
       "    .dataframe tbody tr th:only-of-type {\n",
       "        vertical-align: middle;\n",
       "    }\n",
       "\n",
       "    .dataframe tbody tr th {\n",
       "        vertical-align: top;\n",
       "    }\n",
       "\n",
       "    .dataframe thead th {\n",
       "        text-align: right;\n",
       "    }\n",
       "</style>\n",
       "<table border=\"1\" class=\"dataframe\">\n",
       "  <thead>\n",
       "    <tr style=\"text-align: right;\">\n",
       "      <th></th>\n",
       "      <th>accuracy</th>\n",
       "      <th>balanced accuracy</th>\n",
       "      <th>f1</th>\n",
       "      <th>precision</th>\n",
       "      <th>false positive rate</th>\n",
       "      <th>false negative rate</th>\n",
       "      <th>selection rate</th>\n",
       "      <th>count</th>\n",
       "    </tr>\n",
       "    <tr>\n",
       "      <th>majmin</th>\n",
       "      <th></th>\n",
       "      <th></th>\n",
       "      <th></th>\n",
       "      <th></th>\n",
       "      <th></th>\n",
       "      <th></th>\n",
       "      <th></th>\n",
       "      <th></th>\n",
       "    </tr>\n",
       "  </thead>\n",
       "  <tbody>\n",
       "    <tr>\n",
       "      <th>majority</th>\n",
       "      <td>0.241159</td>\n",
       "      <td>0.558080</td>\n",
       "      <td>0.256161</td>\n",
       "      <td>0.147139</td>\n",
       "      <td>0.872680</td>\n",
       "      <td>0.011160</td>\n",
       "      <td>0.888029</td>\n",
       "      <td>69170.0</td>\n",
       "    </tr>\n",
       "    <tr>\n",
       "      <th>minority</th>\n",
       "      <td>0.172639</td>\n",
       "      <td>0.528005</td>\n",
       "      <td>0.216216</td>\n",
       "      <td>0.121363</td>\n",
       "      <td>0.933854</td>\n",
       "      <td>0.010135</td>\n",
       "      <td>0.940312</td>\n",
       "      <td>20540.0</td>\n",
       "    </tr>\n",
       "  </tbody>\n",
       "</table>\n",
       "</div>"
      ],
      "text/plain": [
       "          accuracy  balanced accuracy        f1  precision  \\\n",
       "majmin                                                       \n",
       "majority  0.241159           0.558080  0.256161   0.147139   \n",
       "minority  0.172639           0.528005  0.216216   0.121363   \n",
       "\n",
       "          false positive rate  false negative rate  selection rate    count  \n",
       "majmin                                                                       \n",
       "majority             0.872680             0.011160        0.888029  69170.0  \n",
       "minority             0.933854             0.010135        0.940312  20540.0  "
      ]
     },
     "execution_count": 57,
     "metadata": {},
     "output_type": "execute_result"
    }
   ],
   "source": [
    "metric_frame.by_group"
   ]
  },
  {
   "cell_type": "code",
   "execution_count": 58,
   "id": "a9ddbe63",
   "metadata": {
    "execution": {
     "iopub.execute_input": "2025-07-23T12:56:44.198474Z",
     "iopub.status.busy": "2025-07-23T12:56:44.197549Z",
     "iopub.status.idle": "2025-07-23T12:56:46.883694Z",
     "shell.execute_reply": "2025-07-23T12:56:46.882556Z"
    },
    "papermill": {
     "duration": 2.711866,
     "end_time": "2025-07-23T12:56:46.885706",
     "exception": false,
     "start_time": "2025-07-23T12:56:44.173840",
     "status": "completed"
    },
    "tags": []
   },
   "outputs": [
    {
     "data": {
      "text/plain": [
       "array([[<Axes: title={'center': 'accuracy'}, xlabel='majmin'>,\n",
       "        <Axes: title={'center': 'balanced accuracy'}, xlabel='majmin'>,\n",
       "        <Axes: title={'center': 'f1'}, xlabel='majmin'>],\n",
       "       [<Axes: title={'center': 'precision'}, xlabel='majmin'>,\n",
       "        <Axes: title={'center': 'false positive rate'}, xlabel='majmin'>,\n",
       "        <Axes: title={'center': 'false negative rate'}, xlabel='majmin'>],\n",
       "       [<Axes: title={'center': 'selection rate'}, xlabel='majmin'>,\n",
       "        <Axes: title={'center': 'count'}, xlabel='majmin'>,\n",
       "        <Axes: xlabel='majmin'>]], dtype=object)"
      ]
     },
     "execution_count": 58,
     "metadata": {},
     "output_type": "execute_result"
    },
    {
     "data": {
      "image/png": "[encoded data removed]",
      "text/plain": [
       "<Figure size 1200x800 with 9 Axes>"
      ]
     },
     "metadata": {},
     "output_type": "display_data"
    }
   ],
   "source": [
    "# In a graphic\n",
    "metric_frame.by_group.plot.bar(\n",
    "    subplots=True,\n",
    "    layout=[3, 3],\n",
    "    legend=False,\n",
    "    figsize=[12, 8],\n",
    "    title=\"Show all metrics\",\n",
    ")"
   ]
  },
  {
   "cell_type": "markdown",
   "id": "f57a0bac",
   "metadata": {
    "papermill": {
     "duration": 0.023828,
     "end_time": "2025-07-23T12:56:46.935952",
     "exception": false,
     "start_time": "2025-07-23T12:56:46.912124",
     "status": "completed"
    },
    "tags": []
   },
   "source": [
    "# Final Output"
   ]
  },
  {
   "cell_type": "code",
   "execution_count": 59,
   "id": "96d280a3",
   "metadata": {
    "execution": {
     "iopub.execute_input": "2025-07-23T12:56:46.986183Z",
     "iopub.status.busy": "2025-07-23T12:56:46.985467Z",
     "iopub.status.idle": "2025-07-23T12:56:46.994648Z",
     "shell.execute_reply": "2025-07-23T12:56:46.993725Z"
    },
    "papermill": {
     "duration": 0.036201,
     "end_time": "2025-07-23T12:56:46.996308",
     "exception": false,
     "start_time": "2025-07-23T12:56:46.960107",
     "status": "completed"
    },
    "tags": []
   },
   "outputs": [
    {
     "data": {
      "text/plain": [
       "4"
      ]
     },
     "execution_count": 59,
     "metadata": {},
     "output_type": "execute_result"
    }
   ],
   "source": [
    "sub_universes = universe_analysis.generate_sub_universes()\n",
    "len(sub_universes)"
   ]
  },
  {
   "cell_type": "code",
   "execution_count": 60,
   "id": "92adf7ba",
   "metadata": {
    "execution": {
     "iopub.execute_input": "2025-07-23T12:56:47.049114Z",
     "iopub.status.busy": "2025-07-23T12:56:47.048093Z",
     "iopub.status.idle": "2025-07-23T12:56:47.055254Z",
     "shell.execute_reply": "2025-07-23T12:56:47.054274Z"
    },
    "papermill": {
     "duration": 0.03473,
     "end_time": "2025-07-23T12:56:47.057087",
     "exception": false,
     "start_time": "2025-07-23T12:56:47.022357",
     "status": "completed"
    },
    "tags": []
   },
   "outputs": [],
   "source": [
    "def filter_sub_universe_data(sub_universe, org_test):\n",
    "    # Keep all rows — no filtering\n",
    "    keep_rows_mask = np.ones(org_test.shape[0], dtype=bool)\n",
    "\n",
    "    print(f\"[INFO] Keeping all rows: {keep_rows_mask.sum()} rows retained.\")\n",
    "    return keep_rows_mask"
   ]
  },
  {
   "cell_type": "code",
   "execution_count": 61,
   "id": "4a759155",
   "metadata": {
    "execution": {
     "iopub.execute_input": "2025-07-23T12:56:47.108593Z",
     "iopub.status.busy": "2025-07-23T12:56:47.107523Z",
     "iopub.status.idle": "2025-07-23T12:56:58.539445Z",
     "shell.execute_reply": "2025-07-23T12:56:58.538362Z"
    },
    "papermill": {
     "duration": 11.459165,
     "end_time": "2025-07-23T12:56:58.541137",
     "exception": false,
     "start_time": "2025-07-23T12:56:47.081972",
     "status": "completed"
    },
    "tags": []
   },
   "outputs": [
    {
     "name": "stdout",
     "output_type": "stream",
     "text": [
      "Stopping execution_time clock.\n",
      "[INFO] Keeping all rows: 89710 rows retained.\n"
     ]
    },
    {
     "name": "stdout",
     "output_type": "stream",
     "text": [
      "[INFO] Keeping all rows: 89710 rows retained.\n"
     ]
    },
    {
     "name": "stdout",
     "output_type": "stream",
     "text": [
      "[INFO] Keeping all rows: 89710 rows retained.\n"
     ]
    },
    {
     "name": "stdout",
     "output_type": "stream",
     "text": [
      "[INFO] Keeping all rows: 89710 rows retained.\n"
     ]
    },
    {
     "data": {
      "text/html": [
       "<div>\n",
       "<style scoped>\n",
       "    .dataframe tbody tr th:only-of-type {\n",
       "        vertical-align: middle;\n",
       "    }\n",
       "\n",
       "    .dataframe tbody tr th {\n",
       "        vertical-align: top;\n",
       "    }\n",
       "\n",
       "    .dataframe thead th {\n",
       "        text-align: right;\n",
       "    }\n",
       "</style>\n",
       "<table border=\"1\" class=\"dataframe\">\n",
       "  <thead>\n",
       "    <tr style=\"text-align: right;\">\n",
       "      <th></th>\n",
       "      <th>run_no</th>\n",
       "      <th>universe_id</th>\n",
       "      <th>universe_settings</th>\n",
       "      <th>execution_time</th>\n",
       "      <th>test_size_n</th>\n",
       "      <th>test_size_frac</th>\n",
       "      <th>fair_main_equalized_odds_difference</th>\n",
       "      <th>fair_main_equalized_odds_ratio</th>\n",
       "      <th>fair_main_demographic_parity_difference</th>\n",
       "      <th>fair_main_demographic_parity_ratio</th>\n",
       "      <th>...</th>\n",
       "      <th>perf_grp_precision_0</th>\n",
       "      <th>perf_grp_precision_1</th>\n",
       "      <th>perf_grp_false positive rate_0</th>\n",
       "      <th>perf_grp_false positive rate_1</th>\n",
       "      <th>perf_grp_false negative rate_0</th>\n",
       "      <th>perf_grp_false negative rate_1</th>\n",
       "      <th>perf_grp_selection rate_0</th>\n",
       "      <th>perf_grp_selection rate_1</th>\n",
       "      <th>perf_grp_count_0</th>\n",
       "      <th>perf_grp_count_1</th>\n",
       "    </tr>\n",
       "  </thead>\n",
       "  <tbody>\n",
       "    <tr>\n",
       "      <th>0</th>\n",
       "      <td>6</td>\n",
       "      <td>2233abf9c774317f7713a5c1bb407f66</td>\n",
       "      <td>{\"cutoff\": \"quantile_0.1\", \"eval_fairness_grou...</td>\n",
       "      <td>44.942046</td>\n",
       "      <td>89710</td>\n",
       "      <td>1.0</td>\n",
       "      <td>0.061174</td>\n",
       "      <td>0.934493</td>\n",
       "      <td>0.052282</td>\n",
       "      <td>0.944399</td>\n",
       "      <td>...</td>\n",
       "      <td>NaN</td>\n",
       "      <td>NaN</td>\n",
       "      <td>NaN</td>\n",
       "      <td>NaN</td>\n",
       "      <td>NaN</td>\n",
       "      <td>NaN</td>\n",
       "      <td>NaN</td>\n",
       "      <td>NaN</td>\n",
       "      <td>NaN</td>\n",
       "      <td>NaN</td>\n",
       "    </tr>\n",
       "    <tr>\n",
       "      <th>0</th>\n",
       "      <td>6</td>\n",
       "      <td>2233abf9c774317f7713a5c1bb407f66</td>\n",
       "      <td>{\"cutoff\": \"quantile_0.1\", \"eval_fairness_grou...</td>\n",
       "      <td>44.942046</td>\n",
       "      <td>89710</td>\n",
       "      <td>1.0</td>\n",
       "      <td>0.061174</td>\n",
       "      <td>0.934493</td>\n",
       "      <td>0.052282</td>\n",
       "      <td>0.944399</td>\n",
       "      <td>...</td>\n",
       "      <td>0.121363</td>\n",
       "      <td>0.147139</td>\n",
       "      <td>0.933854</td>\n",
       "      <td>0.872680</td>\n",
       "      <td>0.010135</td>\n",
       "      <td>0.011160</td>\n",
       "      <td>0.940312</td>\n",
       "      <td>0.888029</td>\n",
       "      <td>20540.0</td>\n",
       "      <td>69170.0</td>\n",
       "    </tr>\n",
       "    <tr>\n",
       "      <th>0</th>\n",
       "      <td>6</td>\n",
       "      <td>2233abf9c774317f7713a5c1bb407f66</td>\n",
       "      <td>{\"cutoff\": \"quantile_0.25\", \"eval_fairness_gro...</td>\n",
       "      <td>44.942046</td>\n",
       "      <td>89710</td>\n",
       "      <td>1.0</td>\n",
       "      <td>0.133523</td>\n",
       "      <td>0.837809</td>\n",
       "      <td>0.114422</td>\n",
       "      <td>0.863494</td>\n",
       "      <td>...</td>\n",
       "      <td>NaN</td>\n",
       "      <td>NaN</td>\n",
       "      <td>NaN</td>\n",
       "      <td>NaN</td>\n",
       "      <td>NaN</td>\n",
       "      <td>NaN</td>\n",
       "      <td>NaN</td>\n",
       "      <td>NaN</td>\n",
       "      <td>NaN</td>\n",
       "      <td>NaN</td>\n",
       "    </tr>\n",
       "    <tr>\n",
       "      <th>0</th>\n",
       "      <td>6</td>\n",
       "      <td>2233abf9c774317f7713a5c1bb407f66</td>\n",
       "      <td>{\"cutoff\": \"quantile_0.25\", \"eval_fairness_gro...</td>\n",
       "      <td>44.942046</td>\n",
       "      <td>89710</td>\n",
       "      <td>1.0</td>\n",
       "      <td>0.133523</td>\n",
       "      <td>0.837809</td>\n",
       "      <td>0.114422</td>\n",
       "      <td>0.863494</td>\n",
       "      <td>...</td>\n",
       "      <td>0.131091</td>\n",
       "      <td>0.172995</td>\n",
       "      <td>0.823245</td>\n",
       "      <td>0.689722</td>\n",
       "      <td>0.046875</td>\n",
       "      <td>0.052407</td>\n",
       "      <td>0.838218</td>\n",
       "      <td>0.723796</td>\n",
       "      <td>20540.0</td>\n",
       "      <td>69170.0</td>\n",
       "    </tr>\n",
       "  </tbody>\n",
       "</table>\n",
       "<p>4 rows × 50 columns</p>\n",
       "</div>"
      ],
      "text/plain": [
       "  run_no                       universe_id  \\\n",
       "0      6  2233abf9c774317f7713a5c1bb407f66   \n",
       "0      6  2233abf9c774317f7713a5c1bb407f66   \n",
       "0      6  2233abf9c774317f7713a5c1bb407f66   \n",
       "0      6  2233abf9c774317f7713a5c1bb407f66   \n",
       "\n",
       "                                   universe_settings  execution_time  \\\n",
       "0  {\"cutoff\": \"quantile_0.1\", \"eval_fairness_grou...       44.942046   \n",
       "0  {\"cutoff\": \"quantile_0.1\", \"eval_fairness_grou...       44.942046   \n",
       "0  {\"cutoff\": \"quantile_0.25\", \"eval_fairness_gro...       44.942046   \n",
       "0  {\"cutoff\": \"quantile_0.25\", \"eval_fairness_gro...       44.942046   \n",
       "\n",
       "   test_size_n  test_size_frac  fair_main_equalized_odds_difference  \\\n",
       "0        89710             1.0                             0.061174   \n",
       "0        89710             1.0                             0.061174   \n",
       "0        89710             1.0                             0.133523   \n",
       "0        89710             1.0                             0.133523   \n",
       "\n",
       "   fair_main_equalized_odds_ratio  fair_main_demographic_parity_difference  \\\n",
       "0                        0.934493                                 0.052282   \n",
       "0                        0.934493                                 0.052282   \n",
       "0                        0.837809                                 0.114422   \n",
       "0                        0.837809                                 0.114422   \n",
       "\n",
       "   fair_main_demographic_parity_ratio  ...  perf_grp_precision_0  \\\n",
       "0                            0.944399  ...                   NaN   \n",
       "0                            0.944399  ...              0.121363   \n",
       "0                            0.863494  ...                   NaN   \n",
       "0                            0.863494  ...              0.131091   \n",
       "\n",
       "   perf_grp_precision_1  perf_grp_false positive rate_0  \\\n",
       "0                   NaN                             NaN   \n",
       "0              0.147139                        0.933854   \n",
       "0                   NaN                             NaN   \n",
       "0              0.172995                        0.823245   \n",
       "\n",
       "   perf_grp_false positive rate_1  perf_grp_false negative rate_0  \\\n",
       "0                             NaN                             NaN   \n",
       "0                        0.872680                        0.010135   \n",
       "0                             NaN                             NaN   \n",
       "0                        0.689722                        0.046875   \n",
       "\n",
       "   perf_grp_false negative rate_1  perf_grp_selection rate_0  \\\n",
       "0                             NaN                        NaN   \n",
       "0                        0.011160                   0.940312   \n",
       "0                             NaN                        NaN   \n",
       "0                        0.052407                   0.838218   \n",
       "\n",
       "   perf_grp_selection rate_1  perf_grp_count_0  perf_grp_count_1  \n",
       "0                        NaN               NaN               NaN  \n",
       "0                   0.888029           20540.0           69170.0  \n",
       "0                        NaN               NaN               NaN  \n",
       "0                   0.723796           20540.0           69170.0  \n",
       "\n",
       "[4 rows x 50 columns]"
      ]
     },
     "execution_count": 61,
     "metadata": {},
     "output_type": "execute_result"
    }
   ],
   "source": [
    "final_output = universe_analysis.generate_final_output(\n",
    "    y_pred_prob=probs_test,\n",
    "    y_test=y_true,\n",
    "    org_test=org_test,\n",
    "    filter_data=filter_sub_universe_data,\n",
    "    cp_metrics_df=cp_metrics_df,\n",
    "    save=True,\n",
    ")\n",
    "final_output"
   ]
  },
  {
   "cell_type": "code",
   "execution_count": null,
   "id": "721ff514-cb11-46f8-b6fc-50392f74b5cb",
   "metadata": {
    "papermill": {
     "duration": 0.024805,
     "end_time": "2025-07-23T12:56:58.594398",
     "exception": false,
     "start_time": "2025-07-23T12:56:58.569593",
     "status": "completed"
    },
    "tags": []
   },
   "outputs": [],
   "source": []
  }
 ],
 "metadata": {
  "celltoolbar": "Tags",
  "kernelspec": {
   "display_name": "Python (CMA Fairness)",
   "language": "python",
   "name": "cma_fair_env"
  },
  "language_info": {
   "codemirror_mode": {
    "name": "ipython",
    "version": 3
   },
   "file_extension": ".py",
   "mimetype": "text/x-python",
   "name": "python",
   "nbconvert_exporter": "python",
   "pygments_lexer": "ipython3",
   "version": "3.10.12"
  },
  "papermill": {
   "default_parameters": {},
   "duration": 60.587166,
   "end_time": "2025-07-23T12:56:59.338477",
   "environment_variables": {},
   "exception": null,
   "input_path": "universe_analysis.ipynb",
   "output_path": "output/runs/6/notebooks/m_6-2233abf9c774317f7713a5c1bb407f66.ipynb",
   "parameters": {
    "output_dir": "output",
    "run_no": "6",
    "seed": "2023",
    "universe": "{\"cutoff\": [\"quantile_0.1\", \"quantile_0.25\"], \"eval_fairness_grouping\": [\"majority-minority\", \"nationality-all\"], \"exclude_features\": \"age\", \"exclude_subgroups\": \"keep-all\", \"model\": \"gbm\", \"scale\": \"scale\"}",
    "universe_id": "2233abf9c774317f7713a5c1bb407f66"
   },
   "start_time": "2025-07-23T12:55:58.751311",
   "version": "2.6.0"
  }
 },
 "nbformat": 4,
 "nbformat_minor": 5
}