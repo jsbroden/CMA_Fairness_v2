{
 "cells": [
  {
   "cell_type": "code",
   "execution_count": 1,
   "id": "f159f837-637b-42ba-96b5-ec9a68c44524",
   "metadata": {
    "execution": {
     "iopub.execute_input": "2025-07-23T12:52:53.805380Z",
     "iopub.status.busy": "2025-07-23T12:52:53.804805Z",
     "iopub.status.idle": "2025-07-23T12:52:53.820011Z",
     "shell.execute_reply": "2025-07-23T12:52:53.818909Z"
    },
    "papermill": {
     "duration": 0.038147,
     "end_time": "2025-07-23T12:52:53.822025",
     "exception": false,
     "start_time": "2025-07-23T12:52:53.783878",
     "status": "completed"
    },
    "tags": []
   },
   "outputs": [
    {
     "name": "stdout",
     "output_type": "stream",
     "text": [
      "/dss/dsshome1/0C/ra93lal2/cma/CMA_Fairness_v2\n"
     ]
    },
    {
     "name": "stderr",
     "output_type": "stream",
     "text": [
      "/dss/dsshome1/0C/ra93lal2/.local/share/virtualenvs/CMA_Fairness_v2-3j10GkSs/lib/python3.10/site-packages/IPython/core/magics/osm.py:393: UserWarning: This is now an optional IPython functionality, using bookmarks requires you to install the `pickleshare` library.\n",
      "  bkms = self.shell.db.get('bookmarks', {})\n",
      "/dss/dsshome1/0C/ra93lal2/.local/share/virtualenvs/CMA_Fairness_v2-3j10GkSs/lib/python3.10/site-packages/IPython/core/magics/osm.py:417: UserWarning: This is now an optional IPython functionality, setting dhist requires you to install the `pickleshare` library.\n",
      "  self.shell.db['dhist'] = compress_dhist(dhist)[-100:]\n"
     ]
    }
   ],
   "source": [
    "%cd ~/cma/CMA_Fairness_v2"
   ]
  },
  {
   "cell_type": "markdown",
   "id": "de2603b9",
   "metadata": {
    "papermill": {
     "duration": 0.013978,
     "end_time": "2025-07-23T12:52:53.855570",
     "exception": false,
     "start_time": "2025-07-23T12:52:53.841592",
     "status": "completed"
    },
    "tags": []
   },
   "source": [
    "The following cell holds the definition of our parameters, these values can be overriden by rendering the with e.g. the following command:\n",
    "\n",
    "papermill -p alpha 0.2 -p ratio 0.3 universe_analysis.ipynb output/test_run.ipynb"
   ]
  },
  {
   "cell_type": "code",
   "execution_count": 2,
   "id": "a80968a0-40bb-4fa9-85ef-2d5eefb01975",
   "metadata": {
    "execution": {
     "iopub.execute_input": "2025-07-23T12:52:53.890054Z",
     "iopub.status.busy": "2025-07-23T12:52:53.889519Z",
     "iopub.status.idle": "2025-07-23T12:52:53.896604Z",
     "shell.execute_reply": "2025-07-23T12:52:53.895476Z"
    },
    "papermill": {
     "duration": 0.028543,
     "end_time": "2025-07-23T12:52:53.898217",
     "exception": false,
     "start_time": "2025-07-23T12:52:53.869674",
     "status": "completed"
    },
    "tags": []
   },
   "outputs": [
    {
     "name": "stdout",
     "output_type": "stream",
     "text": [
      "Current working directory: /dss/dsshome1/0C/ra93lal2/cma/CMA_Fairness_v2\n"
     ]
    }
   ],
   "source": [
    "import os\n",
    "print(\"Current working directory:\", os.getcwd())"
   ]
  },
  {
   "cell_type": "code",
   "execution_count": 3,
   "id": "2dce4c03",
   "metadata": {
    "execution": {
     "iopub.execute_input": "2025-07-23T12:52:53.933674Z",
     "iopub.status.busy": "2025-07-23T12:52:53.933158Z",
     "iopub.status.idle": "2025-07-23T12:52:53.940069Z",
     "shell.execute_reply": "2025-07-23T12:52:53.938950Z"
    },
    "papermill": {
     "duration": 0.028041,
     "end_time": "2025-07-23T12:52:53.941998",
     "exception": false,
     "start_time": "2025-07-23T12:52:53.913957",
     "status": "completed"
    },
    "tags": [
     "parameters"
    ]
   },
   "outputs": [],
   "source": [
    "run_no = 0\n",
    "universe_id = \"test\"\n",
    "universe = {\n",
    "    \"scale\": \"scale\", # \"scale\", \"do-not-scale\",\n",
    "    \"model\": \"elasticnet\", # \"logreg\", \"penalized_logreg\", \"rf\", \"gbm\", \"elasticnet\"\n",
    "    \"cutoff\": [\"quantile_0.15\", \"quantile_0.30\"],\n",
    "    \"exclude_features\": \"age\", # \"none\", \"nationality\", \"sex\", \"nationality-sex\", \"age\"\n",
    "    \"exclude_subgroups\": \"keep-all\", # \"keep-all\", \"drop-non-german\"\n",
    "    \"eval_fairness_grouping\": [\"majority-minority\", \"nationality-all\"]\n",
    "}\n",
    "\n",
    "output_dir=\"./output\"\n",
    "seed=0"
   ]
  },
  {
   "cell_type": "code",
   "execution_count": 4,
   "id": "4af7b64d",
   "metadata": {
    "execution": {
     "iopub.execute_input": "2025-07-23T12:52:53.980655Z",
     "iopub.status.busy": "2025-07-23T12:52:53.979777Z",
     "iopub.status.idle": "2025-07-23T12:52:53.986172Z",
     "shell.execute_reply": "2025-07-23T12:52:53.984931Z"
    },
    "papermill": {
     "duration": 0.027924,
     "end_time": "2025-07-23T12:52:53.988100",
     "exception": false,
     "start_time": "2025-07-23T12:52:53.960176",
     "status": "completed"
    },
    "tags": [
     "injected-parameters"
    ]
   },
   "outputs": [],
   "source": [
    "# Parameters\n",
    "universe_id = \"bd5eb995e959eab90b9c2501c38dbb11\"\n",
    "run_no = \"6\"\n",
    "universe = \"{\\\"cutoff\\\": [\\\"quantile_0.1\\\", \\\"quantile_0.25\\\"], \\\"eval_fairness_grouping\\\": [\\\"majority-minority\\\", \\\"nationality-all\\\"], \\\"exclude_features\\\": \\\"none\\\", \\\"exclude_subgroups\\\": \\\"keep-all\\\", \\\"model\\\": \\\"penalized_logreg\\\", \\\"scale\\\": \\\"scale\\\"}\"\n",
    "output_dir = \"output\"\n",
    "seed = \"2023\"\n"
   ]
  },
  {
   "cell_type": "code",
   "execution_count": 5,
   "id": "1650acaf",
   "metadata": {
    "execution": {
     "iopub.execute_input": "2025-07-23T12:52:54.026580Z",
     "iopub.status.busy": "2025-07-23T12:52:54.026136Z",
     "iopub.status.idle": "2025-07-23T12:52:54.031457Z",
     "shell.execute_reply": "2025-07-23T12:52:54.030300Z"
    },
    "papermill": {
     "duration": 0.026447,
     "end_time": "2025-07-23T12:52:54.033523",
     "exception": false,
     "start_time": "2025-07-23T12:52:54.007076",
     "status": "completed"
    },
    "tags": []
   },
   "outputs": [],
   "source": [
    "import json\n",
    "# Parse universe into dict if it is passed as a string\n",
    "if isinstance(universe, str):\n",
    "    universe = json.loads(universe)"
   ]
  },
  {
   "cell_type": "code",
   "execution_count": 6,
   "id": "16620c48",
   "metadata": {
    "execution": {
     "iopub.execute_input": "2025-07-23T12:52:54.070786Z",
     "iopub.status.busy": "2025-07-23T12:52:54.070273Z",
     "iopub.status.idle": "2025-07-23T12:52:54.124249Z",
     "shell.execute_reply": "2025-07-23T12:52:54.123210Z"
    },
    "papermill": {
     "duration": 0.075045,
     "end_time": "2025-07-23T12:52:54.126370",
     "exception": false,
     "start_time": "2025-07-23T12:52:54.051325",
     "status": "completed"
    },
    "tags": []
   },
   "outputs": [],
   "source": [
    "# Auto-reload the custom package\n",
    "%load_ext autoreload\n",
    "%autoreload 1\n",
    "%aimport fairness_multiverse"
   ]
  },
  {
   "cell_type": "code",
   "execution_count": 7,
   "id": "01c5c9f3",
   "metadata": {
    "execution": {
     "iopub.execute_input": "2025-07-23T12:52:54.164670Z",
     "iopub.status.busy": "2025-07-23T12:52:54.164131Z",
     "iopub.status.idle": "2025-07-23T12:52:56.367214Z",
     "shell.execute_reply": "2025-07-23T12:52:56.365917Z"
    },
    "papermill": {
     "duration": 2.223806,
     "end_time": "2025-07-23T12:52:56.369565",
     "exception": false,
     "start_time": "2025-07-23T12:52:54.145759",
     "status": "completed"
    },
    "tags": []
   },
   "outputs": [],
   "source": [
    "from fairness_multiverse.universe import UniverseAnalysis\n",
    "\n",
    "universe_analysis = UniverseAnalysis(\n",
    "    run_no = run_no,\n",
    "    universe_id = universe_id,\n",
    "    universe = universe,\n",
    "    output_dir=output_dir,\n",
    ")"
   ]
  },
  {
   "cell_type": "code",
   "execution_count": 8,
   "id": "106241f5",
   "metadata": {
    "execution": {
     "iopub.execute_input": "2025-07-23T12:52:56.391688Z",
     "iopub.status.busy": "2025-07-23T12:52:56.391211Z",
     "iopub.status.idle": "2025-07-23T12:52:56.399023Z",
     "shell.execute_reply": "2025-07-23T12:52:56.397803Z"
    },
    "papermill": {
     "duration": 0.020751,
     "end_time": "2025-07-23T12:52:56.401042",
     "exception": false,
     "start_time": "2025-07-23T12:52:56.380291",
     "status": "completed"
    },
    "tags": []
   },
   "outputs": [
    {
     "name": "stdout",
     "output_type": "stream",
     "text": [
      "Using Seed: 2023\n"
     ]
    }
   ],
   "source": [
    "import numpy as np\n",
    "parsed_seed = int(seed)\n",
    "np.random.seed(parsed_seed)\n",
    "print(f\"Using Seed: {parsed_seed}\")"
   ]
  },
  {
   "cell_type": "markdown",
   "id": "e0ebdc57",
   "metadata": {
    "papermill": {
     "duration": 0.009556,
     "end_time": "2025-07-23T12:52:56.420649",
     "exception": false,
     "start_time": "2025-07-23T12:52:56.411093",
     "status": "completed"
    },
    "tags": []
   },
   "source": [
    "# Loading Data"
   ]
  },
  {
   "cell_type": "markdown",
   "id": "681925a3",
   "metadata": {
    "papermill": {
     "duration": 0.009421,
     "end_time": "2025-07-23T12:52:56.439707",
     "exception": false,
     "start_time": "2025-07-23T12:52:56.430286",
     "status": "completed"
    },
    "tags": []
   },
   "source": [
    "Load siab_train, siab_test, siab_calib and/or \n",
    "load siab_train_features, siab_train_labels"
   ]
  },
  {
   "cell_type": "code",
   "execution_count": 9,
   "id": "f0496b8a",
   "metadata": {
    "execution": {
     "iopub.execute_input": "2025-07-23T12:52:56.481929Z",
     "iopub.status.busy": "2025-07-23T12:52:56.481350Z",
     "iopub.status.idle": "2025-07-23T12:52:56.488491Z",
     "shell.execute_reply": "2025-07-23T12:52:56.487277Z"
    },
    "papermill": {
     "duration": 0.035507,
     "end_time": "2025-07-23T12:52:56.490438",
     "exception": false,
     "start_time": "2025-07-23T12:52:56.454931",
     "status": "completed"
    },
    "tags": []
   },
   "outputs": [],
   "source": [
    "# Do I need to load siab? Delete this cell?\n",
    "\n",
    "#from pathlib import Path\n",
    "#import pandas as pd\n",
    "#\n",
    "## File paths\n",
    "#raw_file = Path(\"data/raw/siab.csv\")\n",
    "#cache_file = Path(\"data/siab_cached.csv.gz\")\n",
    "#\n",
    "## Ensure cache directory exists\n",
    "#cache_file.parent.mkdir(parents=True, exist_ok=True)\n",
    "#\n",
    "## Load with simple caching\n",
    "#if cache_file.exists():\n",
    "#    print(f\"Loading SIAB data from cache: {cache_file}\")\n",
    "#    siab = pd.read_csv(cache_file, compression='gzip')\n",
    "#else:\n",
    "#    print(f\"Cache not found. Reading raw SIAB data: {raw_file}\")\n",
    "#    siab = pd.read_csv(raw_file)\n",
    "#    siab.to_csv(cache_file, index=False, compression='gzip')\n",
    "#    print(f\"Cached SIAB data to: {cache_file}\")\n",
    "#\n",
    "## Now use `siab` DataFrame as needed\n",
    "#print(siab.shape)\n"
   ]
  },
  {
   "cell_type": "code",
   "execution_count": 10,
   "id": "a0edb063",
   "metadata": {
    "execution": {
     "iopub.execute_input": "2025-07-23T12:52:56.531383Z",
     "iopub.status.busy": "2025-07-23T12:52:56.530601Z",
     "iopub.status.idle": "2025-07-23T12:52:56.961084Z",
     "shell.execute_reply": "2025-07-23T12:52:56.960062Z"
    },
    "papermill": {
     "duration": 0.453447,
     "end_time": "2025-07-23T12:52:56.963239",
     "exception": false,
     "start_time": "2025-07-23T12:52:56.509792",
     "status": "completed"
    },
    "tags": []
   },
   "outputs": [],
   "source": [
    "import pandas as pd\n",
    "\n",
    "X_train = pd.read_csv(\"./data/X_train.csv\")\n",
    "y_train = pd.read_csv(\"./data/y_train.csv\")"
   ]
  },
  {
   "cell_type": "code",
   "execution_count": 11,
   "id": "63d08085",
   "metadata": {
    "execution": {
     "iopub.execute_input": "2025-07-23T12:52:57.004336Z",
     "iopub.status.busy": "2025-07-23T12:52:57.003280Z",
     "iopub.status.idle": "2025-07-23T12:52:58.566353Z",
     "shell.execute_reply": "2025-07-23T12:52:58.565094Z"
    },
    "papermill": {
     "duration": 1.585788,
     "end_time": "2025-07-23T12:52:58.569257",
     "exception": false,
     "start_time": "2025-07-23T12:52:56.983469",
     "status": "completed"
    },
    "tags": []
   },
   "outputs": [],
   "source": [
    "X_test = pd.read_csv(\"./data/X_test.csv\")\n",
    "y_true = pd.read_csv(\"./data/y_test.csv\")"
   ]
  },
  {
   "cell_type": "code",
   "execution_count": 12,
   "id": "98a8d0fa-1d3d-4ed8-bb2c-281470e24add",
   "metadata": {
    "execution": {
     "iopub.execute_input": "2025-07-23T12:52:58.621872Z",
     "iopub.status.busy": "2025-07-23T12:52:58.621433Z",
     "iopub.status.idle": "2025-07-23T12:53:00.185460Z",
     "shell.execute_reply": "2025-07-23T12:53:00.184255Z"
    },
    "papermill": {
     "duration": 1.591247,
     "end_time": "2025-07-23T12:53:00.187639",
     "exception": false,
     "start_time": "2025-07-23T12:52:58.596392",
     "status": "completed"
    },
    "tags": []
   },
   "outputs": [],
   "source": [
    "# Calibration data for conformal\n",
    "X_calib = pd.read_csv(\"./data/X_calib.csv\")\n",
    "y_calib = pd.read_csv(\"./data/y_calib.csv\")"
   ]
  },
  {
   "cell_type": "code",
   "execution_count": 13,
   "id": "e6c733c5",
   "metadata": {
    "execution": {
     "iopub.execute_input": "2025-07-23T12:53:00.229875Z",
     "iopub.status.busy": "2025-07-23T12:53:00.229433Z",
     "iopub.status.idle": "2025-07-23T12:53:00.332546Z",
     "shell.execute_reply": "2025-07-23T12:53:00.331752Z"
    },
    "papermill": {
     "duration": 0.12652,
     "end_time": "2025-07-23T12:53:00.334978",
     "exception": false,
     "start_time": "2025-07-23T12:53:00.208458",
     "status": "completed"
    },
    "tags": []
   },
   "outputs": [],
   "source": [
    "# Auxiliary data needed downstream in the pipeline\n",
    "\n",
    "org_train = X_train.copy()\n",
    "org_test = X_test.copy()\n",
    "org_calib = X_calib.copy()"
   ]
  },
  {
   "cell_type": "markdown",
   "id": "0a4a1b33",
   "metadata": {
    "papermill": {
     "duration": 0.009773,
     "end_time": "2025-07-23T12:53:00.386490",
     "exception": false,
     "start_time": "2025-07-23T12:53:00.376717",
     "status": "completed"
    },
    "tags": []
   },
   "source": [
    "# Preprocessing Data"
   ]
  },
  {
   "cell_type": "code",
   "execution_count": 14,
   "id": "ca879031",
   "metadata": {
    "execution": {
     "iopub.execute_input": "2025-07-23T12:53:00.407754Z",
     "iopub.status.busy": "2025-07-23T12:53:00.407373Z",
     "iopub.status.idle": "2025-07-23T12:53:00.412725Z",
     "shell.execute_reply": "2025-07-23T12:53:00.411766Z"
    },
    "papermill": {
     "duration": 0.017699,
     "end_time": "2025-07-23T12:53:00.414238",
     "exception": false,
     "start_time": "2025-07-23T12:53:00.396539",
     "status": "completed"
    },
    "tags": []
   },
   "outputs": [],
   "source": [
    "# EXCLUDE PROTECTED FEATURES\n",
    "# ----------------------\n",
    "# \"exclude_features\": \"none\", # \"nationality\", \"sex\", \"nationality-sex\"\n",
    "\n",
    "excluded_features = universe[\"exclude_features\"].split(\"-\") # split, e.g.: \"nationality-sex\" -> [\"nationality\", \"sex\"]\n",
    "excluded_features_dictionary = {\n",
    "    \"nationality\": [\"maxdeutsch1\", \"maxdeutsch.Missing.\"],\n",
    "    \"sex\": [\"frau1\"],\n",
    "    \"age\": [\"age\"],\n",
    "}\n"
   ]
  },
  {
   "cell_type": "code",
   "execution_count": 15,
   "id": "b745ac60",
   "metadata": {
    "execution": {
     "iopub.execute_input": "2025-07-23T12:53:00.451876Z",
     "iopub.status.busy": "2025-07-23T12:53:00.451493Z",
     "iopub.status.idle": "2025-07-23T12:53:00.456999Z",
     "shell.execute_reply": "2025-07-23T12:53:00.456061Z"
    },
    "papermill": {
     "duration": 0.018222,
     "end_time": "2025-07-23T12:53:00.458449",
     "exception": false,
     "start_time": "2025-07-23T12:53:00.440227",
     "status": "completed"
    },
    "tags": []
   },
   "outputs": [],
   "source": [
    "# Code nice names to column names\n",
    "\n",
    "excluded_features_columns = [\n",
    "    excluded_features_dictionary[f] for f in excluded_features if len(f) > 0 and f != \"none\"\n",
    "]"
   ]
  },
  {
   "cell_type": "code",
   "execution_count": 16,
   "id": "f84f73a2",
   "metadata": {
    "execution": {
     "iopub.execute_input": "2025-07-23T12:53:00.480596Z",
     "iopub.status.busy": "2025-07-23T12:53:00.480205Z",
     "iopub.status.idle": "2025-07-23T12:53:00.485909Z",
     "shell.execute_reply": "2025-07-23T12:53:00.485091Z"
    },
    "papermill": {
     "duration": 0.018786,
     "end_time": "2025-07-23T12:53:00.487721",
     "exception": false,
     "start_time": "2025-07-23T12:53:00.468935",
     "status": "completed"
    },
    "tags": []
   },
   "outputs": [],
   "source": [
    "from utils import flatten_once\n",
    "\n",
    "excluded_features_columns = flatten_once(excluded_features_columns)"
   ]
  },
  {
   "cell_type": "code",
   "execution_count": 17,
   "id": "884dea22",
   "metadata": {
    "execution": {
     "iopub.execute_input": "2025-07-23T12:53:00.528447Z",
     "iopub.status.busy": "2025-07-23T12:53:00.527813Z",
     "iopub.status.idle": "2025-07-23T12:53:00.534654Z",
     "shell.execute_reply": "2025-07-23T12:53:00.533486Z"
    },
    "papermill": {
     "duration": 0.029827,
     "end_time": "2025-07-23T12:53:00.536271",
     "exception": false,
     "start_time": "2025-07-23T12:53:00.506444",
     "status": "completed"
    },
    "tags": []
   },
   "outputs": [],
   "source": [
    "if len(excluded_features_columns) > 0:\n",
    "    print(f\"Dropping features: {excluded_features_columns}\")\n",
    "    X_train.drop(excluded_features_columns, axis=1, inplace=True)"
   ]
  },
  {
   "cell_type": "code",
   "execution_count": 18,
   "id": "95ab8b16",
   "metadata": {
    "execution": {
     "iopub.execute_input": "2025-07-23T12:53:00.561558Z",
     "iopub.status.busy": "2025-07-23T12:53:00.560785Z",
     "iopub.status.idle": "2025-07-23T12:53:00.566202Z",
     "shell.execute_reply": "2025-07-23T12:53:00.565266Z"
    },
    "papermill": {
     "duration": 0.018676,
     "end_time": "2025-07-23T12:53:00.567759",
     "exception": false,
     "start_time": "2025-07-23T12:53:00.549083",
     "status": "completed"
    },
    "tags": []
   },
   "outputs": [],
   "source": [
    "if len(excluded_features_columns) > 0:\n",
    "    print(f\"Dropping features: {excluded_features_columns}\")\n",
    "    X_test.drop(excluded_features_columns, axis=1, inplace=True)"
   ]
  },
  {
   "cell_type": "code",
   "execution_count": 19,
   "id": "1853aaf5-fb9f-46cb-a2b5-8ea4ae2237e4",
   "metadata": {
    "execution": {
     "iopub.execute_input": "2025-07-23T12:53:00.590098Z",
     "iopub.status.busy": "2025-07-23T12:53:00.589552Z",
     "iopub.status.idle": "2025-07-23T12:53:00.594614Z",
     "shell.execute_reply": "2025-07-23T12:53:00.593696Z"
    },
    "papermill": {
     "duration": 0.017674,
     "end_time": "2025-07-23T12:53:00.596212",
     "exception": false,
     "start_time": "2025-07-23T12:53:00.578538",
     "status": "completed"
    },
    "tags": []
   },
   "outputs": [],
   "source": [
    "if len(excluded_features_columns) > 0:\n",
    "    print(f\"Dropping features: {excluded_features_columns}\")\n",
    "    X_calib.drop(excluded_features_columns, axis=1, inplace=True)"
   ]
  },
  {
   "cell_type": "code",
   "execution_count": 20,
   "id": "76c4dc6d",
   "metadata": {
    "execution": {
     "iopub.execute_input": "2025-07-23T12:53:00.618846Z",
     "iopub.status.busy": "2025-07-23T12:53:00.618292Z",
     "iopub.status.idle": "2025-07-23T12:53:00.623251Z",
     "shell.execute_reply": "2025-07-23T12:53:00.622246Z"
    },
    "papermill": {
     "duration": 0.017828,
     "end_time": "2025-07-23T12:53:00.624788",
     "exception": false,
     "start_time": "2025-07-23T12:53:00.606960",
     "status": "completed"
    },
    "tags": []
   },
   "outputs": [],
   "source": [
    "# EXCLUDE CERTAIN SUBGROUPS\n",
    "# ----------------------\n",
    "\n",
    "mode = universe.get(\"exclude_subgroups\", \"keep-all\") \n",
    "# Fetches the exclude_subgroups setting from the universe dict.\n",
    "# Defaults to \"keep-all\" if the key is missing."
   ]
  },
  {
   "cell_type": "code",
   "execution_count": 21,
   "id": "21994072",
   "metadata": {
    "execution": {
     "iopub.execute_input": "2025-07-23T12:53:00.647576Z",
     "iopub.status.busy": "2025-07-23T12:53:00.647021Z",
     "iopub.status.idle": "2025-07-23T12:53:00.652897Z",
     "shell.execute_reply": "2025-07-23T12:53:00.651967Z"
    },
    "papermill": {
     "duration": 0.018657,
     "end_time": "2025-07-23T12:53:00.654559",
     "exception": false,
     "start_time": "2025-07-23T12:53:00.635902",
     "status": "completed"
    },
    "tags": []
   },
   "outputs": [],
   "source": [
    "if mode == \"keep-all\":\n",
    "    keep_mask = pd.Series(True, index=org_train.index)\n",
    "\n",
    "# org_train contains the original feature columns from features_org (in Simson)\n",
    "# features_org contains unprocessed features, for me X_train at beginning ???\n",
    "# For keep-all, creates a boolean Series (keep_mask) of all True, so no rows are removed.\n",
    "\n",
    "elif mode == \"drop-non-german\":\n",
    "    keep_mask = org_train[\"maxdeutsch1\"] == 1 # ??? what about missing values?\n",
    "\n",
    "else:\n",
    "    raise ValueError(f\"Unsupported mode for exclude_subgroups: {mode}\")\n"
   ]
  },
  {
   "cell_type": "code",
   "execution_count": 22,
   "id": "71651440",
   "metadata": {
    "execution": {
     "iopub.execute_input": "2025-07-23T12:53:00.677572Z",
     "iopub.status.busy": "2025-07-23T12:53:00.676798Z",
     "iopub.status.idle": "2025-07-23T12:53:00.683012Z",
     "shell.execute_reply": "2025-07-23T12:53:00.682167Z"
    },
    "papermill": {
     "duration": 0.019222,
     "end_time": "2025-07-23T12:53:00.684550",
     "exception": false,
     "start_time": "2025-07-23T12:53:00.665328",
     "status": "completed"
    },
    "tags": []
   },
   "outputs": [],
   "source": [
    "n_drop = (~keep_mask).sum() # Calculates how many rows are set to be dropped\n",
    "if n_drop > 0:\n",
    "    pct = n_drop / len(keep_mask) * 100\n",
    "    print(f\"Dropping {n_drop} rows ({pct:.2f}%) where mode='{mode}'\")"
   ]
  },
  {
   "cell_type": "code",
   "execution_count": 23,
   "id": "5fb8eee5",
   "metadata": {
    "execution": {
     "iopub.execute_input": "2025-07-23T12:53:00.707331Z",
     "iopub.status.busy": "2025-07-23T12:53:00.706773Z",
     "iopub.status.idle": "2025-07-23T12:53:00.722248Z",
     "shell.execute_reply": "2025-07-23T12:53:00.721400Z"
    },
    "papermill": {
     "duration": 0.028538,
     "end_time": "2025-07-23T12:53:00.723976",
     "exception": false,
     "start_time": "2025-07-23T12:53:00.695438",
     "status": "completed"
    },
    "tags": []
   },
   "outputs": [],
   "source": [
    "X_train = X_train[keep_mask]"
   ]
  },
  {
   "cell_type": "code",
   "execution_count": 24,
   "id": "b202bb3a",
   "metadata": {
    "execution": {
     "iopub.execute_input": "2025-07-23T12:53:00.746512Z",
     "iopub.status.busy": "2025-07-23T12:53:00.745961Z",
     "iopub.status.idle": "2025-07-23T12:53:00.752381Z",
     "shell.execute_reply": "2025-07-23T12:53:00.751558Z"
    },
    "papermill": {
     "duration": 0.01933,
     "end_time": "2025-07-23T12:53:00.754086",
     "exception": false,
     "start_time": "2025-07-23T12:53:00.734756",
     "status": "completed"
    },
    "tags": []
   },
   "outputs": [],
   "source": [
    "y_train = y_train[keep_mask]"
   ]
  },
  {
   "cell_type": "markdown",
   "id": "493e2ac3",
   "metadata": {
    "papermill": {
     "duration": 0.035056,
     "end_time": "2025-07-23T12:53:00.807832",
     "exception": false,
     "start_time": "2025-07-23T12:53:00.772776",
     "status": "completed"
    },
    "tags": []
   },
   "source": [
    "# Model Training"
   ]
  },
  {
   "cell_type": "code",
   "execution_count": 25,
   "id": "679e1268",
   "metadata": {
    "execution": {
     "iopub.execute_input": "2025-07-23T12:53:00.851499Z",
     "iopub.status.busy": "2025-07-23T12:53:00.850376Z",
     "iopub.status.idle": "2025-07-23T12:53:00.954541Z",
     "shell.execute_reply": "2025-07-23T12:53:00.953706Z"
    },
    "papermill": {
     "duration": 0.127301,
     "end_time": "2025-07-23T12:53:00.956116",
     "exception": false,
     "start_time": "2025-07-23T12:53:00.828815",
     "status": "completed"
    },
    "tags": []
   },
   "outputs": [],
   "source": [
    "from sklearn.linear_model import LogisticRegression\n",
    "from sklearn.ensemble import GradientBoostingClassifier, RandomForestClassifier\n",
    "\n",
    "if (universe[\"model\"] == \"logreg\"):\n",
    "    model = LogisticRegression() #penalty=\"none\") #, solver=\"newton-cg\", max_iter=1) # include random_state=19 ?\n",
    "elif (universe[\"model\"] == \"penalized_logreg\"):\n",
    "    model = LogisticRegression(penalty=\"l2\", C=1.0) #, solver=\"newton-cg\", max_iter=1)\n",
    "elif (universe[\"model\"] == \"rf\"):\n",
    "    model = RandomForestClassifier(n_estimators=100, n_jobs=-1)\n",
    "elif (universe[\"model\"] == \"gbm\"):\n",
    "    model = GradientBoostingClassifier()\n",
    "elif (universe[\"model\"] == \"elasticnet\"):\n",
    "    model = LogisticRegression(penalty = 'elasticnet', solver = 'saga', l1_ratio = 0.5, max_iter=5000) # which solver to use?\n",
    "else:\n",
    "    raise \"Unsupported universe.model\""
   ]
  },
  {
   "cell_type": "code",
   "execution_count": 26,
   "id": "0cc8f744",
   "metadata": {
    "execution": {
     "iopub.execute_input": "2025-07-23T12:53:00.979041Z",
     "iopub.status.busy": "2025-07-23T12:53:00.978316Z",
     "iopub.status.idle": "2025-07-23T12:53:00.984233Z",
     "shell.execute_reply": "2025-07-23T12:53:00.983297Z"
    },
    "papermill": {
     "duration": 0.019333,
     "end_time": "2025-07-23T12:53:00.986002",
     "exception": false,
     "start_time": "2025-07-23T12:53:00.966669",
     "status": "completed"
    },
    "tags": []
   },
   "outputs": [],
   "source": [
    "import numpy as np\n",
    "from sklearn.pipeline import Pipeline\n",
    "from sklearn.preprocessing import StandardScaler\n",
    "\n",
    "model = Pipeline([\n",
    "    #(\"continuous_processor\", continuous_processor),\n",
    "    #(\"categorical_preprocessor\", categorical_preprocessor),\n",
    "    (\"scale\", StandardScaler() if universe[\"scale\"] == \"scale\" else None), \n",
    "    (\"model\", model),\n",
    "])"
   ]
  },
  {
   "cell_type": "code",
   "execution_count": 27,
   "id": "9442c04d",
   "metadata": {
    "execution": {
     "iopub.execute_input": "2025-07-23T12:53:01.013354Z",
     "iopub.status.busy": "2025-07-23T12:53:01.012875Z",
     "iopub.status.idle": "2025-07-23T12:53:02.071912Z",
     "shell.execute_reply": "2025-07-23T12:53:02.070582Z"
    },
    "papermill": {
     "duration": 1.07702,
     "end_time": "2025-07-23T12:53:02.074086",
     "exception": false,
     "start_time": "2025-07-23T12:53:00.997066",
     "status": "completed"
    },
    "tags": []
   },
   "outputs": [
    {
     "name": "stderr",
     "output_type": "stream",
     "text": [
      "/dss/dsshome1/0C/ra93lal2/.local/share/virtualenvs/CMA_Fairness_v2-3j10GkSs/lib/python3.10/site-packages/sklearn/linear_model/_logistic.py:444: ConvergenceWarning: lbfgs failed to converge (status=1):\n",
      "STOP: TOTAL NO. of ITERATIONS REACHED LIMIT.\n",
      "\n",
      "Increase the number of iterations (max_iter) or scale the data as shown in:\n",
      "    https://scikit-learn.org/stable/modules/preprocessing.html\n",
      "Please also refer to the documentation for alternative solver options:\n",
      "    https://scikit-learn.org/stable/modules/linear_model.html#logistic-regression\n",
      "  n_iter_i = _check_optimize_result(\n"
     ]
    },
    {
     "data": {
      "text/html": [
       "<style>#sk-container-id-1 {color: black;background-color: white;}#sk-container-id-1 pre{padding: 0;}#sk-container-id-1 div.sk-toggleable {background-color: white;}#sk-container-id-1 label.sk-toggleable__label {cursor: pointer;display: block;width: 100%;margin-bottom: 0;padding: 0.3em;box-sizing: border-box;text-align: center;}#sk-container-id-1 label.sk-toggleable__label-arrow:before {content: \"▸\";float: left;margin-right: 0.25em;color: #696969;}#sk-container-id-1 label.sk-toggleable__label-arrow:hover:before {color: black;}#sk-container-id-1 div.sk-estimator:hover label.sk-toggleable__label-arrow:before {color: black;}#sk-container-id-1 div.sk-toggleable__content {max-height: 0;max-width: 0;overflow: hidden;text-align: left;background-color: #f0f8ff;}#sk-container-id-1 div.sk-toggleable__content pre {margin: 0.2em;color: black;border-radius: 0.25em;background-color: #f0f8ff;}#sk-container-id-1 input.sk-toggleable__control:checked~div.sk-toggleable__content {max-height: 200px;max-width: 100%;overflow: auto;}#sk-container-id-1 input.sk-toggleable__control:checked~label.sk-toggleable__label-arrow:before {content: \"▾\";}#sk-container-id-1 div.sk-estimator input.sk-toggleable__control:checked~label.sk-toggleable__label {background-color: #d4ebff;}#sk-container-id-1 div.sk-label input.sk-toggleable__control:checked~label.sk-toggleable__label {background-color: #d4ebff;}#sk-container-id-1 input.sk-hidden--visually {border: 0;clip: rect(1px 1px 1px 1px);clip: rect(1px, 1px, 1px, 1px);height: 1px;margin: -1px;overflow: hidden;padding: 0;position: absolute;width: 1px;}#sk-container-id-1 div.sk-estimator {font-family: monospace;background-color: #f0f8ff;border: 1px dotted black;border-radius: 0.25em;box-sizing: border-box;margin-bottom: 0.5em;}#sk-container-id-1 div.sk-estimator:hover {background-color: #d4ebff;}#sk-container-id-1 div.sk-parallel-item::after {content: \"\";width: 100%;border-bottom: 1px solid gray;flex-grow: 1;}#sk-container-id-1 div.sk-label:hover label.sk-toggleable__label {background-color: #d4ebff;}#sk-container-id-1 div.sk-serial::before {content: \"\";position: absolute;border-left: 1px solid gray;box-sizing: border-box;top: 0;bottom: 0;left: 50%;z-index: 0;}#sk-container-id-1 div.sk-serial {display: flex;flex-direction: column;align-items: center;background-color: white;padding-right: 0.2em;padding-left: 0.2em;position: relative;}#sk-container-id-1 div.sk-item {position: relative;z-index: 1;}#sk-container-id-1 div.sk-parallel {display: flex;align-items: stretch;justify-content: center;background-color: white;position: relative;}#sk-container-id-1 div.sk-item::before, #sk-container-id-1 div.sk-parallel-item::before {content: \"\";position: absolute;border-left: 1px solid gray;box-sizing: border-box;top: 0;bottom: 0;left: 50%;z-index: -1;}#sk-container-id-1 div.sk-parallel-item {display: flex;flex-direction: column;z-index: 1;position: relative;background-color: white;}#sk-container-id-1 div.sk-parallel-item:first-child::after {align-self: flex-end;width: 50%;}#sk-container-id-1 div.sk-parallel-item:last-child::after {align-self: flex-start;width: 50%;}#sk-container-id-1 div.sk-parallel-item:only-child::after {width: 0;}#sk-container-id-1 div.sk-dashed-wrapped {border: 1px dashed gray;margin: 0 0.4em 0.5em 0.4em;box-sizing: border-box;padding-bottom: 0.4em;background-color: white;}#sk-container-id-1 div.sk-label label {font-family: monospace;font-weight: bold;display: inline-block;line-height: 1.2em;}#sk-container-id-1 div.sk-label-container {text-align: center;}#sk-container-id-1 div.sk-container {/* jupyter's `normalize.less` sets `[hidden] { display: none; }` but bootstrap.min.css set `[hidden] { display: none !important; }` so we also need the `!important` here to be able to override the default hidden behavior on the sphinx rendered scikit-learn.org. See: https://github.com/scikit-learn/scikit-learn/issues/21755 */display: inline-block !important;position: relative;}#sk-container-id-1 div.sk-text-repr-fallback {display: none;}</style><div id=\"sk-container-id-1\" class=\"sk-top-container\"><div class=\"sk-text-repr-fallback\"><pre>Pipeline(steps=[(&#x27;scale&#x27;, StandardScaler()), (&#x27;model&#x27;, LogisticRegression())])</pre><b>In a Jupyter environment, please rerun this cell to show the HTML representation or trust the notebook. <br />On GitHub, the HTML representation is unable to render, please try loading this page with nbviewer.org.</b></div><div class=\"sk-container\" hidden><div class=\"sk-item sk-dashed-wrapped\"><div class=\"sk-label-container\"><div class=\"sk-label sk-toggleable\"><input class=\"sk-toggleable__control sk-hidden--visually\" id=\"sk-estimator-id-1\" type=\"checkbox\" ><label for=\"sk-estimator-id-1\" class=\"sk-toggleable__label sk-toggleable__label-arrow\">Pipeline</label><div class=\"sk-toggleable__content\"><pre>Pipeline(steps=[(&#x27;scale&#x27;, StandardScaler()), (&#x27;model&#x27;, LogisticRegression())])</pre></div></div></div><div class=\"sk-serial\"><div class=\"sk-item\"><div class=\"sk-estimator sk-toggleable\"><input class=\"sk-toggleable__control sk-hidden--visually\" id=\"sk-estimator-id-2\" type=\"checkbox\" ><label for=\"sk-estimator-id-2\" class=\"sk-toggleable__label sk-toggleable__label-arrow\">StandardScaler</label><div class=\"sk-toggleable__content\"><pre>StandardScaler()</pre></div></div></div><div class=\"sk-item\"><div class=\"sk-estimator sk-toggleable\"><input class=\"sk-toggleable__control sk-hidden--visually\" id=\"sk-estimator-id-3\" type=\"checkbox\" ><label for=\"sk-estimator-id-3\" class=\"sk-toggleable__label sk-toggleable__label-arrow\">LogisticRegression</label><div class=\"sk-toggleable__content\"><pre>LogisticRegression()</pre></div></div></div></div></div></div></div>"
      ],
      "text/plain": [
       "Pipeline(steps=[('scale', StandardScaler()), ('model', LogisticRegression())])"
      ]
     },
     "execution_count": 27,
     "metadata": {},
     "output_type": "execute_result"
    }
   ],
   "source": [
    "model.fit(X_train, y_train.values.ravel())"
   ]
  },
  {
   "cell_type": "code",
   "execution_count": 28,
   "id": "af59f8c0",
   "metadata": {
    "execution": {
     "iopub.execute_input": "2025-07-23T12:53:02.123138Z",
     "iopub.status.busy": "2025-07-23T12:53:02.122680Z",
     "iopub.status.idle": "2025-07-23T12:53:02.132815Z",
     "shell.execute_reply": "2025-07-23T12:53:02.131470Z"
    },
    "papermill": {
     "duration": 0.032296,
     "end_time": "2025-07-23T12:53:02.134940",
     "exception": false,
     "start_time": "2025-07-23T12:53:02.102644",
     "status": "completed"
    },
    "tags": []
   },
   "outputs": [],
   "source": [
    "from fairness_multiverse.universe import predict_w_threshold"
   ]
  },
  {
   "cell_type": "code",
   "execution_count": 29,
   "id": "a7cf2e16",
   "metadata": {
    "execution": {
     "iopub.execute_input": "2025-07-23T12:53:02.179147Z",
     "iopub.status.busy": "2025-07-23T12:53:02.178503Z",
     "iopub.status.idle": "2025-07-23T12:53:02.435831Z",
     "shell.execute_reply": "2025-07-23T12:53:02.434940Z"
    },
    "papermill": {
     "duration": 0.279751,
     "end_time": "2025-07-23T12:53:02.437195",
     "exception": false,
     "start_time": "2025-07-23T12:53:02.157444",
     "status": "completed"
    },
    "tags": []
   },
   "outputs": [
    {
     "data": {
      "text/plain": [
       "0.8602385464273771"
      ]
     },
     "execution_count": 29,
     "metadata": {},
     "output_type": "execute_result"
    }
   ],
   "source": [
    "probs_test = model.predict_proba(X_test)\n",
    "\n",
    "'''\n",
    "Below code returns a boolean array (or binary 0/1 array depending on how it’s used) where each element \n",
    "is True if the probability of class 1 is greater than or equal to the threshold, and False otherwise.\n",
    "'''\n",
    "y_pred_default = predict_w_threshold(probs_test, 0.5)\n",
    "\n",
    "from sklearn.metrics import accuracy_score\n",
    "\n",
    "# Naive prediction\n",
    "accuracy_score(y_true = y_true, y_pred = y_pred_default)"
   ]
  },
  {
   "cell_type": "code",
   "execution_count": 30,
   "id": "081964c3",
   "metadata": {
    "execution": {
     "iopub.execute_input": "2025-07-23T12:53:02.480753Z",
     "iopub.status.busy": "2025-07-23T12:53:02.480146Z",
     "iopub.status.idle": "2025-07-23T12:53:02.681334Z",
     "shell.execute_reply": "2025-07-23T12:53:02.680294Z"
    },
    "papermill": {
     "duration": 0.226621,
     "end_time": "2025-07-23T12:53:02.683845",
     "exception": false,
     "start_time": "2025-07-23T12:53:02.457224",
     "status": "completed"
    },
    "tags": []
   },
   "outputs": [
    {
     "data": {
      "text/plain": [
       "array([0, 0, 0, ..., 0, 0, 0])"
      ]
     },
     "execution_count": 30,
     "metadata": {},
     "output_type": "execute_result"
    }
   ],
   "source": [
    "model.predict(X_test)"
   ]
  },
  {
   "cell_type": "markdown",
   "id": "56c9705b",
   "metadata": {
    "papermill": {
     "duration": 0.02009,
     "end_time": "2025-07-23T12:53:02.725101",
     "exception": false,
     "start_time": "2025-07-23T12:53:02.705011",
     "status": "completed"
    },
    "tags": []
   },
   "source": [
    "# Conformal Prediction"
   ]
  },
  {
   "cell_type": "code",
   "execution_count": 31,
   "id": "160ec6ff",
   "metadata": {
    "execution": {
     "iopub.execute_input": "2025-07-23T12:53:02.769955Z",
     "iopub.status.busy": "2025-07-23T12:53:02.768678Z",
     "iopub.status.idle": "2025-07-23T12:53:02.776100Z",
     "shell.execute_reply": "2025-07-23T12:53:02.774615Z"
    },
    "papermill": {
     "duration": 0.031287,
     "end_time": "2025-07-23T12:53:02.778269",
     "exception": false,
     "start_time": "2025-07-23T12:53:02.746982",
     "status": "completed"
    },
    "tags": []
   },
   "outputs": [],
   "source": [
    "# Miscoverage level for conformal prediction (10% allowed error rate => 90% target coverage)\n",
    "alpha = 0.1"
   ]
  },
  {
   "cell_type": "code",
   "execution_count": 32,
   "id": "eadf4555-3dd3-440e-8e35-f82a4ad9f855",
   "metadata": {
    "execution": {
     "iopub.execute_input": "2025-07-23T12:53:02.840081Z",
     "iopub.status.busy": "2025-07-23T12:53:02.838907Z",
     "iopub.status.idle": "2025-07-23T12:53:03.082637Z",
     "shell.execute_reply": "2025-07-23T12:53:03.081152Z"
    },
    "papermill": {
     "duration": 0.277159,
     "end_time": "2025-07-23T12:53:03.084885",
     "exception": false,
     "start_time": "2025-07-23T12:53:02.807726",
     "status": "completed"
    },
    "tags": []
   },
   "outputs": [],
   "source": [
    "probs_calib = model.predict_proba(X_calib)"
   ]
  },
  {
   "cell_type": "code",
   "execution_count": 33,
   "id": "2ed93547-6d5d-4983-9b36-1ecb300da49a",
   "metadata": {
    "execution": {
     "iopub.execute_input": "2025-07-23T12:53:03.134077Z",
     "iopub.status.busy": "2025-07-23T12:53:03.133481Z",
     "iopub.status.idle": "2025-07-23T12:53:03.140124Z",
     "shell.execute_reply": "2025-07-23T12:53:03.138905Z"
    },
    "papermill": {
     "duration": 0.03301,
     "end_time": "2025-07-23T12:53:03.142014",
     "exception": false,
     "start_time": "2025-07-23T12:53:03.109004",
     "status": "completed"
    },
    "tags": []
   },
   "outputs": [],
   "source": [
    "y_calib = y_calib.values.ravel().astype(int)"
   ]
  },
  {
   "cell_type": "code",
   "execution_count": 34,
   "id": "65d1320d-f588-4b38-9072-62af1ae97f7d",
   "metadata": {
    "execution": {
     "iopub.execute_input": "2025-07-23T12:53:03.191957Z",
     "iopub.status.busy": "2025-07-23T12:53:03.191095Z",
     "iopub.status.idle": "2025-07-23T12:53:03.200447Z",
     "shell.execute_reply": "2025-07-23T12:53:03.199160Z"
    },
    "papermill": {
     "duration": 0.03658,
     "end_time": "2025-07-23T12:53:03.202883",
     "exception": false,
     "start_time": "2025-07-23T12:53:03.166303",
     "status": "completed"
    },
    "tags": []
   },
   "outputs": [],
   "source": [
    "from fairness_multiverse.conformal import compute_nc_scores\n",
    "\n",
    "# Compute nonconformity scores on calibration set (1 - probability of true class)\n",
    "nc_scores = compute_nc_scores(probs_calib, y_calib)"
   ]
  },
  {
   "cell_type": "code",
   "execution_count": 35,
   "id": "df3b8ca3-53b7-43d5-9667-7c85da7aeda2",
   "metadata": {
    "execution": {
     "iopub.execute_input": "2025-07-23T12:53:03.252675Z",
     "iopub.status.busy": "2025-07-23T12:53:03.251816Z",
     "iopub.status.idle": "2025-07-23T12:53:03.261645Z",
     "shell.execute_reply": "2025-07-23T12:53:03.260369Z"
    },
    "papermill": {
     "duration": 0.037696,
     "end_time": "2025-07-23T12:53:03.264081",
     "exception": false,
     "start_time": "2025-07-23T12:53:03.226385",
     "status": "completed"
    },
    "tags": []
   },
   "outputs": [],
   "source": [
    "from fairness_multiverse.conformal import find_threshold\n",
    "\n",
    "# Find conformal threshold q_hat for the given alpha (split conformal method)\n",
    "q_hat = find_threshold(nc_scores, alpha)"
   ]
  },
  {
   "cell_type": "code",
   "execution_count": 36,
   "id": "4d29e6c1-0ef6-4aa4-b8fe-4fe79b0d033a",
   "metadata": {
    "execution": {
     "iopub.execute_input": "2025-07-23T12:53:03.320153Z",
     "iopub.status.busy": "2025-07-23T12:53:03.319261Z",
     "iopub.status.idle": "2025-07-23T12:53:03.328979Z",
     "shell.execute_reply": "2025-07-23T12:53:03.327521Z"
    },
    "papermill": {
     "duration": 0.041767,
     "end_time": "2025-07-23T12:53:03.331061",
     "exception": false,
     "start_time": "2025-07-23T12:53:03.289294",
     "status": "completed"
    },
    "tags": []
   },
   "outputs": [
    {
     "data": {
      "text/plain": [
       "0.6601358943229978"
      ]
     },
     "execution_count": 36,
     "metadata": {},
     "output_type": "execute_result"
    }
   ],
   "source": [
    "q_hat"
   ]
  },
  {
   "cell_type": "code",
   "execution_count": 37,
   "id": "92460794-cdac-4be2-ba28-f28c0515a6fb",
   "metadata": {
    "execution": {
     "iopub.execute_input": "2025-07-23T12:53:03.379756Z",
     "iopub.status.busy": "2025-07-23T12:53:03.378916Z",
     "iopub.status.idle": "2025-07-23T12:53:04.258366Z",
     "shell.execute_reply": "2025-07-23T12:53:04.257277Z"
    },
    "papermill": {
     "duration": 0.906136,
     "end_time": "2025-07-23T12:53:04.260407",
     "exception": false,
     "start_time": "2025-07-23T12:53:03.354271",
     "status": "completed"
    },
    "tags": []
   },
   "outputs": [],
   "source": [
    "from fairness_multiverse.conformal import predict_conformal_sets\n",
    "\n",
    "# Generate prediction sets for each test example\n",
    "pred_sets = predict_conformal_sets(model, X_test, q_hat)"
   ]
  },
  {
   "cell_type": "code",
   "execution_count": 38,
   "id": "d90c9a65-e6db-4f5d-80cd-e68fb7e46829",
   "metadata": {
    "execution": {
     "iopub.execute_input": "2025-07-23T12:53:04.305415Z",
     "iopub.status.busy": "2025-07-23T12:53:04.305097Z",
     "iopub.status.idle": "2025-07-23T12:53:04.310588Z",
     "shell.execute_reply": "2025-07-23T12:53:04.309812Z"
    },
    "papermill": {
     "duration": 0.028617,
     "end_time": "2025-07-23T12:53:04.312215",
     "exception": false,
     "start_time": "2025-07-23T12:53:04.283598",
     "status": "completed"
    },
    "tags": []
   },
   "outputs": [],
   "source": [
    "y_true = y_true.squeeze()"
   ]
  },
  {
   "cell_type": "code",
   "execution_count": 39,
   "id": "3a58a54a-1e68-46b9-927a-df01f18aebc8",
   "metadata": {
    "execution": {
     "iopub.execute_input": "2025-07-23T12:53:04.337874Z",
     "iopub.status.busy": "2025-07-23T12:53:04.337348Z",
     "iopub.status.idle": "2025-07-23T12:53:05.516739Z",
     "shell.execute_reply": "2025-07-23T12:53:05.515298Z"
    },
    "papermill": {
     "duration": 1.194186,
     "end_time": "2025-07-23T12:53:05.519050",
     "exception": false,
     "start_time": "2025-07-23T12:53:04.324864",
     "status": "completed"
    },
    "tags": []
   },
   "outputs": [],
   "source": [
    "from fairness_multiverse.conformal import evaluate_sets\n",
    "\n",
    "# Evaluate coverage and average set size on test data\n",
    "metrics = evaluate_sets(pred_sets, y_true)"
   ]
  },
  {
   "cell_type": "code",
   "execution_count": 40,
   "id": "5ce0a5cb-201f-45a0-ade5-94c7f0bd6095",
   "metadata": {
    "execution": {
     "iopub.execute_input": "2025-07-23T12:53:05.568951Z",
     "iopub.status.busy": "2025-07-23T12:53:05.568336Z",
     "iopub.status.idle": "2025-07-23T12:53:05.577016Z",
     "shell.execute_reply": "2025-07-23T12:53:05.575934Z"
    },
    "papermill": {
     "duration": 0.033639,
     "end_time": "2025-07-23T12:53:05.578526",
     "exception": false,
     "start_time": "2025-07-23T12:53:05.544887",
     "status": "completed"
    },
    "tags": []
   },
   "outputs": [
    {
     "data": {
      "text/plain": [
       "{'coverage': 0.9105227956749526, 'avg_size': 1.1258388139560807}"
      ]
     },
     "execution_count": 40,
     "metadata": {},
     "output_type": "execute_result"
    }
   ],
   "source": [
    "metrics"
   ]
  },
  {
   "cell_type": "code",
   "execution_count": 41,
   "id": "9b9a838d-31c9-430b-ae14-12baee460d17",
   "metadata": {
    "execution": {
     "iopub.execute_input": "2025-07-23T12:53:05.601873Z",
     "iopub.status.busy": "2025-07-23T12:53:05.601571Z",
     "iopub.status.idle": "2025-07-23T12:53:05.606810Z",
     "shell.execute_reply": "2025-07-23T12:53:05.605598Z"
    },
    "papermill": {
     "duration": 0.018411,
     "end_time": "2025-07-23T12:53:05.608578",
     "exception": false,
     "start_time": "2025-07-23T12:53:05.590167",
     "status": "completed"
    },
    "tags": []
   },
   "outputs": [],
   "source": [
    "example_universe = universe.copy()\n",
    "universe_model = example_universe.get(\"model\")\n",
    "universe_exclude_features = example_universe.get(\"exclude_features\")\n",
    "universe_exclude_subgroups = example_universe.get(\"exclude_subgroups\")\n",
    "universe_scale = example_universe.get(\"scale\")"
   ]
  },
  {
   "cell_type": "code",
   "execution_count": 42,
   "id": "f4b6a8ac-9dc0-4245-8a91-5b3b5999c4f9",
   "metadata": {
    "execution": {
     "iopub.execute_input": "2025-07-23T12:53:05.652809Z",
     "iopub.status.busy": "2025-07-23T12:53:05.647986Z",
     "iopub.status.idle": "2025-07-23T12:53:05.658953Z",
     "shell.execute_reply": "2025-07-23T12:53:05.657838Z"
    },
    "papermill": {
     "duration": 0.032477,
     "end_time": "2025-07-23T12:53:05.660819",
     "exception": false,
     "start_time": "2025-07-23T12:53:05.628342",
     "status": "completed"
    },
    "tags": []
   },
   "outputs": [],
   "source": [
    "cp_metrics_dict = {\n",
    "    \"universe_id\": [universe_id],\n",
    "    \"universe_model\": [universe_model],\n",
    "    \"universe_exclude_features\": [universe_exclude_features],\n",
    "    \"universe_exclude_subgroups\": [universe_exclude_subgroups],\n",
    "    \"universe_scale\": [universe_scale],\n",
    "    \"q_hat\": [q_hat],\n",
    "    \"coverage\": [metrics[\"coverage\"]],\n",
    "    \"avg_size\": [metrics[\"avg_size\"]],\n",
    "}"
   ]
  },
  {
   "cell_type": "code",
   "execution_count": 43,
   "id": "908acbb1-0371-4915-85ca-3fa520d2efe2",
   "metadata": {
    "execution": {
     "iopub.execute_input": "2025-07-23T12:53:05.711660Z",
     "iopub.status.busy": "2025-07-23T12:53:05.711207Z",
     "iopub.status.idle": "2025-07-23T12:53:05.719311Z",
     "shell.execute_reply": "2025-07-23T12:53:05.718187Z"
    },
    "papermill": {
     "duration": 0.035346,
     "end_time": "2025-07-23T12:53:05.721186",
     "exception": false,
     "start_time": "2025-07-23T12:53:05.685840",
     "status": "completed"
    },
    "tags": []
   },
   "outputs": [
    {
     "data": {
      "text/plain": [
       "{'universe_id': ['bd5eb995e959eab90b9c2501c38dbb11'],\n",
       " 'universe_model': ['penalized_logreg'],\n",
       " 'universe_exclude_features': ['none'],\n",
       " 'universe_exclude_subgroups': ['keep-all'],\n",
       " 'universe_scale': ['scale'],\n",
       " 'q_hat': [0.6601358943229978],\n",
       " 'coverage': [0.9105227956749526],\n",
       " 'avg_size': [1.1258388139560807]}"
      ]
     },
     "execution_count": 43,
     "metadata": {},
     "output_type": "execute_result"
    }
   ],
   "source": [
    "cp_metrics_dict"
   ]
  },
  {
   "cell_type": "code",
   "execution_count": 44,
   "id": "33007efc-14e9-4ec6-97ac-56a455c82265",
   "metadata": {
    "execution": {
     "iopub.execute_input": "2025-07-23T12:53:05.769601Z",
     "iopub.status.busy": "2025-07-23T12:53:05.769239Z",
     "iopub.status.idle": "2025-07-23T12:53:05.775785Z",
     "shell.execute_reply": "2025-07-23T12:53:05.774645Z"
    },
    "papermill": {
     "duration": 0.032999,
     "end_time": "2025-07-23T12:53:05.777727",
     "exception": false,
     "start_time": "2025-07-23T12:53:05.744728",
     "status": "completed"
    },
    "tags": []
   },
   "outputs": [],
   "source": [
    "cp_metrics_df = pd.DataFrame(cp_metrics_dict)"
   ]
  },
  {
   "cell_type": "code",
   "execution_count": 45,
   "id": "db12611b-57b2-4910-b9d0-355adfd6e7bf",
   "metadata": {
    "execution": {
     "iopub.execute_input": "2025-07-23T12:53:05.827127Z",
     "iopub.status.busy": "2025-07-23T12:53:05.826650Z",
     "iopub.status.idle": "2025-07-23T12:53:05.846119Z",
     "shell.execute_reply": "2025-07-23T12:53:05.844852Z"
    },
    "papermill": {
     "duration": 0.046419,
     "end_time": "2025-07-23T12:53:05.847837",
     "exception": false,
     "start_time": "2025-07-23T12:53:05.801418",
     "status": "completed"
    },
    "tags": []
   },
   "outputs": [
    {
     "data": {
      "text/html": [
       "<div>\n",
       "<style scoped>\n",
       "    .dataframe tbody tr th:only-of-type {\n",
       "        vertical-align: middle;\n",
       "    }\n",
       "\n",
       "    .dataframe tbody tr th {\n",
       "        vertical-align: top;\n",
       "    }\n",
       "\n",
       "    .dataframe thead th {\n",
       "        text-align: right;\n",
       "    }\n",
       "</style>\n",
       "<table border=\"1\" class=\"dataframe\">\n",
       "  <thead>\n",
       "    <tr style=\"text-align: right;\">\n",
       "      <th></th>\n",
       "      <th>universe_id</th>\n",
       "      <th>universe_model</th>\n",
       "      <th>universe_exclude_features</th>\n",
       "      <th>universe_exclude_subgroups</th>\n",
       "      <th>universe_scale</th>\n",
       "      <th>q_hat</th>\n",
       "      <th>coverage</th>\n",
       "      <th>avg_size</th>\n",
       "    </tr>\n",
       "  </thead>\n",
       "  <tbody>\n",
       "    <tr>\n",
       "      <th>0</th>\n",
       "      <td>bd5eb995e959eab90b9c2501c38dbb11</td>\n",
       "      <td>penalized_logreg</td>\n",
       "      <td>none</td>\n",
       "      <td>keep-all</td>\n",
       "      <td>scale</td>\n",
       "      <td>0.660136</td>\n",
       "      <td>0.910523</td>\n",
       "      <td>1.125839</td>\n",
       "    </tr>\n",
       "  </tbody>\n",
       "</table>\n",
       "</div>"
      ],
      "text/plain": [
       "                        universe_id    universe_model  \\\n",
       "0  bd5eb995e959eab90b9c2501c38dbb11  penalized_logreg   \n",
       "\n",
       "  universe_exclude_features universe_exclude_subgroups universe_scale  \\\n",
       "0                      none                   keep-all          scale   \n",
       "\n",
       "      q_hat  coverage  avg_size  \n",
       "0  0.660136  0.910523  1.125839  "
      ]
     },
     "execution_count": 45,
     "metadata": {},
     "output_type": "execute_result"
    }
   ],
   "source": [
    "cp_metrics_df"
   ]
  },
  {
   "cell_type": "code",
   "execution_count": 46,
   "id": "b7fbde55-a0a1-47e4-9af6-fe4a17fa8c61",
   "metadata": {
    "execution": {
     "iopub.execute_input": "2025-07-23T12:53:05.898518Z",
     "iopub.status.busy": "2025-07-23T12:53:05.898006Z",
     "iopub.status.idle": "2025-07-23T12:53:05.903647Z",
     "shell.execute_reply": "2025-07-23T12:53:05.902234Z"
    },
    "papermill": {
     "duration": 0.033135,
     "end_time": "2025-07-23T12:53:05.905544",
     "exception": false,
     "start_time": "2025-07-23T12:53:05.872409",
     "status": "completed"
    },
    "tags": []
   },
   "outputs": [],
   "source": [
    "# Conditional Coverage & looking at subgroups"
   ]
  },
  {
   "cell_type": "code",
   "execution_count": 47,
   "id": "027ae886-68dd-4141-96c7-805a5450e1ef",
   "metadata": {
    "execution": {
     "iopub.execute_input": "2025-07-23T12:53:05.958858Z",
     "iopub.status.busy": "2025-07-23T12:53:05.958464Z",
     "iopub.status.idle": "2025-07-23T12:53:06.174024Z",
     "shell.execute_reply": "2025-07-23T12:53:06.173163Z"
    },
    "papermill": {
     "duration": 0.245512,
     "end_time": "2025-07-23T12:53:06.175623",
     "exception": false,
     "start_time": "2025-07-23T12:53:05.930111",
     "status": "completed"
    },
    "tags": []
   },
   "outputs": [],
   "source": [
    "from fairness_multiverse.conformal import build_cp_groups\n",
    "\n",
    "cp_groups_df = build_cp_groups(pred_sets, y_true, X_test.index, org_test)\n",
    "#needs universe_id and setting"
   ]
  },
  {
   "cell_type": "code",
   "execution_count": 48,
   "id": "c3b92545-903e-4839-89af-0f057907d7d6",
   "metadata": {
    "execution": {
     "iopub.execute_input": "2025-07-23T12:53:06.200401Z",
     "iopub.status.busy": "2025-07-23T12:53:06.199875Z",
     "iopub.status.idle": "2025-07-23T12:53:07.829310Z",
     "shell.execute_reply": "2025-07-23T12:53:07.828485Z"
    },
    "papermill": {
     "duration": 1.643228,
     "end_time": "2025-07-23T12:53:07.830792",
     "exception": false,
     "start_time": "2025-07-23T12:53:06.187564",
     "status": "completed"
    },
    "tags": []
   },
   "outputs": [],
   "source": [
    "# Define covered = 1 if true_label is in the predicted set\n",
    "cp_groups_df['covered'] = cp_groups_df.apply(\n",
    "    lambda r: int(r['true_label'] in r['pred_set']),\n",
    "    axis=1\n",
    ")"
   ]
  },
  {
   "cell_type": "code",
   "execution_count": 49,
   "id": "338ff529-1a6b-4b87-a931-8e4788d52aad",
   "metadata": {
    "execution": {
     "iopub.execute_input": "2025-07-23T12:53:07.854942Z",
     "iopub.status.busy": "2025-07-23T12:53:07.854567Z",
     "iopub.status.idle": "2025-07-23T12:53:07.858818Z",
     "shell.execute_reply": "2025-07-23T12:53:07.858097Z"
    },
    "papermill": {
     "duration": 0.017504,
     "end_time": "2025-07-23T12:53:07.860221",
     "exception": false,
     "start_time": "2025-07-23T12:53:07.842717",
     "status": "completed"
    },
    "tags": []
   },
   "outputs": [],
   "source": [
    "#cp_groups_df"
   ]
  },
  {
   "cell_type": "code",
   "execution_count": 50,
   "id": "90032e27-66df-4540-9169-4e89cfbaa758",
   "metadata": {
    "execution": {
     "iopub.execute_input": "2025-07-23T12:53:07.884181Z",
     "iopub.status.busy": "2025-07-23T12:53:07.883817Z",
     "iopub.status.idle": "2025-07-23T12:53:07.893132Z",
     "shell.execute_reply": "2025-07-23T12:53:07.892377Z"
    },
    "papermill": {
     "duration": 0.022812,
     "end_time": "2025-07-23T12:53:07.894568",
     "exception": false,
     "start_time": "2025-07-23T12:53:07.871756",
     "status": "completed"
    },
    "tags": []
   },
   "outputs": [],
   "source": [
    "subgroups = ['frau1','nongerman','nongerman_male','nongerman_female']\n",
    "\n",
    "# Conditional coverage for subgroup==1\n",
    "cond_coverage = {\n",
    "    g: cp_groups_df.loc[cp_groups_df[g]==1, 'covered'].mean()\n",
    "    for g in subgroups\n",
    "}"
   ]
  },
  {
   "cell_type": "code",
   "execution_count": 51,
   "id": "1e348fb1-b9c3-45bc-ba23-f016827a7e0d",
   "metadata": {
    "execution": {
     "iopub.execute_input": "2025-07-23T12:53:07.919220Z",
     "iopub.status.busy": "2025-07-23T12:53:07.918694Z",
     "iopub.status.idle": "2025-07-23T12:53:07.924962Z",
     "shell.execute_reply": "2025-07-23T12:53:07.924079Z"
    },
    "papermill": {
     "duration": 0.019806,
     "end_time": "2025-07-23T12:53:07.926390",
     "exception": false,
     "start_time": "2025-07-23T12:53:07.906584",
     "status": "completed"
    },
    "tags": []
   },
   "outputs": [
    {
     "data": {
      "text/plain": [
       "{'frau1': 0.9092330502763175,\n",
       " 'nongerman': 0.913041037444563,\n",
       " 'nongerman_male': 0.9291182563271188,\n",
       " 'nongerman_female': 0.8864381520119226}"
      ]
     },
     "execution_count": 51,
     "metadata": {},
     "output_type": "execute_result"
    }
   ],
   "source": [
    "cond_coverage"
   ]
  },
  {
   "cell_type": "code",
   "execution_count": 52,
   "id": "f5093324-c3dd-4d63-bc4c-8d945e5c8bbb",
   "metadata": {
    "execution": {
     "iopub.execute_input": "2025-07-23T12:53:07.950815Z",
     "iopub.status.busy": "2025-07-23T12:53:07.950383Z",
     "iopub.status.idle": "2025-07-23T12:53:07.955996Z",
     "shell.execute_reply": "2025-07-23T12:53:07.955190Z"
    },
    "papermill": {
     "duration": 0.019233,
     "end_time": "2025-07-23T12:53:07.957394",
     "exception": false,
     "start_time": "2025-07-23T12:53:07.938161",
     "status": "completed"
    },
    "tags": []
   },
   "outputs": [],
   "source": [
    "for subgroup, cov in cond_coverage.items():\n",
    "    cp_metrics_df[f\"cov_{subgroup}\"] = cov"
   ]
  },
  {
   "cell_type": "code",
   "execution_count": 53,
   "id": "6e872e10-dbe5-49e8-b554-5030c98ff75d",
   "metadata": {
    "execution": {
     "iopub.execute_input": "2025-07-23T12:53:07.982015Z",
     "iopub.status.busy": "2025-07-23T12:53:07.981480Z",
     "iopub.status.idle": "2025-07-23T12:53:07.995342Z",
     "shell.execute_reply": "2025-07-23T12:53:07.994565Z"
    },
    "papermill": {
     "duration": 0.027551,
     "end_time": "2025-07-23T12:53:07.996809",
     "exception": false,
     "start_time": "2025-07-23T12:53:07.969258",
     "status": "completed"
    },
    "tags": []
   },
   "outputs": [
    {
     "data": {
      "text/html": [
       "<div>\n",
       "<style scoped>\n",
       "    .dataframe tbody tr th:only-of-type {\n",
       "        vertical-align: middle;\n",
       "    }\n",
       "\n",
       "    .dataframe tbody tr th {\n",
       "        vertical-align: top;\n",
       "    }\n",
       "\n",
       "    .dataframe thead th {\n",
       "        text-align: right;\n",
       "    }\n",
       "</style>\n",
       "<table border=\"1\" class=\"dataframe\">\n",
       "  <thead>\n",
       "    <tr style=\"text-align: right;\">\n",
       "      <th></th>\n",
       "      <th>universe_id</th>\n",
       "      <th>universe_model</th>\n",
       "      <th>universe_exclude_features</th>\n",
       "      <th>universe_exclude_subgroups</th>\n",
       "      <th>universe_scale</th>\n",
       "      <th>q_hat</th>\n",
       "      <th>coverage</th>\n",
       "      <th>avg_size</th>\n",
       "      <th>cov_frau1</th>\n",
       "      <th>cov_nongerman</th>\n",
       "      <th>cov_nongerman_male</th>\n",
       "      <th>cov_nongerman_female</th>\n",
       "    </tr>\n",
       "  </thead>\n",
       "  <tbody>\n",
       "    <tr>\n",
       "      <th>0</th>\n",
       "      <td>bd5eb995e959eab90b9c2501c38dbb11</td>\n",
       "      <td>penalized_logreg</td>\n",
       "      <td>none</td>\n",
       "      <td>keep-all</td>\n",
       "      <td>scale</td>\n",
       "      <td>0.660136</td>\n",
       "      <td>0.910523</td>\n",
       "      <td>1.125839</td>\n",
       "      <td>0.909233</td>\n",
       "      <td>0.913041</td>\n",
       "      <td>0.929118</td>\n",
       "      <td>0.886438</td>\n",
       "    </tr>\n",
       "  </tbody>\n",
       "</table>\n",
       "</div>"
      ],
      "text/plain": [
       "                        universe_id    universe_model  \\\n",
       "0  bd5eb995e959eab90b9c2501c38dbb11  penalized_logreg   \n",
       "\n",
       "  universe_exclude_features universe_exclude_subgroups universe_scale  \\\n",
       "0                      none                   keep-all          scale   \n",
       "\n",
       "      q_hat  coverage  avg_size  cov_frau1  cov_nongerman  cov_nongerman_male  \\\n",
       "0  0.660136  0.910523  1.125839   0.909233       0.913041            0.929118   \n",
       "\n",
       "   cov_nongerman_female  \n",
       "0              0.886438  "
      ]
     },
     "execution_count": 53,
     "metadata": {},
     "output_type": "execute_result"
    }
   ],
   "source": [
    "cp_metrics_df"
   ]
  },
  {
   "cell_type": "markdown",
   "id": "33774451",
   "metadata": {
    "papermill": {
     "duration": 0.011532,
     "end_time": "2025-07-23T12:53:08.020129",
     "exception": false,
     "start_time": "2025-07-23T12:53:08.008597",
     "status": "completed"
    },
    "tags": []
   },
   "source": [
    "# (Fairness) Metrics"
   ]
  },
  {
   "cell_type": "code",
   "execution_count": 54,
   "id": "debc5d62",
   "metadata": {
    "execution": {
     "iopub.execute_input": "2025-07-23T12:53:08.044428Z",
     "iopub.status.busy": "2025-07-23T12:53:08.044059Z",
     "iopub.status.idle": "2025-07-23T12:53:08.061526Z",
     "shell.execute_reply": "2025-07-23T12:53:08.060728Z"
    },
    "papermill": {
     "duration": 0.031223,
     "end_time": "2025-07-23T12:53:08.062883",
     "exception": false,
     "start_time": "2025-07-23T12:53:08.031660",
     "status": "completed"
    },
    "tags": []
   },
   "outputs": [],
   "source": [
    "# do I need to include maxdeutsch1.missing?\n",
    "\n",
    "import numpy as np\n",
    "\n",
    "colname_to_bin = \"maxdeutsch1\"\n",
    "majority_value = org_train[colname_to_bin].mode()[0]\n",
    "\n",
    "org_test[\"majmin\"] = np.where(org_test[colname_to_bin] == majority_value, \"majority\", \"minority\")"
   ]
  },
  {
   "cell_type": "code",
   "execution_count": 55,
   "id": "06a50de5",
   "metadata": {
    "execution": {
     "iopub.execute_input": "2025-07-23T12:53:08.090642Z",
     "iopub.status.busy": "2025-07-23T12:53:08.090395Z",
     "iopub.status.idle": "2025-07-23T12:53:10.451362Z",
     "shell.execute_reply": "2025-07-23T12:53:10.450371Z"
    },
    "papermill": {
     "duration": 2.378847,
     "end_time": "2025-07-23T12:53:10.453407",
     "exception": false,
     "start_time": "2025-07-23T12:53:08.074560",
     "status": "completed"
    },
    "tags": []
   },
   "outputs": [],
   "source": [
    "example_universe = universe.copy()\n",
    "example_universe[\"cutoff\"] = example_universe[\"cutoff\"][0]\n",
    "example_universe[\"eval_fairness_grouping\"] = example_universe[\"eval_fairness_grouping\"][0]\n",
    "fairness_dict, metric_frame = universe_analysis.compute_metrics(\n",
    "    example_universe,\n",
    "    y_pred_prob=probs_test,\n",
    "    y_test=y_true,\n",
    "    org_test=org_test,\n",
    ")"
   ]
  },
  {
   "cell_type": "markdown",
   "id": "f95d4e02",
   "metadata": {
    "papermill": {
     "duration": 0.024185,
     "end_time": "2025-07-23T12:53:10.502492",
     "exception": false,
     "start_time": "2025-07-23T12:53:10.478307",
     "status": "completed"
    },
    "tags": []
   },
   "source": [
    "# Overall"
   ]
  },
  {
   "cell_type": "markdown",
   "id": "bdee4871",
   "metadata": {
    "papermill": {
     "duration": 0.021539,
     "end_time": "2025-07-23T12:53:10.545445",
     "exception": false,
     "start_time": "2025-07-23T12:53:10.523906",
     "status": "completed"
    },
    "tags": []
   },
   "source": [
    "Fairness\n",
    "Main fairness target: Equalized Odds. Seems to be a better fit than equal opportunity, since we're not only interested in Y = 1. Seems to be a better fit than demographic parity, since we also care about accuracy, not just equal distribution of preds.\n",
    "\n",
    "Pick column for computation of fairness metrics\n",
    "\n",
    "Performance\n",
    "Overall performance measures, most interesting in relation to the measures split by group below"
   ]
  },
  {
   "cell_type": "code",
   "execution_count": 56,
   "id": "c4e067c6",
   "metadata": {
    "execution": {
     "iopub.execute_input": "2025-07-23T12:53:10.590552Z",
     "iopub.status.busy": "2025-07-23T12:53:10.589714Z",
     "iopub.status.idle": "2025-07-23T12:53:10.599689Z",
     "shell.execute_reply": "2025-07-23T12:53:10.598596Z"
    },
    "papermill": {
     "duration": 0.034546,
     "end_time": "2025-07-23T12:53:10.601471",
     "exception": false,
     "start_time": "2025-07-23T12:53:10.566925",
     "status": "completed"
    },
    "tags": []
   },
   "outputs": [
    {
     "data": {
      "text/plain": [
       "accuracy                   0.225560\n",
       "balanced accuracy          0.551277\n",
       "f1                         0.246859\n",
       "precision                  0.141022\n",
       "false positive rate        0.886844\n",
       "false negative rate        0.010601\n",
       "selection rate             0.900000\n",
       "count                  89710.000000\n",
       "dtype: float64"
      ]
     },
     "execution_count": 56,
     "metadata": {},
     "output_type": "execute_result"
    }
   ],
   "source": [
    "metric_frame.overall"
   ]
  },
  {
   "cell_type": "markdown",
   "id": "e968fe9d",
   "metadata": {
    "papermill": {
     "duration": 0.025357,
     "end_time": "2025-07-23T12:53:10.650573",
     "exception": false,
     "start_time": "2025-07-23T12:53:10.625216",
     "status": "completed"
    },
    "tags": []
   },
   "source": [
    "By Group"
   ]
  },
  {
   "cell_type": "code",
   "execution_count": 57,
   "id": "ec325bce",
   "metadata": {
    "execution": {
     "iopub.execute_input": "2025-07-23T12:53:10.697378Z",
     "iopub.status.busy": "2025-07-23T12:53:10.696247Z",
     "iopub.status.idle": "2025-07-23T12:53:10.714597Z",
     "shell.execute_reply": "2025-07-23T12:53:10.713671Z"
    },
    "papermill": {
     "duration": 0.043272,
     "end_time": "2025-07-23T12:53:10.716319",
     "exception": false,
     "start_time": "2025-07-23T12:53:10.673047",
     "status": "completed"
    },
    "tags": []
   },
   "outputs": [
    {
     "data": {
      "text/html": [
       "<div>\n",
       "<style scoped>\n",
       "    .dataframe tbody tr th:only-of-type {\n",
       "        vertical-align: middle;\n",
       "    }\n",
       "\n",
       "    .dataframe tbody tr th {\n",
       "        vertical-align: top;\n",
       "    }\n",
       "\n",
       "    .dataframe thead th {\n",
       "        text-align: right;\n",
       "    }\n",
       "</style>\n",
       "<table border=\"1\" class=\"dataframe\">\n",
       "  <thead>\n",
       "    <tr style=\"text-align: right;\">\n",
       "      <th></th>\n",
       "      <th>accuracy</th>\n",
       "      <th>balanced accuracy</th>\n",
       "      <th>f1</th>\n",
       "      <th>precision</th>\n",
       "      <th>false positive rate</th>\n",
       "      <th>false negative rate</th>\n",
       "      <th>selection rate</th>\n",
       "      <th>count</th>\n",
       "    </tr>\n",
       "    <tr>\n",
       "      <th>majmin</th>\n",
       "      <th></th>\n",
       "      <th></th>\n",
       "      <th></th>\n",
       "      <th></th>\n",
       "      <th></th>\n",
       "      <th></th>\n",
       "      <th></th>\n",
       "      <th></th>\n",
       "    </tr>\n",
       "  </thead>\n",
       "  <tbody>\n",
       "    <tr>\n",
       "      <th>majority</th>\n",
       "      <td>0.247723</td>\n",
       "      <td>0.561769</td>\n",
       "      <td>0.257777</td>\n",
       "      <td>0.148211</td>\n",
       "      <td>0.865084</td>\n",
       "      <td>0.011379</td>\n",
       "      <td>0.881408</td>\n",
       "      <td>69170.0</td>\n",
       "    </tr>\n",
       "    <tr>\n",
       "      <th>minority</th>\n",
       "      <td>0.150925</td>\n",
       "      <td>0.516835</td>\n",
       "      <td>0.212285</td>\n",
       "      <td>0.118855</td>\n",
       "      <td>0.958728</td>\n",
       "      <td>0.007601</td>\n",
       "      <td>0.962610</td>\n",
       "      <td>20540.0</td>\n",
       "    </tr>\n",
       "  </tbody>\n",
       "</table>\n",
       "</div>"
      ],
      "text/plain": [
       "          accuracy  balanced accuracy        f1  precision  \\\n",
       "majmin                                                       \n",
       "majority  0.247723           0.561769  0.257777   0.148211   \n",
       "minority  0.150925           0.516835  0.212285   0.118855   \n",
       "\n",
       "          false positive rate  false negative rate  selection rate    count  \n",
       "majmin                                                                       \n",
       "majority             0.865084             0.011379        0.881408  69170.0  \n",
       "minority             0.958728             0.007601        0.962610  20540.0  "
      ]
     },
     "execution_count": 57,
     "metadata": {},
     "output_type": "execute_result"
    }
   ],
   "source": [
    "metric_frame.by_group"
   ]
  },
  {
   "cell_type": "code",
   "execution_count": 58,
   "id": "a9ddbe63",
   "metadata": {
    "execution": {
     "iopub.execute_input": "2025-07-23T12:53:10.763133Z",
     "iopub.status.busy": "2025-07-23T12:53:10.762423Z",
     "iopub.status.idle": "2025-07-23T12:53:13.397059Z",
     "shell.execute_reply": "2025-07-23T12:53:13.395802Z"
    },
    "papermill": {
     "duration": 2.659951,
     "end_time": "2025-07-23T12:53:13.399072",
     "exception": false,
     "start_time": "2025-07-23T12:53:10.739121",
     "status": "completed"
    },
    "tags": []
   },
   "outputs": [
    {
     "data": {
      "text/plain": [
       "array([[<Axes: title={'center': 'accuracy'}, xlabel='majmin'>,\n",
       "        <Axes: title={'center': 'balanced accuracy'}, xlabel='majmin'>,\n",
       "        <Axes: title={'center': 'f1'}, xlabel='majmin'>],\n",
       "       [<Axes: title={'center': 'precision'}, xlabel='majmin'>,\n",
       "        <Axes: title={'center': 'false positive rate'}, xlabel='majmin'>,\n",
       "        <Axes: title={'center': 'false negative rate'}, xlabel='majmin'>],\n",
       "       [<Axes: title={'center': 'selection rate'}, xlabel='majmin'>,\n",
       "        <Axes: title={'center': 'count'}, xlabel='majmin'>,\n",
       "        <Axes: xlabel='majmin'>]], dtype=object)"
      ]
     },
     "execution_count": 58,
     "metadata": {},
     "output_type": "execute_result"
    },
    {
     "data": {
      "image/png": "[encoded data removed]",
      "text/plain": [
       "<Figure size 1200x800 with 9 Axes>"
      ]
     },
     "metadata": {},
     "output_type": "display_data"
    }
   ],
   "source": [
    "# In a graphic\n",
    "metric_frame.by_group.plot.bar(\n",
    "    subplots=True,\n",
    "    layout=[3, 3],\n",
    "    legend=False,\n",
    "    figsize=[12, 8],\n",
    "    title=\"Show all metrics\",\n",
    ")"
   ]
  },
  {
   "cell_type": "markdown",
   "id": "f57a0bac",
   "metadata": {
    "papermill": {
     "duration": 0.023748,
     "end_time": "2025-07-23T12:53:13.447690",
     "exception": false,
     "start_time": "2025-07-23T12:53:13.423942",
     "status": "completed"
    },
    "tags": []
   },
   "source": [
    "# Final Output"
   ]
  },
  {
   "cell_type": "code",
   "execution_count": 59,
   "id": "96d280a3",
   "metadata": {
    "execution": {
     "iopub.execute_input": "2025-07-23T12:53:13.497450Z",
     "iopub.status.busy": "2025-07-23T12:53:13.496725Z",
     "iopub.status.idle": "2025-07-23T12:53:13.506112Z",
     "shell.execute_reply": "2025-07-23T12:53:13.505034Z"
    },
    "papermill": {
     "duration": 0.035855,
     "end_time": "2025-07-23T12:53:13.507876",
     "exception": false,
     "start_time": "2025-07-23T12:53:13.472021",
     "status": "completed"
    },
    "tags": []
   },
   "outputs": [
    {
     "data": {
      "text/plain": [
       "4"
      ]
     },
     "execution_count": 59,
     "metadata": {},
     "output_type": "execute_result"
    }
   ],
   "source": [
    "sub_universes = universe_analysis.generate_sub_universes()\n",
    "len(sub_universes)"
   ]
  },
  {
   "cell_type": "code",
   "execution_count": 60,
   "id": "92adf7ba",
   "metadata": {
    "execution": {
     "iopub.execute_input": "2025-07-23T12:53:13.557252Z",
     "iopub.status.busy": "2025-07-23T12:53:13.556608Z",
     "iopub.status.idle": "2025-07-23T12:53:13.563005Z",
     "shell.execute_reply": "2025-07-23T12:53:13.561955Z"
    },
    "papermill": {
     "duration": 0.032672,
     "end_time": "2025-07-23T12:53:13.564772",
     "exception": false,
     "start_time": "2025-07-23T12:53:13.532100",
     "status": "completed"
    },
    "tags": []
   },
   "outputs": [],
   "source": [
    "def filter_sub_universe_data(sub_universe, org_test):\n",
    "    # Keep all rows — no filtering\n",
    "    keep_rows_mask = np.ones(org_test.shape[0], dtype=bool)\n",
    "\n",
    "    print(f\"[INFO] Keeping all rows: {keep_rows_mask.sum()} rows retained.\")\n",
    "    return keep_rows_mask"
   ]
  },
  {
   "cell_type": "code",
   "execution_count": 61,
   "id": "4a759155",
   "metadata": {
    "execution": {
     "iopub.execute_input": "2025-07-23T12:53:13.602330Z",
     "iopub.status.busy": "2025-07-23T12:53:13.601875Z",
     "iopub.status.idle": "2025-07-23T12:53:21.232640Z",
     "shell.execute_reply": "2025-07-23T12:53:21.231400Z"
    },
    "papermill": {
     "duration": 7.647477,
     "end_time": "2025-07-23T12:53:21.234494",
     "exception": false,
     "start_time": "2025-07-23T12:53:13.587017",
     "status": "completed"
    },
    "tags": []
   },
   "outputs": [
    {
     "name": "stdout",
     "output_type": "stream",
     "text": [
      "Stopping execution_time clock.\n",
      "[INFO] Keeping all rows: 89710 rows retained.\n"
     ]
    },
    {
     "name": "stdout",
     "output_type": "stream",
     "text": [
      "[INFO] Keeping all rows: 89710 rows retained.\n"
     ]
    },
    {
     "name": "stdout",
     "output_type": "stream",
     "text": [
      "[INFO] Keeping all rows: 89710 rows retained.\n"
     ]
    },
    {
     "name": "stdout",
     "output_type": "stream",
     "text": [
      "[INFO] Keeping all rows: 89710 rows retained.\n"
     ]
    },
    {
     "data": {
      "text/html": [
       "<div>\n",
       "<style scoped>\n",
       "    .dataframe tbody tr th:only-of-type {\n",
       "        vertical-align: middle;\n",
       "    }\n",
       "\n",
       "    .dataframe tbody tr th {\n",
       "        vertical-align: top;\n",
       "    }\n",
       "\n",
       "    .dataframe thead th {\n",
       "        text-align: right;\n",
       "    }\n",
       "</style>\n",
       "<table border=\"1\" class=\"dataframe\">\n",
       "  <thead>\n",
       "    <tr style=\"text-align: right;\">\n",
       "      <th></th>\n",
       "      <th>run_no</th>\n",
       "      <th>universe_id</th>\n",
       "      <th>universe_settings</th>\n",
       "      <th>execution_time</th>\n",
       "      <th>test_size_n</th>\n",
       "      <th>test_size_frac</th>\n",
       "      <th>fair_main_equalized_odds_difference</th>\n",
       "      <th>fair_main_equalized_odds_ratio</th>\n",
       "      <th>fair_main_demographic_parity_difference</th>\n",
       "      <th>fair_main_demographic_parity_ratio</th>\n",
       "      <th>...</th>\n",
       "      <th>perf_grp_precision_0</th>\n",
       "      <th>perf_grp_precision_1</th>\n",
       "      <th>perf_grp_false positive rate_0</th>\n",
       "      <th>perf_grp_false positive rate_1</th>\n",
       "      <th>perf_grp_false negative rate_0</th>\n",
       "      <th>perf_grp_false negative rate_1</th>\n",
       "      <th>perf_grp_selection rate_0</th>\n",
       "      <th>perf_grp_selection rate_1</th>\n",
       "      <th>perf_grp_count_0</th>\n",
       "      <th>perf_grp_count_1</th>\n",
       "    </tr>\n",
       "  </thead>\n",
       "  <tbody>\n",
       "    <tr>\n",
       "      <th>0</th>\n",
       "      <td>6</td>\n",
       "      <td>bd5eb995e959eab90b9c2501c38dbb11</td>\n",
       "      <td>{\"cutoff\": \"quantile_0.1\", \"eval_fairness_grou...</td>\n",
       "      <td>17.31646</td>\n",
       "      <td>89710</td>\n",
       "      <td>1.0</td>\n",
       "      <td>0.093644</td>\n",
       "      <td>0.902325</td>\n",
       "      <td>0.081201</td>\n",
       "      <td>0.915644</td>\n",
       "      <td>...</td>\n",
       "      <td>NaN</td>\n",
       "      <td>NaN</td>\n",
       "      <td>NaN</td>\n",
       "      <td>NaN</td>\n",
       "      <td>NaN</td>\n",
       "      <td>NaN</td>\n",
       "      <td>NaN</td>\n",
       "      <td>NaN</td>\n",
       "      <td>NaN</td>\n",
       "      <td>NaN</td>\n",
       "    </tr>\n",
       "    <tr>\n",
       "      <th>0</th>\n",
       "      <td>6</td>\n",
       "      <td>bd5eb995e959eab90b9c2501c38dbb11</td>\n",
       "      <td>{\"cutoff\": \"quantile_0.1\", \"eval_fairness_grou...</td>\n",
       "      <td>17.31646</td>\n",
       "      <td>89710</td>\n",
       "      <td>1.0</td>\n",
       "      <td>0.093644</td>\n",
       "      <td>0.902325</td>\n",
       "      <td>0.081201</td>\n",
       "      <td>0.915644</td>\n",
       "      <td>...</td>\n",
       "      <td>0.118855</td>\n",
       "      <td>0.148211</td>\n",
       "      <td>0.958728</td>\n",
       "      <td>0.865084</td>\n",
       "      <td>0.007601</td>\n",
       "      <td>0.011379</td>\n",
       "      <td>0.96261</td>\n",
       "      <td>0.881408</td>\n",
       "      <td>20540.0</td>\n",
       "      <td>69170.0</td>\n",
       "    </tr>\n",
       "    <tr>\n",
       "      <th>0</th>\n",
       "      <td>6</td>\n",
       "      <td>bd5eb995e959eab90b9c2501c38dbb11</td>\n",
       "      <td>{\"cutoff\": \"quantile_0.25\", \"eval_fairness_gro...</td>\n",
       "      <td>17.31646</td>\n",
       "      <td>89710</td>\n",
       "      <td>1.0</td>\n",
       "      <td>0.171040</td>\n",
       "      <td>0.799190</td>\n",
       "      <td>0.148898</td>\n",
       "      <td>0.827824</td>\n",
       "      <td>...</td>\n",
       "      <td>NaN</td>\n",
       "      <td>NaN</td>\n",
       "      <td>NaN</td>\n",
       "      <td>NaN</td>\n",
       "      <td>NaN</td>\n",
       "      <td>NaN</td>\n",
       "      <td>NaN</td>\n",
       "      <td>NaN</td>\n",
       "      <td>NaN</td>\n",
       "      <td>NaN</td>\n",
       "    </tr>\n",
       "    <tr>\n",
       "      <th>0</th>\n",
       "      <td>6</td>\n",
       "      <td>bd5eb995e959eab90b9c2501c38dbb11</td>\n",
       "      <td>{\"cutoff\": \"quantile_0.25\", \"eval_fairness_gro...</td>\n",
       "      <td>17.31646</td>\n",
       "      <td>89710</td>\n",
       "      <td>1.0</td>\n",
       "      <td>0.171040</td>\n",
       "      <td>0.799190</td>\n",
       "      <td>0.148898</td>\n",
       "      <td>0.827824</td>\n",
       "      <td>...</td>\n",
       "      <td>0.128638</td>\n",
       "      <td>0.174802</td>\n",
       "      <td>0.851750</td>\n",
       "      <td>0.680710</td>\n",
       "      <td>0.035051</td>\n",
       "      <td>0.052954</td>\n",
       "      <td>0.86480</td>\n",
       "      <td>0.715903</td>\n",
       "      <td>20540.0</td>\n",
       "      <td>69170.0</td>\n",
       "    </tr>\n",
       "  </tbody>\n",
       "</table>\n",
       "<p>4 rows × 50 columns</p>\n",
       "</div>"
      ],
      "text/plain": [
       "  run_no                       universe_id  \\\n",
       "0      6  bd5eb995e959eab90b9c2501c38dbb11   \n",
       "0      6  bd5eb995e959eab90b9c2501c38dbb11   \n",
       "0      6  bd5eb995e959eab90b9c2501c38dbb11   \n",
       "0      6  bd5eb995e959eab90b9c2501c38dbb11   \n",
       "\n",
       "                                   universe_settings  execution_time  \\\n",
       "0  {\"cutoff\": \"quantile_0.1\", \"eval_fairness_grou...        17.31646   \n",
       "0  {\"cutoff\": \"quantile_0.1\", \"eval_fairness_grou...        17.31646   \n",
       "0  {\"cutoff\": \"quantile_0.25\", \"eval_fairness_gro...        17.31646   \n",
       "0  {\"cutoff\": \"quantile_0.25\", \"eval_fairness_gro...        17.31646   \n",
       "\n",
       "   test_size_n  test_size_frac  fair_main_equalized_odds_difference  \\\n",
       "0        89710             1.0                             0.093644   \n",
       "0        89710             1.0                             0.093644   \n",
       "0        89710             1.0                             0.171040   \n",
       "0        89710             1.0                             0.171040   \n",
       "\n",
       "   fair_main_equalized_odds_ratio  fair_main_demographic_parity_difference  \\\n",
       "0                        0.902325                                 0.081201   \n",
       "0                        0.902325                                 0.081201   \n",
       "0                        0.799190                                 0.148898   \n",
       "0                        0.799190                                 0.148898   \n",
       "\n",
       "   fair_main_demographic_parity_ratio  ...  perf_grp_precision_0  \\\n",
       "0                            0.915644  ...                   NaN   \n",
       "0                            0.915644  ...              0.118855   \n",
       "0                            0.827824  ...                   NaN   \n",
       "0                            0.827824  ...              0.128638   \n",
       "\n",
       "   perf_grp_precision_1  perf_grp_false positive rate_0  \\\n",
       "0                   NaN                             NaN   \n",
       "0              0.148211                        0.958728   \n",
       "0                   NaN                             NaN   \n",
       "0              0.174802                        0.851750   \n",
       "\n",
       "   perf_grp_false positive rate_1  perf_grp_false negative rate_0  \\\n",
       "0                             NaN                             NaN   \n",
       "0                        0.865084                        0.007601   \n",
       "0                             NaN                             NaN   \n",
       "0                        0.680710                        0.035051   \n",
       "\n",
       "   perf_grp_false negative rate_1  perf_grp_selection rate_0  \\\n",
       "0                             NaN                        NaN   \n",
       "0                        0.011379                    0.96261   \n",
       "0                             NaN                        NaN   \n",
       "0                        0.052954                    0.86480   \n",
       "\n",
       "   perf_grp_selection rate_1  perf_grp_count_0  perf_grp_count_1  \n",
       "0                        NaN               NaN               NaN  \n",
       "0                   0.881408           20540.0           69170.0  \n",
       "0                        NaN               NaN               NaN  \n",
       "0                   0.715903           20540.0           69170.0  \n",
       "\n",
       "[4 rows x 50 columns]"
      ]
     },
     "execution_count": 61,
     "metadata": {},
     "output_type": "execute_result"
    }
   ],
   "source": [
    "final_output = universe_analysis.generate_final_output(\n",
    "    y_pred_prob=probs_test,\n",
    "    y_test=y_true,\n",
    "    org_test=org_test,\n",
    "    filter_data=filter_sub_universe_data,\n",
    "    cp_metrics_df=cp_metrics_df,\n",
    "    save=True,\n",
    ")\n",
    "final_output"
   ]
  },
  {
   "cell_type": "code",
   "execution_count": null,
   "id": "721ff514-cb11-46f8-b6fc-50392f74b5cb",
   "metadata": {
    "papermill": {
     "duration": 0.026415,
     "end_time": "2025-07-23T12:53:21.290609",
     "exception": false,
     "start_time": "2025-07-23T12:53:21.264194",
     "status": "completed"
    },
    "tags": []
   },
   "outputs": [],
   "source": []
  }
 ],
 "metadata": {
  "celltoolbar": "Tags",
  "kernelspec": {
   "display_name": "Python (CMA Fairness)",
   "language": "python",
   "name": "cma_fair_env"
  },
  "language_info": {
   "codemirror_mode": {
    "name": "ipython",
    "version": 3
   },
   "file_extension": ".py",
   "mimetype": "text/x-python",
   "name": "python",
   "nbconvert_exporter": "python",
   "pygments_lexer": "ipython3",
   "version": "3.10.12"
  },
  "papermill": {
   "default_parameters": {},
   "duration": 29.407767,
   "end_time": "2025-07-23T12:53:22.038200",
   "environment_variables": {},
   "exception": null,
   "input_path": "universe_analysis.ipynb",
   "output_path": "output/runs/6/notebooks/m_6-bd5eb995e959eab90b9c2501c38dbb11.ipynb",
   "parameters": {
    "output_dir": "output",
    "run_no": "6",
    "seed": "2023",
    "universe": "{\"cutoff\": [\"quantile_0.1\", \"quantile_0.25\"], \"eval_fairness_grouping\": [\"majority-minority\", \"nationality-all\"], \"exclude_features\": \"none\", \"exclude_subgroups\": \"keep-all\", \"model\": \"penalized_logreg\", \"scale\": \"scale\"}",
    "universe_id": "bd5eb995e959eab90b9c2501c38dbb11"
   },
   "start_time": "2025-07-23T12:52:52.630433",
   "version": "2.6.0"
  }
 },
 "nbformat": 4,
 "nbformat_minor": 5
}