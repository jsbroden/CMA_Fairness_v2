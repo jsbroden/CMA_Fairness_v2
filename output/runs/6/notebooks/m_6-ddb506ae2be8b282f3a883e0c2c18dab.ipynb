{
 "cells": [
  {
   "cell_type": "code",
   "execution_count": 1,
   "id": "f159f837-637b-42ba-96b5-ec9a68c44524",
   "metadata": {
    "execution": {
     "iopub.execute_input": "2025-07-23T13:01:35.440155Z",
     "iopub.status.busy": "2025-07-23T13:01:35.439635Z",
     "iopub.status.idle": "2025-07-23T13:01:35.453874Z",
     "shell.execute_reply": "2025-07-23T13:01:35.452886Z"
    },
    "papermill": {
     "duration": 0.033728,
     "end_time": "2025-07-23T13:01:35.455380",
     "exception": false,
     "start_time": "2025-07-23T13:01:35.421652",
     "status": "completed"
    },
    "tags": []
   },
   "outputs": [
    {
     "name": "stdout",
     "output_type": "stream",
     "text": [
      "/dss/dsshome1/0C/ra93lal2/cma/CMA_Fairness_v2\n"
     ]
    },
    {
     "name": "stderr",
     "output_type": "stream",
     "text": [
      "/dss/dsshome1/0C/ra93lal2/.local/share/virtualenvs/CMA_Fairness_v2-3j10GkSs/lib/python3.10/site-packages/IPython/core/magics/osm.py:393: UserWarning: This is now an optional IPython functionality, using bookmarks requires you to install the `pickleshare` library.\n",
      "  bkms = self.shell.db.get('bookmarks', {})\n",
      "/dss/dsshome1/0C/ra93lal2/.local/share/virtualenvs/CMA_Fairness_v2-3j10GkSs/lib/python3.10/site-packages/IPython/core/magics/osm.py:417: UserWarning: This is now an optional IPython functionality, setting dhist requires you to install the `pickleshare` library.\n",
      "  self.shell.db['dhist'] = compress_dhist(dhist)[-100:]\n"
     ]
    }
   ],
   "source": [
    "%cd ~/cma/CMA_Fairness_v2"
   ]
  },
  {
   "cell_type": "markdown",
   "id": "de2603b9",
   "metadata": {
    "papermill": {
     "duration": 0.01595,
     "end_time": "2025-07-23T13:01:35.487682",
     "exception": false,
     "start_time": "2025-07-23T13:01:35.471732",
     "status": "completed"
    },
    "tags": []
   },
   "source": [
    "The following cell holds the definition of our parameters, these values can be overriden by rendering the with e.g. the following command:\n",
    "\n",
    "papermill -p alpha 0.2 -p ratio 0.3 universe_analysis.ipynb output/test_run.ipynb"
   ]
  },
  {
   "cell_type": "code",
   "execution_count": 2,
   "id": "a80968a0-40bb-4fa9-85ef-2d5eefb01975",
   "metadata": {
    "execution": {
     "iopub.execute_input": "2025-07-23T13:01:35.521661Z",
     "iopub.status.busy": "2025-07-23T13:01:35.520948Z",
     "iopub.status.idle": "2025-07-23T13:01:35.527467Z",
     "shell.execute_reply": "2025-07-23T13:01:35.526476Z"
    },
    "papermill": {
     "duration": 0.025648,
     "end_time": "2025-07-23T13:01:35.529366",
     "exception": false,
     "start_time": "2025-07-23T13:01:35.503718",
     "status": "completed"
    },
    "tags": []
   },
   "outputs": [
    {
     "name": "stdout",
     "output_type": "stream",
     "text": [
      "Current working directory: /dss/dsshome1/0C/ra93lal2/cma/CMA_Fairness_v2\n"
     ]
    }
   ],
   "source": [
    "import os\n",
    "print(\"Current working directory:\", os.getcwd())"
   ]
  },
  {
   "cell_type": "code",
   "execution_count": 3,
   "id": "2dce4c03",
   "metadata": {
    "execution": {
     "iopub.execute_input": "2025-07-23T13:01:35.567437Z",
     "iopub.status.busy": "2025-07-23T13:01:35.566466Z",
     "iopub.status.idle": "2025-07-23T13:01:35.573103Z",
     "shell.execute_reply": "2025-07-23T13:01:35.572128Z"
    },
    "papermill": {
     "duration": 0.027175,
     "end_time": "2025-07-23T13:01:35.574857",
     "exception": false,
     "start_time": "2025-07-23T13:01:35.547682",
     "status": "completed"
    },
    "tags": [
     "parameters"
    ]
   },
   "outputs": [],
   "source": [
    "run_no = 0\n",
    "universe_id = \"test\"\n",
    "universe = {\n",
    "    \"scale\": \"scale\", # \"scale\", \"do-not-scale\",\n",
    "    \"model\": \"elasticnet\", # \"logreg\", \"penalized_logreg\", \"rf\", \"gbm\", \"elasticnet\"\n",
    "    \"cutoff\": [\"quantile_0.15\", \"quantile_0.30\"],\n",
    "    \"exclude_features\": \"age\", # \"none\", \"nationality\", \"sex\", \"nationality-sex\", \"age\"\n",
    "    \"exclude_subgroups\": \"keep-all\", # \"keep-all\", \"drop-non-german\"\n",
    "    \"eval_fairness_grouping\": [\"majority-minority\", \"nationality-all\"]\n",
    "}\n",
    "\n",
    "output_dir=\"./output\"\n",
    "seed=0"
   ]
  },
  {
   "cell_type": "code",
   "execution_count": 4,
   "id": "edcf1e0a",
   "metadata": {
    "execution": {
     "iopub.execute_input": "2025-07-23T13:01:35.611455Z",
     "iopub.status.busy": "2025-07-23T13:01:35.610516Z",
     "iopub.status.idle": "2025-07-23T13:01:35.616291Z",
     "shell.execute_reply": "2025-07-23T13:01:35.615289Z"
    },
    "papermill": {
     "duration": 0.025944,
     "end_time": "2025-07-23T13:01:35.618023",
     "exception": false,
     "start_time": "2025-07-23T13:01:35.592079",
     "status": "completed"
    },
    "tags": [
     "injected-parameters"
    ]
   },
   "outputs": [],
   "source": [
    "# Parameters\n",
    "universe_id = \"ddb506ae2be8b282f3a883e0c2c18dab\"\n",
    "run_no = \"6\"\n",
    "universe = \"{\\\"cutoff\\\": [\\\"quantile_0.1\\\", \\\"quantile_0.25\\\"], \\\"eval_fairness_grouping\\\": [\\\"majority-minority\\\", \\\"nationality-all\\\"], \\\"exclude_features\\\": \\\"none\\\", \\\"exclude_subgroups\\\": \\\"keep-all\\\", \\\"model\\\": \\\"elasticnet\\\", \\\"scale\\\": \\\"do-not-scale\\\"}\"\n",
    "output_dir = \"output\"\n",
    "seed = \"2023\"\n"
   ]
  },
  {
   "cell_type": "code",
   "execution_count": 5,
   "id": "1650acaf",
   "metadata": {
    "execution": {
     "iopub.execute_input": "2025-07-23T13:01:35.655260Z",
     "iopub.status.busy": "2025-07-23T13:01:35.654321Z",
     "iopub.status.idle": "2025-07-23T13:01:35.660052Z",
     "shell.execute_reply": "2025-07-23T13:01:35.659114Z"
    },
    "papermill": {
     "duration": 0.02587,
     "end_time": "2025-07-23T13:01:35.661703",
     "exception": false,
     "start_time": "2025-07-23T13:01:35.635833",
     "status": "completed"
    },
    "tags": []
   },
   "outputs": [],
   "source": [
    "import json\n",
    "# Parse universe into dict if it is passed as a string\n",
    "if isinstance(universe, str):\n",
    "    universe = json.loads(universe)"
   ]
  },
  {
   "cell_type": "code",
   "execution_count": 6,
   "id": "16620c48",
   "metadata": {
    "execution": {
     "iopub.execute_input": "2025-07-23T13:01:35.698558Z",
     "iopub.status.busy": "2025-07-23T13:01:35.697984Z",
     "iopub.status.idle": "2025-07-23T13:01:35.748135Z",
     "shell.execute_reply": "2025-07-23T13:01:35.747175Z"
    },
    "papermill": {
     "duration": 0.070731,
     "end_time": "2025-07-23T13:01:35.750150",
     "exception": false,
     "start_time": "2025-07-23T13:01:35.679419",
     "status": "completed"
    },
    "tags": []
   },
   "outputs": [],
   "source": [
    "# Auto-reload the custom package\n",
    "%load_ext autoreload\n",
    "%autoreload 1\n",
    "%aimport fairness_multiverse"
   ]
  },
  {
   "cell_type": "code",
   "execution_count": 7,
   "id": "01c5c9f3",
   "metadata": {
    "execution": {
     "iopub.execute_input": "2025-07-23T13:01:35.786990Z",
     "iopub.status.busy": "2025-07-23T13:01:35.786223Z",
     "iopub.status.idle": "2025-07-23T13:01:37.967229Z",
     "shell.execute_reply": "2025-07-23T13:01:37.966184Z"
    },
    "papermill": {
     "duration": 2.201343,
     "end_time": "2025-07-23T13:01:37.969255",
     "exception": false,
     "start_time": "2025-07-23T13:01:35.767912",
     "status": "completed"
    },
    "tags": []
   },
   "outputs": [],
   "source": [
    "from fairness_multiverse.universe import UniverseAnalysis\n",
    "\n",
    "universe_analysis = UniverseAnalysis(\n",
    "    run_no = run_no,\n",
    "    universe_id = universe_id,\n",
    "    universe = universe,\n",
    "    output_dir=output_dir,\n",
    ")"
   ]
  },
  {
   "cell_type": "code",
   "execution_count": 8,
   "id": "106241f5",
   "metadata": {
    "execution": {
     "iopub.execute_input": "2025-07-23T13:01:38.004526Z",
     "iopub.status.busy": "2025-07-23T13:01:38.003988Z",
     "iopub.status.idle": "2025-07-23T13:01:38.010885Z",
     "shell.execute_reply": "2025-07-23T13:01:38.009949Z"
    },
    "papermill": {
     "duration": 0.026434,
     "end_time": "2025-07-23T13:01:38.012628",
     "exception": false,
     "start_time": "2025-07-23T13:01:37.986194",
     "status": "completed"
    },
    "tags": []
   },
   "outputs": [
    {
     "name": "stdout",
     "output_type": "stream",
     "text": [
      "Using Seed: 2023\n"
     ]
    }
   ],
   "source": [
    "import numpy as np\n",
    "parsed_seed = int(seed)\n",
    "np.random.seed(parsed_seed)\n",
    "print(f\"Using Seed: {parsed_seed}\")"
   ]
  },
  {
   "cell_type": "markdown",
   "id": "e0ebdc57",
   "metadata": {
    "papermill": {
     "duration": 0.016711,
     "end_time": "2025-07-23T13:01:38.046705",
     "exception": false,
     "start_time": "2025-07-23T13:01:38.029994",
     "status": "completed"
    },
    "tags": []
   },
   "source": [
    "# Loading Data"
   ]
  },
  {
   "cell_type": "markdown",
   "id": "681925a3",
   "metadata": {
    "papermill": {
     "duration": 0.0164,
     "end_time": "2025-07-23T13:01:38.079523",
     "exception": false,
     "start_time": "2025-07-23T13:01:38.063123",
     "status": "completed"
    },
    "tags": []
   },
   "source": [
    "Load siab_train, siab_test, siab_calib and/or \n",
    "load siab_train_features, siab_train_labels"
   ]
  },
  {
   "cell_type": "code",
   "execution_count": 9,
   "id": "f0496b8a",
   "metadata": {
    "execution": {
     "iopub.execute_input": "2025-07-23T13:01:38.118439Z",
     "iopub.status.busy": "2025-07-23T13:01:38.117581Z",
     "iopub.status.idle": "2025-07-23T13:01:38.123844Z",
     "shell.execute_reply": "2025-07-23T13:01:38.122869Z"
    },
    "papermill": {
     "duration": 0.027287,
     "end_time": "2025-07-23T13:01:38.125463",
     "exception": false,
     "start_time": "2025-07-23T13:01:38.098176",
     "status": "completed"
    },
    "tags": []
   },
   "outputs": [],
   "source": [
    "# Do I need to load siab? Delete this cell?\n",
    "\n",
    "#from pathlib import Path\n",
    "#import pandas as pd\n",
    "#\n",
    "## File paths\n",
    "#raw_file = Path(\"data/raw/siab.csv\")\n",
    "#cache_file = Path(\"data/siab_cached.csv.gz\")\n",
    "#\n",
    "## Ensure cache directory exists\n",
    "#cache_file.parent.mkdir(parents=True, exist_ok=True)\n",
    "#\n",
    "## Load with simple caching\n",
    "#if cache_file.exists():\n",
    "#    print(f\"Loading SIAB data from cache: {cache_file}\")\n",
    "#    siab = pd.read_csv(cache_file, compression='gzip')\n",
    "#else:\n",
    "#    print(f\"Cache not found. Reading raw SIAB data: {raw_file}\")\n",
    "#    siab = pd.read_csv(raw_file)\n",
    "#    siab.to_csv(cache_file, index=False, compression='gzip')\n",
    "#    print(f\"Cached SIAB data to: {cache_file}\")\n",
    "#\n",
    "## Now use `siab` DataFrame as needed\n",
    "#print(siab.shape)\n"
   ]
  },
  {
   "cell_type": "code",
   "execution_count": 10,
   "id": "a0edb063",
   "metadata": {
    "execution": {
     "iopub.execute_input": "2025-07-23T13:01:38.161645Z",
     "iopub.status.busy": "2025-07-23T13:01:38.160922Z",
     "iopub.status.idle": "2025-07-23T13:01:38.610045Z",
     "shell.execute_reply": "2025-07-23T13:01:38.609037Z"
    },
    "papermill": {
     "duration": 0.469159,
     "end_time": "2025-07-23T13:01:38.612061",
     "exception": false,
     "start_time": "2025-07-23T13:01:38.142902",
     "status": "completed"
    },
    "tags": []
   },
   "outputs": [],
   "source": [
    "import pandas as pd\n",
    "\n",
    "X_train = pd.read_csv(\"./data/X_train.csv\")\n",
    "y_train = pd.read_csv(\"./data/y_train.csv\")"
   ]
  },
  {
   "cell_type": "code",
   "execution_count": 11,
   "id": "63d08085",
   "metadata": {
    "execution": {
     "iopub.execute_input": "2025-07-23T13:01:38.648138Z",
     "iopub.status.busy": "2025-07-23T13:01:38.647226Z",
     "iopub.status.idle": "2025-07-23T13:01:40.109942Z",
     "shell.execute_reply": "2025-07-23T13:01:40.108923Z"
    },
    "papermill": {
     "duration": 1.482378,
     "end_time": "2025-07-23T13:01:40.111925",
     "exception": false,
     "start_time": "2025-07-23T13:01:38.629547",
     "status": "completed"
    },
    "tags": []
   },
   "outputs": [],
   "source": [
    "X_test = pd.read_csv(\"./data/X_test.csv\")\n",
    "y_true = pd.read_csv(\"./data/y_test.csv\")"
   ]
  },
  {
   "cell_type": "code",
   "execution_count": 12,
   "id": "98a8d0fa-1d3d-4ed8-bb2c-281470e24add",
   "metadata": {
    "execution": {
     "iopub.execute_input": "2025-07-23T13:01:40.159537Z",
     "iopub.status.busy": "2025-07-23T13:01:40.158430Z",
     "iopub.status.idle": "2025-07-23T13:01:41.607449Z",
     "shell.execute_reply": "2025-07-23T13:01:41.606398Z"
    },
    "papermill": {
     "duration": 1.470615,
     "end_time": "2025-07-23T13:01:41.609471",
     "exception": false,
     "start_time": "2025-07-23T13:01:40.138856",
     "status": "completed"
    },
    "tags": []
   },
   "outputs": [],
   "source": [
    "# Calibration data for conformal\n",
    "X_calib = pd.read_csv(\"./data/X_calib.csv\")\n",
    "y_calib = pd.read_csv(\"./data/y_calib.csv\")"
   ]
  },
  {
   "cell_type": "code",
   "execution_count": 13,
   "id": "e6c733c5",
   "metadata": {
    "execution": {
     "iopub.execute_input": "2025-07-23T13:01:41.645264Z",
     "iopub.status.busy": "2025-07-23T13:01:41.644403Z",
     "iopub.status.idle": "2025-07-23T13:01:41.747663Z",
     "shell.execute_reply": "2025-07-23T13:01:41.746614Z"
    },
    "papermill": {
     "duration": 0.12351,
     "end_time": "2025-07-23T13:01:41.749960",
     "exception": false,
     "start_time": "2025-07-23T13:01:41.626450",
     "status": "completed"
    },
    "tags": []
   },
   "outputs": [],
   "source": [
    "# Auxiliary data needed downstream in the pipeline\n",
    "\n",
    "org_train = X_train.copy()\n",
    "org_test = X_test.copy()\n",
    "org_calib = X_calib.copy()"
   ]
  },
  {
   "cell_type": "markdown",
   "id": "0a4a1b33",
   "metadata": {
    "papermill": {
     "duration": 0.018272,
     "end_time": "2025-07-23T13:01:41.786751",
     "exception": false,
     "start_time": "2025-07-23T13:01:41.768479",
     "status": "completed"
    },
    "tags": []
   },
   "source": [
    "# Preprocessing Data"
   ]
  },
  {
   "cell_type": "code",
   "execution_count": 14,
   "id": "ca879031",
   "metadata": {
    "execution": {
     "iopub.execute_input": "2025-07-23T13:01:41.825782Z",
     "iopub.status.busy": "2025-07-23T13:01:41.824905Z",
     "iopub.status.idle": "2025-07-23T13:01:41.832256Z",
     "shell.execute_reply": "2025-07-23T13:01:41.831202Z"
    },
    "papermill": {
     "duration": 0.028856,
     "end_time": "2025-07-23T13:01:41.833925",
     "exception": false,
     "start_time": "2025-07-23T13:01:41.805069",
     "status": "completed"
    },
    "tags": []
   },
   "outputs": [],
   "source": [
    "# EXCLUDE PROTECTED FEATURES\n",
    "# ----------------------\n",
    "# \"exclude_features\": \"none\", # \"nationality\", \"sex\", \"nationality-sex\"\n",
    "\n",
    "excluded_features = universe[\"exclude_features\"].split(\"-\") # split, e.g.: \"nationality-sex\" -> [\"nationality\", \"sex\"]\n",
    "excluded_features_dictionary = {\n",
    "    \"nationality\": [\"maxdeutsch1\", \"maxdeutsch.Missing.\"],\n",
    "    \"sex\": [\"frau1\"],\n",
    "    \"age\": [\"age\"],\n",
    "}\n"
   ]
  },
  {
   "cell_type": "code",
   "execution_count": 15,
   "id": "b745ac60",
   "metadata": {
    "execution": {
     "iopub.execute_input": "2025-07-23T13:01:41.872948Z",
     "iopub.status.busy": "2025-07-23T13:01:41.872202Z",
     "iopub.status.idle": "2025-07-23T13:01:41.878176Z",
     "shell.execute_reply": "2025-07-23T13:01:41.877185Z"
    },
    "papermill": {
     "duration": 0.026853,
     "end_time": "2025-07-23T13:01:41.879820",
     "exception": false,
     "start_time": "2025-07-23T13:01:41.852967",
     "status": "completed"
    },
    "tags": []
   },
   "outputs": [],
   "source": [
    "# Code nice names to column names\n",
    "\n",
    "excluded_features_columns = [\n",
    "    excluded_features_dictionary[f] for f in excluded_features if len(f) > 0 and f != \"none\"\n",
    "]"
   ]
  },
  {
   "cell_type": "code",
   "execution_count": 16,
   "id": "f84f73a2",
   "metadata": {
    "execution": {
     "iopub.execute_input": "2025-07-23T13:01:41.919996Z",
     "iopub.status.busy": "2025-07-23T13:01:41.919049Z",
     "iopub.status.idle": "2025-07-23T13:01:41.925856Z",
     "shell.execute_reply": "2025-07-23T13:01:41.924890Z"
    },
    "papermill": {
     "duration": 0.028766,
     "end_time": "2025-07-23T13:01:41.927603",
     "exception": false,
     "start_time": "2025-07-23T13:01:41.898837",
     "status": "completed"
    },
    "tags": []
   },
   "outputs": [],
   "source": [
    "from utils import flatten_once\n",
    "\n",
    "excluded_features_columns = flatten_once(excluded_features_columns)"
   ]
  },
  {
   "cell_type": "code",
   "execution_count": 17,
   "id": "884dea22",
   "metadata": {
    "execution": {
     "iopub.execute_input": "2025-07-23T13:01:41.967960Z",
     "iopub.status.busy": "2025-07-23T13:01:41.967266Z",
     "iopub.status.idle": "2025-07-23T13:01:41.973228Z",
     "shell.execute_reply": "2025-07-23T13:01:41.972266Z"
    },
    "papermill": {
     "duration": 0.027794,
     "end_time": "2025-07-23T13:01:41.974890",
     "exception": false,
     "start_time": "2025-07-23T13:01:41.947096",
     "status": "completed"
    },
    "tags": []
   },
   "outputs": [],
   "source": [
    "if len(excluded_features_columns) > 0:\n",
    "    print(f\"Dropping features: {excluded_features_columns}\")\n",
    "    X_train.drop(excluded_features_columns, axis=1, inplace=True)"
   ]
  },
  {
   "cell_type": "code",
   "execution_count": 18,
   "id": "95ab8b16",
   "metadata": {
    "execution": {
     "iopub.execute_input": "2025-07-23T13:01:42.015013Z",
     "iopub.status.busy": "2025-07-23T13:01:42.014314Z",
     "iopub.status.idle": "2025-07-23T13:01:42.020760Z",
     "shell.execute_reply": "2025-07-23T13:01:42.019620Z"
    },
    "papermill": {
     "duration": 0.028563,
     "end_time": "2025-07-23T13:01:42.022544",
     "exception": false,
     "start_time": "2025-07-23T13:01:41.993981",
     "status": "completed"
    },
    "tags": []
   },
   "outputs": [],
   "source": [
    "if len(excluded_features_columns) > 0:\n",
    "    print(f\"Dropping features: {excluded_features_columns}\")\n",
    "    X_test.drop(excluded_features_columns, axis=1, inplace=True)"
   ]
  },
  {
   "cell_type": "code",
   "execution_count": 19,
   "id": "1853aaf5-fb9f-46cb-a2b5-8ea4ae2237e4",
   "metadata": {
    "execution": {
     "iopub.execute_input": "2025-07-23T13:01:42.063005Z",
     "iopub.status.busy": "2025-07-23T13:01:42.062317Z",
     "iopub.status.idle": "2025-07-23T13:01:42.068894Z",
     "shell.execute_reply": "2025-07-23T13:01:42.067869Z"
    },
    "papermill": {
     "duration": 0.02904,
     "end_time": "2025-07-23T13:01:42.070804",
     "exception": false,
     "start_time": "2025-07-23T13:01:42.041764",
     "status": "completed"
    },
    "tags": []
   },
   "outputs": [],
   "source": [
    "if len(excluded_features_columns) > 0:\n",
    "    print(f\"Dropping features: {excluded_features_columns}\")\n",
    "    X_calib.drop(excluded_features_columns, axis=1, inplace=True)"
   ]
  },
  {
   "cell_type": "code",
   "execution_count": 20,
   "id": "76c4dc6d",
   "metadata": {
    "execution": {
     "iopub.execute_input": "2025-07-23T13:01:42.111532Z",
     "iopub.status.busy": "2025-07-23T13:01:42.110816Z",
     "iopub.status.idle": "2025-07-23T13:01:42.116853Z",
     "shell.execute_reply": "2025-07-23T13:01:42.115838Z"
    },
    "papermill": {
     "duration": 0.028433,
     "end_time": "2025-07-23T13:01:42.118680",
     "exception": false,
     "start_time": "2025-07-23T13:01:42.090247",
     "status": "completed"
    },
    "tags": []
   },
   "outputs": [],
   "source": [
    "# EXCLUDE CERTAIN SUBGROUPS\n",
    "# ----------------------\n",
    "\n",
    "mode = universe.get(\"exclude_subgroups\", \"keep-all\") \n",
    "# Fetches the exclude_subgroups setting from the universe dict.\n",
    "# Defaults to \"keep-all\" if the key is missing."
   ]
  },
  {
   "cell_type": "code",
   "execution_count": 21,
   "id": "21994072",
   "metadata": {
    "execution": {
     "iopub.execute_input": "2025-07-23T13:01:42.159379Z",
     "iopub.status.busy": "2025-07-23T13:01:42.158661Z",
     "iopub.status.idle": "2025-07-23T13:01:42.165836Z",
     "shell.execute_reply": "2025-07-23T13:01:42.164815Z"
    },
    "papermill": {
     "duration": 0.029315,
     "end_time": "2025-07-23T13:01:42.167620",
     "exception": false,
     "start_time": "2025-07-23T13:01:42.138305",
     "status": "completed"
    },
    "tags": []
   },
   "outputs": [],
   "source": [
    "if mode == \"keep-all\":\n",
    "    keep_mask = pd.Series(True, index=org_train.index)\n",
    "\n",
    "# org_train contains the original feature columns from features_org (in Simson)\n",
    "# features_org contains unprocessed features, for me X_train at beginning ???\n",
    "# For keep-all, creates a boolean Series (keep_mask) of all True, so no rows are removed.\n",
    "\n",
    "elif mode == \"drop-non-german\":\n",
    "    keep_mask = org_train[\"maxdeutsch1\"] == 1 # ??? what about missing values?\n",
    "\n",
    "else:\n",
    "    raise ValueError(f\"Unsupported mode for exclude_subgroups: {mode}\")\n"
   ]
  },
  {
   "cell_type": "code",
   "execution_count": 22,
   "id": "71651440",
   "metadata": {
    "execution": {
     "iopub.execute_input": "2025-07-23T13:01:42.209247Z",
     "iopub.status.busy": "2025-07-23T13:01:42.208233Z",
     "iopub.status.idle": "2025-07-23T13:01:42.215760Z",
     "shell.execute_reply": "2025-07-23T13:01:42.214827Z"
    },
    "papermill": {
     "duration": 0.030702,
     "end_time": "2025-07-23T13:01:42.217517",
     "exception": false,
     "start_time": "2025-07-23T13:01:42.186815",
     "status": "completed"
    },
    "tags": []
   },
   "outputs": [],
   "source": [
    "n_drop = (~keep_mask).sum() # Calculates how many rows are set to be dropped\n",
    "if n_drop > 0:\n",
    "    pct = n_drop / len(keep_mask) * 100\n",
    "    print(f\"Dropping {n_drop} rows ({pct:.2f}%) where mode='{mode}'\")"
   ]
  },
  {
   "cell_type": "code",
   "execution_count": 23,
   "id": "5fb8eee5",
   "metadata": {
    "execution": {
     "iopub.execute_input": "2025-07-23T13:01:42.255981Z",
     "iopub.status.busy": "2025-07-23T13:01:42.255275Z",
     "iopub.status.idle": "2025-07-23T13:01:42.272881Z",
     "shell.execute_reply": "2025-07-23T13:01:42.271871Z"
    },
    "papermill": {
     "duration": 0.038969,
     "end_time": "2025-07-23T13:01:42.274874",
     "exception": false,
     "start_time": "2025-07-23T13:01:42.235905",
     "status": "completed"
    },
    "tags": []
   },
   "outputs": [],
   "source": [
    "X_train = X_train[keep_mask]"
   ]
  },
  {
   "cell_type": "code",
   "execution_count": 24,
   "id": "b202bb3a",
   "metadata": {
    "execution": {
     "iopub.execute_input": "2025-07-23T13:01:42.314262Z",
     "iopub.status.busy": "2025-07-23T13:01:42.313335Z",
     "iopub.status.idle": "2025-07-23T13:01:42.320669Z",
     "shell.execute_reply": "2025-07-23T13:01:42.319657Z"
    },
    "papermill": {
     "duration": 0.028925,
     "end_time": "2025-07-23T13:01:42.322781",
     "exception": false,
     "start_time": "2025-07-23T13:01:42.293856",
     "status": "completed"
    },
    "tags": []
   },
   "outputs": [],
   "source": [
    "y_train = y_train[keep_mask]"
   ]
  },
  {
   "cell_type": "markdown",
   "id": "493e2ac3",
   "metadata": {
    "papermill": {
     "duration": 0.017712,
     "end_time": "2025-07-23T13:01:42.359299",
     "exception": false,
     "start_time": "2025-07-23T13:01:42.341587",
     "status": "completed"
    },
    "tags": []
   },
   "source": [
    "# Model Training"
   ]
  },
  {
   "cell_type": "code",
   "execution_count": 25,
   "id": "679e1268",
   "metadata": {
    "execution": {
     "iopub.execute_input": "2025-07-23T13:01:42.397162Z",
     "iopub.status.busy": "2025-07-23T13:01:42.396631Z",
     "iopub.status.idle": "2025-07-23T13:01:42.509378Z",
     "shell.execute_reply": "2025-07-23T13:01:42.508393Z"
    },
    "papermill": {
     "duration": 0.134208,
     "end_time": "2025-07-23T13:01:42.511312",
     "exception": false,
     "start_time": "2025-07-23T13:01:42.377104",
     "status": "completed"
    },
    "tags": []
   },
   "outputs": [],
   "source": [
    "from sklearn.linear_model import LogisticRegression\n",
    "from sklearn.ensemble import GradientBoostingClassifier, RandomForestClassifier\n",
    "\n",
    "if (universe[\"model\"] == \"logreg\"):\n",
    "    model = LogisticRegression() #penalty=\"none\") #, solver=\"newton-cg\", max_iter=1) # include random_state=19 ?\n",
    "elif (universe[\"model\"] == \"penalized_logreg\"):\n",
    "    model = LogisticRegression(penalty=\"l2\", C=1.0) #, solver=\"newton-cg\", max_iter=1)\n",
    "elif (universe[\"model\"] == \"rf\"):\n",
    "    model = RandomForestClassifier(n_estimators=100, n_jobs=-1)\n",
    "elif (universe[\"model\"] == \"gbm\"):\n",
    "    model = GradientBoostingClassifier()\n",
    "elif (universe[\"model\"] == \"elasticnet\"):\n",
    "    model = LogisticRegression(penalty = 'elasticnet', solver = 'saga', l1_ratio = 0.5, max_iter=5000) # which solver to use?\n",
    "else:\n",
    "    raise \"Unsupported universe.model\""
   ]
  },
  {
   "cell_type": "code",
   "execution_count": 26,
   "id": "0cc8f744",
   "metadata": {
    "execution": {
     "iopub.execute_input": "2025-07-23T13:01:42.549103Z",
     "iopub.status.busy": "2025-07-23T13:01:42.548303Z",
     "iopub.status.idle": "2025-07-23T13:01:42.554854Z",
     "shell.execute_reply": "2025-07-23T13:01:42.553854Z"
    },
    "papermill": {
     "duration": 0.027176,
     "end_time": "2025-07-23T13:01:42.556515",
     "exception": false,
     "start_time": "2025-07-23T13:01:42.529339",
     "status": "completed"
    },
    "tags": []
   },
   "outputs": [],
   "source": [
    "import numpy as np\n",
    "from sklearn.pipeline import Pipeline\n",
    "from sklearn.preprocessing import StandardScaler\n",
    "\n",
    "model = Pipeline([\n",
    "    #(\"continuous_processor\", continuous_processor),\n",
    "    #(\"categorical_preprocessor\", categorical_preprocessor),\n",
    "    (\"scale\", StandardScaler() if universe[\"scale\"] == \"scale\" else None), \n",
    "    (\"model\", model),\n",
    "])"
   ]
  },
  {
   "cell_type": "code",
   "execution_count": 27,
   "id": "9442c04d",
   "metadata": {
    "execution": {
     "iopub.execute_input": "2025-07-23T13:01:42.605984Z",
     "iopub.status.busy": "2025-07-23T13:01:42.605435Z",
     "iopub.status.idle": "2025-07-23T13:05:30.736037Z",
     "shell.execute_reply": "2025-07-23T13:05:30.734983Z"
    },
    "papermill": {
     "duration": 228.181395,
     "end_time": "2025-07-23T13:05:30.757129",
     "exception": false,
     "start_time": "2025-07-23T13:01:42.575734",
     "status": "completed"
    },
    "tags": []
   },
   "outputs": [
    {
     "data": {
      "text/html": [
       "<style>#sk-container-id-1 {color: black;background-color: white;}#sk-container-id-1 pre{padding: 0;}#sk-container-id-1 div.sk-toggleable {background-color: white;}#sk-container-id-1 label.sk-toggleable__label {cursor: pointer;display: block;width: 100%;margin-bottom: 0;padding: 0.3em;box-sizing: border-box;text-align: center;}#sk-container-id-1 label.sk-toggleable__label-arrow:before {content: \"▸\";float: left;margin-right: 0.25em;color: #696969;}#sk-container-id-1 label.sk-toggleable__label-arrow:hover:before {color: black;}#sk-container-id-1 div.sk-estimator:hover label.sk-toggleable__label-arrow:before {color: black;}#sk-container-id-1 div.sk-toggleable__content {max-height: 0;max-width: 0;overflow: hidden;text-align: left;background-color: #f0f8ff;}#sk-container-id-1 div.sk-toggleable__content pre {margin: 0.2em;color: black;border-radius: 0.25em;background-color: #f0f8ff;}#sk-container-id-1 input.sk-toggleable__control:checked~div.sk-toggleable__content {max-height: 200px;max-width: 100%;overflow: auto;}#sk-container-id-1 input.sk-toggleable__control:checked~label.sk-toggleable__label-arrow:before {content: \"▾\";}#sk-container-id-1 div.sk-estimator input.sk-toggleable__control:checked~label.sk-toggleable__label {background-color: #d4ebff;}#sk-container-id-1 div.sk-label input.sk-toggleable__control:checked~label.sk-toggleable__label {background-color: #d4ebff;}#sk-container-id-1 input.sk-hidden--visually {border: 0;clip: rect(1px 1px 1px 1px);clip: rect(1px, 1px, 1px, 1px);height: 1px;margin: -1px;overflow: hidden;padding: 0;position: absolute;width: 1px;}#sk-container-id-1 div.sk-estimator {font-family: monospace;background-color: #f0f8ff;border: 1px dotted black;border-radius: 0.25em;box-sizing: border-box;margin-bottom: 0.5em;}#sk-container-id-1 div.sk-estimator:hover {background-color: #d4ebff;}#sk-container-id-1 div.sk-parallel-item::after {content: \"\";width: 100%;border-bottom: 1px solid gray;flex-grow: 1;}#sk-container-id-1 div.sk-label:hover label.sk-toggleable__label {background-color: #d4ebff;}#sk-container-id-1 div.sk-serial::before {content: \"\";position: absolute;border-left: 1px solid gray;box-sizing: border-box;top: 0;bottom: 0;left: 50%;z-index: 0;}#sk-container-id-1 div.sk-serial {display: flex;flex-direction: column;align-items: center;background-color: white;padding-right: 0.2em;padding-left: 0.2em;position: relative;}#sk-container-id-1 div.sk-item {position: relative;z-index: 1;}#sk-container-id-1 div.sk-parallel {display: flex;align-items: stretch;justify-content: center;background-color: white;position: relative;}#sk-container-id-1 div.sk-item::before, #sk-container-id-1 div.sk-parallel-item::before {content: \"\";position: absolute;border-left: 1px solid gray;box-sizing: border-box;top: 0;bottom: 0;left: 50%;z-index: -1;}#sk-container-id-1 div.sk-parallel-item {display: flex;flex-direction: column;z-index: 1;position: relative;background-color: white;}#sk-container-id-1 div.sk-parallel-item:first-child::after {align-self: flex-end;width: 50%;}#sk-container-id-1 div.sk-parallel-item:last-child::after {align-self: flex-start;width: 50%;}#sk-container-id-1 div.sk-parallel-item:only-child::after {width: 0;}#sk-container-id-1 div.sk-dashed-wrapped {border: 1px dashed gray;margin: 0 0.4em 0.5em 0.4em;box-sizing: border-box;padding-bottom: 0.4em;background-color: white;}#sk-container-id-1 div.sk-label label {font-family: monospace;font-weight: bold;display: inline-block;line-height: 1.2em;}#sk-container-id-1 div.sk-label-container {text-align: center;}#sk-container-id-1 div.sk-container {/* jupyter's `normalize.less` sets `[hidden] { display: none; }` but bootstrap.min.css set `[hidden] { display: none !important; }` so we also need the `!important` here to be able to override the default hidden behavior on the sphinx rendered scikit-learn.org. See: https://github.com/scikit-learn/scikit-learn/issues/21755 */display: inline-block !important;position: relative;}#sk-container-id-1 div.sk-text-repr-fallback {display: none;}</style><div id=\"sk-container-id-1\" class=\"sk-top-container\"><div class=\"sk-text-repr-fallback\"><pre>Pipeline(steps=[(&#x27;scale&#x27;, None),\n",
       "                (&#x27;model&#x27;,\n",
       "                 LogisticRegression(l1_ratio=0.5, max_iter=5000,\n",
       "                                    penalty=&#x27;elasticnet&#x27;, solver=&#x27;saga&#x27;))])</pre><b>In a Jupyter environment, please rerun this cell to show the HTML representation or trust the notebook. <br />On GitHub, the HTML representation is unable to render, please try loading this page with nbviewer.org.</b></div><div class=\"sk-container\" hidden><div class=\"sk-item sk-dashed-wrapped\"><div class=\"sk-label-container\"><div class=\"sk-label sk-toggleable\"><input class=\"sk-toggleable__control sk-hidden--visually\" id=\"sk-estimator-id-1\" type=\"checkbox\" ><label for=\"sk-estimator-id-1\" class=\"sk-toggleable__label sk-toggleable__label-arrow\">Pipeline</label><div class=\"sk-toggleable__content\"><pre>Pipeline(steps=[(&#x27;scale&#x27;, None),\n",
       "                (&#x27;model&#x27;,\n",
       "                 LogisticRegression(l1_ratio=0.5, max_iter=5000,\n",
       "                                    penalty=&#x27;elasticnet&#x27;, solver=&#x27;saga&#x27;))])</pre></div></div></div><div class=\"sk-serial\"><div class=\"sk-item\"><div class=\"sk-estimator sk-toggleable\"><input class=\"sk-toggleable__control sk-hidden--visually\" id=\"sk-estimator-id-2\" type=\"checkbox\" ><label for=\"sk-estimator-id-2\" class=\"sk-toggleable__label sk-toggleable__label-arrow\">None</label><div class=\"sk-toggleable__content\"><pre>None</pre></div></div></div><div class=\"sk-item\"><div class=\"sk-estimator sk-toggleable\"><input class=\"sk-toggleable__control sk-hidden--visually\" id=\"sk-estimator-id-3\" type=\"checkbox\" ><label for=\"sk-estimator-id-3\" class=\"sk-toggleable__label sk-toggleable__label-arrow\">LogisticRegression</label><div class=\"sk-toggleable__content\"><pre>LogisticRegression(l1_ratio=0.5, max_iter=5000, penalty=&#x27;elasticnet&#x27;,\n",
       "                   solver=&#x27;saga&#x27;)</pre></div></div></div></div></div></div></div>"
      ],
      "text/plain": [
       "Pipeline(steps=[('scale', None),\n",
       "                ('model',\n",
       "                 LogisticRegression(l1_ratio=0.5, max_iter=5000,\n",
       "                                    penalty='elasticnet', solver='saga'))])"
      ]
     },
     "execution_count": 27,
     "metadata": {},
     "output_type": "execute_result"
    }
   ],
   "source": [
    "model.fit(X_train, y_train.values.ravel())"
   ]
  },
  {
   "cell_type": "code",
   "execution_count": 28,
   "id": "af59f8c0",
   "metadata": {
    "execution": {
     "iopub.execute_input": "2025-07-23T13:05:30.794038Z",
     "iopub.status.busy": "2025-07-23T13:05:30.793500Z",
     "iopub.status.idle": "2025-07-23T13:05:30.799549Z",
     "shell.execute_reply": "2025-07-23T13:05:30.798555Z"
    },
    "papermill": {
     "duration": 0.026614,
     "end_time": "2025-07-23T13:05:30.801253",
     "exception": false,
     "start_time": "2025-07-23T13:05:30.774639",
     "status": "completed"
    },
    "tags": []
   },
   "outputs": [],
   "source": [
    "from fairness_multiverse.universe import predict_w_threshold"
   ]
  },
  {
   "cell_type": "code",
   "execution_count": 29,
   "id": "a7cf2e16",
   "metadata": {
    "execution": {
     "iopub.execute_input": "2025-07-23T13:05:30.838489Z",
     "iopub.status.busy": "2025-07-23T13:05:30.838018Z",
     "iopub.status.idle": "2025-07-23T13:05:30.942807Z",
     "shell.execute_reply": "2025-07-23T13:05:30.941836Z"
    },
    "papermill": {
     "duration": 0.125296,
     "end_time": "2025-07-23T13:05:30.944619",
     "exception": false,
     "start_time": "2025-07-23T13:05:30.819323",
     "status": "completed"
    },
    "tags": []
   },
   "outputs": [
    {
     "data": {
      "text/plain": [
       "0.8491472522572734"
      ]
     },
     "execution_count": 29,
     "metadata": {},
     "output_type": "execute_result"
    }
   ],
   "source": [
    "probs_test = model.predict_proba(X_test)\n",
    "\n",
    "'''\n",
    "Below code returns a boolean array (or binary 0/1 array depending on how it’s used) where each element \n",
    "is True if the probability of class 1 is greater than or equal to the threshold, and False otherwise.\n",
    "'''\n",
    "y_pred_default = predict_w_threshold(probs_test, 0.5)\n",
    "\n",
    "from sklearn.metrics import accuracy_score\n",
    "\n",
    "# Naive prediction\n",
    "accuracy_score(y_true = y_true, y_pred = y_pred_default)"
   ]
  },
  {
   "cell_type": "code",
   "execution_count": 30,
   "id": "081964c3",
   "metadata": {
    "execution": {
     "iopub.execute_input": "2025-07-23T13:05:30.983049Z",
     "iopub.status.busy": "2025-07-23T13:05:30.982177Z",
     "iopub.status.idle": "2025-07-23T13:05:31.069762Z",
     "shell.execute_reply": "2025-07-23T13:05:31.068871Z"
    },
    "papermill": {
     "duration": 0.108242,
     "end_time": "2025-07-23T13:05:31.071445",
     "exception": false,
     "start_time": "2025-07-23T13:05:30.963203",
     "status": "completed"
    },
    "tags": []
   },
   "outputs": [
    {
     "data": {
      "text/plain": [
       "array([0, 0, 0, ..., 0, 0, 0])"
      ]
     },
     "execution_count": 30,
     "metadata": {},
     "output_type": "execute_result"
    }
   ],
   "source": [
    "model.predict(X_test)"
   ]
  },
  {
   "cell_type": "markdown",
   "id": "56c9705b",
   "metadata": {
    "papermill": {
     "duration": 0.017951,
     "end_time": "2025-07-23T13:05:31.108232",
     "exception": false,
     "start_time": "2025-07-23T13:05:31.090281",
     "status": "completed"
    },
    "tags": []
   },
   "source": [
    "# Conformal Prediction"
   ]
  },
  {
   "cell_type": "code",
   "execution_count": 31,
   "id": "160ec6ff",
   "metadata": {
    "execution": {
     "iopub.execute_input": "2025-07-23T13:05:31.146386Z",
     "iopub.status.busy": "2025-07-23T13:05:31.145675Z",
     "iopub.status.idle": "2025-07-23T13:05:31.151174Z",
     "shell.execute_reply": "2025-07-23T13:05:31.150197Z"
    },
    "papermill": {
     "duration": 0.026618,
     "end_time": "2025-07-23T13:05:31.152930",
     "exception": false,
     "start_time": "2025-07-23T13:05:31.126312",
     "status": "completed"
    },
    "tags": []
   },
   "outputs": [],
   "source": [
    "# Miscoverage level for conformal prediction (10% allowed error rate => 90% target coverage)\n",
    "alpha = 0.1"
   ]
  },
  {
   "cell_type": "code",
   "execution_count": 32,
   "id": "eadf4555-3dd3-440e-8e35-f82a4ad9f855",
   "metadata": {
    "execution": {
     "iopub.execute_input": "2025-07-23T13:05:31.191503Z",
     "iopub.status.busy": "2025-07-23T13:05:31.191003Z",
     "iopub.status.idle": "2025-07-23T13:05:31.274233Z",
     "shell.execute_reply": "2025-07-23T13:05:31.273219Z"
    },
    "papermill": {
     "duration": 0.104534,
     "end_time": "2025-07-23T13:05:31.276198",
     "exception": false,
     "start_time": "2025-07-23T13:05:31.171664",
     "status": "completed"
    },
    "tags": []
   },
   "outputs": [],
   "source": [
    "probs_calib = model.predict_proba(X_calib)"
   ]
  },
  {
   "cell_type": "code",
   "execution_count": 33,
   "id": "2ed93547-6d5d-4983-9b36-1ecb300da49a",
   "metadata": {
    "execution": {
     "iopub.execute_input": "2025-07-23T13:05:31.315145Z",
     "iopub.status.busy": "2025-07-23T13:05:31.314643Z",
     "iopub.status.idle": "2025-07-23T13:05:31.320334Z",
     "shell.execute_reply": "2025-07-23T13:05:31.319252Z"
    },
    "papermill": {
     "duration": 0.027494,
     "end_time": "2025-07-23T13:05:31.323020",
     "exception": false,
     "start_time": "2025-07-23T13:05:31.295526",
     "status": "completed"
    },
    "tags": []
   },
   "outputs": [],
   "source": [
    "y_calib = y_calib.values.ravel().astype(int)"
   ]
  },
  {
   "cell_type": "code",
   "execution_count": 34,
   "id": "65d1320d-f588-4b38-9072-62af1ae97f7d",
   "metadata": {
    "execution": {
     "iopub.execute_input": "2025-07-23T13:05:31.362960Z",
     "iopub.status.busy": "2025-07-23T13:05:31.362477Z",
     "iopub.status.idle": "2025-07-23T13:05:31.370186Z",
     "shell.execute_reply": "2025-07-23T13:05:31.369321Z"
    },
    "papermill": {
     "duration": 0.029653,
     "end_time": "2025-07-23T13:05:31.372305",
     "exception": false,
     "start_time": "2025-07-23T13:05:31.342652",
     "status": "completed"
    },
    "tags": []
   },
   "outputs": [],
   "source": [
    "from fairness_multiverse.conformal import compute_nc_scores\n",
    "\n",
    "# Compute nonconformity scores on calibration set (1 - probability of true class)\n",
    "nc_scores = compute_nc_scores(probs_calib, y_calib)"
   ]
  },
  {
   "cell_type": "code",
   "execution_count": 35,
   "id": "df3b8ca3-53b7-43d5-9667-7c85da7aeda2",
   "metadata": {
    "execution": {
     "iopub.execute_input": "2025-07-23T13:05:31.411961Z",
     "iopub.status.busy": "2025-07-23T13:05:31.411286Z",
     "iopub.status.idle": "2025-07-23T13:05:31.418510Z",
     "shell.execute_reply": "2025-07-23T13:05:31.417659Z"
    },
    "papermill": {
     "duration": 0.02855,
     "end_time": "2025-07-23T13:05:31.420240",
     "exception": false,
     "start_time": "2025-07-23T13:05:31.391690",
     "status": "completed"
    },
    "tags": []
   },
   "outputs": [],
   "source": [
    "from fairness_multiverse.conformal import find_threshold\n",
    "\n",
    "# Find conformal threshold q_hat for the given alpha (split conformal method)\n",
    "q_hat = find_threshold(nc_scores, alpha)"
   ]
  },
  {
   "cell_type": "code",
   "execution_count": 36,
   "id": "4d29e6c1-0ef6-4aa4-b8fe-4fe79b0d033a",
   "metadata": {
    "execution": {
     "iopub.execute_input": "2025-07-23T13:05:31.460254Z",
     "iopub.status.busy": "2025-07-23T13:05:31.459568Z",
     "iopub.status.idle": "2025-07-23T13:05:31.467016Z",
     "shell.execute_reply": "2025-07-23T13:05:31.466123Z"
    },
    "papermill": {
     "duration": 0.029085,
     "end_time": "2025-07-23T13:05:31.468956",
     "exception": false,
     "start_time": "2025-07-23T13:05:31.439871",
     "status": "completed"
    },
    "tags": []
   },
   "outputs": [
    {
     "data": {
      "text/plain": [
       "0.6872213111423616"
      ]
     },
     "execution_count": 36,
     "metadata": {},
     "output_type": "execute_result"
    }
   ],
   "source": [
    "q_hat"
   ]
  },
  {
   "cell_type": "code",
   "execution_count": 37,
   "id": "92460794-cdac-4be2-ba28-f28c0515a6fb",
   "metadata": {
    "execution": {
     "iopub.execute_input": "2025-07-23T13:05:31.508915Z",
     "iopub.status.busy": "2025-07-23T13:05:31.508409Z",
     "iopub.status.idle": "2025-07-23T13:05:32.326504Z",
     "shell.execute_reply": "2025-07-23T13:05:32.325558Z"
    },
    "papermill": {
     "duration": 0.839838,
     "end_time": "2025-07-23T13:05:32.328448",
     "exception": false,
     "start_time": "2025-07-23T13:05:31.488610",
     "status": "completed"
    },
    "tags": []
   },
   "outputs": [],
   "source": [
    "from fairness_multiverse.conformal import predict_conformal_sets\n",
    "\n",
    "# Generate prediction sets for each test example\n",
    "pred_sets = predict_conformal_sets(model, X_test, q_hat)"
   ]
  },
  {
   "cell_type": "code",
   "execution_count": 38,
   "id": "d90c9a65-e6db-4f5d-80cd-e68fb7e46829",
   "metadata": {
    "execution": {
     "iopub.execute_input": "2025-07-23T13:05:32.381044Z",
     "iopub.status.busy": "2025-07-23T13:05:32.380119Z",
     "iopub.status.idle": "2025-07-23T13:05:32.386260Z",
     "shell.execute_reply": "2025-07-23T13:05:32.385262Z"
    },
    "papermill": {
     "duration": 0.028295,
     "end_time": "2025-07-23T13:05:32.387997",
     "exception": false,
     "start_time": "2025-07-23T13:05:32.359702",
     "status": "completed"
    },
    "tags": []
   },
   "outputs": [],
   "source": [
    "y_true = y_true.squeeze()"
   ]
  },
  {
   "cell_type": "code",
   "execution_count": 39,
   "id": "3a58a54a-1e68-46b9-927a-df01f18aebc8",
   "metadata": {
    "execution": {
     "iopub.execute_input": "2025-07-23T13:05:32.428245Z",
     "iopub.status.busy": "2025-07-23T13:05:32.427409Z",
     "iopub.status.idle": "2025-07-23T13:05:33.391697Z",
     "shell.execute_reply": "2025-07-23T13:05:33.390758Z"
    },
    "papermill": {
     "duration": 0.986392,
     "end_time": "2025-07-23T13:05:33.393829",
     "exception": false,
     "start_time": "2025-07-23T13:05:32.407437",
     "status": "completed"
    },
    "tags": []
   },
   "outputs": [],
   "source": [
    "from fairness_multiverse.conformal import evaluate_sets\n",
    "\n",
    "# Evaluate coverage and average set size on test data\n",
    "metrics = evaluate_sets(pred_sets, y_true)"
   ]
  },
  {
   "cell_type": "code",
   "execution_count": 40,
   "id": "5ce0a5cb-201f-45a0-ade5-94c7f0bd6095",
   "metadata": {
    "execution": {
     "iopub.execute_input": "2025-07-23T13:05:33.434943Z",
     "iopub.status.busy": "2025-07-23T13:05:33.434263Z",
     "iopub.status.idle": "2025-07-23T13:05:33.441583Z",
     "shell.execute_reply": "2025-07-23T13:05:33.440675Z"
    },
    "papermill": {
     "duration": 0.029529,
     "end_time": "2025-07-23T13:05:33.443347",
     "exception": false,
     "start_time": "2025-07-23T13:05:33.413818",
     "status": "completed"
    },
    "tags": []
   },
   "outputs": [
    {
     "data": {
      "text/plain": [
       "{'coverage': 0.9065321591795786, 'avg_size': 1.1332627354809943}"
      ]
     },
     "execution_count": 40,
     "metadata": {},
     "output_type": "execute_result"
    }
   ],
   "source": [
    "metrics"
   ]
  },
  {
   "cell_type": "code",
   "execution_count": 41,
   "id": "9b9a838d-31c9-430b-ae14-12baee460d17",
   "metadata": {
    "execution": {
     "iopub.execute_input": "2025-07-23T13:05:33.484047Z",
     "iopub.status.busy": "2025-07-23T13:05:33.483380Z",
     "iopub.status.idle": "2025-07-23T13:05:33.489496Z",
     "shell.execute_reply": "2025-07-23T13:05:33.488603Z"
    },
    "papermill": {
     "duration": 0.028463,
     "end_time": "2025-07-23T13:05:33.491502",
     "exception": false,
     "start_time": "2025-07-23T13:05:33.463039",
     "status": "completed"
    },
    "tags": []
   },
   "outputs": [],
   "source": [
    "example_universe = universe.copy()\n",
    "universe_model = example_universe.get(\"model\")\n",
    "universe_exclude_features = example_universe.get(\"exclude_features\")\n",
    "universe_exclude_subgroups = example_universe.get(\"exclude_subgroups\")\n",
    "universe_scale = example_universe.get(\"scale\")"
   ]
  },
  {
   "cell_type": "code",
   "execution_count": 42,
   "id": "f4b6a8ac-9dc0-4245-8a91-5b3b5999c4f9",
   "metadata": {
    "execution": {
     "iopub.execute_input": "2025-07-23T13:05:33.532784Z",
     "iopub.status.busy": "2025-07-23T13:05:33.531812Z",
     "iopub.status.idle": "2025-07-23T13:05:33.538357Z",
     "shell.execute_reply": "2025-07-23T13:05:33.537403Z"
    },
    "papermill": {
     "duration": 0.028738,
     "end_time": "2025-07-23T13:05:33.540068",
     "exception": false,
     "start_time": "2025-07-23T13:05:33.511330",
     "status": "completed"
    },
    "tags": []
   },
   "outputs": [],
   "source": [
    "cp_metrics_dict = {\n",
    "    \"universe_id\": [universe_id],\n",
    "    \"universe_model\": [universe_model],\n",
    "    \"universe_exclude_features\": [universe_exclude_features],\n",
    "    \"universe_exclude_subgroups\": [universe_exclude_subgroups],\n",
    "    \"universe_scale\": [universe_scale],\n",
    "    \"q_hat\": [q_hat],\n",
    "    \"coverage\": [metrics[\"coverage\"]],\n",
    "    \"avg_size\": [metrics[\"avg_size\"]],\n",
    "}"
   ]
  },
  {
   "cell_type": "code",
   "execution_count": 43,
   "id": "908acbb1-0371-4915-85ca-3fa520d2efe2",
   "metadata": {
    "execution": {
     "iopub.execute_input": "2025-07-23T13:05:33.593876Z",
     "iopub.status.busy": "2025-07-23T13:05:33.593368Z",
     "iopub.status.idle": "2025-07-23T13:05:33.601176Z",
     "shell.execute_reply": "2025-07-23T13:05:33.600234Z"
    },
    "papermill": {
     "duration": 0.042853,
     "end_time": "2025-07-23T13:05:33.602952",
     "exception": false,
     "start_time": "2025-07-23T13:05:33.560099",
     "status": "completed"
    },
    "tags": []
   },
   "outputs": [
    {
     "data": {
      "text/plain": [
       "{'universe_id': ['ddb506ae2be8b282f3a883e0c2c18dab'],\n",
       " 'universe_model': ['elasticnet'],\n",
       " 'universe_exclude_features': ['none'],\n",
       " 'universe_exclude_subgroups': ['keep-all'],\n",
       " 'universe_scale': ['do-not-scale'],\n",
       " 'q_hat': [0.6872213111423616],\n",
       " 'coverage': [0.9065321591795786],\n",
       " 'avg_size': [1.1332627354809943]}"
      ]
     },
     "execution_count": 43,
     "metadata": {},
     "output_type": "execute_result"
    }
   ],
   "source": [
    "cp_metrics_dict"
   ]
  },
  {
   "cell_type": "code",
   "execution_count": 44,
   "id": "33007efc-14e9-4ec6-97ac-56a455c82265",
   "metadata": {
    "execution": {
     "iopub.execute_input": "2025-07-23T13:05:33.644681Z",
     "iopub.status.busy": "2025-07-23T13:05:33.643994Z",
     "iopub.status.idle": "2025-07-23T13:05:33.650353Z",
     "shell.execute_reply": "2025-07-23T13:05:33.649430Z"
    },
    "papermill": {
     "duration": 0.029043,
     "end_time": "2025-07-23T13:05:33.652024",
     "exception": false,
     "start_time": "2025-07-23T13:05:33.622981",
     "status": "completed"
    },
    "tags": []
   },
   "outputs": [],
   "source": [
    "cp_metrics_df = pd.DataFrame(cp_metrics_dict)"
   ]
  },
  {
   "cell_type": "code",
   "execution_count": 45,
   "id": "db12611b-57b2-4910-b9d0-355adfd6e7bf",
   "metadata": {
    "execution": {
     "iopub.execute_input": "2025-07-23T13:05:33.694330Z",
     "iopub.status.busy": "2025-07-23T13:05:33.693821Z",
     "iopub.status.idle": "2025-07-23T13:05:33.711478Z",
     "shell.execute_reply": "2025-07-23T13:05:33.710450Z"
    },
    "papermill": {
     "duration": 0.040927,
     "end_time": "2025-07-23T13:05:33.713146",
     "exception": false,
     "start_time": "2025-07-23T13:05:33.672219",
     "status": "completed"
    },
    "tags": []
   },
   "outputs": [
    {
     "data": {
      "text/html": [
       "<div>\n",
       "<style scoped>\n",
       "    .dataframe tbody tr th:only-of-type {\n",
       "        vertical-align: middle;\n",
       "    }\n",
       "\n",
       "    .dataframe tbody tr th {\n",
       "        vertical-align: top;\n",
       "    }\n",
       "\n",
       "    .dataframe thead th {\n",
       "        text-align: right;\n",
       "    }\n",
       "</style>\n",
       "<table border=\"1\" class=\"dataframe\">\n",
       "  <thead>\n",
       "    <tr style=\"text-align: right;\">\n",
       "      <th></th>\n",
       "      <th>universe_id</th>\n",
       "      <th>universe_model</th>\n",
       "      <th>universe_exclude_features</th>\n",
       "      <th>universe_exclude_subgroups</th>\n",
       "      <th>universe_scale</th>\n",
       "      <th>q_hat</th>\n",
       "      <th>coverage</th>\n",
       "      <th>avg_size</th>\n",
       "    </tr>\n",
       "  </thead>\n",
       "  <tbody>\n",
       "    <tr>\n",
       "      <th>0</th>\n",
       "      <td>ddb506ae2be8b282f3a883e0c2c18dab</td>\n",
       "      <td>elasticnet</td>\n",
       "      <td>none</td>\n",
       "      <td>keep-all</td>\n",
       "      <td>do-not-scale</td>\n",
       "      <td>0.687221</td>\n",
       "      <td>0.906532</td>\n",
       "      <td>1.133263</td>\n",
       "    </tr>\n",
       "  </tbody>\n",
       "</table>\n",
       "</div>"
      ],
      "text/plain": [
       "                        universe_id universe_model universe_exclude_features  \\\n",
       "0  ddb506ae2be8b282f3a883e0c2c18dab     elasticnet                      none   \n",
       "\n",
       "  universe_exclude_subgroups universe_scale     q_hat  coverage  avg_size  \n",
       "0                   keep-all   do-not-scale  0.687221  0.906532  1.133263  "
      ]
     },
     "execution_count": 45,
     "metadata": {},
     "output_type": "execute_result"
    }
   ],
   "source": [
    "cp_metrics_df"
   ]
  },
  {
   "cell_type": "code",
   "execution_count": 46,
   "id": "b7fbde55-a0a1-47e4-9af6-fe4a17fa8c61",
   "metadata": {
    "execution": {
     "iopub.execute_input": "2025-07-23T13:05:33.756215Z",
     "iopub.status.busy": "2025-07-23T13:05:33.755345Z",
     "iopub.status.idle": "2025-07-23T13:05:33.760637Z",
     "shell.execute_reply": "2025-07-23T13:05:33.759665Z"
    },
    "papermill": {
     "duration": 0.028562,
     "end_time": "2025-07-23T13:05:33.762250",
     "exception": false,
     "start_time": "2025-07-23T13:05:33.733688",
     "status": "completed"
    },
    "tags": []
   },
   "outputs": [],
   "source": [
    "# Conditional Coverage & looking at subgroups"
   ]
  },
  {
   "cell_type": "code",
   "execution_count": 47,
   "id": "027ae886-68dd-4141-96c7-805a5450e1ef",
   "metadata": {
    "execution": {
     "iopub.execute_input": "2025-07-23T13:05:33.805212Z",
     "iopub.status.busy": "2025-07-23T13:05:33.804279Z",
     "iopub.status.idle": "2025-07-23T13:05:34.068475Z",
     "shell.execute_reply": "2025-07-23T13:05:34.067519Z"
    },
    "papermill": {
     "duration": 0.287663,
     "end_time": "2025-07-23T13:05:34.070469",
     "exception": false,
     "start_time": "2025-07-23T13:05:33.782806",
     "status": "completed"
    },
    "tags": []
   },
   "outputs": [],
   "source": [
    "from fairness_multiverse.conformal import build_cp_groups\n",
    "\n",
    "cp_groups_df = build_cp_groups(pred_sets, y_true, X_test.index, org_test)\n",
    "#needs universe_id and setting"
   ]
  },
  {
   "cell_type": "code",
   "execution_count": 48,
   "id": "c3b92545-903e-4839-89af-0f057907d7d6",
   "metadata": {
    "execution": {
     "iopub.execute_input": "2025-07-23T13:05:34.113691Z",
     "iopub.status.busy": "2025-07-23T13:05:34.112976Z",
     "iopub.status.idle": "2025-07-23T13:05:35.844736Z",
     "shell.execute_reply": "2025-07-23T13:05:35.843783Z"
    },
    "papermill": {
     "duration": 1.755136,
     "end_time": "2025-07-23T13:05:35.846653",
     "exception": false,
     "start_time": "2025-07-23T13:05:34.091517",
     "status": "completed"
    },
    "tags": []
   },
   "outputs": [],
   "source": [
    "# Define covered = 1 if true_label is in the predicted set\n",
    "cp_groups_df['covered'] = cp_groups_df.apply(\n",
    "    lambda r: int(r['true_label'] in r['pred_set']),\n",
    "    axis=1\n",
    ")"
   ]
  },
  {
   "cell_type": "code",
   "execution_count": 49,
   "id": "338ff529-1a6b-4b87-a931-8e4788d52aad",
   "metadata": {
    "execution": {
     "iopub.execute_input": "2025-07-23T13:05:35.889772Z",
     "iopub.status.busy": "2025-07-23T13:05:35.889087Z",
     "iopub.status.idle": "2025-07-23T13:05:35.894446Z",
     "shell.execute_reply": "2025-07-23T13:05:35.893488Z"
    },
    "papermill": {
     "duration": 0.028501,
     "end_time": "2025-07-23T13:05:35.896083",
     "exception": false,
     "start_time": "2025-07-23T13:05:35.867582",
     "status": "completed"
    },
    "tags": []
   },
   "outputs": [],
   "source": [
    "#cp_groups_df"
   ]
  },
  {
   "cell_type": "code",
   "execution_count": 50,
   "id": "90032e27-66df-4540-9169-4e89cfbaa758",
   "metadata": {
    "execution": {
     "iopub.execute_input": "2025-07-23T13:05:35.939510Z",
     "iopub.status.busy": "2025-07-23T13:05:35.938804Z",
     "iopub.status.idle": "2025-07-23T13:05:35.950748Z",
     "shell.execute_reply": "2025-07-23T13:05:35.949893Z"
    },
    "papermill": {
     "duration": 0.035082,
     "end_time": "2025-07-23T13:05:35.952394",
     "exception": false,
     "start_time": "2025-07-23T13:05:35.917312",
     "status": "completed"
    },
    "tags": []
   },
   "outputs": [],
   "source": [
    "subgroups = ['frau1','nongerman','nongerman_male','nongerman_female']\n",
    "\n",
    "# Conditional coverage for subgroup==1\n",
    "cond_coverage = {\n",
    "    g: cp_groups_df.loc[cp_groups_df[g]==1, 'covered'].mean()\n",
    "    for g in subgroups\n",
    "}"
   ]
  },
  {
   "cell_type": "code",
   "execution_count": 51,
   "id": "1e348fb1-b9c3-45bc-ba23-f016827a7e0d",
   "metadata": {
    "execution": {
     "iopub.execute_input": "2025-07-23T13:05:35.995590Z",
     "iopub.status.busy": "2025-07-23T13:05:35.994911Z",
     "iopub.status.idle": "2025-07-23T13:05:36.002212Z",
     "shell.execute_reply": "2025-07-23T13:05:36.001317Z"
    },
    "papermill": {
     "duration": 0.031013,
     "end_time": "2025-07-23T13:05:36.004291",
     "exception": false,
     "start_time": "2025-07-23T13:05:35.973278",
     "status": "completed"
    },
    "tags": []
   },
   "outputs": [
    {
     "data": {
      "text/plain": [
       "{'frau1': 0.9055667879768163,\n",
       " 'nongerman': 0.9072026048391624,\n",
       " 'nongerman_male': 0.922183193731424,\n",
       " 'nongerman_female': 0.882414307004471}"
      ]
     },
     "execution_count": 51,
     "metadata": {},
     "output_type": "execute_result"
    }
   ],
   "source": [
    "cond_coverage"
   ]
  },
  {
   "cell_type": "code",
   "execution_count": 52,
   "id": "f5093324-c3dd-4d63-bc4c-8d945e5c8bbb",
   "metadata": {
    "execution": {
     "iopub.execute_input": "2025-07-23T13:05:36.047343Z",
     "iopub.status.busy": "2025-07-23T13:05:36.046845Z",
     "iopub.status.idle": "2025-07-23T13:05:36.054411Z",
     "shell.execute_reply": "2025-07-23T13:05:36.053490Z"
    },
    "papermill": {
     "duration": 0.030882,
     "end_time": "2025-07-23T13:05:36.056059",
     "exception": false,
     "start_time": "2025-07-23T13:05:36.025177",
     "status": "completed"
    },
    "tags": []
   },
   "outputs": [],
   "source": [
    "for subgroup, cov in cond_coverage.items():\n",
    "    cp_metrics_df[f\"cov_{subgroup}\"] = cov"
   ]
  },
  {
   "cell_type": "code",
   "execution_count": 53,
   "id": "6e872e10-dbe5-49e8-b554-5030c98ff75d",
   "metadata": {
    "execution": {
     "iopub.execute_input": "2025-07-23T13:05:36.099620Z",
     "iopub.status.busy": "2025-07-23T13:05:36.098575Z",
     "iopub.status.idle": "2025-07-23T13:05:36.116718Z",
     "shell.execute_reply": "2025-07-23T13:05:36.115707Z"
    },
    "papermill": {
     "duration": 0.041462,
     "end_time": "2025-07-23T13:05:36.118463",
     "exception": false,
     "start_time": "2025-07-23T13:05:36.077001",
     "status": "completed"
    },
    "tags": []
   },
   "outputs": [
    {
     "data": {
      "text/html": [
       "<div>\n",
       "<style scoped>\n",
       "    .dataframe tbody tr th:only-of-type {\n",
       "        vertical-align: middle;\n",
       "    }\n",
       "\n",
       "    .dataframe tbody tr th {\n",
       "        vertical-align: top;\n",
       "    }\n",
       "\n",
       "    .dataframe thead th {\n",
       "        text-align: right;\n",
       "    }\n",
       "</style>\n",
       "<table border=\"1\" class=\"dataframe\">\n",
       "  <thead>\n",
       "    <tr style=\"text-align: right;\">\n",
       "      <th></th>\n",
       "      <th>universe_id</th>\n",
       "      <th>universe_model</th>\n",
       "      <th>universe_exclude_features</th>\n",
       "      <th>universe_exclude_subgroups</th>\n",
       "      <th>universe_scale</th>\n",
       "      <th>q_hat</th>\n",
       "      <th>coverage</th>\n",
       "      <th>avg_size</th>\n",
       "      <th>cov_frau1</th>\n",
       "      <th>cov_nongerman</th>\n",
       "      <th>cov_nongerman_male</th>\n",
       "      <th>cov_nongerman_female</th>\n",
       "    </tr>\n",
       "  </thead>\n",
       "  <tbody>\n",
       "    <tr>\n",
       "      <th>0</th>\n",
       "      <td>ddb506ae2be8b282f3a883e0c2c18dab</td>\n",
       "      <td>elasticnet</td>\n",
       "      <td>none</td>\n",
       "      <td>keep-all</td>\n",
       "      <td>do-not-scale</td>\n",
       "      <td>0.687221</td>\n",
       "      <td>0.906532</td>\n",
       "      <td>1.133263</td>\n",
       "      <td>0.905567</td>\n",
       "      <td>0.907203</td>\n",
       "      <td>0.922183</td>\n",
       "      <td>0.882414</td>\n",
       "    </tr>\n",
       "  </tbody>\n",
       "</table>\n",
       "</div>"
      ],
      "text/plain": [
       "                        universe_id universe_model universe_exclude_features  \\\n",
       "0  ddb506ae2be8b282f3a883e0c2c18dab     elasticnet                      none   \n",
       "\n",
       "  universe_exclude_subgroups universe_scale     q_hat  coverage  avg_size  \\\n",
       "0                   keep-all   do-not-scale  0.687221  0.906532  1.133263   \n",
       "\n",
       "   cov_frau1  cov_nongerman  cov_nongerman_male  cov_nongerman_female  \n",
       "0   0.905567       0.907203            0.922183              0.882414  "
      ]
     },
     "execution_count": 53,
     "metadata": {},
     "output_type": "execute_result"
    }
   ],
   "source": [
    "cp_metrics_df"
   ]
  },
  {
   "cell_type": "markdown",
   "id": "33774451",
   "metadata": {
    "papermill": {
     "duration": 0.02097,
     "end_time": "2025-07-23T13:05:36.160973",
     "exception": false,
     "start_time": "2025-07-23T13:05:36.140003",
     "status": "completed"
    },
    "tags": []
   },
   "source": [
    "# (Fairness) Metrics"
   ]
  },
  {
   "cell_type": "code",
   "execution_count": 54,
   "id": "debc5d62",
   "metadata": {
    "execution": {
     "iopub.execute_input": "2025-07-23T13:05:36.205114Z",
     "iopub.status.busy": "2025-07-23T13:05:36.204073Z",
     "iopub.status.idle": "2025-07-23T13:05:36.227101Z",
     "shell.execute_reply": "2025-07-23T13:05:36.226221Z"
    },
    "papermill": {
     "duration": 0.04701,
     "end_time": "2025-07-23T13:05:36.228895",
     "exception": false,
     "start_time": "2025-07-23T13:05:36.181885",
     "status": "completed"
    },
    "tags": []
   },
   "outputs": [],
   "source": [
    "# do I need to include maxdeutsch1.missing?\n",
    "\n",
    "import numpy as np\n",
    "\n",
    "colname_to_bin = \"maxdeutsch1\"\n",
    "majority_value = org_train[colname_to_bin].mode()[0]\n",
    "\n",
    "org_test[\"majmin\"] = np.where(org_test[colname_to_bin] == majority_value, \"majority\", \"minority\")"
   ]
  },
  {
   "cell_type": "code",
   "execution_count": 55,
   "id": "06a50de5",
   "metadata": {
    "execution": {
     "iopub.execute_input": "2025-07-23T13:05:36.273268Z",
     "iopub.status.busy": "2025-07-23T13:05:36.272570Z",
     "iopub.status.idle": "2025-07-23T13:05:39.529255Z",
     "shell.execute_reply": "2025-07-23T13:05:39.528220Z"
    },
    "papermill": {
     "duration": 3.28058,
     "end_time": "2025-07-23T13:05:39.531183",
     "exception": false,
     "start_time": "2025-07-23T13:05:36.250603",
     "status": "completed"
    },
    "tags": []
   },
   "outputs": [],
   "source": [
    "example_universe = universe.copy()\n",
    "example_universe[\"cutoff\"] = example_universe[\"cutoff\"][0]\n",
    "example_universe[\"eval_fairness_grouping\"] = example_universe[\"eval_fairness_grouping\"][0]\n",
    "fairness_dict, metric_frame = universe_analysis.compute_metrics(\n",
    "    example_universe,\n",
    "    y_pred_prob=probs_test,\n",
    "    y_test=y_true,\n",
    "    org_test=org_test,\n",
    ")"
   ]
  },
  {
   "cell_type": "markdown",
   "id": "f95d4e02",
   "metadata": {
    "papermill": {
     "duration": 0.020849,
     "end_time": "2025-07-23T13:05:39.574402",
     "exception": false,
     "start_time": "2025-07-23T13:05:39.553553",
     "status": "completed"
    },
    "tags": []
   },
   "source": [
    "# Overall"
   ]
  },
  {
   "cell_type": "markdown",
   "id": "bdee4871",
   "metadata": {
    "papermill": {
     "duration": 0.062208,
     "end_time": "2025-07-23T13:05:39.657448",
     "exception": false,
     "start_time": "2025-07-23T13:05:39.595240",
     "status": "completed"
    },
    "tags": []
   },
   "source": [
    "Fairness\n",
    "Main fairness target: Equalized Odds. Seems to be a better fit than equal opportunity, since we're not only interested in Y = 1. Seems to be a better fit than demographic parity, since we also care about accuracy, not just equal distribution of preds.\n",
    "\n",
    "Pick column for computation of fairness metrics\n",
    "\n",
    "Performance\n",
    "Overall performance measures, most interesting in relation to the measures split by group below"
   ]
  },
  {
   "cell_type": "code",
   "execution_count": 56,
   "id": "c4e067c6",
   "metadata": {
    "execution": {
     "iopub.execute_input": "2025-07-23T13:05:39.701087Z",
     "iopub.status.busy": "2025-07-23T13:05:39.700677Z",
     "iopub.status.idle": "2025-07-23T13:05:39.710196Z",
     "shell.execute_reply": "2025-07-23T13:05:39.709286Z"
    },
    "papermill": {
     "duration": 0.033417,
     "end_time": "2025-07-23T13:05:39.711834",
     "exception": false,
     "start_time": "2025-07-23T13:05:39.678417",
     "status": "completed"
    },
    "tags": []
   },
   "outputs": [
    {
     "data": {
      "text/plain": [
       "accuracy                   0.220990\n",
       "balanced accuracy          0.541060\n",
       "f1                         0.242414\n",
       "precision                  0.138483\n",
       "false positive rate        0.889466\n",
       "false negative rate        0.028415\n",
       "selection rate             0.900000\n",
       "count                  89710.000000\n",
       "dtype: float64"
      ]
     },
     "execution_count": 56,
     "metadata": {},
     "output_type": "execute_result"
    }
   ],
   "source": [
    "metric_frame.overall"
   ]
  },
  {
   "cell_type": "markdown",
   "id": "e968fe9d",
   "metadata": {
    "papermill": {
     "duration": 0.022168,
     "end_time": "2025-07-23T13:05:39.756126",
     "exception": false,
     "start_time": "2025-07-23T13:05:39.733958",
     "status": "completed"
    },
    "tags": []
   },
   "source": [
    "By Group"
   ]
  },
  {
   "cell_type": "code",
   "execution_count": 57,
   "id": "ec325bce",
   "metadata": {
    "execution": {
     "iopub.execute_input": "2025-07-23T13:05:39.800578Z",
     "iopub.status.busy": "2025-07-23T13:05:39.799881Z",
     "iopub.status.idle": "2025-07-23T13:05:39.816453Z",
     "shell.execute_reply": "2025-07-23T13:05:39.815540Z"
    },
    "papermill": {
     "duration": 0.040929,
     "end_time": "2025-07-23T13:05:39.818293",
     "exception": false,
     "start_time": "2025-07-23T13:05:39.777364",
     "status": "completed"
    },
    "tags": []
   },
   "outputs": [
    {
     "data": {
      "text/html": [
       "<div>\n",
       "<style scoped>\n",
       "    .dataframe tbody tr th:only-of-type {\n",
       "        vertical-align: middle;\n",
       "    }\n",
       "\n",
       "    .dataframe tbody tr th {\n",
       "        vertical-align: top;\n",
       "    }\n",
       "\n",
       "    .dataframe thead th {\n",
       "        text-align: right;\n",
       "    }\n",
       "</style>\n",
       "<table border=\"1\" class=\"dataframe\">\n",
       "  <thead>\n",
       "    <tr style=\"text-align: right;\">\n",
       "      <th></th>\n",
       "      <th>accuracy</th>\n",
       "      <th>balanced accuracy</th>\n",
       "      <th>f1</th>\n",
       "      <th>precision</th>\n",
       "      <th>false positive rate</th>\n",
       "      <th>false negative rate</th>\n",
       "      <th>selection rate</th>\n",
       "      <th>count</th>\n",
       "    </tr>\n",
       "    <tr>\n",
       "      <th>majmin</th>\n",
       "      <th></th>\n",
       "      <th></th>\n",
       "      <th></th>\n",
       "      <th></th>\n",
       "      <th></th>\n",
       "      <th></th>\n",
       "      <th></th>\n",
       "      <th></th>\n",
       "    </tr>\n",
       "  </thead>\n",
       "  <tbody>\n",
       "    <tr>\n",
       "      <th>majority</th>\n",
       "      <td>0.242967</td>\n",
       "      <td>0.550263</td>\n",
       "      <td>0.252562</td>\n",
       "      <td>0.145228</td>\n",
       "      <td>0.867416</td>\n",
       "      <td>0.032057</td>\n",
       "      <td>0.880700</td>\n",
       "      <td>69170.0</td>\n",
       "    </tr>\n",
       "    <tr>\n",
       "      <th>minority</th>\n",
       "      <td>0.146981</td>\n",
       "      <td>0.511669</td>\n",
       "      <td>0.210375</td>\n",
       "      <td>0.117754</td>\n",
       "      <td>0.962305</td>\n",
       "      <td>0.014358</td>\n",
       "      <td>0.964995</td>\n",
       "      <td>20540.0</td>\n",
       "    </tr>\n",
       "  </tbody>\n",
       "</table>\n",
       "</div>"
      ],
      "text/plain": [
       "          accuracy  balanced accuracy        f1  precision  \\\n",
       "majmin                                                       \n",
       "majority  0.242967           0.550263  0.252562   0.145228   \n",
       "minority  0.146981           0.511669  0.210375   0.117754   \n",
       "\n",
       "          false positive rate  false negative rate  selection rate    count  \n",
       "majmin                                                                       \n",
       "majority             0.867416             0.032057        0.880700  69170.0  \n",
       "minority             0.962305             0.014358        0.964995  20540.0  "
      ]
     },
     "execution_count": 57,
     "metadata": {},
     "output_type": "execute_result"
    }
   ],
   "source": [
    "metric_frame.by_group"
   ]
  },
  {
   "cell_type": "code",
   "execution_count": 58,
   "id": "a9ddbe63",
   "metadata": {
    "execution": {
     "iopub.execute_input": "2025-07-23T13:05:39.864287Z",
     "iopub.status.busy": "2025-07-23T13:05:39.863337Z",
     "iopub.status.idle": "2025-07-23T13:05:42.248081Z",
     "shell.execute_reply": "2025-07-23T13:05:42.247175Z"
    },
    "papermill": {
     "duration": 2.409175,
     "end_time": "2025-07-23T13:05:42.249773",
     "exception": false,
     "start_time": "2025-07-23T13:05:39.840598",
     "status": "completed"
    },
    "tags": []
   },
   "outputs": [
    {
     "data": {
      "text/plain": [
       "array([[<Axes: title={'center': 'accuracy'}, xlabel='majmin'>,\n",
       "        <Axes: title={'center': 'balanced accuracy'}, xlabel='majmin'>,\n",
       "        <Axes: title={'center': 'f1'}, xlabel='majmin'>],\n",
       "       [<Axes: title={'center': 'precision'}, xlabel='majmin'>,\n",
       "        <Axes: title={'center': 'false positive rate'}, xlabel='majmin'>,\n",
       "        <Axes: title={'center': 'false negative rate'}, xlabel='majmin'>],\n",
       "       [<Axes: title={'center': 'selection rate'}, xlabel='majmin'>,\n",
       "        <Axes: title={'center': 'count'}, xlabel='majmin'>,\n",
       "        <Axes: xlabel='majmin'>]], dtype=object)"
      ]
     },
     "execution_count": 58,
     "metadata": {},
     "output_type": "execute_result"
    },
    {
     "data": {
      "image/png": "[encoded data removed]",
      "text/plain": [
       "<Figure size 1200x800 with 9 Axes>"
      ]
     },
     "metadata": {},
     "output_type": "display_data"
    }
   ],
   "source": [
    "# In a graphic\n",
    "metric_frame.by_group.plot.bar(\n",
    "    subplots=True,\n",
    "    layout=[3, 3],\n",
    "    legend=False,\n",
    "    figsize=[12, 8],\n",
    "    title=\"Show all metrics\",\n",
    ")"
   ]
  },
  {
   "cell_type": "markdown",
   "id": "f57a0bac",
   "metadata": {
    "papermill": {
     "duration": 0.023283,
     "end_time": "2025-07-23T13:05:42.297212",
     "exception": false,
     "start_time": "2025-07-23T13:05:42.273929",
     "status": "completed"
    },
    "tags": []
   },
   "source": [
    "# Final Output"
   ]
  },
  {
   "cell_type": "code",
   "execution_count": 59,
   "id": "96d280a3",
   "metadata": {
    "execution": {
     "iopub.execute_input": "2025-07-23T13:05:42.346365Z",
     "iopub.status.busy": "2025-07-23T13:05:42.345324Z",
     "iopub.status.idle": "2025-07-23T13:05:42.353556Z",
     "shell.execute_reply": "2025-07-23T13:05:42.352640Z"
    },
    "papermill": {
     "duration": 0.034364,
     "end_time": "2025-07-23T13:05:42.355095",
     "exception": false,
     "start_time": "2025-07-23T13:05:42.320731",
     "status": "completed"
    },
    "tags": []
   },
   "outputs": [
    {
     "data": {
      "text/plain": [
       "4"
      ]
     },
     "execution_count": 59,
     "metadata": {},
     "output_type": "execute_result"
    }
   ],
   "source": [
    "sub_universes = universe_analysis.generate_sub_universes()\n",
    "len(sub_universes)"
   ]
  },
  {
   "cell_type": "code",
   "execution_count": 60,
   "id": "92adf7ba",
   "metadata": {
    "execution": {
     "iopub.execute_input": "2025-07-23T13:05:42.404667Z",
     "iopub.status.busy": "2025-07-23T13:05:42.403965Z",
     "iopub.status.idle": "2025-07-23T13:05:42.410331Z",
     "shell.execute_reply": "2025-07-23T13:05:42.409279Z"
    },
    "papermill": {
     "duration": 0.032824,
     "end_time": "2025-07-23T13:05:42.412041",
     "exception": false,
     "start_time": "2025-07-23T13:05:42.379217",
     "status": "completed"
    },
    "tags": []
   },
   "outputs": [],
   "source": [
    "def filter_sub_universe_data(sub_universe, org_test):\n",
    "    # Keep all rows — no filtering\n",
    "    keep_rows_mask = np.ones(org_test.shape[0], dtype=bool)\n",
    "\n",
    "    print(f\"[INFO] Keeping all rows: {keep_rows_mask.sum()} rows retained.\")\n",
    "    return keep_rows_mask"
   ]
  },
  {
   "cell_type": "code",
   "execution_count": 61,
   "id": "4a759155",
   "metadata": {
    "execution": {
     "iopub.execute_input": "2025-07-23T13:05:42.461613Z",
     "iopub.status.busy": "2025-07-23T13:05:42.460920Z",
     "iopub.status.idle": "2025-07-23T13:05:54.878438Z",
     "shell.execute_reply": "2025-07-23T13:05:54.877429Z"
    },
    "papermill": {
     "duration": 12.444162,
     "end_time": "2025-07-23T13:05:54.880338",
     "exception": false,
     "start_time": "2025-07-23T13:05:42.436176",
     "status": "completed"
    },
    "tags": []
   },
   "outputs": [
    {
     "name": "stdout",
     "output_type": "stream",
     "text": [
      "Stopping execution_time clock.\n",
      "[INFO] Keeping all rows: 89710 rows retained.\n"
     ]
    },
    {
     "name": "stdout",
     "output_type": "stream",
     "text": [
      "[INFO] Keeping all rows: 89710 rows retained.\n"
     ]
    },
    {
     "name": "stdout",
     "output_type": "stream",
     "text": [
      "[INFO] Keeping all rows: 89710 rows retained.\n"
     ]
    },
    {
     "name": "stdout",
     "output_type": "stream",
     "text": [
      "[INFO] Keeping all rows: 89710 rows retained.\n"
     ]
    },
    {
     "data": {
      "text/html": [
       "<div>\n",
       "<style scoped>\n",
       "    .dataframe tbody tr th:only-of-type {\n",
       "        vertical-align: middle;\n",
       "    }\n",
       "\n",
       "    .dataframe tbody tr th {\n",
       "        vertical-align: top;\n",
       "    }\n",
       "\n",
       "    .dataframe thead th {\n",
       "        text-align: right;\n",
       "    }\n",
       "</style>\n",
       "<table border=\"1\" class=\"dataframe\">\n",
       "  <thead>\n",
       "    <tr style=\"text-align: right;\">\n",
       "      <th></th>\n",
       "      <th>run_no</th>\n",
       "      <th>universe_id</th>\n",
       "      <th>universe_settings</th>\n",
       "      <th>execution_time</th>\n",
       "      <th>test_size_n</th>\n",
       "      <th>test_size_frac</th>\n",
       "      <th>fair_main_equalized_odds_difference</th>\n",
       "      <th>fair_main_equalized_odds_ratio</th>\n",
       "      <th>fair_main_demographic_parity_difference</th>\n",
       "      <th>fair_main_demographic_parity_ratio</th>\n",
       "      <th>...</th>\n",
       "      <th>perf_grp_precision_0</th>\n",
       "      <th>perf_grp_precision_1</th>\n",
       "      <th>perf_grp_false positive rate_0</th>\n",
       "      <th>perf_grp_false positive rate_1</th>\n",
       "      <th>perf_grp_false negative rate_0</th>\n",
       "      <th>perf_grp_false negative rate_1</th>\n",
       "      <th>perf_grp_selection rate_0</th>\n",
       "      <th>perf_grp_selection rate_1</th>\n",
       "      <th>perf_grp_count_0</th>\n",
       "      <th>perf_grp_count_1</th>\n",
       "    </tr>\n",
       "  </thead>\n",
       "  <tbody>\n",
       "    <tr>\n",
       "      <th>0</th>\n",
       "      <td>6</td>\n",
       "      <td>ddb506ae2be8b282f3a883e0c2c18dab</td>\n",
       "      <td>{\"cutoff\": \"quantile_0.1\", \"eval_fairness_grou...</td>\n",
       "      <td>244.561527</td>\n",
       "      <td>89710</td>\n",
       "      <td>1.0</td>\n",
       "      <td>0.094888</td>\n",
       "      <td>0.901395</td>\n",
       "      <td>0.084295</td>\n",
       "      <td>0.912647</td>\n",
       "      <td>...</td>\n",
       "      <td>NaN</td>\n",
       "      <td>NaN</td>\n",
       "      <td>NaN</td>\n",
       "      <td>NaN</td>\n",
       "      <td>NaN</td>\n",
       "      <td>NaN</td>\n",
       "      <td>NaN</td>\n",
       "      <td>NaN</td>\n",
       "      <td>NaN</td>\n",
       "      <td>NaN</td>\n",
       "    </tr>\n",
       "    <tr>\n",
       "      <th>0</th>\n",
       "      <td>6</td>\n",
       "      <td>ddb506ae2be8b282f3a883e0c2c18dab</td>\n",
       "      <td>{\"cutoff\": \"quantile_0.1\", \"eval_fairness_grou...</td>\n",
       "      <td>244.561527</td>\n",
       "      <td>89710</td>\n",
       "      <td>1.0</td>\n",
       "      <td>0.094888</td>\n",
       "      <td>0.901395</td>\n",
       "      <td>0.084295</td>\n",
       "      <td>0.912647</td>\n",
       "      <td>...</td>\n",
       "      <td>0.117754</td>\n",
       "      <td>0.145228</td>\n",
       "      <td>0.962305</td>\n",
       "      <td>0.867416</td>\n",
       "      <td>0.014358</td>\n",
       "      <td>0.032057</td>\n",
       "      <td>0.964995</td>\n",
       "      <td>0.880700</td>\n",
       "      <td>20540.0</td>\n",
       "      <td>69170.0</td>\n",
       "    </tr>\n",
       "    <tr>\n",
       "      <th>0</th>\n",
       "      <td>6</td>\n",
       "      <td>ddb506ae2be8b282f3a883e0c2c18dab</td>\n",
       "      <td>{\"cutoff\": \"quantile_0.25\", \"eval_fairness_gro...</td>\n",
       "      <td>244.561527</td>\n",
       "      <td>89710</td>\n",
       "      <td>1.0</td>\n",
       "      <td>0.203758</td>\n",
       "      <td>0.769231</td>\n",
       "      <td>0.180406</td>\n",
       "      <td>0.797090</td>\n",
       "      <td>...</td>\n",
       "      <td>NaN</td>\n",
       "      <td>NaN</td>\n",
       "      <td>NaN</td>\n",
       "      <td>NaN</td>\n",
       "      <td>NaN</td>\n",
       "      <td>NaN</td>\n",
       "      <td>NaN</td>\n",
       "      <td>NaN</td>\n",
       "      <td>NaN</td>\n",
       "      <td>NaN</td>\n",
       "    </tr>\n",
       "    <tr>\n",
       "      <th>0</th>\n",
       "      <td>6</td>\n",
       "      <td>ddb506ae2be8b282f3a883e0c2c18dab</td>\n",
       "      <td>{\"cutoff\": \"quantile_0.25\", \"eval_fairness_gro...</td>\n",
       "      <td>244.561527</td>\n",
       "      <td>89710</td>\n",
       "      <td>1.0</td>\n",
       "      <td>0.203758</td>\n",
       "      <td>0.769231</td>\n",
       "      <td>0.180406</td>\n",
       "      <td>0.797090</td>\n",
       "      <td>...</td>\n",
       "      <td>0.121400</td>\n",
       "      <td>0.168258</td>\n",
       "      <td>0.882952</td>\n",
       "      <td>0.679194</td>\n",
       "      <td>0.063767</td>\n",
       "      <td>0.097593</td>\n",
       "      <td>0.889094</td>\n",
       "      <td>0.708689</td>\n",
       "      <td>20540.0</td>\n",
       "      <td>69170.0</td>\n",
       "    </tr>\n",
       "  </tbody>\n",
       "</table>\n",
       "<p>4 rows × 50 columns</p>\n",
       "</div>"
      ],
      "text/plain": [
       "  run_no                       universe_id  \\\n",
       "0      6  ddb506ae2be8b282f3a883e0c2c18dab   \n",
       "0      6  ddb506ae2be8b282f3a883e0c2c18dab   \n",
       "0      6  ddb506ae2be8b282f3a883e0c2c18dab   \n",
       "0      6  ddb506ae2be8b282f3a883e0c2c18dab   \n",
       "\n",
       "                                   universe_settings  execution_time  \\\n",
       "0  {\"cutoff\": \"quantile_0.1\", \"eval_fairness_grou...      244.561527   \n",
       "0  {\"cutoff\": \"quantile_0.1\", \"eval_fairness_grou...      244.561527   \n",
       "0  {\"cutoff\": \"quantile_0.25\", \"eval_fairness_gro...      244.561527   \n",
       "0  {\"cutoff\": \"quantile_0.25\", \"eval_fairness_gro...      244.561527   \n",
       "\n",
       "   test_size_n  test_size_frac  fair_main_equalized_odds_difference  \\\n",
       "0        89710             1.0                             0.094888   \n",
       "0        89710             1.0                             0.094888   \n",
       "0        89710             1.0                             0.203758   \n",
       "0        89710             1.0                             0.203758   \n",
       "\n",
       "   fair_main_equalized_odds_ratio  fair_main_demographic_parity_difference  \\\n",
       "0                        0.901395                                 0.084295   \n",
       "0                        0.901395                                 0.084295   \n",
       "0                        0.769231                                 0.180406   \n",
       "0                        0.769231                                 0.180406   \n",
       "\n",
       "   fair_main_demographic_parity_ratio  ...  perf_grp_precision_0  \\\n",
       "0                            0.912647  ...                   NaN   \n",
       "0                            0.912647  ...              0.117754   \n",
       "0                            0.797090  ...                   NaN   \n",
       "0                            0.797090  ...              0.121400   \n",
       "\n",
       "   perf_grp_precision_1  perf_grp_false positive rate_0  \\\n",
       "0                   NaN                             NaN   \n",
       "0              0.145228                        0.962305   \n",
       "0                   NaN                             NaN   \n",
       "0              0.168258                        0.882952   \n",
       "\n",
       "   perf_grp_false positive rate_1  perf_grp_false negative rate_0  \\\n",
       "0                             NaN                             NaN   \n",
       "0                        0.867416                        0.014358   \n",
       "0                             NaN                             NaN   \n",
       "0                        0.679194                        0.063767   \n",
       "\n",
       "   perf_grp_false negative rate_1  perf_grp_selection rate_0  \\\n",
       "0                             NaN                        NaN   \n",
       "0                        0.032057                   0.964995   \n",
       "0                             NaN                        NaN   \n",
       "0                        0.097593                   0.889094   \n",
       "\n",
       "   perf_grp_selection rate_1  perf_grp_count_0  perf_grp_count_1  \n",
       "0                        NaN               NaN               NaN  \n",
       "0                   0.880700           20540.0           69170.0  \n",
       "0                        NaN               NaN               NaN  \n",
       "0                   0.708689           20540.0           69170.0  \n",
       "\n",
       "[4 rows x 50 columns]"
      ]
     },
     "execution_count": 61,
     "metadata": {},
     "output_type": "execute_result"
    }
   ],
   "source": [
    "final_output = universe_analysis.generate_final_output(\n",
    "    y_pred_prob=probs_test,\n",
    "    y_test=y_true,\n",
    "    org_test=org_test,\n",
    "    filter_data=filter_sub_universe_data,\n",
    "    cp_metrics_df=cp_metrics_df,\n",
    "    save=True,\n",
    ")\n",
    "final_output"
   ]
  },
  {
   "cell_type": "code",
   "execution_count": null,
   "id": "721ff514-cb11-46f8-b6fc-50392f74b5cb",
   "metadata": {
    "papermill": {
     "duration": 0.026735,
     "end_time": "2025-07-23T13:05:54.939646",
     "exception": false,
     "start_time": "2025-07-23T13:05:54.912911",
     "status": "completed"
    },
    "tags": []
   },
   "outputs": [],
   "source": []
  }
 ],
 "metadata": {
  "celltoolbar": "Tags",
  "kernelspec": {
   "display_name": "Python (CMA Fairness)",
   "language": "python",
   "name": "cma_fair_env"
  },
  "language_info": {
   "codemirror_mode": {
    "name": "ipython",
    "version": 3
   },
   "file_extension": ".py",
   "mimetype": "text/x-python",
   "name": "python",
   "nbconvert_exporter": "python",
   "pygments_lexer": "ipython3",
   "version": "3.10.12"
  },
  "papermill": {
   "default_parameters": {},
   "duration": 261.563275,
   "end_time": "2025-07-23T13:05:55.687044",
   "environment_variables": {},
   "exception": null,
   "input_path": "universe_analysis.ipynb",
   "output_path": "output/runs/6/notebooks/m_6-ddb506ae2be8b282f3a883e0c2c18dab.ipynb",
   "parameters": {
    "output_dir": "output",
    "run_no": "6",
    "seed": "2023",
    "universe": "{\"cutoff\": [\"quantile_0.1\", \"quantile_0.25\"], \"eval_fairness_grouping\": [\"majority-minority\", \"nationality-all\"], \"exclude_features\": \"none\", \"exclude_subgroups\": \"keep-all\", \"model\": \"elasticnet\", \"scale\": \"do-not-scale\"}",
    "universe_id": "ddb506ae2be8b282f3a883e0c2c18dab"
   },
   "start_time": "2025-07-23T13:01:34.123769",
   "version": "2.6.0"
  }
 },
 "nbformat": 4,
 "nbformat_minor": 5
}