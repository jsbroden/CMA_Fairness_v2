{
 "cells": [
  {
   "cell_type": "code",
   "execution_count": 1,
   "id": "f159f837-637b-42ba-96b5-ec9a68c44524",
   "metadata": {
    "execution": {
     "iopub.execute_input": "2025-07-23T12:57:06.141612Z",
     "iopub.status.busy": "2025-07-23T12:57:06.141075Z",
     "iopub.status.idle": "2025-07-23T12:57:06.156432Z",
     "shell.execute_reply": "2025-07-23T12:57:06.155480Z"
    },
    "papermill": {
     "duration": 0.036484,
     "end_time": "2025-07-23T12:57:06.158898",
     "exception": false,
     "start_time": "2025-07-23T12:57:06.122414",
     "status": "completed"
    },
    "tags": []
   },
   "outputs": [
    {
     "name": "stdout",
     "output_type": "stream",
     "text": [
      "/dss/dsshome1/0C/ra93lal2/cma/CMA_Fairness_v2\n"
     ]
    },
    {
     "name": "stderr",
     "output_type": "stream",
     "text": [
      "/dss/dsshome1/0C/ra93lal2/.local/share/virtualenvs/CMA_Fairness_v2-3j10GkSs/lib/python3.10/site-packages/IPython/core/magics/osm.py:393: UserWarning: This is now an optional IPython functionality, using bookmarks requires you to install the `pickleshare` library.\n",
      "  bkms = self.shell.db.get('bookmarks', {})\n",
      "/dss/dsshome1/0C/ra93lal2/.local/share/virtualenvs/CMA_Fairness_v2-3j10GkSs/lib/python3.10/site-packages/IPython/core/magics/osm.py:417: UserWarning: This is now an optional IPython functionality, setting dhist requires you to install the `pickleshare` library.\n",
      "  self.shell.db['dhist'] = compress_dhist(dhist)[-100:]\n"
     ]
    }
   ],
   "source": [
    "%cd ~/cma/CMA_Fairness_v2"
   ]
  },
  {
   "cell_type": "markdown",
   "id": "de2603b9",
   "metadata": {
    "papermill": {
     "duration": 0.026698,
     "end_time": "2025-07-23T12:57:06.211712",
     "exception": false,
     "start_time": "2025-07-23T12:57:06.185014",
     "status": "completed"
    },
    "tags": []
   },
   "source": [
    "The following cell holds the definition of our parameters, these values can be overriden by rendering the with e.g. the following command:\n",
    "\n",
    "papermill -p alpha 0.2 -p ratio 0.3 universe_analysis.ipynb output/test_run.ipynb"
   ]
  },
  {
   "cell_type": "code",
   "execution_count": 2,
   "id": "a80968a0-40bb-4fa9-85ef-2d5eefb01975",
   "metadata": {
    "execution": {
     "iopub.execute_input": "2025-07-23T12:57:06.263935Z",
     "iopub.status.busy": "2025-07-23T12:57:06.263161Z",
     "iopub.status.idle": "2025-07-23T12:57:06.269911Z",
     "shell.execute_reply": "2025-07-23T12:57:06.268693Z"
    },
    "papermill": {
     "duration": 0.034948,
     "end_time": "2025-07-23T12:57:06.272112",
     "exception": false,
     "start_time": "2025-07-23T12:57:06.237164",
     "status": "completed"
    },
    "tags": []
   },
   "outputs": [
    {
     "name": "stdout",
     "output_type": "stream",
     "text": [
      "Current working directory: /dss/dsshome1/0C/ra93lal2/cma/CMA_Fairness_v2\n"
     ]
    }
   ],
   "source": [
    "import os\n",
    "print(\"Current working directory:\", os.getcwd())"
   ]
  },
  {
   "cell_type": "code",
   "execution_count": 3,
   "id": "2dce4c03",
   "metadata": {
    "execution": {
     "iopub.execute_input": "2025-07-23T12:57:06.322723Z",
     "iopub.status.busy": "2025-07-23T12:57:06.322029Z",
     "iopub.status.idle": "2025-07-23T12:57:06.328265Z",
     "shell.execute_reply": "2025-07-23T12:57:06.327300Z"
    },
    "papermill": {
     "duration": 0.033429,
     "end_time": "2025-07-23T12:57:06.330015",
     "exception": false,
     "start_time": "2025-07-23T12:57:06.296586",
     "status": "completed"
    },
    "tags": [
     "parameters"
    ]
   },
   "outputs": [],
   "source": [
    "run_no = 0\n",
    "universe_id = \"test\"\n",
    "universe = {\n",
    "    \"scale\": \"scale\", # \"scale\", \"do-not-scale\",\n",
    "    \"model\": \"elasticnet\", # \"logreg\", \"penalized_logreg\", \"rf\", \"gbm\", \"elasticnet\"\n",
    "    \"cutoff\": [\"quantile_0.15\", \"quantile_0.30\"],\n",
    "    \"exclude_features\": \"age\", # \"none\", \"nationality\", \"sex\", \"nationality-sex\", \"age\"\n",
    "    \"exclude_subgroups\": \"keep-all\", # \"keep-all\", \"drop-non-german\"\n",
    "    \"eval_fairness_grouping\": [\"majority-minority\", \"nationality-all\"]\n",
    "}\n",
    "\n",
    "output_dir=\"./output\"\n",
    "seed=0"
   ]
  },
  {
   "cell_type": "code",
   "execution_count": 4,
   "id": "e78961f7",
   "metadata": {
    "execution": {
     "iopub.execute_input": "2025-07-23T12:57:06.349336Z",
     "iopub.status.busy": "2025-07-23T12:57:06.348917Z",
     "iopub.status.idle": "2025-07-23T12:57:06.353103Z",
     "shell.execute_reply": "2025-07-23T12:57:06.352366Z"
    },
    "papermill": {
     "duration": 0.014994,
     "end_time": "2025-07-23T12:57:06.354427",
     "exception": false,
     "start_time": "2025-07-23T12:57:06.339433",
     "status": "completed"
    },
    "tags": [
     "injected-parameters"
    ]
   },
   "outputs": [],
   "source": [
    "# Parameters\n",
    "universe_id = \"faf071549fe2da5d80f6703d540ac20a\"\n",
    "run_no = \"6\"\n",
    "universe = \"{\\\"cutoff\\\": [\\\"quantile_0.1\\\", \\\"quantile_0.25\\\"], \\\"eval_fairness_grouping\\\": [\\\"majority-minority\\\", \\\"nationality-all\\\"], \\\"exclude_features\\\": \\\"age\\\", \\\"exclude_subgroups\\\": \\\"keep-all\\\", \\\"model\\\": \\\"elasticnet\\\", \\\"scale\\\": \\\"scale\\\"}\"\n",
    "output_dir = \"output\"\n",
    "seed = \"2023\"\n"
   ]
  },
  {
   "cell_type": "code",
   "execution_count": 5,
   "id": "1650acaf",
   "metadata": {
    "execution": {
     "iopub.execute_input": "2025-07-23T12:57:06.385203Z",
     "iopub.status.busy": "2025-07-23T12:57:06.384782Z",
     "iopub.status.idle": "2025-07-23T12:57:06.390841Z",
     "shell.execute_reply": "2025-07-23T12:57:06.389617Z"
    },
    "papermill": {
     "duration": 0.029682,
     "end_time": "2025-07-23T12:57:06.393218",
     "exception": false,
     "start_time": "2025-07-23T12:57:06.363536",
     "status": "completed"
    },
    "tags": []
   },
   "outputs": [],
   "source": [
    "import json\n",
    "# Parse universe into dict if it is passed as a string\n",
    "if isinstance(universe, str):\n",
    "    universe = json.loads(universe)"
   ]
  },
  {
   "cell_type": "code",
   "execution_count": 6,
   "id": "16620c48",
   "metadata": {
    "execution": {
     "iopub.execute_input": "2025-07-23T12:57:06.440885Z",
     "iopub.status.busy": "2025-07-23T12:57:06.440461Z",
     "iopub.status.idle": "2025-07-23T12:57:06.492649Z",
     "shell.execute_reply": "2025-07-23T12:57:06.491746Z"
    },
    "papermill": {
     "duration": 0.075758,
     "end_time": "2025-07-23T12:57:06.494477",
     "exception": false,
     "start_time": "2025-07-23T12:57:06.418719",
     "status": "completed"
    },
    "tags": []
   },
   "outputs": [],
   "source": [
    "# Auto-reload the custom package\n",
    "%load_ext autoreload\n",
    "%autoreload 1\n",
    "%aimport fairness_multiverse"
   ]
  },
  {
   "cell_type": "code",
   "execution_count": 7,
   "id": "01c5c9f3",
   "metadata": {
    "execution": {
     "iopub.execute_input": "2025-07-23T12:57:06.515330Z",
     "iopub.status.busy": "2025-07-23T12:57:06.514972Z",
     "iopub.status.idle": "2025-07-23T12:57:08.669118Z",
     "shell.execute_reply": "2025-07-23T12:57:08.668009Z"
    },
    "papermill": {
     "duration": 2.166406,
     "end_time": "2025-07-23T12:57:08.671189",
     "exception": false,
     "start_time": "2025-07-23T12:57:06.504783",
     "status": "completed"
    },
    "tags": []
   },
   "outputs": [],
   "source": [
    "from fairness_multiverse.universe import UniverseAnalysis\n",
    "\n",
    "universe_analysis = UniverseAnalysis(\n",
    "    run_no = run_no,\n",
    "    universe_id = universe_id,\n",
    "    universe = universe,\n",
    "    output_dir=output_dir,\n",
    ")"
   ]
  },
  {
   "cell_type": "code",
   "execution_count": 8,
   "id": "106241f5",
   "metadata": {
    "execution": {
     "iopub.execute_input": "2025-07-23T12:57:08.709191Z",
     "iopub.status.busy": "2025-07-23T12:57:08.708233Z",
     "iopub.status.idle": "2025-07-23T12:57:08.715311Z",
     "shell.execute_reply": "2025-07-23T12:57:08.714293Z"
    },
    "papermill": {
     "duration": 0.027969,
     "end_time": "2025-07-23T12:57:08.717016",
     "exception": false,
     "start_time": "2025-07-23T12:57:08.689047",
     "status": "completed"
    },
    "tags": []
   },
   "outputs": [
    {
     "name": "stdout",
     "output_type": "stream",
     "text": [
      "Using Seed: 2023\n"
     ]
    }
   ],
   "source": [
    "import numpy as np\n",
    "parsed_seed = int(seed)\n",
    "np.random.seed(parsed_seed)\n",
    "print(f\"Using Seed: {parsed_seed}\")"
   ]
  },
  {
   "cell_type": "markdown",
   "id": "e0ebdc57",
   "metadata": {
    "papermill": {
     "duration": 0.016476,
     "end_time": "2025-07-23T12:57:08.750473",
     "exception": false,
     "start_time": "2025-07-23T12:57:08.733997",
     "status": "completed"
    },
    "tags": []
   },
   "source": [
    "# Loading Data"
   ]
  },
  {
   "cell_type": "markdown",
   "id": "681925a3",
   "metadata": {
    "papermill": {
     "duration": 0.01647,
     "end_time": "2025-07-23T12:57:08.783209",
     "exception": false,
     "start_time": "2025-07-23T12:57:08.766739",
     "status": "completed"
    },
    "tags": []
   },
   "source": [
    "Load siab_train, siab_test, siab_calib and/or \n",
    "load siab_train_features, siab_train_labels"
   ]
  },
  {
   "cell_type": "code",
   "execution_count": 9,
   "id": "f0496b8a",
   "metadata": {
    "execution": {
     "iopub.execute_input": "2025-07-23T12:57:08.817997Z",
     "iopub.status.busy": "2025-07-23T12:57:08.817370Z",
     "iopub.status.idle": "2025-07-23T12:57:08.823553Z",
     "shell.execute_reply": "2025-07-23T12:57:08.822531Z"
    },
    "papermill": {
     "duration": 0.026124,
     "end_time": "2025-07-23T12:57:08.825386",
     "exception": false,
     "start_time": "2025-07-23T12:57:08.799262",
     "status": "completed"
    },
    "tags": []
   },
   "outputs": [],
   "source": [
    "# Do I need to load siab? Delete this cell?\n",
    "\n",
    "#from pathlib import Path\n",
    "#import pandas as pd\n",
    "#\n",
    "## File paths\n",
    "#raw_file = Path(\"data/raw/siab.csv\")\n",
    "#cache_file = Path(\"data/siab_cached.csv.gz\")\n",
    "#\n",
    "## Ensure cache directory exists\n",
    "#cache_file.parent.mkdir(parents=True, exist_ok=True)\n",
    "#\n",
    "## Load with simple caching\n",
    "#if cache_file.exists():\n",
    "#    print(f\"Loading SIAB data from cache: {cache_file}\")\n",
    "#    siab = pd.read_csv(cache_file, compression='gzip')\n",
    "#else:\n",
    "#    print(f\"Cache not found. Reading raw SIAB data: {raw_file}\")\n",
    "#    siab = pd.read_csv(raw_file)\n",
    "#    siab.to_csv(cache_file, index=False, compression='gzip')\n",
    "#    print(f\"Cached SIAB data to: {cache_file}\")\n",
    "#\n",
    "## Now use `siab` DataFrame as needed\n",
    "#print(siab.shape)\n"
   ]
  },
  {
   "cell_type": "code",
   "execution_count": 10,
   "id": "a0edb063",
   "metadata": {
    "execution": {
     "iopub.execute_input": "2025-07-23T12:57:08.861855Z",
     "iopub.status.busy": "2025-07-23T12:57:08.861030Z",
     "iopub.status.idle": "2025-07-23T12:57:09.342075Z",
     "shell.execute_reply": "2025-07-23T12:57:09.341266Z"
    },
    "papermill": {
     "duration": 0.500668,
     "end_time": "2025-07-23T12:57:09.343933",
     "exception": false,
     "start_time": "2025-07-23T12:57:08.843265",
     "status": "completed"
    },
    "tags": []
   },
   "outputs": [],
   "source": [
    "import pandas as pd\n",
    "\n",
    "X_train = pd.read_csv(\"./data/X_train.csv\")\n",
    "y_train = pd.read_csv(\"./data/y_train.csv\")"
   ]
  },
  {
   "cell_type": "code",
   "execution_count": 11,
   "id": "63d08085",
   "metadata": {
    "execution": {
     "iopub.execute_input": "2025-07-23T12:57:09.381589Z",
     "iopub.status.busy": "2025-07-23T12:57:09.381307Z",
     "iopub.status.idle": "2025-07-23T12:57:11.034897Z",
     "shell.execute_reply": "2025-07-23T12:57:11.033724Z"
    },
    "papermill": {
     "duration": 1.670117,
     "end_time": "2025-07-23T12:57:11.037623",
     "exception": false,
     "start_time": "2025-07-23T12:57:09.367506",
     "status": "completed"
    },
    "tags": []
   },
   "outputs": [],
   "source": [
    "X_test = pd.read_csv(\"./data/X_test.csv\")\n",
    "y_true = pd.read_csv(\"./data/y_test.csv\")"
   ]
  },
  {
   "cell_type": "code",
   "execution_count": 12,
   "id": "98a8d0fa-1d3d-4ed8-bb2c-281470e24add",
   "metadata": {
    "execution": {
     "iopub.execute_input": "2025-07-23T12:57:11.084640Z",
     "iopub.status.busy": "2025-07-23T12:57:11.083572Z",
     "iopub.status.idle": "2025-07-23T12:57:12.257432Z",
     "shell.execute_reply": "2025-07-23T12:57:12.255963Z"
    },
    "papermill": {
     "duration": 1.197912,
     "end_time": "2025-07-23T12:57:12.259843",
     "exception": false,
     "start_time": "2025-07-23T12:57:11.061931",
     "status": "completed"
    },
    "tags": []
   },
   "outputs": [],
   "source": [
    "# Calibration data for conformal\n",
    "X_calib = pd.read_csv(\"./data/X_calib.csv\")\n",
    "y_calib = pd.read_csv(\"./data/y_calib.csv\")"
   ]
  },
  {
   "cell_type": "code",
   "execution_count": 13,
   "id": "e6c733c5",
   "metadata": {
    "execution": {
     "iopub.execute_input": "2025-07-23T12:57:12.305597Z",
     "iopub.status.busy": "2025-07-23T12:57:12.304827Z",
     "iopub.status.idle": "2025-07-23T12:57:12.414213Z",
     "shell.execute_reply": "2025-07-23T12:57:12.413135Z"
    },
    "papermill": {
     "duration": 0.133332,
     "end_time": "2025-07-23T12:57:12.416283",
     "exception": false,
     "start_time": "2025-07-23T12:57:12.282951",
     "status": "completed"
    },
    "tags": []
   },
   "outputs": [],
   "source": [
    "# Auxiliary data needed downstream in the pipeline\n",
    "\n",
    "org_train = X_train.copy()\n",
    "org_test = X_test.copy()\n",
    "org_calib = X_calib.copy()"
   ]
  },
  {
   "cell_type": "markdown",
   "id": "0a4a1b33",
   "metadata": {
    "papermill": {
     "duration": 0.016828,
     "end_time": "2025-07-23T12:57:12.450381",
     "exception": false,
     "start_time": "2025-07-23T12:57:12.433553",
     "status": "completed"
    },
    "tags": []
   },
   "source": [
    "# Preprocessing Data"
   ]
  },
  {
   "cell_type": "code",
   "execution_count": 14,
   "id": "ca879031",
   "metadata": {
    "execution": {
     "iopub.execute_input": "2025-07-23T12:57:12.491072Z",
     "iopub.status.busy": "2025-07-23T12:57:12.490710Z",
     "iopub.status.idle": "2025-07-23T12:57:12.495704Z",
     "shell.execute_reply": "2025-07-23T12:57:12.494904Z"
    },
    "papermill": {
     "duration": 0.030038,
     "end_time": "2025-07-23T12:57:12.497077",
     "exception": false,
     "start_time": "2025-07-23T12:57:12.467039",
     "status": "completed"
    },
    "tags": []
   },
   "outputs": [],
   "source": [
    "# EXCLUDE PROTECTED FEATURES\n",
    "# ----------------------\n",
    "# \"exclude_features\": \"none\", # \"nationality\", \"sex\", \"nationality-sex\"\n",
    "\n",
    "excluded_features = universe[\"exclude_features\"].split(\"-\") # split, e.g.: \"nationality-sex\" -> [\"nationality\", \"sex\"]\n",
    "excluded_features_dictionary = {\n",
    "    \"nationality\": [\"maxdeutsch1\", \"maxdeutsch.Missing.\"],\n",
    "    \"sex\": [\"frau1\"],\n",
    "    \"age\": [\"age\"],\n",
    "}\n"
   ]
  },
  {
   "cell_type": "code",
   "execution_count": 15,
   "id": "b745ac60",
   "metadata": {
    "execution": {
     "iopub.execute_input": "2025-07-23T12:57:12.518251Z",
     "iopub.status.busy": "2025-07-23T12:57:12.517721Z",
     "iopub.status.idle": "2025-07-23T12:57:12.522551Z",
     "shell.execute_reply": "2025-07-23T12:57:12.521860Z"
    },
    "papermill": {
     "duration": 0.017157,
     "end_time": "2025-07-23T12:57:12.524033",
     "exception": false,
     "start_time": "2025-07-23T12:57:12.506876",
     "status": "completed"
    },
    "tags": []
   },
   "outputs": [],
   "source": [
    "# Code nice names to column names\n",
    "\n",
    "excluded_features_columns = [\n",
    "    excluded_features_dictionary[f] for f in excluded_features if len(f) > 0 and f != \"none\"\n",
    "]"
   ]
  },
  {
   "cell_type": "code",
   "execution_count": 16,
   "id": "f84f73a2",
   "metadata": {
    "execution": {
     "iopub.execute_input": "2025-07-23T12:57:12.545186Z",
     "iopub.status.busy": "2025-07-23T12:57:12.544314Z",
     "iopub.status.idle": "2025-07-23T12:57:12.549768Z",
     "shell.execute_reply": "2025-07-23T12:57:12.549032Z"
    },
    "papermill": {
     "duration": 0.016947,
     "end_time": "2025-07-23T12:57:12.551145",
     "exception": false,
     "start_time": "2025-07-23T12:57:12.534198",
     "status": "completed"
    },
    "tags": []
   },
   "outputs": [],
   "source": [
    "from utils import flatten_once\n",
    "\n",
    "excluded_features_columns = flatten_once(excluded_features_columns)"
   ]
  },
  {
   "cell_type": "code",
   "execution_count": 17,
   "id": "884dea22",
   "metadata": {
    "execution": {
     "iopub.execute_input": "2025-07-23T12:57:12.571686Z",
     "iopub.status.busy": "2025-07-23T12:57:12.571421Z",
     "iopub.status.idle": "2025-07-23T12:57:12.586388Z",
     "shell.execute_reply": "2025-07-23T12:57:12.585247Z"
    },
    "papermill": {
     "duration": 0.027847,
     "end_time": "2025-07-23T12:57:12.588905",
     "exception": false,
     "start_time": "2025-07-23T12:57:12.561058",
     "status": "completed"
    },
    "tags": []
   },
   "outputs": [
    {
     "name": "stdout",
     "output_type": "stream",
     "text": [
      "Dropping features: ['age']\n"
     ]
    }
   ],
   "source": [
    "if len(excluded_features_columns) > 0:\n",
    "    print(f\"Dropping features: {excluded_features_columns}\")\n",
    "    X_train.drop(excluded_features_columns, axis=1, inplace=True)"
   ]
  },
  {
   "cell_type": "code",
   "execution_count": 18,
   "id": "95ab8b16",
   "metadata": {
    "execution": {
     "iopub.execute_input": "2025-07-23T12:57:12.614043Z",
     "iopub.status.busy": "2025-07-23T12:57:12.613708Z",
     "iopub.status.idle": "2025-07-23T12:57:12.662951Z",
     "shell.execute_reply": "2025-07-23T12:57:12.662167Z"
    },
    "papermill": {
     "duration": 0.061445,
     "end_time": "2025-07-23T12:57:12.664653",
     "exception": false,
     "start_time": "2025-07-23T12:57:12.603208",
     "status": "completed"
    },
    "tags": []
   },
   "outputs": [
    {
     "name": "stdout",
     "output_type": "stream",
     "text": [
      "Dropping features: ['age']\n"
     ]
    }
   ],
   "source": [
    "if len(excluded_features_columns) > 0:\n",
    "    print(f\"Dropping features: {excluded_features_columns}\")\n",
    "    X_test.drop(excluded_features_columns, axis=1, inplace=True)"
   ]
  },
  {
   "cell_type": "code",
   "execution_count": 19,
   "id": "1853aaf5-fb9f-46cb-a2b5-8ea4ae2237e4",
   "metadata": {
    "execution": {
     "iopub.execute_input": "2025-07-23T12:57:12.714822Z",
     "iopub.status.busy": "2025-07-23T12:57:12.714324Z",
     "iopub.status.idle": "2025-07-23T12:57:12.780332Z",
     "shell.execute_reply": "2025-07-23T12:57:12.779264Z"
    },
    "papermill": {
     "duration": 0.086259,
     "end_time": "2025-07-23T12:57:12.782196",
     "exception": false,
     "start_time": "2025-07-23T12:57:12.695937",
     "status": "completed"
    },
    "tags": []
   },
   "outputs": [
    {
     "name": "stdout",
     "output_type": "stream",
     "text": [
      "Dropping features: ['age']\n"
     ]
    }
   ],
   "source": [
    "if len(excluded_features_columns) > 0:\n",
    "    print(f\"Dropping features: {excluded_features_columns}\")\n",
    "    X_calib.drop(excluded_features_columns, axis=1, inplace=True)"
   ]
  },
  {
   "cell_type": "code",
   "execution_count": 20,
   "id": "76c4dc6d",
   "metadata": {
    "execution": {
     "iopub.execute_input": "2025-07-23T12:57:12.820731Z",
     "iopub.status.busy": "2025-07-23T12:57:12.820024Z",
     "iopub.status.idle": "2025-07-23T12:57:12.825731Z",
     "shell.execute_reply": "2025-07-23T12:57:12.824764Z"
    },
    "papermill": {
     "duration": 0.02631,
     "end_time": "2025-07-23T12:57:12.827342",
     "exception": false,
     "start_time": "2025-07-23T12:57:12.801032",
     "status": "completed"
    },
    "tags": []
   },
   "outputs": [],
   "source": [
    "# EXCLUDE CERTAIN SUBGROUPS\n",
    "# ----------------------\n",
    "\n",
    "mode = universe.get(\"exclude_subgroups\", \"keep-all\") \n",
    "# Fetches the exclude_subgroups setting from the universe dict.\n",
    "# Defaults to \"keep-all\" if the key is missing."
   ]
  },
  {
   "cell_type": "code",
   "execution_count": 21,
   "id": "21994072",
   "metadata": {
    "execution": {
     "iopub.execute_input": "2025-07-23T12:57:12.864683Z",
     "iopub.status.busy": "2025-07-23T12:57:12.864182Z",
     "iopub.status.idle": "2025-07-23T12:57:12.871380Z",
     "shell.execute_reply": "2025-07-23T12:57:12.870412Z"
    },
    "papermill": {
     "duration": 0.027715,
     "end_time": "2025-07-23T12:57:12.873240",
     "exception": false,
     "start_time": "2025-07-23T12:57:12.845525",
     "status": "completed"
    },
    "tags": []
   },
   "outputs": [],
   "source": [
    "if mode == \"keep-all\":\n",
    "    keep_mask = pd.Series(True, index=org_train.index)\n",
    "\n",
    "# org_train contains the original feature columns from features_org (in Simson)\n",
    "# features_org contains unprocessed features, for me X_train at beginning ???\n",
    "# For keep-all, creates a boolean Series (keep_mask) of all True, so no rows are removed.\n",
    "\n",
    "elif mode == \"drop-non-german\":\n",
    "    keep_mask = org_train[\"maxdeutsch1\"] == 1 # ??? what about missing values?\n",
    "\n",
    "else:\n",
    "    raise ValueError(f\"Unsupported mode for exclude_subgroups: {mode}\")\n"
   ]
  },
  {
   "cell_type": "code",
   "execution_count": 22,
   "id": "71651440",
   "metadata": {
    "execution": {
     "iopub.execute_input": "2025-07-23T12:57:12.911596Z",
     "iopub.status.busy": "2025-07-23T12:57:12.910657Z",
     "iopub.status.idle": "2025-07-23T12:57:12.917674Z",
     "shell.execute_reply": "2025-07-23T12:57:12.916769Z"
    },
    "papermill": {
     "duration": 0.027491,
     "end_time": "2025-07-23T12:57:12.919271",
     "exception": false,
     "start_time": "2025-07-23T12:57:12.891780",
     "status": "completed"
    },
    "tags": []
   },
   "outputs": [],
   "source": [
    "n_drop = (~keep_mask).sum() # Calculates how many rows are set to be dropped\n",
    "if n_drop > 0:\n",
    "    pct = n_drop / len(keep_mask) * 100\n",
    "    print(f\"Dropping {n_drop} rows ({pct:.2f}%) where mode='{mode}'\")"
   ]
  },
  {
   "cell_type": "code",
   "execution_count": 23,
   "id": "5fb8eee5",
   "metadata": {
    "execution": {
     "iopub.execute_input": "2025-07-23T12:57:12.957282Z",
     "iopub.status.busy": "2025-07-23T12:57:12.956284Z",
     "iopub.status.idle": "2025-07-23T12:57:12.972392Z",
     "shell.execute_reply": "2025-07-23T12:57:12.971426Z"
    },
    "papermill": {
     "duration": 0.037155,
     "end_time": "2025-07-23T12:57:12.974518",
     "exception": false,
     "start_time": "2025-07-23T12:57:12.937363",
     "status": "completed"
    },
    "tags": []
   },
   "outputs": [],
   "source": [
    "X_train = X_train[keep_mask]"
   ]
  },
  {
   "cell_type": "code",
   "execution_count": 24,
   "id": "b202bb3a",
   "metadata": {
    "execution": {
     "iopub.execute_input": "2025-07-23T12:57:13.015161Z",
     "iopub.status.busy": "2025-07-23T12:57:13.014263Z",
     "iopub.status.idle": "2025-07-23T12:57:13.021280Z",
     "shell.execute_reply": "2025-07-23T12:57:13.020335Z"
    },
    "papermill": {
     "duration": 0.029101,
     "end_time": "2025-07-23T12:57:13.023012",
     "exception": false,
     "start_time": "2025-07-23T12:57:12.993911",
     "status": "completed"
    },
    "tags": []
   },
   "outputs": [],
   "source": [
    "y_train = y_train[keep_mask]"
   ]
  },
  {
   "cell_type": "markdown",
   "id": "493e2ac3",
   "metadata": {
    "papermill": {
     "duration": 0.018511,
     "end_time": "2025-07-23T12:57:13.059939",
     "exception": false,
     "start_time": "2025-07-23T12:57:13.041428",
     "status": "completed"
    },
    "tags": []
   },
   "source": [
    "# Model Training"
   ]
  },
  {
   "cell_type": "code",
   "execution_count": 25,
   "id": "679e1268",
   "metadata": {
    "execution": {
     "iopub.execute_input": "2025-07-23T12:57:13.097908Z",
     "iopub.status.busy": "2025-07-23T12:57:13.097021Z",
     "iopub.status.idle": "2025-07-23T12:57:13.207762Z",
     "shell.execute_reply": "2025-07-23T12:57:13.206793Z"
    },
    "papermill": {
     "duration": 0.132046,
     "end_time": "2025-07-23T12:57:13.209816",
     "exception": false,
     "start_time": "2025-07-23T12:57:13.077770",
     "status": "completed"
    },
    "tags": []
   },
   "outputs": [],
   "source": [
    "from sklearn.linear_model import LogisticRegression\n",
    "from sklearn.ensemble import GradientBoostingClassifier, RandomForestClassifier\n",
    "\n",
    "if (universe[\"model\"] == \"logreg\"):\n",
    "    model = LogisticRegression() #penalty=\"none\") #, solver=\"newton-cg\", max_iter=1) # include random_state=19 ?\n",
    "elif (universe[\"model\"] == \"penalized_logreg\"):\n",
    "    model = LogisticRegression(penalty=\"l2\", C=1.0) #, solver=\"newton-cg\", max_iter=1)\n",
    "elif (universe[\"model\"] == \"rf\"):\n",
    "    model = RandomForestClassifier(n_estimators=100, n_jobs=-1)\n",
    "elif (universe[\"model\"] == \"gbm\"):\n",
    "    model = GradientBoostingClassifier()\n",
    "elif (universe[\"model\"] == \"elasticnet\"):\n",
    "    model = LogisticRegression(penalty = 'elasticnet', solver = 'saga', l1_ratio = 0.5, max_iter=5000) # which solver to use?\n",
    "else:\n",
    "    raise \"Unsupported universe.model\""
   ]
  },
  {
   "cell_type": "code",
   "execution_count": 26,
   "id": "0cc8f744",
   "metadata": {
    "execution": {
     "iopub.execute_input": "2025-07-23T12:57:13.250343Z",
     "iopub.status.busy": "2025-07-23T12:57:13.249324Z",
     "iopub.status.idle": "2025-07-23T12:57:13.256392Z",
     "shell.execute_reply": "2025-07-23T12:57:13.255374Z"
    },
    "papermill": {
     "duration": 0.029157,
     "end_time": "2025-07-23T12:57:13.258341",
     "exception": false,
     "start_time": "2025-07-23T12:57:13.229184",
     "status": "completed"
    },
    "tags": []
   },
   "outputs": [],
   "source": [
    "import numpy as np\n",
    "from sklearn.pipeline import Pipeline\n",
    "from sklearn.preprocessing import StandardScaler\n",
    "\n",
    "model = Pipeline([\n",
    "    #(\"continuous_processor\", continuous_processor),\n",
    "    #(\"categorical_preprocessor\", categorical_preprocessor),\n",
    "    (\"scale\", StandardScaler() if universe[\"scale\"] == \"scale\" else None), \n",
    "    (\"model\", model),\n",
    "])"
   ]
  },
  {
   "cell_type": "code",
   "execution_count": 27,
   "id": "9442c04d",
   "metadata": {
    "execution": {
     "iopub.execute_input": "2025-07-23T12:57:13.300214Z",
     "iopub.status.busy": "2025-07-23T12:57:13.299329Z",
     "iopub.status.idle": "2025-07-23T12:57:34.918068Z",
     "shell.execute_reply": "2025-07-23T12:57:34.917162Z"
    },
    "papermill": {
     "duration": 21.639992,
     "end_time": "2025-07-23T12:57:34.919588",
     "exception": false,
     "start_time": "2025-07-23T12:57:13.279596",
     "status": "completed"
    },
    "tags": []
   },
   "outputs": [
    {
     "data": {
      "text/html": [
       "<style>#sk-container-id-1 {color: black;background-color: white;}#sk-container-id-1 pre{padding: 0;}#sk-container-id-1 div.sk-toggleable {background-color: white;}#sk-container-id-1 label.sk-toggleable__label {cursor: pointer;display: block;width: 100%;margin-bottom: 0;padding: 0.3em;box-sizing: border-box;text-align: center;}#sk-container-id-1 label.sk-toggleable__label-arrow:before {content: \"▸\";float: left;margin-right: 0.25em;color: #696969;}#sk-container-id-1 label.sk-toggleable__label-arrow:hover:before {color: black;}#sk-container-id-1 div.sk-estimator:hover label.sk-toggleable__label-arrow:before {color: black;}#sk-container-id-1 div.sk-toggleable__content {max-height: 0;max-width: 0;overflow: hidden;text-align: left;background-color: #f0f8ff;}#sk-container-id-1 div.sk-toggleable__content pre {margin: 0.2em;color: black;border-radius: 0.25em;background-color: #f0f8ff;}#sk-container-id-1 input.sk-toggleable__control:checked~div.sk-toggleable__content {max-height: 200px;max-width: 100%;overflow: auto;}#sk-container-id-1 input.sk-toggleable__control:checked~label.sk-toggleable__label-arrow:before {content: \"▾\";}#sk-container-id-1 div.sk-estimator input.sk-toggleable__control:checked~label.sk-toggleable__label {background-color: #d4ebff;}#sk-container-id-1 div.sk-label input.sk-toggleable__control:checked~label.sk-toggleable__label {background-color: #d4ebff;}#sk-container-id-1 input.sk-hidden--visually {border: 0;clip: rect(1px 1px 1px 1px);clip: rect(1px, 1px, 1px, 1px);height: 1px;margin: -1px;overflow: hidden;padding: 0;position: absolute;width: 1px;}#sk-container-id-1 div.sk-estimator {font-family: monospace;background-color: #f0f8ff;border: 1px dotted black;border-radius: 0.25em;box-sizing: border-box;margin-bottom: 0.5em;}#sk-container-id-1 div.sk-estimator:hover {background-color: #d4ebff;}#sk-container-id-1 div.sk-parallel-item::after {content: \"\";width: 100%;border-bottom: 1px solid gray;flex-grow: 1;}#sk-container-id-1 div.sk-label:hover label.sk-toggleable__label {background-color: #d4ebff;}#sk-container-id-1 div.sk-serial::before {content: \"\";position: absolute;border-left: 1px solid gray;box-sizing: border-box;top: 0;bottom: 0;left: 50%;z-index: 0;}#sk-container-id-1 div.sk-serial {display: flex;flex-direction: column;align-items: center;background-color: white;padding-right: 0.2em;padding-left: 0.2em;position: relative;}#sk-container-id-1 div.sk-item {position: relative;z-index: 1;}#sk-container-id-1 div.sk-parallel {display: flex;align-items: stretch;justify-content: center;background-color: white;position: relative;}#sk-container-id-1 div.sk-item::before, #sk-container-id-1 div.sk-parallel-item::before {content: \"\";position: absolute;border-left: 1px solid gray;box-sizing: border-box;top: 0;bottom: 0;left: 50%;z-index: -1;}#sk-container-id-1 div.sk-parallel-item {display: flex;flex-direction: column;z-index: 1;position: relative;background-color: white;}#sk-container-id-1 div.sk-parallel-item:first-child::after {align-self: flex-end;width: 50%;}#sk-container-id-1 div.sk-parallel-item:last-child::after {align-self: flex-start;width: 50%;}#sk-container-id-1 div.sk-parallel-item:only-child::after {width: 0;}#sk-container-id-1 div.sk-dashed-wrapped {border: 1px dashed gray;margin: 0 0.4em 0.5em 0.4em;box-sizing: border-box;padding-bottom: 0.4em;background-color: white;}#sk-container-id-1 div.sk-label label {font-family: monospace;font-weight: bold;display: inline-block;line-height: 1.2em;}#sk-container-id-1 div.sk-label-container {text-align: center;}#sk-container-id-1 div.sk-container {/* jupyter's `normalize.less` sets `[hidden] { display: none; }` but bootstrap.min.css set `[hidden] { display: none !important; }` so we also need the `!important` here to be able to override the default hidden behavior on the sphinx rendered scikit-learn.org. See: https://github.com/scikit-learn/scikit-learn/issues/21755 */display: inline-block !important;position: relative;}#sk-container-id-1 div.sk-text-repr-fallback {display: none;}</style><div id=\"sk-container-id-1\" class=\"sk-top-container\"><div class=\"sk-text-repr-fallback\"><pre>Pipeline(steps=[(&#x27;scale&#x27;, StandardScaler()),\n",
       "                (&#x27;model&#x27;,\n",
       "                 LogisticRegression(l1_ratio=0.5, max_iter=5000,\n",
       "                                    penalty=&#x27;elasticnet&#x27;, solver=&#x27;saga&#x27;))])</pre><b>In a Jupyter environment, please rerun this cell to show the HTML representation or trust the notebook. <br />On GitHub, the HTML representation is unable to render, please try loading this page with nbviewer.org.</b></div><div class=\"sk-container\" hidden><div class=\"sk-item sk-dashed-wrapped\"><div class=\"sk-label-container\"><div class=\"sk-label sk-toggleable\"><input class=\"sk-toggleable__control sk-hidden--visually\" id=\"sk-estimator-id-1\" type=\"checkbox\" ><label for=\"sk-estimator-id-1\" class=\"sk-toggleable__label sk-toggleable__label-arrow\">Pipeline</label><div class=\"sk-toggleable__content\"><pre>Pipeline(steps=[(&#x27;scale&#x27;, StandardScaler()),\n",
       "                (&#x27;model&#x27;,\n",
       "                 LogisticRegression(l1_ratio=0.5, max_iter=5000,\n",
       "                                    penalty=&#x27;elasticnet&#x27;, solver=&#x27;saga&#x27;))])</pre></div></div></div><div class=\"sk-serial\"><div class=\"sk-item\"><div class=\"sk-estimator sk-toggleable\"><input class=\"sk-toggleable__control sk-hidden--visually\" id=\"sk-estimator-id-2\" type=\"checkbox\" ><label for=\"sk-estimator-id-2\" class=\"sk-toggleable__label sk-toggleable__label-arrow\">StandardScaler</label><div class=\"sk-toggleable__content\"><pre>StandardScaler()</pre></div></div></div><div class=\"sk-item\"><div class=\"sk-estimator sk-toggleable\"><input class=\"sk-toggleable__control sk-hidden--visually\" id=\"sk-estimator-id-3\" type=\"checkbox\" ><label for=\"sk-estimator-id-3\" class=\"sk-toggleable__label sk-toggleable__label-arrow\">LogisticRegression</label><div class=\"sk-toggleable__content\"><pre>LogisticRegression(l1_ratio=0.5, max_iter=5000, penalty=&#x27;elasticnet&#x27;,\n",
       "                   solver=&#x27;saga&#x27;)</pre></div></div></div></div></div></div></div>"
      ],
      "text/plain": [
       "Pipeline(steps=[('scale', StandardScaler()),\n",
       "                ('model',\n",
       "                 LogisticRegression(l1_ratio=0.5, max_iter=5000,\n",
       "                                    penalty='elasticnet', solver='saga'))])"
      ]
     },
     "execution_count": 27,
     "metadata": {},
     "output_type": "execute_result"
    }
   ],
   "source": [
    "model.fit(X_train, y_train.values.ravel())"
   ]
  },
  {
   "cell_type": "code",
   "execution_count": 28,
   "id": "af59f8c0",
   "metadata": {
    "execution": {
     "iopub.execute_input": "2025-07-23T12:57:34.943838Z",
     "iopub.status.busy": "2025-07-23T12:57:34.943468Z",
     "iopub.status.idle": "2025-07-23T12:57:34.948514Z",
     "shell.execute_reply": "2025-07-23T12:57:34.947805Z"
    },
    "papermill": {
     "duration": 0.017475,
     "end_time": "2025-07-23T12:57:34.949947",
     "exception": false,
     "start_time": "2025-07-23T12:57:34.932472",
     "status": "completed"
    },
    "tags": []
   },
   "outputs": [],
   "source": [
    "from fairness_multiverse.universe import predict_w_threshold"
   ]
  },
  {
   "cell_type": "code",
   "execution_count": 29,
   "id": "a7cf2e16",
   "metadata": {
    "execution": {
     "iopub.execute_input": "2025-07-23T12:57:34.972215Z",
     "iopub.status.busy": "2025-07-23T12:57:34.971399Z",
     "iopub.status.idle": "2025-07-23T12:57:35.154598Z",
     "shell.execute_reply": "2025-07-23T12:57:35.153687Z"
    },
    "papermill": {
     "duration": 0.195622,
     "end_time": "2025-07-23T12:57:35.156101",
     "exception": false,
     "start_time": "2025-07-23T12:57:34.960479",
     "status": "completed"
    },
    "tags": []
   },
   "outputs": [
    {
     "data": {
      "text/plain": [
       "0.8576412885965891"
      ]
     },
     "execution_count": 29,
     "metadata": {},
     "output_type": "execute_result"
    }
   ],
   "source": [
    "probs_test = model.predict_proba(X_test)\n",
    "\n",
    "'''\n",
    "Below code returns a boolean array (or binary 0/1 array depending on how it’s used) where each element \n",
    "is True if the probability of class 1 is greater than or equal to the threshold, and False otherwise.\n",
    "'''\n",
    "y_pred_default = predict_w_threshold(probs_test, 0.5)\n",
    "\n",
    "from sklearn.metrics import accuracy_score\n",
    "\n",
    "# Naive prediction\n",
    "accuracy_score(y_true = y_true, y_pred = y_pred_default)"
   ]
  },
  {
   "cell_type": "code",
   "execution_count": 30,
   "id": "081964c3",
   "metadata": {
    "execution": {
     "iopub.execute_input": "2025-07-23T12:57:35.178008Z",
     "iopub.status.busy": "2025-07-23T12:57:35.177685Z",
     "iopub.status.idle": "2025-07-23T12:57:35.345801Z",
     "shell.execute_reply": "2025-07-23T12:57:35.344891Z"
    },
    "papermill": {
     "duration": 0.180477,
     "end_time": "2025-07-23T12:57:35.347289",
     "exception": false,
     "start_time": "2025-07-23T12:57:35.166812",
     "status": "completed"
    },
    "tags": []
   },
   "outputs": [
    {
     "data": {
      "text/plain": [
       "array([0, 0, 0, ..., 0, 0, 0])"
      ]
     },
     "execution_count": 30,
     "metadata": {},
     "output_type": "execute_result"
    }
   ],
   "source": [
    "model.predict(X_test)"
   ]
  },
  {
   "cell_type": "markdown",
   "id": "56c9705b",
   "metadata": {
    "papermill": {
     "duration": 0.010183,
     "end_time": "2025-07-23T12:57:35.368495",
     "exception": false,
     "start_time": "2025-07-23T12:57:35.358312",
     "status": "completed"
    },
    "tags": []
   },
   "source": [
    "# Conformal Prediction"
   ]
  },
  {
   "cell_type": "code",
   "execution_count": 31,
   "id": "160ec6ff",
   "metadata": {
    "execution": {
     "iopub.execute_input": "2025-07-23T12:57:35.390656Z",
     "iopub.status.busy": "2025-07-23T12:57:35.389863Z",
     "iopub.status.idle": "2025-07-23T12:57:35.394940Z",
     "shell.execute_reply": "2025-07-23T12:57:35.394176Z"
    },
    "papermill": {
     "duration": 0.017636,
     "end_time": "2025-07-23T12:57:35.396285",
     "exception": false,
     "start_time": "2025-07-23T12:57:35.378649",
     "status": "completed"
    },
    "tags": []
   },
   "outputs": [],
   "source": [
    "# Miscoverage level for conformal prediction (10% allowed error rate => 90% target coverage)\n",
    "alpha = 0.1"
   ]
  },
  {
   "cell_type": "code",
   "execution_count": 32,
   "id": "eadf4555-3dd3-440e-8e35-f82a4ad9f855",
   "metadata": {
    "execution": {
     "iopub.execute_input": "2025-07-23T12:57:35.419125Z",
     "iopub.status.busy": "2025-07-23T12:57:35.418476Z",
     "iopub.status.idle": "2025-07-23T12:57:35.585991Z",
     "shell.execute_reply": "2025-07-23T12:57:35.585096Z"
    },
    "papermill": {
     "duration": 0.180515,
     "end_time": "2025-07-23T12:57:35.587735",
     "exception": false,
     "start_time": "2025-07-23T12:57:35.407220",
     "status": "completed"
    },
    "tags": []
   },
   "outputs": [],
   "source": [
    "probs_calib = model.predict_proba(X_calib)"
   ]
  },
  {
   "cell_type": "code",
   "execution_count": 33,
   "id": "2ed93547-6d5d-4983-9b36-1ecb300da49a",
   "metadata": {
    "execution": {
     "iopub.execute_input": "2025-07-23T12:57:35.610913Z",
     "iopub.status.busy": "2025-07-23T12:57:35.610114Z",
     "iopub.status.idle": "2025-07-23T12:57:35.615877Z",
     "shell.execute_reply": "2025-07-23T12:57:35.615137Z"
    },
    "papermill": {
     "duration": 0.018652,
     "end_time": "2025-07-23T12:57:35.617254",
     "exception": false,
     "start_time": "2025-07-23T12:57:35.598602",
     "status": "completed"
    },
    "tags": []
   },
   "outputs": [],
   "source": [
    "y_calib = y_calib.values.ravel().astype(int)"
   ]
  },
  {
   "cell_type": "code",
   "execution_count": 34,
   "id": "65d1320d-f588-4b38-9072-62af1ae97f7d",
   "metadata": {
    "execution": {
     "iopub.execute_input": "2025-07-23T12:57:35.641056Z",
     "iopub.status.busy": "2025-07-23T12:57:35.640508Z",
     "iopub.status.idle": "2025-07-23T12:57:35.647162Z",
     "shell.execute_reply": "2025-07-23T12:57:35.646451Z"
    },
    "papermill": {
     "duration": 0.019836,
     "end_time": "2025-07-23T12:57:35.648426",
     "exception": false,
     "start_time": "2025-07-23T12:57:35.628590",
     "status": "completed"
    },
    "tags": []
   },
   "outputs": [],
   "source": [
    "from fairness_multiverse.conformal import compute_nc_scores\n",
    "\n",
    "# Compute nonconformity scores on calibration set (1 - probability of true class)\n",
    "nc_scores = compute_nc_scores(probs_calib, y_calib)"
   ]
  },
  {
   "cell_type": "code",
   "execution_count": 35,
   "id": "df3b8ca3-53b7-43d5-9667-7c85da7aeda2",
   "metadata": {
    "execution": {
     "iopub.execute_input": "2025-07-23T12:57:35.673071Z",
     "iopub.status.busy": "2025-07-23T12:57:35.672123Z",
     "iopub.status.idle": "2025-07-23T12:57:35.678200Z",
     "shell.execute_reply": "2025-07-23T12:57:35.677483Z"
    },
    "papermill": {
     "duration": 0.019612,
     "end_time": "2025-07-23T12:57:35.679646",
     "exception": false,
     "start_time": "2025-07-23T12:57:35.660034",
     "status": "completed"
    },
    "tags": []
   },
   "outputs": [],
   "source": [
    "from fairness_multiverse.conformal import find_threshold\n",
    "\n",
    "# Find conformal threshold q_hat for the given alpha (split conformal method)\n",
    "q_hat = find_threshold(nc_scores, alpha)"
   ]
  },
  {
   "cell_type": "code",
   "execution_count": 36,
   "id": "4d29e6c1-0ef6-4aa4-b8fe-4fe79b0d033a",
   "metadata": {
    "execution": {
     "iopub.execute_input": "2025-07-23T12:57:35.704693Z",
     "iopub.status.busy": "2025-07-23T12:57:35.703897Z",
     "iopub.status.idle": "2025-07-23T12:57:35.711148Z",
     "shell.execute_reply": "2025-07-23T12:57:35.710208Z"
    },
    "papermill": {
     "duration": 0.023169,
     "end_time": "2025-07-23T12:57:35.714731",
     "exception": false,
     "start_time": "2025-07-23T12:57:35.691562",
     "status": "completed"
    },
    "tags": []
   },
   "outputs": [
    {
     "data": {
      "text/plain": [
       "0.6656339088615519"
      ]
     },
     "execution_count": 36,
     "metadata": {},
     "output_type": "execute_result"
    }
   ],
   "source": [
    "q_hat"
   ]
  },
  {
   "cell_type": "code",
   "execution_count": 37,
   "id": "92460794-cdac-4be2-ba28-f28c0515a6fb",
   "metadata": {
    "execution": {
     "iopub.execute_input": "2025-07-23T12:57:35.760576Z",
     "iopub.status.busy": "2025-07-23T12:57:35.759855Z",
     "iopub.status.idle": "2025-07-23T12:57:36.549455Z",
     "shell.execute_reply": "2025-07-23T12:57:36.548678Z"
    },
    "papermill": {
     "duration": 0.812786,
     "end_time": "2025-07-23T12:57:36.551269",
     "exception": false,
     "start_time": "2025-07-23T12:57:35.738483",
     "status": "completed"
    },
    "tags": []
   },
   "outputs": [],
   "source": [
    "from fairness_multiverse.conformal import predict_conformal_sets\n",
    "\n",
    "# Generate prediction sets for each test example\n",
    "pred_sets = predict_conformal_sets(model, X_test, q_hat)"
   ]
  },
  {
   "cell_type": "code",
   "execution_count": 38,
   "id": "d90c9a65-e6db-4f5d-80cd-e68fb7e46829",
   "metadata": {
    "execution": {
     "iopub.execute_input": "2025-07-23T12:57:36.599162Z",
     "iopub.status.busy": "2025-07-23T12:57:36.598444Z",
     "iopub.status.idle": "2025-07-23T12:57:36.603802Z",
     "shell.execute_reply": "2025-07-23T12:57:36.602924Z"
    },
    "papermill": {
     "duration": 0.018501,
     "end_time": "2025-07-23T12:57:36.605219",
     "exception": false,
     "start_time": "2025-07-23T12:57:36.586718",
     "status": "completed"
    },
    "tags": []
   },
   "outputs": [],
   "source": [
    "y_true = y_true.squeeze()"
   ]
  },
  {
   "cell_type": "code",
   "execution_count": 39,
   "id": "3a58a54a-1e68-46b9-927a-df01f18aebc8",
   "metadata": {
    "execution": {
     "iopub.execute_input": "2025-07-23T12:57:36.629177Z",
     "iopub.status.busy": "2025-07-23T12:57:36.628373Z",
     "iopub.status.idle": "2025-07-23T12:57:37.164720Z",
     "shell.execute_reply": "2025-07-23T12:57:37.163902Z"
    },
    "papermill": {
     "duration": 0.549878,
     "end_time": "2025-07-23T12:57:37.166296",
     "exception": false,
     "start_time": "2025-07-23T12:57:36.616418",
     "status": "completed"
    },
    "tags": []
   },
   "outputs": [],
   "source": [
    "from fairness_multiverse.conformal import evaluate_sets\n",
    "\n",
    "# Evaluate coverage and average set size on test data\n",
    "metrics = evaluate_sets(pred_sets, y_true)"
   ]
  },
  {
   "cell_type": "code",
   "execution_count": 40,
   "id": "5ce0a5cb-201f-45a0-ade5-94c7f0bd6095",
   "metadata": {
    "execution": {
     "iopub.execute_input": "2025-07-23T12:57:37.190220Z",
     "iopub.status.busy": "2025-07-23T12:57:37.189843Z",
     "iopub.status.idle": "2025-07-23T12:57:37.197195Z",
     "shell.execute_reply": "2025-07-23T12:57:37.196413Z"
    },
    "papermill": {
     "duration": 0.020867,
     "end_time": "2025-07-23T12:57:37.198580",
     "exception": false,
     "start_time": "2025-07-23T12:57:37.177713",
     "status": "completed"
    },
    "tags": []
   },
   "outputs": [
    {
     "data": {
      "text/plain": [
       "{'coverage': 0.9097425036227845, 'avg_size': 1.1269981050050162}"
      ]
     },
     "execution_count": 40,
     "metadata": {},
     "output_type": "execute_result"
    }
   ],
   "source": [
    "metrics"
   ]
  },
  {
   "cell_type": "code",
   "execution_count": 41,
   "id": "9b9a838d-31c9-430b-ae14-12baee460d17",
   "metadata": {
    "execution": {
     "iopub.execute_input": "2025-07-23T12:57:37.223899Z",
     "iopub.status.busy": "2025-07-23T12:57:37.223069Z",
     "iopub.status.idle": "2025-07-23T12:57:37.229073Z",
     "shell.execute_reply": "2025-07-23T12:57:37.228057Z"
    },
    "papermill": {
     "duration": 0.01971,
     "end_time": "2025-07-23T12:57:37.230502",
     "exception": false,
     "start_time": "2025-07-23T12:57:37.210792",
     "status": "completed"
    },
    "tags": []
   },
   "outputs": [],
   "source": [
    "example_universe = universe.copy()\n",
    "universe_model = example_universe.get(\"model\")\n",
    "universe_exclude_features = example_universe.get(\"exclude_features\")\n",
    "universe_exclude_subgroups = example_universe.get(\"exclude_subgroups\")\n",
    "universe_scale = example_universe.get(\"scale\")"
   ]
  },
  {
   "cell_type": "code",
   "execution_count": 42,
   "id": "f4b6a8ac-9dc0-4245-8a91-5b3b5999c4f9",
   "metadata": {
    "execution": {
     "iopub.execute_input": "2025-07-23T12:57:37.255019Z",
     "iopub.status.busy": "2025-07-23T12:57:37.254482Z",
     "iopub.status.idle": "2025-07-23T12:57:37.259898Z",
     "shell.execute_reply": "2025-07-23T12:57:37.259060Z"
    },
    "papermill": {
     "duration": 0.018928,
     "end_time": "2025-07-23T12:57:37.261320",
     "exception": false,
     "start_time": "2025-07-23T12:57:37.242392",
     "status": "completed"
    },
    "tags": []
   },
   "outputs": [],
   "source": [
    "cp_metrics_dict = {\n",
    "    \"universe_id\": [universe_id],\n",
    "    \"universe_model\": [universe_model],\n",
    "    \"universe_exclude_features\": [universe_exclude_features],\n",
    "    \"universe_exclude_subgroups\": [universe_exclude_subgroups],\n",
    "    \"universe_scale\": [universe_scale],\n",
    "    \"q_hat\": [q_hat],\n",
    "    \"coverage\": [metrics[\"coverage\"]],\n",
    "    \"avg_size\": [metrics[\"avg_size\"]],\n",
    "}"
   ]
  },
  {
   "cell_type": "code",
   "execution_count": 43,
   "id": "908acbb1-0371-4915-85ca-3fa520d2efe2",
   "metadata": {
    "execution": {
     "iopub.execute_input": "2025-07-23T12:57:37.286262Z",
     "iopub.status.busy": "2025-07-23T12:57:37.285514Z",
     "iopub.status.idle": "2025-07-23T12:57:37.292287Z",
     "shell.execute_reply": "2025-07-23T12:57:37.291550Z"
    },
    "papermill": {
     "duration": 0.020423,
     "end_time": "2025-07-23T12:57:37.293758",
     "exception": false,
     "start_time": "2025-07-23T12:57:37.273335",
     "status": "completed"
    },
    "tags": []
   },
   "outputs": [
    {
     "data": {
      "text/plain": [
       "{'universe_id': ['faf071549fe2da5d80f6703d540ac20a'],\n",
       " 'universe_model': ['elasticnet'],\n",
       " 'universe_exclude_features': ['age'],\n",
       " 'universe_exclude_subgroups': ['keep-all'],\n",
       " 'universe_scale': ['scale'],\n",
       " 'q_hat': [0.6656339088615519],\n",
       " 'coverage': [0.9097425036227845],\n",
       " 'avg_size': [1.1269981050050162]}"
      ]
     },
     "execution_count": 43,
     "metadata": {},
     "output_type": "execute_result"
    }
   ],
   "source": [
    "cp_metrics_dict"
   ]
  },
  {
   "cell_type": "code",
   "execution_count": 44,
   "id": "33007efc-14e9-4ec6-97ac-56a455c82265",
   "metadata": {
    "execution": {
     "iopub.execute_input": "2025-07-23T12:57:37.318995Z",
     "iopub.status.busy": "2025-07-23T12:57:37.318503Z",
     "iopub.status.idle": "2025-07-23T12:57:37.324360Z",
     "shell.execute_reply": "2025-07-23T12:57:37.323525Z"
    },
    "papermill": {
     "duration": 0.020309,
     "end_time": "2025-07-23T12:57:37.326345",
     "exception": false,
     "start_time": "2025-07-23T12:57:37.306036",
     "status": "completed"
    },
    "tags": []
   },
   "outputs": [],
   "source": [
    "cp_metrics_df = pd.DataFrame(cp_metrics_dict)"
   ]
  },
  {
   "cell_type": "code",
   "execution_count": 45,
   "id": "db12611b-57b2-4910-b9d0-355adfd6e7bf",
   "metadata": {
    "execution": {
     "iopub.execute_input": "2025-07-23T12:57:37.371638Z",
     "iopub.status.busy": "2025-07-23T12:57:37.370772Z",
     "iopub.status.idle": "2025-07-23T12:57:37.385478Z",
     "shell.execute_reply": "2025-07-23T12:57:37.384668Z"
    },
    "papermill": {
     "duration": 0.037303,
     "end_time": "2025-07-23T12:57:37.386880",
     "exception": false,
     "start_time": "2025-07-23T12:57:37.349577",
     "status": "completed"
    },
    "tags": []
   },
   "outputs": [
    {
     "data": {
      "text/html": [
       "<div>\n",
       "<style scoped>\n",
       "    .dataframe tbody tr th:only-of-type {\n",
       "        vertical-align: middle;\n",
       "    }\n",
       "\n",
       "    .dataframe tbody tr th {\n",
       "        vertical-align: top;\n",
       "    }\n",
       "\n",
       "    .dataframe thead th {\n",
       "        text-align: right;\n",
       "    }\n",
       "</style>\n",
       "<table border=\"1\" class=\"dataframe\">\n",
       "  <thead>\n",
       "    <tr style=\"text-align: right;\">\n",
       "      <th></th>\n",
       "      <th>universe_id</th>\n",
       "      <th>universe_model</th>\n",
       "      <th>universe_exclude_features</th>\n",
       "      <th>universe_exclude_subgroups</th>\n",
       "      <th>universe_scale</th>\n",
       "      <th>q_hat</th>\n",
       "      <th>coverage</th>\n",
       "      <th>avg_size</th>\n",
       "    </tr>\n",
       "  </thead>\n",
       "  <tbody>\n",
       "    <tr>\n",
       "      <th>0</th>\n",
       "      <td>faf071549fe2da5d80f6703d540ac20a</td>\n",
       "      <td>elasticnet</td>\n",
       "      <td>age</td>\n",
       "      <td>keep-all</td>\n",
       "      <td>scale</td>\n",
       "      <td>0.665634</td>\n",
       "      <td>0.909743</td>\n",
       "      <td>1.126998</td>\n",
       "    </tr>\n",
       "  </tbody>\n",
       "</table>\n",
       "</div>"
      ],
      "text/plain": [
       "                        universe_id universe_model universe_exclude_features  \\\n",
       "0  faf071549fe2da5d80f6703d540ac20a     elasticnet                       age   \n",
       "\n",
       "  universe_exclude_subgroups universe_scale     q_hat  coverage  avg_size  \n",
       "0                   keep-all          scale  0.665634  0.909743  1.126998  "
      ]
     },
     "execution_count": 45,
     "metadata": {},
     "output_type": "execute_result"
    }
   ],
   "source": [
    "cp_metrics_df"
   ]
  },
  {
   "cell_type": "code",
   "execution_count": 46,
   "id": "b7fbde55-a0a1-47e4-9af6-fe4a17fa8c61",
   "metadata": {
    "execution": {
     "iopub.execute_input": "2025-07-23T12:57:37.413330Z",
     "iopub.status.busy": "2025-07-23T12:57:37.412509Z",
     "iopub.status.idle": "2025-07-23T12:57:37.417314Z",
     "shell.execute_reply": "2025-07-23T12:57:37.416460Z"
    },
    "papermill": {
     "duration": 0.018974,
     "end_time": "2025-07-23T12:57:37.418705",
     "exception": false,
     "start_time": "2025-07-23T12:57:37.399731",
     "status": "completed"
    },
    "tags": []
   },
   "outputs": [],
   "source": [
    "# Conditional Coverage & looking at subgroups"
   ]
  },
  {
   "cell_type": "code",
   "execution_count": 47,
   "id": "027ae886-68dd-4141-96c7-805a5450e1ef",
   "metadata": {
    "execution": {
     "iopub.execute_input": "2025-07-23T12:57:37.444125Z",
     "iopub.status.busy": "2025-07-23T12:57:37.443409Z",
     "iopub.status.idle": "2025-07-23T12:57:37.697021Z",
     "shell.execute_reply": "2025-07-23T12:57:37.696037Z"
    },
    "papermill": {
     "duration": 0.267665,
     "end_time": "2025-07-23T12:57:37.698636",
     "exception": false,
     "start_time": "2025-07-23T12:57:37.430971",
     "status": "completed"
    },
    "tags": []
   },
   "outputs": [],
   "source": [
    "from fairness_multiverse.conformal import build_cp_groups\n",
    "\n",
    "cp_groups_df = build_cp_groups(pred_sets, y_true, X_test.index, org_test)\n",
    "#needs universe_id and setting"
   ]
  },
  {
   "cell_type": "code",
   "execution_count": 48,
   "id": "c3b92545-903e-4839-89af-0f057907d7d6",
   "metadata": {
    "execution": {
     "iopub.execute_input": "2025-07-23T12:57:37.728119Z",
     "iopub.status.busy": "2025-07-23T12:57:37.727299Z",
     "iopub.status.idle": "2025-07-23T12:57:39.366389Z",
     "shell.execute_reply": "2025-07-23T12:57:39.365598Z"
    },
    "papermill": {
     "duration": 1.653761,
     "end_time": "2025-07-23T12:57:39.368654",
     "exception": false,
     "start_time": "2025-07-23T12:57:37.714893",
     "status": "completed"
    },
    "tags": []
   },
   "outputs": [],
   "source": [
    "# Define covered = 1 if true_label is in the predicted set\n",
    "cp_groups_df['covered'] = cp_groups_df.apply(\n",
    "    lambda r: int(r['true_label'] in r['pred_set']),\n",
    "    axis=1\n",
    ")"
   ]
  },
  {
   "cell_type": "code",
   "execution_count": 49,
   "id": "338ff529-1a6b-4b87-a931-8e4788d52aad",
   "metadata": {
    "execution": {
     "iopub.execute_input": "2025-07-23T12:57:39.430461Z",
     "iopub.status.busy": "2025-07-23T12:57:39.429809Z",
     "iopub.status.idle": "2025-07-23T12:57:39.436867Z",
     "shell.execute_reply": "2025-07-23T12:57:39.435547Z"
    },
    "papermill": {
     "duration": 0.03208,
     "end_time": "2025-07-23T12:57:39.438745",
     "exception": false,
     "start_time": "2025-07-23T12:57:39.406665",
     "status": "completed"
    },
    "tags": []
   },
   "outputs": [],
   "source": [
    "#cp_groups_df"
   ]
  },
  {
   "cell_type": "code",
   "execution_count": 50,
   "id": "90032e27-66df-4540-9169-4e89cfbaa758",
   "metadata": {
    "execution": {
     "iopub.execute_input": "2025-07-23T12:57:39.484390Z",
     "iopub.status.busy": "2025-07-23T12:57:39.483873Z",
     "iopub.status.idle": "2025-07-23T12:57:39.497243Z",
     "shell.execute_reply": "2025-07-23T12:57:39.496081Z"
    },
    "papermill": {
     "duration": 0.038534,
     "end_time": "2025-07-23T12:57:39.499378",
     "exception": false,
     "start_time": "2025-07-23T12:57:39.460844",
     "status": "completed"
    },
    "tags": []
   },
   "outputs": [],
   "source": [
    "subgroups = ['frau1','nongerman','nongerman_male','nongerman_female']\n",
    "\n",
    "# Conditional coverage for subgroup==1\n",
    "cond_coverage = {\n",
    "    g: cp_groups_df.loc[cp_groups_df[g]==1, 'covered'].mean()\n",
    "    for g in subgroups\n",
    "}"
   ]
  },
  {
   "cell_type": "code",
   "execution_count": 51,
   "id": "1e348fb1-b9c3-45bc-ba23-f016827a7e0d",
   "metadata": {
    "execution": {
     "iopub.execute_input": "2025-07-23T12:57:39.546032Z",
     "iopub.status.busy": "2025-07-23T12:57:39.545450Z",
     "iopub.status.idle": "2025-07-23T12:57:39.555997Z",
     "shell.execute_reply": "2025-07-23T12:57:39.552618Z"
    },
    "papermill": {
     "duration": 0.0369,
     "end_time": "2025-07-23T12:57:39.558101",
     "exception": false,
     "start_time": "2025-07-23T12:57:39.521201",
     "status": "completed"
    },
    "tags": []
   },
   "outputs": [
    {
     "data": {
      "text/plain": [
       "{'frau1': 0.9076964550478501,\n",
       " 'nongerman': 0.9081569640150452,\n",
       " 'nongerman_male': 0.9250652976672972,\n",
       " 'nongerman_female': 0.8801788375558868}"
      ]
     },
     "execution_count": 51,
     "metadata": {},
     "output_type": "execute_result"
    }
   ],
   "source": [
    "cond_coverage"
   ]
  },
  {
   "cell_type": "code",
   "execution_count": 52,
   "id": "f5093324-c3dd-4d63-bc4c-8d945e5c8bbb",
   "metadata": {
    "execution": {
     "iopub.execute_input": "2025-07-23T12:57:39.602903Z",
     "iopub.status.busy": "2025-07-23T12:57:39.602360Z",
     "iopub.status.idle": "2025-07-23T12:57:39.610875Z",
     "shell.execute_reply": "2025-07-23T12:57:39.609726Z"
    },
    "papermill": {
     "duration": 0.032638,
     "end_time": "2025-07-23T12:57:39.612757",
     "exception": false,
     "start_time": "2025-07-23T12:57:39.580119",
     "status": "completed"
    },
    "tags": []
   },
   "outputs": [],
   "source": [
    "for subgroup, cov in cond_coverage.items():\n",
    "    cp_metrics_df[f\"cov_{subgroup}\"] = cov"
   ]
  },
  {
   "cell_type": "code",
   "execution_count": 53,
   "id": "6e872e10-dbe5-49e8-b554-5030c98ff75d",
   "metadata": {
    "execution": {
     "iopub.execute_input": "2025-07-23T12:57:39.663720Z",
     "iopub.status.busy": "2025-07-23T12:57:39.663313Z",
     "iopub.status.idle": "2025-07-23T12:57:39.683022Z",
     "shell.execute_reply": "2025-07-23T12:57:39.681466Z"
    },
    "papermill": {
     "duration": 0.047283,
     "end_time": "2025-07-23T12:57:39.685214",
     "exception": false,
     "start_time": "2025-07-23T12:57:39.637931",
     "status": "completed"
    },
    "tags": []
   },
   "outputs": [
    {
     "data": {
      "text/html": [
       "<div>\n",
       "<style scoped>\n",
       "    .dataframe tbody tr th:only-of-type {\n",
       "        vertical-align: middle;\n",
       "    }\n",
       "\n",
       "    .dataframe tbody tr th {\n",
       "        vertical-align: top;\n",
       "    }\n",
       "\n",
       "    .dataframe thead th {\n",
       "        text-align: right;\n",
       "    }\n",
       "</style>\n",
       "<table border=\"1\" class=\"dataframe\">\n",
       "  <thead>\n",
       "    <tr style=\"text-align: right;\">\n",
       "      <th></th>\n",
       "      <th>universe_id</th>\n",
       "      <th>universe_model</th>\n",
       "      <th>universe_exclude_features</th>\n",
       "      <th>universe_exclude_subgroups</th>\n",
       "      <th>universe_scale</th>\n",
       "      <th>q_hat</th>\n",
       "      <th>coverage</th>\n",
       "      <th>avg_size</th>\n",
       "      <th>cov_frau1</th>\n",
       "      <th>cov_nongerman</th>\n",
       "      <th>cov_nongerman_male</th>\n",
       "      <th>cov_nongerman_female</th>\n",
       "    </tr>\n",
       "  </thead>\n",
       "  <tbody>\n",
       "    <tr>\n",
       "      <th>0</th>\n",
       "      <td>faf071549fe2da5d80f6703d540ac20a</td>\n",
       "      <td>elasticnet</td>\n",
       "      <td>age</td>\n",
       "      <td>keep-all</td>\n",
       "      <td>scale</td>\n",
       "      <td>0.665634</td>\n",
       "      <td>0.909743</td>\n",
       "      <td>1.126998</td>\n",
       "      <td>0.907696</td>\n",
       "      <td>0.908157</td>\n",
       "      <td>0.925065</td>\n",
       "      <td>0.880179</td>\n",
       "    </tr>\n",
       "  </tbody>\n",
       "</table>\n",
       "</div>"
      ],
      "text/plain": [
       "                        universe_id universe_model universe_exclude_features  \\\n",
       "0  faf071549fe2da5d80f6703d540ac20a     elasticnet                       age   \n",
       "\n",
       "  universe_exclude_subgroups universe_scale     q_hat  coverage  avg_size  \\\n",
       "0                   keep-all          scale  0.665634  0.909743  1.126998   \n",
       "\n",
       "   cov_frau1  cov_nongerman  cov_nongerman_male  cov_nongerman_female  \n",
       "0   0.907696       0.908157            0.925065              0.880179  "
      ]
     },
     "execution_count": 53,
     "metadata": {},
     "output_type": "execute_result"
    }
   ],
   "source": [
    "cp_metrics_df"
   ]
  },
  {
   "cell_type": "markdown",
   "id": "33774451",
   "metadata": {
    "papermill": {
     "duration": 0.012426,
     "end_time": "2025-07-23T12:57:39.710750",
     "exception": false,
     "start_time": "2025-07-23T12:57:39.698324",
     "status": "completed"
    },
    "tags": []
   },
   "source": [
    "# (Fairness) Metrics"
   ]
  },
  {
   "cell_type": "code",
   "execution_count": 54,
   "id": "debc5d62",
   "metadata": {
    "execution": {
     "iopub.execute_input": "2025-07-23T12:57:39.764863Z",
     "iopub.status.busy": "2025-07-23T12:57:39.764434Z",
     "iopub.status.idle": "2025-07-23T12:57:39.788367Z",
     "shell.execute_reply": "2025-07-23T12:57:39.787253Z"
    },
    "papermill": {
     "duration": 0.056202,
     "end_time": "2025-07-23T12:57:39.790750",
     "exception": false,
     "start_time": "2025-07-23T12:57:39.734548",
     "status": "completed"
    },
    "tags": []
   },
   "outputs": [],
   "source": [
    "# do I need to include maxdeutsch1.missing?\n",
    "\n",
    "import numpy as np\n",
    "\n",
    "colname_to_bin = \"maxdeutsch1\"\n",
    "majority_value = org_train[colname_to_bin].mode()[0]\n",
    "\n",
    "org_test[\"majmin\"] = np.where(org_test[colname_to_bin] == majority_value, \"majority\", \"minority\")"
   ]
  },
  {
   "cell_type": "code",
   "execution_count": 55,
   "id": "06a50de5",
   "metadata": {
    "execution": {
     "iopub.execute_input": "2025-07-23T12:57:39.844679Z",
     "iopub.status.busy": "2025-07-23T12:57:39.844103Z",
     "iopub.status.idle": "2025-07-23T12:57:42.649701Z",
     "shell.execute_reply": "2025-07-23T12:57:42.648627Z"
    },
    "papermill": {
     "duration": 2.8338,
     "end_time": "2025-07-23T12:57:42.651836",
     "exception": false,
     "start_time": "2025-07-23T12:57:39.818036",
     "status": "completed"
    },
    "tags": []
   },
   "outputs": [],
   "source": [
    "example_universe = universe.copy()\n",
    "example_universe[\"cutoff\"] = example_universe[\"cutoff\"][0]\n",
    "example_universe[\"eval_fairness_grouping\"] = example_universe[\"eval_fairness_grouping\"][0]\n",
    "fairness_dict, metric_frame = universe_analysis.compute_metrics(\n",
    "    example_universe,\n",
    "    y_pred_prob=probs_test,\n",
    "    y_test=y_true,\n",
    "    org_test=org_test,\n",
    ")"
   ]
  },
  {
   "cell_type": "markdown",
   "id": "f95d4e02",
   "metadata": {
    "papermill": {
     "duration": 0.025947,
     "end_time": "2025-07-23T12:57:42.703976",
     "exception": false,
     "start_time": "2025-07-23T12:57:42.678029",
     "status": "completed"
    },
    "tags": []
   },
   "source": [
    "# Overall"
   ]
  },
  {
   "cell_type": "markdown",
   "id": "bdee4871",
   "metadata": {
    "papermill": {
     "duration": 0.024403,
     "end_time": "2025-07-23T12:57:42.753325",
     "exception": false,
     "start_time": "2025-07-23T12:57:42.728922",
     "status": "completed"
    },
    "tags": []
   },
   "source": [
    "Fairness\n",
    "Main fairness target: Equalized Odds. Seems to be a better fit than equal opportunity, since we're not only interested in Y = 1. Seems to be a better fit than demographic parity, since we also care about accuracy, not just equal distribution of preds.\n",
    "\n",
    "Pick column for computation of fairness metrics\n",
    "\n",
    "Performance\n",
    "Overall performance measures, most interesting in relation to the measures split by group below"
   ]
  },
  {
   "cell_type": "code",
   "execution_count": 56,
   "id": "c4e067c6",
   "metadata": {
    "execution": {
     "iopub.execute_input": "2025-07-23T12:57:42.808000Z",
     "iopub.status.busy": "2025-07-23T12:57:42.807030Z",
     "iopub.status.idle": "2025-07-23T12:57:42.816641Z",
     "shell.execute_reply": "2025-07-23T12:57:42.815499Z"
    },
    "papermill": {
     "duration": 0.038743,
     "end_time": "2025-07-23T12:57:42.818350",
     "exception": false,
     "start_time": "2025-07-23T12:57:42.779607",
     "status": "completed"
    },
    "tags": []
   },
   "outputs": [
    {
     "data": {
      "text/plain": [
       "accuracy                   0.225159\n",
       "balanced accuracy          0.550380\n",
       "f1                         0.246469\n",
       "precision                  0.140799\n",
       "false positive rate        0.887074\n",
       "false negative rate        0.012165\n",
       "selection rate             0.900000\n",
       "count                  89710.000000\n",
       "dtype: float64"
      ]
     },
     "execution_count": 56,
     "metadata": {},
     "output_type": "execute_result"
    }
   ],
   "source": [
    "metric_frame.overall"
   ]
  },
  {
   "cell_type": "markdown",
   "id": "e968fe9d",
   "metadata": {
    "papermill": {
     "duration": 0.022115,
     "end_time": "2025-07-23T12:57:42.863625",
     "exception": false,
     "start_time": "2025-07-23T12:57:42.841510",
     "status": "completed"
    },
    "tags": []
   },
   "source": [
    "By Group"
   ]
  },
  {
   "cell_type": "code",
   "execution_count": 57,
   "id": "ec325bce",
   "metadata": {
    "execution": {
     "iopub.execute_input": "2025-07-23T12:57:42.910721Z",
     "iopub.status.busy": "2025-07-23T12:57:42.909779Z",
     "iopub.status.idle": "2025-07-23T12:57:42.926871Z",
     "shell.execute_reply": "2025-07-23T12:57:42.925898Z"
    },
    "papermill": {
     "duration": 0.043103,
     "end_time": "2025-07-23T12:57:42.928700",
     "exception": false,
     "start_time": "2025-07-23T12:57:42.885597",
     "status": "completed"
    },
    "tags": []
   },
   "outputs": [
    {
     "data": {
      "text/html": [
       "<div>\n",
       "<style scoped>\n",
       "    .dataframe tbody tr th:only-of-type {\n",
       "        vertical-align: middle;\n",
       "    }\n",
       "\n",
       "    .dataframe tbody tr th {\n",
       "        vertical-align: top;\n",
       "    }\n",
       "\n",
       "    .dataframe thead th {\n",
       "        text-align: right;\n",
       "    }\n",
       "</style>\n",
       "<table border=\"1\" class=\"dataframe\">\n",
       "  <thead>\n",
       "    <tr style=\"text-align: right;\">\n",
       "      <th></th>\n",
       "      <th>accuracy</th>\n",
       "      <th>balanced accuracy</th>\n",
       "      <th>f1</th>\n",
       "      <th>precision</th>\n",
       "      <th>false positive rate</th>\n",
       "      <th>false negative rate</th>\n",
       "      <th>selection rate</th>\n",
       "      <th>count</th>\n",
       "    </tr>\n",
       "    <tr>\n",
       "      <th>majmin</th>\n",
       "      <th></th>\n",
       "      <th></th>\n",
       "      <th></th>\n",
       "      <th></th>\n",
       "      <th></th>\n",
       "      <th></th>\n",
       "      <th></th>\n",
       "      <th></th>\n",
       "    </tr>\n",
       "  </thead>\n",
       "  <tbody>\n",
       "    <tr>\n",
       "      <th>majority</th>\n",
       "      <td>0.248287</td>\n",
       "      <td>0.561305</td>\n",
       "      <td>0.257561</td>\n",
       "      <td>0.148110</td>\n",
       "      <td>0.864151</td>\n",
       "      <td>0.013239</td>\n",
       "      <td>0.880353</td>\n",
       "      <td>69170.0</td>\n",
       "    </tr>\n",
       "    <tr>\n",
       "      <th>minority</th>\n",
       "      <td>0.147274</td>\n",
       "      <td>0.514588</td>\n",
       "      <td>0.211498</td>\n",
       "      <td>0.118367</td>\n",
       "      <td>0.962800</td>\n",
       "      <td>0.008024</td>\n",
       "      <td>0.966164</td>\n",
       "      <td>20540.0</td>\n",
       "    </tr>\n",
       "  </tbody>\n",
       "</table>\n",
       "</div>"
      ],
      "text/plain": [
       "          accuracy  balanced accuracy        f1  precision  \\\n",
       "majmin                                                       \n",
       "majority  0.248287           0.561305  0.257561   0.148110   \n",
       "minority  0.147274           0.514588  0.211498   0.118367   \n",
       "\n",
       "          false positive rate  false negative rate  selection rate    count  \n",
       "majmin                                                                       \n",
       "majority             0.864151             0.013239        0.880353  69170.0  \n",
       "minority             0.962800             0.008024        0.966164  20540.0  "
      ]
     },
     "execution_count": 57,
     "metadata": {},
     "output_type": "execute_result"
    }
   ],
   "source": [
    "metric_frame.by_group"
   ]
  },
  {
   "cell_type": "code",
   "execution_count": 58,
   "id": "a9ddbe63",
   "metadata": {
    "execution": {
     "iopub.execute_input": "2025-07-23T12:57:43.052984Z",
     "iopub.status.busy": "2025-07-23T12:57:43.052243Z",
     "iopub.status.idle": "2025-07-23T12:57:45.515667Z",
     "shell.execute_reply": "2025-07-23T12:57:45.514657Z"
    },
    "papermill": {
     "duration": 2.49303,
     "end_time": "2025-07-23T12:57:45.517565",
     "exception": false,
     "start_time": "2025-07-23T12:57:43.024535",
     "status": "completed"
    },
    "tags": []
   },
   "outputs": [
    {
     "data": {
      "text/plain": [
       "array([[<Axes: title={'center': 'accuracy'}, xlabel='majmin'>,\n",
       "        <Axes: title={'center': 'balanced accuracy'}, xlabel='majmin'>,\n",
       "        <Axes: title={'center': 'f1'}, xlabel='majmin'>],\n",
       "       [<Axes: title={'center': 'precision'}, xlabel='majmin'>,\n",
       "        <Axes: title={'center': 'false positive rate'}, xlabel='majmin'>,\n",
       "        <Axes: title={'center': 'false negative rate'}, xlabel='majmin'>],\n",
       "       [<Axes: title={'center': 'selection rate'}, xlabel='majmin'>,\n",
       "        <Axes: title={'center': 'count'}, xlabel='majmin'>,\n",
       "        <Axes: xlabel='majmin'>]], dtype=object)"
      ]
     },
     "execution_count": 58,
     "metadata": {},
     "output_type": "execute_result"
    },
    {
     "data": {
      "image/png": "[encoded data removed]",
      "text/plain": [
       "<Figure size 1200x800 with 9 Axes>"
      ]
     },
     "metadata": {},
     "output_type": "display_data"
    }
   ],
   "source": [
    "# In a graphic\n",
    "metric_frame.by_group.plot.bar(\n",
    "    subplots=True,\n",
    "    layout=[3, 3],\n",
    "    legend=False,\n",
    "    figsize=[12, 8],\n",
    "    title=\"Show all metrics\",\n",
    ")"
   ]
  },
  {
   "cell_type": "markdown",
   "id": "f57a0bac",
   "metadata": {
    "papermill": {
     "duration": 0.024973,
     "end_time": "2025-07-23T12:57:45.569501",
     "exception": false,
     "start_time": "2025-07-23T12:57:45.544528",
     "status": "completed"
    },
    "tags": []
   },
   "source": [
    "# Final Output"
   ]
  },
  {
   "cell_type": "code",
   "execution_count": 59,
   "id": "96d280a3",
   "metadata": {
    "execution": {
     "iopub.execute_input": "2025-07-23T12:57:45.621837Z",
     "iopub.status.busy": "2025-07-23T12:57:45.620713Z",
     "iopub.status.idle": "2025-07-23T12:57:45.629734Z",
     "shell.execute_reply": "2025-07-23T12:57:45.628738Z"
    },
    "papermill": {
     "duration": 0.036471,
     "end_time": "2025-07-23T12:57:45.631469",
     "exception": false,
     "start_time": "2025-07-23T12:57:45.594998",
     "status": "completed"
    },
    "tags": []
   },
   "outputs": [
    {
     "data": {
      "text/plain": [
       "4"
      ]
     },
     "execution_count": 59,
     "metadata": {},
     "output_type": "execute_result"
    }
   ],
   "source": [
    "sub_universes = universe_analysis.generate_sub_universes()\n",
    "len(sub_universes)"
   ]
  },
  {
   "cell_type": "code",
   "execution_count": 60,
   "id": "92adf7ba",
   "metadata": {
    "execution": {
     "iopub.execute_input": "2025-07-23T12:57:45.683348Z",
     "iopub.status.busy": "2025-07-23T12:57:45.682656Z",
     "iopub.status.idle": "2025-07-23T12:57:45.689427Z",
     "shell.execute_reply": "2025-07-23T12:57:45.688426Z"
    },
    "papermill": {
     "duration": 0.034435,
     "end_time": "2025-07-23T12:57:45.691061",
     "exception": false,
     "start_time": "2025-07-23T12:57:45.656626",
     "status": "completed"
    },
    "tags": []
   },
   "outputs": [],
   "source": [
    "def filter_sub_universe_data(sub_universe, org_test):\n",
    "    # Keep all rows — no filtering\n",
    "    keep_rows_mask = np.ones(org_test.shape[0], dtype=bool)\n",
    "\n",
    "    print(f\"[INFO] Keeping all rows: {keep_rows_mask.sum()} rows retained.\")\n",
    "    return keep_rows_mask"
   ]
  },
  {
   "cell_type": "code",
   "execution_count": 61,
   "id": "4a759155",
   "metadata": {
    "execution": {
     "iopub.execute_input": "2025-07-23T12:57:45.743305Z",
     "iopub.status.busy": "2025-07-23T12:57:45.742450Z",
     "iopub.status.idle": "2025-07-23T12:57:55.532914Z",
     "shell.execute_reply": "2025-07-23T12:57:55.532053Z"
    },
    "papermill": {
     "duration": 9.818261,
     "end_time": "2025-07-23T12:57:55.534357",
     "exception": false,
     "start_time": "2025-07-23T12:57:45.716096",
     "status": "completed"
    },
    "tags": []
   },
   "outputs": [
    {
     "name": "stdout",
     "output_type": "stream",
     "text": [
      "Stopping execution_time clock.\n",
      "[INFO] Keeping all rows: 89710 rows retained.\n"
     ]
    },
    {
     "name": "stdout",
     "output_type": "stream",
     "text": [
      "[INFO] Keeping all rows: 89710 rows retained.\n"
     ]
    },
    {
     "name": "stdout",
     "output_type": "stream",
     "text": [
      "[INFO] Keeping all rows: 89710 rows retained.\n"
     ]
    },
    {
     "name": "stdout",
     "output_type": "stream",
     "text": [
      "[INFO] Keeping all rows: 89710 rows retained.\n"
     ]
    },
    {
     "data": {
      "text/html": [
       "<div>\n",
       "<style scoped>\n",
       "    .dataframe tbody tr th:only-of-type {\n",
       "        vertical-align: middle;\n",
       "    }\n",
       "\n",
       "    .dataframe tbody tr th {\n",
       "        vertical-align: top;\n",
       "    }\n",
       "\n",
       "    .dataframe thead th {\n",
       "        text-align: right;\n",
       "    }\n",
       "</style>\n",
       "<table border=\"1\" class=\"dataframe\">\n",
       "  <thead>\n",
       "    <tr style=\"text-align: right;\">\n",
       "      <th></th>\n",
       "      <th>run_no</th>\n",
       "      <th>universe_id</th>\n",
       "      <th>universe_settings</th>\n",
       "      <th>execution_time</th>\n",
       "      <th>test_size_n</th>\n",
       "      <th>test_size_frac</th>\n",
       "      <th>fair_main_equalized_odds_difference</th>\n",
       "      <th>fair_main_equalized_odds_ratio</th>\n",
       "      <th>fair_main_demographic_parity_difference</th>\n",
       "      <th>fair_main_demographic_parity_ratio</th>\n",
       "      <th>...</th>\n",
       "      <th>perf_grp_precision_0</th>\n",
       "      <th>perf_grp_precision_1</th>\n",
       "      <th>perf_grp_false positive rate_0</th>\n",
       "      <th>perf_grp_false positive rate_1</th>\n",
       "      <th>perf_grp_false negative rate_0</th>\n",
       "      <th>perf_grp_false negative rate_1</th>\n",
       "      <th>perf_grp_selection rate_0</th>\n",
       "      <th>perf_grp_selection rate_1</th>\n",
       "      <th>perf_grp_count_0</th>\n",
       "      <th>perf_grp_count_1</th>\n",
       "    </tr>\n",
       "  </thead>\n",
       "  <tbody>\n",
       "    <tr>\n",
       "      <th>0</th>\n",
       "      <td>6</td>\n",
       "      <td>faf071549fe2da5d80f6703d540ac20a</td>\n",
       "      <td>{\"cutoff\": \"quantile_0.1\", \"eval_fairness_grou...</td>\n",
       "      <td>37.142047</td>\n",
       "      <td>89710</td>\n",
       "      <td>1.0</td>\n",
       "      <td>0.098649</td>\n",
       "      <td>0.897540</td>\n",
       "      <td>0.085811</td>\n",
       "      <td>0.911184</td>\n",
       "      <td>...</td>\n",
       "      <td>NaN</td>\n",
       "      <td>NaN</td>\n",
       "      <td>NaN</td>\n",
       "      <td>NaN</td>\n",
       "      <td>NaN</td>\n",
       "      <td>NaN</td>\n",
       "      <td>NaN</td>\n",
       "      <td>NaN</td>\n",
       "      <td>NaN</td>\n",
       "      <td>NaN</td>\n",
       "    </tr>\n",
       "    <tr>\n",
       "      <th>0</th>\n",
       "      <td>6</td>\n",
       "      <td>faf071549fe2da5d80f6703d540ac20a</td>\n",
       "      <td>{\"cutoff\": \"quantile_0.1\", \"eval_fairness_grou...</td>\n",
       "      <td>37.142047</td>\n",
       "      <td>89710</td>\n",
       "      <td>1.0</td>\n",
       "      <td>0.098649</td>\n",
       "      <td>0.897540</td>\n",
       "      <td>0.085811</td>\n",
       "      <td>0.911184</td>\n",
       "      <td>...</td>\n",
       "      <td>0.118367</td>\n",
       "      <td>0.14811</td>\n",
       "      <td>0.962800</td>\n",
       "      <td>0.864151</td>\n",
       "      <td>0.008024</td>\n",
       "      <td>0.013239</td>\n",
       "      <td>0.966164</td>\n",
       "      <td>0.880353</td>\n",
       "      <td>20540.0</td>\n",
       "      <td>69170.0</td>\n",
       "    </tr>\n",
       "    <tr>\n",
       "      <th>0</th>\n",
       "      <td>6</td>\n",
       "      <td>faf071549fe2da5d80f6703d540ac20a</td>\n",
       "      <td>{\"cutoff\": \"quantile_0.25\", \"eval_fairness_gro...</td>\n",
       "      <td>37.142047</td>\n",
       "      <td>89710</td>\n",
       "      <td>1.0</td>\n",
       "      <td>0.188419</td>\n",
       "      <td>0.782274</td>\n",
       "      <td>0.165251</td>\n",
       "      <td>0.811660</td>\n",
       "      <td>...</td>\n",
       "      <td>NaN</td>\n",
       "      <td>NaN</td>\n",
       "      <td>NaN</td>\n",
       "      <td>NaN</td>\n",
       "      <td>NaN</td>\n",
       "      <td>NaN</td>\n",
       "      <td>NaN</td>\n",
       "      <td>NaN</td>\n",
       "      <td>NaN</td>\n",
       "      <td>NaN</td>\n",
       "    </tr>\n",
       "    <tr>\n",
       "      <th>0</th>\n",
       "      <td>6</td>\n",
       "      <td>faf071549fe2da5d80f6703d540ac20a</td>\n",
       "      <td>{\"cutoff\": \"quantile_0.25\", \"eval_fairness_gro...</td>\n",
       "      <td>37.142047</td>\n",
       "      <td>89710</td>\n",
       "      <td>1.0</td>\n",
       "      <td>0.188419</td>\n",
       "      <td>0.782274</td>\n",
       "      <td>0.165251</td>\n",
       "      <td>0.811660</td>\n",
       "      <td>...</td>\n",
       "      <td>0.127400</td>\n",
       "      <td>0.17501</td>\n",
       "      <td>0.865397</td>\n",
       "      <td>0.676978</td>\n",
       "      <td>0.030405</td>\n",
       "      <td>0.056783</td>\n",
       "      <td>0.877410</td>\n",
       "      <td>0.712158</td>\n",
       "      <td>20540.0</td>\n",
       "      <td>69170.0</td>\n",
       "    </tr>\n",
       "  </tbody>\n",
       "</table>\n",
       "<p>4 rows × 50 columns</p>\n",
       "</div>"
      ],
      "text/plain": [
       "  run_no                       universe_id  \\\n",
       "0      6  faf071549fe2da5d80f6703d540ac20a   \n",
       "0      6  faf071549fe2da5d80f6703d540ac20a   \n",
       "0      6  faf071549fe2da5d80f6703d540ac20a   \n",
       "0      6  faf071549fe2da5d80f6703d540ac20a   \n",
       "\n",
       "                                   universe_settings  execution_time  \\\n",
       "0  {\"cutoff\": \"quantile_0.1\", \"eval_fairness_grou...       37.142047   \n",
       "0  {\"cutoff\": \"quantile_0.1\", \"eval_fairness_grou...       37.142047   \n",
       "0  {\"cutoff\": \"quantile_0.25\", \"eval_fairness_gro...       37.142047   \n",
       "0  {\"cutoff\": \"quantile_0.25\", \"eval_fairness_gro...       37.142047   \n",
       "\n",
       "   test_size_n  test_size_frac  fair_main_equalized_odds_difference  \\\n",
       "0        89710             1.0                             0.098649   \n",
       "0        89710             1.0                             0.098649   \n",
       "0        89710             1.0                             0.188419   \n",
       "0        89710             1.0                             0.188419   \n",
       "\n",
       "   fair_main_equalized_odds_ratio  fair_main_demographic_parity_difference  \\\n",
       "0                        0.897540                                 0.085811   \n",
       "0                        0.897540                                 0.085811   \n",
       "0                        0.782274                                 0.165251   \n",
       "0                        0.782274                                 0.165251   \n",
       "\n",
       "   fair_main_demographic_parity_ratio  ...  perf_grp_precision_0  \\\n",
       "0                            0.911184  ...                   NaN   \n",
       "0                            0.911184  ...              0.118367   \n",
       "0                            0.811660  ...                   NaN   \n",
       "0                            0.811660  ...              0.127400   \n",
       "\n",
       "   perf_grp_precision_1  perf_grp_false positive rate_0  \\\n",
       "0                   NaN                             NaN   \n",
       "0               0.14811                        0.962800   \n",
       "0                   NaN                             NaN   \n",
       "0               0.17501                        0.865397   \n",
       "\n",
       "   perf_grp_false positive rate_1  perf_grp_false negative rate_0  \\\n",
       "0                             NaN                             NaN   \n",
       "0                        0.864151                        0.008024   \n",
       "0                             NaN                             NaN   \n",
       "0                        0.676978                        0.030405   \n",
       "\n",
       "   perf_grp_false negative rate_1  perf_grp_selection rate_0  \\\n",
       "0                             NaN                        NaN   \n",
       "0                        0.013239                   0.966164   \n",
       "0                             NaN                        NaN   \n",
       "0                        0.056783                   0.877410   \n",
       "\n",
       "   perf_grp_selection rate_1  perf_grp_count_0  perf_grp_count_1  \n",
       "0                        NaN               NaN               NaN  \n",
       "0                   0.880353           20540.0           69170.0  \n",
       "0                        NaN               NaN               NaN  \n",
       "0                   0.712158           20540.0           69170.0  \n",
       "\n",
       "[4 rows x 50 columns]"
      ]
     },
     "execution_count": 61,
     "metadata": {},
     "output_type": "execute_result"
    }
   ],
   "source": [
    "final_output = universe_analysis.generate_final_output(\n",
    "    y_pred_prob=probs_test,\n",
    "    y_test=y_true,\n",
    "    org_test=org_test,\n",
    "    filter_data=filter_sub_universe_data,\n",
    "    cp_metrics_df=cp_metrics_df,\n",
    "    save=True,\n",
    ")\n",
    "final_output"
   ]
  },
  {
   "cell_type": "code",
   "execution_count": null,
   "id": "721ff514-cb11-46f8-b6fc-50392f74b5cb",
   "metadata": {
    "papermill": {
     "duration": 0.014202,
     "end_time": "2025-07-23T12:57:55.565814",
     "exception": false,
     "start_time": "2025-07-23T12:57:55.551612",
     "status": "completed"
    },
    "tags": []
   },
   "outputs": [],
   "source": []
  }
 ],
 "metadata": {
  "celltoolbar": "Tags",
  "kernelspec": {
   "display_name": "Python (CMA Fairness)",
   "language": "python",
   "name": "cma_fair_env"
  },
  "language_info": {
   "codemirror_mode": {
    "name": "ipython",
    "version": 3
   },
   "file_extension": ".py",
   "mimetype": "text/x-python",
   "name": "python",
   "nbconvert_exporter": "python",
   "pygments_lexer": "ipython3",
   "version": "3.10.12"
  },
  "papermill": {
   "default_parameters": {},
   "duration": 51.38098,
   "end_time": "2025-07-23T12:57:56.302134",
   "environment_variables": {},
   "exception": null,
   "input_path": "universe_analysis.ipynb",
   "output_path": "output/runs/6/notebooks/m_6-faf071549fe2da5d80f6703d540ac20a.ipynb",
   "parameters": {
    "output_dir": "output",
    "run_no": "6",
    "seed": "2023",
    "universe": "{\"cutoff\": [\"quantile_0.1\", \"quantile_0.25\"], \"eval_fairness_grouping\": [\"majority-minority\", \"nationality-all\"], \"exclude_features\": \"age\", \"exclude_subgroups\": \"keep-all\", \"model\": \"elasticnet\", \"scale\": \"scale\"}",
    "universe_id": "faf071549fe2da5d80f6703d540ac20a"
   },
   "start_time": "2025-07-23T12:57:04.921154",
   "version": "2.6.0"
  }
 },
 "nbformat": 4,
 "nbformat_minor": 5
}