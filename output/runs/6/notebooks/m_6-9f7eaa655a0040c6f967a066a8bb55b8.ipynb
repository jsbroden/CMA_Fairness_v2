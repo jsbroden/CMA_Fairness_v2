{
 "cells": [
  {
   "cell_type": "code",
   "execution_count": 1,
   "id": "f159f837-637b-42ba-96b5-ec9a68c44524",
   "metadata": {
    "execution": {
     "iopub.execute_input": "2025-07-23T13:00:09.091157Z",
     "iopub.status.busy": "2025-07-23T13:00:09.090759Z",
     "iopub.status.idle": "2025-07-23T13:00:09.114307Z",
     "shell.execute_reply": "2025-07-23T13:00:09.113251Z"
    },
    "papermill": {
     "duration": 0.062436,
     "end_time": "2025-07-23T13:00:09.115873",
     "exception": false,
     "start_time": "2025-07-23T13:00:09.053437",
     "status": "completed"
    },
    "tags": []
   },
   "outputs": [
    {
     "name": "stdout",
     "output_type": "stream",
     "text": [
      "/dss/dsshome1/0C/ra93lal2/cma/CMA_Fairness_v2\n"
     ]
    },
    {
     "name": "stderr",
     "output_type": "stream",
     "text": [
      "/dss/dsshome1/0C/ra93lal2/.local/share/virtualenvs/CMA_Fairness_v2-3j10GkSs/lib/python3.10/site-packages/IPython/core/magics/osm.py:393: UserWarning: This is now an optional IPython functionality, using bookmarks requires you to install the `pickleshare` library.\n",
      "  bkms = self.shell.db.get('bookmarks', {})\n",
      "/dss/dsshome1/0C/ra93lal2/.local/share/virtualenvs/CMA_Fairness_v2-3j10GkSs/lib/python3.10/site-packages/IPython/core/magics/osm.py:417: UserWarning: This is now an optional IPython functionality, setting dhist requires you to install the `pickleshare` library.\n",
      "  self.shell.db['dhist'] = compress_dhist(dhist)[-100:]\n"
     ]
    }
   ],
   "source": [
    "%cd ~/cma/CMA_Fairness_v2"
   ]
  },
  {
   "cell_type": "markdown",
   "id": "de2603b9",
   "metadata": {
    "papermill": {
     "duration": 0.04984,
     "end_time": "2025-07-23T13:00:09.184897",
     "exception": false,
     "start_time": "2025-07-23T13:00:09.135057",
     "status": "completed"
    },
    "tags": []
   },
   "source": [
    "The following cell holds the definition of our parameters, these values can be overriden by rendering the with e.g. the following command:\n",
    "\n",
    "papermill -p alpha 0.2 -p ratio 0.3 universe_analysis.ipynb output/test_run.ipynb"
   ]
  },
  {
   "cell_type": "code",
   "execution_count": 2,
   "id": "a80968a0-40bb-4fa9-85ef-2d5eefb01975",
   "metadata": {
    "execution": {
     "iopub.execute_input": "2025-07-23T13:00:09.240423Z",
     "iopub.status.busy": "2025-07-23T13:00:09.240021Z",
     "iopub.status.idle": "2025-07-23T13:00:09.245571Z",
     "shell.execute_reply": "2025-07-23T13:00:09.244603Z"
    },
    "papermill": {
     "duration": 0.040423,
     "end_time": "2025-07-23T13:00:09.260133",
     "exception": false,
     "start_time": "2025-07-23T13:00:09.219710",
     "status": "completed"
    },
    "tags": []
   },
   "outputs": [
    {
     "name": "stdout",
     "output_type": "stream",
     "text": [
      "Current working directory: /dss/dsshome1/0C/ra93lal2/cma/CMA_Fairness_v2\n"
     ]
    }
   ],
   "source": [
    "import os\n",
    "print(\"Current working directory:\", os.getcwd())"
   ]
  },
  {
   "cell_type": "code",
   "execution_count": 3,
   "id": "2dce4c03",
   "metadata": {
    "execution": {
     "iopub.execute_input": "2025-07-23T13:00:09.294067Z",
     "iopub.status.busy": "2025-07-23T13:00:09.293686Z",
     "iopub.status.idle": "2025-07-23T13:00:09.299016Z",
     "shell.execute_reply": "2025-07-23T13:00:09.298050Z"
    },
    "papermill": {
     "duration": 0.024288,
     "end_time": "2025-07-23T13:00:09.301102",
     "exception": false,
     "start_time": "2025-07-23T13:00:09.276814",
     "status": "completed"
    },
    "tags": [
     "parameters"
    ]
   },
   "outputs": [],
   "source": [
    "run_no = 0\n",
    "universe_id = \"test\"\n",
    "universe = {\n",
    "    \"scale\": \"scale\", # \"scale\", \"do-not-scale\",\n",
    "    \"model\": \"elasticnet\", # \"logreg\", \"penalized_logreg\", \"rf\", \"gbm\", \"elasticnet\"\n",
    "    \"cutoff\": [\"quantile_0.15\", \"quantile_0.30\"],\n",
    "    \"exclude_features\": \"age\", # \"none\", \"nationality\", \"sex\", \"nationality-sex\", \"age\"\n",
    "    \"exclude_subgroups\": \"keep-all\", # \"keep-all\", \"drop-non-german\"\n",
    "    \"eval_fairness_grouping\": [\"majority-minority\", \"nationality-all\"]\n",
    "}\n",
    "\n",
    "output_dir=\"./output\"\n",
    "seed=0"
   ]
  },
  {
   "cell_type": "code",
   "execution_count": 4,
   "id": "40541424",
   "metadata": {
    "execution": {
     "iopub.execute_input": "2025-07-23T13:00:09.340625Z",
     "iopub.status.busy": "2025-07-23T13:00:09.340119Z",
     "iopub.status.idle": "2025-07-23T13:00:09.345742Z",
     "shell.execute_reply": "2025-07-23T13:00:09.344694Z"
    },
    "papermill": {
     "duration": 0.027528,
     "end_time": "2025-07-23T13:00:09.347431",
     "exception": false,
     "start_time": "2025-07-23T13:00:09.319903",
     "status": "completed"
    },
    "tags": [
     "injected-parameters"
    ]
   },
   "outputs": [],
   "source": [
    "# Parameters\n",
    "universe_id = \"9f7eaa655a0040c6f967a066a8bb55b8\"\n",
    "run_no = \"6\"\n",
    "universe = \"{\\\"cutoff\\\": [\\\"quantile_0.1\\\", \\\"quantile_0.25\\\"], \\\"eval_fairness_grouping\\\": [\\\"majority-minority\\\", \\\"nationality-all\\\"], \\\"exclude_features\\\": \\\"age\\\", \\\"exclude_subgroups\\\": \\\"keep-all\\\", \\\"model\\\": \\\"rf\\\", \\\"scale\\\": \\\"do-not-scale\\\"}\"\n",
    "output_dir = \"output\"\n",
    "seed = \"2023\"\n"
   ]
  },
  {
   "cell_type": "code",
   "execution_count": 5,
   "id": "1650acaf",
   "metadata": {
    "execution": {
     "iopub.execute_input": "2025-07-23T13:00:09.383737Z",
     "iopub.status.busy": "2025-07-23T13:00:09.383378Z",
     "iopub.status.idle": "2025-07-23T13:00:09.388159Z",
     "shell.execute_reply": "2025-07-23T13:00:09.387370Z"
    },
    "papermill": {
     "duration": 0.026224,
     "end_time": "2025-07-23T13:00:09.389626",
     "exception": false,
     "start_time": "2025-07-23T13:00:09.363402",
     "status": "completed"
    },
    "tags": []
   },
   "outputs": [],
   "source": [
    "import json\n",
    "# Parse universe into dict if it is passed as a string\n",
    "if isinstance(universe, str):\n",
    "    universe = json.loads(universe)"
   ]
  },
  {
   "cell_type": "code",
   "execution_count": 6,
   "id": "16620c48",
   "metadata": {
    "execution": {
     "iopub.execute_input": "2025-07-23T13:00:09.414352Z",
     "iopub.status.busy": "2025-07-23T13:00:09.413723Z",
     "iopub.status.idle": "2025-07-23T13:00:09.486442Z",
     "shell.execute_reply": "2025-07-23T13:00:09.484922Z"
    },
    "papermill": {
     "duration": 0.08878,
     "end_time": "2025-07-23T13:00:09.488612",
     "exception": false,
     "start_time": "2025-07-23T13:00:09.399832",
     "status": "completed"
    },
    "tags": []
   },
   "outputs": [],
   "source": [
    "# Auto-reload the custom package\n",
    "%load_ext autoreload\n",
    "%autoreload 1\n",
    "%aimport fairness_multiverse"
   ]
  },
  {
   "cell_type": "code",
   "execution_count": 7,
   "id": "01c5c9f3",
   "metadata": {
    "execution": {
     "iopub.execute_input": "2025-07-23T13:00:09.591691Z",
     "iopub.status.busy": "2025-07-23T13:00:09.591043Z",
     "iopub.status.idle": "2025-07-23T13:00:12.783834Z",
     "shell.execute_reply": "2025-07-23T13:00:12.782282Z"
    },
    "papermill": {
     "duration": 3.213141,
     "end_time": "2025-07-23T13:00:12.786209",
     "exception": false,
     "start_time": "2025-07-23T13:00:09.573068",
     "status": "completed"
    },
    "tags": []
   },
   "outputs": [],
   "source": [
    "from fairness_multiverse.universe import UniverseAnalysis\n",
    "\n",
    "universe_analysis = UniverseAnalysis(\n",
    "    run_no = run_no,\n",
    "    universe_id = universe_id,\n",
    "    universe = universe,\n",
    "    output_dir=output_dir,\n",
    ")"
   ]
  },
  {
   "cell_type": "code",
   "execution_count": 8,
   "id": "106241f5",
   "metadata": {
    "execution": {
     "iopub.execute_input": "2025-07-23T13:00:12.824827Z",
     "iopub.status.busy": "2025-07-23T13:00:12.824336Z",
     "iopub.status.idle": "2025-07-23T13:00:12.833385Z",
     "shell.execute_reply": "2025-07-23T13:00:12.832149Z"
    },
    "papermill": {
     "duration": 0.033166,
     "end_time": "2025-07-23T13:00:12.837527",
     "exception": false,
     "start_time": "2025-07-23T13:00:12.804361",
     "status": "completed"
    },
    "tags": []
   },
   "outputs": [
    {
     "name": "stdout",
     "output_type": "stream",
     "text": [
      "Using Seed: 2023\n"
     ]
    }
   ],
   "source": [
    "import numpy as np\n",
    "parsed_seed = int(seed)\n",
    "np.random.seed(parsed_seed)\n",
    "print(f\"Using Seed: {parsed_seed}\")"
   ]
  },
  {
   "cell_type": "markdown",
   "id": "e0ebdc57",
   "metadata": {
    "papermill": {
     "duration": 0.017677,
     "end_time": "2025-07-23T13:00:12.873176",
     "exception": false,
     "start_time": "2025-07-23T13:00:12.855499",
     "status": "completed"
    },
    "tags": []
   },
   "source": [
    "# Loading Data"
   ]
  },
  {
   "cell_type": "markdown",
   "id": "681925a3",
   "metadata": {
    "papermill": {
     "duration": 0.019307,
     "end_time": "2025-07-23T13:00:12.934798",
     "exception": false,
     "start_time": "2025-07-23T13:00:12.915491",
     "status": "completed"
    },
    "tags": []
   },
   "source": [
    "Load siab_train, siab_test, siab_calib and/or \n",
    "load siab_train_features, siab_train_labels"
   ]
  },
  {
   "cell_type": "code",
   "execution_count": 9,
   "id": "f0496b8a",
   "metadata": {
    "execution": {
     "iopub.execute_input": "2025-07-23T13:00:12.980390Z",
     "iopub.status.busy": "2025-07-23T13:00:12.979872Z",
     "iopub.status.idle": "2025-07-23T13:00:12.986203Z",
     "shell.execute_reply": "2025-07-23T13:00:12.985027Z"
    },
    "papermill": {
     "duration": 0.026943,
     "end_time": "2025-07-23T13:00:12.988100",
     "exception": false,
     "start_time": "2025-07-23T13:00:12.961157",
     "status": "completed"
    },
    "tags": []
   },
   "outputs": [],
   "source": [
    "# Do I need to load siab? Delete this cell?\n",
    "\n",
    "#from pathlib import Path\n",
    "#import pandas as pd\n",
    "#\n",
    "## File paths\n",
    "#raw_file = Path(\"data/raw/siab.csv\")\n",
    "#cache_file = Path(\"data/siab_cached.csv.gz\")\n",
    "#\n",
    "## Ensure cache directory exists\n",
    "#cache_file.parent.mkdir(parents=True, exist_ok=True)\n",
    "#\n",
    "## Load with simple caching\n",
    "#if cache_file.exists():\n",
    "#    print(f\"Loading SIAB data from cache: {cache_file}\")\n",
    "#    siab = pd.read_csv(cache_file, compression='gzip')\n",
    "#else:\n",
    "#    print(f\"Cache not found. Reading raw SIAB data: {raw_file}\")\n",
    "#    siab = pd.read_csv(raw_file)\n",
    "#    siab.to_csv(cache_file, index=False, compression='gzip')\n",
    "#    print(f\"Cached SIAB data to: {cache_file}\")\n",
    "#\n",
    "## Now use `siab` DataFrame as needed\n",
    "#print(siab.shape)\n"
   ]
  },
  {
   "cell_type": "code",
   "execution_count": 10,
   "id": "a0edb063",
   "metadata": {
    "execution": {
     "iopub.execute_input": "2025-07-23T13:00:13.030638Z",
     "iopub.status.busy": "2025-07-23T13:00:13.029570Z",
     "iopub.status.idle": "2025-07-23T13:00:13.481460Z",
     "shell.execute_reply": "2025-07-23T13:00:13.480432Z"
    },
    "papermill": {
     "duration": 0.474885,
     "end_time": "2025-07-23T13:00:13.483431",
     "exception": false,
     "start_time": "2025-07-23T13:00:13.008546",
     "status": "completed"
    },
    "tags": []
   },
   "outputs": [],
   "source": [
    "import pandas as pd\n",
    "\n",
    "X_train = pd.read_csv(\"./data/X_train.csv\")\n",
    "y_train = pd.read_csv(\"./data/y_train.csv\")"
   ]
  },
  {
   "cell_type": "code",
   "execution_count": 11,
   "id": "63d08085",
   "metadata": {
    "execution": {
     "iopub.execute_input": "2025-07-23T13:00:13.525302Z",
     "iopub.status.busy": "2025-07-23T13:00:13.524731Z",
     "iopub.status.idle": "2025-07-23T13:00:14.976354Z",
     "shell.execute_reply": "2025-07-23T13:00:14.975240Z"
    },
    "papermill": {
     "duration": 1.476713,
     "end_time": "2025-07-23T13:00:14.978488",
     "exception": false,
     "start_time": "2025-07-23T13:00:13.501775",
     "status": "completed"
    },
    "tags": []
   },
   "outputs": [],
   "source": [
    "X_test = pd.read_csv(\"./data/X_test.csv\")\n",
    "y_true = pd.read_csv(\"./data/y_test.csv\")"
   ]
  },
  {
   "cell_type": "code",
   "execution_count": 12,
   "id": "98a8d0fa-1d3d-4ed8-bb2c-281470e24add",
   "metadata": {
    "execution": {
     "iopub.execute_input": "2025-07-23T13:00:15.016807Z",
     "iopub.status.busy": "2025-07-23T13:00:15.016248Z",
     "iopub.status.idle": "2025-07-23T13:00:16.473719Z",
     "shell.execute_reply": "2025-07-23T13:00:16.472605Z"
    },
    "papermill": {
     "duration": 1.478493,
     "end_time": "2025-07-23T13:00:16.475763",
     "exception": false,
     "start_time": "2025-07-23T13:00:14.997270",
     "status": "completed"
    },
    "tags": []
   },
   "outputs": [],
   "source": [
    "# Calibration data for conformal\n",
    "X_calib = pd.read_csv(\"./data/X_calib.csv\")\n",
    "y_calib = pd.read_csv(\"./data/y_calib.csv\")"
   ]
  },
  {
   "cell_type": "code",
   "execution_count": 13,
   "id": "e6c733c5",
   "metadata": {
    "execution": {
     "iopub.execute_input": "2025-07-23T13:00:16.512637Z",
     "iopub.status.busy": "2025-07-23T13:00:16.511906Z",
     "iopub.status.idle": "2025-07-23T13:00:16.619913Z",
     "shell.execute_reply": "2025-07-23T13:00:16.618886Z"
    },
    "papermill": {
     "duration": 0.128537,
     "end_time": "2025-07-23T13:00:16.621928",
     "exception": false,
     "start_time": "2025-07-23T13:00:16.493391",
     "status": "completed"
    },
    "tags": []
   },
   "outputs": [],
   "source": [
    "# Auxiliary data needed downstream in the pipeline\n",
    "\n",
    "org_train = X_train.copy()\n",
    "org_test = X_test.copy()\n",
    "org_calib = X_calib.copy()"
   ]
  },
  {
   "cell_type": "markdown",
   "id": "0a4a1b33",
   "metadata": {
    "papermill": {
     "duration": 0.016706,
     "end_time": "2025-07-23T13:00:16.656152",
     "exception": false,
     "start_time": "2025-07-23T13:00:16.639446",
     "status": "completed"
    },
    "tags": []
   },
   "source": [
    "# Preprocessing Data"
   ]
  },
  {
   "cell_type": "code",
   "execution_count": 14,
   "id": "ca879031",
   "metadata": {
    "execution": {
     "iopub.execute_input": "2025-07-23T13:00:16.691778Z",
     "iopub.status.busy": "2025-07-23T13:00:16.691102Z",
     "iopub.status.idle": "2025-07-23T13:00:16.697352Z",
     "shell.execute_reply": "2025-07-23T13:00:16.696427Z"
    },
    "papermill": {
     "duration": 0.025739,
     "end_time": "2025-07-23T13:00:16.698951",
     "exception": false,
     "start_time": "2025-07-23T13:00:16.673212",
     "status": "completed"
    },
    "tags": []
   },
   "outputs": [],
   "source": [
    "# EXCLUDE PROTECTED FEATURES\n",
    "# ----------------------\n",
    "# \"exclude_features\": \"none\", # \"nationality\", \"sex\", \"nationality-sex\"\n",
    "\n",
    "excluded_features = universe[\"exclude_features\"].split(\"-\") # split, e.g.: \"nationality-sex\" -> [\"nationality\", \"sex\"]\n",
    "excluded_features_dictionary = {\n",
    "    \"nationality\": [\"maxdeutsch1\", \"maxdeutsch.Missing.\"],\n",
    "    \"sex\": [\"frau1\"],\n",
    "    \"age\": [\"age\"],\n",
    "}\n"
   ]
  },
  {
   "cell_type": "code",
   "execution_count": 15,
   "id": "b745ac60",
   "metadata": {
    "execution": {
     "iopub.execute_input": "2025-07-23T13:00:16.736812Z",
     "iopub.status.busy": "2025-07-23T13:00:16.736183Z",
     "iopub.status.idle": "2025-07-23T13:00:16.742385Z",
     "shell.execute_reply": "2025-07-23T13:00:16.741393Z"
    },
    "papermill": {
     "duration": 0.026308,
     "end_time": "2025-07-23T13:00:16.744013",
     "exception": false,
     "start_time": "2025-07-23T13:00:16.717705",
     "status": "completed"
    },
    "tags": []
   },
   "outputs": [],
   "source": [
    "# Code nice names to column names\n",
    "\n",
    "excluded_features_columns = [\n",
    "    excluded_features_dictionary[f] for f in excluded_features if len(f) > 0 and f != \"none\"\n",
    "]"
   ]
  },
  {
   "cell_type": "code",
   "execution_count": 16,
   "id": "f84f73a2",
   "metadata": {
    "execution": {
     "iopub.execute_input": "2025-07-23T13:00:16.782690Z",
     "iopub.status.busy": "2025-07-23T13:00:16.782302Z",
     "iopub.status.idle": "2025-07-23T13:00:16.788804Z",
     "shell.execute_reply": "2025-07-23T13:00:16.787903Z"
    },
    "papermill": {
     "duration": 0.028778,
     "end_time": "2025-07-23T13:00:16.790593",
     "exception": false,
     "start_time": "2025-07-23T13:00:16.761815",
     "status": "completed"
    },
    "tags": []
   },
   "outputs": [],
   "source": [
    "from utils import flatten_once\n",
    "\n",
    "excluded_features_columns = flatten_once(excluded_features_columns)"
   ]
  },
  {
   "cell_type": "code",
   "execution_count": 17,
   "id": "884dea22",
   "metadata": {
    "execution": {
     "iopub.execute_input": "2025-07-23T13:00:16.827006Z",
     "iopub.status.busy": "2025-07-23T13:00:16.826386Z",
     "iopub.status.idle": "2025-07-23T13:00:16.842458Z",
     "shell.execute_reply": "2025-07-23T13:00:16.841321Z"
    },
    "papermill": {
     "duration": 0.035897,
     "end_time": "2025-07-23T13:00:16.844162",
     "exception": false,
     "start_time": "2025-07-23T13:00:16.808265",
     "status": "completed"
    },
    "tags": []
   },
   "outputs": [
    {
     "name": "stdout",
     "output_type": "stream",
     "text": [
      "Dropping features: ['age']\n"
     ]
    }
   ],
   "source": [
    "if len(excluded_features_columns) > 0:\n",
    "    print(f\"Dropping features: {excluded_features_columns}\")\n",
    "    X_train.drop(excluded_features_columns, axis=1, inplace=True)"
   ]
  },
  {
   "cell_type": "code",
   "execution_count": 18,
   "id": "95ab8b16",
   "metadata": {
    "execution": {
     "iopub.execute_input": "2025-07-23T13:00:16.881318Z",
     "iopub.status.busy": "2025-07-23T13:00:16.880601Z",
     "iopub.status.idle": "2025-07-23T13:00:16.933788Z",
     "shell.execute_reply": "2025-07-23T13:00:16.932863Z"
    },
    "papermill": {
     "duration": 0.073381,
     "end_time": "2025-07-23T13:00:16.935673",
     "exception": false,
     "start_time": "2025-07-23T13:00:16.862292",
     "status": "completed"
    },
    "tags": []
   },
   "outputs": [
    {
     "name": "stdout",
     "output_type": "stream",
     "text": [
      "Dropping features: ['age']\n"
     ]
    }
   ],
   "source": [
    "if len(excluded_features_columns) > 0:\n",
    "    print(f\"Dropping features: {excluded_features_columns}\")\n",
    "    X_test.drop(excluded_features_columns, axis=1, inplace=True)"
   ]
  },
  {
   "cell_type": "code",
   "execution_count": 19,
   "id": "1853aaf5-fb9f-46cb-a2b5-8ea4ae2237e4",
   "metadata": {
    "execution": {
     "iopub.execute_input": "2025-07-23T13:00:16.973220Z",
     "iopub.status.busy": "2025-07-23T13:00:16.972429Z",
     "iopub.status.idle": "2025-07-23T13:00:17.028054Z",
     "shell.execute_reply": "2025-07-23T13:00:17.027004Z"
    },
    "papermill": {
     "duration": 0.076145,
     "end_time": "2025-07-23T13:00:17.030120",
     "exception": false,
     "start_time": "2025-07-23T13:00:16.953975",
     "status": "completed"
    },
    "tags": []
   },
   "outputs": [
    {
     "name": "stdout",
     "output_type": "stream",
     "text": [
      "Dropping features: ['age']\n"
     ]
    }
   ],
   "source": [
    "if len(excluded_features_columns) > 0:\n",
    "    print(f\"Dropping features: {excluded_features_columns}\")\n",
    "    X_calib.drop(excluded_features_columns, axis=1, inplace=True)"
   ]
  },
  {
   "cell_type": "code",
   "execution_count": 20,
   "id": "76c4dc6d",
   "metadata": {
    "execution": {
     "iopub.execute_input": "2025-07-23T13:00:17.068910Z",
     "iopub.status.busy": "2025-07-23T13:00:17.068069Z",
     "iopub.status.idle": "2025-07-23T13:00:17.073522Z",
     "shell.execute_reply": "2025-07-23T13:00:17.072514Z"
    },
    "papermill": {
     "duration": 0.025914,
     "end_time": "2025-07-23T13:00:17.075125",
     "exception": false,
     "start_time": "2025-07-23T13:00:17.049211",
     "status": "completed"
    },
    "tags": []
   },
   "outputs": [],
   "source": [
    "# EXCLUDE CERTAIN SUBGROUPS\n",
    "# ----------------------\n",
    "\n",
    "mode = universe.get(\"exclude_subgroups\", \"keep-all\") \n",
    "# Fetches the exclude_subgroups setting from the universe dict.\n",
    "# Defaults to \"keep-all\" if the key is missing."
   ]
  },
  {
   "cell_type": "code",
   "execution_count": 21,
   "id": "21994072",
   "metadata": {
    "execution": {
     "iopub.execute_input": "2025-07-23T13:00:17.113289Z",
     "iopub.status.busy": "2025-07-23T13:00:17.112416Z",
     "iopub.status.idle": "2025-07-23T13:00:17.119727Z",
     "shell.execute_reply": "2025-07-23T13:00:17.118714Z"
    },
    "papermill": {
     "duration": 0.027936,
     "end_time": "2025-07-23T13:00:17.121588",
     "exception": false,
     "start_time": "2025-07-23T13:00:17.093652",
     "status": "completed"
    },
    "tags": []
   },
   "outputs": [],
   "source": [
    "if mode == \"keep-all\":\n",
    "    keep_mask = pd.Series(True, index=org_train.index)\n",
    "\n",
    "# org_train contains the original feature columns from features_org (in Simson)\n",
    "# features_org contains unprocessed features, for me X_train at beginning ???\n",
    "# For keep-all, creates a boolean Series (keep_mask) of all True, so no rows are removed.\n",
    "\n",
    "elif mode == \"drop-non-german\":\n",
    "    keep_mask = org_train[\"maxdeutsch1\"] == 1 # ??? what about missing values?\n",
    "\n",
    "else:\n",
    "    raise ValueError(f\"Unsupported mode for exclude_subgroups: {mode}\")\n"
   ]
  },
  {
   "cell_type": "code",
   "execution_count": 22,
   "id": "71651440",
   "metadata": {
    "execution": {
     "iopub.execute_input": "2025-07-23T13:00:17.160248Z",
     "iopub.status.busy": "2025-07-23T13:00:17.159427Z",
     "iopub.status.idle": "2025-07-23T13:00:17.166212Z",
     "shell.execute_reply": "2025-07-23T13:00:17.165311Z"
    },
    "papermill": {
     "duration": 0.027948,
     "end_time": "2025-07-23T13:00:17.167855",
     "exception": false,
     "start_time": "2025-07-23T13:00:17.139907",
     "status": "completed"
    },
    "tags": []
   },
   "outputs": [],
   "source": [
    "n_drop = (~keep_mask).sum() # Calculates how many rows are set to be dropped\n",
    "if n_drop > 0:\n",
    "    pct = n_drop / len(keep_mask) * 100\n",
    "    print(f\"Dropping {n_drop} rows ({pct:.2f}%) where mode='{mode}'\")"
   ]
  },
  {
   "cell_type": "code",
   "execution_count": 23,
   "id": "5fb8eee5",
   "metadata": {
    "execution": {
     "iopub.execute_input": "2025-07-23T13:00:17.205202Z",
     "iopub.status.busy": "2025-07-23T13:00:17.204607Z",
     "iopub.status.idle": "2025-07-23T13:00:17.227707Z",
     "shell.execute_reply": "2025-07-23T13:00:17.226741Z"
    },
    "papermill": {
     "duration": 0.043808,
     "end_time": "2025-07-23T13:00:17.229659",
     "exception": false,
     "start_time": "2025-07-23T13:00:17.185851",
     "status": "completed"
    },
    "tags": []
   },
   "outputs": [],
   "source": [
    "X_train = X_train[keep_mask]"
   ]
  },
  {
   "cell_type": "code",
   "execution_count": 24,
   "id": "b202bb3a",
   "metadata": {
    "execution": {
     "iopub.execute_input": "2025-07-23T13:00:17.270104Z",
     "iopub.status.busy": "2025-07-23T13:00:17.269404Z",
     "iopub.status.idle": "2025-07-23T13:00:17.276090Z",
     "shell.execute_reply": "2025-07-23T13:00:17.275173Z"
    },
    "papermill": {
     "duration": 0.027957,
     "end_time": "2025-07-23T13:00:17.277865",
     "exception": false,
     "start_time": "2025-07-23T13:00:17.249908",
     "status": "completed"
    },
    "tags": []
   },
   "outputs": [],
   "source": [
    "y_train = y_train[keep_mask]"
   ]
  },
  {
   "cell_type": "markdown",
   "id": "493e2ac3",
   "metadata": {
    "papermill": {
     "duration": 0.018754,
     "end_time": "2025-07-23T13:00:17.315425",
     "exception": false,
     "start_time": "2025-07-23T13:00:17.296671",
     "status": "completed"
    },
    "tags": []
   },
   "source": [
    "# Model Training"
   ]
  },
  {
   "cell_type": "code",
   "execution_count": 25,
   "id": "679e1268",
   "metadata": {
    "execution": {
     "iopub.execute_input": "2025-07-23T13:00:17.355728Z",
     "iopub.status.busy": "2025-07-23T13:00:17.354994Z",
     "iopub.status.idle": "2025-07-23T13:00:17.470650Z",
     "shell.execute_reply": "2025-07-23T13:00:17.469653Z"
    },
    "papermill": {
     "duration": 0.138045,
     "end_time": "2025-07-23T13:00:17.472775",
     "exception": false,
     "start_time": "2025-07-23T13:00:17.334730",
     "status": "completed"
    },
    "tags": []
   },
   "outputs": [],
   "source": [
    "from sklearn.linear_model import LogisticRegression\n",
    "from sklearn.ensemble import GradientBoostingClassifier, RandomForestClassifier\n",
    "\n",
    "if (universe[\"model\"] == \"logreg\"):\n",
    "    model = LogisticRegression() #penalty=\"none\") #, solver=\"newton-cg\", max_iter=1) # include random_state=19 ?\n",
    "elif (universe[\"model\"] == \"penalized_logreg\"):\n",
    "    model = LogisticRegression(penalty=\"l2\", C=1.0) #, solver=\"newton-cg\", max_iter=1)\n",
    "elif (universe[\"model\"] == \"rf\"):\n",
    "    model = RandomForestClassifier(n_estimators=100, n_jobs=-1)\n",
    "elif (universe[\"model\"] == \"gbm\"):\n",
    "    model = GradientBoostingClassifier()\n",
    "elif (universe[\"model\"] == \"elasticnet\"):\n",
    "    model = LogisticRegression(penalty = 'elasticnet', solver = 'saga', l1_ratio = 0.5, max_iter=5000) # which solver to use?\n",
    "else:\n",
    "    raise \"Unsupported universe.model\""
   ]
  },
  {
   "cell_type": "code",
   "execution_count": 26,
   "id": "0cc8f744",
   "metadata": {
    "execution": {
     "iopub.execute_input": "2025-07-23T13:00:17.514147Z",
     "iopub.status.busy": "2025-07-23T13:00:17.513630Z",
     "iopub.status.idle": "2025-07-23T13:00:17.520272Z",
     "shell.execute_reply": "2025-07-23T13:00:17.519244Z"
    },
    "papermill": {
     "duration": 0.027699,
     "end_time": "2025-07-23T13:00:17.522109",
     "exception": false,
     "start_time": "2025-07-23T13:00:17.494410",
     "status": "completed"
    },
    "tags": []
   },
   "outputs": [],
   "source": [
    "import numpy as np\n",
    "from sklearn.pipeline import Pipeline\n",
    "from sklearn.preprocessing import StandardScaler\n",
    "\n",
    "model = Pipeline([\n",
    "    #(\"continuous_processor\", continuous_processor),\n",
    "    #(\"categorical_preprocessor\", categorical_preprocessor),\n",
    "    (\"scale\", StandardScaler() if universe[\"scale\"] == \"scale\" else None), \n",
    "    (\"model\", model),\n",
    "])"
   ]
  },
  {
   "cell_type": "code",
   "execution_count": 27,
   "id": "9442c04d",
   "metadata": {
    "execution": {
     "iopub.execute_input": "2025-07-23T13:00:17.561162Z",
     "iopub.status.busy": "2025-07-23T13:00:17.560470Z",
     "iopub.status.idle": "2025-07-23T13:00:20.842431Z",
     "shell.execute_reply": "2025-07-23T13:00:20.841655Z"
    },
    "papermill": {
     "duration": 3.302503,
     "end_time": "2025-07-23T13:00:20.843895",
     "exception": false,
     "start_time": "2025-07-23T13:00:17.541392",
     "status": "completed"
    },
    "tags": []
   },
   "outputs": [
    {
     "data": {
      "text/html": [
       "<style>#sk-container-id-1 {color: black;background-color: white;}#sk-container-id-1 pre{padding: 0;}#sk-container-id-1 div.sk-toggleable {background-color: white;}#sk-container-id-1 label.sk-toggleable__label {cursor: pointer;display: block;width: 100%;margin-bottom: 0;padding: 0.3em;box-sizing: border-box;text-align: center;}#sk-container-id-1 label.sk-toggleable__label-arrow:before {content: \"▸\";float: left;margin-right: 0.25em;color: #696969;}#sk-container-id-1 label.sk-toggleable__label-arrow:hover:before {color: black;}#sk-container-id-1 div.sk-estimator:hover label.sk-toggleable__label-arrow:before {color: black;}#sk-container-id-1 div.sk-toggleable__content {max-height: 0;max-width: 0;overflow: hidden;text-align: left;background-color: #f0f8ff;}#sk-container-id-1 div.sk-toggleable__content pre {margin: 0.2em;color: black;border-radius: 0.25em;background-color: #f0f8ff;}#sk-container-id-1 input.sk-toggleable__control:checked~div.sk-toggleable__content {max-height: 200px;max-width: 100%;overflow: auto;}#sk-container-id-1 input.sk-toggleable__control:checked~label.sk-toggleable__label-arrow:before {content: \"▾\";}#sk-container-id-1 div.sk-estimator input.sk-toggleable__control:checked~label.sk-toggleable__label {background-color: #d4ebff;}#sk-container-id-1 div.sk-label input.sk-toggleable__control:checked~label.sk-toggleable__label {background-color: #d4ebff;}#sk-container-id-1 input.sk-hidden--visually {border: 0;clip: rect(1px 1px 1px 1px);clip: rect(1px, 1px, 1px, 1px);height: 1px;margin: -1px;overflow: hidden;padding: 0;position: absolute;width: 1px;}#sk-container-id-1 div.sk-estimator {font-family: monospace;background-color: #f0f8ff;border: 1px dotted black;border-radius: 0.25em;box-sizing: border-box;margin-bottom: 0.5em;}#sk-container-id-1 div.sk-estimator:hover {background-color: #d4ebff;}#sk-container-id-1 div.sk-parallel-item::after {content: \"\";width: 100%;border-bottom: 1px solid gray;flex-grow: 1;}#sk-container-id-1 div.sk-label:hover label.sk-toggleable__label {background-color: #d4ebff;}#sk-container-id-1 div.sk-serial::before {content: \"\";position: absolute;border-left: 1px solid gray;box-sizing: border-box;top: 0;bottom: 0;left: 50%;z-index: 0;}#sk-container-id-1 div.sk-serial {display: flex;flex-direction: column;align-items: center;background-color: white;padding-right: 0.2em;padding-left: 0.2em;position: relative;}#sk-container-id-1 div.sk-item {position: relative;z-index: 1;}#sk-container-id-1 div.sk-parallel {display: flex;align-items: stretch;justify-content: center;background-color: white;position: relative;}#sk-container-id-1 div.sk-item::before, #sk-container-id-1 div.sk-parallel-item::before {content: \"\";position: absolute;border-left: 1px solid gray;box-sizing: border-box;top: 0;bottom: 0;left: 50%;z-index: -1;}#sk-container-id-1 div.sk-parallel-item {display: flex;flex-direction: column;z-index: 1;position: relative;background-color: white;}#sk-container-id-1 div.sk-parallel-item:first-child::after {align-self: flex-end;width: 50%;}#sk-container-id-1 div.sk-parallel-item:last-child::after {align-self: flex-start;width: 50%;}#sk-container-id-1 div.sk-parallel-item:only-child::after {width: 0;}#sk-container-id-1 div.sk-dashed-wrapped {border: 1px dashed gray;margin: 0 0.4em 0.5em 0.4em;box-sizing: border-box;padding-bottom: 0.4em;background-color: white;}#sk-container-id-1 div.sk-label label {font-family: monospace;font-weight: bold;display: inline-block;line-height: 1.2em;}#sk-container-id-1 div.sk-label-container {text-align: center;}#sk-container-id-1 div.sk-container {/* jupyter's `normalize.less` sets `[hidden] { display: none; }` but bootstrap.min.css set `[hidden] { display: none !important; }` so we also need the `!important` here to be able to override the default hidden behavior on the sphinx rendered scikit-learn.org. See: https://github.com/scikit-learn/scikit-learn/issues/21755 */display: inline-block !important;position: relative;}#sk-container-id-1 div.sk-text-repr-fallback {display: none;}</style><div id=\"sk-container-id-1\" class=\"sk-top-container\"><div class=\"sk-text-repr-fallback\"><pre>Pipeline(steps=[(&#x27;scale&#x27;, None), (&#x27;model&#x27;, RandomForestClassifier(n_jobs=-1))])</pre><b>In a Jupyter environment, please rerun this cell to show the HTML representation or trust the notebook. <br />On GitHub, the HTML representation is unable to render, please try loading this page with nbviewer.org.</b></div><div class=\"sk-container\" hidden><div class=\"sk-item sk-dashed-wrapped\"><div class=\"sk-label-container\"><div class=\"sk-label sk-toggleable\"><input class=\"sk-toggleable__control sk-hidden--visually\" id=\"sk-estimator-id-1\" type=\"checkbox\" ><label for=\"sk-estimator-id-1\" class=\"sk-toggleable__label sk-toggleable__label-arrow\">Pipeline</label><div class=\"sk-toggleable__content\"><pre>Pipeline(steps=[(&#x27;scale&#x27;, None), (&#x27;model&#x27;, RandomForestClassifier(n_jobs=-1))])</pre></div></div></div><div class=\"sk-serial\"><div class=\"sk-item\"><div class=\"sk-estimator sk-toggleable\"><input class=\"sk-toggleable__control sk-hidden--visually\" id=\"sk-estimator-id-2\" type=\"checkbox\" ><label for=\"sk-estimator-id-2\" class=\"sk-toggleable__label sk-toggleable__label-arrow\">None</label><div class=\"sk-toggleable__content\"><pre>None</pre></div></div></div><div class=\"sk-item\"><div class=\"sk-estimator sk-toggleable\"><input class=\"sk-toggleable__control sk-hidden--visually\" id=\"sk-estimator-id-3\" type=\"checkbox\" ><label for=\"sk-estimator-id-3\" class=\"sk-toggleable__label sk-toggleable__label-arrow\">RandomForestClassifier</label><div class=\"sk-toggleable__content\"><pre>RandomForestClassifier(n_jobs=-1)</pre></div></div></div></div></div></div></div>"
      ],
      "text/plain": [
       "Pipeline(steps=[('scale', None), ('model', RandomForestClassifier(n_jobs=-1))])"
      ]
     },
     "execution_count": 27,
     "metadata": {},
     "output_type": "execute_result"
    }
   ],
   "source": [
    "model.fit(X_train, y_train.values.ravel())"
   ]
  },
  {
   "cell_type": "code",
   "execution_count": 28,
   "id": "af59f8c0",
   "metadata": {
    "execution": {
     "iopub.execute_input": "2025-07-23T13:00:20.867155Z",
     "iopub.status.busy": "2025-07-23T13:00:20.866621Z",
     "iopub.status.idle": "2025-07-23T13:00:20.871470Z",
     "shell.execute_reply": "2025-07-23T13:00:20.870269Z"
    },
    "papermill": {
     "duration": 0.018082,
     "end_time": "2025-07-23T13:00:20.873337",
     "exception": false,
     "start_time": "2025-07-23T13:00:20.855255",
     "status": "completed"
    },
    "tags": []
   },
   "outputs": [],
   "source": [
    "from fairness_multiverse.universe import predict_w_threshold"
   ]
  },
  {
   "cell_type": "code",
   "execution_count": 29,
   "id": "a7cf2e16",
   "metadata": {
    "execution": {
     "iopub.execute_input": "2025-07-23T13:00:20.916586Z",
     "iopub.status.busy": "2025-07-23T13:00:20.916083Z",
     "iopub.status.idle": "2025-07-23T13:00:22.031550Z",
     "shell.execute_reply": "2025-07-23T13:00:22.030413Z"
    },
    "papermill": {
     "duration": 1.139288,
     "end_time": "2025-07-23T13:00:22.033618",
     "exception": false,
     "start_time": "2025-07-23T13:00:20.894330",
     "status": "completed"
    },
    "tags": []
   },
   "outputs": [
    {
     "data": {
      "text/plain": [
       "0.8676624679522907"
      ]
     },
     "execution_count": 29,
     "metadata": {},
     "output_type": "execute_result"
    }
   ],
   "source": [
    "probs_test = model.predict_proba(X_test)\n",
    "\n",
    "'''\n",
    "Below code returns a boolean array (or binary 0/1 array depending on how it’s used) where each element \n",
    "is True if the probability of class 1 is greater than or equal to the threshold, and False otherwise.\n",
    "'''\n",
    "y_pred_default = predict_w_threshold(probs_test, 0.5)\n",
    "\n",
    "from sklearn.metrics import accuracy_score\n",
    "\n",
    "# Naive prediction\n",
    "accuracy_score(y_true = y_true, y_pred = y_pred_default)"
   ]
  },
  {
   "cell_type": "code",
   "execution_count": 30,
   "id": "081964c3",
   "metadata": {
    "execution": {
     "iopub.execute_input": "2025-07-23T13:00:22.076670Z",
     "iopub.status.busy": "2025-07-23T13:00:22.075796Z",
     "iopub.status.idle": "2025-07-23T13:00:23.069186Z",
     "shell.execute_reply": "2025-07-23T13:00:23.068067Z"
    },
    "papermill": {
     "duration": 1.017052,
     "end_time": "2025-07-23T13:00:23.071115",
     "exception": false,
     "start_time": "2025-07-23T13:00:22.054063",
     "status": "completed"
    },
    "tags": []
   },
   "outputs": [
    {
     "data": {
      "text/plain": [
       "array([0, 0, 0, ..., 0, 0, 0])"
      ]
     },
     "execution_count": 30,
     "metadata": {},
     "output_type": "execute_result"
    }
   ],
   "source": [
    "model.predict(X_test)"
   ]
  },
  {
   "cell_type": "markdown",
   "id": "56c9705b",
   "metadata": {
    "papermill": {
     "duration": 0.019656,
     "end_time": "2025-07-23T13:00:23.111316",
     "exception": false,
     "start_time": "2025-07-23T13:00:23.091660",
     "status": "completed"
    },
    "tags": []
   },
   "source": [
    "# Conformal Prediction"
   ]
  },
  {
   "cell_type": "code",
   "execution_count": 31,
   "id": "160ec6ff",
   "metadata": {
    "execution": {
     "iopub.execute_input": "2025-07-23T13:00:23.153153Z",
     "iopub.status.busy": "2025-07-23T13:00:23.152217Z",
     "iopub.status.idle": "2025-07-23T13:00:23.158112Z",
     "shell.execute_reply": "2025-07-23T13:00:23.156985Z"
    },
    "papermill": {
     "duration": 0.028708,
     "end_time": "2025-07-23T13:00:23.159737",
     "exception": false,
     "start_time": "2025-07-23T13:00:23.131029",
     "status": "completed"
    },
    "tags": []
   },
   "outputs": [],
   "source": [
    "# Miscoverage level for conformal prediction (10% allowed error rate => 90% target coverage)\n",
    "alpha = 0.1"
   ]
  },
  {
   "cell_type": "code",
   "execution_count": 32,
   "id": "eadf4555-3dd3-440e-8e35-f82a4ad9f855",
   "metadata": {
    "execution": {
     "iopub.execute_input": "2025-07-23T13:00:23.202161Z",
     "iopub.status.busy": "2025-07-23T13:00:23.201653Z",
     "iopub.status.idle": "2025-07-23T13:00:24.243582Z",
     "shell.execute_reply": "2025-07-23T13:00:24.242650Z"
    },
    "papermill": {
     "duration": 1.065108,
     "end_time": "2025-07-23T13:00:24.245481",
     "exception": false,
     "start_time": "2025-07-23T13:00:23.180373",
     "status": "completed"
    },
    "tags": []
   },
   "outputs": [],
   "source": [
    "probs_calib = model.predict_proba(X_calib)"
   ]
  },
  {
   "cell_type": "code",
   "execution_count": 33,
   "id": "2ed93547-6d5d-4983-9b36-1ecb300da49a",
   "metadata": {
    "execution": {
     "iopub.execute_input": "2025-07-23T13:00:24.274601Z",
     "iopub.status.busy": "2025-07-23T13:00:24.274176Z",
     "iopub.status.idle": "2025-07-23T13:00:24.279568Z",
     "shell.execute_reply": "2025-07-23T13:00:24.278770Z"
    },
    "papermill": {
     "duration": 0.018256,
     "end_time": "2025-07-23T13:00:24.280916",
     "exception": false,
     "start_time": "2025-07-23T13:00:24.262660",
     "status": "completed"
    },
    "tags": []
   },
   "outputs": [],
   "source": [
    "y_calib = y_calib.values.ravel().astype(int)"
   ]
  },
  {
   "cell_type": "code",
   "execution_count": 34,
   "id": "65d1320d-f588-4b38-9072-62af1ae97f7d",
   "metadata": {
    "execution": {
     "iopub.execute_input": "2025-07-23T13:00:24.303617Z",
     "iopub.status.busy": "2025-07-23T13:00:24.303237Z",
     "iopub.status.idle": "2025-07-23T13:00:24.309633Z",
     "shell.execute_reply": "2025-07-23T13:00:24.308800Z"
    },
    "papermill": {
     "duration": 0.019035,
     "end_time": "2025-07-23T13:00:24.310784",
     "exception": false,
     "start_time": "2025-07-23T13:00:24.291749",
     "status": "completed"
    },
    "tags": []
   },
   "outputs": [],
   "source": [
    "from fairness_multiverse.conformal import compute_nc_scores\n",
    "\n",
    "# Compute nonconformity scores on calibration set (1 - probability of true class)\n",
    "nc_scores = compute_nc_scores(probs_calib, y_calib)"
   ]
  },
  {
   "cell_type": "code",
   "execution_count": 35,
   "id": "df3b8ca3-53b7-43d5-9667-7c85da7aeda2",
   "metadata": {
    "execution": {
     "iopub.execute_input": "2025-07-23T13:00:24.333223Z",
     "iopub.status.busy": "2025-07-23T13:00:24.332675Z",
     "iopub.status.idle": "2025-07-23T13:00:24.337880Z",
     "shell.execute_reply": "2025-07-23T13:00:24.337122Z"
    },
    "papermill": {
     "duration": 0.017845,
     "end_time": "2025-07-23T13:00:24.339427",
     "exception": false,
     "start_time": "2025-07-23T13:00:24.321582",
     "status": "completed"
    },
    "tags": []
   },
   "outputs": [],
   "source": [
    "from fairness_multiverse.conformal import find_threshold\n",
    "\n",
    "# Find conformal threshold q_hat for the given alpha (split conformal method)\n",
    "q_hat = find_threshold(nc_scores, alpha)"
   ]
  },
  {
   "cell_type": "code",
   "execution_count": 36,
   "id": "4d29e6c1-0ef6-4aa4-b8fe-4fe79b0d033a",
   "metadata": {
    "execution": {
     "iopub.execute_input": "2025-07-23T13:00:24.384055Z",
     "iopub.status.busy": "2025-07-23T13:00:24.383626Z",
     "iopub.status.idle": "2025-07-23T13:00:24.389034Z",
     "shell.execute_reply": "2025-07-23T13:00:24.388316Z"
    },
    "papermill": {
     "duration": 0.031116,
     "end_time": "2025-07-23T13:00:24.390590",
     "exception": false,
     "start_time": "2025-07-23T13:00:24.359474",
     "status": "completed"
    },
    "tags": []
   },
   "outputs": [
    {
     "data": {
      "text/plain": [
       "0.6599999999999999"
      ]
     },
     "execution_count": 36,
     "metadata": {},
     "output_type": "execute_result"
    }
   ],
   "source": [
    "q_hat"
   ]
  },
  {
   "cell_type": "code",
   "execution_count": 37,
   "id": "92460794-cdac-4be2-ba28-f28c0515a6fb",
   "metadata": {
    "execution": {
     "iopub.execute_input": "2025-07-23T13:00:24.434442Z",
     "iopub.status.busy": "2025-07-23T13:00:24.433971Z",
     "iopub.status.idle": "2025-07-23T13:00:26.295836Z",
     "shell.execute_reply": "2025-07-23T13:00:26.294732Z"
    },
    "papermill": {
     "duration": 1.886406,
     "end_time": "2025-07-23T13:00:26.297851",
     "exception": false,
     "start_time": "2025-07-23T13:00:24.411445",
     "status": "completed"
    },
    "tags": []
   },
   "outputs": [],
   "source": [
    "from fairness_multiverse.conformal import predict_conformal_sets\n",
    "\n",
    "# Generate prediction sets for each test example\n",
    "pred_sets = predict_conformal_sets(model, X_test, q_hat)"
   ]
  },
  {
   "cell_type": "code",
   "execution_count": 38,
   "id": "d90c9a65-e6db-4f5d-80cd-e68fb7e46829",
   "metadata": {
    "execution": {
     "iopub.execute_input": "2025-07-23T13:00:26.344476Z",
     "iopub.status.busy": "2025-07-23T13:00:26.343556Z",
     "iopub.status.idle": "2025-07-23T13:00:26.353090Z",
     "shell.execute_reply": "2025-07-23T13:00:26.351915Z"
    },
    "papermill": {
     "duration": 0.036109,
     "end_time": "2025-07-23T13:00:26.354848",
     "exception": false,
     "start_time": "2025-07-23T13:00:26.318739",
     "status": "completed"
    },
    "tags": []
   },
   "outputs": [],
   "source": [
    "y_true = y_true.squeeze()"
   ]
  },
  {
   "cell_type": "code",
   "execution_count": 39,
   "id": "3a58a54a-1e68-46b9-927a-df01f18aebc8",
   "metadata": {
    "execution": {
     "iopub.execute_input": "2025-07-23T13:00:26.400702Z",
     "iopub.status.busy": "2025-07-23T13:00:26.399704Z",
     "iopub.status.idle": "2025-07-23T13:00:27.335499Z",
     "shell.execute_reply": "2025-07-23T13:00:27.334668Z"
    },
    "papermill": {
     "duration": 0.960513,
     "end_time": "2025-07-23T13:00:27.337577",
     "exception": false,
     "start_time": "2025-07-23T13:00:26.377064",
     "status": "completed"
    },
    "tags": []
   },
   "outputs": [],
   "source": [
    "from fairness_multiverse.conformal import evaluate_sets\n",
    "\n",
    "# Evaluate coverage and average set size on test data\n",
    "metrics = evaluate_sets(pred_sets, y_true)"
   ]
  },
  {
   "cell_type": "code",
   "execution_count": 40,
   "id": "5ce0a5cb-201f-45a0-ade5-94c7f0bd6095",
   "metadata": {
    "execution": {
     "iopub.execute_input": "2025-07-23T13:00:27.374702Z",
     "iopub.status.busy": "2025-07-23T13:00:27.374147Z",
     "iopub.status.idle": "2025-07-23T13:00:27.382079Z",
     "shell.execute_reply": "2025-07-23T13:00:27.381021Z"
    },
    "papermill": {
     "duration": 0.032353,
     "end_time": "2025-07-23T13:00:27.384346",
     "exception": false,
     "start_time": "2025-07-23T13:00:27.351993",
     "status": "completed"
    },
    "tags": []
   },
   "outputs": [
    {
     "data": {
      "text/plain": [
       "{'coverage': 0.9144576970237431, 'avg_size': 1.1418793891427934}"
      ]
     },
     "execution_count": 40,
     "metadata": {},
     "output_type": "execute_result"
    }
   ],
   "source": [
    "metrics"
   ]
  },
  {
   "cell_type": "code",
   "execution_count": 41,
   "id": "9b9a838d-31c9-430b-ae14-12baee460d17",
   "metadata": {
    "execution": {
     "iopub.execute_input": "2025-07-23T13:00:27.415638Z",
     "iopub.status.busy": "2025-07-23T13:00:27.415270Z",
     "iopub.status.idle": "2025-07-23T13:00:27.420501Z",
     "shell.execute_reply": "2025-07-23T13:00:27.419461Z"
    },
    "papermill": {
     "duration": 0.019721,
     "end_time": "2025-07-23T13:00:27.421990",
     "exception": false,
     "start_time": "2025-07-23T13:00:27.402269",
     "status": "completed"
    },
    "tags": []
   },
   "outputs": [],
   "source": [
    "example_universe = universe.copy()\n",
    "universe_model = example_universe.get(\"model\")\n",
    "universe_exclude_features = example_universe.get(\"exclude_features\")\n",
    "universe_exclude_subgroups = example_universe.get(\"exclude_subgroups\")\n",
    "universe_scale = example_universe.get(\"scale\")"
   ]
  },
  {
   "cell_type": "code",
   "execution_count": 42,
   "id": "f4b6a8ac-9dc0-4245-8a91-5b3b5999c4f9",
   "metadata": {
    "execution": {
     "iopub.execute_input": "2025-07-23T13:00:27.447099Z",
     "iopub.status.busy": "2025-07-23T13:00:27.446346Z",
     "iopub.status.idle": "2025-07-23T13:00:27.452012Z",
     "shell.execute_reply": "2025-07-23T13:00:27.451226Z"
    },
    "papermill": {
     "duration": 0.019448,
     "end_time": "2025-07-23T13:00:27.453473",
     "exception": false,
     "start_time": "2025-07-23T13:00:27.434025",
     "status": "completed"
    },
    "tags": []
   },
   "outputs": [],
   "source": [
    "cp_metrics_dict = {\n",
    "    \"universe_id\": [universe_id],\n",
    "    \"universe_model\": [universe_model],\n",
    "    \"universe_exclude_features\": [universe_exclude_features],\n",
    "    \"universe_exclude_subgroups\": [universe_exclude_subgroups],\n",
    "    \"universe_scale\": [universe_scale],\n",
    "    \"q_hat\": [q_hat],\n",
    "    \"coverage\": [metrics[\"coverage\"]],\n",
    "    \"avg_size\": [metrics[\"avg_size\"]],\n",
    "}"
   ]
  },
  {
   "cell_type": "code",
   "execution_count": 43,
   "id": "908acbb1-0371-4915-85ca-3fa520d2efe2",
   "metadata": {
    "execution": {
     "iopub.execute_input": "2025-07-23T13:00:27.479008Z",
     "iopub.status.busy": "2025-07-23T13:00:27.478469Z",
     "iopub.status.idle": "2025-07-23T13:00:27.485286Z",
     "shell.execute_reply": "2025-07-23T13:00:27.484487Z"
    },
    "papermill": {
     "duration": 0.020926,
     "end_time": "2025-07-23T13:00:27.486681",
     "exception": false,
     "start_time": "2025-07-23T13:00:27.465755",
     "status": "completed"
    },
    "tags": []
   },
   "outputs": [
    {
     "data": {
      "text/plain": [
       "{'universe_id': ['9f7eaa655a0040c6f967a066a8bb55b8'],\n",
       " 'universe_model': ['rf'],\n",
       " 'universe_exclude_features': ['age'],\n",
       " 'universe_exclude_subgroups': ['keep-all'],\n",
       " 'universe_scale': ['do-not-scale'],\n",
       " 'q_hat': [0.6599999999999999],\n",
       " 'coverage': [0.9144576970237431],\n",
       " 'avg_size': [1.1418793891427934]}"
      ]
     },
     "execution_count": 43,
     "metadata": {},
     "output_type": "execute_result"
    }
   ],
   "source": [
    "cp_metrics_dict"
   ]
  },
  {
   "cell_type": "code",
   "execution_count": 44,
   "id": "33007efc-14e9-4ec6-97ac-56a455c82265",
   "metadata": {
    "execution": {
     "iopub.execute_input": "2025-07-23T13:00:27.512490Z",
     "iopub.status.busy": "2025-07-23T13:00:27.511673Z",
     "iopub.status.idle": "2025-07-23T13:00:27.517772Z",
     "shell.execute_reply": "2025-07-23T13:00:27.516996Z"
    },
    "papermill": {
     "duration": 0.02017,
     "end_time": "2025-07-23T13:00:27.519285",
     "exception": false,
     "start_time": "2025-07-23T13:00:27.499115",
     "status": "completed"
    },
    "tags": []
   },
   "outputs": [],
   "source": [
    "cp_metrics_df = pd.DataFrame(cp_metrics_dict)"
   ]
  },
  {
   "cell_type": "code",
   "execution_count": 45,
   "id": "db12611b-57b2-4910-b9d0-355adfd6e7bf",
   "metadata": {
    "execution": {
     "iopub.execute_input": "2025-07-23T13:00:27.545466Z",
     "iopub.status.busy": "2025-07-23T13:00:27.544699Z",
     "iopub.status.idle": "2025-07-23T13:00:27.559850Z",
     "shell.execute_reply": "2025-07-23T13:00:27.559083Z"
    },
    "papermill": {
     "duration": 0.029715,
     "end_time": "2025-07-23T13:00:27.561321",
     "exception": false,
     "start_time": "2025-07-23T13:00:27.531606",
     "status": "completed"
    },
    "tags": []
   },
   "outputs": [
    {
     "data": {
      "text/html": [
       "<div>\n",
       "<style scoped>\n",
       "    .dataframe tbody tr th:only-of-type {\n",
       "        vertical-align: middle;\n",
       "    }\n",
       "\n",
       "    .dataframe tbody tr th {\n",
       "        vertical-align: top;\n",
       "    }\n",
       "\n",
       "    .dataframe thead th {\n",
       "        text-align: right;\n",
       "    }\n",
       "</style>\n",
       "<table border=\"1\" class=\"dataframe\">\n",
       "  <thead>\n",
       "    <tr style=\"text-align: right;\">\n",
       "      <th></th>\n",
       "      <th>universe_id</th>\n",
       "      <th>universe_model</th>\n",
       "      <th>universe_exclude_features</th>\n",
       "      <th>universe_exclude_subgroups</th>\n",
       "      <th>universe_scale</th>\n",
       "      <th>q_hat</th>\n",
       "      <th>coverage</th>\n",
       "      <th>avg_size</th>\n",
       "    </tr>\n",
       "  </thead>\n",
       "  <tbody>\n",
       "    <tr>\n",
       "      <th>0</th>\n",
       "      <td>9f7eaa655a0040c6f967a066a8bb55b8</td>\n",
       "      <td>rf</td>\n",
       "      <td>age</td>\n",
       "      <td>keep-all</td>\n",
       "      <td>do-not-scale</td>\n",
       "      <td>0.66</td>\n",
       "      <td>0.914458</td>\n",
       "      <td>1.141879</td>\n",
       "    </tr>\n",
       "  </tbody>\n",
       "</table>\n",
       "</div>"
      ],
      "text/plain": [
       "                        universe_id universe_model universe_exclude_features  \\\n",
       "0  9f7eaa655a0040c6f967a066a8bb55b8             rf                       age   \n",
       "\n",
       "  universe_exclude_subgroups universe_scale  q_hat  coverage  avg_size  \n",
       "0                   keep-all   do-not-scale   0.66  0.914458  1.141879  "
      ]
     },
     "execution_count": 45,
     "metadata": {},
     "output_type": "execute_result"
    }
   ],
   "source": [
    "cp_metrics_df"
   ]
  },
  {
   "cell_type": "code",
   "execution_count": 46,
   "id": "b7fbde55-a0a1-47e4-9af6-fe4a17fa8c61",
   "metadata": {
    "execution": {
     "iopub.execute_input": "2025-07-23T13:00:27.586536Z",
     "iopub.status.busy": "2025-07-23T13:00:27.586001Z",
     "iopub.status.idle": "2025-07-23T13:00:27.590855Z",
     "shell.execute_reply": "2025-07-23T13:00:27.590086Z"
    },
    "papermill": {
     "duration": 0.018829,
     "end_time": "2025-07-23T13:00:27.592220",
     "exception": false,
     "start_time": "2025-07-23T13:00:27.573391",
     "status": "completed"
    },
    "tags": []
   },
   "outputs": [],
   "source": [
    "# Conditional Coverage & looking at subgroups"
   ]
  },
  {
   "cell_type": "code",
   "execution_count": 47,
   "id": "027ae886-68dd-4141-96c7-805a5450e1ef",
   "metadata": {
    "execution": {
     "iopub.execute_input": "2025-07-23T13:00:27.618551Z",
     "iopub.status.busy": "2025-07-23T13:00:27.617799Z",
     "iopub.status.idle": "2025-07-23T13:00:27.822110Z",
     "shell.execute_reply": "2025-07-23T13:00:27.821297Z"
    },
    "papermill": {
     "duration": 0.218792,
     "end_time": "2025-07-23T13:00:27.823636",
     "exception": false,
     "start_time": "2025-07-23T13:00:27.604844",
     "status": "completed"
    },
    "tags": []
   },
   "outputs": [],
   "source": [
    "from fairness_multiverse.conformal import build_cp_groups\n",
    "\n",
    "cp_groups_df = build_cp_groups(pred_sets, y_true, X_test.index, org_test)\n",
    "#needs universe_id and setting"
   ]
  },
  {
   "cell_type": "code",
   "execution_count": 48,
   "id": "c3b92545-903e-4839-89af-0f057907d7d6",
   "metadata": {
    "execution": {
     "iopub.execute_input": "2025-07-23T13:00:27.848658Z",
     "iopub.status.busy": "2025-07-23T13:00:27.848286Z",
     "iopub.status.idle": "2025-07-23T13:00:29.587238Z",
     "shell.execute_reply": "2025-07-23T13:00:29.586275Z"
    },
    "papermill": {
     "duration": 1.753796,
     "end_time": "2025-07-23T13:00:29.589617",
     "exception": false,
     "start_time": "2025-07-23T13:00:27.835821",
     "status": "completed"
    },
    "tags": []
   },
   "outputs": [],
   "source": [
    "# Define covered = 1 if true_label is in the predicted set\n",
    "cp_groups_df['covered'] = cp_groups_df.apply(\n",
    "    lambda r: int(r['true_label'] in r['pred_set']),\n",
    "    axis=1\n",
    ")"
   ]
  },
  {
   "cell_type": "code",
   "execution_count": 49,
   "id": "338ff529-1a6b-4b87-a931-8e4788d52aad",
   "metadata": {
    "execution": {
     "iopub.execute_input": "2025-07-23T13:00:29.658963Z",
     "iopub.status.busy": "2025-07-23T13:00:29.658487Z",
     "iopub.status.idle": "2025-07-23T13:00:29.663972Z",
     "shell.execute_reply": "2025-07-23T13:00:29.662950Z"
    },
    "papermill": {
     "duration": 0.037872,
     "end_time": "2025-07-23T13:00:29.671136",
     "exception": false,
     "start_time": "2025-07-23T13:00:29.633264",
     "status": "completed"
    },
    "tags": []
   },
   "outputs": [],
   "source": [
    "#cp_groups_df"
   ]
  },
  {
   "cell_type": "code",
   "execution_count": 50,
   "id": "90032e27-66df-4540-9169-4e89cfbaa758",
   "metadata": {
    "execution": {
     "iopub.execute_input": "2025-07-23T13:00:29.787150Z",
     "iopub.status.busy": "2025-07-23T13:00:29.786722Z",
     "iopub.status.idle": "2025-07-23T13:00:29.813128Z",
     "shell.execute_reply": "2025-07-23T13:00:29.811959Z"
    },
    "papermill": {
     "duration": 0.082672,
     "end_time": "2025-07-23T13:00:29.815431",
     "exception": false,
     "start_time": "2025-07-23T13:00:29.732759",
     "status": "completed"
    },
    "tags": []
   },
   "outputs": [],
   "source": [
    "subgroups = ['frau1','nongerman','nongerman_male','nongerman_female']\n",
    "\n",
    "# Conditional coverage for subgroup==1\n",
    "cond_coverage = {\n",
    "    g: cp_groups_df.loc[cp_groups_df[g]==1, 'covered'].mean()\n",
    "    for g in subgroups\n",
    "}"
   ]
  },
  {
   "cell_type": "code",
   "execution_count": 51,
   "id": "1e348fb1-b9c3-45bc-ba23-f016827a7e0d",
   "metadata": {
    "execution": {
     "iopub.execute_input": "2025-07-23T13:00:29.892239Z",
     "iopub.status.busy": "2025-07-23T13:00:29.891827Z",
     "iopub.status.idle": "2025-07-23T13:00:29.899596Z",
     "shell.execute_reply": "2025-07-23T13:00:29.898646Z"
    },
    "papermill": {
     "duration": 0.05154,
     "end_time": "2025-07-23T13:00:29.904592",
     "exception": false,
     "start_time": "2025-07-23T13:00:29.853052",
     "status": "completed"
    },
    "tags": []
   },
   "outputs": [
    {
     "data": {
      "text/plain": [
       "{'frau1': 0.9132497641191535,\n",
       " 'nongerman': 0.9097288497164991,\n",
       " 'nongerman_male': 0.924795100423309,\n",
       " 'nongerman_female': 0.8847988077496274}"
      ]
     },
     "execution_count": 51,
     "metadata": {},
     "output_type": "execute_result"
    }
   ],
   "source": [
    "cond_coverage"
   ]
  },
  {
   "cell_type": "code",
   "execution_count": 52,
   "id": "f5093324-c3dd-4d63-bc4c-8d945e5c8bbb",
   "metadata": {
    "execution": {
     "iopub.execute_input": "2025-07-23T13:00:29.981532Z",
     "iopub.status.busy": "2025-07-23T13:00:29.980971Z",
     "iopub.status.idle": "2025-07-23T13:00:29.989623Z",
     "shell.execute_reply": "2025-07-23T13:00:29.988511Z"
    },
    "papermill": {
     "duration": 0.03563,
     "end_time": "2025-07-23T13:00:29.993175",
     "exception": false,
     "start_time": "2025-07-23T13:00:29.957545",
     "status": "completed"
    },
    "tags": []
   },
   "outputs": [],
   "source": [
    "for subgroup, cov in cond_coverage.items():\n",
    "    cp_metrics_df[f\"cov_{subgroup}\"] = cov"
   ]
  },
  {
   "cell_type": "code",
   "execution_count": 53,
   "id": "6e872e10-dbe5-49e8-b554-5030c98ff75d",
   "metadata": {
    "execution": {
     "iopub.execute_input": "2025-07-23T13:00:30.050665Z",
     "iopub.status.busy": "2025-07-23T13:00:30.050245Z",
     "iopub.status.idle": "2025-07-23T13:00:30.095095Z",
     "shell.execute_reply": "2025-07-23T13:00:30.094016Z"
    },
    "papermill": {
     "duration": 0.084403,
     "end_time": "2025-07-23T13:00:30.097700",
     "exception": false,
     "start_time": "2025-07-23T13:00:30.013297",
     "status": "completed"
    },
    "tags": []
   },
   "outputs": [
    {
     "data": {
      "text/html": [
       "<div>\n",
       "<style scoped>\n",
       "    .dataframe tbody tr th:only-of-type {\n",
       "        vertical-align: middle;\n",
       "    }\n",
       "\n",
       "    .dataframe tbody tr th {\n",
       "        vertical-align: top;\n",
       "    }\n",
       "\n",
       "    .dataframe thead th {\n",
       "        text-align: right;\n",
       "    }\n",
       "</style>\n",
       "<table border=\"1\" class=\"dataframe\">\n",
       "  <thead>\n",
       "    <tr style=\"text-align: right;\">\n",
       "      <th></th>\n",
       "      <th>universe_id</th>\n",
       "      <th>universe_model</th>\n",
       "      <th>universe_exclude_features</th>\n",
       "      <th>universe_exclude_subgroups</th>\n",
       "      <th>universe_scale</th>\n",
       "      <th>q_hat</th>\n",
       "      <th>coverage</th>\n",
       "      <th>avg_size</th>\n",
       "      <th>cov_frau1</th>\n",
       "      <th>cov_nongerman</th>\n",
       "      <th>cov_nongerman_male</th>\n",
       "      <th>cov_nongerman_female</th>\n",
       "    </tr>\n",
       "  </thead>\n",
       "  <tbody>\n",
       "    <tr>\n",
       "      <th>0</th>\n",
       "      <td>9f7eaa655a0040c6f967a066a8bb55b8</td>\n",
       "      <td>rf</td>\n",
       "      <td>age</td>\n",
       "      <td>keep-all</td>\n",
       "      <td>do-not-scale</td>\n",
       "      <td>0.66</td>\n",
       "      <td>0.914458</td>\n",
       "      <td>1.141879</td>\n",
       "      <td>0.91325</td>\n",
       "      <td>0.909729</td>\n",
       "      <td>0.924795</td>\n",
       "      <td>0.884799</td>\n",
       "    </tr>\n",
       "  </tbody>\n",
       "</table>\n",
       "</div>"
      ],
      "text/plain": [
       "                        universe_id universe_model universe_exclude_features  \\\n",
       "0  9f7eaa655a0040c6f967a066a8bb55b8             rf                       age   \n",
       "\n",
       "  universe_exclude_subgroups universe_scale  q_hat  coverage  avg_size  \\\n",
       "0                   keep-all   do-not-scale   0.66  0.914458  1.141879   \n",
       "\n",
       "   cov_frau1  cov_nongerman  cov_nongerman_male  cov_nongerman_female  \n",
       "0    0.91325       0.909729            0.924795              0.884799  "
      ]
     },
     "execution_count": 53,
     "metadata": {},
     "output_type": "execute_result"
    }
   ],
   "source": [
    "cp_metrics_df"
   ]
  },
  {
   "cell_type": "markdown",
   "id": "33774451",
   "metadata": {
    "papermill": {
     "duration": 0.056112,
     "end_time": "2025-07-23T13:00:30.201274",
     "exception": false,
     "start_time": "2025-07-23T13:00:30.145162",
     "status": "completed"
    },
    "tags": []
   },
   "source": [
    "# (Fairness) Metrics"
   ]
  },
  {
   "cell_type": "code",
   "execution_count": 54,
   "id": "debc5d62",
   "metadata": {
    "execution": {
     "iopub.execute_input": "2025-07-23T13:00:30.253158Z",
     "iopub.status.busy": "2025-07-23T13:00:30.252732Z",
     "iopub.status.idle": "2025-07-23T13:00:30.290518Z",
     "shell.execute_reply": "2025-07-23T13:00:30.289325Z"
    },
    "papermill": {
     "duration": 0.066952,
     "end_time": "2025-07-23T13:00:30.292890",
     "exception": false,
     "start_time": "2025-07-23T13:00:30.225938",
     "status": "completed"
    },
    "tags": []
   },
   "outputs": [],
   "source": [
    "# do I need to include maxdeutsch1.missing?\n",
    "\n",
    "import numpy as np\n",
    "\n",
    "colname_to_bin = \"maxdeutsch1\"\n",
    "majority_value = org_train[colname_to_bin].mode()[0]\n",
    "\n",
    "org_test[\"majmin\"] = np.where(org_test[colname_to_bin] == majority_value, \"majority\", \"minority\")"
   ]
  },
  {
   "cell_type": "code",
   "execution_count": 55,
   "id": "06a50de5",
   "metadata": {
    "execution": {
     "iopub.execute_input": "2025-07-23T13:00:30.359189Z",
     "iopub.status.busy": "2025-07-23T13:00:30.358721Z",
     "iopub.status.idle": "2025-07-23T13:00:33.929958Z",
     "shell.execute_reply": "2025-07-23T13:00:33.928646Z"
    },
    "papermill": {
     "duration": 3.613462,
     "end_time": "2025-07-23T13:00:33.931890",
     "exception": false,
     "start_time": "2025-07-23T13:00:30.318428",
     "status": "completed"
    },
    "tags": []
   },
   "outputs": [],
   "source": [
    "example_universe = universe.copy()\n",
    "example_universe[\"cutoff\"] = example_universe[\"cutoff\"][0]\n",
    "example_universe[\"eval_fairness_grouping\"] = example_universe[\"eval_fairness_grouping\"][0]\n",
    "fairness_dict, metric_frame = universe_analysis.compute_metrics(\n",
    "    example_universe,\n",
    "    y_pred_prob=probs_test,\n",
    "    y_test=y_true,\n",
    "    org_test=org_test,\n",
    ")"
   ]
  },
  {
   "cell_type": "markdown",
   "id": "f95d4e02",
   "metadata": {
    "papermill": {
     "duration": 0.051507,
     "end_time": "2025-07-23T13:00:34.029271",
     "exception": false,
     "start_time": "2025-07-23T13:00:33.977764",
     "status": "completed"
    },
    "tags": []
   },
   "source": [
    "# Overall"
   ]
  },
  {
   "cell_type": "markdown",
   "id": "bdee4871",
   "metadata": {
    "papermill": {
     "duration": 0.047025,
     "end_time": "2025-07-23T13:00:34.132205",
     "exception": false,
     "start_time": "2025-07-23T13:00:34.085180",
     "status": "completed"
    },
    "tags": []
   },
   "source": [
    "Fairness\n",
    "Main fairness target: Equalized Odds. Seems to be a better fit than equal opportunity, since we're not only interested in Y = 1. Seems to be a better fit than demographic parity, since we also care about accuracy, not just equal distribution of preds.\n",
    "\n",
    "Pick column for computation of fairness metrics\n",
    "\n",
    "Performance\n",
    "Overall performance measures, most interesting in relation to the measures split by group below"
   ]
  },
  {
   "cell_type": "code",
   "execution_count": 56,
   "id": "c4e067c6",
   "metadata": {
    "execution": {
     "iopub.execute_input": "2025-07-23T13:00:34.239257Z",
     "iopub.status.busy": "2025-07-23T13:00:34.238741Z",
     "iopub.status.idle": "2025-07-23T13:00:34.248104Z",
     "shell.execute_reply": "2025-07-23T13:00:34.247142Z"
    },
    "papermill": {
     "duration": 0.062068,
     "end_time": "2025-07-23T13:00:34.249666",
     "exception": false,
     "start_time": "2025-07-23T13:00:34.187598",
     "status": "completed"
    },
    "tags": []
   },
   "outputs": [
    {
     "data": {
      "text/plain": [
       "accuracy                   0.219507\n",
       "balanced accuracy          0.543211\n",
       "f1                         0.243392\n",
       "precision                  0.138979\n",
       "false positive rate        0.892202\n",
       "false negative rate        0.021376\n",
       "selection rate             0.903288\n",
       "count                  89710.000000\n",
       "dtype: float64"
      ]
     },
     "execution_count": 56,
     "metadata": {},
     "output_type": "execute_result"
    }
   ],
   "source": [
    "metric_frame.overall"
   ]
  },
  {
   "cell_type": "markdown",
   "id": "e968fe9d",
   "metadata": {
    "papermill": {
     "duration": 0.025607,
     "end_time": "2025-07-23T13:00:34.346286",
     "exception": false,
     "start_time": "2025-07-23T13:00:34.320679",
     "status": "completed"
    },
    "tags": []
   },
   "source": [
    "By Group"
   ]
  },
  {
   "cell_type": "code",
   "execution_count": 57,
   "id": "ec325bce",
   "metadata": {
    "execution": {
     "iopub.execute_input": "2025-07-23T13:00:34.387966Z",
     "iopub.status.busy": "2025-07-23T13:00:34.387521Z",
     "iopub.status.idle": "2025-07-23T13:00:34.405761Z",
     "shell.execute_reply": "2025-07-23T13:00:34.404682Z"
    },
    "papermill": {
     "duration": 0.047151,
     "end_time": "2025-07-23T13:00:34.407605",
     "exception": false,
     "start_time": "2025-07-23T13:00:34.360454",
     "status": "completed"
    },
    "tags": []
   },
   "outputs": [
    {
     "data": {
      "text/html": [
       "<div>\n",
       "<style scoped>\n",
       "    .dataframe tbody tr th:only-of-type {\n",
       "        vertical-align: middle;\n",
       "    }\n",
       "\n",
       "    .dataframe tbody tr th {\n",
       "        vertical-align: top;\n",
       "    }\n",
       "\n",
       "    .dataframe thead th {\n",
       "        text-align: right;\n",
       "    }\n",
       "</style>\n",
       "<table border=\"1\" class=\"dataframe\">\n",
       "  <thead>\n",
       "    <tr style=\"text-align: right;\">\n",
       "      <th></th>\n",
       "      <th>accuracy</th>\n",
       "      <th>balanced accuracy</th>\n",
       "      <th>f1</th>\n",
       "      <th>precision</th>\n",
       "      <th>false positive rate</th>\n",
       "      <th>false negative rate</th>\n",
       "      <th>selection rate</th>\n",
       "      <th>count</th>\n",
       "    </tr>\n",
       "    <tr>\n",
       "      <th>majmin</th>\n",
       "      <th></th>\n",
       "      <th></th>\n",
       "      <th></th>\n",
       "      <th></th>\n",
       "      <th></th>\n",
       "      <th></th>\n",
       "      <th></th>\n",
       "      <th></th>\n",
       "    </tr>\n",
       "  </thead>\n",
       "  <tbody>\n",
       "    <tr>\n",
       "      <th>majority</th>\n",
       "      <td>0.215513</td>\n",
       "      <td>0.542377</td>\n",
       "      <td>0.249464</td>\n",
       "      <td>0.142783</td>\n",
       "      <td>0.901899</td>\n",
       "      <td>0.013348</td>\n",
       "      <td>0.913098</td>\n",
       "      <td>69170.0</td>\n",
       "    </tr>\n",
       "    <tr>\n",
       "      <th>minority</th>\n",
       "      <td>0.232960</td>\n",
       "      <td>0.543733</td>\n",
       "      <td>0.221706</td>\n",
       "      <td>0.125538</td>\n",
       "      <td>0.860169</td>\n",
       "      <td>0.052365</td>\n",
       "      <td>0.870253</td>\n",
       "      <td>20540.0</td>\n",
       "    </tr>\n",
       "  </tbody>\n",
       "</table>\n",
       "</div>"
      ],
      "text/plain": [
       "          accuracy  balanced accuracy        f1  precision  \\\n",
       "majmin                                                       \n",
       "majority  0.215513           0.542377  0.249464   0.142783   \n",
       "minority  0.232960           0.543733  0.221706   0.125538   \n",
       "\n",
       "          false positive rate  false negative rate  selection rate    count  \n",
       "majmin                                                                       \n",
       "majority             0.901899             0.013348        0.913098  69170.0  \n",
       "minority             0.860169             0.052365        0.870253  20540.0  "
      ]
     },
     "execution_count": 57,
     "metadata": {},
     "output_type": "execute_result"
    }
   ],
   "source": [
    "metric_frame.by_group"
   ]
  },
  {
   "cell_type": "code",
   "execution_count": 58,
   "id": "a9ddbe63",
   "metadata": {
    "execution": {
     "iopub.execute_input": "2025-07-23T13:00:34.459292Z",
     "iopub.status.busy": "2025-07-23T13:00:34.458332Z",
     "iopub.status.idle": "2025-07-23T13:00:37.249091Z",
     "shell.execute_reply": "2025-07-23T13:00:37.247893Z"
    },
    "papermill": {
     "duration": 2.815137,
     "end_time": "2025-07-23T13:00:37.250883",
     "exception": false,
     "start_time": "2025-07-23T13:00:34.435746",
     "status": "completed"
    },
    "tags": []
   },
   "outputs": [
    {
     "data": {
      "text/plain": [
       "array([[<Axes: title={'center': 'accuracy'}, xlabel='majmin'>,\n",
       "        <Axes: title={'center': 'balanced accuracy'}, xlabel='majmin'>,\n",
       "        <Axes: title={'center': 'f1'}, xlabel='majmin'>],\n",
       "       [<Axes: title={'center': 'precision'}, xlabel='majmin'>,\n",
       "        <Axes: title={'center': 'false positive rate'}, xlabel='majmin'>,\n",
       "        <Axes: title={'center': 'false negative rate'}, xlabel='majmin'>],\n",
       "       [<Axes: title={'center': 'selection rate'}, xlabel='majmin'>,\n",
       "        <Axes: title={'center': 'count'}, xlabel='majmin'>,\n",
       "        <Axes: xlabel='majmin'>]], dtype=object)"
      ]
     },
     "execution_count": 58,
     "metadata": {},
     "output_type": "execute_result"
    },
    {
     "data": {
      "image/png": "[encoded data removed]",
      "text/plain": [
       "<Figure size 1200x800 with 9 Axes>"
      ]
     },
     "metadata": {},
     "output_type": "display_data"
    }
   ],
   "source": [
    "# In a graphic\n",
    "metric_frame.by_group.plot.bar(\n",
    "    subplots=True,\n",
    "    layout=[3, 3],\n",
    "    legend=False,\n",
    "    figsize=[12, 8],\n",
    "    title=\"Show all metrics\",\n",
    ")"
   ]
  },
  {
   "cell_type": "markdown",
   "id": "f57a0bac",
   "metadata": {
    "papermill": {
     "duration": 0.026975,
     "end_time": "2025-07-23T13:00:37.303384",
     "exception": false,
     "start_time": "2025-07-23T13:00:37.276409",
     "status": "completed"
    },
    "tags": []
   },
   "source": [
    "# Final Output"
   ]
  },
  {
   "cell_type": "code",
   "execution_count": 59,
   "id": "96d280a3",
   "metadata": {
    "execution": {
     "iopub.execute_input": "2025-07-23T13:00:37.357780Z",
     "iopub.status.busy": "2025-07-23T13:00:37.356923Z",
     "iopub.status.idle": "2025-07-23T13:00:37.367253Z",
     "shell.execute_reply": "2025-07-23T13:00:37.366093Z"
    },
    "papermill": {
     "duration": 0.040464,
     "end_time": "2025-07-23T13:00:37.368932",
     "exception": false,
     "start_time": "2025-07-23T13:00:37.328468",
     "status": "completed"
    },
    "tags": []
   },
   "outputs": [
    {
     "data": {
      "text/plain": [
       "4"
      ]
     },
     "execution_count": 59,
     "metadata": {},
     "output_type": "execute_result"
    }
   ],
   "source": [
    "sub_universes = universe_analysis.generate_sub_universes()\n",
    "len(sub_universes)"
   ]
  },
  {
   "cell_type": "code",
   "execution_count": 60,
   "id": "92adf7ba",
   "metadata": {
    "execution": {
     "iopub.execute_input": "2025-07-23T13:00:37.423343Z",
     "iopub.status.busy": "2025-07-23T13:00:37.422401Z",
     "iopub.status.idle": "2025-07-23T13:00:37.429253Z",
     "shell.execute_reply": "2025-07-23T13:00:37.428196Z"
    },
    "papermill": {
     "duration": 0.036758,
     "end_time": "2025-07-23T13:00:37.430893",
     "exception": false,
     "start_time": "2025-07-23T13:00:37.394135",
     "status": "completed"
    },
    "tags": []
   },
   "outputs": [],
   "source": [
    "def filter_sub_universe_data(sub_universe, org_test):\n",
    "    # Keep all rows — no filtering\n",
    "    keep_rows_mask = np.ones(org_test.shape[0], dtype=bool)\n",
    "\n",
    "    print(f\"[INFO] Keeping all rows: {keep_rows_mask.sum()} rows retained.\")\n",
    "    return keep_rows_mask"
   ]
  },
  {
   "cell_type": "code",
   "execution_count": 61,
   "id": "4a759155",
   "metadata": {
    "execution": {
     "iopub.execute_input": "2025-07-23T13:00:37.484585Z",
     "iopub.status.busy": "2025-07-23T13:00:37.484051Z",
     "iopub.status.idle": "2025-07-23T13:00:48.231717Z",
     "shell.execute_reply": "2025-07-23T13:00:48.230554Z"
    },
    "papermill": {
     "duration": 10.777382,
     "end_time": "2025-07-23T13:00:48.233552",
     "exception": false,
     "start_time": "2025-07-23T13:00:37.456170",
     "status": "completed"
    },
    "tags": []
   },
   "outputs": [
    {
     "name": "stdout",
     "output_type": "stream",
     "text": [
      "Stopping execution_time clock.\n",
      "[INFO] Keeping all rows: 89710 rows retained.\n"
     ]
    },
    {
     "name": "stdout",
     "output_type": "stream",
     "text": [
      "[INFO] Keeping all rows: 89710 rows retained.\n"
     ]
    },
    {
     "name": "stdout",
     "output_type": "stream",
     "text": [
      "[INFO] Keeping all rows: 89710 rows retained.\n"
     ]
    },
    {
     "name": "stdout",
     "output_type": "stream",
     "text": [
      "[INFO] Keeping all rows: 89710 rows retained.\n"
     ]
    },
    {
     "data": {
      "text/html": [
       "<div>\n",
       "<style scoped>\n",
       "    .dataframe tbody tr th:only-of-type {\n",
       "        vertical-align: middle;\n",
       "    }\n",
       "\n",
       "    .dataframe tbody tr th {\n",
       "        vertical-align: top;\n",
       "    }\n",
       "\n",
       "    .dataframe thead th {\n",
       "        text-align: right;\n",
       "    }\n",
       "</style>\n",
       "<table border=\"1\" class=\"dataframe\">\n",
       "  <thead>\n",
       "    <tr style=\"text-align: right;\">\n",
       "      <th></th>\n",
       "      <th>run_no</th>\n",
       "      <th>universe_id</th>\n",
       "      <th>universe_settings</th>\n",
       "      <th>execution_time</th>\n",
       "      <th>test_size_n</th>\n",
       "      <th>test_size_frac</th>\n",
       "      <th>fair_main_equalized_odds_difference</th>\n",
       "      <th>fair_main_equalized_odds_ratio</th>\n",
       "      <th>fair_main_demographic_parity_difference</th>\n",
       "      <th>fair_main_demographic_parity_ratio</th>\n",
       "      <th>...</th>\n",
       "      <th>perf_grp_precision_0</th>\n",
       "      <th>perf_grp_precision_1</th>\n",
       "      <th>perf_grp_false positive rate_0</th>\n",
       "      <th>perf_grp_false positive rate_1</th>\n",
       "      <th>perf_grp_false negative rate_0</th>\n",
       "      <th>perf_grp_false negative rate_1</th>\n",
       "      <th>perf_grp_selection rate_0</th>\n",
       "      <th>perf_grp_selection rate_1</th>\n",
       "      <th>perf_grp_count_0</th>\n",
       "      <th>perf_grp_count_1</th>\n",
       "    </tr>\n",
       "  </thead>\n",
       "  <tbody>\n",
       "    <tr>\n",
       "      <th>0</th>\n",
       "      <td>6</td>\n",
       "      <td>9f7eaa655a0040c6f967a066a8bb55b8</td>\n",
       "      <td>{\"cutoff\": \"quantile_0.1\", \"eval_fairness_grou...</td>\n",
       "      <td>24.775487</td>\n",
       "      <td>89710</td>\n",
       "      <td>1.0</td>\n",
       "      <td>0.041730</td>\n",
       "      <td>0.953731</td>\n",
       "      <td>0.042845</td>\n",
       "      <td>0.953077</td>\n",
       "      <td>...</td>\n",
       "      <td>NaN</td>\n",
       "      <td>NaN</td>\n",
       "      <td>NaN</td>\n",
       "      <td>NaN</td>\n",
       "      <td>NaN</td>\n",
       "      <td>NaN</td>\n",
       "      <td>NaN</td>\n",
       "      <td>NaN</td>\n",
       "      <td>NaN</td>\n",
       "      <td>NaN</td>\n",
       "    </tr>\n",
       "    <tr>\n",
       "      <th>0</th>\n",
       "      <td>6</td>\n",
       "      <td>9f7eaa655a0040c6f967a066a8bb55b8</td>\n",
       "      <td>{\"cutoff\": \"quantile_0.1\", \"eval_fairness_grou...</td>\n",
       "      <td>24.775487</td>\n",
       "      <td>89710</td>\n",
       "      <td>1.0</td>\n",
       "      <td>0.041730</td>\n",
       "      <td>0.953731</td>\n",
       "      <td>0.042845</td>\n",
       "      <td>0.953077</td>\n",
       "      <td>...</td>\n",
       "      <td>0.125538</td>\n",
       "      <td>0.142783</td>\n",
       "      <td>0.860169</td>\n",
       "      <td>0.901899</td>\n",
       "      <td>0.052365</td>\n",
       "      <td>0.013348</td>\n",
       "      <td>0.870253</td>\n",
       "      <td>0.913098</td>\n",
       "      <td>20540.0</td>\n",
       "      <td>69170.0</td>\n",
       "    </tr>\n",
       "    <tr>\n",
       "      <th>0</th>\n",
       "      <td>6</td>\n",
       "      <td>9f7eaa655a0040c6f967a066a8bb55b8</td>\n",
       "      <td>{\"cutoff\": \"quantile_0.25\", \"eval_fairness_gro...</td>\n",
       "      <td>24.775487</td>\n",
       "      <td>89710</td>\n",
       "      <td>1.0</td>\n",
       "      <td>0.069854</td>\n",
       "      <td>0.926529</td>\n",
       "      <td>0.044093</td>\n",
       "      <td>0.942721</td>\n",
       "      <td>...</td>\n",
       "      <td>NaN</td>\n",
       "      <td>NaN</td>\n",
       "      <td>NaN</td>\n",
       "      <td>NaN</td>\n",
       "      <td>NaN</td>\n",
       "      <td>NaN</td>\n",
       "      <td>NaN</td>\n",
       "      <td>NaN</td>\n",
       "      <td>NaN</td>\n",
       "      <td>NaN</td>\n",
       "    </tr>\n",
       "    <tr>\n",
       "      <th>0</th>\n",
       "      <td>6</td>\n",
       "      <td>9f7eaa655a0040c6f967a066a8bb55b8</td>\n",
       "      <td>{\"cutoff\": \"quantile_0.25\", \"eval_fairness_gro...</td>\n",
       "      <td>24.775487</td>\n",
       "      <td>89710</td>\n",
       "      <td>1.0</td>\n",
       "      <td>0.069854</td>\n",
       "      <td>0.926529</td>\n",
       "      <td>0.044093</td>\n",
       "      <td>0.942721</td>\n",
       "      <td>...</td>\n",
       "      <td>0.139944</td>\n",
       "      <td>0.163202</td>\n",
       "      <td>0.705481</td>\n",
       "      <td>0.742246</td>\n",
       "      <td>0.119088</td>\n",
       "      <td>0.049234</td>\n",
       "      <td>0.725706</td>\n",
       "      <td>0.769799</td>\n",
       "      <td>20540.0</td>\n",
       "      <td>69170.0</td>\n",
       "    </tr>\n",
       "  </tbody>\n",
       "</table>\n",
       "<p>4 rows × 50 columns</p>\n",
       "</div>"
      ],
      "text/plain": [
       "  run_no                       universe_id  \\\n",
       "0      6  9f7eaa655a0040c6f967a066a8bb55b8   \n",
       "0      6  9f7eaa655a0040c6f967a066a8bb55b8   \n",
       "0      6  9f7eaa655a0040c6f967a066a8bb55b8   \n",
       "0      6  9f7eaa655a0040c6f967a066a8bb55b8   \n",
       "\n",
       "                                   universe_settings  execution_time  \\\n",
       "0  {\"cutoff\": \"quantile_0.1\", \"eval_fairness_grou...       24.775487   \n",
       "0  {\"cutoff\": \"quantile_0.1\", \"eval_fairness_grou...       24.775487   \n",
       "0  {\"cutoff\": \"quantile_0.25\", \"eval_fairness_gro...       24.775487   \n",
       "0  {\"cutoff\": \"quantile_0.25\", \"eval_fairness_gro...       24.775487   \n",
       "\n",
       "   test_size_n  test_size_frac  fair_main_equalized_odds_difference  \\\n",
       "0        89710             1.0                             0.041730   \n",
       "0        89710             1.0                             0.041730   \n",
       "0        89710             1.0                             0.069854   \n",
       "0        89710             1.0                             0.069854   \n",
       "\n",
       "   fair_main_equalized_odds_ratio  fair_main_demographic_parity_difference  \\\n",
       "0                        0.953731                                 0.042845   \n",
       "0                        0.953731                                 0.042845   \n",
       "0                        0.926529                                 0.044093   \n",
       "0                        0.926529                                 0.044093   \n",
       "\n",
       "   fair_main_demographic_parity_ratio  ...  perf_grp_precision_0  \\\n",
       "0                            0.953077  ...                   NaN   \n",
       "0                            0.953077  ...              0.125538   \n",
       "0                            0.942721  ...                   NaN   \n",
       "0                            0.942721  ...              0.139944   \n",
       "\n",
       "   perf_grp_precision_1  perf_grp_false positive rate_0  \\\n",
       "0                   NaN                             NaN   \n",
       "0              0.142783                        0.860169   \n",
       "0                   NaN                             NaN   \n",
       "0              0.163202                        0.705481   \n",
       "\n",
       "   perf_grp_false positive rate_1  perf_grp_false negative rate_0  \\\n",
       "0                             NaN                             NaN   \n",
       "0                        0.901899                        0.052365   \n",
       "0                             NaN                             NaN   \n",
       "0                        0.742246                        0.119088   \n",
       "\n",
       "   perf_grp_false negative rate_1  perf_grp_selection rate_0  \\\n",
       "0                             NaN                        NaN   \n",
       "0                        0.013348                   0.870253   \n",
       "0                             NaN                        NaN   \n",
       "0                        0.049234                   0.725706   \n",
       "\n",
       "   perf_grp_selection rate_1  perf_grp_count_0  perf_grp_count_1  \n",
       "0                        NaN               NaN               NaN  \n",
       "0                   0.913098           20540.0           69170.0  \n",
       "0                        NaN               NaN               NaN  \n",
       "0                   0.769799           20540.0           69170.0  \n",
       "\n",
       "[4 rows x 50 columns]"
      ]
     },
     "execution_count": 61,
     "metadata": {},
     "output_type": "execute_result"
    }
   ],
   "source": [
    "final_output = universe_analysis.generate_final_output(\n",
    "    y_pred_prob=probs_test,\n",
    "    y_test=y_true,\n",
    "    org_test=org_test,\n",
    "    filter_data=filter_sub_universe_data,\n",
    "    cp_metrics_df=cp_metrics_df,\n",
    "    save=True,\n",
    ")\n",
    "final_output"
   ]
  },
  {
   "cell_type": "code",
   "execution_count": null,
   "id": "721ff514-cb11-46f8-b6fc-50392f74b5cb",
   "metadata": {
    "papermill": {
     "duration": 0.028484,
     "end_time": "2025-07-23T13:00:48.292707",
     "exception": false,
     "start_time": "2025-07-23T13:00:48.264223",
     "status": "completed"
    },
    "tags": []
   },
   "outputs": [],
   "source": []
  }
 ],
 "metadata": {
  "celltoolbar": "Tags",
  "kernelspec": {
   "display_name": "Python (CMA Fairness)",
   "language": "python",
   "name": "cma_fair_env"
  },
  "language_info": {
   "codemirror_mode": {
    "name": "ipython",
    "version": 3
   },
   "file_extension": ".py",
   "mimetype": "text/x-python",
   "name": "python",
   "nbconvert_exporter": "python",
   "pygments_lexer": "ipython3",
   "version": "3.10.12"
  },
  "papermill": {
   "default_parameters": {},
   "duration": 42.21102,
   "end_time": "2025-07-23T13:00:49.142038",
   "environment_variables": {},
   "exception": null,
   "input_path": "universe_analysis.ipynb",
   "output_path": "output/runs/6/notebooks/m_6-9f7eaa655a0040c6f967a066a8bb55b8.ipynb",
   "parameters": {
    "output_dir": "output",
    "run_no": "6",
    "seed": "2023",
    "universe": "{\"cutoff\": [\"quantile_0.1\", \"quantile_0.25\"], \"eval_fairness_grouping\": [\"majority-minority\", \"nationality-all\"], \"exclude_features\": \"age\", \"exclude_subgroups\": \"keep-all\", \"model\": \"rf\", \"scale\": \"do-not-scale\"}",
    "universe_id": "9f7eaa655a0040c6f967a066a8bb55b8"
   },
   "start_time": "2025-07-23T13:00:06.931018",
   "version": "2.6.0"
  }
 },
 "nbformat": 4,
 "nbformat_minor": 5
}