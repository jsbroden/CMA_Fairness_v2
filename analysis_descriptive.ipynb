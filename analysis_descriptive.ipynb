{
 "cells": [
  {
   "attachments": {},
   "cell_type": "markdown",
   "metadata": {},
   "source": [
    "# Setup Notebook"
   ]
  },
  {
   "cell_type": "code",
   "execution_count": 1,
   "metadata": {},
   "outputs": [
    {
     "name": "stdout",
     "output_type": "stream",
     "text": [
      "The data has N = 128 rows and N = 56 columns.\n",
      "Dropping N = 64 rows, keeping N = 64\n"
     ]
    }
   ],
   "source": [
    "%run analysis__setup.ipynb"
   ]
  },
  {
   "attachments": {},
   "cell_type": "markdown",
   "metadata": {},
   "source": [
    "# Save Parsed Data"
   ]
  },
  {
   "cell_type": "code",
   "execution_count": 2,
   "metadata": {},
   "outputs": [],
   "source": [
    "df_agg_full.to_csv(ANALYSIS_OUTPUT_DIR / \"df_agg_full.csv.gz\")"
   ]
  },
  {
   "attachments": {},
   "cell_type": "markdown",
   "metadata": {},
   "source": [
    "## Filter Data by Fairness Grouping\n",
    "\n",
    "Most analyses only make sense for one value of fairness grouping, so we explicitly filter the data here to use one of the two values and create a new dataframe that holds the full dataset."
   ]
  },
  {
   "cell_type": "code",
   "execution_count": 3,
   "metadata": {},
   "outputs": [
    {
     "name": "stdout",
     "output_type": "stream",
     "text": [
      "The data has N = 32 rows and N = 56 columns.\n"
     ]
    }
   ],
   "source": [
    "df_agg = df_agg_full[df_agg_full[\"sett_eval_fairness_grouping\"] == \"majority-minority\"]\n",
    "rows, columns = df_agg.shape\n",
    "print(f\"The data has N = {rows} rows and N = {columns} columns.\")"
   ]
  },
  {
   "cell_type": "code",
   "execution_count": 4,
   "metadata": {},
   "outputs": [
    {
     "data": {
      "application/vnd.plotly.v1+json": {
       "config": {
        "plotlyServerURL": "https://plot.ly"
       },
       "data": [
        {
         "bingroup": "x",
         "hovertemplate": "fair_main_equalized_odds_difference=%{x}<br>count=%{y}<extra></extra>",
         "legendgroup": "",
         "marker": {
          "color": "#636efa",
          "pattern": {
           "shape": ""
          }
         },
         "name": "",
         "orientation": "v",
         "showlegend": false,
         "type": "histogram",
         "x": {
          "bdata": "FKGQL3yNpj8UoZAvfI2mP8Mei8eU0bU/wx6Lx5TRtT/P248QNxW4P8/bjxA3Fbg/iJr7ZWVzxT+ImvtlZXPFP6ais9tsD7g/pqKz22wPuD+/R0JLyvnFP79HQkvK+cU/Wm3dQWxhuD9abd1BbGG4P8yoAsmxbM0/zKgCybFszT8LlQO1ZR6wPwuVA7VlHrA/9zEKmRKCtz/3MQqZEoK3P+0pQs+YJao/7SlCz5glqj+emNnKUEa2P56Y2cpQRrY/N7bEtg+itj83tsS2D6K2P3joTHi0a8Q/eOhMeLRrxD/MGueO78S0P8wa547vxLQ/Z423D0MHtT9njbcPQwe1P8DH92V4B7U/wMf3ZXgHtT9nfVp+W/q2P2d9Wn5b+rY/YmdSWy5osz9iZ1JbLmizP63hRkhf2bQ/reFGSF/ZtD+gREppEK+2P6BESmkQr7Y/M8gjvBGowz8zyCO8EajDP8/pWp1zKqs/z+lanXMqqz+cL9PPpRi4P5wv08+lGLg/Wm3dQWxhuD9abd1BbGG4P2qMhIY9bc0/aoyEhj1tzT+l4+iFX+y0P6Xj6IVf7LQ/9zqEvzJttT/3OoS/Mm21P1pt3UFsYbg/Wm3dQWxhuD/WbxZsWGrNP9ZvFmxYas0/Wm3dQWxhuD9abd1BbGG4P2qMhIY9bc0/aoyEhj1tzT8=",
          "dtype": "f8"
         },
         "xaxis": "x",
         "yaxis": "y"
        },
        {
         "boxpoints": "all",
         "fillcolor": "rgba(255,255,255,0)",
         "hoveron": "points",
         "hovertemplate": "fair_main_equalized_odds_difference=%{x}<extra></extra>",
         "jitter": 0,
         "legendgroup": "",
         "line": {
          "color": "rgba(255,255,255,0)"
         },
         "marker": {
          "color": "#636efa",
          "symbol": "line-ns-open"
         },
         "name": "",
         "showlegend": false,
         "type": "box",
         "x": {
          "bdata": "FKGQL3yNpj8UoZAvfI2mP8Mei8eU0bU/wx6Lx5TRtT/P248QNxW4P8/bjxA3Fbg/iJr7ZWVzxT+ImvtlZXPFP6ais9tsD7g/pqKz22wPuD+/R0JLyvnFP79HQkvK+cU/Wm3dQWxhuD9abd1BbGG4P8yoAsmxbM0/zKgCybFszT8LlQO1ZR6wPwuVA7VlHrA/9zEKmRKCtz/3MQqZEoK3P+0pQs+YJao/7SlCz5glqj+emNnKUEa2P56Y2cpQRrY/N7bEtg+itj83tsS2D6K2P3joTHi0a8Q/eOhMeLRrxD/MGueO78S0P8wa547vxLQ/Z423D0MHtT9njbcPQwe1P8DH92V4B7U/wMf3ZXgHtT9nfVp+W/q2P2d9Wn5b+rY/YmdSWy5osz9iZ1JbLmizP63hRkhf2bQ/reFGSF/ZtD+gREppEK+2P6BESmkQr7Y/M8gjvBGowz8zyCO8EajDP8/pWp1zKqs/z+lanXMqqz+cL9PPpRi4P5wv08+lGLg/Wm3dQWxhuD9abd1BbGG4P2qMhIY9bc0/aoyEhj1tzT+l4+iFX+y0P6Xj6IVf7LQ/9zqEvzJttT/3OoS/Mm21P1pt3UFsYbg/Wm3dQWxhuD/WbxZsWGrNP9ZvFmxYas0/Wm3dQWxhuD9abd1BbGG4P2qMhIY9bc0/aoyEhj1tzT8=",
          "dtype": "f8"
         },
         "xaxis": "x2",
         "yaxis": "y2"
        }
       ],
       "layout": {
        "barmode": "relative",
        "legend": {
         "tracegroupgap": 0
        },
        "margin": {
         "t": 60
        },
        "template": {
         "data": {
          "bar": [
           {
            "error_x": {
             "color": "#2a3f5f"
            },
            "error_y": {
             "color": "#2a3f5f"
            },
            "marker": {
             "line": {
              "color": "#E5ECF6",
              "width": 0.5
             },
             "pattern": {
              "fillmode": "overlay",
              "size": 10,
              "solidity": 0.2
             }
            },
            "type": "bar"
           }
          ],
          "barpolar": [
           {
            "marker": {
             "line": {
              "color": "#E5ECF6",
              "width": 0.5
             },
             "pattern": {
              "fillmode": "overlay",
              "size": 10,
              "solidity": 0.2
             }
            },
            "type": "barpolar"
           }
          ],
          "carpet": [
           {
            "aaxis": {
             "endlinecolor": "#2a3f5f",
             "gridcolor": "white",
             "linecolor": "white",
             "minorgridcolor": "white",
             "startlinecolor": "#2a3f5f"
            },
            "baxis": {
             "endlinecolor": "#2a3f5f",
             "gridcolor": "white",
             "linecolor": "white",
             "minorgridcolor": "white",
             "startlinecolor": "#2a3f5f"
            },
            "type": "carpet"
           }
          ],
          "choropleth": [
           {
            "colorbar": {
             "outlinewidth": 0,
             "ticks": ""
            },
            "type": "choropleth"
           }
          ],
          "contour": [
           {
            "colorbar": {
             "outlinewidth": 0,
             "ticks": ""
            },
            "colorscale": [
             [
              0,
              "#0d0887"
             ],
             [
              0.1111111111111111,
              "#46039f"
             ],
             [
              0.2222222222222222,
              "#7201a8"
             ],
             [
              0.3333333333333333,
              "#9c179e"
             ],
             [
              0.4444444444444444,
              "#bd3786"
             ],
             [
              0.5555555555555556,
              "#d8576b"
             ],
             [
              0.6666666666666666,
              "#ed7953"
             ],
             [
              0.7777777777777778,
              "#fb9f3a"
             ],
             [
              0.8888888888888888,
              "#fdca26"
             ],
             [
              1,
              "#f0f921"
             ]
            ],
            "type": "contour"
           }
          ],
          "contourcarpet": [
           {
            "colorbar": {
             "outlinewidth": 0,
             "ticks": ""
            },
            "type": "contourcarpet"
           }
          ],
          "heatmap": [
           {
            "colorbar": {
             "outlinewidth": 0,
             "ticks": ""
            },
            "colorscale": [
             [
              0,
              "#0d0887"
             ],
             [
              0.1111111111111111,
              "#46039f"
             ],
             [
              0.2222222222222222,
              "#7201a8"
             ],
             [
              0.3333333333333333,
              "#9c179e"
             ],
             [
              0.4444444444444444,
              "#bd3786"
             ],
             [
              0.5555555555555556,
              "#d8576b"
             ],
             [
              0.6666666666666666,
              "#ed7953"
             ],
             [
              0.7777777777777778,
              "#fb9f3a"
             ],
             [
              0.8888888888888888,
              "#fdca26"
             ],
             [
              1,
              "#f0f921"
             ]
            ],
            "type": "heatmap"
           }
          ],
          "histogram": [
           {
            "marker": {
             "pattern": {
              "fillmode": "overlay",
              "size": 10,
              "solidity": 0.2
             }
            },
            "type": "histogram"
           }
          ],
          "histogram2d": [
           {
            "colorbar": {
             "outlinewidth": 0,
             "ticks": ""
            },
            "colorscale": [
             [
              0,
              "#0d0887"
             ],
             [
              0.1111111111111111,
              "#46039f"
             ],
             [
              0.2222222222222222,
              "#7201a8"
             ],
             [
              0.3333333333333333,
              "#9c179e"
             ],
             [
              0.4444444444444444,
              "#bd3786"
             ],
             [
              0.5555555555555556,
              "#d8576b"
             ],
             [
              0.6666666666666666,
              "#ed7953"
             ],
             [
              0.7777777777777778,
              "#fb9f3a"
             ],
             [
              0.8888888888888888,
              "#fdca26"
             ],
             [
              1,
              "#f0f921"
             ]
            ],
            "type": "histogram2d"
           }
          ],
          "histogram2dcontour": [
           {
            "colorbar": {
             "outlinewidth": 0,
             "ticks": ""
            },
            "colorscale": [
             [
              0,
              "#0d0887"
             ],
             [
              0.1111111111111111,
              "#46039f"
             ],
             [
              0.2222222222222222,
              "#7201a8"
             ],
             [
              0.3333333333333333,
              "#9c179e"
             ],
             [
              0.4444444444444444,
              "#bd3786"
             ],
             [
              0.5555555555555556,
              "#d8576b"
             ],
             [
              0.6666666666666666,
              "#ed7953"
             ],
             [
              0.7777777777777778,
              "#fb9f3a"
             ],
             [
              0.8888888888888888,
              "#fdca26"
             ],
             [
              1,
              "#f0f921"
             ]
            ],
            "type": "histogram2dcontour"
           }
          ],
          "mesh3d": [
           {
            "colorbar": {
             "outlinewidth": 0,
             "ticks": ""
            },
            "type": "mesh3d"
           }
          ],
          "parcoords": [
           {
            "line": {
             "colorbar": {
              "outlinewidth": 0,
              "ticks": ""
             }
            },
            "type": "parcoords"
           }
          ],
          "pie": [
           {
            "automargin": true,
            "type": "pie"
           }
          ],
          "scatter": [
           {
            "fillpattern": {
             "fillmode": "overlay",
             "size": 10,
             "solidity": 0.2
            },
            "type": "scatter"
           }
          ],
          "scatter3d": [
           {
            "line": {
             "colorbar": {
              "outlinewidth": 0,
              "ticks": ""
             }
            },
            "marker": {
             "colorbar": {
              "outlinewidth": 0,
              "ticks": ""
             }
            },
            "type": "scatter3d"
           }
          ],
          "scattercarpet": [
           {
            "marker": {
             "colorbar": {
              "outlinewidth": 0,
              "ticks": ""
             }
            },
            "type": "scattercarpet"
           }
          ],
          "scattergeo": [
           {
            "marker": {
             "colorbar": {
              "outlinewidth": 0,
              "ticks": ""
             }
            },
            "type": "scattergeo"
           }
          ],
          "scattergl": [
           {
            "marker": {
             "colorbar": {
              "outlinewidth": 0,
              "ticks": ""
             }
            },
            "type": "scattergl"
           }
          ],
          "scattermap": [
           {
            "marker": {
             "colorbar": {
              "outlinewidth": 0,
              "ticks": ""
             }
            },
            "type": "scattermap"
           }
          ],
          "scattermapbox": [
           {
            "marker": {
             "colorbar": {
              "outlinewidth": 0,
              "ticks": ""
             }
            },
            "type": "scattermapbox"
           }
          ],
          "scatterpolar": [
           {
            "marker": {
             "colorbar": {
              "outlinewidth": 0,
              "ticks": ""
             }
            },
            "type": "scatterpolar"
           }
          ],
          "scatterpolargl": [
           {
            "marker": {
             "colorbar": {
              "outlinewidth": 0,
              "ticks": ""
             }
            },
            "type": "scatterpolargl"
           }
          ],
          "scatterternary": [
           {
            "marker": {
             "colorbar": {
              "outlinewidth": 0,
              "ticks": ""
             }
            },
            "type": "scatterternary"
           }
          ],
          "surface": [
           {
            "colorbar": {
             "outlinewidth": 0,
             "ticks": ""
            },
            "colorscale": [
             [
              0,
              "#0d0887"
             ],
             [
              0.1111111111111111,
              "#46039f"
             ],
             [
              0.2222222222222222,
              "#7201a8"
             ],
             [
              0.3333333333333333,
              "#9c179e"
             ],
             [
              0.4444444444444444,
              "#bd3786"
             ],
             [
              0.5555555555555556,
              "#d8576b"
             ],
             [
              0.6666666666666666,
              "#ed7953"
             ],
             [
              0.7777777777777778,
              "#fb9f3a"
             ],
             [
              0.8888888888888888,
              "#fdca26"
             ],
             [
              1,
              "#f0f921"
             ]
            ],
            "type": "surface"
           }
          ],
          "table": [
           {
            "cells": {
             "fill": {
              "color": "#EBF0F8"
             },
             "line": {
              "color": "white"
             }
            },
            "header": {
             "fill": {
              "color": "#C8D4E3"
             },
             "line": {
              "color": "white"
             }
            },
            "type": "table"
           }
          ]
         },
         "layout": {
          "annotationdefaults": {
           "arrowcolor": "#2a3f5f",
           "arrowhead": 0,
           "arrowwidth": 1
          },
          "autotypenumbers": "strict",
          "coloraxis": {
           "colorbar": {
            "outlinewidth": 0,
            "ticks": ""
           }
          },
          "colorscale": {
           "diverging": [
            [
             0,
             "#8e0152"
            ],
            [
             0.1,
             "#c51b7d"
            ],
            [
             0.2,
             "#de77ae"
            ],
            [
             0.3,
             "#f1b6da"
            ],
            [
             0.4,
             "#fde0ef"
            ],
            [
             0.5,
             "#f7f7f7"
            ],
            [
             0.6,
             "#e6f5d0"
            ],
            [
             0.7,
             "#b8e186"
            ],
            [
             0.8,
             "#7fbc41"
            ],
            [
             0.9,
             "#4d9221"
            ],
            [
             1,
             "#276419"
            ]
           ],
           "sequential": [
            [
             0,
             "#0d0887"
            ],
            [
             0.1111111111111111,
             "#46039f"
            ],
            [
             0.2222222222222222,
             "#7201a8"
            ],
            [
             0.3333333333333333,
             "#9c179e"
            ],
            [
             0.4444444444444444,
             "#bd3786"
            ],
            [
             0.5555555555555556,
             "#d8576b"
            ],
            [
             0.6666666666666666,
             "#ed7953"
            ],
            [
             0.7777777777777778,
             "#fb9f3a"
            ],
            [
             0.8888888888888888,
             "#fdca26"
            ],
            [
             1,
             "#f0f921"
            ]
           ],
           "sequentialminus": [
            [
             0,
             "#0d0887"
            ],
            [
             0.1111111111111111,
             "#46039f"
            ],
            [
             0.2222222222222222,
             "#7201a8"
            ],
            [
             0.3333333333333333,
             "#9c179e"
            ],
            [
             0.4444444444444444,
             "#bd3786"
            ],
            [
             0.5555555555555556,
             "#d8576b"
            ],
            [
             0.6666666666666666,
             "#ed7953"
            ],
            [
             0.7777777777777778,
             "#fb9f3a"
            ],
            [
             0.8888888888888888,
             "#fdca26"
            ],
            [
             1,
             "#f0f921"
            ]
           ]
          },
          "colorway": [
           "#636efa",
           "#EF553B",
           "#00cc96",
           "#ab63fa",
           "#FFA15A",
           "#19d3f3",
           "#FF6692",
           "#B6E880",
           "#FF97FF",
           "#FECB52"
          ],
          "font": {
           "color": "#2a3f5f"
          },
          "geo": {
           "bgcolor": "white",
           "lakecolor": "white",
           "landcolor": "#E5ECF6",
           "showlakes": true,
           "showland": true,
           "subunitcolor": "white"
          },
          "hoverlabel": {
           "align": "left"
          },
          "hovermode": "closest",
          "mapbox": {
           "style": "light"
          },
          "paper_bgcolor": "white",
          "plot_bgcolor": "#E5ECF6",
          "polar": {
           "angularaxis": {
            "gridcolor": "white",
            "linecolor": "white",
            "ticks": ""
           },
           "bgcolor": "#E5ECF6",
           "radialaxis": {
            "gridcolor": "white",
            "linecolor": "white",
            "ticks": ""
           }
          },
          "scene": {
           "xaxis": {
            "backgroundcolor": "#E5ECF6",
            "gridcolor": "white",
            "gridwidth": 2,
            "linecolor": "white",
            "showbackground": true,
            "ticks": "",
            "zerolinecolor": "white"
           },
           "yaxis": {
            "backgroundcolor": "#E5ECF6",
            "gridcolor": "white",
            "gridwidth": 2,
            "linecolor": "white",
            "showbackground": true,
            "ticks": "",
            "zerolinecolor": "white"
           },
           "zaxis": {
            "backgroundcolor": "#E5ECF6",
            "gridcolor": "white",
            "gridwidth": 2,
            "linecolor": "white",
            "showbackground": true,
            "ticks": "",
            "zerolinecolor": "white"
           }
          },
          "shapedefaults": {
           "line": {
            "color": "#2a3f5f"
           }
          },
          "ternary": {
           "aaxis": {
            "gridcolor": "white",
            "linecolor": "white",
            "ticks": ""
           },
           "baxis": {
            "gridcolor": "white",
            "linecolor": "white",
            "ticks": ""
           },
           "bgcolor": "#E5ECF6",
           "caxis": {
            "gridcolor": "white",
            "linecolor": "white",
            "ticks": ""
           }
          },
          "title": {
           "x": 0.05
          },
          "xaxis": {
           "automargin": true,
           "gridcolor": "white",
           "linecolor": "white",
           "ticks": "",
           "title": {
            "standoff": 15
           },
           "zerolinecolor": "white",
           "zerolinewidth": 2
          },
          "yaxis": {
           "automargin": true,
           "gridcolor": "white",
           "linecolor": "white",
           "ticks": "",
           "title": {
            "standoff": 15
           },
           "zerolinecolor": "white",
           "zerolinewidth": 2
          }
         }
        },
        "xaxis": {
         "anchor": "y",
         "domain": [
          0,
          1
         ],
         "title": {
          "text": "fair_main_equalized_odds_difference"
         }
        },
        "xaxis2": {
         "anchor": "y2",
         "domain": [
          0,
          1
         ],
         "matches": "x",
         "showgrid": true,
         "showticklabels": false
        },
        "yaxis": {
         "anchor": "x",
         "domain": [
          0,
          0.8316
         ],
         "title": {
          "text": "count"
         }
        },
        "yaxis2": {
         "anchor": "x2",
         "domain": [
          0.8416,
          1
         ],
         "matches": "y2",
         "showgrid": false,
         "showline": false,
         "showticklabels": false,
         "ticks": ""
        }
       }
      }
     },
     "metadata": {},
     "output_type": "display_data"
    }
   ],
   "source": [
    "import plotly.express as px\n",
    "\n",
    "fig = px.histogram(df_agg_full, x=\"fair_main_equalized_odds_difference\", marginal=\"rug\")\n",
    "fig.show()\n"
   ]
  },
  {
   "cell_type": "code",
   "execution_count": 5,
   "metadata": {},
   "outputs": [
    {
     "data": {
      "application/vnd.plotly.v1+json": {
       "config": {
        "plotlyServerURL": "https://plot.ly"
       },
       "data": [
        {
         "bingroup": "x",
         "hovertemplate": "sett_eval_fairness_grouping=majority-minority<br>fair_main_equalized_odds_difference=%{x}<br>count=%{y}<extra></extra>",
         "legendgroup": "majority-minority",
         "marker": {
          "color": "#636efa",
          "pattern": {
           "shape": ""
          }
         },
         "name": "majority-minority",
         "orientation": "v",
         "showlegend": true,
         "type": "histogram",
         "x": {
          "bdata": "FKGQL3yNpj/DHovHlNG1P8/bjxA3Fbg/iJr7ZWVzxT+morPbbA+4P79HQkvK+cU/Wm3dQWxhuD/MqALJsWzNPwuVA7VlHrA/9zEKmRKCtz/tKULPmCWqP56Y2cpQRrY/N7bEtg+itj946Ex4tGvEP8wa547vxLQ/Z423D0MHtT/Ax/dleAe1P2d9Wn5b+rY/YmdSWy5osz+t4UZIX9m0P6BESmkQr7Y/M8gjvBGowz/P6VqdcyqrP5wv08+lGLg/Wm3dQWxhuD9qjISGPW3NP6Xj6IVf7LQ/9zqEvzJttT9abd1BbGG4P9ZvFmxYas0/Wm3dQWxhuD9qjISGPW3NPw==",
          "dtype": "f8"
         },
         "xaxis": "x",
         "yaxis": "y"
        },
        {
         "boxpoints": "all",
         "fillcolor": "rgba(255,255,255,0)",
         "hoveron": "points",
         "hovertemplate": "sett_eval_fairness_grouping=majority-minority<br>fair_main_equalized_odds_difference=%{x}<extra></extra>",
         "jitter": 0,
         "legendgroup": "majority-minority",
         "line": {
          "color": "rgba(255,255,255,0)"
         },
         "marker": {
          "color": "#636efa",
          "symbol": "line-ns-open"
         },
         "name": "majority-minority",
         "showlegend": false,
         "type": "box",
         "x": {
          "bdata": "FKGQL3yNpj/DHovHlNG1P8/bjxA3Fbg/iJr7ZWVzxT+morPbbA+4P79HQkvK+cU/Wm3dQWxhuD/MqALJsWzNPwuVA7VlHrA/9zEKmRKCtz/tKULPmCWqP56Y2cpQRrY/N7bEtg+itj946Ex4tGvEP8wa547vxLQ/Z423D0MHtT/Ax/dleAe1P2d9Wn5b+rY/YmdSWy5osz+t4UZIX9m0P6BESmkQr7Y/M8gjvBGowz/P6VqdcyqrP5wv08+lGLg/Wm3dQWxhuD9qjISGPW3NP6Xj6IVf7LQ/9zqEvzJttT9abd1BbGG4P9ZvFmxYas0/Wm3dQWxhuD9qjISGPW3NPw==",
          "dtype": "f8"
         },
         "xaxis": "x2",
         "yaxis": "y2"
        },
        {
         "bingroup": "x",
         "hovertemplate": "sett_eval_fairness_grouping=nationality-all<br>fair_main_equalized_odds_difference=%{x}<br>count=%{y}<extra></extra>",
         "legendgroup": "nationality-all",
         "marker": {
          "color": "#EF553B",
          "pattern": {
           "shape": ""
          }
         },
         "name": "nationality-all",
         "orientation": "v",
         "showlegend": true,
         "type": "histogram",
         "x": {
          "bdata": "FKGQL3yNpj/DHovHlNG1P8/bjxA3Fbg/iJr7ZWVzxT+morPbbA+4P79HQkvK+cU/Wm3dQWxhuD/MqALJsWzNPwuVA7VlHrA/9zEKmRKCtz/tKULPmCWqP56Y2cpQRrY/N7bEtg+itj946Ex4tGvEP8wa547vxLQ/Z423D0MHtT/Ax/dleAe1P2d9Wn5b+rY/YmdSWy5osz+t4UZIX9m0P6BESmkQr7Y/M8gjvBGowz/P6VqdcyqrP5wv08+lGLg/Wm3dQWxhuD9qjISGPW3NP6Xj6IVf7LQ/9zqEvzJttT9abd1BbGG4P9ZvFmxYas0/Wm3dQWxhuD9qjISGPW3NPw==",
          "dtype": "f8"
         },
         "xaxis": "x",
         "yaxis": "y"
        },
        {
         "boxpoints": "all",
         "fillcolor": "rgba(255,255,255,0)",
         "hoveron": "points",
         "hovertemplate": "sett_eval_fairness_grouping=nationality-all<br>fair_main_equalized_odds_difference=%{x}<extra></extra>",
         "jitter": 0,
         "legendgroup": "nationality-all",
         "line": {
          "color": "rgba(255,255,255,0)"
         },
         "marker": {
          "color": "#EF553B",
          "symbol": "line-ns-open"
         },
         "name": "nationality-all",
         "showlegend": false,
         "type": "box",
         "x": {
          "bdata": "FKGQL3yNpj/DHovHlNG1P8/bjxA3Fbg/iJr7ZWVzxT+morPbbA+4P79HQkvK+cU/Wm3dQWxhuD/MqALJsWzNPwuVA7VlHrA/9zEKmRKCtz/tKULPmCWqP56Y2cpQRrY/N7bEtg+itj946Ex4tGvEP8wa547vxLQ/Z423D0MHtT/Ax/dleAe1P2d9Wn5b+rY/YmdSWy5osz+t4UZIX9m0P6BESmkQr7Y/M8gjvBGowz/P6VqdcyqrP5wv08+lGLg/Wm3dQWxhuD9qjISGPW3NP6Xj6IVf7LQ/9zqEvzJttT9abd1BbGG4P9ZvFmxYas0/Wm3dQWxhuD9qjISGPW3NPw==",
          "dtype": "f8"
         },
         "xaxis": "x2",
         "yaxis": "y2"
        }
       ],
       "layout": {
        "barmode": "relative",
        "legend": {
         "title": {
          "text": "sett_eval_fairness_grouping"
         },
         "tracegroupgap": 0
        },
        "margin": {
         "t": 60
        },
        "template": {
         "data": {
          "bar": [
           {
            "error_x": {
             "color": "#2a3f5f"
            },
            "error_y": {
             "color": "#2a3f5f"
            },
            "marker": {
             "line": {
              "color": "#E5ECF6",
              "width": 0.5
             },
             "pattern": {
              "fillmode": "overlay",
              "size": 10,
              "solidity": 0.2
             }
            },
            "type": "bar"
           }
          ],
          "barpolar": [
           {
            "marker": {
             "line": {
              "color": "#E5ECF6",
              "width": 0.5
             },
             "pattern": {
              "fillmode": "overlay",
              "size": 10,
              "solidity": 0.2
             }
            },
            "type": "barpolar"
           }
          ],
          "carpet": [
           {
            "aaxis": {
             "endlinecolor": "#2a3f5f",
             "gridcolor": "white",
             "linecolor": "white",
             "minorgridcolor": "white",
             "startlinecolor": "#2a3f5f"
            },
            "baxis": {
             "endlinecolor": "#2a3f5f",
             "gridcolor": "white",
             "linecolor": "white",
             "minorgridcolor": "white",
             "startlinecolor": "#2a3f5f"
            },
            "type": "carpet"
           }
          ],
          "choropleth": [
           {
            "colorbar": {
             "outlinewidth": 0,
             "ticks": ""
            },
            "type": "choropleth"
           }
          ],
          "contour": [
           {
            "colorbar": {
             "outlinewidth": 0,
             "ticks": ""
            },
            "colorscale": [
             [
              0,
              "#0d0887"
             ],
             [
              0.1111111111111111,
              "#46039f"
             ],
             [
              0.2222222222222222,
              "#7201a8"
             ],
             [
              0.3333333333333333,
              "#9c179e"
             ],
             [
              0.4444444444444444,
              "#bd3786"
             ],
             [
              0.5555555555555556,
              "#d8576b"
             ],
             [
              0.6666666666666666,
              "#ed7953"
             ],
             [
              0.7777777777777778,
              "#fb9f3a"
             ],
             [
              0.8888888888888888,
              "#fdca26"
             ],
             [
              1,
              "#f0f921"
             ]
            ],
            "type": "contour"
           }
          ],
          "contourcarpet": [
           {
            "colorbar": {
             "outlinewidth": 0,
             "ticks": ""
            },
            "type": "contourcarpet"
           }
          ],
          "heatmap": [
           {
            "colorbar": {
             "outlinewidth": 0,
             "ticks": ""
            },
            "colorscale": [
             [
              0,
              "#0d0887"
             ],
             [
              0.1111111111111111,
              "#46039f"
             ],
             [
              0.2222222222222222,
              "#7201a8"
             ],
             [
              0.3333333333333333,
              "#9c179e"
             ],
             [
              0.4444444444444444,
              "#bd3786"
             ],
             [
              0.5555555555555556,
              "#d8576b"
             ],
             [
              0.6666666666666666,
              "#ed7953"
             ],
             [
              0.7777777777777778,
              "#fb9f3a"
             ],
             [
              0.8888888888888888,
              "#fdca26"
             ],
             [
              1,
              "#f0f921"
             ]
            ],
            "type": "heatmap"
           }
          ],
          "histogram": [
           {
            "marker": {
             "pattern": {
              "fillmode": "overlay",
              "size": 10,
              "solidity": 0.2
             }
            },
            "type": "histogram"
           }
          ],
          "histogram2d": [
           {
            "colorbar": {
             "outlinewidth": 0,
             "ticks": ""
            },
            "colorscale": [
             [
              0,
              "#0d0887"
             ],
             [
              0.1111111111111111,
              "#46039f"
             ],
             [
              0.2222222222222222,
              "#7201a8"
             ],
             [
              0.3333333333333333,
              "#9c179e"
             ],
             [
              0.4444444444444444,
              "#bd3786"
             ],
             [
              0.5555555555555556,
              "#d8576b"
             ],
             [
              0.6666666666666666,
              "#ed7953"
             ],
             [
              0.7777777777777778,
              "#fb9f3a"
             ],
             [
              0.8888888888888888,
              "#fdca26"
             ],
             [
              1,
              "#f0f921"
             ]
            ],
            "type": "histogram2d"
           }
          ],
          "histogram2dcontour": [
           {
            "colorbar": {
             "outlinewidth": 0,
             "ticks": ""
            },
            "colorscale": [
             [
              0,
              "#0d0887"
             ],
             [
              0.1111111111111111,
              "#46039f"
             ],
             [
              0.2222222222222222,
              "#7201a8"
             ],
             [
              0.3333333333333333,
              "#9c179e"
             ],
             [
              0.4444444444444444,
              "#bd3786"
             ],
             [
              0.5555555555555556,
              "#d8576b"
             ],
             [
              0.6666666666666666,
              "#ed7953"
             ],
             [
              0.7777777777777778,
              "#fb9f3a"
             ],
             [
              0.8888888888888888,
              "#fdca26"
             ],
             [
              1,
              "#f0f921"
             ]
            ],
            "type": "histogram2dcontour"
           }
          ],
          "mesh3d": [
           {
            "colorbar": {
             "outlinewidth": 0,
             "ticks": ""
            },
            "type": "mesh3d"
           }
          ],
          "parcoords": [
           {
            "line": {
             "colorbar": {
              "outlinewidth": 0,
              "ticks": ""
             }
            },
            "type": "parcoords"
           }
          ],
          "pie": [
           {
            "automargin": true,
            "type": "pie"
           }
          ],
          "scatter": [
           {
            "fillpattern": {
             "fillmode": "overlay",
             "size": 10,
             "solidity": 0.2
            },
            "type": "scatter"
           }
          ],
          "scatter3d": [
           {
            "line": {
             "colorbar": {
              "outlinewidth": 0,
              "ticks": ""
             }
            },
            "marker": {
             "colorbar": {
              "outlinewidth": 0,
              "ticks": ""
             }
            },
            "type": "scatter3d"
           }
          ],
          "scattercarpet": [
           {
            "marker": {
             "colorbar": {
              "outlinewidth": 0,
              "ticks": ""
             }
            },
            "type": "scattercarpet"
           }
          ],
          "scattergeo": [
           {
            "marker": {
             "colorbar": {
              "outlinewidth": 0,
              "ticks": ""
             }
            },
            "type": "scattergeo"
           }
          ],
          "scattergl": [
           {
            "marker": {
             "colorbar": {
              "outlinewidth": 0,
              "ticks": ""
             }
            },
            "type": "scattergl"
           }
          ],
          "scattermap": [
           {
            "marker": {
             "colorbar": {
              "outlinewidth": 0,
              "ticks": ""
             }
            },
            "type": "scattermap"
           }
          ],
          "scattermapbox": [
           {
            "marker": {
             "colorbar": {
              "outlinewidth": 0,
              "ticks": ""
             }
            },
            "type": "scattermapbox"
           }
          ],
          "scatterpolar": [
           {
            "marker": {
             "colorbar": {
              "outlinewidth": 0,
              "ticks": ""
             }
            },
            "type": "scatterpolar"
           }
          ],
          "scatterpolargl": [
           {
            "marker": {
             "colorbar": {
              "outlinewidth": 0,
              "ticks": ""
             }
            },
            "type": "scatterpolargl"
           }
          ],
          "scatterternary": [
           {
            "marker": {
             "colorbar": {
              "outlinewidth": 0,
              "ticks": ""
             }
            },
            "type": "scatterternary"
           }
          ],
          "surface": [
           {
            "colorbar": {
             "outlinewidth": 0,
             "ticks": ""
            },
            "colorscale": [
             [
              0,
              "#0d0887"
             ],
             [
              0.1111111111111111,
              "#46039f"
             ],
             [
              0.2222222222222222,
              "#7201a8"
             ],
             [
              0.3333333333333333,
              "#9c179e"
             ],
             [
              0.4444444444444444,
              "#bd3786"
             ],
             [
              0.5555555555555556,
              "#d8576b"
             ],
             [
              0.6666666666666666,
              "#ed7953"
             ],
             [
              0.7777777777777778,
              "#fb9f3a"
             ],
             [
              0.8888888888888888,
              "#fdca26"
             ],
             [
              1,
              "#f0f921"
             ]
            ],
            "type": "surface"
           }
          ],
          "table": [
           {
            "cells": {
             "fill": {
              "color": "#EBF0F8"
             },
             "line": {
              "color": "white"
             }
            },
            "header": {
             "fill": {
              "color": "#C8D4E3"
             },
             "line": {
              "color": "white"
             }
            },
            "type": "table"
           }
          ]
         },
         "layout": {
          "annotationdefaults": {
           "arrowcolor": "#2a3f5f",
           "arrowhead": 0,
           "arrowwidth": 1
          },
          "autotypenumbers": "strict",
          "coloraxis": {
           "colorbar": {
            "outlinewidth": 0,
            "ticks": ""
           }
          },
          "colorscale": {
           "diverging": [
            [
             0,
             "#8e0152"
            ],
            [
             0.1,
             "#c51b7d"
            ],
            [
             0.2,
             "#de77ae"
            ],
            [
             0.3,
             "#f1b6da"
            ],
            [
             0.4,
             "#fde0ef"
            ],
            [
             0.5,
             "#f7f7f7"
            ],
            [
             0.6,
             "#e6f5d0"
            ],
            [
             0.7,
             "#b8e186"
            ],
            [
             0.8,
             "#7fbc41"
            ],
            [
             0.9,
             "#4d9221"
            ],
            [
             1,
             "#276419"
            ]
           ],
           "sequential": [
            [
             0,
             "#0d0887"
            ],
            [
             0.1111111111111111,
             "#46039f"
            ],
            [
             0.2222222222222222,
             "#7201a8"
            ],
            [
             0.3333333333333333,
             "#9c179e"
            ],
            [
             0.4444444444444444,
             "#bd3786"
            ],
            [
             0.5555555555555556,
             "#d8576b"
            ],
            [
             0.6666666666666666,
             "#ed7953"
            ],
            [
             0.7777777777777778,
             "#fb9f3a"
            ],
            [
             0.8888888888888888,
             "#fdca26"
            ],
            [
             1,
             "#f0f921"
            ]
           ],
           "sequentialminus": [
            [
             0,
             "#0d0887"
            ],
            [
             0.1111111111111111,
             "#46039f"
            ],
            [
             0.2222222222222222,
             "#7201a8"
            ],
            [
             0.3333333333333333,
             "#9c179e"
            ],
            [
             0.4444444444444444,
             "#bd3786"
            ],
            [
             0.5555555555555556,
             "#d8576b"
            ],
            [
             0.6666666666666666,
             "#ed7953"
            ],
            [
             0.7777777777777778,
             "#fb9f3a"
            ],
            [
             0.8888888888888888,
             "#fdca26"
            ],
            [
             1,
             "#f0f921"
            ]
           ]
          },
          "colorway": [
           "#636efa",
           "#EF553B",
           "#00cc96",
           "#ab63fa",
           "#FFA15A",
           "#19d3f3",
           "#FF6692",
           "#B6E880",
           "#FF97FF",
           "#FECB52"
          ],
          "font": {
           "color": "#2a3f5f"
          },
          "geo": {
           "bgcolor": "white",
           "lakecolor": "white",
           "landcolor": "#E5ECF6",
           "showlakes": true,
           "showland": true,
           "subunitcolor": "white"
          },
          "hoverlabel": {
           "align": "left"
          },
          "hovermode": "closest",
          "mapbox": {
           "style": "light"
          },
          "paper_bgcolor": "white",
          "plot_bgcolor": "#E5ECF6",
          "polar": {
           "angularaxis": {
            "gridcolor": "white",
            "linecolor": "white",
            "ticks": ""
           },
           "bgcolor": "#E5ECF6",
           "radialaxis": {
            "gridcolor": "white",
            "linecolor": "white",
            "ticks": ""
           }
          },
          "scene": {
           "xaxis": {
            "backgroundcolor": "#E5ECF6",
            "gridcolor": "white",
            "gridwidth": 2,
            "linecolor": "white",
            "showbackground": true,
            "ticks": "",
            "zerolinecolor": "white"
           },
           "yaxis": {
            "backgroundcolor": "#E5ECF6",
            "gridcolor": "white",
            "gridwidth": 2,
            "linecolor": "white",
            "showbackground": true,
            "ticks": "",
            "zerolinecolor": "white"
           },
           "zaxis": {
            "backgroundcolor": "#E5ECF6",
            "gridcolor": "white",
            "gridwidth": 2,
            "linecolor": "white",
            "showbackground": true,
            "ticks": "",
            "zerolinecolor": "white"
           }
          },
          "shapedefaults": {
           "line": {
            "color": "#2a3f5f"
           }
          },
          "ternary": {
           "aaxis": {
            "gridcolor": "white",
            "linecolor": "white",
            "ticks": ""
           },
           "baxis": {
            "gridcolor": "white",
            "linecolor": "white",
            "ticks": ""
           },
           "bgcolor": "#E5ECF6",
           "caxis": {
            "gridcolor": "white",
            "linecolor": "white",
            "ticks": ""
           }
          },
          "title": {
           "x": 0.05
          },
          "xaxis": {
           "automargin": true,
           "gridcolor": "white",
           "linecolor": "white",
           "ticks": "",
           "title": {
            "standoff": 15
           },
           "zerolinecolor": "white",
           "zerolinewidth": 2
          },
          "yaxis": {
           "automargin": true,
           "gridcolor": "white",
           "linecolor": "white",
           "ticks": "",
           "title": {
            "standoff": 15
           },
           "zerolinecolor": "white",
           "zerolinewidth": 2
          }
         }
        },
        "xaxis": {
         "anchor": "y",
         "domain": [
          0,
          1
         ],
         "title": {
          "text": "fair_main_equalized_odds_difference"
         }
        },
        "xaxis2": {
         "anchor": "y2",
         "domain": [
          0,
          1
         ],
         "matches": "x",
         "showgrid": true,
         "showticklabels": false
        },
        "yaxis": {
         "anchor": "x",
         "domain": [
          0,
          0.7326
         ],
         "title": {
          "text": "count"
         }
        },
        "yaxis2": {
         "anchor": "x2",
         "domain": [
          0.7426,
          1
         ],
         "matches": "y2",
         "showgrid": false,
         "showline": false,
         "showticklabels": false,
         "ticks": ""
        }
       }
      }
     },
     "metadata": {},
     "output_type": "display_data"
    }
   ],
   "source": [
    "import plotly.express as px\n",
    "\n",
    "fig = px.histogram(df_agg_full, x=\"fair_main_equalized_odds_difference\", color=\"sett_eval_fairness_grouping\", marginal=\"rug\")\n",
    "fig.show()\n"
   ]
  },
  {
   "cell_type": "code",
   "execution_count": 6,
   "metadata": {},
   "outputs": [
    {
     "data": {
      "text/plain": [
       "array(['majority-minority', 'nationality-all'], dtype=object)"
      ]
     },
     "execution_count": 6,
     "metadata": {},
     "output_type": "execute_result"
    }
   ],
   "source": [
    "df_agg_full[\"sett_eval_fairness_grouping\"].unique()"
   ]
  },
  {
   "attachments": {},
   "cell_type": "markdown",
   "metadata": {},
   "source": [
    "# Descriptive Analysis"
   ]
  },
  {
   "cell_type": "code",
   "execution_count": 7,
   "metadata": {},
   "outputs": [],
   "source": [
    "import ipywidgets as widgets\n",
    "from IPython.display import clear_output\n",
    "\n",
    "# Helper Function to get interactive refreshing dropdowns\n",
    "def interactive_single_var_dropdown(options, render_function, description='Column:'):\n",
    "    dd = widgets.Dropdown(\n",
    "        options=options,\n",
    "        description=description,\n",
    "    )\n",
    "\n",
    "    def refresh():\n",
    "        display(dd)\n",
    "\n",
    "        render_function(dd.value)\n",
    "\n",
    "    def on_change(change):\n",
    "        if change['type'] == 'change' and change['name'] == 'value':\n",
    "            clear_output()\n",
    "\n",
    "            refresh()\n",
    "\n",
    "    dd.observe(on_change)\n",
    "\n",
    "    refresh()"
   ]
  },
  {
   "cell_type": "code",
   "execution_count": 8,
   "metadata": {},
   "outputs": [
    {
     "data": {
      "application/vnd.jupyter.widget-view+json": {
       "model_id": "ad913e6cf44f468ab8ec861db08ac269",
       "version_major": 2,
       "version_minor": 0
      },
      "text/plain": [
       "Dropdown(description='Column:', options=('fair_main_equalized_odds_difference', 'fair_main_equalized_odds_rati…"
      ]
     },
     "metadata": {},
     "output_type": "display_data"
    },
    {
     "data": {
      "image/png": "[encoded data removed]",
      "text/plain": [
       "<Figure size 640x480 with 1 Axes>"
      ]
     },
     "metadata": {},
     "output_type": "display_data"
    }
   ],
   "source": [
    "def render_simple_density(colname):\n",
    "    # Show default density plot\n",
    "    df_agg[colname].plot.kde()\n",
    "\n",
    "interactive_single_var_dropdown(options = cols_fairness + cols_performance, render_function=render_simple_density)"
   ]
  },
  {
   "cell_type": "code",
   "execution_count": 9,
   "metadata": {},
   "outputs": [
    {
     "data": {
      "application/vnd.jupyter.widget-view+json": {
       "model_id": "978ea0b6061e4c30975e1eb1c3238c6e",
       "version_major": 2,
       "version_minor": 0
      },
      "text/plain": [
       "Dropdown(description='Column:', options=('fair_main_equalized_odds_difference', 'fair_main_equalized_odds_rati…"
      ]
     },
     "metadata": {},
     "output_type": "display_data"
    },
    {
     "data": {
      "application/vnd.plotly.v1+json": {
       "config": {
        "plotlyServerURL": "https://plot.ly"
       },
       "data": [
        {
         "bingroup": "x",
         "hovertemplate": "fair_main_equalized_odds_difference=%{x}<br>count=%{y}<extra></extra>",
         "legendgroup": "",
         "marker": {
          "color": "#636efa",
          "pattern": {
           "shape": ""
          }
         },
         "name": "",
         "orientation": "v",
         "showlegend": false,
         "type": "histogram",
         "x": {
          "bdata": "FKGQL3yNpj/DHovHlNG1P8/bjxA3Fbg/iJr7ZWVzxT+morPbbA+4P79HQkvK+cU/Wm3dQWxhuD/MqALJsWzNPwuVA7VlHrA/9zEKmRKCtz/tKULPmCWqP56Y2cpQRrY/N7bEtg+itj946Ex4tGvEP8wa547vxLQ/Z423D0MHtT/Ax/dleAe1P2d9Wn5b+rY/YmdSWy5osz+t4UZIX9m0P6BESmkQr7Y/M8gjvBGowz/P6VqdcyqrP5wv08+lGLg/Wm3dQWxhuD9qjISGPW3NP6Xj6IVf7LQ/9zqEvzJttT9abd1BbGG4P9ZvFmxYas0/Wm3dQWxhuD9qjISGPW3NPw==",
          "dtype": "f8"
         },
         "xaxis": "x",
         "yaxis": "y"
        },
        {
         "boxpoints": "all",
         "customdata": [
          [
           "quantile_0.1",
           "majority-minority",
           "none",
           "keep-all",
           "rf"
          ],
          [
           "quantile_0.25",
           "majority-minority",
           "none",
           "keep-all",
           "rf"
          ],
          [
           "quantile_0.1",
           "majority-minority",
           "sex",
           "keep-all",
           "logreg"
          ],
          [
           "quantile_0.25",
           "majority-minority",
           "sex",
           "keep-all",
           "logreg"
          ],
          [
           "quantile_0.1",
           "majority-minority",
           "none",
           "keep-all",
           "logreg"
          ],
          [
           "quantile_0.25",
           "majority-minority",
           "none",
           "keep-all",
           "logreg"
          ],
          [
           "quantile_0.1",
           "majority-minority",
           "none",
           "keep-all",
           "elasticnet"
          ],
          [
           "quantile_0.25",
           "majority-minority",
           "none",
           "keep-all",
           "elasticnet"
          ],
          [
           "quantile_0.1",
           "majority-minority",
           "nationality-sex",
           "keep-all",
           "rf"
          ],
          [
           "quantile_0.25",
           "majority-minority",
           "nationality-sex",
           "keep-all",
           "rf"
          ],
          [
           "quantile_0.1",
           "majority-minority",
           "sex",
           "keep-all",
           "rf"
          ],
          [
           "quantile_0.25",
           "majority-minority",
           "sex",
           "keep-all",
           "rf"
          ],
          [
           "quantile_0.1",
           "majority-minority",
           "nationality",
           "keep-all",
           "logreg"
          ],
          [
           "quantile_0.25",
           "majority-minority",
           "nationality",
           "keep-all",
           "logreg"
          ],
          [
           "quantile_0.1",
           "majority-minority",
           "nationality-sex",
           "keep-all",
           "gbm"
          ],
          [
           "quantile_0.25",
           "majority-minority",
           "nationality-sex",
           "keep-all",
           "gbm"
          ],
          [
           "quantile_0.1",
           "majority-minority",
           "sex",
           "keep-all",
           "gbm"
          ],
          [
           "quantile_0.25",
           "majority-minority",
           "sex",
           "keep-all",
           "gbm"
          ],
          [
           "quantile_0.1",
           "majority-minority",
           "none",
           "keep-all",
           "gbm"
          ],
          [
           "quantile_0.25",
           "majority-minority",
           "none",
           "keep-all",
           "gbm"
          ],
          [
           "quantile_0.1",
           "majority-minority",
           "nationality-sex",
           "keep-all",
           "logreg"
          ],
          [
           "quantile_0.25",
           "majority-minority",
           "nationality-sex",
           "keep-all",
           "logreg"
          ],
          [
           "quantile_0.1",
           "majority-minority",
           "nationality",
           "keep-all",
           "rf"
          ],
          [
           "quantile_0.25",
           "majority-minority",
           "nationality",
           "keep-all",
           "rf"
          ],
          [
           "quantile_0.1",
           "majority-minority",
           "nationality-sex",
           "keep-all",
           "elasticnet"
          ],
          [
           "quantile_0.25",
           "majority-minority",
           "nationality-sex",
           "keep-all",
           "elasticnet"
          ],
          [
           "quantile_0.1",
           "majority-minority",
           "nationality",
           "keep-all",
           "gbm"
          ],
          [
           "quantile_0.25",
           "majority-minority",
           "nationality",
           "keep-all",
           "gbm"
          ],
          [
           "quantile_0.1",
           "majority-minority",
           "nationality",
           "keep-all",
           "elasticnet"
          ],
          [
           "quantile_0.25",
           "majority-minority",
           "nationality",
           "keep-all",
           "elasticnet"
          ],
          [
           "quantile_0.1",
           "majority-minority",
           "sex",
           "keep-all",
           "elasticnet"
          ],
          [
           "quantile_0.25",
           "majority-minority",
           "sex",
           "keep-all",
           "elasticnet"
          ]
         ],
         "fillcolor": "rgba(255,255,255,0)",
         "hoveron": "points",
         "hovertemplate": "fair_main_equalized_odds_difference=%{x}<br>sett_cutoff=%{customdata[0]}<br>sett_eval_fairness_grouping=%{customdata[1]}<br>sett_exclude_features=%{customdata[2]}<br>sett_exclude_subgroups=%{customdata[3]}<br>sett_model=%{customdata[4]}<extra></extra>",
         "jitter": 0,
         "legendgroup": "",
         "line": {
          "color": "rgba(255,255,255,0)"
         },
         "marker": {
          "color": "#636efa",
          "symbol": "line-ns-open"
         },
         "name": "",
         "showlegend": false,
         "type": "box",
         "x": {
          "bdata": "FKGQL3yNpj/DHovHlNG1P8/bjxA3Fbg/iJr7ZWVzxT+morPbbA+4P79HQkvK+cU/Wm3dQWxhuD/MqALJsWzNPwuVA7VlHrA/9zEKmRKCtz/tKULPmCWqP56Y2cpQRrY/N7bEtg+itj946Ex4tGvEP8wa547vxLQ/Z423D0MHtT/Ax/dleAe1P2d9Wn5b+rY/YmdSWy5osz+t4UZIX9m0P6BESmkQr7Y/M8gjvBGowz/P6VqdcyqrP5wv08+lGLg/Wm3dQWxhuD9qjISGPW3NP6Xj6IVf7LQ/9zqEvzJttT9abd1BbGG4P9ZvFmxYas0/Wm3dQWxhuD9qjISGPW3NPw==",
          "dtype": "f8"
         },
         "xaxis": "x2",
         "yaxis": "y2"
        }
       ],
       "layout": {
        "barmode": "relative",
        "legend": {
         "tracegroupgap": 0
        },
        "margin": {
         "t": 60
        },
        "template": {
         "data": {
          "bar": [
           {
            "error_x": {
             "color": "#2a3f5f"
            },
            "error_y": {
             "color": "#2a3f5f"
            },
            "marker": {
             "line": {
              "color": "#E5ECF6",
              "width": 0.5
             },
             "pattern": {
              "fillmode": "overlay",
              "size": 10,
              "solidity": 0.2
             }
            },
            "type": "bar"
           }
          ],
          "barpolar": [
           {
            "marker": {
             "line": {
              "color": "#E5ECF6",
              "width": 0.5
             },
             "pattern": {
              "fillmode": "overlay",
              "size": 10,
              "solidity": 0.2
             }
            },
            "type": "barpolar"
           }
          ],
          "carpet": [
           {
            "aaxis": {
             "endlinecolor": "#2a3f5f",
             "gridcolor": "white",
             "linecolor": "white",
             "minorgridcolor": "white",
             "startlinecolor": "#2a3f5f"
            },
            "baxis": {
             "endlinecolor": "#2a3f5f",
             "gridcolor": "white",
             "linecolor": "white",
             "minorgridcolor": "white",
             "startlinecolor": "#2a3f5f"
            },
            "type": "carpet"
           }
          ],
          "choropleth": [
           {
            "colorbar": {
             "outlinewidth": 0,
             "ticks": ""
            },
            "type": "choropleth"
           }
          ],
          "contour": [
           {
            "colorbar": {
             "outlinewidth": 0,
             "ticks": ""
            },
            "colorscale": [
             [
              0,
              "#0d0887"
             ],
             [
              0.1111111111111111,
              "#46039f"
             ],
             [
              0.2222222222222222,
              "#7201a8"
             ],
             [
              0.3333333333333333,
              "#9c179e"
             ],
             [
              0.4444444444444444,
              "#bd3786"
             ],
             [
              0.5555555555555556,
              "#d8576b"
             ],
             [
              0.6666666666666666,
              "#ed7953"
             ],
             [
              0.7777777777777778,
              "#fb9f3a"
             ],
             [
              0.8888888888888888,
              "#fdca26"
             ],
             [
              1,
              "#f0f921"
             ]
            ],
            "type": "contour"
           }
          ],
          "contourcarpet": [
           {
            "colorbar": {
             "outlinewidth": 0,
             "ticks": ""
            },
            "type": "contourcarpet"
           }
          ],
          "heatmap": [
           {
            "colorbar": {
             "outlinewidth": 0,
             "ticks": ""
            },
            "colorscale": [
             [
              0,
              "#0d0887"
             ],
             [
              0.1111111111111111,
              "#46039f"
             ],
             [
              0.2222222222222222,
              "#7201a8"
             ],
             [
              0.3333333333333333,
              "#9c179e"
             ],
             [
              0.4444444444444444,
              "#bd3786"
             ],
             [
              0.5555555555555556,
              "#d8576b"
             ],
             [
              0.6666666666666666,
              "#ed7953"
             ],
             [
              0.7777777777777778,
              "#fb9f3a"
             ],
             [
              0.8888888888888888,
              "#fdca26"
             ],
             [
              1,
              "#f0f921"
             ]
            ],
            "type": "heatmap"
           }
          ],
          "histogram": [
           {
            "marker": {
             "pattern": {
              "fillmode": "overlay",
              "size": 10,
              "solidity": 0.2
             }
            },
            "type": "histogram"
           }
          ],
          "histogram2d": [
           {
            "colorbar": {
             "outlinewidth": 0,
             "ticks": ""
            },
            "colorscale": [
             [
              0,
              "#0d0887"
             ],
             [
              0.1111111111111111,
              "#46039f"
             ],
             [
              0.2222222222222222,
              "#7201a8"
             ],
             [
              0.3333333333333333,
              "#9c179e"
             ],
             [
              0.4444444444444444,
              "#bd3786"
             ],
             [
              0.5555555555555556,
              "#d8576b"
             ],
             [
              0.6666666666666666,
              "#ed7953"
             ],
             [
              0.7777777777777778,
              "#fb9f3a"
             ],
             [
              0.8888888888888888,
              "#fdca26"
             ],
             [
              1,
              "#f0f921"
             ]
            ],
            "type": "histogram2d"
           }
          ],
          "histogram2dcontour": [
           {
            "colorbar": {
             "outlinewidth": 0,
             "ticks": ""
            },
            "colorscale": [
             [
              0,
              "#0d0887"
             ],
             [
              0.1111111111111111,
              "#46039f"
             ],
             [
              0.2222222222222222,
              "#7201a8"
             ],
             [
              0.3333333333333333,
              "#9c179e"
             ],
             [
              0.4444444444444444,
              "#bd3786"
             ],
             [
              0.5555555555555556,
              "#d8576b"
             ],
             [
              0.6666666666666666,
              "#ed7953"
             ],
             [
              0.7777777777777778,
              "#fb9f3a"
             ],
             [
              0.8888888888888888,
              "#fdca26"
             ],
             [
              1,
              "#f0f921"
             ]
            ],
            "type": "histogram2dcontour"
           }
          ],
          "mesh3d": [
           {
            "colorbar": {
             "outlinewidth": 0,
             "ticks": ""
            },
            "type": "mesh3d"
           }
          ],
          "parcoords": [
           {
            "line": {
             "colorbar": {
              "outlinewidth": 0,
              "ticks": ""
             }
            },
            "type": "parcoords"
           }
          ],
          "pie": [
           {
            "automargin": true,
            "type": "pie"
           }
          ],
          "scatter": [
           {
            "fillpattern": {
             "fillmode": "overlay",
             "size": 10,
             "solidity": 0.2
            },
            "type": "scatter"
           }
          ],
          "scatter3d": [
           {
            "line": {
             "colorbar": {
              "outlinewidth": 0,
              "ticks": ""
             }
            },
            "marker": {
             "colorbar": {
              "outlinewidth": 0,
              "ticks": ""
             }
            },
            "type": "scatter3d"
           }
          ],
          "scattercarpet": [
           {
            "marker": {
             "colorbar": {
              "outlinewidth": 0,
              "ticks": ""
             }
            },
            "type": "scattercarpet"
           }
          ],
          "scattergeo": [
           {
            "marker": {
             "colorbar": {
              "outlinewidth": 0,
              "ticks": ""
             }
            },
            "type": "scattergeo"
           }
          ],
          "scattergl": [
           {
            "marker": {
             "colorbar": {
              "outlinewidth": 0,
              "ticks": ""
             }
            },
            "type": "scattergl"
           }
          ],
          "scattermap": [
           {
            "marker": {
             "colorbar": {
              "outlinewidth": 0,
              "ticks": ""
             }
            },
            "type": "scattermap"
           }
          ],
          "scattermapbox": [
           {
            "marker": {
             "colorbar": {
              "outlinewidth": 0,
              "ticks": ""
             }
            },
            "type": "scattermapbox"
           }
          ],
          "scatterpolar": [
           {
            "marker": {
             "colorbar": {
              "outlinewidth": 0,
              "ticks": ""
             }
            },
            "type": "scatterpolar"
           }
          ],
          "scatterpolargl": [
           {
            "marker": {
             "colorbar": {
              "outlinewidth": 0,
              "ticks": ""
             }
            },
            "type": "scatterpolargl"
           }
          ],
          "scatterternary": [
           {
            "marker": {
             "colorbar": {
              "outlinewidth": 0,
              "ticks": ""
             }
            },
            "type": "scatterternary"
           }
          ],
          "surface": [
           {
            "colorbar": {
             "outlinewidth": 0,
             "ticks": ""
            },
            "colorscale": [
             [
              0,
              "#0d0887"
             ],
             [
              0.1111111111111111,
              "#46039f"
             ],
             [
              0.2222222222222222,
              "#7201a8"
             ],
             [
              0.3333333333333333,
              "#9c179e"
             ],
             [
              0.4444444444444444,
              "#bd3786"
             ],
             [
              0.5555555555555556,
              "#d8576b"
             ],
             [
              0.6666666666666666,
              "#ed7953"
             ],
             [
              0.7777777777777778,
              "#fb9f3a"
             ],
             [
              0.8888888888888888,
              "#fdca26"
             ],
             [
              1,
              "#f0f921"
             ]
            ],
            "type": "surface"
           }
          ],
          "table": [
           {
            "cells": {
             "fill": {
              "color": "#EBF0F8"
             },
             "line": {
              "color": "white"
             }
            },
            "header": {
             "fill": {
              "color": "#C8D4E3"
             },
             "line": {
              "color": "white"
             }
            },
            "type": "table"
           }
          ]
         },
         "layout": {
          "annotationdefaults": {
           "arrowcolor": "#2a3f5f",
           "arrowhead": 0,
           "arrowwidth": 1
          },
          "autotypenumbers": "strict",
          "coloraxis": {
           "colorbar": {
            "outlinewidth": 0,
            "ticks": ""
           }
          },
          "colorscale": {
           "diverging": [
            [
             0,
             "#8e0152"
            ],
            [
             0.1,
             "#c51b7d"
            ],
            [
             0.2,
             "#de77ae"
            ],
            [
             0.3,
             "#f1b6da"
            ],
            [
             0.4,
             "#fde0ef"
            ],
            [
             0.5,
             "#f7f7f7"
            ],
            [
             0.6,
             "#e6f5d0"
            ],
            [
             0.7,
             "#b8e186"
            ],
            [
             0.8,
             "#7fbc41"
            ],
            [
             0.9,
             "#4d9221"
            ],
            [
             1,
             "#276419"
            ]
           ],
           "sequential": [
            [
             0,
             "#0d0887"
            ],
            [
             0.1111111111111111,
             "#46039f"
            ],
            [
             0.2222222222222222,
             "#7201a8"
            ],
            [
             0.3333333333333333,
             "#9c179e"
            ],
            [
             0.4444444444444444,
             "#bd3786"
            ],
            [
             0.5555555555555556,
             "#d8576b"
            ],
            [
             0.6666666666666666,
             "#ed7953"
            ],
            [
             0.7777777777777778,
             "#fb9f3a"
            ],
            [
             0.8888888888888888,
             "#fdca26"
            ],
            [
             1,
             "#f0f921"
            ]
           ],
           "sequentialminus": [
            [
             0,
             "#0d0887"
            ],
            [
             0.1111111111111111,
             "#46039f"
            ],
            [
             0.2222222222222222,
             "#7201a8"
            ],
            [
             0.3333333333333333,
             "#9c179e"
            ],
            [
             0.4444444444444444,
             "#bd3786"
            ],
            [
             0.5555555555555556,
             "#d8576b"
            ],
            [
             0.6666666666666666,
             "#ed7953"
            ],
            [
             0.7777777777777778,
             "#fb9f3a"
            ],
            [
             0.8888888888888888,
             "#fdca26"
            ],
            [
             1,
             "#f0f921"
            ]
           ]
          },
          "colorway": [
           "#636efa",
           "#EF553B",
           "#00cc96",
           "#ab63fa",
           "#FFA15A",
           "#19d3f3",
           "#FF6692",
           "#B6E880",
           "#FF97FF",
           "#FECB52"
          ],
          "font": {
           "color": "#2a3f5f"
          },
          "geo": {
           "bgcolor": "white",
           "lakecolor": "white",
           "landcolor": "#E5ECF6",
           "showlakes": true,
           "showland": true,
           "subunitcolor": "white"
          },
          "hoverlabel": {
           "align": "left"
          },
          "hovermode": "closest",
          "mapbox": {
           "style": "light"
          },
          "paper_bgcolor": "white",
          "plot_bgcolor": "#E5ECF6",
          "polar": {
           "angularaxis": {
            "gridcolor": "white",
            "linecolor": "white",
            "ticks": ""
           },
           "bgcolor": "#E5ECF6",
           "radialaxis": {
            "gridcolor": "white",
            "linecolor": "white",
            "ticks": ""
           }
          },
          "scene": {
           "xaxis": {
            "backgroundcolor": "#E5ECF6",
            "gridcolor": "white",
            "gridwidth": 2,
            "linecolor": "white",
            "showbackground": true,
            "ticks": "",
            "zerolinecolor": "white"
           },
           "yaxis": {
            "backgroundcolor": "#E5ECF6",
            "gridcolor": "white",
            "gridwidth": 2,
            "linecolor": "white",
            "showbackground": true,
            "ticks": "",
            "zerolinecolor": "white"
           },
           "zaxis": {
            "backgroundcolor": "#E5ECF6",
            "gridcolor": "white",
            "gridwidth": 2,
            "linecolor": "white",
            "showbackground": true,
            "ticks": "",
            "zerolinecolor": "white"
           }
          },
          "shapedefaults": {
           "line": {
            "color": "#2a3f5f"
           }
          },
          "ternary": {
           "aaxis": {
            "gridcolor": "white",
            "linecolor": "white",
            "ticks": ""
           },
           "baxis": {
            "gridcolor": "white",
            "linecolor": "white",
            "ticks": ""
           },
           "bgcolor": "#E5ECF6",
           "caxis": {
            "gridcolor": "white",
            "linecolor": "white",
            "ticks": ""
           }
          },
          "title": {
           "x": 0.05
          },
          "xaxis": {
           "automargin": true,
           "gridcolor": "white",
           "linecolor": "white",
           "ticks": "",
           "title": {
            "standoff": 15
           },
           "zerolinecolor": "white",
           "zerolinewidth": 2
          },
          "yaxis": {
           "automargin": true,
           "gridcolor": "white",
           "linecolor": "white",
           "ticks": "",
           "title": {
            "standoff": 15
           },
           "zerolinecolor": "white",
           "zerolinewidth": 2
          }
         }
        },
        "xaxis": {
         "anchor": "y",
         "domain": [
          0,
          1
         ],
         "title": {
          "text": "fair_main_equalized_odds_difference"
         }
        },
        "xaxis2": {
         "anchor": "y2",
         "domain": [
          0,
          1
         ],
         "matches": "x",
         "showgrid": true,
         "showticklabels": false
        },
        "yaxis": {
         "anchor": "x",
         "domain": [
          0,
          0.8316
         ],
         "title": {
          "text": "count"
         }
        },
        "yaxis2": {
         "anchor": "x2",
         "domain": [
          0.8416,
          1
         ],
         "matches": "y2",
         "showgrid": false,
         "showline": false,
         "showticklabels": false,
         "ticks": ""
        }
       }
      }
     },
     "metadata": {},
     "output_type": "display_data"
    }
   ],
   "source": [
    "import plotly.express as px\n",
    "\n",
    "def render_plotly_density(colname):\n",
    "    fig = px.histogram(\n",
    "        df_agg,\n",
    "        x=colname,\n",
    "        marginal=\"rug\",\n",
    "        hover_data=cols_settings\n",
    "    )\n",
    "    fig.show()\n",
    "\n",
    "interactive_single_var_dropdown(options = cols_fairness + cols_performance, render_function=render_plotly_density)"
   ]
  },
  {
   "cell_type": "code",
   "execution_count": 10,
   "metadata": {},
   "outputs": [
    {
     "data": {
      "application/vnd.plotly.v1+json": {
       "config": {
        "plotlyServerURL": "https://plot.ly"
       },
       "data": [
        {
         "customdata": [
          [
           "quantile_0.1",
           "majority-minority",
           "none",
           "keep-all",
           "rf"
          ],
          [
           "quantile_0.25",
           "majority-minority",
           "none",
           "keep-all",
           "rf"
          ],
          [
           "quantile_0.1",
           "majority-minority",
           "sex",
           "keep-all",
           "logreg"
          ],
          [
           "quantile_0.25",
           "majority-minority",
           "sex",
           "keep-all",
           "logreg"
          ],
          [
           "quantile_0.1",
           "majority-minority",
           "none",
           "keep-all",
           "logreg"
          ],
          [
           "quantile_0.25",
           "majority-minority",
           "none",
           "keep-all",
           "logreg"
          ],
          [
           "quantile_0.1",
           "majority-minority",
           "none",
           "keep-all",
           "elasticnet"
          ],
          [
           "quantile_0.25",
           "majority-minority",
           "none",
           "keep-all",
           "elasticnet"
          ],
          [
           "quantile_0.1",
           "majority-minority",
           "nationality-sex",
           "keep-all",
           "rf"
          ],
          [
           "quantile_0.25",
           "majority-minority",
           "nationality-sex",
           "keep-all",
           "rf"
          ],
          [
           "quantile_0.1",
           "majority-minority",
           "sex",
           "keep-all",
           "rf"
          ],
          [
           "quantile_0.25",
           "majority-minority",
           "sex",
           "keep-all",
           "rf"
          ],
          [
           "quantile_0.1",
           "majority-minority",
           "nationality",
           "keep-all",
           "logreg"
          ],
          [
           "quantile_0.25",
           "majority-minority",
           "nationality",
           "keep-all",
           "logreg"
          ],
          [
           "quantile_0.1",
           "majority-minority",
           "nationality-sex",
           "keep-all",
           "gbm"
          ],
          [
           "quantile_0.25",
           "majority-minority",
           "nationality-sex",
           "keep-all",
           "gbm"
          ],
          [
           "quantile_0.1",
           "majority-minority",
           "sex",
           "keep-all",
           "gbm"
          ],
          [
           "quantile_0.25",
           "majority-minority",
           "sex",
           "keep-all",
           "gbm"
          ],
          [
           "quantile_0.1",
           "majority-minority",
           "none",
           "keep-all",
           "gbm"
          ],
          [
           "quantile_0.25",
           "majority-minority",
           "none",
           "keep-all",
           "gbm"
          ],
          [
           "quantile_0.1",
           "majority-minority",
           "nationality-sex",
           "keep-all",
           "logreg"
          ],
          [
           "quantile_0.25",
           "majority-minority",
           "nationality-sex",
           "keep-all",
           "logreg"
          ],
          [
           "quantile_0.1",
           "majority-minority",
           "nationality",
           "keep-all",
           "rf"
          ],
          [
           "quantile_0.25",
           "majority-minority",
           "nationality",
           "keep-all",
           "rf"
          ],
          [
           "quantile_0.1",
           "majority-minority",
           "nationality-sex",
           "keep-all",
           "elasticnet"
          ],
          [
           "quantile_0.25",
           "majority-minority",
           "nationality-sex",
           "keep-all",
           "elasticnet"
          ],
          [
           "quantile_0.1",
           "majority-minority",
           "nationality",
           "keep-all",
           "gbm"
          ],
          [
           "quantile_0.25",
           "majority-minority",
           "nationality",
           "keep-all",
           "gbm"
          ],
          [
           "quantile_0.1",
           "majority-minority",
           "nationality",
           "keep-all",
           "elasticnet"
          ],
          [
           "quantile_0.25",
           "majority-minority",
           "nationality",
           "keep-all",
           "elasticnet"
          ],
          [
           "quantile_0.1",
           "majority-minority",
           "sex",
           "keep-all",
           "elasticnet"
          ],
          [
           "quantile_0.25",
           "majority-minority",
           "sex",
           "keep-all",
           "elasticnet"
          ]
         ],
         "hovertemplate": "perf_ovrl_accuracy=%{x}<br>fair_main_equalized_odds_difference=%{y}<br>sett_cutoff=%{customdata[0]}<br>sett_eval_fairness_grouping=%{customdata[1]}<br>sett_exclude_features=%{customdata[2]}<br>sett_exclude_subgroups=%{customdata[3]}<br>sett_model=%{customdata[4]}<extra></extra>",
         "legendgroup": "",
         "marker": {
          "color": "#636efa",
          "symbol": "circle"
         },
         "mode": "markers",
         "name": "",
         "orientation": "v",
         "showlegend": false,
         "type": "scatter",
         "x": {
          "bdata": "LjU2SvNkyD+i+EXEpgTXP6aQeZQn38w/A+b+xhtr1z9WN1mQbN7MPyvOPK65Ztc/9sMghS6fyz8v+4yOifbVP2mShsO768g/J4OkUVkS1z9OEs/qBtzIP/DsU2nfIdc/ppB5lCffzD/ddByq/mXXP+zmJel718w/yIB9ti9o1z/LeLd7xdrMP3CtjTiNaNc/9WD1YmPWzD9wrY04jWjXP1Y3WZBs3sw/UT8fy9Zr1z8OUGwSvHHIPz9BaAMt19Y/9sMghS6fyz/XJ50Q5/bVPxvS13+A28w/vgauPEhp1z/2wyCFLp/LPy/7jI6J9tU/9sMghS6fyz/XJ50Q5/bVPw==",
          "dtype": "f8"
         },
         "xaxis": "x",
         "y": {
          "bdata": "FKGQL3yNpj/DHovHlNG1P8/bjxA3Fbg/iJr7ZWVzxT+morPbbA+4P79HQkvK+cU/Wm3dQWxhuD/MqALJsWzNPwuVA7VlHrA/9zEKmRKCtz/tKULPmCWqP56Y2cpQRrY/N7bEtg+itj946Ex4tGvEP8wa547vxLQ/Z423D0MHtT/Ax/dleAe1P2d9Wn5b+rY/YmdSWy5osz+t4UZIX9m0P6BESmkQr7Y/M8gjvBGowz/P6VqdcyqrP5wv08+lGLg/Wm3dQWxhuD9qjISGPW3NP6Xj6IVf7LQ/9zqEvzJttT9abd1BbGG4P9ZvFmxYas0/Wm3dQWxhuD9qjISGPW3NPw==",
          "dtype": "f8"
         },
         "yaxis": "y"
        },
        {
         "alignmentgroup": "True",
         "customdata": [
          [
           "quantile_0.1",
           "majority-minority",
           "none",
           "keep-all",
           "rf"
          ],
          [
           "quantile_0.25",
           "majority-minority",
           "none",
           "keep-all",
           "rf"
          ],
          [
           "quantile_0.1",
           "majority-minority",
           "sex",
           "keep-all",
           "logreg"
          ],
          [
           "quantile_0.25",
           "majority-minority",
           "sex",
           "keep-all",
           "logreg"
          ],
          [
           "quantile_0.1",
           "majority-minority",
           "none",
           "keep-all",
           "logreg"
          ],
          [
           "quantile_0.25",
           "majority-minority",
           "none",
           "keep-all",
           "logreg"
          ],
          [
           "quantile_0.1",
           "majority-minority",
           "none",
           "keep-all",
           "elasticnet"
          ],
          [
           "quantile_0.25",
           "majority-minority",
           "none",
           "keep-all",
           "elasticnet"
          ],
          [
           "quantile_0.1",
           "majority-minority",
           "nationality-sex",
           "keep-all",
           "rf"
          ],
          [
           "quantile_0.25",
           "majority-minority",
           "nationality-sex",
           "keep-all",
           "rf"
          ],
          [
           "quantile_0.1",
           "majority-minority",
           "sex",
           "keep-all",
           "rf"
          ],
          [
           "quantile_0.25",
           "majority-minority",
           "sex",
           "keep-all",
           "rf"
          ],
          [
           "quantile_0.1",
           "majority-minority",
           "nationality",
           "keep-all",
           "logreg"
          ],
          [
           "quantile_0.25",
           "majority-minority",
           "nationality",
           "keep-all",
           "logreg"
          ],
          [
           "quantile_0.1",
           "majority-minority",
           "nationality-sex",
           "keep-all",
           "gbm"
          ],
          [
           "quantile_0.25",
           "majority-minority",
           "nationality-sex",
           "keep-all",
           "gbm"
          ],
          [
           "quantile_0.1",
           "majority-minority",
           "sex",
           "keep-all",
           "gbm"
          ],
          [
           "quantile_0.25",
           "majority-minority",
           "sex",
           "keep-all",
           "gbm"
          ],
          [
           "quantile_0.1",
           "majority-minority",
           "none",
           "keep-all",
           "gbm"
          ],
          [
           "quantile_0.25",
           "majority-minority",
           "none",
           "keep-all",
           "gbm"
          ],
          [
           "quantile_0.1",
           "majority-minority",
           "nationality-sex",
           "keep-all",
           "logreg"
          ],
          [
           "quantile_0.25",
           "majority-minority",
           "nationality-sex",
           "keep-all",
           "logreg"
          ],
          [
           "quantile_0.1",
           "majority-minority",
           "nationality",
           "keep-all",
           "rf"
          ],
          [
           "quantile_0.25",
           "majority-minority",
           "nationality",
           "keep-all",
           "rf"
          ],
          [
           "quantile_0.1",
           "majority-minority",
           "nationality-sex",
           "keep-all",
           "elasticnet"
          ],
          [
           "quantile_0.25",
           "majority-minority",
           "nationality-sex",
           "keep-all",
           "elasticnet"
          ],
          [
           "quantile_0.1",
           "majority-minority",
           "nationality",
           "keep-all",
           "gbm"
          ],
          [
           "quantile_0.25",
           "majority-minority",
           "nationality",
           "keep-all",
           "gbm"
          ],
          [
           "quantile_0.1",
           "majority-minority",
           "nationality",
           "keep-all",
           "elasticnet"
          ],
          [
           "quantile_0.25",
           "majority-minority",
           "nationality",
           "keep-all",
           "elasticnet"
          ],
          [
           "quantile_0.1",
           "majority-minority",
           "sex",
           "keep-all",
           "elasticnet"
          ],
          [
           "quantile_0.25",
           "majority-minority",
           "sex",
           "keep-all",
           "elasticnet"
          ]
         ],
         "hovertemplate": "perf_ovrl_accuracy=%{x}<br>sett_cutoff=%{customdata[0]}<br>sett_eval_fairness_grouping=%{customdata[1]}<br>sett_exclude_features=%{customdata[2]}<br>sett_exclude_subgroups=%{customdata[3]}<br>sett_model=%{customdata[4]}<extra></extra>",
         "legendgroup": "",
         "marker": {
          "color": "#636efa",
          "symbol": "circle"
         },
         "name": "",
         "offsetgroup": "",
         "scalegroup": "x",
         "showlegend": false,
         "type": "violin",
         "x": {
          "bdata": "LjU2SvNkyD+i+EXEpgTXP6aQeZQn38w/A+b+xhtr1z9WN1mQbN7MPyvOPK65Ztc/9sMghS6fyz8v+4yOifbVP2mShsO768g/J4OkUVkS1z9OEs/qBtzIP/DsU2nfIdc/ppB5lCffzD/ddByq/mXXP+zmJel718w/yIB9ti9o1z/LeLd7xdrMP3CtjTiNaNc/9WD1YmPWzD9wrY04jWjXP1Y3WZBs3sw/UT8fy9Zr1z8OUGwSvHHIPz9BaAMt19Y/9sMghS6fyz/XJ50Q5/bVPxvS13+A28w/vgauPEhp1z/2wyCFLp/LPy/7jI6J9tU/9sMghS6fyz/XJ50Q5/bVPw==",
          "dtype": "f8"
         },
         "xaxis": "x3",
         "yaxis": "y3"
        },
        {
         "alignmentgroup": "True",
         "customdata": [
          [
           "quantile_0.1",
           "majority-minority",
           "none",
           "keep-all",
           "rf"
          ],
          [
           "quantile_0.25",
           "majority-minority",
           "none",
           "keep-all",
           "rf"
          ],
          [
           "quantile_0.1",
           "majority-minority",
           "sex",
           "keep-all",
           "logreg"
          ],
          [
           "quantile_0.25",
           "majority-minority",
           "sex",
           "keep-all",
           "logreg"
          ],
          [
           "quantile_0.1",
           "majority-minority",
           "none",
           "keep-all",
           "logreg"
          ],
          [
           "quantile_0.25",
           "majority-minority",
           "none",
           "keep-all",
           "logreg"
          ],
          [
           "quantile_0.1",
           "majority-minority",
           "none",
           "keep-all",
           "elasticnet"
          ],
          [
           "quantile_0.25",
           "majority-minority",
           "none",
           "keep-all",
           "elasticnet"
          ],
          [
           "quantile_0.1",
           "majority-minority",
           "nationality-sex",
           "keep-all",
           "rf"
          ],
          [
           "quantile_0.25",
           "majority-minority",
           "nationality-sex",
           "keep-all",
           "rf"
          ],
          [
           "quantile_0.1",
           "majority-minority",
           "sex",
           "keep-all",
           "rf"
          ],
          [
           "quantile_0.25",
           "majority-minority",
           "sex",
           "keep-all",
           "rf"
          ],
          [
           "quantile_0.1",
           "majority-minority",
           "nationality",
           "keep-all",
           "logreg"
          ],
          [
           "quantile_0.25",
           "majority-minority",
           "nationality",
           "keep-all",
           "logreg"
          ],
          [
           "quantile_0.1",
           "majority-minority",
           "nationality-sex",
           "keep-all",
           "gbm"
          ],
          [
           "quantile_0.25",
           "majority-minority",
           "nationality-sex",
           "keep-all",
           "gbm"
          ],
          [
           "quantile_0.1",
           "majority-minority",
           "sex",
           "keep-all",
           "gbm"
          ],
          [
           "quantile_0.25",
           "majority-minority",
           "sex",
           "keep-all",
           "gbm"
          ],
          [
           "quantile_0.1",
           "majority-minority",
           "none",
           "keep-all",
           "gbm"
          ],
          [
           "quantile_0.25",
           "majority-minority",
           "none",
           "keep-all",
           "gbm"
          ],
          [
           "quantile_0.1",
           "majority-minority",
           "nationality-sex",
           "keep-all",
           "logreg"
          ],
          [
           "quantile_0.25",
           "majority-minority",
           "nationality-sex",
           "keep-all",
           "logreg"
          ],
          [
           "quantile_0.1",
           "majority-minority",
           "nationality",
           "keep-all",
           "rf"
          ],
          [
           "quantile_0.25",
           "majority-minority",
           "nationality",
           "keep-all",
           "rf"
          ],
          [
           "quantile_0.1",
           "majority-minority",
           "nationality-sex",
           "keep-all",
           "elasticnet"
          ],
          [
           "quantile_0.25",
           "majority-minority",
           "nationality-sex",
           "keep-all",
           "elasticnet"
          ],
          [
           "quantile_0.1",
           "majority-minority",
           "nationality",
           "keep-all",
           "gbm"
          ],
          [
           "quantile_0.25",
           "majority-minority",
           "nationality",
           "keep-all",
           "gbm"
          ],
          [
           "quantile_0.1",
           "majority-minority",
           "nationality",
           "keep-all",
           "elasticnet"
          ],
          [
           "quantile_0.25",
           "majority-minority",
           "nationality",
           "keep-all",
           "elasticnet"
          ],
          [
           "quantile_0.1",
           "majority-minority",
           "sex",
           "keep-all",
           "elasticnet"
          ],
          [
           "quantile_0.25",
           "majority-minority",
           "sex",
           "keep-all",
           "elasticnet"
          ]
         ],
         "hovertemplate": "fair_main_equalized_odds_difference=%{y}<br>sett_cutoff=%{customdata[0]}<br>sett_eval_fairness_grouping=%{customdata[1]}<br>sett_exclude_features=%{customdata[2]}<br>sett_exclude_subgroups=%{customdata[3]}<br>sett_model=%{customdata[4]}<extra></extra>",
         "legendgroup": "",
         "marker": {
          "color": "#636efa",
          "symbol": "circle"
         },
         "name": "",
         "offsetgroup": "",
         "scalegroup": "y",
         "showlegend": false,
         "type": "violin",
         "xaxis": "x2",
         "y": {
          "bdata": "FKGQL3yNpj/DHovHlNG1P8/bjxA3Fbg/iJr7ZWVzxT+morPbbA+4P79HQkvK+cU/Wm3dQWxhuD/MqALJsWzNPwuVA7VlHrA/9zEKmRKCtz/tKULPmCWqP56Y2cpQRrY/N7bEtg+itj946Ex4tGvEP8wa547vxLQ/Z423D0MHtT/Ax/dleAe1P2d9Wn5b+rY/YmdSWy5osz+t4UZIX9m0P6BESmkQr7Y/M8gjvBGowz/P6VqdcyqrP5wv08+lGLg/Wm3dQWxhuD9qjISGPW3NP6Xj6IVf7LQ/9zqEvzJttT9abd1BbGG4P9ZvFmxYas0/Wm3dQWxhuD9qjISGPW3NPw==",
          "dtype": "f8"
         },
         "yaxis": "y2"
        }
       ],
       "layout": {
        "legend": {
         "tracegroupgap": 0
        },
        "template": {
         "data": {
          "bar": [
           {
            "error_x": {
             "color": "#2a3f5f"
            },
            "error_y": {
             "color": "#2a3f5f"
            },
            "marker": {
             "line": {
              "color": "#E5ECF6",
              "width": 0.5
             },
             "pattern": {
              "fillmode": "overlay",
              "size": 10,
              "solidity": 0.2
             }
            },
            "type": "bar"
           }
          ],
          "barpolar": [
           {
            "marker": {
             "line": {
              "color": "#E5ECF6",
              "width": 0.5
             },
             "pattern": {
              "fillmode": "overlay",
              "size": 10,
              "solidity": 0.2
             }
            },
            "type": "barpolar"
           }
          ],
          "carpet": [
           {
            "aaxis": {
             "endlinecolor": "#2a3f5f",
             "gridcolor": "white",
             "linecolor": "white",
             "minorgridcolor": "white",
             "startlinecolor": "#2a3f5f"
            },
            "baxis": {
             "endlinecolor": "#2a3f5f",
             "gridcolor": "white",
             "linecolor": "white",
             "minorgridcolor": "white",
             "startlinecolor": "#2a3f5f"
            },
            "type": "carpet"
           }
          ],
          "choropleth": [
           {
            "colorbar": {
             "outlinewidth": 0,
             "ticks": ""
            },
            "type": "choropleth"
           }
          ],
          "contour": [
           {
            "colorbar": {
             "outlinewidth": 0,
             "ticks": ""
            },
            "colorscale": [
             [
              0,
              "#0d0887"
             ],
             [
              0.1111111111111111,
              "#46039f"
             ],
             [
              0.2222222222222222,
              "#7201a8"
             ],
             [
              0.3333333333333333,
              "#9c179e"
             ],
             [
              0.4444444444444444,
              "#bd3786"
             ],
             [
              0.5555555555555556,
              "#d8576b"
             ],
             [
              0.6666666666666666,
              "#ed7953"
             ],
             [
              0.7777777777777778,
              "#fb9f3a"
             ],
             [
              0.8888888888888888,
              "#fdca26"
             ],
             [
              1,
              "#f0f921"
             ]
            ],
            "type": "contour"
           }
          ],
          "contourcarpet": [
           {
            "colorbar": {
             "outlinewidth": 0,
             "ticks": ""
            },
            "type": "contourcarpet"
           }
          ],
          "heatmap": [
           {
            "colorbar": {
             "outlinewidth": 0,
             "ticks": ""
            },
            "colorscale": [
             [
              0,
              "#0d0887"
             ],
             [
              0.1111111111111111,
              "#46039f"
             ],
             [
              0.2222222222222222,
              "#7201a8"
             ],
             [
              0.3333333333333333,
              "#9c179e"
             ],
             [
              0.4444444444444444,
              "#bd3786"
             ],
             [
              0.5555555555555556,
              "#d8576b"
             ],
             [
              0.6666666666666666,
              "#ed7953"
             ],
             [
              0.7777777777777778,
              "#fb9f3a"
             ],
             [
              0.8888888888888888,
              "#fdca26"
             ],
             [
              1,
              "#f0f921"
             ]
            ],
            "type": "heatmap"
           }
          ],
          "histogram": [
           {
            "marker": {
             "pattern": {
              "fillmode": "overlay",
              "size": 10,
              "solidity": 0.2
             }
            },
            "type": "histogram"
           }
          ],
          "histogram2d": [
           {
            "colorbar": {
             "outlinewidth": 0,
             "ticks": ""
            },
            "colorscale": [
             [
              0,
              "#0d0887"
             ],
             [
              0.1111111111111111,
              "#46039f"
             ],
             [
              0.2222222222222222,
              "#7201a8"
             ],
             [
              0.3333333333333333,
              "#9c179e"
             ],
             [
              0.4444444444444444,
              "#bd3786"
             ],
             [
              0.5555555555555556,
              "#d8576b"
             ],
             [
              0.6666666666666666,
              "#ed7953"
             ],
             [
              0.7777777777777778,
              "#fb9f3a"
             ],
             [
              0.8888888888888888,
              "#fdca26"
             ],
             [
              1,
              "#f0f921"
             ]
            ],
            "type": "histogram2d"
           }
          ],
          "histogram2dcontour": [
           {
            "colorbar": {
             "outlinewidth": 0,
             "ticks": ""
            },
            "colorscale": [
             [
              0,
              "#0d0887"
             ],
             [
              0.1111111111111111,
              "#46039f"
             ],
             [
              0.2222222222222222,
              "#7201a8"
             ],
             [
              0.3333333333333333,
              "#9c179e"
             ],
             [
              0.4444444444444444,
              "#bd3786"
             ],
             [
              0.5555555555555556,
              "#d8576b"
             ],
             [
              0.6666666666666666,
              "#ed7953"
             ],
             [
              0.7777777777777778,
              "#fb9f3a"
             ],
             [
              0.8888888888888888,
              "#fdca26"
             ],
             [
              1,
              "#f0f921"
             ]
            ],
            "type": "histogram2dcontour"
           }
          ],
          "mesh3d": [
           {
            "colorbar": {
             "outlinewidth": 0,
             "ticks": ""
            },
            "type": "mesh3d"
           }
          ],
          "parcoords": [
           {
            "line": {
             "colorbar": {
              "outlinewidth": 0,
              "ticks": ""
             }
            },
            "type": "parcoords"
           }
          ],
          "pie": [
           {
            "automargin": true,
            "type": "pie"
           }
          ],
          "scatter": [
           {
            "fillpattern": {
             "fillmode": "overlay",
             "size": 10,
             "solidity": 0.2
            },
            "type": "scatter"
           }
          ],
          "scatter3d": [
           {
            "line": {
             "colorbar": {
              "outlinewidth": 0,
              "ticks": ""
             }
            },
            "marker": {
             "colorbar": {
              "outlinewidth": 0,
              "ticks": ""
             }
            },
            "type": "scatter3d"
           }
          ],
          "scattercarpet": [
           {
            "marker": {
             "colorbar": {
              "outlinewidth": 0,
              "ticks": ""
             }
            },
            "type": "scattercarpet"
           }
          ],
          "scattergeo": [
           {
            "marker": {
             "colorbar": {
              "outlinewidth": 0,
              "ticks": ""
             }
            },
            "type": "scattergeo"
           }
          ],
          "scattergl": [
           {
            "marker": {
             "colorbar": {
              "outlinewidth": 0,
              "ticks": ""
             }
            },
            "type": "scattergl"
           }
          ],
          "scattermap": [
           {
            "marker": {
             "colorbar": {
              "outlinewidth": 0,
              "ticks": ""
             }
            },
            "type": "scattermap"
           }
          ],
          "scattermapbox": [
           {
            "marker": {
             "colorbar": {
              "outlinewidth": 0,
              "ticks": ""
             }
            },
            "type": "scattermapbox"
           }
          ],
          "scatterpolar": [
           {
            "marker": {
             "colorbar": {
              "outlinewidth": 0,
              "ticks": ""
             }
            },
            "type": "scatterpolar"
           }
          ],
          "scatterpolargl": [
           {
            "marker": {
             "colorbar": {
              "outlinewidth": 0,
              "ticks": ""
             }
            },
            "type": "scatterpolargl"
           }
          ],
          "scatterternary": [
           {
            "marker": {
             "colorbar": {
              "outlinewidth": 0,
              "ticks": ""
             }
            },
            "type": "scatterternary"
           }
          ],
          "surface": [
           {
            "colorbar": {
             "outlinewidth": 0,
             "ticks": ""
            },
            "colorscale": [
             [
              0,
              "#0d0887"
             ],
             [
              0.1111111111111111,
              "#46039f"
             ],
             [
              0.2222222222222222,
              "#7201a8"
             ],
             [
              0.3333333333333333,
              "#9c179e"
             ],
             [
              0.4444444444444444,
              "#bd3786"
             ],
             [
              0.5555555555555556,
              "#d8576b"
             ],
             [
              0.6666666666666666,
              "#ed7953"
             ],
             [
              0.7777777777777778,
              "#fb9f3a"
             ],
             [
              0.8888888888888888,
              "#fdca26"
             ],
             [
              1,
              "#f0f921"
             ]
            ],
            "type": "surface"
           }
          ],
          "table": [
           {
            "cells": {
             "fill": {
              "color": "#EBF0F8"
             },
             "line": {
              "color": "white"
             }
            },
            "header": {
             "fill": {
              "color": "#C8D4E3"
             },
             "line": {
              "color": "white"
             }
            },
            "type": "table"
           }
          ]
         },
         "layout": {
          "annotationdefaults": {
           "arrowcolor": "#2a3f5f",
           "arrowhead": 0,
           "arrowwidth": 1
          },
          "autotypenumbers": "strict",
          "coloraxis": {
           "colorbar": {
            "outlinewidth": 0,
            "ticks": ""
           }
          },
          "colorscale": {
           "diverging": [
            [
             0,
             "#8e0152"
            ],
            [
             0.1,
             "#c51b7d"
            ],
            [
             0.2,
             "#de77ae"
            ],
            [
             0.3,
             "#f1b6da"
            ],
            [
             0.4,
             "#fde0ef"
            ],
            [
             0.5,
             "#f7f7f7"
            ],
            [
             0.6,
             "#e6f5d0"
            ],
            [
             0.7,
             "#b8e186"
            ],
            [
             0.8,
             "#7fbc41"
            ],
            [
             0.9,
             "#4d9221"
            ],
            [
             1,
             "#276419"
            ]
           ],
           "sequential": [
            [
             0,
             "#0d0887"
            ],
            [
             0.1111111111111111,
             "#46039f"
            ],
            [
             0.2222222222222222,
             "#7201a8"
            ],
            [
             0.3333333333333333,
             "#9c179e"
            ],
            [
             0.4444444444444444,
             "#bd3786"
            ],
            [
             0.5555555555555556,
             "#d8576b"
            ],
            [
             0.6666666666666666,
             "#ed7953"
            ],
            [
             0.7777777777777778,
             "#fb9f3a"
            ],
            [
             0.8888888888888888,
             "#fdca26"
            ],
            [
             1,
             "#f0f921"
            ]
           ],
           "sequentialminus": [
            [
             0,
             "#0d0887"
            ],
            [
             0.1111111111111111,
             "#46039f"
            ],
            [
             0.2222222222222222,
             "#7201a8"
            ],
            [
             0.3333333333333333,
             "#9c179e"
            ],
            [
             0.4444444444444444,
             "#bd3786"
            ],
            [
             0.5555555555555556,
             "#d8576b"
            ],
            [
             0.6666666666666666,
             "#ed7953"
            ],
            [
             0.7777777777777778,
             "#fb9f3a"
            ],
            [
             0.8888888888888888,
             "#fdca26"
            ],
            [
             1,
             "#f0f921"
            ]
           ]
          },
          "colorway": [
           "#636efa",
           "#EF553B",
           "#00cc96",
           "#ab63fa",
           "#FFA15A",
           "#19d3f3",
           "#FF6692",
           "#B6E880",
           "#FF97FF",
           "#FECB52"
          ],
          "font": {
           "color": "#2a3f5f"
          },
          "geo": {
           "bgcolor": "white",
           "lakecolor": "white",
           "landcolor": "#E5ECF6",
           "showlakes": true,
           "showland": true,
           "subunitcolor": "white"
          },
          "hoverlabel": {
           "align": "left"
          },
          "hovermode": "closest",
          "mapbox": {
           "style": "light"
          },
          "paper_bgcolor": "white",
          "plot_bgcolor": "#E5ECF6",
          "polar": {
           "angularaxis": {
            "gridcolor": "white",
            "linecolor": "white",
            "ticks": ""
           },
           "bgcolor": "#E5ECF6",
           "radialaxis": {
            "gridcolor": "white",
            "linecolor": "white",
            "ticks": ""
           }
          },
          "scene": {
           "xaxis": {
            "backgroundcolor": "#E5ECF6",
            "gridcolor": "white",
            "gridwidth": 2,
            "linecolor": "white",
            "showbackground": true,
            "ticks": "",
            "zerolinecolor": "white"
           },
           "yaxis": {
            "backgroundcolor": "#E5ECF6",
            "gridcolor": "white",
            "gridwidth": 2,
            "linecolor": "white",
            "showbackground": true,
            "ticks": "",
            "zerolinecolor": "white"
           },
           "zaxis": {
            "backgroundcolor": "#E5ECF6",
            "gridcolor": "white",
            "gridwidth": 2,
            "linecolor": "white",
            "showbackground": true,
            "ticks": "",
            "zerolinecolor": "white"
           }
          },
          "shapedefaults": {
           "line": {
            "color": "#2a3f5f"
           }
          },
          "ternary": {
           "aaxis": {
            "gridcolor": "white",
            "linecolor": "white",
            "ticks": ""
           },
           "baxis": {
            "gridcolor": "white",
            "linecolor": "white",
            "ticks": ""
           },
           "bgcolor": "#E5ECF6",
           "caxis": {
            "gridcolor": "white",
            "linecolor": "white",
            "ticks": ""
           }
          },
          "title": {
           "x": 0.05
          },
          "xaxis": {
           "automargin": true,
           "gridcolor": "white",
           "linecolor": "white",
           "ticks": "",
           "title": {
            "standoff": 15
           },
           "zerolinecolor": "white",
           "zerolinewidth": 2
          },
          "yaxis": {
           "automargin": true,
           "gridcolor": "white",
           "linecolor": "white",
           "ticks": "",
           "title": {
            "standoff": 15
           },
           "zerolinecolor": "white",
           "zerolinewidth": 2
          }
         }
        },
        "title": {
         "text": "Accuracy x Fairness"
        },
        "xaxis": {
         "anchor": "y",
         "domain": [
          0,
          0.8358
         ],
         "title": {
          "text": "perf_ovrl_accuracy"
         }
        },
        "xaxis2": {
         "anchor": "y2",
         "domain": [
          0.8408,
          1
         ],
         "matches": "x2",
         "showgrid": false,
         "showline": false,
         "showticklabels": false,
         "ticks": ""
        },
        "xaxis3": {
         "anchor": "y3",
         "domain": [
          0,
          0.8358
         ],
         "matches": "x",
         "showgrid": true,
         "showticklabels": false
        },
        "xaxis4": {
         "anchor": "y4",
         "domain": [
          0.8408,
          1
         ],
         "matches": "x2",
         "showgrid": false,
         "showline": false,
         "showticklabels": false,
         "ticks": ""
        },
        "yaxis": {
         "anchor": "x",
         "domain": [
          0,
          0.8316
         ],
         "title": {
          "text": "fair_main_equalized_odds_difference"
         }
        },
        "yaxis2": {
         "anchor": "x2",
         "domain": [
          0,
          0.8316
         ],
         "matches": "y",
         "showgrid": true,
         "showticklabels": false
        },
        "yaxis3": {
         "anchor": "x3",
         "domain": [
          0.8416,
          1
         ],
         "matches": "y3",
         "showgrid": false,
         "showline": false,
         "showticklabels": false,
         "ticks": ""
        },
        "yaxis4": {
         "anchor": "x4",
         "domain": [
          0.8416,
          1
         ],
         "matches": "y3",
         "showgrid": true,
         "showline": false,
         "showticklabels": false,
         "ticks": ""
        }
       }
      }
     },
     "metadata": {},
     "output_type": "display_data"
    }
   ],
   "source": [
    "px.scatter(\n",
    "    df_agg,\n",
    "    x=\"perf_ovrl_accuracy\",\n",
    "    y=main_fairness_metric,\n",
    "    marginal_x=\"violin\",\n",
    "    marginal_y= \"violin\",\n",
    "    hover_data=cols_settings,\n",
    "    title=\"Accuracy x Fairness\"\n",
    ")"
   ]
  },
  {
   "attachments": {},
   "cell_type": "markdown",
   "metadata": {},
   "source": [
    "## Exploratory Analysis of Fairness based on Settings"
   ]
  },
  {
   "cell_type": "code",
   "execution_count": 11,
   "metadata": {},
   "outputs": [
    {
     "data": {
      "application/vnd.jupyter.widget-view+json": {
       "model_id": "5cd3a94cfc08430a8c19c64861d312b6",
       "version_major": 2,
       "version_minor": 0
      },
      "text/plain": [
       "Dropdown(description='Column:', options=('sett_cutoff', 'sett_eval_fairness_grouping', 'sett_exclude_features'…"
      ]
     },
     "metadata": {},
     "output_type": "display_data"
    },
    {
     "data": {
      "application/vnd.plotly.v1+json": {
       "config": {
        "plotlyServerURL": "https://plot.ly"
       },
       "data": [
        {
         "alignmentgroup": "True",
         "box": {
          "visible": false
         },
         "customdata": [
          [
           "majority-minority",
           "none",
           "keep-all",
           "rf"
          ],
          [
           "majority-minority",
           "sex",
           "keep-all",
           "logreg"
          ],
          [
           "majority-minority",
           "none",
           "keep-all",
           "logreg"
          ],
          [
           "majority-minority",
           "none",
           "keep-all",
           "elasticnet"
          ],
          [
           "majority-minority",
           "nationality-sex",
           "keep-all",
           "rf"
          ],
          [
           "majority-minority",
           "sex",
           "keep-all",
           "rf"
          ],
          [
           "majority-minority",
           "nationality",
           "keep-all",
           "logreg"
          ],
          [
           "majority-minority",
           "nationality-sex",
           "keep-all",
           "gbm"
          ],
          [
           "majority-minority",
           "sex",
           "keep-all",
           "gbm"
          ],
          [
           "majority-minority",
           "none",
           "keep-all",
           "gbm"
          ],
          [
           "majority-minority",
           "nationality-sex",
           "keep-all",
           "logreg"
          ],
          [
           "majority-minority",
           "nationality",
           "keep-all",
           "rf"
          ],
          [
           "majority-minority",
           "nationality-sex",
           "keep-all",
           "elasticnet"
          ],
          [
           "majority-minority",
           "nationality",
           "keep-all",
           "gbm"
          ],
          [
           "majority-minority",
           "nationality",
           "keep-all",
           "elasticnet"
          ],
          [
           "majority-minority",
           "sex",
           "keep-all",
           "elasticnet"
          ]
         ],
         "hovertemplate": "sett_cutoff=%{x}<br>fair_main_equalized_odds_difference=%{y}<br>sett_eval_fairness_grouping=%{customdata[0]}<br>sett_exclude_features=%{customdata[1]}<br>sett_exclude_subgroups=%{customdata[2]}<br>sett_model=%{customdata[3]}<extra></extra>",
         "legendgroup": "quantile_0.1",
         "marker": {
          "color": "#636efa"
         },
         "name": "quantile_0.1",
         "offsetgroup": "quantile_0.1",
         "orientation": "v",
         "points": "all",
         "scalegroup": "True",
         "showlegend": true,
         "type": "violin",
         "x": [
          "quantile_0.1",
          "quantile_0.1",
          "quantile_0.1",
          "quantile_0.1",
          "quantile_0.1",
          "quantile_0.1",
          "quantile_0.1",
          "quantile_0.1",
          "quantile_0.1",
          "quantile_0.1",
          "quantile_0.1",
          "quantile_0.1",
          "quantile_0.1",
          "quantile_0.1",
          "quantile_0.1",
          "quantile_0.1"
         ],
         "x0": " ",
         "xaxis": "x",
         "y": {
          "bdata": "FKGQL3yNpj/P248QNxW4P6ais9tsD7g/Wm3dQWxhuD8LlQO1ZR6wP+0pQs+YJao/N7bEtg+itj/MGueO78S0P8DH92V4B7U/YmdSWy5osz+gREppEK+2P8/pWp1zKqs/Wm3dQWxhuD+l4+iFX+y0P1pt3UFsYbg/Wm3dQWxhuD8=",
          "dtype": "f8"
         },
         "y0": " ",
         "yaxis": "y"
        },
        {
         "alignmentgroup": "True",
         "box": {
          "visible": false
         },
         "customdata": [
          [
           "majority-minority",
           "none",
           "keep-all",
           "rf"
          ],
          [
           "majority-minority",
           "sex",
           "keep-all",
           "logreg"
          ],
          [
           "majority-minority",
           "none",
           "keep-all",
           "logreg"
          ],
          [
           "majority-minority",
           "none",
           "keep-all",
           "elasticnet"
          ],
          [
           "majority-minority",
           "nationality-sex",
           "keep-all",
           "rf"
          ],
          [
           "majority-minority",
           "sex",
           "keep-all",
           "rf"
          ],
          [
           "majority-minority",
           "nationality",
           "keep-all",
           "logreg"
          ],
          [
           "majority-minority",
           "nationality-sex",
           "keep-all",
           "gbm"
          ],
          [
           "majority-minority",
           "sex",
           "keep-all",
           "gbm"
          ],
          [
           "majority-minority",
           "none",
           "keep-all",
           "gbm"
          ],
          [
           "majority-minority",
           "nationality-sex",
           "keep-all",
           "logreg"
          ],
          [
           "majority-minority",
           "nationality",
           "keep-all",
           "rf"
          ],
          [
           "majority-minority",
           "nationality-sex",
           "keep-all",
           "elasticnet"
          ],
          [
           "majority-minority",
           "nationality",
           "keep-all",
           "gbm"
          ],
          [
           "majority-minority",
           "nationality",
           "keep-all",
           "elasticnet"
          ],
          [
           "majority-minority",
           "sex",
           "keep-all",
           "elasticnet"
          ]
         ],
         "hovertemplate": "sett_cutoff=%{x}<br>fair_main_equalized_odds_difference=%{y}<br>sett_eval_fairness_grouping=%{customdata[0]}<br>sett_exclude_features=%{customdata[1]}<br>sett_exclude_subgroups=%{customdata[2]}<br>sett_model=%{customdata[3]}<extra></extra>",
         "legendgroup": "quantile_0.25",
         "marker": {
          "color": "#EF553B"
         },
         "name": "quantile_0.25",
         "offsetgroup": "quantile_0.25",
         "orientation": "v",
         "points": "all",
         "scalegroup": "True",
         "showlegend": true,
         "type": "violin",
         "x": [
          "quantile_0.25",
          "quantile_0.25",
          "quantile_0.25",
          "quantile_0.25",
          "quantile_0.25",
          "quantile_0.25",
          "quantile_0.25",
          "quantile_0.25",
          "quantile_0.25",
          "quantile_0.25",
          "quantile_0.25",
          "quantile_0.25",
          "quantile_0.25",
          "quantile_0.25",
          "quantile_0.25",
          "quantile_0.25"
         ],
         "x0": " ",
         "xaxis": "x",
         "y": {
          "bdata": "wx6Lx5TRtT+ImvtlZXPFP79HQkvK+cU/zKgCybFszT/3MQqZEoK3P56Y2cpQRrY/eOhMeLRrxD9njbcPQwe1P2d9Wn5b+rY/reFGSF/ZtD8zyCO8EajDP5wv08+lGLg/aoyEhj1tzT/3OoS/Mm21P9ZvFmxYas0/aoyEhj1tzT8=",
          "dtype": "f8"
         },
         "y0": " ",
         "yaxis": "y"
        }
       ],
       "layout": {
        "legend": {
         "title": {
          "text": "sett_cutoff"
         },
         "tracegroupgap": 0
        },
        "margin": {
         "t": 60
        },
        "template": {
         "data": {
          "bar": [
           {
            "error_x": {
             "color": "#2a3f5f"
            },
            "error_y": {
             "color": "#2a3f5f"
            },
            "marker": {
             "line": {
              "color": "#E5ECF6",
              "width": 0.5
             },
             "pattern": {
              "fillmode": "overlay",
              "size": 10,
              "solidity": 0.2
             }
            },
            "type": "bar"
           }
          ],
          "barpolar": [
           {
            "marker": {
             "line": {
              "color": "#E5ECF6",
              "width": 0.5
             },
             "pattern": {
              "fillmode": "overlay",
              "size": 10,
              "solidity": 0.2
             }
            },
            "type": "barpolar"
           }
          ],
          "carpet": [
           {
            "aaxis": {
             "endlinecolor": "#2a3f5f",
             "gridcolor": "white",
             "linecolor": "white",
             "minorgridcolor": "white",
             "startlinecolor": "#2a3f5f"
            },
            "baxis": {
             "endlinecolor": "#2a3f5f",
             "gridcolor": "white",
             "linecolor": "white",
             "minorgridcolor": "white",
             "startlinecolor": "#2a3f5f"
            },
            "type": "carpet"
           }
          ],
          "choropleth": [
           {
            "colorbar": {
             "outlinewidth": 0,
             "ticks": ""
            },
            "type": "choropleth"
           }
          ],
          "contour": [
           {
            "colorbar": {
             "outlinewidth": 0,
             "ticks": ""
            },
            "colorscale": [
             [
              0,
              "#0d0887"
             ],
             [
              0.1111111111111111,
              "#46039f"
             ],
             [
              0.2222222222222222,
              "#7201a8"
             ],
             [
              0.3333333333333333,
              "#9c179e"
             ],
             [
              0.4444444444444444,
              "#bd3786"
             ],
             [
              0.5555555555555556,
              "#d8576b"
             ],
             [
              0.6666666666666666,
              "#ed7953"
             ],
             [
              0.7777777777777778,
              "#fb9f3a"
             ],
             [
              0.8888888888888888,
              "#fdca26"
             ],
             [
              1,
              "#f0f921"
             ]
            ],
            "type": "contour"
           }
          ],
          "contourcarpet": [
           {
            "colorbar": {
             "outlinewidth": 0,
             "ticks": ""
            },
            "type": "contourcarpet"
           }
          ],
          "heatmap": [
           {
            "colorbar": {
             "outlinewidth": 0,
             "ticks": ""
            },
            "colorscale": [
             [
              0,
              "#0d0887"
             ],
             [
              0.1111111111111111,
              "#46039f"
             ],
             [
              0.2222222222222222,
              "#7201a8"
             ],
             [
              0.3333333333333333,
              "#9c179e"
             ],
             [
              0.4444444444444444,
              "#bd3786"
             ],
             [
              0.5555555555555556,
              "#d8576b"
             ],
             [
              0.6666666666666666,
              "#ed7953"
             ],
             [
              0.7777777777777778,
              "#fb9f3a"
             ],
             [
              0.8888888888888888,
              "#fdca26"
             ],
             [
              1,
              "#f0f921"
             ]
            ],
            "type": "heatmap"
           }
          ],
          "histogram": [
           {
            "marker": {
             "pattern": {
              "fillmode": "overlay",
              "size": 10,
              "solidity": 0.2
             }
            },
            "type": "histogram"
           }
          ],
          "histogram2d": [
           {
            "colorbar": {
             "outlinewidth": 0,
             "ticks": ""
            },
            "colorscale": [
             [
              0,
              "#0d0887"
             ],
             [
              0.1111111111111111,
              "#46039f"
             ],
             [
              0.2222222222222222,
              "#7201a8"
             ],
             [
              0.3333333333333333,
              "#9c179e"
             ],
             [
              0.4444444444444444,
              "#bd3786"
             ],
             [
              0.5555555555555556,
              "#d8576b"
             ],
             [
              0.6666666666666666,
              "#ed7953"
             ],
             [
              0.7777777777777778,
              "#fb9f3a"
             ],
             [
              0.8888888888888888,
              "#fdca26"
             ],
             [
              1,
              "#f0f921"
             ]
            ],
            "type": "histogram2d"
           }
          ],
          "histogram2dcontour": [
           {
            "colorbar": {
             "outlinewidth": 0,
             "ticks": ""
            },
            "colorscale": [
             [
              0,
              "#0d0887"
             ],
             [
              0.1111111111111111,
              "#46039f"
             ],
             [
              0.2222222222222222,
              "#7201a8"
             ],
             [
              0.3333333333333333,
              "#9c179e"
             ],
             [
              0.4444444444444444,
              "#bd3786"
             ],
             [
              0.5555555555555556,
              "#d8576b"
             ],
             [
              0.6666666666666666,
              "#ed7953"
             ],
             [
              0.7777777777777778,
              "#fb9f3a"
             ],
             [
              0.8888888888888888,
              "#fdca26"
             ],
             [
              1,
              "#f0f921"
             ]
            ],
            "type": "histogram2dcontour"
           }
          ],
          "mesh3d": [
           {
            "colorbar": {
             "outlinewidth": 0,
             "ticks": ""
            },
            "type": "mesh3d"
           }
          ],
          "parcoords": [
           {
            "line": {
             "colorbar": {
              "outlinewidth": 0,
              "ticks": ""
             }
            },
            "type": "parcoords"
           }
          ],
          "pie": [
           {
            "automargin": true,
            "type": "pie"
           }
          ],
          "scatter": [
           {
            "fillpattern": {
             "fillmode": "overlay",
             "size": 10,
             "solidity": 0.2
            },
            "type": "scatter"
           }
          ],
          "scatter3d": [
           {
            "line": {
             "colorbar": {
              "outlinewidth": 0,
              "ticks": ""
             }
            },
            "marker": {
             "colorbar": {
              "outlinewidth": 0,
              "ticks": ""
             }
            },
            "type": "scatter3d"
           }
          ],
          "scattercarpet": [
           {
            "marker": {
             "colorbar": {
              "outlinewidth": 0,
              "ticks": ""
             }
            },
            "type": "scattercarpet"
           }
          ],
          "scattergeo": [
           {
            "marker": {
             "colorbar": {
              "outlinewidth": 0,
              "ticks": ""
             }
            },
            "type": "scattergeo"
           }
          ],
          "scattergl": [
           {
            "marker": {
             "colorbar": {
              "outlinewidth": 0,
              "ticks": ""
             }
            },
            "type": "scattergl"
           }
          ],
          "scattermap": [
           {
            "marker": {
             "colorbar": {
              "outlinewidth": 0,
              "ticks": ""
             }
            },
            "type": "scattermap"
           }
          ],
          "scattermapbox": [
           {
            "marker": {
             "colorbar": {
              "outlinewidth": 0,
              "ticks": ""
             }
            },
            "type": "scattermapbox"
           }
          ],
          "scatterpolar": [
           {
            "marker": {
             "colorbar": {
              "outlinewidth": 0,
              "ticks": ""
             }
            },
            "type": "scatterpolar"
           }
          ],
          "scatterpolargl": [
           {
            "marker": {
             "colorbar": {
              "outlinewidth": 0,
              "ticks": ""
             }
            },
            "type": "scatterpolargl"
           }
          ],
          "scatterternary": [
           {
            "marker": {
             "colorbar": {
              "outlinewidth": 0,
              "ticks": ""
             }
            },
            "type": "scatterternary"
           }
          ],
          "surface": [
           {
            "colorbar": {
             "outlinewidth": 0,
             "ticks": ""
            },
            "colorscale": [
             [
              0,
              "#0d0887"
             ],
             [
              0.1111111111111111,
              "#46039f"
             ],
             [
              0.2222222222222222,
              "#7201a8"
             ],
             [
              0.3333333333333333,
              "#9c179e"
             ],
             [
              0.4444444444444444,
              "#bd3786"
             ],
             [
              0.5555555555555556,
              "#d8576b"
             ],
             [
              0.6666666666666666,
              "#ed7953"
             ],
             [
              0.7777777777777778,
              "#fb9f3a"
             ],
             [
              0.8888888888888888,
              "#fdca26"
             ],
             [
              1,
              "#f0f921"
             ]
            ],
            "type": "surface"
           }
          ],
          "table": [
           {
            "cells": {
             "fill": {
              "color": "#EBF0F8"
             },
             "line": {
              "color": "white"
             }
            },
            "header": {
             "fill": {
              "color": "#C8D4E3"
             },
             "line": {
              "color": "white"
             }
            },
            "type": "table"
           }
          ]
         },
         "layout": {
          "annotationdefaults": {
           "arrowcolor": "#2a3f5f",
           "arrowhead": 0,
           "arrowwidth": 1
          },
          "autotypenumbers": "strict",
          "coloraxis": {
           "colorbar": {
            "outlinewidth": 0,
            "ticks": ""
           }
          },
          "colorscale": {
           "diverging": [
            [
             0,
             "#8e0152"
            ],
            [
             0.1,
             "#c51b7d"
            ],
            [
             0.2,
             "#de77ae"
            ],
            [
             0.3,
             "#f1b6da"
            ],
            [
             0.4,
             "#fde0ef"
            ],
            [
             0.5,
             "#f7f7f7"
            ],
            [
             0.6,
             "#e6f5d0"
            ],
            [
             0.7,
             "#b8e186"
            ],
            [
             0.8,
             "#7fbc41"
            ],
            [
             0.9,
             "#4d9221"
            ],
            [
             1,
             "#276419"
            ]
           ],
           "sequential": [
            [
             0,
             "#0d0887"
            ],
            [
             0.1111111111111111,
             "#46039f"
            ],
            [
             0.2222222222222222,
             "#7201a8"
            ],
            [
             0.3333333333333333,
             "#9c179e"
            ],
            [
             0.4444444444444444,
             "#bd3786"
            ],
            [
             0.5555555555555556,
             "#d8576b"
            ],
            [
             0.6666666666666666,
             "#ed7953"
            ],
            [
             0.7777777777777778,
             "#fb9f3a"
            ],
            [
             0.8888888888888888,
             "#fdca26"
            ],
            [
             1,
             "#f0f921"
            ]
           ],
           "sequentialminus": [
            [
             0,
             "#0d0887"
            ],
            [
             0.1111111111111111,
             "#46039f"
            ],
            [
             0.2222222222222222,
             "#7201a8"
            ],
            [
             0.3333333333333333,
             "#9c179e"
            ],
            [
             0.4444444444444444,
             "#bd3786"
            ],
            [
             0.5555555555555556,
             "#d8576b"
            ],
            [
             0.6666666666666666,
             "#ed7953"
            ],
            [
             0.7777777777777778,
             "#fb9f3a"
            ],
            [
             0.8888888888888888,
             "#fdca26"
            ],
            [
             1,
             "#f0f921"
            ]
           ]
          },
          "colorway": [
           "#636efa",
           "#EF553B",
           "#00cc96",
           "#ab63fa",
           "#FFA15A",
           "#19d3f3",
           "#FF6692",
           "#B6E880",
           "#FF97FF",
           "#FECB52"
          ],
          "font": {
           "color": "#2a3f5f"
          },
          "geo": {
           "bgcolor": "white",
           "lakecolor": "white",
           "landcolor": "#E5ECF6",
           "showlakes": true,
           "showland": true,
           "subunitcolor": "white"
          },
          "hoverlabel": {
           "align": "left"
          },
          "hovermode": "closest",
          "mapbox": {
           "style": "light"
          },
          "paper_bgcolor": "white",
          "plot_bgcolor": "#E5ECF6",
          "polar": {
           "angularaxis": {
            "gridcolor": "white",
            "linecolor": "white",
            "ticks": ""
           },
           "bgcolor": "#E5ECF6",
           "radialaxis": {
            "gridcolor": "white",
            "linecolor": "white",
            "ticks": ""
           }
          },
          "scene": {
           "xaxis": {
            "backgroundcolor": "#E5ECF6",
            "gridcolor": "white",
            "gridwidth": 2,
            "linecolor": "white",
            "showbackground": true,
            "ticks": "",
            "zerolinecolor": "white"
           },
           "yaxis": {
            "backgroundcolor": "#E5ECF6",
            "gridcolor": "white",
            "gridwidth": 2,
            "linecolor": "white",
            "showbackground": true,
            "ticks": "",
            "zerolinecolor": "white"
           },
           "zaxis": {
            "backgroundcolor": "#E5ECF6",
            "gridcolor": "white",
            "gridwidth": 2,
            "linecolor": "white",
            "showbackground": true,
            "ticks": "",
            "zerolinecolor": "white"
           }
          },
          "shapedefaults": {
           "line": {
            "color": "#2a3f5f"
           }
          },
          "ternary": {
           "aaxis": {
            "gridcolor": "white",
            "linecolor": "white",
            "ticks": ""
           },
           "baxis": {
            "gridcolor": "white",
            "linecolor": "white",
            "ticks": ""
           },
           "bgcolor": "#E5ECF6",
           "caxis": {
            "gridcolor": "white",
            "linecolor": "white",
            "ticks": ""
           }
          },
          "title": {
           "x": 0.05
          },
          "xaxis": {
           "automargin": true,
           "gridcolor": "white",
           "linecolor": "white",
           "ticks": "",
           "title": {
            "standoff": 15
           },
           "zerolinecolor": "white",
           "zerolinewidth": 2
          },
          "yaxis": {
           "automargin": true,
           "gridcolor": "white",
           "linecolor": "white",
           "ticks": "",
           "title": {
            "standoff": 15
           },
           "zerolinecolor": "white",
           "zerolinewidth": 2
          }
         }
        },
        "violinmode": "overlay",
        "xaxis": {
         "anchor": "y",
         "categoryarray": [
          "quantile_0.1",
          "quantile_0.25"
         ],
         "categoryorder": "array",
         "domain": [
          0,
          1
         ],
         "title": {
          "text": "sett_cutoff"
         }
        },
        "yaxis": {
         "anchor": "x",
         "domain": [
          0,
          1
         ],
         "title": {
          "text": "fair_main_equalized_odds_difference"
         }
        }
       }
      }
     },
     "metadata": {},
     "output_type": "display_data"
    }
   ],
   "source": [
    "import plotly.express as px\n",
    "\n",
    "def fairness_violin(column_to_compare):\n",
    "    fig = px.violin(\n",
    "        df_agg,\n",
    "        x = column_to_compare,\n",
    "        y = main_fairness_metric,\n",
    "        color = column_to_compare,\n",
    "        points = \"all\",\n",
    "        hover_data = cols_settings\n",
    "    )\n",
    "    # fig.update_traces(pointpos=0)\n",
    "    display(fig)\n",
    "\n",
    "interactive_single_var_dropdown(options = cols_settings, render_function=fairness_violin)"
   ]
  }
 ],
 "metadata": {
  "kernelspec": {
   "display_name": "Python 3 (ipykernel)",
   "language": "python",
   "name": "python3"
  },
  "language_info": {
   "codemirror_mode": {
    "name": "ipython",
    "version": 3
   },
   "file_extension": ".py",
   "mimetype": "text/x-python",
   "name": "python",
   "nbconvert_exporter": "python",
   "pygments_lexer": "ipython3",
   "version": "3.10.12"
  }
 },
 "nbformat": 4,
 "nbformat_minor": 4
}
