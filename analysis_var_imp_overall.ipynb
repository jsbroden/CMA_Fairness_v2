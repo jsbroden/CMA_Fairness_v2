{
 "cells": [
  {
   "attachments": {},
   "cell_type": "markdown",
   "metadata": {},
   "source": [
    "# Setup"
   ]
  },
  {
   "cell_type": "code",
   "execution_count": 1,
   "metadata": {},
   "outputs": [
    {
     "name": "stdout",
     "output_type": "stream",
     "text": [
      "/dss/dsshome1/0C/ra93lal2/cma/CMA_Fairness_v2\n"
     ]
    },
    {
     "name": "stderr",
     "output_type": "stream",
     "text": [
      "/dss/dsshome1/0C/ra93lal2/.local/share/virtualenvs/CMA_Fairness_v2-3j10GkSs/lib/python3.10/site-packages/IPython/core/magics/osm.py:393: UserWarning: This is now an optional IPython functionality, using bookmarks requires you to install the `pickleshare` library.\n",
      "  bkms = self.shell.db.get('bookmarks', {})\n",
      "/dss/dsshome1/0C/ra93lal2/.local/share/virtualenvs/CMA_Fairness_v2-3j10GkSs/lib/python3.10/site-packages/IPython/core/magics/osm.py:417: UserWarning: This is now an optional IPython functionality, setting dhist requires you to install the `pickleshare` library.\n",
      "  self.shell.db['dhist'] = compress_dhist(dhist)[-100:]\n"
     ]
    }
   ],
   "source": [
    "# When working in AI LRZq\n",
    "%cd ~/cma/CMA_Fairness_v2"
   ]
  },
  {
   "cell_type": "code",
   "execution_count": 2,
   "metadata": {},
   "outputs": [
    {
     "name": "stdout",
     "output_type": "stream",
     "text": [
      "/dss/dsshome1/0C/ra93lal2/cma/CMA_Fairness_v2\n",
      "The data has N = 900 rows and N = 14 columns.\n"
     ]
    }
   ],
   "source": [
    "%run analysis_setup_cp.ipynb"
   ]
  },
  {
   "attachments": {},
   "cell_type": "markdown",
   "metadata": {},
   "source": [
    "## Prepare Data\n"
   ]
  },
  {
   "cell_type": "code",
   "execution_count": 3,
   "metadata": {},
   "outputs": [],
   "source": [
    "import pandas as pd\n",
    "from pathlib import Path\n",
    "\n",
    "RUN_TO_ANALYSE = \"1\"\n",
    "CP_DIR = Path(\"output\") / \"runs\" / str(RUN_TO_ANALYSE)\n",
    "\n",
    "df_agg = pd.read_csv(CP_DIR / \"combined_cp_metrics.csv\")"
   ]
  },
  {
   "cell_type": "code",
   "execution_count": 4,
   "metadata": {},
   "outputs": [
    {
     "data": {
      "text/html": [
       "<div>\n",
       "<style scoped>\n",
       "    .dataframe tbody tr th:only-of-type {\n",
       "        vertical-align: middle;\n",
       "    }\n",
       "\n",
       "    .dataframe tbody tr th {\n",
       "        vertical-align: top;\n",
       "    }\n",
       "\n",
       "    .dataframe thead th {\n",
       "        text-align: right;\n",
       "    }\n",
       "</style>\n",
       "<table border=\"1\" class=\"dataframe\">\n",
       "  <thead>\n",
       "    <tr style=\"text-align: right;\">\n",
       "      <th></th>\n",
       "      <th>universe_id</th>\n",
       "      <th>universe_training_year</th>\n",
       "      <th>universe_training_size</th>\n",
       "      <th>universe_scale</th>\n",
       "      <th>universe_model</th>\n",
       "      <th>universe_exclude_features</th>\n",
       "      <th>universe_exclude_subgroups</th>\n",
       "      <th>q_hat</th>\n",
       "      <th>coverage</th>\n",
       "      <th>avg_size</th>\n",
       "      <th>cov_frau1</th>\n",
       "      <th>cov_nongerman</th>\n",
       "      <th>cov_nongerman_male</th>\n",
       "      <th>cov_nongerman_female</th>\n",
       "    </tr>\n",
       "  </thead>\n",
       "  <tbody>\n",
       "    <tr>\n",
       "      <th>0</th>\n",
       "      <td>2355d7bfe8294f8157de46ed8edc7bf7</td>\n",
       "      <td>2014</td>\n",
       "      <td>5k</td>\n",
       "      <td>do-not-scale</td>\n",
       "      <td>logreg</td>\n",
       "      <td>nationality-sex</td>\n",
       "      <td>keep-all</td>\n",
       "      <td>0.681470</td>\n",
       "      <td>0.910935</td>\n",
       "      <td>1.197302</td>\n",
       "      <td>0.908505</td>\n",
       "      <td>0.924886</td>\n",
       "      <td>0.940286</td>\n",
       "      <td>0.899404</td>\n",
       "    </tr>\n",
       "    <tr>\n",
       "      <th>1</th>\n",
       "      <td>2d16c60d03d38e12b7f8b53c6c0ec18a</td>\n",
       "      <td>2014</td>\n",
       "      <td>25k</td>\n",
       "      <td>scale</td>\n",
       "      <td>rf</td>\n",
       "      <td>nationality</td>\n",
       "      <td>drop-non-german</td>\n",
       "      <td>0.670000</td>\n",
       "      <td>0.916286</td>\n",
       "      <td>1.156972</td>\n",
       "      <td>0.916458</td>\n",
       "      <td>0.914220</td>\n",
       "      <td>0.927947</td>\n",
       "      <td>0.891505</td>\n",
       "    </tr>\n",
       "    <tr>\n",
       "      <th>2</th>\n",
       "      <td>fbcced2a4402ef744c7575370b1a9ef1</td>\n",
       "      <td>2012_14</td>\n",
       "      <td>5k</td>\n",
       "      <td>scale</td>\n",
       "      <td>gbm</td>\n",
       "      <td>nationality-sex</td>\n",
       "      <td>keep-all</td>\n",
       "      <td>0.691121</td>\n",
       "      <td>0.909430</td>\n",
       "      <td>1.123097</td>\n",
       "      <td>0.904974</td>\n",
       "      <td>0.906978</td>\n",
       "      <td>0.924255</td>\n",
       "      <td>0.878390</td>\n",
       "    </tr>\n",
       "    <tr>\n",
       "      <th>3</th>\n",
       "      <td>226a506f4560c0375082c005cb7fdde2</td>\n",
       "      <td>2012_14</td>\n",
       "      <td>25k</td>\n",
       "      <td>do-not-scale</td>\n",
       "      <td>elasticnet</td>\n",
       "      <td>sex</td>\n",
       "      <td>drop-non-german</td>\n",
       "      <td>0.657530</td>\n",
       "      <td>0.913911</td>\n",
       "      <td>1.249136</td>\n",
       "      <td>0.912765</td>\n",
       "      <td>0.960927</td>\n",
       "      <td>0.968117</td>\n",
       "      <td>0.949031</td>\n",
       "    </tr>\n",
       "    <tr>\n",
       "      <th>4</th>\n",
       "      <td>3e3aba496858c4fcba82d2d8c53d6960</td>\n",
       "      <td>2012_14</td>\n",
       "      <td>5k</td>\n",
       "      <td>do-not-scale</td>\n",
       "      <td>elasticnet</td>\n",
       "      <td>age</td>\n",
       "      <td>drop-non-german</td>\n",
       "      <td>0.670935</td>\n",
       "      <td>0.912641</td>\n",
       "      <td>1.280058</td>\n",
       "      <td>0.909314</td>\n",
       "      <td>0.965531</td>\n",
       "      <td>0.974061</td>\n",
       "      <td>0.951416</td>\n",
       "    </tr>\n",
       "  </tbody>\n",
       "</table>\n",
       "</div>"
      ],
      "text/plain": [
       "                        universe_id universe_training_year  \\\n",
       "0  2355d7bfe8294f8157de46ed8edc7bf7                   2014   \n",
       "1  2d16c60d03d38e12b7f8b53c6c0ec18a                   2014   \n",
       "2  fbcced2a4402ef744c7575370b1a9ef1                2012_14   \n",
       "3  226a506f4560c0375082c005cb7fdde2                2012_14   \n",
       "4  3e3aba496858c4fcba82d2d8c53d6960                2012_14   \n",
       "\n",
       "  universe_training_size universe_scale universe_model  \\\n",
       "0                     5k   do-not-scale         logreg   \n",
       "1                    25k          scale             rf   \n",
       "2                     5k          scale            gbm   \n",
       "3                    25k   do-not-scale     elasticnet   \n",
       "4                     5k   do-not-scale     elasticnet   \n",
       "\n",
       "  universe_exclude_features universe_exclude_subgroups     q_hat  coverage  \\\n",
       "0           nationality-sex                   keep-all  0.681470  0.910935   \n",
       "1               nationality            drop-non-german  0.670000  0.916286   \n",
       "2           nationality-sex                   keep-all  0.691121  0.909430   \n",
       "3                       sex            drop-non-german  0.657530  0.913911   \n",
       "4                       age            drop-non-german  0.670935  0.912641   \n",
       "\n",
       "   avg_size  cov_frau1  cov_nongerman  cov_nongerman_male  \\\n",
       "0  1.197302   0.908505       0.924886            0.940286   \n",
       "1  1.156972   0.916458       0.914220            0.927947   \n",
       "2  1.123097   0.904974       0.906978            0.924255   \n",
       "3  1.249136   0.912765       0.960927            0.968117   \n",
       "4  1.280058   0.909314       0.965531            0.974061   \n",
       "\n",
       "   cov_nongerman_female  \n",
       "0              0.899404  \n",
       "1              0.891505  \n",
       "2              0.878390  \n",
       "3              0.949031  \n",
       "4              0.951416  "
      ]
     },
     "execution_count": 4,
     "metadata": {},
     "output_type": "execute_result"
    }
   ],
   "source": [
    "df_agg.head()"
   ]
  },
  {
   "cell_type": "code",
   "execution_count": 5,
   "metadata": {},
   "outputs": [
    {
     "data": {
      "text/plain": [
       "(900, 14)"
      ]
     },
     "execution_count": 5,
     "metadata": {},
     "output_type": "execute_result"
    }
   ],
   "source": [
    "df_agg.shape"
   ]
  },
  {
   "cell_type": "code",
   "execution_count": 6,
   "metadata": {},
   "outputs": [],
   "source": [
    "main_cp_metric = \"avg_size\" # \"avg_size\", \"cov_nongerman_female\""
   ]
  },
  {
   "attachments": {},
   "cell_type": "markdown",
   "metadata": {},
   "source": [
    "# Calculate Variable Importance"
   ]
  },
  {
   "attachments": {},
   "cell_type": "markdown",
   "metadata": {
    "jp-MarkdownHeadingCollapsed": true
   },
   "source": [
    "## Use a Lasso Regression to estimate Importance of Settings"
   ]
  },
  {
   "cell_type": "code",
   "execution_count": 7,
   "metadata": {},
   "outputs": [],
   "source": [
    "cols_design_dec = [\"universe_training_year\", \n",
    "                   \"universe_training_size\", \n",
    "                   \"universe_scale\",\n",
    "                   \"universe_model\", \n",
    "                   \"universe_exclude_features\", \n",
    "                   \"universe_exclude_subgroups\"]\n",
    "X = df_agg[cols_design_dec]\n",
    "y = df_agg[main_cp_metric]"
   ]
  },
  {
   "cell_type": "code",
   "execution_count": 8,
   "metadata": {},
   "outputs": [
    {
     "data": {
      "text/html": [
       "<div>\n",
       "<style scoped>\n",
       "    .dataframe tbody tr th:only-of-type {\n",
       "        vertical-align: middle;\n",
       "    }\n",
       "\n",
       "    .dataframe tbody tr th {\n",
       "        vertical-align: top;\n",
       "    }\n",
       "\n",
       "    .dataframe thead th {\n",
       "        text-align: right;\n",
       "    }\n",
       "</style>\n",
       "<table border=\"1\" class=\"dataframe\">\n",
       "  <thead>\n",
       "    <tr style=\"text-align: right;\">\n",
       "      <th></th>\n",
       "      <th>universe_training_year</th>\n",
       "      <th>universe_training_size</th>\n",
       "      <th>universe_scale</th>\n",
       "      <th>universe_model</th>\n",
       "      <th>universe_exclude_features</th>\n",
       "      <th>universe_exclude_subgroups</th>\n",
       "    </tr>\n",
       "  </thead>\n",
       "  <tbody>\n",
       "    <tr>\n",
       "      <th>0</th>\n",
       "      <td>2014</td>\n",
       "      <td>5k</td>\n",
       "      <td>do-not-scale</td>\n",
       "      <td>logreg</td>\n",
       "      <td>nationality-sex</td>\n",
       "      <td>keep-all</td>\n",
       "    </tr>\n",
       "    <tr>\n",
       "      <th>1</th>\n",
       "      <td>2014</td>\n",
       "      <td>25k</td>\n",
       "      <td>scale</td>\n",
       "      <td>rf</td>\n",
       "      <td>nationality</td>\n",
       "      <td>drop-non-german</td>\n",
       "    </tr>\n",
       "    <tr>\n",
       "      <th>2</th>\n",
       "      <td>2012_14</td>\n",
       "      <td>5k</td>\n",
       "      <td>scale</td>\n",
       "      <td>gbm</td>\n",
       "      <td>nationality-sex</td>\n",
       "      <td>keep-all</td>\n",
       "    </tr>\n",
       "    <tr>\n",
       "      <th>3</th>\n",
       "      <td>2012_14</td>\n",
       "      <td>25k</td>\n",
       "      <td>do-not-scale</td>\n",
       "      <td>elasticnet</td>\n",
       "      <td>sex</td>\n",
       "      <td>drop-non-german</td>\n",
       "    </tr>\n",
       "    <tr>\n",
       "      <th>4</th>\n",
       "      <td>2012_14</td>\n",
       "      <td>5k</td>\n",
       "      <td>do-not-scale</td>\n",
       "      <td>elasticnet</td>\n",
       "      <td>age</td>\n",
       "      <td>drop-non-german</td>\n",
       "    </tr>\n",
       "  </tbody>\n",
       "</table>\n",
       "</div>"
      ],
      "text/plain": [
       "  universe_training_year universe_training_size universe_scale universe_model  \\\n",
       "0                   2014                     5k   do-not-scale         logreg   \n",
       "1                   2014                    25k          scale             rf   \n",
       "2                2012_14                     5k          scale            gbm   \n",
       "3                2012_14                    25k   do-not-scale     elasticnet   \n",
       "4                2012_14                     5k   do-not-scale     elasticnet   \n",
       "\n",
       "  universe_exclude_features universe_exclude_subgroups  \n",
       "0           nationality-sex                   keep-all  \n",
       "1               nationality            drop-non-german  \n",
       "2           nationality-sex                   keep-all  \n",
       "3                       sex            drop-non-german  \n",
       "4                       age            drop-non-german  "
      ]
     },
     "execution_count": 8,
     "metadata": {},
     "output_type": "execute_result"
    }
   ],
   "source": [
    "X.head()"
   ]
  },
  {
   "cell_type": "code",
   "execution_count": 9,
   "metadata": {},
   "outputs": [
    {
     "data": {
      "text/plain": [
       "(900, 6)"
      ]
     },
     "execution_count": 9,
     "metadata": {},
     "output_type": "execute_result"
    }
   ],
   "source": [
    "X.shape"
   ]
  },
  {
   "cell_type": "code",
   "execution_count": 10,
   "metadata": {},
   "outputs": [
    {
     "data": {
      "text/plain": [
       "(900,)"
      ]
     },
     "execution_count": 10,
     "metadata": {},
     "output_type": "execute_result"
    }
   ],
   "source": [
    "y.shape"
   ]
  },
  {
   "attachments": {},
   "cell_type": "markdown",
   "metadata": {},
   "source": [
    "### Main Effects of Settings Only (i.e. no interactions)"
   ]
  },
  {
   "cell_type": "code",
   "execution_count": null,
   "metadata": {},
   "outputs": [],
   "source": [
    "from sklearn.pipeline import make_pipeline\n",
    "from sklearn.preprocessing import OneHotEncoder\n",
    "from sklearn.linear_model import LassoCV\n",
    "\n",
    "# Do preprocessing in a separate pipeline from model fitting\n",
    "# (for eli5 to work)\n",
    "preprocessor = make_pipeline(\n",
    "    OneHotEncoder(), \n",
    ").fit(X) \n",
    "X_processed = preprocessor.transform(X) \n",
    "\n",
    "# Fit a Lasso regression model with cross-validation to the processed data\n",
    "lasso_reg = LassoCV(cv=5, random_state=0).fit(X_processed, y)\n",
    "\n",
    "# Check whether it's predictive at all\n",
    "lasso_reg.score(X_processed, y) # Evaluate the model's R^2 score on the training data"
   ]
  },
  {
   "cell_type": "markdown",
   "metadata": {},
   "source": [
    "R² = 1.0: Perfect predictions\n",
    "\n",
    "R² = 0.0: Model does no better than predicting the mean\n",
    "\n",
    "R² < 0.0: Model is worse than just predicting the mean"
   ]
  },
  {
   "attachments": {},
   "cell_type": "markdown",
   "metadata": {},
   "source": [
    "Weights of importance:"
   ]
  },
  {
   "cell_type": "code",
   "execution_count": null,
   "metadata": {},
   "outputs": [],
   "source": [
    "# Visualize the importance of each feature in trained lasso_reg model\n",
    "import eli5\n",
    "eli5.show_weights(lasso_reg, top=-1, feature_names = preprocessor.get_feature_names_out())"
   ]
  },
  {
   "attachments": {},
   "cell_type": "markdown",
   "metadata": {},
   "source": [
    "### Including Interactions"
   ]
  },
  {
   "cell_type": "code",
   "execution_count": null,
   "metadata": {},
   "outputs": [],
   "source": [
    "from sklearn.pipeline import make_pipeline\n",
    "from sklearn.preprocessing import OneHotEncoder, PolynomialFeatures\n",
    "from sklearn.linear_model import LassoCV\n",
    "\n",
    "# Do preprocessing w/o a pipeline for eli5 to work\n",
    "preprocessor = make_pipeline(\n",
    "    OneHotEncoder(),\n",
    "    PolynomialFeatures(degree=2),\n",
    ").fit(X)\n",
    "X_processed = preprocessor.transform(X)\n",
    "\n",
    "lasso_reg = LassoCV(cv=5, random_state=0).fit(X_processed, y)\n",
    "\n",
    "# Check whether it's predictive at all\n",
    "lasso_reg.score(X_processed, y) # Evaluate the model's R^2 score on the training data"
   ]
  },
  {
   "attachments": {},
   "cell_type": "markdown",
   "metadata": {},
   "source": [
    "Weights of importance:"
   ]
  },
  {
   "cell_type": "code",
   "execution_count": null,
   "metadata": {},
   "outputs": [],
   "source": [
    "import eli5\n",
    "eli5.show_weights(lasso_reg, top=-1, feature_names = preprocessor.get_feature_names_out())"
   ]
  },
  {
   "attachments": {},
   "cell_type": "markdown",
   "metadata": {},
   "source": [
    "## Use a functinoal ANOVA (fANOVA) to Analyze Setting Importance\n",
    "\n",
    "Based on the following paper:\n",
    "\n",
    "Hutter, F., Hoos, H., & Leyton-Brown, K. (2014). An Efficient Approach for Assessing Hyperparameter Importance. Proceedings of the 31st International Conference on Machine Learning, 754–762. https://proceedings.mlr.press/v32/hutter14.html\n"
   ]
  },
  {
   "cell_type": "code",
   "execution_count": 11,
   "metadata": {},
   "outputs": [
    {
     "name": "stdout",
     "output_type": "stream",
     "text": [
      "<class 'fanova.fanova.fANOVA'>\n"
     ]
    }
   ],
   "source": [
    "#delete\n",
    "from fairness_multiverse.analysis import MultiverseFanova\n",
    "\n",
    "m_fanova = MultiverseFanova(features = df_agg[cols_design_dec], outcome = df_agg[main_cp_metric])\n"
   ]
  },
  {
   "cell_type": "code",
   "execution_count": 12,
   "metadata": {},
   "outputs": [
    {
     "ename": "AttributeError",
     "evalue": "'fANOVA' object has no attribute 'marginal_mean_variance_across_configurations'",
     "output_type": "error",
     "traceback": [
      "\u001b[0;31m---------------------------------------------------------------------------\u001b[0m",
      "\u001b[0;31mAttributeError\u001b[0m                            Traceback (most recent call last)",
      "Cell \u001b[0;32mIn[12], line 2\u001b[0m\n\u001b[1;32m      1\u001b[0m \u001b[38;5;66;03m#delete\u001b[39;00m\n\u001b[0;32m----> 2\u001b[0m marginal_data \u001b[38;5;241m=\u001b[39m \u001b[43mm_fanova\u001b[49m\u001b[38;5;241;43m.\u001b[39;49m\u001b[43mget_marginal_for_parameter\u001b[49m\u001b[43m(\u001b[49m\u001b[38;5;241;43m2\u001b[39;49m\u001b[43m)\u001b[49m\n\u001b[1;32m      3\u001b[0m \u001b[38;5;28mprint\u001b[39m(marginal_data)\n",
      "File \u001b[0;32m~/cma/CMA_Fairness_v2/fairness_multiverse/analysis.py:146\u001b[0m, in \u001b[0;36mMultiverseFanova.get_marginal_for_parameter\u001b[0;34m(self, param_index)\u001b[0m\n\u001b[1;32m    142\u001b[0m \u001b[38;5;28;01mdef\u001b[39;00m\u001b[38;5;250m \u001b[39m\u001b[38;5;21mget_marginal_for_parameter\u001b[39m(\u001b[38;5;28mself\u001b[39m, param_index):\n\u001b[1;32m    143\u001b[0m \u001b[38;5;250m    \u001b[39m\u001b[38;5;124;03m\"\"\"\u001b[39;00m\n\u001b[1;32m    144\u001b[0m \u001b[38;5;124;03m    Return marginal predictions and variance for a parameter.\u001b[39;00m\n\u001b[1;32m    145\u001b[0m \u001b[38;5;124;03m    \"\"\"\u001b[39;00m\n\u001b[0;32m--> 146\u001b[0m     x, y, std \u001b[38;5;241m=\u001b[39m \u001b[38;5;28;43mself\u001b[39;49m\u001b[38;5;241;43m.\u001b[39;49m\u001b[43mfanova\u001b[49m\u001b[38;5;241;43m.\u001b[39;49m\u001b[43mmarginal_mean_variance_across_configurations\u001b[49m(param_index)\n\u001b[1;32m    147\u001b[0m     \u001b[38;5;28;01mreturn\u001b[39;00m {\u001b[38;5;124m\"\u001b[39m\u001b[38;5;124mx_values\u001b[39m\u001b[38;5;124m\"\u001b[39m: x, \u001b[38;5;124m\"\u001b[39m\u001b[38;5;124my_values\u001b[39m\u001b[38;5;124m\"\u001b[39m: y, \u001b[38;5;124m\"\u001b[39m\u001b[38;5;124mstddevs\u001b[39m\u001b[38;5;124m\"\u001b[39m: std}\n",
      "\u001b[0;31mAttributeError\u001b[0m: 'fANOVA' object has no attribute 'marginal_mean_variance_across_configurations'"
     ]
    }
   ],
   "source": [
    "#delete\n",
    "marginal_data = m_fanova.get_marginal_for_parameter(2)\n",
    "print(marginal_data)\n"
   ]
  },
  {
   "cell_type": "code",
   "execution_count": null,
   "metadata": {},
   "outputs": [],
   "source": [
    "from fairness_multiverse.analysis import MultiverseFanova\n",
    "\n",
    "m_fanova = MultiverseFanova(features = df_agg[cols_design_dec], outcome = df_agg[main_cp_metric])"
   ]
  },
  {
   "cell_type": "code",
   "execution_count": null,
   "metadata": {},
   "outputs": [],
   "source": [
    "m_fanova.quantify_individual_importance()"
   ]
  },
  {
   "cell_type": "code",
   "execution_count": null,
   "metadata": {},
   "outputs": [],
   "source": [
    "m_fanova.quantify_importance(save_to = CP_DIR/ f\"fanova_importance_interactions-overall_{main_cp_metric}.csv\")"
   ]
  },
  {
   "cell_type": "code",
   "execution_count": null,
   "metadata": {},
   "outputs": [],
   "source": [
    "# Latex Table \"10 most important decisions or decision interactions\"\n",
    "\n",
    "pd.set_option('display.max_colwidth', None)  \n",
    "\n",
    "fanova_df = m_fanova.quantify_importance()\n",
    "\n",
    "top10 = (\n",
    "    fanova_df\n",
    "    .sort_values('individual importance', ascending=False)\n",
    "    .head(10)\n",
    "    .reset_index(drop=True)\n",
    ")\n",
    "\n",
    "# Detect main vs. N-way interaction\n",
    "def effect_type(row):\n",
    "    levels = [row[f'level_{i}'] for i in range(5) if pd.notna(row.get(f'level_{i}'))]\n",
    "    return 'main' if len(levels) == 1 else f'{len(levels)}-way int.'\n",
    "\n",
    "top10['Effect Type'] = top10.apply(effect_type, axis=1)\n",
    "\n",
    "def clean_level(name: str) -> str:\n",
    "    if pd.isna(name): \n",
    "        return \"\"\n",
    "    # strip leading universe_\n",
    "    if name.startswith(\"universe_\"):\n",
    "        name = name[len(\"universe_\"):]\n",
    "    # snake_case → CamelCase\n",
    "    return \"\".join(part.capitalize() for part in name.split(\"_\"))\n",
    "\n",
    "def fmt_level(name: str) -> str:\n",
    "    return f\"\\\\textit{{{clean_level(name)}}}\"\n",
    "\n",
    "top10[\"Decision / Interaction of Decisions\"] = (\n",
    "    top10\n",
    "    .apply(\n",
    "        lambda row: \" $\\\\times$ \".join(\n",
    "            fmt_level(row[f\"level_{i}\"])\n",
    "            for i in range(5)                      # loop over 0–4\n",
    "            if pd.notna(row.get(f\"level_{i}\"))\n",
    "        ),\n",
    "        axis=1,\n",
    "    )\n",
    ")\n",
    "\n",
    "out = top10[[\n",
    "    'Effect Type',\n",
    "    'Decision / Interaction of Decisions',\n",
    "    'individual importance',\n",
    "    'individual std'\n",
    "]].copy()\n",
    "out.columns = [\n",
    "    'Effect Type',\n",
    "    'Decision / Interaction of Decisions',\n",
    "    'Importance',\n",
    "    'Std. Deviation'\n",
    "]\n",
    "\n",
    "out['Importance']    = out['Importance'].round(3)\n",
    "out['Std. Deviation']= out['Std. Deviation'].round(3)\n",
    "\n",
    "raw = out.to_latex(\n",
    "    index=False,\n",
    "    escape=False,       \n",
    "    column_format='llrr'\n",
    ")\n",
    "\n",
    "lines = raw.splitlines()\n",
    "new_lines = []\n",
    "hcount = 0\n",
    "for ln in lines:\n",
    "    if ln.strip() == r'\\hline':\n",
    "        hcount += 1\n",
    "        if hcount == 1:\n",
    "            new_lines.append(r'\\toprule')\n",
    "        elif hcount == 2:\n",
    "            new_lines.append(r'\\midrule')\n",
    "        else:\n",
    "            new_lines.append(r'\\bottomrule')\n",
    "    else:\n",
    "        new_lines.append(ln)\n",
    "fixed_tabular = \"\\n\".join(new_lines)\n",
    "\n",
    "# 9. wrap in full table environment\n",
    "latex = f\"\"\"\\\\begin{{table}}\n",
    "\\\\centering\n",
    "\\\\caption{{The 10 most important decisions or decision interactions and their relative importance for the average prediction set size.}}\n",
    "\\\\label{{tab:fanova_top10}}\n",
    "{fixed_tabular}\n",
    "\\\\end{{table}}\n",
    "\"\"\"\n",
    "\n",
    "output_path = CP_DIR / f\"fanova_top10_{main_cp_metric}.tex\"\n",
    "output_path.write_text(latex)"
   ]
  },
  {
   "cell_type": "markdown",
   "metadata": {},
   "source": [
    "# Visualizations Avg. Prediction Set Size"
   ]
  },
  {
   "cell_type": "code",
   "execution_count": 13,
   "metadata": {},
   "outputs": [
    {
     "data": {
      "image/png": "[encoded data removed]",
      "text/plain": [
       "<Figure size 640x480 with 1 Axes>"
      ]
     },
     "metadata": {},
     "output_type": "display_data"
    }
   ],
   "source": [
    "# Plot 1D marginal\n",
    "from fanova import visualizer\n",
    "\n",
    "vis = visualizer.Visualizer(m_fanova.fanova, m_fanova.configuration_space, directory = str(CP_DIR))\n",
    "vis.plot_marginal(2)"
   ]
  },
  {
   "cell_type": "code",
   "execution_count": null,
   "metadata": {},
   "outputs": [],
   "source": [
    "# Recover mapping\n",
    "col = \"universe_model\"\n",
    "original_labels = df_agg[col].unique()\n",
    "\n",
    "# Get corresponding numeric codes\n",
    "from sklearn.preprocessing import LabelEncoder\n",
    "le = LabelEncoder()\n",
    "codes = le.fit_transform(df_agg[col].values)\n",
    "label_map = dict(zip(le.transform(original_labels), original_labels))\n",
    "\n",
    "# Sort by code\n",
    "label_map = dict(sorted(label_map.items()))\n",
    "print(label_map)"
   ]
  },
  {
   "cell_type": "code",
   "execution_count": null,
   "metadata": {},
   "outputs": [],
   "source": [
    "#delete?\n",
    "from fairness_multiverse.analysis import MultiverseFanova\n",
    "\n",
    "marginal_data = m_fanova.get_marginal_for_parameter(2)\n",
    "print(marginal_data.keys())"
   ]
  },
  {
   "cell_type": "code",
   "execution_count": null,
   "metadata": {},
   "outputs": [],
   "source": []
  },
  {
   "cell_type": "code",
   "execution_count": null,
   "metadata": {},
   "outputs": [],
   "source": [
    "import matplotlib.pyplot as plt\n",
    "import seaborn as sns\n",
    "import matplotlib.gridspec as gridspec\n",
    "\n",
    "# Label mapping\n",
    "label_map = {\n",
    "    'universe_training_size': 'Training Size',\n",
    "    'universe_training_year': 'Training Year',\n",
    "    'universe_scale': 'Scaling',\n",
    "    'universe_model': 'Model',\n",
    "    'universe_exclude_features': 'Excluded Features',\n",
    "    'universe_exclude_subgroups': 'Excluded Subgroups'\n",
    "}\n",
    "\n",
    "# Custom x-tick renaming\n",
    "category_renames = {\n",
    "    '2010_14': '2010-14',\n",
    "    '2012_14': '2012-14',\n",
    "    'scale': 'scaled',\n",
    "    'do-not-scale': 'not-scaled',\n",
    "    'drop-non-german': 'drop',\n",
    "    'penalized_logreg': 'pen. logreg',\n",
    "    'rf': 'rand. forest'\n",
    "}\n",
    "\n",
    "# Custom order per parameter\n",
    "custom_orders = {\n",
    "    'universe_training_size': ['1k', '5k', '25k'],\n",
    "    'universe_model': ['logreg', 'penalized_logreg', 'elasticnet', 'gbm', 'rf'],\n",
    "    'universe_exclude_features': ['none', 'age', 'nationality', 'sex', 'nationality-sex']\n",
    "}\n",
    "\n",
    "# Plot layout\n",
    "row1 = [\n",
    "    'universe_training_size',\n",
    "    'universe_training_year',\n",
    "    'universe_scale',\n",
    "    'universe_exclude_subgroups'\n",
    "]\n",
    "row2 = ['universe_model', 'universe_exclude_features']\n",
    "\n",
    "widths_row1 = [1.3, 1.3, 1.0, 1.0]\n",
    "widths_row2 = [2.0, 2.0] \n",
    "\n",
    "colors_row1 = ['#FFFF99', '#FDBF6F', '#FB9A99', '#CAB2D6']\n",
    "colors_row2 = ['aquamarine', 'lightskyblue'] \n",
    "\n",
    "# Styling\n",
    "sns.set(style=\"whitegrid\", palette=\"pastel\", font_scale=1.2)\n",
    "fig = plt.figure(figsize=(24, 15))\n",
    "outer_gs = gridspec.GridSpec(2, 1, height_ratios=[1, 1], hspace=0.5)\n",
    "\n",
    "# Font sizes\n",
    "axis_label_size = 24\n",
    "tick_label_size = 20\n",
    "category_label_size = 24\n",
    "\n",
    "# Row 1\n",
    "gs_row1 = gridspec.GridSpecFromSubplotSpec(\n",
    "    nrows=1, ncols=4, subplot_spec=outer_gs[0], width_ratios=widths_row1, wspace=0.3\n",
    ")\n",
    "\n",
    "for idx, param in enumerate(row1): \n",
    "    ax = fig.add_subplot(gs_row1[0, idx]) \n",
    "\n",
    "    order = custom_orders.get(param, sorted(df_agg[param].dropna().unique()))\n",
    "    sns.violinplot(\n",
    "        data=df_agg, x=param, y='avg_size', ax=ax,\n",
    "        inner='box', cut=0, order=order, color=colors_row1[idx]\n",
    "    )\n",
    "\n",
    "    # Overlay median dots\n",
    "    medians = df_agg.groupby(param)['avg_size'].median()\n",
    "    for i, cat in enumerate(order):\n",
    "        if cat in medians:\n",
    "            ax.plot(i, medians[cat], color='lemonchiffon', marker='o', markersize=8, zorder=3)\n",
    "\n",
    "    # Rename x-tick labels\n",
    "    xticks = [label.get_text() for label in ax.get_xticklabels()]\n",
    "    renamed = [category_renames.get(label, label) for label in xticks]\n",
    "    ax.set_xticklabels(renamed, fontsize=category_label_size, rotation=30)\n",
    "\n",
    "    ax.set_xlabel(label_map[param], fontsize=axis_label_size)\n",
    "    if idx == 0:\n",
    "        ax.set_ylabel('Avg. Prediction Set Size', fontsize=axis_label_size)\n",
    "    else:\n",
    "        ax.set_ylabel('')\n",
    "        ax.set_yticklabels([])\n",
    "        ax.tick_params(axis='y', left=False)\n",
    "    ax.tick_params(axis='y', labelsize=tick_label_size)\n",
    "    ax.set_title(\"\")\n",
    "\n",
    "# Row 2\n",
    "gs_row2 = gridspec.GridSpecFromSubplotSpec(\n",
    "    nrows=1, ncols=2, subplot_spec=outer_gs[1], width_ratios=widths_row2, wspace=0.1\n",
    ")\n",
    "for idx, param in enumerate(row2): \n",
    "    ax = fig.add_subplot(gs_row2[0, idx])  \n",
    "\n",
    "    order = custom_orders.get(param, sorted(df_agg[param].dropna().unique()))\n",
    "    sns.violinplot(\n",
    "        data=df_agg, x=param, y='avg_size', ax=ax,\n",
    "        inner='box', cut=0, order=order, color=colors_row2[idx]\n",
    "    )\n",
    "\n",
    "    # Overlay median dots\n",
    "    medians = df_agg.groupby(param)['avg_size'].median()\n",
    "    for i, cat in enumerate(order):\n",
    "        if cat in medians:\n",
    "            ax.plot(i, medians[cat], color='lemonchiffon', marker='o', markersize=8, zorder=3)\n",
    "\n",
    "    # Rename x-tick labels\n",
    "    xticks = [label.get_text() for label in ax.get_xticklabels()]\n",
    "    renamed = [category_renames.get(label, label) for label in xticks]\n",
    "    ax.set_xticklabels(renamed, fontsize=category_label_size, rotation=30)\n",
    "\n",
    "    ax.set_xlabel(label_map[param], fontsize=axis_label_size)\n",
    "    if idx == 0:\n",
    "        ax.set_ylabel('Avg. Prediction Set Size', fontsize=axis_label_size)\n",
    "    else:\n",
    "        ax.set_ylabel('')\n",
    "        ax.set_yticklabels([])\n",
    "        ax.tick_params(axis='y', left=False)\n",
    "    ax.tick_params(axis='y', labelsize=tick_label_size)\n",
    "    ax.set_title(\"\")\n",
    "\n",
    "output_path = CP_DIR / f\"violin_plots_{main_cp_metric}.png\"\n",
    "plt.savefig(output_path, dpi=300, bbox_inches='tight')\n",
    "\n",
    "plt.show()"
   ]
  },
  {
   "cell_type": "code",
   "execution_count": null,
   "metadata": {},
   "outputs": [],
   "source": []
  },
  {
   "cell_type": "code",
   "execution_count": null,
   "metadata": {},
   "outputs": [],
   "source": [
    "# 5 most important 2-way interactions\n",
    "best_p_margs = m_fanova.fanova.get_most_important_pairwise_marginals(n=5)\n",
    "print(best_p_margs)"
   ]
  },
  {
   "cell_type": "code",
   "execution_count": null,
   "metadata": {},
   "outputs": [],
   "source": [
    "from fanova import visualizer\n",
    "\n",
    "vis = visualizer.Visualizer(m_fanova.fanova, m_fanova.configuration_space, directory = str(CP_DIR))"
   ]
  },
  {
   "cell_type": "code",
   "execution_count": null,
   "metadata": {},
   "outputs": [],
   "source": [
    "# Plot 2D pairwise marginal\n",
    "vis.plot_pairwise_marginal(['universe_training_size', 'universe_model'])"
   ]
  },
  {
   "cell_type": "code",
   "execution_count": null,
   "metadata": {},
   "outputs": [],
   "source": [
    "# Recover mapping\n",
    "col = \"universe_model\"\n",
    "original_labels = df_agg[col].unique()\n",
    "\n",
    "# Get corresponding numeric codes\n",
    "from sklearn.preprocessing import LabelEncoder\n",
    "le = LabelEncoder()\n",
    "codes = le.fit_transform(df_agg[col].values)\n",
    "label_map = dict(zip(le.transform(original_labels), original_labels))\n",
    "\n",
    "# Sort by code\n",
    "label_map = dict(sorted(label_map.items()))\n",
    "print(label_map)"
   ]
  },
  {
   "cell_type": "code",
   "execution_count": null,
   "metadata": {},
   "outputs": [],
   "source": [
    "# Heatmap avg. prediction set size\n",
    "\n",
    "vis.plot_pairwise_marginal(['universe_training_size', 'universe_model'])\n",
    "\n",
    "plt.yticks(\n",
    "    ticks=[0,1,2,3,4], \n",
    "    labels=['elasticnet', 'gbm', 'logreg', 'pen. logreg', 'rand. forest'], \n",
    "    #rotation=45,\n",
    "    fontsize=16)\n",
    "\n",
    "plt.xticks(\n",
    "    ticks=[0,1,2], \n",
    "    labels=['1k', '25k', '5k'],\n",
    "    fontsize=16)\n",
    "\n",
    "cbar = plt.gcf().axes[-1] \n",
    "cbar.set_ylabel(\"Avg. Prediction Set Size\", rotation=90, labelpad=15, fontsize=20)\n",
    "cbar.tick_params(labelsize=16)\n",
    "\n",
    "plt.ylabel(\"Model\", fontsize=20)\n",
    "plt.xlabel(\"Training Size\", fontsize=20)\n",
    "\n",
    "ax = plt.gca()\n",
    "im = ax.get_images()[0] \n",
    "im.set_cmap(\"bwr\")\n",
    "\n",
    "plt.title(\"\")\n",
    "plt.tight_layout()\n",
    "\n",
    "output_path = CP_DIR / f\"heatmap_{main_cp_metric}.png\"\n",
    "#plt.savefig(output_path, dpi=300, bbox_inches='tight')\n",
    "\n",
    "plt.show()"
   ]
  },
  {
   "cell_type": "markdown",
   "metadata": {},
   "source": [
    "# Visualizations Conditional Coverage"
   ]
  },
  {
   "cell_type": "code",
   "execution_count": null,
   "metadata": {},
   "outputs": [],
   "source": [
    "# Violin plots conditional coverage\n",
    "\n",
    "import matplotlib.pyplot as plt\n",
    "import seaborn as sns\n",
    "import matplotlib.gridspec as gridspec\n",
    "\n",
    "# Label mapping\n",
    "label_map = {\n",
    "    'universe_training_size': 'Training Size',\n",
    "    'universe_training_year': 'Training Year',\n",
    "    'universe_scale': 'Scaling',\n",
    "    'universe_model': 'Model',\n",
    "    'universe_exclude_features': 'Excluded Features',\n",
    "    'universe_exclude_subgroups': 'Excluded Subgroups'\n",
    "}\n",
    "\n",
    "# Custom x-tick renaming\n",
    "category_renames = {\n",
    "    '2010_14': '2010-14',\n",
    "    '2012_14': '2012-14',\n",
    "    'scale': 'scaled',\n",
    "    'do-not-scale': 'not-scaled',\n",
    "    'drop-non-german': 'drop',\n",
    "    'penalized_logreg': 'pen. logreg',\n",
    "    'rf': 'rand. forest'\n",
    "}\n",
    "\n",
    "# Custom order per parameter\n",
    "custom_orders = {\n",
    "    'universe_training_size': ['1k', '5k', '25k'],\n",
    "    'universe_model': ['logreg', 'penalized_logreg', 'elasticnet', 'gbm', 'rf'],\n",
    "    'universe_exclude_features': ['none', 'age', 'nationality', 'sex', 'nationality-sex']\n",
    "}\n",
    "\n",
    "# Plot layout\n",
    "row1 = [\n",
    "    'universe_training_size',\n",
    "    'universe_training_year',\n",
    "    'universe_scale',\n",
    "    'universe_exclude_subgroups'\n",
    "]\n",
    "row2 = ['universe_model', 'universe_exclude_features']\n",
    "\n",
    "widths_row1 = [1.3, 1.3, 1.0, 1.0]\n",
    "widths_row2 = [2.0, 2.0]\n",
    "\n",
    "colors_row1 = ['#FFFF99', '#FDBF6F', '#FB9A99', '#CAB2D6']\n",
    "colors_row2 = ['aquamarine', 'lightskyblue'] \n",
    "\n",
    "# Styling\n",
    "sns.set(style=\"whitegrid\", palette=\"pastel\", font_scale=1.2)\n",
    "fig = plt.figure(figsize=(24, 15))\n",
    "outer_gs = gridspec.GridSpec(2, 1, height_ratios=[1, 1], hspace=0.5)\n",
    "\n",
    "# Font sizes\n",
    "axis_label_size = 24\n",
    "tick_label_size = 20\n",
    "category_label_size = 24\n",
    "\n",
    "# Row 1\n",
    "gs_row1 = gridspec.GridSpecFromSubplotSpec(\n",
    "    nrows=1, ncols=4, subplot_spec=outer_gs[0], width_ratios=widths_row1, wspace=0.3\n",
    ")\n",
    "\n",
    "for idx, param in enumerate(row1): \n",
    "    ax = fig.add_subplot(gs_row1[0, idx]) \n",
    "\n",
    "    order = custom_orders.get(param, sorted(df_agg[param].dropna().unique()))\n",
    "    sns.violinplot(\n",
    "        data=df_agg, x=param, y='cov_nongerman_female', ax=ax,\n",
    "        inner='box', cut=0, order=order, color=colors_row1[idx]\n",
    "    )\n",
    "\n",
    "    # Overlay median dots\n",
    "    medians = df_agg.groupby(param)['cov_nongerman_female'].median()\n",
    "    for i, cat in enumerate(order):\n",
    "        if cat in medians:\n",
    "            ax.plot(i, medians[cat], color='lemonchiffon', marker='o', markersize=8, zorder=3)\n",
    "\n",
    "    # Rename x-tick labels\n",
    "    xticks = [label.get_text() for label in ax.get_xticklabels()]\n",
    "    renamed = [category_renames.get(label, label) for label in xticks]\n",
    "    ax.set_xticklabels(renamed, fontsize=category_label_size, rotation=30)\n",
    "\n",
    "    ax.set_xlabel(label_map[param], fontsize=axis_label_size)\n",
    "    if idx == 0:\n",
    "        ax.set_ylabel('Cov. Non-German Female', fontsize=axis_label_size)\n",
    "    else:\n",
    "        ax.set_ylabel('')\n",
    "        ax.set_yticklabels([])\n",
    "        ax.tick_params(axis='y', left=False)\n",
    "    ax.tick_params(axis='y', labelsize=tick_label_size)\n",
    "    ax.set_title(\"\")\n",
    "\n",
    "# Row 2\n",
    "gs_row2 = gridspec.GridSpecFromSubplotSpec(\n",
    "    nrows=1, ncols=2, subplot_spec=outer_gs[1], width_ratios=widths_row2, wspace=0.1\n",
    ")\n",
    "for idx, param in enumerate(row2): \n",
    "    ax = fig.add_subplot(gs_row2[0, idx])  \n",
    "\n",
    "    order = custom_orders.get(param, sorted(df_agg[param].dropna().unique()))\n",
    "    sns.violinplot(\n",
    "        data=df_agg, x=param, y='cov_nongerman_female', ax=ax,\n",
    "        inner='box', cut=0, order=order, color=colors_row2[idx]\n",
    "    )\n",
    "\n",
    "    # Overlay median dots\n",
    "    medians = df_agg.groupby(param)['cov_nongerman_female'].median()\n",
    "    for i, cat in enumerate(order):\n",
    "        if cat in medians:\n",
    "            ax.plot(i, medians[cat], color='lemonchiffon', marker='o', markersize=8, zorder=3)\n",
    "\n",
    "    # Rename x-tick labels\n",
    "    xticks = [label.get_text() for label in ax.get_xticklabels()]\n",
    "    renamed = [category_renames.get(label, label) for label in xticks]\n",
    "    ax.set_xticklabels(renamed, fontsize=category_label_size, rotation=30)\n",
    "\n",
    "    ax.set_xlabel(label_map[param], fontsize=axis_label_size)\n",
    "    if idx == 0:\n",
    "        ax.set_ylabel('Cov. Non-German Female', fontsize=axis_label_size)\n",
    "    else:\n",
    "        ax.set_ylabel('')\n",
    "        ax.set_yticklabels([])\n",
    "        ax.tick_params(axis='y', left=False)\n",
    "    ax.tick_params(axis='y', labelsize=tick_label_size)\n",
    "    ax.set_title(\"\")\n",
    "\n",
    "output_path = CP_DIR / f\"violin_plots_{main_cp_metric}.png\"\n",
    "plt.savefig(output_path, dpi=300, bbox_inches='tight')\n",
    "\n",
    "plt.show()"
   ]
  },
  {
   "cell_type": "code",
   "execution_count": null,
   "metadata": {},
   "outputs": [],
   "source": [
    "# Recover mapping\n",
    "col = \"universe_scale\"\n",
    "original_labels = df_agg[col].unique()\n",
    "\n",
    "# Get corresponding numeric codes\n",
    "from sklearn.preprocessing import LabelEncoder\n",
    "le = LabelEncoder()\n",
    "codes = le.fit_transform(df_agg[col].values)\n",
    "label_map = dict(zip(le.transform(original_labels), original_labels))\n",
    "\n",
    "# Sort by code\n",
    "label_map = dict(sorted(label_map.items()))\n",
    "print(label_map)"
   ]
  },
  {
   "cell_type": "code",
   "execution_count": null,
   "metadata": {},
   "outputs": [],
   "source": [
    "from fanova import visualizer\n",
    "\n",
    "vis = visualizer.Visualizer(m_fanova.fanova, m_fanova.configuration_space, directory = str(CP_DIR))"
   ]
  },
  {
   "cell_type": "code",
   "execution_count": null,
   "metadata": {},
   "outputs": [],
   "source": [
    "# Plot 2D pairwise marginal\n",
    "vis.plot_pairwise_marginal(['universe_scale', 'universe_model'])"
   ]
  },
  {
   "cell_type": "code",
   "execution_count": null,
   "metadata": {},
   "outputs": [],
   "source": [
    "# Heatmap conditional coverage\n",
    "\n",
    "import matplotlib.pyplot as plt\n",
    "\n",
    "vis.plot_pairwise_marginal(['universe_scale', 'universe_model'])\n",
    "\n",
    "plt.yticks(\n",
    "    ticks=[0,1,2,3,4], \n",
    "    labels=['elasticnet', 'gbm', 'logreg', 'pen. logreg', 'rand. forest'], \n",
    "    fontsize=18)\n",
    "\n",
    "plt.xticks(\n",
    "    ticks=[0,1], \n",
    "    labels=['not-scaled', 'scaled'],\n",
    "    rotation=45,\n",
    "    fontsize=18)\n",
    "\n",
    "cbar = plt.gcf().axes[-1] \n",
    "cbar.set_ylabel(\"Cov. NG Female\", rotation=90, labelpad=15, fontsize=20)\n",
    "cbar.tick_params(labelsize=20)\n",
    "\n",
    "plt.xlabel(\"Model\", fontsize=20)\n",
    "plt.ylabel(\"Scaling\", fontsize=20)\n",
    "\n",
    "ax = plt.gca()\n",
    "im = ax.get_images()[0] \n",
    "im.set_cmap(\"bwr_r\")\n",
    "\n",
    "\n",
    "plt.title(\"\")\n",
    "plt.tight_layout()\n",
    "\n",
    "output_path = CP_DIR / f\"heatmap_{main_cp_metric}.png\"\n",
    "#plt.savefig(output_path, dpi=300, bbox_inches='tight')\n",
    "\n",
    "plt.show()"
   ]
  },
  {
   "attachments": {},
   "cell_type": "markdown",
   "metadata": {},
   "source": [
    "# Quantify Importance with Partial Data"
   ]
  },
  {
   "cell_type": "code",
   "execution_count": null,
   "metadata": {},
   "outputs": [],
   "source": [
    "from tqdm import tqdm\n",
    "\n",
    "PARTIAL_FANOVA_DIR = ANALYSIS_OUTPUT_DIR / \"partial_fanova\" / \"overall\"\n",
    "PARTIAL_FANOVA_DIR.mkdir(parents=True, exist_ok=True)\n",
    "\n",
    "N_ITERATIONS = 10"
   ]
  },
  {
   "cell_type": "code",
   "execution_count": null,
   "metadata": {},
   "outputs": [],
   "source": [
    "from fairness_multiverse.analysis import MultiverseFanova\n",
    "import joblib\n",
    "\n",
    "def quantify_importance_for_fraction(fraction: float, base_directory = PARTIAL_FANOVA_DIR):\n",
    "    # Get random subset of the data\n",
    "    df = df_agg.sample(frac = fraction).reset_index(drop = True)\n",
    "    data_hash = joblib.hash(df)\n",
    "\n",
    "    # Create directory for this fraction\n",
    "    directory = base_directory / f\"fraction-{fraction}\"\n",
    "    directory.mkdir(exist_ok = True)\n",
    "\n",
    "    # Run FANOVA on subset\n",
    "    partial_fanova = MultiverseFanova(features = df[[\"universe_model\", \"universe_exclude_features\", \"universe_exclude_subgroups\"]], outcome = df[main_cp_metric])\n",
    "    partial_fanova.quantify_importance(save_to = directory / f\"partial-fanova_importance_interactions-majmin-{fraction}-{data_hash}.csv\")"
   ]
  },
  {
   "cell_type": "code",
   "execution_count": null,
   "metadata": {},
   "outputs": [],
   "source": [
    "for i in tqdm(range(N_ITERATIONS)):\n",
    "    quantify_importance_for_fraction(0.01)"
   ]
  },
  {
   "cell_type": "code",
   "execution_count": null,
   "metadata": {},
   "outputs": [],
   "source": [
    "for i in tqdm(range(N_ITERATIONS)):\n",
    "    quantify_importance_for_fraction(0.05)"
   ]
  },
  {
   "cell_type": "code",
   "execution_count": null,
   "metadata": {},
   "outputs": [],
   "source": [
    "for i in tqdm(range(N_ITERATIONS)):\n",
    "    quantify_importance_for_fraction(0.1)"
   ]
  },
  {
   "cell_type": "code",
   "execution_count": null,
   "metadata": {},
   "outputs": [],
   "source": [
    "for i in tqdm(range(N_ITERATIONS)):\n",
    "    quantify_importance_for_fraction(0.2)"
   ]
  }
 ],
 "metadata": {
  "kernelspec": {
   "display_name": "Python (CMA Fairness)",
   "language": "python",
   "name": "cma_fair_env"
  },
  "language_info": {
   "codemirror_mode": {
    "name": "ipython",
    "version": 3
   },
   "file_extension": ".py",
   "mimetype": "text/x-python",
   "name": "python",
   "nbconvert_exporter": "python",
   "pygments_lexer": "ipython3",
   "version": "3.10.12"
  }
 },
 "nbformat": 4,
 "nbformat_minor": 4
}
