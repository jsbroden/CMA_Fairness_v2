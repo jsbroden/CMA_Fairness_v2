{
 "cells": [
  {
   "cell_type": "markdown",
   "metadata": {},
   "source": [
    "# Setup"
   ]
  },
  {
   "cell_type": "code",
   "execution_count": null,
   "metadata": {},
   "outputs": [],
   "source": [
    "# When working in AI LRZ\n",
    "%cd ~/cma/CMA_Fairness_v2"
   ]
  },
  {
   "cell_type": "code",
   "execution_count": null,
   "metadata": {},
   "outputs": [],
   "source": [
    "%run analysis_setup_cp.ipynb"
   ]
  },
  {
   "cell_type": "markdown",
   "metadata": {},
   "source": [
    "## Prepare Data\n"
   ]
  },
  {
   "cell_type": "code",
   "execution_count": null,
   "metadata": {},
   "outputs": [],
   "source": [
    "import pandas as pd\n",
    "from pathlib import Path\n",
    "\n",
    "RUN_TO_ANALYSE = \"1\"\n",
    "CP_DIR = Path(\"output\") / \"runs\" / str(RUN_TO_ANALYSE)\n",
    "\n",
    "df_agg = pd.read_csv(CP_DIR / \"combined_cp_metrics.csv\")"
   ]
  },
  {
   "cell_type": "code",
   "execution_count": null,
   "metadata": {},
   "outputs": [],
   "source": [
    "df_agg.head()"
   ]
  },
  {
   "cell_type": "code",
   "execution_count": null,
   "metadata": {},
   "outputs": [],
   "source": [
    "df_agg.shape"
   ]
  },
  {
   "cell_type": "code",
   "execution_count": null,
   "metadata": {},
   "outputs": [],
   "source": [
    "main_cp_metric = \"avg_size\" # \"avg_size\", \"cov_nongerman_female\""
   ]
  },
  {
   "cell_type": "markdown",
   "metadata": {},
   "source": [
    "# Calculate Variable Importance"
   ]
  },
  {
   "cell_type": "markdown",
   "metadata": {},
   "source": [
    "## Use a Lasso Regression to estimate Importance of Settings"
   ]
  },
  {
   "cell_type": "code",
   "execution_count": null,
   "metadata": {},
   "outputs": [],
   "source": [
    "cols_design_dec = [\"universe_training_year\", \n",
    "                   \"universe_training_size\", \n",
    "                   \"universe_scale\",\n",
    "                   \"universe_model\", \n",
    "                   \"universe_exclude_features\", \n",
    "                   \"universe_exclude_subgroups\"]\n",
    "X = df_agg[cols_design_dec]\n",
    "y = df_agg[main_cp_metric]"
   ]
  },
  {
   "cell_type": "code",
   "execution_count": null,
   "metadata": {},
   "outputs": [],
   "source": [
    "# Baseline for Lasso\n",
    "\n",
    "categories_per_col = {\n",
    "    \"universe_training_year\": [\"2010_14\", \"2012_14\", \"2014\"],\n",
    "    \"universe_training_size\": [\"1k\", \"5k\", \"25k\"],\n",
    "    \"universe_scale\": [\"scale\", \"do-not-scale\"],            # baseline = 'scale'\n",
    "    \"universe_model\": [\"logreg\", \"elasticnet\", \"pen_logreg\", \"gbm\", \"rf\"],  # baseline = 'logreg'\n",
    "    \"universe_exclude_features\": [\"none\", \"age\", \"sex\", \"nationality\", \"nationality-sex\"],\n",
    "    \"universe_exclude_subgroups\": [\"keep-all\", \"drop-non-german\"],\n",
    "}\n",
    "\n",
    "categories = [categories_per_col[c] for c in cols_design_dec]"
   ]
  },
  {
   "cell_type": "code",
   "execution_count": null,
   "metadata": {},
   "outputs": [],
   "source": [
    "X.head()"
   ]
  },
  {
   "cell_type": "code",
   "execution_count": null,
   "metadata": {},
   "outputs": [],
   "source": [
    "X.shape"
   ]
  },
  {
   "cell_type": "code",
   "execution_count": null,
   "metadata": {},
   "outputs": [],
   "source": [
    "y.shape"
   ]
  },
  {
   "cell_type": "markdown",
   "metadata": {},
   "source": [
    "### Main Effects of Settings Only (i.e. no interactions)"
   ]
  },
  {
   "cell_type": "code",
   "execution_count": null,
   "metadata": {},
   "outputs": [],
   "source": [
    "from sklearn.pipeline import make_pipeline\n",
    "from sklearn.preprocessing import OneHotEncoder\n",
    "from sklearn.linear_model import LassoCV\n",
    "\n",
    "# Set baseline for comparison\n",
    "ohe = OneHotEncoder(\n",
    "    categories=categories,\n",
    "    drop='first',                 # use the first item in each list as baseline\n",
    "    handle_unknown='ignore',      # avoids errors if something slips through\n",
    "    sparse=False,\n",
    ")\n",
    "\n",
    "# Do preprocessing in a separate pipeline from model fitting\n",
    "# (for eli5 to work)\n",
    "preprocessor = make_pipeline(ohe).fit(X[cols_design_dec]) \n",
    "X_processed = preprocessor.transform(X[cols_design_dec]) \n",
    "\n",
    "# Fit a Lasso regression model with cross-validation to the processed data\n",
    "lasso_reg = LassoCV(cv=5, random_state=0).fit(X_processed, y)\n",
    "\n",
    "# Check whether it's predictive at all\n",
    "lasso_reg.score(X_processed, y) # Evaluate the model's R^2 score on the training data"
   ]
  },
  {
   "cell_type": "markdown",
   "metadata": {},
   "source": [
    "R² = 1.0: Perfect predictions\n",
    "\n",
    "R² = 0.0: Model does no better than predicting the mean\n",
    "\n",
    "R² < 0.0: Model is worse than just predicting the mean"
   ]
  },
  {
   "cell_type": "markdown",
   "metadata": {},
   "source": [
    "Weights of importance:"
   ]
  },
  {
   "cell_type": "code",
   "execution_count": null,
   "metadata": {},
   "outputs": [],
   "source": [
    "# Visualize the importance of each feature in trained lasso_reg model\n",
    "import eli5\n",
    "eli5.show_weights(lasso_reg, top=-1, feature_names = preprocessor.get_feature_names_out())"
   ]
  },
  {
   "cell_type": "code",
   "execution_count": null,
   "metadata": {},
   "outputs": [],
   "source": [
    "# Save main-effect coefficients as a LaTeX table\n",
    "import re\n",
    "from fairness_multiverse.analysis import pretty_label\n",
    "from fairness_multiverse.analysis import pretty_baseline\n",
    "from sklearn.preprocessing import OneHotEncoder\n",
    "\n",
    "tables_dir = (CP_DIR / \"tables\")\n",
    "tables_dir.mkdir(parents=True, exist_ok=True)\n",
    "\n",
    "# Pull feature names & coefs from the fitted objects\n",
    "feature_names = preprocessor.get_feature_names_out()\n",
    "coefs = lasso_reg.coef_\n",
    "\n",
    "coef_df = pd.DataFrame({\"FeatureRaw\": feature_names, \"Coef\": coefs})\n",
    "\n",
    "coef_df[\"Design Decision\"] = coef_df[\"FeatureRaw\"].map(pretty_label)\n",
    "\n",
    "\n",
    "# Order by absolute importance\n",
    "coef_df[\"Abs\"] = coef_df[\"Coef\"].abs()\n",
    "coef_df.sort_values([\"Abs\", \"Design Decision\"], ascending=[False, True], inplace=True)\n",
    "\n",
    "# keep only the 10 largest effects by absolute coefficient\n",
    "coef_df = coef_df.head(10)\n",
    "\n",
    "# Choose caption/filename based on the metric\n",
    "metric_cfg = {\n",
    "    \"avg_size\": {\n",
    "        \"pretty\": \"Average Prediction Set Size (APSS)\",\n",
    "        \"file_stub\": \"apss\",\n",
    "        \"caption_extra\":\"\"\n",
    "    },\n",
    "    \"cov_nongerman_female\": {\n",
    "        \"pretty\": \"Group-Conditional Coverage (Non-German females)\",\n",
    "        \"file_stub\": \"gcc_ng_female\",\n",
    "        \"caption_extra\": \"Nominal target coverage is 90\\\\%.\"\n",
    "    },\n",
    "}\n",
    "cfg = metric_cfg.get(main_cp_metric, metric_cfg[\"avg_size\"])\n",
    "\n",
    "# Baseline\n",
    "baseline_map = {col: cats[0] for col, cats in zip(cols_design_dec, categories)}\n",
    "baseline_parts = [pretty_baseline(c, baseline_map[c]) for c in cols_design_dec]\n",
    "baseline_text = \"; \".join(baseline_parts)\n",
    "\n",
    "baseline_note = (\n",
    "    \"Coefficients are contrasts against the baseline: \"\n",
    "    + baseline_text + \".\"\n",
    ")\n",
    "\n",
    "\n",
    "caption = (f\"Top 10 main effects (no interactions) from Lasso for {cfg['pretty']}. \"\n",
    "           f\"{baseline_note} {cfg['caption_extra']}\")\n",
    "\n",
    "# Format pretty table and write LaTeX \n",
    "pretty_tbl = pd.DataFrame({\n",
    "    \"Design Decision\": coef_df[\"Design Decision\"],\n",
    "    \"Coefficient\": coef_df[\"Coef\"].map(lambda x: f\"{x:+.3f}\")\n",
    "})\n",
    "\n",
    "latex_path = tables_dir / f\"main_effects_{cfg['file_stub']}.tex\"\n",
    "latex_str = pretty_tbl.to_latex(\n",
    "    index=False,\n",
    "    escape=True,\n",
    "    column_format=\"l r\",\n",
    "    caption=caption,\n",
    "    label=f\"tab:main_effects_{cfg['file_stub']}\"\n",
    ")\n",
    "with open(latex_path, \"w\") as f:\n",
    "    f.write(latex_str)\n",
    "\n",
    "print(f\"[OK] Saved LaTeX table to: {latex_path}\")\n"
   ]
  },
  {
   "cell_type": "markdown",
   "metadata": {},
   "source": [
    "### Including Interactions"
   ]
  },
  {
   "cell_type": "code",
   "execution_count": null,
   "metadata": {},
   "outputs": [],
   "source": [
    "# w/o baseline\n",
    "from sklearn.pipeline import make_pipeline\n",
    "from sklearn.preprocessing import OneHotEncoder, PolynomialFeatures\n",
    "from sklearn.linear_model import LassoCV\n",
    "\n",
    "# Do preprocessing w/o a pipeline for eli5 to work\n",
    "preprocessor = make_pipeline(\n",
    "    OneHotEncoder(),\n",
    "    PolynomialFeatures(degree=2),\n",
    ").fit(X)\n",
    "X_processed = preprocessor.transform(X)\n",
    "\n",
    "lasso_reg = LassoCV(cv=5, random_state=0).fit(X_processed, y)\n",
    "\n",
    "# Check whether it's predictive at all\n",
    "lasso_reg.score(X_processed, y) # Evaluate the model's R^2 score on the training data"
   ]
  },
  {
   "cell_type": "markdown",
   "metadata": {},
   "source": [
    "Weights of importance:"
   ]
  },
  {
   "cell_type": "code",
   "execution_count": null,
   "metadata": {},
   "outputs": [],
   "source": [
    "# w/o baseline\n",
    "import eli5\n",
    "eli5.show_weights(lasso_reg, top=-1, feature_names = preprocessor.get_feature_names_out())"
   ]
  },
  {
   "cell_type": "code",
   "execution_count": null,
   "metadata": {},
   "outputs": [],
   "source": [
    "# Including Interactions — with same baselines as main-effects\n",
    "\n",
    "from sklearn.pipeline import make_pipeline\n",
    "from sklearn.preprocessing import OneHotEncoder, PolynomialFeatures\n",
    "from sklearn.linear_model import LassoCV\n",
    "import eli5\n",
    "\n",
    "# Reuse the same `categories` dict \n",
    "\n",
    "ohe = OneHotEncoder(\n",
    "    categories=categories,   # same baselines/order as main effects\n",
    "    drop='first',\n",
    "    handle_unknown='ignore',\n",
    "    sparse=False,\n",
    ")\n",
    "\n",
    "# Preprocess with OHE (using baselines) + interaction features\n",
    "preprocessor = make_pipeline(\n",
    "    ohe,\n",
    "    PolynomialFeatures(degree=2, include_bias=False)\n",
    ").fit(X[cols_design_dec])\n",
    "\n",
    "X_processed = preprocessor.transform(X[cols_design_dec])\n",
    "\n",
    "# Fit Lasso with CV\n",
    "lasso_reg = LassoCV(cv=5, random_state=0).fit(X_processed, y)\n",
    "\n",
    "# Show feature importances with readable names\n",
    "eli5.show_weights(\n",
    "    lasso_reg,\n",
    "    top=20,\n",
    "    feature_names=preprocessor.get_feature_names_out()\n",
    ")\n"
   ]
  },
  {
   "cell_type": "code",
   "execution_count": null,
   "metadata": {},
   "outputs": [],
   "source": [
    "# Check R^2 on the training data\n",
    "lasso_reg.score(X_processed, y)"
   ]
  },
  {
   "cell_type": "code",
   "execution_count": null,
   "metadata": {},
   "outputs": [],
   "source": []
  },
  {
   "cell_type": "markdown",
   "metadata": {},
   "source": [
    "## Use a functinoal ANOVA (fANOVA) to Analyze Setting Importance\n",
    "\n",
    "Based on the following paper:\n",
    "\n",
    "Hutter, F., Hoos, H., & Leyton-Brown, K. (2014). An Efficient Approach for Assessing Hyperparameter Importance. Proceedings of the 31st International Conference on Machine Learning, 754–762. https://proceedings.mlr.press/v32/hutter14.html\n"
   ]
  },
  {
   "cell_type": "code",
   "execution_count": null,
   "metadata": {},
   "outputs": [],
   "source": [
    "from fairness_multiverse.analysis import MultiverseFanova\n",
    "\n",
    "m_fanova = MultiverseFanova(features = df_agg[cols_design_dec], outcome = df_agg[main_cp_metric])"
   ]
  },
  {
   "cell_type": "code",
   "execution_count": null,
   "metadata": {},
   "outputs": [],
   "source": [
    "m_fanova.quantify_individual_importance()"
   ]
  },
  {
   "cell_type": "code",
   "execution_count": null,
   "metadata": {},
   "outputs": [],
   "source": [
    "m_fanova.quantify_importance(save_to = CP_DIR/ f\"fanova_importance_interactions-overall_{main_cp_metric}.csv\")"
   ]
  },
  {
   "cell_type": "code",
   "execution_count": null,
   "metadata": {},
   "outputs": [],
   "source": [
    "# Latex Table \"10 most important decisions or decision interactions\"\n",
    "\n",
    "pd.set_option('display.max_colwidth', None)  \n",
    "\n",
    "fanova_df = m_fanova.quantify_importance()\n",
    "\n",
    "top10 = (\n",
    "    fanova_df\n",
    "    .sort_values('individual importance', ascending=False)\n",
    "    .head(10)\n",
    "    .reset_index(drop=True)\n",
    ")\n",
    "\n",
    "# Detect main vs. N-way interaction\n",
    "def effect_type(row):\n",
    "    levels = [row[f'level_{i}'] for i in range(5) if pd.notna(row.get(f'level_{i}'))]\n",
    "    return 'main' if len(levels) == 1 else f'{len(levels)}-way int.'\n",
    "\n",
    "top10['Effect Type'] = top10.apply(effect_type, axis=1)\n",
    "\n",
    "def clean_level(name: str) -> str:\n",
    "    if pd.isna(name): \n",
    "        return \"\"\n",
    "    # strip leading universe_\n",
    "    if name.startswith(\"universe_\"):\n",
    "        name = name[len(\"universe_\"):]\n",
    "    # snake_case → CamelCase\n",
    "    return \"\".join(part.capitalize() for part in name.split(\"_\"))\n",
    "\n",
    "def fmt_level(name: str) -> str:\n",
    "    return f\"\\\\textit{{{clean_level(name)}}}\"\n",
    "\n",
    "top10[\"Decision / Interaction of Decisions\"] = (\n",
    "    top10\n",
    "    .apply(\n",
    "        lambda row: \" $\\\\times$ \".join(\n",
    "            fmt_level(row[f\"level_{i}\"])\n",
    "            for i in range(5)                      # loop over 0–4\n",
    "            if pd.notna(row.get(f\"level_{i}\"))\n",
    "        ),\n",
    "        axis=1,\n",
    "    )\n",
    ")\n",
    "\n",
    "out = top10[[\n",
    "    'Effect Type',\n",
    "    'Decision / Interaction of Decisions',\n",
    "    'individual importance',\n",
    "    'individual std'\n",
    "]].copy()\n",
    "out.columns = [\n",
    "    'Effect Type',\n",
    "    'Decision / Interaction of Decisions',\n",
    "    'Importance',\n",
    "    'Std. Deviation'\n",
    "]\n",
    "\n",
    "out['Importance']    = out['Importance'].round(3)\n",
    "out['Std. Deviation']= out['Std. Deviation'].round(3)\n",
    "\n",
    "raw = out.to_latex(\n",
    "    index=False,\n",
    "    escape=False,       \n",
    "    column_format='llrr'\n",
    ")\n",
    "\n",
    "lines = raw.splitlines()\n",
    "new_lines = []\n",
    "hcount = 0\n",
    "for ln in lines:\n",
    "    if ln.strip() == r'\\hline':\n",
    "        hcount += 1\n",
    "        if hcount == 1:\n",
    "            new_lines.append(r'\\toprule')\n",
    "        elif hcount == 2:\n",
    "            new_lines.append(r'\\midrule')\n",
    "        else:\n",
    "            new_lines.append(r'\\bottomrule')\n",
    "    else:\n",
    "        new_lines.append(ln)\n",
    "fixed_tabular = \"\\n\".join(new_lines)\n",
    "\n",
    "# 9. wrap in full table environment\n",
    "latex = f\"\"\"\\\\begin{{table}}\n",
    "\\\\centering\n",
    "\\\\caption{{The 10 most important decisions or decision interactions and their relative importance for the average prediction set size.}}\n",
    "\\\\label{{tab:fanova_top10}}\n",
    "{fixed_tabular}\n",
    "\\\\end{{table}}\n",
    "\"\"\"\n",
    "\n",
    "output_path = CP_DIR / f\"fanova_top10_{main_cp_metric}.tex\"\n",
    "output_path.write_text(latex)"
   ]
  },
  {
   "cell_type": "markdown",
   "metadata": {
    "jp-MarkdownHeadingCollapsed": true
   },
   "source": [
    "# Visualizations Avg. Prediction Set Size"
   ]
  },
  {
   "cell_type": "code",
   "execution_count": null,
   "metadata": {},
   "outputs": [],
   "source": [
    "# Plot 1D marginal\n",
    "from fanova import visualizer\n",
    "\n",
    "vis = visualizer.Visualizer(m_fanova.fanova, m_fanova.configuration_space, directory = str(CP_DIR))\n",
    "vis.plot_marginal(2)"
   ]
  },
  {
   "cell_type": "code",
   "execution_count": null,
   "metadata": {},
   "outputs": [],
   "source": [
    "# Recover mapping\n",
    "col = \"universe_model\"\n",
    "original_labels = df_agg[col].unique()\n",
    "\n",
    "# Get corresponding numeric codes\n",
    "from sklearn.preprocessing import LabelEncoder\n",
    "le = LabelEncoder()\n",
    "codes = le.fit_transform(df_agg[col].values)\n",
    "label_map = dict(zip(le.transform(original_labels), original_labels))\n",
    "\n",
    "# Sort by code\n",
    "label_map = dict(sorted(label_map.items()))\n",
    "print(label_map)"
   ]
  },
  {
   "cell_type": "code",
   "execution_count": null,
   "metadata": {},
   "outputs": [],
   "source": [
    "import matplotlib.pyplot as plt\n",
    "import seaborn as sns\n",
    "import matplotlib.gridspec as gridspec\n",
    "\n",
    "# Label mapping\n",
    "label_map = {\n",
    "    'universe_training_size': 'Training Size',\n",
    "    'universe_training_year': 'Training Year',\n",
    "    'universe_scale': 'Scaling',\n",
    "    'universe_model': 'Model',\n",
    "    'universe_exclude_features': 'Excluded Features',\n",
    "    'universe_exclude_subgroups': 'Excluded Subgroups'\n",
    "}\n",
    "\n",
    "# Custom x-tick renaming\n",
    "category_renames = {\n",
    "    '2010_14': '2010-14',\n",
    "    '2012_14': '2012-14',\n",
    "    'scale': 'scaled',\n",
    "    'do-not-scale': 'not-scaled',\n",
    "    'drop-non-german': 'drop',\n",
    "    'penalized_logreg': 'pen. logreg',\n",
    "    'rf': 'rand. forest'\n",
    "}\n",
    "\n",
    "# Custom order per parameter\n",
    "custom_orders = {\n",
    "    'universe_training_size': ['1k', '5k', '25k'],\n",
    "    'universe_model': ['logreg', 'penalized_logreg', 'elasticnet', 'gbm', 'rf'],\n",
    "    'universe_exclude_features': ['none', 'age', 'nationality', 'sex', 'nationality-sex']\n",
    "}\n",
    "\n",
    "# Plot layout\n",
    "row1 = [\n",
    "    'universe_training_size',\n",
    "    'universe_training_year',\n",
    "    'universe_scale',\n",
    "    'universe_exclude_subgroups'\n",
    "]\n",
    "row2 = ['universe_model', 'universe_exclude_features']\n",
    "\n",
    "widths_row1 = [1.3, 1.3, 1.0, 1.0]\n",
    "widths_row2 = [2.0, 2.0] \n",
    "\n",
    "colors_row1 = ['#FFFF99', '#FDBF6F', '#FB9A99', '#CAB2D6']\n",
    "colors_row2 = ['aquamarine', 'lightskyblue'] \n",
    "\n",
    "# Styling\n",
    "sns.set(style=\"whitegrid\", palette=\"pastel\", font_scale=1.2)\n",
    "fig = plt.figure(figsize=(24, 15))\n",
    "outer_gs = gridspec.GridSpec(2, 1, height_ratios=[1, 1], hspace=0.5)\n",
    "\n",
    "# Font sizes\n",
    "axis_label_size = 24\n",
    "tick_label_size = 20\n",
    "category_label_size = 24\n",
    "\n",
    "# Row 1\n",
    "gs_row1 = gridspec.GridSpecFromSubplotSpec(\n",
    "    nrows=1, ncols=4, subplot_spec=outer_gs[0], width_ratios=widths_row1, wspace=0.3\n",
    ")\n",
    "\n",
    "for idx, param in enumerate(row1): \n",
    "    ax = fig.add_subplot(gs_row1[0, idx]) \n",
    "\n",
    "    order = custom_orders.get(param, sorted(df_agg[param].dropna().unique()))\n",
    "    sns.violinplot(\n",
    "        data=df_agg, x=param, y='avg_size', ax=ax,\n",
    "        inner='box', cut=0, order=order, color=colors_row1[idx]\n",
    "    )\n",
    "\n",
    "    # Overlay median dots\n",
    "    medians = df_agg.groupby(param)['avg_size'].median()\n",
    "    for i, cat in enumerate(order):\n",
    "        if cat in medians:\n",
    "            ax.plot(i, medians[cat], color='lemonchiffon', marker='o', markersize=8, zorder=3)\n",
    "\n",
    "    # Rename x-tick labels\n",
    "    xticks = [label.get_text() for label in ax.get_xticklabels()]\n",
    "    renamed = [category_renames.get(label, label) for label in xticks]\n",
    "    ax.set_xticklabels(renamed, fontsize=category_label_size, rotation=30)\n",
    "\n",
    "    ax.set_xlabel(label_map[param], fontsize=axis_label_size)\n",
    "    if idx == 0:\n",
    "        ax.set_ylabel('Avg. Prediction Set Size', fontsize=axis_label_size)\n",
    "    else:\n",
    "        ax.set_ylabel('')\n",
    "        ax.set_yticklabels([])\n",
    "        ax.tick_params(axis='y', left=False)\n",
    "    ax.tick_params(axis='y', labelsize=tick_label_size)\n",
    "    ax.set_title(\"\")\n",
    "\n",
    "# Row 2\n",
    "gs_row2 = gridspec.GridSpecFromSubplotSpec(\n",
    "    nrows=1, ncols=2, subplot_spec=outer_gs[1], width_ratios=widths_row2, wspace=0.1\n",
    ")\n",
    "for idx, param in enumerate(row2): \n",
    "    ax = fig.add_subplot(gs_row2[0, idx])  \n",
    "\n",
    "    order = custom_orders.get(param, sorted(df_agg[param].dropna().unique()))\n",
    "    sns.violinplot(\n",
    "        data=df_agg, x=param, y='avg_size', ax=ax,\n",
    "        inner='box', cut=0, order=order, color=colors_row2[idx]\n",
    "    )\n",
    "\n",
    "    # Overlay median dots\n",
    "    medians = df_agg.groupby(param)['avg_size'].median()\n",
    "    for i, cat in enumerate(order):\n",
    "        if cat in medians:\n",
    "            ax.plot(i, medians[cat], color='lemonchiffon', marker='o', markersize=8, zorder=3)\n",
    "\n",
    "    # Rename x-tick labels\n",
    "    xticks = [label.get_text() for label in ax.get_xticklabels()]\n",
    "    renamed = [category_renames.get(label, label) for label in xticks]\n",
    "    ax.set_xticklabels(renamed, fontsize=category_label_size, rotation=30)\n",
    "\n",
    "    ax.set_xlabel(label_map[param], fontsize=axis_label_size)\n",
    "    if idx == 0:\n",
    "        ax.set_ylabel('Avg. Prediction Set Size', fontsize=axis_label_size)\n",
    "    else:\n",
    "        ax.set_ylabel('')\n",
    "        ax.set_yticklabels([])\n",
    "        ax.tick_params(axis='y', left=False)\n",
    "    ax.tick_params(axis='y', labelsize=tick_label_size)\n",
    "    ax.set_title(\"\")\n",
    "\n",
    "output_path = CP_DIR / f\"violin_plots_{main_cp_metric}.png\"\n",
    "plt.savefig(output_path, dpi=300, bbox_inches='tight')\n",
    "\n",
    "plt.show()"
   ]
  },
  {
   "cell_type": "code",
   "execution_count": null,
   "metadata": {},
   "outputs": [],
   "source": [
    "# 5 most important 2-way interactions\n",
    "best_p_margs = m_fanova.fanova.get_most_important_pairwise_marginals(n=5)\n",
    "print(best_p_margs)"
   ]
  },
  {
   "cell_type": "code",
   "execution_count": null,
   "metadata": {},
   "outputs": [],
   "source": [
    "from fanova import visualizer\n",
    "\n",
    "vis = visualizer.Visualizer(m_fanova.fanova, m_fanova.configuration_space, directory = str(CP_DIR))"
   ]
  },
  {
   "cell_type": "code",
   "execution_count": null,
   "metadata": {},
   "outputs": [],
   "source": [
    "# Plot 2D pairwise marginal\n",
    "vis.plot_pairwise_marginal(['universe_scale', 'universe_model'])"
   ]
  },
  {
   "cell_type": "code",
   "execution_count": null,
   "metadata": {},
   "outputs": [],
   "source": [
    "# Recover mapping\n",
    "col = \"universe_scale\"\n",
    "original_labels = df_agg[col].unique()\n",
    "\n",
    "# Get corresponding numeric codes\n",
    "from sklearn.preprocessing import LabelEncoder\n",
    "le = LabelEncoder()\n",
    "codes = le.fit_transform(df_agg[col].values)\n",
    "label_map = dict(zip(le.transform(original_labels), original_labels))\n",
    "\n",
    "# Sort by code\n",
    "label_map = dict(sorted(label_map.items()))\n",
    "print(label_map)"
   ]
  },
  {
   "cell_type": "code",
   "execution_count": null,
   "metadata": {},
   "outputs": [],
   "source": [
    "# Heatmap avg. prediction set size\n",
    "\n",
    "vis.plot_pairwise_marginal(['universe_scale', 'universe_model'])\n",
    "\n",
    "plt.yticks(\n",
    "    ticks=[0,1,2,3,4], \n",
    "    labels=['elasticnet', 'gbm', 'logreg', 'pen. logreg', 'rand. forest'], \n",
    "    fontsize=16)\n",
    "\n",
    "plt.xticks(\n",
    "    ticks=[0,1], \n",
    "    labels=['no', 'yes'],\n",
    "    #rotation=45,\n",
    "    fontsize=16)\n",
    "\n",
    "cbar = plt.gcf().axes[-1] \n",
    "cbar.set_ylabel(\"Avg. Prediction Set Size\", rotation=90, labelpad=15, fontsize=20)\n",
    "cbar.tick_params(labelsize=16)\n",
    "\n",
    "plt.ylabel(\"Model\", fontsize=20)\n",
    "plt.xlabel(\"Scaling\", fontsize=20)\n",
    "\n",
    "ax = plt.gca()\n",
    "im = ax.get_images()[0] \n",
    "im.set_cmap(\"bwr\")\n",
    "\n",
    "plt.title(\"\")\n",
    "plt.tight_layout()\n",
    "\n",
    "output_path = CP_DIR / f\"heatmap_{main_cp_metric}.png\"\n",
    "#plt.savefig(output_path, dpi=300, bbox_inches='tight')\n",
    "\n",
    "plt.show()"
   ]
  },
  {
   "cell_type": "markdown",
   "metadata": {},
   "source": [
    "# Visualizations Conditional Coverage"
   ]
  },
  {
   "cell_type": "code",
   "execution_count": null,
   "metadata": {},
   "outputs": [],
   "source": [
    "# Violin plots conditional coverage\n",
    "\n",
    "import matplotlib.pyplot as plt\n",
    "import seaborn as sns\n",
    "import matplotlib.gridspec as gridspec\n",
    "\n",
    "# Label mapping\n",
    "label_map = {\n",
    "    'universe_training_size': 'Training Size',\n",
    "    'universe_training_year': 'Training Year',\n",
    "    'universe_scale': 'Scaling',\n",
    "    'universe_model': 'Model',\n",
    "    'universe_exclude_features': 'Excluded Features',\n",
    "    'universe_exclude_subgroups': 'Excluded Subgroups'\n",
    "}\n",
    "\n",
    "# Custom x-tick renaming\n",
    "category_renames = {\n",
    "    '2010_14': '2010-14',\n",
    "    '2012_14': '2012-14',\n",
    "    'scale': 'scaled',\n",
    "    'do-not-scale': 'not-scaled',\n",
    "    'drop-non-german': 'drop',\n",
    "    'penalized_logreg': 'pen. logreg',\n",
    "    'rf': 'rand. forest'\n",
    "}\n",
    "\n",
    "# Custom order per parameter\n",
    "custom_orders = {\n",
    "    'universe_training_size': ['1k', '5k', '25k'],\n",
    "    'universe_model': ['logreg', 'penalized_logreg', 'elasticnet', 'gbm', 'rf'],\n",
    "    'universe_exclude_features': ['none', 'age', 'nationality', 'sex', 'nationality-sex']\n",
    "}\n",
    "\n",
    "# Plot layout\n",
    "row1 = [\n",
    "    'universe_training_size',\n",
    "    'universe_training_year',\n",
    "    'universe_scale',\n",
    "    'universe_exclude_subgroups'\n",
    "]\n",
    "row2 = ['universe_model', 'universe_exclude_features']\n",
    "\n",
    "widths_row1 = [1.3, 1.3, 1.0, 1.0]\n",
    "widths_row2 = [2.0, 2.0]\n",
    "\n",
    "colors_row1 = ['#FFFF99', '#FDBF6F', '#FB9A99', '#CAB2D6']\n",
    "colors_row2 = ['aquamarine', 'lightskyblue'] \n",
    "\n",
    "# Styling\n",
    "sns.set(style=\"whitegrid\", palette=\"pastel\", font_scale=1.2)\n",
    "fig = plt.figure(figsize=(24, 15))\n",
    "outer_gs = gridspec.GridSpec(2, 1, height_ratios=[1, 1], hspace=0.5)\n",
    "\n",
    "# Font sizes\n",
    "axis_label_size = 24\n",
    "tick_label_size = 20\n",
    "category_label_size = 24\n",
    "\n",
    "# Row 1\n",
    "gs_row1 = gridspec.GridSpecFromSubplotSpec(\n",
    "    nrows=1, ncols=4, subplot_spec=outer_gs[0], width_ratios=widths_row1, wspace=0.3\n",
    ")\n",
    "\n",
    "for idx, param in enumerate(row1): \n",
    "    ax = fig.add_subplot(gs_row1[0, idx]) \n",
    "\n",
    "    order = custom_orders.get(param, sorted(df_agg[param].dropna().unique()))\n",
    "    sns.violinplot(\n",
    "        data=df_agg, x=param, y='cov_nongerman_female', ax=ax,\n",
    "        inner='box', cut=0, order=order, color=colors_row1[idx]\n",
    "    )\n",
    "\n",
    "    # Overlay median dots\n",
    "    medians = df_agg.groupby(param)['cov_nongerman_female'].median()\n",
    "    for i, cat in enumerate(order):\n",
    "        if cat in medians:\n",
    "            ax.plot(i, medians[cat], color='lemonchiffon', marker='o', markersize=8, zorder=3)\n",
    "\n",
    "    # Rename x-tick labels\n",
    "    xticks = [label.get_text() for label in ax.get_xticklabels()]\n",
    "    renamed = [category_renames.get(label, label) for label in xticks]\n",
    "    ax.set_xticklabels(renamed, fontsize=category_label_size, rotation=30)\n",
    "\n",
    "    ax.set_xlabel(label_map[param], fontsize=axis_label_size)\n",
    "    if idx == 0:\n",
    "        ax.set_ylabel('Cov. Non-German Female', fontsize=axis_label_size)\n",
    "    else:\n",
    "        ax.set_ylabel('')\n",
    "        ax.set_yticklabels([])\n",
    "        ax.tick_params(axis='y', left=False)\n",
    "    ax.tick_params(axis='y', labelsize=tick_label_size)\n",
    "    ax.set_title(\"\")\n",
    "\n",
    "# Row 2\n",
    "gs_row2 = gridspec.GridSpecFromSubplotSpec(\n",
    "    nrows=1, ncols=2, subplot_spec=outer_gs[1], width_ratios=widths_row2, wspace=0.1\n",
    ")\n",
    "for idx, param in enumerate(row2): \n",
    "    ax = fig.add_subplot(gs_row2[0, idx])  \n",
    "\n",
    "    order = custom_orders.get(param, sorted(df_agg[param].dropna().unique()))\n",
    "    sns.violinplot(\n",
    "        data=df_agg, x=param, y='cov_nongerman_female', ax=ax,\n",
    "        inner='box', cut=0, order=order, color=colors_row2[idx]\n",
    "    )\n",
    "\n",
    "    # Overlay median dots\n",
    "    medians = df_agg.groupby(param)['cov_nongerman_female'].median()\n",
    "    for i, cat in enumerate(order):\n",
    "        if cat in medians:\n",
    "            ax.plot(i, medians[cat], color='lemonchiffon', marker='o', markersize=8, zorder=3)\n",
    "\n",
    "    # Rename x-tick labels\n",
    "    xticks = [label.get_text() for label in ax.get_xticklabels()]\n",
    "    renamed = [category_renames.get(label, label) for label in xticks]\n",
    "    ax.set_xticklabels(renamed, fontsize=category_label_size, rotation=30)\n",
    "\n",
    "    ax.set_xlabel(label_map[param], fontsize=axis_label_size)\n",
    "    if idx == 0:\n",
    "        ax.set_ylabel('Cov. Non-German Female', fontsize=axis_label_size)\n",
    "    else:\n",
    "        ax.set_ylabel('')\n",
    "        ax.set_yticklabels([])\n",
    "        ax.tick_params(axis='y', left=False)\n",
    "    ax.tick_params(axis='y', labelsize=tick_label_size)\n",
    "    ax.set_title(\"\")\n",
    "\n",
    "output_path = CP_DIR / f\"violin_plots_{main_cp_metric}.png\"\n",
    "plt.savefig(output_path, dpi=300, bbox_inches='tight')\n",
    "\n",
    "plt.show()"
   ]
  },
  {
   "cell_type": "code",
   "execution_count": null,
   "metadata": {},
   "outputs": [],
   "source": [
    "# Recover mapping\n",
    "col = \"universe_scale\"\n",
    "original_labels = df_agg[col].unique()\n",
    "\n",
    "# Get corresponding numeric codes\n",
    "from sklearn.preprocessing import LabelEncoder\n",
    "le = LabelEncoder()\n",
    "codes = le.fit_transform(df_agg[col].values)\n",
    "label_map = dict(zip(le.transform(original_labels), original_labels))\n",
    "\n",
    "# Sort by code\n",
    "label_map = dict(sorted(label_map.items()))\n",
    "print(label_map)"
   ]
  },
  {
   "cell_type": "code",
   "execution_count": null,
   "metadata": {},
   "outputs": [],
   "source": [
    "from fanova import visualizer\n",
    "\n",
    "vis = visualizer.Visualizer(m_fanova.fanova, m_fanova.configuration_space, directory = str(CP_DIR))"
   ]
  },
  {
   "cell_type": "code",
   "execution_count": null,
   "metadata": {},
   "outputs": [],
   "source": [
    "# Plot 2D pairwise marginal\n",
    "vis.plot_pairwise_marginal(['universe_scale', 'universe_model'])"
   ]
  },
  {
   "cell_type": "code",
   "execution_count": null,
   "metadata": {},
   "outputs": [],
   "source": [
    "# Heatmap conditional coverage\n",
    "\n",
    "import matplotlib.pyplot as plt\n",
    "\n",
    "vis.plot_pairwise_marginal(['universe_scale', 'universe_model'])\n",
    "\n",
    "plt.yticks(\n",
    "    ticks=[0,1,2,3,4], \n",
    "    labels=['elasticnet', 'gbm', 'logreg', 'pen. logreg', 'rand. forest'], \n",
    "    fontsize=18)\n",
    "\n",
    "plt.xticks(\n",
    "    ticks=[0,1], \n",
    "    labels=['no', 'yes'],\n",
    "    #rotation=45,\n",
    "    fontsize=18)\n",
    "\n",
    "cbar = plt.gcf().axes[-1] \n",
    "cbar.set_ylabel(\"Cov. NG Female\", rotation=90, labelpad=15, fontsize=20)\n",
    "cbar.tick_params(labelsize=20)\n",
    "\n",
    "plt.xlabel(\"Scaling\", fontsize=20)\n",
    "plt.ylabel(\"Model\", fontsize=20)\n",
    "\n",
    "ax = plt.gca()\n",
    "im = ax.get_images()[0] \n",
    "im.set_cmap(\"bwr\") # \"bwr_r\"\n",
    "\n",
    "\n",
    "plt.title(\"\")\n",
    "plt.tight_layout()\n",
    "\n",
    "output_path = CP_DIR / f\"heatmap_{main_cp_metric}.png\"\n",
    "#plt.savefig(output_path, dpi=300, bbox_inches='tight')\n",
    "\n",
    "plt.show()"
   ]
  },
  {
   "cell_type": "markdown",
   "metadata": {},
   "source": [
    "# Quantify Importance with Partial Data"
   ]
  },
  {
   "cell_type": "code",
   "execution_count": null,
   "metadata": {},
   "outputs": [],
   "source": [
    "from tqdm import tqdm\n",
    "\n",
    "OUTPUT_DIR = Path(\".\") / \"output\"\n",
    "\n",
    "# Directory that will contain outputs from analysis\n",
    "ANALYSIS_OUTPUT_DIR = OUTPUT_DIR / \"analyses\" / (str(RUN_TO_ANALYSE))\n",
    "\n",
    "PARTIAL_FANOVA_DIR = ANALYSIS_OUTPUT_DIR / \"partial_fanova\" / \"overall\"\n",
    "PARTIAL_FANOVA_DIR.mkdir(parents=True, exist_ok=True)\n",
    "\n",
    "N_ITERATIONS = 10"
   ]
  },
  {
   "cell_type": "code",
   "execution_count": null,
   "metadata": {},
   "outputs": [],
   "source": [
    "from fairness_multiverse.analysis import MultiverseFanova\n",
    "import joblib\n",
    "\n",
    "def quantify_importance_for_fraction(fraction: float, base_directory = PARTIAL_FANOVA_DIR):\n",
    "    # Get random subset of the data\n",
    "    df = df_agg.sample(frac = fraction).reset_index(drop = True)\n",
    "    data_hash = joblib.hash(df)\n",
    "\n",
    "    # Create directory for this fraction\n",
    "    directory = base_directory / f\"fraction-{fraction}\"\n",
    "    directory.mkdir(exist_ok = True)\n",
    "\n",
    "    # Run FANOVA on subset\n",
    "    partial_fanova = MultiverseFanova(features = df[[\"universe_model\", \"universe_exclude_features\", \"universe_exclude_subgroups\"]], outcome = df[main_cp_metric])\n",
    "    partial_fanova.quantify_importance(save_to = directory / f\"partial-fanova_importance_interactions-majmin-{fraction}-{data_hash}.csv\")"
   ]
  },
  {
   "cell_type": "code",
   "execution_count": null,
   "metadata": {},
   "outputs": [],
   "source": [
    "for i in tqdm(range(N_ITERATIONS)):\n",
    "    quantify_importance_for_fraction(0.01)"
   ]
  },
  {
   "cell_type": "code",
   "execution_count": null,
   "metadata": {},
   "outputs": [],
   "source": [
    "for i in tqdm(range(N_ITERATIONS)):\n",
    "    quantify_importance_for_fraction(0.05)"
   ]
  },
  {
   "cell_type": "code",
   "execution_count": null,
   "metadata": {},
   "outputs": [],
   "source": [
    "for i in tqdm(range(N_ITERATIONS)):\n",
    "    quantify_importance_for_fraction(0.1)"
   ]
  },
  {
   "cell_type": "code",
   "execution_count": null,
   "metadata": {},
   "outputs": [],
   "source": [
    "for i in tqdm(range(N_ITERATIONS)):\n",
    "    quantify_importance_for_fraction(0.2)"
   ]
  },
  {
   "cell_type": "code",
   "execution_count": null,
   "metadata": {},
   "outputs": [],
   "source": []
  }
 ],
 "metadata": {
  "kernelspec": {
   "display_name": "Python (CMA Fairness)",
   "language": "python",
   "name": "cma_fair_env"
  },
  "language_info": {
   "codemirror_mode": {
    "name": "ipython",
    "version": 3
   },
   "file_extension": ".py",
   "mimetype": "text/x-python",
   "name": "python",
   "nbconvert_exporter": "python",
   "pygments_lexer": "ipython3",
   "version": "3.10.12"
  }
 },
 "nbformat": 4,
 "nbformat_minor": 4
}
